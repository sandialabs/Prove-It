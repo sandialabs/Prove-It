{
 "cells": [
  {
   "cell_type": "markdown",
   "metadata": {},
   "source": [
    "Demonstrations for the theory of <a class=\"ProveItLink\" href=\"theory.ipynb\">proveit.core_expr_types.tuples</a>\n",
    "========"
   ]
  },
  {
   "cell_type": "code",
   "execution_count": 1,
   "metadata": {},
   "outputs": [],
   "source": [
    "import proveit\n",
    "from proveit import (Lambda, ExprTuple, ExprRange, IndexedVar, safe_dummy_var,\n",
    "                     defaults, Function, ProofFailure)\n",
    "from proveit import A, a, b, f, g, i, j, k, l, m, n, x, y\n",
    "from proveit.logic import Equals, NotEquals, Not, EvaluationError, InSet\n",
    "from proveit.linear_algebra import TensorProd\n",
    "from proveit.numbers import (zero, one, two, three, four, e as e_nat, Add, Exp,\n",
    "                             Integer, Mult, Natural, NaturalPos, Neg, num, subtract)\n",
    "from proveit.core_expr_types import Len\n",
    "from proveit.core_expr_types import (\n",
    "        a_i_to_j, x_1_to_n, y_1_to_n, f_i_to_j, f_i_to_jp1)\n",
    "from proveit.core_expr_types.tuples import (\n",
    "        len_of_ranges_with_repeated_indices_from_1, range_from1_len,\n",
    "        len_of_ranges_with_repeated_indices_from_1, len_of_ranges_with_repeated_indices,\n",
    "        len_of_empty_range_of_ranges)\n",
    "from proveit.core_expr_types.tuples import general_range_of_ranges\n",
    "%begin demonstrations"
   ]
  },
  {
   "cell_type": "markdown",
   "metadata": {},
   "source": [
    "### Proving the equality of ExprTuples"
   ]
  },
  {
   "cell_type": "code",
   "execution_count": 2,
   "metadata": {},
   "outputs": [
    {
     "data": {
      "text/html": [
       "<span style=\"font-size:20px;\"> <a class=\"ProveItLink\" href=\"../__pv_it/demonstrations/1480442cf25c0eea590f9688329f9d97e9e8a78e0/proof.ipynb\" style=\"text-decoration: none\">&nbsp;&#x22A2;&nbsp;&nbsp;</a><a class=\"ProveItLink\" href=\"../__pv_it/demonstrations/2c164013cd0a62e94f3035385ad45d6e8f7d2c7e0/expr.ipynb\"><img src=\"data:image/png;base64,iVBORw0KGgoAAAANSUhEUgAAAMUAAAAVBAMAAAAEKDfsAAAAMFBMVEX///8AAAAAAAAAAAAAAAAA\n",
       "AAAAAAAAAAAAAAAAAAAAAAAAAAAAAAAAAAAAAAAAAAAv3aB7AAAAD3RSTlMAInZUiRDNmWbv3US7\n",
       "qzJazP2FAAAACXBIWXMAAA7EAAAOxAGVKw4bAAACS0lEQVRIx42VQWgTQRSG/2QzbrKbhNCjUJhW\n",
       "wVMlglbwYqmgJ2URbBEakkvRYxARiUijHjx2rRdRDwVbCgUlePPUtJceiihBpQcPET15Sq16EYJv\n",
       "dmeT7mw2nYHA5N//mzfz5s0MgAI02iBTQhtMFnWsbwdox7TB0weVuecx1mQ9IhlTuiCrhKQbcfOZ\n",
       "jygz2qAZnuB+nPVxRLmrDWZCgv0nzppxVMXVBidDQmo5znpE3RCjog3eFkX4aYxLoTXhlxkb//zj\n",
       "gt87UUeJBvmosKbY8tHpEQ3wJv17V8jKpZbn2Z4/AiZ4zZ+h4WIRSHvTrq2L9jpYmP0EH5zDwVcU\n",
       "8BlMudTzDpa8zgMsOrte7zt9+0qpcZV1WDTv63XUNMAXFLoDS9b6HeC312mLrtecDBd4vqPuZQNY\n",
       "AFY0QIqRaaLc8PUV2EERLgWDbTj5LqXFHRDjJdg/DZByVeYib7LKTbkz9h6uBVNM0vjGsrIflCv2\n",
       "C+mOBrhFMYr4YhSYkLsixbSLbCfnYgqe9h5Zqql0U1lHloPtI1c5JfzDwcvCbayZKIvC2cU22F8K\n",
       "3p117aKv3cdGXZZq6EQQv4Vz1arwDwd/UuzWldGTsFZJLl0idd0Bu8XPPoLUphfogrYaSow8Ja90\n",
       "/FurLfzDQasdQGd6J7h/bfjaRfodjRzgNxF/HJiuBnIvGan+OKSlKuxp5AYM3ZKpQ8FNqTIefL/a\n",
       "cwrN4jkCEs1IjGxB9ceCc8Fj0jPw/gMjEvDw3sEB+401VX8smOA6T+bYAG1EE/wP4cm4jGtTCCIA\n",
       "AAAASUVORK5CYII=\n",
       "\" style=\"display:inline;vertical-align:middle;\" /></a></span>"
      ],
      "text/plain": [
       "|- (a, b, x, y) = (a, b, x, y)"
      ]
     },
     "metadata": {},
     "output_type": "display_data"
    }
   ],
   "source": [
    "Equals(ExprTuple(a, b, x, y), ExprTuple(a, b, x, y)).prove()"
   ]
  },
  {
   "cell_type": "code",
   "execution_count": 3,
   "metadata": {},
   "outputs": [
    {
     "data": {
      "text/html": [
       "<span style=\"font-size:20px;\"> <a class=\"ProveItLink\" href=\"../__pv_it/demonstrations/f7f025d26279332dfedb1791f6eacfd879fcaedd0/proof.ipynb\" style=\"text-decoration: none\">&nbsp;&#x22A2;&nbsp;&nbsp;</a><a class=\"ProveItLink\" href=\"../__pv_it/demonstrations/9a14cb59695ddf5d2669e50c12c720d5149b9fa90/expr.ipynb\"><img src=\"data:image/png;base64,iVBORw0KGgoAAAANSUhEUgAAAJ4AAAAVCAMAAACALKdSAAAAPFBMVEX///8AAAAAAAAAAAAAAAAA\n",
       "AAAAAAAAAAAAAAAAAAAAAAAAAAAAAAAAAAAAAAAAAAAAAAAAAAAAAAAAAAAo1xBWAAAAE3RSTlMA\n",
       "InZUiRDNmWbv3US7qzLn9enz+YF6hwAAAAlwSFlzAAAOxAAADsQBlSsOGwAAAidJREFUSMetV1my\n",
       "4yAMBIHMzpsZ7n/XYX02NsRQFX8k5Q60pJYECiHxoeRLD/3iwt8lwL7lnoHJDwK71xWLjYvxyQK0\n",
       "Sm/6B3IIe9u9Ti0OuPCYrzjErn4HjlDru7CPDS4h5wvCdtrlKCDv+kzLDS71If0Bt8tPDbbYvhPU\n",
       "Bhf7oDTX+91xPKUxvXjs2OASrUyp40D7zjscgOvyixFAzznrsJwtLE5w97TSi9csLnG1aI2KJLbL\n",
       "JoZYnBiu5LEawAERV1k5YSldMpSCObUROj8/f9Kne+i7xKWL86hkJuyykJ1VF0UlTVuRuEsGPSvb\n",
       "XDk8mHoRr1lc41KmhJL91d2BJLIQ4YL5X/SicY2ghuHDvfLuvVwtrnHVxcrmbJouTJ6793a4KBg2\n",
       "uA++FsmLeM3iGleRGgOcKe9OPXE7XEyqRcSHylDdYrqvvb//SgW6e3LXuCwU99IedxBGs8TFPd9q\n",
       "EtstZ4hTuYJPMDaUax8pRPt2jVSLa1z1IEh7mBapnWLDll9T0VpBToQFjyJSGnYBY8QuCSH7Y6O1\n",
       "1/MWKRYXuXxJBjrgnjpISdcaK8br/VMRFADRoGRXMK8D0c4fbd7u4GJxlUv7BwHDd+QG8ho+1e+z\n",
       "ycDinGtwifMF5AQTGyo2vO6HA8xobJhz2Xvn46PdcTRmNlDHb1fpad8YcjzYPSx+4kJ7nwOfk+Fw\n",
       "XGx5kSDM2LDGyZy7w0XhW8M83GTxs/8RsMj1H6yQEuHv1uI8AAAAAElFTkSuQmCC\n",
       "\" style=\"display:inline;vertical-align:middle;\" /></a></span>"
      ],
      "text/plain": [
       "|- (a, b, x, y) != (x, y)"
      ]
     },
     "metadata": {},
     "output_type": "display_data"
    }
   ],
   "source": [
    "ExprTuple(a, b, x, y).deduce_equal_or_not(ExprTuple(x, y))"
   ]
  },
  {
   "cell_type": "code",
   "execution_count": 4,
   "metadata": {},
   "outputs": [
    {
     "data": {
      "text/html": [
       "<span style=\"font-size:20px;\"><a class=\"ProveItLink\" href=\"../__pv_it/demonstrations/cac2bd3ca6b20070ff8a5499aa5853c756b3a91d0/expr.ipynb\"><img src=\"data:image/png;base64,iVBORw0KGgoAAAANSUhEUgAAADIAAAAUCAMAAAD4FJ6oAAAAPFBMVEX///8AAAAAAAAAAAAAAAAA\n",
       "AAAAAAAAAAAAAAAAAAAAAAAAAAAAAAAAAAAAAAAAAAAAAAAAAAAAAAAAAAAo1xBWAAAAE3RSTlMA\n",
       "IquJdkTvuxBmmd1UzTLn9enzF+Xi+wAAAAlwSFlzAAAOxAAADsQBlSsOGwAAAMtJREFUKM+Vk9kS\n",
       "wyAIRREx4trF///XQpxpk3RqBx4So3JPLiLAKjKDMXq0ZkDsZgjaIc6aERYQh54cfU23M4SJkLv3\n",
       "VdU2WYvjXc9c9rjd9fkhZQBCklXJ3tK+7w8kyWcSXZTdeehM8Vcn+VI+1W1zvOl58QhryNw6DfPQ\n",
       "dxqHLlEPj+d0dKxaGCLDLClaAmxQT7Lt0l0cA+AmAzUQhVJLhtO/14sTqKNzlpSgAEby3SH1FQQ4\n",
       "E4lQqr8Ot3pzdzXzPUl2SDFDYH2zXs8pBbM7bWFSAAAAAElFTkSuQmCC\n",
       "\" style=\"display:inline;vertical-align:middle;\" /></a> <a class=\"ProveItLink\" href=\"../__pv_it/demonstrations/3bfb9a601c3dcd4a8bb6396f35b57d85ee2ada760/proof.ipynb\" style=\"text-decoration: none\">&nbsp;&#x22A2;&nbsp;&nbsp;</a><a class=\"ProveItLink\" href=\"../__pv_it/demonstrations/a7bab7f77b9ce07a59d83e616555a510509b4cbe0/expr.ipynb\"><img src=\"data:image/png;base64,iVBORw0KGgoAAAANSUhEUgAAAMUAAAAVCAMAAADB2NrtAAAAPFBMVEX///8AAAAAAAAAAAAAAAAA\n",
       "AAAAAAAAAAAAAAAAAAAAAAAAAAAAAAAAAAAAAAAAAAAAAAAAAAAAAAAAAAAo1xBWAAAAE3RSTlMA\n",
       "InZUiRDNmWbv3US7qzLn9enz+YF6hwAAAAlwSFlzAAAOxAAADsQBlSsOGwAAAkFJREFUWMOtl1mW\n",
       "pCAQRZlCZqq72f9em7EUDdOSwg/zGInvQkwCIemiZNFFlw/8uRLjqyQtu/lDwvC4jviN5OJmADht\n",
       "XmoyhZqDGx5vifNI2O5HbPKtazbArC4MU93IcqRU9wPi68grbBLBj+n1gTiL1B9yLsLrPNXIK24s\n",
       "Zk2WI/mH8Arzvtq2q6PtGIpPxFmk7JVGvWB07DGbZ8wPEYZkgCAEH2wlRaDOVfgrZQxFJ2Jas8ju\n",
       "O6sTyw3xhJgKB+JxDikFmWdEHj0mCM85omLN0t3T0pTr60+++0u0MK1ZpKlrBK0Kdwh9WZM+xEfR\n",
       "/CoQf0ibwOtrvnZTrh9C0YmY1jRS27risiwzNHJZ3BoPtvBtPbivURs6xHNVnLtWI2Ja08imqV2J\n",
       "px2cJkrTOLU+zdC+EmJomfkQik5EtWaRNb4Q2Z5nQ+uWp9Znc9ICXBzI2uy5Gevi779aHf6cUajW\n",
       "LNKxuor8ut8IpyVgVTL0eoG+P7DE61JduzH1BN9v2RPu6WPeiKjWLLJ1xizNjcwdIfWJ+m8uKCfJ\n",
       "buExgEySlh+MyTE++0uNfbSX6/VbXom41iwy1AwAz0SgnuVMMwaaTbTNQrOAZCzNS/GjsYxjsndH\n",
       "Y5/2VZWIa00jTbhwODxbTkbRvETN8+4VIf4aiezfxA8suzGrgeboTg/d4mI7xl8j3bkVwqWxAXb6\n",
       "6UaTfn2Tp2NtK/wgcSEuQII7nzuuJxH0eNKjrJi0+PwM3JyFyHokZauOj+zk5HB3WF5GrMj/BcUX\n",
       "HC/1HMsAAAAASUVORK5CYII=\n",
       "\" style=\"display:inline;vertical-align:middle;\" /></a></span>"
      ],
      "text/plain": [
       "{a != x} |- (a, b, x, y) != (x, b, x, y)"
      ]
     },
     "metadata": {},
     "output_type": "display_data"
    }
   ],
   "source": [
    "ExprTuple(a, b, x, y).deduce_equal_or_not(\n",
    "    ExprTuple(x, b, x, y), assumptions=[NotEquals(a, x)])"
   ]
  },
  {
   "cell_type": "code",
   "execution_count": 5,
   "metadata": {},
   "outputs": [
    {
     "data": {
      "text/html": [
       "<strong id=\"defaults.assumptions\">defaults.assumptions:</strong> <a class=\"ProveItLink\" href=\"../__pv_it/demonstrations/aeeb89774b5bbb442a5379552cb8d33d88ef64410/expr.ipynb\"><img src=\"data:image/png;base64,iVBORw0KGgoAAAANSUhEUgAAAFAAAAAZBAMAAABUaLQ6AAAAMFBMVEX///8AAAAAAAAAAAAAAAAA\n",
       "AAAAAAAAAAAAAAAAAAAAAAAAAAAAAAAAAAAAAAAAAAAv3aB7AAAAD3RSTlMAZkRUmRDNuyLviTJ2\n",
       "3asqG0tJAAAACXBIWXMAAA7EAAAOxAGVKw4bAAABh0lEQVQ4y42TP0jDQBTGv6ZJG5u2FldFgoOD\n",
       "i90c20VcM6mLbUBcJSoYRIVsjmZ20lFw6CCCk11EVCwZLLgEKqJ2UNBC0eLi3bXJpRLbPsi7f7/7\n",
       "8u7ePQAj6GUidXnqovmeYJy6Perm0R+MlIlbC1te+trUcNxSOyCqgGyHCm0INUgfniIqJNjDUPDd\n",
       "OgJszJlbppkBihqG1VDwyYhZcHzFWAYXWhdw5bo6betjsh4ARQN3XdzkZadTT5duAmDSxgsgVBZP\n",
       "dthYXvF21GHEVQ4KTZhAIv6GosVCsTh4KlUdLzNQfrAKTKQM7JcYCA5GsjP85uQG7gGtqCLHznTu\n",
       "EjPaIJ7THJQaVBE50FCJLQQUUZAcrsh+TalPiY5TQVApG/5Q+cYraQ4QbSbYLZS9lW3y3XKQnPqa\n",
       "6Sb1UTax7K3Qjqj7YMTGtAbBgfSYZROF9XaizlpETeKgWMNQd66ndl09JPUk1/+8nj9GXo9iDwKO\n",
       "0wc1CPjQv2bg10x0gCBZFfapa2azwC8+i2H5tyAe0AAAAABJRU5ErkJggg==\n",
       "\" style=\"display:inline;vertical-align:middle;\" /></a><br>"
      ],
      "text/plain": [
       "<IPython.core.display.HTML object>"
      ]
     },
     "metadata": {},
     "output_type": "display_data"
    }
   ],
   "source": [
    "defaults.assumptions = [InSet(n, NaturalPos)]"
   ]
  },
  {
   "cell_type": "code",
   "execution_count": 6,
   "metadata": {},
   "outputs": [
    {
     "data": {
      "text/html": [
       "<strong id=\"partitioned\">partitioned:</strong> <span style=\"font-size:20px;\"><a class=\"ProveItLink\" href=\"../../../numbers/number_sets/natural_numbers/__pv_it/theorems/132c57ec1224a4beaf274a23bd799047020206590/expr.ipynb\"><img src=\"data:image/png;base64,iVBORw0KGgoAAAANSUhEUgAAAEEAAAATBAMAAAA9n32KAAAAMFBMVEX///8AAAAAAAAAAAAAAAAA\n",
       "AAAAAAAAAAAAAAAAAAAAAAAAAAAAAAAAAAAAAAAAAAAv3aB7AAAAD3RSTlMARHarECKJu90yVM1m\n",
       "75kejotwAAAACXBIWXMAAA7EAAAOxAGVKw4bAAAA90lEQVQoz2NgwAf4GAgBdrJVeHyvdmDI/SuA\n",
       "x4wqRgMGlg/4bLEIyGFguMDwvLy2vPwAVhVWBdwBDA3YzFDv6NgAok0PsW7AqkJaBcowZZ6ghlDB\n",
       "qOyaVAQWZ90CU2rKUMAuAFfBxm7E4B8AYnEHIFTMY2lpgIWpIEcBQ/wEsAoGhAqeBcsvwHgO/gIM\n",
       "6x1ArLkdQFAAUcFgwgxXwbCegcEazHBHMoPBmaUBzgVK/2EBMTiQVXAqFMC51xi4vrCBGEwKMKFK\n",
       "INaEq2D9ycC04SSYuQsmBmLwbYDxGBsYWGwWgJnOhWAXM8z+C9TPsgFbfIhVdGCKAwDDkzTgOh63\n",
       "3AAAAABJRU5ErkJggg==\n",
       "\" style=\"display:inline;vertical-align:middle;\" /></a> <a class=\"ProveItLink\" href=\"../__pv_it/demonstrations/70ba83567320a774c2582d4ce1b40cd3a56b8f7b0/proof.ipynb\" style=\"text-decoration: none\">&nbsp;&#x22A2;&nbsp;&nbsp;</a><a class=\"ProveItLink\" href=\"../__pv_it/demonstrations/cc452778dd2d4e0a885daf544c59d97d989c20270/expr.ipynb\"><img src=\"data:image/png;base64,iVBORw0KGgoAAAANSUhEUgAAAKMAAAAuBAMAAAC2bLS1AAAAMFBMVEX///8AAAAAAAAAAAAAAAAA\n",
       "AAAAAAAAAAAAAAAAAAAAAAAAAAAAAAAAAAAAAAAAAAAv3aB7AAAAD3RSTlMAInZUiRDNmWbv3US7\n",
       "qzJazP2FAAAACXBIWXMAAA7EAAAOxAGVKw4bAAAChUlEQVRIx+2WMWgUQRSG/727cW/vzOUsgmLj\n",
       "ekiCRSBIjJ0RDBaCsAQkKYKmESwPMXpJtWIhVh62QhBCUALKoVUqY8BKkBgUtFAOiU2KGEEtE9/s\n",
       "3s3tzWyyc8zZ+WB35715++/MvGH2A1CEicW9nRoyknwRExs2UkTKV0Js2kwS15SI7RtK3lMijqEi\n",
       "HE+OjJhKHlCmeZOu8cErY5G6S26MRTMya3LvdbrKqXX7cSskuTEWzcgG9Z1b4vYsiCxQsJj93eNj\n",
       "slH70GVjX7y9FBsvhJauyt2PgAJsUiuUGt8NXRt7jzTMaDrbMZJUNZd/Tkhwt7dm7exTZlc088oo\n",
       "F/jtVZF5EUnuZr39JIOMyrcBMZLoWq4CU7XPyIR9DMJFhnx1OVsZk8u+Q4dGdkVOuQSMfp/Fy1Dy\n",
       "6rRwsemB/UEYE41IRl8/eumT9jlZchOYKKUrQ6FkblG41hvqXaJ3cmVqPEGjEclYxzIP1GTJXL3Z\n",
       "ChbltOg4jEMUU2feypjH7QJwVN1j5TZJMQvr3dYMgjWVrJWxjedngYqa8rqZceGXCyY2h7O7Sxtu\n",
       "XC2PyMiv4YQPa0WVnGo7UKVOVz1yJf9gzJ/Cco0OouP4b//Uil0XM0SDOFIY7uqUOSkYo4FKCsZo\n",
       "oJKC0+ViEymMdFmSSCEZDVjp48b5TkghGQ1sDLpznZBCMhrcwQPvE46c+qpLCsloUMctun/ASV1S\n",
       "0EGDh3Rt4aIuKWigQf4nLtPjqS4pJKIBe9tT5f+wfleXFBLRIL0zUc3TFmGrEikITyaFRDRgN9wz\n",
       "d/mAftTbSSHEhRhS0EQDNo9jviYp6KLBIu57uqSgiQYbpffapNAJGmiSgiEaqKTwFwWL6JdiXtYW\n",
       "AAAAAElFTkSuQmCC\n",
       "\" style=\"display:inline;vertical-align:middle;\" /></a></span><br>"
      ],
      "text/plain": [
       "<IPython.core.display.HTML object>"
      ]
     },
     "metadata": {},
     "output_type": "display_data"
    }
   ],
   "source": [
    "partitioned = x_1_to_n.partition(one, assumptions=[InSet(n, NaturalPos)])"
   ]
  },
  {
   "cell_type": "code",
   "execution_count": 7,
   "metadata": {},
   "outputs": [
    {
     "data": {
      "text/html": [
       "<strong id=\"eq\">eq:</strong> <a class=\"ProveItLink\" href=\"../__pv_it/demonstrations/785d9fbdb5938f9d86bfbd9cc05045c3ac530bbf0/expr.ipynb\"><img src=\"data:image/png;base64,iVBORw0KGgoAAAANSUhEUgAAAXAAAAAVBAMAAACteahRAAAAMFBMVEX///8AAAAAAAAAAAAAAAAA\n",
       "AAAAAAAAAAAAAAAAAAAAAAAAAAAAAAAAAAAAAAAAAAAv3aB7AAAAD3RSTlMAInZUiRDNmWbv3US7\n",
       "qzJazP2FAAAACXBIWXMAAA7EAAAOxAGVKw4bAAADXUlEQVRIx7VXX0gUQRj/7d1Ne386u56KENzu\n",
       "IetBOMIse0lKJARhkcICrXsJejyixIzoKkqiyMsIgqCkkMJepJ56CE3oKQwLhYKKA43AB/9ARhB4\n",
       "ffvnZmdnV72H9YObm9/MfL/ft/PNzM4CSCEYS1XYFoApRhHKBMT2ytsUGLdkCY2K+qDYQnlPUz02\n",
       "yHYDLBsY2xm5IUBuyTbpUPOBsfXJDQFySxbNIRYcW0yXG7Bh9gANAeZPnuCGjQv8LM5T2V53qlnY\n",
       "/xL0GktPzx4RcW0eXUBkUhrnwy25ykzra7X3gJFOG4UO5EKf1UGnT4JeU1Gn9Qo4Ei6gnxaesRfV\n",
       "YdMmrWnxkEmuMtP6Wk2NiC4CN/GMBFPR5WQeJ+wzwIKs+bu+GtlV9OtfBDxDoX0DKHy3eblt12Nt\n",
       "0yLcvvcHKtSqyvQiOQY04hEBqMRblbYnxoIqVp/1IrpdWI9pGCDHRWmcl9t2zaFXhFPYgwq1GAmR\n",
       "GhYMcphVhHmgBtwyoqysnsABNxzVq2hwouAN3MNtuv5DTVGA82hFpVqJZSyQ7xsjnSScYrpAbsCo\n",
       "vkbgiSUcR9/ddM7G3QgV7OjENe7Hbbre4IGbEHiBSrUogUZ6DmIc6Bz5ioily8AhIoMmlIwWPvuQ\n",
       "LKCJ3X6IeyYGJrCZIo2OSWPd3I4r1VtdcJdmE7kPFPhokdAE/d2hcwWHfl7Ea4v8dJZDzOkmZH9g\n",
       "F2UUXukoJDJKexbLVgcuY5TOcLVJUnZzO6606IdckI37yJgVj5Y6mfhrnrRzQEc63JOxyONDHCrv\n",
       "LYjnsIu4ka1hHeyctv86kNSMRT1sTEPX4St0gY2PSIG7uQVXVOsuaCxbk4jLmBVS92ixqdol6nuJ\n",
       "eHmXWOT7uOo2bBUhH8VTGiuquWIZt9BvhzxW4nZclZySciB7jJq80MvNURe1IpQIZdC4rojkPNvK\n",
       "x/kLAnReNrxWg/hM0doNWXaf/np8rkIit+NaPf9LF+AQbonQedn4aLXgZMa6vr0rR9ryWwPT+DOW\n",
       "SosCdF65vPYWoaMWjmtJ0lDGPINd3ILrk1JJhLPpTyLkm1Pz0XpKpz49uXGIuD4GpG8D7yxoPjh8\n",
       "7ZKx373faZ1rua4N/dSNIQdqR+wZUbSALmw7fb4Ng+KWHymF/6b5F4wmDAsmAAAAAElFTkSuQmCC\n",
       "\" style=\"display:inline;vertical-align:middle;\" /></a><br>"
      ],
      "text/plain": [
       "<IPython.core.display.HTML object>"
      ]
     },
     "metadata": {},
     "output_type": "display_data"
    }
   ],
   "source": [
    "eq = Equals(ExprTuple(*partitioned.lhs.entries, y), \n",
    "            ExprTuple(*partitioned.rhs.entries, y))"
   ]
  },
  {
   "cell_type": "code",
   "execution_count": 8,
   "metadata": {},
   "outputs": [
    {
     "data": {
      "text/html": [
       "<span style=\"font-size:20px;\"><a class=\"ProveItLink\" href=\"../../../numbers/number_sets/natural_numbers/__pv_it/theorems/132c57ec1224a4beaf274a23bd799047020206590/expr.ipynb\"><img src=\"data:image/png;base64,iVBORw0KGgoAAAANSUhEUgAAAEEAAAATBAMAAAA9n32KAAAAMFBMVEX///8AAAAAAAAAAAAAAAAA\n",
       "AAAAAAAAAAAAAAAAAAAAAAAAAAAAAAAAAAAAAAAAAAAv3aB7AAAAD3RSTlMARHarECKJu90yVM1m\n",
       "75kejotwAAAACXBIWXMAAA7EAAAOxAGVKw4bAAAA90lEQVQoz2NgwAf4GAgBdrJVeHyvdmDI/SuA\n",
       "x4wqRgMGlg/4bLEIyGFguMDwvLy2vPwAVhVWBdwBDA3YzFDv6NgAok0PsW7AqkJaBcowZZ6ghlDB\n",
       "qOyaVAQWZ90CU2rKUMAuAFfBxm7E4B8AYnEHIFTMY2lpgIWpIEcBQ/wEsAoGhAqeBcsvwHgO/gIM\n",
       "6x1ArLkdQFAAUcFgwgxXwbCegcEazHBHMoPBmaUBzgVK/2EBMTiQVXAqFMC51xi4vrCBGEwKMKFK\n",
       "INaEq2D9ycC04SSYuQsmBmLwbYDxGBsYWGwWgJnOhWAXM8z+C9TPsgFbfIhVdGCKAwDDkzTgOh63\n",
       "3AAAAABJRU5ErkJggg==\n",
       "\" style=\"display:inline;vertical-align:middle;\" /></a> <a class=\"ProveItLink\" href=\"../__pv_it/demonstrations/f4274580a6b633869cec12a454333fd9c00aab020/proof.ipynb\" style=\"text-decoration: none\">&nbsp;&#x22A2;&nbsp;&nbsp;</a><a class=\"ProveItLink\" href=\"../__pv_it/demonstrations/785d9fbdb5938f9d86bfbd9cc05045c3ac530bbf0/expr.ipynb\"><img src=\"data:image/png;base64,iVBORw0KGgoAAAANSUhEUgAAAXAAAAAVBAMAAACteahRAAAAMFBMVEX///8AAAAAAAAAAAAAAAAA\n",
       "AAAAAAAAAAAAAAAAAAAAAAAAAAAAAAAAAAAAAAAAAAAv3aB7AAAAD3RSTlMAInZUiRDNmWbv3US7\n",
       "qzJazP2FAAAACXBIWXMAAA7EAAAOxAGVKw4bAAADXUlEQVRIx7VXX0gUQRj/7d1Ne386u56KENzu\n",
       "IetBOMIse0lKJARhkcICrXsJejyixIzoKkqiyMsIgqCkkMJepJ56CE3oKQwLhYKKA43AB/9ARhB4\n",
       "ffvnZmdnV72H9YObm9/MfL/ft/PNzM4CSCEYS1XYFoApRhHKBMT2ytsUGLdkCY2K+qDYQnlPUz02\n",
       "yHYDLBsY2xm5IUBuyTbpUPOBsfXJDQFySxbNIRYcW0yXG7Bh9gANAeZPnuCGjQv8LM5T2V53qlnY\n",
       "/xL0GktPzx4RcW0eXUBkUhrnwy25ykzra7X3gJFOG4UO5EKf1UGnT4JeU1Gn9Qo4Ei6gnxaesRfV\n",
       "YdMmrWnxkEmuMtP6Wk2NiC4CN/GMBFPR5WQeJ+wzwIKs+bu+GtlV9OtfBDxDoX0DKHy3eblt12Nt\n",
       "0yLcvvcHKtSqyvQiOQY04hEBqMRblbYnxoIqVp/1IrpdWI9pGCDHRWmcl9t2zaFXhFPYgwq1GAmR\n",
       "GhYMcphVhHmgBtwyoqysnsABNxzVq2hwouAN3MNtuv5DTVGA82hFpVqJZSyQ7xsjnSScYrpAbsCo\n",
       "vkbgiSUcR9/ddM7G3QgV7OjENe7Hbbre4IGbEHiBSrUogUZ6DmIc6Bz5ioily8AhIoMmlIwWPvuQ\n",
       "LKCJ3X6IeyYGJrCZIo2OSWPd3I4r1VtdcJdmE7kPFPhokdAE/d2hcwWHfl7Ea4v8dJZDzOkmZH9g\n",
       "F2UUXukoJDJKexbLVgcuY5TOcLVJUnZzO6606IdckI37yJgVj5Y6mfhrnrRzQEc63JOxyONDHCrv\n",
       "LYjnsIu4ka1hHeyctv86kNSMRT1sTEPX4St0gY2PSIG7uQVXVOsuaCxbk4jLmBVS92ixqdol6nuJ\n",
       "eHmXWOT7uOo2bBUhH8VTGiuquWIZt9BvhzxW4nZclZySciB7jJq80MvNURe1IpQIZdC4rojkPNvK\n",
       "x/kLAnReNrxWg/hM0doNWXaf/np8rkIit+NaPf9LF+AQbonQedn4aLXgZMa6vr0rR9ryWwPT+DOW\n",
       "SosCdF65vPYWoaMWjmtJ0lDGPINd3ILrk1JJhLPpTyLkm1Pz0XpKpz49uXGIuD4GpG8D7yxoPjh8\n",
       "7ZKx373faZ1rua4N/dSNIQdqR+wZUbSALmw7fb4Ng+KWHymF/6b5F4wmDAsmAAAAAElFTkSuQmCC\n",
       "\" style=\"display:inline;vertical-align:middle;\" /></a></span>"
      ],
      "text/plain": [
       "{n in NaturalPos} |- (x_{1}, x_{2}, ..., x_{n}, y) = (x_{1},x_{2}, x_{3}, ..., x_{n}, y)"
      ]
     },
     "metadata": {},
     "output_type": "display_data"
    }
   ],
   "source": [
    "eq.prove(assumptions=[InSet(n, NaturalPos)])"
   ]
  },
  {
   "cell_type": "code",
   "execution_count": 9,
   "metadata": {},
   "outputs": [
    {
     "data": {
      "text/html": [
       "<strong id=\"shifted\">shifted:</strong> <span style=\"font-size:20px;\"><a class=\"ProveItLink\" href=\"../../../numbers/number_sets/natural_numbers/__pv_it/theorems/132c57ec1224a4beaf274a23bd799047020206590/expr.ipynb\"><img src=\"data:image/png;base64,iVBORw0KGgoAAAANSUhEUgAAAEEAAAATBAMAAAA9n32KAAAAMFBMVEX///8AAAAAAAAAAAAAAAAA\n",
       "AAAAAAAAAAAAAAAAAAAAAAAAAAAAAAAAAAAAAAAAAAAv3aB7AAAAD3RSTlMARHarECKJu90yVM1m\n",
       "75kejotwAAAACXBIWXMAAA7EAAAOxAGVKw4bAAAA90lEQVQoz2NgwAf4GAgBdrJVeHyvdmDI/SuA\n",
       "x4wqRgMGlg/4bLEIyGFguMDwvLy2vPwAVhVWBdwBDA3YzFDv6NgAok0PsW7AqkJaBcowZZ6ghlDB\n",
       "qOyaVAQWZ90CU2rKUMAuAFfBxm7E4B8AYnEHIFTMY2lpgIWpIEcBQ/wEsAoGhAqeBcsvwHgO/gIM\n",
       "6x1ArLkdQFAAUcFgwgxXwbCegcEazHBHMoPBmaUBzgVK/2EBMTiQVXAqFMC51xi4vrCBGEwKMKFK\n",
       "INaEq2D9ycC04SSYuQsmBmLwbYDxGBsYWGwWgJnOhWAXM8z+C9TPsgFbfIhVdGCKAwDDkzTgOh63\n",
       "3AAAAABJRU5ErkJggg==\n",
       "\" style=\"display:inline;vertical-align:middle;\" /></a> <a class=\"ProveItLink\" href=\"../__pv_it/demonstrations/debeead6bee95421e657c2a1f15c15f082e170900/proof.ipynb\" style=\"text-decoration: none\">&nbsp;&#x22A2;&nbsp;&nbsp;</a><a class=\"ProveItLink\" href=\"../__pv_it/demonstrations/07263f59ecc9b2b5310ac562d5e7cdd0460781f00/expr.ipynb\"><img src=\"data:image/png;base64,iVBORw0KGgoAAAANSUhEUgAAAY0AAAAZBAMAAAA/CW8DAAAAMFBMVEX///8AAAAAAAAAAAAAAAAA\n",
       "AAAAAAAAAAAAAAAAAAAAAAAAAAAAAAAAAAAAAAAAAAAv3aB7AAAAD3RSTlMAInZUiRDNmWbv3US7\n",
       "qzJazP2FAAAACXBIWXMAAA7EAAAOxAGVKw4bAAADoklEQVRYw81YTWgTQRR++Vl30zRpBEX00hiK\n",
       "olCoUC30oMVGb8IgSHuoNhfBm0H8qbVCVFDEg6EeK1IQUQpKUC8FwVQQFBcJBUEPQih6UMS2aLwI\n",
       "rfOzOzszu5sWtl180HTf7HvfN9/Om9mZBVgHMyoQpunrBdwTqgyIVOm/TCAQj2ytEK4OuEp+ol2B\n",
       "MJ66m1pLIetoQfinOxhG1N3prSHLgGhtDYrgpKvlbNg6tAae7EGL4Iar5W/YOuAUQCIoRgIpDelG\n",
       "6DrGAPYFxdigDmh0MnQdu1gxH+08kRdWLcX1MDEiXlNupgrNMLTchy/9q+3fyj1h9hKR0oJidFYX\n",
       "HqLiepgYYdCFYnSK2GO67FabYejQmR1drQ4LZY/anlX8+Trcxz3JGI1UCQatlYu5Wv4z8t13sARm\n",
       "sbJaaDUeke/gw3DdurgCt9FHxwVO688jb3NIqg4ybnsFJvDEBB1jpXPW82OuDv5jwiJsZ0F9KxXt\n",
       "CCObpGOD/+Z2W3frcJ67pDuc1p/nuNRIUpN9IOEOUx14zSEDFeOAxG2rRJaaLFLOyCa9xoNFJOqw\n",
       "iC/p9qeX3x/nbitItH48l+S2Xvul5eC207rC8ySjIQGQuAZqpoNGjMzt5P0Q5gfTQSLaEdxx6Ugu\n",
       "wrFV66AdmwSLytHRL+uYz8ArgKHKJ4gzQA24C/FJ6iqGeMTgdCmBd4lGVV2vqnbEPIJHIh/O1d6l\n",
       "ytDn0oGa8EQKNpWjo0fWgderIwAHvl6EZwxwuMBd+I6oS3+0P+IFi9i8A9owm96nvj/KdgTWMS7w\n",
       "kdzY0kA52aXqkOEVHjzHLCpHxwtZx03cW4CBXGykiwG2POBu5DVz6byFh/bFFOIRszBNWtVDU7Jh\n",
       "R+C6+qWb5l3zDePDudqZbM81Rj9mvjXNEhsPgurHE6sxqrSJbYYh/QARFy7jpLrNTwH38u5sgY2i\n",
       "y6OcErgHF9IA21whE3yWKvNcyFXqKob8edJVm8q3rvBL0ChKOniRRN7/PCe43OLOMWwBnuwHGPHf\n",
       "70azyZrIFwc/HfEmPHieW1ROak7SQfa7MGN36/DvLGh8PU0sLy8IrrNVcOqnBh0l+1Ap2jd+ld+J\n",
       "LL5Npw+KudSlOiitcMfNg3vIqITUGRBxDfK0hqQ5qkxZ93qlKmt1H2xTypao6pvriyq1PHdv0qoS\n",
       "bgvpQyQbaKu5feXzeTHghw49491SlM7n62Dda4x3SG245fW95P//fqV5vSSF0cHuPyFjFvN3l2zZ\n",
       "AAAAAElFTkSuQmCC\n",
       "\" style=\"display:inline;vertical-align:middle;\" /></a></span><br>"
      ],
      "text/plain": [
       "<IPython.core.display.HTML object>"
      ]
     },
     "metadata": {},
     "output_type": "display_data"
    }
   ],
   "source": [
    "shifted = x_1_to_n.shift_equivalence(new_start=zero, assumptions=[InSet(n, NaturalPos)])"
   ]
  },
  {
   "cell_type": "code",
   "execution_count": 10,
   "metadata": {},
   "outputs": [
    {
     "data": {
      "text/html": [
       "<strong id=\"eq\">eq:</strong> <a class=\"ProveItLink\" href=\"../__pv_it/demonstrations/7a1d1e7a2f113012b26645ef71bfbb44077a1e9a0/expr.ipynb\"><img src=\"data:image/png;base64,iVBORw0KGgoAAAANSUhEUgAAAbUAAAAZBAMAAABELa3PAAAAMFBMVEX///8AAAAAAAAAAAAAAAAA\n",
       "AAAAAAAAAAAAAAAAAAAAAAAAAAAAAAAAAAAAAAAAAAAv3aB7AAAAD3RSTlMAInZUiRDNmWbv3US7\n",
       "qzJazP2FAAAACXBIWXMAAA7EAAAOxAGVKw4bAAAER0lEQVRYw9VYX6hURRj/7Z/T2f9uUIS93NMi\n",
       "LQnCBuZVH2rR26WXYBBCA819EXxrCbPb1WhVSELI7foSGHEpQhGKS/UiFHdvEBStsYiCgsGi9ZCI\n",
       "915qIwi0b2b2zM6Zc84adC6HBnZ3frPf/Ob7zXzzzZwDrGnJLCCeYq/9EJMxSUOiI37KEdEF8FiN\n",
       "uLThOP9K1iJi+8LfVGjFpi3H6GtzVGxJv5D1sUlDshdp2BzwtRyKT5s1oIQSXdic9LX8HZ82HASy\n",
       "0bFlmdFQGsSo7SiwJTq2h8wQSM7HqO0puSV2bXplSsuWBgyI5crVX3bquNrCPiDdM+yKjXFsJsvY\n",
       "8kCfNNMZWOTJIuNhiWbysq1NsQGDDv1NzqyG06k2TtMlRKSl2Qu8fCaOgM44NpNlbBmyPG22O37T\n",
       "+jZkVoDlPj4hn8qZQbGFPcOMKaE19TMLG+gYTrNrGr5Fw94ASKERpD1FPrVBLdc7HhYFoRwIurtJ\n",
       "Fu8Vjne1YfKWarMo0qROLOAsIdjEWqoMZ1dCG+Fr18dhD2ZZB3PUccU8P5suW8bJizWkz82NHhYJ\n",
       "uYvKgYAiWXjga4V3zddh8FrkCvmD/UIbRB0pRc3huoXEvfAQmfPCRVYi43zQukm2bB+rVBWXvO1e\n",
       "FgEL8DgQlIS5i0e8bdvdQ9XDmx/weMSEiEnyrWwxjZrDDBujLb+Kl3DyvUpziA8j2XZ90/ab1MbZ\n",
       "JhjO+LQJln+rTbg4j8zMzapH206fNlphypFYLuNbYO/CdaQltQUFkZ4X0Ci0Ca0fi23UrVMf4H3Z\n",
       "A5dQ4FurY+bJjsu2zHBe90Gx+LSxoBGHLIkG9lxsZcu6tkkYvNyVSyKW8CLw3K9v4ktJvb+hIG4z\n",
       "AcWX9adWSd3b3c7XErsaGMhGvIVFOtvsunm+tV020jan+TBiMbV5BhpVJAvt2UefxDqma/saBi/s\n",
       "Xv4v+nmXFAC7K6mZmqTOfapg4jsJRUbAObdygcF6zZk8Qavi8A0mTPbteJsmM2c+iFLkD9koJn+3\n",
       "u90Pu99Lj0YsHB7t/tDttuS60T/+EYcsKQqOy7iIUpfKkmS6A4MX1pXqqphv5PquJ4L6GeXYY3hY\n",
       "h8pKzVq2bzf7rsk0fR73GZ8d2XpzyYjFjMkUCx+xRP0/whul8JiUtumGvE9mmh5tKqwSP919XYOj\n",
       "c1rVJpC71Rcm6YbFM8VM+HNA0sn3dB/SCNOWHjMi5ZLECj5/Vu9agck7jZdr8jkAS66Y6T8cWOqc\n",
       "z96/v6LB0Y1G1b5B8gUIk5xTrKvHeL38pmpTVTb04ZFXd+gsAgptwgHtH/+I5CtN0YaW3nUJJu/H\n",
       "uMJPez6Xez2730gG/jxpquUmqeP84Cn4XyoUjStgJ4ylMOYSpbV85b+Udny8W6t83+e4Nwknoov3\n",
       "Ew9+X9L8j6+l7HJwSzPkfcmals0R8z1vNpwa/57r//R+0go62ANXmP74B1zgQLFVhV16AAAAAElF\n",
       "TkSuQmCC\n",
       "\" style=\"display:inline;vertical-align:middle;\" /></a><br>"
      ],
      "text/plain": [
       "<IPython.core.display.HTML object>"
      ]
     },
     "metadata": {},
     "output_type": "display_data"
    }
   ],
   "source": [
    "eq = Equals(ExprTuple(*shifted.lhs.entries, y), \n",
    "            ExprTuple(*shifted.rhs.entries, y))"
   ]
  },
  {
   "cell_type": "code",
   "execution_count": 11,
   "metadata": {},
   "outputs": [
    {
     "data": {
      "text/html": [
       "<span style=\"font-size:20px;\"><a class=\"ProveItLink\" href=\"../../../numbers/number_sets/natural_numbers/__pv_it/theorems/132c57ec1224a4beaf274a23bd799047020206590/expr.ipynb\"><img src=\"data:image/png;base64,iVBORw0KGgoAAAANSUhEUgAAAEEAAAATBAMAAAA9n32KAAAAMFBMVEX///8AAAAAAAAAAAAAAAAA\n",
       "AAAAAAAAAAAAAAAAAAAAAAAAAAAAAAAAAAAAAAAAAAAv3aB7AAAAD3RSTlMARHarECKJu90yVM1m\n",
       "75kejotwAAAACXBIWXMAAA7EAAAOxAGVKw4bAAAA90lEQVQoz2NgwAf4GAgBdrJVeHyvdmDI/SuA\n",
       "x4wqRgMGlg/4bLEIyGFguMDwvLy2vPwAVhVWBdwBDA3YzFDv6NgAok0PsW7AqkJaBcowZZ6ghlDB\n",
       "qOyaVAQWZ90CU2rKUMAuAFfBxm7E4B8AYnEHIFTMY2lpgIWpIEcBQ/wEsAoGhAqeBcsvwHgO/gIM\n",
       "6x1ArLkdQFAAUcFgwgxXwbCegcEazHBHMoPBmaUBzgVK/2EBMTiQVXAqFMC51xi4vrCBGEwKMKFK\n",
       "INaEq2D9ycC04SSYuQsmBmLwbYDxGBsYWGwWgJnOhWAXM8z+C9TPsgFbfIhVdGCKAwDDkzTgOh63\n",
       "3AAAAABJRU5ErkJggg==\n",
       "\" style=\"display:inline;vertical-align:middle;\" /></a> <a class=\"ProveItLink\" href=\"../__pv_it/demonstrations/f4274580a6b633869cec12a454333fd9c00aab020/proof.ipynb\" style=\"text-decoration: none\">&nbsp;&#x22A2;&nbsp;&nbsp;</a><a class=\"ProveItLink\" href=\"../__pv_it/demonstrations/9c7a4222b1c632b0f13e8474097c80b361bc89bf0/expr.ipynb\"><img src=\"data:image/png;base64,iVBORw0KGgoAAAANSUhEUgAAALcAAAAuBAMAAACYKZUnAAAAMFBMVEX///8AAAAAAAAAAAAAAAAA\n",
       "AAAAAAAAAAAAAAAAAAAAAAAAAAAAAAAAAAAAAAAAAAAv3aB7AAAAD3RSTlMAInZUiRDNmWbv3US7\n",
       "qzJazP2FAAAACXBIWXMAAA7EAAAOxAGVKw4bAAAC50lEQVRYw+2WT2jTUBzHv2n7TNOuXT2I4sVY\n",
       "ZMPDYMicNxUdOwhCGMh22LQXwWMR/9SJGPUgnlb0KAxhFGWgFD3ttDnwJMocCgoqRedlhzlBPW77\n",
       "JWnT5L3Xph0pePAHSd/v936/b15ffkk+ADIIx2Q6kf6QxJ9LYgMhaSNiCiGWC0sc54WIaoYmfleI\n",
       "aKFpQzP4yGB44juETbhEx0jf2SFPz3CuxLgM1mtiAogt8XkX6MhHltVH9RDnSozLiEWLmALidm9M\n",
       "zlr21J6YoWAm/idlYqzaN47Lhr4YjbSrBa59pyt9BugSnD0E0lBJN52trsVxVTRevZNRN0PTcZ/C\n",
       "6xJxus86naKumOV2l5WNJo2h+9x5I03JSWHlM/ZkhhkeccuNG83E7YzCt96qewWRYm113j1fBMbL\n",
       "nxBz5hhcFzHyxW033IyxOVPL2BV4gy7qlPgCn3waOPbjGl444udyrotVA+wvnJh/4GTs6kG3YQdx\n",
       "A/N0f9XjvPgqMJqNFvod8UTJdZVXNDtLC03kafAY1YEVqWYsY86pwMSJm/TCTZR58USlNrK37LA7\n",
       "sRs7KSbsiycyjavpWsUwHXvFns37xN1/prxduwx77/1WjyjreHbUrojl2AMKFMQb/7KWO/xbB3Nb\n",
       "TNvcpLYdEZ98d5RcwgHTrkjoKbqEsiCKj/te+NykLqTzEasievs6nbsk3zlFD+mluB//7Z+wTAdl\n",
       "Q4MiGSMNdGhDLEYKEYpERgoRikRG0jrWKMRIgx0TJ0YKhiKW/bBycnuMFAxFKvr0ye0xUjAU3cKU\n",
       "8RF7Dn1tn5GCoahC5AC8x8H2GakVKKJMrOFU+4zUAhQlf+EM/Txpn5ECoYi9ThWtr3CPLmMk1pSR\n",
       "AqEoujFaTFKjsUUOjVyvMSMFQhG7qB+5Y63nZ8XPSA4olZoxUotQxKaxz5QwkqdAwkitQlEJ9wwJ\n",
       "I3kKZIzUIhStZN/JGKleIGWkdqBIRJxIc0YKDYpERtoCDvAN4SQdR+AAAAAASUVORK5CYII=\n",
       "\" style=\"display:inline;vertical-align:middle;\" /></a></span>"
      ],
      "text/plain": [
       "{n in NaturalPos} |- (x_{1}, x_{2}, ..., x_{n}, y) =  \\\\ (x_{1},x_{2}, x_{3}, ..., x_{n}, y)"
      ]
     },
     "metadata": {},
     "output_type": "display_data"
    }
   ],
   "source": [
    "eq.lhs.inner_expr()[0].partition(one)"
   ]
  },
  {
   "cell_type": "code",
   "execution_count": 12,
   "metadata": {},
   "outputs": [
    {
     "data": {
      "text/html": [
       "<span style=\"font-size:20px;\"><a class=\"ProveItLink\" href=\"../../../numbers/number_sets/natural_numbers/__pv_it/theorems/132c57ec1224a4beaf274a23bd799047020206590/expr.ipynb\"><img src=\"data:image/png;base64,iVBORw0KGgoAAAANSUhEUgAAAEEAAAATBAMAAAA9n32KAAAAMFBMVEX///8AAAAAAAAAAAAAAAAA\n",
       "AAAAAAAAAAAAAAAAAAAAAAAAAAAAAAAAAAAAAAAAAAAv3aB7AAAAD3RSTlMARHarECKJu90yVM1m\n",
       "75kejotwAAAACXBIWXMAAA7EAAAOxAGVKw4bAAAA90lEQVQoz2NgwAf4GAgBdrJVeHyvdmDI/SuA\n",
       "x4wqRgMGlg/4bLEIyGFguMDwvLy2vPwAVhVWBdwBDA3YzFDv6NgAok0PsW7AqkJaBcowZZ6ghlDB\n",
       "qOyaVAQWZ90CU2rKUMAuAFfBxm7E4B8AYnEHIFTMY2lpgIWpIEcBQ/wEsAoGhAqeBcsvwHgO/gIM\n",
       "6x1ArLkdQFAAUcFgwgxXwbCegcEazHBHMoPBmaUBzgVK/2EBMTiQVXAqFMC51xi4vrCBGEwKMKFK\n",
       "INaEq2D9ycC04SSYuQsmBmLwbYDxGBsYWGwWgJnOhWAXM8z+C9TPsgFbfIhVdGCKAwDDkzTgOh63\n",
       "3AAAAABJRU5ErkJggg==\n",
       "\" style=\"display:inline;vertical-align:middle;\" /></a> <a class=\"ProveItLink\" href=\"../__pv_it/demonstrations/3e91932c4077a4b917c485825c28adeb67e04bc30/proof.ipynb\" style=\"text-decoration: none\">&nbsp;&#x22A2;&nbsp;&nbsp;</a><a class=\"ProveItLink\" href=\"../__pv_it/demonstrations/7a1d1e7a2f113012b26645ef71bfbb44077a1e9a0/expr.ipynb\"><img src=\"data:image/png;base64,iVBORw0KGgoAAAANSUhEUgAAAbUAAAAZBAMAAABELa3PAAAAMFBMVEX///8AAAAAAAAAAAAAAAAA\n",
       "AAAAAAAAAAAAAAAAAAAAAAAAAAAAAAAAAAAAAAAAAAAv3aB7AAAAD3RSTlMAInZUiRDNmWbv3US7\n",
       "qzJazP2FAAAACXBIWXMAAA7EAAAOxAGVKw4bAAAER0lEQVRYw9VYX6hURRj/7Z/T2f9uUIS93NMi\n",
       "LQnCBuZVH2rR26WXYBBCA819EXxrCbPb1WhVSELI7foSGHEpQhGKS/UiFHdvEBStsYiCgsGi9ZCI\n",
       "915qIwi0b2b2zM6Zc84adC6HBnZ3frPf/Ob7zXzzzZwDrGnJLCCeYq/9EJMxSUOiI37KEdEF8FiN\n",
       "uLThOP9K1iJi+8LfVGjFpi3H6GtzVGxJv5D1sUlDshdp2BzwtRyKT5s1oIQSXdic9LX8HZ82HASy\n",
       "0bFlmdFQGsSo7SiwJTq2h8wQSM7HqO0puSV2bXplSsuWBgyI5crVX3bquNrCPiDdM+yKjXFsJsvY\n",
       "8kCfNNMZWOTJIuNhiWbysq1NsQGDDv1NzqyG06k2TtMlRKSl2Qu8fCaOgM44NpNlbBmyPG22O37T\n",
       "+jZkVoDlPj4hn8qZQbGFPcOMKaE19TMLG+gYTrNrGr5Fw94ASKERpD1FPrVBLdc7HhYFoRwIurtJ\n",
       "Fu8Vjne1YfKWarMo0qROLOAsIdjEWqoMZ1dCG+Fr18dhD2ZZB3PUccU8P5suW8bJizWkz82NHhYJ\n",
       "uYvKgYAiWXjga4V3zddh8FrkCvmD/UIbRB0pRc3huoXEvfAQmfPCRVYi43zQukm2bB+rVBWXvO1e\n",
       "FgEL8DgQlIS5i0e8bdvdQ9XDmx/weMSEiEnyrWwxjZrDDBujLb+Kl3DyvUpziA8j2XZ90/ab1MbZ\n",
       "JhjO+LQJln+rTbg4j8zMzapH206fNlphypFYLuNbYO/CdaQltQUFkZ4X0Ci0Ca0fi23UrVMf4H3Z\n",
       "A5dQ4FurY+bJjsu2zHBe90Gx+LSxoBGHLIkG9lxsZcu6tkkYvNyVSyKW8CLw3K9v4ktJvb+hIG4z\n",
       "AcWX9adWSd3b3c7XErsaGMhGvIVFOtvsunm+tV020jan+TBiMbV5BhpVJAvt2UefxDqma/saBi/s\n",
       "Xv4v+nmXFAC7K6mZmqTOfapg4jsJRUbAObdygcF6zZk8Qavi8A0mTPbteJsmM2c+iFLkD9koJn+3\n",
       "u90Pu99Lj0YsHB7t/tDttuS60T/+EYcsKQqOy7iIUpfKkmS6A4MX1pXqqphv5PquJ4L6GeXYY3hY\n",
       "h8pKzVq2bzf7rsk0fR73GZ8d2XpzyYjFjMkUCx+xRP0/whul8JiUtumGvE9mmh5tKqwSP919XYOj\n",
       "c1rVJpC71Rcm6YbFM8VM+HNA0sn3dB/SCNOWHjMi5ZLECj5/Vu9agck7jZdr8jkAS66Y6T8cWOqc\n",
       "z96/v6LB0Y1G1b5B8gUIk5xTrKvHeL38pmpTVTb04ZFXd+gsAgptwgHtH/+I5CtN0YaW3nUJJu/H\n",
       "uMJPez6Xez2730gG/jxpquUmqeP84Cn4XyoUjStgJ4ylMOYSpbV85b+Udny8W6t83+e4Nwknoov3\n",
       "Ew9+X9L8j6+l7HJwSzPkfcmals0R8z1vNpwa/57r//R+0go62ANXmP74B1zgQLFVhV16AAAAAElF\n",
       "TkSuQmCC\n",
       "\" style=\"display:inline;vertical-align:middle;\" /></a></span>"
      ],
      "text/plain": [
       "{n in NaturalPos} |- (x_{1}, x_{2}, ..., x_{n}, y) = (x_{0 + 1}, x_{1 + 1}, ..., x_{(n - 1) + 1}, y)"
      ]
     },
     "metadata": {},
     "output_type": "display_data"
    }
   ],
   "source": [
    "eq.lhs.deduce_equal(eq.rhs, assumptions=[InSet(n, NaturalPos)])"
   ]
  },
  {
   "cell_type": "code",
   "execution_count": 13,
   "metadata": {},
   "outputs": [
    {
     "data": {
      "text/html": [
       "<strong id=\"eq\">eq:</strong> <a class=\"ProveItLink\" href=\"../__pv_it/demonstrations/2f4bc618652d79c2d6ab580049aed0b95a15ebfd0/expr.ipynb\"><img src=\"data:image/png;base64,iVBORw0KGgoAAAANSUhEUgAAAZkAAAAVBAMAAABmjo7qAAAAMFBMVEX///8AAAAAAAAAAAAAAAAA\n",
       "AAAAAAAAAAAAAAAAAAAAAAAAAAAAAAAAAAAAAAAAAAAv3aB7AAAAD3RSTlMAInZUiRDNmWbv3US7\n",
       "qzJazP2FAAAACXBIWXMAAA7EAAAOxAGVKw4bAAAD5UlEQVRYw71YS2gTURQ9aTLmH2NRFKk4VrEq\n",
       "KFX8LzRUcSEog/ipYG02gjuD+KkVaVRUBMGoCIKiQS2KogRdddUquJJqLFUUVOoPwUWNn4pQaH2f\n",
       "mcntzLSM0OlbDHPee+eed27ebwIgidEuPpd1o1uEj4raUY8bVe11Mz1384A/FnsQeI6txp/y3E1F\n",
       "FlDSHgQep1lrtsL7sgsIZj2IG8pYa5rGwM0pIOxJ4IvWitwYuAlrWOpJ4N3WZZMeAzfjstjHd8/u\n",
       "GfoutKkJSlG8KdUvP68p97RAh7Jp/s615va4wdIY5JvAtLpKPVhNFg0OLBv8P9VAUWSxLRnrkxWp\n",
       "FQiVpD7mq81kOEOhQ8lUdAXzBjjJH813eLmnpw3Rc3gud4eAP4ezDiwb/D/VUBo3WAYuQa9J1DYj\n",
       "3iFej+Ks9hrKSb2nhJs3vBx24SdDfXFzR1lhaY2w/G3PQh/ZJyb3lrLq0zSIsvadRlWnLHrvSpXl\n",
       "6DLLQAkReRwoOI+wnHQ9OMCeH+fpPSXMYNhMJRAka+O7dYEWgBbgpkQa0zhPWInqPA0SNJKrq3Zj\n",
       "rivVRIm7CXegsaCf4n343qM3Cr2VZl8O+zG9Z/gthdwA2hzcXIHSr8N2LTFAWf48DTK+4Bugqr1Y\n",
       "Dzeq0RyfaY2qMYu5UyMP0R/YQtwIeGIkN+1JRQs1fawxk0DWDZtpyk9jSYJlvCJHWMSNCKKZbuQg\n",
       "cBtuVFmUx8xNLV75kwpvixXRyWYCm3NP4zmk5LAI5FmynfPg1B2FNwigvi0b5re/M5YeMRXKL8TT\n",
       "CyW7kwuVWcINgQjkBTRUZ6uuVEMdfC+Nqf5bQTTyCRgsRv9C+cPiD2zLRWuFGwoTrQLKB2eYL6u/\n",
       "HMJDTJqN8Vx3n0WZbZ4sbyszGdEfR9CeJSzhhkB80wQ0VJXHDoJ2VXYMfGMdujZOW4BIKx9ld80P\n",
       "4I4GZa+67Lg+ZQis0gQEbvHpkzFeGHVbtb+JCXfJJXPXulrZcBtmfejqkeyGupYkZXE3BPqeSGio\n",
       "8rXMeWXBjJNqpICIuRCWyCzynJR/Vu6mDH0ZX5K2DqXychUHE6xf3trjvnkrkOx1Q1hi3ZThZEwg\n",
       "ULmK6Vk3qlPpBTElRLYzqwEMcVOGVb1fNdpKqdJuCfdXOV1lT5lzTmRMuUBZ0k05yLPe/bS1Fadd\n",
       "qfKb7SMjBXyru842d3ZdMAkT99RReG1wkEJQqtyDipjFnFTZusSML1zOjqjxFGX51v1WCQwPDpYI\n",
       "xOfqF25UffzY32F87PDH8hp+8Fg+HUeGBpWWR3bpDsL2HztsZ40MXaiKhPnU0f8KdPirodLzK/QM\n",
       "4B9j6ywsvqRXoQAAAABJRU5ErkJggg==\n",
       "\" style=\"display:inline;vertical-align:middle;\" /></a><br>"
      ],
      "text/plain": [
       "<IPython.core.display.HTML object>"
      ]
     },
     "metadata": {},
     "output_type": "display_data"
    }
   ],
   "source": [
    "eq = Equals(ExprTuple(a, y, *partitioned.lhs.entries), \n",
    "            ExprTuple(a, y, *partitioned.rhs.entries))"
   ]
  },
  {
   "cell_type": "code",
   "execution_count": 14,
   "metadata": {},
   "outputs": [
    {
     "data": {
      "text/html": [
       "<span style=\"font-size:20px;\"><a class=\"ProveItLink\" href=\"../../../numbers/number_sets/natural_numbers/__pv_it/theorems/132c57ec1224a4beaf274a23bd799047020206590/expr.ipynb\"><img src=\"data:image/png;base64,iVBORw0KGgoAAAANSUhEUgAAAEEAAAATBAMAAAA9n32KAAAAMFBMVEX///8AAAAAAAAAAAAAAAAA\n",
       "AAAAAAAAAAAAAAAAAAAAAAAAAAAAAAAAAAAAAAAAAAAv3aB7AAAAD3RSTlMARHarECKJu90yVM1m\n",
       "75kejotwAAAACXBIWXMAAA7EAAAOxAGVKw4bAAAA90lEQVQoz2NgwAf4GAgBdrJVeHyvdmDI/SuA\n",
       "x4wqRgMGlg/4bLEIyGFguMDwvLy2vPwAVhVWBdwBDA3YzFDv6NgAok0PsW7AqkJaBcowZZ6ghlDB\n",
       "qOyaVAQWZ90CU2rKUMAuAFfBxm7E4B8AYnEHIFTMY2lpgIWpIEcBQ/wEsAoGhAqeBcsvwHgO/gIM\n",
       "6x1ArLkdQFAAUcFgwgxXwbCegcEazHBHMoPBmaUBzgVK/2EBMTiQVXAqFMC51xi4vrCBGEwKMKFK\n",
       "INaEq2D9ycC04SSYuQsmBmLwbYDxGBsYWGwWgJnOhWAXM8z+C9TPsgFbfIhVdGCKAwDDkzTgOh63\n",
       "3AAAAABJRU5ErkJggg==\n",
       "\" style=\"display:inline;vertical-align:middle;\" /></a> <a class=\"ProveItLink\" href=\"../__pv_it/demonstrations/d075dc79e1166211d2c76370eec061a0fe16fb160/proof.ipynb\" style=\"text-decoration: none\">&nbsp;&#x22A2;&nbsp;&nbsp;</a><a class=\"ProveItLink\" href=\"../__pv_it/demonstrations/2f4bc618652d79c2d6ab580049aed0b95a15ebfd0/expr.ipynb\"><img src=\"data:image/png;base64,iVBORw0KGgoAAAANSUhEUgAAAZkAAAAVBAMAAABmjo7qAAAAMFBMVEX///8AAAAAAAAAAAAAAAAA\n",
       "AAAAAAAAAAAAAAAAAAAAAAAAAAAAAAAAAAAAAAAAAAAv3aB7AAAAD3RSTlMAInZUiRDNmWbv3US7\n",
       "qzJazP2FAAAACXBIWXMAAA7EAAAOxAGVKw4bAAAD5UlEQVRYw71YS2gTURQ9aTLmH2NRFKk4VrEq\n",
       "KFX8LzRUcSEog/ipYG02gjuD+KkVaVRUBMGoCIKiQS2KogRdddUquJJqLFUUVOoPwUWNn4pQaH2f\n",
       "mcntzLSM0OlbDHPee+eed27ebwIgidEuPpd1o1uEj4raUY8bVe11Mz1384A/FnsQeI6txp/y3E1F\n",
       "FlDSHgQep1lrtsL7sgsIZj2IG8pYa5rGwM0pIOxJ4IvWitwYuAlrWOpJ4N3WZZMeAzfjstjHd8/u\n",
       "GfoutKkJSlG8KdUvP68p97RAh7Jp/s615va4wdIY5JvAtLpKPVhNFg0OLBv8P9VAUWSxLRnrkxWp\n",
       "FQiVpD7mq81kOEOhQ8lUdAXzBjjJH813eLmnpw3Rc3gud4eAP4ezDiwb/D/VUBo3WAYuQa9J1DYj\n",
       "3iFej+Ks9hrKSb2nhJs3vBx24SdDfXFzR1lhaY2w/G3PQh/ZJyb3lrLq0zSIsvadRlWnLHrvSpXl\n",
       "6DLLQAkReRwoOI+wnHQ9OMCeH+fpPSXMYNhMJRAka+O7dYEWgBbgpkQa0zhPWInqPA0SNJKrq3Zj\n",
       "rivVRIm7CXegsaCf4n343qM3Cr2VZl8O+zG9Z/gthdwA2hzcXIHSr8N2LTFAWf48DTK+4Bugqr1Y\n",
       "Dzeq0RyfaY2qMYu5UyMP0R/YQtwIeGIkN+1JRQs1fawxk0DWDZtpyk9jSYJlvCJHWMSNCKKZbuQg\n",
       "cBtuVFmUx8xNLV75kwpvixXRyWYCm3NP4zmk5LAI5FmynfPg1B2FNwigvi0b5re/M5YeMRXKL8TT\n",
       "CyW7kwuVWcINgQjkBTRUZ6uuVEMdfC+Nqf5bQTTyCRgsRv9C+cPiD2zLRWuFGwoTrQLKB2eYL6u/\n",
       "HMJDTJqN8Vx3n0WZbZ4sbyszGdEfR9CeJSzhhkB80wQ0VJXHDoJ2VXYMfGMdujZOW4BIKx9ld80P\n",
       "4I4GZa+67Lg+ZQis0gQEbvHpkzFeGHVbtb+JCXfJJXPXulrZcBtmfejqkeyGupYkZXE3BPqeSGio\n",
       "8rXMeWXBjJNqpICIuRCWyCzynJR/Vu6mDH0ZX5K2DqXychUHE6xf3trjvnkrkOx1Q1hi3ZThZEwg\n",
       "ULmK6Vk3qlPpBTElRLYzqwEMcVOGVb1fNdpKqdJuCfdXOV1lT5lzTmRMuUBZ0k05yLPe/bS1Fadd\n",
       "qfKb7SMjBXyru842d3ZdMAkT99RReG1wkEJQqtyDipjFnFTZusSML1zOjqjxFGX51v1WCQwPDpYI\n",
       "xOfqF25UffzY32F87PDH8hp+8Fg+HUeGBpWWR3bpDsL2HztsZ40MXaiKhPnU0f8KdPirodLzK/QM\n",
       "4B9j6ywsvqRXoQAAAABJRU5ErkJggg==\n",
       "\" style=\"display:inline;vertical-align:middle;\" /></a></span>"
      ],
      "text/plain": [
       "{n in NaturalPos} |- (a, y,x_{1}, x_{2}, ..., x_{n}) = (a, y, x_{1},x_{2}, x_{3}, ..., x_{n})"
      ]
     },
     "metadata": {},
     "output_type": "display_data"
    }
   ],
   "source": [
    "eq.prove(assumptions=[InSet(n, NaturalPos)])"
   ]
  },
  {
   "cell_type": "code",
   "execution_count": 15,
   "metadata": {},
   "outputs": [
    {
     "data": {
      "text/html": [
       "<span style=\"font-size:20px;\"><a class=\"ProveItLink\" href=\"../../../numbers/number_sets/natural_numbers/__pv_it/theorems/132c57ec1224a4beaf274a23bd799047020206590/expr.ipynb\"><img src=\"data:image/png;base64,iVBORw0KGgoAAAANSUhEUgAAAEEAAAATBAMAAAA9n32KAAAAMFBMVEX///8AAAAAAAAAAAAAAAAA\n",
       "AAAAAAAAAAAAAAAAAAAAAAAAAAAAAAAAAAAAAAAAAAAv3aB7AAAAD3RSTlMARHarECKJu90yVM1m\n",
       "75kejotwAAAACXBIWXMAAA7EAAAOxAGVKw4bAAAA90lEQVQoz2NgwAf4GAgBdrJVeHyvdmDI/SuA\n",
       "x4wqRgMGlg/4bLEIyGFguMDwvLy2vPwAVhVWBdwBDA3YzFDv6NgAok0PsW7AqkJaBcowZZ6ghlDB\n",
       "qOyaVAQWZ90CU2rKUMAuAFfBxm7E4B8AYnEHIFTMY2lpgIWpIEcBQ/wEsAoGhAqeBcsvwHgO/gIM\n",
       "6x1ArLkdQFAAUcFgwgxXwbCegcEazHBHMoPBmaUBzgVK/2EBMTiQVXAqFMC51xi4vrCBGEwKMKFK\n",
       "INaEq2D9ycC04SSYuQsmBmLwbYDxGBsYWGwWgJnOhWAXM8z+C9TPsgFbfIhVdGCKAwDDkzTgOh63\n",
       "3AAAAABJRU5ErkJggg==\n",
       "\" style=\"display:inline;vertical-align:middle;\" /></a> <a class=\"ProveItLink\" href=\"../__pv_it/demonstrations/d075dc79e1166211d2c76370eec061a0fe16fb160/proof.ipynb\" style=\"text-decoration: none\">&nbsp;&#x22A2;&nbsp;&nbsp;</a><a class=\"ProveItLink\" href=\"../__pv_it/demonstrations/2f4bc618652d79c2d6ab580049aed0b95a15ebfd0/expr.ipynb\"><img src=\"data:image/png;base64,iVBORw0KGgoAAAANSUhEUgAAAZkAAAAVBAMAAABmjo7qAAAAMFBMVEX///8AAAAAAAAAAAAAAAAA\n",
       "AAAAAAAAAAAAAAAAAAAAAAAAAAAAAAAAAAAAAAAAAAAv3aB7AAAAD3RSTlMAInZUiRDNmWbv3US7\n",
       "qzJazP2FAAAACXBIWXMAAA7EAAAOxAGVKw4bAAAD5UlEQVRYw71YS2gTURQ9aTLmH2NRFKk4VrEq\n",
       "KFX8LzRUcSEog/ipYG02gjuD+KkVaVRUBMGoCIKiQS2KogRdddUquJJqLFUUVOoPwUWNn4pQaH2f\n",
       "mcntzLSM0OlbDHPee+eed27ebwIgidEuPpd1o1uEj4raUY8bVe11Mz1384A/FnsQeI6txp/y3E1F\n",
       "FlDSHgQep1lrtsL7sgsIZj2IG8pYa5rGwM0pIOxJ4IvWitwYuAlrWOpJ4N3WZZMeAzfjstjHd8/u\n",
       "GfoutKkJSlG8KdUvP68p97RAh7Jp/s615va4wdIY5JvAtLpKPVhNFg0OLBv8P9VAUWSxLRnrkxWp\n",
       "FQiVpD7mq81kOEOhQ8lUdAXzBjjJH813eLmnpw3Rc3gud4eAP4ezDiwb/D/VUBo3WAYuQa9J1DYj\n",
       "3iFej+Ks9hrKSb2nhJs3vBx24SdDfXFzR1lhaY2w/G3PQh/ZJyb3lrLq0zSIsvadRlWnLHrvSpXl\n",
       "6DLLQAkReRwoOI+wnHQ9OMCeH+fpPSXMYNhMJRAka+O7dYEWgBbgpkQa0zhPWInqPA0SNJKrq3Zj\n",
       "rivVRIm7CXegsaCf4n343qM3Cr2VZl8O+zG9Z/gthdwA2hzcXIHSr8N2LTFAWf48DTK+4Bugqr1Y\n",
       "Dzeq0RyfaY2qMYu5UyMP0R/YQtwIeGIkN+1JRQs1fawxk0DWDZtpyk9jSYJlvCJHWMSNCKKZbuQg\n",
       "cBtuVFmUx8xNLV75kwpvixXRyWYCm3NP4zmk5LAI5FmynfPg1B2FNwigvi0b5re/M5YeMRXKL8TT\n",
       "CyW7kwuVWcINgQjkBTRUZ6uuVEMdfC+Nqf5bQTTyCRgsRv9C+cPiD2zLRWuFGwoTrQLKB2eYL6u/\n",
       "HMJDTJqN8Vx3n0WZbZ4sbyszGdEfR9CeJSzhhkB80wQ0VJXHDoJ2VXYMfGMdujZOW4BIKx9ld80P\n",
       "4I4GZa+67Lg+ZQis0gQEbvHpkzFeGHVbtb+JCXfJJXPXulrZcBtmfejqkeyGupYkZXE3BPqeSGio\n",
       "8rXMeWXBjJNqpICIuRCWyCzynJR/Vu6mDH0ZX5K2DqXychUHE6xf3trjvnkrkOx1Q1hi3ZThZEwg\n",
       "ULmK6Vk3qlPpBTElRLYzqwEMcVOGVb1fNdpKqdJuCfdXOV1lT5lzTmRMuUBZ0k05yLPe/bS1Fadd\n",
       "qfKb7SMjBXyru842d3ZdMAkT99RReG1wkEJQqtyDipjFnFTZusSML1zOjqjxFGX51v1WCQwPDpYI\n",
       "xOfqF25UffzY32F87PDH8hp+8Fg+HUeGBpWWR3bpDsL2HztsZ40MXaiKhPnU0f8KdPirodLzK/QM\n",
       "4B9j6ywsvqRXoQAAAABJRU5ErkJggg==\n",
       "\" style=\"display:inline;vertical-align:middle;\" /></a></span>"
      ],
      "text/plain": [
       "{n in NaturalPos} |- (a, y,x_{1}, x_{2}, ..., x_{n}) = (a, y, x_{1},x_{2}, x_{3}, ..., x_{n})"
      ]
     },
     "metadata": {},
     "output_type": "display_data"
    }
   ],
   "source": [
    "eq.lhs.deduce_equal(eq.rhs, assumptions=[InSet(n, NaturalPos)])"
   ]
  },
  {
   "cell_type": "markdown",
   "metadata": {},
   "source": [
    "### Mapping elements can be useful for building new ExprTuples from existing ones"
   ]
  },
  {
   "cell_type": "code",
   "execution_count": 16,
   "metadata": {},
   "outputs": [
    {
     "data": {
      "text/html": [
       "<a class=\"ProveItLink\" href=\"../__pv_it/demonstrations/a6766b8df792af92250a9f8c67d7891662a01c310/expr.ipynb\"><img src=\"data:image/png;base64,iVBORw0KGgoAAAANSUhEUgAAASMAAAAVBAMAAAD/WpUaAAAAMFBMVEX///8AAAAAAAAAAAAAAAAA\n",
       "AAAAAAAAAAAAAAAAAAAAAAAAAAAAAAAAAAAAAAAAAAAv3aB7AAAAD3RSTlMAInZUiRDNmWbv3US7\n",
       "qzJazP2FAAAACXBIWXMAAA7EAAAOxAGVKw4bAAADPklEQVRIx5WWTWjUQBTHXzab7mdjEEQoLaZV\n",
       "rJdKD36gBy0qPQiVIGp7aN1eCh4XkbpWxKhoL0KDIgiCFkopVCiLnnrq6lWEpVhR8LD4geBBK1gv\n",
       "QuvMy0wmzcyWJPCayXtvf/3PzJsPALAgzmNt6dLkqJYUhz70p3rjKFJlvRDN3XK0YCfEIQ+ZB2IN\n",
       "kior5fKW3qcI70uIQx41YzSOInXWGG9cUEVbnIQ45BHLuHEkqbMmeaOiimbLCXHII5aLNW/qrBwf\n",
       "B08ZfpQQhzxih2JJUme1sM7q6nm4lBCHPGJXQsv2XeemVWJ0uzDiN0NZZ3sunmLrJV1n8yCq2+ha\n",
       "+XqStQeaSlLjkEcs1JVFq7gW/mFa92BK6nA5tZyZZtUyunm0qDrosSdY+15TSWoc8ojNEMw8fcrG\n",
       "Y2BB5vhCPj/5ySIra2XXWl0Yomp0VkN50s0JGp2DWzDlfIBzAyvEfaSpJAnHCsBDe8JnrZ5ZhXxo\n",
       "f9HqTs6GB/6HyDIhQ9SYXVS8ucrKssrCHdCAcdp1oCP1q6mkKI49lEdMRHM1KFXDkmDJMdejDCKA\n",
       "FpxOJRU8SRJgJ/7BrgYphBiSGI5t+B7aTBAt2bxyePo4pLxgpAPGkmU4viR9Wkwcl1T4DefhLko6\n",
       "utXEbcJlK5+7GY/Yax4tl3rhvW4ZgaQyvIViHdAhsoarHyHN1GRrfrTIO7rTeNPqAZ3908TuA8gb\n",
       "uBI3tOjmLORREyu1aOtzGSiF9pgbsOT6DpF1/Ns1eMkkkcWPUb4ZEPf6oFcgY2bO4lI3/pIXTcFG\n",
       "8CXhduyFbY6/mRD7IfQvn+nYD/lZIWnkxE3Ld4iswS690ssk5at+1JwOGJftw3fIu50Oz3OAefLO\n",
       "04NlDtgfNW4ZC4/wkNmIjOzB8Ec/c0hZKKmNpy9E70plzQKNVoY8c0rcU7hq+rw2xeEo9oH0qPGQ\n",
       "OaQslFTh6ZORaPvP7w6erWm5tFU4bRUWjvk8aq8i5SfWZN5u7eOOSJbW/8cGrcajxcgl8dnGBtFF\n",
       "jwu5vFW4Qh32uMijBsORe1RoJG5fDxzDiqVMhfhRo6YI038r3yyb45CHndPsOFcBVVanaG5X3BGt\n",
       "hDjkEfsP+dbbtGIUTxIAAAAASUVORK5CYII=\n",
       "\" style=\"display:inline;vertical-align:middle;\" /></a>"
      ],
      "text/plain": [
       "([not](a), [not](y),[not](x_{1}), [not](x_{2}), ..., [not](x_{n}))"
      ]
     },
     "metadata": {},
     "output_type": "display_data"
    }
   ],
   "source": [
    "eq.lhs.map_elements(lambda x : Not(x))"
   ]
  },
  {
   "cell_type": "code",
   "execution_count": 17,
   "metadata": {},
   "outputs": [
    {
     "data": {
      "text/html": [
       "<a class=\"ProveItLink\" href=\"../__pv_it/demonstrations/adb9b2f509ddbe054d9346c1762d90e65aa7f2850/expr.ipynb\"><img src=\"data:image/png;base64,iVBORw0KGgoAAAANSUhEUgAAAccAAAAVBAMAAADBUzgRAAAAMFBMVEX///8AAAAAAAAAAAAAAAAA\n",
       "AAAAAAAAAAAAAAAAAAAAAAAAAAAAAAAAAAAAAAAAAAAv3aB7AAAAD3RSTlMAInZUiRDNmWbv3US7\n",
       "qzJazP2FAAAACXBIWXMAAA7EAAAOxAGVKw4bAAAEYUlEQVRYw6WXb2gURxTA397deJdc7rwGRZCI\n",
       "axSjQuAE/yUf9EiDlEJgCa1/wNT7IvjNRaqeEcmpaD4oeloKgsUe/UMhpSHYT34oxkI/FdsjKFhQ\n",
       "OP8h+EEvthFBMM6b2Z3bnZ0MQ2/hHe/e2/eb92bnzc4CQA5aukzCrQX//E+qZZ4bI8XyLdVoFJ62\n",
       "A39Wm2Bv6N2rzZK74ZM2tfYgzcLXNdV4wWjuyjqvGYNTUEixpRoNwxc5Qt1lBj6gc+4yTe8Al2S5\n",
       "pSINw1OuUEtm4HGds2Sa3jiXttZWq2n410KrGIIdjbNinJ7DZEtrRZqGHxTtZNgeizRLJG7cYkih\n",
       "8iXqKwY6ZbcwDZeA1KRG7CnDCFcxfLj3i0HVHku67z392NOHxPouhB2hK0BK1DQ9omOE0kEKFZzi\n",
       "9GX4G1fH6ARev0DABFDog1QDycw5gWMn4hW41HxCbmwmWfWHCDCS0GuPeuZzwbkNOoLcIClV1D+f\n",
       "EGMhCKNQ+Z6qe8swKnGEKZsfhcx02PmEQh5wlYancqm5TBn2RLI6BZec+0BYfX2+sT3vOz4buidv\n",
       "T4xEBh/S6Y1r+q7JUO1xPB1vYVeYXKPqGMAP0q3CROAKtNlhp0MNV7hKw7OQpPVlu6vycHU4Sn8f\n",
       "b0D9ldgKpnyHG5lZTkoCPohsQ7OdCIbi4hD/T4MJFvkNkHfSrU1Teg5e1SXvLSf7XhQJfBLi1eiA\n",
       "bCb68edmMEHueAcr65H0KWnxlEXh6Yq+SPCnWeFuPhOkUKHrjbzmXRfoJ2ECnJf18rI/CrGKWK60\n",
       "5hxx/CIDPQnpWfjcK7I/uNS44ywvMshlpJSDRarmLMoYv9jtghJSetzjzTyV32lF/0KmuDG8MXIT\n",
       "bj0dNbgjj3IHrQQ1Gr5v6h9IKLIif2YqUPDqu8CWOeJs4YBPpQiPBAmKSk2zXons2BBkkPNX4bIS\n",
       "sudmuS3HKVSGWKb9rhu+lZnIG5ykWvqtPNRJuFWG/UX+atjx7Dj8qigy/n53JZ33isRXDcPRDd13\n",
       "ZH+UIjwSvHD4a4INwaJCSpNhDRdhTglZuhYWexQqL6h9ZM2jGak9uGmC3kfu9szKRY4MjOWgHXOk\n",
       "4bu746W86kketree8Vfqz/iDuGxVOLrkQ41Hsv7AJYl9x4b4CRXXV9DSZGTsSO96kBm2DSCFSntd\n",
       "d9pnaSQUr6ydVDYjRYQv2ERYpFUVuEnxTeha6q/GZfARwHKmbo44mUUw2upJV13AdTiW5ZTloaNz\n",
       "9EqwcvbKx5lEkXyFx4TQyVtbJD/HJ0In766Xz5XnU+uvl0f8M3j0k6oQYqyE9ifKIq0GTG7nFJTb\n",
       "miKHqXwHdyO7m53BgxXbqf1wa+d/tpKx5NAALUjgoMN/fN/Oz6vfAPPzDbDY+YNEkNwiGL9B7BP1\n",
       "Z3oN1pQZhZH2aYpE4raeqcgqPn0Cv0j5ZmZ0UL4tcECmTQJ4GbHoZzCYMziFkSy7pc8Qo/BYsPk6\n",
       "TbCr9O5Os+RWcfkAAjBSKAQ+xIYAAAAASUVORK5CYII=\n",
       "\" style=\"display:inline;vertical-align:middle;\" /></a>"
      ],
      "text/plain": [
       "(a = a, y = y,(x_{1} = x_{1}), (x_{2} = x_{2}), ..., (x_{n} = x_{n}))"
      ]
     },
     "metadata": {},
     "output_type": "display_data"
    }
   ],
   "source": [
    "ExprTuple.map_elements_together(lambda x, y : Equals(x, y), eq.lhs, eq.lhs)"
   ]
  },
  {
   "cell_type": "markdown",
   "metadata": {},
   "source": [
    "**For efficiency, this is limited: ExprRanges must be aligned**"
   ]
  },
  {
   "cell_type": "code",
   "execution_count": 18,
   "metadata": {},
   "outputs": [
    {
     "name": "stdout",
     "output_type": "stream",
     "text": [
      "Expected error: Each of the ExprTuples must have the same number of entries when mapping elements together\n"
     ]
    }
   ],
   "source": [
    "try:\n",
    "    ExprTuple.map_elements_together(lambda x, y : Equals(x, y), eq.lhs, eq.rhs)\n",
    "    assert False, \"ValueError expected\"\n",
    "except ValueError as e:\n",
    "    print(\"Expected error:\", e)"
   ]
  },
  {
   "cell_type": "markdown",
   "metadata": {},
   "source": [
    "### Testing the `ExprRange(order='decreasing')` flag\n",
    "\n",
    "An ExprRange with the `order='decreasing'` flag produces an ExprRange of the form f(i),...,f(j), where 0 <= (i-j) and j < i (i.e. the ExprRange represents 0 or more elements and is in decreasing order)\n",
    "\n",
    "For example, if\n",
    "\n",
    "self = $f(3),...,f(6)$,\n",
    "\n",
    "then `order='decreasing'` would return:\n",
    "\n",
    "$|- f(6),...,f(3)$"
   ]
  },
  {
   "cell_type": "code",
   "execution_count": 19,
   "metadata": {},
   "outputs": [
    {
     "data": {
      "text/html": [
       "<strong id=\"test\">test:</strong> <a class=\"ProveItLink\" href=\"../__pv_it/demonstrations/242b6e4384db50ceb13d81e381fdba5995a516e20/expr.ipynb\"><img src=\"data:image/png;base64,iVBORw0KGgoAAAANSUhEUgAAAIcAAAAPBAMAAAA8KsGMAAAAMFBMVEX///8AAAAAAAAAAAAAAAAA\n",
       "AAAAAAAAAAAAAAAAAAAAAAAAAAAAAAAAAAAAAAAAAAAv3aB7AAAAD3RSTlMAIquJdkTvuxBmmd1U\n",
       "zTKBpmoTAAAACXBIWXMAAA7EAAAOxAGVKw4bAAABO0lEQVQ4y42Tr0/DQBTHv0uXrbl2W8MfgAFL\n",
       "UjELOcjUBCEIcASLWXDYCgSoTuBBIifJSEjl5CwONSwJpoaE12t7fZf2mn2T9t4n79tv7kcP6Owd\n",
       "S2iZ1C7mvQj6KQ1fTdSuwktybyAWNH40EOlxbc3Ivc44BMQPvFA3TAKGk4U1JPc+4RLo3SI+0w2T\n",
       "SL49JPfOMAoQSzzT1KaJapjUHqK8nRS9BHGCAz8Q/hpu1tDEQtx6QFR6d1N4c/SlvxR4cF4Q05cV\n",
       "sZCsoV7uHy+Ud0gzkXD3j3ZOgcEc3hsYfd+RAhWSNeBlucuyeI8KLy1npNdOu4MVOLE9WdWW40dl\n",
       "NWPmDT3V2W7M0wlrIY6uJjjX9QlNT3Iq/uzDX8kbpe6ruPGrrj+BLjgxdeun03S/BlfXVtpaYhpZ\n",
       "aQv9A7e1WQdV69/+AAAAAElFTkSuQmCC\n",
       "\" style=\"display:inline;vertical-align:middle;\" /></a><br>"
      ],
      "text/plain": [
       "<IPython.core.display.HTML object>"
      ]
     },
     "metadata": {},
     "output_type": "display_data"
    }
   ],
   "source": [
    "test = ExprRange(i, IndexedVar(a, i), j, zero, order='decreasing')"
   ]
  },
  {
   "cell_type": "code",
   "execution_count": 20,
   "metadata": {},
   "outputs": [
    {
     "data": {
      "text/html": [
       "<strong id=\"inc_test\">inc_test:</strong> <a class=\"ProveItLink\" href=\"../__pv_it/demonstrations/7241c433fd0852c7a6b5a5a4543aeecf72e6282d0/expr.ipynb\"><img src=\"data:image/png;base64,iVBORw0KGgoAAAANSUhEUgAAAIYAAAAPBAMAAADT6KqyAAAAMFBMVEX///8AAAAAAAAAAAAAAAAA\n",
       "AAAAAAAAAAAAAAAAAAAAAAAAAAAAAAAAAAAAAAAAAAAv3aB7AAAAD3RSTlMAIquJdkTvuxBmmd1U\n",
       "zTKBpmoTAAAACXBIWXMAAA7EAAAOxAGVKw4bAAABg0lEQVQoz5WSv0vDQBTHv7W/0iStpbhbsKtQ\n",
       "qJOgROvUQZwcpYIggkMHsaNBiuiU/gdmEBQULLhoBalbQYQuDm516WqLCg4VfLnceSmh2D64u+/x\n",
       "vvnw3rsAgZklAzJSc1MYMaR1PRn9pqPt3sKbODCBxAgIbqVQdqDW6HxwE0dVXNKhcSROWkMZrjWX\n",
       "B9QutKxMXAM3XKq0Eiu1oQxmjRnhEiIlWGsysQ3li8uos+nDGcwaaaMHy8ApdVRouJ19ItYFKlf/\n",
       "M1zrtIldWA3M6klVb0FxEn1MtB5hP3sZih9gCuu7iTtEDb2u4jhow3LGt4cn21bMeS+DJZxN+fEK\n",
       "ZiXGFpTMYmoViFeh3VLiMP+WoTd5xXl5v1yuMgZLaDZtdSHuTW6lXvqiuMkk0JS19gbm0fT1optc\n",
       "sJny6NCST5woDjCyPkZQiJARTgu9TE3KXz6U5ozAwofhTYio/KlcQZREA0BIWmg6vA5G9L+Ln4r4\n",
       "RtF7femI/3SMUGVBTpxdjPX1Lxi6aAv/btkmAAAAAElFTkSuQmCC\n",
       "\" style=\"display:inline;vertical-align:middle;\" /></a><br>"
      ],
      "text/plain": [
       "<IPython.core.display.HTML object>"
      ]
     },
     "metadata": {},
     "output_type": "display_data"
    }
   ],
   "source": [
    "inc_test = ExprRange(i, IndexedVar(a, i), j, zero)"
   ]
  },
  {
   "cell_type": "code",
   "execution_count": 21,
   "metadata": {},
   "outputs": [
    {
     "name": "stdout",
     "output_type": "stream",
     "text": [
      "Expected exception:  Invalid ExprRange endpoints: 2 to 0\n"
     ]
    }
   ],
   "source": [
    "try:\n",
    "    ExprRange(i, IndexedVar(a, i), two, zero, order='increasing')\n",
    "    assert False, \"Expecting a ValueError; should not get this far!\"\n",
    "except ValueError as _e:\n",
    "    print(\"Expected exception: \", _e)"
   ]
  },
  {
   "cell_type": "code",
   "execution_count": 22,
   "metadata": {},
   "outputs": [
    {
     "data": {
      "text/html": [
       "<a class=\"ProveItLink\" href=\"../__pv_it/demonstrations/030352ad03a26998caa93158eab0ce285531847a0/expr.ipynb\"><img src=\"data:image/png;base64,iVBORw0KGgoAAAANSUhEUgAAAHMAAAANBAMAAABoRUxkAAAAMFBMVEX///8AAAAAAAAAAAAAAAAA\n",
       "AAAAAAAAAAAAAAAAAAAAAAAAAAAAAAAAAAAAAAAAAAAv3aB7AAAAD3RSTlMAIquJdkTvuxBmmd1U\n",
       "zTKBpmoTAAAACXBIWXMAAA7EAAAOxAGVKw4bAAABRUlEQVQoz32SMUvDQBSAv1htzya0oQjddLCD\n",
       "i1CkmygRO4s46OwkLurgbtEiOKWDg5sZBQcLLqUucRNc+hPq6iAFLWRQ6uViEkNoH+R4yfu+y927\n",
       "A21xwyKOUm2OifGP3zVzXlyY2eesMVGNeXFIvs3FylLwetniHq56Y82Az9SqkB+gV3F8wY8HeKRQ\n",
       "b49VA/6aPcieYG8zZKGvKgeIIRjj1YA/omhiW9zCzZ8qvpgdTFQVr3lkXWyXZcOEVZDtEd9M9Z6V\n",
       "KtKa3z/Fz3voLXKW0c1DoYP4kZVTXh1HqbbfKn9Q36NE8QX5VwtRWS9tQVnO+CSf8823Sl+pekeC\n",
       "uiOHbpj4gOLlgotueM6OZmJEB6r2+pJacAyoNgVR/nhvkCGhVlNqDNTZCdPj0Qia0V1b+5Q7sVJq\n",
       "M56kdpeoJNnpdIeTwC9sDFbNZH2qVQAAAABJRU5ErkJggg==\n",
       "\" style=\"display:inline;vertical-align:middle;\" /></a>"
      ],
      "text/plain": [
       "a_{2}, a_{1}, ..., a_{0}"
      ]
     },
     "metadata": {},
     "output_type": "display_data"
    }
   ],
   "source": [
    "ExprRange(i, IndexedVar(a, i), two, zero, order='decreasing')"
   ]
  },
  {
   "cell_type": "code",
   "execution_count": 23,
   "metadata": {},
   "outputs": [
    {
     "data": {
      "text/html": [
       "<a class=\"ProveItLink\" href=\"../__pv_it/demonstrations/42929fab92cf9c277cd97c705b1b2f8b5334c8640/expr.ipynb\"><img src=\"data:image/png;base64,iVBORw0KGgoAAAANSUhEUgAAAGUAAAAOCAMAAAABkSJkAAAANlBMVEX///8AAAAAAAAAAAAAAAAA\n",
       "AAAAAAAAAAAAAAAAAAAAAAAAAAAAAAAAAAAAAAAAAAAAAAAAAABHL6OuAAAAEXRSTlMAMrsiq4l2\n",
       "RO8QZpndVM3z6UwP0jwAAAAJcEhZcwAADsQAAA7EAZUrDhsAAADOSURBVDjLtVNbDsMgDAsEAuHV\n",
       "cf/LDjYNUQFVKw1/IAGundoC4AEIYQ+430T/L1lUmpDaNpwuwxX1AYwtqcjMc90oL6gPArKurD4s\n",
       "pgeSvKTeh88fad0Ojlc4IWezot6HrZFwUxr+xSSzpN4PLNcyXV71LRKvqVNB7Ujj4BLLqhJEnLok\n",
       "vKDOTAKCyANBlgFj8NAehlm+l4E6q7lcCltDkD9US1akBSoS0490f9xRzxp9zWVIUrAXXMOSjnmv\n",
       "ja21GLfBBf0XtVHjXSTt4A08kAchMSM4iQAAAABJRU5ErkJggg==\n",
       "\" style=\"display:inline;vertical-align:middle;\" /></a>"
      ],
      "text/plain": [
       "_a -> a_{-_a}"
      ]
     },
     "metadata": {},
     "output_type": "display_data"
    }
   ],
   "source": [
    "test.lambda_map"
   ]
  },
  {
   "cell_type": "code",
   "execution_count": 24,
   "metadata": {},
   "outputs": [
    {
     "data": {
      "text/html": [
       "<a class=\"ProveItLink\" href=\"../__pv_it/demonstrations/9fd1cc2b07323303ffd81994208d5f62a42ba2a90/expr.ipynb\"><img src=\"data:image/png;base64,iVBORw0KGgoAAAANSUhEUgAAAF0AAAAVBAMAAADWVP/xAAAAMFBMVEX///8AAAAAAAAAAAAAAAAA\n",
       "AAAAAAAAAAAAAAAAAAAAAAAAAAAAAAAAAAAAAAAAAAAv3aB7AAAAD3RSTlMAInZUiRDNmWbv3US7\n",
       "qzJazP2FAAAACXBIWXMAAA7EAAAOxAGVKw4bAAABrElEQVQoz42Tv0vDQBiGnzaJaaumnV2MDjoJ\n",
       "GcTVII4KwUFRBAsiOFYREV26iS4WJ0GQSp0cpPgPWAU3hYKriLMIivUXuHh30fRaOvQg99333pO7\n",
       "771LgAztNkXGvbb5c9kNy+45UII5ttLMONdhHB/MEM+DlZXZQCguMtdcXVzN0+FZx7AEdr4+lyhi\n",
       "VlqXsgsTsA1JTeyqYny05m9hNCAZMKKJ6RxOrTX/BS8eHXnWRGL1V5W4IPjvRm5qSAVL8nnMKssi\n",
       "szlQaq+P89bI55LKX+xd8C6JLCWR9VGL+PfG08mkvYj3MQociiz4c7ng0xmuP30q2xmWdCnrEfyF\n",
       "i/OqeOziv1+j2e9m5HfUo7Og6iHlh+dZIdF8nidhuIG9AKPIlSq8jNw2UcDOEuh47Acl7MC6ACpM\n",
       "SnUP61PGErOP4Si68tdwKuVZR6Junyep3sOpXGVm7OFv9N+6K6FgrQ09irfKpERgH4yIMnQ+6epC\n",
       "j9gwx500aUaIqa3uCZOasCGeS6eWEncyVf8E6vyLV9KFmPx451ndEsGNoPoIe7CsC13y54i5bf+P\n",
       "ffALS1NiZwGnao4AAAAASUVORK5CYII=\n",
       "\" style=\"display:inline;vertical-align:middle;\" /></a>"
      ],
      "text/plain": [
       "(j, 0, -j, 0)"
      ]
     },
     "metadata": {},
     "output_type": "display_data"
    }
   ],
   "source": [
    "(test.start_index, test.end_index, test.true_start_index, test.true_end_index)"
   ]
  },
  {
   "cell_type": "code",
   "execution_count": 25,
   "metadata": {},
   "outputs": [
    {
     "data": {
      "text/html": [
       "<a class=\"ProveItLink\" href=\"../__pv_it/demonstrations/3699efa526813a2cbda5e108d66b8f32f6e2cb970/expr.ipynb\"><img src=\"data:image/png;base64,iVBORw0KGgoAAAANSUhEUgAAAE0AAAAVBAMAAADx+n4ZAAAAMFBMVEX///8AAAAAAAAAAAAAAAAA\n",
       "AAAAAAAAAAAAAAAAAAAAAAAAAAAAAAAAAAAAAAAAAAAv3aB7AAAAD3RSTlMAInZUiRDNmWbv3US7\n",
       "qzJazP2FAAAACXBIWXMAAA7EAAAOxAGVKw4bAAABo0lEQVQoz4WSwUsbQRTGf5vNupsY15y9uOlB\n",
       "T4E9FK8u0mMLSy6iFAxIoccoIqVe9ib1YvAkFEokPfUU+g8YC70pBLyKeC6FiklbwYtvZtx1c8rC\n",
       "zvveN9/M+97MAFUmfVpRCCfqvqvhpRp+x5oormylc/5PE18tVikk4DRVtmDITdZTFwXNMxU6J/AO\n",
       "3OR5f69DsT9e8gBewz6UcmRlgP13XHcByzGlmKUcOdvCH47r/sOfkKmEHUmcFwNNboju3sw36jo4\n",
       "SpdQHPBeMpdjzc5H+HdG1ypp39ZIdAFek65kNYaZbmS6rc6GmS7CbvNZsvjJ/UbEtNnPUe5VFN1p\n",
       "gH+rdbidtA877eNj1sdyyHRb16UcmXPp46Xn8tWEcziMsTv80MZ6qDJeG7epEdYDGnyCXZno80ax\n",
       "hzj/VOyydmOQd2uocuh8EV8RvxR7Bd/U6tWV6yc00zfA2anfiLpHWQJHYMfpFWhUCvLUnBRocanM\n",
       "F7OrEjQTivkc9UH+M39YljNtZGRDXWmXHGWpR/SW7T0JQaYT5C728lRFPUormPjua/AIElxeEQzH\n",
       "8+AAAAAASUVORK5CYII=\n",
       "\" style=\"display:inline;vertical-align:middle;\" /></a>"
      ],
      "text/plain": [
       "(j, 0, j, 0)"
      ]
     },
     "metadata": {},
     "output_type": "display_data"
    }
   ],
   "source": [
    "(inc_test.start_index, inc_test.end_index, \n",
    " inc_test.true_start_index, inc_test.true_end_index)"
   ]
  },
  {
   "cell_type": "code",
   "execution_count": 26,
   "metadata": {},
   "outputs": [
    {
     "data": {
      "text/html": [
       "<a class=\"ProveItLink\" href=\"../__pv_it/demonstrations/f8794d578850574af8ecdf57d2b80ddc1df7f4100/expr.ipynb\"><img src=\"data:image/png;base64,iVBORw0KGgoAAAANSUhEUgAAAC0AAAAMBAMAAAAExCk6AAAAMFBMVEX///8AAAAAAAAAAAAAAAAA\n",
       "AAAAAAAAAAAAAAAAAAAAAAAAAAAAAAAAAAAAAAAAAAAv3aB7AAAAD3RSTlMAIquJdkTvuxBmmd1U\n",
       "zTKBpmoTAAAACXBIWXMAAA7EAAAOxAGVKw4bAAAAeklEQVQY02NgYFR2dGDAAsIE2H9gEebIZODa\n",
       "gEWc6wMDtwEWcbYChv4ALOL9Dgzz0YSapxgCxQ8w6PIIoNi4ke8jAwO7A88uLlQbF/AlAGVV7IT8\n",
       "GJ6XAwFUF1sAiwI2D/ULsM9owOZCgfeRqOKMq1atWsrAuvKIJQMAhs4Z9065t94AAAAASUVORK5C\n",
       "YII=\n",
       "\" style=\"display:inline;vertical-align:middle;\" /></a>"
      ],
      "text/plain": [
       "a_{-_a}"
      ]
     },
     "metadata": {},
     "output_type": "display_data"
    }
   ],
   "source": [
    "test.body"
   ]
  },
  {
   "cell_type": "code",
   "execution_count": 27,
   "metadata": {},
   "outputs": [
    {
     "data": {
      "text/html": [
       "<a class=\"ProveItLink\" href=\"../../__pv_it/common/3a62c13e156d62d52fe585fa37cc2172fcf685260/expr.ipynb\"><img src=\"data:image/png;base64,iVBORw0KGgoAAAANSUhEUgAAACAAAAAMBAMAAADxOqKKAAAAMFBMVEX///8AAAAAAAAAAAAAAAAA\n",
       "AAAAAAAAAAAAAAAAAAAAAAAAAAAAAAAAAAAAAAAAAAAv3aB7AAAAD3RSTlMAIquJdkTvuxBmmd1U\n",
       "zTKBpmoTAAAACXBIWXMAAA7EAAAOxAGVKw4bAAAAcklEQVQI12NgYFR2dGBABmEC7D+Q+RyZDFwb\n",
       "kAW4PjBwGyALsBUw9AcgC/Q7MMyHa7d0FmDoP8CgyyMAEegWeC/AwO7As4sLqmIVwzOgMhU7IT+o\n",
       "QCqDE4qLOD4yVHagiCTyfZ0BZUqtWrUqgCFqjvMEAFsqFzM8SSVeAAAAAElFTkSuQmCC\n",
       "\" style=\"display:inline;vertical-align:middle;\" /></a>"
      ],
      "text/plain": [
       "a_{_a}"
      ]
     },
     "metadata": {},
     "output_type": "display_data"
    }
   ],
   "source": [
    "inc_test.body"
   ]
  },
  {
   "cell_type": "code",
   "execution_count": 28,
   "metadata": {},
   "outputs": [
    {
     "data": {
      "text/html": [
       "<a class=\"ProveItLink\" href=\"../__pv_it/demonstrations/d05fd6a875b105761cb7bfabd8640961f2382e260/expr.ipynb\"><img src=\"data:image/png;base64,iVBORw0KGgoAAAANSUhEUgAAABIAAAAPBAMAAAAbqIIhAAAAMFBMVEX///8AAAAAAAAAAAAAAAAA\n",
       "AAAAAAAAAAAAAAAAAAAAAAAAAAAAAAAAAAAAAAAAAAAv3aB7AAAAD3RSTlMAIquJdkTvuxBmmd1U\n",
       "zTKBpmoTAAAACXBIWXMAAA7EAAAOxAGVKw4bAAAAb0lEQVQI12NgYFR2dGAAgzAB9h9A6gEDRyYD\n",
       "1wYgax8D1wcGbgOwJFsBQ38AmNXvwDCfgYHD6wBD/wEGXR4BLp4LDOwOPLu4GDqYFzBwqNgJ+TEw\n",
       "8E5ggAJ+ARjrGYzB4ARn3YTSvHEJUBaXVwMDAK4cE8TyunSFAAAAAElFTkSuQmCC\n",
       "\" style=\"display:inline;vertical-align:middle;\" /></a>"
      ],
      "text/plain": [
       "a_{j}"
      ]
     },
     "metadata": {},
     "output_type": "display_data"
    }
   ],
   "source": [
    "test.first()"
   ]
  },
  {
   "cell_type": "code",
   "execution_count": 29,
   "metadata": {},
   "outputs": [
    {
     "data": {
      "text/html": [
       "<a class=\"ProveItLink\" href=\"../__pv_it/demonstrations/d05fd6a875b105761cb7bfabd8640961f2382e260/expr.ipynb\"><img src=\"data:image/png;base64,iVBORw0KGgoAAAANSUhEUgAAABIAAAAPBAMAAAAbqIIhAAAAMFBMVEX///8AAAAAAAAAAAAAAAAA\n",
       "AAAAAAAAAAAAAAAAAAAAAAAAAAAAAAAAAAAAAAAAAAAv3aB7AAAAD3RSTlMAIquJdkTvuxBmmd1U\n",
       "zTKBpmoTAAAACXBIWXMAAA7EAAAOxAGVKw4bAAAAb0lEQVQI12NgYFR2dGAAgzAB9h9A6gEDRyYD\n",
       "1wYgax8D1wcGbgOwJFsBQ38AmNXvwDCfgYHD6wBD/wEGXR4BLp4LDOwOPLu4GDqYFzBwqNgJ+TEw\n",
       "8E5ggAJ+ARjrGYzB4ARn3YTSvHEJUBaXVwMDAK4cE8TyunSFAAAAAElFTkSuQmCC\n",
       "\" style=\"display:inline;vertical-align:middle;\" /></a>"
      ],
      "text/plain": [
       "a_{j}"
      ]
     },
     "metadata": {},
     "output_type": "display_data"
    }
   ],
   "source": [
    "inc_test.first()"
   ]
  },
  {
   "cell_type": "code",
   "execution_count": 30,
   "metadata": {},
   "outputs": [
    {
     "data": {
      "text/html": [
       "<a class=\"ProveItLink\" href=\"../__pv_it/demonstrations/681cc0f565e159bd801fa5250cd56a65e21abb200/expr.ipynb\"><img src=\"data:image/png;base64,iVBORw0KGgoAAAANSUhEUgAAABMAAAAMBAMAAABy/puxAAAAMFBMVEX///8AAAAAAAAAAAAAAAAA\n",
       "AAAAAAAAAAAAAAAAAAAAAAAAAAAAAAAAAAAAAAAAAAAv3aB7AAAAD3RSTlMAIquJdkTvuxBmmd1U\n",
       "zTKBpmoTAAAACXBIWXMAAA7EAAAOxAGVKw4bAAAAcElEQVQI12NgYFR2dGCAgDAB9h8QFkcmA9cG\n",
       "BmYTAwYGrg8M3AYMUxjCGRjYChj6AxjyGPgFGPodGOYzMP5gYDvA0H+AQZdH7gcD9wQGdgeeXVx8\n",
       "QFEHBg4VOyE/oAL+A1DDwdogwIUhCMoCWrGCAQCUAxT8CaHNcAAAAABJRU5ErkJggg==\n",
       "\" style=\"display:inline;vertical-align:middle;\" /></a>"
      ],
      "text/plain": [
       "a_{0}"
      ]
     },
     "metadata": {},
     "output_type": "display_data"
    }
   ],
   "source": [
    "test.last()"
   ]
  },
  {
   "cell_type": "code",
   "execution_count": 31,
   "metadata": {},
   "outputs": [
    {
     "data": {
      "text/html": [
       "<a class=\"ProveItLink\" href=\"../__pv_it/demonstrations/681cc0f565e159bd801fa5250cd56a65e21abb200/expr.ipynb\"><img src=\"data:image/png;base64,iVBORw0KGgoAAAANSUhEUgAAABMAAAAMBAMAAABy/puxAAAAMFBMVEX///8AAAAAAAAAAAAAAAAA\n",
       "AAAAAAAAAAAAAAAAAAAAAAAAAAAAAAAAAAAAAAAAAAAv3aB7AAAAD3RSTlMAIquJdkTvuxBmmd1U\n",
       "zTKBpmoTAAAACXBIWXMAAA7EAAAOxAGVKw4bAAAAcElEQVQI12NgYFR2dGCAgDAB9h8QFkcmA9cG\n",
       "BmYTAwYGrg8M3AYMUxjCGRjYChj6AxjyGPgFGPodGOYzMP5gYDvA0H+AQZdH7gcD9wQGdgeeXVx8\n",
       "QFEHBg4VOyE/oAL+A1DDwdogwIUhCMoCWrGCAQCUAxT8CaHNcAAAAABJRU5ErkJggg==\n",
       "\" style=\"display:inline;vertical-align:middle;\" /></a>"
      ],
      "text/plain": [
       "a_{0}"
      ]
     },
     "metadata": {},
     "output_type": "display_data"
    }
   ],
   "source": [
    "inc_test.last()"
   ]
  },
  {
   "cell_type": "code",
   "execution_count": 32,
   "metadata": {},
   "outputs": [
    {
     "data": {
      "text/html": [
       "<strong id=\"empty_test_inc\">empty_test_inc:</strong> <a class=\"ProveItLink\" href=\"../__pv_it/demonstrations/fd42a13d9c77229550ecf0a085a27d56ba1f3b300/expr.ipynb\"><img src=\"data:image/png;base64,iVBORw0KGgoAAAANSUhEUgAAAHMAAAANBAMAAABoRUxkAAAAMFBMVEX///8AAAAAAAAAAAAAAAAA\n",
       "AAAAAAAAAAAAAAAAAAAAAAAAAAAAAAAAAAAAAAAAAAAv3aB7AAAAD3RSTlMAIquJdkTvuxBmmd1U\n",
       "zTKBpmoTAAAACXBIWXMAAA7EAAAOxAGVKw4bAAABRklEQVQoz32SPUsDQRCGnzOabO6CidHKwkLT\n",
       "CgGvlhPtBAkWWluJjVhYWGmQYHspbMWUAQsFG4nN2Qlp8g9UsBMkhcIVatzb+0o4LlMN+z7vzOzs\n",
       "gra0ZhFH2ZxjbAzxO6WcGwtTe5zVx1pjXhyg3yGuAuGiyQ1iZTHV7vMZswp6H6PK+2ag3MI9uqem\n",
       "hM9fsgvZI+wadANlH/FNsab9pVl9/pBiCdvimsgqvsj3ydfTrYrXXLIOtsNyoaSs8n7ih4neE2Tk\n",
       "9ZM2bwGKX3AxmuSsQkdXXcWvVI7ptlrwUcfueWAvOI8SxU/Lrhaislre8gd+lFXP198qr2gnYDzI\n",
       "I0OWoRMmHqB4OXDRCWfxrIXoReaZgefEwDGg1jRkzUQf5vSzDdWENQLYYDtMZ19MaEQPMBj0EVbC\n",
       "2oiLmO0RZZSdTG54FPgHzdFV3dXFKPgAAAAASUVORK5CYII=\n",
       "\" style=\"display:inline;vertical-align:middle;\" /></a><br>"
      ],
      "text/plain": [
       "<IPython.core.display.HTML object>"
      ]
     },
     "metadata": {},
     "output_type": "display_data"
    }
   ],
   "source": [
    "empty_test_inc = ExprRange(i, IndexedVar(a, i), one, zero, order='increasing')"
   ]
  },
  {
   "cell_type": "code",
   "execution_count": null,
   "metadata": {},
   "outputs": [],
   "source": []
  },
  {
   "cell_type": "code",
   "execution_count": 33,
   "metadata": {},
   "outputs": [
    {
     "data": {
      "text/html": [
       "<span style=\"font-size:20px;\"> <a class=\"ProveItLink\" href=\"../__pv_it/demonstrations/3eb86f789ffafc5d1c5621a829425fca3e24abd50/proof.ipynb\" style=\"text-decoration: none\">&nbsp;&#x22A2;&nbsp;&nbsp;</a><a class=\"ProveItLink\" href=\"../__pv_it/demonstrations/5d171408951f1e099ec924ac0dcfcbecbd5042bc0/expr.ipynb\"><img src=\"data:image/png;base64,iVBORw0KGgoAAAANSUhEUgAAAKwAAAAVBAMAAAAp2hhWAAAAMFBMVEX///8AAAAAAAAAAAAAAAAA\n",
       "AAAAAAAAAAAAAAAAAAAAAAAAAAAAAAAAAAAAAAAAAAAv3aB7AAAAD3RSTlMAInZUiRDNmWbv3US7\n",
       "qzJazP2FAAAACXBIWXMAAA7EAAAOxAGVKw4bAAACEUlEQVQ4y6WVMUhbQRjH/y/JM8mrNVEEFy2v\n",
       "xaF0kAgqmCmErkpwE5Q4dquDXbooDpmE4iAIERFUBF1cAy2o0FVFxE2wHTNoaEkXQft93z1fnndJ\n",
       "C3nfcLn87n//u3z33QVAGm2H1QymhUYy7du+cE0WyQgdQYh4a6IRofZcGNuOgk7Yj2h8KYxtYl4n\n",
       "7Ec0iVCxpoOkomPhbD/oYEzRBa6Ty9fBIx3I9/ynrhr6CX1sQVFerpLurAeqZhVnhX/aBvQlyee+\n",
       "xLm//RK26fDWEd+CXfKU00v4DPv9dUtrpY/lc9Qf1we3IbRMi9Xg5PDznTewCOwgzjNbhNIv4yv1\n",
       "7/TBMoTSR/IIxUMg6w1swL5H6tB6aGWr9JtI0bWvNLWt8KaLLr7At7V/IVFDotDaVvRWHcmMNymY\n",
       "W0lCFicky+AqmhYF5dP+jZdzw0CM0m1acsJF/6oOhyp/RReccLPCFdLpRvfisrD9Rway83R5qgUU\n",
       "+WJzI9zviL6Ldut69RSMCVVlVdJeTA4Mqd+zT7uZHfxxcQPrO+DsEnL4fu49dVggekpCipJwoNtW\n",
       "uTmAc/ME2DbqV1UfuoFRIwkNgRyZZZQL+xFtPBZsG/Mv0untJyBn2PoCvME3NHmo2I/psfe992Me\n",
       "mPKL6PGxBtt8pacaC+Rp3X7zUI8VnQmy5z4Rc5JreOgxo6jltv9+RZr8D1ou0b/DJ3yQcfTO7QAA\n",
       "AABJRU5ErkJggg==\n",
       "\" style=\"display:inline;vertical-align:middle;\" /></a></span>"
      ],
      "text/plain": [
       "|- (a_{1}, a_{2}, ..., a_{0}) = ()"
      ]
     },
     "metadata": {},
     "output_type": "display_data"
    }
   ],
   "source": [
    "empty_test_inc.reduction()"
   ]
  },
  {
   "cell_type": "code",
   "execution_count": 34,
   "metadata": {},
   "outputs": [
    {
     "data": {
      "text/html": [
       "<strong id=\"empty_test_dec\">empty_test_dec:</strong> <a class=\"ProveItLink\" href=\"../__pv_it/demonstrations/1f65f5bdff85b498149e65a9db93933d8ab6c1850/expr.ipynb\"><img src=\"data:image/png;base64,iVBORw0KGgoAAAANSUhEUgAAAH8AAAANBAMAAAByeazqAAAAMFBMVEX///8AAAAAAAAAAAAAAAAA\n",
       "AAAAAAAAAAAAAAAAAAAAAAAAAAAAAAAAAAAAAAAAAAAv3aB7AAAAD3RSTlMAIquJdkTvuxBmmd1U\n",
       "zTKBpmoTAAAACXBIWXMAAA7EAAAOxAGVKw4bAAABM0lEQVQoz2NgYFR2dGBAADQuTiBkIgJlhQmw\n",
       "/0CSQOPiAqyJDPUNYBZHJgPXBgZmEwMGJC4UdF7AaUDbBIbVEAVcHxi4DRimMIRDJCBcCOBz2YDT\n",
       "gPUMDJshCtgKGPoDGPIY+AXAEhAuFPDgNiCdgeMrREG/A8N8BsYfDGwHwBJgLmEDOL4wcH6AGnCA\n",
       "QZdH7gcD9wQGUKCAuQJIBnBg6gaq4/jDwHThIFgBuwPPLi4+oAscOP4yQLnILugHhhNYBsRA8EoY\n",
       "Ti9YALFBxU7ID+gF/gMMuxugXIbn5UAgAJbn3gFUvguIuRfACJC6JueHKg+Q/AgORJ4GNLeC5U9g\n",
       "eAGhDmGAC0MQAwMzAzYDDDAMYMYSyswmKxgYWtAUMtp+dmDgwEzYLSgKkADWPMCCKYSiDgDUTVW3\n",
       "ZlQJ/QAAAABJRU5ErkJggg==\n",
       "\" style=\"display:inline;vertical-align:middle;\" /></a><br>"
      ],
      "text/plain": [
       "<IPython.core.display.HTML object>"
      ]
     },
     "metadata": {},
     "output_type": "display_data"
    }
   ],
   "source": [
    "empty_test_dec = ExprRange(i, IndexedVar(a, i), zero, one, order='decreasing')"
   ]
  },
  {
   "cell_type": "code",
   "execution_count": 35,
   "metadata": {},
   "outputs": [
    {
     "data": {
      "text/html": [
       "<span style=\"font-size:20px;\"> <a class=\"ProveItLink\" href=\"../__pv_it/demonstrations/489e974ff6cce47b1371f35a3bb9ed7071fdd5a00/proof.ipynb\" style=\"text-decoration: none\">&nbsp;&#x22A2;&nbsp;&nbsp;</a><a class=\"ProveItLink\" href=\"../__pv_it/demonstrations/4e9723ecc4405a23ab38a057b53b4330d1e4c0d20/expr.ipynb\"><img src=\"data:image/png;base64,iVBORw0KGgoAAAANSUhEUgAAALkAAAAVBAMAAADoXVL6AAAAMFBMVEX///8AAAAAAAAAAAAAAAAA\n",
       "AAAAAAAAAAAAAAAAAAAAAAAAAAAAAAAAAAAAAAAAAAAv3aB7AAAAD3RSTlMAInZUiRDNmWbv3US7\n",
       "qzJazP2FAAAACXBIWXMAAA7EAAAOxAGVKw4bAAACA0lEQVQ4y62VMUgbURjH/8nlesmZxsNRUE7b\n",
       "WVJoHZyODN2U4CAKSrIUHDO0IC4Gl45Nt0JLCWgRhJbgJihEZ0ERcdZVHIIaly5+730v7eW9Oxwu\n",
       "35C87/f+78+99777DoCHpBHlkGKaLiZ234tgr5i+TWyOdN1AViCpXU3ujg8GWWDq1Afg/tkga0xz\n",
       "AzBHrqyTBtPpQbi/0A/AqjL9KKrnYsIPF1N/GhtjpRE1ypxpU07AdJX+9r18NzSlpXEx9BWn6kSy\n",
       "sjTWd0X8/rcZoltUNt/gNJEpBSzlVMVifEkt1bGuBFZDm3OLTL/TNjpwA2ziQO1KphyFyWas+waw\n",
       "rQSFjn7NLabknmuj0sJPDPMbzWnveuLdf8D+qwRDjSh3onQyFR9fkOoixz1Bps+723fIdpSAVaFz\n",
       "55Np4pjsiri0xrtw6xC3JFMv5G6b1qSz7/Gy+oaNs21tPu8znRVDa8cp0LP79iNUGn72Cl2cnBGD\n",
       "/9kxZmo1dncCzV2WKNEb0p7PjU3RyQwXsVtWKW5PKDy52P1F0h2x31rvR+hWXl+fX7G729LcC4q6\n",
       "VwrIW7X0V1oufme2wHKfYNQQ/GGaral8Eoe0I0S5B8biTL9gLbKvCXrUW1D6BMzrX5j3Dz5ssy/M\n",
       "9wlSbUOQ95guh2Fkf0mbyNetjHptM035iVvkRAQbEfQJ+8N//+j6lUkAAAAASUVORK5CYII=\n",
       "\" style=\"display:inline;vertical-align:middle;\" /></a></span>"
      ],
      "text/plain": [
       "|- (a_{0}, a_{-1}, ..., a_{1}) = ()"
      ]
     },
     "metadata": {},
     "output_type": "display_data"
    }
   ],
   "source": [
    "empty_test_dec.reduction()"
   ]
  },
  {
   "cell_type": "code",
   "execution_count": null,
   "metadata": {},
   "outputs": [],
   "source": []
  },
  {
   "cell_type": "code",
   "execution_count": 36,
   "metadata": {},
   "outputs": [
    {
     "data": {
      "text/html": [
       "<a class=\"ProveItLink\" href=\"../__pv_it/demonstrations/42929fab92cf9c277cd97c705b1b2f8b5334c8640/expr.ipynb\"><img src=\"data:image/png;base64,iVBORw0KGgoAAAANSUhEUgAAAGUAAAAOCAMAAAABkSJkAAAANlBMVEX///8AAAAAAAAAAAAAAAAA\n",
       "AAAAAAAAAAAAAAAAAAAAAAAAAAAAAAAAAAAAAAAAAAAAAAAAAABHL6OuAAAAEXRSTlMAMrsiq4l2\n",
       "RO8QZpndVM3z6UwP0jwAAAAJcEhZcwAADsQAAA7EAZUrDhsAAADOSURBVDjLtVNbDsMgDAsEAuHV\n",
       "cf/LDjYNUQFVKw1/IAGundoC4AEIYQ+430T/L1lUmpDaNpwuwxX1AYwtqcjMc90oL6gPArKurD4s\n",
       "pgeSvKTeh88fad0Ojlc4IWezot6HrZFwUxr+xSSzpN4PLNcyXV71LRKvqVNB7Ujj4BLLqhJEnLok\n",
       "vKDOTAKCyANBlgFj8NAehlm+l4E6q7lcCltDkD9US1akBSoS0490f9xRzxp9zWVIUrAXXMOSjnmv\n",
       "ja21GLfBBf0XtVHjXSTt4A08kAchMSM4iQAAAABJRU5ErkJggg==\n",
       "\" style=\"display:inline;vertical-align:middle;\" /></a>"
      ],
      "text/plain": [
       "_a -> a_{-_a}"
      ]
     },
     "metadata": {},
     "output_type": "display_data"
    }
   ],
   "source": [
    "empty_test_dec.lambda_map"
   ]
  },
  {
   "cell_type": "code",
   "execution_count": 37,
   "metadata": {},
   "outputs": [
    {
     "data": {
      "text/html": [
       "<strong id=\"partition_test_inc\">partition_test_inc:</strong> <a class=\"ProveItLink\" href=\"../__pv_it/demonstrations/ac911cecdb00abbbe28da0127385a141dbb607520/expr.ipynb\"><img src=\"data:image/png;base64,iVBORw0KGgoAAAANSUhEUgAAAHMAAAANBAMAAABoRUxkAAAAMFBMVEX///8AAAAAAAAAAAAAAAAA\n",
       "AAAAAAAAAAAAAAAAAAAAAAAAAAAAAAAAAAAAAAAAAAAv3aB7AAAAD3RSTlMAIquJdkTvuxBmmd1U\n",
       "zTKBpmoTAAAACXBIWXMAAA7EAAAOxAGVKw4bAAABQUlEQVQoz32SPUvDUBRAT01sn0loS3F2sasQ\n",
       "MJOgROzgJOKgi4uTuIiDuyJFcGoQdzsKDhZcpC7pJrj0J+g/KFShiILvQ5OU0N7hcfPuOS83Nw8K\n",
       "i+shadSCeaZGht+tlkZpYfaAs/OpasqLI5wOVuCbx8uIe7jqTzQND5JwBrg+N+yZygM8Um50JqqG\n",
       "xx5A8YTWNsdUqrpyiPgEb7JqePal2gq5pTCiGOt2PpgbTFU1j9hUasyStzDCjZDjEd/M9HtaFXlN\n",
       "zU/zVVtItRR6Xacs3xqKH1k55bXd1mpLjUotej9JNE9PqaK+VtuSDVdinuWpFxvv9Tetuk8SdNty\n",
       "6f4nCjB8pFQTekxe8kP1t77kGk6A8vLKMP7LG+yAxZjq51Qrc6eSa2QFd9BM9leHISLMqc00vf6K\n",
       "s5Vx1s5PeBz4BbIqV/VHbY0dAAAAAElFTkSuQmCC\n",
       "\" style=\"display:inline;vertical-align:middle;\" /></a><br>"
      ],
      "text/plain": [
       "<IPython.core.display.HTML object>"
      ]
     },
     "metadata": {},
     "output_type": "display_data"
    }
   ],
   "source": [
    "partition_test_inc = ExprRange(i, IndexedVar(a, i), zero, four, order='increasing')"
   ]
  },
  {
   "cell_type": "code",
   "execution_count": 38,
   "metadata": {},
   "outputs": [
    {
     "data": {
      "text/html": [
       "<span style=\"font-size:20px;\"> <a class=\"ProveItLink\" href=\"../__pv_it/demonstrations/de519e99b3df9e64ee7b04259f2d05b1e89e34670/proof.ipynb\" style=\"text-decoration: none\">&nbsp;&#x22A2;&nbsp;&nbsp;</a><a class=\"ProveItLink\" href=\"../__pv_it/demonstrations/ac315dcd44469c77d8bce89b71bb957f982b0def0/expr.ipynb\"><img src=\"data:image/png;base64,iVBORw0KGgoAAAANSUhEUgAAAOAAAAAuBAMAAADD4QgWAAAAMFBMVEX///8AAAAAAAAAAAAAAAAA\n",
       "AAAAAAAAAAAAAAAAAAAAAAAAAAAAAAAAAAAAAAAAAAAv3aB7AAAAD3RSTlMAInZUiRDNmWbv3US7\n",
       "qzJazP2FAAAACXBIWXMAAA7EAAAOxAGVKw4bAAAC1klEQVRYw+2XzWsTQRiHf7vJNh9tt8GTh9Su\n",
       "RaGXagpVsBdDLApCJAQPFiopnjwGrBcvDYo9VdRDQFA0oKXQXgRPBQX1H1CKenUFQfCgQRsVCtad\n",
       "d/MxJW6aeQcCgnMIs8sz85vdeTN5AiABdjM4g8wUP7DfYQyahEYbUx9izekE9uWUh0RKOoHRovKQ\n",
       "GLRaWXnEUb3Ai8oj5kV1v9kvl9twZs8u34YWn2UtcT0xUJNq/TZeda4FiV+kOlil9rqrwIdeod5B\n",
       "pIJwJu3fmSnhCnAuuHp9HhDEMeUnvOstsIp4Glfx1L+zADyCPVoJLmziYVa9/ldOYOw5Co9xH0P+\n",
       "IXcP1hYQCg70eTwRgevKgd4rLTi4CaOGGB1y1jdEqx0DiYd1UAROKe/hS2+CFN6F9tUQL8ErFus7\n",
       "BucmKNBqx0U1EZ8wLRG4pPyEXl0POKGViO09oWP9oCVMFYsUWBBlIT7ofrNDPCYocF458LM3y8aZ\n",
       "4UPeKx1KYdV7gvMHPmy4FBhf9oC4OL1WGh0B+HyJAteUA+NuvUNFE2p+AWkPj7ThTcCePrWZglHh\n",
       "H7+jeAaEsSMw3YaHpfOmxjv6XzSmylwG8s3ZTm46sNp/X/Ot7o2fKSQZx++sfLEzwWynnb+vVslL\n",
       "OJrQWJGGD/1v/3Lr4cYbuiLMEufJXr7NMV0RZoiznggzTu5Ybyu0rCvC6laqKcJd8RKQ1RXhbngZ\n",
       "WOSL8NnsW4k3ro27Qbw/IfpA4swW4SLN0uAH0+atIJ4A4DBInNkivIURt8XbbjhwgD9h/3HaDb4I\n",
       "X68H1nlhtQE74AP5Akic2SIMnIbEmxeC+DrgUOASX4RhL0PiMesE8QSEEgX/7yhXhIFkDhIP+3cQ\n",
       "T8BeUOAaW4RhFA2Jn3GNXx35j9MLJyDEmS3CyS+fcq3LeC5a3kWcR3K+OHNF+MH2tnRpZ8YTnfno\n",
       "+0sgcdYSYY4464gwQ5z/AN78CgTIfrs3AAAAAElFTkSuQmCC\n",
       "\" style=\"display:inline;vertical-align:middle;\" /></a></span>"
      ],
      "text/plain": [
       "|- (a_{0}, a_{1}, ..., a_{4}) =  \\\\ (a_{0}, a_{1}, ..., a_{2},a_{3}, ..., a_{4})"
      ]
     },
     "metadata": {},
     "output_type": "display_data"
    }
   ],
   "source": [
    "partition_test_inc.partition(two)"
   ]
  },
  {
   "cell_type": "code",
   "execution_count": 39,
   "metadata": {},
   "outputs": [
    {
     "data": {
      "text/html": [
       "<strong id=\"partition_test_dec\">partition_test_dec:</strong> <a class=\"ProveItLink\" href=\"../__pv_it/demonstrations/5b6792a0cbd5a3726221d759bb668182834b40970/expr.ipynb\"><img src=\"data:image/png;base64,iVBORw0KGgoAAAANSUhEUgAAAHMAAAANBAMAAABoRUxkAAAAMFBMVEX///8AAAAAAAAAAAAAAAAA\n",
       "AAAAAAAAAAAAAAAAAAAAAAAAAAAAAAAAAAAAAAAAAAAv3aB7AAAAD3RSTlMAIquJdkTvuxBmmd1U\n",
       "zTKBpmoTAAAACXBIWXMAAA7EAAAOxAGVKw4bAAABV0lEQVQoz32SsUvDQBTGvzSxvSYhDcXZxa5C\n",
       "wEwOclYHJxEHXRx0UhdxcLdIqWOCOAp2FBwsuEhd0k1w6eAfEP+DggpRVHyXM4klpDfcvZf3+949\n",
       "vgugzC5xZKvuTmPi+sdv2pUoK0zt4qQ1UZrx7AB6j86hTDs+bqBcNsMipeRV1wH0EQw6tJGs3AJ3\n",
       "KDnaTpFU8hfYAspH8NaB7T/pHtg7rFDtFUklf4iaDY/jisZYlVL2hqqIDL9IGvNKhHIAL8CcaWuM\n",
       "BGQP+0JpOID2TGFeJvyL+ZlINK9ws69jQFL2TZVjPHW7wBmHJ4wTW/w9DWLeols5WGOxvqb44tYH\n",
       "6nq6/NIgd60fGPdicGqDfhIIQPIRaoGcxJpfeA1gJg/aCZUP4DE3cApIm5J/hJ5ZTRKjVd0HnJw0\n",
       "BbCCjTQ+/wzQThLLbdpgPCdtZ03c67HKOKvlHR4HfgG3dFoxBfTpBgAAAABJRU5ErkJggg==\n",
       "\" style=\"display:inline;vertical-align:middle;\" /></a><br>"
      ],
      "text/plain": [
       "<IPython.core.display.HTML object>"
      ]
     },
     "metadata": {},
     "output_type": "display_data"
    }
   ],
   "source": [
    "partition_test_dec = ExprRange(i, IndexedVar(a, i), four, zero, order='decreasing')"
   ]
  },
  {
   "cell_type": "code",
   "execution_count": 40,
   "metadata": {},
   "outputs": [
    {
     "data": {
      "text/html": [
       "<a class=\"ProveItLink\" href=\"../__pv_it/demonstrations/7395bca08a1b3c2d742e0d6a729cbf9350dc8b500/expr.ipynb\"><img src=\"data:image/png;base64,iVBORw0KGgoAAAANSUhEUgAAADkAAAAVBAMAAAAOWFv7AAAAMFBMVEX///8AAAAAAAAAAAAAAAAA\n",
       "AAAAAAAAAAAAAAAAAAAAAAAAAAAAAAAAAAAAAAAAAAAv3aB7AAAAD3RSTlMAInZUiRDNmWbv3US7\n",
       "qzJazP2FAAAACXBIWXMAAA7EAAAOxAGVKw4bAAABC0lEQVQoz2NgYBBgwA7A4kwGOGQ3gQgTEPEc\n",
       "XYqvgIGpgYGBNQHEWYsuy3WBgSGVgYG9AWQ6hqwWULadgYETxH6Ri25wG1CWM4DBDMRxQJdlYQPK\n",
       "sjUwlIAMFkCXVQTJslxgyACyJRjQZBkbQLIcCQyLQQajy7IwgGSZJzDMBqoRgMmGrQKBdQyNYFm+\n",
       "DyBZIQY0vYwKYFnuCSCT9969+/MKsiz33bv35zowMC9gOATmz2VgCEDRzgly1QEGXzDnDwPrNxRZ\n",
       "/gPAYHRgeAVi1/y/xLAKWTP7+b8KDFwbGLgeQAWYA9DDWgpoeAHcj+igAogPQtlB6JKMQKsZYqAc\n",
       "BXRZHgGI17EDRQYGAGhpO7ASYUggAAAAAElFTkSuQmCC\n",
       "\" style=\"display:inline;vertical-align:middle;\" /></a>"
      ],
      "text/plain": [
       "(4, -4)"
      ]
     },
     "metadata": {},
     "output_type": "display_data"
    }
   ],
   "source": [
    "partition_test_dec.start_index, partition_test_dec.true_start_index"
   ]
  },
  {
   "cell_type": "code",
   "execution_count": 41,
   "metadata": {},
   "outputs": [
    {
     "data": {
      "text/html": [
       "<span style=\"font-size:20px;\"> <a class=\"ProveItLink\" href=\"../__pv_it/demonstrations/5bc6d0dfc59899c6da4cc37efaa672eaa6381e300/proof.ipynb\" style=\"text-decoration: none\">&nbsp;&#x22A2;&nbsp;&nbsp;</a><a class=\"ProveItLink\" href=\"../__pv_it/demonstrations/7140f599305b18f6e4785920ae8f5006b7f3eb350/expr.ipynb\"><img src=\"data:image/png;base64,iVBORw0KGgoAAAANSUhEUgAAAOAAAAAuBAMAAADD4QgWAAAAMFBMVEX///8AAAAAAAAAAAAAAAAA\n",
       "AAAAAAAAAAAAAAAAAAAAAAAAAAAAAAAAAAAAAAAAAAAv3aB7AAAAD3RSTlMAInZUiRDNmWbv3US7\n",
       "qzJazP2FAAAACXBIWXMAAA7EAAAOxAGVKw4bAAAC5ElEQVRYw+2XzWsTQRjGn91kzVe7DZ5bu5aK\n",
       "vVRSqII9hRAUhMhSPFiopHjymINevBgUe1L8oiAoGtBSqRfBU0Gh+g9YinqOJ8GDrbZRoWB9ZzYf\n",
       "I3Fj5h0ICM4hzITf7DMfz755AiANdrM4k+wMXzDlMSZNwqCN6U9x5kwE9/jaU2JlE8F4SXtKAkZt\n",
       "QXvGETPBc9ozzgt3v92v2m0ot/cvb0OLL7CWuJLuqylev4U3nb2g8PPSB8uyrXUl+IiMehexCnXr\n",
       "fp0p4yKsK+PVUGNLPprLUv+o9g7v0QI3kaTJ9mbwzSXgMfqz9s1QY0v+Ml5Qf4MjmFhF8RnwvC54\n",
       "H84O3Gq0EmpsyT/AABXFFW1BOtKihxt0UAcCQecr4qKXDH1BJW/VkKCiOKV9h6/pARm8j6Rth2TI\n",
       "LM4W+ucmYJ+lbjsu3CT5fTW5pGvaOyRf93mRpRgmSND5JpcwVaICMuuhKGwkPuT3zY7kXdqhF7xV\n",
       "eu0TPWX95NAhqyx2uEw7ODP6YZ0c6v5EclEcraheS42OAAK+hgE60qfagsm6+9388e0MIo0XcKZq\n",
       "/QAOt+FNIDCNVTEov7RmRJvr8ONUJrNteBPACF7ySv+rRuf69wymGwM3N56G0/77Ot2Szl0ABhnl\n",
       "d1Yd/K5gt9NeyGp1cgknJjRWZJCH/rd/ufXw4i3TIMwKzpO9PM0x0yDMCM5mQZhRuRO9deiCaRDW\n",
       "T6WGQbgrXgEKpkG4G14F5vlB+FThncLjdLjbAyA/Chmc2UG4JJ7S5N2R8LAhgbiXWpXBmR2EdzBc\n",
       "bfGIhAtKIFHFF3Eb7CCMq3XBOh8uGADDPu5ABGduEKaSf0LlheCf+QDY8PEEIjhzgzDlrEWVF4Ih\n",
       "vARI8Lb8O8oNwpTYfJUXgiG8BOhItyCCMzsIWyUrrQzlHXbgA9NQcGYH4cHPH31lKAU78LaXWguC\n",
       "MzcIP9zdVYbWsW2vM58/6AfB2SgIc4KzSRBmBOdfR6oVhhsJrekAAAAASUVORK5CYII=\n",
       "\" style=\"display:inline;vertical-align:middle;\" /></a></span>"
      ],
      "text/plain": [
       "|- (a_{4}, a_{3}, ..., a_{0}) =  \\\\ (a_{4}, a_{3}, ..., a_{2},a_{1}, ..., a_{0})"
      ]
     },
     "metadata": {},
     "output_type": "display_data"
    }
   ],
   "source": [
    "partition_test_dec.partition(two)"
   ]
  },
  {
   "cell_type": "code",
   "execution_count": null,
   "metadata": {},
   "outputs": [],
   "source": []
  },
  {
   "cell_type": "code",
   "execution_count": 42,
   "metadata": {},
   "outputs": [],
   "source": [
    "from proveit import fa\n",
    "from proveit.numbers import Complex"
   ]
  },
  {
   "cell_type": "code",
   "execution_count": 43,
   "metadata": {},
   "outputs": [
    {
     "data": {
      "text/html": [
       "<strong id=\"assumptions\">assumptions:</strong> <a class=\"ProveItLink\" href=\"../__pv_it/demonstrations/0cce80121a2a770bdede45f72ae6473622a68bbf0/expr.ipynb\"><img src=\"data:image/png;base64,iVBORw0KGgoAAAANSUhEUgAAAQcAAAAVBAMAAAC57DawAAAAMFBMVEX///8AAAAAAAAAAAAAAAAA\n",
       "AAAAAAAAAAAAAAAAAAAAAAAAAAAAAAAAAAAAAAAAAAAv3aB7AAAAD3RSTlMAInZUiRDNmWbv3US7\n",
       "qzJazP2FAAAACXBIWXMAAA7EAAAOxAGVKw4bAAADHElEQVRIx61WSWgUQRR9s/TsPfYpBPEwihIP\n",
       "LoNoQAkkRwXFJgcPISEdQ8BLSA5BxNOgoBfBuXhwgYzEeGi3QVT0IHQiCiYiCSIuqAQFxSBkTkKI\n",
       "B6uqq6ZrqnsmLVjw4f+aeq9f1f/1awAYcC3MiOC/D/bpaNG1UCNbUCb6/rwwcWi1GrRYu/dqBPHJ\n",
       "q8FUAnmfBnu5If9cWdahxMsmsF3lepZdgFYLRuSKT4FBEan8HBktEbmWa+Q4LIX/RuO+3o0REQlT\n",
       "WfTROAiUAxHQr8dLSItI5RfIESBZcq35eCyc3URAalz59Y2TMFAJRupdGEKmGa9AngcTmm5ZB3tk\n",
       "EbjEtzVn32TO4pmIpYrYYdts13p7oc0nwodMm+gkYec/iDjhFuhxkZZFfWmrIuLRNnESxpdojyLC\n",
       "j0yUMEFCaujdqdR2RylIxBHmttVLYxFOrlqREZGRejqMHOaFCM7vR8YX2M7Y7sbTjZURz5aDRJxj\n",
       "7hA8qh/adEVGJAxPRH68r48HnN+PTFmYIiG1qLGhsVl8S1pBIvYz15KoUsWusoxIeIVp4GzsJS8F\n",
       "zu9HxsqgrYSahm76jWM2HXeJZ6ZpYzpt25dt+44nYoVd+Stk0W1Ohbe6K8JF4CdlcLgI3fzAs+vy\n",
       "ByDztboI8j2lILvNoJN4whgdaT8Y0Coyol8+CW1BpMPlD0CSJIp0+DoNRrUgEQeYW5Gp8gVHRmRk\n",
       "Efiaa+x9fmSsglkSzrKiXlNux1o8SMQF5m6pL3tNbJcDzUNE6+9LbolEv0ieJH4fEimHXTl27VK1\n",
       "RhH5Wrsi4qghrjMS9SIeJkYKctDyEMPiN7bqJLTfEr8PiWQPlunLxM7OUdLxXukTnydHycwt95g+\n",
       "PXQnv6867O3JTHuIgXm3mvJj12ipA7bp8fuQyFSRIUdGDenCeh2THSrPafYwb75i7JP8B3N2w2MV\n",
       "MyV+H3Kj+yIR04sXzfUeMDqavnU9LRo/KZUW/KeIzTBbKU6F+lezqcm8VmgB6kUL/ojDr3U/kh3V\n",
       "UCJmmsxHW4GIwOb8OVrukYJroUY07J/R8GMz8Be0YegYTXmQqgAAAABJRU5ErkJggg==\n",
       "\" style=\"display:inline;vertical-align:middle;\" /></a><br>"
      ],
      "text/plain": [
       "<IPython.core.display.HTML object>"
      ]
     },
     "metadata": {},
     "output_type": "display_data"
    }
   ],
   "source": [
    "assumptions = [InSet(Add(j, Neg(i), one), Natural), \n",
    "               InSet(i, Natural), InSet(j, Natural)]"
   ]
  },
  {
   "cell_type": "code",
   "execution_count": 44,
   "metadata": {},
   "outputs": [
    {
     "data": {
      "text/html": [
       "<strong id=\"f_i_to_j_dec\">f_i_to_j_dec:</strong> <a class=\"ProveItLink\" href=\"../../__pv_it/common/0bddaaf076f4370ef99072b6bd75245122135a110/expr.ipynb\"><img src=\"data:image/png;base64,iVBORw0KGgoAAAANSUhEUgAAANcAAAAVBAMAAAAnc2Y5AAAAMFBMVEX///8AAAAAAAAAAAAAAAAA\n",
       "AAAAAAAAAAAAAAAAAAAAAAAAAAAAAAAAAAAAAAAAAAAv3aB7AAAAD3RSTlMAmYkQqzLvVES73WZ2\n",
       "Is1wFLxSAAAACXBIWXMAAA7EAAAOxAGVKw4bAAACmUlEQVRIx5WWP2gTURzHf5fL5dLkLg2OiiVI\n",
       "pk43uAih7dSlSyYFlwQcdOhwqDg42EwFwSGgo0JrlWqnOIqiCQgdROiqFjzQSZdCly4Wf7/3997l\n",
       "5VEf3OOX9/vc93u/9969C4BqseqK7QDgP4aLLbbR+9RVx9N0lNpVHp3NbN+gvUsJ9mELZZvwOc/x\n",
       "zG28JgWFYAfpkdtF60LwWNLtq/ToS3jVWtBIcjjL+BlGz02dywvH2P90m2ldiDJJ33xIBhc4UW/m\n",
       "cJbxbAVEZPbGbWboCrp6zOK+GLuhaZ6pwCyzSuLyKuhyurRFYZiJsT8a55kHM80azkUr6DK6vvqC\n",
       "Zs7DdexQyW1Fi8w5XLbJyGZWWnF45XSh80nS82Pp29rE4IPmeQZLLVX7NrN65qpM60KzMhL0jy4N\n",
       "1lII0gUM7mmcZ3YBrnmZzSzsu8yULkQH86mgN/jyDcCHdQx6GueZWwBJhZ7S/71HravMgiOXmdJF\n",
       "4Y1E0ItqMCSFTY0vSjMGT1dWdVamdQHOS/oJyHIbK6h5X+M8g9MIv3zrNG65zLQuPxMYvc4G53Ci\n",
       "lge4dd7ShHGcZ57i75OSdYMMNZtvSe5u0oX4RNAs4BuzF4/YTodlth9Epk3T/b34Ev2V25pY/1Te\n",
       "pH7ldaF+JOiQr3KARZbfYfCKat9h7yPPXMdrrfCelVdP1xAbSHabgqbs9hIwdKFMU0C0J97Ml+Lr\n",
       "w9bhDju1eabWnbUq30CxRgsTMHXZZkb6biPNnZPy2KX5kRnjaDYaP2Nb0wcVGLrl9KM4kV8vCWKO\n",
       "f0q/UufTk6jMs1mf4KFizdYBQ7eX7gr6/UUx6A+1ckSdylyZYcYfL5pOjMHQ9SYDXYxoh+xWyx+L\n",
       "eGw3+3K2vwWHiv4HFCushikf/ucAAAAASUVORK5CYII=\n",
       "\" style=\"display:inline;vertical-align:middle;\" /></a><br>"
      ],
      "text/plain": [
       "<IPython.core.display.HTML object>"
      ]
     },
     "metadata": {},
     "output_type": "display_data"
    }
   ],
   "source": [
    "f_i_to_j_dec = ExprRange(a, fa, i, j, order='decreasing')"
   ]
  },
  {
   "cell_type": "code",
   "execution_count": null,
   "metadata": {},
   "outputs": [],
   "source": []
  },
  {
   "cell_type": "code",
   "execution_count": 45,
   "metadata": {},
   "outputs": [],
   "source": [
    "from proveit.core_expr_types.tuples import negated_shift_equivalence"
   ]
  },
  {
   "cell_type": "code",
   "execution_count": 46,
   "metadata": {},
   "outputs": [
    {
     "data": {
      "text/html": [
       "<span style=\"font-size:20px;\"> <a class=\"ProveItLink\" href=\"proofs/negated_shift_equivalence/thm_proof.ipynb\" style=\"text-decoration: none\">&nbsp;&#x22A2;&nbsp;&nbsp;</a><a class=\"ProveItLink\" href=\"../__pv_it/theorems/d6c0fed2eba654fb582fce42ec2461b2ba4807f30/expr.ipynb\"><img src=\"data:image/png;base64,iVBORw0KGgoAAAANSUhEUgAABC0AAAAZBAMAAADnBsmQAAAAMFBMVEX///8AAAAAAAAAAAAAAAAA\n",
       "AAAAAAAAAAAAAAAAAAAAAAAAAAAAAAAAAAAAAAAAAAAv3aB7AAAAD3RSTlMAq1RmmUTNIjK7EInv\n",
       "3XZ/CtNrAAAACXBIWXMAAA7EAAAOxAGVKw4bAAAKp0lEQVRo3u1bbYxUVxl+d+bOzsydj92mTdNG\n",
       "XGdTCxtbYJS2SqN0DG1BCXVS/CGU0sE1aWxCvGhighE66g/TBNylpCGsBu9Wg1Lq7kKtWix1hDTV\n",
       "auuWUIttN5m1a1BJcaNSzJo0nu/vc2dj+LEaTnJ27pn3fZ7znjnPfc+55wKAWd47FUFC6WC+Uv63\n",
       "S3nqNMDbUxXb0kgGNhb6yLKsqm3tC1E8Ao/m3w/zjvzmZMbsfAbQGTHvmBNGLMaxAtV09f9PF39k\n",
       "VW1Dpu24NSpugi3z74d5b/Gbkzpyh2UNoDNivjEnjViMg+miF1/foE18F/5IVX26sBALqqQmaAUI\n",
       "fh6zdrkGb6k+1HITqjMGOvc68q4m9yB5ITdCvB0INQTUUfidSSfXW25iVF2IPbGBkDPeIeZ1x4EG\n",
       "cuJfHrQYB9PFXdjwoDbxQR19dEc+XViIBVUOsQpwdHeFXZcmoDtWfIglxJnvDR08evcc+vtQcg+S\n",
       "F8oN6v2QMwy1o+6ak8sOSwzAQoTXfCE2ELIkx1y47iTQQNKzPjSvTBdfw4vWsDbxOZwRdnjXEQux\n",
       "oMpqVgFObozFNaTVX5lYAtctVsa6uCW5B42Xet/iDEPtqEek8A2qmx2WGECPnfT/FisIjadDzMUb\n",
       "R4AGEjR8aF6ZLrD+ChV9A4Flc8yrCwuxoEqLVcjMiTYuLyprNLEUwaeLYpzUgcFLvG1Ey+joAeGx\n",
       "TPN70Unc0hCaLgRC50mOmXLhQEptH5pXpgu89ew2NpYrEvaXDRuxoLYXDVqRdCd5m5RBJasSy2Kv\n",
       "LroTF2uDl3hbCDUE0tGz4NbFoIuYoJ8Fty4GnTzJMZ8AHsjDTR+aV/488tLU1G8MXRSnpt6c8D+P\n",
       "mIiFVIIJWiG96JUaa4/htHxU5m5qWYcW3JmqSxeF3oQOFF4Ym2beFkINYR3+Yivc9El9RrY/t8sV\n",
       "lhiAROi6OGroIvuec+0OMX/wpWuABXKHF80r18VagBFj4oMm5GO/LkzEQiry7u1p8/bEZnRxm/Sh\n",
       "FnTfFTItly7Sic/ikhdqxSr1poj1U7i8Im9f0RGE/0gtOaXNSOYF+G7sCIsPQEHourjNmNnNUX6u\n",
       "U8zvitx0vRfNK9fFdsj2GhOPvtiecH5BESF9YGladyz9WILSYaSby8reOionrgYR/EBtt2273rFw\n",
       "KFVo5RkTXecqd6OLm6UztZwG+HrQcOki1UqKTfBCOcJ7Q+xtIdQQTmPKS/fmHtRm5MkqrHeFxQeg\n",
       "IHRd3KzPbHgKgskOMWfpwykO5GUvmleui3xcwM+l4Z1VeXA1Ak+rvIu+/YkfK7qgiAKdi7Oofoxc\n",
       "hu8jX+RpVkQetzIzKd9DQLn5RmDWyJ55Gj7aK0hoQcjnbK2Nzip2yayIES2BdVoBlvN2SH6MIelM\n",
       "Lc8DxEXcZ7iN3OdNoYvcbJIuBC8iXh5TbwuhhvA8ju8UlTFKKb+lKeVT9CF5yEWMK0ccIsGdlboY\n",
       "0nmCWfwYnhxzapYHkrvkRfPKdZFqk01k/tam1MUyue381vWPwWtw/K+KLhjC/BXYTo7qYhT9bGoa\n",
       "yl1AsrxPBd3HyPsLcRBLEqIwc7HMTGh7PcvOHDRdnBDtFJ7szeYuDE/X8tiVLzKtzns42sd65m0h\n",
       "1BBwR6XPrTX2nb+G8KIrLD4ABaHni806T3EYxusdYqY7WhxIueVF8yrOwRuryOoWKwfd3Wl+8wY4\n",
       "umpuSVU9B6cIJQOyQzVFF3cBPR6Tmp00zmRQg5Df0K4VFBLSad15bBNMeO3iXEeuI3tFu7sX9btU\n",
       "+u4VWXVr6FxHJpN0sVdZKN5g3hSh7C/UEHBH45UHmtqMhO/SI6alLmJcFYSui6X6zI63yV4yMeZ8\n",
       "Lw8k3xv70LwKXRzDv2lq0TFl4guLETx86nzEjl2DQN1fEERmmgxvBv8AK7PnceNVRReogxI3C12I\n",
       "Uw8MRg1CPnDjLqILRkJ+G4AtIiUcWfVTdppSqku7wiwdcO9tWvlKiq/H60hQK3G01IdaDqL2xYJz\n",
       "3zksfdUSg84L2YvMO20e86khHMSPAfF4RTs5CP8OXY0lNCyLGFcFoetipaGLClyLtlskAvtZgY6i\n",
       "2OaB9FQnfGhehS6+SqZgpTrx2V+iPz+KhqKQDvjDA5ouMGKMJJiA5Pa+Lz6JNoLhrNRFFn39ZW4W\n",
       "ukjxDQYGp2qUfKDwOFlfMElwAJV9CBm25/jIXsNr4vvJIEDYFWbFQX1qJHNGr4eyVZrMxgmGWY7i\n",
       "5fRLZsa9xPMS9g3f4SDRUnnpHS8eLDWeXq0juBbGm/qMHISltRoNyyLGVUGI8otIZGXBk2+nzgQ0\n",
       "Ake4dMQP13kgPZvaPjSvQhddJF/dqU48XEe+2Q0Zsn6E7QlNFxjxFZLPnijgqX65kpPLP9FFBk35\n",
       "Rm4Wusjw2wqDM8OUfABqfwFBQspGyD7O82JQy7UIl3ISpTErDngfM0kr32vh664VLJmVXld2YXtQ\n",
       "vdo4v+ha9M7VLC8R3zP4osb/TMU6L3QNsyxWMhc2NQTc0aNQvkfP4KPnv9nXZDnWJMZVQfBy1e+2\n",
       "VnlWlk8UfT/b/mcWAeaR4Z4RI6Y7WhxIep0Xzavxnn2fpgu6TZmG9OcPHHgUCoU4jE3zQXFekP3n\n",
       "WmX5J7pIIcX3U/Mj+B6PiC5yw7x1EDco+QAcwdtYRkJKP0ml1LVYLyOuR0C5U3RmxYE/H+Ea9Mo2\n",
       "pic6+wBIS6npW453gvDVt/WxwUvy806BUMtZb0faSSMNyyI+m/DMOek879wpePRCRvFxsAKx0bwa\n",
       "uviVqYvwEux7Ikfm+t5vQMHURThHeumJ8Kp0P/7nIqVNUhdIAWSqeiLnOoLBqRolH4DMMmAkbJ1A\n",
       "yPEfMtfxKH97TJeJV2Npl8yKg/IKqL+7or1Qom/JcIfcor2ycrzzsg98C6DxdlXuiLUXdcabKE9H\n",
       "2hsrGpZBnPgWTLzu22DHXLDd8Uv73s/aL+k2OF82rrZ0Ec5Z+eKF3MXb6cHmRA3uN82pRi1Ene6G\n",
       "I9DV3lNAHz1la9+JzKouym0Jxo0RdhYxzUnkvnIx3+kWo6ENMVwA1NlsW9olM3fgO76I1D8cUtrA\n",
       "Xg+HmEBY9vvuyGHhq5cxFZ2Phiqnmbfj7bIawn7/LO9wEYug/Qh3zGP2vhONojTSmMeIxTh0XeRa\n",
       "li4+/aHzVdiBskL6qr5ntlrppC/KncRTuruSj7o+gj6CPym62E8HNy26/sm/23K4CIwbmDz3+wi6\n",
       "OIn8aUbP8UeX1cuewnSos3vqyk8nmLkDpx4mddUapc1/EiJcYTnse6qLjMNZ9VBV4Q1m6v5pVEM4\n",
       "7NfFfhexCNqPcMdsSxmPIj0TzWPEYhy6LmSO0Y+Gw2cOPGaeg8scQM7cWf7jz415fmqFz5oGNexh\n",
       "o6GQV5ynVOpkp3T7oOXAyi5W1TaUHTdgtu3+lc7N703MLul9zm9O6sgdljWAzoj5xpw0YjEOTRf5\n",
       "/qZbF673I6Js6v5MCzJ055GJNV0EKP412KyWNd5GJvY7MrZNqt1kDq78I/XLVTRdFC7Af6GLajAT\n",
       "Q5olHNB0AccR6fdntOlO130NiWbhGBtr/D5EfaQ0mYnDlXL5daGUbcn/QWRbp/8/kpUnbbHr8M3V\n",
       "8Bwt+pr2F/GV+bw8pTx1CuDtN6v/AWrseCd0w1gYAAAAAElFTkSuQmCC\n",
       "\" style=\"display:inline;vertical-align:middle;\" /></a></span>"
      ],
      "text/plain": [
       "|- forall_{f} [forall_{a in Integer} [forall_{i, j, k, l | ((j - 1) - i) in Natural, k = (i - a), l = (j - a)} ((f(i), f(i - 1), ..., f(j)) = (f(k + a), f((k - 1) + a), ..., f(l + a)))]]"
      ]
     },
     "metadata": {},
     "output_type": "display_data"
    }
   ],
   "source": [
    "negated_shift_equivalence"
   ]
  },
  {
   "cell_type": "code",
   "execution_count": 47,
   "metadata": {},
   "outputs": [],
   "source": [
    "# negated_shift_equivalence.instantiate({i:Neg(i), j:Neg(j), k:subtract(i, one), a:Neg(one), l:subtract(j, one)}, assumptions=[InSet(subtract(subtract(Neg(j), one), Neg(i)),\n",
    "# #                                                                  Natural), InSet(subtract(subtract(j, one), i),\n",
    "#                                                                  Natural)])"
   ]
  },
  {
   "cell_type": "code",
   "execution_count": 48,
   "metadata": {},
   "outputs": [],
   "source": [
    "# f_i_to_j_dec.shift_equivalence(new_shift=one, assumptions=[InSet(subtract(subtract(Neg(j), one), Neg(i)),\n",
    "#                                                                  Natural)])"
   ]
  },
  {
   "cell_type": "code",
   "execution_count": 49,
   "metadata": {},
   "outputs": [],
   "source": [
    "# f_i_to_j__shift__eq_dec = \\\n",
    "#     f_i_to_j_dec.shift_equivalence(new_shift=one, assumptions=[InSet(subtract(subtract(Neg(j), one), Neg(i)),\n",
    "#                                                                  Natural)]).lhs.entries[0]"
   ]
  },
  {
   "cell_type": "code",
   "execution_count": 50,
   "metadata": {},
   "outputs": [],
   "source": [
    "# assert False"
   ]
  },
  {
   "cell_type": "code",
   "execution_count": 51,
   "metadata": {},
   "outputs": [
    {
     "data": {
      "text/html": [
       "<span style=\"font-size:20px;\"><a class=\"ProveItLink\" href=\"../../../numbers/number_sets/natural_numbers/__pv_it/theorems/132c57ec1224a4beaf274a23bd799047020206590/expr.ipynb\"><img src=\"data:image/png;base64,iVBORw0KGgoAAAANSUhEUgAAAEEAAAATBAMAAAA9n32KAAAAMFBMVEX///8AAAAAAAAAAAAAAAAA\n",
       "AAAAAAAAAAAAAAAAAAAAAAAAAAAAAAAAAAAAAAAAAAAv3aB7AAAAD3RSTlMARHarECKJu90yVM1m\n",
       "75kejotwAAAACXBIWXMAAA7EAAAOxAGVKw4bAAAA90lEQVQoz2NgwAf4GAgBdrJVeHyvdmDI/SuA\n",
       "x4wqRgMGlg/4bLEIyGFguMDwvLy2vPwAVhVWBdwBDA3YzFDv6NgAok0PsW7AqkJaBcowZZ6ghlDB\n",
       "qOyaVAQWZ90CU2rKUMAuAFfBxm7E4B8AYnEHIFTMY2lpgIWpIEcBQ/wEsAoGhAqeBcsvwHgO/gIM\n",
       "6x1ArLkdQFAAUcFgwgxXwbCegcEazHBHMoPBmaUBzgVK/2EBMTiQVXAqFMC51xi4vrCBGEwKMKFK\n",
       "INaEq2D9ycC04SSYuQsmBmLwbYDxGBsYWGwWgJnOhWAXM8z+C9TPsgFbfIhVdGCKAwDDkzTgOh63\n",
       "3AAAAABJRU5ErkJggg==\n",
       "\" style=\"display:inline;vertical-align:middle;\" /></a> <a class=\"ProveItLink\" href=\"../__pv_it/demonstrations/96dd4986b373fbee9972953d348bf3583754fa910/proof.ipynb\" style=\"text-decoration: none\">&nbsp;&#x22A2;&nbsp;&nbsp;</a><a class=\"ProveItLink\" href=\"../__pv_it/demonstrations/87bedcc731cb364acbc98d939cb18ef3aa020af10/expr.ipynb\"><img src=\"data:image/png;base64,iVBORw0KGgoAAAANSUhEUgAAAnMAAAAXBAMAAACSZNRYAAAAMFBMVEX///8AAAAAAAAAAAAAAAAA\n",
       "AAAAAAAAAAAAAAAAAAAAAAAAAAAAAAAAAAAAAAAAAAAv3aB7AAAAD3RSTlMAIolEdjJUEM2ZZu/d\n",
       "u6v6CvZmAAAACXBIWXMAAA7EAAAOxAGVKw4bAAAEg0lEQVRYw+1YTWgcZRh+ZrO7k81umlUE8ZBm\n",
       "iRFEtOSWQ7COIRUjIiu0gihkPIgHAx1CDpJCs2cvLr1US8EFFVtU2oKpUBCjUkqkSAXFk1okYE8l\n",
       "ttroKc73O998887OZ3LdF3aZfed5nvd9n535vp1FEyw8DIIKr587D/P3ZwYukTEUsPfSdL511dbA\n",
       "JTqeo62bXGhK694aeJQTwxFl3XDofy2tOzPwKCdGupR1nwJPSOsuDjzKiy8o634FjkfcumpnYFFe\n",
       "vE1Z9y+wGHLramyXODj1ALE5//504LSJkzhSkkxi7ziXfl21CPohwjqfWdfj1g334m34En6LMlqz\n",
       "zdEdl5okjpSk6wB7xbn066xF0M9p685eZ/E9c/hObF3ArWuEwIkezmak/CuobTiUpHGkJJkkwhXn\n",
       "0q+rFkV/k7jquHUtbl09PvU+8A2wylc9/5zE1LbRaMmP/uTt3G/OxGFyTma5pKRpSTO5fOiP3DFM\n",
       "XGnK8Xen6EPFasfUUtGnaJou5likbtjYuqcCbd2X8O+iMs9NP/q8xNRvYG1afqz1uQBN3EgwdENk\n",
       "uaSkaUkz2e1zMZi4D/Gkm3WiDxlyGKWlok/RFF3OMZuzTRwP1Q3r/4WR7XivFdWWJGQtwAX1cWza\n",
       "+zuvpomrt/Gn+G64pKJJyVTyLibaefeOiVvHWNPJOtmHDDmMmk1Gn6IpupxjiVjr8AtwQfw4GQ3g\n",
       "38OBzmumdT7TCnGr2hRjj0RsjOw9a+MmIlzmSSEpaEIyspIfsyn87AgWzttBPUTROp/0cf6j+a62\n",
       "LtE6c3QBqmhUTOdzAJ9RV90nwLviJ3HpJvAjlrpd07q1DvO0ulnTV0xpA/4/8ow+yOAWI3wnzghJ\n",
       "RhOSnJNK4nFLjR/YuMoOGr3kTA5B9+F/cAWXlHWJ1upsr96URdPd03Q+B3CKsq4R+uvCukpc4+Tc\n",
       "i1tt07rGtVh065GDR7R1r8bf1fX41WBfyibkgY2LS37Ok1KS08Q5Rk4lK9cEP1FjBzYutq4e8GQa\n",
       "lxA2zT68lQ529FWntR58FmO6qB4jEbPpfA7gW8o6/9QLbfkgdtVaHrgHb2iksM77mQGyl7qFiy/0\n",
       "e2aS08S5hCyT41GKr7tI4+IbdiykKuf0cSAYuqiHSWhbfMkXRfuNIeliDm+j4E+n85R1Lcu6h3Bf\n",
       "rJJVsHBieU2SnCaXWyvpdb2mCVVh4/g2USraI1rJAl/rttUwCW0d71VU0VIxXcxR6xVYN9pMrPNb\n",
       "cpsITEuW4f107DSwkl1fLVw5GLppJBlNSa5YyfFjL0cmX4WNm8dhqnJeHxNovNReltYlWtu4+roq\n",
       "ulJM53NgvOivTl/+EvMevRNULuP+d6aAsoawj6+E9d3deIfPzmnjMLkQGUlGU5KBlfxqd9fk67Bx\n",
       "panTVOW8Pg6j/FjcCBvGoMVGzPVU0aCYzufAD32sO8LfzafjKokLHZ+FSFzVObkPnFPD1f9HL/Pb\n",
       "sdx2JM2QT+OOj+I0bsY5uQ+cU8Mz+6MXRI/8t9T1X1V3yd5++tljI85iDvP+ByeQt+0vzPneAAAA\n",
       "AElFTkSuQmCC\n",
       "\" style=\"display:inline;vertical-align:middle;\" /></a></span>"
      ],
      "text/plain": [
       "{n in NaturalPos} |- |(a_{1, 1}, a_{1, 2}, ..., a_{1, 0}, a_{2, 1}, a_{2, 2}, ..., a_{2, 0}, ......, a_{n, 1}, a_{n, 2}, ..., a_{n, 0})| = 0"
      ]
     },
     "metadata": {},
     "output_type": "display_data"
    }
   ],
   "source": [
    "Len(ExprRange(i, ExprRange(j, IndexedVar(a, [i, j]), one, zero), one, n)).computation(assumptions=[InSet(n, NaturalPos)])"
   ]
  },
  {
   "cell_type": "code",
   "execution_count": 52,
   "metadata": {},
   "outputs": [
    {
     "data": {
      "text/html": [
       "<span style=\"font-size:20px;\"> <a class=\"ProveItLink\" href=\"../__pv_it/demonstrations/0fc28cdaf656aef52e1e90fb1082b95fb5cf95270/proof.ipynb\" style=\"text-decoration: none\">&nbsp;&#x22A2;&nbsp;&nbsp;</a><a class=\"ProveItLink\" href=\"../__pv_it/demonstrations/fb388557576807311462c7d631dddab2726c4b880/expr.ipynb\"><img src=\"data:image/png;base64,iVBORw0KGgoAAAANSUhEUgAAAnMAAAAXBAMAAACSZNRYAAAAMFBMVEX///8AAAAAAAAAAAAAAAAA\n",
       "AAAAAAAAAAAAAAAAAAAAAAAAAAAAAAAAAAAAAAAAAAAv3aB7AAAAD3RSTlMAIolEdjJUEM2ZZu/d\n",
       "u6v6CvZmAAAACXBIWXMAAA7EAAAOxAGVKw4bAAAEtElEQVRYw+1YXWgcVRT+Zv8m+5NkK4IopFni\n",
       "CiK15C0PxTqGVBqVskojiEJGqPhgoEPJg7Ro8uCTLy59qZaCA/61VGkLtkJBrEopkSIRWnxS0xLR\n",
       "J4mtdtWXeH/mzt65e2b3Nvu6B7IZznzfd8755ufODKrg4WAQVDjd3HlQ/D45cImMrMd/M5Pp1hVq\n",
       "A5foeIq2bmK2Gln3+sCjlBgKKOuGfPfryLrjA49SotSkrPsUeDSy7uzAo7T4grLuZ+BgIKwrLA8s\n",
       "Sou3Kev+BeZ9YV2RrxLb6/cSi/PNJzyrRZzGkZpkElvH2XRiqUWQdxLWudy6UFg3FLJl+Bx+CTq0\n",
       "dlWHWzY1aRypSReyJG+xE1stgnwytu7EVR7fc4dvMes8YV3FB46EONEh5V5E8ZJFyRQcqUkmgS3j\n",
       "bDqx1KLIrxFnnbCuJqwrs13vA98Ah8Vd79DO3ySmuIFKDe5Jgf94XyOtpo7TQmi6E38EuqaefODA\n",
       "r6lz6Dj7kJ1k6vwW1CbL4Sam0b2mTlYxT12wzLrHvdi6L+HeRn5GmN5Ux6i8iqVJ7H+Gb4/UcqkL\n",
       "sY7TQmgW5ZGMNfXkTTydaoKOsw/ZyYd4jDsRk4VWycuudq+pk+NrOGWZOOirC9b9C6UNttaKWrcx\n",
       "Lk+wJQ9n2L8Fvp1vZFKn0HHawRGao5PO35pmIjmHHakXj46zD9nJeYyyp/2YLLXKDfzZvaZOVrFA\n",
       "3OvwE3BGPpwMe3DvYGT55ci6T/iYLtfy8XuhqiypsNWk8/IxcaXj+2dlVmqWAjGA0AyMJPCdhBph\n",
       "4k59NNOkaqd0sq2FMrt9S3KsNR7ggqoZ9CaLMYDPqLPuNPCufCTOrAHXsNBsRtaBH5ilZe5pYaWo\n",
       "zqbcW6zAP5B74o0O3OFdYbkqd0lNRGfrDklKJPd6hpzYMHHuBxdxTtuVwog7ybfEYRbkttZ8wE0T\n",
       "NZPdk2Q5BnCUsq7iu+eldXnW3pvTz643lHX5K2w3+3PXH9q+J74Q32BzXmXHq8JfTlYQbZi4+/Zi\n",
       "NBDZSBMvBUqTsxNJ95oUaMvxDRPnLC6jJbNJYJuxonfCpi+L5zNOjrWYdZ+rmvEYbSmDLMcAvqWs\n",
       "c4/yJVO8iF1Wuci6MU56NXG98+HZ6V/oPNVN3Lq4tbazzo+xZpsdJTHf0KFxGwZuxMueJWvTnTgt\n",
       "jPqKHLPYBXtH1ewyhiLLMZxLPT46nUpa5zQddq7WkpYcaTj/MZVOBQPHbrPv5fXs/dimNDPJJDvr\n",
       "x0MdqsLAsTt8sdmgaqd0Et3pBTlmyWVC1sz0JssximEP64arbevcGsbmXgjgerolh1AJSuxVeLHz\n",
       "/mrgnA1cfkXLOtfnjinNRSN5BacThVSYuHFUnm8QtdM6mcFu3gkja1o5L7umai72JosxMNbrU6e7\n",
       "GnX68C0vfwFfbW6ySjHknnfqeNHP1/cxgzvHNHHZNUyHWra8ubmhND0j+dzMDV0gDhO3G7lHqNpp\n",
       "nWTqx1gnnKyzJmYDVdPrSZZj4Icu1u0Rv/rLcYHE+ZYPVjSuYJ3sA2fTSeHuyDlxOeYalqwp8mXc\n",
       "8n0oBTdlnewDZ9PJVF9j9IqQ/Fpq+1X1LjTDfhraYidhX2Mk4n9A0MJMH9j73QAAAABJRU5ErkJg\n",
       "gg==\n",
       "\" style=\"display:inline;vertical-align:middle;\" /></a></span>"
      ],
      "text/plain": [
       "|- |(a_{1, 2}, a_{1, 3}, ..., a_{1, n}, a_{2, 2}, a_{2, 3}, ..., a_{2, n}, ......, a_{0, 2}, a_{0, 3}, ..., a_{0, n})| = 0"
      ]
     },
     "metadata": {},
     "output_type": "display_data"
    }
   ],
   "source": [
    "Len(ExprRange(i, ExprRange(j, IndexedVar(a, [i, j]), two, n), one, zero)).computation(assumptions=[InSet(n, Natural)])"
   ]
  },
  {
   "cell_type": "code",
   "execution_count": 53,
   "metadata": {},
   "outputs": [
    {
     "data": {
      "text/html": [
       "<span style=\"font-size:20px;\"><a class=\"ProveItLink\" href=\"../../../numbers/number_sets/natural_numbers/__pv_it/theorems/132c57ec1224a4beaf274a23bd799047020206590/expr.ipynb\"><img src=\"data:image/png;base64,iVBORw0KGgoAAAANSUhEUgAAAEEAAAATBAMAAAA9n32KAAAAMFBMVEX///8AAAAAAAAAAAAAAAAA\n",
       "AAAAAAAAAAAAAAAAAAAAAAAAAAAAAAAAAAAAAAAAAAAv3aB7AAAAD3RSTlMARHarECKJu90yVM1m\n",
       "75kejotwAAAACXBIWXMAAA7EAAAOxAGVKw4bAAAA90lEQVQoz2NgwAf4GAgBdrJVeHyvdmDI/SuA\n",
       "x4wqRgMGlg/4bLEIyGFguMDwvLy2vPwAVhVWBdwBDA3YzFDv6NgAok0PsW7AqkJaBcowZZ6ghlDB\n",
       "qOyaVAQWZ90CU2rKUMAuAFfBxm7E4B8AYnEHIFTMY2lpgIWpIEcBQ/wEsAoGhAqeBcsvwHgO/gIM\n",
       "6x1ArLkdQFAAUcFgwgxXwbCegcEazHBHMoPBmaUBzgVK/2EBMTiQVXAqFMC51xi4vrCBGEwKMKFK\n",
       "INaEq2D9ycC04SSYuQsmBmLwbYDxGBsYWGwWgJnOhWAXM8z+C9TPsgFbfIhVdGCKAwDDkzTgOh63\n",
       "3AAAAABJRU5ErkJggg==\n",
       "\" style=\"display:inline;vertical-align:middle;\" /></a>, <a class=\"ProveItLink\" href=\"../../../numbers/number_sets/natural_numbers/__pv_it/theorems/1a8a7907b709bbd24c48a9933f16dbe96429f5cc0/expr.ipynb\"><img src=\"data:image/png;base64,iVBORw0KGgoAAAANSUhEUgAAADUAAAAQBAMAAABEqSrGAAAAMFBMVEX///8AAAAAAAAAAAAAAAAA\n",
       "AAAAAAAAAAAAAAAAAAAAAAAAAAAAAAAAAAAAAAAAAAAv3aB7AAAAD3RSTlMARHarECKJu90yVM1m\n",
       "75kejotwAAAACXBIWXMAAA7EAAAOxAGVKw4bAAAA5ElEQVQY02NgwAQe36sdGHL/CjBgA1WMBgws\n",
       "H7BKMVgE5DAwXMAuZ1XAHcDQgCqm3tGxAUSbHmLdgCYnrQJlmDJPUAPJMSq7JhWBRVi3wBSZMhSw\n",
       "CwDl2NiNGPwDQCLcAQi5eSwtQDlBjgKG+AlgOQaEHM+C5UB3OvgLMKx3AInM7QCCAogcgwkzyA/r\n",
       "GRiswardkfQxOLOA3AmU+MMCEuFAluNUAJlwjYHrCxtIhEkBJlcJxJpAOdafDEwbToKFdsHkQAw+\n",
       "YCgwNjCw2CwACzkXgt3EMPsvUA/LBtQwE6voQBYBAAF6MQMvLZecAAAAAElFTkSuQmCC\n",
       "\" style=\"display:inline;vertical-align:middle;\" /></a> <a class=\"ProveItLink\" href=\"../__pv_it/demonstrations/73bfa88942e9bf428ae6a198d56cb6105cdc60660/proof.ipynb\" style=\"text-decoration: none\">&nbsp;&#x22A2;&nbsp;&nbsp;</a><a class=\"ProveItLink\" href=\"../__pv_it/demonstrations/284460f6628c73609a68bb6929fcaf0efb30f9e30/expr.ipynb\"><img src=\"data:image/png;base64,iVBORw0KGgoAAAANSUhEUgAAAoIAAAAZBAMAAABX4FKPAAAAMFBMVEX///8AAAAAAAAAAAAAAAAA\n",
       "AAAAAAAAAAAAAAAAAAAAAAAAAAAAAAAAAAAAAAAAAAAv3aB7AAAAD3RSTlMAIolEdjJUEM2ZZu/d\n",
       "u6v6CvZmAAAACXBIWXMAAA7EAAAOxAGVKw4bAAAEkElEQVRYw+1ZPWgUQRR+e8ntej/RUwQR/Aka\n",
       "QUQkoJAiIKcYURA5QQXR4izERnANKUTBu87S68QgeCCiqUwELQJiEEQCFlcolooEFAsJxj9s4s57\n",
       "M7OzuzPreGe5r7jc7nzf9958O7s77wKQRffhbfniZy70EgUozEEFvzqZG6ZIM2jVsPMdtuLXg5lT\n",
       "ptiDn7lh3VjRFw66g5lTpuhvmx0Mzs+Rg5czo8xxPc3BMz45OJn5ZI6pFAedt0AOTmc+maPkmx1c\n",
       "D6vRQbeZ+WSOFW2jg86bEzfRwQJ7kWwaWquBfNhXtcmiJRvYemzXqXuoxA6Ye69xsO/opaHXUFpe\n",
       "XkQHmct9M/Auub8erQz8tMirJ+vZBmy3qXuoxDJrsSkcLLzCQEcHFqBBW0XmYLkOcLUNt5Ndyyzb\n",
       "dP89tGQDW4/tOnUPlVhmdac1a3B3uQOba9LBUjB8B+A5wBV8InoPRNeyCOVBfpjWA6pkpedB9viu\n",
       "j+xADiKWi/ExbcOkku2DKhF+ROdh0cxGgDzyixoH/cYwXPQjDj4FbwnyB/ACHD8iXkMdCJB0WEi5\n",
       "jCpZeYkhu4WLIhxELBdrmZejSv6HQHURsXmozWxq1tiDQbcG4SLAJ1DvYu8bFAOvXdK+wGGNKjwU\n",
       "h9gDGtZ+hCyD2Eu02sUgYbnYkrgTkhEh2/9YQpWIiM1DaWZTs8bu4jnNc5DZ99uTDg5UwfsBK5tn\n",
       "VQfZEm3U4ZNboUKwB/SSSQNchDx170ALEEjs+6GD7CRhUQwAx5K3VJxcnDx+mFeUFrISjqd5hGJU\n",
       "GU1EI+YngCRT7OjW4CNwf+akg+x9/RoutFqKg94vtNadL8hLGfSAjSYfYV/CI4Xs3Z2FGRribNgp\n",
       "riSSCMvEAMekHH6RRyr5ymi7VIkBowVEKyE8d1CK8cpoIkmxcMICyGVwrxd3MLgI/c170sF8MJtr\n",
       "+48t1NQ1+Ipd0oVtm8akg0EPWH4Z/J1nN35LfDCcQnYmmhDsBxiQs/MvhYPIJiwTAxpjAqjEdEk8\n",
       "Rl53CFb5MWBYwHyiEo6nwqUYr4wmohGTExZALlMe1u0Hg4vwuS4dhBeRe54yu37sccJ6QDifWPwh\n",
       "jsgrq/joDYEbfTl4PtJQ8jE3eUPFyQswClqgoRLC88KlGK+McifFwjMCSDIb0n5ZEA5OaRzMxR/I\n",
       "rAeE5M9guegjF0q1QqumAJ2WUxGDg5GGko/lkkXFyY/hVh50QEMlhOeFSzFeGeXOpdAFkGQmbRwc\n",
       "qIQmeIOUeSLi4Dj1gF6yN5pQHQzIm6F8sqYAN5445Y/zN0lVbSgDLBtTE4k3SYzsLMKLc6ABGipB\n",
       "vJhHKIaV8YloxMIzAohpnY6Ng16Hp97+tZp/AmtuDAGEXrHD03XsAfuTAqErRN4L/TtAAT5bXg7Y\n",
       "bFA5ycQCLBuD5EWJk/vew/62DmioBPFiHqEYVsYnohGrxoGUllZXioNj+Kl2464WV7fbkOnJerZr\n",
       "ucmzTN1LKSnAfXRR/2VbOqLt2P0eyAb2iOWPBV3+Q3GkN7W+7v+P2dadLPZCNrDbdpLF/zkPezVb\n",
       "4B84477Eqxd1ywAAAABJRU5ErkJggg==\n",
       "\" style=\"display:inline;vertical-align:middle;\" /></a></span>"
      ],
      "text/plain": [
       "{n in NaturalPos, n in Natural} |- |(a_{1, 1}, a_{1, 2}, ..., a_{1, n}, a_{2, 1}, a_{2, 2}, ..., a_{2, n}, ......, a_{n, 1}, a_{n, 2}, ..., a_{n, n})| = n^{2}"
      ]
     },
     "metadata": {},
     "output_type": "display_data"
    }
   ],
   "source": [
    "Len(ExprRange(i, ExprRange(j, IndexedVar(a, [i, j]), one, n), one, n)).computation(assumptions=[InSet(n, Natural), InSet(n, NaturalPos)])"
   ]
  },
  {
   "cell_type": "code",
   "execution_count": 54,
   "metadata": {},
   "outputs": [
    {
     "data": {
      "text/html": [
       "<span style=\"font-size:20px;\"> <a class=\"ProveItLink\" href=\"../__pv_it/demonstrations/7950361a8397224e6be19c4a8f24bb98f53bb2c80/proof.ipynb\" style=\"text-decoration: none\">&nbsp;&#x22A2;&nbsp;&nbsp;</a><a class=\"ProveItLink\" href=\"../__pv_it/demonstrations/47df9c5467f5f665e3286ec926f8622b470a76510/expr.ipynb\"><img src=\"data:image/png;base64,iVBORw0KGgoAAAANSUhEUgAAAm0AAAAXBAMAAACrA2UDAAAAMFBMVEX///8AAAAAAAAAAAAAAAAA\n",
       "AAAAAAAAAAAAAAAAAAAAAAAAAAAAAAAAAAAAAAAAAAAv3aB7AAAAD3RSTlMAIolEdjJUEM2ZZu/d\n",
       "u6v6CvZmAAAACXBIWXMAAA7EAAAOxAGVKw4bAAAElUlEQVRYw+1YTYgcRRh9PTszvfOz2YnkorDZ\n",
       "YR3Bwxr2lkNI0oZNSFTCKO5BFLYFIQcX0oQcxJDsHnLykiGXiAQyh2ASokTBJCCIUZFlJcgKEU9q\n",
       "DJHkJGv+Nuay1l9X13R9M11M9jgfzNBd9d736ntd3dXVqIGHh0FY4fWy5nnxv2fgkh1DAf/PTXX3\n",
       "rVgfuETEK7RvE/tqyrcPBh5RMRxRvg2H/nfKt08GHlFRblG+fQa8pHz7YuARGVcp3/4ADkbCt+LC\n",
       "wCIyPqJ8+w+YDYVvJb4sbG5sIpbiWy8HTks2haPJpA76x62fpE3eQvjmc9/awrfhNlt0v8SfkZVq\n",
       "W21k1UWSxJGNtA76xq2jpE0+r307fZ3Hz9zde8y3QPhWDYEjbZy2Mvlfo3TNQZHE0WRShwhX3PpJ\n",
       "EuT3ifkmfKsL3yqs6wzwPfyJf/iF8c8rTGkF1ToObbnDG2UfGSYOE7vMxufe+5uffBg/QoWO9+n+\n",
       "JjtWBDJMXK7h+H4pJdXwOyXVaQ/JDrIsYpa6T5lvOwPt2zfw76MkHX/zNYWpLGN+Ci1xuUo9pp6J\n",
       "KwdDy0bjLbzKjgvTMVfobKjn+RLe6jEPTNxZbHfzTUrK4ack1WkPSZOsitjWZV04GMb3qf8A5RWM\n",
       "TnkPedecgswHuATcxzi76nEfFSau0sS/RuMMJsWORBUhdQrNHD+XBPqmMXGXMVpz8k1KquF3SqrT\n",
       "HpImWRUxRzzf8DtwSb6HjATwH2HDwrvlKPHN56lC3C3Wzgkt2WffqmnceIQrRiPwky6CkaUOu1Rs\n",
       "KYIg+HYFKZy3ikqIrCe7IWn4lqSSvgnJKJMsigA+p+bbReBj+d6buwncwFyLvR6L6yu48wvc0OJS\n",
       "iR2LKcP7/MeqRx9YuNmIOWU07g3iIgRH6uSPyzFMprKJgzSusMrsS3q6EAzJxDcjVTz9JtEllUkW\n",
       "RQAnKd+qoX9Z+lZgKY/tev02my3vRLFv1UWW8/YLm3ez/kVB4H3X2a/Ktx9LUAdpHJP8ymz0b+iL\n",
       "z8lK56hwkxM4NMnGD9I45lslEI2duISw1DkOY74lqZRvXJJIlSKLIoAfKN/8k3yxEvusH/Ui+xv0\n",
       "8+2ARo5Fuq9oz/EUjk3xR2YjZptxEQa58FATDlgZUzh2n46GlHK3cRi+JSzlG5fsWUR8n7IivGsZ\n",
       "35EuxGfPYqPm6rXfa3m1uC9nZ0jh5CM1bmRTerwdj1qTjzS9J5pgv2OkcWJdyGUtCnXKt4QlfROS\n",
       "uUyyLKLUzvBtRC1X3q8zp/y6Whf0nmNs5q3okOgDDtuP1BQuHwzdNBoXcZE1ylFrcjUqX2U6nGBA\n",
       "daRx09hBKXcbBx++JclPY8nDmWRRBMayvlv6y+oVZm1tpXAFz5xoAHkN+XZtDW+HvA+wi0zjMLEv\n",
       "MhrfmP6LNXov3gsMcqGxv8Z0OMGA6kjjco1TlHK3cfDhW5L8NJYMMsmiCPzSw7fd4t/c9xZJXOi4\n",
       "1QmdG4uOGV1x6ygpyXlxF+abjqSt5DbbcY9N4mjy1qcZT1/jcE01FPUj2SY/fbp+InUnt59mPH2N\n",
       "wzWVQ7H/AwJPuESwwT3zAAAAAElFTkSuQmCC\n",
       "\" style=\"display:inline;vertical-align:middle;\" /></a></span>"
      ],
      "text/plain": [
       "|- |(a_{2, 1}, a_{2, 2}, ..., a_{2, 0}, a_{3, 1}, a_{3, 2}, ..., a_{3, 0}, ......, a_{1, 1}, a_{1, 2}, ..., a_{1, 0})| = 0"
      ]
     },
     "metadata": {},
     "output_type": "display_data"
    }
   ],
   "source": [
    "Len(ExprRange(i, ExprRange(j, IndexedVar(a, [i, j]), one, zero), two, one)).computation(assumptions=[InSet(n, Natural)])"
   ]
  },
  {
   "cell_type": "markdown",
   "metadata": {},
   "source": [
    "The following 5 cells have been commented out — they create and then depend on the one-element expr_range in the first cell, which returns an error"
   ]
  },
  {
   "cell_type": "code",
   "execution_count": 55,
   "metadata": {},
   "outputs": [],
   "source": [
    "# expr_range = ExprRange(i, ExprRange(j, IndexedVar(a, [i, j]), one, one), one, one)"
   ]
  },
  {
   "cell_type": "code",
   "execution_count": 56,
   "metadata": {},
   "outputs": [],
   "source": [
    "# lambda_map = Lambda((expr_range.parameter, expr_range.body.parameter), expr_range.body.body)"
   ]
  },
  {
   "cell_type": "code",
   "execution_count": 57,
   "metadata": {},
   "outputs": [],
   "source": [
    "# singular_nested_range_reduction.instantiate({f:lambda_map, i:one, j:one, m:one})"
   ]
  },
  {
   "cell_type": "code",
   "execution_count": 58,
   "metadata": {},
   "outputs": [],
   "source": [
    "# Len(ExprRange(i, ExprRange(j, IndexedVar(a, [i, j]), one, one), one, one)).computation()"
   ]
  },
  {
   "cell_type": "code",
   "execution_count": 59,
   "metadata": {},
   "outputs": [],
   "source": [
    "# Len(ExprRange(i, ExprRange(j, IndexedVar(a, [i, j]), one, two), one, one)).computation()"
   ]
  },
  {
   "cell_type": "code",
   "execution_count": 60,
   "metadata": {},
   "outputs": [
    {
     "data": {
      "text/html": [
       "<strong id=\"assumptions\">assumptions:</strong> <a class=\"ProveItLink\" href=\"../__pv_it/demonstrations/0cce80121a2a770bdede45f72ae6473622a68bbf0/expr.ipynb\"><img src=\"data:image/png;base64,iVBORw0KGgoAAAANSUhEUgAAAQcAAAAVBAMAAAC57DawAAAAMFBMVEX///8AAAAAAAAAAAAAAAAA\n",
       "AAAAAAAAAAAAAAAAAAAAAAAAAAAAAAAAAAAAAAAAAAAv3aB7AAAAD3RSTlMAInZUiRDNmWbv3US7\n",
       "qzJazP2FAAAACXBIWXMAAA7EAAAOxAGVKw4bAAADHElEQVRIx61WSWgUQRR9s/TsPfYpBPEwihIP\n",
       "LoNoQAkkRwXFJgcPISEdQ8BLSA5BxNOgoBfBuXhwgYzEeGi3QVT0IHQiCiYiCSIuqAQFxSBkTkKI\n",
       "B6uqq6ZrqnsmLVjw4f+aeq9f1f/1awAYcC3MiOC/D/bpaNG1UCNbUCb6/rwwcWi1GrRYu/dqBPHJ\n",
       "q8FUAnmfBnu5If9cWdahxMsmsF3lepZdgFYLRuSKT4FBEan8HBktEbmWa+Q4LIX/RuO+3o0REQlT\n",
       "WfTROAiUAxHQr8dLSItI5RfIESBZcq35eCyc3URAalz59Y2TMFAJRupdGEKmGa9AngcTmm5ZB3tk\n",
       "EbjEtzVn32TO4pmIpYrYYdts13p7oc0nwodMm+gkYec/iDjhFuhxkZZFfWmrIuLRNnESxpdojyLC\n",
       "j0yUMEFCaujdqdR2RylIxBHmttVLYxFOrlqREZGRejqMHOaFCM7vR8YX2M7Y7sbTjZURz5aDRJxj\n",
       "7hA8qh/adEVGJAxPRH68r48HnN+PTFmYIiG1qLGhsVl8S1pBIvYz15KoUsWusoxIeIVp4GzsJS8F\n",
       "zu9HxsqgrYSahm76jWM2HXeJZ6ZpYzpt25dt+44nYoVd+Stk0W1Ohbe6K8JF4CdlcLgI3fzAs+vy\n",
       "ByDztboI8j2lILvNoJN4whgdaT8Y0Coyol8+CW1BpMPlD0CSJIp0+DoNRrUgEQeYW5Gp8gVHRmRk\n",
       "Efiaa+x9fmSsglkSzrKiXlNux1o8SMQF5m6pL3tNbJcDzUNE6+9LbolEv0ieJH4fEimHXTl27VK1\n",
       "RhH5Wrsi4qghrjMS9SIeJkYKctDyEMPiN7bqJLTfEr8PiWQPlunLxM7OUdLxXukTnydHycwt95g+\n",
       "PXQnv6867O3JTHuIgXm3mvJj12ipA7bp8fuQyFSRIUdGDenCeh2THSrPafYwb75i7JP8B3N2w2MV\n",
       "MyV+H3Kj+yIR04sXzfUeMDqavnU9LRo/KZUW/KeIzTBbKU6F+lezqcm8VmgB6kUL/ojDr3U/kh3V\n",
       "UCJmmsxHW4GIwOb8OVrukYJroUY07J/R8GMz8Be0YegYTXmQqgAAAABJRU5ErkJggg==\n",
       "\" style=\"display:inline;vertical-align:middle;\" /></a><br>"
      ],
      "text/plain": [
       "<IPython.core.display.HTML object>"
      ]
     },
     "metadata": {},
     "output_type": "display_data"
    }
   ],
   "source": [
    "assumptions = [InSet(Add(j, Neg(i), one), Natural), \n",
    "               InSet(i, Natural), InSet(j, Natural)]"
   ]
  },
  {
   "cell_type": "code",
   "execution_count": 61,
   "metadata": {},
   "outputs": [
    {
     "data": {
      "text/html": [
       "<a class=\"ProveItLink\" href=\"../../__pv_it/common/dbd475f3ca8a41c3dd4001822589493ca633908c0/expr.ipynb\"><img src=\"data:image/png;base64,iVBORw0KGgoAAAANSUhEUgAAAPoAAAAVBAMAAACd0O5ZAAAAMFBMVEX///8AAAAAAAAAAAAAAAAA\n",
       "AAAAAAAAAAAAAAAAAAAAAAAAAAAAAAAAAAAAAAAAAAAv3aB7AAAAD3RSTlMAmYkQqzLvVES73WZ2\n",
       "Is1wFLxSAAAACXBIWXMAAA7EAAAOxAGVKw4bAAAC10lEQVRIx5WWPWgUQRTH397X3ncOS8VwSKo0\n",
       "bmEjHMkJksYmlUWaCwgqEnBRsRAxVwXEFAdaKkQTPd3qLIOiJwgpRLxWCXignYWBNDYG35s3OzO7\n",
       "O7ecA5nMzP+9/+9mdmdmAVSpqSpeRgD/MRwvtanG96gqDpNhVd+evjkdfW/CuEQ5pzys3SZyGvDJ\n",
       "DGDlBgglUvLbODZIx2pfyD+MaSsoMWruIk1uAf/KTah7RoxQsmNWzHJm9hDrH+l07QvVcUTJnvuN\n",
       "GEZduU//TrBQMScpFMeYYjFsV4n+Op0e8eXyIGx88SSqeCj6q3L8ksESSsHIdocmveClwWO+otw1\n",
       "6QKV2RK+4dr80rGs3JtIr6c++JivhY6oytIOrYCDD7ZFqzSnQqVyDKSSoGfaKXDDF1ofrXRCzQhH\n",
       "mkdzAxvvtAErtBhCSdAr47S5a19oFAY2OqG+L1O37EPen8XGbZ3PSh+kkqC7q2l05QvV0YxvoxNq\n",
       "XXQLXcjCGjY6Op+VqyAVJwheXAuCtqLnD9LoyhfT1wl2PAguB8GOphNqXkW5ZLmh8+dDOiuJuRdT\n",
       "5659EWx97oR6BOEK1ds4dkfns9IHqSRXfiuNrn0BnlnphFoT3RL6LnbxBd2ls4hDWHkMUkm+dT0d\n",
       "axbPyCZfqP2x0neVQrunUxvwBlsUL7NUaF8IxaRn/oa7iWKzR2GS6pm+UDmI00+PeC+7rORxFXNv\n",
       "sPGSlmtboFhZAakY9NzS0QUM64axT6nRCKvAg4gv5Hox+vnrPwcC5cgj47m8dcWzvCnuKFbKy5az\n",
       "TpRvoGIjxfUg6lsYxucuUbfqcivKK4PvFFrSUDHvnWLkbOUDsJk8Y41s9M357734LSNRrxZku8Sf\n",
       "Kl/FDUi/VSlPJn2c9FRstLTM7NKo4/et+Yh6ezK8c3saVaVKKWcn0Pn3VpPCECK+zoeuNT8yq33h\n",
       "ZflYqw3t9M/TfVntTxhH1D/bF8lhwrkyYgAAAABJRU5ErkJggg==\n",
       "\" style=\"display:inline;vertical-align:middle;\" /></a>"
      ],
      "text/plain": [
       "f(i), f(i + 1), ..., f(j + 1)"
      ]
     },
     "metadata": {},
     "output_type": "display_data"
    }
   ],
   "source": [
    "f_i_to_jp1"
   ]
  },
  {
   "cell_type": "code",
   "execution_count": 62,
   "metadata": {},
   "outputs": [
    {
     "data": {
      "text/html": [
       "<strong id=\"eq\">eq:</strong> <span style=\"font-size:20px;\"><a class=\"ProveItLink\" href=\"../__pv_it/theorems/0416a1b210810ad0dc1b92b729f6f0c5dca980ff0/expr.ipynb\"><img src=\"data:image/png;base64,iVBORw0KGgoAAAANSUhEUgAAAIUAAAAVBAMAAACakjBMAAAAMFBMVEX///8AAAAAAAAAAAAAAAAA\n",
       "AAAAAAAAAAAAAAAAAAAAAAAAAAAAAAAAAAAAAAAAAAAv3aB7AAAAD3RSTlMAInZUiRDNmWbv3US7\n",
       "qzJazP2FAAAACXBIWXMAAA7EAAAOxAGVKw4bAAABxUlEQVQ4y2NgYBBgIA4w4pZiMiDSDG4FNIGo\n",
       "P8cCGDx/bmBgMAFx+Y6iyauj8V8FMDBooJt6mPsCA+sHBgbWBLBjEtCkl6DwWK/nA81gC0BTdEvA\n",
       "g4FhAgMDewM+9++AMfSB+jkK0GQvH2ATYFjAwMCJNwyMkM1gmAoNwVOrloEZF5sYE0BmmJFgRgYk\n",
       "bJNgfrrI+0AFZEYJiBOki6qVVb0Bmxm+YKYYPFguMhzg2bAAanYBJ2qosHBPwGZGG5iZyIAw4znr\n",
       "UqAZi0EeFOBHTSSP2ROwmWEJZiYgmcFhYAO0bTbI6Qz2ICVhq0BgHZAVwAlKT1WrVs1ctWotwoz3\n",
       "4KQ0C6hoDdQMhqu8UDOAytHC0j4Amzt2gsPqAJI7GGJZoX5BT1IMDLms2MywAjMXIJvBpwA08hA4\n",
       "O/1Gi5ffLNjM6AEzleDKzgGx3gFofHF8QDWD74MEmhn+oNwNTgcMbPDwTwZiUOi/AnF4D6D55QZa\n",
       "+rg7PxcoshriyDtbIYLPfh6A5DeuB0AepwKhdAr2MTQkuH2gaR0GgBmJ16A/gFCeAwHc2fMgw3uD\n",
       "xUQVQjI4ZWIY2NU3EGXGQdzFpAKRZSETroIXAOlBbCz16Q7VAAAAAElFTkSuQmCC\n",
       "\" style=\"display:inline;vertical-align:middle;\" /></a> <a class=\"ProveItLink\" href=\"../__pv_it/demonstrations/68ea34c9a028d2d52fb71c6f5c26a23517e9feca0/proof.ipynb\" style=\"text-decoration: none\">&nbsp;&#x22A2;&nbsp;&nbsp;</a><a class=\"ProveItLink\" href=\"../../__pv_it/common/226c0184f61890c345f1f28146fd1ebae476a5490/expr.ipynb\"><img src=\"data:image/png;base64,iVBORw0KGgoAAAANSUhEUgAAAUAAAAAuBAMAAACrN90HAAAAMFBMVEX///8AAAAAAAAAAAAAAAAA\n",
       "AAAAAAAAAAAAAAAAAAAAAAAAAAAAAAAAAAAAAAAAAAAv3aB7AAAAD3RSTlMAInZUiRDNmWbv3US7\n",
       "qzJazP2FAAAACXBIWXMAAA7EAAAOxAGVKw4bAAAEcklEQVRYw+1XTWhVRxQ+L+/nvtwXXx+uJAgm\n",
       "FRp3hlKFKOJbtBsh9OHCVYuBImQjjRIkVITgInahGCKCP4s+UCk+tQRXBgp9KbgsPOhChVaEriqF\n",
       "ROW5EcQzZ37uzL1zT5LN0IUDGW7mzPm+756ZO28+AGiAaQXqrYFUZLPDmdZgxhsb5A6MJ8+7qX/o\n",
       "mbXbn1wb2ZQ+m8NpD3Po7PYF9bNfYVdsYjcGA/NWOPqypSIDM6nMlxjZswE64UqO/1puqH4HiMqh\n",
       "y7bylOhLz69gf0w83gY4YcUn/x1XkbjpJj75HhkrLRZd4kqOz9zQt2f6IKlOsBAR6R88+Bj7OTV2\n",
       "wYpf+bVlRUR7pB/2YqQ6w6JL3MiuUU3/M9BXVBd4COp/o0Is6rGkLLU+2BHRPrcFwlUWXeIO2kPF\n",
       "EVugoBpkV2E/9UcodUqNVZI3LrWdSFbgNCvwiMXhFSioKuwmnBXdpRtPxErgJiuP4exST0erzx7M\n",
       "qMjROa/ASQ5c4hJH+dOeT6CgSuh8TVbgtS5cqYarWU0K9smIjjRXvAIX2Aq+NhwRXPMJFFSS7oeO\n",
       "aA8yELfovH0v+hi/138inF1MttyuFypSHz/jFTjB6ZO4xDEKb3wCBVVxkcO4SUnrtJeXAVqDmF9f\n",
       "N+HDoCJlWFLveV2/Jwlc48AlLnG0ikJP1OncvdHp9IxAQWXR5QmUn4IQCIeRtbaY2uUiUux7K7jC\n",
       "HoPthCNq+yooqGpsBWmJh3p6ieFkGTHaJvwH6Eil1/IJPMCBS1zJoc/51BK3NV3eHvydKkRJQ9iX\n",
       "35Vw13bFmlB4CXTk+HLTJ/AimLnO7wwkuJJj17L3I+kqutw2mSSLz72+vkOdN29pl78DHVkrzKcE\n",
       "ft3QR4iYe3zKepCdFkUcl9PnYOmVOsCiJifwZfIp1EWpn6KMWOB2WskuF5FtP6b24N8/ncS590DN\n",
       "jcWB+TOoh/hOgis5/koJ3Pbs7VNJFS9zAmNxjpyTz7+osWECEgKjnhtxKkglbpu5btsHCS5xLKUr\n",
       "aKiG2aMUf+2Lve/cSwL9ZuBehEOV8ez14VH2rlHK4uKyGVzk+LPaT18WDNUcf2Nbhfix+uUYkpfb\n",
       "Am3ao/h3/xg4kWzbCXpu6iPBOhlcWK2/ib13VkFV6PICv4HqmKIvdy01YiXOnwIn4ns9PTd1hxaF\n",
       "07jIcfqs/xxqMC+vX8JC3079qGfW9py7/EaGIsvhtNEcuo/tY/tftXDGvbBVT18IbNx9s1lPTwkh\n",
       "jfueLXp6kRDUuNuzN+XpMSGocbdnezy9gTaeHhPCGverrKc30MbTY0JY4z7NenpXIKmYDmzcJ1lP\n",
       "7wosyYSwxn2B9fSuQFKxENi4T7Ce3hVIKiYCG/e1/JANbTw9JoQ17iusp3crSCpWAhv3A6ynTy1x\n",
       "mxLCGveLrKdPfSRdSghr3GdZT2+gjafHhLDG/R7r6TV04ukxIahxl7NzPb0LPSwTghp3OTvX07vQ\n",
       "cyohpHHfuUVPTwkhjfvqFj09JQQ07r7ZrKfHhA8gsNdedIwYzAAAAABJRU5ErkJggg==\n",
       "\" style=\"display:inline;vertical-align:middle;\" /></a></span><br>"
      ],
      "text/plain": [
       "<IPython.core.display.HTML object>"
      ]
     },
     "metadata": {},
     "output_type": "display_data"
    }
   ],
   "source": [
    "eq = f_i_to_jp1.partition(j, assumptions=assumptions)"
   ]
  },
  {
   "cell_type": "code",
   "execution_count": 63,
   "metadata": {},
   "outputs": [
    {
     "data": {
      "text/html": [
       "<span style=\"font-size:20px;\"><a class=\"ProveItLink\" href=\"../__pv_it/theorems/0416a1b210810ad0dc1b92b729f6f0c5dca980ff0/expr.ipynb\"><img src=\"data:image/png;base64,iVBORw0KGgoAAAANSUhEUgAAAIUAAAAVBAMAAACakjBMAAAAMFBMVEX///8AAAAAAAAAAAAAAAAA\n",
       "AAAAAAAAAAAAAAAAAAAAAAAAAAAAAAAAAAAAAAAAAAAv3aB7AAAAD3RSTlMAInZUiRDNmWbv3US7\n",
       "qzJazP2FAAAACXBIWXMAAA7EAAAOxAGVKw4bAAABxUlEQVQ4y2NgYBBgIA4w4pZiMiDSDG4FNIGo\n",
       "P8cCGDx/bmBgMAFx+Y6iyauj8V8FMDBooJt6mPsCA+sHBgbWBLBjEtCkl6DwWK/nA81gC0BTdEvA\n",
       "g4FhAgMDewM+9++AMfSB+jkK0GQvH2ATYFjAwMCJNwyMkM1gmAoNwVOrloEZF5sYE0BmmJFgRgYk\n",
       "bJNgfrrI+0AFZEYJiBOki6qVVb0Bmxm+YKYYPFguMhzg2bAAanYBJ2qosHBPwGZGG5iZyIAw4znr\n",
       "UqAZi0EeFOBHTSSP2ROwmWEJZiYgmcFhYAO0bTbI6Qz2ICVhq0BgHZAVwAlKT1WrVs1ctWotwoz3\n",
       "4KQ0C6hoDdQMhqu8UDOAytHC0j4Amzt2gsPqAJI7GGJZoX5BT1IMDLms2MywAjMXIJvBpwA08hA4\n",
       "O/1Gi5ffLNjM6AEzleDKzgGx3gFofHF8QDWD74MEmhn+oNwNTgcMbPDwTwZiUOi/AnF4D6D55QZa\n",
       "+rg7PxcoshriyDtbIYLPfh6A5DeuB0AepwKhdAr2MTQkuH2gaR0GgBmJ16A/gFCeAwHc2fMgw3uD\n",
       "xUQVQjI4ZWIY2NU3EGXGQdzFpAKRZSETroIXAOlBbCz16Q7VAAAAAElFTkSuQmCC\n",
       "\" style=\"display:inline;vertical-align:middle;\" /></a> <a class=\"ProveItLink\" href=\"../__pv_it/demonstrations/a4f78341d57becf44afe6d66144b27664e0056ec0/proof.ipynb\" style=\"text-decoration: none\">&nbsp;&#x22A2;&nbsp;&nbsp;</a><a class=\"ProveItLink\" href=\"../__pv_it/theorems/c1d62423df78169e29c42fbf46a552dbcf8748d80/expr.ipynb\"><img src=\"data:image/png;base64,iVBORw0KGgoAAAANSUhEUgAAAmoAAAAVBAMAAAAEF99xAAAAMFBMVEX///8AAAAAAAAAAAAAAAAA\n",
       "AAAAAAAAAAAAAAAAAAAAAAAAAAAAAAAAAAAAAAAAAAAv3aB7AAAAD3RSTlMAInZUiRDNmWbv3US7\n",
       "qzJazP2FAAAACXBIWXMAAA7EAAAOxAGVKw4bAAAEhElEQVRYw62YT0hUQRzHf+vuun80WzpFCK0F\n",
       "2S2JEjJCD3URpKVDJyMhAi/SHySiCKKDXoxCCcoOLZREa4Z0SgjSoGOw0CGFiqBTEWjFdgmimd/M\n",
       "m//v7cg0h2V2vr/5zPf9Zt68eQ8ASiBLSfwYJQXOEtNslVJ8dAni0U07xPqNwW7Or7sdGS09spHV\n",
       "nzvCd7spbWUvE3wMV7Q6vIVu1iHebwx2c37t8jxiHMC/48eA17uh5boaiEp6ABW9fKsA7G0yvuTC\n",
       "94oenTtaUSQ32oH38suVUL9a6ZgDNhRhZEdoS+bTDPD6I4CzSixTTgJTlJJ9f45gWyuJJhQu7DGi\n",
       "h772KJIbbeP9/EZKoF+1nLrUADYUYeRwogqH39DZ55M2qQQz5bLS8iKq7CMO8ucTXehcPXrmZUWR\n",
       "3Ggb7+dXxQb4xZs6+tPS4EMRRgFbXuEUFKK+yoQw5baC2a+6gDuJLnSuFt3W0CU32sL7+S38J790\n",
       "cyqrWSswRi+2DOJvL9dblVyjkh6JdTGa6ELnatGZqi650Rbey6+GDfFrZQ2HGoVx2nBz9j1uheSW\n",
       "7ibNmbrow5TcAFdsF0NJJiQXsrvqWnR+beG8JrnRFt7Lr1BC/VpZy7CrYLn/Ga2ETBu5GfPK0voZ\n",
       "TSYqtouJxLkTXMjBXT16a1mX3GjskKthqcvV2sSvUEL9WlnDoSbgIR7+/mI7qX/Jkea03MaYUuzh\n",
       "iu3iUJIJyYUu+KVH7/ysS260hffyK5RQv1bWcKhDcB+VDWwn9UqBBHVsyLsaq4VFrsCVWu1erbYg\n",
       "XawnuZBcqKQbenS/IbnRFt7Lr1BC/ZJV/mSWr3LMGg61zlywnRnr/QTddtvYs2nWULHnbinx+CO5\n",
       "kKvq0YOG5EYvObPWzK9QQv1aaw2HWmIrvr0uVuZYlgRWBYcp9A5FxXbRl+RC4UJxQI9+a0hudJ+5\n",
       "r3n5FUqoX/sOrSLjNa4lppB69k+GbHnLdImCVNrLXLFdTIGI1U7ioHPJPrbIo/nFTBuSGz1lgr38\n",
       "CiXUr/00WEbGkBIxRO/b7fyg8RukQp+3qGgujpeipzSNPT3CK+KfygW4FT3TmZT6Y0hu9Lh5eV5+\n",
       "hRLqV81a5gc/gxHGN7kzY32VHDKKtHOtIpWOKldUFx8fjJGWeeCxRXr8egz8pzhncOED/ZkXEt94\n",
       "peRGz5tZ8/IrlFC/Sta2rP1e5UPNQ5EeAK4xAeuk7MBodMGVZ66zNi6ZqozVykEwuNMiGqVcXZfc\n",
       "6FTV5Pr5jZRAv9paE0MRBnkVTdfP6C/X+K5OdwWhTLpeseXLdMbeWAdA477LN0Q0XeRHWnt0yY3W\n",
       "X+55Bw+/6kt6gF/t7V0MRRkrUHwTna1X2HzQHQ9O0KRHSnvcx81OiGKN3bUMKrfjFz6GOyMJnp40\n",
       "JDe602728suVUL/2MXiZM4Yh3x3lZFhJEb02oWSXY1wwd/YX0ha1N+FevCqiqQQ3LhiSG+24eC+/\n",
       "XAn1ax9NSpyRUhCs3uUI3xbzqbjk9UWZj+GKTsV9k6bBzTrE+43Bbs6vXboY4x9J5dDs1xA1twAA\n",
       "AABJRU5ErkJggg==\n",
       "\" style=\"display:inline;vertical-align:middle;\" /></a></span>"
      ],
      "text/plain": [
       "{(j - i + 1) in Natural} |- (f(i), f(i + 1), ..., f(j), f(j + 1)) = (f(i), f(i + 1), ..., f(j + 1))"
      ]
     },
     "metadata": {},
     "output_type": "display_data"
    }
   ],
   "source": [
    "eq.rhs.merger(assumptions=assumptions)"
   ]
  },
  {
   "cell_type": "code",
   "execution_count": 64,
   "metadata": {},
   "outputs": [
    {
     "data": {
      "text/html": [
       "<strong id=\"f_i_to_j__shift__eq\">f_i_to_j__shift__eq:</strong> <span style=\"font-size:20px;\"><a class=\"ProveItLink\" href=\"../__pv_it/theorems/a49f9d9780e8f8b2ad2bfc0d0ba1f066056651f30/expr.ipynb\"><img src=\"data:image/png;base64,iVBORw0KGgoAAAANSUhEUgAAAJUAAAAVBAMAAAC9PLGkAAAAMFBMVEX///8AAAAAAAAAAAAAAAAA\n",
       "AAAAAAAAAAAAAAAAAAAAAAAAAAAAAAAAAAAAAAAAAAAv3aB7AAAAD3RSTlMAInZUiRDNmWbv3US7\n",
       "qzJazP2FAAAACXBIWXMAAA7EAAAOxAGVKw4bAAAB80lEQVQ4y42UP0gbURzHv0m5/DFevMnJIYig\n",
       "i/aQUrAUzKhg8cjQoSimunQpzSAinUIHcRAqQgfbwUDU4Wwli1C3s2KHDmIQKYiCUwtZkqWDtEPf\n",
       "3e/e3b27F7gffOHxyXufd++9vAdAA0VWiZjMraROkVauEIO9+PfdwPR9A3gECvJnoT4tAxiJTF2J\n",
       "stPcBZQOoJQprFdZ6KD8fMNcKSM0rqcYZdfaFLAJpKsUv77yxkM2JlOJLjLCLq2UhhqQBcWv8aAL\n",
       "HyS76LLkD3PfaTTfJcq26zEo3VyvJC5iuUW+1qZ6N2S7lkFBaVTqeiZqSqse6/e2rQmrt1GjOZx5\n",
       "KtmqzLUmuorHHnsJ3/Vb2WOuOihJrU+XuSYEVV5f8Vg54MroT9k5fgJFwaQ99K1pbpvmF9/VtlvP\n",
       "TbsO7V5bnOU/MvTZdeFKDbiYRrpfx+IaH/zhTLEC34V5JbBGYFfqeiK6UhcGZ7WgK19g6m+gIPFX\n",
       "6toQXQuNImeDHjxnGbPofJ0zznTCrlmN/1/8aieqnKW8B2GJJc2OogUKVCvkut15zcYdiC51HZwp\n",
       "N0fEft1bdKd77ijIFsLf5ay8JnnAXJabce9Q8KKyqPp7I3y37RKvfXdGdeKkrdelvw7EZFRzTtLD\n",
       "ja4zxWHu6gsU+QOuxWNO/QdpuX99oVyEwQAAAABJRU5ErkJggg==\n",
       "\" style=\"display:inline;vertical-align:middle;\" /></a> <a class=\"ProveItLink\" href=\"../__pv_it/demonstrations/c0b52b6eec196a3431121e4c63ef8cb162dc4afd0/proof.ipynb\" style=\"text-decoration: none\">&nbsp;&#x22A2;&nbsp;&nbsp;</a><a class=\"ProveItLink\" href=\"../__pv_it/demonstrations/ee3e070af7ef21676667c27d5936bd0694c418230/expr.ipynb\"><img src=\"data:image/png;base64,iVBORw0KGgoAAAANSUhEUgAAApsAAAAVBAMAAAD7mTjWAAAAMFBMVEX///8AAAAAAAAAAAAAAAAA\n",
       "AAAAAAAAAAAAAAAAAAAAAAAAAAAAAAAAAAAAAAAAAAAv3aB7AAAAD3RSTlMAInZUiRDNmWbv3US7\n",
       "qzJazP2FAAAACXBIWXMAAA7EAAAOxAGVKw4bAAAFLElEQVRYw6WZTYgcRRTH33xtz8yasfEkS8Bd\n",
       "Bdebi+hCViR70EtgcMghp0gWRFiE4CohLIqweIgeVgwbApocHNAgTowsnrIgOBFyFAY8JAGVgCeD\n",
       "kJgwuQSCr153Vb16Vf0xOwXVqbyPfr/+d1V1Ty8AxGBbbA6yBY1QgXItNtGVopPHExarTMA1CW6c\n",
       "eymZGdUla0zGPwXCeRRrs/Ol8NJsFR3KkAgTFQtan4NpcTMYwuokVvK8TP899YYeL0J1iwdyj9vu\n",
       "9ABeKCCz2fBvj6IDGRKhfDHPGr2OFqitoh4bU+FqZKd1LoFQh1tVb6wpS/2vc5COvwV4h8W6HtYa\n",
       "N97DYjO9XDyWDc8n0X6GRChdLGDt/qNm1THs7dVpcA0yb2+dHoOrjmvFHpHYrVevgx4DfMqCXQ+t\n",
       "GD1+EdmaG7l8IltF+xkSIdoKnMkplo1w7mcl2CazXIX94AYZoDpm6hgIY8XeIssvdNda+qzsHroe\n",
       "1WrzjA/O5/LJ7POhDInQggw5TWomwuyY/jnLEl+C/eC2IFNOrY6BMFbsy2Q5Qsfl1D/Dbo3r8a9l\n",
       "PZdPZq+HMiTCcqac60UI9T651zLlLIu7nC2nVseVU1mxn1KGzy/coI0Y94xFNNdH5gTC419LNw/P\n",
       "ZkPj2VEa7WUIBKeYK2cX8hGat66o1Rzhtnl0MyhnWVyL7Mmp1XHlVFbsye26r+dOfRYXSpPdXdfj\n",
       "X8uZ3NttsiGCL9NoyogG1EZgZsx9Pn1NMVfOM1CA8OS8Xl2re0E5y+JaZE9OrY4rp7Ji/4Zebx+T\n",
       "Hcd/R2iu2WsRHv9aDuXh2WxYgAdptJchEJxirpyHoADhmdvq2F6CztLpoJxlcS2yJ2ftbEhOZcV+\n",
       "kTz3yI7jXguDOvfsRul61Kz6/kI6q4jvbh6fzYZebZxGexkCwRZrvEtT+LZbLA/hcPJs24UG7KjR\n",
       "h4PBV4PBFZgY1yJzCBKO1OEQxor9ot3BaXwYi7KVJjz+1NjLfY+z2RD10+i9oJwslBdzZ+ceFCAc\n",
       "0XJCbRycnWVxLbI3O2eDs1NZsdNKe2JkZvnJBgba0wiPfy0reXwsO3mtXtEZfO+UCLyYK+cKFCD8\n",
       "Bulih5lRLyRnWVyL7C/2fnCx96n/Srcz8eC48aiOW+pQTXIIePxr2VYj/7eGzMZtbTeN3paxAsEp\n",
       "5sq5DQUIO4ks6D6xuxqSsyyuRfYfRcPgo2hIvcvyumr5P528aMCJtYDHOc2bsX6jeKgPKskMeDbA\n",
       "F/wdxGkCwSlmmimWgwCVR8mixVl2t7Il5HRjXVIP1yI7u8F/6WuYA2Gs2O/YHZzGN5GirU7bvhTw\n",
       "8NP8+fVJtFxWw4G639+ppA09kNnwhzpcTrv7bUKE8mK6sWI5COmzpIML78BnYu8UsZZ0I4RrkVk7\n",
       "cOvhzVQdBmGt2NvqkfVx4qAxtjk6vgK+x7krNB+SnyH+8vGyd9LoitzfPQRezH2R6RcgROkb9o+h\n",
       "X0UT4Rpkv82FIMg6Rx8FaqO37RcKMF8QcPZ6Huenv/18UfeLiuzfm+PMjwsSIfM7hUnNQHhtZsn/\n",
       "hnMV9oFrkf22GYIgq+rXoH1dvzNfS24h7bUNFF96/HaQjkf9vd3N7jxQT1uKPuifRCLkF8tG+OGY\n",
       "fkTH0+EyZH+JDLOs5DkOzUVd/TiDqar7JDwhJVTzP3LL7A8+ytFKIuQXy0b45H2tznBKXIvsv03F\n",
       "WVbyVNjJk/FCSP3wnwWqcam/FqTZKjqUIREmKha0PgXT4lay/g6ykGnF/j/zbehsJIWBVwAAAABJ\n",
       "RU5ErkJggg==\n",
       "\" style=\"display:inline;vertical-align:middle;\" /></a></span><br>"
      ],
      "text/plain": [
       "<IPython.core.display.HTML object>"
      ]
     },
     "metadata": {},
     "output_type": "display_data"
    }
   ],
   "source": [
    "f_i_to_j__shift__eq = \\\n",
    "    f_i_to_j.shift_equivalence(new_shift=one, assumptions=[InSet(subtract(Add(j, one), i),\n",
    "                                                                 Natural)])"
   ]
  },
  {
   "cell_type": "code",
   "execution_count": 65,
   "metadata": {},
   "outputs": [
    {
     "data": {
      "text/html": [
       "<a class=\"ProveItLink\" href=\"../__pv_it/demonstrations/0d704541f521227af5fbf83bd07bb7fa50ba53d80/expr.ipynb\"><img src=\"data:image/png;base64,iVBORw0KGgoAAAANSUhEUgAAAZUAAAAVBAMAAAB8sm5kAAAAMFBMVEX///8AAAAAAAAAAAAAAAAA\n",
       "AAAAAAAAAAAAAAAAAAAAAAAAAAAAAAAAAAAAAAAAAAAv3aB7AAAAD3RSTlMAInZUiRDNmWbv3US7\n",
       "qzJazP2FAAAACXBIWXMAAA7EAAAOxAGVKw4bAAADoElEQVRYw5VXQUhUQRj+t93n2111WTqFBGlB\n",
       "dmuJErSDe+kSLC0eOhkuRCCBFCEihbAn7VAkRlB6aMEkelEsnfKUCt4XOmhQEXSTQEv0EkQz/7w3\n",
       "b2be/96OA99j5pv/fe/7Z96bmQcARQhLEfS20RUpKWsyliYfVIQjmAjvOFYKSV5X22r5QJGdvQR5\n",
       "hhYgY6MlyQNtAlnsuYjNyStBnaPfCC6sMP26KbFTBTinMaiSLrPgu21jo0X3AL+qNiYClsOpcSbz\n",
       "/SmIOrZf6fE3pg7Y9ZZOOlt32MM61AcKlesM+XK72GgxPMBZCxMKy+BiprnLmyDqbp2ad37DXPCu\n",
       "BBHnmbesOgFCZVphPkJcbLS08RBjQrIMOWQ+4ZDlIGhTMjl/WNO9ij94poQJlXmFuQBxsdHSxkOM\n",
       "CckyDCBzFa8DPmiZjjqVy7gShirpWmwu44m5tPEQY0KyDJOceLy4hR+fgNNfp2QyLSqXShglVFz2\n",
       "qYxMk7lUklLRPYBzumVlQrIMYqz+4HVcINM5T8lka1Qus0oYqvAxKq+SucwmzovmAVx4bmVCsgzL\n",
       "uI39Q35Z4Kdbo2TS81Qug8pmiCr5EhRKU2Qug0mp6B6gD/atTEiWYQl79pBfEqjmeKBz2+Plh7yh\n",
       "wINcz3uz6Hkt6W83fJhQyTXBgQVeu+95LzzvHVCx0aJ7gGr6wMqEZBkwl0xD0xmuUkPSSc7LqrJB\n",
       "NPxcAH1E52U1cXvRPYDbsDIhWQZ8x7pa2vxOOOT0NqhchsIoocLeMehoValchpJyMTyY222cCcky\n",
       "bOBYip4NAedvhvzs1qhcHvGacC5Uuth1rFmmclFitVMBRD0AnGpamZAsQ0W5ryJQ2Dthzv9vf7HV\n",
       "ZK4Vg/XzEEIVvj7upupGLnrsWM2vyJbpAeAJWJmQLMMOJ4b9A6CPbWN/6f5yuM0mvanLfHs5weLe\n",
       "8qpXDVUKbL67HxrfixGb56eZ1+Bf8iuEB/gKNiZCliHP14gZ0cHr2CZLDxhDgispvr9pzMVXeU/t\n",
       "+2asVi4B4WHB3gSyPXjgS7duCoof/uIPgNPmsQ4gOAby70uqzFFnSz3WKGWIePicPbA3gSzHOuQ3\n",
       "g71x3Qe5l61R7Em8jvABDVS64n4Kw1jj2+8F00NhP1+yN8FZ7BmFbH/w9FEf5JpJWhSZ8wmXKs5a\n",
       "jEIYayxQ6t2+h3sPjmCCs9iTUsR5PRXzK9tHnl0p7eMxP79Fq3/kJA+0CWQZ/gM+qzGSodD09QAA\n",
       "AABJRU5ErkJggg==\n",
       "\" style=\"display:inline;vertical-align:middle;\" /></a>"
      ],
      "text/plain": [
       "(f((i - 1) + 1), f(i + 1), ..., f((j - 1) + 1))"
      ]
     },
     "metadata": {},
     "output_type": "display_data"
    }
   ],
   "source": [
    "f_i_to_j__shift__eq.rhs"
   ]
  },
  {
   "cell_type": "code",
   "execution_count": 66,
   "metadata": {},
   "outputs": [
    {
     "data": {
      "text/html": [
       "<span style=\"font-size:20px;\"><a class=\"ProveItLink\" href=\"../../../logic/booleans/conjunction/__pv_it/theorems/8c03a8ee27d4d8fa777368c3ee7b307fe25ee5270/expr.ipynb\"><img src=\"data:image/png;base64,iVBORw0KGgoAAAANSUhEUgAAAC4AAAAQBAMAAACb51DZAAAAMFBMVEX///8AAAAAAAAAAAAAAAAA\n",
       "AAAAAAAAAAAAAAAAAAAAAAAAAAAAAAAAAAAAAAAAAAAv3aB7AAAAD3RSTlMAdpndiRBmRO8yVM2r\n",
       "IrsWj4mGAAAACXBIWXMAAA7EAAAOxAGVKw4bAAAAz0lEQVQY02NgQANcO37sM36RAGQJoYgzvpnA\n",
       "sIEbxDJBEWdSYGBM8GLAADwXGOJYHyDpf2xsDaJZGRg0eSbAhdk3BsCYnAcmgeSFQHYz3IYLM/AF\n",
       "PAWSLOwNIM5ehIlL2ASA5CymDSDOBoQ4xJUBHCBZzmZjY2M7iAMWuANFGRjWg0xGclkcL5B9loFh\n",
       "DyuIZwAXPwn0AesHBtbvLCCeINyVCkVAzxkwcH64BuJyL4C7cisD7yugUcfA7mc9VwoRr3jd966/\n",
       "zwHhYT9IOEABACDSLr6aQ0j9AAAAAElFTkSuQmCC\n",
       "\" style=\"display:inline;vertical-align:middle;\" /></a> <a class=\"ProveItLink\" href=\"../__pv_it/demonstrations/93e8caa059167151a9537efadc6c92d3fce7f5560/proof.ipynb\" style=\"text-decoration: none\">&nbsp;&#x22A2;&nbsp;&nbsp;</a><a class=\"ProveItLink\" href=\"../__pv_it/demonstrations/c542ca8f46886a309d51db0870d70b8b800245140/expr.ipynb\"><img src=\"data:image/png;base64,iVBORw0KGgoAAAANSUhEUgAAAI8AAAAVBAMAAACNsKCFAAAAMFBMVEX///8AAAAAAAAAAAAAAAAA\n",
       "AAAAAAAAAAAAAAAAAAAAAAAAAAAAAAAAAAAAAAAAAAAv3aB7AAAAD3RSTlMAInZUiRDNmWbv3US7\n",
       "qzJazP2FAAAACXBIWXMAAA7EAAAOxAGVKw4bAAABVklEQVQ4y5VUrU4DQRicQpejXEJOIhDnigNB\n",
       "SFrDE1y4B0BUXkgaEFVVp1AVGAwISMBwhAeohCfAgSFpgquhHsPtftumuzck10kmuZv9ZvZ/AUQQ\n",
       "VtFYQQXWDoQEYVxfBQ4t254+TYG9SjVXtVn1hHh0WtTHeWnZSFFDFXOQCyvYL8s3L+bTyZnqoGVJ\n",
       "g3Btf9Zjpjo4suRBGQ3KWP1AqNo5C0poUOKVGnMmPTTDKxZ0SYNEHRYaL7DmBxh+Bz0W1KFBHa/U\n",
       "mG9hmLZ0qTozvUwWlh/9FRTF001RvLvqEozZBuE4ZSMa0xGN/YXWZjs19BUL6tKgrrdGxvwGQ/Xb\n",
       "ZEEjGjTyd02bE9nO7dmO13oS2cPhBDnqHMY8hfDTO0dfd/1SefaCXHUBbd6aCPnTc++PyFEd6BvI\n",
       "byGWbnOYM9XFqyXD7goqTi3/66SuikYsZK9wVF/9AwfIX23nQxZpAAAAAElFTkSuQmCC\n",
       "\" style=\"display:inline;vertical-align:middle;\" /></a></span>"
      ],
      "text/plain": [
       "{i in Integer} |- ((i - 1) + 1) = i"
      ]
     },
     "metadata": {},
     "output_type": "display_data"
    }
   ],
   "source": [
    "Add(subtract(i, one), one).simplification(assumptions=[InSet(i, Integer)])"
   ]
  },
  {
   "cell_type": "code",
   "execution_count": 67,
   "metadata": {},
   "outputs": [
    {
     "data": {
      "text/html": [
       "<span style=\"font-size:20px;\"><a class=\"ProveItLink\" href=\"../../../logic/booleans/conjunction/__pv_it/theorems/8c03a8ee27d4d8fa777368c3ee7b307fe25ee5270/expr.ipynb\"><img src=\"data:image/png;base64,iVBORw0KGgoAAAANSUhEUgAAAC4AAAAQBAMAAACb51DZAAAAMFBMVEX///8AAAAAAAAAAAAAAAAA\n",
       "AAAAAAAAAAAAAAAAAAAAAAAAAAAAAAAAAAAAAAAAAAAv3aB7AAAAD3RSTlMAdpndiRBmRO8yVM2r\n",
       "IrsWj4mGAAAACXBIWXMAAA7EAAAOxAGVKw4bAAAAz0lEQVQY02NgQANcO37sM36RAGQJoYgzvpnA\n",
       "sIEbxDJBEWdSYGBM8GLAADwXGOJYHyDpf2xsDaJZGRg0eSbAhdk3BsCYnAcmgeSFQHYz3IYLM/AF\n",
       "PAWSLOwNIM5ehIlL2ASA5CymDSDOBoQ4xJUBHCBZzmZjY2M7iAMWuANFGRjWg0xGclkcL5B9loFh\n",
       "DyuIZwAXPwn0AesHBtbvLCCeINyVCkVAzxkwcH64BuJyL4C7cisD7yugUcfA7mc9VwoRr3jd966/\n",
       "zwHhYT9IOEABACDSLr6aQ0j9AAAAAElFTkSuQmCC\n",
       "\" style=\"display:inline;vertical-align:middle;\" /></a> <a class=\"ProveItLink\" href=\"../__pv_it/demonstrations/334266ba0b0977cd4f4d6605f71ab40ac9ee7e1e0/proof.ipynb\" style=\"text-decoration: none\">&nbsp;&#x22A2;&nbsp;&nbsp;</a><a class=\"ProveItLink\" href=\"../__pv_it/demonstrations/c318bc947a91fecad73bf0e135e6902512a0577d0/expr.ipynb\"><img src=\"data:image/png;base64,iVBORw0KGgoAAAANSUhEUgAAAI8AAAAVBAMAAACNsKCFAAAAMFBMVEX///8AAAAAAAAAAAAAAAAA\n",
       "AAAAAAAAAAAAAAAAAAAAAAAAAAAAAAAAAAAAAAAAAAAv3aB7AAAAD3RSTlMAInZUiRDNmWbv3US7\n",
       "qzJazP2FAAAACXBIWXMAAA7EAAAOxAGVKw4bAAABfklEQVQ4y5WUv0rDUBjFT21jTEKkTjo4ZJE6\n",
       "Ooigi76A2Adw6CiC4CAWnDI5KXRx0SWgIEYEV7fqA4ijY0EnF+vgJBhz/yTN9+UK6YFT2l/uObm3\n",
       "NzcAmlAuqzYGBSaWlA3yguoUWNZuUTx7+Aws8sFmKsNWRxlXdP59bN1jso0KVIXtUJnJb8LpYWo/\n",
       "W05ookSONsff8L+AM/2zHpgo0Yo2n1EE/xfYoUWMEh0oW63S8twhsEmLGM0kw6I9dcPr8aLPNHxc\n",
       "KhrRo1joDjp8Cek3u8OLxJDVUlGRZpLhC0i3HTHU2pV3GYirdl/cX36L45vzOH6htCAZ1kVY5w/H\n",
       "qfh44DMiNJcI66Vhz6LX6huYAdZYUZGO/iMZfoK09dOgRe/AAnDCiijNd02ExVamnh7O0cNw3e1G\n",
       "6uEoFDGaSYY/oPxKnyM3SZJ0K25pEaO5RNgdKJtfPVFp+4uUSJxA8ylE4TR7oYlSPWqbND8Gxbb2\n",
       "fzepSlELlE1v4WZ1+gdWsG9ZcwgRFQAAAABJRU5ErkJggg==\n",
       "\" style=\"display:inline;vertical-align:middle;\" /></a></span>"
      ],
      "text/plain": [
       "{i in Integer} |- ((i - 2) + 2) = i"
      ]
     },
     "metadata": {},
     "output_type": "display_data"
    }
   ],
   "source": [
    "Add(Add(i, Neg(two)), two).simplification(assumptions=[InSet(i, Integer)])"
   ]
  },
  {
   "cell_type": "code",
   "execution_count": 68,
   "metadata": {},
   "outputs": [
    {
     "data": {
      "text/html": [
       "<span style=\"font-size:20px;\"><a class=\"ProveItLink\" href=\"../../../logic/booleans/conjunction/__pv_it/theorems/3b73368031281d59ff93a70f2b4cba5069515ff80/expr.ipynb\"><img src=\"data:image/png;base64,iVBORw0KGgoAAAANSUhEUgAAADIAAAATBAMAAAAg4UMRAAAAMFBMVEX///8AAAAAAAAAAAAAAAAA\n",
       "AAAAAAAAAAAAAAAAAAAAAAAAAAAAAAAAAAAAAAAAAAAv3aB7AAAAD3RSTlMAMrsQds2rme9mIlTd\n",
       "iUQmv6lAAAAACXBIWXMAAA7EAAAOxAGVKw4bAAAA4klEQVQY02NgwADcET+CzmhMADEZlVFkWNQE\n",
       "GAJYIcwAFBn2AgaWCbcZsAC2BQxGzAooQk5nzoB0MzMwFLIJIEs8dYaxGBPEwbSJG5jiCoarYTKA\n",
       "uKmAA+xC1gVwmb2cDmCXLeDfAJZBmAt1MzPDfgMQLXEGCMBOYtlwj4EBLFYDVmEE12LEBVSQBWKd\n",
       "BfN54DKJQB8xfwA56h8kJBxgbi54DvTuASCL8wNEJBru5mAGLm2QjWzQkDDTA9vK8EK1Sam/6QKQ\n",
       "xQEz5q3OGeSwZdsw34ABK5DfcBq7BAO7+wPsEgBKniwbfzxyLwAAAABJRU5ErkJggg==\n",
       "\" style=\"display:inline;vertical-align:middle;\" /></a> <a class=\"ProveItLink\" href=\"../__pv_it/demonstrations/2b894a68ba9ecafa7f74f3403d86ac8a69b2e6d60/proof.ipynb\" style=\"text-decoration: none\">&nbsp;&#x22A2;&nbsp;&nbsp;</a><a class=\"ProveItLink\" href=\"../__pv_it/demonstrations/6c455e7608a78834b41bdbab9d45dc3bbeb21bb70/expr.ipynb\"><img src=\"data:image/png;base64,iVBORw0KGgoAAAANSUhEUgAAAJQAAAAVBAMAAABS/tqaAAAAMFBMVEX///8AAAAAAAAAAAAAAAAA\n",
       "AAAAAAAAAAAAAAAAAAAAAAAAAAAAAAAAAAAAAAAAAAAv3aB7AAAAD3RSTlMAInZUiRDNmWbv3US7\n",
       "qzJazP2FAAAACXBIWXMAAA7EAAAOxAGVKw4bAAABjUlEQVQ4y5WUvUvDUBTFT+1H+qE1s4utg05C\n",
       "EHG1/4BQHJwUugiORUSkLtkcW5wUl4K6BJTi5FgF94KLgoOzCCqlLi6+jzT1PU+hvfBLk/Nuzrv3\n",
       "klcALjQs3DFUYMLT0LgZQwWWQ/BeNhfyl2IP307nqtAfkKxAAcyba1v7PXHdxiiqbK4CR+zg+LRz\n",
       "+dJR/+mWqkZkQoZYZfpdL1HViJWQIVYpn1mlaBt7Icm5DrNKdJhVws7F+iKwA42DE2aVrjArrTqB\n",
       "CmVbzfg4F7+SIrrMKt5gVpEa5brTHs7EjaQclznYUBtdRy/lP+VtLQhOg+DKUv9EEqvlyApOk1WV\n",
       "o1XlGv9mXkPUILIl2mCTNti0Z4UL4B4azLbo2Nt07G27qNgPsAYN6vZq4kvuXLKsTDWKtJjeGzR4\n",
       "sRannr+fRNst08pSB9mizuyrBsf0k5+BVZWpDs5fQVRWVTyme9TqwD7OptqvyavLU3knyXez9N8v\n",
       "1h5J/fDUR7Cp2D2kRU26I6nOghperKChURxD/QUKKXX48BsAFgAAAABJRU5ErkJggg==\n",
       "\" style=\"display:inline;vertical-align:middle;\" /></a></span>"
      ],
      "text/plain": [
       "{j in Integer} |- ((j - 1) + 1) = j"
      ]
     },
     "metadata": {},
     "output_type": "display_data"
    }
   ],
   "source": [
    "Add(subtract(j, one), one).simplification(assumptions=[InSet(j, Integer)])"
   ]
  },
  {
   "cell_type": "code",
   "execution_count": 69,
   "metadata": {},
   "outputs": [
    {
     "data": {
      "text/html": [
       "<span style=\"font-size:20px;\"><a class=\"ProveItLink\" href=\"../../../logic/booleans/conjunction/__pv_it/theorems/3b73368031281d59ff93a70f2b4cba5069515ff80/expr.ipynb\"><img src=\"data:image/png;base64,iVBORw0KGgoAAAANSUhEUgAAADIAAAATBAMAAAAg4UMRAAAAMFBMVEX///8AAAAAAAAAAAAAAAAA\n",
       "AAAAAAAAAAAAAAAAAAAAAAAAAAAAAAAAAAAAAAAAAAAv3aB7AAAAD3RSTlMAMrsQds2rme9mIlTd\n",
       "iUQmv6lAAAAACXBIWXMAAA7EAAAOxAGVKw4bAAAA4klEQVQY02NgwADcET+CzmhMADEZlVFkWNQE\n",
       "GAJYIcwAFBn2AgaWCbcZsAC2BQxGzAooQk5nzoB0MzMwFLIJIEs8dYaxGBPEwbSJG5jiCoarYTKA\n",
       "uKmAA+xC1gVwmb2cDmCXLeDfAJZBmAt1MzPDfgMQLXEGCMBOYtlwj4EBLFYDVmEE12LEBVSQBWKd\n",
       "BfN54DKJQB8xfwA56h8kJBxgbi54DvTuASCL8wNEJBru5mAGLm2QjWzQkDDTA9vK8EK1Sam/6QKQ\n",
       "xQEz5q3OGeSwZdsw34ABK5DfcBq7BAO7+wPsEgBKniwbfzxyLwAAAABJRU5ErkJggg==\n",
       "\" style=\"display:inline;vertical-align:middle;\" /></a> <a class=\"ProveItLink\" href=\"../__pv_it/demonstrations/60f3e922540689744c26757d82dfdf70861b25320/proof.ipynb\" style=\"text-decoration: none\">&nbsp;&#x22A2;&nbsp;&nbsp;</a><a class=\"ProveItLink\" href=\"../__pv_it/demonstrations/30df658ac85e57f7767e5a56959ad27d863542950/expr.ipynb\"><img src=\"data:image/png;base64,iVBORw0KGgoAAAANSUhEUgAAAJQAAAAVBAMAAABS/tqaAAAAMFBMVEX///8AAAAAAAAAAAAAAAAA\n",
       "AAAAAAAAAAAAAAAAAAAAAAAAAAAAAAAAAAAAAAAAAAAv3aB7AAAAD3RSTlMAInZUiRDNmWbv3US7\n",
       "qzJazP2FAAAACXBIWXMAAA7EAAAOxAGVKw4bAAABq0lEQVQ4y5WUvUvDQBjGn/TDpPErcxFsHXQS\n",
       "goir/QeE4ODk0EVwcCgiVKpDN8eKk8XBgk4BtTg5VsG94iZCO4ugWOriUO8uaZJ7c0P7wEOS34Xn\n",
       "3rvcGwAWPKtkjUGBhO1ZqfsxKLDqG5+OxLXyXheJKnlbTZlmnpEuQhhYlMfmkPoDdjAK5YsrQmcz\n",
       "6IpZ8ALUgZPh44OSSsr4junSQcdCZrjqFSWVtOY7pjeg08VEVY4iVNKB7/RCOzZ2B6TachShgTaX\n",
       "gV141nEe+yg/gFGkUSHVXSERW8pUccWu3Hn0aJTJXkqe0iiJBt/PmrVxwW64nWSfsy0x0a0YP+Y1\n",
       "fPO7iuvWXfeG0IjSWHeCKOgNMmzwyidpVTINVUGwQJiFWBtoFpINEhWh0b3CNfAEz5hvkk0vIOHA\n",
       "aMlRhIYNxXpgA55RI4PZcpkVrRfkKELD3WC79wHPeKeHajD4ZctuylGEBppmdZpdzzhT9lUWsSMa\n",
       "pWH/5VhlJeFXo6+MOiTtTOiwJrvGu/KRe6ZnKv9+Wmsk+mWLQ7AtvH+kLGrKGonqS2LztJxnpfJj\n",
       "0H/RoXuywvINsgAAAABJRU5ErkJggg==\n",
       "\" style=\"display:inline;vertical-align:middle;\" /></a></span>"
      ],
      "text/plain": [
       "{j in Integer} |- ((j - 2) + 2) = j"
      ]
     },
     "metadata": {},
     "output_type": "display_data"
    }
   ],
   "source": [
    "Add(subtract(j, two), two).simplification(assumptions=[InSet(j, Integer)])"
   ]
  },
  {
   "cell_type": "code",
   "execution_count": 70,
   "metadata": {},
   "outputs": [
    {
     "data": {
      "text/html": [
       "<span style=\"font-size:20px;\"><a class=\"ProveItLink\" href=\"../../../logic/booleans/conjunction/__pv_it/theorems/3b73368031281d59ff93a70f2b4cba5069515ff80/expr.ipynb\"><img src=\"data:image/png;base64,iVBORw0KGgoAAAANSUhEUgAAADIAAAATBAMAAAAg4UMRAAAAMFBMVEX///8AAAAAAAAAAAAAAAAA\n",
       "AAAAAAAAAAAAAAAAAAAAAAAAAAAAAAAAAAAAAAAAAAAv3aB7AAAAD3RSTlMAMrsQds2rme9mIlTd\n",
       "iUQmv6lAAAAACXBIWXMAAA7EAAAOxAGVKw4bAAAA4klEQVQY02NgwADcET+CzmhMADEZlVFkWNQE\n",
       "GAJYIcwAFBn2AgaWCbcZsAC2BQxGzAooQk5nzoB0MzMwFLIJIEs8dYaxGBPEwbSJG5jiCoarYTKA\n",
       "uKmAA+xC1gVwmb2cDmCXLeDfAJZBmAt1MzPDfgMQLXEGCMBOYtlwj4EBLFYDVmEE12LEBVSQBWKd\n",
       "BfN54DKJQB8xfwA56h8kJBxgbi54DvTuASCL8wNEJBru5mAGLm2QjWzQkDDTA9vK8EK1Sam/6QKQ\n",
       "xQEz5q3OGeSwZdsw34ABK5DfcBq7BAO7+wPsEgBKniwbfzxyLwAAAABJRU5ErkJggg==\n",
       "\" style=\"display:inline;vertical-align:middle;\" /></a>, <a class=\"ProveItLink\" href=\"../../../logic/booleans/conjunction/__pv_it/theorems/8c03a8ee27d4d8fa777368c3ee7b307fe25ee5270/expr.ipynb\"><img src=\"data:image/png;base64,iVBORw0KGgoAAAANSUhEUgAAAC4AAAAQBAMAAACb51DZAAAAMFBMVEX///8AAAAAAAAAAAAAAAAA\n",
       "AAAAAAAAAAAAAAAAAAAAAAAAAAAAAAAAAAAAAAAAAAAv3aB7AAAAD3RSTlMAdpndiRBmRO8yVM2r\n",
       "IrsWj4mGAAAACXBIWXMAAA7EAAAOxAGVKw4bAAAAz0lEQVQY02NgQANcO37sM36RAGQJoYgzvpnA\n",
       "sIEbxDJBEWdSYGBM8GLAADwXGOJYHyDpf2xsDaJZGRg0eSbAhdk3BsCYnAcmgeSFQHYz3IYLM/AF\n",
       "PAWSLOwNIM5ehIlL2ASA5CymDSDOBoQ4xJUBHCBZzmZjY2M7iAMWuANFGRjWg0xGclkcL5B9loFh\n",
       "DyuIZwAXPwn0AesHBtbvLCCeINyVCkVAzxkwcH64BuJyL4C7cisD7yugUcfA7mc9VwoRr3jd966/\n",
       "zwHhYT9IOEABACDSLr6aQ0j9AAAAAElFTkSuQmCC\n",
       "\" style=\"display:inline;vertical-align:middle;\" /></a>, <a class=\"ProveItLink\" href=\"../__pv_it/demonstrations/c7d195d7ccf05ec8c8b130ea502125a53f554a870/expr.ipynb\"><img src=\"data:image/png;base64,iVBORw0KGgoAAAANSUhEUgAAAJUAAAAVBAMAAAC9PLGkAAAAMFBMVEX///8AAAAAAAAAAAAAAAAA\n",
       "AAAAAAAAAAAAAAAAAAAAAAAAAAAAAAAAAAAAAAAAAAAv3aB7AAAAD3RSTlMAInZUiRDNmWbv3US7\n",
       "qzJazP2FAAAACXBIWXMAAA7EAAAOxAGVKw4bAAACDUlEQVQ4y42UTShEURTHz4y588YM01tJUoaE\n",
       "FRZSpFhSJm9lIWqQsplIFspmsmCjSCmxMOVjMaRJWdi9oSwsZJJIlFLUpEzJQiycc98zxnFfuXVe\n",
       "9/7Ovf977rnvXADQQdXU1OXsouZu/D+FQAg/+wz2fZ4Y0PWeBGii4bPB/ERrGcvgpDraJ8Ycx4Fz\n",
       "EFkAEaFRDfNKuvkbXY2hlpc2HWGzb/ROgEUALaY6i5I2oI5vHDtzzHFhenWIAxQq86KkpAXL5LUy\n",
       "4j5NbMtOesYVIa1mpVazo9YomldGHRj6TnK6+L6atCYpFVXnbBlSURtTaYXRPHJ6Se6+0mAWJePW\n",
       "PhqssGVIPYFFldYsmk/e1yD8aD2JLdTawH4lvLJlSB+0iEqrBa1A7hLJ0/I1tiFbw75R8EaoN0Ft\n",
       "j7pIjcLQb2ZpvaAFs/RZRceurQWXxbYWaHEWAtF2QxXXIWWd4hJmXlwwIOwzgr/j7xkhKlRarXRG\n",
       "uXU8XysYQukjGlQk2TKk4sOj0pqn3MuQqnKOM7R607pjWOC/UpiSUspgj279LaDJY3hz5T9MDK8i\n",
       "Q4NbrkX0mv1fd+tRJDuUEnkMcXtgOR7fTauC/fc4WuJakiofMMpSmf0Adds19N2wWC98b3yJLGHH\n",
       "op9yegtTwVf/34cv5TC7nGIznbT6YWJaRR12RityfKRdof9TcOuy5NTtC1qXfjzCUiPYAAAAAElF\n",
       "TkSuQmCC\n",
       "\" style=\"display:inline;vertical-align:middle;\" /></a> <a class=\"ProveItLink\" href=\"../__pv_it/demonstrations/8435cddc1bbf300be01429ecbbdb58ca012295580/proof.ipynb\" style=\"text-decoration: none\">&nbsp;&#x22A2;&nbsp;&nbsp;</a><a class=\"ProveItLink\" href=\"../__pv_it/demonstrations/510695b3c098332f05457331dfab3edabc5ddbb50/expr.ipynb\"><img src=\"data:image/png;base64,iVBORw0KGgoAAAANSUhEUgAAA34AAAAVBAMAAADr3CEjAAAAMFBMVEX///8AAAAAAAAAAAAAAAAA\n",
       "AAAAAAAAAAAAAAAAAAAAAAAAAAAAAAAAAAAAAAAAAAAv3aB7AAAAD3RSTlMAInZUiRDNmWbv3US7\n",
       "qzJazP2FAAAACXBIWXMAAA7EAAAOxAGVKw4bAAAGlElEQVRo3p2ZTWhcVRTHz2RmMh/pTMdulFBw\n",
       "YtG4EQephUQks9BNIXTIIqtKBqQQxGKUkISqEFwkLiodUgq2XXQgluDUxCGrBgQnhS6VERdtRW1A\n",
       "NxYhactkE2i8977Pe86578MDN33zf/ed+c3/3Hfvfa8AUAIvSqB/9iIRXeW7mmQSZgaTbroigY4T\n",
       "cZPGYYuRhSdNAMR0Xp3pq3iiPPZ/9sVAObJ6AmJkIBHAALBpVDdDQE6YwTYjq0FsmzFUltRAF+C8\n",
       "OnNSfZx9F+xj2YZR50c1gFdJCqJm3hEKJKviR85EyqCHzgD/1vTTxZsi7yK+yFHpGQXih2LAEvMf\n",
       "7tBLGTXYHxaNz41Cp4PiXf3083M/M765qmjpulRSf14G61h9/kbrnr73kfiSfmQno47/I8fmpGj5\n",
       "aoQMKBADvKKffm+uJ/6eA5N6jiScRFAM2HFIHdBLqRrojwGNz41Cp4O+uj4EOnCmTXzzVNEyaoDk\n",
       "3pKFl8cZbsC8LvpmnZF7m1VlXP5BftOCTzH3pRHCAH3SpGVn+ljE6jK5YAFBLdCcvwBcpUl1NQIb\n",
       "i0azMBFIB4US5BrEeU8VLaekH1WJc3Zj6wdX7A9vsKoE76l/Gr4LjX2ZCGGwTMrZYzFZxmqO3N0N\n",
       "BNWgOW/U4GGJJNXVCGwsGs3CrGKBdJDrQeExcd6nXoFTSjqt/p6yG1+/abYm075Jpqnw68b6TQfW\n",
       "L4TBMql/kaufVPvxjWGBeFDJOs35G8DDHZJUVyOwsWg0C7NmBNJBoQmFZ8R5nzoNs1L56to9tUhb\n",
       "LT28yNVvnK3JuNsp+2Bd3ugZscJMLIT0ZUJngPRLXc6kVJern1RTuL8E8UNpYF58zyTV1Aj+8Gg4\n",
       "Cw1EBxOvkS75PcZ5Vx23a/tE/bUqCqmBBle/JbYmS16vowpcDrjqVlhfJjQGyMDXnEnZOlc/qVpn\n",
       "LrRkrIN7P3hQGpi3dXzCJNXUCP7waCQLDZ0OZnLkbt0tM8676hKsqh3NM6WuWu2vTJ2r3whbkxGv\n",
       "14s7amhUoFiZC+vLPJBqDDAETzmTkg2uflJNYlPzFQ1KB/N6dZmkmhrBHx4NZ2FCo4O+0lHycLnO\n",
       "Oe+qI3BdfeWeUq9brZaTBOkP1FDecd3ftcf3VXt8+1QrxqzVtQ1pWAnrS0NngFqyhyCUSUXZK9Nq\n",
       "fXut1epqanEPL/5tDcoHNqmSbqgzn3FJPZVjo/7waDgLExqdwBurIbxMh3PeVXet+lnLqOvdWI27\n",
       "//g5cQsv8hIk2Qvra1rKXQbINLlBPsDef1Ilk5pVv9OaQy6YuwJ1uaSaGsEfHg1nMe7ZHDpRJLIr\n",
       "AM55V92y5s8jXW3uOp/m6jfK1mTU6/WTO231d2shfWkgBvyk7UxSTXb+bDpnfOufNX96UBqYEych\n",
       "UaJJNTWCPzwazsKETkdeDMiXMs9R5z11FO6oAWB95R2rpQ9SXP0usvVTqmXKivVbRa6pdjWkrz8s\n",
       "RWcQS0Ob3SR02P1LxzvjmV7WoTQwZ4dRhb4aSepT0xDFHxaNZNHeSAFQOkgcoG5/A7xMnffUi9be\n",
       "1PbK2pGKKfsFlOZMyd49azVx1fQ+eF8uN8y7icXAvlN1fIAZAC6RCfax81Dgr5+rZvD9qnbuPigN\n",
       "zI7B+fkLNKlPnapH8YdFQ1noDyd0kEWLZWJtfr5JnPeps/DIW0bVsWz30S72jxvnhXIL1c+ntmre\n",
       "Il8UqQtfBvfNy6eeNbAP1NWYAX7Hz7IP9u+LC9q6SZ6ax/erBPFDaWDOA9rh4T5N6lPzNyP4w6Ph\n",
       "LO7vXXPzIjoooDkkf3h4WCfO+9RbkJcbqM/tEztW4/f3TbKLddWkrEDGflLd4N6/oL76JK8UzLDC\n",
       "UgwCeUi21UHSdwNBbZhWIXNSgDchoj/hWbRQCqbLleM5L1p2BpLd9+0N00zAS2b3xe1tqsr14O1+\n",
       "+9llmXt/rfdFs4/80Yjh12yPpVjA769dlb5ZWUZQxlfJ5qTiiR8i+hOWBUUVCF2hcqkWz3nZtiF/\n",
       "13ke3bYbF8cD1AnRvpt09g2lwAwTRJcKYig+zbP/TZromFTmjADRoExg5qRisSpDRH/CsqD9Sxlb\n",
       "dqS0W1mN6bxsZyE77Pyws3bjYjtAlTBffOygdQIz0ClCKpjhk0/5h4ySSWXOCBANygRmTip2lgzb\n",
       "/8uCdqyALUt3MsPtmM7LlvAZKo8TZf7tfymyegxiZKAj1swg36qZ1KEQkGNmsKHIahDbUAyVJTXQ\n",
       "BTgv2n8bAZ6tDHIopgAAAABJRU5ErkJggg==\n",
       "\" style=\"display:inline;vertical-align:middle;\" /></a></span>"
      ],
      "text/plain": [
       "{j in Integer, i in Integer, (j - (i - 1)) in Natural} |- (f((i - 1) + 1), f(i + 1), ..., f((j - 1) + 1)) = (f((i - 2) + 2), f((i - 1) + 2), ..., f((j - 2) + 2))"
      ]
     },
     "metadata": {},
     "output_type": "display_data"
    }
   ],
   "source": [
    "f_i_to_j__shift__eq.rhs.entries[0].shift_equivalence(\n",
    "    old_shift=one, new_shift=two, \n",
    "    assumptions=[InSet(j, Integer), InSet(i, Integer),\n",
    "                 InSet(subtract(j, subtract(i, one)), Natural)])"
   ]
  },
  {
   "cell_type": "code",
   "execution_count": null,
   "metadata": {},
   "outputs": [],
   "source": []
  },
  {
   "cell_type": "code",
   "execution_count": null,
   "metadata": {},
   "outputs": [],
   "source": []
  },
  {
   "cell_type": "code",
   "execution_count": 71,
   "metadata": {},
   "outputs": [],
   "source": [
    "from proveit import fa\n",
    "from proveit.numbers import Complex"
   ]
  },
  {
   "cell_type": "code",
   "execution_count": 72,
   "metadata": {},
   "outputs": [
    {
     "data": {
      "text/html": [
       "<strong id=\"f_i_to_j_dec\">f_i_to_j_dec:</strong> <a class=\"ProveItLink\" href=\"../../__pv_it/common/0bddaaf076f4370ef99072b6bd75245122135a110/expr.ipynb\"><img src=\"data:image/png;base64,iVBORw0KGgoAAAANSUhEUgAAANcAAAAVBAMAAAAnc2Y5AAAAMFBMVEX///8AAAAAAAAAAAAAAAAA\n",
       "AAAAAAAAAAAAAAAAAAAAAAAAAAAAAAAAAAAAAAAAAAAv3aB7AAAAD3RSTlMAmYkQqzLvVES73WZ2\n",
       "Is1wFLxSAAAACXBIWXMAAA7EAAAOxAGVKw4bAAACmUlEQVRIx5WWP2gTURzHf5fL5dLkLg2OiiVI\n",
       "pk43uAih7dSlSyYFlwQcdOhwqDg42EwFwSGgo0JrlWqnOIqiCQgdROiqFjzQSZdCly4Wf7/3997l\n",
       "5VEf3OOX9/vc93u/9969C4BqseqK7QDgP4aLLbbR+9RVx9N0lNpVHp3NbN+gvUsJ9mELZZvwOc/x\n",
       "zG28JgWFYAfpkdtF60LwWNLtq/ToS3jVWtBIcjjL+BlGz02dywvH2P90m2ldiDJJ33xIBhc4UW/m\n",
       "cJbxbAVEZPbGbWboCrp6zOK+GLuhaZ6pwCyzSuLyKuhyurRFYZiJsT8a55kHM80azkUr6DK6vvqC\n",
       "Zs7DdexQyW1Fi8w5XLbJyGZWWnF45XSh80nS82Pp29rE4IPmeQZLLVX7NrN65qpM60KzMhL0jy4N\n",
       "1lII0gUM7mmcZ3YBrnmZzSzsu8yULkQH86mgN/jyDcCHdQx6GueZWwBJhZ7S/71HravMgiOXmdJF\n",
       "4Y1E0ItqMCSFTY0vSjMGT1dWdVamdQHOS/oJyHIbK6h5X+M8g9MIv3zrNG65zLQuPxMYvc4G53Ci\n",
       "lge4dd7ShHGcZ57i75OSdYMMNZtvSe5u0oX4RNAs4BuzF4/YTodlth9Epk3T/b34Ev2V25pY/1Te\n",
       "pH7ldaF+JOiQr3KARZbfYfCKat9h7yPPXMdrrfCelVdP1xAbSHabgqbs9hIwdKFMU0C0J97Ml+Lr\n",
       "w9bhDju1eabWnbUq30CxRgsTMHXZZkb6biPNnZPy2KX5kRnjaDYaP2Nb0wcVGLrl9KM4kV8vCWKO\n",
       "f0q/UufTk6jMs1mf4KFizdYBQ7eX7gr6/UUx6A+1ckSdylyZYcYfL5pOjMHQ9SYDXYxoh+xWyx+L\n",
       "eGw3+3K2vwWHiv4HFCushikf/ucAAAAASUVORK5CYII=\n",
       "\" style=\"display:inline;vertical-align:middle;\" /></a><br>"
      ],
      "text/plain": [
       "<IPython.core.display.HTML object>"
      ]
     },
     "metadata": {},
     "output_type": "display_data"
    }
   ],
   "source": [
    "f_i_to_j_dec = ExprRange(a, fa, i, j, order='decreasing')"
   ]
  },
  {
   "cell_type": "code",
   "execution_count": 73,
   "metadata": {},
   "outputs": [
    {
     "data": {
      "text/html": [
       "<strong id=\"assumptions\">assumptions:</strong> <a class=\"ProveItLink\" href=\"../__pv_it/demonstrations/6523a22f18719366f843c74e3a2766fae73615bd0/expr.ipynb\"><img src=\"data:image/png;base64,iVBORw0KGgoAAAANSUhEUgAAARcAAAAVBAMAAACeQrdYAAAAMFBMVEX///8AAAAAAAAAAAAAAAAA\n",
       "AAAAAAAAAAAAAAAAAAAAAAAAAAAAAAAAAAAAAAAAAAAv3aB7AAAAD3RSTlMAInZUiRDNmWbv3US7\n",
       "qzJazP2FAAAACXBIWXMAAA7EAAAOxAGVKw4bAAADQ0lEQVRIx61WXUgUURQ+O7uzP7M72zyJRNAq\n",
       "lT30s0QJheA+FiQNPvQgiWMiSCBKSIS9DAX1ErgEQX/ghNnD9LdERT0Eo1GQRqxI9IOFFBSJ0IIY\n",
       "iD10752/u3fvrG504MA9997v3G/OOffcAQAFbK1FQvDfhVAQsrbWJMkMM9Hx55UKh1YKvM3igze9\n",
       "EBm9znflIh9iY6+jniyqzPYmxl5AG7azPl8kiyCW+IhU9jlAl2ulX3KRgo5oa7b6so0951b5d74f\n",
       "QGSiLONPykGAPBcB8s2IDgnXEjQ+shcgpttaKU+DcrQbEYkPMpOzVlQBgw+QW6AbpCB3LvICEMIJ\n",
       "7qY91cjAZeczp8zbZDBzNqSxZHaYJomCXJ+pqyBTgUyo0IzM5n8g02cX8nE3XTPy/BaGzJOtbmSU\n",
       "L0KOIVOJjOowhMwhuiQai+VkxCadR6aNDOu80pkBK1UwaESo10uTkoJpl0z7zgBkpEi+sI86KQZX\n",
       "yslEknkemfNk2A2+yx/iuEEjoopPJj3Y0eEYgwmdj4xrMIbMMeqkBlgqJ/MtpvHI7CdDjXIZz7bk\n",
       "aUTUL2AFzoVfO6WibMjykeE84FaEVDxhYpkHNbyMdwyb5lXTvIdGagI3uKNk+b5P5hdpGdfQ5F3H\n",
       "JbyTbTI2An5ihOWQkdWPTtahVeUj0yWXDJUngyngVpUXmWfEs0V9H3SKBo04RkdGLLppguEAJEou\n",
       "myaQcgyZfpFH5gAZGrTLdMaiERJNBr6myntoJTJswCQyJ+mjNheY27Qa4ZG5SIaN3uRbpLssEH2E\n",
       "4L1fqXlkLaL8kUu2ykdC3CJXtI0+aoTpM+lSPUPmiOK1g6j3wvbgDGvQpfmIHneN7DoF4m9sxEt8\n",
       "JMRysIBfPvqoObbpfWD6zOfRfjRzxw7b3GN78vuKRd44adxHdE7b1ZYeuIGvAICJbdniI0EqgIRC\n",
       "iNWTS2t2YBJsJ+fJw05Td2UfNX40ZZa1hTAmk8gEIDfaLx716s3Gl9d8KMmd0wMWclVAqJTk7Iga\n",
       "sHoa6YSjdkSXpPX9Z20KmBczVUDtqD1lx4JibTntwG8JJ8+s71dvImBeqAZCRGNNhYDFFL4WoYyt\n",
       "NYlQ60/z2tIA8BccG+5sNKWGHwAAAABJRU5ErkJggg==\n",
       "\" style=\"display:inline;vertical-align:middle;\" /></a><br>"
      ],
      "text/plain": [
       "<IPython.core.display.HTML object>"
      ]
     },
     "metadata": {},
     "output_type": "display_data"
    }
   ],
   "source": [
    "assumptions = [InSet(Add(Neg(j), i, Neg(one)), Natural), \n",
    "               InSet(i, Natural), InSet(j, Natural)]"
   ]
  },
  {
   "cell_type": "code",
   "execution_count": 74,
   "metadata": {},
   "outputs": [],
   "source": [
    "#InSet(Neg(Add(x, one)), Complex).prove(assumptions=[InSet(x, Complex)])"
   ]
  },
  {
   "cell_type": "code",
   "execution_count": 75,
   "metadata": {},
   "outputs": [
    {
     "data": {
      "text/html": [
       "<span style=\"font-size:20px;\"><a class=\"ProveItLink\" href=\"../../../numbers/negation/__pv_it/theorems/6bf1a18c2e3498be826f1c5ef7caab578b7ee8c80/expr.ipynb\"><img src=\"data:image/png;base64,iVBORw0KGgoAAAANSUhEUgAAADQAAAAQBAMAAACra0H4AAAAMFBMVEX///8AAAAAAAAAAAAAAAAA\n",
       "AAAAAAAAAAAAAAAAAAAAAAAAAAAAAAAAAAAAAAAAAAAv3aB7AAAAD3RSTlMAEHarMolUmd1mIs3v\n",
       "RLtmgJDEAAAACXBIWXMAAA7EAAAOxAGVKw4bAAAA0klEQVQY02NgwAIY47o3LQnAJsOgfJJB/F8B\n",
       "Nhl2XaCOeVil3PkEGBiYUaT0Ojo2gGhDPpB9E5BkbitCGQ+WQxlCyiKhCUCaayNUgMvAFcoqYDJi\n",
       "bwDS3AugAiwBNyEMzgWcH5lB5nLDDOYquARVw8AOtpvBpwMIHoDtWgpTxaMApuTg7nnIB2PdX8AI\n",
       "9AcDB1zqOshfDBcY5C7YMLCCBJgUEKFhwACyJt+xhuEaWGQbwu/bF4i1MzCIK7FVJoAFhN8KwEP+\n",
       "fPsClLC7+gISUFAAAPAALk9BTu5+AAAAAElFTkSuQmCC\n",
       "\" style=\"display:inline;vertical-align:middle;\" /></a> <a class=\"ProveItLink\" href=\"../__pv_it/demonstrations/9b13a2f591017ebdff97f74979170842d6aa96ed0/proof.ipynb\" style=\"text-decoration: none\">&nbsp;&#x22A2;&nbsp;&nbsp;</a><a class=\"ProveItLink\" href=\"../__pv_it/demonstrations/d0b85d118a2a7fb81bc582e97a022cf0b6ad578b0/expr.ipynb\"><img src=\"data:image/png;base64,iVBORw0KGgoAAAANSUhEUgAAANAAAAAVBAMAAADFr31AAAAAMFBMVEX///8AAAAAAAAAAAAAAAAA\n",
       "AAAAAAAAAAAAAAAAAAAAAAAAAAAAAAAAAAAAAAAAAAAv3aB7AAAAD3RSTlMAInZUiRDNmWbv3US7\n",
       "qzJazP2FAAAACXBIWXMAAA7EAAAOxAGVKw4bAAABtElEQVRIx42Vv0vDQBzFv/1lUtOWzJ1i90IG\n",
       "0dGCrkIRtEuVLgVxKiKldoo4dDQ46lIQBwNKqX+A1dWlCEK7ddDFyQ51FK8JF+96923vDSXv88i7\n",
       "S75pAgAmsJrnFgbmvFOitqpj1UVpFztlVdlRZW7JFhyMikmgREXVUe3XJ+S3itKqfCHNUXUGddFp\n",
       "ZQulLflCSWUXs9jKZBGjNJnRmrLjK5ccjC7Jh3SywO3kD7ZsSWW8Dwilyf+oc+8fm3DIMdHVom9a\n",
       "W1KpVwChQdL0prr3Rw15qwk3XLXgdFOfpB1JZcwFhNIk1BlcFAdwTY72/NUfyBFxiSPfjQKXAc3f\n",
       "oOZ5d1ee1w8rM98Y9RNWI6gHZYwkLmlJHwbDxajhCg/CpexmzbonM1GU3aQ2IDRImBmBMYZdeOGq\n",
       "BVfuDCEuHXsPozQJH7rXtAsF2Oag4DY+T+FxpjI+no6ngFGahP+/35Jr2PDFQcGVcrGGzVemhz8D\n",
       "gOUORmkSXtGxtX5O8IiF81y4d19ZlGbl7zq9puoM7tXSQGkD+R49KztWkR5G5QlRWdmxSpkYTWHf\n",
       "8oil6litoFSewB+6eJW/EAGn8wAAAABJRU5ErkJggg==\n",
       "\" style=\"display:inline;vertical-align:middle;\" /></a></span>"
      ],
      "text/plain": [
       "{x in Complex} |- (-(-(x + 1) + 1)) = x"
      ]
     },
     "metadata": {},
     "output_type": "display_data"
    }
   ],
   "source": [
    "Neg(Add(Neg(Add(x, one)), one)).distribution(assumptions=[InSet(x, Complex)])"
   ]
  },
  {
   "cell_type": "code",
   "execution_count": 76,
   "metadata": {},
   "outputs": [
    {
     "data": {
      "text/html": [
       "<a class=\"ProveItLink\" href=\"../__pv_it/demonstrations/64ccefe96abb729f18bfeadee581beb56b2c893a0/expr.ipynb\"><img src=\"data:image/png;base64,iVBORw0KGgoAAAANSUhEUgAAAMUAAAAVBAMAAAAEKDfsAAAAMFBMVEX///8AAAAAAAAAAAAAAAAA\n",
       "AAAAAAAAAAAAAAAAAAAAAAAAAAAAAAAAAAAAAAAAAAAv3aB7AAAAD3RSTlMAInZUiRDNmWbv3US7\n",
       "qzJazP2FAAAACXBIWXMAAA7EAAAOxAGVKw4bAAACW0lEQVRIx4VVPYgTQRh9m7ibZPPDYimCOf+w\n",
       "EE0hBycWKbUQg4WF3GFABBHEQ0QCNsHCsxA8DgTBwoDYRDgWEeG6VcFCQRIOEUQhleIh3MGR4sDC\n",
       "nfnmZmdmZ5MPHuy8N7Nv5ptvZgAEIEwKZwrFG9k/yTUIE6NcT1GHUvpro8flfx9bOLcTAqdAkPG3\n",
       "ZfTdiIljpkW+qUxzkeu5rtHnQ3kAdwtw24Qkjuod3W+3Yg/PNL6kfPtN0q8Zfb4HZ4FloNAlTIiT\n",
       "8fjiokF29CbXl4w+65EXoAeUQJjigScGuWy0mV4Siz3e7/PMDO87beYxC8I0j+vGdrSNTkz3KB9v\n",
       "jwhuWB0dZh53QJDpPziwepzXuYKy5Rc7Qt/DhzpyW4aIKmGP/NU5FvDU6vFA5zxlC5trQi/yxXlB\n",
       "4vHbfRl7vABhN2awbfWY0zk/OVG1xl2h5/kmeUg8io0zMfcMHO6NPosRWvkxL03eXE08NnW2FMqW\n",
       "ixWh17ZYpz+MjcgDX6uJh5KsnnUdazrHPOT+j4Ve5uuYV9aBBdeSK3agbB6nM3MFb9AiPc+n56se\n",
       "tXq8ovcgyDgQWj0e6VxFucCuhE3SizxDOSl9iXEioprT6vJx6nxcCIz6lmVKsel0SRcFfXVXYB+F\n",
       "uNY2QJDxw7T4+fxm/I9XOllTdq36EKT7lIKFz3Tef+1EdBf6I4KMFfsDYlbCqkXfJxpvPvXb5mWm\n",
       "XHjrxbHVI3VtLln0TtZt9E6AUrDt25+r/SZRCVK6E2V5zGslffte9kz0ZyVK6ZXMx9apEyZGLj18\n",
       "b0qfyRj8H0ifmdDXsbArAAAAAElFTkSuQmCC\n",
       "\" style=\"display:inline;vertical-align:middle;\" /></a>"
      ],
      "text/plain": [
       "((-j - 1) - (-i)) in Natural"
      ]
     },
     "metadata": {},
     "output_type": "display_data"
    }
   ],
   "source": [
    "InSet(subtract(subtract(Neg(j), one), Neg(i)), Natural)"
   ]
  },
  {
   "cell_type": "code",
   "execution_count": 77,
   "metadata": {},
   "outputs": [],
   "source": [
    "# f_i_to_j__shift__eq_dec = \\\n",
    "#     f_i_to_j_dec.shift_equivalence(new_shift=one, assumptions=[InSet(subtract(subtract(Neg(j), one), Neg(i)),\n",
    "#                                                                  Natural)]).lhs.entries[0]"
   ]
  },
  {
   "cell_type": "code",
   "execution_count": 78,
   "metadata": {},
   "outputs": [],
   "source": [
    "# lhs_done = f_i_to_j__shift__eq_dec.inner_expr().lhs[0].with_decreasing_order()"
   ]
  },
  {
   "cell_type": "code",
   "execution_count": 79,
   "metadata": {},
   "outputs": [],
   "source": [
    "# lhs_done.inner_expr().rhs[0].with_decreasing_order()"
   ]
  },
  {
   "cell_type": "code",
   "execution_count": 80,
   "metadata": {},
   "outputs": [],
   "source": [
    "# f_i_to_j__shift__eq_dec.rhs.entries[0].shift_equivalence(\n",
    "#     old_shift=one, new_shift=two, \n",
    "#     assumptions=[InSet(j, Integer), InSet(i, Integer),\n",
    "#                  InSet(subtract(j, subtract(i, one)), Natural)])"
   ]
  },
  {
   "cell_type": "code",
   "execution_count": 81,
   "metadata": {},
   "outputs": [
    {
     "data": {
      "text/html": [
       "<strong id=\"tup\">tup:</strong> <a class=\"ProveItLink\" href=\"../../../numbers/ordering/__pv_it/theorems/3dcd5ceea6334d8cb48fe14fdae236293aa9a6050/expr.ipynb\"><img src=\"data:image/png;base64,iVBORw0KGgoAAAANSUhEUgAAACkAAAAVBAMAAAAp9toTAAAAMFBMVEX///8AAAAAAAAAAAAAAAAA\n",
       "AAAAAAAAAAAAAAAAAAAAAAAAAAAAAAAAAAAAAAAAAAAv3aB7AAAAD3RSTlMAInZUiRDNmWbv3US7\n",
       "qzJazP2FAAAACXBIWXMAAA7EAAAOxAGVKw4bAAABD0lEQVQY012RMUvDQBTHf2msaWK0mQvC1Q8g\n",
       "GdQ5s6DkAwjJInQROji4mc3RjoJLQMS1uDk1urmJFufOTl3q7LtrT5Le8O7/fvf433t3QERzmbwV\n",
       "r9FnHQ5qoP1eSlkhIq/XbQ4lnINX1GlX292A3/CcpBL8lKMGPTY2BZeyOdO+WtKLvS/Y+GAg+iUK\n",
       "F8seftMsopPzIPoOrzTUXeAr3BH30sacIDHUy+km7Mw19SuysaFyOInZGmmHTHH73+51ilvyJjTm\n",
       "243ams7kDjoVJxAq98kjk9G3i1BG9hJ+pIfP0919gkdR0yvtPiaY2bkOreiJydAmiRW6/tW+7Wpo\n",
       "nErC2Spp2dJQf5Gj1n6oD38eezDBj+ZZogAAAABJRU5ErkJggg==\n",
       "\" style=\"display:inline;vertical-align:middle;\" /></a><br>"
      ],
      "text/plain": [
       "<IPython.core.display.HTML object>"
      ]
     },
     "metadata": {},
     "output_type": "display_data"
    }
   ],
   "source": [
    "tup=ExprTuple(a, b)"
   ]
  },
  {
   "cell_type": "code",
   "execution_count": 82,
   "metadata": {},
   "outputs": [
    {
     "data": {
      "text/html": [
       "<span style=\"font-size:20px;\"><a class=\"ProveItLink\" href=\"../__pv_it/theorems/0416a1b210810ad0dc1b92b729f6f0c5dca980ff0/expr.ipynb\"><img src=\"data:image/png;base64,iVBORw0KGgoAAAANSUhEUgAAAIUAAAAVBAMAAACakjBMAAAAMFBMVEX///8AAAAAAAAAAAAAAAAA\n",
       "AAAAAAAAAAAAAAAAAAAAAAAAAAAAAAAAAAAAAAAAAAAv3aB7AAAAD3RSTlMAInZUiRDNmWbv3US7\n",
       "qzJazP2FAAAACXBIWXMAAA7EAAAOxAGVKw4bAAABxUlEQVQ4y2NgYBBgIA4w4pZiMiDSDG4FNIGo\n",
       "P8cCGDx/bmBgMAFx+Y6iyauj8V8FMDBooJt6mPsCA+sHBgbWBLBjEtCkl6DwWK/nA81gC0BTdEvA\n",
       "g4FhAgMDewM+9++AMfSB+jkK0GQvH2ATYFjAwMCJNwyMkM1gmAoNwVOrloEZF5sYE0BmmJFgRgYk\n",
       "bJNgfrrI+0AFZEYJiBOki6qVVb0Bmxm+YKYYPFguMhzg2bAAanYBJ2qosHBPwGZGG5iZyIAw4znr\n",
       "UqAZi0EeFOBHTSSP2ROwmWEJZiYgmcFhYAO0bTbI6Qz2ICVhq0BgHZAVwAlKT1WrVs1ctWotwoz3\n",
       "4KQ0C6hoDdQMhqu8UDOAytHC0j4Amzt2gsPqAJI7GGJZoX5BT1IMDLms2MywAjMXIJvBpwA08hA4\n",
       "O/1Gi5ffLNjM6AEzleDKzgGx3gFofHF8QDWD74MEmhn+oNwNTgcMbPDwTwZiUOi/AnF4D6D55QZa\n",
       "+rg7PxcoshriyDtbIYLPfh6A5DeuB0AepwKhdAr2MTQkuH2gaR0GgBmJ16A/gFCeAwHc2fMgw3uD\n",
       "xUQVQjI4ZWIY2NU3EGXGQdzFpAKRZSETroIXAOlBbCz16Q7VAAAAAElFTkSuQmCC\n",
       "\" style=\"display:inline;vertical-align:middle;\" /></a> <a class=\"ProveItLink\" href=\"../__pv_it/demonstrations/ca1585419aa0fb843b1136d27f39d1a8189bc9ca0/proof.ipynb\" style=\"text-decoration: none\">&nbsp;&#x22A2;&nbsp;&nbsp;</a><a class=\"ProveItLink\" href=\"../__pv_it/demonstrations/51da42ded8d4d203e6b11ba6c6a712615cdff6f10/expr.ipynb\"><img src=\"data:image/png;base64,iVBORw0KGgoAAAANSUhEUgAAARsAAAAWBAMAAAAC6iV4AAAAMFBMVEX///8AAAAAAAAAAAAAAAAA\n",
       "AAAAAAAAAAAAAAAAAAAAAAAAAAAAAAAAAAAAAAAAAAAv3aB7AAAAD3RSTlMAIolEdjJUEM2ZZu/d\n",
       "u6v6CvZmAAAACXBIWXMAAA7EAAAOxAGVKw4bAAADEUlEQVRIx62WTWgTQRTH3zZNpptsYg6FXkoN\n",
       "pIJeJAdP7SWRRjxJPasYRWgPPawQRRSTgAdBPCxatJSKe62XRvRUEYJgpbBIhN4kGCSIKEL8IOnR\n",
       "eTOZ7G52kq64Axlm387/5TdvZt5bSAI2Bf6/JR295IU/B2k2OhUAzgnWpz328cI/OGDySCoAnHFT\n",
       "jnMZuwv6wGTD/Rx+xx0w+Q0Iot2V4pAK9qcHrJo7AKW1LnfA5OuB4GxKcVRzlGZORKvLHTB5NRCc\n",
       "mC7DiY3UXHHiUAcoj1QCwZkwZTjL/nGoA5SruJEzs5P2LOVzLusTwtaNNWU4D/D8LDTdxuK6DIc6\n",
       "SPeWFXoOn3QgvRwxn4zT91d90HAdhOkwWhE4qsUaY7iHz7DtVqXmZTjUAco1mhlumbBB+XhMyDao\n",
       "NYBZob45fDe5DrRFuudVWXR26C8HHfe1LqzJcKgDlMcyAE8B3ti3od2/iSqqF2pDcRy6cFuG84L+\n",
       "9Aj+G7nPYkbBCbzEVxuW9cqy3vdxqAOB8xrIb/s21KGc4cM4S5PDcRy6UHUYDou1szE8T3RCVbFZ\n",
       "5A9E2xA6w1+Ws7BFk3bzYByug+IjMctzdnYkWQ8mmrpss2pMHs8C6UCicql4iJ5mxCnA18hUtuvE\n",
       "IV4W6pLrwMDrHK3LorOH3eGM21jOpGRHuc7keEP3YMUwplbozAryRXZV5XrNiYN2sg98YD8xHdGP\n",
       "iXzhwTmO3daA8aJiunHGfnIHKA/TfyudPNtaxKVotJiR1pGZPAbtSeNjo2EyHLTDLgbeEJ2lCx27\n",
       "zlpGhnMeux8DxsQz99lJfN//xhww+VtxErrU81I/otdcZ2fJs1kRu0zj4qalNQtTAL9Io7Iya9M9\n",
       "+abwX6GL7p+6ZdWF4/0IGbMTSVUUYg9O1IAv0e5BJRR6lZzJ471kTFpJIP3qUMr1cJSjv7IOu53q\n",
       "7c8XevqUuvx750O4o/n6AkMHTE7qjg8j95z4EDu2rKt68jV5cW7D6kNf1Q8d5Nlocugc1Y+jO+dY\n",
       "JcCW9y7abzHOQUBt9XFAjv4C7RnOjIUfa5sAAAAASUVORK5CYII=\n",
       "\" style=\"display:inline;vertical-align:middle;\" /></a></span>"
      ],
      "text/plain": [
       "{(j - i + 1) in Natural} |- |(a_{i}, a_{i + 1}, ..., a_{j})| = (j - i + 1)"
      ]
     },
     "metadata": {},
     "output_type": "display_data"
    }
   ],
   "source": [
    "Len(a_i_to_j).computation(assumptions=[InSet(Add(j, Neg(i), one), Natural)])"
   ]
  },
  {
   "cell_type": "code",
   "execution_count": 83,
   "metadata": {},
   "outputs": [
    {
     "data": {
      "text/html": [
       "<strong id=\"tup_jdgmt\">tup_jdgmt:</strong> <span style=\"font-size:20px;\"><a class=\"ProveItLink\" href=\"../../../numbers/ordering/__pv_it/theorems/3dcd5ceea6334d8cb48fe14fdae236293aa9a6050/expr.ipynb\"><img src=\"data:image/png;base64,iVBORw0KGgoAAAANSUhEUgAAACkAAAAVBAMAAAAp9toTAAAAMFBMVEX///8AAAAAAAAAAAAAAAAA\n",
       "AAAAAAAAAAAAAAAAAAAAAAAAAAAAAAAAAAAAAAAAAAAv3aB7AAAAD3RSTlMAInZUiRDNmWbv3US7\n",
       "qzJazP2FAAAACXBIWXMAAA7EAAAOxAGVKw4bAAABD0lEQVQY012RMUvDQBTHf2msaWK0mQvC1Q8g\n",
       "GdQ5s6DkAwjJInQROji4mc3RjoJLQMS1uDk1urmJFufOTl3q7LtrT5Le8O7/fvf433t3QERzmbwV\n",
       "r9FnHQ5qoP1eSlkhIq/XbQ4lnINX1GlX292A3/CcpBL8lKMGPTY2BZeyOdO+WtKLvS/Y+GAg+iUK\n",
       "F8seftMsopPzIPoOrzTUXeAr3BH30sacIDHUy+km7Mw19SuysaFyOInZGmmHTHH73+51ilvyJjTm\n",
       "243ams7kDjoVJxAq98kjk9G3i1BG9hJ+pIfP0919gkdR0yvtPiaY2bkOreiJydAmiRW6/tW+7Wpo\n",
       "nErC2Spp2dJQf5Gj1n6oD38eezDBj+ZZogAAAABJRU5ErkJggg==\n",
       "\" style=\"display:inline;vertical-align:middle;\" /></a> <a class=\"ProveItLink\" href=\"../__pv_it/demonstrations/4e1e8cad8b6444d1e6162024baba5acfa2587aec0/proof.ipynb\" style=\"text-decoration: none\">&nbsp;&#x22A2;&nbsp;&nbsp;</a><a class=\"ProveItLink\" href=\"../../../numbers/ordering/__pv_it/theorems/3dcd5ceea6334d8cb48fe14fdae236293aa9a6050/expr.ipynb\"><img src=\"data:image/png;base64,iVBORw0KGgoAAAANSUhEUgAAACkAAAAVBAMAAAAp9toTAAAAMFBMVEX///8AAAAAAAAAAAAAAAAA\n",
       "AAAAAAAAAAAAAAAAAAAAAAAAAAAAAAAAAAAAAAAAAAAv3aB7AAAAD3RSTlMAInZUiRDNmWbv3US7\n",
       "qzJazP2FAAAACXBIWXMAAA7EAAAOxAGVKw4bAAABD0lEQVQY012RMUvDQBTHf2msaWK0mQvC1Q8g\n",
       "GdQ5s6DkAwjJInQROji4mc3RjoJLQMS1uDk1urmJFufOTl3q7LtrT5Le8O7/fvf433t3QERzmbwV\n",
       "r9FnHQ5qoP1eSlkhIq/XbQ4lnINX1GlX292A3/CcpBL8lKMGPTY2BZeyOdO+WtKLvS/Y+GAg+iUK\n",
       "F8seftMsopPzIPoOrzTUXeAr3BH30sacIDHUy+km7Mw19SuysaFyOInZGmmHTHH73+51ilvyJjTm\n",
       "243ams7kDjoVJxAq98kjk9G3i1BG9hJ+pIfP0919gkdR0yvtPiaY2bkOreiJydAmiRW6/tW+7Wpo\n",
       "nErC2Spp2dJQf5Gj1n6oD38eezDBj+ZZogAAAABJRU5ErkJggg==\n",
       "\" style=\"display:inline;vertical-align:middle;\" /></a></span><br>"
      ],
      "text/plain": [
       "<IPython.core.display.HTML object>"
      ]
     },
     "metadata": {},
     "output_type": "display_data"
    }
   ],
   "source": [
    "tup_jdgmt = tup.prove(assumptions=[tup])"
   ]
  },
  {
   "cell_type": "markdown",
   "metadata": {},
   "source": [
    "Not clear what the following cell is/was trying to accomplish:"
   ]
  },
  {
   "cell_type": "code",
   "execution_count": 84,
   "metadata": {},
   "outputs": [],
   "source": [
    "# tup.prove(assumptions=[tup]).instantiate({a:a_i_to_j},\n",
    "#                             assumptions=[InSet(Add(j, Neg(i), one), Natural)])"
   ]
  },
  {
   "cell_type": "code",
   "execution_count": 85,
   "metadata": {},
   "outputs": [
    {
     "data": {
      "text/html": [
       "<strong id=\"eq\">eq:</strong> <span style=\"font-size:20px;\"><a class=\"ProveItLink\" href=\"../__pv_it/demonstrations/2a8bd11856f79a684df7d9836502c5f89aefbc580/expr.ipynb\"><img src=\"data:image/png;base64,iVBORw0KGgoAAAANSUhEUgAAAJYAAAAVBAMAAABWCwqnAAAAMFBMVEX///8AAAAAAAAAAAAAAAAA\n",
       "AAAAAAAAAAAAAAAAAAAAAAAAAAAAAAAAAAAAAAAAAAAv3aB7AAAAD3RSTlMAInZUiRDNmWbv3US7\n",
       "qzJazP2FAAAACXBIWXMAAA7EAAAOxAGVKw4bAAACJElEQVQ4y3WUPWgUURDH/7df97F7x1aSqMVZ\n",
       "hLMQPFCEiJB0qcStLMJJTiQoQkgK8aNbCGgjksYmCkmICK6FIYSAhRDtNBbXqYVyKAiKYOBIJQTn\n",
       "vbe3Hy+zA/+7d3Nvf29mdt4A8KHEWYlzFm0GjLYSa26TcW5qv+1XH2dhrTwBzkKqs3zomd8BcPKQ\n",
       "twUj1Fxe+w0wQ9CuEq7rp32aJ5YT6KxnwKzmqq9ZIapAOVTCIMlreOxp4lQWmCQf6KwLuIoaBE7K\n",
       "3R/+YzYzLDxmWNU42FNR1JWskeYRwToHJWuJZ91gWI6KfHtsGJf/zZgk1i0oOT1zKmBYF7Uqtohj\n",
       "9WS/JGWr+x52a+pcoZnwzGjIsO7nWZZL8VdkZo6fshoL09PAOpQmjrV/+gxrPM/6USaOKevhpLX3\n",
       "sWi+B6jDpO49ku5yFL1YjqJewvorM7sZCesDQZVOauwJ5y/h2olZ9eBLynp+p8/W/rVW9wlyujKu\n",
       "TjYuu5fmaA/cA5Z1XmPN2bRjVaxqWRa+e8A7SFX27YHBsR5q7/GfRZtlZkZyVz1Kyfij3jmp3rUP\n",
       "LI11yY/7JWONvREq6qRcX0v6TYyG23SBIeW10RrLs76uzFGTvNRy/Ey+2oZcXtlVDdmYf0qfl8nf\n",
       "V0rNzM6Z0irT90fj760P6g4NTVze/AV2syOlHDKsu0Wz8G0s3o5zw3anaHcn1yrcSbp5hUO61FTi\n",
       "Bzj32ImCzf8BpWJ2nvVmgdsAAAAASUVORK5CYII=\n",
       "\" style=\"display:inline;vertical-align:middle;\" /></a>, <a class=\"ProveItLink\" href=\"../__pv_it/demonstrations/2f0d7e3cd3e0d4de6dc91c04c8ac455b065ad10f0/expr.ipynb\"><img src=\"data:image/png;base64,iVBORw0KGgoAAAANSUhEUgAAAJkAAAAVBAMAAACnAFEqAAAAMFBMVEX///8AAAAAAAAAAAAAAAAA\n",
       "AAAAAAAAAAAAAAAAAAAAAAAAAAAAAAAAAAAAAAAAAAAv3aB7AAAAD3RSTlMAInZUiRDNmWbv3US7\n",
       "qzJazP2FAAAACXBIWXMAAA7EAAAOxAGVKw4bAAACBklEQVQ4y5WUT0jbUBzHv/2TtKY2y9mLVdTT\n",
       "GHXITjv0qIdBTjtISztEtosgMkU2GOJlR2WnDi8F8RJwFJXhrVFBcIPRIso2dshJceygiKKww97L\n",
       "z5cmjyesP/iW8Enzye/3khcAFiiqsjrCrOJ5irI2/g+P/923MXZbB0ZAwR87+hdzjd1mQbpOO6hB\n",
       "gfcyTWjn7HSFAgxF/1Cau2K/k3Jb+jQU+Kc1CiwDqQVKu7bFEnDbe9n2wF8UGR+6ugXWdRco7Xoc\n",
       "tnVJ46PhA4EfOo4/V2sxVuG2J6DcY9PlFRqjeQl/Hryjraw3wG2vQdH6mypbsinZpjAyK3AsWL4W\n",
       "3O46s70CJYWqypauSM/0JjFcFVi32rZTbY3ZVkHpw6XKlliO2hIXm+YLgXW0ben8U8ZWQLET/GK8\n",
       "cZyPjrMe2Mxzfvjc4fWJj1D1EOAzTl2y4SgbsiFVU/WWkXozXr5DgIuh3lDSQpPCKCgnrUVt5XzD\n",
       "C7ARtpk51uUuKOitK5+CG7Ut2eV8TuB4TuBvLI8YewYKluT3LXnB5y9Ebccoe4UATwjMD1LsOf8G\n",
       "Bb8kW/bH9Xc2TF3a3ojP2AEufaU9cXLr0m43PAo+yL351aP+JAm89cWJvJDpaT+H6St51/s1r7bN\n",
       "3/e13OExLw3lBzPmogN899IUMfNWebLb6gTz++QoyurrCOMfTWaTFu3nGX4AAAAASUVORK5CYII=\n",
       "\" style=\"display:inline;vertical-align:middle;\" /></a> <a class=\"ProveItLink\" href=\"../__pv_it/demonstrations/cd8781f4b4023409a366931790e5ab60099d9e240/proof.ipynb\" style=\"text-decoration: none\">&nbsp;&#x22A2;&nbsp;&nbsp;</a><a class=\"ProveItLink\" href=\"../__pv_it/demonstrations/fa03c0f119378592a2b3601ae91779485cdd0aa00/expr.ipynb\"><img src=\"data:image/png;base64,iVBORw0KGgoAAAANSUhEUgAAAh8AAAAuBAMAAAB6ymbDAAAAMFBMVEX///8AAAAAAAAAAAAAAAAA\n",
       "AAAAAAAAAAAAAAAAAAAAAAAAAAAAAAAAAAAAAAAAAAAv3aB7AAAAD3RSTlMAInZUiRDNmWbv3US7\n",
       "qzJazP2FAAAACXBIWXMAAA7EAAAOxAGVKw4bAAAFm0lEQVRo3u1ZTWhdRRSe95f7fszrxZWEQl9x\n",
       "kW7Ep0TBijQLXVgoXrroSskTKXZhMEo0UlSCC7tRGiyFti4aqEF8WhvqxoLQqGThQnhubCtoA67s\n",
       "JmkhQQhYZ8783Pm7986jOB0kB859h/nO3HfOmbkzd+6HEIpRKrG46GJtzGzWpZTTXkJhSbmr25cL\n",
       "vGS57PYnD2e0tzpUQ5IJuM4+x+1xVJ6XcRlRpb2ENF9TomcTfK1MEvdVDbuFoX2IajhS65Fr9Y9T\n",
       "3P4MoaMSriKyvPT2JlJ9LXLoLzK1jsAk66l/fO11XJARpuFIBEPceHpV2AidkHAVgWnO7fKm5muR\n",
       "U9+RbN+Rm77lxqMYqs9QDUcacL2apDb+lYZMRYhUOnJBGrnD29qEnwW57XG5IOg002DkSbgelGw8\n",
       "h6X5oCJmQUZyF5HqIvToZRfkGNNgZJZcPj53jdm1cZxgdSBgDTELIvmaUr9xkTwOEVlTDz9iLcgh\n",
       "psEIHZ073K628PSuSyOqImZB6r28u+/qiBk305i3FeRDpijqgwzud0EuwPvRP9z+M8IJVtJnXkPM\n",
       "glQW8u6+Z41cm3inKce7uraCPMU0GPkUctzgdtLA6bY30gVDRcg4fnGOjSMURPK1yAG6SC/jJw4d\n",
       "IPkf7/fP9vsX04KsMw2rIHTtA5uE3VrQVkWBmDOklTtDDoqC4FpY15ArTIMReGQeGAh7uoZTXhSw\n",
       "hlgemcW8u/+M+COTvtepBdnPNJg15AcYwg63a9tVvFCukDdJZEEsi2rqq7yH0p9PaFVJj9K2tSAf\n",
       "MQ1GYMvbs8zt9sZDbJuc6lkQpSDV20jyrW3phigCbM31Db0gL8Rs258NqSC30rUP7Ot4c2ySKjSX\n",
       "LIhckNEbW9dl38+JMcONJWlJbpPHanRFK8jv56fxHb9EVIORJtkY35NsLGNwfQKZiDJDdF9FoCVi\n",
       "K8LX6cMnzRCYQ4tUwxF8sqoMXhE2CD2L4WfBQJTDneqrCWl5ZqTLT4uj3ZOJfrjjZ8toPqjz//eo\n",
       "udoTNowaTO4aHlEdsXzyEr7aokpavjrC96p4vXvB2n8304DkRVQfj4VNw4c9hEwMDTEl9dW+sJHL\n",
       "B2/w8qxE48sZw5Fd7PskpY5u7y3wkmWv2588mNFejqnuyI7syI78b8QjUVXKwRyBkksaxZHY+9Mt\n",
       "0yNRZeWkskisIb3vkTKD/nAPT0RV7Sfygr4vB9POWIm7d2nutbXCSGgidsqMZ0LUG1E1Qt7+FU5K\n",
       "w5QXXcFiuXjvRtXtwkhoIjbKTMrkqEeiCj6pKpyUhqkHHc5iuXj/gtDZwkhoIgplZmZywiNRRW90\n",
       "Ogczvx45ep9P0M24IBLWS/ngaWaC1RtR9Tw0HMvBzII4ev+G0M21gkhoIpUeys0EqzeiahpNvCVz\n",
       "UiZmFsTZG10qiIQlolJmZiZYfRFVtb8rj51hnFQGZhbE2bt9pygSmohKmZmZYPVFVFVuf9N+WeGk\n",
       "DMwsiLN3c1AUCU1EpczMTLD6IqqiM5DReg5mZ7GcvN8tjIQmIlFm1kyw+iKqmq++T8wrOZg5Q1y9\n",
       "64PCSGgiKmVmZoLVF1E11b1KBnZ/DmYWxNV7ApXigkhoIiplZmaC1RdRdTKZ6nYYJ5XYMbMgjt7t\n",
       "SVROsiJh/WkiKmVmZoLVF1H1K5pam6ScFDhYMKUggsVy8B6bmzsuR22GwxNRKTMzE6y+iKofUfnN\n",
       "hHFS/cSKyQVJWSwH70t3727JkaRRzPD+LBGVMjMzweqNqKKbH33fTGyY9qo1tHdWJNCfJ6JQZmYm\n",
       "Y96IKn6Gh75VK6Ye7ob3zoqE9BeJKJSZmQlRP0SVOKgTOWzFTBnKOysS6C8SyabMSH+4hx+iSqlr\n",
       "x4qZMpR3ViTQXySSTZmR/nCPklRTav93RJWVk8oisYb0vkfKDPpj/RccjH6ga8V1egAAAABJRU5E\n",
       "rkJggg==\n",
       "\" style=\"display:inline;vertical-align:middle;\" /></a></span><br>"
      ],
      "text/plain": [
       "<IPython.core.display.HTML object>"
      ]
     },
     "metadata": {},
     "output_type": "display_data"
    }
   ],
   "source": [
    "eq = f_i_to_jp1.partition(k, assumptions=[InSet(subtract(Add(k, one), i), Natural),\n",
    "                              InSet(subtract(Add(j, one), k), Natural)])"
   ]
  },
  {
   "cell_type": "code",
   "execution_count": 86,
   "metadata": {},
   "outputs": [
    {
     "data": {
      "text/html": [
       "<span style=\"font-size:20px;\"><a class=\"ProveItLink\" href=\"../__pv_it/demonstrations/2a8bd11856f79a684df7d9836502c5f89aefbc580/expr.ipynb\"><img src=\"data:image/png;base64,iVBORw0KGgoAAAANSUhEUgAAAJYAAAAVBAMAAABWCwqnAAAAMFBMVEX///8AAAAAAAAAAAAAAAAA\n",
       "AAAAAAAAAAAAAAAAAAAAAAAAAAAAAAAAAAAAAAAAAAAv3aB7AAAAD3RSTlMAInZUiRDNmWbv3US7\n",
       "qzJazP2FAAAACXBIWXMAAA7EAAAOxAGVKw4bAAACJElEQVQ4y3WUPWgUURDH/7df97F7x1aSqMVZ\n",
       "hLMQPFCEiJB0qcStLMJJTiQoQkgK8aNbCGgjksYmCkmICK6FIYSAhRDtNBbXqYVyKAiKYOBIJQTn\n",
       "vbe3Hy+zA/+7d3Nvf29mdt4A8KHEWYlzFm0GjLYSa26TcW5qv+1XH2dhrTwBzkKqs3zomd8BcPKQ\n",
       "twUj1Fxe+w0wQ9CuEq7rp32aJ5YT6KxnwKzmqq9ZIapAOVTCIMlreOxp4lQWmCQf6KwLuIoaBE7K\n",
       "3R/+YzYzLDxmWNU42FNR1JWskeYRwToHJWuJZ91gWI6KfHtsGJf/zZgk1i0oOT1zKmBYF7Uqtohj\n",
       "9WS/JGWr+x52a+pcoZnwzGjIsO7nWZZL8VdkZo6fshoL09PAOpQmjrV/+gxrPM/6USaOKevhpLX3\n",
       "sWi+B6jDpO49ku5yFL1YjqJewvorM7sZCesDQZVOauwJ5y/h2olZ9eBLynp+p8/W/rVW9wlyujKu\n",
       "TjYuu5fmaA/cA5Z1XmPN2bRjVaxqWRa+e8A7SFX27YHBsR5q7/GfRZtlZkZyVz1Kyfij3jmp3rUP\n",
       "LI11yY/7JWONvREq6qRcX0v6TYyG23SBIeW10RrLs76uzFGTvNRy/Ey+2oZcXtlVDdmYf0qfl8nf\n",
       "V0rNzM6Z0irT90fj760P6g4NTVze/AV2syOlHDKsu0Wz8G0s3o5zw3anaHcn1yrcSbp5hUO61FTi\n",
       "Bzj32ImCzf8BpWJ2nvVmgdsAAAAASUVORK5CYII=\n",
       "\" style=\"display:inline;vertical-align:middle;\" /></a>, <a class=\"ProveItLink\" href=\"../__pv_it/demonstrations/2f0d7e3cd3e0d4de6dc91c04c8ac455b065ad10f0/expr.ipynb\"><img src=\"data:image/png;base64,iVBORw0KGgoAAAANSUhEUgAAAJkAAAAVBAMAAACnAFEqAAAAMFBMVEX///8AAAAAAAAAAAAAAAAA\n",
       "AAAAAAAAAAAAAAAAAAAAAAAAAAAAAAAAAAAAAAAAAAAv3aB7AAAAD3RSTlMAInZUiRDNmWbv3US7\n",
       "qzJazP2FAAAACXBIWXMAAA7EAAAOxAGVKw4bAAACBklEQVQ4y5WUT0jbUBzHv/2TtKY2y9mLVdTT\n",
       "GHXITjv0qIdBTjtISztEtosgMkU2GOJlR2WnDi8F8RJwFJXhrVFBcIPRIso2dshJceygiKKww97L\n",
       "z5cmjyesP/iW8Enzye/3khcAFiiqsjrCrOJ5irI2/g+P/923MXZbB0ZAwR87+hdzjd1mQbpOO6hB\n",
       "gfcyTWjn7HSFAgxF/1Cau2K/k3Jb+jQU+Kc1CiwDqQVKu7bFEnDbe9n2wF8UGR+6ugXWdRco7Xoc\n",
       "tnVJ46PhA4EfOo4/V2sxVuG2J6DcY9PlFRqjeQl/Hryjraw3wG2vQdH6mypbsinZpjAyK3AsWL4W\n",
       "3O46s70CJYWqypauSM/0JjFcFVi32rZTbY3ZVkHpw6XKlliO2hIXm+YLgXW0ben8U8ZWQLET/GK8\n",
       "cZyPjrMe2Mxzfvjc4fWJj1D1EOAzTl2y4SgbsiFVU/WWkXozXr5DgIuh3lDSQpPCKCgnrUVt5XzD\n",
       "C7ARtpk51uUuKOitK5+CG7Ut2eV8TuB4TuBvLI8YewYKluT3LXnB5y9Ebccoe4UATwjMD1LsOf8G\n",
       "Bb8kW/bH9Xc2TF3a3ojP2AEufaU9cXLr0m43PAo+yL351aP+JAm89cWJvJDpaT+H6St51/s1r7bN\n",
       "3/e13OExLw3lBzPmogN899IUMfNWebLb6gTz++QoyurrCOMfTWaTFu3nGX4AAAAASUVORK5CYII=\n",
       "\" style=\"display:inline;vertical-align:middle;\" /></a> <a class=\"ProveItLink\" href=\"../__pv_it/demonstrations/d0c0767a5e640d7a06ebf60a875eddb262260b920/proof.ipynb\" style=\"text-decoration: none\">&nbsp;&#x22A2;&nbsp;&nbsp;</a><a class=\"ProveItLink\" href=\"../__pv_it/demonstrations/4f9944e3dddfb4328e0f230be51938dfcb18c8140/expr.ipynb\"><img src=\"data:image/png;base64,iVBORw0KGgoAAAANSUhEUgAAAjYAAAAuBAMAAADJgk7ZAAAAMFBMVEX///8AAAAAAAAAAAAAAAAA\n",
       "AAAAAAAAAAAAAAAAAAAAAAAAAAAAAAAAAAAAAAAAAAAv3aB7AAAAD3RSTlMAInZUiRDNmWbv3US7\n",
       "qzJazP2FAAAACXBIWXMAAA7EAAAOxAGVKw4bAAAFwUlEQVRo3u1ZTWhcVRQ+85f566SjG6UUnCCS\n",
       "bsSpVKEVaRa6sFD66CIrJSMidhMcJbZBUIKLdtPSwVKo7cKBthSnpoS4sSB0qmThQsnKtguloBvd\n",
       "JCmkCIWk92fufffcnzdvYr3zFvkgbw7vfPfmfufdd+977wOAKoSoyoMO60nnaR0p9GPNxUwMxh6A\n",
       "VrWoSdf1eNHSUmWpWIw3ouf5T7nmzpl4AuwB2i9a1Oxjx5k3RTwO6Tk1r2YwRq+CxjWRfyMgx8wE\n",
       "5H5uk2BPRA7jn2AA9jPHf9XYFjAhpD0Z+JJDiaYm16DH7B/nRHwF4H0ljzMq3jm+DphrweG/6YSb\n",
       "JH8jTXoI3Dk0qjsfBvHZqS4cWcBsE1zIJLsJGi4lWE2elar42pKMAU4peZxhk1fE6XWNa8G5H+iI\n",
       "Z8nfTiqt0HTnGL4XwUtBfHalCsUWZpvgQmbRbWgowWqK7HgrCGPyq1wBnKHI1NQei5FXq7zOflqy\n",
       "o/MROYqX1drEZRfXobKG2BbwVi2IVILVvMqOh5SYTFplluCM2eNI5IKTZUtDhs7ht9iJYxE5szYx\n",
       "2ZU2VDYQ24JDsn2EEqxmhh7OXLzTi3PjJJtdlmktY/aocE0U7s3TiZ6nC+A07PuErBoRObM2sdlQ\n",
       "WlXZFnAhrP3RF8GlBKvhxX4g4myZzLqCUl2cMXssNKJGtLMm5mHu38zeCwAnI3JmbWKzYaWG2BY8\n",
       "kHdEszjnUsLVfNqhmIfLbKHfYBQS/5kn2Ux4V2oZs8dMK2pAz91nF5Usnpm170bfBdgfkTNrE5sN\n",
       "85hteebbEO3TVbGYm0qwmkuMtCrioEj4o6vhLYkzkO90vrnY6SzLHhWuBQf5WrlAGl5g4lYicvR6\n",
       "fUWvl6xNbHa+i9kmuBDaPgcHA5cSrOZSuNCxmLYrt7QlUGbMapdbfRdANqLSB5/T8GZEzpw3sdln\n",
       "tL5duwJtT6oKLiVYDbundizLeDpH2oQPnlrGMhPbUSP6BcRMnqrfopf7QETOrE1cNnnafQqxTXAh\n",
       "JXY3XQGXEq5GrDc/snJyEolzj7JkRaIzlFdCy1hWsJCLwCfZl3xcpMXZYKpOfk5H5MzaxGX/BfAC\n",
       "ZztHwoXQ9pB6BC4lTE34KM4WugURj64+29vpphqWDOoxuwYKN/dQDdhBjILujL/B1P0J/sjgyqHa\n",
       "HKlCbHbq2okTbc5mozaHI4SwPbqwCi4l+Qn0ThcudCy+S/a3Eu2ndNWSUXus3Ht4V+Veo0GzF0An\n",
       "CFfyUTLwnyD9MTl1PSKn1ub3r6fnYrNLm5ubDc5mI5GjYAFr3xNC20OlCy4lpQW1NiV6736mxAS7\n",
       "2PEVMDOo2joX7wtsL+g9St2QO2nbndN25S2yHSMRQm6E64RNyS786NqEzPJ7MmbgL2RkehkZ9IaG\n",
       "ufq+QP5eH6lrL6/8ndWew++aW2XbRyKFnIJK/WzgVDKLm96G0lJDxr1Xfnqfk6LqGcsjleRqOEr+\n",
       "vp0Um4T4oLY7ImdiC2zHSKSQHdWV+mWnklQXn3sbCuNVGYf/P02ni5axbI2Sq4GO8YuPxOeYLiqx\n",
       "PWdiC2zHSKSQXDc/vuBUolc+VdPjMVtVHV8cx+J9E326t1dW3TnLd9j/zh6g/Vh8NdvYxja28eTh\n",
       "0buznk8ltzQ+vTvzW3sttuk2DHjy7iyOmbDn9iS1NN68O90xC+25Pqbb8ODNuzNfgoQ918d0Gx68\n",
       "eXdg/+x5HvqZbsODN+/OUZtj0M90Gx68eXfSMTPtucMJrY0v7y50zEx77mRCa+PLuwsdM9Oe25/Q\n",
       "2vjy7nqOmdWeW0lybTx4d6FjZtpzN5N8T3nw7sJHR9OeO5DQ2vjy7kLHzLTnTie0Nr68u9AxM+25\n",
       "mYTWxpd3Fzpmpj13PaG18ebdScfMMNxS7YTWxpN3pzhmhuGWn0vqRwo/3p3LMdsNwqJLIvx4dy7H\n",
       "7HZE3YePVE2P/z/vzgA13GKabv7xGCnZfigSoRMHAAAAAElFTkSuQmCC\n",
       "\" style=\"display:inline;vertical-align:middle;\" /></a></span>"
      ],
      "text/plain": [
       "{((k + 1) - i) in Natural, ((j + 1) - k) in Natural} |- (f(i), f(i + 1), ..., f(k),f(k + 1), f(k + 2), ..., f(j + 1)) =  \\\\ (f(i), f(i + 1), ..., f(j + 1))"
      ]
     },
     "metadata": {},
     "output_type": "display_data"
    }
   ],
   "source": [
    "eq.rhs.merger(assumptions=[InSet(subtract(Add(k, one), i), Natural),\n",
    "                              InSet(subtract(Add(j, one), k), Natural)])"
   ]
  },
  {
   "cell_type": "code",
   "execution_count": 87,
   "metadata": {},
   "outputs": [
    {
     "data": {
      "text/html": [
       "<strong id=\"eq\">eq:</strong> <span style=\"font-size:20px;\"><a class=\"ProveItLink\" href=\"../__pv_it/theorems/a49f9d9780e8f8b2ad2bfc0d0ba1f066056651f30/expr.ipynb\"><img src=\"data:image/png;base64,iVBORw0KGgoAAAANSUhEUgAAAJUAAAAVBAMAAAC9PLGkAAAAMFBMVEX///8AAAAAAAAAAAAAAAAA\n",
       "AAAAAAAAAAAAAAAAAAAAAAAAAAAAAAAAAAAAAAAAAAAv3aB7AAAAD3RSTlMAInZUiRDNmWbv3US7\n",
       "qzJazP2FAAAACXBIWXMAAA7EAAAOxAGVKw4bAAAB80lEQVQ4y42UP0gbURzHv0m5/DFevMnJIYig\n",
       "i/aQUrAUzKhg8cjQoSimunQpzSAinUIHcRAqQgfbwUDU4Wwli1C3s2KHDmIQKYiCUwtZkqWDtEPf\n",
       "3e/e3b27F7gffOHxyXufd++9vAdAA0VWiZjMraROkVauEIO9+PfdwPR9A3gECvJnoT4tAxiJTF2J\n",
       "stPcBZQOoJQprFdZ6KD8fMNcKSM0rqcYZdfaFLAJpKsUv77yxkM2JlOJLjLCLq2UhhqQBcWv8aAL\n",
       "HyS76LLkD3PfaTTfJcq26zEo3VyvJC5iuUW+1qZ6N2S7lkFBaVTqeiZqSqse6/e2rQmrt1GjOZx5\n",
       "KtmqzLUmuorHHnsJ3/Vb2WOuOihJrU+XuSYEVV5f8Vg54MroT9k5fgJFwaQ99K1pbpvmF9/VtlvP\n",
       "TbsO7V5bnOU/MvTZdeFKDbiYRrpfx+IaH/zhTLEC34V5JbBGYFfqeiK6UhcGZ7WgK19g6m+gIPFX\n",
       "6toQXQuNImeDHjxnGbPofJ0zznTCrlmN/1/8aieqnKW8B2GJJc2OogUKVCvkut15zcYdiC51HZwp\n",
       "N0fEft1bdKd77ijIFsLf5ay8JnnAXJabce9Q8KKyqPp7I3y37RKvfXdGdeKkrdelvw7EZFRzTtLD\n",
       "ja4zxWHu6gsU+QOuxWNO/QdpuX99oVyEwQAAAABJRU5ErkJggg==\n",
       "\" style=\"display:inline;vertical-align:middle;\" /></a> <a class=\"ProveItLink\" href=\"../__pv_it/demonstrations/a5ae36625b3a97ee9ab13a94f48f76bf63c53ace0/proof.ipynb\" style=\"text-decoration: none\">&nbsp;&#x22A2;&nbsp;&nbsp;</a><a class=\"ProveItLink\" href=\"../__pv_it/demonstrations/32bc9a57605359fe6bc7470bcd1e8169ab3ab0b80/expr.ipynb\"><img src=\"data:image/png;base64,iVBORw0KGgoAAAANSUhEUgAAAWEAAAAuBAMAAAALqLXpAAAAMFBMVEX///8AAAAAAAAAAAAAAAAA\n",
       "AAAAAAAAAAAAAAAAAAAAAAAAAAAAAAAAAAAAAAAAAAAv3aB7AAAAD3RSTlMAInZUiRDNmWbv3US7\n",
       "qzJazP2FAAAACXBIWXMAAA7EAAAOxAGVKw4bAAAEtUlEQVRYw+1ZTWgTURCeNEnTbE1cvSgimCpa\n",
       "bxZRQUXsQS9CMHjwpBgQwYv4Q6lFEcSDelAsLYLWgwGVYrRSerIgGAWPSsCDCiqCXhShVYkXwTpv\n",
       "kvf2/Ww32eXlIh14r5NMZubb2ff7FQBc8MQVnS6+X0IMWhM34PtWYwjp6NP1qSa/kqQ7FzqHIlOt\n",
       "x/BkE/UDu7neCx3nZbtsUeVbAWB9k+ieN3wvqKbsPainWh8OcLLI+sTHUa7fBTgi2VWL7PjmOELo\n",
       "LARGl7xhnWo6OFiDeqomMXRJUUHT218IHeCSZFctNBK4vgEzdZ0IjG56AzzmQ6XWSNUkhhGT+qcF\n",
       "T8e/0kOrFibxnIQYrgdGN70BNsqI081j6LKF+j2Sjq9JqolqMREfDYxuemuIKdXRUIgHWHd17E1D\n",
       "T/ZiiERVmDWLiTgfFNzzhuTqqh9iSpUPhbj+fD+5nugexoFV9OyqxUR8MTC68IYU3PBDTKkoRqpM\n",
       "Um2K+A5tBH+5/jmFIeLD3hahWkzEW4OCe97QA7/8EFOqraFqfItAzHK9kEY82Vlv0KoWVon7Y41K\n",
       "EOKZoOCeNxTiDCCcKZdvlssTAjGlmgmPOFES+k6E0e3VWLOYNZ4OXI49b0iV/GpMqaZDIaZRsagq\n",
       "9GNJxFQSZs1iIt4WFFzyBqffd1SUeIyWx/FzWjBzXE/+SeB0qLDJDT4WE/EVppmblu4NsGrSd+ZV\n",
       "eIyWJS9Fy7NxtRwfl5XjUNHHoiDe6/KV6zf/Peu8T5I3wDV9PU78gEaqgVCIv7Fup6e/xVXXYYmc\n",
       "ez4WGfGH28fwmwdMLWORHbbXUjfu5w3vNcSZd7/fNlI9CIXY+YTdOUlHWUH9ZjAtSo1p/aIhHzeH\n",
       "heE9otdYpIqVQiHGY0i8eljoJEPU4/syLMpJyDtIJcy4mvfrrpp+EhKp1INSc3kGzoui0KluFZo7\n",
       "WErdYspK6veZM0/1zv5yfA/1lGplyBP9AejqdYVOaxJ97GDF0Sx+z8vEvEXo3qfO+i9/bkA15t1J\n",
       "c7re0+RXMjA3dA5FelqPsSAL8p+JdYZlHsrEBhvjtodhWQNtY2OmLDMsqV1st47jdtehXeiXDb6y\n",
       "wsawZpNhyX9l9dkvH4bF1rZ30gobc8QuwzL6pCBOJcoZIuNCejgCGyNSCTbmklWGpbt+2Bk2uYl0\n",
       "DTI/IrAxIpVgY7BZZFjqt7p40UScKUHmbwQ2RkXMYGGzx7B0vZs40bhV7BsyzsLObAQ2RkXMYGGz\n",
       "yLAszvEX1D9tIJ7JRWBjVMQMFjaLDMsquqjgQTjbN2ggnojCxqiIGSxsFhmW+q0uPYkX6RGNTYFU\n",
       "JTQbI6cSbAw2iwzLHo4Y4jW9xlchChuj1pjBwmaRYXkJjVEBndWCihj3wSUR2BhtVJSoWWRY6rfl\n",
       "RWg+NNmvIv4CsDYCG6PNvAo1awwLxP7U3y7WaiZ2XkEcGz99uqSxMSot48/GiFSCjcFmjWHhUyeL\n",
       "0DKX1XHszM3NFXU2ZpwzMvOzMTyVx8Zgs8ewpBrL/iOf/yBEZGOUVARrhUWGZUdnn3mOUtiU8GyM\n",
       "kopgDVlkWB7ulzmINrExBM0Ww3LhJAdQaR8bQ9DsMyxLoW1sDLZ/0tLtCo71xeIAAAAASUVORK5C\n",
       "YII=\n",
       "\" style=\"display:inline;vertical-align:middle;\" /></a></span><br>"
      ],
      "text/plain": [
       "<IPython.core.display.HTML object>"
      ]
     },
     "metadata": {},
     "output_type": "display_data"
    }
   ],
   "source": [
    "eq = f_i_to_jp1.partition(i, assumptions=[InSet(subtract(Add(j, one), i), Natural)])"
   ]
  },
  {
   "cell_type": "code",
   "execution_count": 88,
   "metadata": {},
   "outputs": [
    {
     "data": {
      "text/html": [
       "<span style=\"font-size:20px;\"><a class=\"ProveItLink\" href=\"../__pv_it/theorems/a49f9d9780e8f8b2ad2bfc0d0ba1f066056651f30/expr.ipynb\"><img src=\"data:image/png;base64,iVBORw0KGgoAAAANSUhEUgAAAJUAAAAVBAMAAAC9PLGkAAAAMFBMVEX///8AAAAAAAAAAAAAAAAA\n",
       "AAAAAAAAAAAAAAAAAAAAAAAAAAAAAAAAAAAAAAAAAAAv3aB7AAAAD3RSTlMAInZUiRDNmWbv3US7\n",
       "qzJazP2FAAAACXBIWXMAAA7EAAAOxAGVKw4bAAAB80lEQVQ4y42UP0gbURzHv0m5/DFevMnJIYig\n",
       "i/aQUrAUzKhg8cjQoSimunQpzSAinUIHcRAqQgfbwUDU4Wwli1C3s2KHDmIQKYiCUwtZkqWDtEPf\n",
       "3e/e3b27F7gffOHxyXufd++9vAdAA0VWiZjMraROkVauEIO9+PfdwPR9A3gECvJnoT4tAxiJTF2J\n",
       "stPcBZQOoJQprFdZ6KD8fMNcKSM0rqcYZdfaFLAJpKsUv77yxkM2JlOJLjLCLq2UhhqQBcWv8aAL\n",
       "HyS76LLkD3PfaTTfJcq26zEo3VyvJC5iuUW+1qZ6N2S7lkFBaVTqeiZqSqse6/e2rQmrt1GjOZx5\n",
       "KtmqzLUmuorHHnsJ3/Vb2WOuOihJrU+XuSYEVV5f8Vg54MroT9k5fgJFwaQ99K1pbpvmF9/VtlvP\n",
       "TbsO7V5bnOU/MvTZdeFKDbiYRrpfx+IaH/zhTLEC34V5JbBGYFfqeiK6UhcGZ7WgK19g6m+gIPFX\n",
       "6toQXQuNImeDHjxnGbPofJ0zznTCrlmN/1/8aieqnKW8B2GJJc2OogUKVCvkut15zcYdiC51HZwp\n",
       "N0fEft1bdKd77ijIFsLf5ay8JnnAXJabce9Q8KKyqPp7I3y37RKvfXdGdeKkrdelvw7EZFRzTtLD\n",
       "ja4zxWHu6gsU+QOuxWNO/QdpuX99oVyEwQAAAABJRU5ErkJggg==\n",
       "\" style=\"display:inline;vertical-align:middle;\" /></a> <a class=\"ProveItLink\" href=\"../__pv_it/demonstrations/04b7bc38c0d0147eeae3b4f140f3a73c99aeb0a10/proof.ipynb\" style=\"text-decoration: none\">&nbsp;&#x22A2;&nbsp;&nbsp;</a><a class=\"ProveItLink\" href=\"../__pv_it/demonstrations/7881bcdb43f74129b1a9356eeab76c32432efe300/expr.ipynb\"><img src=\"data:image/png;base64,iVBORw0KGgoAAAANSUhEUgAAAXgAAAAuBAMAAADQEx/LAAAAMFBMVEX///8AAAAAAAAAAAAAAAAA\n",
       "AAAAAAAAAAAAAAAAAAAAAAAAAAAAAAAAAAAAAAAAAAAv3aB7AAAAD3RSTlMAInZUiRDNmWbv3US7\n",
       "qzJazP2FAAAACXBIWXMAAA7EAAAOxAGVKw4bAAAFG0lEQVRo3u1ZTYgURxR+87c925uZTHJJWALO\n",
       "RpL1liUkggnBPSSXwOLgwZPBgSB4kajIuigByUE9KFlWAok5ZCARySQbBk8uCI4BjwkDOahgQiC5\n",
       "RAK7KuNFcK161V1Vr6pmpqatmz7Ynme91+/75nX99HwCQA2U1eTFNOcg5LwHBw57IolxM5afM/3L\n",
       "jjv1LM2m6o7BreCf640kaJnU3sHr0Y9SfxbyJ/W4HqF2twGwTR+IPmQjUJhnDA7R1FcWfzdyHaaQ\n",
       "4P8GDVUvAtKi1KDU5NfiX+dT/weA/VqcRvQbb37GECZ0lIX/eNf2sL94ns6YLuzq0FzbNCR4k4Y+\n",
       "WeyDoLWfjEf4XSbfvyF9gNNanEbw8af+W4xMWW/x+auc3pI2ckV8VGowuUxzbbORFFS+n9A6TW/B\n",
       "67WG8tmn1iIa4Vaoa+ThKw2qjx/LWu7bScE+VO6RXIfZSAoKyXNak+Tpbcfrx5rP5oL27WnEJn9A\n",
       "e+4tDDdt8pUWVB6TXIfZSAZ5TmuCrkd+OXfhZuKXZlm02JNhI2KTX5Cp5durfF5EbLrvXqLk+SrY\n",
       "0HMdppCg9HrPRZ7T0qjJzt1P/eIUe+plrXk0YpM/pVJfrKePbX7NIr9eJ7kOk0gQwdcu8pyWoHa8\n",
       "zW0Vvsfd4DGmMP+fiEULatoaEZv8DoW+5W9s8RxU5xYt8qs013GGSSSYgQcu8pxWQV9R8C0mbaR+\n",
       "Y5LlVzfUrKMRiNrtHy+02z1Jfl2V2ikWZwdKsJL05xveH9zUujTXNoUEjULfgELynJZGLSUvlhr6\n",
       "OxmjqWVjEcqI3fk1c8Ux8lDom50/BzTXsc0rJIhars5zWlOk8zhtXuhJ/2CJ3dOSYSNik39PlfoN\n",
       "kmkDE70GJc9O3ZdIrm0akjzjjGnTSqmlc/5X7JZIYn7pUZGtCv6MBVUjYpM/yz1BdUWQYOF9nXlK\n",
       "/l+AN0guOasNJLZ6Os4F202oqSNdS17gc+pVsdvBvqYjQiruqqVb20NccY/E42cdXM+dJORzl44d\n",
       "a2m5vDY68l86EsCX5j5fvJdswhF577irlhr6txhszOvEFx0RveKf3x1kIz9xt91QK67KWFbO0Dkf\n",
       "b25uNrXcmB8IlyC5WEhwxyBfuf3wlqAVd3TyMd/fPtd8ZtN4fRfsCGkH9lScqpx8lJwfv9gnrJVL\n",
       "zUJacUEhrWlyI3tbKvQ+lT6aOB/ZA7Ii5G1Jvdfx1fDBxJz9WncFnLmGGUh/lPsuKKS1RO+8DvGN\n",
       "pvSTF1g+Hdm3NiO2vYbX3ezv5z3ptlEbmWssWIpUfRA7f49wWrkuHdsL5dma9BV6nrfBiNgmvhR/\n",
       "ul8cTrl0R+Yav50MpCMn3HtpzW5Mrm76M66v7f4Nl3d1+WXwz/VGErRm4Lk9t2fcgotOYwpJuafg\n",
       "Hl50GlNI8qzhtICiUzYhaWSNwRZSdMooJI2oMcRCik5eQpJ835FC0ogaw8qHE538hCT5pimFpBE1\n",
       "hlhA0clPSKLkEepAVvLhRCdPIYmSR6iFrOQDik5+QhIlj1CnspIPKDr5CUmUPELtyEo+oOjkISTp\n",
       "QpQUkobXGEk+jOjkJyTRziPU2lNNmzCik5+QZEyb1qgawyyg6OQnJBkLtpvWyGLBRCfMl2rSYCFJ\n",
       "kpdCktius1gw0QmFJKkmDRaS5P+WSCFJ1Mhi4UQnTyGJClHTskYWCyY6+QpJVIhast7bxrJQolNm\n",
       "ISmpkclCiU6ZhaSBjRlT5AkjOo0pJHnWcNgTfJbsv7arMkIAAAAASUVORK5CYII=\n",
       "\" style=\"display:inline;vertical-align:middle;\" /></a></span>"
      ],
      "text/plain": [
       "{((j + 1) - i) in Natural} |- (f(i),f(i + 1), f(i + 2), ..., f(j + 1)) =  \\\\ (f(i), f(i + 1), ..., f(j + 1))"
      ]
     },
     "metadata": {},
     "output_type": "display_data"
    }
   ],
   "source": [
    "eq.rhs.merger(assumptions=[InSet(subtract(Add(j, one), i), Natural)])"
   ]
  },
  {
   "cell_type": "code",
   "execution_count": 89,
   "metadata": {},
   "outputs": [
    {
     "data": {
      "text/html": [
       "<strong id=\"eq\">eq:</strong> <span style=\"font-size:20px;\"><a class=\"ProveItLink\" href=\"../__pv_it/theorems/1a0f35dd914089b5473d6cf135d661e2318d96e10/expr.ipynb\"><img src=\"data:image/png;base64,iVBORw0KGgoAAAANSUhEUgAAAGEAAAAVBAMAAACkm51HAAAAMFBMVEX///8AAAAAAAAAAAAAAAAA\n",
       "AAAAAAAAAAAAAAAAAAAAAAAAAAAAAAAAAAAAAAAAAAAv3aB7AAAAD3RSTlMAInZUiRDNmWbv3US7\n",
       "qzJazP2FAAAACXBIWXMAAA7EAAAOxAGVKw4bAAABlklEQVQ4y2NgYBBgwApwCAMBkwF28U1o/Kg/\n",
       "xwIYPH9uYGAwAXHfBKDJqzMwNaAJHea+wMD6gYGBNQHEU0O3YQkDQyqa0C0BDwaGCQwM7A24nNuO\n",
       "xr98gE2AYQEDAydOD3JCXMp0atUyMONiE2MCSIcZTh1sYNu5k2BevMj7QAWkowTIZlW6gKqYVR2o\n",
       "mgUsKAYPk4sMB3g2AHVkANnsDDNQdbBwA33IAQ6TRAaEjuesS4E6FgPZigyfUXU8ZgeqZp4AYiYg\n",
       "6eAwsAGKzQayA5i/goTCVoHAOpAApwIDAx8w7Bn4ZgGF1kB1MFzlhepgYF+A5mt7oOtBLmNgPYBk\n",
       "B0MsK9RVDFwOaDpyWYGuAhuzAFkHnwLQgEMgjvwGtLD6zQL0Odh4JbjgOSDWA4r5gjj9aFbwfZAA\n",
       "OhVsMRs8oSaDnA8MiFcgzh302LsBjA8usMWsd7ZChJ79PABJhVwPgLxJ2OJcCkJx+0BTCQxwFDBc\n",
       "5viKTUcFruRzkO8zF7ZMxXgAl44YhqJqbOI8OLMtowJ2cUUc6gEU+1zyNSwQMQAAAABJRU5ErkJg\n",
       "gg==\n",
       "\" style=\"display:inline;vertical-align:middle;\" /></a> <a class=\"ProveItLink\" href=\"../__pv_it/demonstrations/f43b94864fdfae182f24132c5498484cb25eaacf0/proof.ipynb\" style=\"text-decoration: none\">&nbsp;&#x22A2;&nbsp;&nbsp;</a><a class=\"ProveItLink\" href=\"../../__pv_it/common/d129d9437eac6c140a4b7e67b6bc67f79629903a0/expr.ipynb\"><img src=\"data:image/png;base64,iVBORw0KGgoAAAANSUhEUgAAAUAAAAAuBAMAAACrN90HAAAAMFBMVEX///8AAAAAAAAAAAAAAAAA\n",
       "AAAAAAAAAAAAAAAAAAAAAAAAAAAAAAAAAAAAAAAAAAAv3aB7AAAAD3RSTlMAInZUiRDNmWbv3US7\n",
       "qzJazP2FAAAACXBIWXMAAA7EAAAOxAGVKw4bAAAEHUlEQVRYw+1XTUhUURQ+48ybN87oNLgKEdSE\n",
       "dNcQFWiEs6iNMPRw4apQCEECyUJEikBaVAsjUYR+Fg1UBJohrhSCxsBlMNBChQqhVRJoyrgRwvv7\n",
       "3n3vvt8WlxYemMObe8493/fu37sfAOTAtBjxQoMjErZZspyZHbaHZTV567mN+CWXrDb3zpmWKBg4\n",
       "O2QPwc4RP3oFuXgBuXaomRDC+mWDRWpGHD23UaQjoDqpSzF+GyS7IyI/bQD7xI8Z5Pvw4xuAQSFe\n",
       "/JVnkXTB3nH9FiKYNHyr07oU4zTNDughmU6Gq/biGvLjrO2REJ/5aAgRbMv84QyKpEZ8q9O6Op8S\n",
       "nB3QQy5B/CfyWlO8zXrJTBXECLazIkGY9a1O69aa/2cDe0h2gfge7OIDrC1pLcJEyRaRCQ75Vu8R\n",
       "MIBlD0UjOIrdkxfreCbQItPaEblEhUdTmwsjLNI77kqw6Fec1iUY2qkKyy5GI0jfZ48PXCKDZjNl\n",
       "DdiJFh4prLgSfOhbfc/E0OEZyyY97s5hWwhB8DU5Qf9in0b79aeOyMWtJde8xSLZ/JgrwU6/4rQu\n",
       "wWiFfZbdGW0EX5I1tkvW8iKAUYuGLLtrhruBRTSYZm/+nL85IbjjV5zWJRhGvMqyd/6BIN0KmCB0\n",
       "I9TMlGOV40i86jqCK77HYMnC0EsseyUaQTLFdRU+xTCsIS4lM/wFeCRZMdwIdvkVp3UpBjnnu3iP\n",
       "8GvwMxkhshXqkNcOE2iTlPGckPA08Ej/YsGN4CSYubbvDFh1KUbzIsuejDaCRbMzOV2yuyfZeXNA\n",
       "Vvkh8MhObMJB8GqOHyE4t39AeKCO1aUYT/mBMxqN4La1FbJ4ZjcQjTSuO2dYqxxH6h871uD3V8Mo\n",
       "dx5YbhofmO+APaTfWnUpxjfs5tkvgqXxOXKfPn9gbY1kB2KCesUesY0gGeKSmWu382DVJRjTLDtW\n",
       "ikYQfbvjlRv2SwL5ZqC1CJeSefn6sCzfNRJyXbRKzLoI42uqyrL1iYj3rVVIr7EvRx27+OI9Ar3o\n",
       "974PbBHZmoDnOjYJ2h5mXVjN7pMjosnsEcGuQaqdwWtlgQ3egA9ugy3i9no813GHxgPH6yKMO/d4\n",
       "9mpUgjGhegPxrS5ZDR53+VwUDJwdssexHdv/ZOqEe8h2h8pXKNxlWwqh8lUKd5tl0efaBuWu8pUK\n",
       "d9Guj+GP32Cgylcq3O1TWXVAuat8tcJdIihAeah8tcJdIihAeah8tcJdImhBeal8tcJdIihAeah8\n",
       "tcJdIihAeah8tcJdu0nk5pZJUIDyUPlqhbs0ggKUh8pXK9zlKS4FqXy1wl3eJOUgla9WuNvm/w87\n",
       "wPxVvlrhLlj95sEGg/JV+UqFu2yNgSpfqXCXbTxY5asU7vJJXg5W+SqFu3wO5YJVvkLhLltroMo/\n",
       "AopVuZYHi1y5AAAAAElFTkSuQmCC\n",
       "\" style=\"display:inline;vertical-align:middle;\" /></a></span><br>"
      ],
      "text/plain": [
       "<IPython.core.display.HTML object>"
      ]
     },
     "metadata": {},
     "output_type": "display_data"
    }
   ],
   "source": [
    "eq = f_i_to_j.partition(subtract(j, one), assumptions=[InSet(subtract(j, i), Natural)])"
   ]
  },
  {
   "cell_type": "code",
   "execution_count": 90,
   "metadata": {},
   "outputs": [
    {
     "data": {
      "text/html": [
       "<span style=\"font-size:20px;\"><a class=\"ProveItLink\" href=\"../__pv_it/axioms/a66b1fb5d205d2e8007a39dfc31bf38e465e0de50/expr.ipynb\"><img src=\"data:image/png;base64,iVBORw0KGgoAAAANSUhEUgAAADMAAAATBAMAAADPIygvAAAAMFBMVEX///8AAAAAAAAAAAAAAAAA\n",
       "AAAAAAAAAAAAAAAAAAAAAAAAAAAAAAAAAAAAAAAAAAAv3aB7AAAAD3RSTlMAMrsQds2rme9mIlTd\n",
       "iUQmv6lAAAAACXBIWXMAAA7EAAAOxAGVKw4bAAAA5klEQVQoz2NgwAA2n1QNGG78eABiMyqjymnz\n",
       "JTAwfwAzWQJQpXIW3GRgaGDABrIVWBcwHEAWYdE5cxTMyJrCFYAixRdiAGVlsQn4QqRM3MACS2Ey\n",
       "DFkMCkwPwFIFHBNAVBQDQkqc+TBIimUB/waQQACSFOeGTSAXMjPsBxnF2HPmzJlDUCmGZDaI42tA\n",
       "BLMCki4GM2aIC8+CyQPIUowOYJVc/8ACLnApRSB2BEtxQoKLdQNMKhqI2cGuYoPYwpz0GCIj+gMo\n",
       "wAyW4nCABsclaEDBANuG+QYM2IH8htM4ZBjY3R/gkAEAR4oz5b1xIc8AAAAASUVORK5CYII=\n",
       "\" style=\"display:inline;vertical-align:middle;\" /></a> <a class=\"ProveItLink\" href=\"../__pv_it/demonstrations/3ff574d3c090b70db4fe136ab4d02b7d7b5cd0c20/proof.ipynb\" style=\"text-decoration: none\">&nbsp;&#x22A2;&nbsp;&nbsp;</a><a class=\"ProveItLink\" href=\"../__pv_it/demonstrations/6c455e7608a78834b41bdbab9d45dc3bbeb21bb70/expr.ipynb\"><img src=\"data:image/png;base64,iVBORw0KGgoAAAANSUhEUgAAAJQAAAAVBAMAAABS/tqaAAAAMFBMVEX///8AAAAAAAAAAAAAAAAA\n",
       "AAAAAAAAAAAAAAAAAAAAAAAAAAAAAAAAAAAAAAAAAAAv3aB7AAAAD3RSTlMAInZUiRDNmWbv3US7\n",
       "qzJazP2FAAAACXBIWXMAAA7EAAAOxAGVKw4bAAABjUlEQVQ4y5WUvUvDUBTFT+1H+qE1s4utg05C\n",
       "EHG1/4BQHJwUugiORUSkLtkcW5wUl4K6BJTi5FgF94KLgoOzCCqlLi6+jzT1PU+hvfBLk/Nuzrv3\n",
       "klcALjQs3DFUYMLT0LgZQwWWQ/BeNhfyl2IP307nqtAfkKxAAcyba1v7PXHdxiiqbK4CR+zg+LRz\n",
       "+dJR/+mWqkZkQoZYZfpdL1HViJWQIVYpn1mlaBt7Icm5DrNKdJhVws7F+iKwA42DE2aVrjArrTqB\n",
       "CmVbzfg4F7+SIrrMKt5gVpEa5brTHs7EjaQclznYUBtdRy/lP+VtLQhOg+DKUv9EEqvlyApOk1WV\n",
       "o1XlGv9mXkPUILIl2mCTNti0Z4UL4B4azLbo2Nt07G27qNgPsAYN6vZq4kvuXLKsTDWKtJjeGzR4\n",
       "sRannr+fRNst08pSB9mizuyrBsf0k5+BVZWpDs5fQVRWVTyme9TqwD7OptqvyavLU3knyXez9N8v\n",
       "1h5J/fDUR7Cp2D2kRU26I6nOghperKChURxD/QUKKXX48BsAFgAAAABJRU5ErkJggg==\n",
       "\" style=\"display:inline;vertical-align:middle;\" /></a></span>"
      ],
      "text/plain": [
       "{j in Natural} |- ((j - 1) + 1) = j"
      ]
     },
     "metadata": {},
     "output_type": "display_data"
    }
   ],
   "source": [
    "Add(subtract(j, one), one).simplification(assumptions=[InSet(j, Natural)])"
   ]
  },
  {
   "cell_type": "code",
   "execution_count": 91,
   "metadata": {},
   "outputs": [
    {
     "data": {
      "text/html": [
       "<span style=\"font-size:20px;\"><a class=\"ProveItLink\" href=\"../__pv_it/theorems/1a0f35dd914089b5473d6cf135d661e2318d96e10/expr.ipynb\"><img src=\"data:image/png;base64,iVBORw0KGgoAAAANSUhEUgAAAGEAAAAVBAMAAACkm51HAAAAMFBMVEX///8AAAAAAAAAAAAAAAAA\n",
       "AAAAAAAAAAAAAAAAAAAAAAAAAAAAAAAAAAAAAAAAAAAv3aB7AAAAD3RSTlMAInZUiRDNmWbv3US7\n",
       "qzJazP2FAAAACXBIWXMAAA7EAAAOxAGVKw4bAAABlklEQVQ4y2NgYBBgwApwCAMBkwF28U1o/Kg/\n",
       "xwIYPH9uYGAwAXHfBKDJqzMwNaAJHea+wMD6gYGBNQHEU0O3YQkDQyqa0C0BDwaGCQwM7A24nNuO\n",
       "xr98gE2AYQEDAydOD3JCXMp0atUyMONiE2MCSIcZTh1sYNu5k2BevMj7QAWkowTIZlW6gKqYVR2o\n",
       "mgUsKAYPk4sMB3g2AHVkANnsDDNQdbBwA33IAQ6TRAaEjuesS4E6FgPZigyfUXU8ZgeqZp4AYiYg\n",
       "6eAwsAGKzQayA5i/goTCVoHAOpAApwIDAx8w7Bn4ZgGF1kB1MFzlhepgYF+A5mt7oOtBLmNgPYBk\n",
       "B0MsK9RVDFwOaDpyWYGuAhuzAFkHnwLQgEMgjvwGtLD6zQL0Odh4JbjgOSDWA4r5gjj9aFbwfZAA\n",
       "OhVsMRs8oSaDnA8MiFcgzh302LsBjA8usMWsd7ZChJ79PABJhVwPgLxJ2OJcCkJx+0BTCQxwFDBc\n",
       "5viKTUcFruRzkO8zF7ZMxXgAl44YhqJqbOI8OLMtowJ2cUUc6gEU+1zyNSwQMQAAAABJRU5ErkJg\n",
       "gg==\n",
       "\" style=\"display:inline;vertical-align:middle;\" /></a> <a class=\"ProveItLink\" href=\"../__pv_it/demonstrations/bdc9577d6eb3ecb119f061ee75622b79596698af0/proof.ipynb\" style=\"text-decoration: none\">&nbsp;&#x22A2;&nbsp;&nbsp;</a><a class=\"ProveItLink\" href=\"../__pv_it/demonstrations/a0f7dd2a3efe302d8a776c325a8500c685f07de90/expr.ipynb\"><img src=\"data:image/png;base64,iVBORw0KGgoAAAANSUhEUgAAAVcAAAAuBAMAAABuRUeWAAAAMFBMVEX///8AAAAAAAAAAAAAAAAA\n",
       "AAAAAAAAAAAAAAAAAAAAAAAAAAAAAAAAAAAAAAAAAAAv3aB7AAAAD3RSTlMAInZUiRDNmWbv3US7\n",
       "qzJazP2FAAAACXBIWXMAAA7EAAAOxAGVKw4bAAAERUlEQVRYw+1YT0hUQRj/1v3rbm5LpxAhLchu\n",
       "LVGBRriHugRLiwdPhQsRSCBZiEgRSAfrYCSKUHlooSRYM8STC0EaeAwWOqhQIXQqgrVkvQjRzLw3\n",
       "b+bNzJu3j2jo4Ac7fr75vt/83rxv5s37AUAGmGWcRrAQKM3jsmSZINczDrQE35QV/SUFwDH1YKn2\n",
       "hrjyY7hsyTsYQ0vwp0k7fJH6ndA0xnXHLxRQG84hkCEh8zvqOeFDk+HCj4K7Kz0H7qGEYAwtwEeL\n",
       "uI18mab+S4DrXH/+G77RPvRL5tyJ6zfR6LGCliuHC8fdXVdH6uAeSgiOyfBxcm/N59YcH+AB1z/9\n",
       "FsePcleWqXMS9SSGtGTduMLjrgtDCcEYWoBvJu27AvPRX3Y/qTr5M8llnOLJwoyWrBtXQZYbSgqe\n",
       "keDPkvYS56PJZzMRKeE2XPQkO6Al68ZVkOWGkoIHJPhh3Dx6tm770U6UHanS3sTmAn4QcVSuvaNK\n",
       "snkdV4YL0aNVFVk2lBycl+At6r+oH0mhJ55gE3mwnU51rqIkO66dWQcX4vBERZYbSgoep/DxMrEq\n",
       "vCAb8G8Sh/yvcZQdZiV6ZAu3ySyksyNKsl06rgwXOmBHRZYbSgrukuBnSU1uU7/QjKYyve1091gr\n",
       "bhGiMIW9O+Xy03J5gZGt6cgyXCiEMbfoDTJHWw5ZbigpuCbBz7JlRPwexCA1KRQ9IgvhunJmK9pt\n",
       "luFCvKSaWW4oKbgiwZMyOFB1/MEo4sVwP4BdBhCrFlRku3VkOVzxnULLoOQd3E3hnZp9T2bOegcj\n",
       "P7oXQVW/gh8FuTRl4aD+/sWciuwEOLGu9xu4cVH1LyoX2Ip38ASFZ69TDiiPa+iwtVNFd0nR71lP\n",
       "CN10LTQmkL2coTsNju0v2o7zH48L8FiqkZ/2pugVPEx3VnYaYcuI+BuIUhKnlQus6NPoYbU8FGr2\n",
       "8/NBFDsPdmwSb8ivwG6ScwIufBK4tmzubthDeQTP2z9mSbwy73E+slayODHZuL1nv1G9wcjUl5xY\n",
       "t50BAXdKWdWt3sEYOuReleioEK5eY0cHoMcWVLtwPpaVjzbL8jkoIrNAj5fH/ZioK8mOegdjaPEI\n",
       "tArJtaLjk9nCRQ+96Pe6j65Ur6N+G9BYYYGh1cLhpneSyvO3NZQ6uM2BZ3YFEp0Zx2fM8Nq8f4uO\n",
       "veJB1ro9+XuhCc8Rh3v7rnpvy3gHrzrw3M21i36HAvWQx/dKpqHPmpDX10+HdzCGbhB+3/btPzZz\n",
       "IkcoQIa/APGPRQ6lbhHITIocCt0ikBkVOWL+GVozKnIodItAZlbkmPHN0JpZkWPAN0O/AoyKHHm/\n",
       "DL2ZFTnGfTO0Zlbk6PLL0JtZkaPml9EAWWMiR8Uvo4EyMCZydPtl6M2syCHrFoHMrMgh6xaBzKzI\n",
       "IesWgcyoyKHQLQKZUZFDpVsEMpMih0q3CGQmRQ6VbhHIDIocf6tb/AEIY7zePQbKxgAAAABJRU5E\n",
       "rkJggg==\n",
       "\" style=\"display:inline;vertical-align:middle;\" /></a></span>"
      ],
      "text/plain": [
       "{(j - i) in Natural} |- (f(i), f(i + 1), ..., f(j - 1), f(j)) =  \\\\ (f(i), f(i + 1), ..., f(j))"
      ]
     },
     "metadata": {},
     "output_type": "display_data"
    }
   ],
   "source": [
    "eq.rhs.merger(assumptions=[InSet(subtract(j, i), Natural), InSet(j, Natural)])"
   ]
  },
  {
   "cell_type": "code",
   "execution_count": null,
   "metadata": {},
   "outputs": [],
   "source": []
  },
  {
   "cell_type": "markdown",
   "metadata": {},
   "source": [
    "### Testing the `ExprTuple.range_expansion()` method\n",
    "\n",
    "For self an ExprTuple with a single entry that is an ExprRange of the form f(i),...,f(j), where 0 <= (j-i) <= 9 (i.e. the ExprRange represents 1 to 10 elements), derive and return an equality between self and an ExprTuple with explicit entries replacing the ExprRange. For example, if\n",
    "\n",
    "self = ExprTuple$(f(3),...,f(6))$,\n",
    "\n",
    "then `self.range_expansion()` would return:\n",
    "\n",
    "$|- (f(3),...,f(6)) = (f(3), f(4), f(5), f(6))$\n",
    "\n",
    "First not that we cannot create an ExprRange with only one element explicitly:"
   ]
  },
  {
   "cell_type": "code",
   "execution_count": 92,
   "metadata": {},
   "outputs": [
    {
     "name": "stdout",
     "output_type": "stream",
     "text": [
      "Expected Error: Do not create an ExprRange with the same start and end index since it reduces to a single instance.  Note that nested_range/var_range automatically perform this reduction.\n"
     ]
    }
   ],
   "source": [
    "try:\n",
    "    ExprTuple(ExprRange(a, Function(g, a), two, two))\n",
    "    assert False, \"Expecting a ValueError\"\n",
    "except ValueError as e:\n",
    "    print(\"Expected Error:\", e)"
   ]
  },
  {
   "cell_type": "markdown",
   "metadata": {},
   "source": [
    "We can, however, create an ExprRange that doesn't obviously have one element but may turn out to have one element after a simplification or substitution."
   ]
  },
  {
   "cell_type": "code",
   "execution_count": 93,
   "metadata": {},
   "outputs": [
    {
     "data": {
      "text/html": [
       "<strong id=\"expr_tuple_with_1_elem_range\">expr_tuple_with_1_elem_range:</strong> <a class=\"ProveItLink\" href=\"../__pv_it/demonstrations/b219bd778389b380b5daa10e5ebeec726d589bb20/expr.ipynb\"><img src=\"data:image/png;base64,iVBORw0KGgoAAAANSUhEUgAAAN0AAAAVBAMAAAAwUfbwAAAAMFBMVEX///8AAAAAAAAAAAAAAAAA\n",
       "AAAAAAAAAAAAAAAAAAAAAAAAAAAAAAAAAAAAAAAAAAAv3aB7AAAAD3RSTlMAInZUiRDNmWbv3US7\n",
       "qzJazP2FAAAACXBIWXMAAA7EAAAOxAGVKw4bAAADNUlEQVRIx41WTWgTURD+Nsm2yaZZoxe1eGj9\n",
       "AT01h1rQi0FET9LFQ70UGgTRg2IP0kjtwZP1oDSXHkSlBZGCog29VRBS72oURBRKg3gqaFJLiyA0\n",
       "zpvZn5dsTfNgNrMv3zffezPvZwGk4TdxDYSboQN2bOntu7g7kvH7XDfZE4Yfkp+FtuS0kH5b8Nj9\n",
       "QR+5e8feA0dD6GgWxpmJIiJ32tFTIVedIDf5axVmKjNzfj+5RgmDRXQ4zRGGgIuIrgOX25CjOOaX\n",
       "G0GMA4j9FSZZZzBiclNpJAqIjzaHuAX0ZcxNYLINPQ7ZF+h9BB4KkywR4MhNbCC1Bkw3hygAi0WQ\n",
       "XsLZWY9DanozDlbSzCQbCHDkpmaR2gKuNpePkx79A3S0UcCBJr1vwEqFmWQ3ucAH99GTXVg14Hyg\n",
       "dLqXcJ1Z5b8mL1ZuISRgidPXkIh5YZKpqcRyxmN4s6rSbrjrA89if8md1fflChDPtdATsMRp0LN/\n",
       "C5PsKb2eckAd7AIvyU74I97ALtK3eEOp9RkttJiegCVOg55VFibZI3p9ApsWCbvoVCOs+qUvo0qn\n",
       "QqLoFd6utVgnApY4ojci6ZhQc6yx0Z/2OiIFD/dAPRa9ENUMjkH0fgEfMki2mJ8L1vUs3llxVXTF\n",
       "JKPJx9fQVXbzQAfJbuCkF2IqjXeQfNYdpRed/b+eCw7nsx9Gmplkb0mvhhG1IMjFD+AIcF+hFGEK\n",
       "Jm0CdPWopKt8xlW6zbCWBuY4up6dRUSYZLT0zTWsqH/JNeby+VlZ0eo0wUg6tQFZy/d4//HO4Kqo\n",
       "h2ByjWDZTYPBHdGdz48Lk2yVOt4cHlf95Fr1ep3oL9TrcxpD8tM5lUCbHsk8ndew1MqxnnmlmfMc\n",
       "Dcwhl2eu+yfDfL2+KUwyq6K6rnBxK96BzrQoZ6SDK/7KHys/j4f3ggb24zS0bjE6m3869hYvo1H9\n",
       "wEWM5vUZVSZPagc3tWwomg4OH/ceU9kSvjpDcsMu+ReIahfoOJ02L7Hf5VbDKPGFE76QdbAfp+ED\n",
       "oeSyh6l8t6VvGDq+hysiO90sQdONhMPpYD+O3hST2UYwWNeNbPP5sUd+etv6njC2+SDpFfsHEmHY\n",
       "5bL0LKAAAAAASUVORK5CYII=\n",
       "\" style=\"display:inline;vertical-align:middle;\" /></a><br>"
      ],
      "text/plain": [
       "<IPython.core.display.HTML object>"
      ]
     },
     "metadata": {},
     "output_type": "display_data"
    }
   ],
   "source": [
    "expr_tuple_with_1_elem_range = ExprTuple(ExprRange(a, Function(g, a), two, Mult(one, two)))"
   ]
  },
  {
   "cell_type": "code",
   "execution_count": 94,
   "metadata": {},
   "outputs": [
    {
     "data": {
      "text/html": [
       "<span style=\"font-size:20px;\"> <a class=\"ProveItLink\" href=\"../__pv_it/demonstrations/0add5e266568cf20800971bb1ecc45c14a7c7ef10/proof.ipynb\" style=\"text-decoration: none\">&nbsp;&#x22A2;&nbsp;&nbsp;</a><a class=\"ProveItLink\" href=\"../__pv_it/demonstrations/e763296b74747e3f2d87f8731849468595ececf80/expr.ipynb\"><img src=\"data:image/png;base64,iVBORw0KGgoAAAANSUhEUgAAATIAAAAVBAMAAAA3Nn/MAAAAMFBMVEX///8AAAAAAAAAAAAAAAAA\n",
       "AAAAAAAAAAAAAAAAAAAAAAAAAAAAAAAAAAAAAAAAAAAv3aB7AAAAD3RSTlMAInZUiRDNmWbv3US7\n",
       "qzJazP2FAAAACXBIWXMAAA7EAAAOxAGVKw4bAAADw0lEQVRIx42WQUhUQRjH/2/Xp+7T3TYvlXTQ\n",
       "LKhTHiyoSxJRp2jpYBfDJZA6dPAQrpiHTtmhcC8eoiIhRDCyxZtBsHavLAgyCJfoFJSaKEHQ9n0z\n",
       "772Z92Z23TnMfvve//++35v5ZuYByCJsMnRgNkcX7NZsD8jWcDvWHCJM9Ia3/LCty3xAj/xZbIis\n",
       "x3JtsYa7x5pDIPSpWxTuG30HHDX8yX445yZKSNxpAIzEyMxqY1G4WRFOi5u1Wo5AyQhuPrxFoVPG\n",
       "pRKac/EHDABXkNwChhsgI/HV0W31/yCa/krnsE2rhUpJCC3qPShMZ5EqonUk/oAx4HivuwNMNkA2\n",
       "xoWhkX0AHkrnpFWrQqUkhJS6RWFqG+lNYDr+gCKwVAKRpXK7kxVjZE9zWMsKp+kuRkKlJIST6haF\n",
       "6Rmk/wE34tUgpjz5h0Z590ITYp3sC7BWEU7DncxHQqUkhFui9A/tp16E8DaAi0p/tpt0LaJOX1HU\n",
       "tFKPSYl1MmovpdNwC62eI1ASAg9PU955jGCk1mnB3g2t53Gg7L/rt68Vmv98HTJNHCXL/JZO6R6f\n",
       "5/aCQ6HVbKGSEJ5RfyYHuiBCgB2nwlHYxh4i9cRGx2szWawzZJo4SuatSKfhZm0kR6AkhEfUP0GG\n",
       "yl6EaCnzuIWLYgXrtCenSkEpZzZqk+liScarmdsEj8YGTDdrIzkCJSEQTmYLiWJA9oC7pcC53otj\n",
       "/gN+Ae970VZnzDRxMGZzom/lwmGn4WatbguVhEBT2LqJ9hV/Nmkj3gucDpxTWbz1B72aY7LkTG0y\n",
       "TRydzT44WeGUbq3OWKvbQiUhvCGyDQxx+VGI78AR4D67eFeZgktbBdq7eMp5Nlt5sl2TKiaOkGX6\n",
       "kZBO4dYbazWbUhICbRDuJtZyYqHCmSsUZuT+IWpkKJvmFLyO74n9TKztobx/W2ryphhNmyp9Z6Ew\n",
       "Lp0t/TEy1mo2pSSEH9S/PjzOMgq9arVKiZ7z33mibft4gYc2Q11bgU50eFwN3mxQQtx5I6Y4vbrz\n",
       "WW1m1eqOdHqlGJl4sLIpJSF4FVZcF5NeCT4ORDkkxVHSLM7QhfD9RX/C3DFs4kjrDN16W6iRgxDo\n",
       "6PyZy/yDPEXDo52Hl97jE9YF7mT0BO43MljFxtk9ZlydrJGDEZaxmhuQ34rL4WcLt8s0KdPuNVmp\n",
       "/ueoI0rYNT8tbeLot2s5cEeXQNaegxEGqcxuy2uDvlwSdokSkJXhlqG5E2ZimziGYEV2y/YcjOCo\n",
       "AfDDhOWdO+RPd0Nf2x2Wa9013B3WHITwHwMDMNdtCntYAAAAAElFTkSuQmCC\n",
       "\" style=\"display:inline;vertical-align:middle;\" /></a></span>"
      ],
      "text/plain": [
       "|- (g(2), g(3), ..., g(1 * 2)) = (g(2))"
      ]
     },
     "metadata": {},
     "output_type": "display_data"
    }
   ],
   "source": [
    "expr_tuple_with_1_elem_range.simplification()"
   ]
  },
  {
   "cell_type": "markdown",
   "metadata": {},
   "source": [
    "ExprRange indices are already expected to be simplified w.r.t. `quick_simplified_index` from `proveit.numbers`, however, which deals with basic `Add` and `Neg` simplifications and combines all literal integers at the end of an `Add`."
   ]
  },
  {
   "cell_type": "code",
   "execution_count": 95,
   "metadata": {},
   "outputs": [
    {
     "name": "stdout",
     "output_type": "stream",
     "text": [
      "Expected Error: Start and end indices must be in the 'quick_simplified_index' canonical form: (1, 1 + 0) ≠ (1, 1)\n"
     ]
    }
   ],
   "source": [
    "try:\n",
    "    # A one-element ExprRange (hidden by choosing the start and end indices\n",
    "    # that are equal but appear different)\n",
    "    example_expr_range_2 = ExprRange(i, IndexedVar(x, i), one, Add(one, zero))\n",
    "    assert False, \"Expecting ValueError\"\n",
    "except ValueError as e:\n",
    "    print(\"Expected Error:\", e)"
   ]
  },
  {
   "cell_type": "markdown",
   "metadata": {},
   "source": [
    "`range_expansion` does the same thing as `simplification` in this case:"
   ]
  },
  {
   "cell_type": "code",
   "execution_count": 96,
   "metadata": {},
   "outputs": [
    {
     "data": {
      "text/html": [
       "<span style=\"font-size:20px;\"> <a class=\"ProveItLink\" href=\"../__pv_it/demonstrations/7bd638461f621ba4d8d16635dde772a31f22404f0/proof.ipynb\" style=\"text-decoration: none\">&nbsp;&#x22A2;&nbsp;&nbsp;</a><a class=\"ProveItLink\" href=\"../__pv_it/demonstrations/e763296b74747e3f2d87f8731849468595ececf80/expr.ipynb\"><img src=\"data:image/png;base64,iVBORw0KGgoAAAANSUhEUgAAATIAAAAVBAMAAAA3Nn/MAAAAMFBMVEX///8AAAAAAAAAAAAAAAAA\n",
       "AAAAAAAAAAAAAAAAAAAAAAAAAAAAAAAAAAAAAAAAAAAv3aB7AAAAD3RSTlMAInZUiRDNmWbv3US7\n",
       "qzJazP2FAAAACXBIWXMAAA7EAAAOxAGVKw4bAAADw0lEQVRIx42WQUhUQRjH/2/Xp+7T3TYvlXTQ\n",
       "LKhTHiyoSxJRp2jpYBfDJZA6dPAQrpiHTtmhcC8eoiIhRDCyxZtBsHavLAgyCJfoFJSaKEHQ9n0z\n",
       "772Z92Z23TnMfvve//++35v5ZuYByCJsMnRgNkcX7NZsD8jWcDvWHCJM9Ia3/LCty3xAj/xZbIis\n",
       "x3JtsYa7x5pDIPSpWxTuG30HHDX8yX445yZKSNxpAIzEyMxqY1G4WRFOi5u1Wo5AyQhuPrxFoVPG\n",
       "pRKac/EHDABXkNwChhsgI/HV0W31/yCa/krnsE2rhUpJCC3qPShMZ5EqonUk/oAx4HivuwNMNkA2\n",
       "xoWhkX0AHkrnpFWrQqUkhJS6RWFqG+lNYDr+gCKwVAKRpXK7kxVjZE9zWMsKp+kuRkKlJIST6haF\n",
       "6Rmk/wE34tUgpjz5h0Z590ITYp3sC7BWEU7DncxHQqUkhFui9A/tp16E8DaAi0p/tpt0LaJOX1HU\n",
       "tFKPSYl1MmovpdNwC62eI1ASAg9PU955jGCk1mnB3g2t53Gg7L/rt68Vmv98HTJNHCXL/JZO6R6f\n",
       "5/aCQ6HVbKGSEJ5RfyYHuiBCgB2nwlHYxh4i9cRGx2szWawzZJo4SuatSKfhZm0kR6AkhEfUP0GG\n",
       "yl6EaCnzuIWLYgXrtCenSkEpZzZqk+liScarmdsEj8YGTDdrIzkCJSEQTmYLiWJA9oC7pcC53otj\n",
       "/gN+Ae970VZnzDRxMGZzom/lwmGn4WatbguVhEBT2LqJ9hV/Nmkj3gucDpxTWbz1B72aY7LkTG0y\n",
       "TRydzT44WeGUbq3OWKvbQiUhvCGyDQxx+VGI78AR4D67eFeZgktbBdq7eMp5Nlt5sl2TKiaOkGX6\n",
       "kZBO4dYbazWbUhICbRDuJtZyYqHCmSsUZuT+IWpkKJvmFLyO74n9TKztobx/W2ryphhNmyp9Z6Ew\n",
       "Lp0t/TEy1mo2pSSEH9S/PjzOMgq9arVKiZ7z33mibft4gYc2Q11bgU50eFwN3mxQQtx5I6Y4vbrz\n",
       "WW1m1eqOdHqlGJl4sLIpJSF4FVZcF5NeCT4ORDkkxVHSLM7QhfD9RX/C3DFs4kjrDN16W6iRgxDo\n",
       "6PyZy/yDPEXDo52Hl97jE9YF7mT0BO43MljFxtk9ZlydrJGDEZaxmhuQ34rL4WcLt8s0KdPuNVmp\n",
       "/ueoI0rYNT8tbeLot2s5cEeXQNaegxEGqcxuy2uDvlwSdokSkJXhlqG5E2ZimziGYEV2y/YcjOCo\n",
       "AfDDhOWdO+RPd0Nf2x2Wa9013B3WHITwHwMDMNdtCntYAAAAAElFTkSuQmCC\n",
       "\" style=\"display:inline;vertical-align:middle;\" /></a></span>"
      ],
      "text/plain": [
       "|- (g(2), g(3), ..., g(1 * 2)) = (g(2))"
      ]
     },
     "metadata": {},
     "output_type": "display_data"
    }
   ],
   "source": [
    "expr_tuple_with_1_elem_range.range_expansion()"
   ]
  },
  {
   "cell_type": "code",
   "execution_count": 97,
   "metadata": {},
   "outputs": [
    {
     "data": {
      "text/html": [
       "<strong id=\"expr_tuple_with_2_elem_range\">expr_tuple_with_2_elem_range:</strong> <a class=\"ProveItLink\" href=\"../__pv_it/demonstrations/e13422037a21b8ecfb5da27ee1411a29af9215350/expr.ipynb\"><img src=\"data:image/png;base64,iVBORw0KGgoAAAANSUhEUgAAAI8AAAAVBAMAAACNsKCFAAAAMFBMVEX///8AAAAAAAAAAAAAAAAA\n",
       "AAAAAAAAAAAAAAAAAAAAAAAAAAAAAAAAAAAAAAAAAAAv3aB7AAAAD3RSTlMAInZUiRDNmWbv3US7\n",
       "qzJazP2FAAAACXBIWXMAAA7EAAAOxAGVKw4bAAACN0lEQVQ4y41UPWsUURQ9M5PJ7szuDquNIhbx\n",
       "C+zcwgRiYwpbcbCITSDbiJZbiCtqsZVaRNgmlYYsBAkoymIXQdj4AzSthbiIlaBmDYpV1nPvezMj\n",
       "DFlm4Lw5b+55Z9697wNAHeljqINCj5ON0XFuIw1ZWpkpZHTKvF5b4HwWIj1y+z1wtoiPtwDn0v0+\n",
       "3A4UfjMNkToDXOljOi5gtAhcg7cHXIei1ElDpLU6gi7KrQJGd4BzDf8P8BCKIAuRBr9RGwGrBYy6\n",
       "wFYfNApixVwWIq31UNsHbhYokZbE+wtMdxS3tMonj7JVinAXuDzJwohLC8Lf0GRqRyE/n2o6T5HM\n",
       "4ycX/8EEHyuWeeDLpyFQbio22L8Y4xdfGyp8ScxPMLLiUPecrJrXVTxhdw0RK6wUpYHMaoKRFQd9\n",
       "7a3HiFgLgqOjPbjdxOixNFsH+yRiMfoBfGigwi7BfMojVHdsatyvh4ALBxslYkltHIuR14PgHWO7\n",
       "WJbSkeIrcAZYkSH57e0jE1dnJEtJrcxiEFxpf4TPMorU2Wy3e2YjyKY1zXLzf2LFsuiPdB/JRiC+\n",
       "8ePb03flh6TheDym+oV0n4t+U7JoJeRZJo74v0qbhxahQTiUzzd0Kw6Tm6anS5vPbRapGK+Sj8cM\n",
       "eEC/x9G+1rGVnV6ZfL7STCIR61lNTq9iGx/jRXOVbdvQcW2v5otNWSqu2puVN48CS8z6nvm2ZAcY\n",
       "w/w96WqJrNgfIDVUUycbYKlbL3TVHjavEwb/AIxTkcLGk5paAAAAAElFTkSuQmCC\n",
       "\" style=\"display:inline;vertical-align:middle;\" /></a><br>"
      ],
      "text/plain": [
       "<IPython.core.display.HTML object>"
      ]
     },
     "metadata": {},
     "output_type": "display_data"
    },
    {
     "data": {
      "text/html": [
       "<strong id=\"expr_tuple_with_2_elem_range_exp\">expr_tuple_with_2_elem_range_exp:</strong> <a class=\"ProveItLink\" href=\"../__pv_it/demonstrations/ed0687937281bd3817e2a378273de4e4cadfc5040/expr.ipynb\"><img src=\"data:image/png;base64,iVBORw0KGgoAAAANSUhEUgAAAI0AAAAaBAMAAAB4E8JtAAAAMFBMVEX///8AAAAAAAAAAAAAAAAA\n",
       "AAAAAAAAAAAAAAAAAAAAAAAAAAAAAAAAAAAAAAAAAAAv3aB7AAAAD3RSTlMAZkRUmRDNuyLviTJ2\n",
       "3asqG0tJAAAACXBIWXMAAA7EAAAOxAGVKw4bAAACCElEQVQ4y6VVvUvkQBT/iVmMm2SVEw8Ekf0P\n",
       "rGwEYYuglUdsFI8DtbpGzrUKYpNCUATZbUSsdisrP1JYeQduY3Fwt1h45Z2CqNeIH6CICvFNZnaN\n",
       "jtlEfZCXx+/N/ObN+0iAinxeP6qYA6OoKWpL2RVm4mMV/cBfGfSTVujRfu3W5kkV9by/A/jxm+8B\n",
       "6jPceYkcHdLgQxE8mptkK7LM7qHwfGNQOFvj8wBGc4AH7cyYrDrXEJdHH0eQx7AoKLqpan6lULQ/\n",
       "cXhmeqdJD5WCPPoBJakIzCJ5SdpCnz1l2821eCgXG2k6806x7SV7kvMkroAmQv8Dy1AzqhMdT8pB\n",
       "Y37YVS+C8WAM2Ka7FSycObPfN61onsYrpG4Mq27xCU8fQPXHKXDmFjxP5EdduS2FxrOL1J22WnYE\n",
       "z/zEKumfwDH374t1DYgU41wY2SrUacHmnXUvECWaZ7sSbOYRcvGNn3GA2PJPhnJp7EEkKq4oWRkb\n",
       "SfN46l4RTscLWE7cqxusd2JJfRFzcsocnLAsF6Fbz30SgARTW8CO5KF6UemxYJr90qZrdu/RgOEr\n",
       "dc805S5t86mw73nXku8vOQxWWlYJ3zBokA3P8+Sv5Sdq9HRYIuSLdYUlbYzP+4uSlKGwpWzetXyI\n",
       "84u8PGzq/LY5DHHKm/TQiXMC3+d3SLtorHcK/19U/l9vF4Uq+wAtxoG6SHruPAAAAABJRU5ErkJg\n",
       "gg==\n",
       "\" style=\"display:inline;vertical-align:middle;\" /></a><br>"
      ],
      "text/plain": [
       "<IPython.core.display.HTML object>"
      ]
     },
     "metadata": {},
     "output_type": "display_data"
    },
    {
     "data": {
      "text/html": [
       "<strong id=\"expr_tuple_with_3_elem_range\">expr_tuple_with_3_elem_range:</strong> <a class=\"ProveItLink\" href=\"../__pv_it/demonstrations/2b029eeea5de633da3f062a4e6acded41dfa3caf0/expr.ipynb\"><img src=\"data:image/png;base64,iVBORw0KGgoAAAANSUhEUgAAALoAAAAbBAMAAAA5YIiJAAAAMFBMVEX///8AAAAAAAAAAAAAAAAA\n",
       "AAAAAAAAAAAAAAAAAAAAAAAAAAAAAAAAAAAAAAAAAAAv3aB7AAAAD3RSTlMAZkRUmRDNuyLviTJ2\n",
       "3asqG0tJAAAACXBIWXMAAA7EAAAOxAGVKw4bAAACeklEQVRIx7VWTWgTQRR+MbvtNps0oZ68lIJH\n",
       "BetB6bEgRQSFuagI1aaei9SDLOKlB6V7azxITy176Kl4yLWINId68NAQMAVFxYCgeFDaaktpC+ub\n",
       "2ZnNZudNiFAfZH6+N+/L+5tJACipAvwTrovbubVXf7F487GNO6frVQonpRyvCspoSIwWWA2cxtMG\n",
       "g0G+QuGU5LcFkRRhko0MiyPOEU6zWojVXIPCKTnL2fvVbp4Pt6J1hsXs9sZo0qZQonFN7Dcx++QV\n",
       "ZKzh4qFSxj5a2XIy3BkgcSIxdsw+fhmHLaxaRSlfM8lyM9eR5ds1GtdkLGa32QqOdXQoUM3xCCzP\n",
       "W/Qwlr5SR+aPaDwtTgnZr3qPPQ+PTSMwxbCaUvkUfFW94lzb5k7V2aFwosVXVw5HVVUPQDizLrvc\n",
       "efJqQrGsJWvKMi8onPR+T+Xd5fm2ZmGTp+lHEwbCcFux1FUTIO6+rM+lcULuLWFNhv8o3/MtPlTg\n",
       "G4/+3ZmWPCVYplVWDDjRjEsXl+VSsIsKndoDD6efUUzygvWdU21kwnUZbMCCTDG/q/fXonaABzjt\n",
       "JLoe1RvqwTHhuhRL0J9oqOsTogy70MTvCMPwkGoCA07IOh4NtHTtct/d377/jGI34BT7mO9rkTlR\n",
       "Zo4NNsc9P+fFGuXdAXzH6RoDJ61iXfBUAnhN8E5oVw175i1Od5+f/5Q22e+CT5UTi2j3YWhTcz9T\n",
       "gQvcmRv7mupzF7zAX7MmyEVhizv/ZUYLymrBwAidySzrGb9kKAZeKSugVTnoGTcw8DfSNVzASegV\n",
       "t2uGo8P4+UqrTCY6nje16fv27+rJi/hdzQb/iX0+8X/m5AVfsr9UIrERd/ZOSQAAAABJRU5ErkJg\n",
       "gg==\n",
       "\" style=\"display:inline;vertical-align:middle;\" /></a><br>"
      ],
      "text/plain": [
       "<IPython.core.display.HTML object>"
      ]
     },
     "metadata": {},
     "output_type": "display_data"
    },
    {
     "data": {
      "text/html": [
       "<strong id=\"expr_tuple_with_unknown_elem_range\">expr_tuple_with_unknown_elem_range:</strong> <a class=\"ProveItLink\" href=\"../__pv_it/demonstrations/48b98817df24fccaadbe3f41e131bbbdde4ab2f00/expr.ipynb\"><img src=\"data:image/png;base64,iVBORw0KGgoAAAANSUhEUgAAAN0AAAAmBAMAAACyv4PzAAAAMFBMVEX///8AAAAAAAAAAAAAAAAA\n",
       "AAAAAAAAAAAAAAAAAAAAAAAAAAAAAAAAAAAAAAAAAAAv3aB7AAAAD3RSTlMAmVSrZs0y7xCJ3bsi\n",
       "RHYwvcNTAAAACXBIWXMAAA7EAAAOxAGVKw4bAAADOUlEQVRYw71XTWgTQRR+u002m/9VEcU/crDQ\n",
       "Q6E5CIKCBER6ECGHXjwoufWYoCJSFYLxD3+aeBDEg6w9aBGpEQUP20MuoodgchK81K0eBClaioUU\n",
       "inFmd2d3JvuTpcjsYXZ23zffN+/NvDe7AABCDnhcN6pWZwcXOZDmzXukyEcPjpu36SonvaS5bqfJ\n",
       "8z3HdRo2TlsAMlS/FF4MQeVLuCP2yKsntjFBEUW6lOU6ir3i2J4FSkQWgIUaGyXRoDGCa1SNski/\n",
       "VIAv+EkJ49NVYKGdFmrKzPIlXYP20xYR6UXxgGYIudSqcXOgSezaUfK0lCess9upUSptwXrxnEUi\n",
       "LwcnbqT5qcFAIxXU/LGsst4jrMooNckibcF6omKRCGJwJo2sjF1hoKk1tCSbhPiaarHK1QfOoHST\n",
       "shh66aZFcjsevIqxb8YGpqBPkY+rdnR12Ku907QCwJQzSMzTFqwnNQVNu6y9RStZCNTrbCsBC92J\n",
       "nLZjUr9p75dNqgo1aQsTT8i2AvVOptUWC/2NnM4T86hAWKUKu18cC9bL6IRkOnh/HpPUBgudKEHW\n",
       "SL/ajAK1FcKaseYgH0YBXwTHknq4oUPSnvR3fy1MuAiHSiy0nIMsDqw8c/A8lWVkXW7NTebN9KYz\n",
       "866dVFO+cg4hA60XoIMTY0SFTtWuImdInI5AqgdCa6Dy7LOKRvRzxT8VbEIGmtWxi4CdTDp77cBu\n",
       "q4NSE22tRwNZ3CUFbtn/YGEJbShavK94eLnf7zfcByR6u4FiMxCqMJXTmxCyiulfebzddk9WWmu3\n",
       "P27tqPMmtPWyuueov1s+Wn0I0esODrOATsKB3MWz21WF1DBmtxeyN6G1rHU8E/n5qZ/sjOR11Ny5\n",
       "sLQwRM7A1YtWx3lyEZoVLgcxo5AKr84OmF7gie9Z14f5h3EJxazFZpOY9yQ0lrULUZ+TUwz5FeWB\n",
       "G/MFT1RB8EnaeMid4YFr+IIfo/TteZtmQ+q5cbL/GrxB1jVvkx5Sz43L+IPxt8Rr4Hal8bk6yU8v\n",
       "js/2epebXixHRPlcP4z2Ije9c0Z7gpdcxozkkK+6/3d9MCu4/JKPnDxndd7z+eG0PzBSJS5693Hz\n",
       "D63E3WJvEW+PAAAAAElFTkSuQmCC\n",
       "\" style=\"display:inline;vertical-align:middle;\" /></a><br>"
      ],
      "text/plain": [
       "<IPython.core.display.HTML object>"
      ]
     },
     "metadata": {},
     "output_type": "display_data"
    },
    {
     "data": {
      "text/html": [
       "<strong id=\"expr_tuple_too_big\">expr_tuple_too_big:</strong> <a class=\"ProveItLink\" href=\"../__pv_it/demonstrations/ee76aa6d403227cd421f793c3d065511a8f62e1d0/expr.ipynb\"><img src=\"data:image/png;base64,iVBORw0KGgoAAAANSUhEUgAAAM8AAAAVBAMAAAATCqclAAAAMFBMVEX///8AAAAAAAAAAAAAAAAA\n",
       "AAAAAAAAAAAAAAAAAAAAAAAAAAAAAAAAAAAAAAAAAAAv3aB7AAAAD3RSTlMAInZUiRDNmWbv3US7\n",
       "qzJazP2FAAAACXBIWXMAAA7EAAAOxAGVKw4bAAADC0lEQVRIx42VP2gTYRjGn7sk7eXyp1EEpRSs\n",
       "/8BF6FAFXRq6OInBoaIUEhDRwaGCGKkOneyikMVBqhgoUlG0xUUchNRVkDjq0GZwEqRNa4ogND7f\n",
       "n7v7epcmveE77nt/z/Pe977ffQcgB/+y1M2Y8a+cCfS6wpby2R4JZo+p2/uoVFOp4b3kMS2lQhqO\n",
       "BpOxPKzyrQbsmYiW1IHzX4CTe0lE+ODdr0B8/LZSCMNEKQAmgCHE/wHXw1JSiSmMjaCv0DsPYauG\n",
       "i0u4hqs5paBhv/H294BvwFNgNqwlZW+iWIIz1TsR4UwOyYpTRbymFDRMGkQFeFHAKqHwe5NKzWGA\n",
       "q3/SOxHhZAuZZrqOWEspaHjGaBF9fgCrDfSFm6SoMU7f7J2IcKaKzPbAFLKbSkHDO7J7Rw+JJecl\n",
       "t8gu1oPGypCkUq84XOi6CwIY7nqRif4qBQ1FvnjJeqbS8spuAI6/Q3RIUNlTKxwfdsljwMDa8OG8\n",
       "NBMKGs6LkhSwId5Bbn+Xq4lVPK0OzasHAme7JNoBv4VI9EcpaDjH23Nkm6JjSwJ4IF5+3dPq0Jzq\n",
       "Mlu71iWRCffXUMwjtaEUNOQsO2ZXvESOaE/KW5EXElQDabb24+55DBh4DHAzxLSChlyn00S67pVu\n",
       "FFYOsarWeiFSAy2Z6NzuiQxYHDL70vyIWkpBw88E1lEU+yDNYymbh12AUxMfOIIQqWRdlu6RsIwe\n",
       "DyEYP4ETTgX9JaWgITdfoonVgtqDGCyXp/VG5zngh0g5M/I7Ens3seWFt3Y8BbC1UC5XubQrDaWg\n",
       "4S/ePh2fljVmwRbbbepc0S33ZRAS1IcyD1W8EY+v6eeKo2UBegjBbrvdLuHy+IpW0NBtiNgNuf53\n",
       "XiEG5XgafkhR4vciuxeL1q4THChoyDPvdyG7LedmjdOVF+vnhfyzVJ3B8ehO6AQHCmG4jO+FCfU/\n",
       "S+s/o1WT/eWkH1rWsiE5Xopuhk6wr5CGkyztfU3XYCS0ZdV1aFLLlEf0P9sR9hXS0DJU+9XtSLQy\n",
       "mrJze/nDmpZSQcP/JgfbftCgTF4AAAAASUVORK5CYII=\n",
       "\" style=\"display:inline;vertical-align:middle;\" /></a><br>"
      ],
      "text/plain": [
       "<IPython.core.display.HTML object>"
      ]
     },
     "metadata": {},
     "output_type": "display_data"
    }
   ],
   "source": [
    "# generate some example ExprTuples each containing a single ExprRange element\n",
    "expr_tuple_with_2_elem_range, expr_tuple_with_2_elem_range_exp, expr_tuple_with_3_elem_range, expr_tuple_with_unknown_elem_range, expr_tuple_too_big = [\n",
    "        ExprTuple(ExprRange(a, Function(g, a), two, three)),\n",
    "        ExprTuple(ExprRange(a, Exp(two, Add(a, one)), two, three)),\n",
    "        ExprTuple(ExprRange(a, Exp(e_nat, Add(a, j)), two, four)),\n",
    "        ExprTuple(ExprRange(a, Exp(e_nat, Add(a, j)), i, k)),\n",
    "        ExprTuple(ExprRange(a, Function(g, a), two, num(20)))]"
   ]
  },
  {
   "cell_type": "code",
   "execution_count": 98,
   "metadata": {},
   "outputs": [
    {
     "data": {
      "text/html": [
       "<span style=\"font-size:20px;\"> <a class=\"ProveItLink\" href=\"../__pv_it/demonstrations/dd15ddab664cda55306455ad1a3fcf0d0e8c24860/proof.ipynb\" style=\"text-decoration: none\">&nbsp;&#x22A2;&nbsp;&nbsp;</a><a class=\"ProveItLink\" href=\"../__pv_it/demonstrations/01fea8f109a457c0af7e9a8a0b6eb6117f707b170/expr.ipynb\"><img src=\"data:image/png;base64,iVBORw0KGgoAAAANSUhEUgAAARkAAAAVBAMAAACAi4frAAAAMFBMVEX///8AAAAAAAAAAAAAAAAA\n",
       "AAAAAAAAAAAAAAAAAAAAAAAAAAAAAAAAAAAAAAAAAAAv3aB7AAAAD3RSTlMAInZUiRDNmWbv3US7\n",
       "qzJazP2FAAAACXBIWXMAAA7EAAAOxAGVKw4bAAADGElEQVRIx42WP2gTcRTHv5c0bZqm8XDS4tCq\n",
       "i5MZqqtBRCfhproUGoSig0MGIaV26Ba3ZnGQWiwUEQTb0E1BSLuLVXBQkAZHQdtaKgXB+t7vT/L7\n",
       "k1zuhuTu9z7v+335vXeXAxCifQTyy1iJOQw47B3uIxs6IqliJ3ZBfm0mqsaAN3uH42W1eVtkshNL\n",
       "lxBUH7SQWkxQDMM3FhoC7pJA4QSyZG6JZMqd2BRwDgN/gdkE1RB8B+lDCc92C/eXZXNLZMgoeA74\n",
       "CDwFagmqIfhyMfNHwrVu4f6ybG6JDBvBOvA8wm6I4ah/NQS/aYCEGPYT6klk2dwSuWq0mvbtK7Db\n",
       "wmD/wUmLDqePIWAvIV1OIivNDZGHYpjOn+F9k4O3AQzsxNVxfWJRw28XJewliLBJOrLSUZibIvfp\n",
       "cqAcPIP+gYXfQLYcU81NnG0q+Pu3loRlwvwrPl5DaxmkI6sc2dwSWaPraxGIRU7c/DmqMl2P2Zoj\n",
       "nBrXMN8ODHsJHLZIW1Y5rsERWabLFRQOeKYaHFvgH7Lfu5rhHeyFGubxZNhL4LBF2rLKcRmOCC0U\n",
       "DpGq62qy3NuRmL3ZK+KSgn8BH4oC9hI4bJCOrHbkaiwR2qzsAfI7ulOTCEKkV3tXsxTivYJPIhZi\n",
       "WCYYc8Nhg3RktSN3yhLZptg+ZnjS8tTkQgmpCNkmPyi9QsTKEjLHCl4Rm8ywSDAPDhukI6sdt+GI\n",
       "3Kb4AXb5ucR32Vi1Oq9uyhkac35M2ieYCUePFPxYPCoYHio51XDYIF1Z5UjmtsgPWnh3cV50k3Zr\n",
       "4+SEfHPc6twL+njJJxV9wisjn26tKnikSn94As41nGpEuEO6ssqRzS2RXIuX7wmJda01Jj6veK2S\n",
       "K4MVDx7z0PUepBYRjtLcEMlW8DMq/BNLNfsvr+RZ0ErhM/ZaHjznobUepBDRjtmKK7KFL9HUuBw9\n",
       "9SYWiJnMjHtTTCujTzJ3PThoetXkw66kFGk7bsERmaYmPlJuTRjpKf9NTY5Nw4Pz/ktmptmVlCJt\n",
       "x2k4IoGxBafl10SiN1EDnugdjpfV5krkP6vZJMx/3qZnAAAAAElFTkSuQmCC\n",
       "\" style=\"display:inline;vertical-align:middle;\" /></a></span>"
      ],
      "text/plain": [
       "|- (g(2), ..., g(3)) = (g(2), g(3))"
      ]
     },
     "metadata": {},
     "output_type": "display_data"
    }
   ],
   "source": [
    "# find equivalent explicitly 2-element ExprTuple\n",
    "expr_tuple_with_2_elem_range.range_expansion()"
   ]
  },
  {
   "cell_type": "code",
   "execution_count": 99,
   "metadata": {},
   "outputs": [
    {
     "data": {
      "text/html": [
       "<span style=\"font-size:20px;\"> <a class=\"ProveItLink\" href=\"../__pv_it/demonstrations/94a09b13060b4886df7999a5cdb19f6006e741850/proof.ipynb\" style=\"text-decoration: none\">&nbsp;&#x22A2;&nbsp;&nbsp;</a><a class=\"ProveItLink\" href=\"../__pv_it/demonstrations/f4f7c5e0a03b6a9247b172862202ccc1ef92a1010/expr.ipynb\"><img src=\"data:image/png;base64,iVBORw0KGgoAAAANSUhEUgAAAOEAAAAaBAMAAACzyCaTAAAAMFBMVEX///8AAAAAAAAAAAAAAAAA\n",
       "AAAAAAAAAAAAAAAAAAAAAAAAAAAAAAAAAAAAAAAAAAAv3aB7AAAAD3RSTlMAZkRUmRDNuyLviTJ2\n",
       "3asqG0tJAAAACXBIWXMAAA7EAAAOxAGVKw4bAAADHElEQVRIx6VW3UsUURT/rc7q7MdsQ18QRO0f\n",
       "EORTD0K42aIUKNNLUkRugfQSpU+jVDAPgRGIS2LRk/sQPZjZPvRkH+5DQUGJkEEv5kb09RCrhpuk\n",
       "MZ25M+OO3rvubB6Ye++cOef+7vmcC7h0evyLuzyRwqYk75jKOsvgblRP2+0pgTYaJXoib6Y314hl\n",
       "ommmATx9a+tUQ7UJe17EIB28nrEqIEayYUui21ofJpO7q0M86cy7/CMCiupBxF6RiFGW2bP2+hB+\n",
       "EaMX4UVUNIFIg0jxgJUFFBE5eYHMi7z3g3i95QqNHTkvYjTPyzVSLo42u2Gwtg6PPkCUfCNlgH6E\n",
       "F2nU0Kr36bq6GSLF7FGctliRdP2O3mMjBpc4uWDKyqyYbejZFhKQz+Mn0AVsI/3vwF3ICdmobGPM\n",
       "QCh9KisveG3EOU5OUhFQGS5zMSHW5aADO4FJisGIhoLR/+SxVhkxtITYsqIFhtchtvJy5MX8OsQm\n",
       "FuyQBqony9pCdsQ0nTjK9//kyto4jdhKZGzKcBBvXh6j8TUnd4jO/VuT1BJiH1vVqfhq8+YcyfrK\n",
       "5aTMO4tSGR7kkvU4PYXVoygh3p54EWeG63Yyrbr+r4w46TogUWKxpifNMsq7kZXMDx7EooohIJDC\n",
       "Jfvcef8t4yPPGoxv5LyzCqTfbFhDDFLMjmmoTWMG4tCXJUnQ0zo5xFtkTgJNwyXEv8D+OCLzto2B\n",
       "KkzcJ+ANZgWIlJbyL49XCVFFTdpGbIRs+G38GdzgQ2tsjCN5tZOmTyXEa8xGKrxvVt5kEOWyje+V\n",
       "jDMBvOS+8Ll6lWykY/TaSqweKY7kzW5WSgPJZBvXpopWfFIbF/JMMsn3hz0cZxyo6UIgx5QQXqa6\n",
       "ywSHWFO1jjdnmkVOZ5Y+KFYBWLnFFoxjmiZ/Q2jnOM/oeZ5stpViP4rk3nvtFG0ljlC8XMC0yhyX\n",
       "+L6qZMVKA/a/Q0hhHxw3Avy/I5AQKx2hrEmX2eaMD467vaC4eoVK7ILyucw2OR8c14WC0uoQKtUb\n",
       "nnvOFkh0z5GF53vllPQWqdq7nHtf/X+StGqk/wErp9kRZn7mLQAAAABJRU5ErkJggg==\n",
       "\" style=\"display:inline;vertical-align:middle;\" /></a></span>"
      ],
      "text/plain": [
       "|- (2^{2 + 1}, ..., 2^{3 + 1}) = (8, 16)"
      ]
     },
     "metadata": {},
     "output_type": "display_data"
    }
   ],
   "source": [
    "# find equivalent explicitly 2-element ExprTuple\n",
    "# notice the automatic simplification\n",
    "expr_tuple_with_2_elem_range_exp.range_expansion()"
   ]
  },
  {
   "cell_type": "code",
   "execution_count": 100,
   "metadata": {},
   "outputs": [
    {
     "data": {
      "text/html": [
       "<span style=\"font-size:20px;\"> <a class=\"ProveItLink\" href=\"../__pv_it/demonstrations/62996bd359bbf2990735f8533371df162bc1bb460/proof.ipynb\" style=\"text-decoration: none\">&nbsp;&#x22A2;&nbsp;&nbsp;</a><a class=\"ProveItLink\" href=\"../__pv_it/demonstrations/b77f60504fe18a7172177dad6d57fc67f5f39bd60/expr.ipynb\"><img src=\"data:image/png;base64,iVBORw0KGgoAAAANSUhEUgAAAXAAAAAbBAMAAACXc8khAAAAMFBMVEX///8AAAAAAAAAAAAAAAAA\n",
       "AAAAAAAAAAAAAAAAAAAAAAAAAAAAAAAAAAAAAAAAAAAv3aB7AAAAD3RSTlMAZkRUmRDNuyLviTJ2\n",
       "3asqG0tJAAAACXBIWXMAAA7EAAAOxAGVKw4bAAADl0lEQVRYw7VYT0gUURj/bGd1dN12MTp4kYWO\n",
       "BRlUSHRYCIkiYS4ZheXWWcIOMUQdDIq2k1sQHcLagyfJ2EMXk3APFgQpGykUJQnRfwq1FFFhevPn\n",
       "zc7O+71xFvU7zJv5vd/89nvf+9733iwRsgJRVbhoMdowNSQeHfqjuQ8fyri6Y7KAcGgZ9y4ePMYz\n",
       "T75A6vXDvyQSQLrJuiqklFiT9v/E9nxjDuHIGucsIcfgKzUpp6/DS3XtJ72COJKO2D+QSKmrrOkV\n",
       "JqbQUEI4sl2meh1/uoUo++1mgfoLHqprozRMCEfSnU4oNNfx6Hir9514EuOCRV+46l1HmGIRUJwZ\n",
       "31l23KR67A0hHElf4p1uZJVIxjtJPQRxMJ1RVz19kF2mRUpdkt8NV1Bde1mEOJBWc7zzueY4eLKh\n",
       "Ij1PFTEuWJurHtUG2XVSpNx2M3C6gloO7TWIA2klz8vHZVJ0/b7OZqA2WZHlqxj3m5pk6kf1K7rO\n",
       "aOcZ0K0JnONulmoV1LKNFQCOpBMpp/MGZfkiTPSV3zldUOcRDurr0OBKK19BywTHucA9Sat9XiqP\n",
       "9wPqTwIcSY85YVGvjrZzB0e8S1OruYdwGPNFnogxMwEVsUQt8oCPPtW8VG7T1AxxID1hDvTHFNUb\n",
       "xhx3kCenicceT/b5cWDnBlj+t/zjYWmcNS85YfmWHOojwyAvlUs8e/0d4kD6q5kOb5s5y3KQZ5cM\n",
       "B2VuYN9DXjiIZ8m2RWE3y0ioVCXOpHXW/LZnwtmTanfzSMlw0baXqN/JOXN7uzBir2rrecYyKwJ1\n",
       "vRIqVYkz6YusmfdUc9Y9zquBDBctkfSUaKIT7VZeLvhptbMSKlWJM+kp5r5hGCuoTEhwYGOMmhfy\n",
       "R3A8npZQqUqcSbOIx/5mszeR4xIcqbdls8J8WGcIIeKQSlXiqp0qaxJ31kKfqRNFNPBlf45bqVKs\n",
       "QiJA+htrjmmk+ueCME5iUEyqwmq9sDuBqtKLqZpEIkjaPP+evbPno6+nO4Px6JLT6d7YT++bJoTI\n",
       "1Ih1PAeplhaSCJLea462Y8nfFbeOdiJOM5q9xsxVbd9YVOVTjzAVyiycA0Cd0TAeJF2fwql1QJLN\n",
       "ES00FZxV7oYWXVdayeMuCUwN4alBp8N1RdeVjuHtMCpZ49QVntoiQiNhRUNIf8ZfM7IYFMNT34Gj\n",
       "QWtI0RDSnbRFFvTNuRnSkfwWOQ6/8g9tonTTFjneHvC/ysal/wMH3FqI6Ql85wAAAABJRU5ErkJg\n",
       "gg==\n",
       "\" style=\"display:inline;vertical-align:middle;\" /></a></span>"
      ],
      "text/plain": [
       "|- (e^{2 + j}, e^{3 + j}, ..., e^{4 + j}) = (e^{2 + j}, e^{3 + j}, e^{4 + j})"
      ]
     },
     "metadata": {},
     "output_type": "display_data"
    }
   ],
   "source": [
    "# find equivalent explicitly 2-element ExprTuple\n",
    "# notice the automatic simplification\n",
    "expr_tuple_with_3_elem_range.range_expansion()"
   ]
  },
  {
   "cell_type": "code",
   "execution_count": 101,
   "metadata": {},
   "outputs": [
    {
     "name": "stdout",
     "output_type": "stream",
     "text": [
      "EvaluationError: Evaluation of k - i under assumptions {n in NaturalPos} is not known. The ExprRange e^{i + j}, e^{(i + 1) + j}, ..., e^{k + j} must represent a known, finite number of elements, but all we know is that it represents k - i elements.\n",
      "EvaluationError: Evaluation of k - i under assumptions {n in NaturalPos} is not known\n"
     ]
    }
   ],
   "source": [
    "# When the number of elements represented by the ExprRange is not known,\n",
    "# the range_expansion() method fails with an informative error message\n",
    "try:\n",
    "    expr_tuple_with_unknown_elem_range.range_expansion()\n",
    "    assert False, \"Expecting an EvaluationError; should not get this far!\"\n",
    "except EvaluationError as the_error:\n",
    "    print(\"EvaluationError: {}\".format(the_error))"
   ]
  },
  {
   "cell_type": "code",
   "execution_count": 102,
   "metadata": {},
   "outputs": [
    {
     "data": {
      "text/html": [
       "<span style=\"font-size:20px;\"><a class=\"ProveItLink\" href=\"../__pv_it/demonstrations/51baf27bdf43c0d44f06907ffe8683f00ac9534f0/expr.ipynb\"><img src=\"data:image/png;base64,iVBORw0KGgoAAAANSUhEUgAAAF4AAAAVBAMAAAA9Y0TyAAAAMFBMVEX///8AAAAAAAAAAAAAAAAA\n",
       "AAAAAAAAAAAAAAAAAAAAAAAAAAAAAAAAAAAAAAAAAAAv3aB7AAAAD3RSTlMAELvv3c2ZVESJq2Yi\n",
       "MnY6gD36AAAACXBIWXMAAA7EAAAOxAGVKw4bAAABU0lEQVQoz2NgwAoOYBXlYcAB+AqwCnM8YGBg\n",
       "VHbAlKgE4mfogtcYGF4DKdYEDOWMAUDCE13UC6hWgIGBH9Nutg1IboCx+YDquYFm9wtgqGdGYrM/\n",
       "gDJuRwEJQwaGyZjOL8WmfgJIfTQDQxRDZSKa+kygF55tQFXPdwCkfhYD42/2GmuQm13AYAEDxBRO\n",
       "DgNU9acZQOq3MrD/aeeNQTPfnYHhOlsAqvoJYPXFDGzWFzDcb8HAIMD8AGKpswnYUu4DYPX3GVjC\n",
       "crGpZ6gXQDH/HANYfTODfEE/2AJk9wPdwxDFiKK+a9WqzysZGEoY9gvIFzxAM18PGD4/ONHCk8EK\n",
       "iDcxLGWQvzABTf0sBgbeD6fR1X8Ch7Q6A18eegxfAeLVaOHPkPR/HQODB9Z0y3IBS/yCM4ADVvXc\n",
       "CVjSG3pCRAY6OPLRIRziQgykmcPzAHs2PcAAAI40T+RkFl+kAAAAAElFTkSuQmCC\n",
       "\" style=\"display:inline;vertical-align:middle;\" /></a> <a class=\"ProveItLink\" href=\"../__pv_it/demonstrations/db881e9a2b4a9942e55523c69500de18054632450/proof.ipynb\" style=\"text-decoration: none\">&nbsp;&#x22A2;&nbsp;&nbsp;</a><a class=\"ProveItLink\" href=\"../__pv_it/demonstrations/221e3f5e5337372818a52507d24d72c425c07da30/expr.ipynb\"><img src=\"data:image/png;base64,iVBORw0KGgoAAAANSUhEUgAAAnUAAAAmBAMAAABQXHAXAAAAMFBMVEX///8AAAAAAAAAAAAAAAAA\n",
       "AAAAAAAAAAAAAAAAAAAAAAAAAAAAAAAAAAAAAAAAAAAv3aB7AAAAD3RSTlMAmVSrZs0y7xCJ3bsi\n",
       "RHYwvcNTAAAACXBIWXMAAA7EAAAOxAGVKw4bAAAGKElEQVRo3tWaXWgcVRTHz2w2k9nd2Q8rUqlV\n",
       "K1oIpZA8KIpCDYpUkOA+9KEi1vXFIAUTrUioioNVq61m10pB+1C2ffCjSF0x4MMW2QerlQY3T0Ip\n",
       "1K15EEppS0hlA/nw3jtzZ++de2Z2uokDcyEwc+9v7jn/c7/OzAYAQNsCUZQPLJ+GDRC74mq5PRp7\n",
       "+jd4vTYcv9hxLcliRAafxKufghgWR8uYFZG9DLo36JNxjJ2j5bmo7BlolPorcYydrSXR5rcNt6Uk\n",
       "YtsBPhFuc8J1Kbyxkt/GOsSnfceILrYnGqJnAC1YM+cnRw8pW+da0nzcUx1rXwlgchbgOL95n+yN\n",
       "BUA5tSRPg4w2Gwj1Lb9wjUBaHJNRwTOD7I0adOc+/vyRII5bMp+YK4lyRE6SDf3g5ZiWcWm7Kyja\n",
       "DvDjkAb8WhXgAs4h5R1Plxlkeept6cxVF8ew4NmrVwCyle5cATZ142hLXyU3YcvRAmUDXAcvx7Q8\n",
       "Jj1SUzq5m8NswpPY9VsopxbzhqfL5IQK9Uk9ZdQMZlb0bBv5292dW4ZmqQtHW/RSqmrLyQTLzg6B\n",
       "l2NaFpyb7By3bFwWD0QSrUvDYuxSW1AOWbO1PyoSas6rUH7EuegYmRKT5bToGYvdke7c0zR2vlzH\n",
       "EqRHbDkqJ8meKoOXo1r0JQeeyvP5pCWEjM8sgtFqi7FLFDAOKX1XB9+W0RMqNO7sgYKRwlah/azo\n",
       "GYvdfSE4OObPCZZyexw5CifLbpVVjmhJ3nDoc9v4qH2UEnazbA3M96pi7LI1jEPKwN/sdBXQO1To\n",
       "We6sa8SwPhPaL4qesdhdDMHRvN+PE+TA4ZYtR+Ek2YlGGRSOaOlz587PoNXrb9WnydIeEY50MnEz\n",
       "Lbir/lO9PsJip9cwDinN20qeLq+r0EPuVucagV1C+/2SZzQ6e0Nw560ATrCk/0vkYJwk+xcog8IR\n",
       "LQP8fDLafJJAXsglyCNQ/hBdsxKHlGey1YaMDqkJ4T5+0TECS0L7Xskzac36c2bBbPhzrqWDJXNB\n",
       "WIsiJ8l+5ct7jygc0ZKn27nx8AlIFN2YjPFwkmq6aW7VxNjlWl4OKQf2F2CHXq3I6Lh6uCxyumNE\n",
       "nxA6IXu74BmN3bXu3PmXX7L8OddS2kpO2nIkTpUNTUvhiBZ2zh08uXPY2OFOkjnHFq2GM8TmVecx\n",
       "8+hiCzIKh7yy7H9gH3nywZKMltVFvsBp1wjkhoVOiLWOZ7+/SNLVM925d1dXAzjXkn58rmHLkThF\n",
       "NiQf36BwREuTToVHwWwLWRRf96z6gjf1OqxwyBFbpUOldJlnib92ihXmAUtbOjQzwrdRVp2teDJP\n",
       "o7YunCxH4gJkCxzRwpYRGfxpNyvv/3OiMyemQWt4Uv7NCodmbZkRULrMKy8W+rxEUyMvjEmdbPa8\n",
       "8TB/1s7JciQuQLbAES1/kTxbX11dXexk3pedGeNUf+HJeGe9HFLGyaNCnDiaV5Ka7LJC33On1EnK\n",
       "Y2V0fTlXjst1kc05ooXOO31+ZuYc8qppVxuerSzMm+z49pkZJLJq7Ni886Gdak+Ltb6c0atsJ3aw\n",
       "gkdgpefPW/lWQLW439lrtnUrnfzv3ErY3pp0o9logQnqsCHVSlGHl46QNgnQCHh57bz7LOB0QCc9\n",
       "cdYtcGFkMy1lOhiH3rh02uPTTbRa9Z1y5aJwYd99PXoFGeWmkt8ZdJAROqCTXjjmXVguhGxbywDb\n",
       "gjbd9HZ6ykKrlUK5dMF5z2cXafobkvb9HmwbnFWqXgOUDuikJ47JCcuFkM209Pt8iUuE/AUI4QZ9\n",
       "4SEVft4HHQy5sw727OaaOKZF80nSUiG7QDj/H2+OqVUbfdCwvwBVenZzTRzTkmzjTVMhu1A5w3/C\n",
       "/4h8g8IH2gh5JoblepcToMWYx5tC+oRwOX94Adns8W/PuZDmcz27uTbO1vIDRFayS2pdpgCxLEzL\n",
       "zujspZBv9MmJeMaOaSnPRmZvAFmfxnI8Y8e0pIqR2fsHqzwaz9jZWt6MzN7r6ACWYhk7W0tk/8OV\n",
       "Q2d4shjH0DlauvzatX7lN/xFfFccY+doMb6LxpxxEq8/1Ihf6FwtZ61I7GV85re5O36xc7WY0ezW\n",
       "n/o1/Bq/2DEt/wF4x1m+YS4BHwAAAABJRU5ErkJggg==\n",
       "\" style=\"display:inline;vertical-align:middle;\" /></a></span>"
      ],
      "text/plain": [
       "{k = (i + 4)} |- (e^{i + j}, e^{(i + 1) + j}, ..., e^{k + j}) = (e^{i + j}, e^{(i + 1) + j}, e^{(i + 2) + j}, e^{(i + 3) + j}, e^{(i + 4) + j})"
      ]
     },
     "metadata": {},
     "output_type": "display_data"
    }
   ],
   "source": [
    "# but if we give the method enough information about the indexing\n",
    "# we can generate the equivalent explicit ExprTuple\n",
    "expr_tuple_with_unknown_elem_range.range_expansion(\n",
    "        assumptions=[Equals(k, Add(i, four)), Equals(subtract(k, i), four)])"
   ]
  },
  {
   "cell_type": "code",
   "execution_count": 103,
   "metadata": {},
   "outputs": [
    {
     "name": "stdout",
     "output_type": "stream",
     "text": [
      "ValueError: ExprTuple.range_expansion() implemented only for ExprTuples with a single entry, with the single entry being an ExprRange representing a finite number of elements n with 1 <= n <= 9. Instead, the ExprTuple is g(2), g(3), ..., g(20) with number of elements equal to 19.\n"
     ]
    }
   ],
   "source": [
    "# When the number of elements represented by the ExprRange is > 10,\n",
    "# the range_expansion() method fails with an informative error message\n",
    "try:\n",
    "    expr_tuple_too_big.range_expansion(assumptions=[Equals(subtract(num(20), two), num(18))])\n",
    "    assert False, \"Expecting an EvaluationError; should not get this far!\"\n",
    "except ValueError as the_error:\n",
    "    print(\"ValueError: {}\".format(the_error))"
   ]
  },
  {
   "cell_type": "code",
   "execution_count": 104,
   "metadata": {},
   "outputs": [
    {
     "name": "stdout",
     "output_type": "stream",
     "text": [
      "ProofFailure: Unable to prove (20 - 2) = 18 assuming {n in NaturalPos}:\n",
      "'conclude' method not implemented for proof automation\n"
     ]
    }
   ],
   "source": [
    "# a related issue to ask about\n",
    "try:\n",
    "    Equals(subtract(num(20), two), num(18)).prove()\n",
    "except ProofFailure as the_error:\n",
    "    print(\"ProofFailure: {}\".format(the_error))"
   ]
  },
  {
   "cell_type": "markdown",
   "metadata": {},
   "source": [
    "A related example where the ExprRange and ExprTuple are being used as an argument for a TensorProd operator."
   ]
  },
  {
   "cell_type": "code",
   "execution_count": 105,
   "metadata": {},
   "outputs": [
    {
     "data": {
      "text/html": [
       "<strong id=\"example_expr_range\">example_expr_range:</strong> <a class=\"ProveItLink\" href=\"../__pv_it/demonstrations/ad1dce88f3ced7aec43ba4e07c7c41b8438d45690/expr.ipynb\"><img src=\"data:image/png;base64,iVBORw0KGgoAAAANSUhEUgAAAHYAAAANBAMAAACObIcgAAAAMFBMVEX///8AAAAAAAAAAAAAAAAA\n",
       "AAAAAAAAAAAAAAAAAAAAAAAAAAAAAAAAAAAAAAAAAAAv3aB7AAAAD3RSTlMAEHarMolUmd1mIs3v\n",
       "RLtmgJDEAAAACXBIWXMAAA7EAAAOxAGVKw4bAAABRElEQVQoz2NgEFIWCU1ggANGJUPXMAZ8AElD\n",
       "AZMRewNChp1BWaECr16EBs4FnB+ZJzBIboDKzGKYL2DJIBpsiEsrRAPXNGUHBhYGdqA2FiWY1Q4M\n",
       "1SCzGXDaDdHAHMB0AMjhUQASbAhnHwLivwzrHXA6GqSBxYEVpOP+AkYBJL28vxgEGSbi0wvWwMAx\n",
       "gUHugg0DK8ReRlAwv2U+wBAAZEQwMAhg6AKpgGpg2sTAkO9Yw3ANolce6A+2L+IHeIExwNLIwPib\n",
       "ASIGZsB5UA0McgoM4kpslQkQvRyNQCVFCunTgDLrgJZ2gFxWAOS0M0AJkAqoBgaWLzDXgP2bCHcc\n",
       "VwHXAgY2TEfDVcg4cP1E0RsAV7POxV0A5Ct0AFfBIcB5EGZP9FcFBkYFuJrz//8DEx9mWMFVsAQp\n",
       "L0CWYUJTqYChF1UFANlfR4DU8mKpAAAAAElFTkSuQmCC\n",
       "\" style=\"display:inline;vertical-align:middle;\" /></a><br>"
      ],
      "text/plain": [
       "<IPython.core.display.HTML object>"
      ]
     },
     "metadata": {},
     "output_type": "display_data"
    }
   ],
   "source": [
    "# create an example ExprRange\n",
    "example_expr_range = ExprRange(i, IndexedVar(x, i), one, three)"
   ]
  },
  {
   "cell_type": "code",
   "execution_count": 106,
   "metadata": {},
   "outputs": [
    {
     "data": {
      "text/html": [
       "<strong id=\"example_tensor_prod_over_range\">example_tensor_prod_over_range:</strong> <a class=\"ProveItLink\" href=\"../__pv_it/demonstrations/509b33b7abe24b60e66911dbc37748246ece9d0b0/expr.ipynb\"><img src=\"data:image/png;base64,iVBORw0KGgoAAAANSUhEUgAAAI4AAAAPBAMAAADAP+pGAAAAMFBMVEX///8AAAAAAAAAAAAAAAAA\n",
       "AAAAAAAAAAAAAAAAAAAAAAAAAAAAAAAAAAAAAAAAAAAv3aB7AAAAD3RSTlMAEHarMolUmd1mIs3v\n",
       "RLtmgJDEAAAACXBIWXMAAA7EAAAOxAGVKw4bAAAB2klEQVQ4y42TsU/bQBjF39nnOLFIdaWkEVIF\n",
       "btIigRSJdEPq4KJSpA7IBFxVsIRKVcdaZQHBQKeuaQcGFrxE3SjqX5DyD5ClWdmRMiDRoSAUvrNj\n",
       "Yxuh8KT79Ol3957v7DMQ13OnJoBBSEpxnKe4S7MCrDIQSXEKGW7fEcNPqYy1ByBfCx7Augk0XB5x\n",
       "6n6nax6YuwhWqs69QwKl5a4ARU3EzHCVF/qO301hBUUUoKNsbiCB0m/H0zzmMjtmznm5M7WB0UNg\n",
       "GtpbFyr2sC9mUFiq3qCUCCz/pNnAbOyWLXDoFMFLlGoD64AGC1tyn9i4QSkR0KdpNjCrttIiOGRS\n",
       "yexIp+FYdCrgiMYVflkxlBCB5rI0+GZuafJsJx4T/ZwmKnJN/gIP8T3I6aN0jmErbZnjm5Ft0Ed9\n",
       "Kbcpc95wG0q7w7pqSx4I7yN064bU54BKvt43K7+Bz6+20QlylL+0ZMLOnBdbefqY/GuE6LJcUjN+\n",
       "GJYKIeVjaMaYiWIps1kPciAv3SPBvpifdqk7EBGi8o1G1g3LA3kPq6EZ/DzcqZ+Te4bZRkgM1/BS\n",
       "KKYfFp8M+yeW8T+Rg8eltWjlwet5kUIxsQ8T0e+bFbk/4cNX/5mplce9Hu4nXit718D8cFocHlbW\n",
       "AAAAAElFTkSuQmCC\n",
       "\" style=\"display:inline;vertical-align:middle;\" /></a><br>"
      ],
      "text/plain": [
       "<IPython.core.display.HTML object>"
      ]
     },
     "metadata": {},
     "output_type": "display_data"
    }
   ],
   "source": [
    "# use the example ExprRange as the arg(s) for a TensorProd:\n",
    "example_tensor_prod_over_range = TensorProd(example_expr_range)"
   ]
  },
  {
   "cell_type": "code",
   "execution_count": 107,
   "metadata": {},
   "outputs": [
    {
     "data": {
      "text/html": [
       "<strong id=\"expr_range_eq_expr_tuple\">expr_range_eq_expr_tuple:</strong> <span style=\"font-size:20px;\"> <a class=\"ProveItLink\" href=\"../__pv_it/demonstrations/831f8572a65cc1920e46354cb53ed90a1181bfb90/proof.ipynb\" style=\"text-decoration: none\">&nbsp;&#x22A2;&nbsp;&nbsp;</a><a class=\"ProveItLink\" href=\"../__pv_it/demonstrations/1352e5514a2ea82c95cbb9fcf1a4b3c09671a0bc0/expr.ipynb\"><img src=\"data:image/png;base64,iVBORw0KGgoAAAANSUhEUgAAAQEAAAAVBAMAAAC08kb3AAAAMFBMVEX///8AAAAAAAAAAAAAAAAA\n",
       "AAAAAAAAAAAAAAAAAAAAAAAAAAAAAAAAAAAAAAAAAAAv3aB7AAAAD3RSTlMAInZUiRDNmWbv3US7\n",
       "qzJazP2FAAAACXBIWXMAAA7EAAAOxAGVKw4bAAACYklEQVRIx6WWzWvUQBjGn2Q37jbbDaH0VArG\n",
       "9SYs7MEPyMWllh4KhVDUKiy6CII3FxGpPa2UtkeXgqceWiilUKgs+ge4evUiQkFvQRTBgyioCELr\n",
       "JNmZncxMAiEDm8n7Jr9nnrwzswkAGzmaCtYy4nojj4MXitzZjPj5PAagd6VUoZkNN9q5HOCulLme\n",
       "ES918znYkDLLGfGxfAYw5omZXkb8Yk4Hp8QaFtoZ8YekW6zfmuV2hFE7+nwlleOA4jvhWqkpKYiC\n",
       "cfwe6Tr6+9IOp4G6s5LqgAPK4SOvHATtkBZFUBAF4/guOdrl39UubtDyPcFT7wOuLhwlGYgAbbXu\n",
       "k6KL0242qIKxrhYU8C3AQokMbtVoGXw8CowisQ4RUG3qZHTrh7i2+lTh0zm1oIBvhZQTLKHRRGyS\n",
       "3z+c9pOXMAEsv0iISk/hIFKAmyQYw3eDzCvb8DgHlZ+4hrU0ByEAs0t9c+sgmIVIYeRAFIzhb4BW\n",
       "/yOKQy1ywXhb7SH4Z50PQ6EZYIB+J5jUgXDDuMMUXFlQgS8Al788xsvIgfGH9MdLvQp5EGsvDHG7\n",
       "HeVH0RBAy4k2X6yR/UUVXElQhX8DlmqF5cawBgcejAfOpVVyOu2FIcwOCfYxPJh7DIB1TOK+uEx3\n",
       "mIIrCypwk0126KDA6q51NJsLWbtAT2762l9gSrrhOTtzZUEFXu7EHBQZPv39q8eFrLGqm175meo9\n",
       "tBFzIAiq8NfU4twvMi+LDNg+OeFDthIdVu6Zug1tIN0xTr+bJu/PSIIqvBXDHaSFwTdFwnCcx0GK\n",
       "ggrXnDyvxjOK3EQm/D//78dVo+iRvAAAAABJRU5ErkJggg==\n",
       "\" style=\"display:inline;vertical-align:middle;\" /></a></span><br>"
      ],
      "text/plain": [
       "<IPython.core.display.HTML object>"
      ]
     },
     "metadata": {},
     "output_type": "display_data"
    }
   ],
   "source": [
    "# find the ExprTuple equivalent to the (ExprTuple-wrapped) ExprRange:\n",
    "expr_range_eq_expr_tuple = ExprTuple(example_expr_range).range_expansion()"
   ]
  },
  {
   "cell_type": "code",
   "execution_count": 108,
   "metadata": {},
   "outputs": [
    {
     "data": {
      "text/html": [
       "<span style=\"font-size:20px;\"> <a class=\"ProveItLink\" href=\"../__pv_it/demonstrations/0486e1cd9f9f2350d1c69c659f74613854f6931d0/proof.ipynb\" style=\"text-decoration: none\">&nbsp;&#x22A2;&nbsp;&nbsp;</a><a class=\"ProveItLink\" href=\"../__pv_it/demonstrations/672f0ce529b58b5486f0d1be64bc7b11ddca54980/expr.ipynb\"><img src=\"data:image/png;base64,iVBORw0KGgoAAAANSUhEUgAAALIAAAAuBAMAAAB+AF5jAAAAMFBMVEX///8AAAAAAAAAAAAAAAAA\n",
       "AAAAAAAAAAAAAAAAAAAAAAAAAAAAAAAAAAAAAAAAAAAv3aB7AAAAD3RSTlMAInZUiRDNmWbv3US7\n",
       "qzJazP2FAAAACXBIWXMAAA7EAAAOxAGVKw4bAAADKUlEQVRYw+1WTWgTQRh9u8l006RZVyhURDBN\n",
       "VSohEkpV9OK2Rg+CZalKFeoPgtBjEJVaEKIFRRAsQk+CFIooihCsF0+2BU8FqWJBD0qs7aVIW0HF\n",
       "U+s3m91kZ61mEgJe/GCHnTdv3s7MfjPzABioUfiF1FStlJ/66u21EoaaFarsTM2UcU6oaeKHsCXd\n",
       "aaEsZA8xnd4qIjeEWr3YOGuBJcpCPHSS7c6JWsIAdon0CSp6c2UgO75QKrApAaoT5n+Bnu7kqXQh\n",
       "Q7SgAZY5sCbki0wH0BO0PEwEp72EPk5S32gjdq0ZHejB0TUh3yobQYNlmOlhImRnw8AjHk8wSoAR\n",
       "+h7N4jjh0wh+yiDqQCz9wSpCviCgq4k6FJjKYDIPBIa8jLu0ktBIVI/Tl03gCs3KgTTQaFzIFwRo\n",
       "NHmzwIyaKqnqyz5l+qkxKgKknIGSzpNiAVqXU1Y8kJitQGMX72Az9XyQekeEMY/y4oXBLEe5EQlb\n",
       "hkMhy1Z2IZ+yYqo5rmx3RjhbGFtpnSd5Sr3nk+P4Z92EmhtzIdBIXMifzqk5IBFJOUz1LP+D417G\n",
       "YWDf/GWMFZTVZwS1mC6EBasIgf2AU5zmOZAgSG0vMntpTTTTq7xAWRkP9KecufBtcdJyIeVlCQIe\n",
       "wCnCtAZo4DtlxmVCXyFc2E/hvPtmK4d2YLa0k5qw3g+V4lpeb3XfT+SVn8BGoT2UEZRxJL6z2Ka8\n",
       "Wrzog7ynZFtL8ZwIW6FhoF8kTLgyB7/FfH3rV1eX5c5PvTNpQBkXwd6aHc8NvutKidVKuRn/459E\n",
       "xU5GkXUJFTuZiGQ2VeFkWqVY1TiZOkuGVY2TKZ01f4uqnMywjHJVTqZPRlnaybD4zNz+0kVUPqSd\n",
       "jIZkbMDpdF1GWdrJXMVt6x02tH2kTntklKWdTB6XiP4W26lcklSWdTJ36FnEISqfS66GpJOJfMUx\n",
       "anhIz14ZZVknw6aiQ3xltvHp3ZJRlnUygZWeoQjlIZt0UrVsyDoZdj62e5B3WCKD8lhGuTInw+5h\n",
       "cxbKiIxyhU7mPm5av51if4jKnMxc/DWwSe6wrcLJTEjeahU7GVXq5vwFTbYW7LXhcS4AAAAASUVO\n",
       "RK5CYII=\n",
       "\" style=\"display:inline;vertical-align:middle;\" /></a></span>"
      ],
      "text/plain": [
       "|- (x_{1} otimes  x_{2} otimes  ... otimes  x_{3}) =  \\\\ (x_{1} otimes x_{2} otimes x_{3})"
      ]
     },
     "metadata": {},
     "output_type": "display_data"
    }
   ],
   "source": [
    "# find the equivalent explicit tensor prod\n",
    "example_tensor_prod_over_range.inner_expr().operands.substitution(\n",
    "         expr_range_eq_expr_tuple)"
   ]
  },
  {
   "cell_type": "code",
   "execution_count": 109,
   "metadata": {},
   "outputs": [],
   "source": [
    "%end demonstrations"
   ]
  },
  {
   "cell_type": "code",
   "execution_count": null,
   "metadata": {},
   "outputs": [],
   "source": []
  }
 ],
 "metadata": {
  "kernelspec": {
   "display_name": "Python 3",
   "language": "python",
   "name": "python3"
  }
 },
 "nbformat": 4,
 "nbformat_minor": 0
}