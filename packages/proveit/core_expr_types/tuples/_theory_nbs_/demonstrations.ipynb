{
 "cells": [
  {
   "cell_type": "markdown",
   "metadata": {},
   "source": [
    "Demonstrations for the theory of <a class=\"ProveItLink\" href=\"theory.ipynb\">proveit.core_expr_types.tuples</a>\n",
    "========"
   ]
  },
  {
   "cell_type": "code",
   "execution_count": null,
   "metadata": {},
   "outputs": [],
   "source": [
    "import proveit\n",
    "from proveit import (Lambda, ExprTuple, ExprRange, IndexedVar, safe_dummy_var,\n",
    "                     defaults, Function, ProofFailure)\n",
    "from proveit import A, a, b, f, g, i, j, k, l, m, n, x, y\n",
    "from proveit.logic import Equals, NotEquals, EvaluationError, InSet\n",
    "from proveit.linear_algebra import TensorProd\n",
    "from proveit.numbers import (zero, one, two, three, four, e as e_nat, Add, Exp,\n",
    "                             Integer, Mult, Natural, NaturalPos, Neg, num, subtract)\n",
    "from proveit.core_expr_types import Len\n",
    "from proveit.core_expr_types import (\n",
    "        a_i_to_j, x_1_to_n, y_1_to_n, f_i_to_j, f_i_to_jp1)\n",
    "from proveit.core_expr_types.tuples import (\n",
    "        len_of_ranges_with_repeated_indices_from_1, range_from1_len,\n",
    "        len_of_ranges_with_repeated_indices_from_1, len_of_ranges_with_repeated_indices,\n",
    "        len_of_empty_range_of_ranges)\n",
    "from proveit.core_expr_types.tuples import general_range_of_ranges\n",
    "%begin demonstrations"
   ]
  },
  {
   "cell_type": "markdown",
   "metadata": {},
   "source": [
    "### Proving the equality of ExprTuples"
   ]
  },
  {
   "cell_type": "code",
   "execution_count": null,
   "metadata": {},
   "outputs": [],
   "source": [
    "Equals(ExprTuple(a, b, x, y), ExprTuple(a, b, x, y)).prove()"
   ]
  },
  {
   "cell_type": "code",
   "execution_count": null,
   "metadata": {},
   "outputs": [],
   "source": [
    "NotEquals(ExprTuple(a, b, x, y), ExprTuple(x, y)).prove()"
   ]
  },
  {
   "cell_type": "code",
   "execution_count": null,
   "metadata": {},
   "outputs": [],
   "source": [
    "NotEquals(ExprTuple(a, b, x, y), ExprTuple(x, b, x, y)).prove(assumptions=[NotEquals(a, x)])"
   ]
  },
  {
   "cell_type": "code",
   "execution_count": null,
   "metadata": {},
   "outputs": [],
   "source": [
    "partitioned = x_1_to_n.partition(one, assumptions=[InSet(n, NaturalPos)])"
   ]
  },
  {
   "cell_type": "code",
   "execution_count": null,
   "metadata": {},
   "outputs": [],
   "source": [
    "eq = Equals(ExprTuple(*partitioned.lhs.entries, y), \n",
    "            ExprTuple(*partitioned.rhs.entries, y))"
   ]
  },
  {
   "cell_type": "code",
   "execution_count": null,
   "metadata": {},
   "outputs": [],
   "source": [
    "eq.lhs.inner_expr(assumptions=[InSet(n, NaturalPos)])[0].partition(one, assumptions=[InSet(n, NaturalPos)])"
   ]
  },
  {
   "cell_type": "code",
   "execution_count": null,
   "metadata": {},
   "outputs": [],
   "source": [
    "eq.lhs.deduce_equality(eq, assumptions=[InSet(n, NaturalPos)])"
   ]
  },
  {
   "cell_type": "code",
   "execution_count": null,
   "metadata": {},
   "outputs": [],
   "source": [
    "Equals(ExprTuple(*partitioned.lhs.entries, y), \n",
    "       ExprTuple(*partitioned.rhs.entries, y)).prove(\n",
    "    assumptions=[InSet(n, NaturalPos)])"
   ]
  },
  {
   "cell_type": "markdown",
   "metadata": {},
   "source": [
    "### Testing the `ExprRange(order='decreasing')` flag\n",
    "\n",
    "An ExprRange with the `order='decreasing'` flag produces an ExprRange of the form f(i),...,f(j), where 0 <= (i-j) and j < i (i.e. the ExprRange represents 0 or more elements and is in decreasing order)\n",
    "\n",
    "For example, if\n",
    "\n",
    "self = $f(3),...,f(6)$,\n",
    "\n",
    "then `order='decreasing'` would return:\n",
    "\n",
    "$|- f(6),...,f(3)$"
   ]
  },
  {
   "cell_type": "code",
   "execution_count": null,
   "metadata": {},
   "outputs": [],
   "source": [
    "test = ExprRange(i, IndexedVar(a, i), j, zero, order='decreasing')"
   ]
  },
  {
   "cell_type": "code",
   "execution_count": null,
   "metadata": {},
   "outputs": [],
   "source": [
    "inc_test = ExprRange(i, IndexedVar(a, i), j, zero)"
   ]
  },
  {
   "cell_type": "code",
   "execution_count": null,
   "metadata": {},
   "outputs": [],
   "source": [
    "try:\n",
    "    ExprRange(i, IndexedVar(a, i), two, zero, order='increasing')\n",
    "    assert False, \"Expecting a ValueError; should not get this far!\"\n",
    "except ValueError as _e:\n",
    "    print(\"Expected exception: \", _e)"
   ]
  },
  {
   "cell_type": "code",
   "execution_count": null,
   "metadata": {},
   "outputs": [],
   "source": [
    "ExprRange(i, IndexedVar(a, i), two, zero, order='decreasing')"
   ]
  },
  {
   "cell_type": "code",
   "execution_count": null,
   "metadata": {},
   "outputs": [],
   "source": [
    "test.lambda_map"
   ]
  },
  {
   "cell_type": "code",
   "execution_count": null,
   "metadata": {},
   "outputs": [],
   "source": [
    "(test.start_index, test.end_index, test.true_start_index, test.true_end_index)"
   ]
  },
  {
   "cell_type": "code",
   "execution_count": null,
   "metadata": {},
   "outputs": [],
   "source": [
    "(inc_test.start_index, inc_test.end_index, \n",
    " inc_test.true_start_index, inc_test.true_end_index)"
   ]
  },
  {
   "cell_type": "code",
   "execution_count": null,
   "metadata": {},
   "outputs": [],
   "source": [
    "test.body"
   ]
  },
  {
   "cell_type": "code",
   "execution_count": null,
   "metadata": {},
   "outputs": [],
   "source": [
    "inc_test.body"
   ]
  },
  {
   "cell_type": "code",
   "execution_count": null,
   "metadata": {},
   "outputs": [],
   "source": [
    "test.first()"
   ]
  },
  {
   "cell_type": "code",
   "execution_count": null,
   "metadata": {},
   "outputs": [],
   "source": [
    "inc_test.first()"
   ]
  },
  {
   "cell_type": "code",
   "execution_count": null,
   "metadata": {},
   "outputs": [],
   "source": [
    "test.last()"
   ]
  },
  {
   "cell_type": "code",
   "execution_count": null,
   "metadata": {},
   "outputs": [],
   "source": [
    "inc_test.last()"
   ]
  },
  {
   "cell_type": "code",
   "execution_count": null,
   "metadata": {},
   "outputs": [],
   "source": [
    "empty_test_inc = ExprRange(i, IndexedVar(a, i), one, zero, order='increasing')"
   ]
  },
  {
   "cell_type": "code",
   "execution_count": null,
   "metadata": {},
   "outputs": [],
   "source": []
  },
  {
   "cell_type": "code",
   "execution_count": null,
   "metadata": {},
   "outputs": [],
   "source": [
    "empty_test_inc.reduction()"
   ]
  },
  {
   "cell_type": "code",
   "execution_count": null,
   "metadata": {},
   "outputs": [],
   "source": [
    "empty_test_dec = ExprRange(i, IndexedVar(a, i), zero, one, order='decreasing')"
   ]
  },
  {
   "cell_type": "code",
   "execution_count": null,
   "metadata": {},
   "outputs": [],
   "source": [
    "empty_test_dec.reduction()"
   ]
  },
  {
   "cell_type": "code",
   "execution_count": null,
   "metadata": {},
   "outputs": [],
   "source": []
  },
  {
   "cell_type": "code",
   "execution_count": null,
   "metadata": {},
   "outputs": [],
   "source": [
    "empty_test_dec.lambda_map"
   ]
  },
  {
   "cell_type": "code",
   "execution_count": null,
   "metadata": {},
   "outputs": [],
   "source": [
    "partition_test_inc = ExprRange(i, IndexedVar(a, i), zero, four, order='increasing')"
   ]
  },
  {
   "cell_type": "code",
   "execution_count": null,
   "metadata": {},
   "outputs": [],
   "source": [
    "partition_test_inc.partition(two)"
   ]
  },
  {
   "cell_type": "code",
   "execution_count": null,
   "metadata": {},
   "outputs": [],
   "source": [
    "partition_test_dec = ExprRange(i, IndexedVar(a, i), four, zero, order='decreasing')"
   ]
  },
  {
   "cell_type": "code",
   "execution_count": null,
   "metadata": {},
   "outputs": [],
   "source": [
    "partition_test_dec.start_index, partition_test_dec.true_start_index"
   ]
  },
  {
   "cell_type": "code",
   "execution_count": null,
   "metadata": {},
   "outputs": [],
   "source": [
    "partition_test_dec.partition(two)"
   ]
  },
  {
   "cell_type": "code",
   "execution_count": null,
   "metadata": {},
   "outputs": [],
   "source": []
  },
  {
   "cell_type": "code",
   "execution_count": null,
   "metadata": {},
   "outputs": [],
   "source": [
    "from proveit import fa\n",
    "from proveit.numbers import Complex"
   ]
  },
  {
   "cell_type": "code",
   "execution_count": null,
   "metadata": {},
   "outputs": [],
   "source": [
    "assumptions = [InSet(Add(j, Neg(i), one), Natural), \n",
    "               InSet(i, Natural), InSet(j, Natural)]"
   ]
  },
  {
   "cell_type": "code",
   "execution_count": null,
   "metadata": {},
   "outputs": [],
   "source": [
    "f_i_to_j_dec = ExprRange(a, fa, i, j, order='decreasing')"
   ]
  },
  {
   "cell_type": "code",
   "execution_count": null,
   "metadata": {},
   "outputs": [],
   "source": []
  },
  {
   "cell_type": "code",
   "execution_count": null,
   "metadata": {},
   "outputs": [],
   "source": [
    "from proveit.core_expr_types.tuples import negated_shift_equivalence"
   ]
  },
  {
   "cell_type": "code",
   "execution_count": null,
   "metadata": {},
   "outputs": [],
   "source": [
    "negated_shift_equivalence"
   ]
  },
  {
   "cell_type": "code",
   "execution_count": null,
   "metadata": {},
   "outputs": [],
   "source": [
    "# negated_shift_equivalence.instantiate({i:Neg(i), j:Neg(j), k:subtract(i, one), a:Neg(one), l:subtract(j, one)}, assumptions=[InSet(subtract(subtract(Neg(j), one), Neg(i)),\n",
    "# #                                                                  Natural), InSet(subtract(subtract(j, one), i),\n",
    "#                                                                  Natural)])"
   ]
  },
  {
   "cell_type": "code",
   "execution_count": null,
   "metadata": {},
   "outputs": [],
   "source": [
    "# f_i_to_j_dec.shift_equivalence(new_shift=one, assumptions=[InSet(subtract(subtract(Neg(j), one), Neg(i)),\n",
    "#                                                                  Natural)])"
   ]
  },
  {
   "cell_type": "code",
   "execution_count": null,
   "metadata": {},
   "outputs": [],
   "source": [
    "# f_i_to_j__shift__eq_dec = \\\n",
    "#     f_i_to_j_dec.shift_equivalence(new_shift=one, assumptions=[InSet(subtract(subtract(Neg(j), one), Neg(i)),\n",
    "#                                                                  Natural)]).lhs.entries[0]"
   ]
  },
  {
   "cell_type": "code",
   "execution_count": null,
   "metadata": {},
   "outputs": [],
   "source": [
    "# assert False"
   ]
  },
  {
   "cell_type": "code",
   "execution_count": null,
   "metadata": {},
   "outputs": [],
   "source": [
    "Len(ExprRange(i, ExprRange(j, IndexedVar(a, [i, j]), one, zero), one, n)).computation(assumptions=[InSet(n, NaturalPos)])"
   ]
  },
  {
   "cell_type": "code",
   "execution_count": null,
   "metadata": {},
   "outputs": [],
   "source": [
    "Len(ExprRange(i, ExprRange(j, IndexedVar(a, [i, j]), two, n), one, zero)).computation(assumptions=[InSet(n, Natural)])"
   ]
  },
  {
   "cell_type": "code",
   "execution_count": null,
   "metadata": {},
   "outputs": [],
   "source": [
    "Len(ExprRange(i, ExprRange(j, IndexedVar(a, [i, j]), one, n), one, n)).computation(assumptions=[InSet(n, Natural), InSet(n, NaturalPos)])"
   ]
  },
  {
   "cell_type": "code",
   "execution_count": null,
   "metadata": {},
   "outputs": [],
   "source": [
    "Len(ExprRange(i, ExprRange(j, IndexedVar(a, [i, j]), one, zero), two, one)).computation(assumptions=[InSet(n, Natural)])"
   ]
  },
  {
   "cell_type": "markdown",
   "metadata": {},
   "source": [
    "The following 5 cells have been commented out — they create and then depend on the one-element expr_range in the first cell, which returns an error"
   ]
  },
  {
   "cell_type": "code",
   "execution_count": null,
   "metadata": {},
   "outputs": [],
   "source": [
    "# expr_range = ExprRange(i, ExprRange(j, IndexedVar(a, [i, j]), one, one), one, one)"
   ]
  },
  {
   "cell_type": "code",
   "execution_count": null,
   "metadata": {},
   "outputs": [],
   "source": [
    "# lambda_map = Lambda((expr_range.parameter, expr_range.body.parameter), expr_range.body.body)"
   ]
  },
  {
   "cell_type": "code",
   "execution_count": null,
   "metadata": {},
   "outputs": [],
   "source": [
    "# singular_nested_range_reduction.instantiate({f:lambda_map, i:one, j:one, m:one})"
   ]
  },
  {
   "cell_type": "code",
   "execution_count": null,
   "metadata": {},
   "outputs": [],
   "source": [
    "# Len(ExprRange(i, ExprRange(j, IndexedVar(a, [i, j]), one, one), one, one)).computation()"
   ]
  },
  {
   "cell_type": "code",
   "execution_count": null,
   "metadata": {},
   "outputs": [],
   "source": [
    "# Len(ExprRange(i, ExprRange(j, IndexedVar(a, [i, j]), one, two), one, one)).computation()"
   ]
  },
  {
   "cell_type": "code",
   "execution_count": null,
   "metadata": {},
   "outputs": [],
   "source": [
    "assumptions = [InSet(Add(j, Neg(i), one), Natural), \n",
    "               InSet(i, Natural), InSet(j, Natural)]"
   ]
  },
  {
   "cell_type": "code",
   "execution_count": null,
   "metadata": {},
   "outputs": [],
   "source": [
    "f_i_to_jp1"
   ]
  },
  {
   "cell_type": "code",
   "execution_count": null,
   "metadata": {},
   "outputs": [],
   "source": [
    "eq = f_i_to_jp1.partition(j, assumptions=assumptions)"
   ]
  },
  {
   "cell_type": "code",
   "execution_count": null,
   "metadata": {},
   "outputs": [],
   "source": [
    "eq.rhs.merger(assumptions=assumptions)"
   ]
  },
  {
   "cell_type": "code",
   "execution_count": null,
   "metadata": {},
   "outputs": [],
   "source": [
    "f_i_to_j__shift__eq = \\\n",
    "    f_i_to_j.shift_equivalence(new_shift=one, assumptions=[InSet(subtract(Add(j, one), i),\n",
    "                                                                 Natural)])"
   ]
  },
  {
   "cell_type": "code",
   "execution_count": null,
   "metadata": {},
   "outputs": [],
   "source": [
    "f_i_to_j__shift__eq.rhs"
   ]
  },
  {
   "cell_type": "code",
   "execution_count": null,
   "metadata": {},
   "outputs": [],
   "source": [
    "Add(subtract(i, one), one).simplification(assumptions=[InSet(i, Integer)])"
   ]
  },
  {
   "cell_type": "code",
   "execution_count": null,
   "metadata": {},
   "outputs": [],
   "source": [
    "Add(Add(i, Neg(two)), two).simplification(assumptions=[InSet(i, Integer)])"
   ]
  },
  {
   "cell_type": "code",
   "execution_count": null,
   "metadata": {},
   "outputs": [],
   "source": [
    "Add(subtract(j, one), one).simplification(assumptions=[InSet(j, Integer)])"
   ]
  },
  {
   "cell_type": "code",
   "execution_count": null,
   "metadata": {},
   "outputs": [],
   "source": [
    "Add(subtract(j, two), two).simplification(assumptions=[InSet(j, Integer)])"
   ]
  },
  {
   "cell_type": "code",
   "execution_count": null,
   "metadata": {},
   "outputs": [],
   "source": [
    "f_i_to_j__shift__eq.rhs.entries[0].shift_equivalence(\n",
    "    old_shift=one, new_shift=two, \n",
    "    assumptions=[InSet(j, Integer), InSet(i, Integer),\n",
    "                 InSet(subtract(j, subtract(i, one)), Natural)])"
   ]
  },
  {
   "cell_type": "code",
   "execution_count": null,
   "metadata": {},
   "outputs": [],
   "source": []
  },
  {
   "cell_type": "code",
   "execution_count": null,
   "metadata": {},
   "outputs": [],
   "source": []
  },
  {
   "cell_type": "code",
   "execution_count": null,
   "metadata": {},
   "outputs": [],
   "source": [
    "from proveit import fa\n",
    "from proveit.numbers import Complex"
   ]
  },
  {
   "cell_type": "code",
   "execution_count": null,
   "metadata": {},
   "outputs": [],
   "source": [
    "f_i_to_j_dec = ExprRange(a, fa, i, j, order='decreasing')"
   ]
  },
  {
   "cell_type": "code",
   "execution_count": null,
   "metadata": {},
   "outputs": [],
   "source": [
    "assumptions = [InSet(Add(Neg(j), i, Neg(one)), Natural), \n",
    "               InSet(i, Natural), InSet(j, Natural)]"
   ]
  },
  {
   "cell_type": "code",
   "execution_count": null,
   "metadata": {},
   "outputs": [],
   "source": [
    "#InSet(Neg(Add(x, one)), Complex).prove(assumptions=[InSet(x, Complex)])"
   ]
  },
  {
   "cell_type": "code",
   "execution_count": null,
   "metadata": {},
   "outputs": [],
   "source": [
    "Neg(Add(Neg(Add(x, one)), one)).distribution(assumptions=[InSet(x, Complex)])"
   ]
  },
  {
   "cell_type": "code",
   "execution_count": null,
   "metadata": {},
   "outputs": [],
   "source": [
    "InSet(subtract(subtract(Neg(j), one), Neg(i)), Natural)"
   ]
  },
  {
   "cell_type": "code",
   "execution_count": null,
   "metadata": {},
   "outputs": [],
   "source": [
    "# f_i_to_j__shift__eq_dec = \\\n",
    "#     f_i_to_j_dec.shift_equivalence(new_shift=one, assumptions=[InSet(subtract(subtract(Neg(j), one), Neg(i)),\n",
    "#                                                                  Natural)]).lhs.entries[0]"
   ]
  },
  {
   "cell_type": "code",
   "execution_count": null,
   "metadata": {},
   "outputs": [],
   "source": [
    "# lhs_done = f_i_to_j__shift__eq_dec.inner_expr().lhs[0].with_decreasing_order()"
   ]
  },
  {
   "cell_type": "code",
   "execution_count": null,
   "metadata": {},
   "outputs": [],
   "source": [
    "# lhs_done.inner_expr().rhs[0].with_decreasing_order()"
   ]
  },
  {
   "cell_type": "code",
   "execution_count": null,
   "metadata": {},
   "outputs": [],
   "source": [
    "# f_i_to_j__shift__eq_dec.rhs.entries[0].shift_equivalence(\n",
    "#     old_shift=one, new_shift=two, \n",
    "#     assumptions=[InSet(j, Integer), InSet(i, Integer),\n",
    "#                  InSet(subtract(j, subtract(i, one)), Natural)])"
   ]
  },
  {
   "cell_type": "code",
   "execution_count": null,
   "metadata": {},
   "outputs": [],
   "source": [
    "tup=ExprTuple(a, b)"
   ]
  },
  {
   "cell_type": "code",
   "execution_count": null,
   "metadata": {},
   "outputs": [],
   "source": [
    "Len(a_i_to_j).computation(assumptions=[InSet(Add(j, Neg(i), one), Natural)])"
   ]
  },
  {
   "cell_type": "code",
   "execution_count": null,
   "metadata": {},
   "outputs": [],
   "source": [
    "tup_jdgmt = tup.prove(assumptions=[tup])"
   ]
  },
  {
   "cell_type": "markdown",
   "metadata": {},
   "source": [
    "Not clear what the following cell is/was trying to accomplish:"
   ]
  },
  {
   "cell_type": "code",
   "execution_count": null,
   "metadata": {},
   "outputs": [],
   "source": [
    "# tup.prove(assumptions=[tup]).instantiate({a:a_i_to_j},\n",
    "#                             assumptions=[InSet(Add(j, Neg(i), one), Natural)])"
   ]
  },
  {
   "cell_type": "code",
   "execution_count": null,
   "metadata": {},
   "outputs": [],
   "source": [
    "eq = f_i_to_jp1.partition(k, assumptions=[InSet(subtract(Add(k, one), i), Natural),\n",
    "                              InSet(subtract(Add(j, one), k), Natural)])"
   ]
  },
  {
   "cell_type": "code",
   "execution_count": null,
   "metadata": {},
   "outputs": [],
   "source": [
    "eq.rhs.merger(assumptions=[InSet(subtract(Add(k, one), i), Natural),\n",
    "                              InSet(subtract(Add(j, one), k), Natural)])"
   ]
  },
  {
   "cell_type": "code",
   "execution_count": null,
   "metadata": {},
   "outputs": [],
   "source": [
    "eq = f_i_to_jp1.partition(i, assumptions=[InSet(subtract(Add(j, one), i), Natural)])"
   ]
  },
  {
   "cell_type": "code",
   "execution_count": null,
   "metadata": {},
   "outputs": [],
   "source": [
    "eq.rhs.merger(assumptions=[InSet(subtract(Add(j, one), i), Natural)])"
   ]
  },
  {
   "cell_type": "code",
   "execution_count": null,
   "metadata": {},
   "outputs": [],
   "source": [
    "eq = f_i_to_j.partition(subtract(j, one), assumptions=[InSet(subtract(j, i), Natural)])"
   ]
  },
  {
   "cell_type": "code",
   "execution_count": null,
   "metadata": {},
   "outputs": [],
   "source": [
    "Add(subtract(j, one), one).simplification(assumptions=[InSet(j, Natural)])"
   ]
  },
  {
   "cell_type": "code",
   "execution_count": null,
   "metadata": {},
   "outputs": [],
   "source": [
    "eq.rhs.merger(assumptions=[InSet(subtract(j, i), Natural), InSet(j, Natural)])"
   ]
  },
  {
   "cell_type": "code",
   "execution_count": null,
   "metadata": {},
   "outputs": [],
   "source": []
  },
  {
   "cell_type": "markdown",
   "metadata": {},
   "source": [
    "### Testing the `ExprTuple.range_expansion()` method\n",
    "\n",
    "For self an ExprTuple with a single entry that is an ExprRange of the form f(i),...,f(j), where 0 <= (j-i) <= 9 (i.e. the ExprRange represents 1 to 10 elements), derive and return an equality between self and an ExprTuple with explicit entries replacing the ExprRange. For example, if\n",
    "\n",
    "self = ExprTuple$(f(3),...,f(6))$,\n",
    "\n",
    "then `self.range_expansion()` would return:\n",
    "\n",
    "$|- (f(3),...,f(6)) = (f(3), f(4), f(5), f(6))$\n",
    "\n",
    "First not that we cannot create an ExprRange with only one element explicitly:"
   ]
  },
  {
   "cell_type": "code",
   "execution_count": null,
   "metadata": {},
   "outputs": [],
   "source": [
    "try:\n",
    "    ExprTuple(ExprRange(a, Function(g, a), two, two))\n",
    "    assert False, \"Expecting a ValueError\"\n",
    "except ValueError as e:\n",
    "    print(\"Expected Error:\", e)"
   ]
  },
  {
   "cell_type": "markdown",
   "metadata": {},
   "source": [
    "We can, however, create an ExprRange that doesn't obviously have one element but may turn out to have one element after a simplification or substitution."
   ]
  },
  {
   "cell_type": "code",
   "execution_count": null,
   "metadata": {},
   "outputs": [],
   "source": [
    "expr_tuple_with_1_elem_range = ExprTuple(ExprRange(a, Function(g, a), two, Mult(one, two)))"
   ]
  },
  {
   "cell_type": "code",
   "execution_count": null,
   "metadata": {},
   "outputs": [],
   "source": [
    "expr_tuple_with_1_elem_range.simplification()"
   ]
  },
  {
   "cell_type": "markdown",
   "metadata": {},
   "source": [
    "ExprRange indices are already expected to be simplified w.r.t. `quick_simplified_index` from `proveit.numbers`, however, which deals with basic `Add` and `Neg` simplifications and combines all literal integers at the end of an `Add`."
   ]
  },
  {
   "cell_type": "code",
   "execution_count": null,
   "metadata": {},
   "outputs": [],
   "source": [
    "try:\n",
    "    # A one-element ExprRange (hidden by choosing the start and end indices\n",
    "    # that are equal but appear different)\n",
    "    example_expr_range_2 = ExprRange(i, IndexedVar(x, i), one, Add(one, zero))\n",
    "    assert False, \"Expecting ValueError\"\n",
    "except ValueError as e:\n",
    "    print(\"Expected Error:\", e)"
   ]
  },
  {
   "cell_type": "markdown",
   "metadata": {},
   "source": [
    "`range_expansion` does the same thing as `simplification` in this case:"
   ]
  },
  {
   "cell_type": "code",
   "execution_count": null,
   "metadata": {},
   "outputs": [],
   "source": [
    "expr_tuple_with_1_elem_range.range_expansion()"
   ]
  },
  {
   "cell_type": "code",
   "execution_count": null,
   "metadata": {},
   "outputs": [],
   "source": [
    "# generate some example ExprTuples each containing a single ExprRange element\n",
    "expr_tuple_with_2_elem_range, expr_tuple_with_2_elem_range_exp, expr_tuple_with_3_elem_range, expr_tuple_with_unknown_elem_range, expr_tuple_too_big = [\n",
    "        ExprTuple(ExprRange(a, Function(g, a), two, three)),\n",
    "        ExprTuple(ExprRange(a, Exp(two, Add(a, one)), two, three)),\n",
    "        ExprTuple(ExprRange(a, Exp(e_nat, Add(a, j)), two, four)),\n",
    "        ExprTuple(ExprRange(a, Exp(e_nat, Add(a, j)), i, k)),\n",
    "        ExprTuple(ExprRange(a, Function(g, a), two, num(20)))]"
   ]
  },
  {
   "cell_type": "code",
   "execution_count": null,
   "metadata": {},
   "outputs": [],
   "source": [
    "# find equivalent explicitly 2-element ExprTuple\n",
    "expr_tuple_with_2_elem_range.range_expansion()"
   ]
  },
  {
   "cell_type": "code",
   "execution_count": null,
   "metadata": {},
   "outputs": [],
   "source": [
    "# find equivalent explicitly 2-element ExprTuple\n",
    "# notice the automatic simplification\n",
    "expr_tuple_with_2_elem_range_exp.range_expansion()"
   ]
  },
  {
   "cell_type": "code",
   "execution_count": null,
   "metadata": {},
   "outputs": [],
   "source": [
    "# find equivalent explicitly 2-element ExprTuple\n",
    "# notice the automatic simplification\n",
    "expr_tuple_with_3_elem_range.range_expansion()"
   ]
  },
  {
   "cell_type": "code",
   "execution_count": null,
   "metadata": {},
   "outputs": [],
   "source": [
    "# When the number of elements represented by the ExprRange is not known,\n",
    "# the range_expansion() method fails with an informative error message\n",
    "try:\n",
    "    expr_tuple_with_unknown_elem_range.range_expansion()\n",
    "    assert False, \"Expecting an EvaluationError; should not get this far!\"\n",
    "except EvaluationError as the_error:\n",
    "    print(\"EvaluationError: {}\".format(the_error))"
   ]
  },
  {
   "cell_type": "code",
   "execution_count": null,
   "metadata": {},
   "outputs": [],
   "source": [
    "# but if we give the method enough information about the indexing\n",
    "# we can generate the equivalent explicit ExprTuple\n",
    "expr_tuple_with_unknown_elem_range.range_expansion(\n",
    "        assumptions=[Equals(k, Add(i, four)), Equals(subtract(k, i), four)])"
   ]
  },
  {
   "cell_type": "code",
   "execution_count": null,
   "metadata": {},
   "outputs": [],
   "source": [
    "# When the number of elements represented by the ExprRange is > 10,\n",
    "# the range_expansion() method fails with an informative error message\n",
    "try:\n",
    "    expr_tuple_too_big.range_expansion(assumptions=[Equals(subtract(num(20), two), num(18))])\n",
    "    assert False, \"Expecting an EvaluationError; should not get this far!\"\n",
    "except ValueError as the_error:\n",
    "    print(\"ValueError: {}\".format(the_error))"
   ]
  },
  {
   "cell_type": "code",
   "execution_count": null,
   "metadata": {},
   "outputs": [],
   "source": [
    "# a related issue to ask about\n",
    "try:\n",
    "    Equals(subtract(num(20), two), num(18)).prove()\n",
    "except ProofFailure as the_error:\n",
    "    print(\"ProofFailure: {}\".format(the_error))"
   ]
  },
  {
   "cell_type": "markdown",
   "metadata": {},
   "source": [
    "A related example where the ExprRange and ExprTuple are being used as an argument for a TensorProd operator."
   ]
  },
  {
   "cell_type": "code",
   "execution_count": null,
   "metadata": {},
   "outputs": [],
   "source": [
    "# create an example ExprRange\n",
    "example_expr_range = ExprRange(i, IndexedVar(x, i), one, three)"
   ]
  },
  {
   "cell_type": "code",
   "execution_count": null,
   "metadata": {},
   "outputs": [],
   "source": [
    "# use the example ExprRange as the arg(s) for a TensorProd:\n",
    "example_tensor_prod_over_range = TensorProd(example_expr_range)"
   ]
  },
  {
   "cell_type": "code",
   "execution_count": null,
   "metadata": {},
   "outputs": [],
   "source": [
    "# find the ExprTuple equivalent to the (ExprTuple-wrapped) ExprRange:\n",
    "expr_range_eq_expr_tuple = ExprTuple(example_expr_range).range_expansion()"
   ]
  },
  {
   "cell_type": "code",
   "execution_count": null,
   "metadata": {},
   "outputs": [],
   "source": [
    "# find the equivalent explicit tensor prod\n",
    "example_tensor_prod_over_range.inner_expr().operands.substitution(\n",
    "         expr_range_eq_expr_tuple)"
   ]
  },
  {
   "cell_type": "code",
   "execution_count": null,
   "metadata": {},
   "outputs": [],
   "source": [
    "%end demonstrations"
   ]
  },
  {
   "cell_type": "code",
   "execution_count": null,
   "metadata": {},
   "outputs": [],
   "source": []
  }
 ],
 "metadata": {
  "kernelspec": {
   "display_name": "Python 3",
   "language": "python",
   "name": "python3"
  }
 },
 "nbformat": 4,
 "nbformat_minor": 0
}
