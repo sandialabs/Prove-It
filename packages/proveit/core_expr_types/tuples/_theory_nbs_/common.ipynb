{
 "cells": [
  {
   "cell_type": "markdown",
   "metadata": {},
   "source": [
    "Common expressions for the theory of <a class=\"ProveItLink\" href=\"theory.ipynb\">proveit.core_expr_types.tuples</a>\n",
    "========"
   ]
  },
  {
   "cell_type": "code",
   "execution_count": null,
   "metadata": {},
   "outputs": [],
   "source": [
    "import proveit\n",
    "# Prepare this notebook for defining the common expressions of a theory:\n",
    "%common_expressions_notebook # Keep this at the top following 'import proveit'.\n",
    "from proveit import Function, ExprRange, IndexedVar, ExprTuple\n",
    "from proveit.logic import Equals, InSet\n",
    "from proveit import a, b, f, k, i, j, k, l, m, n, x\n",
    "from proveit.core_expr_types import (\n",
    "    f_k, i_k, j_k, f_1_to_n, f_i_to_j, i_1_to_n, j_1_to_n)\n",
    "from proveit.numbers import Natural, one, Add, Neg"
   ]
  },
  {
   "cell_type": "code",
   "execution_count": null,
   "metadata": {},
   "outputs": [],
   "source": [
    "%begin common"
   ]
  },
  {
   "cell_type": "code",
   "execution_count": null,
   "metadata": {},
   "outputs": [],
   "source": [
    "fk_ik_to_jk = ExprRange(x, Function(f_k, x), i_k, j_k)"
   ]
  },
  {
   "cell_type": "code",
   "execution_count": null,
   "metadata": {},
   "outputs": [],
   "source": [
    "f_ik_to_jk__1_to_n = ExprRange(k, fk_ik_to_jk, one, n)"
   ]
  },
  {
   "cell_type": "code",
   "execution_count": null,
   "metadata": {},
   "outputs": [],
   "source": [
    "fk_i_to_j = ExprRange(x, Function(f_k, x), i, j)"
   ]
  },
  {
   "cell_type": "code",
   "execution_count": null,
   "metadata": {},
   "outputs": [],
   "source": [
    "f_i_to_j__1_to_n = ExprRange(k, fk_i_to_j, one, n)"
   ]
  },
  {
   "cell_type": "code",
   "execution_count": null,
   "metadata": {},
   "outputs": [],
   "source": [
    "fk_1_to_i = ExprRange(x, Function(f_k, x), one, i)"
   ]
  },
  {
   "cell_type": "code",
   "execution_count": null,
   "metadata": {},
   "outputs": [],
   "source": [
    "f_1_to_i__1_to_n = ExprRange(k, fk_1_to_i, one, n)"
   ]
  },
  {
   "cell_type": "code",
   "execution_count": null,
   "metadata": {},
   "outputs": [],
   "source": [
    "f_i_to_j__m_to_n = ExprRange(k, fk_i_to_j, m, n)"
   ]
  },
  {
   "cell_type": "code",
   "execution_count": null,
   "metadata": {},
   "outputs": [],
   "source": [
    "general_range_of_ranges = ExprTuple(ExprRange(k, ExprRange(l, Function(f, (k, l)),\n",
    "                                                           Function(i, k), Function(j, k)), m, n))"
   ]
  },
  {
   "cell_type": "code",
   "execution_count": null,
   "metadata": {},
   "outputs": [],
   "source": [
    "range_len_conditions = ExprRange(k, InSet(Add(j_k, Neg(i_k), one), Natural), one, n)"
   ]
  },
  {
   "cell_type": "code",
   "execution_count": null,
   "metadata": {},
   "outputs": [],
   "source": [
    "range_len_sum = Add(ExprRange(k, Add(j_k, Neg(i_k), one), one, n))"
   ]
  },
  {
   "cell_type": "code",
   "execution_count": null,
   "metadata": {},
   "outputs": [],
   "source": [
    "shift_equiv = Equals([f_i_to_j], \n",
    "                     [ExprRange(i, Function(f, Add(i, a)), k, l)])"
   ]
  },
  {
   "cell_type": "code",
   "execution_count": null,
   "metadata": {},
   "outputs": [],
   "source": [
    "shift_equiv_both = Equals([ExprRange(k, Function(f, Add(k, a)), i, j)], \n",
    "                          [ExprRange(i, Function(f, Add(i, b)), k, l)])"
   ]
  },
  {
   "cell_type": "code",
   "execution_count": null,
   "metadata": {},
   "outputs": [],
   "source": [
    "%end common"
   ]
  }
 ],
 "metadata": {
  "kernelspec": {
   "display_name": "Python 3",
   "language": "python",
   "name": "python3"
  }
 },
 "nbformat": 4,
 "nbformat_minor": 0
}
