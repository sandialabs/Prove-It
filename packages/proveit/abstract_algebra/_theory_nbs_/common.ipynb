{
 "cells": [
  {
   "cell_type": "markdown",
   "metadata": {},
   "source": [
    "Common expressions for the theory of <a class=\"ProveItLink\" href=\"theory.ipynb\">proveit.abstract_algebra</a>\n",
    "========"
   ]
  },
  {
   "cell_type": "code",
   "execution_count": 1,
   "metadata": {},
   "outputs": [],
   "source": [
    "import proveit\n",
    "# Prepare this notebook for defining the common expressions of a theory:\n",
    "%common_expressions_notebook # Keep this at the top following 'import proveit'.\n",
    "\n",
    "from proveit import Variable"
   ]
  },
  {
   "cell_type": "code",
   "execution_count": 2,
   "metadata": {},
   "outputs": [
    {
     "name": "stdout",
     "output_type": "stream",
     "text": [
      "Defining common sub-expressions for theory 'proveit.abstract_algebra'\n",
      "Subsequent end-of-cell assignments will define common sub-expressions\n",
      "%end_common will finalize the definitions\n"
     ]
    }
   ],
   "source": [
    "%begin common"
   ]
  },
  {
   "cell_type": "markdown",
   "metadata": {},
   "source": [
    "#### Use these to denote addition and multiplication generically as variables"
   ]
  },
  {
   "cell_type": "code",
   "execution_count": 3,
   "metadata": {},
   "outputs": [
    {
     "data": {
      "text/html": [
       "<strong id=\"plus\">plus:</strong> <a class=\"ProveItLink\" href=\"../__pv_it/common/e9410b5958efd3e02042f2290dbd8a9ee4a9b8a30/common_expr.ipynb\"><img src=\"data:image/png;base64,iVBORw0KGgoAAAANSUhEUgAAAA4AAAAOBAMAAADtZjDiAAAAFVBMVEX///8AAAAAAAAAAAAAAAAA\n",
       "AAAAAAA9huxxAAAABnRSTlMAzd3vVHZuEpF7AAAACXBIWXMAAA7EAAAOxAGVKw4bAAAAJElEQVQI\n",
       "12MQUlIyVlJSYlBgYHBlYGAiSCuB1SsTrR5GQ+0BAJ7GB0zh/r5gAAAAAElFTkSuQmCC\n",
       "\" style=\"display:inline;vertical-align:middle;\" /></a><br>"
      ],
      "text/plain": [
       "<IPython.core.display.HTML object>"
      ]
     },
     "metadata": {},
     "output_type": "display_data"
    }
   ],
   "source": [
    "plus = Variable('boxplus', r'\\boxplus')"
   ]
  },
  {
   "cell_type": "code",
   "execution_count": 4,
   "metadata": {},
   "outputs": [
    {
     "data": {
      "text/html": [
       "<strong id=\"times\">times:</strong> <a class=\"ProveItLink\" href=\"../__pv_it/common/f1c1ff7be8b60e3f686d50f84bb3066a9a16a4f90/common_expr.ipynb\"><img src=\"data:image/png;base64,iVBORw0KGgoAAAANSUhEUgAAAA4AAAAOBAMAAADtZjDiAAAAGFBMVEX///8AAAAAAAAAAAAAAAAA\n",
       "AAAAAAAAAABcYkG9AAAAB3RSTlMAzd3vMiIQmoFqDgAAAAlwSFlzAAAOxAAADsQBlSsOGwAAAExJ\n",
       "REFUCNdjEFcCASMGJQcGBgZWZQY1FSAdFMSgkOTAwKrKxKDAqsIQFACkGYJcVRhANCtQKTId5KoK\n",
       "otmg6qD6YOaAzWVRZhCG2AMAfRULVjYPOJYAAAAASUVORK5CYII=\n",
       "\" style=\"display:inline;vertical-align:middle;\" /></a><br>"
      ],
      "text/plain": [
       "<IPython.core.display.HTML object>"
      ]
     },
     "metadata": {},
     "output_type": "display_data"
    }
   ],
   "source": [
    "times = Variable('boxtimes', r'\\boxtimes')"
   ]
  },
  {
   "cell_type": "code",
   "execution_count": 5,
   "metadata": {},
   "outputs": [
    {
     "name": "stdout",
     "output_type": "stream",
     "text": [
      "These common expressions may now be imported from the theory package: proveit.abstract_algebra\n"
     ]
    }
   ],
   "source": [
    "%end common"
   ]
  },
  {
   "cell_type": "code",
   "execution_count": null,
   "metadata": {},
   "outputs": [],
   "source": []
  }
 ],
 "metadata": {
  "kernelspec": {
   "display_name": "Python 3",
   "language": "python",
   "name": "python3"
  }
 },
 "nbformat": 4,
 "nbformat_minor": 0
}