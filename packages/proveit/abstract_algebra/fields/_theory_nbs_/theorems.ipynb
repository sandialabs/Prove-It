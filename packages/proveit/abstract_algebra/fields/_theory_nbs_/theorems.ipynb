{
 "cells": [
  {
   "cell_type": "markdown",
   "metadata": {},
   "source": [
    "Theorems (or conjectures) for the theory of <a class=\"ProveItLink\" href=\"theory.ipynb\">proveit.abstract_algebra.fields</a>\n",
    "========"
   ]
  },
  {
   "cell_type": "code",
   "execution_count": 1,
   "metadata": {},
   "outputs": [],
   "source": [
    "import proveit\n",
    "# Prepare this notebook for defining the theorems of a theory:\n",
    "%theorems_notebook # Keep this at the top following 'import proveit'.\n",
    "\n",
    "from proveit.logic import InClass\n",
    "from proveit.numbers import Rational, Real, Complex, Add, Mult\n",
    "from proveit.abstract_algebra import Fields"
   ]
  },
  {
   "cell_type": "code",
   "execution_count": 2,
   "metadata": {},
   "outputs": [
    {
     "name": "stdout",
     "output_type": "stream",
     "text": [
      "Defining theorems for theory 'proveit.abstract_algebra.fields'\n",
      "Subsequent end-of-cell assignments will define theorems\n",
      "'%end theorems' will finalize the definitions\n"
     ]
    }
   ],
   "source": [
    "%begin theorems"
   ]
  },
  {
   "cell_type": "code",
   "execution_count": 3,
   "metadata": {},
   "outputs": [
    {
     "data": {
      "text/html": [
       "<strong id=\"rational_field\"><a class=\"ProveItLink\" href=\"proofs/rational_field/thm_proof.ipynb\">rational_field</a> (conjecture without proof):<br></strong> <a class=\"ProveItLink\" href=\"../__pv_it/theorems/4325765c538c08d5739ff5e4a1dda0b5b260e4d70/theorem_expr.ipynb\"><img src=\"data:image/png;base64,iVBORw0KGgoAAAANSUhEUgAAAJAAAAAdBAMAAAC3RviNAAAAMFBMVEX///8AAAAAAAAAAAAAAAAA\n",
       "AAAAAAAAAAAAAAAAAAAAAAAAAAAAAAAAAAAAAAAAAAAv3aB7AAAAD3RSTlMAEIm7mSJ2q+8y3WZE\n",
       "zVRISQrpAAAACXBIWXMAAA7EAAAOxAGVKw4bAAACh0lEQVRIx+WUTWgTURDH/5vNpm4+ltX4cZLm\n",
       "oBXsJVCKKApRVKhe4gcintaKLTUiCyKpimDx0AhFgpfmIm1BqC4eAnqRYAlRtCDi6kVBsPWiVY8R\n",
       "rDatzr632Ww+iiTk5oOdZObt/HZm3swDWlhSY8O6np4DzYEu1BqCGgnfcFqajlTZ5Sup5MV7IziZ\n",
       "ZeqdUUueGytvK5E6dIKe7m7g2dOaLxTpuYnXMa6+Y+GXyrub62MMqZAjJiAGtOqcf5KYgWCrO5h0\n",
       "QIeZfOl2CMQgrtUBT9pk+hnDMB3QRue1GtB1Jj9XfXoEYZmCUeb7LO3V6UpEkupbBaSYDUAfcDtI\n",
       "FQ1mZyz3N67UAnFI73VIB7cwkKdrqAQ5MUAQb6QBaBueB+bpmLTvVsXiLtApUkI6MnGfSSDhFjwl\n",
       "hIFJsmYbgJ7gqMIiOm+BKsVeTM4RSNRxF1ghkGhapzargurgn28AWoDIa7SXlIxBK2pH5GUgeQl4\n",
       "S6BODUIJ/uJZ2lyTBw4ZRsowphlDWCYxAXGDc2ph9/ErDKT8yOUeE2iCgYTtf2IcVBURRY1ZBHkf\n",
       "WeH6q/uIRbTCT41HdASBX6uk9o3aizr7Betsn1YHAk1HkEChqFUj8r1KVq0CKrcsHlJa1qzxWfjo\n",
       "DFuRg6LI5LGVQNIYOpawoKKXHPQKqNO0PfbRc3x5ro9rm3arnHNtMZmmn+FRVdrfHx9PXcL6rqHf\n",
       "emGgn+ojT1ZA/ikb9MASl51JK+wyzH/fIvddNfpk14LBO7TBr/kmrqNHrqG1bxQvb9Ive25kmwCJ\n",
       "zgRAsHM51spFCyHq/C0Pdm9LIJyoNfji+G+WnIi0BzSOaHtAO9uV2hTU9oAKuWyrrn8BsQ+uIBLR\n",
       "DGEAAAAASUVORK5CYII=\n",
       "\" style=\"display:inline;vertical-align:middle;\" /></a><br>"
      ],
      "text/plain": [
       "<IPython.core.display.HTML object>"
      ]
     },
     "metadata": {},
     "output_type": "display_data"
    }
   ],
   "source": [
    "rational_field = InClass(Rational, Fields(Add._operator_, Mult._operator_))"
   ]
  },
  {
   "cell_type": "code",
   "execution_count": 4,
   "metadata": {},
   "outputs": [
    {
     "data": {
      "text/html": [
       "<strong id=\"real_field\"><a class=\"ProveItLink\" href=\"proofs/real_field/thm_proof.ipynb\">real_field</a> (conjecture without proof):<br></strong> <a class=\"ProveItLink\" href=\"../__pv_it/theorems/229e15d47421fe0b728f2d860dbb01d093f12aab0/theorem_expr.ipynb\"><img src=\"data:image/png;base64,iVBORw0KGgoAAAANSUhEUgAAAI8AAAAdBAMAAABh4yLoAAAAMFBMVEX///8AAAAAAAAAAAAAAAAA\n",
       "AAAAAAAAAAAAAAAAAAAAAAAAAAAAAAAAAAAAAAAAAAAv3aB7AAAAD3RSTlMAZs3vu90iq0QQiTKZ\n",
       "VHZ+Ip2vAAAACXBIWXMAAA7EAAAOxAGVKw4bAAACZ0lEQVRIx+WUTWjUUBDHJ9vkbbLZLLviyc+I\n",
       "FGlBKrTSLiK8g9Z6qULJTWmgFqH0EPxaj8WL4EGjFEQRq5fWgyyLq3ir61VFpEdPi6igBbG2xT20\n",
       "4Lz3kk2ymyKGvflgh30zL7/8581MABIsO86xbeBU90D+nzi5D62em8zQ83B9uxvx65f7S5fGijAh\n",
       "XvBskNkvQ374YzuaHaRTIOtONKCu4e8I3KqJ7QFmSMMLama7yB4BytotMfIbzW7QvO0Jbn1QlutU\n",
       "I9exywdRsf9sWWYT9LB5LArq4taoh0FdLgel74nUrn0LFBE3twVoKQaUynPQ8yVeUNITSk2ygex3\n",
       "gLx/ykGZ8nIDFvd8wuCbGFAGldCJ7nWhJGWHQJO4STlQtXMmgrSjkGloFBQM7osBSSZTVLjj6Qsu\n",
       "e7XUhyDZgTMAmwiSTayaWgSW7tkYkHGIgeTbogJVCxf1FGU5SF8B6EXQXB20BoyPMs3YT1nLGjts\n",
       "WeJm51CN/pOB9NpJ7pkNl9/gIGOjUNiJoFccdH98Q4AiihTsNpUrgrfnhCfaR1zRpqgaV0Rc2FvZ\n",
       "IrXTHDTLWxxy9TYQ4HSoCEpRvCN8No0HR0Mgf7QkvBE6DVJ+hG8PNodtTYAoVGdgHkFkCNIrRhFk\n",
       "THghAGm//G5/xKZ/GI718YG+OyLeoF9YLWEO+sVBl7z7br/svwIPysvrV8s/nmD0RUiR5UlSZqIz\n",
       "duO4Zf71K6JUApDhgSaTfNakWjC0Gc/3OgkIhoO/3mATmggU9Bt4dZbtRCBSb/V8hf9nLe7oDEd3\n",
       "5M6A5EqHMlNcrTMg9XEh8bN/AMRomvk+H+ZjAAAAAElFTkSuQmCC\n",
       "\" style=\"display:inline;vertical-align:middle;\" /></a><br>"
      ],
      "text/plain": [
       "<IPython.core.display.HTML object>"
      ]
     },
     "metadata": {},
     "output_type": "display_data"
    }
   ],
   "source": [
    "real_field = InClass(Real, Fields(Add._operator_, Mult._operator_))"
   ]
  },
  {
   "cell_type": "code",
   "execution_count": 5,
   "metadata": {},
   "outputs": [
    {
     "data": {
      "text/html": [
       "<strong id=\"complex_field\"><a class=\"ProveItLink\" href=\"proofs/complex_field/thm_proof.ipynb\">complex_field</a> (conjecture without proof):<br></strong> <a class=\"ProveItLink\" href=\"../__pv_it/theorems/0571e98a8458f3ea74a58425a5399c69687d202c0/theorem_expr.ipynb\"><img src=\"data:image/png;base64,iVBORw0KGgoAAAANSUhEUgAAAI8AAAAdBAMAAABh4yLoAAAAMFBMVEX///8AAAAAAAAAAAAAAAAA\n",
       "AAAAAAAAAAAAAAAAAAAAAAAAAAAAAAAAAAAAAAAAAAAv3aB7AAAAD3RSTlMAEIm73c12IjKr72aZ\n",
       "RFTgyeMAAAAACXBIWXMAAA7EAAAOxAGVKw4bAAACZ0lEQVRIx+WUTWgTURDH/5vd5G2a7LJEEESh\n",
       "niKiwgptpaLgYU9F7FbwoILGz/a4h14UD6HUgrm4oCIpCg14MIVK8CBCRINge1CwFBQ8KaJ3ofVg\n",
       "25TOvt3sR5MiLrn5YIc3M+/93sybeQvEGFZnQ67vzOjEv3BS37ZaPnPzdE34eCxil+/Plu8NVXCz\n",
       "xtXbVUdenWu5v7ejnYXzS0AmCoKyTN9TfG246llHsKbnFMz2IEfo9MZhmjyK2tkfEq8heOogly1Q\n",
       "lsep1MIbXgFpTafJble/YhimD9rpL4uCerhUC2FQjwaRNXz106UgIqaltgH97ABK1nBD3usnNBJK\n",
       "LWOBnbPB5g9yUCI/1sTUi2vkfNsBlLAxESSbtEKgcVKSNkpWyiSQ8AyJpqBDIuf5DqCMiVuKb0kG\n",
       "l71avkgg0cZJYINAoklVUypw0j3VAaTO0B35qZUMGroXUZaD5DXgNIF6CxCaGB5wYqZ+yhrG0BPD\n",
       "sPm2XqqP/AsirxofO8LlVzlIXa/XXxLoLgflhtddUCQiiaqlzEDhfaRwS7SPeEQbbtV4REzDm+I2\n",
       "qZ2gzv5Ck3e80QttIFSdQwaR1OmOaG+aKjMQAmmty6a0Uv0Lwg+3ly74j23ZBekoLWIfgdgc0mtq\n",
       "BSIlvD8ACb9b3e5cdO7oyoKr7jruniA/WC1TDvJ0VWMfLlt3Zh9iT35s5XH++iHyToYiMryQpMXo\n",
       "G1vqM8y//kWkYgBSPdB4nN9aphE82oRnex8HhCPB1HvYTI8FCvoNXp1FKxaIFbZaRvH/jKnn3eHI\n",
       "ttgdkFjsUmaSJnQHpByox967CTW1kAD6i29BAAAAAElFTkSuQmCC\n",
       "\" style=\"display:inline;vertical-align:middle;\" /></a><br>"
      ],
      "text/plain": [
       "<IPython.core.display.HTML object>"
      ]
     },
     "metadata": {},
     "output_type": "display_data"
    }
   ],
   "source": [
    "complex_field = InClass(Complex, Fields(Add._operator_, Mult._operator_))"
   ]
  },
  {
   "cell_type": "code",
   "execution_count": 6,
   "metadata": {},
   "outputs": [
    {
     "name": "stdout",
     "output_type": "stream",
     "text": [
      "These theorems may now be imported from the theory package: proveit.abstract_algebra.fields\n"
     ]
    }
   ],
   "source": [
    "%end theorems"
   ]
  }
 ],
 "metadata": {
  "kernelspec": {
   "display_name": "Python 3",
   "language": "python",
   "name": "python3"
  }
 },
 "nbformat": 4,
 "nbformat_minor": 0
}