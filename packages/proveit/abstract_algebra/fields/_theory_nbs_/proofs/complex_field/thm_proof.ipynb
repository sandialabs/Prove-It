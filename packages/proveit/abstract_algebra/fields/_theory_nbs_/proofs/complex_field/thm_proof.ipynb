{
 "cells": [
  {
   "cell_type": "markdown",
   "metadata": {},
   "source": [
    "Proof of <a class=\"ProveItLink\" href=\"../../../../../_theory_nbs_/theory.ipynb\">proveit</a>.<a class=\"ProveItLink\" href=\"../../../../_theory_nbs_/theory.ipynb\">abstract_algebra</a>.<a class=\"ProveItLink\" href=\"../../theory.ipynb\">fields</a>.<a class=\"ProveItLink\" href=\"../../theorems.ipynb#complex_field\">complex_field</a> theorem\n",
    "========"
   ]
  },
  {
   "cell_type": "code",
   "execution_count": 1,
   "metadata": {},
   "outputs": [],
   "source": [
    "import proveit\n",
    "theory = proveit.Theory() # the theorem's theory"
   ]
  },
  {
   "cell_type": "code",
   "execution_count": 2,
   "metadata": {},
   "outputs": [
    {
     "data": {
      "text/html": [
       "With these <a href=\"allowed_presumptions.txt\">allowed</a>/<a href=\"disallowed_presumptions.txt\">disallowed</a> theorem/theory presumptions (e.g., to avoid circular dependencies), we begin our proof of<br><strong id=\"complex_field\">complex_field:</strong> <a class=\"ProveItLink\" href=\"../../../__pv_it/theorems/1788aad398158745fa9316b39ea84ae1959217900/expr.ipynb\"><img src=\"data:image/png;base64,iVBORw0KGgoAAAANSUhEUgAAAI8AAAAdBAMAAABh4yLoAAAAMFBMVEX///8AAAAAAAAAAAAAAAAA\n",
       "AAAAAAAAAAAAAAAAAAAAAAAAAAAAAAAAAAAAAAAAAAAv3aB7AAAAD3RSTlMAEIm73c12IjKr72aZ\n",
       "RFTgyeMAAAAACXBIWXMAAA7EAAAOxAGVKw4bAAACZ0lEQVRIx+WUTWgTURDH/5vd5G2a7LJEEESh\n",
       "niKiwgptpaLgYU9F7FbwoILGz/a4h14UD6HUgrm4oCIpCg14MIVK8CBCRINge1CwFBQ8KaJ3ofVg\n",
       "25TOvt3sR5MiLrn5YIc3M+/93sybeQvEGFZnQ67vzOjEv3BS37ZaPnPzdE34eCxil+/Plu8NVXCz\n",
       "xtXbVUdenWu5v7ejnYXzS0AmCoKyTN9TfG246llHsKbnFMz2IEfo9MZhmjyK2tkfEq8heOogly1Q\n",
       "lsep1MIbXgFpTafJble/YhimD9rpL4uCerhUC2FQjwaRNXz106UgIqaltgH97ABK1nBD3usnNBJK\n",
       "LWOBnbPB5g9yUCI/1sTUi2vkfNsBlLAxESSbtEKgcVKSNkpWyiSQ8AyJpqBDIuf5DqCMiVuKb0kG\n",
       "l71avkgg0cZJYINAoklVUypw0j3VAaTO0B35qZUMGroXUZaD5DXgNIF6CxCaGB5wYqZ+yhrG0BPD\n",
       "sPm2XqqP/AsirxofO8LlVzlIXa/XXxLoLgflhtddUCQiiaqlzEDhfaRwS7SPeEQbbtV4REzDm+I2\n",
       "qZ2gzv5Ck3e80QttIFSdQwaR1OmOaG+aKjMQAmmty6a0Uv0Lwg+3ly74j23ZBekoLWIfgdgc0mtq\n",
       "BSIlvD8ACb9b3e5cdO7oyoKr7jruniA/WC1TDvJ0VWMfLlt3Zh9iT35s5XH++iHyToYiMryQpMXo\n",
       "G1vqM8y//kWkYgBSPdB4nN9aphE82oRnex8HhCPB1HvYTI8FCvoNXp1FKxaIFbZaRvH/jKnn3eHI\n",
       "ttgdkFjsUmaSJnQHpByox967CTW1kAD6i29BAAAAAElFTkSuQmCC\n",
       "\" style=\"display:inline;vertical-align:middle;\" /></a><br>(see <a class=\"ProveItLink\" href=\"../../../__pv_it/theorems/0571e98a8458f3ea74a58425a5399c69687d202c0/dependencies.ipynb\">dependencies</a>)<br>"
      ],
      "text/plain": [
       "<IPython.core.display.HTML object>"
      ]
     },
     "metadata": {},
     "output_type": "display_data"
    }
   ],
   "source": [
    "%proving complex_field"
   ]
  },
  {
   "cell_type": "code",
   "execution_count": null,
   "metadata": {},
   "outputs": [],
   "source": []
  }
 ],
 "metadata": {
  "kernelspec": {
   "display_name": "Python 3",
   "language": "python",
   "name": "python3"
  }
 },
 "nbformat": 4,
 "nbformat_minor": 0
}