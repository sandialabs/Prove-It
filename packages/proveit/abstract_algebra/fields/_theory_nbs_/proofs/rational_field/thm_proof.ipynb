{
 "cells": [
  {
   "cell_type": "markdown",
   "metadata": {},
   "source": [
    "Proof of <a class=\"ProveItLink\" href=\"../../../../../_theory_nbs_/theory.ipynb\">proveit</a>.<a class=\"ProveItLink\" href=\"../../../../_theory_nbs_/theory.ipynb\">abstract_algebra</a>.<a class=\"ProveItLink\" href=\"../../theory.ipynb\">fields</a>.<a class=\"ProveItLink\" href=\"../../theorems.ipynb#rational_field\">rational_field</a> theorem\n",
    "========"
   ]
  },
  {
   "cell_type": "code",
   "execution_count": 1,
   "metadata": {},
   "outputs": [],
   "source": [
    "import proveit\n",
    "theory = proveit.Theory() # the theorem's theory"
   ]
  },
  {
   "cell_type": "code",
   "execution_count": 2,
   "metadata": {},
   "outputs": [
    {
     "data": {
      "text/html": [
       "With these <a href=\"allowed_presumptions.txt\">allowed</a>/<a href=\"disallowed_presumptions.txt\">disallowed</a> theorem/theory presumptions (e.g., to avoid circular dependencies), we begin our proof of<br><strong id=\"rational_field\">rational_field:</strong> <a class=\"ProveItLink\" href=\"../../../__pv_it/theorems/2d79a680ecfb8145f7aff3c77ac9c3aef325dc010/expr.ipynb\"><img src=\"data:image/png;base64,iVBORw0KGgoAAAANSUhEUgAAAJAAAAAdBAMAAAC3RviNAAAAMFBMVEX///8AAAAAAAAAAAAAAAAA\n",
       "AAAAAAAAAAAAAAAAAAAAAAAAAAAAAAAAAAAAAAAAAAAv3aB7AAAAD3RSTlMAEIm7mSJ2q+8y3WZE\n",
       "zVRISQrpAAAACXBIWXMAAA7EAAAOxAGVKw4bAAACh0lEQVRIx+WUTWgTURDH/5vNpm4+ltX4cZLm\n",
       "oBXsJVCKKApRVKhe4gcintaKLTUiCyKpimDx0AhFgpfmIm1BqC4eAnqRYAlRtCDi6kVBsPWiVY8R\n",
       "rDatzr632Ww+iiTk5oOdZObt/HZm3swDWlhSY8O6np4DzYEu1BqCGgnfcFqajlTZ5Sup5MV7IziZ\n",
       "ZeqdUUueGytvK5E6dIKe7m7g2dOaLxTpuYnXMa6+Y+GXyrub62MMqZAjJiAGtOqcf5KYgWCrO5h0\n",
       "QIeZfOl2CMQgrtUBT9pk+hnDMB3QRue1GtB1Jj9XfXoEYZmCUeb7LO3V6UpEkupbBaSYDUAfcDtI\n",
       "FQ1mZyz3N67UAnFI73VIB7cwkKdrqAQ5MUAQb6QBaBueB+bpmLTvVsXiLtApUkI6MnGfSSDhFjwl\n",
       "hIFJsmYbgJ7gqMIiOm+BKsVeTM4RSNRxF1ghkGhapzargurgn28AWoDIa7SXlIxBK2pH5GUgeQl4\n",
       "S6BODUIJ/uJZ2lyTBw4ZRsowphlDWCYxAXGDc2ph9/ErDKT8yOUeE2iCgYTtf2IcVBURRY1ZBHkf\n",
       "WeH6q/uIRbTCT41HdASBX6uk9o3aizr7Betsn1YHAk1HkEChqFUj8r1KVq0CKrcsHlJa1qzxWfjo\n",
       "DFuRg6LI5LGVQNIYOpawoKKXHPQKqNO0PfbRc3x5ro9rm3arnHNtMZmmn+FRVdrfHx9PXcL6rqHf\n",
       "emGgn+ojT1ZA/ikb9MASl51JK+wyzH/fIvddNfpk14LBO7TBr/kmrqNHrqG1bxQvb9Ive25kmwCJ\n",
       "zgRAsHM51spFCyHq/C0Pdm9LIJyoNfji+G+WnIi0BzSOaHtAO9uV2hTU9oAKuWyrrn8BsQ+uIBLR\n",
       "DGEAAAAASUVORK5CYII=\n",
       "\" style=\"display:inline;vertical-align:middle;\" /></a><br>(see <a class=\"ProveItLink\" href=\"../../../__pv_it/theorems/4325765c538c08d5739ff5e4a1dda0b5b260e4d70/dependencies.ipynb\">dependencies</a>)<br>"
      ],
      "text/plain": [
       "<IPython.core.display.HTML object>"
      ]
     },
     "metadata": {},
     "output_type": "display_data"
    }
   ],
   "source": [
    "%proving rational_field"
   ]
  },
  {
   "cell_type": "code",
   "execution_count": null,
   "metadata": {},
   "outputs": [],
   "source": []
  }
 ],
 "metadata": {
  "kernelspec": {
   "display_name": "Python 3",
   "language": "python",
   "name": "python3"
  }
 },
 "nbformat": 4,
 "nbformat_minor": 0
}