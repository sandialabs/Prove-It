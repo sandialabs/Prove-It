{
 "cells": [
  {
   "cell_type": "markdown",
   "metadata": {},
   "source": [
    "Proof of <a class=\"ProveItLink\" href=\"../../../../../_theory_nbs_/theory.ipynb\">proveit</a>.<a class=\"ProveItLink\" href=\"../../../../_theory_nbs_/theory.ipynb\">abstract_algebra</a>.<a class=\"ProveItLink\" href=\"../../theory.ipynb\">fields</a>.<a class=\"ProveItLink\" href=\"../../theorems.ipynb#real_field\">real_field</a> theorem\n",
    "========"
   ]
  },
  {
   "cell_type": "code",
   "execution_count": 1,
   "metadata": {},
   "outputs": [],
   "source": [
    "import proveit\n",
    "theory = proveit.Theory() # the theorem's theory"
   ]
  },
  {
   "cell_type": "code",
   "execution_count": 2,
   "metadata": {},
   "outputs": [
    {
     "data": {
      "text/html": [
       "With these <a href=\"allowed_presumptions.txt\">allowed</a>/<a href=\"disallowed_presumptions.txt\">disallowed</a> theorem/theory presumptions (e.g., to avoid circular dependencies), we begin our proof of<br><strong id=\"real_field\">real_field:</strong> <a class=\"ProveItLink\" href=\"../../../__pv_it/theorems/2eb3c2a945444f4d2b3aa86c3afa3c6a6bbd7d3f0/expr.ipynb\"><img src=\"data:image/png;base64,iVBORw0KGgoAAAANSUhEUgAAAI8AAAAdBAMAAABh4yLoAAAAMFBMVEX///8AAAAAAAAAAAAAAAAA\n",
       "AAAAAAAAAAAAAAAAAAAAAAAAAAAAAAAAAAAAAAAAAAAv3aB7AAAAD3RSTlMAZs3vu90iq0QQiTKZ\n",
       "VHZ+Ip2vAAAACXBIWXMAAA7EAAAOxAGVKw4bAAACZ0lEQVRIx+WUTWjUUBDHJ9vkbbLZLLviyc+I\n",
       "FGlBKrTSLiK8g9Z6qULJTWmgFqH0EPxaj8WL4EGjFEQRq5fWgyyLq3ir61VFpEdPi6igBbG2xT20\n",
       "4Lz3kk2ymyKGvflgh30zL7/8581MABIsO86xbeBU90D+nzi5D62em8zQ83B9uxvx65f7S5fGijAh\n",
       "XvBskNkvQ374YzuaHaRTIOtONKCu4e8I3KqJ7QFmSMMLama7yB4BytotMfIbzW7QvO0Jbn1QlutU\n",
       "I9exywdRsf9sWWYT9LB5LArq4taoh0FdLgel74nUrn0LFBE3twVoKQaUynPQ8yVeUNITSk2ygex3\n",
       "gLx/ykGZ8nIDFvd8wuCbGFAGldCJ7nWhJGWHQJO4STlQtXMmgrSjkGloFBQM7osBSSZTVLjj6Qsu\n",
       "e7XUhyDZgTMAmwiSTayaWgSW7tkYkHGIgeTbogJVCxf1FGU5SF8B6EXQXB20BoyPMs3YT1nLGjts\n",
       "WeJm51CN/pOB9NpJ7pkNl9/gIGOjUNiJoFccdH98Q4AiihTsNpUrgrfnhCfaR1zRpqgaV0Rc2FvZ\n",
       "IrXTHDTLWxxy9TYQ4HSoCEpRvCN8No0HR0Mgf7QkvBE6DVJ+hG8PNodtTYAoVGdgHkFkCNIrRhFk\n",
       "THghAGm//G5/xKZ/GI718YG+OyLeoF9YLWEO+sVBl7z7br/svwIPysvrV8s/nmD0RUiR5UlSZqIz\n",
       "duO4Zf71K6JUApDhgSaTfNakWjC0Gc/3OgkIhoO/3mATmggU9Bt4dZbtRCBSb/V8hf9nLe7oDEd3\n",
       "5M6A5EqHMlNcrTMg9XEh8bN/AMRomvk+H+ZjAAAAAElFTkSuQmCC\n",
       "\" style=\"display:inline;vertical-align:middle;\" /></a><br>(see <a class=\"ProveItLink\" href=\"../../../__pv_it/theorems/229e15d47421fe0b728f2d860dbb01d093f12aab0/dependencies.ipynb\">dependencies</a>)<br>"
      ],
      "text/plain": [
       "<IPython.core.display.HTML object>"
      ]
     },
     "metadata": {},
     "output_type": "display_data"
    }
   ],
   "source": [
    "%proving real_field"
   ]
  },
  {
   "cell_type": "code",
   "execution_count": null,
   "metadata": {},
   "outputs": [],
   "source": []
  }
 ],
 "metadata": {
  "kernelspec": {
   "display_name": "Python 3",
   "language": "python",
   "name": "python3"
  }
 },
 "nbformat": 4,
 "nbformat_minor": 0
}