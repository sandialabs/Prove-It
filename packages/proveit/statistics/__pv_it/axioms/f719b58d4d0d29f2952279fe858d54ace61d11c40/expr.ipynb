{
 "cells": [
  {
   "cell_type": "markdown",
   "metadata": {},
   "source": [
    "Expression of type <a class=\"ProveItLink\" href=\"../../../../../../doc/html/api/proveit.logic.Forall.html\">Forall</a>\n",
    "=======================\n",
    "# from the theory of <a class=\"ProveItLink\" href=\"../../../_theory_nbs_/theory.ipynb\">proveit.statistics</a>"
   ]
  },
  {
   "cell_type": "code",
   "execution_count": 1,
   "metadata": {},
   "outputs": [],
   "source": [
    "import proveit\n",
    "# Automation is not needed when building an expression:\n",
    "proveit.defaults.automation = False # This will speed things up.\n",
    "proveit.defaults.inline_pngs = False # Makes files smaller.\n",
    "%load_expr # Load the stored expression as 'stored_expr'\n",
    "# import Expression classes needed to build the expression\n",
    "from proveit import Q, Qx, X, fx, x\n",
    "from proveit.logic import Equals, Forall, SetOfAll\n",
    "from proveit.statistics import Prob, ProbOfAll"
   ]
  },
  {
   "cell_type": "code",
   "execution_count": 2,
   "metadata": {},
   "outputs": [
    {
     "data": {
      "text/html": [
       "<strong id=\"expr\">expr:</strong> <a class=\"ProveItLink\" href=\"expr.ipynb\"><img src=\"expr.png\" style=\"display:inline;vertical-align:middle;\" /></a><br>"
      ],
      "text/plain": [
       "<IPython.core.display.HTML object>"
      ]
     },
     "metadata": {},
     "output_type": "display_data"
    }
   ],
   "source": [
    "# build up the expression from sub-expressions\n",
    "sub_expr1 = [x]\n",
    "expr = Forall(instance_param_or_params = [Q], instance_expr = Equals(ProbOfAll(instance_param_or_params = sub_expr1, instance_element = fx, domain = X, condition = Qx), Prob(SetOfAll(instance_param_or_params = sub_expr1, instance_element = fx, domain = X, condition = Qx))).with_wrapping_at(2))"
   ]
  },
  {
   "cell_type": "code",
   "execution_count": 3,
   "metadata": {},
   "outputs": [
    {
     "name": "stdout",
     "output_type": "stream",
     "text": [
      "Passed sanity check: expr matches stored_expr\n"
     ]
    }
   ],
   "source": [
    "# check that the built expression is the same as the stored expression\n",
    "assert expr == stored_expr\n",
    "assert expr._style_id == stored_expr._style_id\n",
    "print(\"Passed sanity check: expr matches stored_expr\")"
   ]
  },
  {
   "cell_type": "code",
   "execution_count": 4,
   "metadata": {},
   "outputs": [
    {
     "name": "stdout",
     "output_type": "stream",
     "text": [
      "\\forall_{Q}~\\left(\\begin{array}{c} \\begin{array}{l} \\left[\\textrm{Prob}_{x \\in X~|~Q\\left(x\\right)}~f\\left(x\\right)\\right] =  \\\\ \\textrm{Pr}\\left(\\left\\{f\\left(x\\right)~|~Q\\left(x\\right)\\right\\}_{x \\in X}\\right) \\end{array} \\end{array}\\right)\n"
     ]
    }
   ],
   "source": [
    "# Show the LaTeX representation of the expression for convenience if you need it.\n",
    "print(stored_expr.latex())"
   ]
  },
  {
   "cell_type": "code",
   "execution_count": 5,
   "metadata": {},
   "outputs": [
    {
     "data": {
      "text/html": [
       "<table>\n",
       "<tr><th>name</th><th>description</th><th>default</th><th>current value</th><th>related methods</th></tr><tr><td>with_wrapping</td><td>If 'True', wrap the Expression after the parameters</td><td>None</td><td>None/False</td><td>('with_wrapping',)</td></tr>\n",
       "<tr><td>condition_wrapping</td><td>Wrap 'before' or 'after' the condition (or None).</td><td>None</td><td>None/False</td><td>('with_wrap_after_condition', 'with_wrap_before_condition')</td></tr>\n",
       "<tr><td>wrap_params</td><td>If 'True', wraps every two parameters AND wraps the Expression after the parameters</td><td>None</td><td>None/False</td><td>('with_params',)</td></tr>\n",
       "<tr><td>justification</td><td>justify to the 'left', 'center', or 'right' in the array cells</td><td>center</td><td>center</td><td>('with_justification',)</td></tr>\n",
       "</table>\n"
      ],
      "text/plain": [
       "style name: with_wrapping\n",
       "description: If 'True', wrap the Expression after the parameters\n",
       "default: None\n",
       "current value: None/False\n",
       "related methods: ('with_wrapping',)\n",
       "style name: condition_wrapping\n",
       "description: Wrap 'before' or 'after' the condition (or None).\n",
       "default: None\n",
       "current value: None/False\n",
       "related methods: ('with_wrap_after_condition', 'with_wrap_before_condition')\n",
       "style name: wrap_params\n",
       "description: If 'True', wraps every two parameters AND wraps the Expression after the parameters\n",
       "default: None\n",
       "current value: None/False\n",
       "related methods: ('with_params',)\n",
       "style name: justification\n",
       "description: justify to the 'left', 'center', or 'right' in the array cells\n",
       "default: center\n",
       "current value: center\n",
       "related methods: ('with_justification',)"
      ]
     },
     "metadata": {},
     "output_type": "display_data"
    }
   ],
   "source": [
    "stored_expr.style_options()"
   ]
  },
  {
   "cell_type": "code",
   "execution_count": 6,
   "metadata": {},
   "outputs": [
    {
     "data": {
      "text/html": [
       "<table><tr><th>&nbsp;</th><th>core type</th><th>sub-expressions</th><th>expression</th></tr>\n",
       "<tr><td>0</td><td>Operation</td><td>operator:&nbsp;1<br>operand:&nbsp;3<br></td><td><a class=\"ProveItLink\" href=\"expr.ipynb\"><img src=\"expr.png\" style=\"display:inline;vertical-align:middle;\" /></a></td></tr>\n",
       "<tr><td>1</td><td>Literal</td><td></td><td><a class=\"ProveItLink\" href=\"../../../../logic/booleans/quantification/universality/__pv_it/common/083d2baa0b8ecab1d230f9ec29a15aa1355809fb0/expr.ipynb\"><img src=\"../../../../logic/booleans/quantification/universality/__pv_it/common/083d2baa0b8ecab1d230f9ec29a15aa1355809fb0/expr.png\" style=\"display:inline;vertical-align:middle;\" /></a></td></tr>\n",
       "<tr><td>2</td><td>ExprTuple</td><td>3</td><td><a class=\"ProveItLink\" href=\"../6584685e59ea2c71460c68f187b28c0907018ebc0/expr.ipynb\"><img src=\"../6584685e59ea2c71460c68f187b28c0907018ebc0/expr.png\" style=\"display:inline;vertical-align:middle;\" /></a></td></tr>\n",
       "<tr><td>3</td><td>Lambda</td><td>parameter:&nbsp;27<br>body:&nbsp;5<br></td><td><a class=\"ProveItLink\" href=\"../6f1373fd5a2b26a8c3cc814bab76163dae5df0160/expr.ipynb\"><img src=\"../6f1373fd5a2b26a8c3cc814bab76163dae5df0160/expr.png\" style=\"display:inline;vertical-align:middle;\" /></a></td></tr>\n",
       "<tr><td>4</td><td>ExprTuple</td><td>27</td><td><a class=\"ProveItLink\" href=\"../92b02aec7909c43346a0a1172b5a3a4974653fc70/expr.ipynb\"><img src=\"../92b02aec7909c43346a0a1172b5a3a4974653fc70/expr.png\" style=\"display:inline;vertical-align:middle;\" /></a></td></tr>\n",
       "<tr><td>5</td><td>Operation</td><td>operator:&nbsp;6<br>operands:&nbsp;7<br></td><td><a class=\"ProveItLink\" href=\"../76c60ae348f14da454716f6b03477891e9fcffc20/expr.ipynb\"><img src=\"../76c60ae348f14da454716f6b03477891e9fcffc20/expr.png\" style=\"display:inline;vertical-align:middle;\" /></a></td></tr>\n",
       "<tr><td>6</td><td>Literal</td><td></td><td><a class=\"ProveItLink\" href=\"../../../../logic/equality/__pv_it/common/fb96dc12b2aa8801dda64d0132b396c63d1502bb0/expr.ipynb\"><img src=\"../../../../logic/equality/__pv_it/common/fb96dc12b2aa8801dda64d0132b396c63d1502bb0/expr.png\" style=\"display:inline;vertical-align:middle;\" /></a></td></tr>\n",
       "<tr><td>7</td><td>ExprTuple</td><td>8, 9</td><td><a class=\"ProveItLink\" href=\"../cc28452c21345906945fb78ec6fb256a5442f6be0/expr.ipynb\"><img src=\"../cc28452c21345906945fb78ec6fb256a5442f6be0/expr.png\" style=\"display:inline;vertical-align:middle;\" /></a></td></tr>\n",
       "<tr><td>8</td><td>Operation</td><td>operator:&nbsp;10<br>operand:&nbsp;16<br></td><td><a class=\"ProveItLink\" href=\"../c9eba1a56b08c45cb7c20a06998468fa04e98ae00/expr.ipynb\"><img src=\"../c9eba1a56b08c45cb7c20a06998468fa04e98ae00/expr.png\" style=\"display:inline;vertical-align:middle;\" /></a></td></tr>\n",
       "<tr><td>9</td><td>Operation</td><td>operator:&nbsp;11<br>operand:&nbsp;13<br></td><td><a class=\"ProveItLink\" href=\"../49dbec1c2eb1d0db1abc3218cde34f3c13d0db380/expr.ipynb\"><img src=\"../49dbec1c2eb1d0db1abc3218cde34f3c13d0db380/expr.png\" style=\"display:inline;vertical-align:middle;\" /></a></td></tr>\n",
       "<tr><td>10</td><td>Literal</td><td></td><td><a class=\"ProveItLink\" href=\"../../common/bf8e6ae6a9b0a51a97b3e4d62d4b2c23d653c7080/expr.ipynb\"><img src=\"../../common/bf8e6ae6a9b0a51a97b3e4d62d4b2c23d653c7080/expr.png\" style=\"display:inline;vertical-align:middle;\" /></a></td></tr>\n",
       "<tr><td>11</td><td>Literal</td><td></td><td><a class=\"ProveItLink\" href=\"../../common/088e9f40f9e6ba1dcc7d39fd35fd8d244261148e0/expr.ipynb\"><img src=\"../../common/088e9f40f9e6ba1dcc7d39fd35fd8d244261148e0/expr.png\" style=\"display:inline;vertical-align:middle;\" /></a></td></tr>\n",
       "<tr><td>12</td><td>ExprTuple</td><td>13</td><td><a class=\"ProveItLink\" href=\"../cb0ad8058afbebe37904cf377be969d00d6af9c40/expr.ipynb\"><img src=\"../cb0ad8058afbebe37904cf377be969d00d6af9c40/expr.png\" style=\"display:inline;vertical-align:middle;\" /></a></td></tr>\n",
       "<tr><td>13</td><td>Operation</td><td>operator:&nbsp;14<br>operand:&nbsp;16<br></td><td><a class=\"ProveItLink\" href=\"../da61117c963b9c85564c8ff304e884456240b5020/expr.ipynb\"><img src=\"../da61117c963b9c85564c8ff304e884456240b5020/expr.png\" style=\"display:inline;vertical-align:middle;\" /></a></td></tr>\n",
       "<tr><td>14</td><td>Literal</td><td></td><td><a class=\"ProveItLink\" href=\"../../../../logic/sets/comprehension/__pv_it/common/b4bb00fffb81c35677d73fdf9e971725e2b59ae40/expr.ipynb\"><img src=\"../../../../logic/sets/comprehension/__pv_it/common/b4bb00fffb81c35677d73fdf9e971725e2b59ae40/expr.png\" style=\"display:inline;vertical-align:middle;\" /></a></td></tr>\n",
       "<tr><td>15</td><td>ExprTuple</td><td>16</td><td><a class=\"ProveItLink\" href=\"../ca629072ef198841d7162dc96d2c6284b35aa8200/expr.ipynb\"><img src=\"../ca629072ef198841d7162dc96d2c6284b35aa8200/expr.png\" style=\"display:inline;vertical-align:middle;\" /></a></td></tr>\n",
       "<tr><td>16</td><td>Lambda</td><td>parameter:&nbsp;30<br>body:&nbsp;17<br></td><td><a class=\"ProveItLink\" href=\"../eee4bc2b42417a7915e2a7d64c9ba5d9eb68cd480/expr.ipynb\"><img src=\"../eee4bc2b42417a7915e2a7d64c9ba5d9eb68cd480/expr.png\" style=\"display:inline;vertical-align:middle;\" /></a></td></tr>\n",
       "<tr><td>17</td><td>Conditional</td><td>value:&nbsp;18<br>condition:&nbsp;19<br></td><td><a class=\"ProveItLink\" href=\"../946c6434dfa13d84ebf48c3a094a98eb456a91980/expr.ipynb\"><img src=\"../946c6434dfa13d84ebf48c3a094a98eb456a91980/expr.png\" style=\"display:inline;vertical-align:middle;\" /></a></td></tr>\n",
       "<tr><td>18</td><td>Operation</td><td>operator:&nbsp;20<br>operand:&nbsp;30<br></td><td><a class=\"ProveItLink\" href=\"../../../../__pv_it/common/6774f61458aed4cc9eb250f92b3634f1d09b19a40/expr.ipynb\"><img src=\"../../../../__pv_it/common/6774f61458aed4cc9eb250f92b3634f1d09b19a40/expr.png\" style=\"display:inline;vertical-align:middle;\" /></a></td></tr>\n",
       "<tr><td>19</td><td>Operation</td><td>operator:&nbsp;21<br>operands:&nbsp;22<br></td><td><a class=\"ProveItLink\" href=\"../69e96f247a784a11d2257e82342ee6cdff363b710/expr.ipynb\"><img src=\"../69e96f247a784a11d2257e82342ee6cdff363b710/expr.png\" style=\"display:inline;vertical-align:middle;\" /></a></td></tr>\n",
       "<tr><td>20</td><td>Variable</td><td></td><td><a class=\"ProveItLink\" href=\"../../../../__pv_it/common/01b6dbb444a31fc38af4c2379badef6c75b363710/expr.ipynb\"><img src=\"../../../../__pv_it/common/01b6dbb444a31fc38af4c2379badef6c75b363710/expr.png\" style=\"display:inline;vertical-align:middle;\" /></a></td></tr>\n",
       "<tr><td>21</td><td>Literal</td><td></td><td><a class=\"ProveItLink\" href=\"../../../../logic/booleans/conjunction/__pv_it/common/42118ff318bd65d98b1393f64ce7c2269feef76e0/expr.ipynb\"><img src=\"../../../../logic/booleans/conjunction/__pv_it/common/42118ff318bd65d98b1393f64ce7c2269feef76e0/expr.png\" style=\"display:inline;vertical-align:middle;\" /></a></td></tr>\n",
       "<tr><td>22</td><td>ExprTuple</td><td>23, 24</td><td><a class=\"ProveItLink\" href=\"../daaf6703b436a016052e985c5a27d7142a77ebc10/expr.ipynb\"><img src=\"../daaf6703b436a016052e985c5a27d7142a77ebc10/expr.png\" style=\"display:inline;vertical-align:middle;\" /></a></td></tr>\n",
       "<tr><td>23</td><td>Operation</td><td>operator:&nbsp;25<br>operands:&nbsp;26<br></td><td><a class=\"ProveItLink\" href=\"../720b39d5ad9fe4b7c0ee2e3ece48cef19dcc3e670/expr.ipynb\"><img src=\"../720b39d5ad9fe4b7c0ee2e3ece48cef19dcc3e670/expr.png\" style=\"display:inline;vertical-align:middle;\" /></a></td></tr>\n",
       "<tr><td>24</td><td>Operation</td><td>operator:&nbsp;27<br>operand:&nbsp;30<br></td><td><a class=\"ProveItLink\" href=\"../../../../__pv_it/common/fce49534291e406d3d43684e225f1a2779a61f030/expr.ipynb\"><img src=\"../../../../__pv_it/common/fce49534291e406d3d43684e225f1a2779a61f030/expr.png\" style=\"display:inline;vertical-align:middle;\" /></a></td></tr>\n",
       "<tr><td>25</td><td>Literal</td><td></td><td><a class=\"ProveItLink\" href=\"../../../../logic/sets/membership/__pv_it/common/477487d8796864d23d5810f83761435f25167f690/expr.ipynb\"><img src=\"../../../../logic/sets/membership/__pv_it/common/477487d8796864d23d5810f83761435f25167f690/expr.png\" style=\"display:inline;vertical-align:middle;\" /></a></td></tr>\n",
       "<tr><td>26</td><td>ExprTuple</td><td>30, 29</td><td><a class=\"ProveItLink\" href=\"../1fffd71440076631b1c486124d18ce673ceec6d60/expr.ipynb\"><img src=\"../1fffd71440076631b1c486124d18ce673ceec6d60/expr.png\" style=\"display:inline;vertical-align:middle;\" /></a></td></tr>\n",
       "<tr><td>27</td><td>Variable</td><td></td><td><a class=\"ProveItLink\" href=\"../../../../__pv_it/common/d72bb8b07403efe79afab564c36a28e21330e5f90/expr.ipynb\"><img src=\"../../../../__pv_it/common/d72bb8b07403efe79afab564c36a28e21330e5f90/expr.png\" style=\"display:inline;vertical-align:middle;\" /></a></td></tr>\n",
       "<tr><td>28</td><td>ExprTuple</td><td>30</td><td><a class=\"ProveItLink\" href=\"../../../../__pv_it/common/eacfeccc0521684fcb20fe8f5180ac50fca471f20/expr.ipynb\"><img src=\"../../../../__pv_it/common/eacfeccc0521684fcb20fe8f5180ac50fca471f20/expr.png\" style=\"display:inline;vertical-align:middle;\" /></a></td></tr>\n",
       "<tr><td>29</td><td>Variable</td><td></td><td><a class=\"ProveItLink\" href=\"../../../../__pv_it/common/f1ca094affb79f5011ff4d63eb4e121bfbde7f330/expr.ipynb\"><img src=\"../../../../__pv_it/common/f1ca094affb79f5011ff4d63eb4e121bfbde7f330/expr.png\" style=\"display:inline;vertical-align:middle;\" /></a></td></tr>\n",
       "<tr><td>30</td><td>Variable</td><td></td><td><a class=\"ProveItLink\" href=\"../../../../__pv_it/common/a0d9d672aa5e272d907247690c152cc2c6daafb70/expr.ipynb\"><img src=\"../../../../__pv_it/common/a0d9d672aa5e272d907247690c152cc2c6daafb70/expr.png\" style=\"display:inline;vertical-align:middle;\" /></a></td></tr>\n",
       "</table>\n"
      ],
      "text/plain": [
       "0. forall_{Q} ([Prob_{x in X | Q(x)} f(x)] =  \\\\ Pr({f(x) s.t. Q(x)}_{x in X}))\n",
       "   core type: Operation\n",
       "   operator: 1\n",
       "   operand: 3\n",
       "1. forall\n",
       "   core type: Literal\n",
       "   sub-expressions: \n",
       "2. (Q -> ([Prob_{x in X | Q(x)} f(x)] =  \\\\ Pr({f(x) s.t. Q(x)}_{x in X})))\n",
       "   core type: ExprTuple\n",
       "   sub-expressions: 3\n",
       "3. Q -> ([Prob_{x in X | Q(x)} f(x)] =  \\\\ Pr({f(x) s.t. Q(x)}_{x in X}))\n",
       "   core type: Lambda\n",
       "   parameter: 27\n",
       "   body: 5\n",
       "4. (Q)\n",
       "   core type: ExprTuple\n",
       "   sub-expressions: 27\n",
       "5. [Prob_{x in X | Q(x)} f(x)] =  \\\\ Pr({f(x) s.t. Q(x)}_{x in X})\n",
       "   core type: Operation\n",
       "   operator: 6\n",
       "   operands: 7\n",
       "6. =\n",
       "   core type: Literal\n",
       "   sub-expressions: \n",
       "7. (Prob_{x in X | Q(x)} f(x), Pr({f(x) s.t. Q(x)}_{x in X}))\n",
       "   core type: ExprTuple\n",
       "   sub-expressions: 8, 9\n",
       "8. Prob_{x in X | Q(x)} f(x)\n",
       "   core type: Operation\n",
       "   operator: 10\n",
       "   operand: 16\n",
       "9. Pr({f(x) s.t. Q(x)}_{x in X})\n",
       "   core type: Operation\n",
       "   operator: 11\n",
       "   operand: 13\n",
       "10. Prob\n",
       "    core type: Literal\n",
       "    sub-expressions: \n",
       "11. Pr\n",
       "    core type: Literal\n",
       "    sub-expressions: \n",
       "12. ({f(x) s.t. Q(x)}_{x in X})\n",
       "    core type: ExprTuple\n",
       "    sub-expressions: 13\n",
       "13. {f(x) s.t. Q(x)}_{x in X}\n",
       "    core type: Operation\n",
       "    operator: 14\n",
       "    operand: 16\n",
       "14. SetOfAll\n",
       "    core type: Literal\n",
       "    sub-expressions: \n",
       "15. (x -> {f(x) if x in X ,  Q(x).)\n",
       "    core type: ExprTuple\n",
       "    sub-expressions: 16\n",
       "16. x -> {f(x) if x in X ,  Q(x).\n",
       "    core type: Lambda\n",
       "    parameter: 30\n",
       "    body: 17\n",
       "17. {f(x) if x in X ,  Q(x).\n",
       "    core type: Conditional\n",
       "    value: 18\n",
       "    condition: 19\n",
       "18. f(x)\n",
       "    core type: Operation\n",
       "    operator: 20\n",
       "    operand: 30\n",
       "19. (x in X) and Q(x)\n",
       "    core type: Operation\n",
       "    operator: 21\n",
       "    operands: 22\n",
       "20. f\n",
       "    core type: Variable\n",
       "    sub-expressions: \n",
       "21. and\n",
       "    core type: Literal\n",
       "    sub-expressions: \n",
       "22. (x in X, Q(x))\n",
       "    core type: ExprTuple\n",
       "    sub-expressions: 23, 24\n",
       "23. x in X\n",
       "    core type: Operation\n",
       "    operator: 25\n",
       "    operands: 26\n",
       "24. Q(x)\n",
       "    core type: Operation\n",
       "    operator: 27\n",
       "    operand: 30\n",
       "25. in\n",
       "    core type: Literal\n",
       "    sub-expressions: \n",
       "26. (x, X)\n",
       "    core type: ExprTuple\n",
       "    sub-expressions: 30, 29\n",
       "27. Q\n",
       "    core type: Variable\n",
       "    sub-expressions: \n",
       "28. (x)\n",
       "    core type: ExprTuple\n",
       "    sub-expressions: 30\n",
       "29. X\n",
       "    core type: Variable\n",
       "    sub-expressions: \n",
       "30. x\n",
       "    core type: Variable\n",
       "    sub-expressions: "
      ]
     },
     "metadata": {},
     "output_type": "display_data"
    }
   ],
   "source": [
    "# display the expression information\n",
    "stored_expr.expr_info()"
   ]
  },
  {
   "cell_type": "code",
   "execution_count": null,
   "metadata": {},
   "outputs": [],
   "source": []
  }
 ],
 "metadata": {
  "kernelspec": {
   "display_name": "Python 3",
   "language": "python",
   "name": "python3"
  }
 },
 "nbformat": 4,
 "nbformat_minor": 0
}