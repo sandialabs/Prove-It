{
 "cells": [
  {
   "cell_type": "markdown",
   "metadata": {},
   "source": [
    "Axiom <a class=\"ProveItLink\" href=\"../../../_axioms_.ipynb#event_prob_def\">event_prob_def</a> of type <a class=\"ProveItLink\" href=\"../../../../../../doc/html/api/proveit.logic.Forall.html\">Forall</a>\n",
    "=======================\n",
    "# from the theory of <a class=\"ProveItLink\" href=\"../../../_theory_nbs_/theory.ipynb\">proveit.statistics</a>\n",
    "*** see <a class=\"ProveItLink\" href=\"dependencies.ipynb\">dependencies</a> ***"
   ]
  },
  {
   "cell_type": "code",
   "execution_count": 1,
   "metadata": {},
   "outputs": [],
   "source": [
    "import proveit\n",
    "# Automation is not needed when only building an expression:\n",
    "proveit.defaults.automation = False # This will speed things up.\n",
    "proveit.defaults.inline_pngs = False # Makes files smaller.\n",
    "%load_axiom_expr # Load the stored axiom expression as 'stored_expr'\n",
    "# import the special expression\n",
    "from proveit.statistics import event_prob_def"
   ]
  },
  {
   "cell_type": "code",
   "execution_count": 2,
   "metadata": {},
   "outputs": [
    {
     "name": "stdout",
     "output_type": "stream",
     "text": [
      "Passed sanity check: event_prob_def matches stored_expr\n"
     ]
    }
   ],
   "source": [
    "# check that the built expression is the same as the stored expression\n",
    "assert event_prob_def.expr == stored_expr\n",
    "assert event_prob_def.expr._style_id == stored_expr._style_id\n",
    "print(\"Passed sanity check: event_prob_def matches stored_expr\")"
   ]
  },
  {
   "cell_type": "code",
   "execution_count": 3,
   "metadata": {},
   "outputs": [
    {
     "name": "stdout",
     "output_type": "stream",
     "text": [
      "\\forall_{\\Omega \\underset{{\\scriptscriptstyle c}}{\\in} \\textrm{SampleSpaces}}~\\left[\\forall_{X~|~X \\subseteq \\Omega}~\\left(\\textrm{Pr}\\left(X\\right) = \\left[\\sum_{x \\in X}~\\textrm{Pr}\\left(x\\right)\\right]\\right)\\right]\n"
     ]
    }
   ],
   "source": [
    "# Show the LaTeX representation of the expression for convenience if you need it.\n",
    "print(stored_expr.latex())"
   ]
  },
  {
   "cell_type": "code",
   "execution_count": 4,
   "metadata": {},
   "outputs": [
    {
     "data": {
      "text/html": [
       "<table>\n",
       "<tr><th>name</th><th>description</th><th>default</th><th>current value</th><th>related methods</th></tr><tr><td>with_wrapping</td><td>If 'True', wrap the Expression after the parameters</td><td>None</td><td>None/False</td><td>('with_wrapping',)</td></tr>\n",
       "<tr><td>condition_wrapping</td><td>Wrap 'before' or 'after' the condition (or None).</td><td>None</td><td>None/False</td><td>('with_wrap_after_condition', 'with_wrap_before_condition')</td></tr>\n",
       "<tr><td>wrap_params</td><td>If 'True', wraps every two parameters AND wraps the Expression after the parameters</td><td>None</td><td>None/False</td><td>('with_params',)</td></tr>\n",
       "<tr><td>justification</td><td>justify to the 'left', 'center', or 'right' in the array cells</td><td>center</td><td>center</td><td>('with_justification',)</td></tr>\n",
       "</table>\n"
      ],
      "text/plain": [
       "style name: with_wrapping\n",
       "description: If 'True', wrap the Expression after the parameters\n",
       "default: None\n",
       "current value: None/False\n",
       "related methods: ('with_wrapping',)\n",
       "style name: condition_wrapping\n",
       "description: Wrap 'before' or 'after' the condition (or None).\n",
       "default: None\n",
       "current value: None/False\n",
       "related methods: ('with_wrap_after_condition', 'with_wrap_before_condition')\n",
       "style name: wrap_params\n",
       "description: If 'True', wraps every two parameters AND wraps the Expression after the parameters\n",
       "default: None\n",
       "current value: None/False\n",
       "related methods: ('with_params',)\n",
       "style name: justification\n",
       "description: justify to the 'left', 'center', or 'right' in the array cells\n",
       "default: center\n",
       "current value: center\n",
       "related methods: ('with_justification',)"
      ]
     },
     "metadata": {},
     "output_type": "display_data"
    }
   ],
   "source": [
    "stored_expr.style_options()"
   ]
  },
  {
   "cell_type": "code",
   "execution_count": 5,
   "metadata": {},
   "outputs": [
    {
     "data": {
      "text/html": [
       "<table><tr><th>&nbsp;</th><th>core type</th><th>sub-expressions</th><th>expression</th></tr>\n",
       "<tr><td>0</td><td>Operation</td><td>operator:&nbsp;7<br>operand:&nbsp;2<br></td><td><a class=\"ProveItLink\" href=\"../cddbd49054333ed7ddfd19c90c1784ac366096e60/expr.ipynb\"><img src=\"../cddbd49054333ed7ddfd19c90c1784ac366096e60/expr.png\" style=\"display:inline;vertical-align:middle;\" /></a></td></tr>\n",
       "<tr><td>1</td><td>ExprTuple</td><td>2</td><td><a class=\"ProveItLink\" href=\"../9104de0502371d8ed5b6628cfeea248477fdd4bf0/expr.ipynb\"><img src=\"../9104de0502371d8ed5b6628cfeea248477fdd4bf0/expr.png\" style=\"display:inline;vertical-align:middle;\" /></a></td></tr>\n",
       "<tr><td>2</td><td>Lambda</td><td>parameter:&nbsp;22<br>body:&nbsp;4<br></td><td><a class=\"ProveItLink\" href=\"../26482ad691fc4f81a42eef5cee90fc42d5cb1a520/expr.ipynb\"><img src=\"../26482ad691fc4f81a42eef5cee90fc42d5cb1a520/expr.png\" style=\"display:inline;vertical-align:middle;\" /></a></td></tr>\n",
       "<tr><td>3</td><td>ExprTuple</td><td>22</td><td><a class=\"ProveItLink\" href=\"../7f05719e200e5d8f5df133bdeeac4b7660b34b7a0/expr.ipynb\"><img src=\"../7f05719e200e5d8f5df133bdeeac4b7660b34b7a0/expr.png\" style=\"display:inline;vertical-align:middle;\" /></a></td></tr>\n",
       "<tr><td>4</td><td>Conditional</td><td>value:&nbsp;5<br>condition:&nbsp;6<br></td><td><a class=\"ProveItLink\" href=\"../b46ca8c2721c7a6f1afe5e18cc9a34f67bc8ad880/expr.ipynb\"><img src=\"../b46ca8c2721c7a6f1afe5e18cc9a34f67bc8ad880/expr.png\" style=\"display:inline;vertical-align:middle;\" /></a></td></tr>\n",
       "<tr><td>5</td><td>Operation</td><td>operator:&nbsp;7<br>operand:&nbsp;11<br></td><td><a class=\"ProveItLink\" href=\"../9bfede838ef3839f4c03d60230602f4f661a50910/expr.ipynb\"><img src=\"../9bfede838ef3839f4c03d60230602f4f661a50910/expr.png\" style=\"display:inline;vertical-align:middle;\" /></a></td></tr>\n",
       "<tr><td>6</td><td>Operation</td><td>operator:&nbsp;9<br>operands:&nbsp;10<br></td><td><a class=\"ProveItLink\" href=\"../86c8e5a752d42e6282b9a224508934c5532363370/expr.ipynb\"><img src=\"../86c8e5a752d42e6282b9a224508934c5532363370/expr.png\" style=\"display:inline;vertical-align:middle;\" /></a></td></tr>\n",
       "<tr><td>7</td><td>Literal</td><td></td><td><a class=\"ProveItLink\" href=\"../../../../logic/booleans/quantification/universality/__pv_it/common/083d2baa0b8ecab1d230f9ec29a15aa1355809fb0/expr.ipynb\"><img src=\"../../../../logic/booleans/quantification/universality/__pv_it/common/083d2baa0b8ecab1d230f9ec29a15aa1355809fb0/expr.png\" style=\"display:inline;vertical-align:middle;\" /></a></td></tr>\n",
       "<tr><td>8</td><td>ExprTuple</td><td>11</td><td><a class=\"ProveItLink\" href=\"../c1784d03c536253bf810588b35e11ae64dc1c1c20/expr.ipynb\"><img src=\"../c1784d03c536253bf810588b35e11ae64dc1c1c20/expr.png\" style=\"display:inline;vertical-align:middle;\" /></a></td></tr>\n",
       "<tr><td>9</td><td>Literal</td><td></td><td><a class=\"ProveItLink\" href=\"../../../../logic/classes/membership/__pv_it/common/e3b437d28fbe17f0a50c9789c7c9b47a1270f1420/expr.ipynb\"><img src=\"../../../../logic/classes/membership/__pv_it/common/e3b437d28fbe17f0a50c9789c7c9b47a1270f1420/expr.png\" style=\"display:inline;vertical-align:middle;\" /></a></td></tr>\n",
       "<tr><td>10</td><td>ExprTuple</td><td>22, 12</td><td><a class=\"ProveItLink\" href=\"../2db67d9839bbcca5b61576b051f6210971e6b4460/expr.ipynb\"><img src=\"../2db67d9839bbcca5b61576b051f6210971e6b4460/expr.png\" style=\"display:inline;vertical-align:middle;\" /></a></td></tr>\n",
       "<tr><td>11</td><td>Lambda</td><td>parameter:&nbsp;35<br>body:&nbsp;13<br></td><td><a class=\"ProveItLink\" href=\"../eeee108fad5b17942d86efa193d71e1052b663d80/expr.ipynb\"><img src=\"../eeee108fad5b17942d86efa193d71e1052b663d80/expr.png\" style=\"display:inline;vertical-align:middle;\" /></a></td></tr>\n",
       "<tr><td>12</td><td>Literal</td><td></td><td><a class=\"ProveItLink\" href=\"../../common/b8cb4b48bfd38c392abbbe6b1d73ed28fe3180d20/expr.ipynb\"><img src=\"../../common/b8cb4b48bfd38c392abbbe6b1d73ed28fe3180d20/expr.png\" style=\"display:inline;vertical-align:middle;\" /></a></td></tr>\n",
       "<tr><td>13</td><td>Conditional</td><td>value:&nbsp;14<br>condition:&nbsp;15<br></td><td><a class=\"ProveItLink\" href=\"../d5533906a9a0b46d027da68937766dc9ed2888100/expr.ipynb\"><img src=\"../d5533906a9a0b46d027da68937766dc9ed2888100/expr.png\" style=\"display:inline;vertical-align:middle;\" /></a></td></tr>\n",
       "<tr><td>14</td><td>Operation</td><td>operator:&nbsp;16<br>operands:&nbsp;17<br></td><td><a class=\"ProveItLink\" href=\"../598c2506af70e18e9adf2f8505931b78853a78e70/expr.ipynb\"><img src=\"../598c2506af70e18e9adf2f8505931b78853a78e70/expr.png\" style=\"display:inline;vertical-align:middle;\" /></a></td></tr>\n",
       "<tr><td>15</td><td>Operation</td><td>operator:&nbsp;18<br>operands:&nbsp;19<br></td><td><a class=\"ProveItLink\" href=\"../2f2633cab85af6f8cf8e0c20e9ce87f53d00022d0/expr.ipynb\"><img src=\"../2f2633cab85af6f8cf8e0c20e9ce87f53d00022d0/expr.png\" style=\"display:inline;vertical-align:middle;\" /></a></td></tr>\n",
       "<tr><td>16</td><td>Literal</td><td></td><td><a class=\"ProveItLink\" href=\"../../../../logic/equality/__pv_it/common/fb96dc12b2aa8801dda64d0132b396c63d1502bb0/expr.ipynb\"><img src=\"../../../../logic/equality/__pv_it/common/fb96dc12b2aa8801dda64d0132b396c63d1502bb0/expr.png\" style=\"display:inline;vertical-align:middle;\" /></a></td></tr>\n",
       "<tr><td>17</td><td>ExprTuple</td><td>20, 21</td><td><a class=\"ProveItLink\" href=\"../4fb73bc3bdc8095c1b2983495454edb758d0e6a20/expr.ipynb\"><img src=\"../4fb73bc3bdc8095c1b2983495454edb758d0e6a20/expr.png\" style=\"display:inline;vertical-align:middle;\" /></a></td></tr>\n",
       "<tr><td>18</td><td>Literal</td><td></td><td><a class=\"ProveItLink\" href=\"../../../../logic/sets/inclusion/__pv_it/common/af21bfd7d93759eac7fe399a50aaac31ae45d8cf0/expr.ipynb\"><img src=\"../../../../logic/sets/inclusion/__pv_it/common/af21bfd7d93759eac7fe399a50aaac31ae45d8cf0/expr.png\" style=\"display:inline;vertical-align:middle;\" /></a></td></tr>\n",
       "<tr><td>19</td><td>ExprTuple</td><td>35, 22</td><td><a class=\"ProveItLink\" href=\"../02af9459b2aaaa91976fdc4aa8f76da01b6187070/expr.ipynb\"><img src=\"../02af9459b2aaaa91976fdc4aa8f76da01b6187070/expr.png\" style=\"display:inline;vertical-align:middle;\" /></a></td></tr>\n",
       "<tr><td>20</td><td>Operation</td><td>operator:&nbsp;30<br>operand:&nbsp;35<br></td><td><a class=\"ProveItLink\" href=\"../90d92ecf820ad9fcf494b713c1e114cb2a05fe570/expr.ipynb\"><img src=\"../90d92ecf820ad9fcf494b713c1e114cb2a05fe570/expr.png\" style=\"display:inline;vertical-align:middle;\" /></a></td></tr>\n",
       "<tr><td>21</td><td>Operation</td><td>operator:&nbsp;24<br>operand:&nbsp;26<br></td><td><a class=\"ProveItLink\" href=\"../c0c11c2dbe28b013d759ddaec2db20214abc81db0/expr.ipynb\"><img src=\"../c0c11c2dbe28b013d759ddaec2db20214abc81db0/expr.png\" style=\"display:inline;vertical-align:middle;\" /></a></td></tr>\n",
       "<tr><td>22</td><td>Variable</td><td></td><td><a class=\"ProveItLink\" href=\"../../../../__pv_it/common/53406c163510d898bbe57aa9c808cb4fce1aa1e40/expr.ipynb\"><img src=\"../../../../__pv_it/common/53406c163510d898bbe57aa9c808cb4fce1aa1e40/expr.png\" style=\"display:inline;vertical-align:middle;\" /></a></td></tr>\n",
       "<tr><td>23</td><td>ExprTuple</td><td>35</td><td><a class=\"ProveItLink\" href=\"../db9f0ed68786c332572391edc1a73892f9a9c8f90/expr.ipynb\"><img src=\"../db9f0ed68786c332572391edc1a73892f9a9c8f90/expr.png\" style=\"display:inline;vertical-align:middle;\" /></a></td></tr>\n",
       "<tr><td>24</td><td>Literal</td><td></td><td><a class=\"ProveItLink\" href=\"../../../../numbers/summation/__pv_it/common/14fe61cccc388f91dfd83d3ca31cf27448cc070a0/expr.ipynb\"><img src=\"../../../../numbers/summation/__pv_it/common/14fe61cccc388f91dfd83d3ca31cf27448cc070a0/expr.png\" style=\"display:inline;vertical-align:middle;\" /></a></td></tr>\n",
       "<tr><td>25</td><td>ExprTuple</td><td>26</td><td><a class=\"ProveItLink\" href=\"../e1d51d0548d1caea0d0342270ec908ff077bc65c0/expr.ipynb\"><img src=\"../e1d51d0548d1caea0d0342270ec908ff077bc65c0/expr.png\" style=\"display:inline;vertical-align:middle;\" /></a></td></tr>\n",
       "<tr><td>26</td><td>Lambda</td><td>parameter:&nbsp;34<br>body:&nbsp;27<br></td><td><a class=\"ProveItLink\" href=\"../fed441a24ecac8ee8ac8dad34da25fd8fa3266200/expr.ipynb\"><img src=\"../fed441a24ecac8ee8ac8dad34da25fd8fa3266200/expr.png\" style=\"display:inline;vertical-align:middle;\" /></a></td></tr>\n",
       "<tr><td>27</td><td>Conditional</td><td>value:&nbsp;28<br>condition:&nbsp;29<br></td><td><a class=\"ProveItLink\" href=\"../3302ebde567350cc74d7b650fb84fb634ef4410e0/expr.ipynb\"><img src=\"../3302ebde567350cc74d7b650fb84fb634ef4410e0/expr.png\" style=\"display:inline;vertical-align:middle;\" /></a></td></tr>\n",
       "<tr><td>28</td><td>Operation</td><td>operator:&nbsp;30<br>operand:&nbsp;34<br></td><td><a class=\"ProveItLink\" href=\"../a7421d34bd1f55e896b096d3cb6a69bc4d65d7220/expr.ipynb\"><img src=\"../a7421d34bd1f55e896b096d3cb6a69bc4d65d7220/expr.png\" style=\"display:inline;vertical-align:middle;\" /></a></td></tr>\n",
       "<tr><td>29</td><td>Operation</td><td>operator:&nbsp;32<br>operands:&nbsp;33<br></td><td><a class=\"ProveItLink\" href=\"../720b39d5ad9fe4b7c0ee2e3ece48cef19dcc3e670/expr.ipynb\"><img src=\"../720b39d5ad9fe4b7c0ee2e3ece48cef19dcc3e670/expr.png\" style=\"display:inline;vertical-align:middle;\" /></a></td></tr>\n",
       "<tr><td>30</td><td>Literal</td><td></td><td><a class=\"ProveItLink\" href=\"../../common/088e9f40f9e6ba1dcc7d39fd35fd8d244261148e0/expr.ipynb\"><img src=\"../../common/088e9f40f9e6ba1dcc7d39fd35fd8d244261148e0/expr.png\" style=\"display:inline;vertical-align:middle;\" /></a></td></tr>\n",
       "<tr><td>31</td><td>ExprTuple</td><td>34</td><td><a class=\"ProveItLink\" href=\"../../../../__pv_it/common/eacfeccc0521684fcb20fe8f5180ac50fca471f20/expr.ipynb\"><img src=\"../../../../__pv_it/common/eacfeccc0521684fcb20fe8f5180ac50fca471f20/expr.png\" style=\"display:inline;vertical-align:middle;\" /></a></td></tr>\n",
       "<tr><td>32</td><td>Literal</td><td></td><td><a class=\"ProveItLink\" href=\"../../../../logic/sets/membership/__pv_it/common/477487d8796864d23d5810f83761435f25167f690/expr.ipynb\"><img src=\"../../../../logic/sets/membership/__pv_it/common/477487d8796864d23d5810f83761435f25167f690/expr.png\" style=\"display:inline;vertical-align:middle;\" /></a></td></tr>\n",
       "<tr><td>33</td><td>ExprTuple</td><td>34, 35</td><td><a class=\"ProveItLink\" href=\"../1fffd71440076631b1c486124d18ce673ceec6d60/expr.ipynb\"><img src=\"../1fffd71440076631b1c486124d18ce673ceec6d60/expr.png\" style=\"display:inline;vertical-align:middle;\" /></a></td></tr>\n",
       "<tr><td>34</td><td>Variable</td><td></td><td><a class=\"ProveItLink\" href=\"../../../../__pv_it/common/a0d9d672aa5e272d907247690c152cc2c6daafb70/expr.ipynb\"><img src=\"../../../../__pv_it/common/a0d9d672aa5e272d907247690c152cc2c6daafb70/expr.png\" style=\"display:inline;vertical-align:middle;\" /></a></td></tr>\n",
       "<tr><td>35</td><td>Variable</td><td></td><td><a class=\"ProveItLink\" href=\"../../../../__pv_it/common/f1ca094affb79f5011ff4d63eb4e121bfbde7f330/expr.ipynb\"><img src=\"../../../../__pv_it/common/f1ca094affb79f5011ff4d63eb4e121bfbde7f330/expr.png\" style=\"display:inline;vertical-align:middle;\" /></a></td></tr>\n",
       "</table>\n"
      ],
      "text/plain": [
       "0. forall_{Omega in_c SampleSpaces} [forall_{X | X subset_eq Omega} (Pr(X) = [Sum_{x in X} Pr(x)])]\n",
       "   core type: Operation\n",
       "   operator: 7\n",
       "   operand: 2\n",
       "1. (Omega -> {forall_{X | X subset_eq Omega} (Pr(X) = [Sum_{x in X} Pr(x)]) if Omega in_c SampleSpaces.)\n",
       "   core type: ExprTuple\n",
       "   sub-expressions: 2\n",
       "2. Omega -> {forall_{X | X subset_eq Omega} (Pr(X) = [Sum_{x in X} Pr(x)]) if Omega in_c SampleSpaces.\n",
       "   core type: Lambda\n",
       "   parameter: 22\n",
       "   body: 4\n",
       "3. (Omega)\n",
       "   core type: ExprTuple\n",
       "   sub-expressions: 22\n",
       "4. {forall_{X | X subset_eq Omega} (Pr(X) = [Sum_{x in X} Pr(x)]) if Omega in_c SampleSpaces.\n",
       "   core type: Conditional\n",
       "   value: 5\n",
       "   condition: 6\n",
       "5. forall_{X | X subset_eq Omega} (Pr(X) = [Sum_{x in X} Pr(x)])\n",
       "   core type: Operation\n",
       "   operator: 7\n",
       "   operand: 11\n",
       "6. Omega in_c SampleSpaces\n",
       "   core type: Operation\n",
       "   operator: 9\n",
       "   operands: 10\n",
       "7. forall\n",
       "   core type: Literal\n",
       "   sub-expressions: \n",
       "8. (X -> {Pr(X) = [Sum_{x in X} Pr(x)] if X subset_eq Omega.)\n",
       "   core type: ExprTuple\n",
       "   sub-expressions: 11\n",
       "9. in_c\n",
       "   core type: Literal\n",
       "   sub-expressions: \n",
       "10. (Omega, SampleSpaces)\n",
       "    core type: ExprTuple\n",
       "    sub-expressions: 22, 12\n",
       "11. X -> {Pr(X) = [Sum_{x in X} Pr(x)] if X subset_eq Omega.\n",
       "    core type: Lambda\n",
       "    parameter: 35\n",
       "    body: 13\n",
       "12. SampleSpaces\n",
       "    core type: Literal\n",
       "    sub-expressions: \n",
       "13. {Pr(X) = [Sum_{x in X} Pr(x)] if X subset_eq Omega.\n",
       "    core type: Conditional\n",
       "    value: 14\n",
       "    condition: 15\n",
       "14. Pr(X) = [Sum_{x in X} Pr(x)]\n",
       "    core type: Operation\n",
       "    operator: 16\n",
       "    operands: 17\n",
       "15. X subset_eq Omega\n",
       "    core type: Operation\n",
       "    operator: 18\n",
       "    operands: 19\n",
       "16. =\n",
       "    core type: Literal\n",
       "    sub-expressions: \n",
       "17. (Pr(X), Sum_{x in X} Pr(x))\n",
       "    core type: ExprTuple\n",
       "    sub-expressions: 20, 21\n",
       "18. subset_eq\n",
       "    core type: Literal\n",
       "    sub-expressions: \n",
       "19. (X, Omega)\n",
       "    core type: ExprTuple\n",
       "    sub-expressions: 35, 22\n",
       "20. Pr(X)\n",
       "    core type: Operation\n",
       "    operator: 30\n",
       "    operand: 35\n",
       "21. Sum_{x in X} Pr(x)\n",
       "    core type: Operation\n",
       "    operator: 24\n",
       "    operand: 26\n",
       "22. Omega\n",
       "    core type: Variable\n",
       "    sub-expressions: \n",
       "23. (X)\n",
       "    core type: ExprTuple\n",
       "    sub-expressions: 35\n",
       "24. Sum\n",
       "    core type: Literal\n",
       "    sub-expressions: \n",
       "25. (x -> {Pr(x) if x in X.)\n",
       "    core type: ExprTuple\n",
       "    sub-expressions: 26\n",
       "26. x -> {Pr(x) if x in X.\n",
       "    core type: Lambda\n",
       "    parameter: 34\n",
       "    body: 27\n",
       "27. {Pr(x) if x in X.\n",
       "    core type: Conditional\n",
       "    value: 28\n",
       "    condition: 29\n",
       "28. Pr(x)\n",
       "    core type: Operation\n",
       "    operator: 30\n",
       "    operand: 34\n",
       "29. x in X\n",
       "    core type: Operation\n",
       "    operator: 32\n",
       "    operands: 33\n",
       "30. Pr\n",
       "    core type: Literal\n",
       "    sub-expressions: \n",
       "31. (x)\n",
       "    core type: ExprTuple\n",
       "    sub-expressions: 34\n",
       "32. in\n",
       "    core type: Literal\n",
       "    sub-expressions: \n",
       "33. (x, X)\n",
       "    core type: ExprTuple\n",
       "    sub-expressions: 34, 35\n",
       "34. x\n",
       "    core type: Variable\n",
       "    sub-expressions: \n",
       "35. X\n",
       "    core type: Variable\n",
       "    sub-expressions: "
      ]
     },
     "metadata": {},
     "output_type": "display_data"
    }
   ],
   "source": [
    "# display the expression information\n",
    "stored_expr.expr_info()"
   ]
  },
  {
   "cell_type": "code",
   "execution_count": null,
   "metadata": {},
   "outputs": [],
   "source": []
  }
 ],
 "metadata": {
  "kernelspec": {
   "display_name": "Python 3",
   "language": "python",
   "name": "python3"
  }
 },
 "nbformat": 4,
 "nbformat_minor": 0
}