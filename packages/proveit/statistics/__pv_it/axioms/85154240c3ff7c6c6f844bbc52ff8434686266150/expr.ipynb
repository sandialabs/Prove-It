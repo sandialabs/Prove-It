{
 "cells": [
  {
   "cell_type": "markdown",
   "metadata": {},
   "source": [
    "Expression of type <a class=\"ProveItLink\" href=\"../../../../../../doc/html/api/proveit.logic.Forall.html\">Forall</a>\n",
    "=======================\n",
    "# from the theory of <a class=\"ProveItLink\" href=\"../../../_theory_nbs_/theory.ipynb\">proveit.statistics</a>"
   ]
  },
  {
   "cell_type": "code",
   "execution_count": 1,
   "metadata": {},
   "outputs": [],
   "source": [
    "import proveit\n",
    "# Automation is not needed when building an expression:\n",
    "proveit.defaults.automation = False # This will speed things up.\n",
    "proveit.defaults.inline_pngs = False # Makes files smaller.\n",
    "%load_expr # Load the stored expression as 'stored_expr'\n",
    "# import Expression classes needed to build the expression\n",
    "from proveit import Omega, Q, Qx, X, f, fx, x\n",
    "from proveit.logic import Equals, Forall, Functions, SetOfAll\n",
    "from proveit.statistics import Prob, ProbOfAll"
   ]
  },
  {
   "cell_type": "code",
   "execution_count": 2,
   "metadata": {},
   "outputs": [
    {
     "data": {
      "text/html": [
       "<strong id=\"expr\">expr:</strong> <a class=\"ProveItLink\" href=\"expr.ipynb\"><img src=\"expr.png\" style=\"display:inline;vertical-align:middle;\" /></a><br>"
      ],
      "text/plain": [
       "<IPython.core.display.HTML object>"
      ]
     },
     "metadata": {},
     "output_type": "display_data"
    }
   ],
   "source": [
    "# build up the expression from sub-expressions\n",
    "sub_expr1 = [x]\n",
    "expr = Forall(instance_param_or_params = [X], instance_expr = Forall(instance_param_or_params = [f], instance_expr = Forall(instance_param_or_params = [Q], instance_expr = Equals(ProbOfAll(instance_param_or_params = sub_expr1, instance_element = fx, domain = X, condition = Qx), Prob(SetOfAll(instance_param_or_params = sub_expr1, instance_element = fx, domain = X, condition = Qx))).with_wrapping_at(2)), domain = Functions(X, Omega)))"
   ]
  },
  {
   "cell_type": "code",
   "execution_count": 3,
   "metadata": {},
   "outputs": [
    {
     "name": "stdout",
     "output_type": "stream",
     "text": [
      "Passed sanity check: expr matches stored_expr\n"
     ]
    }
   ],
   "source": [
    "# check that the built expression is the same as the stored expression\n",
    "assert expr == stored_expr\n",
    "assert expr._style_id == stored_expr._style_id\n",
    "print(\"Passed sanity check: expr matches stored_expr\")"
   ]
  },
  {
   "cell_type": "code",
   "execution_count": 4,
   "metadata": {},
   "outputs": [
    {
     "name": "stdout",
     "output_type": "stream",
     "text": [
      "\\forall_{X}~\\left[\\forall_{f \\in \\left[X \\rightarrow \\Omega\\right]}~\\left[\\forall_{Q}~\\left(\\begin{array}{c} \\begin{array}{l} \\left[\\textrm{Prob}_{x \\in X~|~Q\\left(x\\right)}~f\\left(x\\right)\\right] =  \\\\ \\textrm{Pr}\\left(\\left\\{f\\left(x\\right)~|~Q\\left(x\\right)\\right\\}_{x \\in X}\\right) \\end{array} \\end{array}\\right)\\right]\\right]\n"
     ]
    }
   ],
   "source": [
    "# Show the LaTeX representation of the expression for convenience if you need it.\n",
    "print(stored_expr.latex())"
   ]
  },
  {
   "cell_type": "code",
   "execution_count": 5,
   "metadata": {},
   "outputs": [
    {
     "data": {
      "text/html": [
       "<table>\n",
       "<tr><th>name</th><th>description</th><th>default</th><th>current value</th><th>related methods</th></tr><tr><td>with_wrapping</td><td>If 'True', wrap the Expression after the parameters</td><td>None</td><td>None/False</td><td>('with_wrapping',)</td></tr>\n",
       "<tr><td>condition_wrapping</td><td>Wrap 'before' or 'after' the condition (or None).</td><td>None</td><td>None/False</td><td>('with_wrap_after_condition', 'with_wrap_before_condition')</td></tr>\n",
       "<tr><td>wrap_params</td><td>If 'True', wraps every two parameters AND wraps the Expression after the parameters</td><td>None</td><td>None/False</td><td>('with_params',)</td></tr>\n",
       "<tr><td>justification</td><td>justify to the 'left', 'center', or 'right' in the array cells</td><td>center</td><td>center</td><td>('with_justification',)</td></tr>\n",
       "</table>\n"
      ],
      "text/plain": [
       "style name: with_wrapping\n",
       "description: If 'True', wrap the Expression after the parameters\n",
       "default: None\n",
       "current value: None/False\n",
       "related methods: ('with_wrapping',)\n",
       "style name: condition_wrapping\n",
       "description: Wrap 'before' or 'after' the condition (or None).\n",
       "default: None\n",
       "current value: None/False\n",
       "related methods: ('with_wrap_after_condition', 'with_wrap_before_condition')\n",
       "style name: wrap_params\n",
       "description: If 'True', wraps every two parameters AND wraps the Expression after the parameters\n",
       "default: None\n",
       "current value: None/False\n",
       "related methods: ('with_params',)\n",
       "style name: justification\n",
       "description: justify to the 'left', 'center', or 'right' in the array cells\n",
       "default: center\n",
       "current value: center\n",
       "related methods: ('with_justification',)"
      ]
     },
     "metadata": {},
     "output_type": "display_data"
    }
   ],
   "source": [
    "stored_expr.style_options()"
   ]
  },
  {
   "cell_type": "code",
   "execution_count": 6,
   "metadata": {},
   "outputs": [
    {
     "data": {
      "text/html": [
       "<table><tr><th>&nbsp;</th><th>core type</th><th>sub-expressions</th><th>expression</th></tr>\n",
       "<tr><td>0</td><td>Operation</td><td>operator:&nbsp;11<br>operand:&nbsp;2<br></td><td><a class=\"ProveItLink\" href=\"expr.ipynb\"><img src=\"expr.png\" style=\"display:inline;vertical-align:middle;\" /></a></td></tr>\n",
       "<tr><td>1</td><td>ExprTuple</td><td>2</td><td><a class=\"ProveItLink\" href=\"../876674a84753624e417f613aad662360ffadfd350/expr.ipynb\"><img src=\"../876674a84753624e417f613aad662360ffadfd350/expr.png\" style=\"display:inline;vertical-align:middle;\" /></a></td></tr>\n",
       "<tr><td>2</td><td>Lambda</td><td>parameter:&nbsp;44<br>body:&nbsp;4<br></td><td><a class=\"ProveItLink\" href=\"../95e0ecd7d57a29c8f9625018bd3fcacec336648c0/expr.ipynb\"><img src=\"../95e0ecd7d57a29c8f9625018bd3fcacec336648c0/expr.png\" style=\"display:inline;vertical-align:middle;\" /></a></td></tr>\n",
       "<tr><td>3</td><td>ExprTuple</td><td>44</td><td><a class=\"ProveItLink\" href=\"../db9f0ed68786c332572391edc1a73892f9a9c8f90/expr.ipynb\"><img src=\"../db9f0ed68786c332572391edc1a73892f9a9c8f90/expr.png\" style=\"display:inline;vertical-align:middle;\" /></a></td></tr>\n",
       "<tr><td>4</td><td>Operation</td><td>operator:&nbsp;11<br>operand:&nbsp;6<br></td><td><a class=\"ProveItLink\" href=\"../1ed220c1b12ac1979180fca0f403b224a93f1bb80/expr.ipynb\"><img src=\"../1ed220c1b12ac1979180fca0f403b224a93f1bb80/expr.png\" style=\"display:inline;vertical-align:middle;\" /></a></td></tr>\n",
       "<tr><td>5</td><td>ExprTuple</td><td>6</td><td><a class=\"ProveItLink\" href=\"../c05c676e42ccbe5c28499d833c9db8a0a918a5c70/expr.ipynb\"><img src=\"../c05c676e42ccbe5c28499d833c9db8a0a918a5c70/expr.png\" style=\"display:inline;vertical-align:middle;\" /></a></td></tr>\n",
       "<tr><td>6</td><td>Lambda</td><td>parameter:&nbsp;35<br>body:&nbsp;8<br></td><td><a class=\"ProveItLink\" href=\"../d4e5520562dbaf874cd924b9627503eb9e5b95750/expr.ipynb\"><img src=\"../d4e5520562dbaf874cd924b9627503eb9e5b95750/expr.png\" style=\"display:inline;vertical-align:middle;\" /></a></td></tr>\n",
       "<tr><td>7</td><td>ExprTuple</td><td>35</td><td><a class=\"ProveItLink\" href=\"../dcd60a965dafb827c89a2770706e77d319eb7bb50/expr.ipynb\"><img src=\"../dcd60a965dafb827c89a2770706e77d319eb7bb50/expr.png\" style=\"display:inline;vertical-align:middle;\" /></a></td></tr>\n",
       "<tr><td>8</td><td>Conditional</td><td>value:&nbsp;9<br>condition:&nbsp;10<br></td><td><a class=\"ProveItLink\" href=\"../c6d21e7ac32f709cfca6a40696bf36cf65f973010/expr.ipynb\"><img src=\"../c6d21e7ac32f709cfca6a40696bf36cf65f973010/expr.png\" style=\"display:inline;vertical-align:middle;\" /></a></td></tr>\n",
       "<tr><td>9</td><td>Operation</td><td>operator:&nbsp;11<br>operand:&nbsp;14<br></td><td><a class=\"ProveItLink\" href=\"../f719b58d4d0d29f2952279fe858d54ace61d11c40/expr.ipynb\"><img src=\"../f719b58d4d0d29f2952279fe858d54ace61d11c40/expr.png\" style=\"display:inline;vertical-align:middle;\" /></a></td></tr>\n",
       "<tr><td>10</td><td>Operation</td><td>operator:&nbsp;40<br>operands:&nbsp;13<br></td><td><a class=\"ProveItLink\" href=\"../28c818a1ea911885a366fa1369ab02014685cf920/expr.ipynb\"><img src=\"../28c818a1ea911885a366fa1369ab02014685cf920/expr.png\" style=\"display:inline;vertical-align:middle;\" /></a></td></tr>\n",
       "<tr><td>11</td><td>Literal</td><td></td><td><a class=\"ProveItLink\" href=\"../../../../logic/booleans/quantification/universality/__pv_it/common/083d2baa0b8ecab1d230f9ec29a15aa1355809fb0/expr.ipynb\"><img src=\"../../../../logic/booleans/quantification/universality/__pv_it/common/083d2baa0b8ecab1d230f9ec29a15aa1355809fb0/expr.png\" style=\"display:inline;vertical-align:middle;\" /></a></td></tr>\n",
       "<tr><td>12</td><td>ExprTuple</td><td>14</td><td><a class=\"ProveItLink\" href=\"../6584685e59ea2c71460c68f187b28c0907018ebc0/expr.ipynb\"><img src=\"../6584685e59ea2c71460c68f187b28c0907018ebc0/expr.png\" style=\"display:inline;vertical-align:middle;\" /></a></td></tr>\n",
       "<tr><td>13</td><td>ExprTuple</td><td>35, 15</td><td><a class=\"ProveItLink\" href=\"../3b7361630d61a5b231513d133d51b9d57cd4b3380/expr.ipynb\"><img src=\"../3b7361630d61a5b231513d133d51b9d57cd4b3380/expr.png\" style=\"display:inline;vertical-align:middle;\" /></a></td></tr>\n",
       "<tr><td>14</td><td>Lambda</td><td>parameter:&nbsp;42<br>body:&nbsp;17<br></td><td><a class=\"ProveItLink\" href=\"../6f1373fd5a2b26a8c3cc814bab76163dae5df0160/expr.ipynb\"><img src=\"../6f1373fd5a2b26a8c3cc814bab76163dae5df0160/expr.png\" style=\"display:inline;vertical-align:middle;\" /></a></td></tr>\n",
       "<tr><td>15</td><td>Operation</td><td>operator:&nbsp;18<br>operands:&nbsp;19<br></td><td><a class=\"ProveItLink\" href=\"../dcafb66eb339774dd315f5e3d7738306bc6fedd40/expr.ipynb\"><img src=\"../dcafb66eb339774dd315f5e3d7738306bc6fedd40/expr.png\" style=\"display:inline;vertical-align:middle;\" /></a></td></tr>\n",
       "<tr><td>16</td><td>ExprTuple</td><td>42</td><td><a class=\"ProveItLink\" href=\"../92b02aec7909c43346a0a1172b5a3a4974653fc70/expr.ipynb\"><img src=\"../92b02aec7909c43346a0a1172b5a3a4974653fc70/expr.png\" style=\"display:inline;vertical-align:middle;\" /></a></td></tr>\n",
       "<tr><td>17</td><td>Operation</td><td>operator:&nbsp;20<br>operands:&nbsp;21<br></td><td><a class=\"ProveItLink\" href=\"../76c60ae348f14da454716f6b03477891e9fcffc20/expr.ipynb\"><img src=\"../76c60ae348f14da454716f6b03477891e9fcffc20/expr.png\" style=\"display:inline;vertical-align:middle;\" /></a></td></tr>\n",
       "<tr><td>18</td><td>Literal</td><td></td><td><a class=\"ProveItLink\" href=\"../../../../logic/sets/functions/__pv_it/common/02ebbf96e6abbec25aabdbf00e53179656546f630/expr.ipynb\"><img src=\"../../../../logic/sets/functions/__pv_it/common/02ebbf96e6abbec25aabdbf00e53179656546f630/expr.png\" style=\"display:inline;vertical-align:middle;\" /></a></td></tr>\n",
       "<tr><td>19</td><td>ExprTuple</td><td>44, 22</td><td><a class=\"ProveItLink\" href=\"../02af9459b2aaaa91976fdc4aa8f76da01b6187070/expr.ipynb\"><img src=\"../02af9459b2aaaa91976fdc4aa8f76da01b6187070/expr.png\" style=\"display:inline;vertical-align:middle;\" /></a></td></tr>\n",
       "<tr><td>20</td><td>Literal</td><td></td><td><a class=\"ProveItLink\" href=\"../../../../logic/equality/__pv_it/common/fb96dc12b2aa8801dda64d0132b396c63d1502bb0/expr.ipynb\"><img src=\"../../../../logic/equality/__pv_it/common/fb96dc12b2aa8801dda64d0132b396c63d1502bb0/expr.png\" style=\"display:inline;vertical-align:middle;\" /></a></td></tr>\n",
       "<tr><td>21</td><td>ExprTuple</td><td>23, 24</td><td><a class=\"ProveItLink\" href=\"../cc28452c21345906945fb78ec6fb256a5442f6be0/expr.ipynb\"><img src=\"../cc28452c21345906945fb78ec6fb256a5442f6be0/expr.png\" style=\"display:inline;vertical-align:middle;\" /></a></td></tr>\n",
       "<tr><td>22</td><td>Variable</td><td></td><td><a class=\"ProveItLink\" href=\"../../../../__pv_it/common/53406c163510d898bbe57aa9c808cb4fce1aa1e40/expr.ipynb\"><img src=\"../../../../__pv_it/common/53406c163510d898bbe57aa9c808cb4fce1aa1e40/expr.png\" style=\"display:inline;vertical-align:middle;\" /></a></td></tr>\n",
       "<tr><td>23</td><td>Operation</td><td>operator:&nbsp;25<br>operand:&nbsp;31<br></td><td><a class=\"ProveItLink\" href=\"../c9eba1a56b08c45cb7c20a06998468fa04e98ae00/expr.ipynb\"><img src=\"../c9eba1a56b08c45cb7c20a06998468fa04e98ae00/expr.png\" style=\"display:inline;vertical-align:middle;\" /></a></td></tr>\n",
       "<tr><td>24</td><td>Operation</td><td>operator:&nbsp;26<br>operand:&nbsp;28<br></td><td><a class=\"ProveItLink\" href=\"../49dbec1c2eb1d0db1abc3218cde34f3c13d0db380/expr.ipynb\"><img src=\"../49dbec1c2eb1d0db1abc3218cde34f3c13d0db380/expr.png\" style=\"display:inline;vertical-align:middle;\" /></a></td></tr>\n",
       "<tr><td>25</td><td>Literal</td><td></td><td><a class=\"ProveItLink\" href=\"../../common/bf8e6ae6a9b0a51a97b3e4d62d4b2c23d653c7080/expr.ipynb\"><img src=\"../../common/bf8e6ae6a9b0a51a97b3e4d62d4b2c23d653c7080/expr.png\" style=\"display:inline;vertical-align:middle;\" /></a></td></tr>\n",
       "<tr><td>26</td><td>Literal</td><td></td><td><a class=\"ProveItLink\" href=\"../../common/088e9f40f9e6ba1dcc7d39fd35fd8d244261148e0/expr.ipynb\"><img src=\"../../common/088e9f40f9e6ba1dcc7d39fd35fd8d244261148e0/expr.png\" style=\"display:inline;vertical-align:middle;\" /></a></td></tr>\n",
       "<tr><td>27</td><td>ExprTuple</td><td>28</td><td><a class=\"ProveItLink\" href=\"../cb0ad8058afbebe37904cf377be969d00d6af9c40/expr.ipynb\"><img src=\"../cb0ad8058afbebe37904cf377be969d00d6af9c40/expr.png\" style=\"display:inline;vertical-align:middle;\" /></a></td></tr>\n",
       "<tr><td>28</td><td>Operation</td><td>operator:&nbsp;29<br>operand:&nbsp;31<br></td><td><a class=\"ProveItLink\" href=\"../da61117c963b9c85564c8ff304e884456240b5020/expr.ipynb\"><img src=\"../da61117c963b9c85564c8ff304e884456240b5020/expr.png\" style=\"display:inline;vertical-align:middle;\" /></a></td></tr>\n",
       "<tr><td>29</td><td>Literal</td><td></td><td><a class=\"ProveItLink\" href=\"../../../../logic/sets/comprehension/__pv_it/common/b4bb00fffb81c35677d73fdf9e971725e2b59ae40/expr.ipynb\"><img src=\"../../../../logic/sets/comprehension/__pv_it/common/b4bb00fffb81c35677d73fdf9e971725e2b59ae40/expr.png\" style=\"display:inline;vertical-align:middle;\" /></a></td></tr>\n",
       "<tr><td>30</td><td>ExprTuple</td><td>31</td><td><a class=\"ProveItLink\" href=\"../ca629072ef198841d7162dc96d2c6284b35aa8200/expr.ipynb\"><img src=\"../ca629072ef198841d7162dc96d2c6284b35aa8200/expr.png\" style=\"display:inline;vertical-align:middle;\" /></a></td></tr>\n",
       "<tr><td>31</td><td>Lambda</td><td>parameter:&nbsp;45<br>body:&nbsp;32<br></td><td><a class=\"ProveItLink\" href=\"../eee4bc2b42417a7915e2a7d64c9ba5d9eb68cd480/expr.ipynb\"><img src=\"../eee4bc2b42417a7915e2a7d64c9ba5d9eb68cd480/expr.png\" style=\"display:inline;vertical-align:middle;\" /></a></td></tr>\n",
       "<tr><td>32</td><td>Conditional</td><td>value:&nbsp;33<br>condition:&nbsp;34<br></td><td><a class=\"ProveItLink\" href=\"../946c6434dfa13d84ebf48c3a094a98eb456a91980/expr.ipynb\"><img src=\"../946c6434dfa13d84ebf48c3a094a98eb456a91980/expr.png\" style=\"display:inline;vertical-align:middle;\" /></a></td></tr>\n",
       "<tr><td>33</td><td>Operation</td><td>operator:&nbsp;35<br>operand:&nbsp;45<br></td><td><a class=\"ProveItLink\" href=\"../../../../__pv_it/common/6774f61458aed4cc9eb250f92b3634f1d09b19a40/expr.ipynb\"><img src=\"../../../../__pv_it/common/6774f61458aed4cc9eb250f92b3634f1d09b19a40/expr.png\" style=\"display:inline;vertical-align:middle;\" /></a></td></tr>\n",
       "<tr><td>34</td><td>Operation</td><td>operator:&nbsp;36<br>operands:&nbsp;37<br></td><td><a class=\"ProveItLink\" href=\"../69e96f247a784a11d2257e82342ee6cdff363b710/expr.ipynb\"><img src=\"../69e96f247a784a11d2257e82342ee6cdff363b710/expr.png\" style=\"display:inline;vertical-align:middle;\" /></a></td></tr>\n",
       "<tr><td>35</td><td>Variable</td><td></td><td><a class=\"ProveItLink\" href=\"../../../../__pv_it/common/01b6dbb444a31fc38af4c2379badef6c75b363710/expr.ipynb\"><img src=\"../../../../__pv_it/common/01b6dbb444a31fc38af4c2379badef6c75b363710/expr.png\" style=\"display:inline;vertical-align:middle;\" /></a></td></tr>\n",
       "<tr><td>36</td><td>Literal</td><td></td><td><a class=\"ProveItLink\" href=\"../../../../logic/booleans/conjunction/__pv_it/common/42118ff318bd65d98b1393f64ce7c2269feef76e0/expr.ipynb\"><img src=\"../../../../logic/booleans/conjunction/__pv_it/common/42118ff318bd65d98b1393f64ce7c2269feef76e0/expr.png\" style=\"display:inline;vertical-align:middle;\" /></a></td></tr>\n",
       "<tr><td>37</td><td>ExprTuple</td><td>38, 39</td><td><a class=\"ProveItLink\" href=\"../daaf6703b436a016052e985c5a27d7142a77ebc10/expr.ipynb\"><img src=\"../daaf6703b436a016052e985c5a27d7142a77ebc10/expr.png\" style=\"display:inline;vertical-align:middle;\" /></a></td></tr>\n",
       "<tr><td>38</td><td>Operation</td><td>operator:&nbsp;40<br>operands:&nbsp;41<br></td><td><a class=\"ProveItLink\" href=\"../720b39d5ad9fe4b7c0ee2e3ece48cef19dcc3e670/expr.ipynb\"><img src=\"../720b39d5ad9fe4b7c0ee2e3ece48cef19dcc3e670/expr.png\" style=\"display:inline;vertical-align:middle;\" /></a></td></tr>\n",
       "<tr><td>39</td><td>Operation</td><td>operator:&nbsp;42<br>operand:&nbsp;45<br></td><td><a class=\"ProveItLink\" href=\"../../../../__pv_it/common/fce49534291e406d3d43684e225f1a2779a61f030/expr.ipynb\"><img src=\"../../../../__pv_it/common/fce49534291e406d3d43684e225f1a2779a61f030/expr.png\" style=\"display:inline;vertical-align:middle;\" /></a></td></tr>\n",
       "<tr><td>40</td><td>Literal</td><td></td><td><a class=\"ProveItLink\" href=\"../../../../logic/sets/membership/__pv_it/common/477487d8796864d23d5810f83761435f25167f690/expr.ipynb\"><img src=\"../../../../logic/sets/membership/__pv_it/common/477487d8796864d23d5810f83761435f25167f690/expr.png\" style=\"display:inline;vertical-align:middle;\" /></a></td></tr>\n",
       "<tr><td>41</td><td>ExprTuple</td><td>45, 44</td><td><a class=\"ProveItLink\" href=\"../1fffd71440076631b1c486124d18ce673ceec6d60/expr.ipynb\"><img src=\"../1fffd71440076631b1c486124d18ce673ceec6d60/expr.png\" style=\"display:inline;vertical-align:middle;\" /></a></td></tr>\n",
       "<tr><td>42</td><td>Variable</td><td></td><td><a class=\"ProveItLink\" href=\"../../../../__pv_it/common/d72bb8b07403efe79afab564c36a28e21330e5f90/expr.ipynb\"><img src=\"../../../../__pv_it/common/d72bb8b07403efe79afab564c36a28e21330e5f90/expr.png\" style=\"display:inline;vertical-align:middle;\" /></a></td></tr>\n",
       "<tr><td>43</td><td>ExprTuple</td><td>45</td><td><a class=\"ProveItLink\" href=\"../../../../__pv_it/common/eacfeccc0521684fcb20fe8f5180ac50fca471f20/expr.ipynb\"><img src=\"../../../../__pv_it/common/eacfeccc0521684fcb20fe8f5180ac50fca471f20/expr.png\" style=\"display:inline;vertical-align:middle;\" /></a></td></tr>\n",
       "<tr><td>44</td><td>Variable</td><td></td><td><a class=\"ProveItLink\" href=\"../../../../__pv_it/common/f1ca094affb79f5011ff4d63eb4e121bfbde7f330/expr.ipynb\"><img src=\"../../../../__pv_it/common/f1ca094affb79f5011ff4d63eb4e121bfbde7f330/expr.png\" style=\"display:inline;vertical-align:middle;\" /></a></td></tr>\n",
       "<tr><td>45</td><td>Variable</td><td></td><td><a class=\"ProveItLink\" href=\"../../../../__pv_it/common/a0d9d672aa5e272d907247690c152cc2c6daafb70/expr.ipynb\"><img src=\"../../../../__pv_it/common/a0d9d672aa5e272d907247690c152cc2c6daafb70/expr.png\" style=\"display:inline;vertical-align:middle;\" /></a></td></tr>\n",
       "</table>\n"
      ],
      "text/plain": [
       "0. forall_{X} [forall_{f in [X -> Omega]} [forall_{Q} ([Prob_{x in X | Q(x)} f(x)] =  \\\\ Pr({f(x) s.t. Q(x)}_{x in X}))]]\n",
       "   core type: Operation\n",
       "   operator: 11\n",
       "   operand: 2\n",
       "1. (X -> [forall_{f in [X -> Omega]} [forall_{Q} ([Prob_{x in X | Q(x)} f(x)] =  \\\\ Pr({f(x) s.t. Q(x)}_{x in X}))]])\n",
       "   core type: ExprTuple\n",
       "   sub-expressions: 2\n",
       "2. X -> [forall_{f in [X -> Omega]} [forall_{Q} ([Prob_{x in X | Q(x)} f(x)] =  \\\\ Pr({f(x) s.t. Q(x)}_{x in X}))]]\n",
       "   core type: Lambda\n",
       "   parameter: 44\n",
       "   body: 4\n",
       "3. (X)\n",
       "   core type: ExprTuple\n",
       "   sub-expressions: 44\n",
       "4. forall_{f in [X -> Omega]} [forall_{Q} ([Prob_{x in X | Q(x)} f(x)] =  \\\\ Pr({f(x) s.t. Q(x)}_{x in X}))]\n",
       "   core type: Operation\n",
       "   operator: 11\n",
       "   operand: 6\n",
       "5. (f -> {forall_{Q} ([Prob_{x in X | Q(x)} f(x)] =  \\\\ Pr({f(x) s.t. Q(x)}_{x in X})) if f in [X -> Omega].)\n",
       "   core type: ExprTuple\n",
       "   sub-expressions: 6\n",
       "6. f -> {forall_{Q} ([Prob_{x in X | Q(x)} f(x)] =  \\\\ Pr({f(x) s.t. Q(x)}_{x in X})) if f in [X -> Omega].\n",
       "   core type: Lambda\n",
       "   parameter: 35\n",
       "   body: 8\n",
       "7. (f)\n",
       "   core type: ExprTuple\n",
       "   sub-expressions: 35\n",
       "8. {forall_{Q} ([Prob_{x in X | Q(x)} f(x)] =  \\\\ Pr({f(x) s.t. Q(x)}_{x in X})) if f in [X -> Omega].\n",
       "   core type: Conditional\n",
       "   value: 9\n",
       "   condition: 10\n",
       "9. forall_{Q} ([Prob_{x in X | Q(x)} f(x)] =  \\\\ Pr({f(x) s.t. Q(x)}_{x in X}))\n",
       "   core type: Operation\n",
       "   operator: 11\n",
       "   operand: 14\n",
       "10. f in [X -> Omega]\n",
       "    core type: Operation\n",
       "    operator: 40\n",
       "    operands: 13\n",
       "11. forall\n",
       "    core type: Literal\n",
       "    sub-expressions: \n",
       "12. (Q -> ([Prob_{x in X | Q(x)} f(x)] =  \\\\ Pr({f(x) s.t. Q(x)}_{x in X})))\n",
       "    core type: ExprTuple\n",
       "    sub-expressions: 14\n",
       "13. (f, [X -> Omega])\n",
       "    core type: ExprTuple\n",
       "    sub-expressions: 35, 15\n",
       "14. Q -> ([Prob_{x in X | Q(x)} f(x)] =  \\\\ Pr({f(x) s.t. Q(x)}_{x in X}))\n",
       "    core type: Lambda\n",
       "    parameter: 42\n",
       "    body: 17\n",
       "15. [X -> Omega]\n",
       "    core type: Operation\n",
       "    operator: 18\n",
       "    operands: 19\n",
       "16. (Q)\n",
       "    core type: ExprTuple\n",
       "    sub-expressions: 42\n",
       "17. [Prob_{x in X | Q(x)} f(x)] =  \\\\ Pr({f(x) s.t. Q(x)}_{x in X})\n",
       "    core type: Operation\n",
       "    operator: 20\n",
       "    operands: 21\n",
       "18. Functions\n",
       "    core type: Literal\n",
       "    sub-expressions: \n",
       "19. (X, Omega)\n",
       "    core type: ExprTuple\n",
       "    sub-expressions: 44, 22\n",
       "20. =\n",
       "    core type: Literal\n",
       "    sub-expressions: \n",
       "21. (Prob_{x in X | Q(x)} f(x), Pr({f(x) s.t. Q(x)}_{x in X}))\n",
       "    core type: ExprTuple\n",
       "    sub-expressions: 23, 24\n",
       "22. Omega\n",
       "    core type: Variable\n",
       "    sub-expressions: \n",
       "23. Prob_{x in X | Q(x)} f(x)\n",
       "    core type: Operation\n",
       "    operator: 25\n",
       "    operand: 31\n",
       "24. Pr({f(x) s.t. Q(x)}_{x in X})\n",
       "    core type: Operation\n",
       "    operator: 26\n",
       "    operand: 28\n",
       "25. Prob\n",
       "    core type: Literal\n",
       "    sub-expressions: \n",
       "26. Pr\n",
       "    core type: Literal\n",
       "    sub-expressions: \n",
       "27. ({f(x) s.t. Q(x)}_{x in X})\n",
       "    core type: ExprTuple\n",
       "    sub-expressions: 28\n",
       "28. {f(x) s.t. Q(x)}_{x in X}\n",
       "    core type: Operation\n",
       "    operator: 29\n",
       "    operand: 31\n",
       "29. SetOfAll\n",
       "    core type: Literal\n",
       "    sub-expressions: \n",
       "30. (x -> {f(x) if x in X ,  Q(x).)\n",
       "    core type: ExprTuple\n",
       "    sub-expressions: 31\n",
       "31. x -> {f(x) if x in X ,  Q(x).\n",
       "    core type: Lambda\n",
       "    parameter: 45\n",
       "    body: 32\n",
       "32. {f(x) if x in X ,  Q(x).\n",
       "    core type: Conditional\n",
       "    value: 33\n",
       "    condition: 34\n",
       "33. f(x)\n",
       "    core type: Operation\n",
       "    operator: 35\n",
       "    operand: 45\n",
       "34. (x in X) and Q(x)\n",
       "    core type: Operation\n",
       "    operator: 36\n",
       "    operands: 37\n",
       "35. f\n",
       "    core type: Variable\n",
       "    sub-expressions: \n",
       "36. and\n",
       "    core type: Literal\n",
       "    sub-expressions: \n",
       "37. (x in X, Q(x))\n",
       "    core type: ExprTuple\n",
       "    sub-expressions: 38, 39\n",
       "38. x in X\n",
       "    core type: Operation\n",
       "    operator: 40\n",
       "    operands: 41\n",
       "39. Q(x)\n",
       "    core type: Operation\n",
       "    operator: 42\n",
       "    operand: 45\n",
       "40. in\n",
       "    core type: Literal\n",
       "    sub-expressions: \n",
       "41. (x, X)\n",
       "    core type: ExprTuple\n",
       "    sub-expressions: 45, 44\n",
       "42. Q\n",
       "    core type: Variable\n",
       "    sub-expressions: \n",
       "43. (x)\n",
       "    core type: ExprTuple\n",
       "    sub-expressions: 45\n",
       "44. X\n",
       "    core type: Variable\n",
       "    sub-expressions: \n",
       "45. x\n",
       "    core type: Variable\n",
       "    sub-expressions: "
      ]
     },
     "metadata": {},
     "output_type": "display_data"
    }
   ],
   "source": [
    "# display the expression information\n",
    "stored_expr.expr_info()"
   ]
  },
  {
   "cell_type": "code",
   "execution_count": null,
   "metadata": {},
   "outputs": [],
   "source": []
  }
 ],
 "metadata": {
  "kernelspec": {
   "display_name": "Python 3",
   "language": "python",
   "name": "python3"
  }
 },
 "nbformat": 4,
 "nbformat_minor": 0
}