{
 "cells": [
  {
   "cell_type": "markdown",
   "metadata": {},
   "source": [
    "Expression of type <a class=\"ProveItLink\" href=\"../../../../../../doc/html/api/proveit.logic.Equals.html\">Equals</a>\n",
    "=======================\n",
    "# from the theory of <a class=\"ProveItLink\" href=\"../../../_theory_nbs_/theory.ipynb\">proveit.statistics</a>"
   ]
  },
  {
   "cell_type": "code",
   "execution_count": 1,
   "metadata": {},
   "outputs": [],
   "source": [
    "import proveit\n",
    "# Automation is not needed when building an expression:\n",
    "proveit.defaults.automation = False # This will speed things up.\n",
    "proveit.defaults.inline_pngs = False # Makes files smaller.\n",
    "%load_expr # Load the stored expression as 'stored_expr'\n",
    "# import Expression classes needed to build the expression\n",
    "from proveit import A, B, C, Qx, fx, x\n",
    "from proveit.logic import Equals\n",
    "from proveit.numbers import Add\n",
    "from proveit.statistics import ProbOfAll"
   ]
  },
  {
   "cell_type": "code",
   "execution_count": 2,
   "metadata": {},
   "outputs": [
    {
     "data": {
      "text/html": [
       "<strong id=\"expr\">expr:</strong> <a class=\"ProveItLink\" href=\"expr.ipynb\"><img src=\"expr.png\" style=\"display:inline;vertical-align:middle;\" /></a><br>"
      ],
      "text/plain": [
       "<IPython.core.display.HTML object>"
      ]
     },
     "metadata": {},
     "output_type": "display_data"
    }
   ],
   "source": [
    "# build up the expression from sub-expressions\n",
    "sub_expr1 = [x]\n",
    "expr = Equals(ProbOfAll(instance_param_or_params = sub_expr1, instance_element = fx, domain = C, condition = Qx), Add(ProbOfAll(instance_param_or_params = sub_expr1, instance_element = fx, domain = A, condition = Qx), ProbOfAll(instance_param_or_params = sub_expr1, instance_element = fx, domain = B, condition = Qx)))"
   ]
  },
  {
   "cell_type": "code",
   "execution_count": 3,
   "metadata": {},
   "outputs": [
    {
     "name": "stdout",
     "output_type": "stream",
     "text": [
      "Passed sanity check: expr matches stored_expr\n"
     ]
    }
   ],
   "source": [
    "# check that the built expression is the same as the stored expression\n",
    "assert expr == stored_expr\n",
    "assert expr._style_id == stored_expr._style_id\n",
    "print(\"Passed sanity check: expr matches stored_expr\")"
   ]
  },
  {
   "cell_type": "code",
   "execution_count": 4,
   "metadata": {},
   "outputs": [
    {
     "name": "stdout",
     "output_type": "stream",
     "text": [
      "\\left[\\textrm{Prob}_{x \\in C~|~Q\\left(x\\right)}~f\\left(x\\right)\\right] = \\left(\\left[\\textrm{Prob}_{x \\in A~|~Q\\left(x\\right)}~f\\left(x\\right)\\right] + \\left[\\textrm{Prob}_{x \\in B~|~Q\\left(x\\right)}~f\\left(x\\right)\\right]\\right)\n"
     ]
    }
   ],
   "source": [
    "# Show the LaTeX representation of the expression for convenience if you need it.\n",
    "print(stored_expr.latex())"
   ]
  },
  {
   "cell_type": "code",
   "execution_count": 5,
   "metadata": {},
   "outputs": [
    {
     "data": {
      "text/html": [
       "<table>\n",
       "<tr><th>name</th><th>description</th><th>default</th><th>current value</th><th>related methods</th></tr><tr><td>operation</td><td>'infix' or 'function' style formatting</td><td>infix</td><td>infix</td><td></td></tr>\n",
       "<tr><td>wrap_positions</td><td>position(s) at which wrapping is to occur; '2 n - 1' is after the nth operand, '2 n' is after the nth operation.</td><td>()</td><td>()</td><td>('with_wrapping_at', 'with_wrap_before_operator', 'with_wrap_after_operator', 'without_wrapping', 'wrap_positions')</td></tr>\n",
       "<tr><td>justification</td><td>if any wrap positions are set, justify to the 'left', 'center', or 'right'</td><td>center</td><td>center</td><td>('with_justification',)</td></tr>\n",
       "<tr><td>direction</td><td>Direction of the relation (normal or reversed)</td><td>normal</td><td>normal</td><td>('with_direction_reversed', 'is_reversed')</td></tr>\n",
       "</table>\n"
      ],
      "text/plain": [
       "style name: operation\n",
       "description: 'infix' or 'function' style formatting\n",
       "default: infix\n",
       "current value: infix\n",
       "related methods: ()\n",
       "style name: wrap_positions\n",
       "description: position(s) at which wrapping is to occur; '2 n - 1' is after the nth operand, '2 n' is after the nth operation.\n",
       "default: ()\n",
       "current value: ()\n",
       "related methods: ('with_wrapping_at', 'with_wrap_before_operator', 'with_wrap_after_operator', 'without_wrapping', 'wrap_positions')\n",
       "style name: justification\n",
       "description: if any wrap positions are set, justify to the 'left', 'center', or 'right'\n",
       "default: center\n",
       "current value: center\n",
       "related methods: ('with_justification',)\n",
       "style name: direction\n",
       "description: Direction of the relation (normal or reversed)\n",
       "default: normal\n",
       "current value: normal\n",
       "related methods: ('with_direction_reversed', 'is_reversed')"
      ]
     },
     "metadata": {},
     "output_type": "display_data"
    }
   ],
   "source": [
    "stored_expr.style_options()"
   ]
  },
  {
   "cell_type": "code",
   "execution_count": 6,
   "metadata": {},
   "outputs": [
    {
     "data": {
      "text/html": [
       "<table><tr><th>&nbsp;</th><th>core type</th><th>sub-expressions</th><th>expression</th></tr>\n",
       "<tr><td>0</td><td>Operation</td><td>operator:&nbsp;1<br>operands:&nbsp;2<br></td><td><a class=\"ProveItLink\" href=\"expr.ipynb\"><img src=\"expr.png\" style=\"display:inline;vertical-align:middle;\" /></a></td></tr>\n",
       "<tr><td>1</td><td>Literal</td><td></td><td><a class=\"ProveItLink\" href=\"../../../../logic/equality/__pv_it/common/fb96dc12b2aa8801dda64d0132b396c63d1502bb0/expr.ipynb\"><img src=\"../../../../logic/equality/__pv_it/common/fb96dc12b2aa8801dda64d0132b396c63d1502bb0/expr.png\" style=\"display:inline;vertical-align:middle;\" /></a></td></tr>\n",
       "<tr><td>2</td><td>ExprTuple</td><td>3, 4</td><td><a class=\"ProveItLink\" href=\"../8dcca651afac44d682cd9753a054d26f23e439e20/expr.ipynb\"><img src=\"../8dcca651afac44d682cd9753a054d26f23e439e20/expr.png\" style=\"display:inline;vertical-align:middle;\" /></a></td></tr>\n",
       "<tr><td>3</td><td>Operation</td><td>operator:&nbsp;13<br>operand:&nbsp;8<br></td><td><a class=\"ProveItLink\" href=\"../ae1f22700ffc1f3d3ac4ec163a2899cccabebba70/expr.ipynb\"><img src=\"../ae1f22700ffc1f3d3ac4ec163a2899cccabebba70/expr.png\" style=\"display:inline;vertical-align:middle;\" /></a></td></tr>\n",
       "<tr><td>4</td><td>Operation</td><td>operator:&nbsp;6<br>operands:&nbsp;7<br></td><td><a class=\"ProveItLink\" href=\"../a54250bc256e1f95f8e172f4317dd71be67c55ce0/expr.ipynb\"><img src=\"../a54250bc256e1f95f8e172f4317dd71be67c55ce0/expr.png\" style=\"display:inline;vertical-align:middle;\" /></a></td></tr>\n",
       "<tr><td>5</td><td>ExprTuple</td><td>8</td><td><a class=\"ProveItLink\" href=\"../1d0e306c5f825ae21f9f6c76ab6df430391344220/expr.ipynb\"><img src=\"../1d0e306c5f825ae21f9f6c76ab6df430391344220/expr.png\" style=\"display:inline;vertical-align:middle;\" /></a></td></tr>\n",
       "<tr><td>6</td><td>Literal</td><td></td><td><a class=\"ProveItLink\" href=\"../../../../numbers/addition/__pv_it/common/4b7effaab3619a1c2c38fe2dee8601df8ec714590/expr.ipynb\"><img src=\"../../../../numbers/addition/__pv_it/common/4b7effaab3619a1c2c38fe2dee8601df8ec714590/expr.png\" style=\"display:inline;vertical-align:middle;\" /></a></td></tr>\n",
       "<tr><td>7</td><td>ExprTuple</td><td>9, 10</td><td><a class=\"ProveItLink\" href=\"../2cd58b07266370fea0d6c7933d92fe0273bf6b660/expr.ipynb\"><img src=\"../2cd58b07266370fea0d6c7933d92fe0273bf6b660/expr.png\" style=\"display:inline;vertical-align:middle;\" /></a></td></tr>\n",
       "<tr><td>8</td><td>Lambda</td><td>parameter:&nbsp;41<br>body:&nbsp;11<br></td><td><a class=\"ProveItLink\" href=\"../f7a96192a6ff201a899980f3cff07ca656ab2e8e0/expr.ipynb\"><img src=\"../f7a96192a6ff201a899980f3cff07ca656ab2e8e0/expr.png\" style=\"display:inline;vertical-align:middle;\" /></a></td></tr>\n",
       "<tr><td>9</td><td>Operation</td><td>operator:&nbsp;13<br>operand:&nbsp;16<br></td><td><a class=\"ProveItLink\" href=\"../076ec8aeb30a964cbc47d70bacf7d969dc4e8d160/expr.ipynb\"><img src=\"../076ec8aeb30a964cbc47d70bacf7d969dc4e8d160/expr.png\" style=\"display:inline;vertical-align:middle;\" /></a></td></tr>\n",
       "<tr><td>10</td><td>Operation</td><td>operator:&nbsp;13<br>operand:&nbsp;17<br></td><td><a class=\"ProveItLink\" href=\"../db006b75c8418046aa5c0a76b112d2f392964e950/expr.ipynb\"><img src=\"../db006b75c8418046aa5c0a76b112d2f392964e950/expr.png\" style=\"display:inline;vertical-align:middle;\" /></a></td></tr>\n",
       "<tr><td>11</td><td>Conditional</td><td>value:&nbsp;23<br>condition:&nbsp;15<br></td><td><a class=\"ProveItLink\" href=\"../6b7a0d769a4e3a578d4f199f1e721dd0752205ab0/expr.ipynb\"><img src=\"../6b7a0d769a4e3a578d4f199f1e721dd0752205ab0/expr.png\" style=\"display:inline;vertical-align:middle;\" /></a></td></tr>\n",
       "<tr><td>12</td><td>ExprTuple</td><td>16</td><td><a class=\"ProveItLink\" href=\"../220a94ad2b6c41cc2bdf4070026739adb716b12a0/expr.ipynb\"><img src=\"../220a94ad2b6c41cc2bdf4070026739adb716b12a0/expr.png\" style=\"display:inline;vertical-align:middle;\" /></a></td></tr>\n",
       "<tr><td>13</td><td>Literal</td><td></td><td><a class=\"ProveItLink\" href=\"../../common/bf8e6ae6a9b0a51a97b3e4d62d4b2c23d653c7080/expr.ipynb\"><img src=\"../../common/bf8e6ae6a9b0a51a97b3e4d62d4b2c23d653c7080/expr.png\" style=\"display:inline;vertical-align:middle;\" /></a></td></tr>\n",
       "<tr><td>14</td><td>ExprTuple</td><td>17</td><td><a class=\"ProveItLink\" href=\"../d9014ddcfb915be1714b9532944cb1ce688fd9040/expr.ipynb\"><img src=\"../d9014ddcfb915be1714b9532944cb1ce688fd9040/expr.png\" style=\"display:inline;vertical-align:middle;\" /></a></td></tr>\n",
       "<tr><td>15</td><td>Operation</td><td>operator:&nbsp;28<br>operands:&nbsp;18<br></td><td><a class=\"ProveItLink\" href=\"../cff338ea1ba4d504f9a6b62f38c77d31575eb0c00/expr.ipynb\"><img src=\"../cff338ea1ba4d504f9a6b62f38c77d31575eb0c00/expr.png\" style=\"display:inline;vertical-align:middle;\" /></a></td></tr>\n",
       "<tr><td>16</td><td>Lambda</td><td>parameter:&nbsp;41<br>body:&nbsp;19<br></td><td><a class=\"ProveItLink\" href=\"../fb01019df7517f9a53caad56176ab5e3d0c3dace0/expr.ipynb\"><img src=\"../fb01019df7517f9a53caad56176ab5e3d0c3dace0/expr.png\" style=\"display:inline;vertical-align:middle;\" /></a></td></tr>\n",
       "<tr><td>17</td><td>Lambda</td><td>parameter:&nbsp;41<br>body:&nbsp;20<br></td><td><a class=\"ProveItLink\" href=\"../ebbafba330f2ba0c99c3dda46e42b6fc2cb0a2f00/expr.ipynb\"><img src=\"../ebbafba330f2ba0c99c3dda46e42b6fc2cb0a2f00/expr.png\" style=\"display:inline;vertical-align:middle;\" /></a></td></tr>\n",
       "<tr><td>18</td><td>ExprTuple</td><td>21, 33</td><td><a class=\"ProveItLink\" href=\"../b03f6c2a126dceb6e98d2012843c25cace0df32e0/expr.ipynb\"><img src=\"../b03f6c2a126dceb6e98d2012843c25cace0df32e0/expr.png\" style=\"display:inline;vertical-align:middle;\" /></a></td></tr>\n",
       "<tr><td>19</td><td>Conditional</td><td>value:&nbsp;23<br>condition:&nbsp;22<br></td><td><a class=\"ProveItLink\" href=\"../69de212c74f4c97f3fb9b66a3220574493cc2fc60/expr.ipynb\"><img src=\"../69de212c74f4c97f3fb9b66a3220574493cc2fc60/expr.png\" style=\"display:inline;vertical-align:middle;\" /></a></td></tr>\n",
       "<tr><td>20</td><td>Conditional</td><td>value:&nbsp;23<br>condition:&nbsp;24<br></td><td><a class=\"ProveItLink\" href=\"../d3327f079785e7a873e44af593550535ef4de0140/expr.ipynb\"><img src=\"../d3327f079785e7a873e44af593550535ef4de0140/expr.png\" style=\"display:inline;vertical-align:middle;\" /></a></td></tr>\n",
       "<tr><td>21</td><td>Operation</td><td>operator:&nbsp;35<br>operands:&nbsp;25<br></td><td><a class=\"ProveItLink\" href=\"../6b2116baa4efae0982b7800049b2aa76ecaf22280/expr.ipynb\"><img src=\"../6b2116baa4efae0982b7800049b2aa76ecaf22280/expr.png\" style=\"display:inline;vertical-align:middle;\" /></a></td></tr>\n",
       "<tr><td>22</td><td>Operation</td><td>operator:&nbsp;28<br>operands:&nbsp;26<br></td><td><a class=\"ProveItLink\" href=\"../5d2c5c84ec15fcc2b60ec70953b96020743e670a0/expr.ipynb\"><img src=\"../5d2c5c84ec15fcc2b60ec70953b96020743e670a0/expr.png\" style=\"display:inline;vertical-align:middle;\" /></a></td></tr>\n",
       "<tr><td>23</td><td>Operation</td><td>operator:&nbsp;27<br>operand:&nbsp;41<br></td><td><a class=\"ProveItLink\" href=\"../../../../__pv_it/common/6774f61458aed4cc9eb250f92b3634f1d09b19a40/expr.ipynb\"><img src=\"../../../../__pv_it/common/6774f61458aed4cc9eb250f92b3634f1d09b19a40/expr.png\" style=\"display:inline;vertical-align:middle;\" /></a></td></tr>\n",
       "<tr><td>24</td><td>Operation</td><td>operator:&nbsp;28<br>operands:&nbsp;29<br></td><td><a class=\"ProveItLink\" href=\"../1d7dd44304b0051d66592a1656d45256b40f55e00/expr.ipynb\"><img src=\"../1d7dd44304b0051d66592a1656d45256b40f55e00/expr.png\" style=\"display:inline;vertical-align:middle;\" /></a></td></tr>\n",
       "<tr><td>25</td><td>ExprTuple</td><td>41, 30</td><td><a class=\"ProveItLink\" href=\"../2d2c2af4c0f9e66c11b20765d3cbd8bf90ea8ea20/expr.ipynb\"><img src=\"../2d2c2af4c0f9e66c11b20765d3cbd8bf90ea8ea20/expr.png\" style=\"display:inline;vertical-align:middle;\" /></a></td></tr>\n",
       "<tr><td>26</td><td>ExprTuple</td><td>31, 33</td><td><a class=\"ProveItLink\" href=\"../26a913ff9f28742b56717cfc7fef6e7ae8791d5d0/expr.ipynb\"><img src=\"../26a913ff9f28742b56717cfc7fef6e7ae8791d5d0/expr.png\" style=\"display:inline;vertical-align:middle;\" /></a></td></tr>\n",
       "<tr><td>27</td><td>Variable</td><td></td><td><a class=\"ProveItLink\" href=\"../../../../__pv_it/common/01b6dbb444a31fc38af4c2379badef6c75b363710/expr.ipynb\"><img src=\"../../../../__pv_it/common/01b6dbb444a31fc38af4c2379badef6c75b363710/expr.png\" style=\"display:inline;vertical-align:middle;\" /></a></td></tr>\n",
       "<tr><td>28</td><td>Literal</td><td></td><td><a class=\"ProveItLink\" href=\"../../../../logic/booleans/conjunction/__pv_it/common/42118ff318bd65d98b1393f64ce7c2269feef76e0/expr.ipynb\"><img src=\"../../../../logic/booleans/conjunction/__pv_it/common/42118ff318bd65d98b1393f64ce7c2269feef76e0/expr.png\" style=\"display:inline;vertical-align:middle;\" /></a></td></tr>\n",
       "<tr><td>29</td><td>ExprTuple</td><td>32, 33</td><td><a class=\"ProveItLink\" href=\"../79bdaf8c100265a5bf9715b7a6c640331d113d470/expr.ipynb\"><img src=\"../79bdaf8c100265a5bf9715b7a6c640331d113d470/expr.png\" style=\"display:inline;vertical-align:middle;\" /></a></td></tr>\n",
       "<tr><td>30</td><td>Variable</td><td></td><td><a class=\"ProveItLink\" href=\"../../../../__pv_it/common/9fba9f29e823606ff4fdf2f1c6d5d08d906e850a0/expr.ipynb\"><img src=\"../../../../__pv_it/common/9fba9f29e823606ff4fdf2f1c6d5d08d906e850a0/expr.png\" style=\"display:inline;vertical-align:middle;\" /></a></td></tr>\n",
       "<tr><td>31</td><td>Operation</td><td>operator:&nbsp;35<br>operands:&nbsp;34<br></td><td><a class=\"ProveItLink\" href=\"../bffc8f58d953dcb8331468867a32979a833e73840/expr.ipynb\"><img src=\"../bffc8f58d953dcb8331468867a32979a833e73840/expr.png\" style=\"display:inline;vertical-align:middle;\" /></a></td></tr>\n",
       "<tr><td>32</td><td>Operation</td><td>operator:&nbsp;35<br>operands:&nbsp;36<br></td><td><a class=\"ProveItLink\" href=\"../fd887bd5ac8499adb0944f106e649fd3447c9f0d0/expr.ipynb\"><img src=\"../fd887bd5ac8499adb0944f106e649fd3447c9f0d0/expr.png\" style=\"display:inline;vertical-align:middle;\" /></a></td></tr>\n",
       "<tr><td>33</td><td>Operation</td><td>operator:&nbsp;37<br>operand:&nbsp;41<br></td><td><a class=\"ProveItLink\" href=\"../../../../__pv_it/common/fce49534291e406d3d43684e225f1a2779a61f030/expr.ipynb\"><img src=\"../../../../__pv_it/common/fce49534291e406d3d43684e225f1a2779a61f030/expr.png\" style=\"display:inline;vertical-align:middle;\" /></a></td></tr>\n",
       "<tr><td>34</td><td>ExprTuple</td><td>41, 39</td><td><a class=\"ProveItLink\" href=\"../dd56fa97225795c53cc6b814c99b8e98e0e999f10/expr.ipynb\"><img src=\"../dd56fa97225795c53cc6b814c99b8e98e0e999f10/expr.png\" style=\"display:inline;vertical-align:middle;\" /></a></td></tr>\n",
       "<tr><td>35</td><td>Literal</td><td></td><td><a class=\"ProveItLink\" href=\"../../../../logic/sets/membership/__pv_it/common/477487d8796864d23d5810f83761435f25167f690/expr.ipynb\"><img src=\"../../../../logic/sets/membership/__pv_it/common/477487d8796864d23d5810f83761435f25167f690/expr.png\" style=\"display:inline;vertical-align:middle;\" /></a></td></tr>\n",
       "<tr><td>36</td><td>ExprTuple</td><td>41, 40</td><td><a class=\"ProveItLink\" href=\"../99fe0127a7d916a13d2f03d2399aecc2585b282d0/expr.ipynb\"><img src=\"../99fe0127a7d916a13d2f03d2399aecc2585b282d0/expr.png\" style=\"display:inline;vertical-align:middle;\" /></a></td></tr>\n",
       "<tr><td>37</td><td>Variable</td><td></td><td><a class=\"ProveItLink\" href=\"../../../../__pv_it/common/d72bb8b07403efe79afab564c36a28e21330e5f90/expr.ipynb\"><img src=\"../../../../__pv_it/common/d72bb8b07403efe79afab564c36a28e21330e5f90/expr.png\" style=\"display:inline;vertical-align:middle;\" /></a></td></tr>\n",
       "<tr><td>38</td><td>ExprTuple</td><td>41</td><td><a class=\"ProveItLink\" href=\"../../../../__pv_it/common/eacfeccc0521684fcb20fe8f5180ac50fca471f20/expr.ipynb\"><img src=\"../../../../__pv_it/common/eacfeccc0521684fcb20fe8f5180ac50fca471f20/expr.png\" style=\"display:inline;vertical-align:middle;\" /></a></td></tr>\n",
       "<tr><td>39</td><td>Variable</td><td></td><td><a class=\"ProveItLink\" href=\"../../../../__pv_it/common/09585084922504426caf1db2ff588a23a0932a960/expr.ipynb\"><img src=\"../../../../__pv_it/common/09585084922504426caf1db2ff588a23a0932a960/expr.png\" style=\"display:inline;vertical-align:middle;\" /></a></td></tr>\n",
       "<tr><td>40</td><td>Variable</td><td></td><td><a class=\"ProveItLink\" href=\"../../../../__pv_it/common/a9162d1c3cc0470c02e5daf414500903a7a419230/expr.ipynb\"><img src=\"../../../../__pv_it/common/a9162d1c3cc0470c02e5daf414500903a7a419230/expr.png\" style=\"display:inline;vertical-align:middle;\" /></a></td></tr>\n",
       "<tr><td>41</td><td>Variable</td><td></td><td><a class=\"ProveItLink\" href=\"../../../../__pv_it/common/a0d9d672aa5e272d907247690c152cc2c6daafb70/expr.ipynb\"><img src=\"../../../../__pv_it/common/a0d9d672aa5e272d907247690c152cc2c6daafb70/expr.png\" style=\"display:inline;vertical-align:middle;\" /></a></td></tr>\n",
       "</table>\n"
      ],
      "text/plain": [
       "0. [Prob_{x in C | Q(x)} f(x)] = ([Prob_{x in A | Q(x)} f(x)] + [Prob_{x in B | Q(x)} f(x)])\n",
       "   core type: Operation\n",
       "   operator: 1\n",
       "   operands: 2\n",
       "1. =\n",
       "   core type: Literal\n",
       "   sub-expressions: \n",
       "2. (Prob_{x in C | Q(x)} f(x), [Prob_{x in A | Q(x)} f(x)] + [Prob_{x in B | Q(x)} f(x)])\n",
       "   core type: ExprTuple\n",
       "   sub-expressions: 3, 4\n",
       "3. Prob_{x in C | Q(x)} f(x)\n",
       "   core type: Operation\n",
       "   operator: 13\n",
       "   operand: 8\n",
       "4. [Prob_{x in A | Q(x)} f(x)] + [Prob_{x in B | Q(x)} f(x)]\n",
       "   core type: Operation\n",
       "   operator: 6\n",
       "   operands: 7\n",
       "5. (x -> {f(x) if x in C ,  Q(x).)\n",
       "   core type: ExprTuple\n",
       "   sub-expressions: 8\n",
       "6. +\n",
       "   core type: Literal\n",
       "   sub-expressions: \n",
       "7. (Prob_{x in A | Q(x)} f(x), Prob_{x in B | Q(x)} f(x))\n",
       "   core type: ExprTuple\n",
       "   sub-expressions: 9, 10\n",
       "8. x -> {f(x) if x in C ,  Q(x).\n",
       "   core type: Lambda\n",
       "   parameter: 41\n",
       "   body: 11\n",
       "9. Prob_{x in A | Q(x)} f(x)\n",
       "   core type: Operation\n",
       "   operator: 13\n",
       "   operand: 16\n",
       "10. Prob_{x in B | Q(x)} f(x)\n",
       "    core type: Operation\n",
       "    operator: 13\n",
       "    operand: 17\n",
       "11. {f(x) if x in C ,  Q(x).\n",
       "    core type: Conditional\n",
       "    value: 23\n",
       "    condition: 15\n",
       "12. (x -> {f(x) if x in A ,  Q(x).)\n",
       "    core type: ExprTuple\n",
       "    sub-expressions: 16\n",
       "13. Prob\n",
       "    core type: Literal\n",
       "    sub-expressions: \n",
       "14. (x -> {f(x) if x in B ,  Q(x).)\n",
       "    core type: ExprTuple\n",
       "    sub-expressions: 17\n",
       "15. (x in C) and Q(x)\n",
       "    core type: Operation\n",
       "    operator: 28\n",
       "    operands: 18\n",
       "16. x -> {f(x) if x in A ,  Q(x).\n",
       "    core type: Lambda\n",
       "    parameter: 41\n",
       "    body: 19\n",
       "17. x -> {f(x) if x in B ,  Q(x).\n",
       "    core type: Lambda\n",
       "    parameter: 41\n",
       "    body: 20\n",
       "18. (x in C, Q(x))\n",
       "    core type: ExprTuple\n",
       "    sub-expressions: 21, 33\n",
       "19. {f(x) if x in A ,  Q(x).\n",
       "    core type: Conditional\n",
       "    value: 23\n",
       "    condition: 22\n",
       "20. {f(x) if x in B ,  Q(x).\n",
       "    core type: Conditional\n",
       "    value: 23\n",
       "    condition: 24\n",
       "21. x in C\n",
       "    core type: Operation\n",
       "    operator: 35\n",
       "    operands: 25\n",
       "22. (x in A) and Q(x)\n",
       "    core type: Operation\n",
       "    operator: 28\n",
       "    operands: 26\n",
       "23. f(x)\n",
       "    core type: Operation\n",
       "    operator: 27\n",
       "    operand: 41\n",
       "24. (x in B) and Q(x)\n",
       "    core type: Operation\n",
       "    operator: 28\n",
       "    operands: 29\n",
       "25. (x, C)\n",
       "    core type: ExprTuple\n",
       "    sub-expressions: 41, 30\n",
       "26. (x in A, Q(x))\n",
       "    core type: ExprTuple\n",
       "    sub-expressions: 31, 33\n",
       "27. f\n",
       "    core type: Variable\n",
       "    sub-expressions: \n",
       "28. and\n",
       "    core type: Literal\n",
       "    sub-expressions: \n",
       "29. (x in B, Q(x))\n",
       "    core type: ExprTuple\n",
       "    sub-expressions: 32, 33\n",
       "30. C\n",
       "    core type: Variable\n",
       "    sub-expressions: \n",
       "31. x in A\n",
       "    core type: Operation\n",
       "    operator: 35\n",
       "    operands: 34\n",
       "32. x in B\n",
       "    core type: Operation\n",
       "    operator: 35\n",
       "    operands: 36\n",
       "33. Q(x)\n",
       "    core type: Operation\n",
       "    operator: 37\n",
       "    operand: 41\n",
       "34. (x, A)\n",
       "    core type: ExprTuple\n",
       "    sub-expressions: 41, 39\n",
       "35. in\n",
       "    core type: Literal\n",
       "    sub-expressions: \n",
       "36. (x, B)\n",
       "    core type: ExprTuple\n",
       "    sub-expressions: 41, 40\n",
       "37. Q\n",
       "    core type: Variable\n",
       "    sub-expressions: \n",
       "38. (x)\n",
       "    core type: ExprTuple\n",
       "    sub-expressions: 41\n",
       "39. A\n",
       "    core type: Variable\n",
       "    sub-expressions: \n",
       "40. B\n",
       "    core type: Variable\n",
       "    sub-expressions: \n",
       "41. x\n",
       "    core type: Variable\n",
       "    sub-expressions: "
      ]
     },
     "metadata": {},
     "output_type": "display_data"
    }
   ],
   "source": [
    "# display the expression information\n",
    "stored_expr.expr_info()"
   ]
  },
  {
   "cell_type": "code",
   "execution_count": null,
   "metadata": {},
   "outputs": [],
   "source": []
  }
 ],
 "metadata": {
  "kernelspec": {
   "display_name": "Python 3",
   "language": "python",
   "name": "python3"
  }
 },
 "nbformat": 4,
 "nbformat_minor": 0
}