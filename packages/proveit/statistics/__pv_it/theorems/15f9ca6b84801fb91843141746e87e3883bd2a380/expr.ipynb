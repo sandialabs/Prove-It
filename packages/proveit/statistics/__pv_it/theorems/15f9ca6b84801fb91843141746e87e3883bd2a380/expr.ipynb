{
 "cells": [
  {
   "cell_type": "markdown",
   "metadata": {},
   "source": [
    "Expression of type <a class=\"ProveItLink\" href=\"../../../../../../doc/html/api/proveit.Lambda.html\">Lambda</a>\n",
    "=======================\n",
    "# from the theory of <a class=\"ProveItLink\" href=\"../../../_theory_nbs_/theory.ipynb\">proveit.statistics</a>"
   ]
  },
  {
   "cell_type": "code",
   "execution_count": 1,
   "metadata": {},
   "outputs": [],
   "source": [
    "import proveit\n",
    "# Automation is not needed when building an expression:\n",
    "proveit.defaults.automation = False # This will speed things up.\n",
    "proveit.defaults.inline_pngs = False # Makes files smaller.\n",
    "%load_expr # Load the stored expression as 'stored_expr'\n",
    "# import Expression classes needed to build the expression\n",
    "from proveit import Lambda, Omega, X, Y, f, fx, g, gx, x\n",
    "from proveit.logic import Bijections, Equals, Forall, Implies, InClass\n",
    "from proveit.statistics import Prob, SampleSpaces"
   ]
  },
  {
   "cell_type": "code",
   "execution_count": 2,
   "metadata": {},
   "outputs": [
    {
     "data": {
      "text/html": [
       "<strong id=\"expr\">expr:</strong> <a class=\"ProveItLink\" href=\"expr.ipynb\"><img src=\"expr.png\" style=\"display:inline;vertical-align:middle;\" /></a><br>"
      ],
      "text/plain": [
       "<IPython.core.display.HTML object>"
      ]
     },
     "metadata": {},
     "output_type": "display_data"
    }
   ],
   "source": [
    "# build up the expression from sub-expressions\n",
    "expr = Lambda([X, Y], Forall(instance_param_or_params = [f, g], instance_expr = Implies(Forall(instance_param_or_params = [x], instance_expr = Equals(Prob(fx), Prob(gx)), domain = X), InClass(Y, SampleSpaces)).with_wrapping_at(1), domains = [Bijections(X, Omega), Bijections(X, Y)]))"
   ]
  },
  {
   "cell_type": "code",
   "execution_count": 3,
   "metadata": {},
   "outputs": [
    {
     "name": "stdout",
     "output_type": "stream",
     "text": [
      "Passed sanity check: expr matches stored_expr\n"
     ]
    }
   ],
   "source": [
    "# check that the built expression is the same as the stored expression\n",
    "assert expr == stored_expr\n",
    "assert expr._style_id == stored_expr._style_id\n",
    "print(\"Passed sanity check: expr matches stored_expr\")"
   ]
  },
  {
   "cell_type": "code",
   "execution_count": 4,
   "metadata": {},
   "outputs": [
    {
     "name": "stdout",
     "output_type": "stream",
     "text": [
      "\\left(X, Y\\right) \\mapsto \\left[\\forall_{f \\in \\left[X \\xrightarrow[\\text{onto}]{\\text{1-to-1}} \\Omega\\right], g \\in \\left[X \\xrightarrow[\\text{onto}]{\\text{1-to-1}} Y\\right]}~\\left(\\begin{array}{c} \\begin{array}{l} \\left[\\forall_{x \\in X}~\\left(\\textrm{Pr}\\left(f\\left(x\\right)\\right) = \\textrm{Pr}\\left(g\\left(x\\right)\\right)\\right)\\right] \\\\  \\Rightarrow \\left(Y \\underset{{\\scriptscriptstyle c}}{\\in} \\textrm{SampleSpaces}\\right) \\end{array} \\end{array}\\right)\\right]\n"
     ]
    }
   ],
   "source": [
    "# Show the LaTeX representation of the expression for convenience if you need it.\n",
    "print(stored_expr.latex())"
   ]
  },
  {
   "cell_type": "code",
   "execution_count": 5,
   "metadata": {},
   "outputs": [
    {
     "data": {
      "text/html": [
       "no style options"
      ],
      "text/plain": [
       "no style options"
      ]
     },
     "metadata": {},
     "output_type": "display_data"
    }
   ],
   "source": [
    "stored_expr.style_options()"
   ]
  },
  {
   "cell_type": "code",
   "execution_count": 6,
   "metadata": {},
   "outputs": [
    {
     "data": {
      "text/html": [
       "<table><tr><th>&nbsp;</th><th>core type</th><th>sub-expressions</th><th>expression</th></tr>\n",
       "<tr><td>0</td><td>Lambda</td><td>parameters:&nbsp;29<br>body:&nbsp;1<br></td><td><a class=\"ProveItLink\" href=\"expr.ipynb\"><img src=\"expr.png\" style=\"display:inline;vertical-align:middle;\" /></a></td></tr>\n",
       "<tr><td>1</td><td>Operation</td><td>operator:&nbsp;16<br>operand:&nbsp;3<br></td><td><a class=\"ProveItLink\" href=\"../5ed415ca4477f301332f7445dbf5f59bccf623820/expr.ipynb\"><img src=\"../5ed415ca4477f301332f7445dbf5f59bccf623820/expr.png\" style=\"display:inline;vertical-align:middle;\" /></a></td></tr>\n",
       "<tr><td>2</td><td>ExprTuple</td><td>3</td><td><a class=\"ProveItLink\" href=\"../c58b30ae9fa6b964c5b6018d333dacea744e9a9e0/expr.ipynb\"><img src=\"../c58b30ae9fa6b964c5b6018d333dacea744e9a9e0/expr.png\" style=\"display:inline;vertical-align:middle;\" /></a></td></tr>\n",
       "<tr><td>3</td><td>Lambda</td><td>parameters:&nbsp;4<br>body:&nbsp;5<br></td><td><a class=\"ProveItLink\" href=\"../9a7d23b08f87b76306d22fb65f0b71d7498e7fc10/expr.ipynb\"><img src=\"../9a7d23b08f87b76306d22fb65f0b71d7498e7fc10/expr.png\" style=\"display:inline;vertical-align:middle;\" /></a></td></tr>\n",
       "<tr><td>4</td><td>ExprTuple</td><td>46, 47</td><td><a class=\"ProveItLink\" href=\"../2c954f158acc6105edefb51b37f61ee4473f2f420/expr.ipynb\"><img src=\"../2c954f158acc6105edefb51b37f61ee4473f2f420/expr.png\" style=\"display:inline;vertical-align:middle;\" /></a></td></tr>\n",
       "<tr><td>5</td><td>Conditional</td><td>value:&nbsp;6<br>condition:&nbsp;7<br></td><td><a class=\"ProveItLink\" href=\"../d13bb06174a56df01ad34d1b7adb1c866bc6396d0/expr.ipynb\"><img src=\"../d13bb06174a56df01ad34d1b7adb1c866bc6396d0/expr.png\" style=\"display:inline;vertical-align:middle;\" /></a></td></tr>\n",
       "<tr><td>6</td><td>Operation</td><td>operator:&nbsp;8<br>operands:&nbsp;9<br></td><td><a class=\"ProveItLink\" href=\"../d61e2a8a0e75f15455111fcdbe4496217295ed630/expr.ipynb\"><img src=\"../d61e2a8a0e75f15455111fcdbe4496217295ed630/expr.png\" style=\"display:inline;vertical-align:middle;\" /></a></td></tr>\n",
       "<tr><td>7</td><td>Operation</td><td>operator:&nbsp;10<br>operands:&nbsp;11<br></td><td><a class=\"ProveItLink\" href=\"../f5303a10ed5d242905867ed5dcdfbd1911e00d320/expr.ipynb\"><img src=\"../f5303a10ed5d242905867ed5dcdfbd1911e00d320/expr.png\" style=\"display:inline;vertical-align:middle;\" /></a></td></tr>\n",
       "<tr><td>8</td><td>Literal</td><td></td><td><a class=\"ProveItLink\" href=\"../../../../logic/booleans/implication/__pv_it/common/02bdb382575728da8cdbaed545b9096ea7a1bd5b0/expr.ipynb\"><img src=\"../../../../logic/booleans/implication/__pv_it/common/02bdb382575728da8cdbaed545b9096ea7a1bd5b0/expr.png\" style=\"display:inline;vertical-align:middle;\" /></a></td></tr>\n",
       "<tr><td>9</td><td>ExprTuple</td><td>12, 13</td><td><a class=\"ProveItLink\" href=\"../e3c417e593d3dccbdabc1a37cb0e1681709516990/expr.ipynb\"><img src=\"../e3c417e593d3dccbdabc1a37cb0e1681709516990/expr.png\" style=\"display:inline;vertical-align:middle;\" /></a></td></tr>\n",
       "<tr><td>10</td><td>Literal</td><td></td><td><a class=\"ProveItLink\" href=\"../../../../logic/booleans/conjunction/__pv_it/common/42118ff318bd65d98b1393f64ce7c2269feef76e0/expr.ipynb\"><img src=\"../../../../logic/booleans/conjunction/__pv_it/common/42118ff318bd65d98b1393f64ce7c2269feef76e0/expr.png\" style=\"display:inline;vertical-align:middle;\" /></a></td></tr>\n",
       "<tr><td>11</td><td>ExprTuple</td><td>14, 15</td><td><a class=\"ProveItLink\" href=\"../8b572908056f3fedbd78cec966313f8f71d986860/expr.ipynb\"><img src=\"../8b572908056f3fedbd78cec966313f8f71d986860/expr.png\" style=\"display:inline;vertical-align:middle;\" /></a></td></tr>\n",
       "<tr><td>12</td><td>Operation</td><td>operator:&nbsp;16<br>operand:&nbsp;22<br></td><td><a class=\"ProveItLink\" href=\"../d6db7d44b0b6ab493dc2ab487f4a927f70ef0bc50/expr.ipynb\"><img src=\"../d6db7d44b0b6ab493dc2ab487f4a927f70ef0bc50/expr.png\" style=\"display:inline;vertical-align:middle;\" /></a></td></tr>\n",
       "<tr><td>13</td><td>Operation</td><td>operator:&nbsp;18<br>operands:&nbsp;19<br></td><td><a class=\"ProveItLink\" href=\"../fc0c674279a6542ed8b98c7b61b7f51e2fe88e270/expr.ipynb\"><img src=\"../fc0c674279a6542ed8b98c7b61b7f51e2fe88e270/expr.png\" style=\"display:inline;vertical-align:middle;\" /></a></td></tr>\n",
       "<tr><td>14</td><td>Operation</td><td>operator:&nbsp;36<br>operands:&nbsp;20<br></td><td><a class=\"ProveItLink\" href=\"../ffa28e066420ca0f3e6cb6ab0e7c3727682c57590/expr.ipynb\"><img src=\"../ffa28e066420ca0f3e6cb6ab0e7c3727682c57590/expr.png\" style=\"display:inline;vertical-align:middle;\" /></a></td></tr>\n",
       "<tr><td>15</td><td>Operation</td><td>operator:&nbsp;36<br>operands:&nbsp;21<br></td><td><a class=\"ProveItLink\" href=\"../9fa31379fbec9c922fd66ab97d483cde388b79540/expr.ipynb\"><img src=\"../9fa31379fbec9c922fd66ab97d483cde388b79540/expr.png\" style=\"display:inline;vertical-align:middle;\" /></a></td></tr>\n",
       "<tr><td>16</td><td>Literal</td><td></td><td><a class=\"ProveItLink\" href=\"../../../../logic/booleans/quantification/universality/__pv_it/common/083d2baa0b8ecab1d230f9ec29a15aa1355809fb0/expr.ipynb\"><img src=\"../../../../logic/booleans/quantification/universality/__pv_it/common/083d2baa0b8ecab1d230f9ec29a15aa1355809fb0/expr.png\" style=\"display:inline;vertical-align:middle;\" /></a></td></tr>\n",
       "<tr><td>17</td><td>ExprTuple</td><td>22</td><td><a class=\"ProveItLink\" href=\"../bfd0bb5f86c57714c821182f6aa56de9f37ba45d0/expr.ipynb\"><img src=\"../bfd0bb5f86c57714c821182f6aa56de9f37ba45d0/expr.png\" style=\"display:inline;vertical-align:middle;\" /></a></td></tr>\n",
       "<tr><td>18</td><td>Literal</td><td></td><td><a class=\"ProveItLink\" href=\"../../../../logic/classes/membership/__pv_it/common/e3b437d28fbe17f0a50c9789c7c9b47a1270f1420/expr.ipynb\"><img src=\"../../../../logic/classes/membership/__pv_it/common/e3b437d28fbe17f0a50c9789c7c9b47a1270f1420/expr.png\" style=\"display:inline;vertical-align:middle;\" /></a></td></tr>\n",
       "<tr><td>19</td><td>ExprTuple</td><td>33, 23</td><td><a class=\"ProveItLink\" href=\"../6df7a28f59348c9f3ca449b387a17bda1b4beea20/expr.ipynb\"><img src=\"../6df7a28f59348c9f3ca449b387a17bda1b4beea20/expr.png\" style=\"display:inline;vertical-align:middle;\" /></a></td></tr>\n",
       "<tr><td>20</td><td>ExprTuple</td><td>46, 24</td><td><a class=\"ProveItLink\" href=\"../5433692bc371c35fc84d2ce2ffa3007f7168dcd40/expr.ipynb\"><img src=\"../5433692bc371c35fc84d2ce2ffa3007f7168dcd40/expr.png\" style=\"display:inline;vertical-align:middle;\" /></a></td></tr>\n",
       "<tr><td>21</td><td>ExprTuple</td><td>47, 25</td><td><a class=\"ProveItLink\" href=\"../a7f2d9e165f338701d4bc9afd21b6620bbfe4fc10/expr.ipynb\"><img src=\"../a7f2d9e165f338701d4bc9afd21b6620bbfe4fc10/expr.png\" style=\"display:inline;vertical-align:middle;\" /></a></td></tr>\n",
       "<tr><td>22</td><td>Lambda</td><td>parameter:&nbsp;49<br>body:&nbsp;26<br></td><td><a class=\"ProveItLink\" href=\"../9d40fac67663b86fc962a19703895a41780014d30/expr.ipynb\"><img src=\"../9d40fac67663b86fc962a19703895a41780014d30/expr.png\" style=\"display:inline;vertical-align:middle;\" /></a></td></tr>\n",
       "<tr><td>23</td><td>Literal</td><td></td><td><a class=\"ProveItLink\" href=\"../../common/b8cb4b48bfd38c392abbbe6b1d73ed28fe3180d20/expr.ipynb\"><img src=\"../../common/b8cb4b48bfd38c392abbbe6b1d73ed28fe3180d20/expr.png\" style=\"display:inline;vertical-align:middle;\" /></a></td></tr>\n",
       "<tr><td>24</td><td>Operation</td><td>operator:&nbsp;28<br>operands:&nbsp;27<br></td><td><a class=\"ProveItLink\" href=\"../f758c15ac6d92f4d18623214e36494d93fe1c13c0/expr.ipynb\"><img src=\"../f758c15ac6d92f4d18623214e36494d93fe1c13c0/expr.png\" style=\"display:inline;vertical-align:middle;\" /></a></td></tr>\n",
       "<tr><td>25</td><td>Operation</td><td>operator:&nbsp;28<br>operands:&nbsp;29<br></td><td><a class=\"ProveItLink\" href=\"../9448003101cc5a36cdeb41e969f161b3a751466a0/expr.ipynb\"><img src=\"../9448003101cc5a36cdeb41e969f161b3a751466a0/expr.png\" style=\"display:inline;vertical-align:middle;\" /></a></td></tr>\n",
       "<tr><td>26</td><td>Conditional</td><td>value:&nbsp;30<br>condition:&nbsp;31<br></td><td><a class=\"ProveItLink\" href=\"../75af7bfc574140af76d7e946937831a0d1ecfef50/expr.ipynb\"><img src=\"../75af7bfc574140af76d7e946937831a0d1ecfef50/expr.png\" style=\"display:inline;vertical-align:middle;\" /></a></td></tr>\n",
       "<tr><td>27</td><td>ExprTuple</td><td>40, 32</td><td><a class=\"ProveItLink\" href=\"../02af9459b2aaaa91976fdc4aa8f76da01b6187070/expr.ipynb\"><img src=\"../02af9459b2aaaa91976fdc4aa8f76da01b6187070/expr.png\" style=\"display:inline;vertical-align:middle;\" /></a></td></tr>\n",
       "<tr><td>28</td><td>Literal</td><td></td><td><a class=\"ProveItLink\" href=\"../../../../logic/sets/functions/bijections/__pv_it/common/4d5b70c2a4c97df1b8c27c8cfe8e6aacede0cb130/expr.ipynb\"><img src=\"../../../../logic/sets/functions/bijections/__pv_it/common/4d5b70c2a4c97df1b8c27c8cfe8e6aacede0cb130/expr.png\" style=\"display:inline;vertical-align:middle;\" /></a></td></tr>\n",
       "<tr><td>29</td><td>ExprTuple</td><td>40, 33</td><td><a class=\"ProveItLink\" href=\"../806c777cd77049ff469633ac84461542c0f8dd670/expr.ipynb\"><img src=\"../806c777cd77049ff469633ac84461542c0f8dd670/expr.png\" style=\"display:inline;vertical-align:middle;\" /></a></td></tr>\n",
       "<tr><td>30</td><td>Operation</td><td>operator:&nbsp;34<br>operands:&nbsp;35<br></td><td><a class=\"ProveItLink\" href=\"../49abfb09adc91cd49a0ccad57fe6b239c29c07c70/expr.ipynb\"><img src=\"../49abfb09adc91cd49a0ccad57fe6b239c29c07c70/expr.png\" style=\"display:inline;vertical-align:middle;\" /></a></td></tr>\n",
       "<tr><td>31</td><td>Operation</td><td>operator:&nbsp;36<br>operands:&nbsp;37<br></td><td><a class=\"ProveItLink\" href=\"../720b39d5ad9fe4b7c0ee2e3ece48cef19dcc3e670/expr.ipynb\"><img src=\"../720b39d5ad9fe4b7c0ee2e3ece48cef19dcc3e670/expr.png\" style=\"display:inline;vertical-align:middle;\" /></a></td></tr>\n",
       "<tr><td>32</td><td>Variable</td><td></td><td><a class=\"ProveItLink\" href=\"../../../../__pv_it/common/53406c163510d898bbe57aa9c808cb4fce1aa1e40/expr.ipynb\"><img src=\"../../../../__pv_it/common/53406c163510d898bbe57aa9c808cb4fce1aa1e40/expr.png\" style=\"display:inline;vertical-align:middle;\" /></a></td></tr>\n",
       "<tr><td>33</td><td>Variable</td><td></td><td><a class=\"ProveItLink\" href=\"../../../../__pv_it/common/72295dc899ebc16ab63a19612b428270c18ac53b0/expr.ipynb\"><img src=\"../../../../__pv_it/common/72295dc899ebc16ab63a19612b428270c18ac53b0/expr.png\" style=\"display:inline;vertical-align:middle;\" /></a></td></tr>\n",
       "<tr><td>34</td><td>Literal</td><td></td><td><a class=\"ProveItLink\" href=\"../../../../logic/equality/__pv_it/common/fb96dc12b2aa8801dda64d0132b396c63d1502bb0/expr.ipynb\"><img src=\"../../../../logic/equality/__pv_it/common/fb96dc12b2aa8801dda64d0132b396c63d1502bb0/expr.png\" style=\"display:inline;vertical-align:middle;\" /></a></td></tr>\n",
       "<tr><td>35</td><td>ExprTuple</td><td>38, 39</td><td><a class=\"ProveItLink\" href=\"../f45242349b5966f2cbf33ffb1cf3c033d9aac6610/expr.ipynb\"><img src=\"../f45242349b5966f2cbf33ffb1cf3c033d9aac6610/expr.png\" style=\"display:inline;vertical-align:middle;\" /></a></td></tr>\n",
       "<tr><td>36</td><td>Literal</td><td></td><td><a class=\"ProveItLink\" href=\"../../../../logic/sets/membership/__pv_it/common/477487d8796864d23d5810f83761435f25167f690/expr.ipynb\"><img src=\"../../../../logic/sets/membership/__pv_it/common/477487d8796864d23d5810f83761435f25167f690/expr.png\" style=\"display:inline;vertical-align:middle;\" /></a></td></tr>\n",
       "<tr><td>37</td><td>ExprTuple</td><td>49, 40</td><td><a class=\"ProveItLink\" href=\"../1fffd71440076631b1c486124d18ce673ceec6d60/expr.ipynb\"><img src=\"../1fffd71440076631b1c486124d18ce673ceec6d60/expr.png\" style=\"display:inline;vertical-align:middle;\" /></a></td></tr>\n",
       "<tr><td>38</td><td>Operation</td><td>operator:&nbsp;42<br>operand:&nbsp;44<br></td><td><a class=\"ProveItLink\" href=\"../0f768d37e3cc5e0d927cd4e143b3adfc415697540/expr.ipynb\"><img src=\"../0f768d37e3cc5e0d927cd4e143b3adfc415697540/expr.png\" style=\"display:inline;vertical-align:middle;\" /></a></td></tr>\n",
       "<tr><td>39</td><td>Operation</td><td>operator:&nbsp;42<br>operand:&nbsp;45<br></td><td><a class=\"ProveItLink\" href=\"../ec0e30e229fbfa53cb5f1b2584283880385102360/expr.ipynb\"><img src=\"../ec0e30e229fbfa53cb5f1b2584283880385102360/expr.png\" style=\"display:inline;vertical-align:middle;\" /></a></td></tr>\n",
       "<tr><td>40</td><td>Variable</td><td></td><td><a class=\"ProveItLink\" href=\"../../../../__pv_it/common/f1ca094affb79f5011ff4d63eb4e121bfbde7f330/expr.ipynb\"><img src=\"../../../../__pv_it/common/f1ca094affb79f5011ff4d63eb4e121bfbde7f330/expr.png\" style=\"display:inline;vertical-align:middle;\" /></a></td></tr>\n",
       "<tr><td>41</td><td>ExprTuple</td><td>44</td><td><a class=\"ProveItLink\" href=\"../5300bbacfc25f3f6bff51e6fa6f2e74450edf1fb0/expr.ipynb\"><img src=\"../5300bbacfc25f3f6bff51e6fa6f2e74450edf1fb0/expr.png\" style=\"display:inline;vertical-align:middle;\" /></a></td></tr>\n",
       "<tr><td>42</td><td>Literal</td><td></td><td><a class=\"ProveItLink\" href=\"../../common/088e9f40f9e6ba1dcc7d39fd35fd8d244261148e0/expr.ipynb\"><img src=\"../../common/088e9f40f9e6ba1dcc7d39fd35fd8d244261148e0/expr.png\" style=\"display:inline;vertical-align:middle;\" /></a></td></tr>\n",
       "<tr><td>43</td><td>ExprTuple</td><td>45</td><td><a class=\"ProveItLink\" href=\"../e0e58c6b9d053e9fadd893e0d13b437967c4f1be0/expr.ipynb\"><img src=\"../e0e58c6b9d053e9fadd893e0d13b437967c4f1be0/expr.png\" style=\"display:inline;vertical-align:middle;\" /></a></td></tr>\n",
       "<tr><td>44</td><td>Operation</td><td>operator:&nbsp;46<br>operand:&nbsp;49<br></td><td><a class=\"ProveItLink\" href=\"../../../../__pv_it/common/6774f61458aed4cc9eb250f92b3634f1d09b19a40/expr.ipynb\"><img src=\"../../../../__pv_it/common/6774f61458aed4cc9eb250f92b3634f1d09b19a40/expr.png\" style=\"display:inline;vertical-align:middle;\" /></a></td></tr>\n",
       "<tr><td>45</td><td>Operation</td><td>operator:&nbsp;47<br>operand:&nbsp;49<br></td><td><a class=\"ProveItLink\" href=\"../../../../__pv_it/common/1d2b81c6e4903ee4506b066df3feec8a729a56a80/expr.ipynb\"><img src=\"../../../../__pv_it/common/1d2b81c6e4903ee4506b066df3feec8a729a56a80/expr.png\" style=\"display:inline;vertical-align:middle;\" /></a></td></tr>\n",
       "<tr><td>46</td><td>Variable</td><td></td><td><a class=\"ProveItLink\" href=\"../../../../__pv_it/common/01b6dbb444a31fc38af4c2379badef6c75b363710/expr.ipynb\"><img src=\"../../../../__pv_it/common/01b6dbb444a31fc38af4c2379badef6c75b363710/expr.png\" style=\"display:inline;vertical-align:middle;\" /></a></td></tr>\n",
       "<tr><td>47</td><td>Variable</td><td></td><td><a class=\"ProveItLink\" href=\"../../../../__pv_it/common/96ac097ea7ee432328a5e933062d0ef407701bf40/expr.ipynb\"><img src=\"../../../../__pv_it/common/96ac097ea7ee432328a5e933062d0ef407701bf40/expr.png\" style=\"display:inline;vertical-align:middle;\" /></a></td></tr>\n",
       "<tr><td>48</td><td>ExprTuple</td><td>49</td><td><a class=\"ProveItLink\" href=\"../../../../__pv_it/common/eacfeccc0521684fcb20fe8f5180ac50fca471f20/expr.ipynb\"><img src=\"../../../../__pv_it/common/eacfeccc0521684fcb20fe8f5180ac50fca471f20/expr.png\" style=\"display:inline;vertical-align:middle;\" /></a></td></tr>\n",
       "<tr><td>49</td><td>Variable</td><td></td><td><a class=\"ProveItLink\" href=\"../../../../__pv_it/common/a0d9d672aa5e272d907247690c152cc2c6daafb70/expr.ipynb\"><img src=\"../../../../__pv_it/common/a0d9d672aa5e272d907247690c152cc2c6daafb70/expr.png\" style=\"display:inline;vertical-align:middle;\" /></a></td></tr>\n",
       "</table>\n"
      ],
      "text/plain": [
       "0. (X, Y) -> [forall_{f in Bijections(X, Omega), g in Bijections(X, Y)} ([forall_{x in X} (Pr(f(x)) = Pr(g(x)))] \\\\  => (Y in_c SampleSpaces))]\n",
       "   core type: Lambda\n",
       "   parameters: 29\\n   body: 1\n",
       "1. forall_{f in Bijections(X, Omega), g in Bijections(X, Y)} ([forall_{x in X} (Pr(f(x)) = Pr(g(x)))] \\\\  => (Y in_c SampleSpaces))\n",
       "   core type: Operation\n",
       "   operator: 16\n",
       "   operand: 3\n",
       "2. ((f, g) -> {[forall_{x in X} (Pr(f(x)) = Pr(g(x)))] \\\\  => (Y in_c SampleSpaces) if f in Bijections(X, Omega) ,  g in Bijections(X, Y).)\n",
       "   core type: ExprTuple\n",
       "   sub-expressions: 3\n",
       "3. (f, g) -> {[forall_{x in X} (Pr(f(x)) = Pr(g(x)))] \\\\  => (Y in_c SampleSpaces) if f in Bijections(X, Omega) ,  g in Bijections(X, Y).\n",
       "   core type: Lambda\n",
       "   parameters: 4\\n   body: 5\n",
       "4. (f, g)\n",
       "   core type: ExprTuple\n",
       "   sub-expressions: 46, 47\n",
       "5. {[forall_{x in X} (Pr(f(x)) = Pr(g(x)))] \\\\  => (Y in_c SampleSpaces) if f in Bijections(X, Omega) ,  g in Bijections(X, Y).\n",
       "   core type: Conditional\n",
       "   value: 6\n",
       "   condition: 7\n",
       "6. [forall_{x in X} (Pr(f(x)) = Pr(g(x)))] \\\\  => (Y in_c SampleSpaces)\n",
       "   core type: Operation\n",
       "   operator: 8\n",
       "   operands: 9\n",
       "7. (f in Bijections(X, Omega)) and (g in Bijections(X, Y))\n",
       "   core type: Operation\n",
       "   operator: 10\n",
       "   operands: 11\n",
       "8. =>\n",
       "   core type: Literal\n",
       "   sub-expressions: \n",
       "9. (forall_{x in X} (Pr(f(x)) = Pr(g(x))), Y in_c SampleSpaces)\n",
       "   core type: ExprTuple\n",
       "   sub-expressions: 12, 13\n",
       "10. and\n",
       "    core type: Literal\n",
       "    sub-expressions: \n",
       "11. (f in Bijections(X, Omega), g in Bijections(X, Y))\n",
       "    core type: ExprTuple\n",
       "    sub-expressions: 14, 15\n",
       "12. forall_{x in X} (Pr(f(x)) = Pr(g(x)))\n",
       "    core type: Operation\n",
       "    operator: 16\n",
       "    operand: 22\n",
       "13. Y in_c SampleSpaces\n",
       "    core type: Operation\n",
       "    operator: 18\n",
       "    operands: 19\n",
       "14. f in Bijections(X, Omega)\n",
       "    core type: Operation\n",
       "    operator: 36\n",
       "    operands: 20\n",
       "15. g in Bijections(X, Y)\n",
       "    core type: Operation\n",
       "    operator: 36\n",
       "    operands: 21\n",
       "16. forall\n",
       "    core type: Literal\n",
       "    sub-expressions: \n",
       "17. (x -> {Pr(f(x)) = Pr(g(x)) if x in X.)\n",
       "    core type: ExprTuple\n",
       "    sub-expressions: 22\n",
       "18. in_c\n",
       "    core type: Literal\n",
       "    sub-expressions: \n",
       "19. (Y, SampleSpaces)\n",
       "    core type: ExprTuple\n",
       "    sub-expressions: 33, 23\n",
       "20. (f, Bijections(X, Omega))\n",
       "    core type: ExprTuple\n",
       "    sub-expressions: 46, 24\n",
       "21. (g, Bijections(X, Y))\n",
       "    core type: ExprTuple\n",
       "    sub-expressions: 47, 25\n",
       "22. x -> {Pr(f(x)) = Pr(g(x)) if x in X.\n",
       "    core type: Lambda\n",
       "    parameter: 49\n",
       "    body: 26\n",
       "23. SampleSpaces\n",
       "    core type: Literal\n",
       "    sub-expressions: \n",
       "24. Bijections(X, Omega)\n",
       "    core type: Operation\n",
       "    operator: 28\n",
       "    operands: 27\n",
       "25. Bijections(X, Y)\n",
       "    core type: Operation\n",
       "    operator: 28\n",
       "    operands: 29\n",
       "26. {Pr(f(x)) = Pr(g(x)) if x in X.\n",
       "    core type: Conditional\n",
       "    value: 30\n",
       "    condition: 31\n",
       "27. (X, Omega)\n",
       "    core type: ExprTuple\n",
       "    sub-expressions: 40, 32\n",
       "28. Bijections\n",
       "    core type: Literal\n",
       "    sub-expressions: \n",
       "29. (X, Y)\n",
       "    core type: ExprTuple\n",
       "    sub-expressions: 40, 33\n",
       "30. Pr(f(x)) = Pr(g(x))\n",
       "    core type: Operation\n",
       "    operator: 34\n",
       "    operands: 35\n",
       "31. x in X\n",
       "    core type: Operation\n",
       "    operator: 36\n",
       "    operands: 37\n",
       "32. Omega\n",
       "    core type: Variable\n",
       "    sub-expressions: \n",
       "33. Y\n",
       "    core type: Variable\n",
       "    sub-expressions: \n",
       "34. =\n",
       "    core type: Literal\n",
       "    sub-expressions: \n",
       "35. (Pr(f(x)), Pr(g(x)))\n",
       "    core type: ExprTuple\n",
       "    sub-expressions: 38, 39\n",
       "36. in\n",
       "    core type: Literal\n",
       "    sub-expressions: \n",
       "37. (x, X)\n",
       "    core type: ExprTuple\n",
       "    sub-expressions: 49, 40\n",
       "38. Pr(f(x))\n",
       "    core type: Operation\n",
       "    operator: 42\n",
       "    operand: 44\n",
       "39. Pr(g(x))\n",
       "    core type: Operation\n",
       "    operator: 42\n",
       "    operand: 45\n",
       "40. X\n",
       "    core type: Variable\n",
       "    sub-expressions: \n",
       "41. (f(x))\n",
       "    core type: ExprTuple\n",
       "    sub-expressions: 44\n",
       "42. Pr\n",
       "    core type: Literal\n",
       "    sub-expressions: \n",
       "43. (g(x))\n",
       "    core type: ExprTuple\n",
       "    sub-expressions: 45\n",
       "44. f(x)\n",
       "    core type: Operation\n",
       "    operator: 46\n",
       "    operand: 49\n",
       "45. g(x)\n",
       "    core type: Operation\n",
       "    operator: 47\n",
       "    operand: 49\n",
       "46. f\n",
       "    core type: Variable\n",
       "    sub-expressions: \n",
       "47. g\n",
       "    core type: Variable\n",
       "    sub-expressions: \n",
       "48. (x)\n",
       "    core type: ExprTuple\n",
       "    sub-expressions: 49\n",
       "49. x\n",
       "    core type: Variable\n",
       "    sub-expressions: "
      ]
     },
     "metadata": {},
     "output_type": "display_data"
    }
   ],
   "source": [
    "# display the expression information\n",
    "stored_expr.expr_info()"
   ]
  },
  {
   "cell_type": "code",
   "execution_count": null,
   "metadata": {},
   "outputs": [],
   "source": []
  }
 ],
 "metadata": {
  "kernelspec": {
   "display_name": "Python 3",
   "language": "python",
   "name": "python3"
  }
 },
 "nbformat": 4,
 "nbformat_minor": 0
}