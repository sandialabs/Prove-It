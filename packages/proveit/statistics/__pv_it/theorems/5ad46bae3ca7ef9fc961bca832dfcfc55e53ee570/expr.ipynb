{
 "cells": [
  {
   "cell_type": "markdown",
   "metadata": {},
   "source": [
    "Expression of type <a class=\"ProveItLink\" href=\"../../../../../../doc/html/api/proveit.ExprTuple.html\">ExprTuple</a>\n",
    "=======================\n",
    "# from the theory of <a class=\"ProveItLink\" href=\"../../../_theory_nbs_/theory.ipynb\">proveit.statistics</a>"
   ]
  },
  {
   "cell_type": "code",
   "execution_count": 1,
   "metadata": {},
   "outputs": [],
   "source": [
    "import proveit\n",
    "# Automation is not needed when building an expression:\n",
    "proveit.defaults.automation = False # This will speed things up.\n",
    "proveit.defaults.inline_pngs = False # Makes files smaller.\n",
    "%load_expr # Load the stored expression as 'stored_expr'\n",
    "# import Expression classes needed to build the expression\n",
    "from proveit import A, B, Conditional, ExprTuple, Function, Lambda, Omega, Q, Qx, f, fx, g, gy, x, y\n",
    "from proveit.logic import And, Bijections, Equals, InSet, Injections\n",
    "from proveit.statistics import ProbOfAll"
   ]
  },
  {
   "cell_type": "code",
   "execution_count": 2,
   "metadata": {},
   "outputs": [
    {
     "data": {
      "text/html": [
       "<strong id=\"expr\">expr:</strong> <a class=\"ProveItLink\" href=\"expr.ipynb\"><img src=\"expr.png\" style=\"display:inline;vertical-align:middle;\" /></a><br>"
      ],
      "text/plain": [
       "<IPython.core.display.HTML object>"
      ]
     },
     "metadata": {},
     "output_type": "display_data"
    }
   ],
   "source": [
    "# build up the expression from sub-expressions\n",
    "sub_expr1 = [gy]\n",
    "expr = ExprTuple(Lambda([f, g], Conditional(Equals(ProbOfAll(instance_param_or_params = [x], instance_element = fx, domain = A, condition = Qx), ProbOfAll(instance_param_or_params = [y], instance_element = Function(f, sub_expr1), domain = B, condition = Function(Q, sub_expr1))), And(InSet(f, Injections(A, Omega)), InSet(g, Bijections(B, A))))))"
   ]
  },
  {
   "cell_type": "code",
   "execution_count": 3,
   "metadata": {},
   "outputs": [
    {
     "name": "stdout",
     "output_type": "stream",
     "text": [
      "Passed sanity check: expr matches stored_expr\n"
     ]
    }
   ],
   "source": [
    "# check that the built expression is the same as the stored expression\n",
    "assert expr == stored_expr\n",
    "assert expr._style_id == stored_expr._style_id\n",
    "print(\"Passed sanity check: expr matches stored_expr\")"
   ]
  },
  {
   "cell_type": "code",
   "execution_count": 4,
   "metadata": {},
   "outputs": [
    {
     "name": "stdout",
     "output_type": "stream",
     "text": [
      "\\left(\\left(f, g\\right) \\mapsto \\left\\{\\left[\\textrm{Prob}_{x \\in A~|~Q\\left(x\\right)}~f\\left(x\\right)\\right] = \\left[\\textrm{Prob}_{y \\in B~|~Q\\left(g\\left(y\\right)\\right)}~f\\left(g\\left(y\\right)\\right)\\right] \\textrm{ if } f \\in \\left[A \\xrightarrow[]{\\text{1-to-1}} \\Omega\\right] ,  g \\in \\left[B \\xrightarrow[\\text{onto}]{\\text{1-to-1}} A\\right]\\right..\\right)\n"
     ]
    }
   ],
   "source": [
    "# Show the LaTeX representation of the expression for convenience if you need it.\n",
    "print(stored_expr.latex())"
   ]
  },
  {
   "cell_type": "code",
   "execution_count": 5,
   "metadata": {},
   "outputs": [
    {
     "data": {
      "text/html": [
       "no style options"
      ],
      "text/plain": [
       "no style options"
      ]
     },
     "metadata": {},
     "output_type": "display_data"
    }
   ],
   "source": [
    "stored_expr.style_options()"
   ]
  },
  {
   "cell_type": "code",
   "execution_count": 6,
   "metadata": {},
   "outputs": [
    {
     "data": {
      "text/html": [
       "<table><tr><th>&nbsp;</th><th>core type</th><th>sub-expressions</th><th>expression</th></tr>\n",
       "<tr><td>0</td><td>ExprTuple</td><td>1</td><td><a class=\"ProveItLink\" href=\"expr.ipynb\"><img src=\"expr.png\" style=\"display:inline;vertical-align:middle;\" /></a></td></tr>\n",
       "<tr><td>1</td><td>Lambda</td><td>parameters:&nbsp;2<br>body:&nbsp;3<br></td><td><a class=\"ProveItLink\" href=\"../ddcebd788085a0172189a60101850c88e9bab2b70/expr.ipynb\"><img src=\"../ddcebd788085a0172189a60101850c88e9bab2b70/expr.png\" style=\"display:inline;vertical-align:middle;\" /></a></td></tr>\n",
       "<tr><td>2</td><td>ExprTuple</td><td>34, 51</td><td><a class=\"ProveItLink\" href=\"../2c954f158acc6105edefb51b37f61ee4473f2f420/expr.ipynb\"><img src=\"../2c954f158acc6105edefb51b37f61ee4473f2f420/expr.png\" style=\"display:inline;vertical-align:middle;\" /></a></td></tr>\n",
       "<tr><td>3</td><td>Conditional</td><td>value:&nbsp;4<br>condition:&nbsp;5<br></td><td><a class=\"ProveItLink\" href=\"../57941b15a6191bebb98b74d4b34bd3563c68e5a90/expr.ipynb\"><img src=\"../57941b15a6191bebb98b74d4b34bd3563c68e5a90/expr.png\" style=\"display:inline;vertical-align:middle;\" /></a></td></tr>\n",
       "<tr><td>4</td><td>Operation</td><td>operator:&nbsp;6<br>operands:&nbsp;7<br></td><td><a class=\"ProveItLink\" href=\"../91aa13492adaf724d3b70656aeb7d6286b3987030/expr.ipynb\"><img src=\"../91aa13492adaf724d3b70656aeb7d6286b3987030/expr.png\" style=\"display:inline;vertical-align:middle;\" /></a></td></tr>\n",
       "<tr><td>5</td><td>Operation</td><td>operator:&nbsp;35<br>operands:&nbsp;8<br></td><td><a class=\"ProveItLink\" href=\"../de13552fea3bae859ca5773bfd0e92c6b1634f870/expr.ipynb\"><img src=\"../de13552fea3bae859ca5773bfd0e92c6b1634f870/expr.png\" style=\"display:inline;vertical-align:middle;\" /></a></td></tr>\n",
       "<tr><td>6</td><td>Literal</td><td></td><td><a class=\"ProveItLink\" href=\"../../../../logic/equality/__pv_it/common/fb96dc12b2aa8801dda64d0132b396c63d1502bb0/expr.ipynb\"><img src=\"../../../../logic/equality/__pv_it/common/fb96dc12b2aa8801dda64d0132b396c63d1502bb0/expr.png\" style=\"display:inline;vertical-align:middle;\" /></a></td></tr>\n",
       "<tr><td>7</td><td>ExprTuple</td><td>9, 10</td><td><a class=\"ProveItLink\" href=\"../d91c4796493ee7732da360a4cdef9c2b7e7e64f80/expr.ipynb\"><img src=\"../d91c4796493ee7732da360a4cdef9c2b7e7e64f80/expr.png\" style=\"display:inline;vertical-align:middle;\" /></a></td></tr>\n",
       "<tr><td>8</td><td>ExprTuple</td><td>11, 12</td><td><a class=\"ProveItLink\" href=\"../eb7f92ef101df30f187ff1f8aa145f049d64fbd20/expr.ipynb\"><img src=\"../eb7f92ef101df30f187ff1f8aa145f049d64fbd20/expr.png\" style=\"display:inline;vertical-align:middle;\" /></a></td></tr>\n",
       "<tr><td>9</td><td>Operation</td><td>operator:&nbsp;14<br>operand:&nbsp;18<br></td><td><a class=\"ProveItLink\" href=\"../076ec8aeb30a964cbc47d70bacf7d969dc4e8d160/expr.ipynb\"><img src=\"../076ec8aeb30a964cbc47d70bacf7d969dc4e8d160/expr.png\" style=\"display:inline;vertical-align:middle;\" /></a></td></tr>\n",
       "<tr><td>10</td><td>Operation</td><td>operator:&nbsp;14<br>operand:&nbsp;19<br></td><td><a class=\"ProveItLink\" href=\"../e4f93b9b1cba922419840d7b965be77d9fa307420/expr.ipynb\"><img src=\"../e4f93b9b1cba922419840d7b965be77d9fa307420/expr.png\" style=\"display:inline;vertical-align:middle;\" /></a></td></tr>\n",
       "<tr><td>11</td><td>Operation</td><td>operator:&nbsp;43<br>operands:&nbsp;16<br></td><td><a class=\"ProveItLink\" href=\"../48794d8df3e516cb09d1ec7ad25dc3014d20eae10/expr.ipynb\"><img src=\"../48794d8df3e516cb09d1ec7ad25dc3014d20eae10/expr.png\" style=\"display:inline;vertical-align:middle;\" /></a></td></tr>\n",
       "<tr><td>12</td><td>Operation</td><td>operator:&nbsp;43<br>operands:&nbsp;17<br></td><td><a class=\"ProveItLink\" href=\"../7cee5ccd3195d4760bd42d4e7104dd1ed92c81250/expr.ipynb\"><img src=\"../7cee5ccd3195d4760bd42d4e7104dd1ed92c81250/expr.png\" style=\"display:inline;vertical-align:middle;\" /></a></td></tr>\n",
       "<tr><td>13</td><td>ExprTuple</td><td>18</td><td><a class=\"ProveItLink\" href=\"../220a94ad2b6c41cc2bdf4070026739adb716b12a0/expr.ipynb\"><img src=\"../220a94ad2b6c41cc2bdf4070026739adb716b12a0/expr.png\" style=\"display:inline;vertical-align:middle;\" /></a></td></tr>\n",
       "<tr><td>14</td><td>Literal</td><td></td><td><a class=\"ProveItLink\" href=\"../../common/bf8e6ae6a9b0a51a97b3e4d62d4b2c23d653c7080/expr.ipynb\"><img src=\"../../common/bf8e6ae6a9b0a51a97b3e4d62d4b2c23d653c7080/expr.png\" style=\"display:inline;vertical-align:middle;\" /></a></td></tr>\n",
       "<tr><td>15</td><td>ExprTuple</td><td>19</td><td><a class=\"ProveItLink\" href=\"../b87fa7f29c6be47326236c4f7b4148abc54a9ffc0/expr.ipynb\"><img src=\"../b87fa7f29c6be47326236c4f7b4148abc54a9ffc0/expr.png\" style=\"display:inline;vertical-align:middle;\" /></a></td></tr>\n",
       "<tr><td>16</td><td>ExprTuple</td><td>34, 20</td><td><a class=\"ProveItLink\" href=\"../b32ebea3e458c9c9475654d489d0c8fd5e6626440/expr.ipynb\"><img src=\"../b32ebea3e458c9c9475654d489d0c8fd5e6626440/expr.png\" style=\"display:inline;vertical-align:middle;\" /></a></td></tr>\n",
       "<tr><td>17</td><td>ExprTuple</td><td>51, 21</td><td><a class=\"ProveItLink\" href=\"../e34a40b8812b7d81d66d95380b47600182b2948d0/expr.ipynb\"><img src=\"../e34a40b8812b7d81d66d95380b47600182b2948d0/expr.png\" style=\"display:inline;vertical-align:middle;\" /></a></td></tr>\n",
       "<tr><td>18</td><td>Lambda</td><td>parameter:&nbsp;48<br>body:&nbsp;22<br></td><td><a class=\"ProveItLink\" href=\"../fb01019df7517f9a53caad56176ab5e3d0c3dace0/expr.ipynb\"><img src=\"../fb01019df7517f9a53caad56176ab5e3d0c3dace0/expr.png\" style=\"display:inline;vertical-align:middle;\" /></a></td></tr>\n",
       "<tr><td>19</td><td>Lambda</td><td>parameter:&nbsp;53<br>body:&nbsp;23<br></td><td><a class=\"ProveItLink\" href=\"../54cc498de86f277702b313aac1fcf374814091d30/expr.ipynb\"><img src=\"../54cc498de86f277702b313aac1fcf374814091d30/expr.png\" style=\"display:inline;vertical-align:middle;\" /></a></td></tr>\n",
       "<tr><td>20</td><td>Operation</td><td>operator:&nbsp;24<br>operands:&nbsp;25<br></td><td><a class=\"ProveItLink\" href=\"../8f75f506d10344ca05fea3da07f061a41f33f6d30/expr.ipynb\"><img src=\"../8f75f506d10344ca05fea3da07f061a41f33f6d30/expr.png\" style=\"display:inline;vertical-align:middle;\" /></a></td></tr>\n",
       "<tr><td>21</td><td>Operation</td><td>operator:&nbsp;26<br>operands:&nbsp;27<br></td><td><a class=\"ProveItLink\" href=\"../6d6edd865f90a3d18f995e4b2c6af6c308f9ce140/expr.ipynb\"><img src=\"../6d6edd865f90a3d18f995e4b2c6af6c308f9ce140/expr.png\" style=\"display:inline;vertical-align:middle;\" /></a></td></tr>\n",
       "<tr><td>22</td><td>Conditional</td><td>value:&nbsp;28<br>condition:&nbsp;29<br></td><td><a class=\"ProveItLink\" href=\"../69de212c74f4c97f3fb9b66a3220574493cc2fc60/expr.ipynb\"><img src=\"../69de212c74f4c97f3fb9b66a3220574493cc2fc60/expr.png\" style=\"display:inline;vertical-align:middle;\" /></a></td></tr>\n",
       "<tr><td>23</td><td>Conditional</td><td>value:&nbsp;30<br>condition:&nbsp;31<br></td><td><a class=\"ProveItLink\" href=\"../4a1142da843847bd9d3bf64e192ba4533679efcb0/expr.ipynb\"><img src=\"../4a1142da843847bd9d3bf64e192ba4533679efcb0/expr.png\" style=\"display:inline;vertical-align:middle;\" /></a></td></tr>\n",
       "<tr><td>24</td><td>Literal</td><td></td><td><a class=\"ProveItLink\" href=\"../../../../logic/sets/functions/injections/__pv_it/common/9732b79cd346b8d4e34560d9e00a1266966cd3250/expr.ipynb\"><img src=\"../../../../logic/sets/functions/injections/__pv_it/common/9732b79cd346b8d4e34560d9e00a1266966cd3250/expr.png\" style=\"display:inline;vertical-align:middle;\" /></a></td></tr>\n",
       "<tr><td>25</td><td>ExprTuple</td><td>47, 32</td><td><a class=\"ProveItLink\" href=\"../19a95317fac38d799d0cf6613c606ed7e22e4bde0/expr.ipynb\"><img src=\"../19a95317fac38d799d0cf6613c606ed7e22e4bde0/expr.png\" style=\"display:inline;vertical-align:middle;\" /></a></td></tr>\n",
       "<tr><td>26</td><td>Literal</td><td></td><td><a class=\"ProveItLink\" href=\"../../../../logic/sets/functions/bijections/__pv_it/common/4d5b70c2a4c97df1b8c27c8cfe8e6aacede0cb130/expr.ipynb\"><img src=\"../../../../logic/sets/functions/bijections/__pv_it/common/4d5b70c2a4c97df1b8c27c8cfe8e6aacede0cb130/expr.png\" style=\"display:inline;vertical-align:middle;\" /></a></td></tr>\n",
       "<tr><td>27</td><td>ExprTuple</td><td>49, 47</td><td><a class=\"ProveItLink\" href=\"../eea868dfdc76ebd2b3c14c306a89babeb4ac740d0/expr.ipynb\"><img src=\"../eea868dfdc76ebd2b3c14c306a89babeb4ac740d0/expr.png\" style=\"display:inline;vertical-align:middle;\" /></a></td></tr>\n",
       "<tr><td>28</td><td>Operation</td><td>operator:&nbsp;34<br>operand:&nbsp;48<br></td><td><a class=\"ProveItLink\" href=\"../../../../__pv_it/common/6774f61458aed4cc9eb250f92b3634f1d09b19a40/expr.ipynb\"><img src=\"../../../../__pv_it/common/6774f61458aed4cc9eb250f92b3634f1d09b19a40/expr.png\" style=\"display:inline;vertical-align:middle;\" /></a></td></tr>\n",
       "<tr><td>29</td><td>Operation</td><td>operator:&nbsp;35<br>operands:&nbsp;33<br></td><td><a class=\"ProveItLink\" href=\"../5d2c5c84ec15fcc2b60ec70953b96020743e670a0/expr.ipynb\"><img src=\"../5d2c5c84ec15fcc2b60ec70953b96020743e670a0/expr.png\" style=\"display:inline;vertical-align:middle;\" /></a></td></tr>\n",
       "<tr><td>30</td><td>Operation</td><td>operator:&nbsp;34<br>operand:&nbsp;50<br></td><td><a class=\"ProveItLink\" href=\"../326d7a0dd13f10673c94be04316f078a410fd53f0/expr.ipynb\"><img src=\"../326d7a0dd13f10673c94be04316f078a410fd53f0/expr.png\" style=\"display:inline;vertical-align:middle;\" /></a></td></tr>\n",
       "<tr><td>31</td><td>Operation</td><td>operator:&nbsp;35<br>operands:&nbsp;36<br></td><td><a class=\"ProveItLink\" href=\"../294e8e05b172d214df28e2332cfe9c994b85bc070/expr.ipynb\"><img src=\"../294e8e05b172d214df28e2332cfe9c994b85bc070/expr.png\" style=\"display:inline;vertical-align:middle;\" /></a></td></tr>\n",
       "<tr><td>32</td><td>Variable</td><td></td><td><a class=\"ProveItLink\" href=\"../../../../__pv_it/common/53406c163510d898bbe57aa9c808cb4fce1aa1e40/expr.ipynb\"><img src=\"../../../../__pv_it/common/53406c163510d898bbe57aa9c808cb4fce1aa1e40/expr.png\" style=\"display:inline;vertical-align:middle;\" /></a></td></tr>\n",
       "<tr><td>33</td><td>ExprTuple</td><td>37, 38</td><td><a class=\"ProveItLink\" href=\"../26a913ff9f28742b56717cfc7fef6e7ae8791d5d0/expr.ipynb\"><img src=\"../26a913ff9f28742b56717cfc7fef6e7ae8791d5d0/expr.png\" style=\"display:inline;vertical-align:middle;\" /></a></td></tr>\n",
       "<tr><td>34</td><td>Variable</td><td></td><td><a class=\"ProveItLink\" href=\"../../../../__pv_it/common/01b6dbb444a31fc38af4c2379badef6c75b363710/expr.ipynb\"><img src=\"../../../../__pv_it/common/01b6dbb444a31fc38af4c2379badef6c75b363710/expr.png\" style=\"display:inline;vertical-align:middle;\" /></a></td></tr>\n",
       "<tr><td>35</td><td>Literal</td><td></td><td><a class=\"ProveItLink\" href=\"../../../../logic/booleans/conjunction/__pv_it/common/42118ff318bd65d98b1393f64ce7c2269feef76e0/expr.ipynb\"><img src=\"../../../../logic/booleans/conjunction/__pv_it/common/42118ff318bd65d98b1393f64ce7c2269feef76e0/expr.png\" style=\"display:inline;vertical-align:middle;\" /></a></td></tr>\n",
       "<tr><td>36</td><td>ExprTuple</td><td>39, 40</td><td><a class=\"ProveItLink\" href=\"../4c2cdba6be8b4cfa32d9f2e6269839753946bab60/expr.ipynb\"><img src=\"../4c2cdba6be8b4cfa32d9f2e6269839753946bab60/expr.png\" style=\"display:inline;vertical-align:middle;\" /></a></td></tr>\n",
       "<tr><td>37</td><td>Operation</td><td>operator:&nbsp;43<br>operands:&nbsp;41<br></td><td><a class=\"ProveItLink\" href=\"../bffc8f58d953dcb8331468867a32979a833e73840/expr.ipynb\"><img src=\"../bffc8f58d953dcb8331468867a32979a833e73840/expr.png\" style=\"display:inline;vertical-align:middle;\" /></a></td></tr>\n",
       "<tr><td>38</td><td>Operation</td><td>operator:&nbsp;45<br>operand:&nbsp;48<br></td><td><a class=\"ProveItLink\" href=\"../../../../__pv_it/common/fce49534291e406d3d43684e225f1a2779a61f030/expr.ipynb\"><img src=\"../../../../__pv_it/common/fce49534291e406d3d43684e225f1a2779a61f030/expr.png\" style=\"display:inline;vertical-align:middle;\" /></a></td></tr>\n",
       "<tr><td>39</td><td>Operation</td><td>operator:&nbsp;43<br>operands:&nbsp;44<br></td><td><a class=\"ProveItLink\" href=\"../569783d32d698768774c304892c5b84b10f50b360/expr.ipynb\"><img src=\"../569783d32d698768774c304892c5b84b10f50b360/expr.png\" style=\"display:inline;vertical-align:middle;\" /></a></td></tr>\n",
       "<tr><td>40</td><td>Operation</td><td>operator:&nbsp;45<br>operand:&nbsp;50<br></td><td><a class=\"ProveItLink\" href=\"../06b8ab0420c18b82218449a5230cf451a25a7a2a0/expr.ipynb\"><img src=\"../06b8ab0420c18b82218449a5230cf451a25a7a2a0/expr.png\" style=\"display:inline;vertical-align:middle;\" /></a></td></tr>\n",
       "<tr><td>41</td><td>ExprTuple</td><td>48, 47</td><td><a class=\"ProveItLink\" href=\"../dd56fa97225795c53cc6b814c99b8e98e0e999f10/expr.ipynb\"><img src=\"../dd56fa97225795c53cc6b814c99b8e98e0e999f10/expr.png\" style=\"display:inline;vertical-align:middle;\" /></a></td></tr>\n",
       "<tr><td>42</td><td>ExprTuple</td><td>48</td><td><a class=\"ProveItLink\" href=\"../../../../__pv_it/common/eacfeccc0521684fcb20fe8f5180ac50fca471f20/expr.ipynb\"><img src=\"../../../../__pv_it/common/eacfeccc0521684fcb20fe8f5180ac50fca471f20/expr.png\" style=\"display:inline;vertical-align:middle;\" /></a></td></tr>\n",
       "<tr><td>43</td><td>Literal</td><td></td><td><a class=\"ProveItLink\" href=\"../../../../logic/sets/membership/__pv_it/common/477487d8796864d23d5810f83761435f25167f690/expr.ipynb\"><img src=\"../../../../logic/sets/membership/__pv_it/common/477487d8796864d23d5810f83761435f25167f690/expr.png\" style=\"display:inline;vertical-align:middle;\" /></a></td></tr>\n",
       "<tr><td>44</td><td>ExprTuple</td><td>53, 49</td><td><a class=\"ProveItLink\" href=\"../787fe960e9ab6fceff9f4b2fb35a4235767ffca30/expr.ipynb\"><img src=\"../787fe960e9ab6fceff9f4b2fb35a4235767ffca30/expr.png\" style=\"display:inline;vertical-align:middle;\" /></a></td></tr>\n",
       "<tr><td>45</td><td>Variable</td><td></td><td><a class=\"ProveItLink\" href=\"../../../../__pv_it/common/d72bb8b07403efe79afab564c36a28e21330e5f90/expr.ipynb\"><img src=\"../../../../__pv_it/common/d72bb8b07403efe79afab564c36a28e21330e5f90/expr.png\" style=\"display:inline;vertical-align:middle;\" /></a></td></tr>\n",
       "<tr><td>46</td><td>ExprTuple</td><td>50</td><td><a class=\"ProveItLink\" href=\"../a38c7329e3b36b738ea4132322399510075c2e720/expr.ipynb\"><img src=\"../a38c7329e3b36b738ea4132322399510075c2e720/expr.png\" style=\"display:inline;vertical-align:middle;\" /></a></td></tr>\n",
       "<tr><td>47</td><td>Variable</td><td></td><td><a class=\"ProveItLink\" href=\"../../../../__pv_it/common/09585084922504426caf1db2ff588a23a0932a960/expr.ipynb\"><img src=\"../../../../__pv_it/common/09585084922504426caf1db2ff588a23a0932a960/expr.png\" style=\"display:inline;vertical-align:middle;\" /></a></td></tr>\n",
       "<tr><td>48</td><td>Variable</td><td></td><td><a class=\"ProveItLink\" href=\"../../../../__pv_it/common/a0d9d672aa5e272d907247690c152cc2c6daafb70/expr.ipynb\"><img src=\"../../../../__pv_it/common/a0d9d672aa5e272d907247690c152cc2c6daafb70/expr.png\" style=\"display:inline;vertical-align:middle;\" /></a></td></tr>\n",
       "<tr><td>49</td><td>Variable</td><td></td><td><a class=\"ProveItLink\" href=\"../../../../__pv_it/common/a9162d1c3cc0470c02e5daf414500903a7a419230/expr.ipynb\"><img src=\"../../../../__pv_it/common/a9162d1c3cc0470c02e5daf414500903a7a419230/expr.png\" style=\"display:inline;vertical-align:middle;\" /></a></td></tr>\n",
       "<tr><td>50</td><td>Operation</td><td>operator:&nbsp;51<br>operand:&nbsp;53<br></td><td><a class=\"ProveItLink\" href=\"../../../../__pv_it/common/514d0ecf28cd917923cd997139a3840e1dea92bb0/expr.ipynb\"><img src=\"../../../../__pv_it/common/514d0ecf28cd917923cd997139a3840e1dea92bb0/expr.png\" style=\"display:inline;vertical-align:middle;\" /></a></td></tr>\n",
       "<tr><td>51</td><td>Variable</td><td></td><td><a class=\"ProveItLink\" href=\"../../../../__pv_it/common/96ac097ea7ee432328a5e933062d0ef407701bf40/expr.ipynb\"><img src=\"../../../../__pv_it/common/96ac097ea7ee432328a5e933062d0ef407701bf40/expr.png\" style=\"display:inline;vertical-align:middle;\" /></a></td></tr>\n",
       "<tr><td>52</td><td>ExprTuple</td><td>53</td><td><a class=\"ProveItLink\" href=\"../../../../__pv_it/common/8ec7f6fe639763828b300003a52d700ece4a5c240/expr.ipynb\"><img src=\"../../../../__pv_it/common/8ec7f6fe639763828b300003a52d700ece4a5c240/expr.png\" style=\"display:inline;vertical-align:middle;\" /></a></td></tr>\n",
       "<tr><td>53</td><td>Variable</td><td></td><td><a class=\"ProveItLink\" href=\"../../../../__pv_it/common/ff7dba4ef0bbe791ab573bf2d9c220a304399ac80/expr.ipynb\"><img src=\"../../../../__pv_it/common/ff7dba4ef0bbe791ab573bf2d9c220a304399ac80/expr.png\" style=\"display:inline;vertical-align:middle;\" /></a></td></tr>\n",
       "</table>\n"
      ],
      "text/plain": [
       "0. ((f, g) -> {[Prob_{x in A | Q(x)} f(x)] = [Prob_{y in B | Q(g(y))} f(g(y))] if f in Injections(A, Omega) ,  g in Bijections(B, A).)\n",
       "   core type: ExprTuple\n",
       "   sub-expressions: 1\n",
       "1. (f, g) -> {[Prob_{x in A | Q(x)} f(x)] = [Prob_{y in B | Q(g(y))} f(g(y))] if f in Injections(A, Omega) ,  g in Bijections(B, A).\n",
       "   core type: Lambda\n",
       "   parameters: 2\\n   body: 3\n",
       "2. (f, g)\n",
       "   core type: ExprTuple\n",
       "   sub-expressions: 34, 51\n",
       "3. {[Prob_{x in A | Q(x)} f(x)] = [Prob_{y in B | Q(g(y))} f(g(y))] if f in Injections(A, Omega) ,  g in Bijections(B, A).\n",
       "   core type: Conditional\n",
       "   value: 4\n",
       "   condition: 5\n",
       "4. [Prob_{x in A | Q(x)} f(x)] = [Prob_{y in B | Q(g(y))} f(g(y))]\n",
       "   core type: Operation\n",
       "   operator: 6\n",
       "   operands: 7\n",
       "5. (f in Injections(A, Omega)) and (g in Bijections(B, A))\n",
       "   core type: Operation\n",
       "   operator: 35\n",
       "   operands: 8\n",
       "6. =\n",
       "   core type: Literal\n",
       "   sub-expressions: \n",
       "7. (Prob_{x in A | Q(x)} f(x), Prob_{y in B | Q(g(y))} f(g(y)))\n",
       "   core type: ExprTuple\n",
       "   sub-expressions: 9, 10\n",
       "8. (f in Injections(A, Omega), g in Bijections(B, A))\n",
       "   core type: ExprTuple\n",
       "   sub-expressions: 11, 12\n",
       "9. Prob_{x in A | Q(x)} f(x)\n",
       "   core type: Operation\n",
       "   operator: 14\n",
       "   operand: 18\n",
       "10. Prob_{y in B | Q(g(y))} f(g(y))\n",
       "    core type: Operation\n",
       "    operator: 14\n",
       "    operand: 19\n",
       "11. f in Injections(A, Omega)\n",
       "    core type: Operation\n",
       "    operator: 43\n",
       "    operands: 16\n",
       "12. g in Bijections(B, A)\n",
       "    core type: Operation\n",
       "    operator: 43\n",
       "    operands: 17\n",
       "13. (x -> {f(x) if x in A ,  Q(x).)\n",
       "    core type: ExprTuple\n",
       "    sub-expressions: 18\n",
       "14. Prob\n",
       "    core type: Literal\n",
       "    sub-expressions: \n",
       "15. (y -> {f(g(y)) if y in B ,  Q(g(y)).)\n",
       "    core type: ExprTuple\n",
       "    sub-expressions: 19\n",
       "16. (f, Injections(A, Omega))\n",
       "    core type: ExprTuple\n",
       "    sub-expressions: 34, 20\n",
       "17. (g, Bijections(B, A))\n",
       "    core type: ExprTuple\n",
       "    sub-expressions: 51, 21\n",
       "18. x -> {f(x) if x in A ,  Q(x).\n",
       "    core type: Lambda\n",
       "    parameter: 48\n",
       "    body: 22\n",
       "19. y -> {f(g(y)) if y in B ,  Q(g(y)).\n",
       "    core type: Lambda\n",
       "    parameter: 53\n",
       "    body: 23\n",
       "20. Injections(A, Omega)\n",
       "    core type: Operation\n",
       "    operator: 24\n",
       "    operands: 25\n",
       "21. Bijections(B, A)\n",
       "    core type: Operation\n",
       "    operator: 26\n",
       "    operands: 27\n",
       "22. {f(x) if x in A ,  Q(x).\n",
       "    core type: Conditional\n",
       "    value: 28\n",
       "    condition: 29\n",
       "23. {f(g(y)) if y in B ,  Q(g(y)).\n",
       "    core type: Conditional\n",
       "    value: 30\n",
       "    condition: 31\n",
       "24. Injections\n",
       "    core type: Literal\n",
       "    sub-expressions: \n",
       "25. (A, Omega)\n",
       "    core type: ExprTuple\n",
       "    sub-expressions: 47, 32\n",
       "26. Bijections\n",
       "    core type: Literal\n",
       "    sub-expressions: \n",
       "27. (B, A)\n",
       "    core type: ExprTuple\n",
       "    sub-expressions: 49, 47\n",
       "28. f(x)\n",
       "    core type: Operation\n",
       "    operator: 34\n",
       "    operand: 48\n",
       "29. (x in A) and Q(x)\n",
       "    core type: Operation\n",
       "    operator: 35\n",
       "    operands: 33\n",
       "30. f(g(y))\n",
       "    core type: Operation\n",
       "    operator: 34\n",
       "    operand: 50\n",
       "31. (y in B) and Q(g(y))\n",
       "    core type: Operation\n",
       "    operator: 35\n",
       "    operands: 36\n",
       "32. Omega\n",
       "    core type: Variable\n",
       "    sub-expressions: \n",
       "33. (x in A, Q(x))\n",
       "    core type: ExprTuple\n",
       "    sub-expressions: 37, 38\n",
       "34. f\n",
       "    core type: Variable\n",
       "    sub-expressions: \n",
       "35. and\n",
       "    core type: Literal\n",
       "    sub-expressions: \n",
       "36. (y in B, Q(g(y)))\n",
       "    core type: ExprTuple\n",
       "    sub-expressions: 39, 40\n",
       "37. x in A\n",
       "    core type: Operation\n",
       "    operator: 43\n",
       "    operands: 41\n",
       "38. Q(x)\n",
       "    core type: Operation\n",
       "    operator: 45\n",
       "    operand: 48\n",
       "39. y in B\n",
       "    core type: Operation\n",
       "    operator: 43\n",
       "    operands: 44\n",
       "40. Q(g(y))\n",
       "    core type: Operation\n",
       "    operator: 45\n",
       "    operand: 50\n",
       "41. (x, A)\n",
       "    core type: ExprTuple\n",
       "    sub-expressions: 48, 47\n",
       "42. (x)\n",
       "    core type: ExprTuple\n",
       "    sub-expressions: 48\n",
       "43. in\n",
       "    core type: Literal\n",
       "    sub-expressions: \n",
       "44. (y, B)\n",
       "    core type: ExprTuple\n",
       "    sub-expressions: 53, 49\n",
       "45. Q\n",
       "    core type: Variable\n",
       "    sub-expressions: \n",
       "46. (g(y))\n",
       "    core type: ExprTuple\n",
       "    sub-expressions: 50\n",
       "47. A\n",
       "    core type: Variable\n",
       "    sub-expressions: \n",
       "48. x\n",
       "    core type: Variable\n",
       "    sub-expressions: \n",
       "49. B\n",
       "    core type: Variable\n",
       "    sub-expressions: \n",
       "50. g(y)\n",
       "    core type: Operation\n",
       "    operator: 51\n",
       "    operand: 53\n",
       "51. g\n",
       "    core type: Variable\n",
       "    sub-expressions: \n",
       "52. (y)\n",
       "    core type: ExprTuple\n",
       "    sub-expressions: 53\n",
       "53. y\n",
       "    core type: Variable\n",
       "    sub-expressions: "
      ]
     },
     "metadata": {},
     "output_type": "display_data"
    }
   ],
   "source": [
    "# display the expression information\n",
    "stored_expr.expr_info()"
   ]
  },
  {
   "cell_type": "code",
   "execution_count": null,
   "metadata": {},
   "outputs": [],
   "source": []
  }
 ],
 "metadata": {
  "kernelspec": {
   "display_name": "Python 3",
   "language": "python",
   "name": "python3"
  }
 },
 "nbformat": 4,
 "nbformat_minor": 0
}