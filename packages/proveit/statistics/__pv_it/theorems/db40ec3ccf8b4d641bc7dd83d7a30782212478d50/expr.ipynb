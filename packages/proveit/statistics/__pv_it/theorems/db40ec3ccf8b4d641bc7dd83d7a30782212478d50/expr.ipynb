{
 "cells": [
  {
   "cell_type": "markdown",
   "metadata": {},
   "source": [
    "Expression of type <a class=\"ProveItLink\" href=\"../../../../../../doc/html/api/proveit.Lambda.html\">Lambda</a>\n",
    "=======================\n",
    "# from the theory of <a class=\"ProveItLink\" href=\"../../../_theory_nbs_/theory.ipynb\">proveit.statistics</a>"
   ]
  },
  {
   "cell_type": "code",
   "execution_count": 1,
   "metadata": {},
   "outputs": [],
   "source": [
    "import proveit\n",
    "# Automation is not needed when building an expression:\n",
    "proveit.defaults.automation = False # This will speed things up.\n",
    "proveit.defaults.inline_pngs = False # Makes files smaller.\n",
    "%load_expr # Load the stored expression as 'stored_expr'\n",
    "# import Expression classes needed to build the expression\n",
    "from proveit import A, B, Function, Lambda, Omega, Q, Qx, f, fx, g, gy, x, y\n",
    "from proveit.logic import Bijections, Equals, Forall, Injections\n",
    "from proveit.statistics import ProbOfAll"
   ]
  },
  {
   "cell_type": "code",
   "execution_count": 2,
   "metadata": {},
   "outputs": [
    {
     "data": {
      "text/html": [
       "<strong id=\"expr\">expr:</strong> <a class=\"ProveItLink\" href=\"expr.ipynb\"><img src=\"expr.png\" style=\"display:inline;vertical-align:middle;\" /></a><br>"
      ],
      "text/plain": [
       "<IPython.core.display.HTML object>"
      ]
     },
     "metadata": {},
     "output_type": "display_data"
    }
   ],
   "source": [
    "# build up the expression from sub-expressions\n",
    "sub_expr1 = [gy]\n",
    "expr = Lambda([A, B, Q], Forall(instance_param_or_params = [f, g], instance_expr = Equals(ProbOfAll(instance_param_or_params = [x], instance_element = fx, domain = A, condition = Qx), ProbOfAll(instance_param_or_params = [y], instance_element = Function(f, sub_expr1), domain = B, condition = Function(Q, sub_expr1))), domains = [Injections(A, Omega), Bijections(B, A)]).with_wrapping())"
   ]
  },
  {
   "cell_type": "code",
   "execution_count": 3,
   "metadata": {},
   "outputs": [
    {
     "name": "stdout",
     "output_type": "stream",
     "text": [
      "Passed sanity check: expr matches stored_expr\n"
     ]
    }
   ],
   "source": [
    "# check that the built expression is the same as the stored expression\n",
    "assert expr == stored_expr\n",
    "assert expr._style_id == stored_expr._style_id\n",
    "print(\"Passed sanity check: expr matches stored_expr\")"
   ]
  },
  {
   "cell_type": "code",
   "execution_count": 4,
   "metadata": {},
   "outputs": [
    {
     "name": "stdout",
     "output_type": "stream",
     "text": [
      "\\left(A, B, Q\\right) \\mapsto \\left[\\begin{array}{l}\\forall_{f \\in \\left[A \\xrightarrow[]{\\text{1-to-1}} \\Omega\\right], g \\in \\left[B \\xrightarrow[\\text{onto}]{\\text{1-to-1}} A\\right]}~\\\\\n",
      "\\left(\\left[\\textrm{Prob}_{x \\in A~|~Q\\left(x\\right)}~f\\left(x\\right)\\right] = \\left[\\textrm{Prob}_{y \\in B~|~Q\\left(g\\left(y\\right)\\right)}~f\\left(g\\left(y\\right)\\right)\\right]\\right)\\end{array}\\right]\n"
     ]
    }
   ],
   "source": [
    "# Show the LaTeX representation of the expression for convenience if you need it.\n",
    "print(stored_expr.latex())"
   ]
  },
  {
   "cell_type": "code",
   "execution_count": 5,
   "metadata": {},
   "outputs": [
    {
     "data": {
      "text/html": [
       "no style options"
      ],
      "text/plain": [
       "no style options"
      ]
     },
     "metadata": {},
     "output_type": "display_data"
    }
   ],
   "source": [
    "stored_expr.style_options()"
   ]
  },
  {
   "cell_type": "code",
   "execution_count": 6,
   "metadata": {},
   "outputs": [
    {
     "data": {
      "text/html": [
       "<table><tr><th>&nbsp;</th><th>core type</th><th>sub-expressions</th><th>expression</th></tr>\n",
       "<tr><td>0</td><td>Lambda</td><td>parameters:&nbsp;1<br>body:&nbsp;2<br></td><td><a class=\"ProveItLink\" href=\"expr.ipynb\"><img src=\"expr.png\" style=\"display:inline;vertical-align:middle;\" /></a></td></tr>\n",
       "<tr><td>1</td><td>ExprTuple</td><td>51, 53, 49</td><td><a class=\"ProveItLink\" href=\"../046a229e8489fc7bc842f15c4df158531b8ced710/expr.ipynb\"><img src=\"../046a229e8489fc7bc842f15c4df158531b8ced710/expr.png\" style=\"display:inline;vertical-align:middle;\" /></a></td></tr>\n",
       "<tr><td>2</td><td>Operation</td><td>operator:&nbsp;3<br>operand:&nbsp;5<br></td><td><a class=\"ProveItLink\" href=\"../d91673125017ee512c34d295f308d6f3e995defd0/expr.ipynb\"><img src=\"../d91673125017ee512c34d295f308d6f3e995defd0/expr.png\" style=\"display:inline;vertical-align:middle;\" /></a></td></tr>\n",
       "<tr><td>3</td><td>Literal</td><td></td><td><a class=\"ProveItLink\" href=\"../../../../logic/booleans/quantification/universality/__pv_it/common/083d2baa0b8ecab1d230f9ec29a15aa1355809fb0/expr.ipynb\"><img src=\"../../../../logic/booleans/quantification/universality/__pv_it/common/083d2baa0b8ecab1d230f9ec29a15aa1355809fb0/expr.png\" style=\"display:inline;vertical-align:middle;\" /></a></td></tr>\n",
       "<tr><td>4</td><td>ExprTuple</td><td>5</td><td><a class=\"ProveItLink\" href=\"../5ad46bae3ca7ef9fc961bca832dfcfc55e53ee570/expr.ipynb\"><img src=\"../5ad46bae3ca7ef9fc961bca832dfcfc55e53ee570/expr.png\" style=\"display:inline;vertical-align:middle;\" /></a></td></tr>\n",
       "<tr><td>5</td><td>Lambda</td><td>parameters:&nbsp;6<br>body:&nbsp;7<br></td><td><a class=\"ProveItLink\" href=\"../ddcebd788085a0172189a60101850c88e9bab2b70/expr.ipynb\"><img src=\"../ddcebd788085a0172189a60101850c88e9bab2b70/expr.png\" style=\"display:inline;vertical-align:middle;\" /></a></td></tr>\n",
       "<tr><td>6</td><td>ExprTuple</td><td>38, 55</td><td><a class=\"ProveItLink\" href=\"../2c954f158acc6105edefb51b37f61ee4473f2f420/expr.ipynb\"><img src=\"../2c954f158acc6105edefb51b37f61ee4473f2f420/expr.png\" style=\"display:inline;vertical-align:middle;\" /></a></td></tr>\n",
       "<tr><td>7</td><td>Conditional</td><td>value:&nbsp;8<br>condition:&nbsp;9<br></td><td><a class=\"ProveItLink\" href=\"../57941b15a6191bebb98b74d4b34bd3563c68e5a90/expr.ipynb\"><img src=\"../57941b15a6191bebb98b74d4b34bd3563c68e5a90/expr.png\" style=\"display:inline;vertical-align:middle;\" /></a></td></tr>\n",
       "<tr><td>8</td><td>Operation</td><td>operator:&nbsp;10<br>operands:&nbsp;11<br></td><td><a class=\"ProveItLink\" href=\"../91aa13492adaf724d3b70656aeb7d6286b3987030/expr.ipynb\"><img src=\"../91aa13492adaf724d3b70656aeb7d6286b3987030/expr.png\" style=\"display:inline;vertical-align:middle;\" /></a></td></tr>\n",
       "<tr><td>9</td><td>Operation</td><td>operator:&nbsp;39<br>operands:&nbsp;12<br></td><td><a class=\"ProveItLink\" href=\"../de13552fea3bae859ca5773bfd0e92c6b1634f870/expr.ipynb\"><img src=\"../de13552fea3bae859ca5773bfd0e92c6b1634f870/expr.png\" style=\"display:inline;vertical-align:middle;\" /></a></td></tr>\n",
       "<tr><td>10</td><td>Literal</td><td></td><td><a class=\"ProveItLink\" href=\"../../../../logic/equality/__pv_it/common/fb96dc12b2aa8801dda64d0132b396c63d1502bb0/expr.ipynb\"><img src=\"../../../../logic/equality/__pv_it/common/fb96dc12b2aa8801dda64d0132b396c63d1502bb0/expr.png\" style=\"display:inline;vertical-align:middle;\" /></a></td></tr>\n",
       "<tr><td>11</td><td>ExprTuple</td><td>13, 14</td><td><a class=\"ProveItLink\" href=\"../d91c4796493ee7732da360a4cdef9c2b7e7e64f80/expr.ipynb\"><img src=\"../d91c4796493ee7732da360a4cdef9c2b7e7e64f80/expr.png\" style=\"display:inline;vertical-align:middle;\" /></a></td></tr>\n",
       "<tr><td>12</td><td>ExprTuple</td><td>15, 16</td><td><a class=\"ProveItLink\" href=\"../eb7f92ef101df30f187ff1f8aa145f049d64fbd20/expr.ipynb\"><img src=\"../eb7f92ef101df30f187ff1f8aa145f049d64fbd20/expr.png\" style=\"display:inline;vertical-align:middle;\" /></a></td></tr>\n",
       "<tr><td>13</td><td>Operation</td><td>operator:&nbsp;18<br>operand:&nbsp;22<br></td><td><a class=\"ProveItLink\" href=\"../076ec8aeb30a964cbc47d70bacf7d969dc4e8d160/expr.ipynb\"><img src=\"../076ec8aeb30a964cbc47d70bacf7d969dc4e8d160/expr.png\" style=\"display:inline;vertical-align:middle;\" /></a></td></tr>\n",
       "<tr><td>14</td><td>Operation</td><td>operator:&nbsp;18<br>operand:&nbsp;23<br></td><td><a class=\"ProveItLink\" href=\"../e4f93b9b1cba922419840d7b965be77d9fa307420/expr.ipynb\"><img src=\"../e4f93b9b1cba922419840d7b965be77d9fa307420/expr.png\" style=\"display:inline;vertical-align:middle;\" /></a></td></tr>\n",
       "<tr><td>15</td><td>Operation</td><td>operator:&nbsp;47<br>operands:&nbsp;20<br></td><td><a class=\"ProveItLink\" href=\"../48794d8df3e516cb09d1ec7ad25dc3014d20eae10/expr.ipynb\"><img src=\"../48794d8df3e516cb09d1ec7ad25dc3014d20eae10/expr.png\" style=\"display:inline;vertical-align:middle;\" /></a></td></tr>\n",
       "<tr><td>16</td><td>Operation</td><td>operator:&nbsp;47<br>operands:&nbsp;21<br></td><td><a class=\"ProveItLink\" href=\"../7cee5ccd3195d4760bd42d4e7104dd1ed92c81250/expr.ipynb\"><img src=\"../7cee5ccd3195d4760bd42d4e7104dd1ed92c81250/expr.png\" style=\"display:inline;vertical-align:middle;\" /></a></td></tr>\n",
       "<tr><td>17</td><td>ExprTuple</td><td>22</td><td><a class=\"ProveItLink\" href=\"../220a94ad2b6c41cc2bdf4070026739adb716b12a0/expr.ipynb\"><img src=\"../220a94ad2b6c41cc2bdf4070026739adb716b12a0/expr.png\" style=\"display:inline;vertical-align:middle;\" /></a></td></tr>\n",
       "<tr><td>18</td><td>Literal</td><td></td><td><a class=\"ProveItLink\" href=\"../../common/bf8e6ae6a9b0a51a97b3e4d62d4b2c23d653c7080/expr.ipynb\"><img src=\"../../common/bf8e6ae6a9b0a51a97b3e4d62d4b2c23d653c7080/expr.png\" style=\"display:inline;vertical-align:middle;\" /></a></td></tr>\n",
       "<tr><td>19</td><td>ExprTuple</td><td>23</td><td><a class=\"ProveItLink\" href=\"../b87fa7f29c6be47326236c4f7b4148abc54a9ffc0/expr.ipynb\"><img src=\"../b87fa7f29c6be47326236c4f7b4148abc54a9ffc0/expr.png\" style=\"display:inline;vertical-align:middle;\" /></a></td></tr>\n",
       "<tr><td>20</td><td>ExprTuple</td><td>38, 24</td><td><a class=\"ProveItLink\" href=\"../b32ebea3e458c9c9475654d489d0c8fd5e6626440/expr.ipynb\"><img src=\"../b32ebea3e458c9c9475654d489d0c8fd5e6626440/expr.png\" style=\"display:inline;vertical-align:middle;\" /></a></td></tr>\n",
       "<tr><td>21</td><td>ExprTuple</td><td>55, 25</td><td><a class=\"ProveItLink\" href=\"../e34a40b8812b7d81d66d95380b47600182b2948d0/expr.ipynb\"><img src=\"../e34a40b8812b7d81d66d95380b47600182b2948d0/expr.png\" style=\"display:inline;vertical-align:middle;\" /></a></td></tr>\n",
       "<tr><td>22</td><td>Lambda</td><td>parameter:&nbsp;52<br>body:&nbsp;26<br></td><td><a class=\"ProveItLink\" href=\"../fb01019df7517f9a53caad56176ab5e3d0c3dace0/expr.ipynb\"><img src=\"../fb01019df7517f9a53caad56176ab5e3d0c3dace0/expr.png\" style=\"display:inline;vertical-align:middle;\" /></a></td></tr>\n",
       "<tr><td>23</td><td>Lambda</td><td>parameter:&nbsp;57<br>body:&nbsp;27<br></td><td><a class=\"ProveItLink\" href=\"../54cc498de86f277702b313aac1fcf374814091d30/expr.ipynb\"><img src=\"../54cc498de86f277702b313aac1fcf374814091d30/expr.png\" style=\"display:inline;vertical-align:middle;\" /></a></td></tr>\n",
       "<tr><td>24</td><td>Operation</td><td>operator:&nbsp;28<br>operands:&nbsp;29<br></td><td><a class=\"ProveItLink\" href=\"../8f75f506d10344ca05fea3da07f061a41f33f6d30/expr.ipynb\"><img src=\"../8f75f506d10344ca05fea3da07f061a41f33f6d30/expr.png\" style=\"display:inline;vertical-align:middle;\" /></a></td></tr>\n",
       "<tr><td>25</td><td>Operation</td><td>operator:&nbsp;30<br>operands:&nbsp;31<br></td><td><a class=\"ProveItLink\" href=\"../6d6edd865f90a3d18f995e4b2c6af6c308f9ce140/expr.ipynb\"><img src=\"../6d6edd865f90a3d18f995e4b2c6af6c308f9ce140/expr.png\" style=\"display:inline;vertical-align:middle;\" /></a></td></tr>\n",
       "<tr><td>26</td><td>Conditional</td><td>value:&nbsp;32<br>condition:&nbsp;33<br></td><td><a class=\"ProveItLink\" href=\"../69de212c74f4c97f3fb9b66a3220574493cc2fc60/expr.ipynb\"><img src=\"../69de212c74f4c97f3fb9b66a3220574493cc2fc60/expr.png\" style=\"display:inline;vertical-align:middle;\" /></a></td></tr>\n",
       "<tr><td>27</td><td>Conditional</td><td>value:&nbsp;34<br>condition:&nbsp;35<br></td><td><a class=\"ProveItLink\" href=\"../4a1142da843847bd9d3bf64e192ba4533679efcb0/expr.ipynb\"><img src=\"../4a1142da843847bd9d3bf64e192ba4533679efcb0/expr.png\" style=\"display:inline;vertical-align:middle;\" /></a></td></tr>\n",
       "<tr><td>28</td><td>Literal</td><td></td><td><a class=\"ProveItLink\" href=\"../../../../logic/sets/functions/injections/__pv_it/common/9732b79cd346b8d4e34560d9e00a1266966cd3250/expr.ipynb\"><img src=\"../../../../logic/sets/functions/injections/__pv_it/common/9732b79cd346b8d4e34560d9e00a1266966cd3250/expr.png\" style=\"display:inline;vertical-align:middle;\" /></a></td></tr>\n",
       "<tr><td>29</td><td>ExprTuple</td><td>51, 36</td><td><a class=\"ProveItLink\" href=\"../19a95317fac38d799d0cf6613c606ed7e22e4bde0/expr.ipynb\"><img src=\"../19a95317fac38d799d0cf6613c606ed7e22e4bde0/expr.png\" style=\"display:inline;vertical-align:middle;\" /></a></td></tr>\n",
       "<tr><td>30</td><td>Literal</td><td></td><td><a class=\"ProveItLink\" href=\"../../../../logic/sets/functions/bijections/__pv_it/common/4d5b70c2a4c97df1b8c27c8cfe8e6aacede0cb130/expr.ipynb\"><img src=\"../../../../logic/sets/functions/bijections/__pv_it/common/4d5b70c2a4c97df1b8c27c8cfe8e6aacede0cb130/expr.png\" style=\"display:inline;vertical-align:middle;\" /></a></td></tr>\n",
       "<tr><td>31</td><td>ExprTuple</td><td>53, 51</td><td><a class=\"ProveItLink\" href=\"../eea868dfdc76ebd2b3c14c306a89babeb4ac740d0/expr.ipynb\"><img src=\"../eea868dfdc76ebd2b3c14c306a89babeb4ac740d0/expr.png\" style=\"display:inline;vertical-align:middle;\" /></a></td></tr>\n",
       "<tr><td>32</td><td>Operation</td><td>operator:&nbsp;38<br>operand:&nbsp;52<br></td><td><a class=\"ProveItLink\" href=\"../../../../__pv_it/common/6774f61458aed4cc9eb250f92b3634f1d09b19a40/expr.ipynb\"><img src=\"../../../../__pv_it/common/6774f61458aed4cc9eb250f92b3634f1d09b19a40/expr.png\" style=\"display:inline;vertical-align:middle;\" /></a></td></tr>\n",
       "<tr><td>33</td><td>Operation</td><td>operator:&nbsp;39<br>operands:&nbsp;37<br></td><td><a class=\"ProveItLink\" href=\"../5d2c5c84ec15fcc2b60ec70953b96020743e670a0/expr.ipynb\"><img src=\"../5d2c5c84ec15fcc2b60ec70953b96020743e670a0/expr.png\" style=\"display:inline;vertical-align:middle;\" /></a></td></tr>\n",
       "<tr><td>34</td><td>Operation</td><td>operator:&nbsp;38<br>operand:&nbsp;54<br></td><td><a class=\"ProveItLink\" href=\"../326d7a0dd13f10673c94be04316f078a410fd53f0/expr.ipynb\"><img src=\"../326d7a0dd13f10673c94be04316f078a410fd53f0/expr.png\" style=\"display:inline;vertical-align:middle;\" /></a></td></tr>\n",
       "<tr><td>35</td><td>Operation</td><td>operator:&nbsp;39<br>operands:&nbsp;40<br></td><td><a class=\"ProveItLink\" href=\"../294e8e05b172d214df28e2332cfe9c994b85bc070/expr.ipynb\"><img src=\"../294e8e05b172d214df28e2332cfe9c994b85bc070/expr.png\" style=\"display:inline;vertical-align:middle;\" /></a></td></tr>\n",
       "<tr><td>36</td><td>Variable</td><td></td><td><a class=\"ProveItLink\" href=\"../../../../__pv_it/common/53406c163510d898bbe57aa9c808cb4fce1aa1e40/expr.ipynb\"><img src=\"../../../../__pv_it/common/53406c163510d898bbe57aa9c808cb4fce1aa1e40/expr.png\" style=\"display:inline;vertical-align:middle;\" /></a></td></tr>\n",
       "<tr><td>37</td><td>ExprTuple</td><td>41, 42</td><td><a class=\"ProveItLink\" href=\"../26a913ff9f28742b56717cfc7fef6e7ae8791d5d0/expr.ipynb\"><img src=\"../26a913ff9f28742b56717cfc7fef6e7ae8791d5d0/expr.png\" style=\"display:inline;vertical-align:middle;\" /></a></td></tr>\n",
       "<tr><td>38</td><td>Variable</td><td></td><td><a class=\"ProveItLink\" href=\"../../../../__pv_it/common/01b6dbb444a31fc38af4c2379badef6c75b363710/expr.ipynb\"><img src=\"../../../../__pv_it/common/01b6dbb444a31fc38af4c2379badef6c75b363710/expr.png\" style=\"display:inline;vertical-align:middle;\" /></a></td></tr>\n",
       "<tr><td>39</td><td>Literal</td><td></td><td><a class=\"ProveItLink\" href=\"../../../../logic/booleans/conjunction/__pv_it/common/42118ff318bd65d98b1393f64ce7c2269feef76e0/expr.ipynb\"><img src=\"../../../../logic/booleans/conjunction/__pv_it/common/42118ff318bd65d98b1393f64ce7c2269feef76e0/expr.png\" style=\"display:inline;vertical-align:middle;\" /></a></td></tr>\n",
       "<tr><td>40</td><td>ExprTuple</td><td>43, 44</td><td><a class=\"ProveItLink\" href=\"../4c2cdba6be8b4cfa32d9f2e6269839753946bab60/expr.ipynb\"><img src=\"../4c2cdba6be8b4cfa32d9f2e6269839753946bab60/expr.png\" style=\"display:inline;vertical-align:middle;\" /></a></td></tr>\n",
       "<tr><td>41</td><td>Operation</td><td>operator:&nbsp;47<br>operands:&nbsp;45<br></td><td><a class=\"ProveItLink\" href=\"../bffc8f58d953dcb8331468867a32979a833e73840/expr.ipynb\"><img src=\"../bffc8f58d953dcb8331468867a32979a833e73840/expr.png\" style=\"display:inline;vertical-align:middle;\" /></a></td></tr>\n",
       "<tr><td>42</td><td>Operation</td><td>operator:&nbsp;49<br>operand:&nbsp;52<br></td><td><a class=\"ProveItLink\" href=\"../../../../__pv_it/common/fce49534291e406d3d43684e225f1a2779a61f030/expr.ipynb\"><img src=\"../../../../__pv_it/common/fce49534291e406d3d43684e225f1a2779a61f030/expr.png\" style=\"display:inline;vertical-align:middle;\" /></a></td></tr>\n",
       "<tr><td>43</td><td>Operation</td><td>operator:&nbsp;47<br>operands:&nbsp;48<br></td><td><a class=\"ProveItLink\" href=\"../569783d32d698768774c304892c5b84b10f50b360/expr.ipynb\"><img src=\"../569783d32d698768774c304892c5b84b10f50b360/expr.png\" style=\"display:inline;vertical-align:middle;\" /></a></td></tr>\n",
       "<tr><td>44</td><td>Operation</td><td>operator:&nbsp;49<br>operand:&nbsp;54<br></td><td><a class=\"ProveItLink\" href=\"../06b8ab0420c18b82218449a5230cf451a25a7a2a0/expr.ipynb\"><img src=\"../06b8ab0420c18b82218449a5230cf451a25a7a2a0/expr.png\" style=\"display:inline;vertical-align:middle;\" /></a></td></tr>\n",
       "<tr><td>45</td><td>ExprTuple</td><td>52, 51</td><td><a class=\"ProveItLink\" href=\"../dd56fa97225795c53cc6b814c99b8e98e0e999f10/expr.ipynb\"><img src=\"../dd56fa97225795c53cc6b814c99b8e98e0e999f10/expr.png\" style=\"display:inline;vertical-align:middle;\" /></a></td></tr>\n",
       "<tr><td>46</td><td>ExprTuple</td><td>52</td><td><a class=\"ProveItLink\" href=\"../../../../__pv_it/common/eacfeccc0521684fcb20fe8f5180ac50fca471f20/expr.ipynb\"><img src=\"../../../../__pv_it/common/eacfeccc0521684fcb20fe8f5180ac50fca471f20/expr.png\" style=\"display:inline;vertical-align:middle;\" /></a></td></tr>\n",
       "<tr><td>47</td><td>Literal</td><td></td><td><a class=\"ProveItLink\" href=\"../../../../logic/sets/membership/__pv_it/common/477487d8796864d23d5810f83761435f25167f690/expr.ipynb\"><img src=\"../../../../logic/sets/membership/__pv_it/common/477487d8796864d23d5810f83761435f25167f690/expr.png\" style=\"display:inline;vertical-align:middle;\" /></a></td></tr>\n",
       "<tr><td>48</td><td>ExprTuple</td><td>57, 53</td><td><a class=\"ProveItLink\" href=\"../787fe960e9ab6fceff9f4b2fb35a4235767ffca30/expr.ipynb\"><img src=\"../787fe960e9ab6fceff9f4b2fb35a4235767ffca30/expr.png\" style=\"display:inline;vertical-align:middle;\" /></a></td></tr>\n",
       "<tr><td>49</td><td>Variable</td><td></td><td><a class=\"ProveItLink\" href=\"../../../../__pv_it/common/d72bb8b07403efe79afab564c36a28e21330e5f90/expr.ipynb\"><img src=\"../../../../__pv_it/common/d72bb8b07403efe79afab564c36a28e21330e5f90/expr.png\" style=\"display:inline;vertical-align:middle;\" /></a></td></tr>\n",
       "<tr><td>50</td><td>ExprTuple</td><td>54</td><td><a class=\"ProveItLink\" href=\"../a38c7329e3b36b738ea4132322399510075c2e720/expr.ipynb\"><img src=\"../a38c7329e3b36b738ea4132322399510075c2e720/expr.png\" style=\"display:inline;vertical-align:middle;\" /></a></td></tr>\n",
       "<tr><td>51</td><td>Variable</td><td></td><td><a class=\"ProveItLink\" href=\"../../../../__pv_it/common/09585084922504426caf1db2ff588a23a0932a960/expr.ipynb\"><img src=\"../../../../__pv_it/common/09585084922504426caf1db2ff588a23a0932a960/expr.png\" style=\"display:inline;vertical-align:middle;\" /></a></td></tr>\n",
       "<tr><td>52</td><td>Variable</td><td></td><td><a class=\"ProveItLink\" href=\"../../../../__pv_it/common/a0d9d672aa5e272d907247690c152cc2c6daafb70/expr.ipynb\"><img src=\"../../../../__pv_it/common/a0d9d672aa5e272d907247690c152cc2c6daafb70/expr.png\" style=\"display:inline;vertical-align:middle;\" /></a></td></tr>\n",
       "<tr><td>53</td><td>Variable</td><td></td><td><a class=\"ProveItLink\" href=\"../../../../__pv_it/common/a9162d1c3cc0470c02e5daf414500903a7a419230/expr.ipynb\"><img src=\"../../../../__pv_it/common/a9162d1c3cc0470c02e5daf414500903a7a419230/expr.png\" style=\"display:inline;vertical-align:middle;\" /></a></td></tr>\n",
       "<tr><td>54</td><td>Operation</td><td>operator:&nbsp;55<br>operand:&nbsp;57<br></td><td><a class=\"ProveItLink\" href=\"../../../../__pv_it/common/514d0ecf28cd917923cd997139a3840e1dea92bb0/expr.ipynb\"><img src=\"../../../../__pv_it/common/514d0ecf28cd917923cd997139a3840e1dea92bb0/expr.png\" style=\"display:inline;vertical-align:middle;\" /></a></td></tr>\n",
       "<tr><td>55</td><td>Variable</td><td></td><td><a class=\"ProveItLink\" href=\"../../../../__pv_it/common/96ac097ea7ee432328a5e933062d0ef407701bf40/expr.ipynb\"><img src=\"../../../../__pv_it/common/96ac097ea7ee432328a5e933062d0ef407701bf40/expr.png\" style=\"display:inline;vertical-align:middle;\" /></a></td></tr>\n",
       "<tr><td>56</td><td>ExprTuple</td><td>57</td><td><a class=\"ProveItLink\" href=\"../../../../__pv_it/common/8ec7f6fe639763828b300003a52d700ece4a5c240/expr.ipynb\"><img src=\"../../../../__pv_it/common/8ec7f6fe639763828b300003a52d700ece4a5c240/expr.png\" style=\"display:inline;vertical-align:middle;\" /></a></td></tr>\n",
       "<tr><td>57</td><td>Variable</td><td></td><td><a class=\"ProveItLink\" href=\"../../../../__pv_it/common/ff7dba4ef0bbe791ab573bf2d9c220a304399ac80/expr.ipynb\"><img src=\"../../../../__pv_it/common/ff7dba4ef0bbe791ab573bf2d9c220a304399ac80/expr.png\" style=\"display:inline;vertical-align:middle;\" /></a></td></tr>\n",
       "</table>\n"
      ],
      "text/plain": [
       "0. (A, B, Q) -> [forall_{f in Injections(A, Omega), g in Bijections(B, A)} ([Prob_{x in A | Q(x)} f(x)] = [Prob_{y in B | Q(g(y))} f(g(y))])]\n",
       "   core type: Lambda\n",
       "   parameters: 1\\n   body: 2\n",
       "1. (A, B, Q)\n",
       "   core type: ExprTuple\n",
       "   sub-expressions: 51, 53, 49\n",
       "2. forall_{f in Injections(A, Omega), g in Bijections(B, A)} ([Prob_{x in A | Q(x)} f(x)] = [Prob_{y in B | Q(g(y))} f(g(y))])\n",
       "   core type: Operation\n",
       "   operator: 3\n",
       "   operand: 5\n",
       "3. forall\n",
       "   core type: Literal\n",
       "   sub-expressions: \n",
       "4. ((f, g) -> {[Prob_{x in A | Q(x)} f(x)] = [Prob_{y in B | Q(g(y))} f(g(y))] if f in Injections(A, Omega) ,  g in Bijections(B, A).)\n",
       "   core type: ExprTuple\n",
       "   sub-expressions: 5\n",
       "5. (f, g) -> {[Prob_{x in A | Q(x)} f(x)] = [Prob_{y in B | Q(g(y))} f(g(y))] if f in Injections(A, Omega) ,  g in Bijections(B, A).\n",
       "   core type: Lambda\n",
       "   parameters: 6\\n   body: 7\n",
       "6. (f, g)\n",
       "   core type: ExprTuple\n",
       "   sub-expressions: 38, 55\n",
       "7. {[Prob_{x in A | Q(x)} f(x)] = [Prob_{y in B | Q(g(y))} f(g(y))] if f in Injections(A, Omega) ,  g in Bijections(B, A).\n",
       "   core type: Conditional\n",
       "   value: 8\n",
       "   condition: 9\n",
       "8. [Prob_{x in A | Q(x)} f(x)] = [Prob_{y in B | Q(g(y))} f(g(y))]\n",
       "   core type: Operation\n",
       "   operator: 10\n",
       "   operands: 11\n",
       "9. (f in Injections(A, Omega)) and (g in Bijections(B, A))\n",
       "   core type: Operation\n",
       "   operator: 39\n",
       "   operands: 12\n",
       "10. =\n",
       "    core type: Literal\n",
       "    sub-expressions: \n",
       "11. (Prob_{x in A | Q(x)} f(x), Prob_{y in B | Q(g(y))} f(g(y)))\n",
       "    core type: ExprTuple\n",
       "    sub-expressions: 13, 14\n",
       "12. (f in Injections(A, Omega), g in Bijections(B, A))\n",
       "    core type: ExprTuple\n",
       "    sub-expressions: 15, 16\n",
       "13. Prob_{x in A | Q(x)} f(x)\n",
       "    core type: Operation\n",
       "    operator: 18\n",
       "    operand: 22\n",
       "14. Prob_{y in B | Q(g(y))} f(g(y))\n",
       "    core type: Operation\n",
       "    operator: 18\n",
       "    operand: 23\n",
       "15. f in Injections(A, Omega)\n",
       "    core type: Operation\n",
       "    operator: 47\n",
       "    operands: 20\n",
       "16. g in Bijections(B, A)\n",
       "    core type: Operation\n",
       "    operator: 47\n",
       "    operands: 21\n",
       "17. (x -> {f(x) if x in A ,  Q(x).)\n",
       "    core type: ExprTuple\n",
       "    sub-expressions: 22\n",
       "18. Prob\n",
       "    core type: Literal\n",
       "    sub-expressions: \n",
       "19. (y -> {f(g(y)) if y in B ,  Q(g(y)).)\n",
       "    core type: ExprTuple\n",
       "    sub-expressions: 23\n",
       "20. (f, Injections(A, Omega))\n",
       "    core type: ExprTuple\n",
       "    sub-expressions: 38, 24\n",
       "21. (g, Bijections(B, A))\n",
       "    core type: ExprTuple\n",
       "    sub-expressions: 55, 25\n",
       "22. x -> {f(x) if x in A ,  Q(x).\n",
       "    core type: Lambda\n",
       "    parameter: 52\n",
       "    body: 26\n",
       "23. y -> {f(g(y)) if y in B ,  Q(g(y)).\n",
       "    core type: Lambda\n",
       "    parameter: 57\n",
       "    body: 27\n",
       "24. Injections(A, Omega)\n",
       "    core type: Operation\n",
       "    operator: 28\n",
       "    operands: 29\n",
       "25. Bijections(B, A)\n",
       "    core type: Operation\n",
       "    operator: 30\n",
       "    operands: 31\n",
       "26. {f(x) if x in A ,  Q(x).\n",
       "    core type: Conditional\n",
       "    value: 32\n",
       "    condition: 33\n",
       "27. {f(g(y)) if y in B ,  Q(g(y)).\n",
       "    core type: Conditional\n",
       "    value: 34\n",
       "    condition: 35\n",
       "28. Injections\n",
       "    core type: Literal\n",
       "    sub-expressions: \n",
       "29. (A, Omega)\n",
       "    core type: ExprTuple\n",
       "    sub-expressions: 51, 36\n",
       "30. Bijections\n",
       "    core type: Literal\n",
       "    sub-expressions: \n",
       "31. (B, A)\n",
       "    core type: ExprTuple\n",
       "    sub-expressions: 53, 51\n",
       "32. f(x)\n",
       "    core type: Operation\n",
       "    operator: 38\n",
       "    operand: 52\n",
       "33. (x in A) and Q(x)\n",
       "    core type: Operation\n",
       "    operator: 39\n",
       "    operands: 37\n",
       "34. f(g(y))\n",
       "    core type: Operation\n",
       "    operator: 38\n",
       "    operand: 54\n",
       "35. (y in B) and Q(g(y))\n",
       "    core type: Operation\n",
       "    operator: 39\n",
       "    operands: 40\n",
       "36. Omega\n",
       "    core type: Variable\n",
       "    sub-expressions: \n",
       "37. (x in A, Q(x))\n",
       "    core type: ExprTuple\n",
       "    sub-expressions: 41, 42\n",
       "38. f\n",
       "    core type: Variable\n",
       "    sub-expressions: \n",
       "39. and\n",
       "    core type: Literal\n",
       "    sub-expressions: \n",
       "40. (y in B, Q(g(y)))\n",
       "    core type: ExprTuple\n",
       "    sub-expressions: 43, 44\n",
       "41. x in A\n",
       "    core type: Operation\n",
       "    operator: 47\n",
       "    operands: 45\n",
       "42. Q(x)\n",
       "    core type: Operation\n",
       "    operator: 49\n",
       "    operand: 52\n",
       "43. y in B\n",
       "    core type: Operation\n",
       "    operator: 47\n",
       "    operands: 48\n",
       "44. Q(g(y))\n",
       "    core type: Operation\n",
       "    operator: 49\n",
       "    operand: 54\n",
       "45. (x, A)\n",
       "    core type: ExprTuple\n",
       "    sub-expressions: 52, 51\n",
       "46. (x)\n",
       "    core type: ExprTuple\n",
       "    sub-expressions: 52\n",
       "47. in\n",
       "    core type: Literal\n",
       "    sub-expressions: \n",
       "48. (y, B)\n",
       "    core type: ExprTuple\n",
       "    sub-expressions: 57, 53\n",
       "49. Q\n",
       "    core type: Variable\n",
       "    sub-expressions: \n",
       "50. (g(y))\n",
       "    core type: ExprTuple\n",
       "    sub-expressions: 54\n",
       "51. A\n",
       "    core type: Variable\n",
       "    sub-expressions: \n",
       "52. x\n",
       "    core type: Variable\n",
       "    sub-expressions: \n",
       "53. B\n",
       "    core type: Variable\n",
       "    sub-expressions: \n",
       "54. g(y)\n",
       "    core type: Operation\n",
       "    operator: 55\n",
       "    operand: 57\n",
       "55. g\n",
       "    core type: Variable\n",
       "    sub-expressions: \n",
       "56. (y)\n",
       "    core type: ExprTuple\n",
       "    sub-expressions: 57\n",
       "57. y\n",
       "    core type: Variable\n",
       "    sub-expressions: "
      ]
     },
     "metadata": {},
     "output_type": "display_data"
    }
   ],
   "source": [
    "# display the expression information\n",
    "stored_expr.expr_info()"
   ]
  },
  {
   "cell_type": "code",
   "execution_count": null,
   "metadata": {},
   "outputs": [],
   "source": []
  }
 ],
 "metadata": {
  "kernelspec": {
   "display_name": "Python 3",
   "language": "python",
   "name": "python3"
  }
 },
 "nbformat": 4,
 "nbformat_minor": 0
}