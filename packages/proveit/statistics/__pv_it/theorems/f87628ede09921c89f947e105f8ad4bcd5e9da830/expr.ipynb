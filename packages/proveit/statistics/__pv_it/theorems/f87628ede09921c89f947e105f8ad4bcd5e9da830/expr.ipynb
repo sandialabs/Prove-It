{
 "cells": [
  {
   "cell_type": "markdown",
   "metadata": {},
   "source": [
    "Expression of type <a class=\"ProveItLink\" href=\"../../../../../../doc/html/api/proveit.ExprTuple.html\">ExprTuple</a>\n",
    "=======================\n",
    "# from the theory of <a class=\"ProveItLink\" href=\"../../../_theory_nbs_/theory.ipynb\">proveit.statistics</a>"
   ]
  },
  {
   "cell_type": "code",
   "execution_count": 1,
   "metadata": {},
   "outputs": [],
   "source": [
    "import proveit\n",
    "# Automation is not needed when building an expression:\n",
    "proveit.defaults.automation = False # This will speed things up.\n",
    "proveit.defaults.inline_pngs = False # Makes files smaller.\n",
    "%load_expr # Load the stored expression as 'stored_expr'\n",
    "# import Expression classes needed to build the expression\n",
    "from proveit import ExprTuple, Qx, Rx, X, fx, x\n",
    "from proveit.statistics import ProbOfAll"
   ]
  },
  {
   "cell_type": "code",
   "execution_count": 2,
   "metadata": {},
   "outputs": [
    {
     "data": {
      "text/html": [
       "<strong id=\"expr\">expr:</strong> <a class=\"ProveItLink\" href=\"expr.ipynb\"><img src=\"expr.png\" style=\"display:inline;vertical-align:middle;\" /></a><br>"
      ],
      "text/plain": [
       "<IPython.core.display.HTML object>"
      ]
     },
     "metadata": {},
     "output_type": "display_data"
    }
   ],
   "source": [
    "# build up the expression from sub-expressions\n",
    "sub_expr1 = [x]\n",
    "expr = ExprTuple(ProbOfAll(instance_param_or_params = sub_expr1, instance_element = fx, domain = X, condition = Qx), ProbOfAll(instance_param_or_params = sub_expr1, instance_element = fx, domain = X, condition = Rx))"
   ]
  },
  {
   "cell_type": "code",
   "execution_count": 3,
   "metadata": {},
   "outputs": [
    {
     "name": "stdout",
     "output_type": "stream",
     "text": [
      "Passed sanity check: expr matches stored_expr\n"
     ]
    }
   ],
   "source": [
    "# check that the built expression is the same as the stored expression\n",
    "assert expr == stored_expr\n",
    "assert expr._style_id == stored_expr._style_id\n",
    "print(\"Passed sanity check: expr matches stored_expr\")"
   ]
  },
  {
   "cell_type": "code",
   "execution_count": 4,
   "metadata": {},
   "outputs": [
    {
     "name": "stdout",
     "output_type": "stream",
     "text": [
      "\\left(\\textrm{Prob}_{x \\in X~|~Q\\left(x\\right)}~f\\left(x\\right), \\textrm{Prob}_{x \\in X~|~R\\left(x\\right)}~f\\left(x\\right)\\right)\n"
     ]
    }
   ],
   "source": [
    "# Show the LaTeX representation of the expression for convenience if you need it.\n",
    "print(stored_expr.latex())"
   ]
  },
  {
   "cell_type": "code",
   "execution_count": 5,
   "metadata": {},
   "outputs": [
    {
     "data": {
      "text/html": [
       "<table>\n",
       "<tr><th>name</th><th>description</th><th>default</th><th>current value</th><th>related methods</th></tr><tr><td>wrap_positions</td><td>position(s) at which wrapping is to occur; 'n' is after the nth comma.</td><td>()</td><td>()</td><td>('with_wrapping_at',)</td></tr>\n",
       "<tr><td>justification</td><td>if any wrap positions are set, justify to the 'left', 'center', or 'right'</td><td>left</td><td>left</td><td>('with_justification',)</td></tr>\n",
       "</table>\n"
      ],
      "text/plain": [
       "style name: wrap_positions\n",
       "description: position(s) at which wrapping is to occur; 'n' is after the nth comma.\n",
       "default: ()\n",
       "current value: ()\n",
       "related methods: ('with_wrapping_at',)\n",
       "style name: justification\n",
       "description: if any wrap positions are set, justify to the 'left', 'center', or 'right'\n",
       "default: left\n",
       "current value: left\n",
       "related methods: ('with_justification',)"
      ]
     },
     "metadata": {},
     "output_type": "display_data"
    }
   ],
   "source": [
    "stored_expr.style_options()"
   ]
  },
  {
   "cell_type": "code",
   "execution_count": 6,
   "metadata": {},
   "outputs": [
    {
     "data": {
      "text/html": [
       "<table><tr><th>&nbsp;</th><th>core type</th><th>sub-expressions</th><th>expression</th></tr>\n",
       "<tr><td>0</td><td>ExprTuple</td><td>1, 2</td><td><a class=\"ProveItLink\" href=\"expr.ipynb\"><img src=\"expr.png\" style=\"display:inline;vertical-align:middle;\" /></a></td></tr>\n",
       "<tr><td>1</td><td>Operation</td><td>operator:&nbsp;4<br>operand:&nbsp;6<br></td><td><a class=\"ProveItLink\" href=\"../c9eba1a56b08c45cb7c20a06998468fa04e98ae00/expr.ipynb\"><img src=\"../c9eba1a56b08c45cb7c20a06998468fa04e98ae00/expr.png\" style=\"display:inline;vertical-align:middle;\" /></a></td></tr>\n",
       "<tr><td>2</td><td>Operation</td><td>operator:&nbsp;4<br>operand:&nbsp;7<br></td><td><a class=\"ProveItLink\" href=\"../a9b79ad3d4fba806dc2a195cc9670573d0f22a8f0/expr.ipynb\"><img src=\"../a9b79ad3d4fba806dc2a195cc9670573d0f22a8f0/expr.png\" style=\"display:inline;vertical-align:middle;\" /></a></td></tr>\n",
       "<tr><td>3</td><td>ExprTuple</td><td>6</td><td><a class=\"ProveItLink\" href=\"../ca629072ef198841d7162dc96d2c6284b35aa8200/expr.ipynb\"><img src=\"../ca629072ef198841d7162dc96d2c6284b35aa8200/expr.png\" style=\"display:inline;vertical-align:middle;\" /></a></td></tr>\n",
       "<tr><td>4</td><td>Literal</td><td></td><td><a class=\"ProveItLink\" href=\"../../common/bf8e6ae6a9b0a51a97b3e4d62d4b2c23d653c7080/expr.ipynb\"><img src=\"../../common/bf8e6ae6a9b0a51a97b3e4d62d4b2c23d653c7080/expr.png\" style=\"display:inline;vertical-align:middle;\" /></a></td></tr>\n",
       "<tr><td>5</td><td>ExprTuple</td><td>7</td><td><a class=\"ProveItLink\" href=\"../407aac072f102813c747c9c526819b798fb3e3920/expr.ipynb\"><img src=\"../407aac072f102813c747c9c526819b798fb3e3920/expr.png\" style=\"display:inline;vertical-align:middle;\" /></a></td></tr>\n",
       "<tr><td>6</td><td>Lambda</td><td>parameter:&nbsp;26<br>body:&nbsp;8<br></td><td><a class=\"ProveItLink\" href=\"../eee4bc2b42417a7915e2a7d64c9ba5d9eb68cd480/expr.ipynb\"><img src=\"../eee4bc2b42417a7915e2a7d64c9ba5d9eb68cd480/expr.png\" style=\"display:inline;vertical-align:middle;\" /></a></td></tr>\n",
       "<tr><td>7</td><td>Lambda</td><td>parameter:&nbsp;26<br>body:&nbsp;9<br></td><td><a class=\"ProveItLink\" href=\"../a96925b07253a6f91c3becb9a24eb1eabe2ae67f0/expr.ipynb\"><img src=\"../a96925b07253a6f91c3becb9a24eb1eabe2ae67f0/expr.png\" style=\"display:inline;vertical-align:middle;\" /></a></td></tr>\n",
       "<tr><td>8</td><td>Conditional</td><td>value:&nbsp;11<br>condition:&nbsp;10<br></td><td><a class=\"ProveItLink\" href=\"../946c6434dfa13d84ebf48c3a094a98eb456a91980/expr.ipynb\"><img src=\"../946c6434dfa13d84ebf48c3a094a98eb456a91980/expr.png\" style=\"display:inline;vertical-align:middle;\" /></a></td></tr>\n",
       "<tr><td>9</td><td>Conditional</td><td>value:&nbsp;11<br>condition:&nbsp;12<br></td><td><a class=\"ProveItLink\" href=\"../40405847ee80b457bf96f7fda64b5b7ee75bd54f0/expr.ipynb\"><img src=\"../40405847ee80b457bf96f7fda64b5b7ee75bd54f0/expr.png\" style=\"display:inline;vertical-align:middle;\" /></a></td></tr>\n",
       "<tr><td>10</td><td>Operation</td><td>operator:&nbsp;15<br>operands:&nbsp;13<br></td><td><a class=\"ProveItLink\" href=\"../69e96f247a784a11d2257e82342ee6cdff363b710/expr.ipynb\"><img src=\"../69e96f247a784a11d2257e82342ee6cdff363b710/expr.png\" style=\"display:inline;vertical-align:middle;\" /></a></td></tr>\n",
       "<tr><td>11</td><td>Operation</td><td>operator:&nbsp;14<br>operand:&nbsp;26<br></td><td><a class=\"ProveItLink\" href=\"../../../../__pv_it/common/6774f61458aed4cc9eb250f92b3634f1d09b19a40/expr.ipynb\"><img src=\"../../../../__pv_it/common/6774f61458aed4cc9eb250f92b3634f1d09b19a40/expr.png\" style=\"display:inline;vertical-align:middle;\" /></a></td></tr>\n",
       "<tr><td>12</td><td>Operation</td><td>operator:&nbsp;15<br>operands:&nbsp;16<br></td><td><a class=\"ProveItLink\" href=\"../2a78ed950c5965bf2d56a4c2779ca46aeab549930/expr.ipynb\"><img src=\"../2a78ed950c5965bf2d56a4c2779ca46aeab549930/expr.png\" style=\"display:inline;vertical-align:middle;\" /></a></td></tr>\n",
       "<tr><td>13</td><td>ExprTuple</td><td>18, 17</td><td><a class=\"ProveItLink\" href=\"../daaf6703b436a016052e985c5a27d7142a77ebc10/expr.ipynb\"><img src=\"../daaf6703b436a016052e985c5a27d7142a77ebc10/expr.png\" style=\"display:inline;vertical-align:middle;\" /></a></td></tr>\n",
       "<tr><td>14</td><td>Variable</td><td></td><td><a class=\"ProveItLink\" href=\"../../../../__pv_it/common/01b6dbb444a31fc38af4c2379badef6c75b363710/expr.ipynb\"><img src=\"../../../../__pv_it/common/01b6dbb444a31fc38af4c2379badef6c75b363710/expr.png\" style=\"display:inline;vertical-align:middle;\" /></a></td></tr>\n",
       "<tr><td>15</td><td>Literal</td><td></td><td><a class=\"ProveItLink\" href=\"../../../../logic/booleans/conjunction/__pv_it/common/42118ff318bd65d98b1393f64ce7c2269feef76e0/expr.ipynb\"><img src=\"../../../../logic/booleans/conjunction/__pv_it/common/42118ff318bd65d98b1393f64ce7c2269feef76e0/expr.png\" style=\"display:inline;vertical-align:middle;\" /></a></td></tr>\n",
       "<tr><td>16</td><td>ExprTuple</td><td>18, 19</td><td><a class=\"ProveItLink\" href=\"../52bcd69843f927c8b6c677f50fa284147b6d4cf70/expr.ipynb\"><img src=\"../52bcd69843f927c8b6c677f50fa284147b6d4cf70/expr.png\" style=\"display:inline;vertical-align:middle;\" /></a></td></tr>\n",
       "<tr><td>17</td><td>Operation</td><td>operator:&nbsp;20<br>operand:&nbsp;26<br></td><td><a class=\"ProveItLink\" href=\"../../../../__pv_it/common/fce49534291e406d3d43684e225f1a2779a61f030/expr.ipynb\"><img src=\"../../../../__pv_it/common/fce49534291e406d3d43684e225f1a2779a61f030/expr.png\" style=\"display:inline;vertical-align:middle;\" /></a></td></tr>\n",
       "<tr><td>18</td><td>Operation</td><td>operator:&nbsp;21<br>operands:&nbsp;22<br></td><td><a class=\"ProveItLink\" href=\"../720b39d5ad9fe4b7c0ee2e3ece48cef19dcc3e670/expr.ipynb\"><img src=\"../720b39d5ad9fe4b7c0ee2e3ece48cef19dcc3e670/expr.png\" style=\"display:inline;vertical-align:middle;\" /></a></td></tr>\n",
       "<tr><td>19</td><td>Operation</td><td>operator:&nbsp;23<br>operand:&nbsp;26<br></td><td><a class=\"ProveItLink\" href=\"../../../../__pv_it/common/2a336e2cf123a511b5db96282fa835d6efb007c90/expr.ipynb\"><img src=\"../../../../__pv_it/common/2a336e2cf123a511b5db96282fa835d6efb007c90/expr.png\" style=\"display:inline;vertical-align:middle;\" /></a></td></tr>\n",
       "<tr><td>20</td><td>Variable</td><td></td><td><a class=\"ProveItLink\" href=\"../../../../__pv_it/common/d72bb8b07403efe79afab564c36a28e21330e5f90/expr.ipynb\"><img src=\"../../../../__pv_it/common/d72bb8b07403efe79afab564c36a28e21330e5f90/expr.png\" style=\"display:inline;vertical-align:middle;\" /></a></td></tr>\n",
       "<tr><td>21</td><td>Literal</td><td></td><td><a class=\"ProveItLink\" href=\"../../../../logic/sets/membership/__pv_it/common/477487d8796864d23d5810f83761435f25167f690/expr.ipynb\"><img src=\"../../../../logic/sets/membership/__pv_it/common/477487d8796864d23d5810f83761435f25167f690/expr.png\" style=\"display:inline;vertical-align:middle;\" /></a></td></tr>\n",
       "<tr><td>22</td><td>ExprTuple</td><td>26, 25</td><td><a class=\"ProveItLink\" href=\"../1fffd71440076631b1c486124d18ce673ceec6d60/expr.ipynb\"><img src=\"../1fffd71440076631b1c486124d18ce673ceec6d60/expr.png\" style=\"display:inline;vertical-align:middle;\" /></a></td></tr>\n",
       "<tr><td>23</td><td>Variable</td><td></td><td><a class=\"ProveItLink\" href=\"../../../../__pv_it/common/647ca33d6b96e29d5aa85a15d2241c7ebd0c6e4b0/expr.ipynb\"><img src=\"../../../../__pv_it/common/647ca33d6b96e29d5aa85a15d2241c7ebd0c6e4b0/expr.png\" style=\"display:inline;vertical-align:middle;\" /></a></td></tr>\n",
       "<tr><td>24</td><td>ExprTuple</td><td>26</td><td><a class=\"ProveItLink\" href=\"../../../../__pv_it/common/eacfeccc0521684fcb20fe8f5180ac50fca471f20/expr.ipynb\"><img src=\"../../../../__pv_it/common/eacfeccc0521684fcb20fe8f5180ac50fca471f20/expr.png\" style=\"display:inline;vertical-align:middle;\" /></a></td></tr>\n",
       "<tr><td>25</td><td>Variable</td><td></td><td><a class=\"ProveItLink\" href=\"../../../../__pv_it/common/f1ca094affb79f5011ff4d63eb4e121bfbde7f330/expr.ipynb\"><img src=\"../../../../__pv_it/common/f1ca094affb79f5011ff4d63eb4e121bfbde7f330/expr.png\" style=\"display:inline;vertical-align:middle;\" /></a></td></tr>\n",
       "<tr><td>26</td><td>Variable</td><td></td><td><a class=\"ProveItLink\" href=\"../../../../__pv_it/common/a0d9d672aa5e272d907247690c152cc2c6daafb70/expr.ipynb\"><img src=\"../../../../__pv_it/common/a0d9d672aa5e272d907247690c152cc2c6daafb70/expr.png\" style=\"display:inline;vertical-align:middle;\" /></a></td></tr>\n",
       "</table>\n"
      ],
      "text/plain": [
       "0. (Prob_{x in X | Q(x)} f(x), Prob_{x in X | R(x)} f(x))\n",
       "   core type: ExprTuple\n",
       "   sub-expressions: 1, 2\n",
       "1. Prob_{x in X | Q(x)} f(x)\n",
       "   core type: Operation\n",
       "   operator: 4\n",
       "   operand: 6\n",
       "2. Prob_{x in X | R(x)} f(x)\n",
       "   core type: Operation\n",
       "   operator: 4\n",
       "   operand: 7\n",
       "3. (x -> {f(x) if x in X ,  Q(x).)\n",
       "   core type: ExprTuple\n",
       "   sub-expressions: 6\n",
       "4. Prob\n",
       "   core type: Literal\n",
       "   sub-expressions: \n",
       "5. (x -> {f(x) if x in X ,  R(x).)\n",
       "   core type: ExprTuple\n",
       "   sub-expressions: 7\n",
       "6. x -> {f(x) if x in X ,  Q(x).\n",
       "   core type: Lambda\n",
       "   parameter: 26\n",
       "   body: 8\n",
       "7. x -> {f(x) if x in X ,  R(x).\n",
       "   core type: Lambda\n",
       "   parameter: 26\n",
       "   body: 9\n",
       "8. {f(x) if x in X ,  Q(x).\n",
       "   core type: Conditional\n",
       "   value: 11\n",
       "   condition: 10\n",
       "9. {f(x) if x in X ,  R(x).\n",
       "   core type: Conditional\n",
       "   value: 11\n",
       "   condition: 12\n",
       "10. (x in X) and Q(x)\n",
       "    core type: Operation\n",
       "    operator: 15\n",
       "    operands: 13\n",
       "11. f(x)\n",
       "    core type: Operation\n",
       "    operator: 14\n",
       "    operand: 26\n",
       "12. (x in X) and R(x)\n",
       "    core type: Operation\n",
       "    operator: 15\n",
       "    operands: 16\n",
       "13. (x in X, Q(x))\n",
       "    core type: ExprTuple\n",
       "    sub-expressions: 18, 17\n",
       "14. f\n",
       "    core type: Variable\n",
       "    sub-expressions: \n",
       "15. and\n",
       "    core type: Literal\n",
       "    sub-expressions: \n",
       "16. (x in X, R(x))\n",
       "    core type: ExprTuple\n",
       "    sub-expressions: 18, 19\n",
       "17. Q(x)\n",
       "    core type: Operation\n",
       "    operator: 20\n",
       "    operand: 26\n",
       "18. x in X\n",
       "    core type: Operation\n",
       "    operator: 21\n",
       "    operands: 22\n",
       "19. R(x)\n",
       "    core type: Operation\n",
       "    operator: 23\n",
       "    operand: 26\n",
       "20. Q\n",
       "    core type: Variable\n",
       "    sub-expressions: \n",
       "21. in\n",
       "    core type: Literal\n",
       "    sub-expressions: \n",
       "22. (x, X)\n",
       "    core type: ExprTuple\n",
       "    sub-expressions: 26, 25\n",
       "23. R\n",
       "    core type: Variable\n",
       "    sub-expressions: \n",
       "24. (x)\n",
       "    core type: ExprTuple\n",
       "    sub-expressions: 26\n",
       "25. X\n",
       "    core type: Variable\n",
       "    sub-expressions: \n",
       "26. x\n",
       "    core type: Variable\n",
       "    sub-expressions: "
      ]
     },
     "metadata": {},
     "output_type": "display_data"
    }
   ],
   "source": [
    "# display the expression information\n",
    "stored_expr.expr_info()"
   ]
  },
  {
   "cell_type": "code",
   "execution_count": null,
   "metadata": {},
   "outputs": [],
   "source": []
  }
 ],
 "metadata": {
  "kernelspec": {
   "display_name": "Python 3",
   "language": "python",
   "name": "python3"
  }
 },
 "nbformat": 4,
 "nbformat_minor": 0
}