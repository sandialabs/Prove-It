{
 "cells": [
  {
   "cell_type": "markdown",
   "metadata": {},
   "source": [
    "Expression of type <a class=\"ProveItLink\" href=\"../../../../../../doc/html/api/proveit.Lambda.html\">Lambda</a>\n",
    "=======================\n",
    "# from the theory of <a class=\"ProveItLink\" href=\"../../../_theory_nbs_/theory.ipynb\">proveit.statistics</a>"
   ]
  },
  {
   "cell_type": "code",
   "execution_count": 1,
   "metadata": {},
   "outputs": [],
   "source": [
    "import proveit\n",
    "# Automation is not needed when building an expression:\n",
    "proveit.defaults.automation = False # This will speed things up.\n",
    "proveit.defaults.inline_pngs = False # Makes files smaller.\n",
    "%load_expr # Load the stored expression as 'stored_expr'\n",
    "# import Expression classes needed to build the expression\n",
    "from proveit import Lambda, Q, Qx, R, Rx, Ry, X, fx, fy, x, y\n",
    "from proveit.logic import Equals, Forall, Implies, Not\n",
    "from proveit.numbers import one, subtract\n",
    "from proveit.statistics import ProbOfAll"
   ]
  },
  {
   "cell_type": "code",
   "execution_count": 2,
   "metadata": {},
   "outputs": [
    {
     "data": {
      "text/html": [
       "<strong id=\"expr\">expr:</strong> <a class=\"ProveItLink\" href=\"expr.ipynb\"><img src=\"expr.png\" style=\"display:inline;vertical-align:middle;\" /></a><br>"
      ],
      "text/plain": [
       "<IPython.core.display.HTML object>"
      ]
     },
     "metadata": {},
     "output_type": "display_data"
    }
   ],
   "source": [
    "# build up the expression from sub-expressions\n",
    "sub_expr1 = [x]\n",
    "expr = Lambda([Q, R], Implies(Forall(instance_param_or_params = sub_expr1, instance_expr = Equals(Qx, Not(Rx)), domain = X), Equals(ProbOfAll(instance_param_or_params = sub_expr1, instance_element = fx, domain = X, condition = Qx), subtract(one, ProbOfAll(instance_param_or_params = [y], instance_element = fy, domain = X, condition = Ry))).with_wrapping_at(2)).with_wrapping_at(2))"
   ]
  },
  {
   "cell_type": "code",
   "execution_count": 3,
   "metadata": {},
   "outputs": [
    {
     "name": "stdout",
     "output_type": "stream",
     "text": [
      "Passed sanity check: expr matches stored_expr\n"
     ]
    }
   ],
   "source": [
    "# check that the built expression is the same as the stored expression\n",
    "assert expr == stored_expr\n",
    "assert expr._style_id == stored_expr._style_id\n",
    "print(\"Passed sanity check: expr matches stored_expr\")"
   ]
  },
  {
   "cell_type": "code",
   "execution_count": 4,
   "metadata": {},
   "outputs": [
    {
     "name": "stdout",
     "output_type": "stream",
     "text": [
      "\\left(Q, R\\right) \\mapsto \\left(\\begin{array}{c} \\begin{array}{l} \\left[\\forall_{x \\in X}~\\left(Q\\left(x\\right) = (\\lnot R\\left(x\\right))\\right)\\right] \\Rightarrow  \\\\ \\left(\\begin{array}{c} \\begin{array}{l} \\left[\\textrm{Prob}_{x \\in X~|~Q\\left(x\\right)}~f\\left(x\\right)\\right] =  \\\\ \\left(1 - \\left[\\textrm{Prob}_{y \\in X~|~R\\left(y\\right)}~f\\left(y\\right)\\right]\\right) \\end{array} \\end{array}\\right) \\end{array} \\end{array}\\right)\n"
     ]
    }
   ],
   "source": [
    "# Show the LaTeX representation of the expression for convenience if you need it.\n",
    "print(stored_expr.latex())"
   ]
  },
  {
   "cell_type": "code",
   "execution_count": 5,
   "metadata": {},
   "outputs": [
    {
     "data": {
      "text/html": [
       "no style options"
      ],
      "text/plain": [
       "no style options"
      ]
     },
     "metadata": {},
     "output_type": "display_data"
    }
   ],
   "source": [
    "stored_expr.style_options()"
   ]
  },
  {
   "cell_type": "code",
   "execution_count": 6,
   "metadata": {},
   "outputs": [
    {
     "data": {
      "text/html": [
       "<table><tr><th>&nbsp;</th><th>core type</th><th>sub-expressions</th><th>expression</th></tr>\n",
       "<tr><td>0</td><td>Lambda</td><td>parameters:&nbsp;1<br>body:&nbsp;2<br></td><td><a class=\"ProveItLink\" href=\"expr.ipynb\"><img src=\"expr.png\" style=\"display:inline;vertical-align:middle;\" /></a></td></tr>\n",
       "<tr><td>1</td><td>ExprTuple</td><td>40, 53</td><td><a class=\"ProveItLink\" href=\"../a931cbc350c5185fab1635de3751b2517ac68bef0/expr.ipynb\"><img src=\"../a931cbc350c5185fab1635de3751b2517ac68bef0/expr.png\" style=\"display:inline;vertical-align:middle;\" /></a></td></tr>\n",
       "<tr><td>2</td><td>Operation</td><td>operator:&nbsp;3<br>operands:&nbsp;4<br></td><td><a class=\"ProveItLink\" href=\"../225ff5f33e2b45e076e4addde74135012fd974430/expr.ipynb\"><img src=\"../225ff5f33e2b45e076e4addde74135012fd974430/expr.png\" style=\"display:inline;vertical-align:middle;\" /></a></td></tr>\n",
       "<tr><td>3</td><td>Literal</td><td></td><td><a class=\"ProveItLink\" href=\"../../../../logic/booleans/implication/__pv_it/common/02bdb382575728da8cdbaed545b9096ea7a1bd5b0/expr.ipynb\"><img src=\"../../../../logic/booleans/implication/__pv_it/common/02bdb382575728da8cdbaed545b9096ea7a1bd5b0/expr.png\" style=\"display:inline;vertical-align:middle;\" /></a></td></tr>\n",
       "<tr><td>4</td><td>ExprTuple</td><td>5, 6</td><td><a class=\"ProveItLink\" href=\"../578ae9777375345ccaeb52ac106937d17734f70b0/expr.ipynb\"><img src=\"../578ae9777375345ccaeb52ac106937d17734f70b0/expr.png\" style=\"display:inline;vertical-align:middle;\" /></a></td></tr>\n",
       "<tr><td>5</td><td>Operation</td><td>operator:&nbsp;7<br>operand:&nbsp;10<br></td><td><a class=\"ProveItLink\" href=\"../78d5f25215963a470f01fff6756523a70ccbaea50/expr.ipynb\"><img src=\"../78d5f25215963a470f01fff6756523a70ccbaea50/expr.png\" style=\"display:inline;vertical-align:middle;\" /></a></td></tr>\n",
       "<tr><td>6</td><td>Operation</td><td>operator:&nbsp;21<br>operands:&nbsp;9<br></td><td><a class=\"ProveItLink\" href=\"../14f73c621232030979f67008ad710e182c90c31f0/expr.ipynb\"><img src=\"../14f73c621232030979f67008ad710e182c90c31f0/expr.png\" style=\"display:inline;vertical-align:middle;\" /></a></td></tr>\n",
       "<tr><td>7</td><td>Literal</td><td></td><td><a class=\"ProveItLink\" href=\"../../../../logic/booleans/quantification/universality/__pv_it/common/083d2baa0b8ecab1d230f9ec29a15aa1355809fb0/expr.ipynb\"><img src=\"../../../../logic/booleans/quantification/universality/__pv_it/common/083d2baa0b8ecab1d230f9ec29a15aa1355809fb0/expr.png\" style=\"display:inline;vertical-align:middle;\" /></a></td></tr>\n",
       "<tr><td>8</td><td>ExprTuple</td><td>10</td><td><a class=\"ProveItLink\" href=\"../dba5eb57a82be87648959e22761d94b146e558370/expr.ipynb\"><img src=\"../dba5eb57a82be87648959e22761d94b146e558370/expr.png\" style=\"display:inline;vertical-align:middle;\" /></a></td></tr>\n",
       "<tr><td>9</td><td>ExprTuple</td><td>11, 12</td><td><a class=\"ProveItLink\" href=\"../4e41c9017aaa7b21c76bcbc962965048abe54b370/expr.ipynb\"><img src=\"../4e41c9017aaa7b21c76bcbc962965048abe54b370/expr.png\" style=\"display:inline;vertical-align:middle;\" /></a></td></tr>\n",
       "<tr><td>10</td><td>Lambda</td><td>parameter:&nbsp;43<br>body:&nbsp;13<br></td><td><a class=\"ProveItLink\" href=\"../d117913410a5f35a4c9b25952bc57fd18262932e0/expr.ipynb\"><img src=\"../d117913410a5f35a4c9b25952bc57fd18262932e0/expr.png\" style=\"display:inline;vertical-align:middle;\" /></a></td></tr>\n",
       "<tr><td>11</td><td>Operation</td><td>operator:&nbsp;33<br>operand:&nbsp;18<br></td><td><a class=\"ProveItLink\" href=\"../c9eba1a56b08c45cb7c20a06998468fa04e98ae00/expr.ipynb\"><img src=\"../c9eba1a56b08c45cb7c20a06998468fa04e98ae00/expr.png\" style=\"display:inline;vertical-align:middle;\" /></a></td></tr>\n",
       "<tr><td>12</td><td>Operation</td><td>operator:&nbsp;15<br>operands:&nbsp;16<br></td><td><a class=\"ProveItLink\" href=\"../474386efc879cad07d1447684b24860a4e73cd610/expr.ipynb\"><img src=\"../474386efc879cad07d1447684b24860a4e73cd610/expr.png\" style=\"display:inline;vertical-align:middle;\" /></a></td></tr>\n",
       "<tr><td>13</td><td>Conditional</td><td>value:&nbsp;17<br>condition:&nbsp;36<br></td><td><a class=\"ProveItLink\" href=\"../6b47864c7c17f2bb33a328feb24c94b0bebb80bf0/expr.ipynb\"><img src=\"../6b47864c7c17f2bb33a328feb24c94b0bebb80bf0/expr.png\" style=\"display:inline;vertical-align:middle;\" /></a></td></tr>\n",
       "<tr><td>14</td><td>ExprTuple</td><td>18</td><td><a class=\"ProveItLink\" href=\"../ca629072ef198841d7162dc96d2c6284b35aa8200/expr.ipynb\"><img src=\"../ca629072ef198841d7162dc96d2c6284b35aa8200/expr.png\" style=\"display:inline;vertical-align:middle;\" /></a></td></tr>\n",
       "<tr><td>15</td><td>Literal</td><td></td><td><a class=\"ProveItLink\" href=\"../../../../numbers/addition/__pv_it/common/4b7effaab3619a1c2c38fe2dee8601df8ec714590/expr.ipynb\"><img src=\"../../../../numbers/addition/__pv_it/common/4b7effaab3619a1c2c38fe2dee8601df8ec714590/expr.png\" style=\"display:inline;vertical-align:middle;\" /></a></td></tr>\n",
       "<tr><td>16</td><td>ExprTuple</td><td>19, 20</td><td><a class=\"ProveItLink\" href=\"../4fb4508b7b9ac2abf56ecf229e78987f0fd9b7700/expr.ipynb\"><img src=\"../4fb4508b7b9ac2abf56ecf229e78987f0fd9b7700/expr.png\" style=\"display:inline;vertical-align:middle;\" /></a></td></tr>\n",
       "<tr><td>17</td><td>Operation</td><td>operator:&nbsp;21<br>operands:&nbsp;22<br></td><td><a class=\"ProveItLink\" href=\"../d1ccdde4fcd5614c9783fb4f9fc9e24fb6b9955d0/expr.ipynb\"><img src=\"../d1ccdde4fcd5614c9783fb4f9fc9e24fb6b9955d0/expr.png\" style=\"display:inline;vertical-align:middle;\" /></a></td></tr>\n",
       "<tr><td>18</td><td>Lambda</td><td>parameter:&nbsp;43<br>body:&nbsp;23<br></td><td><a class=\"ProveItLink\" href=\"../eee4bc2b42417a7915e2a7d64c9ba5d9eb68cd480/expr.ipynb\"><img src=\"../eee4bc2b42417a7915e2a7d64c9ba5d9eb68cd480/expr.png\" style=\"display:inline;vertical-align:middle;\" /></a></td></tr>\n",
       "<tr><td>19</td><td>Literal</td><td></td><td><a class=\"ProveItLink\" href=\"../../../../numbers/numerals/__pv_it/common/682157d4892d216d9e5626ed533aff9b56b9506e0/expr.ipynb\"><img src=\"../../../../numbers/numerals/__pv_it/common/682157d4892d216d9e5626ed533aff9b56b9506e0/expr.png\" style=\"display:inline;vertical-align:middle;\" /></a></td></tr>\n",
       "<tr><td>20</td><td>Operation</td><td>operator:&nbsp;24<br>operand:&nbsp;29<br></td><td><a class=\"ProveItLink\" href=\"../a3ad0455713648ed9c38e74e88115bfe306878ca0/expr.ipynb\"><img src=\"../a3ad0455713648ed9c38e74e88115bfe306878ca0/expr.png\" style=\"display:inline;vertical-align:middle;\" /></a></td></tr>\n",
       "<tr><td>21</td><td>Literal</td><td></td><td><a class=\"ProveItLink\" href=\"../../../../logic/equality/__pv_it/common/fb96dc12b2aa8801dda64d0132b396c63d1502bb0/expr.ipynb\"><img src=\"../../../../logic/equality/__pv_it/common/fb96dc12b2aa8801dda64d0132b396c63d1502bb0/expr.png\" style=\"display:inline;vertical-align:middle;\" /></a></td></tr>\n",
       "<tr><td>22</td><td>ExprTuple</td><td>37, 26</td><td><a class=\"ProveItLink\" href=\"../42db46e88f56a5f109d59185427e83a608014a0f0/expr.ipynb\"><img src=\"../42db46e88f56a5f109d59185427e83a608014a0f0/expr.png\" style=\"display:inline;vertical-align:middle;\" /></a></td></tr>\n",
       "<tr><td>23</td><td>Conditional</td><td>value:&nbsp;27<br>condition:&nbsp;28<br></td><td><a class=\"ProveItLink\" href=\"../946c6434dfa13d84ebf48c3a094a98eb456a91980/expr.ipynb\"><img src=\"../946c6434dfa13d84ebf48c3a094a98eb456a91980/expr.png\" style=\"display:inline;vertical-align:middle;\" /></a></td></tr>\n",
       "<tr><td>24</td><td>Literal</td><td></td><td><a class=\"ProveItLink\" href=\"../../../../numbers/negation/__pv_it/common/221b3c4d1770ee9051b7c044c3f9ec61196fc34b0/expr.ipynb\"><img src=\"../../../../numbers/negation/__pv_it/common/221b3c4d1770ee9051b7c044c3f9ec61196fc34b0/expr.png\" style=\"display:inline;vertical-align:middle;\" /></a></td></tr>\n",
       "<tr><td>25</td><td>ExprTuple</td><td>29</td><td><a class=\"ProveItLink\" href=\"../253bd9d3df6a375efba79662197111b9bf8ad2890/expr.ipynb\"><img src=\"../253bd9d3df6a375efba79662197111b9bf8ad2890/expr.png\" style=\"display:inline;vertical-align:middle;\" /></a></td></tr>\n",
       "<tr><td>26</td><td>Operation</td><td>operator:&nbsp;30<br>operand:&nbsp;35<br></td><td><a class=\"ProveItLink\" href=\"../cccb95cf5beef347dae446b8d261449cca2f8c420/expr.ipynb\"><img src=\"../cccb95cf5beef347dae446b8d261449cca2f8c420/expr.png\" style=\"display:inline;vertical-align:middle;\" /></a></td></tr>\n",
       "<tr><td>27</td><td>Operation</td><td>operator:&nbsp;46<br>operand:&nbsp;43<br></td><td><a class=\"ProveItLink\" href=\"../../../../__pv_it/common/6774f61458aed4cc9eb250f92b3634f1d09b19a40/expr.ipynb\"><img src=\"../../../../__pv_it/common/6774f61458aed4cc9eb250f92b3634f1d09b19a40/expr.png\" style=\"display:inline;vertical-align:middle;\" /></a></td></tr>\n",
       "<tr><td>28</td><td>Operation</td><td>operator:&nbsp;47<br>operands:&nbsp;32<br></td><td><a class=\"ProveItLink\" href=\"../69e96f247a784a11d2257e82342ee6cdff363b710/expr.ipynb\"><img src=\"../69e96f247a784a11d2257e82342ee6cdff363b710/expr.png\" style=\"display:inline;vertical-align:middle;\" /></a></td></tr>\n",
       "<tr><td>29</td><td>Operation</td><td>operator:&nbsp;33<br>operand:&nbsp;38<br></td><td><a class=\"ProveItLink\" href=\"../746cfdeaa78aaa43f6c62aca4be9ae2fd7e5fdfb0/expr.ipynb\"><img src=\"../746cfdeaa78aaa43f6c62aca4be9ae2fd7e5fdfb0/expr.png\" style=\"display:inline;vertical-align:middle;\" /></a></td></tr>\n",
       "<tr><td>30</td><td>Literal</td><td></td><td><a class=\"ProveItLink\" href=\"../../../../logic/booleans/negation/__pv_it/common/1a811a997e5d75fdb50cdaf74f302daccad39af40/expr.ipynb\"><img src=\"../../../../logic/booleans/negation/__pv_it/common/1a811a997e5d75fdb50cdaf74f302daccad39af40/expr.png\" style=\"display:inline;vertical-align:middle;\" /></a></td></tr>\n",
       "<tr><td>31</td><td>ExprTuple</td><td>35</td><td><a class=\"ProveItLink\" href=\"../548a0a39e3e519f22661a4a78dfd758390445baa0/expr.ipynb\"><img src=\"../548a0a39e3e519f22661a4a78dfd758390445baa0/expr.png\" style=\"display:inline;vertical-align:middle;\" /></a></td></tr>\n",
       "<tr><td>32</td><td>ExprTuple</td><td>36, 37</td><td><a class=\"ProveItLink\" href=\"../daaf6703b436a016052e985c5a27d7142a77ebc10/expr.ipynb\"><img src=\"../daaf6703b436a016052e985c5a27d7142a77ebc10/expr.png\" style=\"display:inline;vertical-align:middle;\" /></a></td></tr>\n",
       "<tr><td>33</td><td>Literal</td><td></td><td><a class=\"ProveItLink\" href=\"../../common/bf8e6ae6a9b0a51a97b3e4d62d4b2c23d653c7080/expr.ipynb\"><img src=\"../../common/bf8e6ae6a9b0a51a97b3e4d62d4b2c23d653c7080/expr.png\" style=\"display:inline;vertical-align:middle;\" /></a></td></tr>\n",
       "<tr><td>34</td><td>ExprTuple</td><td>38</td><td><a class=\"ProveItLink\" href=\"../2c7a057e790db8e4c703c92e10b3ed0c770339d00/expr.ipynb\"><img src=\"../2c7a057e790db8e4c703c92e10b3ed0c770339d00/expr.png\" style=\"display:inline;vertical-align:middle;\" /></a></td></tr>\n",
       "<tr><td>35</td><td>Operation</td><td>operator:&nbsp;53<br>operand:&nbsp;43<br></td><td><a class=\"ProveItLink\" href=\"../../../../__pv_it/common/2a336e2cf123a511b5db96282fa835d6efb007c90/expr.ipynb\"><img src=\"../../../../__pv_it/common/2a336e2cf123a511b5db96282fa835d6efb007c90/expr.png\" style=\"display:inline;vertical-align:middle;\" /></a></td></tr>\n",
       "<tr><td>36</td><td>Operation</td><td>operator:&nbsp;51<br>operands:&nbsp;39<br></td><td><a class=\"ProveItLink\" href=\"../720b39d5ad9fe4b7c0ee2e3ece48cef19dcc3e670/expr.ipynb\"><img src=\"../720b39d5ad9fe4b7c0ee2e3ece48cef19dcc3e670/expr.png\" style=\"display:inline;vertical-align:middle;\" /></a></td></tr>\n",
       "<tr><td>37</td><td>Operation</td><td>operator:&nbsp;40<br>operand:&nbsp;43<br></td><td><a class=\"ProveItLink\" href=\"../../../../__pv_it/common/fce49534291e406d3d43684e225f1a2779a61f030/expr.ipynb\"><img src=\"../../../../__pv_it/common/fce49534291e406d3d43684e225f1a2779a61f030/expr.png\" style=\"display:inline;vertical-align:middle;\" /></a></td></tr>\n",
       "<tr><td>38</td><td>Lambda</td><td>parameter:&nbsp;56<br>body:&nbsp;42<br></td><td><a class=\"ProveItLink\" href=\"../3f4c18ec506f767e2a4ca31da0314b565c456b580/expr.ipynb\"><img src=\"../3f4c18ec506f767e2a4ca31da0314b565c456b580/expr.png\" style=\"display:inline;vertical-align:middle;\" /></a></td></tr>\n",
       "<tr><td>39</td><td>ExprTuple</td><td>43, 55</td><td><a class=\"ProveItLink\" href=\"../1fffd71440076631b1c486124d18ce673ceec6d60/expr.ipynb\"><img src=\"../1fffd71440076631b1c486124d18ce673ceec6d60/expr.png\" style=\"display:inline;vertical-align:middle;\" /></a></td></tr>\n",
       "<tr><td>40</td><td>Variable</td><td></td><td><a class=\"ProveItLink\" href=\"../../../../__pv_it/common/d72bb8b07403efe79afab564c36a28e21330e5f90/expr.ipynb\"><img src=\"../../../../__pv_it/common/d72bb8b07403efe79afab564c36a28e21330e5f90/expr.png\" style=\"display:inline;vertical-align:middle;\" /></a></td></tr>\n",
       "<tr><td>41</td><td>ExprTuple</td><td>43</td><td><a class=\"ProveItLink\" href=\"../../../../__pv_it/common/eacfeccc0521684fcb20fe8f5180ac50fca471f20/expr.ipynb\"><img src=\"../../../../__pv_it/common/eacfeccc0521684fcb20fe8f5180ac50fca471f20/expr.png\" style=\"display:inline;vertical-align:middle;\" /></a></td></tr>\n",
       "<tr><td>42</td><td>Conditional</td><td>value:&nbsp;44<br>condition:&nbsp;45<br></td><td><a class=\"ProveItLink\" href=\"../5f2460ca4d128e782d9c41baa4ee832d155e745a0/expr.ipynb\"><img src=\"../5f2460ca4d128e782d9c41baa4ee832d155e745a0/expr.png\" style=\"display:inline;vertical-align:middle;\" /></a></td></tr>\n",
       "<tr><td>43</td><td>Variable</td><td></td><td><a class=\"ProveItLink\" href=\"../../../../__pv_it/common/a0d9d672aa5e272d907247690c152cc2c6daafb70/expr.ipynb\"><img src=\"../../../../__pv_it/common/a0d9d672aa5e272d907247690c152cc2c6daafb70/expr.png\" style=\"display:inline;vertical-align:middle;\" /></a></td></tr>\n",
       "<tr><td>44</td><td>Operation</td><td>operator:&nbsp;46<br>operand:&nbsp;56<br></td><td><a class=\"ProveItLink\" href=\"../../../../__pv_it/common/06ea2446fcc086288e80a0ce3d5eebc763658e570/expr.ipynb\"><img src=\"../../../../__pv_it/common/06ea2446fcc086288e80a0ce3d5eebc763658e570/expr.png\" style=\"display:inline;vertical-align:middle;\" /></a></td></tr>\n",
       "<tr><td>45</td><td>Operation</td><td>operator:&nbsp;47<br>operands:&nbsp;48<br></td><td><a class=\"ProveItLink\" href=\"../5f5faa5fa28c1e36529f2dfebbb9483375fb3ee20/expr.ipynb\"><img src=\"../5f5faa5fa28c1e36529f2dfebbb9483375fb3ee20/expr.png\" style=\"display:inline;vertical-align:middle;\" /></a></td></tr>\n",
       "<tr><td>46</td><td>Variable</td><td></td><td><a class=\"ProveItLink\" href=\"../../../../__pv_it/common/01b6dbb444a31fc38af4c2379badef6c75b363710/expr.ipynb\"><img src=\"../../../../__pv_it/common/01b6dbb444a31fc38af4c2379badef6c75b363710/expr.png\" style=\"display:inline;vertical-align:middle;\" /></a></td></tr>\n",
       "<tr><td>47</td><td>Literal</td><td></td><td><a class=\"ProveItLink\" href=\"../../../../logic/booleans/conjunction/__pv_it/common/42118ff318bd65d98b1393f64ce7c2269feef76e0/expr.ipynb\"><img src=\"../../../../logic/booleans/conjunction/__pv_it/common/42118ff318bd65d98b1393f64ce7c2269feef76e0/expr.png\" style=\"display:inline;vertical-align:middle;\" /></a></td></tr>\n",
       "<tr><td>48</td><td>ExprTuple</td><td>49, 50</td><td><a class=\"ProveItLink\" href=\"../1dd48d7d20343256f1265e5133de5bc0b203b0e70/expr.ipynb\"><img src=\"../1dd48d7d20343256f1265e5133de5bc0b203b0e70/expr.png\" style=\"display:inline;vertical-align:middle;\" /></a></td></tr>\n",
       "<tr><td>49</td><td>Operation</td><td>operator:&nbsp;51<br>operands:&nbsp;52<br></td><td><a class=\"ProveItLink\" href=\"../a6ce99f1db20312c71026817f7eb1f3add3d8bc30/expr.ipynb\"><img src=\"../a6ce99f1db20312c71026817f7eb1f3add3d8bc30/expr.png\" style=\"display:inline;vertical-align:middle;\" /></a></td></tr>\n",
       "<tr><td>50</td><td>Operation</td><td>operator:&nbsp;53<br>operand:&nbsp;56<br></td><td><a class=\"ProveItLink\" href=\"../../../../__pv_it/common/85097678e92ec4038a2f5595a83450528519e5fc0/expr.ipynb\"><img src=\"../../../../__pv_it/common/85097678e92ec4038a2f5595a83450528519e5fc0/expr.png\" style=\"display:inline;vertical-align:middle;\" /></a></td></tr>\n",
       "<tr><td>51</td><td>Literal</td><td></td><td><a class=\"ProveItLink\" href=\"../../../../logic/sets/membership/__pv_it/common/477487d8796864d23d5810f83761435f25167f690/expr.ipynb\"><img src=\"../../../../logic/sets/membership/__pv_it/common/477487d8796864d23d5810f83761435f25167f690/expr.png\" style=\"display:inline;vertical-align:middle;\" /></a></td></tr>\n",
       "<tr><td>52</td><td>ExprTuple</td><td>56, 55</td><td><a class=\"ProveItLink\" href=\"../478c05f56947a558e3a95e1f437b1240d2b64e490/expr.ipynb\"><img src=\"../478c05f56947a558e3a95e1f437b1240d2b64e490/expr.png\" style=\"display:inline;vertical-align:middle;\" /></a></td></tr>\n",
       "<tr><td>53</td><td>Variable</td><td></td><td><a class=\"ProveItLink\" href=\"../../../../__pv_it/common/647ca33d6b96e29d5aa85a15d2241c7ebd0c6e4b0/expr.ipynb\"><img src=\"../../../../__pv_it/common/647ca33d6b96e29d5aa85a15d2241c7ebd0c6e4b0/expr.png\" style=\"display:inline;vertical-align:middle;\" /></a></td></tr>\n",
       "<tr><td>54</td><td>ExprTuple</td><td>56</td><td><a class=\"ProveItLink\" href=\"../../../../__pv_it/common/8ec7f6fe639763828b300003a52d700ece4a5c240/expr.ipynb\"><img src=\"../../../../__pv_it/common/8ec7f6fe639763828b300003a52d700ece4a5c240/expr.png\" style=\"display:inline;vertical-align:middle;\" /></a></td></tr>\n",
       "<tr><td>55</td><td>Variable</td><td></td><td><a class=\"ProveItLink\" href=\"../../../../__pv_it/common/f1ca094affb79f5011ff4d63eb4e121bfbde7f330/expr.ipynb\"><img src=\"../../../../__pv_it/common/f1ca094affb79f5011ff4d63eb4e121bfbde7f330/expr.png\" style=\"display:inline;vertical-align:middle;\" /></a></td></tr>\n",
       "<tr><td>56</td><td>Variable</td><td></td><td><a class=\"ProveItLink\" href=\"../../../../__pv_it/common/ff7dba4ef0bbe791ab573bf2d9c220a304399ac80/expr.ipynb\"><img src=\"../../../../__pv_it/common/ff7dba4ef0bbe791ab573bf2d9c220a304399ac80/expr.png\" style=\"display:inline;vertical-align:middle;\" /></a></td></tr>\n",
       "</table>\n"
      ],
      "text/plain": [
       "0. (Q, R) -> ([forall_{x in X} (Q(x) = [not](R(x)))] =>  \\\\ ([Prob_{x in X | Q(x)} f(x)] =  \\\\ (1 - [Prob_{y in X | R(y)} f(y)])))\n",
       "   core type: Lambda\n",
       "   parameters: 1\\n   body: 2\n",
       "1. (Q, R)\n",
       "   core type: ExprTuple\n",
       "   sub-expressions: 40, 53\n",
       "2. [forall_{x in X} (Q(x) = [not](R(x)))] =>  \\\\ ([Prob_{x in X | Q(x)} f(x)] =  \\\\ (1 - [Prob_{y in X | R(y)} f(y)]))\n",
       "   core type: Operation\n",
       "   operator: 3\n",
       "   operands: 4\n",
       "3. =>\n",
       "   core type: Literal\n",
       "   sub-expressions: \n",
       "4. (forall_{x in X} (Q(x) = [not](R(x))), [Prob_{x in X | Q(x)} f(x)] =  \\\\ (1 - [Prob_{y in X | R(y)} f(y)]))\n",
       "   core type: ExprTuple\n",
       "   sub-expressions: 5, 6\n",
       "5. forall_{x in X} (Q(x) = [not](R(x)))\n",
       "   core type: Operation\n",
       "   operator: 7\n",
       "   operand: 10\n",
       "6. [Prob_{x in X | Q(x)} f(x)] =  \\\\ (1 - [Prob_{y in X | R(y)} f(y)])\n",
       "   core type: Operation\n",
       "   operator: 21\n",
       "   operands: 9\n",
       "7. forall\n",
       "   core type: Literal\n",
       "   sub-expressions: \n",
       "8. (x -> {Q(x) = [not](R(x)) if x in X.)\n",
       "   core type: ExprTuple\n",
       "   sub-expressions: 10\n",
       "9. (Prob_{x in X | Q(x)} f(x), 1 - [Prob_{y in X | R(y)} f(y)])\n",
       "   core type: ExprTuple\n",
       "   sub-expressions: 11, 12\n",
       "10. x -> {Q(x) = [not](R(x)) if x in X.\n",
       "    core type: Lambda\n",
       "    parameter: 43\n",
       "    body: 13\n",
       "11. Prob_{x in X | Q(x)} f(x)\n",
       "    core type: Operation\n",
       "    operator: 33\n",
       "    operand: 18\n",
       "12. 1 - [Prob_{y in X | R(y)} f(y)]\n",
       "    core type: Operation\n",
       "    operator: 15\n",
       "    operands: 16\n",
       "13. {Q(x) = [not](R(x)) if x in X.\n",
       "    core type: Conditional\n",
       "    value: 17\n",
       "    condition: 36\n",
       "14. (x -> {f(x) if x in X ,  Q(x).)\n",
       "    core type: ExprTuple\n",
       "    sub-expressions: 18\n",
       "15. +\n",
       "    core type: Literal\n",
       "    sub-expressions: \n",
       "16. (1, -[Prob_{y in X | R(y)} f(y)])\n",
       "    core type: ExprTuple\n",
       "    sub-expressions: 19, 20\n",
       "17. Q(x) = [not](R(x))\n",
       "    core type: Operation\n",
       "    operator: 21\n",
       "    operands: 22\n",
       "18. x -> {f(x) if x in X ,  Q(x).\n",
       "    core type: Lambda\n",
       "    parameter: 43\n",
       "    body: 23\n",
       "19. 1\n",
       "    core type: Literal\n",
       "    sub-expressions: \n",
       "20. -[Prob_{y in X | R(y)} f(y)]\n",
       "    core type: Operation\n",
       "    operator: 24\n",
       "    operand: 29\n",
       "21. =\n",
       "    core type: Literal\n",
       "    sub-expressions: \n",
       "22. (Q(x), [not](R(x)))\n",
       "    core type: ExprTuple\n",
       "    sub-expressions: 37, 26\n",
       "23. {f(x) if x in X ,  Q(x).\n",
       "    core type: Conditional\n",
       "    value: 27\n",
       "    condition: 28\n",
       "24. -\n",
       "    core type: Literal\n",
       "    sub-expressions: \n",
       "25. (Prob_{y in X | R(y)} f(y))\n",
       "    core type: ExprTuple\n",
       "    sub-expressions: 29\n",
       "26. [not](R(x))\n",
       "    core type: Operation\n",
       "    operator: 30\n",
       "    operand: 35\n",
       "27. f(x)\n",
       "    core type: Operation\n",
       "    operator: 46\n",
       "    operand: 43\n",
       "28. (x in X) and Q(x)\n",
       "    core type: Operation\n",
       "    operator: 47\n",
       "    operands: 32\n",
       "29. Prob_{y in X | R(y)} f(y)\n",
       "    core type: Operation\n",
       "    operator: 33\n",
       "    operand: 38\n",
       "30. not\n",
       "    core type: Literal\n",
       "    sub-expressions: \n",
       "31. (R(x))\n",
       "    core type: ExprTuple\n",
       "    sub-expressions: 35\n",
       "32. (x in X, Q(x))\n",
       "    core type: ExprTuple\n",
       "    sub-expressions: 36, 37\n",
       "33. Prob\n",
       "    core type: Literal\n",
       "    sub-expressions: \n",
       "34. (y -> {f(y) if y in X ,  R(y).)\n",
       "    core type: ExprTuple\n",
       "    sub-expressions: 38\n",
       "35. R(x)\n",
       "    core type: Operation\n",
       "    operator: 53\n",
       "    operand: 43\n",
       "36. x in X\n",
       "    core type: Operation\n",
       "    operator: 51\n",
       "    operands: 39\n",
       "37. Q(x)\n",
       "    core type: Operation\n",
       "    operator: 40\n",
       "    operand: 43\n",
       "38. y -> {f(y) if y in X ,  R(y).\n",
       "    core type: Lambda\n",
       "    parameter: 56\n",
       "    body: 42\n",
       "39. (x, X)\n",
       "    core type: ExprTuple\n",
       "    sub-expressions: 43, 55\n",
       "40. Q\n",
       "    core type: Variable\n",
       "    sub-expressions: \n",
       "41. (x)\n",
       "    core type: ExprTuple\n",
       "    sub-expressions: 43\n",
       "42. {f(y) if y in X ,  R(y).\n",
       "    core type: Conditional\n",
       "    value: 44\n",
       "    condition: 45\n",
       "43. x\n",
       "    core type: Variable\n",
       "    sub-expressions: \n",
       "44. f(y)\n",
       "    core type: Operation\n",
       "    operator: 46\n",
       "    operand: 56\n",
       "45. (y in X) and R(y)\n",
       "    core type: Operation\n",
       "    operator: 47\n",
       "    operands: 48\n",
       "46. f\n",
       "    core type: Variable\n",
       "    sub-expressions: \n",
       "47. and\n",
       "    core type: Literal\n",
       "    sub-expressions: \n",
       "48. (y in X, R(y))\n",
       "    core type: ExprTuple\n",
       "    sub-expressions: 49, 50\n",
       "49. y in X\n",
       "    core type: Operation\n",
       "    operator: 51\n",
       "    operands: 52\n",
       "50. R(y)\n",
       "    core type: Operation\n",
       "    operator: 53\n",
       "    operand: 56\n",
       "51. in\n",
       "    core type: Literal\n",
       "    sub-expressions: \n",
       "52. (y, X)\n",
       "    core type: ExprTuple\n",
       "    sub-expressions: 56, 55\n",
       "53. R\n",
       "    core type: Variable\n",
       "    sub-expressions: \n",
       "54. (y)\n",
       "    core type: ExprTuple\n",
       "    sub-expressions: 56\n",
       "55. X\n",
       "    core type: Variable\n",
       "    sub-expressions: \n",
       "56. y\n",
       "    core type: Variable\n",
       "    sub-expressions: "
      ]
     },
     "metadata": {},
     "output_type": "display_data"
    }
   ],
   "source": [
    "# display the expression information\n",
    "stored_expr.expr_info()"
   ]
  },
  {
   "cell_type": "code",
   "execution_count": null,
   "metadata": {},
   "outputs": [],
   "source": []
  }
 ],
 "metadata": {
  "kernelspec": {
   "display_name": "Python 3",
   "language": "python",
   "name": "python3"
  }
 },
 "nbformat": 4,
 "nbformat_minor": 0
}