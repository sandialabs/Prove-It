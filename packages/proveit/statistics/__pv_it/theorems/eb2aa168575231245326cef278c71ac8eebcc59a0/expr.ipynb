{
 "cells": [
  {
   "cell_type": "markdown",
   "metadata": {},
   "source": [
    "Expression of type <a class=\"ProveItLink\" href=\"../../../../../../doc/html/api/proveit.ExprTuple.html\">ExprTuple</a>\n",
    "=======================\n",
    "# from the theory of <a class=\"ProveItLink\" href=\"../../../_theory_nbs_/theory.ipynb\">proveit.statistics</a>"
   ]
  },
  {
   "cell_type": "code",
   "execution_count": 1,
   "metadata": {},
   "outputs": [],
   "source": [
    "import proveit\n",
    "# Automation is not needed when building an expression:\n",
    "proveit.defaults.automation = False # This will speed things up.\n",
    "proveit.defaults.inline_pngs = False # Makes files smaller.\n",
    "%load_expr # Load the stored expression as 'stored_expr'\n",
    "# import Expression classes needed to build the expression\n",
    "from proveit import Conditional, ExprTuple, Lambda, Omega, X\n",
    "from proveit.logic import Forall, InClass, InSet, SubsetEq\n",
    "from proveit.statistics import Prob, SampleSpaces, prob_domain"
   ]
  },
  {
   "cell_type": "code",
   "execution_count": 2,
   "metadata": {},
   "outputs": [
    {
     "data": {
      "text/html": [
       "<strong id=\"expr\">expr:</strong> <a class=\"ProveItLink\" href=\"expr.ipynb\"><img src=\"expr.png\" style=\"display:inline;vertical-align:middle;\" /></a><br>"
      ],
      "text/plain": [
       "<IPython.core.display.HTML object>"
      ]
     },
     "metadata": {},
     "output_type": "display_data"
    }
   ],
   "source": [
    "# build up the expression from sub-expressions\n",
    "expr = ExprTuple(Lambda(Omega, Conditional(Forall(instance_param_or_params = [X], instance_expr = InSet(Prob(X), prob_domain), condition = SubsetEq(X, Omega)), InClass(Omega, SampleSpaces))))"
   ]
  },
  {
   "cell_type": "code",
   "execution_count": 3,
   "metadata": {},
   "outputs": [
    {
     "name": "stdout",
     "output_type": "stream",
     "text": [
      "Passed sanity check: expr matches stored_expr\n"
     ]
    }
   ],
   "source": [
    "# check that the built expression is the same as the stored expression\n",
    "assert expr == stored_expr\n",
    "assert expr._style_id == stored_expr._style_id\n",
    "print(\"Passed sanity check: expr matches stored_expr\")"
   ]
  },
  {
   "cell_type": "code",
   "execution_count": 4,
   "metadata": {},
   "outputs": [
    {
     "name": "stdout",
     "output_type": "stream",
     "text": [
      "\\left(\\Omega \\mapsto \\left\\{\\forall_{X~|~X \\subseteq \\Omega}~\\left(\\textrm{Pr}\\left(X\\right) \\in \\left[0,1\\right]\\right) \\textrm{ if } \\Omega \\underset{{\\scriptscriptstyle c}}{\\in} \\textrm{SampleSpaces}\\right..\\right)\n"
     ]
    }
   ],
   "source": [
    "# Show the LaTeX representation of the expression for convenience if you need it.\n",
    "print(stored_expr.latex())"
   ]
  },
  {
   "cell_type": "code",
   "execution_count": 5,
   "metadata": {},
   "outputs": [
    {
     "data": {
      "text/html": [
       "no style options"
      ],
      "text/plain": [
       "no style options"
      ]
     },
     "metadata": {},
     "output_type": "display_data"
    }
   ],
   "source": [
    "stored_expr.style_options()"
   ]
  },
  {
   "cell_type": "code",
   "execution_count": 6,
   "metadata": {},
   "outputs": [
    {
     "data": {
      "text/html": [
       "<table><tr><th>&nbsp;</th><th>core type</th><th>sub-expressions</th><th>expression</th></tr>\n",
       "<tr><td>0</td><td>ExprTuple</td><td>1</td><td><a class=\"ProveItLink\" href=\"expr.ipynb\"><img src=\"expr.png\" style=\"display:inline;vertical-align:middle;\" /></a></td></tr>\n",
       "<tr><td>1</td><td>Lambda</td><td>parameter:&nbsp;21<br>body:&nbsp;3<br></td><td><a class=\"ProveItLink\" href=\"../7448731b648cc5a43c12efd751d67dedceb0c8b40/expr.ipynb\"><img src=\"../7448731b648cc5a43c12efd751d67dedceb0c8b40/expr.png\" style=\"display:inline;vertical-align:middle;\" /></a></td></tr>\n",
       "<tr><td>2</td><td>ExprTuple</td><td>21</td><td><a class=\"ProveItLink\" href=\"../7f05719e200e5d8f5df133bdeeac4b7660b34b7a0/expr.ipynb\"><img src=\"../7f05719e200e5d8f5df133bdeeac4b7660b34b7a0/expr.png\" style=\"display:inline;vertical-align:middle;\" /></a></td></tr>\n",
       "<tr><td>3</td><td>Conditional</td><td>value:&nbsp;4<br>condition:&nbsp;5<br></td><td><a class=\"ProveItLink\" href=\"../bb413cfda2392ab78aadb8dc78444856990ca4310/expr.ipynb\"><img src=\"../bb413cfda2392ab78aadb8dc78444856990ca4310/expr.png\" style=\"display:inline;vertical-align:middle;\" /></a></td></tr>\n",
       "<tr><td>4</td><td>Operation</td><td>operator:&nbsp;6<br>operand:&nbsp;10<br></td><td><a class=\"ProveItLink\" href=\"../ebacd171902ae4345854ff8c34e29fa02942dd210/expr.ipynb\"><img src=\"../ebacd171902ae4345854ff8c34e29fa02942dd210/expr.png\" style=\"display:inline;vertical-align:middle;\" /></a></td></tr>\n",
       "<tr><td>5</td><td>Operation</td><td>operator:&nbsp;8<br>operands:&nbsp;9<br></td><td><a class=\"ProveItLink\" href=\"../86c8e5a752d42e6282b9a224508934c5532363370/expr.ipynb\"><img src=\"../86c8e5a752d42e6282b9a224508934c5532363370/expr.png\" style=\"display:inline;vertical-align:middle;\" /></a></td></tr>\n",
       "<tr><td>6</td><td>Literal</td><td></td><td><a class=\"ProveItLink\" href=\"../../../../logic/booleans/quantification/universality/__pv_it/common/083d2baa0b8ecab1d230f9ec29a15aa1355809fb0/expr.ipynb\"><img src=\"../../../../logic/booleans/quantification/universality/__pv_it/common/083d2baa0b8ecab1d230f9ec29a15aa1355809fb0/expr.png\" style=\"display:inline;vertical-align:middle;\" /></a></td></tr>\n",
       "<tr><td>7</td><td>ExprTuple</td><td>10</td><td><a class=\"ProveItLink\" href=\"../20ee46fb0385be43d4e205d4c0592a770221c2290/expr.ipynb\"><img src=\"../20ee46fb0385be43d4e205d4c0592a770221c2290/expr.png\" style=\"display:inline;vertical-align:middle;\" /></a></td></tr>\n",
       "<tr><td>8</td><td>Literal</td><td></td><td><a class=\"ProveItLink\" href=\"../../../../logic/classes/membership/__pv_it/common/e3b437d28fbe17f0a50c9789c7c9b47a1270f1420/expr.ipynb\"><img src=\"../../../../logic/classes/membership/__pv_it/common/e3b437d28fbe17f0a50c9789c7c9b47a1270f1420/expr.png\" style=\"display:inline;vertical-align:middle;\" /></a></td></tr>\n",
       "<tr><td>9</td><td>ExprTuple</td><td>21, 11</td><td><a class=\"ProveItLink\" href=\"../2db67d9839bbcca5b61576b051f6210971e6b4460/expr.ipynb\"><img src=\"../2db67d9839bbcca5b61576b051f6210971e6b4460/expr.png\" style=\"display:inline;vertical-align:middle;\" /></a></td></tr>\n",
       "<tr><td>10</td><td>Lambda</td><td>parameter:&nbsp;26<br>body:&nbsp;12<br></td><td><a class=\"ProveItLink\" href=\"../8eb4007d58338f89e5d5212d8c3f492f366323d80/expr.ipynb\"><img src=\"../8eb4007d58338f89e5d5212d8c3f492f366323d80/expr.png\" style=\"display:inline;vertical-align:middle;\" /></a></td></tr>\n",
       "<tr><td>11</td><td>Literal</td><td></td><td><a class=\"ProveItLink\" href=\"../../common/b8cb4b48bfd38c392abbbe6b1d73ed28fe3180d20/expr.ipynb\"><img src=\"../../common/b8cb4b48bfd38c392abbbe6b1d73ed28fe3180d20/expr.png\" style=\"display:inline;vertical-align:middle;\" /></a></td></tr>\n",
       "<tr><td>12</td><td>Conditional</td><td>value:&nbsp;13<br>condition:&nbsp;14<br></td><td><a class=\"ProveItLink\" href=\"../49986b7083fe41fab7e0a8122ae4a623487c8d030/expr.ipynb\"><img src=\"../49986b7083fe41fab7e0a8122ae4a623487c8d030/expr.png\" style=\"display:inline;vertical-align:middle;\" /></a></td></tr>\n",
       "<tr><td>13</td><td>Operation</td><td>operator:&nbsp;15<br>operands:&nbsp;16<br></td><td><a class=\"ProveItLink\" href=\"../8282dd89d9ae8640e963d6114a3027ec25154f920/expr.ipynb\"><img src=\"../8282dd89d9ae8640e963d6114a3027ec25154f920/expr.png\" style=\"display:inline;vertical-align:middle;\" /></a></td></tr>\n",
       "<tr><td>14</td><td>Operation</td><td>operator:&nbsp;17<br>operands:&nbsp;18<br></td><td><a class=\"ProveItLink\" href=\"../2f2633cab85af6f8cf8e0c20e9ce87f53d00022d0/expr.ipynb\"><img src=\"../2f2633cab85af6f8cf8e0c20e9ce87f53d00022d0/expr.png\" style=\"display:inline;vertical-align:middle;\" /></a></td></tr>\n",
       "<tr><td>15</td><td>Literal</td><td></td><td><a class=\"ProveItLink\" href=\"../../../../logic/sets/membership/__pv_it/common/477487d8796864d23d5810f83761435f25167f690/expr.ipynb\"><img src=\"../../../../logic/sets/membership/__pv_it/common/477487d8796864d23d5810f83761435f25167f690/expr.png\" style=\"display:inline;vertical-align:middle;\" /></a></td></tr>\n",
       "<tr><td>16</td><td>ExprTuple</td><td>19, 20</td><td><a class=\"ProveItLink\" href=\"../d7f81126a36c216f3f834be346984b047a4f6ac90/expr.ipynb\"><img src=\"../d7f81126a36c216f3f834be346984b047a4f6ac90/expr.png\" style=\"display:inline;vertical-align:middle;\" /></a></td></tr>\n",
       "<tr><td>17</td><td>Literal</td><td></td><td><a class=\"ProveItLink\" href=\"../../../../logic/sets/inclusion/__pv_it/common/af21bfd7d93759eac7fe399a50aaac31ae45d8cf0/expr.ipynb\"><img src=\"../../../../logic/sets/inclusion/__pv_it/common/af21bfd7d93759eac7fe399a50aaac31ae45d8cf0/expr.png\" style=\"display:inline;vertical-align:middle;\" /></a></td></tr>\n",
       "<tr><td>18</td><td>ExprTuple</td><td>26, 21</td><td><a class=\"ProveItLink\" href=\"../02af9459b2aaaa91976fdc4aa8f76da01b6187070/expr.ipynb\"><img src=\"../02af9459b2aaaa91976fdc4aa8f76da01b6187070/expr.png\" style=\"display:inline;vertical-align:middle;\" /></a></td></tr>\n",
       "<tr><td>19</td><td>Operation</td><td>operator:&nbsp;22<br>operand:&nbsp;26<br></td><td><a class=\"ProveItLink\" href=\"../90d92ecf820ad9fcf494b713c1e114cb2a05fe570/expr.ipynb\"><img src=\"../90d92ecf820ad9fcf494b713c1e114cb2a05fe570/expr.png\" style=\"display:inline;vertical-align:middle;\" /></a></td></tr>\n",
       "<tr><td>20</td><td>Operation</td><td>operator:&nbsp;24<br>operands:&nbsp;25<br></td><td><a class=\"ProveItLink\" href=\"../../common/125651165533d749230fc5a2954cf95b83d188f70/expr.ipynb\"><img src=\"../../common/125651165533d749230fc5a2954cf95b83d188f70/expr.png\" style=\"display:inline;vertical-align:middle;\" /></a></td></tr>\n",
       "<tr><td>21</td><td>Variable</td><td></td><td><a class=\"ProveItLink\" href=\"../../../../__pv_it/common/53406c163510d898bbe57aa9c808cb4fce1aa1e40/expr.ipynb\"><img src=\"../../../../__pv_it/common/53406c163510d898bbe57aa9c808cb4fce1aa1e40/expr.png\" style=\"display:inline;vertical-align:middle;\" /></a></td></tr>\n",
       "<tr><td>22</td><td>Literal</td><td></td><td><a class=\"ProveItLink\" href=\"../../common/088e9f40f9e6ba1dcc7d39fd35fd8d244261148e0/expr.ipynb\"><img src=\"../../common/088e9f40f9e6ba1dcc7d39fd35fd8d244261148e0/expr.png\" style=\"display:inline;vertical-align:middle;\" /></a></td></tr>\n",
       "<tr><td>23</td><td>ExprTuple</td><td>26</td><td><a class=\"ProveItLink\" href=\"../db9f0ed68786c332572391edc1a73892f9a9c8f90/expr.ipynb\"><img src=\"../db9f0ed68786c332572391edc1a73892f9a9c8f90/expr.png\" style=\"display:inline;vertical-align:middle;\" /></a></td></tr>\n",
       "<tr><td>24</td><td>Literal</td><td></td><td><a class=\"ProveItLink\" href=\"../../../../numbers/number_sets/real_numbers/__pv_it/common/7a0e2d2a71a9c11a68afbf981a5ed39949fa14d10/expr.ipynb\"><img src=\"../../../../numbers/number_sets/real_numbers/__pv_it/common/7a0e2d2a71a9c11a68afbf981a5ed39949fa14d10/expr.png\" style=\"display:inline;vertical-align:middle;\" /></a></td></tr>\n",
       "<tr><td>25</td><td>ExprTuple</td><td>27, 28</td><td><a class=\"ProveItLink\" href=\"../../../../numbers/numerals/decimals/__pv_it/theorems/da8a8b171a5f1ff8208183b4cf6a698b32a8f24a0/expr.ipynb\"><img src=\"../../../../numbers/numerals/decimals/__pv_it/theorems/da8a8b171a5f1ff8208183b4cf6a698b32a8f24a0/expr.png\" style=\"display:inline;vertical-align:middle;\" /></a></td></tr>\n",
       "<tr><td>26</td><td>Variable</td><td></td><td><a class=\"ProveItLink\" href=\"../../../../__pv_it/common/f1ca094affb79f5011ff4d63eb4e121bfbde7f330/expr.ipynb\"><img src=\"../../../../__pv_it/common/f1ca094affb79f5011ff4d63eb4e121bfbde7f330/expr.png\" style=\"display:inline;vertical-align:middle;\" /></a></td></tr>\n",
       "<tr><td>27</td><td>Literal</td><td></td><td><a class=\"ProveItLink\" href=\"../../../../numbers/numerals/__pv_it/common/dd4e19e8b134dfb293470ea55fe3589b0ab9f8040/expr.ipynb\"><img src=\"../../../../numbers/numerals/__pv_it/common/dd4e19e8b134dfb293470ea55fe3589b0ab9f8040/expr.png\" style=\"display:inline;vertical-align:middle;\" /></a></td></tr>\n",
       "<tr><td>28</td><td>Literal</td><td></td><td><a class=\"ProveItLink\" href=\"../../../../numbers/numerals/__pv_it/common/682157d4892d216d9e5626ed533aff9b56b9506e0/expr.ipynb\"><img src=\"../../../../numbers/numerals/__pv_it/common/682157d4892d216d9e5626ed533aff9b56b9506e0/expr.png\" style=\"display:inline;vertical-align:middle;\" /></a></td></tr>\n",
       "</table>\n"
      ],
      "text/plain": [
       "0. (Omega -> {forall_{X | X subset_eq Omega} (Pr(X) in [0,1]) if Omega in_c SampleSpaces.)\n",
       "   core type: ExprTuple\n",
       "   sub-expressions: 1\n",
       "1. Omega -> {forall_{X | X subset_eq Omega} (Pr(X) in [0,1]) if Omega in_c SampleSpaces.\n",
       "   core type: Lambda\n",
       "   parameter: 21\n",
       "   body: 3\n",
       "2. (Omega)\n",
       "   core type: ExprTuple\n",
       "   sub-expressions: 21\n",
       "3. {forall_{X | X subset_eq Omega} (Pr(X) in [0,1]) if Omega in_c SampleSpaces.\n",
       "   core type: Conditional\n",
       "   value: 4\n",
       "   condition: 5\n",
       "4. forall_{X | X subset_eq Omega} (Pr(X) in [0,1])\n",
       "   core type: Operation\n",
       "   operator: 6\n",
       "   operand: 10\n",
       "5. Omega in_c SampleSpaces\n",
       "   core type: Operation\n",
       "   operator: 8\n",
       "   operands: 9\n",
       "6. forall\n",
       "   core type: Literal\n",
       "   sub-expressions: \n",
       "7. (X -> {Pr(X) in [0,1] if X subset_eq Omega.)\n",
       "   core type: ExprTuple\n",
       "   sub-expressions: 10\n",
       "8. in_c\n",
       "   core type: Literal\n",
       "   sub-expressions: \n",
       "9. (Omega, SampleSpaces)\n",
       "   core type: ExprTuple\n",
       "   sub-expressions: 21, 11\n",
       "10. X -> {Pr(X) in [0,1] if X subset_eq Omega.\n",
       "    core type: Lambda\n",
       "    parameter: 26\n",
       "    body: 12\n",
       "11. SampleSpaces\n",
       "    core type: Literal\n",
       "    sub-expressions: \n",
       "12. {Pr(X) in [0,1] if X subset_eq Omega.\n",
       "    core type: Conditional\n",
       "    value: 13\n",
       "    condition: 14\n",
       "13. Pr(X) in [0,1]\n",
       "    core type: Operation\n",
       "    operator: 15\n",
       "    operands: 16\n",
       "14. X subset_eq Omega\n",
       "    core type: Operation\n",
       "    operator: 17\n",
       "    operands: 18\n",
       "15. in\n",
       "    core type: Literal\n",
       "    sub-expressions: \n",
       "16. (Pr(X), [0,1])\n",
       "    core type: ExprTuple\n",
       "    sub-expressions: 19, 20\n",
       "17. subset_eq\n",
       "    core type: Literal\n",
       "    sub-expressions: \n",
       "18. (X, Omega)\n",
       "    core type: ExprTuple\n",
       "    sub-expressions: 26, 21\n",
       "19. Pr(X)\n",
       "    core type: Operation\n",
       "    operator: 22\n",
       "    operand: 26\n",
       "20. [0,1]\n",
       "    core type: Operation\n",
       "    operator: 24\n",
       "    operands: 25\n",
       "21. Omega\n",
       "    core type: Variable\n",
       "    sub-expressions: \n",
       "22. Pr\n",
       "    core type: Literal\n",
       "    sub-expressions: \n",
       "23. (X)\n",
       "    core type: ExprTuple\n",
       "    sub-expressions: 26\n",
       "24. IntervalCC\n",
       "    core type: Literal\n",
       "    sub-expressions: \n",
       "25. (0, 1)\n",
       "    core type: ExprTuple\n",
       "    sub-expressions: 27, 28\n",
       "26. X\n",
       "    core type: Variable\n",
       "    sub-expressions: \n",
       "27. 0\n",
       "    core type: Literal\n",
       "    sub-expressions: \n",
       "28. 1\n",
       "    core type: Literal\n",
       "    sub-expressions: "
      ]
     },
     "metadata": {},
     "output_type": "display_data"
    }
   ],
   "source": [
    "# display the expression information\n",
    "stored_expr.expr_info()"
   ]
  },
  {
   "cell_type": "code",
   "execution_count": null,
   "metadata": {},
   "outputs": [],
   "source": []
  }
 ],
 "metadata": {
  "kernelspec": {
   "display_name": "Python 3",
   "language": "python",
   "name": "python3"
  }
 },
 "nbformat": 4,
 "nbformat_minor": 0
}