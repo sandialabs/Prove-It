{
 "cells": [
  {
   "cell_type": "markdown",
   "metadata": {},
   "source": [
    "Expression of type <a class=\"ProveItLink\" href=\"../../../../../../doc/html/api/proveit.Lambda.html\">Lambda</a>\n",
    "=======================\n",
    "# from the theory of <a class=\"ProveItLink\" href=\"../../../_theory_nbs_/theory.ipynb\">proveit.statistics</a>"
   ]
  },
  {
   "cell_type": "code",
   "execution_count": 1,
   "metadata": {},
   "outputs": [],
   "source": [
    "import proveit\n",
    "# Automation is not needed when building an expression:\n",
    "proveit.defaults.automation = False # This will speed things up.\n",
    "proveit.defaults.inline_pngs = False # Makes files smaller.\n",
    "%load_expr # Load the stored expression as 'stored_expr'\n",
    "# import Expression classes needed to build the expression\n",
    "from proveit import Conditional, Lambda, Ry, X, fy, y\n",
    "from proveit.logic import And, InSet"
   ]
  },
  {
   "cell_type": "code",
   "execution_count": 2,
   "metadata": {},
   "outputs": [
    {
     "data": {
      "text/html": [
       "<strong id=\"expr\">expr:</strong> <a class=\"ProveItLink\" href=\"expr.ipynb\"><img src=\"expr.png\" style=\"display:inline;vertical-align:middle;\" /></a><br>"
      ],
      "text/plain": [
       "<IPython.core.display.HTML object>"
      ]
     },
     "metadata": {},
     "output_type": "display_data"
    }
   ],
   "source": [
    "# build up the expression from sub-expressions\n",
    "expr = Lambda(y, Conditional(fy, And(InSet(y, X), Ry)))"
   ]
  },
  {
   "cell_type": "code",
   "execution_count": 3,
   "metadata": {},
   "outputs": [
    {
     "name": "stdout",
     "output_type": "stream",
     "text": [
      "Passed sanity check: expr matches stored_expr\n"
     ]
    }
   ],
   "source": [
    "# check that the built expression is the same as the stored expression\n",
    "assert expr == stored_expr\n",
    "assert expr._style_id == stored_expr._style_id\n",
    "print(\"Passed sanity check: expr matches stored_expr\")"
   ]
  },
  {
   "cell_type": "code",
   "execution_count": 4,
   "metadata": {},
   "outputs": [
    {
     "name": "stdout",
     "output_type": "stream",
     "text": [
      "y \\mapsto \\left\\{f\\left(y\\right) \\textrm{ if } y \\in X ,  R\\left(y\\right)\\right..\n"
     ]
    }
   ],
   "source": [
    "# Show the LaTeX representation of the expression for convenience if you need it.\n",
    "print(stored_expr.latex())"
   ]
  },
  {
   "cell_type": "code",
   "execution_count": 5,
   "metadata": {},
   "outputs": [
    {
     "data": {
      "text/html": [
       "no style options"
      ],
      "text/plain": [
       "no style options"
      ]
     },
     "metadata": {},
     "output_type": "display_data"
    }
   ],
   "source": [
    "stored_expr.style_options()"
   ]
  },
  {
   "cell_type": "code",
   "execution_count": 6,
   "metadata": {},
   "outputs": [
    {
     "data": {
      "text/html": [
       "<table><tr><th>&nbsp;</th><th>core type</th><th>sub-expressions</th><th>expression</th></tr>\n",
       "<tr><td>0</td><td>Lambda</td><td>parameter:&nbsp;14<br>body:&nbsp;1<br></td><td><a class=\"ProveItLink\" href=\"expr.ipynb\"><img src=\"expr.png\" style=\"display:inline;vertical-align:middle;\" /></a></td></tr>\n",
       "<tr><td>1</td><td>Conditional</td><td>value:&nbsp;2<br>condition:&nbsp;3<br></td><td><a class=\"ProveItLink\" href=\"../5f2460ca4d128e782d9c41baa4ee832d155e745a0/expr.ipynb\"><img src=\"../5f2460ca4d128e782d9c41baa4ee832d155e745a0/expr.png\" style=\"display:inline;vertical-align:middle;\" /></a></td></tr>\n",
       "<tr><td>2</td><td>Operation</td><td>operator:&nbsp;4<br>operand:&nbsp;14<br></td><td><a class=\"ProveItLink\" href=\"../../../../__pv_it/common/06ea2446fcc086288e80a0ce3d5eebc763658e570/expr.ipynb\"><img src=\"../../../../__pv_it/common/06ea2446fcc086288e80a0ce3d5eebc763658e570/expr.png\" style=\"display:inline;vertical-align:middle;\" /></a></td></tr>\n",
       "<tr><td>3</td><td>Operation</td><td>operator:&nbsp;5<br>operands:&nbsp;6<br></td><td><a class=\"ProveItLink\" href=\"../5f5faa5fa28c1e36529f2dfebbb9483375fb3ee20/expr.ipynb\"><img src=\"../5f5faa5fa28c1e36529f2dfebbb9483375fb3ee20/expr.png\" style=\"display:inline;vertical-align:middle;\" /></a></td></tr>\n",
       "<tr><td>4</td><td>Variable</td><td></td><td><a class=\"ProveItLink\" href=\"../../../../__pv_it/common/01b6dbb444a31fc38af4c2379badef6c75b363710/expr.ipynb\"><img src=\"../../../../__pv_it/common/01b6dbb444a31fc38af4c2379badef6c75b363710/expr.png\" style=\"display:inline;vertical-align:middle;\" /></a></td></tr>\n",
       "<tr><td>5</td><td>Literal</td><td></td><td><a class=\"ProveItLink\" href=\"../../../../logic/booleans/conjunction/__pv_it/common/42118ff318bd65d98b1393f64ce7c2269feef76e0/expr.ipynb\"><img src=\"../../../../logic/booleans/conjunction/__pv_it/common/42118ff318bd65d98b1393f64ce7c2269feef76e0/expr.png\" style=\"display:inline;vertical-align:middle;\" /></a></td></tr>\n",
       "<tr><td>6</td><td>ExprTuple</td><td>7, 8</td><td><a class=\"ProveItLink\" href=\"../1dd48d7d20343256f1265e5133de5bc0b203b0e70/expr.ipynb\"><img src=\"../1dd48d7d20343256f1265e5133de5bc0b203b0e70/expr.png\" style=\"display:inline;vertical-align:middle;\" /></a></td></tr>\n",
       "<tr><td>7</td><td>Operation</td><td>operator:&nbsp;9<br>operands:&nbsp;10<br></td><td><a class=\"ProveItLink\" href=\"../a6ce99f1db20312c71026817f7eb1f3add3d8bc30/expr.ipynb\"><img src=\"../a6ce99f1db20312c71026817f7eb1f3add3d8bc30/expr.png\" style=\"display:inline;vertical-align:middle;\" /></a></td></tr>\n",
       "<tr><td>8</td><td>Operation</td><td>operator:&nbsp;11<br>operand:&nbsp;14<br></td><td><a class=\"ProveItLink\" href=\"../../../../__pv_it/common/85097678e92ec4038a2f5595a83450528519e5fc0/expr.ipynb\"><img src=\"../../../../__pv_it/common/85097678e92ec4038a2f5595a83450528519e5fc0/expr.png\" style=\"display:inline;vertical-align:middle;\" /></a></td></tr>\n",
       "<tr><td>9</td><td>Literal</td><td></td><td><a class=\"ProveItLink\" href=\"../../../../logic/sets/membership/__pv_it/common/477487d8796864d23d5810f83761435f25167f690/expr.ipynb\"><img src=\"../../../../logic/sets/membership/__pv_it/common/477487d8796864d23d5810f83761435f25167f690/expr.png\" style=\"display:inline;vertical-align:middle;\" /></a></td></tr>\n",
       "<tr><td>10</td><td>ExprTuple</td><td>14, 13</td><td><a class=\"ProveItLink\" href=\"../478c05f56947a558e3a95e1f437b1240d2b64e490/expr.ipynb\"><img src=\"../478c05f56947a558e3a95e1f437b1240d2b64e490/expr.png\" style=\"display:inline;vertical-align:middle;\" /></a></td></tr>\n",
       "<tr><td>11</td><td>Variable</td><td></td><td><a class=\"ProveItLink\" href=\"../../../../__pv_it/common/647ca33d6b96e29d5aa85a15d2241c7ebd0c6e4b0/expr.ipynb\"><img src=\"../../../../__pv_it/common/647ca33d6b96e29d5aa85a15d2241c7ebd0c6e4b0/expr.png\" style=\"display:inline;vertical-align:middle;\" /></a></td></tr>\n",
       "<tr><td>12</td><td>ExprTuple</td><td>14</td><td><a class=\"ProveItLink\" href=\"../../../../__pv_it/common/8ec7f6fe639763828b300003a52d700ece4a5c240/expr.ipynb\"><img src=\"../../../../__pv_it/common/8ec7f6fe639763828b300003a52d700ece4a5c240/expr.png\" style=\"display:inline;vertical-align:middle;\" /></a></td></tr>\n",
       "<tr><td>13</td><td>Variable</td><td></td><td><a class=\"ProveItLink\" href=\"../../../../__pv_it/common/f1ca094affb79f5011ff4d63eb4e121bfbde7f330/expr.ipynb\"><img src=\"../../../../__pv_it/common/f1ca094affb79f5011ff4d63eb4e121bfbde7f330/expr.png\" style=\"display:inline;vertical-align:middle;\" /></a></td></tr>\n",
       "<tr><td>14</td><td>Variable</td><td></td><td><a class=\"ProveItLink\" href=\"../../../../__pv_it/common/ff7dba4ef0bbe791ab573bf2d9c220a304399ac80/expr.ipynb\"><img src=\"../../../../__pv_it/common/ff7dba4ef0bbe791ab573bf2d9c220a304399ac80/expr.png\" style=\"display:inline;vertical-align:middle;\" /></a></td></tr>\n",
       "</table>\n"
      ],
      "text/plain": [
       "0. y -> {f(y) if y in X ,  R(y).\n",
       "   core type: Lambda\n",
       "   parameter: 14\n",
       "   body: 1\n",
       "1. {f(y) if y in X ,  R(y).\n",
       "   core type: Conditional\n",
       "   value: 2\n",
       "   condition: 3\n",
       "2. f(y)\n",
       "   core type: Operation\n",
       "   operator: 4\n",
       "   operand: 14\n",
       "3. (y in X) and R(y)\n",
       "   core type: Operation\n",
       "   operator: 5\n",
       "   operands: 6\n",
       "4. f\n",
       "   core type: Variable\n",
       "   sub-expressions: \n",
       "5. and\n",
       "   core type: Literal\n",
       "   sub-expressions: \n",
       "6. (y in X, R(y))\n",
       "   core type: ExprTuple\n",
       "   sub-expressions: 7, 8\n",
       "7. y in X\n",
       "   core type: Operation\n",
       "   operator: 9\n",
       "   operands: 10\n",
       "8. R(y)\n",
       "   core type: Operation\n",
       "   operator: 11\n",
       "   operand: 14\n",
       "9. in\n",
       "   core type: Literal\n",
       "   sub-expressions: \n",
       "10. (y, X)\n",
       "    core type: ExprTuple\n",
       "    sub-expressions: 14, 13\n",
       "11. R\n",
       "    core type: Variable\n",
       "    sub-expressions: \n",
       "12. (y)\n",
       "    core type: ExprTuple\n",
       "    sub-expressions: 14\n",
       "13. X\n",
       "    core type: Variable\n",
       "    sub-expressions: \n",
       "14. y\n",
       "    core type: Variable\n",
       "    sub-expressions: "
      ]
     },
     "metadata": {},
     "output_type": "display_data"
    }
   ],
   "source": [
    "# display the expression information\n",
    "stored_expr.expr_info()"
   ]
  },
  {
   "cell_type": "code",
   "execution_count": null,
   "metadata": {},
   "outputs": [],
   "source": []
  }
 ],
 "metadata": {
  "kernelspec": {
   "display_name": "Python 3",
   "language": "python",
   "name": "python3"
  }
 },
 "nbformat": 4,
 "nbformat_minor": 0
}