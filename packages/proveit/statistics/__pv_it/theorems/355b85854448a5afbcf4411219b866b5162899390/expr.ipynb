{
 "cells": [
  {
   "cell_type": "markdown",
   "metadata": {},
   "source": [
    "Expression of type <a class=\"ProveItLink\" href=\"../../../../../../doc/html/api/proveit.Conditional.html\">Conditional</a>\n",
    "=======================\n",
    "# from the theory of <a class=\"ProveItLink\" href=\"../../../_theory_nbs_/theory.ipynb\">proveit.statistics</a>"
   ]
  },
  {
   "cell_type": "code",
   "execution_count": 1,
   "metadata": {},
   "outputs": [],
   "source": [
    "import proveit\n",
    "# Automation is not needed when building an expression:\n",
    "proveit.defaults.automation = False # This will speed things up.\n",
    "proveit.defaults.inline_pngs = False # Makes files smaller.\n",
    "%load_expr # Load the stored expression as 'stored_expr'\n",
    "# import Expression classes needed to build the expression\n",
    "from proveit import Conditional, Omega, Q, Qx, R, Rx, X, f, fx, x\n",
    "from proveit.logic import Forall, Functions, Implies, InSet\n",
    "from proveit.numbers import LessEq\n",
    "from proveit.statistics import ProbOfAll"
   ]
  },
  {
   "cell_type": "code",
   "execution_count": 2,
   "metadata": {},
   "outputs": [
    {
     "data": {
      "text/html": [
       "<strong id=\"expr\">expr:</strong> <a class=\"ProveItLink\" href=\"expr.ipynb\"><img src=\"expr.png\" style=\"display:inline;vertical-align:middle;\" /></a><br>"
      ],
      "text/plain": [
       "<IPython.core.display.HTML object>"
      ]
     },
     "metadata": {},
     "output_type": "display_data"
    }
   ],
   "source": [
    "# build up the expression from sub-expressions\n",
    "sub_expr1 = [x]\n",
    "expr = Conditional(Forall(instance_param_or_params = [Q, R], instance_expr = Implies(Forall(instance_param_or_params = sub_expr1, instance_expr = Rx, domain = X, condition = Qx), LessEq(ProbOfAll(instance_param_or_params = sub_expr1, instance_element = fx, domain = X, condition = Qx), ProbOfAll(instance_param_or_params = sub_expr1, instance_element = fx, domain = X, condition = Rx)).with_wrapping_at(2)).with_wrapping_at(2)), InSet(f, Functions(X, Omega)))"
   ]
  },
  {
   "cell_type": "code",
   "execution_count": 3,
   "metadata": {},
   "outputs": [
    {
     "name": "stdout",
     "output_type": "stream",
     "text": [
      "Passed sanity check: expr matches stored_expr\n"
     ]
    }
   ],
   "source": [
    "# check that the built expression is the same as the stored expression\n",
    "assert expr == stored_expr\n",
    "assert expr._style_id == stored_expr._style_id\n",
    "print(\"Passed sanity check: expr matches stored_expr\")"
   ]
  },
  {
   "cell_type": "code",
   "execution_count": 4,
   "metadata": {},
   "outputs": [
    {
     "name": "stdout",
     "output_type": "stream",
     "text": [
      "\\left\\{\\forall_{Q, R}~\\left(\\begin{array}{c} \\begin{array}{l} \\left[\\forall_{x \\in X~|~Q\\left(x\\right)}~R\\left(x\\right)\\right] \\Rightarrow  \\\\ \\left(\\begin{array}{c} \\begin{array}{l} \\left[\\textrm{Prob}_{x \\in X~|~Q\\left(x\\right)}~f\\left(x\\right)\\right] \\leq  \\\\ \\left[\\textrm{Prob}_{x \\in X~|~R\\left(x\\right)}~f\\left(x\\right)\\right] \\end{array} \\end{array}\\right) \\end{array} \\end{array}\\right) \\textrm{ if } f \\in \\left[X \\rightarrow \\Omega\\right]\\right..\n"
     ]
    }
   ],
   "source": [
    "# Show the LaTeX representation of the expression for convenience if you need it.\n",
    "print(stored_expr.latex())"
   ]
  },
  {
   "cell_type": "code",
   "execution_count": 5,
   "metadata": {},
   "outputs": [
    {
     "data": {
      "text/html": [
       "<table>\n",
       "<tr><th>name</th><th>description</th><th>default</th><th>current value</th><th>related methods</th></tr><tr><td>condition_delimiter</td><td>'comma' or 'and'</td><td>comma</td><td>comma</td><td>('with_comma_delimiter', 'with_conjunction_delimiter')</td></tr>\n",
       "</table>\n"
      ],
      "text/plain": [
       "style name: condition_delimiter\n",
       "description: 'comma' or 'and'\n",
       "default: comma\n",
       "current value: comma\n",
       "related methods: ('with_comma_delimiter', 'with_conjunction_delimiter')"
      ]
     },
     "metadata": {},
     "output_type": "display_data"
    }
   ],
   "source": [
    "stored_expr.style_options()"
   ]
  },
  {
   "cell_type": "code",
   "execution_count": 6,
   "metadata": {},
   "outputs": [
    {
     "data": {
      "text/html": [
       "<table><tr><th>&nbsp;</th><th>core type</th><th>sub-expressions</th><th>expression</th></tr>\n",
       "<tr><td>0</td><td>Conditional</td><td>value:&nbsp;1<br>condition:&nbsp;2<br></td><td><a class=\"ProveItLink\" href=\"expr.ipynb\"><img src=\"expr.png\" style=\"display:inline;vertical-align:middle;\" /></a></td></tr>\n",
       "<tr><td>1</td><td>Operation</td><td>operator:&nbsp;16<br>operand:&nbsp;5<br></td><td><a class=\"ProveItLink\" href=\"../a9d1c2cfef4a9e7fb8e17ba2daf2507aa75881a40/expr.ipynb\"><img src=\"../a9d1c2cfef4a9e7fb8e17ba2daf2507aa75881a40/expr.png\" style=\"display:inline;vertical-align:middle;\" /></a></td></tr>\n",
       "<tr><td>2</td><td>Operation</td><td>operator:&nbsp;42<br>operands:&nbsp;4<br></td><td><a class=\"ProveItLink\" href=\"../28c818a1ea911885a366fa1369ab02014685cf920/expr.ipynb\"><img src=\"../28c818a1ea911885a366fa1369ab02014685cf920/expr.png\" style=\"display:inline;vertical-align:middle;\" /></a></td></tr>\n",
       "<tr><td>3</td><td>ExprTuple</td><td>5</td><td><a class=\"ProveItLink\" href=\"../df1d8b4b5742d564cd4a77e97b559c6aa2d9239b0/expr.ipynb\"><img src=\"../df1d8b4b5742d564cd4a77e97b559c6aa2d9239b0/expr.png\" style=\"display:inline;vertical-align:middle;\" /></a></td></tr>\n",
       "<tr><td>4</td><td>ExprTuple</td><td>35, 6</td><td><a class=\"ProveItLink\" href=\"../3b7361630d61a5b231513d133d51b9d57cd4b3380/expr.ipynb\"><img src=\"../3b7361630d61a5b231513d133d51b9d57cd4b3380/expr.png\" style=\"display:inline;vertical-align:middle;\" /></a></td></tr>\n",
       "<tr><td>5</td><td>Lambda</td><td>parameters:&nbsp;7<br>body:&nbsp;8<br></td><td><a class=\"ProveItLink\" href=\"../6f59cb1d34c5a1bceb274fed2a34d39db59dde120/expr.ipynb\"><img src=\"../6f59cb1d34c5a1bceb274fed2a34d39db59dde120/expr.png\" style=\"display:inline;vertical-align:middle;\" /></a></td></tr>\n",
       "<tr><td>6</td><td>Operation</td><td>operator:&nbsp;9<br>operands:&nbsp;10<br></td><td><a class=\"ProveItLink\" href=\"../dcafb66eb339774dd315f5e3d7738306bc6fedd40/expr.ipynb\"><img src=\"../dcafb66eb339774dd315f5e3d7738306bc6fedd40/expr.png\" style=\"display:inline;vertical-align:middle;\" /></a></td></tr>\n",
       "<tr><td>7</td><td>ExprTuple</td><td>41, 44</td><td><a class=\"ProveItLink\" href=\"../a931cbc350c5185fab1635de3751b2517ac68bef0/expr.ipynb\"><img src=\"../a931cbc350c5185fab1635de3751b2517ac68bef0/expr.png\" style=\"display:inline;vertical-align:middle;\" /></a></td></tr>\n",
       "<tr><td>8</td><td>Operation</td><td>operator:&nbsp;11<br>operands:&nbsp;12<br></td><td><a class=\"ProveItLink\" href=\"../88c14555588439b067a77890b9b3a8f9c39b53df0/expr.ipynb\"><img src=\"../88c14555588439b067a77890b9b3a8f9c39b53df0/expr.png\" style=\"display:inline;vertical-align:middle;\" /></a></td></tr>\n",
       "<tr><td>9</td><td>Literal</td><td></td><td><a class=\"ProveItLink\" href=\"../../../../logic/sets/functions/__pv_it/common/02ebbf96e6abbec25aabdbf00e53179656546f630/expr.ipynb\"><img src=\"../../../../logic/sets/functions/__pv_it/common/02ebbf96e6abbec25aabdbf00e53179656546f630/expr.png\" style=\"display:inline;vertical-align:middle;\" /></a></td></tr>\n",
       "<tr><td>10</td><td>ExprTuple</td><td>46, 13</td><td><a class=\"ProveItLink\" href=\"../02af9459b2aaaa91976fdc4aa8f76da01b6187070/expr.ipynb\"><img src=\"../02af9459b2aaaa91976fdc4aa8f76da01b6187070/expr.png\" style=\"display:inline;vertical-align:middle;\" /></a></td></tr>\n",
       "<tr><td>11</td><td>Literal</td><td></td><td><a class=\"ProveItLink\" href=\"../../../../logic/booleans/implication/__pv_it/common/02bdb382575728da8cdbaed545b9096ea7a1bd5b0/expr.ipynb\"><img src=\"../../../../logic/booleans/implication/__pv_it/common/02bdb382575728da8cdbaed545b9096ea7a1bd5b0/expr.png\" style=\"display:inline;vertical-align:middle;\" /></a></td></tr>\n",
       "<tr><td>12</td><td>ExprTuple</td><td>14, 15</td><td><a class=\"ProveItLink\" href=\"../b554be14d0096db49e36679510439a0bdf469b600/expr.ipynb\"><img src=\"../b554be14d0096db49e36679510439a0bdf469b600/expr.png\" style=\"display:inline;vertical-align:middle;\" /></a></td></tr>\n",
       "<tr><td>13</td><td>Variable</td><td></td><td><a class=\"ProveItLink\" href=\"../../../../__pv_it/common/53406c163510d898bbe57aa9c808cb4fce1aa1e40/expr.ipynb\"><img src=\"../../../../__pv_it/common/53406c163510d898bbe57aa9c808cb4fce1aa1e40/expr.png\" style=\"display:inline;vertical-align:middle;\" /></a></td></tr>\n",
       "<tr><td>14</td><td>Operation</td><td>operator:&nbsp;16<br>operand:&nbsp;20<br></td><td><a class=\"ProveItLink\" href=\"../06815f42c8cdcffd320fb58d20f82e5870f2ed400/expr.ipynb\"><img src=\"../06815f42c8cdcffd320fb58d20f82e5870f2ed400/expr.png\" style=\"display:inline;vertical-align:middle;\" /></a></td></tr>\n",
       "<tr><td>15</td><td>Operation</td><td>operator:&nbsp;18<br>operands:&nbsp;19<br></td><td><a class=\"ProveItLink\" href=\"../86c62cb724b0c2f505a240efcaa424ce8991f5fb0/expr.ipynb\"><img src=\"../86c62cb724b0c2f505a240efcaa424ce8991f5fb0/expr.png\" style=\"display:inline;vertical-align:middle;\" /></a></td></tr>\n",
       "<tr><td>16</td><td>Literal</td><td></td><td><a class=\"ProveItLink\" href=\"../../../../logic/booleans/quantification/universality/__pv_it/common/083d2baa0b8ecab1d230f9ec29a15aa1355809fb0/expr.ipynb\"><img src=\"../../../../logic/booleans/quantification/universality/__pv_it/common/083d2baa0b8ecab1d230f9ec29a15aa1355809fb0/expr.png\" style=\"display:inline;vertical-align:middle;\" /></a></td></tr>\n",
       "<tr><td>17</td><td>ExprTuple</td><td>20</td><td><a class=\"ProveItLink\" href=\"../473a0cd798967f4385f053ceb391740bfe01b2130/expr.ipynb\"><img src=\"../473a0cd798967f4385f053ceb391740bfe01b2130/expr.png\" style=\"display:inline;vertical-align:middle;\" /></a></td></tr>\n",
       "<tr><td>18</td><td>Literal</td><td></td><td><a class=\"ProveItLink\" href=\"../../../../numbers/ordering/__pv_it/common/68379698d72b4689bbda4b5c5cca29ee599d70280/expr.ipynb\"><img src=\"../../../../numbers/ordering/__pv_it/common/68379698d72b4689bbda4b5c5cca29ee599d70280/expr.png\" style=\"display:inline;vertical-align:middle;\" /></a></td></tr>\n",
       "<tr><td>19</td><td>ExprTuple</td><td>21, 22</td><td><a class=\"ProveItLink\" href=\"../f87628ede09921c89f947e105f8ad4bcd5e9da830/expr.ipynb\"><img src=\"../f87628ede09921c89f947e105f8ad4bcd5e9da830/expr.png\" style=\"display:inline;vertical-align:middle;\" /></a></td></tr>\n",
       "<tr><td>20</td><td>Lambda</td><td>parameter:&nbsp;47<br>body:&nbsp;23<br></td><td><a class=\"ProveItLink\" href=\"../c7f6396d01336cc907da5f77b993d135841281550/expr.ipynb\"><img src=\"../c7f6396d01336cc907da5f77b993d135841281550/expr.png\" style=\"display:inline;vertical-align:middle;\" /></a></td></tr>\n",
       "<tr><td>21</td><td>Operation</td><td>operator:&nbsp;25<br>operand:&nbsp;27<br></td><td><a class=\"ProveItLink\" href=\"../c9eba1a56b08c45cb7c20a06998468fa04e98ae00/expr.ipynb\"><img src=\"../c9eba1a56b08c45cb7c20a06998468fa04e98ae00/expr.png\" style=\"display:inline;vertical-align:middle;\" /></a></td></tr>\n",
       "<tr><td>22</td><td>Operation</td><td>operator:&nbsp;25<br>operand:&nbsp;28<br></td><td><a class=\"ProveItLink\" href=\"../a9b79ad3d4fba806dc2a195cc9670573d0f22a8f0/expr.ipynb\"><img src=\"../a9b79ad3d4fba806dc2a195cc9670573d0f22a8f0/expr.png\" style=\"display:inline;vertical-align:middle;\" /></a></td></tr>\n",
       "<tr><td>23</td><td>Conditional</td><td>value:&nbsp;40<br>condition:&nbsp;31<br></td><td><a class=\"ProveItLink\" href=\"../a6c7dc4d4a7bc023ca0339e7e69a2e137e064e690/expr.ipynb\"><img src=\"../a6c7dc4d4a7bc023ca0339e7e69a2e137e064e690/expr.png\" style=\"display:inline;vertical-align:middle;\" /></a></td></tr>\n",
       "<tr><td>24</td><td>ExprTuple</td><td>27</td><td><a class=\"ProveItLink\" href=\"../ca629072ef198841d7162dc96d2c6284b35aa8200/expr.ipynb\"><img src=\"../ca629072ef198841d7162dc96d2c6284b35aa8200/expr.png\" style=\"display:inline;vertical-align:middle;\" /></a></td></tr>\n",
       "<tr><td>25</td><td>Literal</td><td></td><td><a class=\"ProveItLink\" href=\"../../common/bf8e6ae6a9b0a51a97b3e4d62d4b2c23d653c7080/expr.ipynb\"><img src=\"../../common/bf8e6ae6a9b0a51a97b3e4d62d4b2c23d653c7080/expr.png\" style=\"display:inline;vertical-align:middle;\" /></a></td></tr>\n",
       "<tr><td>26</td><td>ExprTuple</td><td>28</td><td><a class=\"ProveItLink\" href=\"../407aac072f102813c747c9c526819b798fb3e3920/expr.ipynb\"><img src=\"../407aac072f102813c747c9c526819b798fb3e3920/expr.png\" style=\"display:inline;vertical-align:middle;\" /></a></td></tr>\n",
       "<tr><td>27</td><td>Lambda</td><td>parameter:&nbsp;47<br>body:&nbsp;29<br></td><td><a class=\"ProveItLink\" href=\"../eee4bc2b42417a7915e2a7d64c9ba5d9eb68cd480/expr.ipynb\"><img src=\"../eee4bc2b42417a7915e2a7d64c9ba5d9eb68cd480/expr.png\" style=\"display:inline;vertical-align:middle;\" /></a></td></tr>\n",
       "<tr><td>28</td><td>Lambda</td><td>parameter:&nbsp;47<br>body:&nbsp;30<br></td><td><a class=\"ProveItLink\" href=\"../a96925b07253a6f91c3becb9a24eb1eabe2ae67f0/expr.ipynb\"><img src=\"../a96925b07253a6f91c3becb9a24eb1eabe2ae67f0/expr.png\" style=\"display:inline;vertical-align:middle;\" /></a></td></tr>\n",
       "<tr><td>29</td><td>Conditional</td><td>value:&nbsp;32<br>condition:&nbsp;31<br></td><td><a class=\"ProveItLink\" href=\"../946c6434dfa13d84ebf48c3a094a98eb456a91980/expr.ipynb\"><img src=\"../946c6434dfa13d84ebf48c3a094a98eb456a91980/expr.png\" style=\"display:inline;vertical-align:middle;\" /></a></td></tr>\n",
       "<tr><td>30</td><td>Conditional</td><td>value:&nbsp;32<br>condition:&nbsp;33<br></td><td><a class=\"ProveItLink\" href=\"../40405847ee80b457bf96f7fda64b5b7ee75bd54f0/expr.ipynb\"><img src=\"../40405847ee80b457bf96f7fda64b5b7ee75bd54f0/expr.png\" style=\"display:inline;vertical-align:middle;\" /></a></td></tr>\n",
       "<tr><td>31</td><td>Operation</td><td>operator:&nbsp;36<br>operands:&nbsp;34<br></td><td><a class=\"ProveItLink\" href=\"../69e96f247a784a11d2257e82342ee6cdff363b710/expr.ipynb\"><img src=\"../69e96f247a784a11d2257e82342ee6cdff363b710/expr.png\" style=\"display:inline;vertical-align:middle;\" /></a></td></tr>\n",
       "<tr><td>32</td><td>Operation</td><td>operator:&nbsp;35<br>operand:&nbsp;47<br></td><td><a class=\"ProveItLink\" href=\"../../../../__pv_it/common/6774f61458aed4cc9eb250f92b3634f1d09b19a40/expr.ipynb\"><img src=\"../../../../__pv_it/common/6774f61458aed4cc9eb250f92b3634f1d09b19a40/expr.png\" style=\"display:inline;vertical-align:middle;\" /></a></td></tr>\n",
       "<tr><td>33</td><td>Operation</td><td>operator:&nbsp;36<br>operands:&nbsp;37<br></td><td><a class=\"ProveItLink\" href=\"../2a78ed950c5965bf2d56a4c2779ca46aeab549930/expr.ipynb\"><img src=\"../2a78ed950c5965bf2d56a4c2779ca46aeab549930/expr.png\" style=\"display:inline;vertical-align:middle;\" /></a></td></tr>\n",
       "<tr><td>34</td><td>ExprTuple</td><td>39, 38</td><td><a class=\"ProveItLink\" href=\"../daaf6703b436a016052e985c5a27d7142a77ebc10/expr.ipynb\"><img src=\"../daaf6703b436a016052e985c5a27d7142a77ebc10/expr.png\" style=\"display:inline;vertical-align:middle;\" /></a></td></tr>\n",
       "<tr><td>35</td><td>Variable</td><td></td><td><a class=\"ProveItLink\" href=\"../../../../__pv_it/common/01b6dbb444a31fc38af4c2379badef6c75b363710/expr.ipynb\"><img src=\"../../../../__pv_it/common/01b6dbb444a31fc38af4c2379badef6c75b363710/expr.png\" style=\"display:inline;vertical-align:middle;\" /></a></td></tr>\n",
       "<tr><td>36</td><td>Literal</td><td></td><td><a class=\"ProveItLink\" href=\"../../../../logic/booleans/conjunction/__pv_it/common/42118ff318bd65d98b1393f64ce7c2269feef76e0/expr.ipynb\"><img src=\"../../../../logic/booleans/conjunction/__pv_it/common/42118ff318bd65d98b1393f64ce7c2269feef76e0/expr.png\" style=\"display:inline;vertical-align:middle;\" /></a></td></tr>\n",
       "<tr><td>37</td><td>ExprTuple</td><td>39, 40</td><td><a class=\"ProveItLink\" href=\"../52bcd69843f927c8b6c677f50fa284147b6d4cf70/expr.ipynb\"><img src=\"../52bcd69843f927c8b6c677f50fa284147b6d4cf70/expr.png\" style=\"display:inline;vertical-align:middle;\" /></a></td></tr>\n",
       "<tr><td>38</td><td>Operation</td><td>operator:&nbsp;41<br>operand:&nbsp;47<br></td><td><a class=\"ProveItLink\" href=\"../../../../__pv_it/common/fce49534291e406d3d43684e225f1a2779a61f030/expr.ipynb\"><img src=\"../../../../__pv_it/common/fce49534291e406d3d43684e225f1a2779a61f030/expr.png\" style=\"display:inline;vertical-align:middle;\" /></a></td></tr>\n",
       "<tr><td>39</td><td>Operation</td><td>operator:&nbsp;42<br>operands:&nbsp;43<br></td><td><a class=\"ProveItLink\" href=\"../720b39d5ad9fe4b7c0ee2e3ece48cef19dcc3e670/expr.ipynb\"><img src=\"../720b39d5ad9fe4b7c0ee2e3ece48cef19dcc3e670/expr.png\" style=\"display:inline;vertical-align:middle;\" /></a></td></tr>\n",
       "<tr><td>40</td><td>Operation</td><td>operator:&nbsp;44<br>operand:&nbsp;47<br></td><td><a class=\"ProveItLink\" href=\"../../../../__pv_it/common/2a336e2cf123a511b5db96282fa835d6efb007c90/expr.ipynb\"><img src=\"../../../../__pv_it/common/2a336e2cf123a511b5db96282fa835d6efb007c90/expr.png\" style=\"display:inline;vertical-align:middle;\" /></a></td></tr>\n",
       "<tr><td>41</td><td>Variable</td><td></td><td><a class=\"ProveItLink\" href=\"../../../../__pv_it/common/d72bb8b07403efe79afab564c36a28e21330e5f90/expr.ipynb\"><img src=\"../../../../__pv_it/common/d72bb8b07403efe79afab564c36a28e21330e5f90/expr.png\" style=\"display:inline;vertical-align:middle;\" /></a></td></tr>\n",
       "<tr><td>42</td><td>Literal</td><td></td><td><a class=\"ProveItLink\" href=\"../../../../logic/sets/membership/__pv_it/common/477487d8796864d23d5810f83761435f25167f690/expr.ipynb\"><img src=\"../../../../logic/sets/membership/__pv_it/common/477487d8796864d23d5810f83761435f25167f690/expr.png\" style=\"display:inline;vertical-align:middle;\" /></a></td></tr>\n",
       "<tr><td>43</td><td>ExprTuple</td><td>47, 46</td><td><a class=\"ProveItLink\" href=\"../1fffd71440076631b1c486124d18ce673ceec6d60/expr.ipynb\"><img src=\"../1fffd71440076631b1c486124d18ce673ceec6d60/expr.png\" style=\"display:inline;vertical-align:middle;\" /></a></td></tr>\n",
       "<tr><td>44</td><td>Variable</td><td></td><td><a class=\"ProveItLink\" href=\"../../../../__pv_it/common/647ca33d6b96e29d5aa85a15d2241c7ebd0c6e4b0/expr.ipynb\"><img src=\"../../../../__pv_it/common/647ca33d6b96e29d5aa85a15d2241c7ebd0c6e4b0/expr.png\" style=\"display:inline;vertical-align:middle;\" /></a></td></tr>\n",
       "<tr><td>45</td><td>ExprTuple</td><td>47</td><td><a class=\"ProveItLink\" href=\"../../../../__pv_it/common/eacfeccc0521684fcb20fe8f5180ac50fca471f20/expr.ipynb\"><img src=\"../../../../__pv_it/common/eacfeccc0521684fcb20fe8f5180ac50fca471f20/expr.png\" style=\"display:inline;vertical-align:middle;\" /></a></td></tr>\n",
       "<tr><td>46</td><td>Variable</td><td></td><td><a class=\"ProveItLink\" href=\"../../../../__pv_it/common/f1ca094affb79f5011ff4d63eb4e121bfbde7f330/expr.ipynb\"><img src=\"../../../../__pv_it/common/f1ca094affb79f5011ff4d63eb4e121bfbde7f330/expr.png\" style=\"display:inline;vertical-align:middle;\" /></a></td></tr>\n",
       "<tr><td>47</td><td>Variable</td><td></td><td><a class=\"ProveItLink\" href=\"../../../../__pv_it/common/a0d9d672aa5e272d907247690c152cc2c6daafb70/expr.ipynb\"><img src=\"../../../../__pv_it/common/a0d9d672aa5e272d907247690c152cc2c6daafb70/expr.png\" style=\"display:inline;vertical-align:middle;\" /></a></td></tr>\n",
       "</table>\n"
      ],
      "text/plain": [
       "0. {forall_{Q, R} ([forall_{x in X | Q(x)} R(x)] =>  \\\\ ([Prob_{x in X | Q(x)} f(x)] <=  \\\\ [Prob_{x in X | R(x)} f(x)])) if f in [X -> Omega].\n",
       "   core type: Conditional\n",
       "   value: 1\n",
       "   condition: 2\n",
       "1. forall_{Q, R} ([forall_{x in X | Q(x)} R(x)] =>  \\\\ ([Prob_{x in X | Q(x)} f(x)] <=  \\\\ [Prob_{x in X | R(x)} f(x)]))\n",
       "   core type: Operation\n",
       "   operator: 16\n",
       "   operand: 5\n",
       "2. f in [X -> Omega]\n",
       "   core type: Operation\n",
       "   operator: 42\n",
       "   operands: 4\n",
       "3. ((Q, R) -> ([forall_{x in X | Q(x)} R(x)] =>  \\\\ ([Prob_{x in X | Q(x)} f(x)] <=  \\\\ [Prob_{x in X | R(x)} f(x)])))\n",
       "   core type: ExprTuple\n",
       "   sub-expressions: 5\n",
       "4. (f, [X -> Omega])\n",
       "   core type: ExprTuple\n",
       "   sub-expressions: 35, 6\n",
       "5. (Q, R) -> ([forall_{x in X | Q(x)} R(x)] =>  \\\\ ([Prob_{x in X | Q(x)} f(x)] <=  \\\\ [Prob_{x in X | R(x)} f(x)]))\n",
       "   core type: Lambda\n",
       "   parameters: 7\\n   body: 8\n",
       "6. [X -> Omega]\n",
       "   core type: Operation\n",
       "   operator: 9\n",
       "   operands: 10\n",
       "7. (Q, R)\n",
       "   core type: ExprTuple\n",
       "   sub-expressions: 41, 44\n",
       "8. [forall_{x in X | Q(x)} R(x)] =>  \\\\ ([Prob_{x in X | Q(x)} f(x)] <=  \\\\ [Prob_{x in X | R(x)} f(x)])\n",
       "   core type: Operation\n",
       "   operator: 11\n",
       "   operands: 12\n",
       "9. Functions\n",
       "   core type: Literal\n",
       "   sub-expressions: \n",
       "10. (X, Omega)\n",
       "    core type: ExprTuple\n",
       "    sub-expressions: 46, 13\n",
       "11. =>\n",
       "    core type: Literal\n",
       "    sub-expressions: \n",
       "12. (forall_{x in X | Q(x)} R(x), [Prob_{x in X | Q(x)} f(x)] <=  \\\\ [Prob_{x in X | R(x)} f(x)])\n",
       "    core type: ExprTuple\n",
       "    sub-expressions: 14, 15\n",
       "13. Omega\n",
       "    core type: Variable\n",
       "    sub-expressions: \n",
       "14. forall_{x in X | Q(x)} R(x)\n",
       "    core type: Operation\n",
       "    operator: 16\n",
       "    operand: 20\n",
       "15. [Prob_{x in X | Q(x)} f(x)] <=  \\\\ [Prob_{x in X | R(x)} f(x)]\n",
       "    core type: Operation\n",
       "    operator: 18\n",
       "    operands: 19\n",
       "16. forall\n",
       "    core type: Literal\n",
       "    sub-expressions: \n",
       "17. (x -> {R(x) if x in X ,  Q(x).)\n",
       "    core type: ExprTuple\n",
       "    sub-expressions: 20\n",
       "18. <=\n",
       "    core type: Literal\n",
       "    sub-expressions: \n",
       "19. (Prob_{x in X | Q(x)} f(x), Prob_{x in X | R(x)} f(x))\n",
       "    core type: ExprTuple\n",
       "    sub-expressions: 21, 22\n",
       "20. x -> {R(x) if x in X ,  Q(x).\n",
       "    core type: Lambda\n",
       "    parameter: 47\n",
       "    body: 23\n",
       "21. Prob_{x in X | Q(x)} f(x)\n",
       "    core type: Operation\n",
       "    operator: 25\n",
       "    operand: 27\n",
       "22. Prob_{x in X | R(x)} f(x)\n",
       "    core type: Operation\n",
       "    operator: 25\n",
       "    operand: 28\n",
       "23. {R(x) if x in X ,  Q(x).\n",
       "    core type: Conditional\n",
       "    value: 40\n",
       "    condition: 31\n",
       "24. (x -> {f(x) if x in X ,  Q(x).)\n",
       "    core type: ExprTuple\n",
       "    sub-expressions: 27\n",
       "25. Prob\n",
       "    core type: Literal\n",
       "    sub-expressions: \n",
       "26. (x -> {f(x) if x in X ,  R(x).)\n",
       "    core type: ExprTuple\n",
       "    sub-expressions: 28\n",
       "27. x -> {f(x) if x in X ,  Q(x).\n",
       "    core type: Lambda\n",
       "    parameter: 47\n",
       "    body: 29\n",
       "28. x -> {f(x) if x in X ,  R(x).\n",
       "    core type: Lambda\n",
       "    parameter: 47\n",
       "    body: 30\n",
       "29. {f(x) if x in X ,  Q(x).\n",
       "    core type: Conditional\n",
       "    value: 32\n",
       "    condition: 31\n",
       "30. {f(x) if x in X ,  R(x).\n",
       "    core type: Conditional\n",
       "    value: 32\n",
       "    condition: 33\n",
       "31. (x in X) and Q(x)\n",
       "    core type: Operation\n",
       "    operator: 36\n",
       "    operands: 34\n",
       "32. f(x)\n",
       "    core type: Operation\n",
       "    operator: 35\n",
       "    operand: 47\n",
       "33. (x in X) and R(x)\n",
       "    core type: Operation\n",
       "    operator: 36\n",
       "    operands: 37\n",
       "34. (x in X, Q(x))\n",
       "    core type: ExprTuple\n",
       "    sub-expressions: 39, 38\n",
       "35. f\n",
       "    core type: Variable\n",
       "    sub-expressions: \n",
       "36. and\n",
       "    core type: Literal\n",
       "    sub-expressions: \n",
       "37. (x in X, R(x))\n",
       "    core type: ExprTuple\n",
       "    sub-expressions: 39, 40\n",
       "38. Q(x)\n",
       "    core type: Operation\n",
       "    operator: 41\n",
       "    operand: 47\n",
       "39. x in X\n",
       "    core type: Operation\n",
       "    operator: 42\n",
       "    operands: 43\n",
       "40. R(x)\n",
       "    core type: Operation\n",
       "    operator: 44\n",
       "    operand: 47\n",
       "41. Q\n",
       "    core type: Variable\n",
       "    sub-expressions: \n",
       "42. in\n",
       "    core type: Literal\n",
       "    sub-expressions: \n",
       "43. (x, X)\n",
       "    core type: ExprTuple\n",
       "    sub-expressions: 47, 46\n",
       "44. R\n",
       "    core type: Variable\n",
       "    sub-expressions: \n",
       "45. (x)\n",
       "    core type: ExprTuple\n",
       "    sub-expressions: 47\n",
       "46. X\n",
       "    core type: Variable\n",
       "    sub-expressions: \n",
       "47. x\n",
       "    core type: Variable\n",
       "    sub-expressions: "
      ]
     },
     "metadata": {},
     "output_type": "display_data"
    }
   ],
   "source": [
    "# display the expression information\n",
    "stored_expr.expr_info()"
   ]
  },
  {
   "cell_type": "code",
   "execution_count": null,
   "metadata": {},
   "outputs": [],
   "source": []
  }
 ],
 "metadata": {
  "kernelspec": {
   "display_name": "Python 3",
   "language": "python",
   "name": "python3"
  }
 },
 "nbformat": 4,
 "nbformat_minor": 0
}