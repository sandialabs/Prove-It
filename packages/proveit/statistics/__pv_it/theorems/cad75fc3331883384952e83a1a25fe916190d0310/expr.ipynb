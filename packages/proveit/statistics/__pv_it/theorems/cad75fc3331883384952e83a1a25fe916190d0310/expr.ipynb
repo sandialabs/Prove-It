{
 "cells": [
  {
   "cell_type": "markdown",
   "metadata": {},
   "source": [
    "Expression of type <a class=\"ProveItLink\" href=\"../../../../../../doc/html/api/proveit.ExprTuple.html\">ExprTuple</a>\n",
    "=======================\n",
    "# from the theory of <a class=\"ProveItLink\" href=\"../../../_theory_nbs_/theory.ipynb\">proveit.statistics</a>"
   ]
  },
  {
   "cell_type": "code",
   "execution_count": 1,
   "metadata": {},
   "outputs": [],
   "source": [
    "import proveit\n",
    "# Automation is not needed when building an expression:\n",
    "proveit.defaults.automation = False # This will speed things up.\n",
    "proveit.defaults.inline_pngs = False # Makes files smaller.\n",
    "%load_expr # Load the stored expression as 'stored_expr'\n",
    "# import Expression classes needed to build the expression\n",
    "from proveit import A, B, C, Conditional, ExprTuple, Lambda, Omega, Qx, X, f, fx, x\n",
    "from proveit.logic import Equals, InSet, Injections\n",
    "from proveit.numbers import Add\n",
    "from proveit.statistics import ProbOfAll"
   ]
  },
  {
   "cell_type": "code",
   "execution_count": 2,
   "metadata": {},
   "outputs": [
    {
     "data": {
      "text/html": [
       "<strong id=\"expr\">expr:</strong> <a class=\"ProveItLink\" href=\"expr.ipynb\"><img src=\"expr.png\" style=\"display:inline;vertical-align:middle;\" /></a><br>"
      ],
      "text/plain": [
       "<IPython.core.display.HTML object>"
      ]
     },
     "metadata": {},
     "output_type": "display_data"
    }
   ],
   "source": [
    "# build up the expression from sub-expressions\n",
    "sub_expr1 = [x]\n",
    "expr = ExprTuple(Lambda(f, Conditional(Equals(ProbOfAll(instance_param_or_params = sub_expr1, instance_element = fx, domain = C, condition = Qx), Add(ProbOfAll(instance_param_or_params = sub_expr1, instance_element = fx, domain = A, condition = Qx), ProbOfAll(instance_param_or_params = sub_expr1, instance_element = fx, domain = B, condition = Qx))), InSet(f, Injections(X, Omega)))))"
   ]
  },
  {
   "cell_type": "code",
   "execution_count": 3,
   "metadata": {},
   "outputs": [
    {
     "name": "stdout",
     "output_type": "stream",
     "text": [
      "Passed sanity check: expr matches stored_expr\n"
     ]
    }
   ],
   "source": [
    "# check that the built expression is the same as the stored expression\n",
    "assert expr == stored_expr\n",
    "assert expr._style_id == stored_expr._style_id\n",
    "print(\"Passed sanity check: expr matches stored_expr\")"
   ]
  },
  {
   "cell_type": "code",
   "execution_count": 4,
   "metadata": {},
   "outputs": [
    {
     "name": "stdout",
     "output_type": "stream",
     "text": [
      "\\left(f \\mapsto \\left\\{\\left[\\textrm{Prob}_{x \\in C~|~Q\\left(x\\right)}~f\\left(x\\right)\\right] = \\left(\\left[\\textrm{Prob}_{x \\in A~|~Q\\left(x\\right)}~f\\left(x\\right)\\right] + \\left[\\textrm{Prob}_{x \\in B~|~Q\\left(x\\right)}~f\\left(x\\right)\\right]\\right) \\textrm{ if } f \\in \\left[X \\xrightarrow[]{\\text{1-to-1}} \\Omega\\right]\\right..\\right)\n"
     ]
    }
   ],
   "source": [
    "# Show the LaTeX representation of the expression for convenience if you need it.\n",
    "print(stored_expr.latex())"
   ]
  },
  {
   "cell_type": "code",
   "execution_count": 5,
   "metadata": {},
   "outputs": [
    {
     "data": {
      "text/html": [
       "no style options"
      ],
      "text/plain": [
       "no style options"
      ]
     },
     "metadata": {},
     "output_type": "display_data"
    }
   ],
   "source": [
    "stored_expr.style_options()"
   ]
  },
  {
   "cell_type": "code",
   "execution_count": 6,
   "metadata": {},
   "outputs": [
    {
     "data": {
      "text/html": [
       "<table><tr><th>&nbsp;</th><th>core type</th><th>sub-expressions</th><th>expression</th></tr>\n",
       "<tr><td>0</td><td>ExprTuple</td><td>1</td><td><a class=\"ProveItLink\" href=\"expr.ipynb\"><img src=\"expr.png\" style=\"display:inline;vertical-align:middle;\" /></a></td></tr>\n",
       "<tr><td>1</td><td>Lambda</td><td>parameter:&nbsp;38<br>body:&nbsp;3<br></td><td><a class=\"ProveItLink\" href=\"../2a39a700181d7f1c15843a1cd82ad68323965bf00/expr.ipynb\"><img src=\"../2a39a700181d7f1c15843a1cd82ad68323965bf00/expr.png\" style=\"display:inline;vertical-align:middle;\" /></a></td></tr>\n",
       "<tr><td>2</td><td>ExprTuple</td><td>38</td><td><a class=\"ProveItLink\" href=\"../dcd60a965dafb827c89a2770706e77d319eb7bb50/expr.ipynb\"><img src=\"../dcd60a965dafb827c89a2770706e77d319eb7bb50/expr.png\" style=\"display:inline;vertical-align:middle;\" /></a></td></tr>\n",
       "<tr><td>3</td><td>Conditional</td><td>value:&nbsp;4<br>condition:&nbsp;5<br></td><td><a class=\"ProveItLink\" href=\"../8311258b2dc2377f121bb92057d411c9e32ca2220/expr.ipynb\"><img src=\"../8311258b2dc2377f121bb92057d411c9e32ca2220/expr.png\" style=\"display:inline;vertical-align:middle;\" /></a></td></tr>\n",
       "<tr><td>4</td><td>Operation</td><td>operator:&nbsp;6<br>operands:&nbsp;7<br></td><td><a class=\"ProveItLink\" href=\"../df500e8f2ee096d2d23e9a7d0627f0f764cacbce0/expr.ipynb\"><img src=\"../df500e8f2ee096d2d23e9a7d0627f0f764cacbce0/expr.png\" style=\"display:inline;vertical-align:middle;\" /></a></td></tr>\n",
       "<tr><td>5</td><td>Operation</td><td>operator:&nbsp;46<br>operands:&nbsp;8<br></td><td><a class=\"ProveItLink\" href=\"../29ba188c01b225514038e2825c957fd277b098e60/expr.ipynb\"><img src=\"../29ba188c01b225514038e2825c957fd277b098e60/expr.png\" style=\"display:inline;vertical-align:middle;\" /></a></td></tr>\n",
       "<tr><td>6</td><td>Literal</td><td></td><td><a class=\"ProveItLink\" href=\"../../../../logic/equality/__pv_it/common/fb96dc12b2aa8801dda64d0132b396c63d1502bb0/expr.ipynb\"><img src=\"../../../../logic/equality/__pv_it/common/fb96dc12b2aa8801dda64d0132b396c63d1502bb0/expr.png\" style=\"display:inline;vertical-align:middle;\" /></a></td></tr>\n",
       "<tr><td>7</td><td>ExprTuple</td><td>9, 10</td><td><a class=\"ProveItLink\" href=\"../8dcca651afac44d682cd9753a054d26f23e439e20/expr.ipynb\"><img src=\"../8dcca651afac44d682cd9753a054d26f23e439e20/expr.png\" style=\"display:inline;vertical-align:middle;\" /></a></td></tr>\n",
       "<tr><td>8</td><td>ExprTuple</td><td>38, 11</td><td><a class=\"ProveItLink\" href=\"../6021bdcf5b95053730762a76a0f5a240b2153e700/expr.ipynb\"><img src=\"../6021bdcf5b95053730762a76a0f5a240b2153e700/expr.png\" style=\"display:inline;vertical-align:middle;\" /></a></td></tr>\n",
       "<tr><td>9</td><td>Operation</td><td>operator:&nbsp;24<br>operand:&nbsp;17<br></td><td><a class=\"ProveItLink\" href=\"../ae1f22700ffc1f3d3ac4ec163a2899cccabebba70/expr.ipynb\"><img src=\"../ae1f22700ffc1f3d3ac4ec163a2899cccabebba70/expr.png\" style=\"display:inline;vertical-align:middle;\" /></a></td></tr>\n",
       "<tr><td>10</td><td>Operation</td><td>operator:&nbsp;13<br>operands:&nbsp;14<br></td><td><a class=\"ProveItLink\" href=\"../a54250bc256e1f95f8e172f4317dd71be67c55ce0/expr.ipynb\"><img src=\"../a54250bc256e1f95f8e172f4317dd71be67c55ce0/expr.png\" style=\"display:inline;vertical-align:middle;\" /></a></td></tr>\n",
       "<tr><td>11</td><td>Operation</td><td>operator:&nbsp;15<br>operands:&nbsp;16<br></td><td><a class=\"ProveItLink\" href=\"../20c583da8e750c81f9182ec5caf008099c20716c0/expr.ipynb\"><img src=\"../20c583da8e750c81f9182ec5caf008099c20716c0/expr.png\" style=\"display:inline;vertical-align:middle;\" /></a></td></tr>\n",
       "<tr><td>12</td><td>ExprTuple</td><td>17</td><td><a class=\"ProveItLink\" href=\"../1d0e306c5f825ae21f9f6c76ab6df430391344220/expr.ipynb\"><img src=\"../1d0e306c5f825ae21f9f6c76ab6df430391344220/expr.png\" style=\"display:inline;vertical-align:middle;\" /></a></td></tr>\n",
       "<tr><td>13</td><td>Literal</td><td></td><td><a class=\"ProveItLink\" href=\"../../../../numbers/addition/__pv_it/common/4b7effaab3619a1c2c38fe2dee8601df8ec714590/expr.ipynb\"><img src=\"../../../../numbers/addition/__pv_it/common/4b7effaab3619a1c2c38fe2dee8601df8ec714590/expr.png\" style=\"display:inline;vertical-align:middle;\" /></a></td></tr>\n",
       "<tr><td>14</td><td>ExprTuple</td><td>18, 19</td><td><a class=\"ProveItLink\" href=\"../2cd58b07266370fea0d6c7933d92fe0273bf6b660/expr.ipynb\"><img src=\"../2cd58b07266370fea0d6c7933d92fe0273bf6b660/expr.png\" style=\"display:inline;vertical-align:middle;\" /></a></td></tr>\n",
       "<tr><td>15</td><td>Literal</td><td></td><td><a class=\"ProveItLink\" href=\"../../../../logic/sets/functions/injections/__pv_it/common/9732b79cd346b8d4e34560d9e00a1266966cd3250/expr.ipynb\"><img src=\"../../../../logic/sets/functions/injections/__pv_it/common/9732b79cd346b8d4e34560d9e00a1266966cd3250/expr.png\" style=\"display:inline;vertical-align:middle;\" /></a></td></tr>\n",
       "<tr><td>16</td><td>ExprTuple</td><td>20, 21</td><td><a class=\"ProveItLink\" href=\"../02af9459b2aaaa91976fdc4aa8f76da01b6187070/expr.ipynb\"><img src=\"../02af9459b2aaaa91976fdc4aa8f76da01b6187070/expr.png\" style=\"display:inline;vertical-align:middle;\" /></a></td></tr>\n",
       "<tr><td>17</td><td>Lambda</td><td>parameter:&nbsp;52<br>body:&nbsp;22<br></td><td><a class=\"ProveItLink\" href=\"../f7a96192a6ff201a899980f3cff07ca656ab2e8e0/expr.ipynb\"><img src=\"../f7a96192a6ff201a899980f3cff07ca656ab2e8e0/expr.png\" style=\"display:inline;vertical-align:middle;\" /></a></td></tr>\n",
       "<tr><td>18</td><td>Operation</td><td>operator:&nbsp;24<br>operand:&nbsp;27<br></td><td><a class=\"ProveItLink\" href=\"../076ec8aeb30a964cbc47d70bacf7d969dc4e8d160/expr.ipynb\"><img src=\"../076ec8aeb30a964cbc47d70bacf7d969dc4e8d160/expr.png\" style=\"display:inline;vertical-align:middle;\" /></a></td></tr>\n",
       "<tr><td>19</td><td>Operation</td><td>operator:&nbsp;24<br>operand:&nbsp;28<br></td><td><a class=\"ProveItLink\" href=\"../db006b75c8418046aa5c0a76b112d2f392964e950/expr.ipynb\"><img src=\"../db006b75c8418046aa5c0a76b112d2f392964e950/expr.png\" style=\"display:inline;vertical-align:middle;\" /></a></td></tr>\n",
       "<tr><td>20</td><td>Variable</td><td></td><td><a class=\"ProveItLink\" href=\"../../../../__pv_it/common/f1ca094affb79f5011ff4d63eb4e121bfbde7f330/expr.ipynb\"><img src=\"../../../../__pv_it/common/f1ca094affb79f5011ff4d63eb4e121bfbde7f330/expr.png\" style=\"display:inline;vertical-align:middle;\" /></a></td></tr>\n",
       "<tr><td>21</td><td>Variable</td><td></td><td><a class=\"ProveItLink\" href=\"../../../../__pv_it/common/53406c163510d898bbe57aa9c808cb4fce1aa1e40/expr.ipynb\"><img src=\"../../../../__pv_it/common/53406c163510d898bbe57aa9c808cb4fce1aa1e40/expr.png\" style=\"display:inline;vertical-align:middle;\" /></a></td></tr>\n",
       "<tr><td>22</td><td>Conditional</td><td>value:&nbsp;34<br>condition:&nbsp;26<br></td><td><a class=\"ProveItLink\" href=\"../6b7a0d769a4e3a578d4f199f1e721dd0752205ab0/expr.ipynb\"><img src=\"../6b7a0d769a4e3a578d4f199f1e721dd0752205ab0/expr.png\" style=\"display:inline;vertical-align:middle;\" /></a></td></tr>\n",
       "<tr><td>23</td><td>ExprTuple</td><td>27</td><td><a class=\"ProveItLink\" href=\"../220a94ad2b6c41cc2bdf4070026739adb716b12a0/expr.ipynb\"><img src=\"../220a94ad2b6c41cc2bdf4070026739adb716b12a0/expr.png\" style=\"display:inline;vertical-align:middle;\" /></a></td></tr>\n",
       "<tr><td>24</td><td>Literal</td><td></td><td><a class=\"ProveItLink\" href=\"../../common/bf8e6ae6a9b0a51a97b3e4d62d4b2c23d653c7080/expr.ipynb\"><img src=\"../../common/bf8e6ae6a9b0a51a97b3e4d62d4b2c23d653c7080/expr.png\" style=\"display:inline;vertical-align:middle;\" /></a></td></tr>\n",
       "<tr><td>25</td><td>ExprTuple</td><td>28</td><td><a class=\"ProveItLink\" href=\"../d9014ddcfb915be1714b9532944cb1ce688fd9040/expr.ipynb\"><img src=\"../d9014ddcfb915be1714b9532944cb1ce688fd9040/expr.png\" style=\"display:inline;vertical-align:middle;\" /></a></td></tr>\n",
       "<tr><td>26</td><td>Operation</td><td>operator:&nbsp;39<br>operands:&nbsp;29<br></td><td><a class=\"ProveItLink\" href=\"../cff338ea1ba4d504f9a6b62f38c77d31575eb0c00/expr.ipynb\"><img src=\"../cff338ea1ba4d504f9a6b62f38c77d31575eb0c00/expr.png\" style=\"display:inline;vertical-align:middle;\" /></a></td></tr>\n",
       "<tr><td>27</td><td>Lambda</td><td>parameter:&nbsp;52<br>body:&nbsp;30<br></td><td><a class=\"ProveItLink\" href=\"../fb01019df7517f9a53caad56176ab5e3d0c3dace0/expr.ipynb\"><img src=\"../fb01019df7517f9a53caad56176ab5e3d0c3dace0/expr.png\" style=\"display:inline;vertical-align:middle;\" /></a></td></tr>\n",
       "<tr><td>28</td><td>Lambda</td><td>parameter:&nbsp;52<br>body:&nbsp;31<br></td><td><a class=\"ProveItLink\" href=\"../ebbafba330f2ba0c99c3dda46e42b6fc2cb0a2f00/expr.ipynb\"><img src=\"../ebbafba330f2ba0c99c3dda46e42b6fc2cb0a2f00/expr.png\" style=\"display:inline;vertical-align:middle;\" /></a></td></tr>\n",
       "<tr><td>29</td><td>ExprTuple</td><td>32, 44</td><td><a class=\"ProveItLink\" href=\"../b03f6c2a126dceb6e98d2012843c25cace0df32e0/expr.ipynb\"><img src=\"../b03f6c2a126dceb6e98d2012843c25cace0df32e0/expr.png\" style=\"display:inline;vertical-align:middle;\" /></a></td></tr>\n",
       "<tr><td>30</td><td>Conditional</td><td>value:&nbsp;34<br>condition:&nbsp;33<br></td><td><a class=\"ProveItLink\" href=\"../69de212c74f4c97f3fb9b66a3220574493cc2fc60/expr.ipynb\"><img src=\"../69de212c74f4c97f3fb9b66a3220574493cc2fc60/expr.png\" style=\"display:inline;vertical-align:middle;\" /></a></td></tr>\n",
       "<tr><td>31</td><td>Conditional</td><td>value:&nbsp;34<br>condition:&nbsp;35<br></td><td><a class=\"ProveItLink\" href=\"../d3327f079785e7a873e44af593550535ef4de0140/expr.ipynb\"><img src=\"../d3327f079785e7a873e44af593550535ef4de0140/expr.png\" style=\"display:inline;vertical-align:middle;\" /></a></td></tr>\n",
       "<tr><td>32</td><td>Operation</td><td>operator:&nbsp;46<br>operands:&nbsp;36<br></td><td><a class=\"ProveItLink\" href=\"../6b2116baa4efae0982b7800049b2aa76ecaf22280/expr.ipynb\"><img src=\"../6b2116baa4efae0982b7800049b2aa76ecaf22280/expr.png\" style=\"display:inline;vertical-align:middle;\" /></a></td></tr>\n",
       "<tr><td>33</td><td>Operation</td><td>operator:&nbsp;39<br>operands:&nbsp;37<br></td><td><a class=\"ProveItLink\" href=\"../5d2c5c84ec15fcc2b60ec70953b96020743e670a0/expr.ipynb\"><img src=\"../5d2c5c84ec15fcc2b60ec70953b96020743e670a0/expr.png\" style=\"display:inline;vertical-align:middle;\" /></a></td></tr>\n",
       "<tr><td>34</td><td>Operation</td><td>operator:&nbsp;38<br>operand:&nbsp;52<br></td><td><a class=\"ProveItLink\" href=\"../../../../__pv_it/common/6774f61458aed4cc9eb250f92b3634f1d09b19a40/expr.ipynb\"><img src=\"../../../../__pv_it/common/6774f61458aed4cc9eb250f92b3634f1d09b19a40/expr.png\" style=\"display:inline;vertical-align:middle;\" /></a></td></tr>\n",
       "<tr><td>35</td><td>Operation</td><td>operator:&nbsp;39<br>operands:&nbsp;40<br></td><td><a class=\"ProveItLink\" href=\"../1d7dd44304b0051d66592a1656d45256b40f55e00/expr.ipynb\"><img src=\"../1d7dd44304b0051d66592a1656d45256b40f55e00/expr.png\" style=\"display:inline;vertical-align:middle;\" /></a></td></tr>\n",
       "<tr><td>36</td><td>ExprTuple</td><td>52, 41</td><td><a class=\"ProveItLink\" href=\"../2d2c2af4c0f9e66c11b20765d3cbd8bf90ea8ea20/expr.ipynb\"><img src=\"../2d2c2af4c0f9e66c11b20765d3cbd8bf90ea8ea20/expr.png\" style=\"display:inline;vertical-align:middle;\" /></a></td></tr>\n",
       "<tr><td>37</td><td>ExprTuple</td><td>42, 44</td><td><a class=\"ProveItLink\" href=\"../26a913ff9f28742b56717cfc7fef6e7ae8791d5d0/expr.ipynb\"><img src=\"../26a913ff9f28742b56717cfc7fef6e7ae8791d5d0/expr.png\" style=\"display:inline;vertical-align:middle;\" /></a></td></tr>\n",
       "<tr><td>38</td><td>Variable</td><td></td><td><a class=\"ProveItLink\" href=\"../../../../__pv_it/common/01b6dbb444a31fc38af4c2379badef6c75b363710/expr.ipynb\"><img src=\"../../../../__pv_it/common/01b6dbb444a31fc38af4c2379badef6c75b363710/expr.png\" style=\"display:inline;vertical-align:middle;\" /></a></td></tr>\n",
       "<tr><td>39</td><td>Literal</td><td></td><td><a class=\"ProveItLink\" href=\"../../../../logic/booleans/conjunction/__pv_it/common/42118ff318bd65d98b1393f64ce7c2269feef76e0/expr.ipynb\"><img src=\"../../../../logic/booleans/conjunction/__pv_it/common/42118ff318bd65d98b1393f64ce7c2269feef76e0/expr.png\" style=\"display:inline;vertical-align:middle;\" /></a></td></tr>\n",
       "<tr><td>40</td><td>ExprTuple</td><td>43, 44</td><td><a class=\"ProveItLink\" href=\"../79bdaf8c100265a5bf9715b7a6c640331d113d470/expr.ipynb\"><img src=\"../79bdaf8c100265a5bf9715b7a6c640331d113d470/expr.png\" style=\"display:inline;vertical-align:middle;\" /></a></td></tr>\n",
       "<tr><td>41</td><td>Variable</td><td></td><td><a class=\"ProveItLink\" href=\"../../../../__pv_it/common/9fba9f29e823606ff4fdf2f1c6d5d08d906e850a0/expr.ipynb\"><img src=\"../../../../__pv_it/common/9fba9f29e823606ff4fdf2f1c6d5d08d906e850a0/expr.png\" style=\"display:inline;vertical-align:middle;\" /></a></td></tr>\n",
       "<tr><td>42</td><td>Operation</td><td>operator:&nbsp;46<br>operands:&nbsp;45<br></td><td><a class=\"ProveItLink\" href=\"../bffc8f58d953dcb8331468867a32979a833e73840/expr.ipynb\"><img src=\"../bffc8f58d953dcb8331468867a32979a833e73840/expr.png\" style=\"display:inline;vertical-align:middle;\" /></a></td></tr>\n",
       "<tr><td>43</td><td>Operation</td><td>operator:&nbsp;46<br>operands:&nbsp;47<br></td><td><a class=\"ProveItLink\" href=\"../fd887bd5ac8499adb0944f106e649fd3447c9f0d0/expr.ipynb\"><img src=\"../fd887bd5ac8499adb0944f106e649fd3447c9f0d0/expr.png\" style=\"display:inline;vertical-align:middle;\" /></a></td></tr>\n",
       "<tr><td>44</td><td>Operation</td><td>operator:&nbsp;48<br>operand:&nbsp;52<br></td><td><a class=\"ProveItLink\" href=\"../../../../__pv_it/common/fce49534291e406d3d43684e225f1a2779a61f030/expr.ipynb\"><img src=\"../../../../__pv_it/common/fce49534291e406d3d43684e225f1a2779a61f030/expr.png\" style=\"display:inline;vertical-align:middle;\" /></a></td></tr>\n",
       "<tr><td>45</td><td>ExprTuple</td><td>52, 50</td><td><a class=\"ProveItLink\" href=\"../dd56fa97225795c53cc6b814c99b8e98e0e999f10/expr.ipynb\"><img src=\"../dd56fa97225795c53cc6b814c99b8e98e0e999f10/expr.png\" style=\"display:inline;vertical-align:middle;\" /></a></td></tr>\n",
       "<tr><td>46</td><td>Literal</td><td></td><td><a class=\"ProveItLink\" href=\"../../../../logic/sets/membership/__pv_it/common/477487d8796864d23d5810f83761435f25167f690/expr.ipynb\"><img src=\"../../../../logic/sets/membership/__pv_it/common/477487d8796864d23d5810f83761435f25167f690/expr.png\" style=\"display:inline;vertical-align:middle;\" /></a></td></tr>\n",
       "<tr><td>47</td><td>ExprTuple</td><td>52, 51</td><td><a class=\"ProveItLink\" href=\"../99fe0127a7d916a13d2f03d2399aecc2585b282d0/expr.ipynb\"><img src=\"../99fe0127a7d916a13d2f03d2399aecc2585b282d0/expr.png\" style=\"display:inline;vertical-align:middle;\" /></a></td></tr>\n",
       "<tr><td>48</td><td>Variable</td><td></td><td><a class=\"ProveItLink\" href=\"../../../../__pv_it/common/d72bb8b07403efe79afab564c36a28e21330e5f90/expr.ipynb\"><img src=\"../../../../__pv_it/common/d72bb8b07403efe79afab564c36a28e21330e5f90/expr.png\" style=\"display:inline;vertical-align:middle;\" /></a></td></tr>\n",
       "<tr><td>49</td><td>ExprTuple</td><td>52</td><td><a class=\"ProveItLink\" href=\"../../../../__pv_it/common/eacfeccc0521684fcb20fe8f5180ac50fca471f20/expr.ipynb\"><img src=\"../../../../__pv_it/common/eacfeccc0521684fcb20fe8f5180ac50fca471f20/expr.png\" style=\"display:inline;vertical-align:middle;\" /></a></td></tr>\n",
       "<tr><td>50</td><td>Variable</td><td></td><td><a class=\"ProveItLink\" href=\"../../../../__pv_it/common/09585084922504426caf1db2ff588a23a0932a960/expr.ipynb\"><img src=\"../../../../__pv_it/common/09585084922504426caf1db2ff588a23a0932a960/expr.png\" style=\"display:inline;vertical-align:middle;\" /></a></td></tr>\n",
       "<tr><td>51</td><td>Variable</td><td></td><td><a class=\"ProveItLink\" href=\"../../../../__pv_it/common/a9162d1c3cc0470c02e5daf414500903a7a419230/expr.ipynb\"><img src=\"../../../../__pv_it/common/a9162d1c3cc0470c02e5daf414500903a7a419230/expr.png\" style=\"display:inline;vertical-align:middle;\" /></a></td></tr>\n",
       "<tr><td>52</td><td>Variable</td><td></td><td><a class=\"ProveItLink\" href=\"../../../../__pv_it/common/a0d9d672aa5e272d907247690c152cc2c6daafb70/expr.ipynb\"><img src=\"../../../../__pv_it/common/a0d9d672aa5e272d907247690c152cc2c6daafb70/expr.png\" style=\"display:inline;vertical-align:middle;\" /></a></td></tr>\n",
       "</table>\n"
      ],
      "text/plain": [
       "0. (f -> {[Prob_{x in C | Q(x)} f(x)] = ([Prob_{x in A | Q(x)} f(x)] + [Prob_{x in B | Q(x)} f(x)]) if f in Injections(X, Omega).)\n",
       "   core type: ExprTuple\n",
       "   sub-expressions: 1\n",
       "1. f -> {[Prob_{x in C | Q(x)} f(x)] = ([Prob_{x in A | Q(x)} f(x)] + [Prob_{x in B | Q(x)} f(x)]) if f in Injections(X, Omega).\n",
       "   core type: Lambda\n",
       "   parameter: 38\n",
       "   body: 3\n",
       "2. (f)\n",
       "   core type: ExprTuple\n",
       "   sub-expressions: 38\n",
       "3. {[Prob_{x in C | Q(x)} f(x)] = ([Prob_{x in A | Q(x)} f(x)] + [Prob_{x in B | Q(x)} f(x)]) if f in Injections(X, Omega).\n",
       "   core type: Conditional\n",
       "   value: 4\n",
       "   condition: 5\n",
       "4. [Prob_{x in C | Q(x)} f(x)] = ([Prob_{x in A | Q(x)} f(x)] + [Prob_{x in B | Q(x)} f(x)])\n",
       "   core type: Operation\n",
       "   operator: 6\n",
       "   operands: 7\n",
       "5. f in Injections(X, Omega)\n",
       "   core type: Operation\n",
       "   operator: 46\n",
       "   operands: 8\n",
       "6. =\n",
       "   core type: Literal\n",
       "   sub-expressions: \n",
       "7. (Prob_{x in C | Q(x)} f(x), [Prob_{x in A | Q(x)} f(x)] + [Prob_{x in B | Q(x)} f(x)])\n",
       "   core type: ExprTuple\n",
       "   sub-expressions: 9, 10\n",
       "8. (f, Injections(X, Omega))\n",
       "   core type: ExprTuple\n",
       "   sub-expressions: 38, 11\n",
       "9. Prob_{x in C | Q(x)} f(x)\n",
       "   core type: Operation\n",
       "   operator: 24\n",
       "   operand: 17\n",
       "10. [Prob_{x in A | Q(x)} f(x)] + [Prob_{x in B | Q(x)} f(x)]\n",
       "    core type: Operation\n",
       "    operator: 13\n",
       "    operands: 14\n",
       "11. Injections(X, Omega)\n",
       "    core type: Operation\n",
       "    operator: 15\n",
       "    operands: 16\n",
       "12. (x -> {f(x) if x in C ,  Q(x).)\n",
       "    core type: ExprTuple\n",
       "    sub-expressions: 17\n",
       "13. +\n",
       "    core type: Literal\n",
       "    sub-expressions: \n",
       "14. (Prob_{x in A | Q(x)} f(x), Prob_{x in B | Q(x)} f(x))\n",
       "    core type: ExprTuple\n",
       "    sub-expressions: 18, 19\n",
       "15. Injections\n",
       "    core type: Literal\n",
       "    sub-expressions: \n",
       "16. (X, Omega)\n",
       "    core type: ExprTuple\n",
       "    sub-expressions: 20, 21\n",
       "17. x -> {f(x) if x in C ,  Q(x).\n",
       "    core type: Lambda\n",
       "    parameter: 52\n",
       "    body: 22\n",
       "18. Prob_{x in A | Q(x)} f(x)\n",
       "    core type: Operation\n",
       "    operator: 24\n",
       "    operand: 27\n",
       "19. Prob_{x in B | Q(x)} f(x)\n",
       "    core type: Operation\n",
       "    operator: 24\n",
       "    operand: 28\n",
       "20. X\n",
       "    core type: Variable\n",
       "    sub-expressions: \n",
       "21. Omega\n",
       "    core type: Variable\n",
       "    sub-expressions: \n",
       "22. {f(x) if x in C ,  Q(x).\n",
       "    core type: Conditional\n",
       "    value: 34\n",
       "    condition: 26\n",
       "23. (x -> {f(x) if x in A ,  Q(x).)\n",
       "    core type: ExprTuple\n",
       "    sub-expressions: 27\n",
       "24. Prob\n",
       "    core type: Literal\n",
       "    sub-expressions: \n",
       "25. (x -> {f(x) if x in B ,  Q(x).)\n",
       "    core type: ExprTuple\n",
       "    sub-expressions: 28\n",
       "26. (x in C) and Q(x)\n",
       "    core type: Operation\n",
       "    operator: 39\n",
       "    operands: 29\n",
       "27. x -> {f(x) if x in A ,  Q(x).\n",
       "    core type: Lambda\n",
       "    parameter: 52\n",
       "    body: 30\n",
       "28. x -> {f(x) if x in B ,  Q(x).\n",
       "    core type: Lambda\n",
       "    parameter: 52\n",
       "    body: 31\n",
       "29. (x in C, Q(x))\n",
       "    core type: ExprTuple\n",
       "    sub-expressions: 32, 44\n",
       "30. {f(x) if x in A ,  Q(x).\n",
       "    core type: Conditional\n",
       "    value: 34\n",
       "    condition: 33\n",
       "31. {f(x) if x in B ,  Q(x).\n",
       "    core type: Conditional\n",
       "    value: 34\n",
       "    condition: 35\n",
       "32. x in C\n",
       "    core type: Operation\n",
       "    operator: 46\n",
       "    operands: 36\n",
       "33. (x in A) and Q(x)\n",
       "    core type: Operation\n",
       "    operator: 39\n",
       "    operands: 37\n",
       "34. f(x)\n",
       "    core type: Operation\n",
       "    operator: 38\n",
       "    operand: 52\n",
       "35. (x in B) and Q(x)\n",
       "    core type: Operation\n",
       "    operator: 39\n",
       "    operands: 40\n",
       "36. (x, C)\n",
       "    core type: ExprTuple\n",
       "    sub-expressions: 52, 41\n",
       "37. (x in A, Q(x))\n",
       "    core type: ExprTuple\n",
       "    sub-expressions: 42, 44\n",
       "38. f\n",
       "    core type: Variable\n",
       "    sub-expressions: \n",
       "39. and\n",
       "    core type: Literal\n",
       "    sub-expressions: \n",
       "40. (x in B, Q(x))\n",
       "    core type: ExprTuple\n",
       "    sub-expressions: 43, 44\n",
       "41. C\n",
       "    core type: Variable\n",
       "    sub-expressions: \n",
       "42. x in A\n",
       "    core type: Operation\n",
       "    operator: 46\n",
       "    operands: 45\n",
       "43. x in B\n",
       "    core type: Operation\n",
       "    operator: 46\n",
       "    operands: 47\n",
       "44. Q(x)\n",
       "    core type: Operation\n",
       "    operator: 48\n",
       "    operand: 52\n",
       "45. (x, A)\n",
       "    core type: ExprTuple\n",
       "    sub-expressions: 52, 50\n",
       "46. in\n",
       "    core type: Literal\n",
       "    sub-expressions: \n",
       "47. (x, B)\n",
       "    core type: ExprTuple\n",
       "    sub-expressions: 52, 51\n",
       "48. Q\n",
       "    core type: Variable\n",
       "    sub-expressions: \n",
       "49. (x)\n",
       "    core type: ExprTuple\n",
       "    sub-expressions: 52\n",
       "50. A\n",
       "    core type: Variable\n",
       "    sub-expressions: \n",
       "51. B\n",
       "    core type: Variable\n",
       "    sub-expressions: \n",
       "52. x\n",
       "    core type: Variable\n",
       "    sub-expressions: "
      ]
     },
     "metadata": {},
     "output_type": "display_data"
    }
   ],
   "source": [
    "# display the expression information\n",
    "stored_expr.expr_info()"
   ]
  },
  {
   "cell_type": "code",
   "execution_count": null,
   "metadata": {},
   "outputs": [],
   "source": []
  }
 ],
 "metadata": {
  "kernelspec": {
   "display_name": "Python 3",
   "language": "python",
   "name": "python3"
  }
 },
 "nbformat": 4,
 "nbformat_minor": 0
}