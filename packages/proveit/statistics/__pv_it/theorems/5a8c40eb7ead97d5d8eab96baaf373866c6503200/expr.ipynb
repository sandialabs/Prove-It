{
 "cells": [
  {
   "cell_type": "markdown",
   "metadata": {},
   "source": [
    "Expression of type <a class=\"ProveItLink\" href=\"../../../../../../doc/html/api/proveit.Lambda.html\">Lambda</a>\n",
    "=======================\n",
    "# from the theory of <a class=\"ProveItLink\" href=\"../../../_theory_nbs_/theory.ipynb\">proveit.statistics</a>"
   ]
  },
  {
   "cell_type": "code",
   "execution_count": 1,
   "metadata": {},
   "outputs": [],
   "source": [
    "import proveit\n",
    "# Automation is not needed when building an expression:\n",
    "proveit.defaults.automation = False # This will speed things up.\n",
    "proveit.defaults.inline_pngs = False # Makes files smaller.\n",
    "%load_expr # Load the stored expression as 'stored_expr'\n",
    "# import Expression classes needed to build the expression\n",
    "from proveit import Conditional, Lambda, Omega, x\n",
    "from proveit.logic import Forall, InClass, InSet\n",
    "from proveit.statistics import Prob, SampleSpaces, prob_domain"
   ]
  },
  {
   "cell_type": "code",
   "execution_count": 2,
   "metadata": {},
   "outputs": [
    {
     "data": {
      "text/html": [
       "<strong id=\"expr\">expr:</strong> <a class=\"ProveItLink\" href=\"expr.ipynb\"><img src=\"expr.png\" style=\"display:inline;vertical-align:middle;\" /></a><br>"
      ],
      "text/plain": [
       "<IPython.core.display.HTML object>"
      ]
     },
     "metadata": {},
     "output_type": "display_data"
    }
   ],
   "source": [
    "# build up the expression from sub-expressions\n",
    "expr = Lambda(Omega, Conditional(Forall(instance_param_or_params = [x], instance_expr = InSet(Prob(x), prob_domain), domain = Omega), InClass(Omega, SampleSpaces)))"
   ]
  },
  {
   "cell_type": "code",
   "execution_count": 3,
   "metadata": {},
   "outputs": [
    {
     "name": "stdout",
     "output_type": "stream",
     "text": [
      "Passed sanity check: expr matches stored_expr\n"
     ]
    }
   ],
   "source": [
    "# check that the built expression is the same as the stored expression\n",
    "assert expr == stored_expr\n",
    "assert expr._style_id == stored_expr._style_id\n",
    "print(\"Passed sanity check: expr matches stored_expr\")"
   ]
  },
  {
   "cell_type": "code",
   "execution_count": 4,
   "metadata": {},
   "outputs": [
    {
     "name": "stdout",
     "output_type": "stream",
     "text": [
      "\\Omega \\mapsto \\left\\{\\forall_{x \\in \\Omega}~\\left(\\textrm{Pr}\\left(x\\right) \\in \\left[0,1\\right]\\right) \\textrm{ if } \\Omega \\underset{{\\scriptscriptstyle c}}{\\in} \\textrm{SampleSpaces}\\right..\n"
     ]
    }
   ],
   "source": [
    "# Show the LaTeX representation of the expression for convenience if you need it.\n",
    "print(stored_expr.latex())"
   ]
  },
  {
   "cell_type": "code",
   "execution_count": 5,
   "metadata": {},
   "outputs": [
    {
     "data": {
      "text/html": [
       "no style options"
      ],
      "text/plain": [
       "no style options"
      ]
     },
     "metadata": {},
     "output_type": "display_data"
    }
   ],
   "source": [
    "stored_expr.style_options()"
   ]
  },
  {
   "cell_type": "code",
   "execution_count": 6,
   "metadata": {},
   "outputs": [
    {
     "data": {
      "text/html": [
       "<table><tr><th>&nbsp;</th><th>core type</th><th>sub-expressions</th><th>expression</th></tr>\n",
       "<tr><td>0</td><td>Lambda</td><td>parameter:&nbsp;19<br>body:&nbsp;2<br></td><td><a class=\"ProveItLink\" href=\"expr.ipynb\"><img src=\"expr.png\" style=\"display:inline;vertical-align:middle;\" /></a></td></tr>\n",
       "<tr><td>1</td><td>ExprTuple</td><td>19</td><td><a class=\"ProveItLink\" href=\"../7f05719e200e5d8f5df133bdeeac4b7660b34b7a0/expr.ipynb\"><img src=\"../7f05719e200e5d8f5df133bdeeac4b7660b34b7a0/expr.png\" style=\"display:inline;vertical-align:middle;\" /></a></td></tr>\n",
       "<tr><td>2</td><td>Conditional</td><td>value:&nbsp;3<br>condition:&nbsp;4<br></td><td><a class=\"ProveItLink\" href=\"../e85dad01d0d8dcce723b4959327be066a23d2f9b0/expr.ipynb\"><img src=\"../e85dad01d0d8dcce723b4959327be066a23d2f9b0/expr.png\" style=\"display:inline;vertical-align:middle;\" /></a></td></tr>\n",
       "<tr><td>3</td><td>Operation</td><td>operator:&nbsp;5<br>operand:&nbsp;9<br></td><td><a class=\"ProveItLink\" href=\"../ea877e4d2c5d980196aa576f9ef9a82f1a0827770/expr.ipynb\"><img src=\"../ea877e4d2c5d980196aa576f9ef9a82f1a0827770/expr.png\" style=\"display:inline;vertical-align:middle;\" /></a></td></tr>\n",
       "<tr><td>4</td><td>Operation</td><td>operator:&nbsp;7<br>operands:&nbsp;8<br></td><td><a class=\"ProveItLink\" href=\"../86c8e5a752d42e6282b9a224508934c5532363370/expr.ipynb\"><img src=\"../86c8e5a752d42e6282b9a224508934c5532363370/expr.png\" style=\"display:inline;vertical-align:middle;\" /></a></td></tr>\n",
       "<tr><td>5</td><td>Literal</td><td></td><td><a class=\"ProveItLink\" href=\"../../../../logic/booleans/quantification/universality/__pv_it/common/083d2baa0b8ecab1d230f9ec29a15aa1355809fb0/expr.ipynb\"><img src=\"../../../../logic/booleans/quantification/universality/__pv_it/common/083d2baa0b8ecab1d230f9ec29a15aa1355809fb0/expr.png\" style=\"display:inline;vertical-align:middle;\" /></a></td></tr>\n",
       "<tr><td>6</td><td>ExprTuple</td><td>9</td><td><a class=\"ProveItLink\" href=\"../4d91d510606d252b617c9049a29192f51483a8580/expr.ipynb\"><img src=\"../4d91d510606d252b617c9049a29192f51483a8580/expr.png\" style=\"display:inline;vertical-align:middle;\" /></a></td></tr>\n",
       "<tr><td>7</td><td>Literal</td><td></td><td><a class=\"ProveItLink\" href=\"../../../../logic/classes/membership/__pv_it/common/e3b437d28fbe17f0a50c9789c7c9b47a1270f1420/expr.ipynb\"><img src=\"../../../../logic/classes/membership/__pv_it/common/e3b437d28fbe17f0a50c9789c7c9b47a1270f1420/expr.png\" style=\"display:inline;vertical-align:middle;\" /></a></td></tr>\n",
       "<tr><td>8</td><td>ExprTuple</td><td>19, 10</td><td><a class=\"ProveItLink\" href=\"../2db67d9839bbcca5b61576b051f6210971e6b4460/expr.ipynb\"><img src=\"../2db67d9839bbcca5b61576b051f6210971e6b4460/expr.png\" style=\"display:inline;vertical-align:middle;\" /></a></td></tr>\n",
       "<tr><td>9</td><td>Lambda</td><td>parameter:&nbsp;24<br>body:&nbsp;11<br></td><td><a class=\"ProveItLink\" href=\"../5e409e004cbeb266d5b1f79b367f281c9a090f370/expr.ipynb\"><img src=\"../5e409e004cbeb266d5b1f79b367f281c9a090f370/expr.png\" style=\"display:inline;vertical-align:middle;\" /></a></td></tr>\n",
       "<tr><td>10</td><td>Literal</td><td></td><td><a class=\"ProveItLink\" href=\"../../common/b8cb4b48bfd38c392abbbe6b1d73ed28fe3180d20/expr.ipynb\"><img src=\"../../common/b8cb4b48bfd38c392abbbe6b1d73ed28fe3180d20/expr.png\" style=\"display:inline;vertical-align:middle;\" /></a></td></tr>\n",
       "<tr><td>11</td><td>Conditional</td><td>value:&nbsp;12<br>condition:&nbsp;13<br></td><td><a class=\"ProveItLink\" href=\"../d26b4caa67d2de7aa08d55802416e06836be4b3f0/expr.ipynb\"><img src=\"../d26b4caa67d2de7aa08d55802416e06836be4b3f0/expr.png\" style=\"display:inline;vertical-align:middle;\" /></a></td></tr>\n",
       "<tr><td>12</td><td>Operation</td><td>operator:&nbsp;15<br>operands:&nbsp;14<br></td><td><a class=\"ProveItLink\" href=\"../41c0544823d6af44bd7e029fcd6dc010fb76328f0/expr.ipynb\"><img src=\"../41c0544823d6af44bd7e029fcd6dc010fb76328f0/expr.png\" style=\"display:inline;vertical-align:middle;\" /></a></td></tr>\n",
       "<tr><td>13</td><td>Operation</td><td>operator:&nbsp;15<br>operands:&nbsp;16<br></td><td><a class=\"ProveItLink\" href=\"../736ea81be7ca7125c33e7eb82d75aaadf25ea8eb0/expr.ipynb\"><img src=\"../736ea81be7ca7125c33e7eb82d75aaadf25ea8eb0/expr.png\" style=\"display:inline;vertical-align:middle;\" /></a></td></tr>\n",
       "<tr><td>14</td><td>ExprTuple</td><td>17, 18</td><td><a class=\"ProveItLink\" href=\"../f34a20504e7d879f1b94526bf822f222dad816570/expr.ipynb\"><img src=\"../f34a20504e7d879f1b94526bf822f222dad816570/expr.png\" style=\"display:inline;vertical-align:middle;\" /></a></td></tr>\n",
       "<tr><td>15</td><td>Literal</td><td></td><td><a class=\"ProveItLink\" href=\"../../../../logic/sets/membership/__pv_it/common/477487d8796864d23d5810f83761435f25167f690/expr.ipynb\"><img src=\"../../../../logic/sets/membership/__pv_it/common/477487d8796864d23d5810f83761435f25167f690/expr.png\" style=\"display:inline;vertical-align:middle;\" /></a></td></tr>\n",
       "<tr><td>16</td><td>ExprTuple</td><td>24, 19</td><td><a class=\"ProveItLink\" href=\"../aba7fe5a603b8f960466a8f649a89dd18d8a5d470/expr.ipynb\"><img src=\"../aba7fe5a603b8f960466a8f649a89dd18d8a5d470/expr.png\" style=\"display:inline;vertical-align:middle;\" /></a></td></tr>\n",
       "<tr><td>17</td><td>Operation</td><td>operator:&nbsp;20<br>operand:&nbsp;24<br></td><td><a class=\"ProveItLink\" href=\"../a7421d34bd1f55e896b096d3cb6a69bc4d65d7220/expr.ipynb\"><img src=\"../a7421d34bd1f55e896b096d3cb6a69bc4d65d7220/expr.png\" style=\"display:inline;vertical-align:middle;\" /></a></td></tr>\n",
       "<tr><td>18</td><td>Operation</td><td>operator:&nbsp;22<br>operands:&nbsp;23<br></td><td><a class=\"ProveItLink\" href=\"../../common/125651165533d749230fc5a2954cf95b83d188f70/expr.ipynb\"><img src=\"../../common/125651165533d749230fc5a2954cf95b83d188f70/expr.png\" style=\"display:inline;vertical-align:middle;\" /></a></td></tr>\n",
       "<tr><td>19</td><td>Variable</td><td></td><td><a class=\"ProveItLink\" href=\"../../../../__pv_it/common/53406c163510d898bbe57aa9c808cb4fce1aa1e40/expr.ipynb\"><img src=\"../../../../__pv_it/common/53406c163510d898bbe57aa9c808cb4fce1aa1e40/expr.png\" style=\"display:inline;vertical-align:middle;\" /></a></td></tr>\n",
       "<tr><td>20</td><td>Literal</td><td></td><td><a class=\"ProveItLink\" href=\"../../common/088e9f40f9e6ba1dcc7d39fd35fd8d244261148e0/expr.ipynb\"><img src=\"../../common/088e9f40f9e6ba1dcc7d39fd35fd8d244261148e0/expr.png\" style=\"display:inline;vertical-align:middle;\" /></a></td></tr>\n",
       "<tr><td>21</td><td>ExprTuple</td><td>24</td><td><a class=\"ProveItLink\" href=\"../../../../__pv_it/common/eacfeccc0521684fcb20fe8f5180ac50fca471f20/expr.ipynb\"><img src=\"../../../../__pv_it/common/eacfeccc0521684fcb20fe8f5180ac50fca471f20/expr.png\" style=\"display:inline;vertical-align:middle;\" /></a></td></tr>\n",
       "<tr><td>22</td><td>Literal</td><td></td><td><a class=\"ProveItLink\" href=\"../../../../numbers/number_sets/real_numbers/__pv_it/common/7a0e2d2a71a9c11a68afbf981a5ed39949fa14d10/expr.ipynb\"><img src=\"../../../../numbers/number_sets/real_numbers/__pv_it/common/7a0e2d2a71a9c11a68afbf981a5ed39949fa14d10/expr.png\" style=\"display:inline;vertical-align:middle;\" /></a></td></tr>\n",
       "<tr><td>23</td><td>ExprTuple</td><td>25, 26</td><td><a class=\"ProveItLink\" href=\"../../../../numbers/numerals/decimals/__pv_it/theorems/da8a8b171a5f1ff8208183b4cf6a698b32a8f24a0/expr.ipynb\"><img src=\"../../../../numbers/numerals/decimals/__pv_it/theorems/da8a8b171a5f1ff8208183b4cf6a698b32a8f24a0/expr.png\" style=\"display:inline;vertical-align:middle;\" /></a></td></tr>\n",
       "<tr><td>24</td><td>Variable</td><td></td><td><a class=\"ProveItLink\" href=\"../../../../__pv_it/common/a0d9d672aa5e272d907247690c152cc2c6daafb70/expr.ipynb\"><img src=\"../../../../__pv_it/common/a0d9d672aa5e272d907247690c152cc2c6daafb70/expr.png\" style=\"display:inline;vertical-align:middle;\" /></a></td></tr>\n",
       "<tr><td>25</td><td>Literal</td><td></td><td><a class=\"ProveItLink\" href=\"../../../../numbers/numerals/__pv_it/common/dd4e19e8b134dfb293470ea55fe3589b0ab9f8040/expr.ipynb\"><img src=\"../../../../numbers/numerals/__pv_it/common/dd4e19e8b134dfb293470ea55fe3589b0ab9f8040/expr.png\" style=\"display:inline;vertical-align:middle;\" /></a></td></tr>\n",
       "<tr><td>26</td><td>Literal</td><td></td><td><a class=\"ProveItLink\" href=\"../../../../numbers/numerals/__pv_it/common/682157d4892d216d9e5626ed533aff9b56b9506e0/expr.ipynb\"><img src=\"../../../../numbers/numerals/__pv_it/common/682157d4892d216d9e5626ed533aff9b56b9506e0/expr.png\" style=\"display:inline;vertical-align:middle;\" /></a></td></tr>\n",
       "</table>\n"
      ],
      "text/plain": [
       "0. Omega -> {forall_{x in Omega} (Pr(x) in [0,1]) if Omega in_c SampleSpaces.\n",
       "   core type: Lambda\n",
       "   parameter: 19\n",
       "   body: 2\n",
       "1. (Omega)\n",
       "   core type: ExprTuple\n",
       "   sub-expressions: 19\n",
       "2. {forall_{x in Omega} (Pr(x) in [0,1]) if Omega in_c SampleSpaces.\n",
       "   core type: Conditional\n",
       "   value: 3\n",
       "   condition: 4\n",
       "3. forall_{x in Omega} (Pr(x) in [0,1])\n",
       "   core type: Operation\n",
       "   operator: 5\n",
       "   operand: 9\n",
       "4. Omega in_c SampleSpaces\n",
       "   core type: Operation\n",
       "   operator: 7\n",
       "   operands: 8\n",
       "5. forall\n",
       "   core type: Literal\n",
       "   sub-expressions: \n",
       "6. (x -> {Pr(x) in [0,1] if x in Omega.)\n",
       "   core type: ExprTuple\n",
       "   sub-expressions: 9\n",
       "7. in_c\n",
       "   core type: Literal\n",
       "   sub-expressions: \n",
       "8. (Omega, SampleSpaces)\n",
       "   core type: ExprTuple\n",
       "   sub-expressions: 19, 10\n",
       "9. x -> {Pr(x) in [0,1] if x in Omega.\n",
       "   core type: Lambda\n",
       "   parameter: 24\n",
       "   body: 11\n",
       "10. SampleSpaces\n",
       "    core type: Literal\n",
       "    sub-expressions: \n",
       "11. {Pr(x) in [0,1] if x in Omega.\n",
       "    core type: Conditional\n",
       "    value: 12\n",
       "    condition: 13\n",
       "12. Pr(x) in [0,1]\n",
       "    core type: Operation\n",
       "    operator: 15\n",
       "    operands: 14\n",
       "13. x in Omega\n",
       "    core type: Operation\n",
       "    operator: 15\n",
       "    operands: 16\n",
       "14. (Pr(x), [0,1])\n",
       "    core type: ExprTuple\n",
       "    sub-expressions: 17, 18\n",
       "15. in\n",
       "    core type: Literal\n",
       "    sub-expressions: \n",
       "16. (x, Omega)\n",
       "    core type: ExprTuple\n",
       "    sub-expressions: 24, 19\n",
       "17. Pr(x)\n",
       "    core type: Operation\n",
       "    operator: 20\n",
       "    operand: 24\n",
       "18. [0,1]\n",
       "    core type: Operation\n",
       "    operator: 22\n",
       "    operands: 23\n",
       "19. Omega\n",
       "    core type: Variable\n",
       "    sub-expressions: \n",
       "20. Pr\n",
       "    core type: Literal\n",
       "    sub-expressions: \n",
       "21. (x)\n",
       "    core type: ExprTuple\n",
       "    sub-expressions: 24\n",
       "22. IntervalCC\n",
       "    core type: Literal\n",
       "    sub-expressions: \n",
       "23. (0, 1)\n",
       "    core type: ExprTuple\n",
       "    sub-expressions: 25, 26\n",
       "24. x\n",
       "    core type: Variable\n",
       "    sub-expressions: \n",
       "25. 0\n",
       "    core type: Literal\n",
       "    sub-expressions: \n",
       "26. 1\n",
       "    core type: Literal\n",
       "    sub-expressions: "
      ]
     },
     "metadata": {},
     "output_type": "display_data"
    }
   ],
   "source": [
    "# display the expression information\n",
    "stored_expr.expr_info()"
   ]
  },
  {
   "cell_type": "code",
   "execution_count": null,
   "metadata": {},
   "outputs": [],
   "source": []
  }
 ],
 "metadata": {
  "kernelspec": {
   "display_name": "Python 3",
   "language": "python",
   "name": "python3"
  }
 },
 "nbformat": 4,
 "nbformat_minor": 0
}