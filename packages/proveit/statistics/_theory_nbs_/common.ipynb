{
 "cells": [
  {
   "cell_type": "markdown",
   "metadata": {},
   "source": [
    "Common expressions for the theory of <a class=\"ProveItLink\" href=\"theory.ipynb\">proveit.statistics</a>\n",
    "========"
   ]
  },
  {
   "cell_type": "code",
   "execution_count": 1,
   "metadata": {},
   "outputs": [],
   "source": [
    "import proveit\n",
    "# Prepare this notebook for defining the common expressions of a theory:\n",
    "%common_expressions_notebook # Keep this at the top following 'import proveit'.\n",
    "\n",
    "from proveit.numbers import zero, one, IntervalCC\n",
    "from proveit.statistics.sample_spaces import SampleSpacesClass"
   ]
  },
  {
   "cell_type": "code",
   "execution_count": 2,
   "metadata": {},
   "outputs": [
    {
     "name": "stdout",
     "output_type": "stream",
     "text": [
      "Defining common sub-expressions for theory 'proveit.statistics'\n",
      "Subsequent end-of-cell assignments will define common sub-expressions\n",
      "%end_common will finalize the definitions\n"
     ]
    }
   ],
   "source": [
    "%begin common"
   ]
  },
  {
   "cell_type": "code",
   "execution_count": 3,
   "metadata": {},
   "outputs": [
    {
     "data": {
      "text/html": [
       "<strong id=\"SampleSpaces\">SampleSpaces:</strong> <a class=\"ProveItLink\" href=\"../__pv_it/common/b8cb4b48bfd38c392abbbe6b1d73ed28fe3180d20/common_expr.ipynb\"><img src=\"data:image/png;base64,iVBORw0KGgoAAAANSUhEUgAAAH0AAAASBAMAAACEDMyZAAAAMFBMVEX///8AAAAAAAAAAAAAAAAA\n",
       "AAAAAAAAAAAAAAAAAAAAAAAAAAAAAAAAAAAAAAAAAAAv3aB7AAAAD3RSTlMAEJlU3TLNiWa77yJE\n",
       "dqs3h7YHAAAACXBIWXMAAA7EAAAOxAGVKw4bAAAB7UlEQVQ4y62TTUgbQRiG3zHJxtiNySG0vbnk\n",
       "0oIoC+1JC4Ee6kXqQsGDRSMeLATRIIKCPyyeRCrNuVRbD1JIQljSm6fFgt4kpdSetgS8iApKIIh/\n",
       "xJn5YsG6iT34wf4w7/MwM9/sgkWjugaX6s3RsyZAFTHwfNA1Gb0LkDUONLrHK3cBst7xK1XPrw3I\n",
       "+mgBZj2/NiArdmLze6MzGfYlWp1l1fmEza/z7ab08781AtTEVHSPMLAnk7pM+pd2gGClMgJ0WA2D\n",
       "8O4i/h6LQNpmL4Xvy2CnCjRlEdEIW9fVNZGwFLx86sf7FZMH6jkCXxBKIW6Izsds7ns1hHQClCI8\n",
       "F4QNw5MRyYtVBOUW+o75KW9xP4VQUvhDQIvG/Tj3kgQoGlhJYuyEj8ikZ5lao16AtT8jv1D1+UJW\n",
       "EHu6sGAQwH2cSsx3Kbomkkc9JTqaMjps302f5tdxDdD8AhPLkMmDMD4Y6OYvxyhBPX/71xf7N7jf\n",
       "VARsAsT+y4QNAx6RfC+g2cQrHQ9NHgTLnQr5NhIW65L9z8JvEaBkEEkStm5iWiTfVhGwUNyYOwQG\n",
       "fv6Y+HWUe/M55x/rwujSHxsD6QPk26argLLnVLECizqWSNRZZ8b9mxq6PaTU+QXv3X99e8hb/H99\n",
       "++zg3yH1KGe5slcyRL7lzA6YAQAAAABJRU5ErkJggg==\n",
       "\" style=\"display:inline;vertical-align:middle;\" /></a><br>"
      ],
      "text/plain": [
       "<IPython.core.display.HTML object>"
      ]
     },
     "metadata": {},
     "output_type": "display_data"
    }
   ],
   "source": [
    "SampleSpaces = SampleSpacesClass()"
   ]
  },
  {
   "cell_type": "code",
   "execution_count": 4,
   "metadata": {},
   "outputs": [
    {
     "data": {
      "text/html": [
       "<strong id=\"prob_domain\">prob_domain:</strong> <a class=\"ProveItLink\" href=\"../__pv_it/common/125651165533d749230fc5a2954cf95b83d188f70/common_expr.ipynb\"><img src=\"data:image/png;base64,iVBORw0KGgoAAAANSUhEUgAAACUAAAAVBAMAAAAzyjqdAAAAMFBMVEX///8AAAAAAAAAAAAAAAAA\n",
       "AAAAAAAAAAAAAAAAAAAAAAAAAAAAAAAAAAAAAAAAAAAv3aB7AAAAD3RSTlMAdt0yiUSZIs1UEGa7\n",
       "q++VedyHAAAACXBIWXMAAA7EAAAOxAGVKw4bAAAAoElEQVQY02MQUmZAAYxKBgyuDGiAJQAkxuKY\n",
       "DuUza8HEOhkWFYCF1mb8gopxKzCwHIAaBhPjucDA+QtNjD+Bgfknmth6oNhvNLF6Bwbmj1jEvqDr\n",
       "dWBg/YhpBye6HTwHGLjR3cL9gIGtgWEBihiDJsM6A64fYP9/h4ktc7zMwKAEVMh778dtqBgYcC5A\n",
       "CSsIkwFTbCEWMQEkMSf0+NALAABNMjWcMh4/TgAAAABJRU5ErkJggg==\n",
       "\" style=\"display:inline;vertical-align:middle;\" /></a><br>"
      ],
      "text/plain": [
       "<IPython.core.display.HTML object>"
      ]
     },
     "metadata": {},
     "output_type": "display_data"
    }
   ],
   "source": [
    "prob_domain = IntervalCC(zero, one)"
   ]
  },
  {
   "cell_type": "code",
   "execution_count": 5,
   "metadata": {},
   "outputs": [
    {
     "name": "stdout",
     "output_type": "stream",
     "text": [
      "These common expressions may now be imported from the theory package: proveit.statistics\n"
     ]
    }
   ],
   "source": [
    "%end common"
   ]
  }
 ],
 "metadata": {
  "kernelspec": {
   "display_name": "Python 3",
   "language": "python",
   "name": "python3"
  }
 },
 "nbformat": 4,
 "nbformat_minor": 0
}