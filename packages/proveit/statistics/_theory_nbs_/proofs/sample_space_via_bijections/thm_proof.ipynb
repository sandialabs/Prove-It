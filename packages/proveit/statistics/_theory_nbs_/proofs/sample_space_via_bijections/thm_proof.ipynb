{
 "cells": [
  {
   "cell_type": "markdown",
   "metadata": {},
   "source": [
    "Proof of <a class=\"ProveItLink\" href=\"../../../../_theory_nbs_/theory.ipynb\">proveit</a>.<a class=\"ProveItLink\" href=\"../../theory.ipynb\">statistics</a>.<a class=\"ProveItLink\" href=\"../../theorems.ipynb#sample_space_via_bijections\">sample_space_via_bijections</a> theorem\n",
    "========"
   ]
  },
  {
   "cell_type": "code",
   "execution_count": 1,
   "metadata": {},
   "outputs": [],
   "source": [
    "import proveit\n",
    "theory = proveit.Theory() # the theorem's theory"
   ]
  },
  {
   "cell_type": "code",
   "execution_count": 2,
   "metadata": {},
   "outputs": [
    {
     "data": {
      "text/html": [
       "With these <a href=\"allowed_presumptions.txt\">allowed</a>/<a href=\"disallowed_presumptions.txt\">disallowed</a> theorem/theory presumptions (e.g., to avoid circular dependencies), we begin our proof of<br><strong id=\"sample_space_via_bijections\">sample_space_via_bijections:</strong> <a class=\"ProveItLink\" href=\"../../../__pv_it/theorems/a8069b7b0334e754bf20c976f2415f7fed98abc20/expr.ipynb\"><img src=\"data:image/png;base64,iVBORw0KGgoAAAANSUhEUgAAA2YAAABACAMAAABGFpR6AAAAQlBMVEX///8AAAAAAAAAAAAAAAAA\n",
       "AAAAAAAAAAAAAAAAAAAAAAAAAAAAAAAAAAAAAAAAAAAAAAAAAAAAAAAAAAAAAAAAAACGKEuzAAAA\n",
       "FXRSTlMAq1RmmUTNIjK7EInv3Xbh+fvl1/OhCx0iAAAACXBIWXMAAA7EAAAOxAGVKw4bAAAPkUlE\n",
       "QVR42u1dibarrA6WSUb578T7v+qVSUFRHEr37q6sszY9Com1+SAJIXTdbyzE2DL8MIm/XrB+3sEr\n",
       "iuhF9v/eiR5cff6FMCNjYT9M4o8X3W/fGobbb45ebUDL/6X3vzG9wo/WX4nm2X+ZlbwArfTzL4TZ\n",
       "byDxtwsx24IryX0Qw4sNlteJzutXP1KN38R356VwubqkYPnzA7Pv0nQU6vZgBqb/QHSBPBwFj4LB\n",
       "GAAA56jcYNJepRSl6wEHKK93Zqs9hgXKx/jFegdmYg2kB2ZPsaLdd7sww5NQ9RfUNeGpM+PQSlW/\n",
       "0cBzA2wSRFF4rGj6LEygUtlmWKR8jF+o96Z4qMQDs6cU5JHtw4zF6YzyKyD2MwD1Ut8hI8sNghQS\n",
       "LgrXY0E4r/fms02GRcrH+IV6V5Me8AOzp6xHbNDtw2way+UVGVG51LOVy1elv5QoXk8uiryuw2zN\n",
       "sEz5GD9f78IMLi3dB2ZPWUvFGmYojPP9FfJ9LvXE9OUGjtlQvp6MCSiv6zBbMdygfIyfr/f9Qj1/\n",
       "YPaUpY6zrwk6iVKDLUpe0RllLvXSwI70SkMZDD08UUVADQAvOwqtgWAyzKQSdFldh9mKYcIRSq0p\n",
       "OsPP1/swgwst/IHZU1hlJcdJFHZyw8UF+nEa8FIvtPdqKgypQat5yeh1xxF3GugO+4kOhTkHzXMP\n",
       "HpICFjArMJw5yt66SPgZfr6urHIo/MDsKVkBlZfjJIqC+GdrAOeGj3MFUGDpThlglPpBShlXpoZR\n",
       "iEXewLVhq46IWi+G6IBHAQwWFFT12WyD4cQROkswQvsYP19XYIbNA7OnpEUYfABmbiJbyxbTgHOS\n",
       "jOB4beYpEqWel90uiiTa1rqjBV6y4sBMXu/BbIPhxFEBR4ie4efrCsyIQQ/MnpIUZNgRmEFdcIBg\n",
       "nPTV4wwgC1rlBsxwCWapByS9rmZdkqi8PgwzvAawU5e1OsWPHJnNunyt7oHZ1xdeezdBovoOBdnT\n",
       "GlNtp61FKIbCJZQlSmMm9XLVwD4MKHQMsWDCE4cBiXCo22YbDCf10M1jE89j/HxdgxnOvLcPzL6+\n",
       "GH4MZhKGxTNNO8C7HnZi0VOX50WuK1LPdWkWidfFqJQCO4OEDojn9eHZTK4eCRmnNKNT/HxdgxnM\n",
       "tMYHZt9eiJHHYEZVGPWRE8gRUWSxciVV0cqLnnCWLV8lkRKza54asuoIDRN4FHsSxDO63XF1cWGT\n",
       "YeQo7JQDpgXxY/x8XYNZXEx4YPYUr92QYzDrEhei14hQz10JciOFNiWlkTkti4LeGBChQYBRAGYN\n",
       "Vh6QcF1grTuIUWw9kLzeFPRthhNHArTEwzl+vq5uW1DqgdlTZl3KiIMwS+RfuZ1XLJtPrF1Wns6q\n",
       "29WmBhhUO9Ihr6+VhHLiGjnCL9RVmPEsauyB2bebZlVxXUgUVW5R1wpnulqNReedjetSjfL1DSCw\n",
       "Bl+tYwzvxejOt3aUGRB52PQRfqGuwkwb+MDsKUU3waHZDGsitbZ4ojyIqMDDMF4QwBQjDXlt94xr\n",
       "MPDVRpR1x7hF4NJWgQVloEQnen2KX6yrMIPpcuQDsy8v0OCzMEuKkNY2q+6uFvxIA6RXa9vrjhEI\n",
       "/GaaAkvZWWbkHL9YV2HG0vHrgdmXF22q2/3l/VwgVF9ssLyuaV6/+pFq/EKtB1WDmUi18QdmX17w\n",
       "b80A8/lGr9mE2c2cD01hdufZXkDijxZunnxfbcqQuIMWMLuX86EtzO482wtI/NHSmxe8CfwxM6Lo\n",
       "xU+82QXM7uV8aAuzO8/2AhJ/tChzX+4w+Jzvy4Z34Ywn6/5L2+xWzofGttmNZ3sBiS+wIC4W1H/S\n",
       "F0bvGhNAYvUuYXYn50NrmN14theQeGC2NT8o8VHfmMOfh9mdnA+tYXbj2V5A4oHZlg3yYS9TvGlY\n",
       "wEmM/gpmN3I+NIfZ9Wc7QYIrpVqc2iBHulV9pRXzTe7iNsygER82srzJlNyFWZbzQUuEVrFjWmvJ\n",
       "qiOYyHYLHutTw0j2bMvcEzIIqFaFffJlEuXBuZ0PklV/35YOUFaGmbpJdvg4zYCat7iZZbLwv16e\n",
       "nnM+hMTqOHjlQtoHNx8cGBBoArOjfSowW+SjWOSekH5Y1ewEiQdmd2HGPm4yK54l8XaYzTkfeHAU\n",
       "+OYx7YP/WeqQEeki+ME+NZjl+SgWuSeE25+I6BkSD8zuwgx84NIIUj8PsznnQ9w85LJlTmkfeuBi\n",
       "s8d/EtnlXsEHBjUQCAFiF6QGpKXdFOFhJpHWc5/5buhs9VIN6NRQQyTRNkaSfBT+AbPcEzZpF2IV\n",
       "pC5InJV0mph1cvduA5jdYr7B/a5tZj4wnIa+JcBs1zZLcj7wMFDZWWIOXaaDGRxC7MZURcND22zG\n",
       "LheJy8Zlz6RzMLP7h0bjbuoz3Y2dJfa7vn1DIkshnQlGpmcL0xnL355GpDYhLkiclHQG59VNJPfu\n",
       "NoDZPeZtYBaTrwkwGOXGyw4qs+/GEXgssMPHmfQL981pCkt7Ev88zKacD2HHuHuTadqH0Uiz8yEd\n",
       "L9ujo6jVzq26a/fU+j+dIQ5mLqUd4XOf6W7o7JIxUBEbMoOh2MMIzd73MvcE3wyb3iRxWm+bZJmB\n",
       "3oZrMw0Ta7ApzO4xbwMzZOZXHHVxvj/BCRfvD4cza5f5WRpXKOQIeMe66e66WZfkfPBpV92hxHPa\n",
       "B+Gh5/W9QQdfB9AZzBRyMEMKjYXMfaa7ofO0bBwaEm7WqSnS8Po0pe0q9wTmdfMuJ3FD0v2Rc24j\n",
       "4jw9vgtmF5hvcFf3YAZmgR3CxKYrW0SkHxtPxY5keeUuUciKNr8AZtO47zezcpvEaPbG+y886oeD\n",
       "y3AkijBLZ7O0z3Q3dKYBJ6EhE6WXt7GLZZ17YtBHYHZf0nVvR9dR0oWfqjnxV94Cs6vMN7gPZzyF\n",
       "a+svUQ20T5EFV3aP5jYkYPpZ43I2vwyzKxSyAt+xLSHd+7AHM+k2sUHmzO3pDZuQUV3Y32fQ2sOM\n",
       "TzCzl+0p1842s/qD0FOf6e7U2SqbY4PQEOLSyytjJMk9IWTwmrH3wCz8Vrgb5+whu/a+2ew08w3u\n",
       "pzbCsNVvk2Sf807L1aHQpNdiodr7L4kuw+wKhYVF+QYfyLAdoZ//5k6B08a9yintAyZyLFbEMUJs\n",
       "fIfAjD+56gkFtiEzCGpsrVS3+11K60Cc+sS7sXNsEGqINZL0AEby3BP+FFXEjaSNYca0mqKOBbdu\n",
       "TaLRpCWld1u4QG4x3+Bezx+XmWJyx9FoQ9LpsgFdOZzgKFATT6S1O2qa9QpTrcfRmox/iUWnkgjj\n",
       "cFyEhxnF2umLCYW8WaRmBUT6g5NiHza+Kt1PI8Ib/KNqe1vnnuV6LO0DU9fvXscIvE/i4IRyUPmn\n",
       "TWazO8w3uOuqxGWZsxeZQzLXODRA4APfaBy4jel9Yn47L3mHxGCzKI7DMInrWso6tIR3CjqYMRXc\n",
       "1CmFtNlMjVpZJopNfbynfEobYHR7mKUrki9PUrB/TgczTWBGxEUSAq9iyaJcbB8kdET5n8QtjVc7\n",
       "DrOXMF+En5W5I3MuJAJmOd5y7UuZNYuSm0IgoIyDtwMG8Znsvdnu3NJOke1DDmASYeYR5zjOFNJm\n",
       "M7W+D8RjH+LihXVB121VaMtcIF5zvHb3OszQVRIcEeY1run8oHn43TpI6JBiHgQqi1fbgFkr5ovw\n",
       "szJ3Yk4G54g+WTYhmcrJ1+4UpuI8yJc3wk8iiPQw45P8B5hhr9/hADMWYCVzCmmzSE1EMZv7DIYn\n",
       "s7xpv3CWvdgvT7kT5CI9P2iW9K2DhA4N+l6q8ni1DeuoFfNF+FmZuzDn3OK0Tw3gxWy2JlVIHYdS\n",
       "hAoMIExhphcw8/ObhRk02K76jDZpRiFtFqmxqBTOfYQczAyuN8AMpYrpV8MMAu81yM4PSoyJjYOE\n",
       "jhlIzjWbxastBH00yW3YVzvmi/Czjbl0qL3dzDYbclsrgxktqSrrnMYReBZL0M6MbA9m6WwGCxTS\n",
       "ZhO16WTEqQ8VXXqS2xtsM5y6cI/DjGkk/xjMwhk6+YibyNEczCV6K2L//OvftvzHffzPJHn//Nf+\n",
       "/d+/p5veWWDH2jRebSHo1uE6Sk9D5ovwsw2Y4TPbQghfGiAoHb8LDjK9Euhw5INbB3JwGK0pRgsw\n",
       "i+ezRNssrNGRjELabKbW98EzFvtA9xgAFRykjUqfnTt6FGb2R+J/DWbYDXr5+UGJpG8cJHSMo3OE\n",
       "pfFquaC7hfketWTe5eFnGzBDJ0SO9iuVU6emWVHcllI1uCvCZQF3wBgHFEhdVOwEM6cNWoeG8NvZ\n",
       "gqfRXh511pRC2mymRp1NPDaNfaBzgcSUwe+IHc7OJjgMM/5z6fzawcxH3+XnB82SvnWQ0CGHa1gu\n",
       "SuLVckF3wS4j+loyz8PPNmBGT9gpayGYxwLMjQEFXUwAnjuCQUewBID4Z9JQj2aTZvZcJAb5+LeT\n",
       "vbGo6cGoVrtmDCgXlkwx1tYyTCkkzWZqzoWsncsj9LFZ//W0XMdOLRZe+w0yDfowzNxq8F+DmfJu\n",
       "RlmcULYPEjqiMtBgEszxarmg2zVTu4rYkHmXh59tLSeo4ycYrdXL/oCGQyRPg60Ofwv8yma5Ud5+\n",
       "L2q+e+QwzIhECP0xmInwtrNQvSijOwcJHfgd49JVGq8WBd3FhsHxMwBNmS/Cz7ZgJu/IHG63Q7Ih\n",
       "zOTQXGh59mK+2tMYY1Joqgw5Sa8cJFT/HVm0g5N4tSjoPjZsVGrcmT/tmC/Cz7ZgRu+43VC7eWEA\n",
       "r2yWY6B50h2RL0d+NcymU+PSQLJ3JCmAqc76JubbMSh9f0ecGgmNO8SWvqrZ0j3RXC9DeUT2F8OM\n",
       "w2Ik0xtgRoQ75lj372S+DTN0J9MTx93HFdI+tVWfq6VfDDOpdfcKmMnTgm63nHPkcqK8j/k2zMSd\n",
       "CL/3pK95bZHNN0/TxXz5nG92V9KRvC/o72C+w/2OH0O0942/vLQXdGm6B2Y3Jd1n4BAcQwTKWTka\n",
       "wuwy8x3u4o4TRH7ceQS6+QS8eqEPzE5LeszAQXrXuJSVox3MrjPf435L8NSnnUPYXs7x0D0wuynp\n",
       "IQNHR4ALi0izcrSH2XXmu9yHOz792nT2c9Gw5THlDZYZeWB2e0IJGTgI9pJeyMrRcDa7zHyX+y3f\n",
       "W2V17wejYYsYUM3djAB0D8xum0c+A4cAAyMDLmTlaGqbXWa+z/2OhSWG3afmv0qpFENzKUfrk50e\n",
       "mJ2X9MvlF+bQn8FwQ22ku4bhD0bDlr5n85VpWjBWPwNmtgxvIvGlMPOZfK9K1l7fH4yGLXzN9ssP\n",
       "Cx26d6IHV59/XRHEFvYmEl8Ks32oPOUykJkTPbH6/OWlN81O66xnt2nF/Bj3p7yn/B8lA7abL99n\n",
       "VQAAAABJRU5ErkJggg==\n",
       "\" style=\"display:inline;vertical-align:middle;\" /></a><br>(see <a class=\"ProveItLink\" href=\"../../../__pv_it/theorems/b8756424a59918af6ae92a3ef304e80752c273d20/dependencies.ipynb\">dependencies</a>)<br>"
      ],
      "text/plain": [
       "<IPython.core.display.HTML object>"
      ]
     },
     "metadata": {},
     "output_type": "display_data"
    }
   ],
   "source": [
    "%proving sample_space_via_bijections"
   ]
  },
  {
   "cell_type": "code",
   "execution_count": null,
   "metadata": {},
   "outputs": [],
   "source": []
  }
 ],
 "metadata": {
  "kernelspec": {
   "display_name": "Python 3",
   "language": "python",
   "name": "python3"
  }
 },
 "nbformat": 4,
 "nbformat_minor": 0
}