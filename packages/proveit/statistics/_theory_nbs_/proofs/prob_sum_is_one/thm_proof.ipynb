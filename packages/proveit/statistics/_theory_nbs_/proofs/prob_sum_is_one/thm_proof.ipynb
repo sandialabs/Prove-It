{
 "cells": [
  {
   "cell_type": "markdown",
   "metadata": {},
   "source": [
    "Proof of <a class=\"ProveItLink\" href=\"../../../../_theory_nbs_/theory.ipynb\">proveit</a>.<a class=\"ProveItLink\" href=\"../../theory.ipynb\">statistics</a>.<a class=\"ProveItLink\" href=\"../../theorems.ipynb#prob_sum_is_one\">prob_sum_is_one</a> theorem\n",
    "========"
   ]
  },
  {
   "cell_type": "code",
   "execution_count": 1,
   "metadata": {},
   "outputs": [],
   "source": [
    "import proveit\n",
    "theory = proveit.Theory() # the theorem's theory"
   ]
  },
  {
   "cell_type": "code",
   "execution_count": 2,
   "metadata": {},
   "outputs": [
    {
     "data": {
      "text/html": [
       "With these <a href=\"allowed_presumptions.txt\">allowed</a>/<a href=\"disallowed_presumptions.txt\">disallowed</a> theorem/theory presumptions (e.g., to avoid circular dependencies), we begin our proof of<br><strong id=\"prob_sum_is_one\">prob_sum_is_one:</strong> <a class=\"ProveItLink\" href=\"../../../__pv_it/theorems/1e15cb3388e92336e129e156403c6f64bd3cfbd60/expr.ipynb\"><img src=\"data:image/png;base64,iVBORw0KGgoAAAANSUhEUgAAAU0AAAA/BAMAAACWQ4eJAAAAMFBMVEX///8AAAAAAAAAAAAAAAAA\n",
       "AAAAAAAAAAAAAAAAAAAAAAAAAAAAAAAAAAAAAAAAAAAv3aB7AAAAD3RSTlMAq1RmmUTNIjK7EInv\n",
       "3XZ/CtNrAAAACXBIWXMAAA7EAAAOxAGVKw4bAAAGYUlEQVRo3rXaW2wUVRgA4H93Z3cueymExISL\n",
       "aY0+GEPCSEs0AWG1EfWBdl+aiCR0RcVA1A5P3pBdfPAF4m4kGGpExkg0GmInYJoYEljBSIJR1ugD\n",
       "EqHTQkKkWJbSGy3s+M/M7tw6O6XMmUk227OnM/3mzDn/+c/pAhA+OgCiinJ3vqfFFGXUtYLbDkEc\n",
       "qSw6x7tenO95TFeXuxP+DcTZLaCzcl+nnnL/mJUCYHKngbSTOxWAk8oSd8JykbyzkCfvTKbJO18G\n",
       "8s7wJHGmfknCTthG3JksBuFckSfePVuCcCaId9BmCMJJVQgzubFAnNFbhJ2RqUCc8AthJ1sJxtkp\n",
       "kHU2FYNxruAJJyFSMM7cArLOzozpxITSPGR/zkSJrLNHNJ1hRR9U8M3mZUrJn5OdJuusZfH6c282\n",
       "c/qnRv05U6NEmfRtqzOpmL3qBX/O8BjZLGTM6mQUMzxT7oGFrr0LcziZ22TXRlWrE24ops49sAzV\n",
       "3jfP4eSwC2kP52EyyfyozckqZWf7PagsXLzPbP/6yifFN3AyF/R3BeBZ9f11MtPRlM3JnZvVrZib\n",
       "ADuz9dLXxufb3Z1frq8N9AERdqv3WSTijE3anNCttDgbFJ2RmXqp3fi8rUF7pmrOHgFiGPPiLUSc\n",
       "iWm7M66cdXEyRrwyo2pC9HYeykAE+0aM0PResTuhZ8LFGa1/GM6aT4L3djZjQ/528eKvATmPKNJs\n",
       "Z3w0+sZQP4YCCiu5kSV7juJnC+Z2Pg/wWUBOY+60OLnrPCSeyfF6I1IwKG/APps1nRsuqscfNmcn\n",
       "/uoOoPFuUsfa6jFuZHiPU/BtpVGN9ehzOqHzjn2PgL57/AQ2TbLMqRMW/vQErBMX4Q2VvNtTdbJi\n",
       "PKPtt6iT28eL91N5eHrWxKH9Zbcam7PkdCYdmVJtZo1pQTuB2VUe1mvxquLtPImXCcs4jFhs+CYZ\n",
       "KOwECYDQrAlB+8tuNd5O+q5rBhBL150Av2tnlOZ2QnatvvTExfdl9SJLcN59vy3DHfxw8KvHM/TB\n",
       "tT+I6IyvldUarUgfw9lheFCAYyMwtJpv7EydcXdqw0t97hCdhO+wrcre/VNzHsXZgMVI3yRxaryn\n",
       "B/7KwFI4A7mWWBEvUBBSWXRugXatRi2GpIQQT1NSrIVaJdFyw3EE3XkPJysDtz9UAixEinP3T9iJ\n",
       "vSWMly4IUa1pmMEqvA37ICeyElOCvQDjXAV70EatRi3SAsv3CbRYgOiBsccaj3fGmTcyE5adLQxG\n",
       "4anDpWiLHqLcnPFJizOk3vQidcc6sq239xMcigVInbgEOQjJuvM0V4mcbl2l1ahFGP5P7saT1rS2\n",
       "ZjYqmcbx07HeoB9Qlqr1zT+pj5wpA9chP7JShWdcnaFlE4uM+KlfAXOCYp5RbwuHShL+hC9E06m3\n",
       "p16jFpM8ey0nqmpgxIgxrSSczle94+1546cPvPM60xlPCeG8pAX8pgzs4KbhkpzDHoTOgpgqYv/c\n",
       "B9+rNVqxT0yOsBInszw3lAYjiUk65nd2jvSmDWwZiYfzUL2fx5RMCie5d7FMbTouwZXWj641p9e8\n",
       "tmMGCiuvwOExiJ+QtRq1mGp/8i04PgL4CnesFhrkdbDBDPKuiQ5bP1PP1zycA471APdj737n7+z1\n",
       "LNry5HGbM2IGpYirkyvawB7Oc/eyV+hZtEWRWzanJSgtdz9hV+396hzrDrhzD4vIZsmjaN8Gm7E6\n",
       "aTMoHb6n9WJjJz3vf5t5HtGbVqcRlOiHnGnTfJ31C5Pa/pywOnu2aseb/yjKrAXdPJ2RqnO+uOzr\n",
       "n18DFidl3V/i/Tkp5/PYDb5WdLV9SuL7dTHnBQ/4e/Dr+GCcTc5+cwFEP85cOhhnwdkbN7X62rlN\n",
       "lINx3siT3VeMTwfj/JwsE+hqIE7uJmEnbHV1Dre2+3JGpkg71wkOJ65f4QgPVNGPM1Ym7eyT7E51\n",
       "/Qqf4qvqx5njSTupkuFMXdn1nLZ+hZ/x9bcf50nSTOCqhvNqqLhFTzB78TXjw8lViTvhuuHkWTmv\n",
       "r19XYN4w6cNJlck7k7LRP5sEff0KIRxHsg9nLkPeGZ00nHtB0Nav8F4WWMaHcyEEcPTXnHSpH9L6\n",
       "hqV0FR6N378zcjYIJyvX2rNj04iorV+hZxxu+BhHO/NBOLnz1u8Buq1fG8TyRt8DhFcgkOMd1HXd\n",
       "1/cAX3K/cX0U/Q8FhF6Ee9A1awAAAABJRU5ErkJggg==\n",
       "\" style=\"display:inline;vertical-align:middle;\" /></a><br>(see <a class=\"ProveItLink\" href=\"../../../__pv_it/theorems/197debbf301ffebc8d460a8e33d0198d88701f2b0/dependencies.ipynb\">dependencies</a>)<br>"
      ],
      "text/plain": [
       "<IPython.core.display.HTML object>"
      ]
     },
     "metadata": {},
     "output_type": "display_data"
    }
   ],
   "source": [
    "%proving prob_sum_is_one"
   ]
  },
  {
   "cell_type": "code",
   "execution_count": null,
   "metadata": {},
   "outputs": [],
   "source": []
  }
 ],
 "metadata": {
  "kernelspec": {
   "display_name": "Python 3",
   "language": "python",
   "name": "python3"
  }
 },
 "nbformat": 4,
 "nbformat_minor": 0
}