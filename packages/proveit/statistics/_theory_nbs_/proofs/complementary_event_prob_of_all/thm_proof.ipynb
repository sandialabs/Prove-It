{
 "cells": [
  {
   "cell_type": "markdown",
   "metadata": {},
   "source": [
    "Proof of <a class=\"ProveItLink\" href=\"../../../../_theory_nbs_/theory.ipynb\">proveit</a>.<a class=\"ProveItLink\" href=\"../../theory.ipynb\">statistics</a>.<a class=\"ProveItLink\" href=\"../../theorems.ipynb#complementary_event_prob_of_all\">complementary_event_prob_of_all</a> theorem\n",
    "========"
   ]
  },
  {
   "cell_type": "code",
   "execution_count": 1,
   "metadata": {},
   "outputs": [],
   "source": [
    "import proveit\n",
    "theory = proveit.Theory() # the theorem's theory"
   ]
  },
  {
   "cell_type": "code",
   "execution_count": 2,
   "metadata": {},
   "outputs": [
    {
     "data": {
      "text/html": [
       "With these <a href=\"allowed_presumptions.txt\">allowed</a>/<a href=\"disallowed_presumptions.txt\">disallowed</a> theorem/theory presumptions (e.g., to avoid circular dependencies), we begin our proof of<br><strong id=\"complementary_event_prob_of_all\">complementary_event_prob_of_all:</strong> <a class=\"ProveItLink\" href=\"../../../__pv_it/theorems/f87e8f8abb289107e65a98a6debcd338e63b8e5d0/expr.ipynb\"><img src=\"data:image/png;base64,iVBORw0KGgoAAAANSUhEUgAAA10AAABLCAMAAAC8wh12AAAATlBMVEX///8AAAAAAAAAAAAAAAAA\n",
       "AAAAAAAAAAAAAAAAAAAAAAAAAAAAAAAAAAAAAAAAAAAAAAAAAAAAAAAAAAAAAAAAAAAAAAAAAAAA\n",
       "AAAAAADECekxAAAAGXRSTlMAq1RmmUTNIjK7EInv3XZAMOH5++XX81B8EphGHwAAAAlwSFlzAAAO\n",
       "xAAADsQBlSsOGwAAEl1JREFUeNrtnYmWrCgShkVwYe3ZZ3j/Fx1RVECEwEwqs7x6Trc3S0XU+CAI\n",
       "wt+m+cpl1POC6h7y3Rd0vvRd8yw/uwyShX+SyyON/Ah+faExcjwtXd1DvvuCThdyyqiScnzZjuDb\n",
       "hneUCTlBsH7HZZYu/HDTzfPESEd+BL++0BiHHzjkuy/obGkFOzWB1+lVLXxbp14vE3SCcP2OCy1d\n",
       "BI79FeuzH8Gvh65fQReLP+bN6PY2tsUX0OVbv8EJ5whHt2004LIyvWOp1hRRSlvACcL1B+jqok/w\n",
       "oetedKG+SdJFNsPry0/JtsJ5PwZnY5ET96ykzGDRdKZ4G4ymThCsP0BXg+hD193pGnWXpmtcjXWg\n",
       "F4Z0eDX09WBBwm2eBRF4mccrWfw8ut6a1AmC9SfoGnT70HVzuvq+SdO1NfO8LS9drGeRW4utw23+\n",
       "AQxc5sHr00tool9vTfIE/jpOF2VVnyGVD133pqtNdV2L0WHbBfQXSrfHEL3F5Pj6zzZaXo+hZR4P\n",
       "1fbOUMgJ/HWcrpFWfobqoevWdPWyydHVCGkWwS84htz6QLuZkhVnu61hSiE2ctszcgQs83TYJVED\n",
       "OYG/PvEMMa/6EKl46LozXbHm80AXGa+6SbaDIM4IY/Pb1s5jGvgopBqyYI73DodIZ0HZ3q3TVCmO\n",
       "yBjuGD+Bv3bo8k6rSc2H2B5HXg9dN6ILaZana0Dr/86shGo6VQcJFEzKysV65H4WpoW/DQ/Gblhj\n",
       "Y/WtyFXZHudAYAMT5o4wtDcC6RP469OoRtu3FZ+i7h+67ksX0+mRhTU6Y7FH+xsVotT+dY4EkkOV\n",
       "xLJZC8dEsL/N8Eh657qyQY2wIpb7fjmJ5g3oBP76PGbIelEvnoj0+NB1W7qwbiF0tSoS0yDEsQw1\n",
       "dQ6cnZEgt8EdE32EErG7p524StcyzcX21Mv0Cfz1KV1DzyuaQaf5Q9dt6aJpx3Azur7B1j6VIoMy\n",
       "nVSQViFIBK7VOZuj8J35NxFDsK2xWQtsObyVuXGXbKN0dUun2O4jpfQJ/PXZuEv2dY1Ai4euu9LF\n",
       "tGxAdPHWTnqpwaQYTGMRFriUSsfyYKmylW0bPA644TtcdhubfEtkTMw24jgbBKdhHGYgS+Rkmbgy\n",
       "YZoRcAJ/fdJ3dbTyY6ThbXvoug1dWHMYXYOwfQeejXayiC6I3HERi66tYW8lBmV+IRZua/XIiLA9\n",
       "W5OItx/KDBATC114oqtrASfw13G6hr72Y1ThE3joug1dSHcwuhonGLicGPd0XqzNcqZiTua49o0j\n",
       "opzLrln7lW0bI0o1LcGrFyezIYQx1t9ys8zAk371WdMn8NcnuRpj/cfYP3TdlC6Re14RoxvF/FrU\n",
       "6LW5ZswV7by896ZMgFEN8W1rbyHztQa/i5U6QbA+6bvqP0cdNEoPXXehKzvsOhjdIBrez/Oz3uQy\n",
       "Yc0SNjz6ni5yFHnZSbGMXQJ4BQVDZ3hTJwjW/FMvyfaB+/DQdRe6Wk0L6WqI6rhSBqNhdZsYkeYt\n",
       "doZ0LIuCOtUkWnuDeHq4BFgaPoVe+vkJwvXH6CJBssxD113oIrmgRtLoGDfjrpxVurHFUYr2bFsJ\n",
       "NwwayTs/Qbj+GF04aOEeuu5CV69zWT78dcGJQcG3qeH1MkEnCNZKiu5jz1E8dN2SLqHH5lk+u7BA\n",
       "6emh6y50ac0e8/704g9FH7ruQtfwLoE8JKUcfq99q6n67cfOLn33/KHrJnS1WhbsnZhZ7ZvfvmD8\n",
       "ztJYyatwvR80fOi6CV1KF2CBEvb3a+g6FSd9L13NKOF4IT9w+9B1E7q4hueoolTs/rfQdS5O+ma6\n",
       "3Ez/3EJ8tfIMXa+JS1Y2xpLKrfb71Rf0Su0QXIUeJwGaNw5Iao0QojRej64X/OdvE+H7izEJcdJ3\n",
       "0wWQB9nbuL6ArpfEJWsbY0nlVvv96gt6pXYULBoxiCFLl6kSWnY+QfEDdHE0bhPYKe3Qt9PVSAym\n",
       "SxbQ9ZK4ZG1jLKncar9ffUGv1K4H0yXTs7fWbFcR3LP3Wvqfp0u03RZhSGqHvp2uVgCHXsqfTs6N\n",
       "u14Rl6xujAWV20Y2X31BL9ROaqC548zb+AFd40ks8ufp6twJvZR26Pvpanpg04W1LqHrBXHJ+sZY\n",
       "ULnNfr/6gl6onYDSlXPpArq6k1jkz9PFHcyT2qEV6OqAYadCul4Ql/wBY4RXbo/KffUFXa+d0LB0\n",
       "PZVL6Qjo4ro1MQzVcjMUNG8vLoPDnuDpnz/nAGAkJNpV61PaoRXoanpYYKMtpOu6uOQPGCO8crv9\n",
       "fvUFXa+d0DCbkjkz8ehiavlikSDtMJ1gnLM4ZomLfv5nT37uJrnNR1I71KXrRCynfOQFyzMrpcsT\n",
       "l1Qc48N4UinFx2xjy6guPiZrjF7lTlUuffvNqmU2VAihKpgHn8pFGbqC2imulCss2FFNOInNV2kY\n",
       "XWM213ejS3LO10klo7I2mZfkWxm91W4qS0dPwNi6vlfk9g9uzZPaoTX6LgZzDbpCuhxxSfvlNWLj\n",
       "WVZfcm5tSb5ZGJzCocdkm3pf+fJE5dI/5EQt07WverH6MUeXV7turokXQVfyZJCtNchLQ1mFwY0u\n",
       "enCMRnsOM8SzVTiPVEYbu1B7am88gs/akki34PbUKe3QGnRFP3ESe5BeH5enaxeXpL3bRa/6ksvj\n",
       "QgD6w4jPZbr+0n9bb7mnfHmicukfElfL/Cxd8dqtOQLEscll6EH7CF3/BTmQ6BpdZDFwq8ZLd7oC\n",
       "XjKSvt7ebuPBgnp1PBXUSGuHVqELg+Iaf/l0/U+f/dh+beKSq5KJNPdomxnvZ+GtwXzsE5sBL6Ny\n",
       "bKexJsaoMxM3EitupBoWuvg0Ft6P2bfag+fmDA3bjqrFHKea+l35cqnhCVxerpF/zJf1XXvtNlfI\n",
       "bfTm6dROjBf7rjHvP8bp4l7fRc76rpykr1um13iQ0Jk4fLeSurcuqR1aY9w1mS8G3d/CvmsXl6T2\n",
       "3hjHYH8Ne5BazvfGjAZMOzR/hc98nXC+2NlwVG/pMir508BtO2bbuh7MyRIQWnY0LVjk1VXHGLfK\n",
       "2ec5Nnm6/GNK6RqckANPbr1G11a77bOpXDjutcIqKgYDo0vlW+AEXbZ9nQdbq684NiWSvjQyjprt\n",
       "TK7jcVvSccbPGwontUOr9F2AXn+hq2zctYtLtno3BVdfcvIGjLM4TH82aWmDwZfyRc5r+V8zPQ9D\n",
       "1+wYz5Ko9phtqz2YmbIHtu44atKypDEO3kXHVS5D+x0yNypJ19juKdPHD0K5Wy/StdVuC8s70WBs\n",
       "oguUX44Z0uywa8+Ecr1P+2WSce40Z9T6uQ2Y4ysFkr6uj+s2HlbJcytpMjYSDtvd3i2pHVqHLtDA\n",
       "qziq4YhLLqEZohpXX5Jt48nJqTNZNnP4AimPLoFnurDA09Ltx2xb7cGdPee6Y0d1JCrlGqM7Zj5R\n",
       "uQwPadB4na7J0tiGSm+kHEbVqvG49SpdW+0EjlwtCcf3ZXQJCqNrQL3WW2iyQ1qg2YIHwjnqluhL\n",
       "23Vq/meBpK9zeq/xsCLUW0lHWWr/opPaoXXo4roOXVvzsaROUnP5ezh9sRe5pDpSxaJ0uX2Xe8y2\n",
       "1R48WDrsjiOLZnSfvLBxqnLZlL3jAaVrydOeb8ruar5O12aJ06V0zE8hnYddPNYBSQhdDJCMeCmJ\n",
       "BSrp69LlNh4t8ks6foc1iDCntEPr0IUhkw8v0MVn1Z12nN3cbXwxn3RA05MzljA1JjNddKPL/FlR\n",
       "O+4yniNT2zHb1u1g4/VMO9gdZ/eAAlE5V7l8P12qNy3uRBdbGlnaLX95J12DGDBT4zJxyvjiHs3u\n",
       "mGy6w/49ZEJmBOx0hS6wpC89aTw2lmxJgWc4wRd81y6lHVqHLsi9m3pYcZWufvbSlJ4z2jZ9SdIZ\n",
       "1W9j2ATjsVcMTQ0kFn03zC9qjhq3iphefG43OTehwO2Ydet68LqDXbdE4cgXlyLGmFa5rNV3TRfa\n",
       "MOn97X10TW4YUuZTCMNsda1phrQx2ek+HR80heQZtoDQRzFdJZK+9KTxWKIaTkmNd4mSHt44SYiT\n",
       "1qEL0u9PzMirdAVnA+lLWt/v2tYGEKKocEg6qqHEFs5iFJvRhsKqO2yNq/kV0TW7GmTuyg0Z6Uoj\n",
       "2MMf309XiaQvPWk8LCx7ST49WB1yBBLipHXoaiCvp6qityff0aFe3/oTdDFyCHCvdCVTq7LdxGbs\n",
       "bvpYMV2DRktv2GXy3Ajs4Q8V6CpoculZ4xHOHucVes/FSWvRBXjnLtBfqE3XgFIeS3rrj9BFcTcu\n",
       "vc6WZLD3XYnUquxiXQQ/fayYrqZfA2Flz/VsJ1aXrtxCzxqP8C6TF2b0K9ElAHeG+B7EH69aY+3N\n",
       "TTLY6UqkVuU7r8WS/PSxcrrgIS3QwwfQVVPPkJ41Ho1/n/FlrWolpahDlwRMeNFHcc0LRi3jJC/J\n",
       "wBl3nadWAZ7zPMb30scq0tVpwBAWwR5pgW0XaoumdmUn/6617LqisNdoJOAG9+9SCx0V5r+eLps8\n",
       "43v5Dl17tgEzbbr8+z/+aZZ/zf/+95bA9vd/mL/855/7RrPMIVY3fawmXSAtXhhdbcFLW79bW9T6\n",
       "kDAVEwhd4k1K18ZO6O+niyyZc/iErvPUKkBv0psuwE0fq0lXowFlQDzDqNzSL6drOPm1jtAw5OUt\n",
       "iGcYiPlfpot+8Isbb6Rr0evzkwx2uhKpVfkzrsm4e/pYVbokIJeAQ85D8d3oCoRFI7qiELldQFRj\n",
       "eNcXhubpjN9P1/Iuh59ksNGVSq3K291Sips+VpUuBEiFUoD5rmEzEIjEs7m4b5QWTQqLHnVFFWA6\n",
       "A5AkH0r8XKar4xjjX08Xs12T997ISlcytQo6ePHSx2rSpQDTyZDZZJtozhDpwfH7r5MWzQiLHnRF\n",
       "GeBSAfdXBRNMf3jMcM0VGVxHd6Yrl1qVfb7jGkVy0sdq0tUBQvItwHvcd1Fgur5OWjQjLHrUFc0/\n",
       "ZAaYmkVBptkfTteWDOomGXz23eSrCwMEDQGvJo87UuV0fYu0aFZY9KArSmj+xuRDHzK4Y380XbSN\n",
       "5jj9TrqmR5svJO/dKNlcp+tbpEWzwqIHXVGVDbcDMqBZOOf4R9PFlWreQhf/Bro4IKwhs94j6l+g\n",
       "6zukRaPComwRTLDqOAdd0S57rYAczTbM9Xy+3/UGuvBX0NUB8njzgmuUXqbre6RFI8KifFE7tEZ9\n",
       "0BXN6zwCZuLDYddD1yW6lpf9GSUtRicKAD9PVyPyDwxngXFEPEro+qC06NH/iAiLju0i2IuWxuOg\n",
       "Kzpk6wYQTTg8gIeuC3StL/t3/bJzTAHgA3SRfLx9zA4eJInStSSC2WU80lVdWtRTIfYTIcnRQ3NN\n",
       "flG6taJSVlnqoCvKcnQN+aDGeHAeHrou0GVf9m86tOSsuAoAH6SrA8SMs1OiF/uu6tKirgpxIC16\n",
       "UBaNCovOI6vVAeyOfdeY6/Wzj0gdmq6Hrit9l33ZvyOWrogCwAfoakQ+z5SIH6CrgrSop0IcSouG\n",
       "HkNUWHRWxF5Dgwdd0ewTQPksw140D11vGHctL/szJMfOeFJHBYDP0KXyA5vs2AfRN9F1Ii3azUlH\n",
       "5r8SadHGUyGWyzNYCzooi0aERS1yK3cHXdFszBDiGPKHrnfQdb3mVemCSD/ITODOmfjhYJ0AuLSo\n",
       "EQRjc4pMkbSop0I8S4vuBR1emYkJiy6Sbd06aXHQFc19kTMfDmrQcZeHrjvRBXizP2cmWyOOkNA9\n",
       "wgC6SqRFB2acMqPAVyQt6qkQzyPcvaCDsmhMWNQM1rgi630+6IrmPsiT16BnkabtoetOdEFy4XIZ\n",
       "taIobF7+BorB0GjJFkmLeirEVlp0LeigLHouLMpXkfyDrmgmz7CDxDSGh65b0wUZKuU6L8Lr0mW6\n",
       "DTEWSot6KsQWprUg3zM8ExY1YLE1b/6gK5rLkad5lzv2qtJDV8RidLVvT+rKdNkp3PTlpXcpk5i8\n",
       "QNdovxZQIi3qqxBLvyBPWfRMWNR84WD1Xo+6ohjB3OXCdu2h65de0MnS5ksaRXoX1FalqyV40ckq\n",
       "kRb1VYjp4BXkKYueCYu2WG2B/KOuaEZ5RwISeHHz0HV3ugCvUthQwLmhVNXVYMOmLVAqLbp3Jdwr\n",
       "KKssGgiLHnVFM7oaHJDASZuHrvvT5X0yJRFYSPUuvCJdSM0JZJDlHBrTPe0FXVcWhWlCAerbCXYj\n",
       "uuYF1T3kuy8o4fgB5oDTnk6BnmGxtmiHFRTehM1PbuJW0FVl0V1XlKS/rNHnb6g81EEujzTyI/j1\n",
       "dQvDePl4XtVDvvuCEvYL0X0am+9fgNKilbWTGAAu1kW6xXmJ/Nh+/R9x//sKGvLmRQAAAABJRU5E\n",
       "rkJggg==\n",
       "\" style=\"display:inline;vertical-align:middle;\" /></a><br>(see <a class=\"ProveItLink\" href=\"../../../__pv_it/theorems/ca19b5953480c64b45f99548e150de3d6df58db80/dependencies.ipynb\">dependencies</a>)<br>"
      ],
      "text/plain": [
       "<IPython.core.display.HTML object>"
      ]
     },
     "metadata": {},
     "output_type": "display_data"
    }
   ],
   "source": [
    "%proving complementary_event_prob_of_all"
   ]
  },
  {
   "cell_type": "code",
   "execution_count": null,
   "metadata": {},
   "outputs": [],
   "source": []
  }
 ],
 "metadata": {
  "kernelspec": {
   "display_name": "Python 3",
   "language": "python",
   "name": "python3"
  }
 },
 "nbformat": 4,
 "nbformat_minor": 0
}