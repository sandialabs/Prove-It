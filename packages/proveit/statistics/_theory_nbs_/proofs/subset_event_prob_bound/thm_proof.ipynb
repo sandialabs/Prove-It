{
 "cells": [
  {
   "cell_type": "markdown",
   "metadata": {},
   "source": [
    "Proof of <a class=\"ProveItLink\" href=\"../../../../_theory_nbs_/theory.ipynb\">proveit</a>.<a class=\"ProveItLink\" href=\"../../theory.ipynb\">statistics</a>.<a class=\"ProveItLink\" href=\"../../theorems.ipynb#subset_event_prob_bound\">subset_event_prob_bound</a> theorem\n",
    "========"
   ]
  },
  {
   "cell_type": "code",
   "execution_count": 1,
   "metadata": {},
   "outputs": [],
   "source": [
    "import proveit\n",
    "theory = proveit.Theory() # the theorem's theory"
   ]
  },
  {
   "cell_type": "code",
   "execution_count": 2,
   "metadata": {},
   "outputs": [
    {
     "data": {
      "text/html": [
       "With these <a href=\"allowed_presumptions.txt\">allowed</a>/<a href=\"disallowed_presumptions.txt\">disallowed</a> theorem/theory presumptions (e.g., to avoid circular dependencies), we begin our proof of<br><strong id=\"subset_event_prob_bound\">subset_event_prob_bound:</strong> <a class=\"ProveItLink\" href=\"../../../__pv_it/theorems/4563a6b764d66852f61d8db5085e42bad4cf60da0/expr.ipynb\"><img src=\"data:image/png;base64,iVBORw0KGgoAAAANSUhEUgAAAdoAAAAfBAMAAACymBEvAAAAMFBMVEX///8AAAAAAAAAAAAAAAAA\n",
       "AAAAAAAAAAAAAAAAAAAAAAAAAAAAAAAAAAAAAAAAAAAv3aB7AAAAD3RSTlMAq1RmmUTNIjK7EInv\n",
       "3XZ/CtNrAAAACXBIWXMAAA7EAAAOxAGVKw4bAAAGjElEQVRYw+WYb2wURRTA393e3u7t3W2vilUk\n",
       "2IsmGCXiJXcaDSKHWANU4QyJYjRYosaAf7h+Msifrl9MTJBeIAQOTHskRkMUelA04MVSQEFjJI34\n",
       "gUQON8VIEKhtKQWLcL43s9fd23LXftgPxU4ycztv3u3Mb+a9NzML4Fyamk/COE5q/hcnX9cA4zxF\n",
       "xzetVF4wqhklS56StwBt980FEva0dDS7DQ8/LjUy0obo5z6HaF304444BevOSlML1ZM3WQTsx9uL\n",
       "NPZeGn/vq06bwumYHy9UVy/XmCpTj0IdNb3pEK0nQWNxLFZ9BiD3AaxpsAgoPYy0sMLUm8Z6bA6B\n",
       "dLQoUth/fgRwXeWqKxjtB2QZKYdoZbKUVY4Z8lwcGtIK1ywCSnOuYBEbVpu1gP00Yeezs4bMQ2sp\n",
       "3QAQB7hqjNF6MwD+sFN+SzO41zHaTk4rX7cIMPlX43pBIGMIL34Dw7TNXYYwQIWAesINrko5CgJO\n",
       "gtexKBV1Mli5GzitOGgRYFqn9pPDcB9VvtXBpH212Pk0Klxo8d5jXJUyju7nfP4nx2gD+fyprFO0\n",
       "niyn9feLb3d/neQCTHH3JVphFl+V54YDE9EeDL9wfDpFoXq2wClQpmpclTLSzgPY5hitRwMfszDF\n",
       "1hYvPmTG/j5aDqRVLkQg8FRTpLicYlgmRxZoGZUa0wmRdvcRgO/up7l4jcWtlp6aiKEqcMtrBAmx\n",
       "1fZYcZLUnv325VFay7XYaPFVjez5S41KubV+31ZWL8ZB5QcsDqTTWwA+GsjNt2r50+l00jqQIJJI\n",
       "13Md+BPsUgwBzihbcHAzJ7bS/paj7TjPJpQdEv9OgvuIoUoZaX0ZfwIUFM5H+YbJm3GxPSE7SBMr\n",
       "b9ZiO11sg6/Y80E+ilkAF0po/ehyOxPsUegCtdPUUjaz2TAGwgwR9aR/+DKHigKAc0/PIaHcyw4a\n",
       "FkvmfSxj5fdUfEID0bgqZaR16xikfDjSKh0883jgG8HUVgyJo9HO4EFKXM9jxyTcFEpolxwH2MIf\n",
       "XXEQek0tH9s0jYGMoI0P0yrYSkFa7LRHKd7H6yYtmcBsnauKnUYMfRLfg28LpuAMm5wMJKX2Oth5\n",
       "csbd0Ttg1YnzC4i2vYe1sOrqWALUjjtJ1j0zYqX1CqxzlS8GHAblRAmtvgwkwxsCYdgVMbVWcyEf\n",
       "iGnJBm22KEBDBjhF5tll34H4395iJVmyTA5cm+CqlIl2L26SPtSsyipMf+31OnBlA0mpH5bDQyBf\n",
       "gT+R1hv2RKiFVafAMdgH9Sh7JCvpVlr/NBaGdA9bYulGdI5mpVXhGXAbrtZ0JnYXmFr3smc+EK7g\n",
       "0220JIDFmFeSI6TspwsrbQt1hocQedBQpUy0a3AZ3GhSzUmRT/WGWl1K+iLSEGyH9SB3QlWiDZpB\n",
       "TFELq74Hm5Qr8D7Ktg48WGLJ0iFmyBr3SHTNHXEr7RJ0UKMX9FZlEphai/mWygZi+HjIGC2uarwo\n",
       "kOjFreZ2xDZXNqPNfK/9lZV7aIpQ9ZUVxlZGmWhdpHs7wEIQlqfTGzGkoUefv6hLvXAPpw1E2uCJ\n",
       "aDRBLayqdpwWcVgke6mQKLkDseXy5PYMGa4pXbbS1udqM4rh+4jalDC1dnApGwhPchdINYUpNHu1\n",
       "h8JcoLQOZuCBAi5gMGG7FazsI/7n/72Nah/ja1v7qms2srlK8Fy88Ul43k5pMpsuHExXMOL7y6Tl\n",
       "a8tbWPUEtHyOOCiTM0LDyBufDtJVwzXFqxZaFQG14tHyMB59NFOLH1/5QIzXnLTHQatgbcW9OqjZ\n",
       "VNda7rd+NenWsvyYcRl3zbZMsAdpW4h2CM6h3/oiik4tVFWG4LS+HXajrDs+HIBMWrLVfvgC0TKw\n",
       "y2rJaK1VYfDsZ1xDoKDVmVr1mjkQnmJ2hljplaFCEuI21bkWWm8hoRaysIo6rMvlQJ372Ls7BoSj\n",
       "L9Zm5Usz4sqiOOR6WAtV4Y/oh7q/Q0eZe+HM5AjaZ0Pw6WBifVhYmdu3EUxazyFQFr0B8DKdLh69\n",
       "lpuPy2lqiXjoSBoDMcKU/e5oEfB7m5JnSRuJuwVKVJm67duFciC92f43ubNStdK3C+vNqvydssL9\n",
       "S0mVF/hGuUXvLJ0jpj6GLzX8zFKuWoFWzIyFVqx0cF5XXnB2tE9aeonq2TF+l2q8VqlagVaAMrST\n",
       "0+ycbNNypdk5+Zb55vhOhe/J4+BLs5o/AhM5bZg5gWDlkG8C0fq0iWTIwYwygWjF9uj/mu8/pucC\n",
       "DF7lsLoAAAAASUVORK5CYII=\n",
       "\" style=\"display:inline;vertical-align:middle;\" /></a><br>(see <a class=\"ProveItLink\" href=\"../../../__pv_it/theorems/06b0f87a3e1952056bcee941f004a52db0d1eda80/dependencies.ipynb\">dependencies</a>)<br>"
      ],
      "text/plain": [
       "<IPython.core.display.HTML object>"
      ]
     },
     "metadata": {},
     "output_type": "display_data"
    }
   ],
   "source": [
    "%proving subset_event_prob_bound"
   ]
  },
  {
   "cell_type": "code",
   "execution_count": null,
   "metadata": {},
   "outputs": [],
   "source": []
  }
 ],
 "metadata": {
  "kernelspec": {
   "display_name": "Python 3",
   "language": "python",
   "name": "python3"
  }
 },
 "nbformat": 4,
 "nbformat_minor": 0
}