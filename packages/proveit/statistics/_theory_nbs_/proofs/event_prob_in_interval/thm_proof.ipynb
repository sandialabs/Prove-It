{
 "cells": [
  {
   "cell_type": "markdown",
   "metadata": {},
   "source": [
    "Proof of <a class=\"ProveItLink\" href=\"../../../../_theory_nbs_/theory.ipynb\">proveit</a>.<a class=\"ProveItLink\" href=\"../../theory.ipynb\">statistics</a>.<a class=\"ProveItLink\" href=\"../../theorems.ipynb#event_prob_in_interval\">event_prob_in_interval</a> theorem\n",
    "========"
   ]
  },
  {
   "cell_type": "code",
   "execution_count": 1,
   "metadata": {},
   "outputs": [],
   "source": [
    "import proveit\n",
    "theory = proveit.Theory() # the theorem's theory"
   ]
  },
  {
   "cell_type": "code",
   "execution_count": 2,
   "metadata": {},
   "outputs": [
    {
     "data": {
      "text/html": [
       "With these <a href=\"allowed_presumptions.txt\">allowed</a>/<a href=\"disallowed_presumptions.txt\">disallowed</a> theorem/theory presumptions (e.g., to avoid circular dependencies), we begin our proof of<br><strong id=\"event_prob_in_interval\">event_prob_in_interval:</strong> <a class=\"ProveItLink\" href=\"../../../__pv_it/theorems/d7b3a2181367ec603086f2fee0e1b42b22c802a20/expr.ipynb\"><img src=\"data:image/png;base64,iVBORw0KGgoAAAANSUhEUgAAAZAAAAAfBAMAAAA7AIZGAAAAMFBMVEX///8AAAAAAAAAAAAAAAAA\n",
       "AAAAAAAAAAAAAAAAAAAAAAAAAAAAAAAAAAAAAAAAAAAv3aB7AAAAD3RSTlMAq1RmmUTNIjK7EInv\n",
       "3XZ/CtNrAAAACXBIWXMAAA7EAAAOxAGVKw4bAAAFkUlEQVRYw92Yf2wURRTH3/3cvd27bYm/QMRe\n",
       "NDGBaNnkqtEU9WJTQRrxEhON0WjRPwxEZfuXqYCc//AXtqekwaNKt4nR8A89qRramtqGikZjbERj\n",
       "QzxcK9EA0kKt1B7U882bvd7uXnvl4sVi54/dne/c7pvPzHtvZg6gfGVVWoPFKUr623J+rhEWr0QW\n",
       "HUQoIgiFIx+3C+dGALSrA2S0iOAzHG1yzPnrjwCe5iCV7HZrmUBc7OZWS3jHnRJWZZet2GsRADwd\n",
       "lw3pp2Nh+GUOkL5TuUh8XScQRSWQeiY9XyYQLxsxfykh/x6AeAFgR6NFAHBNAKzGz/j1AhB/WPqB\n",
       "nqVrt3EQ2EogrzFfTJQJRGTz21zKO3VoHUE8lywCsk2DEMW7J1oAci9Aj1kbN0FqCIRBy+FyxQgb\n",
       "nMOlvDPAQcQZi4Blm9ZJ9y+5eDqdbjRB3gBYq9tBgjoD8aCH+csW7JESY97dyEF8Fy0Clvs3UuzC\n",
       "c3R97Ex+RiYBWsN2EL9Khr9Op78qG0gwnf4xVcIr3hQHkSd8L4x+rHGBDfIFPuofUBbemnctiYGo\n",
       "dhC5kkA2AOwvG4g3DgFbgEaLv8IGE0Gk31UIPrBL5QLr29+8/S6wZQ85JmAwtRp2EA93hSYQkEjp\n",
       "rsllTWXsiHNQpY75Whwg+KkmfFo9rbkGae3iacTdsQ9uWo4dSSaTmtVWCL1EmOnrx1toWDIFlrbM\n",
       "mLmdQMABkrKDuAcIJKCj50lHAR5CrWVFG06Rt9LZx110navFsSDup0/DEHj5MJr5MBiF9TgebTQq\n",
       "pi3SMV8L03xyKnMClvVV/N7KLnvSWBKmayHIM44ZEc8TiNtA4gB2osIA7waeNwq625XLKAuBVPNY\n",
       "H9d7wQqiZGS0GiA401YBSDQP4o238hefYpeD1vSLMbLWEey+ATPL3EcjBqEEX0k366AJ3fVwcKT6\n",
       "xsh10Hz87EYG0j1GLVTdXhMDpf8Gpo3WqlYQv4e6GGzQbSAwxMC252aH2cq7lgmSglnXOgKhKRLv\n",
       "IM0KksSU5ki/7mEOchiTQgA/XJGS6PM7Z+rBlQpqwgRswS+JU/ArgvjDXpW1UHUlfA4fQgNqd6YE\n",
       "wwoi30ZWlL/ADjLOIuYWeuS2uBwwHCBMACWWWyHvoY8ZFpB1AA+CZA/2BAfZge7iRjdr1Xx8cFuq\n",
       "DEELqEIG2mEPiANQEetCb/UlWAtVX4a90hS8gtpbk2tsriUMcotDDpBPmOM8yiOfbJk9Q9siX0NC\n",
       "0ZwgteNDlgakgZqetYCEwtIX0EX++6nGQVjKZiAuNljXAGwCz5Zk8k3QWfScPWcI5+FmDhJUu2Bd\n",
       "JBJjLVRV+k/6sDtMeyIbs+1+l9Nj77jdteRDGbzy1Zrb4kUcBuH67Erm6FWDYS6Ib1+Ow+7sd6z9\n",
       "e/pVZ5s+CyI1/ByH0AmsLPtms0ogoVh+Gy/gXi0RF2l2cUyGQ2rgTB6EzwhvoepxOPB+hnKKqHsa\n",
       "C7fxsh6M2kB6gU0R3wpxW+YvR5wZwyYIw/z+5DuzWxRe1li28bDTch6RFc0dT/GV8U9cDbr00BiC\n",
       "HGAgGTiNMRJQJYO1sKqUgZNGOxxCbTQ66z0WkI2YpqwgXp0cGhrieVu81DhBbIJXnec8krKC1FlA\n",
       "/NmYkk1BMzNU39cHSt3dL3VOeo49XpUS/6iOSo9EoW+MWlgVTkV2G3K/gZp7U63mBJEePgGdF9U8\n",
       "yLtpXapi2yZfDy6Ipi0z2p17fpvQPM/BSjIsILR3d5wQpZ5km3OIxIFi1YVOiAsdEKREMWHfPCCK\n",
       "9YRI6Fdw1GXr5vzVfwsCrxYRFOd0yQVn9s8AfrvCM3vTpWLVkkBcSdprXfX/orw4x/9a/80/XUr6\n",
       "KCzR0lK7NDjEysDSAAnEl4hnhXRpaYD4uiP/167/A1tjxTSOIUJRAAAAAElFTkSuQmCC\n",
       "\" style=\"display:inline;vertical-align:middle;\" /></a><br>(see <a class=\"ProveItLink\" href=\"../../../__pv_it/theorems/a65ca11acd75f213b348c4656044bccc311cde6c0/dependencies.ipynb\">dependencies</a>)<br>"
      ],
      "text/plain": [
       "<IPython.core.display.HTML object>"
      ]
     },
     "metadata": {},
     "output_type": "display_data"
    }
   ],
   "source": [
    "%proving event_prob_in_interval"
   ]
  },
  {
   "cell_type": "code",
   "execution_count": null,
   "metadata": {},
   "outputs": [],
   "source": []
  }
 ],
 "metadata": {
  "kernelspec": {
   "display_name": "Python 3",
   "language": "python",
   "name": "python3"
  }
 },
 "nbformat": 4,
 "nbformat_minor": 0
}