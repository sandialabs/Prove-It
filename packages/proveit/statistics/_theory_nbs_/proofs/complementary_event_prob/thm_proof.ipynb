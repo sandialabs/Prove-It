{
 "cells": [
  {
   "cell_type": "markdown",
   "metadata": {},
   "source": [
    "Proof of <a class=\"ProveItLink\" href=\"../../../../_theory_nbs_/theory.ipynb\">proveit</a>.<a class=\"ProveItLink\" href=\"../../theory.ipynb\">statistics</a>.<a class=\"ProveItLink\" href=\"../../theorems.ipynb#complementary_event_prob\">complementary_event_prob</a> theorem\n",
    "========"
   ]
  },
  {
   "cell_type": "code",
   "execution_count": 1,
   "metadata": {},
   "outputs": [],
   "source": [
    "import proveit\n",
    "theory = proveit.Theory() # the theorem's theory"
   ]
  },
  {
   "cell_type": "code",
   "execution_count": 2,
   "metadata": {},
   "outputs": [
    {
     "data": {
      "text/html": [
       "With these <a href=\"allowed_presumptions.txt\">allowed</a>/<a href=\"disallowed_presumptions.txt\">disallowed</a> theorem/theory presumptions (e.g., to avoid circular dependencies), we begin our proof of<br><strong id=\"complementary_event_prob\">complementary_event_prob:</strong> <a class=\"ProveItLink\" href=\"../../../__pv_it/theorems/2116ba77b1fe956931aae6d4a54eec0ac1fed40b0/expr.ipynb\"><img src=\"data:image/png;base64,iVBORw0KGgoAAAANSUhEUgAAAfAAAAAfBAMAAADq54I2AAAAMFBMVEX///8AAAAAAAAAAAAAAAAA\n",
       "AAAAAAAAAAAAAAAAAAAAAAAAAAAAAAAAAAAAAAAAAAAv3aB7AAAAD3RSTlMAq1RmmUTNIjK7EInv\n",
       "3XZ/CtNrAAAACXBIWXMAAA7EAAAOxAGVKw4bAAAF1UlEQVRYw+1Yb4hUVRQ/8/fNe7MzOyVlZrJL\n",
       "Rh+KZGrWCJRtbC0M0Z3qkyzoEkQoWW8hCEmbMUKCpBlaFhxBfVYIfdGH9gdZWFf2Q1AE9ufDIo3O\n",
       "roLh1u5aZqjpdM69c5v77nvOjDRgtl04c+eee86553fvufee+wBaVxaVTLg9Srz0XSvN9cPtU1K3\n",
       "FLjWkCEXsxkLdURMiW4x8MmGDLmsb8ZCHZH1EiHwBFWLWwTcR5U/2aS839YWVe5YMCgxkNZO3+WW\n",
       "XDkcyMSTHhYAIieVFXbbrOkLQuBPU+/LLQIezGAVbvaIO4BeXwDY2i8xtI0WHNikSu4FYx/AJi8L\n",
       "+5+5ojBdNmV9QSnYTpNUaBHwCMXPlmble3BkdDJwVWLEvgIwLimCwTTA4wBdXhYgrgJ32ZT1BaUg\n",
       "bAFEO1u1x2kyDzcrP8qdjFyTGDPoI3QoQd2eYzuzzfKw4A3cYVPWF5SCAA4SbtnhlrqJM87fz50M\n",
       "XZIY+wjzTMIpuQGZ76KbSQ8L3sAdNmV9QejoN6XS1y0D3lYq/Wg3KR60uZPRX0OvTH5ucsZrDLiy\n",
       "9Q5dzVEVTXhY8AbusCnrC0LgqwB2twx4MAe6FJDpeuI08eik8XMS2p7KVlfiGDnaW3ZKBiqV+VSx\n",
       "WFpTovKtsOAJ3GlT1heEwAdAwxmIH+kSgTQ99Z7q4yezN+pRgKOpAfwXGjnzE3GqK9c33Z2DaLFY\n",
       "NOVxYniyaNeGR7CKnTCqjCyBO61u5oP7/qSwHVXYpOABXLUp6wtC4LoVzYAxBvAs9r2/YAgXbYUr\n",
       "+2HAvXrUBGY3fIa/SyAyWwPuL0MejCH6K8ah0oZ3n3aZL35CMKIIQ7vO7iG2suNV4V7s4zalQgpV\n",
       "4MZmJk4h7bIp6wtKkVt4tunodHsZghj3bcDzELkYbEivHhX4EvaLU5qoAWd6Orvdq+O4gKf/dvJ7\n",
       "hKIcjwHaprhyodEbA5dXSbUp6wtip3A39qNUrABnSOFeTG/f7MoYe96e+OjRjLan+1MLgUe7y9TD\n",
       "mtoRTHumJkw4Mg2Ty5Iy8HCAYP1WzYg58PYkWeSu8nFqoV510hYMawfWpjMF2o+Uxej3n1D2+A1C\n",
       "XbUp6wsi4Ifx8tXRmXbbIJe00z9kYCF8CdnOcAFl8ma8H4G/CD2sh5o+u82MpoN2uDO41NbKMvDo\n",
       "g7Q/Zy7z2eAQ4xXMIO9nf/k4XFwvK04Sw/ZZ8Do4L4ZHkFbTyqt5Fik0AE4isr4gAr4Vo9KPsZw3\n",
       "Q8zdyMR1eAMGcZJ0OzIKOwF+N2ZxX6xjPdTUTD15yNSsPIR2XXzIEeracbY1HrggAYcPexPwAt/u\n",
       "bBzOpVslwu/bWFow5j2cg77Fzttgjc1vsqB6UTJu9A81ZVVtyvqCCLiPToR5AGshsLFY/ADPwjzE\n",
       "R05BFnxlDnzMmA2MpZayHmrC1C/lDai0PJXKrKtkHK+zewg35gwScAtCsyzexDhVB0+AdndlIV0C\n",
       "Hcc7OQOOVTrhyYrzOks/t+JOBiWjQkQF332X5jkX3GVT1hcknqUa5vKFXISmFM+vGB4xe60acL7i\n",
       "vIeasaR+njZNHg1bgX7Xs/R5kbAz4KFOegzwtJiPUxUbV0/H8fp5wja4SQVFZJtEAng0bvpzNstk\n",
       "2jMwYFyBU+UsbhAEnrfiBdzjg3CQeljzkBWb1m2jrCeNyTQUXMDx0ptfAx5MgA+je3WuNg4vrkdH\n",
       "V8NHzc0pKCI9Egng4UomXrFhCzoX7Bu24Wxqx/mO9PKXBq5C/rGz8PFFiI6UWQ814z1PvArD04Dk\n",
       "X7vMdAFftXLYlIC/s/oLWvijmMBUx6meTer7Va/7oPV4Q+qNX8A1EdIXpH6BMY4Wh1TNnXWb9b/A\n",
       "1H/uGoVGjEYojcbv6ZoI6Qtq5tNTvm7znwCHtxoy5HKuGQt1RM5J1ARwrcOu02weuK/IcvX/5FfW\n",
       "za7v6v/W7+zx0hj8X1hGcMaem8C3Q2FuAt81V0P9JFhzE3hfKjlXoP4FyDf7KxAdKz0AAAAASUVO\n",
       "RK5CYII=\n",
       "\" style=\"display:inline;vertical-align:middle;\" /></a><br>(see <a class=\"ProveItLink\" href=\"../../../__pv_it/theorems/e41d707bae551b3eaa8692906ba19d4f9ed8b1320/dependencies.ipynb\">dependencies</a>)<br>"
      ],
      "text/plain": [
       "<IPython.core.display.HTML object>"
      ]
     },
     "metadata": {},
     "output_type": "display_data"
    }
   ],
   "source": [
    "%proving complementary_event_prob"
   ]
  },
  {
   "cell_type": "code",
   "execution_count": null,
   "metadata": {},
   "outputs": [],
   "source": []
  }
 ],
 "metadata": {
  "kernelspec": {
   "display_name": "Python 3",
   "language": "python",
   "name": "python3"
  }
 },
 "nbformat": 4,
 "nbformat_minor": 0
}