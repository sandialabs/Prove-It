{
 "cells": [
  {
   "cell_type": "markdown",
   "metadata": {},
   "source": [
    "Proof of <a class=\"ProveItLink\" href=\"../../../../_theory_nbs_/theory.ipynb\">proveit</a>.<a class=\"ProveItLink\" href=\"../../theory.ipynb\">statistics</a>.<a class=\"ProveItLink\" href=\"../../theorems.ipynb#prob_in_interval\">prob_in_interval</a> theorem\n",
    "========"
   ]
  },
  {
   "cell_type": "code",
   "execution_count": 1,
   "metadata": {},
   "outputs": [],
   "source": [
    "import proveit\n",
    "theory = proveit.Theory() # the theorem's theory"
   ]
  },
  {
   "cell_type": "code",
   "execution_count": 2,
   "metadata": {},
   "outputs": [
    {
     "data": {
      "text/html": [
       "With these <a href=\"allowed_presumptions.txt\">allowed</a>/<a href=\"disallowed_presumptions.txt\">disallowed</a> theorem/theory presumptions (e.g., to avoid circular dependencies), we begin our proof of<br><strong id=\"prob_in_interval\">prob_in_interval:</strong> <a class=\"ProveItLink\" href=\"../../../__pv_it/theorems/7e5343ad26c6a0a2d8a3da97c17ec3f810803fd70/expr.ipynb\"><img src=\"data:image/png;base64,iVBORw0KGgoAAAANSUhEUgAAAVwAAAAdBAMAAAAUS8liAAAAMFBMVEX///8AAAAAAAAAAAAAAAAA\n",
       "AAAAAAAAAAAAAAAAAAAAAAAAAAAAAAAAAAAAAAAAAAAv3aB7AAAAD3RSTlMAq1RmmUTNIjK7EInv\n",
       "3XZ/CtNrAAAACXBIWXMAAA7EAAAOxAGVKw4bAAAEyUlEQVRYw+1Xb2gbZRh/klzuLnfNtUMRuyEN\n",
       "6CdROJfOP2zUaNUpYjkQhFHROBFxiF4/ybCazA9+aTXBUmyEjhOLMP+s5+oEKYuRIoKiBv+ACJnX\n",
       "riK2NtY5na5s8Xnf9y53uTSXCflgxQeSJ8/vufzu9773vM/7HkDHbO3b4LzQCtDbMiEgXMQd/pEd\n",
       "b5NfagU80J7pOEQt6npIdGVn5AZyhU3hitq23gkPYP9Q1Ga5cnGvE71gUOQUTdxOkEc7IzeQ63UA\n",
       "8VeA0bQHsO1As9z98DarEenSJ5lcnrpDpIjynZEbyDWIOZQb2fAAtvU3MUXKIDtEvzC5kRRxRLSc\n",
       "6IzcQK4Skyue9wC2dRnM/1SppBlTrAfC5xrlwid0HFg4fIeWWhBXOM3kRv/wALbxrHjvW6kzdadA\n",
       "PO2T+zB1n1Uqn3aqMwRwcSaTK5+OPr70ns4Aqbp97BhidI0KB1ymWZT7m0/uO9TdCfBKp+QGcJEZ\n",
       "RLnSzyp03ZpRGcDBonUPliWdaF53mTImiBd8cq+nbgQEHJwy1++0k+rqmP9eR9ZbZRrlMi7XPKxx\n",
       "rGnh/HwRXbws2cANcLNxCdYFLWMeGuVu+OReQ13MkDWQFgDuQujF3kkuC7c07T9U7maZRrmUi5m4\n",
       "WNAcVrqcMCH8xSa6xwGycAe9ltKPV9DydjGYEPXPbo66sIXDiuHj6LaAw6fZBRDyK5Eo32aZRrmU\n",
       "i9lt2Tprk9yUAwB8Tr6idHaPeJhwqYX9S+1+5tID+F9kiOfpzsFvx/356X5Nmn5u8bXrNGF64F0D\n",
       "5coDFsnQUJjDDWF1UYe5KiztVj1bJ+GC6t5lne5UNqtbDLZc0wEgehbewFGWKeCRG8tDxN/IrmXu\n",
       "GK5ITEO3KRFq4fuvNdgBH0MmweeRKKcraZS7HwZphoQhs0uXU5zJJ7hdpmB55BIuRe/lE3SqGCvL\n",
       "xiyfXASkyVAJMIjQISmWpyWWgEuD0SD3JuZGsZTC+LRzelRlVXcBnoIJyBgxUyzBOMDv0jqW1z6a\n",
       "IaGgx9RZXTByEJ06c7X3YEK4InBYhHtpa6WsLEualch6bjxlA+E/Z0rRBOtpQDZel+lLeCsrscs/\n",
       "0Bn33cyFsMoA1+cQRB4rFF6SSFErxZOQgZDF5C5I65GF5C6aISGsrlkP4p/2JJPavprmkUu54Cx2\n",
       "nUKhkGCs9tIrg3BZbQcpgL4PEwyQhqyrdhL9jOLVSaPONFO8HKBC4m1fPKRS7m/co5qA5418ViSj\n",
       "DJEq+goOG65cNrssQ8K4GlvJGHStikYk7T/2iSUBxlxWG206q7rAM7YfnnY2YXvjMzzzLZTdhKzo\n",
       "4axJe3y3BiPSOThpZbC8UG7OUPJYuxNwlGRoOGvEqzFTsmKqtJSCvE/uqJzmsKW5rJufYzzAYIvz\n",
       "ruxFONVN8DVNqZlwEKeCG543YTn5/Epfas8jIxuQ27kMM2fwAGrRDAmVwRufgPkq4Cc8tFv33YT7\n",
       "obgCwpTLaq81/0tDHWg6xDlMR73IweZzu/R+YdI/CeOBYct3gDcLBa2R2y+qDjQNxGGyvMjLF/HC\n",
       "wjaTgNBjJ9q8ST3bCvixLdPaR9geqWtnQp8ZEP5v/10TT22pR30I8ltJ7tTWKobvwNhKcoeT6r9b\n",
       "4N/SRbVvNWQq1AAAAABJRU5ErkJggg==\n",
       "\" style=\"display:inline;vertical-align:middle;\" /></a><br>(see <a class=\"ProveItLink\" href=\"../../../__pv_it/theorems/e8371bafacbf5b0fdeab5c7bcb5a87db2b4dde480/dependencies.ipynb\">dependencies</a>)<br>"
      ],
      "text/plain": [
       "<IPython.core.display.HTML object>"
      ]
     },
     "metadata": {},
     "output_type": "display_data"
    }
   ],
   "source": [
    "%proving prob_in_interval"
   ]
  },
  {
   "cell_type": "code",
   "execution_count": null,
   "metadata": {},
   "outputs": [],
   "source": []
  }
 ],
 "metadata": {
  "kernelspec": {
   "display_name": "Python 3",
   "language": "python",
   "name": "python3"
  }
 },
 "nbformat": 4,
 "nbformat_minor": 0
}