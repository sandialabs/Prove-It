{
 "cells": [
  {
   "cell_type": "markdown",
   "metadata": {},
   "source": [
    "Proof of <a class=\"ProveItLink\" href=\"../../../../_theory_nbs_/theory.ipynb\">proveit</a>.<a class=\"ProveItLink\" href=\"../../theory.ipynb\">statistics</a>.<a class=\"ProveItLink\" href=\"../../theorems.ipynb#prob_of_all_events_transformation\">prob_of_all_events_transformation</a> theorem\n",
    "========"
   ]
  },
  {
   "cell_type": "code",
   "execution_count": 1,
   "metadata": {},
   "outputs": [],
   "source": [
    "import proveit\n",
    "theory = proveit.Theory() # the theorem's theory"
   ]
  },
  {
   "cell_type": "code",
   "execution_count": 2,
   "metadata": {},
   "outputs": [
    {
     "data": {
      "text/html": [
       "With these <a href=\"allowed_presumptions.txt\">allowed</a>/<a href=\"disallowed_presumptions.txt\">disallowed</a> theorem/theory presumptions (e.g., to avoid circular dependencies), we begin our proof of<br><strong id=\"prob_of_all_events_transformation\">prob_of_all_events_transformation:</strong> <a class=\"ProveItLink\" href=\"../../../__pv_it/theorems/51bd2abba7ee4d0edea91b5805520d8439169f280/expr.ipynb\"><img src=\"data:image/png;base64,iVBORw0KGgoAAAANSUhEUgAAAxAAAABMCAMAAADKg6HeAAAAQlBMVEX///8AAAAAAAAAAAAAAAAA\n",
       "AAAAAAAAAAAAAAAAAAAAAAAAAAAAAAAAAAAAAAAAAAAAAAAAAAAAAAAAAAAAAAAAAACGKEuzAAAA\n",
       "FXRSTlMAq1RmmUTNIjK7EInv3Xbh+fvl1/OhCx0iAAAACXBIWXMAAA7EAAAOxAGVKw4bAAANsUlE\n",
       "QVR42u1dibasqA4VAZmUnp7//6tPRpkca7hV54S1uu8p1EBiNiQYQtd9ZOGzLejziUL51jI5dWj+\n",
       "+kBAKLwU+vlEoXxrMbqA0dz89YGAYF9CFMp3o2Le/gWAgAKAAEBAAUAAIKBAAUDURNcFpx6DcgAg\n",
       "fj0gSFxxGmDyAEAAIHiYIpgA3QBAACC6Qbp/VQ+6AYAAQHTYuw4DqAYAAgCxlHEyZVSgGgAIAIRx\n",
       "q7n5v5CgGgAIAITxplH432YR4zjqZ/dFLUQPowxf0vK5pgEQvxQQdnJQu/F+r1qR5Yda+bK1YA6A\n",
       "AEBsEO31kUsNgABA/CJALGjAGgABgABABJO6H+RdtWSJN652rz4fEI+0DYAAQGwSZUce5rZa8n6K\n",
       "aofV3tXnA+KhtgEQAIhtoojfV8uodhwNermP617z+upLTKYH2gZAACDuEz0FiK43o7Q07vlqgb0J\n",
       "ENfbBkAAIF4HCD0MyCql7KiJERTU1bwDEDfbBkAAIF4+Q5AOd3LK6t42Q1xtGwABgHgSIDI143qM\n",
       "YbJS4MWApxprWl3V7AVO9a22JQACAHGFqCQE76mlHPmNhpcR3BetMA4tnAcEFzNRiojH2k66D4AA\n",
       "QJwjKjD1KqORELQChJpvbZyYgj5aLBCxp5WtlrEloMcH2s66D4AAQJwjOnubghDemiEovxds1zsI\n",
       "CB8jMuttrWy2jMj919WLuvsACADEGaI98pa3xm2TSXfDPVXS9sPx6M2XSdRaibU2ISTtlkfTKznh\n",
       "B9rOug+AAECcIoqFd1LbPsSisMQM8nIwu4r++vsfU/61f/83hfLX36bmf/+sF02Z58UKEp7urCqt\n",
       "1AtWBNpomc16cT3cB8Sqbdeeb9t2o9l20n0AxB4gPjMTi9fd53buGBDEDeEUNwFh3It7dnxHB6OT\n",
       "/Zz2I9VKZmy1AW+0bF0IiUj3QNtZ9wEQ24D4zEwsXmee27ljQAinj3gQtvR500QpheY7m+u4/4KM\n",
       "nFNdG/LYjNxL99otOyiw+Vaa5tB22n0AxDYgPjMTSzmIPqVzx4AIq5KqNU5rp5V31j49CWbDKzrR\n",
       "8VIr1aLyfNxq2boQHb3VdLP7AIgdH+IjM7EE3X1q5w4BIcPwn8VOe43y1sydddfwLUDZz2Q971If\n",
       "Qirrzi/zANpo2dpTi099y2QKbWfdB0DsAOIjM7EE3X1q5w4Bwcc4IfFSLYmNEpdkHq4bLspTG6x7\n",
       "q+fMqeZ2/CdaD7rdMh5mZT7L3RsTfNt59wEQe6tMn5iJJeruMzt3CAgcx2CpjCVPX+pbRa3sU3vt\n",
       "HS0DIHYB8YmZWKLu1p2TrwKE6Ns7I14NCCo7PpnA1be1DIDYBUSWiSUNtolFa6344SAtxXz5mUPd\n",
       "rdLEZNFEzSAfrbQm7Doglse6PwEIbAwlrIh8uGUFgHgGIJJMLHmwTQirsaM0OZYhS4iffWYLXDio\n",
       "R5kmJo8mqoN8qNUiNrI9oreWad4/TF9sGQMgLheGG7/WTCx5sE0Iq3HqdixDmQDi7DOH1k2RJqaI\n",
       "JqqCfHofy0bEDR/i6wDhdo1KQXqM2jtJARA3Zog1E0sWbBPDagZkRtZF1kxh86lMion3GkmMETXT\n",
       "/YS1nfAdIBQ2pkd4Zr3qH7YmDWLxRt1jhfd0N08TU0QTlUE+8TNBKyrlxwEi7Bqlg723tZMUAHEH\n",
       "EDETSxpss4bVsGmerC6jpdrYIsyYLYPw47HVM+MSWkAMy6XFCYnPxKvhYfMNiqhwI13+YnpPd7M0\n",
       "MWs4jtf/NcjHzRjhohp/ASD8rtGOLpQWPyrdSQqAeAQQMRNLGmyThtUszoSxohhz0Q32S5FQfuHe\n",
       "rd7P1AKCz+FF+WfiVf+wNLSZDDfymfRyV3fTNDFlNFEV5BPXZ1tRqT9vhvC7RilxgGjsJAVA3AHE\n",
       "moklCbZZw2pc+MvsrJ1Je+8Z6QwQI7aAwKM7Gz0+E6/6h6lvM9xIxdyI0Ul1N5kAymiiKshnxDu6\n",
       "//N8CLdrVKKJ04k0dpICIG4CIo7GSbDNumbqpLeMPMZWF1o2AZHOEOkz8ap/mHl99jdy6SPbzuhu\n",
       "FU1UBfkIYtf1u+bWgZ8HiNc1DYBwlncabBO/htkBmCEX6jMtnrAFhIiAMNVaeB/CmFRSx2fi1fiw\n",
       "MbWWG/yNNtRGnNPdJBzHBgDlQT62io0MS80H3AEgABCPAyILtolhNYQuloqp0QRjPmiJ5sVaHQfK\n",
       "kLmRz7g3+1skmY1mKvuBKz4TroaHww3+355orNgp3U3DcWwAUB7k42KCGEEaIdkxAAQA4nFAFD5b\n",
       "ElazJ93x/tXNpw51t9+uWnxMqQEQAIhnA+K08t6/ehsQVG5XsRk1l1nuAmJ+zQlCM/ojLZ9rGgBx\n",
       "uzi76d7V+4DAe1XDRC8Rxe52NE3Tt57frpe+n4kP/2YeHxELeeMM8ZI5/Z1JBsIemi8/mxef2Xb+\n",
       "+84fdmLZ2nIJgGi4SsNXKQvb+vnTAcHOVLMtsWwcE3UJEFxj9QsAIfA3KYsuDCOqfwkgdH+mOoij\n",
       "Fkv76/0VQJilCPHzAcHGVFkYmuYZISREW73o8P6thUSp/CiIXCPwZUB8IpNHnPftHlXVQRyVWDR6\n",
       "FBC3cut+HyCIykdP7pZg2LgxmL5dVxRyn1gy8y7VcXl9hvg4Jo84l+2ONqqDOEqxyGYCoSuAMHOM\n",
       "/PmAWAOhnHCZX5PEG8tjw7t1ZexpDBogrdU1ch0QH8fkEeekzVyjOoqjFEszfOEKIKjCGP94QPB1\n",
       "4MgBwefpI3SFpiNb8yvnKG8D4lOYPOR84/PuuC2OSiytPWOwylQ7ZVPXBgSdh4/QFZWobN/skh/6\n",
       "7gDiU5g84rzNeLs6zASlWJpZSAEQZUHDBiDM5u3Fu9S9MhEUkmjtNvwNBC9/viurG0bjtO73CP6O\n",
       "1BpJrnz6NoVuA+IzmDzmfHX0eqV13Ajtq6W2ppNEqTgqsdCWEwGAqJYORBMQUrutFSPp2Yw7bj/v\n",
       "mgDfbrB/Dkdp9HLhb9/dp31qrZXPuh78iFk00R1xQ6gPn08BQaakoC1APMzkSR5zJps8H3Ae7X81\n",
       "mKUAkVerrh9XdQ67CUqx8FYqUABENWSiChCTUiosb0+T1e1JRZG6B+hB5uHi7K3cfE0S5WB6oFRZ\n",
       "MlkfnYGZeXfSb+dy2nB1hniQyUYCoMJE32ayyfM+5yEspbejfESKq+a9GxqQSMVRiaWZLBoAUa2l\n",
       "kQoQosIL97lvzJqMHzbn8g0mR2F11dlbKck0UY5E5UJGNbim72h09G2KnyHh6wYgbjGZ8FgnAMoA\n",
       "scNkm+d9zj3jnd0BsL5HV71gxMZAhuOR5rZYJADi5gyR6Qpx78bJ0lwKulIMiOlRWPXZW8nNWaIc\n",
       "Ur6jKl9G6lNHvVjfvm1sfBQQJ5lMeaxP+Urv3WNyg+ddzsNIYDG7ojDIw7oHwSTy4qjEwsBkegYg\n",
       "VDZ4kmLwNFaBNQx0ro3l2VuiNgSs8P07j2TqNOcipbMGtFLDi5Sp9l3zIU4zSe0nXvNfxmN9ypfo\n",
       "9pkMp4a5nytZz/Mu58FWtG9wvRDkYafLgJMAxlIszdcPgKhWmcQJQPiEVdamDvaFeeWameeHvjgK\n",
       "q8yWkypLliiHuR+RTHGKbjETeId3aYx2aOxi6kp/ENgDM8QOk2Y7sLTbvDIeqwRAGSBaTIZTw9zP\n",
       "lWzgeZdzx7hTWDnjotpBJODEi6MSC6wynSKaWMEhdGOoXQxufWSrOIOd25HVIZs3wZj0+VFY9dlb\n",
       "q7JkiXKof2eBTKxJFC81MNxKYj9zSRbytM8WH6+Fbpxlkkkz0pot8xmPjVO+kp63mIynhtmfK9lw\n",
       "wy7nfgnV5jBK0q6EFVaTM5UGnIQl2lIsGL5DnCFK8y/VDA3zjML7pGgekVU7RpRC9g0J2VO6JnqZ\n",
       "/RkO6VFY9dlbCSDSRDk9ysmY1Zsdn9pmCXefC5YBFQcbw2+HuhLcd4VJc6NJsZLx2DjlKwVEg8lw\n",
       "aljgOZANPO9yzqfQV63IVFVLpDQJIgy7w0qxNDMNAyCqMhaxTBdpjjb2Pstz3jh7a33ZWaKcqASe\n",
       "TG04FG9xaviFzGvFq8K/jWKNvOCxccpXotAtJuOpYSInu2Uy5ZwnjKdfR5JqNeTiqMTycCzTLwFE\n",
       "Ge16obDRvgabSWedD1pnbyVOdZYoZyrIdFlK/mUwHXJXEze+foUAt5cBgvvscgmPrVO+Uqe6ZnI9\n",
       "NWwqyHqe9zm3jHMki+9rTh5GejLExQZxlGJ5PNr1lwCCj/eVhWiqtLZpneMnqubZW6mypIlyBMvJ\n",
       "+IqgiqIKbxYVC3Fz5KsAsRhnLiv8ymPzlK/M566ZjKeG+Z+RrK844NxcRqPs5KAreZhsksECDOKo\n",
       "xIIf3g/xSwDRof4BkymW/Zw9hX0cE+WUn6Py1SpcH/wiq5DNqEgvAoRkcVPhJR5bTFoTyf1cyTqW\n",
       "jjg3160HQWt59FjH6iCOSizt3AoAiMYbf8Oe6moFJSTKKd47OWS7TJWu4xMvAsTi+NLhBo8Fk8mp\n",
       "YZbJlazj+ZBzps9UB3FUYnnGnupfAoi4DfF9gEgS5ajUssX0gTZeBAiKtbrFY85kemqY4TmSdTw/\n",
       "xPkJsUDWjStE/dsYXpezaIes3Pj7WtHTNJ4CxB/hsWSs5vlFWzOjWIgEQLyHKJSvLt8DCFvQ5xOF\n",
       "8q1lcurQ/PVxRWLszlP5eKJQvnZycKX49X+TP6puUrMA9wAAAABJRU5ErkJggg==\n",
       "\" style=\"display:inline;vertical-align:middle;\" /></a><br>(see <a class=\"ProveItLink\" href=\"../../../__pv_it/theorems/566749bdab7abcb64a6e3154a1c871d785f16a4c0/dependencies.ipynb\">dependencies</a>)<br>"
      ],
      "text/plain": [
       "<IPython.core.display.HTML object>"
      ]
     },
     "metadata": {},
     "output_type": "display_data"
    }
   ],
   "source": [
    "%proving prob_of_all_events_transformation"
   ]
  },
  {
   "cell_type": "code",
   "execution_count": null,
   "metadata": {},
   "outputs": [],
   "source": []
  }
 ],
 "metadata": {
  "kernelspec": {
   "display_name": "Python 3",
   "language": "python",
   "name": "python3"
  }
 },
 "nbformat": 4,
 "nbformat_minor": 0
}