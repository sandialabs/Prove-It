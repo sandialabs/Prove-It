{
 "cells": [
  {
   "cell_type": "markdown",
   "metadata": {},
   "source": [
    "Proof of <a class=\"ProveItLink\" href=\"../../../../_theory_nbs_/theory.ipynb\">proveit</a>.<a class=\"ProveItLink\" href=\"../../theory.ipynb\">statistics</a>.<a class=\"ProveItLink\" href=\"../../theorems.ipynb#prob_of_all_as_sum\">prob_of_all_as_sum</a> theorem\n",
    "========"
   ]
  },
  {
   "cell_type": "code",
   "execution_count": 1,
   "metadata": {},
   "outputs": [],
   "source": [
    "import proveit\n",
    "theory = proveit.Theory() # the theorem's theory"
   ]
  },
  {
   "cell_type": "code",
   "execution_count": 2,
   "metadata": {},
   "outputs": [
    {
     "data": {
      "text/html": [
       "With these <a href=\"allowed_presumptions.txt\">allowed</a>/<a href=\"disallowed_presumptions.txt\">disallowed</a> theorem/theory presumptions (e.g., to avoid circular dependencies), we begin our proof of<br><strong id=\"prob_of_all_as_sum\">prob_of_all_as_sum:</strong> <a class=\"ProveItLink\" href=\"../../../__pv_it/theorems/b97c341894e606e60c3b60e38a3ae6e938b6ab2d0/expr.ipynb\"><img src=\"data:image/png;base64,iVBORw0KGgoAAAANSUhEUgAAAtsAAABBCAMAAAA3zJiWAAAAQlBMVEX///8AAAAAAAAAAAAAAAAA\n",
       "AAAAAAAAAAAAAAAAAAAAAAAAAAAAAAAAAAAAAAAAAAAAAAAAAAAAAAAAAAAAAAAAAACGKEuzAAAA\n",
       "FXRSTlMAq1RmmUTNIjK7EInv3Xbh+fvl1/OhCx0iAAAACXBIWXMAAA7EAAAOxAGVKw4bAAAMpklE\n",
       "QVR42u2diZasqg5AGWWU+yb+/1efICA44lRddss6q/WoWKDbGEISAXjLEwts25Y9tvWmaz36o3eO\n",
       "WlfaGyt8dW9iIWZxV/P0W4zx/jqykeVF8BcWra5/IQ20K/zGCl/dmyjdVgB+Ctts6b9H2AZGFP/l\n",
       "7roGhpfWv5CGuyt8dW9iNfZ4ts0IMGpOsQ2EmmzSaHv9Zfu72JZ67e57thlsrYUQCjF/KG20+nhv\n",
       "iVJJc0CTnzf4FNtySuzL9vPYJquiOezkFnrI9cLBn2dbQZ6okjOtiirzMbYB0vJl++lsc8sr2GY9\n",
       "2wDbeYibj7OtERURPzLDLyan2AYtedl+OtsNBDvY5gtmmI+zTW0mV/Us/PIU22g8CnnZfhrbyLI9\n",
       "bFPbfAfbKnvG0GybGnyKbdCIl+1ns90KsIdtZZEbORqkmu6ZkMQYQv1hBHerH7vLGOoWkmFUGdRu\n",
       "Y6DkSqGgkJ9jG42UtZfth7HNt6yzBdvS9DYVTRCzGHA/Yymcua3xqw35WF+tmUho0P26gQaQXqTj\n",
       "ZsI2abMCNzV68rL9ZLbhVpXEdquUilbktqOn02ZblQajvdZOLd1nolmRmpmqNDNrynKhGqbVMXNj\n",
       "XQkgDpaOc3IbEPuy/WC2pSW1bIvJ+DPKfGc6CRJ7+XRIWNGxBzXMoBzpQ0Z1ek3PNKbrzwDKu6r7\n",
       "g92JM4MmtyfZpha/bD+XbWz5IbZJz1fPlNsV2R7Ryg0UgmaveFKMXIujqdPgAdPurywVBqrWhpKR\n",
       "bb86yHh6Vm6D0pj/sv0stsVmjXm2VSG3yZLcJiR7dEynLqhyQiQ/Jwq0EreRjHSbZjyRInL4B1c/\n",
       "7z4gZX7C4/p2p5Swl+3Hsm3FCbbDYMsr2VFLcSw7xcLrFgaPxmYjtHO2kwKNXSd6LNOJgBrzo3Md\n",
       "3I9mgexeENDJ6iDksTgrt1GhlLxsP6w3qpJtXti1w5wd1zyC3njJCt2qYQAK0KAOtpE6PVGAsgNg\n",
       "PL/q8GT+P+lEHWVkPJTMBXtv7UOWS9JVpoG1YBk8wXY0fL5sP7A3ZNuuEXylGmthfA4otBr6G8qI\n",
       "UtCfQkhEqfGr2AvSDmM6okppssx2ckhxbwAqihPFDQtDScC9mHfG9u4hwBG1lp5lG2j9sv3U3jRW\n",
       "VsrtnaqO11NxI3wJ915JY5d1kuiMyF1dBIsTdVtHbJNSWW5nRsQs6O9n2BbFxP7L9pN6UxGjc4Rt\n",
       "rn1wAC8UHqdrjwV3RqzodlFnM8cZyuFEI52kI78pecIzpsfoP3WGbWPRy/Yze8O2h5L72WYaqKY3\n",
       "SYtM6hEZTCVLY0nNsDQ8TDG25Ym6UWUupcXEp1VMnGJYPPcZtlFu93nZflJvkCXXsw2IocoY6fkK\n",
       "uoIkbSud1do2eIHtTneHBkLZy2nP6nCikl1syBhlOXlIU40zbPP84X/ZflJvjDW36CQDcsrp28vj\n",
       "1TGRlADpmzSarJGb7xc26olJ9J9hW+ZK2wrbg/aP8LfRUN+2iM+v6A2pCGO9NV5STJQk2PZaSymZ\n",
       "yYksEmfYBtZWsT1MNTXs22iob1tk+1f0RtjtmPjmzvwkYvprNBt6Jjzp0R8wbavPsN1mA4QVtjkc\n",
       "a/nfQ0N92yLbv6I3jf3h53Lt5+Xs6odLfoXW9O3oE6DQ19FQ37ak0v6G3uht83Y33uzK96hdFxXi\n",
       "elXxyIhscmuN7aj4fFPGi0hDddsS27+hN7Zi7Ikg+KVFV7ANsxHJqp1Ee/erH8hkUYFqbdsGU8Qv\n",
       "6M3L9mVs9w6PQn4jDbVtG9j+Bb152d7WXXAd2wzGP24EqzCepJUwxii+KQll4XVcV2eLhqJtszEi\n",
       "Y7aLGvPKmtbaXH9PVHdauKM3RTxLcR1fti9j2wsS5ZXzkKeLRL+BPjzDixuyfTFZdk9q62yJ4aFt\n",
       "vr3TGJFxhVGNuUH2bVYIDnf0Jo9nGbGtX7Y35Eg2u7XONjJxfCPCMKevGsMz+ku9fTFlblGvrLPF\n",
       "9tA2L+mmMSITtssa38V21rYinuVl+y62u8uNzSAXQciOkcIzGui9ELp/CrsJCClajgyUGDsnYSZa\n",
       "bJTzuenZVth50MQ6w95Q2b+KIUsHGoQVXkE1tS00cBbtYlq7rLGXbZapw2p17wG2h7aV8Swv27ex\n",
       "rVAwvYogRFzcx+AswFrbeiydG7x7hzI3THX5fbzw8a69Lle0Z9u5OXYKe6qT9sbKivSxF/2BzkOB\n",
       "mRUaUtuC4OZb+Ixq7GSbozZVxmpt7yG2U9uKeJbjY8nG6hhnqLWttA5/orC67Wy6+Vp9u1P64mgt\n",
       "zKA5HvPwjE7xdk8K6za7dLjMXUGXCtk58vZ/gKWebR+h78MxQp20N1SW7txMxgO5JUiu0cCKAdo0\n",
       "RmTKNtMbqfTWdZJEL4eNc+3hBhk+3XuM7dS2Ip7lONs09xqSVFlrvgJtg+q2x3zc1NzFNkiGhz4/\n",
       "iv8WxRCeIXvee3WiNWHQCE3BtsaebaxxV+hQJ+0NldNERjiQCjuNoMpRzY0iMzEi0woA8kvY7rNH\n",
       "e5/k4UVwku3UtiKe5YQNUJX+sBJ+6rsoq7m/87zbdfm4h/jkS+3beYN773LhouEGA15/Gds++EIY\n",
       "Oct2LrfzOmlvqMwCnOFALlMWrSVUc7SnMSKrFY6ybRonTrs7Ift3kKD9lvNsJ4tJHs8y1jj32ACb\n",
       "kWSAH/NFWc79ncco1ObjTuLjLraVd7BF3I+i0rDJXz0GO3bdzegGgJ5tkdh2m92XSLy+7R5jaVKd\n",
       "tDdVdrqM8wbuD/RRSaIO1dkYkVvYDvwQ0L2M2mLbVWyX8SyjFtT4kyTHK1vCID+mlCzn/s4nSKrz\n",
       "cZMdbOeekrVsN14/MNa3NoVnEKq64rgiGPPGSNi9CLFuKIPuQG4xMsRFcfj3o1LO/JHqxL2xcjwg\n",
       "LBExWLEKGpZiRC5mmxudXJmkwC4s3GBDZ/aeY7uMZ1m+c9t2Emx/yOVxOfe3zvtemY97slyVP5V+\n",
       "gCv26o3wjHhH9fG9m/btGypcYt827CTbfgeZFbMVKRxyGyD8ofHjYu7vPO92dT7utKxhW9fFJlyh\n",
       "dx3fezvbkkxehJHtlSn8Cn03vkJzJ4W9bA/xLOVzU+G8mrEtteU/yXaZ+xsMebd35eNOyxq28xmA\n",
       "O9nuFZNje+9nW+D+w45ZdsdBbi9O4VeUNnCVOynsZTuLZylU0IpLls/d8J/5aOxs7u9cAnsKa/Nx\n",
       "p2UF26wyXvIry3VsB3Uvz+44sL04hV8juD3OpZPCbraXOgN3sT02BH6M7Znc334VZcfU5uNOywq2\n",
       "iwv0V9lGsB/7FdkdM317aQq/SuMWcuSkcBXb0jb72P6ZKLS53N/9VR1eRvX5uNOygm2cvw2Osc0N\n",
       "Vs9mOyQNLXMNZGwPU/jSBde2//zr3678x6/+J6XN/ee/7u///p12+uJsSrmTwmVsg9buZFsdltvH\n",
       "P5Ewm/t7zHZ9Pu60rGCb5G+DQ2y7OyUezjbp0/XiBbaXpvCrfrKhpZPCdWyTbTFcsE2rbtPFn0iY\n",
       "z4880knq83GnZQXbTfE2OMK24OCnymVs9xPCZXbHge3FKfwa61A/kZY5KVzHNt42lORss7UJpds+\n",
       "kbDMtjBz8nkjH3daVrBdjJ0Pse2nSh7Otu6NJGpWbi9P4VeU/iy5k8J1bLPtsWHOdrMihO77RMJ8\n",
       "7u/cmrcrH3dabrPNCzvSIbapwhg/m20ZxHLhdR3ZXpnCr3jB97eycFK4jG2g2x1sj5yVfK/u/0TC\n",
       "Uu5vEPNuT4aS6/m403Kb7dLR+a/aSeKkKMv1K8/2+hT+dlE8aH6Zk8J1bKvNJ25g25Qy3jnDf+IT\n",
       "Catj4fgrO/Jxx2UF26KY6v6rbCcHnNx94AdjyuqVElPLNm2musMnPpGwOl4goYk78nGn6eNNtmVp\n",
       "/v+bbAs0O5v+ALZB01SyPRpHouhwevsnEtYlq6u0Kx/3kEduk+3RBwr/JtvKGPBQtvGWFTCy1yLZ\n",
       "F8Y4NU3Mo3bzJxK2iteFduXjHqjfZLspByNv/u2HsS23XEoC2z6BXlHkJz6RsK1Umbrt0Z0yc6vc\n",
       "YpuNDKQv2w9jGxBdbwOcVr77Ewl3li221ehqvmw/jW25MZqszeHwuU8kfIjtyYV52X4a28DoS9je\n",
       "HPVN3vjXfyLhUrbJJMjnZftpbIPW/ATbl38i4WK22SQm6WX7eWzTVVPJVWx/3ycS1tmGk36/bD+P\n",
       "bW+iuJ3t7yurbOPp3pftB7Kd+9O9bPdvGT2djHse266091T4AbZ39iYqAu2yg9/f/N7NyPen8RcW\n",
       "ra5/XZHUFX5PhY+zvbs3SUxx8JbiQo6ut7+wcnX9b5XG3vXdBAtf/r6o/B9iU55I9+gxWwAAAABJ\n",
       "RU5ErkJggg==\n",
       "\" style=\"display:inline;vertical-align:middle;\" /></a><br>(see <a class=\"ProveItLink\" href=\"../../../__pv_it/theorems/b2da88aa30d56b861f4f3410f730944aa2682bdc0/dependencies.ipynb\">dependencies</a>)<br>"
      ],
      "text/plain": [
       "<IPython.core.display.HTML object>"
      ]
     },
     "metadata": {},
     "output_type": "display_data"
    }
   ],
   "source": [
    "%proving prob_of_all_as_sum"
   ]
  },
  {
   "cell_type": "code",
   "execution_count": null,
   "metadata": {},
   "outputs": [],
   "source": []
  }
 ],
 "metadata": {
  "kernelspec": {
   "display_name": "Python 3",
   "language": "python",
   "name": "python3"
  }
 },
 "nbformat": 4,
 "nbformat_minor": 0
}