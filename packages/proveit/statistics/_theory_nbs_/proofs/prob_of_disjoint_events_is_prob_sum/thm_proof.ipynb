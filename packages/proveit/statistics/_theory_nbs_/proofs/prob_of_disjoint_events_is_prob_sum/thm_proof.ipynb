{
 "cells": [
  {
   "cell_type": "markdown",
   "metadata": {},
   "source": [
    "Proof of <a class=\"ProveItLink\" href=\"../../../../_theory_nbs_/theory.ipynb\">proveit</a>.<a class=\"ProveItLink\" href=\"../../theory.ipynb\">statistics</a>.<a class=\"ProveItLink\" href=\"../../theorems.ipynb#prob_of_disjoint_events_is_prob_sum\">prob_of_disjoint_events_is_prob_sum</a> theorem\n",
    "========"
   ]
  },
  {
   "cell_type": "code",
   "execution_count": 1,
   "metadata": {},
   "outputs": [],
   "source": [
    "import proveit\n",
    "theory = proveit.Theory() # the theorem's theory"
   ]
  },
  {
   "cell_type": "code",
   "execution_count": 2,
   "metadata": {},
   "outputs": [
    {
     "data": {
      "text/html": [
       "With these <a href=\"allowed_presumptions.txt\">allowed</a>/<a href=\"disallowed_presumptions.txt\">disallowed</a> theorem/theory presumptions (e.g., to avoid circular dependencies), we begin our proof of<br><strong id=\"prob_of_disjoint_events_is_prob_sum\">prob_of_disjoint_events_is_prob_sum:</strong> <a class=\"ProveItLink\" href=\"../../../__pv_it/theorems/3767ea7456af8ca47f564bcd79686a17eacae3530/expr.ipynb\"><img src=\"data:image/png;base64,iVBORw0KGgoAAAANSUhEUgAABBgAAABYCAMAAABoKLQkAAAAS1BMVEX///8AAAAAAAAAAAAAAAAA\n",
       "AAAAAAAAAAAAAAAAAAAAAAAAAAAAAAAAAAAAAAAAAAAAAAAAAAAAAAAAAAAAAAAAAAAAAAAAAAAA\n",
       "AADXrLZzAAAAGHRSTlMAq1RmmUTNIjK7EInv3XYgpeH5++XX80AGcRRWAAAACXBIWXMAAA7EAAAO\n",
       "xAGVKw4bAAAPx0lEQVR42u1d54LrLA41Bkw1X91d3v9Jl25wiR2nTOLR+XFvxgWQQQchBHTdR4Lb\n",
       "ANQBAIA3Yoya96nF41ZhBwoVBQC8E17tMPpgYmBQRwDAD7HDFxHDNKroMdQcAADEEEDKsGIAYwIA\n",
       "AGJIV7LJwARUHAAAxJANBRn/Vz1UHAAAxJALm1wLA9QbAADEUKBHD62g3gAAIIYCwv2/QkK9AQBA\n",
       "DAUM5X8yXsIR5AVp9uxYkc1T89rMzEDTB1yHGIKxoKpgSKl59YawRCkieK0AyF2SKutHL6xwySKN\n",
       "qoeMMobUmc0mPao0lAhg22m1+U3fma4WeaXgM1Yyundvj9WVsXK9Njfyq1W06Pb3IdD2Adchht60\n",
       "rkdl6wmKqCZGlws0KpHQlZvCa0RNAzQERTDNNoihSkOKNkB7mdYyv6SgaFZk0uhyXXA686AM7nFe\n",
       "d/CqyrC50Y3zvG58HwqOGsB1iMGxAq50gXJdawYirUi9jj13X3WPxsqu7tD71OcSsU4MdRpiVqJF\n",
       "Wiv5pdTprMg5C7Qs+NCaG+Lw3GxixCmvm99nAE8N4DrEoPq6QZtuqB0O3uru5JjjpVnuLnnfdPO1\n",
       "LjPLlx9C1PenNNiik52ntZZf1ZdXRW6JoSl4FaVhDDbOYpDCF870WLknzOiL4W64rMMNKUbeG9RR\n",
       "ZJUvznjs+0AwCOBCxMA0qtt9R4ZaMQ3GZBrxo3G1X7X1GB/l95VeJYY6jb7fSavOj4gMp4dsmBe5\n",
       "IYa24JO9QVTSZmaj7c9MuurHNHKMNyIhOf7gQYQpr9vfpwcvA+A6xNBVnj7KG4dCHEJLRBoXwNLm\n",
       "aC6XmIi6axUzN0LOD++ktalqVMyL3BBDW/DyMLMy+Rik9d+D9ME8Ucr9DsU04UZ8zv0RiaG8vvN9\n",
       "KMSVAy5EDHWnrJRCVs6G0MzmMXYZX9c9vZKmeqXTeCW3mhiqNOR805h5Wmv5xQtoXuSGGNqC88Ii\n",
       "oW4yMThNtuEJRwxYp9cSMfg/MjGUvHa+DwdiAFySGEzjI8hDaKdO+QpKKmJYrcttzy7cb+oH5rU1\n",
       "UA8l6jRmw/J5Ws2zzVAiK+FUZFQTQ1vwYuPPLAb3Bx5qi2EwC2KQeFL4ne8DQwnAJYkhGfZ+fC3V\n",
       "pEdy9A0+XJE69I2G5gtOXWUXJxPyJaYZloYPzSihIoY6Dd8HVz6FRVrtsw3GeZE5CoUl/azg/n2T\n",
       "E0TePaETMQRFFpEYAlswLStiiOMKzovz8eb3ydkAABcjBhK8kJLYgbqu0gcBDVb58J3QLfLogCdE\n",
       "GSPzBUnGUfoRgQ08EJ9hBBnktHQrwKlKw2ubSgFOq2m1zzZUw2ZFdvm6dILDpCl4fjYmqAw248Bd\n",
       "LsQRg8EhhMETQxdjssKN8A/WLlEVvJVxUvX29+mWc68AwEV8DPUgfv9Kv/0WddplNojhfAka8+Z4\n",
       "OJEUOwmSna5+La9+MxsA4LrEQOXuleUj0yVm0SgfIwa6Ey5EDguTntxIkA6doN29ea0kRsBgAFye\n",
       "GPD+FXzrrWGk3QFiQNmfyA6UYAZ1MNAwL3TYSJAhs+80XOSFN7MBAK5BDDTseT++NOuXdKbyqY89\n",
       "mgjEQwNchxiUqb8IMVAHDpUKADysY16XLkMMUJ8AwPOggRgAAAAQAwAAAGIAAABADAAAAIgBiAEA\n",
       "AGIAYgAAgBiAGAAAIAYgBgDg44lh2piox59TXiAGAOBHiWHab3xgQAwAABBDIAaeTQb2SWv0//jz\n",
       "DyAGAOBniOF/f3bT2SMfddQAWAwAwI9aDB1OroXhk8oLxAAA/CwxdHr00AqIAQAAYijEQML+BkIC\n",
       "MQAAQAyFGBjK/3T+VHiMyXze0hij+K5FEQ9ZvO8dIAYA4EOJIRgLKsxayng2Uz78mRskBI0mBUG7\n",
       "mbBKbY++cyViSFspIjcw+9bNVo0rew/SNriGhNOZqMeJoTfZ9SiSB9KGTcpJHGR08QTEfSWXldoe\n",
       "fedCxJBPdxq6rwbGIG2Da0hYohHasITbIdFDh+NxBfnMtdG/bPI3G8LBSU5TmcI+HiodvS4xRv7w\n",
       "FDFio/zJTJEYFPbHHOV3prvpZT9aMYiVB9P57t9PDHL4qobEtv48Rgy/SNqLSIjziSTYHCYG1adg\n",
       "BpHYxKr6UBI22jHoNHKXNctHr7v7/ZiV2AyJGPz5aQRP75S7+WVF4mHu8cFyvvvXE4PA39SQzKxB\n",
       "UHMfMfwiaa8iYTk9pT5G5TYxMJ1s/t5Oalmf+84N8qMLxmKLiEevqy4esRzPWbY0ndfepUPW0zvl\n",
       "bnpZ+rSZzA+W893vIYZPXN/BdN2QGBqtRQgJsV5AOrx/epio6ciJfpF7sQ8PEcNvkvYqEho0/7FL\n",
       "DB0qZ0RH56OnGzzE81X6eAxBUGQ3ChjNdMJyTQwaB2LAGjvQ6Z1yN72cO/38YD7f/R5i+MT1HUS1\n",
       "PQy3KGrQRofz9oakEC+tQK4UKkfAHiKG3yTtVSSUVs5+dIeXXbOYg+gcUUxzjZFgxnhcvDBylRhq\n",
       "i6F+p9xNL7NUqvRgOd/9HmL4xPUdE7tFaVhsSO4br7eY4d0NSfe0xKqQtaO5yB3EcF1pKV4nhgtI\n",
       "WE51r453P0gMqjNOIXvehYOTZd0KGIpMMxpTjl5PxOAvG5F8DN7Wkqa8U+6Wl/0QxJ8iGx8s57vf\n",
       "5WP4vPUdfGLhtiHxjYOz3t2QqK1HlqstTR4mhgtL25vbxPDFEuYohOnHYWIYgllvbGBFJtIAg1Cl\n",
       "wvHrhmDMB1OOXmfIP8gt7v2ZipJYr+VK+cmG8k6+m1/OD6T/y/nudxHD563vMONGQ6J2+IiGpKr2\n",
       "3K8WKfUjR4jhwtLuEcMXS2j0/MfJHZyk8j6G3QNQuT5/d7tLuj0r8XHrO9Cw0ZCU7b1ryvTK+0Mk\n",
       "MSZ6SAaC3c93WTwY6RGRuYdAGoMkV8nuUugwMVxY2j1i+GIJi5FRWRuv3NqN2/N3zxLD/voOobU2\n",
       "r2Bql+5K3JYQqw1JmhhLqknPLO54CKHzg7BuCD8H8i7msmbRl/ggOINMR2Lnk1w9taqQsQK6urQH\n",
       "iOGrJeSWz368lBjieOLc3dPE0KzvWDftXjdfwVfyHdCiIY1uLJWnl8cxnDE9qlIv8QVq7zqR/kaz\n",
       "6yt5VwiR2eoo4BQli5lvAjJNRXW9PmwxvEpaeVDaWtgnS7tNDD9XnysinpGQ5cKxqZSX2wx2Wt/x\n",
       "GcQwkkVDEgtN4ulsYc+VqW+xN9qGQX6qWlXaMvPSGuWs1ygnprcbXF9XtY4Ph+Usw9y2O0IMr5DW\n",
       "84JuDjIXx4R9lrTRPNJ6bh49SUIurKtOInh3f30uRTwjocx8IC9MDNP6jo+1GJqGRGJtxgrxt3JD\n",
       "mrWNtG7Nyxr7AaG3GhINIjIfTdrJtkhU3fJV5YYUfk6dEX3IYjglbSVuHr9vSHtD2OdKu20xPFif\n",
       "HR5njr/j9bkU8YyExcpgDw4luMHqU4lhWt9xihhY5Z5QN+8+iRhU08OQrR4mr1vzhmAsQ082GlKf\n",
       "mkaYeyIz42mYCyDqMk9LCqn/zlLWCR7xMTxJ2krcUBjeeoXEQWGfJe09xHB3fXZddBY2One4Phci\n",
       "npGwKFWlXWeIwbd/8bHEUNZ3nCEG3k/x4kvyq+8eJQYkDjSktEgtDESzMeobjjcggw1pKnbvc2HW\n",
       "G1Jh/VCJsQ2UdJYBHo3KBW9ZJ11PhvTEjFgcthgeknZN3DSSHtA6MawJ+yJp7yGGO+oz66Ac8fH6\n",
       "vCHiGQmfNSvRjIY+jhiYvr2me2coUVSfo8EHdXHTG768e5gYKgsxh9AOy0E5D4Po0KqGwGsohIcw\n",
       "r2lDX61b69BqGE3VkMqMoXI5s/BHSWdmZ7Tupi5PZPWWS+JepqltpEmvQ3EMD0i7Km7ysJFhXdoV\n",
       "YV8l7RYxPFifvlAGY4L48fq8IeIpCbGe/zhHDF475McSQ4f4U4ghrj8JoeCTCXI/MdA2FpChwVqU\n",
       "bRGKrEahBhhRCtHoPe0pNeFniBX3rqMqHFeTHWIoMRy+qwqr1qZ08oUNX1XHA+v4OXjX4HBuGiM9\n",
       "TAyPSLsqbhhIzAbglbQrwr5K2nVieLg+k4tBInK8Pm+IeErCsm9StYHSGWKgCmP8ucSw5x/bJwYz\n",
       "+EpwxCDjdxc0XjlDDJUD6Ew4ZhR3Wrc2mYpb7jiNqy/VoyYd7wKfDebbIo8rpMqSjXKozh+Tdilu\n",
       "6OCcjtVxvjUxrAr7Emm3LIaHBYyU0Hb1u/W5JeIpCR9YK/ExeAsxdNm7h93Qr7l2ghjm6w3vE1eH\n",
       "rTWqPTJR3oOTbRCDcO2MyriwrTSblM7M8nTNbGjrH6/YI3khzqnVlY+Km6bqm9n5StpVYV8j7dYi\n",
       "qocFjCpINyS8R8STEj6yuvK3EAM3unhzpMDe6jPY0JW7h4mB67MNielODXGqepoNkbFPNnRrKME0\n",
       "w9LwRP5jm05n6n5vFItluWLxdcpC1UPEcF7adXGzPtp1V+tS2DdK+5T6jHuYuA6IHK7PTRFPSojR\n",
       "/AcQw1kYdpgYOtSfVRViqDImbIU3OXwlIeniekNyw1tkEJKxQwkNY0qnbSg4R81MkIvppvLGseHj\n",
       "eWlXxSXBlSyJHei62iyEfZ+0T6lPPFjlw5v6O+pzS8STEpYdbeutbS9ODE6L8AYx9ML6b4Q0OjHJ\n",
       "Mhlw9bb668TwlF0Qd9atzaufkrCCfREAI3enmefb6U0U+M49H2+LK44J+2ppP6A+90Xcl/DMno9f\n",
       "TwwCUx4HASXObLIYgoOfnDMgxmzY19vqrxND2V7rhWvB582DWZTcIa185AFz6egu0W+XdkvYV0v7\n",
       "AfX5iIiP7BL99cSQvCl1nNlEDMbdVSfnXfv4Fdtt9TeIIce3D687h2DRbwxj7o1qCTE9m4EZR31w\n",
       "Jur90q4L+3Jpf74+z4s4SUjKbk/y1xBDj6KzsIkzq3wMmqjT8Rgm+I+abfU3ieH1uNU+5erPbwY7\n",
       "JOw3S3uwPl8o4rUthhj82Y7DKmIwZYpIevYf//r7H49/w+//lLUAf/3tr/z3n+mmR9jTqt5W/yeJ\n",
       "AQAAYjhODCSGrOMNYlD6/PYZNLjJ6231gRgAQAzfQQxxs/82kG4iBiWNPWuL8RQmXW2rD8QAAGL4\n",
       "DmKI+3u0Z2sXYvD+hdMmQ0ql3lYfiAEAxPAVxJBDPJtdFDIxBCfsWZMhxzE02+oDMQCAGL6BGHJ8\n",
       "LqsXigdikGQMa0SRHU4tB1MpwWZbfSAGABDDNxBDWUJSx5m9eWs3AACI4aOIQfSrwc5ADADAbyYG\n",
       "ZVb3fgRiAAB+91CiA2IAAIAYgBgAACAGIAYAAIgBiAEAAGIAYgAAgBiAGAAAIAYgBgAAiOH1xOAx\n",
       "AjEAAI9iCMr0dcQQMNdAST04EAMA8HAzDso0X104Rs371EJLHEDPpzBYrc0LSqa0tkAMgKsiKh7u\n",
       "/g+iVc+exVMImgAAAABJRU5ErkJggg==\n",
       "\" style=\"display:inline;vertical-align:middle;\" /></a><br>(see <a class=\"ProveItLink\" href=\"../../../__pv_it/theorems/dc771f7d27696f75c024ab4de57b35d13f1f3c690/dependencies.ipynb\">dependencies</a>)<br>"
      ],
      "text/plain": [
       "<IPython.core.display.HTML object>"
      ]
     },
     "metadata": {},
     "output_type": "display_data"
    }
   ],
   "source": [
    "%proving prob_of_disjoint_events_is_prob_sum"
   ]
  },
  {
   "cell_type": "code",
   "execution_count": null,
   "metadata": {},
   "outputs": [],
   "source": []
  }
 ],
 "metadata": {
  "kernelspec": {
   "display_name": "Python 3",
   "language": "python",
   "name": "python3"
  }
 },
 "nbformat": 4,
 "nbformat_minor": 0
}