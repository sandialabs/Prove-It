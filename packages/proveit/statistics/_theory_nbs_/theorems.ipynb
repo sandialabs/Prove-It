{
 "cells": [
  {
   "cell_type": "markdown",
   "metadata": {},
   "source": [
    "Theorems (or conjectures) for the theory of <a class=\"ProveItLink\" href=\"theory.ipynb\">proveit.statistics</a>\n",
    "========"
   ]
  },
  {
   "cell_type": "code",
   "execution_count": 1,
   "metadata": {},
   "outputs": [],
   "source": [
    "import proveit\n",
    "# Prepare this notebook for defining the theorems of a theory:\n",
    "%theorems_notebook # Keep this at the top following 'import proveit'.\n",
    "from proveit import (a, b, f, g, x, y, A, B, C, Q, R, S, X, Y, fx, fy, gx, gy,\n",
    "                     Qx, Rx, Ry, Omega, Function)\n",
    "from proveit.relation import total_ordering\n",
    "from proveit.logic import (Not, Forall, Implies, Equals, InSet, InClass, Union,\n",
    "                           SubsetEq, SetOfAll, Difference, Disjoint, \n",
    "                           Functions, Injections, Bijections)\n",
    "from proveit.numbers import (one, Add, subtract, LessEq, greater_eq, \n",
    "                             Real, Sum, Natural)\n",
    "from proveit.statistics import (\n",
    "    Prob, SampleSpaces, prob_domain, ProbOfAll)"
   ]
  },
  {
   "cell_type": "code",
   "execution_count": 2,
   "metadata": {},
   "outputs": [
    {
     "name": "stdout",
     "output_type": "stream",
     "text": [
      "Defining theorems for theory 'proveit.statistics'\n",
      "Subsequent end-of-cell assignments will define theorems\n",
      "'%end theorems' will finalize the definitions\n"
     ]
    }
   ],
   "source": [
    "%begin theorems"
   ]
  },
  {
   "cell_type": "markdown",
   "metadata": {},
   "source": [
    "If $X$ is a sample from a sample space, then its probability must be between zero and one, inclusively."
   ]
  },
  {
   "cell_type": "code",
   "execution_count": 3,
   "metadata": {},
   "outputs": [
    {
     "data": {
      "text/html": [
       "<strong id=\"prob_in_interval\"><a class=\"ProveItLink\" href=\"proofs/prob_in_interval/thm_proof.ipynb\">prob_in_interval</a> (conjecture without proof):<br></strong> <a class=\"ProveItLink\" href=\"../__pv_it/theorems/e8371bafacbf5b0fdeab5c7bcb5a87db2b4dde480/theorem_expr.ipynb\"><img src=\"data:image/png;base64,iVBORw0KGgoAAAANSUhEUgAAAVwAAAAdBAMAAAAUS8liAAAAMFBMVEX///8AAAAAAAAAAAAAAAAA\n",
       "AAAAAAAAAAAAAAAAAAAAAAAAAAAAAAAAAAAAAAAAAAAv3aB7AAAAD3RSTlMAq1RmmUTNIjK7EInv\n",
       "3XZ/CtNrAAAACXBIWXMAAA7EAAAOxAGVKw4bAAAEyUlEQVRYw+1Xb2gbZRh/klzuLnfNtUMRuyEN\n",
       "6CdROJfOP2zUaNUpYjkQhFHROBFxiF4/ybCazA9+aTXBUmyEjhOLMP+s5+oEKYuRIoKiBv+ACJnX\n",
       "riK2NtY5na5s8Xnf9y53uTSXCflgxQeSJ8/vufzu9773vM/7HkDHbO3b4LzQCtDbMiEgXMQd/pEd\n",
       "b5NfagU80J7pOEQt6npIdGVn5AZyhU3hitq23gkPYP9Q1Ga5cnGvE71gUOQUTdxOkEc7IzeQ63UA\n",
       "8VeA0bQHsO1As9z98DarEenSJ5lcnrpDpIjynZEbyDWIOZQb2fAAtvU3MUXKIDtEvzC5kRRxRLSc\n",
       "6IzcQK4Skyue9wC2dRnM/1SppBlTrAfC5xrlwid0HFg4fIeWWhBXOM3kRv/wALbxrHjvW6kzdadA\n",
       "PO2T+zB1n1Uqn3aqMwRwcSaTK5+OPr70ns4Aqbp97BhidI0KB1ymWZT7m0/uO9TdCfBKp+QGcJEZ\n",
       "RLnSzyp03ZpRGcDBonUPliWdaF53mTImiBd8cq+nbgQEHJwy1++0k+rqmP9eR9ZbZRrlMi7XPKxx\n",
       "rGnh/HwRXbws2cANcLNxCdYFLWMeGuVu+OReQ13MkDWQFgDuQujF3kkuC7c07T9U7maZRrmUi5m4\n",
       "WNAcVrqcMCH8xSa6xwGycAe9ltKPV9DydjGYEPXPbo66sIXDiuHj6LaAw6fZBRDyK5Eo32aZRrmU\n",
       "i9lt2Tprk9yUAwB8Tr6idHaPeJhwqYX9S+1+5tID+F9kiOfpzsFvx/356X5Nmn5u8bXrNGF64F0D\n",
       "5coDFsnQUJjDDWF1UYe5KiztVj1bJ+GC6t5lne5UNqtbDLZc0wEgehbewFGWKeCRG8tDxN/IrmXu\n",
       "GK5ITEO3KRFq4fuvNdgBH0MmweeRKKcraZS7HwZphoQhs0uXU5zJJ7hdpmB55BIuRe/lE3SqGCvL\n",
       "xiyfXASkyVAJMIjQISmWpyWWgEuD0SD3JuZGsZTC+LRzelRlVXcBnoIJyBgxUyzBOMDv0jqW1z6a\n",
       "IaGgx9RZXTByEJ06c7X3YEK4InBYhHtpa6WsLEualch6bjxlA+E/Z0rRBOtpQDZel+lLeCsrscs/\n",
       "0Bn33cyFsMoA1+cQRB4rFF6SSFErxZOQgZDF5C5I65GF5C6aISGsrlkP4p/2JJPavprmkUu54Cx2\n",
       "nUKhkGCs9tIrg3BZbQcpgL4PEwyQhqyrdhL9jOLVSaPONFO8HKBC4m1fPKRS7m/co5qA5418ViSj\n",
       "DJEq+goOG65cNrssQ8K4GlvJGHStikYk7T/2iSUBxlxWG206q7rAM7YfnnY2YXvjMzzzLZTdhKzo\n",
       "4axJe3y3BiPSOThpZbC8UG7OUPJYuxNwlGRoOGvEqzFTsmKqtJSCvE/uqJzmsKW5rJufYzzAYIvz\n",
       "ruxFONVN8DVNqZlwEKeCG543YTn5/Epfas8jIxuQ27kMM2fwAGrRDAmVwRufgPkq4Cc8tFv33YT7\n",
       "obgCwpTLaq81/0tDHWg6xDlMR73IweZzu/R+YdI/CeOBYct3gDcLBa2R2y+qDjQNxGGyvMjLF/HC\n",
       "wjaTgNBjJ9q8ST3bCvixLdPaR9geqWtnQp8ZEP5v/10TT22pR30I8ltJ7tTWKobvwNhKcoeT6r9b\n",
       "4N/SRbVvNWQq1AAAAABJRU5ErkJggg==\n",
       "\" style=\"display:inline;vertical-align:middle;\" /></a><br>"
      ],
      "text/plain": [
       "<IPython.core.display.HTML object>"
      ]
     },
     "metadata": {},
     "output_type": "display_data"
    }
   ],
   "source": [
    "prob_in_interval = Forall(Omega, Forall(x, InSet(Prob(x), prob_domain),\n",
    "                                        domain=Omega),\n",
    "                          domain=SampleSpaces)"
   ]
  },
  {
   "cell_type": "markdown",
   "metadata": {},
   "source": [
    "The sum of probabilities of samples over all of the samples in a sample space must equal to 1 by the definition of a sample space."
   ]
  },
  {
   "cell_type": "code",
   "execution_count": 4,
   "metadata": {},
   "outputs": [
    {
     "data": {
      "text/html": [
       "<strong id=\"prob_sum_is_one\"><a class=\"ProveItLink\" href=\"proofs/prob_sum_is_one/thm_proof.ipynb\">prob_sum_is_one</a> (conjecture without proof):<br></strong> <a class=\"ProveItLink\" href=\"../__pv_it/theorems/197debbf301ffebc8d460a8e33d0198d88701f2b0/theorem_expr.ipynb\"><img src=\"data:image/png;base64,iVBORw0KGgoAAAANSUhEUgAAAU0AAAA/BAMAAACWQ4eJAAAAMFBMVEX///8AAAAAAAAAAAAAAAAA\n",
       "AAAAAAAAAAAAAAAAAAAAAAAAAAAAAAAAAAAAAAAAAAAv3aB7AAAAD3RSTlMAq1RmmUTNIjK7EInv\n",
       "3XZ/CtNrAAAACXBIWXMAAA7EAAAOxAGVKw4bAAAGYUlEQVRo3rXaW2wUVRgA4H93Z3cueymExISL\n",
       "aY0+GEPCSEs0AWG1EfWBdl+aiCR0RcVA1A5P3pBdfPAF4m4kGGpExkg0GmInYJoYEljBSIJR1ugD\n",
       "EqHTQkKkWJbSGy3s+M/M7tw6O6XMmUk227OnM/3mzDn/+c/pAhA+OgCiinJ3vqfFFGXUtYLbDkEc\n",
       "qSw6x7tenO95TFeXuxP+DcTZLaCzcl+nnnL/mJUCYHKngbSTOxWAk8oSd8JykbyzkCfvTKbJO18G\n",
       "8s7wJHGmfknCTthG3JksBuFckSfePVuCcCaId9BmCMJJVQgzubFAnNFbhJ2RqUCc8AthJ1sJxtkp\n",
       "kHU2FYNxruAJJyFSMM7cArLOzozpxITSPGR/zkSJrLNHNJ1hRR9U8M3mZUrJn5OdJuusZfH6c282\n",
       "c/qnRv05U6NEmfRtqzOpmL3qBX/O8BjZLGTM6mQUMzxT7oGFrr0LcziZ22TXRlWrE24ops49sAzV\n",
       "3jfP4eSwC2kP52EyyfyozckqZWf7PagsXLzPbP/6yifFN3AyF/R3BeBZ9f11MtPRlM3JnZvVrZib\n",
       "ADuz9dLXxufb3Z1frq8N9AERdqv3WSTijE3anNCttDgbFJ2RmXqp3fi8rUF7pmrOHgFiGPPiLUSc\n",
       "iWm7M66cdXEyRrwyo2pC9HYeykAE+0aM0PResTuhZ8LFGa1/GM6aT4L3djZjQ/528eKvATmPKNJs\n",
       "Z3w0+sZQP4YCCiu5kSV7juJnC+Z2Pg/wWUBOY+60OLnrPCSeyfF6I1IwKG/APps1nRsuqscfNmcn\n",
       "/uoOoPFuUsfa6jFuZHiPU/BtpVGN9ehzOqHzjn2PgL57/AQ2TbLMqRMW/vQErBMX4Q2VvNtTdbJi\n",
       "PKPtt6iT28eL91N5eHrWxKH9Zbcam7PkdCYdmVJtZo1pQTuB2VUe1mvxquLtPImXCcs4jFhs+CYZ\n",
       "KOwECYDQrAlB+8tuNd5O+q5rBhBL150Av2tnlOZ2QnatvvTExfdl9SJLcN59vy3DHfxw8KvHM/TB\n",
       "tT+I6IyvldUarUgfw9lheFCAYyMwtJpv7EydcXdqw0t97hCdhO+wrcre/VNzHsXZgMVI3yRxaryn\n",
       "B/7KwFI4A7mWWBEvUBBSWXRugXatRi2GpIQQT1NSrIVaJdFyw3EE3XkPJysDtz9UAixEinP3T9iJ\n",
       "vSWMly4IUa1pmMEqvA37ICeyElOCvQDjXAV70EatRi3SAsv3CbRYgOiBsccaj3fGmTcyE5adLQxG\n",
       "4anDpWiLHqLcnPFJizOk3vQidcc6sq239xMcigVInbgEOQjJuvM0V4mcbl2l1ahFGP5P7saT1rS2\n",
       "ZjYqmcbx07HeoB9Qlqr1zT+pj5wpA9chP7JShWdcnaFlE4uM+KlfAXOCYp5RbwuHShL+hC9E06m3\n",
       "p16jFpM8ey0nqmpgxIgxrSSczle94+1546cPvPM60xlPCeG8pAX8pgzs4KbhkpzDHoTOgpgqYv/c\n",
       "B9+rNVqxT0yOsBInszw3lAYjiUk65nd2jvSmDWwZiYfzUL2fx5RMCie5d7FMbTouwZXWj641p9e8\n",
       "tmMGCiuvwOExiJ+QtRq1mGp/8i04PgL4CnesFhrkdbDBDPKuiQ5bP1PP1zycA471APdj737n7+z1\n",
       "LNry5HGbM2IGpYirkyvawB7Oc/eyV+hZtEWRWzanJSgtdz9hV+396hzrDrhzD4vIZsmjaN8Gm7E6\n",
       "aTMoHb6n9WJjJz3vf5t5HtGbVqcRlOiHnGnTfJ31C5Pa/pywOnu2aseb/yjKrAXdPJ2RqnO+uOzr\n",
       "n18DFidl3V/i/Tkp5/PYDb5WdLV9SuL7dTHnBQ/4e/Dr+GCcTc5+cwFEP85cOhhnwdkbN7X62rlN\n",
       "lINx3siT3VeMTwfj/JwsE+hqIE7uJmEnbHV1Dre2+3JGpkg71wkOJ65f4QgPVNGPM1Ym7eyT7E51\n",
       "/Qqf4qvqx5njSTupkuFMXdn1nLZ+hZ/x9bcf50nSTOCqhvNqqLhFTzB78TXjw8lViTvhuuHkWTmv\n",
       "r19XYN4w6cNJlck7k7LRP5sEff0KIRxHsg9nLkPeGZ00nHtB0Nav8F4WWMaHcyEEcPTXnHSpH9L6\n",
       "hqV0FR6N378zcjYIJyvX2rNj04iorV+hZxxu+BhHO/NBOLnz1u8Buq1fG8TyRt8DhFcgkOMd1HXd\n",
       "1/cAX3K/cX0U/Q8FhF6Ee9A1awAAAABJRU5ErkJggg==\n",
       "\" style=\"display:inline;vertical-align:middle;\" /></a><br>"
      ],
      "text/plain": [
       "<IPython.core.display.HTML object>"
      ]
     },
     "metadata": {},
     "output_type": "display_data"
    }
   ],
   "source": [
    "prob_sum_is_one = Forall(Omega, Equals(Sum(x, Prob(x), domain=Omega),\n",
    "                                       one),\n",
    "                         domain=SampleSpaces)"
   ]
  },
  {
   "cell_type": "markdown",
   "metadata": {},
   "source": [
    "The probability of an event (a set of samples) must be between 0 and 1."
   ]
  },
  {
   "cell_type": "code",
   "execution_count": 5,
   "metadata": {},
   "outputs": [
    {
     "data": {
      "text/html": [
       "<strong id=\"event_prob_in_interval\"><a class=\"ProveItLink\" href=\"proofs/event_prob_in_interval/thm_proof.ipynb\">event_prob_in_interval</a> (conjecture without proof):<br></strong> <a class=\"ProveItLink\" href=\"../__pv_it/theorems/a65ca11acd75f213b348c4656044bccc311cde6c0/theorem_expr.ipynb\"><img src=\"data:image/png;base64,iVBORw0KGgoAAAANSUhEUgAAAZAAAAAfBAMAAAA7AIZGAAAAMFBMVEX///8AAAAAAAAAAAAAAAAA\n",
       "AAAAAAAAAAAAAAAAAAAAAAAAAAAAAAAAAAAAAAAAAAAv3aB7AAAAD3RSTlMAq1RmmUTNIjK7EInv\n",
       "3XZ/CtNrAAAACXBIWXMAAA7EAAAOxAGVKw4bAAAFkUlEQVRYw92Yf2wURRTH3/3cvd27bYm/QMRe\n",
       "NDGBaNnkqtEU9WJTQRrxEhON0WjRPwxEZfuXqYCc//AXtqekwaNKt4nR8A89qRramtqGikZjbERj\n",
       "QzxcK9EA0kKt1B7U882bvd7uXnvl4sVi54/dne/c7pvPzHtvZg6gfGVVWoPFKUr623J+rhEWr0QW\n",
       "HUQoIgiFIx+3C+dGALSrA2S0iOAzHG1yzPnrjwCe5iCV7HZrmUBc7OZWS3jHnRJWZZet2GsRADwd\n",
       "lw3pp2Nh+GUOkL5TuUh8XScQRSWQeiY9XyYQLxsxfykh/x6AeAFgR6NFAHBNAKzGz/j1AhB/WPqB\n",
       "nqVrt3EQ2EogrzFfTJQJRGTz21zKO3VoHUE8lywCsk2DEMW7J1oAci9Aj1kbN0FqCIRBy+FyxQgb\n",
       "nMOlvDPAQcQZi4Blm9ZJ9y+5eDqdbjRB3gBYq9tBgjoD8aCH+csW7JESY97dyEF8Fy0Clvs3UuzC\n",
       "c3R97Ex+RiYBWsN2EL9Khr9Op78qG0gwnf4xVcIr3hQHkSd8L4x+rHGBDfIFPuofUBbemnctiYGo\n",
       "dhC5kkA2AOwvG4g3DgFbgEaLv8IGE0Gk31UIPrBL5QLr29+8/S6wZQ85JmAwtRp2EA93hSYQkEjp\n",
       "rsllTWXsiHNQpY75Whwg+KkmfFo9rbkGae3iacTdsQ9uWo4dSSaTmtVWCL1EmOnrx1toWDIFlrbM\n",
       "mLmdQMABkrKDuAcIJKCj50lHAR5CrWVFG06Rt9LZx110navFsSDup0/DEHj5MJr5MBiF9TgebTQq\n",
       "pi3SMV8L03xyKnMClvVV/N7KLnvSWBKmayHIM44ZEc8TiNtA4gB2osIA7waeNwq625XLKAuBVPNY\n",
       "H9d7wQqiZGS0GiA401YBSDQP4o238hefYpeD1vSLMbLWEey+ATPL3EcjBqEEX0k366AJ3fVwcKT6\n",
       "xsh10Hz87EYG0j1GLVTdXhMDpf8Gpo3WqlYQv4e6GGzQbSAwxMC252aH2cq7lgmSglnXOgKhKRLv\n",
       "IM0KksSU5ki/7mEOchiTQgA/XJGS6PM7Z+rBlQpqwgRswS+JU/ArgvjDXpW1UHUlfA4fQgNqd6YE\n",
       "wwoi30ZWlL/ADjLOIuYWeuS2uBwwHCBMACWWWyHvoY8ZFpB1AA+CZA/2BAfZge7iRjdr1Xx8cFuq\n",
       "DEELqEIG2mEPiANQEetCb/UlWAtVX4a90hS8gtpbk2tsriUMcotDDpBPmOM8yiOfbJk9Q9siX0NC\n",
       "0ZwgteNDlgakgZqetYCEwtIX0EX++6nGQVjKZiAuNljXAGwCz5Zk8k3QWfScPWcI5+FmDhJUu2Bd\n",
       "JBJjLVRV+k/6sDtMeyIbs+1+l9Nj77jdteRDGbzy1Zrb4kUcBuH67Erm6FWDYS6Ib1+Ow+7sd6z9\n",
       "e/pVZ5s+CyI1/ByH0AmsLPtms0ogoVh+Gy/gXi0RF2l2cUyGQ2rgTB6EzwhvoepxOPB+hnKKqHsa\n",
       "C7fxsh6M2kB6gU0R3wpxW+YvR5wZwyYIw/z+5DuzWxRe1li28bDTch6RFc0dT/GV8U9cDbr00BiC\n",
       "HGAgGTiNMRJQJYO1sKqUgZNGOxxCbTQ66z0WkI2YpqwgXp0cGhrieVu81DhBbIJXnec8krKC1FlA\n",
       "/NmYkk1BMzNU39cHSt3dL3VOeo49XpUS/6iOSo9EoW+MWlgVTkV2G3K/gZp7U63mBJEePgGdF9U8\n",
       "yLtpXapi2yZfDy6Ipi0z2p17fpvQPM/BSjIsILR3d5wQpZ5km3OIxIFi1YVOiAsdEKREMWHfPCCK\n",
       "9YRI6Fdw1GXr5vzVfwsCrxYRFOd0yQVn9s8AfrvCM3vTpWLVkkBcSdprXfX/orw4x/9a/80/XUr6\n",
       "KCzR0lK7NDjEysDSAAnEl4hnhXRpaYD4uiP/167/A1tjxTSOIUJRAAAAAElFTkSuQmCC\n",
       "\" style=\"display:inline;vertical-align:middle;\" /></a><br>"
      ],
      "text/plain": [
       "<IPython.core.display.HTML object>"
      ]
     },
     "metadata": {},
     "output_type": "display_data"
    }
   ],
   "source": [
    "event_prob_in_interval = Forall(Omega, Forall(X, InSet(Prob(X), prob_domain),\n",
    "                                              condition=SubsetEq(X, Omega)),\n",
    "                                domain=SampleSpaces)"
   ]
  },
  {
   "cell_type": "markdown",
   "metadata": {},
   "source": [
    "We can prove that something is a sample space via bijections.  One bijection maps onto a known sample space and the other maps to something with equal probabilities as the first."
   ]
  },
  {
   "cell_type": "code",
   "execution_count": 6,
   "metadata": {},
   "outputs": [
    {
     "data": {
      "text/html": [
       "<strong id=\"sample_space_via_bijections\"><a class=\"ProveItLink\" href=\"proofs/sample_space_via_bijections/thm_proof.ipynb\">sample_space_via_bijections</a> (conjecture without proof):<br></strong> <a class=\"ProveItLink\" href=\"../__pv_it/theorems/b8756424a59918af6ae92a3ef304e80752c273d20/theorem_expr.ipynb\"><img src=\"data:image/png;base64,iVBORw0KGgoAAAANSUhEUgAAA2YAAABACAMAAABGFpR6AAAAQlBMVEX///8AAAAAAAAAAAAAAAAA\n",
       "AAAAAAAAAAAAAAAAAAAAAAAAAAAAAAAAAAAAAAAAAAAAAAAAAAAAAAAAAAAAAAAAAACGKEuzAAAA\n",
       "FXRSTlMAq1RmmUTNIjK7EInv3Xbh+fvl1/OhCx0iAAAACXBIWXMAAA7EAAAOxAGVKw4bAAAPkUlE\n",
       "QVR42u1dibarrA6WSUb578T7v+qVSUFRHEr37q6sszY9Com1+SAJIXTdbyzE2DL8MIm/XrB+3sEr\n",
       "iuhF9v/eiR5cff6FMCNjYT9M4o8X3W/fGobbb45ebUDL/6X3vzG9wo/WX4nm2X+ZlbwArfTzL4TZ\n",
       "byDxtwsx24IryX0Qw4sNlteJzutXP1KN38R356VwubqkYPnzA7Pv0nQU6vZgBqb/QHSBPBwFj4LB\n",
       "GAAA56jcYNJepRSl6wEHKK93Zqs9hgXKx/jFegdmYg2kB2ZPsaLdd7sww5NQ9RfUNeGpM+PQSlW/\n",
       "0cBzA2wSRFF4rGj6LEygUtlmWKR8jF+o96Z4qMQDs6cU5JHtw4zF6YzyKyD2MwD1Ut8hI8sNghQS\n",
       "LgrXY0E4r/fms02GRcrH+IV6V5Me8AOzp6xHbNDtw2way+UVGVG51LOVy1elv5QoXk8uiryuw2zN\n",
       "sEz5GD9f78IMLi3dB2ZPWUvFGmYojPP9FfJ9LvXE9OUGjtlQvp6MCSiv6zBbMdygfIyfr/f9Qj1/\n",
       "YPaUpY6zrwk6iVKDLUpe0RllLvXSwI70SkMZDD08UUVADQAvOwqtgWAyzKQSdFldh9mKYcIRSq0p\n",
       "OsPP1/swgwst/IHZU1hlJcdJFHZyw8UF+nEa8FIvtPdqKgypQat5yeh1xxF3GugO+4kOhTkHzXMP\n",
       "HpICFjArMJw5yt66SPgZfr6urHIo/MDsKVkBlZfjJIqC+GdrAOeGj3MFUGDpThlglPpBShlXpoZR\n",
       "iEXewLVhq46IWi+G6IBHAQwWFFT12WyD4cQROkswQvsYP19XYIbNA7OnpEUYfABmbiJbyxbTgHOS\n",
       "jOB4beYpEqWel90uiiTa1rqjBV6y4sBMXu/BbIPhxFEBR4ie4efrCsyIQQ/MnpIUZNgRmEFdcIBg\n",
       "nPTV4wwgC1rlBsxwCWapByS9rmZdkqi8PgwzvAawU5e1OsWPHJnNunyt7oHZ1xdeezdBovoOBdnT\n",
       "GlNtp61FKIbCJZQlSmMm9XLVwD4MKHQMsWDCE4cBiXCo22YbDCf10M1jE89j/HxdgxnOvLcPzL6+\n",
       "GH4MZhKGxTNNO8C7HnZi0VOX50WuK1LPdWkWidfFqJQCO4OEDojn9eHZTK4eCRmnNKNT/HxdgxnM\n",
       "tMYHZt9eiJHHYEZVGPWRE8gRUWSxciVV0cqLnnCWLV8lkRKza54asuoIDRN4FHsSxDO63XF1cWGT\n",
       "YeQo7JQDpgXxY/x8XYNZXEx4YPYUr92QYzDrEhei14hQz10JciOFNiWlkTkti4LeGBChQYBRAGYN\n",
       "Vh6QcF1grTuIUWw9kLzeFPRthhNHArTEwzl+vq5uW1DqgdlTZl3KiIMwS+RfuZ1XLJtPrF1Wns6q\n",
       "29WmBhhUO9Ihr6+VhHLiGjnCL9RVmPEsauyB2bebZlVxXUgUVW5R1wpnulqNReedjetSjfL1DSCw\n",
       "Bl+tYwzvxejOt3aUGRB52PQRfqGuwkwb+MDsKUU3waHZDGsitbZ4ojyIqMDDMF4QwBQjDXlt94xr\n",
       "MPDVRpR1x7hF4NJWgQVloEQnen2KX6yrMIPpcuQDsy8v0OCzMEuKkNY2q+6uFvxIA6RXa9vrjhEI\n",
       "/GaaAkvZWWbkHL9YV2HG0vHrgdmXF22q2/3l/VwgVF9ssLyuaV6/+pFq/EKtB1WDmUi18QdmX17w\n",
       "b80A8/lGr9mE2c2cD01hdufZXkDijxZunnxfbcqQuIMWMLuX86EtzO482wtI/NHSmxe8CfwxM6Lo\n",
       "xU+82QXM7uV8aAuzO8/2AhJ/tChzX+4w+Jzvy4Z34Ywn6/5L2+xWzofGttmNZ3sBiS+wIC4W1H/S\n",
       "F0bvGhNAYvUuYXYn50NrmN14theQeGC2NT8o8VHfmMOfh9mdnA+tYXbj2V5A4oHZlg3yYS9TvGlY\n",
       "wEmM/gpmN3I+NIfZ9Wc7QYIrpVqc2iBHulV9pRXzTe7iNsygER82srzJlNyFWZbzQUuEVrFjWmvJ\n",
       "qiOYyHYLHutTw0j2bMvcEzIIqFaFffJlEuXBuZ0PklV/35YOUFaGmbpJdvg4zYCat7iZZbLwv16e\n",
       "nnM+hMTqOHjlQtoHNx8cGBBoArOjfSowW+SjWOSekH5Y1ewEiQdmd2HGPm4yK54l8XaYzTkfeHAU\n",
       "+OYx7YP/WeqQEeki+ME+NZjl+SgWuSeE25+I6BkSD8zuwgx84NIIUj8PsznnQ9w85LJlTmkfeuBi\n",
       "s8d/EtnlXsEHBjUQCAFiF6QGpKXdFOFhJpHWc5/5buhs9VIN6NRQQyTRNkaSfBT+AbPcEzZpF2IV\n",
       "pC5InJV0mph1cvduA5jdYr7B/a5tZj4wnIa+JcBs1zZLcj7wMFDZWWIOXaaDGRxC7MZURcND22zG\n",
       "LheJy8Zlz6RzMLP7h0bjbuoz3Y2dJfa7vn1DIkshnQlGpmcL0xnL355GpDYhLkiclHQG59VNJPfu\n",
       "NoDZPeZtYBaTrwkwGOXGyw4qs+/GEXgssMPHmfQL981pCkt7Ev88zKacD2HHuHuTadqH0Uiz8yEd\n",
       "L9ujo6jVzq26a/fU+j+dIQ5mLqUd4XOf6W7o7JIxUBEbMoOh2MMIzd73MvcE3wyb3iRxWm+bZJmB\n",
       "3oZrMw0Ta7ApzO4xbwMzZOZXHHVxvj/BCRfvD4cza5f5WRpXKOQIeMe66e66WZfkfPBpV92hxHPa\n",
       "B+Gh5/W9QQdfB9AZzBRyMEMKjYXMfaa7ofO0bBwaEm7WqSnS8Po0pe0q9wTmdfMuJ3FD0v2Rc24j\n",
       "4jw9vgtmF5hvcFf3YAZmgR3CxKYrW0SkHxtPxY5keeUuUciKNr8AZtO47zezcpvEaPbG+y886oeD\n",
       "y3AkijBLZ7O0z3Q3dKYBJ6EhE6WXt7GLZZ17YtBHYHZf0nVvR9dR0oWfqjnxV94Cs6vMN7gPZzyF\n",
       "a+svUQ20T5EFV3aP5jYkYPpZ43I2vwyzKxSyAt+xLSHd+7AHM+k2sUHmzO3pDZuQUV3Y32fQ2sOM\n",
       "TzCzl+0p1842s/qD0FOf6e7U2SqbY4PQEOLSyytjJMk9IWTwmrH3wCz8Vrgb5+whu/a+2ew08w3u\n",
       "pzbCsNVvk2Sf807L1aHQpNdiodr7L4kuw+wKhYVF+QYfyLAdoZ//5k6B08a9yintAyZyLFbEMUJs\n",
       "fIfAjD+56gkFtiEzCGpsrVS3+11K60Cc+sS7sXNsEGqINZL0AEby3BP+FFXEjaSNYca0mqKOBbdu\n",
       "TaLRpCWld1u4QG4x3+Bezx+XmWJyx9FoQ9LpsgFdOZzgKFATT6S1O2qa9QpTrcfRmox/iUWnkgjj\n",
       "cFyEhxnF2umLCYW8WaRmBUT6g5NiHza+Kt1PI8Ib/KNqe1vnnuV6LO0DU9fvXscIvE/i4IRyUPmn\n",
       "TWazO8w3uOuqxGWZsxeZQzLXODRA4APfaBy4jel9Yn47L3mHxGCzKI7DMInrWso6tIR3CjqYMRXc\n",
       "1CmFtNlMjVpZJopNfbynfEobYHR7mKUrki9PUrB/TgczTWBGxEUSAq9iyaJcbB8kdET5n8QtjVc7\n",
       "DrOXMF+En5W5I3MuJAJmOd5y7UuZNYuSm0IgoIyDtwMG8Znsvdnu3NJOke1DDmASYeYR5zjOFNJm\n",
       "M7W+D8RjH+LihXVB121VaMtcIF5zvHb3OszQVRIcEeY1run8oHn43TpI6JBiHgQqi1fbgFkr5ovw\n",
       "szJ3Yk4G54g+WTYhmcrJ1+4UpuI8yJc3wk8iiPQw45P8B5hhr9/hADMWYCVzCmmzSE1EMZv7DIYn\n",
       "s7xpv3CWvdgvT7kT5CI9P2iW9K2DhA4N+l6q8ni1DeuoFfNF+FmZuzDn3OK0Tw3gxWy2JlVIHYdS\n",
       "hAoMIExhphcw8/ObhRk02K76jDZpRiFtFqmxqBTOfYQczAyuN8AMpYrpV8MMAu81yM4PSoyJjYOE\n",
       "jhlIzjWbxastBH00yW3YVzvmi/Czjbl0qL3dzDYbclsrgxktqSrrnMYReBZL0M6MbA9m6WwGCxTS\n",
       "ZhO16WTEqQ8VXXqS2xtsM5y6cI/DjGkk/xjMwhk6+YibyNEczCV6K2L//OvftvzHffzPJHn//Nf+\n",
       "/d+/p5veWWDH2jRebSHo1uE6Sk9D5ovwsw2Y4TPbQghfGiAoHb8LDjK9Euhw5INbB3JwGK0pRgsw\n",
       "i+ezRNssrNGRjELabKbW98EzFvtA9xgAFRykjUqfnTt6FGb2R+J/DWbYDXr5+UGJpG8cJHSMo3OE\n",
       "pfFquaC7hfketWTe5eFnGzBDJ0SO9iuVU6emWVHcllI1uCvCZQF3wBgHFEhdVOwEM6cNWoeG8NvZ\n",
       "gqfRXh511pRC2mymRp1NPDaNfaBzgcSUwe+IHc7OJjgMM/5z6fzawcxH3+XnB82SvnWQ0CGHa1gu\n",
       "SuLVckF3wS4j+loyz8PPNmBGT9gpayGYxwLMjQEFXUwAnjuCQUewBID4Z9JQj2aTZvZcJAb5+LeT\n",
       "vbGo6cGoVrtmDCgXlkwx1tYyTCkkzWZqzoWsncsj9LFZ//W0XMdOLRZe+w0yDfowzNxq8F+DmfJu\n",
       "RlmcULYPEjqiMtBgEszxarmg2zVTu4rYkHmXh59tLSeo4ycYrdXL/oCGQyRPg60Ofwv8yma5Ud5+\n",
       "L2q+e+QwzIhECP0xmInwtrNQvSijOwcJHfgd49JVGq8WBd3FhsHxMwBNmS/Cz7ZgJu/IHG63Q7Ih\n",
       "zOTQXGh59mK+2tMYY1Joqgw5Sa8cJFT/HVm0g5N4tSjoPjZsVGrcmT/tmC/Cz7ZgRu+43VC7eWEA\n",
       "r2yWY6B50h2RL0d+NcymU+PSQLJ3JCmAqc76JubbMSh9f0ecGgmNO8SWvqrZ0j3RXC9DeUT2F8OM\n",
       "w2Ik0xtgRoQ75lj372S+DTN0J9MTx93HFdI+tVWfq6VfDDOpdfcKmMnTgm63nHPkcqK8j/k2zMSd\n",
       "CL/3pK95bZHNN0/TxXz5nG92V9KRvC/o72C+w/2OH0O0942/vLQXdGm6B2Y3Jd1n4BAcQwTKWTka\n",
       "wuwy8x3u4o4TRH7ceQS6+QS8eqEPzE5LeszAQXrXuJSVox3MrjPf435L8NSnnUPYXs7x0D0wuynp\n",
       "IQNHR4ALi0izcrSH2XXmu9yHOz792nT2c9Gw5THlDZYZeWB2e0IJGTgI9pJeyMrRcDa7zHyX+y3f\n",
       "W2V17wejYYsYUM3djAB0D8xum0c+A4cAAyMDLmTlaGqbXWa+z/2OhSWG3afmv0qpFENzKUfrk50e\n",
       "mJ2X9MvlF+bQn8FwQ22ku4bhD0bDlr5n85VpWjBWPwNmtgxvIvGlMPOZfK9K1l7fH4yGLXzN9ssP\n",
       "Cx26d6IHV59/XRHEFvYmEl8Ks32oPOUykJkTPbH6/OWlN81O66xnt2nF/Bj3p7yn/B8lA7abL99n\n",
       "VQAAAABJRU5ErkJggg==\n",
       "\" style=\"display:inline;vertical-align:middle;\" /></a><br>"
      ],
      "text/plain": [
       "<IPython.core.display.HTML object>"
      ]
     },
     "metadata": {},
     "output_type": "display_data"
    }
   ],
   "source": [
    "sample_space_via_bijections = Forall(\n",
    "    Omega, Forall(\n",
    "        (X, Y), Forall(\n",
    "            (f, g),\n",
    "            Implies(Forall(x, Equals(Prob(fx), Prob(gx)),\n",
    "                           domain=X),\n",
    "                    InClass(Y, SampleSpaces))\n",
    "            .with_wrap_before_operator(),\n",
    "            domains=(Bijections(X, Omega), Bijections(X, Y)))),\n",
    "    domain=SampleSpaces)"
   ]
  },
  {
   "cell_type": "markdown",
   "metadata": {},
   "source": [
    "We can bound an event probability via a subset event probability."
   ]
  },
  {
   "cell_type": "code",
   "execution_count": 7,
   "metadata": {},
   "outputs": [
    {
     "data": {
      "text/html": [
       "<strong id=\"subset_event_prob_bound\"><a class=\"ProveItLink\" href=\"proofs/subset_event_prob_bound/thm_proof.ipynb\">subset_event_prob_bound</a> (conjecture without proof):<br></strong> <a class=\"ProveItLink\" href=\"../__pv_it/theorems/06b0f87a3e1952056bcee941f004a52db0d1eda80/theorem_expr.ipynb\"><img src=\"data:image/png;base64,iVBORw0KGgoAAAANSUhEUgAAAcgAAAAfBAMAAACRw0D6AAAAMFBMVEX///8AAAAAAAAAAAAAAAAA\n",
       "AAAAAAAAAAAAAAAAAAAAAAAAAAAAAAAAAAAAAAAAAAAv3aB7AAAAD3RSTlMAq1RmmUTNIjK7EInv\n",
       "3XZ/CtNrAAAACXBIWXMAAA7EAAAOxAGVKw4bAAAGd0lEQVRYw+WYf2xTRRzAv+vr63u9tm+d4gQJ\n",
       "rtEEo0Rs0mo0iBRxRphCjYliNDiixoA/6P4yyI89/zExQdZACBTMVhKjIQorDA3YOAooaIxkEf8g\n",
       "keLLMBIE5jbGwCHU7/fudX19Yx26Js5xyV3ffe/b+97n7nvfu/cAypemZGMw9pKW/bGc3dXD2Eyh\n",
       "MQmpDC8Y0VdiRU+xsQvZeW2BggYWjeScgcHHRWZGSD/93FkmyAr6cQRH2Y8jpUzJVU1abxHwH1c3\n",
       "Qtg7b/ilpypREE7D/FCuqmqJzlW5eghqqem1MkE6ozSW0YafjwHUHoCV9RYBpfsQEpYW9KZyQ01+\n",
       "UA7lRYz/5zuAiktCdSmHfJf8IF4mSJX8Yvlo+5mDI0JI6bJFQGn2RSzCg2oz5/GfRrQ5K2XKnLRy\n",
       "ylUAuU+ohjmkKwngCZRrT9LE7RptPxkBqV6xCDB5VuDqgDdpCs99CYOQTR2m0EuFhHrSVaFKOQQS\n",
       "srvKFnhCZYg/jnoBKfdbBJhWa720GcT+Y18ZUIB8KW9zKhUV6Nauw0KVMg7qh2z2+7JBerPZ46lR\n",
       "duNMCUhPr/xG5xcxIcAUcZyn9eSRkj01GGsIcl/g2SPTKLDU8eWMA5uiC1XKCPkEwOayQTp1cHN/\n",
       "Yra2SP4hOWI3NPkIyc4GwftoYzC/eHJApU0q0aKx6sIGQ8gdBwG+voum4GUeipq7qoOmqiTcqwEU\n",
       "pNXawvm50br22BeDtQzXYoPErhr482c6lWpL3e5NvJ4PbexbLPYmEhsB3u9Lz6X5TiQSMat9HwIo\n",
       "V9Lt+OPrYKYA548vLzj4BrVC/pymYzTLp4/f4P6IgeOgqUoZId1JTxQYCueifO2kDbi0Tr99/I28\n",
       "vFaL7TKwGT7nz/vEKGYCnC2C9OC+2hblj1IHaBlgGzi7aZ97GzYrf4pF9ecFAKcfm01CtZvfCyzu\n",
       "KrpezMtvqPiQ7OtClTJCOgyMO24cYKUBzidELBuC0pqPciNBThdxR14j4sIEDO9FkAuPAGwUjxUR\n",
       "kLrBzQ870/4QyMggJMNWCrdyxh54RNevFCBpwWcZQlXOmNHwEewHe/PF4SSfkyTElLZa2HZs+m2h\n",
       "W2D50TPzCLKti7fw6opwFLT2W0nWOSNohXRJ3Lgm1gAOADtaBGksBsV0eW8AtgdhhXgW9gvuakKm\n",
       "8gL0VoDj5IMd9iNE/O11XpK7qrQ5a6JClTJB7sLDzY2alSnG9VddqYWKlDem9MISuBfUi/AbQroC\n",
       "ziC18OpkOAy7oQ5l96cUwwrpmcoji+HkC6pcDc3WrZAaPA4Ocz81ngxPBLiDPwv7Qu42bJAkgGcw\n",
       "LyMnj9svA1bIZrKBdwa131SlTJArcdId6LpNMVksytoaQ4m5g8oAbIE1oGagMtoKTSDHqYVX34b1\n",
       "7CK8g7JNffcUuauyn3urrmXMbbc1YoVciFvUtIL7lU0Qg8/bN7et3xwkrmEkL1Cov5bCecIPRT5/\n",
       "TeKM/ImXO2lmUPXFpeZZRJkgK0j3ZoD5IC1JJNZhlMLdeuacoXTD7QLSG2yFh0OhKLXwqtZ+QsZh\n",
       "kez5XLToLWQij4TpnQPmtlMuWCHr0jVJZu5rJGyMwlZR4fZFUjtAqc5Nprmq2R8QAtbSn4S7c7hc\n",
       "vqjtgr6sh7Cf/usmqn2ANlt6qqrX8SmKipx/1VLwDhzXVT5LOIYOX9D9ewFSrKRo4dWj0PwJUqBM\n",
       "TUr1Q1+1DFAumdtOvmSB1JBLz9/7DuBNRTevlMK++e9j9ohmFawqecb6dJvqKsv7pEeLOfSUuBVc\n",
       "wNOuNenrQshmghyA07gn3UFmUAtV2QCcMLbADpR1RgZjSgGSHLIXPkWiJGy3uiv6ZmUAnHs41wAw\n",
       "8rE6vWBfpLB96OHi23uJJEVsqnMskK5cVMulYDkZrE2nQZvz4Ftb+6RDz9Wk1PPTI2xBBNJdvIWq\n",
       "8GvoPcPTbqDMMX9GbAjkk374qD+6JiAtS+9eBwVI535gC14FeIEuAw9cTs+lVZTxahAz7ZuRx/6u\n",
       "ZhGIFyaW5UkfSrkRilS5uu3LANub2GD/m5opVS31ZcD6bvNPXuZYfHiBe4SX1W3FU8PVr+Pzh7hi\n",
       "DFctASkn/yUkrB5ecGqkz0NGkeqp6/zG03C5VLUEpATDQE5K8Luree9J8Lvr/+Zr3Zslvrv+d19k\n",
       "texBuAHT2hnjn1H1u8c/pFu/AbzVl2TjH1JuC41HrL8BsJLv8wwbfZkAAAAASUVORK5CYII=\n",
       "\" style=\"display:inline;vertical-align:middle;\" /></a><br>"
      ],
      "text/plain": [
       "<IPython.core.display.HTML object>"
      ]
     },
     "metadata": {},
     "output_type": "display_data"
    }
   ],
   "source": [
    "subset_event_prob_bound = Forall(\n",
    "    Omega, Forall(\n",
    "        (A, B), LessEq(Prob(A), Prob(B)),\n",
    "        condition=total_ordering(SubsetEq(A, B), \n",
    "                                 SubsetEq(B, Omega))),\n",
    "    domain=SampleSpaces)"
   ]
  },
  {
   "cell_type": "code",
   "execution_count": null,
   "metadata": {},
   "outputs": [],
   "source": []
  },
  {
   "cell_type": "code",
   "execution_count": 8,
   "metadata": {},
   "outputs": [
    {
     "data": {
      "text/html": [
       "<strong id=\"prob_of_all_as_sum\"><a class=\"ProveItLink\" href=\"proofs/prob_of_all_as_sum/thm_proof.ipynb\">prob_of_all_as_sum</a> (conjecture without proof):<br></strong> <a class=\"ProveItLink\" href=\"../__pv_it/theorems/b2da88aa30d56b861f4f3410f730944aa2682bdc0/theorem_expr.ipynb\"><img src=\"data:image/png;base64,iVBORw0KGgoAAAANSUhEUgAAAtsAAABBCAMAAAA3zJiWAAAAQlBMVEX///8AAAAAAAAAAAAAAAAA\n",
       "AAAAAAAAAAAAAAAAAAAAAAAAAAAAAAAAAAAAAAAAAAAAAAAAAAAAAAAAAAAAAAAAAACGKEuzAAAA\n",
       "FXRSTlMAq1RmmUTNIjK7EInv3Xbh+fvl1/OhCx0iAAAACXBIWXMAAA7EAAAOxAGVKw4bAAAMpklE\n",
       "QVR42u2diZasqg5AGWWU+yb+/1efICA44lRddss6q/WoWKDbGEISAXjLEwts25Y9tvWmaz36o3eO\n",
       "WlfaGyt8dW9iIWZxV/P0W4zx/jqykeVF8BcWra5/IQ20K/zGCl/dmyjdVgB+Ctts6b9H2AZGFP/l\n",
       "7roGhpfWv5CGuyt8dW9iNfZ4ts0IMGpOsQ2EmmzSaHv9Zfu72JZ67e57thlsrYUQCjF/KG20+nhv\n",
       "iVJJc0CTnzf4FNtySuzL9vPYJquiOezkFnrI9cLBn2dbQZ6okjOtiirzMbYB0vJl++lsc8sr2GY9\n",
       "2wDbeYibj7OtERURPzLDLyan2AYtedl+OtsNBDvY5gtmmI+zTW0mV/Us/PIU22g8CnnZfhrbyLI9\n",
       "bFPbfAfbKnvG0GybGnyKbdCIl+1ns90KsIdtZZEbORqkmu6ZkMQYQv1hBHerH7vLGOoWkmFUGdRu\n",
       "Y6DkSqGgkJ9jG42UtZfth7HNt6yzBdvS9DYVTRCzGHA/Yymcua3xqw35WF+tmUho0P26gQaQXqTj\n",
       "ZsI2abMCNzV68rL9ZLbhVpXEdquUilbktqOn02ZblQajvdZOLd1nolmRmpmqNDNrynKhGqbVMXNj\n",
       "XQkgDpaOc3IbEPuy/WC2pSW1bIvJ+DPKfGc6CRJ7+XRIWNGxBzXMoBzpQ0Z1ek3PNKbrzwDKu6r7\n",
       "g92JM4MmtyfZpha/bD+XbWz5IbZJz1fPlNsV2R7Ryg0UgmaveFKMXIujqdPgAdPurywVBqrWhpKR\n",
       "bb86yHh6Vm6D0pj/sv0stsVmjXm2VSG3yZLcJiR7dEynLqhyQiQ/Jwq0EreRjHSbZjyRInL4B1c/\n",
       "7z4gZX7C4/p2p5Swl+3Hsm3FCbbDYMsr2VFLcSw7xcLrFgaPxmYjtHO2kwKNXSd6LNOJgBrzo3Md\n",
       "3I9mgexeENDJ6iDksTgrt1GhlLxsP6w3qpJtXti1w5wd1zyC3njJCt2qYQAK0KAOtpE6PVGAsgNg\n",
       "PL/q8GT+P+lEHWVkPJTMBXtv7UOWS9JVpoG1YBk8wXY0fL5sP7A3ZNuuEXylGmthfA4otBr6G8qI\n",
       "UtCfQkhEqfGr2AvSDmM6okppssx2ckhxbwAqihPFDQtDScC9mHfG9u4hwBG1lp5lG2j9sv3U3jRW\n",
       "VsrtnaqO11NxI3wJ915JY5d1kuiMyF1dBIsTdVtHbJNSWW5nRsQs6O9n2BbFxP7L9pN6UxGjc4Rt\n",
       "rn1wAC8UHqdrjwV3RqzodlFnM8cZyuFEI52kI78pecIzpsfoP3WGbWPRy/Yze8O2h5L72WYaqKY3\n",
       "SYtM6hEZTCVLY0nNsDQ8TDG25Ym6UWUupcXEp1VMnGJYPPcZtlFu93nZflJvkCXXsw2IocoY6fkK\n",
       "uoIkbSud1do2eIHtTneHBkLZy2nP6nCikl1syBhlOXlIU40zbPP84X/ZflJvjDW36CQDcsrp28vj\n",
       "1TGRlADpmzSarJGb7xc26olJ9J9hW+ZK2wrbg/aP8LfRUN+2iM+v6A2pCGO9NV5STJQk2PZaSymZ\n",
       "yYksEmfYBtZWsT1MNTXs22iob1tk+1f0RtjtmPjmzvwkYvprNBt6Jjzp0R8wbavPsN1mA4QVtjkc\n",
       "a/nfQ0N92yLbv6I3jf3h53Lt5+Xs6odLfoXW9O3oE6DQ19FQ37ak0v6G3uht83Y33uzK96hdFxXi\n",
       "elXxyIhscmuN7aj4fFPGi0hDddsS27+hN7Zi7Ikg+KVFV7ANsxHJqp1Ee/erH8hkUYFqbdsGU8Qv\n",
       "6M3L9mVs9w6PQn4jDbVtG9j+Bb152d7WXXAd2wzGP24EqzCepJUwxii+KQll4XVcV2eLhqJtszEi\n",
       "Y7aLGvPKmtbaXH9PVHdauKM3RTxLcR1fti9j2wsS5ZXzkKeLRL+BPjzDixuyfTFZdk9q62yJ4aFt\n",
       "vr3TGJFxhVGNuUH2bVYIDnf0Jo9nGbGtX7Y35Eg2u7XONjJxfCPCMKevGsMz+ku9fTFlblGvrLPF\n",
       "9tA2L+mmMSITtssa38V21rYinuVl+y62u8uNzSAXQciOkcIzGui9ELp/CrsJCClajgyUGDsnYSZa\n",
       "bJTzuenZVth50MQ6w95Q2b+KIUsHGoQVXkE1tS00cBbtYlq7rLGXbZapw2p17wG2h7aV8Swv27ex\n",
       "rVAwvYogRFzcx+AswFrbeiydG7x7hzI3THX5fbzw8a69Lle0Z9u5OXYKe6qT9sbKivSxF/2BzkOB\n",
       "mRUaUtuC4OZb+Ixq7GSbozZVxmpt7yG2U9uKeJbjY8nG6hhnqLWttA5/orC67Wy6+Vp9u1P64mgt\n",
       "zKA5HvPwjE7xdk8K6za7dLjMXUGXCtk58vZ/gKWebR+h78MxQp20N1SW7txMxgO5JUiu0cCKAdo0\n",
       "RmTKNtMbqfTWdZJEL4eNc+3hBhk+3XuM7dS2Ip7lONs09xqSVFlrvgJtg+q2x3zc1NzFNkiGhz4/\n",
       "iv8WxRCeIXvee3WiNWHQCE3BtsaebaxxV+hQJ+0NldNERjiQCjuNoMpRzY0iMzEi0woA8kvY7rNH\n",
       "e5/k4UVwku3UtiKe5YQNUJX+sBJ+6rsoq7m/87zbdfm4h/jkS+3beYN773LhouEGA15/Gds++EIY\n",
       "Oct2LrfzOmlvqMwCnOFALlMWrSVUc7SnMSKrFY6ybRonTrs7Ift3kKD9lvNsJ4tJHs8y1jj32ACb\n",
       "kWSAH/NFWc79ncco1ObjTuLjLraVd7BF3I+i0rDJXz0GO3bdzegGgJ5tkdh2m92XSLy+7R5jaVKd\n",
       "tDdVdrqM8wbuD/RRSaIO1dkYkVvYDvwQ0L2M2mLbVWyX8SyjFtT4kyTHK1vCID+mlCzn/s4nSKrz\n",
       "cZMdbOeekrVsN14/MNa3NoVnEKq64rgiGPPGSNi9CLFuKIPuQG4xMsRFcfj3o1LO/JHqxL2xcjwg\n",
       "LBExWLEKGpZiRC5mmxudXJmkwC4s3GBDZ/aeY7uMZ1m+c9t2Emx/yOVxOfe3zvtemY97slyVP5V+\n",
       "gCv26o3wjHhH9fG9m/btGypcYt827CTbfgeZFbMVKRxyGyD8ofHjYu7vPO92dT7utKxhW9fFJlyh\n",
       "dx3fezvbkkxehJHtlSn8Cn03vkJzJ4W9bA/xLOVzU+G8mrEtteU/yXaZ+xsMebd35eNOyxq28xmA\n",
       "O9nuFZNje+9nW+D+w45ZdsdBbi9O4VeUNnCVOynsZTuLZylU0IpLls/d8J/5aOxs7u9cAnsKa/Nx\n",
       "p2UF26wyXvIry3VsB3Uvz+44sL04hV8juD3OpZPCbraXOgN3sT02BH6M7Znc334VZcfU5uNOywq2\n",
       "iwv0V9lGsB/7FdkdM317aQq/SuMWcuSkcBXb0jb72P6ZKLS53N/9VR1eRvX5uNOygm2cvw2Osc0N\n",
       "Vs9mOyQNLXMNZGwPU/jSBde2//zr3678x6/+J6XN/ee/7u///p12+uJsSrmTwmVsg9buZFsdltvH\n",
       "P5Ewm/t7zHZ9Pu60rGCb5G+DQ2y7OyUezjbp0/XiBbaXpvCrfrKhpZPCdWyTbTFcsE2rbtPFn0iY\n",
       "z4880knq83GnZQXbTfE2OMK24OCnymVs9xPCZXbHge3FKfwa61A/kZY5KVzHNt42lORss7UJpds+\n",
       "kbDMtjBz8nkjH3daVrBdjJ0Pse2nSh7Otu6NJGpWbi9P4VeU/iy5k8J1bLPtsWHOdrMihO77RMJ8\n",
       "7u/cmrcrH3dabrPNCzvSIbapwhg/m20ZxHLhdR3ZXpnCr3jB97eycFK4jG2g2x1sj5yVfK/u/0TC\n",
       "Uu5vEPNuT4aS6/m403Kb7dLR+a/aSeKkKMv1K8/2+hT+dlE8aH6Zk8J1bKvNJ25g25Qy3jnDf+IT\n",
       "Catj4fgrO/Jxx2UF26KY6v6rbCcHnNx94AdjyuqVElPLNm2musMnPpGwOl4goYk78nGn6eNNtmVp\n",
       "/v+bbAs0O5v+ALZB01SyPRpHouhwevsnEtYlq6u0Kx/3kEduk+3RBwr/JtvKGPBQtvGWFTCy1yLZ\n",
       "F8Y4NU3Mo3bzJxK2iteFduXjHqjfZLspByNv/u2HsS23XEoC2z6BXlHkJz6RsK1Umbrt0Z0yc6vc\n",
       "YpuNDKQv2w9jGxBdbwOcVr77Ewl3li221ehqvmw/jW25MZqszeHwuU8kfIjtyYV52X4a28DoS9je\n",
       "HPVN3vjXfyLhUrbJJMjnZftpbIPW/ATbl38i4WK22SQm6WX7eWzTVVPJVWx/3ycS1tmGk36/bD+P\n",
       "bW+iuJ3t7yurbOPp3pftB7Kd+9O9bPdvGT2djHse266091T4AbZ39iYqAu2yg9/f/N7NyPen8RcW\n",
       "ra5/XZHUFX5PhY+zvbs3SUxx8JbiQo6ut7+wcnX9b5XG3vXdBAtf/r6o/B9iU55I9+gxWwAAAABJ\n",
       "RU5ErkJggg==\n",
       "\" style=\"display:inline;vertical-align:middle;\" /></a><br>"
      ],
      "text/plain": [
       "<IPython.core.display.HTML object>"
      ]
     },
     "metadata": {},
     "output_type": "display_data"
    }
   ],
   "source": [
    "prob_of_all_as_sum = Forall(\n",
    "    Omega, Forall(\n",
    "        X, Forall(\n",
    "            f, Forall(\n",
    "                Q, \n",
    "                Equals(ProbOfAll(x, fx, domain=X, condition=Qx),\n",
    "                       Sum(x, Prob(fx), domain=X, condition=Qx))\n",
    "                .with_wrap_after_operator()),\n",
    "            domain=Injections(X, Omega))),\n",
    "    domain=SampleSpaces)"
   ]
  },
  {
   "cell_type": "code",
   "execution_count": 9,
   "metadata": {},
   "outputs": [
    {
     "data": {
      "text/html": [
       "<strong id=\"constrained_event_prob_bound\"><a class=\"ProveItLink\" href=\"proofs/constrained_event_prob_bound/thm_proof.ipynb\">constrained_event_prob_bound</a> (conjecture without proof):<br></strong> <a class=\"ProveItLink\" href=\"../__pv_it/theorems/e67dcaeea4ba9951b8a86a0f213f9a76eca1f3100/theorem_expr.ipynb\"><img src=\"data:image/png;base64,iVBORw0KGgoAAAANSUhEUgAAAsYAAABkCAMAAACy/QZLAAAAPFBMVEX///8AAAAAAAAAAAAAAAAA\n",
       "AAAAAAAAAAAAAAAAAAAAAAAAAAAAAAAAAAAAAAAAAAAAAAAAAAAAAAAAAAAo1xBWAAAAE3RSTlMA\n",
       "q1RmmUTNIjK7EInv3XZAMFB8JI59vgAAAAlwSFlzAAAOxAAADsQBlSsOGwAAD5JJREFUeNrtnd2C\n",
       "qyoSRkUQBYQzM7z/u44CElCU0viXPnCxd3crxMiyLIrio6peWjptCrq6Tim/VaTt4+Rvr8RY4KE0\n",
       "V9cp5bfK2MEY6eRvr8S4vaVOKb/Isl7/7S9i/PEvalx6v2D8oxgT72DQYqgLxr+KcTeZ45aVzi8Y\n",
       "/6xvTLn9X9Sl8wvGP4sxdi4xLX1fMP5djKtejqUXpe8Lxj+MMenGfxkvfV8w/mGMWzT9ky492/U5\n",
       "mJU5woLx/RgbQyx83I0TEgeQLZU10yPOqEddsmUlMHYVC8YF4wcwrlU4wGO4MaB2CjHWBFT2ZPRA\n",
       "0p/Je0MwYQXjgvFDGA8MY+V/0dZJJqSLrPFgb4cjYu5BOyPO3GOgVcG4YPwQxqKegsdVjXoTQFZ4\n",
       "5lQYc7yguFLNx1IPRbKCccH4IYzbHgUjNOMksGqJsdJLt9idyNz5WhSMC8YPYVwFwzZi7GqDExiL\n",
       "yeZGLaKxxVoHzReMC8aPYByGLQzAmDJT6oBKwZWeJq7Zp2hp0LVDPFWGeAXjN2Dc2zCFWFjj0S9O\n",
       "mGNlzmy5GeOxqisYF4yfx5g7gxtM6lkqCXfBiplbbY+KSg0N111VfOOC8Qsw7nqHJ+sCjDmRcgCY\n",
       "I01nufUujky1bkbKyxCvYPwGjPHkNnDj/zY5KlOZGAXjgvGjGLM6MdW8m8qCccH4UYyFUlXBuGD8\n",
       "+5GKhInem+GmNgiXUr56yZ8aLrAuGP8oxqfKsNB1GYxfWGKCX7lCvJXzYcimkMq/FePzZFjIxsPw\n",
       "IozbtV/fiXEl0OJx2xBS+bdifNqrvu75L2CsZq5Do16OcdXjLK4F47Mw5v0WBTQeAt6k8KKY1gy5\n",
       "uXX3yYulhz6n760YN6k+KhhfgzHaNLjm4AMKL9pk4LXe+eeJq5ySVd+KcYVYwfgmjDvdZDG+X+Gl\n",
       "09ZlYNPXJAlUp5mf12Lc6rpgfA/GdNv7pZHdu03hZcqUptPX7JPOJ9/E+Pm140wWjG/BuN42xg7j\n",
       "2xVe6JQO7cx/nfxkly+yhnHHnu9xVTC+A2MqKwDGtyu8ONdYTt4McZ/MlUK8E+6t4EJaq04FflyR\n",
       "hvUF4xswTpiLJMY3K7w0miklkF8kO9ndavCGFVIVsQ8fpkuMiQyKJg93eb3wjgvGF2CMNAdhnFN4\n",
       "SZYNhurw6pdPkhi/HUefx8bNN+N27GHulq5UdZ8b4tX04YlqTf8cxv/o/5xW5xyMuc65jzQYLokN\n",
       "Nzol7jJrWwmlXLbzbPZxwTu1fGrvFPS2wtg2ocFNyEYqOO0f3XACzVf1rgH6P73+W8F4u2BdAzGO\n",
       "FV78VUwKL1VK3CXCuDEh57Yf/+Uzs97MfVgbLuaflJGAxf5jvJusNW6peDaxqdHir2H8PqeC5XyK\n",
       "D7qRwstkRUlgapbiLiHGtRtKGpkiMjeQlM/6HlvHksycispNjXEeNrruG8vnBfl1X3zjizHmWlZQ\n",
       "jD8KL6NrYLwDFVvBhbhLgHE7vVtN/8hZQ/N4NLFPlxjHn7aezSXlg+VHIxbOwlmJjnVr3LxAj5/N\n",
       "vIqC8ekYYy3AGHuFF9WOk6zD0InPfd+5GxgqwEztiH5808cNDWY18o7b3mKMB4ybMLRW646ToQH3\n",
       "xykMt4Zx+4a8JjW7x3CM37pX0YTenuu7FGOkGzDGXuEFG9vYxQovllCyirGPOFPkjaRvaGY2xVis\n",
       "igadDH5nDDgnSg3I48l2y2YTY9a9otPpQYzfulfRhN6e67sU4z7/6koaNPvZocJLFYm7JDDGwWXX\n",
       "KG4IMt8mE0i2zjlZtcav6HUd3xU4xm/dq2hCb8/1XYkxwDVOYjxqCrSxwktS3CX4dmw40gxnSBxC\n",
       "6xqaOxXJXk6cMaUL4VfvD0jjV94O3/ilexV59HZc35UY15rtx7jtK0FtqDec1EuJu4RDvL7FXHVu\n",
       "Mk7OGqqUyg+VFt/XG4F3Y0ziidIdGL90ryKP3o7ruxJjkh/hJS6RqEYoxatA4WVF3CV8SFqCFELc\n",
       "Gl+L5KehCrAGlrNVsN+NMY6NxZ5IxTv3KvqgB7++KzGmuj6AcYiWV3hJG9B5/ItU3Fim+XQHhzh/\n",
       "7cxiK38D3o1xF0eO92D8zr2KPujBr+9KjHvdfYdxzg+Yg6iRWy0828mBfPdd3o0x1/ooxlEmS7BX\n",
       "S/AsKyW6rDXkTO+uA0Eyur7NvWauxFjr/HNEv9CpYMvGmmBA+Omzb7Ie1PBWe/cW8DqyFrumPz6Z\n",
       "LNFeLT4LwJhDks/YaoPGoXXWHwrsOy/OtNnYayaoczbGrT5pqmhNkmXrCvnKz/eXy/VaZOS7rWHc\n",
       "4sRvn0yWaK8WnwVg3ZU8kjz4UGgdiIMQZ9ok95q53BrXgHhbYFq7SxyPd4zC9ppzvsdfpVGoYt9k\n",
       "tM9kifZq8VkAFHFrLlqBx9kIzmRXK8QxRs04BJdYiTGGZDEWeIwITXU+R11lk4NotiKwJ6oaC5xB\n",
       "L860Se01cznGSu/gD+Hq5zE+Ua+lk3COURQQ2oexz2QJ92r5jIhbqaUhEA1/HpMHzSJWylzWlIFE\n",
       "UYfxOO0/ONe+jj86VRbEzu/bE8dxeKsy6AV7KVXpvWYux1ho+OwQEtXPY3yqXksNf5ORSKJsH8Y+\n",
       "kyXcqyXMAhic5NHYt63dPaMdhztMONlrq32tG4OxSc42s/6ujj/qKvOx7ZZPJ3aa1DyHXriX0spe\n",
       "MyCMv8gfQXAFOJzXsmiR1BqhYeSRvo6GPhD/JOLzljtZr0UguLmghzH+7FUU7NXyyQLgFgXrD0jl\n",
       "xnJIRRj32GCMe6uW5uv4o65y4z5zOrFhOplzEyEZhiWW6QhgjL/IH2HglWo22T1njTv7WLT9CvP3\n",
       "YyxQ108m+IheS711TyUGYyyPY+y7INir5RMts4+StBfDFE9iHFrjsI4/6iq3jkF3YsdXzNcakit7\n",
       "zYAw/iJ/hIIxlttzxdN6PWfd19I/6e0Y93Xjx2L79VqwJFsO8Kb0XTwG6b/HONqrxX8pYy1bZDeA\n",
       "kcO4zGDMPMbjnxVzvvH4muTK1/FHfeXRGRnnp+yJJs+FwZFc2WsG6Bsfzx+RGsgV7qs9GHcrEZDb\n",
       "MW7Ce7pXr0VJkVttC7QCOApsHsQ42qvFZwGQZkxqHa+WYNxRxdFgmnBPm9aMKzuNa0XGZAFjsYQR\n",
       "dfd1pqNT5ekE939NFE6uAEshub7XDBDj4/kjPRTjnDcww7hZiYDcjrGQoX+QvKQVvRYupAI8Je19\n",
       "GM+vbzMLwEPSHz+6Ue+S1R+H80d6rUDnKagIgMNY6Hoc0KlajK7lmOpuHXhK8PDjbUmHGPUSkc9g\n",
       "zwEA0GsZTAvI76WwUV59PsZgeI4fvRvjw/kjvYYNUmSutyKMubLTpj2p2+EDOjO/Z5bSUfMjvU8B\n",
       "JXxM4XotHEG1LWrNX41xi7bet9tHb8d4poQSqEHYVx/TRJBU3FfDMO6yCUQeYzk4XVN0VkozyyyF\n",
       "b8Mar0bvy6A4rtnShhe+Q68FjDGHvc6ax6zxNeWiJaVhfkaoBuHHKivjEa1B3YWyLpTHmC3euJ37\n",
       "jPHBd5ewHh9J5kgd12ypQxT26LW0QKciJZiZ7KrQaheMwxLIsAT5GZEaxISh6V9GExj/F+R7oGMY\n",
       "E4uSxWc8NGE8A3NbsuULzZZwhLdTrwU0xBthg3ToPxHG/zsD4049qLJ41QJ/n58Rq0FMvVab/uoO\n",
       "WuMu73qkMRaRNSZr1jgj2XJcs6ViIedwvRZwwG30KjDoDp5tjcfJAvbnMPb5GZEahPcQFVap2D8Q\n",
       "Y5W/6A2M3bSOcYgnN2PEFizZclyzJbS6h/RaMtMfsDeVxfhk3/hZ5YKrMPb5GZEahO+MsffE4UgF\n",
       "y0cX/WR06LhIa3Q78xowTFPzsJnBJlyy5bBmywB9aK4P6bXUtDvBOT5/iGdmGv4cxj4/I1KDCF3j\n",
       "Wh/GuAeunm4R1doHRBqke1Tb8ZIQqLFD0bpplPkRLtlyVLNl/p0P6bVki9CPYNyMeyL+PYx9l4dq\n",
       "EKFrLFImVUIw5oDEi0OJmkDJluOaLbN1Okf0WgBjvOYJjP9kwC3ollANggv7ajVvclk1i/MpJOzZ\n",
       "AU46gjFUsuWgZssA+Sz6e4leC+TuDK+FvmC8K20+VIMwOYqK6ZGNjiYETRhkFqf+VgQgVXZIthzU\n",
       "bJFskZgJ1WvhobBs9/27akBSFox3r/7wahBVBkAE64MrRADgki0HNVuwWqzQvUSvBbLyQH2TNv+v\n",
       "xdirQTSZwSyB9UF7AcYhXZlkrfM0W67Qa4GsA4sXixWMgW1NahB41+1dPYlfi3E24Lf2lJ6o2XIc\n",
       "4x7w3Un01isYf9vW4saB+uBaSZbdGJ+u2fKVXosEBI7ZFwv8C8aAQBAgbxo9fT/frdkiAbeQguRW\n",
       "CsZHAYGoBkEwRlda48vLV6pBEIz74+JXBWPI+ATQBnnaN77OsH8jt7LHqYil8grGZ2MsAXNQ4upI\n",
       "xY1m90y5FfgQrz0uDFswhhQEmI1W0Ljxv01uxWGcj1nOVtgWjM/GWAHmP3ZMf/w9uRWAw0AAd1kU\n",
       "jK/EuAFE3GqA4/FH5VYAhQPm81E8nV8wPhtjDghVABZ//E25FWDv5FOD5NENxQrG4DFevhF4ouYf\n",
       "kluBFkDiFJ9F5wvGp2MsAKZW0r0Y/7zcyp7RRZsnHRWMr8W4ASQHoX4fxj8vt7Iv1rPXNS4Yn48x\n",
       "ZLddnJ//eIPcSsJHPSq3suf+sd23uGB8PsYkH07r8u7ffXIrkQRSnAxEEq/zkKYdcivg0uZHeN38\n",
       "hVcwPh/jBhAwepPcSiiBNJNbWaitfCO3AnW/852g5lagYHw+xlWf93zJQfGrC+RWIgmkudzKXG3l\n",
       "S7kVkGsM2Dq+rwrGl2Os8p5q3pm9S26liiSQLELraitfy63sG0OudZ8oGF+PMWQxmSQwjC+XW4kk\n",
       "kKzcyrrayhlyK9+PftHilILxFRgDFilhkEz3DXIrkQSSFVdZV1u5QW4lK/xc8aWVKBhfgTEkKwC4\n",
       "acLO18B+uZVIAsnLrayorVwvt9JABnhtwfgOjPNbIuTN8V1yK5EE0kRtUm3lFrkVlvfHEvtrFYwv\n",
       "wdhNUGxzKs7F+KDcSiyBJKt1tZVv5FbgxpgfMREF42swrvMtdaDtHXeUY3IrsQSSwXJFbeUOuRUJ\n",
       "yArCVcH4Jowjafo1s8JO9419X++UW/lYQ5GhdGF8T5VbAWy2i1hVML4NY8i2sc9tfb5OZ2xvv1Bb\n",
       "OYJxk//STXIb07+AsSnojDpH2lr3GQCrn+vXYRzN9x1WWzmGcUfzt0zOL0naPlueGP197azXFI6x\n",
       "3Rv9hDpH2lq3GwBLtiHUf6lqEFBu5bjayhHVIA6gmDfLp8WUavvv02//B/kZ0aQ+bysBAAAAAElF\n",
       "TkSuQmCC\n",
       "\" style=\"display:inline;vertical-align:middle;\" /></a><br>"
      ],
      "text/plain": [
       "<IPython.core.display.HTML object>"
      ]
     },
     "metadata": {},
     "output_type": "display_data"
    }
   ],
   "source": [
    "constrained_event_prob_bound = Forall(\n",
    "    Omega, Forall(\n",
    "        X, Forall(\n",
    "            f, \n",
    "            Forall(\n",
    "                (Q, R), \n",
    "                Implies(\n",
    "                    Forall(x, Rx, domain=X, condition=Qx),\n",
    "                    LessEq(ProbOfAll(x, fx, domain=X,\n",
    "                                     condition=Qx),\n",
    "                           ProbOfAll(x, fx, domain=X,\n",
    "                                     condition=Rx))\n",
    "                    .with_wrap_after_operator()\n",
    "                ).with_wrap_after_operator()),\n",
    "            domain=Functions(X, Omega)).with_wrapping()),\n",
    "    domain=SampleSpaces)"
   ]
  },
  {
   "cell_type": "code",
   "execution_count": null,
   "metadata": {},
   "outputs": [],
   "source": []
  },
  {
   "cell_type": "code",
   "execution_count": 10,
   "metadata": {},
   "outputs": [
    {
     "data": {
      "text/html": [
       "<strong id=\"prob_of_all_events_transformation\"><a class=\"ProveItLink\" href=\"proofs/prob_of_all_events_transformation/thm_proof.ipynb\">prob_of_all_events_transformation</a> (conjecture without proof):<br></strong> <a class=\"ProveItLink\" href=\"../__pv_it/theorems/566749bdab7abcb64a6e3154a1c871d785f16a4c0/theorem_expr.ipynb\"><img src=\"data:image/png;base64,iVBORw0KGgoAAAANSUhEUgAAAxAAAABMCAMAAADKg6HeAAAAQlBMVEX///8AAAAAAAAAAAAAAAAA\n",
       "AAAAAAAAAAAAAAAAAAAAAAAAAAAAAAAAAAAAAAAAAAAAAAAAAAAAAAAAAAAAAAAAAACGKEuzAAAA\n",
       "FXRSTlMAq1RmmUTNIjK7EInv3Xbh+fvl1/OhCx0iAAAACXBIWXMAAA7EAAAOxAGVKw4bAAANsUlE\n",
       "QVR42u1dibasqA4VAZmUnp7//6tPRpkca7hV54S1uu8p1EBiNiQYQtd9ZOGzLejziUL51jI5dWj+\n",
       "+kBAKLwU+vlEoXxrMbqA0dz89YGAYF9CFMp3o2Le/gWAgAKAAEBAAUAAIKBAAUDURNcFpx6DcgAg\n",
       "fj0gSFxxGmDyAEAAIHiYIpgA3QBAACC6Qbp/VQ+6AYAAQHTYuw4DqAYAAgCxlHEyZVSgGgAIAIRx\n",
       "q7n5v5CgGgAIAITxplH432YR4zjqZ/dFLUQPowxf0vK5pgEQvxQQdnJQu/F+r1qR5Yda+bK1YA6A\n",
       "AEBsEO31kUsNgABA/CJALGjAGgABgABABJO6H+RdtWSJN652rz4fEI+0DYAAQGwSZUce5rZa8n6K\n",
       "aofV3tXnA+KhtgEQAIhtoojfV8uodhwNermP617z+upLTKYH2gZAACDuEz0FiK43o7Q07vlqgb0J\n",
       "ENfbBkAAIF4HCD0MyCql7KiJERTU1bwDEDfbBkAAIF4+Q5AOd3LK6t42Q1xtGwABgHgSIDI143qM\n",
       "YbJS4MWApxprWl3V7AVO9a22JQACAHGFqCQE76mlHPmNhpcR3BetMA4tnAcEFzNRiojH2k66D4AA\n",
       "QJwjKjD1KqORELQChJpvbZyYgj5aLBCxp5WtlrEloMcH2s66D4AAQJwjOnubghDemiEovxds1zsI\n",
       "CB8jMuttrWy2jMj919WLuvsACADEGaI98pa3xm2TSXfDPVXS9sPx6M2XSdRaibU2ISTtlkfTKznh\n",
       "B9rOug+AAECcIoqFd1LbPsSisMQM8nIwu4r++vsfU/61f/83hfLX36bmf/+sF02Z58UKEp7urCqt\n",
       "1AtWBNpomc16cT3cB8Sqbdeeb9t2o9l20n0AxB4gPjMTi9fd53buGBDEDeEUNwFh3It7dnxHB6OT\n",
       "/Zz2I9VKZmy1AW+0bF0IiUj3QNtZ9wEQ24D4zEwsXmee27ljQAinj3gQtvR500QpheY7m+u4/4KM\n",
       "nFNdG/LYjNxL99otOyiw+Vaa5tB22n0AxDYgPjMTSzmIPqVzx4AIq5KqNU5rp5V31j49CWbDKzrR\n",
       "8VIr1aLyfNxq2boQHb3VdLP7AIgdH+IjM7EE3X1q5w4BIcPwn8VOe43y1sydddfwLUDZz2Q971If\n",
       "Qirrzi/zANpo2dpTi099y2QKbWfdB0DsAOIjM7EE3X1q5w4Bwcc4IfFSLYmNEpdkHq4bLspTG6x7\n",
       "q+fMqeZ2/CdaD7rdMh5mZT7L3RsTfNt59wEQe6tMn5iJJeruMzt3CAgcx2CpjCVPX+pbRa3sU3vt\n",
       "HS0DIHYB8YmZWKLu1p2TrwKE6Ns7I14NCCo7PpnA1be1DIDYBUSWiSUNtolFa6344SAtxXz5mUPd\n",
       "rdLEZNFEzSAfrbQm7Doglse6PwEIbAwlrIh8uGUFgHgGIJJMLHmwTQirsaM0OZYhS4iffWYLXDio\n",
       "R5kmJo8mqoN8qNUiNrI9oreWad4/TF9sGQMgLheGG7/WTCx5sE0Iq3HqdixDmQDi7DOH1k2RJqaI\n",
       "JqqCfHofy0bEDR/i6wDhdo1KQXqM2jtJARA3Zog1E0sWbBPDagZkRtZF1kxh86lMion3GkmMETXT\n",
       "/YS1nfAdIBQ2pkd4Zr3qH7YmDWLxRt1jhfd0N08TU0QTlUE+8TNBKyrlxwEi7Bqlg723tZMUAHEH\n",
       "EDETSxpss4bVsGmerC6jpdrYIsyYLYPw47HVM+MSWkAMy6XFCYnPxKvhYfMNiqhwI13+YnpPd7M0\n",
       "MWs4jtf/NcjHzRjhohp/ASD8rtGOLpQWPyrdSQqAeAQQMRNLGmyThtUszoSxohhz0Q32S5FQfuHe\n",
       "rd7P1AKCz+FF+WfiVf+wNLSZDDfymfRyV3fTNDFlNFEV5BPXZ1tRqT9vhvC7RilxgGjsJAVA3AHE\n",
       "moklCbZZw2pc+MvsrJ1Je+8Z6QwQI7aAwKM7Gz0+E6/6h6lvM9xIxdyI0Ul1N5kAymiiKshnxDu6\n",
       "//N8CLdrVKKJ04k0dpICIG4CIo7GSbDNumbqpLeMPMZWF1o2AZHOEOkz8ap/mHl99jdy6SPbzuhu\n",
       "FU1UBfkIYtf1u+bWgZ8HiNc1DYBwlncabBO/htkBmCEX6jMtnrAFhIiAMNVaeB/CmFRSx2fi1fiw\n",
       "MbWWG/yNNtRGnNPdJBzHBgDlQT62io0MS80H3AEgABCPAyILtolhNYQuloqp0QRjPmiJ5sVaHQfK\n",
       "kLmRz7g3+1skmY1mKvuBKz4TroaHww3+355orNgp3U3DcWwAUB7k42KCGEEaIdkxAAQA4nFAFD5b\n",
       "ElazJ93x/tXNpw51t9+uWnxMqQEQAIhnA+K08t6/ehsQVG5XsRk1l1nuAmJ+zQlCM/ojLZ9rGgBx\n",
       "uzi76d7V+4DAe1XDRC8Rxe52NE3Tt57frpe+n4kP/2YeHxELeeMM8ZI5/Z1JBsIemi8/mxef2Xb+\n",
       "+84fdmLZ2nIJgGi4SsNXKQvb+vnTAcHOVLMtsWwcE3UJEFxj9QsAIfA3KYsuDCOqfwkgdH+mOoij\n",
       "Fkv76/0VQJilCPHzAcHGVFkYmuYZISREW73o8P6thUSp/CiIXCPwZUB8IpNHnPftHlXVQRyVWDR6\n",
       "FBC3cut+HyCIykdP7pZg2LgxmL5dVxRyn1gy8y7VcXl9hvg4Jo84l+2ONqqDOEqxyGYCoSuAMHOM\n",
       "/PmAWAOhnHCZX5PEG8tjw7t1ZexpDBogrdU1ch0QH8fkEeekzVyjOoqjFEszfOEKIKjCGP94QPB1\n",
       "4MgBwefpI3SFpiNb8yvnKG8D4lOYPOR84/PuuC2OSiytPWOwylQ7ZVPXBgSdh4/QFZWobN/skh/6\n",
       "7gDiU5g84rzNeLs6zASlWJpZSAEQZUHDBiDM5u3Fu9S9MhEUkmjtNvwNBC9/viurG0bjtO73CP6O\n",
       "1BpJrnz6NoVuA+IzmDzmfHX0eqV13Ajtq6W2ppNEqTgqsdCWEwGAqJYORBMQUrutFSPp2Yw7bj/v\n",
       "mgDfbrB/Dkdp9HLhb9/dp31qrZXPuh78iFk00R1xQ6gPn08BQaakoC1APMzkSR5zJps8H3Ae7X81\n",
       "mKUAkVerrh9XdQ67CUqx8FYqUABENWSiChCTUiosb0+T1e1JRZG6B+hB5uHi7K3cfE0S5WB6oFRZ\n",
       "MlkfnYGZeXfSb+dy2nB1hniQyUYCoMJE32ayyfM+5yEspbejfESKq+a9GxqQSMVRiaWZLBoAUa2l\n",
       "kQoQosIL97lvzJqMHzbn8g0mR2F11dlbKck0UY5E5UJGNbim72h09G2KnyHh6wYgbjGZ8FgnAMoA\n",
       "scNkm+d9zj3jnd0BsL5HV71gxMZAhuOR5rZYJADi5gyR6Qpx78bJ0lwKulIMiOlRWPXZW8nNWaIc\n",
       "Ur6jKl9G6lNHvVjfvm1sfBQQJ5lMeaxP+Urv3WNyg+ddzsNIYDG7ojDIw7oHwSTy4qjEwsBkegYg\n",
       "VDZ4kmLwNFaBNQx0ro3l2VuiNgSs8P07j2TqNOcipbMGtFLDi5Sp9l3zIU4zSe0nXvNfxmN9ypfo\n",
       "9pkMp4a5nytZz/Mu58FWtG9wvRDkYafLgJMAxlIszdcPgKhWmcQJQPiEVdamDvaFeeWameeHvjgK\n",
       "q8yWkypLliiHuR+RTHGKbjETeId3aYx2aOxi6kp/ENgDM8QOk2Y7sLTbvDIeqwRAGSBaTIZTw9zP\n",
       "lWzgeZdzx7hTWDnjotpBJODEi6MSC6wynSKaWMEhdGOoXQxufWSrOIOd25HVIZs3wZj0+VFY9dlb\n",
       "q7JkiXKof2eBTKxJFC81MNxKYj9zSRbytM8WH6+Fbpxlkkkz0pot8xmPjVO+kp63mIynhtmfK9lw\n",
       "wy7nfgnV5jBK0q6EFVaTM5UGnIQl2lIsGL5DnCFK8y/VDA3zjML7pGgekVU7RpRC9g0J2VO6JnqZ\n",
       "/RkO6VFY9dlbCSDSRDk9ysmY1Zsdn9pmCXefC5YBFQcbw2+HuhLcd4VJc6NJsZLx2DjlKwVEg8lw\n",
       "aljgOZANPO9yzqfQV63IVFVLpDQJIgy7w0qxNDMNAyCqMhaxTBdpjjb2Pstz3jh7a33ZWaKcqASe\n",
       "TG04FG9xaviFzGvFq8K/jWKNvOCxccpXotAtJuOpYSInu2Uy5ZwnjKdfR5JqNeTiqMTycCzTLwFE\n",
       "Ge16obDRvgabSWedD1pnbyVOdZYoZyrIdFlK/mUwHXJXEze+foUAt5cBgvvscgmPrVO+Uqe6ZnI9\n",
       "NWwqyHqe9zm3jHMki+9rTh5GejLExQZxlGJ5PNr1lwCCj/eVhWiqtLZpneMnqubZW6mypIlyBMvJ\n",
       "+IqgiqIKbxYVC3Fz5KsAsRhnLiv8ymPzlK/M566ZjKeG+Z+RrK844NxcRqPs5KAreZhsksECDOKo\n",
       "xIIf3g/xSwDRof4BkymW/Zw9hX0cE+WUn6Py1SpcH/wiq5DNqEgvAoRkcVPhJR5bTFoTyf1cyTqW\n",
       "jjg3160HQWt59FjH6iCOSizt3AoAiMYbf8Oe6moFJSTKKd47OWS7TJWu4xMvAsTi+NLhBo8Fk8mp\n",
       "YZbJlazj+ZBzps9UB3FUYnnGnupfAoi4DfF9gEgS5ajUssX0gTZeBAiKtbrFY85kemqY4TmSdTw/\n",
       "xPkJsUDWjStE/dsYXpezaIes3Pj7WtHTNJ4CxB/hsWSs5vlFWzOjWIgEQLyHKJSvLt8DCFvQ5xOF\n",
       "8q1lcurQ/PVxRWLszlP5eKJQvnZycKX49X+TP6puUrMA9wAAAABJRU5ErkJggg==\n",
       "\" style=\"display:inline;vertical-align:middle;\" /></a><br>"
      ],
      "text/plain": [
       "<IPython.core.display.HTML object>"
      ]
     },
     "metadata": {},
     "output_type": "display_data"
    }
   ],
   "source": [
    "prob_of_all_events_transformation = Forall(\n",
    "    Omega, Forall(\n",
    "        (A, B, Q), Forall(\n",
    "            (f, g), \n",
    "            Equals(ProbOfAll(x, fx, domain=A, condition=Qx),\n",
    "                   ProbOfAll(y, Function(f, gy), domain=B,\n",
    "                            condition=Function(Q, gy))),\n",
    "            domains=[Injections(A, Omega), Bijections(B, A)])\n",
    "        .with_wrapping()),\n",
    "    domain=SampleSpaces)"
   ]
  },
  {
   "cell_type": "markdown",
   "metadata": {},
   "source": [
    "If events are disjoint, the probability of the union event is the sum of the distinct events."
   ]
  },
  {
   "cell_type": "code",
   "execution_count": 11,
   "metadata": {},
   "outputs": [
    {
     "data": {
      "text/html": [
       "<strong id=\"prob_of_disjoint_events_is_prob_sum\"><a class=\"ProveItLink\" href=\"proofs/prob_of_disjoint_events_is_prob_sum/thm_proof.ipynb\">prob_of_disjoint_events_is_prob_sum</a> (conjecture without proof):<br></strong> <a class=\"ProveItLink\" href=\"../__pv_it/theorems/dc771f7d27696f75c024ab4de57b35d13f1f3c690/theorem_expr.ipynb\"><img src=\"data:image/png;base64,iVBORw0KGgoAAAANSUhEUgAABBgAAABYCAMAAABoKLQkAAAAS1BMVEX///8AAAAAAAAAAAAAAAAA\n",
       "AAAAAAAAAAAAAAAAAAAAAAAAAAAAAAAAAAAAAAAAAAAAAAAAAAAAAAAAAAAAAAAAAAAAAAAAAAAA\n",
       "AADXrLZzAAAAGHRSTlMAq1RmmUTNIjK7EInv3XYgpeH5++XX80AGcRRWAAAACXBIWXMAAA7EAAAO\n",
       "xAGVKw4bAAAPx0lEQVR42u1d54LrLA41Bkw1X91d3v9Jl25wiR2nTOLR+XFvxgWQQQchBHTdR4Lb\n",
       "ANQBAIA3Yoya96nF41ZhBwoVBQC8E17tMPpgYmBQRwDAD7HDFxHDNKroMdQcAADEEEDKsGIAYwIA\n",
       "AGJIV7LJwARUHAAAxJANBRn/Vz1UHAAAxJALm1wLA9QbAADEUKBHD62g3gAAIIYCwv2/QkK9AQBA\n",
       "DAUM5X8yXsIR5AVp9uxYkc1T89rMzEDTB1yHGIKxoKpgSKl59YawRCkieK0AyF2SKutHL6xwySKN\n",
       "qoeMMobUmc0mPao0lAhg22m1+U3fma4WeaXgM1Yyundvj9WVsXK9Njfyq1W06Pb3IdD2Adchht60\n",
       "rkdl6wmKqCZGlws0KpHQlZvCa0RNAzQERTDNNoihSkOKNkB7mdYyv6SgaFZk0uhyXXA686AM7nFe\n",
       "d/CqyrC50Y3zvG58HwqOGsB1iMGxAq50gXJdawYirUi9jj13X3WPxsqu7tD71OcSsU4MdRpiVqJF\n",
       "Wiv5pdTprMg5C7Qs+NCaG+Lw3GxixCmvm99nAE8N4DrEoPq6QZtuqB0O3uru5JjjpVnuLnnfdPO1\n",
       "LjPLlx9C1PenNNiik52ntZZf1ZdXRW6JoSl4FaVhDDbOYpDCF870WLknzOiL4W64rMMNKUbeG9RR\n",
       "ZJUvznjs+0AwCOBCxMA0qtt9R4ZaMQ3GZBrxo3G1X7X1GB/l95VeJYY6jb7fSavOj4gMp4dsmBe5\n",
       "IYa24JO9QVTSZmaj7c9MuurHNHKMNyIhOf7gQYQpr9vfpwcvA+A6xNBVnj7KG4dCHEJLRBoXwNLm\n",
       "aC6XmIi6axUzN0LOD++ktalqVMyL3BBDW/DyMLMy+Rik9d+D9ME8Ucr9DsU04UZ8zv0RiaG8vvN9\n",
       "KMSVAy5EDHWnrJRCVs6G0MzmMXYZX9c9vZKmeqXTeCW3mhiqNOR805h5Wmv5xQtoXuSGGNqC88Ii\n",
       "oW4yMThNtuEJRwxYp9cSMfg/MjGUvHa+DwdiAFySGEzjI8hDaKdO+QpKKmJYrcttzy7cb+oH5rU1\n",
       "UA8l6jRmw/J5Ws2zzVAiK+FUZFQTQ1vwYuPPLAb3Bx5qi2EwC2KQeFL4ne8DQwnAJYkhGfZ+fC3V\n",
       "pEdy9A0+XJE69I2G5gtOXWUXJxPyJaYZloYPzSihIoY6Dd8HVz6FRVrtsw3GeZE5CoUl/azg/n2T\n",
       "E0TePaETMQRFFpEYAlswLStiiOMKzovz8eb3ydkAABcjBhK8kJLYgbqu0gcBDVb58J3QLfLogCdE\n",
       "GSPzBUnGUfoRgQ08EJ9hBBnktHQrwKlKw2ubSgFOq2m1zzZUw2ZFdvm6dILDpCl4fjYmqAw248Bd\n",
       "LsQRg8EhhMETQxdjssKN8A/WLlEVvJVxUvX29+mWc68AwEV8DPUgfv9Kv/0WddplNojhfAka8+Z4\n",
       "OJEUOwmSna5+La9+MxsA4LrEQOXuleUj0yVm0SgfIwa6Ey5EDguTntxIkA6doN29ea0kRsBgAFye\n",
       "GPD+FXzrrWGk3QFiQNmfyA6UYAZ1MNAwL3TYSJAhs+80XOSFN7MBAK5BDDTseT++NOuXdKbyqY89\n",
       "mgjEQwNchxiUqb8IMVAHDpUKADysY16XLkMMUJ8AwPOggRgAAAAQAwAAAGIAAABADAAAAIgBiAEA\n",
       "AGIAYgAAgBiAGAAAIAYgBgDg44lh2piox59TXiAGAOBHiWHab3xgQAwAABBDIAaeTQb2SWv0//jz\n",
       "DyAGAOBniOF/f3bT2SMfddQAWAwAwI9aDB1OroXhk8oLxAAA/CwxdHr00AqIAQAAYijEQML+BkIC\n",
       "MQAAQAyFGBjK/3T+VHiMyXze0hij+K5FEQ9ZvO8dIAYA4EOJIRgLKsxayng2Uz78mRskBI0mBUG7\n",
       "mbBKbY++cyViSFspIjcw+9bNVo0rew/SNriGhNOZqMeJoTfZ9SiSB9KGTcpJHGR08QTEfSWXldoe\n",
       "fedCxJBPdxq6rwbGIG2Da0hYohHasITbIdFDh+NxBfnMtdG/bPI3G8LBSU5TmcI+HiodvS4xRv7w\n",
       "FDFio/zJTJEYFPbHHOV3prvpZT9aMYiVB9P57t9PDHL4qobEtv48Rgy/SNqLSIjziSTYHCYG1adg\n",
       "BpHYxKr6UBI22jHoNHKXNctHr7v7/ZiV2AyJGPz5aQRP75S7+WVF4mHu8cFyvvvXE4PA39SQzKxB\n",
       "UHMfMfwiaa8iYTk9pT5G5TYxMJ1s/t5Oalmf+84N8qMLxmKLiEevqy4esRzPWbY0ndfepUPW0zvl\n",
       "bnpZ+rSZzA+W893vIYZPXN/BdN2QGBqtRQgJsV5AOrx/epio6ciJfpF7sQ8PEcNvkvYqEho0/7FL\n",
       "DB0qZ0RH56OnGzzE81X6eAxBUGQ3ChjNdMJyTQwaB2LAGjvQ6Z1yN72cO/38YD7f/R5i+MT1HUS1\n",
       "PQy3KGrQRofz9oakEC+tQK4UKkfAHiKG3yTtVSSUVs5+dIeXXbOYg+gcUUxzjZFgxnhcvDBylRhq\n",
       "i6F+p9xNL7NUqvRgOd/9HmL4xPUdE7tFaVhsSO4br7eY4d0NSfe0xKqQtaO5yB3EcF1pKV4nhgtI\n",
       "WE51r453P0gMqjNOIXvehYOTZd0KGIpMMxpTjl5PxOAvG5F8DN7Wkqa8U+6Wl/0QxJ8iGx8s57vf\n",
       "5WP4vPUdfGLhtiHxjYOz3t2QqK1HlqstTR4mhgtL25vbxPDFEuYohOnHYWIYgllvbGBFJtIAg1Cl\n",
       "wvHrhmDMB1OOXmfIP8gt7v2ZipJYr+VK+cmG8k6+m1/OD6T/y/nudxHD563vMONGQ6J2+IiGpKr2\n",
       "3K8WKfUjR4jhwtLuEcMXS2j0/MfJHZyk8j6G3QNQuT5/d7tLuj0r8XHrO9Cw0ZCU7b1ryvTK+0Mk\n",
       "MSZ6SAaC3c93WTwY6RGRuYdAGoMkV8nuUugwMVxY2j1i+GIJi5FRWRuv3NqN2/N3zxLD/voOobU2\n",
       "r2Bql+5K3JYQqw1JmhhLqknPLO54CKHzg7BuCD8H8i7msmbRl/ggOINMR2Lnk1w9taqQsQK6urQH\n",
       "iOGrJeSWz368lBjieOLc3dPE0KzvWDftXjdfwVfyHdCiIY1uLJWnl8cxnDE9qlIv8QVq7zqR/kaz\n",
       "6yt5VwiR2eoo4BQli5lvAjJNRXW9PmwxvEpaeVDaWtgnS7tNDD9XnysinpGQ5cKxqZSX2wx2Wt/x\n",
       "GcQwkkVDEgtN4ulsYc+VqW+xN9qGQX6qWlXaMvPSGuWs1ygnprcbXF9XtY4Ph+Usw9y2O0IMr5DW\n",
       "84JuDjIXx4R9lrTRPNJ6bh49SUIurKtOInh3f30uRTwjocx8IC9MDNP6jo+1GJqGRGJtxgrxt3JD\n",
       "mrWNtG7Nyxr7AaG3GhINIjIfTdrJtkhU3fJV5YYUfk6dEX3IYjglbSVuHr9vSHtD2OdKu20xPFif\n",
       "HR5njr/j9bkU8YyExcpgDw4luMHqU4lhWt9xihhY5Z5QN+8+iRhU08OQrR4mr1vzhmAsQ082GlKf\n",
       "mkaYeyIz42mYCyDqMk9LCqn/zlLWCR7xMTxJ2krcUBjeeoXEQWGfJe09xHB3fXZddBY2One4Phci\n",
       "npGwKFWlXWeIwbd/8bHEUNZ3nCEG3k/x4kvyq+8eJQYkDjSktEgtDESzMeobjjcggw1pKnbvc2HW\n",
       "G1Jh/VCJsQ2UdJYBHo3KBW9ZJ11PhvTEjFgcthgeknZN3DSSHtA6MawJ+yJp7yGGO+oz66Ac8fH6\n",
       "vCHiGQmfNSvRjIY+jhiYvr2me2coUVSfo8EHdXHTG768e5gYKgsxh9AOy0E5D4Po0KqGwGsohIcw\n",
       "r2lDX61b69BqGE3VkMqMoXI5s/BHSWdmZ7Tupi5PZPWWS+JepqltpEmvQ3EMD0i7Km7ysJFhXdoV\n",
       "YV8l7RYxPFifvlAGY4L48fq8IeIpCbGe/zhHDF475McSQ4f4U4ghrj8JoeCTCXI/MdA2FpChwVqU\n",
       "bRGKrEahBhhRCtHoPe0pNeFniBX3rqMqHFeTHWIoMRy+qwqr1qZ08oUNX1XHA+v4OXjX4HBuGiM9\n",
       "TAyPSLsqbhhIzAbglbQrwr5K2nVieLg+k4tBInK8Pm+IeErCsm9StYHSGWKgCmP8ucSw5x/bJwYz\n",
       "+EpwxCDjdxc0XjlDDJUD6Ew4ZhR3Wrc2mYpb7jiNqy/VoyYd7wKfDebbIo8rpMqSjXKozh+Tdilu\n",
       "6OCcjtVxvjUxrAr7Emm3LIaHBYyU0Hb1u/W5JeIpCR9YK/ExeAsxdNm7h93Qr7l2ghjm6w3vE1eH\n",
       "rTWqPTJR3oOTbRCDcO2MyriwrTSblM7M8nTNbGjrH6/YI3khzqnVlY+Km6bqm9n5StpVYV8j7dYi\n",
       "qocFjCpINyS8R8STEj6yuvK3EAM3unhzpMDe6jPY0JW7h4mB67MNielODXGqepoNkbFPNnRrKME0\n",
       "w9LwRP5jm05n6n5vFItluWLxdcpC1UPEcF7adXGzPtp1V+tS2DdK+5T6jHuYuA6IHK7PTRFPSojR\n",
       "/AcQw1kYdpgYOtSfVRViqDImbIU3OXwlIeniekNyw1tkEJKxQwkNY0qnbSg4R81MkIvppvLGseHj\n",
       "eWlXxSXBlSyJHei62iyEfZ+0T6lPPFjlw5v6O+pzS8STEpYdbeutbS9ODE6L8AYx9ML6b4Q0OjHJ\n",
       "Mhlw9bb668TwlF0Qd9atzaufkrCCfREAI3enmefb6U0U+M49H2+LK44J+2ppP6A+90Xcl/DMno9f\n",
       "TwwCUx4HASXObLIYgoOfnDMgxmzY19vqrxND2V7rhWvB582DWZTcIa185AFz6egu0W+XdkvYV0v7\n",
       "AfX5iIiP7BL99cSQvCl1nNlEDMbdVSfnXfv4Fdtt9TeIIce3D687h2DRbwxj7o1qCTE9m4EZR31w\n",
       "Jur90q4L+3Jpf74+z4s4SUjKbk/y1xBDj6KzsIkzq3wMmqjT8Rgm+I+abfU3ieH1uNU+5erPbwY7\n",
       "JOw3S3uwPl8o4rUthhj82Y7DKmIwZYpIevYf//r7H49/w+//lLUAf/3tr/z3n+mmR9jTqt5W/yeJ\n",
       "AQAAYjhODCSGrOMNYlD6/PYZNLjJ6231gRgAQAzfQQxxs/82kG4iBiWNPWuL8RQmXW2rD8QAAGL4\n",
       "DmKI+3u0Z2sXYvD+hdMmQ0ql3lYfiAEAxPAVxJBDPJtdFDIxBCfsWZMhxzE02+oDMQCAGL6BGHJ8\n",
       "LqsXigdikGQMa0SRHU4tB1MpwWZbfSAGABDDNxBDWUJSx5m9eWs3AACI4aOIQfSrwc5ADADAbyYG\n",
       "ZVb3fgRiAAB+91CiA2IAAIAYgBgAACAGIAYAAIgBiAEAAGIAYgAAgBiAGAAAIAYgBgAAiOH1xOAx\n",
       "AjEAAI9iCMr0dcQQMNdAST04EAMA8HAzDso0X104Rs371EJLHEDPpzBYrc0LSqa0tkAMgKsiKh7u\n",
       "/g+iVc+exVMImgAAAABJRU5ErkJggg==\n",
       "\" style=\"display:inline;vertical-align:middle;\" /></a><br>"
      ],
      "text/plain": [
       "<IPython.core.display.HTML object>"
      ]
     },
     "metadata": {},
     "output_type": "display_data"
    }
   ],
   "source": [
    "prob_of_disjoint_events_is_prob_sum = Forall(\n",
    "    Omega, Forall(\n",
    "        (A, B, C, X, Q), Forall(\n",
    "            f, \n",
    "            Equals(ProbOfAll(x, fx, domain=C, condition=Qx),\n",
    "                   Add(ProbOfAll(x, fx, domain=A, condition=Qx),\n",
    "                       ProbOfAll(x, fx, domain=B, condition=Qx))),\n",
    "            domain=Injections(X, Omega)),\n",
    "        conditions=[SubsetEq(C, X), Equals(C, Union(A, B)), Disjoint(A, B)])\n",
    "        .with_wrapping(),\n",
    "    domain=SampleSpaces)"
   ]
  },
  {
   "cell_type": "markdown",
   "metadata": {},
   "source": [
    "The probability of the complement of an event $E$ is 1 - $Prob(E)$."
   ]
  },
  {
   "cell_type": "code",
   "execution_count": 12,
   "metadata": {},
   "outputs": [
    {
     "data": {
      "text/html": [
       "<strong id=\"complementary_event_prob\"><a class=\"ProveItLink\" href=\"proofs/complementary_event_prob/thm_proof.ipynb\">complementary_event_prob</a> (conjecture without proof):<br></strong> <a class=\"ProveItLink\" href=\"../__pv_it/theorems/e41d707bae551b3eaa8692906ba19d4f9ed8b1320/theorem_expr.ipynb\"><img src=\"data:image/png;base64,iVBORw0KGgoAAAANSUhEUgAAAfAAAAAfBAMAAADq54I2AAAAMFBMVEX///8AAAAAAAAAAAAAAAAA\n",
       "AAAAAAAAAAAAAAAAAAAAAAAAAAAAAAAAAAAAAAAAAAAv3aB7AAAAD3RSTlMAq1RmmUTNIjK7EInv\n",
       "3XZ/CtNrAAAACXBIWXMAAA7EAAAOxAGVKw4bAAAF1UlEQVRYw+1Yb4hUVRQ/8/fNe7MzOyVlZrJL\n",
       "Rh+KZGrWCJRtbC0M0Z3qkyzoEkQoWW8hCEmbMUKCpBlaFhxBfVYIfdGH9gdZWFf2Q1AE9ufDIo3O\n",
       "roLh1u5aZqjpdM69c5v77nvOjDRgtl04c+eee86553fvufee+wBaVxaVTLg9Srz0XSvN9cPtU1K3\n",
       "FLjWkCEXsxkLdURMiW4x8MmGDLmsb8ZCHZH1EiHwBFWLWwTcR5U/2aS839YWVe5YMCgxkNZO3+WW\n",
       "XDkcyMSTHhYAIieVFXbbrOkLQuBPU+/LLQIezGAVbvaIO4BeXwDY2i8xtI0WHNikSu4FYx/AJi8L\n",
       "+5+5ojBdNmV9QSnYTpNUaBHwCMXPlmble3BkdDJwVWLEvgIwLimCwTTA4wBdXhYgrgJ32ZT1BaUg\n",
       "bAFEO1u1x2kyDzcrP8qdjFyTGDPoI3QoQd2eYzuzzfKw4A3cYVPWF5SCAA4SbtnhlrqJM87fz50M\n",
       "XZIY+wjzTMIpuQGZ76KbSQ8L3sAdNmV9QejoN6XS1y0D3lYq/Wg3KR60uZPRX0OvTH5ucsZrDLiy\n",
       "9Q5dzVEVTXhY8AbusCnrC0LgqwB2twx4MAe6FJDpeuI08eik8XMS2p7KVlfiGDnaW3ZKBiqV+VSx\n",
       "WFpTovKtsOAJ3GlT1heEwAdAwxmIH+kSgTQ99Z7q4yezN+pRgKOpAfwXGjnzE3GqK9c33Z2DaLFY\n",
       "NOVxYniyaNeGR7CKnTCqjCyBO61u5oP7/qSwHVXYpOABXLUp6wtC4LoVzYAxBvAs9r2/YAgXbYUr\n",
       "+2HAvXrUBGY3fIa/SyAyWwPuL0MejCH6K8ah0oZ3n3aZL35CMKIIQ7vO7iG2suNV4V7s4zalQgpV\n",
       "4MZmJk4h7bIp6wtKkVt4tunodHsZghj3bcDzELkYbEivHhX4EvaLU5qoAWd6Orvdq+O4gKf/dvJ7\n",
       "hKIcjwHaprhyodEbA5dXSbUp6wtip3A39qNUrABnSOFeTG/f7MoYe96e+OjRjLan+1MLgUe7y9TD\n",
       "mtoRTHumJkw4Mg2Ty5Iy8HCAYP1WzYg58PYkWeSu8nFqoV510hYMawfWpjMF2o+Uxej3n1D2+A1C\n",
       "XbUp6wsi4Ifx8tXRmXbbIJe00z9kYCF8CdnOcAFl8ma8H4G/CD2sh5o+u82MpoN2uDO41NbKMvDo\n",
       "g7Q/Zy7z2eAQ4xXMIO9nf/k4XFwvK04Sw/ZZ8Do4L4ZHkFbTyqt5Fik0AE4isr4gAr4Vo9KPsZw3\n",
       "Q8zdyMR1eAMGcZJ0OzIKOwF+N2ZxX6xjPdTUTD15yNSsPIR2XXzIEeracbY1HrggAYcPexPwAt/u\n",
       "bBzOpVslwu/bWFow5j2cg77Fzttgjc1vsqB6UTJu9A81ZVVtyvqCCLiPToR5AGshsLFY/ADPwjzE\n",
       "R05BFnxlDnzMmA2MpZayHmrC1C/lDai0PJXKrKtkHK+zewg35gwScAtCsyzexDhVB0+AdndlIV0C\n",
       "Hcc7OQOOVTrhyYrzOks/t+JOBiWjQkQF332X5jkX3GVT1hcknqUa5vKFXISmFM+vGB4xe60acL7i\n",
       "vIeasaR+njZNHg1bgX7Xs/R5kbAz4KFOegzwtJiPUxUbV0/H8fp5wja4SQVFZJtEAng0bvpzNstk\n",
       "2jMwYFyBU+UsbhAEnrfiBdzjg3CQeljzkBWb1m2jrCeNyTQUXMDx0ptfAx5MgA+je3WuNg4vrkdH\n",
       "V8NHzc0pKCI9Egng4UomXrFhCzoX7Bu24Wxqx/mO9PKXBq5C/rGz8PFFiI6UWQ814z1PvArD04Dk\n",
       "X7vMdAFftXLYlIC/s/oLWvijmMBUx6meTer7Va/7oPV4Q+qNX8A1EdIXpH6BMY4Wh1TNnXWb9b/A\n",
       "1H/uGoVGjEYojcbv6ZoI6Qtq5tNTvm7znwCHtxoy5HKuGQt1RM5J1ARwrcOu02weuK/IcvX/5FfW\n",
       "za7v6v/W7+zx0hj8X1hGcMaem8C3Q2FuAt81V0P9JFhzE3hfKjlXoP4FyDf7KxAdKz0AAAAASUVO\n",
       "RK5CYII=\n",
       "\" style=\"display:inline;vertical-align:middle;\" /></a><br>"
      ],
      "text/plain": [
       "<IPython.core.display.HTML object>"
      ]
     },
     "metadata": {},
     "output_type": "display_data"
    }
   ],
   "source": [
    "complementary_event_prob = Forall(Omega, Forall(S, Equals(Prob(Difference(Omega, S)), \n",
    "                                                          subtract(one, Prob(S))),\n",
    "                                                condition=SubsetEq(S, Omega)),\n",
    "                                  domain=SampleSpaces)"
   ]
  },
  {
   "cell_type": "code",
   "execution_count": 13,
   "metadata": {},
   "outputs": [
    {
     "data": {
      "text/html": [
       "<strong id=\"complementary_event_prob_of_all\"><a class=\"ProveItLink\" href=\"proofs/complementary_event_prob_of_all/thm_proof.ipynb\">complementary_event_prob_of_all</a> (conjecture without proof):<br></strong> <a class=\"ProveItLink\" href=\"../__pv_it/theorems/ca19b5953480c64b45f99548e150de3d6df58db80/theorem_expr.ipynb\"><img src=\"data:image/png;base64,iVBORw0KGgoAAAANSUhEUgAAA10AAABLCAMAAAC8wh12AAAATlBMVEX///8AAAAAAAAAAAAAAAAA\n",
       "AAAAAAAAAAAAAAAAAAAAAAAAAAAAAAAAAAAAAAAAAAAAAAAAAAAAAAAAAAAAAAAAAAAAAAAAAAAA\n",
       "AAAAAADECekxAAAAGXRSTlMAq1RmmUTNIjK7EInv3XZAMOH5++XX81B8EphGHwAAAAlwSFlzAAAO\n",
       "xAAADsQBlSsOGwAAEl1JREFUeNrtnYmWrCgShkVwYe3ZZ3j/Fx1RVECEwEwqs7x6Trc3S0XU+CAI\n",
       "wt+m+cpl1POC6h7y3Rd0vvRd8yw/uwyShX+SyyON/Ah+faExcjwtXd1DvvuCThdyyqiScnzZjuDb\n",
       "hneUCTlBsH7HZZYu/HDTzfPESEd+BL++0BiHHzjkuy/obGkFOzWB1+lVLXxbp14vE3SCcP2OCy1d\n",
       "BI79FeuzH8Gvh65fQReLP+bN6PY2tsUX0OVbv8EJ5whHt2004LIyvWOp1hRRSlvACcL1B+jqok/w\n",
       "oetedKG+SdJFNsPry0/JtsJ5PwZnY5ET96ykzGDRdKZ4G4ymThCsP0BXg+hD193pGnWXpmtcjXWg\n",
       "F4Z0eDX09WBBwm2eBRF4mccrWfw8ut6a1AmC9SfoGnT70HVzuvq+SdO1NfO8LS9drGeRW4utw23+\n",
       "AQxc5sHr00tool9vTfIE/jpOF2VVnyGVD133pqtNdV2L0WHbBfQXSrfHEL3F5Pj6zzZaXo+hZR4P\n",
       "1fbOUMgJ/HWcrpFWfobqoevWdPWyydHVCGkWwS84htz6QLuZkhVnu61hSiE2ctszcgQs83TYJVED\n",
       "OYG/PvEMMa/6EKl46LozXbHm80AXGa+6SbaDIM4IY/Pb1s5jGvgopBqyYI73DodIZ0HZ3q3TVCmO\n",
       "yBjuGD+Bv3bo8k6rSc2H2B5HXg9dN6ILaZana0Dr/86shGo6VQcJFEzKysV65H4WpoW/DQ/Gblhj\n",
       "Y/WtyFXZHudAYAMT5o4wtDcC6RP469OoRtu3FZ+i7h+67ksX0+mRhTU6Y7FH+xsVotT+dY4EkkOV\n",
       "xLJZC8dEsL/N8Eh657qyQY2wIpb7fjmJ5g3oBP76PGbIelEvnoj0+NB1W7qwbiF0tSoS0yDEsQw1\n",
       "dQ6cnZEgt8EdE32EErG7p524StcyzcX21Mv0Cfz1KV1DzyuaQaf5Q9dt6aJpx3Azur7B1j6VIoMy\n",
       "nVSQViFIBK7VOZuj8J35NxFDsK2xWQtsObyVuXGXbKN0dUun2O4jpfQJ/PXZuEv2dY1Ai4euu9LF\n",
       "tGxAdPHWTnqpwaQYTGMRFriUSsfyYKmylW0bPA644TtcdhubfEtkTMw24jgbBKdhHGYgS+Rkmbgy\n",
       "YZoRcAJ/fdJ3dbTyY6ThbXvoug1dWHMYXYOwfQeejXayiC6I3HERi66tYW8lBmV+IRZua/XIiLA9\n",
       "W5OItx/KDBATC114oqtrASfw13G6hr72Y1ThE3joug1dSHcwuhonGLicGPd0XqzNcqZiTua49o0j\n",
       "opzLrln7lW0bI0o1LcGrFyezIYQx1t9ys8zAk371WdMn8NcnuRpj/cfYP3TdlC6Re14RoxvF/FrU\n",
       "6LW5ZswV7by896ZMgFEN8W1rbyHztQa/i5U6QbA+6bvqP0cdNEoPXXehKzvsOhjdIBrez/Oz3uQy\n",
       "Yc0SNjz6ni5yFHnZSbGMXQJ4BQVDZ3hTJwjW/FMvyfaB+/DQdRe6Wk0L6WqI6rhSBqNhdZsYkeYt\n",
       "doZ0LIuCOtUkWnuDeHq4BFgaPoVe+vkJwvXH6CJBssxD113oIrmgRtLoGDfjrpxVurHFUYr2bFsJ\n",
       "NwwayTs/Qbj+GF04aOEeuu5CV69zWT78dcGJQcG3qeH1MkEnCNZKiu5jz1E8dN2SLqHH5lk+u7BA\n",
       "6emh6y50ac0e8/704g9FH7ruQtfwLoE8JKUcfq99q6n67cfOLn33/KHrJnS1WhbsnZhZ7ZvfvmD8\n",
       "ztJYyatwvR80fOi6CV1KF2CBEvb3a+g6FSd9L13NKOF4IT9w+9B1E7q4hueoolTs/rfQdS5O+ma6\n",
       "3Ez/3EJ8tfIMXa+JS1Y2xpLKrfb71Rf0Su0QXIUeJwGaNw5Iao0QojRej64X/OdvE+H7izEJcdJ3\n",
       "0wWQB9nbuL6ArpfEJWsbY0nlVvv96gt6pXYULBoxiCFLl6kSWnY+QfEDdHE0bhPYKe3Qt9PVSAym\n",
       "SxbQ9ZK4ZG1jLKncar9ffUGv1K4H0yXTs7fWbFcR3LP3Wvqfp0u03RZhSGqHvp2uVgCHXsqfTs6N\n",
       "u14Rl6xujAWV20Y2X31BL9ROaqC548zb+AFd40ks8ufp6twJvZR26Pvpanpg04W1LqHrBXHJ+sZY\n",
       "ULnNfr/6gl6onYDSlXPpArq6k1jkz9PFHcyT2qEV6OqAYadCul4Ql/wBY4RXbo/KffUFXa+d0LB0\n",
       "PZVL6Qjo4ro1MQzVcjMUNG8vLoPDnuDpnz/nAGAkJNpV61PaoRXoanpYYKMtpOu6uOQPGCO8crv9\n",
       "fvUFXa+d0DCbkjkz8ehiavlikSDtMJ1gnLM4ZomLfv5nT37uJrnNR1I71KXrRCynfOQFyzMrpcsT\n",
       "l1Qc48N4UinFx2xjy6guPiZrjF7lTlUuffvNqmU2VAihKpgHn8pFGbqC2imulCss2FFNOInNV2kY\n",
       "XWM213ejS3LO10klo7I2mZfkWxm91W4qS0dPwNi6vlfk9g9uzZPaoTX6LgZzDbpCuhxxSfvlNWLj\n",
       "WVZfcm5tSb5ZGJzCocdkm3pf+fJE5dI/5EQt07WverH6MUeXV7turokXQVfyZJCtNchLQ1mFwY0u\n",
       "enCMRnsOM8SzVTiPVEYbu1B7am88gs/akki34PbUKe3QGnRFP3ESe5BeH5enaxeXpL3bRa/6ksvj\n",
       "QgD6w4jPZbr+0n9bb7mnfHmicukfElfL/Cxd8dqtOQLEscll6EH7CF3/BTmQ6BpdZDFwq8ZLd7oC\n",
       "XjKSvt7ebuPBgnp1PBXUSGuHVqELg+Iaf/l0/U+f/dh+beKSq5KJNPdomxnvZ+GtwXzsE5sBL6Ny\n",
       "bKexJsaoMxM3EitupBoWuvg0Ft6P2bfag+fmDA3bjqrFHKea+l35cqnhCVxerpF/zJf1XXvtNlfI\n",
       "bfTm6dROjBf7rjHvP8bp4l7fRc76rpykr1um13iQ0Jk4fLeSurcuqR1aY9w1mS8G3d/CvmsXl6T2\n",
       "3hjHYH8Ne5BazvfGjAZMOzR/hc98nXC+2NlwVG/pMir508BtO2bbuh7MyRIQWnY0LVjk1VXHGLfK\n",
       "2ec5Nnm6/GNK6RqckANPbr1G11a77bOpXDjutcIqKgYDo0vlW+AEXbZ9nQdbq684NiWSvjQyjprt\n",
       "TK7jcVvSccbPGwontUOr9F2AXn+hq2zctYtLtno3BVdfcvIGjLM4TH82aWmDwZfyRc5r+V8zPQ9D\n",
       "1+wYz5Ko9phtqz2YmbIHtu44atKypDEO3kXHVS5D+x0yNypJ19juKdPHD0K5Wy/StdVuC8s70WBs\n",
       "oguUX44Z0uywa8+Ecr1P+2WSce40Z9T6uQ2Y4ysFkr6uj+s2HlbJcytpMjYSDtvd3i2pHVqHLtDA\n",
       "qziq4YhLLqEZohpXX5Jt48nJqTNZNnP4AimPLoFnurDA09Ltx2xb7cGdPee6Y0d1JCrlGqM7Zj5R\n",
       "uQwPadB4na7J0tiGSm+kHEbVqvG49SpdW+0EjlwtCcf3ZXQJCqNrQL3WW2iyQ1qg2YIHwjnqluhL\n",
       "23Vq/meBpK9zeq/xsCLUW0lHWWr/opPaoXXo4roOXVvzsaROUnP5ezh9sRe5pDpSxaJ0uX2Xe8y2\n",
       "1R48WDrsjiOLZnSfvLBxqnLZlL3jAaVrydOeb8ruar5O12aJ06V0zE8hnYddPNYBSQhdDJCMeCmJ\n",
       "BSrp69LlNh4t8ks6foc1iDCntEPr0IUhkw8v0MVn1Z12nN3cbXwxn3RA05MzljA1JjNddKPL/FlR\n",
       "O+4yniNT2zHb1u1g4/VMO9gdZ/eAAlE5V7l8P12qNy3uRBdbGlnaLX95J12DGDBT4zJxyvjiHs3u\n",
       "mGy6w/49ZEJmBOx0hS6wpC89aTw2lmxJgWc4wRd81y6lHVqHLsi9m3pYcZWufvbSlJ4z2jZ9SdIZ\n",
       "1W9j2ATjsVcMTQ0kFn03zC9qjhq3iphefG43OTehwO2Ydet68LqDXbdE4cgXlyLGmFa5rNV3TRfa\n",
       "MOn97X10TW4YUuZTCMNsda1phrQx2ek+HR80heQZtoDQRzFdJZK+9KTxWKIaTkmNd4mSHt44SYiT\n",
       "1qEL0u9PzMirdAVnA+lLWt/v2tYGEKKocEg6qqHEFs5iFJvRhsKqO2yNq/kV0TW7GmTuyg0Z6Uoj\n",
       "2MMf309XiaQvPWk8LCx7ST49WB1yBBLipHXoaiCvp6qityff0aFe3/oTdDFyCHCvdCVTq7LdxGbs\n",
       "bvpYMV2DRktv2GXy3Ajs4Q8V6CpoculZ4xHOHucVes/FSWvRBXjnLtBfqE3XgFIeS3rrj9BFcTcu\n",
       "vc6WZLD3XYnUquxiXQQ/fayYrqZfA2Flz/VsJ1aXrtxCzxqP8C6TF2b0K9ElAHeG+B7EH69aY+3N\n",
       "TTLY6UqkVuU7r8WS/PSxcrrgIS3QwwfQVVPPkJ41Ho1/n/FlrWolpahDlwRMeNFHcc0LRi3jJC/J\n",
       "wBl3nadWAZ7zPMb30scq0tVpwBAWwR5pgW0XaoumdmUn/6617LqisNdoJOAG9+9SCx0V5r+eLps8\n",
       "43v5Dl17tgEzbbr8+z/+aZZ/zf/+95bA9vd/mL/855/7RrPMIVY3fawmXSAtXhhdbcFLW79bW9T6\n",
       "kDAVEwhd4k1K18ZO6O+niyyZc/iErvPUKkBv0psuwE0fq0lXowFlQDzDqNzSL6drOPm1jtAw5OUt\n",
       "iGcYiPlfpot+8Isbb6Rr0evzkwx2uhKpVfkzrsm4e/pYVbokIJeAQ85D8d3oCoRFI7qiELldQFRj\n",
       "eNcXhubpjN9P1/Iuh59ksNGVSq3K291Sips+VpUuBEiFUoD5rmEzEIjEs7m4b5QWTQqLHnVFFWA6\n",
       "A5AkH0r8XKar4xjjX08Xs12T997ISlcytQo6ePHSx2rSpQDTyZDZZJtozhDpwfH7r5MWzQiLHnRF\n",
       "GeBSAfdXBRNMf3jMcM0VGVxHd6Yrl1qVfb7jGkVy0sdq0tUBQvItwHvcd1Fgur5OWjQjLHrUFc0/\n",
       "ZAaYmkVBptkfTteWDOomGXz23eSrCwMEDQGvJo87UuV0fYu0aFZY9KArSmj+xuRDHzK4Y380XbSN\n",
       "5jj9TrqmR5svJO/dKNlcp+tbpEWzwqIHXVGVDbcDMqBZOOf4R9PFlWreQhf/Bro4IKwhs94j6l+g\n",
       "6zukRaPComwRTLDqOAdd0S57rYAczTbM9Xy+3/UGuvBX0NUB8njzgmuUXqbre6RFI8KifFE7tEZ9\n",
       "0BXN6zwCZuLDYddD1yW6lpf9GSUtRicKAD9PVyPyDwxngXFEPEro+qC06NH/iAiLju0i2IuWxuOg\n",
       "Kzpk6wYQTTg8gIeuC3StL/t3/bJzTAHgA3SRfLx9zA4eJInStSSC2WU80lVdWtRTIfYTIcnRQ3NN\n",
       "flG6taJSVlnqoCvKcnQN+aDGeHAeHrou0GVf9m86tOSsuAoAH6SrA8SMs1OiF/uu6tKirgpxIC16\n",
       "UBaNCovOI6vVAeyOfdeY6/Wzj0gdmq6Hrit9l33ZvyOWrogCwAfoakQ+z5SIH6CrgrSop0IcSouG\n",
       "HkNUWHRWxF5Dgwdd0ewTQPksw140D11vGHctL/szJMfOeFJHBYDP0KXyA5vs2AfRN9F1Ii3azUlH\n",
       "5r8SadHGUyGWyzNYCzooi0aERS1yK3cHXdFszBDiGPKHrnfQdb3mVemCSD/ITODOmfjhYJ0AuLSo\n",
       "EQRjc4pMkbSop0I8S4vuBR1emYkJiy6Sbd06aXHQFc19kTMfDmrQcZeHrjvRBXizP2cmWyOOkNA9\n",
       "wgC6SqRFB2acMqPAVyQt6qkQzyPcvaCDsmhMWNQM1rgi630+6IrmPsiT16BnkabtoetOdEFy4XIZ\n",
       "taIobF7+BorB0GjJFkmLeirEVlp0LeigLHouLMpXkfyDrmgmz7CDxDSGh65b0wUZKuU6L8Lr0mW6\n",
       "DTEWSot6KsQWprUg3zM8ExY1YLE1b/6gK5rLkad5lzv2qtJDV8RidLVvT+rKdNkp3PTlpXcpk5i8\n",
       "QNdovxZQIi3qqxBLvyBPWfRMWNR84WD1Xo+6ohjB3OXCdu2h65de0MnS5ksaRXoX1FalqyV40ckq\n",
       "kRb1VYjp4BXkKYueCYu2WG2B/KOuaEZ5RwISeHHz0HV3ugCvUthQwLmhVNXVYMOmLVAqLbp3Jdwr\n",
       "KKssGgiLHnVFM7oaHJDASZuHrvvT5X0yJRFYSPUuvCJdSM0JZJDlHBrTPe0FXVcWhWlCAerbCXYj\n",
       "uuYF1T3kuy8o4fgB5oDTnk6BnmGxtmiHFRTehM1PbuJW0FVl0V1XlKS/rNHnb6g81EEujzTyI/j1\n",
       "dQvDePl4XtVDvvuCEvYL0X0am+9fgNKilbWTGAAu1kW6xXmJ/Nh+/R9x//sKGvLmRQAAAABJRU5E\n",
       "rkJggg==\n",
       "\" style=\"display:inline;vertical-align:middle;\" /></a><br>"
      ],
      "text/plain": [
       "<IPython.core.display.HTML object>"
      ]
     },
     "metadata": {},
     "output_type": "display_data"
    }
   ],
   "source": [
    "complementary_event_prob_of_all = Forall(\n",
    "    Omega, Forall(\n",
    "        X, Forall(\n",
    "            f, Forall(\n",
    "                (Q, R),\n",
    "                Implies(Forall(x, Equals(Qx, Not(Rx)), domain=X),\n",
    "                        Equals(ProbOfAll(x, fx, domain=X, condition=Qx), \n",
    "                               subtract(one, ProbOfAll(y, fy, domain=X, condition=Ry)))\n",
    "                        .with_wrap_after_operator())\n",
    "                .with_wrap_after_operator()),\n",
    "            domain=Bijections(X, Omega))),\n",
    "    domain=SampleSpaces)"
   ]
  },
  {
   "cell_type": "code",
   "execution_count": 14,
   "metadata": {},
   "outputs": [
    {
     "name": "stdout",
     "output_type": "stream",
     "text": [
      "These theorems may now be imported from the theory package: proveit.statistics\n"
     ]
    }
   ],
   "source": [
    "%end theorems"
   ]
  }
 ],
 "metadata": {
  "kernelspec": {
   "display_name": "Python 3",
   "language": "python",
   "name": "python3"
  }
 },
 "nbformat": 4,
 "nbformat_minor": 0
}