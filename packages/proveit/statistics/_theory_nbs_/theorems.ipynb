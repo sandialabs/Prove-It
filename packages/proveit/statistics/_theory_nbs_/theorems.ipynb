{
 "cells": [
  {
   "cell_type": "markdown",
   "metadata": {},
   "source": [
    "Theorems (or conjectures) for the theory of <a class=\"ProveItLink\" href=\"theory.ipynb\">proveit.statistics</a>\n",
    "========"
   ]
  },
  {
   "cell_type": "code",
   "execution_count": null,
   "metadata": {},
   "outputs": [],
   "source": [
    "import proveit\n",
    "# Prepare this notebook for defining the theorems of a theory:\n",
    "%theorems_notebook # Keep this at the top following 'import proveit'.\n",
    "from proveit import (a, b, f, g, x, y, A, B, C, Q, R, S, X, Y, fx, fy, gx, gy,\n",
    "                     Qx, Rx, Ry, Omega, Function)\n",
    "from proveit.relation import total_ordering\n",
    "from proveit.logic import (Not, Forall, Implies, Equals, InSet, InClass, Union,\n",
    "                           SubsetEq, SetOfAll, Difference, Disjoint, \n",
    "                           Functions, Injections, Bijections)\n",
    "from proveit.numbers import (one, Add, subtract, LessEq, greater_eq, \n",
    "                             Real, Sum, Natural)\n",
    "from proveit.statistics import (\n",
    "    Prob, SampleSpaces, prob_domain, ProbOfAll)"
   ]
  },
  {
   "cell_type": "code",
   "execution_count": null,
   "metadata": {},
   "outputs": [],
   "source": [
    "%begin theorems"
   ]
  },
  {
   "cell_type": "markdown",
   "metadata": {},
   "source": [
    "If $X$ is a sample from a sample space, then its probability must be between zero and one, inclusively."
   ]
  },
  {
   "cell_type": "code",
   "execution_count": null,
   "metadata": {},
   "outputs": [],
   "source": [
    "prob_in_real = Forall(Omega, Forall(x, InSet(Prob(x), prob_domain),\n",
    "                                    domain=Omega),\n",
    "                      domain=SampleSpaces)"
   ]
  },
  {
   "cell_type": "markdown",
   "metadata": {},
   "source": [
    "The sum of probabilities of samples over all of the samples in a sample space must equal to 1 by the definition of a sample space."
   ]
  },
  {
   "cell_type": "code",
   "execution_count": null,
   "metadata": {},
   "outputs": [],
   "source": [
    "prob_sum_is_one = Forall(Omega, Equals(Sum(x, Prob(x), domain=Omega),\n",
    "                                       one),\n",
    "                         domain=SampleSpaces)"
   ]
  },
  {
   "cell_type": "markdown",
   "metadata": {},
   "source": [
    "We can prove that something is a sample space via bijections.  One bijection maps onto a known sample space and the other maps to something with equal probabilities as the first."
   ]
  },
  {
   "cell_type": "code",
   "execution_count": null,
   "metadata": {},
   "outputs": [],
   "source": [
    "sample_space_via_bijections = Forall(\n",
    "    Omega, Forall(\n",
    "        (X, Y), Forall(\n",
    "            (f, g),\n",
    "            Implies(Forall(x, Equals(Prob(fx), Prob(gx)),\n",
    "                           domain=X),\n",
    "                    InClass(Y, SampleSpaces))\n",
    "            .with_wrap_before_operator(),\n",
    "            domains=(Bijections(X, Omega), Bijections(X, Y)))),\n",
    "    domain=SampleSpaces)"
   ]
  },
  {
   "cell_type": "markdown",
   "metadata": {},
   "source": [
    "We can bound an event probability via a subset event probability."
   ]
  },
  {
   "cell_type": "code",
   "execution_count": null,
   "metadata": {},
   "outputs": [],
   "source": [
    "subset_event_prob_bound = Forall(\n",
    "    Omega, Forall(\n",
    "        (A, B), LessEq(Prob(A), Prob(B)),\n",
    "        condition=total_ordering(SubsetEq(A, B), \n",
    "                                 SubsetEq(B, Omega))),\n",
    "    domain=SampleSpaces)"
   ]
  },
  {
   "cell_type": "code",
   "execution_count": null,
   "metadata": {},
   "outputs": [],
   "source": []
  },
  {
   "cell_type": "code",
   "execution_count": null,
   "metadata": {},
   "outputs": [],
   "source": [
    "prob_of_all_as_sum = Forall(\n",
    "    Omega, Forall(\n",
    "        X, Forall(\n",
    "            f, Forall(\n",
    "                Q, \n",
    "                Equals(ProbOfAll(x, fx, domain=X, condition=Qx),\n",
    "                       Sum(x, Prob(fx), domain=X, condition=Qx))\n",
    "                .with_wrap_after_operator()),\n",
    "            domain=Injections(X, Omega))),\n",
    "    domain=SampleSpaces)"
   ]
  },
  {
   "cell_type": "code",
   "execution_count": null,
   "metadata": {},
   "outputs": [],
   "source": [
    "constrained_event_prob_bound = Forall(\n",
    "    Omega, Forall(\n",
    "        X, Forall(\n",
    "            f, \n",
    "            Forall(\n",
    "                (Q, R), \n",
    "                Implies(\n",
    "                    Forall(x, Rx, domain=X, condition=Qx),\n",
    "                    LessEq(ProbOfAll(x, fx, domain=X,\n",
    "                                     condition=Qx),\n",
    "                           ProbOfAll(x, fx, domain=X,\n",
    "                                     condition=Rx))\n",
    "                    .with_wrap_after_operator()\n",
    "                ).with_wrap_after_operator()),\n",
    "            domain=Functions(X, Omega)).with_wrapping()),\n",
    "    domain=SampleSpaces)"
   ]
  },
  {
   "cell_type": "code",
   "execution_count": null,
   "metadata": {},
   "outputs": [],
   "source": []
  },
  {
   "cell_type": "code",
   "execution_count": null,
   "metadata": {},
   "outputs": [],
   "source": [
    "prob_of_all_events_transformation = Forall(\n",
    "    Omega, Forall(\n",
    "        (A, B, Q), Forall(\n",
    "            (f, g), \n",
    "            Equals(ProbOfAll(x, fx, domain=A, condition=Qx),\n",
    "                   ProbOfAll(y, Function(f, gy), domain=B,\n",
    "                            condition=Function(Q, gy))),\n",
    "            domains=[Injections(A, Omega), Bijections(B, A)])\n",
    "        .with_wrapping()),\n",
    "    domain=SampleSpaces)"
   ]
  },
  {
   "cell_type": "markdown",
   "metadata": {},
   "source": [
    "If events are disjoint, the probability of the union event is the sum of the distinct events."
   ]
  },
  {
   "cell_type": "code",
   "execution_count": null,
   "metadata": {},
   "outputs": [],
   "source": [
    "prob_of_disjoint_events_is_prob_sum = Forall(\n",
    "    Omega, Forall(\n",
    "        (A, B, C, X, Q), Forall(\n",
    "            f, \n",
    "            Equals(ProbOfAll(x, fx, domain=C, condition=Qx),\n",
    "                   Add(ProbOfAll(x, fx, domain=A, condition=Qx),\n",
    "                       ProbOfAll(x, fx, domain=B, condition=Qx))),\n",
    "            domain=Injections(X, Omega)),\n",
    "        conditions=[SubsetEq(C, X), Equals(C, Union(A, B)), Disjoint(A, B)])\n",
    "        .with_wrapping(),\n",
    "    domain=SampleSpaces)"
   ]
  },
  {
   "cell_type": "markdown",
   "metadata": {},
   "source": [
    "The probability of the complement of an event $E$ is 1 - $Prob(E)$."
   ]
  },
  {
   "cell_type": "code",
   "execution_count": null,
   "metadata": {},
   "outputs": [],
   "source": [
    "complementary_event_prob = Forall(Omega, Forall(S, Equals(Prob(Difference(Omega, S)), \n",
    "                                                          subtract(one, Prob(S))),\n",
    "                                                condition=SubsetEq(S, Omega)),\n",
    "                                  domain=SampleSpaces)"
   ]
  },
  {
   "cell_type": "code",
   "execution_count": null,
   "metadata": {},
   "outputs": [],
   "source": [
    "complementary_event_prob_of_all = Forall(\n",
    "    Omega, Forall(\n",
    "        X, Forall(\n",
    "            f, Forall(\n",
    "                (Q, R),\n",
    "                Implies(Forall(x, Equals(Qx, Not(Rx)), domain=X),\n",
    "                        Equals(ProbOfAll(x, fx, domain=X, condition=Qx), \n",
    "                               subtract(one, ProbOfAll(y, fy, domain=X, condition=Ry)))\n",
    "                        .with_wrap_after_operator())\n",
    "                .with_wrap_after_operator()),\n",
    "            domain=Bijections(X, Omega))),\n",
    "    domain=SampleSpaces)"
   ]
  },
  {
   "cell_type": "code",
   "execution_count": null,
   "metadata": {},
   "outputs": [],
   "source": [
    "%end theorems"
   ]
  }
 ],
 "metadata": {
  "kernelspec": {
   "display_name": "Python 3",
   "language": "python",
   "name": "python3"
  }
 },
 "nbformat": 4,
 "nbformat_minor": 0
}
