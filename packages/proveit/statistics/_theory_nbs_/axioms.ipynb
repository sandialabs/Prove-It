{
 "cells": [
  {
   "cell_type": "markdown",
   "metadata": {},
   "source": [
    "Axioms for the theory of <a class=\"ProveItLink\" href=\"theory.ipynb\">proveit.statistics</a>\n",
    "========"
   ]
  },
  {
   "cell_type": "code",
   "execution_count": null,
   "metadata": {},
   "outputs": [],
   "source": [
    "import proveit\n",
    "# Prepare this notebook for defining the axioms of a theory:\n",
    "%axioms_notebook # Keep this at the top following 'import proveit'.\n",
    "from proveit import f, x, Q, X, Omega, fx, Qx\n",
    "from proveit.logic import (And, Forall, Equals, InSet, InClass,\n",
    "                           SubsetEq, SetOfAll, Functions)\n",
    "from proveit.numbers import zero, one, Sum\n",
    "from proveit.statistics import (\n",
    "    SampleSpaces, Prob, prob_domain, ProbOfAll)"
   ]
  },
  {
   "cell_type": "code",
   "execution_count": null,
   "metadata": {},
   "outputs": [],
   "source": [
    "%begin axioms"
   ]
  },
  {
   "cell_type": "markdown",
   "metadata": {},
   "source": [
    "### Define a sample space\n",
    "\n",
    "A sample space is a set of samples whose probabilities are between 0 and 1 and whose sum of probabilities, over all samples, is equal to 1."
   ]
  },
  {
   "cell_type": "code",
   "execution_count": null,
   "metadata": {},
   "outputs": [],
   "source": [
    "samples_space_def = Forall(\n",
    "    Omega, \n",
    "    Equals(InClass(Omega, SampleSpaces),\n",
    "           And(Forall(x, InSet(Prob(x), prob_domain),\n",
    "                      domain=Omega),\n",
    "               Equals(Sum(x, Prob(x), domain=Omega),\n",
    "                      one))).with_wrap_after_operator())"
   ]
  },
  {
   "cell_type": "markdown",
   "metadata": {},
   "source": [
    "An `event` is a subset of the sample space.  The probability of the event is the sum of probabilities of the samples contained in the event."
   ]
  },
  {
   "cell_type": "code",
   "execution_count": null,
   "metadata": {},
   "outputs": [],
   "source": [
    "event_prob_def = Forall(\n",
    "    Omega, Forall(\n",
    "        X, Equals(Prob(X), Sum(x, Prob(x), domain=X)),\n",
    "        condition=SubsetEq(X, Omega)),\n",
    "    domain=SampleSpaces)"
   ]
  },
  {
   "cell_type": "markdown",
   "metadata": {},
   "source": [
    "### `ProbOfAll` is the probability of an event (a sample space subset)"
   ]
  },
  {
   "cell_type": "code",
   "execution_count": null,
   "metadata": {},
   "outputs": [],
   "source": [
    "prob_of_all_def = Forall(\n",
    "    Omega, Forall(\n",
    "        X, Forall(\n",
    "            f, Forall(\n",
    "                Q, \n",
    "                Equals(ProbOfAll(x, fx, domain=X, condition=Qx),\n",
    "                       Prob(SetOfAll(x, fx, domain=X, condition=Qx)))\n",
    "                .with_wrap_after_operator()),\n",
    "            domain=Functions(X, Omega)),\n",
    "        domain=Omega),\n",
    "    domain=SampleSpaces)"
   ]
  },
  {
   "cell_type": "code",
   "execution_count": null,
   "metadata": {},
   "outputs": [],
   "source": [
    "%end axioms"
   ]
  }
 ],
 "metadata": {
  "kernelspec": {
   "display_name": "Python 3",
   "language": "python",
   "name": "python3"
  }
 },
 "nbformat": 4,
 "nbformat_minor": 0
}
