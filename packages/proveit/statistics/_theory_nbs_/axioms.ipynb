{
 "cells": [
  {
   "cell_type": "markdown",
   "metadata": {},
   "source": [
    "Axioms for the theory of <a class=\"ProveItLink\" href=\"theory.ipynb\">proveit.statistics</a>\n",
    "========"
   ]
  },
  {
   "cell_type": "code",
   "execution_count": 1,
   "metadata": {},
   "outputs": [],
   "source": [
    "import proveit\n",
    "# Prepare this notebook for defining the axioms of a theory:\n",
    "%axioms_notebook # Keep this at the top following 'import proveit'.\n",
    "from proveit import f, x, Q, X, Omega, fx, Qx\n",
    "from proveit.logic import (And, Forall, Equals, InSet, InClass,\n",
    "                           SubsetEq, SetOfAll, Functions)\n",
    "from proveit.numbers import zero, one, Sum\n",
    "from proveit.statistics import (\n",
    "    SampleSpaces, Prob, prob_domain, ProbOfAll)"
   ]
  },
  {
   "cell_type": "code",
   "execution_count": 2,
   "metadata": {},
   "outputs": [
    {
     "name": "stdout",
     "output_type": "stream",
     "text": [
      "Defining axioms for theory 'proveit.statistics'\n",
      "Subsequent end-of-cell assignments will define axioms\n",
      "%end_axioms will finalize the definitions\n"
     ]
    }
   ],
   "source": [
    "%begin axioms"
   ]
  },
  {
   "cell_type": "markdown",
   "metadata": {},
   "source": [
    "### Define a sample space\n",
    "\n",
    "A sample space is a set of samples whose probabilities are between 0 and 1 and whose sum of probabilities, over all samples, is equal to 1."
   ]
  },
  {
   "cell_type": "code",
   "execution_count": 3,
   "metadata": {},
   "outputs": [
    {
     "data": {
      "text/html": [
       "<strong id=\"samples_space_def\">samples_space_def:</strong> <a class=\"ProveItLink\" href=\"../__pv_it/axioms/2811e56266f3a1cdc2390cf3f79cad01ac46d7be0/axiom_expr.ipynb\"><img src=\"data:image/png;base64,iVBORw0KGgoAAAANSUhEUgAAAiEAAABABAMAAAA+DrpiAAAAMFBMVEX///8AAAAAAAAAAAAAAAAA\n",
       "AAAAAAAAAAAAAAAAAAAAAAAAAAAAAAAAAAAAAAAAAAAv3aB7AAAAD3RSTlMAq1RmmUTNIjK7EInv\n",
       "3XZ/CtNrAAAACXBIWXMAAA7EAAAOxAGVKw4bAAAL8UlEQVR42uWbDYxURx3A//v99u3t3gEKotTb\n",
       "2GqN0NwqFGNi4Piw2NDCthoSc40sH5ZAMbcYomJObjGxJhZ7Swm2py0ssSFCOdi2Lo0h5Y62FEM/\n",
       "OGvbKLCyQAVLyx6Ur+Nznc+3782b2b2zt71nnITH7cxkPn4z8/968wAGmqbD0Cd9GfzvJG9B+N1Q\n",
       "i15+k3HOjKstz0nh9+SajMLT4KBN8H7FUt9l62/tQG1G8ZiDiASzlUq3x6y//dnajGK7k47NS5VK\n",
       "7xJ+N9Vo5F4nHZsJFSap9QsZh2s0iMBlBxEJN6vL/MLSaVdrNYrfO4iIu8LyNCWtv13pWo3im04y\n",
       "OZaqi/4h/K6P1WoQ7VEHEWlKKcXIR0JGB9kz7jnFT4vyeebMqPT0Pby3SoUBnN1PPNUpB+M6K2RM\n",
       "JVJwaQa2CIZdVwruSEjbWFCtAlM2CScZ6mdVJTtFVqPJciIrTb9kLfgTsjvlc1pXrQJNkbMOIuI7\n",
       "ryqZKp4ncgT6MKdGKlHez+fJPB9C/9KViKgrMPne7yTR+qqqYJOYcY3kYhh9RC/PO80KnkQCJlaJ\n",
       "iLqCQmQNa5qbVBRcETPIbmolRPCCBwxp0nQtjh224u6MtnxWcaOvuAHmvTZpWowQWflBM63gW/78\n",
       "zFG0Guizd0dJyaNTsDepn3cSkSbF4vmuiZYlWchu7NvMxVECv4EyUir9AJm/SSQgwyOh405sX7we\n",
       "19/GRLT9yIOmFer2QVczrdYW9f0Fl+hpCOMWbpJ27s3j9NfhJtKucCq8F6Vbux1LjqPY9veXi/4w\n",
       "rhRDU0W+crAH6tPQkcJapimOiCDFWh+lFZAN7L5Iqz0I7v245IsHIGIcSMeo3x6FDS/a7D6CKISy\n",
       "A2RJ1+IF5fJyLdIWegsikob6LCaymCirddARoy4zquBvBv0CqaZjAqTk6Eay0y44iUhQ4a3U98rF\n",
       "39/QKSEaZqtREiO49GlfoEQKjAjaLOugacbEiSlaARFBwglX0zBSUvLM0QuOIxJRyPn2tJRI5mFk\n",
       "kyTxwoaNElyzHybENSsRukeiRgW6R3A1vFVISSBDlbyj5IhbsT5NooEWIAoh68rASsDnIFLgJe+g\n",
       "wrNonX2Xf2UQWUAchHVQh8RUnFbAcqSfVnsQ9YtL7i+AK8bVmFOSdkWe31cQvReykKPGp6DlVkJr\n",
       "IS95NwpbYmiqkf7b/ZRIHJYn9cNE1+yDUJJW8O+Hriyt1haDF3DJjw5AMMnVmGPCaDcAiLq5VbBT\n",
       "bP7oK0T7lqIwtURobd7Awk0N330WOX9rjp9+8d+Ne3+xaW+o9TAsmHIsDmteHwMr57zAKvhHFVm1\n",
       "gj6zmMQlvj3FHF6Vi04iAiWAb+H/lwgma6pq4KDlqbzSW1ks0V5Kp9J91VFEkHGxBosJQZK22mzZ\n",
       "ewbT6qCIhHodRQRN3Y+2f0g4JQczNtcvM4hWJRojrAwwBxscRWRTHDwxiwnKD5MYHhhEpOu+62Ns\n",
       "bkHjXpULVbvo3H+VGtFE38jnX6tKJFizSNf8pOOIfBvgd1WJeHpqNYRdjgICc9GWXQEBdJQjz08y\n",
       "tq9uJ6LXTEe+5DwiwUwoDvrLAHcb07/+yS1lpMdZRLqRueUuIMEaRMZFfaECkTrBRNFODM2L4Lqo\n",
       "84hAYgoNy4fTFYh4BHtsDQzNO62T4EAizy0D7Lfi4IZSsgIssv58YmgGENgPzpMj0IYEq/ssf0ul\n",
       "ItJl1ZKHIDMUA+iKOpGIC4uIUQBzoBKRgPXVVcvEIbGs1jsMCLFH6Hy3AKQN4XlQVventXC+444l\n",
       "Eook3amsyQH8f02G2+8vxSOlrDoaAJ7hWc07AW7Jfxw7/0xeKqm8xkOMBsg7m2uf/m3DAsSNjILE\n",
       "x2vCI5V3JP4RkBgQB+Wt9Nla0dG4zvy9iiZVZdiwiy1F8ilS2dbDFiBEWpE3mj9ysFQa4GlOmvqX\n",
       "E4EpxsOarstbnGqzR4Oo3VyVcRxXZXxfLLC1hPwIX0FSsJ4SmU+iSnpLqTAwz4AdFNKkgkg4wx/W\n",
       "Rbyh8NBtUZw2MlxZTLa8w7OBW0ojxq43ZfARxuxEQntmcX/gECECJ+xEAj2USIi9M9isiLetOHpu\n",
       "RGe5k/H8jxNyIviidQTPJWKbp++cvIedtrM7mwxXFpM173ANtdeWMG95mpbZiSzkJt/mu65SIjiY\n",
       "x4g8x+VflhKBVibYxij67miAwKvmE870RUZCRP9UK8rWcXhXt8V4PTflHYRtt1wuknmsUYgjkmag\n",
       "MkTEc82UwdIkGxFPL4RYQxFGxNPMiejvsnr1cUaknd243qHoG7/ANo6612CAm5Tskb4M90oW2XSQ\n",
       "4jaLV7zFSC5v5qQxWSP1UCLaDVMGd3DZeeXXcHI4usqD8JwIHOBEIl9lW6Ijw4h4rlSWHJhIBz9S\n",
       "deX8A2oiJPZxt1jkV9x48ojv2SK9dGUlMVlDaiQoEd8lUwbvh47KuIaTg/pm4yqNQWQRJxLW2PY5\n",
       "A4wINBaqEpnP+/uSxT1VEfkQ+MOc6hWSKiC+/XQl6OmXxGTBdOYxkdBHvuXHdyVphl787CNIKIQa\n",
       "rJ5RDr8X1s4LRJ7lRMZzWTXaILK9vyqR7ui8N8cvYTJvx7E/7o6SJlVE5hsPi0BSRX3eEJVvmhKR\n",
       "xGTN+wAR0T+MQd309hjN8MKxwr08uFK+hpOD9ixoNwUikzmRJdwe7DSIaDeqEdnxMsArt59nwqE5\n",
       "8nlvL2mSETG/aSdEOlL8YYGVUsVNBHbkUniOx2RNp6kcnQ1HsTbfvQf9F+7VWcbXYWoGedVuIlL8\n",
       "YCVyTSAygRHRGrihsMAgAt3NFYkc3o2NnzwJUbyFMCQ9V/Fr9gnqPdIe5w9zelLZg3BsyTXcHIvJ\n",
       "MmF7rDNujs7WoYLAlTI/kpGi32BoRF6Vr+GgU5MFn7hHOhgRV4rfPXi7TMRf8YsCdr2DXqHdhzpk\n",
       "12Q71ER2xvnDrJnPqXrwJ+R7hMRkaZqZskZnzUSaeQbAm8TuIXtkq2mPIMnqFiXrA4wIsmP0XnGP\n",
       "hJoHQGQxJ4J6J8N6oMIeSfGHWaUoxZXnspwIiclCcdZ7SWKHmqOz5NQwIlmegT/l2oZAkgmGTUSQ\n",
       "YPKI2vcORgTbZ9NFIt+zD/KDiTMEIg+R51vE7E7qGdKkUo4kwRw2ZPNUvoTWhetyLiZZSUw2khzr\n",
       "j27lApdHZ4MFgQjK0De4evANHA8ZcPkaTg6/EUP7OmMh8g1GBI/qx6TeWINI4JBlPI+O3YC/EvOm\n",
       "ZUQ2ou0YHwch2uSgdE27OjAo3AUgb1VyLCbrgY0afIeYHKboLNaw2qWy1MEZ7v6ne3xRZo2bruHk\n",
       "8EJuT9Eb5aHLjMhs2oUHgwumDHOB6inL9vYinQe/BX5jCw0iUZY7WOU2/foeuJ82KSHSjYdMvmIR\n",
       "P2XpVh/MnVbR6rvKiJCYLKA5TO7s7Iyao7NaLwRGlz4H5LV3lGbocwq3fQ0jogLMuIaDWnp6z2eQ\n",
       "bkC/XeMujaJE3mFd4Eoa6X8+t1l5PFaHyHurZxEPjlzyYR+9rGg9h5nfd30kceRQ60X3jCht0k5k\n",
       "xMEFKG8a/nOacDRuVnCoe6y/95kdU60nAI/YorO26Ek54+c8XP0Ut+KZWZspRwMg0Gvzfeu4XxNh\n",
       "cnU1nHKlF+ppbqxI78KGjf2Em1REA6R+jbfSXZZ/ynxfFhkIJbxID4vRWdGdM2XMUMRHQqb4CHHQ\n",
       "cnY7mBCZZzjRsWAh5SOTbEJLI1XJHkMt4SYVRKS+b3ul0KlwiWGtaR7ef+05DYEnxOhsUAyVGRk2\n",
       "d5m3tMNMZJU9PqKx+AiXqxOwtk+CZ2ln52P4oqNX7u08zv9YpY4YkU+vxe+vR1TS8CGrReKKisN9\n",
       "prPTSlQX521k2FjxlgpmIo9LYmgjKZHwV7Zt2/aTX54sxfDaJDWyCD9LQFCTjn2rGY0qhpbkDxOl\n",
       "yl95b7TFWV+sEmddrco4JRaILUWOxJFOR77uPnmcdW6JpUygZxc0U98qewq+HJI7qow0bnIwcda2\n",
       "VMX5dVmLxw9PLD4rxuLntBQzsAqPrfUi9A3gK4NBxOIXVYmsW4kM3/uaH9rf1+h/7twwwAbOHJES\n",
       "8Wb4w9QqneJ/AO9otwBEj5+4AAAAAElFTkSuQmCC\n",
       "\" style=\"display:inline;vertical-align:middle;\" /></a><br>"
      ],
      "text/plain": [
       "<IPython.core.display.HTML object>"
      ]
     },
     "metadata": {},
     "output_type": "display_data"
    }
   ],
   "source": [
    "samples_space_def = Forall(\n",
    "    Omega, \n",
    "    Equals(InClass(Omega, SampleSpaces),\n",
    "           And(Forall(x, InSet(Prob(x), prob_domain),\n",
    "                      domain=Omega),\n",
    "               Equals(Sum(x, Prob(x), domain=Omega),\n",
    "                      one))).with_wrap_after_operator())"
   ]
  },
  {
   "cell_type": "markdown",
   "metadata": {},
   "source": [
    "An `event` is a subset of the sample space.  The probability of the event is the sum of probabilities of the samples contained in the event."
   ]
  },
  {
   "cell_type": "code",
   "execution_count": 4,
   "metadata": {},
   "outputs": [
    {
     "data": {
      "text/html": [
       "<strong id=\"event_prob_def\">event_prob_def:</strong> <a class=\"ProveItLink\" href=\"../__pv_it/axioms/8b8c00f2c60e075a9ab5918a4c163fdcae94020a0/axiom_expr.ipynb\"><img src=\"data:image/png;base64,iVBORw0KGgoAAAANSUhEUgAAAfoAAAA/BAMAAAD6aRfJAAAAMFBMVEX///8AAAAAAAAAAAAAAAAA\n",
       "AAAAAAAAAAAAAAAAAAAAAAAAAAAAAAAAAAAAAAAAAAAv3aB7AAAAD3RSTlMAq1RmmUTNIjK7EInv\n",
       "3XZ/CtNrAAAACXBIWXMAAA7EAAAOxAGVKw4bAAAIMElEQVRo3s2bW2wUVRjHv92d3bnspRDiBW+t\n",
       "0Qc1CBNbowkqGwmiGOi+NN4SWi/BQNSuTwoCXV940dCNBrFiZEhQoyF0A4ZwMbiiwQSjrtEHNAJj\n",
       "JRJE21IuhYV2PJe57sxsd4Z1nEm23e/Mzn/O71y+851vdgGad8QVZcLnpUs8fr5bUSqeb5JQlDEA\n",
       "YYXZaiL9ua7H/V2Z6fFK39VV8HwXrqsL8560WM2jH/V7ZXfe6wU+b3QAvfiS2fr/6YWvIEB64UC4\n",
       "6JmeIOlhlhQq+v5CoPTpbKjon4ZA6aPjYaLXaxMQPSwPE326GDD9nEKI6PvbAqZPZUNE3woB0zOj\n",
       "4aEXzgZNHz8THvrYhaDp4WB46PnRwOk786GhbykGTj9HDA19dylw+r5poaHvzPmkRzt045C90KfK\n",
       "oaHvlXzSRxXVX3689Aal7IWer4aG3k8+iI78VuPS+8e80GfGwkLPXvRNn1am6SWPeKGPng0LfdQx\n",
       "2GGNt3lXek45Y+QIXNJDrEVF5eUuhoU+M+lUOmS8Xeru80cUg1l0lh+yqKi8woRqkbFzS9Povcsx\n",
       "ZA6yNyrTZ75tDAi0CsY2X5aFYwfbMqIrPW/P7DoI0UYWzb2tqPQL8L/nm0bvXY6njps7DbC6Ryv8\n",
       "CP+JoHa5HXXuCld64Qf7tHEQIscKM/0xiVqv4/YqNo3eu1yC5jZYVOnYJa1wvjo7WbwX7XCPdroV\n",
       "2+7YQYgcHWb63jy1EqgVkm1No/cul6rqleb0Fays1nEL+YTkSp9UDjnR1wrpKhr95hylj6H5kGie\n",
       "1/Mu1zKqVzp+XputdOTOW0TcSEJ0j3R7zzvR1wrpKhp9a5s6Er47cuTbJvp8z3Im+uRY/IWhXWhQ\n",
       "MtRXpU6TXk9Oc6ffppQc6C1CwvB1b+xQVWz0DwO810R6z3IGvfC3CKkH+0S9t5N0MYyRDlx8BB8/\n",
       "1tDr0a6Z3irEwO/yYlVFo+/UVoCXgUWtktnZoY2vzPDu2vYUNrudsdFTOdORnYJ+UKWf2LcfdUi6\n",
       "IuAgjnqOCJ2+0XKdPV7n5RqvYBO6B+ZJM1QVGz0vJXPkWRKOFdfP3IB6j7ENtT7y1+lMLT2Rg+jm\n",
       "jXDDtaSULgC3X8xHviwA7BkY2Ahwqt3wxYNlc8CbIDdI0W3fwlbynxutQ5+u3d3ZhArwkK6i0X8h\n",
       "q/RRGXkpHg2LFhmYh6mbtDEOag50SnoiR9KmC8FED1+TWPQTgrNNBKboQp816JlCP/lUvF7fsxPO\n",
       "+waz0Pe6io0eeh6gOd50Ef7AZU9LkGd3LoBPDs++rv0qWPnTqUWYfucwOUPM1zpykNl/DS4bmita\n",
       "I10shyZJNSlZ6EekvejvRvL+HfSadKEnU4uO/N2QJrFAtOI+7yHzjQu9IRQfh09VFTv9DhQF8aiO\n",
       "LSWB1HTNxAKIlFJ5dgyWw53AjcOfiD7Rxoj4DDGvh2/gM3gUld1dYmUr/Q4amn29Fyz0qUdRa7Al\n",
       "dRwA/FLr9cyV5rFmJqdGLbFinb7vLtSjR0LChkgZSqqKbd7DajSao6gK/fk47cb1rTKb50W2Cpvg\n",
       "TeDK0JIbhH6IF/EZYr4CbwvjsAqVvXv2jppdzmo6OUYKVvoM9s1R6s0G0OtSDT1Hl2j6hBGvTsIm\n",
       "HI/jAcSU3Ok5276+Vih6YWs53qaq2OkjuJ4z8LdHYssHBt4CCTuIU//I7CjcROlT4iDc196ew2eI\n",
       "mdl/FKPisieUnJU+QrE/z1rpk7jD1eadA3gIWejZq5Xr8Qdav8QNxFWAe/9yAdYpP2OQXJ31vjaj\n",
       "ZRMSlsi33qWp2NZ7eg3aDRQLHGlk1O6VtMj/ZdDTvqdniPkTfPAxClBRGSfFepx2uMntVSv93hHU\n",
       "jQIdFxHk9fRap5z2xYfNxpo6Wc3nplhPD1tVnOmTmXy0UKJxyjm0Yg9K6WFE/wGmr8JJNO95UZDx\n",
       "GWwKVTgqb4LtqGwoC0Un+r1kchv0SYk8PNtBjFU9wHP6klV1qLRlYzPfnZ6fakPVYVXR4/yC2Uoo\n",
       "uQyKGVfiwgX79kFm/r0vbTkbO/hYa4k7MzsrdGZh3zA5g0043r5OTu6XUVl0ydy8Az0jwYjF5y9C\n",
       "qwAu342N0gm4LVmzw63Z9poyNU5bRo1+sRHqOG+tdCGqou9w8w65HWHPwAabFynXM51zO1uPSELr\n",
       "swa9sPhX2HIeT/qncLTTew5GdK/HnHOQEorOLVFDHzOWu5gzvS7EW3h/aDSzVRNpcaMeM1tTjc3M\n",
       "GafStcbbE+6ZLdNyN8tFfq1FReO93Cj9y5fqmVdOH7vkO6fLGsvd1sYeBB+wBIgBZDUt9DMHSJxv\n",
       "ueq0b3p9uWNvVi54oVfvGQD9VF9EFM77pu9dRo4Xf1Ma/eKqyhubdKRfPzfwjDYc80vPmJ/jiV7o\n",
       "mQtO9Nw0Pnj6zrzfvvd+qLyJUSd6vhD80wyYJwZO31Jxok9LQvD0fdnA6ftLTvTxne3B06cqgdOr\n",
       "G9AwPMFOVgOnfx9CQ89OBk0vnA4PPSy7YnotZ9ogvfYduVDQz8tfAT3OQms500bpE5UQ0Q+W/NOT\n",
       "LLSWM22Uvk8MET1T9kWfOb52Ic1CqznThum/gBDRC5O+6E9Eis8I5pxpo/T6/cLx24y/fdGLvFxQ\n",
       "06Q0Z9ooPVMJFX1a9jXvW/JqFlrNmTZK35cLFX183Bf9m5CnWWgtZ9og/XQIFT3s8kHPlndBVn1a\n",
       "ruZMG6OPHQoZPS/76PslTw1LJAtt5Ewbol9d+G/off8KWTjslV5L5jhlod0O9XfHz1qsph1Cl99f\n",
       "IcOrHj//oc9fIT+JapkzrH8BwFY9SrhsHMYAAAAASUVORK5CYII=\n",
       "\" style=\"display:inline;vertical-align:middle;\" /></a><br>"
      ],
      "text/plain": [
       "<IPython.core.display.HTML object>"
      ]
     },
     "metadata": {},
     "output_type": "display_data"
    }
   ],
   "source": [
    "event_prob_def = Forall(\n",
    "    Omega, Forall(\n",
    "        X, Equals(Prob(X), Sum(x, Prob(x), domain=X)),\n",
    "        condition=SubsetEq(X, Omega)),\n",
    "    domain=SampleSpaces)"
   ]
  },
  {
   "cell_type": "markdown",
   "metadata": {},
   "source": [
    "### `ProbOfAll` is the probability of an event (a sample space subset)"
   ]
  },
  {
   "cell_type": "code",
   "execution_count": 5,
   "metadata": {},
   "outputs": [
    {
     "data": {
      "text/html": [
       "<strong id=\"prob_of_all_def\">prob_of_all_def:</strong> <a class=\"ProveItLink\" href=\"../__pv_it/axioms/731617a1536353169f34756ad9c881852a2950370/axiom_expr.ipynb\"><img src=\"data:image/png;base64,iVBORw0KGgoAAAANSUhEUgAAAqIAAAAzBAMAAAC+incPAAAAMFBMVEX///8AAAAAAAAAAAAAAAAA\n",
       "AAAAAAAAAAAAAAAAAAAAAAAAAAAAAAAAAAAAAAAAAAAv3aB7AAAAD3RSTlMAq1RmmUTNIjK7EInv\n",
       "3XZ/CtNrAAAACXBIWXMAAA7EAAAOxAGVKw4bAAAME0lEQVR42t2cf3AU1R3Av7nbu73b+5GDViq/\n",
       "jxG1HSucDfSH7cApUCpUSW1LR9uRUGsptdZlyrSDRhP+oVNFcpSiHrawzjC2pJ3kgP4kmIYfBasj\n",
       "E4sWtQQPpFIFQvgRA6GQvp97+3bfbe7ipZJ7M9nd92Pf2/3s+/H9ft/3AlDC0NjYWFS6a9AaG42C\n",
       "ClZ0HIDBDCc74gW8Nn3cAb2pS3ir71xR6a4h0teXzJf3tDXih0EO3kSeb76Onjf0XQAI9vWl2GUJ\n",
       "w2tFprsTrc7fKxODTlSnJ9WNKDzBB9HnSLGUeTnkiI6GwSYaZQPdl3Uj6mkvE6LeGjvRJW+dHpa2\n",
       "vPf8lwb8DnO34eMNPPq2G1HYXCZEa3VHH22IgbrHkjZgoqGrd+IZ0vxmfsONaCRRHkQPgYNoXQxg\n",
       "eiaXdv9AXyF8LV5uFJOhN+lG1PNiWRD1tsmJNrSXgOgCstiEcwkvuhGF75QF0XBGTnRBTQmIPk+O\n",
       "1+US7nUlukAvB6KnDDnRv8bn77thEWzsnIX6zrSj8YE0etPLHyXLE/prOvybljhZfFyI+mPlQPQV\n",
       "kBJt2gWw+/qzgQMQzMIDOh+QRYbLvGNCMjpOQfPIpzlRpYOEmDiR9pYB0cB5GdF/tRxBpw4wIhlc\n",
       "YiEakHnuVwQidNRmeVyllf8D8dG9vViT+KRrH9UulwHRijYZUfI2GGQDGqkXcQettOqwng1PwZir\n",
       "yWWQyfCtRxHNqTbKni5y+hv6cKCQebnBlSj8qgyIhmP5iSKQk9FtFwjRFOvTh9MoKZyE2WAh6lsE\n",
       "6l7QWF0+vtiF2jlRdAvpud9yJzpdH/pEGxL5id5P++g5ax+dWU+6ZG/IsBK9Ef3dBgpv4/vsHIzx\n",
       "UY/Xcc0gBV3mUWhODH2ip3RXoqgz+rrJ8K+HztlH9Sj7ALu3gYUomS+nQwQdcSHYwgcAnVHXA2yq\n",
       "HgMhSsitj9IRM7SJ/hIkRBuoLPoqGuQvgD8D3zVgNET1kf74Jv4h6q1EK3D57fBjoIVgIsusq+b6\n",
       "+uTHvgx3UkHKjWiw3UGUML6mVEQryPSecBItvhlEVFrb3yVElzx4Gs+EX/nvcIClLVcBrLv2nmrw\n",
       "wvoAfJWV2p60EiVawkK4C2ghfEHCZGamAyTWembE6bO7EQ11OYjOwqdFpSJKJia/7iRafDOIqKw2\n",
       "7Zysj+YJPUieTKfTiEyoqVcgiiAFemACKwQ/Y5m3sLbrTXGq3Z2ot9tBdDm+LVUqogHcF5dJRn3x\n",
       "zSCistoClwsnGmhT4XF6uQ12W4kGkz4jkiAgcSE26j2xb+fsI0yuSrgTpY8jEMXmqlC8ZPMoXjS3\n",
       "SNKLbwbPo5LaPGcKJlobqlEgSJZ4xTCVV7oy7b35P0gxirBC0EmbXMdNA0/xOpaBO1E6ZASiuHip\n",
       "rOCIXBU61UjSi28GE5XU5j1fMFHl363vgYr3pDZ2GNr4e63S09JxwwwdgjotxAh6j/IZhq9nJMON\n",
       "KJx2rvUvd3S8VDqi4Y6OgxnZWl90M5iopLZoTxHzKA6/TacFqYHpTPA1LWtK9pp9PlKZXhrV+yN6\n",
       "wUn0S2hlLB1RpZ6NMzvRopvBRCW1hXqLJOqQd7igNBbVzPQoRXe7w5XoHifRJaCiBSC6dQq/L9r5\n",
       "Z3sv0zbky7GTQ3UtQVefuKBX7Ki3EqXNWIQg+Ut4V1uJstrgeOdscyg7iRa3X8+J+vFTMUVqqtsN\n",
       "Jw+6Ee1wEg0aoWrQdmGlDGDVyLWoNyl21RnqyFGWY++L6+APREWxfnecTppB32Yme7yYHTviVjUD\n",
       "qAxqSvi0tvl6bm+pousDDiRViBmW44DCQSdRTxYNmyCa/yuzoKCxCW1MHhfUV3KU5diJTqJLySlj\n",
       "m5hOmkENTa2ntouYHTv8LgFKykaU1IY3cZVUoUSnwuCEZMFEoWYa0YYhkiJ7qbDQAF3dOgs2vT5p\n",
       "VNVVsGz/8TmY6NZOkkOiD0+phmjrx3Ba9JqtAjm/l0zq4bmGTQvFzaDPZjDbRUzA7kN/TxKDr0iU\n",
       "1FaHynu78o56m3SF31z7uqRT6vJeas3DOer18oqXFTzqYQuS+oIoVpmhS94jl2ZBRSasq2dgMdyI\n",
       "VYt3EFF/XEngHBIdDXvh9zAXp30THhXIha4jKKPn7Xo9bgY8Y7YAtV3EBOzRaiAi+Bs2oqS2EfiC\n",
       "W0VDPe5En8OHd+62pBxh53vMxc1hMRAcHpbLV1BvttCVCWpj1NLaoPvoHLdqfFbVgwm1F56BlUin\n",
       "gMrqZmgAXwrnkOhPYI3WAw/htIZbDYGcuoM+9W470VpupdnE51ELdvwt04BtxSJRUhuWuvx8uona\n",
       "5FF1bN+wkWtycXzJ9iqUFvxoHr6YcitUjujDczfTNMHhAVbLv9Wb0tQdEqIVeBB+BOAO8C5Op3+O\n",
       "pulAFxw/mVW7YBwlGk40wxeqqqpxDolGWw/50DfAab4N3SI5ainfdso+6kkzMBOY7SImYl+uYysF\n",
       "GgAiUVLbLmxc0vNJ+AEkY9eaaoDalrMbb14Z551WMIJyoqHv0f5vc3hg+6GOcFiaei6PNU9F7abq\n",
       "Axn2ru2RRPC9HFHaR2kOie6H9b/uJTsG8Bje23JY7UJGOCm15q3htosYxx5K47DhAPYPU7J2ojj8\n",
       "Au6G/eY82W1fuxFR70VTuMrkiO68C/OZYZacIhLVFgNdQGwOD/mINsskAu1iHqKhqO6pz1AZvBuJ\n",
       "gc1GpBMRXY+J9sK7aB4NJrQszsFRrRcOZZ+BJpw20RTwrOTmQLRXSvQFYLaLmIj9OMBDNRAMyIjW\n",
       "/qhphfnOgbMSooFLPFZZbRL19XIBhVuHDYGov52LDqLDQz6i/kRhlhJWuq862peBZXhkzmppgeiM\n",
       "z/7w2XPePd8YnwmcnZTU5iWhpZPk4CgcrVqRDbVmcdrEt//kIKfd/iY8+35CQhR9C6YFxQTsWPrP\n",
       "HIOPh2RE1VsOj1LFYWYj6nvf3DMxTKL06KlxIGFE5+GXDeFJRHR4yEdUkZnOqOEmvw1f+0t6rdMk\n",
       "5hYt0oaP7ya2C4gJ2LFc+mA3nLooI4qIJZvM639KiIbO+H5w5I94qj1psvSOeSXJpgGtc9TjW1By\n",
       "zEpUJRq50g12h4d8RKOyN6dmhuJ2RQJdbtEiiZJ5itguRFVBM6+kRNXTuYV2jJOodiIB4Vvr8Nch\n",
       "Kw3dF67M8o6pwOHs7TkvSUpUIb3L3wN2hwc4IX8Ln0wSrugqnuiSi27R4ogGJ5hKZz7lS0oUHshF\n",
       "ptsWCPVSSyvqXJF28lXSZOIlPb+OtBVBeZ9BNyFhxtNmJRohgJpxmujwAHVyO67D9YLMzaniiRZn\n",
       "e3JPD3XCwIhaQoPtfeno5QLrQvzR77PsGYVRNfXwRevwokQrCd/pGL7o8ADaCClStVuSWJf9cIla\n",
       "QjqP7Wl9f0TtHhCcKBUbXsXkbiPd+HmTKMA+MmzFPoonW42oPKLDA4Tuk5vrZUT79YBY9fn/F9GC\n",
       "7KPSJbdNTjRj9lHmx0BVHzzqwdcDjTm3eUoUzYB3grIXwO7wAJPlpihVNurHgjvRQCx4xRP1dfdL\n",
       "lMpN++jUnQVtbUUbZPgrc6KBM96fJraTLiY6PMB2UT7iLlMBmUWhP0+yYD1c8UTJwLb2AiqLRuio\n",
       "H2kSZdMeEpk85ze2+eJMn8rJoycehc2jqLoqODzkpCfRZUq21nv783aMGNqVT1Rc7NURffjHOL7x\n",
       "O8hycsIkytzsAu2g3ZGd+ClLjYxoYGTLa2hFArvDQ44oMTuaLlNeiTwa6c8j17e16sonGnbbmVlg\n",
       "6kx8u+F1M+8RhzVvLRwjTZlDEzs8EKISlynZ/kV5eI173WzOYa7XT/DHRftIzmaSI7qa6qiiwwMm\n",
       "KnOZkun1zPA31H994/azBTJXYn3xDW7FC3IxzXRpyRGd10dhCQ4PWHiVuUxJbE98ah3qRFe67AUT\n",
       "s4OKFMxpsy3GbBFtjugTO+lZcHjAu5gyl6mbJM8YLw+iUTf/qeH4sHS4JYXv2hwz73dINGqW5SDo\n",
       "6uY4SF2mJHvY5fIrRtsvbcXwXEneROIyJdln8tUMNtH9eX6vv38gv+OP3Jz3Pxb44/lv82RK8SYS\n",
       "lynJXugK+oCNje/i/1jQlGKXJQwfzn8ssIUS7tcLLlNznIo+27gS/2PB/wCGag2UJjgW/QAAAABJ\n",
       "RU5ErkJggg==\n",
       "\" style=\"display:inline;vertical-align:middle;\" /></a><br>"
      ],
      "text/plain": [
       "<IPython.core.display.HTML object>"
      ]
     },
     "metadata": {},
     "output_type": "display_data"
    }
   ],
   "source": [
    "prob_of_all_def = Forall(\n",
    "    Omega, Forall(\n",
    "        X, Forall(\n",
    "            f, Forall(\n",
    "                Q, \n",
    "                Equals(ProbOfAll(x, fx, domain=X, condition=Qx),\n",
    "                       Prob(SetOfAll(x, fx, domain=X, condition=Qx)))\n",
    "                .with_wrap_after_operator()),\n",
    "            domain=Functions(X, Omega))),\n",
    "    domain=SampleSpaces)"
   ]
  },
  {
   "cell_type": "code",
   "execution_count": 6,
   "metadata": {},
   "outputs": [
    {
     "name": "stdout",
     "output_type": "stream",
     "text": [
      "These axioms may now be imported from the theory package: proveit.statistics\n"
     ]
    }
   ],
   "source": [
    "%end axioms"
   ]
  }
 ],
 "metadata": {
  "kernelspec": {
   "display_name": "Python 3",
   "language": "python",
   "name": "python3"
  }
 },
 "nbformat": 4,
 "nbformat_minor": 0
}