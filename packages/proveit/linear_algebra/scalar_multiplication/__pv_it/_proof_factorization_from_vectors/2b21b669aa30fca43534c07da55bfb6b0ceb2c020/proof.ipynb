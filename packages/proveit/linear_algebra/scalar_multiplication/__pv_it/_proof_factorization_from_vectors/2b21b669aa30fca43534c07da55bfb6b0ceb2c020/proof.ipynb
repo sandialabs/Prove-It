{
 "cells": [
  {
   "cell_type": "markdown",
   "metadata": {},
   "source": [
    "Show the Proof\n",
    "========"
   ]
  },
  {
   "cell_type": "code",
   "execution_count": 1,
   "metadata": {},
   "outputs": [
    {
     "data": {
      "text/html": [
       "<table><tr><th>&nbsp;</th><th>step type</th><th>requirements</th><th>statement</th></tr>\n",
       "<tr><td><a name=\"proveit.linear_algebra.scalar_multiplication._proof_factorization_from_vectors.2b21b669aa30fca43534c07da55bfb6b0ceb2c020_step0\">0</a></td><td>instantiation</td><td><a href=\"#proveit.linear_algebra.scalar_multiplication._proof_factorization_from_vectors.2b21b669aa30fca43534c07da55bfb6b0ceb2c020_step1\">1</a>, <a href=\"#proveit.linear_algebra.scalar_multiplication._proof_factorization_from_vectors.2b21b669aa30fca43534c07da55bfb6b0ceb2c020_step2\">2</a>, <a href=\"#proveit.linear_algebra.scalar_multiplication._proof_factorization_from_vectors.2b21b669aa30fca43534c07da55bfb6b0ceb2c020_step3\">3</a>, <a href=\"#proveit.linear_algebra.scalar_multiplication._proof_factorization_from_vectors.2b21b669aa30fca43534c07da55bfb6b0ceb2c020_step4\">4</a>, <a href=\"#proveit.linear_algebra.scalar_multiplication._proof_factorization_from_vectors.2b21b669aa30fca43534c07da55bfb6b0ceb2c020_step5\">5</a></td><td><span style=\"font-size:20px;\"><a class=\"ProveItLink\" href=\"../5d75c93a6e38370e24f1d62ae2c3946ee8911ed20/expr.ipynb\"><img src=\"../5d75c93a6e38370e24f1d62ae2c3946ee8911ed20/expr.png\" style=\"display:inline;vertical-align:middle;\" /></a>, <a class=\"ProveItLink\" href=\"../b3c3c9da25969b465cc4f1bc3918657cd06e06800/expr.ipynb\"><img src=\"../b3c3c9da25969b465cc4f1bc3918657cd06e06800/expr.png\" style=\"display:inline;vertical-align:middle;\" /></a>, <a class=\"ProveItLink\" href=\"../304f9ff0727929f68c15b4115e730774523068430/expr.ipynb\"><img src=\"../304f9ff0727929f68c15b4115e730774523068430/expr.png\" style=\"display:inline;vertical-align:middle;\" /></a>, <a class=\"ProveItLink\" href=\"../45412d58824346d4c5ffd5ba254406de3874a0260/expr.ipynb\"><img src=\"../45412d58824346d4c5ffd5ba254406de3874a0260/expr.png\" style=\"display:inline;vertical-align:middle;\" /></a> <a class=\"ProveItLink\" href=\"proof.ipynb\" style=\"text-decoration: none\">&nbsp;&#x22A2;&nbsp;&nbsp;</a><a class=\"ProveItLink\" href=\"../0b0d6128a0741d6077e713a0b7b07aeddb88020d0/expr.ipynb\"><img src=\"../0b0d6128a0741d6077e713a0b7b07aeddb88020d0/expr.png\" style=\"display:inline;vertical-align:middle;\" /></a></span></td></tr>\n",
       "<tr><td>&nbsp;</td><td colspan=4 style=\"text-align:left\"><span style=\"font-size:20px;\"><a class=\"ProveItLink\" href=\"../d1a827d1b2f7378063e9637f792c50e42ad10d490/expr.ipynb\"><img src=\"../d1a827d1b2f7378063e9637f792c50e42ad10d490/expr.png\" style=\"display:inline;vertical-align:middle;\" /></a> : <a class=\"ProveItLink\" href=\"../d1a827d1b2f7378063e9637f792c50e42ad10d490/expr.ipynb\"><img src=\"../d1a827d1b2f7378063e9637f792c50e42ad10d490/expr.png\" style=\"display:inline;vertical-align:middle;\" /></a></span></td></tr><tr><td><a name=\"proveit.linear_algebra.scalar_multiplication._proof_factorization_from_vectors.2b21b669aa30fca43534c07da55bfb6b0ceb2c020_step1\">1</a></td><td>theorem</td><td></td><td><span style=\"font-size:20px;\"> <a class=\"ProveItLink\" href=\"../../../_theory_nbs_/proofs/distribution_over_vectors/thm_proof.ipynb\" style=\"text-decoration: none\">&nbsp;&#x22A2;&nbsp;&nbsp;</a><a class=\"ProveItLink\" href=\"../../theorems/0d134cf53b8ebfdb0e915465e9df245dc395204e0/expr.ipynb\"><img src=\"../../theorems/0d134cf53b8ebfdb0e915465e9df245dc395204e0/expr.png\" style=\"display:inline;vertical-align:middle;\" /></a></span></td></tr>\n",
       "<tr><td>&nbsp;</td><td colspan=4 style-\"text-align:left\"><a class=\"ProveItLink\" href=\"../../../_theory_nbs_/proofs/distribution_over_vectors/thm_proof.ipynb\">proveit.linear_algebra.scalar_multiplication.distribution_over_vectors</a></td></tr><tr><td><a name=\"proveit.linear_algebra.scalar_multiplication._proof_factorization_from_vectors.2b21b669aa30fca43534c07da55bfb6b0ceb2c020_step2\">2</a></td><td>assumption</td><td></td><td><span style=\"font-size:20px;\"><a class=\"ProveItLink\" href=\"../5d75c93a6e38370e24f1d62ae2c3946ee8911ed20/expr.ipynb\"><img src=\"../5d75c93a6e38370e24f1d62ae2c3946ee8911ed20/expr.png\" style=\"display:inline;vertical-align:middle;\" /></a> <a class=\"ProveItLink\" href=\"../551f952361793732bb3d723d5ba6d9897b40108e0/proof.ipynb\" style=\"text-decoration: none\">&nbsp;&#x22A2;&nbsp;&nbsp;</a><a class=\"ProveItLink\" href=\"../5d75c93a6e38370e24f1d62ae2c3946ee8911ed20/expr.ipynb\"><img src=\"../5d75c93a6e38370e24f1d62ae2c3946ee8911ed20/expr.png\" style=\"display:inline;vertical-align:middle;\" /></a></span></td></tr>\n",
       "<tr><td><a name=\"proveit.linear_algebra.scalar_multiplication._proof_factorization_from_vectors.2b21b669aa30fca43534c07da55bfb6b0ceb2c020_step3\">3</a></td><td>assumption</td><td></td><td><span style=\"font-size:20px;\"><a class=\"ProveItLink\" href=\"../b3c3c9da25969b465cc4f1bc3918657cd06e06800/expr.ipynb\"><img src=\"../b3c3c9da25969b465cc4f1bc3918657cd06e06800/expr.png\" style=\"display:inline;vertical-align:middle;\" /></a> <a class=\"ProveItLink\" href=\"../e30a42e585f8622e461fe55b516b2cc89ca132670/proof.ipynb\" style=\"text-decoration: none\">&nbsp;&#x22A2;&nbsp;&nbsp;</a><a class=\"ProveItLink\" href=\"../b3c3c9da25969b465cc4f1bc3918657cd06e06800/expr.ipynb\"><img src=\"../b3c3c9da25969b465cc4f1bc3918657cd06e06800/expr.png\" style=\"display:inline;vertical-align:middle;\" /></a></span></td></tr>\n",
       "<tr><td><a name=\"proveit.linear_algebra.scalar_multiplication._proof_factorization_from_vectors.2b21b669aa30fca43534c07da55bfb6b0ceb2c020_step4\">4</a></td><td>assumption</td><td></td><td><span style=\"font-size:20px;\"><a class=\"ProveItLink\" href=\"../304f9ff0727929f68c15b4115e730774523068430/expr.ipynb\"><img src=\"../304f9ff0727929f68c15b4115e730774523068430/expr.png\" style=\"display:inline;vertical-align:middle;\" /></a> <a class=\"ProveItLink\" href=\"../984732dfb0f4317397c090b07d3d1414190061940/proof.ipynb\" style=\"text-decoration: none\">&nbsp;&#x22A2;&nbsp;&nbsp;</a><a class=\"ProveItLink\" href=\"../304f9ff0727929f68c15b4115e730774523068430/expr.ipynb\"><img src=\"../304f9ff0727929f68c15b4115e730774523068430/expr.png\" style=\"display:inline;vertical-align:middle;\" /></a></span></td></tr>\n",
       "<tr><td><a name=\"proveit.linear_algebra.scalar_multiplication._proof_factorization_from_vectors.2b21b669aa30fca43534c07da55bfb6b0ceb2c020_step5\">5</a></td><td>assumption</td><td></td><td><span style=\"font-size:20px;\"><a class=\"ProveItLink\" href=\"../45412d58824346d4c5ffd5ba254406de3874a0260/expr.ipynb\"><img src=\"../45412d58824346d4c5ffd5ba254406de3874a0260/expr.png\" style=\"display:inline;vertical-align:middle;\" /></a> <a class=\"ProveItLink\" href=\"../1b00a3b6d1455fa18b925884695d03394b61967f0/proof.ipynb\" style=\"text-decoration: none\">&nbsp;&#x22A2;&nbsp;&nbsp;</a><a class=\"ProveItLink\" href=\"../fb0247dc9f4fe16dfcb47aa42020dc5d1dfc1c040/expr.ipynb\"><img src=\"../fb0247dc9f4fe16dfcb47aa42020dc5d1dfc1c040/expr.png\" style=\"display:inline;vertical-align:middle;\" /></a></span></td></tr>\n",
       "</table>"
      ],
      "text/plain": [
       "<proveit._core_.proof._ShowProof at 0x7f2cdd2575f8>"
      ]
     },
     "execution_count": 1,
     "metadata": {},
     "output_type": "execute_result"
    }
   ],
   "source": [
    "import proveit\n",
    "# Automation is not needed when only showing a stored proof:\n",
    "proveit.defaults.automation = False # This will speed things up.\n",
    "proveit.defaults.inline_pngs = False # Makes files smaller.\n",
    "%show_proof"
   ]
  },
  {
   "cell_type": "code",
   "execution_count": null,
   "metadata": {},
   "outputs": [],
   "source": []
  }
 ],
 "metadata": {
  "kernelspec": {
   "display_name": "Python 3",
   "language": "python",
   "name": "python3"
  }
 },
 "nbformat": 4,
 "nbformat_minor": 0
}