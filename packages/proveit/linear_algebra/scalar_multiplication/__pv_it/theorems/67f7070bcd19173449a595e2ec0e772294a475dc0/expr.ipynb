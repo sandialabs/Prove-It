{
 "cells": [
  {
   "cell_type": "markdown",
   "metadata": {},
   "source": [
    "Expression of type <a class=\"ProveItLink\" href=\"../../../../../../../doc/html/api/proveit.logic.Forall.html\">Forall</a>\n",
    "=======================\n",
    "# from the theory of <a class=\"ProveItLink\" href=\"../../../_theory_nbs_/theory.ipynb\">proveit.linear_algebra.scalar_multiplication</a>"
   ]
  },
  {
   "cell_type": "code",
   "execution_count": 1,
   "metadata": {},
   "outputs": [],
   "source": [
    "import proveit\n",
    "# Automation is not needed when building an expression:\n",
    "proveit.defaults.automation = False # This will speed things up.\n",
    "proveit.defaults.inline_pngs = False # Makes files smaller.\n",
    "%load_expr # Load the stored expression as 'stored_expr'\n",
    "# import Expression classes needed to build the expression\n",
    "from proveit import ExprRange, IndexedVar, K, V, Variable, a, i, k\n",
    "from proveit.core_expr_types import a_1_to_i\n",
    "from proveit.linear_algebra import ScalarMult, VecAdd\n",
    "from proveit.logic import Equals, Forall\n",
    "from proveit.numbers import Natural, one"
   ]
  },
  {
   "cell_type": "code",
   "execution_count": 2,
   "metadata": {},
   "outputs": [
    {
     "data": {
      "text/html": [
       "<strong id=\"expr\">expr:</strong> <a class=\"ProveItLink\" href=\"expr.ipynb\"><img src=\"expr.png\" style=\"display:inline;vertical-align:middle;\" /></a><br>"
      ],
      "text/plain": [
       "<IPython.core.display.HTML object>"
      ]
     },
     "metadata": {},
     "output_type": "display_data"
    }
   ],
   "source": [
    "# build up the expression from sub-expressions\n",
    "sub_expr1 = Variable(\"_a\", latex_format = r\"{_{-}a}\")\n",
    "expr = Forall(instance_param_or_params = [i], instance_expr = Forall(instance_param_or_params = [k, a_1_to_i], instance_expr = Equals(VecAdd(ExprRange(sub_expr1, ScalarMult(k, IndexedVar(a, sub_expr1)), one, i)), ScalarMult(k, VecAdd(a_1_to_i))).with_wrapping_at(2), domains = [K, V]), domain = Natural)"
   ]
  },
  {
   "cell_type": "code",
   "execution_count": 3,
   "metadata": {},
   "outputs": [
    {
     "name": "stdout",
     "output_type": "stream",
     "text": [
      "Passed sanity check: expr matches stored_expr\n"
     ]
    }
   ],
   "source": [
    "# check that the built expression is the same as the stored expression\n",
    "assert expr == stored_expr\n",
    "assert expr._style_id == stored_expr._style_id\n",
    "print(\"Passed sanity check: expr matches stored_expr\")"
   ]
  },
  {
   "cell_type": "code",
   "execution_count": 4,
   "metadata": {},
   "outputs": [
    {
     "name": "stdout",
     "output_type": "stream",
     "text": [
      "\\forall_{i \\in \\mathbb{N}}~\\left[\\forall_{k \\in K,\\left(a_{1} \\in V\\right), \\left(a_{2} \\in V\\right), \\ldots, \\left(a_{i} \\in V\\right)}~\\left(\\begin{array}{c} \\begin{array}{l} \\left(\\left(k \\cdot a_{1}\\right) +  \\left(k \\cdot a_{2}\\right) +  \\ldots +  \\left(k \\cdot a_{i}\\right)\\right) =  \\\\ \\left(k \\cdot \\left(a_{1} +  a_{2} +  \\ldots +  a_{i}\\right)\\right) \\end{array} \\end{array}\\right)\\right]\n"
     ]
    }
   ],
   "source": [
    "# Show the LaTeX representation of the expression for convenience if you need it.\n",
    "print(stored_expr.latex())"
   ]
  },
  {
   "cell_type": "code",
   "execution_count": 5,
   "metadata": {},
   "outputs": [
    {
     "data": {
      "text/html": [
       "<table>\n",
       "<tr><th>name</th><th>description</th><th>default</th><th>current value</th><th>related methods</th></tr><tr><td>with_wrapping</td><td>If 'True', wrap the Expression after the parameters</td><td>None</td><td>None/False</td><td>('with_wrapping',)</td></tr>\n",
       "<tr><td>condition_wrapping</td><td>Wrap 'before' or 'after' the condition (or None).</td><td>None</td><td>None/False</td><td>('with_wrap_after_condition', 'with_wrap_before_condition')</td></tr>\n",
       "<tr><td>wrap_params</td><td>If 'True', wraps every two parameters AND wraps the Expression after the parameters</td><td>None</td><td>None/False</td><td>('with_params',)</td></tr>\n",
       "<tr><td>justification</td><td>justify to the 'left', 'center', or 'right' in the array cells</td><td>center</td><td>center</td><td>('with_justification',)</td></tr>\n",
       "</table>\n"
      ],
      "text/plain": [
       "style name: with_wrapping\n",
       "description: If 'True', wrap the Expression after the parameters\n",
       "default: None\n",
       "current value: None/False\n",
       "related methods: ('with_wrapping',)\n",
       "style name: condition_wrapping\n",
       "description: Wrap 'before' or 'after' the condition (or None).\n",
       "default: None\n",
       "current value: None/False\n",
       "related methods: ('with_wrap_after_condition', 'with_wrap_before_condition')\n",
       "style name: wrap_params\n",
       "description: If 'True', wraps every two parameters AND wraps the Expression after the parameters\n",
       "default: None\n",
       "current value: None/False\n",
       "related methods: ('with_params',)\n",
       "style name: justification\n",
       "description: justify to the 'left', 'center', or 'right' in the array cells\n",
       "default: center\n",
       "current value: center\n",
       "related methods: ('with_justification',)"
      ]
     },
     "metadata": {},
     "output_type": "display_data"
    }
   ],
   "source": [
    "stored_expr.style_options()"
   ]
  },
  {
   "cell_type": "code",
   "execution_count": 6,
   "metadata": {},
   "outputs": [
    {
     "data": {
      "text/html": [
       "<table><tr><th>&nbsp;</th><th>core type</th><th>sub-expressions</th><th>expression</th></tr>\n",
       "<tr><td>0</td><td>Operation</td><td>operator:&nbsp;7<br>operand:&nbsp;2<br></td><td><a class=\"ProveItLink\" href=\"expr.ipynb\"><img src=\"expr.png\" style=\"display:inline;vertical-align:middle;\" /></a></td></tr>\n",
       "<tr><td>1</td><td>ExprTuple</td><td>2</td><td><a class=\"ProveItLink\" href=\"../5ecb60fb7ad61816f6e465d76f8b29bf03d28a210/expr.ipynb\"><img src=\"../5ecb60fb7ad61816f6e465d76f8b29bf03d28a210/expr.png\" style=\"display:inline;vertical-align:middle;\" /></a></td></tr>\n",
       "<tr><td>2</td><td>Lambda</td><td>parameter:&nbsp;44<br>body:&nbsp;4<br></td><td><a class=\"ProveItLink\" href=\"../2a1952928701e9dee0a3f94cf36930d84ed47fe20/expr.ipynb\"><img src=\"../2a1952928701e9dee0a3f94cf36930d84ed47fe20/expr.png\" style=\"display:inline;vertical-align:middle;\" /></a></td></tr>\n",
       "<tr><td>3</td><td>ExprTuple</td><td>44</td><td><a class=\"ProveItLink\" href=\"../0fc33550aa9740010879fdf30c320b63ba918eff0/expr.ipynb\"><img src=\"../0fc33550aa9740010879fdf30c320b63ba918eff0/expr.png\" style=\"display:inline;vertical-align:middle;\" /></a></td></tr>\n",
       "<tr><td>4</td><td>Conditional</td><td>value:&nbsp;5<br>condition:&nbsp;6<br></td><td><a class=\"ProveItLink\" href=\"../497f94ef69ca8988e87cdee616e9ae761519ce710/expr.ipynb\"><img src=\"../497f94ef69ca8988e87cdee616e9ae761519ce710/expr.png\" style=\"display:inline;vertical-align:middle;\" /></a></td></tr>\n",
       "<tr><td>5</td><td>Operation</td><td>operator:&nbsp;7<br>operand:&nbsp;10<br></td><td><a class=\"ProveItLink\" href=\"../6a74ff5d1ef36bc0f5bbeb9e28d8c28e904bbaa90/expr.ipynb\"><img src=\"../6a74ff5d1ef36bc0f5bbeb9e28d8c28e904bbaa90/expr.png\" style=\"display:inline;vertical-align:middle;\" /></a></td></tr>\n",
       "<tr><td>6</td><td>Operation</td><td>operator:&nbsp;35<br>operands:&nbsp;9<br></td><td><a class=\"ProveItLink\" href=\"../10cfe086dee5530e9b3b60486d89c6cb824c41920/expr.ipynb\"><img src=\"../10cfe086dee5530e9b3b60486d89c6cb824c41920/expr.png\" style=\"display:inline;vertical-align:middle;\" /></a></td></tr>\n",
       "<tr><td>7</td><td>Literal</td><td></td><td><a class=\"ProveItLink\" href=\"../../../../../logic/booleans/quantification/universality/__pv_it/common/083d2baa0b8ecab1d230f9ec29a15aa1355809fb0/expr.ipynb\"><img src=\"../../../../../logic/booleans/quantification/universality/__pv_it/common/083d2baa0b8ecab1d230f9ec29a15aa1355809fb0/expr.png\" style=\"display:inline;vertical-align:middle;\" /></a></td></tr>\n",
       "<tr><td>8</td><td>ExprTuple</td><td>10</td><td><a class=\"ProveItLink\" href=\"../a5fa5dc837e2360d613c1cdeaceb2a82d19aa0970/expr.ipynb\"><img src=\"../a5fa5dc837e2360d613c1cdeaceb2a82d19aa0970/expr.png\" style=\"display:inline;vertical-align:middle;\" /></a></td></tr>\n",
       "<tr><td>9</td><td>ExprTuple</td><td>44, 11</td><td><a class=\"ProveItLink\" href=\"../1e0eb14b674d1cdf4a94a1df57c3bb998311774a0/expr.ipynb\"><img src=\"../1e0eb14b674d1cdf4a94a1df57c3bb998311774a0/expr.png\" style=\"display:inline;vertical-align:middle;\" /></a></td></tr>\n",
       "<tr><td>10</td><td>Lambda</td><td>parameters:&nbsp;12<br>body:&nbsp;13<br></td><td><a class=\"ProveItLink\" href=\"../62fcd48f8daab1e439c2ae14150f849b60b519360/expr.ipynb\"><img src=\"../62fcd48f8daab1e439c2ae14150f849b60b519360/expr.png\" style=\"display:inline;vertical-align:middle;\" /></a></td></tr>\n",
       "<tr><td>11</td><td>Literal</td><td></td><td><a class=\"ProveItLink\" href=\"../../../../../numbers/number_sets/natural_numbers/__pv_it/common/8b7c321957f52ed3b05b36af612eeae4fa4783bc0/expr.ipynb\"><img src=\"../../../../../numbers/number_sets/natural_numbers/__pv_it/common/8b7c321957f52ed3b05b36af612eeae4fa4783bc0/expr.png\" style=\"display:inline;vertical-align:middle;\" /></a></td></tr>\n",
       "<tr><td>12</td><td>ExprTuple</td><td>45, 38</td><td><a class=\"ProveItLink\" href=\"../4067d74f1c0a7aee15f48d432c1caaa547a1f5e10/expr.ipynb\"><img src=\"../4067d74f1c0a7aee15f48d432c1caaa547a1f5e10/expr.png\" style=\"display:inline;vertical-align:middle;\" /></a></td></tr>\n",
       "<tr><td>13</td><td>Conditional</td><td>value:&nbsp;14<br>condition:&nbsp;15<br></td><td><a class=\"ProveItLink\" href=\"../cd5e378dcdb215445b41c97d42393e3017ba73050/expr.ipynb\"><img src=\"../cd5e378dcdb215445b41c97d42393e3017ba73050/expr.png\" style=\"display:inline;vertical-align:middle;\" /></a></td></tr>\n",
       "<tr><td>14</td><td>Operation</td><td>operator:&nbsp;16<br>operands:&nbsp;17<br></td><td><a class=\"ProveItLink\" href=\"../3816a2d46b4692565d5e26c5d06661a5f5567bad0/expr.ipynb\"><img src=\"../3816a2d46b4692565d5e26c5d06661a5f5567bad0/expr.png\" style=\"display:inline;vertical-align:middle;\" /></a></td></tr>\n",
       "<tr><td>15</td><td>Operation</td><td>operator:&nbsp;18<br>operands:&nbsp;19<br></td><td><a class=\"ProveItLink\" href=\"../8b096bec104c3d172852f5a699b43da235f452000/expr.ipynb\"><img src=\"../8b096bec104c3d172852f5a699b43da235f452000/expr.png\" style=\"display:inline;vertical-align:middle;\" /></a></td></tr>\n",
       "<tr><td>16</td><td>Literal</td><td></td><td><a class=\"ProveItLink\" href=\"../../../../../logic/equality/__pv_it/common/fb96dc12b2aa8801dda64d0132b396c63d1502bb0/expr.ipynb\"><img src=\"../../../../../logic/equality/__pv_it/common/fb96dc12b2aa8801dda64d0132b396c63d1502bb0/expr.png\" style=\"display:inline;vertical-align:middle;\" /></a></td></tr>\n",
       "<tr><td>17</td><td>ExprTuple</td><td>20, 21</td><td><a class=\"ProveItLink\" href=\"../4468a839beca6230034e91899c2212a6799c4e430/expr.ipynb\"><img src=\"../4468a839beca6230034e91899c2212a6799c4e430/expr.png\" style=\"display:inline;vertical-align:middle;\" /></a></td></tr>\n",
       "<tr><td>18</td><td>Literal</td><td></td><td><a class=\"ProveItLink\" href=\"../../../../../logic/booleans/conjunction/__pv_it/common/42118ff318bd65d98b1393f64ce7c2269feef76e0/expr.ipynb\"><img src=\"../../../../../logic/booleans/conjunction/__pv_it/common/42118ff318bd65d98b1393f64ce7c2269feef76e0/expr.png\" style=\"display:inline;vertical-align:middle;\" /></a></td></tr>\n",
       "<tr><td>19</td><td>ExprTuple</td><td>22, 23</td><td><a class=\"ProveItLink\" href=\"../91517d96923fd209415eb66c33bae0d0237f1c270/expr.ipynb\"><img src=\"../91517d96923fd209415eb66c33bae0d0237f1c270/expr.png\" style=\"display:inline;vertical-align:middle;\" /></a></td></tr>\n",
       "<tr><td>20</td><td>Operation</td><td>operator:&nbsp;33<br>operands:&nbsp;24<br></td><td><a class=\"ProveItLink\" href=\"../808f4e3009ea588ea1db43a429f231b4ee0cf0300/expr.ipynb\"><img src=\"../808f4e3009ea588ea1db43a429f231b4ee0cf0300/expr.png\" style=\"display:inline;vertical-align:middle;\" /></a></td></tr>\n",
       "<tr><td>21</td><td>Operation</td><td>operator:&nbsp;40<br>operands:&nbsp;25<br></td><td><a class=\"ProveItLink\" href=\"../aaa3b5486ccad5fb22f52583f989ac5b4ef4a1ea0/expr.ipynb\"><img src=\"../aaa3b5486ccad5fb22f52583f989ac5b4ef4a1ea0/expr.png\" style=\"display:inline;vertical-align:middle;\" /></a></td></tr>\n",
       "<tr><td>22</td><td>Operation</td><td>operator:&nbsp;35<br>operands:&nbsp;26<br></td><td><a class=\"ProveItLink\" href=\"../f09eacafef275f9c42e1c1b386ebfc7f707dd1cc0/expr.ipynb\"><img src=\"../f09eacafef275f9c42e1c1b386ebfc7f707dd1cc0/expr.png\" style=\"display:inline;vertical-align:middle;\" /></a></td></tr>\n",
       "<tr><td>23</td><td>ExprRange</td><td>lambda_map:&nbsp;27<br>start_index:&nbsp;43<br>end_index:&nbsp;44<br></td><td><a class=\"ProveItLink\" href=\"../f55642caab6dcf33dcd519e4e8743c129250c00f0/expr.ipynb\"><img src=\"../f55642caab6dcf33dcd519e4e8743c129250c00f0/expr.png\" style=\"display:inline;vertical-align:middle;\" /></a></td></tr>\n",
       "<tr><td>24</td><td>ExprTuple</td><td>28</td><td><a class=\"ProveItLink\" href=\"../620470a4cc3d26036e0a3b48e4b12c95e68a953d0/expr.ipynb\"><img src=\"../620470a4cc3d26036e0a3b48e4b12c95e68a953d0/expr.png\" style=\"display:inline;vertical-align:middle;\" /></a></td></tr>\n",
       "<tr><td>25</td><td>ExprTuple</td><td>45, 29</td><td><a class=\"ProveItLink\" href=\"../15a312a5901e0f4500a844b1bce50bcb69928a5f0/expr.ipynb\"><img src=\"../15a312a5901e0f4500a844b1bce50bcb69928a5f0/expr.png\" style=\"display:inline;vertical-align:middle;\" /></a></td></tr>\n",
       "<tr><td>26</td><td>ExprTuple</td><td>45, 30</td><td><a class=\"ProveItLink\" href=\"../5a29e66745fd2339cdb45cdff02228e98423aed80/expr.ipynb\"><img src=\"../5a29e66745fd2339cdb45cdff02228e98423aed80/expr.png\" style=\"display:inline;vertical-align:middle;\" /></a></td></tr>\n",
       "<tr><td>27</td><td>Lambda</td><td>parameter:&nbsp;49<br>body:&nbsp;31<br></td><td><a class=\"ProveItLink\" href=\"../fff488f39ce83a56d12c1d6afc671d737442f6790/expr.ipynb\"><img src=\"../fff488f39ce83a56d12c1d6afc671d737442f6790/expr.png\" style=\"display:inline;vertical-align:middle;\" /></a></td></tr>\n",
       "<tr><td>28</td><td>ExprRange</td><td>lambda_map:&nbsp;32<br>start_index:&nbsp;43<br>end_index:&nbsp;44<br></td><td><a class=\"ProveItLink\" href=\"../4f2596c9e8c2f7b0e568cfea74a14856f48e4da40/expr.ipynb\"><img src=\"../4f2596c9e8c2f7b0e568cfea74a14856f48e4da40/expr.png\" style=\"display:inline;vertical-align:middle;\" /></a></td></tr>\n",
       "<tr><td>29</td><td>Operation</td><td>operator:&nbsp;33<br>operands:&nbsp;34<br></td><td><a class=\"ProveItLink\" href=\"../ba69443323a6c4b2eac332e60cdbfd83e20824660/expr.ipynb\"><img src=\"../ba69443323a6c4b2eac332e60cdbfd83e20824660/expr.png\" style=\"display:inline;vertical-align:middle;\" /></a></td></tr>\n",
       "<tr><td>30</td><td>Variable</td><td></td><td><a class=\"ProveItLink\" href=\"../../../../../__pv_it/common/1f2ffac7a1dc7c1a4f1fc7348356ae64ea992c790/expr.ipynb\"><img src=\"../../../../../__pv_it/common/1f2ffac7a1dc7c1a4f1fc7348356ae64ea992c790/expr.png\" style=\"display:inline;vertical-align:middle;\" /></a></td></tr>\n",
       "<tr><td>31</td><td>Operation</td><td>operator:&nbsp;35<br>operands:&nbsp;36<br></td><td><a class=\"ProveItLink\" href=\"../5541fd9ecf06361743e9f5cdadaef856edd705660/expr.ipynb\"><img src=\"../5541fd9ecf06361743e9f5cdadaef856edd705660/expr.png\" style=\"display:inline;vertical-align:middle;\" /></a></td></tr>\n",
       "<tr><td>32</td><td>Lambda</td><td>parameter:&nbsp;49<br>body:&nbsp;37<br></td><td><a class=\"ProveItLink\" href=\"../1a1283ca73cc7ec644f76556c5fb608b4c0e499b0/expr.ipynb\"><img src=\"../1a1283ca73cc7ec644f76556c5fb608b4c0e499b0/expr.png\" style=\"display:inline;vertical-align:middle;\" /></a></td></tr>\n",
       "<tr><td>33</td><td>Literal</td><td></td><td><a class=\"ProveItLink\" href=\"../../../../addition/__pv_it/common/ac3c140c9094f065c7f7db15c94558731443639c0/expr.ipynb\"><img src=\"../../../../addition/__pv_it/common/ac3c140c9094f065c7f7db15c94558731443639c0/expr.png\" style=\"display:inline;vertical-align:middle;\" /></a></td></tr>\n",
       "<tr><td>34</td><td>ExprTuple</td><td>38</td><td><a class=\"ProveItLink\" href=\"../2c196e25eb75441998cc38de7042eaf6940c703f0/expr.ipynb\"><img src=\"../2c196e25eb75441998cc38de7042eaf6940c703f0/expr.png\" style=\"display:inline;vertical-align:middle;\" /></a></td></tr>\n",
       "<tr><td>35</td><td>Literal</td><td></td><td><a class=\"ProveItLink\" href=\"../../../../../logic/sets/membership/__pv_it/common/477487d8796864d23d5810f83761435f25167f690/expr.ipynb\"><img src=\"../../../../../logic/sets/membership/__pv_it/common/477487d8796864d23d5810f83761435f25167f690/expr.png\" style=\"display:inline;vertical-align:middle;\" /></a></td></tr>\n",
       "<tr><td>36</td><td>ExprTuple</td><td>46, 39</td><td><a class=\"ProveItLink\" href=\"../a6cc5380b76f99d33dd4bee69928b90878088cce0/expr.ipynb\"><img src=\"../a6cc5380b76f99d33dd4bee69928b90878088cce0/expr.png\" style=\"display:inline;vertical-align:middle;\" /></a></td></tr>\n",
       "<tr><td>37</td><td>Operation</td><td>operator:&nbsp;40<br>operands:&nbsp;41<br></td><td><a class=\"ProveItLink\" href=\"../8997e8464660b29f693a1da4186559cc4d831b2d0/expr.ipynb\"><img src=\"../8997e8464660b29f693a1da4186559cc4d831b2d0/expr.png\" style=\"display:inline;vertical-align:middle;\" /></a></td></tr>\n",
       "<tr><td>38</td><td>ExprRange</td><td>lambda_map:&nbsp;42<br>start_index:&nbsp;43<br>end_index:&nbsp;44<br></td><td><a class=\"ProveItLink\" href=\"../../../../../core_expr_types/__pv_it/common/7230c683fcd56948c826ac1be71b01b6fb2913950/expr.ipynb\"><img src=\"../../../../../core_expr_types/__pv_it/common/7230c683fcd56948c826ac1be71b01b6fb2913950/expr.png\" style=\"display:inline;vertical-align:middle;\" /></a></td></tr>\n",
       "<tr><td>39</td><td>Variable</td><td></td><td><a class=\"ProveItLink\" href=\"../../../../../__pv_it/common/6d80eb1398b2335bf9ec427954b851b7094dced50/expr.ipynb\"><img src=\"../../../../../__pv_it/common/6d80eb1398b2335bf9ec427954b851b7094dced50/expr.png\" style=\"display:inline;vertical-align:middle;\" /></a></td></tr>\n",
       "<tr><td>40</td><td>Literal</td><td></td><td><a class=\"ProveItLink\" href=\"../../common/1e364bd471e6a29fcd358dd2d9cd990a1e6fedd40/expr.ipynb\"><img src=\"../../common/1e364bd471e6a29fcd358dd2d9cd990a1e6fedd40/expr.png\" style=\"display:inline;vertical-align:middle;\" /></a></td></tr>\n",
       "<tr><td>41</td><td>ExprTuple</td><td>45, 46</td><td><a class=\"ProveItLink\" href=\"../80091943f79a8ea92213a3bcf60768b06ca6ef260/expr.ipynb\"><img src=\"../80091943f79a8ea92213a3bcf60768b06ca6ef260/expr.png\" style=\"display:inline;vertical-align:middle;\" /></a></td></tr>\n",
       "<tr><td>42</td><td>Lambda</td><td>parameter:&nbsp;49<br>body:&nbsp;46<br></td><td><a class=\"ProveItLink\" href=\"../../../../../core_expr_types/__pv_it/common/1527ad383e12f9c6ed6b371c9a7dd1892d80da1b0/expr.ipynb\"><img src=\"../../../../../core_expr_types/__pv_it/common/1527ad383e12f9c6ed6b371c9a7dd1892d80da1b0/expr.png\" style=\"display:inline;vertical-align:middle;\" /></a></td></tr>\n",
       "<tr><td>43</td><td>Literal</td><td></td><td><a class=\"ProveItLink\" href=\"../../../../../numbers/numerals/__pv_it/common/682157d4892d216d9e5626ed533aff9b56b9506e0/expr.ipynb\"><img src=\"../../../../../numbers/numerals/__pv_it/common/682157d4892d216d9e5626ed533aff9b56b9506e0/expr.png\" style=\"display:inline;vertical-align:middle;\" /></a></td></tr>\n",
       "<tr><td>44</td><td>Variable</td><td></td><td><a class=\"ProveItLink\" href=\"../../../../../__pv_it/common/ae955345c83abf786c3aff8681cd5465beae262d0/expr.ipynb\"><img src=\"../../../../../__pv_it/common/ae955345c83abf786c3aff8681cd5465beae262d0/expr.png\" style=\"display:inline;vertical-align:middle;\" /></a></td></tr>\n",
       "<tr><td>45</td><td>Variable</td><td></td><td><a class=\"ProveItLink\" href=\"../../../../../__pv_it/common/63b7c64bf9ec7a04ecc396c7a1670f3f12fb59490/expr.ipynb\"><img src=\"../../../../../__pv_it/common/63b7c64bf9ec7a04ecc396c7a1670f3f12fb59490/expr.png\" style=\"display:inline;vertical-align:middle;\" /></a></td></tr>\n",
       "<tr><td>46</td><td>IndexedVar</td><td>variable:&nbsp;47<br>index:&nbsp;49<br></td><td><a class=\"ProveItLink\" href=\"../../../../../core_expr_types/__pv_it/common/3a62c13e156d62d52fe585fa37cc2172fcf685260/expr.ipynb\"><img src=\"../../../../../core_expr_types/__pv_it/common/3a62c13e156d62d52fe585fa37cc2172fcf685260/expr.png\" style=\"display:inline;vertical-align:middle;\" /></a></td></tr>\n",
       "<tr><td>47</td><td>Variable</td><td></td><td><a class=\"ProveItLink\" href=\"../../../../../__pv_it/common/c06c606ec12678c58933ac85412ecadc2ae28be60/expr.ipynb\"><img src=\"../../../../../__pv_it/common/c06c606ec12678c58933ac85412ecadc2ae28be60/expr.png\" style=\"display:inline;vertical-align:middle;\" /></a></td></tr>\n",
       "<tr><td>48</td><td>ExprTuple</td><td>49</td><td><a class=\"ProveItLink\" href=\"../../../../../core_expr_types/__pv_it/common/4b0dd6be36d76552eda6a95d5b4a27f5a5b62f900/expr.ipynb\"><img src=\"../../../../../core_expr_types/__pv_it/common/4b0dd6be36d76552eda6a95d5b4a27f5a5b62f900/expr.png\" style=\"display:inline;vertical-align:middle;\" /></a></td></tr>\n",
       "<tr><td>49</td><td>Variable</td><td></td><td><a class=\"ProveItLink\" href=\"../../../../../core_expr_types/__pv_it/common/006c465e50948aa2b52285e2de47974f741255cc0/expr.ipynb\"><img src=\"../../../../../core_expr_types/__pv_it/common/006c465e50948aa2b52285e2de47974f741255cc0/expr.png\" style=\"display:inline;vertical-align:middle;\" /></a></td></tr>\n",
       "</table>\n"
      ],
      "text/plain": [
       "0. forall_{i in Natural} [forall_{k in K,(a_{1} in V), (a_{2} in V), ..., (a_{i} in V)} (((k * a_{1}) +  (k * a_{2}) +  ... +  (k * a_{i})) =  \\\\ (k * (a_{1} +  a_{2} +  ... +  a_{i})))]\n",
       "   core type: Operation\n",
       "   operator: 7\n",
       "   operand: 2\n",
       "1. (i -> {forall_{k in K,(a_{1} in V), (a_{2} in V), ..., (a_{i} in V)} (((k * a_{1}) +  (k * a_{2}) +  ... +  (k * a_{i})) =  \\\\ (k * (a_{1} +  a_{2} +  ... +  a_{i}))) if i in Natural.)\n",
       "   core type: ExprTuple\n",
       "   sub-expressions: 2\n",
       "2. i -> {forall_{k in K,(a_{1} in V), (a_{2} in V), ..., (a_{i} in V)} (((k * a_{1}) +  (k * a_{2}) +  ... +  (k * a_{i})) =  \\\\ (k * (a_{1} +  a_{2} +  ... +  a_{i}))) if i in Natural.\n",
       "   core type: Lambda\n",
       "   parameter: 44\n",
       "   body: 4\n",
       "3. (i)\n",
       "   core type: ExprTuple\n",
       "   sub-expressions: 44\n",
       "4. {forall_{k in K,(a_{1} in V), (a_{2} in V), ..., (a_{i} in V)} (((k * a_{1}) +  (k * a_{2}) +  ... +  (k * a_{i})) =  \\\\ (k * (a_{1} +  a_{2} +  ... +  a_{i}))) if i in Natural.\n",
       "   core type: Conditional\n",
       "   value: 5\n",
       "   condition: 6\n",
       "5. forall_{k in K,(a_{1} in V), (a_{2} in V), ..., (a_{i} in V)} (((k * a_{1}) +  (k * a_{2}) +  ... +  (k * a_{i})) =  \\\\ (k * (a_{1} +  a_{2} +  ... +  a_{i})))\n",
       "   core type: Operation\n",
       "   operator: 7\n",
       "   operand: 10\n",
       "6. i in Natural\n",
       "   core type: Operation\n",
       "   operator: 35\n",
       "   operands: 9\n",
       "7. forall\n",
       "   core type: Literal\n",
       "   sub-expressions: \n",
       "8. ((k, a_{1}, a_{2}, ..., a_{i}) -> {((k * a_{1}) +  (k * a_{2}) +  ... +  (k * a_{i})) =  \\\\ (k * (a_{1} +  a_{2} +  ... +  a_{i})) if k in K, (a_{1} in V) ,  (a_{2} in V) ,  ... ,  (a_{i} in V).)\n",
       "   core type: ExprTuple\n",
       "   sub-expressions: 10\n",
       "9. (i, Natural)\n",
       "   core type: ExprTuple\n",
       "   sub-expressions: 44, 11\n",
       "10. (k, a_{1}, a_{2}, ..., a_{i}) -> {((k * a_{1}) +  (k * a_{2}) +  ... +  (k * a_{i})) =  \\\\ (k * (a_{1} +  a_{2} +  ... +  a_{i})) if k in K, (a_{1} in V) ,  (a_{2} in V) ,  ... ,  (a_{i} in V).\n",
       "    core type: Lambda\n",
       "    parameters: 12\\n    body: 13\n",
       "11. Natural\n",
       "    core type: Literal\n",
       "    sub-expressions: \n",
       "12. (k,a_{1}, a_{2}, ..., a_{i})\n",
       "    core type: ExprTuple\n",
       "    sub-expressions: 45, 38\n",
       "13. {((k * a_{1}) +  (k * a_{2}) +  ... +  (k * a_{i})) =  \\\\ (k * (a_{1} +  a_{2} +  ... +  a_{i})) if k in K, (a_{1} in V) ,  (a_{2} in V) ,  ... ,  (a_{i} in V).\n",
       "    core type: Conditional\n",
       "    value: 14\n",
       "    condition: 15\n",
       "14. ((k * a_{1}) +  (k * a_{2}) +  ... +  (k * a_{i})) =  \\\\ (k * (a_{1} +  a_{2} +  ... +  a_{i}))\n",
       "    core type: Operation\n",
       "    operator: 16\n",
       "    operands: 17\n",
       "15. (k in K)and (a_{1} in V) and  (a_{2} in V) and  ... and  (a_{i} in V)\n",
       "    core type: Operation\n",
       "    operator: 18\n",
       "    operands: 19\n",
       "16. =\n",
       "    core type: Literal\n",
       "    sub-expressions: \n",
       "17. ((k * a_{1}) +  (k * a_{2}) +  ... +  (k * a_{i}), k * (a_{1} +  a_{2} +  ... +  a_{i}))\n",
       "    core type: ExprTuple\n",
       "    sub-expressions: 20, 21\n",
       "18. and\n",
       "    core type: Literal\n",
       "    sub-expressions: \n",
       "19. (k in K,(a_{1} in V), (a_{2} in V), ..., (a_{i} in V))\n",
       "    core type: ExprTuple\n",
       "    sub-expressions: 22, 23\n",
       "20. (k * a_{1}) +  (k * a_{2}) +  ... +  (k * a_{i})\n",
       "    core type: Operation\n",
       "    operator: 33\n",
       "    operands: 24\n",
       "21. k * (a_{1} +  a_{2} +  ... +  a_{i})\n",
       "    core type: Operation\n",
       "    operator: 40\n",
       "    operands: 25\n",
       "22. k in K\n",
       "    core type: Operation\n",
       "    operator: 35\n",
       "    operands: 26\n",
       "23. (a_{1} in V), (a_{2} in V), ..., (a_{i} in V)\n",
       "    core type: ExprRange\n",
       "    lambda_map: 27\n",
       "    start_index: 43\n",
       "    end_index: 44\n",
       "24. ((k * a_{1}), (k * a_{2}), ..., (k * a_{i}))\n",
       "    core type: ExprTuple\n",
       "    sub-expressions: 28\n",
       "25. (k, a_{1} +  a_{2} +  ... +  a_{i})\n",
       "    core type: ExprTuple\n",
       "    sub-expressions: 45, 29\n",
       "26. (k, K)\n",
       "    core type: ExprTuple\n",
       "    sub-expressions: 45, 30\n",
       "27. _a -> (a_{_a} in V)\n",
       "    core type: Lambda\n",
       "    parameter: 49\n",
       "    body: 31\n",
       "28. (k * a_{1}), (k * a_{2}), ..., (k * a_{i})\n",
       "    core type: ExprRange\n",
       "    lambda_map: 32\n",
       "    start_index: 43\n",
       "    end_index: 44\n",
       "29. a_{1} +  a_{2} +  ... +  a_{i}\n",
       "    core type: Operation\n",
       "    operator: 33\n",
       "    operands: 34\n",
       "30. K\n",
       "    core type: Variable\n",
       "    sub-expressions: \n",
       "31. a_{_a} in V\n",
       "    core type: Operation\n",
       "    operator: 35\n",
       "    operands: 36\n",
       "32. _a -> (k * a_{_a})\n",
       "    core type: Lambda\n",
       "    parameter: 49\n",
       "    body: 37\n",
       "33. +\n",
       "    core type: Literal\n",
       "    sub-expressions: \n",
       "34. (a_{1}, a_{2}, ..., a_{i})\n",
       "    core type: ExprTuple\n",
       "    sub-expressions: 38\n",
       "35. in\n",
       "    core type: Literal\n",
       "    sub-expressions: \n",
       "36. (a_{_a}, V)\n",
       "    core type: ExprTuple\n",
       "    sub-expressions: 46, 39\n",
       "37. k * a_{_a}\n",
       "    core type: Operation\n",
       "    operator: 40\n",
       "    operands: 41\n",
       "38. a_{1}, a_{2}, ..., a_{i}\n",
       "    core type: ExprRange\n",
       "    lambda_map: 42\n",
       "    start_index: 43\n",
       "    end_index: 44\n",
       "39. V\n",
       "    core type: Variable\n",
       "    sub-expressions: \n",
       "40. *\n",
       "    core type: Literal\n",
       "    sub-expressions: \n",
       "41. (k, a_{_a})\n",
       "    core type: ExprTuple\n",
       "    sub-expressions: 45, 46\n",
       "42. _a -> a_{_a}\n",
       "    core type: Lambda\n",
       "    parameter: 49\n",
       "    body: 46\n",
       "43. 1\n",
       "    core type: Literal\n",
       "    sub-expressions: \n",
       "44. i\n",
       "    core type: Variable\n",
       "    sub-expressions: \n",
       "45. k\n",
       "    core type: Variable\n",
       "    sub-expressions: \n",
       "46. a_{_a}\n",
       "    core type: IndexedVar\n",
       "variable: 47\n",
       "index: 49\n",
       "47. a\n",
       "    core type: Variable\n",
       "    sub-expressions: \n",
       "48. (_a)\n",
       "    core type: ExprTuple\n",
       "    sub-expressions: 49\n",
       "49. _a\n",
       "    core type: Variable\n",
       "    sub-expressions: "
      ]
     },
     "metadata": {},
     "output_type": "display_data"
    }
   ],
   "source": [
    "# display the expression information\n",
    "stored_expr.expr_info()"
   ]
  },
  {
   "cell_type": "code",
   "execution_count": null,
   "metadata": {},
   "outputs": [],
   "source": []
  }
 ],
 "metadata": {
  "kernelspec": {
   "display_name": "Python 3",
   "language": "python",
   "name": "python3"
  }
 },
 "nbformat": 4,
 "nbformat_minor": 0
}