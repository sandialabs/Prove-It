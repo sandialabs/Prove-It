{
 "cells": [
  {
   "cell_type": "markdown",
   "metadata": {},
   "source": [
    "Expression of type <a class=\"ProveItLink\" href=\"../../../../../../../doc/html/api/proveit.Conditional.html\">Conditional</a>\n",
    "=======================\n",
    "# from the theory of <a class=\"ProveItLink\" href=\"../../../_theory_nbs_/theory.ipynb\">proveit.linear_algebra.scalar_multiplication</a>"
   ]
  },
  {
   "cell_type": "code",
   "execution_count": 1,
   "metadata": {},
   "outputs": [],
   "source": [
    "import proveit\n",
    "# Automation is not needed when building an expression:\n",
    "proveit.defaults.automation = False # This will speed things up.\n",
    "proveit.defaults.inline_pngs = False # Makes files smaller.\n",
    "%load_expr # Load the stored expression as 'stored_expr'\n",
    "# import Expression classes needed to build the expression\n",
    "from proveit import Conditional, ExprRange, IndexedVar, V, Variable, a, i, v\n",
    "from proveit.core_expr_types import a_1_to_i\n",
    "from proveit.linear_algebra import ScalarMult, VecAdd\n",
    "from proveit.logic import Equals, Forall, InSet\n",
    "from proveit.numbers import Complex, Natural, one"
   ]
  },
  {
   "cell_type": "code",
   "execution_count": 2,
   "metadata": {},
   "outputs": [
    {
     "data": {
      "text/html": [
       "<strong id=\"expr\">expr:</strong> <a class=\"ProveItLink\" href=\"expr.ipynb\"><img src=\"expr.png\" style=\"display:inline;vertical-align:middle;\" /></a><br>"
      ],
      "text/plain": [
       "<IPython.core.display.HTML object>"
      ]
     },
     "metadata": {},
     "output_type": "display_data"
    }
   ],
   "source": [
    "# build up the expression from sub-expressions\n",
    "sub_expr1 = Variable(\"_a\", latex_format = r\"{_{-}a}\")\n",
    "expr = Conditional(Forall(instance_param_or_params = [a_1_to_i, v], instance_expr = Equals(VecAdd(ExprRange(sub_expr1, ScalarMult(IndexedVar(a, sub_expr1), v), one, i)), ScalarMult(VecAdd(a_1_to_i), v)).with_wrapping_at(2), domains = [Complex, V]), InSet(i, Natural))"
   ]
  },
  {
   "cell_type": "code",
   "execution_count": 3,
   "metadata": {},
   "outputs": [
    {
     "name": "stdout",
     "output_type": "stream",
     "text": [
      "Passed sanity check: expr matches stored_expr\n"
     ]
    }
   ],
   "source": [
    "# check that the built expression is the same as the stored expression\n",
    "assert expr == stored_expr\n",
    "assert expr._style_id == stored_expr._style_id\n",
    "print(\"Passed sanity check: expr matches stored_expr\")"
   ]
  },
  {
   "cell_type": "code",
   "execution_count": 4,
   "metadata": {},
   "outputs": [
    {
     "name": "stdout",
     "output_type": "stream",
     "text": [
      "\\left\\{\\forall_{\\left(a_{1} \\in \\mathbb{C}\\right), \\left(a_{2} \\in \\mathbb{C}\\right), \\ldots, \\left(a_{i} \\in \\mathbb{C}\\right), v \\in V}~\\left(\\begin{array}{c} \\begin{array}{l} \\left(\\left(a_{1} \\cdot v\\right) +  \\left(a_{2} \\cdot v\\right) +  \\ldots +  \\left(a_{i} \\cdot v\\right)\\right) =  \\\\ \\left(\\left(a_{1} +  a_{2} +  \\ldots +  a_{i}\\right) \\cdot v\\right) \\end{array} \\end{array}\\right) \\textrm{ if } i \\in \\mathbb{N}\\right..\n"
     ]
    }
   ],
   "source": [
    "# Show the LaTeX representation of the expression for convenience if you need it.\n",
    "print(stored_expr.latex())"
   ]
  },
  {
   "cell_type": "code",
   "execution_count": 5,
   "metadata": {},
   "outputs": [
    {
     "data": {
      "text/html": [
       "<table>\n",
       "<tr><th>name</th><th>description</th><th>default</th><th>current value</th><th>related methods</th></tr><tr><td>condition_delimiter</td><td>'comma' or 'and'</td><td>comma</td><td>comma</td><td>('with_comma_delimiter', 'with_conjunction_delimiter')</td></tr>\n",
       "</table>\n"
      ],
      "text/plain": [
       "style name: condition_delimiter\n",
       "description: 'comma' or 'and'\n",
       "default: comma\n",
       "current value: comma\n",
       "related methods: ('with_comma_delimiter', 'with_conjunction_delimiter')"
      ]
     },
     "metadata": {},
     "output_type": "display_data"
    }
   ],
   "source": [
    "stored_expr.style_options()"
   ]
  },
  {
   "cell_type": "code",
   "execution_count": 6,
   "metadata": {},
   "outputs": [
    {
     "data": {
      "text/html": [
       "<table><tr><th>&nbsp;</th><th>core type</th><th>sub-expressions</th><th>expression</th></tr>\n",
       "<tr><td>0</td><td>Conditional</td><td>value:&nbsp;1<br>condition:&nbsp;2<br></td><td><a class=\"ProveItLink\" href=\"expr.ipynb\"><img src=\"expr.png\" style=\"display:inline;vertical-align:middle;\" /></a></td></tr>\n",
       "<tr><td>1</td><td>Operation</td><td>operator:&nbsp;3<br>operand:&nbsp;6<br></td><td><a class=\"ProveItLink\" href=\"../b76f88c13618bdae6d65716b5ef88fb0202eee220/expr.ipynb\"><img src=\"../b76f88c13618bdae6d65716b5ef88fb0202eee220/expr.png\" style=\"display:inline;vertical-align:middle;\" /></a></td></tr>\n",
       "<tr><td>2</td><td>Operation</td><td>operator:&nbsp;31<br>operands:&nbsp;5<br></td><td><a class=\"ProveItLink\" href=\"../10cfe086dee5530e9b3b60486d89c6cb824c41920/expr.ipynb\"><img src=\"../10cfe086dee5530e9b3b60486d89c6cb824c41920/expr.png\" style=\"display:inline;vertical-align:middle;\" /></a></td></tr>\n",
       "<tr><td>3</td><td>Literal</td><td></td><td><a class=\"ProveItLink\" href=\"../../../../../logic/booleans/quantification/universality/__pv_it/common/083d2baa0b8ecab1d230f9ec29a15aa1355809fb0/expr.ipynb\"><img src=\"../../../../../logic/booleans/quantification/universality/__pv_it/common/083d2baa0b8ecab1d230f9ec29a15aa1355809fb0/expr.png\" style=\"display:inline;vertical-align:middle;\" /></a></td></tr>\n",
       "<tr><td>4</td><td>ExprTuple</td><td>6</td><td><a class=\"ProveItLink\" href=\"../f48573da9a3a9f569089271c8724c8c33518654d0/expr.ipynb\"><img src=\"../f48573da9a3a9f569089271c8724c8c33518654d0/expr.png\" style=\"display:inline;vertical-align:middle;\" /></a></td></tr>\n",
       "<tr><td>5</td><td>ExprTuple</td><td>40, 7</td><td><a class=\"ProveItLink\" href=\"../1e0eb14b674d1cdf4a94a1df57c3bb998311774a0/expr.ipynb\"><img src=\"../1e0eb14b674d1cdf4a94a1df57c3bb998311774a0/expr.png\" style=\"display:inline;vertical-align:middle;\" /></a></td></tr>\n",
       "<tr><td>6</td><td>Lambda</td><td>parameters:&nbsp;8<br>body:&nbsp;9<br></td><td><a class=\"ProveItLink\" href=\"../445a15f3cc23843520db2ac7e9ad7789280b12dd0/expr.ipynb\"><img src=\"../445a15f3cc23843520db2ac7e9ad7789280b12dd0/expr.png\" style=\"display:inline;vertical-align:middle;\" /></a></td></tr>\n",
       "<tr><td>7</td><td>Literal</td><td></td><td><a class=\"ProveItLink\" href=\"../../../../../numbers/number_sets/natural_numbers/__pv_it/common/8b7c321957f52ed3b05b36af612eeae4fa4783bc0/expr.ipynb\"><img src=\"../../../../../numbers/number_sets/natural_numbers/__pv_it/common/8b7c321957f52ed3b05b36af612eeae4fa4783bc0/expr.png\" style=\"display:inline;vertical-align:middle;\" /></a></td></tr>\n",
       "<tr><td>8</td><td>ExprTuple</td><td>34, 41</td><td><a class=\"ProveItLink\" href=\"../1a6555e6ca81c28f2125cc286e31a9f39b7efa6c0/expr.ipynb\"><img src=\"../1a6555e6ca81c28f2125cc286e31a9f39b7efa6c0/expr.png\" style=\"display:inline;vertical-align:middle;\" /></a></td></tr>\n",
       "<tr><td>9</td><td>Conditional</td><td>value:&nbsp;10<br>condition:&nbsp;11<br></td><td><a class=\"ProveItLink\" href=\"../718171770c38a159c1b2c726637d13ed7e7d32560/expr.ipynb\"><img src=\"../718171770c38a159c1b2c726637d13ed7e7d32560/expr.png\" style=\"display:inline;vertical-align:middle;\" /></a></td></tr>\n",
       "<tr><td>10</td><td>Operation</td><td>operator:&nbsp;12<br>operands:&nbsp;13<br></td><td><a class=\"ProveItLink\" href=\"../9d63a248f98fba2fd896080c24aea546909160990/expr.ipynb\"><img src=\"../9d63a248f98fba2fd896080c24aea546909160990/expr.png\" style=\"display:inline;vertical-align:middle;\" /></a></td></tr>\n",
       "<tr><td>11</td><td>Operation</td><td>operator:&nbsp;14<br>operands:&nbsp;15<br></td><td><a class=\"ProveItLink\" href=\"../44df008d53b688f9401bd65eae278af844ee0eab0/expr.ipynb\"><img src=\"../44df008d53b688f9401bd65eae278af844ee0eab0/expr.png\" style=\"display:inline;vertical-align:middle;\" /></a></td></tr>\n",
       "<tr><td>12</td><td>Literal</td><td></td><td><a class=\"ProveItLink\" href=\"../../../../../logic/equality/__pv_it/common/fb96dc12b2aa8801dda64d0132b396c63d1502bb0/expr.ipynb\"><img src=\"../../../../../logic/equality/__pv_it/common/fb96dc12b2aa8801dda64d0132b396c63d1502bb0/expr.png\" style=\"display:inline;vertical-align:middle;\" /></a></td></tr>\n",
       "<tr><td>13</td><td>ExprTuple</td><td>16, 17</td><td><a class=\"ProveItLink\" href=\"../7eaf5bdc53164e82192c4f69e20bc237eb87de7c0/expr.ipynb\"><img src=\"../7eaf5bdc53164e82192c4f69e20bc237eb87de7c0/expr.png\" style=\"display:inline;vertical-align:middle;\" /></a></td></tr>\n",
       "<tr><td>14</td><td>Literal</td><td></td><td><a class=\"ProveItLink\" href=\"../../../../../logic/booleans/conjunction/__pv_it/common/42118ff318bd65d98b1393f64ce7c2269feef76e0/expr.ipynb\"><img src=\"../../../../../logic/booleans/conjunction/__pv_it/common/42118ff318bd65d98b1393f64ce7c2269feef76e0/expr.png\" style=\"display:inline;vertical-align:middle;\" /></a></td></tr>\n",
       "<tr><td>15</td><td>ExprTuple</td><td>18, 19</td><td><a class=\"ProveItLink\" href=\"../6d1f3445f8f435b50e6d6098c5bcf52bb2cde2e00/expr.ipynb\"><img src=\"../6d1f3445f8f435b50e6d6098c5bcf52bb2cde2e00/expr.png\" style=\"display:inline;vertical-align:middle;\" /></a></td></tr>\n",
       "<tr><td>16</td><td>Operation</td><td>operator:&nbsp;29<br>operands:&nbsp;20<br></td><td><a class=\"ProveItLink\" href=\"../96294887a82eae32ab53fbed13f15ad1a1e2365a0/expr.ipynb\"><img src=\"../96294887a82eae32ab53fbed13f15ad1a1e2365a0/expr.png\" style=\"display:inline;vertical-align:middle;\" /></a></td></tr>\n",
       "<tr><td>17</td><td>Operation</td><td>operator:&nbsp;36<br>operands:&nbsp;21<br></td><td><a class=\"ProveItLink\" href=\"../d095850621085cf7b38ca3dc95dfb426c46972990/expr.ipynb\"><img src=\"../d095850621085cf7b38ca3dc95dfb426c46972990/expr.png\" style=\"display:inline;vertical-align:middle;\" /></a></td></tr>\n",
       "<tr><td>18</td><td>ExprRange</td><td>lambda_map:&nbsp;22<br>start_index:&nbsp;39<br>end_index:&nbsp;40<br></td><td><a class=\"ProveItLink\" href=\"../83e0886a839848a5168b74bc25206f516aa617dd0/expr.ipynb\"><img src=\"../83e0886a839848a5168b74bc25206f516aa617dd0/expr.png\" style=\"display:inline;vertical-align:middle;\" /></a></td></tr>\n",
       "<tr><td>19</td><td>Operation</td><td>operator:&nbsp;31<br>operands:&nbsp;23<br></td><td><a class=\"ProveItLink\" href=\"../cb54d96b24fc3f59d4e803235a6602263db471040/expr.ipynb\"><img src=\"../cb54d96b24fc3f59d4e803235a6602263db471040/expr.png\" style=\"display:inline;vertical-align:middle;\" /></a></td></tr>\n",
       "<tr><td>20</td><td>ExprTuple</td><td>24</td><td><a class=\"ProveItLink\" href=\"../7c5e0eb340089a9348e35cf44064e1fd0d326fe10/expr.ipynb\"><img src=\"../7c5e0eb340089a9348e35cf44064e1fd0d326fe10/expr.png\" style=\"display:inline;vertical-align:middle;\" /></a></td></tr>\n",
       "<tr><td>21</td><td>ExprTuple</td><td>25, 41</td><td><a class=\"ProveItLink\" href=\"../425a62e55828a6fdb3ddfe531abaaedd5a594bb10/expr.ipynb\"><img src=\"../425a62e55828a6fdb3ddfe531abaaedd5a594bb10/expr.png\" style=\"display:inline;vertical-align:middle;\" /></a></td></tr>\n",
       "<tr><td>22</td><td>Lambda</td><td>parameter:&nbsp;45<br>body:&nbsp;26<br></td><td><a class=\"ProveItLink\" href=\"../5c5d2db4e62eeb1316594489c9dc78d764404c220/expr.ipynb\"><img src=\"../5c5d2db4e62eeb1316594489c9dc78d764404c220/expr.png\" style=\"display:inline;vertical-align:middle;\" /></a></td></tr>\n",
       "<tr><td>23</td><td>ExprTuple</td><td>41, 27</td><td><a class=\"ProveItLink\" href=\"../fe91924ad72f2e130ae61bf42112798be82f3eca0/expr.ipynb\"><img src=\"../fe91924ad72f2e130ae61bf42112798be82f3eca0/expr.png\" style=\"display:inline;vertical-align:middle;\" /></a></td></tr>\n",
       "<tr><td>24</td><td>ExprRange</td><td>lambda_map:&nbsp;28<br>start_index:&nbsp;39<br>end_index:&nbsp;40<br></td><td><a class=\"ProveItLink\" href=\"../7f41ab1dcff58567c962930f48c243a9ff8bb5980/expr.ipynb\"><img src=\"../7f41ab1dcff58567c962930f48c243a9ff8bb5980/expr.png\" style=\"display:inline;vertical-align:middle;\" /></a></td></tr>\n",
       "<tr><td>25</td><td>Operation</td><td>operator:&nbsp;29<br>operands:&nbsp;30<br></td><td><a class=\"ProveItLink\" href=\"../ba69443323a6c4b2eac332e60cdbfd83e20824660/expr.ipynb\"><img src=\"../ba69443323a6c4b2eac332e60cdbfd83e20824660/expr.png\" style=\"display:inline;vertical-align:middle;\" /></a></td></tr>\n",
       "<tr><td>26</td><td>Operation</td><td>operator:&nbsp;31<br>operands:&nbsp;32<br></td><td><a class=\"ProveItLink\" href=\"../99217926884f96534bb8eb1bd6e3cfdfb7161e620/expr.ipynb\"><img src=\"../99217926884f96534bb8eb1bd6e3cfdfb7161e620/expr.png\" style=\"display:inline;vertical-align:middle;\" /></a></td></tr>\n",
       "<tr><td>27</td><td>Variable</td><td></td><td><a class=\"ProveItLink\" href=\"../../../../../__pv_it/common/6d80eb1398b2335bf9ec427954b851b7094dced50/expr.ipynb\"><img src=\"../../../../../__pv_it/common/6d80eb1398b2335bf9ec427954b851b7094dced50/expr.png\" style=\"display:inline;vertical-align:middle;\" /></a></td></tr>\n",
       "<tr><td>28</td><td>Lambda</td><td>parameter:&nbsp;45<br>body:&nbsp;33<br></td><td><a class=\"ProveItLink\" href=\"../c1182047df5d8a693de6b60d5a9faf778ab81b4a0/expr.ipynb\"><img src=\"../c1182047df5d8a693de6b60d5a9faf778ab81b4a0/expr.png\" style=\"display:inline;vertical-align:middle;\" /></a></td></tr>\n",
       "<tr><td>29</td><td>Literal</td><td></td><td><a class=\"ProveItLink\" href=\"../../../../addition/__pv_it/common/ac3c140c9094f065c7f7db15c94558731443639c0/expr.ipynb\"><img src=\"../../../../addition/__pv_it/common/ac3c140c9094f065c7f7db15c94558731443639c0/expr.png\" style=\"display:inline;vertical-align:middle;\" /></a></td></tr>\n",
       "<tr><td>30</td><td>ExprTuple</td><td>34</td><td><a class=\"ProveItLink\" href=\"../2c196e25eb75441998cc38de7042eaf6940c703f0/expr.ipynb\"><img src=\"../2c196e25eb75441998cc38de7042eaf6940c703f0/expr.png\" style=\"display:inline;vertical-align:middle;\" /></a></td></tr>\n",
       "<tr><td>31</td><td>Literal</td><td></td><td><a class=\"ProveItLink\" href=\"../../../../../logic/sets/membership/__pv_it/common/477487d8796864d23d5810f83761435f25167f690/expr.ipynb\"><img src=\"../../../../../logic/sets/membership/__pv_it/common/477487d8796864d23d5810f83761435f25167f690/expr.png\" style=\"display:inline;vertical-align:middle;\" /></a></td></tr>\n",
       "<tr><td>32</td><td>ExprTuple</td><td>42, 35</td><td><a class=\"ProveItLink\" href=\"../ce93d50dac6e6e7831954e956696a52de96f364a0/expr.ipynb\"><img src=\"../ce93d50dac6e6e7831954e956696a52de96f364a0/expr.png\" style=\"display:inline;vertical-align:middle;\" /></a></td></tr>\n",
       "<tr><td>33</td><td>Operation</td><td>operator:&nbsp;36<br>operands:&nbsp;37<br></td><td><a class=\"ProveItLink\" href=\"../3219dbf52b44a8b4f9e0e98b4e7e82ff033912160/expr.ipynb\"><img src=\"../3219dbf52b44a8b4f9e0e98b4e7e82ff033912160/expr.png\" style=\"display:inline;vertical-align:middle;\" /></a></td></tr>\n",
       "<tr><td>34</td><td>ExprRange</td><td>lambda_map:&nbsp;38<br>start_index:&nbsp;39<br>end_index:&nbsp;40<br></td><td><a class=\"ProveItLink\" href=\"../../../../../core_expr_types/__pv_it/common/7230c683fcd56948c826ac1be71b01b6fb2913950/expr.ipynb\"><img src=\"../../../../../core_expr_types/__pv_it/common/7230c683fcd56948c826ac1be71b01b6fb2913950/expr.png\" style=\"display:inline;vertical-align:middle;\" /></a></td></tr>\n",
       "<tr><td>35</td><td>Literal</td><td></td><td><a class=\"ProveItLink\" href=\"../../../../../numbers/number_sets/complex_numbers/__pv_it/common/d18a028138f659eda00de597c28a3447fe87eb100/expr.ipynb\"><img src=\"../../../../../numbers/number_sets/complex_numbers/__pv_it/common/d18a028138f659eda00de597c28a3447fe87eb100/expr.png\" style=\"display:inline;vertical-align:middle;\" /></a></td></tr>\n",
       "<tr><td>36</td><td>Literal</td><td></td><td><a class=\"ProveItLink\" href=\"../../common/1e364bd471e6a29fcd358dd2d9cd990a1e6fedd40/expr.ipynb\"><img src=\"../../common/1e364bd471e6a29fcd358dd2d9cd990a1e6fedd40/expr.png\" style=\"display:inline;vertical-align:middle;\" /></a></td></tr>\n",
       "<tr><td>37</td><td>ExprTuple</td><td>42, 41</td><td><a class=\"ProveItLink\" href=\"../eb5a442d186677c2c191dbdc84bfb9a01f0fc7c00/expr.ipynb\"><img src=\"../eb5a442d186677c2c191dbdc84bfb9a01f0fc7c00/expr.png\" style=\"display:inline;vertical-align:middle;\" /></a></td></tr>\n",
       "<tr><td>38</td><td>Lambda</td><td>parameter:&nbsp;45<br>body:&nbsp;42<br></td><td><a class=\"ProveItLink\" href=\"../../../../../core_expr_types/__pv_it/common/1527ad383e12f9c6ed6b371c9a7dd1892d80da1b0/expr.ipynb\"><img src=\"../../../../../core_expr_types/__pv_it/common/1527ad383e12f9c6ed6b371c9a7dd1892d80da1b0/expr.png\" style=\"display:inline;vertical-align:middle;\" /></a></td></tr>\n",
       "<tr><td>39</td><td>Literal</td><td></td><td><a class=\"ProveItLink\" href=\"../../../../../numbers/numerals/__pv_it/common/682157d4892d216d9e5626ed533aff9b56b9506e0/expr.ipynb\"><img src=\"../../../../../numbers/numerals/__pv_it/common/682157d4892d216d9e5626ed533aff9b56b9506e0/expr.png\" style=\"display:inline;vertical-align:middle;\" /></a></td></tr>\n",
       "<tr><td>40</td><td>Variable</td><td></td><td><a class=\"ProveItLink\" href=\"../../../../../__pv_it/common/ae955345c83abf786c3aff8681cd5465beae262d0/expr.ipynb\"><img src=\"../../../../../__pv_it/common/ae955345c83abf786c3aff8681cd5465beae262d0/expr.png\" style=\"display:inline;vertical-align:middle;\" /></a></td></tr>\n",
       "<tr><td>41</td><td>Variable</td><td></td><td><a class=\"ProveItLink\" href=\"../../../../../__pv_it/common/a4b9661da9b52dcebf59c5559fec8901f4df10750/expr.ipynb\"><img src=\"../../../../../__pv_it/common/a4b9661da9b52dcebf59c5559fec8901f4df10750/expr.png\" style=\"display:inline;vertical-align:middle;\" /></a></td></tr>\n",
       "<tr><td>42</td><td>IndexedVar</td><td>variable:&nbsp;43<br>index:&nbsp;45<br></td><td><a class=\"ProveItLink\" href=\"../../../../../core_expr_types/__pv_it/common/3a62c13e156d62d52fe585fa37cc2172fcf685260/expr.ipynb\"><img src=\"../../../../../core_expr_types/__pv_it/common/3a62c13e156d62d52fe585fa37cc2172fcf685260/expr.png\" style=\"display:inline;vertical-align:middle;\" /></a></td></tr>\n",
       "<tr><td>43</td><td>Variable</td><td></td><td><a class=\"ProveItLink\" href=\"../../../../../__pv_it/common/c06c606ec12678c58933ac85412ecadc2ae28be60/expr.ipynb\"><img src=\"../../../../../__pv_it/common/c06c606ec12678c58933ac85412ecadc2ae28be60/expr.png\" style=\"display:inline;vertical-align:middle;\" /></a></td></tr>\n",
       "<tr><td>44</td><td>ExprTuple</td><td>45</td><td><a class=\"ProveItLink\" href=\"../../../../../core_expr_types/__pv_it/common/4b0dd6be36d76552eda6a95d5b4a27f5a5b62f900/expr.ipynb\"><img src=\"../../../../../core_expr_types/__pv_it/common/4b0dd6be36d76552eda6a95d5b4a27f5a5b62f900/expr.png\" style=\"display:inline;vertical-align:middle;\" /></a></td></tr>\n",
       "<tr><td>45</td><td>Variable</td><td></td><td><a class=\"ProveItLink\" href=\"../../../../../core_expr_types/__pv_it/common/006c465e50948aa2b52285e2de47974f741255cc0/expr.ipynb\"><img src=\"../../../../../core_expr_types/__pv_it/common/006c465e50948aa2b52285e2de47974f741255cc0/expr.png\" style=\"display:inline;vertical-align:middle;\" /></a></td></tr>\n",
       "</table>\n"
      ],
      "text/plain": [
       "0. {forall_{(a_{1} in Complex), (a_{2} in Complex), ..., (a_{i} in Complex), v in V} (((a_{1} * v) +  (a_{2} * v) +  ... +  (a_{i} * v)) =  \\\\ ((a_{1} +  a_{2} +  ... +  a_{i}) * v)) if i in Natural.\n",
       "   core type: Conditional\n",
       "   value: 1\n",
       "   condition: 2\n",
       "1. forall_{(a_{1} in Complex), (a_{2} in Complex), ..., (a_{i} in Complex), v in V} (((a_{1} * v) +  (a_{2} * v) +  ... +  (a_{i} * v)) =  \\\\ ((a_{1} +  a_{2} +  ... +  a_{i}) * v))\n",
       "   core type: Operation\n",
       "   operator: 3\n",
       "   operand: 6\n",
       "2. i in Natural\n",
       "   core type: Operation\n",
       "   operator: 31\n",
       "   operands: 5\n",
       "3. forall\n",
       "   core type: Literal\n",
       "   sub-expressions: \n",
       "4. ((a_{1}, a_{2}, ..., a_{i}, v) -> {((a_{1} * v) +  (a_{2} * v) +  ... +  (a_{i} * v)) =  \\\\ ((a_{1} +  a_{2} +  ... +  a_{i}) * v) if (a_{1} in Complex) ,  (a_{2} in Complex) ,  ... ,  (a_{i} in Complex) ,  v in V.)\n",
       "   core type: ExprTuple\n",
       "   sub-expressions: 6\n",
       "5. (i, Natural)\n",
       "   core type: ExprTuple\n",
       "   sub-expressions: 40, 7\n",
       "6. (a_{1}, a_{2}, ..., a_{i}, v) -> {((a_{1} * v) +  (a_{2} * v) +  ... +  (a_{i} * v)) =  \\\\ ((a_{1} +  a_{2} +  ... +  a_{i}) * v) if (a_{1} in Complex) ,  (a_{2} in Complex) ,  ... ,  (a_{i} in Complex) ,  v in V.\n",
       "   core type: Lambda\n",
       "   parameters: 8\\n   body: 9\n",
       "7. Natural\n",
       "   core type: Literal\n",
       "   sub-expressions: \n",
       "8. (a_{1}, a_{2}, ..., a_{i}, v)\n",
       "   core type: ExprTuple\n",
       "   sub-expressions: 34, 41\n",
       "9. {((a_{1} * v) +  (a_{2} * v) +  ... +  (a_{i} * v)) =  \\\\ ((a_{1} +  a_{2} +  ... +  a_{i}) * v) if (a_{1} in Complex) ,  (a_{2} in Complex) ,  ... ,  (a_{i} in Complex) ,  v in V.\n",
       "   core type: Conditional\n",
       "   value: 10\n",
       "   condition: 11\n",
       "10. ((a_{1} * v) +  (a_{2} * v) +  ... +  (a_{i} * v)) =  \\\\ ((a_{1} +  a_{2} +  ... +  a_{i}) * v)\n",
       "    core type: Operation\n",
       "    operator: 12\n",
       "    operands: 13\n",
       "11. (a_{1} in Complex) and  (a_{2} in Complex) and  ... and  (a_{i} in Complex) and (v in V)\n",
       "    core type: Operation\n",
       "    operator: 14\n",
       "    operands: 15\n",
       "12. =\n",
       "    core type: Literal\n",
       "    sub-expressions: \n",
       "13. ((a_{1} * v) +  (a_{2} * v) +  ... +  (a_{i} * v), (a_{1} +  a_{2} +  ... +  a_{i}) * v)\n",
       "    core type: ExprTuple\n",
       "    sub-expressions: 16, 17\n",
       "14. and\n",
       "    core type: Literal\n",
       "    sub-expressions: \n",
       "15. ((a_{1} in Complex), (a_{2} in Complex), ..., (a_{i} in Complex), v in V)\n",
       "    core type: ExprTuple\n",
       "    sub-expressions: 18, 19\n",
       "16. (a_{1} * v) +  (a_{2} * v) +  ... +  (a_{i} * v)\n",
       "    core type: Operation\n",
       "    operator: 29\n",
       "    operands: 20\n",
       "17. (a_{1} +  a_{2} +  ... +  a_{i}) * v\n",
       "    core type: Operation\n",
       "    operator: 36\n",
       "    operands: 21\n",
       "18. (a_{1} in Complex), (a_{2} in Complex), ..., (a_{i} in Complex)\n",
       "    core type: ExprRange\n",
       "    lambda_map: 22\n",
       "    start_index: 39\n",
       "    end_index: 40\n",
       "19. v in V\n",
       "    core type: Operation\n",
       "    operator: 31\n",
       "    operands: 23\n",
       "20. ((a_{1} * v), (a_{2} * v), ..., (a_{i} * v))\n",
       "    core type: ExprTuple\n",
       "    sub-expressions: 24\n",
       "21. (a_{1} +  a_{2} +  ... +  a_{i}, v)\n",
       "    core type: ExprTuple\n",
       "    sub-expressions: 25, 41\n",
       "22. _a -> (a_{_a} in Complex)\n",
       "    core type: Lambda\n",
       "    parameter: 45\n",
       "    body: 26\n",
       "23. (v, V)\n",
       "    core type: ExprTuple\n",
       "    sub-expressions: 41, 27\n",
       "24. (a_{1} * v), (a_{2} * v), ..., (a_{i} * v)\n",
       "    core type: ExprRange\n",
       "    lambda_map: 28\n",
       "    start_index: 39\n",
       "    end_index: 40\n",
       "25. a_{1} +  a_{2} +  ... +  a_{i}\n",
       "    core type: Operation\n",
       "    operator: 29\n",
       "    operands: 30\n",
       "26. a_{_a} in Complex\n",
       "    core type: Operation\n",
       "    operator: 31\n",
       "    operands: 32\n",
       "27. V\n",
       "    core type: Variable\n",
       "    sub-expressions: \n",
       "28. _a -> (a_{_a} * v)\n",
       "    core type: Lambda\n",
       "    parameter: 45\n",
       "    body: 33\n",
       "29. +\n",
       "    core type: Literal\n",
       "    sub-expressions: \n",
       "30. (a_{1}, a_{2}, ..., a_{i})\n",
       "    core type: ExprTuple\n",
       "    sub-expressions: 34\n",
       "31. in\n",
       "    core type: Literal\n",
       "    sub-expressions: \n",
       "32. (a_{_a}, Complex)\n",
       "    core type: ExprTuple\n",
       "    sub-expressions: 42, 35\n",
       "33. a_{_a} * v\n",
       "    core type: Operation\n",
       "    operator: 36\n",
       "    operands: 37\n",
       "34. a_{1}, a_{2}, ..., a_{i}\n",
       "    core type: ExprRange\n",
       "    lambda_map: 38\n",
       "    start_index: 39\n",
       "    end_index: 40\n",
       "35. Complex\n",
       "    core type: Literal\n",
       "    sub-expressions: \n",
       "36. *\n",
       "    core type: Literal\n",
       "    sub-expressions: \n",
       "37. (a_{_a}, v)\n",
       "    core type: ExprTuple\n",
       "    sub-expressions: 42, 41\n",
       "38. _a -> a_{_a}\n",
       "    core type: Lambda\n",
       "    parameter: 45\n",
       "    body: 42\n",
       "39. 1\n",
       "    core type: Literal\n",
       "    sub-expressions: \n",
       "40. i\n",
       "    core type: Variable\n",
       "    sub-expressions: \n",
       "41. v\n",
       "    core type: Variable\n",
       "    sub-expressions: \n",
       "42. a_{_a}\n",
       "    core type: IndexedVar\n",
       "variable: 43\n",
       "index: 45\n",
       "43. a\n",
       "    core type: Variable\n",
       "    sub-expressions: \n",
       "44. (_a)\n",
       "    core type: ExprTuple\n",
       "    sub-expressions: 45\n",
       "45. _a\n",
       "    core type: Variable\n",
       "    sub-expressions: "
      ]
     },
     "metadata": {},
     "output_type": "display_data"
    }
   ],
   "source": [
    "# display the expression information\n",
    "stored_expr.expr_info()"
   ]
  },
  {
   "cell_type": "code",
   "execution_count": null,
   "metadata": {},
   "outputs": [],
   "source": []
  }
 ],
 "metadata": {
  "kernelspec": {
   "display_name": "Python 3",
   "language": "python",
   "name": "python3"
  }
 },
 "nbformat": 4,
 "nbformat_minor": 0
}