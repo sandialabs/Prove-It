{
 "cells": [
  {
   "cell_type": "markdown",
   "metadata": {},
   "source": [
    "Expression of type <a class=\"ProveItLink\" href=\"../../../../../../../doc/html/api/proveit.ExprTuple.html\">ExprTuple</a>\n",
    "=======================\n",
    "# from the theory of <a class=\"ProveItLink\" href=\"../../../_theory_nbs_/theory.ipynb\">proveit.linear_algebra.scalar_multiplication</a>"
   ]
  },
  {
   "cell_type": "code",
   "execution_count": 1,
   "metadata": {},
   "outputs": [],
   "source": [
    "import proveit\n",
    "# Automation is not needed when building an expression:\n",
    "proveit.defaults.automation = False # This will speed things up.\n",
    "proveit.defaults.inline_pngs = False # Makes files smaller.\n",
    "%load_expr # Load the stored expression as 'stored_expr'\n",
    "# import Expression classes needed to build the expression\n",
    "from proveit import Conditional, ExprRange, ExprTuple, IndexedVar, K, Lambda, V, Variable, a, n, v\n",
    "from proveit.core_expr_types import a_1_to_n\n",
    "from proveit.linear_algebra import ScalarMult, VecAdd\n",
    "from proveit.logic import And, Equals, Forall, InSet\n",
    "from proveit.numbers import one"
   ]
  },
  {
   "cell_type": "code",
   "execution_count": 2,
   "metadata": {},
   "outputs": [
    {
     "data": {
      "text/html": [
       "<strong id=\"expr\">expr:</strong> <a class=\"ProveItLink\" href=\"expr.ipynb\"><img src=\"expr.png\" style=\"display:inline;vertical-align:middle;\" /></a><br>"
      ],
      "text/plain": [
       "<IPython.core.display.HTML object>"
      ]
     },
     "metadata": {},
     "output_type": "display_data"
    }
   ],
   "source": [
    "# build up the expression from sub-expressions\n",
    "sub_expr1 = Variable(\"_a\", latex_format = r\"{_{-}a}\")\n",
    "sub_expr2 = IndexedVar(a, sub_expr1)\n",
    "expr = ExprTuple(Lambda([a_1_to_n], Conditional(Forall(instance_param_or_params = [v], instance_expr = Equals(ScalarMult(VecAdd(a_1_to_n), v), VecAdd(ExprRange(sub_expr1, ScalarMult(sub_expr2, v), one, n))).with_wrapping_at(2), domain = V), And(ExprRange(sub_expr1, InSet(sub_expr2, K), one, n)))))"
   ]
  },
  {
   "cell_type": "code",
   "execution_count": 3,
   "metadata": {},
   "outputs": [
    {
     "name": "stdout",
     "output_type": "stream",
     "text": [
      "Passed sanity check: expr matches stored_expr\n"
     ]
    }
   ],
   "source": [
    "# check that the built expression is the same as the stored expression\n",
    "assert expr == stored_expr\n",
    "assert expr._style_id == stored_expr._style_id\n",
    "print(\"Passed sanity check: expr matches stored_expr\")"
   ]
  },
  {
   "cell_type": "code",
   "execution_count": 4,
   "metadata": {},
   "outputs": [
    {
     "name": "stdout",
     "output_type": "stream",
     "text": [
      "\\left(\\left(a_{1}, a_{2}, \\ldots, a_{n}\\right) \\mapsto \\left\\{\\forall_{v \\in V}~\\left(\\begin{array}{c} \\begin{array}{l} \\left(\\left(a_{1} +  a_{2} +  \\ldots +  a_{n}\\right) \\cdot v\\right) =  \\\\ \\left(\\left(a_{1} \\cdot v\\right) +  \\left(a_{2} \\cdot v\\right) +  \\ldots +  \\left(a_{n} \\cdot v\\right)\\right) \\end{array} \\end{array}\\right) \\textrm{ if } \\left(a_{1} \\in K\\right) \\land  \\left(a_{2} \\in K\\right) \\land  \\ldots \\land  \\left(a_{n} \\in K\\right)\\right..\\right)\n"
     ]
    }
   ],
   "source": [
    "# Show the LaTeX representation of the expression for convenience if you need it.\n",
    "print(stored_expr.latex())"
   ]
  },
  {
   "cell_type": "code",
   "execution_count": 5,
   "metadata": {},
   "outputs": [
    {
     "data": {
      "text/html": [
       "no style options"
      ],
      "text/plain": [
       "no style options"
      ]
     },
     "metadata": {},
     "output_type": "display_data"
    }
   ],
   "source": [
    "stored_expr.style_options()"
   ]
  },
  {
   "cell_type": "code",
   "execution_count": 6,
   "metadata": {},
   "outputs": [
    {
     "data": {
      "text/html": [
       "<table><tr><th>&nbsp;</th><th>core type</th><th>sub-expressions</th><th>expression</th></tr>\n",
       "<tr><td>0</td><td>ExprTuple</td><td>1</td><td><a class=\"ProveItLink\" href=\"expr.ipynb\"><img src=\"expr.png\" style=\"display:inline;vertical-align:middle;\" /></a></td></tr>\n",
       "<tr><td>1</td><td>Lambda</td><td>parameters:&nbsp;31<br>body:&nbsp;2<br></td><td><a class=\"ProveItLink\" href=\"../87dcca687f209ccb9cff5aa09dcfff612f8207fa0/expr.ipynb\"><img src=\"../87dcca687f209ccb9cff5aa09dcfff612f8207fa0/expr.png\" style=\"display:inline;vertical-align:middle;\" /></a></td></tr>\n",
       "<tr><td>2</td><td>Conditional</td><td>value:&nbsp;3<br>condition:&nbsp;4<br></td><td><a class=\"ProveItLink\" href=\"../af5d78a5c307dcc9bbffe6945c87d808539222dd0/expr.ipynb\"><img src=\"../af5d78a5c307dcc9bbffe6945c87d808539222dd0/expr.png\" style=\"display:inline;vertical-align:middle;\" /></a></td></tr>\n",
       "<tr><td>3</td><td>Operation</td><td>operator:&nbsp;5<br>operand:&nbsp;9<br></td><td><a class=\"ProveItLink\" href=\"../fbaba41a2286304ac81b2e352ace8433485b53f20/expr.ipynb\"><img src=\"../fbaba41a2286304ac81b2e352ace8433485b53f20/expr.png\" style=\"display:inline;vertical-align:middle;\" /></a></td></tr>\n",
       "<tr><td>4</td><td>Operation</td><td>operator:&nbsp;7<br>operands:&nbsp;8<br></td><td><a class=\"ProveItLink\" href=\"../22bd887c196ef67f5eb4d0e8e678e09c1d61b1a20/expr.ipynb\"><img src=\"../22bd887c196ef67f5eb4d0e8e678e09c1d61b1a20/expr.png\" style=\"display:inline;vertical-align:middle;\" /></a></td></tr>\n",
       "<tr><td>5</td><td>Literal</td><td></td><td><a class=\"ProveItLink\" href=\"../../../../../logic/booleans/quantification/universality/__pv_it/common/083d2baa0b8ecab1d230f9ec29a15aa1355809fb0/expr.ipynb\"><img src=\"../../../../../logic/booleans/quantification/universality/__pv_it/common/083d2baa0b8ecab1d230f9ec29a15aa1355809fb0/expr.png\" style=\"display:inline;vertical-align:middle;\" /></a></td></tr>\n",
       "<tr><td>6</td><td>ExprTuple</td><td>9</td><td><a class=\"ProveItLink\" href=\"../97f30f8cbe5bb8ec3146d349e8d2e439f33536a90/expr.ipynb\"><img src=\"../97f30f8cbe5bb8ec3146d349e8d2e439f33536a90/expr.png\" style=\"display:inline;vertical-align:middle;\" /></a></td></tr>\n",
       "<tr><td>7</td><td>Literal</td><td></td><td><a class=\"ProveItLink\" href=\"../../../../../logic/booleans/conjunction/__pv_it/common/42118ff318bd65d98b1393f64ce7c2269feef76e0/expr.ipynb\"><img src=\"../../../../../logic/booleans/conjunction/__pv_it/common/42118ff318bd65d98b1393f64ce7c2269feef76e0/expr.png\" style=\"display:inline;vertical-align:middle;\" /></a></td></tr>\n",
       "<tr><td>8</td><td>ExprTuple</td><td>10</td><td><a class=\"ProveItLink\" href=\"../12343503f6378013ee8571e0d844fc51dce1d43d0/expr.ipynb\"><img src=\"../12343503f6378013ee8571e0d844fc51dce1d43d0/expr.png\" style=\"display:inline;vertical-align:middle;\" /></a></td></tr>\n",
       "<tr><td>9</td><td>Lambda</td><td>parameter:&nbsp;41<br>body:&nbsp;12<br></td><td><a class=\"ProveItLink\" href=\"../c5d191974fbfd6affb7e23cf7cc59cc5b3c6bf0d0/expr.ipynb\"><img src=\"../c5d191974fbfd6affb7e23cf7cc59cc5b3c6bf0d0/expr.png\" style=\"display:inline;vertical-align:middle;\" /></a></td></tr>\n",
       "<tr><td>10</td><td>ExprRange</td><td>lambda_map:&nbsp;13<br>start_index:&nbsp;36<br>end_index:&nbsp;37<br></td><td><a class=\"ProveItLink\" href=\"../bb2fce3812eb3d8646c25498413b7e148e6a39040/expr.ipynb\"><img src=\"../bb2fce3812eb3d8646c25498413b7e148e6a39040/expr.png\" style=\"display:inline;vertical-align:middle;\" /></a></td></tr>\n",
       "<tr><td>11</td><td>ExprTuple</td><td>41</td><td><a class=\"ProveItLink\" href=\"../e1c6cd363607da77d3d48a5bdedf3c17cc448af00/expr.ipynb\"><img src=\"../e1c6cd363607da77d3d48a5bdedf3c17cc448af00/expr.png\" style=\"display:inline;vertical-align:middle;\" /></a></td></tr>\n",
       "<tr><td>12</td><td>Conditional</td><td>value:&nbsp;14<br>condition:&nbsp;15<br></td><td><a class=\"ProveItLink\" href=\"../d0c5f769c0ad40d4c600abf45965ef87a67a42420/expr.ipynb\"><img src=\"../d0c5f769c0ad40d4c600abf45965ef87a67a42420/expr.png\" style=\"display:inline;vertical-align:middle;\" /></a></td></tr>\n",
       "<tr><td>13</td><td>Lambda</td><td>parameter:&nbsp;44<br>body:&nbsp;16<br></td><td><a class=\"ProveItLink\" href=\"../26429ccaf9929a1e9b214814fde39f45958e8d150/expr.ipynb\"><img src=\"../26429ccaf9929a1e9b214814fde39f45958e8d150/expr.png\" style=\"display:inline;vertical-align:middle;\" /></a></td></tr>\n",
       "<tr><td>14</td><td>Operation</td><td>operator:&nbsp;17<br>operands:&nbsp;18<br></td><td><a class=\"ProveItLink\" href=\"../7167c72c9af39ece8b44075daa92033ca5be76cc0/expr.ipynb\"><img src=\"../7167c72c9af39ece8b44075daa92033ca5be76cc0/expr.png\" style=\"display:inline;vertical-align:middle;\" /></a></td></tr>\n",
       "<tr><td>15</td><td>Operation</td><td>operator:&nbsp;20<br>operands:&nbsp;19<br></td><td><a class=\"ProveItLink\" href=\"../cb54d96b24fc3f59d4e803235a6602263db471040/expr.ipynb\"><img src=\"../cb54d96b24fc3f59d4e803235a6602263db471040/expr.png\" style=\"display:inline;vertical-align:middle;\" /></a></td></tr>\n",
       "<tr><td>16</td><td>Operation</td><td>operator:&nbsp;20<br>operands:&nbsp;21<br></td><td><a class=\"ProveItLink\" href=\"../9ab34d76036f29137c305aef0e931d27f02dd1180/expr.ipynb\"><img src=\"../9ab34d76036f29137c305aef0e931d27f02dd1180/expr.png\" style=\"display:inline;vertical-align:middle;\" /></a></td></tr>\n",
       "<tr><td>17</td><td>Literal</td><td></td><td><a class=\"ProveItLink\" href=\"../../../../../logic/equality/__pv_it/common/fb96dc12b2aa8801dda64d0132b396c63d1502bb0/expr.ipynb\"><img src=\"../../../../../logic/equality/__pv_it/common/fb96dc12b2aa8801dda64d0132b396c63d1502bb0/expr.png\" style=\"display:inline;vertical-align:middle;\" /></a></td></tr>\n",
       "<tr><td>18</td><td>ExprTuple</td><td>22, 23</td><td><a class=\"ProveItLink\" href=\"../0608a935ee35293f8520ede3fd1b206a01343c100/expr.ipynb\"><img src=\"../0608a935ee35293f8520ede3fd1b206a01343c100/expr.png\" style=\"display:inline;vertical-align:middle;\" /></a></td></tr>\n",
       "<tr><td>19</td><td>ExprTuple</td><td>41, 24</td><td><a class=\"ProveItLink\" href=\"../fe91924ad72f2e130ae61bf42112798be82f3eca0/expr.ipynb\"><img src=\"../fe91924ad72f2e130ae61bf42112798be82f3eca0/expr.png\" style=\"display:inline;vertical-align:middle;\" /></a></td></tr>\n",
       "<tr><td>20</td><td>Literal</td><td></td><td><a class=\"ProveItLink\" href=\"../../../../../logic/sets/membership/__pv_it/common/477487d8796864d23d5810f83761435f25167f690/expr.ipynb\"><img src=\"../../../../../logic/sets/membership/__pv_it/common/477487d8796864d23d5810f83761435f25167f690/expr.png\" style=\"display:inline;vertical-align:middle;\" /></a></td></tr>\n",
       "<tr><td>21</td><td>ExprTuple</td><td>40, 25</td><td><a class=\"ProveItLink\" href=\"../b96a67f4d6f975833fb72a7da7416f63dc53da8d0/expr.ipynb\"><img src=\"../b96a67f4d6f975833fb72a7da7416f63dc53da8d0/expr.png\" style=\"display:inline;vertical-align:middle;\" /></a></td></tr>\n",
       "<tr><td>22</td><td>Operation</td><td>operator:&nbsp;38<br>operands:&nbsp;26<br></td><td><a class=\"ProveItLink\" href=\"../b2fbc13b830bfbf416ba2a028cb5a2ad768b45740/expr.ipynb\"><img src=\"../b2fbc13b830bfbf416ba2a028cb5a2ad768b45740/expr.png\" style=\"display:inline;vertical-align:middle;\" /></a></td></tr>\n",
       "<tr><td>23</td><td>Operation</td><td>operator:&nbsp;30<br>operands:&nbsp;27<br></td><td><a class=\"ProveItLink\" href=\"../654820ce5dba73e6e016a86b821d499d57206a050/expr.ipynb\"><img src=\"../654820ce5dba73e6e016a86b821d499d57206a050/expr.png\" style=\"display:inline;vertical-align:middle;\" /></a></td></tr>\n",
       "<tr><td>24</td><td>Variable</td><td></td><td><a class=\"ProveItLink\" href=\"../../../../../__pv_it/common/6d80eb1398b2335bf9ec427954b851b7094dced50/expr.ipynb\"><img src=\"../../../../../__pv_it/common/6d80eb1398b2335bf9ec427954b851b7094dced50/expr.png\" style=\"display:inline;vertical-align:middle;\" /></a></td></tr>\n",
       "<tr><td>25</td><td>Variable</td><td></td><td><a class=\"ProveItLink\" href=\"../../../../../__pv_it/common/1f2ffac7a1dc7c1a4f1fc7348356ae64ea992c790/expr.ipynb\"><img src=\"../../../../../__pv_it/common/1f2ffac7a1dc7c1a4f1fc7348356ae64ea992c790/expr.png\" style=\"display:inline;vertical-align:middle;\" /></a></td></tr>\n",
       "<tr><td>26</td><td>ExprTuple</td><td>28, 41</td><td><a class=\"ProveItLink\" href=\"../c4d8f868466eb5eab43bbeaafaf923ef76628bbe0/expr.ipynb\"><img src=\"../c4d8f868466eb5eab43bbeaafaf923ef76628bbe0/expr.png\" style=\"display:inline;vertical-align:middle;\" /></a></td></tr>\n",
       "<tr><td>27</td><td>ExprTuple</td><td>29</td><td><a class=\"ProveItLink\" href=\"../156ac0f67a1ff46f2eb5e0ebb16a64b947e6c32c0/expr.ipynb\"><img src=\"../156ac0f67a1ff46f2eb5e0ebb16a64b947e6c32c0/expr.png\" style=\"display:inline;vertical-align:middle;\" /></a></td></tr>\n",
       "<tr><td>28</td><td>Operation</td><td>operator:&nbsp;30<br>operands:&nbsp;31<br></td><td><a class=\"ProveItLink\" href=\"../a85f392435161a36a7c99608d3d15bd982fde0550/expr.ipynb\"><img src=\"../a85f392435161a36a7c99608d3d15bd982fde0550/expr.png\" style=\"display:inline;vertical-align:middle;\" /></a></td></tr>\n",
       "<tr><td>29</td><td>ExprRange</td><td>lambda_map:&nbsp;32<br>start_index:&nbsp;36<br>end_index:&nbsp;37<br></td><td><a class=\"ProveItLink\" href=\"../b1d8a33c8e77f923a38ce8f756e14a0330e949e20/expr.ipynb\"><img src=\"../b1d8a33c8e77f923a38ce8f756e14a0330e949e20/expr.png\" style=\"display:inline;vertical-align:middle;\" /></a></td></tr>\n",
       "<tr><td>30</td><td>Literal</td><td></td><td><a class=\"ProveItLink\" href=\"../../../../addition/__pv_it/common/ac3c140c9094f065c7f7db15c94558731443639c0/expr.ipynb\"><img src=\"../../../../addition/__pv_it/common/ac3c140c9094f065c7f7db15c94558731443639c0/expr.png\" style=\"display:inline;vertical-align:middle;\" /></a></td></tr>\n",
       "<tr><td>31</td><td>ExprTuple</td><td>33</td><td><a class=\"ProveItLink\" href=\"../7b420e2a84f53537bd285f3baa95d83c0ea120860/expr.ipynb\"><img src=\"../7b420e2a84f53537bd285f3baa95d83c0ea120860/expr.png\" style=\"display:inline;vertical-align:middle;\" /></a></td></tr>\n",
       "<tr><td>32</td><td>Lambda</td><td>parameter:&nbsp;44<br>body:&nbsp;34<br></td><td><a class=\"ProveItLink\" href=\"../c1182047df5d8a693de6b60d5a9faf778ab81b4a0/expr.ipynb\"><img src=\"../c1182047df5d8a693de6b60d5a9faf778ab81b4a0/expr.png\" style=\"display:inline;vertical-align:middle;\" /></a></td></tr>\n",
       "<tr><td>33</td><td>ExprRange</td><td>lambda_map:&nbsp;35<br>start_index:&nbsp;36<br>end_index:&nbsp;37<br></td><td><a class=\"ProveItLink\" href=\"../../../../../core_expr_types/__pv_it/common/7ee2dd28754734e63298daa7955625a3d904698e0/expr.ipynb\"><img src=\"../../../../../core_expr_types/__pv_it/common/7ee2dd28754734e63298daa7955625a3d904698e0/expr.png\" style=\"display:inline;vertical-align:middle;\" /></a></td></tr>\n",
       "<tr><td>34</td><td>Operation</td><td>operator:&nbsp;38<br>operands:&nbsp;39<br></td><td><a class=\"ProveItLink\" href=\"../3219dbf52b44a8b4f9e0e98b4e7e82ff033912160/expr.ipynb\"><img src=\"../3219dbf52b44a8b4f9e0e98b4e7e82ff033912160/expr.png\" style=\"display:inline;vertical-align:middle;\" /></a></td></tr>\n",
       "<tr><td>35</td><td>Lambda</td><td>parameter:&nbsp;44<br>body:&nbsp;40<br></td><td><a class=\"ProveItLink\" href=\"../../../../../core_expr_types/__pv_it/common/1527ad383e12f9c6ed6b371c9a7dd1892d80da1b0/expr.ipynb\"><img src=\"../../../../../core_expr_types/__pv_it/common/1527ad383e12f9c6ed6b371c9a7dd1892d80da1b0/expr.png\" style=\"display:inline;vertical-align:middle;\" /></a></td></tr>\n",
       "<tr><td>36</td><td>Literal</td><td></td><td><a class=\"ProveItLink\" href=\"../../../../../numbers/numerals/__pv_it/common/682157d4892d216d9e5626ed533aff9b56b9506e0/expr.ipynb\"><img src=\"../../../../../numbers/numerals/__pv_it/common/682157d4892d216d9e5626ed533aff9b56b9506e0/expr.png\" style=\"display:inline;vertical-align:middle;\" /></a></td></tr>\n",
       "<tr><td>37</td><td>Variable</td><td></td><td><a class=\"ProveItLink\" href=\"../../../../../__pv_it/common/8968bb04eb3f7dfa02353397ce929b025bbd79c20/expr.ipynb\"><img src=\"../../../../../__pv_it/common/8968bb04eb3f7dfa02353397ce929b025bbd79c20/expr.png\" style=\"display:inline;vertical-align:middle;\" /></a></td></tr>\n",
       "<tr><td>38</td><td>Literal</td><td></td><td><a class=\"ProveItLink\" href=\"../../common/1e364bd471e6a29fcd358dd2d9cd990a1e6fedd40/expr.ipynb\"><img src=\"../../common/1e364bd471e6a29fcd358dd2d9cd990a1e6fedd40/expr.png\" style=\"display:inline;vertical-align:middle;\" /></a></td></tr>\n",
       "<tr><td>39</td><td>ExprTuple</td><td>40, 41</td><td><a class=\"ProveItLink\" href=\"../eb5a442d186677c2c191dbdc84bfb9a01f0fc7c00/expr.ipynb\"><img src=\"../eb5a442d186677c2c191dbdc84bfb9a01f0fc7c00/expr.png\" style=\"display:inline;vertical-align:middle;\" /></a></td></tr>\n",
       "<tr><td>40</td><td>IndexedVar</td><td>variable:&nbsp;42<br>index:&nbsp;44<br></td><td><a class=\"ProveItLink\" href=\"../../../../../core_expr_types/__pv_it/common/3a62c13e156d62d52fe585fa37cc2172fcf685260/expr.ipynb\"><img src=\"../../../../../core_expr_types/__pv_it/common/3a62c13e156d62d52fe585fa37cc2172fcf685260/expr.png\" style=\"display:inline;vertical-align:middle;\" /></a></td></tr>\n",
       "<tr><td>41</td><td>Variable</td><td></td><td><a class=\"ProveItLink\" href=\"../../../../../__pv_it/common/a4b9661da9b52dcebf59c5559fec8901f4df10750/expr.ipynb\"><img src=\"../../../../../__pv_it/common/a4b9661da9b52dcebf59c5559fec8901f4df10750/expr.png\" style=\"display:inline;vertical-align:middle;\" /></a></td></tr>\n",
       "<tr><td>42</td><td>Variable</td><td></td><td><a class=\"ProveItLink\" href=\"../../../../../__pv_it/common/c06c606ec12678c58933ac85412ecadc2ae28be60/expr.ipynb\"><img src=\"../../../../../__pv_it/common/c06c606ec12678c58933ac85412ecadc2ae28be60/expr.png\" style=\"display:inline;vertical-align:middle;\" /></a></td></tr>\n",
       "<tr><td>43</td><td>ExprTuple</td><td>44</td><td><a class=\"ProveItLink\" href=\"../../../../../core_expr_types/__pv_it/common/4b0dd6be36d76552eda6a95d5b4a27f5a5b62f900/expr.ipynb\"><img src=\"../../../../../core_expr_types/__pv_it/common/4b0dd6be36d76552eda6a95d5b4a27f5a5b62f900/expr.png\" style=\"display:inline;vertical-align:middle;\" /></a></td></tr>\n",
       "<tr><td>44</td><td>Variable</td><td></td><td><a class=\"ProveItLink\" href=\"../../../../../core_expr_types/__pv_it/common/006c465e50948aa2b52285e2de47974f741255cc0/expr.ipynb\"><img src=\"../../../../../core_expr_types/__pv_it/common/006c465e50948aa2b52285e2de47974f741255cc0/expr.png\" style=\"display:inline;vertical-align:middle;\" /></a></td></tr>\n",
       "</table>\n"
      ],
      "text/plain": [
       "0. ((a_{1}, a_{2}, ..., a_{n}) -> {forall_{v in V} (((a_{1} +  a_{2} +  ... +  a_{n}) * v) =  \\\\ ((a_{1} * v) +  (a_{2} * v) +  ... +  (a_{n} * v))) if (a_{1} in K) and  (a_{2} in K) and  ... and  (a_{n} in K).)\n",
       "   core type: ExprTuple\n",
       "   sub-expressions: 1\n",
       "1. (a_{1}, a_{2}, ..., a_{n}) -> {forall_{v in V} (((a_{1} +  a_{2} +  ... +  a_{n}) * v) =  \\\\ ((a_{1} * v) +  (a_{2} * v) +  ... +  (a_{n} * v))) if (a_{1} in K) and  (a_{2} in K) and  ... and  (a_{n} in K).\n",
       "   core type: Lambda\n",
       "   parameters: 31\\n   body: 2\n",
       "2. {forall_{v in V} (((a_{1} +  a_{2} +  ... +  a_{n}) * v) =  \\\\ ((a_{1} * v) +  (a_{2} * v) +  ... +  (a_{n} * v))) if (a_{1} in K) and  (a_{2} in K) and  ... and  (a_{n} in K).\n",
       "   core type: Conditional\n",
       "   value: 3\n",
       "   condition: 4\n",
       "3. forall_{v in V} (((a_{1} +  a_{2} +  ... +  a_{n}) * v) =  \\\\ ((a_{1} * v) +  (a_{2} * v) +  ... +  (a_{n} * v)))\n",
       "   core type: Operation\n",
       "   operator: 5\n",
       "   operand: 9\n",
       "4. (a_{1} in K) and  (a_{2} in K) and  ... and  (a_{n} in K)\n",
       "   core type: Operation\n",
       "   operator: 7\n",
       "   operands: 8\n",
       "5. forall\n",
       "   core type: Literal\n",
       "   sub-expressions: \n",
       "6. (v -> {((a_{1} +  a_{2} +  ... +  a_{n}) * v) =  \\\\ ((a_{1} * v) +  (a_{2} * v) +  ... +  (a_{n} * v)) if v in V.)\n",
       "   core type: ExprTuple\n",
       "   sub-expressions: 9\n",
       "7. and\n",
       "   core type: Literal\n",
       "   sub-expressions: \n",
       "8. ((a_{1} in K), (a_{2} in K), ..., (a_{n} in K))\n",
       "   core type: ExprTuple\n",
       "   sub-expressions: 10\n",
       "9. v -> {((a_{1} +  a_{2} +  ... +  a_{n}) * v) =  \\\\ ((a_{1} * v) +  (a_{2} * v) +  ... +  (a_{n} * v)) if v in V.\n",
       "   core type: Lambda\n",
       "   parameter: 41\n",
       "   body: 12\n",
       "10. (a_{1} in K), (a_{2} in K), ..., (a_{n} in K)\n",
       "    core type: ExprRange\n",
       "    lambda_map: 13\n",
       "    start_index: 36\n",
       "    end_index: 37\n",
       "11. (v)\n",
       "    core type: ExprTuple\n",
       "    sub-expressions: 41\n",
       "12. {((a_{1} +  a_{2} +  ... +  a_{n}) * v) =  \\\\ ((a_{1} * v) +  (a_{2} * v) +  ... +  (a_{n} * v)) if v in V.\n",
       "    core type: Conditional\n",
       "    value: 14\n",
       "    condition: 15\n",
       "13. _a -> (a_{_a} in K)\n",
       "    core type: Lambda\n",
       "    parameter: 44\n",
       "    body: 16\n",
       "14. ((a_{1} +  a_{2} +  ... +  a_{n}) * v) =  \\\\ ((a_{1} * v) +  (a_{2} * v) +  ... +  (a_{n} * v))\n",
       "    core type: Operation\n",
       "    operator: 17\n",
       "    operands: 18\n",
       "15. v in V\n",
       "    core type: Operation\n",
       "    operator: 20\n",
       "    operands: 19\n",
       "16. a_{_a} in K\n",
       "    core type: Operation\n",
       "    operator: 20\n",
       "    operands: 21\n",
       "17. =\n",
       "    core type: Literal\n",
       "    sub-expressions: \n",
       "18. ((a_{1} +  a_{2} +  ... +  a_{n}) * v, (a_{1} * v) +  (a_{2} * v) +  ... +  (a_{n} * v))\n",
       "    core type: ExprTuple\n",
       "    sub-expressions: 22, 23\n",
       "19. (v, V)\n",
       "    core type: ExprTuple\n",
       "    sub-expressions: 41, 24\n",
       "20. in\n",
       "    core type: Literal\n",
       "    sub-expressions: \n",
       "21. (a_{_a}, K)\n",
       "    core type: ExprTuple\n",
       "    sub-expressions: 40, 25\n",
       "22. (a_{1} +  a_{2} +  ... +  a_{n}) * v\n",
       "    core type: Operation\n",
       "    operator: 38\n",
       "    operands: 26\n",
       "23. (a_{1} * v) +  (a_{2} * v) +  ... +  (a_{n} * v)\n",
       "    core type: Operation\n",
       "    operator: 30\n",
       "    operands: 27\n",
       "24. V\n",
       "    core type: Variable\n",
       "    sub-expressions: \n",
       "25. K\n",
       "    core type: Variable\n",
       "    sub-expressions: \n",
       "26. (a_{1} +  a_{2} +  ... +  a_{n}, v)\n",
       "    core type: ExprTuple\n",
       "    sub-expressions: 28, 41\n",
       "27. ((a_{1} * v), (a_{2} * v), ..., (a_{n} * v))\n",
       "    core type: ExprTuple\n",
       "    sub-expressions: 29\n",
       "28. a_{1} +  a_{2} +  ... +  a_{n}\n",
       "    core type: Operation\n",
       "    operator: 30\n",
       "    operands: 31\n",
       "29. (a_{1} * v), (a_{2} * v), ..., (a_{n} * v)\n",
       "    core type: ExprRange\n",
       "    lambda_map: 32\n",
       "    start_index: 36\n",
       "    end_index: 37\n",
       "30. +\n",
       "    core type: Literal\n",
       "    sub-expressions: \n",
       "31. (a_{1}, a_{2}, ..., a_{n})\n",
       "    core type: ExprTuple\n",
       "    sub-expressions: 33\n",
       "32. _a -> (a_{_a} * v)\n",
       "    core type: Lambda\n",
       "    parameter: 44\n",
       "    body: 34\n",
       "33. a_{1}, a_{2}, ..., a_{n}\n",
       "    core type: ExprRange\n",
       "    lambda_map: 35\n",
       "    start_index: 36\n",
       "    end_index: 37\n",
       "34. a_{_a} * v\n",
       "    core type: Operation\n",
       "    operator: 38\n",
       "    operands: 39\n",
       "35. _a -> a_{_a}\n",
       "    core type: Lambda\n",
       "    parameter: 44\n",
       "    body: 40\n",
       "36. 1\n",
       "    core type: Literal\n",
       "    sub-expressions: \n",
       "37. n\n",
       "    core type: Variable\n",
       "    sub-expressions: \n",
       "38. *\n",
       "    core type: Literal\n",
       "    sub-expressions: \n",
       "39. (a_{_a}, v)\n",
       "    core type: ExprTuple\n",
       "    sub-expressions: 40, 41\n",
       "40. a_{_a}\n",
       "    core type: IndexedVar\n",
       "variable: 42\n",
       "index: 44\n",
       "41. v\n",
       "    core type: Variable\n",
       "    sub-expressions: \n",
       "42. a\n",
       "    core type: Variable\n",
       "    sub-expressions: \n",
       "43. (_a)\n",
       "    core type: ExprTuple\n",
       "    sub-expressions: 44\n",
       "44. _a\n",
       "    core type: Variable\n",
       "    sub-expressions: "
      ]
     },
     "metadata": {},
     "output_type": "display_data"
    }
   ],
   "source": [
    "# display the expression information\n",
    "stored_expr.expr_info()"
   ]
  },
  {
   "cell_type": "code",
   "execution_count": null,
   "metadata": {},
   "outputs": [],
   "source": []
  }
 ],
 "metadata": {
  "kernelspec": {
   "display_name": "Python 3",
   "language": "python",
   "name": "python3"
  }
 },
 "nbformat": 4,
 "nbformat_minor": 0
}