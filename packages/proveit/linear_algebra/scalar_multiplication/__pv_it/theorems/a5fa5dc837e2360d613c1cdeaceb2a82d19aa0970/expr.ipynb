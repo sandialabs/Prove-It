{
 "cells": [
  {
   "cell_type": "markdown",
   "metadata": {},
   "source": [
    "Expression of type <a class=\"ProveItLink\" href=\"../../../../../../../doc/html/api/proveit.ExprTuple.html\">ExprTuple</a>\n",
    "=======================\n",
    "# from the theory of <a class=\"ProveItLink\" href=\"../../../_theory_nbs_/theory.ipynb\">proveit.linear_algebra.scalar_multiplication</a>"
   ]
  },
  {
   "cell_type": "code",
   "execution_count": 1,
   "metadata": {},
   "outputs": [],
   "source": [
    "import proveit\n",
    "# Automation is not needed when building an expression:\n",
    "proveit.defaults.automation = False # This will speed things up.\n",
    "proveit.defaults.inline_pngs = False # Makes files smaller.\n",
    "%load_expr # Load the stored expression as 'stored_expr'\n",
    "# import Expression classes needed to build the expression\n",
    "from proveit import Conditional, ExprRange, ExprTuple, IndexedVar, K, Lambda, V, Variable, a, i, k\n",
    "from proveit.core_expr_types import a_1_to_i\n",
    "from proveit.linear_algebra import ScalarMult, VecAdd\n",
    "from proveit.logic import And, Equals, InSet\n",
    "from proveit.numbers import one"
   ]
  },
  {
   "cell_type": "code",
   "execution_count": 2,
   "metadata": {},
   "outputs": [
    {
     "data": {
      "text/html": [
       "<strong id=\"expr\">expr:</strong> <a class=\"ProveItLink\" href=\"expr.ipynb\"><img src=\"expr.png\" style=\"display:inline;vertical-align:middle;\" /></a><br>"
      ],
      "text/plain": [
       "<IPython.core.display.HTML object>"
      ]
     },
     "metadata": {},
     "output_type": "display_data"
    }
   ],
   "source": [
    "# build up the expression from sub-expressions\n",
    "sub_expr1 = Variable(\"_a\", latex_format = r\"{_{-}a}\")\n",
    "sub_expr2 = IndexedVar(a, sub_expr1)\n",
    "expr = ExprTuple(Lambda([k, a_1_to_i], Conditional(Equals(VecAdd(ExprRange(sub_expr1, ScalarMult(k, sub_expr2), one, i)), ScalarMult(k, VecAdd(a_1_to_i))).with_wrapping_at(2), And(InSet(k, K), ExprRange(sub_expr1, InSet(sub_expr2, V), one, i)))))"
   ]
  },
  {
   "cell_type": "code",
   "execution_count": 3,
   "metadata": {},
   "outputs": [
    {
     "name": "stdout",
     "output_type": "stream",
     "text": [
      "Passed sanity check: expr matches stored_expr\n"
     ]
    }
   ],
   "source": [
    "# check that the built expression is the same as the stored expression\n",
    "assert expr == stored_expr\n",
    "assert expr._style_id == stored_expr._style_id\n",
    "print(\"Passed sanity check: expr matches stored_expr\")"
   ]
  },
  {
   "cell_type": "code",
   "execution_count": 4,
   "metadata": {},
   "outputs": [
    {
     "name": "stdout",
     "output_type": "stream",
     "text": [
      "\\left(\\left(k, a_{1}, a_{2}, \\ldots, a_{i}\\right) \\mapsto \\left\\{\\begin{array}{c} \\begin{array}{l} \\left(\\left(k \\cdot a_{1}\\right) +  \\left(k \\cdot a_{2}\\right) +  \\ldots +  \\left(k \\cdot a_{i}\\right)\\right) =  \\\\ \\left(k \\cdot \\left(a_{1} +  a_{2} +  \\ldots +  a_{i}\\right)\\right) \\end{array} \\end{array} \\textrm{ if } k \\in K, \\left(a_{1} \\in V\\right) ,  \\left(a_{2} \\in V\\right) ,  \\ldots ,  \\left(a_{i} \\in V\\right)\\right..\\right)\n"
     ]
    }
   ],
   "source": [
    "# Show the LaTeX representation of the expression for convenience if you need it.\n",
    "print(stored_expr.latex())"
   ]
  },
  {
   "cell_type": "code",
   "execution_count": 5,
   "metadata": {},
   "outputs": [
    {
     "data": {
      "text/html": [
       "no style options"
      ],
      "text/plain": [
       "no style options"
      ]
     },
     "metadata": {},
     "output_type": "display_data"
    }
   ],
   "source": [
    "stored_expr.style_options()"
   ]
  },
  {
   "cell_type": "code",
   "execution_count": 6,
   "metadata": {},
   "outputs": [
    {
     "data": {
      "text/html": [
       "<table><tr><th>&nbsp;</th><th>core type</th><th>sub-expressions</th><th>expression</th></tr>\n",
       "<tr><td>0</td><td>ExprTuple</td><td>1</td><td><a class=\"ProveItLink\" href=\"expr.ipynb\"><img src=\"expr.png\" style=\"display:inline;vertical-align:middle;\" /></a></td></tr>\n",
       "<tr><td>1</td><td>Lambda</td><td>parameters:&nbsp;2<br>body:&nbsp;3<br></td><td><a class=\"ProveItLink\" href=\"../62fcd48f8daab1e439c2ae14150f849b60b519360/expr.ipynb\"><img src=\"../62fcd48f8daab1e439c2ae14150f849b60b519360/expr.png\" style=\"display:inline;vertical-align:middle;\" /></a></td></tr>\n",
       "<tr><td>2</td><td>ExprTuple</td><td>35, 28</td><td><a class=\"ProveItLink\" href=\"../4067d74f1c0a7aee15f48d432c1caaa547a1f5e10/expr.ipynb\"><img src=\"../4067d74f1c0a7aee15f48d432c1caaa547a1f5e10/expr.png\" style=\"display:inline;vertical-align:middle;\" /></a></td></tr>\n",
       "<tr><td>3</td><td>Conditional</td><td>value:&nbsp;4<br>condition:&nbsp;5<br></td><td><a class=\"ProveItLink\" href=\"../cd5e378dcdb215445b41c97d42393e3017ba73050/expr.ipynb\"><img src=\"../cd5e378dcdb215445b41c97d42393e3017ba73050/expr.png\" style=\"display:inline;vertical-align:middle;\" /></a></td></tr>\n",
       "<tr><td>4</td><td>Operation</td><td>operator:&nbsp;6<br>operands:&nbsp;7<br></td><td><a class=\"ProveItLink\" href=\"../3816a2d46b4692565d5e26c5d06661a5f5567bad0/expr.ipynb\"><img src=\"../3816a2d46b4692565d5e26c5d06661a5f5567bad0/expr.png\" style=\"display:inline;vertical-align:middle;\" /></a></td></tr>\n",
       "<tr><td>5</td><td>Operation</td><td>operator:&nbsp;8<br>operands:&nbsp;9<br></td><td><a class=\"ProveItLink\" href=\"../8b096bec104c3d172852f5a699b43da235f452000/expr.ipynb\"><img src=\"../8b096bec104c3d172852f5a699b43da235f452000/expr.png\" style=\"display:inline;vertical-align:middle;\" /></a></td></tr>\n",
       "<tr><td>6</td><td>Literal</td><td></td><td><a class=\"ProveItLink\" href=\"../../../../../logic/equality/__pv_it/common/fb96dc12b2aa8801dda64d0132b396c63d1502bb0/expr.ipynb\"><img src=\"../../../../../logic/equality/__pv_it/common/fb96dc12b2aa8801dda64d0132b396c63d1502bb0/expr.png\" style=\"display:inline;vertical-align:middle;\" /></a></td></tr>\n",
       "<tr><td>7</td><td>ExprTuple</td><td>10, 11</td><td><a class=\"ProveItLink\" href=\"../4468a839beca6230034e91899c2212a6799c4e430/expr.ipynb\"><img src=\"../4468a839beca6230034e91899c2212a6799c4e430/expr.png\" style=\"display:inline;vertical-align:middle;\" /></a></td></tr>\n",
       "<tr><td>8</td><td>Literal</td><td></td><td><a class=\"ProveItLink\" href=\"../../../../../logic/booleans/conjunction/__pv_it/common/42118ff318bd65d98b1393f64ce7c2269feef76e0/expr.ipynb\"><img src=\"../../../../../logic/booleans/conjunction/__pv_it/common/42118ff318bd65d98b1393f64ce7c2269feef76e0/expr.png\" style=\"display:inline;vertical-align:middle;\" /></a></td></tr>\n",
       "<tr><td>9</td><td>ExprTuple</td><td>12, 13</td><td><a class=\"ProveItLink\" href=\"../91517d96923fd209415eb66c33bae0d0237f1c270/expr.ipynb\"><img src=\"../91517d96923fd209415eb66c33bae0d0237f1c270/expr.png\" style=\"display:inline;vertical-align:middle;\" /></a></td></tr>\n",
       "<tr><td>10</td><td>Operation</td><td>operator:&nbsp;23<br>operands:&nbsp;14<br></td><td><a class=\"ProveItLink\" href=\"../808f4e3009ea588ea1db43a429f231b4ee0cf0300/expr.ipynb\"><img src=\"../808f4e3009ea588ea1db43a429f231b4ee0cf0300/expr.png\" style=\"display:inline;vertical-align:middle;\" /></a></td></tr>\n",
       "<tr><td>11</td><td>Operation</td><td>operator:&nbsp;30<br>operands:&nbsp;15<br></td><td><a class=\"ProveItLink\" href=\"../aaa3b5486ccad5fb22f52583f989ac5b4ef4a1ea0/expr.ipynb\"><img src=\"../aaa3b5486ccad5fb22f52583f989ac5b4ef4a1ea0/expr.png\" style=\"display:inline;vertical-align:middle;\" /></a></td></tr>\n",
       "<tr><td>12</td><td>Operation</td><td>operator:&nbsp;25<br>operands:&nbsp;16<br></td><td><a class=\"ProveItLink\" href=\"../f09eacafef275f9c42e1c1b386ebfc7f707dd1cc0/expr.ipynb\"><img src=\"../f09eacafef275f9c42e1c1b386ebfc7f707dd1cc0/expr.png\" style=\"display:inline;vertical-align:middle;\" /></a></td></tr>\n",
       "<tr><td>13</td><td>ExprRange</td><td>lambda_map:&nbsp;17<br>start_index:&nbsp;33<br>end_index:&nbsp;34<br></td><td><a class=\"ProveItLink\" href=\"../f55642caab6dcf33dcd519e4e8743c129250c00f0/expr.ipynb\"><img src=\"../f55642caab6dcf33dcd519e4e8743c129250c00f0/expr.png\" style=\"display:inline;vertical-align:middle;\" /></a></td></tr>\n",
       "<tr><td>14</td><td>ExprTuple</td><td>18</td><td><a class=\"ProveItLink\" href=\"../620470a4cc3d26036e0a3b48e4b12c95e68a953d0/expr.ipynb\"><img src=\"../620470a4cc3d26036e0a3b48e4b12c95e68a953d0/expr.png\" style=\"display:inline;vertical-align:middle;\" /></a></td></tr>\n",
       "<tr><td>15</td><td>ExprTuple</td><td>35, 19</td><td><a class=\"ProveItLink\" href=\"../15a312a5901e0f4500a844b1bce50bcb69928a5f0/expr.ipynb\"><img src=\"../15a312a5901e0f4500a844b1bce50bcb69928a5f0/expr.png\" style=\"display:inline;vertical-align:middle;\" /></a></td></tr>\n",
       "<tr><td>16</td><td>ExprTuple</td><td>35, 20</td><td><a class=\"ProveItLink\" href=\"../5a29e66745fd2339cdb45cdff02228e98423aed80/expr.ipynb\"><img src=\"../5a29e66745fd2339cdb45cdff02228e98423aed80/expr.png\" style=\"display:inline;vertical-align:middle;\" /></a></td></tr>\n",
       "<tr><td>17</td><td>Lambda</td><td>parameter:&nbsp;39<br>body:&nbsp;21<br></td><td><a class=\"ProveItLink\" href=\"../fff488f39ce83a56d12c1d6afc671d737442f6790/expr.ipynb\"><img src=\"../fff488f39ce83a56d12c1d6afc671d737442f6790/expr.png\" style=\"display:inline;vertical-align:middle;\" /></a></td></tr>\n",
       "<tr><td>18</td><td>ExprRange</td><td>lambda_map:&nbsp;22<br>start_index:&nbsp;33<br>end_index:&nbsp;34<br></td><td><a class=\"ProveItLink\" href=\"../4f2596c9e8c2f7b0e568cfea74a14856f48e4da40/expr.ipynb\"><img src=\"../4f2596c9e8c2f7b0e568cfea74a14856f48e4da40/expr.png\" style=\"display:inline;vertical-align:middle;\" /></a></td></tr>\n",
       "<tr><td>19</td><td>Operation</td><td>operator:&nbsp;23<br>operands:&nbsp;24<br></td><td><a class=\"ProveItLink\" href=\"../ba69443323a6c4b2eac332e60cdbfd83e20824660/expr.ipynb\"><img src=\"../ba69443323a6c4b2eac332e60cdbfd83e20824660/expr.png\" style=\"display:inline;vertical-align:middle;\" /></a></td></tr>\n",
       "<tr><td>20</td><td>Variable</td><td></td><td><a class=\"ProveItLink\" href=\"../../../../../__pv_it/common/1f2ffac7a1dc7c1a4f1fc7348356ae64ea992c790/expr.ipynb\"><img src=\"../../../../../__pv_it/common/1f2ffac7a1dc7c1a4f1fc7348356ae64ea992c790/expr.png\" style=\"display:inline;vertical-align:middle;\" /></a></td></tr>\n",
       "<tr><td>21</td><td>Operation</td><td>operator:&nbsp;25<br>operands:&nbsp;26<br></td><td><a class=\"ProveItLink\" href=\"../5541fd9ecf06361743e9f5cdadaef856edd705660/expr.ipynb\"><img src=\"../5541fd9ecf06361743e9f5cdadaef856edd705660/expr.png\" style=\"display:inline;vertical-align:middle;\" /></a></td></tr>\n",
       "<tr><td>22</td><td>Lambda</td><td>parameter:&nbsp;39<br>body:&nbsp;27<br></td><td><a class=\"ProveItLink\" href=\"../1a1283ca73cc7ec644f76556c5fb608b4c0e499b0/expr.ipynb\"><img src=\"../1a1283ca73cc7ec644f76556c5fb608b4c0e499b0/expr.png\" style=\"display:inline;vertical-align:middle;\" /></a></td></tr>\n",
       "<tr><td>23</td><td>Literal</td><td></td><td><a class=\"ProveItLink\" href=\"../../../../addition/__pv_it/common/ac3c140c9094f065c7f7db15c94558731443639c0/expr.ipynb\"><img src=\"../../../../addition/__pv_it/common/ac3c140c9094f065c7f7db15c94558731443639c0/expr.png\" style=\"display:inline;vertical-align:middle;\" /></a></td></tr>\n",
       "<tr><td>24</td><td>ExprTuple</td><td>28</td><td><a class=\"ProveItLink\" href=\"../2c196e25eb75441998cc38de7042eaf6940c703f0/expr.ipynb\"><img src=\"../2c196e25eb75441998cc38de7042eaf6940c703f0/expr.png\" style=\"display:inline;vertical-align:middle;\" /></a></td></tr>\n",
       "<tr><td>25</td><td>Literal</td><td></td><td><a class=\"ProveItLink\" href=\"../../../../../logic/sets/membership/__pv_it/common/477487d8796864d23d5810f83761435f25167f690/expr.ipynb\"><img src=\"../../../../../logic/sets/membership/__pv_it/common/477487d8796864d23d5810f83761435f25167f690/expr.png\" style=\"display:inline;vertical-align:middle;\" /></a></td></tr>\n",
       "<tr><td>26</td><td>ExprTuple</td><td>36, 29</td><td><a class=\"ProveItLink\" href=\"../a6cc5380b76f99d33dd4bee69928b90878088cce0/expr.ipynb\"><img src=\"../a6cc5380b76f99d33dd4bee69928b90878088cce0/expr.png\" style=\"display:inline;vertical-align:middle;\" /></a></td></tr>\n",
       "<tr><td>27</td><td>Operation</td><td>operator:&nbsp;30<br>operands:&nbsp;31<br></td><td><a class=\"ProveItLink\" href=\"../8997e8464660b29f693a1da4186559cc4d831b2d0/expr.ipynb\"><img src=\"../8997e8464660b29f693a1da4186559cc4d831b2d0/expr.png\" style=\"display:inline;vertical-align:middle;\" /></a></td></tr>\n",
       "<tr><td>28</td><td>ExprRange</td><td>lambda_map:&nbsp;32<br>start_index:&nbsp;33<br>end_index:&nbsp;34<br></td><td><a class=\"ProveItLink\" href=\"../../../../../core_expr_types/__pv_it/common/7230c683fcd56948c826ac1be71b01b6fb2913950/expr.ipynb\"><img src=\"../../../../../core_expr_types/__pv_it/common/7230c683fcd56948c826ac1be71b01b6fb2913950/expr.png\" style=\"display:inline;vertical-align:middle;\" /></a></td></tr>\n",
       "<tr><td>29</td><td>Variable</td><td></td><td><a class=\"ProveItLink\" href=\"../../../../../__pv_it/common/6d80eb1398b2335bf9ec427954b851b7094dced50/expr.ipynb\"><img src=\"../../../../../__pv_it/common/6d80eb1398b2335bf9ec427954b851b7094dced50/expr.png\" style=\"display:inline;vertical-align:middle;\" /></a></td></tr>\n",
       "<tr><td>30</td><td>Literal</td><td></td><td><a class=\"ProveItLink\" href=\"../../common/1e364bd471e6a29fcd358dd2d9cd990a1e6fedd40/expr.ipynb\"><img src=\"../../common/1e364bd471e6a29fcd358dd2d9cd990a1e6fedd40/expr.png\" style=\"display:inline;vertical-align:middle;\" /></a></td></tr>\n",
       "<tr><td>31</td><td>ExprTuple</td><td>35, 36</td><td><a class=\"ProveItLink\" href=\"../80091943f79a8ea92213a3bcf60768b06ca6ef260/expr.ipynb\"><img src=\"../80091943f79a8ea92213a3bcf60768b06ca6ef260/expr.png\" style=\"display:inline;vertical-align:middle;\" /></a></td></tr>\n",
       "<tr><td>32</td><td>Lambda</td><td>parameter:&nbsp;39<br>body:&nbsp;36<br></td><td><a class=\"ProveItLink\" href=\"../../../../../core_expr_types/__pv_it/common/1527ad383e12f9c6ed6b371c9a7dd1892d80da1b0/expr.ipynb\"><img src=\"../../../../../core_expr_types/__pv_it/common/1527ad383e12f9c6ed6b371c9a7dd1892d80da1b0/expr.png\" style=\"display:inline;vertical-align:middle;\" /></a></td></tr>\n",
       "<tr><td>33</td><td>Literal</td><td></td><td><a class=\"ProveItLink\" href=\"../../../../../numbers/numerals/__pv_it/common/682157d4892d216d9e5626ed533aff9b56b9506e0/expr.ipynb\"><img src=\"../../../../../numbers/numerals/__pv_it/common/682157d4892d216d9e5626ed533aff9b56b9506e0/expr.png\" style=\"display:inline;vertical-align:middle;\" /></a></td></tr>\n",
       "<tr><td>34</td><td>Variable</td><td></td><td><a class=\"ProveItLink\" href=\"../../../../../__pv_it/common/ae955345c83abf786c3aff8681cd5465beae262d0/expr.ipynb\"><img src=\"../../../../../__pv_it/common/ae955345c83abf786c3aff8681cd5465beae262d0/expr.png\" style=\"display:inline;vertical-align:middle;\" /></a></td></tr>\n",
       "<tr><td>35</td><td>Variable</td><td></td><td><a class=\"ProveItLink\" href=\"../../../../../__pv_it/common/63b7c64bf9ec7a04ecc396c7a1670f3f12fb59490/expr.ipynb\"><img src=\"../../../../../__pv_it/common/63b7c64bf9ec7a04ecc396c7a1670f3f12fb59490/expr.png\" style=\"display:inline;vertical-align:middle;\" /></a></td></tr>\n",
       "<tr><td>36</td><td>IndexedVar</td><td>variable:&nbsp;37<br>index:&nbsp;39<br></td><td><a class=\"ProveItLink\" href=\"../../../../../core_expr_types/__pv_it/common/3a62c13e156d62d52fe585fa37cc2172fcf685260/expr.ipynb\"><img src=\"../../../../../core_expr_types/__pv_it/common/3a62c13e156d62d52fe585fa37cc2172fcf685260/expr.png\" style=\"display:inline;vertical-align:middle;\" /></a></td></tr>\n",
       "<tr><td>37</td><td>Variable</td><td></td><td><a class=\"ProveItLink\" href=\"../../../../../__pv_it/common/c06c606ec12678c58933ac85412ecadc2ae28be60/expr.ipynb\"><img src=\"../../../../../__pv_it/common/c06c606ec12678c58933ac85412ecadc2ae28be60/expr.png\" style=\"display:inline;vertical-align:middle;\" /></a></td></tr>\n",
       "<tr><td>38</td><td>ExprTuple</td><td>39</td><td><a class=\"ProveItLink\" href=\"../../../../../core_expr_types/__pv_it/common/4b0dd6be36d76552eda6a95d5b4a27f5a5b62f900/expr.ipynb\"><img src=\"../../../../../core_expr_types/__pv_it/common/4b0dd6be36d76552eda6a95d5b4a27f5a5b62f900/expr.png\" style=\"display:inline;vertical-align:middle;\" /></a></td></tr>\n",
       "<tr><td>39</td><td>Variable</td><td></td><td><a class=\"ProveItLink\" href=\"../../../../../core_expr_types/__pv_it/common/006c465e50948aa2b52285e2de47974f741255cc0/expr.ipynb\"><img src=\"../../../../../core_expr_types/__pv_it/common/006c465e50948aa2b52285e2de47974f741255cc0/expr.png\" style=\"display:inline;vertical-align:middle;\" /></a></td></tr>\n",
       "</table>\n"
      ],
      "text/plain": [
       "0. ((k, a_{1}, a_{2}, ..., a_{i}) -> {((k * a_{1}) +  (k * a_{2}) +  ... +  (k * a_{i})) =  \\\\ (k * (a_{1} +  a_{2} +  ... +  a_{i})) if k in K, (a_{1} in V) ,  (a_{2} in V) ,  ... ,  (a_{i} in V).)\n",
       "   core type: ExprTuple\n",
       "   sub-expressions: 1\n",
       "1. (k, a_{1}, a_{2}, ..., a_{i}) -> {((k * a_{1}) +  (k * a_{2}) +  ... +  (k * a_{i})) =  \\\\ (k * (a_{1} +  a_{2} +  ... +  a_{i})) if k in K, (a_{1} in V) ,  (a_{2} in V) ,  ... ,  (a_{i} in V).\n",
       "   core type: Lambda\n",
       "   parameters: 2\\n   body: 3\n",
       "2. (k,a_{1}, a_{2}, ..., a_{i})\n",
       "   core type: ExprTuple\n",
       "   sub-expressions: 35, 28\n",
       "3. {((k * a_{1}) +  (k * a_{2}) +  ... +  (k * a_{i})) =  \\\\ (k * (a_{1} +  a_{2} +  ... +  a_{i})) if k in K, (a_{1} in V) ,  (a_{2} in V) ,  ... ,  (a_{i} in V).\n",
       "   core type: Conditional\n",
       "   value: 4\n",
       "   condition: 5\n",
       "4. ((k * a_{1}) +  (k * a_{2}) +  ... +  (k * a_{i})) =  \\\\ (k * (a_{1} +  a_{2} +  ... +  a_{i}))\n",
       "   core type: Operation\n",
       "   operator: 6\n",
       "   operands: 7\n",
       "5. (k in K)and (a_{1} in V) and  (a_{2} in V) and  ... and  (a_{i} in V)\n",
       "   core type: Operation\n",
       "   operator: 8\n",
       "   operands: 9\n",
       "6. =\n",
       "   core type: Literal\n",
       "   sub-expressions: \n",
       "7. ((k * a_{1}) +  (k * a_{2}) +  ... +  (k * a_{i}), k * (a_{1} +  a_{2} +  ... +  a_{i}))\n",
       "   core type: ExprTuple\n",
       "   sub-expressions: 10, 11\n",
       "8. and\n",
       "   core type: Literal\n",
       "   sub-expressions: \n",
       "9. (k in K,(a_{1} in V), (a_{2} in V), ..., (a_{i} in V))\n",
       "   core type: ExprTuple\n",
       "   sub-expressions: 12, 13\n",
       "10. (k * a_{1}) +  (k * a_{2}) +  ... +  (k * a_{i})\n",
       "    core type: Operation\n",
       "    operator: 23\n",
       "    operands: 14\n",
       "11. k * (a_{1} +  a_{2} +  ... +  a_{i})\n",
       "    core type: Operation\n",
       "    operator: 30\n",
       "    operands: 15\n",
       "12. k in K\n",
       "    core type: Operation\n",
       "    operator: 25\n",
       "    operands: 16\n",
       "13. (a_{1} in V), (a_{2} in V), ..., (a_{i} in V)\n",
       "    core type: ExprRange\n",
       "    lambda_map: 17\n",
       "    start_index: 33\n",
       "    end_index: 34\n",
       "14. ((k * a_{1}), (k * a_{2}), ..., (k * a_{i}))\n",
       "    core type: ExprTuple\n",
       "    sub-expressions: 18\n",
       "15. (k, a_{1} +  a_{2} +  ... +  a_{i})\n",
       "    core type: ExprTuple\n",
       "    sub-expressions: 35, 19\n",
       "16. (k, K)\n",
       "    core type: ExprTuple\n",
       "    sub-expressions: 35, 20\n",
       "17. _a -> (a_{_a} in V)\n",
       "    core type: Lambda\n",
       "    parameter: 39\n",
       "    body: 21\n",
       "18. (k * a_{1}), (k * a_{2}), ..., (k * a_{i})\n",
       "    core type: ExprRange\n",
       "    lambda_map: 22\n",
       "    start_index: 33\n",
       "    end_index: 34\n",
       "19. a_{1} +  a_{2} +  ... +  a_{i}\n",
       "    core type: Operation\n",
       "    operator: 23\n",
       "    operands: 24\n",
       "20. K\n",
       "    core type: Variable\n",
       "    sub-expressions: \n",
       "21. a_{_a} in V\n",
       "    core type: Operation\n",
       "    operator: 25\n",
       "    operands: 26\n",
       "22. _a -> (k * a_{_a})\n",
       "    core type: Lambda\n",
       "    parameter: 39\n",
       "    body: 27\n",
       "23. +\n",
       "    core type: Literal\n",
       "    sub-expressions: \n",
       "24. (a_{1}, a_{2}, ..., a_{i})\n",
       "    core type: ExprTuple\n",
       "    sub-expressions: 28\n",
       "25. in\n",
       "    core type: Literal\n",
       "    sub-expressions: \n",
       "26. (a_{_a}, V)\n",
       "    core type: ExprTuple\n",
       "    sub-expressions: 36, 29\n",
       "27. k * a_{_a}\n",
       "    core type: Operation\n",
       "    operator: 30\n",
       "    operands: 31\n",
       "28. a_{1}, a_{2}, ..., a_{i}\n",
       "    core type: ExprRange\n",
       "    lambda_map: 32\n",
       "    start_index: 33\n",
       "    end_index: 34\n",
       "29. V\n",
       "    core type: Variable\n",
       "    sub-expressions: \n",
       "30. *\n",
       "    core type: Literal\n",
       "    sub-expressions: \n",
       "31. (k, a_{_a})\n",
       "    core type: ExprTuple\n",
       "    sub-expressions: 35, 36\n",
       "32. _a -> a_{_a}\n",
       "    core type: Lambda\n",
       "    parameter: 39\n",
       "    body: 36\n",
       "33. 1\n",
       "    core type: Literal\n",
       "    sub-expressions: \n",
       "34. i\n",
       "    core type: Variable\n",
       "    sub-expressions: \n",
       "35. k\n",
       "    core type: Variable\n",
       "    sub-expressions: \n",
       "36. a_{_a}\n",
       "    core type: IndexedVar\n",
       "variable: 37\n",
       "index: 39\n",
       "37. a\n",
       "    core type: Variable\n",
       "    sub-expressions: \n",
       "38. (_a)\n",
       "    core type: ExprTuple\n",
       "    sub-expressions: 39\n",
       "39. _a\n",
       "    core type: Variable\n",
       "    sub-expressions: "
      ]
     },
     "metadata": {},
     "output_type": "display_data"
    }
   ],
   "source": [
    "# display the expression information\n",
    "stored_expr.expr_info()"
   ]
  },
  {
   "cell_type": "code",
   "execution_count": null,
   "metadata": {},
   "outputs": [],
   "source": []
  }
 ],
 "metadata": {
  "kernelspec": {
   "display_name": "Python 3",
   "language": "python",
   "name": "python3"
  }
 },
 "nbformat": 4,
 "nbformat_minor": 0
}