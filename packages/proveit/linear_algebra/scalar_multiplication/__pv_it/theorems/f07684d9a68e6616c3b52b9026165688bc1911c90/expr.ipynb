{
 "cells": [
  {
   "cell_type": "markdown",
   "metadata": {},
   "source": [
    "Expression of type <a class=\"ProveItLink\" href=\"../../../../../../../doc/html/api/proveit.logic.Forall.html\">Forall</a>\n",
    "=======================\n",
    "# from the theory of <a class=\"ProveItLink\" href=\"../../../_theory_nbs_/theory.ipynb\">proveit.linear_algebra.scalar_multiplication</a>"
   ]
  },
  {
   "cell_type": "code",
   "execution_count": 1,
   "metadata": {},
   "outputs": [],
   "source": [
    "import proveit\n",
    "# Automation is not needed when building an expression:\n",
    "proveit.defaults.automation = False # This will speed things up.\n",
    "proveit.defaults.inline_pngs = False # Makes files smaller.\n",
    "%load_expr # Load the stored expression as 'stored_expr'\n",
    "# import Expression classes needed to build the expression\n",
    "from proveit import K, V, alpha, beta, x\n",
    "from proveit.linear_algebra import ScalarMult, VecSpaces\n",
    "from proveit.logic import Equals, Forall"
   ]
  },
  {
   "cell_type": "code",
   "execution_count": 2,
   "metadata": {},
   "outputs": [
    {
     "data": {
      "text/html": [
       "<strong id=\"expr\">expr:</strong> <a class=\"ProveItLink\" href=\"expr.ipynb\"><img src=\"expr.png\" style=\"display:inline;vertical-align:middle;\" /></a><br>"
      ],
      "text/plain": [
       "<IPython.core.display.HTML object>"
      ]
     },
     "metadata": {},
     "output_type": "display_data"
    }
   ],
   "source": [
    "# build up the expression from sub-expressions\n",
    "expr = Forall(instance_param_or_params = [K], instance_expr = Forall(instance_param_or_params = [V], instance_expr = Forall(instance_param_or_params = [x], instance_expr = Forall(instance_param_or_params = [alpha, beta], instance_expr = Equals(ScalarMult(alpha, ScalarMult(beta, x)), ScalarMult(ScalarMult(alpha, beta), x)), domain = K), domain = V), domain = VecSpaces(K)))"
   ]
  },
  {
   "cell_type": "code",
   "execution_count": 3,
   "metadata": {},
   "outputs": [
    {
     "name": "stdout",
     "output_type": "stream",
     "text": [
      "Passed sanity check: expr matches stored_expr\n"
     ]
    }
   ],
   "source": [
    "# check that the built expression is the same as the stored expression\n",
    "assert expr == stored_expr\n",
    "assert expr._style_id == stored_expr._style_id\n",
    "print(\"Passed sanity check: expr matches stored_expr\")"
   ]
  },
  {
   "cell_type": "code",
   "execution_count": 4,
   "metadata": {},
   "outputs": [
    {
     "name": "stdout",
     "output_type": "stream",
     "text": [
      "\\forall_{K}~\\left[\\forall_{V \\underset{{\\scriptscriptstyle c}}{\\in} \\textrm{VecSpaces}\\left(K\\right)}~\\left[\\forall_{x \\in V}~\\left[\\forall_{\\alpha, \\beta \\in K}~\\left(\\left(\\alpha \\cdot \\left(\\beta \\cdot x\\right)\\right) = \\left(\\left(\\alpha \\cdot \\beta\\right) \\cdot x\\right)\\right)\\right]\\right]\\right]\n"
     ]
    }
   ],
   "source": [
    "# Show the LaTeX representation of the expression for convenience if you need it.\n",
    "print(stored_expr.latex())"
   ]
  },
  {
   "cell_type": "code",
   "execution_count": 5,
   "metadata": {},
   "outputs": [
    {
     "data": {
      "text/html": [
       "<table>\n",
       "<tr><th>name</th><th>description</th><th>default</th><th>current value</th><th>related methods</th></tr><tr><td>with_wrapping</td><td>If 'True', wrap the Expression after the parameters</td><td>None</td><td>None/False</td><td>('with_wrapping',)</td></tr>\n",
       "<tr><td>condition_wrapping</td><td>Wrap 'before' or 'after' the condition (or None).</td><td>None</td><td>None/False</td><td>('with_wrap_after_condition', 'with_wrap_before_condition')</td></tr>\n",
       "<tr><td>wrap_params</td><td>If 'True', wraps every two parameters AND wraps the Expression after the parameters</td><td>None</td><td>None/False</td><td>('with_params',)</td></tr>\n",
       "<tr><td>justification</td><td>justify to the 'left', 'center', or 'right' in the array cells</td><td>center</td><td>center</td><td>('with_justification',)</td></tr>\n",
       "</table>\n"
      ],
      "text/plain": [
       "style name: with_wrapping\n",
       "description: If 'True', wrap the Expression after the parameters\n",
       "default: None\n",
       "current value: None/False\n",
       "related methods: ('with_wrapping',)\n",
       "style name: condition_wrapping\n",
       "description: Wrap 'before' or 'after' the condition (or None).\n",
       "default: None\n",
       "current value: None/False\n",
       "related methods: ('with_wrap_after_condition', 'with_wrap_before_condition')\n",
       "style name: wrap_params\n",
       "description: If 'True', wraps every two parameters AND wraps the Expression after the parameters\n",
       "default: None\n",
       "current value: None/False\n",
       "related methods: ('with_params',)\n",
       "style name: justification\n",
       "description: justify to the 'left', 'center', or 'right' in the array cells\n",
       "default: center\n",
       "current value: center\n",
       "related methods: ('with_justification',)"
      ]
     },
     "metadata": {},
     "output_type": "display_data"
    }
   ],
   "source": [
    "stored_expr.style_options()"
   ]
  },
  {
   "cell_type": "code",
   "execution_count": 6,
   "metadata": {},
   "outputs": [
    {
     "data": {
      "text/html": [
       "<table><tr><th>&nbsp;</th><th>core type</th><th>sub-expressions</th><th>expression</th></tr>\n",
       "<tr><td>0</td><td>Operation</td><td>operator:&nbsp;21<br>operand:&nbsp;2<br></td><td><a class=\"ProveItLink\" href=\"expr.ipynb\"><img src=\"expr.png\" style=\"display:inline;vertical-align:middle;\" /></a></td></tr>\n",
       "<tr><td>1</td><td>ExprTuple</td><td>2</td><td><a class=\"ProveItLink\" href=\"../fa707dab823e508a779c35045f43a7f6b19bd6560/expr.ipynb\"><img src=\"../fa707dab823e508a779c35045f43a7f6b19bd6560/expr.png\" style=\"display:inline;vertical-align:middle;\" /></a></td></tr>\n",
       "<tr><td>2</td><td>Lambda</td><td>parameter:&nbsp;44<br>body:&nbsp;3<br></td><td><a class=\"ProveItLink\" href=\"../bc04493a057c65da8de9ca68cb71bbb21aea7e2d0/expr.ipynb\"><img src=\"../bc04493a057c65da8de9ca68cb71bbb21aea7e2d0/expr.png\" style=\"display:inline;vertical-align:middle;\" /></a></td></tr>\n",
       "<tr><td>3</td><td>Operation</td><td>operator:&nbsp;21<br>operand:&nbsp;5<br></td><td><a class=\"ProveItLink\" href=\"../ab2e24e252fd59127f0fa6854188658611a937780/expr.ipynb\"><img src=\"../ab2e24e252fd59127f0fa6854188658611a937780/expr.png\" style=\"display:inline;vertical-align:middle;\" /></a></td></tr>\n",
       "<tr><td>4</td><td>ExprTuple</td><td>5</td><td><a class=\"ProveItLink\" href=\"../c205b683072530da236d3abf8852050890de86a10/expr.ipynb\"><img src=\"../c205b683072530da236d3abf8852050890de86a10/expr.png\" style=\"display:inline;vertical-align:middle;\" /></a></td></tr>\n",
       "<tr><td>5</td><td>Lambda</td><td>parameter:&nbsp;25<br>body:&nbsp;7<br></td><td><a class=\"ProveItLink\" href=\"../28b4ca8a6174e5411bab52487ff347755cccc8a00/expr.ipynb\"><img src=\"../28b4ca8a6174e5411bab52487ff347755cccc8a00/expr.png\" style=\"display:inline;vertical-align:middle;\" /></a></td></tr>\n",
       "<tr><td>6</td><td>ExprTuple</td><td>25</td><td><a class=\"ProveItLink\" href=\"../55d848f1bfb69b7cca09982fc21e7069eabfffad0/expr.ipynb\"><img src=\"../55d848f1bfb69b7cca09982fc21e7069eabfffad0/expr.png\" style=\"display:inline;vertical-align:middle;\" /></a></td></tr>\n",
       "<tr><td>7</td><td>Conditional</td><td>value:&nbsp;8<br>condition:&nbsp;9<br></td><td><a class=\"ProveItLink\" href=\"../b6965698b26b08ebd0a435613f74649fcc048dca0/expr.ipynb\"><img src=\"../b6965698b26b08ebd0a435613f74649fcc048dca0/expr.png\" style=\"display:inline;vertical-align:middle;\" /></a></td></tr>\n",
       "<tr><td>8</td><td>Operation</td><td>operator:&nbsp;21<br>operand:&nbsp;13<br></td><td><a class=\"ProveItLink\" href=\"../573be753558411e2dbeca3fcf8c406bf95e43ced0/expr.ipynb\"><img src=\"../573be753558411e2dbeca3fcf8c406bf95e43ced0/expr.png\" style=\"display:inline;vertical-align:middle;\" /></a></td></tr>\n",
       "<tr><td>9</td><td>Operation</td><td>operator:&nbsp;11<br>operands:&nbsp;12<br></td><td><a class=\"ProveItLink\" href=\"../fdcef8bdda7eadc951141827185574260418b5040/expr.ipynb\"><img src=\"../fdcef8bdda7eadc951141827185574260418b5040/expr.png\" style=\"display:inline;vertical-align:middle;\" /></a></td></tr>\n",
       "<tr><td>10</td><td>ExprTuple</td><td>13</td><td><a class=\"ProveItLink\" href=\"../aa08efafff7211d5b1d75057291834a14818c6460/expr.ipynb\"><img src=\"../aa08efafff7211d5b1d75057291834a14818c6460/expr.png\" style=\"display:inline;vertical-align:middle;\" /></a></td></tr>\n",
       "<tr><td>11</td><td>Literal</td><td></td><td><a class=\"ProveItLink\" href=\"../../../../../logic/classes/membership/__pv_it/common/e3b437d28fbe17f0a50c9789c7c9b47a1270f1420/expr.ipynb\"><img src=\"../../../../../logic/classes/membership/__pv_it/common/e3b437d28fbe17f0a50c9789c7c9b47a1270f1420/expr.png\" style=\"display:inline;vertical-align:middle;\" /></a></td></tr>\n",
       "<tr><td>12</td><td>ExprTuple</td><td>25, 14</td><td><a class=\"ProveItLink\" href=\"../e9269a3a12a2f9c88a561318d0d55d8d11da1e5f0/expr.ipynb\"><img src=\"../e9269a3a12a2f9c88a561318d0d55d8d11da1e5f0/expr.png\" style=\"display:inline;vertical-align:middle;\" /></a></td></tr>\n",
       "<tr><td>13</td><td>Lambda</td><td>parameter:&nbsp;48<br>body:&nbsp;16<br></td><td><a class=\"ProveItLink\" href=\"../44452acb60cbc1c003f6330a105bce1d31f438280/expr.ipynb\"><img src=\"../44452acb60cbc1c003f6330a105bce1d31f438280/expr.png\" style=\"display:inline;vertical-align:middle;\" /></a></td></tr>\n",
       "<tr><td>14</td><td>Operation</td><td>operator:&nbsp;17<br>operand:&nbsp;44<br></td><td><a class=\"ProveItLink\" href=\"../bfe4d11fbcd28c79c0e2a9c152d66f0991be7cc30/expr.ipynb\"><img src=\"../bfe4d11fbcd28c79c0e2a9c152d66f0991be7cc30/expr.png\" style=\"display:inline;vertical-align:middle;\" /></a></td></tr>\n",
       "<tr><td>15</td><td>ExprTuple</td><td>48</td><td><a class=\"ProveItLink\" href=\"../../../../../__pv_it/common/eacfeccc0521684fcb20fe8f5180ac50fca471f20/expr.ipynb\"><img src=\"../../../../../__pv_it/common/eacfeccc0521684fcb20fe8f5180ac50fca471f20/expr.png\" style=\"display:inline;vertical-align:middle;\" /></a></td></tr>\n",
       "<tr><td>16</td><td>Conditional</td><td>value:&nbsp;19<br>condition:&nbsp;20<br></td><td><a class=\"ProveItLink\" href=\"../ccfdac4c55d2af891abbf767296c6245b04bcf080/expr.ipynb\"><img src=\"../ccfdac4c55d2af891abbf767296c6245b04bcf080/expr.png\" style=\"display:inline;vertical-align:middle;\" /></a></td></tr>\n",
       "<tr><td>17</td><td>Literal</td><td></td><td><a class=\"ProveItLink\" href=\"../../../../__pv_it/common/191fa3a3f5c54c22d4b0a7e4fd1b2f7738e981550/expr.ipynb\"><img src=\"../../../../__pv_it/common/191fa3a3f5c54c22d4b0a7e4fd1b2f7738e981550/expr.png\" style=\"display:inline;vertical-align:middle;\" /></a></td></tr>\n",
       "<tr><td>18</td><td>ExprTuple</td><td>44</td><td><a class=\"ProveItLink\" href=\"../dfa81a569aedd40943c42f533e78bc2f073711130/expr.ipynb\"><img src=\"../dfa81a569aedd40943c42f533e78bc2f073711130/expr.png\" style=\"display:inline;vertical-align:middle;\" /></a></td></tr>\n",
       "<tr><td>19</td><td>Operation</td><td>operator:&nbsp;21<br>operand:&nbsp;24<br></td><td><a class=\"ProveItLink\" href=\"../03fdcc8c9d4f6fbddaa7233e764290b27679e2560/expr.ipynb\"><img src=\"../03fdcc8c9d4f6fbddaa7233e764290b27679e2560/expr.png\" style=\"display:inline;vertical-align:middle;\" /></a></td></tr>\n",
       "<tr><td>20</td><td>Operation</td><td>operator:&nbsp;40<br>operands:&nbsp;23<br></td><td><a class=\"ProveItLink\" href=\"../d337f0b055e02f46d6189c73579f8b7a8042cd6e0/expr.ipynb\"><img src=\"../d337f0b055e02f46d6189c73579f8b7a8042cd6e0/expr.png\" style=\"display:inline;vertical-align:middle;\" /></a></td></tr>\n",
       "<tr><td>21</td><td>Literal</td><td></td><td><a class=\"ProveItLink\" href=\"../../../../../logic/booleans/quantification/universality/__pv_it/common/083d2baa0b8ecab1d230f9ec29a15aa1355809fb0/expr.ipynb\"><img src=\"../../../../../logic/booleans/quantification/universality/__pv_it/common/083d2baa0b8ecab1d230f9ec29a15aa1355809fb0/expr.png\" style=\"display:inline;vertical-align:middle;\" /></a></td></tr>\n",
       "<tr><td>22</td><td>ExprTuple</td><td>24</td><td><a class=\"ProveItLink\" href=\"../1ef29d590766f1d72c7e2a1d9f97cfea07c66b890/expr.ipynb\"><img src=\"../1ef29d590766f1d72c7e2a1d9f97cfea07c66b890/expr.png\" style=\"display:inline;vertical-align:middle;\" /></a></td></tr>\n",
       "<tr><td>23</td><td>ExprTuple</td><td>48, 25</td><td><a class=\"ProveItLink\" href=\"../47bf9f4d3e7ec24c1683239333a8d6506646efab0/expr.ipynb\"><img src=\"../47bf9f4d3e7ec24c1683239333a8d6506646efab0/expr.png\" style=\"display:inline;vertical-align:middle;\" /></a></td></tr>\n",
       "<tr><td>24</td><td>Lambda</td><td>parameters:&nbsp;47<br>body:&nbsp;26<br></td><td><a class=\"ProveItLink\" href=\"../c124113000c015ff0dd1218275824588344a795a0/expr.ipynb\"><img src=\"../c124113000c015ff0dd1218275824588344a795a0/expr.png\" style=\"display:inline;vertical-align:middle;\" /></a></td></tr>\n",
       "<tr><td>25</td><td>Variable</td><td></td><td><a class=\"ProveItLink\" href=\"../../../../../__pv_it/common/6d80eb1398b2335bf9ec427954b851b7094dced50/expr.ipynb\"><img src=\"../../../../../__pv_it/common/6d80eb1398b2335bf9ec427954b851b7094dced50/expr.png\" style=\"display:inline;vertical-align:middle;\" /></a></td></tr>\n",
       "<tr><td>26</td><td>Conditional</td><td>value:&nbsp;27<br>condition:&nbsp;28<br></td><td><a class=\"ProveItLink\" href=\"../0213c32b5953080dcac19ef0f937ae29cd5ecee30/expr.ipynb\"><img src=\"../0213c32b5953080dcac19ef0f937ae29cd5ecee30/expr.png\" style=\"display:inline;vertical-align:middle;\" /></a></td></tr>\n",
       "<tr><td>27</td><td>Operation</td><td>operator:&nbsp;29<br>operands:&nbsp;30<br></td><td><a class=\"ProveItLink\" href=\"../fc53a07c38375c2a4d5a4d3793c853af6cfe6f3b0/expr.ipynb\"><img src=\"../fc53a07c38375c2a4d5a4d3793c853af6cfe6f3b0/expr.png\" style=\"display:inline;vertical-align:middle;\" /></a></td></tr>\n",
       "<tr><td>28</td><td>Operation</td><td>operator:&nbsp;31<br>operands:&nbsp;32<br></td><td><a class=\"ProveItLink\" href=\"../beaa4dba18e37ee6dfe63d4082de72291b7ec0ff0/expr.ipynb\"><img src=\"../beaa4dba18e37ee6dfe63d4082de72291b7ec0ff0/expr.png\" style=\"display:inline;vertical-align:middle;\" /></a></td></tr>\n",
       "<tr><td>29</td><td>Literal</td><td></td><td><a class=\"ProveItLink\" href=\"../../../../../logic/equality/__pv_it/common/fb96dc12b2aa8801dda64d0132b396c63d1502bb0/expr.ipynb\"><img src=\"../../../../../logic/equality/__pv_it/common/fb96dc12b2aa8801dda64d0132b396c63d1502bb0/expr.png\" style=\"display:inline;vertical-align:middle;\" /></a></td></tr>\n",
       "<tr><td>30</td><td>ExprTuple</td><td>33, 34</td><td><a class=\"ProveItLink\" href=\"../20ea01da352ca6e33cc19159d541adae338efa960/expr.ipynb\"><img src=\"../20ea01da352ca6e33cc19159d541adae338efa960/expr.png\" style=\"display:inline;vertical-align:middle;\" /></a></td></tr>\n",
       "<tr><td>31</td><td>Literal</td><td></td><td><a class=\"ProveItLink\" href=\"../../../../../logic/booleans/conjunction/__pv_it/common/42118ff318bd65d98b1393f64ce7c2269feef76e0/expr.ipynb\"><img src=\"../../../../../logic/booleans/conjunction/__pv_it/common/42118ff318bd65d98b1393f64ce7c2269feef76e0/expr.png\" style=\"display:inline;vertical-align:middle;\" /></a></td></tr>\n",
       "<tr><td>32</td><td>ExprTuple</td><td>35, 36</td><td><a class=\"ProveItLink\" href=\"../0cde45403f9c9f55f6ed45c3c82b2d1085f1c8460/expr.ipynb\"><img src=\"../0cde45403f9c9f55f6ed45c3c82b2d1085f1c8460/expr.png\" style=\"display:inline;vertical-align:middle;\" /></a></td></tr>\n",
       "<tr><td>33</td><td>Operation</td><td>operator:&nbsp;46<br>operands:&nbsp;37<br></td><td><a class=\"ProveItLink\" href=\"../ade207d3b3f57914cc9e2e6f31481c242ff882270/expr.ipynb\"><img src=\"../ade207d3b3f57914cc9e2e6f31481c242ff882270/expr.png\" style=\"display:inline;vertical-align:middle;\" /></a></td></tr>\n",
       "<tr><td>34</td><td>Operation</td><td>operator:&nbsp;46<br>operands:&nbsp;38<br></td><td><a class=\"ProveItLink\" href=\"../56c06d94db30c733b722462e5908aab9d5d3501d0/expr.ipynb\"><img src=\"../56c06d94db30c733b722462e5908aab9d5d3501d0/expr.png\" style=\"display:inline;vertical-align:middle;\" /></a></td></tr>\n",
       "<tr><td>35</td><td>Operation</td><td>operator:&nbsp;40<br>operands:&nbsp;39<br></td><td><a class=\"ProveItLink\" href=\"../04d8a13b8f38af0fb7933e6be7220556ae79ded90/expr.ipynb\"><img src=\"../04d8a13b8f38af0fb7933e6be7220556ae79ded90/expr.png\" style=\"display:inline;vertical-align:middle;\" /></a></td></tr>\n",
       "<tr><td>36</td><td>Operation</td><td>operator:&nbsp;40<br>operands:&nbsp;41<br></td><td><a class=\"ProveItLink\" href=\"../c854003bb1f393d1d10c0c3ee56f06ea31f97adc0/expr.ipynb\"><img src=\"../c854003bb1f393d1d10c0c3ee56f06ea31f97adc0/expr.png\" style=\"display:inline;vertical-align:middle;\" /></a></td></tr>\n",
       "<tr><td>37</td><td>ExprTuple</td><td>49, 42</td><td><a class=\"ProveItLink\" href=\"../8218576fc111215cb4105b7e29f7cf0fa805a4f80/expr.ipynb\"><img src=\"../8218576fc111215cb4105b7e29f7cf0fa805a4f80/expr.png\" style=\"display:inline;vertical-align:middle;\" /></a></td></tr>\n",
       "<tr><td>38</td><td>ExprTuple</td><td>43, 48</td><td><a class=\"ProveItLink\" href=\"../67f0cb214da28078f3b34ad33c68d7f67091ab1b0/expr.ipynb\"><img src=\"../67f0cb214da28078f3b34ad33c68d7f67091ab1b0/expr.png\" style=\"display:inline;vertical-align:middle;\" /></a></td></tr>\n",
       "<tr><td>39</td><td>ExprTuple</td><td>49, 44</td><td><a class=\"ProveItLink\" href=\"../9577897df9a387cd8fd8520a39e91fed086434e00/expr.ipynb\"><img src=\"../9577897df9a387cd8fd8520a39e91fed086434e00/expr.png\" style=\"display:inline;vertical-align:middle;\" /></a></td></tr>\n",
       "<tr><td>40</td><td>Literal</td><td></td><td><a class=\"ProveItLink\" href=\"../../../../../logic/sets/membership/__pv_it/common/477487d8796864d23d5810f83761435f25167f690/expr.ipynb\"><img src=\"../../../../../logic/sets/membership/__pv_it/common/477487d8796864d23d5810f83761435f25167f690/expr.png\" style=\"display:inline;vertical-align:middle;\" /></a></td></tr>\n",
       "<tr><td>41</td><td>ExprTuple</td><td>50, 44</td><td><a class=\"ProveItLink\" href=\"../dff752c6f84b99cf364da5fef14e5ddb33d6b6450/expr.ipynb\"><img src=\"../dff752c6f84b99cf364da5fef14e5ddb33d6b6450/expr.png\" style=\"display:inline;vertical-align:middle;\" /></a></td></tr>\n",
       "<tr><td>42</td><td>Operation</td><td>operator:&nbsp;46<br>operands:&nbsp;45<br></td><td><a class=\"ProveItLink\" href=\"../a3b8c81ed5ab0800fbf6abfdfaafa4ad0d8773d80/expr.ipynb\"><img src=\"../a3b8c81ed5ab0800fbf6abfdfaafa4ad0d8773d80/expr.png\" style=\"display:inline;vertical-align:middle;\" /></a></td></tr>\n",
       "<tr><td>43</td><td>Operation</td><td>operator:&nbsp;46<br>operands:&nbsp;47<br></td><td><a class=\"ProveItLink\" href=\"../9e5e69fe1ac9344b860a3412b77dc50b5a92a5840/expr.ipynb\"><img src=\"../9e5e69fe1ac9344b860a3412b77dc50b5a92a5840/expr.png\" style=\"display:inline;vertical-align:middle;\" /></a></td></tr>\n",
       "<tr><td>44</td><td>Variable</td><td></td><td><a class=\"ProveItLink\" href=\"../../../../../__pv_it/common/1f2ffac7a1dc7c1a4f1fc7348356ae64ea992c790/expr.ipynb\"><img src=\"../../../../../__pv_it/common/1f2ffac7a1dc7c1a4f1fc7348356ae64ea992c790/expr.png\" style=\"display:inline;vertical-align:middle;\" /></a></td></tr>\n",
       "<tr><td>45</td><td>ExprTuple</td><td>50, 48</td><td><a class=\"ProveItLink\" href=\"../316c2c12c158d4443e9ce64c74cf90fa0a3bad940/expr.ipynb\"><img src=\"../316c2c12c158d4443e9ce64c74cf90fa0a3bad940/expr.png\" style=\"display:inline;vertical-align:middle;\" /></a></td></tr>\n",
       "<tr><td>46</td><td>Literal</td><td></td><td><a class=\"ProveItLink\" href=\"../../common/1e364bd471e6a29fcd358dd2d9cd990a1e6fedd40/expr.ipynb\"><img src=\"../../common/1e364bd471e6a29fcd358dd2d9cd990a1e6fedd40/expr.png\" style=\"display:inline;vertical-align:middle;\" /></a></td></tr>\n",
       "<tr><td>47</td><td>ExprTuple</td><td>49, 50</td><td><a class=\"ProveItLink\" href=\"../d170fea8162777c6a566dbd80b7fbbc22423a7a60/expr.ipynb\"><img src=\"../d170fea8162777c6a566dbd80b7fbbc22423a7a60/expr.png\" style=\"display:inline;vertical-align:middle;\" /></a></td></tr>\n",
       "<tr><td>48</td><td>Variable</td><td></td><td><a class=\"ProveItLink\" href=\"../../../../../__pv_it/common/a0d9d672aa5e272d907247690c152cc2c6daafb70/expr.ipynb\"><img src=\"../../../../../__pv_it/common/a0d9d672aa5e272d907247690c152cc2c6daafb70/expr.png\" style=\"display:inline;vertical-align:middle;\" /></a></td></tr>\n",
       "<tr><td>49</td><td>Variable</td><td></td><td><a class=\"ProveItLink\" href=\"../../../../../__pv_it/common/9705ebf23debd1198c43ec3d0c30ebe152d069440/expr.ipynb\"><img src=\"../../../../../__pv_it/common/9705ebf23debd1198c43ec3d0c30ebe152d069440/expr.png\" style=\"display:inline;vertical-align:middle;\" /></a></td></tr>\n",
       "<tr><td>50</td><td>Variable</td><td></td><td><a class=\"ProveItLink\" href=\"../../../../../__pv_it/common/c713a5db2586f854a5051c95110df24af02bd7260/expr.ipynb\"><img src=\"../../../../../__pv_it/common/c713a5db2586f854a5051c95110df24af02bd7260/expr.png\" style=\"display:inline;vertical-align:middle;\" /></a></td></tr>\n",
       "</table>\n"
      ],
      "text/plain": [
       "0. forall_{K} [forall_{V in_c VecSpaces(K)} [forall_{x in V} [forall_{alpha, beta in K} ((alpha * (beta * x)) = ((alpha * beta) * x))]]]\n",
       "   core type: Operation\n",
       "   operator: 21\n",
       "   operand: 2\n",
       "1. (K -> [forall_{V in_c VecSpaces(K)} [forall_{x in V} [forall_{alpha, beta in K} ((alpha * (beta * x)) = ((alpha * beta) * x))]]])\n",
       "   core type: ExprTuple\n",
       "   sub-expressions: 2\n",
       "2. K -> [forall_{V in_c VecSpaces(K)} [forall_{x in V} [forall_{alpha, beta in K} ((alpha * (beta * x)) = ((alpha * beta) * x))]]]\n",
       "   core type: Lambda\n",
       "   parameter: 44\n",
       "   body: 3\n",
       "3. forall_{V in_c VecSpaces(K)} [forall_{x in V} [forall_{alpha, beta in K} ((alpha * (beta * x)) = ((alpha * beta) * x))]]\n",
       "   core type: Operation\n",
       "   operator: 21\n",
       "   operand: 5\n",
       "4. (V -> {forall_{x in V} [forall_{alpha, beta in K} ((alpha * (beta * x)) = ((alpha * beta) * x))] if V in_c VecSpaces(K).)\n",
       "   core type: ExprTuple\n",
       "   sub-expressions: 5\n",
       "5. V -> {forall_{x in V} [forall_{alpha, beta in K} ((alpha * (beta * x)) = ((alpha * beta) * x))] if V in_c VecSpaces(K).\n",
       "   core type: Lambda\n",
       "   parameter: 25\n",
       "   body: 7\n",
       "6. (V)\n",
       "   core type: ExprTuple\n",
       "   sub-expressions: 25\n",
       "7. {forall_{x in V} [forall_{alpha, beta in K} ((alpha * (beta * x)) = ((alpha * beta) * x))] if V in_c VecSpaces(K).\n",
       "   core type: Conditional\n",
       "   value: 8\n",
       "   condition: 9\n",
       "8. forall_{x in V} [forall_{alpha, beta in K} ((alpha * (beta * x)) = ((alpha * beta) * x))]\n",
       "   core type: Operation\n",
       "   operator: 21\n",
       "   operand: 13\n",
       "9. V in_c VecSpaces(K)\n",
       "   core type: Operation\n",
       "   operator: 11\n",
       "   operands: 12\n",
       "10. (x -> {forall_{alpha, beta in K} ((alpha * (beta * x)) = ((alpha * beta) * x)) if x in V.)\n",
       "    core type: ExprTuple\n",
       "    sub-expressions: 13\n",
       "11. in_c\n",
       "    core type: Literal\n",
       "    sub-expressions: \n",
       "12. (V, VecSpaces(K))\n",
       "    core type: ExprTuple\n",
       "    sub-expressions: 25, 14\n",
       "13. x -> {forall_{alpha, beta in K} ((alpha * (beta * x)) = ((alpha * beta) * x)) if x in V.\n",
       "    core type: Lambda\n",
       "    parameter: 48\n",
       "    body: 16\n",
       "14. VecSpaces(K)\n",
       "    core type: Operation\n",
       "    operator: 17\n",
       "    operand: 44\n",
       "15. (x)\n",
       "    core type: ExprTuple\n",
       "    sub-expressions: 48\n",
       "16. {forall_{alpha, beta in K} ((alpha * (beta * x)) = ((alpha * beta) * x)) if x in V.\n",
       "    core type: Conditional\n",
       "    value: 19\n",
       "    condition: 20\n",
       "17. VecSpaces\n",
       "    core type: Literal\n",
       "    sub-expressions: \n",
       "18. (K)\n",
       "    core type: ExprTuple\n",
       "    sub-expressions: 44\n",
       "19. forall_{alpha, beta in K} ((alpha * (beta * x)) = ((alpha * beta) * x))\n",
       "    core type: Operation\n",
       "    operator: 21\n",
       "    operand: 24\n",
       "20. x in V\n",
       "    core type: Operation\n",
       "    operator: 40\n",
       "    operands: 23\n",
       "21. forall\n",
       "    core type: Literal\n",
       "    sub-expressions: \n",
       "22. ((alpha, beta) -> {(alpha * (beta * x)) = ((alpha * beta) * x) if alpha in K ,  beta in K.)\n",
       "    core type: ExprTuple\n",
       "    sub-expressions: 24\n",
       "23. (x, V)\n",
       "    core type: ExprTuple\n",
       "    sub-expressions: 48, 25\n",
       "24. (alpha, beta) -> {(alpha * (beta * x)) = ((alpha * beta) * x) if alpha in K ,  beta in K.\n",
       "    core type: Lambda\n",
       "    parameters: 47\\n    body: 26\n",
       "25. V\n",
       "    core type: Variable\n",
       "    sub-expressions: \n",
       "26. {(alpha * (beta * x)) = ((alpha * beta) * x) if alpha in K ,  beta in K.\n",
       "    core type: Conditional\n",
       "    value: 27\n",
       "    condition: 28\n",
       "27. (alpha * (beta * x)) = ((alpha * beta) * x)\n",
       "    core type: Operation\n",
       "    operator: 29\n",
       "    operands: 30\n",
       "28. (alpha in K) and (beta in K)\n",
       "    core type: Operation\n",
       "    operator: 31\n",
       "    operands: 32\n",
       "29. =\n",
       "    core type: Literal\n",
       "    sub-expressions: \n",
       "30. (alpha * (beta * x), (alpha * beta) * x)\n",
       "    core type: ExprTuple\n",
       "    sub-expressions: 33, 34\n",
       "31. and\n",
       "    core type: Literal\n",
       "    sub-expressions: \n",
       "32. (alpha in K, beta in K)\n",
       "    core type: ExprTuple\n",
       "    sub-expressions: 35, 36\n",
       "33. alpha * (beta * x)\n",
       "    core type: Operation\n",
       "    operator: 46\n",
       "    operands: 37\n",
       "34. (alpha * beta) * x\n",
       "    core type: Operation\n",
       "    operator: 46\n",
       "    operands: 38\n",
       "35. alpha in K\n",
       "    core type: Operation\n",
       "    operator: 40\n",
       "    operands: 39\n",
       "36. beta in K\n",
       "    core type: Operation\n",
       "    operator: 40\n",
       "    operands: 41\n",
       "37. (alpha, beta * x)\n",
       "    core type: ExprTuple\n",
       "    sub-expressions: 49, 42\n",
       "38. (alpha * beta, x)\n",
       "    core type: ExprTuple\n",
       "    sub-expressions: 43, 48\n",
       "39. (alpha, K)\n",
       "    core type: ExprTuple\n",
       "    sub-expressions: 49, 44\n",
       "40. in\n",
       "    core type: Literal\n",
       "    sub-expressions: \n",
       "41. (beta, K)\n",
       "    core type: ExprTuple\n",
       "    sub-expressions: 50, 44\n",
       "42. beta * x\n",
       "    core type: Operation\n",
       "    operator: 46\n",
       "    operands: 45\n",
       "43. alpha * beta\n",
       "    core type: Operation\n",
       "    operator: 46\n",
       "    operands: 47\n",
       "44. K\n",
       "    core type: Variable\n",
       "    sub-expressions: \n",
       "45. (beta, x)\n",
       "    core type: ExprTuple\n",
       "    sub-expressions: 50, 48\n",
       "46. *\n",
       "    core type: Literal\n",
       "    sub-expressions: \n",
       "47. (alpha, beta)\n",
       "    core type: ExprTuple\n",
       "    sub-expressions: 49, 50\n",
       "48. x\n",
       "    core type: Variable\n",
       "    sub-expressions: \n",
       "49. alpha\n",
       "    core type: Variable\n",
       "    sub-expressions: \n",
       "50. beta\n",
       "    core type: Variable\n",
       "    sub-expressions: "
      ]
     },
     "metadata": {},
     "output_type": "display_data"
    }
   ],
   "source": [
    "# display the expression information\n",
    "stored_expr.expr_info()"
   ]
  },
  {
   "cell_type": "code",
   "execution_count": null,
   "metadata": {},
   "outputs": [],
   "source": []
  }
 ],
 "metadata": {
  "kernelspec": {
   "display_name": "Python 3",
   "language": "python",
   "name": "python3"
  }
 },
 "nbformat": 4,
 "nbformat_minor": 0
}