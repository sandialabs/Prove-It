{
 "cells": [
  {
   "cell_type": "markdown",
   "metadata": {},
   "source": [
    "Expression of type <a class=\"ProveItLink\" href=\"../../../../../../../doc/html/api/proveit.Lambda.html\">Lambda</a>\n",
    "=======================\n",
    "# from the theory of <a class=\"ProveItLink\" href=\"../../../_theory_nbs_/theory.ipynb\">proveit.linear_algebra.scalar_multiplication</a>"
   ]
  },
  {
   "cell_type": "code",
   "execution_count": 1,
   "metadata": {},
   "outputs": [],
   "source": [
    "import proveit\n",
    "# Automation is not needed when building an expression:\n",
    "proveit.defaults.automation = False # This will speed things up.\n",
    "proveit.defaults.inline_pngs = False # Makes files smaller.\n",
    "%load_expr # Load the stored expression as 'stored_expr'\n",
    "# import Expression classes needed to build the expression\n",
    "from proveit import Conditional, K, Lambda, V, k\n",
    "from proveit.core_expr_types import Q__b_1_to_j, b_1_to_j, f__b_1_to_j\n",
    "from proveit.linear_algebra import ScalarMult, VecSum\n",
    "from proveit.linear_algebra.addition import vec_summation_b1toj_fQ\n",
    "from proveit.logic import Equals, Implies, InSet"
   ]
  },
  {
   "cell_type": "code",
   "execution_count": 2,
   "metadata": {},
   "outputs": [
    {
     "data": {
      "text/html": [
       "<strong id=\"expr\">expr:</strong> <a class=\"ProveItLink\" href=\"expr.ipynb\"><img src=\"expr.png\" style=\"display:inline;vertical-align:middle;\" /></a><br>"
      ],
      "text/plain": [
       "<IPython.core.display.HTML object>"
      ]
     },
     "metadata": {},
     "output_type": "display_data"
    }
   ],
   "source": [
    "# build up the expression from sub-expressions\n",
    "expr = Lambda(k, Conditional(Implies(InSet(vec_summation_b1toj_fQ, V), Equals(VecSum(index_or_indices = [b_1_to_j], summand = ScalarMult(k, f__b_1_to_j), condition = Q__b_1_to_j), ScalarMult(k, vec_summation_b1toj_fQ)).with_wrapping_at(1)).with_wrapping_at(2), InSet(k, K)))"
   ]
  },
  {
   "cell_type": "code",
   "execution_count": 3,
   "metadata": {},
   "outputs": [
    {
     "name": "stdout",
     "output_type": "stream",
     "text": [
      "Passed sanity check: expr matches stored_expr\n"
     ]
    }
   ],
   "source": [
    "# check that the built expression is the same as the stored expression\n",
    "assert expr == stored_expr\n",
    "assert expr._style_id == stored_expr._style_id\n",
    "print(\"Passed sanity check: expr matches stored_expr\")"
   ]
  },
  {
   "cell_type": "code",
   "execution_count": 4,
   "metadata": {},
   "outputs": [
    {
     "name": "stdout",
     "output_type": "stream",
     "text": [
      "k \\mapsto \\left\\{\\begin{array}{c} \\begin{array}{l} \\left(\\left[\\sum_{b_{1}, b_{2}, \\ldots, b_{j}~|~Q\\left(b_{1}, b_{2}, \\ldots, b_{j}\\right)}~f\\left(b_{1}, b_{2}, \\ldots, b_{j}\\right)\\right] \\in V\\right) \\Rightarrow  \\\\ \\left(\\begin{array}{c} \\begin{array}{l} \\left[\\sum_{b_{1}, b_{2}, \\ldots, b_{j}~|~Q\\left(b_{1}, b_{2}, \\ldots, b_{j}\\right)}~\\left(k \\cdot f\\left(b_{1}, b_{2}, \\ldots, b_{j}\\right)\\right)\\right] \\\\  = \\left(k \\cdot \\left[\\sum_{b_{1}, b_{2}, \\ldots, b_{j}~|~Q\\left(b_{1}, b_{2}, \\ldots, b_{j}\\right)}~f\\left(b_{1}, b_{2}, \\ldots, b_{j}\\right)\\right]\\right) \\end{array} \\end{array}\\right) \\end{array} \\end{array} \\textrm{ if } k \\in K\\right..\n"
     ]
    }
   ],
   "source": [
    "# Show the LaTeX representation of the expression for convenience if you need it.\n",
    "print(stored_expr.latex())"
   ]
  },
  {
   "cell_type": "code",
   "execution_count": 5,
   "metadata": {},
   "outputs": [
    {
     "data": {
      "text/html": [
       "no style options"
      ],
      "text/plain": [
       "no style options"
      ]
     },
     "metadata": {},
     "output_type": "display_data"
    }
   ],
   "source": [
    "stored_expr.style_options()"
   ]
  },
  {
   "cell_type": "code",
   "execution_count": 6,
   "metadata": {},
   "outputs": [
    {
     "data": {
      "text/html": [
       "<table><tr><th>&nbsp;</th><th>core type</th><th>sub-expressions</th><th>expression</th></tr>\n",
       "<tr><td>0</td><td>Lambda</td><td>parameter:&nbsp;30<br>body:&nbsp;2<br></td><td><a class=\"ProveItLink\" href=\"expr.ipynb\"><img src=\"expr.png\" style=\"display:inline;vertical-align:middle;\" /></a></td></tr>\n",
       "<tr><td>1</td><td>ExprTuple</td><td>30</td><td><a class=\"ProveItLink\" href=\"../36569ebfbef1eee76da90134ba3a4620a4cb94130/expr.ipynb\"><img src=\"../36569ebfbef1eee76da90134ba3a4620a4cb94130/expr.png\" style=\"display:inline;vertical-align:middle;\" /></a></td></tr>\n",
       "<tr><td>2</td><td>Conditional</td><td>value:&nbsp;3<br>condition:&nbsp;4<br></td><td><a class=\"ProveItLink\" href=\"../551076b6c8bad3559cfbe9276ffaacf495d6097d0/expr.ipynb\"><img src=\"../551076b6c8bad3559cfbe9276ffaacf495d6097d0/expr.png\" style=\"display:inline;vertical-align:middle;\" /></a></td></tr>\n",
       "<tr><td>3</td><td>Operation</td><td>operator:&nbsp;5<br>operands:&nbsp;6<br></td><td><a class=\"ProveItLink\" href=\"../da84263402a2112a7b370c4f6c326fc836265f7f0/expr.ipynb\"><img src=\"../da84263402a2112a7b370c4f6c326fc836265f7f0/expr.png\" style=\"display:inline;vertical-align:middle;\" /></a></td></tr>\n",
       "<tr><td>4</td><td>Operation</td><td>operator:&nbsp;11<br>operands:&nbsp;7<br></td><td><a class=\"ProveItLink\" href=\"../f09eacafef275f9c42e1c1b386ebfc7f707dd1cc0/expr.ipynb\"><img src=\"../f09eacafef275f9c42e1c1b386ebfc7f707dd1cc0/expr.png\" style=\"display:inline;vertical-align:middle;\" /></a></td></tr>\n",
       "<tr><td>5</td><td>Literal</td><td></td><td><a class=\"ProveItLink\" href=\"../../../../../logic/booleans/implication/__pv_it/common/02bdb382575728da8cdbaed545b9096ea7a1bd5b0/expr.ipynb\"><img src=\"../../../../../logic/booleans/implication/__pv_it/common/02bdb382575728da8cdbaed545b9096ea7a1bd5b0/expr.png\" style=\"display:inline;vertical-align:middle;\" /></a></td></tr>\n",
       "<tr><td>6</td><td>ExprTuple</td><td>8, 9</td><td><a class=\"ProveItLink\" href=\"../32d8f61e3af2168348392d7d7ea256c9c91e65530/expr.ipynb\"><img src=\"../32d8f61e3af2168348392d7d7ea256c9c91e65530/expr.png\" style=\"display:inline;vertical-align:middle;\" /></a></td></tr>\n",
       "<tr><td>7</td><td>ExprTuple</td><td>30, 10</td><td><a class=\"ProveItLink\" href=\"../5a29e66745fd2339cdb45cdff02228e98423aed80/expr.ipynb\"><img src=\"../5a29e66745fd2339cdb45cdff02228e98423aed80/expr.png\" style=\"display:inline;vertical-align:middle;\" /></a></td></tr>\n",
       "<tr><td>8</td><td>Operation</td><td>operator:&nbsp;11<br>operands:&nbsp;12<br></td><td><a class=\"ProveItLink\" href=\"../3aa178e9364eb8a6ebe2576bb3dbb729ff07cd220/expr.ipynb\"><img src=\"../3aa178e9364eb8a6ebe2576bb3dbb729ff07cd220/expr.png\" style=\"display:inline;vertical-align:middle;\" /></a></td></tr>\n",
       "<tr><td>9</td><td>Operation</td><td>operator:&nbsp;13<br>operands:&nbsp;14<br></td><td><a class=\"ProveItLink\" href=\"../26feb85cb8d5076ec79311b8a3730bb10ef8264d0/expr.ipynb\"><img src=\"../26feb85cb8d5076ec79311b8a3730bb10ef8264d0/expr.png\" style=\"display:inline;vertical-align:middle;\" /></a></td></tr>\n",
       "<tr><td>10</td><td>Variable</td><td></td><td><a class=\"ProveItLink\" href=\"../../../../../__pv_it/common/1f2ffac7a1dc7c1a4f1fc7348356ae64ea992c790/expr.ipynb\"><img src=\"../../../../../__pv_it/common/1f2ffac7a1dc7c1a4f1fc7348356ae64ea992c790/expr.png\" style=\"display:inline;vertical-align:middle;\" /></a></td></tr>\n",
       "<tr><td>11</td><td>Literal</td><td></td><td><a class=\"ProveItLink\" href=\"../../../../../logic/sets/membership/__pv_it/common/477487d8796864d23d5810f83761435f25167f690/expr.ipynb\"><img src=\"../../../../../logic/sets/membership/__pv_it/common/477487d8796864d23d5810f83761435f25167f690/expr.png\" style=\"display:inline;vertical-align:middle;\" /></a></td></tr>\n",
       "<tr><td>12</td><td>ExprTuple</td><td>21, 15</td><td><a class=\"ProveItLink\" href=\"../fdcdd16314471ffad0e254fb71f188b9c100e93c0/expr.ipynb\"><img src=\"../fdcdd16314471ffad0e254fb71f188b9c100e93c0/expr.png\" style=\"display:inline;vertical-align:middle;\" /></a></td></tr>\n",
       "<tr><td>13</td><td>Literal</td><td></td><td><a class=\"ProveItLink\" href=\"../../../../../logic/equality/__pv_it/common/fb96dc12b2aa8801dda64d0132b396c63d1502bb0/expr.ipynb\"><img src=\"../../../../../logic/equality/__pv_it/common/fb96dc12b2aa8801dda64d0132b396c63d1502bb0/expr.png\" style=\"display:inline;vertical-align:middle;\" /></a></td></tr>\n",
       "<tr><td>14</td><td>ExprTuple</td><td>16, 17</td><td><a class=\"ProveItLink\" href=\"../ae40c391f11e1c65b758188b561760cdb55e55d20/expr.ipynb\"><img src=\"../ae40c391f11e1c65b758188b561760cdb55e55d20/expr.png\" style=\"display:inline;vertical-align:middle;\" /></a></td></tr>\n",
       "<tr><td>15</td><td>Variable</td><td></td><td><a class=\"ProveItLink\" href=\"../../../../../__pv_it/common/6d80eb1398b2335bf9ec427954b851b7094dced50/expr.ipynb\"><img src=\"../../../../../__pv_it/common/6d80eb1398b2335bf9ec427954b851b7094dced50/expr.png\" style=\"display:inline;vertical-align:middle;\" /></a></td></tr>\n",
       "<tr><td>16</td><td>Operation</td><td>operator:&nbsp;23<br>operand:&nbsp;20<br></td><td><a class=\"ProveItLink\" href=\"../795c3fd79bd1703831a484bd8d94df312043e4f90/expr.ipynb\"><img src=\"../795c3fd79bd1703831a484bd8d94df312043e4f90/expr.png\" style=\"display:inline;vertical-align:middle;\" /></a></td></tr>\n",
       "<tr><td>17</td><td>Operation</td><td>operator:&nbsp;27<br>operands:&nbsp;19<br></td><td><a class=\"ProveItLink\" href=\"../8747a457aef47e008211117c329f8f591601f15f0/expr.ipynb\"><img src=\"../8747a457aef47e008211117c329f8f591601f15f0/expr.png\" style=\"display:inline;vertical-align:middle;\" /></a></td></tr>\n",
       "<tr><td>18</td><td>ExprTuple</td><td>20</td><td><a class=\"ProveItLink\" href=\"../c2c70f9368ae8d82ccbf224170d783864e84b6120/expr.ipynb\"><img src=\"../c2c70f9368ae8d82ccbf224170d783864e84b6120/expr.png\" style=\"display:inline;vertical-align:middle;\" /></a></td></tr>\n",
       "<tr><td>19</td><td>ExprTuple</td><td>30, 21</td><td><a class=\"ProveItLink\" href=\"../b7923f496f8a3a8b9f77372ca1243bc87cc6bd730/expr.ipynb\"><img src=\"../b7923f496f8a3a8b9f77372ca1243bc87cc6bd730/expr.png\" style=\"display:inline;vertical-align:middle;\" /></a></td></tr>\n",
       "<tr><td>20</td><td>Lambda</td><td>parameters:&nbsp;35<br>body:&nbsp;22<br></td><td><a class=\"ProveItLink\" href=\"../e8c1d8ee99fb828c7eca7887c3a5f685a1a1d9300/expr.ipynb\"><img src=\"../e8c1d8ee99fb828c7eca7887c3a5f685a1a1d9300/expr.png\" style=\"display:inline;vertical-align:middle;\" /></a></td></tr>\n",
       "<tr><td>21</td><td>Operation</td><td>operator:&nbsp;23<br>operand:&nbsp;26<br></td><td><a class=\"ProveItLink\" href=\"../../../../addition/__pv_it/common/650c8aee4a66c5562ddfeae7da1cb7b6e9c3cc200/expr.ipynb\"><img src=\"../../../../addition/__pv_it/common/650c8aee4a66c5562ddfeae7da1cb7b6e9c3cc200/expr.png\" style=\"display:inline;vertical-align:middle;\" /></a></td></tr>\n",
       "<tr><td>22</td><td>Conditional</td><td>value:&nbsp;25<br>condition:&nbsp;32<br></td><td><a class=\"ProveItLink\" href=\"../f683b258e704bebca3ef9543b654323877974c8d0/expr.ipynb\"><img src=\"../f683b258e704bebca3ef9543b654323877974c8d0/expr.png\" style=\"display:inline;vertical-align:middle;\" /></a></td></tr>\n",
       "<tr><td>23</td><td>Literal</td><td></td><td><a class=\"ProveItLink\" href=\"../../../../addition/__pv_it/common/62f73c830c62efb87627ede5678f282081cd0ce20/expr.ipynb\"><img src=\"../../../../addition/__pv_it/common/62f73c830c62efb87627ede5678f282081cd0ce20/expr.png\" style=\"display:inline;vertical-align:middle;\" /></a></td></tr>\n",
       "<tr><td>24</td><td>ExprTuple</td><td>26</td><td><a class=\"ProveItLink\" href=\"../../../../addition/__pv_it/common/7c35b45e14f1c45c3d0d23ec82c06beb50d683e30/expr.ipynb\"><img src=\"../../../../addition/__pv_it/common/7c35b45e14f1c45c3d0d23ec82c06beb50d683e30/expr.png\" style=\"display:inline;vertical-align:middle;\" /></a></td></tr>\n",
       "<tr><td>25</td><td>Operation</td><td>operator:&nbsp;27<br>operands:&nbsp;28<br></td><td><a class=\"ProveItLink\" href=\"../0d6f61667460465762b56ffdd80338f8846337fd0/expr.ipynb\"><img src=\"../0d6f61667460465762b56ffdd80338f8846337fd0/expr.png\" style=\"display:inline;vertical-align:middle;\" /></a></td></tr>\n",
       "<tr><td>26</td><td>Lambda</td><td>parameters:&nbsp;35<br>body:&nbsp;29<br></td><td><a class=\"ProveItLink\" href=\"../../../../addition/__pv_it/common/375d52c402759a0a55c6ec17438ead86c3cfa39b0/expr.ipynb\"><img src=\"../../../../addition/__pv_it/common/375d52c402759a0a55c6ec17438ead86c3cfa39b0/expr.png\" style=\"display:inline;vertical-align:middle;\" /></a></td></tr>\n",
       "<tr><td>27</td><td>Literal</td><td></td><td><a class=\"ProveItLink\" href=\"../../common/1e364bd471e6a29fcd358dd2d9cd990a1e6fedd40/expr.ipynb\"><img src=\"../../common/1e364bd471e6a29fcd358dd2d9cd990a1e6fedd40/expr.png\" style=\"display:inline;vertical-align:middle;\" /></a></td></tr>\n",
       "<tr><td>28</td><td>ExprTuple</td><td>30, 31</td><td><a class=\"ProveItLink\" href=\"../2e3119bda53f953ddaa5bc5c456cee80548bb1300/expr.ipynb\"><img src=\"../2e3119bda53f953ddaa5bc5c456cee80548bb1300/expr.png\" style=\"display:inline;vertical-align:middle;\" /></a></td></tr>\n",
       "<tr><td>29</td><td>Conditional</td><td>value:&nbsp;31<br>condition:&nbsp;32<br></td><td><a class=\"ProveItLink\" href=\"../../../../addition/__pv_it/common/c30d30e4e0e459941b1bb573339f0be93201971f0/expr.ipynb\"><img src=\"../../../../addition/__pv_it/common/c30d30e4e0e459941b1bb573339f0be93201971f0/expr.png\" style=\"display:inline;vertical-align:middle;\" /></a></td></tr>\n",
       "<tr><td>30</td><td>Variable</td><td></td><td><a class=\"ProveItLink\" href=\"../../../../../__pv_it/common/63b7c64bf9ec7a04ecc396c7a1670f3f12fb59490/expr.ipynb\"><img src=\"../../../../../__pv_it/common/63b7c64bf9ec7a04ecc396c7a1670f3f12fb59490/expr.png\" style=\"display:inline;vertical-align:middle;\" /></a></td></tr>\n",
       "<tr><td>31</td><td>Operation</td><td>operator:&nbsp;33<br>operands:&nbsp;35<br></td><td><a class=\"ProveItLink\" href=\"../../../../../core_expr_types/__pv_it/common/fd1ebedd5ee92927a98e765ed5931e5f5af07def0/expr.ipynb\"><img src=\"../../../../../core_expr_types/__pv_it/common/fd1ebedd5ee92927a98e765ed5931e5f5af07def0/expr.png\" style=\"display:inline;vertical-align:middle;\" /></a></td></tr>\n",
       "<tr><td>32</td><td>Operation</td><td>operator:&nbsp;34<br>operands:&nbsp;35<br></td><td><a class=\"ProveItLink\" href=\"../../../../../core_expr_types/__pv_it/common/ce93228f195e2de336a01c57f6c6d5270f39878b0/expr.ipynb\"><img src=\"../../../../../core_expr_types/__pv_it/common/ce93228f195e2de336a01c57f6c6d5270f39878b0/expr.png\" style=\"display:inline;vertical-align:middle;\" /></a></td></tr>\n",
       "<tr><td>33</td><td>Variable</td><td></td><td><a class=\"ProveItLink\" href=\"../../../../../__pv_it/common/01b6dbb444a31fc38af4c2379badef6c75b363710/expr.ipynb\"><img src=\"../../../../../__pv_it/common/01b6dbb444a31fc38af4c2379badef6c75b363710/expr.png\" style=\"display:inline;vertical-align:middle;\" /></a></td></tr>\n",
       "<tr><td>34</td><td>Variable</td><td></td><td><a class=\"ProveItLink\" href=\"../../../../../__pv_it/common/d72bb8b07403efe79afab564c36a28e21330e5f90/expr.ipynb\"><img src=\"../../../../../__pv_it/common/d72bb8b07403efe79afab564c36a28e21330e5f90/expr.png\" style=\"display:inline;vertical-align:middle;\" /></a></td></tr>\n",
       "<tr><td>35</td><td>ExprTuple</td><td>36</td><td><a class=\"ProveItLink\" href=\"../../../../../core_expr_types/__pv_it/common/55246c75782800bb2a6180a2cbd1b56cd87bef540/expr.ipynb\"><img src=\"../../../../../core_expr_types/__pv_it/common/55246c75782800bb2a6180a2cbd1b56cd87bef540/expr.png\" style=\"display:inline;vertical-align:middle;\" /></a></td></tr>\n",
       "<tr><td>36</td><td>ExprRange</td><td>lambda_map:&nbsp;37<br>start_index:&nbsp;38<br>end_index:&nbsp;39<br></td><td><a class=\"ProveItLink\" href=\"../../../../../core_expr_types/__pv_it/common/d0e70829681f7e0560cecc174fdf76cb311d43400/expr.ipynb\"><img src=\"../../../../../core_expr_types/__pv_it/common/d0e70829681f7e0560cecc174fdf76cb311d43400/expr.png\" style=\"display:inline;vertical-align:middle;\" /></a></td></tr>\n",
       "<tr><td>37</td><td>Lambda</td><td>parameter:&nbsp;43<br>body:&nbsp;40<br></td><td><a class=\"ProveItLink\" href=\"../../../../../core_expr_types/__pv_it/common/d763764ede9c88a33f4b750791da02d1a21cb6820/expr.ipynb\"><img src=\"../../../../../core_expr_types/__pv_it/common/d763764ede9c88a33f4b750791da02d1a21cb6820/expr.png\" style=\"display:inline;vertical-align:middle;\" /></a></td></tr>\n",
       "<tr><td>38</td><td>Literal</td><td></td><td><a class=\"ProveItLink\" href=\"../../../../../numbers/numerals/__pv_it/common/682157d4892d216d9e5626ed533aff9b56b9506e0/expr.ipynb\"><img src=\"../../../../../numbers/numerals/__pv_it/common/682157d4892d216d9e5626ed533aff9b56b9506e0/expr.png\" style=\"display:inline;vertical-align:middle;\" /></a></td></tr>\n",
       "<tr><td>39</td><td>Variable</td><td></td><td><a class=\"ProveItLink\" href=\"../../../../../__pv_it/common/1ed21df18baca2f42b561a7ffbf30a2743d594650/expr.ipynb\"><img src=\"../../../../../__pv_it/common/1ed21df18baca2f42b561a7ffbf30a2743d594650/expr.png\" style=\"display:inline;vertical-align:middle;\" /></a></td></tr>\n",
       "<tr><td>40</td><td>IndexedVar</td><td>variable:&nbsp;41<br>index:&nbsp;43<br></td><td><a class=\"ProveItLink\" href=\"../../../../../core_expr_types/__pv_it/common/8542342c36565a593724a99f9c08d995c1c21af20/expr.ipynb\"><img src=\"../../../../../core_expr_types/__pv_it/common/8542342c36565a593724a99f9c08d995c1c21af20/expr.png\" style=\"display:inline;vertical-align:middle;\" /></a></td></tr>\n",
       "<tr><td>41</td><td>Variable</td><td></td><td><a class=\"ProveItLink\" href=\"../../../../../__pv_it/common/195236b98c6c564a75b5dbada74b173bc52d5c3e0/expr.ipynb\"><img src=\"../../../../../__pv_it/common/195236b98c6c564a75b5dbada74b173bc52d5c3e0/expr.png\" style=\"display:inline;vertical-align:middle;\" /></a></td></tr>\n",
       "<tr><td>42</td><td>ExprTuple</td><td>43</td><td><a class=\"ProveItLink\" href=\"../../../../../core_expr_types/__pv_it/common/4b0dd6be36d76552eda6a95d5b4a27f5a5b62f900/expr.ipynb\"><img src=\"../../../../../core_expr_types/__pv_it/common/4b0dd6be36d76552eda6a95d5b4a27f5a5b62f900/expr.png\" style=\"display:inline;vertical-align:middle;\" /></a></td></tr>\n",
       "<tr><td>43</td><td>Variable</td><td></td><td><a class=\"ProveItLink\" href=\"../../../../../core_expr_types/__pv_it/common/006c465e50948aa2b52285e2de47974f741255cc0/expr.ipynb\"><img src=\"../../../../../core_expr_types/__pv_it/common/006c465e50948aa2b52285e2de47974f741255cc0/expr.png\" style=\"display:inline;vertical-align:middle;\" /></a></td></tr>\n",
       "</table>\n"
      ],
      "text/plain": [
       "0. k -> {([Sum_{b_{1}, b_{2}, ..., b_{j} | Q(b_{1}, b_{2}, ..., b_{j})} f(b_{1}, b_{2}, ..., b_{j})] in V) =>  \\\\ ([Sum_{b_{1}, b_{2}, ..., b_{j} | Q(b_{1}, b_{2}, ..., b_{j})} (k * f(b_{1}, b_{2}, ..., b_{j}))] \\\\  = (k * [Sum_{b_{1}, b_{2}, ..., b_{j} | Q(b_{1}, b_{2}, ..., b_{j})} f(b_{1}, b_{2}, ..., b_{j})])) if k in K.\n",
       "   core type: Lambda\n",
       "   parameter: 30\n",
       "   body: 2\n",
       "1. (k)\n",
       "   core type: ExprTuple\n",
       "   sub-expressions: 30\n",
       "2. {([Sum_{b_{1}, b_{2}, ..., b_{j} | Q(b_{1}, b_{2}, ..., b_{j})} f(b_{1}, b_{2}, ..., b_{j})] in V) =>  \\\\ ([Sum_{b_{1}, b_{2}, ..., b_{j} | Q(b_{1}, b_{2}, ..., b_{j})} (k * f(b_{1}, b_{2}, ..., b_{j}))] \\\\  = (k * [Sum_{b_{1}, b_{2}, ..., b_{j} | Q(b_{1}, b_{2}, ..., b_{j})} f(b_{1}, b_{2}, ..., b_{j})])) if k in K.\n",
       "   core type: Conditional\n",
       "   value: 3\n",
       "   condition: 4\n",
       "3. ([Sum_{b_{1}, b_{2}, ..., b_{j} | Q(b_{1}, b_{2}, ..., b_{j})} f(b_{1}, b_{2}, ..., b_{j})] in V) =>  \\\\ ([Sum_{b_{1}, b_{2}, ..., b_{j} | Q(b_{1}, b_{2}, ..., b_{j})} (k * f(b_{1}, b_{2}, ..., b_{j}))] \\\\  = (k * [Sum_{b_{1}, b_{2}, ..., b_{j} | Q(b_{1}, b_{2}, ..., b_{j})} f(b_{1}, b_{2}, ..., b_{j})]))\n",
       "   core type: Operation\n",
       "   operator: 5\n",
       "   operands: 6\n",
       "4. k in K\n",
       "   core type: Operation\n",
       "   operator: 11\n",
       "   operands: 7\n",
       "5. =>\n",
       "   core type: Literal\n",
       "   sub-expressions: \n",
       "6. ([Sum_{b_{1}, b_{2}, ..., b_{j} | Q(b_{1}, b_{2}, ..., b_{j})} f(b_{1}, b_{2}, ..., b_{j})] in V, [Sum_{b_{1}, b_{2}, ..., b_{j} | Q(b_{1}, b_{2}, ..., b_{j})} (k * f(b_{1}, b_{2}, ..., b_{j}))] \\\\  = (k * [Sum_{b_{1}, b_{2}, ..., b_{j} | Q(b_{1}, b_{2}, ..., b_{j})} f(b_{1}, b_{2}, ..., b_{j})]))\n",
       "   core type: ExprTuple\n",
       "   sub-expressions: 8, 9\n",
       "7. (k, K)\n",
       "   core type: ExprTuple\n",
       "   sub-expressions: 30, 10\n",
       "8. [Sum_{b_{1}, b_{2}, ..., b_{j} | Q(b_{1}, b_{2}, ..., b_{j})} f(b_{1}, b_{2}, ..., b_{j})] in V\n",
       "   core type: Operation\n",
       "   operator: 11\n",
       "   operands: 12\n",
       "9. [Sum_{b_{1}, b_{2}, ..., b_{j} | Q(b_{1}, b_{2}, ..., b_{j})} (k * f(b_{1}, b_{2}, ..., b_{j}))] \\\\  = (k * [Sum_{b_{1}, b_{2}, ..., b_{j} | Q(b_{1}, b_{2}, ..., b_{j})} f(b_{1}, b_{2}, ..., b_{j})])\n",
       "   core type: Operation\n",
       "   operator: 13\n",
       "   operands: 14\n",
       "10. K\n",
       "    core type: Variable\n",
       "    sub-expressions: \n",
       "11. in\n",
       "    core type: Literal\n",
       "    sub-expressions: \n",
       "12. (Sum_{b_{1}, b_{2}, ..., b_{j} | Q(b_{1}, b_{2}, ..., b_{j})} f(b_{1}, b_{2}, ..., b_{j}), V)\n",
       "    core type: ExprTuple\n",
       "    sub-expressions: 21, 15\n",
       "13. =\n",
       "    core type: Literal\n",
       "    sub-expressions: \n",
       "14. (Sum_{b_{1}, b_{2}, ..., b_{j} | Q(b_{1}, b_{2}, ..., b_{j})} (k * f(b_{1}, b_{2}, ..., b_{j})), k * [Sum_{b_{1}, b_{2}, ..., b_{j} | Q(b_{1}, b_{2}, ..., b_{j})} f(b_{1}, b_{2}, ..., b_{j})])\n",
       "    core type: ExprTuple\n",
       "    sub-expressions: 16, 17\n",
       "15. V\n",
       "    core type: Variable\n",
       "    sub-expressions: \n",
       "16. Sum_{b_{1}, b_{2}, ..., b_{j} | Q(b_{1}, b_{2}, ..., b_{j})} (k * f(b_{1}, b_{2}, ..., b_{j}))\n",
       "    core type: Operation\n",
       "    operator: 23\n",
       "    operand: 20\n",
       "17. k * [Sum_{b_{1}, b_{2}, ..., b_{j} | Q(b_{1}, b_{2}, ..., b_{j})} f(b_{1}, b_{2}, ..., b_{j})]\n",
       "    core type: Operation\n",
       "    operator: 27\n",
       "    operands: 19\n",
       "18. ((b_{1}, b_{2}, ..., b_{j}) -> {k * f(b_{1}, b_{2}, ..., b_{j}) if Q(b_{1}, b_{2}, ..., b_{j}).)\n",
       "    core type: ExprTuple\n",
       "    sub-expressions: 20\n",
       "19. (k, Sum_{b_{1}, b_{2}, ..., b_{j} | Q(b_{1}, b_{2}, ..., b_{j})} f(b_{1}, b_{2}, ..., b_{j}))\n",
       "    core type: ExprTuple\n",
       "    sub-expressions: 30, 21\n",
       "20. (b_{1}, b_{2}, ..., b_{j}) -> {k * f(b_{1}, b_{2}, ..., b_{j}) if Q(b_{1}, b_{2}, ..., b_{j}).\n",
       "    core type: Lambda\n",
       "    parameters: 35\\n    body: 22\n",
       "21. Sum_{b_{1}, b_{2}, ..., b_{j} | Q(b_{1}, b_{2}, ..., b_{j})} f(b_{1}, b_{2}, ..., b_{j})\n",
       "    core type: Operation\n",
       "    operator: 23\n",
       "    operand: 26\n",
       "22. {k * f(b_{1}, b_{2}, ..., b_{j}) if Q(b_{1}, b_{2}, ..., b_{j}).\n",
       "    core type: Conditional\n",
       "    value: 25\n",
       "    condition: 32\n",
       "23. Sum\n",
       "    core type: Literal\n",
       "    sub-expressions: \n",
       "24. ((b_{1}, b_{2}, ..., b_{j}) -> {f(b_{1}, b_{2}, ..., b_{j}) if Q(b_{1}, b_{2}, ..., b_{j}).)\n",
       "    core type: ExprTuple\n",
       "    sub-expressions: 26\n",
       "25. k * f(b_{1}, b_{2}, ..., b_{j})\n",
       "    core type: Operation\n",
       "    operator: 27\n",
       "    operands: 28\n",
       "26. (b_{1}, b_{2}, ..., b_{j}) -> {f(b_{1}, b_{2}, ..., b_{j}) if Q(b_{1}, b_{2}, ..., b_{j}).\n",
       "    core type: Lambda\n",
       "    parameters: 35\\n    body: 29\n",
       "27. *\n",
       "    core type: Literal\n",
       "    sub-expressions: \n",
       "28. (k, f(b_{1}, b_{2}, ..., b_{j}))\n",
       "    core type: ExprTuple\n",
       "    sub-expressions: 30, 31\n",
       "29. {f(b_{1}, b_{2}, ..., b_{j}) if Q(b_{1}, b_{2}, ..., b_{j}).\n",
       "    core type: Conditional\n",
       "    value: 31\n",
       "    condition: 32\n",
       "30. k\n",
       "    core type: Variable\n",
       "    sub-expressions: \n",
       "31. f(b_{1}, b_{2}, ..., b_{j})\n",
       "    core type: Operation\n",
       "    operator: 33\n",
       "    operands: 35\n",
       "32. Q(b_{1}, b_{2}, ..., b_{j})\n",
       "    core type: Operation\n",
       "    operator: 34\n",
       "    operands: 35\n",
       "33. f\n",
       "    core type: Variable\n",
       "    sub-expressions: \n",
       "34. Q\n",
       "    core type: Variable\n",
       "    sub-expressions: \n",
       "35. (b_{1}, b_{2}, ..., b_{j})\n",
       "    core type: ExprTuple\n",
       "    sub-expressions: 36\n",
       "36. b_{1}, b_{2}, ..., b_{j}\n",
       "    core type: ExprRange\n",
       "    lambda_map: 37\n",
       "    start_index: 38\n",
       "    end_index: 39\n",
       "37. _a -> b_{_a}\n",
       "    core type: Lambda\n",
       "    parameter: 43\n",
       "    body: 40\n",
       "38. 1\n",
       "    core type: Literal\n",
       "    sub-expressions: \n",
       "39. j\n",
       "    core type: Variable\n",
       "    sub-expressions: \n",
       "40. b_{_a}\n",
       "    core type: IndexedVar\n",
       "variable: 41\n",
       "index: 43\n",
       "41. b\n",
       "    core type: Variable\n",
       "    sub-expressions: \n",
       "42. (_a)\n",
       "    core type: ExprTuple\n",
       "    sub-expressions: 43\n",
       "43. _a\n",
       "    core type: Variable\n",
       "    sub-expressions: "
      ]
     },
     "metadata": {},
     "output_type": "display_data"
    }
   ],
   "source": [
    "# display the expression information\n",
    "stored_expr.expr_info()"
   ]
  },
  {
   "cell_type": "code",
   "execution_count": null,
   "metadata": {},
   "outputs": [],
   "source": []
  }
 ],
 "metadata": {
  "kernelspec": {
   "display_name": "Python 3",
   "language": "python",
   "name": "python3"
  }
 },
 "nbformat": 4,
 "nbformat_minor": 0
}