{
 "cells": [
  {
   "cell_type": "markdown",
   "metadata": {},
   "source": [
    "Proof of <a class=\"ProveItLink\" href=\"../../../../../_theory_nbs_/theory.ipynb\">proveit</a>.<a class=\"ProveItLink\" href=\"../../../../_theory_nbs_/theory.ipynb\">linear_algebra</a>.<a class=\"ProveItLink\" href=\"../../theory.ipynb\">scalar_multiplication</a>.<a class=\"ProveItLink\" href=\"../../theorems.ipynb#scalar_mult_closure\">scalar_mult_closure</a> theorem\n",
    "========"
   ]
  },
  {
   "cell_type": "code",
   "execution_count": 1,
   "metadata": {},
   "outputs": [],
   "source": [
    "import proveit\n",
    "theory = proveit.Theory() # the theorem's theory"
   ]
  },
  {
   "cell_type": "code",
   "execution_count": 2,
   "metadata": {},
   "outputs": [
    {
     "data": {
      "text/html": [
       "With these <a href=\"allowed_presumptions.txt\">allowed</a>/<a href=\"disallowed_presumptions.txt\">disallowed</a> theorem/theory presumptions (e.g., to avoid circular dependencies), we begin our proof of<br><strong id=\"scalar_mult_closure\">scalar_mult_closure:</strong> <a class=\"ProveItLink\" href=\"../../../__pv_it/theorems/94ae2d0bfeb4459a12af4268d0b733786881d4240/expr.ipynb\"><img src=\"data:image/png;base64,iVBORw0KGgoAAAANSUhEUgAAAcYAAAAzBAMAAAD/ZLUEAAAAMFBMVEX///8AAAAAAAAAAAAAAAAA\n",
       "AAAAAAAAAAAAAAAAAAAAAAAAAAAAAAAAAAAAAAAAAAAv3aB7AAAAD3RSTlMAq1RmmUTNIjK7EInv\n",
       "3XZ/CtNrAAAACXBIWXMAAA7EAAAOxAGVKw4bAAAGC0lEQVRo3u2af4gUZRjHn9tf82N3x4P+KP0j\n",
       "N5KCMFs87YeablkpxOmU9IcJtf0VRdiIIJimW/9EKO4VHLiG3gQReEa3eIp42rFRECLV/SFldcuN\n",
       "poherkd6XXrk9TzzzszOzrybSy5h67zsszvzfmfueT/v+7zP+85wALwi9/bq0Bqlt7eXLySnpjIt\n",
       "wtgzdbUOowqtUx4LGAPGgDFgDBgDxoAxYAwYA8bbnvHiyZvTQbDMV7R6d6CglHP4+a8YD96kDqct\n",
       "85WX6t1BQlylDzK2U829fsY2+g2lm8TI9dKwHioy8xfF00DlzaspEEdOmILD+DRJr/oZIzSUMa1J\n",
       "jFwvDeufWsYpr3vO+7L49RwTHMZ3KNS7/Iwide3GZsUq10vD+lLLOGWe5zxRwq92JjiMMR1PUpz5\n",
       "SD20v1mMXC8N6yXLOCWhsxjdXf7BPIiN4UmOCQ5jGAM3xss5HfibbRYj10ujeijLjFdi5oSMrtWt\n",
       "87YJgE2W4DDCt+XycR5jolweLjYtr/K8NKpHisxg3eAWp1KuzNiGYRY3s9UGGxHi4yxUSagyLgfY\n",
       "xWOM5EDSm8bI89KoTmNFFv0GepwWReCU0QkQztZmq/BlCJsLHwpVxnUgIHh05pMQ+9rNiLXr/g1Q\n",
       "yM7FipuBeamWGn9+PYwhFDqWs1qTYvZZGjqdKx6BJfod6M2cp9VAjk6yUCWhyijpdAC/AazRa/YA\n",
       "u8j34xhBs3dazeoGsWxYl1RGt/EZ52PuvpKCNzKQcTFaXqiIpwpqrT+OfhQ72Z4pCZXZSoBfKEr/\n",
       "oMocPGNePEZfGOnln1gIX2WhSkKVMWSYk/0DUNTafc4c6p54ic3hHdO7IYFOz9mhkoMnuIgyulBK\n",
       "EB1ABhej5YXKUzmvP47+EKZF8DAeA3mczk+w6u/MjqdxlF2rzl8sVEmoMkJ2MdVdFgY8e7lYGMcs\n",
       "dA2ApvxyCr4x85j5BbYT8icIvFVqh7P0B1zjxLzsW3zI3pq4/Tl6ZdkZjelbVYxGqIlV+TqEx1zR\n",
       "PgG92L4hOh6qVo/ss6bMkJtxP62E4sQiw8MYvw/bKIxDGCfYr6xdEMpBfwWUwTtjM0AQdi8+oAv9\n",
       "uEcZPaVR/emFaUjiddPSmwjPWfAOWl7kH8UJ2MtCye3P1hVteizF9GmG4GzTJMM0+Xdoy95vh0t3\n",
       "W4k6PGwOYaXa9B5rTFFwMW6mAFYmN5U8jMKXdHgd1jvB0InZLJaKpA/As8LICRXympJtKya0eCZS\n",
       "xPr5RcGADXhdfr0ZR6GMi4G8RDJiCVaxhOT2Z+th2CNaeqzdCVVzfSDbAw9m7D8Z+vOTUjRlrSnY\n",
       "KOfilaqz4LgY2yj+pS447n3uuIu+XqHeirI+3aq+C3mI7pqAtzAzXIftAOOCJqX7NEHH+p1XHgBY\n",
       "jdddOnTUjKYuFwN5SahKOzxcKBRStf5sHQBXcKZHhi44sjjE7OPR9+7O2eO4wpg112mpPP1F7+Yu\n",
       "qboZWWyk4ZLOe7bqVLA6/Fqh8CF1RBEWdXS8gLNCxtEixq9g9KLxMl6H9erqKRXuweOCmZ5A7PI8\n",
       "O/Vp0gJ9m9+f82wllgRgenjctbM7aRmnvG1NzsPWXs4teBnzGmuXj3HJ8+SbSdFxA8lAuGYmnKQ5\n",
       "jsm0dGGrTsQg6rjwvm/OW+WaN1bNRKXlV+lsY1Hjz9Y3x7MRa+MhXvFsvOfV367XEzyMSs8AzJ7k\n",
       "MebNhlp7kGEdpLRsfASfT1Nx2c7rSlefnqxIRdnA+tMZ6KKcg4nFDETF8DBEl87pB2Gnz5+tR84O\n",
       "XmA6wM+u9koaM84LgnrPKiR4x7Hue4Ck2a0b2TyYhXakAvFBI7LmSBHyc8+AsvTRtVSHFlqxUKO2\n",
       "nJ/UQ98XXc2qfc7fVyio//QewK9TypO5NFK9B1wSGma0vBwudPsv2865NVqN+L32wRc3eF9zIx22\n",
       "WOYr5+rdgYIyrOLnZt/n5HmVyzhH/9/3csJM3rNX3E6XYbUFGOsUm1EO3iHfeow7FrY8o9gutTyj\n",
       "lGv9WE3qcsszRvs7Wj/n3A55NWAMGG9RxgUt9D+65+swttT/6P4N3AzlFWYagDcAAAAASUVORK5C\n",
       "YII=\n",
       "\" style=\"display:inline;vertical-align:middle;\" /></a><br>(see <a class=\"ProveItLink\" href=\"../../../__pv_it/theorems/aea32babfefc5864e1bf23162c1231ace062d2a10/dependencies.ipynb\">dependencies</a>)<br>"
      ],
      "text/plain": [
       "<IPython.core.display.HTML object>"
      ]
     },
     "metadata": {},
     "output_type": "display_data"
    }
   ],
   "source": [
    "%proving scalar_mult_closure"
   ]
  },
  {
   "cell_type": "code",
   "execution_count": null,
   "metadata": {},
   "outputs": [],
   "source": []
  }
 ],
 "metadata": {
  "kernelspec": {
   "display_name": "Python 3",
   "language": "python",
   "name": "python3"
  }
 },
 "nbformat": 4,
 "nbformat_minor": 0
}