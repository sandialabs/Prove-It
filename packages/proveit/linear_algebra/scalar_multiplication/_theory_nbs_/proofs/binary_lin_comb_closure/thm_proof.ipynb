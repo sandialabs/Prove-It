{
 "cells": [
  {
   "cell_type": "markdown",
   "metadata": {},
   "source": [
    "Proof of <a class=\"ProveItLink\" href=\"../../../../../_theory_nbs_/theory.ipynb\">proveit</a>.<a class=\"ProveItLink\" href=\"../../../../_theory_nbs_/theory.ipynb\">linear_algebra</a>.<a class=\"ProveItLink\" href=\"../../theory.ipynb\">scalar_multiplication</a>.<a class=\"ProveItLink\" href=\"../../theorems.ipynb#binary_lin_comb_closure\">binary_lin_comb_closure</a> theorem\n",
    "========"
   ]
  },
  {
   "cell_type": "code",
   "execution_count": 1,
   "metadata": {},
   "outputs": [],
   "source": [
    "import proveit\n",
    "theory = proveit.Theory() # the theorem's theory"
   ]
  },
  {
   "cell_type": "code",
   "execution_count": 2,
   "metadata": {},
   "outputs": [
    {
     "data": {
      "text/html": [
       "With these <a href=\"allowed_presumptions.txt\">allowed</a>/<a href=\"disallowed_presumptions.txt\">disallowed</a> theorem/theory presumptions (e.g., to avoid circular dependencies), we begin our proof of<br><strong id=\"binary_lin_comb_closure\">binary_lin_comb_closure:</strong> <a class=\"ProveItLink\" href=\"../../../__pv_it/theorems/b0b807c232c75fbda21684f0e51d29f740e8bbce0/expr.ipynb\"><img src=\"data:image/png;base64,iVBORw0KGgoAAAANSUhEUgAAAj0AAAAzBAMAAACOKqRrAAAAMFBMVEX///8AAAAAAAAAAAAAAAAA\n",
       "AAAAAAAAAAAAAAAAAAAAAAAAAAAAAAAAAAAAAAAAAAAv3aB7AAAAD3RSTlMAq1RmmUTNIjK7EInv\n",
       "3XZ/CtNrAAAACXBIWXMAAA7EAAAOxAGVKw4bAAAHmElEQVRo3u2ba4wTVRTHTx/T6Uzb2Y1+UCCB\n",
       "JhJMFDYNiw8eLsWVR0KAIpGEkLAFPxiM0RI+8RAqX/zAShfNBooCs4kxAgYqD4mLbKpoxKCIBiNR\n",
       "GmYRQgBZNsKywEbWe+be6bxuV1wbQ2Ruerezc/6dc+/v3nNfTQF4Sd65U4X7PlWmEOvvT3p8pP7+\n",
       "lgp8Uh4dTAGPj8fH4+Px8fh4fDw+Hh+Pj8fH4+Px8fh4fO4fPldOVU8FkGFZrGS8u1uZAZ6vlLLk\n",
       "9Z/xOVBFFShxmuEsz7qIq+epFlVygIZICl/IpxZvPeLm48N3f6JKfLheBqWCx1n2F7j0Em69/N4J\n",
       "jsqpVF67FYfwmZO6weQzFW0vufkEsQuFMlXiw/UyKJWcphk+4Ntf5uhDSZ7KqdyDT51LDSafNzCS\n",
       "W9x8wtiYK6oVX1wvg1IFEzRDI98+jr3Ps+hr4jzVOMe9aJH8qaUGk09IJf/FOeMP4t1bLT5cL4NS\n",
       "RVmGYgW7St/rLPomlacylBdLJew5EOomQZalRpNPgPAN8cbnevKerhYfrpdBqUax7K9QtlDCzge1\n",
       "h7kqppx/id3z9QKsYkaTD3xXKh3j8YmWSqcLVZu/eF4GpZrJchDLtqxjjTnQdA1dT/p7pNbOB7WL\n",
       "ux4oq84loI2qqFIsD0ORHhpeaLDwmQGwhccnmAVJHQSMR8sTgrXmPC9uPnehepFlbH3ha9heLmIQ\n",
       "OrVZpEppOx+ilW+oe4yJJuIvwmSqokpzCgpcg4C+riEGC59lIBJqwohnIfSllQ+5uwzgGdKeozfr\n",
       "N4URrRAuaUzSdXk9f8lJPjr3ehxeSULSUnPqhabwUuPK5tWhMpOlDAA/shwj49RHCZhVVj0Fk9UH\n",
       "SdwV7XyI1n8bokax1wVPwBCqokoznoU+Gl5osPCRVLyC3wEWqrb14RYscaRIg3LDkFaIki59wWit\n",
       "LEzh8mnDnlMEoZ08z8KHeaFpGELqzKfsXp0qPaFfowx6+orlKBHOAfgVY+YGGrIwTYdPRlmYVSp9\n",
       "Wyr9wPTBNNQU2PytElLHqUpXQnOJJH3OlG/R8EKDhY9f0xFuBCVlXz/X4fBM2AN5dnAGVrtbvzam\n",
       "BR+XD65hpFo4j01jqTnzQtNRkp/LOr06VXozoF9WBjefb0DuwXsnqem43gsc/YdoYwVoIr0tpvfn\n",
       "JjV8k6qocofp7E8aXmiw8IF0A968JrY79hehAOmUYg8ESIT+pt++Bv4s7OsCpeOh0FAQxa0N+1Vx\n",
       "HyFyuTMTadDg7MQE4FK1JrEK0ZSn6gOGl10NB7F97nSqbPVq9VpWdU0/R1wKnaQFdL+sDK74ku9A\n",
       "oNsstNALOwnME674IsufOeXQmIa9W1dRZcx8wJld9J0YrHz24gge7p2kOfhERuFD78By0vXoom0W\n",
       "GQRD8WBiP8wUz5xMQS6jpH2FaCaSDBaWQKNQEDURO3Fuud6U/qSl5uhF/jnci/3wFyVJm83m1VAp\n",
       "mSEhQnZ3jdrM/OplYGkby5IG8h/gSxvTgdzqK2IvM7aUdaa+JisfKX9+I/ZuXUWVilmA7S3lXbuV\n",
       "z2qMOqVvVdHBR/wcLxejU4G29trUOsiBsKUXVpLx4w40A/SIGSmxJyN+2A0LwtcfAwGfePXgZ3qD\n",
       "tlhqjl6CyTA6kRKBNF3e2rwaqgBsC5PLlWPgIvO72Awv+JhlnJ23wZik0Qb+m+8XhTib9y18iNaX\n",
       "kMwNxhRoSlAVUy4pm+awUCcGKx8fjgRSCxxz7t8f1vuMQnpRYGk+/zaKCjCpvv4F0qll0kuQzxG4\n",
       "fEVrIooj9U/Agv6UH2Hn9aEcwlY+6CWaUtAczQZrn8zn83G7V0MF0MtG8eHMr14Glt5iOUyio+3y\n",
       "m8OzRv+ZrY0cazl6qDP18jDLXqStY06GqpiyrVV1bE1iKRsfPdUk4KrKO9+Y/DwWhqIWejRCBcTb\n",
       "+uAc0/tPLCFdWqvSCUENpHUm10C57YwvfQeYkSYQJzUQja93ey2fb4SL+tHOT3CU+dXLYBQtSzNU\n",
       "OC16Hex8Ylmn4hOmMpQLt5bSzke4+OQytM1dfHJ6Jdmq7bRKgkPW3iWDQ4osVnKq0rJHjXVJBVl7\n",
       "B3YTHi04PuMgc8wa2kbNo5ncPHUXxNTxbOlp82qoVkfSQSBD5Smhm/nNWfbfgSTNru0lS42O/WnA\n",
       "vnePpOUvmKqx0hK00c1H2d4Oo/t4fGJ6RVbQVhhJ8qEuiHRowYWHCpAbew6UxqdfZff8sydmYBPZ\n",
       "8PWp/u9JtaWMo+ZCY90+aI6HZ2sgbnZ5NVTB8x2XiApGjk8zvzHrOn4TyxL37MW9/d9k3xlovgJV\n",
       "VTwoQIOr//zN+aH8ab7VLWvmfHShebmDfzJIZ/1d+XxqoPPDuEwGfp7fHSzL3LK7qe2w/edvmMpU\n",
       "UqWzLTT8Uz78lOOdz5hupxsXh61jhVBpU+dQ+bT5/ObVaIY1POsFrp6nulCpVsSgnE6R17/lI47g\n",
       "7e/brTsx3gbt7r45AKGhSqcH99j3F7Lrwvt+5/+a7p7PhokenwH4hGslj88AfKSsF18D8Ympssdn\n",
       "AD7CvnqPjzd/eXw8Ph6fe4DPBO/3cfj7uN2V+Hi/jwP6+7i/AEcVZGMWHqoCAAAAAElFTkSuQmCC\n",
       "\" style=\"display:inline;vertical-align:middle;\" /></a><br>(see <a class=\"ProveItLink\" href=\"../../../__pv_it/theorems/c7f7b54bb5972f1b54793c27e3c948536fedd7700/dependencies.ipynb\">dependencies</a>)<br>"
      ],
      "text/plain": [
       "<IPython.core.display.HTML object>"
      ]
     },
     "metadata": {},
     "output_type": "display_data"
    }
   ],
   "source": [
    "%proving binary_lin_comb_closure"
   ]
  },
  {
   "cell_type": "code",
   "execution_count": null,
   "metadata": {},
   "outputs": [],
   "source": []
  }
 ],
 "metadata": {
  "kernelspec": {
   "display_name": "Python 3",
   "language": "python",
   "name": "python3"
  }
 },
 "nbformat": 4,
 "nbformat_minor": 0
}