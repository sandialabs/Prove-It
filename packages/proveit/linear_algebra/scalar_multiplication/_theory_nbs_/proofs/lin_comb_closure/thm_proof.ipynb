{
 "cells": [
  {
   "cell_type": "markdown",
   "metadata": {},
   "source": [
    "Proof of <a class=\"ProveItLink\" href=\"../../../../../_theory_nbs_/theory.ipynb\">proveit</a>.<a class=\"ProveItLink\" href=\"../../../../_theory_nbs_/theory.ipynb\">linear_algebra</a>.<a class=\"ProveItLink\" href=\"../../theory.ipynb\">scalar_multiplication</a>.<a class=\"ProveItLink\" href=\"../../theorems.ipynb#lin_comb_closure\">lin_comb_closure</a> theorem\n",
    "========"
   ]
  },
  {
   "cell_type": "code",
   "execution_count": 1,
   "metadata": {},
   "outputs": [],
   "source": [
    "import proveit\n",
    "theory = proveit.Theory() # the theorem's theory"
   ]
  },
  {
   "cell_type": "code",
   "execution_count": 2,
   "metadata": {},
   "outputs": [
    {
     "data": {
      "text/html": [
       "With these <a href=\"allowed_presumptions.txt\">allowed</a>/<a href=\"disallowed_presumptions.txt\">disallowed</a> theorem/theory presumptions (e.g., to avoid circular dependencies), we begin our proof of<br><strong id=\"lin_comb_closure\">lin_comb_closure:</strong> <a class=\"ProveItLink\" href=\"../../../__pv_it/theorems/8e98cb73495978cf64565a613e2f7517ac0270b90/expr.ipynb\"><img src=\"data:image/png;base64,iVBORw0KGgoAAAANSUhEUgAAA80AAAAzBAMAAABf6PcyAAAAMFBMVEX///8AAAAAAAAAAAAAAAAA\n",
       "AAAAAAAAAAAAAAAAAAAAAAAAAAAAAAAAAAAAAAAAAAAv3aB7AAAAD3RSTlMAq1RmmUTNIjK7EInv\n",
       "3XZ/CtNrAAAACXBIWXMAAA7EAAAOxAGVKw4bAAAKfUlEQVR42u2ce2wUxxnAP9/Du7d3PlxVakNS\n",
       "kYugyBLgnHikBaVwClBQWtID+g8BJU76R9WqKodSERkScKKqygOwW4TgWjVsm0gttooPSEISUnQt\n",
       "RbShTdwCaYpycAgSSgjGEnEdbKXXee3u7OzsnrexWifMJ413bma/bx6/nW8eez6AumJ0d5vSjO7u\n",
       "blAyroUg8gXolqZaLSfNOFv7QPXk+JbdtesAiVqtazSc8z4Zp1Q/jn+Zi/9EFWfFWXFWnBVnxVmJ\n",
       "4qxEcVaiOCtRnJUozkoUZ8VZcVacFWfFWYniXFfSlY5xYgSgwIXgu+onjTo31L0aC76ZqCeuvDUe\n",
       "OSfz48UIpDNOCJD7pIqhFAKrECTxKg2+mbgrXuA4N+Pr5DqcG/A1kvVyrq8dApG8lJBGxqJG07gQ\n",
       "xCIrUwylEFiFQDnPgsv+2usZ0M+eJBkC58X4+u06nGN4mDQWvJzra4dAJC8lpJExqJHR5oRA+a5E\n",
       "MZRCYBWCpdGkwSW9WG05zRA4P4b9eVcdzjoeJe0Sv11fOwQieSkhjYxBjWJZJwTKbHZdySmGUvDI\n",
       "qC1BNEeDS1JlID4WZwicCfpMvfkZP4j7JZzra4eZWqWlhDQyBjVKcSH4RjaeWjnFUAoeGbUlgNdY\n",
       "wP7655U36SAfQB86aIbAOYqenMa667BZ6Nom4VxfOwxnaSkhjYxBjaZyIdh3Zt10Qiv4cp5av5bf\n",
       "YgEtu75v+e+GIYCNLFPgDH+pVI7X5ZyqVN4uydbbdbXDcJaWEtbIx6/R17ig3XJRWNXuPffrQ8xf\n",
       "JJvddEIr+HKWWzL6b37a9nf7WABYb0/TyUG2NN7n5bwU4KeSEksuzrEOSJgyzj7a9SRir7aqHCJp\n",
       "KWE5/5c1kowUHNYUEsPu3Fx6UqyPzZFtbjqhFXw5yy3F4Fx1mfXhDhb4VWf0GkTzLFPkvA60ZkmJ\n",
       "ORdndMs6vJT7IAPfy/GciXYUjcLIn+gJxfLredh6xlro978kH59zkLe59S5o/AOqu4OIlRJOmB3b\n",
       "iE97guUryAVM38U+/M0JxhFAjIw7uPVPITrckIVnMbFI2U3HVujZd7OgYBz6jOlV8OVsW3LJl2CB\n",
       "+Vnrw3QW+KkuPkLdNs4QOSdM1+GCdvIFuLNZ5IyGCFZKlyH+ims8U+1XkR4Cqp8r5gH1WNoarUsh\n",
       "Ju1zA6e+D7DahHiJO+KgpYxaSHnMjm1EaE992TZxByTLbGLDctQJsQFoKsG2K86uRYcYuuj9GIGO\n",
       "lj2wrFL5c6XyV+AVcrBMUIgRaKKCW2SWXDumDviqc3cnC6CjmaryD9qv16nbxhki50i10dXk25Jm\n",
       "zPRwbiVPTaIZ3nH7bap9uwlJdFmEh/RVIHEiZTZdeHYu2OSPIZ3n9pSYTmu4ZRgpz7JjGeHbM6pd\n",
       "1FLcjGFupuI4p7qgFxmfQTuC9kkKTzURzDkuDE9bYRA2d7gVJuS1D70KvuPZKdqCQE297ty6hgUw\n",
       "uF3kR9Rt4wyRM7TNdzV5cjWXhOcXnVyU5zk3RnHrJmQ3msK5J9HenEc+hR33TMhCCyTnV+HyucID\n",
       "JhTaT1y+GzbOzkP68OdxenryAWjCN17TiGvYz3EmpRgHLlv+oGf+QW9f2InseInZsY2QGvUvuWAZ\n",
       "4aLc0dGFTUucgyXQBpF/Ba/f7q3CArA4M7m/YJiUc6TP422pwjzKmVOImpizqBDkt6ml2V/u5zbJ\n",
       "8SHotpJm2PXivPvZHnqdIeG8H42o6MJtF1iTW764KemZnyE5FQPufOh18Xwba8OEqob6fA99WPqQ\n",
       "7oOwMJmLlR79aDHoQ/Au3ALH4Hm0ikTpq2ETrMfuZuhOsgabwiEipfym0Mm63Pg7Uvb4fDuRlmfZ\n",
       "sY3gGqULExvZGpeLcnKxoetB4EbDv+EhO+8ZJ/Rm4HNozchx3pP/AvZXhJj1eqDVUWQK8FtRAZJ9\n",
       "XgVfzpalDXOOoJ6zWr6joQwlgyXNtSBCv6O/mxUwV8L5EeRan12TTRVok1uSv1zt5az9DkevHnxV\n",
       "5Iy1obE5aR/maIN6Bs1Dq3oLmgnbbq3qZeS0HobtxhBswOmdd5mwCvf/yEbixVZxiEgpi2ALQDt+\n",
       "rGI5pLzignu6JYnc4ZFlxzaCaxSFZ3TQyLqbREUjkE1U6YiLU6fwALfB2OeERDVyMuYaz7c/9XVY\n",
       "wTjHSm46joJ+WlSAraZHwfiXNfP2tsktaXvbwF50Rz58rhzPWEnWzg/1vvMYfyNv78s8nBtQgze8\n",
       "CxNM2uQWyF3ycoab8J8ipEoCZ6yNxvB7eDFfLBZRkcUkRI/MmnM/SjHRygNRSWXTh8/E0RoEp8d3\n",
       "D8JteK7vArLPfZJDREo5CudAn4E5p/LpZigbA+4zJZxIdxakPMuObYTUCNCYf5x1NoqKRpALYj4j\n",
       "+p1i8SdoDZR2JqStTjAmvbTuny7Oz/VHFmYYZ+tNXqujyBTaTVGBPHSiwklr5mXTr9dSQzVuP8XG\n",
       "PdUpM8FKOmURAGPiveLB6ikJZyKT0NRNm9wCPY2e/TOTa5AeFjjTzhrEj9TTbDq6j6wrN5tkEdZH\n",
       "xvMJeOZXw3S9+RTa3D1J5/GrpuC3Sa2HYHs3NOGs3kJinlnQy+6zepw4e+U0qzzLjssI6GUN4LQd\n",
       "FY0A8hmF6OKZJdBpQxes4A6GOpxgT3fiAQDm/KjgbW0FLaeJS4IfwMNeBV+/bVtKdcRyHcLhKUnS\n",
       "UAU0NjPHX2bnnvamqc+P8x9hkU6b3ALxVs95GOs8NDKOyzjr5B+h2RlH02sA22FvomRUB9FeVh+G\n",
       "S8YwnKn+DPbi9CmQIOswNAkT59AvIjqmD87DnHsgVehcaUIij6JGyfpDElu7mqzyLDsuI48k22KE\n",
       "cw+LIiOOCaOklV+EXOQSXsLQQ5XOnPcVgfOawIfzQuHtg63Q/sQPhfMebdcTd3sVfN9j2JY2Q9Pj\n",
       "AmeaFPiiBWdIOWsD8FYLbfIcQH5TzvnSiBl5oyThTEeORg8aIvhlyeEqHOqHxYcOgX6tNQcXZv2o\n",
       "itNQmHL+ICQKkN79CkwfQbfvFDl/c+blLOa8JRNf2HqAHLltyejHYEsB/6GJDR3rWXm2HZeR2DuH\n",
       "3yO12pKhUWRE/z0zUUCxe1b3m3CThqbFdtKNTTyXnVzAsnHtYaEjtRdHqpLXYpbCG7Wa+AajVhsI\n",
       "8x7NsrQc0geELJrUHvRurx18OMebAXUubrL+ZoF+rUDmt73nnu4dT7HovdfjMXFxzsNi7/7cpxu4\n",
       "3+nyImlWrSgWGmuC8/fKynMbOQ0uIxFnNNJLX3qOCcbLxR1C9fZwIUASnu1aaAVf2TOaB2FnUKbc\n",
       "b9M+9zYZPvb3hvQBSeISx8VYbU/yX+3S398PcTrE1tb6rCh+QmjsFzBN6rNcRrYdz/BGwF6tsJjR\n",
       "HDkgrbJWdUKAXJQqhlLwlTqWyJFjuhCU+Xb+ylH4H34/bN2IjIfJnXT7SFQWjYY8uObvz0pin3r5\n",
       "P38P0PRElHwaOSv5BHPWz5dUx94AnB+DLtWxNwDnXapbbwjOp9Wq6obgvHpWVnWsWm8rUZyVKM5K\n",
       "FGclY8d5ns/PdJ9Qv7M+3qW7+xL+nfW9o+Ksfmf9Eyv276z/BzVkrJYr2dG0AAAAAElFTkSuQmCC\n",
       "\" style=\"display:inline;vertical-align:middle;\" /></a><br>(see <a class=\"ProveItLink\" href=\"../../../__pv_it/theorems/97a7a5e217c42120ad025dd16532a86ca84425d70/dependencies.ipynb\">dependencies</a>)<br>"
      ],
      "text/plain": [
       "<IPython.core.display.HTML object>"
      ]
     },
     "metadata": {},
     "output_type": "display_data"
    }
   ],
   "source": [
    "%proving lin_comb_closure"
   ]
  },
  {
   "cell_type": "code",
   "execution_count": null,
   "metadata": {},
   "outputs": [],
   "source": []
  }
 ],
 "metadata": {
  "kernelspec": {
   "display_name": "Python 3",
   "language": "python",
   "name": "python3"
  }
 },
 "nbformat": 4,
 "nbformat_minor": 0
}