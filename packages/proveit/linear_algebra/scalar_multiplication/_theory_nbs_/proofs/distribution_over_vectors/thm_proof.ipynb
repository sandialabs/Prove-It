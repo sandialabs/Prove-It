{
 "cells": [
  {
   "cell_type": "markdown",
   "metadata": {},
   "source": [
    "Proof of <a class=\"ProveItLink\" href=\"../../../../../_theory_nbs_/theory.ipynb\">proveit</a>.<a class=\"ProveItLink\" href=\"../../../../_theory_nbs_/theory.ipynb\">linear_algebra</a>.<a class=\"ProveItLink\" href=\"../../theory.ipynb\">scalar_multiplication</a>.<a class=\"ProveItLink\" href=\"../../theorems.ipynb#distribution_over_vectors\">distribution_over_vectors</a> theorem\n",
    "========"
   ]
  },
  {
   "cell_type": "code",
   "execution_count": 1,
   "metadata": {},
   "outputs": [],
   "source": [
    "import proveit\n",
    "theory = proveit.Theory() # the theorem's theory"
   ]
  },
  {
   "cell_type": "code",
   "execution_count": 2,
   "metadata": {},
   "outputs": [
    {
     "data": {
      "text/html": [
       "With these <a href=\"allowed_presumptions.txt\">allowed</a>/<a href=\"disallowed_presumptions.txt\">disallowed</a> theorem/theory presumptions (e.g., to avoid circular dependencies), we begin our proof of<br><strong id=\"distribution_over_vectors\">distribution_over_vectors:</strong> <a class=\"ProveItLink\" href=\"../../../__pv_it/theorems/0d134cf53b8ebfdb0e915465e9df245dc395204e0/expr.ipynb\"><img src=\"data:image/png;base64,iVBORw0KGgoAAAANSUhEUgAAA3wAAAAzBAMAAAA+3Bc1AAAAMFBMVEX///8AAAAAAAAAAAAAAAAA\n",
       "AAAAAAAAAAAAAAAAAAAAAAAAAAAAAAAAAAAAAAAAAAAv3aB7AAAAD3RSTlMAq1RmmUTNIjK7EInv\n",
       "3XZ/CtNrAAAACXBIWXMAAA7EAAAOxAGVKw4bAAALTUlEQVR42u1ca2wcVxU+3od39uH1IiRUSJUY\n",
       "NRRLjZ1V86haVcmqriFqSVmIVKk4arblB6L8YC0hVSGN4/7h0Ty8gKLEESRTqKLGQfE2UR/EKCwU\n",
       "FNIC2jZJiQIOkyZqCCmO1WCSOmrMfczs3NfM7O6sJezukWZ35sz1uXfOd++55975vAAKGRkZgUaK\n",
       "pz3vCmMjIzp8vIW6gLiKOVXIP2b+09CKPe15V9g2M5NpVHN2zzHcDtCOG52ZKQDsm/mQO1XI6QbX\n",
       "f9p3AWjLNqw1Lek5Bp921jwJFvDnvcLpxwy+BfxlRLwfmQ0I8uZRl3Q14atIMMdfvysWeHc24Hvc\n",
       "POqSeKoJnyXP8IMgUBTuS4qGSDJNj/rkZBM+S87xl/vF+/tnZwJ7yjzqkiV6Ez6zB5f46x6xQI/8\n",
       "N+vUptY51aG6sdw86pLWTBM+KgkhNpbEAiX5b7rVprqd6lDdSOj0qEvC15vwUbnKuzCQE6e+3OzA\n",
       "15qmR33yRBM+Km/xlyE8GPuPDXCK2MRnth5WwHHo/ItjHTXAx5bH2aOVQdYuS/UmfGQJfEMeFOHj\n",
       "sE9nFSE4b6xVwJFJLgyVa4CPLY/XK3TNsnYcy1s1NXvUaMJHtlyEqa0NjY5fpmEtp7gHVuufhNhK\n",
       "AY5gPjjdko6NfUKvDj5a3grKJXrUJ9FyEz6SQQjxK4Hsfhngb6SL50zFIHwBne34N5iD5U90sGgQ\n",
       "yuGhSUaUrRZELG8N+0l61JkvX2/Ch2UoLcN3AmJTpI6MqQD4C7tXZQ+zBIph7dnIjWpTl4RhJ48l\n",
       "etQnsWtN+EjimZeCZ+wWBCe54IkT9REVfBvyMT2oVw8fKd+z4yIOnmV61Df3wW+b8GH5qTipGBD7\n",
       "AFpyn2cVO9EMWZThO5C9HeI4iSxXBx8t/4v16USe+pv6vC75WRM+LCeEa5zL74WuTIZRBG68UAp3\n",
       "yPAtfe5L8FX0vZ1PXWL/NedNciKV/+570K7TBUmo/u3U3zjAR6byOyRvqtR+4HO3510hgq+FJHD+\n",
       "XtbFxNfCGhpJz1/5/sJBRhF7xFh8t2Lue2Ei0INQjewRYuQpa948pSy/ENab/c9HH1ydVcPXi7++\n",
       "IXlTpfYDn7s97wrRk4fwE7TmfbVEuyVqzjgrutQLvO/A0zXtuvwRHtQANgM96k25DDV8z6LPSEHy\n",
       "pkrtBz53e94VIvg0PEA3+mtJ4ANRs9xZUYGP24KO7P7BQwo1K3z5STjTSXfCe+pv+GhGDV8risvx\n",
       "DsmbKrUf+NzteVeI4w5+33LYX0uCN6QFcd5Jsenbx5Qrx5mZmpZv4RRcSZOe6Wc4tKfU8AXxVqrs\n",
       "TZXaD3zu9rwrxPAtQ985fy1JXpdmw4KXoiGCO0XUR+BvLzhknn8eH39TkQgq1L4yT1d73hVi+BLj\n",
       "43/3+So8Pi2pBjwVjZBL5lH3blHOAb41AHsU3lSoq5LKAsqowZ53hRi+0CBEdX9eDE3D3JS2sgN8\n",
       "/RBBcTW86AFo/T3jTaIOot4eOEGT6q98mIXtFtMgOfGaehwEs5apEI8Orcae0E+9DPenXArwLSLw\n",
       "ofv9tc92zCMAtEzOVfhKDvBF9TjOyN8H6NMZb1L1r5HTEE7a+eEsoNCWtKL3Ggip3109XzEVLnLw\n",
       "mdUQ2fHpnfDZuB7SHQqQ6rgW0SXTHni5tmUCtmM+wnyFL2CQjOFHkMyy3qTqpTrZJnoQ996rQM6J\n",
       "lMx1tiS9tqmnQLZHI9gavEI3MnGnAqQ6rkUUvu4aMxdix3yE+Ro8IbcKn12LHOX3sIh6SxbusRhu\n",
       "7WnohPgqA66czz+hQ37jySsPwablyK9IgfTJO44AlG1Th2V7dPv2Ar7s/NxAXFHhwVWvWoQ6tkUU\n",
       "vtYgmlCTFwe+aIVw+5RJLitKaoc+gpW6SJknYeU6MnNVNxzzx1oSy7zrnXz1qQscxsNEu36/wXuT\n",
       "qNuNCPLBAdpzy5CBJ6EnngkVN3/Ui/4E3oMFcBywAun7UM4WydmmFsv2yPYtzcw74z/vkwvE/oqs\n",
       "0uq4FlH44neiYHqppfCklc7Zp0yOV1FSO/QRLGyldR9h5Toyc8OG3D0cF6c10HCdjTgQehMpJ/ie\n",
       "wXeSNzeVeG8SdWsqXtlFiExpHdokPDaaj+iwY5GhlaA9+zT8BJDiRaQfegBNeAXb1GOyPbJ9Gybe\n",
       "7ITMZblAKIOs0uq4FlH4Ivi1STpqDMJGMini03B3L/+g5D6z+UEfwXHZjlm5LszcC5LmLmdMqt+P\n",
       "vQtcrciW2jNO8LXgp40W4E3em0QdKv8Lfa4cHh5G3WU4DsHXl63YgDQ6aJPI0Yl08tg5QAqsD++b\n",
       "gkDKNvVDhT28fRv85vDwjxF8B1vlAolsMmVWx7XI3O29jTxJHrQumtOg0wSMik9qhR5qhz6CBdaU\n",
       "6Jf94MrMbRVXKjGX6bdqGq6bETWhd7QIbi+M0MR2lUsEzd46hUf5Vnqx4XHyun+LTvKWMhl9J2Gv\n",
       "vkUn+udgJWgF25QQPCvbt1qRjr5wt1xgNB+9T98qt4jdrN+GpoY23TqNoA9ekDLYe3fRajZ9BCsX\n",
       "vSb6xWMvMpgR9jFDLkNsOVS5GepmRE3oddqytm7nGQKr7W6NvGAxF8ttbwAKlYeixZgxhRZh2jRc\n",
       "jk3DOQMrkH4xREnqYpmakNGh27dkdb4C4LxcIJEfWqfT6rgW2fBFSq+gKRjBFyvSU9iJEh50RT5M\n",
       "ZeAybgi1o3HviKT/IyyBkplbkTfMb6uvJdy2RnS+rCTVGFETepd2uMGX3HcUltyU4YOzdJOdRh7k\n",
       "q/gxA8YmoHdsDPXk7gxcXPY9okD6xRdeBdhlm9olo0O3bzeiKKm9k6cv8IQCPd1HaHV8i5jR90jf\n",
       "hI7h035HT0PI2rYO7Thsy2vHLeVtOIcym32WdcM74tSXUzNzK/J1wfN3upS1aLie8LkZURN6Ccmj\n",
       "3rftB4eH5TeNmqrT9qm2fgV7sV8N73StUFGd8KYTB88APT2aRB+V+Ggqy8kVutLO7eIuWlFB1WVp\n",
       "ui8Jnn8Yd+cFl+yMlOHiWjRcT/jcjKgJvYsAGkyWUNLeQnn5rPFkCe195N2v0b468xEatJVYQ5Wx\n",
       "VOCI2s5qXd3VOaouS9NdKXgej8b1+ai9/Ge4uMFclfC5GSFWgmJAONFw+PpvqrSVpfYKmD346AqB\n",
       "STBUSqUMCQsuTCyTqLosTXeJ4Pm3Ued4HWyyNcvdtWi4nvCpjVgBpCQTeiO3Gg6fQ05sneizDV9d\n",
       "oqLpSlRdlqY7hD8YTu4f0OCchLaiVZbl7pJ4VAV/18EIE9XEyNak6ZpxsaSGj6PqsjTd9cLAQZ5P\n",
       "FGA0a5e1ubvhakef2oiVvpVkQm+LL5K8dqE4T+ALTymDJ0/VZWm6XXLcGzVgNWPC5u4GytUHT5UR\n",
       "kdDLbEUYfuB7FgrzBL4Kmc+UqCFTdTma7r2C5/ciz3fApwJWYsZydy0arid8aiMuhF6acdUL3+55\n",
       "EzzF1NPK0lmqLkfTfVjw/EsY7sCpystolrtr0XBF/i798DTiQuilU2m98J0Ffb7AJ/xzNKbpilRd\n",
       "jqZ7WoBvO7q/8LX+f1oGWO6u1UiJv2tOcF5GHAm9Pv85um9Zer7AFxRe2J4BBVWXCoYvUhbgaxtU\n",
       "liXc3c1QZfB0MOJI6I2mfME3fzJPgG9VsUFsw1fZXF4n7mHz6zLC3e2pdsvawYgjoXeD3oTPlG38\n",
       "q2xnAiah6cqs7l3KkIy5uzXQcJVGnAm9b0MTPlOSvGvw1qwLM1f28wHHsjXQcJ2NqPpT80exGBF+\n",
       "km4AXJi5SRmRiOFUuAYarrMRFaH3UagJvpMN/jlWT3veFbbd17CfY23tgLklGn33Hhs5VMC/wXqZ\n",
       "O1VI8+dY/69kP+24qp9j/R9WnHecVi+mswAAAABJRU5ErkJggg==\n",
       "\" style=\"display:inline;vertical-align:middle;\" /></a><br>(see <a class=\"ProveItLink\" href=\"../../../__pv_it/theorems/c0e3d4565bb50dd7cedffbc8a910d115d0eb45e30/dependencies.ipynb\">dependencies</a>)<br>"
      ],
      "text/plain": [
       "<IPython.core.display.HTML object>"
      ]
     },
     "metadata": {},
     "output_type": "display_data"
    }
   ],
   "source": [
    "%proving distribution_over_vectors"
   ]
  },
  {
   "cell_type": "code",
   "execution_count": null,
   "metadata": {},
   "outputs": [],
   "source": []
  }
 ],
 "metadata": {
  "kernelspec": {
   "display_name": "Python 3",
   "language": "python",
   "name": "python3"
  }
 },
 "nbformat": 4,
 "nbformat_minor": 0
}