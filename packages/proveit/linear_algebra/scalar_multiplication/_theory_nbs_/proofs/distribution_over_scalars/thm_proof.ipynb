{
 "cells": [
  {
   "cell_type": "markdown",
   "metadata": {},
   "source": [
    "Proof of <a class=\"ProveItLink\" href=\"../../../../../_theory_nbs_/theory.ipynb\">proveit</a>.<a class=\"ProveItLink\" href=\"../../../../_theory_nbs_/theory.ipynb\">linear_algebra</a>.<a class=\"ProveItLink\" href=\"../../theory.ipynb\">scalar_multiplication</a>.<a class=\"ProveItLink\" href=\"../../theorems.ipynb#distribution_over_scalars\">distribution_over_scalars</a> theorem\n",
    "========"
   ]
  },
  {
   "cell_type": "code",
   "execution_count": 1,
   "metadata": {},
   "outputs": [],
   "source": [
    "import proveit\n",
    "theory = proveit.Theory() # the theorem's theory"
   ]
  },
  {
   "cell_type": "code",
   "execution_count": 2,
   "metadata": {},
   "outputs": [
    {
     "data": {
      "text/html": [
       "With these <a href=\"allowed_presumptions.txt\">allowed</a>/<a href=\"disallowed_presumptions.txt\">disallowed</a> theorem/theory presumptions (e.g., to avoid circular dependencies), we begin our proof of<br><strong id=\"distribution_over_scalars\">distribution_over_scalars:</strong> <a class=\"ProveItLink\" href=\"../../../__pv_it/theorems/52bd9ab8e4bf0283cbf3752b7b142beed936f06a0/expr.ipynb\"><img src=\"data:image/png;base64,iVBORw0KGgoAAAANSUhEUgAAA3cAAAAzBAMAAADGPOzCAAAAMFBMVEX///8AAAAAAAAAAAAAAAAA\n",
       "AAAAAAAAAAAAAAAAAAAAAAAAAAAAAAAAAAAAAAAAAAAv3aB7AAAAD3RSTlMAq1RmmUTNIjK7EInv\n",
       "3XZ/CtNrAAAACXBIWXMAAA7EAAAOxAGVKw4bAAALh0lEQVR42u1cfWxT1xU/sZ/t5484niZNndho\n",
       "pjIaaUCthmQDVeA1ZEKtprnr/umCwBuTpnV/1JE2VZRCUv7oviBJV1UQtMFrK01r2Igh6tqVCaVj\n",
       "LCuok1egQ4ywx4LasWyQtWRA0Jrdj/d1P96HYyMtqY+U+L7j63PuPb937j33vGMDSGhoaAhqSb7y\n",
       "aqQwMTSkwQIlOjdiKNJ0netfZ6/VVLGvvBopbJydzfn32jO/QNtLX+OzswMA+2dvGk16LaEzNR7A\n",
       "mao7BAQvH6BTQ3Z+udwu08HCBKxVVjP8IQRvEXsZw/+Ktbd50ZcRkELlOngmhQvs9d/QX7q59uBt\n",
       "9GUEpUN18Ex6kvWAUAn9+8xtWO3SWT9G4Fll6+AZdIG9/BmOCQq3Y6961JcRdN08UQfPsMAoe92B\n",
       "/hTBJyJyL4m4OY/sjZW+jKD0jTp4lFIl9hpjmRJvdl3uA7qbc0jeSGl+jKC0qVgHj9BV1oIhvGIu\n",
       "vS3gRbN+jKAUzdTBI/Qn9lLBjvggPjEseleXgNF9dHsl4DmlJDPWOXsyC285GZVuejN18DCpNyTe\n",
       "sBn9bSjGZ0QwImOwX6sAPKcU+0ySDI3C6wZDGSdUEY6JD+rgkfQKF6804hMe8orEMVDKkGjnwPhF\n",
       "Fr4IiSMf0YKBR6WYPEvVDqWATyOh0bnO66d18EjQwN3yKfyJ48ghpqCxBH3/Auoc59+kzvElgL+A\n",
       "QhFxsLml13qDSjGdfAr9G8bepqV02GEw5kRri3XwEPVn5eClBmAYNZdznvcGJKahKR+7EczzDCnG\n",
       "kosdrTGHm/dooBuMOdFwtg4eDjaL8mVzWIe1IICHNpvwFIS1oOBRKSs/dwVDZuUkAS29UDIYc9nz\n",
       "jPXiQw/eT7jrOLb6PmT2ZvhYqCiA9x40FO5GEUc5IHhYyhNtx2CMte0zgGS7GTsAxct18Mg6yBIJ\n",
       "3w9hEEOnFXHZ3AfLczn7qYzJxjtZ4j/mlma/QaTEDhZgxjyFUPoVbGcZFVJyygU84pF3CbaUsasB\n",
       "z1tejRQi8BqILd2Owwn+ma+K7+ld6I3Fr3b/XQTv+cnvLe6F2F6OTXay09aWZnsqkdKg0+3OvpOU\n",
       "j2Yh4AMreU5v2gW8TnzxTcGWMnY14HnLq5FCZB4FWyjq9uxM/YDnnMUf6zWvlksPdN+BxyvJsKR6\n",
       "lRySuI3vtG3O86LDloD3FE4MDAi2lLGrAc9bXo0UIvBU7MFbXHMV7/EcnC0O53jwmERzbM/3H5Cw\n",
       "ncS80QONO3ppypuhjjnPiy4YEvCiaD1PNgu2lLGrAc9bXo0U4oUJP3g57Lr+3BBiAeyku42LrY8d\n",
       "lcV6s7MVndAegvSI5Eas5s78twt4YXTTREVbytjVgOctr0YKMXit6LXg1iF9XbipsRlegtpTvOjH\n",
       "qIBuukWbb46Pn5QEfxJ2VdGmp7waKcTgpcbHz7uGdckZgYXjwJhee/De9WVUQL93A289wF6JLSXs\n",
       "QHS32dArkFeNQg48pRfimlsHZQbmJY27gdcNMbTJR+68H6K/c9iSsMPoJg69QYOxh27mYZdZRJC+\n",
       "8qr89g7nTVEKiw1VY+8Ap1+G+zIeHYIRM2wCHhLS7RyPYwYADVPzE7zzbuDFtSQOr/8J0KU5bEnZ\n",
       "v0HWQCipFwfzgBa1tLlurwdFbunnLVGREgOeoYZQ38efg08lNUVz6xAofsZjYoZNT1J74WVnD2MG\n",
       "CxS8kB6lKZx03mlLyr5HgyR6WYdv3atA2oRGjVO1QJ22qEdBlEcXr/X4PK7nkm4dAhEZEzNsCt4K\n",
       "K14hPYwZLNBlEwpr8PX7sdfYbBVh9+Ths2bVWlMWWiC5RofJi8WvaVDccmryAdi6EhkMMRA/fReK\n",
       "kMu2qMOivHBH3yWACXzZ8untSYnCA2teMZmOph0cjkwazm9U0jmHTcGLhtFuuzGTLNEedAZmwCJE\n",
       "m95Ft7FALEqVBJOufWNyDa4BCxzGLqJev09nbUnYTXosa4bSShly8HXoSOaU0rb/dqKPwDuwCMYA\n",
       "MxC/C0VusYItaoko78UN2VSRROfQknyhS+yQ+LNq2tfRtOmXxX5j4nRMzLApeMmlGiT0mVCG9qAz\n",
       "MLdq4ZznXXQb0aX9pVRBUa17kS9WKFH6uit4T+IFMH1r6yhrS8KOZrB7PEzvimm1WZ2CR4aLMQ36\n",
       "7tTVUWjKPw7PAmL8HPH770cb3YAt6hFR3hPvQJNG0xEtkLssdlBySCrNJZLmly+x++A62Gm06JiY\n",
       "YVPwYmimsRfKUKI96AxcD+k+RbcT0v5yRILXF3kU+U7IlMI1V/Aa8NYQH4CTrC0JWyn/A/1vHxwc\n",
       "RDfLYBLCx1rbNiGOBuoUsm0qmz56ARAD8yP7pyGUsUX9QCJvMWyA8LcGB3+MwDsQFTuk8ukM7DhH\n",
       "Ehu4OZpgQ4zjcNFo0TExwzZSv3dgWSU1T3vQGZimn+bN4lN0G9Uk/V0ocFGtV5EvVigoTdxyBQ+M\n",
       "De0qE/yZ+Wzs4T+iF5s2kkf5PRqJVsrE807BPq1HI/wfQjuoA7Yobtkk9AdYp6ol6nmRFWKH4WJ8\n",
       "tQbnrGZRHWVmcR2eHQp33lsyx8QM25G3R8gbPegMzPjzfVnCUXH3GTPtaSUvPRKUKyFgBtRDH1Fo\n",
       "51r9EtMGoa3Erke1ja0ShzVOvY0nAC2SB+OlhD6NzlPqDFxOzMAFHTMQfwnEScBiiroiYhObgrMt\n",
       "9CzeBpYTOTqkiv0PE/AOGM14HjUTJfIPvYyp06tDl7EWOiZm2A7wGnu/a/RQrwnrj5PwvZHy8BKj\n",
       "1Nx6bDDq3tUsqvV99uCljyg8Ic2nu4KX3v8aLLslgkedIEa/jxhCd0TyqA5HrkDnkSPoNl6Rg0ut\n",
       "TxMG4i+ZeAXneC1Ru0VsIhmYzMIWtD6qbxfpszeuQ8eKEaJ0ZzNtrsdNdQx2FtUx9bfwlXvR5+/A\n",
       "YREZEztsB3iRkaw56nNOM7zNmwWvYEs9bLmZtXvIa8XLBgTPSx9RuFmakp3rk/QDg4PiAVqV3YVd\n",
       "bMpXKi/x68HnPBVie9PFLqnpZhPPnr6U022adEzc405Jj0/w+TJ50S2igyOkwOUQa3fSn63EFYpq\n",
       "fcGT6jOlYIWHuA82TFUDnjzFIUtXKEWxVWkZRN/JZojQNeix2bLZRPRVOstMaMQ9t+lNazWJt4hF\n",
       "t4hKy0jdTztrd9yfq8Rli2qDgCfVZ0rBCtv5BXmg5uB135JxrTNzG8wVPDI8WdMvGA9Q+sedsFyK\n",
       "btGd2fwFcixYxtod9+cqcYWiWl/w3uLKcxkpWOEy7oM9es3Bc4mDzYZWFXhzfqrgTUGKbklpUQL+\n",
       "iABEaANTbov7OytxSV9nUW2A0lxbnxVjF2wpWGE/v17Ui26JCUfl4DFFt6eJm8xAGi9vXKCY5ypx\n",
       "SV+2qNbX845z5blMae4GW6lFn4RqwFMnSgsDvMi0fNnkim5pMjBpcxzLJl+JC0xRbcBlkynPZaQs\n",
       "Z4dBqLovmjwFAwsDPOopNrkU3eJ3MuS58irW7qg/X4kLfFGtL3j7uPJcRsoqW6m16Vf3Fa89C2XZ\n",
       "5MNNl6Jb/E4hphthvcPuuD9XiQt8Ua1faa6lzyzPZaQ8aCu1plXdlyvPgbZAwOO+1uxSdIvp862O\n",
       "kZl2x/25Slzgi2r9SnNtfUZ5LiPljGiOKr/W3NWaXSDghbnTlbzo1qIYv4+dNd+xKnEt2gYBl01L\n",
       "n1GeyyuMcYeIZ6Aq8BZMtAnwbTGbLBbd2t6Q5ZLNZvbZrsRlctyBEtOWPqM8l1fIJa4jM3XwDNrJ\n",
       "PsX2KboVaq/N6kuxEreColpTHy3PFRRukUTEdfAwpdkp+xTd7hZyEK4QVVBU+5I3rpzS+s9X2cT9\n",
       "cJxn0W1aBGS7m9wKimpd9RGFnNJIoTLwTtX4x1J95dVIYePqAD+WGm2GeUVP0yklhg4O4B9LvWw0\n",
       "6bWE6j+W+v9DCaO6QvZjqf8DVqeyH5mJzNoAAAAASUVORK5CYII=\n",
       "\" style=\"display:inline;vertical-align:middle;\" /></a><br>(see <a class=\"ProveItLink\" href=\"../../../__pv_it/theorems/bc3c95592c82b5d09cef1df0198ac1b44c6561530/dependencies.ipynb\">dependencies</a>)<br>"
      ],
      "text/plain": [
       "<IPython.core.display.HTML object>"
      ]
     },
     "metadata": {},
     "output_type": "display_data"
    }
   ],
   "source": [
    "%proving distribution_over_scalars"
   ]
  },
  {
   "cell_type": "code",
   "execution_count": null,
   "metadata": {},
   "outputs": [],
   "source": []
  }
 ],
 "metadata": {
  "kernelspec": {
   "display_name": "Python 3",
   "language": "python",
   "name": "python3"
  }
 },
 "nbformat": 4,
 "nbformat_minor": 0
}