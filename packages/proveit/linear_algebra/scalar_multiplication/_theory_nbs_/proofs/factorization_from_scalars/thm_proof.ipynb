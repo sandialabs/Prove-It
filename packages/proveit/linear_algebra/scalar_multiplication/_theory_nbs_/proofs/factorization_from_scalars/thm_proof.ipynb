{
 "cells": [
  {
   "cell_type": "markdown",
   "metadata": {},
   "source": [
    "Proof of <a class=\"ProveItLink\" href=\"../../../../../_theory_nbs_/theory.ipynb\">proveit</a>.<a class=\"ProveItLink\" href=\"../../../../_theory_nbs_/theory.ipynb\">linear_algebra</a>.<a class=\"ProveItLink\" href=\"../../theory.ipynb\">scalar_multiplication</a>.<a class=\"ProveItLink\" href=\"../../theorems.ipynb#factorization_from_scalars\">factorization_from_scalars</a> theorem\n",
    "========"
   ]
  },
  {
   "cell_type": "code",
   "execution_count": 1,
   "metadata": {},
   "outputs": [],
   "source": [
    "import proveit\n",
    "theory = proveit.Theory() # the theorem's theory"
   ]
  },
  {
   "cell_type": "code",
   "execution_count": 2,
   "metadata": {},
   "outputs": [
    {
     "data": {
      "text/html": [
       "With these <a href=\"allowed_presumptions.txt\">allowed</a>/<a href=\"disallowed_presumptions.txt\">disallowed</a> theorem/theory presumptions (e.g., to avoid circular dependencies), we begin our proof of<br><strong id=\"factorization_from_scalars\">factorization_from_scalars:</strong> <a class=\"ProveItLink\" href=\"../../../__pv_it/theorems/d16767b27032e8f2cf93f6f632b07a62e86f09ff0/expr.ipynb\"><img src=\"data:image/png;base64,iVBORw0KGgoAAAANSUhEUgAAA6cAAAAzBAMAAACZLWOLAAAAMFBMVEX///8AAAAAAAAAAAAAAAAA\n",
       "AAAAAAAAAAAAAAAAAAAAAAAAAAAAAAAAAAAAAAAAAAAv3aB7AAAAD3RSTlMAq1RmmUTNIjK7EInv\n",
       "3XZ/CtNrAAAACXBIWXMAAA7EAAAOxAGVKw4bAAAL60lEQVR42u1cfYxUVxU/Ox87b97Mzk7SRKOY\n",
       "ZZuiYIRlIh8qIjstxW5U0rEYY10DS/3DlH/60D8MRWBLRKtSmNo2MG2Eh00a2dXdoWhbQZettSEU\n",
       "qyNQbbCLD2lEXIVNcbvpElnvx/u6X29mZyaaXeckb3nvnPvuudzfu/eee95vHoBE+vr6oJ5Spr56\n",
       "u/v/E72vz7T7kZ5K5M9T/6qrzzL11dtdFRLvnZloHqYAxqem8gAHp95xTiXyWp1dv1aT+b8ht8zQ\n",
       "Iaqdt0/CBMmPeacNUJuK7LVhH1IxKlIRiU2jDbEAd8q2wKIGqCpZzl6m2ukhl/WCRlk2alXehr8E\n",
       "uFuvvCuRboCqGCQn2esP2YdcUhleoy57qeI2hIoB7kSXrpxtgCqXFnZA6T30UMkmPvZUl202K23D\n",
       "M4HuNimtC80GqFJZyV5GMvRQyVL733W+8goJZ7mywgTt3Ls60N1S9WOTbYAqldPsZdI+VJK0h1+H\n",
       "r7xKXgG2rDDrOpPEcKC7pHLERycaoEpXrUn2+gP2oRwcGRaooLJfrhDUUE+gu2b1ZLCxAap0SU2z\n",
       "15+2j9icy9xiO5qBM17E2eErL5QdOAotKCg+UiGoERwnbR7arnCXSCtbv9hsgCqRvb3i6MLHl4w4\n",
       "O4YToWF4EfVaDwuUtGxxISTT3mapHKh4KEZPwkETdEPijrpcO4Ll92wNg1YDVIm8j7s+Qw/9JYiU\n",
       "QPftYXdGevD2JTTMAuWW7T/yXjfV0/5JsktZWCGoeFT/OANrEZSWxF1IveTGSw1QJfIid/0yPSJj\n",
       "0FKEPf+k4wEPFTNpwU4E2BgdNb+xR41bNotBoWV1+C0CFs0CwJZlw+yRkTdeHRnBU2syB3A3wJ+c\n",
       "mfdt1h1xqQiwJxqgiqJdl4OazMNgzknEtWTt9QuNoyg3Ut2y47Cj1ykbmoQUnpYrHKkY1FOgjzv6\n",
       "c6y7qHqk6tcboEqC3wn59IsWq07wsqtkyKG1EgFREqZfWnYFBZWOwhIkfHdXMP3qNyE8BtGLMnfU\n",
       "pXRNpRNNA1RuUeJHwQF6DLbDu0IGA+qjgBRur3V45e2y8Euv1jTMd7q5AlDjFuhvQVPP/IFWU+JO\n",
       "ARSRHzRAlWzu+U44Qo+4FToXYUfqc7Dd2X74gPLKum/CULzTE7Ps7Y6vLFkryZr7Ngsq3rMcgEXZ\n",
       "7IOLZO4iRXX7T4igkg3QbUIvy9S1gBpUX73dTVMGs5ziEXrobS9s/hsLauQWnARoybGgemW3+BI/\n",
       "ty/xP7AdvrWSrLnnWFA1NL8eGv12Wy+ZJwR3jkuZdOYEUNfgf78i9LJMXQuoQfXV2910t6kWn4zo\n",
       "pQeVRcIN2zig3LKxbIx78xkrVZomfN2JeyZ7Je62lWs/C+pD2HVe6GWZuhZQg+qrt7tpyuJ2fpOQ\n",
       "9WXiJaA6ufd1vvJEtjz8TZPbtGS4sry4CX0nZR/qyUrcrS4307Cg4pdDiXahl2XqWkANqq/e7qYp\n",
       "nfzQgH32gWXrA0OcVXz4nLK/m5riLFsqD9fsMa63GaK7wOe9NS2AGsbpYrGXZepaQA2qr97upinX\n",
       "BLLIYfsI7n62vFz2VdwKPR/gLm4EgZoXo99XR0ZOS8JRibqm6Degvnq7m6acMHkNjltjlqr8ZZCV\n",
       "l2+BjcqbsT3A3eXA6L1HBLUL4ElJL0vUFcl858SS1acbClBtd/NlPcPXLLFJ/PvECmzx3SbMaGkp\n",
       "iaBuhhialKNz74DmX/t6majDbxQhdIquOZ99JwePXHA68+oL8p1TOOdUFWFRo27sbHXs3M9gZVo0\n",
       "h/nIPfV423bIOjUrbYx/Vq7cftmKcLpPoElh4X7nai7McFCHRVDjZgJ3xD8Auk1fL1P1LxAACD3t\n",
       "YiGH+QHudNIFEfkbvkNuVdEiA6rtBsme9zwBtybMiCmaD/lqwj71R43QU9Dt1qyysf4dwY4Ovxs+\n",
       "WPQ1hSgTqBu2wmwGNWQ105RUKufvZapebJIM5p14sF4Dck5k2M4XCLLGq2oTiPXhKL8L5xmsbEJi\n",
       "XuOrCftMDAB83GZvBdlY/+BzdMyCcNHXFKIMTZKk6iyefqFnFT69HjvG5u2IekcOPuIwFFszsAAS\n",
       "qywYvWhsNMHYcnb0U7B1KcIPKZA+ddtRgJJX1bNifThbTViTC96/PSFxh+7uX/U8nVyxz6d3YZIz\n",
       "3esE2TxBpfSjo2RCwY70j+YwFZo0BTk/Tr3HxiHsLe4nxHU+mEBdpRhlFVWmOSWBEjyLn2NtYqXF\n",
       "9jJRt1qxjBOyR0poBbsPVieykeK2f69Bt8BfYQ6cBKxA+m4UwMV6vKrmifUNtJo0dF+Q+GG3aEZ3\n",
       "63/UJrxtwnwS9oTwwhlk88WhyP9PjL2Gs0cIfdVwm4Kc32pvHG7C13xbGmGfGkzmrlbWl1VUCWpa\n",
       "Auo3sDJ1Y+sw28tE3ZxOuOmQ2LjWro3BvYNGzIQ9cy1tGFpzX4fHACl+hPR770ALad6r6l6xvgcX\n",
       "2SmUBZC9IprR3ZGsNuylYFasIEMsD8E2X4IGXd4Ju91cTfhp020Kcp6wEzgbfbOvJPkQTOauVgRG\n",
       "dgBFezrSmpWA2oT/U/G8jyhJepmoI6W/o7/LC4UCenALCQi/tGTZBqQxQRtDPZzMpIYuAFJgffTg\n",
       "OITSXlXfkdR3AML3FwrfR6D2N4tmdHcyl0pD7Enb58NfIGERGXO27Z43c4LNl0pN43fWaJKPU0fa\n",
       "rl6vKXNgF/UOa1O+dXQxHzCXI3NXK5vKKqqSwSIoXr2hBfMaE47aO4RxPAt9j15sWE9oFTtMEiWV\n",
       "yEg9CwfMHSbRfxeWkz52quKmXztbrRXpSI12iGZ096ARX2HuPG/7xMGQTqdYxzasjwk2X1icB30C\n",
       "HsO/d6WOUKCEnkDalJfBokrovMefEOcHjILMrUjfqrK6omFpWUVVIknoOxYDkkURVI38cjRO4W55\n",
       "BdBkOxAv6tY42lZqk3BFn4QLFlYg/Tw0PHCg4lR1VUQNZ6tJSmMZwEXRjO5OGnvXmXDe9hn7qQFD\n",
       "kLKg37UZ6FlibXoRmckfUgpOauMrQkN27mTrXXhvjJqCbK/HcnZCZW+Wn76YRQqkBG3FixbV+xfR\n",
       "IDCyk3WJu8kLCRmoqYPHYOENsZeBvPWN0Y06HhWJIQuOX4U1x4+Ddr0jC28u+RZRIP28S8/jZKdb\n",
       "1T7JSG0zYAuaELU/GNAkAXUfRFd3HCVeqc/++x/vxZnP3e2uLZ7jbNqvYLehnUR/SCn43IdHMyE0\n",
       "NrEj0J8rdJGmIFv3ElsJLf7ebOFnWgWZu2ZQBUZ2c10WVZK7roL50F8oiG9ptWHJrd2yDDVTn/7z\n",
       "whMqd92+R8nziYPddtfWJdhC7v1eqf1+R6Qp7Qrv0MT/PxRkbgckhVoJqkvR9hjZHCu8NpkLUD86\n",
       "i5S2GDHEs8rpLM495xn7XSiUNR1bwrQ4G3zRjX3dUnqpnWtUVDnVhblfXajI3A5ICrUKVI+iHXan\n",
       "BI4VXpucqieom2/ItG4KYxlMH1T77j2n27l0bti1PTBV4lO97iTmlULhm6/UMtumeDjf4hQKMrdD\n",
       "M+J42+VA9SjaHiObY4XXJLGb9QRVLrpzYlYDqh5QY5AtuIYy8UglZG6Pj83wtlU0bZ/Bo2iTqY2n\n",
       "adcsDTK3VD4jB5Uhc3sjj+FtVzBSPYo2ZWRzNO2apanan11ol4qzGNQNOen0y5O5bZB43nYZUH0U\n",
       "7ZC3cLCs8NoSSlaVoD4E+VkMagu3UVWQuR1QOd52OVA9iravt1lWeE3SaVYJ6v5ZPf3y4a+CzG2j\n",
       "x/O2VTRtx+BRtH2MbJYVXpPQBb0KUM+XizVmNKj85wEUZG4HPY63raJpOwaPou1jZLOs8Fqk+s8D\n",
       "dC/JzGZQO9lHVkHmZuZZj7ddUUaJULQFRva2OrQ9nq4W1Nkd/UIzOw0qyNxMgt7jbVeU0CcUbYGR\n",
       "vboeUZ7ZAFWefuA+jhVM5iYi8raDd+9thsjIrstPEs5AA1S5XGEvg8ncVU+URjlFFdL4jJ16A8/O\n",
       "vzEriMxdrVwuq6hCPg+Vgnq2zl9VLlPf2f/9R5zvg5kpGiVP6H0DefwR5yvOqUQaH3GeKfIMDZO4\n",
       "jzj/B2cyiUTi3tGOAAAAAElFTkSuQmCC\n",
       "\" style=\"display:inline;vertical-align:middle;\" /></a><br>(see <a class=\"ProveItLink\" href=\"../../../__pv_it/theorems/1412a8c648523f3624192b204afc2e979fefd73a0/dependencies.ipynb\">dependencies</a>)<br>"
      ],
      "text/plain": [
       "<IPython.core.display.HTML object>"
      ]
     },
     "metadata": {},
     "output_type": "display_data"
    }
   ],
   "source": [
    "%proving factorization_from_scalars"
   ]
  },
  {
   "cell_type": "code",
   "execution_count": null,
   "metadata": {},
   "outputs": [],
   "source": []
  }
 ],
 "metadata": {
  "kernelspec": {
   "display_name": "Python 3",
   "language": "python",
   "name": "python3"
  }
 },
 "nbformat": 4,
 "nbformat_minor": 0
}