{
 "cells": [
  {
   "cell_type": "markdown",
   "metadata": {},
   "source": [
    "Proof of <a class=\"ProveItLink\" href=\"../../../../../_theory_nbs_/theory.ipynb\">proveit</a>.<a class=\"ProveItLink\" href=\"../../../../_theory_nbs_/theory.ipynb\">linear_algebra</a>.<a class=\"ProveItLink\" href=\"../../theory.ipynb\">scalar_multiplication</a>.<a class=\"ProveItLink\" href=\"../../theorems.ipynb#one_as_scalar_mult_id\">one_as_scalar_mult_id</a> theorem\n",
    "========"
   ]
  },
  {
   "cell_type": "code",
   "execution_count": 1,
   "metadata": {},
   "outputs": [],
   "source": [
    "import proveit\n",
    "theory = proveit.Theory() # the theorem's theory"
   ]
  },
  {
   "cell_type": "code",
   "execution_count": 2,
   "metadata": {},
   "outputs": [
    {
     "data": {
      "text/html": [
       "With these <a href=\"allowed_presumptions.txt\">allowed</a>/<a href=\"disallowed_presumptions.txt\">disallowed</a> theorem/theory presumptions (e.g., to avoid circular dependencies), we begin our proof of<br><strong id=\"one_as_scalar_mult_id\">one_as_scalar_mult_id:</strong> <a class=\"ProveItLink\" href=\"../../../__pv_it/theorems/2aa43bfb34c5ce3d8ce9d12e8e96f7e1ad69da910/expr.ipynb\"><img src=\"data:image/png;base64,iVBORw0KGgoAAAANSUhEUgAAAZAAAAAzBAMAAABLbkMLAAAAMFBMVEX///8AAAAAAAAAAAAAAAAA\n",
       "AAAAAAAAAAAAAAAAAAAAAAAAAAAAAAAAAAAAAAAAAAAv3aB7AAAAD3RSTlMAq1RmmUTNIjK7EInv\n",
       "3XZ/CtNrAAAACXBIWXMAAA7EAAAOxAGVKw4bAAAFEklEQVRo3u2aXWgcVRTH/92PzOxOOlnwQaRC\n",
       "VxrQh7QuJK0IUtbWlKAIKz6VlXbVB7H4sMUHSWNb+6DgV7NaSjoKZoqgNIW4tmK1KWFBRWqwrkSh\n",
       "FBMnxg9iJRHSNDRB6v2andnZ2ZQbrSzrHDi5w9k598zv3nvOvbNZQFKGhobQcLKah/rx+pXGAxm8\n",
       "fk3a53s0pNwbgAQgAUgAEoAEIAFIABKA/K9AFKFeyde/vTFBfhLqlV3+t0ctDpKgzQYpEFkXOQkV\n",
       "uaqXPB/oKX+HaQ7STZunpEBkXeTkPa7Hdyx5P9nj79BiMpBDdJkVpEBkXeRku1C9BqTL3yGcZiCU\n",
       "R0tKgci6yElJaC1Iq+nv8RUDCZOV1yKX7LIucimS4+oD0lInSZ7kVevriYkxyaol6SIlkSLXKpDh\n",
       "01ibhJbw3MvN+JCD9ABvSYJIukgJHXY29G6QYgdaEwjTicLDE1S+dczYwkH2QqkmTd8QpMZl1XKn\n",
       "fWHZF3SIqbpB1OQOWpFDpWpnYUYHB4mZWoZsK+u3oeVz9jmvR+/m7PsfuZLEM2k3CHdxysYPJMj5\n",
       "Fyotc7qWweuT9g4w+0nRv+Bk7MCRSkZnuAqQ+FX6BxfIU0P9s9pbmNHPQUIWS9w/gKzpgKizZfL3\n",
       "8G1HSY8lRM9WzYhwYfdNGRmcI+WYPqlomY0kkW4fKnoQ8Z/B45XA0aI/CL5jFWAJOhnskrcwMDMe\n",
       "E0eU3FZqfAO6GGU+IyECEumhV7EEfvEcUbgLlQfoBNxtQoPTMtscuE1UVH+QbifwnhWWFiJl2hl9\n",
       "pKoc4WZsFCCnWB/zij3qDgjb/NGW6jM9INQlOoURcWw4mME9TsttbSncBW2rhctT+cdN5HvHLz+I\n",
       "vq4M9NFbqV3fcBooO4FPif5jFtcqEDKWJJvC3k2YmxkE1efpaKmL91lekDi/6n/2gvfQSF2G28w7\n",
       "cIKjWkrKaU/Yg5jGE9iupSPF/X91kwD4FevwJT7CQ9SexQEoOSdwu+if1lhWZ7VFJ6iWUyxRld3C\n",
       "zaQ/DrKGrgR9ua/kBYnyDWjuzDkvCHXZt5HM66O8ZCY0V8ttyoKaJNm584O8YuLwekstoS3zHI7E\n",
       "F7GP2vu3kcQoOIF32klX5rrm9qu3OFHv76SrLuNdmszMHqlyjI8VMOYFCT9tGG8CBlqLfsf4dXgR\n",
       "WwzDSJLR/13MAm25DYaG8Gedm3cTi0kKDgFpTemjk1FSeqg9OriAUMIJ/LLd7UWhtbK/zgtJ2Q1C\n",
       "lvSc6QFR+fPPVy1XB+QLUvxf5VV0IelquQ27d7F6edBkmV5mMzKOd94nfVH7K2QfUwtO4Hb30bCr\n",
       "7nHS7yyQcoP05yvj7iQ7277J4saYH8hFJUN2FHYL/ZfJSdEKG9aSs9wRDMeKcWuBbKDqEmbiS5i0\n",
       "3sYwtbcjxpLdDjxbWRt5rrUjX+fA3et+Q9QHz6Jj2QWifLxsoZdmz8yyGfqm6AOSJQtUOcYu6TvQ\n",
       "a0ne2rYQ2UO1UQsjs+geGYE6vymNnztfsqiNaPv0GWDACTxQ2eYKsMuMp0bVedcdqPeq63QS/9Q4\n",
       "eoNX3ZOGYadg0sfmOk+UfEJl4X58IQeEeuU3fw6+7a4MIvXOHjVX9POeL/jyztde/XvfoqwSJLxy\n",
       "pL3LftbK0WfzTfg6KP8ffosSty/M4Au6mwiiThebA+QQCs0BcqxZltalf5y6DQKS7Uw1B0jTVK0A\n",
       "JABZDch4Y/7wbEbap1F/ePY3IUasfl4wUo4AAAAASUVORK5CYII=\n",
       "\" style=\"display:inline;vertical-align:middle;\" /></a><br>(see <a class=\"ProveItLink\" href=\"../../../__pv_it/theorems/3fc9ae1239e48a6a6495549949c2b21ddeb2dc6b0/dependencies.ipynb\">dependencies</a>)<br>"
      ],
      "text/plain": [
       "<IPython.core.display.HTML object>"
      ]
     },
     "metadata": {},
     "output_type": "display_data"
    },
    {
     "name": "stdout",
     "output_type": "stream",
     "text": [
      "one_as_scalar_mult_id may now be readily provable (assuming required theorems are usable).  Simply execute \"%qed\".\n"
     ]
    }
   ],
   "source": [
    "%proving one_as_scalar_mult_id"
   ]
  },
  {
   "cell_type": "code",
   "execution_count": null,
   "metadata": {},
   "outputs": [],
   "source": []
  }
 ],
 "metadata": {
  "kernelspec": {
   "display_name": "Python 3",
   "language": "python",
   "name": "python3"
  }
 },
 "nbformat": 4,
 "nbformat_minor": 0
}