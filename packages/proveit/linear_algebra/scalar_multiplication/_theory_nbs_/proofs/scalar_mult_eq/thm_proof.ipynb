{
 "cells": [
  {
   "cell_type": "markdown",
   "metadata": {},
   "source": [
    "Proof of <a class=\"ProveItLink\" href=\"../../../../../_theory_nbs_/theory.ipynb\">proveit</a>.<a class=\"ProveItLink\" href=\"../../../../_theory_nbs_/theory.ipynb\">linear_algebra</a>.<a class=\"ProveItLink\" href=\"../../theory.ipynb\">scalar_multiplication</a>.<a class=\"ProveItLink\" href=\"../../theorems.ipynb#scalar_mult_eq\">scalar_mult_eq</a> theorem\n",
    "========"
   ]
  },
  {
   "cell_type": "code",
   "execution_count": 1,
   "metadata": {},
   "outputs": [],
   "source": [
    "import proveit\n",
    "theory = proveit.Theory() # the theorem's theory\n",
    "from proveit import defaults\n",
    "from proveit import x, alpha\n",
    "from proveit.linear_algebra import ScalarMult"
   ]
  },
  {
   "cell_type": "code",
   "execution_count": 2,
   "metadata": {},
   "outputs": [
    {
     "data": {
      "text/html": [
       "With these <a href=\"allowed_presumptions.txt\">allowed</a>/<a href=\"disallowed_presumptions.txt\">disallowed</a> theorem/theory presumptions (e.g., to avoid circular dependencies), we begin our proof of<br><strong id=\"scalar_mult_eq\">scalar_mult_eq:</strong> <a class=\"ProveItLink\" href=\"../../../__pv_it/theorems/2978f6aa81acc01cfaed7c03169392dc845d524a0/expr.ipynb\"><img src=\"data:image/png;base64,iVBORw0KGgoAAAANSUhEUgAAASsAAAAZBAMAAACbTxWVAAAAMFBMVEX///8AAAAAAAAAAAAAAAAA\n",
       "AAAAAAAAAAAAAAAAAAAAAAAAAAAAAAAAAAAAAAAAAAAv3aB7AAAAD3RSTlMAq1RmmUTNIjK7EInv\n",
       "3XZ/CtNrAAAACXBIWXMAAA7EAAAOxAGVKw4bAAADoElEQVRIx8WXTWgTQRTHX5LdbHY3SQNe1GII\n",
       "tHhqZdFS6SUGitZSWgOiBy0a9CAIQuqtUks8W2hEVOxBFhEFKXWt2Iug0ZNaLPFQ6KGRbY0UP1qC\n",
       "Hio9iPOx2SQ7E81isQ/+3Wb4Z+aXeS9vJgBs7CqkYStjtRDjDadgi8OnbRqWZImNdB13/Sk2EWvZ\n",
       "Ehun6riZEE0qjBXBAy0OLA9+eDUXVF6DihNhjevmxEdLCOsgfn3OgSUk0cPvpvDvW+LFea6bE36d\n",
       "CmFdwQnNOrACeA+H3eSw2xIvOrhuXqknLGmETo05awt/wGk3WDlLvAjqPDcv3lIhLFz1fqbk97ms\n",
       "fG+Kip8bjePmxlkqzPSuUJhlsIKFwqLhAkswqEB9tr0yqqztvIr2XI1w3LXOqW5QkOsxEGGswwAT\n",
       "DJaQAZnZ+kR9LLwhWNI8TKYv2svDktmPViGb01/A8b7srnUabeArAXQCEcYaAinCYKGhIWbtbH2s\n",
       "UIwqaIKc+FIe3Q8H9G0oZzmOu8YZiPWDB03fBkQYS9bVJNtOJ+CpG6xgkuoI2qIUTtEjPEkGDpFF\n",
       "Sxx3jVOBOcwJ40CEsbymn9Pl93AqvgGsN6hmZnH2QzTjc6R75zjuWqe4AeMZgEEgIodPKo4LMG4o\n",
       "1Vh+H4IPF0d78OkRoWcBxVrrKVp9Vlyix0ElicovNNP3quNkHR6iD5531BbrFFLwDT3aqQjWNG5S\n",
       "CxBVq7HU3eiTrHiyZ9AOmxuBnI0VTu/wx3pvo9CmmvQx6y2ySYUXs/dGueHJAcqTz7nNjBPkCFxD\n",
       "jy4qgjWCtkKIQOexaizpJfqjySbaWeluPpy1sXxwJ2D5LrXDZ+tf3AOwelFPL2XK7ennvZwYs/pB\n",
       "dTBOtL74Az36qAiWJ0OyPWjU3CBIU2ki6fIYHrOqttbt6ZshWv4q5anUJ3G9zyzv1oDZuhfnzPGV\n",
       "Yp2gNBfxtPNU9sUGrT+usxebMXJZCiWDmQpWICcBTSKa4XXZuWCJF5eZEY5TxW0pT2Vj+ZPwQnFi\n",
       "SbkZSCgGhDKnK9/EETUl2LOLperjuOMPx/hfDu8ZmMTZ1qhsLCnaIiwzuzVwck0PvAJv980KlvDp\n",
       "ud0uW7tsq5ym4l062cbCOD+ggqB3luEGb6deeADXuX1LScv2+5UsFSc4tIyzpYjr75alRrBOQFRM\n",
       "cbE85vHKi1FLbKxwxrjOcJqqISwNjn7ld3kx7uaS8c+/fC7U+Z34v349ri5qvwGH5f6uyU+3FQAA\n",
       "AABJRU5ErkJggg==\n",
       "\" style=\"display:inline;vertical-align:middle;\" /></a><br>(see <a class=\"ProveItLink\" href=\"../../../__pv_it/theorems/967982fbb5b5e556a25655a7d365953f560869690/dependencies.ipynb\">dependencies</a>)<br>"
      ],
      "text/plain": [
       "<IPython.core.display.HTML object>"
      ]
     },
     "metadata": {},
     "output_type": "display_data"
    }
   ],
   "source": [
    "%proving scalar_mult_eq"
   ]
  },
  {
   "cell_type": "code",
   "execution_count": 3,
   "metadata": {},
   "outputs": [
    {
     "data": {
      "text/html": [
       "<strong id=\"defaults.assumptions\">defaults.assumptions:</strong> <a class=\"ProveItLink\" href=\"../../../../../logic/equality/__pv_it/theorems/a2f273775b34b7bb503fbfadbc586772d723fb0d0/expr.ipynb\"><img src=\"data:image/png;base64,iVBORw0KGgoAAAANSUhEUgAAAD8AAAAVBAMAAAADRiu8AAAAMFBMVEX///8AAAAAAAAAAAAAAAAA\n",
       "AAAAAAAAAAAAAAAAAAAAAAAAAAAAAAAAAAAAAAAAAAAv3aB7AAAAD3RSTlMAInZUiRDNmWbv3US7\n",
       "qzJazP2FAAAACXBIWXMAAA7EAAAOxAGVKw4bAAABGElEQVQoz32SPUvDUBSGn+bDNLEtmZ2ii5Pg\n",
       "IK4WETchuLi0kkVw7CBSETG4OBp0dCm4ORX9AW3dheImOAji4uTiKr7pZr4u3HPu5X1yz3vvCeBT\n",
       "OmaSsVoOPKRhrVzHiMGOKgAOwImrgEtwq3TckPVKYC7mSGl3ZX8rcxd7OaYL1pRD7XrGizNQdu5n\n",
       "Y6qlZSZcQT3iTtGv/zQzXj/0xRsIu4UWTu6uoRtwLek7BWQ2yNkbha1fmE/SEtr5dvjfA8cYiUoM\n",
       "eILO8BUre8IzDYH1MTuw8XnCYxY4YyTfTpsv2Fsy+7mWdjfP1WxviPde9orbmguq0itUrci+Uepr\n",
       "TgoBL2i2oTbWslMImBenio30n6sF5c1chD8Hsjm4tzhGpwAAAABJRU5ErkJggg==\n",
       "\" style=\"display:inline;vertical-align:middle;\" /></a><br>"
      ],
      "text/plain": [
       "<IPython.core.display.HTML object>"
      ]
     },
     "metadata": {},
     "output_type": "display_data"
    }
   ],
   "source": [
    "defaults.assumptions = scalar_mult_eq.all_conditions()"
   ]
  },
  {
   "cell_type": "code",
   "execution_count": 4,
   "metadata": {},
   "outputs": [
    {
     "data": {
      "text/html": [
       "<strong id=\"x_eq_y\">x_eq_y:</strong> <a class=\"ProveItLink\" href=\"../../../../../logic/equality/__pv_it/theorems/8dc625ee9fbf5f96228c059ed58b16ec83d4e40d0/expr.ipynb\"><img src=\"data:image/png;base64,iVBORw0KGgoAAAANSUhEUgAAADMAAAANBAMAAAD2/0vEAAAAMFBMVEX///8AAAAAAAAAAAAAAAAA\n",
       "AAAAAAAAAAAAAAAAAAAAAAAAAAAAAAAAAAAAAAAAAAAv3aB7AAAAD3RSTlMAEHarMolUmd1mIs3v\n",
       "RLtmgJDEAAAACXBIWXMAAA7EAAAOxAGVKw4bAAAAmUlEQVQY02NgEFIWCU1gQAGM6hMYhIF0AZMR\n",
       "ewOQZu8AAwMgk5XtAMN8BgbOBZwfmSeg6nIDqrVjYGBhYN/AgAYEeBQYDoEYQBod3Bdg+QKmFzAK\n",
       "oNrFUM3AdICBQe6CDQMruq7HDHxAJfmONQzX0KWKGe4DXSauxFaZgC4lHFS/gAEXiMYhzrqB8RgO\n",
       "KQ4F5gAcUmyTaoEkAEh8IT7vWgQmAAAAAElFTkSuQmCC\n",
       "\" style=\"display:inline;vertical-align:middle;\" /></a><br>"
      ],
      "text/plain": [
       "<IPython.core.display.HTML object>"
      ]
     },
     "metadata": {},
     "output_type": "display_data"
    }
   ],
   "source": [
    "x_eq_y = defaults.assumptions[-1]"
   ]
  },
  {
   "cell_type": "code",
   "execution_count": 5,
   "metadata": {},
   "outputs": [
    {
     "data": {
      "text/html": [
       "<span style=\"font-size:20px;\"><a class=\"ProveItLink\" href=\"../../../../../logic/equality/__pv_it/theorems/8dc625ee9fbf5f96228c059ed58b16ec83d4e40d0/expr.ipynb\"><img src=\"data:image/png;base64,iVBORw0KGgoAAAANSUhEUgAAADMAAAANBAMAAAD2/0vEAAAAMFBMVEX///8AAAAAAAAAAAAAAAAA\n",
       "AAAAAAAAAAAAAAAAAAAAAAAAAAAAAAAAAAAAAAAAAAAv3aB7AAAAD3RSTlMAEHarMolUmd1mIs3v\n",
       "RLtmgJDEAAAACXBIWXMAAA7EAAAOxAGVKw4bAAAAmUlEQVQY02NgEFIWCU1gQAGM6hMYhIF0AZMR\n",
       "ewOQZu8AAwMgk5XtAMN8BgbOBZwfmSeg6nIDqrVjYGBhYN/AgAYEeBQYDoEYQBod3Bdg+QKmFzAK\n",
       "oNrFUM3AdICBQe6CDQMruq7HDHxAJfmONQzX0KWKGe4DXSauxFaZgC4lHFS/gAEXiMYhzrqB8RgO\n",
       "KQ4F5gAcUmyTaoEkAEh8IT7vWgQmAAAAAElFTkSuQmCC\n",
       "\" style=\"display:inline;vertical-align:middle;\" /></a> <a class=\"ProveItLink\" href=\"../../../__pv_it/_proof_scalar_mult_eq/ea8faace458710b39dba1cd0e1c50b445368cb4a0/proof.ipynb\" style=\"text-decoration: none\">&nbsp;&#x22A2;&nbsp;&nbsp;</a><a class=\"ProveItLink\" href=\"../../../__pv_it/theorems/6127cecbb1ae17111efda415fbfb321874894a130/expr.ipynb\"><img src=\"data:image/png;base64,iVBORw0KGgoAAAANSUhEUgAAAIcAAAAVBAMAAACeZ+BxAAAAMFBMVEX///8AAAAAAAAAAAAAAAAA\n",
       "AAAAAAAAAAAAAAAAAAAAAAAAAAAAAAAAAAAAAAAAAAAv3aB7AAAAD3RSTlMAInZUiRDNmWbv3US7\n",
       "qzJazP2FAAAACXBIWXMAAA7EAAAOxAGVKw4bAAABuklEQVQ4y3WUMUgCYRTH/3feeaepOUfDFUQt\n",
       "QUMEtSRigYMkLS1ZLkGjQ4gRoTRUQ5AVTS1CQ1CL1NSktTQF0hY0CNHSkkuN0fsuzuz73j3wO/y/\n",
       "n//v+b13H4A4mNA4Me4r6hNcqs9RNZ68Fssk2BhTJZ7UK4CZ502CWVnxI9cAq8Kn7IKs+JF7QAg+\n",
       "cSoLfmQoiyk/k3VZ8CODFWyIZyrT/hMXx1dS1IeMDCukOVpBDjBa7oYDdfNI6/avoD9ZNWDXPYdL\n",
       "N1peaf9II1DFIZ1eHuf07Rh40L1u2HH7M0pnOC1XopCvtNcLQFZntF0HKBqivi9aYrDcXn7IJgqZ\n",
       "DTnCNdYRqVATSM8J7uL3uN1pvWVMJLKRjX3TcFdFkav0o4WekW7ETap4Rj4TlSxCr9LfqeEe6KdU\n",
       "uptZrj9DVHwgV6KQeESE7O2m6KTVhF2OeZnZt03ceB3tDYXENhrUASuBd9H8/REr6WWWhgMlUfGV\n",
       "bKKQyCXLdBGE6wi3+TnUarLCkfNidrgXze91U0gjb57Qo0SfO95kUJVkMuxEE1RyU3SDN2G8ZTKw\n",
       "s0VrRNyPmsPeV8x9ypNDwA/Gr2Zfz+rVXwAAAABJRU5ErkJggg==\n",
       "\" style=\"display:inline;vertical-align:middle;\" /></a></span>"
      ],
      "text/plain": [
       "{x = y} |- (alpha * x) = (alpha * y)"
      ]
     },
     "metadata": {},
     "output_type": "display_data"
    },
    {
     "name": "stdout",
     "output_type": "stream",
     "text": [
      "scalar_mult_eq may now be readily provable (assuming required theorems are usable).  Simply execute \"%qed\".\n"
     ]
    }
   ],
   "source": [
    "x_eq_y.substitution(ScalarMult(alpha, x))"
   ]
  },
  {
   "cell_type": "code",
   "execution_count": 6,
   "metadata": {},
   "outputs": [
    {
     "name": "stdout",
     "output_type": "stream",
     "text": [
      "proveit.linear_algebra.scalar_multiplication.scalar_mult_eq has been proven.\n"
     ]
    },
    {
     "data": {
      "text/html": [
       "<table><tr><th>&nbsp;</th><th>step type</th><th>requirements</th><th>statement</th></tr>\n",
       "<tr><td><a name=\"-0x631118827d0e2470_step0\">0</a></td><td>generalization</td><td><a href=\"#-0x631118827d0e2470_step1\">1</a></td><td><span style=\"font-size:20px;\"> <a class=\"ProveItLink\" href=\"../../../__pv_it/_proof_scalar_mult_eq/33813cdb9cc293cdf38577325894d4bc0830591c0/proof.ipynb\" style=\"text-decoration: none\">&nbsp;&#x22A2;&nbsp;&nbsp;</a><a class=\"ProveItLink\" href=\"../../../__pv_it/theorems/2978f6aa81acc01cfaed7c03169392dc845d524a0/expr.ipynb\"><img src=\"data:image/png;base64,iVBORw0KGgoAAAANSUhEUgAAASsAAAAZBAMAAACbTxWVAAAAMFBMVEX///8AAAAAAAAAAAAAAAAA\n",
       "AAAAAAAAAAAAAAAAAAAAAAAAAAAAAAAAAAAAAAAAAAAv3aB7AAAAD3RSTlMAq1RmmUTNIjK7EInv\n",
       "3XZ/CtNrAAAACXBIWXMAAA7EAAAOxAGVKw4bAAADoElEQVRIx8WXTWgTQRTHX5LdbHY3SQNe1GII\n",
       "tHhqZdFS6SUGitZSWgOiBy0a9CAIQuqtUks8W2hEVOxBFhEFKXWt2Iug0ZNaLPFQ6KGRbY0UP1qC\n",
       "Hio9iPOx2SQ7E81isQ/+3Wb4Z+aXeS9vJgBs7CqkYStjtRDjDadgi8OnbRqWZImNdB13/Sk2EWvZ\n",
       "Ehun6riZEE0qjBXBAy0OLA9+eDUXVF6DihNhjevmxEdLCOsgfn3OgSUk0cPvpvDvW+LFea6bE36d\n",
       "CmFdwQnNOrACeA+H3eSw2xIvOrhuXqknLGmETo05awt/wGk3WDlLvAjqPDcv3lIhLFz1fqbk97ms\n",
       "fG+Kip8bjePmxlkqzPSuUJhlsIKFwqLhAkswqEB9tr0yqqztvIr2XI1w3LXOqW5QkOsxEGGswwAT\n",
       "DJaQAZnZ+kR9LLwhWNI8TKYv2svDktmPViGb01/A8b7srnUabeArAXQCEcYaAinCYKGhIWbtbH2s\n",
       "UIwqaIKc+FIe3Q8H9G0oZzmOu8YZiPWDB03fBkQYS9bVJNtOJ+CpG6xgkuoI2qIUTtEjPEkGDpFF\n",
       "Sxx3jVOBOcwJ40CEsbymn9Pl93AqvgGsN6hmZnH2QzTjc6R75zjuWqe4AeMZgEEgIodPKo4LMG4o\n",
       "1Vh+H4IPF0d78OkRoWcBxVrrKVp9Vlyix0ElicovNNP3quNkHR6iD5531BbrFFLwDT3aqQjWNG5S\n",
       "CxBVq7HU3eiTrHiyZ9AOmxuBnI0VTu/wx3pvo9CmmvQx6y2ySYUXs/dGueHJAcqTz7nNjBPkCFxD\n",
       "jy4qgjWCtkKIQOexaizpJfqjySbaWeluPpy1sXxwJ2D5LrXDZ+tf3AOwelFPL2XK7ennvZwYs/pB\n",
       "dTBOtL74Az36qAiWJ0OyPWjU3CBIU2ki6fIYHrOqttbt6ZshWv4q5anUJ3G9zyzv1oDZuhfnzPGV\n",
       "Yp2gNBfxtPNU9sUGrT+usxebMXJZCiWDmQpWICcBTSKa4XXZuWCJF5eZEY5TxW0pT2Vj+ZPwQnFi\n",
       "SbkZSCgGhDKnK9/EETUl2LOLperjuOMPx/hfDu8ZmMTZ1qhsLCnaIiwzuzVwck0PvAJv980KlvDp\n",
       "ud0uW7tsq5ym4l062cbCOD+ggqB3luEGb6deeADXuX1LScv2+5UsFSc4tIyzpYjr75alRrBOQFRM\n",
       "cbE85vHKi1FLbKxwxrjOcJqqISwNjn7ld3kx7uaS8c+/fC7U+Z34v349ri5qvwGH5f6uyU+3FQAA\n",
       "AABJRU5ErkJggg==\n",
       "\" style=\"display:inline;vertical-align:middle;\" /></a></span></td></tr>\n",
       "<tr><td><a name=\"-0x631118827d0e2470_step1\">1</a></td><td>instantiation</td><td><a href=\"#-0x631118827d0e2470_step2\">2</a>, <a href=\"#-0x631118827d0e2470_step3\">3</a></td><td><span style=\"font-size:20px;\"><a class=\"ProveItLink\" href=\"../../../../../logic/equality/__pv_it/theorems/8dc625ee9fbf5f96228c059ed58b16ec83d4e40d0/expr.ipynb\"><img src=\"data:image/png;base64,iVBORw0KGgoAAAANSUhEUgAAADMAAAANBAMAAAD2/0vEAAAAMFBMVEX///8AAAAAAAAAAAAAAAAA\n",
       "AAAAAAAAAAAAAAAAAAAAAAAAAAAAAAAAAAAAAAAAAAAv3aB7AAAAD3RSTlMAEHarMolUmd1mIs3v\n",
       "RLtmgJDEAAAACXBIWXMAAA7EAAAOxAGVKw4bAAAAmUlEQVQY02NgEFIWCU1gQAGM6hMYhIF0AZMR\n",
       "ewOQZu8AAwMgk5XtAMN8BgbOBZwfmSeg6nIDqrVjYGBhYN/AgAYEeBQYDoEYQBod3Bdg+QKmFzAK\n",
       "oNrFUM3AdICBQe6CDQMruq7HDHxAJfmONQzX0KWKGe4DXSauxFaZgC4lHFS/gAEXiMYhzrqB8RgO\n",
       "KQ4F5gAcUmyTaoEkAEh8IT7vWgQmAAAAAElFTkSuQmCC\n",
       "\" style=\"display:inline;vertical-align:middle;\" /></a> <a class=\"ProveItLink\" href=\"../../../__pv_it/_proof_scalar_mult_eq/ea8faace458710b39dba1cd0e1c50b445368cb4a0/proof.ipynb\" style=\"text-decoration: none\">&nbsp;&#x22A2;&nbsp;&nbsp;</a><a class=\"ProveItLink\" href=\"../../../__pv_it/theorems/6127cecbb1ae17111efda415fbfb321874894a130/expr.ipynb\"><img src=\"data:image/png;base64,iVBORw0KGgoAAAANSUhEUgAAAIcAAAAVBAMAAACeZ+BxAAAAMFBMVEX///8AAAAAAAAAAAAAAAAA\n",
       "AAAAAAAAAAAAAAAAAAAAAAAAAAAAAAAAAAAAAAAAAAAv3aB7AAAAD3RSTlMAInZUiRDNmWbv3US7\n",
       "qzJazP2FAAAACXBIWXMAAA7EAAAOxAGVKw4bAAABuklEQVQ4y3WUMUgCYRTH/3feeaepOUfDFUQt\n",
       "QUMEtSRigYMkLS1ZLkGjQ4gRoTRUQ5AVTS1CQ1CL1NSktTQF0hY0CNHSkkuN0fsuzuz73j3wO/y/\n",
       "n//v+b13H4A4mNA4Me4r6hNcqs9RNZ68Fssk2BhTJZ7UK4CZ502CWVnxI9cAq8Kn7IKs+JF7QAg+\n",
       "cSoLfmQoiyk/k3VZ8CODFWyIZyrT/hMXx1dS1IeMDCukOVpBDjBa7oYDdfNI6/avoD9ZNWDXPYdL\n",
       "N1peaf9II1DFIZ1eHuf07Rh40L1u2HH7M0pnOC1XopCvtNcLQFZntF0HKBqivi9aYrDcXn7IJgqZ\n",
       "DTnCNdYRqVATSM8J7uL3uN1pvWVMJLKRjX3TcFdFkav0o4WekW7ETap4Rj4TlSxCr9LfqeEe6KdU\n",
       "uptZrj9DVHwgV6KQeESE7O2m6KTVhF2OeZnZt03ceB3tDYXENhrUASuBd9H8/REr6WWWhgMlUfGV\n",
       "bKKQyCXLdBGE6wi3+TnUarLCkfNidrgXze91U0gjb57Qo0SfO95kUJVkMuxEE1RyU3SDN2G8ZTKw\n",
       "s0VrRNyPmsPeV8x9ypNDwA/Gr2Zfz+rVXwAAAABJRU5ErkJggg==\n",
       "\" style=\"display:inline;vertical-align:middle;\" /></a></span></td></tr>\n",
       "<tr><td>&nbsp;</td><td colspan=4 style=\"text-align:left\"><span style=\"font-size:20px;\"><a class=\"ProveItLink\" href=\"../../../__pv_it/_proof_scalar_mult_eq/1fec0eaf1cfb24a7fd0f169d6d2b28f8410bcd7c0/expr.ipynb\"><img src=\"data:image/png;base64,iVBORw0KGgoAAAANSUhEUgAAADYAAAAVBAMAAAD/UwB2AAAAMFBMVEX///8AAAAAAAAAAAAAAAAA\n",
       "AAAAAAAAAAAAAAAAAAAAAAAAAAAAAAAAAAAAAAAAAAAv3aB7AAAAD3RSTlMAmYkQqzLvVES73WZ2\n",
       "Is1wFLxSAAAACXBIWXMAAA7EAAAOxAGVKw4bAAABDUlEQVQoz2NggANeBmSAyjuOwuM4AKYYlQyA\n",
       "JLsCihzDaTCpElYAJO1QpRj4QBoY0jtBlDSaHLcAyOTPYHYCmhxDMhAzLQCx2B+gy70G6nVbAtLN\n",
       "iOSUKzp3QM4AYn6wa/k2IJyfyzAf6IJ9QOb9AJAAVwFczmwDgxSQKgPierAAWwNcTp6BYRGQigdi\n",
       "LXS5TAbmH0CqDYinMKCayfyHgfsDkK4C4hywCOcBuNx3BpYHtQwMO4EB/gMswuQAN3MOQ5UA0FtC\n",
       "QE9/AAuwAkMgciYQXGAwORTrA3T7CqCnoRqWogUL7wKGEj6oIzaiyTFuYFgJixvOC6hyNxkY9sjC\n",
       "nDcBVW4uMucOihTPBQYAeJk0yx5NH1wAAAAASUVORK5CYII=\n",
       "\" style=\"display:inline;vertical-align:middle;\" /></a> : <a class=\"ProveItLink\" href=\"../../../__pv_it/_proof_scalar_mult_eq/f02de63675b6c2e6634096b9883ba872805671c30/expr.ipynb\"><img src=\"data:image/png;base64,iVBORw0KGgoAAAANSUhEUgAAADUAAAAJBAMAAABgcHmVAAAAMFBMVEX///8AAAAAAAAAAAAAAAAA\n",
       "AAAAAAAAAAAAAAAAAAAAAAAAAAAAAAAAAAAAAAAAAAAv3aB7AAAAD3RSTlMAiasyIt1EEO9UdruZ\n",
       "zWZ7xlX5AAAACXBIWXMAAA7EAAAOxAGVKw4bAAAAj0lEQVQI12NgYBAUMmBAByyKSxYAKdcE9haW\n",
       "CWhyGQ7c34FUFwPDHq4CVCn2PgaeAAYGng8MDGcZQfy/CDmgIKsAAwPHBgYGCXGQQAxCDihYn8DA\n",
       "UA+0Ux7dOqDgeyDFD5STQHdm/QQGXU4HBp4NDHznmdHkuBdwxvAAacF3y3mkYILMu4FgCwO7lrDT\n",
       "YgYA9IceDWQPQA0AAAAASUVORK5CYII=\n",
       "\" style=\"display:inline;vertical-align:middle;\" /></a>, <a class=\"ProveItLink\" href=\"../../../../../__pv_it/common/a0d9d672aa5e272d907247690c152cc2c6daafb70/expr.ipynb\"><img src=\"data:image/png;base64,iVBORw0KGgoAAAANSUhEUgAAAAsAAAAJBAMAAAAWSsseAAAAMFBMVEX///8AAAAAAAAAAAAAAAAA\n",
       "AAAAAAAAAAAAAAAAAAAAAAAAAAAAAAAAAAAAAAAAAAAv3aB7AAAAD3RSTlMAEHarMolUmd1mIs3v\n",
       "RLtmgJDEAAAACXBIWXMAAA7EAAAOxAGVKw4bAAAAQklEQVQI12NgEFIWCU1gYChgMmJvYOBcwPmR\n",
       "eQIDCwP7BgYQ4FEAU/cXMAowyF2wYWBlYMh3rGG4xsAgrsRWmcAAAFEjCyBvD0T9AAAAAElFTkSu\n",
       "QmCC\n",
       "\" style=\"display:inline;vertical-align:middle;\" /></a> : <a class=\"ProveItLink\" href=\"../../../../../__pv_it/common/a0d9d672aa5e272d907247690c152cc2c6daafb70/expr.ipynb\"><img src=\"data:image/png;base64,iVBORw0KGgoAAAANSUhEUgAAAAsAAAAJBAMAAAAWSsseAAAAMFBMVEX///8AAAAAAAAAAAAAAAAA\n",
       "AAAAAAAAAAAAAAAAAAAAAAAAAAAAAAAAAAAAAAAAAAAv3aB7AAAAD3RSTlMAEHarMolUmd1mIs3v\n",
       "RLtmgJDEAAAACXBIWXMAAA7EAAAOxAGVKw4bAAAAQklEQVQI12NgEFIWCU1gYChgMmJvYOBcwPmR\n",
       "eQIDCwP7BgYQ4FEAU/cXMAowyF2wYWBlYMh3rGG4xsAgrsRWmcAAAFEjCyBvD0T9AAAAAElFTkSu\n",
       "QmCC\n",
       "\" style=\"display:inline;vertical-align:middle;\" /></a>, <a class=\"ProveItLink\" href=\"../../../../../__pv_it/common/ff7dba4ef0bbe791ab573bf2d9c220a304399ac80/expr.ipynb\"><img src=\"data:image/png;base64,iVBORw0KGgoAAAANSUhEUgAAAAsAAAANBAMAAACN24kIAAAAMFBMVEX///8AAAAAAAAAAAAAAAAA\n",
       "AAAAAAAAAAAAAAAAAAAAAAAAAAAAAAAAAAAAAAAAAAAv3aB7AAAAD3RSTlMAEHaZZquJVO8y3btE\n",
       "zSKD2s2pAAAACXBIWXMAAA7EAAAOxAGVKw4bAAAAVklEQVQI12NgVHZgEGVgYGNvYPBnYJjOvIAh\n",
       "moFBgEOBoYmBgeG8AOdPIGXLwNQApLYycAcAKVOG8w5ASjTJ/gEDCOQCMdsFxnYgxaXAmgCk2J1s\n",
       "gCQAaFoNDtFIIdEAAAAASUVORK5CYII=\n",
       "\" style=\"display:inline;vertical-align:middle;\" /></a> : <a class=\"ProveItLink\" href=\"../../../../../__pv_it/common/ff7dba4ef0bbe791ab573bf2d9c220a304399ac80/expr.ipynb\"><img src=\"data:image/png;base64,iVBORw0KGgoAAAANSUhEUgAAAAsAAAANBAMAAACN24kIAAAAMFBMVEX///8AAAAAAAAAAAAAAAAA\n",
       "AAAAAAAAAAAAAAAAAAAAAAAAAAAAAAAAAAAAAAAAAAAv3aB7AAAAD3RSTlMAEHaZZquJVO8y3btE\n",
       "zSKD2s2pAAAACXBIWXMAAA7EAAAOxAGVKw4bAAAAVklEQVQI12NgVHZgEGVgYGNvYPBnYJjOvIAh\n",
       "moFBgEOBoYmBgeG8AOdPIGXLwNQApLYycAcAKVOG8w5ASjTJ/gEDCOQCMdsFxnYgxaXAmgCk2J1s\n",
       "gCQAaFoNDtFIIdEAAAAASUVORK5CYII=\n",
       "\" style=\"display:inline;vertical-align:middle;\" /></a></span></td></tr><tr><td><a name=\"-0x631118827d0e2470_step2\">2</a></td><td>axiom</td><td></td><td><span style=\"font-size:20px;\"> <a class=\"ProveItLink\" href=\"../../../../../logic/equality/_theory_nbs_/axioms.ipynb#substitution\" style=\"text-decoration: none\">&nbsp;&#x22A2;&nbsp;&nbsp;</a><a class=\"ProveItLink\" href=\"../../../../../logic/equality/__pv_it/axioms/b3647e5bced6c805148d96be1aa0946871a946d20/expr.ipynb\"><img src=\"data:image/png;base64,iVBORw0KGgoAAAANSUhEUgAAAO8AAAAXBAMAAAARnwX+AAAAMFBMVEX///8AAAAAAAAAAAAAAAAA\n",
       "AAAAAAAAAAAAAAAAAAAAAAAAAAAAAAAAAAAAAAAAAAAv3aB7AAAAD3RSTlMAq1RmmUTNIjK7EInv\n",
       "3XZ/CtNrAAAACXBIWXMAAA7EAAAOxAGVKw4bAAAC/UlEQVRIx7VWTWgTURCeJLtpkk3SHDxYLCXi\n",
       "z0VLV1Chl1pp/aOCwYMnMYseBE/rUalYPUrFigexh7IFDxah1B48KJYgCKJUglDwEkixInoovVV6\n",
       "EOfN+9vsS1sT6MDMfvvmy5t5+97MC0Db4pu44z/4fuSnLUu+aGK7vj3/itACe9nXRuBDZEfeaIzy\n",
       "vRmzkZN3uZ5iL9dbj5vxmHV2v1eYSTIwmVHODa732NZMtB7YcpnNHphUmEli0GRGOUe5shydYuuB\n",
       "s2TLgcYkn0xmlJMNSBOYSbKNLT5I9l0Ik1wzmVFO0uW6WKt9biPwCDNHFndJPLv84i1+uFcGUXMy\n",
       "Ky5M4/ctcD0LMLnZ7IObB+ZL+6vwYL7HqgIcp/2vkRSgkePEK3ACz4HH9SZ0MEZm2DVn3+LQfaWG\n",
       "8UfihJ/YiOEMhw2i5tzHzLoAMDxpOnBK6EgfG2sp8Adm4msSp8CienlkEDUnyNbhC1LXuMbrdLY6\n",
       "m1TgtoGdqsZZ6lqXzTLWnHKQwuXbFa7gDbC8uueZe/XMCvZRexliocB8kFqidIhPnS5oXPYzmHuv\n",
       "scchzmnIs89c5QrzrJVAP7UzvyuJR3O2MxjXgWnw3DMUVzkApvQqGZ4pdYMjp2kseMWBx5RFYoIr\n",
       "jFJKw9R4YCqFj9u98EsHFoMQdoi6uVuSuO/Bebgoq6xBNAdOQhnPnzXHFWJ0qp5w2jrZPdAT3uN1\n",
       "NYt0ADxkpk/h56vxIdb/lozAmgPTCxdwz3IlrkI+kk1V6EpdEq8TapB/auXAn47REjTmtVM1Ajdw\n",
       "XqPeESoumw2AlzDqeBY+4Ju9pgPToBDpoOsgXrgavRqsaDMIcxwvw+6pIaEgVgUwXrR+LPzGB+zv\n",
       "93RgGhQiHShPITfpKSzkVnS9YU6uHpvjV2HoOqSkxSVVzPhpt2kdKwfKDCRklSGOZqDmDXHiA+zy\n",
       "T/tcuaT34hbYvIfYQax+qXkDUQ62naG/ORLnt/gzJTk/hYr2skp1w5MEe2CueWDl2Gnxd27qf2UN\n",
       "1FvBvR7LAAAAAElFTkSuQmCC\n",
       "\" style=\"display:inline;vertical-align:middle;\" /></a></span></td></tr>\n",
       "<tr><td>&nbsp;</td><td colspan=4 style-\"text-align:left\"><a class=\"ProveItLink\" href=\"../../../../../logic/equality/_theory_nbs_/axioms.ipynb#substitution\">proveit.logic.equality.substitution</a></td></tr><tr><td><a name=\"-0x631118827d0e2470_step3\">3</a></td><td>assumption</td><td></td><td><span style=\"font-size:20px;\"><a class=\"ProveItLink\" href=\"../../../../../logic/equality/__pv_it/theorems/8dc625ee9fbf5f96228c059ed58b16ec83d4e40d0/expr.ipynb\"><img src=\"data:image/png;base64,iVBORw0KGgoAAAANSUhEUgAAADMAAAANBAMAAAD2/0vEAAAAMFBMVEX///8AAAAAAAAAAAAAAAAA\n",
       "AAAAAAAAAAAAAAAAAAAAAAAAAAAAAAAAAAAAAAAAAAAv3aB7AAAAD3RSTlMAEHarMolUmd1mIs3v\n",
       "RLtmgJDEAAAACXBIWXMAAA7EAAAOxAGVKw4bAAAAmUlEQVQY02NgEFIWCU1gQAGM6hMYhIF0AZMR\n",
       "ewOQZu8AAwMgk5XtAMN8BgbOBZwfmSeg6nIDqrVjYGBhYN/AgAYEeBQYDoEYQBod3Bdg+QKmFzAK\n",
       "oNrFUM3AdICBQe6CDQMruq7HDHxAJfmONQzX0KWKGe4DXSauxFaZgC4lHFS/gAEXiMYhzrqB8RgO\n",
       "KQ4F5gAcUmyTaoEkAEh8IT7vWgQmAAAAAElFTkSuQmCC\n",
       "\" style=\"display:inline;vertical-align:middle;\" /></a> <a class=\"ProveItLink\" href=\"../../../__pv_it/_proof_scalar_mult_eq/276c4ebb34a4a5319cb0cc822d5c4c4923b4578f0/proof.ipynb\" style=\"text-decoration: none\">&nbsp;&#x22A2;&nbsp;&nbsp;</a><a class=\"ProveItLink\" href=\"../../../../../logic/equality/__pv_it/theorems/8dc625ee9fbf5f96228c059ed58b16ec83d4e40d0/expr.ipynb\"><img src=\"data:image/png;base64,iVBORw0KGgoAAAANSUhEUgAAADMAAAANBAMAAAD2/0vEAAAAMFBMVEX///8AAAAAAAAAAAAAAAAA\n",
       "AAAAAAAAAAAAAAAAAAAAAAAAAAAAAAAAAAAAAAAAAAAv3aB7AAAAD3RSTlMAEHarMolUmd1mIs3v\n",
       "RLtmgJDEAAAACXBIWXMAAA7EAAAOxAGVKw4bAAAAmUlEQVQY02NgEFIWCU1gQAGM6hMYhIF0AZMR\n",
       "ewOQZu8AAwMgk5XtAMN8BgbOBZwfmSeg6nIDqrVjYGBhYN/AgAYEeBQYDoEYQBod3Bdg+QKmFzAK\n",
       "oNrFUM3AdICBQe6CDQMruq7HDHxAJfmONQzX0KWKGe4DXSauxFaZgC4lHFS/gAEXiMYhzrqB8RgO\n",
       "KQ4F5gAcUmyTaoEkAEh8IT7vWgQmAAAAAElFTkSuQmCC\n",
       "\" style=\"display:inline;vertical-align:middle;\" /></a></span></td></tr>\n",
       "</table>"
      ],
      "text/plain": [
       "\tstep type\trequirements\tstatement\n",
       "0\tgeneralization\t1\t|- forall_{alpha} [forall_{x, y | x = y} ((alpha * x) = (alpha * y))]\n",
       "1\tinstantiation\t2, 3\t{x = y} |- (alpha * x) = (alpha * y)\n",
       "\tf(_a) : alpha * _a, x : x, y : y\n",
       "2\taxiom\t\t|- forall_{f, x, y | x = y} (f(x) = f(y))\n",
       "\tproveit.logic.equality.substitution\n",
       "3\tassumption\t\t{x = y} |- x = y"
      ]
     },
     "execution_count": 6,
     "metadata": {},
     "output_type": "execute_result"
    }
   ],
   "source": [
    "%qed"
   ]
  },
  {
   "cell_type": "code",
   "execution_count": null,
   "metadata": {},
   "outputs": [],
   "source": []
  }
 ],
 "metadata": {
  "kernelspec": {
   "display_name": "Python 3",
   "language": "python",
   "name": "python3"
  }
 },
 "nbformat": 4,
 "nbformat_minor": 0
}