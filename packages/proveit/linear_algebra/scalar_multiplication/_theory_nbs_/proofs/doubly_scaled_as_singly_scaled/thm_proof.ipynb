{
 "cells": [
  {
   "cell_type": "markdown",
   "metadata": {},
   "source": [
    "Proof of <a class=\"ProveItLink\" href=\"../../../../../_theory_nbs_/theory.ipynb\">proveit</a>.<a class=\"ProveItLink\" href=\"../../../../_theory_nbs_/theory.ipynb\">linear_algebra</a>.<a class=\"ProveItLink\" href=\"../../theory.ipynb\">scalar_multiplication</a>.<a class=\"ProveItLink\" href=\"../../theorems.ipynb#doubly_scaled_as_singly_scaled\">doubly_scaled_as_singly_scaled</a> theorem\n",
    "========"
   ]
  },
  {
   "cell_type": "code",
   "execution_count": 1,
   "metadata": {},
   "outputs": [],
   "source": [
    "import proveit\n",
    "theory = proveit.Theory() # the theorem's theory"
   ]
  },
  {
   "cell_type": "code",
   "execution_count": 2,
   "metadata": {},
   "outputs": [
    {
     "data": {
      "text/html": [
       "With these <a href=\"allowed_presumptions.txt\">allowed</a>/<a href=\"disallowed_presumptions.txt\">disallowed</a> theorem/theory presumptions (e.g., to avoid circular dependencies), we begin our proof of<br><strong id=\"doubly_scaled_as_singly_scaled\">doubly_scaled_as_singly_scaled:</strong> <a class=\"ProveItLink\" href=\"../../../__pv_it/theorems/f07684d9a68e6616c3b52b9026165688bc1911c90/expr.ipynb\"><img src=\"data:image/png;base64,iVBORw0KGgoAAAANSUhEUgAAAlsAAAAzBAMAAABS09BcAAAAMFBMVEX///8AAAAAAAAAAAAAAAAA\n",
       "AAAAAAAAAAAAAAAAAAAAAAAAAAAAAAAAAAAAAAAAAAAv3aB7AAAAD3RSTlMAq1RmmUTNIjK7EInv\n",
       "3XZ/CtNrAAAACXBIWXMAAA7EAAAOxAGVKw4bAAAHF0lEQVRo3u2bbYhUVRjHn523+zK7dxeCqD7o\n",
       "gFIRakOrllnrkJqWaFNRJJqN9iGKiKv7aTHdKeiTsjsVi41fuoFErpGT0tuu2URBmFQbYizh0NUs\n",
       "0c1VWhfDJbfzdue+nHPX60RBdg4+7PCfe/7n3N99zss96wKISn9/P8gSKHp/vyX+5qfJCxJPsGiT\n",
       "kyXxN0clHFGJS1wSl8QlcUlcEpcsEpfEJXFJXBKXxCVxSVz/HVxGrTjl92eHozopLHiVLyaLaB5i\n",
       "H+aBboDcw7+DK52f+vsPIjudYMGrfFnHIpoHLkk7zAPdAb4JhKsNyzN4XEK9UVxN+EcsG4orYmOx\n",
       "Cg1eBeXgEiuQ01kakTxo/Z+5ccE8XFxLsfwMj0uoN4orgfMrZYbiitjY2yx4FXog3hbQn2MRxYPW\n",
       "T1kg9nBxvYTRlnhcQr1RXCq+la7wwRixscUseFWvQHIooM9lEcWD1o/nQOzh4sJE0xkel1BveO7C\n",
       "T2lfOK6IjVVZ8KoBkAhmV7NFI4oHq/81iD1cXHE0NFOCqV6oN4yrHf0ohOOK1lisQINX8e3ODpJJ\n",
       "ZWlE8HDqPw1iDxcXfFOrHRatjCK9YVzNtdqxyhQrY6TGEhUakB68wa/CE13Xu9OUPnrTNpTK6TYa\n",
       "ETyc+u+HeHhwLQfYKcIl0qOUWzxPrI4rUQTNmgJXpMacdFGOwrvmJq8Klfg8d/OWgOP2SnRzBRoA\n",
       "K2u4fB/u4dSfH+LhwbURFIQwOf0+SH3pxUX0OMqJ2CG6y0xO7wO1xvYmxujH4myJI9uHL2Tg+Rzk\n",
       "XFzIaqP3qntRLs16w8VFO1Evne2sGV+3WjI0mm3QcmfAowLqy4J67TthkXUdGnNVGr4i9nDqzwrx\n",
       "8ODSLLKN/A1gjeXFRfUD6EEgL/V4GY0o9OEUu2I5P7XS8hZmWYXkAPLzbFN3upvRnhv7II26sdmT\n",
       "XawTrKhZNOmSJn3das7TeAg9/AJ+WHsLTNUR3afAUYpwP3E5T8M/dws9nPq9IR4eXDGbTLKvgpH3\n",
       "DUaq346WBfRjCU4w4zx5DM4CI8aFt1BaG/wCUN/G4Jbm1Gf6xHJsfsm1wrhYJxy+kCzRJn3dcm71\n",
       "ELriMPZuyTE1WSRgmQLwLcnMKg0hLr+HU39tiIcHFxQ68BdjykDgJYjo3XmUl87ueAxixXSHDSPH\n",
       "zfUWmF1HRh4EZT8ChASsn1iYBbz7ac1uxj1xtga4pVQcPUDj5NZldOusjEPc9L4EkcbSHRUdC5tG\n",
       "fqg36ekWG0j6ZXTl7z41TcC6bzMXoR89giEavrlL7OHUnx3i4cW1D68J6sV77AAuorfaCur3biqv\n",
       "RDPgBlicziUqW/5ciurAr9BUaTaxgPRkRbEVnES9neTRxHIurvTNCOCpptIGne5GL0On752RNDYM\n",
       "03DH4e7Ox03apK9bmk0D32rVp6LUVL+qL2p9TVWcuvjmuJdisYdTf0GIhxfXi3hUGRObqwFcRE+1\n",
       "4Rt4lMrd+ZfRQF6911Qs6Jluq1VozSumlkXCO0hXL9yGRxHAuY8OkAdUcnEpn6MPWc0uJmnWrHfH\n",
       "IsGFG0Oz4fzH6MRrVGiTvm45O4MH0E77fNGr7srCk/UxG/tjVzWZ8ewZfJsaoYdTf0WIhxdXE66l\n",
       "leBwABfRE0N4+ZhfLpcz+KJK/Iv2eXhStNAMiHA1Z2HkrI0ErMPqyXwMMy6TVQFUDy4gu5xWE+LP\n",
       "lsuvoUQ1LB8u3BiaU9ZWKK50jjbp65Y6RCO9v8NaYXvVW9eNuEmor7Jn3oHHXZ6Gr4g9nPpHQzy8\n",
       "uEhpzcI5S3CAEx/HE9A2Np7HbbxUdFtknh8i2dWS1c50W3QJseIFgmgMjEuBwUjLdjBV+rwXPcIf\n",
       "4CCYvRZdp1L5bYJuDbPwl2HPquEtW1hwV/MerL4yFOLB4eo1aUYEcankP3o5W8xjFrwO72kV3R5H\n",
       "GyX1EpyGvVbLKBaQjvCU8FSP5jSSE4btx6VUP0R7Mbod7c3xuFJ5+EyHPZDMwUnWpL9b4pfmuSG4\n",
       "xC/TQg9WP5EN8QjiMt4cgFkTouPBH8mNsh3lTFTzoA2Do7B0cBDUsTk5MBbf9QIWkB5btdCEHQCn\n",
       "J6zYd6gHmhnIrlVrRi3oIjNGi8XjUqbNSJyA7RmjpyNDmwx0Cxtq3DGQZuq26Gy0JDzlEHk49bvC\n",
       "PLjsusJp6p5ymT8SVauCqmvcj7uFp6n6J+W+KU9TM0ZYk3hV1bku66Wk6HBbzFbo4dTfEeZxtbiE\n",
       "hdsyk4R2e7jMwXWFs/pPfXNJ0jJCr9zKglf5cgrcd5Are5AhZoZ4GMfy6N/fxbVxQqQOeN8eG/l1\n",
       "C7zyf/pNkM59uGaK/D3jP4SrZ6GkFR2X2qZJWtFxaUUJ6ypwtVi6pBUdV3J/u6QlV0aJS+KSuK4p\n",
       "XEfkn38K3u763wvBJf/8U1Dwn3/+Bfd3kZlD+ACHAAAAAElFTkSuQmCC\n",
       "\" style=\"display:inline;vertical-align:middle;\" /></a><br>(see <a class=\"ProveItLink\" href=\"../../../__pv_it/theorems/fc81d4067b7403bc8e0deedcb83024bd3129c4890/dependencies.ipynb\">dependencies</a>)<br>"
      ],
      "text/plain": [
       "<IPython.core.display.HTML object>"
      ]
     },
     "metadata": {},
     "output_type": "display_data"
    }
   ],
   "source": [
    "%proving doubly_scaled_as_singly_scaled"
   ]
  },
  {
   "cell_type": "code",
   "execution_count": null,
   "metadata": {},
   "outputs": [],
   "source": []
  }
 ],
 "metadata": {
  "kernelspec": {
   "display_name": "Python 3",
   "language": "python",
   "name": "python3"
  }
 },
 "nbformat": 4,
 "nbformat_minor": 0
}