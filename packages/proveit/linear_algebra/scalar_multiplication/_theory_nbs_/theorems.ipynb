{
 "cells": [
  {
   "cell_type": "markdown",
   "metadata": {},
   "source": [
    "Theorems (or conjectures) for the theory of <a class=\"ProveItLink\" href=\"theory.ipynb\">proveit.linear_algebra.scalar_multiplication</a>\n",
    "========"
   ]
  },
  {
   "cell_type": "code",
   "execution_count": 1,
   "metadata": {},
   "outputs": [],
   "source": [
    "import proveit\n",
    "# Prepare this notebook for defining the theorems of a theory:\n",
    "%theorems_notebook # Keep this at the top following 'import proveit'.\n",
    "\n",
    "from proveit import ExprRange, IndexedVar\n",
    "from proveit import a, b, i, j, k, n, x, y, v, K, V, alpha, beta\n",
    "from proveit.core_expr_types import a_1_to_i, a_1_to_n, x_1_to_n\n",
    "from proveit.logic import Forall, Equals, InSet\n",
    "from proveit.numbers import Natural, NaturalPos, one, Add\n",
    "from proveit.abstract_algebra import Fields, FieldAdd, FieldMult\n",
    "from proveit.abstract_algebra import plus, times\n",
    "from proveit.linear_algebra import VecSpaces, VecAdd, ScalarMult\n",
    "from proveit.linear_algebra import binary_lin_comb_ax_by, lin_comb_axn"
   ]
  },
  {
   "cell_type": "code",
   "execution_count": 2,
   "metadata": {},
   "outputs": [
    {
     "name": "stdout",
     "output_type": "stream",
     "text": [
      "Defining theorems for theory 'proveit.linear_algebra.scalar_multiplication'\n",
      "Subsequent end-of-cell assignments will define theorems\n",
      "'%end theorems' will finalize the definitions\n"
     ]
    }
   ],
   "source": [
    "%begin theorems"
   ]
  },
  {
   "cell_type": "markdown",
   "metadata": {},
   "source": [
    "### Closure of linear combinations"
   ]
  },
  {
   "cell_type": "code",
   "execution_count": 3,
   "metadata": {},
   "outputs": [
    {
     "data": {
      "text/html": [
       "<strong id=\"scalar_mult_closure\"><a class=\"ProveItLink\" href=\"proofs/scalar_mult_closure/thm_proof.ipynb\">scalar_mult_closure</a> (conjecture without proof):<br></strong> <a class=\"ProveItLink\" href=\"../__pv_it/theorems/d90e811c616445793fa95d02c127f7aee78b10140/theorem_expr.ipynb\"><img src=\"data:image/png;base64,iVBORw0KGgoAAAANSUhEUgAAAcYAAAAzBAMAAAD/ZLUEAAAAMFBMVEX///+IiIgiIiIQEBB2dnbu\n",
       "7u5UVFTMzMzc3NwyMjK6urpmZmaYmJiqqqpEREQAAACk/Np2AAAAAXRSTlMAQObYZgAAAAlwSFlz\n",
       "AAAOxAAADsQBlSsOGwAABgpJREFUaN7tmn+IFGUYx5/Z23Fmdmfn5uyUfpgee4WEkFtIBIXtpQfi\n",
       "nTKRJ4TgXX8I/VG2okT/1E5pgiS6FkV/5QT2T5htR6SY4Kon2XnWihRFQmdk0kF7a9zldZrX877v\n",
       "zOzszLu55BKyzss+uzPvd+ae9/O+z/vMOy8HwCtiX58BzVH6+vr4QmRmJt8kjOMz12swWtA85euQ\n",
       "MWQMGUPGkDFkDBlDxpAxZLztGWcvvDkdZNsCxax1BwpCMoOf/4tx5U3qcK9tgfJBrTuIELXIBxlH\n",
       "Sc35IKNGfhOFBjFyvdStJ9LMgkUo+s73Xi9CbPEiKriMh4n0XpAxToZSMRvEyPVSt/6MbZzyju+8\n",
       "P4df3zHBZXyJhPpokFEawN9djYpVrpe69SO2ccpp33lLCr8GmOAyKgaeFDnzkfTQqkYxcr3Urads\n",
       "45QWtu8k/Jx8gB4oZTzJMMFlVHHKKbycM4K/uUYxcr3Uq8dyzHhFoRkjtsfZYps1BbDNFlxGeDiZ\n",
       "XMJjbEkmO9MNy6s8L/Xq8TQzeLPrNbdSbNuwBcMsSuISdri7iNFpFqpEqDAeBLjIY4xnQDMaxsjz\n",
       "Uq9OxopY7FEYd1sUh7n6IICaq85W6jVQ6YMPhQrjdpARPDb+AiiPeRmxdvt/AUo4uVjwMjAvnvjz\n",
       "+gvqKoZQYmnGbk2R2dMFGHSvOAULzOfRWwdUzanYBAtVIlQYNYMcwB0A+4yqNcBF4vs4RtC5S+z2\n",
       "F8dASur2JW3tW/iMwwAH/izC23nIexhtL6RIc0tWtT+Ovgw72ZkpLRazowbcR6L0L1KZgd/oxWXy\n",
       "hZGefJCF8HUWqkSoMCZ0Otl/BcGqXuecJd0TTbE5vGnjGLSg0zudUMnA51xEEV0IKYh1I4OH0fZC\n",
       "yhcZvz+O/hOmRfAxLgVxmpwvYtWXaceTfCt6njp/sFAlQoURcsdI3TW527eWU1Qcs8QkAJnyB0nw\n",
       "lekx84spjJ8g8FZtAO4mf8AzTszLumMrQGBrJ68/V2871GMyfbeF0ejMxyI1cQLUsifap6DPidWO\n",
       "SvXiNRCMVVhFnoTS1Andxxj9AdsoT4OKE2weaxckMtDbBULXc8oGkOW3jvUYci+uUdrnmqR+3pAO\n",
       "EbyutbCN4LkPvJW2F3GhNAnrWSh5/Tm6YG5Uikxv1WV3Hanp1MS/Qct974TL2Kwy6XCVDmFbpenj\n",
       "9pii4GHcSgJYmNiW8jHKj7CI2OkGwyBmM6UYL/TAZ/LiRRZkTSE3K91iRvPxNNYPp2UdduB12Z0P\n",
       "0a7MexiIl3heSsF+lpC8/hxdhQuSrSsDbqjS5wOxPXA878RR4sq6VAz7MK47I22Xo/YMQMHDqJH4\n",
       "10Zhif+9g6aad0lvxVif7rZegSwkLk7BGyDNvwybAaZlUyv0m7KB9ZeufmvAAbxuwYplNJpGPQzE\n",
       "S6slDMBXpVKpWO3P0QGugK3HO+ZUorKD2dr2l5/NOOP4qf7jGdJSmsXFjR/6F3coeBhZbBRggcF7\n",
       "txoUsFp9v1T6nXREGk6MjHxUpm9zWcL4OLTP1j/B67DeOjBj0fVwiaYnkEZ97079pnbS2BL0575b\n",
       "SWUZmK5Oe1Z2C23jlNftblhtr+W8gp8xa7J2BRi/+Zj4ZlJsWkcykCdpwonQcVQK2pzdBiEGycAH\n",
       "76t03gqT/lilicrM7rcXFlX+HH1rNBe1demqb+F9uvZyvZbgYxT2roBzEzzGLG2ovQbpNEAriIVf\n",
       "4KlWCx/bOB9H+41Im5YWdaw/k8f3wAjJJ0ADUdB9DLEjZ3tBvhTw5+hrh7u6mQ5wv6e9msmMs0FQ\n",
       "612FCP5xrLkPEKHduivjdujyNoh26fF9y9OQPXMPCEe+vEDq0BJdQyZpy10TZuKJtKdZ1e/5a0ol\n",
       "69/2AYI6SXkil6bmapMIdTPaXlaXxoKXbea9JFQifr1z8OQN9mtupJPUTi1QTtW6AwWh08LPze7n\n",
       "ZHmVh9yj7ibYl5PHef80EHXCR7WagLFGcRjFcA/51mPcNNT0jNKA0vSMWqb5YzViiE3PGFt1vvlz\n",
       "zu2QV0PGkPEWZTzZRP+jO78GY1P9j+4/JUD3zq1tVxsAAAAASUVORK5CYII=\n",
       "\" style=\"display:inline;vertical-align:middle;\" /></a><br>"
      ],
      "text/plain": [
       "scalar_mult_closure: forall_{K} [forall_{V in_c VecSpaces(K)} [forall_{a in K} [forall_{x in V} ((a * x) in V)]]]"
      ]
     },
     "execution_count": 3,
     "metadata": {},
     "output_type": "execute_result"
    }
   ],
   "source": [
    "scalar_mult_closure = Forall(\n",
    "    K, Forall(\n",
    "        V, Forall(a, Forall(x, InSet(ScalarMult(a, x), V),\n",
    "                            domain=V),\n",
    "                  domain=K),\n",
    "        domain=VecSpaces(K)))"
   ]
  },
  {
   "cell_type": "code",
   "execution_count": 4,
   "metadata": {},
   "outputs": [
    {
     "data": {
      "text/html": [
       "<strong id=\"binary_lin_comb_closure\"><a class=\"ProveItLink\" href=\"proofs/binary_lin_comb_closure/thm_proof.ipynb\">binary_lin_comb_closure</a> (conjecture without proof):<br></strong> <a class=\"ProveItLink\" href=\"../__pv_it/theorems/18b9cdd9d54a137b7a723a7b121ea2274f11ea500/theorem_expr.ipynb\"><img src=\"data:image/png;base64,iVBORw0KGgoAAAANSUhEUgAAAj0AAAAzBAMAAACOKqRrAAAAMFBMVEX///+IiIgiIiIQEBB2dnbu\n",
       "7u5UVFTMzMzc3NwyMjK6urpmZmaYmJiqqqpEREQAAACk/Np2AAAAAXRSTlMAQObYZgAAAAlwSFlz\n",
       "AAAOxAAADsQBlSsOGwAAB29JREFUaN7tm3tsU1Ucx3993PX2tr29w7GYgECKSiIxVCViEE1HwCAP\n",
       "c4kwYzBbSSTxD8WSEeM/pld5/KNCNZH4h0Ah+weDriwEFEfoeESEAV1Qo4GYovJw0a6YEcZE5nnd\n",
       "3tfpnLMxRO5Jz3p3f9+d3zmfe37n1RWAl4Tly1W441N1Ct7h4ZzLRx4eLlbhk3Xp4BR2+bh8XD4u\n",
       "H5ePy8fl4/Jx+bh8XD4uH5ePy+fO4TNuWu1UABrLYjXj6G5pI5TviaXQ6z/js7CGKvAUaIZ7eNYd\n",
       "XD1PtaOaA2zwZ/EL8yGEzjv5yPg9kq8RH66XManga5YjiWr07HrhpynVGJvvbb9VAGnGdGIw+BzA\n",
       "tg+dfEK4CwW1GvHhehmTSsjQDM/z7R9w9MEcT2VXtuJSv6UGg89rOJKLTj6BJHrfVKv44noZkyqU\n",
       "pxm6+PaT7H23SR8t8FQnbfd8cfQjSQ0Gn6CKfitwxh+Md0mt+HC9jEnlYxniVezsSL3XpO9QeSpd\n",
       "OSkWwz0HgmUUZClqNPiEEd8gb3zuQe+ZWvHhehmTahfLUpW6BfNWPlg7l6tiyl3j2b26QYD1zGjw\n",
       "gYdjsZk8Pr5YbGqiZvMXz8uYVHtZDuG6vd30pjHQ1K9ai/q7P2nlg7Vb6g9WVBMUaKYqqhQrw5B/\n",
       "iIYXNpj47Ae4yOMTSoE8lg/BvqtMCOaW87w4+YxC9RHL+OlLj0F/pYohaFQ6UZMyVj5IK9xQW/WJ\n",
       "xh+JwxmqokpjCgrfhDBZ1yCDic9GEBE1qf8VCD5u5oPubgQ4jJ7n2cvkpvRqHwRiCpPUN6zlLzmz\n",
       "lbJyppZTLzQFtulXFq82lZFMdQB4kGUvGqeezUNnRXUcJmsvo2l/ipUP0kauQVSv9ruhDKymKqo0\n",
       "4lkaoOGFDSY+soqv4C6AdtWyPryIa+yP06Bcs7oPfKhL360/rRTs4/JpNspqN/FhXmh6EUNqLGWt\n",
       "Xu0qkrBfvQ4kzWbZh4SHVLgXx8wNbEjBLwQ+GmWhMxZ7JBa7n+kRktYEm79VnwIPURVRQlsMJTJn\n",
       "CrdoeGGDiU9EIQgvgSdrXT/34uEZsQdUdmg/DpgyudanhTounwNGWUFTy5kXmmah/EXK7tWuIo8B\n",
       "+2V1cPJ5EoQhfG86NV0lvSBu7T+zyfKnA/U2L+nPHWrgOlVRZYvh7HcaXthg4gOZbnzzpjjftr8I\n",
       "hlGnFIcgjCJ0Irl9EyIpWNwEnqaXgqtAFN/vXqSKixGRhkbNf1SBiShPMcqqTNULdS8ruhfg53O1\n",
       "UfXQycPstaKq/2wRcik1ojU88cvqQNNWloMFEAYgXDYqLQ3Ccmd8IW00j3saS5+DJ26OL69RwIxl\n",
       "wIkvWIJH8MDgEcXGx/+9Sh7KO6jr0UVbJxoEg4VQfhHsFWdMz0Ja82TqEj7NnwsltkKXlBAVMWOU\n",
       "FcmZWo69CNMC13A/vM+To4/N4lVXebTVQbzEj6ptzC+pA0sXWJYVEP4EOaNPB0JfXRn3Mn1L2Wvo\n",
       "o1lhTuXvL4GcpCqq9BgV6C9Wdu1mPutw1HkG1sdtfMRH8eUW7FSiT3tz9g1IQ+TiIGyAwKSr0AYw\n",
       "JGpyvlUTnyvDD4E/vlGlolGWVDS1HHsJ5QJx0rRwhi5vLV51VRguBNDlhp0wifndYoQXPMUynp3f\n",
       "g8M53RK5viIuIawhxcoHaevysrHB2Acdeapiyq0V0yEW6shg5iPjkUAuwkz7/p1MGZ0e1IvC20ql\n",
       "37AoAUd6ej4uk8OFNOYzBxrGKR1IMafnBHw6nI0kjbICZj7YSzTrSZKhI5T8qlQqFaxedRXAdTaK\n",
       "r2R+SR1Y2smyhKKjueH1lSm9/+xRzp3CVdesfHZi00HT/NF0SKMqpmzuU21bE2Qw8yEJxehklXe+\n",
       "ceYT3FL6lKQhBVEB8RoZnL2k/wTz8vjNKp0Q1HAGM9HLssQX2QFq8jFkiKq+wlqn18r5RqBMjnYe\n",
       "gFnML6mDXrUUzVDltOgtsPLxpuyKp5lKV7b/GMvYi3DwSWtk+nbySZNGslXbVBXkvJD/GZZGs2ix\n",
       "gsafYqvqrZcTgvIrvIB4FPH4rJdVCW295T4tvRuWgVc9zZaeFq+6ap0/40cqmCaVmd+0af8dztHs\n",
       "2F6y1GXbn4ate/dQRniCqbqqLUG7nHw82xfA2QEeHy9pyKZUpQfOqwd/kxJqn5eA9KkJ4On68gK7\n",
       "F2k6qsEVoyxZs7Vc6updDG2FwJ4EiJcdXnVV84mm+UgF505nmF+veR1/hWWZe/bi3P5fse4MlLoE\n",
       "VVU9KMAGR//5m/ND4ZlSn1PWxvnTduOyhX8ySGf9ZaVSdqTzw4KABn6e3xaWBW7dnVuiFstvkfoD\n",
       "TFV184QN/5QPP6V55zPGY60sbeaax4pItXrZVHXKLv7jzdNsmvNN6ThXz1Mdr9YqZPBMzaLXv+Uj\n",
       "9vP+SXG+aSfG3aCN7pMDiHTX6PTgNvv8QnBcuJ/v/F/T6PmsOeryGYFPIBl0+YzAR0658TUSH68q\n",
       "uHxG4CMtOe/ycecvl4/Lx+VzG/A55n4/Dn8/bmk1Pu7344B+P+4vwCx4V/qceIIAAAAASUVORK5C\n",
       "YII=\n",
       "\" style=\"display:inline;vertical-align:middle;\" /></a><br>"
      ],
      "text/plain": [
       "binary_lin_comb_closure: forall_{K} [forall_{V in_c VecSpaces(K)} [forall_{a, b in K} [forall_{x, y in V} (((a * x) + (b * y)) in V)]]]"
      ]
     },
     "execution_count": 4,
     "metadata": {},
     "output_type": "execute_result"
    }
   ],
   "source": [
    "binary_lin_comb_closure = Forall(\n",
    "    K, Forall(\n",
    "        V, Forall((a, b), Forall((x, y), InSet(binary_lin_comb_ax_by, V),\n",
    "                                 domain=V),\n",
    "                  domain=K),\n",
    "        domain=VecSpaces(K)))"
   ]
  },
  {
   "cell_type": "code",
   "execution_count": 5,
   "metadata": {},
   "outputs": [
    {
     "data": {
      "text/html": [
       "<strong id=\"lin_comb_closure\"><a class=\"ProveItLink\" href=\"proofs/lin_comb_closure/thm_proof.ipynb\">lin_comb_closure</a> (conjecture without proof):<br></strong> <a class=\"ProveItLink\" href=\"../__pv_it/theorems/1cf9af6b091acf5edbb5494f74bd7482445248e20/theorem_expr.ipynb\"><img src=\"data:image/png;base64,iVBORw0KGgoAAAANSUhEUgAAAz8AAAAzBAMAAABLUauWAAAAMFBMVEX///+IiIgiIiIQEBB2dnbu\n",
       "7u5UVFTMzMzc3NwyMjK6urpmZmaYmJiqqqpEREQAAACk/Np2AAAAAXRSTlMAQObYZgAAAAlwSFlz\n",
       "AAAOxAAADsQBlSsOGwAACUBJREFUeNrtnG1sW1cZx/9OfHP9FsdpQ0ZZaVND6bYMCGyFaquGo7Vb\n",
       "ta7DhboCDZZUAokPUBw6JsSHxmVZRUWVZUKb+NBR05ZJiK1zqqJObSa8wQRLO+p01QKkQIoo3arO\n",
       "yaaGllAazjn37dxzr31vPDWLxHmUY9+e4+d/Xn73vF7XgKcpmUzaNSGTyUDa9THWthVb3m51MzMF\n",
       "14RPzvxHtuR1somZa0B8ZmbcD6B8hYRbZDteR/sDfYlJQBKQNAlIApKAJCBpEpAEJE0CkoAkIAlI\n",
       "mgQkAUlAEpAENL8ABZLZOfcEclyoaKFZCIZ8pIeqJS5YQf/mIaBgfu49EShZobJFEv4VP+yRTrUq\n",
       "6rGE+9ifCYghOuMBKE7fG4tOQN7es2hm91z8eNZcjNNceA+tblljyg9BUW/RzNvAvncLLEEAdJS+\n",
       "/8QDUJTeo+GcE5C39yya2T0XP561FkMZsEI1C6f9Kn7Z8xNUS9RT/k3ZdmsJAqBH6NA37gFIJb7o\n",
       "dxnivL1n0czuufjxrLUY0aIVqlnMeOb/bKVPGAlDnnlSrZj4HYLbSGjQEwVAlFmw5DUHPUneN7gA\n",
       "8vaezUzimosfz1qLUc+FqrZSfx+p9AEjocM705WWXuDvyZvZxV4SbtATBUAxcvOEPRcJJ8j7gAsg\n",
       "b+/ZAHLNxY9nrcX4BReq2h6fgCI+ir/H1Is8YQx1384hlNITBUD4dDJ5uyeg+mTyIym3VZyn92wA\n",
       "uebiy7PGYhzmQujwB+2LK6X56w8b/fken4CitPg/6twhznWcFNPS9HaZU9Hn82yEYwkioCPAOZcc\n",
       "UzZA0SziaTdAFbw9FzvmUiDBNbNrLr4A1ViMPVzYn4tP2ScotCYO6dev+gQUJl05sgoTQi14Kaal\n",
       "6VnLmpNFDBuJIqCdCHW75FiwASIf2UkuD/6rhB8XeEDMO0bu+8a7tN3iM9fy+M4yY5vRfK97jxg2\n",
       "taJcM+u5+LDIxLcQvtPyrFAJF3uZ9LTXz+v/+LgVlNWItkF51frk77E090095pRPQHVkIvxiEYeE\n",
       "VE1Kt1OmnjUePp/SRjiaIAKKp20bPbX9PizsFgGR+5M6BToQWWvrQZr33WBDqNpazoM0QMDoH0cQ\n",
       "dW03pdvUiqS47aaWS3VjmWAhcCBteQqVqGA9Wy8gSKbxPiPiDitEp1CXQs8CFt9Fmy6Lt6gPi+ml\n",
       "L4eSyduSyY85da2EelKKX6fxUfsCWpfSrdfQU8nAnPyEluF4g5koAmpMhG01eCOYjqYdgEYY7ng3\n",
       "PmQf4jTvv6URJG/HaCdaCnZtrGlcAdEdj6H1JAdoxMcagWWCfyKQ5/oeX4nKi+ojtMBT3PDNAaof\n",
       "R1feuLXrtNq/Y3ae/T57EAV0F5RpK6EdlpRm+w09xdoYNLUNm4kiIAy8ZKvBmUQhiPXH2o/leUDh\n",
       "GJ0smop9aeGoh3k/nie9GAG2m2gqYhTB3ybQ0pp7Ko3crltbfoW+43kEOr9B4wMnOlHHaW3gALFc\n",
       "lKEW52b1wZfW6aOmtmW5GlprO+phxWh+Yb3T04pczI67phEzP/S0FbpSOMmNZWwcvYKMHuN3iAuX\n",
       "oFxCbBKxoZ4bRanjv2su2Ia4NqsTTKVQaYjDBnIPa3qsBqN/3hF0zEEI/om2Zu/uT4lncdQbTYkQ\n",
       "abeHNMptxPdpDAUL0dQP3j0K9QoW4WtYhfVksUTiD2AHdnFaY1wzs1y+kO11rBSUFao+g2uZqFd+\n",
       "k7ABosUI5LaGHZshK1K/Yd/BbjPxrBW6SniLLF0sQMqFhkna106ZR8s+AMUTUP6L+MAfY/uL9TlB\n",
       "ang1aQVNS9NrNt3j16wzbAegR8koxPS0GowGv3rACSj0GXq5dN3dIiDqjXB30NxNh6bVkjqJv3bl\n",
       "Qmn0TCTUDjTlf4iLyhU8RuN7X8zgIKd1kGtmlssxbAP67YyiBbWD37IHLvV12ACxSuCsipCwmmOR\n",
       "2l2s9b2nuAXqPVYIJ2LtQb4HNV5+sCNS0mMG7RzYzEInKm2KsRKCpBhP4OVC6rEFaErbpUIb2zCl\n",
       "aw0a/c2onzEoDroAipNBnelpNRhFYYkTENjCp4z6lACIepNe8wG6RCyXyyTLchCx1SeGn2eH+Ook\n",
       "adn6YqBzWWQSLD4yMY03OK3t/Jk0zWUarVD32QE15QP6ZKZlEh/H7TZArBi4DHx/uXhzXzZQ/bRc\n",
       "fpvM6AFLep8VlC337ryBB6QMJsZeM0ajm4Qe1G5MVO3CRpWMWptbvrcliy3mvGVKNSQiHbqWpqds\n",
       "/bl4lnSTCyBmVE+rwSg2hR37IN2uIjDl9rghNk3vhYf1JePPCBYyL6XZCqGN9aA9OPsl4knjv0vW\n",
       "+ts5rTHhoQHpaRczqLMD6srFX0mPnTltZEImuqVpx+MGdTIEiIBoJPNUtSqdfI7bg2etYK2B7UZj\n",
       "Qm1+j3pWGBGfxWFVPFjKRlNZpmXoRR7Qj3oMownugKieVoNRREYqPA8i0wl343KAVPYfhfRNZt1K\n",
       "4CK+Ek8piWmyPSFOS5QpLEv8Axtp/BjidJFgajWLzbxKnS5SQJugpIyX+lzvsxgZrzcy6c1xfdnw\n",
       "fDQ4EGSAeE8WyTz1rWxvwXlwaR1eugMyD1M9D0uPGy09iVtGhc88jrrnstUPZ2mCKyBN75y+h2yt\n",
       "AGjRpVzj51IugLTbNnTerHWwM4E1zTi6Zg3UqyMF3Hhie4LGkXB68TrEc5bWmyKgX77WwgBtK6mr\n",
       "sC1HX0qRoZH70ZDdrmcS2LsOr18SAW0e7lzLisJ7skjmiX7WT2x9800uUOvbOyg0GYvxf8Qe11cG\n",
       "kW60iBSeQeB+TauiXj8qANL0aA0iN2e153NuQ5zzqMdmm8pl52dVlwPeiEXZ3AzYd5q0Ga0VmXZV\n",
       "h8V5t0zsnstRyVN5oHxBKMhDXKhi/o+RFM+HHueq6Z2rBEhXd9YA7/mRN513HPaC1brmeQD/zQJ1\n",
       "4YtotFZB2tVmnHZ9pGDz7Lmz5N8TdHdghCqPcHL+j/d2ez0OylXRowkL7qB/c/idhH63/8hqYtHP\n",
       "CF1L63Llz2r3nEf2Pn9pJO24kDavAEl7PwCpi1OyYeczoEdqeWAtbe4AnZfNOr8BLZdT/vwGdOAv\n",
       "RdmwchUnAUlAEpA0Cej/CNArFX5W7lb5g37XzTKZJfQH/Tb6AiR/0G/uzfxBv/8Bjpg3kihpDrUA\n",
       "AAAASUVORK5CYII=\n",
       "\" style=\"display:inline;vertical-align:middle;\" /></a><br>"
      ],
      "text/plain": [
       "lin_comb_closure: forall_{n in NaturalPos} [forall_{K} [forall_{V in_c VecSpaces(K)} [forall_{a_{1}, ..a_{_a}.., a_{n} in K} [forall_{x_{1}, ..x_{_a}.., x_{n} in V} (((a_{1} * x_{1}) + ..(a_{k} * x_{k}).. + (a_{n} * x_{n})) in V)]]]]"
      ]
     },
     "execution_count": 5,
     "metadata": {},
     "output_type": "execute_result"
    }
   ],
   "source": [
    "lin_comb_closure = Forall(\n",
    "    n, Forall(\n",
    "        K, Forall(\n",
    "            V, Forall(a_1_to_n, Forall(x_1_to_n, InSet(lin_comb_axn, V),\n",
    "                                       domain=V),\n",
    "                      domain=K),\n",
    "            domain=VecSpaces(K))),\n",
    "    domain=NaturalPos)"
   ]
  },
  {
   "cell_type": "markdown",
   "metadata": {},
   "source": [
    "### Distribution over the addition of vectors or scalars (for a vector space over a field $K$)"
   ]
  },
  {
   "cell_type": "code",
   "execution_count": 6,
   "metadata": {},
   "outputs": [
    {
     "data": {
      "text/html": [
       "<strong id=\"distribution_over_vectors\"><a class=\"ProveItLink\" href=\"proofs/distribution_over_vectors/thm_proof.ipynb\">distribution_over_vectors</a> (conjecture without proof):<br></strong> <a class=\"ProveItLink\" href=\"../__pv_it/theorems/3adf031deb7d7891f14811d13d20d091d456d57f0/theorem_expr.ipynb\"><img src=\"data:image/png;base64,iVBORw0KGgoAAAANSUhEUgAAAuwAAAAzBAMAAAA++UAcAAAAMFBMVEX///+IiIgiIiIQEBB2dnbu\n",
       "7u5UVFTMzMzc3NwyMjK6urpmZmaYmJiqqqpEREQAAACk/Np2AAAAAXRSTlMAQObYZgAAAAlwSFlz\n",
       "AAAOxAAADsQBlSsOGwAACaJJREFUeNrlXHusFNUZ/3Z35s7efTEIUimUe8FYH2B6a8HQ1rZLhEpM\n",
       "rVPLqonKXVrTv/q4SGviP95Rr6ZtLGzSaJooulDSxFRlVdqbIKYrahRE2Iu0tKXI0kShhi6XhhW6\n",
       "vHoeM7tz5pyzM/touNf5krN35vfN/c7Ob8585zG/HQCBZTIZ6KZ5xOt2dRPSyEmqmYwhP98vXDjT\n",
       "1So94nW7Oqf15C8y3eqH9O/xC+cBUhculK1NgV3T5aqv6cjdkf3wojfzBwxrYzf+SJTrm59i2nvS\n",
       "7L7pPsBsO3TUKl6W7A8e7dvZ3VAJPAD/FtNp8bQ/Bo726Cl2fx/AyutcQNv2Oat4WbgYNNrDbI5R\n",
       "c+jjKTfQrvUatHhmmUVBo/0NdjeO2905N8Da87JYnCNRoMXTngoa7QvZ3QhOyVUX4LIxWSzescgq\n",
       "XrbZDBbtoSq7/xwqyoALaJ/2p63imY0KwaI9nGX3t2AOsslZhhOIbrlMb4X2xvHftIpncq8Gi/bh\n",
       "Ib55DhYPPlJ0Ar81U9VWaKfH34m2dlgFXp6H7fPSieqJYNH+fdf+tagc+mXpAdMBqDdAvB/UHX5p\n",
       "p8fDErS51yqe9s9g0X69a/8rqLzyNmXvvxYQr+Jh5upLwGq2XxI224aDHk9vJqt42h4zSLRrZwW0\n",
       "X72FZp75FhApw2De0Wq9Wrt1PEk3VvG0wWKQaFdOu4D1qJXXYqcYYDANe6AF2unxG7LOJOOR2yGS\n",
       "DRLtqQEXcBid9rh6LuQEBkvwr6TZAu3k+GVVi7zdvr5If5Boj5RdABrt9ZTVU4oT6NUT8xW+tZPc\n",
       "P5izO4GGgxwfvQcT+ZJVvG+7cY528ucfHA8iuBPam8XrdnX1lOqeuW9EDa8Esy51Auqqmx77jCDJ\n",
       "4NwfLtidgON6kONTeOh+lVU8LVHjaN+K//yG40EEd0J7s3jdrq4+bHcvy4aHpIDvJGNd0TvQvKmf\n",
       "Fh99+wmO9vvxxKvM8SCCO6G9WbxuV2fboZJg8UoC7G1tKexvCl1HE6ylieZLZzja8dKlUuJ4EMGd\n",
       "0N4sXrerqw+X3Y0bjsqAkWdfain07ZcBrAVafNgnHO0JdL16eR5EcCe0N4vX7eps6zPdyEpPoAX7\n",
       "0Co+7Dw/krlu3ryFgqGFAO5oJNMkXrers+1W7hlEtOgF+LeESYsf+zJP+yh/zTAPo74vJWt/tTd0\n",
       "UTzVlNDebnXN7E8GTBCbx9P+GETRJCp2/EfQ+1UHDwROXJ6G5Ndpivzd+TzcN9c6IjT1prS4DeTt\n",
       "UHGWV1qNQi+GNv9mmJbl3dvr1+rFT0rwa/7RzXZ0S7x/RHp6rPsnE4V1uJynPWUoeI1hGsAmw8ED\n",
       "hW9E9yHiV5tRyeNHNSG7sY5CPCvua+qhYmmGdqsaZKt//DH8RTHiBu+O5C0/hAYgtowNjXH8kGJE\n",
       "fGq8e0LTntRJX/YRhPJOHih8yAA8p3sVN/g+gPr8Dp2emPatjVBPAB8PL+GN4pmRXlAE7nW2H1JZ\n",
       "+CwbmeD4iYH4NhO4J3SSgdzreOtsdBk7Wyfwujy8g5oe6XimFGE/KG/qMH2G+aQB5i8WTP8DjLyL\n",
       "GEYAwkO7lgD0N0LdwseLzQCYjXf2//0hRVDd7ugs6keVjVDS1G3T6S1G8GjN3Y3d9fpymftWviMx\n",
       "oYkiyWyBSMmxEs2SoEuFW3Cz1E6/obM8EHiKjvt6OsyK90MB1sM2pRBPP/yfrehfYCbcC4sBAwjf\n",
       "BA9BNNcIdYCPpwwaKql3v3LPJkF1q3713UfppGn48S9S521Dw4R/+n9wAh5nZyJXalWZu48bt2M1\n",
       "klyRtME/67IgEs3S9QLaH8HpInRyZIDlgcC9WaU+QYvWtJI2Dh8MmlEDVh/XtQGYkv85HAME3IHw\n",
       "4dcyECs3Qr3Ix3t0L8TInbMfCnME1S0satQPfctvpM5XYQ2alRjW/8GTrhwTL6CvATmhm58u7QOB\n",
       "RMmTS4FJg4g1S2cEtKfwt0uVHeoGwgOB4/143WhHpVJBX6miQOKGXTs3k3tMG0fnGymGlswFBGA8\n",
       "drwGyWwj1IOCeIch8Uyl8m9E+4pe3h09M2r5oQIRSmANZoC20bDxl0Nswp6SD5FORuQ+lHdP0nMC\n",
       "iZLDnvDLujyIULOknpQt/KLE3WfwK7GJGm4BP6U7mzcgslG+N0h/2k9a+9Nw2EAAxn8GO0ArN0Id\n",
       "4Fd21eqQlqatPTbGuxPljVHqh7OW2kI9DccyEEY1UHzPC65VRjP1ljGmC93D7rlQfRXlnJjNd/2u\n",
       "y8iDCDVLgqUw+yuadvNiaNfI7ZGiFyS8CFBKuTuVVvUaGmaj3D5HrcJcHQMIPwAp0qXaoabyvCZz\n",
       "aTor2gmoEXPuHv0+hfpRbHzLqGlYrNWKmHZrNjVcIOgK+rECIubw83Cw4HQ37gT36UdAIFFy+g2f\n",
       "q5BNgog0S8lzEtpDzy6H90/ytMMVJKsfqV9JZYkOS6fC1qVLQTs7VoBZux4kAML3zV6O15bqoY4K\n",
       "WvsqE9aibBK7eghfI7e71+x5m/hh5kkz+Y00aF+D3783ndJOcLKF0DWmthh9rCnFto19iySohrux\n",
       "rOtWOD4HAomSM0MUfdLeJIhIsxQ6LWvt3GydsRWVSp5fRRbV2xifqGVxPPXblY+bVcf4kxaBBoMn\n",
       "637aCd4WE4WFHvcX3AICiZJDnqRkfdLeJIhIs9Qz3h7t4sX7cdGspT6gVQy/8Zq4/0xrmvaaAMX8\n",
       "0zp6LhUvVFQlLZGRKDnkSYmcT9olQRjNkjN5lbtI+1rhL47qk66d0AXai83RRPN24e70rgVeouSU\n",
       "J9k/vPCkXRxEqllap3eRdsnYyt4wukF7ZyaSJ7klSk55Erl/fUiUJEFopw68ZilY8iR4RUK7U6Lk\n",
       "lCfFBny2dkkQkm6A1yx9D9qjXZudnoy0b3aNA9YDL1FyypN8JxlxEFaz5LB2paf3Q24y0h52DdwP\n",
       "Ay9RcsqTEmWftIuDyDRLiXaF1kcmZ5JxD2WswR0jUXLKk+I6w25dokQ/HLQLg0g1S5bMvnXarwBj\n",
       "MtLu/hHNRuAlSk55Uthk2a1LlOzbZqwRSBBEpllq+0c0mw4WJyXte9jWgtVInESJGqH9YfCZZMRB\n",
       "ZJqlj6BN2ifpSAZ6097rVA7at/ldChMHkWiW7MWb4NCuLWb3j4JAooSNyJNakKUJg0g0S5FS0GiH\n",
       "mezuSmimSEr578CkQQSapR9A4Gh3veoBP6GUK5Le8R9XFkSgWUrm/NK+oMvv1fGIt+D/+BqfY3Cx\n",
       "zXqxSSYzB7/G5ztla1Ngn6LX+KTyF5l11XpSyL7G539Nba8a3fte4QAAAABJRU5ErkJggg==\n",
       "\" style=\"display:inline;vertical-align:middle;\" /></a><br>"
      ],
      "text/plain": [
       "distribution_over_vectors: forall_{K} [forall_{V in_c VecSpaces(K)} [forall_{i in Natural} [forall_{k in K, a_{1} in V, ..a_{_a} in V.., a_{i} in V} ((k * (a_{1} + ..a_{_a}.. + a_{i})) =  \\\\ ((k * a_{1}) + ..(k * a_{j}).. + (k * a_{i})))]]]"
      ]
     },
     "execution_count": 6,
     "metadata": {},
     "output_type": "execute_result"
    }
   ],
   "source": [
    "distribution_over_vectors = \\\n",
    "    Forall(\n",
    "        K, Forall(\n",
    "            V, Forall(\n",
    "                i, Forall((k, a_1_to_i), \n",
    "                          Equals(ScalarMult(k, VecAdd(a_1_to_i)),\n",
    "                                 VecAdd(ExprRange(j, ScalarMult(k, IndexedVar(a, j)),\n",
    "                                                  one, i))) \\\n",
    "                          .with_wrapping_at(2),\n",
    "                          domains=(K, V)),\n",
    "                domain=Natural),\n",
    "            domain=VecSpaces(K)))"
   ]
  },
  {
   "cell_type": "code",
   "execution_count": 7,
   "metadata": {},
   "outputs": [],
   "source": [
    "# distribution_over_vector_summation TODO"
   ]
  },
  {
   "cell_type": "markdown",
   "metadata": {},
   "source": [
    "### Question, do we need a special FieldAdd?"
   ]
  },
  {
   "cell_type": "code",
   "execution_count": 8,
   "metadata": {},
   "outputs": [
    {
     "data": {
      "text/html": [
       "<strong id=\"distribution_over_scalars\"><a class=\"ProveItLink\" href=\"proofs/distribution_over_scalars/thm_proof.ipynb\">distribution_over_scalars</a> (conjecture without proof):<br></strong> <a class=\"ProveItLink\" href=\"../__pv_it/theorems/036c02a1993179c20cc65c3eb0a410d62b6c90220/theorem_expr.ipynb\"><img src=\"data:image/png;base64,iVBORw0KGgoAAAANSUhEUgAAA5wAAAAzBAMAAAAJPhpEAAAAMFBMVEX///+IiIgiIiIQEBB2dnbu\n",
       "7u5UVFTMzMzc3NwyMjK6urpmZmaYmJiqqqpEREQAAACk/Np2AAAAAXRSTlMAQObYZgAAAAlwSFlz\n",
       "AAAOxAAADsQBlSsOGwAADCBJREFUeNrtXH2wE1cVP8nLvmw+Ni+vRaQW20zwa6Sl0FZktGDeyKtV\n",
       "QBflVdGRhHGc8Y8qQTrVf8qLSJlBEWIdKmppA2Ucv4CAaLXFafhw2vIhKYiK1jFFH1imDTDDs89X\n",
       "6vN+7G723r272YTrwBtzZm6ye+7N2bP3t/fcc29+CYCHDAwMgBRRBgZ0kChN7Mm+3LUp9C4JRrZD\n",
       "D7lt7HU5Vw6OjZVl3kkTe7Ivx0p36SrjuIQ+q4mxsRrA+bH/MIce8m5p3S+5B5rYC/5PO/y+qz0s\n",
       "wxuNg3gNv/6OO+zA2dLgzLDnBaO0J4WmCoEc78ApTfazp4EqLW3KlqYKgcRyHTglifoae/57o9jk\n",
       "4XT6jnQ67fhoJJ2ecns6neKfBvBUiOSWDpyyLs3GWqVIi10QXi+ghs6PAmhJUm2TjXyrjT6cOKF3\n",
       "4JQjB7i4V6GlbTgP860O+3AiUu7AKUfuZE+7jNI2nF38CrnLx5I5OtKBU4oEhtnzHxulbTgjFX7k\n",
       "VXy48YMOnHKunGPP9xhF3TMp2Qqc3+z7GlWGLIPKjUm41a7wkL/pHThlyGCePX/UKE8UEta4TZPM\n",
       "dorTLZrZTsfRchac10FBi8y4lUeFtOkw01TsTmN5h5sb2WQHThnyOe78VlqUuyCWAuV5v6PzExXY\n",
       "jQBEZ5oVe78VK+Ilj5by4UYi1YFThszkzt9HS2wYr2CWX+cXzmd0eBtVhi/gOPtv9KJ3JWG7oWgm\n",
       "8ZEOnBIkfFkMZ1cNsiVz980HnHNAGTWSVBx7YSp+2alD0lQ0EeVyB04JEhrhFJtpyWbgGPiHU7kE\n",
       "8QsQnQhMbEXhN2MqmsydNEp04LxCSfBD5yVaslV4WSv4h/MNSBT/FMrqJg5EzoCWZxQecroDpwTp\n",
       "4vv6bloiyfjUkHN0kjkxWzQObMH227C/nHkIN49Z6xv4MKxmFR7yMRc4yduLrnB6VbfU/Qn8rlWk\n",
       "wellT/blbAsE/mvxrbQoSz+05s0mnLYteDwnBsvGgW0L/t4JX12aJ0M7WLBsxeZXWIWHHCuJ4XwK\n",
       "v21yhdOruqXuj+HrRwrS4PSyJ/tytmUnP3SCeVqoHG/JmDKMPriK167y74gAzgfwlkbNFU6v6pa6\n",
       "P4w3O9bLC7Ze9mRfzrYbw399FS/T0g6cWhFlPnt57V7/YUIAZwRNx6GqK5xe1a3NdfiLnwUS504P\n",
       "e7IvZ4txeV7zT6NgWf34rpZG59KCc6j4HDs9OTGccRSvI+6pkFd1a91/BL0XJcLpYU/25RpysyN8\n",
       "LzFKu6my3kzhAmfNJbNFk/OdHpmtR3Vr3d+FEoGMRDg97Mm+nC2hdHS2WqGlTXmuqcIlxS66wPkk\n",
       "wBBE6vU59TruiWn1en2aDU5S7WsmKDxW/3u9js2mkY3TtQDbv7G83yePt2sciO19ygXOdi/nLc9c\n",
       "K/zdYMoFzjWg5nBeXyPJfQRlseG6DU5SDdHzX4TI+6n2M7fPvXsGZUAp5/FOyWyiPkQtYLPfQwis\n",
       "rEGZ6V9kZg3AfjTUT5yl21vLzkE4baaKvRPuFzt+CGDHv6rwnbLQHvRRzZf3lAIzBdWM2O9CKIIG\n",
       "NoeRLINrBc7pLnAm9FCpAWdicQHWL7HBSaoBrgfYhp7M8MR6Cc4A/BCWkxYbzI0uUHINOIc2gTpU\n",
       "g23sun4IPoKwR27gxfLyL52DLhQMJ5lrrjz8UpwvoIcpMB2i/SC0hwU7peX64RfiaquNdRciETXA\n",
       "TpoOjxc4tSRKdRpwKpvUoYQNTlKNN6ACuI+ezpNjiJn5Mn55leBRasBZW1xYr9dIVmzr3xdwaqIN\n",
       "k43J2JM4el4gx3QuAOgW+o0XkIkcvAVAaA8Mp7R9McsWV221se5CJIIGxEnD4XETbKG4zw4nrN2h\n",
       "2+Ek1QCX1X4MQIXe81eiOMzO78Nw9u7bDJMPJoNgg1P9/hA6aCxwSP9G4iiwqqMQR6F4MlFfxpuU\n",
       "yEqg7wuRz4OqPrxvnq7OfwqwAuuRWbJX1lNZjbtRZG9LjjqlPfijZMZZreydQKZe6rhxF8zgFzfY\n",
       "kgtlqJOGw2Yq5NyYKIA711ltASC3tmL7rqkQLEBLtCBOhV4mcEZfAwZOXA3hkQNJKyM/g/OjDRCp\n",
       "xipZiGVgdjSjJtcCTMOpEL5MDXbm0YtWZvo3dApjchHWoU6ki6vdaJRjK/Ngj3rb1BIMFgLF7kxX\n",
       "AZAC6Q8hs7AWb4Gsm0GSIoG9/mHqlJbv/3PGWf3x/KAOluPGXdjFpUFmWMsZThKHrYWKY93pSZuO\n",
       "Jv3D+VYX/RYQcam7cm5wfj3HjM7F3OjE1RC4tBoH658R9el578VhdhC0WhY26LA5/PpJfYd9dCpk\n",
       "dEZrTP+qJFV5BIeuKB0LG0oPYitDI/AQhG+6CCsARtVCoqIgBdKfRWZhB+7Eez5IOsdpT/1sijql\n",
       "5WMBweWexjbX64bjxl0wMRY3iADXQP10CjKGk4/YYq1gG0FAm3Zg5IdHrbmtqsTPS0/ZDc5E3mvu\n",
       "JNWQqBFG4vNoBVJFo/NZDOeBI0dKWdiJU6EdY6U/gGPuDLP9CyQ/3B3A3wo9Vq+/iq1msJWfXCCh\n",
       "ZhD37F0w4bpkFCmwdWQWkF2ok6xJaC+RpE5peSVTdFaPwkQIb9UNx427sAtuANadWQ1CmWjJcJI4\n",
       "bG3y8VOviDZtB4x8NuWDC7bY1cZGEHCpsxnw+IKMyWxXMnDSh6ECNyPP7jeCLdDRiV/J6NTjxZXA\n",
       "ZLbhmiPYGs/3dgwMfRSjo0lsRR0meVCQjM5IJfEmrEB6bBZWkjmW8CFF9rKfpE6hSXh70lGNhvkr\n",
       "AxDUDceNu7CjgRtovcA3CJYCppPEYWvnm98wENGmuS1df3C6b9UeBgGX2m0LnoFzkXPdaXy6QAYI\n",
       "XZgbcKKgiObO7oo6G/VzzUqFlIy57gwkBXAOkhs0diam6MTKP2BhTwktE9HcWcvqwV5ACqQ/iszi\n",
       "Ww6PULayyN6pEHUqXoJAzlk9KzxawXBSx427WATIR/yC3nAD7S/ANEDqYP4bppODZT7GMXMYOGnT\n",
       "dnmPXzjdKSWYR+3gUpPvAlzhNHaFVlQdu0I0fj9+D5y4hMYRDmCL7kALOmVZGeb24te+fentfQcL\n",
       "iQLQXaHwbGNXCBIFAZxB4tj6vPXgze2FUF8ytm1uBgaP3giBvc++hBVIryGz2MgNlwraB/DDJLB3\n",
       "7yTq1NbvGt/NstU/PTqBwEnamHexohqeBSsK4VnIVdLgLDANkDp6X8V0MmjvySAfV0W0abs86hPO\n",
       "qEfArgi41GTzuCkboerYs2VlUb3usnCLWlO5Zt+ddsBpBLmP1s85bazwtOtqz+EUdzkMCNOmyrqq\n",
       "pEpsA83VyW5+EIlo00QW7oJglbIV/MAZw7dpcamN6zd41A4u9TLwAaemN4HTQ35lHpw0D/rd4RTL\n",
       "oKdd//bY6vD1v3G7S8PVpVwoO+k+Fw4LRh9Pm6ZLnRNkMUGYtz541Hj4NbjUVGw86jg/eOf4gTMO\n",
       "7cMZMvvEjAvxUotwqufLXnb922tS3bhLlxzGPbUJv8EpRLRpci/VX5O1x3GfoxOP5AaXmoqNR81z\n",
       "qdWLfuCEK4AT+NlagVZHp7dd//auMm2acL1gBkSrRsDxAWdXyc6ldvCoeS51hzYtR34uhpOhTROu\n",
       "V3SYfKP3RAtwNrjUDh41z6XuTkmBMzw5I6f7lx8cn3Du5EyLaNN0QZqCEPgPtpGqnUttSINHzQfb\n",
       "Hjk/OXqgPcKGo3/Ducj4hDPITe8i2jRdyefgj2YH+4AzkbRzqQ1p8Kh5LvUxOT8IPCup+xP5cRps\n",
       "+dRWRJumGVxRxYFsFwunK48ar0QaXGpDGjxqnktNf+1wxXC+HXQp3R/UlfEJJ7/pK6JNGytSTD6D\n",
       "d3Fb8G486mjKzqU2A7bFo+a41LJ+TL/trxUp3R9d8OI4hfMY+zw3oU2rKb9232nmtMN84FoFDi51\n",
       "IicHzv/7zBYibC7YhDYd8/30m5vshEvNyF5wbNDv7PwRjSQJz2LPvWnT/nn45oY05lKzA7zm5FLP\n",
       "hg6ckuQG9tSbNj3k26xSc8NZd3Cpu3MdOGUJ9xeLnrTpeMG/3XUu+ufAwaU+BW3BeYusvycO/lbu\n",
       "/wU3sSf7cqy8AldZjD9AVQYW1vB/Et/EHHpI5++JhdGvdJXhXOz+98T/BfGK59sgw4fnAAAAAElF\n",
       "TkSuQmCC\n",
       "\" style=\"display:inline;vertical-align:middle;\" /></a><br>"
      ],
      "text/plain": [
       "distribution_over_scalars: forall_{boxplus, boxtimes} [forall_{K in_c Fields(boxplus, boxtimes)} [forall_{V in_c VecSpaces(K)} [forall_{i in Natural} [forall_{a_{1} in K, ..a_{_a} in K.., a_{i} in K, v in V} (((a_{1} boxplus ..a_{_a}.. boxplus a_{i}) * v) =  \\\\ ((a_{1} * v) boxplus ..(a_{j} * v).. boxplus (a_{i} * v)))]]]]"
      ]
     },
     "execution_count": 8,
     "metadata": {},
     "output_type": "execute_result"
    }
   ],
   "source": [
    "distribution_over_scalars = \\\n",
    "    Forall((plus, times),\n",
    "        Forall(\n",
    "            K, Forall(\n",
    "                V, Forall(\n",
    "                    i, Forall(\n",
    "                        (a_1_to_i, v), \n",
    "                        Equals(ScalarMult(FieldAdd(plus, a_1_to_i), v),\n",
    "                               FieldAdd(\n",
    "                                   plus,\n",
    "                                   ExprRange(j, ScalarMult(IndexedVar(a, j), v),\n",
    "                                             one, i))) \\\n",
    "                        .with_wrapping_at(2),\n",
    "                        domains=(K, V)),\n",
    "                    domain=Natural),\n",
    "                domain=VecSpaces(K)),\n",
    "            domain=Fields(plus, times)\n",
    "        ))"
   ]
  },
  {
   "cell_type": "code",
   "execution_count": 9,
   "metadata": {},
   "outputs": [],
   "source": [
    "# distribution_over_scalar_summation TODO"
   ]
  },
  {
   "cell_type": "code",
   "execution_count": 10,
   "metadata": {},
   "outputs": [
    {
     "data": {
      "text/html": [
       "<strong id=\"doubly_scaled_as_singly_scaled\"><a class=\"ProveItLink\" href=\"proofs/doubly_scaled_as_singly_scaled/thm_proof.ipynb\">doubly_scaled_as_singly_scaled</a> (conjecture without proof):<br></strong> <a class=\"ProveItLink\" href=\"../__pv_it/theorems/24d836d114ca164acf20415afdc275d83ae9a7af0/theorem_expr.ipynb\"><img src=\"data:image/png;base64,iVBORw0KGgoAAAANSUhEUgAAAxEAAAAzBAMAAAAaxZj1AAAAMFBMVEX///+IiIgiIiIQEBB2dnbu\n",
       "7u5UVFTMzMzc3NwyMjK6urpmZmaYmJiqqqpEREQAAACk/Np2AAAAAXRSTlMAQObYZgAAAAlwSFlz\n",
       "AAAOxAAADsQBlSsOGwAACfpJREFUeNrtnH+MVFcVx8+bndn35iezuMUfQCFLCMRaSvFXU906W5am\n",
       "mQX7aNgqIWHHP2o0qWUoWP3Dsi9bbEIkuxtNDSVufSKR+KPLgLWtlj9mW5R2XXCwojHWdKgOtJgO\n",
       "W8PKCo3rOffeN+/nPGaX0VjzTnJnZs+d+73n3c/9+d5mAHyst7cXmmKR3l4VAqvbxtdsn1tmrjan\n",
       "utDMTCFodE+7OPMvgNTMTNn3Wx9sVnUhPWjyunaKXhIBiYBEYAGJgERgAYmAREAiIBGQCEgEJAIS\n",
       "AYmAREAiIBGQCEj8r5GYv8I3W+rIN6qkieT2ukwRqUENWzlXAYWHyS7k3Uwi658dbrg2qcST2+u2\n",
       "WJqnxjTs5ez2PeHEOLMWEozFq3VJ+GXPikSK3pPFJpHwDSusN1rZ70Rye2H3wp853ItF8teI/r0D\n",
       "bdlSPh66nlfdZYjbYjeJX9D7vrok/LJnRSJOHTWqNYmEb1hhvcHKIsM8ub2gFOFXDn9U5clfI8Rm\n",
       "zoHV7I+9kMh5lHmcCzlIPEzVluuS8MueFQk5h++DzZqdfMMK6w1WFi/y5PbCRoDfOvyJAk/+GqF7\n",
       "cZFSVrIxEUlDcqlHmV9zIQcJBqdUl4Rf9uzWCewIsKFZJHzDwitsrLIWkdxewHn8886Mj4rkqxGK\n",
       "4KAY0BgJCaA151VGZU4HiQTyjNZfsf2yZ0diAt+Hm0XCNyy8wsYq+6FIbi+SiC13ZnxHJF+NEAzk\n",
       "lZVgkDigepSJFpnTQQLWdHR8xGfv5JM9OxItuI5lmrZ38gsLr7Cxyp4WCboX5u3e2FfPPWFO7xsX\n",
       "fKYbB+BdwJOvRgiUFQN5TuLQ4Bcft5WJtN2/E4dqOMecThLPAlQgWq3eUa2S0KpqtbrKQoJlN2JJ\n",
       "7cnqX6pVmrw7UOP1smQnEc9Dai7/9JQ0Fl7JSsIvLLzCxiozOvmAHrlNKVm9YZh4yIRTkD4Xx6Z9\n",
       "GXiCeAeznJdGCD/i/MRIZBInVhhl+KICC9JHsdmHmdNJ4jFQcrTHLLONZhQ3JHLVQoJlQ+zilyD6\n",
       "Ce7dsqb7rlvhBcb4IkXdydzjXIFIPIGNt6sMBRsJlHkM4AXsya+c5xvtbRdA7jB2223tO72baxxg\n",
       "9B8l+FbB1MsaYZmrKY6A5B35GglemXm6mhgTn4QUt5tFwpj+JtXA3cxIsOYS4po03VrkS7hzGXdp\n",
       "2EhwCmaZl2CJ9gDQMk5OJ4mUGtZNEqnNGgxutZBg2QDvATiI9cgLqjqcA/gBbGffGKKXEQYlZ5Ko\n",
       "7AOlUoaD9pNdheoN4/ZuN/6x/cEL0IKRvs/oLXl4xnuniQ0urYbYOjD1srWwyFhMa7G5M5aTXcV2\n",
       "/PsaLZJUpSHF7Xae4lMAPw9TXf80vLh1ik0aHhlSjEq/SDZzarDZSWMkcOsEh0UZLp2HN1nEk8zp\n",
       "JJFM49JnkojsUyopCwmWDdj6El3583n2GYcZtz56eYs1pW6SKG/WBtWyZSPNSJymNTQ5xbpK/Fma\n",
       "bibZZ2ML0uq908SiqRx8ACyb+WwtLDBiek2lfmySOG1bsDMwyqs0pGyt2IIxr2V4bjK8hxgzwwPz\n",
       "2Mj9vkheJGoaIbjXWLFjedaDeRkuBG+z2WA1czpJwPCYlQTsGVWtJFg2wDsKVSMVOZWvxGheWt9F\n",
       "JNrGRmDR8XQILCSU/RX8YG4zGYloAq9HuYKDHWARc78DyTypSF1fiN4PivLNsR5VWY+nNnSQH2Vp\n",
       "tMO84m6CUNPLGmG1Pdej8ZiGdBz6FhKsMljfDlRQOX3nsKhSSHEb4akPu8M9JZs3w5jV7LAWUS2z\n",
       "k3WdcGpYdrFh3mutM1psGnrrzk6wAdf3EK3YbzISsctgI0HZIE+/SFfGp61ztF4OQbQUL/ZBPAOd\n",
       "sYyS3gOwilZs6oplOJzHl2TBRiL8R5V1ir04Vvmh7CiOLVLpgaeVW27SoV+ThlszLRqgA/3jKAt7\n",
       "aHjvvZWt3QULCQpL0h6MlraKXqsUrSRYZaF8a5rCTnx2fJ+oUkhxO8vTPCy51u7Fq9hRO6Jv1bex\n",
       "Vj1lNJvVnBqWkx2OWvk2a5nIhdZJgkzNfsqDxKM525jY7BgTlA3Spd00WH/C3K/3fJzmpX5Ilvtg\n",
       "SIUR+eoZddQ6JiJsTMTKNhLKx+jjtymUGG+1If0RUqlMw9dBvvFt2AFwRdFSxQg60H8eZXFaAVhy\n",
       "N7vIml5WhJWAs7KIKZoL2+4AssqegcR+nXfOdlGlkOImtqXxHCTuka3eyAMQM29/vvbln8JT+H5E\n",
       "JJs5Nfjdjoeote4rwgHdWiZ5ecvqGA6ceJo5XSRSeb91gmVDqkybA3gZt6clHBMniMSLExN6Hy1J\n",
       "IzA6o/8eXOuEbCcBbMt0lDYYiSer1bdINUMqP5pkt4n7icQnoX1+mhZLUkdZQF2ossXd1MsaYcFl\n",
       "I6b40hvs92Kpsk6IsUMHkugRVQopbgdE6l5UjHdZvclH2sy/YUtb8hhNPCtFsplTI7qmdgfwD6fb\n",
       "2fpSKxM5kv7TSWoOjTldJFhzW/dOu1Kuu+I4+JZgC+4UsxPwMUGvbEyoieFdYNs7yWXX7MTtN9S7\n",
       "ZN4asStpUlGm2HIdYmMiWkzdQA70kyzsYuuJNOWcnfi2aVIRMSWulNx3xadBngK+E9ovqhRSIqw8\n",
       "T45jaN5c/G0PGpby5Pq2h4bYJ9TK2W2AO/1IbHKfJ7j1a6wv8dOSIIGzCK4TrUWlE5uoXFuxIxnj\n",
       "PCGlPUj0s+YUp7JlKlP5K2ycp+MBANeJcp8aagN0oP8kytKKLU+z7bqpZ5B4NDwcFjHJVz2eT+yH\n",
       "TZMqxvNjkAq8SkPK754eesKN3y/01rCScJc5xp2eJMQZe0fJdcbmx9vv3g2vXEKSNOY3fRjLR7YV\n",
       "oLuNXrvGOp7qOq6lNOBnbLlTnLEhpXmQCLGGG8wbNyVRBcJd6fjB7gz0n1wI0rETZ8mB/iTKksj7\n",
       "L2nJT1E/0Bwk7hvvWsdjAljuQeIbJ9NHShjPeycWiyoNKWFviGS3N2gQuW3Q+/6ut4Y4ToBXGbqJ\n",
       "PAh1SBhWusYzu03Vap0HYrHa9SVre476z+win65ecGvs8NU19bL+MTme2SUhXa/KrbYoTe8hryus\n",
       "gOcdFm8NcZwArzI0iivXIJFU5/709Dnjwxnjw7rZPj3t99U19e70f44dtj/HPgPpet+kna9S9PK6\n",
       "jY5BCa1RDXs5u73EndIyff7t9UgkYO4kwgZFI6qEPksSysWCn25ChzlZUZ5jwf+SNf8/Cpz3PiMw\n",
       "2zHhrxuB/08L/t/p3U1CXpRpDontxwME10Xi4bk9AHWRkHPRAMF1kTjfpNkplQ8IXB+J5aA2hURI\n",
       "jQQIrovEwT8Xm0IituHVAEGwdwpIBBaQCEgEJJpE4kPN+qWt0C+DX9qqY729N9IvbW30JxH80tZ/\n",
       "3mq/tPVviOGOW1Y0NpEAAAAASUVORK5CYII=\n",
       "\" style=\"display:inline;vertical-align:middle;\" /></a><br>"
      ],
      "text/plain": [
       "doubly_scaled_as_singly_scaled: forall_{boxplus, boxtimes} [forall_{K in_c Fields(boxplus, boxtimes)} [forall_{V in_c VecSpaces(K)} [forall_{x in V} [forall_{alpha, beta in K} ((alpha * (beta * x)) = ((alpha boxtimes beta) * x))]]]]"
      ]
     },
     "execution_count": 10,
     "metadata": {},
     "output_type": "execute_result"
    }
   ],
   "source": [
    "doubly_scaled_as_singly_scaled = (\n",
    "    Forall((plus, times),\n",
    "        Forall(\n",
    "            K, Forall(\n",
    "                V, Forall(\n",
    "                    x, Forall(\n",
    "                        (alpha, beta),\n",
    "                        Equals(ScalarMult(alpha, \n",
    "                                          ScalarMult(beta, x)),\n",
    "                               ScalarMult(FieldMult(times, \n",
    "                                                    (alpha, beta)), \n",
    "                                          x)),\n",
    "                        domain=K),\n",
    "                    domain=V),\n",
    "                domain=VecSpaces(K)),\n",
    "            domain=Fields(plus, times)\n",
    "        )))"
   ]
  },
  {
   "cell_type": "code",
   "execution_count": 11,
   "metadata": {},
   "outputs": [
    {
     "name": "stdout",
     "output_type": "stream",
     "text": [
      "These theorems may now be imported from the theory package: proveit.linear_algebra.scalar_multiplication\n"
     ]
    }
   ],
   "source": [
    "%end theorems"
   ]
  }
 ],
 "metadata": {
  "kernelspec": {
   "display_name": "Python 3",
   "language": "python",
   "name": "python3"
  },
  "language_info": {
   "codemirror_mode": {
    "name": "ipython",
    "version": 3
   },
   "file_extension": ".py",
   "mimetype": "text/x-python",
   "name": "python",
   "nbconvert_exporter": "python",
   "pygments_lexer": "ipython3",
   "version": "3.7.4"
  }
 },
 "nbformat": 4,
 "nbformat_minor": 1
}