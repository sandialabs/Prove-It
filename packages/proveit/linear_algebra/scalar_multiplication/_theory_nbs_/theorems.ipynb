{
 "cells": [
  {
   "cell_type": "markdown",
   "metadata": {},
   "source": [
    "Theorems (or conjectures) for the theory of <a class=\"ProveItLink\" href=\"theory.ipynb\">proveit.linear_algebra.scalar_multiplication</a>\n",
    "========"
   ]
  },
  {
   "cell_type": "code",
   "execution_count": null,
   "metadata": {},
   "outputs": [],
   "source": [
    "import proveit\n",
    "# Prepare this notebook for defining the theorems of a theory:\n",
    "%theorems_notebook # Keep this at the top following 'import proveit'.\n",
    "\n",
    "from proveit import ExprRange, IndexedVar\n",
    "from proveit import a, b, i, j, k, n, x, y, v, K, V, alpha, beta\n",
    "from proveit.core_expr_types import a_1_to_i, a_1_to_n, x_1_to_n\n",
    "from proveit.logic import Equals, Forall, InClass, InSet\n",
    "from proveit.numbers import Natural, NaturalPos, Complex, one, Add\n",
    "from proveit.abstract_algebra import Fields, FieldAdd, FieldMult\n",
    "from proveit.linear_algebra import VecSpaces, VecAdd, ScalarMult\n",
    "from proveit.linear_algebra import binary_lin_comb_ax_by, lin_comb_axn"
   ]
  },
  {
   "cell_type": "code",
   "execution_count": null,
   "metadata": {},
   "outputs": [],
   "source": [
    "%begin theorems"
   ]
  },
  {
   "cell_type": "markdown",
   "metadata": {},
   "source": [
    "### Closure of linear combinations"
   ]
  },
  {
   "cell_type": "code",
   "execution_count": null,
   "metadata": {},
   "outputs": [],
   "source": [
    "scalar_mult_closure = Forall(\n",
    "    K, Forall(\n",
    "        V, Forall(a, Forall(x, InSet(ScalarMult(a, x), V),\n",
    "                            domain=V),\n",
    "                  domain=K),\n",
    "        domain=VecSpaces(K)))"
   ]
  },
  {
   "cell_type": "code",
   "execution_count": null,
   "metadata": {},
   "outputs": [],
   "source": [
    "binary_lin_comb_closure = Forall(\n",
    "    K, Forall(\n",
    "        V, Forall((a, b), Forall((x, y), InSet(binary_lin_comb_ax_by, V),\n",
    "                                 domain=V),\n",
    "                  domain=K),\n",
    "        domain=VecSpaces(K)))"
   ]
  },
  {
   "cell_type": "code",
   "execution_count": null,
   "metadata": {},
   "outputs": [],
   "source": [
    "lin_comb_closure = Forall(\n",
    "    n, Forall(\n",
    "        K, Forall(\n",
    "            V, Forall(a_1_to_n, Forall(x_1_to_n, InSet(lin_comb_axn, V),\n",
    "                                       domain=V),\n",
    "                      domain=K),\n",
    "            domain=VecSpaces(K))),\n",
    "    domain=NaturalPos)"
   ]
  },
  {
   "cell_type": "markdown",
   "metadata": {},
   "source": [
    "#### ScalarMult Identity"
   ]
  },
  {
   "cell_type": "code",
   "execution_count": null,
   "metadata": {},
   "outputs": [],
   "source": [
    "one_as_scalar_mult_id = Forall(\n",
    "    K,\n",
    "    Forall(\n",
    "        (v, V),\n",
    "        Equals(ScalarMult(one, v), v),\n",
    "        conditions=[InSet(v, V), InClass(V, VecSpaces(K))]),\n",
    "    conditions=[InSet(one, K)])"
   ]
  },
  {
   "cell_type": "markdown",
   "metadata": {},
   "source": [
    "### Distribution over the addition of vectors or scalars (for a vector space over a field $K$)"
   ]
  },
  {
   "cell_type": "code",
   "execution_count": null,
   "metadata": {},
   "outputs": [],
   "source": [
    "distribution_over_vectors = \\\n",
    "    Forall(\n",
    "        K, Forall(\n",
    "            V, Forall(\n",
    "                i, Forall((k, a_1_to_i), \n",
    "                          Equals(ScalarMult(k, VecAdd(a_1_to_i)),\n",
    "                                 VecAdd(ExprRange(j, ScalarMult(k, IndexedVar(a, j)),\n",
    "                                                  one, i))) \\\n",
    "                          .with_wrapping_at(2),\n",
    "                          domains=(K, V)),\n",
    "                domain=Natural),\n",
    "            domain=VecSpaces(K)))"
   ]
  },
  {
   "cell_type": "code",
   "execution_count": null,
   "metadata": {},
   "outputs": [],
   "source": [
    "# distribution_over_vector_summation TODO"
   ]
  },
  {
   "cell_type": "code",
   "execution_count": null,
   "metadata": {},
   "outputs": [],
   "source": [
    "distribution_over_scalars = \\\n",
    "    Forall(\n",
    "        K, Forall(\n",
    "            V, Forall(\n",
    "                i, Forall(\n",
    "                    (a_1_to_i, v), \n",
    "                    Equals(ScalarMult(VecAdd(a_1_to_i), v),\n",
    "                           VecAdd(ExprRange(\n",
    "                               j, ScalarMult(IndexedVar(a, j), v),\n",
    "                               one, i)))\n",
    "                    .with_wrapping_at(2),\n",
    "                    domains=(Complex, V)),\n",
    "                domain=Natural),\n",
    "            domain=VecSpaces(K))\n",
    "    )"
   ]
  },
  {
   "cell_type": "code",
   "execution_count": null,
   "metadata": {},
   "outputs": [],
   "source": [
    "# distribution_over_scalar_summation TODO"
   ]
  },
  {
   "cell_type": "markdown",
   "metadata": {},
   "source": [
    "### Associativity of scalar multiplication"
   ]
  },
  {
   "cell_type": "code",
   "execution_count": null,
   "metadata": {},
   "outputs": [],
   "source": [
    "doubly_scaled_as_singly_scaled = (\n",
    "    Forall(\n",
    "        K, Forall(\n",
    "            V, Forall(\n",
    "                x, Forall(\n",
    "                    (alpha, beta),\n",
    "                    Equals(ScalarMult(alpha, \n",
    "                                      ScalarMult(beta, x)),\n",
    "                           ScalarMult(ScalarMult(alpha, beta), \n",
    "                                      x)),\n",
    "                    domain=K),\n",
    "                domain=V),\n",
    "            domain=VecSpaces(K))\n",
    "    ))"
   ]
  },
  {
   "cell_type": "code",
   "execution_count": null,
   "metadata": {},
   "outputs": [],
   "source": [
    "%end theorems"
   ]
  }
 ],
 "metadata": {
  "kernelspec": {
   "display_name": "Python 3",
   "language": "python",
   "name": "python3"
  }
 },
 "nbformat": 4,
 "nbformat_minor": 0
}
