{
 "cells": [
  {
   "cell_type": "markdown",
   "metadata": {},
   "source": [
    "Theorems (or conjectures) for the theory of <a class=\"ProveItLink\" href=\"theory.ipynb\">proveit.linear_algebra.scalar_multiplication</a>\n",
    "========"
   ]
  },
  {
   "cell_type": "code",
   "execution_count": null,
   "metadata": {},
   "outputs": [],
   "source": [
    "import proveit\n",
    "# Prepare this notebook for defining the theorems of a theory:\n",
    "%theorems_notebook # Keep this at the top following 'import proveit'.\n",
    "\n",
    "from proveit import ExprRange, IndexedVar\n",
    "from proveit import a, i, j, k, x, v, K, V, alpha, beta\n",
    "from proveit.core_expr_types import a_1_to_i\n",
    "from proveit.logic import Forall, Equals\n",
    "from proveit.numbers import Natural, one, Add\n",
    "from proveit.abstract_algebra import Fields, FieldAdd, FieldMult\n",
    "from proveit.abstract_algebra import plus, times\n",
    "from proveit.linear_algebra import VecSpaces, VecAdd, ScalarMult"
   ]
  },
  {
   "cell_type": "code",
   "execution_count": null,
   "metadata": {},
   "outputs": [],
   "source": [
    "%begin theorems"
   ]
  },
  {
   "cell_type": "markdown",
   "metadata": {},
   "source": [
    "### Distribution over the addition of vectors or scalars (for a vector space over a field $K$)"
   ]
  },
  {
   "cell_type": "code",
   "execution_count": null,
   "metadata": {},
   "outputs": [],
   "source": [
    "distribution_over_vectors = \\\n",
    "    Forall(\n",
    "        K, Forall(\n",
    "            V, Forall(\n",
    "                i, Forall((k, a_1_to_i), \n",
    "                          Equals(ScalarMult(k, VecAdd(a_1_to_i)),\n",
    "                                 VecAdd(ExprRange(j, ScalarMult(k, IndexedVar(a, j)),\n",
    "                                                  one, i))) \\\n",
    "                          .with_wrapping_at(2),\n",
    "                          domains=(K, V)),\n",
    "                domain=Natural),\n",
    "            domain=VecSpaces(K)))"
   ]
  },
  {
   "cell_type": "code",
   "execution_count": null,
   "metadata": {},
   "outputs": [],
   "source": [
    "# distribution_over_vector_summation TODO"
   ]
  },
  {
   "cell_type": "markdown",
   "metadata": {},
   "source": [
    "### Question, do we need a special FieldAdd?"
   ]
  },
  {
   "cell_type": "code",
   "execution_count": null,
   "metadata": {},
   "outputs": [],
   "source": [
    "distribution_over_scalars = \\\n",
    "    Forall((plus, times),\n",
    "        Forall(\n",
    "            K, Forall(\n",
    "                V, Forall(\n",
    "                    i, Forall(\n",
    "                        (a_1_to_i, v), \n",
    "                        Equals(ScalarMult(FieldAdd(plus, a_1_to_i), v),\n",
    "                               FieldAdd(\n",
    "                                   plus,\n",
    "                                   ExprRange(j, ScalarMult(IndexedVar(a, j), v),\n",
    "                                             one, i))) \\\n",
    "                        .with_wrapping_at(2),\n",
    "                        domains=(K, V)),\n",
    "                    domain=Natural),\n",
    "                domain=VecSpaces(K)),\n",
    "            domain=Fields(plus, times)\n",
    "        ))"
   ]
  },
  {
   "cell_type": "code",
   "execution_count": null,
   "metadata": {},
   "outputs": [],
   "source": [
    "# distribution_over_scalar_summation TODO"
   ]
  },
  {
   "cell_type": "code",
   "execution_count": null,
   "metadata": {},
   "outputs": [],
   "source": [
    "doubly_scaled_as_singly_scaled = (\n",
    "    Forall((plus, times),\n",
    "        Forall(\n",
    "            K, Forall(\n",
    "                V, Forall(\n",
    "                    x, Forall(\n",
    "                        (alpha, beta),\n",
    "                        Equals(ScalarMult(alpha, \n",
    "                                          ScalarMult(beta, V)),\n",
    "                               ScalarMult(FieldMult(times, \n",
    "                                                    (alpha, beta)), \n",
    "                                          V)),\n",
    "                        domain=K),\n",
    "                    domain=V),\n",
    "                domain=VecSpaces(K)),\n",
    "            domain=Fields(plus, times)\n",
    "        )))"
   ]
  },
  {
   "cell_type": "code",
   "execution_count": null,
   "metadata": {},
   "outputs": [],
   "source": [
    "%end theorems"
   ]
  }
 ],
 "metadata": {
  "kernelspec": {
   "display_name": "Python 3",
   "language": "python",
   "name": "python3"
  }
 },
 "nbformat": 4,
 "nbformat_minor": 0
}
