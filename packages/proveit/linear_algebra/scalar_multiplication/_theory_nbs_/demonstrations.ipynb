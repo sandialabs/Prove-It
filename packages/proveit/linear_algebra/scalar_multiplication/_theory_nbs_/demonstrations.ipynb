{
 "cells": [
  {
   "cell_type": "markdown",
   "metadata": {},
   "source": [
    "Demonstrations for the theory of <a class=\"ProveItLink\" href=\"theory.ipynb\">proveit.linear_algebra.scalar_multiplication</a>\n",
    "========"
   ]
  },
  {
   "cell_type": "code",
   "execution_count": 1,
   "metadata": {},
   "outputs": [],
   "source": [
    "import proveit\n",
    "from proveit.linear_algebra import ScalarMult\n",
    "from proveit.numbers import zero, one\n",
    "from proveit.physics.quantum import Ket\n",
    "%begin demonstrations"
   ]
  },
  {
   "cell_type": "markdown",
   "metadata": {},
   "source": [
    "#### Some Example Simple ScalarMult Expressions for Demonstrations"
   ]
  },
  {
   "cell_type": "code",
   "execution_count": 2,
   "metadata": {},
   "outputs": [
    {
     "data": {
      "text/html": [
       "<strong id=\"example_scalar_mult_01\">example_scalar_mult_01:</strong> <a class=\"ProveItLink\" href=\"../__pv_it/demonstrations/4081fb2a87f640cdcc3a930416d5dabb57e02ad50/expr.ipynb\"><img src=\"data:image/png;base64,iVBORw0KGgoAAAANSUhEUgAAAC4AAAAVBAMAAADLKsFqAAAAMFBMVEX///8AAAAAAAAAAAAAAAAA\n",
       "AAAAAAAAAAAAAAAAAAAAAAAAAAAAAAAAAAAAAAAAAAAv3aB7AAAAD3RSTlMAMt0Qq5nNdoki72ZE\n",
       "u1S8GQohAAAACXBIWXMAAA7EAAAOxAGVKw4bAAAAkUlEQVQY02NgQAYTIBQjAxrogVC8AiBJZVRx\n",
       "IQMGvgAGBpOwz8jizK75BgwMCkA2+2dU9fVA8T4c4nNxiLNNwC7O14BdHGQxVvEYmDjzNxRxEbh6\n",
       "VRTxFzjMycQuznmBgYHjJ6p4P9DtHA8YWLy+eSOLu6xP2cDAhD2cGZ7iEL+JXZw5Abs4+wY08UII\n",
       "xcLAAACsfi8JcgnclQAAAABJRU5ErkJggg==\n",
       "\" style=\"display:inline;vertical-align:middle;\" /></a><br>"
      ],
      "text/plain": [
       "<IPython.core.display.HTML object>"
      ]
     },
     "metadata": {},
     "output_type": "display_data"
    },
    {
     "data": {
      "text/html": [
       "<strong id=\"example_scalar_mult_02\">example_scalar_mult_02:</strong> <a class=\"ProveItLink\" href=\"../__pv_it/demonstrations/9777099557c4a2fb6f3cedbb49408f5261d795da0/expr.ipynb\"><img src=\"data:image/png;base64,iVBORw0KGgoAAAANSUhEUgAAAFgAAAAVBAMAAAAwfTS1AAAAMFBMVEX///8AAAAAAAAAAAAAAAAA\n",
       "AAAAAAAAAAAAAAAAAAAAAAAAAAAAAAAAAAAAAAAAAAAv3aB7AAAAD3RSTlMAMt0Qq5nNdoki72ZU\n",
       "RLsDrqvKAAAACXBIWXMAAA7EAAAOxAGVKw4bAAABU0lEQVQoz4WTsUvDQBTGv5g2TU0aO7gbETcF\n",
       "EXVwsa66ZBJFhK6iQ511yCB0sZDNrRb8B7LYUUQQxMnZKatzoSp28L1Ea95dxBty933f7y53eRdA\n",
       "tqqUUdYZesLtTMpO1nl1oNbiWXO50A2lQbDd3oMb0PgUWNkZ5OA1xSD4GMsRfBpbS0AlD+9DGh04\n",
       "PuwEFzR2AgXuabDXgDtAl8W1zNymBk8FMEaw+LMcyawcavAGwZ/pwXEuMyvW4KsQxhvSE/ZlNnFX\n",
       "CL8DBySefjJzyM/JZ0iDthGiRitPk5gZLzSvwJmRHtAdAY8kXv7dhpfAIeOQxL3MvJZelB7KTVQT\n",
       "ErdU+4/fzG5AGlTuBazXYfMrd1HaGm6PM4O+kDAIXm1v0v5YLCo3dBaFVxQPfKF9Jbz5A37l8sZK\n",
       "6EWFsMl3pqv+KGZSCFfi79Vlu5TyJOtKPCHCF2VlW4BiJ/YdAAAAAElFTkSuQmCC\n",
       "\" style=\"display:inline;vertical-align:middle;\" /></a><br>"
      ],
      "text/plain": [
       "<IPython.core.display.HTML object>"
      ]
     },
     "metadata": {},
     "output_type": "display_data"
    },
    {
     "data": {
      "text/html": [
       "<strong id=\"example_scalar_mult_03\">example_scalar_mult_03:</strong> <a class=\"ProveItLink\" href=\"../__pv_it/demonstrations/b1f14e00d65c1853ef847445f0235135a75a77970/expr.ipynb\"><img src=\"data:image/png;base64,iVBORw0KGgoAAAANSUhEUgAAAIIAAAAVBAMAAAB4Tis1AAAAMFBMVEX///8AAAAAAAAAAAAAAAAA\n",
       "AAAAAAAAAAAAAAAAAAAAAAAAAAAAAAAAAAAAAAAAAAAv3aB7AAAAD3RSTlMAMt0Qq5nNdoki72ZU\n",
       "RLsDrqvKAAAACXBIWXMAAA7EAAAOxAGVKw4bAAABtElEQVQ4y5WUP0jDQBTGvzS2TU2MpbhbEbcK\n",
       "IurgYCvooksmqYiQwUUqWGcFMwguit3casFZzKKjFEERJ2enbtK54B908JIX9O4lDh58yX0v7/2S\n",
       "+5MD1JZjHo1Eq0WpsXRgj/lsW/XHdLPzwECdBG1USrA8FngQKkwoBONwFZYj+rukqZWeVDDDAroL\n",
       "fXFbJWxhsoGi6GcmSFmZsAY1kPbFZV8hmEUYHRyJvumQFEKLEfoRI9gVWD00A3NOkgsslxHu44RB\n",
       "B9oXMsGi1EjKR3uMUI0TyoLwGU45DkhyQcZnhFqccOZBe0M4ldckuSDVZoRSMuEdWBfmkUQF+ms4\n",
       "cU9QAxe/hLIbjcLDgPiGIWGGSdErxxiBAhIh5fzMpPVFW+2Z9N9R2B2YImNTmFuSXGDXGeElTjBb\n",
       "SLvIdYS5IRkfv8+NCtRAsF44aSi7uoTZPIx2tNZV9C29Lv8818QaKYGC0MLlhi8Tpg/nxXgDMx5J\n",
       "biPMp/JI/LtxFxwORZLSrpg3nT8I3ei3S/sswWZHUpiZQNCDzdGMpDS9wwJzyYSsH9G7sVPulJ+b\n",
       "ddXv0K0voDRCfQMuvXw6lLSOZgAAAABJRU5ErkJggg==\n",
       "\" style=\"display:inline;vertical-align:middle;\" /></a><br>"
      ],
      "text/plain": [
       "<IPython.core.display.HTML object>"
      ]
     },
     "metadata": {},
     "output_type": "display_data"
    }
   ],
   "source": [
    "example_scalar_mult_01, example_scalar_mult_02, example_scalar_mult_03 = (\n",
    "        ScalarMult(one, Ket(one)),\n",
    "        ScalarMult(one, ScalarMult(one, Ket(zero))),\n",
    "        ScalarMult(one, ScalarMult(one, ScalarMult(one, Ket(zero)))))"
   ]
  },
  {
   "cell_type": "markdown",
   "metadata": {},
   "source": [
    "#### `ScalarMult.shallow_simplification()`"
   ]
  },
  {
   "cell_type": "code",
   "execution_count": 3,
   "metadata": {},
   "outputs": [
    {
     "data": {
      "text/html": [
       "<span style=\"font-size:20px;\"> <a class=\"ProveItLink\" href=\"../__pv_it/demonstrations/65efde4fad839179eb1fd42aa7dedc0d9cfbb04d0/proof.ipynb\" style=\"text-decoration: none\">&nbsp;&#x22A2;&nbsp;&nbsp;</a><a class=\"ProveItLink\" href=\"../__pv_it/demonstrations/56b5f259141e25e9fae8b9f29d2c167d193511a20/expr.ipynb\"><img src=\"data:image/png;base64,iVBORw0KGgoAAAANSUhEUgAAAHEAAAAVBAMAAACDNRyvAAAAMFBMVEX///8AAAAAAAAAAAAAAAAA\n",
       "AAAAAAAAAAAAAAAAAAAAAAAAAAAAAAAAAAAAAAAAAAAv3aB7AAAAD3RSTlMAInZUiRDNmWbv3US7\n",
       "qzJazP2FAAAACXBIWXMAAA7EAAAOxAGVKw4bAAABRElEQVQ4y3WUu0oDQRSG/73ktuqSWiy0s9NC\n",
       "tA1Yi6lSGVwLwUZMISJW29naWyiIjSAEnyD6AGKnKYTUqUxhas+vu3Fmd87AMJePb86cw+wCaMJs\n",
       "XjaOUCRFCn/dYmH/b3yV/lQyTYoN6eO2xeJ7YIuHpi4zp5UElfcTy+yefQMRF4cOc0ZrPHfNjukL\n",
       "C5nEpStmThtwm95AFo22YpJuKiYOpFdTxSQ91UxWLnzTTKFHmski1BNuXTywPRbpnWbWZBJcaTGF\n",
       "Xv+b+4nJYrlp/KWZQg0z6pksaAFzakyh6m2r8mqDWy1PoS+aucQKDbSYQne4sdu0WDiRyTbr0HKY\n",
       "OR3L8HlznBpsYTj9AHjRqF82ZzQaub+jgOVa1L4y0nrPzeaZwLlm/tJnN+sge/UqxZ6breYnqxTe\n",
       "ssX8LG++9ZXS38SgP7qldXBf371oAAAAAElFTkSuQmCC\n",
       "\" style=\"display:inline;vertical-align:middle;\" /></a></span>"
      ],
      "text/plain": [
       "|- (1 * |1〉) = |1〉"
      ]
     },
     "metadata": {},
     "output_type": "display_data"
    }
   ],
   "source": [
    "example_scalar_mult_01.shallow_simplification()"
   ]
  },
  {
   "cell_type": "code",
   "execution_count": 4,
   "metadata": {},
   "outputs": [
    {
     "data": {
      "text/html": [
       "<a class=\"ProveItLink\" href=\"../__pv_it/demonstrations/9777099557c4a2fb6f3cedbb49408f5261d795da0/expr.ipynb\"><img src=\"data:image/png;base64,iVBORw0KGgoAAAANSUhEUgAAAFgAAAAVBAMAAAAwfTS1AAAAMFBMVEX///8AAAAAAAAAAAAAAAAA\n",
       "AAAAAAAAAAAAAAAAAAAAAAAAAAAAAAAAAAAAAAAAAAAv3aB7AAAAD3RSTlMAMt0Qq5nNdoki72ZU\n",
       "RLsDrqvKAAAACXBIWXMAAA7EAAAOxAGVKw4bAAABU0lEQVQoz4WTsUvDQBTGv5g2TU0aO7gbETcF\n",
       "EXVwsa66ZBJFhK6iQ511yCB0sZDNrRb8B7LYUUQQxMnZKatzoSp28L1Ea95dxBty933f7y53eRdA\n",
       "tqqUUdYZesLtTMpO1nl1oNbiWXO50A2lQbDd3oMb0PgUWNkZ5OA1xSD4GMsRfBpbS0AlD+9DGh04\n",
       "PuwEFzR2AgXuabDXgDtAl8W1zNymBk8FMEaw+LMcyawcavAGwZ/pwXEuMyvW4KsQxhvSE/ZlNnFX\n",
       "CL8DBySefjJzyM/JZ0iDthGiRitPk5gZLzSvwJmRHtAdAY8kXv7dhpfAIeOQxL3MvJZelB7KTVQT\n",
       "ErdU+4/fzG5AGlTuBazXYfMrd1HaGm6PM4O+kDAIXm1v0v5YLCo3dBaFVxQPfKF9Jbz5A37l8sZK\n",
       "6EWFsMl3pqv+KGZSCFfi79Vlu5TyJOtKPCHCF2VlW4BiJ/YdAAAAAElFTkSuQmCC\n",
       "\" style=\"display:inline;vertical-align:middle;\" /></a>"
      ],
      "text/plain": [
       "1 * (1 * |0〉)"
      ]
     },
     "metadata": {},
     "output_type": "display_data"
    }
   ],
   "source": [
    "example_scalar_mult_02"
   ]
  },
  {
   "cell_type": "code",
   "execution_count": 5,
   "metadata": {},
   "outputs": [
    {
     "data": {
      "text/html": [
       "<strong id=\"temp_result\">temp_result:</strong> <span style=\"font-size:20px;\"> <a class=\"ProveItLink\" href=\"../__pv_it/demonstrations/7328515d87016ccb9d88126a007e0f1476374a110/proof.ipynb\" style=\"text-decoration: none\">&nbsp;&#x22A2;&nbsp;&nbsp;</a><a class=\"ProveItLink\" href=\"../__pv_it/demonstrations/b50d2176091abbff5f6838caa61900626bdb581c0/expr.ipynb\"><img src=\"data:image/png;base64,iVBORw0KGgoAAAANSUhEUgAAAJsAAAAVBAMAAACj9YEXAAAAMFBMVEX///8AAAAAAAAAAAAAAAAA\n",
       "AAAAAAAAAAAAAAAAAAAAAAAAAAAAAAAAAAAAAAAAAAAv3aB7AAAAD3RSTlMAInZUiRDNmWbv3US7\n",
       "qzJazP2FAAAACXBIWXMAAA7EAAAOxAGVKw4bAAABvUlEQVQ4y42Uv0vDQBzFX03T1lhKZ3Gok13E\n",
       "DFLHFnRUzORUsA5CF7FDEXHqJrrYXfAH3QSh+A/YdlZxcxI6d9FBcPUud72kLwkYeIR730/e5XuX\n",
       "HIAi6Jo1Uvo+1pUIPkNgzqUqGem+ur8JPWkhkcC60MQLVcmQ8NZKERtypo5SNG5K2A3YH8ehODYE\n",
       "nHHtezhycKjFcYbIysnWQnFsCPgS2EZarsG5FscZYh4Ux4aAX4GqlxrIoqfEcYaocFwlGvcLfLk4\n",
       "EINMR4njDNHmuHYkzpZwx9+i9LsSxQVEk+OakbjUj4BL/krnGkrA2YO8HpnocVwvPq6GrPgerK4S\n",
       "vV1AXAdP7/vTsiFaEfBzCQXRZOFbiZs1ROhpp0VxvqEWuurCqgELXaWYrVDEP5rFC3DlISP+VutO\n",
       "idYuIEYcN4rGXQAnwJLcioESv50hdqSxGzom2BCw49o3wKb8ZWpKHGeIiRh/3h4FnyYbArbbq+Lw\n",
       "kT06fSWOM4QzpiIb0+PHkvuyqJVI5FpUZGMK52X/p1rJxJCrw3h4T567A6VkAnWu1uPhsp4/X0yK\n",
       "K/snfYmP/lljTq+l/PGXtZBE/AFRcZ6nZflVnAAAAABJRU5ErkJggg==\n",
       "\" style=\"display:inline;vertical-align:middle;\" /></a></span><br>"
      ],
      "text/plain": [
       "<IPython.core.display.HTML object>"
      ]
     },
     "metadata": {},
     "output_type": "display_data"
    }
   ],
   "source": [
    "temp_result = example_scalar_mult_02.shallow_simplification()"
   ]
  },
  {
   "cell_type": "code",
   "execution_count": 6,
   "metadata": {},
   "outputs": [
    {
     "data": {
      "text/plain": [
       "proveit.physics.quantum.algebra.bra_ket.Ket"
      ]
     },
     "metadata": {},
     "output_type": "display_data"
    }
   ],
   "source": [
    "# Notice the result here is no longer a ScalarMult!\n",
    "# Moral: simplification can change the type.\n",
    "type(temp_result.rhs)"
   ]
  },
  {
   "cell_type": "code",
   "execution_count": 7,
   "metadata": {},
   "outputs": [
    {
     "data": {
      "text/html": [
       "<span style=\"font-size:20px;\"> <a class=\"ProveItLink\" href=\"../__pv_it/demonstrations/7328515d87016ccb9d88126a007e0f1476374a110/proof.ipynb\" style=\"text-decoration: none\">&nbsp;&#x22A2;&nbsp;&nbsp;</a><a class=\"ProveItLink\" href=\"../__pv_it/demonstrations/b50d2176091abbff5f6838caa61900626bdb581c0/expr.ipynb\"><img src=\"data:image/png;base64,iVBORw0KGgoAAAANSUhEUgAAAJsAAAAVBAMAAACj9YEXAAAAMFBMVEX///8AAAAAAAAAAAAAAAAA\n",
       "AAAAAAAAAAAAAAAAAAAAAAAAAAAAAAAAAAAAAAAAAAAv3aB7AAAAD3RSTlMAInZUiRDNmWbv3US7\n",
       "qzJazP2FAAAACXBIWXMAAA7EAAAOxAGVKw4bAAABvUlEQVQ4y42Uv0vDQBzFX03T1lhKZ3Gok13E\n",
       "DFLHFnRUzORUsA5CF7FDEXHqJrrYXfAH3QSh+A/YdlZxcxI6d9FBcPUud72kLwkYeIR730/e5XuX\n",
       "HIAi6Jo1Uvo+1pUIPkNgzqUqGem+ur8JPWkhkcC60MQLVcmQ8NZKERtypo5SNG5K2A3YH8ehODYE\n",
       "nHHtezhycKjFcYbIysnWQnFsCPgS2EZarsG5FscZYh4Ux4aAX4GqlxrIoqfEcYaocFwlGvcLfLk4\n",
       "EINMR4njDNHmuHYkzpZwx9+i9LsSxQVEk+OakbjUj4BL/krnGkrA2YO8HpnocVwvPq6GrPgerK4S\n",
       "vV1AXAdP7/vTsiFaEfBzCQXRZOFbiZs1ROhpp0VxvqEWuurCqgELXaWYrVDEP5rFC3DlISP+VutO\n",
       "idYuIEYcN4rGXQAnwJLcioESv50hdqSxGzom2BCw49o3wKb8ZWpKHGeIiRh/3h4FnyYbArbbq+Lw\n",
       "kT06fSWOM4QzpiIb0+PHkvuyqJVI5FpUZGMK52X/p1rJxJCrw3h4T567A6VkAnWu1uPhsp4/X0yK\n",
       "K/snfYmP/lljTq+l/PGXtZBE/AFRcZ6nZflVnAAAAABJRU5ErkJggg==\n",
       "\" style=\"display:inline;vertical-align:middle;\" /></a></span>"
      ],
      "text/plain": [
       "|- (1 * (1 * |0〉)) = |0〉"
      ]
     },
     "metadata": {},
     "output_type": "display_data"
    }
   ],
   "source": [
    "temp_result.inner_expr().rhs.operands[0].simplify()"
   ]
  },
  {
   "cell_type": "code",
   "execution_count": 8,
   "metadata": {},
   "outputs": [
    {
     "data": {
      "text/html": [
       "<strong id=\"temp_result_02\">temp_result_02:</strong> <span style=\"font-size:20px;\"> <a class=\"ProveItLink\" href=\"../__pv_it/demonstrations/34b66bb78ac8e35f76de674f2ceffca9a0df77750/proof.ipynb\" style=\"text-decoration: none\">&nbsp;&#x22A2;&nbsp;&nbsp;</a><a class=\"ProveItLink\" href=\"../__pv_it/demonstrations/437319c3bc0e07384f7518115f1d08352a829ee20/expr.ipynb\"><img src=\"data:image/png;base64,iVBORw0KGgoAAAANSUhEUgAAAMUAAAAVBAMAAAAEKDfsAAAAMFBMVEX///8AAAAAAAAAAAAAAAAA\n",
       "AAAAAAAAAAAAAAAAAAAAAAAAAAAAAAAAAAAAAAAAAAAv3aB7AAAAD3RSTlMAInZUiRDNmWbv3US7\n",
       "qzJazP2FAAAACXBIWXMAAA7EAAAOxAGVKw4bAAACAklEQVRIx51VMUscQRh9597e6XoeS0qxOLEw\n",
       "jWQL0dIDLZVcZRXxUgg2EgsRsbpOksbrBTUEEQTlyB/wYq2SLrEQrG1MIGrrzLo33+yb3SYLj2Xe\n",
       "977vzX4zOwMgBD1MFLKHd4k0zEhJq9AXUdQhxtLDYuf1fa3w3UK+CpMK9w0ryoRXB6pH6ey58RDT\n",
       "ej4tgevRU/lN+L8+WSUdYhFY2nxMZZci/ysCPVixwB5GVdYzeGeVdIgtPd+0xxdgHkXd0x0L7GFU\n",
       "A6CSDtF2Pa6AmUahq9UNAXsY1RSXZMJruh7PwEOEj2pQagnYw6g22IOJct3x8HV2K94cxZ8C8hDV\n",
       "KnswEc8w7VH4p7Jr8XL2NwXA9ol+Tln1jT2YCKJsjzrKant6bQF9h6j2pORyPBcmBjrGw39KuqCy\n",
       "z2uoqv5U/wi4V0ZllQzWySMmLA8cy2rORPHPOdgWZKz5q+p/eoVLYLeBkjqlvEMBrYeoLtiDiUrN\n",
       "9fgMbAIjes27Av4Oo1rQxHvr3GQi3pXFv6nsIPL3gdlkZ/fAHkZ1r8a3B2vyCzFRVV0Yunn6bWf7\n",
       "GxPqzNbtCToC9jCq4I6CDnGWc2p7ekcMW8hV9a9T0CF2crIrYXJg9pCv+sFRJiphdvaivu26gnwV\n",
       "PnCUCb+bnf028e8hX4VCjW9iJt7QXZwsmN5voxZyVS9UJcM3hNdXlgAAAABJRU5ErkJggg==\n",
       "\" style=\"display:inline;vertical-align:middle;\" /></a></span><br>"
      ],
      "text/plain": [
       "<IPython.core.display.HTML object>"
      ]
     },
     "metadata": {},
     "output_type": "display_data"
    }
   ],
   "source": [
    "# notice here we eliminate multiply-nested ScalarMults\n",
    "# and multiplicative identity scalars\n",
    "# with our shallow_simplification() method\n",
    "temp_result_02 = example_scalar_mult_03.shallow_simplification()"
   ]
  },
  {
   "cell_type": "markdown",
   "metadata": {},
   "source": [
    "#### `ScalarMult.scalar_one_elimination()`"
   ]
  },
  {
   "cell_type": "code",
   "execution_count": 9,
   "metadata": {},
   "outputs": [
    {
     "data": {
      "text/html": [
       "<span style=\"font-size:20px;\"> <a class=\"ProveItLink\" href=\"../__pv_it/demonstrations/65efde4fad839179eb1fd42aa7dedc0d9cfbb04d0/proof.ipynb\" style=\"text-decoration: none\">&nbsp;&#x22A2;&nbsp;&nbsp;</a><a class=\"ProveItLink\" href=\"../__pv_it/demonstrations/56b5f259141e25e9fae8b9f29d2c167d193511a20/expr.ipynb\"><img src=\"data:image/png;base64,iVBORw0KGgoAAAANSUhEUgAAAHEAAAAVBAMAAACDNRyvAAAAMFBMVEX///8AAAAAAAAAAAAAAAAA\n",
       "AAAAAAAAAAAAAAAAAAAAAAAAAAAAAAAAAAAAAAAAAAAv3aB7AAAAD3RSTlMAInZUiRDNmWbv3US7\n",
       "qzJazP2FAAAACXBIWXMAAA7EAAAOxAGVKw4bAAABRElEQVQ4y3WUu0oDQRSG/73ktuqSWiy0s9NC\n",
       "tA1Yi6lSGVwLwUZMISJW29naWyiIjSAEnyD6AGKnKYTUqUxhas+vu3Fmd87AMJePb86cw+wCaMJs\n",
       "XjaOUCRFCn/dYmH/b3yV/lQyTYoN6eO2xeJ7YIuHpi4zp5UElfcTy+yefQMRF4cOc0ZrPHfNjukL\n",
       "C5nEpStmThtwm95AFo22YpJuKiYOpFdTxSQ91UxWLnzTTKFHmski1BNuXTywPRbpnWbWZBJcaTGF\n",
       "Xv+b+4nJYrlp/KWZQg0z6pksaAFzakyh6m2r8mqDWy1PoS+aucQKDbSYQne4sdu0WDiRyTbr0HKY\n",
       "OR3L8HlznBpsYTj9AHjRqF82ZzQaub+jgOVa1L4y0nrPzeaZwLlm/tJnN+sge/UqxZ6breYnqxTe\n",
       "ssX8LG++9ZXS38SgP7qldXBf371oAAAAAElFTkSuQmCC\n",
       "\" style=\"display:inline;vertical-align:middle;\" /></a></span>"
      ],
      "text/plain": [
       "|- (1 * |1〉) = |1〉"
      ]
     },
     "metadata": {},
     "output_type": "display_data"
    }
   ],
   "source": [
    "example_scalar_mult_01.scalar_one_elimination()"
   ]
  },
  {
   "cell_type": "code",
   "execution_count": 10,
   "metadata": {},
   "outputs": [
    {
     "data": {
      "text/html": [
       "<span style=\"font-size:20px;\"> <a class=\"ProveItLink\" href=\"../__pv_it/demonstrations/c4aa02659c4d75fb41488992322c5c79ed11c4d30/proof.ipynb\" style=\"text-decoration: none\">&nbsp;&#x22A2;&nbsp;&nbsp;</a><a class=\"ProveItLink\" href=\"../__pv_it/demonstrations/be91f747e0c2874e044eba2e0eb305ac83e494ad0/expr.ipynb\"><img src=\"data:image/png;base64,iVBORw0KGgoAAAANSUhEUgAAAMUAAAAVBAMAAAAEKDfsAAAAMFBMVEX///8AAAAAAAAAAAAAAAAA\n",
       "AAAAAAAAAAAAAAAAAAAAAAAAAAAAAAAAAAAAAAAAAAAv3aB7AAAAD3RSTlMAInZUiRDNmWbv3US7\n",
       "qzJazP2FAAAACXBIWXMAAA7EAAAOxAGVKw4bAAACLElEQVRIx42VPUgbYRjH/2dyiZ5pOByLQ8RB\n",
       "F/GGYtHFgB0tZnJSqoOQRXQIIp0yVVoKdXES/ECk0GKRbk5+zLa42Q6FzC4qtLr6PGcS7/2/d0kP\n",
       "3hz3v/vd7/148h4AH3SYgVM/1+p3HNiHg5YIOgICKEgfPp5/SvsurbtgO/rREsELaVelyBMUKPBq\n",
       "wMdL1VflZ9BSpIpAfh+JiDsH93Ip4uBAgEzg7sLTiwVpmRI7poHZlX9IRLLateEIxoEAH4BJpHUK\n",
       "16R1LrNjVftrOgykC+TgQIAfwHjJOdGbmm+wY912GMgIO0Zsxz1wHWBe50kHWeblmLMdBlJhR8Vy\n",
       "uApUw1pIX8jPa3Jki5bDRMrsKFsO568AhXAFO7XL7zR++0WPAzQGZzpMZI8de/GOIrJSkSmd+lEa\n",
       "hxfEO5rI5tMr32gnrUAGLsBxAXmZp/yNJNfk6DpsOtw7xCCRV3rL5AiDxwUcD8J/WreO4yjZgc+I\n",
       "Qf5jrnAOfCohI1tPakeSMVqPmLkykTN2nNmO98AK0KsLqBX/kcaRK9gOAwkLcSqy1XIggBe4W8BE\n",
       "o0wr5AgLOn2LRORKTn+2F6vNBzgQwK0MyTat0+Tp1H8lR17uPPt99wtJiFfjSqzFb9QpLYDn+nXY\n",
       "4b3kG1oj1g7HQQPI+fXdL1tlxxraIKdMnMYD0zoEXfJe6/uR89sgM0zMxAODjZdZnYJ70gZx+NtJ\n",
       "QUd9fbR4+vTat7+1PWiFPADR78GTec0X5gAAAABJRU5ErkJggg==\n",
       "\" style=\"display:inline;vertical-align:middle;\" /></a></span>"
      ],
      "text/plain": [
       "|- (1 * (1 * |0〉)) = (1 * |0〉)"
      ]
     },
     "metadata": {},
     "output_type": "display_data"
    }
   ],
   "source": [
    "example_scalar_mult_02.scalar_one_elimination()"
   ]
  },
  {
   "cell_type": "code",
   "execution_count": 11,
   "metadata": {},
   "outputs": [
    {
     "data": {
      "text/html": [
       "<span style=\"font-size:20px;\"> <a class=\"ProveItLink\" href=\"../__pv_it/demonstrations/1262b8aaa76e8cdd4d9a580003943819f62d3d1c0/proof.ipynb\" style=\"text-decoration: none\">&nbsp;&#x22A2;&nbsp;&nbsp;</a><a class=\"ProveItLink\" href=\"../__pv_it/demonstrations/888a2f53a7f9bc81c20e0bc6c54044c90f38a0bd0/expr.ipynb\"><img src=\"data:image/png;base64,iVBORw0KGgoAAAANSUhEUgAAARcAAAAVBAMAAACeQrdYAAAAMFBMVEX///8AAAAAAAAAAAAAAAAA\n",
       "AAAAAAAAAAAAAAAAAAAAAAAAAAAAAAAAAAAAAAAAAAAv3aB7AAAAD3RSTlMAInZUiRDNmWbv3US7\n",
       "qzJazP2FAAAACXBIWXMAAA7EAAAOxAGVKw4bAAADE0lEQVRIx51WMWgUQRR9m929u1w252EZBE8s\n",
       "TKNeIYo2OaLdKl4VUSKJiJBGPCGEQJpUBkXwGitBT0QEBVnsrLxYq1ynFsrVAYkaEy39M/Mv2fyf\n",
       "zYkLj919O+/N29m/MwOgjO2Hh90Jbl/iJ16K26ldFtFz7fIT+3SgKjQHsTsRu1NELkMVB7zSWZSv\n",
       "IILEnT+w3FocI6zUtxr5NXrrp8gmKEwwfhN+g65HGQOLKoz0lYQJc+ZQGSdYbhBOI/x4IyWaAC7P\n",
       "rSOboDBXcamMFl3n6g64JrMoX0lQmFw1fIwiWE7Im3c6mhLNm6TpMJKIUWghaOM0XRcaDliSYZSv\n",
       "JCjMHeAsgirLCYMQoqYM01Rhog78dewzN/cZg3URRvlKgsK8B8bqXpvlhOOijT8t+lZEjD0NlNaQ\n",
       "M/U/w8jJopG+iqAwv4HVKq6wnDAr2uRrom9FxJiiMH9sYeMcI+iIMNJXEUESmjCLtrCNnDAj2thX\n",
       "TPetiBj7ayj9hK3gW4yCGb/8c3vYXNJXEUHi/aIwFVvBRk54ItoUq6JvRbgwZLRANycZflOMjPRV\n",
       "BIepIZ84OeHBVpsp83aDyWbf4QZ2Iugz1TBEI/ONblYZpe8ijPRVBH0mCvOmglLHyQmpNsXG9r7x\n",
       "DDsRtoD9NTeLvWYMNbPDWF9FuAIeq9raM3LC/3ymqI0CEeY3OMXwW6Jm/uEz4R1wr27/SiMnvBVt\n",
       "ooroWxE06TWRn4adIO4yCm0xMtJXERTmNjAHO18ZOcH8lzi/taDafzT4gWwiNm95seumzlmGnQDS\n",
       "h/TVHSU06OFD2JncyAkrdPnl0fXNOatEAzb8eeMTMgkKc2H8K9yi8oJRTEQY6asIChPOHu66GcLI\n",
       "CcWucHmJPgRvIexy67UcMCJVylcSvS2EXf1HHOwylz7UkreUEWaZVz+7As5LlfKVRC9MVGb5PHum\n",
       "j6jch4g3twSu+Ay8ttrPLPchemEmWG4tJuVGpN2H4DB2P7XMiPS+c7IP0QszynJr4VWEaC92J464\n",
       "07AJVHbAAb3tVL6CGOAa6rCc8BfGzfwcC3NvVQAAAABJRU5ErkJggg==\n",
       "\" style=\"display:inline;vertical-align:middle;\" /></a></span>"
      ],
      "text/plain": [
       "|- (1 * (1 * (1 * |0〉))) = (1 * (1 * |0〉))"
      ]
     },
     "metadata": {},
     "output_type": "display_data"
    }
   ],
   "source": [
    "example_scalar_mult_03.scalar_one_elimination()"
   ]
  },
  {
   "cell_type": "markdown",
   "metadata": {},
   "source": [
    "#### `ScalarMult.double_scaling_reduction()`"
   ]
  },
  {
   "cell_type": "code",
   "execution_count": 12,
   "metadata": {},
   "outputs": [
    {
     "name": "stdout",
     "output_type": "stream",
     "text": [
      "ValueError: 'double_scaling_reduction' is only applicable for a doubly nested ScalarMult\n"
     ]
    }
   ],
   "source": [
    "# quite reasonably, the double-scaling_reduction() method\n",
    "# only works for nested ScalarMults\n",
    "try:\n",
    "    example_scalar_mult_01.double_scaling_reduction(auto_simplify=False)\n",
    "except ValueError as the_error:\n",
    "    print(\"ValueError: {}\".format(the_error))"
   ]
  },
  {
   "cell_type": "code",
   "execution_count": 13,
   "metadata": {},
   "outputs": [
    {
     "data": {
      "text/html": [
       "<span style=\"font-size:20px;\"> <a class=\"ProveItLink\" href=\"../__pv_it/demonstrations/d9a92a3f0726b2d59d49fc97ff4c6ab485e73b500/proof.ipynb\" style=\"text-decoration: none\">&nbsp;&#x22A2;&nbsp;&nbsp;</a><a class=\"ProveItLink\" href=\"../__pv_it/demonstrations/4f4db38d70e0f14759c67534f0d1015a122cb7430/expr.ipynb\"><img src=\"data:image/png;base64,iVBORw0KGgoAAAANSUhEUgAAAO0AAAAVBAMAAABYonTIAAAAMFBMVEX///8AAAAAAAAAAAAAAAAA\n",
       "AAAAAAAAAAAAAAAAAAAAAAAAAAAAAAAAAAAAAAAAAAAv3aB7AAAAD3RSTlMAInZUiRDNmWbv3US7\n",
       "qzJazP2FAAAACXBIWXMAAA7EAAAOxAGVKw4bAAACYUlEQVRIx42WMWgUQRSG/729vcttzmNJKSlO\n",
       "UphG3EIUbXIQS8WrUimehZBGTHGEYHWVhyJ4TSpBIxIExXDYWbmxVkmnFkLqNFHQ2Dpv33q3b2Ze\n",
       "8MHPMcv83787+3bmACSQFfiH++Cp9vR/cwL/ZQ2DSmrNXpDD6ph/Pxu9LQSPZcG9PNvWMThndNCd\n",
       "Tgg7QGtbGi6fTnCB7nHAsoosti1nLuqYqIfoy91S7gpwY/23MNTS6DliGtwuJGvFtTGz1lUxdbr9\n",
       "s6XcDbohmfsQuIIqvY9hIVkbHlvOnFlTMQ1YuSM39xOw1A0yM2h0WbJGHhszN1XMeSs37Lm5f4DD\n",
       "FLfMoDZgydfb89iYuapi+lZuvePkRmQY5A1Y3WOJIotjY+ZVFbNq5eZPI3ODX8bQzjtipscC7r2i\n",
       "eoPyIri591XMCys3Tv25HdTNlxCOWKLI4tiYeVHFPJnm3qQHaYwngOioWCBjeN9Gy6xv6wdLFFkc\n",
       "GzMPJ1wbU8qN12QuXk4bYinNd4bZEeu4XLYx892Ea2P+Y53xEXjcRc1sq+EWS7zfY9b5kor5YOU2\n",
       "227uA2AdmKeGyFiiyOLYmPlIxeSdfm16yORfSfWnyI3T6CmwXP5kxMmx57Exs69iDszP92d3JntB\n",
       "y6ziiW9HX8uGqH/GHF+0vPGYJYosjo2Zr1VMvG9RduA/B0PqjpOFXMsOfOfyloopbd1cQyW3mZRO\n",
       "ANcy9OXWBzpm1+6SxJ9Lhx1t6kHm4MnS9P0PmdcxuG7NjTJ/7qIeQJYo8+Tu6hgEbWvynBxWigag\n",
       "hj1VCB7LnHu5kqiYvwuA5UI/SDk9AAAAAElFTkSuQmCC\n",
       "\" style=\"display:inline;vertical-align:middle;\" /></a></span>"
      ],
      "text/plain": [
       "|- (1 * (1 * |0〉)) = ((1 * 1) * |0〉)"
      ]
     },
     "metadata": {},
     "output_type": "display_data"
    }
   ],
   "source": [
    "example_scalar_mult_02.double_scaling_reduction(auto_simplify=False)"
   ]
  },
  {
   "cell_type": "code",
   "execution_count": 14,
   "metadata": {},
   "outputs": [
    {
     "data": {
      "text/html": [
       "<span style=\"font-size:20px;\"> <a class=\"ProveItLink\" href=\"../__pv_it/demonstrations/a417d476781e3c4f7195a2fd7006f609183944a20/proof.ipynb\" style=\"text-decoration: none\">&nbsp;&#x22A2;&nbsp;&nbsp;</a><a class=\"ProveItLink\" href=\"../__pv_it/demonstrations/e2543f912a9809a25278e31bdd83d39d8f6b8fc80/expr.ipynb\"><img src=\"data:image/png;base64,iVBORw0KGgoAAAANSUhEUgAAAUEAAAAVBAMAAAAqSEFXAAAAMFBMVEX///8AAAAAAAAAAAAAAAAA\n",
       "AAAAAAAAAAAAAAAAAAAAAAAAAAAAAAAAAAAAAAAAAAAv3aB7AAAAD3RSTlMAInZUiRDNmWbv3US7\n",
       "qzJazP2FAAAACXBIWXMAAA7EAAAOxAGVKw4bAAADZ0lEQVRIx52WP2hTURTGT5q8pE1fY+goBSMd\n",
       "7KJmEKVdGqqbFjNVFKUREbqIFUIpumRqUQpm6SRopIhgsQS3TibOKtnUQclckKi11dF77rkvuefc\n",
       "mwxeOOS9k/v97vfufwDIgigyEfP+nYn+yXokkSzmT/dlR69tmzuUFwgnMclfL9JPqCijOfXwxgR4\n",
       "ZJNuWmv6sRN1+v1oc8+o2CtatWQiXlAd9oI5TMzdg/iyep7CL6pQiIIyKdXcKVHJbgwdXjiRhXMW\n",
       "NyhB8OmuZchJLADcWDlgDm/BtSzU1HMS6902wcuCKyVukrNZY8phMh88hzT0uCn8+tOWyEms4vcw\n",
       "h8M1SDTgvHoexo5cN8HLqkequVpjVbIbUw4fAVyCRL7HHRF13ETVcRi2IH4AE/iyiYoiBS9Vj5S4\n",
       "m7yScPgBYLYYa/S4Z6UhmYiXHIdHliGzD0lcaEs41BUKPg1LHilxlzhbOPwD0MnDzR63LB3KRKrg\n",
       "OFxUDv/SLJ9HbIuCFZQ5UuLOczZ3GKDDil6uhrskHcqE7h3u8FgBMr9AL5U1nIwlCoD7r7C8Brtj\n",
       "XYdrnM0dxn4rhzm9VAx3SzqUiXTe61CBHqiXaRyrKgUrKHOkxJ3mbI/DAqTqXe6TXp1F3Q8yMVLv\n",
       "NhMcmlEuwKjqw+/qpYOnyw8KVlDmSInb4Wy7MTXKyuHbHGRaXa5lKL0sHOqE1Qy87K6U+D5t7bt4\n",
       "SlQpBjkkKXF3OdtujFbKbF5PcsP9n1EOGzCsErjeZnCUaxRsHg4Y5ZlBowzvAR4X9UZhuO+kQ5kI\n",
       "c+6OXYVUCfSetYEzukHBCsocKXE3OFs4fAiwAnqzNVy99C9bdxOZ0PtI4ic79bbgapv2/bK9sbA7\n",
       "QMsjJW6Zs1ljddWvwVPQB5bh7qnHr8/u9DZcmciovh77cvjZdnhl7hvQ2bmNY1WnYAVljpS426wS\n",
       "a0w5DMon27STGW66LbcJmdgB7+1L3z9iSDpqwpXtgO/eWOvPjm5f+uJkuPY5rouTWO/jsBldM6I7\n",
       "gitb9zlMVfqzI4dh1uI2JUEmwqzXYYD7F05oXDGxhmMEZaHv7j0xgB05XLC51yVBJoKG16G+tDb7\n",
       "W0FZ0PA4bA5gRw6nbG4sJ+eJTIzz11P0M4YuEXDcBHhk4256KDuAPWQWQavH/QdH5BmGA/lIzwAA\n",
       "AABJRU5ErkJggg==\n",
       "\" style=\"display:inline;vertical-align:middle;\" /></a></span>"
      ],
      "text/plain": [
       "|- (1 * (1 * (1 * |0〉))) = ((1 * 1) * (1 * |0〉))"
      ]
     },
     "metadata": {},
     "output_type": "display_data"
    }
   ],
   "source": [
    "example_scalar_mult_03.double_scaling_reduction(auto_simplify=False)"
   ]
  },
  {
   "cell_type": "code",
   "execution_count": 15,
   "metadata": {},
   "outputs": [],
   "source": [
    "%end demonstrations"
   ]
  }
 ],
 "metadata": {
  "kernelspec": {
   "display_name": "Python 3",
   "language": "python",
   "name": "python3"
  }
 },
 "nbformat": 4,
 "nbformat_minor": 0
}