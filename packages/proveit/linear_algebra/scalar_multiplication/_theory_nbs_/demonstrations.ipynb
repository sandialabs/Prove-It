{
 "cells": [
  {
   "cell_type": "markdown",
   "metadata": {},
   "source": [
    "Demonstrations for the theory of <a class=\"ProveItLink\" href=\"theory.ipynb\">proveit.linear_algebra.scalar_multiplication</a>\n",
    "========"
   ]
  },
  {
   "cell_type": "code",
   "execution_count": null,
   "metadata": {},
   "outputs": [],
   "source": [
    "import proveit\n",
    "from proveit import k\n",
    "from proveit.logic import InClass, InSet\n",
    "from proveit.linear_algebra import ScalarMult, VecSpaces\n",
    "from proveit.numbers import zero, one\n",
    "from proveit.physics.quantum import Ket\n",
    "%begin demonstrations"
   ]
  },
  {
   "cell_type": "markdown",
   "metadata": {},
   "source": [
    "#### Some Example Simple ScalarMult Expressions for Demonstrations"
   ]
  },
  {
   "cell_type": "code",
   "execution_count": null,
   "metadata": {},
   "outputs": [],
   "source": [
    "example_scalar_mult_01, example_scalar_mult_02, example_scalar_mult_03 = (\n",
    "        ScalarMult(one, Ket(one)),\n",
    "        ScalarMult(one, ScalarMult(one, Ket(zero))),\n",
    "        ScalarMult(one, ScalarMult(one, ScalarMult(one, Ket(zero)))))"
   ]
  },
  {
   "cell_type": "markdown",
   "metadata": {},
   "source": [
    "#### `ScalarMult.shallow_simplification()`"
   ]
  },
  {
   "cell_type": "code",
   "execution_count": null,
   "metadata": {},
   "outputs": [],
   "source": [
    "example_scalar_mult_01.shallow_simplification()"
   ]
  },
  {
   "cell_type": "code",
   "execution_count": null,
   "metadata": {},
   "outputs": [],
   "source": [
    "example_scalar_mult_02"
   ]
  },
  {
   "cell_type": "code",
   "execution_count": null,
   "metadata": {},
   "outputs": [],
   "source": [
    "temp_result = example_scalar_mult_02.shallow_simplification()"
   ]
  },
  {
   "cell_type": "code",
   "execution_count": null,
   "metadata": {},
   "outputs": [],
   "source": [
    "type(temp_result.rhs)"
   ]
  },
  {
   "cell_type": "code",
   "execution_count": null,
   "metadata": {},
   "outputs": [],
   "source": [
    "temp_result.inner_expr().rhs.operands[0].simplify()"
   ]
  },
  {
   "cell_type": "code",
   "execution_count": null,
   "metadata": {},
   "outputs": [],
   "source": [
    "# notice here we eliminate multiply-nested ScalarMults\n",
    "# and multiplicative identity scalars\n",
    "# with our shallow_simplification() method\n",
    "temp_result_02 = example_scalar_mult_03.shallow_simplification()"
   ]
  },
  {
   "cell_type": "markdown",
   "metadata": {},
   "source": [
    "#### `ScalarMult.scalar_one_elimination()`"
   ]
  },
  {
   "cell_type": "code",
   "execution_count": null,
   "metadata": {},
   "outputs": [],
   "source": [
    "# the underlying theorem to instantiate inside the eventual method\n",
    "from proveit.linear_algebra.scalar_multiplication import one_as_scalar_mult_id\n",
    "one_as_scalar_mult_id"
   ]
  },
  {
   "cell_type": "code",
   "execution_count": null,
   "metadata": {},
   "outputs": [],
   "source": [
    "# give our example a general name:\n",
    "temp_self = example_scalar_mult_01"
   ]
  },
  {
   "cell_type": "code",
   "execution_count": null,
   "metadata": {},
   "outputs": [],
   "source": [
    "# obtain the instance params\n",
    "_K, _v, _V = one_as_scalar_mult_id.all_instance_params()"
   ]
  },
  {
   "cell_type": "code",
   "execution_count": null,
   "metadata": {},
   "outputs": [],
   "source": [
    "# find a containing vector space V in the theorem\n",
    "_V_sub = list(VecSpaces.yield_known_vec_spaces(temp_self.scaled))[0]"
   ]
  },
  {
   "cell_type": "code",
   "execution_count": null,
   "metadata": {},
   "outputs": [],
   "source": [
    "# find a vec space field, hopefully containing the mult identity 1\n",
    "_K_sub = list(VecSpaces.yield_known_fields(_V_sub))[0]"
   ]
  },
  {
   "cell_type": "code",
   "execution_count": null,
   "metadata": {},
   "outputs": [],
   "source": [
    "# isolate the vector portion\n",
    "_v_sub = temp_self.scaled"
   ]
  },
  {
   "cell_type": "code",
   "execution_count": null,
   "metadata": {},
   "outputs": [],
   "source": [
    "# instantiate the theorem\n",
    "one_as_scalar_mult_id.instantiate({_K: _K_sub, _v: _v_sub, _V: _V_sub}, preserve_all=True)"
   ]
  },
  {
   "cell_type": "code",
   "execution_count": null,
   "metadata": {},
   "outputs": [],
   "source": [
    "# here is the actual method call\n",
    "example_scalar_mult_01.scalar_one_elimination()"
   ]
  },
  {
   "cell_type": "markdown",
   "metadata": {},
   "source": [
    "#### `ScalarMult.multi_scaling_reduction()`"
   ]
  },
  {
   "cell_type": "code",
   "execution_count": null,
   "metadata": {},
   "outputs": [],
   "source": [
    "example_scalar_mult_01.multi_scaling_reduction()"
   ]
  },
  {
   "cell_type": "code",
   "execution_count": null,
   "metadata": {},
   "outputs": [],
   "source": [
    "example_scalar_mult_02.multi_scaling_reduction()"
   ]
  },
  {
   "cell_type": "code",
   "execution_count": null,
   "metadata": {},
   "outputs": [],
   "source": [
    "example_scalar_mult_03.multi_scaling_reduction()"
   ]
  },
  {
   "cell_type": "code",
   "execution_count": null,
   "metadata": {},
   "outputs": [],
   "source": [
    "assert False"
   ]
  },
  {
   "cell_type": "code",
   "execution_count": null,
   "metadata": {},
   "outputs": [],
   "source": [
    "%end demonstrations"
   ]
  }
 ],
 "metadata": {
  "kernelspec": {
   "display_name": "Python 3",
   "language": "python",
   "name": "python3"
  }
 },
 "nbformat": 4,
 "nbformat_minor": 0
}
