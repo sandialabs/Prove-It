{
 "cells": [
  {
   "cell_type": "markdown",
   "metadata": {},
   "source": [
    "Axioms for the theory of <a class=\"ProveItLink\" href=\"theory.ipynb\">proveit.linear_algebra.scalar_multiplication</a>\n",
    "========"
   ]
  },
  {
   "cell_type": "code",
   "execution_count": 1,
   "metadata": {},
   "outputs": [],
   "source": [
    "import proveit\n",
    "# Prepare this notebook for defining the axioms of a theory:\n",
    "%axioms_notebook # Keep this at the top following 'import proveit'.\n",
    "\n",
    "from proveit import a, b\n",
    "from proveit.logic import Forall, Equals\n",
    "from proveit.numbers import Mult, Complex\n",
    "from proveit.linear_algebra import ScalarMult"
   ]
  },
  {
   "cell_type": "code",
   "execution_count": 2,
   "metadata": {},
   "outputs": [
    {
     "name": "stdout",
     "output_type": "stream",
     "text": [
      "Defining axioms for theory 'proveit.linear_algebra.scalar_multiplication'\n",
      "Subsequent end-of-cell assignments will define axioms\n",
      "%end_axioms will finalize the definitions\n"
     ]
    }
   ],
   "source": [
    "%begin axioms"
   ]
  },
  {
   "cell_type": "markdown",
   "metadata": {},
   "source": [
    "Scalar multiplication and number multiplication are the same when applied to complex numbers:"
   ]
  },
  {
   "cell_type": "code",
   "execution_count": 3,
   "metadata": {},
   "outputs": [
    {
     "data": {
      "text/html": [
       "<strong id=\"scalar_mult_extends_number_mult\">scalar_mult_extends_number_mult:</strong> <a class=\"ProveItLink\" href=\"../__pv_it/axioms/e5b471408615701c5661000898cffae2fd47d0700/axiom_expr.ipynb\"><img src=\"data:image/png;base64,iVBORw0KGgoAAAANSUhEUgAAANEAAAAWBAMAAACs+WTQAAAAMFBMVEX///8AAAAAAAAAAAAAAAAA\n",
       "AAAAAAAAAAAAAAAAAAAAAAAAAAAAAAAAAAAAAAAAAAAv3aB7AAAAD3RSTlMAq1RmmUTNIjK7EInv\n",
       "3XZ/CtNrAAAACXBIWXMAAA7EAAAOxAGVKw4bAAADA0lEQVRIx7WVTWjUQBTHX5Nsd5Nmu0XBS2EJ\n",
       "CPag1T1IoRVqoCqC1C704qHYlQrSntKjoLIeREGlFQq6Kpriqay4rRb0YimI+EVllYpgKWTxUEGQ\n",
       "UtBKheK8mSSbTMbQiw/+w+6bX/Jm3ps3AdiCWa4E7i34kv9ABdZsMPF2UozylnAY2oJ/dsZG2u0q\n",
       "YNrdKnltTogGbWqBDF8ZehgdZ+ICaQWmkDWaZBgRoWE7jaxN0YuYyfG4SEqOKWQZTNN+ERq2NSLZ\n",
       "pCgGbDLiIumuQjZoo9cWoOEabeD4lqIyWUZjbJl2uQrZc5rCnAANWVMVxyGGLiwvv4uNdMxVsnXF\n",
       "8Z2nfmwj72kRoDA6d6FezmyN5GuGoUcBbsdGGnI1YKkbful/2RULZHoAepfRPnho4hXc97NaGdHW\n",
       "ATqAoqOQ9JeWGvYbYyLrrewjk/YClKo3LW2A7oA0zy0K0Yc56PUd+2x4D7AHKKraTXl/phXD1Up5\n",
       "7YYl3XF9L5mUVUhP4zJxI0oBMtOQWuUiIdoHsER3jY4jAH8AxoCikhM4EK+JDhVJWh8BHAhH0seh\n",
       "gktKYyeRmIMGJOYFkd6A9hN/L+KwBAlyzgeAoYVuMpS7n+J2Nms27fwHl9h9FchexYGDwXbqs0Gq\n",
       "cnXCJG+CvBpoJ4XUth0Y+pj0r/Y5tY7V+dJsTiHR1lZf6D2migE7JO+mzBRJ2UDmO55g2ho0FPyn\n",
       "f2PZoNNFz5EDoZgp3J6akwv9SHR11R+fYVIdaVHxfA05lSRRmeYizdBo7abpObbDBDv8FG0gddHz\n",
       "zXgA9aLS0lEqlYwrJ+qPX2fSss9Gv/mnvLUHq5XnIiE6+f1ytug5JmexFp8CaMVSu0gTZEA3rtLe\n",
       "JidCc+fSRaaonecdYixZDaC6NdZvlyFtd5JTj5OzFsy5c3hByqboFT28Q4zhveujiZ69T+CakTru\n",
       "QPIWOsrDE/76brqKrDX6CRBhcDaKsiu9XCqF8z/lijc1+s0WYRieQxO2+OJLOky8rYjRyBffiqAy\n",
       "/E/7CzTlxCrMuYHGAAAAAElFTkSuQmCC\n",
       "\" style=\"display:inline;vertical-align:middle;\" /></a><br>"
      ],
      "text/plain": [
       "<IPython.core.display.HTML object>"
      ]
     },
     "metadata": {},
     "output_type": "display_data"
    }
   ],
   "source": [
    "scalar_mult_extends_number_mult = (\n",
    "    Forall((a, b),\n",
    "           Equals(ScalarMult(a, b), Mult(a, b)),\n",
    "           domain=Complex))"
   ]
  },
  {
   "cell_type": "code",
   "execution_count": 4,
   "metadata": {},
   "outputs": [
    {
     "name": "stdout",
     "output_type": "stream",
     "text": [
      "These axioms may now be imported from the theory package: proveit.linear_algebra.scalar_multiplication\n"
     ]
    }
   ],
   "source": [
    "%end axioms"
   ]
  }
 ],
 "metadata": {
  "kernelspec": {
   "display_name": "Python 3",
   "language": "python",
   "name": "python3"
  }
 },
 "nbformat": 4,
 "nbformat_minor": 0
}