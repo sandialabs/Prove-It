{
 "cells": [
  {
   "cell_type": "markdown",
   "metadata": {},
   "source": [
    "Theory of <a class=\"ProveItLink\" href=\"../../../_theory_nbs_/theory.ipynb\">proveit</a>.<a class=\"ProveItLink\" href=\"../../_theory_nbs_/theory.ipynb\">linear_algebra</a>.scalar_multiplication\n",
    "========\n",
    "\n",
    "Provide description here."
   ]
  },
  {
   "cell_type": "code",
   "execution_count": 1,
   "metadata": {},
   "outputs": [
    {
     "data": {
      "text/html": [
       "<h3>Local content of this theory</h3>"
      ],
      "text/plain": [
       "<IPython.core.display.HTML object>"
      ]
     },
     "metadata": {},
     "output_type": "display_data"
    },
    {
     "data": {
      "text/html": [
       "<table><tr>\n",
       "<th><a class=\"ProveItLink\" href=\"common.ipynb\">common expressions</a></th>\n",
       "<th><a class=\"ProveItLink\" href=\"axioms.ipynb\">axioms</a></th>\n",
       "<th><a class=\"ProveItLink\" href=\"theorems.ipynb\">theorems</a></th>\n",
       "<th><a class=\"ProveItLink\" href=\"demonstrations.ipynb\">demonstrations</a></th>\n",
       "</tr></table>\n",
       "<h3>Sub-theories</h3>\n"
      ],
      "text/plain": [
       "<IPython.core.display.HTML object>"
      ]
     },
     "metadata": {},
     "output_type": "display_data"
    },
    {
     "data": {
      "text/html": [
       "<h3>All axioms contained within this theory</h3>"
      ],
      "text/plain": [
       "<IPython.core.display.HTML object>"
      ]
     },
     "metadata": {},
     "output_type": "display_data"
    },
    {
     "data": {
      "text/html": [
       "<dt><a class=\"ProveItLink\" href=\"axioms.ipynb#scalar_mult_extends_number_mult\">proveit.linear_algebra.scalar_multiplication.scalar_mult_extends_number_mult</a></dt><dd><a class=\"ProveItLink\" href=\"../__pv_it/axioms/c3e448c268301a38379b968d4d15c77dd1c82ca00/expr.ipynb\"><img src=\"data:image/png;base64,iVBORw0KGgoAAAANSUhEUgAAANEAAAAWBAMAAACs+WTQAAAAMFBMVEX///8AAAAAAAAAAAAAAAAA\n",
       "AAAAAAAAAAAAAAAAAAAAAAAAAAAAAAAAAAAAAAAAAAAv3aB7AAAAD3RSTlMAq1RmmUTNIjK7EInv\n",
       "3XZ/CtNrAAAACXBIWXMAAA7EAAAOxAGVKw4bAAADA0lEQVRIx7WVTWjUQBTHX5Nsd5Nmu0XBS2EJ\n",
       "CPag1T1IoRVqoCqC1C704qHYlQrSntKjoLIeREGlFQq6Kpriqay4rRb0YimI+EVllYpgKWTxUEGQ\n",
       "UtBKheK8mSSbTMbQiw/+w+6bX/Jm3ps3AdiCWa4E7i34kv9ABdZsMPF2UozylnAY2oJ/dsZG2u0q\n",
       "YNrdKnltTogGbWqBDF8ZehgdZ+ICaQWmkDWaZBgRoWE7jaxN0YuYyfG4SEqOKWQZTNN+ERq2NSLZ\n",
       "pCgGbDLiIumuQjZoo9cWoOEabeD4lqIyWUZjbJl2uQrZc5rCnAANWVMVxyGGLiwvv4uNdMxVsnXF\n",
       "8Z2nfmwj72kRoDA6d6FezmyN5GuGoUcBbsdGGnI1YKkbful/2RULZHoAepfRPnho4hXc97NaGdHW\n",
       "ATqAoqOQ9JeWGvYbYyLrrewjk/YClKo3LW2A7oA0zy0K0Yc56PUd+2x4D7AHKKraTXl/phXD1Up5\n",
       "7YYl3XF9L5mUVUhP4zJxI0oBMtOQWuUiIdoHsER3jY4jAH8AxoCikhM4EK+JDhVJWh8BHAhH0seh\n",
       "gktKYyeRmIMGJOYFkd6A9hN/L+KwBAlyzgeAoYVuMpS7n+J2Nms27fwHl9h9FchexYGDwXbqs0Gq\n",
       "cnXCJG+CvBpoJ4XUth0Y+pj0r/Y5tY7V+dJsTiHR1lZf6D2migE7JO+mzBRJ2UDmO55g2ho0FPyn\n",
       "f2PZoNNFz5EDoZgp3J6akwv9SHR11R+fYVIdaVHxfA05lSRRmeYizdBo7abpObbDBDv8FG0gddHz\n",
       "zXgA9aLS0lEqlYwrJ+qPX2fSss9Gv/mnvLUHq5XnIiE6+f1ytug5JmexFp8CaMVSu0gTZEA3rtLe\n",
       "JidCc+fSRaaonecdYixZDaC6NdZvlyFtd5JTj5OzFsy5c3hByqboFT28Q4zhveujiZ69T+CakTru\n",
       "QPIWOsrDE/76brqKrDX6CRBhcDaKsiu9XCqF8z/lijc1+s0WYRieQxO2+OJLOky8rYjRyBffiqAy\n",
       "/E/7CzTlxCrMuYHGAAAAAElFTkSuQmCC\n",
       "\" style=\"display:inline;vertical-align:middle;\" /></a></dd>"
      ],
      "text/plain": [
       "<IPython.core.display.HTML object>"
      ]
     },
     "metadata": {},
     "output_type": "display_data"
    }
   ],
   "source": [
    "import proveit\n",
    "%theory # toggles between interactive and static modes"
   ]
  },
  {
   "cell_type": "code",
   "execution_count": null,
   "metadata": {},
   "outputs": [],
   "source": []
  }
 ],
 "metadata": {
  "kernelspec": {
   "display_name": "Python 3",
   "language": "python",
   "name": "python3"
  }
 },
 "nbformat": 4,
 "nbformat_minor": 0
}