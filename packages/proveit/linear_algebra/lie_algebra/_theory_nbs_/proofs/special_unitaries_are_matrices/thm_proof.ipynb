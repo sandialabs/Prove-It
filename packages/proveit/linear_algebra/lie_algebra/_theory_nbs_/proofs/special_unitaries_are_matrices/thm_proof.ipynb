{
 "cells": [
  {
   "cell_type": "markdown",
   "metadata": {},
   "source": [
<<<<<<< HEAD:packages/proveit/numbers/absolute_value/_theory_nbs_/proofs/abs_eq/thm_proof.ipynb
    "Proof of <a class=\"ProveItLink\" href=\"../../../../../_theory_nbs_/theory.ipynb\">proveit</a>.<a class=\"ProveItLink\" href=\"../../../../_theory_nbs_/theory.ipynb\">numbers</a>.<a class=\"ProveItLink\" href=\"../../theory.ipynb\">absolute_value</a>.<a class=\"ProveItLink\" href=\"../../theorems.ipynb#abs_eq\">abs_eq</a> theorem\n",
=======
    "Proof of <a class=\"ProveItLink\" href=\"../../../../../_theory_nbs_/theory.ipynb\">proveit</a>.<a class=\"ProveItLink\" href=\"../../../../_theory_nbs_/theory.ipynb\">linear_algebra</a>.<a class=\"ProveItLink\" href=\"../../theory.ipynb\">lie_algebra</a>.<a class=\"ProveItLink\" href=\"../../theorems.ipynb#special_unitaries_are_matrices\">special_unitaries_are_matrices</a> theorem\n",
>>>>>>> 97-QPE-Content-Working-Backwards:packages/proveit/linear_algebra/lie_algebra/_theory_nbs_/proofs/special_unitaries_are_matrices/thm_proof.ipynb
    "========"
   ]
  },
  {
   "cell_type": "code",
   "execution_count": null,
   "metadata": {},
   "outputs": [],
   "source": [
    "import proveit\n",
    "theory = proveit.Theory() # the theorem's theory"
   ]
  },
  {
   "cell_type": "code",
   "execution_count": null,
   "metadata": {},
   "outputs": [],
   "source": [
<<<<<<< HEAD:packages/proveit/numbers/absolute_value/_theory_nbs_/proofs/abs_eq/thm_proof.ipynb
    "%proving abs_eq"
=======
    "%proving special_unitaries_are_matrices"
>>>>>>> 97-QPE-Content-Working-Backwards:packages/proveit/linear_algebra/lie_algebra/_theory_nbs_/proofs/special_unitaries_are_matrices/thm_proof.ipynb
   ]
  },
  {
   "cell_type": "code",
   "execution_count": null,
   "metadata": {},
   "outputs": [],
   "source": []
  }
 ],
 "metadata": {
  "kernelspec": {
   "display_name": "Python 3",
   "language": "python",
   "name": "python3"
  }
 },
 "nbformat": 4,
 "nbformat_minor": 0
}
