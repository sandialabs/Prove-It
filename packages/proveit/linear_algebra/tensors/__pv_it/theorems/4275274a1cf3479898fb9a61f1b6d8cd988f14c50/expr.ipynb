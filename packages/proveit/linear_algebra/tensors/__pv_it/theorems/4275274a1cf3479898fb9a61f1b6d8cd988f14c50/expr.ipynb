{
 "cells": [
  {
   "cell_type": "markdown",
   "metadata": {},
   "source": [
    "Expression of type <a class=\"ProveItLink\" href=\"../../../../../../../doc/html/api/proveit.Lambda.html\">Lambda</a>\n",
    "=======================\n",
    "# from the theory of <a class=\"ProveItLink\" href=\"../../../_theory_nbs_/theory.ipynb\">proveit.linear_algebra.tensors</a>"
   ]
  },
  {
   "cell_type": "code",
   "execution_count": 1,
   "metadata": {},
   "outputs": [],
   "source": [
    "import proveit\n",
    "# Automation is not needed when building an expression:\n",
    "proveit.defaults.automation = False # This will speed things up.\n",
    "proveit.defaults.inline_pngs = False # Makes files smaller.\n",
    "%load_expr # Load the stored expression as 'stored_expr'\n",
    "# import Expression classes needed to build the expression\n",
    "from proveit import Conditional, ExprRange, IndexedVar, K, Lambda, V, Variable, i\n",
    "from proveit.core_expr_types import V_1_to_i, a_1_to_i\n",
    "from proveit.linear_algebra import TensorProd, VecSpaces\n",
    "from proveit.logic import And, Forall, InClass, InSet\n",
    "from proveit.numbers import one"
   ]
  },
  {
   "cell_type": "code",
   "execution_count": 2,
   "metadata": {},
   "outputs": [
    {
     "data": {
      "text/html": [
       "<strong id=\"expr\">expr:</strong> <a class=\"ProveItLink\" href=\"expr.ipynb\"><img src=\"expr.png\" style=\"display:inline;vertical-align:middle;\" /></a><br>"
      ],
      "text/plain": [
       "<IPython.core.display.HTML object>"
      ]
     },
     "metadata": {},
     "output_type": "display_data"
    }
   ],
   "source": [
    "# build up the expression from sub-expressions\n",
    "sub_expr1 = Variable(\"_a\", latex_format = r\"{_{-}a}\")\n",
    "sub_expr2 = [V_1_to_i]\n",
    "expr = Lambda(sub_expr2, Conditional(Forall(instance_param_or_params = [a_1_to_i], instance_expr = InSet(TensorProd(a_1_to_i), TensorProd(V_1_to_i)), domains = sub_expr2), And(ExprRange(sub_expr1, InClass(IndexedVar(V, sub_expr1), VecSpaces(K)), one, i))))"
   ]
  },
  {
   "cell_type": "code",
   "execution_count": 3,
   "metadata": {},
   "outputs": [
    {
     "name": "stdout",
     "output_type": "stream",
     "text": [
      "Passed sanity check: expr matches stored_expr\n"
     ]
    }
   ],
   "source": [
    "# check that the built expression is the same as the stored expression\n",
    "assert expr == stored_expr\n",
    "assert expr._style_id == stored_expr._style_id\n",
    "print(\"Passed sanity check: expr matches stored_expr\")"
   ]
  },
  {
   "cell_type": "code",
   "execution_count": 4,
   "metadata": {},
   "outputs": [
    {
     "name": "stdout",
     "output_type": "stream",
     "text": [
      "\\left(V_{1}, V_{2}, \\ldots, V_{i}\\right) \\mapsto \\left\\{\\forall_{\\left(a_{1} \\in V_{1}\\right), \\left(a_{2} \\in V_{2}\\right), \\ldots, \\left(a_{i} \\in V_{i}\\right)}~\\left(\\left(a_{1} {\\otimes}  a_{2} {\\otimes}  \\ldots {\\otimes}  a_{i}\\right) \\in \\left(V_{1} {\\otimes}  V_{2} {\\otimes}  \\ldots {\\otimes}  V_{i}\\right)\\right) \\textrm{ if } \\left(V_{1} \\underset{{\\scriptscriptstyle c}}{\\in} \\textrm{VecSpaces}\\left(K\\right)\\right) \\land  \\left(V_{2} \\underset{{\\scriptscriptstyle c}}{\\in} \\textrm{VecSpaces}\\left(K\\right)\\right) \\land  \\ldots \\land  \\left(V_{i} \\underset{{\\scriptscriptstyle c}}{\\in} \\textrm{VecSpaces}\\left(K\\right)\\right)\\right..\n"
     ]
    }
   ],
   "source": [
    "# Show the LaTeX representation of the expression for convenience if you need it.\n",
    "print(stored_expr.latex())"
   ]
  },
  {
   "cell_type": "code",
   "execution_count": 5,
   "metadata": {},
   "outputs": [
    {
     "data": {
      "text/html": [
       "no style options"
      ],
      "text/plain": [
       "no style options"
      ]
     },
     "metadata": {},
     "output_type": "display_data"
    }
   ],
   "source": [
    "stored_expr.style_options()"
   ]
  },
  {
   "cell_type": "code",
   "execution_count": 6,
   "metadata": {},
   "outputs": [
    {
     "data": {
      "text/html": [
       "<table><tr><th>&nbsp;</th><th>core type</th><th>sub-expressions</th><th>expression</th></tr>\n",
       "<tr><td>0</td><td>Lambda</td><td>parameters:&nbsp;25<br>body:&nbsp;1<br></td><td><a class=\"ProveItLink\" href=\"expr.ipynb\"><img src=\"expr.png\" style=\"display:inline;vertical-align:middle;\" /></a></td></tr>\n",
       "<tr><td>1</td><td>Conditional</td><td>value:&nbsp;2<br>condition:&nbsp;3<br></td><td><a class=\"ProveItLink\" href=\"../310e430184bc9c579514dd46f07e4c092cb3fa980/expr.ipynb\"><img src=\"../310e430184bc9c579514dd46f07e4c092cb3fa980/expr.png\" style=\"display:inline;vertical-align:middle;\" /></a></td></tr>\n",
       "<tr><td>2</td><td>Operation</td><td>operator:&nbsp;4<br>operand:&nbsp;7<br></td><td><a class=\"ProveItLink\" href=\"../53bb8eccf40667d8384726758db34b92f63082d10/expr.ipynb\"><img src=\"../53bb8eccf40667d8384726758db34b92f63082d10/expr.png\" style=\"display:inline;vertical-align:middle;\" /></a></td></tr>\n",
       "<tr><td>3</td><td>Operation</td><td>operator:&nbsp;15<br>operands:&nbsp;6<br></td><td><a class=\"ProveItLink\" href=\"../3f6f8d25c49451dc3ee1ec074a044b59094205010/expr.ipynb\"><img src=\"../3f6f8d25c49451dc3ee1ec074a044b59094205010/expr.png\" style=\"display:inline;vertical-align:middle;\" /></a></td></tr>\n",
       "<tr><td>4</td><td>Literal</td><td></td><td><a class=\"ProveItLink\" href=\"../../../../../logic/booleans/quantification/universality/__pv_it/common/083d2baa0b8ecab1d230f9ec29a15aa1355809fb0/expr.ipynb\"><img src=\"../../../../../logic/booleans/quantification/universality/__pv_it/common/083d2baa0b8ecab1d230f9ec29a15aa1355809fb0/expr.png\" style=\"display:inline;vertical-align:middle;\" /></a></td></tr>\n",
       "<tr><td>5</td><td>ExprTuple</td><td>7</td><td><a class=\"ProveItLink\" href=\"../422680e31c459a276f30e2ecb1bad9f9b123c9690/expr.ipynb\"><img src=\"../422680e31c459a276f30e2ecb1bad9f9b123c9690/expr.png\" style=\"display:inline;vertical-align:middle;\" /></a></td></tr>\n",
       "<tr><td>6</td><td>ExprTuple</td><td>8</td><td><a class=\"ProveItLink\" href=\"../9d384817cfb63c2ba35ca94a83db0fb37dd13dba0/expr.ipynb\"><img src=\"../9d384817cfb63c2ba35ca94a83db0fb37dd13dba0/expr.png\" style=\"display:inline;vertical-align:middle;\" /></a></td></tr>\n",
       "<tr><td>7</td><td>Lambda</td><td>parameters:&nbsp;23<br>body:&nbsp;9<br></td><td><a class=\"ProveItLink\" href=\"../f911137abaf9a3619ac343291be6ec5a394554ed0/expr.ipynb\"><img src=\"../f911137abaf9a3619ac343291be6ec5a394554ed0/expr.png\" style=\"display:inline;vertical-align:middle;\" /></a></td></tr>\n",
       "<tr><td>8</td><td>ExprRange</td><td>lambda_map:&nbsp;10<br>start_index:&nbsp;35<br>end_index:&nbsp;36<br></td><td><a class=\"ProveItLink\" href=\"../4a35cc0f1027862904fced01319acf7f4dbc2e930/expr.ipynb\"><img src=\"../4a35cc0f1027862904fced01319acf7f4dbc2e930/expr.png\" style=\"display:inline;vertical-align:middle;\" /></a></td></tr>\n",
       "<tr><td>9</td><td>Conditional</td><td>value:&nbsp;11<br>condition:&nbsp;12<br></td><td><a class=\"ProveItLink\" href=\"../0bf111eae3a6d3298b8a3a9d76c92dc4152351650/expr.ipynb\"><img src=\"../0bf111eae3a6d3298b8a3a9d76c92dc4152351650/expr.png\" style=\"display:inline;vertical-align:middle;\" /></a></td></tr>\n",
       "<tr><td>10</td><td>Lambda</td><td>parameter:&nbsp;44<br>body:&nbsp;13<br></td><td><a class=\"ProveItLink\" href=\"../a7c29d8b077bb0a582a3ec6c50812a589d8f0c770/expr.ipynb\"><img src=\"../a7c29d8b077bb0a582a3ec6c50812a589d8f0c770/expr.png\" style=\"display:inline;vertical-align:middle;\" /></a></td></tr>\n",
       "<tr><td>11</td><td>Operation</td><td>operator:&nbsp;37<br>operands:&nbsp;14<br></td><td><a class=\"ProveItLink\" href=\"../0762a50dfa5da464771cd894fb8f2a5116859b550/expr.ipynb\"><img src=\"../0762a50dfa5da464771cd894fb8f2a5116859b550/expr.png\" style=\"display:inline;vertical-align:middle;\" /></a></td></tr>\n",
       "<tr><td>12</td><td>Operation</td><td>operator:&nbsp;15<br>operands:&nbsp;16<br></td><td><a class=\"ProveItLink\" href=\"../dd2e4698290e65e805ff6bbcb0d16226af7965cb0/expr.ipynb\"><img src=\"../dd2e4698290e65e805ff6bbcb0d16226af7965cb0/expr.png\" style=\"display:inline;vertical-align:middle;\" /></a></td></tr>\n",
       "<tr><td>13</td><td>Operation</td><td>operator:&nbsp;17<br>operands:&nbsp;18<br></td><td><a class=\"ProveItLink\" href=\"../cd3d28b0e996bb6e5cf82979be0fbb08c97ac1110/expr.ipynb\"><img src=\"../cd3d28b0e996bb6e5cf82979be0fbb08c97ac1110/expr.png\" style=\"display:inline;vertical-align:middle;\" /></a></td></tr>\n",
       "<tr><td>14</td><td>ExprTuple</td><td>19, 20</td><td><a class=\"ProveItLink\" href=\"../9aad28e3f0f42e3165d1d3981e5dcdc3962fa3130/expr.ipynb\"><img src=\"../9aad28e3f0f42e3165d1d3981e5dcdc3962fa3130/expr.png\" style=\"display:inline;vertical-align:middle;\" /></a></td></tr>\n",
       "<tr><td>15</td><td>Literal</td><td></td><td><a class=\"ProveItLink\" href=\"../../../../../logic/booleans/conjunction/__pv_it/common/42118ff318bd65d98b1393f64ce7c2269feef76e0/expr.ipynb\"><img src=\"../../../../../logic/booleans/conjunction/__pv_it/common/42118ff318bd65d98b1393f64ce7c2269feef76e0/expr.png\" style=\"display:inline;vertical-align:middle;\" /></a></td></tr>\n",
       "<tr><td>16</td><td>ExprTuple</td><td>21</td><td><a class=\"ProveItLink\" href=\"../490344c7ae8fac125ffe271ec4658482fad1cc0c0/expr.ipynb\"><img src=\"../490344c7ae8fac125ffe271ec4658482fad1cc0c0/expr.png\" style=\"display:inline;vertical-align:middle;\" /></a></td></tr>\n",
       "<tr><td>17</td><td>Literal</td><td></td><td><a class=\"ProveItLink\" href=\"../../../../../logic/classes/membership/__pv_it/common/e3b437d28fbe17f0a50c9789c7c9b47a1270f1420/expr.ipynb\"><img src=\"../../../../../logic/classes/membership/__pv_it/common/e3b437d28fbe17f0a50c9789c7c9b47a1270f1420/expr.png\" style=\"display:inline;vertical-align:middle;\" /></a></td></tr>\n",
       "<tr><td>18</td><td>ExprTuple</td><td>40, 22</td><td><a class=\"ProveItLink\" href=\"../cded9dd99a0af5c6371629b0aae8854a788554260/expr.ipynb\"><img src=\"../cded9dd99a0af5c6371629b0aae8854a788554260/expr.png\" style=\"display:inline;vertical-align:middle;\" /></a></td></tr>\n",
       "<tr><td>19</td><td>Operation</td><td>operator:&nbsp;24<br>operands:&nbsp;23<br></td><td><a class=\"ProveItLink\" href=\"../008ed8c2ee389aed7e029068927dfe267c7773a30/expr.ipynb\"><img src=\"../008ed8c2ee389aed7e029068927dfe267c7773a30/expr.png\" style=\"display:inline;vertical-align:middle;\" /></a></td></tr>\n",
       "<tr><td>20</td><td>Operation</td><td>operator:&nbsp;24<br>operands:&nbsp;25<br></td><td><a class=\"ProveItLink\" href=\"../4581127598515ec2c2399dbd6ee1819e48bc4b0c0/expr.ipynb\"><img src=\"../4581127598515ec2c2399dbd6ee1819e48bc4b0c0/expr.png\" style=\"display:inline;vertical-align:middle;\" /></a></td></tr>\n",
       "<tr><td>21</td><td>ExprRange</td><td>lambda_map:&nbsp;26<br>start_index:&nbsp;35<br>end_index:&nbsp;36<br></td><td><a class=\"ProveItLink\" href=\"../580d6130173b67686cbb7d751146d5df417b3cde0/expr.ipynb\"><img src=\"../580d6130173b67686cbb7d751146d5df417b3cde0/expr.png\" style=\"display:inline;vertical-align:middle;\" /></a></td></tr>\n",
       "<tr><td>22</td><td>Operation</td><td>operator:&nbsp;27<br>operand:&nbsp;32<br></td><td><a class=\"ProveItLink\" href=\"../bfe4d11fbcd28c79c0e2a9c152d66f0991be7cc30/expr.ipynb\"><img src=\"../bfe4d11fbcd28c79c0e2a9c152d66f0991be7cc30/expr.png\" style=\"display:inline;vertical-align:middle;\" /></a></td></tr>\n",
       "<tr><td>23</td><td>ExprTuple</td><td>29</td><td><a class=\"ProveItLink\" href=\"../2c196e25eb75441998cc38de7042eaf6940c703f0/expr.ipynb\"><img src=\"../2c196e25eb75441998cc38de7042eaf6940c703f0/expr.png\" style=\"display:inline;vertical-align:middle;\" /></a></td></tr>\n",
       "<tr><td>24</td><td>Literal</td><td></td><td><a class=\"ProveItLink\" href=\"../../common/7fa25b05174babb4710be62d63ebd43f68aa2fec0/expr.ipynb\"><img src=\"../../common/7fa25b05174babb4710be62d63ebd43f68aa2fec0/expr.png\" style=\"display:inline;vertical-align:middle;\" /></a></td></tr>\n",
       "<tr><td>25</td><td>ExprTuple</td><td>30</td><td><a class=\"ProveItLink\" href=\"../7e48b907199fc39a39ff684d157ce376723f85250/expr.ipynb\"><img src=\"../7e48b907199fc39a39ff684d157ce376723f85250/expr.png\" style=\"display:inline;vertical-align:middle;\" /></a></td></tr>\n",
       "<tr><td>26</td><td>Lambda</td><td>parameter:&nbsp;44<br>body:&nbsp;31<br></td><td><a class=\"ProveItLink\" href=\"../c85f1f6bd53558e63823d7e072ea707c9f530bd60/expr.ipynb\"><img src=\"../c85f1f6bd53558e63823d7e072ea707c9f530bd60/expr.png\" style=\"display:inline;vertical-align:middle;\" /></a></td></tr>\n",
       "<tr><td>27</td><td>Literal</td><td></td><td><a class=\"ProveItLink\" href=\"../../../../__pv_it/common/191fa3a3f5c54c22d4b0a7e4fd1b2f7738e981550/expr.ipynb\"><img src=\"../../../../__pv_it/common/191fa3a3f5c54c22d4b0a7e4fd1b2f7738e981550/expr.png\" style=\"display:inline;vertical-align:middle;\" /></a></td></tr>\n",
       "<tr><td>28</td><td>ExprTuple</td><td>32</td><td><a class=\"ProveItLink\" href=\"../dfa81a569aedd40943c42f533e78bc2f073711130/expr.ipynb\"><img src=\"../dfa81a569aedd40943c42f533e78bc2f073711130/expr.png\" style=\"display:inline;vertical-align:middle;\" /></a></td></tr>\n",
       "<tr><td>29</td><td>ExprRange</td><td>lambda_map:&nbsp;33<br>start_index:&nbsp;35<br>end_index:&nbsp;36<br></td><td><a class=\"ProveItLink\" href=\"../../../../../core_expr_types/__pv_it/common/7230c683fcd56948c826ac1be71b01b6fb2913950/expr.ipynb\"><img src=\"../../../../../core_expr_types/__pv_it/common/7230c683fcd56948c826ac1be71b01b6fb2913950/expr.png\" style=\"display:inline;vertical-align:middle;\" /></a></td></tr>\n",
       "<tr><td>30</td><td>ExprRange</td><td>lambda_map:&nbsp;34<br>start_index:&nbsp;35<br>end_index:&nbsp;36<br></td><td><a class=\"ProveItLink\" href=\"../../../../../core_expr_types/__pv_it/common/e3223cb2bd5adfc47566bb02ae24ae281c09c18b0/expr.ipynb\"><img src=\"../../../../../core_expr_types/__pv_it/common/e3223cb2bd5adfc47566bb02ae24ae281c09c18b0/expr.png\" style=\"display:inline;vertical-align:middle;\" /></a></td></tr>\n",
       "<tr><td>31</td><td>Operation</td><td>operator:&nbsp;37<br>operands:&nbsp;38<br></td><td><a class=\"ProveItLink\" href=\"../eda9e8a1a3b6e94b32271dbff85f1e6971ab193b0/expr.ipynb\"><img src=\"../eda9e8a1a3b6e94b32271dbff85f1e6971ab193b0/expr.png\" style=\"display:inline;vertical-align:middle;\" /></a></td></tr>\n",
       "<tr><td>32</td><td>Variable</td><td></td><td><a class=\"ProveItLink\" href=\"../../../../../__pv_it/common/1f2ffac7a1dc7c1a4f1fc7348356ae64ea992c790/expr.ipynb\"><img src=\"../../../../../__pv_it/common/1f2ffac7a1dc7c1a4f1fc7348356ae64ea992c790/expr.png\" style=\"display:inline;vertical-align:middle;\" /></a></td></tr>\n",
       "<tr><td>33</td><td>Lambda</td><td>parameter:&nbsp;44<br>body:&nbsp;39<br></td><td><a class=\"ProveItLink\" href=\"../../../../../core_expr_types/__pv_it/common/1527ad383e12f9c6ed6b371c9a7dd1892d80da1b0/expr.ipynb\"><img src=\"../../../../../core_expr_types/__pv_it/common/1527ad383e12f9c6ed6b371c9a7dd1892d80da1b0/expr.png\" style=\"display:inline;vertical-align:middle;\" /></a></td></tr>\n",
       "<tr><td>34</td><td>Lambda</td><td>parameter:&nbsp;44<br>body:&nbsp;40<br></td><td><a class=\"ProveItLink\" href=\"../../../../../core_expr_types/__pv_it/common/26e8d4e4a478d93551799f3dc5435f662b7f04e90/expr.ipynb\"><img src=\"../../../../../core_expr_types/__pv_it/common/26e8d4e4a478d93551799f3dc5435f662b7f04e90/expr.png\" style=\"display:inline;vertical-align:middle;\" /></a></td></tr>\n",
       "<tr><td>35</td><td>Literal</td><td></td><td><a class=\"ProveItLink\" href=\"../../../../../numbers/numerals/__pv_it/common/682157d4892d216d9e5626ed533aff9b56b9506e0/expr.ipynb\"><img src=\"../../../../../numbers/numerals/__pv_it/common/682157d4892d216d9e5626ed533aff9b56b9506e0/expr.png\" style=\"display:inline;vertical-align:middle;\" /></a></td></tr>\n",
       "<tr><td>36</td><td>Variable</td><td></td><td><a class=\"ProveItLink\" href=\"../../../../../__pv_it/common/ae955345c83abf786c3aff8681cd5465beae262d0/expr.ipynb\"><img src=\"../../../../../__pv_it/common/ae955345c83abf786c3aff8681cd5465beae262d0/expr.png\" style=\"display:inline;vertical-align:middle;\" /></a></td></tr>\n",
       "<tr><td>37</td><td>Literal</td><td></td><td><a class=\"ProveItLink\" href=\"../../../../../logic/sets/membership/__pv_it/common/477487d8796864d23d5810f83761435f25167f690/expr.ipynb\"><img src=\"../../../../../logic/sets/membership/__pv_it/common/477487d8796864d23d5810f83761435f25167f690/expr.png\" style=\"display:inline;vertical-align:middle;\" /></a></td></tr>\n",
       "<tr><td>38</td><td>ExprTuple</td><td>39, 40</td><td><a class=\"ProveItLink\" href=\"../921eb0bc70c94774c34f05e3fcf9499a274a24200/expr.ipynb\"><img src=\"../921eb0bc70c94774c34f05e3fcf9499a274a24200/expr.png\" style=\"display:inline;vertical-align:middle;\" /></a></td></tr>\n",
       "<tr><td>39</td><td>IndexedVar</td><td>variable:&nbsp;41<br>index:&nbsp;44<br></td><td><a class=\"ProveItLink\" href=\"../../../../../core_expr_types/__pv_it/common/3a62c13e156d62d52fe585fa37cc2172fcf685260/expr.ipynb\"><img src=\"../../../../../core_expr_types/__pv_it/common/3a62c13e156d62d52fe585fa37cc2172fcf685260/expr.png\" style=\"display:inline;vertical-align:middle;\" /></a></td></tr>\n",
       "<tr><td>40</td><td>IndexedVar</td><td>variable:&nbsp;42<br>index:&nbsp;44<br></td><td><a class=\"ProveItLink\" href=\"../../../../../core_expr_types/__pv_it/common/147a78b7570fad51cf5e91324728b3ba848fcf2d0/expr.ipynb\"><img src=\"../../../../../core_expr_types/__pv_it/common/147a78b7570fad51cf5e91324728b3ba848fcf2d0/expr.png\" style=\"display:inline;vertical-align:middle;\" /></a></td></tr>\n",
       "<tr><td>41</td><td>Variable</td><td></td><td><a class=\"ProveItLink\" href=\"../../../../../__pv_it/common/c06c606ec12678c58933ac85412ecadc2ae28be60/expr.ipynb\"><img src=\"../../../../../__pv_it/common/c06c606ec12678c58933ac85412ecadc2ae28be60/expr.png\" style=\"display:inline;vertical-align:middle;\" /></a></td></tr>\n",
       "<tr><td>42</td><td>Variable</td><td></td><td><a class=\"ProveItLink\" href=\"../../../../../__pv_it/common/6d80eb1398b2335bf9ec427954b851b7094dced50/expr.ipynb\"><img src=\"../../../../../__pv_it/common/6d80eb1398b2335bf9ec427954b851b7094dced50/expr.png\" style=\"display:inline;vertical-align:middle;\" /></a></td></tr>\n",
       "<tr><td>43</td><td>ExprTuple</td><td>44</td><td><a class=\"ProveItLink\" href=\"../../../../../core_expr_types/__pv_it/common/4b0dd6be36d76552eda6a95d5b4a27f5a5b62f900/expr.ipynb\"><img src=\"../../../../../core_expr_types/__pv_it/common/4b0dd6be36d76552eda6a95d5b4a27f5a5b62f900/expr.png\" style=\"display:inline;vertical-align:middle;\" /></a></td></tr>\n",
       "<tr><td>44</td><td>Variable</td><td></td><td><a class=\"ProveItLink\" href=\"../../../../../core_expr_types/__pv_it/common/006c465e50948aa2b52285e2de47974f741255cc0/expr.ipynb\"><img src=\"../../../../../core_expr_types/__pv_it/common/006c465e50948aa2b52285e2de47974f741255cc0/expr.png\" style=\"display:inline;vertical-align:middle;\" /></a></td></tr>\n",
       "</table>\n"
      ],
      "text/plain": [
       "0. (V_{1}, V_{2}, ..., V_{i}) -> {forall_{(a_{1} in V_{1}), (a_{2} in V_{2}), ..., (a_{i} in V_{i})} ((a_{1} otimes  a_{2} otimes  ... otimes  a_{i}) in (V_{1} otimes  V_{2} otimes  ... otimes  V_{i})) if (V_{1} in_c VecSpaces(K)) and  (V_{2} in_c VecSpaces(K)) and  ... and  (V_{i} in_c VecSpaces(K)).\n",
       "   core type: Lambda\n",
       "   parameters: 25\\n   body: 1\n",
       "1. {forall_{(a_{1} in V_{1}), (a_{2} in V_{2}), ..., (a_{i} in V_{i})} ((a_{1} otimes  a_{2} otimes  ... otimes  a_{i}) in (V_{1} otimes  V_{2} otimes  ... otimes  V_{i})) if (V_{1} in_c VecSpaces(K)) and  (V_{2} in_c VecSpaces(K)) and  ... and  (V_{i} in_c VecSpaces(K)).\n",
       "   core type: Conditional\n",
       "   value: 2\n",
       "   condition: 3\n",
       "2. forall_{(a_{1} in V_{1}), (a_{2} in V_{2}), ..., (a_{i} in V_{i})} ((a_{1} otimes  a_{2} otimes  ... otimes  a_{i}) in (V_{1} otimes  V_{2} otimes  ... otimes  V_{i}))\n",
       "   core type: Operation\n",
       "   operator: 4\n",
       "   operand: 7\n",
       "3. (V_{1} in_c VecSpaces(K)) and  (V_{2} in_c VecSpaces(K)) and  ... and  (V_{i} in_c VecSpaces(K))\n",
       "   core type: Operation\n",
       "   operator: 15\n",
       "   operands: 6\n",
       "4. forall\n",
       "   core type: Literal\n",
       "   sub-expressions: \n",
       "5. ((a_{1}, a_{2}, ..., a_{i}) -> {(a_{1} otimes  a_{2} otimes  ... otimes  a_{i}) in (V_{1} otimes  V_{2} otimes  ... otimes  V_{i}) if (a_{1} in V_{1}) and  (a_{2} in V_{2}) and  ... and  (a_{i} in V_{i}).)\n",
       "   core type: ExprTuple\n",
       "   sub-expressions: 7\n",
       "6. ((V_{1} in_c VecSpaces(K)), (V_{2} in_c VecSpaces(K)), ..., (V_{i} in_c VecSpaces(K)))\n",
       "   core type: ExprTuple\n",
       "   sub-expressions: 8\n",
       "7. (a_{1}, a_{2}, ..., a_{i}) -> {(a_{1} otimes  a_{2} otimes  ... otimes  a_{i}) in (V_{1} otimes  V_{2} otimes  ... otimes  V_{i}) if (a_{1} in V_{1}) and  (a_{2} in V_{2}) and  ... and  (a_{i} in V_{i}).\n",
       "   core type: Lambda\n",
       "   parameters: 23\\n   body: 9\n",
       "8. (V_{1} in_c VecSpaces(K)), (V_{2} in_c VecSpaces(K)), ..., (V_{i} in_c VecSpaces(K))\n",
       "   core type: ExprRange\n",
       "   lambda_map: 10\n",
       "   start_index: 35\n",
       "   end_index: 36\n",
       "9. {(a_{1} otimes  a_{2} otimes  ... otimes  a_{i}) in (V_{1} otimes  V_{2} otimes  ... otimes  V_{i}) if (a_{1} in V_{1}) and  (a_{2} in V_{2}) and  ... and  (a_{i} in V_{i}).\n",
       "   core type: Conditional\n",
       "   value: 11\n",
       "   condition: 12\n",
       "10. _a -> (V_{_a} in_c VecSpaces(K))\n",
       "    core type: Lambda\n",
       "    parameter: 44\n",
       "    body: 13\n",
       "11. (a_{1} otimes  a_{2} otimes  ... otimes  a_{i}) in (V_{1} otimes  V_{2} otimes  ... otimes  V_{i})\n",
       "    core type: Operation\n",
       "    operator: 37\n",
       "    operands: 14\n",
       "12. (a_{1} in V_{1}) and  (a_{2} in V_{2}) and  ... and  (a_{i} in V_{i})\n",
       "    core type: Operation\n",
       "    operator: 15\n",
       "    operands: 16\n",
       "13. V_{_a} in_c VecSpaces(K)\n",
       "    core type: Operation\n",
       "    operator: 17\n",
       "    operands: 18\n",
       "14. (a_{1} otimes  a_{2} otimes  ... otimes  a_{i}, V_{1} otimes  V_{2} otimes  ... otimes  V_{i})\n",
       "    core type: ExprTuple\n",
       "    sub-expressions: 19, 20\n",
       "15. and\n",
       "    core type: Literal\n",
       "    sub-expressions: \n",
       "16. ((a_{1} in V_{1}), (a_{2} in V_{2}), ..., (a_{i} in V_{i}))\n",
       "    core type: ExprTuple\n",
       "    sub-expressions: 21\n",
       "17. in_c\n",
       "    core type: Literal\n",
       "    sub-expressions: \n",
       "18. (V_{_a}, VecSpaces(K))\n",
       "    core type: ExprTuple\n",
       "    sub-expressions: 40, 22\n",
       "19. a_{1} otimes  a_{2} otimes  ... otimes  a_{i}\n",
       "    core type: Operation\n",
       "    operator: 24\n",
       "    operands: 23\n",
       "20. V_{1} otimes  V_{2} otimes  ... otimes  V_{i}\n",
       "    core type: Operation\n",
       "    operator: 24\n",
       "    operands: 25\n",
       "21. (a_{1} in V_{1}), (a_{2} in V_{2}), ..., (a_{i} in V_{i})\n",
       "    core type: ExprRange\n",
       "    lambda_map: 26\n",
       "    start_index: 35\n",
       "    end_index: 36\n",
       "22. VecSpaces(K)\n",
       "    core type: Operation\n",
       "    operator: 27\n",
       "    operand: 32\n",
       "23. (a_{1}, a_{2}, ..., a_{i})\n",
       "    core type: ExprTuple\n",
       "    sub-expressions: 29\n",
       "24. otimes\n",
       "    core type: Literal\n",
       "    sub-expressions: \n",
       "25. (V_{1}, V_{2}, ..., V_{i})\n",
       "    core type: ExprTuple\n",
       "    sub-expressions: 30\n",
       "26. _a -> (a_{_a} in V_{_a})\n",
       "    core type: Lambda\n",
       "    parameter: 44\n",
       "    body: 31\n",
       "27. VecSpaces\n",
       "    core type: Literal\n",
       "    sub-expressions: \n",
       "28. (K)\n",
       "    core type: ExprTuple\n",
       "    sub-expressions: 32\n",
       "29. a_{1}, a_{2}, ..., a_{i}\n",
       "    core type: ExprRange\n",
       "    lambda_map: 33\n",
       "    start_index: 35\n",
       "    end_index: 36\n",
       "30. V_{1}, V_{2}, ..., V_{i}\n",
       "    core type: ExprRange\n",
       "    lambda_map: 34\n",
       "    start_index: 35\n",
       "    end_index: 36\n",
       "31. a_{_a} in V_{_a}\n",
       "    core type: Operation\n",
       "    operator: 37\n",
       "    operands: 38\n",
       "32. K\n",
       "    core type: Variable\n",
       "    sub-expressions: \n",
       "33. _a -> a_{_a}\n",
       "    core type: Lambda\n",
       "    parameter: 44\n",
       "    body: 39\n",
       "34. _a -> V_{_a}\n",
       "    core type: Lambda\n",
       "    parameter: 44\n",
       "    body: 40\n",
       "35. 1\n",
       "    core type: Literal\n",
       "    sub-expressions: \n",
       "36. i\n",
       "    core type: Variable\n",
       "    sub-expressions: \n",
       "37. in\n",
       "    core type: Literal\n",
       "    sub-expressions: \n",
       "38. (a_{_a}, V_{_a})\n",
       "    core type: ExprTuple\n",
       "    sub-expressions: 39, 40\n",
       "39. a_{_a}\n",
       "    core type: IndexedVar\n",
       "variable: 41\n",
       "index: 44\n",
       "40. V_{_a}\n",
       "    core type: IndexedVar\n",
       "variable: 42\n",
       "index: 44\n",
       "41. a\n",
       "    core type: Variable\n",
       "    sub-expressions: \n",
       "42. V\n",
       "    core type: Variable\n",
       "    sub-expressions: \n",
       "43. (_a)\n",
       "    core type: ExprTuple\n",
       "    sub-expressions: 44\n",
       "44. _a\n",
       "    core type: Variable\n",
       "    sub-expressions: "
      ]
     },
     "metadata": {},
     "output_type": "display_data"
    }
   ],
   "source": [
    "# display the expression information\n",
    "stored_expr.expr_info()"
   ]
  },
  {
   "cell_type": "code",
   "execution_count": null,
   "metadata": {},
   "outputs": [],
   "source": []
  }
 ],
 "metadata": {
  "kernelspec": {
   "display_name": "Python 3",
   "language": "python",
   "name": "python3"
  }
 },
 "nbformat": 4,
 "nbformat_minor": 0
}