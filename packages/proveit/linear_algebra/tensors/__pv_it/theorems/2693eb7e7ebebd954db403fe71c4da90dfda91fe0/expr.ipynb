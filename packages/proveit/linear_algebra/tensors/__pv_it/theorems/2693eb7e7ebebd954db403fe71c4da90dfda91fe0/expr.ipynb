{
 "cells": [
  {
   "cell_type": "markdown",
   "metadata": {},
   "source": [
    "Expression of type <a class=\"ProveItLink\" href=\"../../../../../../../doc/html/api/proveit.ExprTuple.html\">ExprTuple</a>\n",
    "=======================\n",
    "# from the theory of <a class=\"ProveItLink\" href=\"../../../_theory_nbs_/theory.ipynb\">proveit.linear_algebra.tensors</a>"
   ]
  },
  {
   "cell_type": "code",
   "execution_count": 1,
   "metadata": {},
   "outputs": [],
   "source": [
    "import proveit\n",
    "# Automation is not needed when building an expression:\n",
    "proveit.defaults.automation = False # This will speed things up.\n",
    "proveit.defaults.inline_pngs = False # Makes files smaller.\n",
    "%load_expr # Load the stored expression as 'stored_expr'\n",
    "# import Expression classes needed to build the expression\n",
    "from proveit import Conditional, ExprRange, ExprTuple, IndexedVar, Lambda, V, Variable, a, i\n",
    "from proveit.core_expr_types import a_1_to_i\n",
    "from proveit.linear_algebra import Norm, TensorProd\n",
    "from proveit.logic import And, Equals, InSet\n",
    "from proveit.numbers import Mult, one"
   ]
  },
  {
   "cell_type": "code",
   "execution_count": 2,
   "metadata": {},
   "outputs": [
    {
     "data": {
      "text/html": [
       "<strong id=\"expr\">expr:</strong> <a class=\"ProveItLink\" href=\"expr.ipynb\"><img src=\"expr.png\" style=\"display:inline;vertical-align:middle;\" /></a><br>"
      ],
      "text/plain": [
       "<IPython.core.display.HTML object>"
      ]
     },
     "metadata": {},
     "output_type": "display_data"
    }
   ],
   "source": [
    "# build up the expression from sub-expressions\n",
    "sub_expr1 = Variable(\"_a\", latex_format = r\"{_{-}a}\")\n",
    "sub_expr2 = IndexedVar(a, sub_expr1)\n",
    "expr = ExprTuple(Lambda([a_1_to_i], Conditional(Equals(Norm(TensorProd(a_1_to_i)), Mult(ExprRange(sub_expr1, Norm(sub_expr2), one, i))), And(ExprRange(sub_expr1, InSet(sub_expr2, IndexedVar(V, sub_expr1)), one, i)))))"
   ]
  },
  {
   "cell_type": "code",
   "execution_count": 3,
   "metadata": {},
   "outputs": [
    {
     "name": "stdout",
     "output_type": "stream",
     "text": [
      "Passed sanity check: expr matches stored_expr\n"
     ]
    }
   ],
   "source": [
    "# check that the built expression is the same as the stored expression\n",
    "assert expr == stored_expr\n",
    "assert expr._style_id == stored_expr._style_id\n",
    "print(\"Passed sanity check: expr matches stored_expr\")"
   ]
  },
  {
   "cell_type": "code",
   "execution_count": 4,
   "metadata": {},
   "outputs": [
    {
     "name": "stdout",
     "output_type": "stream",
     "text": [
      "\\left(\\left(a_{1}, a_{2}, \\ldots, a_{i}\\right) \\mapsto \\left\\{\\left \\|a_{1} {\\otimes}  a_{2} {\\otimes}  \\ldots {\\otimes}  a_{i}\\right \\| = \\left(\\left \\|a_{1}\\right \\| \\cdot  \\left \\|a_{2}\\right \\| \\cdot  \\ldots \\cdot  \\left \\|a_{i}\\right \\|\\right) \\textrm{ if } \\left(a_{1} \\in V_{1}\\right) \\land  \\left(a_{2} \\in V_{2}\\right) \\land  \\ldots \\land  \\left(a_{i} \\in V_{i}\\right)\\right..\\right)\n"
     ]
    }
   ],
   "source": [
    "# Show the LaTeX representation of the expression for convenience if you need it.\n",
    "print(stored_expr.latex())"
   ]
  },
  {
   "cell_type": "code",
   "execution_count": 5,
   "metadata": {},
   "outputs": [
    {
     "data": {
      "text/html": [
       "no style options"
      ],
      "text/plain": [
       "no style options"
      ]
     },
     "metadata": {},
     "output_type": "display_data"
    }
   ],
   "source": [
    "stored_expr.style_options()"
   ]
  },
  {
   "cell_type": "code",
   "execution_count": 6,
   "metadata": {},
   "outputs": [
    {
     "data": {
      "text/html": [
       "<table><tr><th>&nbsp;</th><th>core type</th><th>sub-expressions</th><th>expression</th></tr>\n",
       "<tr><td>0</td><td>ExprTuple</td><td>1</td><td><a class=\"ProveItLink\" href=\"expr.ipynb\"><img src=\"expr.png\" style=\"display:inline;vertical-align:middle;\" /></a></td></tr>\n",
       "<tr><td>1</td><td>Lambda</td><td>parameters:&nbsp;20<br>body:&nbsp;2<br></td><td><a class=\"ProveItLink\" href=\"../49d04ce7213e7f84899bf2e43473b7055d3ba30c0/expr.ipynb\"><img src=\"../49d04ce7213e7f84899bf2e43473b7055d3ba30c0/expr.png\" style=\"display:inline;vertical-align:middle;\" /></a></td></tr>\n",
       "<tr><td>2</td><td>Conditional</td><td>value:&nbsp;3<br>condition:&nbsp;4<br></td><td><a class=\"ProveItLink\" href=\"../53c1b88be7edfb7fcf4d1d4828a2f7ba4f9038900/expr.ipynb\"><img src=\"../53c1b88be7edfb7fcf4d1d4828a2f7ba4f9038900/expr.png\" style=\"display:inline;vertical-align:middle;\" /></a></td></tr>\n",
       "<tr><td>3</td><td>Operation</td><td>operator:&nbsp;5<br>operands:&nbsp;6<br></td><td><a class=\"ProveItLink\" href=\"../bca09bc2fba49d22432b313e20c007a71e167e8f0/expr.ipynb\"><img src=\"../bca09bc2fba49d22432b313e20c007a71e167e8f0/expr.png\" style=\"display:inline;vertical-align:middle;\" /></a></td></tr>\n",
       "<tr><td>4</td><td>Operation</td><td>operator:&nbsp;7<br>operands:&nbsp;8<br></td><td><a class=\"ProveItLink\" href=\"../dd2e4698290e65e805ff6bbcb0d16226af7965cb0/expr.ipynb\"><img src=\"../dd2e4698290e65e805ff6bbcb0d16226af7965cb0/expr.png\" style=\"display:inline;vertical-align:middle;\" /></a></td></tr>\n",
       "<tr><td>5</td><td>Literal</td><td></td><td><a class=\"ProveItLink\" href=\"../../../../../logic/equality/__pv_it/common/fb96dc12b2aa8801dda64d0132b396c63d1502bb0/expr.ipynb\"><img src=\"../../../../../logic/equality/__pv_it/common/fb96dc12b2aa8801dda64d0132b396c63d1502bb0/expr.png\" style=\"display:inline;vertical-align:middle;\" /></a></td></tr>\n",
       "<tr><td>6</td><td>ExprTuple</td><td>9, 10</td><td><a class=\"ProveItLink\" href=\"../ce2965504af91c610d84f556193bd80f3ecaa99d0/expr.ipynb\"><img src=\"../ce2965504af91c610d84f556193bd80f3ecaa99d0/expr.png\" style=\"display:inline;vertical-align:middle;\" /></a></td></tr>\n",
       "<tr><td>7</td><td>Literal</td><td></td><td><a class=\"ProveItLink\" href=\"../../../../../logic/booleans/conjunction/__pv_it/common/42118ff318bd65d98b1393f64ce7c2269feef76e0/expr.ipynb\"><img src=\"../../../../../logic/booleans/conjunction/__pv_it/common/42118ff318bd65d98b1393f64ce7c2269feef76e0/expr.png\" style=\"display:inline;vertical-align:middle;\" /></a></td></tr>\n",
       "<tr><td>8</td><td>ExprTuple</td><td>11</td><td><a class=\"ProveItLink\" href=\"../490344c7ae8fac125ffe271ec4658482fad1cc0c0/expr.ipynb\"><img src=\"../490344c7ae8fac125ffe271ec4658482fad1cc0c0/expr.png\" style=\"display:inline;vertical-align:middle;\" /></a></td></tr>\n",
       "<tr><td>9</td><td>Operation</td><td>operator:&nbsp;30<br>operand:&nbsp;16<br></td><td><a class=\"ProveItLink\" href=\"../d8d21d0cb824c1d8c14b334cf59ee1c1af37dfed0/expr.ipynb\"><img src=\"../d8d21d0cb824c1d8c14b334cf59ee1c1af37dfed0/expr.png\" style=\"display:inline;vertical-align:middle;\" /></a></td></tr>\n",
       "<tr><td>10</td><td>Operation</td><td>operator:&nbsp;13<br>operands:&nbsp;14<br></td><td><a class=\"ProveItLink\" href=\"../046fcaaacd21a0ceed22fd789090e12549b82a690/expr.ipynb\"><img src=\"../046fcaaacd21a0ceed22fd789090e12549b82a690/expr.png\" style=\"display:inline;vertical-align:middle;\" /></a></td></tr>\n",
       "<tr><td>11</td><td>ExprRange</td><td>lambda_map:&nbsp;15<br>start_index:&nbsp;28<br>end_index:&nbsp;29<br></td><td><a class=\"ProveItLink\" href=\"../580d6130173b67686cbb7d751146d5df417b3cde0/expr.ipynb\"><img src=\"../580d6130173b67686cbb7d751146d5df417b3cde0/expr.png\" style=\"display:inline;vertical-align:middle;\" /></a></td></tr>\n",
       "<tr><td>12</td><td>ExprTuple</td><td>16</td><td><a class=\"ProveItLink\" href=\"../7b1c5122b46a6cfa28fb4a5e92453031637b4f4c0/expr.ipynb\"><img src=\"../7b1c5122b46a6cfa28fb4a5e92453031637b4f4c0/expr.png\" style=\"display:inline;vertical-align:middle;\" /></a></td></tr>\n",
       "<tr><td>13</td><td>Literal</td><td></td><td><a class=\"ProveItLink\" href=\"../../../../../numbers/multiplication/__pv_it/common/ed719cef37831779c16481533a4d380a2f95ab270/expr.ipynb\"><img src=\"../../../../../numbers/multiplication/__pv_it/common/ed719cef37831779c16481533a4d380a2f95ab270/expr.png\" style=\"display:inline;vertical-align:middle;\" /></a></td></tr>\n",
       "<tr><td>14</td><td>ExprTuple</td><td>17</td><td><a class=\"ProveItLink\" href=\"../579a6c7bfbb7b4e298c0578a644bd8810abc7f030/expr.ipynb\"><img src=\"../579a6c7bfbb7b4e298c0578a644bd8810abc7f030/expr.png\" style=\"display:inline;vertical-align:middle;\" /></a></td></tr>\n",
       "<tr><td>15</td><td>Lambda</td><td>parameter:&nbsp;36<br>body:&nbsp;18<br></td><td><a class=\"ProveItLink\" href=\"../c85f1f6bd53558e63823d7e072ea707c9f530bd60/expr.ipynb\"><img src=\"../c85f1f6bd53558e63823d7e072ea707c9f530bd60/expr.png\" style=\"display:inline;vertical-align:middle;\" /></a></td></tr>\n",
       "<tr><td>16</td><td>Operation</td><td>operator:&nbsp;19<br>operands:&nbsp;20<br></td><td><a class=\"ProveItLink\" href=\"../008ed8c2ee389aed7e029068927dfe267c7773a30/expr.ipynb\"><img src=\"../008ed8c2ee389aed7e029068927dfe267c7773a30/expr.png\" style=\"display:inline;vertical-align:middle;\" /></a></td></tr>\n",
       "<tr><td>17</td><td>ExprRange</td><td>lambda_map:&nbsp;21<br>start_index:&nbsp;28<br>end_index:&nbsp;29<br></td><td><a class=\"ProveItLink\" href=\"../eb273640d46c48412e54a0a6a38ed8662e44b14a0/expr.ipynb\"><img src=\"../eb273640d46c48412e54a0a6a38ed8662e44b14a0/expr.png\" style=\"display:inline;vertical-align:middle;\" /></a></td></tr>\n",
       "<tr><td>18</td><td>Operation</td><td>operator:&nbsp;22<br>operands:&nbsp;23<br></td><td><a class=\"ProveItLink\" href=\"../eda9e8a1a3b6e94b32271dbff85f1e6971ab193b0/expr.ipynb\"><img src=\"../eda9e8a1a3b6e94b32271dbff85f1e6971ab193b0/expr.png\" style=\"display:inline;vertical-align:middle;\" /></a></td></tr>\n",
       "<tr><td>19</td><td>Literal</td><td></td><td><a class=\"ProveItLink\" href=\"../../common/7fa25b05174babb4710be62d63ebd43f68aa2fec0/expr.ipynb\"><img src=\"../../common/7fa25b05174babb4710be62d63ebd43f68aa2fec0/expr.png\" style=\"display:inline;vertical-align:middle;\" /></a></td></tr>\n",
       "<tr><td>20</td><td>ExprTuple</td><td>24</td><td><a class=\"ProveItLink\" href=\"../2c196e25eb75441998cc38de7042eaf6940c703f0/expr.ipynb\"><img src=\"../2c196e25eb75441998cc38de7042eaf6940c703f0/expr.png\" style=\"display:inline;vertical-align:middle;\" /></a></td></tr>\n",
       "<tr><td>21</td><td>Lambda</td><td>parameter:&nbsp;36<br>body:&nbsp;25<br></td><td><a class=\"ProveItLink\" href=\"../fd762c571030025cb86d3d9bbad87bb85fdb5a330/expr.ipynb\"><img src=\"../fd762c571030025cb86d3d9bbad87bb85fdb5a330/expr.png\" style=\"display:inline;vertical-align:middle;\" /></a></td></tr>\n",
       "<tr><td>22</td><td>Literal</td><td></td><td><a class=\"ProveItLink\" href=\"../../../../../logic/sets/membership/__pv_it/common/477487d8796864d23d5810f83761435f25167f690/expr.ipynb\"><img src=\"../../../../../logic/sets/membership/__pv_it/common/477487d8796864d23d5810f83761435f25167f690/expr.png\" style=\"display:inline;vertical-align:middle;\" /></a></td></tr>\n",
       "<tr><td>23</td><td>ExprTuple</td><td>33, 26</td><td><a class=\"ProveItLink\" href=\"../921eb0bc70c94774c34f05e3fcf9499a274a24200/expr.ipynb\"><img src=\"../921eb0bc70c94774c34f05e3fcf9499a274a24200/expr.png\" style=\"display:inline;vertical-align:middle;\" /></a></td></tr>\n",
       "<tr><td>24</td><td>ExprRange</td><td>lambda_map:&nbsp;27<br>start_index:&nbsp;28<br>end_index:&nbsp;29<br></td><td><a class=\"ProveItLink\" href=\"../../../../../core_expr_types/__pv_it/common/7230c683fcd56948c826ac1be71b01b6fb2913950/expr.ipynb\"><img src=\"../../../../../core_expr_types/__pv_it/common/7230c683fcd56948c826ac1be71b01b6fb2913950/expr.png\" style=\"display:inline;vertical-align:middle;\" /></a></td></tr>\n",
       "<tr><td>25</td><td>Operation</td><td>operator:&nbsp;30<br>operand:&nbsp;33<br></td><td><a class=\"ProveItLink\" href=\"../36c4b0b43b2ab515b5e82d86ae945854072f8ec80/expr.ipynb\"><img src=\"../36c4b0b43b2ab515b5e82d86ae945854072f8ec80/expr.png\" style=\"display:inline;vertical-align:middle;\" /></a></td></tr>\n",
       "<tr><td>26</td><td>IndexedVar</td><td>variable:&nbsp;32<br>index:&nbsp;36<br></td><td><a class=\"ProveItLink\" href=\"../../../../../core_expr_types/__pv_it/common/147a78b7570fad51cf5e91324728b3ba848fcf2d0/expr.ipynb\"><img src=\"../../../../../core_expr_types/__pv_it/common/147a78b7570fad51cf5e91324728b3ba848fcf2d0/expr.png\" style=\"display:inline;vertical-align:middle;\" /></a></td></tr>\n",
       "<tr><td>27</td><td>Lambda</td><td>parameter:&nbsp;36<br>body:&nbsp;33<br></td><td><a class=\"ProveItLink\" href=\"../../../../../core_expr_types/__pv_it/common/1527ad383e12f9c6ed6b371c9a7dd1892d80da1b0/expr.ipynb\"><img src=\"../../../../../core_expr_types/__pv_it/common/1527ad383e12f9c6ed6b371c9a7dd1892d80da1b0/expr.png\" style=\"display:inline;vertical-align:middle;\" /></a></td></tr>\n",
       "<tr><td>28</td><td>Literal</td><td></td><td><a class=\"ProveItLink\" href=\"../../../../../numbers/numerals/__pv_it/common/682157d4892d216d9e5626ed533aff9b56b9506e0/expr.ipynb\"><img src=\"../../../../../numbers/numerals/__pv_it/common/682157d4892d216d9e5626ed533aff9b56b9506e0/expr.png\" style=\"display:inline;vertical-align:middle;\" /></a></td></tr>\n",
       "<tr><td>29</td><td>Variable</td><td></td><td><a class=\"ProveItLink\" href=\"../../../../../__pv_it/common/ae955345c83abf786c3aff8681cd5465beae262d0/expr.ipynb\"><img src=\"../../../../../__pv_it/common/ae955345c83abf786c3aff8681cd5465beae262d0/expr.png\" style=\"display:inline;vertical-align:middle;\" /></a></td></tr>\n",
       "<tr><td>30</td><td>Literal</td><td></td><td><a class=\"ProveItLink\" href=\"../../../../inner_products/__pv_it/common/2c00dcac538e537d968253ed1ac6a761c803991f0/expr.ipynb\"><img src=\"../../../../inner_products/__pv_it/common/2c00dcac538e537d968253ed1ac6a761c803991f0/expr.png\" style=\"display:inline;vertical-align:middle;\" /></a></td></tr>\n",
       "<tr><td>31</td><td>ExprTuple</td><td>33</td><td><a class=\"ProveItLink\" href=\"../a3eb177b041ff24c34663b2470f576ebeb9c87390/expr.ipynb\"><img src=\"../a3eb177b041ff24c34663b2470f576ebeb9c87390/expr.png\" style=\"display:inline;vertical-align:middle;\" /></a></td></tr>\n",
       "<tr><td>32</td><td>Variable</td><td></td><td><a class=\"ProveItLink\" href=\"../../../../../__pv_it/common/6d80eb1398b2335bf9ec427954b851b7094dced50/expr.ipynb\"><img src=\"../../../../../__pv_it/common/6d80eb1398b2335bf9ec427954b851b7094dced50/expr.png\" style=\"display:inline;vertical-align:middle;\" /></a></td></tr>\n",
       "<tr><td>33</td><td>IndexedVar</td><td>variable:&nbsp;34<br>index:&nbsp;36<br></td><td><a class=\"ProveItLink\" href=\"../../../../../core_expr_types/__pv_it/common/3a62c13e156d62d52fe585fa37cc2172fcf685260/expr.ipynb\"><img src=\"../../../../../core_expr_types/__pv_it/common/3a62c13e156d62d52fe585fa37cc2172fcf685260/expr.png\" style=\"display:inline;vertical-align:middle;\" /></a></td></tr>\n",
       "<tr><td>34</td><td>Variable</td><td></td><td><a class=\"ProveItLink\" href=\"../../../../../__pv_it/common/c06c606ec12678c58933ac85412ecadc2ae28be60/expr.ipynb\"><img src=\"../../../../../__pv_it/common/c06c606ec12678c58933ac85412ecadc2ae28be60/expr.png\" style=\"display:inline;vertical-align:middle;\" /></a></td></tr>\n",
       "<tr><td>35</td><td>ExprTuple</td><td>36</td><td><a class=\"ProveItLink\" href=\"../../../../../core_expr_types/__pv_it/common/4b0dd6be36d76552eda6a95d5b4a27f5a5b62f900/expr.ipynb\"><img src=\"../../../../../core_expr_types/__pv_it/common/4b0dd6be36d76552eda6a95d5b4a27f5a5b62f900/expr.png\" style=\"display:inline;vertical-align:middle;\" /></a></td></tr>\n",
       "<tr><td>36</td><td>Variable</td><td></td><td><a class=\"ProveItLink\" href=\"../../../../../core_expr_types/__pv_it/common/006c465e50948aa2b52285e2de47974f741255cc0/expr.ipynb\"><img src=\"../../../../../core_expr_types/__pv_it/common/006c465e50948aa2b52285e2de47974f741255cc0/expr.png\" style=\"display:inline;vertical-align:middle;\" /></a></td></tr>\n",
       "</table>\n"
      ],
      "text/plain": [
       "0. ((a_{1}, a_{2}, ..., a_{i}) -> {||a_{1} otimes  a_{2} otimes  ... otimes  a_{i}|| = (||a_{1}|| *  ||a_{2}|| *  ... *  ||a_{i}||) if (a_{1} in V_{1}) and  (a_{2} in V_{2}) and  ... and  (a_{i} in V_{i}).)\n",
       "   core type: ExprTuple\n",
       "   sub-expressions: 1\n",
       "1. (a_{1}, a_{2}, ..., a_{i}) -> {||a_{1} otimes  a_{2} otimes  ... otimes  a_{i}|| = (||a_{1}|| *  ||a_{2}|| *  ... *  ||a_{i}||) if (a_{1} in V_{1}) and  (a_{2} in V_{2}) and  ... and  (a_{i} in V_{i}).\n",
       "   core type: Lambda\n",
       "   parameters: 20\\n   body: 2\n",
       "2. {||a_{1} otimes  a_{2} otimes  ... otimes  a_{i}|| = (||a_{1}|| *  ||a_{2}|| *  ... *  ||a_{i}||) if (a_{1} in V_{1}) and  (a_{2} in V_{2}) and  ... and  (a_{i} in V_{i}).\n",
       "   core type: Conditional\n",
       "   value: 3\n",
       "   condition: 4\n",
       "3. ||a_{1} otimes  a_{2} otimes  ... otimes  a_{i}|| = (||a_{1}|| *  ||a_{2}|| *  ... *  ||a_{i}||)\n",
       "   core type: Operation\n",
       "   operator: 5\n",
       "   operands: 6\n",
       "4. (a_{1} in V_{1}) and  (a_{2} in V_{2}) and  ... and  (a_{i} in V_{i})\n",
       "   core type: Operation\n",
       "   operator: 7\n",
       "   operands: 8\n",
       "5. =\n",
       "   core type: Literal\n",
       "   sub-expressions: \n",
       "6. (||a_{1} otimes  a_{2} otimes  ... otimes  a_{i}||, ||a_{1}|| *  ||a_{2}|| *  ... *  ||a_{i}||)\n",
       "   core type: ExprTuple\n",
       "   sub-expressions: 9, 10\n",
       "7. and\n",
       "   core type: Literal\n",
       "   sub-expressions: \n",
       "8. ((a_{1} in V_{1}), (a_{2} in V_{2}), ..., (a_{i} in V_{i}))\n",
       "   core type: ExprTuple\n",
       "   sub-expressions: 11\n",
       "9. ||a_{1} otimes  a_{2} otimes  ... otimes  a_{i}||\n",
       "   core type: Operation\n",
       "   operator: 30\n",
       "   operand: 16\n",
       "10. ||a_{1}|| *  ||a_{2}|| *  ... *  ||a_{i}||\n",
       "    core type: Operation\n",
       "    operator: 13\n",
       "    operands: 14\n",
       "11. (a_{1} in V_{1}), (a_{2} in V_{2}), ..., (a_{i} in V_{i})\n",
       "    core type: ExprRange\n",
       "    lambda_map: 15\n",
       "    start_index: 28\n",
       "    end_index: 29\n",
       "12. (a_{1} otimes  a_{2} otimes  ... otimes  a_{i})\n",
       "    core type: ExprTuple\n",
       "    sub-expressions: 16\n",
       "13. *\n",
       "    core type: Literal\n",
       "    sub-expressions: \n",
       "14. (||a_{1}||, ||a_{2}||, ..., ||a_{i}||)\n",
       "    core type: ExprTuple\n",
       "    sub-expressions: 17\n",
       "15. _a -> (a_{_a} in V_{_a})\n",
       "    core type: Lambda\n",
       "    parameter: 36\n",
       "    body: 18\n",
       "16. a_{1} otimes  a_{2} otimes  ... otimes  a_{i}\n",
       "    core type: Operation\n",
       "    operator: 19\n",
       "    operands: 20\n",
       "17. ||a_{1}||, ||a_{2}||, ..., ||a_{i}||\n",
       "    core type: ExprRange\n",
       "    lambda_map: 21\n",
       "    start_index: 28\n",
       "    end_index: 29\n",
       "18. a_{_a} in V_{_a}\n",
       "    core type: Operation\n",
       "    operator: 22\n",
       "    operands: 23\n",
       "19. otimes\n",
       "    core type: Literal\n",
       "    sub-expressions: \n",
       "20. (a_{1}, a_{2}, ..., a_{i})\n",
       "    core type: ExprTuple\n",
       "    sub-expressions: 24\n",
       "21. _a -> ||a_{_a}||\n",
       "    core type: Lambda\n",
       "    parameter: 36\n",
       "    body: 25\n",
       "22. in\n",
       "    core type: Literal\n",
       "    sub-expressions: \n",
       "23. (a_{_a}, V_{_a})\n",
       "    core type: ExprTuple\n",
       "    sub-expressions: 33, 26\n",
       "24. a_{1}, a_{2}, ..., a_{i}\n",
       "    core type: ExprRange\n",
       "    lambda_map: 27\n",
       "    start_index: 28\n",
       "    end_index: 29\n",
       "25. ||a_{_a}||\n",
       "    core type: Operation\n",
       "    operator: 30\n",
       "    operand: 33\n",
       "26. V_{_a}\n",
       "    core type: IndexedVar\n",
       "variable: 32\n",
       "index: 36\n",
       "27. _a -> a_{_a}\n",
       "    core type: Lambda\n",
       "    parameter: 36\n",
       "    body: 33\n",
       "28. 1\n",
       "    core type: Literal\n",
       "    sub-expressions: \n",
       "29. i\n",
       "    core type: Variable\n",
       "    sub-expressions: \n",
       "30. Abs\n",
       "    core type: Literal\n",
       "    sub-expressions: \n",
       "31. (a_{_a})\n",
       "    core type: ExprTuple\n",
       "    sub-expressions: 33\n",
       "32. V\n",
       "    core type: Variable\n",
       "    sub-expressions: \n",
       "33. a_{_a}\n",
       "    core type: IndexedVar\n",
       "variable: 34\n",
       "index: 36\n",
       "34. a\n",
       "    core type: Variable\n",
       "    sub-expressions: \n",
       "35. (_a)\n",
       "    core type: ExprTuple\n",
       "    sub-expressions: 36\n",
       "36. _a\n",
       "    core type: Variable\n",
       "    sub-expressions: "
      ]
     },
     "metadata": {},
     "output_type": "display_data"
    }
   ],
   "source": [
    "# display the expression information\n",
    "stored_expr.expr_info()"
   ]
  },
  {
   "cell_type": "code",
   "execution_count": null,
   "metadata": {},
   "outputs": [],
   "source": []
  }
 ],
 "metadata": {
  "kernelspec": {
   "display_name": "Python 3",
   "language": "python",
   "name": "python3"
  }
 },
 "nbformat": 4,
 "nbformat_minor": 0
}