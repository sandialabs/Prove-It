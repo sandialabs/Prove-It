{
 "cells": [
  {
   "cell_type": "markdown",
   "metadata": {},
   "source": [
    "Expression of type <a class=\"ProveItLink\" href=\"../../../../../../../doc/html/api/proveit.logic.Forall.html\">Forall</a>\n",
    "=======================\n",
    "# from the theory of <a class=\"ProveItLink\" href=\"../../../_theory_nbs_/theory.ipynb\">proveit.linear_algebra.tensors</a>"
   ]
  },
  {
   "cell_type": "code",
   "execution_count": 1,
   "metadata": {},
   "outputs": [],
   "source": [
    "import proveit\n",
    "# Automation is not needed when building an expression:\n",
    "proveit.defaults.automation = False # This will speed things up.\n",
    "proveit.defaults.inline_pngs = False # Makes files smaller.\n",
    "%load_expr # Load the stored expression as 'stored_expr'\n",
    "# import Expression classes needed to build the expression\n",
    "from proveit import K, i\n",
    "from proveit.core_expr_types import V_1_to_i\n",
    "from proveit.linear_algebra import TensorProd, VecSpaces\n",
    "from proveit.logic import Forall, InClass\n",
    "from proveit.numbers import NaturalPos"
   ]
  },
  {
   "cell_type": "code",
   "execution_count": 2,
   "metadata": {},
   "outputs": [
    {
     "data": {
      "text/html": [
       "<strong id=\"expr\">expr:</strong> <a class=\"ProveItLink\" href=\"expr.ipynb\"><img src=\"expr.png\" style=\"display:inline;vertical-align:middle;\" /></a><br>"
      ],
      "text/plain": [
       "<IPython.core.display.HTML object>"
      ]
     },
     "metadata": {},
     "output_type": "display_data"
    }
   ],
   "source": [
    "# build up the expression from sub-expressions\n",
    "sub_expr1 = VecSpaces(K)\n",
    "expr = Forall(instance_param_or_params = [i], instance_expr = Forall(instance_param_or_params = [V_1_to_i], instance_expr = InClass(TensorProd(V_1_to_i), sub_expr1), domain = sub_expr1), domain = NaturalPos)"
   ]
  },
  {
   "cell_type": "code",
   "execution_count": 3,
   "metadata": {},
   "outputs": [
    {
     "name": "stdout",
     "output_type": "stream",
     "text": [
      "Passed sanity check: expr matches stored_expr\n"
     ]
    }
   ],
   "source": [
    "# check that the built expression is the same as the stored expression\n",
    "assert expr == stored_expr\n",
    "assert expr._style_id == stored_expr._style_id\n",
    "print(\"Passed sanity check: expr matches stored_expr\")"
   ]
  },
  {
   "cell_type": "code",
   "execution_count": 4,
   "metadata": {},
   "outputs": [
    {
     "name": "stdout",
     "output_type": "stream",
     "text": [
      "\\forall_{i \\in \\mathbb{N}^+}~\\left[\\forall_{V_{1}, V_{2}, \\ldots, V_{i} \\underset{{\\scriptscriptstyle c}}{\\in} \\textrm{VecSpaces}\\left(K\\right)}~\\left(\\left(V_{1} {\\otimes}  V_{2} {\\otimes}  \\ldots {\\otimes}  V_{i}\\right) \\underset{{\\scriptscriptstyle c}}{\\in} \\textrm{VecSpaces}\\left(K\\right)\\right)\\right]\n"
     ]
    }
   ],
   "source": [
    "# Show the LaTeX representation of the expression for convenience if you need it.\n",
    "print(stored_expr.latex())"
   ]
  },
  {
   "cell_type": "code",
   "execution_count": 5,
   "metadata": {},
   "outputs": [
    {
     "data": {
      "text/html": [
       "<table>\n",
       "<tr><th>name</th><th>description</th><th>default</th><th>current value</th><th>related methods</th></tr><tr><td>with_wrapping</td><td>If 'True', wrap the Expression after the parameters</td><td>None</td><td>None/False</td><td>('with_wrapping',)</td></tr>\n",
       "<tr><td>condition_wrapping</td><td>Wrap 'before' or 'after' the condition (or None).</td><td>None</td><td>None/False</td><td>('with_wrap_after_condition', 'with_wrap_before_condition')</td></tr>\n",
       "<tr><td>wrap_params</td><td>If 'True', wraps every two parameters AND wraps the Expression after the parameters</td><td>None</td><td>None/False</td><td>('with_params',)</td></tr>\n",
       "<tr><td>justification</td><td>justify to the 'left', 'center', or 'right' in the array cells</td><td>center</td><td>center</td><td>('with_justification',)</td></tr>\n",
       "</table>\n"
      ],
      "text/plain": [
       "style name: with_wrapping\n",
       "description: If 'True', wrap the Expression after the parameters\n",
       "default: None\n",
       "current value: None/False\n",
       "related methods: ('with_wrapping',)\n",
       "style name: condition_wrapping\n",
       "description: Wrap 'before' or 'after' the condition (or None).\n",
       "default: None\n",
       "current value: None/False\n",
       "related methods: ('with_wrap_after_condition', 'with_wrap_before_condition')\n",
       "style name: wrap_params\n",
       "description: If 'True', wraps every two parameters AND wraps the Expression after the parameters\n",
       "default: None\n",
       "current value: None/False\n",
       "related methods: ('with_params',)\n",
       "style name: justification\n",
       "description: justify to the 'left', 'center', or 'right' in the array cells\n",
       "default: center\n",
       "current value: center\n",
       "related methods: ('with_justification',)"
      ]
     },
     "metadata": {},
     "output_type": "display_data"
    }
   ],
   "source": [
    "stored_expr.style_options()"
   ]
  },
  {
   "cell_type": "code",
   "execution_count": 6,
   "metadata": {},
   "outputs": [
    {
     "data": {
      "text/html": [
       "<table><tr><th>&nbsp;</th><th>core type</th><th>sub-expressions</th><th>expression</th></tr>\n",
       "<tr><td>0</td><td>Operation</td><td>operator:&nbsp;7<br>operand:&nbsp;2<br></td><td><a class=\"ProveItLink\" href=\"expr.ipynb\"><img src=\"expr.png\" style=\"display:inline;vertical-align:middle;\" /></a></td></tr>\n",
       "<tr><td>1</td><td>ExprTuple</td><td>2</td><td><a class=\"ProveItLink\" href=\"../a5fd84fc56d0e79151e8f172e2b545b5e74834200/expr.ipynb\"><img src=\"../a5fd84fc56d0e79151e8f172e2b545b5e74834200/expr.png\" style=\"display:inline;vertical-align:middle;\" /></a></td></tr>\n",
       "<tr><td>2</td><td>Lambda</td><td>parameter:&nbsp;28<br>body:&nbsp;4<br></td><td><a class=\"ProveItLink\" href=\"../9e1e74b0b6209d9a2844fac380a75f029d3f5ea20/expr.ipynb\"><img src=\"../9e1e74b0b6209d9a2844fac380a75f029d3f5ea20/expr.png\" style=\"display:inline;vertical-align:middle;\" /></a></td></tr>\n",
       "<tr><td>3</td><td>ExprTuple</td><td>28</td><td><a class=\"ProveItLink\" href=\"../../../../../core_expr_types/__pv_it/common/0fc33550aa9740010879fdf30c320b63ba918eff0/expr.ipynb\"><img src=\"../../../../../core_expr_types/__pv_it/common/0fc33550aa9740010879fdf30c320b63ba918eff0/expr.png\" style=\"display:inline;vertical-align:middle;\" /></a></td></tr>\n",
       "<tr><td>4</td><td>Conditional</td><td>value:&nbsp;5<br>condition:&nbsp;6<br></td><td><a class=\"ProveItLink\" href=\"../72fc6f76e99702677b38992014b03eeae0effebc0/expr.ipynb\"><img src=\"../72fc6f76e99702677b38992014b03eeae0effebc0/expr.png\" style=\"display:inline;vertical-align:middle;\" /></a></td></tr>\n",
       "<tr><td>5</td><td>Operation</td><td>operator:&nbsp;7<br>operand:&nbsp;11<br></td><td><a class=\"ProveItLink\" href=\"../8136b7fa649184dbd82126fc186cc1c5a87126490/expr.ipynb\"><img src=\"../8136b7fa649184dbd82126fc186cc1c5a87126490/expr.png\" style=\"display:inline;vertical-align:middle;\" /></a></td></tr>\n",
       "<tr><td>6</td><td>Operation</td><td>operator:&nbsp;9<br>operands:&nbsp;10<br></td><td><a class=\"ProveItLink\" href=\"../25affb7a8c81ead7ae47a3a75d143c7ed8067f4d0/expr.ipynb\"><img src=\"../25affb7a8c81ead7ae47a3a75d143c7ed8067f4d0/expr.png\" style=\"display:inline;vertical-align:middle;\" /></a></td></tr>\n",
       "<tr><td>7</td><td>Literal</td><td></td><td><a class=\"ProveItLink\" href=\"../../../../../logic/booleans/quantification/universality/__pv_it/common/083d2baa0b8ecab1d230f9ec29a15aa1355809fb0/expr.ipynb\"><img src=\"../../../../../logic/booleans/quantification/universality/__pv_it/common/083d2baa0b8ecab1d230f9ec29a15aa1355809fb0/expr.png\" style=\"display:inline;vertical-align:middle;\" /></a></td></tr>\n",
       "<tr><td>8</td><td>ExprTuple</td><td>11</td><td><a class=\"ProveItLink\" href=\"../14bf00c94a4f527ce8cc25f81f89dc35c71e13b40/expr.ipynb\"><img src=\"../14bf00c94a4f527ce8cc25f81f89dc35c71e13b40/expr.png\" style=\"display:inline;vertical-align:middle;\" /></a></td></tr>\n",
       "<tr><td>9</td><td>Literal</td><td></td><td><a class=\"ProveItLink\" href=\"../../../../../logic/sets/membership/__pv_it/common/477487d8796864d23d5810f83761435f25167f690/expr.ipynb\"><img src=\"../../../../../logic/sets/membership/__pv_it/common/477487d8796864d23d5810f83761435f25167f690/expr.png\" style=\"display:inline;vertical-align:middle;\" /></a></td></tr>\n",
       "<tr><td>10</td><td>ExprTuple</td><td>28, 12</td><td><a class=\"ProveItLink\" href=\"../d61b4452898dd077c102c9107cc83cb672d976200/expr.ipynb\"><img src=\"../d61b4452898dd077c102c9107cc83cb672d976200/expr.png\" style=\"display:inline;vertical-align:middle;\" /></a></td></tr>\n",
       "<tr><td>11</td><td>Lambda</td><td>parameters:&nbsp;22<br>body:&nbsp;13<br></td><td><a class=\"ProveItLink\" href=\"../4d43c0e31b45db5aa2bedee4aa51b38a2b0925170/expr.ipynb\"><img src=\"../4d43c0e31b45db5aa2bedee4aa51b38a2b0925170/expr.png\" style=\"display:inline;vertical-align:middle;\" /></a></td></tr>\n",
       "<tr><td>12</td><td>Literal</td><td></td><td><a class=\"ProveItLink\" href=\"../../../../../numbers/number_sets/natural_numbers/__pv_it/common/6111329435c43892c831c4793de96afbf80bdb3e0/expr.ipynb\"><img src=\"../../../../../numbers/number_sets/natural_numbers/__pv_it/common/6111329435c43892c831c4793de96afbf80bdb3e0/expr.png\" style=\"display:inline;vertical-align:middle;\" /></a></td></tr>\n",
       "<tr><td>13</td><td>Conditional</td><td>value:&nbsp;14<br>condition:&nbsp;15<br></td><td><a class=\"ProveItLink\" href=\"../02ce80fe94e76d07fcb13c3766fb227f4cd6f75e0/expr.ipynb\"><img src=\"../02ce80fe94e76d07fcb13c3766fb227f4cd6f75e0/expr.png\" style=\"display:inline;vertical-align:middle;\" /></a></td></tr>\n",
       "<tr><td>14</td><td>Operation</td><td>operator:&nbsp;29<br>operands:&nbsp;16<br></td><td><a class=\"ProveItLink\" href=\"../0215ea703ac8798283569ea530bf30e50bc1bb5b0/expr.ipynb\"><img src=\"../0215ea703ac8798283569ea530bf30e50bc1bb5b0/expr.png\" style=\"display:inline;vertical-align:middle;\" /></a></td></tr>\n",
       "<tr><td>15</td><td>Operation</td><td>operator:&nbsp;17<br>operands:&nbsp;18<br></td><td><a class=\"ProveItLink\" href=\"../3f6f8d25c49451dc3ee1ec074a044b59094205010/expr.ipynb\"><img src=\"../3f6f8d25c49451dc3ee1ec074a044b59094205010/expr.png\" style=\"display:inline;vertical-align:middle;\" /></a></td></tr>\n",
       "<tr><td>16</td><td>ExprTuple</td><td>19, 32</td><td><a class=\"ProveItLink\" href=\"../3e55013a6e4a3b889c6e9d5c2f179b76a44cbd330/expr.ipynb\"><img src=\"../3e55013a6e4a3b889c6e9d5c2f179b76a44cbd330/expr.png\" style=\"display:inline;vertical-align:middle;\" /></a></td></tr>\n",
       "<tr><td>17</td><td>Literal</td><td></td><td><a class=\"ProveItLink\" href=\"../../../../../logic/booleans/conjunction/__pv_it/common/42118ff318bd65d98b1393f64ce7c2269feef76e0/expr.ipynb\"><img src=\"../../../../../logic/booleans/conjunction/__pv_it/common/42118ff318bd65d98b1393f64ce7c2269feef76e0/expr.png\" style=\"display:inline;vertical-align:middle;\" /></a></td></tr>\n",
       "<tr><td>18</td><td>ExprTuple</td><td>20</td><td><a class=\"ProveItLink\" href=\"../9d384817cfb63c2ba35ca94a83db0fb37dd13dba0/expr.ipynb\"><img src=\"../9d384817cfb63c2ba35ca94a83db0fb37dd13dba0/expr.png\" style=\"display:inline;vertical-align:middle;\" /></a></td></tr>\n",
       "<tr><td>19</td><td>Operation</td><td>operator:&nbsp;21<br>operands:&nbsp;22<br></td><td><a class=\"ProveItLink\" href=\"../4581127598515ec2c2399dbd6ee1819e48bc4b0c0/expr.ipynb\"><img src=\"../4581127598515ec2c2399dbd6ee1819e48bc4b0c0/expr.png\" style=\"display:inline;vertical-align:middle;\" /></a></td></tr>\n",
       "<tr><td>20</td><td>ExprRange</td><td>lambda_map:&nbsp;23<br>start_index:&nbsp;27<br>end_index:&nbsp;28<br></td><td><a class=\"ProveItLink\" href=\"../4a35cc0f1027862904fced01319acf7f4dbc2e930/expr.ipynb\"><img src=\"../4a35cc0f1027862904fced01319acf7f4dbc2e930/expr.png\" style=\"display:inline;vertical-align:middle;\" /></a></td></tr>\n",
       "<tr><td>21</td><td>Literal</td><td></td><td><a class=\"ProveItLink\" href=\"../../common/7fa25b05174babb4710be62d63ebd43f68aa2fec0/expr.ipynb\"><img src=\"../../common/7fa25b05174babb4710be62d63ebd43f68aa2fec0/expr.png\" style=\"display:inline;vertical-align:middle;\" /></a></td></tr>\n",
       "<tr><td>22</td><td>ExprTuple</td><td>24</td><td><a class=\"ProveItLink\" href=\"../7e48b907199fc39a39ff684d157ce376723f85250/expr.ipynb\"><img src=\"../7e48b907199fc39a39ff684d157ce376723f85250/expr.png\" style=\"display:inline;vertical-align:middle;\" /></a></td></tr>\n",
       "<tr><td>23</td><td>Lambda</td><td>parameter:&nbsp;37<br>body:&nbsp;25<br></td><td><a class=\"ProveItLink\" href=\"../a7c29d8b077bb0a582a3ec6c50812a589d8f0c770/expr.ipynb\"><img src=\"../a7c29d8b077bb0a582a3ec6c50812a589d8f0c770/expr.png\" style=\"display:inline;vertical-align:middle;\" /></a></td></tr>\n",
       "<tr><td>24</td><td>ExprRange</td><td>lambda_map:&nbsp;26<br>start_index:&nbsp;27<br>end_index:&nbsp;28<br></td><td><a class=\"ProveItLink\" href=\"../../../../../core_expr_types/__pv_it/common/e3223cb2bd5adfc47566bb02ae24ae281c09c18b0/expr.ipynb\"><img src=\"../../../../../core_expr_types/__pv_it/common/e3223cb2bd5adfc47566bb02ae24ae281c09c18b0/expr.png\" style=\"display:inline;vertical-align:middle;\" /></a></td></tr>\n",
       "<tr><td>25</td><td>Operation</td><td>operator:&nbsp;29<br>operands:&nbsp;30<br></td><td><a class=\"ProveItLink\" href=\"../cd3d28b0e996bb6e5cf82979be0fbb08c97ac1110/expr.ipynb\"><img src=\"../cd3d28b0e996bb6e5cf82979be0fbb08c97ac1110/expr.png\" style=\"display:inline;vertical-align:middle;\" /></a></td></tr>\n",
       "<tr><td>26</td><td>Lambda</td><td>parameter:&nbsp;37<br>body:&nbsp;31<br></td><td><a class=\"ProveItLink\" href=\"../../../../../core_expr_types/__pv_it/common/26e8d4e4a478d93551799f3dc5435f662b7f04e90/expr.ipynb\"><img src=\"../../../../../core_expr_types/__pv_it/common/26e8d4e4a478d93551799f3dc5435f662b7f04e90/expr.png\" style=\"display:inline;vertical-align:middle;\" /></a></td></tr>\n",
       "<tr><td>27</td><td>Literal</td><td></td><td><a class=\"ProveItLink\" href=\"../../../../../numbers/numerals/__pv_it/common/682157d4892d216d9e5626ed533aff9b56b9506e0/expr.ipynb\"><img src=\"../../../../../numbers/numerals/__pv_it/common/682157d4892d216d9e5626ed533aff9b56b9506e0/expr.png\" style=\"display:inline;vertical-align:middle;\" /></a></td></tr>\n",
       "<tr><td>28</td><td>Variable</td><td></td><td><a class=\"ProveItLink\" href=\"../../../../../__pv_it/common/ae955345c83abf786c3aff8681cd5465beae262d0/expr.ipynb\"><img src=\"../../../../../__pv_it/common/ae955345c83abf786c3aff8681cd5465beae262d0/expr.png\" style=\"display:inline;vertical-align:middle;\" /></a></td></tr>\n",
       "<tr><td>29</td><td>Literal</td><td></td><td><a class=\"ProveItLink\" href=\"../../../../../logic/classes/membership/__pv_it/common/e3b437d28fbe17f0a50c9789c7c9b47a1270f1420/expr.ipynb\"><img src=\"../../../../../logic/classes/membership/__pv_it/common/e3b437d28fbe17f0a50c9789c7c9b47a1270f1420/expr.png\" style=\"display:inline;vertical-align:middle;\" /></a></td></tr>\n",
       "<tr><td>30</td><td>ExprTuple</td><td>31, 32</td><td><a class=\"ProveItLink\" href=\"../cded9dd99a0af5c6371629b0aae8854a788554260/expr.ipynb\"><img src=\"../cded9dd99a0af5c6371629b0aae8854a788554260/expr.png\" style=\"display:inline;vertical-align:middle;\" /></a></td></tr>\n",
       "<tr><td>31</td><td>IndexedVar</td><td>variable:&nbsp;33<br>index:&nbsp;37<br></td><td><a class=\"ProveItLink\" href=\"../../../../../core_expr_types/__pv_it/common/147a78b7570fad51cf5e91324728b3ba848fcf2d0/expr.ipynb\"><img src=\"../../../../../core_expr_types/__pv_it/common/147a78b7570fad51cf5e91324728b3ba848fcf2d0/expr.png\" style=\"display:inline;vertical-align:middle;\" /></a></td></tr>\n",
       "<tr><td>32</td><td>Operation</td><td>operator:&nbsp;35<br>operand:&nbsp;38<br></td><td><a class=\"ProveItLink\" href=\"../bfe4d11fbcd28c79c0e2a9c152d66f0991be7cc30/expr.ipynb\"><img src=\"../bfe4d11fbcd28c79c0e2a9c152d66f0991be7cc30/expr.png\" style=\"display:inline;vertical-align:middle;\" /></a></td></tr>\n",
       "<tr><td>33</td><td>Variable</td><td></td><td><a class=\"ProveItLink\" href=\"../../../../../__pv_it/common/6d80eb1398b2335bf9ec427954b851b7094dced50/expr.ipynb\"><img src=\"../../../../../__pv_it/common/6d80eb1398b2335bf9ec427954b851b7094dced50/expr.png\" style=\"display:inline;vertical-align:middle;\" /></a></td></tr>\n",
       "<tr><td>34</td><td>ExprTuple</td><td>37</td><td><a class=\"ProveItLink\" href=\"../../../../../core_expr_types/__pv_it/common/4b0dd6be36d76552eda6a95d5b4a27f5a5b62f900/expr.ipynb\"><img src=\"../../../../../core_expr_types/__pv_it/common/4b0dd6be36d76552eda6a95d5b4a27f5a5b62f900/expr.png\" style=\"display:inline;vertical-align:middle;\" /></a></td></tr>\n",
       "<tr><td>35</td><td>Literal</td><td></td><td><a class=\"ProveItLink\" href=\"../../../../__pv_it/common/191fa3a3f5c54c22d4b0a7e4fd1b2f7738e981550/expr.ipynb\"><img src=\"../../../../__pv_it/common/191fa3a3f5c54c22d4b0a7e4fd1b2f7738e981550/expr.png\" style=\"display:inline;vertical-align:middle;\" /></a></td></tr>\n",
       "<tr><td>36</td><td>ExprTuple</td><td>38</td><td><a class=\"ProveItLink\" href=\"../dfa81a569aedd40943c42f533e78bc2f073711130/expr.ipynb\"><img src=\"../dfa81a569aedd40943c42f533e78bc2f073711130/expr.png\" style=\"display:inline;vertical-align:middle;\" /></a></td></tr>\n",
       "<tr><td>37</td><td>Variable</td><td></td><td><a class=\"ProveItLink\" href=\"../../../../../core_expr_types/__pv_it/common/006c465e50948aa2b52285e2de47974f741255cc0/expr.ipynb\"><img src=\"../../../../../core_expr_types/__pv_it/common/006c465e50948aa2b52285e2de47974f741255cc0/expr.png\" style=\"display:inline;vertical-align:middle;\" /></a></td></tr>\n",
       "<tr><td>38</td><td>Variable</td><td></td><td><a class=\"ProveItLink\" href=\"../../../../../__pv_it/common/1f2ffac7a1dc7c1a4f1fc7348356ae64ea992c790/expr.ipynb\"><img src=\"../../../../../__pv_it/common/1f2ffac7a1dc7c1a4f1fc7348356ae64ea992c790/expr.png\" style=\"display:inline;vertical-align:middle;\" /></a></td></tr>\n",
       "</table>\n"
      ],
      "text/plain": [
       "0. forall_{i in NaturalPos} [forall_{V_{1}, V_{2}, ..., V_{i} in_c VecSpaces(K)} ((V_{1} otimes  V_{2} otimes  ... otimes  V_{i}) in_c VecSpaces(K))]\n",
       "   core type: Operation\n",
       "   operator: 7\n",
       "   operand: 2\n",
       "1. (i -> {forall_{V_{1}, V_{2}, ..., V_{i} in_c VecSpaces(K)} ((V_{1} otimes  V_{2} otimes  ... otimes  V_{i}) in_c VecSpaces(K)) if i in NaturalPos.)\n",
       "   core type: ExprTuple\n",
       "   sub-expressions: 2\n",
       "2. i -> {forall_{V_{1}, V_{2}, ..., V_{i} in_c VecSpaces(K)} ((V_{1} otimes  V_{2} otimes  ... otimes  V_{i}) in_c VecSpaces(K)) if i in NaturalPos.\n",
       "   core type: Lambda\n",
       "   parameter: 28\n",
       "   body: 4\n",
       "3. (i)\n",
       "   core type: ExprTuple\n",
       "   sub-expressions: 28\n",
       "4. {forall_{V_{1}, V_{2}, ..., V_{i} in_c VecSpaces(K)} ((V_{1} otimes  V_{2} otimes  ... otimes  V_{i}) in_c VecSpaces(K)) if i in NaturalPos.\n",
       "   core type: Conditional\n",
       "   value: 5\n",
       "   condition: 6\n",
       "5. forall_{V_{1}, V_{2}, ..., V_{i} in_c VecSpaces(K)} ((V_{1} otimes  V_{2} otimes  ... otimes  V_{i}) in_c VecSpaces(K))\n",
       "   core type: Operation\n",
       "   operator: 7\n",
       "   operand: 11\n",
       "6. i in NaturalPos\n",
       "   core type: Operation\n",
       "   operator: 9\n",
       "   operands: 10\n",
       "7. forall\n",
       "   core type: Literal\n",
       "   sub-expressions: \n",
       "8. ((V_{1}, V_{2}, ..., V_{i}) -> {(V_{1} otimes  V_{2} otimes  ... otimes  V_{i}) in_c VecSpaces(K) if (V_{1} in_c VecSpaces(K)) and  (V_{2} in_c VecSpaces(K)) and  ... and  (V_{i} in_c VecSpaces(K)).)\n",
       "   core type: ExprTuple\n",
       "   sub-expressions: 11\n",
       "9. in\n",
       "   core type: Literal\n",
       "   sub-expressions: \n",
       "10. (i, NaturalPos)\n",
       "    core type: ExprTuple\n",
       "    sub-expressions: 28, 12\n",
       "11. (V_{1}, V_{2}, ..., V_{i}) -> {(V_{1} otimes  V_{2} otimes  ... otimes  V_{i}) in_c VecSpaces(K) if (V_{1} in_c VecSpaces(K)) and  (V_{2} in_c VecSpaces(K)) and  ... and  (V_{i} in_c VecSpaces(K)).\n",
       "    core type: Lambda\n",
       "    parameters: 22\\n    body: 13\n",
       "12. NaturalPos\n",
       "    core type: Literal\n",
       "    sub-expressions: \n",
       "13. {(V_{1} otimes  V_{2} otimes  ... otimes  V_{i}) in_c VecSpaces(K) if (V_{1} in_c VecSpaces(K)) and  (V_{2} in_c VecSpaces(K)) and  ... and  (V_{i} in_c VecSpaces(K)).\n",
       "    core type: Conditional\n",
       "    value: 14\n",
       "    condition: 15\n",
       "14. (V_{1} otimes  V_{2} otimes  ... otimes  V_{i}) in_c VecSpaces(K)\n",
       "    core type: Operation\n",
       "    operator: 29\n",
       "    operands: 16\n",
       "15. (V_{1} in_c VecSpaces(K)) and  (V_{2} in_c VecSpaces(K)) and  ... and  (V_{i} in_c VecSpaces(K))\n",
       "    core type: Operation\n",
       "    operator: 17\n",
       "    operands: 18\n",
       "16. (V_{1} otimes  V_{2} otimes  ... otimes  V_{i}, VecSpaces(K))\n",
       "    core type: ExprTuple\n",
       "    sub-expressions: 19, 32\n",
       "17. and\n",
       "    core type: Literal\n",
       "    sub-expressions: \n",
       "18. ((V_{1} in_c VecSpaces(K)), (V_{2} in_c VecSpaces(K)), ..., (V_{i} in_c VecSpaces(K)))\n",
       "    core type: ExprTuple\n",
       "    sub-expressions: 20\n",
       "19. V_{1} otimes  V_{2} otimes  ... otimes  V_{i}\n",
       "    core type: Operation\n",
       "    operator: 21\n",
       "    operands: 22\n",
       "20. (V_{1} in_c VecSpaces(K)), (V_{2} in_c VecSpaces(K)), ..., (V_{i} in_c VecSpaces(K))\n",
       "    core type: ExprRange\n",
       "    lambda_map: 23\n",
       "    start_index: 27\n",
       "    end_index: 28\n",
       "21. otimes\n",
       "    core type: Literal\n",
       "    sub-expressions: \n",
       "22. (V_{1}, V_{2}, ..., V_{i})\n",
       "    core type: ExprTuple\n",
       "    sub-expressions: 24\n",
       "23. _a -> (V_{_a} in_c VecSpaces(K))\n",
       "    core type: Lambda\n",
       "    parameter: 37\n",
       "    body: 25\n",
       "24. V_{1}, V_{2}, ..., V_{i}\n",
       "    core type: ExprRange\n",
       "    lambda_map: 26\n",
       "    start_index: 27\n",
       "    end_index: 28\n",
       "25. V_{_a} in_c VecSpaces(K)\n",
       "    core type: Operation\n",
       "    operator: 29\n",
       "    operands: 30\n",
       "26. _a -> V_{_a}\n",
       "    core type: Lambda\n",
       "    parameter: 37\n",
       "    body: 31\n",
       "27. 1\n",
       "    core type: Literal\n",
       "    sub-expressions: \n",
       "28. i\n",
       "    core type: Variable\n",
       "    sub-expressions: \n",
       "29. in_c\n",
       "    core type: Literal\n",
       "    sub-expressions: \n",
       "30. (V_{_a}, VecSpaces(K))\n",
       "    core type: ExprTuple\n",
       "    sub-expressions: 31, 32\n",
       "31. V_{_a}\n",
       "    core type: IndexedVar\n",
       "variable: 33\n",
       "index: 37\n",
       "32. VecSpaces(K)\n",
       "    core type: Operation\n",
       "    operator: 35\n",
       "    operand: 38\n",
       "33. V\n",
       "    core type: Variable\n",
       "    sub-expressions: \n",
       "34. (_a)\n",
       "    core type: ExprTuple\n",
       "    sub-expressions: 37\n",
       "35. VecSpaces\n",
       "    core type: Literal\n",
       "    sub-expressions: \n",
       "36. (K)\n",
       "    core type: ExprTuple\n",
       "    sub-expressions: 38\n",
       "37. _a\n",
       "    core type: Variable\n",
       "    sub-expressions: \n",
       "38. K\n",
       "    core type: Variable\n",
       "    sub-expressions: "
      ]
     },
     "metadata": {},
     "output_type": "display_data"
    }
   ],
   "source": [
    "# display the expression information\n",
    "stored_expr.expr_info()"
   ]
  },
  {
   "cell_type": "code",
   "execution_count": null,
   "metadata": {},
   "outputs": [],
   "source": []
  }
 ],
 "metadata": {
  "kernelspec": {
   "display_name": "Python 3",
   "language": "python",
   "name": "python3"
  }
 },
 "nbformat": 4,
 "nbformat_minor": 0
}