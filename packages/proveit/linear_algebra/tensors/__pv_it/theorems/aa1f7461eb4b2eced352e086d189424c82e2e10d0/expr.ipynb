{
 "cells": [
  {
   "cell_type": "markdown",
   "metadata": {},
   "source": [
    "Expression of type <a class=\"ProveItLink\" href=\"../../../../../../../doc/html/api/proveit.Conditional.html\">Conditional</a>\n",
    "=======================\n",
    "# from the theory of <a class=\"ProveItLink\" href=\"../../../_theory_nbs_/theory.ipynb\">proveit.linear_algebra.tensors</a>"
   ]
  },
  {
   "cell_type": "code",
   "execution_count": 1,
   "metadata": {},
   "outputs": [],
   "source": [
    "import proveit\n",
    "# Automation is not needed when building an expression:\n",
    "proveit.defaults.automation = False # This will speed things up.\n",
    "proveit.defaults.inline_pngs = False # Makes files smaller.\n",
    "%load_expr # Load the stored expression as 'stored_expr'\n",
    "# import Expression classes needed to build the expression\n",
    "from proveit import Conditional, ExprRange, IndexedVar, K, Variable, m, n\n",
    "from proveit.core_expr_types import n_1_to_m\n",
    "from proveit.linear_algebra import TensorProd\n",
    "from proveit.logic import CartExp, Forall, InSet, SubsetEq\n",
    "from proveit.numbers import Mult, NaturalPos, one"
   ]
  },
  {
   "cell_type": "code",
   "execution_count": 2,
   "metadata": {},
   "outputs": [
    {
     "data": {
      "text/html": [
       "<strong id=\"expr\">expr:</strong> <a class=\"ProveItLink\" href=\"expr.ipynb\"><img src=\"expr.png\" style=\"display:inline;vertical-align:middle;\" /></a><br>"
      ],
      "text/plain": [
       "<IPython.core.display.HTML object>"
      ]
     },
     "metadata": {},
     "output_type": "display_data"
    }
   ],
   "source": [
    "# build up the expression from sub-expressions\n",
    "sub_expr1 = Variable(\"_a\", latex_format = r\"{_{-}a}\")\n",
    "expr = Conditional(Forall(instance_param_or_params = [n_1_to_m], instance_expr = SubsetEq(TensorProd(ExprRange(sub_expr1, CartExp(K, IndexedVar(n, sub_expr1)), one, m)), CartExp(K, Mult(n_1_to_m))), domain = NaturalPos), InSet(m, NaturalPos))"
   ]
  },
  {
   "cell_type": "code",
   "execution_count": 3,
   "metadata": {},
   "outputs": [
    {
     "name": "stdout",
     "output_type": "stream",
     "text": [
      "Passed sanity check: expr matches stored_expr\n"
     ]
    }
   ],
   "source": [
    "# check that the built expression is the same as the stored expression\n",
    "assert expr == stored_expr\n",
    "assert expr._style_id == stored_expr._style_id\n",
    "print(\"Passed sanity check: expr matches stored_expr\")"
   ]
  },
  {
   "cell_type": "code",
   "execution_count": 4,
   "metadata": {},
   "outputs": [
    {
     "name": "stdout",
     "output_type": "stream",
     "text": [
      "\\left\\{\\forall_{n_{1}, n_{2}, \\ldots, n_{m} \\in \\mathbb{N}^+}~\\left(\\left(K^{n_{1}} {\\otimes}  K^{n_{2}} {\\otimes}  \\ldots {\\otimes}  K^{n_{m}}\\right) \\subseteq K^{n_{1} \\cdot  n_{2} \\cdot  \\ldots \\cdot  n_{m}}\\right) \\textrm{ if } m \\in \\mathbb{N}^+\\right..\n"
     ]
    }
   ],
   "source": [
    "# Show the LaTeX representation of the expression for convenience if you need it.\n",
    "print(stored_expr.latex())"
   ]
  },
  {
   "cell_type": "code",
   "execution_count": 5,
   "metadata": {},
   "outputs": [
    {
     "data": {
      "text/html": [
       "<table>\n",
       "<tr><th>name</th><th>description</th><th>default</th><th>current value</th><th>related methods</th></tr><tr><td>condition_delimiter</td><td>'comma' or 'and'</td><td>comma</td><td>comma</td><td>('with_comma_delimiter', 'with_conjunction_delimiter')</td></tr>\n",
       "</table>\n"
      ],
      "text/plain": [
       "style name: condition_delimiter\n",
       "description: 'comma' or 'and'\n",
       "default: comma\n",
       "current value: comma\n",
       "related methods: ('with_comma_delimiter', 'with_conjunction_delimiter')"
      ]
     },
     "metadata": {},
     "output_type": "display_data"
    }
   ],
   "source": [
    "stored_expr.style_options()"
   ]
  },
  {
   "cell_type": "code",
   "execution_count": 6,
   "metadata": {},
   "outputs": [
    {
     "data": {
      "text/html": [
       "<table><tr><th>&nbsp;</th><th>core type</th><th>sub-expressions</th><th>expression</th></tr>\n",
       "<tr><td>0</td><td>Conditional</td><td>value:&nbsp;1<br>condition:&nbsp;2<br></td><td><a class=\"ProveItLink\" href=\"expr.ipynb\"><img src=\"expr.png\" style=\"display:inline;vertical-align:middle;\" /></a></td></tr>\n",
       "<tr><td>1</td><td>Operation</td><td>operator:&nbsp;3<br>operand:&nbsp;6<br></td><td><a class=\"ProveItLink\" href=\"../6076f2ff56dfc7b50a02bad18d4fb4d8941379cc0/expr.ipynb\"><img src=\"../6076f2ff56dfc7b50a02bad18d4fb4d8941379cc0/expr.png\" style=\"display:inline;vertical-align:middle;\" /></a></td></tr>\n",
       "<tr><td>2</td><td>Operation</td><td>operator:&nbsp;27<br>operands:&nbsp;5<br></td><td><a class=\"ProveItLink\" href=\"../79a768603778550c651661670153c27ee0a505870/expr.ipynb\"><img src=\"../79a768603778550c651661670153c27ee0a505870/expr.png\" style=\"display:inline;vertical-align:middle;\" /></a></td></tr>\n",
       "<tr><td>3</td><td>Literal</td><td></td><td><a class=\"ProveItLink\" href=\"../../../../../logic/booleans/quantification/universality/__pv_it/common/083d2baa0b8ecab1d230f9ec29a15aa1355809fb0/expr.ipynb\"><img src=\"../../../../../logic/booleans/quantification/universality/__pv_it/common/083d2baa0b8ecab1d230f9ec29a15aa1355809fb0/expr.png\" style=\"display:inline;vertical-align:middle;\" /></a></td></tr>\n",
       "<tr><td>4</td><td>ExprTuple</td><td>6</td><td><a class=\"ProveItLink\" href=\"../80c65af1f7e770e54d9551c32876849197df3ca30/expr.ipynb\"><img src=\"../80c65af1f7e770e54d9551c32876849197df3ca30/expr.png\" style=\"display:inline;vertical-align:middle;\" /></a></td></tr>\n",
       "<tr><td>5</td><td>ExprTuple</td><td>36, 31</td><td><a class=\"ProveItLink\" href=\"../0aafde61e876ad81c8138546f58d9459d893af050/expr.ipynb\"><img src=\"../0aafde61e876ad81c8138546f58d9459d893af050/expr.png\" style=\"display:inline;vertical-align:middle;\" /></a></td></tr>\n",
       "<tr><td>6</td><td>Lambda</td><td>parameters:&nbsp;26<br>body:&nbsp;7<br></td><td><a class=\"ProveItLink\" href=\"../a7b962dfe2e74dd9a21f2a78da695bb0ad295a210/expr.ipynb\"><img src=\"../a7b962dfe2e74dd9a21f2a78da695bb0ad295a210/expr.png\" style=\"display:inline;vertical-align:middle;\" /></a></td></tr>\n",
       "<tr><td>7</td><td>Conditional</td><td>value:&nbsp;8<br>condition:&nbsp;9<br></td><td><a class=\"ProveItLink\" href=\"../632a35ca63f88a896d6aeb3f2d53704f299480bf0/expr.ipynb\"><img src=\"../632a35ca63f88a896d6aeb3f2d53704f299480bf0/expr.png\" style=\"display:inline;vertical-align:middle;\" /></a></td></tr>\n",
       "<tr><td>8</td><td>Operation</td><td>operator:&nbsp;10<br>operands:&nbsp;11<br></td><td><a class=\"ProveItLink\" href=\"../5313a24aec3d80185ee208037089b4a9a45d931d0/expr.ipynb\"><img src=\"../5313a24aec3d80185ee208037089b4a9a45d931d0/expr.png\" style=\"display:inline;vertical-align:middle;\" /></a></td></tr>\n",
       "<tr><td>9</td><td>Operation</td><td>operator:&nbsp;12<br>operands:&nbsp;13<br></td><td><a class=\"ProveItLink\" href=\"../711f68351cd9d5bd0303dd1a693bcd458faac59e0/expr.ipynb\"><img src=\"../711f68351cd9d5bd0303dd1a693bcd458faac59e0/expr.png\" style=\"display:inline;vertical-align:middle;\" /></a></td></tr>\n",
       "<tr><td>10</td><td>Literal</td><td></td><td><a class=\"ProveItLink\" href=\"../../../../../logic/sets/inclusion/__pv_it/common/af21bfd7d93759eac7fe399a50aaac31ae45d8cf0/expr.ipynb\"><img src=\"../../../../../logic/sets/inclusion/__pv_it/common/af21bfd7d93759eac7fe399a50aaac31ae45d8cf0/expr.png\" style=\"display:inline;vertical-align:middle;\" /></a></td></tr>\n",
       "<tr><td>11</td><td>ExprTuple</td><td>14, 15</td><td><a class=\"ProveItLink\" href=\"../9f0f404bb0790cd05b716e5e3b8fd9bb67e626480/expr.ipynb\"><img src=\"../9f0f404bb0790cd05b716e5e3b8fd9bb67e626480/expr.png\" style=\"display:inline;vertical-align:middle;\" /></a></td></tr>\n",
       "<tr><td>12</td><td>Literal</td><td></td><td><a class=\"ProveItLink\" href=\"../../../../../logic/booleans/conjunction/__pv_it/common/42118ff318bd65d98b1393f64ce7c2269feef76e0/expr.ipynb\"><img src=\"../../../../../logic/booleans/conjunction/__pv_it/common/42118ff318bd65d98b1393f64ce7c2269feef76e0/expr.png\" style=\"display:inline;vertical-align:middle;\" /></a></td></tr>\n",
       "<tr><td>13</td><td>ExprTuple</td><td>16</td><td><a class=\"ProveItLink\" href=\"../43c56ad64f6a76e6f8d74e02444e7be0d4abd67b0/expr.ipynb\"><img src=\"../43c56ad64f6a76e6f8d74e02444e7be0d4abd67b0/expr.png\" style=\"display:inline;vertical-align:middle;\" /></a></td></tr>\n",
       "<tr><td>14</td><td>Operation</td><td>operator:&nbsp;17<br>operands:&nbsp;18<br></td><td><a class=\"ProveItLink\" href=\"../809a1edd6b0b47c5a814e54b4821bcce5cece4760/expr.ipynb\"><img src=\"../809a1edd6b0b47c5a814e54b4821bcce5cece4760/expr.png\" style=\"display:inline;vertical-align:middle;\" /></a></td></tr>\n",
       "<tr><td>15</td><td>Operation</td><td>operator:&nbsp;32<br>operands:&nbsp;19<br></td><td><a class=\"ProveItLink\" href=\"../1c301b9da61b37a0dc3b35202a3653f6deb823060/expr.ipynb\"><img src=\"../1c301b9da61b37a0dc3b35202a3653f6deb823060/expr.png\" style=\"display:inline;vertical-align:middle;\" /></a></td></tr>\n",
       "<tr><td>16</td><td>ExprRange</td><td>lambda_map:&nbsp;20<br>start_index:&nbsp;35<br>end_index:&nbsp;36<br></td><td><a class=\"ProveItLink\" href=\"../8b9be0895d9a240d0ea4dd1555b150366ce033fe0/expr.ipynb\"><img src=\"../8b9be0895d9a240d0ea4dd1555b150366ce033fe0/expr.png\" style=\"display:inline;vertical-align:middle;\" /></a></td></tr>\n",
       "<tr><td>17</td><td>Literal</td><td></td><td><a class=\"ProveItLink\" href=\"../../common/7fa25b05174babb4710be62d63ebd43f68aa2fec0/expr.ipynb\"><img src=\"../../common/7fa25b05174babb4710be62d63ebd43f68aa2fec0/expr.png\" style=\"display:inline;vertical-align:middle;\" /></a></td></tr>\n",
       "<tr><td>18</td><td>ExprTuple</td><td>21</td><td><a class=\"ProveItLink\" href=\"../5fbcb7a18890de5fe3338bdd0bb48f7a936114ad0/expr.ipynb\"><img src=\"../5fbcb7a18890de5fe3338bdd0bb48f7a936114ad0/expr.png\" style=\"display:inline;vertical-align:middle;\" /></a></td></tr>\n",
       "<tr><td>19</td><td>ExprTuple</td><td>37, 22</td><td><a class=\"ProveItLink\" href=\"../10bb142c508bb67eba4fda14c1b1452c0e7118100/expr.ipynb\"><img src=\"../10bb142c508bb67eba4fda14c1b1452c0e7118100/expr.png\" style=\"display:inline;vertical-align:middle;\" /></a></td></tr>\n",
       "<tr><td>20</td><td>Lambda</td><td>parameter:&nbsp;41<br>body:&nbsp;23<br></td><td><a class=\"ProveItLink\" href=\"../ebe54d9d1a7a5733c750cedb41d8165a5e8c96bb0/expr.ipynb\"><img src=\"../ebe54d9d1a7a5733c750cedb41d8165a5e8c96bb0/expr.png\" style=\"display:inline;vertical-align:middle;\" /></a></td></tr>\n",
       "<tr><td>21</td><td>ExprRange</td><td>lambda_map:&nbsp;24<br>start_index:&nbsp;35<br>end_index:&nbsp;36<br></td><td><a class=\"ProveItLink\" href=\"../9dc3e7bde1490100dc6366f8e2993689f9dbd55c0/expr.ipynb\"><img src=\"../9dc3e7bde1490100dc6366f8e2993689f9dbd55c0/expr.png\" style=\"display:inline;vertical-align:middle;\" /></a></td></tr>\n",
       "<tr><td>22</td><td>Operation</td><td>operator:&nbsp;25<br>operands:&nbsp;26<br></td><td><a class=\"ProveItLink\" href=\"../01fce3a46eed2ba456a6a4181d07c203165a6d730/expr.ipynb\"><img src=\"../01fce3a46eed2ba456a6a4181d07c203165a6d730/expr.png\" style=\"display:inline;vertical-align:middle;\" /></a></td></tr>\n",
       "<tr><td>23</td><td>Operation</td><td>operator:&nbsp;27<br>operands:&nbsp;28<br></td><td><a class=\"ProveItLink\" href=\"../33991b5a4aac2aaa927bd5a78ab9380d85e1875e0/expr.ipynb\"><img src=\"../33991b5a4aac2aaa927bd5a78ab9380d85e1875e0/expr.png\" style=\"display:inline;vertical-align:middle;\" /></a></td></tr>\n",
       "<tr><td>24</td><td>Lambda</td><td>parameter:&nbsp;41<br>body:&nbsp;29<br></td><td><a class=\"ProveItLink\" href=\"../e64eb788e67eb42f0394dd97d181a587c65873160/expr.ipynb\"><img src=\"../e64eb788e67eb42f0394dd97d181a587c65873160/expr.png\" style=\"display:inline;vertical-align:middle;\" /></a></td></tr>\n",
       "<tr><td>25</td><td>Literal</td><td></td><td><a class=\"ProveItLink\" href=\"../../../../../numbers/multiplication/__pv_it/common/ed719cef37831779c16481533a4d380a2f95ab270/expr.ipynb\"><img src=\"../../../../../numbers/multiplication/__pv_it/common/ed719cef37831779c16481533a4d380a2f95ab270/expr.png\" style=\"display:inline;vertical-align:middle;\" /></a></td></tr>\n",
       "<tr><td>26</td><td>ExprTuple</td><td>30</td><td><a class=\"ProveItLink\" href=\"../c4034f36df53e7e8086db758e98c25a5e86c525b0/expr.ipynb\"><img src=\"../c4034f36df53e7e8086db758e98c25a5e86c525b0/expr.png\" style=\"display:inline;vertical-align:middle;\" /></a></td></tr>\n",
       "<tr><td>27</td><td>Literal</td><td></td><td><a class=\"ProveItLink\" href=\"../../../../../logic/sets/membership/__pv_it/common/477487d8796864d23d5810f83761435f25167f690/expr.ipynb\"><img src=\"../../../../../logic/sets/membership/__pv_it/common/477487d8796864d23d5810f83761435f25167f690/expr.png\" style=\"display:inline;vertical-align:middle;\" /></a></td></tr>\n",
       "<tr><td>28</td><td>ExprTuple</td><td>38, 31</td><td><a class=\"ProveItLink\" href=\"../522fa6640ad02e4c691dfbcad121f406f62c5bda0/expr.ipynb\"><img src=\"../522fa6640ad02e4c691dfbcad121f406f62c5bda0/expr.png\" style=\"display:inline;vertical-align:middle;\" /></a></td></tr>\n",
       "<tr><td>29</td><td>Operation</td><td>operator:&nbsp;32<br>operands:&nbsp;33<br></td><td><a class=\"ProveItLink\" href=\"../bea261c365da9d3c7ab2a3abd0e119ff9736d5250/expr.ipynb\"><img src=\"../bea261c365da9d3c7ab2a3abd0e119ff9736d5250/expr.png\" style=\"display:inline;vertical-align:middle;\" /></a></td></tr>\n",
       "<tr><td>30</td><td>ExprRange</td><td>lambda_map:&nbsp;34<br>start_index:&nbsp;35<br>end_index:&nbsp;36<br></td><td><a class=\"ProveItLink\" href=\"../../../../../core_expr_types/__pv_it/common/90ed4018efee6d0468f5b03694cdbe4ca466f4a10/expr.ipynb\"><img src=\"../../../../../core_expr_types/__pv_it/common/90ed4018efee6d0468f5b03694cdbe4ca466f4a10/expr.png\" style=\"display:inline;vertical-align:middle;\" /></a></td></tr>\n",
       "<tr><td>31</td><td>Literal</td><td></td><td><a class=\"ProveItLink\" href=\"../../../../../numbers/number_sets/natural_numbers/__pv_it/common/6111329435c43892c831c4793de96afbf80bdb3e0/expr.ipynb\"><img src=\"../../../../../numbers/number_sets/natural_numbers/__pv_it/common/6111329435c43892c831c4793de96afbf80bdb3e0/expr.png\" style=\"display:inline;vertical-align:middle;\" /></a></td></tr>\n",
       "<tr><td>32</td><td>Literal</td><td></td><td><a class=\"ProveItLink\" href=\"../../../../../logic/sets/cartesian_products/__pv_it/common/7d20d67ddfbd94ad12efc9670c0d16a295b8ec1a0/expr.ipynb\"><img src=\"../../../../../logic/sets/cartesian_products/__pv_it/common/7d20d67ddfbd94ad12efc9670c0d16a295b8ec1a0/expr.png\" style=\"display:inline;vertical-align:middle;\" /></a></td></tr>\n",
       "<tr><td>33</td><td>ExprTuple</td><td>37, 38</td><td><a class=\"ProveItLink\" href=\"../9898f10cba623fbdf7ca480a09362e57704a1fa50/expr.ipynb\"><img src=\"../9898f10cba623fbdf7ca480a09362e57704a1fa50/expr.png\" style=\"display:inline;vertical-align:middle;\" /></a></td></tr>\n",
       "<tr><td>34</td><td>Lambda</td><td>parameter:&nbsp;41<br>body:&nbsp;38<br></td><td><a class=\"ProveItLink\" href=\"../../../../../core_expr_types/__pv_it/common/68fc4409b7868f7b89ee83a88fa54b765e62dc550/expr.ipynb\"><img src=\"../../../../../core_expr_types/__pv_it/common/68fc4409b7868f7b89ee83a88fa54b765e62dc550/expr.png\" style=\"display:inline;vertical-align:middle;\" /></a></td></tr>\n",
       "<tr><td>35</td><td>Literal</td><td></td><td><a class=\"ProveItLink\" href=\"../../../../../numbers/numerals/__pv_it/common/682157d4892d216d9e5626ed533aff9b56b9506e0/expr.ipynb\"><img src=\"../../../../../numbers/numerals/__pv_it/common/682157d4892d216d9e5626ed533aff9b56b9506e0/expr.png\" style=\"display:inline;vertical-align:middle;\" /></a></td></tr>\n",
       "<tr><td>36</td><td>Variable</td><td></td><td><a class=\"ProveItLink\" href=\"../../../../../__pv_it/common/674a03b9c3ca221b3aabd5636837b31528ff33830/expr.ipynb\"><img src=\"../../../../../__pv_it/common/674a03b9c3ca221b3aabd5636837b31528ff33830/expr.png\" style=\"display:inline;vertical-align:middle;\" /></a></td></tr>\n",
       "<tr><td>37</td><td>Variable</td><td></td><td><a class=\"ProveItLink\" href=\"../../../../../__pv_it/common/1f2ffac7a1dc7c1a4f1fc7348356ae64ea992c790/expr.ipynb\"><img src=\"../../../../../__pv_it/common/1f2ffac7a1dc7c1a4f1fc7348356ae64ea992c790/expr.png\" style=\"display:inline;vertical-align:middle;\" /></a></td></tr>\n",
       "<tr><td>38</td><td>IndexedVar</td><td>variable:&nbsp;39<br>index:&nbsp;41<br></td><td><a class=\"ProveItLink\" href=\"../../../../../core_expr_types/__pv_it/common/25e56c4269a59750d33761900d5b99c433f137050/expr.ipynb\"><img src=\"../../../../../core_expr_types/__pv_it/common/25e56c4269a59750d33761900d5b99c433f137050/expr.png\" style=\"display:inline;vertical-align:middle;\" /></a></td></tr>\n",
       "<tr><td>39</td><td>Variable</td><td></td><td><a class=\"ProveItLink\" href=\"../../../../../__pv_it/common/8968bb04eb3f7dfa02353397ce929b025bbd79c20/expr.ipynb\"><img src=\"../../../../../__pv_it/common/8968bb04eb3f7dfa02353397ce929b025bbd79c20/expr.png\" style=\"display:inline;vertical-align:middle;\" /></a></td></tr>\n",
       "<tr><td>40</td><td>ExprTuple</td><td>41</td><td><a class=\"ProveItLink\" href=\"../../../../../core_expr_types/__pv_it/common/4b0dd6be36d76552eda6a95d5b4a27f5a5b62f900/expr.ipynb\"><img src=\"../../../../../core_expr_types/__pv_it/common/4b0dd6be36d76552eda6a95d5b4a27f5a5b62f900/expr.png\" style=\"display:inline;vertical-align:middle;\" /></a></td></tr>\n",
       "<tr><td>41</td><td>Variable</td><td></td><td><a class=\"ProveItLink\" href=\"../../../../../core_expr_types/__pv_it/common/006c465e50948aa2b52285e2de47974f741255cc0/expr.ipynb\"><img src=\"../../../../../core_expr_types/__pv_it/common/006c465e50948aa2b52285e2de47974f741255cc0/expr.png\" style=\"display:inline;vertical-align:middle;\" /></a></td></tr>\n",
       "</table>\n"
      ],
      "text/plain": [
       "0. {forall_{n_{1}, n_{2}, ..., n_{m} in NaturalPos} ((K^{n_{1}} otimes  K^{n_{2}} otimes  ... otimes  K^{n_{m}}) subset_eq K^{n_{1} *  n_{2} *  ... *  n_{m}}) if m in NaturalPos.\n",
       "   core type: Conditional\n",
       "   value: 1\n",
       "   condition: 2\n",
       "1. forall_{n_{1}, n_{2}, ..., n_{m} in NaturalPos} ((K^{n_{1}} otimes  K^{n_{2}} otimes  ... otimes  K^{n_{m}}) subset_eq K^{n_{1} *  n_{2} *  ... *  n_{m}})\n",
       "   core type: Operation\n",
       "   operator: 3\n",
       "   operand: 6\n",
       "2. m in NaturalPos\n",
       "   core type: Operation\n",
       "   operator: 27\n",
       "   operands: 5\n",
       "3. forall\n",
       "   core type: Literal\n",
       "   sub-expressions: \n",
       "4. ((n_{1}, n_{2}, ..., n_{m}) -> {(K^{n_{1}} otimes  K^{n_{2}} otimes  ... otimes  K^{n_{m}}) subset_eq K^{n_{1} *  n_{2} *  ... *  n_{m}} if (n_{1} in NaturalPos) and  (n_{2} in NaturalPos) and  ... and  (n_{m} in NaturalPos).)\n",
       "   core type: ExprTuple\n",
       "   sub-expressions: 6\n",
       "5. (m, NaturalPos)\n",
       "   core type: ExprTuple\n",
       "   sub-expressions: 36, 31\n",
       "6. (n_{1}, n_{2}, ..., n_{m}) -> {(K^{n_{1}} otimes  K^{n_{2}} otimes  ... otimes  K^{n_{m}}) subset_eq K^{n_{1} *  n_{2} *  ... *  n_{m}} if (n_{1} in NaturalPos) and  (n_{2} in NaturalPos) and  ... and  (n_{m} in NaturalPos).\n",
       "   core type: Lambda\n",
       "   parameters: 26\\n   body: 7\n",
       "7. {(K^{n_{1}} otimes  K^{n_{2}} otimes  ... otimes  K^{n_{m}}) subset_eq K^{n_{1} *  n_{2} *  ... *  n_{m}} if (n_{1} in NaturalPos) and  (n_{2} in NaturalPos) and  ... and  (n_{m} in NaturalPos).\n",
       "   core type: Conditional\n",
       "   value: 8\n",
       "   condition: 9\n",
       "8. (K^{n_{1}} otimes  K^{n_{2}} otimes  ... otimes  K^{n_{m}}) subset_eq K^{n_{1} *  n_{2} *  ... *  n_{m}}\n",
       "   core type: Operation\n",
       "   operator: 10\n",
       "   operands: 11\n",
       "9. (n_{1} in NaturalPos) and  (n_{2} in NaturalPos) and  ... and  (n_{m} in NaturalPos)\n",
       "   core type: Operation\n",
       "   operator: 12\n",
       "   operands: 13\n",
       "10. subset_eq\n",
       "    core type: Literal\n",
       "    sub-expressions: \n",
       "11. (K^{n_{1}} otimes  K^{n_{2}} otimes  ... otimes  K^{n_{m}}, K^{n_{1} *  n_{2} *  ... *  n_{m}})\n",
       "    core type: ExprTuple\n",
       "    sub-expressions: 14, 15\n",
       "12. and\n",
       "    core type: Literal\n",
       "    sub-expressions: \n",
       "13. ((n_{1} in NaturalPos), (n_{2} in NaturalPos), ..., (n_{m} in NaturalPos))\n",
       "    core type: ExprTuple\n",
       "    sub-expressions: 16\n",
       "14. K^{n_{1}} otimes  K^{n_{2}} otimes  ... otimes  K^{n_{m}}\n",
       "    core type: Operation\n",
       "    operator: 17\n",
       "    operands: 18\n",
       "15. K^{n_{1} *  n_{2} *  ... *  n_{m}}\n",
       "    core type: Operation\n",
       "    operator: 32\n",
       "    operands: 19\n",
       "16. (n_{1} in NaturalPos), (n_{2} in NaturalPos), ..., (n_{m} in NaturalPos)\n",
       "    core type: ExprRange\n",
       "    lambda_map: 20\n",
       "    start_index: 35\n",
       "    end_index: 36\n",
       "17. otimes\n",
       "    core type: Literal\n",
       "    sub-expressions: \n",
       "18. (K^{n_{1}}, K^{n_{2}}, ..., K^{n_{m}})\n",
       "    core type: ExprTuple\n",
       "    sub-expressions: 21\n",
       "19. (K, n_{1} *  n_{2} *  ... *  n_{m})\n",
       "    core type: ExprTuple\n",
       "    sub-expressions: 37, 22\n",
       "20. _a -> (n_{_a} in NaturalPos)\n",
       "    core type: Lambda\n",
       "    parameter: 41\n",
       "    body: 23\n",
       "21. K^{n_{1}}, K^{n_{2}}, ..., K^{n_{m}}\n",
       "    core type: ExprRange\n",
       "    lambda_map: 24\n",
       "    start_index: 35\n",
       "    end_index: 36\n",
       "22. n_{1} *  n_{2} *  ... *  n_{m}\n",
       "    core type: Operation\n",
       "    operator: 25\n",
       "    operands: 26\n",
       "23. n_{_a} in NaturalPos\n",
       "    core type: Operation\n",
       "    operator: 27\n",
       "    operands: 28\n",
       "24. _a -> K^{n_{_a}}\n",
       "    core type: Lambda\n",
       "    parameter: 41\n",
       "    body: 29\n",
       "25. *\n",
       "    core type: Literal\n",
       "    sub-expressions: \n",
       "26. (n_{1}, n_{2}, ..., n_{m})\n",
       "    core type: ExprTuple\n",
       "    sub-expressions: 30\n",
       "27. in\n",
       "    core type: Literal\n",
       "    sub-expressions: \n",
       "28. (n_{_a}, NaturalPos)\n",
       "    core type: ExprTuple\n",
       "    sub-expressions: 38, 31\n",
       "29. K^{n_{_a}}\n",
       "    core type: Operation\n",
       "    operator: 32\n",
       "    operands: 33\n",
       "30. n_{1}, n_{2}, ..., n_{m}\n",
       "    core type: ExprRange\n",
       "    lambda_map: 34\n",
       "    start_index: 35\n",
       "    end_index: 36\n",
       "31. NaturalPos\n",
       "    core type: Literal\n",
       "    sub-expressions: \n",
       "32. CartExp\n",
       "    core type: Literal\n",
       "    sub-expressions: \n",
       "33. (K, n_{_a})\n",
       "    core type: ExprTuple\n",
       "    sub-expressions: 37, 38\n",
       "34. _a -> n_{_a}\n",
       "    core type: Lambda\n",
       "    parameter: 41\n",
       "    body: 38\n",
       "35. 1\n",
       "    core type: Literal\n",
       "    sub-expressions: \n",
       "36. m\n",
       "    core type: Variable\n",
       "    sub-expressions: \n",
       "37. K\n",
       "    core type: Variable\n",
       "    sub-expressions: \n",
       "38. n_{_a}\n",
       "    core type: IndexedVar\n",
       "variable: 39\n",
       "index: 41\n",
       "39. n\n",
       "    core type: Variable\n",
       "    sub-expressions: \n",
       "40. (_a)\n",
       "    core type: ExprTuple\n",
       "    sub-expressions: 41\n",
       "41. _a\n",
       "    core type: Variable\n",
       "    sub-expressions: "
      ]
     },
     "metadata": {},
     "output_type": "display_data"
    }
   ],
   "source": [
    "# display the expression information\n",
    "stored_expr.expr_info()"
   ]
  },
  {
   "cell_type": "code",
   "execution_count": null,
   "metadata": {},
   "outputs": [],
   "source": []
  }
 ],
 "metadata": {
  "kernelspec": {
   "display_name": "Python 3",
   "language": "python",
   "name": "python3"
  }
 },
 "nbformat": 4,
 "nbformat_minor": 0
}