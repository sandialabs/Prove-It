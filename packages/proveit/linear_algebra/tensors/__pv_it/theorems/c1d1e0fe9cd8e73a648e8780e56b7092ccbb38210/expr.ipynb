{
 "cells": [
  {
   "cell_type": "markdown",
   "metadata": {},
   "source": [
    "Expression of type <a class=\"ProveItLink\" href=\"../../../../../../../doc/html/api/proveit.ExprTuple.html\">ExprTuple</a>\n",
    "=======================\n",
    "# from the theory of <a class=\"ProveItLink\" href=\"../../../_theory_nbs_/theory.ipynb\">proveit.linear_algebra.tensors</a>"
   ]
  },
  {
   "cell_type": "code",
   "execution_count": 1,
   "metadata": {},
   "outputs": [],
   "source": [
    "import proveit\n",
    "# Automation is not needed when building an expression:\n",
    "proveit.defaults.automation = False # This will speed things up.\n",
    "proveit.defaults.inline_pngs = False # Makes files smaller.\n",
    "%load_expr # Load the stored expression as 'stored_expr'\n",
    "# import Expression classes needed to build the expression\n",
    "from proveit import Conditional, ExprTuple, Lambda, V, b\n",
    "from proveit.core_expr_types import a_1_to_i, c_1_to_k, d_1_to_i, e_1_to_k\n",
    "from proveit.linear_algebra import TensorProd\n",
    "from proveit.logic import Equals, Implies, InSet"
   ]
  },
  {
   "cell_type": "code",
   "execution_count": 2,
   "metadata": {},
   "outputs": [
    {
     "data": {
      "text/html": [
       "<strong id=\"expr\">expr:</strong> <a class=\"ProveItLink\" href=\"expr.ipynb\"><img src=\"expr.png\" style=\"display:inline;vertical-align:middle;\" /></a><br>"
      ],
      "text/plain": [
       "<IPython.core.display.HTML object>"
      ]
     },
     "metadata": {},
     "output_type": "display_data"
    }
   ],
   "source": [
    "# build up the expression from sub-expressions\n",
    "expr = ExprTuple(Lambda(b, Conditional(Implies(Equals(TensorProd(a_1_to_i, c_1_to_k), TensorProd(d_1_to_i, e_1_to_k)).with_wrapping_at(2), Equals(TensorProd(a_1_to_i, b, c_1_to_k), TensorProd(d_1_to_i, b, e_1_to_k)).with_wrapping_at(2)).with_wrapping_at(2), InSet(b, V))))"
   ]
  },
  {
   "cell_type": "code",
   "execution_count": 3,
   "metadata": {},
   "outputs": [
    {
     "name": "stdout",
     "output_type": "stream",
     "text": [
      "Passed sanity check: expr matches stored_expr\n"
     ]
    }
   ],
   "source": [
    "# check that the built expression is the same as the stored expression\n",
    "assert expr == stored_expr\n",
    "assert expr._style_id == stored_expr._style_id\n",
    "print(\"Passed sanity check: expr matches stored_expr\")"
   ]
  },
  {
   "cell_type": "code",
   "execution_count": 4,
   "metadata": {},
   "outputs": [
    {
     "name": "stdout",
     "output_type": "stream",
     "text": [
      "\\left(b \\mapsto \\left\\{\\begin{array}{c} \\begin{array}{l} \\left(\\begin{array}{c} \\begin{array}{l} \\left(a_{1} {\\otimes}  a_{2} {\\otimes}  \\ldots {\\otimes}  a_{i}{\\otimes} c_{1} {\\otimes}  c_{2} {\\otimes}  \\ldots {\\otimes}  c_{k}\\right) =  \\\\ \\left(d_{1} {\\otimes}  d_{2} {\\otimes}  \\ldots {\\otimes}  d_{i}{\\otimes} e_{1} {\\otimes}  e_{2} {\\otimes}  \\ldots {\\otimes}  e_{k}\\right) \\end{array} \\end{array}\\right) \\Rightarrow  \\\\ \\left(\\begin{array}{c} \\begin{array}{l} \\left(a_{1} {\\otimes}  a_{2} {\\otimes}  \\ldots {\\otimes}  a_{i} {\\otimes} b{\\otimes} c_{1} {\\otimes}  c_{2} {\\otimes}  \\ldots {\\otimes}  c_{k}\\right) =  \\\\ \\left(d_{1} {\\otimes}  d_{2} {\\otimes}  \\ldots {\\otimes}  d_{i} {\\otimes} b{\\otimes} e_{1} {\\otimes}  e_{2} {\\otimes}  \\ldots {\\otimes}  e_{k}\\right) \\end{array} \\end{array}\\right) \\end{array} \\end{array} \\textrm{ if } b \\in V\\right..\\right)\n"
     ]
    }
   ],
   "source": [
    "# Show the LaTeX representation of the expression for convenience if you need it.\n",
    "print(stored_expr.latex())"
   ]
  },
  {
   "cell_type": "code",
   "execution_count": 5,
   "metadata": {},
   "outputs": [
    {
     "data": {
      "text/html": [
       "no style options"
      ],
      "text/plain": [
       "no style options"
      ]
     },
     "metadata": {},
     "output_type": "display_data"
    }
   ],
   "source": [
    "stored_expr.style_options()"
   ]
  },
  {
   "cell_type": "code",
   "execution_count": 6,
   "metadata": {},
   "outputs": [
    {
     "data": {
      "text/html": [
       "<table><tr><th>&nbsp;</th><th>core type</th><th>sub-expressions</th><th>expression</th></tr>\n",
       "<tr><td>0</td><td>ExprTuple</td><td>1</td><td><a class=\"ProveItLink\" href=\"expr.ipynb\"><img src=\"expr.png\" style=\"display:inline;vertical-align:middle;\" /></a></td></tr>\n",
       "<tr><td>1</td><td>Lambda</td><td>parameter:&nbsp;28<br>body:&nbsp;3<br></td><td><a class=\"ProveItLink\" href=\"../9245960700199d17875ae41bd803fadc416c62340/expr.ipynb\"><img src=\"../9245960700199d17875ae41bd803fadc416c62340/expr.png\" style=\"display:inline;vertical-align:middle;\" /></a></td></tr>\n",
       "<tr><td>2</td><td>ExprTuple</td><td>28</td><td><a class=\"ProveItLink\" href=\"../../../../../__pv_it/common/aa9afb286c61bdccbd2125a13442930aa7bfad490/expr.ipynb\"><img src=\"../../../../../__pv_it/common/aa9afb286c61bdccbd2125a13442930aa7bfad490/expr.png\" style=\"display:inline;vertical-align:middle;\" /></a></td></tr>\n",
       "<tr><td>3</td><td>Conditional</td><td>value:&nbsp;4<br>condition:&nbsp;5<br></td><td><a class=\"ProveItLink\" href=\"../4bc3d4dd02f9c080cd20188506ad740c5103d3220/expr.ipynb\"><img src=\"../4bc3d4dd02f9c080cd20188506ad740c5103d3220/expr.png\" style=\"display:inline;vertical-align:middle;\" /></a></td></tr>\n",
       "<tr><td>4</td><td>Operation</td><td>operator:&nbsp;6<br>operands:&nbsp;7<br></td><td><a class=\"ProveItLink\" href=\"../d47c567b78676b73e1c817838cd4108fbe2db8250/expr.ipynb\"><img src=\"../d47c567b78676b73e1c817838cd4108fbe2db8250/expr.png\" style=\"display:inline;vertical-align:middle;\" /></a></td></tr>\n",
       "<tr><td>5</td><td>Operation</td><td>operator:&nbsp;8<br>operands:&nbsp;9<br></td><td><a class=\"ProveItLink\" href=\"../7d91466113017aab1ce6336115e473231f283f9c0/expr.ipynb\"><img src=\"../7d91466113017aab1ce6336115e473231f283f9c0/expr.png\" style=\"display:inline;vertical-align:middle;\" /></a></td></tr>\n",
       "<tr><td>6</td><td>Literal</td><td></td><td><a class=\"ProveItLink\" href=\"../../../../../logic/booleans/implication/__pv_it/common/02bdb382575728da8cdbaed545b9096ea7a1bd5b0/expr.ipynb\"><img src=\"../../../../../logic/booleans/implication/__pv_it/common/02bdb382575728da8cdbaed545b9096ea7a1bd5b0/expr.png\" style=\"display:inline;vertical-align:middle;\" /></a></td></tr>\n",
       "<tr><td>7</td><td>ExprTuple</td><td>10, 11</td><td><a class=\"ProveItLink\" href=\"../f87c7527ba9436accf391c840f140d585aae60b60/expr.ipynb\"><img src=\"../f87c7527ba9436accf391c840f140d585aae60b60/expr.png\" style=\"display:inline;vertical-align:middle;\" /></a></td></tr>\n",
       "<tr><td>8</td><td>Literal</td><td></td><td><a class=\"ProveItLink\" href=\"../../../../../logic/sets/membership/__pv_it/common/477487d8796864d23d5810f83761435f25167f690/expr.ipynb\"><img src=\"../../../../../logic/sets/membership/__pv_it/common/477487d8796864d23d5810f83761435f25167f690/expr.png\" style=\"display:inline;vertical-align:middle;\" /></a></td></tr>\n",
       "<tr><td>9</td><td>ExprTuple</td><td>28, 12</td><td><a class=\"ProveItLink\" href=\"../a4ae5040c083f3a026f1804e79b3416eb651a3ef0/expr.ipynb\"><img src=\"../a4ae5040c083f3a026f1804e79b3416eb651a3ef0/expr.png\" style=\"display:inline;vertical-align:middle;\" /></a></td></tr>\n",
       "<tr><td>10</td><td>Operation</td><td>operator:&nbsp;14<br>operands:&nbsp;13<br></td><td><a class=\"ProveItLink\" href=\"../f627fda173f08890c1cf55da7bbcc4c53b5f5ad40/expr.ipynb\"><img src=\"../f627fda173f08890c1cf55da7bbcc4c53b5f5ad40/expr.png\" style=\"display:inline;vertical-align:middle;\" /></a></td></tr>\n",
       "<tr><td>11</td><td>Operation</td><td>operator:&nbsp;14<br>operands:&nbsp;15<br></td><td><a class=\"ProveItLink\" href=\"../229fb111dab7abf01b615d1353239a6f5eeb9cf30/expr.ipynb\"><img src=\"../229fb111dab7abf01b615d1353239a6f5eeb9cf30/expr.png\" style=\"display:inline;vertical-align:middle;\" /></a></td></tr>\n",
       "<tr><td>12</td><td>Variable</td><td></td><td><a class=\"ProveItLink\" href=\"../../../../../__pv_it/common/6d80eb1398b2335bf9ec427954b851b7094dced50/expr.ipynb\"><img src=\"../../../../../__pv_it/common/6d80eb1398b2335bf9ec427954b851b7094dced50/expr.png\" style=\"display:inline;vertical-align:middle;\" /></a></td></tr>\n",
       "<tr><td>13</td><td>ExprTuple</td><td>16, 17</td><td><a class=\"ProveItLink\" href=\"../0fa620f9592cf836ebf2c4e1ec5947cf831b939a0/expr.ipynb\"><img src=\"../0fa620f9592cf836ebf2c4e1ec5947cf831b939a0/expr.png\" style=\"display:inline;vertical-align:middle;\" /></a></td></tr>\n",
       "<tr><td>14</td><td>Literal</td><td></td><td><a class=\"ProveItLink\" href=\"../../../../../logic/equality/__pv_it/common/fb96dc12b2aa8801dda64d0132b396c63d1502bb0/expr.ipynb\"><img src=\"../../../../../logic/equality/__pv_it/common/fb96dc12b2aa8801dda64d0132b396c63d1502bb0/expr.png\" style=\"display:inline;vertical-align:middle;\" /></a></td></tr>\n",
       "<tr><td>15</td><td>ExprTuple</td><td>18, 19</td><td><a class=\"ProveItLink\" href=\"../7ab7f00f07c5797f13fb419d0b1818ed19865f110/expr.ipynb\"><img src=\"../7ab7f00f07c5797f13fb419d0b1818ed19865f110/expr.png\" style=\"display:inline;vertical-align:middle;\" /></a></td></tr>\n",
       "<tr><td>16</td><td>Operation</td><td>operator:&nbsp;23<br>operands:&nbsp;20<br></td><td><a class=\"ProveItLink\" href=\"../3062cf34665ecfc9706ef2df91ec98d920a4d3f00/expr.ipynb\"><img src=\"../3062cf34665ecfc9706ef2df91ec98d920a4d3f00/expr.png\" style=\"display:inline;vertical-align:middle;\" /></a></td></tr>\n",
       "<tr><td>17</td><td>Operation</td><td>operator:&nbsp;23<br>operands:&nbsp;21<br></td><td><a class=\"ProveItLink\" href=\"../288857e89ad4b4c340f5aa1abffb7559dd6f55b30/expr.ipynb\"><img src=\"../288857e89ad4b4c340f5aa1abffb7559dd6f55b30/expr.png\" style=\"display:inline;vertical-align:middle;\" /></a></td></tr>\n",
       "<tr><td>18</td><td>Operation</td><td>operator:&nbsp;23<br>operands:&nbsp;22<br></td><td><a class=\"ProveItLink\" href=\"../f8dffb66f8152ce27e382ff239af0740e37392e50/expr.ipynb\"><img src=\"../f8dffb66f8152ce27e382ff239af0740e37392e50/expr.png\" style=\"display:inline;vertical-align:middle;\" /></a></td></tr>\n",
       "<tr><td>19</td><td>Operation</td><td>operator:&nbsp;23<br>operands:&nbsp;24<br></td><td><a class=\"ProveItLink\" href=\"../62f17984465ed3f40b39bf1f2b1b31c5ecd2d8540/expr.ipynb\"><img src=\"../62f17984465ed3f40b39bf1f2b1b31c5ecd2d8540/expr.png\" style=\"display:inline;vertical-align:middle;\" /></a></td></tr>\n",
       "<tr><td>20</td><td>ExprTuple</td><td>25, 26</td><td><a class=\"ProveItLink\" href=\"../890389c66291860998d8c722fca568b40f9366c90/expr.ipynb\"><img src=\"../890389c66291860998d8c722fca568b40f9366c90/expr.png\" style=\"display:inline;vertical-align:middle;\" /></a></td></tr>\n",
       "<tr><td>21</td><td>ExprTuple</td><td>27, 29</td><td><a class=\"ProveItLink\" href=\"../aed1380a8a8e84ae73c2d829a59d722f6ee572f00/expr.ipynb\"><img src=\"../aed1380a8a8e84ae73c2d829a59d722f6ee572f00/expr.png\" style=\"display:inline;vertical-align:middle;\" /></a></td></tr>\n",
       "<tr><td>22</td><td>ExprTuple</td><td>25, 28, 26</td><td><a class=\"ProveItLink\" href=\"../194d29058de4b16af97cb25a9f717e32c794281c0/expr.ipynb\"><img src=\"../194d29058de4b16af97cb25a9f717e32c794281c0/expr.png\" style=\"display:inline;vertical-align:middle;\" /></a></td></tr>\n",
       "<tr><td>23</td><td>Literal</td><td></td><td><a class=\"ProveItLink\" href=\"../../common/7fa25b05174babb4710be62d63ebd43f68aa2fec0/expr.ipynb\"><img src=\"../../common/7fa25b05174babb4710be62d63ebd43f68aa2fec0/expr.png\" style=\"display:inline;vertical-align:middle;\" /></a></td></tr>\n",
       "<tr><td>24</td><td>ExprTuple</td><td>27, 28, 29</td><td><a class=\"ProveItLink\" href=\"../c75e26367c7dfe10d64e0ed571e176aa737ad7b10/expr.ipynb\"><img src=\"../c75e26367c7dfe10d64e0ed571e176aa737ad7b10/expr.png\" style=\"display:inline;vertical-align:middle;\" /></a></td></tr>\n",
       "<tr><td>25</td><td>ExprRange</td><td>lambda_map:&nbsp;30<br>start_index:&nbsp;35<br>end_index:&nbsp;33<br></td><td><a class=\"ProveItLink\" href=\"../../../../../core_expr_types/__pv_it/common/7230c683fcd56948c826ac1be71b01b6fb2913950/expr.ipynb\"><img src=\"../../../../../core_expr_types/__pv_it/common/7230c683fcd56948c826ac1be71b01b6fb2913950/expr.png\" style=\"display:inline;vertical-align:middle;\" /></a></td></tr>\n",
       "<tr><td>26</td><td>ExprRange</td><td>lambda_map:&nbsp;31<br>start_index:&nbsp;35<br>end_index:&nbsp;36<br></td><td><a class=\"ProveItLink\" href=\"../../../../../core_expr_types/__pv_it/common/847fd9e18bcb1cd068c4b44622f3fd12a6ad6a150/expr.ipynb\"><img src=\"../../../../../core_expr_types/__pv_it/common/847fd9e18bcb1cd068c4b44622f3fd12a6ad6a150/expr.png\" style=\"display:inline;vertical-align:middle;\" /></a></td></tr>\n",
       "<tr><td>27</td><td>ExprRange</td><td>lambda_map:&nbsp;32<br>start_index:&nbsp;35<br>end_index:&nbsp;33<br></td><td><a class=\"ProveItLink\" href=\"../../../../../core_expr_types/__pv_it/common/37a91a137e264e047f9b455f2dd46a6e393f2ba70/expr.ipynb\"><img src=\"../../../../../core_expr_types/__pv_it/common/37a91a137e264e047f9b455f2dd46a6e393f2ba70/expr.png\" style=\"display:inline;vertical-align:middle;\" /></a></td></tr>\n",
       "<tr><td>28</td><td>Variable</td><td></td><td><a class=\"ProveItLink\" href=\"../../../../../__pv_it/common/195236b98c6c564a75b5dbada74b173bc52d5c3e0/expr.ipynb\"><img src=\"../../../../../__pv_it/common/195236b98c6c564a75b5dbada74b173bc52d5c3e0/expr.png\" style=\"display:inline;vertical-align:middle;\" /></a></td></tr>\n",
       "<tr><td>29</td><td>ExprRange</td><td>lambda_map:&nbsp;34<br>start_index:&nbsp;35<br>end_index:&nbsp;36<br></td><td><a class=\"ProveItLink\" href=\"../../../../../core_expr_types/__pv_it/common/3376976bcf2562d502a659e9c7aba88d9834398b0/expr.ipynb\"><img src=\"../../../../../core_expr_types/__pv_it/common/3376976bcf2562d502a659e9c7aba88d9834398b0/expr.png\" style=\"display:inline;vertical-align:middle;\" /></a></td></tr>\n",
       "<tr><td>30</td><td>Lambda</td><td>parameter:&nbsp;46<br>body:&nbsp;37<br></td><td><a class=\"ProveItLink\" href=\"../../../../../core_expr_types/__pv_it/common/1527ad383e12f9c6ed6b371c9a7dd1892d80da1b0/expr.ipynb\"><img src=\"../../../../../core_expr_types/__pv_it/common/1527ad383e12f9c6ed6b371c9a7dd1892d80da1b0/expr.png\" style=\"display:inline;vertical-align:middle;\" /></a></td></tr>\n",
       "<tr><td>31</td><td>Lambda</td><td>parameter:&nbsp;46<br>body:&nbsp;38<br></td><td><a class=\"ProveItLink\" href=\"../../../../../core_expr_types/__pv_it/common/89a29b5b02ce6c37577f6352274a3d503dcdde3e0/expr.ipynb\"><img src=\"../../../../../core_expr_types/__pv_it/common/89a29b5b02ce6c37577f6352274a3d503dcdde3e0/expr.png\" style=\"display:inline;vertical-align:middle;\" /></a></td></tr>\n",
       "<tr><td>32</td><td>Lambda</td><td>parameter:&nbsp;46<br>body:&nbsp;39<br></td><td><a class=\"ProveItLink\" href=\"../../../../../core_expr_types/__pv_it/common/d3ace47f4a0b55b1c2a23933ff859e7281a4d6050/expr.ipynb\"><img src=\"../../../../../core_expr_types/__pv_it/common/d3ace47f4a0b55b1c2a23933ff859e7281a4d6050/expr.png\" style=\"display:inline;vertical-align:middle;\" /></a></td></tr>\n",
       "<tr><td>33</td><td>Variable</td><td></td><td><a class=\"ProveItLink\" href=\"../../../../../__pv_it/common/ae955345c83abf786c3aff8681cd5465beae262d0/expr.ipynb\"><img src=\"../../../../../__pv_it/common/ae955345c83abf786c3aff8681cd5465beae262d0/expr.png\" style=\"display:inline;vertical-align:middle;\" /></a></td></tr>\n",
       "<tr><td>34</td><td>Lambda</td><td>parameter:&nbsp;46<br>body:&nbsp;40<br></td><td><a class=\"ProveItLink\" href=\"../../../../../core_expr_types/__pv_it/common/038073acf832702e46d5567264ba7f0bbd206ae20/expr.ipynb\"><img src=\"../../../../../core_expr_types/__pv_it/common/038073acf832702e46d5567264ba7f0bbd206ae20/expr.png\" style=\"display:inline;vertical-align:middle;\" /></a></td></tr>\n",
       "<tr><td>35</td><td>Literal</td><td></td><td><a class=\"ProveItLink\" href=\"../../../../../numbers/numerals/__pv_it/common/682157d4892d216d9e5626ed533aff9b56b9506e0/expr.ipynb\"><img src=\"../../../../../numbers/numerals/__pv_it/common/682157d4892d216d9e5626ed533aff9b56b9506e0/expr.png\" style=\"display:inline;vertical-align:middle;\" /></a></td></tr>\n",
       "<tr><td>36</td><td>Variable</td><td></td><td><a class=\"ProveItLink\" href=\"../../../../../__pv_it/common/63b7c64bf9ec7a04ecc396c7a1670f3f12fb59490/expr.ipynb\"><img src=\"../../../../../__pv_it/common/63b7c64bf9ec7a04ecc396c7a1670f3f12fb59490/expr.png\" style=\"display:inline;vertical-align:middle;\" /></a></td></tr>\n",
       "<tr><td>37</td><td>IndexedVar</td><td>variable:&nbsp;41<br>index:&nbsp;46<br></td><td><a class=\"ProveItLink\" href=\"../../../../../core_expr_types/__pv_it/common/3a62c13e156d62d52fe585fa37cc2172fcf685260/expr.ipynb\"><img src=\"../../../../../core_expr_types/__pv_it/common/3a62c13e156d62d52fe585fa37cc2172fcf685260/expr.png\" style=\"display:inline;vertical-align:middle;\" /></a></td></tr>\n",
       "<tr><td>38</td><td>IndexedVar</td><td>variable:&nbsp;42<br>index:&nbsp;46<br></td><td><a class=\"ProveItLink\" href=\"../../../../../core_expr_types/__pv_it/common/8ffbefe913f7c934b2e3a2a12315d5900822d9d00/expr.ipynb\"><img src=\"../../../../../core_expr_types/__pv_it/common/8ffbefe913f7c934b2e3a2a12315d5900822d9d00/expr.png\" style=\"display:inline;vertical-align:middle;\" /></a></td></tr>\n",
       "<tr><td>39</td><td>IndexedVar</td><td>variable:&nbsp;43<br>index:&nbsp;46<br></td><td><a class=\"ProveItLink\" href=\"../../../../../core_expr_types/__pv_it/common/5bf4b29ec6330e454e20c2d5b902497b0b859a880/expr.ipynb\"><img src=\"../../../../../core_expr_types/__pv_it/common/5bf4b29ec6330e454e20c2d5b902497b0b859a880/expr.png\" style=\"display:inline;vertical-align:middle;\" /></a></td></tr>\n",
       "<tr><td>40</td><td>IndexedVar</td><td>variable:&nbsp;44<br>index:&nbsp;46<br></td><td><a class=\"ProveItLink\" href=\"../../../../../core_expr_types/__pv_it/common/a2bd18627541d98e16d05d7b7bd62c55a5bbf8310/expr.ipynb\"><img src=\"../../../../../core_expr_types/__pv_it/common/a2bd18627541d98e16d05d7b7bd62c55a5bbf8310/expr.png\" style=\"display:inline;vertical-align:middle;\" /></a></td></tr>\n",
       "<tr><td>41</td><td>Variable</td><td></td><td><a class=\"ProveItLink\" href=\"../../../../../__pv_it/common/c06c606ec12678c58933ac85412ecadc2ae28be60/expr.ipynb\"><img src=\"../../../../../__pv_it/common/c06c606ec12678c58933ac85412ecadc2ae28be60/expr.png\" style=\"display:inline;vertical-align:middle;\" /></a></td></tr>\n",
       "<tr><td>42</td><td>Variable</td><td></td><td><a class=\"ProveItLink\" href=\"../../../../../__pv_it/common/ceef4280a2f1cc604b455b54e735507244cc62cd0/expr.ipynb\"><img src=\"../../../../../__pv_it/common/ceef4280a2f1cc604b455b54e735507244cc62cd0/expr.png\" style=\"display:inline;vertical-align:middle;\" /></a></td></tr>\n",
       "<tr><td>43</td><td>Variable</td><td></td><td><a class=\"ProveItLink\" href=\"../../../../../__pv_it/common/4f5c524ffda87296de1c79b96880123fe2efedd50/expr.ipynb\"><img src=\"../../../../../__pv_it/common/4f5c524ffda87296de1c79b96880123fe2efedd50/expr.png\" style=\"display:inline;vertical-align:middle;\" /></a></td></tr>\n",
       "<tr><td>44</td><td>Variable</td><td></td><td><a class=\"ProveItLink\" href=\"../../../../../__pv_it/common/f3b2e5223a46d6d30e0676b70270e0fb96f45ce80/expr.ipynb\"><img src=\"../../../../../__pv_it/common/f3b2e5223a46d6d30e0676b70270e0fb96f45ce80/expr.png\" style=\"display:inline;vertical-align:middle;\" /></a></td></tr>\n",
       "<tr><td>45</td><td>ExprTuple</td><td>46</td><td><a class=\"ProveItLink\" href=\"../../../../../core_expr_types/__pv_it/common/4b0dd6be36d76552eda6a95d5b4a27f5a5b62f900/expr.ipynb\"><img src=\"../../../../../core_expr_types/__pv_it/common/4b0dd6be36d76552eda6a95d5b4a27f5a5b62f900/expr.png\" style=\"display:inline;vertical-align:middle;\" /></a></td></tr>\n",
       "<tr><td>46</td><td>Variable</td><td></td><td><a class=\"ProveItLink\" href=\"../../../../../core_expr_types/__pv_it/common/006c465e50948aa2b52285e2de47974f741255cc0/expr.ipynb\"><img src=\"../../../../../core_expr_types/__pv_it/common/006c465e50948aa2b52285e2de47974f741255cc0/expr.png\" style=\"display:inline;vertical-align:middle;\" /></a></td></tr>\n",
       "</table>\n"
      ],
      "text/plain": [
       "0. (b -> {((a_{1} otimes  a_{2} otimes  ... otimes  a_{i}otimes c_{1} otimes  c_{2} otimes  ... otimes  c_{k}) =  \\\\ (d_{1} otimes  d_{2} otimes  ... otimes  d_{i}otimes e_{1} otimes  e_{2} otimes  ... otimes  e_{k})) =>  \\\\ ((a_{1} otimes  a_{2} otimes  ... otimes  a_{i} otimes botimes c_{1} otimes  c_{2} otimes  ... otimes  c_{k}) =  \\\\ (d_{1} otimes  d_{2} otimes  ... otimes  d_{i} otimes botimes e_{1} otimes  e_{2} otimes  ... otimes  e_{k})) if b in V.)\n",
       "   core type: ExprTuple\n",
       "   sub-expressions: 1\n",
       "1. b -> {((a_{1} otimes  a_{2} otimes  ... otimes  a_{i}otimes c_{1} otimes  c_{2} otimes  ... otimes  c_{k}) =  \\\\ (d_{1} otimes  d_{2} otimes  ... otimes  d_{i}otimes e_{1} otimes  e_{2} otimes  ... otimes  e_{k})) =>  \\\\ ((a_{1} otimes  a_{2} otimes  ... otimes  a_{i} otimes botimes c_{1} otimes  c_{2} otimes  ... otimes  c_{k}) =  \\\\ (d_{1} otimes  d_{2} otimes  ... otimes  d_{i} otimes botimes e_{1} otimes  e_{2} otimes  ... otimes  e_{k})) if b in V.\n",
       "   core type: Lambda\n",
       "   parameter: 28\n",
       "   body: 3\n",
       "2. (b)\n",
       "   core type: ExprTuple\n",
       "   sub-expressions: 28\n",
       "3. {((a_{1} otimes  a_{2} otimes  ... otimes  a_{i}otimes c_{1} otimes  c_{2} otimes  ... otimes  c_{k}) =  \\\\ (d_{1} otimes  d_{2} otimes  ... otimes  d_{i}otimes e_{1} otimes  e_{2} otimes  ... otimes  e_{k})) =>  \\\\ ((a_{1} otimes  a_{2} otimes  ... otimes  a_{i} otimes botimes c_{1} otimes  c_{2} otimes  ... otimes  c_{k}) =  \\\\ (d_{1} otimes  d_{2} otimes  ... otimes  d_{i} otimes botimes e_{1} otimes  e_{2} otimes  ... otimes  e_{k})) if b in V.\n",
       "   core type: Conditional\n",
       "   value: 4\n",
       "   condition: 5\n",
       "4. ((a_{1} otimes  a_{2} otimes  ... otimes  a_{i}otimes c_{1} otimes  c_{2} otimes  ... otimes  c_{k}) =  \\\\ (d_{1} otimes  d_{2} otimes  ... otimes  d_{i}otimes e_{1} otimes  e_{2} otimes  ... otimes  e_{k})) =>  \\\\ ((a_{1} otimes  a_{2} otimes  ... otimes  a_{i} otimes botimes c_{1} otimes  c_{2} otimes  ... otimes  c_{k}) =  \\\\ (d_{1} otimes  d_{2} otimes  ... otimes  d_{i} otimes botimes e_{1} otimes  e_{2} otimes  ... otimes  e_{k}))\n",
       "   core type: Operation\n",
       "   operator: 6\n",
       "   operands: 7\n",
       "5. b in V\n",
       "   core type: Operation\n",
       "   operator: 8\n",
       "   operands: 9\n",
       "6. =>\n",
       "   core type: Literal\n",
       "   sub-expressions: \n",
       "7. ((a_{1} otimes  a_{2} otimes  ... otimes  a_{i}otimes c_{1} otimes  c_{2} otimes  ... otimes  c_{k}) =  \\\\ (d_{1} otimes  d_{2} otimes  ... otimes  d_{i}otimes e_{1} otimes  e_{2} otimes  ... otimes  e_{k}), (a_{1} otimes  a_{2} otimes  ... otimes  a_{i} otimes botimes c_{1} otimes  c_{2} otimes  ... otimes  c_{k}) =  \\\\ (d_{1} otimes  d_{2} otimes  ... otimes  d_{i} otimes botimes e_{1} otimes  e_{2} otimes  ... otimes  e_{k}))\n",
       "   core type: ExprTuple\n",
       "   sub-expressions: 10, 11\n",
       "8. in\n",
       "   core type: Literal\n",
       "   sub-expressions: \n",
       "9. (b, V)\n",
       "   core type: ExprTuple\n",
       "   sub-expressions: 28, 12\n",
       "10. (a_{1} otimes  a_{2} otimes  ... otimes  a_{i}otimes c_{1} otimes  c_{2} otimes  ... otimes  c_{k}) =  \\\\ (d_{1} otimes  d_{2} otimes  ... otimes  d_{i}otimes e_{1} otimes  e_{2} otimes  ... otimes  e_{k})\n",
       "    core type: Operation\n",
       "    operator: 14\n",
       "    operands: 13\n",
       "11. (a_{1} otimes  a_{2} otimes  ... otimes  a_{i} otimes botimes c_{1} otimes  c_{2} otimes  ... otimes  c_{k}) =  \\\\ (d_{1} otimes  d_{2} otimes  ... otimes  d_{i} otimes botimes e_{1} otimes  e_{2} otimes  ... otimes  e_{k})\n",
       "    core type: Operation\n",
       "    operator: 14\n",
       "    operands: 15\n",
       "12. V\n",
       "    core type: Variable\n",
       "    sub-expressions: \n",
       "13. (a_{1} otimes  a_{2} otimes  ... otimes  a_{i}otimes c_{1} otimes  c_{2} otimes  ... otimes  c_{k}, d_{1} otimes  d_{2} otimes  ... otimes  d_{i}otimes e_{1} otimes  e_{2} otimes  ... otimes  e_{k})\n",
       "    core type: ExprTuple\n",
       "    sub-expressions: 16, 17\n",
       "14. =\n",
       "    core type: Literal\n",
       "    sub-expressions: \n",
       "15. (a_{1} otimes  a_{2} otimes  ... otimes  a_{i} otimes botimes c_{1} otimes  c_{2} otimes  ... otimes  c_{k}, d_{1} otimes  d_{2} otimes  ... otimes  d_{i} otimes botimes e_{1} otimes  e_{2} otimes  ... otimes  e_{k})\n",
       "    core type: ExprTuple\n",
       "    sub-expressions: 18, 19\n",
       "16. a_{1} otimes  a_{2} otimes  ... otimes  a_{i}otimes c_{1} otimes  c_{2} otimes  ... otimes  c_{k}\n",
       "    core type: Operation\n",
       "    operator: 23\n",
       "    operands: 20\n",
       "17. d_{1} otimes  d_{2} otimes  ... otimes  d_{i}otimes e_{1} otimes  e_{2} otimes  ... otimes  e_{k}\n",
       "    core type: Operation\n",
       "    operator: 23\n",
       "    operands: 21\n",
       "18. a_{1} otimes  a_{2} otimes  ... otimes  a_{i} otimes botimes c_{1} otimes  c_{2} otimes  ... otimes  c_{k}\n",
       "    core type: Operation\n",
       "    operator: 23\n",
       "    operands: 22\n",
       "19. d_{1} otimes  d_{2} otimes  ... otimes  d_{i} otimes botimes e_{1} otimes  e_{2} otimes  ... otimes  e_{k}\n",
       "    core type: Operation\n",
       "    operator: 23\n",
       "    operands: 24\n",
       "20. (a_{1}, a_{2}, ..., a_{i},c_{1}, c_{2}, ..., c_{k})\n",
       "    core type: ExprTuple\n",
       "    sub-expressions: 25, 26\n",
       "21. (d_{1}, d_{2}, ..., d_{i},e_{1}, e_{2}, ..., e_{k})\n",
       "    core type: ExprTuple\n",
       "    sub-expressions: 27, 29\n",
       "22. (a_{1}, a_{2}, ..., a_{i}, b,c_{1}, c_{2}, ..., c_{k})\n",
       "    core type: ExprTuple\n",
       "    sub-expressions: 25, 28, 26\n",
       "23. otimes\n",
       "    core type: Literal\n",
       "    sub-expressions: \n",
       "24. (d_{1}, d_{2}, ..., d_{i}, b,e_{1}, e_{2}, ..., e_{k})\n",
       "    core type: ExprTuple\n",
       "    sub-expressions: 27, 28, 29\n",
       "25. a_{1}, a_{2}, ..., a_{i}\n",
       "    core type: ExprRange\n",
       "    lambda_map: 30\n",
       "    start_index: 35\n",
       "    end_index: 33\n",
       "26. c_{1}, c_{2}, ..., c_{k}\n",
       "    core type: ExprRange\n",
       "    lambda_map: 31\n",
       "    start_index: 35\n",
       "    end_index: 36\n",
       "27. d_{1}, d_{2}, ..., d_{i}\n",
       "    core type: ExprRange\n",
       "    lambda_map: 32\n",
       "    start_index: 35\n",
       "    end_index: 33\n",
       "28. b\n",
       "    core type: Variable\n",
       "    sub-expressions: \n",
       "29. e_{1}, e_{2}, ..., e_{k}\n",
       "    core type: ExprRange\n",
       "    lambda_map: 34\n",
       "    start_index: 35\n",
       "    end_index: 36\n",
       "30. _a -> a_{_a}\n",
       "    core type: Lambda\n",
       "    parameter: 46\n",
       "    body: 37\n",
       "31. _a -> c_{_a}\n",
       "    core type: Lambda\n",
       "    parameter: 46\n",
       "    body: 38\n",
       "32. _a -> d_{_a}\n",
       "    core type: Lambda\n",
       "    parameter: 46\n",
       "    body: 39\n",
       "33. i\n",
       "    core type: Variable\n",
       "    sub-expressions: \n",
       "34. _a -> e_{_a}\n",
       "    core type: Lambda\n",
       "    parameter: 46\n",
       "    body: 40\n",
       "35. 1\n",
       "    core type: Literal\n",
       "    sub-expressions: \n",
       "36. k\n",
       "    core type: Variable\n",
       "    sub-expressions: \n",
       "37. a_{_a}\n",
       "    core type: IndexedVar\n",
       "variable: 41\n",
       "index: 46\n",
       "38. c_{_a}\n",
       "    core type: IndexedVar\n",
       "variable: 42\n",
       "index: 46\n",
       "39. d_{_a}\n",
       "    core type: IndexedVar\n",
       "variable: 43\n",
       "index: 46\n",
       "40. e_{_a}\n",
       "    core type: IndexedVar\n",
       "variable: 44\n",
       "index: 46\n",
       "41. a\n",
       "    core type: Variable\n",
       "    sub-expressions: \n",
       "42. c\n",
       "    core type: Variable\n",
       "    sub-expressions: \n",
       "43. d\n",
       "    core type: Variable\n",
       "    sub-expressions: \n",
       "44. e\n",
       "    core type: Variable\n",
       "    sub-expressions: \n",
       "45. (_a)\n",
       "    core type: ExprTuple\n",
       "    sub-expressions: 46\n",
       "46. _a\n",
       "    core type: Variable\n",
       "    sub-expressions: "
      ]
     },
     "metadata": {},
     "output_type": "display_data"
    }
   ],
   "source": [
    "# display the expression information\n",
    "stored_expr.expr_info()"
   ]
  },
  {
   "cell_type": "code",
   "execution_count": null,
   "metadata": {},
   "outputs": [],
   "source": []
  }
 ],
 "metadata": {
  "kernelspec": {
   "display_name": "Python 3",
   "language": "python",
   "name": "python3"
  }
 },
 "nbformat": 4,
 "nbformat_minor": 0
}