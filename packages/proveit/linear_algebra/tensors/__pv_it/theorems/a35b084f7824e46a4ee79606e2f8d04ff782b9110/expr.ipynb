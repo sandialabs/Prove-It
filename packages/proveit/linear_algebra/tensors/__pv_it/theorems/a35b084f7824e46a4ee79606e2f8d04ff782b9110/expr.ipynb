{
 "cells": [
  {
   "cell_type": "markdown",
   "metadata": {},
   "source": [
    "Expression of type <a class=\"ProveItLink\" href=\"../../../../../../../doc/html/api/proveit.Conditional.html\">Conditional</a>\n",
    "=======================\n",
    "# from the theory of <a class=\"ProveItLink\" href=\"../../../_theory_nbs_/theory.ipynb\">proveit.linear_algebra.tensors</a>"
   ]
  },
  {
   "cell_type": "code",
   "execution_count": 1,
   "metadata": {},
   "outputs": [],
   "source": [
    "import proveit\n",
    "# Automation is not needed when building an expression:\n",
    "proveit.defaults.automation = False # This will speed things up.\n",
    "proveit.defaults.inline_pngs = False # Makes files smaller.\n",
    "%load_expr # Load the stored expression as 'stored_expr'\n",
    "# import Expression classes needed to build the expression\n",
    "from proveit import Conditional, ExprRange, IndexedVar, K, V, Variable, a, i\n",
    "from proveit.core_expr_types import V_1_to_i, a_1_to_i\n",
    "from proveit.linear_algebra import InnerProdSpaces, Norm, TensorProd\n",
    "from proveit.logic import And, Equals, Forall, InClass\n",
    "from proveit.numbers import one"
   ]
  },
  {
   "cell_type": "code",
   "execution_count": 2,
   "metadata": {},
   "outputs": [
    {
     "data": {
      "text/html": [
       "<strong id=\"expr\">expr:</strong> <a class=\"ProveItLink\" href=\"expr.ipynb\"><img src=\"expr.png\" style=\"display:inline;vertical-align:middle;\" /></a><br>"
      ],
      "text/plain": [
       "<IPython.core.display.HTML object>"
      ]
     },
     "metadata": {},
     "output_type": "display_data"
    }
   ],
   "source": [
    "# build up the expression from sub-expressions\n",
    "sub_expr1 = Variable(\"_a\", latex_format = r\"{_{-}a}\")\n",
    "expr = Conditional(Forall(instance_param_or_params = [a_1_to_i], instance_expr = Equals(Norm(TensorProd(a_1_to_i)), one), domains = [V_1_to_i], condition = And(ExprRange(sub_expr1, Equals(Norm(IndexedVar(a, sub_expr1)), one), one, i))).with_wrapping(), And(ExprRange(sub_expr1, InClass(IndexedVar(V, sub_expr1), InnerProdSpaces(K)), one, i)))"
   ]
  },
  {
   "cell_type": "code",
   "execution_count": 3,
   "metadata": {},
   "outputs": [
    {
     "name": "stdout",
     "output_type": "stream",
     "text": [
      "Passed sanity check: expr matches stored_expr\n"
     ]
    }
   ],
   "source": [
    "# check that the built expression is the same as the stored expression\n",
    "assert expr == stored_expr\n",
    "assert expr._style_id == stored_expr._style_id\n",
    "print(\"Passed sanity check: expr matches stored_expr\")"
   ]
  },
  {
   "cell_type": "code",
   "execution_count": 4,
   "metadata": {},
   "outputs": [
    {
     "name": "stdout",
     "output_type": "stream",
     "text": [
      "\\left\\{\\begin{array}{l}\\forall_{\\left(a_{1} \\in V_{1}\\right), \\left(a_{2} \\in V_{2}\\right), \\ldots, \\left(a_{i} \\in V_{i}\\right)~|~\\left(\\left \\|a_{1}\\right \\| = 1\\right) \\land  \\left(\\left \\|a_{2}\\right \\| = 1\\right) \\land  \\ldots \\land  \\left(\\left \\|a_{i}\\right \\| = 1\\right)}~\\\\\n",
      "\\left(\\left \\|a_{1} {\\otimes}  a_{2} {\\otimes}  \\ldots {\\otimes}  a_{i}\\right \\| = 1\\right)\\end{array} \\textrm{ if } \\left(V_{1} \\underset{{\\scriptscriptstyle c}}{\\in} \\textrm{InnerProdSpaces}\\left(K\\right)\\right) \\land  \\left(V_{2} \\underset{{\\scriptscriptstyle c}}{\\in} \\textrm{InnerProdSpaces}\\left(K\\right)\\right) \\land  \\ldots \\land  \\left(V_{i} \\underset{{\\scriptscriptstyle c}}{\\in} \\textrm{InnerProdSpaces}\\left(K\\right)\\right)\\right..\n"
     ]
    }
   ],
   "source": [
    "# Show the LaTeX representation of the expression for convenience if you need it.\n",
    "print(stored_expr.latex())"
   ]
  },
  {
   "cell_type": "code",
   "execution_count": 5,
   "metadata": {},
   "outputs": [
    {
     "data": {
      "text/html": [
       "<table>\n",
       "<tr><th>name</th><th>description</th><th>default</th><th>current value</th><th>related methods</th></tr><tr><td>condition_delimiter</td><td>'comma' or 'and'</td><td>comma</td><td>comma</td><td>('with_comma_delimiter', 'with_conjunction_delimiter')</td></tr>\n",
       "</table>\n"
      ],
      "text/plain": [
       "style name: condition_delimiter\n",
       "description: 'comma' or 'and'\n",
       "default: comma\n",
       "current value: comma\n",
       "related methods: ('with_comma_delimiter', 'with_conjunction_delimiter')"
      ]
     },
     "metadata": {},
     "output_type": "display_data"
    }
   ],
   "source": [
    "stored_expr.style_options()"
   ]
  },
  {
   "cell_type": "code",
   "execution_count": 6,
   "metadata": {},
   "outputs": [
    {
     "data": {
      "text/html": [
       "<table><tr><th>&nbsp;</th><th>core type</th><th>sub-expressions</th><th>expression</th></tr>\n",
       "<tr><td>0</td><td>Conditional</td><td>value:&nbsp;1<br>condition:&nbsp;2<br></td><td><a class=\"ProveItLink\" href=\"expr.ipynb\"><img src=\"expr.png\" style=\"display:inline;vertical-align:middle;\" /></a></td></tr>\n",
       "<tr><td>1</td><td>Operation</td><td>operator:&nbsp;3<br>operand:&nbsp;6<br></td><td><a class=\"ProveItLink\" href=\"../2046e58f32886729c61590f45fbe6d0c31c3fa490/expr.ipynb\"><img src=\"../2046e58f32886729c61590f45fbe6d0c31c3fa490/expr.png\" style=\"display:inline;vertical-align:middle;\" /></a></td></tr>\n",
       "<tr><td>2</td><td>Operation</td><td>operator:&nbsp;23<br>operands:&nbsp;5<br></td><td><a class=\"ProveItLink\" href=\"../a0c9e753a16e8a58312a6eb8534b260f81cb68b10/expr.ipynb\"><img src=\"../a0c9e753a16e8a58312a6eb8534b260f81cb68b10/expr.png\" style=\"display:inline;vertical-align:middle;\" /></a></td></tr>\n",
       "<tr><td>3</td><td>Literal</td><td></td><td><a class=\"ProveItLink\" href=\"../../../../../logic/booleans/quantification/universality/__pv_it/common/083d2baa0b8ecab1d230f9ec29a15aa1355809fb0/expr.ipynb\"><img src=\"../../../../../logic/booleans/quantification/universality/__pv_it/common/083d2baa0b8ecab1d230f9ec29a15aa1355809fb0/expr.png\" style=\"display:inline;vertical-align:middle;\" /></a></td></tr>\n",
       "<tr><td>4</td><td>ExprTuple</td><td>6</td><td><a class=\"ProveItLink\" href=\"../0871d9b8d8d51df0432c88b70e60f7dbd6a24b7a0/expr.ipynb\"><img src=\"../0871d9b8d8d51df0432c88b70e60f7dbd6a24b7a0/expr.png\" style=\"display:inline;vertical-align:middle;\" /></a></td></tr>\n",
       "<tr><td>5</td><td>ExprTuple</td><td>7</td><td><a class=\"ProveItLink\" href=\"../4f8cbb54baa30298dd532ae0ff2e92c13f0361b50/expr.ipynb\"><img src=\"../4f8cbb54baa30298dd532ae0ff2e92c13f0361b50/expr.png\" style=\"display:inline;vertical-align:middle;\" /></a></td></tr>\n",
       "<tr><td>6</td><td>Lambda</td><td>parameters:&nbsp;32<br>body:&nbsp;8<br></td><td><a class=\"ProveItLink\" href=\"../3d5077533d62a4c325c8e649618f715727968c580/expr.ipynb\"><img src=\"../3d5077533d62a4c325c8e649618f715727968c580/expr.png\" style=\"display:inline;vertical-align:middle;\" /></a></td></tr>\n",
       "<tr><td>7</td><td>ExprRange</td><td>lambda_map:&nbsp;9<br>start_index:&nbsp;45<br>end_index:&nbsp;40<br></td><td><a class=\"ProveItLink\" href=\"../e6629281582b1f02007ebd1be5ee14c4b851d1a70/expr.ipynb\"><img src=\"../e6629281582b1f02007ebd1be5ee14c4b851d1a70/expr.png\" style=\"display:inline;vertical-align:middle;\" /></a></td></tr>\n",
       "<tr><td>8</td><td>Conditional</td><td>value:&nbsp;10<br>condition:&nbsp;11<br></td><td><a class=\"ProveItLink\" href=\"../ee76add59297432c11fd3fbeab7e0bf540e1d14d0/expr.ipynb\"><img src=\"../ee76add59297432c11fd3fbeab7e0bf540e1d14d0/expr.png\" style=\"display:inline;vertical-align:middle;\" /></a></td></tr>\n",
       "<tr><td>9</td><td>Lambda</td><td>parameter:&nbsp;51<br>body:&nbsp;12<br></td><td><a class=\"ProveItLink\" href=\"../839d308841eaeebaaec08f2a3c2997dddc9227510/expr.ipynb\"><img src=\"../839d308841eaeebaaec08f2a3c2997dddc9227510/expr.png\" style=\"display:inline;vertical-align:middle;\" /></a></td></tr>\n",
       "<tr><td>10</td><td>Operation</td><td>operator:&nbsp;42<br>operands:&nbsp;13<br></td><td><a class=\"ProveItLink\" href=\"../41bc4a1940c15157ca86103615ddb1c546d9d5610/expr.ipynb\"><img src=\"../41bc4a1940c15157ca86103615ddb1c546d9d5610/expr.png\" style=\"display:inline;vertical-align:middle;\" /></a></td></tr>\n",
       "<tr><td>11</td><td>Operation</td><td>operator:&nbsp;23<br>operands:&nbsp;14<br></td><td><a class=\"ProveItLink\" href=\"../604e3262ef4558d45c0ec1951033da7ce30456ba0/expr.ipynb\"><img src=\"../604e3262ef4558d45c0ec1951033da7ce30456ba0/expr.png\" style=\"display:inline;vertical-align:middle;\" /></a></td></tr>\n",
       "<tr><td>12</td><td>Operation</td><td>operator:&nbsp;15<br>operands:&nbsp;16<br></td><td><a class=\"ProveItLink\" href=\"../2b091d0a07b4289df47e39d8d8a7e3710cfd59d00/expr.ipynb\"><img src=\"../2b091d0a07b4289df47e39d8d8a7e3710cfd59d00/expr.png\" style=\"display:inline;vertical-align:middle;\" /></a></td></tr>\n",
       "<tr><td>13</td><td>ExprTuple</td><td>17, 45</td><td><a class=\"ProveItLink\" href=\"../0e24069ba078a6e6aaf22858d8066bee9abf145e0/expr.ipynb\"><img src=\"../0e24069ba078a6e6aaf22858d8066bee9abf145e0/expr.png\" style=\"display:inline;vertical-align:middle;\" /></a></td></tr>\n",
       "<tr><td>14</td><td>ExprTuple</td><td>18, 19</td><td><a class=\"ProveItLink\" href=\"../ca5b3d1bfcb8916225b16762ce23010b470b59da0/expr.ipynb\"><img src=\"../ca5b3d1bfcb8916225b16762ce23010b470b59da0/expr.png\" style=\"display:inline;vertical-align:middle;\" /></a></td></tr>\n",
       "<tr><td>15</td><td>Literal</td><td></td><td><a class=\"ProveItLink\" href=\"../../../../../logic/classes/membership/__pv_it/common/e3b437d28fbe17f0a50c9789c7c9b47a1270f1420/expr.ipynb\"><img src=\"../../../../../logic/classes/membership/__pv_it/common/e3b437d28fbe17f0a50c9789c7c9b47a1270f1420/expr.png\" style=\"display:inline;vertical-align:middle;\" /></a></td></tr>\n",
       "<tr><td>16</td><td>ExprTuple</td><td>37, 20</td><td><a class=\"ProveItLink\" href=\"../f264922686c97d9e4df5cc5d33f17f4756c7cd020/expr.ipynb\"><img src=\"../f264922686c97d9e4df5cc5d33f17f4756c7cd020/expr.png\" style=\"display:inline;vertical-align:middle;\" /></a></td></tr>\n",
       "<tr><td>17</td><td>Operation</td><td>operator:&nbsp;46<br>operand:&nbsp;27<br></td><td><a class=\"ProveItLink\" href=\"../d8d21d0cb824c1d8c14b334cf59ee1c1af37dfed0/expr.ipynb\"><img src=\"../d8d21d0cb824c1d8c14b334cf59ee1c1af37dfed0/expr.png\" style=\"display:inline;vertical-align:middle;\" /></a></td></tr>\n",
       "<tr><td>18</td><td>ExprRange</td><td>lambda_map:&nbsp;22<br>start_index:&nbsp;45<br>end_index:&nbsp;40<br></td><td><a class=\"ProveItLink\" href=\"../580d6130173b67686cbb7d751146d5df417b3cde0/expr.ipynb\"><img src=\"../580d6130173b67686cbb7d751146d5df417b3cde0/expr.png\" style=\"display:inline;vertical-align:middle;\" /></a></td></tr>\n",
       "<tr><td>19</td><td>Operation</td><td>operator:&nbsp;23<br>operands:&nbsp;24<br></td><td><a class=\"ProveItLink\" href=\"../adf963f291f9fa866e7ed9b127a3f605cde2aec20/expr.ipynb\"><img src=\"../adf963f291f9fa866e7ed9b127a3f605cde2aec20/expr.png\" style=\"display:inline;vertical-align:middle;\" /></a></td></tr>\n",
       "<tr><td>20</td><td>Operation</td><td>operator:&nbsp;25<br>operand:&nbsp;30<br></td><td><a class=\"ProveItLink\" href=\"../779dfa45b45b8892bb8153af195277e53c88f5c00/expr.ipynb\"><img src=\"../779dfa45b45b8892bb8153af195277e53c88f5c00/expr.png\" style=\"display:inline;vertical-align:middle;\" /></a></td></tr>\n",
       "<tr><td>21</td><td>ExprTuple</td><td>27</td><td><a class=\"ProveItLink\" href=\"../7b1c5122b46a6cfa28fb4a5e92453031637b4f4c0/expr.ipynb\"><img src=\"../7b1c5122b46a6cfa28fb4a5e92453031637b4f4c0/expr.png\" style=\"display:inline;vertical-align:middle;\" /></a></td></tr>\n",
       "<tr><td>22</td><td>Lambda</td><td>parameter:&nbsp;51<br>body:&nbsp;28<br></td><td><a class=\"ProveItLink\" href=\"../c85f1f6bd53558e63823d7e072ea707c9f530bd60/expr.ipynb\"><img src=\"../c85f1f6bd53558e63823d7e072ea707c9f530bd60/expr.png\" style=\"display:inline;vertical-align:middle;\" /></a></td></tr>\n",
       "<tr><td>23</td><td>Literal</td><td></td><td><a class=\"ProveItLink\" href=\"../../../../../logic/booleans/conjunction/__pv_it/common/42118ff318bd65d98b1393f64ce7c2269feef76e0/expr.ipynb\"><img src=\"../../../../../logic/booleans/conjunction/__pv_it/common/42118ff318bd65d98b1393f64ce7c2269feef76e0/expr.png\" style=\"display:inline;vertical-align:middle;\" /></a></td></tr>\n",
       "<tr><td>24</td><td>ExprTuple</td><td>29</td><td><a class=\"ProveItLink\" href=\"../cf1245085bad0b234b8afc19f85dfe1d77e1c3570/expr.ipynb\"><img src=\"../cf1245085bad0b234b8afc19f85dfe1d77e1c3570/expr.png\" style=\"display:inline;vertical-align:middle;\" /></a></td></tr>\n",
       "<tr><td>25</td><td>Literal</td><td></td><td><a class=\"ProveItLink\" href=\"../../../../inner_products/__pv_it/common/97dce8f33694d8d827400c818f103930399de7dc0/expr.ipynb\"><img src=\"../../../../inner_products/__pv_it/common/97dce8f33694d8d827400c818f103930399de7dc0/expr.png\" style=\"display:inline;vertical-align:middle;\" /></a></td></tr>\n",
       "<tr><td>26</td><td>ExprTuple</td><td>30</td><td><a class=\"ProveItLink\" href=\"../dfa81a569aedd40943c42f533e78bc2f073711130/expr.ipynb\"><img src=\"../dfa81a569aedd40943c42f533e78bc2f073711130/expr.png\" style=\"display:inline;vertical-align:middle;\" /></a></td></tr>\n",
       "<tr><td>27</td><td>Operation</td><td>operator:&nbsp;31<br>operands:&nbsp;32<br></td><td><a class=\"ProveItLink\" href=\"../008ed8c2ee389aed7e029068927dfe267c7773a30/expr.ipynb\"><img src=\"../008ed8c2ee389aed7e029068927dfe267c7773a30/expr.png\" style=\"display:inline;vertical-align:middle;\" /></a></td></tr>\n",
       "<tr><td>28</td><td>Operation</td><td>operator:&nbsp;33<br>operands:&nbsp;34<br></td><td><a class=\"ProveItLink\" href=\"../eda9e8a1a3b6e94b32271dbff85f1e6971ab193b0/expr.ipynb\"><img src=\"../eda9e8a1a3b6e94b32271dbff85f1e6971ab193b0/expr.png\" style=\"display:inline;vertical-align:middle;\" /></a></td></tr>\n",
       "<tr><td>29</td><td>ExprRange</td><td>lambda_map:&nbsp;35<br>start_index:&nbsp;45<br>end_index:&nbsp;40<br></td><td><a class=\"ProveItLink\" href=\"../da68684ad16607221eda303d53073c5f34db26b70/expr.ipynb\"><img src=\"../da68684ad16607221eda303d53073c5f34db26b70/expr.png\" style=\"display:inline;vertical-align:middle;\" /></a></td></tr>\n",
       "<tr><td>30</td><td>Variable</td><td></td><td><a class=\"ProveItLink\" href=\"../../../../../__pv_it/common/1f2ffac7a1dc7c1a4f1fc7348356ae64ea992c790/expr.ipynb\"><img src=\"../../../../../__pv_it/common/1f2ffac7a1dc7c1a4f1fc7348356ae64ea992c790/expr.png\" style=\"display:inline;vertical-align:middle;\" /></a></td></tr>\n",
       "<tr><td>31</td><td>Literal</td><td></td><td><a class=\"ProveItLink\" href=\"../../common/7fa25b05174babb4710be62d63ebd43f68aa2fec0/expr.ipynb\"><img src=\"../../common/7fa25b05174babb4710be62d63ebd43f68aa2fec0/expr.png\" style=\"display:inline;vertical-align:middle;\" /></a></td></tr>\n",
       "<tr><td>32</td><td>ExprTuple</td><td>36</td><td><a class=\"ProveItLink\" href=\"../2c196e25eb75441998cc38de7042eaf6940c703f0/expr.ipynb\"><img src=\"../2c196e25eb75441998cc38de7042eaf6940c703f0/expr.png\" style=\"display:inline;vertical-align:middle;\" /></a></td></tr>\n",
       "<tr><td>33</td><td>Literal</td><td></td><td><a class=\"ProveItLink\" href=\"../../../../../logic/sets/membership/__pv_it/common/477487d8796864d23d5810f83761435f25167f690/expr.ipynb\"><img src=\"../../../../../logic/sets/membership/__pv_it/common/477487d8796864d23d5810f83761435f25167f690/expr.png\" style=\"display:inline;vertical-align:middle;\" /></a></td></tr>\n",
       "<tr><td>34</td><td>ExprTuple</td><td>48, 37</td><td><a class=\"ProveItLink\" href=\"../921eb0bc70c94774c34f05e3fcf9499a274a24200/expr.ipynb\"><img src=\"../921eb0bc70c94774c34f05e3fcf9499a274a24200/expr.png\" style=\"display:inline;vertical-align:middle;\" /></a></td></tr>\n",
       "<tr><td>35</td><td>Lambda</td><td>parameter:&nbsp;51<br>body:&nbsp;38<br></td><td><a class=\"ProveItLink\" href=\"../96d0b43c7e0a6c0a58aa329f832b1c436902d46d0/expr.ipynb\"><img src=\"../96d0b43c7e0a6c0a58aa329f832b1c436902d46d0/expr.png\" style=\"display:inline;vertical-align:middle;\" /></a></td></tr>\n",
       "<tr><td>36</td><td>ExprRange</td><td>lambda_map:&nbsp;39<br>start_index:&nbsp;45<br>end_index:&nbsp;40<br></td><td><a class=\"ProveItLink\" href=\"../../../../../core_expr_types/__pv_it/common/7230c683fcd56948c826ac1be71b01b6fb2913950/expr.ipynb\"><img src=\"../../../../../core_expr_types/__pv_it/common/7230c683fcd56948c826ac1be71b01b6fb2913950/expr.png\" style=\"display:inline;vertical-align:middle;\" /></a></td></tr>\n",
       "<tr><td>37</td><td>IndexedVar</td><td>variable:&nbsp;41<br>index:&nbsp;51<br></td><td><a class=\"ProveItLink\" href=\"../../../../../core_expr_types/__pv_it/common/147a78b7570fad51cf5e91324728b3ba848fcf2d0/expr.ipynb\"><img src=\"../../../../../core_expr_types/__pv_it/common/147a78b7570fad51cf5e91324728b3ba848fcf2d0/expr.png\" style=\"display:inline;vertical-align:middle;\" /></a></td></tr>\n",
       "<tr><td>38</td><td>Operation</td><td>operator:&nbsp;42<br>operands:&nbsp;43<br></td><td><a class=\"ProveItLink\" href=\"../3ba7653c32745539425a4dd277812028b722c3820/expr.ipynb\"><img src=\"../3ba7653c32745539425a4dd277812028b722c3820/expr.png\" style=\"display:inline;vertical-align:middle;\" /></a></td></tr>\n",
       "<tr><td>39</td><td>Lambda</td><td>parameter:&nbsp;51<br>body:&nbsp;48<br></td><td><a class=\"ProveItLink\" href=\"../../../../../core_expr_types/__pv_it/common/1527ad383e12f9c6ed6b371c9a7dd1892d80da1b0/expr.ipynb\"><img src=\"../../../../../core_expr_types/__pv_it/common/1527ad383e12f9c6ed6b371c9a7dd1892d80da1b0/expr.png\" style=\"display:inline;vertical-align:middle;\" /></a></td></tr>\n",
       "<tr><td>40</td><td>Variable</td><td></td><td><a class=\"ProveItLink\" href=\"../../../../../__pv_it/common/ae955345c83abf786c3aff8681cd5465beae262d0/expr.ipynb\"><img src=\"../../../../../__pv_it/common/ae955345c83abf786c3aff8681cd5465beae262d0/expr.png\" style=\"display:inline;vertical-align:middle;\" /></a></td></tr>\n",
       "<tr><td>41</td><td>Variable</td><td></td><td><a class=\"ProveItLink\" href=\"../../../../../__pv_it/common/6d80eb1398b2335bf9ec427954b851b7094dced50/expr.ipynb\"><img src=\"../../../../../__pv_it/common/6d80eb1398b2335bf9ec427954b851b7094dced50/expr.png\" style=\"display:inline;vertical-align:middle;\" /></a></td></tr>\n",
       "<tr><td>42</td><td>Literal</td><td></td><td><a class=\"ProveItLink\" href=\"../../../../../logic/equality/__pv_it/common/fb96dc12b2aa8801dda64d0132b396c63d1502bb0/expr.ipynb\"><img src=\"../../../../../logic/equality/__pv_it/common/fb96dc12b2aa8801dda64d0132b396c63d1502bb0/expr.png\" style=\"display:inline;vertical-align:middle;\" /></a></td></tr>\n",
       "<tr><td>43</td><td>ExprTuple</td><td>44, 45</td><td><a class=\"ProveItLink\" href=\"../584eb8e3812d51c53231702a7268c94c35ef93cf0/expr.ipynb\"><img src=\"../584eb8e3812d51c53231702a7268c94c35ef93cf0/expr.png\" style=\"display:inline;vertical-align:middle;\" /></a></td></tr>\n",
       "<tr><td>44</td><td>Operation</td><td>operator:&nbsp;46<br>operand:&nbsp;48<br></td><td><a class=\"ProveItLink\" href=\"../36c4b0b43b2ab515b5e82d86ae945854072f8ec80/expr.ipynb\"><img src=\"../36c4b0b43b2ab515b5e82d86ae945854072f8ec80/expr.png\" style=\"display:inline;vertical-align:middle;\" /></a></td></tr>\n",
       "<tr><td>45</td><td>Literal</td><td></td><td><a class=\"ProveItLink\" href=\"../../../../../numbers/numerals/__pv_it/common/682157d4892d216d9e5626ed533aff9b56b9506e0/expr.ipynb\"><img src=\"../../../../../numbers/numerals/__pv_it/common/682157d4892d216d9e5626ed533aff9b56b9506e0/expr.png\" style=\"display:inline;vertical-align:middle;\" /></a></td></tr>\n",
       "<tr><td>46</td><td>Literal</td><td></td><td><a class=\"ProveItLink\" href=\"../../../../inner_products/__pv_it/common/2c00dcac538e537d968253ed1ac6a761c803991f0/expr.ipynb\"><img src=\"../../../../inner_products/__pv_it/common/2c00dcac538e537d968253ed1ac6a761c803991f0/expr.png\" style=\"display:inline;vertical-align:middle;\" /></a></td></tr>\n",
       "<tr><td>47</td><td>ExprTuple</td><td>48</td><td><a class=\"ProveItLink\" href=\"../a3eb177b041ff24c34663b2470f576ebeb9c87390/expr.ipynb\"><img src=\"../a3eb177b041ff24c34663b2470f576ebeb9c87390/expr.png\" style=\"display:inline;vertical-align:middle;\" /></a></td></tr>\n",
       "<tr><td>48</td><td>IndexedVar</td><td>variable:&nbsp;49<br>index:&nbsp;51<br></td><td><a class=\"ProveItLink\" href=\"../../../../../core_expr_types/__pv_it/common/3a62c13e156d62d52fe585fa37cc2172fcf685260/expr.ipynb\"><img src=\"../../../../../core_expr_types/__pv_it/common/3a62c13e156d62d52fe585fa37cc2172fcf685260/expr.png\" style=\"display:inline;vertical-align:middle;\" /></a></td></tr>\n",
       "<tr><td>49</td><td>Variable</td><td></td><td><a class=\"ProveItLink\" href=\"../../../../../__pv_it/common/c06c606ec12678c58933ac85412ecadc2ae28be60/expr.ipynb\"><img src=\"../../../../../__pv_it/common/c06c606ec12678c58933ac85412ecadc2ae28be60/expr.png\" style=\"display:inline;vertical-align:middle;\" /></a></td></tr>\n",
       "<tr><td>50</td><td>ExprTuple</td><td>51</td><td><a class=\"ProveItLink\" href=\"../../../../../core_expr_types/__pv_it/common/4b0dd6be36d76552eda6a95d5b4a27f5a5b62f900/expr.ipynb\"><img src=\"../../../../../core_expr_types/__pv_it/common/4b0dd6be36d76552eda6a95d5b4a27f5a5b62f900/expr.png\" style=\"display:inline;vertical-align:middle;\" /></a></td></tr>\n",
       "<tr><td>51</td><td>Variable</td><td></td><td><a class=\"ProveItLink\" href=\"../../../../../core_expr_types/__pv_it/common/006c465e50948aa2b52285e2de47974f741255cc0/expr.ipynb\"><img src=\"../../../../../core_expr_types/__pv_it/common/006c465e50948aa2b52285e2de47974f741255cc0/expr.png\" style=\"display:inline;vertical-align:middle;\" /></a></td></tr>\n",
       "</table>\n"
      ],
      "text/plain": [
       "0. {forall_{(a_{1} in V_{1}), (a_{2} in V_{2}), ..., (a_{i} in V_{i}) | (||a_{1}|| = 1) and  (||a_{2}|| = 1) and  ... and  (||a_{i}|| = 1)} (||a_{1} otimes  a_{2} otimes  ... otimes  a_{i}|| = 1) if (V_{1} in_c InnerProdSpaces(K)) and  (V_{2} in_c InnerProdSpaces(K)) and  ... and  (V_{i} in_c InnerProdSpaces(K)).\n",
       "   core type: Conditional\n",
       "   value: 1\n",
       "   condition: 2\n",
       "1. forall_{(a_{1} in V_{1}), (a_{2} in V_{2}), ..., (a_{i} in V_{i}) | (||a_{1}|| = 1) and  (||a_{2}|| = 1) and  ... and  (||a_{i}|| = 1)} (||a_{1} otimes  a_{2} otimes  ... otimes  a_{i}|| = 1)\n",
       "   core type: Operation\n",
       "   operator: 3\n",
       "   operand: 6\n",
       "2. (V_{1} in_c InnerProdSpaces(K)) and  (V_{2} in_c InnerProdSpaces(K)) and  ... and  (V_{i} in_c InnerProdSpaces(K))\n",
       "   core type: Operation\n",
       "   operator: 23\n",
       "   operands: 5\n",
       "3. forall\n",
       "   core type: Literal\n",
       "   sub-expressions: \n",
       "4. ((a_{1}, a_{2}, ..., a_{i}) -> {||a_{1} otimes  a_{2} otimes  ... otimes  a_{i}|| = 1 if (a_{1} in V_{1}) ,  (a_{2} in V_{2}) ,  ... ,  (a_{i} in V_{i}) ,  (||a_{1}|| = 1) and  (||a_{2}|| = 1) and  ... and  (||a_{i}|| = 1).)\n",
       "   core type: ExprTuple\n",
       "   sub-expressions: 6\n",
       "5. ((V_{1} in_c InnerProdSpaces(K)), (V_{2} in_c InnerProdSpaces(K)), ..., (V_{i} in_c InnerProdSpaces(K)))\n",
       "   core type: ExprTuple\n",
       "   sub-expressions: 7\n",
       "6. (a_{1}, a_{2}, ..., a_{i}) -> {||a_{1} otimes  a_{2} otimes  ... otimes  a_{i}|| = 1 if (a_{1} in V_{1}) ,  (a_{2} in V_{2}) ,  ... ,  (a_{i} in V_{i}) ,  (||a_{1}|| = 1) and  (||a_{2}|| = 1) and  ... and  (||a_{i}|| = 1).\n",
       "   core type: Lambda\n",
       "   parameters: 32\\n   body: 8\n",
       "7. (V_{1} in_c InnerProdSpaces(K)), (V_{2} in_c InnerProdSpaces(K)), ..., (V_{i} in_c InnerProdSpaces(K))\n",
       "   core type: ExprRange\n",
       "   lambda_map: 9\n",
       "   start_index: 45\n",
       "   end_index: 40\n",
       "8. {||a_{1} otimes  a_{2} otimes  ... otimes  a_{i}|| = 1 if (a_{1} in V_{1}) ,  (a_{2} in V_{2}) ,  ... ,  (a_{i} in V_{i}) ,  (||a_{1}|| = 1) and  (||a_{2}|| = 1) and  ... and  (||a_{i}|| = 1).\n",
       "   core type: Conditional\n",
       "   value: 10\n",
       "   condition: 11\n",
       "9. _a -> (V_{_a} in_c InnerProdSpaces(K))\n",
       "   core type: Lambda\n",
       "   parameter: 51\n",
       "   body: 12\n",
       "10. ||a_{1} otimes  a_{2} otimes  ... otimes  a_{i}|| = 1\n",
       "    core type: Operation\n",
       "    operator: 42\n",
       "    operands: 13\n",
       "11. (a_{1} in V_{1}) and  (a_{2} in V_{2}) and  ... and  (a_{i} in V_{i}) and ((||a_{1}|| = 1) and  (||a_{2}|| = 1) and  ... and  (||a_{i}|| = 1))\n",
       "    core type: Operation\n",
       "    operator: 23\n",
       "    operands: 14\n",
       "12. V_{_a} in_c InnerProdSpaces(K)\n",
       "    core type: Operation\n",
       "    operator: 15\n",
       "    operands: 16\n",
       "13. (||a_{1} otimes  a_{2} otimes  ... otimes  a_{i}||, 1)\n",
       "    core type: ExprTuple\n",
       "    sub-expressions: 17, 45\n",
       "14. ((a_{1} in V_{1}), (a_{2} in V_{2}), ..., (a_{i} in V_{i}), (||a_{1}|| = 1) and  (||a_{2}|| = 1) and  ... and  (||a_{i}|| = 1))\n",
       "    core type: ExprTuple\n",
       "    sub-expressions: 18, 19\n",
       "15. in_c\n",
       "    core type: Literal\n",
       "    sub-expressions: \n",
       "16. (V_{_a}, InnerProdSpaces(K))\n",
       "    core type: ExprTuple\n",
       "    sub-expressions: 37, 20\n",
       "17. ||a_{1} otimes  a_{2} otimes  ... otimes  a_{i}||\n",
       "    core type: Operation\n",
       "    operator: 46\n",
       "    operand: 27\n",
       "18. (a_{1} in V_{1}), (a_{2} in V_{2}), ..., (a_{i} in V_{i})\n",
       "    core type: ExprRange\n",
       "    lambda_map: 22\n",
       "    start_index: 45\n",
       "    end_index: 40\n",
       "19. (||a_{1}|| = 1) and  (||a_{2}|| = 1) and  ... and  (||a_{i}|| = 1)\n",
       "    core type: Operation\n",
       "    operator: 23\n",
       "    operands: 24\n",
       "20. InnerProdSpaces(K)\n",
       "    core type: Operation\n",
       "    operator: 25\n",
       "    operand: 30\n",
       "21. (a_{1} otimes  a_{2} otimes  ... otimes  a_{i})\n",
       "    core type: ExprTuple\n",
       "    sub-expressions: 27\n",
       "22. _a -> (a_{_a} in V_{_a})\n",
       "    core type: Lambda\n",
       "    parameter: 51\n",
       "    body: 28\n",
       "23. and\n",
       "    core type: Literal\n",
       "    sub-expressions: \n",
       "24. ((||a_{1}|| = 1), (||a_{2}|| = 1), ..., (||a_{i}|| = 1))\n",
       "    core type: ExprTuple\n",
       "    sub-expressions: 29\n",
       "25. InnerProdSpaces\n",
       "    core type: Literal\n",
       "    sub-expressions: \n",
       "26. (K)\n",
       "    core type: ExprTuple\n",
       "    sub-expressions: 30\n",
       "27. a_{1} otimes  a_{2} otimes  ... otimes  a_{i}\n",
       "    core type: Operation\n",
       "    operator: 31\n",
       "    operands: 32\n",
       "28. a_{_a} in V_{_a}\n",
       "    core type: Operation\n",
       "    operator: 33\n",
       "    operands: 34\n",
       "29. (||a_{1}|| = 1), (||a_{2}|| = 1), ..., (||a_{i}|| = 1)\n",
       "    core type: ExprRange\n",
       "    lambda_map: 35\n",
       "    start_index: 45\n",
       "    end_index: 40\n",
       "30. K\n",
       "    core type: Variable\n",
       "    sub-expressions: \n",
       "31. otimes\n",
       "    core type: Literal\n",
       "    sub-expressions: \n",
       "32. (a_{1}, a_{2}, ..., a_{i})\n",
       "    core type: ExprTuple\n",
       "    sub-expressions: 36\n",
       "33. in\n",
       "    core type: Literal\n",
       "    sub-expressions: \n",
       "34. (a_{_a}, V_{_a})\n",
       "    core type: ExprTuple\n",
       "    sub-expressions: 48, 37\n",
       "35. _a -> (||a_{_a}|| = 1)\n",
       "    core type: Lambda\n",
       "    parameter: 51\n",
       "    body: 38\n",
       "36. a_{1}, a_{2}, ..., a_{i}\n",
       "    core type: ExprRange\n",
       "    lambda_map: 39\n",
       "    start_index: 45\n",
       "    end_index: 40\n",
       "37. V_{_a}\n",
       "    core type: IndexedVar\n",
       "variable: 41\n",
       "index: 51\n",
       "38. ||a_{_a}|| = 1\n",
       "    core type: Operation\n",
       "    operator: 42\n",
       "    operands: 43\n",
       "39. _a -> a_{_a}\n",
       "    core type: Lambda\n",
       "    parameter: 51\n",
       "    body: 48\n",
       "40. i\n",
       "    core type: Variable\n",
       "    sub-expressions: \n",
       "41. V\n",
       "    core type: Variable\n",
       "    sub-expressions: \n",
       "42. =\n",
       "    core type: Literal\n",
       "    sub-expressions: \n",
       "43. (||a_{_a}||, 1)\n",
       "    core type: ExprTuple\n",
       "    sub-expressions: 44, 45\n",
       "44. ||a_{_a}||\n",
       "    core type: Operation\n",
       "    operator: 46\n",
       "    operand: 48\n",
       "45. 1\n",
       "    core type: Literal\n",
       "    sub-expressions: \n",
       "46. Abs\n",
       "    core type: Literal\n",
       "    sub-expressions: \n",
       "47. (a_{_a})\n",
       "    core type: ExprTuple\n",
       "    sub-expressions: 48\n",
       "48. a_{_a}\n",
       "    core type: IndexedVar\n",
       "variable: 49\n",
       "index: 51\n",
       "49. a\n",
       "    core type: Variable\n",
       "    sub-expressions: \n",
       "50. (_a)\n",
       "    core type: ExprTuple\n",
       "    sub-expressions: 51\n",
       "51. _a\n",
       "    core type: Variable\n",
       "    sub-expressions: "
      ]
     },
     "metadata": {},
     "output_type": "display_data"
    }
   ],
   "source": [
    "# display the expression information\n",
    "stored_expr.expr_info()"
   ]
  },
  {
   "cell_type": "code",
   "execution_count": null,
   "metadata": {},
   "outputs": [],
   "source": []
  }
 ],
 "metadata": {
  "kernelspec": {
   "display_name": "Python 3",
   "language": "python",
   "name": "python3"
  }
 },
 "nbformat": 4,
 "nbformat_minor": 0
}