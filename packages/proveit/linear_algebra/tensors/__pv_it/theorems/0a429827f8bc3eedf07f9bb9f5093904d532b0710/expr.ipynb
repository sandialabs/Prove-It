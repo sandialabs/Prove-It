{
 "cells": [
  {
   "cell_type": "markdown",
   "metadata": {},
   "source": [
    "Expression of type <a class=\"ProveItLink\" href=\"../../../../../../../doc/html/api/proveit.ExprTuple.html\">ExprTuple</a>\n",
    "=======================\n",
    "# from the theory of <a class=\"ProveItLink\" href=\"../../../_theory_nbs_/theory.ipynb\">proveit.linear_algebra.tensors</a>"
   ]
  },
  {
   "cell_type": "code",
   "execution_count": 1,
   "metadata": {},
   "outputs": [],
   "source": [
    "import proveit\n",
    "# Automation is not needed when building an expression:\n",
    "proveit.defaults.automation = False # This will speed things up.\n",
    "proveit.defaults.inline_pngs = False # Makes files smaller.\n",
    "%load_expr # Load the stored expression as 'stored_expr'\n",
    "# import Expression classes needed to build the expression\n",
    "from proveit import ExprRange, ExprTuple, IndexedVar, Variable, b, j\n",
    "from proveit.core_expr_types import a_1_to_i, b_1_to_j, c_1_to_k\n",
    "from proveit.linear_algebra import TensorProd, VecAdd\n",
    "from proveit.numbers import one"
   ]
  },
  {
   "cell_type": "code",
   "execution_count": 2,
   "metadata": {},
   "outputs": [
    {
     "data": {
      "text/html": [
       "<strong id=\"expr\">expr:</strong> <a class=\"ProveItLink\" href=\"expr.ipynb\"><img src=\"expr.png\" style=\"display:inline;vertical-align:middle;\" /></a><br>"
      ],
      "text/plain": [
       "<IPython.core.display.HTML object>"
      ]
     },
     "metadata": {},
     "output_type": "display_data"
    }
   ],
   "source": [
    "# build up the expression from sub-expressions\n",
    "sub_expr1 = Variable(\"_b\", latex_format = r\"{_{-}b}\")\n",
    "expr = ExprTuple(TensorProd(a_1_to_i, VecAdd(b_1_to_j), c_1_to_k), VecAdd(ExprRange(sub_expr1, TensorProd(a_1_to_i, IndexedVar(b, sub_expr1), c_1_to_k), one, j)))"
   ]
  },
  {
   "cell_type": "code",
   "execution_count": 3,
   "metadata": {},
   "outputs": [
    {
     "name": "stdout",
     "output_type": "stream",
     "text": [
      "Passed sanity check: expr matches stored_expr\n"
     ]
    }
   ],
   "source": [
    "# check that the built expression is the same as the stored expression\n",
    "assert expr == stored_expr\n",
    "assert expr._style_id == stored_expr._style_id\n",
    "print(\"Passed sanity check: expr matches stored_expr\")"
   ]
  },
  {
   "cell_type": "code",
   "execution_count": 4,
   "metadata": {},
   "outputs": [
    {
     "name": "stdout",
     "output_type": "stream",
     "text": [
      "\\left(a_{1} {\\otimes}  a_{2} {\\otimes}  \\ldots {\\otimes}  a_{i} {\\otimes} \\left(b_{1} +  b_{2} +  \\ldots +  b_{j}\\right){\\otimes} c_{1} {\\otimes}  c_{2} {\\otimes}  \\ldots {\\otimes}  c_{k}, \\left(a_{1} {\\otimes}  a_{2} {\\otimes}  \\ldots {\\otimes}  a_{i} {\\otimes} b_{1}{\\otimes} c_{1} {\\otimes}  c_{2} {\\otimes}  \\ldots {\\otimes}  c_{k}\\right) +  \\left(a_{1} {\\otimes}  a_{2} {\\otimes}  \\ldots {\\otimes}  a_{i} {\\otimes} b_{2}{\\otimes} c_{1} {\\otimes}  c_{2} {\\otimes}  \\ldots {\\otimes}  c_{k}\\right) +  \\ldots +  \\left(a_{1} {\\otimes}  a_{2} {\\otimes}  \\ldots {\\otimes}  a_{i} {\\otimes} b_{j}{\\otimes} c_{1} {\\otimes}  c_{2} {\\otimes}  \\ldots {\\otimes}  c_{k}\\right)\\right)\n"
     ]
    }
   ],
   "source": [
    "# Show the LaTeX representation of the expression for convenience if you need it.\n",
    "print(stored_expr.latex())"
   ]
  },
  {
   "cell_type": "code",
   "execution_count": 5,
   "metadata": {},
   "outputs": [
    {
     "data": {
      "text/html": [
       "<table>\n",
       "<tr><th>name</th><th>description</th><th>default</th><th>current value</th><th>related methods</th></tr><tr><td>wrap_positions</td><td>position(s) at which wrapping is to occur; 'n' is after the nth comma.</td><td>()</td><td>()</td><td>('with_wrapping_at',)</td></tr>\n",
       "<tr><td>justification</td><td>if any wrap positions are set, justify to the 'left', 'center', or 'right'</td><td>left</td><td>left</td><td>('with_justification',)</td></tr>\n",
       "</table>\n"
      ],
      "text/plain": [
       "style name: wrap_positions\n",
       "description: position(s) at which wrapping is to occur; 'n' is after the nth comma.\n",
       "default: ()\n",
       "current value: ()\n",
       "related methods: ('with_wrapping_at',)\n",
       "style name: justification\n",
       "description: if any wrap positions are set, justify to the 'left', 'center', or 'right'\n",
       "default: left\n",
       "current value: left\n",
       "related methods: ('with_justification',)"
      ]
     },
     "metadata": {},
     "output_type": "display_data"
    }
   ],
   "source": [
    "stored_expr.style_options()"
   ]
  },
  {
   "cell_type": "code",
   "execution_count": 6,
   "metadata": {},
   "outputs": [
    {
     "data": {
      "text/html": [
       "<table><tr><th>&nbsp;</th><th>core type</th><th>sub-expressions</th><th>expression</th></tr>\n",
       "<tr><td>0</td><td>ExprTuple</td><td>1, 2</td><td><a class=\"ProveItLink\" href=\"expr.ipynb\"><img src=\"expr.png\" style=\"display:inline;vertical-align:middle;\" /></a></td></tr>\n",
       "<tr><td>1</td><td>Operation</td><td>operator:&nbsp;14<br>operands:&nbsp;3<br></td><td><a class=\"ProveItLink\" href=\"../9dfd56d5bd5187fef3882decbc28d50f874f479a0/expr.ipynb\"><img src=\"../9dfd56d5bd5187fef3882decbc28d50f874f479a0/expr.png\" style=\"display:inline;vertical-align:middle;\" /></a></td></tr>\n",
       "<tr><td>2</td><td>Operation</td><td>operator:&nbsp;7<br>operands:&nbsp;4<br></td><td><a class=\"ProveItLink\" href=\"../4cac4866048f7ae7e095d7375581d84332cf4bf60/expr.ipynb\"><img src=\"../4cac4866048f7ae7e095d7375581d84332cf4bf60/expr.png\" style=\"display:inline;vertical-align:middle;\" /></a></td></tr>\n",
       "<tr><td>3</td><td>ExprTuple</td><td>17, 5, 19</td><td><a class=\"ProveItLink\" href=\"../1d985d603896cce913691b8f9886ceb02ff1ed470/expr.ipynb\"><img src=\"../1d985d603896cce913691b8f9886ceb02ff1ed470/expr.png\" style=\"display:inline;vertical-align:middle;\" /></a></td></tr>\n",
       "<tr><td>4</td><td>ExprTuple</td><td>6</td><td><a class=\"ProveItLink\" href=\"../9a136d965922e2fa2ee1f5aaa0a5fa145be5b3b90/expr.ipynb\"><img src=\"../9a136d965922e2fa2ee1f5aaa0a5fa145be5b3b90/expr.png\" style=\"display:inline;vertical-align:middle;\" /></a></td></tr>\n",
       "<tr><td>5</td><td>Operation</td><td>operator:&nbsp;7<br>operands:&nbsp;8<br></td><td><a class=\"ProveItLink\" href=\"../e9f59ab68c1a359647337691f7db53def9ed50140/expr.ipynb\"><img src=\"../e9f59ab68c1a359647337691f7db53def9ed50140/expr.png\" style=\"display:inline;vertical-align:middle;\" /></a></td></tr>\n",
       "<tr><td>6</td><td>ExprRange</td><td>lambda_map:&nbsp;9<br>start_index:&nbsp;25<br>end_index:&nbsp;13<br></td><td><a class=\"ProveItLink\" href=\"../ca3ca8cf279a702eb41828b9946bb8edca7f59570/expr.ipynb\"><img src=\"../ca3ca8cf279a702eb41828b9946bb8edca7f59570/expr.png\" style=\"display:inline;vertical-align:middle;\" /></a></td></tr>\n",
       "<tr><td>7</td><td>Literal</td><td></td><td><a class=\"ProveItLink\" href=\"../../../../addition/__pv_it/common/ac3c140c9094f065c7f7db15c94558731443639c0/expr.ipynb\"><img src=\"../../../../addition/__pv_it/common/ac3c140c9094f065c7f7db15c94558731443639c0/expr.png\" style=\"display:inline;vertical-align:middle;\" /></a></td></tr>\n",
       "<tr><td>8</td><td>ExprTuple</td><td>10</td><td><a class=\"ProveItLink\" href=\"../../../../../core_expr_types/__pv_it/common/55246c75782800bb2a6180a2cbd1b56cd87bef540/expr.ipynb\"><img src=\"../../../../../core_expr_types/__pv_it/common/55246c75782800bb2a6180a2cbd1b56cd87bef540/expr.png\" style=\"display:inline;vertical-align:middle;\" /></a></td></tr>\n",
       "<tr><td>9</td><td>Lambda</td><td>parameter:&nbsp;28<br>body:&nbsp;11<br></td><td><a class=\"ProveItLink\" href=\"../22a5e67038ea8a7278b0bb2b7a7a953ec9f71f500/expr.ipynb\"><img src=\"../22a5e67038ea8a7278b0bb2b7a7a953ec9f71f500/expr.png\" style=\"display:inline;vertical-align:middle;\" /></a></td></tr>\n",
       "<tr><td>10</td><td>ExprRange</td><td>lambda_map:&nbsp;12<br>start_index:&nbsp;25<br>end_index:&nbsp;13<br></td><td><a class=\"ProveItLink\" href=\"../../../../../core_expr_types/__pv_it/common/d0e70829681f7e0560cecc174fdf76cb311d43400/expr.ipynb\"><img src=\"../../../../../core_expr_types/__pv_it/common/d0e70829681f7e0560cecc174fdf76cb311d43400/expr.png\" style=\"display:inline;vertical-align:middle;\" /></a></td></tr>\n",
       "<tr><td>11</td><td>Operation</td><td>operator:&nbsp;14<br>operands:&nbsp;15<br></td><td><a class=\"ProveItLink\" href=\"../df8e1b3417d01afbee60c88fd6f27496ede28bcf0/expr.ipynb\"><img src=\"../df8e1b3417d01afbee60c88fd6f27496ede28bcf0/expr.png\" style=\"display:inline;vertical-align:middle;\" /></a></td></tr>\n",
       "<tr><td>12</td><td>Lambda</td><td>parameter:&nbsp;33<br>body:&nbsp;16<br></td><td><a class=\"ProveItLink\" href=\"../../../../../core_expr_types/__pv_it/common/d763764ede9c88a33f4b750791da02d1a21cb6820/expr.ipynb\"><img src=\"../../../../../core_expr_types/__pv_it/common/d763764ede9c88a33f4b750791da02d1a21cb6820/expr.png\" style=\"display:inline;vertical-align:middle;\" /></a></td></tr>\n",
       "<tr><td>13</td><td>Variable</td><td></td><td><a class=\"ProveItLink\" href=\"../../../../../__pv_it/common/1ed21df18baca2f42b561a7ffbf30a2743d594650/expr.ipynb\"><img src=\"../../../../../__pv_it/common/1ed21df18baca2f42b561a7ffbf30a2743d594650/expr.png\" style=\"display:inline;vertical-align:middle;\" /></a></td></tr>\n",
       "<tr><td>14</td><td>Literal</td><td></td><td><a class=\"ProveItLink\" href=\"../../common/7fa25b05174babb4710be62d63ebd43f68aa2fec0/expr.ipynb\"><img src=\"../../common/7fa25b05174babb4710be62d63ebd43f68aa2fec0/expr.png\" style=\"display:inline;vertical-align:middle;\" /></a></td></tr>\n",
       "<tr><td>15</td><td>ExprTuple</td><td>17, 18, 19</td><td><a class=\"ProveItLink\" href=\"../7cf31e9c646cd1c91afabd57b3d36957e70ff2d40/expr.ipynb\"><img src=\"../7cf31e9c646cd1c91afabd57b3d36957e70ff2d40/expr.png\" style=\"display:inline;vertical-align:middle;\" /></a></td></tr>\n",
       "<tr><td>16</td><td>IndexedVar</td><td>variable:&nbsp;22<br>index:&nbsp;33<br></td><td><a class=\"ProveItLink\" href=\"../../../../../core_expr_types/__pv_it/common/8542342c36565a593724a99f9c08d995c1c21af20/expr.ipynb\"><img src=\"../../../../../core_expr_types/__pv_it/common/8542342c36565a593724a99f9c08d995c1c21af20/expr.png\" style=\"display:inline;vertical-align:middle;\" /></a></td></tr>\n",
       "<tr><td>17</td><td>ExprRange</td><td>lambda_map:&nbsp;20<br>start_index:&nbsp;25<br>end_index:&nbsp;21<br></td><td><a class=\"ProveItLink\" href=\"../../../../../core_expr_types/__pv_it/common/7230c683fcd56948c826ac1be71b01b6fb2913950/expr.ipynb\"><img src=\"../../../../../core_expr_types/__pv_it/common/7230c683fcd56948c826ac1be71b01b6fb2913950/expr.png\" style=\"display:inline;vertical-align:middle;\" /></a></td></tr>\n",
       "<tr><td>18</td><td>IndexedVar</td><td>variable:&nbsp;22<br>index:&nbsp;28<br></td><td><a class=\"ProveItLink\" href=\"../145e9b9617e48ccba4d6d4045710832f30f68a9d0/expr.ipynb\"><img src=\"../145e9b9617e48ccba4d6d4045710832f30f68a9d0/expr.png\" style=\"display:inline;vertical-align:middle;\" /></a></td></tr>\n",
       "<tr><td>19</td><td>ExprRange</td><td>lambda_map:&nbsp;24<br>start_index:&nbsp;25<br>end_index:&nbsp;26<br></td><td><a class=\"ProveItLink\" href=\"../../../../../core_expr_types/__pv_it/common/847fd9e18bcb1cd068c4b44622f3fd12a6ad6a150/expr.ipynb\"><img src=\"../../../../../core_expr_types/__pv_it/common/847fd9e18bcb1cd068c4b44622f3fd12a6ad6a150/expr.png\" style=\"display:inline;vertical-align:middle;\" /></a></td></tr>\n",
       "<tr><td>20</td><td>Lambda</td><td>parameter:&nbsp;33<br>body:&nbsp;27<br></td><td><a class=\"ProveItLink\" href=\"../../../../../core_expr_types/__pv_it/common/1527ad383e12f9c6ed6b371c9a7dd1892d80da1b0/expr.ipynb\"><img src=\"../../../../../core_expr_types/__pv_it/common/1527ad383e12f9c6ed6b371c9a7dd1892d80da1b0/expr.png\" style=\"display:inline;vertical-align:middle;\" /></a></td></tr>\n",
       "<tr><td>21</td><td>Variable</td><td></td><td><a class=\"ProveItLink\" href=\"../../../../../__pv_it/common/ae955345c83abf786c3aff8681cd5465beae262d0/expr.ipynb\"><img src=\"../../../../../__pv_it/common/ae955345c83abf786c3aff8681cd5465beae262d0/expr.png\" style=\"display:inline;vertical-align:middle;\" /></a></td></tr>\n",
       "<tr><td>22</td><td>Variable</td><td></td><td><a class=\"ProveItLink\" href=\"../../../../../__pv_it/common/195236b98c6c564a75b5dbada74b173bc52d5c3e0/expr.ipynb\"><img src=\"../../../../../__pv_it/common/195236b98c6c564a75b5dbada74b173bc52d5c3e0/expr.png\" style=\"display:inline;vertical-align:middle;\" /></a></td></tr>\n",
       "<tr><td>23</td><td>ExprTuple</td><td>28</td><td><a class=\"ProveItLink\" href=\"../18f7318b68e45ff8356043b6e71619fa8450fb200/expr.ipynb\"><img src=\"../18f7318b68e45ff8356043b6e71619fa8450fb200/expr.png\" style=\"display:inline;vertical-align:middle;\" /></a></td></tr>\n",
       "<tr><td>24</td><td>Lambda</td><td>parameter:&nbsp;33<br>body:&nbsp;29<br></td><td><a class=\"ProveItLink\" href=\"../../../../../core_expr_types/__pv_it/common/89a29b5b02ce6c37577f6352274a3d503dcdde3e0/expr.ipynb\"><img src=\"../../../../../core_expr_types/__pv_it/common/89a29b5b02ce6c37577f6352274a3d503dcdde3e0/expr.png\" style=\"display:inline;vertical-align:middle;\" /></a></td></tr>\n",
       "<tr><td>25</td><td>Literal</td><td></td><td><a class=\"ProveItLink\" href=\"../../../../../numbers/numerals/__pv_it/common/682157d4892d216d9e5626ed533aff9b56b9506e0/expr.ipynb\"><img src=\"../../../../../numbers/numerals/__pv_it/common/682157d4892d216d9e5626ed533aff9b56b9506e0/expr.png\" style=\"display:inline;vertical-align:middle;\" /></a></td></tr>\n",
       "<tr><td>26</td><td>Variable</td><td></td><td><a class=\"ProveItLink\" href=\"../../../../../__pv_it/common/63b7c64bf9ec7a04ecc396c7a1670f3f12fb59490/expr.ipynb\"><img src=\"../../../../../__pv_it/common/63b7c64bf9ec7a04ecc396c7a1670f3f12fb59490/expr.png\" style=\"display:inline;vertical-align:middle;\" /></a></td></tr>\n",
       "<tr><td>27</td><td>IndexedVar</td><td>variable:&nbsp;30<br>index:&nbsp;33<br></td><td><a class=\"ProveItLink\" href=\"../../../../../core_expr_types/__pv_it/common/3a62c13e156d62d52fe585fa37cc2172fcf685260/expr.ipynb\"><img src=\"../../../../../core_expr_types/__pv_it/common/3a62c13e156d62d52fe585fa37cc2172fcf685260/expr.png\" style=\"display:inline;vertical-align:middle;\" /></a></td></tr>\n",
       "<tr><td>28</td><td>Variable</td><td></td><td><a class=\"ProveItLink\" href=\"../9a18d67b443cf8d92289c655ed91ec78766170a90/expr.ipynb\"><img src=\"../9a18d67b443cf8d92289c655ed91ec78766170a90/expr.png\" style=\"display:inline;vertical-align:middle;\" /></a></td></tr>\n",
       "<tr><td>29</td><td>IndexedVar</td><td>variable:&nbsp;31<br>index:&nbsp;33<br></td><td><a class=\"ProveItLink\" href=\"../../../../../core_expr_types/__pv_it/common/8ffbefe913f7c934b2e3a2a12315d5900822d9d00/expr.ipynb\"><img src=\"../../../../../core_expr_types/__pv_it/common/8ffbefe913f7c934b2e3a2a12315d5900822d9d00/expr.png\" style=\"display:inline;vertical-align:middle;\" /></a></td></tr>\n",
       "<tr><td>30</td><td>Variable</td><td></td><td><a class=\"ProveItLink\" href=\"../../../../../__pv_it/common/c06c606ec12678c58933ac85412ecadc2ae28be60/expr.ipynb\"><img src=\"../../../../../__pv_it/common/c06c606ec12678c58933ac85412ecadc2ae28be60/expr.png\" style=\"display:inline;vertical-align:middle;\" /></a></td></tr>\n",
       "<tr><td>31</td><td>Variable</td><td></td><td><a class=\"ProveItLink\" href=\"../../../../../__pv_it/common/ceef4280a2f1cc604b455b54e735507244cc62cd0/expr.ipynb\"><img src=\"../../../../../__pv_it/common/ceef4280a2f1cc604b455b54e735507244cc62cd0/expr.png\" style=\"display:inline;vertical-align:middle;\" /></a></td></tr>\n",
       "<tr><td>32</td><td>ExprTuple</td><td>33</td><td><a class=\"ProveItLink\" href=\"../../../../../core_expr_types/__pv_it/common/4b0dd6be36d76552eda6a95d5b4a27f5a5b62f900/expr.ipynb\"><img src=\"../../../../../core_expr_types/__pv_it/common/4b0dd6be36d76552eda6a95d5b4a27f5a5b62f900/expr.png\" style=\"display:inline;vertical-align:middle;\" /></a></td></tr>\n",
       "<tr><td>33</td><td>Variable</td><td></td><td><a class=\"ProveItLink\" href=\"../../../../../core_expr_types/__pv_it/common/006c465e50948aa2b52285e2de47974f741255cc0/expr.ipynb\"><img src=\"../../../../../core_expr_types/__pv_it/common/006c465e50948aa2b52285e2de47974f741255cc0/expr.png\" style=\"display:inline;vertical-align:middle;\" /></a></td></tr>\n",
       "</table>\n"
      ],
      "text/plain": [
       "0. (a_{1} otimes  a_{2} otimes  ... otimes  a_{i} otimes (b_{1} +  b_{2} +  ... +  b_{j})otimes c_{1} otimes  c_{2} otimes  ... otimes  c_{k}, (a_{1} otimes  a_{2} otimes  ... otimes  a_{i} otimes b_{1}otimes c_{1} otimes  c_{2} otimes  ... otimes  c_{k}) +  (a_{1} otimes  a_{2} otimes  ... otimes  a_{i} otimes b_{2}otimes c_{1} otimes  c_{2} otimes  ... otimes  c_{k}) +  ... +  (a_{1} otimes  a_{2} otimes  ... otimes  a_{i} otimes b_{j}otimes c_{1} otimes  c_{2} otimes  ... otimes  c_{k}))\n",
       "   core type: ExprTuple\n",
       "   sub-expressions: 1, 2\n",
       "1. a_{1} otimes  a_{2} otimes  ... otimes  a_{i} otimes (b_{1} +  b_{2} +  ... +  b_{j})otimes c_{1} otimes  c_{2} otimes  ... otimes  c_{k}\n",
       "   core type: Operation\n",
       "   operator: 14\n",
       "   operands: 3\n",
       "2. (a_{1} otimes  a_{2} otimes  ... otimes  a_{i} otimes b_{1}otimes c_{1} otimes  c_{2} otimes  ... otimes  c_{k}) +  (a_{1} otimes  a_{2} otimes  ... otimes  a_{i} otimes b_{2}otimes c_{1} otimes  c_{2} otimes  ... otimes  c_{k}) +  ... +  (a_{1} otimes  a_{2} otimes  ... otimes  a_{i} otimes b_{j}otimes c_{1} otimes  c_{2} otimes  ... otimes  c_{k})\n",
       "   core type: Operation\n",
       "   operator: 7\n",
       "   operands: 4\n",
       "3. (a_{1}, a_{2}, ..., a_{i}, b_{1} +  b_{2} +  ... +  b_{j},c_{1}, c_{2}, ..., c_{k})\n",
       "   core type: ExprTuple\n",
       "   sub-expressions: 17, 5, 19\n",
       "4. ((a_{1} otimes  a_{2} otimes  ... otimes  a_{i} otimes b_{1}otimes c_{1} otimes  c_{2} otimes  ... otimes  c_{k}), (a_{1} otimes  a_{2} otimes  ... otimes  a_{i} otimes b_{2}otimes c_{1} otimes  c_{2} otimes  ... otimes  c_{k}), ..., (a_{1} otimes  a_{2} otimes  ... otimes  a_{i} otimes b_{j}otimes c_{1} otimes  c_{2} otimes  ... otimes  c_{k}))\n",
       "   core type: ExprTuple\n",
       "   sub-expressions: 6\n",
       "5. b_{1} +  b_{2} +  ... +  b_{j}\n",
       "   core type: Operation\n",
       "   operator: 7\n",
       "   operands: 8\n",
       "6. (a_{1} otimes  a_{2} otimes  ... otimes  a_{i} otimes b_{1}otimes c_{1} otimes  c_{2} otimes  ... otimes  c_{k}), (a_{1} otimes  a_{2} otimes  ... otimes  a_{i} otimes b_{2}otimes c_{1} otimes  c_{2} otimes  ... otimes  c_{k}), ..., (a_{1} otimes  a_{2} otimes  ... otimes  a_{i} otimes b_{j}otimes c_{1} otimes  c_{2} otimes  ... otimes  c_{k})\n",
       "   core type: ExprRange\n",
       "   lambda_map: 9\n",
       "   start_index: 25\n",
       "   end_index: 13\n",
       "7. +\n",
       "   core type: Literal\n",
       "   sub-expressions: \n",
       "8. (b_{1}, b_{2}, ..., b_{j})\n",
       "   core type: ExprTuple\n",
       "   sub-expressions: 10\n",
       "9. _b -> (a_{1} otimes  a_{2} otimes  ... otimes  a_{i} otimes b_{_b}otimes c_{1} otimes  c_{2} otimes  ... otimes  c_{k})\n",
       "   core type: Lambda\n",
       "   parameter: 28\n",
       "   body: 11\n",
       "10. b_{1}, b_{2}, ..., b_{j}\n",
       "    core type: ExprRange\n",
       "    lambda_map: 12\n",
       "    start_index: 25\n",
       "    end_index: 13\n",
       "11. a_{1} otimes  a_{2} otimes  ... otimes  a_{i} otimes b_{_b}otimes c_{1} otimes  c_{2} otimes  ... otimes  c_{k}\n",
       "    core type: Operation\n",
       "    operator: 14\n",
       "    operands: 15\n",
       "12. _a -> b_{_a}\n",
       "    core type: Lambda\n",
       "    parameter: 33\n",
       "    body: 16\n",
       "13. j\n",
       "    core type: Variable\n",
       "    sub-expressions: \n",
       "14. otimes\n",
       "    core type: Literal\n",
       "    sub-expressions: \n",
       "15. (a_{1}, a_{2}, ..., a_{i}, b_{_b},c_{1}, c_{2}, ..., c_{k})\n",
       "    core type: ExprTuple\n",
       "    sub-expressions: 17, 18, 19\n",
       "16. b_{_a}\n",
       "    core type: IndexedVar\n",
       "variable: 22\n",
       "index: 33\n",
       "17. a_{1}, a_{2}, ..., a_{i}\n",
       "    core type: ExprRange\n",
       "    lambda_map: 20\n",
       "    start_index: 25\n",
       "    end_index: 21\n",
       "18. b_{_b}\n",
       "    core type: IndexedVar\n",
       "variable: 22\n",
       "index: 28\n",
       "19. c_{1}, c_{2}, ..., c_{k}\n",
       "    core type: ExprRange\n",
       "    lambda_map: 24\n",
       "    start_index: 25\n",
       "    end_index: 26\n",
       "20. _a -> a_{_a}\n",
       "    core type: Lambda\n",
       "    parameter: 33\n",
       "    body: 27\n",
       "21. i\n",
       "    core type: Variable\n",
       "    sub-expressions: \n",
       "22. b\n",
       "    core type: Variable\n",
       "    sub-expressions: \n",
       "23. (_b)\n",
       "    core type: ExprTuple\n",
       "    sub-expressions: 28\n",
       "24. _a -> c_{_a}\n",
       "    core type: Lambda\n",
       "    parameter: 33\n",
       "    body: 29\n",
       "25. 1\n",
       "    core type: Literal\n",
       "    sub-expressions: \n",
       "26. k\n",
       "    core type: Variable\n",
       "    sub-expressions: \n",
       "27. a_{_a}\n",
       "    core type: IndexedVar\n",
       "variable: 30\n",
       "index: 33\n",
       "28. _b\n",
       "    core type: Variable\n",
       "    sub-expressions: \n",
       "29. c_{_a}\n",
       "    core type: IndexedVar\n",
       "variable: 31\n",
       "index: 33\n",
       "30. a\n",
       "    core type: Variable\n",
       "    sub-expressions: \n",
       "31. c\n",
       "    core type: Variable\n",
       "    sub-expressions: \n",
       "32. (_a)\n",
       "    core type: ExprTuple\n",
       "    sub-expressions: 33\n",
       "33. _a\n",
       "    core type: Variable\n",
       "    sub-expressions: "
      ]
     },
     "metadata": {},
     "output_type": "display_data"
    }
   ],
   "source": [
    "# display the expression information\n",
    "stored_expr.expr_info()"
   ]
  },
  {
   "cell_type": "code",
   "execution_count": null,
   "metadata": {},
   "outputs": [],
   "source": []
  }
 ],
 "metadata": {
  "kernelspec": {
   "display_name": "Python 3",
   "language": "python",
   "name": "python3"
  }
 },
 "nbformat": 4,
 "nbformat_minor": 0
}