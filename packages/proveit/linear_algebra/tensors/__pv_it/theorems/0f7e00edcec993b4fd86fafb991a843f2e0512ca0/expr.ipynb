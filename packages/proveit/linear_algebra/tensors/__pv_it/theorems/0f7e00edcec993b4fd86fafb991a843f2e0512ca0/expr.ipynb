{
 "cells": [
  {
   "cell_type": "markdown",
   "metadata": {},
   "source": [
    "Expression of type <a class=\"ProveItLink\" href=\"../../../../../../../doc/html/api/proveit.logic.Forall.html\">Forall</a>\n",
    "=======================\n",
    "# from the theory of <a class=\"ProveItLink\" href=\"../../../_theory_nbs_/theory.ipynb\">proveit.linear_algebra.tensors</a>"
   ]
  },
  {
   "cell_type": "code",
   "execution_count": 1,
   "metadata": {},
   "outputs": [],
   "source": [
    "import proveit\n",
    "# Automation is not needed when building an expression:\n",
    "proveit.defaults.automation = False # This will speed things up.\n",
    "proveit.defaults.inline_pngs = False # Makes files smaller.\n",
    "%load_expr # Load the stored expression as 'stored_expr'\n",
    "# import Expression classes needed to build the expression\n",
    "from proveit import ExprRange, IndexedVar, V, Variable, b, j\n",
    "from proveit.core_expr_types import a_1_to_i, b_1_to_j, c_1_to_k\n",
    "from proveit.linear_algebra import TensorProd, VecAdd\n",
    "from proveit.logic import Equals, Forall, Implies, InSet\n",
    "from proveit.numbers import one"
   ]
  },
  {
   "cell_type": "code",
   "execution_count": 2,
   "metadata": {},
   "outputs": [
    {
     "data": {
      "text/html": [
       "<strong id=\"expr\">expr:</strong> <a class=\"ProveItLink\" href=\"expr.ipynb\"><img src=\"expr.png\" style=\"display:inline;vertical-align:middle;\" /></a><br>"
      ],
      "text/plain": [
       "<IPython.core.display.HTML object>"
      ]
     },
     "metadata": {},
     "output_type": "display_data"
    }
   ],
   "source": [
    "# build up the expression from sub-expressions\n",
    "sub_expr1 = Variable(\"_b\", latex_format = r\"{_{-}b}\")\n",
    "sub_expr2 = TensorProd(a_1_to_i, VecAdd(b_1_to_j), c_1_to_k)\n",
    "expr = Forall(instance_param_or_params = [a_1_to_i, b_1_to_j, c_1_to_k], instance_expr = Implies(InSet(sub_expr2, V), Equals(VecAdd(ExprRange(sub_expr1, TensorProd(a_1_to_i, IndexedVar(b, sub_expr1), c_1_to_k), one, j)), sub_expr2).with_wrapping_at(2)).with_wrapping_at(2)).with_wrapping()"
   ]
  },
  {
   "cell_type": "code",
   "execution_count": 3,
   "metadata": {},
   "outputs": [
    {
     "name": "stdout",
     "output_type": "stream",
     "text": [
      "Passed sanity check: expr matches stored_expr\n"
     ]
    }
   ],
   "source": [
    "# check that the built expression is the same as the stored expression\n",
    "assert expr == stored_expr\n",
    "assert expr._style_id == stored_expr._style_id\n",
    "print(\"Passed sanity check: expr matches stored_expr\")"
   ]
  },
  {
   "cell_type": "code",
   "execution_count": 4,
   "metadata": {},
   "outputs": [
    {
     "name": "stdout",
     "output_type": "stream",
     "text": [
      "\\begin{array}{l}\\forall_{a_{1}, a_{2}, \\ldots, a_{i}, b_{1}, b_{2}, \\ldots, b_{j}, c_{1}, c_{2}, \\ldots, c_{k}}~\\\\\n",
      "\\left(\\begin{array}{c} \\begin{array}{l} \\left(\\left(a_{1} {\\otimes}  a_{2} {\\otimes}  \\ldots {\\otimes}  a_{i} {\\otimes} \\left(b_{1} +  b_{2} +  \\ldots +  b_{j}\\right){\\otimes} c_{1} {\\otimes}  c_{2} {\\otimes}  \\ldots {\\otimes}  c_{k}\\right) \\in V\\right) \\Rightarrow  \\\\ \\left(\\begin{array}{c} \\begin{array}{l} \\left(\\left(a_{1} {\\otimes}  a_{2} {\\otimes}  \\ldots {\\otimes}  a_{i} {\\otimes} b_{1}{\\otimes} c_{1} {\\otimes}  c_{2} {\\otimes}  \\ldots {\\otimes}  c_{k}\\right) +  \\left(a_{1} {\\otimes}  a_{2} {\\otimes}  \\ldots {\\otimes}  a_{i} {\\otimes} b_{2}{\\otimes} c_{1} {\\otimes}  c_{2} {\\otimes}  \\ldots {\\otimes}  c_{k}\\right) +  \\ldots +  \\left(a_{1} {\\otimes}  a_{2} {\\otimes}  \\ldots {\\otimes}  a_{i} {\\otimes} b_{j}{\\otimes} c_{1} {\\otimes}  c_{2} {\\otimes}  \\ldots {\\otimes}  c_{k}\\right)\\right) =  \\\\ \\left(a_{1} {\\otimes}  a_{2} {\\otimes}  \\ldots {\\otimes}  a_{i} {\\otimes} \\left(b_{1} +  b_{2} +  \\ldots +  b_{j}\\right){\\otimes} c_{1} {\\otimes}  c_{2} {\\otimes}  \\ldots {\\otimes}  c_{k}\\right) \\end{array} \\end{array}\\right) \\end{array} \\end{array}\\right)\\end{array}\n"
     ]
    }
   ],
   "source": [
    "# Show the LaTeX representation of the expression for convenience if you need it.\n",
    "print(stored_expr.latex())"
   ]
  },
  {
   "cell_type": "code",
   "execution_count": 5,
   "metadata": {},
   "outputs": [
    {
     "data": {
      "text/html": [
       "<table>\n",
       "<tr><th>name</th><th>description</th><th>default</th><th>current value</th><th>related methods</th></tr><tr><td>with_wrapping</td><td>If 'True', wrap the Expression after the parameters</td><td>None</td><td>True</td><td>('with_wrapping',)</td></tr>\n",
       "<tr><td>condition_wrapping</td><td>Wrap 'before' or 'after' the condition (or None).</td><td>None</td><td>None/False</td><td>('with_wrap_after_condition', 'with_wrap_before_condition')</td></tr>\n",
       "<tr><td>wrap_params</td><td>If 'True', wraps every two parameters AND wraps the Expression after the parameters</td><td>None</td><td>None/False</td><td>('with_params',)</td></tr>\n",
       "<tr><td>justification</td><td>justify to the 'left', 'center', or 'right' in the array cells</td><td>center</td><td>center</td><td>('with_justification',)</td></tr>\n",
       "</table>\n"
      ],
      "text/plain": [
       "style name: with_wrapping\n",
       "description: If 'True', wrap the Expression after the parameters\n",
       "default: None\n",
       "current value: True\n",
       "related methods: ('with_wrapping',)\n",
       "style name: condition_wrapping\n",
       "description: Wrap 'before' or 'after' the condition (or None).\n",
       "default: None\n",
       "current value: None/False\n",
       "related methods: ('with_wrap_after_condition', 'with_wrap_before_condition')\n",
       "style name: wrap_params\n",
       "description: If 'True', wraps every two parameters AND wraps the Expression after the parameters\n",
       "default: None\n",
       "current value: None/False\n",
       "related methods: ('with_params',)\n",
       "style name: justification\n",
       "description: justify to the 'left', 'center', or 'right' in the array cells\n",
       "default: center\n",
       "current value: center\n",
       "related methods: ('with_justification',)"
      ]
     },
     "metadata": {},
     "output_type": "display_data"
    }
   ],
   "source": [
    "stored_expr.style_options()"
   ]
  },
  {
   "cell_type": "code",
   "execution_count": 6,
   "metadata": {},
   "outputs": [
    {
     "data": {
      "text/html": [
       "<table><tr><th>&nbsp;</th><th>core type</th><th>sub-expressions</th><th>expression</th></tr>\n",
       "<tr><td>0</td><td>Operation</td><td>operator:&nbsp;1<br>operand:&nbsp;3<br></td><td><a class=\"ProveItLink\" href=\"expr.ipynb\"><img src=\"expr.png\" style=\"display:inline;vertical-align:middle;\" /></a></td></tr>\n",
       "<tr><td>1</td><td>Literal</td><td></td><td><a class=\"ProveItLink\" href=\"../../../../../logic/booleans/quantification/universality/__pv_it/common/083d2baa0b8ecab1d230f9ec29a15aa1355809fb0/expr.ipynb\"><img src=\"../../../../../logic/booleans/quantification/universality/__pv_it/common/083d2baa0b8ecab1d230f9ec29a15aa1355809fb0/expr.png\" style=\"display:inline;vertical-align:middle;\" /></a></td></tr>\n",
       "<tr><td>2</td><td>ExprTuple</td><td>3</td><td><a class=\"ProveItLink\" href=\"../8f9d3cc9179174d6608221f2b501cea4399ef0070/expr.ipynb\"><img src=\"../8f9d3cc9179174d6608221f2b501cea4399ef0070/expr.png\" style=\"display:inline;vertical-align:middle;\" /></a></td></tr>\n",
       "<tr><td>3</td><td>Lambda</td><td>parameters:&nbsp;4<br>body:&nbsp;5<br></td><td><a class=\"ProveItLink\" href=\"../bbd01600e4a24338f569d2a0b64ae8a0c9023f9d0/expr.ipynb\"><img src=\"../bbd01600e4a24338f569d2a0b64ae8a0c9023f9d0/expr.png\" style=\"display:inline;vertical-align:middle;\" /></a></td></tr>\n",
       "<tr><td>4</td><td>ExprTuple</td><td>30, 25, 32</td><td><a class=\"ProveItLink\" href=\"../262e49ab7c5ef0e7432bee3e87adaa93dae86ca60/expr.ipynb\"><img src=\"../262e49ab7c5ef0e7432bee3e87adaa93dae86ca60/expr.png\" style=\"display:inline;vertical-align:middle;\" /></a></td></tr>\n",
       "<tr><td>5</td><td>Operation</td><td>operator:&nbsp;6<br>operands:&nbsp;7<br></td><td><a class=\"ProveItLink\" href=\"../2b215778eec4022e501f004012d9f72b66884fe50/expr.ipynb\"><img src=\"../2b215778eec4022e501f004012d9f72b66884fe50/expr.png\" style=\"display:inline;vertical-align:middle;\" /></a></td></tr>\n",
       "<tr><td>6</td><td>Literal</td><td></td><td><a class=\"ProveItLink\" href=\"../../../../../logic/booleans/implication/__pv_it/common/02bdb382575728da8cdbaed545b9096ea7a1bd5b0/expr.ipynb\"><img src=\"../../../../../logic/booleans/implication/__pv_it/common/02bdb382575728da8cdbaed545b9096ea7a1bd5b0/expr.png\" style=\"display:inline;vertical-align:middle;\" /></a></td></tr>\n",
       "<tr><td>7</td><td>ExprTuple</td><td>8, 9</td><td><a class=\"ProveItLink\" href=\"../5b8af99310921ae0e806f846742c7e2816e7a8b00/expr.ipynb\"><img src=\"../5b8af99310921ae0e806f846742c7e2816e7a8b00/expr.png\" style=\"display:inline;vertical-align:middle;\" /></a></td></tr>\n",
       "<tr><td>8</td><td>Operation</td><td>operator:&nbsp;10<br>operands:&nbsp;11<br></td><td><a class=\"ProveItLink\" href=\"../8a19ba6e5455d3ca07b7b4a8f7d18bb1c4f844190/expr.ipynb\"><img src=\"../8a19ba6e5455d3ca07b7b4a8f7d18bb1c4f844190/expr.png\" style=\"display:inline;vertical-align:middle;\" /></a></td></tr>\n",
       "<tr><td>9</td><td>Operation</td><td>operator:&nbsp;12<br>operands:&nbsp;13<br></td><td><a class=\"ProveItLink\" href=\"../93232daa70c1d498d730c1c2f7d693935cfc60e20/expr.ipynb\"><img src=\"../93232daa70c1d498d730c1c2f7d693935cfc60e20/expr.png\" style=\"display:inline;vertical-align:middle;\" /></a></td></tr>\n",
       "<tr><td>10</td><td>Literal</td><td></td><td><a class=\"ProveItLink\" href=\"../../../../../logic/sets/membership/__pv_it/common/477487d8796864d23d5810f83761435f25167f690/expr.ipynb\"><img src=\"../../../../../logic/sets/membership/__pv_it/common/477487d8796864d23d5810f83761435f25167f690/expr.png\" style=\"display:inline;vertical-align:middle;\" /></a></td></tr>\n",
       "<tr><td>11</td><td>ExprTuple</td><td>16, 14</td><td><a class=\"ProveItLink\" href=\"../415d6d437ae8535c126da5d2ff834f691f4a745b0/expr.ipynb\"><img src=\"../415d6d437ae8535c126da5d2ff834f691f4a745b0/expr.png\" style=\"display:inline;vertical-align:middle;\" /></a></td></tr>\n",
       "<tr><td>12</td><td>Literal</td><td></td><td><a class=\"ProveItLink\" href=\"../../../../../logic/equality/__pv_it/common/fb96dc12b2aa8801dda64d0132b396c63d1502bb0/expr.ipynb\"><img src=\"../../../../../logic/equality/__pv_it/common/fb96dc12b2aa8801dda64d0132b396c63d1502bb0/expr.png\" style=\"display:inline;vertical-align:middle;\" /></a></td></tr>\n",
       "<tr><td>13</td><td>ExprTuple</td><td>15, 16</td><td><a class=\"ProveItLink\" href=\"../36a5d5936ca921e396dca2c5c00224796ed353450/expr.ipynb\"><img src=\"../36a5d5936ca921e396dca2c5c00224796ed353450/expr.png\" style=\"display:inline;vertical-align:middle;\" /></a></td></tr>\n",
       "<tr><td>14</td><td>Variable</td><td></td><td><a class=\"ProveItLink\" href=\"../../../../../__pv_it/common/6d80eb1398b2335bf9ec427954b851b7094dced50/expr.ipynb\"><img src=\"../../../../../__pv_it/common/6d80eb1398b2335bf9ec427954b851b7094dced50/expr.png\" style=\"display:inline;vertical-align:middle;\" /></a></td></tr>\n",
       "<tr><td>15</td><td>Operation</td><td>operator:&nbsp;22<br>operands:&nbsp;17<br></td><td><a class=\"ProveItLink\" href=\"../4cac4866048f7ae7e095d7375581d84332cf4bf60/expr.ipynb\"><img src=\"../4cac4866048f7ae7e095d7375581d84332cf4bf60/expr.png\" style=\"display:inline;vertical-align:middle;\" /></a></td></tr>\n",
       "<tr><td>16</td><td>Operation</td><td>operator:&nbsp;26<br>operands:&nbsp;18<br></td><td><a class=\"ProveItLink\" href=\"../9dfd56d5bd5187fef3882decbc28d50f874f479a0/expr.ipynb\"><img src=\"../9dfd56d5bd5187fef3882decbc28d50f874f479a0/expr.png\" style=\"display:inline;vertical-align:middle;\" /></a></td></tr>\n",
       "<tr><td>17</td><td>ExprTuple</td><td>19</td><td><a class=\"ProveItLink\" href=\"../9a136d965922e2fa2ee1f5aaa0a5fa145be5b3b90/expr.ipynb\"><img src=\"../9a136d965922e2fa2ee1f5aaa0a5fa145be5b3b90/expr.png\" style=\"display:inline;vertical-align:middle;\" /></a></td></tr>\n",
       "<tr><td>18</td><td>ExprTuple</td><td>30, 20, 32</td><td><a class=\"ProveItLink\" href=\"../1d985d603896cce913691b8f9886ceb02ff1ed470/expr.ipynb\"><img src=\"../1d985d603896cce913691b8f9886ceb02ff1ed470/expr.png\" style=\"display:inline;vertical-align:middle;\" /></a></td></tr>\n",
       "<tr><td>19</td><td>ExprRange</td><td>lambda_map:&nbsp;21<br>start_index:&nbsp;38<br>end_index:&nbsp;29<br></td><td><a class=\"ProveItLink\" href=\"../ca3ca8cf279a702eb41828b9946bb8edca7f59570/expr.ipynb\"><img src=\"../ca3ca8cf279a702eb41828b9946bb8edca7f59570/expr.png\" style=\"display:inline;vertical-align:middle;\" /></a></td></tr>\n",
       "<tr><td>20</td><td>Operation</td><td>operator:&nbsp;22<br>operands:&nbsp;23<br></td><td><a class=\"ProveItLink\" href=\"../e9f59ab68c1a359647337691f7db53def9ed50140/expr.ipynb\"><img src=\"../e9f59ab68c1a359647337691f7db53def9ed50140/expr.png\" style=\"display:inline;vertical-align:middle;\" /></a></td></tr>\n",
       "<tr><td>21</td><td>Lambda</td><td>parameter:&nbsp;42<br>body:&nbsp;24<br></td><td><a class=\"ProveItLink\" href=\"../22a5e67038ea8a7278b0bb2b7a7a953ec9f71f500/expr.ipynb\"><img src=\"../22a5e67038ea8a7278b0bb2b7a7a953ec9f71f500/expr.png\" style=\"display:inline;vertical-align:middle;\" /></a></td></tr>\n",
       "<tr><td>22</td><td>Literal</td><td></td><td><a class=\"ProveItLink\" href=\"../../../../addition/__pv_it/common/ac3c140c9094f065c7f7db15c94558731443639c0/expr.ipynb\"><img src=\"../../../../addition/__pv_it/common/ac3c140c9094f065c7f7db15c94558731443639c0/expr.png\" style=\"display:inline;vertical-align:middle;\" /></a></td></tr>\n",
       "<tr><td>23</td><td>ExprTuple</td><td>25</td><td><a class=\"ProveItLink\" href=\"../../../../../core_expr_types/__pv_it/common/55246c75782800bb2a6180a2cbd1b56cd87bef540/expr.ipynb\"><img src=\"../../../../../core_expr_types/__pv_it/common/55246c75782800bb2a6180a2cbd1b56cd87bef540/expr.png\" style=\"display:inline;vertical-align:middle;\" /></a></td></tr>\n",
       "<tr><td>24</td><td>Operation</td><td>operator:&nbsp;26<br>operands:&nbsp;27<br></td><td><a class=\"ProveItLink\" href=\"../df8e1b3417d01afbee60c88fd6f27496ede28bcf0/expr.ipynb\"><img src=\"../df8e1b3417d01afbee60c88fd6f27496ede28bcf0/expr.png\" style=\"display:inline;vertical-align:middle;\" /></a></td></tr>\n",
       "<tr><td>25</td><td>ExprRange</td><td>lambda_map:&nbsp;28<br>start_index:&nbsp;38<br>end_index:&nbsp;29<br></td><td><a class=\"ProveItLink\" href=\"../../../../../core_expr_types/__pv_it/common/d0e70829681f7e0560cecc174fdf76cb311d43400/expr.ipynb\"><img src=\"../../../../../core_expr_types/__pv_it/common/d0e70829681f7e0560cecc174fdf76cb311d43400/expr.png\" style=\"display:inline;vertical-align:middle;\" /></a></td></tr>\n",
       "<tr><td>26</td><td>Literal</td><td></td><td><a class=\"ProveItLink\" href=\"../../common/7fa25b05174babb4710be62d63ebd43f68aa2fec0/expr.ipynb\"><img src=\"../../common/7fa25b05174babb4710be62d63ebd43f68aa2fec0/expr.png\" style=\"display:inline;vertical-align:middle;\" /></a></td></tr>\n",
       "<tr><td>27</td><td>ExprTuple</td><td>30, 31, 32</td><td><a class=\"ProveItLink\" href=\"../7cf31e9c646cd1c91afabd57b3d36957e70ff2d40/expr.ipynb\"><img src=\"../7cf31e9c646cd1c91afabd57b3d36957e70ff2d40/expr.png\" style=\"display:inline;vertical-align:middle;\" /></a></td></tr>\n",
       "<tr><td>28</td><td>Lambda</td><td>parameter:&nbsp;47<br>body:&nbsp;33<br></td><td><a class=\"ProveItLink\" href=\"../../../../../core_expr_types/__pv_it/common/d763764ede9c88a33f4b750791da02d1a21cb6820/expr.ipynb\"><img src=\"../../../../../core_expr_types/__pv_it/common/d763764ede9c88a33f4b750791da02d1a21cb6820/expr.png\" style=\"display:inline;vertical-align:middle;\" /></a></td></tr>\n",
       "<tr><td>29</td><td>Variable</td><td></td><td><a class=\"ProveItLink\" href=\"../../../../../__pv_it/common/1ed21df18baca2f42b561a7ffbf30a2743d594650/expr.ipynb\"><img src=\"../../../../../__pv_it/common/1ed21df18baca2f42b561a7ffbf30a2743d594650/expr.png\" style=\"display:inline;vertical-align:middle;\" /></a></td></tr>\n",
       "<tr><td>30</td><td>ExprRange</td><td>lambda_map:&nbsp;34<br>start_index:&nbsp;38<br>end_index:&nbsp;35<br></td><td><a class=\"ProveItLink\" href=\"../../../../../core_expr_types/__pv_it/common/7230c683fcd56948c826ac1be71b01b6fb2913950/expr.ipynb\"><img src=\"../../../../../core_expr_types/__pv_it/common/7230c683fcd56948c826ac1be71b01b6fb2913950/expr.png\" style=\"display:inline;vertical-align:middle;\" /></a></td></tr>\n",
       "<tr><td>31</td><td>IndexedVar</td><td>variable:&nbsp;40<br>index:&nbsp;42<br></td><td><a class=\"ProveItLink\" href=\"../145e9b9617e48ccba4d6d4045710832f30f68a9d0/expr.ipynb\"><img src=\"../145e9b9617e48ccba4d6d4045710832f30f68a9d0/expr.png\" style=\"display:inline;vertical-align:middle;\" /></a></td></tr>\n",
       "<tr><td>32</td><td>ExprRange</td><td>lambda_map:&nbsp;37<br>start_index:&nbsp;38<br>end_index:&nbsp;39<br></td><td><a class=\"ProveItLink\" href=\"../../../../../core_expr_types/__pv_it/common/847fd9e18bcb1cd068c4b44622f3fd12a6ad6a150/expr.ipynb\"><img src=\"../../../../../core_expr_types/__pv_it/common/847fd9e18bcb1cd068c4b44622f3fd12a6ad6a150/expr.png\" style=\"display:inline;vertical-align:middle;\" /></a></td></tr>\n",
       "<tr><td>33</td><td>IndexedVar</td><td>variable:&nbsp;40<br>index:&nbsp;47<br></td><td><a class=\"ProveItLink\" href=\"../../../../../core_expr_types/__pv_it/common/8542342c36565a593724a99f9c08d995c1c21af20/expr.ipynb\"><img src=\"../../../../../core_expr_types/__pv_it/common/8542342c36565a593724a99f9c08d995c1c21af20/expr.png\" style=\"display:inline;vertical-align:middle;\" /></a></td></tr>\n",
       "<tr><td>34</td><td>Lambda</td><td>parameter:&nbsp;47<br>body:&nbsp;41<br></td><td><a class=\"ProveItLink\" href=\"../../../../../core_expr_types/__pv_it/common/1527ad383e12f9c6ed6b371c9a7dd1892d80da1b0/expr.ipynb\"><img src=\"../../../../../core_expr_types/__pv_it/common/1527ad383e12f9c6ed6b371c9a7dd1892d80da1b0/expr.png\" style=\"display:inline;vertical-align:middle;\" /></a></td></tr>\n",
       "<tr><td>35</td><td>Variable</td><td></td><td><a class=\"ProveItLink\" href=\"../../../../../__pv_it/common/ae955345c83abf786c3aff8681cd5465beae262d0/expr.ipynb\"><img src=\"../../../../../__pv_it/common/ae955345c83abf786c3aff8681cd5465beae262d0/expr.png\" style=\"display:inline;vertical-align:middle;\" /></a></td></tr>\n",
       "<tr><td>36</td><td>ExprTuple</td><td>42</td><td><a class=\"ProveItLink\" href=\"../18f7318b68e45ff8356043b6e71619fa8450fb200/expr.ipynb\"><img src=\"../18f7318b68e45ff8356043b6e71619fa8450fb200/expr.png\" style=\"display:inline;vertical-align:middle;\" /></a></td></tr>\n",
       "<tr><td>37</td><td>Lambda</td><td>parameter:&nbsp;47<br>body:&nbsp;43<br></td><td><a class=\"ProveItLink\" href=\"../../../../../core_expr_types/__pv_it/common/89a29b5b02ce6c37577f6352274a3d503dcdde3e0/expr.ipynb\"><img src=\"../../../../../core_expr_types/__pv_it/common/89a29b5b02ce6c37577f6352274a3d503dcdde3e0/expr.png\" style=\"display:inline;vertical-align:middle;\" /></a></td></tr>\n",
       "<tr><td>38</td><td>Literal</td><td></td><td><a class=\"ProveItLink\" href=\"../../../../../numbers/numerals/__pv_it/common/682157d4892d216d9e5626ed533aff9b56b9506e0/expr.ipynb\"><img src=\"../../../../../numbers/numerals/__pv_it/common/682157d4892d216d9e5626ed533aff9b56b9506e0/expr.png\" style=\"display:inline;vertical-align:middle;\" /></a></td></tr>\n",
       "<tr><td>39</td><td>Variable</td><td></td><td><a class=\"ProveItLink\" href=\"../../../../../__pv_it/common/63b7c64bf9ec7a04ecc396c7a1670f3f12fb59490/expr.ipynb\"><img src=\"../../../../../__pv_it/common/63b7c64bf9ec7a04ecc396c7a1670f3f12fb59490/expr.png\" style=\"display:inline;vertical-align:middle;\" /></a></td></tr>\n",
       "<tr><td>40</td><td>Variable</td><td></td><td><a class=\"ProveItLink\" href=\"../../../../../__pv_it/common/195236b98c6c564a75b5dbada74b173bc52d5c3e0/expr.ipynb\"><img src=\"../../../../../__pv_it/common/195236b98c6c564a75b5dbada74b173bc52d5c3e0/expr.png\" style=\"display:inline;vertical-align:middle;\" /></a></td></tr>\n",
       "<tr><td>41</td><td>IndexedVar</td><td>variable:&nbsp;44<br>index:&nbsp;47<br></td><td><a class=\"ProveItLink\" href=\"../../../../../core_expr_types/__pv_it/common/3a62c13e156d62d52fe585fa37cc2172fcf685260/expr.ipynb\"><img src=\"../../../../../core_expr_types/__pv_it/common/3a62c13e156d62d52fe585fa37cc2172fcf685260/expr.png\" style=\"display:inline;vertical-align:middle;\" /></a></td></tr>\n",
       "<tr><td>42</td><td>Variable</td><td></td><td><a class=\"ProveItLink\" href=\"../9a18d67b443cf8d92289c655ed91ec78766170a90/expr.ipynb\"><img src=\"../9a18d67b443cf8d92289c655ed91ec78766170a90/expr.png\" style=\"display:inline;vertical-align:middle;\" /></a></td></tr>\n",
       "<tr><td>43</td><td>IndexedVar</td><td>variable:&nbsp;45<br>index:&nbsp;47<br></td><td><a class=\"ProveItLink\" href=\"../../../../../core_expr_types/__pv_it/common/8ffbefe913f7c934b2e3a2a12315d5900822d9d00/expr.ipynb\"><img src=\"../../../../../core_expr_types/__pv_it/common/8ffbefe913f7c934b2e3a2a12315d5900822d9d00/expr.png\" style=\"display:inline;vertical-align:middle;\" /></a></td></tr>\n",
       "<tr><td>44</td><td>Variable</td><td></td><td><a class=\"ProveItLink\" href=\"../../../../../__pv_it/common/c06c606ec12678c58933ac85412ecadc2ae28be60/expr.ipynb\"><img src=\"../../../../../__pv_it/common/c06c606ec12678c58933ac85412ecadc2ae28be60/expr.png\" style=\"display:inline;vertical-align:middle;\" /></a></td></tr>\n",
       "<tr><td>45</td><td>Variable</td><td></td><td><a class=\"ProveItLink\" href=\"../../../../../__pv_it/common/ceef4280a2f1cc604b455b54e735507244cc62cd0/expr.ipynb\"><img src=\"../../../../../__pv_it/common/ceef4280a2f1cc604b455b54e735507244cc62cd0/expr.png\" style=\"display:inline;vertical-align:middle;\" /></a></td></tr>\n",
       "<tr><td>46</td><td>ExprTuple</td><td>47</td><td><a class=\"ProveItLink\" href=\"../../../../../core_expr_types/__pv_it/common/4b0dd6be36d76552eda6a95d5b4a27f5a5b62f900/expr.ipynb\"><img src=\"../../../../../core_expr_types/__pv_it/common/4b0dd6be36d76552eda6a95d5b4a27f5a5b62f900/expr.png\" style=\"display:inline;vertical-align:middle;\" /></a></td></tr>\n",
       "<tr><td>47</td><td>Variable</td><td></td><td><a class=\"ProveItLink\" href=\"../../../../../core_expr_types/__pv_it/common/006c465e50948aa2b52285e2de47974f741255cc0/expr.ipynb\"><img src=\"../../../../../core_expr_types/__pv_it/common/006c465e50948aa2b52285e2de47974f741255cc0/expr.png\" style=\"display:inline;vertical-align:middle;\" /></a></td></tr>\n",
       "</table>\n"
      ],
      "text/plain": [
       "0. forall_{a_{1}, a_{2}, ..., a_{i}, b_{1}, b_{2}, ..., b_{j}, c_{1}, c_{2}, ..., c_{k}} (((a_{1} otimes  a_{2} otimes  ... otimes  a_{i} otimes (b_{1} +  b_{2} +  ... +  b_{j})otimes c_{1} otimes  c_{2} otimes  ... otimes  c_{k}) in V) =>  \\\\ (((a_{1} otimes  a_{2} otimes  ... otimes  a_{i} otimes b_{1}otimes c_{1} otimes  c_{2} otimes  ... otimes  c_{k}) +  (a_{1} otimes  a_{2} otimes  ... otimes  a_{i} otimes b_{2}otimes c_{1} otimes  c_{2} otimes  ... otimes  c_{k}) +  ... +  (a_{1} otimes  a_{2} otimes  ... otimes  a_{i} otimes b_{j}otimes c_{1} otimes  c_{2} otimes  ... otimes  c_{k})) =  \\\\ (a_{1} otimes  a_{2} otimes  ... otimes  a_{i} otimes (b_{1} +  b_{2} +  ... +  b_{j})otimes c_{1} otimes  c_{2} otimes  ... otimes  c_{k})))\n",
       "   core type: Operation\n",
       "   operator: 1\n",
       "   operand: 3\n",
       "1. forall\n",
       "   core type: Literal\n",
       "   sub-expressions: \n",
       "2. ((a_{1}, a_{2}, ..., a_{i}, b_{1}, b_{2}, ..., b_{j}, c_{1}, c_{2}, ..., c_{k}) -> (((a_{1} otimes  a_{2} otimes  ... otimes  a_{i} otimes (b_{1} +  b_{2} +  ... +  b_{j})otimes c_{1} otimes  c_{2} otimes  ... otimes  c_{k}) in V) =>  \\\\ (((a_{1} otimes  a_{2} otimes  ... otimes  a_{i} otimes b_{1}otimes c_{1} otimes  c_{2} otimes  ... otimes  c_{k}) +  (a_{1} otimes  a_{2} otimes  ... otimes  a_{i} otimes b_{2}otimes c_{1} otimes  c_{2} otimes  ... otimes  c_{k}) +  ... +  (a_{1} otimes  a_{2} otimes  ... otimes  a_{i} otimes b_{j}otimes c_{1} otimes  c_{2} otimes  ... otimes  c_{k})) =  \\\\ (a_{1} otimes  a_{2} otimes  ... otimes  a_{i} otimes (b_{1} +  b_{2} +  ... +  b_{j})otimes c_{1} otimes  c_{2} otimes  ... otimes  c_{k}))))\n",
       "   core type: ExprTuple\n",
       "   sub-expressions: 3\n",
       "3. (a_{1}, a_{2}, ..., a_{i}, b_{1}, b_{2}, ..., b_{j}, c_{1}, c_{2}, ..., c_{k}) -> (((a_{1} otimes  a_{2} otimes  ... otimes  a_{i} otimes (b_{1} +  b_{2} +  ... +  b_{j})otimes c_{1} otimes  c_{2} otimes  ... otimes  c_{k}) in V) =>  \\\\ (((a_{1} otimes  a_{2} otimes  ... otimes  a_{i} otimes b_{1}otimes c_{1} otimes  c_{2} otimes  ... otimes  c_{k}) +  (a_{1} otimes  a_{2} otimes  ... otimes  a_{i} otimes b_{2}otimes c_{1} otimes  c_{2} otimes  ... otimes  c_{k}) +  ... +  (a_{1} otimes  a_{2} otimes  ... otimes  a_{i} otimes b_{j}otimes c_{1} otimes  c_{2} otimes  ... otimes  c_{k})) =  \\\\ (a_{1} otimes  a_{2} otimes  ... otimes  a_{i} otimes (b_{1} +  b_{2} +  ... +  b_{j})otimes c_{1} otimes  c_{2} otimes  ... otimes  c_{k})))\n",
       "   core type: Lambda\n",
       "   parameters: 4\\n   body: 5\n",
       "4. (a_{1}, a_{2}, ..., a_{i},b_{1}, b_{2}, ..., b_{j},c_{1}, c_{2}, ..., c_{k})\n",
       "   core type: ExprTuple\n",
       "   sub-expressions: 30, 25, 32\n",
       "5. ((a_{1} otimes  a_{2} otimes  ... otimes  a_{i} otimes (b_{1} +  b_{2} +  ... +  b_{j})otimes c_{1} otimes  c_{2} otimes  ... otimes  c_{k}) in V) =>  \\\\ (((a_{1} otimes  a_{2} otimes  ... otimes  a_{i} otimes b_{1}otimes c_{1} otimes  c_{2} otimes  ... otimes  c_{k}) +  (a_{1} otimes  a_{2} otimes  ... otimes  a_{i} otimes b_{2}otimes c_{1} otimes  c_{2} otimes  ... otimes  c_{k}) +  ... +  (a_{1} otimes  a_{2} otimes  ... otimes  a_{i} otimes b_{j}otimes c_{1} otimes  c_{2} otimes  ... otimes  c_{k})) =  \\\\ (a_{1} otimes  a_{2} otimes  ... otimes  a_{i} otimes (b_{1} +  b_{2} +  ... +  b_{j})otimes c_{1} otimes  c_{2} otimes  ... otimes  c_{k}))\n",
       "   core type: Operation\n",
       "   operator: 6\n",
       "   operands: 7\n",
       "6. =>\n",
       "   core type: Literal\n",
       "   sub-expressions: \n",
       "7. ((a_{1} otimes  a_{2} otimes  ... otimes  a_{i} otimes (b_{1} +  b_{2} +  ... +  b_{j})otimes c_{1} otimes  c_{2} otimes  ... otimes  c_{k}) in V, ((a_{1} otimes  a_{2} otimes  ... otimes  a_{i} otimes b_{1}otimes c_{1} otimes  c_{2} otimes  ... otimes  c_{k}) +  (a_{1} otimes  a_{2} otimes  ... otimes  a_{i} otimes b_{2}otimes c_{1} otimes  c_{2} otimes  ... otimes  c_{k}) +  ... +  (a_{1} otimes  a_{2} otimes  ... otimes  a_{i} otimes b_{j}otimes c_{1} otimes  c_{2} otimes  ... otimes  c_{k})) =  \\\\ (a_{1} otimes  a_{2} otimes  ... otimes  a_{i} otimes (b_{1} +  b_{2} +  ... +  b_{j})otimes c_{1} otimes  c_{2} otimes  ... otimes  c_{k}))\n",
       "   core type: ExprTuple\n",
       "   sub-expressions: 8, 9\n",
       "8. (a_{1} otimes  a_{2} otimes  ... otimes  a_{i} otimes (b_{1} +  b_{2} +  ... +  b_{j})otimes c_{1} otimes  c_{2} otimes  ... otimes  c_{k}) in V\n",
       "   core type: Operation\n",
       "   operator: 10\n",
       "   operands: 11\n",
       "9. ((a_{1} otimes  a_{2} otimes  ... otimes  a_{i} otimes b_{1}otimes c_{1} otimes  c_{2} otimes  ... otimes  c_{k}) +  (a_{1} otimes  a_{2} otimes  ... otimes  a_{i} otimes b_{2}otimes c_{1} otimes  c_{2} otimes  ... otimes  c_{k}) +  ... +  (a_{1} otimes  a_{2} otimes  ... otimes  a_{i} otimes b_{j}otimes c_{1} otimes  c_{2} otimes  ... otimes  c_{k})) =  \\\\ (a_{1} otimes  a_{2} otimes  ... otimes  a_{i} otimes (b_{1} +  b_{2} +  ... +  b_{j})otimes c_{1} otimes  c_{2} otimes  ... otimes  c_{k})\n",
       "   core type: Operation\n",
       "   operator: 12\n",
       "   operands: 13\n",
       "10. in\n",
       "    core type: Literal\n",
       "    sub-expressions: \n",
       "11. (a_{1} otimes  a_{2} otimes  ... otimes  a_{i} otimes (b_{1} +  b_{2} +  ... +  b_{j})otimes c_{1} otimes  c_{2} otimes  ... otimes  c_{k}, V)\n",
       "    core type: ExprTuple\n",
       "    sub-expressions: 16, 14\n",
       "12. =\n",
       "    core type: Literal\n",
       "    sub-expressions: \n",
       "13. ((a_{1} otimes  a_{2} otimes  ... otimes  a_{i} otimes b_{1}otimes c_{1} otimes  c_{2} otimes  ... otimes  c_{k}) +  (a_{1} otimes  a_{2} otimes  ... otimes  a_{i} otimes b_{2}otimes c_{1} otimes  c_{2} otimes  ... otimes  c_{k}) +  ... +  (a_{1} otimes  a_{2} otimes  ... otimes  a_{i} otimes b_{j}otimes c_{1} otimes  c_{2} otimes  ... otimes  c_{k}), a_{1} otimes  a_{2} otimes  ... otimes  a_{i} otimes (b_{1} +  b_{2} +  ... +  b_{j})otimes c_{1} otimes  c_{2} otimes  ... otimes  c_{k})\n",
       "    core type: ExprTuple\n",
       "    sub-expressions: 15, 16\n",
       "14. V\n",
       "    core type: Variable\n",
       "    sub-expressions: \n",
       "15. (a_{1} otimes  a_{2} otimes  ... otimes  a_{i} otimes b_{1}otimes c_{1} otimes  c_{2} otimes  ... otimes  c_{k}) +  (a_{1} otimes  a_{2} otimes  ... otimes  a_{i} otimes b_{2}otimes c_{1} otimes  c_{2} otimes  ... otimes  c_{k}) +  ... +  (a_{1} otimes  a_{2} otimes  ... otimes  a_{i} otimes b_{j}otimes c_{1} otimes  c_{2} otimes  ... otimes  c_{k})\n",
       "    core type: Operation\n",
       "    operator: 22\n",
       "    operands: 17\n",
       "16. a_{1} otimes  a_{2} otimes  ... otimes  a_{i} otimes (b_{1} +  b_{2} +  ... +  b_{j})otimes c_{1} otimes  c_{2} otimes  ... otimes  c_{k}\n",
       "    core type: Operation\n",
       "    operator: 26\n",
       "    operands: 18\n",
       "17. ((a_{1} otimes  a_{2} otimes  ... otimes  a_{i} otimes b_{1}otimes c_{1} otimes  c_{2} otimes  ... otimes  c_{k}), (a_{1} otimes  a_{2} otimes  ... otimes  a_{i} otimes b_{2}otimes c_{1} otimes  c_{2} otimes  ... otimes  c_{k}), ..., (a_{1} otimes  a_{2} otimes  ... otimes  a_{i} otimes b_{j}otimes c_{1} otimes  c_{2} otimes  ... otimes  c_{k}))\n",
       "    core type: ExprTuple\n",
       "    sub-expressions: 19\n",
       "18. (a_{1}, a_{2}, ..., a_{i}, b_{1} +  b_{2} +  ... +  b_{j},c_{1}, c_{2}, ..., c_{k})\n",
       "    core type: ExprTuple\n",
       "    sub-expressions: 30, 20, 32\n",
       "19. (a_{1} otimes  a_{2} otimes  ... otimes  a_{i} otimes b_{1}otimes c_{1} otimes  c_{2} otimes  ... otimes  c_{k}), (a_{1} otimes  a_{2} otimes  ... otimes  a_{i} otimes b_{2}otimes c_{1} otimes  c_{2} otimes  ... otimes  c_{k}), ..., (a_{1} otimes  a_{2} otimes  ... otimes  a_{i} otimes b_{j}otimes c_{1} otimes  c_{2} otimes  ... otimes  c_{k})\n",
       "    core type: ExprRange\n",
       "    lambda_map: 21\n",
       "    start_index: 38\n",
       "    end_index: 29\n",
       "20. b_{1} +  b_{2} +  ... +  b_{j}\n",
       "    core type: Operation\n",
       "    operator: 22\n",
       "    operands: 23\n",
       "21. _b -> (a_{1} otimes  a_{2} otimes  ... otimes  a_{i} otimes b_{_b}otimes c_{1} otimes  c_{2} otimes  ... otimes  c_{k})\n",
       "    core type: Lambda\n",
       "    parameter: 42\n",
       "    body: 24\n",
       "22. +\n",
       "    core type: Literal\n",
       "    sub-expressions: \n",
       "23. (b_{1}, b_{2}, ..., b_{j})\n",
       "    core type: ExprTuple\n",
       "    sub-expressions: 25\n",
       "24. a_{1} otimes  a_{2} otimes  ... otimes  a_{i} otimes b_{_b}otimes c_{1} otimes  c_{2} otimes  ... otimes  c_{k}\n",
       "    core type: Operation\n",
       "    operator: 26\n",
       "    operands: 27\n",
       "25. b_{1}, b_{2}, ..., b_{j}\n",
       "    core type: ExprRange\n",
       "    lambda_map: 28\n",
       "    start_index: 38\n",
       "    end_index: 29\n",
       "26. otimes\n",
       "    core type: Literal\n",
       "    sub-expressions: \n",
       "27. (a_{1}, a_{2}, ..., a_{i}, b_{_b},c_{1}, c_{2}, ..., c_{k})\n",
       "    core type: ExprTuple\n",
       "    sub-expressions: 30, 31, 32\n",
       "28. _a -> b_{_a}\n",
       "    core type: Lambda\n",
       "    parameter: 47\n",
       "    body: 33\n",
       "29. j\n",
       "    core type: Variable\n",
       "    sub-expressions: \n",
       "30. a_{1}, a_{2}, ..., a_{i}\n",
       "    core type: ExprRange\n",
       "    lambda_map: 34\n",
       "    start_index: 38\n",
       "    end_index: 35\n",
       "31. b_{_b}\n",
       "    core type: IndexedVar\n",
       "variable: 40\n",
       "index: 42\n",
       "32. c_{1}, c_{2}, ..., c_{k}\n",
       "    core type: ExprRange\n",
       "    lambda_map: 37\n",
       "    start_index: 38\n",
       "    end_index: 39\n",
       "33. b_{_a}\n",
       "    core type: IndexedVar\n",
       "variable: 40\n",
       "index: 47\n",
       "34. _a -> a_{_a}\n",
       "    core type: Lambda\n",
       "    parameter: 47\n",
       "    body: 41\n",
       "35. i\n",
       "    core type: Variable\n",
       "    sub-expressions: \n",
       "36. (_b)\n",
       "    core type: ExprTuple\n",
       "    sub-expressions: 42\n",
       "37. _a -> c_{_a}\n",
       "    core type: Lambda\n",
       "    parameter: 47\n",
       "    body: 43\n",
       "38. 1\n",
       "    core type: Literal\n",
       "    sub-expressions: \n",
       "39. k\n",
       "    core type: Variable\n",
       "    sub-expressions: \n",
       "40. b\n",
       "    core type: Variable\n",
       "    sub-expressions: \n",
       "41. a_{_a}\n",
       "    core type: IndexedVar\n",
       "variable: 44\n",
       "index: 47\n",
       "42. _b\n",
       "    core type: Variable\n",
       "    sub-expressions: \n",
       "43. c_{_a}\n",
       "    core type: IndexedVar\n",
       "variable: 45\n",
       "index: 47\n",
       "44. a\n",
       "    core type: Variable\n",
       "    sub-expressions: \n",
       "45. c\n",
       "    core type: Variable\n",
       "    sub-expressions: \n",
       "46. (_a)\n",
       "    core type: ExprTuple\n",
       "    sub-expressions: 47\n",
       "47. _a\n",
       "    core type: Variable\n",
       "    sub-expressions: "
      ]
     },
     "metadata": {},
     "output_type": "display_data"
    }
   ],
   "source": [
    "# display the expression information\n",
    "stored_expr.expr_info()"
   ]
  },
  {
   "cell_type": "code",
   "execution_count": null,
   "metadata": {},
   "outputs": [],
   "source": []
  }
 ],
 "metadata": {
  "kernelspec": {
   "display_name": "Python 3",
   "language": "python",
   "name": "python3"
  }
 },
 "nbformat": 4,
 "nbformat_minor": 0
}