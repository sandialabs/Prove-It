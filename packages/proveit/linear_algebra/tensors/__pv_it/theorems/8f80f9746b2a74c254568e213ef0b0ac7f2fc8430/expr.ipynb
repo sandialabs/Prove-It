{
 "cells": [
  {
   "cell_type": "markdown",
   "metadata": {},
   "source": [
    "Expression of type <a class=\"ProveItLink\" href=\"../../../../../../../doc/html/api/proveit.ExprTuple.html\">ExprTuple</a>\n",
    "=======================\n",
    "# from the theory of <a class=\"ProveItLink\" href=\"../../../_theory_nbs_/theory.ipynb\">proveit.linear_algebra.tensors</a>"
   ]
  },
  {
   "cell_type": "code",
   "execution_count": 1,
   "metadata": {},
   "outputs": [],
   "source": [
    "import proveit\n",
    "# Automation is not needed when building an expression:\n",
    "proveit.defaults.automation = False # This will speed things up.\n",
    "proveit.defaults.inline_pngs = False # Makes files smaller.\n",
    "%load_expr # Load the stored expression as 'stored_expr'\n",
    "# import Expression classes needed to build the expression\n",
    "from proveit import A, B, C, Conditional, ExprRange, ExprTuple, IndexedVar, K, Lambda, Variable, i, j, k\n",
    "from proveit.core_expr_types import A_1_to_i, B_1_to_j, C_1_to_k\n",
    "from proveit.linear_algebra import TensorProd, VecSpaces\n",
    "from proveit.logic import And, Equals, InClass\n",
    "from proveit.numbers import one"
   ]
  },
  {
   "cell_type": "code",
   "execution_count": 2,
   "metadata": {},
   "outputs": [
    {
     "data": {
      "text/html": [
       "<strong id=\"expr\">expr:</strong> <a class=\"ProveItLink\" href=\"expr.ipynb\"><img src=\"expr.png\" style=\"display:inline;vertical-align:middle;\" /></a><br>"
      ],
      "text/plain": [
       "<IPython.core.display.HTML object>"
      ]
     },
     "metadata": {},
     "output_type": "display_data"
    }
   ],
   "source": [
    "# build up the expression from sub-expressions\n",
    "sub_expr1 = Variable(\"_a\", latex_format = r\"{_{-}a}\")\n",
    "sub_expr2 = VecSpaces(K)\n",
    "expr = ExprTuple(Lambda([A_1_to_i, B_1_to_j, C_1_to_k], Conditional(Equals(TensorProd(A_1_to_i, B_1_to_j, C_1_to_k), TensorProd(A_1_to_i, TensorProd(B_1_to_j), C_1_to_k)).with_wrapping_at(1), And(ExprRange(sub_expr1, InClass(IndexedVar(A, sub_expr1), sub_expr2), one, i), ExprRange(sub_expr1, InClass(IndexedVar(B, sub_expr1), sub_expr2), one, j), ExprRange(sub_expr1, InClass(IndexedVar(C, sub_expr1), sub_expr2), one, k)))))"
   ]
  },
  {
   "cell_type": "code",
   "execution_count": 3,
   "metadata": {},
   "outputs": [
    {
     "name": "stdout",
     "output_type": "stream",
     "text": [
      "Passed sanity check: expr matches stored_expr\n"
     ]
    }
   ],
   "source": [
    "# check that the built expression is the same as the stored expression\n",
    "assert expr == stored_expr\n",
    "assert expr._style_id == stored_expr._style_id\n",
    "print(\"Passed sanity check: expr matches stored_expr\")"
   ]
  },
  {
   "cell_type": "code",
   "execution_count": 4,
   "metadata": {},
   "outputs": [
    {
     "name": "stdout",
     "output_type": "stream",
     "text": [
      "\\left(\\left(A_{1}, A_{2}, \\ldots, A_{i}, B_{1}, B_{2}, \\ldots, B_{j}, C_{1}, C_{2}, \\ldots, C_{k}\\right) \\mapsto \\left\\{\\begin{array}{c} \\begin{array}{l} \\left(A_{1} {\\otimes}  A_{2} {\\otimes}  \\ldots {\\otimes}  A_{i}{\\otimes} B_{1} {\\otimes}  B_{2} {\\otimes}  \\ldots {\\otimes}  B_{j}{\\otimes} C_{1} {\\otimes}  C_{2} {\\otimes}  \\ldots {\\otimes}  C_{k}\\right) \\\\  = \\left(A_{1} {\\otimes}  A_{2} {\\otimes}  \\ldots {\\otimes}  A_{i} {\\otimes} \\left(B_{1} {\\otimes}  B_{2} {\\otimes}  \\ldots {\\otimes}  B_{j}\\right){\\otimes} C_{1} {\\otimes}  C_{2} {\\otimes}  \\ldots {\\otimes}  C_{k}\\right) \\end{array} \\end{array} \\textrm{ if } \\left(A_{1} \\underset{{\\scriptscriptstyle c}}{\\in} \\textrm{VecSpaces}\\left(K\\right)\\right) ,  \\left(A_{2} \\underset{{\\scriptscriptstyle c}}{\\in} \\textrm{VecSpaces}\\left(K\\right)\\right) ,  \\ldots ,  \\left(A_{i} \\underset{{\\scriptscriptstyle c}}{\\in} \\textrm{VecSpaces}\\left(K\\right)\\right), \\left(B_{1} \\underset{{\\scriptscriptstyle c}}{\\in} \\textrm{VecSpaces}\\left(K\\right)\\right) ,  \\left(B_{2} \\underset{{\\scriptscriptstyle c}}{\\in} \\textrm{VecSpaces}\\left(K\\right)\\right) ,  \\ldots ,  \\left(B_{j} \\underset{{\\scriptscriptstyle c}}{\\in} \\textrm{VecSpaces}\\left(K\\right)\\right), \\left(C_{1} \\underset{{\\scriptscriptstyle c}}{\\in} \\textrm{VecSpaces}\\left(K\\right)\\right) ,  \\left(C_{2} \\underset{{\\scriptscriptstyle c}}{\\in} \\textrm{VecSpaces}\\left(K\\right)\\right) ,  \\ldots ,  \\left(C_{k} \\underset{{\\scriptscriptstyle c}}{\\in} \\textrm{VecSpaces}\\left(K\\right)\\right)\\right..\\right)\n"
     ]
    }
   ],
   "source": [
    "# Show the LaTeX representation of the expression for convenience if you need it.\n",
    "print(stored_expr.latex())"
   ]
  },
  {
   "cell_type": "code",
   "execution_count": 5,
   "metadata": {},
   "outputs": [
    {
     "data": {
      "text/html": [
       "no style options"
      ],
      "text/plain": [
       "no style options"
      ]
     },
     "metadata": {},
     "output_type": "display_data"
    }
   ],
   "source": [
    "stored_expr.style_options()"
   ]
  },
  {
   "cell_type": "code",
   "execution_count": 6,
   "metadata": {},
   "outputs": [
    {
     "data": {
      "text/html": [
       "<table><tr><th>&nbsp;</th><th>core type</th><th>sub-expressions</th><th>expression</th></tr>\n",
       "<tr><td>0</td><td>ExprTuple</td><td>1</td><td><a class=\"ProveItLink\" href=\"expr.ipynb\"><img src=\"expr.png\" style=\"display:inline;vertical-align:middle;\" /></a></td></tr>\n",
       "<tr><td>1</td><td>Lambda</td><td>parameters:&nbsp;14<br>body:&nbsp;2<br></td><td><a class=\"ProveItLink\" href=\"../b87109ea1245a3e4ab9cf3bba2abb9eeed8d21e90/expr.ipynb\"><img src=\"../b87109ea1245a3e4ab9cf3bba2abb9eeed8d21e90/expr.png\" style=\"display:inline;vertical-align:middle;\" /></a></td></tr>\n",
       "<tr><td>2</td><td>Conditional</td><td>value:&nbsp;3<br>condition:&nbsp;4<br></td><td><a class=\"ProveItLink\" href=\"../faa9208dc3878b102c76da450b5edb4132c519510/expr.ipynb\"><img src=\"../faa9208dc3878b102c76da450b5edb4132c519510/expr.png\" style=\"display:inline;vertical-align:middle;\" /></a></td></tr>\n",
       "<tr><td>3</td><td>Operation</td><td>operator:&nbsp;5<br>operands:&nbsp;6<br></td><td><a class=\"ProveItLink\" href=\"../363ada73f1fb05134b2baf019f11e082f19ca08f0/expr.ipynb\"><img src=\"../363ada73f1fb05134b2baf019f11e082f19ca08f0/expr.png\" style=\"display:inline;vertical-align:middle;\" /></a></td></tr>\n",
       "<tr><td>4</td><td>Operation</td><td>operator:&nbsp;7<br>operands:&nbsp;8<br></td><td><a class=\"ProveItLink\" href=\"../ed55bc058784218486f09e0a9691be18f6616bce0/expr.ipynb\"><img src=\"../ed55bc058784218486f09e0a9691be18f6616bce0/expr.png\" style=\"display:inline;vertical-align:middle;\" /></a></td></tr>\n",
       "<tr><td>5</td><td>Literal</td><td></td><td><a class=\"ProveItLink\" href=\"../../../../../logic/equality/__pv_it/common/fb96dc12b2aa8801dda64d0132b396c63d1502bb0/expr.ipynb\"><img src=\"../../../../../logic/equality/__pv_it/common/fb96dc12b2aa8801dda64d0132b396c63d1502bb0/expr.png\" style=\"display:inline;vertical-align:middle;\" /></a></td></tr>\n",
       "<tr><td>6</td><td>ExprTuple</td><td>9, 10</td><td><a class=\"ProveItLink\" href=\"../82219101ccf4ef7ba1cdf99945b966783804cf120/expr.ipynb\"><img src=\"../82219101ccf4ef7ba1cdf99945b966783804cf120/expr.png\" style=\"display:inline;vertical-align:middle;\" /></a></td></tr>\n",
       "<tr><td>7</td><td>Literal</td><td></td><td><a class=\"ProveItLink\" href=\"../../../../../logic/booleans/conjunction/__pv_it/common/42118ff318bd65d98b1393f64ce7c2269feef76e0/expr.ipynb\"><img src=\"../../../../../logic/booleans/conjunction/__pv_it/common/42118ff318bd65d98b1393f64ce7c2269feef76e0/expr.png\" style=\"display:inline;vertical-align:middle;\" /></a></td></tr>\n",
       "<tr><td>8</td><td>ExprTuple</td><td>11, 12, 13</td><td><a class=\"ProveItLink\" href=\"../175fdb6dc4f39173567ab957b8ddc58983e49e000/expr.ipynb\"><img src=\"../175fdb6dc4f39173567ab957b8ddc58983e49e000/expr.png\" style=\"display:inline;vertical-align:middle;\" /></a></td></tr>\n",
       "<tr><td>9</td><td>Operation</td><td>operator:&nbsp;27<br>operands:&nbsp;14<br></td><td><a class=\"ProveItLink\" href=\"../e6886052a29d5b477fc9d879678c65f42415fd570/expr.ipynb\"><img src=\"../e6886052a29d5b477fc9d879678c65f42415fd570/expr.png\" style=\"display:inline;vertical-align:middle;\" /></a></td></tr>\n",
       "<tr><td>10</td><td>Operation</td><td>operator:&nbsp;27<br>operands:&nbsp;15<br></td><td><a class=\"ProveItLink\" href=\"../8fa4aa40e9b1982344f616cd0986dae91880d5690/expr.ipynb\"><img src=\"../8fa4aa40e9b1982344f616cd0986dae91880d5690/expr.png\" style=\"display:inline;vertical-align:middle;\" /></a></td></tr>\n",
       "<tr><td>11</td><td>ExprRange</td><td>lambda_map:&nbsp;16<br>start_index:&nbsp;40<br>end_index:&nbsp;26<br></td><td><a class=\"ProveItLink\" href=\"../aa1a89c05e14a9d845b4110936d89618c82fba450/expr.ipynb\"><img src=\"../aa1a89c05e14a9d845b4110936d89618c82fba450/expr.png\" style=\"display:inline;vertical-align:middle;\" /></a></td></tr>\n",
       "<tr><td>12</td><td>ExprRange</td><td>lambda_map:&nbsp;17<br>start_index:&nbsp;40<br>end_index:&nbsp;41<br></td><td><a class=\"ProveItLink\" href=\"../06ca11f8fe7ebb4a86526a7b9137b381d71726500/expr.ipynb\"><img src=\"../06ca11f8fe7ebb4a86526a7b9137b381d71726500/expr.png\" style=\"display:inline;vertical-align:middle;\" /></a></td></tr>\n",
       "<tr><td>13</td><td>ExprRange</td><td>lambda_map:&nbsp;18<br>start_index:&nbsp;40<br>end_index:&nbsp;30<br></td><td><a class=\"ProveItLink\" href=\"../6d4e687c60882d4aef0456a4809c7255edc637050/expr.ipynb\"><img src=\"../6d4e687c60882d4aef0456a4809c7255edc637050/expr.png\" style=\"display:inline;vertical-align:middle;\" /></a></td></tr>\n",
       "<tr><td>14</td><td>ExprTuple</td><td>19, 35, 21</td><td><a class=\"ProveItLink\" href=\"../0ba016c72a7f91cb27a2c1a8ad2da7ff13d0e51c0/expr.ipynb\"><img src=\"../0ba016c72a7f91cb27a2c1a8ad2da7ff13d0e51c0/expr.png\" style=\"display:inline;vertical-align:middle;\" /></a></td></tr>\n",
       "<tr><td>15</td><td>ExprTuple</td><td>19, 20, 21</td><td><a class=\"ProveItLink\" href=\"../16660c39788b1cf2ca93baeea28445f70e28f9ca0/expr.ipynb\"><img src=\"../16660c39788b1cf2ca93baeea28445f70e28f9ca0/expr.png\" style=\"display:inline;vertical-align:middle;\" /></a></td></tr>\n",
       "<tr><td>16</td><td>Lambda</td><td>parameter:&nbsp;50<br>body:&nbsp;22<br></td><td><a class=\"ProveItLink\" href=\"../8113b654506f4794c3f5de9707227319febf29510/expr.ipynb\"><img src=\"../8113b654506f4794c3f5de9707227319febf29510/expr.png\" style=\"display:inline;vertical-align:middle;\" /></a></td></tr>\n",
       "<tr><td>17</td><td>Lambda</td><td>parameter:&nbsp;50<br>body:&nbsp;23<br></td><td><a class=\"ProveItLink\" href=\"../dee7449fd512d148dadb86030f4d92109945ebc40/expr.ipynb\"><img src=\"../dee7449fd512d148dadb86030f4d92109945ebc40/expr.png\" style=\"display:inline;vertical-align:middle;\" /></a></td></tr>\n",
       "<tr><td>18</td><td>Lambda</td><td>parameter:&nbsp;50<br>body:&nbsp;24<br></td><td><a class=\"ProveItLink\" href=\"../79dabb4d389280eaf5445bc8ea805f7aa10efba20/expr.ipynb\"><img src=\"../79dabb4d389280eaf5445bc8ea805f7aa10efba20/expr.png\" style=\"display:inline;vertical-align:middle;\" /></a></td></tr>\n",
       "<tr><td>19</td><td>ExprRange</td><td>lambda_map:&nbsp;25<br>start_index:&nbsp;40<br>end_index:&nbsp;26<br></td><td><a class=\"ProveItLink\" href=\"../../../../../core_expr_types/__pv_it/common/de6f19c8d568395af863afba5ac91186a67491650/expr.ipynb\"><img src=\"../../../../../core_expr_types/__pv_it/common/de6f19c8d568395af863afba5ac91186a67491650/expr.png\" style=\"display:inline;vertical-align:middle;\" /></a></td></tr>\n",
       "<tr><td>20</td><td>Operation</td><td>operator:&nbsp;27<br>operands:&nbsp;28<br></td><td><a class=\"ProveItLink\" href=\"../a0fde8b5f995031ff0741f09d0d4c14e4c5f247f0/expr.ipynb\"><img src=\"../a0fde8b5f995031ff0741f09d0d4c14e4c5f247f0/expr.png\" style=\"display:inline;vertical-align:middle;\" /></a></td></tr>\n",
       "<tr><td>21</td><td>ExprRange</td><td>lambda_map:&nbsp;29<br>start_index:&nbsp;40<br>end_index:&nbsp;30<br></td><td><a class=\"ProveItLink\" href=\"../../../../../core_expr_types/__pv_it/common/c8e4ecd605b657e28bb4eca78991107aa13f93f50/expr.ipynb\"><img src=\"../../../../../core_expr_types/__pv_it/common/c8e4ecd605b657e28bb4eca78991107aa13f93f50/expr.png\" style=\"display:inline;vertical-align:middle;\" /></a></td></tr>\n",
       "<tr><td>22</td><td>Operation</td><td>operator:&nbsp;33<br>operands:&nbsp;31<br></td><td><a class=\"ProveItLink\" href=\"../a147567ad63f2919fe3df96a1cff7507f2ad0d070/expr.ipynb\"><img src=\"../a147567ad63f2919fe3df96a1cff7507f2ad0d070/expr.png\" style=\"display:inline;vertical-align:middle;\" /></a></td></tr>\n",
       "<tr><td>23</td><td>Operation</td><td>operator:&nbsp;33<br>operands:&nbsp;32<br></td><td><a class=\"ProveItLink\" href=\"../03a8a9b06fbedd206058ec4e21a904239250ffc90/expr.ipynb\"><img src=\"../03a8a9b06fbedd206058ec4e21a904239250ffc90/expr.png\" style=\"display:inline;vertical-align:middle;\" /></a></td></tr>\n",
       "<tr><td>24</td><td>Operation</td><td>operator:&nbsp;33<br>operands:&nbsp;34<br></td><td><a class=\"ProveItLink\" href=\"../2121a9f2955fcd695389056a62165ba3eed76d180/expr.ipynb\"><img src=\"../2121a9f2955fcd695389056a62165ba3eed76d180/expr.png\" style=\"display:inline;vertical-align:middle;\" /></a></td></tr>\n",
       "<tr><td>25</td><td>Lambda</td><td>parameter:&nbsp;50<br>body:&nbsp;36<br></td><td><a class=\"ProveItLink\" href=\"../../../../../core_expr_types/__pv_it/common/9332289e845003c758afc3bcee43498ae784f2d90/expr.ipynb\"><img src=\"../../../../../core_expr_types/__pv_it/common/9332289e845003c758afc3bcee43498ae784f2d90/expr.png\" style=\"display:inline;vertical-align:middle;\" /></a></td></tr>\n",
       "<tr><td>26</td><td>Variable</td><td></td><td><a class=\"ProveItLink\" href=\"../../../../../__pv_it/common/ae955345c83abf786c3aff8681cd5465beae262d0/expr.ipynb\"><img src=\"../../../../../__pv_it/common/ae955345c83abf786c3aff8681cd5465beae262d0/expr.png\" style=\"display:inline;vertical-align:middle;\" /></a></td></tr>\n",
       "<tr><td>27</td><td>Literal</td><td></td><td><a class=\"ProveItLink\" href=\"../../common/7fa25b05174babb4710be62d63ebd43f68aa2fec0/expr.ipynb\"><img src=\"../../common/7fa25b05174babb4710be62d63ebd43f68aa2fec0/expr.png\" style=\"display:inline;vertical-align:middle;\" /></a></td></tr>\n",
       "<tr><td>28</td><td>ExprTuple</td><td>35</td><td><a class=\"ProveItLink\" href=\"../87984a25f7e8cbb6a19d285ae57e26cc4e4a18710/expr.ipynb\"><img src=\"../87984a25f7e8cbb6a19d285ae57e26cc4e4a18710/expr.png\" style=\"display:inline;vertical-align:middle;\" /></a></td></tr>\n",
       "<tr><td>29</td><td>Lambda</td><td>parameter:&nbsp;50<br>body:&nbsp;37<br></td><td><a class=\"ProveItLink\" href=\"../../../../../core_expr_types/__pv_it/common/c9399abb980047fe39e716f375f641a4494b404b0/expr.ipynb\"><img src=\"../../../../../core_expr_types/__pv_it/common/c9399abb980047fe39e716f375f641a4494b404b0/expr.png\" style=\"display:inline;vertical-align:middle;\" /></a></td></tr>\n",
       "<tr><td>30</td><td>Variable</td><td></td><td><a class=\"ProveItLink\" href=\"../../../../../__pv_it/common/63b7c64bf9ec7a04ecc396c7a1670f3f12fb59490/expr.ipynb\"><img src=\"../../../../../__pv_it/common/63b7c64bf9ec7a04ecc396c7a1670f3f12fb59490/expr.png\" style=\"display:inline;vertical-align:middle;\" /></a></td></tr>\n",
       "<tr><td>31</td><td>ExprTuple</td><td>36, 38</td><td><a class=\"ProveItLink\" href=\"../1b6da8b6449b71ae6ecd98d75519af7a651a9d2d0/expr.ipynb\"><img src=\"../1b6da8b6449b71ae6ecd98d75519af7a651a9d2d0/expr.png\" style=\"display:inline;vertical-align:middle;\" /></a></td></tr>\n",
       "<tr><td>32</td><td>ExprTuple</td><td>46, 38</td><td><a class=\"ProveItLink\" href=\"../db5464176133a5a57be80366aa1702595e7e16a40/expr.ipynb\"><img src=\"../db5464176133a5a57be80366aa1702595e7e16a40/expr.png\" style=\"display:inline;vertical-align:middle;\" /></a></td></tr>\n",
       "<tr><td>33</td><td>Literal</td><td></td><td><a class=\"ProveItLink\" href=\"../../../../../logic/classes/membership/__pv_it/common/e3b437d28fbe17f0a50c9789c7c9b47a1270f1420/expr.ipynb\"><img src=\"../../../../../logic/classes/membership/__pv_it/common/e3b437d28fbe17f0a50c9789c7c9b47a1270f1420/expr.png\" style=\"display:inline;vertical-align:middle;\" /></a></td></tr>\n",
       "<tr><td>34</td><td>ExprTuple</td><td>37, 38</td><td><a class=\"ProveItLink\" href=\"../d4645b4bd712129bbfa69dc210bb17e3c0ce1a750/expr.ipynb\"><img src=\"../d4645b4bd712129bbfa69dc210bb17e3c0ce1a750/expr.png\" style=\"display:inline;vertical-align:middle;\" /></a></td></tr>\n",
       "<tr><td>35</td><td>ExprRange</td><td>lambda_map:&nbsp;39<br>start_index:&nbsp;40<br>end_index:&nbsp;41<br></td><td><a class=\"ProveItLink\" href=\"../../../../../core_expr_types/__pv_it/common/0cd1658eec2aaa52c480be7ee3718bc0d4252e1b0/expr.ipynb\"><img src=\"../../../../../core_expr_types/__pv_it/common/0cd1658eec2aaa52c480be7ee3718bc0d4252e1b0/expr.png\" style=\"display:inline;vertical-align:middle;\" /></a></td></tr>\n",
       "<tr><td>36</td><td>IndexedVar</td><td>variable:&nbsp;42<br>index:&nbsp;50<br></td><td><a class=\"ProveItLink\" href=\"../../../../../core_expr_types/__pv_it/common/9fdaaadf1b3d81a308244818dc08833e7f5035730/expr.ipynb\"><img src=\"../../../../../core_expr_types/__pv_it/common/9fdaaadf1b3d81a308244818dc08833e7f5035730/expr.png\" style=\"display:inline;vertical-align:middle;\" /></a></td></tr>\n",
       "<tr><td>37</td><td>IndexedVar</td><td>variable:&nbsp;43<br>index:&nbsp;50<br></td><td><a class=\"ProveItLink\" href=\"../../../../../core_expr_types/__pv_it/common/f756bc205d05c1af04e1aeeb7a42469b1e89f9cf0/expr.ipynb\"><img src=\"../../../../../core_expr_types/__pv_it/common/f756bc205d05c1af04e1aeeb7a42469b1e89f9cf0/expr.png\" style=\"display:inline;vertical-align:middle;\" /></a></td></tr>\n",
       "<tr><td>38</td><td>Operation</td><td>operator:&nbsp;44<br>operand:&nbsp;47<br></td><td><a class=\"ProveItLink\" href=\"../bfe4d11fbcd28c79c0e2a9c152d66f0991be7cc30/expr.ipynb\"><img src=\"../bfe4d11fbcd28c79c0e2a9c152d66f0991be7cc30/expr.png\" style=\"display:inline;vertical-align:middle;\" /></a></td></tr>\n",
       "<tr><td>39</td><td>Lambda</td><td>parameter:&nbsp;50<br>body:&nbsp;46<br></td><td><a class=\"ProveItLink\" href=\"../../../../../core_expr_types/__pv_it/common/d51b6313a4eb9f8dc367ca4753f290af006fadbb0/expr.ipynb\"><img src=\"../../../../../core_expr_types/__pv_it/common/d51b6313a4eb9f8dc367ca4753f290af006fadbb0/expr.png\" style=\"display:inline;vertical-align:middle;\" /></a></td></tr>\n",
       "<tr><td>40</td><td>Literal</td><td></td><td><a class=\"ProveItLink\" href=\"../../../../../numbers/numerals/__pv_it/common/682157d4892d216d9e5626ed533aff9b56b9506e0/expr.ipynb\"><img src=\"../../../../../numbers/numerals/__pv_it/common/682157d4892d216d9e5626ed533aff9b56b9506e0/expr.png\" style=\"display:inline;vertical-align:middle;\" /></a></td></tr>\n",
       "<tr><td>41</td><td>Variable</td><td></td><td><a class=\"ProveItLink\" href=\"../../../../../__pv_it/common/1ed21df18baca2f42b561a7ffbf30a2743d594650/expr.ipynb\"><img src=\"../../../../../__pv_it/common/1ed21df18baca2f42b561a7ffbf30a2743d594650/expr.png\" style=\"display:inline;vertical-align:middle;\" /></a></td></tr>\n",
       "<tr><td>42</td><td>Variable</td><td></td><td><a class=\"ProveItLink\" href=\"../../../../../__pv_it/common/09585084922504426caf1db2ff588a23a0932a960/expr.ipynb\"><img src=\"../../../../../__pv_it/common/09585084922504426caf1db2ff588a23a0932a960/expr.png\" style=\"display:inline;vertical-align:middle;\" /></a></td></tr>\n",
       "<tr><td>43</td><td>Variable</td><td></td><td><a class=\"ProveItLink\" href=\"../../../../../__pv_it/common/9fba9f29e823606ff4fdf2f1c6d5d08d906e850a0/expr.ipynb\"><img src=\"../../../../../__pv_it/common/9fba9f29e823606ff4fdf2f1c6d5d08d906e850a0/expr.png\" style=\"display:inline;vertical-align:middle;\" /></a></td></tr>\n",
       "<tr><td>44</td><td>Literal</td><td></td><td><a class=\"ProveItLink\" href=\"../../../../__pv_it/common/191fa3a3f5c54c22d4b0a7e4fd1b2f7738e981550/expr.ipynb\"><img src=\"../../../../__pv_it/common/191fa3a3f5c54c22d4b0a7e4fd1b2f7738e981550/expr.png\" style=\"display:inline;vertical-align:middle;\" /></a></td></tr>\n",
       "<tr><td>45</td><td>ExprTuple</td><td>47</td><td><a class=\"ProveItLink\" href=\"../dfa81a569aedd40943c42f533e78bc2f073711130/expr.ipynb\"><img src=\"../dfa81a569aedd40943c42f533e78bc2f073711130/expr.png\" style=\"display:inline;vertical-align:middle;\" /></a></td></tr>\n",
       "<tr><td>46</td><td>IndexedVar</td><td>variable:&nbsp;48<br>index:&nbsp;50<br></td><td><a class=\"ProveItLink\" href=\"../../../../../core_expr_types/__pv_it/common/d1b4c772326349c6e4ef6ad6defb9c61a45fc9d80/expr.ipynb\"><img src=\"../../../../../core_expr_types/__pv_it/common/d1b4c772326349c6e4ef6ad6defb9c61a45fc9d80/expr.png\" style=\"display:inline;vertical-align:middle;\" /></a></td></tr>\n",
       "<tr><td>47</td><td>Variable</td><td></td><td><a class=\"ProveItLink\" href=\"../../../../../__pv_it/common/1f2ffac7a1dc7c1a4f1fc7348356ae64ea992c790/expr.ipynb\"><img src=\"../../../../../__pv_it/common/1f2ffac7a1dc7c1a4f1fc7348356ae64ea992c790/expr.png\" style=\"display:inline;vertical-align:middle;\" /></a></td></tr>\n",
       "<tr><td>48</td><td>Variable</td><td></td><td><a class=\"ProveItLink\" href=\"../../../../../__pv_it/common/a9162d1c3cc0470c02e5daf414500903a7a419230/expr.ipynb\"><img src=\"../../../../../__pv_it/common/a9162d1c3cc0470c02e5daf414500903a7a419230/expr.png\" style=\"display:inline;vertical-align:middle;\" /></a></td></tr>\n",
       "<tr><td>49</td><td>ExprTuple</td><td>50</td><td><a class=\"ProveItLink\" href=\"../../../../../core_expr_types/__pv_it/common/4b0dd6be36d76552eda6a95d5b4a27f5a5b62f900/expr.ipynb\"><img src=\"../../../../../core_expr_types/__pv_it/common/4b0dd6be36d76552eda6a95d5b4a27f5a5b62f900/expr.png\" style=\"display:inline;vertical-align:middle;\" /></a></td></tr>\n",
       "<tr><td>50</td><td>Variable</td><td></td><td><a class=\"ProveItLink\" href=\"../../../../../core_expr_types/__pv_it/common/006c465e50948aa2b52285e2de47974f741255cc0/expr.ipynb\"><img src=\"../../../../../core_expr_types/__pv_it/common/006c465e50948aa2b52285e2de47974f741255cc0/expr.png\" style=\"display:inline;vertical-align:middle;\" /></a></td></tr>\n",
       "</table>\n"
      ],
      "text/plain": [
       "0. ((A_{1}, A_{2}, ..., A_{i}, B_{1}, B_{2}, ..., B_{j}, C_{1}, C_{2}, ..., C_{k}) -> {(A_{1} otimes  A_{2} otimes  ... otimes  A_{i}otimes B_{1} otimes  B_{2} otimes  ... otimes  B_{j}otimes C_{1} otimes  C_{2} otimes  ... otimes  C_{k}) \\\\  = (A_{1} otimes  A_{2} otimes  ... otimes  A_{i} otimes (B_{1} otimes  B_{2} otimes  ... otimes  B_{j})otimes C_{1} otimes  C_{2} otimes  ... otimes  C_{k}) if (A_{1} in_c VecSpaces(K)) ,  (A_{2} in_c VecSpaces(K)) ,  ... ,  (A_{i} in_c VecSpaces(K)), (B_{1} in_c VecSpaces(K)) ,  (B_{2} in_c VecSpaces(K)) ,  ... ,  (B_{j} in_c VecSpaces(K)), (C_{1} in_c VecSpaces(K)) ,  (C_{2} in_c VecSpaces(K)) ,  ... ,  (C_{k} in_c VecSpaces(K)).)\n",
       "   core type: ExprTuple\n",
       "   sub-expressions: 1\n",
       "1. (A_{1}, A_{2}, ..., A_{i}, B_{1}, B_{2}, ..., B_{j}, C_{1}, C_{2}, ..., C_{k}) -> {(A_{1} otimes  A_{2} otimes  ... otimes  A_{i}otimes B_{1} otimes  B_{2} otimes  ... otimes  B_{j}otimes C_{1} otimes  C_{2} otimes  ... otimes  C_{k}) \\\\  = (A_{1} otimes  A_{2} otimes  ... otimes  A_{i} otimes (B_{1} otimes  B_{2} otimes  ... otimes  B_{j})otimes C_{1} otimes  C_{2} otimes  ... otimes  C_{k}) if (A_{1} in_c VecSpaces(K)) ,  (A_{2} in_c VecSpaces(K)) ,  ... ,  (A_{i} in_c VecSpaces(K)), (B_{1} in_c VecSpaces(K)) ,  (B_{2} in_c VecSpaces(K)) ,  ... ,  (B_{j} in_c VecSpaces(K)), (C_{1} in_c VecSpaces(K)) ,  (C_{2} in_c VecSpaces(K)) ,  ... ,  (C_{k} in_c VecSpaces(K)).\n",
       "   core type: Lambda\n",
       "   parameters: 14\\n   body: 2\n",
       "2. {(A_{1} otimes  A_{2} otimes  ... otimes  A_{i}otimes B_{1} otimes  B_{2} otimes  ... otimes  B_{j}otimes C_{1} otimes  C_{2} otimes  ... otimes  C_{k}) \\\\  = (A_{1} otimes  A_{2} otimes  ... otimes  A_{i} otimes (B_{1} otimes  B_{2} otimes  ... otimes  B_{j})otimes C_{1} otimes  C_{2} otimes  ... otimes  C_{k}) if (A_{1} in_c VecSpaces(K)) ,  (A_{2} in_c VecSpaces(K)) ,  ... ,  (A_{i} in_c VecSpaces(K)), (B_{1} in_c VecSpaces(K)) ,  (B_{2} in_c VecSpaces(K)) ,  ... ,  (B_{j} in_c VecSpaces(K)), (C_{1} in_c VecSpaces(K)) ,  (C_{2} in_c VecSpaces(K)) ,  ... ,  (C_{k} in_c VecSpaces(K)).\n",
       "   core type: Conditional\n",
       "   value: 3\n",
       "   condition: 4\n",
       "3. (A_{1} otimes  A_{2} otimes  ... otimes  A_{i}otimes B_{1} otimes  B_{2} otimes  ... otimes  B_{j}otimes C_{1} otimes  C_{2} otimes  ... otimes  C_{k}) \\\\  = (A_{1} otimes  A_{2} otimes  ... otimes  A_{i} otimes (B_{1} otimes  B_{2} otimes  ... otimes  B_{j})otimes C_{1} otimes  C_{2} otimes  ... otimes  C_{k})\n",
       "   core type: Operation\n",
       "   operator: 5\n",
       "   operands: 6\n",
       "4. (A_{1} in_c VecSpaces(K)) and  (A_{2} in_c VecSpaces(K)) and  ... and  (A_{i} in_c VecSpaces(K))and (B_{1} in_c VecSpaces(K)) and  (B_{2} in_c VecSpaces(K)) and  ... and  (B_{j} in_c VecSpaces(K))and (C_{1} in_c VecSpaces(K)) and  (C_{2} in_c VecSpaces(K)) and  ... and  (C_{k} in_c VecSpaces(K))\n",
       "   core type: Operation\n",
       "   operator: 7\n",
       "   operands: 8\n",
       "5. =\n",
       "   core type: Literal\n",
       "   sub-expressions: \n",
       "6. (A_{1} otimes  A_{2} otimes  ... otimes  A_{i}otimes B_{1} otimes  B_{2} otimes  ... otimes  B_{j}otimes C_{1} otimes  C_{2} otimes  ... otimes  C_{k}, A_{1} otimes  A_{2} otimes  ... otimes  A_{i} otimes (B_{1} otimes  B_{2} otimes  ... otimes  B_{j})otimes C_{1} otimes  C_{2} otimes  ... otimes  C_{k})\n",
       "   core type: ExprTuple\n",
       "   sub-expressions: 9, 10\n",
       "7. and\n",
       "   core type: Literal\n",
       "   sub-expressions: \n",
       "8. ((A_{1} in_c VecSpaces(K)), (A_{2} in_c VecSpaces(K)), ..., (A_{i} in_c VecSpaces(K)),(B_{1} in_c VecSpaces(K)), (B_{2} in_c VecSpaces(K)), ..., (B_{j} in_c VecSpaces(K)),(C_{1} in_c VecSpaces(K)), (C_{2} in_c VecSpaces(K)), ..., (C_{k} in_c VecSpaces(K)))\n",
       "   core type: ExprTuple\n",
       "   sub-expressions: 11, 12, 13\n",
       "9. A_{1} otimes  A_{2} otimes  ... otimes  A_{i}otimes B_{1} otimes  B_{2} otimes  ... otimes  B_{j}otimes C_{1} otimes  C_{2} otimes  ... otimes  C_{k}\n",
       "   core type: Operation\n",
       "   operator: 27\n",
       "   operands: 14\n",
       "10. A_{1} otimes  A_{2} otimes  ... otimes  A_{i} otimes (B_{1} otimes  B_{2} otimes  ... otimes  B_{j})otimes C_{1} otimes  C_{2} otimes  ... otimes  C_{k}\n",
       "    core type: Operation\n",
       "    operator: 27\n",
       "    operands: 15\n",
       "11. (A_{1} in_c VecSpaces(K)), (A_{2} in_c VecSpaces(K)), ..., (A_{i} in_c VecSpaces(K))\n",
       "    core type: ExprRange\n",
       "    lambda_map: 16\n",
       "    start_index: 40\n",
       "    end_index: 26\n",
       "12. (B_{1} in_c VecSpaces(K)), (B_{2} in_c VecSpaces(K)), ..., (B_{j} in_c VecSpaces(K))\n",
       "    core type: ExprRange\n",
       "    lambda_map: 17\n",
       "    start_index: 40\n",
       "    end_index: 41\n",
       "13. (C_{1} in_c VecSpaces(K)), (C_{2} in_c VecSpaces(K)), ..., (C_{k} in_c VecSpaces(K))\n",
       "    core type: ExprRange\n",
       "    lambda_map: 18\n",
       "    start_index: 40\n",
       "    end_index: 30\n",
       "14. (A_{1}, A_{2}, ..., A_{i},B_{1}, B_{2}, ..., B_{j},C_{1}, C_{2}, ..., C_{k})\n",
       "    core type: ExprTuple\n",
       "    sub-expressions: 19, 35, 21\n",
       "15. (A_{1}, A_{2}, ..., A_{i}, B_{1} otimes  B_{2} otimes  ... otimes  B_{j},C_{1}, C_{2}, ..., C_{k})\n",
       "    core type: ExprTuple\n",
       "    sub-expressions: 19, 20, 21\n",
       "16. _a -> (A_{_a} in_c VecSpaces(K))\n",
       "    core type: Lambda\n",
       "    parameter: 50\n",
       "    body: 22\n",
       "17. _a -> (B_{_a} in_c VecSpaces(K))\n",
       "    core type: Lambda\n",
       "    parameter: 50\n",
       "    body: 23\n",
       "18. _a -> (C_{_a} in_c VecSpaces(K))\n",
       "    core type: Lambda\n",
       "    parameter: 50\n",
       "    body: 24\n",
       "19. A_{1}, A_{2}, ..., A_{i}\n",
       "    core type: ExprRange\n",
       "    lambda_map: 25\n",
       "    start_index: 40\n",
       "    end_index: 26\n",
       "20. B_{1} otimes  B_{2} otimes  ... otimes  B_{j}\n",
       "    core type: Operation\n",
       "    operator: 27\n",
       "    operands: 28\n",
       "21. C_{1}, C_{2}, ..., C_{k}\n",
       "    core type: ExprRange\n",
       "    lambda_map: 29\n",
       "    start_index: 40\n",
       "    end_index: 30\n",
       "22. A_{_a} in_c VecSpaces(K)\n",
       "    core type: Operation\n",
       "    operator: 33\n",
       "    operands: 31\n",
       "23. B_{_a} in_c VecSpaces(K)\n",
       "    core type: Operation\n",
       "    operator: 33\n",
       "    operands: 32\n",
       "24. C_{_a} in_c VecSpaces(K)\n",
       "    core type: Operation\n",
       "    operator: 33\n",
       "    operands: 34\n",
       "25. _a -> A_{_a}\n",
       "    core type: Lambda\n",
       "    parameter: 50\n",
       "    body: 36\n",
       "26. i\n",
       "    core type: Variable\n",
       "    sub-expressions: \n",
       "27. otimes\n",
       "    core type: Literal\n",
       "    sub-expressions: \n",
       "28. (B_{1}, B_{2}, ..., B_{j})\n",
       "    core type: ExprTuple\n",
       "    sub-expressions: 35\n",
       "29. _a -> C_{_a}\n",
       "    core type: Lambda\n",
       "    parameter: 50\n",
       "    body: 37\n",
       "30. k\n",
       "    core type: Variable\n",
       "    sub-expressions: \n",
       "31. (A_{_a}, VecSpaces(K))\n",
       "    core type: ExprTuple\n",
       "    sub-expressions: 36, 38\n",
       "32. (B_{_a}, VecSpaces(K))\n",
       "    core type: ExprTuple\n",
       "    sub-expressions: 46, 38\n",
       "33. in_c\n",
       "    core type: Literal\n",
       "    sub-expressions: \n",
       "34. (C_{_a}, VecSpaces(K))\n",
       "    core type: ExprTuple\n",
       "    sub-expressions: 37, 38\n",
       "35. B_{1}, B_{2}, ..., B_{j}\n",
       "    core type: ExprRange\n",
       "    lambda_map: 39\n",
       "    start_index: 40\n",
       "    end_index: 41\n",
       "36. A_{_a}\n",
       "    core type: IndexedVar\n",
       "variable: 42\n",
       "index: 50\n",
       "37. C_{_a}\n",
       "    core type: IndexedVar\n",
       "variable: 43\n",
       "index: 50\n",
       "38. VecSpaces(K)\n",
       "    core type: Operation\n",
       "    operator: 44\n",
       "    operand: 47\n",
       "39. _a -> B_{_a}\n",
       "    core type: Lambda\n",
       "    parameter: 50\n",
       "    body: 46\n",
       "40. 1\n",
       "    core type: Literal\n",
       "    sub-expressions: \n",
       "41. j\n",
       "    core type: Variable\n",
       "    sub-expressions: \n",
       "42. A\n",
       "    core type: Variable\n",
       "    sub-expressions: \n",
       "43. C\n",
       "    core type: Variable\n",
       "    sub-expressions: \n",
       "44. VecSpaces\n",
       "    core type: Literal\n",
       "    sub-expressions: \n",
       "45. (K)\n",
       "    core type: ExprTuple\n",
       "    sub-expressions: 47\n",
       "46. B_{_a}\n",
       "    core type: IndexedVar\n",
       "variable: 48\n",
       "index: 50\n",
       "47. K\n",
       "    core type: Variable\n",
       "    sub-expressions: \n",
       "48. B\n",
       "    core type: Variable\n",
       "    sub-expressions: \n",
       "49. (_a)\n",
       "    core type: ExprTuple\n",
       "    sub-expressions: 50\n",
       "50. _a\n",
       "    core type: Variable\n",
       "    sub-expressions: "
      ]
     },
     "metadata": {},
     "output_type": "display_data"
    }
   ],
   "source": [
    "# display the expression information\n",
    "stored_expr.expr_info()"
   ]
  },
  {
   "cell_type": "code",
   "execution_count": null,
   "metadata": {},
   "outputs": [],
   "source": []
  }
 ],
 "metadata": {
  "kernelspec": {
   "display_name": "Python 3",
   "language": "python",
   "name": "python3"
  }
 },
 "nbformat": 4,
 "nbformat_minor": 0
}