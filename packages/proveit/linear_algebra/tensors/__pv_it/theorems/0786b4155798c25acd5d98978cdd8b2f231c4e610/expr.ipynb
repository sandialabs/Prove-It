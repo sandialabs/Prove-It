{
 "cells": [
  {
   "cell_type": "markdown",
   "metadata": {},
   "source": [
    "Expression of type <a class=\"ProveItLink\" href=\"../../../../../../../doc/html/api/proveit.Lambda.html\">Lambda</a>\n",
    "=======================\n",
    "# from the theory of <a class=\"ProveItLink\" href=\"../../../_theory_nbs_/theory.ipynb\">proveit.linear_algebra.tensors</a>"
   ]
  },
  {
   "cell_type": "code",
   "execution_count": 1,
   "metadata": {},
   "outputs": [],
   "source": [
    "import proveit\n",
    "# Automation is not needed when building an expression:\n",
    "proveit.defaults.automation = False # This will speed things up.\n",
    "proveit.defaults.inline_pngs = False # Makes files smaller.\n",
    "%load_expr # Load the stored expression as 'stored_expr'\n",
    "# import Expression classes needed to build the expression\n",
    "from proveit import A, Conditional, ExprRange, Function, IndexedVar, Lambda, V, Variable, n, v\n",
    "from proveit.core_expr_types import A_1_to_n, v_1_to_n\n",
    "from proveit.linear_algebra import TensorProd\n",
    "from proveit.logic import And, Equals, InSet\n",
    "from proveit.numbers import one"
   ]
  },
  {
   "cell_type": "code",
   "execution_count": 2,
   "metadata": {},
   "outputs": [
    {
     "data": {
      "text/html": [
       "<strong id=\"expr\">expr:</strong> <a class=\"ProveItLink\" href=\"expr.ipynb\"><img src=\"expr.png\" style=\"display:inline;vertical-align:middle;\" /></a><br>"
      ],
      "text/plain": [
       "<IPython.core.display.HTML object>"
      ]
     },
     "metadata": {},
     "output_type": "display_data"
    }
   ],
   "source": [
    "# build up the expression from sub-expressions\n",
    "sub_expr1 = Variable(\"_a\", latex_format = r\"{_{-}a}\")\n",
    "sub_expr2 = IndexedVar(v, sub_expr1)\n",
    "expr = Lambda([v_1_to_n], Conditional(Equals(Function(TensorProd(A_1_to_n), [TensorProd(v_1_to_n)]), TensorProd(ExprRange(sub_expr1, Function(IndexedVar(A, sub_expr1), [sub_expr2]), one, n))), And(ExprRange(sub_expr1, InSet(sub_expr2, IndexedVar(V, sub_expr1)), one, n))))"
   ]
  },
  {
   "cell_type": "code",
   "execution_count": 3,
   "metadata": {},
   "outputs": [
    {
     "name": "stdout",
     "output_type": "stream",
     "text": [
      "Passed sanity check: expr matches stored_expr\n"
     ]
    }
   ],
   "source": [
    "# check that the built expression is the same as the stored expression\n",
    "assert expr == stored_expr\n",
    "assert expr._style_id == stored_expr._style_id\n",
    "print(\"Passed sanity check: expr matches stored_expr\")"
   ]
  },
  {
   "cell_type": "code",
   "execution_count": 4,
   "metadata": {},
   "outputs": [
    {
     "name": "stdout",
     "output_type": "stream",
     "text": [
      "\\left(v_{1}, v_{2}, \\ldots, v_{n}\\right) \\mapsto \\left\\{\\left(A_{1} {\\otimes}  A_{2} {\\otimes}  \\ldots {\\otimes}  A_{n}\\right)\\left(v_{1} {\\otimes}  v_{2} {\\otimes}  \\ldots {\\otimes}  v_{n}\\right) = \\left(A_{1}\\left(v_{1}\\right) {\\otimes}  A_{2}\\left(v_{2}\\right) {\\otimes}  \\ldots {\\otimes}  A_{n}\\left(v_{n}\\right)\\right) \\textrm{ if } \\left(v_{1} \\in V_{1}\\right) \\land  \\left(v_{2} \\in V_{2}\\right) \\land  \\ldots \\land  \\left(v_{n} \\in V_{n}\\right)\\right..\n"
     ]
    }
   ],
   "source": [
    "# Show the LaTeX representation of the expression for convenience if you need it.\n",
    "print(stored_expr.latex())"
   ]
  },
  {
   "cell_type": "code",
   "execution_count": 5,
   "metadata": {},
   "outputs": [
    {
     "data": {
      "text/html": [
       "no style options"
      ],
      "text/plain": [
       "no style options"
      ]
     },
     "metadata": {},
     "output_type": "display_data"
    }
   ],
   "source": [
    "stored_expr.style_options()"
   ]
  },
  {
   "cell_type": "code",
   "execution_count": 6,
   "metadata": {},
   "outputs": [
    {
     "data": {
      "text/html": [
       "<table><tr><th>&nbsp;</th><th>core type</th><th>sub-expressions</th><th>expression</th></tr>\n",
       "<tr><td>0</td><td>Lambda</td><td>parameters:&nbsp;21<br>body:&nbsp;1<br></td><td><a class=\"ProveItLink\" href=\"expr.ipynb\"><img src=\"expr.png\" style=\"display:inline;vertical-align:middle;\" /></a></td></tr>\n",
       "<tr><td>1</td><td>Conditional</td><td>value:&nbsp;2<br>condition:&nbsp;3<br></td><td><a class=\"ProveItLink\" href=\"../06795efdbc298ca1058cf61e652e8171a1d2a0d00/expr.ipynb\"><img src=\"../06795efdbc298ca1058cf61e652e8171a1d2a0d00/expr.png\" style=\"display:inline;vertical-align:middle;\" /></a></td></tr>\n",
       "<tr><td>2</td><td>Operation</td><td>operator:&nbsp;4<br>operands:&nbsp;5<br></td><td><a class=\"ProveItLink\" href=\"../55dcb043e11707c9e3dfecd92a596722fd82996a0/expr.ipynb\"><img src=\"../55dcb043e11707c9e3dfecd92a596722fd82996a0/expr.png\" style=\"display:inline;vertical-align:middle;\" /></a></td></tr>\n",
       "<tr><td>3</td><td>Operation</td><td>operator:&nbsp;6<br>operands:&nbsp;7<br></td><td><a class=\"ProveItLink\" href=\"../f280bb6097f7124eb265473ca367920f4ac631110/expr.ipynb\"><img src=\"../f280bb6097f7124eb265473ca367920f4ac631110/expr.png\" style=\"display:inline;vertical-align:middle;\" /></a></td></tr>\n",
       "<tr><td>4</td><td>Literal</td><td></td><td><a class=\"ProveItLink\" href=\"../../../../../logic/equality/__pv_it/common/fb96dc12b2aa8801dda64d0132b396c63d1502bb0/expr.ipynb\"><img src=\"../../../../../logic/equality/__pv_it/common/fb96dc12b2aa8801dda64d0132b396c63d1502bb0/expr.png\" style=\"display:inline;vertical-align:middle;\" /></a></td></tr>\n",
       "<tr><td>5</td><td>ExprTuple</td><td>8, 9</td><td><a class=\"ProveItLink\" href=\"../4982fff5d98cfe12c477097745f420b3595407a00/expr.ipynb\"><img src=\"../4982fff5d98cfe12c477097745f420b3595407a00/expr.png\" style=\"display:inline;vertical-align:middle;\" /></a></td></tr>\n",
       "<tr><td>6</td><td>Literal</td><td></td><td><a class=\"ProveItLink\" href=\"../../../../../logic/booleans/conjunction/__pv_it/common/42118ff318bd65d98b1393f64ce7c2269feef76e0/expr.ipynb\"><img src=\"../../../../../logic/booleans/conjunction/__pv_it/common/42118ff318bd65d98b1393f64ce7c2269feef76e0/expr.png\" style=\"display:inline;vertical-align:middle;\" /></a></td></tr>\n",
       "<tr><td>7</td><td>ExprTuple</td><td>10</td><td><a class=\"ProveItLink\" href=\"../91ecd4e980eb7103dfc53ca68342a34a0e3dd93f0/expr.ipynb\"><img src=\"../91ecd4e980eb7103dfc53ca68342a34a0e3dd93f0/expr.png\" style=\"display:inline;vertical-align:middle;\" /></a></td></tr>\n",
       "<tr><td>8</td><td>Operation</td><td>operator:&nbsp;11<br>operand:&nbsp;16<br></td><td><a class=\"ProveItLink\" href=\"../cbf44b37d745d9aae36cc8f30c5eb1d1e6bf4df50/expr.ipynb\"><img src=\"../cbf44b37d745d9aae36cc8f30c5eb1d1e6bf4df50/expr.png\" style=\"display:inline;vertical-align:middle;\" /></a></td></tr>\n",
       "<tr><td>9</td><td>Operation</td><td>operator:&nbsp;20<br>operands:&nbsp;13<br></td><td><a class=\"ProveItLink\" href=\"../707e7b1961162a18c11d306eff19c4e3af10abea0/expr.ipynb\"><img src=\"../707e7b1961162a18c11d306eff19c4e3af10abea0/expr.png\" style=\"display:inline;vertical-align:middle;\" /></a></td></tr>\n",
       "<tr><td>10</td><td>ExprRange</td><td>lambda_map:&nbsp;14<br>start_index:&nbsp;30<br>end_index:&nbsp;31<br></td><td><a class=\"ProveItLink\" href=\"../71ff050b31ed3d405feb4e7aca72a8557364a0220/expr.ipynb\"><img src=\"../71ff050b31ed3d405feb4e7aca72a8557364a0220/expr.png\" style=\"display:inline;vertical-align:middle;\" /></a></td></tr>\n",
       "<tr><td>11</td><td>Operation</td><td>operator:&nbsp;20<br>operands:&nbsp;15<br></td><td><a class=\"ProveItLink\" href=\"../7e80e41e69430f0d6730103c27d00a2bb55804750/expr.ipynb\"><img src=\"../7e80e41e69430f0d6730103c27d00a2bb55804750/expr.png\" style=\"display:inline;vertical-align:middle;\" /></a></td></tr>\n",
       "<tr><td>12</td><td>ExprTuple</td><td>16</td><td><a class=\"ProveItLink\" href=\"../5a29c6a9b6197eac880417fabae37cf487ac9fa10/expr.ipynb\"><img src=\"../5a29c6a9b6197eac880417fabae37cf487ac9fa10/expr.png\" style=\"display:inline;vertical-align:middle;\" /></a></td></tr>\n",
       "<tr><td>13</td><td>ExprTuple</td><td>17</td><td><a class=\"ProveItLink\" href=\"../a6ed893c97b23881f2bfdfc24beb8ea012ea46780/expr.ipynb\"><img src=\"../a6ed893c97b23881f2bfdfc24beb8ea012ea46780/expr.png\" style=\"display:inline;vertical-align:middle;\" /></a></td></tr>\n",
       "<tr><td>14</td><td>Lambda</td><td>parameter:&nbsp;39<br>body:&nbsp;18<br></td><td><a class=\"ProveItLink\" href=\"../db5ed7d0c7e72a27f623c57195a2958caa95f1580/expr.ipynb\"><img src=\"../db5ed7d0c7e72a27f623c57195a2958caa95f1580/expr.png\" style=\"display:inline;vertical-align:middle;\" /></a></td></tr>\n",
       "<tr><td>15</td><td>ExprTuple</td><td>19</td><td><a class=\"ProveItLink\" href=\"../e91a79bef69dbb0c7a4ff7aeb0a19cf247c49b110/expr.ipynb\"><img src=\"../e91a79bef69dbb0c7a4ff7aeb0a19cf247c49b110/expr.png\" style=\"display:inline;vertical-align:middle;\" /></a></td></tr>\n",
       "<tr><td>16</td><td>Operation</td><td>operator:&nbsp;20<br>operands:&nbsp;21<br></td><td><a class=\"ProveItLink\" href=\"../cdf39d4a5b6cd255e5f03ed233950863bf668d4e0/expr.ipynb\"><img src=\"../cdf39d4a5b6cd255e5f03ed233950863bf668d4e0/expr.png\" style=\"display:inline;vertical-align:middle;\" /></a></td></tr>\n",
       "<tr><td>17</td><td>ExprRange</td><td>lambda_map:&nbsp;22<br>start_index:&nbsp;30<br>end_index:&nbsp;31<br></td><td><a class=\"ProveItLink\" href=\"../deb182c42e1546bd7d1261cc2b17b3c3bfbab5890/expr.ipynb\"><img src=\"../deb182c42e1546bd7d1261cc2b17b3c3bfbab5890/expr.png\" style=\"display:inline;vertical-align:middle;\" /></a></td></tr>\n",
       "<tr><td>18</td><td>Operation</td><td>operator:&nbsp;23<br>operands:&nbsp;24<br></td><td><a class=\"ProveItLink\" href=\"../94ecbb40b6f7fa05e41a7a67803309649f60af220/expr.ipynb\"><img src=\"../94ecbb40b6f7fa05e41a7a67803309649f60af220/expr.png\" style=\"display:inline;vertical-align:middle;\" /></a></td></tr>\n",
       "<tr><td>19</td><td>ExprRange</td><td>lambda_map:&nbsp;25<br>start_index:&nbsp;30<br>end_index:&nbsp;31<br></td><td><a class=\"ProveItLink\" href=\"../../../../../core_expr_types/__pv_it/common/b942dae30d4f3b83f2610853b96b4f8933114dee0/expr.ipynb\"><img src=\"../../../../../core_expr_types/__pv_it/common/b942dae30d4f3b83f2610853b96b4f8933114dee0/expr.png\" style=\"display:inline;vertical-align:middle;\" /></a></td></tr>\n",
       "<tr><td>20</td><td>Literal</td><td></td><td><a class=\"ProveItLink\" href=\"../../common/7fa25b05174babb4710be62d63ebd43f68aa2fec0/expr.ipynb\"><img src=\"../../common/7fa25b05174babb4710be62d63ebd43f68aa2fec0/expr.png\" style=\"display:inline;vertical-align:middle;\" /></a></td></tr>\n",
       "<tr><td>21</td><td>ExprTuple</td><td>26</td><td><a class=\"ProveItLink\" href=\"../de86aa18b1721d2dcf64b094730c7420e6f690970/expr.ipynb\"><img src=\"../de86aa18b1721d2dcf64b094730c7420e6f690970/expr.png\" style=\"display:inline;vertical-align:middle;\" /></a></td></tr>\n",
       "<tr><td>22</td><td>Lambda</td><td>parameter:&nbsp;39<br>body:&nbsp;27<br></td><td><a class=\"ProveItLink\" href=\"../00da8f42c4845fb9f7273288c7144f081601ba1a0/expr.ipynb\"><img src=\"../00da8f42c4845fb9f7273288c7144f081601ba1a0/expr.png\" style=\"display:inline;vertical-align:middle;\" /></a></td></tr>\n",
       "<tr><td>23</td><td>Literal</td><td></td><td><a class=\"ProveItLink\" href=\"../../../../../logic/sets/membership/__pv_it/common/477487d8796864d23d5810f83761435f25167f690/expr.ipynb\"><img src=\"../../../../../logic/sets/membership/__pv_it/common/477487d8796864d23d5810f83761435f25167f690/expr.png\" style=\"display:inline;vertical-align:middle;\" /></a></td></tr>\n",
       "<tr><td>24</td><td>ExprTuple</td><td>36, 28</td><td><a class=\"ProveItLink\" href=\"../33ea08de55060eff132013eeb82078bfe234b7480/expr.ipynb\"><img src=\"../33ea08de55060eff132013eeb82078bfe234b7480/expr.png\" style=\"display:inline;vertical-align:middle;\" /></a></td></tr>\n",
       "<tr><td>25</td><td>Lambda</td><td>parameter:&nbsp;39<br>body:&nbsp;32<br></td><td><a class=\"ProveItLink\" href=\"../../../../../core_expr_types/__pv_it/common/9332289e845003c758afc3bcee43498ae784f2d90/expr.ipynb\"><img src=\"../../../../../core_expr_types/__pv_it/common/9332289e845003c758afc3bcee43498ae784f2d90/expr.png\" style=\"display:inline;vertical-align:middle;\" /></a></td></tr>\n",
       "<tr><td>26</td><td>ExprRange</td><td>lambda_map:&nbsp;29<br>start_index:&nbsp;30<br>end_index:&nbsp;31<br></td><td><a class=\"ProveItLink\" href=\"../../../../../core_expr_types/__pv_it/common/c125dfbd922a143db6d6ca09c2aeb21939547a670/expr.ipynb\"><img src=\"../../../../../core_expr_types/__pv_it/common/c125dfbd922a143db6d6ca09c2aeb21939547a670/expr.png\" style=\"display:inline;vertical-align:middle;\" /></a></td></tr>\n",
       "<tr><td>27</td><td>Operation</td><td>operator:&nbsp;32<br>operand:&nbsp;36<br></td><td><a class=\"ProveItLink\" href=\"../122acc4849e642a3f86760a4398581a0ae1514160/expr.ipynb\"><img src=\"../122acc4849e642a3f86760a4398581a0ae1514160/expr.png\" style=\"display:inline;vertical-align:middle;\" /></a></td></tr>\n",
       "<tr><td>28</td><td>IndexedVar</td><td>variable:&nbsp;34<br>index:&nbsp;39<br></td><td><a class=\"ProveItLink\" href=\"../../../../../core_expr_types/__pv_it/common/147a78b7570fad51cf5e91324728b3ba848fcf2d0/expr.ipynb\"><img src=\"../../../../../core_expr_types/__pv_it/common/147a78b7570fad51cf5e91324728b3ba848fcf2d0/expr.png\" style=\"display:inline;vertical-align:middle;\" /></a></td></tr>\n",
       "<tr><td>29</td><td>Lambda</td><td>parameter:&nbsp;39<br>body:&nbsp;36<br></td><td><a class=\"ProveItLink\" href=\"../../../../../core_expr_types/__pv_it/common/3aab6408b2d89b46b1d28786952ec269ecb12dcd0/expr.ipynb\"><img src=\"../../../../../core_expr_types/__pv_it/common/3aab6408b2d89b46b1d28786952ec269ecb12dcd0/expr.png\" style=\"display:inline;vertical-align:middle;\" /></a></td></tr>\n",
       "<tr><td>30</td><td>Literal</td><td></td><td><a class=\"ProveItLink\" href=\"../../../../../numbers/numerals/__pv_it/common/682157d4892d216d9e5626ed533aff9b56b9506e0/expr.ipynb\"><img src=\"../../../../../numbers/numerals/__pv_it/common/682157d4892d216d9e5626ed533aff9b56b9506e0/expr.png\" style=\"display:inline;vertical-align:middle;\" /></a></td></tr>\n",
       "<tr><td>31</td><td>Variable</td><td></td><td><a class=\"ProveItLink\" href=\"../../../../../__pv_it/common/8968bb04eb3f7dfa02353397ce929b025bbd79c20/expr.ipynb\"><img src=\"../../../../../__pv_it/common/8968bb04eb3f7dfa02353397ce929b025bbd79c20/expr.png\" style=\"display:inline;vertical-align:middle;\" /></a></td></tr>\n",
       "<tr><td>32</td><td>IndexedVar</td><td>variable:&nbsp;35<br>index:&nbsp;39<br></td><td><a class=\"ProveItLink\" href=\"../../../../../core_expr_types/__pv_it/common/9fdaaadf1b3d81a308244818dc08833e7f5035730/expr.ipynb\"><img src=\"../../../../../core_expr_types/__pv_it/common/9fdaaadf1b3d81a308244818dc08833e7f5035730/expr.png\" style=\"display:inline;vertical-align:middle;\" /></a></td></tr>\n",
       "<tr><td>33</td><td>ExprTuple</td><td>36</td><td><a class=\"ProveItLink\" href=\"../e4f75710c43665f109fd8fa183dc8ac2b55e4bbe0/expr.ipynb\"><img src=\"../e4f75710c43665f109fd8fa183dc8ac2b55e4bbe0/expr.png\" style=\"display:inline;vertical-align:middle;\" /></a></td></tr>\n",
       "<tr><td>34</td><td>Variable</td><td></td><td><a class=\"ProveItLink\" href=\"../../../../../__pv_it/common/6d80eb1398b2335bf9ec427954b851b7094dced50/expr.ipynb\"><img src=\"../../../../../__pv_it/common/6d80eb1398b2335bf9ec427954b851b7094dced50/expr.png\" style=\"display:inline;vertical-align:middle;\" /></a></td></tr>\n",
       "<tr><td>35</td><td>Variable</td><td></td><td><a class=\"ProveItLink\" href=\"../../../../../__pv_it/common/09585084922504426caf1db2ff588a23a0932a960/expr.ipynb\"><img src=\"../../../../../__pv_it/common/09585084922504426caf1db2ff588a23a0932a960/expr.png\" style=\"display:inline;vertical-align:middle;\" /></a></td></tr>\n",
       "<tr><td>36</td><td>IndexedVar</td><td>variable:&nbsp;37<br>index:&nbsp;39<br></td><td><a class=\"ProveItLink\" href=\"../../../../../core_expr_types/__pv_it/common/4a3d0bd040812cc2e5ba858cb3f17625fdc40e770/expr.ipynb\"><img src=\"../../../../../core_expr_types/__pv_it/common/4a3d0bd040812cc2e5ba858cb3f17625fdc40e770/expr.png\" style=\"display:inline;vertical-align:middle;\" /></a></td></tr>\n",
       "<tr><td>37</td><td>Variable</td><td></td><td><a class=\"ProveItLink\" href=\"../../../../../__pv_it/common/a4b9661da9b52dcebf59c5559fec8901f4df10750/expr.ipynb\"><img src=\"../../../../../__pv_it/common/a4b9661da9b52dcebf59c5559fec8901f4df10750/expr.png\" style=\"display:inline;vertical-align:middle;\" /></a></td></tr>\n",
       "<tr><td>38</td><td>ExprTuple</td><td>39</td><td><a class=\"ProveItLink\" href=\"../../../../../core_expr_types/__pv_it/common/4b0dd6be36d76552eda6a95d5b4a27f5a5b62f900/expr.ipynb\"><img src=\"../../../../../core_expr_types/__pv_it/common/4b0dd6be36d76552eda6a95d5b4a27f5a5b62f900/expr.png\" style=\"display:inline;vertical-align:middle;\" /></a></td></tr>\n",
       "<tr><td>39</td><td>Variable</td><td></td><td><a class=\"ProveItLink\" href=\"../../../../../core_expr_types/__pv_it/common/006c465e50948aa2b52285e2de47974f741255cc0/expr.ipynb\"><img src=\"../../../../../core_expr_types/__pv_it/common/006c465e50948aa2b52285e2de47974f741255cc0/expr.png\" style=\"display:inline;vertical-align:middle;\" /></a></td></tr>\n",
       "</table>\n"
      ],
      "text/plain": [
       "0. (v_{1}, v_{2}, ..., v_{n}) -> {(A_{1} otimes  A_{2} otimes  ... otimes  A_{n})(v_{1} otimes  v_{2} otimes  ... otimes  v_{n}) = (A_{1}(v_{1}) otimes  A_{2}(v_{2}) otimes  ... otimes  A_{n}(v_{n})) if (v_{1} in V_{1}) and  (v_{2} in V_{2}) and  ... and  (v_{n} in V_{n}).\n",
       "   core type: Lambda\n",
       "   parameters: 21\\n   body: 1\n",
       "1. {(A_{1} otimes  A_{2} otimes  ... otimes  A_{n})(v_{1} otimes  v_{2} otimes  ... otimes  v_{n}) = (A_{1}(v_{1}) otimes  A_{2}(v_{2}) otimes  ... otimes  A_{n}(v_{n})) if (v_{1} in V_{1}) and  (v_{2} in V_{2}) and  ... and  (v_{n} in V_{n}).\n",
       "   core type: Conditional\n",
       "   value: 2\n",
       "   condition: 3\n",
       "2. (A_{1} otimes  A_{2} otimes  ... otimes  A_{n})(v_{1} otimes  v_{2} otimes  ... otimes  v_{n}) = (A_{1}(v_{1}) otimes  A_{2}(v_{2}) otimes  ... otimes  A_{n}(v_{n}))\n",
       "   core type: Operation\n",
       "   operator: 4\n",
       "   operands: 5\n",
       "3. (v_{1} in V_{1}) and  (v_{2} in V_{2}) and  ... and  (v_{n} in V_{n})\n",
       "   core type: Operation\n",
       "   operator: 6\n",
       "   operands: 7\n",
       "4. =\n",
       "   core type: Literal\n",
       "   sub-expressions: \n",
       "5. ((A_{1} otimes  A_{2} otimes  ... otimes  A_{n})(v_{1} otimes  v_{2} otimes  ... otimes  v_{n}), A_{1}(v_{1}) otimes  A_{2}(v_{2}) otimes  ... otimes  A_{n}(v_{n}))\n",
       "   core type: ExprTuple\n",
       "   sub-expressions: 8, 9\n",
       "6. and\n",
       "   core type: Literal\n",
       "   sub-expressions: \n",
       "7. ((v_{1} in V_{1}), (v_{2} in V_{2}), ..., (v_{n} in V_{n}))\n",
       "   core type: ExprTuple\n",
       "   sub-expressions: 10\n",
       "8. (A_{1} otimes  A_{2} otimes  ... otimes  A_{n})(v_{1} otimes  v_{2} otimes  ... otimes  v_{n})\n",
       "   core type: Operation\n",
       "   operator: 11\n",
       "   operand: 16\n",
       "9. A_{1}(v_{1}) otimes  A_{2}(v_{2}) otimes  ... otimes  A_{n}(v_{n})\n",
       "   core type: Operation\n",
       "   operator: 20\n",
       "   operands: 13\n",
       "10. (v_{1} in V_{1}), (v_{2} in V_{2}), ..., (v_{n} in V_{n})\n",
       "    core type: ExprRange\n",
       "    lambda_map: 14\n",
       "    start_index: 30\n",
       "    end_index: 31\n",
       "11. A_{1} otimes  A_{2} otimes  ... otimes  A_{n}\n",
       "    core type: Operation\n",
       "    operator: 20\n",
       "    operands: 15\n",
       "12. (v_{1} otimes  v_{2} otimes  ... otimes  v_{n})\n",
       "    core type: ExprTuple\n",
       "    sub-expressions: 16\n",
       "13. (A_{1}(v_{1}), A_{2}(v_{2}), ..., A_{n}(v_{n}))\n",
       "    core type: ExprTuple\n",
       "    sub-expressions: 17\n",
       "14. _a -> (v_{_a} in V_{_a})\n",
       "    core type: Lambda\n",
       "    parameter: 39\n",
       "    body: 18\n",
       "15. (A_{1}, A_{2}, ..., A_{n})\n",
       "    core type: ExprTuple\n",
       "    sub-expressions: 19\n",
       "16. v_{1} otimes  v_{2} otimes  ... otimes  v_{n}\n",
       "    core type: Operation\n",
       "    operator: 20\n",
       "    operands: 21\n",
       "17. A_{1}(v_{1}), A_{2}(v_{2}), ..., A_{n}(v_{n})\n",
       "    core type: ExprRange\n",
       "    lambda_map: 22\n",
       "    start_index: 30\n",
       "    end_index: 31\n",
       "18. v_{_a} in V_{_a}\n",
       "    core type: Operation\n",
       "    operator: 23\n",
       "    operands: 24\n",
       "19. A_{1}, A_{2}, ..., A_{n}\n",
       "    core type: ExprRange\n",
       "    lambda_map: 25\n",
       "    start_index: 30\n",
       "    end_index: 31\n",
       "20. otimes\n",
       "    core type: Literal\n",
       "    sub-expressions: \n",
       "21. (v_{1}, v_{2}, ..., v_{n})\n",
       "    core type: ExprTuple\n",
       "    sub-expressions: 26\n",
       "22. _a -> A_{_a}(v_{_a})\n",
       "    core type: Lambda\n",
       "    parameter: 39\n",
       "    body: 27\n",
       "23. in\n",
       "    core type: Literal\n",
       "    sub-expressions: \n",
       "24. (v_{_a}, V_{_a})\n",
       "    core type: ExprTuple\n",
       "    sub-expressions: 36, 28\n",
       "25. _a -> A_{_a}\n",
       "    core type: Lambda\n",
       "    parameter: 39\n",
       "    body: 32\n",
       "26. v_{1}, v_{2}, ..., v_{n}\n",
       "    core type: ExprRange\n",
       "    lambda_map: 29\n",
       "    start_index: 30\n",
       "    end_index: 31\n",
       "27. A_{_a}(v_{_a})\n",
       "    core type: Operation\n",
       "    operator: 32\n",
       "    operand: 36\n",
       "28. V_{_a}\n",
       "    core type: IndexedVar\n",
       "variable: 34\n",
       "index: 39\n",
       "29. _a -> v_{_a}\n",
       "    core type: Lambda\n",
       "    parameter: 39\n",
       "    body: 36\n",
       "30. 1\n",
       "    core type: Literal\n",
       "    sub-expressions: \n",
       "31. n\n",
       "    core type: Variable\n",
       "    sub-expressions: \n",
       "32. A_{_a}\n",
       "    core type: IndexedVar\n",
       "variable: 35\n",
       "index: 39\n",
       "33. (v_{_a})\n",
       "    core type: ExprTuple\n",
       "    sub-expressions: 36\n",
       "34. V\n",
       "    core type: Variable\n",
       "    sub-expressions: \n",
       "35. A\n",
       "    core type: Variable\n",
       "    sub-expressions: \n",
       "36. v_{_a}\n",
       "    core type: IndexedVar\n",
       "variable: 37\n",
       "index: 39\n",
       "37. v\n",
       "    core type: Variable\n",
       "    sub-expressions: \n",
       "38. (_a)\n",
       "    core type: ExprTuple\n",
       "    sub-expressions: 39\n",
       "39. _a\n",
       "    core type: Variable\n",
       "    sub-expressions: "
      ]
     },
     "metadata": {},
     "output_type": "display_data"
    }
   ],
   "source": [
    "# display the expression information\n",
    "stored_expr.expr_info()"
   ]
  },
  {
   "cell_type": "code",
   "execution_count": null,
   "metadata": {},
   "outputs": [],
   "source": []
  }
 ],
 "metadata": {
  "kernelspec": {
   "display_name": "Python 3",
   "language": "python",
   "name": "python3"
  }
 },
 "nbformat": 4,
 "nbformat_minor": 0
}