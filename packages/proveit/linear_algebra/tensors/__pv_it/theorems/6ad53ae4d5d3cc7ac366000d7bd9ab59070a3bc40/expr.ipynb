{
 "cells": [
  {
   "cell_type": "markdown",
   "metadata": {},
   "source": [
    "Expression of type <a class=\"ProveItLink\" href=\"../../../../../../../doc/html/api/proveit.ExprTuple.html\">ExprTuple</a>\n",
    "=======================\n",
    "# from the theory of <a class=\"ProveItLink\" href=\"../../../_theory_nbs_/theory.ipynb\">proveit.linear_algebra.tensors</a>"
   ]
  },
  {
   "cell_type": "code",
   "execution_count": 1,
   "metadata": {},
   "outputs": [],
   "source": [
    "import proveit\n",
    "# Automation is not needed when building an expression:\n",
    "proveit.defaults.automation = False # This will speed things up.\n",
    "proveit.defaults.inline_pngs = False # Makes files smaller.\n",
    "%load_expr # Load the stored expression as 'stored_expr'\n",
    "# import Expression classes needed to build the expression\n",
    "from proveit import ExprRange, ExprTuple, IndexedVar, U, Variable, W, a, c, d, f, i, k\n",
    "from proveit.logic import InSet\n",
    "from proveit.numbers import one"
   ]
  },
  {
   "cell_type": "code",
   "execution_count": 2,
   "metadata": {},
   "outputs": [
    {
     "data": {
      "text/html": [
       "<strong id=\"expr\">expr:</strong> <a class=\"ProveItLink\" href=\"expr.ipynb\"><img src=\"expr.png\" style=\"display:inline;vertical-align:middle;\" /></a><br>"
      ],
      "text/plain": [
       "<IPython.core.display.HTML object>"
      ]
     },
     "metadata": {},
     "output_type": "display_data"
    }
   ],
   "source": [
    "# build up the expression from sub-expressions\n",
    "sub_expr1 = Variable(\"_a\", latex_format = r\"{_{-}a}\")\n",
    "sub_expr2 = IndexedVar(U, sub_expr1)\n",
    "sub_expr3 = IndexedVar(W, sub_expr1)\n",
    "expr = ExprTuple(ExprRange(sub_expr1, InSet(IndexedVar(a, sub_expr1), sub_expr2), one, i), ExprRange(sub_expr1, InSet(IndexedVar(c, sub_expr1), sub_expr3), one, k), ExprRange(sub_expr1, InSet(IndexedVar(d, sub_expr1), sub_expr2), one, i), ExprRange(sub_expr1, InSet(IndexedVar(f, sub_expr1), sub_expr3), one, k))"
   ]
  },
  {
   "cell_type": "code",
   "execution_count": 3,
   "metadata": {},
   "outputs": [
    {
     "name": "stdout",
     "output_type": "stream",
     "text": [
      "Passed sanity check: expr matches stored_expr\n"
     ]
    }
   ],
   "source": [
    "# check that the built expression is the same as the stored expression\n",
    "assert expr == stored_expr\n",
    "assert expr._style_id == stored_expr._style_id\n",
    "print(\"Passed sanity check: expr matches stored_expr\")"
   ]
  },
  {
   "cell_type": "code",
   "execution_count": 4,
   "metadata": {},
   "outputs": [
    {
     "name": "stdout",
     "output_type": "stream",
     "text": [
      "\\left(\\left(a_{1} \\in U_{1}\\right), \\left(a_{2} \\in U_{2}\\right), \\ldots, \\left(a_{i} \\in U_{i}\\right),\\left(c_{1} \\in W_{1}\\right), \\left(c_{2} \\in W_{2}\\right), \\ldots, \\left(c_{k} \\in W_{k}\\right),\\left(d_{1} \\in U_{1}\\right), \\left(d_{2} \\in U_{2}\\right), \\ldots, \\left(d_{i} \\in U_{i}\\right),\\left(f_{1} \\in W_{1}\\right), \\left(f_{2} \\in W_{2}\\right), \\ldots, \\left(f_{k} \\in W_{k}\\right)\\right)\n"
     ]
    }
   ],
   "source": [
    "# Show the LaTeX representation of the expression for convenience if you need it.\n",
    "print(stored_expr.latex())"
   ]
  },
  {
   "cell_type": "code",
   "execution_count": 5,
   "metadata": {},
   "outputs": [
    {
     "data": {
      "text/html": [
       "<table>\n",
       "<tr><th>name</th><th>description</th><th>default</th><th>current value</th><th>related methods</th></tr><tr><td>wrap_positions</td><td>position(s) at which wrapping is to occur; 'n' is after the nth comma.</td><td>()</td><td>()</td><td>('with_wrapping_at',)</td></tr>\n",
       "<tr><td>justification</td><td>if any wrap positions are set, justify to the 'left', 'center', or 'right'</td><td>left</td><td>left</td><td>('with_justification',)</td></tr>\n",
       "</table>\n"
      ],
      "text/plain": [
       "style name: wrap_positions\n",
       "description: position(s) at which wrapping is to occur; 'n' is after the nth comma.\n",
       "default: ()\n",
       "current value: ()\n",
       "related methods: ('with_wrapping_at',)\n",
       "style name: justification\n",
       "description: if any wrap positions are set, justify to the 'left', 'center', or 'right'\n",
       "default: left\n",
       "current value: left\n",
       "related methods: ('with_justification',)"
      ]
     },
     "metadata": {},
     "output_type": "display_data"
    }
   ],
   "source": [
    "stored_expr.style_options()"
   ]
  },
  {
   "cell_type": "code",
   "execution_count": 6,
   "metadata": {},
   "outputs": [
    {
     "data": {
      "text/html": [
       "<table><tr><th>&nbsp;</th><th>core type</th><th>sub-expressions</th><th>expression</th></tr>\n",
       "<tr><td>0</td><td>ExprTuple</td><td>1, 2, 3, 4</td><td><a class=\"ProveItLink\" href=\"expr.ipynb\"><img src=\"expr.png\" style=\"display:inline;vertical-align:middle;\" /></a></td></tr>\n",
       "<tr><td>1</td><td>ExprRange</td><td>lambda_map:&nbsp;5<br>start_index:&nbsp;10<br>end_index:&nbsp;8<br></td><td><a class=\"ProveItLink\" href=\"../0ab518a2e8ccc063fd69741723f6078edee7c9ea0/expr.ipynb\"><img src=\"../0ab518a2e8ccc063fd69741723f6078edee7c9ea0/expr.png\" style=\"display:inline;vertical-align:middle;\" /></a></td></tr>\n",
       "<tr><td>2</td><td>ExprRange</td><td>lambda_map:&nbsp;6<br>start_index:&nbsp;10<br>end_index:&nbsp;11<br></td><td><a class=\"ProveItLink\" href=\"../c2cb17802c9be10d1224bf006f9f0b68be9027ec0/expr.ipynb\"><img src=\"../c2cb17802c9be10d1224bf006f9f0b68be9027ec0/expr.png\" style=\"display:inline;vertical-align:middle;\" /></a></td></tr>\n",
       "<tr><td>3</td><td>ExprRange</td><td>lambda_map:&nbsp;7<br>start_index:&nbsp;10<br>end_index:&nbsp;8<br></td><td><a class=\"ProveItLink\" href=\"../6facb7939b732cb849f2914a6ec9d78ac6faeb250/expr.ipynb\"><img src=\"../6facb7939b732cb849f2914a6ec9d78ac6faeb250/expr.png\" style=\"display:inline;vertical-align:middle;\" /></a></td></tr>\n",
       "<tr><td>4</td><td>ExprRange</td><td>lambda_map:&nbsp;9<br>start_index:&nbsp;10<br>end_index:&nbsp;11<br></td><td><a class=\"ProveItLink\" href=\"../2d3faf6aa1215714910e1da65bb1fcccc1e7f1850/expr.ipynb\"><img src=\"../2d3faf6aa1215714910e1da65bb1fcccc1e7f1850/expr.png\" style=\"display:inline;vertical-align:middle;\" /></a></td></tr>\n",
       "<tr><td>5</td><td>Lambda</td><td>parameter:&nbsp;34<br>body:&nbsp;12<br></td><td><a class=\"ProveItLink\" href=\"../b908b79b6bdff54afe3fb5aef5c47d2de1a53bae0/expr.ipynb\"><img src=\"../b908b79b6bdff54afe3fb5aef5c47d2de1a53bae0/expr.png\" style=\"display:inline;vertical-align:middle;\" /></a></td></tr>\n",
       "<tr><td>6</td><td>Lambda</td><td>parameter:&nbsp;34<br>body:&nbsp;13<br></td><td><a class=\"ProveItLink\" href=\"../e516689e205b5f432e50633d85c778311fa58ab50/expr.ipynb\"><img src=\"../e516689e205b5f432e50633d85c778311fa58ab50/expr.png\" style=\"display:inline;vertical-align:middle;\" /></a></td></tr>\n",
       "<tr><td>7</td><td>Lambda</td><td>parameter:&nbsp;34<br>body:&nbsp;14<br></td><td><a class=\"ProveItLink\" href=\"../467dcb981f80379325762dbfd356c6d92c5539740/expr.ipynb\"><img src=\"../467dcb981f80379325762dbfd356c6d92c5539740/expr.png\" style=\"display:inline;vertical-align:middle;\" /></a></td></tr>\n",
       "<tr><td>8</td><td>Variable</td><td></td><td><a class=\"ProveItLink\" href=\"../../../../../__pv_it/common/ae955345c83abf786c3aff8681cd5465beae262d0/expr.ipynb\"><img src=\"../../../../../__pv_it/common/ae955345c83abf786c3aff8681cd5465beae262d0/expr.png\" style=\"display:inline;vertical-align:middle;\" /></a></td></tr>\n",
       "<tr><td>9</td><td>Lambda</td><td>parameter:&nbsp;34<br>body:&nbsp;15<br></td><td><a class=\"ProveItLink\" href=\"../c738d5408e6bfd296bf86429cbef3afa12d4fc2d0/expr.ipynb\"><img src=\"../c738d5408e6bfd296bf86429cbef3afa12d4fc2d0/expr.png\" style=\"display:inline;vertical-align:middle;\" /></a></td></tr>\n",
       "<tr><td>10</td><td>Literal</td><td></td><td><a class=\"ProveItLink\" href=\"../../../../../numbers/numerals/__pv_it/common/682157d4892d216d9e5626ed533aff9b56b9506e0/expr.ipynb\"><img src=\"../../../../../numbers/numerals/__pv_it/common/682157d4892d216d9e5626ed533aff9b56b9506e0/expr.png\" style=\"display:inline;vertical-align:middle;\" /></a></td></tr>\n",
       "<tr><td>11</td><td>Variable</td><td></td><td><a class=\"ProveItLink\" href=\"../../../../../__pv_it/common/63b7c64bf9ec7a04ecc396c7a1670f3f12fb59490/expr.ipynb\"><img src=\"../../../../../__pv_it/common/63b7c64bf9ec7a04ecc396c7a1670f3f12fb59490/expr.png\" style=\"display:inline;vertical-align:middle;\" /></a></td></tr>\n",
       "<tr><td>12</td><td>Operation</td><td>operator:&nbsp;19<br>operands:&nbsp;16<br></td><td><a class=\"ProveItLink\" href=\"../10f8034c60d688106a06744ee7c9f09097f200120/expr.ipynb\"><img src=\"../10f8034c60d688106a06744ee7c9f09097f200120/expr.png\" style=\"display:inline;vertical-align:middle;\" /></a></td></tr>\n",
       "<tr><td>13</td><td>Operation</td><td>operator:&nbsp;19<br>operands:&nbsp;17<br></td><td><a class=\"ProveItLink\" href=\"../618e115b637a3e60bef74f423aa6f3eae1e32bd30/expr.ipynb\"><img src=\"../618e115b637a3e60bef74f423aa6f3eae1e32bd30/expr.png\" style=\"display:inline;vertical-align:middle;\" /></a></td></tr>\n",
       "<tr><td>14</td><td>Operation</td><td>operator:&nbsp;19<br>operands:&nbsp;18<br></td><td><a class=\"ProveItLink\" href=\"../fcc5dffced67fdb75ab2541a5f4c30bfbf0220f30/expr.ipynb\"><img src=\"../fcc5dffced67fdb75ab2541a5f4c30bfbf0220f30/expr.png\" style=\"display:inline;vertical-align:middle;\" /></a></td></tr>\n",
       "<tr><td>15</td><td>Operation</td><td>operator:&nbsp;19<br>operands:&nbsp;20<br></td><td><a class=\"ProveItLink\" href=\"../2a8adbb1a33c3538a6731ff1246e3e7ba91a96190/expr.ipynb\"><img src=\"../2a8adbb1a33c3538a6731ff1246e3e7ba91a96190/expr.png\" style=\"display:inline;vertical-align:middle;\" /></a></td></tr>\n",
       "<tr><td>16</td><td>ExprTuple</td><td>21, 24</td><td><a class=\"ProveItLink\" href=\"../e583dce0a899f85e4c2fbb634f8deb768d4991bb0/expr.ipynb\"><img src=\"../e583dce0a899f85e4c2fbb634f8deb768d4991bb0/expr.png\" style=\"display:inline;vertical-align:middle;\" /></a></td></tr>\n",
       "<tr><td>17</td><td>ExprTuple</td><td>22, 26</td><td><a class=\"ProveItLink\" href=\"../c2f5f9ae21b3af45ffcb594389a79b5103820d880/expr.ipynb\"><img src=\"../c2f5f9ae21b3af45ffcb594389a79b5103820d880/expr.png\" style=\"display:inline;vertical-align:middle;\" /></a></td></tr>\n",
       "<tr><td>18</td><td>ExprTuple</td><td>23, 24</td><td><a class=\"ProveItLink\" href=\"../ca8b080a779a4067b29634a23a67977ab6f365a40/expr.ipynb\"><img src=\"../ca8b080a779a4067b29634a23a67977ab6f365a40/expr.png\" style=\"display:inline;vertical-align:middle;\" /></a></td></tr>\n",
       "<tr><td>19</td><td>Literal</td><td></td><td><a class=\"ProveItLink\" href=\"../../../../../logic/sets/membership/__pv_it/common/477487d8796864d23d5810f83761435f25167f690/expr.ipynb\"><img src=\"../../../../../logic/sets/membership/__pv_it/common/477487d8796864d23d5810f83761435f25167f690/expr.png\" style=\"display:inline;vertical-align:middle;\" /></a></td></tr>\n",
       "<tr><td>20</td><td>ExprTuple</td><td>25, 26</td><td><a class=\"ProveItLink\" href=\"../96ec96739ec18837a9241f055458d36b3f7838290/expr.ipynb\"><img src=\"../96ec96739ec18837a9241f055458d36b3f7838290/expr.png\" style=\"display:inline;vertical-align:middle;\" /></a></td></tr>\n",
       "<tr><td>21</td><td>IndexedVar</td><td>variable:&nbsp;27<br>index:&nbsp;34<br></td><td><a class=\"ProveItLink\" href=\"../../../../../core_expr_types/__pv_it/common/3a62c13e156d62d52fe585fa37cc2172fcf685260/expr.ipynb\"><img src=\"../../../../../core_expr_types/__pv_it/common/3a62c13e156d62d52fe585fa37cc2172fcf685260/expr.png\" style=\"display:inline;vertical-align:middle;\" /></a></td></tr>\n",
       "<tr><td>22</td><td>IndexedVar</td><td>variable:&nbsp;28<br>index:&nbsp;34<br></td><td><a class=\"ProveItLink\" href=\"../../../../../core_expr_types/__pv_it/common/8ffbefe913f7c934b2e3a2a12315d5900822d9d00/expr.ipynb\"><img src=\"../../../../../core_expr_types/__pv_it/common/8ffbefe913f7c934b2e3a2a12315d5900822d9d00/expr.png\" style=\"display:inline;vertical-align:middle;\" /></a></td></tr>\n",
       "<tr><td>23</td><td>IndexedVar</td><td>variable:&nbsp;29<br>index:&nbsp;34<br></td><td><a class=\"ProveItLink\" href=\"../../../../../core_expr_types/__pv_it/common/5bf4b29ec6330e454e20c2d5b902497b0b859a880/expr.ipynb\"><img src=\"../../../../../core_expr_types/__pv_it/common/5bf4b29ec6330e454e20c2d5b902497b0b859a880/expr.png\" style=\"display:inline;vertical-align:middle;\" /></a></td></tr>\n",
       "<tr><td>24</td><td>IndexedVar</td><td>variable:&nbsp;30<br>index:&nbsp;34<br></td><td><a class=\"ProveItLink\" href=\"../../../../../core_expr_types/__pv_it/common/a0a589405bd46ff5f5081e37e3ecae7ecd8092eb0/expr.ipynb\"><img src=\"../../../../../core_expr_types/__pv_it/common/a0a589405bd46ff5f5081e37e3ecae7ecd8092eb0/expr.png\" style=\"display:inline;vertical-align:middle;\" /></a></td></tr>\n",
       "<tr><td>25</td><td>IndexedVar</td><td>variable:&nbsp;31<br>index:&nbsp;34<br></td><td><a class=\"ProveItLink\" href=\"../../../../../core_expr_types/__pv_it/common/547cf03121fc61889c17c9471fd9cf52308ae0db0/expr.ipynb\"><img src=\"../../../../../core_expr_types/__pv_it/common/547cf03121fc61889c17c9471fd9cf52308ae0db0/expr.png\" style=\"display:inline;vertical-align:middle;\" /></a></td></tr>\n",
       "<tr><td>26</td><td>IndexedVar</td><td>variable:&nbsp;32<br>index:&nbsp;34<br></td><td><a class=\"ProveItLink\" href=\"../../../../../core_expr_types/__pv_it/common/e420cfd8a982b215c9c21b1007cab51362ec3bc60/expr.ipynb\"><img src=\"../../../../../core_expr_types/__pv_it/common/e420cfd8a982b215c9c21b1007cab51362ec3bc60/expr.png\" style=\"display:inline;vertical-align:middle;\" /></a></td></tr>\n",
       "<tr><td>27</td><td>Variable</td><td></td><td><a class=\"ProveItLink\" href=\"../../../../../__pv_it/common/c06c606ec12678c58933ac85412ecadc2ae28be60/expr.ipynb\"><img src=\"../../../../../__pv_it/common/c06c606ec12678c58933ac85412ecadc2ae28be60/expr.png\" style=\"display:inline;vertical-align:middle;\" /></a></td></tr>\n",
       "<tr><td>28</td><td>Variable</td><td></td><td><a class=\"ProveItLink\" href=\"../../../../../__pv_it/common/ceef4280a2f1cc604b455b54e735507244cc62cd0/expr.ipynb\"><img src=\"../../../../../__pv_it/common/ceef4280a2f1cc604b455b54e735507244cc62cd0/expr.png\" style=\"display:inline;vertical-align:middle;\" /></a></td></tr>\n",
       "<tr><td>29</td><td>Variable</td><td></td><td><a class=\"ProveItLink\" href=\"../../../../../__pv_it/common/4f5c524ffda87296de1c79b96880123fe2efedd50/expr.ipynb\"><img src=\"../../../../../__pv_it/common/4f5c524ffda87296de1c79b96880123fe2efedd50/expr.png\" style=\"display:inline;vertical-align:middle;\" /></a></td></tr>\n",
       "<tr><td>30</td><td>Variable</td><td></td><td><a class=\"ProveItLink\" href=\"../../../../../__pv_it/common/2586cdae2fd2785a5bcbf61f99f7aaf8229d775e0/expr.ipynb\"><img src=\"../../../../../__pv_it/common/2586cdae2fd2785a5bcbf61f99f7aaf8229d775e0/expr.png\" style=\"display:inline;vertical-align:middle;\" /></a></td></tr>\n",
       "<tr><td>31</td><td>Variable</td><td></td><td><a class=\"ProveItLink\" href=\"../../../../../__pv_it/common/01b6dbb444a31fc38af4c2379badef6c75b363710/expr.ipynb\"><img src=\"../../../../../__pv_it/common/01b6dbb444a31fc38af4c2379badef6c75b363710/expr.png\" style=\"display:inline;vertical-align:middle;\" /></a></td></tr>\n",
       "<tr><td>32</td><td>Variable</td><td></td><td><a class=\"ProveItLink\" href=\"../../../../../__pv_it/common/be2a62cde606eb0642ab6f06c6e4aa2c50ff45540/expr.ipynb\"><img src=\"../../../../../__pv_it/common/be2a62cde606eb0642ab6f06c6e4aa2c50ff45540/expr.png\" style=\"display:inline;vertical-align:middle;\" /></a></td></tr>\n",
       "<tr><td>33</td><td>ExprTuple</td><td>34</td><td><a class=\"ProveItLink\" href=\"../../../../../core_expr_types/__pv_it/common/4b0dd6be36d76552eda6a95d5b4a27f5a5b62f900/expr.ipynb\"><img src=\"../../../../../core_expr_types/__pv_it/common/4b0dd6be36d76552eda6a95d5b4a27f5a5b62f900/expr.png\" style=\"display:inline;vertical-align:middle;\" /></a></td></tr>\n",
       "<tr><td>34</td><td>Variable</td><td></td><td><a class=\"ProveItLink\" href=\"../../../../../core_expr_types/__pv_it/common/006c465e50948aa2b52285e2de47974f741255cc0/expr.ipynb\"><img src=\"../../../../../core_expr_types/__pv_it/common/006c465e50948aa2b52285e2de47974f741255cc0/expr.png\" style=\"display:inline;vertical-align:middle;\" /></a></td></tr>\n",
       "</table>\n"
      ],
      "text/plain": [
       "0. ((a_{1} in U_{1}), (a_{2} in U_{2}), ..., (a_{i} in U_{i}),(c_{1} in W_{1}), (c_{2} in W_{2}), ..., (c_{k} in W_{k}),(d_{1} in U_{1}), (d_{2} in U_{2}), ..., (d_{i} in U_{i}),(f_{1} in W_{1}), (f_{2} in W_{2}), ..., (f_{k} in W_{k}))\n",
       "   core type: ExprTuple\n",
       "   sub-expressions: 1, 2, 3, 4\n",
       "1. (a_{1} in U_{1}), (a_{2} in U_{2}), ..., (a_{i} in U_{i})\n",
       "   core type: ExprRange\n",
       "   lambda_map: 5\n",
       "   start_index: 10\n",
       "   end_index: 8\n",
       "2. (c_{1} in W_{1}), (c_{2} in W_{2}), ..., (c_{k} in W_{k})\n",
       "   core type: ExprRange\n",
       "   lambda_map: 6\n",
       "   start_index: 10\n",
       "   end_index: 11\n",
       "3. (d_{1} in U_{1}), (d_{2} in U_{2}), ..., (d_{i} in U_{i})\n",
       "   core type: ExprRange\n",
       "   lambda_map: 7\n",
       "   start_index: 10\n",
       "   end_index: 8\n",
       "4. (f_{1} in W_{1}), (f_{2} in W_{2}), ..., (f_{k} in W_{k})\n",
       "   core type: ExprRange\n",
       "   lambda_map: 9\n",
       "   start_index: 10\n",
       "   end_index: 11\n",
       "5. _a -> (a_{_a} in U_{_a})\n",
       "   core type: Lambda\n",
       "   parameter: 34\n",
       "   body: 12\n",
       "6. _a -> (c_{_a} in W_{_a})\n",
       "   core type: Lambda\n",
       "   parameter: 34\n",
       "   body: 13\n",
       "7. _a -> (d_{_a} in U_{_a})\n",
       "   core type: Lambda\n",
       "   parameter: 34\n",
       "   body: 14\n",
       "8. i\n",
       "   core type: Variable\n",
       "   sub-expressions: \n",
       "9. _a -> (f_{_a} in W_{_a})\n",
       "   core type: Lambda\n",
       "   parameter: 34\n",
       "   body: 15\n",
       "10. 1\n",
       "    core type: Literal\n",
       "    sub-expressions: \n",
       "11. k\n",
       "    core type: Variable\n",
       "    sub-expressions: \n",
       "12. a_{_a} in U_{_a}\n",
       "    core type: Operation\n",
       "    operator: 19\n",
       "    operands: 16\n",
       "13. c_{_a} in W_{_a}\n",
       "    core type: Operation\n",
       "    operator: 19\n",
       "    operands: 17\n",
       "14. d_{_a} in U_{_a}\n",
       "    core type: Operation\n",
       "    operator: 19\n",
       "    operands: 18\n",
       "15. f_{_a} in W_{_a}\n",
       "    core type: Operation\n",
       "    operator: 19\n",
       "    operands: 20\n",
       "16. (a_{_a}, U_{_a})\n",
       "    core type: ExprTuple\n",
       "    sub-expressions: 21, 24\n",
       "17. (c_{_a}, W_{_a})\n",
       "    core type: ExprTuple\n",
       "    sub-expressions: 22, 26\n",
       "18. (d_{_a}, U_{_a})\n",
       "    core type: ExprTuple\n",
       "    sub-expressions: 23, 24\n",
       "19. in\n",
       "    core type: Literal\n",
       "    sub-expressions: \n",
       "20. (f_{_a}, W_{_a})\n",
       "    core type: ExprTuple\n",
       "    sub-expressions: 25, 26\n",
       "21. a_{_a}\n",
       "    core type: IndexedVar\n",
       "variable: 27\n",
       "index: 34\n",
       "22. c_{_a}\n",
       "    core type: IndexedVar\n",
       "variable: 28\n",
       "index: 34\n",
       "23. d_{_a}\n",
       "    core type: IndexedVar\n",
       "variable: 29\n",
       "index: 34\n",
       "24. U_{_a}\n",
       "    core type: IndexedVar\n",
       "variable: 30\n",
       "index: 34\n",
       "25. f_{_a}\n",
       "    core type: IndexedVar\n",
       "variable: 31\n",
       "index: 34\n",
       "26. W_{_a}\n",
       "    core type: IndexedVar\n",
       "variable: 32\n",
       "index: 34\n",
       "27. a\n",
       "    core type: Variable\n",
       "    sub-expressions: \n",
       "28. c\n",
       "    core type: Variable\n",
       "    sub-expressions: \n",
       "29. d\n",
       "    core type: Variable\n",
       "    sub-expressions: \n",
       "30. U\n",
       "    core type: Variable\n",
       "    sub-expressions: \n",
       "31. f\n",
       "    core type: Variable\n",
       "    sub-expressions: \n",
       "32. W\n",
       "    core type: Variable\n",
       "    sub-expressions: \n",
       "33. (_a)\n",
       "    core type: ExprTuple\n",
       "    sub-expressions: 34\n",
       "34. _a\n",
       "    core type: Variable\n",
       "    sub-expressions: "
      ]
     },
     "metadata": {},
     "output_type": "display_data"
    }
   ],
   "source": [
    "# display the expression information\n",
    "stored_expr.expr_info()"
   ]
  },
  {
   "cell_type": "code",
   "execution_count": null,
   "metadata": {},
   "outputs": [],
   "source": []
  }
 ],
 "metadata": {
  "kernelspec": {
   "display_name": "Python 3",
   "language": "python",
   "name": "python3"
  }
 },
 "nbformat": 4,
 "nbformat_minor": 0
}