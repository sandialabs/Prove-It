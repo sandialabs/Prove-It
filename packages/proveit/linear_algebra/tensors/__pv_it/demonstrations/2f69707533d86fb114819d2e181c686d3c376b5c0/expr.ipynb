{
 "cells": [
  {
   "cell_type": "markdown",
   "metadata": {},
   "source": [
    "Expression of type <a class=\"ProveItLink\" href=\"../../../../../../../doc/html/api/proveit.logic.Implies.html\">Implies</a>\n",
    "=======================\n",
    "# from the theory of <a class=\"ProveItLink\" href=\"../../../_theory_nbs_/theory.ipynb\">proveit.linear_algebra.tensors</a>"
   ]
  },
  {
   "cell_type": "code",
   "execution_count": 1,
   "metadata": {},
   "outputs": [],
   "source": [
    "import proveit\n",
    "# Automation is not needed when building an expression:\n",
    "proveit.defaults.automation = False # This will speed things up.\n",
    "proveit.defaults.inline_pngs = False # Makes files smaller.\n",
    "%load_expr # Load the stored expression as 'stored_expr'\n",
    "# import Expression classes needed to build the expression\n",
    "from proveit import i, x, y\n",
    "from proveit.linear_algebra import TensorProd, VecSum\n",
    "from proveit.logic import CartExp, Forall, Implies, InSet\n",
    "from proveit.numbers import Interval, Real, four, three, two"
   ]
  },
  {
   "cell_type": "code",
   "execution_count": 2,
   "metadata": {},
   "outputs": [
    {
     "data": {
      "text/html": [
       "<strong id=\"expr\">expr:</strong> <a class=\"ProveItLink\" href=\"expr.ipynb\"><img src=\"expr.png\" style=\"display:inline;vertical-align:middle;\" /></a><br>"
      ],
      "text/plain": [
       "<IPython.core.display.HTML object>"
      ]
     },
     "metadata": {},
     "output_type": "display_data"
    }
   ],
   "source": [
    "# build up the expression from sub-expressions\n",
    "sub_expr1 = [i]\n",
    "sub_expr2 = TensorProd(x, y)\n",
    "sub_expr3 = CartExp(Real, three)\n",
    "sub_expr4 = Interval(two, four)\n",
    "sub_expr5 = TensorProd(sub_expr3, sub_expr3)\n",
    "expr = Implies(Forall(instance_param_or_params = sub_expr1, instance_expr = InSet(sub_expr2, sub_expr5), domain = sub_expr4), InSet(VecSum(index_or_indices = sub_expr1, summand = sub_expr2, domain = sub_expr4), sub_expr5)).with_wrapping_at(2)"
   ]
  },
  {
   "cell_type": "code",
   "execution_count": 3,
   "metadata": {},
   "outputs": [
    {
     "name": "stdout",
     "output_type": "stream",
     "text": [
      "Passed sanity check: expr matches stored_expr\n"
     ]
    }
   ],
   "source": [
    "# check that the built expression is the same as the stored expression\n",
    "assert expr == stored_expr\n",
    "assert expr._style_id == stored_expr._style_id\n",
    "print(\"Passed sanity check: expr matches stored_expr\")"
   ]
  },
  {
   "cell_type": "code",
   "execution_count": 4,
   "metadata": {},
   "outputs": [
    {
     "name": "stdout",
     "output_type": "stream",
     "text": [
      "\\begin{array}{c} \\begin{array}{l} \\left[\\forall_{i \\in \\{2~\\ldotp \\ldotp~4\\}}~\\left(\\left(x {\\otimes} y\\right) \\in \\left(\\mathbb{R}^{3} {\\otimes} \\mathbb{R}^{3}\\right)\\right)\\right] \\Rightarrow  \\\\ \\left(\\left(\\sum_{i=2}^{4} \\left(x {\\otimes} y\\right)\\right) \\in \\left(\\mathbb{R}^{3} {\\otimes} \\mathbb{R}^{3}\\right)\\right) \\end{array} \\end{array}\n"
     ]
    }
   ],
   "source": [
    "# Show the LaTeX representation of the expression for convenience if you need it.\n",
    "print(stored_expr.latex())"
   ]
  },
  {
   "cell_type": "code",
   "execution_count": 5,
   "metadata": {},
   "outputs": [
    {
     "data": {
      "text/html": [
       "<table>\n",
       "<tr><th>name</th><th>description</th><th>default</th><th>current value</th><th>related methods</th></tr><tr><td>operation</td><td>'infix' or 'function' style formatting</td><td>infix</td><td>infix</td><td></td></tr>\n",
       "<tr><td>wrap_positions</td><td>position(s) at which wrapping is to occur; '2 n - 1' is after the nth operand, '2 n' is after the nth operation.</td><td>()</td><td>(2)</td><td>('with_wrapping_at', 'with_wrap_before_operator', 'with_wrap_after_operator', 'without_wrapping', 'wrap_positions')</td></tr>\n",
       "<tr><td>justification</td><td>if any wrap positions are set, justify to the 'left', 'center', or 'right'</td><td>center</td><td>center</td><td>('with_justification',)</td></tr>\n",
       "<tr><td>direction</td><td>Direction of the relation (normal or reversed)</td><td>normal</td><td>normal</td><td>('with_direction_reversed', 'is_reversed')</td></tr>\n",
       "</table>\n"
      ],
      "text/plain": [
       "style name: operation\n",
       "description: 'infix' or 'function' style formatting\n",
       "default: infix\n",
       "current value: infix\n",
       "related methods: ()\n",
       "style name: wrap_positions\n",
       "description: position(s) at which wrapping is to occur; '2 n - 1' is after the nth operand, '2 n' is after the nth operation.\n",
       "default: ()\n",
       "current value: (2)\n",
       "related methods: ('with_wrapping_at', 'with_wrap_before_operator', 'with_wrap_after_operator', 'without_wrapping', 'wrap_positions')\n",
       "style name: justification\n",
       "description: if any wrap positions are set, justify to the 'left', 'center', or 'right'\n",
       "default: center\n",
       "current value: center\n",
       "related methods: ('with_justification',)\n",
       "style name: direction\n",
       "description: Direction of the relation (normal or reversed)\n",
       "default: normal\n",
       "current value: normal\n",
       "related methods: ('with_direction_reversed', 'is_reversed')"
      ]
     },
     "metadata": {},
     "output_type": "display_data"
    }
   ],
   "source": [
    "stored_expr.style_options()"
   ]
  },
  {
   "cell_type": "code",
   "execution_count": 6,
   "metadata": {},
   "outputs": [
    {
     "data": {
      "text/html": [
       "<table><tr><th>&nbsp;</th><th>core type</th><th>sub-expressions</th><th>expression</th></tr>\n",
       "<tr><td>0</td><td>Operation</td><td>operator:&nbsp;1<br>operands:&nbsp;2<br></td><td><a class=\"ProveItLink\" href=\"expr.ipynb\"><img src=\"expr.png\" style=\"display:inline;vertical-align:middle;\" /></a></td></tr>\n",
       "<tr><td>1</td><td>Literal</td><td></td><td><a class=\"ProveItLink\" href=\"../../../../../logic/booleans/implication/__pv_it/common/02bdb382575728da8cdbaed545b9096ea7a1bd5b0/expr.ipynb\"><img src=\"../../../../../logic/booleans/implication/__pv_it/common/02bdb382575728da8cdbaed545b9096ea7a1bd5b0/expr.png\" style=\"display:inline;vertical-align:middle;\" /></a></td></tr>\n",
       "<tr><td>2</td><td>ExprTuple</td><td>3, 4</td><td><a class=\"ProveItLink\" href=\"../8835fac087a2a1373c02cd61afe26a9801740d6e0/expr.ipynb\"><img src=\"../8835fac087a2a1373c02cd61afe26a9801740d6e0/expr.png\" style=\"display:inline;vertical-align:middle;\" /></a></td></tr>\n",
       "<tr><td>3</td><td>Operation</td><td>operator:&nbsp;5<br>operand:&nbsp;8<br></td><td><a class=\"ProveItLink\" href=\"../673e8046c31fb1318aa1167183b9cb73892e17de0/expr.ipynb\"><img src=\"../673e8046c31fb1318aa1167183b9cb73892e17de0/expr.png\" style=\"display:inline;vertical-align:middle;\" /></a></td></tr>\n",
       "<tr><td>4</td><td>Operation</td><td>operator:&nbsp;24<br>operands:&nbsp;7<br></td><td><a class=\"ProveItLink\" href=\"../42844b72d35a49b77494dd902907af7b3311936d0/expr.ipynb\"><img src=\"../42844b72d35a49b77494dd902907af7b3311936d0/expr.png\" style=\"display:inline;vertical-align:middle;\" /></a></td></tr>\n",
       "<tr><td>5</td><td>Literal</td><td></td><td><a class=\"ProveItLink\" href=\"../../../../../logic/booleans/quantification/universality/__pv_it/common/083d2baa0b8ecab1d230f9ec29a15aa1355809fb0/expr.ipynb\"><img src=\"../../../../../logic/booleans/quantification/universality/__pv_it/common/083d2baa0b8ecab1d230f9ec29a15aa1355809fb0/expr.png\" style=\"display:inline;vertical-align:middle;\" /></a></td></tr>\n",
       "<tr><td>6</td><td>ExprTuple</td><td>8</td><td><a class=\"ProveItLink\" href=\"../7ed44d3909045644a60c9c3557aa20168eaf0a610/expr.ipynb\"><img src=\"../7ed44d3909045644a60c9c3557aa20168eaf0a610/expr.png\" style=\"display:inline;vertical-align:middle;\" /></a></td></tr>\n",
       "<tr><td>7</td><td>ExprTuple</td><td>9, 18</td><td><a class=\"ProveItLink\" href=\"../d3a3ed770115eebd56396b9e77a3ee0ba325b7300/expr.ipynb\"><img src=\"../d3a3ed770115eebd56396b9e77a3ee0ba325b7300/expr.png\" style=\"display:inline;vertical-align:middle;\" /></a></td></tr>\n",
       "<tr><td>8</td><td>Lambda</td><td>parameter:&nbsp;29<br>body:&nbsp;10<br></td><td><a class=\"ProveItLink\" href=\"../1e3baf595cec9b923e97f84ef1c2b501eff4b4de0/expr.ipynb\"><img src=\"../1e3baf595cec9b923e97f84ef1c2b501eff4b4de0/expr.png\" style=\"display:inline;vertical-align:middle;\" /></a></td></tr>\n",
       "<tr><td>9</td><td>Operation</td><td>operator:&nbsp;11<br>operand:&nbsp;14<br></td><td><a class=\"ProveItLink\" href=\"../85f1143851fcf8be4faf839b87499b6e8a7e0a670/expr.ipynb\"><img src=\"../85f1143851fcf8be4faf839b87499b6e8a7e0a670/expr.png\" style=\"display:inline;vertical-align:middle;\" /></a></td></tr>\n",
       "<tr><td>10</td><td>Conditional</td><td>value:&nbsp;13<br>condition:&nbsp;20<br></td><td><a class=\"ProveItLink\" href=\"../c7c4bad4f0211598da07e96caedf0785db95546a0/expr.ipynb\"><img src=\"../c7c4bad4f0211598da07e96caedf0785db95546a0/expr.png\" style=\"display:inline;vertical-align:middle;\" /></a></td></tr>\n",
       "<tr><td>11</td><td>Literal</td><td></td><td><a class=\"ProveItLink\" href=\"../../../../addition/__pv_it/common/62f73c830c62efb87627ede5678f282081cd0ce20/expr.ipynb\"><img src=\"../../../../addition/__pv_it/common/62f73c830c62efb87627ede5678f282081cd0ce20/expr.png\" style=\"display:inline;vertical-align:middle;\" /></a></td></tr>\n",
       "<tr><td>12</td><td>ExprTuple</td><td>14</td><td><a class=\"ProveItLink\" href=\"../b6d0b494291780e04550e0a4800a521bb96017a60/expr.ipynb\"><img src=\"../b6d0b494291780e04550e0a4800a521bb96017a60/expr.png\" style=\"display:inline;vertical-align:middle;\" /></a></td></tr>\n",
       "<tr><td>13</td><td>Operation</td><td>operator:&nbsp;24<br>operands:&nbsp;15<br></td><td><a class=\"ProveItLink\" href=\"../02a6c99cf352fff44df087c7632533f41427e5150/expr.ipynb\"><img src=\"../02a6c99cf352fff44df087c7632533f41427e5150/expr.png\" style=\"display:inline;vertical-align:middle;\" /></a></td></tr>\n",
       "<tr><td>14</td><td>Lambda</td><td>parameter:&nbsp;29<br>body:&nbsp;17<br></td><td><a class=\"ProveItLink\" href=\"../d739eeb2c4595bd19253ae572a3dc1d93cf7f1820/expr.ipynb\"><img src=\"../d739eeb2c4595bd19253ae572a3dc1d93cf7f1820/expr.png\" style=\"display:inline;vertical-align:middle;\" /></a></td></tr>\n",
       "<tr><td>15</td><td>ExprTuple</td><td>19, 18</td><td><a class=\"ProveItLink\" href=\"../f92df33cdf14e908c1e08bb8e620f598a23c53640/expr.ipynb\"><img src=\"../f92df33cdf14e908c1e08bb8e620f598a23c53640/expr.png\" style=\"display:inline;vertical-align:middle;\" /></a></td></tr>\n",
       "<tr><td>16</td><td>ExprTuple</td><td>29</td><td><a class=\"ProveItLink\" href=\"../../../../../__pv_it/common/3b7d7ace2ced0a8261ea4d18d03aaf49e434d69d0/expr.ipynb\"><img src=\"../../../../../__pv_it/common/3b7d7ace2ced0a8261ea4d18d03aaf49e434d69d0/expr.png\" style=\"display:inline;vertical-align:middle;\" /></a></td></tr>\n",
       "<tr><td>17</td><td>Conditional</td><td>value:&nbsp;19<br>condition:&nbsp;20<br></td><td><a class=\"ProveItLink\" href=\"../67bb9f463b2783a1f8a22f1ae10e85fcf7a4ddcc0/expr.ipynb\"><img src=\"../67bb9f463b2783a1f8a22f1ae10e85fcf7a4ddcc0/expr.png\" style=\"display:inline;vertical-align:middle;\" /></a></td></tr>\n",
       "<tr><td>18</td><td>Operation</td><td>operator:&nbsp;22<br>operands:&nbsp;21<br></td><td><a class=\"ProveItLink\" href=\"../7f1894dcc4441cda3d4a0c159b7c0936c4619c9a0/expr.ipynb\"><img src=\"../7f1894dcc4441cda3d4a0c159b7c0936c4619c9a0/expr.png\" style=\"display:inline;vertical-align:middle;\" /></a></td></tr>\n",
       "<tr><td>19</td><td>Operation</td><td>operator:&nbsp;22<br>operands:&nbsp;23<br></td><td><a class=\"ProveItLink\" href=\"../ffc5987ff2367c75c570016997d286dc9b72582b0/expr.ipynb\"><img src=\"../ffc5987ff2367c75c570016997d286dc9b72582b0/expr.png\" style=\"display:inline;vertical-align:middle;\" /></a></td></tr>\n",
       "<tr><td>20</td><td>Operation</td><td>operator:&nbsp;24<br>operands:&nbsp;25<br></td><td><a class=\"ProveItLink\" href=\"../1dcee5d42a9a39499a39768abf9beb5a120321210/expr.ipynb\"><img src=\"../1dcee5d42a9a39499a39768abf9beb5a120321210/expr.png\" style=\"display:inline;vertical-align:middle;\" /></a></td></tr>\n",
       "<tr><td>21</td><td>ExprTuple</td><td>26, 26</td><td><a class=\"ProveItLink\" href=\"../9fee536ba5afe598338bcfd5648428e5c5fea6440/expr.ipynb\"><img src=\"../9fee536ba5afe598338bcfd5648428e5c5fea6440/expr.png\" style=\"display:inline;vertical-align:middle;\" /></a></td></tr>\n",
       "<tr><td>22</td><td>Literal</td><td></td><td><a class=\"ProveItLink\" href=\"../../common/7fa25b05174babb4710be62d63ebd43f68aa2fec0/expr.ipynb\"><img src=\"../../common/7fa25b05174babb4710be62d63ebd43f68aa2fec0/expr.png\" style=\"display:inline;vertical-align:middle;\" /></a></td></tr>\n",
       "<tr><td>23</td><td>ExprTuple</td><td>27, 28</td><td><a class=\"ProveItLink\" href=\"../../../../../__pv_it/common/70b6dfe187a2382408546cc714e0c3bc5c3a48c90/expr.ipynb\"><img src=\"../../../../../__pv_it/common/70b6dfe187a2382408546cc714e0c3bc5c3a48c90/expr.png\" style=\"display:inline;vertical-align:middle;\" /></a></td></tr>\n",
       "<tr><td>24</td><td>Literal</td><td></td><td><a class=\"ProveItLink\" href=\"../../../../../logic/sets/membership/__pv_it/common/477487d8796864d23d5810f83761435f25167f690/expr.ipynb\"><img src=\"../../../../../logic/sets/membership/__pv_it/common/477487d8796864d23d5810f83761435f25167f690/expr.png\" style=\"display:inline;vertical-align:middle;\" /></a></td></tr>\n",
       "<tr><td>25</td><td>ExprTuple</td><td>29, 30</td><td><a class=\"ProveItLink\" href=\"../28d2afb06ec85f8673a332040f8f84c54020e9590/expr.ipynb\"><img src=\"../28d2afb06ec85f8673a332040f8f84c54020e9590/expr.png\" style=\"display:inline;vertical-align:middle;\" /></a></td></tr>\n",
       "<tr><td>26</td><td>Operation</td><td>operator:&nbsp;31<br>operands:&nbsp;32<br></td><td><a class=\"ProveItLink\" href=\"../b09d232dc6c8bd1b305d141dd063505555f74fe50/expr.ipynb\"><img src=\"../b09d232dc6c8bd1b305d141dd063505555f74fe50/expr.png\" style=\"display:inline;vertical-align:middle;\" /></a></td></tr>\n",
       "<tr><td>27</td><td>Variable</td><td></td><td><a class=\"ProveItLink\" href=\"../../../../../__pv_it/common/a0d9d672aa5e272d907247690c152cc2c6daafb70/expr.ipynb\"><img src=\"../../../../../__pv_it/common/a0d9d672aa5e272d907247690c152cc2c6daafb70/expr.png\" style=\"display:inline;vertical-align:middle;\" /></a></td></tr>\n",
       "<tr><td>28</td><td>Variable</td><td></td><td><a class=\"ProveItLink\" href=\"../../../../../__pv_it/common/ff7dba4ef0bbe791ab573bf2d9c220a304399ac80/expr.ipynb\"><img src=\"../../../../../__pv_it/common/ff7dba4ef0bbe791ab573bf2d9c220a304399ac80/expr.png\" style=\"display:inline;vertical-align:middle;\" /></a></td></tr>\n",
       "<tr><td>29</td><td>Variable</td><td></td><td><a class=\"ProveItLink\" href=\"../../../../../__pv_it/common/ae955345c83abf786c3aff8681cd5465beae262d0/expr.ipynb\"><img src=\"../../../../../__pv_it/common/ae955345c83abf786c3aff8681cd5465beae262d0/expr.png\" style=\"display:inline;vertical-align:middle;\" /></a></td></tr>\n",
       "<tr><td>30</td><td>Operation</td><td>operator:&nbsp;33<br>operands:&nbsp;34<br></td><td><a class=\"ProveItLink\" href=\"../d52b7b54dc47ec2badf6859f9847ff1f1b35483a0/expr.ipynb\"><img src=\"../d52b7b54dc47ec2badf6859f9847ff1f1b35483a0/expr.png\" style=\"display:inline;vertical-align:middle;\" /></a></td></tr>\n",
       "<tr><td>31</td><td>Literal</td><td></td><td><a class=\"ProveItLink\" href=\"../../../../../logic/sets/cartesian_products/__pv_it/common/7d20d67ddfbd94ad12efc9670c0d16a295b8ec1a0/expr.ipynb\"><img src=\"../../../../../logic/sets/cartesian_products/__pv_it/common/7d20d67ddfbd94ad12efc9670c0d16a295b8ec1a0/expr.png\" style=\"display:inline;vertical-align:middle;\" /></a></td></tr>\n",
       "<tr><td>32</td><td>ExprTuple</td><td>35, 36</td><td><a class=\"ProveItLink\" href=\"../7153ff9c6d56816696f64f5d4ee2610a6f3959e70/expr.ipynb\"><img src=\"../7153ff9c6d56816696f64f5d4ee2610a6f3959e70/expr.png\" style=\"display:inline;vertical-align:middle;\" /></a></td></tr>\n",
       "<tr><td>33</td><td>Literal</td><td></td><td><a class=\"ProveItLink\" href=\"../../../../../numbers/number_sets/integers/__pv_it/common/92f3a0a77e3c3ea8e4a5c8674edadc54e4f57d550/expr.ipynb\"><img src=\"../../../../../numbers/number_sets/integers/__pv_it/common/92f3a0a77e3c3ea8e4a5c8674edadc54e4f57d550/expr.png\" style=\"display:inline;vertical-align:middle;\" /></a></td></tr>\n",
       "<tr><td>34</td><td>ExprTuple</td><td>37, 38</td><td><a class=\"ProveItLink\" href=\"../4dcdc5026f80b9604cf319714818529aceda286b0/expr.ipynb\"><img src=\"../4dcdc5026f80b9604cf319714818529aceda286b0/expr.png\" style=\"display:inline;vertical-align:middle;\" /></a></td></tr>\n",
       "<tr><td>35</td><td>Literal</td><td></td><td><a class=\"ProveItLink\" href=\"../../../../../numbers/number_sets/real_numbers/__pv_it/common/93cac87a1a47e613f7a83b23ef7891599a1a4cca0/expr.ipynb\"><img src=\"../../../../../numbers/number_sets/real_numbers/__pv_it/common/93cac87a1a47e613f7a83b23ef7891599a1a4cca0/expr.png\" style=\"display:inline;vertical-align:middle;\" /></a></td></tr>\n",
       "<tr><td>36</td><td>Literal</td><td></td><td><a class=\"ProveItLink\" href=\"../../../../../numbers/numerals/__pv_it/common/1943b60945420e340d305780feff5c1aff2740ff0/expr.ipynb\"><img src=\"../../../../../numbers/numerals/__pv_it/common/1943b60945420e340d305780feff5c1aff2740ff0/expr.png\" style=\"display:inline;vertical-align:middle;\" /></a></td></tr>\n",
       "<tr><td>37</td><td>Literal</td><td></td><td><a class=\"ProveItLink\" href=\"../../../../../numbers/numerals/__pv_it/common/af4aab8a07465db063742696e006d04670f30cf10/expr.ipynb\"><img src=\"../../../../../numbers/numerals/__pv_it/common/af4aab8a07465db063742696e006d04670f30cf10/expr.png\" style=\"display:inline;vertical-align:middle;\" /></a></td></tr>\n",
       "<tr><td>38</td><td>Literal</td><td></td><td><a class=\"ProveItLink\" href=\"../../../../../numbers/numerals/__pv_it/common/48a1d915c1e9490b9a94e5c77a208938d3ee20ce0/expr.ipynb\"><img src=\"../../../../../numbers/numerals/__pv_it/common/48a1d915c1e9490b9a94e5c77a208938d3ee20ce0/expr.png\" style=\"display:inline;vertical-align:middle;\" /></a></td></tr>\n",
       "</table>\n"
      ],
      "text/plain": [
       "0. [forall_{i in {2 .. 4}} ((x otimes y) in (Real^{3} otimes Real^{3}))] =>  \\\\ ((Sum_{i=2}^{4} (x otimes y)) in (Real^{3} otimes Real^{3}))\n",
       "   core type: Operation\n",
       "   operator: 1\n",
       "   operands: 2\n",
       "1. =>\n",
       "   core type: Literal\n",
       "   sub-expressions: \n",
       "2. (forall_{i in {2 .. 4}} ((x otimes y) in (Real^{3} otimes Real^{3})), (Sum_{i=2}^{4} (x otimes y)) in (Real^{3} otimes Real^{3}))\n",
       "   core type: ExprTuple\n",
       "   sub-expressions: 3, 4\n",
       "3. forall_{i in {2 .. 4}} ((x otimes y) in (Real^{3} otimes Real^{3}))\n",
       "   core type: Operation\n",
       "   operator: 5\n",
       "   operand: 8\n",
       "4. (Sum_{i=2}^{4} (x otimes y)) in (Real^{3} otimes Real^{3})\n",
       "   core type: Operation\n",
       "   operator: 24\n",
       "   operands: 7\n",
       "5. forall\n",
       "   core type: Literal\n",
       "   sub-expressions: \n",
       "6. (i -> {(x otimes y) in (Real^{3} otimes Real^{3}) if i in {2 .. 4}.)\n",
       "   core type: ExprTuple\n",
       "   sub-expressions: 8\n",
       "7. (Sum_{i=2}^{4} (x otimes y), Real^{3} otimes Real^{3})\n",
       "   core type: ExprTuple\n",
       "   sub-expressions: 9, 18\n",
       "8. i -> {(x otimes y) in (Real^{3} otimes Real^{3}) if i in {2 .. 4}.\n",
       "   core type: Lambda\n",
       "   parameter: 29\n",
       "   body: 10\n",
       "9. Sum_{i=2}^{4} (x otimes y)\n",
       "   core type: Operation\n",
       "   operator: 11\n",
       "   operand: 14\n",
       "10. {(x otimes y) in (Real^{3} otimes Real^{3}) if i in {2 .. 4}.\n",
       "    core type: Conditional\n",
       "    value: 13\n",
       "    condition: 20\n",
       "11. Sum\n",
       "    core type: Literal\n",
       "    sub-expressions: \n",
       "12. (i -> {x otimes y if i in {2 .. 4}.)\n",
       "    core type: ExprTuple\n",
       "    sub-expressions: 14\n",
       "13. (x otimes y) in (Real^{3} otimes Real^{3})\n",
       "    core type: Operation\n",
       "    operator: 24\n",
       "    operands: 15\n",
       "14. i -> {x otimes y if i in {2 .. 4}.\n",
       "    core type: Lambda\n",
       "    parameter: 29\n",
       "    body: 17\n",
       "15. (x otimes y, Real^{3} otimes Real^{3})\n",
       "    core type: ExprTuple\n",
       "    sub-expressions: 19, 18\n",
       "16. (i)\n",
       "    core type: ExprTuple\n",
       "    sub-expressions: 29\n",
       "17. {x otimes y if i in {2 .. 4}.\n",
       "    core type: Conditional\n",
       "    value: 19\n",
       "    condition: 20\n",
       "18. Real^{3} otimes Real^{3}\n",
       "    core type: Operation\n",
       "    operator: 22\n",
       "    operands: 21\n",
       "19. x otimes y\n",
       "    core type: Operation\n",
       "    operator: 22\n",
       "    operands: 23\n",
       "20. i in {2 .. 4}\n",
       "    core type: Operation\n",
       "    operator: 24\n",
       "    operands: 25\n",
       "21. (Real^{3}, Real^{3})\n",
       "    core type: ExprTuple\n",
       "    sub-expressions: 26, 26\n",
       "22. otimes\n",
       "    core type: Literal\n",
       "    sub-expressions: \n",
       "23. (x, y)\n",
       "    core type: ExprTuple\n",
       "    sub-expressions: 27, 28\n",
       "24. in\n",
       "    core type: Literal\n",
       "    sub-expressions: \n",
       "25. (i, {2 .. 4})\n",
       "    core type: ExprTuple\n",
       "    sub-expressions: 29, 30\n",
       "26. Real^{3}\n",
       "    core type: Operation\n",
       "    operator: 31\n",
       "    operands: 32\n",
       "27. x\n",
       "    core type: Variable\n",
       "    sub-expressions: \n",
       "28. y\n",
       "    core type: Variable\n",
       "    sub-expressions: \n",
       "29. i\n",
       "    core type: Variable\n",
       "    sub-expressions: \n",
       "30. {2 .. 4}\n",
       "    core type: Operation\n",
       "    operator: 33\n",
       "    operands: 34\n",
       "31. CartExp\n",
       "    core type: Literal\n",
       "    sub-expressions: \n",
       "32. (Real, 3)\n",
       "    core type: ExprTuple\n",
       "    sub-expressions: 35, 36\n",
       "33. Interval\n",
       "    core type: Literal\n",
       "    sub-expressions: \n",
       "34. (2, 4)\n",
       "    core type: ExprTuple\n",
       "    sub-expressions: 37, 38\n",
       "35. Real\n",
       "    core type: Literal\n",
       "    sub-expressions: \n",
       "36. 3\n",
       "    core type: Literal\n",
       "    sub-expressions: \n",
       "37. 2\n",
       "    core type: Literal\n",
       "    sub-expressions: \n",
       "38. 4\n",
       "    core type: Literal\n",
       "    sub-expressions: "
      ]
     },
     "metadata": {},
     "output_type": "display_data"
    }
   ],
   "source": [
    "# display the expression information\n",
    "stored_expr.expr_info()"
   ]
  },
  {
   "cell_type": "code",
   "execution_count": null,
   "metadata": {},
   "outputs": [],
   "source": []
  }
 ],
 "metadata": {
  "kernelspec": {
   "display_name": "Python 3",
   "language": "python",
   "name": "python3"
  }
 },
 "nbformat": 4,
 "nbformat_minor": 0
}