{
 "cells": [
  {
   "cell_type": "markdown",
   "metadata": {},
   "source": [
    "Expression of type <a class=\"ProveItLink\" href=\"../../../../../../../doc/html/api/proveit.ExprTuple.html\">ExprTuple</a>\n",
    "=======================\n",
    "# from the theory of <a class=\"ProveItLink\" href=\"../../../_theory_nbs_/theory.ipynb\">proveit.linear_algebra.tensors</a>"
   ]
  },
  {
   "cell_type": "code",
   "execution_count": 1,
   "metadata": {},
   "outputs": [],
   "source": [
    "import proveit\n",
    "# Automation is not needed when building an expression:\n",
    "proveit.defaults.automation = False # This will speed things up.\n",
    "proveit.defaults.inline_pngs = False # Makes files smaller.\n",
    "%load_expr # Load the stored expression as 'stored_expr'\n",
    "# import Expression classes needed to build the expression\n",
    "from proveit import ExprTuple, a, u, v, w, x, y, z\n",
    "from proveit.linear_algebra import ScalarMult, TensorProd, VecAdd\n",
    "from proveit.logic import CartExp, Equals, InSet\n",
    "from proveit.numbers import Real, three"
   ]
  },
  {
   "cell_type": "code",
   "execution_count": 2,
   "metadata": {},
   "outputs": [
    {
     "data": {
      "text/html": [
       "<strong id=\"expr\">expr:</strong> <a class=\"ProveItLink\" href=\"expr.ipynb\"><img src=\"expr.png\" style=\"display:inline;vertical-align:middle;\" /></a><br>"
      ],
      "text/plain": [
       "<IPython.core.display.HTML object>"
      ]
     },
     "metadata": {},
     "output_type": "display_data"
    }
   ],
   "source": [
    "# build up the expression from sub-expressions\n",
    "sub_expr1 = ScalarMult(a, v)\n",
    "sub_expr2 = CartExp(Real, three)\n",
    "sub_expr3 = TensorProd(u, sub_expr1, VecAdd(w, x, y), z)\n",
    "expr = ExprTuple(InSet(sub_expr3, TensorProd(sub_expr2, sub_expr2, sub_expr2, sub_expr2)), Equals(sub_expr3, VecAdd(TensorProd(u, sub_expr1, w, z), TensorProd(u, sub_expr1, x, z), TensorProd(u, sub_expr1, y, z))).with_wrapping_at(2))"
   ]
  },
  {
   "cell_type": "code",
   "execution_count": 3,
   "metadata": {},
   "outputs": [
    {
     "name": "stdout",
     "output_type": "stream",
     "text": [
      "Passed sanity check: expr matches stored_expr\n"
     ]
    }
   ],
   "source": [
    "# check that the built expression is the same as the stored expression\n",
    "assert expr == stored_expr\n",
    "assert expr._style_id == stored_expr._style_id\n",
    "print(\"Passed sanity check: expr matches stored_expr\")"
   ]
  },
  {
   "cell_type": "code",
   "execution_count": 4,
   "metadata": {},
   "outputs": [
    {
     "name": "stdout",
     "output_type": "stream",
     "text": [
      "\\left(\\left(u {\\otimes} \\left(a \\cdot v\\right) {\\otimes} \\left(w + x + y\\right) {\\otimes} z\\right) \\in \\left(\\mathbb{R}^{3} {\\otimes} \\mathbb{R}^{3} {\\otimes} \\mathbb{R}^{3} {\\otimes} \\mathbb{R}^{3}\\right), \\begin{array}{c} \\begin{array}{l} \\left(u {\\otimes} \\left(a \\cdot v\\right) {\\otimes} \\left(w + x + y\\right) {\\otimes} z\\right) =  \\\\ \\left(\\left(u {\\otimes} \\left(a \\cdot v\\right) {\\otimes} w {\\otimes} z\\right) + \\left(u {\\otimes} \\left(a \\cdot v\\right) {\\otimes} x {\\otimes} z\\right) + \\left(u {\\otimes} \\left(a \\cdot v\\right) {\\otimes} y {\\otimes} z\\right)\\right) \\end{array} \\end{array}\\right)\n"
     ]
    }
   ],
   "source": [
    "# Show the LaTeX representation of the expression for convenience if you need it.\n",
    "print(stored_expr.latex())"
   ]
  },
  {
   "cell_type": "code",
   "execution_count": 5,
   "metadata": {},
   "outputs": [
    {
     "data": {
      "text/html": [
       "<table>\n",
       "<tr><th>name</th><th>description</th><th>default</th><th>current value</th><th>related methods</th></tr><tr><td>wrap_positions</td><td>position(s) at which wrapping is to occur; 'n' is after the nth comma.</td><td>()</td><td>()</td><td>('with_wrapping_at',)</td></tr>\n",
       "<tr><td>justification</td><td>if any wrap positions are set, justify to the 'left', 'center', or 'right'</td><td>left</td><td>left</td><td>('with_justification',)</td></tr>\n",
       "</table>\n"
      ],
      "text/plain": [
       "style name: wrap_positions\n",
       "description: position(s) at which wrapping is to occur; 'n' is after the nth comma.\n",
       "default: ()\n",
       "current value: ()\n",
       "related methods: ('with_wrapping_at',)\n",
       "style name: justification\n",
       "description: if any wrap positions are set, justify to the 'left', 'center', or 'right'\n",
       "default: left\n",
       "current value: left\n",
       "related methods: ('with_justification',)"
      ]
     },
     "metadata": {},
     "output_type": "display_data"
    }
   ],
   "source": [
    "stored_expr.style_options()"
   ]
  },
  {
   "cell_type": "code",
   "execution_count": 6,
   "metadata": {},
   "outputs": [
    {
     "data": {
      "text/html": [
       "<table><tr><th>&nbsp;</th><th>core type</th><th>sub-expressions</th><th>expression</th></tr>\n",
       "<tr><td>0</td><td>ExprTuple</td><td>1, 2</td><td><a class=\"ProveItLink\" href=\"expr.ipynb\"><img src=\"expr.png\" style=\"display:inline;vertical-align:middle;\" /></a></td></tr>\n",
       "<tr><td>1</td><td>Operation</td><td>operator:&nbsp;3<br>operands:&nbsp;4<br></td><td><a class=\"ProveItLink\" href=\"../9da61b90b9a166a784fbd93100a634bcb76f00ff0/expr.ipynb\"><img src=\"../9da61b90b9a166a784fbd93100a634bcb76f00ff0/expr.png\" style=\"display:inline;vertical-align:middle;\" /></a></td></tr>\n",
       "<tr><td>2</td><td>Operation</td><td>operator:&nbsp;5<br>operands:&nbsp;6<br></td><td><a class=\"ProveItLink\" href=\"../546f9e83f3c5ca3e0c4830ada383f47f0ecd8c1c0/expr.ipynb\"><img src=\"../546f9e83f3c5ca3e0c4830ada383f47f0ecd8c1c0/expr.png\" style=\"display:inline;vertical-align:middle;\" /></a></td></tr>\n",
       "<tr><td>3</td><td>Literal</td><td></td><td><a class=\"ProveItLink\" href=\"../../../../../logic/sets/membership/__pv_it/common/477487d8796864d23d5810f83761435f25167f690/expr.ipynb\"><img src=\"../../../../../logic/sets/membership/__pv_it/common/477487d8796864d23d5810f83761435f25167f690/expr.png\" style=\"display:inline;vertical-align:middle;\" /></a></td></tr>\n",
       "<tr><td>4</td><td>ExprTuple</td><td>8, 7</td><td><a class=\"ProveItLink\" href=\"../a9066a1dbe1bcb04900f7add53bf38c1db679ad60/expr.ipynb\"><img src=\"../a9066a1dbe1bcb04900f7add53bf38c1db679ad60/expr.png\" style=\"display:inline;vertical-align:middle;\" /></a></td></tr>\n",
       "<tr><td>5</td><td>Literal</td><td></td><td><a class=\"ProveItLink\" href=\"../../../../../logic/equality/__pv_it/common/fb96dc12b2aa8801dda64d0132b396c63d1502bb0/expr.ipynb\"><img src=\"../../../../../logic/equality/__pv_it/common/fb96dc12b2aa8801dda64d0132b396c63d1502bb0/expr.png\" style=\"display:inline;vertical-align:middle;\" /></a></td></tr>\n",
       "<tr><td>6</td><td>ExprTuple</td><td>8, 9</td><td><a class=\"ProveItLink\" href=\"../3b1549488beb7b868c2e6e6b020ff9a2d09867f70/expr.ipynb\"><img src=\"../3b1549488beb7b868c2e6e6b020ff9a2d09867f70/expr.png\" style=\"display:inline;vertical-align:middle;\" /></a></td></tr>\n",
       "<tr><td>7</td><td>Operation</td><td>operator:&nbsp;24<br>operands:&nbsp;10<br></td><td><a class=\"ProveItLink\" href=\"../ed664062d6dec929f65db4cf4f81fb01756d522c0/expr.ipynb\"><img src=\"../ed664062d6dec929f65db4cf4f81fb01756d522c0/expr.png\" style=\"display:inline;vertical-align:middle;\" /></a></td></tr>\n",
       "<tr><td>8</td><td>Operation</td><td>operator:&nbsp;24<br>operands:&nbsp;11<br></td><td><a class=\"ProveItLink\" href=\"../98cd2557d3cd06b8967c34a24a6ca530bec2e6ab0/expr.ipynb\"><img src=\"../98cd2557d3cd06b8967c34a24a6ca530bec2e6ab0/expr.png\" style=\"display:inline;vertical-align:middle;\" /></a></td></tr>\n",
       "<tr><td>9</td><td>Operation</td><td>operator:&nbsp;20<br>operands:&nbsp;12<br></td><td><a class=\"ProveItLink\" href=\"../30d0139632c5dd95e58114f9297a03db8aaf18ea0/expr.ipynb\"><img src=\"../30d0139632c5dd95e58114f9297a03db8aaf18ea0/expr.png\" style=\"display:inline;vertical-align:middle;\" /></a></td></tr>\n",
       "<tr><td>10</td><td>ExprTuple</td><td>13, 13, 13, 13</td><td><a class=\"ProveItLink\" href=\"../bba2682aa5fb1a935ef1de1146871fbf9f83724b0/expr.ipynb\"><img src=\"../bba2682aa5fb1a935ef1de1146871fbf9f83724b0/expr.png\" style=\"display:inline;vertical-align:middle;\" /></a></td></tr>\n",
       "<tr><td>11</td><td>ExprTuple</td><td>30, 31, 14, 33</td><td><a class=\"ProveItLink\" href=\"../fe969ba96100b3bad71ddf7d3eb7061087653be10/expr.ipynb\"><img src=\"../fe969ba96100b3bad71ddf7d3eb7061087653be10/expr.png\" style=\"display:inline;vertical-align:middle;\" /></a></td></tr>\n",
       "<tr><td>12</td><td>ExprTuple</td><td>15, 16, 17</td><td><a class=\"ProveItLink\" href=\"../fe8144c2bbb5f480ab8d895e3994811d3445f7550/expr.ipynb\"><img src=\"../fe8144c2bbb5f480ab8d895e3994811d3445f7550/expr.png\" style=\"display:inline;vertical-align:middle;\" /></a></td></tr>\n",
       "<tr><td>13</td><td>Operation</td><td>operator:&nbsp;18<br>operands:&nbsp;19<br></td><td><a class=\"ProveItLink\" href=\"../b09d232dc6c8bd1b305d141dd063505555f74fe50/expr.ipynb\"><img src=\"../b09d232dc6c8bd1b305d141dd063505555f74fe50/expr.png\" style=\"display:inline;vertical-align:middle;\" /></a></td></tr>\n",
       "<tr><td>14</td><td>Operation</td><td>operator:&nbsp;20<br>operands:&nbsp;21<br></td><td><a class=\"ProveItLink\" href=\"../2c384c710bc868227b0b9a41ec888cb9e0eef6cc0/expr.ipynb\"><img src=\"../2c384c710bc868227b0b9a41ec888cb9e0eef6cc0/expr.png\" style=\"display:inline;vertical-align:middle;\" /></a></td></tr>\n",
       "<tr><td>15</td><td>Operation</td><td>operator:&nbsp;24<br>operands:&nbsp;22<br></td><td><a class=\"ProveItLink\" href=\"../9eb1228687228c0e656cd7eb6f8063b5871299fe0/expr.ipynb\"><img src=\"../9eb1228687228c0e656cd7eb6f8063b5871299fe0/expr.png\" style=\"display:inline;vertical-align:middle;\" /></a></td></tr>\n",
       "<tr><td>16</td><td>Operation</td><td>operator:&nbsp;24<br>operands:&nbsp;23<br></td><td><a class=\"ProveItLink\" href=\"../1b10e4958f7df7731aaf5f7a0988fa99083943130/expr.ipynb\"><img src=\"../1b10e4958f7df7731aaf5f7a0988fa99083943130/expr.png\" style=\"display:inline;vertical-align:middle;\" /></a></td></tr>\n",
       "<tr><td>17</td><td>Operation</td><td>operator:&nbsp;24<br>operands:&nbsp;25<br></td><td><a class=\"ProveItLink\" href=\"../e81b50404a930445ccd435c599e14c80ad4383790/expr.ipynb\"><img src=\"../e81b50404a930445ccd435c599e14c80ad4383790/expr.png\" style=\"display:inline;vertical-align:middle;\" /></a></td></tr>\n",
       "<tr><td>18</td><td>Literal</td><td></td><td><a class=\"ProveItLink\" href=\"../../../../../logic/sets/cartesian_products/__pv_it/common/7d20d67ddfbd94ad12efc9670c0d16a295b8ec1a0/expr.ipynb\"><img src=\"../../../../../logic/sets/cartesian_products/__pv_it/common/7d20d67ddfbd94ad12efc9670c0d16a295b8ec1a0/expr.png\" style=\"display:inline;vertical-align:middle;\" /></a></td></tr>\n",
       "<tr><td>19</td><td>ExprTuple</td><td>26, 27</td><td><a class=\"ProveItLink\" href=\"../7153ff9c6d56816696f64f5d4ee2610a6f3959e70/expr.ipynb\"><img src=\"../7153ff9c6d56816696f64f5d4ee2610a6f3959e70/expr.png\" style=\"display:inline;vertical-align:middle;\" /></a></td></tr>\n",
       "<tr><td>20</td><td>Literal</td><td></td><td><a class=\"ProveItLink\" href=\"../../../../addition/__pv_it/common/ac3c140c9094f065c7f7db15c94558731443639c0/expr.ipynb\"><img src=\"../../../../addition/__pv_it/common/ac3c140c9094f065c7f7db15c94558731443639c0/expr.png\" style=\"display:inline;vertical-align:middle;\" /></a></td></tr>\n",
       "<tr><td>21</td><td>ExprTuple</td><td>28, 29, 32</td><td><a class=\"ProveItLink\" href=\"../2a9828868026360fa82070235a6cf8aef0f2d0f40/expr.ipynb\"><img src=\"../2a9828868026360fa82070235a6cf8aef0f2d0f40/expr.png\" style=\"display:inline;vertical-align:middle;\" /></a></td></tr>\n",
       "<tr><td>22</td><td>ExprTuple</td><td>30, 31, 28, 33</td><td><a class=\"ProveItLink\" href=\"../33732aa6e96de73a3b27abc21b03bc8cb69ad74f0/expr.ipynb\"><img src=\"../33732aa6e96de73a3b27abc21b03bc8cb69ad74f0/expr.png\" style=\"display:inline;vertical-align:middle;\" /></a></td></tr>\n",
       "<tr><td>23</td><td>ExprTuple</td><td>30, 31, 29, 33</td><td><a class=\"ProveItLink\" href=\"../f67998017669a538752f97007a8076b1cb743e940/expr.ipynb\"><img src=\"../f67998017669a538752f97007a8076b1cb743e940/expr.png\" style=\"display:inline;vertical-align:middle;\" /></a></td></tr>\n",
       "<tr><td>24</td><td>Literal</td><td></td><td><a class=\"ProveItLink\" href=\"../../common/7fa25b05174babb4710be62d63ebd43f68aa2fec0/expr.ipynb\"><img src=\"../../common/7fa25b05174babb4710be62d63ebd43f68aa2fec0/expr.png\" style=\"display:inline;vertical-align:middle;\" /></a></td></tr>\n",
       "<tr><td>25</td><td>ExprTuple</td><td>30, 31, 32, 33</td><td><a class=\"ProveItLink\" href=\"../efe28a9e855bd2e7d7df6642f4db86ceb5bfcdce0/expr.ipynb\"><img src=\"../efe28a9e855bd2e7d7df6642f4db86ceb5bfcdce0/expr.png\" style=\"display:inline;vertical-align:middle;\" /></a></td></tr>\n",
       "<tr><td>26</td><td>Literal</td><td></td><td><a class=\"ProveItLink\" href=\"../../../../../numbers/number_sets/real_numbers/__pv_it/common/93cac87a1a47e613f7a83b23ef7891599a1a4cca0/expr.ipynb\"><img src=\"../../../../../numbers/number_sets/real_numbers/__pv_it/common/93cac87a1a47e613f7a83b23ef7891599a1a4cca0/expr.png\" style=\"display:inline;vertical-align:middle;\" /></a></td></tr>\n",
       "<tr><td>27</td><td>Literal</td><td></td><td><a class=\"ProveItLink\" href=\"../../../../../numbers/numerals/__pv_it/common/1943b60945420e340d305780feff5c1aff2740ff0/expr.ipynb\"><img src=\"../../../../../numbers/numerals/__pv_it/common/1943b60945420e340d305780feff5c1aff2740ff0/expr.png\" style=\"display:inline;vertical-align:middle;\" /></a></td></tr>\n",
       "<tr><td>28</td><td>Variable</td><td></td><td><a class=\"ProveItLink\" href=\"../../../../../__pv_it/common/d365663894822dede40e6e04c77860068334d0820/expr.ipynb\"><img src=\"../../../../../__pv_it/common/d365663894822dede40e6e04c77860068334d0820/expr.png\" style=\"display:inline;vertical-align:middle;\" /></a></td></tr>\n",
       "<tr><td>29</td><td>Variable</td><td></td><td><a class=\"ProveItLink\" href=\"../../../../../__pv_it/common/a0d9d672aa5e272d907247690c152cc2c6daafb70/expr.ipynb\"><img src=\"../../../../../__pv_it/common/a0d9d672aa5e272d907247690c152cc2c6daafb70/expr.png\" style=\"display:inline;vertical-align:middle;\" /></a></td></tr>\n",
       "<tr><td>30</td><td>Variable</td><td></td><td><a class=\"ProveItLink\" href=\"../../../../../__pv_it/common/0d656bb6691dcf7801631ede213504e1b012f3d50/expr.ipynb\"><img src=\"../../../../../__pv_it/common/0d656bb6691dcf7801631ede213504e1b012f3d50/expr.png\" style=\"display:inline;vertical-align:middle;\" /></a></td></tr>\n",
       "<tr><td>31</td><td>Operation</td><td>operator:&nbsp;34<br>operands:&nbsp;35<br></td><td><a class=\"ProveItLink\" href=\"../7c4600d7e0d0b27af3ef71e833c660d6702a6e8d0/expr.ipynb\"><img src=\"../7c4600d7e0d0b27af3ef71e833c660d6702a6e8d0/expr.png\" style=\"display:inline;vertical-align:middle;\" /></a></td></tr>\n",
       "<tr><td>32</td><td>Variable</td><td></td><td><a class=\"ProveItLink\" href=\"../../../../../__pv_it/common/ff7dba4ef0bbe791ab573bf2d9c220a304399ac80/expr.ipynb\"><img src=\"../../../../../__pv_it/common/ff7dba4ef0bbe791ab573bf2d9c220a304399ac80/expr.png\" style=\"display:inline;vertical-align:middle;\" /></a></td></tr>\n",
       "<tr><td>33</td><td>Variable</td><td></td><td><a class=\"ProveItLink\" href=\"../../../../../__pv_it/common/95a8f6b9b9f29b83f192ad7fd05708d6be097a3f0/expr.ipynb\"><img src=\"../../../../../__pv_it/common/95a8f6b9b9f29b83f192ad7fd05708d6be097a3f0/expr.png\" style=\"display:inline;vertical-align:middle;\" /></a></td></tr>\n",
       "<tr><td>34</td><td>Literal</td><td></td><td><a class=\"ProveItLink\" href=\"../../../../scalar_multiplication/__pv_it/common/1e364bd471e6a29fcd358dd2d9cd990a1e6fedd40/expr.ipynb\"><img src=\"../../../../scalar_multiplication/__pv_it/common/1e364bd471e6a29fcd358dd2d9cd990a1e6fedd40/expr.png\" style=\"display:inline;vertical-align:middle;\" /></a></td></tr>\n",
       "<tr><td>35</td><td>ExprTuple</td><td>36, 37</td><td><a class=\"ProveItLink\" href=\"../6b127128d62509ab6a16d85f162550bf3bc9b2600/expr.ipynb\"><img src=\"../6b127128d62509ab6a16d85f162550bf3bc9b2600/expr.png\" style=\"display:inline;vertical-align:middle;\" /></a></td></tr>\n",
       "<tr><td>36</td><td>Variable</td><td></td><td><a class=\"ProveItLink\" href=\"../../../../../__pv_it/common/c06c606ec12678c58933ac85412ecadc2ae28be60/expr.ipynb\"><img src=\"../../../../../__pv_it/common/c06c606ec12678c58933ac85412ecadc2ae28be60/expr.png\" style=\"display:inline;vertical-align:middle;\" /></a></td></tr>\n",
       "<tr><td>37</td><td>Variable</td><td></td><td><a class=\"ProveItLink\" href=\"../../../../../__pv_it/common/a4b9661da9b52dcebf59c5559fec8901f4df10750/expr.ipynb\"><img src=\"../../../../../__pv_it/common/a4b9661da9b52dcebf59c5559fec8901f4df10750/expr.png\" style=\"display:inline;vertical-align:middle;\" /></a></td></tr>\n",
       "</table>\n"
      ],
      "text/plain": [
       "0. ((u otimes (a * v) otimes (w + x + y) otimes z) in (Real^{3} otimes Real^{3} otimes Real^{3} otimes Real^{3}), (u otimes (a * v) otimes (w + x + y) otimes z) =  \\\\ ((u otimes (a * v) otimes w otimes z) + (u otimes (a * v) otimes x otimes z) + (u otimes (a * v) otimes y otimes z)))\n",
       "   core type: ExprTuple\n",
       "   sub-expressions: 1, 2\n",
       "1. (u otimes (a * v) otimes (w + x + y) otimes z) in (Real^{3} otimes Real^{3} otimes Real^{3} otimes Real^{3})\n",
       "   core type: Operation\n",
       "   operator: 3\n",
       "   operands: 4\n",
       "2. (u otimes (a * v) otimes (w + x + y) otimes z) =  \\\\ ((u otimes (a * v) otimes w otimes z) + (u otimes (a * v) otimes x otimes z) + (u otimes (a * v) otimes y otimes z))\n",
       "   core type: Operation\n",
       "   operator: 5\n",
       "   operands: 6\n",
       "3. in\n",
       "   core type: Literal\n",
       "   sub-expressions: \n",
       "4. (u otimes (a * v) otimes (w + x + y) otimes z, Real^{3} otimes Real^{3} otimes Real^{3} otimes Real^{3})\n",
       "   core type: ExprTuple\n",
       "   sub-expressions: 8, 7\n",
       "5. =\n",
       "   core type: Literal\n",
       "   sub-expressions: \n",
       "6. (u otimes (a * v) otimes (w + x + y) otimes z, (u otimes (a * v) otimes w otimes z) + (u otimes (a * v) otimes x otimes z) + (u otimes (a * v) otimes y otimes z))\n",
       "   core type: ExprTuple\n",
       "   sub-expressions: 8, 9\n",
       "7. Real^{3} otimes Real^{3} otimes Real^{3} otimes Real^{3}\n",
       "   core type: Operation\n",
       "   operator: 24\n",
       "   operands: 10\n",
       "8. u otimes (a * v) otimes (w + x + y) otimes z\n",
       "   core type: Operation\n",
       "   operator: 24\n",
       "   operands: 11\n",
       "9. (u otimes (a * v) otimes w otimes z) + (u otimes (a * v) otimes x otimes z) + (u otimes (a * v) otimes y otimes z)\n",
       "   core type: Operation\n",
       "   operator: 20\n",
       "   operands: 12\n",
       "10. (Real^{3}, Real^{3}, Real^{3}, Real^{3})\n",
       "    core type: ExprTuple\n",
       "    sub-expressions: 13, 13, 13, 13\n",
       "11. (u, a * v, w + x + y, z)\n",
       "    core type: ExprTuple\n",
       "    sub-expressions: 30, 31, 14, 33\n",
       "12. (u otimes (a * v) otimes w otimes z, u otimes (a * v) otimes x otimes z, u otimes (a * v) otimes y otimes z)\n",
       "    core type: ExprTuple\n",
       "    sub-expressions: 15, 16, 17\n",
       "13. Real^{3}\n",
       "    core type: Operation\n",
       "    operator: 18\n",
       "    operands: 19\n",
       "14. w + x + y\n",
       "    core type: Operation\n",
       "    operator: 20\n",
       "    operands: 21\n",
       "15. u otimes (a * v) otimes w otimes z\n",
       "    core type: Operation\n",
       "    operator: 24\n",
       "    operands: 22\n",
       "16. u otimes (a * v) otimes x otimes z\n",
       "    core type: Operation\n",
       "    operator: 24\n",
       "    operands: 23\n",
       "17. u otimes (a * v) otimes y otimes z\n",
       "    core type: Operation\n",
       "    operator: 24\n",
       "    operands: 25\n",
       "18. CartExp\n",
       "    core type: Literal\n",
       "    sub-expressions: \n",
       "19. (Real, 3)\n",
       "    core type: ExprTuple\n",
       "    sub-expressions: 26, 27\n",
       "20. +\n",
       "    core type: Literal\n",
       "    sub-expressions: \n",
       "21. (w, x, y)\n",
       "    core type: ExprTuple\n",
       "    sub-expressions: 28, 29, 32\n",
       "22. (u, a * v, w, z)\n",
       "    core type: ExprTuple\n",
       "    sub-expressions: 30, 31, 28, 33\n",
       "23. (u, a * v, x, z)\n",
       "    core type: ExprTuple\n",
       "    sub-expressions: 30, 31, 29, 33\n",
       "24. otimes\n",
       "    core type: Literal\n",
       "    sub-expressions: \n",
       "25. (u, a * v, y, z)\n",
       "    core type: ExprTuple\n",
       "    sub-expressions: 30, 31, 32, 33\n",
       "26. Real\n",
       "    core type: Literal\n",
       "    sub-expressions: \n",
       "27. 3\n",
       "    core type: Literal\n",
       "    sub-expressions: \n",
       "28. w\n",
       "    core type: Variable\n",
       "    sub-expressions: \n",
       "29. x\n",
       "    core type: Variable\n",
       "    sub-expressions: \n",
       "30. u\n",
       "    core type: Variable\n",
       "    sub-expressions: \n",
       "31. a * v\n",
       "    core type: Operation\n",
       "    operator: 34\n",
       "    operands: 35\n",
       "32. y\n",
       "    core type: Variable\n",
       "    sub-expressions: \n",
       "33. z\n",
       "    core type: Variable\n",
       "    sub-expressions: \n",
       "34. *\n",
       "    core type: Literal\n",
       "    sub-expressions: \n",
       "35. (a, v)\n",
       "    core type: ExprTuple\n",
       "    sub-expressions: 36, 37\n",
       "36. a\n",
       "    core type: Variable\n",
       "    sub-expressions: \n",
       "37. v\n",
       "    core type: Variable\n",
       "    sub-expressions: "
      ]
     },
     "metadata": {},
     "output_type": "display_data"
    }
   ],
   "source": [
    "# display the expression information\n",
    "stored_expr.expr_info()"
   ]
  },
  {
   "cell_type": "code",
   "execution_count": null,
   "metadata": {},
   "outputs": [],
   "source": []
  }
 ],
 "metadata": {
  "kernelspec": {
   "display_name": "Python 3",
   "language": "python",
   "name": "python3"
  }
 },
 "nbformat": 4,
 "nbformat_minor": 0
}