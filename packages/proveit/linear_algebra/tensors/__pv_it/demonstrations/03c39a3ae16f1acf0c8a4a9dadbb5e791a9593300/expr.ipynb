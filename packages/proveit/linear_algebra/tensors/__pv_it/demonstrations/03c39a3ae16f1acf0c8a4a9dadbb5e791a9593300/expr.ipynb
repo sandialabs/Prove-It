{
 "cells": [
  {
   "cell_type": "markdown",
   "metadata": {},
   "source": [
    "Expression of type <a class=\"ProveItLink\" href=\"../../../../../../../doc/html/api/proveit.logic.Implies.html\">Implies</a>\n",
    "=======================\n",
    "# from the theory of <a class=\"ProveItLink\" href=\"../../../_theory_nbs_/theory.ipynb\">proveit.linear_algebra.tensors</a>"
   ]
  },
  {
   "cell_type": "code",
   "execution_count": 1,
   "metadata": {},
   "outputs": [],
   "source": [
    "import proveit\n",
    "# Automation is not needed when building an expression:\n",
    "proveit.defaults.automation = False # This will speed things up.\n",
    "proveit.defaults.inline_pngs = False # Makes files smaller.\n",
    "%load_expr # Load the stored expression as 'stored_expr'\n",
    "# import Expression classes needed to build the expression\n",
    "from proveit import Conditional, Lambda, gamma, i, y\n",
    "from proveit.linear_algebra import ScalarMult\n",
    "from proveit.logic import Equals, Forall, Implies, InSet\n",
    "from proveit.numbers import Interval, Mult, four, two"
   ]
  },
  {
   "cell_type": "code",
   "execution_count": 2,
   "metadata": {},
   "outputs": [
    {
     "data": {
      "text/html": [
       "<strong id=\"expr\">expr:</strong> <a class=\"ProveItLink\" href=\"expr.ipynb\"><img src=\"expr.png\" style=\"display:inline;vertical-align:middle;\" /></a><br>"
      ],
      "text/plain": [
       "<IPython.core.display.HTML object>"
      ]
     },
     "metadata": {},
     "output_type": "display_data"
    }
   ],
   "source": [
    "# build up the expression from sub-expressions\n",
    "sub_expr1 = Interval(two, four)\n",
    "sub_expr2 = ScalarMult(ScalarMult(gamma, i), y)\n",
    "sub_expr3 = ScalarMult(Mult(gamma, i), y)\n",
    "sub_expr4 = InSet(i, sub_expr1)\n",
    "expr = Implies(Forall(instance_param_or_params = [i], instance_expr = Equals(sub_expr2, sub_expr3), domain = sub_expr1), Equals(Lambda(i, Conditional(sub_expr2, sub_expr4)), Lambda(i, Conditional(sub_expr3, sub_expr4))).with_wrapping_at(2)).with_wrapping_at(2)"
   ]
  },
  {
   "cell_type": "code",
   "execution_count": 3,
   "metadata": {},
   "outputs": [
    {
     "name": "stdout",
     "output_type": "stream",
     "text": [
      "Passed sanity check: expr matches stored_expr\n"
     ]
    }
   ],
   "source": [
    "# check that the built expression is the same as the stored expression\n",
    "assert expr == stored_expr\n",
    "assert expr._style_id == stored_expr._style_id\n",
    "print(\"Passed sanity check: expr matches stored_expr\")"
   ]
  },
  {
   "cell_type": "code",
   "execution_count": 4,
   "metadata": {},
   "outputs": [
    {
     "name": "stdout",
     "output_type": "stream",
     "text": [
      "\\begin{array}{c} \\begin{array}{l} \\left[\\forall_{i \\in \\{2~\\ldotp \\ldotp~4\\}}~\\left(\\left(\\left(\\gamma \\cdot i\\right) \\cdot y\\right) = \\left(\\left(\\gamma \\cdot i\\right) \\cdot y\\right)\\right)\\right] \\Rightarrow  \\\\ \\left(\\begin{array}{c} \\begin{array}{l} \\left[i \\mapsto \\left\\{\\left(\\gamma \\cdot i\\right) \\cdot y \\textrm{ if } i \\in \\{2~\\ldotp \\ldotp~4\\}\\right..\\right] =  \\\\ \\left[i \\mapsto \\left\\{\\left(\\gamma \\cdot i\\right) \\cdot y \\textrm{ if } i \\in \\{2~\\ldotp \\ldotp~4\\}\\right..\\right] \\end{array} \\end{array}\\right) \\end{array} \\end{array}\n"
     ]
    }
   ],
   "source": [
    "# Show the LaTeX representation of the expression for convenience if you need it.\n",
    "print(stored_expr.latex())"
   ]
  },
  {
   "cell_type": "code",
   "execution_count": 5,
   "metadata": {},
   "outputs": [
    {
     "data": {
      "text/html": [
       "<table>\n",
       "<tr><th>name</th><th>description</th><th>default</th><th>current value</th><th>related methods</th></tr><tr><td>operation</td><td>'infix' or 'function' style formatting</td><td>infix</td><td>infix</td><td></td></tr>\n",
       "<tr><td>wrap_positions</td><td>position(s) at which wrapping is to occur; '2 n - 1' is after the nth operand, '2 n' is after the nth operation.</td><td>()</td><td>(2)</td><td>('with_wrapping_at', 'with_wrap_before_operator', 'with_wrap_after_operator', 'without_wrapping', 'wrap_positions')</td></tr>\n",
       "<tr><td>justification</td><td>if any wrap positions are set, justify to the 'left', 'center', or 'right'</td><td>center</td><td>center</td><td>('with_justification',)</td></tr>\n",
       "<tr><td>direction</td><td>Direction of the relation (normal or reversed)</td><td>normal</td><td>normal</td><td>('with_direction_reversed', 'is_reversed')</td></tr>\n",
       "</table>\n"
      ],
      "text/plain": [
       "style name: operation\n",
       "description: 'infix' or 'function' style formatting\n",
       "default: infix\n",
       "current value: infix\n",
       "related methods: ()\n",
       "style name: wrap_positions\n",
       "description: position(s) at which wrapping is to occur; '2 n - 1' is after the nth operand, '2 n' is after the nth operation.\n",
       "default: ()\n",
       "current value: (2)\n",
       "related methods: ('with_wrapping_at', 'with_wrap_before_operator', 'with_wrap_after_operator', 'without_wrapping', 'wrap_positions')\n",
       "style name: justification\n",
       "description: if any wrap positions are set, justify to the 'left', 'center', or 'right'\n",
       "default: center\n",
       "current value: center\n",
       "related methods: ('with_justification',)\n",
       "style name: direction\n",
       "description: Direction of the relation (normal or reversed)\n",
       "default: normal\n",
       "current value: normal\n",
       "related methods: ('with_direction_reversed', 'is_reversed')"
      ]
     },
     "metadata": {},
     "output_type": "display_data"
    }
   ],
   "source": [
    "stored_expr.style_options()"
   ]
  },
  {
   "cell_type": "code",
   "execution_count": 6,
   "metadata": {},
   "outputs": [
    {
     "data": {
      "text/html": [
       "<table><tr><th>&nbsp;</th><th>core type</th><th>sub-expressions</th><th>expression</th></tr>\n",
       "<tr><td>0</td><td>Operation</td><td>operator:&nbsp;1<br>operands:&nbsp;2<br></td><td><a class=\"ProveItLink\" href=\"expr.ipynb\"><img src=\"expr.png\" style=\"display:inline;vertical-align:middle;\" /></a></td></tr>\n",
       "<tr><td>1</td><td>Literal</td><td></td><td><a class=\"ProveItLink\" href=\"../../../../../logic/booleans/implication/__pv_it/common/02bdb382575728da8cdbaed545b9096ea7a1bd5b0/expr.ipynb\"><img src=\"../../../../../logic/booleans/implication/__pv_it/common/02bdb382575728da8cdbaed545b9096ea7a1bd5b0/expr.png\" style=\"display:inline;vertical-align:middle;\" /></a></td></tr>\n",
       "<tr><td>2</td><td>ExprTuple</td><td>3, 4</td><td><a class=\"ProveItLink\" href=\"../b7baaa2a5ba2811cbac26161803d169a60c144eb0/expr.ipynb\"><img src=\"../b7baaa2a5ba2811cbac26161803d169a60c144eb0/expr.png\" style=\"display:inline;vertical-align:middle;\" /></a></td></tr>\n",
       "<tr><td>3</td><td>Operation</td><td>operator:&nbsp;5<br>operand:&nbsp;8<br></td><td><a class=\"ProveItLink\" href=\"../1bde4f5186cb51cac825604a64df35a56e8337b00/expr.ipynb\"><img src=\"../1bde4f5186cb51cac825604a64df35a56e8337b00/expr.png\" style=\"display:inline;vertical-align:middle;\" /></a></td></tr>\n",
       "<tr><td>4</td><td>Operation</td><td>operator:&nbsp;17<br>operands:&nbsp;7<br></td><td><a class=\"ProveItLink\" href=\"../fd851e8bbda76d16ddd4b7d6ca78a0cf56f1cb010/expr.ipynb\"><img src=\"../fd851e8bbda76d16ddd4b7d6ca78a0cf56f1cb010/expr.png\" style=\"display:inline;vertical-align:middle;\" /></a></td></tr>\n",
       "<tr><td>5</td><td>Literal</td><td></td><td><a class=\"ProveItLink\" href=\"../../../../../logic/booleans/quantification/universality/__pv_it/common/083d2baa0b8ecab1d230f9ec29a15aa1355809fb0/expr.ipynb\"><img src=\"../../../../../logic/booleans/quantification/universality/__pv_it/common/083d2baa0b8ecab1d230f9ec29a15aa1355809fb0/expr.png\" style=\"display:inline;vertical-align:middle;\" /></a></td></tr>\n",
       "<tr><td>6</td><td>ExprTuple</td><td>8</td><td><a class=\"ProveItLink\" href=\"../ee0708822f7331977f0d7a5bf7689b8fb770015a0/expr.ipynb\"><img src=\"../ee0708822f7331977f0d7a5bf7689b8fb770015a0/expr.png\" style=\"display:inline;vertical-align:middle;\" /></a></td></tr>\n",
       "<tr><td>7</td><td>ExprTuple</td><td>9, 10</td><td><a class=\"ProveItLink\" href=\"../b62a82ebe4c3e8ffbe4627f64a14bc0dd337f6080/expr.ipynb\"><img src=\"../b62a82ebe4c3e8ffbe4627f64a14bc0dd337f6080/expr.png\" style=\"display:inline;vertical-align:middle;\" /></a></td></tr>\n",
       "<tr><td>8</td><td>Lambda</td><td>parameter:&nbsp;37<br>body:&nbsp;11<br></td><td><a class=\"ProveItLink\" href=\"../81d09f667fb80f2b859beb8f7dc05fe235dd730d0/expr.ipynb\"><img src=\"../81d09f667fb80f2b859beb8f7dc05fe235dd730d0/expr.png\" style=\"display:inline;vertical-align:middle;\" /></a></td></tr>\n",
       "<tr><td>9</td><td>Lambda</td><td>parameter:&nbsp;37<br>body:&nbsp;12<br></td><td><a class=\"ProveItLink\" href=\"../bf938b6472d3f8a84f48fc0194429208ce500a560/expr.ipynb\"><img src=\"../bf938b6472d3f8a84f48fc0194429208ce500a560/expr.png\" style=\"display:inline;vertical-align:middle;\" /></a></td></tr>\n",
       "<tr><td>10</td><td>Lambda</td><td>parameter:&nbsp;37<br>body:&nbsp;14<br></td><td><a class=\"ProveItLink\" href=\"../a308a4600eb9ee4c991326a46c3d9bfedfe07f520/expr.ipynb\"><img src=\"../a308a4600eb9ee4c991326a46c3d9bfedfe07f520/expr.png\" style=\"display:inline;vertical-align:middle;\" /></a></td></tr>\n",
       "<tr><td>11</td><td>Conditional</td><td>value:&nbsp;15<br>condition:&nbsp;16<br></td><td><a class=\"ProveItLink\" href=\"../0b1931224ecda392cd50cc89512a7f93d428b8ac0/expr.ipynb\"><img src=\"../0b1931224ecda392cd50cc89512a7f93d428b8ac0/expr.png\" style=\"display:inline;vertical-align:middle;\" /></a></td></tr>\n",
       "<tr><td>12</td><td>Conditional</td><td>value:&nbsp;21<br>condition:&nbsp;16<br></td><td><a class=\"ProveItLink\" href=\"../eb01ec9bb2813a888f25572bfde435add55be80c0/expr.ipynb\"><img src=\"../eb01ec9bb2813a888f25572bfde435add55be80c0/expr.png\" style=\"display:inline;vertical-align:middle;\" /></a></td></tr>\n",
       "<tr><td>13</td><td>ExprTuple</td><td>37</td><td><a class=\"ProveItLink\" href=\"../../../../../__pv_it/common/3b7d7ace2ced0a8261ea4d18d03aaf49e434d69d0/expr.ipynb\"><img src=\"../../../../../__pv_it/common/3b7d7ace2ced0a8261ea4d18d03aaf49e434d69d0/expr.png\" style=\"display:inline;vertical-align:middle;\" /></a></td></tr>\n",
       "<tr><td>14</td><td>Conditional</td><td>value:&nbsp;22<br>condition:&nbsp;16<br></td><td><a class=\"ProveItLink\" href=\"../9d82586bf20c56039b461e580057aa45177d97430/expr.ipynb\"><img src=\"../9d82586bf20c56039b461e580057aa45177d97430/expr.png\" style=\"display:inline;vertical-align:middle;\" /></a></td></tr>\n",
       "<tr><td>15</td><td>Operation</td><td>operator:&nbsp;17<br>operands:&nbsp;18<br></td><td><a class=\"ProveItLink\" href=\"../19b04bd95616746f6423f14c1467e75e26d289990/expr.ipynb\"><img src=\"../19b04bd95616746f6423f14c1467e75e26d289990/expr.png\" style=\"display:inline;vertical-align:middle;\" /></a></td></tr>\n",
       "<tr><td>16</td><td>Operation</td><td>operator:&nbsp;19<br>operands:&nbsp;20<br></td><td><a class=\"ProveItLink\" href=\"../1dcee5d42a9a39499a39768abf9beb5a120321210/expr.ipynb\"><img src=\"../1dcee5d42a9a39499a39768abf9beb5a120321210/expr.png\" style=\"display:inline;vertical-align:middle;\" /></a></td></tr>\n",
       "<tr><td>17</td><td>Literal</td><td></td><td><a class=\"ProveItLink\" href=\"../../../../../logic/equality/__pv_it/common/fb96dc12b2aa8801dda64d0132b396c63d1502bb0/expr.ipynb\"><img src=\"../../../../../logic/equality/__pv_it/common/fb96dc12b2aa8801dda64d0132b396c63d1502bb0/expr.png\" style=\"display:inline;vertical-align:middle;\" /></a></td></tr>\n",
       "<tr><td>18</td><td>ExprTuple</td><td>21, 22</td><td><a class=\"ProveItLink\" href=\"../535edf2dc44b8296aba2734483ba23f4d4a87c470/expr.ipynb\"><img src=\"../535edf2dc44b8296aba2734483ba23f4d4a87c470/expr.png\" style=\"display:inline;vertical-align:middle;\" /></a></td></tr>\n",
       "<tr><td>19</td><td>Literal</td><td></td><td><a class=\"ProveItLink\" href=\"../../../../../logic/sets/membership/__pv_it/common/477487d8796864d23d5810f83761435f25167f690/expr.ipynb\"><img src=\"../../../../../logic/sets/membership/__pv_it/common/477487d8796864d23d5810f83761435f25167f690/expr.png\" style=\"display:inline;vertical-align:middle;\" /></a></td></tr>\n",
       "<tr><td>20</td><td>ExprTuple</td><td>37, 23</td><td><a class=\"ProveItLink\" href=\"../28d2afb06ec85f8673a332040f8f84c54020e9590/expr.ipynb\"><img src=\"../28d2afb06ec85f8673a332040f8f84c54020e9590/expr.png\" style=\"display:inline;vertical-align:middle;\" /></a></td></tr>\n",
       "<tr><td>21</td><td>Operation</td><td>operator:&nbsp;33<br>operands:&nbsp;24<br></td><td><a class=\"ProveItLink\" href=\"../e9886ebdf169753b356db70ef85468cd58d95aab0/expr.ipynb\"><img src=\"../e9886ebdf169753b356db70ef85468cd58d95aab0/expr.png\" style=\"display:inline;vertical-align:middle;\" /></a></td></tr>\n",
       "<tr><td>22</td><td>Operation</td><td>operator:&nbsp;33<br>operands:&nbsp;25<br></td><td><a class=\"ProveItLink\" href=\"../cc4867bfa42569567a2b0b595417e7ed992dbdee0/expr.ipynb\"><img src=\"../cc4867bfa42569567a2b0b595417e7ed992dbdee0/expr.png\" style=\"display:inline;vertical-align:middle;\" /></a></td></tr>\n",
       "<tr><td>23</td><td>Operation</td><td>operator:&nbsp;26<br>operands:&nbsp;27<br></td><td><a class=\"ProveItLink\" href=\"../d52b7b54dc47ec2badf6859f9847ff1f1b35483a0/expr.ipynb\"><img src=\"../d52b7b54dc47ec2badf6859f9847ff1f1b35483a0/expr.png\" style=\"display:inline;vertical-align:middle;\" /></a></td></tr>\n",
       "<tr><td>24</td><td>ExprTuple</td><td>28, 30</td><td><a class=\"ProveItLink\" href=\"../8d74100e35dd80ef646c3ce4e287ecc93959969d0/expr.ipynb\"><img src=\"../8d74100e35dd80ef646c3ce4e287ecc93959969d0/expr.png\" style=\"display:inline;vertical-align:middle;\" /></a></td></tr>\n",
       "<tr><td>25</td><td>ExprTuple</td><td>29, 30</td><td><a class=\"ProveItLink\" href=\"../1fa6201a81308fedc5aa7b9d321896c6d0dae2fe0/expr.ipynb\"><img src=\"../1fa6201a81308fedc5aa7b9d321896c6d0dae2fe0/expr.png\" style=\"display:inline;vertical-align:middle;\" /></a></td></tr>\n",
       "<tr><td>26</td><td>Literal</td><td></td><td><a class=\"ProveItLink\" href=\"../../../../../numbers/number_sets/integers/__pv_it/common/92f3a0a77e3c3ea8e4a5c8674edadc54e4f57d550/expr.ipynb\"><img src=\"../../../../../numbers/number_sets/integers/__pv_it/common/92f3a0a77e3c3ea8e4a5c8674edadc54e4f57d550/expr.png\" style=\"display:inline;vertical-align:middle;\" /></a></td></tr>\n",
       "<tr><td>27</td><td>ExprTuple</td><td>31, 32</td><td><a class=\"ProveItLink\" href=\"../4dcdc5026f80b9604cf319714818529aceda286b0/expr.ipynb\"><img src=\"../4dcdc5026f80b9604cf319714818529aceda286b0/expr.png\" style=\"display:inline;vertical-align:middle;\" /></a></td></tr>\n",
       "<tr><td>28</td><td>Operation</td><td>operator:&nbsp;33<br>operands:&nbsp;35<br></td><td><a class=\"ProveItLink\" href=\"../454fe25dcdd094332bd13830e131fff52a2f50810/expr.ipynb\"><img src=\"../454fe25dcdd094332bd13830e131fff52a2f50810/expr.png\" style=\"display:inline;vertical-align:middle;\" /></a></td></tr>\n",
       "<tr><td>29</td><td>Operation</td><td>operator:&nbsp;34<br>operands:&nbsp;35<br></td><td><a class=\"ProveItLink\" href=\"../389e0dabf89e3a3026cdd4ffb85ce65b0873c60e0/expr.ipynb\"><img src=\"../389e0dabf89e3a3026cdd4ffb85ce65b0873c60e0/expr.png\" style=\"display:inline;vertical-align:middle;\" /></a></td></tr>\n",
       "<tr><td>30</td><td>Variable</td><td></td><td><a class=\"ProveItLink\" href=\"../../../../../__pv_it/common/ff7dba4ef0bbe791ab573bf2d9c220a304399ac80/expr.ipynb\"><img src=\"../../../../../__pv_it/common/ff7dba4ef0bbe791ab573bf2d9c220a304399ac80/expr.png\" style=\"display:inline;vertical-align:middle;\" /></a></td></tr>\n",
       "<tr><td>31</td><td>Literal</td><td></td><td><a class=\"ProveItLink\" href=\"../../../../../numbers/numerals/__pv_it/common/af4aab8a07465db063742696e006d04670f30cf10/expr.ipynb\"><img src=\"../../../../../numbers/numerals/__pv_it/common/af4aab8a07465db063742696e006d04670f30cf10/expr.png\" style=\"display:inline;vertical-align:middle;\" /></a></td></tr>\n",
       "<tr><td>32</td><td>Literal</td><td></td><td><a class=\"ProveItLink\" href=\"../../../../../numbers/numerals/__pv_it/common/48a1d915c1e9490b9a94e5c77a208938d3ee20ce0/expr.ipynb\"><img src=\"../../../../../numbers/numerals/__pv_it/common/48a1d915c1e9490b9a94e5c77a208938d3ee20ce0/expr.png\" style=\"display:inline;vertical-align:middle;\" /></a></td></tr>\n",
       "<tr><td>33</td><td>Literal</td><td></td><td><a class=\"ProveItLink\" href=\"../../../../scalar_multiplication/__pv_it/common/1e364bd471e6a29fcd358dd2d9cd990a1e6fedd40/expr.ipynb\"><img src=\"../../../../scalar_multiplication/__pv_it/common/1e364bd471e6a29fcd358dd2d9cd990a1e6fedd40/expr.png\" style=\"display:inline;vertical-align:middle;\" /></a></td></tr>\n",
       "<tr><td>34</td><td>Literal</td><td></td><td><a class=\"ProveItLink\" href=\"../../../../../numbers/multiplication/__pv_it/common/ed719cef37831779c16481533a4d380a2f95ab270/expr.ipynb\"><img src=\"../../../../../numbers/multiplication/__pv_it/common/ed719cef37831779c16481533a4d380a2f95ab270/expr.png\" style=\"display:inline;vertical-align:middle;\" /></a></td></tr>\n",
       "<tr><td>35</td><td>ExprTuple</td><td>36, 37</td><td><a class=\"ProveItLink\" href=\"../bee6b8d7119a5b42a091820303c6cc714b8336470/expr.ipynb\"><img src=\"../bee6b8d7119a5b42a091820303c6cc714b8336470/expr.png\" style=\"display:inline;vertical-align:middle;\" /></a></td></tr>\n",
       "<tr><td>36</td><td>Variable</td><td></td><td><a class=\"ProveItLink\" href=\"../../../../../__pv_it/common/d3b5a05ce48f7e4b8f946549743adda31d51d0e80/expr.ipynb\"><img src=\"../../../../../__pv_it/common/d3b5a05ce48f7e4b8f946549743adda31d51d0e80/expr.png\" style=\"display:inline;vertical-align:middle;\" /></a></td></tr>\n",
       "<tr><td>37</td><td>Variable</td><td></td><td><a class=\"ProveItLink\" href=\"../../../../../__pv_it/common/ae955345c83abf786c3aff8681cd5465beae262d0/expr.ipynb\"><img src=\"../../../../../__pv_it/common/ae955345c83abf786c3aff8681cd5465beae262d0/expr.png\" style=\"display:inline;vertical-align:middle;\" /></a></td></tr>\n",
       "</table>\n"
      ],
      "text/plain": [
       "0. [forall_{i in {2 .. 4}} (((gamma * i) * y) = ((gamma * i) * y))] =>  \\\\ ([i -> {(gamma * i) * y if i in {2 .. 4}.] =  \\\\ [i -> {(gamma * i) * y if i in {2 .. 4}.])\n",
       "   core type: Operation\n",
       "   operator: 1\n",
       "   operands: 2\n",
       "1. =>\n",
       "   core type: Literal\n",
       "   sub-expressions: \n",
       "2. (forall_{i in {2 .. 4}} (((gamma * i) * y) = ((gamma * i) * y)), [i -> {(gamma * i) * y if i in {2 .. 4}.] =  \\\\ [i -> {(gamma * i) * y if i in {2 .. 4}.])\n",
       "   core type: ExprTuple\n",
       "   sub-expressions: 3, 4\n",
       "3. forall_{i in {2 .. 4}} (((gamma * i) * y) = ((gamma * i) * y))\n",
       "   core type: Operation\n",
       "   operator: 5\n",
       "   operand: 8\n",
       "4. [i -> {(gamma * i) * y if i in {2 .. 4}.] =  \\\\ [i -> {(gamma * i) * y if i in {2 .. 4}.]\n",
       "   core type: Operation\n",
       "   operator: 17\n",
       "   operands: 7\n",
       "5. forall\n",
       "   core type: Literal\n",
       "   sub-expressions: \n",
       "6. (i -> {((gamma * i) * y) = ((gamma * i) * y) if i in {2 .. 4}.)\n",
       "   core type: ExprTuple\n",
       "   sub-expressions: 8\n",
       "7. (i -> {(gamma * i) * y if i in {2 .. 4}., i -> {(gamma * i) * y if i in {2 .. 4}.)\n",
       "   core type: ExprTuple\n",
       "   sub-expressions: 9, 10\n",
       "8. i -> {((gamma * i) * y) = ((gamma * i) * y) if i in {2 .. 4}.\n",
       "   core type: Lambda\n",
       "   parameter: 37\n",
       "   body: 11\n",
       "9. i -> {(gamma * i) * y if i in {2 .. 4}.\n",
       "   core type: Lambda\n",
       "   parameter: 37\n",
       "   body: 12\n",
       "10. i -> {(gamma * i) * y if i in {2 .. 4}.\n",
       "    core type: Lambda\n",
       "    parameter: 37\n",
       "    body: 14\n",
       "11. {((gamma * i) * y) = ((gamma * i) * y) if i in {2 .. 4}.\n",
       "    core type: Conditional\n",
       "    value: 15\n",
       "    condition: 16\n",
       "12. {(gamma * i) * y if i in {2 .. 4}.\n",
       "    core type: Conditional\n",
       "    value: 21\n",
       "    condition: 16\n",
       "13. (i)\n",
       "    core type: ExprTuple\n",
       "    sub-expressions: 37\n",
       "14. {(gamma * i) * y if i in {2 .. 4}.\n",
       "    core type: Conditional\n",
       "    value: 22\n",
       "    condition: 16\n",
       "15. ((gamma * i) * y) = ((gamma * i) * y)\n",
       "    core type: Operation\n",
       "    operator: 17\n",
       "    operands: 18\n",
       "16. i in {2 .. 4}\n",
       "    core type: Operation\n",
       "    operator: 19\n",
       "    operands: 20\n",
       "17. =\n",
       "    core type: Literal\n",
       "    sub-expressions: \n",
       "18. ((gamma * i) * y, (gamma * i) * y)\n",
       "    core type: ExprTuple\n",
       "    sub-expressions: 21, 22\n",
       "19. in\n",
       "    core type: Literal\n",
       "    sub-expressions: \n",
       "20. (i, {2 .. 4})\n",
       "    core type: ExprTuple\n",
       "    sub-expressions: 37, 23\n",
       "21. (gamma * i) * y\n",
       "    core type: Operation\n",
       "    operator: 33\n",
       "    operands: 24\n",
       "22. (gamma * i) * y\n",
       "    core type: Operation\n",
       "    operator: 33\n",
       "    operands: 25\n",
       "23. {2 .. 4}\n",
       "    core type: Operation\n",
       "    operator: 26\n",
       "    operands: 27\n",
       "24. (gamma * i, y)\n",
       "    core type: ExprTuple\n",
       "    sub-expressions: 28, 30\n",
       "25. (gamma * i, y)\n",
       "    core type: ExprTuple\n",
       "    sub-expressions: 29, 30\n",
       "26. Interval\n",
       "    core type: Literal\n",
       "    sub-expressions: \n",
       "27. (2, 4)\n",
       "    core type: ExprTuple\n",
       "    sub-expressions: 31, 32\n",
       "28. gamma * i\n",
       "    core type: Operation\n",
       "    operator: 33\n",
       "    operands: 35\n",
       "29. gamma * i\n",
       "    core type: Operation\n",
       "    operator: 34\n",
       "    operands: 35\n",
       "30. y\n",
       "    core type: Variable\n",
       "    sub-expressions: \n",
       "31. 2\n",
       "    core type: Literal\n",
       "    sub-expressions: \n",
       "32. 4\n",
       "    core type: Literal\n",
       "    sub-expressions: \n",
       "33. *\n",
       "    core type: Literal\n",
       "    sub-expressions: \n",
       "34. *\n",
       "    core type: Literal\n",
       "    sub-expressions: \n",
       "35. (gamma, i)\n",
       "    core type: ExprTuple\n",
       "    sub-expressions: 36, 37\n",
       "36. gamma\n",
       "    core type: Variable\n",
       "    sub-expressions: \n",
       "37. i\n",
       "    core type: Variable\n",
       "    sub-expressions: "
      ]
     },
     "metadata": {},
     "output_type": "display_data"
    }
   ],
   "source": [
    "# display the expression information\n",
    "stored_expr.expr_info()"
   ]
  },
  {
   "cell_type": "code",
   "execution_count": null,
   "metadata": {},
   "outputs": [],
   "source": []
  }
 ],
 "metadata": {
  "kernelspec": {
   "display_name": "Python 3",
   "language": "python",
   "name": "python3"
  }
 },
 "nbformat": 4,
 "nbformat_minor": 0
}