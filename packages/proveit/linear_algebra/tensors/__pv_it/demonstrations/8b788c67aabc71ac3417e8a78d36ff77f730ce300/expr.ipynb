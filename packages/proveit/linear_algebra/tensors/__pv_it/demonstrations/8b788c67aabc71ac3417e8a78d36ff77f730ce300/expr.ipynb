{
 "cells": [
  {
   "cell_type": "markdown",
   "metadata": {},
   "source": [
    "Expression of type <a class=\"ProveItLink\" href=\"../../../../../../../doc/html/api/proveit.ExprTuple.html\">ExprTuple</a>\n",
    "=======================\n",
    "# from the theory of <a class=\"ProveItLink\" href=\"../../../_theory_nbs_/theory.ipynb\">proveit.linear_algebra.tensors</a>"
   ]
  },
  {
   "cell_type": "code",
   "execution_count": 1,
   "metadata": {},
   "outputs": [],
   "source": [
    "import proveit\n",
    "# Automation is not needed when building an expression:\n",
    "proveit.defaults.automation = False # This will speed things up.\n",
    "proveit.defaults.inline_pngs = False # Makes files smaller.\n",
    "%load_expr # Load the stored expression as 'stored_expr'\n",
    "# import Expression classes needed to build the expression\n",
    "from proveit import ExprTuple, fi, gamma, x, y, z\n",
    "from proveit.linear_algebra import ScalarMult, TensorProd"
   ]
  },
  {
   "cell_type": "code",
   "execution_count": 2,
   "metadata": {},
   "outputs": [
    {
     "data": {
      "text/html": [
       "<strong id=\"expr\">expr:</strong> <a class=\"ProveItLink\" href=\"expr.ipynb\"><img src=\"expr.png\" style=\"display:inline;vertical-align:middle;\" /></a><br>"
      ],
      "text/plain": [
       "<IPython.core.display.HTML object>"
      ]
     },
     "metadata": {},
     "output_type": "display_data"
    }
   ],
   "source": [
    "# build up the expression from sub-expressions\n",
    "expr = ExprTuple(TensorProd(x, y, ScalarMult(gamma, fi), z), ScalarMult(gamma, TensorProd(x, TensorProd(y, fi), z)))"
   ]
  },
  {
   "cell_type": "code",
   "execution_count": 3,
   "metadata": {},
   "outputs": [
    {
     "name": "stdout",
     "output_type": "stream",
     "text": [
      "Passed sanity check: expr matches stored_expr\n"
     ]
    }
   ],
   "source": [
    "# check that the built expression is the same as the stored expression\n",
    "assert expr == stored_expr\n",
    "assert expr._style_id == stored_expr._style_id\n",
    "print(\"Passed sanity check: expr matches stored_expr\")"
   ]
  },
  {
   "cell_type": "code",
   "execution_count": 4,
   "metadata": {},
   "outputs": [
    {
     "name": "stdout",
     "output_type": "stream",
     "text": [
      "\\left(x {\\otimes} y {\\otimes} \\left(\\gamma \\cdot f\\left(i\\right)\\right) {\\otimes} z, \\gamma \\cdot \\left(x {\\otimes} \\left(y {\\otimes} f\\left(i\\right)\\right) {\\otimes} z\\right)\\right)\n"
     ]
    }
   ],
   "source": [
    "# Show the LaTeX representation of the expression for convenience if you need it.\n",
    "print(stored_expr.latex())"
   ]
  },
  {
   "cell_type": "code",
   "execution_count": 5,
   "metadata": {},
   "outputs": [
    {
     "data": {
      "text/html": [
       "<table>\n",
       "<tr><th>name</th><th>description</th><th>default</th><th>current value</th><th>related methods</th></tr><tr><td>wrap_positions</td><td>position(s) at which wrapping is to occur; 'n' is after the nth comma.</td><td>()</td><td>()</td><td>('with_wrapping_at',)</td></tr>\n",
       "<tr><td>justification</td><td>if any wrap positions are set, justify to the 'left', 'center', or 'right'</td><td>left</td><td>left</td><td>('with_justification',)</td></tr>\n",
       "</table>\n"
      ],
      "text/plain": [
       "style name: wrap_positions\n",
       "description: position(s) at which wrapping is to occur; 'n' is after the nth comma.\n",
       "default: ()\n",
       "current value: ()\n",
       "related methods: ('with_wrapping_at',)\n",
       "style name: justification\n",
       "description: if any wrap positions are set, justify to the 'left', 'center', or 'right'\n",
       "default: left\n",
       "current value: left\n",
       "related methods: ('with_justification',)"
      ]
     },
     "metadata": {},
     "output_type": "display_data"
    }
   ],
   "source": [
    "stored_expr.style_options()"
   ]
  },
  {
   "cell_type": "code",
   "execution_count": 6,
   "metadata": {},
   "outputs": [
    {
     "data": {
      "text/html": [
       "<table><tr><th>&nbsp;</th><th>core type</th><th>sub-expressions</th><th>expression</th></tr>\n",
       "<tr><td>0</td><td>ExprTuple</td><td>1, 2</td><td><a class=\"ProveItLink\" href=\"expr.ipynb\"><img src=\"expr.png\" style=\"display:inline;vertical-align:middle;\" /></a></td></tr>\n",
       "<tr><td>1</td><td>Operation</td><td>operator:&nbsp;14<br>operands:&nbsp;3<br></td><td><a class=\"ProveItLink\" href=\"../bcd58aeac1ce0135b40603b971b11e7b8ce79e300/expr.ipynb\"><img src=\"../bcd58aeac1ce0135b40603b971b11e7b8ce79e300/expr.png\" style=\"display:inline;vertical-align:middle;\" /></a></td></tr>\n",
       "<tr><td>2</td><td>Operation</td><td>operator:&nbsp;7<br>operands:&nbsp;4<br></td><td><a class=\"ProveItLink\" href=\"../76037e0f2fba9c3600e3aa10f38bf1ac549ab96d0/expr.ipynb\"><img src=\"../76037e0f2fba9c3600e3aa10f38bf1ac549ab96d0/expr.png\" style=\"display:inline;vertical-align:middle;\" /></a></td></tr>\n",
       "<tr><td>3</td><td>ExprTuple</td><td>11, 16, 5, 13</td><td><a class=\"ProveItLink\" href=\"../3e64c0f7adc75ff8aab971a132685e75d85af1510/expr.ipynb\"><img src=\"../3e64c0f7adc75ff8aab971a132685e75d85af1510/expr.png\" style=\"display:inline;vertical-align:middle;\" /></a></td></tr>\n",
       "<tr><td>4</td><td>ExprTuple</td><td>10, 6</td><td><a class=\"ProveItLink\" href=\"../9668f12829bfa4683b8f15c6ae72c78ad0150fa80/expr.ipynb\"><img src=\"../9668f12829bfa4683b8f15c6ae72c78ad0150fa80/expr.png\" style=\"display:inline;vertical-align:middle;\" /></a></td></tr>\n",
       "<tr><td>5</td><td>Operation</td><td>operator:&nbsp;7<br>operands:&nbsp;8<br></td><td><a class=\"ProveItLink\" href=\"../46ab2766316aacd3816db4cb2b9b570ae20672aa0/expr.ipynb\"><img src=\"../46ab2766316aacd3816db4cb2b9b570ae20672aa0/expr.png\" style=\"display:inline;vertical-align:middle;\" /></a></td></tr>\n",
       "<tr><td>6</td><td>Operation</td><td>operator:&nbsp;14<br>operands:&nbsp;9<br></td><td><a class=\"ProveItLink\" href=\"../0281f0d3f4725bbd3a9726b76e10cdd6a59f84510/expr.ipynb\"><img src=\"../0281f0d3f4725bbd3a9726b76e10cdd6a59f84510/expr.png\" style=\"display:inline;vertical-align:middle;\" /></a></td></tr>\n",
       "<tr><td>7</td><td>Literal</td><td></td><td><a class=\"ProveItLink\" href=\"../../../../scalar_multiplication/__pv_it/common/1e364bd471e6a29fcd358dd2d9cd990a1e6fedd40/expr.ipynb\"><img src=\"../../../../scalar_multiplication/__pv_it/common/1e364bd471e6a29fcd358dd2d9cd990a1e6fedd40/expr.png\" style=\"display:inline;vertical-align:middle;\" /></a></td></tr>\n",
       "<tr><td>8</td><td>ExprTuple</td><td>10, 17</td><td><a class=\"ProveItLink\" href=\"../76f8657ebb0359b0c2aa3bf9a95d985ecd3f59970/expr.ipynb\"><img src=\"../76f8657ebb0359b0c2aa3bf9a95d985ecd3f59970/expr.png\" style=\"display:inline;vertical-align:middle;\" /></a></td></tr>\n",
       "<tr><td>9</td><td>ExprTuple</td><td>11, 12, 13</td><td><a class=\"ProveItLink\" href=\"../6034bae8569870ca41a24707b92af3e5660a1e090/expr.ipynb\"><img src=\"../6034bae8569870ca41a24707b92af3e5660a1e090/expr.png\" style=\"display:inline;vertical-align:middle;\" /></a></td></tr>\n",
       "<tr><td>10</td><td>Variable</td><td></td><td><a class=\"ProveItLink\" href=\"../../../../../__pv_it/common/d3b5a05ce48f7e4b8f946549743adda31d51d0e80/expr.ipynb\"><img src=\"../../../../../__pv_it/common/d3b5a05ce48f7e4b8f946549743adda31d51d0e80/expr.png\" style=\"display:inline;vertical-align:middle;\" /></a></td></tr>\n",
       "<tr><td>11</td><td>Variable</td><td></td><td><a class=\"ProveItLink\" href=\"../../../../../__pv_it/common/a0d9d672aa5e272d907247690c152cc2c6daafb70/expr.ipynb\"><img src=\"../../../../../__pv_it/common/a0d9d672aa5e272d907247690c152cc2c6daafb70/expr.png\" style=\"display:inline;vertical-align:middle;\" /></a></td></tr>\n",
       "<tr><td>12</td><td>Operation</td><td>operator:&nbsp;14<br>operands:&nbsp;15<br></td><td><a class=\"ProveItLink\" href=\"../aa5830927e009f1be65760f1d1d361f78536cddb0/expr.ipynb\"><img src=\"../aa5830927e009f1be65760f1d1d361f78536cddb0/expr.png\" style=\"display:inline;vertical-align:middle;\" /></a></td></tr>\n",
       "<tr><td>13</td><td>Variable</td><td></td><td><a class=\"ProveItLink\" href=\"../../../../../__pv_it/common/95a8f6b9b9f29b83f192ad7fd05708d6be097a3f0/expr.ipynb\"><img src=\"../../../../../__pv_it/common/95a8f6b9b9f29b83f192ad7fd05708d6be097a3f0/expr.png\" style=\"display:inline;vertical-align:middle;\" /></a></td></tr>\n",
       "<tr><td>14</td><td>Literal</td><td></td><td><a class=\"ProveItLink\" href=\"../../common/7fa25b05174babb4710be62d63ebd43f68aa2fec0/expr.ipynb\"><img src=\"../../common/7fa25b05174babb4710be62d63ebd43f68aa2fec0/expr.png\" style=\"display:inline;vertical-align:middle;\" /></a></td></tr>\n",
       "<tr><td>15</td><td>ExprTuple</td><td>16, 17</td><td><a class=\"ProveItLink\" href=\"../1ae81890faf60a3f20ea50dca9ed03417c5a22680/expr.ipynb\"><img src=\"../1ae81890faf60a3f20ea50dca9ed03417c5a22680/expr.png\" style=\"display:inline;vertical-align:middle;\" /></a></td></tr>\n",
       "<tr><td>16</td><td>Variable</td><td></td><td><a class=\"ProveItLink\" href=\"../../../../../__pv_it/common/ff7dba4ef0bbe791ab573bf2d9c220a304399ac80/expr.ipynb\"><img src=\"../../../../../__pv_it/common/ff7dba4ef0bbe791ab573bf2d9c220a304399ac80/expr.png\" style=\"display:inline;vertical-align:middle;\" /></a></td></tr>\n",
       "<tr><td>17</td><td>Operation</td><td>operator:&nbsp;18<br>operand:&nbsp;20<br></td><td><a class=\"ProveItLink\" href=\"../../../../../__pv_it/common/68d279ba17eb875d9f466a293b0b7fcc3ad8621e0/expr.ipynb\"><img src=\"../../../../../__pv_it/common/68d279ba17eb875d9f466a293b0b7fcc3ad8621e0/expr.png\" style=\"display:inline;vertical-align:middle;\" /></a></td></tr>\n",
       "<tr><td>18</td><td>Variable</td><td></td><td><a class=\"ProveItLink\" href=\"../../../../../__pv_it/common/01b6dbb444a31fc38af4c2379badef6c75b363710/expr.ipynb\"><img src=\"../../../../../__pv_it/common/01b6dbb444a31fc38af4c2379badef6c75b363710/expr.png\" style=\"display:inline;vertical-align:middle;\" /></a></td></tr>\n",
       "<tr><td>19</td><td>ExprTuple</td><td>20</td><td><a class=\"ProveItLink\" href=\"../../../../../__pv_it/common/3b7d7ace2ced0a8261ea4d18d03aaf49e434d69d0/expr.ipynb\"><img src=\"../../../../../__pv_it/common/3b7d7ace2ced0a8261ea4d18d03aaf49e434d69d0/expr.png\" style=\"display:inline;vertical-align:middle;\" /></a></td></tr>\n",
       "<tr><td>20</td><td>Variable</td><td></td><td><a class=\"ProveItLink\" href=\"../../../../../__pv_it/common/ae955345c83abf786c3aff8681cd5465beae262d0/expr.ipynb\"><img src=\"../../../../../__pv_it/common/ae955345c83abf786c3aff8681cd5465beae262d0/expr.png\" style=\"display:inline;vertical-align:middle;\" /></a></td></tr>\n",
       "</table>\n"
      ],
      "text/plain": [
       "0. (x otimes y otimes (gamma * f(i)) otimes z, gamma * (x otimes (y otimes f(i)) otimes z))\n",
       "   core type: ExprTuple\n",
       "   sub-expressions: 1, 2\n",
       "1. x otimes y otimes (gamma * f(i)) otimes z\n",
       "   core type: Operation\n",
       "   operator: 14\n",
       "   operands: 3\n",
       "2. gamma * (x otimes (y otimes f(i)) otimes z)\n",
       "   core type: Operation\n",
       "   operator: 7\n",
       "   operands: 4\n",
       "3. (x, y, gamma * f(i), z)\n",
       "   core type: ExprTuple\n",
       "   sub-expressions: 11, 16, 5, 13\n",
       "4. (gamma, x otimes (y otimes f(i)) otimes z)\n",
       "   core type: ExprTuple\n",
       "   sub-expressions: 10, 6\n",
       "5. gamma * f(i)\n",
       "   core type: Operation\n",
       "   operator: 7\n",
       "   operands: 8\n",
       "6. x otimes (y otimes f(i)) otimes z\n",
       "   core type: Operation\n",
       "   operator: 14\n",
       "   operands: 9\n",
       "7. *\n",
       "   core type: Literal\n",
       "   sub-expressions: \n",
       "8. (gamma, f(i))\n",
       "   core type: ExprTuple\n",
       "   sub-expressions: 10, 17\n",
       "9. (x, y otimes f(i), z)\n",
       "   core type: ExprTuple\n",
       "   sub-expressions: 11, 12, 13\n",
       "10. gamma\n",
       "    core type: Variable\n",
       "    sub-expressions: \n",
       "11. x\n",
       "    core type: Variable\n",
       "    sub-expressions: \n",
       "12. y otimes f(i)\n",
       "    core type: Operation\n",
       "    operator: 14\n",
       "    operands: 15\n",
       "13. z\n",
       "    core type: Variable\n",
       "    sub-expressions: \n",
       "14. otimes\n",
       "    core type: Literal\n",
       "    sub-expressions: \n",
       "15. (y, f(i))\n",
       "    core type: ExprTuple\n",
       "    sub-expressions: 16, 17\n",
       "16. y\n",
       "    core type: Variable\n",
       "    sub-expressions: \n",
       "17. f(i)\n",
       "    core type: Operation\n",
       "    operator: 18\n",
       "    operand: 20\n",
       "18. f\n",
       "    core type: Variable\n",
       "    sub-expressions: \n",
       "19. (i)\n",
       "    core type: ExprTuple\n",
       "    sub-expressions: 20\n",
       "20. i\n",
       "    core type: Variable\n",
       "    sub-expressions: "
      ]
     },
     "metadata": {},
     "output_type": "display_data"
    }
   ],
   "source": [
    "# display the expression information\n",
    "stored_expr.expr_info()"
   ]
  },
  {
   "cell_type": "code",
   "execution_count": null,
   "metadata": {},
   "outputs": [],
   "source": []
  }
 ],
 "metadata": {
  "kernelspec": {
   "display_name": "Python 3",
   "language": "python",
   "name": "python3"
  }
 },
 "nbformat": 4,
 "nbformat_minor": 0
}