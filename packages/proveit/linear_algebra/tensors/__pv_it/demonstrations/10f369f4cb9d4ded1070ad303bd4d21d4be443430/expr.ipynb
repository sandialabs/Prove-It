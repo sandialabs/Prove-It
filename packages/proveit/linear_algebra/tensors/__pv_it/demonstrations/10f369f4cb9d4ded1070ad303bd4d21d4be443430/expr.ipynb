{
 "cells": [
  {
   "cell_type": "markdown",
   "metadata": {},
   "source": [
    "Expression of type <a class=\"ProveItLink\" href=\"../../../../../../../doc/html/api/proveit.ExprTuple.html\">ExprTuple</a>\n",
    "=======================\n",
    "# from the theory of <a class=\"ProveItLink\" href=\"../../../_theory_nbs_/theory.ipynb\">proveit.linear_algebra.tensors</a>"
   ]
  },
  {
   "cell_type": "code",
   "execution_count": 1,
   "metadata": {},
   "outputs": [],
   "source": [
    "import proveit\n",
    "# Automation is not needed when building an expression:\n",
    "proveit.defaults.automation = False # This will speed things up.\n",
    "proveit.defaults.inline_pngs = False # Makes files smaller.\n",
    "%load_expr # Load the stored expression as 'stored_expr'\n",
    "# import Expression classes needed to build the expression\n",
    "from proveit import ExprTuple, beta, fi, gamma, i, x, y\n",
    "from proveit.linear_algebra import ScalarMult, TensorProd, VecSum\n",
    "from proveit.logic import CartExp, Equals, InSet\n",
    "from proveit.numbers import Interval, Real, four, three, two"
   ]
  },
  {
   "cell_type": "code",
   "execution_count": 2,
   "metadata": {},
   "outputs": [
    {
     "data": {
      "text/html": [
       "<strong id=\"expr\">expr:</strong> <a class=\"ProveItLink\" href=\"expr.ipynb\"><img src=\"expr.png\" style=\"display:inline;vertical-align:middle;\" /></a><br>"
      ],
      "text/plain": [
       "<IPython.core.display.HTML object>"
      ]
     },
     "metadata": {},
     "output_type": "display_data"
    }
   ],
   "source": [
    "# build up the expression from sub-expressions\n",
    "sub_expr1 = [i]\n",
    "sub_expr2 = Interval(two, four)\n",
    "sub_expr3 = CartExp(Real, three)\n",
    "sub_expr4 = ScalarMult(gamma, beta)\n",
    "sub_expr5 = TensorProd(x, fi, y)\n",
    "sub_expr6 = VecSum(index_or_indices = sub_expr1, summand = sub_expr5, domain = sub_expr2)\n",
    "expr = ExprTuple(InSet(sub_expr6, TensorProd(sub_expr3, sub_expr3, sub_expr3)), Equals(ScalarMult(sub_expr4, sub_expr6), VecSum(index_or_indices = sub_expr1, summand = ScalarMult(sub_expr4, sub_expr5), domain = sub_expr2)).with_wrapping_at(1))"
   ]
  },
  {
   "cell_type": "code",
   "execution_count": 3,
   "metadata": {},
   "outputs": [
    {
     "name": "stdout",
     "output_type": "stream",
     "text": [
      "Passed sanity check: expr matches stored_expr\n"
     ]
    }
   ],
   "source": [
    "# check that the built expression is the same as the stored expression\n",
    "assert expr == stored_expr\n",
    "assert expr._style_id == stored_expr._style_id\n",
    "print(\"Passed sanity check: expr matches stored_expr\")"
   ]
  },
  {
   "cell_type": "code",
   "execution_count": 4,
   "metadata": {},
   "outputs": [
    {
     "name": "stdout",
     "output_type": "stream",
     "text": [
      "\\left(\\left(\\sum_{i=2}^{4} \\left(x {\\otimes} f\\left(i\\right) {\\otimes} y\\right)\\right) \\in \\left(\\mathbb{R}^{3} {\\otimes} \\mathbb{R}^{3} {\\otimes} \\mathbb{R}^{3}\\right), \\begin{array}{c} \\begin{array}{l} \\left(\\left(\\gamma \\cdot \\beta\\right) \\cdot \\left(\\sum_{i=2}^{4} \\left(x {\\otimes} f\\left(i\\right) {\\otimes} y\\right)\\right)\\right) \\\\  = \\left(\\sum_{i=2}^{4} \\left(\\left(\\gamma \\cdot \\beta\\right) \\cdot \\left(x {\\otimes} f\\left(i\\right) {\\otimes} y\\right)\\right)\\right) \\end{array} \\end{array}\\right)\n"
     ]
    }
   ],
   "source": [
    "# Show the LaTeX representation of the expression for convenience if you need it.\n",
    "print(stored_expr.latex())"
   ]
  },
  {
   "cell_type": "code",
   "execution_count": 5,
   "metadata": {},
   "outputs": [
    {
     "data": {
      "text/html": [
       "<table>\n",
       "<tr><th>name</th><th>description</th><th>default</th><th>current value</th><th>related methods</th></tr><tr><td>wrap_positions</td><td>position(s) at which wrapping is to occur; 'n' is after the nth comma.</td><td>()</td><td>()</td><td>('with_wrapping_at',)</td></tr>\n",
       "<tr><td>justification</td><td>if any wrap positions are set, justify to the 'left', 'center', or 'right'</td><td>left</td><td>left</td><td>('with_justification',)</td></tr>\n",
       "</table>\n"
      ],
      "text/plain": [
       "style name: wrap_positions\n",
       "description: position(s) at which wrapping is to occur; 'n' is after the nth comma.\n",
       "default: ()\n",
       "current value: ()\n",
       "related methods: ('with_wrapping_at',)\n",
       "style name: justification\n",
       "description: if any wrap positions are set, justify to the 'left', 'center', or 'right'\n",
       "default: left\n",
       "current value: left\n",
       "related methods: ('with_justification',)"
      ]
     },
     "metadata": {},
     "output_type": "display_data"
    }
   ],
   "source": [
    "stored_expr.style_options()"
   ]
  },
  {
   "cell_type": "code",
   "execution_count": 6,
   "metadata": {},
   "outputs": [
    {
     "data": {
      "text/html": [
       "<table><tr><th>&nbsp;</th><th>core type</th><th>sub-expressions</th><th>expression</th></tr>\n",
       "<tr><td>0</td><td>ExprTuple</td><td>1, 2</td><td><a class=\"ProveItLink\" href=\"expr.ipynb\"><img src=\"expr.png\" style=\"display:inline;vertical-align:middle;\" /></a></td></tr>\n",
       "<tr><td>1</td><td>Operation</td><td>operator:&nbsp;29<br>operands:&nbsp;3<br></td><td><a class=\"ProveItLink\" href=\"../582792632bfab7c973cf9a364432c5feadbd7c3b0/expr.ipynb\"><img src=\"../582792632bfab7c973cf9a364432c5feadbd7c3b0/expr.png\" style=\"display:inline;vertical-align:middle;\" /></a></td></tr>\n",
       "<tr><td>2</td><td>Operation</td><td>operator:&nbsp;4<br>operands:&nbsp;5<br></td><td><a class=\"ProveItLink\" href=\"../a8d3f282bc03767acd03feed351eaf0717e5f78e0/expr.ipynb\"><img src=\"../a8d3f282bc03767acd03feed351eaf0717e5f78e0/expr.png\" style=\"display:inline;vertical-align:middle;\" /></a></td></tr>\n",
       "<tr><td>3</td><td>ExprTuple</td><td>13, 6</td><td><a class=\"ProveItLink\" href=\"../7698189adea37c4a69e46c8cf3a875cb051e6fb10/expr.ipynb\"><img src=\"../7698189adea37c4a69e46c8cf3a875cb051e6fb10/expr.png\" style=\"display:inline;vertical-align:middle;\" /></a></td></tr>\n",
       "<tr><td>4</td><td>Literal</td><td></td><td><a class=\"ProveItLink\" href=\"../../../../../logic/equality/__pv_it/common/fb96dc12b2aa8801dda64d0132b396c63d1502bb0/expr.ipynb\"><img src=\"../../../../../logic/equality/__pv_it/common/fb96dc12b2aa8801dda64d0132b396c63d1502bb0/expr.png\" style=\"display:inline;vertical-align:middle;\" /></a></td></tr>\n",
       "<tr><td>5</td><td>ExprTuple</td><td>7, 8</td><td><a class=\"ProveItLink\" href=\"../2bf16619daaba043ae9c0c670994a1141e6777320/expr.ipynb\"><img src=\"../2bf16619daaba043ae9c0c670994a1141e6777320/expr.png\" style=\"display:inline;vertical-align:middle;\" /></a></td></tr>\n",
       "<tr><td>6</td><td>Operation</td><td>operator:&nbsp;33<br>operands:&nbsp;9<br></td><td><a class=\"ProveItLink\" href=\"../aaa1c177cc2a31e4bd66f6455419d211c74e9e4f0/expr.ipynb\"><img src=\"../aaa1c177cc2a31e4bd66f6455419d211c74e9e4f0/expr.png\" style=\"display:inline;vertical-align:middle;\" /></a></td></tr>\n",
       "<tr><td>7</td><td>Operation</td><td>operator:&nbsp;31<br>operands:&nbsp;10<br></td><td><a class=\"ProveItLink\" href=\"../2630fddad5145c4198eb49649bc4dd3df92dd0950/expr.ipynb\"><img src=\"../2630fddad5145c4198eb49649bc4dd3df92dd0950/expr.png\" style=\"display:inline;vertical-align:middle;\" /></a></td></tr>\n",
       "<tr><td>8</td><td>Operation</td><td>operator:&nbsp;17<br>operand:&nbsp;14<br></td><td><a class=\"ProveItLink\" href=\"../5fff25bccec961e2a6efc05a394eb7b0025e28ce0/expr.ipynb\"><img src=\"../5fff25bccec961e2a6efc05a394eb7b0025e28ce0/expr.png\" style=\"display:inline;vertical-align:middle;\" /></a></td></tr>\n",
       "<tr><td>9</td><td>ExprTuple</td><td>12, 12, 12</td><td><a class=\"ProveItLink\" href=\"../79578f6bff9a0254ba7fb051258aff4db25e02260/expr.ipynb\"><img src=\"../79578f6bff9a0254ba7fb051258aff4db25e02260/expr.png\" style=\"display:inline;vertical-align:middle;\" /></a></td></tr>\n",
       "<tr><td>10</td><td>ExprTuple</td><td>27, 13</td><td><a class=\"ProveItLink\" href=\"../c331ef260f0a2188194eff470949c8cff5c312920/expr.ipynb\"><img src=\"../c331ef260f0a2188194eff470949c8cff5c312920/expr.png\" style=\"display:inline;vertical-align:middle;\" /></a></td></tr>\n",
       "<tr><td>11</td><td>ExprTuple</td><td>14</td><td><a class=\"ProveItLink\" href=\"../833d5b5ea333c560d0a70a582a41fad123683f340/expr.ipynb\"><img src=\"../833d5b5ea333c560d0a70a582a41fad123683f340/expr.png\" style=\"display:inline;vertical-align:middle;\" /></a></td></tr>\n",
       "<tr><td>12</td><td>Operation</td><td>operator:&nbsp;15<br>operands:&nbsp;16<br></td><td><a class=\"ProveItLink\" href=\"../b09d232dc6c8bd1b305d141dd063505555f74fe50/expr.ipynb\"><img src=\"../b09d232dc6c8bd1b305d141dd063505555f74fe50/expr.png\" style=\"display:inline;vertical-align:middle;\" /></a></td></tr>\n",
       "<tr><td>13</td><td>Operation</td><td>operator:&nbsp;17<br>operand:&nbsp;22<br></td><td><a class=\"ProveItLink\" href=\"../3a8335bda71f91a3f3663df358bdc92332777cb40/expr.ipynb\"><img src=\"../3a8335bda71f91a3f3663df358bdc92332777cb40/expr.png\" style=\"display:inline;vertical-align:middle;\" /></a></td></tr>\n",
       "<tr><td>14</td><td>Lambda</td><td>parameter:&nbsp;47<br>body:&nbsp;19<br></td><td><a class=\"ProveItLink\" href=\"../164ad3bfa203c225ae570176b872eade16ac51900/expr.ipynb\"><img src=\"../164ad3bfa203c225ae570176b872eade16ac51900/expr.png\" style=\"display:inline;vertical-align:middle;\" /></a></td></tr>\n",
       "<tr><td>15</td><td>Literal</td><td></td><td><a class=\"ProveItLink\" href=\"../../../../../logic/sets/cartesian_products/__pv_it/common/7d20d67ddfbd94ad12efc9670c0d16a295b8ec1a0/expr.ipynb\"><img src=\"../../../../../logic/sets/cartesian_products/__pv_it/common/7d20d67ddfbd94ad12efc9670c0d16a295b8ec1a0/expr.png\" style=\"display:inline;vertical-align:middle;\" /></a></td></tr>\n",
       "<tr><td>16</td><td>ExprTuple</td><td>20, 21</td><td><a class=\"ProveItLink\" href=\"../7153ff9c6d56816696f64f5d4ee2610a6f3959e70/expr.ipynb\"><img src=\"../7153ff9c6d56816696f64f5d4ee2610a6f3959e70/expr.png\" style=\"display:inline;vertical-align:middle;\" /></a></td></tr>\n",
       "<tr><td>17</td><td>Literal</td><td></td><td><a class=\"ProveItLink\" href=\"../../../../addition/__pv_it/common/62f73c830c62efb87627ede5678f282081cd0ce20/expr.ipynb\"><img src=\"../../../../addition/__pv_it/common/62f73c830c62efb87627ede5678f282081cd0ce20/expr.png\" style=\"display:inline;vertical-align:middle;\" /></a></td></tr>\n",
       "<tr><td>18</td><td>ExprTuple</td><td>22</td><td><a class=\"ProveItLink\" href=\"../d837a30cf456c77260ea4cd94d53909e536b36ef0/expr.ipynb\"><img src=\"../d837a30cf456c77260ea4cd94d53909e536b36ef0/expr.png\" style=\"display:inline;vertical-align:middle;\" /></a></td></tr>\n",
       "<tr><td>19</td><td>Conditional</td><td>value:&nbsp;23<br>condition:&nbsp;26<br></td><td><a class=\"ProveItLink\" href=\"../f73186117870bae6b348e3060781f370e4f418950/expr.ipynb\"><img src=\"../f73186117870bae6b348e3060781f370e4f418950/expr.png\" style=\"display:inline;vertical-align:middle;\" /></a></td></tr>\n",
       "<tr><td>20</td><td>Literal</td><td></td><td><a class=\"ProveItLink\" href=\"../../../../../numbers/number_sets/real_numbers/__pv_it/common/93cac87a1a47e613f7a83b23ef7891599a1a4cca0/expr.ipynb\"><img src=\"../../../../../numbers/number_sets/real_numbers/__pv_it/common/93cac87a1a47e613f7a83b23ef7891599a1a4cca0/expr.png\" style=\"display:inline;vertical-align:middle;\" /></a></td></tr>\n",
       "<tr><td>21</td><td>Literal</td><td></td><td><a class=\"ProveItLink\" href=\"../../../../../numbers/numerals/__pv_it/common/1943b60945420e340d305780feff5c1aff2740ff0/expr.ipynb\"><img src=\"../../../../../numbers/numerals/__pv_it/common/1943b60945420e340d305780feff5c1aff2740ff0/expr.png\" style=\"display:inline;vertical-align:middle;\" /></a></td></tr>\n",
       "<tr><td>22</td><td>Lambda</td><td>parameter:&nbsp;47<br>body:&nbsp;24<br></td><td><a class=\"ProveItLink\" href=\"../f360dee40c110a0ba222793e375ac4577674c7c80/expr.ipynb\"><img src=\"../f360dee40c110a0ba222793e375ac4577674c7c80/expr.png\" style=\"display:inline;vertical-align:middle;\" /></a></td></tr>\n",
       "<tr><td>23</td><td>Operation</td><td>operator:&nbsp;31<br>operands:&nbsp;25<br></td><td><a class=\"ProveItLink\" href=\"../d96a468cc648022b39ddb0645b454755307b736e0/expr.ipynb\"><img src=\"../d96a468cc648022b39ddb0645b454755307b736e0/expr.png\" style=\"display:inline;vertical-align:middle;\" /></a></td></tr>\n",
       "<tr><td>24</td><td>Conditional</td><td>value:&nbsp;28<br>condition:&nbsp;26<br></td><td><a class=\"ProveItLink\" href=\"../4c60e8969f65908a224f68f53841b6e76480e35b0/expr.ipynb\"><img src=\"../4c60e8969f65908a224f68f53841b6e76480e35b0/expr.png\" style=\"display:inline;vertical-align:middle;\" /></a></td></tr>\n",
       "<tr><td>25</td><td>ExprTuple</td><td>27, 28</td><td><a class=\"ProveItLink\" href=\"../c55c10b9deda115092508d830314c11fb800ab4d0/expr.ipynb\"><img src=\"../c55c10b9deda115092508d830314c11fb800ab4d0/expr.png\" style=\"display:inline;vertical-align:middle;\" /></a></td></tr>\n",
       "<tr><td>26</td><td>Operation</td><td>operator:&nbsp;29<br>operands:&nbsp;30<br></td><td><a class=\"ProveItLink\" href=\"../1dcee5d42a9a39499a39768abf9beb5a120321210/expr.ipynb\"><img src=\"../1dcee5d42a9a39499a39768abf9beb5a120321210/expr.png\" style=\"display:inline;vertical-align:middle;\" /></a></td></tr>\n",
       "<tr><td>27</td><td>Operation</td><td>operator:&nbsp;31<br>operands:&nbsp;32<br></td><td><a class=\"ProveItLink\" href=\"../268f22afb3a50352cfc9cc5e5138b58a0316fd9e0/expr.ipynb\"><img src=\"../268f22afb3a50352cfc9cc5e5138b58a0316fd9e0/expr.png\" style=\"display:inline;vertical-align:middle;\" /></a></td></tr>\n",
       "<tr><td>28</td><td>Operation</td><td>operator:&nbsp;33<br>operands:&nbsp;34<br></td><td><a class=\"ProveItLink\" href=\"../cb76e5a88512492dc702284412ece61dcb206f110/expr.ipynb\"><img src=\"../cb76e5a88512492dc702284412ece61dcb206f110/expr.png\" style=\"display:inline;vertical-align:middle;\" /></a></td></tr>\n",
       "<tr><td>29</td><td>Literal</td><td></td><td><a class=\"ProveItLink\" href=\"../../../../../logic/sets/membership/__pv_it/common/477487d8796864d23d5810f83761435f25167f690/expr.ipynb\"><img src=\"../../../../../logic/sets/membership/__pv_it/common/477487d8796864d23d5810f83761435f25167f690/expr.png\" style=\"display:inline;vertical-align:middle;\" /></a></td></tr>\n",
       "<tr><td>30</td><td>ExprTuple</td><td>47, 35</td><td><a class=\"ProveItLink\" href=\"../28d2afb06ec85f8673a332040f8f84c54020e9590/expr.ipynb\"><img src=\"../28d2afb06ec85f8673a332040f8f84c54020e9590/expr.png\" style=\"display:inline;vertical-align:middle;\" /></a></td></tr>\n",
       "<tr><td>31</td><td>Literal</td><td></td><td><a class=\"ProveItLink\" href=\"../../../../scalar_multiplication/__pv_it/common/1e364bd471e6a29fcd358dd2d9cd990a1e6fedd40/expr.ipynb\"><img src=\"../../../../scalar_multiplication/__pv_it/common/1e364bd471e6a29fcd358dd2d9cd990a1e6fedd40/expr.png\" style=\"display:inline;vertical-align:middle;\" /></a></td></tr>\n",
       "<tr><td>32</td><td>ExprTuple</td><td>36, 37</td><td><a class=\"ProveItLink\" href=\"../ab41256eeaff63278cf61798d37e7b2a94deb9580/expr.ipynb\"><img src=\"../ab41256eeaff63278cf61798d37e7b2a94deb9580/expr.png\" style=\"display:inline;vertical-align:middle;\" /></a></td></tr>\n",
       "<tr><td>33</td><td>Literal</td><td></td><td><a class=\"ProveItLink\" href=\"../../common/7fa25b05174babb4710be62d63ebd43f68aa2fec0/expr.ipynb\"><img src=\"../../common/7fa25b05174babb4710be62d63ebd43f68aa2fec0/expr.png\" style=\"display:inline;vertical-align:middle;\" /></a></td></tr>\n",
       "<tr><td>34</td><td>ExprTuple</td><td>38, 39, 40</td><td><a class=\"ProveItLink\" href=\"../06bc674d0c4973c4cf3d20367ce458cbec12321b0/expr.ipynb\"><img src=\"../06bc674d0c4973c4cf3d20367ce458cbec12321b0/expr.png\" style=\"display:inline;vertical-align:middle;\" /></a></td></tr>\n",
       "<tr><td>35</td><td>Operation</td><td>operator:&nbsp;41<br>operands:&nbsp;42<br></td><td><a class=\"ProveItLink\" href=\"../d52b7b54dc47ec2badf6859f9847ff1f1b35483a0/expr.ipynb\"><img src=\"../d52b7b54dc47ec2badf6859f9847ff1f1b35483a0/expr.png\" style=\"display:inline;vertical-align:middle;\" /></a></td></tr>\n",
       "<tr><td>36</td><td>Variable</td><td></td><td><a class=\"ProveItLink\" href=\"../../../../../__pv_it/common/d3b5a05ce48f7e4b8f946549743adda31d51d0e80/expr.ipynb\"><img src=\"../../../../../__pv_it/common/d3b5a05ce48f7e4b8f946549743adda31d51d0e80/expr.png\" style=\"display:inline;vertical-align:middle;\" /></a></td></tr>\n",
       "<tr><td>37</td><td>Variable</td><td></td><td><a class=\"ProveItLink\" href=\"../../../../../__pv_it/common/c713a5db2586f854a5051c95110df24af02bd7260/expr.ipynb\"><img src=\"../../../../../__pv_it/common/c713a5db2586f854a5051c95110df24af02bd7260/expr.png\" style=\"display:inline;vertical-align:middle;\" /></a></td></tr>\n",
       "<tr><td>38</td><td>Variable</td><td></td><td><a class=\"ProveItLink\" href=\"../../../../../__pv_it/common/a0d9d672aa5e272d907247690c152cc2c6daafb70/expr.ipynb\"><img src=\"../../../../../__pv_it/common/a0d9d672aa5e272d907247690c152cc2c6daafb70/expr.png\" style=\"display:inline;vertical-align:middle;\" /></a></td></tr>\n",
       "<tr><td>39</td><td>Operation</td><td>operator:&nbsp;43<br>operand:&nbsp;47<br></td><td><a class=\"ProveItLink\" href=\"../../../../../__pv_it/common/68d279ba17eb875d9f466a293b0b7fcc3ad8621e0/expr.ipynb\"><img src=\"../../../../../__pv_it/common/68d279ba17eb875d9f466a293b0b7fcc3ad8621e0/expr.png\" style=\"display:inline;vertical-align:middle;\" /></a></td></tr>\n",
       "<tr><td>40</td><td>Variable</td><td></td><td><a class=\"ProveItLink\" href=\"../../../../../__pv_it/common/ff7dba4ef0bbe791ab573bf2d9c220a304399ac80/expr.ipynb\"><img src=\"../../../../../__pv_it/common/ff7dba4ef0bbe791ab573bf2d9c220a304399ac80/expr.png\" style=\"display:inline;vertical-align:middle;\" /></a></td></tr>\n",
       "<tr><td>41</td><td>Literal</td><td></td><td><a class=\"ProveItLink\" href=\"../../../../../numbers/number_sets/integers/__pv_it/common/92f3a0a77e3c3ea8e4a5c8674edadc54e4f57d550/expr.ipynb\"><img src=\"../../../../../numbers/number_sets/integers/__pv_it/common/92f3a0a77e3c3ea8e4a5c8674edadc54e4f57d550/expr.png\" style=\"display:inline;vertical-align:middle;\" /></a></td></tr>\n",
       "<tr><td>42</td><td>ExprTuple</td><td>45, 46</td><td><a class=\"ProveItLink\" href=\"../4dcdc5026f80b9604cf319714818529aceda286b0/expr.ipynb\"><img src=\"../4dcdc5026f80b9604cf319714818529aceda286b0/expr.png\" style=\"display:inline;vertical-align:middle;\" /></a></td></tr>\n",
       "<tr><td>43</td><td>Variable</td><td></td><td><a class=\"ProveItLink\" href=\"../../../../../__pv_it/common/01b6dbb444a31fc38af4c2379badef6c75b363710/expr.ipynb\"><img src=\"../../../../../__pv_it/common/01b6dbb444a31fc38af4c2379badef6c75b363710/expr.png\" style=\"display:inline;vertical-align:middle;\" /></a></td></tr>\n",
       "<tr><td>44</td><td>ExprTuple</td><td>47</td><td><a class=\"ProveItLink\" href=\"../../../../../__pv_it/common/3b7d7ace2ced0a8261ea4d18d03aaf49e434d69d0/expr.ipynb\"><img src=\"../../../../../__pv_it/common/3b7d7ace2ced0a8261ea4d18d03aaf49e434d69d0/expr.png\" style=\"display:inline;vertical-align:middle;\" /></a></td></tr>\n",
       "<tr><td>45</td><td>Literal</td><td></td><td><a class=\"ProveItLink\" href=\"../../../../../numbers/numerals/__pv_it/common/af4aab8a07465db063742696e006d04670f30cf10/expr.ipynb\"><img src=\"../../../../../numbers/numerals/__pv_it/common/af4aab8a07465db063742696e006d04670f30cf10/expr.png\" style=\"display:inline;vertical-align:middle;\" /></a></td></tr>\n",
       "<tr><td>46</td><td>Literal</td><td></td><td><a class=\"ProveItLink\" href=\"../../../../../numbers/numerals/__pv_it/common/48a1d915c1e9490b9a94e5c77a208938d3ee20ce0/expr.ipynb\"><img src=\"../../../../../numbers/numerals/__pv_it/common/48a1d915c1e9490b9a94e5c77a208938d3ee20ce0/expr.png\" style=\"display:inline;vertical-align:middle;\" /></a></td></tr>\n",
       "<tr><td>47</td><td>Variable</td><td></td><td><a class=\"ProveItLink\" href=\"../../../../../__pv_it/common/ae955345c83abf786c3aff8681cd5465beae262d0/expr.ipynb\"><img src=\"../../../../../__pv_it/common/ae955345c83abf786c3aff8681cd5465beae262d0/expr.png\" style=\"display:inline;vertical-align:middle;\" /></a></td></tr>\n",
       "</table>\n"
      ],
      "text/plain": [
       "0. ((Sum_{i=2}^{4} (x otimes f(i) otimes y)) in (Real^{3} otimes Real^{3} otimes Real^{3}), ((gamma * beta) * (Sum_{i=2}^{4} (x otimes f(i) otimes y))) \\\\  = (Sum_{i=2}^{4} ((gamma * beta) * (x otimes f(i) otimes y))))\n",
       "   core type: ExprTuple\n",
       "   sub-expressions: 1, 2\n",
       "1. (Sum_{i=2}^{4} (x otimes f(i) otimes y)) in (Real^{3} otimes Real^{3} otimes Real^{3})\n",
       "   core type: Operation\n",
       "   operator: 29\n",
       "   operands: 3\n",
       "2. ((gamma * beta) * (Sum_{i=2}^{4} (x otimes f(i) otimes y))) \\\\  = (Sum_{i=2}^{4} ((gamma * beta) * (x otimes f(i) otimes y)))\n",
       "   core type: Operation\n",
       "   operator: 4\n",
       "   operands: 5\n",
       "3. (Sum_{i=2}^{4} (x otimes f(i) otimes y), Real^{3} otimes Real^{3} otimes Real^{3})\n",
       "   core type: ExprTuple\n",
       "   sub-expressions: 13, 6\n",
       "4. =\n",
       "   core type: Literal\n",
       "   sub-expressions: \n",
       "5. ((gamma * beta) * (Sum_{i=2}^{4} (x otimes f(i) otimes y)), Sum_{i=2}^{4} ((gamma * beta) * (x otimes f(i) otimes y)))\n",
       "   core type: ExprTuple\n",
       "   sub-expressions: 7, 8\n",
       "6. Real^{3} otimes Real^{3} otimes Real^{3}\n",
       "   core type: Operation\n",
       "   operator: 33\n",
       "   operands: 9\n",
       "7. (gamma * beta) * (Sum_{i=2}^{4} (x otimes f(i) otimes y))\n",
       "   core type: Operation\n",
       "   operator: 31\n",
       "   operands: 10\n",
       "8. Sum_{i=2}^{4} ((gamma * beta) * (x otimes f(i) otimes y))\n",
       "   core type: Operation\n",
       "   operator: 17\n",
       "   operand: 14\n",
       "9. (Real^{3}, Real^{3}, Real^{3})\n",
       "   core type: ExprTuple\n",
       "   sub-expressions: 12, 12, 12\n",
       "10. (gamma * beta, Sum_{i=2}^{4} (x otimes f(i) otimes y))\n",
       "    core type: ExprTuple\n",
       "    sub-expressions: 27, 13\n",
       "11. (i -> {(gamma * beta) * (x otimes f(i) otimes y) if i in {2 .. 4}.)\n",
       "    core type: ExprTuple\n",
       "    sub-expressions: 14\n",
       "12. Real^{3}\n",
       "    core type: Operation\n",
       "    operator: 15\n",
       "    operands: 16\n",
       "13. Sum_{i=2}^{4} (x otimes f(i) otimes y)\n",
       "    core type: Operation\n",
       "    operator: 17\n",
       "    operand: 22\n",
       "14. i -> {(gamma * beta) * (x otimes f(i) otimes y) if i in {2 .. 4}.\n",
       "    core type: Lambda\n",
       "    parameter: 47\n",
       "    body: 19\n",
       "15. CartExp\n",
       "    core type: Literal\n",
       "    sub-expressions: \n",
       "16. (Real, 3)\n",
       "    core type: ExprTuple\n",
       "    sub-expressions: 20, 21\n",
       "17. Sum\n",
       "    core type: Literal\n",
       "    sub-expressions: \n",
       "18. (i -> {x otimes f(i) otimes y if i in {2 .. 4}.)\n",
       "    core type: ExprTuple\n",
       "    sub-expressions: 22\n",
       "19. {(gamma * beta) * (x otimes f(i) otimes y) if i in {2 .. 4}.\n",
       "    core type: Conditional\n",
       "    value: 23\n",
       "    condition: 26\n",
       "20. Real\n",
       "    core type: Literal\n",
       "    sub-expressions: \n",
       "21. 3\n",
       "    core type: Literal\n",
       "    sub-expressions: \n",
       "22. i -> {x otimes f(i) otimes y if i in {2 .. 4}.\n",
       "    core type: Lambda\n",
       "    parameter: 47\n",
       "    body: 24\n",
       "23. (gamma * beta) * (x otimes f(i) otimes y)\n",
       "    core type: Operation\n",
       "    operator: 31\n",
       "    operands: 25\n",
       "24. {x otimes f(i) otimes y if i in {2 .. 4}.\n",
       "    core type: Conditional\n",
       "    value: 28\n",
       "    condition: 26\n",
       "25. (gamma * beta, x otimes f(i) otimes y)\n",
       "    core type: ExprTuple\n",
       "    sub-expressions: 27, 28\n",
       "26. i in {2 .. 4}\n",
       "    core type: Operation\n",
       "    operator: 29\n",
       "    operands: 30\n",
       "27. gamma * beta\n",
       "    core type: Operation\n",
       "    operator: 31\n",
       "    operands: 32\n",
       "28. x otimes f(i) otimes y\n",
       "    core type: Operation\n",
       "    operator: 33\n",
       "    operands: 34\n",
       "29. in\n",
       "    core type: Literal\n",
       "    sub-expressions: \n",
       "30. (i, {2 .. 4})\n",
       "    core type: ExprTuple\n",
       "    sub-expressions: 47, 35\n",
       "31. *\n",
       "    core type: Literal\n",
       "    sub-expressions: \n",
       "32. (gamma, beta)\n",
       "    core type: ExprTuple\n",
       "    sub-expressions: 36, 37\n",
       "33. otimes\n",
       "    core type: Literal\n",
       "    sub-expressions: \n",
       "34. (x, f(i), y)\n",
       "    core type: ExprTuple\n",
       "    sub-expressions: 38, 39, 40\n",
       "35. {2 .. 4}\n",
       "    core type: Operation\n",
       "    operator: 41\n",
       "    operands: 42\n",
       "36. gamma\n",
       "    core type: Variable\n",
       "    sub-expressions: \n",
       "37. beta\n",
       "    core type: Variable\n",
       "    sub-expressions: \n",
       "38. x\n",
       "    core type: Variable\n",
       "    sub-expressions: \n",
       "39. f(i)\n",
       "    core type: Operation\n",
       "    operator: 43\n",
       "    operand: 47\n",
       "40. y\n",
       "    core type: Variable\n",
       "    sub-expressions: \n",
       "41. Interval\n",
       "    core type: Literal\n",
       "    sub-expressions: \n",
       "42. (2, 4)\n",
       "    core type: ExprTuple\n",
       "    sub-expressions: 45, 46\n",
       "43. f\n",
       "    core type: Variable\n",
       "    sub-expressions: \n",
       "44. (i)\n",
       "    core type: ExprTuple\n",
       "    sub-expressions: 47\n",
       "45. 2\n",
       "    core type: Literal\n",
       "    sub-expressions: \n",
       "46. 4\n",
       "    core type: Literal\n",
       "    sub-expressions: \n",
       "47. i\n",
       "    core type: Variable\n",
       "    sub-expressions: "
      ]
     },
     "metadata": {},
     "output_type": "display_data"
    }
   ],
   "source": [
    "# display the expression information\n",
    "stored_expr.expr_info()"
   ]
  },
  {
   "cell_type": "code",
   "execution_count": null,
   "metadata": {},
   "outputs": [],
   "source": []
  }
 ],
 "metadata": {
  "kernelspec": {
   "display_name": "Python 3",
   "language": "python",
   "name": "python3"
  }
 },
 "nbformat": 4,
 "nbformat_minor": 0
}