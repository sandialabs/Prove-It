{
 "cells": [
  {
   "cell_type": "markdown",
   "metadata": {},
   "source": [
    "Expression of type <a class=\"ProveItLink\" href=\"../../../../../../../doc/html/api/proveit.logic.Implies.html\">Implies</a>\n",
    "=======================\n",
    "# from the theory of <a class=\"ProveItLink\" href=\"../../../_theory_nbs_/theory.ipynb\">proveit.linear_algebra.tensors</a>"
   ]
  },
  {
   "cell_type": "code",
   "execution_count": 1,
   "metadata": {},
   "outputs": [],
   "source": [
    "import proveit\n",
    "# Automation is not needed when building an expression:\n",
    "proveit.defaults.automation = False # This will speed things up.\n",
    "proveit.defaults.inline_pngs = False # Makes files smaller.\n",
    "%load_expr # Load the stored expression as 'stored_expr'\n",
    "# import Expression classes needed to build the expression\n",
    "from proveit import fi, i, x, z\n",
    "from proveit.linear_algebra import TensorProd, VecSum\n",
    "from proveit.logic import CartExp, Equals, Forall, Implies, InSet\n",
    "from proveit.numbers import Interval, Real, one, three"
   ]
  },
  {
   "cell_type": "code",
   "execution_count": 2,
   "metadata": {},
   "outputs": [
    {
     "data": {
      "text/html": [
       "<strong id=\"expr\">expr:</strong> <a class=\"ProveItLink\" href=\"expr.ipynb\"><img src=\"expr.png\" style=\"display:inline;vertical-align:middle;\" /></a><br>"
      ],
      "text/plain": [
       "<IPython.core.display.HTML object>"
      ]
     },
     "metadata": {},
     "output_type": "display_data"
    }
   ],
   "source": [
    "# build up the expression from sub-expressions\n",
    "sub_expr1 = [i]\n",
    "sub_expr2 = CartExp(Real, three)\n",
    "sub_expr3 = Interval(one, three)\n",
    "sub_expr4 = TensorProd(x, fi, z)\n",
    "expr = Implies(Forall(instance_param_or_params = sub_expr1, instance_expr = InSet(sub_expr4, TensorProd(sub_expr2, sub_expr2, sub_expr2)), domain = sub_expr3), Equals(TensorProd(x, VecSum(index_or_indices = sub_expr1, summand = fi, domain = sub_expr3), z), VecSum(index_or_indices = sub_expr1, summand = sub_expr4, domain = sub_expr3)).with_wrapping_at(1)).with_wrapping_at(2)"
   ]
  },
  {
   "cell_type": "code",
   "execution_count": 3,
   "metadata": {},
   "outputs": [
    {
     "name": "stdout",
     "output_type": "stream",
     "text": [
      "Passed sanity check: expr matches stored_expr\n"
     ]
    }
   ],
   "source": [
    "# check that the built expression is the same as the stored expression\n",
    "assert expr == stored_expr\n",
    "assert expr._style_id == stored_expr._style_id\n",
    "print(\"Passed sanity check: expr matches stored_expr\")"
   ]
  },
  {
   "cell_type": "code",
   "execution_count": 4,
   "metadata": {},
   "outputs": [
    {
     "name": "stdout",
     "output_type": "stream",
     "text": [
      "\\begin{array}{c} \\begin{array}{l} \\left[\\forall_{i \\in \\{1~\\ldotp \\ldotp~3\\}}~\\left(\\left(x {\\otimes} f\\left(i\\right) {\\otimes} z\\right) \\in \\left(\\mathbb{R}^{3} {\\otimes} \\mathbb{R}^{3} {\\otimes} \\mathbb{R}^{3}\\right)\\right)\\right] \\Rightarrow  \\\\ \\left(\\begin{array}{c} \\begin{array}{l} \\left(x {\\otimes} \\left(\\sum_{i=1}^{3} f\\left(i\\right)\\right) {\\otimes} z\\right) \\\\  = \\left(\\sum_{i=1}^{3} \\left(x {\\otimes} f\\left(i\\right) {\\otimes} z\\right)\\right) \\end{array} \\end{array}\\right) \\end{array} \\end{array}\n"
     ]
    }
   ],
   "source": [
    "# Show the LaTeX representation of the expression for convenience if you need it.\n",
    "print(stored_expr.latex())"
   ]
  },
  {
   "cell_type": "code",
   "execution_count": 5,
   "metadata": {},
   "outputs": [
    {
     "data": {
      "text/html": [
       "<table>\n",
       "<tr><th>name</th><th>description</th><th>default</th><th>current value</th><th>related methods</th></tr><tr><td>operation</td><td>'infix' or 'function' style formatting</td><td>infix</td><td>infix</td><td></td></tr>\n",
       "<tr><td>wrap_positions</td><td>position(s) at which wrapping is to occur; '2 n - 1' is after the nth operand, '2 n' is after the nth operation.</td><td>()</td><td>(2)</td><td>('with_wrapping_at', 'with_wrap_before_operator', 'with_wrap_after_operator', 'without_wrapping', 'wrap_positions')</td></tr>\n",
       "<tr><td>justification</td><td>if any wrap positions are set, justify to the 'left', 'center', or 'right'</td><td>center</td><td>center</td><td>('with_justification',)</td></tr>\n",
       "<tr><td>direction</td><td>Direction of the relation (normal or reversed)</td><td>normal</td><td>normal</td><td>('with_direction_reversed', 'is_reversed')</td></tr>\n",
       "</table>\n"
      ],
      "text/plain": [
       "style name: operation\n",
       "description: 'infix' or 'function' style formatting\n",
       "default: infix\n",
       "current value: infix\n",
       "related methods: ()\n",
       "style name: wrap_positions\n",
       "description: position(s) at which wrapping is to occur; '2 n - 1' is after the nth operand, '2 n' is after the nth operation.\n",
       "default: ()\n",
       "current value: (2)\n",
       "related methods: ('with_wrapping_at', 'with_wrap_before_operator', 'with_wrap_after_operator', 'without_wrapping', 'wrap_positions')\n",
       "style name: justification\n",
       "description: if any wrap positions are set, justify to the 'left', 'center', or 'right'\n",
       "default: center\n",
       "current value: center\n",
       "related methods: ('with_justification',)\n",
       "style name: direction\n",
       "description: Direction of the relation (normal or reversed)\n",
       "default: normal\n",
       "current value: normal\n",
       "related methods: ('with_direction_reversed', 'is_reversed')"
      ]
     },
     "metadata": {},
     "output_type": "display_data"
    }
   ],
   "source": [
    "stored_expr.style_options()"
   ]
  },
  {
   "cell_type": "code",
   "execution_count": 6,
   "metadata": {},
   "outputs": [
    {
     "data": {
      "text/html": [
       "<table><tr><th>&nbsp;</th><th>core type</th><th>sub-expressions</th><th>expression</th></tr>\n",
       "<tr><td>0</td><td>Operation</td><td>operator:&nbsp;1<br>operands:&nbsp;2<br></td><td><a class=\"ProveItLink\" href=\"expr.ipynb\"><img src=\"expr.png\" style=\"display:inline;vertical-align:middle;\" /></a></td></tr>\n",
       "<tr><td>1</td><td>Literal</td><td></td><td><a class=\"ProveItLink\" href=\"../../../../../logic/booleans/implication/__pv_it/common/02bdb382575728da8cdbaed545b9096ea7a1bd5b0/expr.ipynb\"><img src=\"../../../../../logic/booleans/implication/__pv_it/common/02bdb382575728da8cdbaed545b9096ea7a1bd5b0/expr.png\" style=\"display:inline;vertical-align:middle;\" /></a></td></tr>\n",
       "<tr><td>2</td><td>ExprTuple</td><td>3, 4</td><td><a class=\"ProveItLink\" href=\"../3cf7778b87a74f7f30e9960f19bf30c78556ec560/expr.ipynb\"><img src=\"../3cf7778b87a74f7f30e9960f19bf30c78556ec560/expr.png\" style=\"display:inline;vertical-align:middle;\" /></a></td></tr>\n",
       "<tr><td>3</td><td>Operation</td><td>operator:&nbsp;5<br>operand:&nbsp;9<br></td><td><a class=\"ProveItLink\" href=\"../9a487ba7228d1a652ecfd6be7e79aac789fcd2170/expr.ipynb\"><img src=\"../9a487ba7228d1a652ecfd6be7e79aac789fcd2170/expr.png\" style=\"display:inline;vertical-align:middle;\" /></a></td></tr>\n",
       "<tr><td>4</td><td>Operation</td><td>operator:&nbsp;7<br>operands:&nbsp;8<br></td><td><a class=\"ProveItLink\" href=\"../2adf514f76e503a61128500cb86d8eb4fc5b36d90/expr.ipynb\"><img src=\"../2adf514f76e503a61128500cb86d8eb4fc5b36d90/expr.png\" style=\"display:inline;vertical-align:middle;\" /></a></td></tr>\n",
       "<tr><td>5</td><td>Literal</td><td></td><td><a class=\"ProveItLink\" href=\"../../../../../logic/booleans/quantification/universality/__pv_it/common/083d2baa0b8ecab1d230f9ec29a15aa1355809fb0/expr.ipynb\"><img src=\"../../../../../logic/booleans/quantification/universality/__pv_it/common/083d2baa0b8ecab1d230f9ec29a15aa1355809fb0/expr.png\" style=\"display:inline;vertical-align:middle;\" /></a></td></tr>\n",
       "<tr><td>6</td><td>ExprTuple</td><td>9</td><td><a class=\"ProveItLink\" href=\"../672faade639dbf12fc58c5503f4ba602d867c1920/expr.ipynb\"><img src=\"../672faade639dbf12fc58c5503f4ba602d867c1920/expr.png\" style=\"display:inline;vertical-align:middle;\" /></a></td></tr>\n",
       "<tr><td>7</td><td>Literal</td><td></td><td><a class=\"ProveItLink\" href=\"../../../../../logic/equality/__pv_it/common/fb96dc12b2aa8801dda64d0132b396c63d1502bb0/expr.ipynb\"><img src=\"../../../../../logic/equality/__pv_it/common/fb96dc12b2aa8801dda64d0132b396c63d1502bb0/expr.png\" style=\"display:inline;vertical-align:middle;\" /></a></td></tr>\n",
       "<tr><td>8</td><td>ExprTuple</td><td>10, 11</td><td><a class=\"ProveItLink\" href=\"../21b45b7fc1226d27f6fa04659e8c9e7f2b6eef6f0/expr.ipynb\"><img src=\"../21b45b7fc1226d27f6fa04659e8c9e7f2b6eef6f0/expr.png\" style=\"display:inline;vertical-align:middle;\" /></a></td></tr>\n",
       "<tr><td>9</td><td>Lambda</td><td>parameter:&nbsp;42<br>body:&nbsp;12<br></td><td><a class=\"ProveItLink\" href=\"../9ecfeb80308cebaa009d589696c9cdecb4ffcd940/expr.ipynb\"><img src=\"../9ecfeb80308cebaa009d589696c9cdecb4ffcd940/expr.png\" style=\"display:inline;vertical-align:middle;\" /></a></td></tr>\n",
       "<tr><td>10</td><td>Operation</td><td>operator:&nbsp;27<br>operands:&nbsp;13<br></td><td><a class=\"ProveItLink\" href=\"../a0788f0cf2d8cd4e5ec937a1b9c2a3432bde28c20/expr.ipynb\"><img src=\"../a0788f0cf2d8cd4e5ec937a1b9c2a3432bde28c20/expr.png\" style=\"display:inline;vertical-align:middle;\" /></a></td></tr>\n",
       "<tr><td>11</td><td>Operation</td><td>operator:&nbsp;19<br>operand:&nbsp;17<br></td><td><a class=\"ProveItLink\" href=\"../8334f6c70cefd87575c6c50e2641c500aa505aaa0/expr.ipynb\"><img src=\"../8334f6c70cefd87575c6c50e2641c500aa505aaa0/expr.png\" style=\"display:inline;vertical-align:middle;\" /></a></td></tr>\n",
       "<tr><td>12</td><td>Conditional</td><td>value:&nbsp;15<br>condition:&nbsp;30<br></td><td><a class=\"ProveItLink\" href=\"../885d50ff90f3ab4161dcd7e951cc65446cb9db240/expr.ipynb\"><img src=\"../885d50ff90f3ab4161dcd7e951cc65446cb9db240/expr.png\" style=\"display:inline;vertical-align:middle;\" /></a></td></tr>\n",
       "<tr><td>13</td><td>ExprTuple</td><td>31, 16, 33</td><td><a class=\"ProveItLink\" href=\"../51695d4fc99343096e2c2b08f0c4053f6f6c17060/expr.ipynb\"><img src=\"../51695d4fc99343096e2c2b08f0c4053f6f6c17060/expr.png\" style=\"display:inline;vertical-align:middle;\" /></a></td></tr>\n",
       "<tr><td>14</td><td>ExprTuple</td><td>17</td><td><a class=\"ProveItLink\" href=\"../1f028e06368b3ffad38e6521a87a73452093e3020/expr.ipynb\"><img src=\"../1f028e06368b3ffad38e6521a87a73452093e3020/expr.png\" style=\"display:inline;vertical-align:middle;\" /></a></td></tr>\n",
       "<tr><td>15</td><td>Operation</td><td>operator:&nbsp;36<br>operands:&nbsp;18<br></td><td><a class=\"ProveItLink\" href=\"../0d6df87dd70650df3abf7bf08a8f05526927398c0/expr.ipynb\"><img src=\"../0d6df87dd70650df3abf7bf08a8f05526927398c0/expr.png\" style=\"display:inline;vertical-align:middle;\" /></a></td></tr>\n",
       "<tr><td>16</td><td>Operation</td><td>operator:&nbsp;19<br>operand:&nbsp;23<br></td><td><a class=\"ProveItLink\" href=\"../53807a2773bbe29dc1d2a105f256c6b35a82a32d0/expr.ipynb\"><img src=\"../53807a2773bbe29dc1d2a105f256c6b35a82a32d0/expr.png\" style=\"display:inline;vertical-align:middle;\" /></a></td></tr>\n",
       "<tr><td>17</td><td>Lambda</td><td>parameter:&nbsp;42<br>body:&nbsp;21<br></td><td><a class=\"ProveItLink\" href=\"../cfd74536ac61e224af31dc77832047248b5b8b5a0/expr.ipynb\"><img src=\"../cfd74536ac61e224af31dc77832047248b5b8b5a0/expr.png\" style=\"display:inline;vertical-align:middle;\" /></a></td></tr>\n",
       "<tr><td>18</td><td>ExprTuple</td><td>24, 22</td><td><a class=\"ProveItLink\" href=\"../14813aaf0d6ef8559a2a449f786ecb846a3f7b860/expr.ipynb\"><img src=\"../14813aaf0d6ef8559a2a449f786ecb846a3f7b860/expr.png\" style=\"display:inline;vertical-align:middle;\" /></a></td></tr>\n",
       "<tr><td>19</td><td>Literal</td><td></td><td><a class=\"ProveItLink\" href=\"../../../../addition/__pv_it/common/62f73c830c62efb87627ede5678f282081cd0ce20/expr.ipynb\"><img src=\"../../../../addition/__pv_it/common/62f73c830c62efb87627ede5678f282081cd0ce20/expr.png\" style=\"display:inline;vertical-align:middle;\" /></a></td></tr>\n",
       "<tr><td>20</td><td>ExprTuple</td><td>23</td><td><a class=\"ProveItLink\" href=\"../ac3d5073561386970f536758a5f8a4c22ddd1a4b0/expr.ipynb\"><img src=\"../ac3d5073561386970f536758a5f8a4c22ddd1a4b0/expr.png\" style=\"display:inline;vertical-align:middle;\" /></a></td></tr>\n",
       "<tr><td>21</td><td>Conditional</td><td>value:&nbsp;24<br>condition:&nbsp;30<br></td><td><a class=\"ProveItLink\" href=\"../945a15c19687e6fde102700835d917ba8f8464640/expr.ipynb\"><img src=\"../945a15c19687e6fde102700835d917ba8f8464640/expr.png\" style=\"display:inline;vertical-align:middle;\" /></a></td></tr>\n",
       "<tr><td>22</td><td>Operation</td><td>operator:&nbsp;27<br>operands:&nbsp;25<br></td><td><a class=\"ProveItLink\" href=\"../aaa1c177cc2a31e4bd66f6455419d211c74e9e4f0/expr.ipynb\"><img src=\"../aaa1c177cc2a31e4bd66f6455419d211c74e9e4f0/expr.png\" style=\"display:inline;vertical-align:middle;\" /></a></td></tr>\n",
       "<tr><td>23</td><td>Lambda</td><td>parameter:&nbsp;42<br>body:&nbsp;26<br></td><td><a class=\"ProveItLink\" href=\"../198bd686120f7b9654a6150b97bb112e1c7350fb0/expr.ipynb\"><img src=\"../198bd686120f7b9654a6150b97bb112e1c7350fb0/expr.png\" style=\"display:inline;vertical-align:middle;\" /></a></td></tr>\n",
       "<tr><td>24</td><td>Operation</td><td>operator:&nbsp;27<br>operands:&nbsp;28<br></td><td><a class=\"ProveItLink\" href=\"../ead692c6cb3963e5e2fa7ab95b7b4dbb5c77a9080/expr.ipynb\"><img src=\"../ead692c6cb3963e5e2fa7ab95b7b4dbb5c77a9080/expr.png\" style=\"display:inline;vertical-align:middle;\" /></a></td></tr>\n",
       "<tr><td>25</td><td>ExprTuple</td><td>29, 29, 29</td><td><a class=\"ProveItLink\" href=\"../79578f6bff9a0254ba7fb051258aff4db25e02260/expr.ipynb\"><img src=\"../79578f6bff9a0254ba7fb051258aff4db25e02260/expr.png\" style=\"display:inline;vertical-align:middle;\" /></a></td></tr>\n",
       "<tr><td>26</td><td>Conditional</td><td>value:&nbsp;32<br>condition:&nbsp;30<br></td><td><a class=\"ProveItLink\" href=\"../7852c6e259923d418decde3b31dd5a694be666ab0/expr.ipynb\"><img src=\"../7852c6e259923d418decde3b31dd5a694be666ab0/expr.png\" style=\"display:inline;vertical-align:middle;\" /></a></td></tr>\n",
       "<tr><td>27</td><td>Literal</td><td></td><td><a class=\"ProveItLink\" href=\"../../common/7fa25b05174babb4710be62d63ebd43f68aa2fec0/expr.ipynb\"><img src=\"../../common/7fa25b05174babb4710be62d63ebd43f68aa2fec0/expr.png\" style=\"display:inline;vertical-align:middle;\" /></a></td></tr>\n",
       "<tr><td>28</td><td>ExprTuple</td><td>31, 32, 33</td><td><a class=\"ProveItLink\" href=\"../da4b7371e65d8b4ba1746b43ccdd418a7dc187dd0/expr.ipynb\"><img src=\"../da4b7371e65d8b4ba1746b43ccdd418a7dc187dd0/expr.png\" style=\"display:inline;vertical-align:middle;\" /></a></td></tr>\n",
       "<tr><td>29</td><td>Operation</td><td>operator:&nbsp;34<br>operands:&nbsp;35<br></td><td><a class=\"ProveItLink\" href=\"../b09d232dc6c8bd1b305d141dd063505555f74fe50/expr.ipynb\"><img src=\"../b09d232dc6c8bd1b305d141dd063505555f74fe50/expr.png\" style=\"display:inline;vertical-align:middle;\" /></a></td></tr>\n",
       "<tr><td>30</td><td>Operation</td><td>operator:&nbsp;36<br>operands:&nbsp;37<br></td><td><a class=\"ProveItLink\" href=\"../79c55ad736a28e91e4713eae7fe8222939dd9c270/expr.ipynb\"><img src=\"../79c55ad736a28e91e4713eae7fe8222939dd9c270/expr.png\" style=\"display:inline;vertical-align:middle;\" /></a></td></tr>\n",
       "<tr><td>31</td><td>Variable</td><td></td><td><a class=\"ProveItLink\" href=\"../../../../../__pv_it/common/a0d9d672aa5e272d907247690c152cc2c6daafb70/expr.ipynb\"><img src=\"../../../../../__pv_it/common/a0d9d672aa5e272d907247690c152cc2c6daafb70/expr.png\" style=\"display:inline;vertical-align:middle;\" /></a></td></tr>\n",
       "<tr><td>32</td><td>Operation</td><td>operator:&nbsp;38<br>operand:&nbsp;42<br></td><td><a class=\"ProveItLink\" href=\"../../../../../__pv_it/common/68d279ba17eb875d9f466a293b0b7fcc3ad8621e0/expr.ipynb\"><img src=\"../../../../../__pv_it/common/68d279ba17eb875d9f466a293b0b7fcc3ad8621e0/expr.png\" style=\"display:inline;vertical-align:middle;\" /></a></td></tr>\n",
       "<tr><td>33</td><td>Variable</td><td></td><td><a class=\"ProveItLink\" href=\"../../../../../__pv_it/common/95a8f6b9b9f29b83f192ad7fd05708d6be097a3f0/expr.ipynb\"><img src=\"../../../../../__pv_it/common/95a8f6b9b9f29b83f192ad7fd05708d6be097a3f0/expr.png\" style=\"display:inline;vertical-align:middle;\" /></a></td></tr>\n",
       "<tr><td>34</td><td>Literal</td><td></td><td><a class=\"ProveItLink\" href=\"../../../../../logic/sets/cartesian_products/__pv_it/common/7d20d67ddfbd94ad12efc9670c0d16a295b8ec1a0/expr.ipynb\"><img src=\"../../../../../logic/sets/cartesian_products/__pv_it/common/7d20d67ddfbd94ad12efc9670c0d16a295b8ec1a0/expr.png\" style=\"display:inline;vertical-align:middle;\" /></a></td></tr>\n",
       "<tr><td>35</td><td>ExprTuple</td><td>40, 46</td><td><a class=\"ProveItLink\" href=\"../7153ff9c6d56816696f64f5d4ee2610a6f3959e70/expr.ipynb\"><img src=\"../7153ff9c6d56816696f64f5d4ee2610a6f3959e70/expr.png\" style=\"display:inline;vertical-align:middle;\" /></a></td></tr>\n",
       "<tr><td>36</td><td>Literal</td><td></td><td><a class=\"ProveItLink\" href=\"../../../../../logic/sets/membership/__pv_it/common/477487d8796864d23d5810f83761435f25167f690/expr.ipynb\"><img src=\"../../../../../logic/sets/membership/__pv_it/common/477487d8796864d23d5810f83761435f25167f690/expr.png\" style=\"display:inline;vertical-align:middle;\" /></a></td></tr>\n",
       "<tr><td>37</td><td>ExprTuple</td><td>42, 41</td><td><a class=\"ProveItLink\" href=\"../ab06929dbfdaaa2ae45c843ef9d6de7c2fd96ef30/expr.ipynb\"><img src=\"../ab06929dbfdaaa2ae45c843ef9d6de7c2fd96ef30/expr.png\" style=\"display:inline;vertical-align:middle;\" /></a></td></tr>\n",
       "<tr><td>38</td><td>Variable</td><td></td><td><a class=\"ProveItLink\" href=\"../../../../../__pv_it/common/01b6dbb444a31fc38af4c2379badef6c75b363710/expr.ipynb\"><img src=\"../../../../../__pv_it/common/01b6dbb444a31fc38af4c2379badef6c75b363710/expr.png\" style=\"display:inline;vertical-align:middle;\" /></a></td></tr>\n",
       "<tr><td>39</td><td>ExprTuple</td><td>42</td><td><a class=\"ProveItLink\" href=\"../../../../../__pv_it/common/3b7d7ace2ced0a8261ea4d18d03aaf49e434d69d0/expr.ipynb\"><img src=\"../../../../../__pv_it/common/3b7d7ace2ced0a8261ea4d18d03aaf49e434d69d0/expr.png\" style=\"display:inline;vertical-align:middle;\" /></a></td></tr>\n",
       "<tr><td>40</td><td>Literal</td><td></td><td><a class=\"ProveItLink\" href=\"../../../../../numbers/number_sets/real_numbers/__pv_it/common/93cac87a1a47e613f7a83b23ef7891599a1a4cca0/expr.ipynb\"><img src=\"../../../../../numbers/number_sets/real_numbers/__pv_it/common/93cac87a1a47e613f7a83b23ef7891599a1a4cca0/expr.png\" style=\"display:inline;vertical-align:middle;\" /></a></td></tr>\n",
       "<tr><td>41</td><td>Operation</td><td>operator:&nbsp;43<br>operands:&nbsp;44<br></td><td><a class=\"ProveItLink\" href=\"../7676e493d3bb64bb395806d5897521faeefd5aba0/expr.ipynb\"><img src=\"../7676e493d3bb64bb395806d5897521faeefd5aba0/expr.png\" style=\"display:inline;vertical-align:middle;\" /></a></td></tr>\n",
       "<tr><td>42</td><td>Variable</td><td></td><td><a class=\"ProveItLink\" href=\"../../../../../__pv_it/common/ae955345c83abf786c3aff8681cd5465beae262d0/expr.ipynb\"><img src=\"../../../../../__pv_it/common/ae955345c83abf786c3aff8681cd5465beae262d0/expr.png\" style=\"display:inline;vertical-align:middle;\" /></a></td></tr>\n",
       "<tr><td>43</td><td>Literal</td><td></td><td><a class=\"ProveItLink\" href=\"../../../../../numbers/number_sets/integers/__pv_it/common/92f3a0a77e3c3ea8e4a5c8674edadc54e4f57d550/expr.ipynb\"><img src=\"../../../../../numbers/number_sets/integers/__pv_it/common/92f3a0a77e3c3ea8e4a5c8674edadc54e4f57d550/expr.png\" style=\"display:inline;vertical-align:middle;\" /></a></td></tr>\n",
       "<tr><td>44</td><td>ExprTuple</td><td>45, 46</td><td><a class=\"ProveItLink\" href=\"../7818a612e3a13034f9173d608653609e4f92ad0f0/expr.ipynb\"><img src=\"../7818a612e3a13034f9173d608653609e4f92ad0f0/expr.png\" style=\"display:inline;vertical-align:middle;\" /></a></td></tr>\n",
       "<tr><td>45</td><td>Literal</td><td></td><td><a class=\"ProveItLink\" href=\"../../../../../numbers/numerals/__pv_it/common/682157d4892d216d9e5626ed533aff9b56b9506e0/expr.ipynb\"><img src=\"../../../../../numbers/numerals/__pv_it/common/682157d4892d216d9e5626ed533aff9b56b9506e0/expr.png\" style=\"display:inline;vertical-align:middle;\" /></a></td></tr>\n",
       "<tr><td>46</td><td>Literal</td><td></td><td><a class=\"ProveItLink\" href=\"../../../../../numbers/numerals/__pv_it/common/1943b60945420e340d305780feff5c1aff2740ff0/expr.ipynb\"><img src=\"../../../../../numbers/numerals/__pv_it/common/1943b60945420e340d305780feff5c1aff2740ff0/expr.png\" style=\"display:inline;vertical-align:middle;\" /></a></td></tr>\n",
       "</table>\n"
      ],
      "text/plain": [
       "0. [forall_{i in {1 .. 3}} ((x otimes f(i) otimes z) in (Real^{3} otimes Real^{3} otimes Real^{3}))] =>  \\\\ ((x otimes (Sum_{i=1}^{3} f(i)) otimes z) \\\\  = (Sum_{i=1}^{3} (x otimes f(i) otimes z)))\n",
       "   core type: Operation\n",
       "   operator: 1\n",
       "   operands: 2\n",
       "1. =>\n",
       "   core type: Literal\n",
       "   sub-expressions: \n",
       "2. (forall_{i in {1 .. 3}} ((x otimes f(i) otimes z) in (Real^{3} otimes Real^{3} otimes Real^{3})), (x otimes (Sum_{i=1}^{3} f(i)) otimes z) \\\\  = (Sum_{i=1}^{3} (x otimes f(i) otimes z)))\n",
       "   core type: ExprTuple\n",
       "   sub-expressions: 3, 4\n",
       "3. forall_{i in {1 .. 3}} ((x otimes f(i) otimes z) in (Real^{3} otimes Real^{3} otimes Real^{3}))\n",
       "   core type: Operation\n",
       "   operator: 5\n",
       "   operand: 9\n",
       "4. (x otimes (Sum_{i=1}^{3} f(i)) otimes z) \\\\  = (Sum_{i=1}^{3} (x otimes f(i) otimes z))\n",
       "   core type: Operation\n",
       "   operator: 7\n",
       "   operands: 8\n",
       "5. forall\n",
       "   core type: Literal\n",
       "   sub-expressions: \n",
       "6. (i -> {(x otimes f(i) otimes z) in (Real^{3} otimes Real^{3} otimes Real^{3}) if i in {1 .. 3}.)\n",
       "   core type: ExprTuple\n",
       "   sub-expressions: 9\n",
       "7. =\n",
       "   core type: Literal\n",
       "   sub-expressions: \n",
       "8. (x otimes (Sum_{i=1}^{3} f(i)) otimes z, Sum_{i=1}^{3} (x otimes f(i) otimes z))\n",
       "   core type: ExprTuple\n",
       "   sub-expressions: 10, 11\n",
       "9. i -> {(x otimes f(i) otimes z) in (Real^{3} otimes Real^{3} otimes Real^{3}) if i in {1 .. 3}.\n",
       "   core type: Lambda\n",
       "   parameter: 42\n",
       "   body: 12\n",
       "10. x otimes (Sum_{i=1}^{3} f(i)) otimes z\n",
       "    core type: Operation\n",
       "    operator: 27\n",
       "    operands: 13\n",
       "11. Sum_{i=1}^{3} (x otimes f(i) otimes z)\n",
       "    core type: Operation\n",
       "    operator: 19\n",
       "    operand: 17\n",
       "12. {(x otimes f(i) otimes z) in (Real^{3} otimes Real^{3} otimes Real^{3}) if i in {1 .. 3}.\n",
       "    core type: Conditional\n",
       "    value: 15\n",
       "    condition: 30\n",
       "13. (x, Sum_{i=1}^{3} f(i), z)\n",
       "    core type: ExprTuple\n",
       "    sub-expressions: 31, 16, 33\n",
       "14. (i -> {x otimes f(i) otimes z if i in {1 .. 3}.)\n",
       "    core type: ExprTuple\n",
       "    sub-expressions: 17\n",
       "15. (x otimes f(i) otimes z) in (Real^{3} otimes Real^{3} otimes Real^{3})\n",
       "    core type: Operation\n",
       "    operator: 36\n",
       "    operands: 18\n",
       "16. Sum_{i=1}^{3} f(i)\n",
       "    core type: Operation\n",
       "    operator: 19\n",
       "    operand: 23\n",
       "17. i -> {x otimes f(i) otimes z if i in {1 .. 3}.\n",
       "    core type: Lambda\n",
       "    parameter: 42\n",
       "    body: 21\n",
       "18. (x otimes f(i) otimes z, Real^{3} otimes Real^{3} otimes Real^{3})\n",
       "    core type: ExprTuple\n",
       "    sub-expressions: 24, 22\n",
       "19. Sum\n",
       "    core type: Literal\n",
       "    sub-expressions: \n",
       "20. (i -> {f(i) if i in {1 .. 3}.)\n",
       "    core type: ExprTuple\n",
       "    sub-expressions: 23\n",
       "21. {x otimes f(i) otimes z if i in {1 .. 3}.\n",
       "    core type: Conditional\n",
       "    value: 24\n",
       "    condition: 30\n",
       "22. Real^{3} otimes Real^{3} otimes Real^{3}\n",
       "    core type: Operation\n",
       "    operator: 27\n",
       "    operands: 25\n",
       "23. i -> {f(i) if i in {1 .. 3}.\n",
       "    core type: Lambda\n",
       "    parameter: 42\n",
       "    body: 26\n",
       "24. x otimes f(i) otimes z\n",
       "    core type: Operation\n",
       "    operator: 27\n",
       "    operands: 28\n",
       "25. (Real^{3}, Real^{3}, Real^{3})\n",
       "    core type: ExprTuple\n",
       "    sub-expressions: 29, 29, 29\n",
       "26. {f(i) if i in {1 .. 3}.\n",
       "    core type: Conditional\n",
       "    value: 32\n",
       "    condition: 30\n",
       "27. otimes\n",
       "    core type: Literal\n",
       "    sub-expressions: \n",
       "28. (x, f(i), z)\n",
       "    core type: ExprTuple\n",
       "    sub-expressions: 31, 32, 33\n",
       "29. Real^{3}\n",
       "    core type: Operation\n",
       "    operator: 34\n",
       "    operands: 35\n",
       "30. i in {1 .. 3}\n",
       "    core type: Operation\n",
       "    operator: 36\n",
       "    operands: 37\n",
       "31. x\n",
       "    core type: Variable\n",
       "    sub-expressions: \n",
       "32. f(i)\n",
       "    core type: Operation\n",
       "    operator: 38\n",
       "    operand: 42\n",
       "33. z\n",
       "    core type: Variable\n",
       "    sub-expressions: \n",
       "34. CartExp\n",
       "    core type: Literal\n",
       "    sub-expressions: \n",
       "35. (Real, 3)\n",
       "    core type: ExprTuple\n",
       "    sub-expressions: 40, 46\n",
       "36. in\n",
       "    core type: Literal\n",
       "    sub-expressions: \n",
       "37. (i, {1 .. 3})\n",
       "    core type: ExprTuple\n",
       "    sub-expressions: 42, 41\n",
       "38. f\n",
       "    core type: Variable\n",
       "    sub-expressions: \n",
       "39. (i)\n",
       "    core type: ExprTuple\n",
       "    sub-expressions: 42\n",
       "40. Real\n",
       "    core type: Literal\n",
       "    sub-expressions: \n",
       "41. {1 .. 3}\n",
       "    core type: Operation\n",
       "    operator: 43\n",
       "    operands: 44\n",
       "42. i\n",
       "    core type: Variable\n",
       "    sub-expressions: \n",
       "43. Interval\n",
       "    core type: Literal\n",
       "    sub-expressions: \n",
       "44. (1, 3)\n",
       "    core type: ExprTuple\n",
       "    sub-expressions: 45, 46\n",
       "45. 1\n",
       "    core type: Literal\n",
       "    sub-expressions: \n",
       "46. 3\n",
       "    core type: Literal\n",
       "    sub-expressions: "
      ]
     },
     "metadata": {},
     "output_type": "display_data"
    }
   ],
   "source": [
    "# display the expression information\n",
    "stored_expr.expr_info()"
   ]
  },
  {
   "cell_type": "code",
   "execution_count": null,
   "metadata": {},
   "outputs": [],
   "source": []
  }
 ],
 "metadata": {
  "kernelspec": {
   "display_name": "Python 3",
   "language": "python",
   "name": "python3"
  }
 },
 "nbformat": 4,
 "nbformat_minor": 0
}