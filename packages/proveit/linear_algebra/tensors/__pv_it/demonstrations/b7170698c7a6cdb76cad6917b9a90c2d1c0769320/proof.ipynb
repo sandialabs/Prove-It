{
 "cells": [
  {
   "cell_type": "markdown",
   "metadata": {},
   "source": [
    "Show the Proof\n",
    "========"
   ]
  },
  {
   "cell_type": "code",
   "execution_count": 1,
   "metadata": {},
   "outputs": [
    {
     "data": {
      "text/html": [
       "<table><tr><th>&nbsp;</th><th>step type</th><th>requirements</th><th>statement</th></tr>\n",
       "<tr><td><a name=\"proveit.linear_algebra.tensors.demonstrations.b7170698c7a6cdb76cad6917b9a90c2d1c0769320_step0\">0</a></td><td>instantiation</td><td><a href=\"#proveit.linear_algebra.tensors.demonstrations.b7170698c7a6cdb76cad6917b9a90c2d1c0769320_step1\">1</a>, <a href=\"#proveit.linear_algebra.tensors.demonstrations.b7170698c7a6cdb76cad6917b9a90c2d1c0769320_step2\">2</a>, <a href=\"#proveit.linear_algebra.tensors.demonstrations.b7170698c7a6cdb76cad6917b9a90c2d1c0769320_step3\">3</a>, <a href=\"#proveit.linear_algebra.tensors.demonstrations.b7170698c7a6cdb76cad6917b9a90c2d1c0769320_step4\">4</a></td><td><span style=\"font-size:20px;\"><a class=\"ProveItLink\" href=\"../867240f288a0a475f332ba3bfce26b090616c3760/expr.ipynb\"><img src=\"../867240f288a0a475f332ba3bfce26b090616c3760/expr.png\" style=\"display:inline;vertical-align:middle;\" /></a>, <a class=\"ProveItLink\" href=\"../24b47934df390430c4ddb4660bfa2c456cc746cd0/expr.ipynb\"><img src=\"../24b47934df390430c4ddb4660bfa2c456cc746cd0/expr.png\" style=\"display:inline;vertical-align:middle;\" /></a> <a class=\"ProveItLink\" href=\"proof.ipynb\" style=\"text-decoration: none\">&nbsp;&#x22A2;&nbsp;&nbsp;</a><a class=\"ProveItLink\" href=\"../42529606e07e862fcd17774b2f82ebb83d393d0b0/expr.ipynb\"><img src=\"../42529606e07e862fcd17774b2f82ebb83d393d0b0/expr.png\" style=\"display:inline;vertical-align:middle;\" /></a></span></td></tr>\n",
       "<tr><td>&nbsp;</td><td colspan=4 style=\"text-align:left\"><span style=\"font-size:20px;\"><a class=\"ProveItLink\" href=\"../../../../../__pv_it/common/1f2ffac7a1dc7c1a4f1fc7348356ae64ea992c790/expr.ipynb\"><img src=\"../../../../../__pv_it/common/1f2ffac7a1dc7c1a4f1fc7348356ae64ea992c790/expr.png\" style=\"display:inline;vertical-align:middle;\" /></a> : <a class=\"ProveItLink\" href=\"../../../../../numbers/number_sets/real_numbers/__pv_it/common/93cac87a1a47e613f7a83b23ef7891599a1a4cca0/expr.ipynb\"><img src=\"../../../../../numbers/number_sets/real_numbers/__pv_it/common/93cac87a1a47e613f7a83b23ef7891599a1a4cca0/expr.png\" style=\"display:inline;vertical-align:middle;\" /></a>, <a class=\"ProveItLink\" href=\"../../../../../__pv_it/common/6d80eb1398b2335bf9ec427954b851b7094dced50/expr.ipynb\"><img src=\"../../../../../__pv_it/common/6d80eb1398b2335bf9ec427954b851b7094dced50/expr.png\" style=\"display:inline;vertical-align:middle;\" /></a> : <a class=\"ProveItLink\" href=\"../b09d232dc6c8bd1b305d141dd063505555f74fe50/expr.ipynb\"><img src=\"../b09d232dc6c8bd1b305d141dd063505555f74fe50/expr.png\" style=\"display:inline;vertical-align:middle;\" /></a>, <a class=\"ProveItLink\" href=\"../../../../../__pv_it/common/c06c606ec12678c58933ac85412ecadc2ae28be60/expr.ipynb\"><img src=\"../../../../../__pv_it/common/c06c606ec12678c58933ac85412ecadc2ae28be60/expr.png\" style=\"display:inline;vertical-align:middle;\" /></a> : <a class=\"ProveItLink\" href=\"../../../../../__pv_it/common/c713a5db2586f854a5051c95110df24af02bd7260/expr.ipynb\"><img src=\"../../../../../__pv_it/common/c713a5db2586f854a5051c95110df24af02bd7260/expr.png\" style=\"display:inline;vertical-align:middle;\" /></a>, <a class=\"ProveItLink\" href=\"../../../../../__pv_it/common/a0d9d672aa5e272d907247690c152cc2c6daafb70/expr.ipynb\"><img src=\"../../../../../__pv_it/common/a0d9d672aa5e272d907247690c152cc2c6daafb70/expr.png\" style=\"display:inline;vertical-align:middle;\" /></a> : <a class=\"ProveItLink\" href=\"../../../../../__pv_it/common/ff7dba4ef0bbe791ab573bf2d9c220a304399ac80/expr.ipynb\"><img src=\"../../../../../__pv_it/common/ff7dba4ef0bbe791ab573bf2d9c220a304399ac80/expr.png\" style=\"display:inline;vertical-align:middle;\" /></a></span></td></tr><tr><td><a name=\"proveit.linear_algebra.tensors.demonstrations.b7170698c7a6cdb76cad6917b9a90c2d1c0769320_step1\">1</a></td><td>theorem</td><td></td><td><span style=\"font-size:20px;\"> <a class=\"ProveItLink\" href=\"../../../../scalar_multiplication/_theory_nbs_/proofs/scalar_mult_closure/thm_proof.ipynb\" style=\"text-decoration: none\">&nbsp;&#x22A2;&nbsp;&nbsp;</a><a class=\"ProveItLink\" href=\"../../../../scalar_multiplication/__pv_it/theorems/94ae2d0bfeb4459a12af4268d0b733786881d4240/expr.ipynb\"><img src=\"../../../../scalar_multiplication/__pv_it/theorems/94ae2d0bfeb4459a12af4268d0b733786881d4240/expr.png\" style=\"display:inline;vertical-align:middle;\" /></a></span></td></tr>\n",
       "<tr><td>&nbsp;</td><td colspan=4 style-\"text-align:left\"><a class=\"ProveItLink\" href=\"../../../../scalar_multiplication/_theory_nbs_/proofs/scalar_mult_closure/thm_proof.ipynb\">proveit.linear_algebra.scalar_multiplication.scalar_mult_closure</a></td></tr><tr><td><a name=\"proveit.linear_algebra.tensors.demonstrations.b7170698c7a6cdb76cad6917b9a90c2d1c0769320_step2\">2</a></td><td>instantiation</td><td><a href=\"#proveit.linear_algebra.tensors.demonstrations.b7170698c7a6cdb76cad6917b9a90c2d1c0769320_step5\">5</a>, <a href=\"#proveit.linear_algebra.tensors.demonstrations.b7170698c7a6cdb76cad6917b9a90c2d1c0769320_step6\">6</a></td><td><span style=\"font-size:20px;\"> <a class=\"ProveItLink\" href=\"../86fdea85cef0f9ac83f62507f642df23d8e64c1c0/proof.ipynb\" style=\"text-decoration: none\">&nbsp;&#x22A2;&nbsp;&nbsp;</a><a class=\"ProveItLink\" href=\"../f63aa3e65b3c5f3bc9733df071332d100e61133b0/expr.ipynb\"><img src=\"../f63aa3e65b3c5f3bc9733df071332d100e61133b0/expr.png\" style=\"display:inline;vertical-align:middle;\" /></a></span></td></tr>\n",
       "<tr><td>&nbsp;</td><td colspan=4 style=\"text-align:left\"><span style=\"font-size:20px;\"><a class=\"ProveItLink\" href=\"../../../../../__pv_it/common/8968bb04eb3f7dfa02353397ce929b025bbd79c20/expr.ipynb\"><img src=\"../../../../../__pv_it/common/8968bb04eb3f7dfa02353397ce929b025bbd79c20/expr.png\" style=\"display:inline;vertical-align:middle;\" /></a> : <a class=\"ProveItLink\" href=\"../../../../../numbers/numerals/__pv_it/common/1943b60945420e340d305780feff5c1aff2740ff0/expr.ipynb\"><img src=\"../../../../../numbers/numerals/__pv_it/common/1943b60945420e340d305780feff5c1aff2740ff0/expr.png\" style=\"display:inline;vertical-align:middle;\" /></a></span></td></tr><tr><td><a name=\"proveit.linear_algebra.tensors.demonstrations.b7170698c7a6cdb76cad6917b9a90c2d1c0769320_step3\">3</a></td><td>assumption</td><td></td><td><span style=\"font-size:20px;\"><a class=\"ProveItLink\" href=\"../867240f288a0a475f332ba3bfce26b090616c3760/expr.ipynb\"><img src=\"../867240f288a0a475f332ba3bfce26b090616c3760/expr.png\" style=\"display:inline;vertical-align:middle;\" /></a> <a class=\"ProveItLink\" href=\"../81d40cc94a1e7287abe1ef73956681334db400610/proof.ipynb\" style=\"text-decoration: none\">&nbsp;&#x22A2;&nbsp;&nbsp;</a><a class=\"ProveItLink\" href=\"../867240f288a0a475f332ba3bfce26b090616c3760/expr.ipynb\"><img src=\"../867240f288a0a475f332ba3bfce26b090616c3760/expr.png\" style=\"display:inline;vertical-align:middle;\" /></a></span></td></tr>\n",
       "<tr><td><a name=\"proveit.linear_algebra.tensors.demonstrations.b7170698c7a6cdb76cad6917b9a90c2d1c0769320_step4\">4</a></td><td>assumption</td><td></td><td><span style=\"font-size:20px;\"><a class=\"ProveItLink\" href=\"../24b47934df390430c4ddb4660bfa2c456cc746cd0/expr.ipynb\"><img src=\"../24b47934df390430c4ddb4660bfa2c456cc746cd0/expr.png\" style=\"display:inline;vertical-align:middle;\" /></a> <a class=\"ProveItLink\" href=\"../2ac21a336998e8ddcb8dc8b819a95f32ddde0fae0/proof.ipynb\" style=\"text-decoration: none\">&nbsp;&#x22A2;&nbsp;&nbsp;</a><a class=\"ProveItLink\" href=\"../24b47934df390430c4ddb4660bfa2c456cc746cd0/expr.ipynb\"><img src=\"../24b47934df390430c4ddb4660bfa2c456cc746cd0/expr.png\" style=\"display:inline;vertical-align:middle;\" /></a></span></td></tr>\n",
       "<tr><td><a name=\"proveit.linear_algebra.tensors.demonstrations.b7170698c7a6cdb76cad6917b9a90c2d1c0769320_step5\">5</a></td><td>theorem</td><td></td><td><span style=\"font-size:20px;\"> <a class=\"ProveItLink\" href=\"../../../../_theory_nbs_/proofs/real_vec_set_is_vec_space/thm_proof.ipynb\" style=\"text-decoration: none\">&nbsp;&#x22A2;&nbsp;&nbsp;</a><a class=\"ProveItLink\" href=\"../../../../__pv_it/theorems/b1db82986f388e356d93ec2dfb6a4b4c9b37fbd60/expr.ipynb\"><img src=\"../../../../__pv_it/theorems/b1db82986f388e356d93ec2dfb6a4b4c9b37fbd60/expr.png\" style=\"display:inline;vertical-align:middle;\" /></a></span></td></tr>\n",
       "<tr><td>&nbsp;</td><td colspan=4 style-\"text-align:left\"><a class=\"ProveItLink\" href=\"../../../../_theory_nbs_/proofs/real_vec_set_is_vec_space/thm_proof.ipynb\">proveit.linear_algebra.real_vec_set_is_vec_space</a></td></tr><tr><td><a name=\"proveit.linear_algebra.tensors.demonstrations.b7170698c7a6cdb76cad6917b9a90c2d1c0769320_step6\">6</a></td><td>theorem</td><td></td><td><span style=\"font-size:20px;\"> <a class=\"ProveItLink\" href=\"../../../../../numbers/numerals/decimals/_theory_nbs_/proofs/posnat3/thm_proof.ipynb\" style=\"text-decoration: none\">&nbsp;&#x22A2;&nbsp;&nbsp;</a><a class=\"ProveItLink\" href=\"../../../../../numbers/numerals/decimals/__pv_it/theorems/7a4601a478f57bc7cfab499ee985add193b1e1cf0/expr.ipynb\"><img src=\"../../../../../numbers/numerals/decimals/__pv_it/theorems/7a4601a478f57bc7cfab499ee985add193b1e1cf0/expr.png\" style=\"display:inline;vertical-align:middle;\" /></a></span></td></tr>\n",
       "<tr><td>&nbsp;</td><td colspan=4 style-\"text-align:left\"><a class=\"ProveItLink\" href=\"../../../../../numbers/numerals/decimals/_theory_nbs_/proofs/posnat3/thm_proof.ipynb\">proveit.numbers.numerals.decimals.posnat3</a></td></tr></table>"
      ],
      "text/plain": [
       "<proveit._core_.proof._ShowProof at 0x7f2cd671e2e8>"
      ]
     },
     "execution_count": 1,
     "metadata": {},
     "output_type": "execute_result"
    }
   ],
   "source": [
    "import proveit\n",
    "# Automation is not needed when only showing a stored proof:\n",
    "proveit.defaults.automation = False # This will speed things up.\n",
    "proveit.defaults.inline_pngs = False # Makes files smaller.\n",
    "%show_proof"
   ]
  },
  {
   "cell_type": "code",
   "execution_count": null,
   "metadata": {},
   "outputs": [],
   "source": []
  }
 ],
 "metadata": {
  "kernelspec": {
   "display_name": "Python 3",
   "language": "python",
   "name": "python3"
  }
 },
 "nbformat": 4,
 "nbformat_minor": 0
}