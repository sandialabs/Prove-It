{
 "cells": [
  {
   "cell_type": "markdown",
   "metadata": {},
   "source": [
    "Expression of type <a class=\"ProveItLink\" href=\"../../../../../../../doc/html/api/proveit.Conditional.html\">Conditional</a>\n",
    "=======================\n",
    "# from the theory of <a class=\"ProveItLink\" href=\"../../../_theory_nbs_/theory.ipynb\">proveit.linear_algebra.tensors</a>"
   ]
  },
  {
   "cell_type": "code",
   "execution_count": 1,
   "metadata": {},
   "outputs": [],
   "source": [
    "import proveit\n",
    "# Automation is not needed when building an expression:\n",
    "proveit.defaults.automation = False # This will speed things up.\n",
    "proveit.defaults.inline_pngs = False # Makes files smaller.\n",
    "%load_expr # Load the stored expression as 'stored_expr'\n",
    "# import Expression classes needed to build the expression\n",
    "from proveit import Conditional, beta, gamma, i\n",
    "from proveit.logic import Equals, InSet\n",
    "from proveit.numbers import Add, Interval, Mult, four, one, two"
   ]
  },
  {
   "cell_type": "code",
   "execution_count": 2,
   "metadata": {},
   "outputs": [
    {
     "data": {
      "text/html": [
       "<strong id=\"expr\">expr:</strong> <a class=\"ProveItLink\" href=\"expr.ipynb\"><img src=\"expr.png\" style=\"display:inline;vertical-align:middle;\" /></a><br>"
      ],
      "text/plain": [
       "<IPython.core.display.HTML object>"
      ]
     },
     "metadata": {},
     "output_type": "display_data"
    }
   ],
   "source": [
    "# build up the expression from sub-expressions\n",
    "sub_expr1 = Mult(gamma, beta)\n",
    "sub_expr2 = Add(i, one)\n",
    "expr = Conditional(Equals(Mult(sub_expr1, i, sub_expr2), Mult(sub_expr1, Mult(i, sub_expr2))), InSet(i, Interval(two, four)))"
   ]
  },
  {
   "cell_type": "code",
   "execution_count": 3,
   "metadata": {},
   "outputs": [
    {
     "name": "stdout",
     "output_type": "stream",
     "text": [
      "Passed sanity check: expr matches stored_expr\n"
     ]
    }
   ],
   "source": [
    "# check that the built expression is the same as the stored expression\n",
    "assert expr == stored_expr\n",
    "assert expr._style_id == stored_expr._style_id\n",
    "print(\"Passed sanity check: expr matches stored_expr\")"
   ]
  },
  {
   "cell_type": "code",
   "execution_count": 4,
   "metadata": {},
   "outputs": [
    {
     "name": "stdout",
     "output_type": "stream",
     "text": [
      "\\left\\{\\left(\\left(\\gamma \\cdot \\beta\\right) \\cdot i \\cdot \\left(i + 1\\right)\\right) = \\left(\\left(\\gamma \\cdot \\beta\\right) \\cdot \\left(i \\cdot \\left(i + 1\\right)\\right)\\right) \\textrm{ if } i \\in \\{2~\\ldotp \\ldotp~4\\}\\right..\n"
     ]
    }
   ],
   "source": [
    "# Show the LaTeX representation of the expression for convenience if you need it.\n",
    "print(stored_expr.latex())"
   ]
  },
  {
   "cell_type": "code",
   "execution_count": 5,
   "metadata": {},
   "outputs": [
    {
     "data": {
      "text/html": [
       "<table>\n",
       "<tr><th>name</th><th>description</th><th>default</th><th>current value</th><th>related methods</th></tr><tr><td>condition_delimiter</td><td>'comma' or 'and'</td><td>comma</td><td>comma</td><td>('with_comma_delimiter', 'with_conjunction_delimiter')</td></tr>\n",
       "</table>\n"
      ],
      "text/plain": [
       "style name: condition_delimiter\n",
       "description: 'comma' or 'and'\n",
       "default: comma\n",
       "current value: comma\n",
       "related methods: ('with_comma_delimiter', 'with_conjunction_delimiter')"
      ]
     },
     "metadata": {},
     "output_type": "display_data"
    }
   ],
   "source": [
    "stored_expr.style_options()"
   ]
  },
  {
   "cell_type": "code",
   "execution_count": 6,
   "metadata": {},
   "outputs": [
    {
     "data": {
      "text/html": [
       "<table><tr><th>&nbsp;</th><th>core type</th><th>sub-expressions</th><th>expression</th></tr>\n",
       "<tr><td>0</td><td>Conditional</td><td>value:&nbsp;1<br>condition:&nbsp;2<br></td><td><a class=\"ProveItLink\" href=\"expr.ipynb\"><img src=\"expr.png\" style=\"display:inline;vertical-align:middle;\" /></a></td></tr>\n",
       "<tr><td>1</td><td>Operation</td><td>operator:&nbsp;3<br>operands:&nbsp;4<br></td><td><a class=\"ProveItLink\" href=\"../6abb91ca86f869284f624308c45b82ab208a6d4f0/expr.ipynb\"><img src=\"../6abb91ca86f869284f624308c45b82ab208a6d4f0/expr.png\" style=\"display:inline;vertical-align:middle;\" /></a></td></tr>\n",
       "<tr><td>2</td><td>Operation</td><td>operator:&nbsp;5<br>operands:&nbsp;6<br></td><td><a class=\"ProveItLink\" href=\"../1dcee5d42a9a39499a39768abf9beb5a120321210/expr.ipynb\"><img src=\"../1dcee5d42a9a39499a39768abf9beb5a120321210/expr.png\" style=\"display:inline;vertical-align:middle;\" /></a></td></tr>\n",
       "<tr><td>3</td><td>Literal</td><td></td><td><a class=\"ProveItLink\" href=\"../../../../../logic/equality/__pv_it/common/fb96dc12b2aa8801dda64d0132b396c63d1502bb0/expr.ipynb\"><img src=\"../../../../../logic/equality/__pv_it/common/fb96dc12b2aa8801dda64d0132b396c63d1502bb0/expr.png\" style=\"display:inline;vertical-align:middle;\" /></a></td></tr>\n",
       "<tr><td>4</td><td>ExprTuple</td><td>7, 8</td><td><a class=\"ProveItLink\" href=\"../71453e0ef7c3da10ee7d6231e8573e8df95a3e9a0/expr.ipynb\"><img src=\"../71453e0ef7c3da10ee7d6231e8573e8df95a3e9a0/expr.png\" style=\"display:inline;vertical-align:middle;\" /></a></td></tr>\n",
       "<tr><td>5</td><td>Literal</td><td></td><td><a class=\"ProveItLink\" href=\"../../../../../logic/sets/membership/__pv_it/common/477487d8796864d23d5810f83761435f25167f690/expr.ipynb\"><img src=\"../../../../../logic/sets/membership/__pv_it/common/477487d8796864d23d5810f83761435f25167f690/expr.png\" style=\"display:inline;vertical-align:middle;\" /></a></td></tr>\n",
       "<tr><td>6</td><td>ExprTuple</td><td>26, 9</td><td><a class=\"ProveItLink\" href=\"../28d2afb06ec85f8673a332040f8f84c54020e9590/expr.ipynb\"><img src=\"../28d2afb06ec85f8673a332040f8f84c54020e9590/expr.png\" style=\"display:inline;vertical-align:middle;\" /></a></td></tr>\n",
       "<tr><td>7</td><td>Operation</td><td>operator:&nbsp;19<br>operands:&nbsp;10<br></td><td><a class=\"ProveItLink\" href=\"../c222ba980037735a3cf6b166a7de2be13f6a2ca80/expr.ipynb\"><img src=\"../c222ba980037735a3cf6b166a7de2be13f6a2ca80/expr.png\" style=\"display:inline;vertical-align:middle;\" /></a></td></tr>\n",
       "<tr><td>8</td><td>Operation</td><td>operator:&nbsp;19<br>operands:&nbsp;11<br></td><td><a class=\"ProveItLink\" href=\"../90e15815a79d8e05b2ec990152169966f3c628190/expr.ipynb\"><img src=\"../90e15815a79d8e05b2ec990152169966f3c628190/expr.png\" style=\"display:inline;vertical-align:middle;\" /></a></td></tr>\n",
       "<tr><td>9</td><td>Operation</td><td>operator:&nbsp;12<br>operands:&nbsp;13<br></td><td><a class=\"ProveItLink\" href=\"../d52b7b54dc47ec2badf6859f9847ff1f1b35483a0/expr.ipynb\"><img src=\"../d52b7b54dc47ec2badf6859f9847ff1f1b35483a0/expr.png\" style=\"display:inline;vertical-align:middle;\" /></a></td></tr>\n",
       "<tr><td>10</td><td>ExprTuple</td><td>14, 26, 23</td><td><a class=\"ProveItLink\" href=\"../8b72659092800ea422ad8ff33f295cd01d5cea240/expr.ipynb\"><img src=\"../8b72659092800ea422ad8ff33f295cd01d5cea240/expr.png\" style=\"display:inline;vertical-align:middle;\" /></a></td></tr>\n",
       "<tr><td>11</td><td>ExprTuple</td><td>14, 15</td><td><a class=\"ProveItLink\" href=\"../9af821dd9bbb22a2beda3f1fdec6117270e8c60f0/expr.ipynb\"><img src=\"../9af821dd9bbb22a2beda3f1fdec6117270e8c60f0/expr.png\" style=\"display:inline;vertical-align:middle;\" /></a></td></tr>\n",
       "<tr><td>12</td><td>Literal</td><td></td><td><a class=\"ProveItLink\" href=\"../../../../../numbers/number_sets/integers/__pv_it/common/92f3a0a77e3c3ea8e4a5c8674edadc54e4f57d550/expr.ipynb\"><img src=\"../../../../../numbers/number_sets/integers/__pv_it/common/92f3a0a77e3c3ea8e4a5c8674edadc54e4f57d550/expr.png\" style=\"display:inline;vertical-align:middle;\" /></a></td></tr>\n",
       "<tr><td>13</td><td>ExprTuple</td><td>16, 17</td><td><a class=\"ProveItLink\" href=\"../4dcdc5026f80b9604cf319714818529aceda286b0/expr.ipynb\"><img src=\"../4dcdc5026f80b9604cf319714818529aceda286b0/expr.png\" style=\"display:inline;vertical-align:middle;\" /></a></td></tr>\n",
       "<tr><td>14</td><td>Operation</td><td>operator:&nbsp;19<br>operands:&nbsp;18<br></td><td><a class=\"ProveItLink\" href=\"../38de7ae9e11d86a04ac35dfe9e57401f111c0ee30/expr.ipynb\"><img src=\"../38de7ae9e11d86a04ac35dfe9e57401f111c0ee30/expr.png\" style=\"display:inline;vertical-align:middle;\" /></a></td></tr>\n",
       "<tr><td>15</td><td>Operation</td><td>operator:&nbsp;19<br>operands:&nbsp;20<br></td><td><a class=\"ProveItLink\" href=\"../c61be088bd73d898bce457154b95afa50a168c2d0/expr.ipynb\"><img src=\"../c61be088bd73d898bce457154b95afa50a168c2d0/expr.png\" style=\"display:inline;vertical-align:middle;\" /></a></td></tr>\n",
       "<tr><td>16</td><td>Literal</td><td></td><td><a class=\"ProveItLink\" href=\"../../../../../numbers/numerals/__pv_it/common/af4aab8a07465db063742696e006d04670f30cf10/expr.ipynb\"><img src=\"../../../../../numbers/numerals/__pv_it/common/af4aab8a07465db063742696e006d04670f30cf10/expr.png\" style=\"display:inline;vertical-align:middle;\" /></a></td></tr>\n",
       "<tr><td>17</td><td>Literal</td><td></td><td><a class=\"ProveItLink\" href=\"../../../../../numbers/numerals/__pv_it/common/48a1d915c1e9490b9a94e5c77a208938d3ee20ce0/expr.ipynb\"><img src=\"../../../../../numbers/numerals/__pv_it/common/48a1d915c1e9490b9a94e5c77a208938d3ee20ce0/expr.png\" style=\"display:inline;vertical-align:middle;\" /></a></td></tr>\n",
       "<tr><td>18</td><td>ExprTuple</td><td>21, 22</td><td><a class=\"ProveItLink\" href=\"../ab41256eeaff63278cf61798d37e7b2a94deb9580/expr.ipynb\"><img src=\"../ab41256eeaff63278cf61798d37e7b2a94deb9580/expr.png\" style=\"display:inline;vertical-align:middle;\" /></a></td></tr>\n",
       "<tr><td>19</td><td>Literal</td><td></td><td><a class=\"ProveItLink\" href=\"../../../../../numbers/multiplication/__pv_it/common/ed719cef37831779c16481533a4d380a2f95ab270/expr.ipynb\"><img src=\"../../../../../numbers/multiplication/__pv_it/common/ed719cef37831779c16481533a4d380a2f95ab270/expr.png\" style=\"display:inline;vertical-align:middle;\" /></a></td></tr>\n",
       "<tr><td>20</td><td>ExprTuple</td><td>26, 23</td><td><a class=\"ProveItLink\" href=\"../4e2d77eb82f78b88edfb774795a1306b4db313d70/expr.ipynb\"><img src=\"../4e2d77eb82f78b88edfb774795a1306b4db313d70/expr.png\" style=\"display:inline;vertical-align:middle;\" /></a></td></tr>\n",
       "<tr><td>21</td><td>Variable</td><td></td><td><a class=\"ProveItLink\" href=\"../../../../../__pv_it/common/d3b5a05ce48f7e4b8f946549743adda31d51d0e80/expr.ipynb\"><img src=\"../../../../../__pv_it/common/d3b5a05ce48f7e4b8f946549743adda31d51d0e80/expr.png\" style=\"display:inline;vertical-align:middle;\" /></a></td></tr>\n",
       "<tr><td>22</td><td>Variable</td><td></td><td><a class=\"ProveItLink\" href=\"../../../../../__pv_it/common/c713a5db2586f854a5051c95110df24af02bd7260/expr.ipynb\"><img src=\"../../../../../__pv_it/common/c713a5db2586f854a5051c95110df24af02bd7260/expr.png\" style=\"display:inline;vertical-align:middle;\" /></a></td></tr>\n",
       "<tr><td>23</td><td>Operation</td><td>operator:&nbsp;24<br>operands:&nbsp;25<br></td><td><a class=\"ProveItLink\" href=\"../a2e143af123f66da09e0988b76b1d4e48661786c0/expr.ipynb\"><img src=\"../a2e143af123f66da09e0988b76b1d4e48661786c0/expr.png\" style=\"display:inline;vertical-align:middle;\" /></a></td></tr>\n",
       "<tr><td>24</td><td>Literal</td><td></td><td><a class=\"ProveItLink\" href=\"../../../../../numbers/addition/__pv_it/common/4b7effaab3619a1c2c38fe2dee8601df8ec714590/expr.ipynb\"><img src=\"../../../../../numbers/addition/__pv_it/common/4b7effaab3619a1c2c38fe2dee8601df8ec714590/expr.png\" style=\"display:inline;vertical-align:middle;\" /></a></td></tr>\n",
       "<tr><td>25</td><td>ExprTuple</td><td>26, 27</td><td><a class=\"ProveItLink\" href=\"../c89850952f9608f21aa2408d82ba7769fea41e400/expr.ipynb\"><img src=\"../c89850952f9608f21aa2408d82ba7769fea41e400/expr.png\" style=\"display:inline;vertical-align:middle;\" /></a></td></tr>\n",
       "<tr><td>26</td><td>Variable</td><td></td><td><a class=\"ProveItLink\" href=\"../../../../../__pv_it/common/ae955345c83abf786c3aff8681cd5465beae262d0/expr.ipynb\"><img src=\"../../../../../__pv_it/common/ae955345c83abf786c3aff8681cd5465beae262d0/expr.png\" style=\"display:inline;vertical-align:middle;\" /></a></td></tr>\n",
       "<tr><td>27</td><td>Literal</td><td></td><td><a class=\"ProveItLink\" href=\"../../../../../numbers/numerals/__pv_it/common/682157d4892d216d9e5626ed533aff9b56b9506e0/expr.ipynb\"><img src=\"../../../../../numbers/numerals/__pv_it/common/682157d4892d216d9e5626ed533aff9b56b9506e0/expr.png\" style=\"display:inline;vertical-align:middle;\" /></a></td></tr>\n",
       "</table>\n"
      ],
      "text/plain": [
       "0. {((gamma * beta) * i * (i + 1)) = ((gamma * beta) * (i * (i + 1))) if i in {2 .. 4}.\n",
       "   core type: Conditional\n",
       "   value: 1\n",
       "   condition: 2\n",
       "1. ((gamma * beta) * i * (i + 1)) = ((gamma * beta) * (i * (i + 1)))\n",
       "   core type: Operation\n",
       "   operator: 3\n",
       "   operands: 4\n",
       "2. i in {2 .. 4}\n",
       "   core type: Operation\n",
       "   operator: 5\n",
       "   operands: 6\n",
       "3. =\n",
       "   core type: Literal\n",
       "   sub-expressions: \n",
       "4. ((gamma * beta) * i * (i + 1), (gamma * beta) * (i * (i + 1)))\n",
       "   core type: ExprTuple\n",
       "   sub-expressions: 7, 8\n",
       "5. in\n",
       "   core type: Literal\n",
       "   sub-expressions: \n",
       "6. (i, {2 .. 4})\n",
       "   core type: ExprTuple\n",
       "   sub-expressions: 26, 9\n",
       "7. (gamma * beta) * i * (i + 1)\n",
       "   core type: Operation\n",
       "   operator: 19\n",
       "   operands: 10\n",
       "8. (gamma * beta) * (i * (i + 1))\n",
       "   core type: Operation\n",
       "   operator: 19\n",
       "   operands: 11\n",
       "9. {2 .. 4}\n",
       "   core type: Operation\n",
       "   operator: 12\n",
       "   operands: 13\n",
       "10. (gamma * beta, i, i + 1)\n",
       "    core type: ExprTuple\n",
       "    sub-expressions: 14, 26, 23\n",
       "11. (gamma * beta, i * (i + 1))\n",
       "    core type: ExprTuple\n",
       "    sub-expressions: 14, 15\n",
       "12. Interval\n",
       "    core type: Literal\n",
       "    sub-expressions: \n",
       "13. (2, 4)\n",
       "    core type: ExprTuple\n",
       "    sub-expressions: 16, 17\n",
       "14. gamma * beta\n",
       "    core type: Operation\n",
       "    operator: 19\n",
       "    operands: 18\n",
       "15. i * (i + 1)\n",
       "    core type: Operation\n",
       "    operator: 19\n",
       "    operands: 20\n",
       "16. 2\n",
       "    core type: Literal\n",
       "    sub-expressions: \n",
       "17. 4\n",
       "    core type: Literal\n",
       "    sub-expressions: \n",
       "18. (gamma, beta)\n",
       "    core type: ExprTuple\n",
       "    sub-expressions: 21, 22\n",
       "19. *\n",
       "    core type: Literal\n",
       "    sub-expressions: \n",
       "20. (i, i + 1)\n",
       "    core type: ExprTuple\n",
       "    sub-expressions: 26, 23\n",
       "21. gamma\n",
       "    core type: Variable\n",
       "    sub-expressions: \n",
       "22. beta\n",
       "    core type: Variable\n",
       "    sub-expressions: \n",
       "23. i + 1\n",
       "    core type: Operation\n",
       "    operator: 24\n",
       "    operands: 25\n",
       "24. +\n",
       "    core type: Literal\n",
       "    sub-expressions: \n",
       "25. (i, 1)\n",
       "    core type: ExprTuple\n",
       "    sub-expressions: 26, 27\n",
       "26. i\n",
       "    core type: Variable\n",
       "    sub-expressions: \n",
       "27. 1\n",
       "    core type: Literal\n",
       "    sub-expressions: "
      ]
     },
     "metadata": {},
     "output_type": "display_data"
    }
   ],
   "source": [
    "# display the expression information\n",
    "stored_expr.expr_info()"
   ]
  },
  {
   "cell_type": "code",
   "execution_count": null,
   "metadata": {},
   "outputs": [],
   "source": []
  }
 ],
 "metadata": {
  "kernelspec": {
   "display_name": "Python 3",
   "language": "python",
   "name": "python3"
  }
 },
 "nbformat": 4,
 "nbformat_minor": 0
}