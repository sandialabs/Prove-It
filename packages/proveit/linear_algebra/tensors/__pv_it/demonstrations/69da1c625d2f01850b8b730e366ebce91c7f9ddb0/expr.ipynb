{
 "cells": [
  {
   "cell_type": "markdown",
   "metadata": {},
   "source": [
    "Expression of type <a class=\"ProveItLink\" href=\"../../../../../../../doc/html/api/proveit.logic.Equals.html\">Equals</a>\n",
    "=======================\n",
    "# from the theory of <a class=\"ProveItLink\" href=\"../../../_theory_nbs_/theory.ipynb\">proveit.linear_algebra.tensors</a>"
   ]
  },
  {
   "cell_type": "code",
   "execution_count": 1,
   "metadata": {},
   "outputs": [],
   "source": [
    "import proveit\n",
    "# Automation is not needed when building an expression:\n",
    "proveit.defaults.automation = False # This will speed things up.\n",
    "proveit.defaults.inline_pngs = False # Makes files smaller.\n",
    "%load_expr # Load the stored expression as 'stored_expr'\n",
    "# import Expression classes needed to build the expression\n",
    "from proveit import gamma, i, x, y\n",
    "from proveit.linear_algebra import ScalarMult, TensorProd, VecSum\n",
    "from proveit.logic import Equals\n",
    "from proveit.numbers import Interval, four, two"
   ]
  },
  {
   "cell_type": "code",
   "execution_count": 2,
   "metadata": {},
   "outputs": [
    {
     "data": {
      "text/html": [
       "<strong id=\"expr\">expr:</strong> <a class=\"ProveItLink\" href=\"expr.ipynb\"><img src=\"expr.png\" style=\"display:inline;vertical-align:middle;\" /></a><br>"
      ],
      "text/plain": [
       "<IPython.core.display.HTML object>"
      ]
     },
     "metadata": {},
     "output_type": "display_data"
    }
   ],
   "source": [
    "# build up the expression from sub-expressions\n",
    "sub_expr1 = [i]\n",
    "sub_expr2 = Interval(two, four)\n",
    "expr = Equals(VecSum(index_or_indices = sub_expr1, summand = ScalarMult(gamma, ScalarMult(i, TensorProd(x, y))), domain = sub_expr2), ScalarMult(gamma, TensorProd(x, VecSum(index_or_indices = sub_expr1, summand = ScalarMult(i, y), domain = sub_expr2))))"
   ]
  },
  {
   "cell_type": "code",
   "execution_count": 3,
   "metadata": {},
   "outputs": [
    {
     "name": "stdout",
     "output_type": "stream",
     "text": [
      "Passed sanity check: expr matches stored_expr\n"
     ]
    }
   ],
   "source": [
    "# check that the built expression is the same as the stored expression\n",
    "assert expr == stored_expr\n",
    "assert expr._style_id == stored_expr._style_id\n",
    "print(\"Passed sanity check: expr matches stored_expr\")"
   ]
  },
  {
   "cell_type": "code",
   "execution_count": 4,
   "metadata": {},
   "outputs": [
    {
     "name": "stdout",
     "output_type": "stream",
     "text": [
      "\\left(\\sum_{i=2}^{4} \\left(\\gamma \\cdot \\left(i \\cdot \\left(x {\\otimes} y\\right)\\right)\\right)\\right) = \\left(\\gamma \\cdot \\left(x {\\otimes} \\left(\\sum_{i=2}^{4} \\left(i \\cdot y\\right)\\right)\\right)\\right)\n"
     ]
    }
   ],
   "source": [
    "# Show the LaTeX representation of the expression for convenience if you need it.\n",
    "print(stored_expr.latex())"
   ]
  },
  {
   "cell_type": "code",
   "execution_count": 5,
   "metadata": {},
   "outputs": [
    {
     "data": {
      "text/html": [
       "<table>\n",
       "<tr><th>name</th><th>description</th><th>default</th><th>current value</th><th>related methods</th></tr><tr><td>operation</td><td>'infix' or 'function' style formatting</td><td>infix</td><td>infix</td><td></td></tr>\n",
       "<tr><td>wrap_positions</td><td>position(s) at which wrapping is to occur; '2 n - 1' is after the nth operand, '2 n' is after the nth operation.</td><td>()</td><td>()</td><td>('with_wrapping_at', 'with_wrap_before_operator', 'with_wrap_after_operator', 'without_wrapping', 'wrap_positions')</td></tr>\n",
       "<tr><td>justification</td><td>if any wrap positions are set, justify to the 'left', 'center', or 'right'</td><td>center</td><td>center</td><td>('with_justification',)</td></tr>\n",
       "<tr><td>direction</td><td>Direction of the relation (normal or reversed)</td><td>normal</td><td>normal</td><td>('with_direction_reversed', 'is_reversed')</td></tr>\n",
       "</table>\n"
      ],
      "text/plain": [
       "style name: operation\n",
       "description: 'infix' or 'function' style formatting\n",
       "default: infix\n",
       "current value: infix\n",
       "related methods: ()\n",
       "style name: wrap_positions\n",
       "description: position(s) at which wrapping is to occur; '2 n - 1' is after the nth operand, '2 n' is after the nth operation.\n",
       "default: ()\n",
       "current value: ()\n",
       "related methods: ('with_wrapping_at', 'with_wrap_before_operator', 'with_wrap_after_operator', 'without_wrapping', 'wrap_positions')\n",
       "style name: justification\n",
       "description: if any wrap positions are set, justify to the 'left', 'center', or 'right'\n",
       "default: center\n",
       "current value: center\n",
       "related methods: ('with_justification',)\n",
       "style name: direction\n",
       "description: Direction of the relation (normal or reversed)\n",
       "default: normal\n",
       "current value: normal\n",
       "related methods: ('with_direction_reversed', 'is_reversed')"
      ]
     },
     "metadata": {},
     "output_type": "display_data"
    }
   ],
   "source": [
    "stored_expr.style_options()"
   ]
  },
  {
   "cell_type": "code",
   "execution_count": 6,
   "metadata": {},
   "outputs": [
    {
     "data": {
      "text/html": [
       "<table><tr><th>&nbsp;</th><th>core type</th><th>sub-expressions</th><th>expression</th></tr>\n",
       "<tr><td>0</td><td>Operation</td><td>operator:&nbsp;1<br>operands:&nbsp;2<br></td><td><a class=\"ProveItLink\" href=\"expr.ipynb\"><img src=\"expr.png\" style=\"display:inline;vertical-align:middle;\" /></a></td></tr>\n",
       "<tr><td>1</td><td>Literal</td><td></td><td><a class=\"ProveItLink\" href=\"../../../../../logic/equality/__pv_it/common/fb96dc12b2aa8801dda64d0132b396c63d1502bb0/expr.ipynb\"><img src=\"../../../../../logic/equality/__pv_it/common/fb96dc12b2aa8801dda64d0132b396c63d1502bb0/expr.png\" style=\"display:inline;vertical-align:middle;\" /></a></td></tr>\n",
       "<tr><td>2</td><td>ExprTuple</td><td>3, 4</td><td><a class=\"ProveItLink\" href=\"../729293f0cc524e6522142420e2f0d5b99136b3be0/expr.ipynb\"><img src=\"../729293f0cc524e6522142420e2f0d5b99136b3be0/expr.png\" style=\"display:inline;vertical-align:middle;\" /></a></td></tr>\n",
       "<tr><td>3</td><td>Operation</td><td>operator:&nbsp;14<br>operand:&nbsp;7<br></td><td><a class=\"ProveItLink\" href=\"../cc947de960766b62ade62e5b8af5bf78880df41e0/expr.ipynb\"><img src=\"../cc947de960766b62ade62e5b8af5bf78880df41e0/expr.png\" style=\"display:inline;vertical-align:middle;\" /></a></td></tr>\n",
       "<tr><td>4</td><td>Operation</td><td>operator:&nbsp;27<br>operands:&nbsp;6<br></td><td><a class=\"ProveItLink\" href=\"../d159ef8be12367570bd56c5e66449c2fb6c3ccf30/expr.ipynb\"><img src=\"../d159ef8be12367570bd56c5e66449c2fb6c3ccf30/expr.png\" style=\"display:inline;vertical-align:middle;\" /></a></td></tr>\n",
       "<tr><td>5</td><td>ExprTuple</td><td>7</td><td><a class=\"ProveItLink\" href=\"../5ed72acaa61e25fedcea3755e4523f302f44fed30/expr.ipynb\"><img src=\"../5ed72acaa61e25fedcea3755e4523f302f44fed30/expr.png\" style=\"display:inline;vertical-align:middle;\" /></a></td></tr>\n",
       "<tr><td>6</td><td>ExprTuple</td><td>16, 8</td><td><a class=\"ProveItLink\" href=\"../2a99e073d0b2d324b7ad748147f6dfc4786b29590/expr.ipynb\"><img src=\"../2a99e073d0b2d324b7ad748147f6dfc4786b29590/expr.png\" style=\"display:inline;vertical-align:middle;\" /></a></td></tr>\n",
       "<tr><td>7</td><td>Lambda</td><td>parameter:&nbsp;33<br>body:&nbsp;9<br></td><td><a class=\"ProveItLink\" href=\"../bef13167ec59eb2aa841456f2f651bc8a50a12d90/expr.ipynb\"><img src=\"../bef13167ec59eb2aa841456f2f651bc8a50a12d90/expr.png\" style=\"display:inline;vertical-align:middle;\" /></a></td></tr>\n",
       "<tr><td>8</td><td>Operation</td><td>operator:&nbsp;25<br>operands:&nbsp;10<br></td><td><a class=\"ProveItLink\" href=\"../0388949a71ed1c66b00eb1067e39193af54be01c0/expr.ipynb\"><img src=\"../0388949a71ed1c66b00eb1067e39193af54be01c0/expr.png\" style=\"display:inline;vertical-align:middle;\" /></a></td></tr>\n",
       "<tr><td>9</td><td>Conditional</td><td>value:&nbsp;11<br>condition:&nbsp;24<br></td><td><a class=\"ProveItLink\" href=\"../c546a666712059516528131c6c891b245b1794310/expr.ipynb\"><img src=\"../c546a666712059516528131c6c891b245b1794310/expr.png\" style=\"display:inline;vertical-align:middle;\" /></a></td></tr>\n",
       "<tr><td>10</td><td>ExprTuple</td><td>31, 12</td><td><a class=\"ProveItLink\" href=\"../c3c93681aea8d48a9ce385944d4eadf02b1ddb840/expr.ipynb\"><img src=\"../c3c93681aea8d48a9ce385944d4eadf02b1ddb840/expr.png\" style=\"display:inline;vertical-align:middle;\" /></a></td></tr>\n",
       "<tr><td>11</td><td>Operation</td><td>operator:&nbsp;27<br>operands:&nbsp;13<br></td><td><a class=\"ProveItLink\" href=\"../0ff4afe5cc222e71b761a673dfdf5d92a8a70e160/expr.ipynb\"><img src=\"../0ff4afe5cc222e71b761a673dfdf5d92a8a70e160/expr.png\" style=\"display:inline;vertical-align:middle;\" /></a></td></tr>\n",
       "<tr><td>12</td><td>Operation</td><td>operator:&nbsp;14<br>operand:&nbsp;18<br></td><td><a class=\"ProveItLink\" href=\"../18956e85f0a39b13e9d6032d3e586e797382857f0/expr.ipynb\"><img src=\"../18956e85f0a39b13e9d6032d3e586e797382857f0/expr.png\" style=\"display:inline;vertical-align:middle;\" /></a></td></tr>\n",
       "<tr><td>13</td><td>ExprTuple</td><td>16, 17</td><td><a class=\"ProveItLink\" href=\"../5dd018f9c6f03863d938d1a3b85751ae37dc75f20/expr.ipynb\"><img src=\"../5dd018f9c6f03863d938d1a3b85751ae37dc75f20/expr.png\" style=\"display:inline;vertical-align:middle;\" /></a></td></tr>\n",
       "<tr><td>14</td><td>Literal</td><td></td><td><a class=\"ProveItLink\" href=\"../../../../addition/__pv_it/common/62f73c830c62efb87627ede5678f282081cd0ce20/expr.ipynb\"><img src=\"../../../../addition/__pv_it/common/62f73c830c62efb87627ede5678f282081cd0ce20/expr.png\" style=\"display:inline;vertical-align:middle;\" /></a></td></tr>\n",
       "<tr><td>15</td><td>ExprTuple</td><td>18</td><td><a class=\"ProveItLink\" href=\"../5d271630ce0ba1fc8ed1c3457837a7e0b3b7cd6c0/expr.ipynb\"><img src=\"../5d271630ce0ba1fc8ed1c3457837a7e0b3b7cd6c0/expr.png\" style=\"display:inline;vertical-align:middle;\" /></a></td></tr>\n",
       "<tr><td>16</td><td>Variable</td><td></td><td><a class=\"ProveItLink\" href=\"../../../../../__pv_it/common/d3b5a05ce48f7e4b8f946549743adda31d51d0e80/expr.ipynb\"><img src=\"../../../../../__pv_it/common/d3b5a05ce48f7e4b8f946549743adda31d51d0e80/expr.png\" style=\"display:inline;vertical-align:middle;\" /></a></td></tr>\n",
       "<tr><td>17</td><td>Operation</td><td>operator:&nbsp;27<br>operands:&nbsp;19<br></td><td><a class=\"ProveItLink\" href=\"../6cc29088e246b055ca9d07bd6f155838f96949940/expr.ipynb\"><img src=\"../6cc29088e246b055ca9d07bd6f155838f96949940/expr.png\" style=\"display:inline;vertical-align:middle;\" /></a></td></tr>\n",
       "<tr><td>18</td><td>Lambda</td><td>parameter:&nbsp;33<br>body:&nbsp;21<br></td><td><a class=\"ProveItLink\" href=\"../ef382c4455bcdb0687abce4b0dd35ba9881d5eb60/expr.ipynb\"><img src=\"../ef382c4455bcdb0687abce4b0dd35ba9881d5eb60/expr.png\" style=\"display:inline;vertical-align:middle;\" /></a></td></tr>\n",
       "<tr><td>19</td><td>ExprTuple</td><td>33, 22</td><td><a class=\"ProveItLink\" href=\"../e87dccb09b719984369e85e1fe2445628d9f6aad0/expr.ipynb\"><img src=\"../e87dccb09b719984369e85e1fe2445628d9f6aad0/expr.png\" style=\"display:inline;vertical-align:middle;\" /></a></td></tr>\n",
       "<tr><td>20</td><td>ExprTuple</td><td>33</td><td><a class=\"ProveItLink\" href=\"../../../../../__pv_it/common/3b7d7ace2ced0a8261ea4d18d03aaf49e434d69d0/expr.ipynb\"><img src=\"../../../../../__pv_it/common/3b7d7ace2ced0a8261ea4d18d03aaf49e434d69d0/expr.png\" style=\"display:inline;vertical-align:middle;\" /></a></td></tr>\n",
       "<tr><td>21</td><td>Conditional</td><td>value:&nbsp;23<br>condition:&nbsp;24<br></td><td><a class=\"ProveItLink\" href=\"../f6e6577be720ed429760f02ba6106270d213a8620/expr.ipynb\"><img src=\"../f6e6577be720ed429760f02ba6106270d213a8620/expr.png\" style=\"display:inline;vertical-align:middle;\" /></a></td></tr>\n",
       "<tr><td>22</td><td>Operation</td><td>operator:&nbsp;25<br>operands:&nbsp;26<br></td><td><a class=\"ProveItLink\" href=\"../ffc5987ff2367c75c570016997d286dc9b72582b0/expr.ipynb\"><img src=\"../ffc5987ff2367c75c570016997d286dc9b72582b0/expr.png\" style=\"display:inline;vertical-align:middle;\" /></a></td></tr>\n",
       "<tr><td>23</td><td>Operation</td><td>operator:&nbsp;27<br>operands:&nbsp;28<br></td><td><a class=\"ProveItLink\" href=\"../b8d3468e8e7bc3040c4976ff2ec07386b2f97fea0/expr.ipynb\"><img src=\"../b8d3468e8e7bc3040c4976ff2ec07386b2f97fea0/expr.png\" style=\"display:inline;vertical-align:middle;\" /></a></td></tr>\n",
       "<tr><td>24</td><td>Operation</td><td>operator:&nbsp;29<br>operands:&nbsp;30<br></td><td><a class=\"ProveItLink\" href=\"../1dcee5d42a9a39499a39768abf9beb5a120321210/expr.ipynb\"><img src=\"../1dcee5d42a9a39499a39768abf9beb5a120321210/expr.png\" style=\"display:inline;vertical-align:middle;\" /></a></td></tr>\n",
       "<tr><td>25</td><td>Literal</td><td></td><td><a class=\"ProveItLink\" href=\"../../common/7fa25b05174babb4710be62d63ebd43f68aa2fec0/expr.ipynb\"><img src=\"../../common/7fa25b05174babb4710be62d63ebd43f68aa2fec0/expr.png\" style=\"display:inline;vertical-align:middle;\" /></a></td></tr>\n",
       "<tr><td>26</td><td>ExprTuple</td><td>31, 32</td><td><a class=\"ProveItLink\" href=\"../../../../../__pv_it/common/70b6dfe187a2382408546cc714e0c3bc5c3a48c90/expr.ipynb\"><img src=\"../../../../../__pv_it/common/70b6dfe187a2382408546cc714e0c3bc5c3a48c90/expr.png\" style=\"display:inline;vertical-align:middle;\" /></a></td></tr>\n",
       "<tr><td>27</td><td>Literal</td><td></td><td><a class=\"ProveItLink\" href=\"../../../../scalar_multiplication/__pv_it/common/1e364bd471e6a29fcd358dd2d9cd990a1e6fedd40/expr.ipynb\"><img src=\"../../../../scalar_multiplication/__pv_it/common/1e364bd471e6a29fcd358dd2d9cd990a1e6fedd40/expr.png\" style=\"display:inline;vertical-align:middle;\" /></a></td></tr>\n",
       "<tr><td>28</td><td>ExprTuple</td><td>33, 32</td><td><a class=\"ProveItLink\" href=\"../8c24ad8973966060daba0b80f2c8a63ccff3ccc60/expr.ipynb\"><img src=\"../8c24ad8973966060daba0b80f2c8a63ccff3ccc60/expr.png\" style=\"display:inline;vertical-align:middle;\" /></a></td></tr>\n",
       "<tr><td>29</td><td>Literal</td><td></td><td><a class=\"ProveItLink\" href=\"../../../../../logic/sets/membership/__pv_it/common/477487d8796864d23d5810f83761435f25167f690/expr.ipynb\"><img src=\"../../../../../logic/sets/membership/__pv_it/common/477487d8796864d23d5810f83761435f25167f690/expr.png\" style=\"display:inline;vertical-align:middle;\" /></a></td></tr>\n",
       "<tr><td>30</td><td>ExprTuple</td><td>33, 34</td><td><a class=\"ProveItLink\" href=\"../28d2afb06ec85f8673a332040f8f84c54020e9590/expr.ipynb\"><img src=\"../28d2afb06ec85f8673a332040f8f84c54020e9590/expr.png\" style=\"display:inline;vertical-align:middle;\" /></a></td></tr>\n",
       "<tr><td>31</td><td>Variable</td><td></td><td><a class=\"ProveItLink\" href=\"../../../../../__pv_it/common/a0d9d672aa5e272d907247690c152cc2c6daafb70/expr.ipynb\"><img src=\"../../../../../__pv_it/common/a0d9d672aa5e272d907247690c152cc2c6daafb70/expr.png\" style=\"display:inline;vertical-align:middle;\" /></a></td></tr>\n",
       "<tr><td>32</td><td>Variable</td><td></td><td><a class=\"ProveItLink\" href=\"../../../../../__pv_it/common/ff7dba4ef0bbe791ab573bf2d9c220a304399ac80/expr.ipynb\"><img src=\"../../../../../__pv_it/common/ff7dba4ef0bbe791ab573bf2d9c220a304399ac80/expr.png\" style=\"display:inline;vertical-align:middle;\" /></a></td></tr>\n",
       "<tr><td>33</td><td>Variable</td><td></td><td><a class=\"ProveItLink\" href=\"../../../../../__pv_it/common/ae955345c83abf786c3aff8681cd5465beae262d0/expr.ipynb\"><img src=\"../../../../../__pv_it/common/ae955345c83abf786c3aff8681cd5465beae262d0/expr.png\" style=\"display:inline;vertical-align:middle;\" /></a></td></tr>\n",
       "<tr><td>34</td><td>Operation</td><td>operator:&nbsp;35<br>operands:&nbsp;36<br></td><td><a class=\"ProveItLink\" href=\"../d52b7b54dc47ec2badf6859f9847ff1f1b35483a0/expr.ipynb\"><img src=\"../d52b7b54dc47ec2badf6859f9847ff1f1b35483a0/expr.png\" style=\"display:inline;vertical-align:middle;\" /></a></td></tr>\n",
       "<tr><td>35</td><td>Literal</td><td></td><td><a class=\"ProveItLink\" href=\"../../../../../numbers/number_sets/integers/__pv_it/common/92f3a0a77e3c3ea8e4a5c8674edadc54e4f57d550/expr.ipynb\"><img src=\"../../../../../numbers/number_sets/integers/__pv_it/common/92f3a0a77e3c3ea8e4a5c8674edadc54e4f57d550/expr.png\" style=\"display:inline;vertical-align:middle;\" /></a></td></tr>\n",
       "<tr><td>36</td><td>ExprTuple</td><td>37, 38</td><td><a class=\"ProveItLink\" href=\"../4dcdc5026f80b9604cf319714818529aceda286b0/expr.ipynb\"><img src=\"../4dcdc5026f80b9604cf319714818529aceda286b0/expr.png\" style=\"display:inline;vertical-align:middle;\" /></a></td></tr>\n",
       "<tr><td>37</td><td>Literal</td><td></td><td><a class=\"ProveItLink\" href=\"../../../../../numbers/numerals/__pv_it/common/af4aab8a07465db063742696e006d04670f30cf10/expr.ipynb\"><img src=\"../../../../../numbers/numerals/__pv_it/common/af4aab8a07465db063742696e006d04670f30cf10/expr.png\" style=\"display:inline;vertical-align:middle;\" /></a></td></tr>\n",
       "<tr><td>38</td><td>Literal</td><td></td><td><a class=\"ProveItLink\" href=\"../../../../../numbers/numerals/__pv_it/common/48a1d915c1e9490b9a94e5c77a208938d3ee20ce0/expr.ipynb\"><img src=\"../../../../../numbers/numerals/__pv_it/common/48a1d915c1e9490b9a94e5c77a208938d3ee20ce0/expr.png\" style=\"display:inline;vertical-align:middle;\" /></a></td></tr>\n",
       "</table>\n"
      ],
      "text/plain": [
       "0. (Sum_{i=2}^{4} (gamma * (i * (x otimes y)))) = (gamma * (x otimes (Sum_{i=2}^{4} (i * y))))\n",
       "   core type: Operation\n",
       "   operator: 1\n",
       "   operands: 2\n",
       "1. =\n",
       "   core type: Literal\n",
       "   sub-expressions: \n",
       "2. (Sum_{i=2}^{4} (gamma * (i * (x otimes y))), gamma * (x otimes (Sum_{i=2}^{4} (i * y))))\n",
       "   core type: ExprTuple\n",
       "   sub-expressions: 3, 4\n",
       "3. Sum_{i=2}^{4} (gamma * (i * (x otimes y)))\n",
       "   core type: Operation\n",
       "   operator: 14\n",
       "   operand: 7\n",
       "4. gamma * (x otimes (Sum_{i=2}^{4} (i * y)))\n",
       "   core type: Operation\n",
       "   operator: 27\n",
       "   operands: 6\n",
       "5. (i -> {gamma * (i * (x otimes y)) if i in {2 .. 4}.)\n",
       "   core type: ExprTuple\n",
       "   sub-expressions: 7\n",
       "6. (gamma, x otimes (Sum_{i=2}^{4} (i * y)))\n",
       "   core type: ExprTuple\n",
       "   sub-expressions: 16, 8\n",
       "7. i -> {gamma * (i * (x otimes y)) if i in {2 .. 4}.\n",
       "   core type: Lambda\n",
       "   parameter: 33\n",
       "   body: 9\n",
       "8. x otimes (Sum_{i=2}^{4} (i * y))\n",
       "   core type: Operation\n",
       "   operator: 25\n",
       "   operands: 10\n",
       "9. {gamma * (i * (x otimes y)) if i in {2 .. 4}.\n",
       "   core type: Conditional\n",
       "   value: 11\n",
       "   condition: 24\n",
       "10. (x, Sum_{i=2}^{4} (i * y))\n",
       "    core type: ExprTuple\n",
       "    sub-expressions: 31, 12\n",
       "11. gamma * (i * (x otimes y))\n",
       "    core type: Operation\n",
       "    operator: 27\n",
       "    operands: 13\n",
       "12. Sum_{i=2}^{4} (i * y)\n",
       "    core type: Operation\n",
       "    operator: 14\n",
       "    operand: 18\n",
       "13. (gamma, i * (x otimes y))\n",
       "    core type: ExprTuple\n",
       "    sub-expressions: 16, 17\n",
       "14. Sum\n",
       "    core type: Literal\n",
       "    sub-expressions: \n",
       "15. (i -> {i * y if i in {2 .. 4}.)\n",
       "    core type: ExprTuple\n",
       "    sub-expressions: 18\n",
       "16. gamma\n",
       "    core type: Variable\n",
       "    sub-expressions: \n",
       "17. i * (x otimes y)\n",
       "    core type: Operation\n",
       "    operator: 27\n",
       "    operands: 19\n",
       "18. i -> {i * y if i in {2 .. 4}.\n",
       "    core type: Lambda\n",
       "    parameter: 33\n",
       "    body: 21\n",
       "19. (i, x otimes y)\n",
       "    core type: ExprTuple\n",
       "    sub-expressions: 33, 22\n",
       "20. (i)\n",
       "    core type: ExprTuple\n",
       "    sub-expressions: 33\n",
       "21. {i * y if i in {2 .. 4}.\n",
       "    core type: Conditional\n",
       "    value: 23\n",
       "    condition: 24\n",
       "22. x otimes y\n",
       "    core type: Operation\n",
       "    operator: 25\n",
       "    operands: 26\n",
       "23. i * y\n",
       "    core type: Operation\n",
       "    operator: 27\n",
       "    operands: 28\n",
       "24. i in {2 .. 4}\n",
       "    core type: Operation\n",
       "    operator: 29\n",
       "    operands: 30\n",
       "25. otimes\n",
       "    core type: Literal\n",
       "    sub-expressions: \n",
       "26. (x, y)\n",
       "    core type: ExprTuple\n",
       "    sub-expressions: 31, 32\n",
       "27. *\n",
       "    core type: Literal\n",
       "    sub-expressions: \n",
       "28. (i, y)\n",
       "    core type: ExprTuple\n",
       "    sub-expressions: 33, 32\n",
       "29. in\n",
       "    core type: Literal\n",
       "    sub-expressions: \n",
       "30. (i, {2 .. 4})\n",
       "    core type: ExprTuple\n",
       "    sub-expressions: 33, 34\n",
       "31. x\n",
       "    core type: Variable\n",
       "    sub-expressions: \n",
       "32. y\n",
       "    core type: Variable\n",
       "    sub-expressions: \n",
       "33. i\n",
       "    core type: Variable\n",
       "    sub-expressions: \n",
       "34. {2 .. 4}\n",
       "    core type: Operation\n",
       "    operator: 35\n",
       "    operands: 36\n",
       "35. Interval\n",
       "    core type: Literal\n",
       "    sub-expressions: \n",
       "36. (2, 4)\n",
       "    core type: ExprTuple\n",
       "    sub-expressions: 37, 38\n",
       "37. 2\n",
       "    core type: Literal\n",
       "    sub-expressions: \n",
       "38. 4\n",
       "    core type: Literal\n",
       "    sub-expressions: "
      ]
     },
     "metadata": {},
     "output_type": "display_data"
    }
   ],
   "source": [
    "# display the expression information\n",
    "stored_expr.expr_info()"
   ]
  },
  {
   "cell_type": "code",
   "execution_count": null,
   "metadata": {},
   "outputs": [],
   "source": []
  }
 ],
 "metadata": {
  "kernelspec": {
   "display_name": "Python 3",
   "language": "python",
   "name": "python3"
  }
 },
 "nbformat": 4,
 "nbformat_minor": 0
}