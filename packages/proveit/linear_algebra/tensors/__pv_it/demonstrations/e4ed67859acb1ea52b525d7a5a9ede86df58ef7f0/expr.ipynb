{
 "cells": [
  {
   "cell_type": "markdown",
   "metadata": {},
   "source": [
    "Expression of type <a class=\"ProveItLink\" href=\"../../../../../../../doc/html/api/proveit.ExprTuple.html\">ExprTuple</a>\n",
    "=======================\n",
    "# from the theory of <a class=\"ProveItLink\" href=\"../../../_theory_nbs_/theory.ipynb\">proveit.linear_algebra.tensors</a>"
   ]
  },
  {
   "cell_type": "code",
   "execution_count": 1,
   "metadata": {},
   "outputs": [],
   "source": [
    "import proveit\n",
    "# Automation is not needed when building an expression:\n",
    "proveit.defaults.automation = False # This will speed things up.\n",
    "proveit.defaults.inline_pngs = False # Makes files smaller.\n",
    "%load_expr # Load the stored expression as 'stored_expr'\n",
    "# import Expression classes needed to build the expression\n",
    "from proveit import ExprTuple, fi, gamma, i, x, y, z\n",
    "from proveit.linear_algebra import ScalarMult, TensorProd, VecSum\n",
    "from proveit.logic import CartExp, Equals, InSet\n",
    "from proveit.numbers import Interval, Real, four, three, two"
   ]
  },
  {
   "cell_type": "code",
   "execution_count": 2,
   "metadata": {},
   "outputs": [
    {
     "data": {
      "text/html": [
       "<strong id=\"expr\">expr:</strong> <a class=\"ProveItLink\" href=\"expr.ipynb\"><img src=\"expr.png\" style=\"display:inline;vertical-align:middle;\" /></a><br>"
      ],
      "text/plain": [
       "<IPython.core.display.HTML object>"
      ]
     },
     "metadata": {},
     "output_type": "display_data"
    }
   ],
   "source": [
    "# build up the expression from sub-expressions\n",
    "sub_expr1 = [i]\n",
    "sub_expr2 = Interval(two, four)\n",
    "sub_expr3 = CartExp(Real, three)\n",
    "sub_expr4 = TensorProd(x, y, fi, z)\n",
    "sub_expr5 = VecSum(index_or_indices = sub_expr1, summand = sub_expr4, domain = sub_expr2)\n",
    "expr = ExprTuple(InSet(sub_expr5, TensorProd(sub_expr3, sub_expr3, sub_expr3, sub_expr3)), Equals(ScalarMult(gamma, sub_expr5), VecSum(index_or_indices = sub_expr1, summand = ScalarMult(gamma, sub_expr4), domain = sub_expr2)).with_wrapping_at(1))"
   ]
  },
  {
   "cell_type": "code",
   "execution_count": 3,
   "metadata": {},
   "outputs": [
    {
     "name": "stdout",
     "output_type": "stream",
     "text": [
      "Passed sanity check: expr matches stored_expr\n"
     ]
    }
   ],
   "source": [
    "# check that the built expression is the same as the stored expression\n",
    "assert expr == stored_expr\n",
    "assert expr._style_id == stored_expr._style_id\n",
    "print(\"Passed sanity check: expr matches stored_expr\")"
   ]
  },
  {
   "cell_type": "code",
   "execution_count": 4,
   "metadata": {},
   "outputs": [
    {
     "name": "stdout",
     "output_type": "stream",
     "text": [
      "\\left(\\left(\\sum_{i=2}^{4} \\left(x {\\otimes} y {\\otimes} f\\left(i\\right) {\\otimes} z\\right)\\right) \\in \\left(\\mathbb{R}^{3} {\\otimes} \\mathbb{R}^{3} {\\otimes} \\mathbb{R}^{3} {\\otimes} \\mathbb{R}^{3}\\right), \\begin{array}{c} \\begin{array}{l} \\left(\\gamma \\cdot \\left(\\sum_{i=2}^{4} \\left(x {\\otimes} y {\\otimes} f\\left(i\\right) {\\otimes} z\\right)\\right)\\right) \\\\  = \\left(\\sum_{i=2}^{4} \\left(\\gamma \\cdot \\left(x {\\otimes} y {\\otimes} f\\left(i\\right) {\\otimes} z\\right)\\right)\\right) \\end{array} \\end{array}\\right)\n"
     ]
    }
   ],
   "source": [
    "# Show the LaTeX representation of the expression for convenience if you need it.\n",
    "print(stored_expr.latex())"
   ]
  },
  {
   "cell_type": "code",
   "execution_count": 5,
   "metadata": {},
   "outputs": [
    {
     "data": {
      "text/html": [
       "<table>\n",
       "<tr><th>name</th><th>description</th><th>default</th><th>current value</th><th>related methods</th></tr><tr><td>wrap_positions</td><td>position(s) at which wrapping is to occur; 'n' is after the nth comma.</td><td>()</td><td>()</td><td>('with_wrapping_at',)</td></tr>\n",
       "<tr><td>justification</td><td>if any wrap positions are set, justify to the 'left', 'center', or 'right'</td><td>left</td><td>left</td><td>('with_justification',)</td></tr>\n",
       "</table>\n"
      ],
      "text/plain": [
       "style name: wrap_positions\n",
       "description: position(s) at which wrapping is to occur; 'n' is after the nth comma.\n",
       "default: ()\n",
       "current value: ()\n",
       "related methods: ('with_wrapping_at',)\n",
       "style name: justification\n",
       "description: if any wrap positions are set, justify to the 'left', 'center', or 'right'\n",
       "default: left\n",
       "current value: left\n",
       "related methods: ('with_justification',)"
      ]
     },
     "metadata": {},
     "output_type": "display_data"
    }
   ],
   "source": [
    "stored_expr.style_options()"
   ]
  },
  {
   "cell_type": "code",
   "execution_count": 6,
   "metadata": {},
   "outputs": [
    {
     "data": {
      "text/html": [
       "<table><tr><th>&nbsp;</th><th>core type</th><th>sub-expressions</th><th>expression</th></tr>\n",
       "<tr><td>0</td><td>ExprTuple</td><td>1, 2</td><td><a class=\"ProveItLink\" href=\"expr.ipynb\"><img src=\"expr.png\" style=\"display:inline;vertical-align:middle;\" /></a></td></tr>\n",
       "<tr><td>1</td><td>Operation</td><td>operator:&nbsp;30<br>operands:&nbsp;3<br></td><td><a class=\"ProveItLink\" href=\"../fd8e6a7801556fff8ad2beeb23f9d368d9c64ed90/expr.ipynb\"><img src=\"../fd8e6a7801556fff8ad2beeb23f9d368d9c64ed90/expr.png\" style=\"display:inline;vertical-align:middle;\" /></a></td></tr>\n",
       "<tr><td>2</td><td>Operation</td><td>operator:&nbsp;4<br>operands:&nbsp;5<br></td><td><a class=\"ProveItLink\" href=\"../1717225eec8c73247b2a8be740138a930c13e8ee0/expr.ipynb\"><img src=\"../1717225eec8c73247b2a8be740138a930c13e8ee0/expr.png\" style=\"display:inline;vertical-align:middle;\" /></a></td></tr>\n",
       "<tr><td>3</td><td>ExprTuple</td><td>13, 6</td><td><a class=\"ProveItLink\" href=\"../bca660e5e5535fd810a961d54908ff6adec0f51e0/expr.ipynb\"><img src=\"../bca660e5e5535fd810a961d54908ff6adec0f51e0/expr.png\" style=\"display:inline;vertical-align:middle;\" /></a></td></tr>\n",
       "<tr><td>4</td><td>Literal</td><td></td><td><a class=\"ProveItLink\" href=\"../../../../../logic/equality/__pv_it/common/fb96dc12b2aa8801dda64d0132b396c63d1502bb0/expr.ipynb\"><img src=\"../../../../../logic/equality/__pv_it/common/fb96dc12b2aa8801dda64d0132b396c63d1502bb0/expr.png\" style=\"display:inline;vertical-align:middle;\" /></a></td></tr>\n",
       "<tr><td>5</td><td>ExprTuple</td><td>7, 8</td><td><a class=\"ProveItLink\" href=\"../dc19e1390dfa0b10c3c976952572827827b8e90d0/expr.ipynb\"><img src=\"../dc19e1390dfa0b10c3c976952572827827b8e90d0/expr.png\" style=\"display:inline;vertical-align:middle;\" /></a></td></tr>\n",
       "<tr><td>6</td><td>Operation</td><td>operator:&nbsp;32<br>operands:&nbsp;9<br></td><td><a class=\"ProveItLink\" href=\"../ed664062d6dec929f65db4cf4f81fb01756d522c0/expr.ipynb\"><img src=\"../ed664062d6dec929f65db4cf4f81fb01756d522c0/expr.png\" style=\"display:inline;vertical-align:middle;\" /></a></td></tr>\n",
       "<tr><td>7</td><td>Operation</td><td>operator:&nbsp;25<br>operands:&nbsp;10<br></td><td><a class=\"ProveItLink\" href=\"../6c82a188fcc0b880539031916eb8dbbf26e303f90/expr.ipynb\"><img src=\"../6c82a188fcc0b880539031916eb8dbbf26e303f90/expr.png\" style=\"display:inline;vertical-align:middle;\" /></a></td></tr>\n",
       "<tr><td>8</td><td>Operation</td><td>operator:&nbsp;17<br>operand:&nbsp;14<br></td><td><a class=\"ProveItLink\" href=\"../bcb45c657d515590ceba8d7012ae06f60497bddc0/expr.ipynb\"><img src=\"../bcb45c657d515590ceba8d7012ae06f60497bddc0/expr.png\" style=\"display:inline;vertical-align:middle;\" /></a></td></tr>\n",
       "<tr><td>9</td><td>ExprTuple</td><td>12, 12, 12, 12</td><td><a class=\"ProveItLink\" href=\"../bba2682aa5fb1a935ef1de1146871fbf9f83724b0/expr.ipynb\"><img src=\"../bba2682aa5fb1a935ef1de1146871fbf9f83724b0/expr.png\" style=\"display:inline;vertical-align:middle;\" /></a></td></tr>\n",
       "<tr><td>10</td><td>ExprTuple</td><td>28, 13</td><td><a class=\"ProveItLink\" href=\"../addbe14643828023f7098445cc4dba473efb47620/expr.ipynb\"><img src=\"../addbe14643828023f7098445cc4dba473efb47620/expr.png\" style=\"display:inline;vertical-align:middle;\" /></a></td></tr>\n",
       "<tr><td>11</td><td>ExprTuple</td><td>14</td><td><a class=\"ProveItLink\" href=\"../9eb890dcf77a07dbdcfe83184d7b26f0f8d34a000/expr.ipynb\"><img src=\"../9eb890dcf77a07dbdcfe83184d7b26f0f8d34a000/expr.png\" style=\"display:inline;vertical-align:middle;\" /></a></td></tr>\n",
       "<tr><td>12</td><td>Operation</td><td>operator:&nbsp;15<br>operands:&nbsp;16<br></td><td><a class=\"ProveItLink\" href=\"../b09d232dc6c8bd1b305d141dd063505555f74fe50/expr.ipynb\"><img src=\"../b09d232dc6c8bd1b305d141dd063505555f74fe50/expr.png\" style=\"display:inline;vertical-align:middle;\" /></a></td></tr>\n",
       "<tr><td>13</td><td>Operation</td><td>operator:&nbsp;17<br>operand:&nbsp;22<br></td><td><a class=\"ProveItLink\" href=\"../16fc1c1d157b87468f59abfca36ef71dd70e9ae50/expr.ipynb\"><img src=\"../16fc1c1d157b87468f59abfca36ef71dd70e9ae50/expr.png\" style=\"display:inline;vertical-align:middle;\" /></a></td></tr>\n",
       "<tr><td>14</td><td>Lambda</td><td>parameter:&nbsp;45<br>body:&nbsp;19<br></td><td><a class=\"ProveItLink\" href=\"../1c71e9814c36b3fd73a5d7f19557686e036143590/expr.ipynb\"><img src=\"../1c71e9814c36b3fd73a5d7f19557686e036143590/expr.png\" style=\"display:inline;vertical-align:middle;\" /></a></td></tr>\n",
       "<tr><td>15</td><td>Literal</td><td></td><td><a class=\"ProveItLink\" href=\"../../../../../logic/sets/cartesian_products/__pv_it/common/7d20d67ddfbd94ad12efc9670c0d16a295b8ec1a0/expr.ipynb\"><img src=\"../../../../../logic/sets/cartesian_products/__pv_it/common/7d20d67ddfbd94ad12efc9670c0d16a295b8ec1a0/expr.png\" style=\"display:inline;vertical-align:middle;\" /></a></td></tr>\n",
       "<tr><td>16</td><td>ExprTuple</td><td>20, 21</td><td><a class=\"ProveItLink\" href=\"../7153ff9c6d56816696f64f5d4ee2610a6f3959e70/expr.ipynb\"><img src=\"../7153ff9c6d56816696f64f5d4ee2610a6f3959e70/expr.png\" style=\"display:inline;vertical-align:middle;\" /></a></td></tr>\n",
       "<tr><td>17</td><td>Literal</td><td></td><td><a class=\"ProveItLink\" href=\"../../../../addition/__pv_it/common/62f73c830c62efb87627ede5678f282081cd0ce20/expr.ipynb\"><img src=\"../../../../addition/__pv_it/common/62f73c830c62efb87627ede5678f282081cd0ce20/expr.png\" style=\"display:inline;vertical-align:middle;\" /></a></td></tr>\n",
       "<tr><td>18</td><td>ExprTuple</td><td>22</td><td><a class=\"ProveItLink\" href=\"../0339da5c71dd4dcb154468e3b0b110c70c3a7b4b0/expr.ipynb\"><img src=\"../0339da5c71dd4dcb154468e3b0b110c70c3a7b4b0/expr.png\" style=\"display:inline;vertical-align:middle;\" /></a></td></tr>\n",
       "<tr><td>19</td><td>Conditional</td><td>value:&nbsp;23<br>condition:&nbsp;27<br></td><td><a class=\"ProveItLink\" href=\"../7ef0a31415f17b50a5fdcf9d633ba950769d06420/expr.ipynb\"><img src=\"../7ef0a31415f17b50a5fdcf9d633ba950769d06420/expr.png\" style=\"display:inline;vertical-align:middle;\" /></a></td></tr>\n",
       "<tr><td>20</td><td>Literal</td><td></td><td><a class=\"ProveItLink\" href=\"../../../../../numbers/number_sets/real_numbers/__pv_it/common/93cac87a1a47e613f7a83b23ef7891599a1a4cca0/expr.ipynb\"><img src=\"../../../../../numbers/number_sets/real_numbers/__pv_it/common/93cac87a1a47e613f7a83b23ef7891599a1a4cca0/expr.png\" style=\"display:inline;vertical-align:middle;\" /></a></td></tr>\n",
       "<tr><td>21</td><td>Literal</td><td></td><td><a class=\"ProveItLink\" href=\"../../../../../numbers/numerals/__pv_it/common/1943b60945420e340d305780feff5c1aff2740ff0/expr.ipynb\"><img src=\"../../../../../numbers/numerals/__pv_it/common/1943b60945420e340d305780feff5c1aff2740ff0/expr.png\" style=\"display:inline;vertical-align:middle;\" /></a></td></tr>\n",
       "<tr><td>22</td><td>Lambda</td><td>parameter:&nbsp;45<br>body:&nbsp;24<br></td><td><a class=\"ProveItLink\" href=\"../9bc66886f0112a5b4f97f67f589d659ca3762d0b0/expr.ipynb\"><img src=\"../9bc66886f0112a5b4f97f67f589d659ca3762d0b0/expr.png\" style=\"display:inline;vertical-align:middle;\" /></a></td></tr>\n",
       "<tr><td>23</td><td>Operation</td><td>operator:&nbsp;25<br>operands:&nbsp;26<br></td><td><a class=\"ProveItLink\" href=\"../b5c6c881fe7116f3270b336162b907e8e20488060/expr.ipynb\"><img src=\"../b5c6c881fe7116f3270b336162b907e8e20488060/expr.png\" style=\"display:inline;vertical-align:middle;\" /></a></td></tr>\n",
       "<tr><td>24</td><td>Conditional</td><td>value:&nbsp;29<br>condition:&nbsp;27<br></td><td><a class=\"ProveItLink\" href=\"../58e5696b96a17ada6b6c7d7206efa972c50897a90/expr.ipynb\"><img src=\"../58e5696b96a17ada6b6c7d7206efa972c50897a90/expr.png\" style=\"display:inline;vertical-align:middle;\" /></a></td></tr>\n",
       "<tr><td>25</td><td>Literal</td><td></td><td><a class=\"ProveItLink\" href=\"../../../../scalar_multiplication/__pv_it/common/1e364bd471e6a29fcd358dd2d9cd990a1e6fedd40/expr.ipynb\"><img src=\"../../../../scalar_multiplication/__pv_it/common/1e364bd471e6a29fcd358dd2d9cd990a1e6fedd40/expr.png\" style=\"display:inline;vertical-align:middle;\" /></a></td></tr>\n",
       "<tr><td>26</td><td>ExprTuple</td><td>28, 29</td><td><a class=\"ProveItLink\" href=\"../555efd8510ef6b5e97b69e9d7a5ec14c9c3b57c00/expr.ipynb\"><img src=\"../555efd8510ef6b5e97b69e9d7a5ec14c9c3b57c00/expr.png\" style=\"display:inline;vertical-align:middle;\" /></a></td></tr>\n",
       "<tr><td>27</td><td>Operation</td><td>operator:&nbsp;30<br>operands:&nbsp;31<br></td><td><a class=\"ProveItLink\" href=\"../1dcee5d42a9a39499a39768abf9beb5a120321210/expr.ipynb\"><img src=\"../1dcee5d42a9a39499a39768abf9beb5a120321210/expr.png\" style=\"display:inline;vertical-align:middle;\" /></a></td></tr>\n",
       "<tr><td>28</td><td>Variable</td><td></td><td><a class=\"ProveItLink\" href=\"../../../../../__pv_it/common/d3b5a05ce48f7e4b8f946549743adda31d51d0e80/expr.ipynb\"><img src=\"../../../../../__pv_it/common/d3b5a05ce48f7e4b8f946549743adda31d51d0e80/expr.png\" style=\"display:inline;vertical-align:middle;\" /></a></td></tr>\n",
       "<tr><td>29</td><td>Operation</td><td>operator:&nbsp;32<br>operands:&nbsp;33<br></td><td><a class=\"ProveItLink\" href=\"../d3af177b22aa55d801f3268c3ac40d3816783b5d0/expr.ipynb\"><img src=\"../d3af177b22aa55d801f3268c3ac40d3816783b5d0/expr.png\" style=\"display:inline;vertical-align:middle;\" /></a></td></tr>\n",
       "<tr><td>30</td><td>Literal</td><td></td><td><a class=\"ProveItLink\" href=\"../../../../../logic/sets/membership/__pv_it/common/477487d8796864d23d5810f83761435f25167f690/expr.ipynb\"><img src=\"../../../../../logic/sets/membership/__pv_it/common/477487d8796864d23d5810f83761435f25167f690/expr.png\" style=\"display:inline;vertical-align:middle;\" /></a></td></tr>\n",
       "<tr><td>31</td><td>ExprTuple</td><td>45, 34</td><td><a class=\"ProveItLink\" href=\"../28d2afb06ec85f8673a332040f8f84c54020e9590/expr.ipynb\"><img src=\"../28d2afb06ec85f8673a332040f8f84c54020e9590/expr.png\" style=\"display:inline;vertical-align:middle;\" /></a></td></tr>\n",
       "<tr><td>32</td><td>Literal</td><td></td><td><a class=\"ProveItLink\" href=\"../../common/7fa25b05174babb4710be62d63ebd43f68aa2fec0/expr.ipynb\"><img src=\"../../common/7fa25b05174babb4710be62d63ebd43f68aa2fec0/expr.png\" style=\"display:inline;vertical-align:middle;\" /></a></td></tr>\n",
       "<tr><td>33</td><td>ExprTuple</td><td>35, 36, 37, 38</td><td><a class=\"ProveItLink\" href=\"../015fb2f97c85880b24f6286962ef94e3e7c890b00/expr.ipynb\"><img src=\"../015fb2f97c85880b24f6286962ef94e3e7c890b00/expr.png\" style=\"display:inline;vertical-align:middle;\" /></a></td></tr>\n",
       "<tr><td>34</td><td>Operation</td><td>operator:&nbsp;39<br>operands:&nbsp;40<br></td><td><a class=\"ProveItLink\" href=\"../d52b7b54dc47ec2badf6859f9847ff1f1b35483a0/expr.ipynb\"><img src=\"../d52b7b54dc47ec2badf6859f9847ff1f1b35483a0/expr.png\" style=\"display:inline;vertical-align:middle;\" /></a></td></tr>\n",
       "<tr><td>35</td><td>Variable</td><td></td><td><a class=\"ProveItLink\" href=\"../../../../../__pv_it/common/a0d9d672aa5e272d907247690c152cc2c6daafb70/expr.ipynb\"><img src=\"../../../../../__pv_it/common/a0d9d672aa5e272d907247690c152cc2c6daafb70/expr.png\" style=\"display:inline;vertical-align:middle;\" /></a></td></tr>\n",
       "<tr><td>36</td><td>Variable</td><td></td><td><a class=\"ProveItLink\" href=\"../../../../../__pv_it/common/ff7dba4ef0bbe791ab573bf2d9c220a304399ac80/expr.ipynb\"><img src=\"../../../../../__pv_it/common/ff7dba4ef0bbe791ab573bf2d9c220a304399ac80/expr.png\" style=\"display:inline;vertical-align:middle;\" /></a></td></tr>\n",
       "<tr><td>37</td><td>Operation</td><td>operator:&nbsp;41<br>operand:&nbsp;45<br></td><td><a class=\"ProveItLink\" href=\"../../../../../__pv_it/common/68d279ba17eb875d9f466a293b0b7fcc3ad8621e0/expr.ipynb\"><img src=\"../../../../../__pv_it/common/68d279ba17eb875d9f466a293b0b7fcc3ad8621e0/expr.png\" style=\"display:inline;vertical-align:middle;\" /></a></td></tr>\n",
       "<tr><td>38</td><td>Variable</td><td></td><td><a class=\"ProveItLink\" href=\"../../../../../__pv_it/common/95a8f6b9b9f29b83f192ad7fd05708d6be097a3f0/expr.ipynb\"><img src=\"../../../../../__pv_it/common/95a8f6b9b9f29b83f192ad7fd05708d6be097a3f0/expr.png\" style=\"display:inline;vertical-align:middle;\" /></a></td></tr>\n",
       "<tr><td>39</td><td>Literal</td><td></td><td><a class=\"ProveItLink\" href=\"../../../../../numbers/number_sets/integers/__pv_it/common/92f3a0a77e3c3ea8e4a5c8674edadc54e4f57d550/expr.ipynb\"><img src=\"../../../../../numbers/number_sets/integers/__pv_it/common/92f3a0a77e3c3ea8e4a5c8674edadc54e4f57d550/expr.png\" style=\"display:inline;vertical-align:middle;\" /></a></td></tr>\n",
       "<tr><td>40</td><td>ExprTuple</td><td>43, 44</td><td><a class=\"ProveItLink\" href=\"../4dcdc5026f80b9604cf319714818529aceda286b0/expr.ipynb\"><img src=\"../4dcdc5026f80b9604cf319714818529aceda286b0/expr.png\" style=\"display:inline;vertical-align:middle;\" /></a></td></tr>\n",
       "<tr><td>41</td><td>Variable</td><td></td><td><a class=\"ProveItLink\" href=\"../../../../../__pv_it/common/01b6dbb444a31fc38af4c2379badef6c75b363710/expr.ipynb\"><img src=\"../../../../../__pv_it/common/01b6dbb444a31fc38af4c2379badef6c75b363710/expr.png\" style=\"display:inline;vertical-align:middle;\" /></a></td></tr>\n",
       "<tr><td>42</td><td>ExprTuple</td><td>45</td><td><a class=\"ProveItLink\" href=\"../../../../../__pv_it/common/3b7d7ace2ced0a8261ea4d18d03aaf49e434d69d0/expr.ipynb\"><img src=\"../../../../../__pv_it/common/3b7d7ace2ced0a8261ea4d18d03aaf49e434d69d0/expr.png\" style=\"display:inline;vertical-align:middle;\" /></a></td></tr>\n",
       "<tr><td>43</td><td>Literal</td><td></td><td><a class=\"ProveItLink\" href=\"../../../../../numbers/numerals/__pv_it/common/af4aab8a07465db063742696e006d04670f30cf10/expr.ipynb\"><img src=\"../../../../../numbers/numerals/__pv_it/common/af4aab8a07465db063742696e006d04670f30cf10/expr.png\" style=\"display:inline;vertical-align:middle;\" /></a></td></tr>\n",
       "<tr><td>44</td><td>Literal</td><td></td><td><a class=\"ProveItLink\" href=\"../../../../../numbers/numerals/__pv_it/common/48a1d915c1e9490b9a94e5c77a208938d3ee20ce0/expr.ipynb\"><img src=\"../../../../../numbers/numerals/__pv_it/common/48a1d915c1e9490b9a94e5c77a208938d3ee20ce0/expr.png\" style=\"display:inline;vertical-align:middle;\" /></a></td></tr>\n",
       "<tr><td>45</td><td>Variable</td><td></td><td><a class=\"ProveItLink\" href=\"../../../../../__pv_it/common/ae955345c83abf786c3aff8681cd5465beae262d0/expr.ipynb\"><img src=\"../../../../../__pv_it/common/ae955345c83abf786c3aff8681cd5465beae262d0/expr.png\" style=\"display:inline;vertical-align:middle;\" /></a></td></tr>\n",
       "</table>\n"
      ],
      "text/plain": [
       "0. ((Sum_{i=2}^{4} (x otimes y otimes f(i) otimes z)) in (Real^{3} otimes Real^{3} otimes Real^{3} otimes Real^{3}), (gamma * (Sum_{i=2}^{4} (x otimes y otimes f(i) otimes z))) \\\\  = (Sum_{i=2}^{4} (gamma * (x otimes y otimes f(i) otimes z))))\n",
       "   core type: ExprTuple\n",
       "   sub-expressions: 1, 2\n",
       "1. (Sum_{i=2}^{4} (x otimes y otimes f(i) otimes z)) in (Real^{3} otimes Real^{3} otimes Real^{3} otimes Real^{3})\n",
       "   core type: Operation\n",
       "   operator: 30\n",
       "   operands: 3\n",
       "2. (gamma * (Sum_{i=2}^{4} (x otimes y otimes f(i) otimes z))) \\\\  = (Sum_{i=2}^{4} (gamma * (x otimes y otimes f(i) otimes z)))\n",
       "   core type: Operation\n",
       "   operator: 4\n",
       "   operands: 5\n",
       "3. (Sum_{i=2}^{4} (x otimes y otimes f(i) otimes z), Real^{3} otimes Real^{3} otimes Real^{3} otimes Real^{3})\n",
       "   core type: ExprTuple\n",
       "   sub-expressions: 13, 6\n",
       "4. =\n",
       "   core type: Literal\n",
       "   sub-expressions: \n",
       "5. (gamma * (Sum_{i=2}^{4} (x otimes y otimes f(i) otimes z)), Sum_{i=2}^{4} (gamma * (x otimes y otimes f(i) otimes z)))\n",
       "   core type: ExprTuple\n",
       "   sub-expressions: 7, 8\n",
       "6. Real^{3} otimes Real^{3} otimes Real^{3} otimes Real^{3}\n",
       "   core type: Operation\n",
       "   operator: 32\n",
       "   operands: 9\n",
       "7. gamma * (Sum_{i=2}^{4} (x otimes y otimes f(i) otimes z))\n",
       "   core type: Operation\n",
       "   operator: 25\n",
       "   operands: 10\n",
       "8. Sum_{i=2}^{4} (gamma * (x otimes y otimes f(i) otimes z))\n",
       "   core type: Operation\n",
       "   operator: 17\n",
       "   operand: 14\n",
       "9. (Real^{3}, Real^{3}, Real^{3}, Real^{3})\n",
       "   core type: ExprTuple\n",
       "   sub-expressions: 12, 12, 12, 12\n",
       "10. (gamma, Sum_{i=2}^{4} (x otimes y otimes f(i) otimes z))\n",
       "    core type: ExprTuple\n",
       "    sub-expressions: 28, 13\n",
       "11. (i -> {gamma * (x otimes y otimes f(i) otimes z) if i in {2 .. 4}.)\n",
       "    core type: ExprTuple\n",
       "    sub-expressions: 14\n",
       "12. Real^{3}\n",
       "    core type: Operation\n",
       "    operator: 15\n",
       "    operands: 16\n",
       "13. Sum_{i=2}^{4} (x otimes y otimes f(i) otimes z)\n",
       "    core type: Operation\n",
       "    operator: 17\n",
       "    operand: 22\n",
       "14. i -> {gamma * (x otimes y otimes f(i) otimes z) if i in {2 .. 4}.\n",
       "    core type: Lambda\n",
       "    parameter: 45\n",
       "    body: 19\n",
       "15. CartExp\n",
       "    core type: Literal\n",
       "    sub-expressions: \n",
       "16. (Real, 3)\n",
       "    core type: ExprTuple\n",
       "    sub-expressions: 20, 21\n",
       "17. Sum\n",
       "    core type: Literal\n",
       "    sub-expressions: \n",
       "18. (i -> {x otimes y otimes f(i) otimes z if i in {2 .. 4}.)\n",
       "    core type: ExprTuple\n",
       "    sub-expressions: 22\n",
       "19. {gamma * (x otimes y otimes f(i) otimes z) if i in {2 .. 4}.\n",
       "    core type: Conditional\n",
       "    value: 23\n",
       "    condition: 27\n",
       "20. Real\n",
       "    core type: Literal\n",
       "    sub-expressions: \n",
       "21. 3\n",
       "    core type: Literal\n",
       "    sub-expressions: \n",
       "22. i -> {x otimes y otimes f(i) otimes z if i in {2 .. 4}.\n",
       "    core type: Lambda\n",
       "    parameter: 45\n",
       "    body: 24\n",
       "23. gamma * (x otimes y otimes f(i) otimes z)\n",
       "    core type: Operation\n",
       "    operator: 25\n",
       "    operands: 26\n",
       "24. {x otimes y otimes f(i) otimes z if i in {2 .. 4}.\n",
       "    core type: Conditional\n",
       "    value: 29\n",
       "    condition: 27\n",
       "25. *\n",
       "    core type: Literal\n",
       "    sub-expressions: \n",
       "26. (gamma, x otimes y otimes f(i) otimes z)\n",
       "    core type: ExprTuple\n",
       "    sub-expressions: 28, 29\n",
       "27. i in {2 .. 4}\n",
       "    core type: Operation\n",
       "    operator: 30\n",
       "    operands: 31\n",
       "28. gamma\n",
       "    core type: Variable\n",
       "    sub-expressions: \n",
       "29. x otimes y otimes f(i) otimes z\n",
       "    core type: Operation\n",
       "    operator: 32\n",
       "    operands: 33\n",
       "30. in\n",
       "    core type: Literal\n",
       "    sub-expressions: \n",
       "31. (i, {2 .. 4})\n",
       "    core type: ExprTuple\n",
       "    sub-expressions: 45, 34\n",
       "32. otimes\n",
       "    core type: Literal\n",
       "    sub-expressions: \n",
       "33. (x, y, f(i), z)\n",
       "    core type: ExprTuple\n",
       "    sub-expressions: 35, 36, 37, 38\n",
       "34. {2 .. 4}\n",
       "    core type: Operation\n",
       "    operator: 39\n",
       "    operands: 40\n",
       "35. x\n",
       "    core type: Variable\n",
       "    sub-expressions: \n",
       "36. y\n",
       "    core type: Variable\n",
       "    sub-expressions: \n",
       "37. f(i)\n",
       "    core type: Operation\n",
       "    operator: 41\n",
       "    operand: 45\n",
       "38. z\n",
       "    core type: Variable\n",
       "    sub-expressions: \n",
       "39. Interval\n",
       "    core type: Literal\n",
       "    sub-expressions: \n",
       "40. (2, 4)\n",
       "    core type: ExprTuple\n",
       "    sub-expressions: 43, 44\n",
       "41. f\n",
       "    core type: Variable\n",
       "    sub-expressions: \n",
       "42. (i)\n",
       "    core type: ExprTuple\n",
       "    sub-expressions: 45\n",
       "43. 2\n",
       "    core type: Literal\n",
       "    sub-expressions: \n",
       "44. 4\n",
       "    core type: Literal\n",
       "    sub-expressions: \n",
       "45. i\n",
       "    core type: Variable\n",
       "    sub-expressions: "
      ]
     },
     "metadata": {},
     "output_type": "display_data"
    }
   ],
   "source": [
    "# display the expression information\n",
    "stored_expr.expr_info()"
   ]
  },
  {
   "cell_type": "code",
   "execution_count": null,
   "metadata": {},
   "outputs": [],
   "source": []
  }
 ],
 "metadata": {
  "kernelspec": {
   "display_name": "Python 3",
   "language": "python",
   "name": "python3"
  }
 },
 "nbformat": 4,
 "nbformat_minor": 0
}