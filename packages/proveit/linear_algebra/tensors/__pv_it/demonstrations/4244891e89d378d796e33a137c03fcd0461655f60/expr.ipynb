{
 "cells": [
  {
   "cell_type": "markdown",
   "metadata": {},
   "source": [
    "Expression of type <a class=\"ProveItLink\" href=\"../../../../../../../doc/html/api/proveit.logic.Forall.html\">Forall</a>\n",
    "=======================\n",
    "# from the theory of <a class=\"ProveItLink\" href=\"../../../_theory_nbs_/theory.ipynb\">proveit.linear_algebra.tensors</a>"
   ]
  },
  {
   "cell_type": "code",
   "execution_count": 1,
   "metadata": {},
   "outputs": [],
   "source": [
    "import proveit\n",
    "# Automation is not needed when building an expression:\n",
    "proveit.defaults.automation = False # This will speed things up.\n",
    "proveit.defaults.inline_pngs = False # Makes files smaller.\n",
    "%load_expr # Load the stored expression as 'stored_expr'\n",
    "# import Expression classes needed to build the expression\n",
    "from proveit import beta, gamma, i, x, y\n",
    "from proveit.linear_algebra import ScalarMult, TensorProd\n",
    "from proveit.logic import Equals, Forall\n",
    "from proveit.numbers import Add, Interval, four, one, two"
   ]
  },
  {
   "cell_type": "code",
   "execution_count": 2,
   "metadata": {},
   "outputs": [
    {
     "data": {
      "text/html": [
       "<strong id=\"expr\">expr:</strong> <a class=\"ProveItLink\" href=\"expr.ipynb\"><img src=\"expr.png\" style=\"display:inline;vertical-align:middle;\" /></a><br>"
      ],
      "text/plain": [
       "<IPython.core.display.HTML object>"
      ]
     },
     "metadata": {},
     "output_type": "display_data"
    }
   ],
   "source": [
    "# build up the expression from sub-expressions\n",
    "sub_expr1 = ScalarMult(beta, ScalarMult(Add(i, one), TensorProd(x, y)))\n",
    "expr = Forall(instance_param_or_params = [i], instance_expr = Equals(ScalarMult(gamma, ScalarMult(i, sub_expr1)), ScalarMult(ScalarMult(gamma, i), sub_expr1)), domain = Interval(two, four))"
   ]
  },
  {
   "cell_type": "code",
   "execution_count": 3,
   "metadata": {},
   "outputs": [
    {
     "name": "stdout",
     "output_type": "stream",
     "text": [
      "Passed sanity check: expr matches stored_expr\n"
     ]
    }
   ],
   "source": [
    "# check that the built expression is the same as the stored expression\n",
    "assert expr == stored_expr\n",
    "assert expr._style_id == stored_expr._style_id\n",
    "print(\"Passed sanity check: expr matches stored_expr\")"
   ]
  },
  {
   "cell_type": "code",
   "execution_count": 4,
   "metadata": {},
   "outputs": [
    {
     "name": "stdout",
     "output_type": "stream",
     "text": [
      "\\forall_{i \\in \\{2~\\ldotp \\ldotp~4\\}}~\\left(\\left(\\gamma \\cdot \\left(i \\cdot \\left(\\beta \\cdot \\left(\\left(i + 1\\right) \\cdot \\left(x {\\otimes} y\\right)\\right)\\right)\\right)\\right) = \\left(\\left(\\gamma \\cdot i\\right) \\cdot \\left(\\beta \\cdot \\left(\\left(i + 1\\right) \\cdot \\left(x {\\otimes} y\\right)\\right)\\right)\\right)\\right)\n"
     ]
    }
   ],
   "source": [
    "# Show the LaTeX representation of the expression for convenience if you need it.\n",
    "print(stored_expr.latex())"
   ]
  },
  {
   "cell_type": "code",
   "execution_count": 5,
   "metadata": {},
   "outputs": [
    {
     "data": {
      "text/html": [
       "<table>\n",
       "<tr><th>name</th><th>description</th><th>default</th><th>current value</th><th>related methods</th></tr><tr><td>with_wrapping</td><td>If 'True', wrap the Expression after the parameters</td><td>None</td><td>None/False</td><td>('with_wrapping',)</td></tr>\n",
       "<tr><td>condition_wrapping</td><td>Wrap 'before' or 'after' the condition (or None).</td><td>None</td><td>None/False</td><td>('with_wrap_after_condition', 'with_wrap_before_condition')</td></tr>\n",
       "<tr><td>wrap_params</td><td>If 'True', wraps every two parameters AND wraps the Expression after the parameters</td><td>None</td><td>None/False</td><td>('with_params',)</td></tr>\n",
       "<tr><td>justification</td><td>justify to the 'left', 'center', or 'right' in the array cells</td><td>center</td><td>center</td><td>('with_justification',)</td></tr>\n",
       "</table>\n"
      ],
      "text/plain": [
       "style name: with_wrapping\n",
       "description: If 'True', wrap the Expression after the parameters\n",
       "default: None\n",
       "current value: None/False\n",
       "related methods: ('with_wrapping',)\n",
       "style name: condition_wrapping\n",
       "description: Wrap 'before' or 'after' the condition (or None).\n",
       "default: None\n",
       "current value: None/False\n",
       "related methods: ('with_wrap_after_condition', 'with_wrap_before_condition')\n",
       "style name: wrap_params\n",
       "description: If 'True', wraps every two parameters AND wraps the Expression after the parameters\n",
       "default: None\n",
       "current value: None/False\n",
       "related methods: ('with_params',)\n",
       "style name: justification\n",
       "description: justify to the 'left', 'center', or 'right' in the array cells\n",
       "default: center\n",
       "current value: center\n",
       "related methods: ('with_justification',)"
      ]
     },
     "metadata": {},
     "output_type": "display_data"
    }
   ],
   "source": [
    "stored_expr.style_options()"
   ]
  },
  {
   "cell_type": "code",
   "execution_count": 6,
   "metadata": {},
   "outputs": [
    {
     "data": {
      "text/html": [
       "<table><tr><th>&nbsp;</th><th>core type</th><th>sub-expressions</th><th>expression</th></tr>\n",
       "<tr><td>0</td><td>Operation</td><td>operator:&nbsp;1<br>operand:&nbsp;3<br></td><td><a class=\"ProveItLink\" href=\"expr.ipynb\"><img src=\"expr.png\" style=\"display:inline;vertical-align:middle;\" /></a></td></tr>\n",
       "<tr><td>1</td><td>Literal</td><td></td><td><a class=\"ProveItLink\" href=\"../../../../../logic/booleans/quantification/universality/__pv_it/common/083d2baa0b8ecab1d230f9ec29a15aa1355809fb0/expr.ipynb\"><img src=\"../../../../../logic/booleans/quantification/universality/__pv_it/common/083d2baa0b8ecab1d230f9ec29a15aa1355809fb0/expr.png\" style=\"display:inline;vertical-align:middle;\" /></a></td></tr>\n",
       "<tr><td>2</td><td>ExprTuple</td><td>3</td><td><a class=\"ProveItLink\" href=\"../ff04912deb0352fb5414770cdb3494403b557a9d0/expr.ipynb\"><img src=\"../ff04912deb0352fb5414770cdb3494403b557a9d0/expr.png\" style=\"display:inline;vertical-align:middle;\" /></a></td></tr>\n",
       "<tr><td>3</td><td>Lambda</td><td>parameter:&nbsp;38<br>body:&nbsp;5<br></td><td><a class=\"ProveItLink\" href=\"../fe2c8156a3304e4def841e4474bd43932b6d76320/expr.ipynb\"><img src=\"../fe2c8156a3304e4def841e4474bd43932b6d76320/expr.png\" style=\"display:inline;vertical-align:middle;\" /></a></td></tr>\n",
       "<tr><td>4</td><td>ExprTuple</td><td>38</td><td><a class=\"ProveItLink\" href=\"../../../../../__pv_it/common/3b7d7ace2ced0a8261ea4d18d03aaf49e434d69d0/expr.ipynb\"><img src=\"../../../../../__pv_it/common/3b7d7ace2ced0a8261ea4d18d03aaf49e434d69d0/expr.png\" style=\"display:inline;vertical-align:middle;\" /></a></td></tr>\n",
       "<tr><td>5</td><td>Conditional</td><td>value:&nbsp;6<br>condition:&nbsp;7<br></td><td><a class=\"ProveItLink\" href=\"../d94acf0b3ce6425a5f2abd1d6afc560272ca1a3f0/expr.ipynb\"><img src=\"../d94acf0b3ce6425a5f2abd1d6afc560272ca1a3f0/expr.png\" style=\"display:inline;vertical-align:middle;\" /></a></td></tr>\n",
       "<tr><td>6</td><td>Operation</td><td>operator:&nbsp;8<br>operands:&nbsp;9<br></td><td><a class=\"ProveItLink\" href=\"../6b73559134afa7f244458962f3d7b24d77603bdc0/expr.ipynb\"><img src=\"../6b73559134afa7f244458962f3d7b24d77603bdc0/expr.png\" style=\"display:inline;vertical-align:middle;\" /></a></td></tr>\n",
       "<tr><td>7</td><td>Operation</td><td>operator:&nbsp;10<br>operands:&nbsp;11<br></td><td><a class=\"ProveItLink\" href=\"../1dcee5d42a9a39499a39768abf9beb5a120321210/expr.ipynb\"><img src=\"../1dcee5d42a9a39499a39768abf9beb5a120321210/expr.png\" style=\"display:inline;vertical-align:middle;\" /></a></td></tr>\n",
       "<tr><td>8</td><td>Literal</td><td></td><td><a class=\"ProveItLink\" href=\"../../../../../logic/equality/__pv_it/common/fb96dc12b2aa8801dda64d0132b396c63d1502bb0/expr.ipynb\"><img src=\"../../../../../logic/equality/__pv_it/common/fb96dc12b2aa8801dda64d0132b396c63d1502bb0/expr.png\" style=\"display:inline;vertical-align:middle;\" /></a></td></tr>\n",
       "<tr><td>9</td><td>ExprTuple</td><td>12, 13</td><td><a class=\"ProveItLink\" href=\"../bcbbb341e49a097c98e6e33737cc0e946444a9b10/expr.ipynb\"><img src=\"../bcbbb341e49a097c98e6e33737cc0e946444a9b10/expr.png\" style=\"display:inline;vertical-align:middle;\" /></a></td></tr>\n",
       "<tr><td>10</td><td>Literal</td><td></td><td><a class=\"ProveItLink\" href=\"../../../../../logic/sets/membership/__pv_it/common/477487d8796864d23d5810f83761435f25167f690/expr.ipynb\"><img src=\"../../../../../logic/sets/membership/__pv_it/common/477487d8796864d23d5810f83761435f25167f690/expr.png\" style=\"display:inline;vertical-align:middle;\" /></a></td></tr>\n",
       "<tr><td>11</td><td>ExprTuple</td><td>38, 14</td><td><a class=\"ProveItLink\" href=\"../28d2afb06ec85f8673a332040f8f84c54020e9590/expr.ipynb\"><img src=\"../28d2afb06ec85f8673a332040f8f84c54020e9590/expr.png\" style=\"display:inline;vertical-align:middle;\" /></a></td></tr>\n",
       "<tr><td>12</td><td>Operation</td><td>operator:&nbsp;30<br>operands:&nbsp;15<br></td><td><a class=\"ProveItLink\" href=\"../52a3a308685fd33fa43321d3a26158ef6306f7730/expr.ipynb\"><img src=\"../52a3a308685fd33fa43321d3a26158ef6306f7730/expr.png\" style=\"display:inline;vertical-align:middle;\" /></a></td></tr>\n",
       "<tr><td>13</td><td>Operation</td><td>operator:&nbsp;30<br>operands:&nbsp;16<br></td><td><a class=\"ProveItLink\" href=\"../81d3089a74c93840be7c3b1084148565b21a19a10/expr.ipynb\"><img src=\"../81d3089a74c93840be7c3b1084148565b21a19a10/expr.png\" style=\"display:inline;vertical-align:middle;\" /></a></td></tr>\n",
       "<tr><td>14</td><td>Operation</td><td>operator:&nbsp;17<br>operands:&nbsp;18<br></td><td><a class=\"ProveItLink\" href=\"../d52b7b54dc47ec2badf6859f9847ff1f1b35483a0/expr.ipynb\"><img src=\"../d52b7b54dc47ec2badf6859f9847ff1f1b35483a0/expr.png\" style=\"display:inline;vertical-align:middle;\" /></a></td></tr>\n",
       "<tr><td>15</td><td>ExprTuple</td><td>26, 19</td><td><a class=\"ProveItLink\" href=\"../26cce9f8ebd4496a3e40f344443648e6fbae2f510/expr.ipynb\"><img src=\"../26cce9f8ebd4496a3e40f344443648e6fbae2f510/expr.png\" style=\"display:inline;vertical-align:middle;\" /></a></td></tr>\n",
       "<tr><td>16</td><td>ExprTuple</td><td>20, 25</td><td><a class=\"ProveItLink\" href=\"../2d04f60242af6070861aa71168dc131bb0f7e45d0/expr.ipynb\"><img src=\"../2d04f60242af6070861aa71168dc131bb0f7e45d0/expr.png\" style=\"display:inline;vertical-align:middle;\" /></a></td></tr>\n",
       "<tr><td>17</td><td>Literal</td><td></td><td><a class=\"ProveItLink\" href=\"../../../../../numbers/number_sets/integers/__pv_it/common/92f3a0a77e3c3ea8e4a5c8674edadc54e4f57d550/expr.ipynb\"><img src=\"../../../../../numbers/number_sets/integers/__pv_it/common/92f3a0a77e3c3ea8e4a5c8674edadc54e4f57d550/expr.png\" style=\"display:inline;vertical-align:middle;\" /></a></td></tr>\n",
       "<tr><td>18</td><td>ExprTuple</td><td>21, 22</td><td><a class=\"ProveItLink\" href=\"../4dcdc5026f80b9604cf319714818529aceda286b0/expr.ipynb\"><img src=\"../4dcdc5026f80b9604cf319714818529aceda286b0/expr.png\" style=\"display:inline;vertical-align:middle;\" /></a></td></tr>\n",
       "<tr><td>19</td><td>Operation</td><td>operator:&nbsp;30<br>operands:&nbsp;23<br></td><td><a class=\"ProveItLink\" href=\"../8eeb40149d38090669f88ff2f65d54ab0acc232b0/expr.ipynb\"><img src=\"../8eeb40149d38090669f88ff2f65d54ab0acc232b0/expr.png\" style=\"display:inline;vertical-align:middle;\" /></a></td></tr>\n",
       "<tr><td>20</td><td>Operation</td><td>operator:&nbsp;30<br>operands:&nbsp;24<br></td><td><a class=\"ProveItLink\" href=\"../454fe25dcdd094332bd13830e131fff52a2f50810/expr.ipynb\"><img src=\"../454fe25dcdd094332bd13830e131fff52a2f50810/expr.png\" style=\"display:inline;vertical-align:middle;\" /></a></td></tr>\n",
       "<tr><td>21</td><td>Literal</td><td></td><td><a class=\"ProveItLink\" href=\"../../../../../numbers/numerals/__pv_it/common/af4aab8a07465db063742696e006d04670f30cf10/expr.ipynb\"><img src=\"../../../../../numbers/numerals/__pv_it/common/af4aab8a07465db063742696e006d04670f30cf10/expr.png\" style=\"display:inline;vertical-align:middle;\" /></a></td></tr>\n",
       "<tr><td>22</td><td>Literal</td><td></td><td><a class=\"ProveItLink\" href=\"../../../../../numbers/numerals/__pv_it/common/48a1d915c1e9490b9a94e5c77a208938d3ee20ce0/expr.ipynb\"><img src=\"../../../../../numbers/numerals/__pv_it/common/48a1d915c1e9490b9a94e5c77a208938d3ee20ce0/expr.png\" style=\"display:inline;vertical-align:middle;\" /></a></td></tr>\n",
       "<tr><td>23</td><td>ExprTuple</td><td>38, 25</td><td><a class=\"ProveItLink\" href=\"../99afcb84609e5e3033fdab22adf6e4daad996fd70/expr.ipynb\"><img src=\"../99afcb84609e5e3033fdab22adf6e4daad996fd70/expr.png\" style=\"display:inline;vertical-align:middle;\" /></a></td></tr>\n",
       "<tr><td>24</td><td>ExprTuple</td><td>26, 38</td><td><a class=\"ProveItLink\" href=\"../bee6b8d7119a5b42a091820303c6cc714b8336470/expr.ipynb\"><img src=\"../bee6b8d7119a5b42a091820303c6cc714b8336470/expr.png\" style=\"display:inline;vertical-align:middle;\" /></a></td></tr>\n",
       "<tr><td>25</td><td>Operation</td><td>operator:&nbsp;30<br>operands:&nbsp;27<br></td><td><a class=\"ProveItLink\" href=\"../e62b58b48620d20f1c44baec098dfcd2202f64d60/expr.ipynb\"><img src=\"../e62b58b48620d20f1c44baec098dfcd2202f64d60/expr.png\" style=\"display:inline;vertical-align:middle;\" /></a></td></tr>\n",
       "<tr><td>26</td><td>Variable</td><td></td><td><a class=\"ProveItLink\" href=\"../../../../../__pv_it/common/d3b5a05ce48f7e4b8f946549743adda31d51d0e80/expr.ipynb\"><img src=\"../../../../../__pv_it/common/d3b5a05ce48f7e4b8f946549743adda31d51d0e80/expr.png\" style=\"display:inline;vertical-align:middle;\" /></a></td></tr>\n",
       "<tr><td>27</td><td>ExprTuple</td><td>28, 29</td><td><a class=\"ProveItLink\" href=\"../506eae2a76b2dffa733d9737a6e0be55ca4869770/expr.ipynb\"><img src=\"../506eae2a76b2dffa733d9737a6e0be55ca4869770/expr.png\" style=\"display:inline;vertical-align:middle;\" /></a></td></tr>\n",
       "<tr><td>28</td><td>Variable</td><td></td><td><a class=\"ProveItLink\" href=\"../../../../../__pv_it/common/c713a5db2586f854a5051c95110df24af02bd7260/expr.ipynb\"><img src=\"../../../../../__pv_it/common/c713a5db2586f854a5051c95110df24af02bd7260/expr.png\" style=\"display:inline;vertical-align:middle;\" /></a></td></tr>\n",
       "<tr><td>29</td><td>Operation</td><td>operator:&nbsp;30<br>operands:&nbsp;31<br></td><td><a class=\"ProveItLink\" href=\"../8982cb0de6ea0c6a4f9f36f5c04e6a6fa1d630730/expr.ipynb\"><img src=\"../8982cb0de6ea0c6a4f9f36f5c04e6a6fa1d630730/expr.png\" style=\"display:inline;vertical-align:middle;\" /></a></td></tr>\n",
       "<tr><td>30</td><td>Literal</td><td></td><td><a class=\"ProveItLink\" href=\"../../../../scalar_multiplication/__pv_it/common/1e364bd471e6a29fcd358dd2d9cd990a1e6fedd40/expr.ipynb\"><img src=\"../../../../scalar_multiplication/__pv_it/common/1e364bd471e6a29fcd358dd2d9cd990a1e6fedd40/expr.png\" style=\"display:inline;vertical-align:middle;\" /></a></td></tr>\n",
       "<tr><td>31</td><td>ExprTuple</td><td>32, 33</td><td><a class=\"ProveItLink\" href=\"../7aec4f73ee8947d1c3bbb100355644e71a2c51350/expr.ipynb\"><img src=\"../7aec4f73ee8947d1c3bbb100355644e71a2c51350/expr.png\" style=\"display:inline;vertical-align:middle;\" /></a></td></tr>\n",
       "<tr><td>32</td><td>Operation</td><td>operator:&nbsp;34<br>operands:&nbsp;35<br></td><td><a class=\"ProveItLink\" href=\"../a2e143af123f66da09e0988b76b1d4e48661786c0/expr.ipynb\"><img src=\"../a2e143af123f66da09e0988b76b1d4e48661786c0/expr.png\" style=\"display:inline;vertical-align:middle;\" /></a></td></tr>\n",
       "<tr><td>33</td><td>Operation</td><td>operator:&nbsp;36<br>operands:&nbsp;37<br></td><td><a class=\"ProveItLink\" href=\"../ffc5987ff2367c75c570016997d286dc9b72582b0/expr.ipynb\"><img src=\"../ffc5987ff2367c75c570016997d286dc9b72582b0/expr.png\" style=\"display:inline;vertical-align:middle;\" /></a></td></tr>\n",
       "<tr><td>34</td><td>Literal</td><td></td><td><a class=\"ProveItLink\" href=\"../../../../../numbers/addition/__pv_it/common/4b7effaab3619a1c2c38fe2dee8601df8ec714590/expr.ipynb\"><img src=\"../../../../../numbers/addition/__pv_it/common/4b7effaab3619a1c2c38fe2dee8601df8ec714590/expr.png\" style=\"display:inline;vertical-align:middle;\" /></a></td></tr>\n",
       "<tr><td>35</td><td>ExprTuple</td><td>38, 39</td><td><a class=\"ProveItLink\" href=\"../c89850952f9608f21aa2408d82ba7769fea41e400/expr.ipynb\"><img src=\"../c89850952f9608f21aa2408d82ba7769fea41e400/expr.png\" style=\"display:inline;vertical-align:middle;\" /></a></td></tr>\n",
       "<tr><td>36</td><td>Literal</td><td></td><td><a class=\"ProveItLink\" href=\"../../common/7fa25b05174babb4710be62d63ebd43f68aa2fec0/expr.ipynb\"><img src=\"../../common/7fa25b05174babb4710be62d63ebd43f68aa2fec0/expr.png\" style=\"display:inline;vertical-align:middle;\" /></a></td></tr>\n",
       "<tr><td>37</td><td>ExprTuple</td><td>40, 41</td><td><a class=\"ProveItLink\" href=\"../../../../../__pv_it/common/70b6dfe187a2382408546cc714e0c3bc5c3a48c90/expr.ipynb\"><img src=\"../../../../../__pv_it/common/70b6dfe187a2382408546cc714e0c3bc5c3a48c90/expr.png\" style=\"display:inline;vertical-align:middle;\" /></a></td></tr>\n",
       "<tr><td>38</td><td>Variable</td><td></td><td><a class=\"ProveItLink\" href=\"../../../../../__pv_it/common/ae955345c83abf786c3aff8681cd5465beae262d0/expr.ipynb\"><img src=\"../../../../../__pv_it/common/ae955345c83abf786c3aff8681cd5465beae262d0/expr.png\" style=\"display:inline;vertical-align:middle;\" /></a></td></tr>\n",
       "<tr><td>39</td><td>Literal</td><td></td><td><a class=\"ProveItLink\" href=\"../../../../../numbers/numerals/__pv_it/common/682157d4892d216d9e5626ed533aff9b56b9506e0/expr.ipynb\"><img src=\"../../../../../numbers/numerals/__pv_it/common/682157d4892d216d9e5626ed533aff9b56b9506e0/expr.png\" style=\"display:inline;vertical-align:middle;\" /></a></td></tr>\n",
       "<tr><td>40</td><td>Variable</td><td></td><td><a class=\"ProveItLink\" href=\"../../../../../__pv_it/common/a0d9d672aa5e272d907247690c152cc2c6daafb70/expr.ipynb\"><img src=\"../../../../../__pv_it/common/a0d9d672aa5e272d907247690c152cc2c6daafb70/expr.png\" style=\"display:inline;vertical-align:middle;\" /></a></td></tr>\n",
       "<tr><td>41</td><td>Variable</td><td></td><td><a class=\"ProveItLink\" href=\"../../../../../__pv_it/common/ff7dba4ef0bbe791ab573bf2d9c220a304399ac80/expr.ipynb\"><img src=\"../../../../../__pv_it/common/ff7dba4ef0bbe791ab573bf2d9c220a304399ac80/expr.png\" style=\"display:inline;vertical-align:middle;\" /></a></td></tr>\n",
       "</table>\n"
      ],
      "text/plain": [
       "0. forall_{i in {2 .. 4}} ((gamma * (i * (beta * ((i + 1) * (x otimes y))))) = ((gamma * i) * (beta * ((i + 1) * (x otimes y)))))\n",
       "   core type: Operation\n",
       "   operator: 1\n",
       "   operand: 3\n",
       "1. forall\n",
       "   core type: Literal\n",
       "   sub-expressions: \n",
       "2. (i -> {(gamma * (i * (beta * ((i + 1) * (x otimes y))))) = ((gamma * i) * (beta * ((i + 1) * (x otimes y)))) if i in {2 .. 4}.)\n",
       "   core type: ExprTuple\n",
       "   sub-expressions: 3\n",
       "3. i -> {(gamma * (i * (beta * ((i + 1) * (x otimes y))))) = ((gamma * i) * (beta * ((i + 1) * (x otimes y)))) if i in {2 .. 4}.\n",
       "   core type: Lambda\n",
       "   parameter: 38\n",
       "   body: 5\n",
       "4. (i)\n",
       "   core type: ExprTuple\n",
       "   sub-expressions: 38\n",
       "5. {(gamma * (i * (beta * ((i + 1) * (x otimes y))))) = ((gamma * i) * (beta * ((i + 1) * (x otimes y)))) if i in {2 .. 4}.\n",
       "   core type: Conditional\n",
       "   value: 6\n",
       "   condition: 7\n",
       "6. (gamma * (i * (beta * ((i + 1) * (x otimes y))))) = ((gamma * i) * (beta * ((i + 1) * (x otimes y))))\n",
       "   core type: Operation\n",
       "   operator: 8\n",
       "   operands: 9\n",
       "7. i in {2 .. 4}\n",
       "   core type: Operation\n",
       "   operator: 10\n",
       "   operands: 11\n",
       "8. =\n",
       "   core type: Literal\n",
       "   sub-expressions: \n",
       "9. (gamma * (i * (beta * ((i + 1) * (x otimes y)))), (gamma * i) * (beta * ((i + 1) * (x otimes y))))\n",
       "   core type: ExprTuple\n",
       "   sub-expressions: 12, 13\n",
       "10. in\n",
       "    core type: Literal\n",
       "    sub-expressions: \n",
       "11. (i, {2 .. 4})\n",
       "    core type: ExprTuple\n",
       "    sub-expressions: 38, 14\n",
       "12. gamma * (i * (beta * ((i + 1) * (x otimes y))))\n",
       "    core type: Operation\n",
       "    operator: 30\n",
       "    operands: 15\n",
       "13. (gamma * i) * (beta * ((i + 1) * (x otimes y)))\n",
       "    core type: Operation\n",
       "    operator: 30\n",
       "    operands: 16\n",
       "14. {2 .. 4}\n",
       "    core type: Operation\n",
       "    operator: 17\n",
       "    operands: 18\n",
       "15. (gamma, i * (beta * ((i + 1) * (x otimes y))))\n",
       "    core type: ExprTuple\n",
       "    sub-expressions: 26, 19\n",
       "16. (gamma * i, beta * ((i + 1) * (x otimes y)))\n",
       "    core type: ExprTuple\n",
       "    sub-expressions: 20, 25\n",
       "17. Interval\n",
       "    core type: Literal\n",
       "    sub-expressions: \n",
       "18. (2, 4)\n",
       "    core type: ExprTuple\n",
       "    sub-expressions: 21, 22\n",
       "19. i * (beta * ((i + 1) * (x otimes y)))\n",
       "    core type: Operation\n",
       "    operator: 30\n",
       "    operands: 23\n",
       "20. gamma * i\n",
       "    core type: Operation\n",
       "    operator: 30\n",
       "    operands: 24\n",
       "21. 2\n",
       "    core type: Literal\n",
       "    sub-expressions: \n",
       "22. 4\n",
       "    core type: Literal\n",
       "    sub-expressions: \n",
       "23. (i, beta * ((i + 1) * (x otimes y)))\n",
       "    core type: ExprTuple\n",
       "    sub-expressions: 38, 25\n",
       "24. (gamma, i)\n",
       "    core type: ExprTuple\n",
       "    sub-expressions: 26, 38\n",
       "25. beta * ((i + 1) * (x otimes y))\n",
       "    core type: Operation\n",
       "    operator: 30\n",
       "    operands: 27\n",
       "26. gamma\n",
       "    core type: Variable\n",
       "    sub-expressions: \n",
       "27. (beta, (i + 1) * (x otimes y))\n",
       "    core type: ExprTuple\n",
       "    sub-expressions: 28, 29\n",
       "28. beta\n",
       "    core type: Variable\n",
       "    sub-expressions: \n",
       "29. (i + 1) * (x otimes y)\n",
       "    core type: Operation\n",
       "    operator: 30\n",
       "    operands: 31\n",
       "30. *\n",
       "    core type: Literal\n",
       "    sub-expressions: \n",
       "31. (i + 1, x otimes y)\n",
       "    core type: ExprTuple\n",
       "    sub-expressions: 32, 33\n",
       "32. i + 1\n",
       "    core type: Operation\n",
       "    operator: 34\n",
       "    operands: 35\n",
       "33. x otimes y\n",
       "    core type: Operation\n",
       "    operator: 36\n",
       "    operands: 37\n",
       "34. +\n",
       "    core type: Literal\n",
       "    sub-expressions: \n",
       "35. (i, 1)\n",
       "    core type: ExprTuple\n",
       "    sub-expressions: 38, 39\n",
       "36. otimes\n",
       "    core type: Literal\n",
       "    sub-expressions: \n",
       "37. (x, y)\n",
       "    core type: ExprTuple\n",
       "    sub-expressions: 40, 41\n",
       "38. i\n",
       "    core type: Variable\n",
       "    sub-expressions: \n",
       "39. 1\n",
       "    core type: Literal\n",
       "    sub-expressions: \n",
       "40. x\n",
       "    core type: Variable\n",
       "    sub-expressions: \n",
       "41. y\n",
       "    core type: Variable\n",
       "    sub-expressions: "
      ]
     },
     "metadata": {},
     "output_type": "display_data"
    }
   ],
   "source": [
    "# display the expression information\n",
    "stored_expr.expr_info()"
   ]
  },
  {
   "cell_type": "code",
   "execution_count": null,
   "metadata": {},
   "outputs": [],
   "source": []
  }
 ],
 "metadata": {
  "kernelspec": {
   "display_name": "Python 3",
   "language": "python",
   "name": "python3"
  }
 },
 "nbformat": 4,
 "nbformat_minor": 0
}