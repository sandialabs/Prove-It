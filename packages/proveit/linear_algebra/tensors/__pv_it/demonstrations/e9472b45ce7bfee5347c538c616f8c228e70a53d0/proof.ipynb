{
 "cells": [
  {
   "cell_type": "markdown",
   "metadata": {},
   "source": [
    "Show the Proof\n",
    "========"
   ]
  },
  {
   "cell_type": "code",
   "execution_count": 1,
   "metadata": {},
   "outputs": [
    {
     "data": {
      "text/html": [
       "<table><tr><th>&nbsp;</th><th>step type</th><th>requirements</th><th>statement</th></tr>\n",
       "<tr><td><a name=\"proveit.linear_algebra.tensors.demonstrations.e9472b45ce7bfee5347c538c616f8c228e70a53d0_step0\">0</a></td><td>instantiation</td><td><a href=\"#proveit.linear_algebra.tensors.demonstrations.e9472b45ce7bfee5347c538c616f8c228e70a53d0_step1\">1</a>, <a href=\"#proveit.linear_algebra.tensors.demonstrations.e9472b45ce7bfee5347c538c616f8c228e70a53d0_step2\">2</a></td><td><span style=\"font-size:20px;\"> <a class=\"ProveItLink\" href=\"proof.ipynb\" style=\"text-decoration: none\">&nbsp;&#x22A2;&nbsp;&nbsp;</a><a class=\"ProveItLink\" href=\"../567f1d614a2bddaf7beb0baf56a72a6be1c6f5050/expr.ipynb\"><img src=\"../567f1d614a2bddaf7beb0baf56a72a6be1c6f5050/expr.png\" style=\"display:inline;vertical-align:middle;\" /></a></span></td></tr>\n",
       "<tr><td>&nbsp;</td><td colspan=4 style=\"text-align:left\"><span style=\"font-size:20px;\"><a class=\"ProveItLink\" href=\"../../../../../__pv_it/common/ae955345c83abf786c3aff8681cd5465beae262d0/expr.ipynb\"><img src=\"../../../../../__pv_it/common/ae955345c83abf786c3aff8681cd5465beae262d0/expr.png\" style=\"display:inline;vertical-align:middle;\" /></a> : <a class=\"ProveItLink\" href=\"../../../../../numbers/numerals/__pv_it/common/1943b60945420e340d305780feff5c1aff2740ff0/expr.ipynb\"><img src=\"../../../../../numbers/numerals/__pv_it/common/1943b60945420e340d305780feff5c1aff2740ff0/expr.png\" style=\"display:inline;vertical-align:middle;\" /></a>, <a class=\"ProveItLink\" href=\"../240163a5cdd87b01485b8a5a6a0c76635a8fddb60/expr.ipynb\"><img src=\"../240163a5cdd87b01485b8a5a6a0c76635a8fddb60/expr.png\" style=\"display:inline;vertical-align:middle;\" /></a> : <a class=\"ProveItLink\" href=\"../../../../../core_expr_types/__pv_it/common/b7a46615d4e67a28ab963909b818c72af8e8e7c60/expr.ipynb\"><img src=\"../../../../../core_expr_types/__pv_it/common/b7a46615d4e67a28ab963909b818c72af8e8e7c60/expr.png\" style=\"display:inline;vertical-align:middle;\" /></a></span></td></tr><tr><td><a name=\"proveit.linear_algebra.tensors.demonstrations.e9472b45ce7bfee5347c538c616f8c228e70a53d0_step1\">1</a></td><td>theorem</td><td></td><td><span style=\"font-size:20px;\"> <a class=\"ProveItLink\" href=\"../../../../../core_expr_types/tuples/_theory_nbs_/proofs/range_from1_len_typical_eq/thm_proof.ipynb\" style=\"text-decoration: none\">&nbsp;&#x22A2;&nbsp;&nbsp;</a><a class=\"ProveItLink\" href=\"../../../../../core_expr_types/tuples/__pv_it/theorems/4ee1636269563b5a7d15684d9f87efdd4d8324700/expr.ipynb\"><img src=\"../../../../../core_expr_types/tuples/__pv_it/theorems/4ee1636269563b5a7d15684d9f87efdd4d8324700/expr.png\" style=\"display:inline;vertical-align:middle;\" /></a></span></td></tr>\n",
       "<tr><td>&nbsp;</td><td colspan=4 style-\"text-align:left\"><a class=\"ProveItLink\" href=\"../../../../../core_expr_types/tuples/_theory_nbs_/proofs/range_from1_len_typical_eq/thm_proof.ipynb\">proveit.core_expr_types.tuples.range_from1_len_typical_eq</a></td></tr><tr><td><a name=\"proveit.linear_algebra.tensors.demonstrations.e9472b45ce7bfee5347c538c616f8c228e70a53d0_step2\">2</a></td><td>theorem</td><td></td><td><span style=\"font-size:20px;\"> <a class=\"ProveItLink\" href=\"../../../../../numbers/numerals/decimals/_theory_nbs_/proofs/nat3/thm_proof.ipynb\" style=\"text-decoration: none\">&nbsp;&#x22A2;&nbsp;&nbsp;</a><a class=\"ProveItLink\" href=\"../../../../../numbers/numerals/decimals/__pv_it/theorems/460c23cdbd64b08ccacdbdc6b3661919426e237f0/expr.ipynb\"><img src=\"../../../../../numbers/numerals/decimals/__pv_it/theorems/460c23cdbd64b08ccacdbdc6b3661919426e237f0/expr.png\" style=\"display:inline;vertical-align:middle;\" /></a></span></td></tr>\n",
       "<tr><td>&nbsp;</td><td colspan=4 style-\"text-align:left\"><a class=\"ProveItLink\" href=\"../../../../../numbers/numerals/decimals/_theory_nbs_/proofs/nat3/thm_proof.ipynb\">proveit.numbers.numerals.decimals.nat3</a></td></tr></table>"
      ],
      "text/plain": [
       "<proveit._core_.proof._ShowProof at 0x7f0c73af8780>"
      ]
     },
     "execution_count": 1,
     "metadata": {},
     "output_type": "execute_result"
    }
   ],
   "source": [
    "import proveit\n",
    "# Automation is not needed when only showing a stored proof:\n",
    "proveit.defaults.automation = False # This will speed things up.\n",
    "proveit.defaults.inline_pngs = False # Makes files smaller.\n",
    "%show_proof"
   ]
  },
  {
   "cell_type": "code",
   "execution_count": null,
   "metadata": {},
   "outputs": [],
   "source": []
  }
 ],
 "metadata": {
  "kernelspec": {
   "display_name": "Python 3",
   "language": "python",
   "name": "python3"
  }
 },
 "nbformat": 4,
 "nbformat_minor": 0
}