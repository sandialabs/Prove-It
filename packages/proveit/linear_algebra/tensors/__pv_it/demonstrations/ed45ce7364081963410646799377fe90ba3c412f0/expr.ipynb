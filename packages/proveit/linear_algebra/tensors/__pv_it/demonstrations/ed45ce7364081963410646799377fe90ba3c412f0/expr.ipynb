{
 "cells": [
  {
   "cell_type": "markdown",
   "metadata": {},
   "source": [
    "Expression of type <a class=\"ProveItLink\" href=\"../../../../../../../doc/html/api/proveit.logic.Equals.html\">Equals</a>\n",
    "=======================\n",
    "# from the theory of <a class=\"ProveItLink\" href=\"../../../_theory_nbs_/theory.ipynb\">proveit.linear_algebra.tensors</a>"
   ]
  },
  {
   "cell_type": "code",
   "execution_count": 1,
   "metadata": {},
   "outputs": [],
   "source": [
    "import proveit\n",
    "# Automation is not needed when building an expression:\n",
    "proveit.defaults.automation = False # This will speed things up.\n",
    "proveit.defaults.inline_pngs = False # Makes files smaller.\n",
    "%load_expr # Load the stored expression as 'stored_expr'\n",
    "# import Expression classes needed to build the expression\n",
    "from proveit import fi, gamma, i, y\n",
    "from proveit.linear_algebra import ScalarMult, TensorProd, VecSum\n",
    "from proveit.logic import Equals\n",
    "from proveit.numbers import Interval, four, two"
   ]
  },
  {
   "cell_type": "code",
   "execution_count": 2,
   "metadata": {},
   "outputs": [
    {
     "data": {
      "text/html": [
       "<strong id=\"expr\">expr:</strong> <a class=\"ProveItLink\" href=\"expr.ipynb\"><img src=\"expr.png\" style=\"display:inline;vertical-align:middle;\" /></a><br>"
      ],
      "text/plain": [
       "<IPython.core.display.HTML object>"
      ]
     },
     "metadata": {},
     "output_type": "display_data"
    }
   ],
   "source": [
    "# build up the expression from sub-expressions\n",
    "sub_expr1 = [i]\n",
    "sub_expr2 = Interval(two, four)\n",
    "expr = Equals(ScalarMult(gamma, VecSum(index_or_indices = sub_expr1, summand = TensorProd(y, fi), domain = sub_expr2)), ScalarMult(gamma, TensorProd(y, VecSum(index_or_indices = sub_expr1, summand = fi, domain = sub_expr2))))"
   ]
  },
  {
   "cell_type": "code",
   "execution_count": 3,
   "metadata": {},
   "outputs": [
    {
     "name": "stdout",
     "output_type": "stream",
     "text": [
      "Passed sanity check: expr matches stored_expr\n"
     ]
    }
   ],
   "source": [
    "# check that the built expression is the same as the stored expression\n",
    "assert expr == stored_expr\n",
    "assert expr._style_id == stored_expr._style_id\n",
    "print(\"Passed sanity check: expr matches stored_expr\")"
   ]
  },
  {
   "cell_type": "code",
   "execution_count": 4,
   "metadata": {},
   "outputs": [
    {
     "name": "stdout",
     "output_type": "stream",
     "text": [
      "\\left(\\gamma \\cdot \\left(\\sum_{i=2}^{4} \\left(y {\\otimes} f\\left(i\\right)\\right)\\right)\\right) = \\left(\\gamma \\cdot \\left(y {\\otimes} \\left(\\sum_{i=2}^{4} f\\left(i\\right)\\right)\\right)\\right)\n"
     ]
    }
   ],
   "source": [
    "# Show the LaTeX representation of the expression for convenience if you need it.\n",
    "print(stored_expr.latex())"
   ]
  },
  {
   "cell_type": "code",
   "execution_count": 5,
   "metadata": {},
   "outputs": [
    {
     "data": {
      "text/html": [
       "<table>\n",
       "<tr><th>name</th><th>description</th><th>default</th><th>current value</th><th>related methods</th></tr><tr><td>operation</td><td>'infix' or 'function' style formatting</td><td>infix</td><td>infix</td><td></td></tr>\n",
       "<tr><td>wrap_positions</td><td>position(s) at which wrapping is to occur; '2 n - 1' is after the nth operand, '2 n' is after the nth operation.</td><td>()</td><td>()</td><td>('with_wrapping_at', 'with_wrap_before_operator', 'with_wrap_after_operator', 'without_wrapping', 'wrap_positions')</td></tr>\n",
       "<tr><td>justification</td><td>if any wrap positions are set, justify to the 'left', 'center', or 'right'</td><td>center</td><td>center</td><td>('with_justification',)</td></tr>\n",
       "<tr><td>direction</td><td>Direction of the relation (normal or reversed)</td><td>normal</td><td>normal</td><td>('with_direction_reversed', 'is_reversed')</td></tr>\n",
       "</table>\n"
      ],
      "text/plain": [
       "style name: operation\n",
       "description: 'infix' or 'function' style formatting\n",
       "default: infix\n",
       "current value: infix\n",
       "related methods: ()\n",
       "style name: wrap_positions\n",
       "description: position(s) at which wrapping is to occur; '2 n - 1' is after the nth operand, '2 n' is after the nth operation.\n",
       "default: ()\n",
       "current value: ()\n",
       "related methods: ('with_wrapping_at', 'with_wrap_before_operator', 'with_wrap_after_operator', 'without_wrapping', 'wrap_positions')\n",
       "style name: justification\n",
       "description: if any wrap positions are set, justify to the 'left', 'center', or 'right'\n",
       "default: center\n",
       "current value: center\n",
       "related methods: ('with_justification',)\n",
       "style name: direction\n",
       "description: Direction of the relation (normal or reversed)\n",
       "default: normal\n",
       "current value: normal\n",
       "related methods: ('with_direction_reversed', 'is_reversed')"
      ]
     },
     "metadata": {},
     "output_type": "display_data"
    }
   ],
   "source": [
    "stored_expr.style_options()"
   ]
  },
  {
   "cell_type": "code",
   "execution_count": 6,
   "metadata": {},
   "outputs": [
    {
     "data": {
      "text/html": [
       "<table><tr><th>&nbsp;</th><th>core type</th><th>sub-expressions</th><th>expression</th></tr>\n",
       "<tr><td>0</td><td>Operation</td><td>operator:&nbsp;1<br>operands:&nbsp;2<br></td><td><a class=\"ProveItLink\" href=\"expr.ipynb\"><img src=\"expr.png\" style=\"display:inline;vertical-align:middle;\" /></a></td></tr>\n",
       "<tr><td>1</td><td>Literal</td><td></td><td><a class=\"ProveItLink\" href=\"../../../../../logic/equality/__pv_it/common/fb96dc12b2aa8801dda64d0132b396c63d1502bb0/expr.ipynb\"><img src=\"../../../../../logic/equality/__pv_it/common/fb96dc12b2aa8801dda64d0132b396c63d1502bb0/expr.png\" style=\"display:inline;vertical-align:middle;\" /></a></td></tr>\n",
       "<tr><td>2</td><td>ExprTuple</td><td>3, 4</td><td><a class=\"ProveItLink\" href=\"../e3e82b51bb321bf40eeb8e5a2bd8e01464f0a3f70/expr.ipynb\"><img src=\"../e3e82b51bb321bf40eeb8e5a2bd8e01464f0a3f70/expr.png\" style=\"display:inline;vertical-align:middle;\" /></a></td></tr>\n",
       "<tr><td>3</td><td>Operation</td><td>operator:&nbsp;6<br>operands:&nbsp;5<br></td><td><a class=\"ProveItLink\" href=\"../c2f7e758a0dd0d47657c57c57536d272fbd8afc40/expr.ipynb\"><img src=\"../c2f7e758a0dd0d47657c57c57536d272fbd8afc40/expr.png\" style=\"display:inline;vertical-align:middle;\" /></a></td></tr>\n",
       "<tr><td>4</td><td>Operation</td><td>operator:&nbsp;6<br>operands:&nbsp;7<br></td><td><a class=\"ProveItLink\" href=\"../9dce3ad24c28c82dd60d3049c1d7e30ad256b1300/expr.ipynb\"><img src=\"../9dce3ad24c28c82dd60d3049c1d7e30ad256b1300/expr.png\" style=\"display:inline;vertical-align:middle;\" /></a></td></tr>\n",
       "<tr><td>5</td><td>ExprTuple</td><td>9, 8</td><td><a class=\"ProveItLink\" href=\"../993dde641f9acabb622911aafd07c5a9d96916090/expr.ipynb\"><img src=\"../993dde641f9acabb622911aafd07c5a9d96916090/expr.png\" style=\"display:inline;vertical-align:middle;\" /></a></td></tr>\n",
       "<tr><td>6</td><td>Literal</td><td></td><td><a class=\"ProveItLink\" href=\"../../../../scalar_multiplication/__pv_it/common/1e364bd471e6a29fcd358dd2d9cd990a1e6fedd40/expr.ipynb\"><img src=\"../../../../scalar_multiplication/__pv_it/common/1e364bd471e6a29fcd358dd2d9cd990a1e6fedd40/expr.png\" style=\"display:inline;vertical-align:middle;\" /></a></td></tr>\n",
       "<tr><td>7</td><td>ExprTuple</td><td>9, 10</td><td><a class=\"ProveItLink\" href=\"../e25ade44798c5bfc12527adf3ca1417518f1dbb20/expr.ipynb\"><img src=\"../e25ade44798c5bfc12527adf3ca1417518f1dbb20/expr.png\" style=\"display:inline;vertical-align:middle;\" /></a></td></tr>\n",
       "<tr><td>8</td><td>Operation</td><td>operator:&nbsp;16<br>operand:&nbsp;13<br></td><td><a class=\"ProveItLink\" href=\"../86717e5f6f897400a65777e883876bafa21baeb90/expr.ipynb\"><img src=\"../86717e5f6f897400a65777e883876bafa21baeb90/expr.png\" style=\"display:inline;vertical-align:middle;\" /></a></td></tr>\n",
       "<tr><td>9</td><td>Variable</td><td></td><td><a class=\"ProveItLink\" href=\"../../../../../__pv_it/common/d3b5a05ce48f7e4b8f946549743adda31d51d0e80/expr.ipynb\"><img src=\"../../../../../__pv_it/common/d3b5a05ce48f7e4b8f946549743adda31d51d0e80/expr.png\" style=\"display:inline;vertical-align:middle;\" /></a></td></tr>\n",
       "<tr><td>10</td><td>Operation</td><td>operator:&nbsp;20<br>operands:&nbsp;12<br></td><td><a class=\"ProveItLink\" href=\"../aa923c013154c411bbf2b8c5b0fce9b9e077f20a0/expr.ipynb\"><img src=\"../aa923c013154c411bbf2b8c5b0fce9b9e077f20a0/expr.png\" style=\"display:inline;vertical-align:middle;\" /></a></td></tr>\n",
       "<tr><td>11</td><td>ExprTuple</td><td>13</td><td><a class=\"ProveItLink\" href=\"../84ca40fe6ae5565cd1ba63a9b47ffd299993dacc0/expr.ipynb\"><img src=\"../84ca40fe6ae5565cd1ba63a9b47ffd299993dacc0/expr.png\" style=\"display:inline;vertical-align:middle;\" /></a></td></tr>\n",
       "<tr><td>12</td><td>ExprTuple</td><td>23, 14</td><td><a class=\"ProveItLink\" href=\"../96463ab9ad8285a3659fa11324498e4934f358360/expr.ipynb\"><img src=\"../96463ab9ad8285a3659fa11324498e4934f358360/expr.png\" style=\"display:inline;vertical-align:middle;\" /></a></td></tr>\n",
       "<tr><td>13</td><td>Lambda</td><td>parameter:&nbsp;30<br>body:&nbsp;15<br></td><td><a class=\"ProveItLink\" href=\"../f0fcb15de3d79ea9b989a80070d13473b705aa920/expr.ipynb\"><img src=\"../f0fcb15de3d79ea9b989a80070d13473b705aa920/expr.png\" style=\"display:inline;vertical-align:middle;\" /></a></td></tr>\n",
       "<tr><td>14</td><td>Operation</td><td>operator:&nbsp;16<br>operand:&nbsp;19<br></td><td><a class=\"ProveItLink\" href=\"../27415d1da95ee3c71e2a723015e95c013a1342680/expr.ipynb\"><img src=\"../27415d1da95ee3c71e2a723015e95c013a1342680/expr.png\" style=\"display:inline;vertical-align:middle;\" /></a></td></tr>\n",
       "<tr><td>15</td><td>Conditional</td><td>value:&nbsp;18<br>condition:&nbsp;25<br></td><td><a class=\"ProveItLink\" href=\"../83e4b6d622e5d12c255849a971355cfe72eaa98b0/expr.ipynb\"><img src=\"../83e4b6d622e5d12c255849a971355cfe72eaa98b0/expr.png\" style=\"display:inline;vertical-align:middle;\" /></a></td></tr>\n",
       "<tr><td>16</td><td>Literal</td><td></td><td><a class=\"ProveItLink\" href=\"../../../../addition/__pv_it/common/62f73c830c62efb87627ede5678f282081cd0ce20/expr.ipynb\"><img src=\"../../../../addition/__pv_it/common/62f73c830c62efb87627ede5678f282081cd0ce20/expr.png\" style=\"display:inline;vertical-align:middle;\" /></a></td></tr>\n",
       "<tr><td>17</td><td>ExprTuple</td><td>19</td><td><a class=\"ProveItLink\" href=\"../3411a0c1102598d50489ce3cc1317db80b429f720/expr.ipynb\"><img src=\"../3411a0c1102598d50489ce3cc1317db80b429f720/expr.png\" style=\"display:inline;vertical-align:middle;\" /></a></td></tr>\n",
       "<tr><td>18</td><td>Operation</td><td>operator:&nbsp;20<br>operands:&nbsp;21<br></td><td><a class=\"ProveItLink\" href=\"../aa5830927e009f1be65760f1d1d361f78536cddb0/expr.ipynb\"><img src=\"../aa5830927e009f1be65760f1d1d361f78536cddb0/expr.png\" style=\"display:inline;vertical-align:middle;\" /></a></td></tr>\n",
       "<tr><td>19</td><td>Lambda</td><td>parameter:&nbsp;30<br>body:&nbsp;22<br></td><td><a class=\"ProveItLink\" href=\"../190fed4c3cce07edbe6f3abae266ff8e33d878520/expr.ipynb\"><img src=\"../190fed4c3cce07edbe6f3abae266ff8e33d878520/expr.png\" style=\"display:inline;vertical-align:middle;\" /></a></td></tr>\n",
       "<tr><td>20</td><td>Literal</td><td></td><td><a class=\"ProveItLink\" href=\"../../common/7fa25b05174babb4710be62d63ebd43f68aa2fec0/expr.ipynb\"><img src=\"../../common/7fa25b05174babb4710be62d63ebd43f68aa2fec0/expr.png\" style=\"display:inline;vertical-align:middle;\" /></a></td></tr>\n",
       "<tr><td>21</td><td>ExprTuple</td><td>23, 24</td><td><a class=\"ProveItLink\" href=\"../1ae81890faf60a3f20ea50dca9ed03417c5a22680/expr.ipynb\"><img src=\"../1ae81890faf60a3f20ea50dca9ed03417c5a22680/expr.png\" style=\"display:inline;vertical-align:middle;\" /></a></td></tr>\n",
       "<tr><td>22</td><td>Conditional</td><td>value:&nbsp;24<br>condition:&nbsp;25<br></td><td><a class=\"ProveItLink\" href=\"../33991e37ea8eaf2920a80249c832a22ba875c6f60/expr.ipynb\"><img src=\"../33991e37ea8eaf2920a80249c832a22ba875c6f60/expr.png\" style=\"display:inline;vertical-align:middle;\" /></a></td></tr>\n",
       "<tr><td>23</td><td>Variable</td><td></td><td><a class=\"ProveItLink\" href=\"../../../../../__pv_it/common/ff7dba4ef0bbe791ab573bf2d9c220a304399ac80/expr.ipynb\"><img src=\"../../../../../__pv_it/common/ff7dba4ef0bbe791ab573bf2d9c220a304399ac80/expr.png\" style=\"display:inline;vertical-align:middle;\" /></a></td></tr>\n",
       "<tr><td>24</td><td>Operation</td><td>operator:&nbsp;26<br>operand:&nbsp;30<br></td><td><a class=\"ProveItLink\" href=\"../../../../../__pv_it/common/68d279ba17eb875d9f466a293b0b7fcc3ad8621e0/expr.ipynb\"><img src=\"../../../../../__pv_it/common/68d279ba17eb875d9f466a293b0b7fcc3ad8621e0/expr.png\" style=\"display:inline;vertical-align:middle;\" /></a></td></tr>\n",
       "<tr><td>25</td><td>Operation</td><td>operator:&nbsp;28<br>operands:&nbsp;29<br></td><td><a class=\"ProveItLink\" href=\"../1dcee5d42a9a39499a39768abf9beb5a120321210/expr.ipynb\"><img src=\"../1dcee5d42a9a39499a39768abf9beb5a120321210/expr.png\" style=\"display:inline;vertical-align:middle;\" /></a></td></tr>\n",
       "<tr><td>26</td><td>Variable</td><td></td><td><a class=\"ProveItLink\" href=\"../../../../../__pv_it/common/01b6dbb444a31fc38af4c2379badef6c75b363710/expr.ipynb\"><img src=\"../../../../../__pv_it/common/01b6dbb444a31fc38af4c2379badef6c75b363710/expr.png\" style=\"display:inline;vertical-align:middle;\" /></a></td></tr>\n",
       "<tr><td>27</td><td>ExprTuple</td><td>30</td><td><a class=\"ProveItLink\" href=\"../../../../../__pv_it/common/3b7d7ace2ced0a8261ea4d18d03aaf49e434d69d0/expr.ipynb\"><img src=\"../../../../../__pv_it/common/3b7d7ace2ced0a8261ea4d18d03aaf49e434d69d0/expr.png\" style=\"display:inline;vertical-align:middle;\" /></a></td></tr>\n",
       "<tr><td>28</td><td>Literal</td><td></td><td><a class=\"ProveItLink\" href=\"../../../../../logic/sets/membership/__pv_it/common/477487d8796864d23d5810f83761435f25167f690/expr.ipynb\"><img src=\"../../../../../logic/sets/membership/__pv_it/common/477487d8796864d23d5810f83761435f25167f690/expr.png\" style=\"display:inline;vertical-align:middle;\" /></a></td></tr>\n",
       "<tr><td>29</td><td>ExprTuple</td><td>30, 31</td><td><a class=\"ProveItLink\" href=\"../28d2afb06ec85f8673a332040f8f84c54020e9590/expr.ipynb\"><img src=\"../28d2afb06ec85f8673a332040f8f84c54020e9590/expr.png\" style=\"display:inline;vertical-align:middle;\" /></a></td></tr>\n",
       "<tr><td>30</td><td>Variable</td><td></td><td><a class=\"ProveItLink\" href=\"../../../../../__pv_it/common/ae955345c83abf786c3aff8681cd5465beae262d0/expr.ipynb\"><img src=\"../../../../../__pv_it/common/ae955345c83abf786c3aff8681cd5465beae262d0/expr.png\" style=\"display:inline;vertical-align:middle;\" /></a></td></tr>\n",
       "<tr><td>31</td><td>Operation</td><td>operator:&nbsp;32<br>operands:&nbsp;33<br></td><td><a class=\"ProveItLink\" href=\"../d52b7b54dc47ec2badf6859f9847ff1f1b35483a0/expr.ipynb\"><img src=\"../d52b7b54dc47ec2badf6859f9847ff1f1b35483a0/expr.png\" style=\"display:inline;vertical-align:middle;\" /></a></td></tr>\n",
       "<tr><td>32</td><td>Literal</td><td></td><td><a class=\"ProveItLink\" href=\"../../../../../numbers/number_sets/integers/__pv_it/common/92f3a0a77e3c3ea8e4a5c8674edadc54e4f57d550/expr.ipynb\"><img src=\"../../../../../numbers/number_sets/integers/__pv_it/common/92f3a0a77e3c3ea8e4a5c8674edadc54e4f57d550/expr.png\" style=\"display:inline;vertical-align:middle;\" /></a></td></tr>\n",
       "<tr><td>33</td><td>ExprTuple</td><td>34, 35</td><td><a class=\"ProveItLink\" href=\"../4dcdc5026f80b9604cf319714818529aceda286b0/expr.ipynb\"><img src=\"../4dcdc5026f80b9604cf319714818529aceda286b0/expr.png\" style=\"display:inline;vertical-align:middle;\" /></a></td></tr>\n",
       "<tr><td>34</td><td>Literal</td><td></td><td><a class=\"ProveItLink\" href=\"../../../../../numbers/numerals/__pv_it/common/af4aab8a07465db063742696e006d04670f30cf10/expr.ipynb\"><img src=\"../../../../../numbers/numerals/__pv_it/common/af4aab8a07465db063742696e006d04670f30cf10/expr.png\" style=\"display:inline;vertical-align:middle;\" /></a></td></tr>\n",
       "<tr><td>35</td><td>Literal</td><td></td><td><a class=\"ProveItLink\" href=\"../../../../../numbers/numerals/__pv_it/common/48a1d915c1e9490b9a94e5c77a208938d3ee20ce0/expr.ipynb\"><img src=\"../../../../../numbers/numerals/__pv_it/common/48a1d915c1e9490b9a94e5c77a208938d3ee20ce0/expr.png\" style=\"display:inline;vertical-align:middle;\" /></a></td></tr>\n",
       "</table>\n"
      ],
      "text/plain": [
       "0. (gamma * (Sum_{i=2}^{4} (y otimes f(i)))) = (gamma * (y otimes (Sum_{i=2}^{4} f(i))))\n",
       "   core type: Operation\n",
       "   operator: 1\n",
       "   operands: 2\n",
       "1. =\n",
       "   core type: Literal\n",
       "   sub-expressions: \n",
       "2. (gamma * (Sum_{i=2}^{4} (y otimes f(i))), gamma * (y otimes (Sum_{i=2}^{4} f(i))))\n",
       "   core type: ExprTuple\n",
       "   sub-expressions: 3, 4\n",
       "3. gamma * (Sum_{i=2}^{4} (y otimes f(i)))\n",
       "   core type: Operation\n",
       "   operator: 6\n",
       "   operands: 5\n",
       "4. gamma * (y otimes (Sum_{i=2}^{4} f(i)))\n",
       "   core type: Operation\n",
       "   operator: 6\n",
       "   operands: 7\n",
       "5. (gamma, Sum_{i=2}^{4} (y otimes f(i)))\n",
       "   core type: ExprTuple\n",
       "   sub-expressions: 9, 8\n",
       "6. *\n",
       "   core type: Literal\n",
       "   sub-expressions: \n",
       "7. (gamma, y otimes (Sum_{i=2}^{4} f(i)))\n",
       "   core type: ExprTuple\n",
       "   sub-expressions: 9, 10\n",
       "8. Sum_{i=2}^{4} (y otimes f(i))\n",
       "   core type: Operation\n",
       "   operator: 16\n",
       "   operand: 13\n",
       "9. gamma\n",
       "   core type: Variable\n",
       "   sub-expressions: \n",
       "10. y otimes (Sum_{i=2}^{4} f(i))\n",
       "    core type: Operation\n",
       "    operator: 20\n",
       "    operands: 12\n",
       "11. (i -> {y otimes f(i) if i in {2 .. 4}.)\n",
       "    core type: ExprTuple\n",
       "    sub-expressions: 13\n",
       "12. (y, Sum_{i=2}^{4} f(i))\n",
       "    core type: ExprTuple\n",
       "    sub-expressions: 23, 14\n",
       "13. i -> {y otimes f(i) if i in {2 .. 4}.\n",
       "    core type: Lambda\n",
       "    parameter: 30\n",
       "    body: 15\n",
       "14. Sum_{i=2}^{4} f(i)\n",
       "    core type: Operation\n",
       "    operator: 16\n",
       "    operand: 19\n",
       "15. {y otimes f(i) if i in {2 .. 4}.\n",
       "    core type: Conditional\n",
       "    value: 18\n",
       "    condition: 25\n",
       "16. Sum\n",
       "    core type: Literal\n",
       "    sub-expressions: \n",
       "17. (i -> {f(i) if i in {2 .. 4}.)\n",
       "    core type: ExprTuple\n",
       "    sub-expressions: 19\n",
       "18. y otimes f(i)\n",
       "    core type: Operation\n",
       "    operator: 20\n",
       "    operands: 21\n",
       "19. i -> {f(i) if i in {2 .. 4}.\n",
       "    core type: Lambda\n",
       "    parameter: 30\n",
       "    body: 22\n",
       "20. otimes\n",
       "    core type: Literal\n",
       "    sub-expressions: \n",
       "21. (y, f(i))\n",
       "    core type: ExprTuple\n",
       "    sub-expressions: 23, 24\n",
       "22. {f(i) if i in {2 .. 4}.\n",
       "    core type: Conditional\n",
       "    value: 24\n",
       "    condition: 25\n",
       "23. y\n",
       "    core type: Variable\n",
       "    sub-expressions: \n",
       "24. f(i)\n",
       "    core type: Operation\n",
       "    operator: 26\n",
       "    operand: 30\n",
       "25. i in {2 .. 4}\n",
       "    core type: Operation\n",
       "    operator: 28\n",
       "    operands: 29\n",
       "26. f\n",
       "    core type: Variable\n",
       "    sub-expressions: \n",
       "27. (i)\n",
       "    core type: ExprTuple\n",
       "    sub-expressions: 30\n",
       "28. in\n",
       "    core type: Literal\n",
       "    sub-expressions: \n",
       "29. (i, {2 .. 4})\n",
       "    core type: ExprTuple\n",
       "    sub-expressions: 30, 31\n",
       "30. i\n",
       "    core type: Variable\n",
       "    sub-expressions: \n",
       "31. {2 .. 4}\n",
       "    core type: Operation\n",
       "    operator: 32\n",
       "    operands: 33\n",
       "32. Interval\n",
       "    core type: Literal\n",
       "    sub-expressions: \n",
       "33. (2, 4)\n",
       "    core type: ExprTuple\n",
       "    sub-expressions: 34, 35\n",
       "34. 2\n",
       "    core type: Literal\n",
       "    sub-expressions: \n",
       "35. 4\n",
       "    core type: Literal\n",
       "    sub-expressions: "
      ]
     },
     "metadata": {},
     "output_type": "display_data"
    }
   ],
   "source": [
    "# display the expression information\n",
    "stored_expr.expr_info()"
   ]
  },
  {
   "cell_type": "code",
   "execution_count": null,
   "metadata": {},
   "outputs": [],
   "source": []
  }
 ],
 "metadata": {
  "kernelspec": {
   "display_name": "Python 3",
   "language": "python",
   "name": "python3"
  }
 },
 "nbformat": 4,
 "nbformat_minor": 0
}