{
 "cells": [
  {
   "cell_type": "markdown",
   "metadata": {},
   "source": [
    "Show the Proof\n",
    "========"
   ]
  },
  {
   "cell_type": "code",
   "execution_count": 1,
   "metadata": {},
   "outputs": [
    {
     "data": {
      "text/html": [
       "<table><tr><th>&nbsp;</th><th>step type</th><th>requirements</th><th>statement</th></tr>\n",
       "<tr><td><a name=\"proveit.linear_algebra.tensors.demonstrations.ccddbe623a56b5d50b9c0e75a477dc12c548ff950_step0\">0</a></td><td>generalization</td><td><a href=\"#proveit.linear_algebra.tensors.demonstrations.ccddbe623a56b5d50b9c0e75a477dc12c548ff950_step1\">1</a></td><td><span style=\"font-size:20px;\"><a class=\"ProveItLink\" href=\"../69b818e5ab2a8afc180d22a4e2534dbd4afed1660/expr.ipynb\"><img src=\"../69b818e5ab2a8afc180d22a4e2534dbd4afed1660/expr.png\" style=\"display:inline;vertical-align:middle;\" /></a> <a class=\"ProveItLink\" href=\"proof.ipynb\" style=\"text-decoration: none\">&nbsp;&#x22A2;&nbsp;&nbsp;</a><a class=\"ProveItLink\" href=\"../1de4136dd631ae32b26c1729e3fd39901d4241eb0/expr.ipynb\"><img src=\"../1de4136dd631ae32b26c1729e3fd39901d4241eb0/expr.png\" style=\"display:inline;vertical-align:middle;\" /></a></span></td></tr>\n",
       "<tr><td><a name=\"proveit.linear_algebra.tensors.demonstrations.ccddbe623a56b5d50b9c0e75a477dc12c548ff950_step1\">1</a></td><td>assumption</td><td></td><td><span style=\"font-size:20px;\"><a class=\"ProveItLink\" href=\"../69b818e5ab2a8afc180d22a4e2534dbd4afed1660/expr.ipynb\"><img src=\"../69b818e5ab2a8afc180d22a4e2534dbd4afed1660/expr.png\" style=\"display:inline;vertical-align:middle;\" /></a> <a class=\"ProveItLink\" href=\"../c4b2fe746825ddb7a27b6267243147ce94a41a510/proof.ipynb\" style=\"text-decoration: none\">&nbsp;&#x22A2;&nbsp;&nbsp;</a><a class=\"ProveItLink\" href=\"../69b818e5ab2a8afc180d22a4e2534dbd4afed1660/expr.ipynb\"><img src=\"../69b818e5ab2a8afc180d22a4e2534dbd4afed1660/expr.png\" style=\"display:inline;vertical-align:middle;\" /></a></span></td></tr>\n",
       "</table>"
      ],
      "text/plain": [
       "<proveit._core_.proof._ShowProof at 0x7ff9c0ecaf28>"
      ]
     },
     "execution_count": 1,
     "metadata": {},
     "output_type": "execute_result"
    }
   ],
   "source": [
    "import proveit\n",
    "# Automation is not needed when only showing a stored proof:\n",
    "proveit.defaults.automation = False # This will speed things up.\n",
    "proveit.defaults.inline_pngs = False # Makes files smaller.\n",
    "%show_proof"
   ]
  },
  {
   "cell_type": "code",
   "execution_count": null,
   "metadata": {},
   "outputs": [],
   "source": []
  }
 ],
 "metadata": {
  "kernelspec": {
   "display_name": "Python 3",
   "language": "python",
   "name": "python3"
  }
 },
 "nbformat": 4,
 "nbformat_minor": 0
}