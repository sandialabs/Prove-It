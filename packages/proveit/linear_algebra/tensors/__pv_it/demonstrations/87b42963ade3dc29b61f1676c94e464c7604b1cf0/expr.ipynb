{
 "cells": [
  {
   "cell_type": "markdown",
   "metadata": {},
   "source": [
    "Expression of type <a class=\"ProveItLink\" href=\"../../../../../../../doc/html/api/proveit.ExprTuple.html\">ExprTuple</a>\n",
    "=======================\n",
    "# from the theory of <a class=\"ProveItLink\" href=\"../../../_theory_nbs_/theory.ipynb\">proveit.linear_algebra.tensors</a>"
   ]
  },
  {
   "cell_type": "code",
   "execution_count": 1,
   "metadata": {},
   "outputs": [],
   "source": [
    "import proveit\n",
    "# Automation is not needed when building an expression:\n",
    "proveit.defaults.automation = False # This will speed things up.\n",
    "proveit.defaults.inline_pngs = False # Makes files smaller.\n",
    "%load_expr # Load the stored expression as 'stored_expr'\n",
    "# import Expression classes needed to build the expression\n",
    "from proveit import ExprTuple, beta, i, x, y\n",
    "from proveit.linear_algebra import ScalarMult, TensorProd, VecSum\n",
    "from proveit.numbers import Exp, Interval, four, two"
   ]
  },
  {
   "cell_type": "code",
   "execution_count": 2,
   "metadata": {},
   "outputs": [
    {
     "data": {
      "text/html": [
       "<strong id=\"expr\">expr:</strong> <a class=\"ProveItLink\" href=\"expr.ipynb\"><img src=\"expr.png\" style=\"display:inline;vertical-align:middle;\" /></a><br>"
      ],
      "text/plain": [
       "<IPython.core.display.HTML object>"
      ]
     },
     "metadata": {},
     "output_type": "display_data"
    }
   ],
   "source": [
    "# build up the expression from sub-expressions\n",
    "sub_expr1 = [i]\n",
    "sub_expr2 = Interval(two, four)\n",
    "expr = ExprTuple(TensorProd(ScalarMult(beta, x), VecSum(index_or_indices = sub_expr1, summand = ScalarMult(beta, y), domain = sub_expr2)), ScalarMult(Exp(beta, two), TensorProd(x, VecSum(index_or_indices = sub_expr1, summand = y, domain = sub_expr2))))"
   ]
  },
  {
   "cell_type": "code",
   "execution_count": 3,
   "metadata": {},
   "outputs": [
    {
     "name": "stdout",
     "output_type": "stream",
     "text": [
      "Passed sanity check: expr matches stored_expr\n"
     ]
    }
   ],
   "source": [
    "# check that the built expression is the same as the stored expression\n",
    "assert expr == stored_expr\n",
    "assert expr._style_id == stored_expr._style_id\n",
    "print(\"Passed sanity check: expr matches stored_expr\")"
   ]
  },
  {
   "cell_type": "code",
   "execution_count": 4,
   "metadata": {},
   "outputs": [
    {
     "name": "stdout",
     "output_type": "stream",
     "text": [
      "\\left(\\left(\\beta \\cdot x\\right) {\\otimes} \\left(\\sum_{i=2}^{4} \\left(\\beta \\cdot y\\right)\\right), \\beta^{2} \\cdot \\left(x {\\otimes} \\left(\\sum_{i=2}^{4} y\\right)\\right)\\right)\n"
     ]
    }
   ],
   "source": [
    "# Show the LaTeX representation of the expression for convenience if you need it.\n",
    "print(stored_expr.latex())"
   ]
  },
  {
   "cell_type": "code",
   "execution_count": 5,
   "metadata": {},
   "outputs": [
    {
     "data": {
      "text/html": [
       "<table>\n",
       "<tr><th>name</th><th>description</th><th>default</th><th>current value</th><th>related methods</th></tr><tr><td>wrap_positions</td><td>position(s) at which wrapping is to occur; 'n' is after the nth comma.</td><td>()</td><td>()</td><td>('with_wrapping_at',)</td></tr>\n",
       "<tr><td>justification</td><td>if any wrap positions are set, justify to the 'left', 'center', or 'right'</td><td>left</td><td>left</td><td>('with_justification',)</td></tr>\n",
       "</table>\n"
      ],
      "text/plain": [
       "style name: wrap_positions\n",
       "description: position(s) at which wrapping is to occur; 'n' is after the nth comma.\n",
       "default: ()\n",
       "current value: ()\n",
       "related methods: ('with_wrapping_at',)\n",
       "style name: justification\n",
       "description: if any wrap positions are set, justify to the 'left', 'center', or 'right'\n",
       "default: left\n",
       "current value: left\n",
       "related methods: ('with_justification',)"
      ]
     },
     "metadata": {},
     "output_type": "display_data"
    }
   ],
   "source": [
    "stored_expr.style_options()"
   ]
  },
  {
   "cell_type": "code",
   "execution_count": 6,
   "metadata": {},
   "outputs": [
    {
     "data": {
      "text/html": [
       "<table><tr><th>&nbsp;</th><th>core type</th><th>sub-expressions</th><th>expression</th></tr>\n",
       "<tr><td>0</td><td>ExprTuple</td><td>1, 2</td><td><a class=\"ProveItLink\" href=\"expr.ipynb\"><img src=\"expr.png\" style=\"display:inline;vertical-align:middle;\" /></a></td></tr>\n",
       "<tr><td>1</td><td>Operation</td><td>operator:&nbsp;13<br>operands:&nbsp;3<br></td><td><a class=\"ProveItLink\" href=\"../f6bfeb961205c7ba24ecb7a4408e5a1240bb642a0/expr.ipynb\"><img src=\"../f6bfeb961205c7ba24ecb7a4408e5a1240bb642a0/expr.png\" style=\"display:inline;vertical-align:middle;\" /></a></td></tr>\n",
       "<tr><td>2</td><td>Operation</td><td>operator:&nbsp;23<br>operands:&nbsp;4<br></td><td><a class=\"ProveItLink\" href=\"../cbeab06a08dbf0e12754dc8b95a4f7fd442dde160/expr.ipynb\"><img src=\"../cbeab06a08dbf0e12754dc8b95a4f7fd442dde160/expr.png\" style=\"display:inline;vertical-align:middle;\" /></a></td></tr>\n",
       "<tr><td>3</td><td>ExprTuple</td><td>5, 6</td><td><a class=\"ProveItLink\" href=\"../ffff1109df5516123cd44db87267b4b503c373ac0/expr.ipynb\"><img src=\"../ffff1109df5516123cd44db87267b4b503c373ac0/expr.png\" style=\"display:inline;vertical-align:middle;\" /></a></td></tr>\n",
       "<tr><td>4</td><td>ExprTuple</td><td>7, 8</td><td><a class=\"ProveItLink\" href=\"../07a1a79d8465bcb9e7d3d0833ca81615cf681bf50/expr.ipynb\"><img src=\"../07a1a79d8465bcb9e7d3d0833ca81615cf681bf50/expr.png\" style=\"display:inline;vertical-align:middle;\" /></a></td></tr>\n",
       "<tr><td>5</td><td>Operation</td><td>operator:&nbsp;23<br>operands:&nbsp;9<br></td><td><a class=\"ProveItLink\" href=\"../../../../scalar_multiplication/__pv_it/theorems/a3b8c81ed5ab0800fbf6abfdfaafa4ad0d8773d80/expr.ipynb\"><img src=\"../../../../scalar_multiplication/__pv_it/theorems/a3b8c81ed5ab0800fbf6abfdfaafa4ad0d8773d80/expr.png\" style=\"display:inline;vertical-align:middle;\" /></a></td></tr>\n",
       "<tr><td>6</td><td>Operation</td><td>operator:&nbsp;19<br>operand:&nbsp;15<br></td><td><a class=\"ProveItLink\" href=\"../3ef2556842da6ee0c8e39b482724a9487b8f6b000/expr.ipynb\"><img src=\"../3ef2556842da6ee0c8e39b482724a9487b8f6b000/expr.png\" style=\"display:inline;vertical-align:middle;\" /></a></td></tr>\n",
       "<tr><td>7</td><td>Operation</td><td>operator:&nbsp;11<br>operands:&nbsp;12<br></td><td><a class=\"ProveItLink\" href=\"../9c9bf5f21d91c5ea642d38faa77d421d2f14eb460/expr.ipynb\"><img src=\"../9c9bf5f21d91c5ea642d38faa77d421d2f14eb460/expr.png\" style=\"display:inline;vertical-align:middle;\" /></a></td></tr>\n",
       "<tr><td>8</td><td>Operation</td><td>operator:&nbsp;13<br>operands:&nbsp;14<br></td><td><a class=\"ProveItLink\" href=\"../59d2dc780cda37558f1add6fe69989bd5bbc70c20/expr.ipynb\"><img src=\"../59d2dc780cda37558f1add6fe69989bd5bbc70c20/expr.png\" style=\"display:inline;vertical-align:middle;\" /></a></td></tr>\n",
       "<tr><td>9</td><td>ExprTuple</td><td>27, 16</td><td><a class=\"ProveItLink\" href=\"../../../../scalar_multiplication/__pv_it/theorems/316c2c12c158d4443e9ce64c74cf90fa0a3bad940/expr.ipynb\"><img src=\"../../../../scalar_multiplication/__pv_it/theorems/316c2c12c158d4443e9ce64c74cf90fa0a3bad940/expr.png\" style=\"display:inline;vertical-align:middle;\" /></a></td></tr>\n",
       "<tr><td>10</td><td>ExprTuple</td><td>15</td><td><a class=\"ProveItLink\" href=\"../08c9b2502944d6cc329c2ad10c3b97ca54abd5f30/expr.ipynb\"><img src=\"../08c9b2502944d6cc329c2ad10c3b97ca54abd5f30/expr.png\" style=\"display:inline;vertical-align:middle;\" /></a></td></tr>\n",
       "<tr><td>11</td><td>Literal</td><td></td><td><a class=\"ProveItLink\" href=\"../../../../../numbers/exponentiation/__pv_it/common/0ac37aca1e54c35c5cda09672df32d4f69f1f3020/expr.ipynb\"><img src=\"../../../../../numbers/exponentiation/__pv_it/common/0ac37aca1e54c35c5cda09672df32d4f69f1f3020/expr.png\" style=\"display:inline;vertical-align:middle;\" /></a></td></tr>\n",
       "<tr><td>12</td><td>ExprTuple</td><td>27, 36</td><td><a class=\"ProveItLink\" href=\"../e7b0cf3e1d08abd5e5671d5823df4321c9adf4ca0/expr.ipynb\"><img src=\"../e7b0cf3e1d08abd5e5671d5823df4321c9adf4ca0/expr.png\" style=\"display:inline;vertical-align:middle;\" /></a></td></tr>\n",
       "<tr><td>13</td><td>Literal</td><td></td><td><a class=\"ProveItLink\" href=\"../../common/7fa25b05174babb4710be62d63ebd43f68aa2fec0/expr.ipynb\"><img src=\"../../common/7fa25b05174babb4710be62d63ebd43f68aa2fec0/expr.png\" style=\"display:inline;vertical-align:middle;\" /></a></td></tr>\n",
       "<tr><td>14</td><td>ExprTuple</td><td>16, 17</td><td><a class=\"ProveItLink\" href=\"../9db352e99d917340384e4e3bca226c53a53a674e0/expr.ipynb\"><img src=\"../9db352e99d917340384e4e3bca226c53a53a674e0/expr.png\" style=\"display:inline;vertical-align:middle;\" /></a></td></tr>\n",
       "<tr><td>15</td><td>Lambda</td><td>parameter:&nbsp;32<br>body:&nbsp;18<br></td><td><a class=\"ProveItLink\" href=\"../97f7e84bd56e37b1b19940c20cf66dd7bcb10d860/expr.ipynb\"><img src=\"../97f7e84bd56e37b1b19940c20cf66dd7bcb10d860/expr.png\" style=\"display:inline;vertical-align:middle;\" /></a></td></tr>\n",
       "<tr><td>16</td><td>Variable</td><td></td><td><a class=\"ProveItLink\" href=\"../../../../../__pv_it/common/a0d9d672aa5e272d907247690c152cc2c6daafb70/expr.ipynb\"><img src=\"../../../../../__pv_it/common/a0d9d672aa5e272d907247690c152cc2c6daafb70/expr.png\" style=\"display:inline;vertical-align:middle;\" /></a></td></tr>\n",
       "<tr><td>17</td><td>Operation</td><td>operator:&nbsp;19<br>operand:&nbsp;22<br></td><td><a class=\"ProveItLink\" href=\"../d142dde2f5a260757bcbeffcc66c5cd4cba1d4900/expr.ipynb\"><img src=\"../d142dde2f5a260757bcbeffcc66c5cd4cba1d4900/expr.png\" style=\"display:inline;vertical-align:middle;\" /></a></td></tr>\n",
       "<tr><td>18</td><td>Conditional</td><td>value:&nbsp;21<br>condition:&nbsp;29<br></td><td><a class=\"ProveItLink\" href=\"../bd13bd6bf2db3baae7735483f52b07b89cdd0a0a0/expr.ipynb\"><img src=\"../bd13bd6bf2db3baae7735483f52b07b89cdd0a0a0/expr.png\" style=\"display:inline;vertical-align:middle;\" /></a></td></tr>\n",
       "<tr><td>19</td><td>Literal</td><td></td><td><a class=\"ProveItLink\" href=\"../../../../addition/__pv_it/common/62f73c830c62efb87627ede5678f282081cd0ce20/expr.ipynb\"><img src=\"../../../../addition/__pv_it/common/62f73c830c62efb87627ede5678f282081cd0ce20/expr.png\" style=\"display:inline;vertical-align:middle;\" /></a></td></tr>\n",
       "<tr><td>20</td><td>ExprTuple</td><td>22</td><td><a class=\"ProveItLink\" href=\"../11b67d846baf810ab6b5e000babe2a01453189f30/expr.ipynb\"><img src=\"../11b67d846baf810ab6b5e000babe2a01453189f30/expr.png\" style=\"display:inline;vertical-align:middle;\" /></a></td></tr>\n",
       "<tr><td>21</td><td>Operation</td><td>operator:&nbsp;23<br>operands:&nbsp;24<br></td><td><a class=\"ProveItLink\" href=\"../7740c6523500049e2e0f549dd01a3ee08c204f8e0/expr.ipynb\"><img src=\"../7740c6523500049e2e0f549dd01a3ee08c204f8e0/expr.png\" style=\"display:inline;vertical-align:middle;\" /></a></td></tr>\n",
       "<tr><td>22</td><td>Lambda</td><td>parameter:&nbsp;32<br>body:&nbsp;26<br></td><td><a class=\"ProveItLink\" href=\"../bb33ac1c118c7409370ff6f2868a4c8b89659ffd0/expr.ipynb\"><img src=\"../bb33ac1c118c7409370ff6f2868a4c8b89659ffd0/expr.png\" style=\"display:inline;vertical-align:middle;\" /></a></td></tr>\n",
       "<tr><td>23</td><td>Literal</td><td></td><td><a class=\"ProveItLink\" href=\"../../../../scalar_multiplication/__pv_it/common/1e364bd471e6a29fcd358dd2d9cd990a1e6fedd40/expr.ipynb\"><img src=\"../../../../scalar_multiplication/__pv_it/common/1e364bd471e6a29fcd358dd2d9cd990a1e6fedd40/expr.png\" style=\"display:inline;vertical-align:middle;\" /></a></td></tr>\n",
       "<tr><td>24</td><td>ExprTuple</td><td>27, 28</td><td><a class=\"ProveItLink\" href=\"../c85518a7a51a68e2ea9205b115761dcb4c23b02a0/expr.ipynb\"><img src=\"../c85518a7a51a68e2ea9205b115761dcb4c23b02a0/expr.png\" style=\"display:inline;vertical-align:middle;\" /></a></td></tr>\n",
       "<tr><td>25</td><td>ExprTuple</td><td>32</td><td><a class=\"ProveItLink\" href=\"../../../../../__pv_it/common/3b7d7ace2ced0a8261ea4d18d03aaf49e434d69d0/expr.ipynb\"><img src=\"../../../../../__pv_it/common/3b7d7ace2ced0a8261ea4d18d03aaf49e434d69d0/expr.png\" style=\"display:inline;vertical-align:middle;\" /></a></td></tr>\n",
       "<tr><td>26</td><td>Conditional</td><td>value:&nbsp;28<br>condition:&nbsp;29<br></td><td><a class=\"ProveItLink\" href=\"../5f5799476a71c6b4ef40d20a26b68781a4ea46640/expr.ipynb\"><img src=\"../5f5799476a71c6b4ef40d20a26b68781a4ea46640/expr.png\" style=\"display:inline;vertical-align:middle;\" /></a></td></tr>\n",
       "<tr><td>27</td><td>Variable</td><td></td><td><a class=\"ProveItLink\" href=\"../../../../../__pv_it/common/c713a5db2586f854a5051c95110df24af02bd7260/expr.ipynb\"><img src=\"../../../../../__pv_it/common/c713a5db2586f854a5051c95110df24af02bd7260/expr.png\" style=\"display:inline;vertical-align:middle;\" /></a></td></tr>\n",
       "<tr><td>28</td><td>Variable</td><td></td><td><a class=\"ProveItLink\" href=\"../../../../../__pv_it/common/ff7dba4ef0bbe791ab573bf2d9c220a304399ac80/expr.ipynb\"><img src=\"../../../../../__pv_it/common/ff7dba4ef0bbe791ab573bf2d9c220a304399ac80/expr.png\" style=\"display:inline;vertical-align:middle;\" /></a></td></tr>\n",
       "<tr><td>29</td><td>Operation</td><td>operator:&nbsp;30<br>operands:&nbsp;31<br></td><td><a class=\"ProveItLink\" href=\"../1dcee5d42a9a39499a39768abf9beb5a120321210/expr.ipynb\"><img src=\"../1dcee5d42a9a39499a39768abf9beb5a120321210/expr.png\" style=\"display:inline;vertical-align:middle;\" /></a></td></tr>\n",
       "<tr><td>30</td><td>Literal</td><td></td><td><a class=\"ProveItLink\" href=\"../../../../../logic/sets/membership/__pv_it/common/477487d8796864d23d5810f83761435f25167f690/expr.ipynb\"><img src=\"../../../../../logic/sets/membership/__pv_it/common/477487d8796864d23d5810f83761435f25167f690/expr.png\" style=\"display:inline;vertical-align:middle;\" /></a></td></tr>\n",
       "<tr><td>31</td><td>ExprTuple</td><td>32, 33</td><td><a class=\"ProveItLink\" href=\"../28d2afb06ec85f8673a332040f8f84c54020e9590/expr.ipynb\"><img src=\"../28d2afb06ec85f8673a332040f8f84c54020e9590/expr.png\" style=\"display:inline;vertical-align:middle;\" /></a></td></tr>\n",
       "<tr><td>32</td><td>Variable</td><td></td><td><a class=\"ProveItLink\" href=\"../../../../../__pv_it/common/ae955345c83abf786c3aff8681cd5465beae262d0/expr.ipynb\"><img src=\"../../../../../__pv_it/common/ae955345c83abf786c3aff8681cd5465beae262d0/expr.png\" style=\"display:inline;vertical-align:middle;\" /></a></td></tr>\n",
       "<tr><td>33</td><td>Operation</td><td>operator:&nbsp;34<br>operands:&nbsp;35<br></td><td><a class=\"ProveItLink\" href=\"../d52b7b54dc47ec2badf6859f9847ff1f1b35483a0/expr.ipynb\"><img src=\"../d52b7b54dc47ec2badf6859f9847ff1f1b35483a0/expr.png\" style=\"display:inline;vertical-align:middle;\" /></a></td></tr>\n",
       "<tr><td>34</td><td>Literal</td><td></td><td><a class=\"ProveItLink\" href=\"../../../../../numbers/number_sets/integers/__pv_it/common/92f3a0a77e3c3ea8e4a5c8674edadc54e4f57d550/expr.ipynb\"><img src=\"../../../../../numbers/number_sets/integers/__pv_it/common/92f3a0a77e3c3ea8e4a5c8674edadc54e4f57d550/expr.png\" style=\"display:inline;vertical-align:middle;\" /></a></td></tr>\n",
       "<tr><td>35</td><td>ExprTuple</td><td>36, 37</td><td><a class=\"ProveItLink\" href=\"../4dcdc5026f80b9604cf319714818529aceda286b0/expr.ipynb\"><img src=\"../4dcdc5026f80b9604cf319714818529aceda286b0/expr.png\" style=\"display:inline;vertical-align:middle;\" /></a></td></tr>\n",
       "<tr><td>36</td><td>Literal</td><td></td><td><a class=\"ProveItLink\" href=\"../../../../../numbers/numerals/__pv_it/common/af4aab8a07465db063742696e006d04670f30cf10/expr.ipynb\"><img src=\"../../../../../numbers/numerals/__pv_it/common/af4aab8a07465db063742696e006d04670f30cf10/expr.png\" style=\"display:inline;vertical-align:middle;\" /></a></td></tr>\n",
       "<tr><td>37</td><td>Literal</td><td></td><td><a class=\"ProveItLink\" href=\"../../../../../numbers/numerals/__pv_it/common/48a1d915c1e9490b9a94e5c77a208938d3ee20ce0/expr.ipynb\"><img src=\"../../../../../numbers/numerals/__pv_it/common/48a1d915c1e9490b9a94e5c77a208938d3ee20ce0/expr.png\" style=\"display:inline;vertical-align:middle;\" /></a></td></tr>\n",
       "</table>\n"
      ],
      "text/plain": [
       "0. ((beta * x) otimes (Sum_{i=2}^{4} (beta * y)), beta^{2} * (x otimes (Sum_{i=2}^{4} y)))\n",
       "   core type: ExprTuple\n",
       "   sub-expressions: 1, 2\n",
       "1. (beta * x) otimes (Sum_{i=2}^{4} (beta * y))\n",
       "   core type: Operation\n",
       "   operator: 13\n",
       "   operands: 3\n",
       "2. beta^{2} * (x otimes (Sum_{i=2}^{4} y))\n",
       "   core type: Operation\n",
       "   operator: 23\n",
       "   operands: 4\n",
       "3. (beta * x, Sum_{i=2}^{4} (beta * y))\n",
       "   core type: ExprTuple\n",
       "   sub-expressions: 5, 6\n",
       "4. (beta^{2}, x otimes (Sum_{i=2}^{4} y))\n",
       "   core type: ExprTuple\n",
       "   sub-expressions: 7, 8\n",
       "5. beta * x\n",
       "   core type: Operation\n",
       "   operator: 23\n",
       "   operands: 9\n",
       "6. Sum_{i=2}^{4} (beta * y)\n",
       "   core type: Operation\n",
       "   operator: 19\n",
       "   operand: 15\n",
       "7. beta^{2}\n",
       "   core type: Operation\n",
       "   operator: 11\n",
       "   operands: 12\n",
       "8. x otimes (Sum_{i=2}^{4} y)\n",
       "   core type: Operation\n",
       "   operator: 13\n",
       "   operands: 14\n",
       "9. (beta, x)\n",
       "   core type: ExprTuple\n",
       "   sub-expressions: 27, 16\n",
       "10. (i -> {beta * y if i in {2 .. 4}.)\n",
       "    core type: ExprTuple\n",
       "    sub-expressions: 15\n",
       "11. Exp\n",
       "    core type: Literal\n",
       "    sub-expressions: \n",
       "12. (beta, 2)\n",
       "    core type: ExprTuple\n",
       "    sub-expressions: 27, 36\n",
       "13. otimes\n",
       "    core type: Literal\n",
       "    sub-expressions: \n",
       "14. (x, Sum_{i=2}^{4} y)\n",
       "    core type: ExprTuple\n",
       "    sub-expressions: 16, 17\n",
       "15. i -> {beta * y if i in {2 .. 4}.\n",
       "    core type: Lambda\n",
       "    parameter: 32\n",
       "    body: 18\n",
       "16. x\n",
       "    core type: Variable\n",
       "    sub-expressions: \n",
       "17. Sum_{i=2}^{4} y\n",
       "    core type: Operation\n",
       "    operator: 19\n",
       "    operand: 22\n",
       "18. {beta * y if i in {2 .. 4}.\n",
       "    core type: Conditional\n",
       "    value: 21\n",
       "    condition: 29\n",
       "19. Sum\n",
       "    core type: Literal\n",
       "    sub-expressions: \n",
       "20. (i -> {y if i in {2 .. 4}.)\n",
       "    core type: ExprTuple\n",
       "    sub-expressions: 22\n",
       "21. beta * y\n",
       "    core type: Operation\n",
       "    operator: 23\n",
       "    operands: 24\n",
       "22. i -> {y if i in {2 .. 4}.\n",
       "    core type: Lambda\n",
       "    parameter: 32\n",
       "    body: 26\n",
       "23. *\n",
       "    core type: Literal\n",
       "    sub-expressions: \n",
       "24. (beta, y)\n",
       "    core type: ExprTuple\n",
       "    sub-expressions: 27, 28\n",
       "25. (i)\n",
       "    core type: ExprTuple\n",
       "    sub-expressions: 32\n",
       "26. {y if i in {2 .. 4}.\n",
       "    core type: Conditional\n",
       "    value: 28\n",
       "    condition: 29\n",
       "27. beta\n",
       "    core type: Variable\n",
       "    sub-expressions: \n",
       "28. y\n",
       "    core type: Variable\n",
       "    sub-expressions: \n",
       "29. i in {2 .. 4}\n",
       "    core type: Operation\n",
       "    operator: 30\n",
       "    operands: 31\n",
       "30. in\n",
       "    core type: Literal\n",
       "    sub-expressions: \n",
       "31. (i, {2 .. 4})\n",
       "    core type: ExprTuple\n",
       "    sub-expressions: 32, 33\n",
       "32. i\n",
       "    core type: Variable\n",
       "    sub-expressions: \n",
       "33. {2 .. 4}\n",
       "    core type: Operation\n",
       "    operator: 34\n",
       "    operands: 35\n",
       "34. Interval\n",
       "    core type: Literal\n",
       "    sub-expressions: \n",
       "35. (2, 4)\n",
       "    core type: ExprTuple\n",
       "    sub-expressions: 36, 37\n",
       "36. 2\n",
       "    core type: Literal\n",
       "    sub-expressions: \n",
       "37. 4\n",
       "    core type: Literal\n",
       "    sub-expressions: "
      ]
     },
     "metadata": {},
     "output_type": "display_data"
    }
   ],
   "source": [
    "# display the expression information\n",
    "stored_expr.expr_info()"
   ]
  },
  {
   "cell_type": "code",
   "execution_count": null,
   "metadata": {},
   "outputs": [],
   "source": []
  }
 ],
 "metadata": {
  "kernelspec": {
   "display_name": "Python 3",
   "language": "python",
   "name": "python3"
  }
 },
 "nbformat": 4,
 "nbformat_minor": 0
}