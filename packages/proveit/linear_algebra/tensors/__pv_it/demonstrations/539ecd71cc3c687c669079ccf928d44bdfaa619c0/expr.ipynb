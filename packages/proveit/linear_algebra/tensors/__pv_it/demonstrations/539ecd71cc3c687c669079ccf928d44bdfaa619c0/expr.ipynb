{
 "cells": [
  {
   "cell_type": "markdown",
   "metadata": {},
   "source": [
    "Expression of type <a class=\"ProveItLink\" href=\"../../../../../../../doc/html/api/proveit.ExprTuple.html\">ExprTuple</a>\n",
    "=======================\n",
    "# from the theory of <a class=\"ProveItLink\" href=\"../../../_theory_nbs_/theory.ipynb\">proveit.linear_algebra.tensors</a>"
   ]
  },
  {
   "cell_type": "code",
   "execution_count": 1,
   "metadata": {},
   "outputs": [],
   "source": [
    "import proveit\n",
    "# Automation is not needed when building an expression:\n",
    "proveit.defaults.automation = False # This will speed things up.\n",
    "proveit.defaults.inline_pngs = False # Makes files smaller.\n",
    "%load_expr # Load the stored expression as 'stored_expr'\n",
    "# import Expression classes needed to build the expression\n",
    "from proveit import ExprTuple, gamma, i, x, y\n",
    "from proveit.linear_algebra import ScalarMult, TensorProd, VecSum\n",
    "from proveit.numbers import Interval, four, two"
   ]
  },
  {
   "cell_type": "code",
   "execution_count": 2,
   "metadata": {},
   "outputs": [
    {
     "data": {
      "text/html": [
       "<strong id=\"expr\">expr:</strong> <a class=\"ProveItLink\" href=\"expr.ipynb\"><img src=\"expr.png\" style=\"display:inline;vertical-align:middle;\" /></a><br>"
      ],
      "text/plain": [
       "<IPython.core.display.HTML object>"
      ]
     },
     "metadata": {},
     "output_type": "display_data"
    }
   ],
   "source": [
    "# build up the expression from sub-expressions\n",
    "sub_expr1 = [i]\n",
    "sub_expr2 = ScalarMult(gamma, i)\n",
    "sub_expr3 = Interval(two, four)\n",
    "expr = ExprTuple(TensorProd(x, VecSum(index_or_indices = sub_expr1, summand = ScalarMult(sub_expr2, y), domain = sub_expr3)), VecSum(index_or_indices = sub_expr1, summand = ScalarMult(sub_expr2, TensorProd(x, y)), domain = sub_expr3))"
   ]
  },
  {
   "cell_type": "code",
   "execution_count": 3,
   "metadata": {},
   "outputs": [
    {
     "name": "stdout",
     "output_type": "stream",
     "text": [
      "Passed sanity check: expr matches stored_expr\n"
     ]
    }
   ],
   "source": [
    "# check that the built expression is the same as the stored expression\n",
    "assert expr == stored_expr\n",
    "assert expr._style_id == stored_expr._style_id\n",
    "print(\"Passed sanity check: expr matches stored_expr\")"
   ]
  },
  {
   "cell_type": "code",
   "execution_count": 4,
   "metadata": {},
   "outputs": [
    {
     "name": "stdout",
     "output_type": "stream",
     "text": [
      "\\left(x {\\otimes} \\left(\\sum_{i=2}^{4} \\left(\\left(\\gamma \\cdot i\\right) \\cdot y\\right)\\right), \\sum_{i=2}^{4} \\left(\\left(\\gamma \\cdot i\\right) \\cdot \\left(x {\\otimes} y\\right)\\right)\\right)\n"
     ]
    }
   ],
   "source": [
    "# Show the LaTeX representation of the expression for convenience if you need it.\n",
    "print(stored_expr.latex())"
   ]
  },
  {
   "cell_type": "code",
   "execution_count": 5,
   "metadata": {},
   "outputs": [
    {
     "data": {
      "text/html": [
       "<table>\n",
       "<tr><th>name</th><th>description</th><th>default</th><th>current value</th><th>related methods</th></tr><tr><td>wrap_positions</td><td>position(s) at which wrapping is to occur; 'n' is after the nth comma.</td><td>()</td><td>()</td><td>('with_wrapping_at',)</td></tr>\n",
       "<tr><td>justification</td><td>if any wrap positions are set, justify to the 'left', 'center', or 'right'</td><td>left</td><td>left</td><td>('with_justification',)</td></tr>\n",
       "</table>\n"
      ],
      "text/plain": [
       "style name: wrap_positions\n",
       "description: position(s) at which wrapping is to occur; 'n' is after the nth comma.\n",
       "default: ()\n",
       "current value: ()\n",
       "related methods: ('with_wrapping_at',)\n",
       "style name: justification\n",
       "description: if any wrap positions are set, justify to the 'left', 'center', or 'right'\n",
       "default: left\n",
       "current value: left\n",
       "related methods: ('with_justification',)"
      ]
     },
     "metadata": {},
     "output_type": "display_data"
    }
   ],
   "source": [
    "stored_expr.style_options()"
   ]
  },
  {
   "cell_type": "code",
   "execution_count": 6,
   "metadata": {},
   "outputs": [
    {
     "data": {
      "text/html": [
       "<table><tr><th>&nbsp;</th><th>core type</th><th>sub-expressions</th><th>expression</th></tr>\n",
       "<tr><td>0</td><td>ExprTuple</td><td>1, 2</td><td><a class=\"ProveItLink\" href=\"expr.ipynb\"><img src=\"expr.png\" style=\"display:inline;vertical-align:middle;\" /></a></td></tr>\n",
       "<tr><td>1</td><td>Operation</td><td>operator:&nbsp;21<br>operands:&nbsp;3<br></td><td><a class=\"ProveItLink\" href=\"../ec4716f1656bd72a504dd1e56fc753b7dea5a0ba0/expr.ipynb\"><img src=\"../ec4716f1656bd72a504dd1e56fc753b7dea5a0ba0/expr.png\" style=\"display:inline;vertical-align:middle;\" /></a></td></tr>\n",
       "<tr><td>2</td><td>Operation</td><td>operator:&nbsp;7<br>operand:&nbsp;6<br></td><td><a class=\"ProveItLink\" href=\"../88593c18641b0e3f73ce5e99846076a95df6ed810/expr.ipynb\"><img src=\"../88593c18641b0e3f73ce5e99846076a95df6ed810/expr.png\" style=\"display:inline;vertical-align:middle;\" /></a></td></tr>\n",
       "<tr><td>3</td><td>ExprTuple</td><td>25, 5</td><td><a class=\"ProveItLink\" href=\"../472f878b69275016f49826062594d07a9dbcc2040/expr.ipynb\"><img src=\"../472f878b69275016f49826062594d07a9dbcc2040/expr.png\" style=\"display:inline;vertical-align:middle;\" /></a></td></tr>\n",
       "<tr><td>4</td><td>ExprTuple</td><td>6</td><td><a class=\"ProveItLink\" href=\"../2f0923bc799d86954fac1e6a970dbc068446f6da0/expr.ipynb\"><img src=\"../2f0923bc799d86954fac1e6a970dbc068446f6da0/expr.png\" style=\"display:inline;vertical-align:middle;\" /></a></td></tr>\n",
       "<tr><td>5</td><td>Operation</td><td>operator:&nbsp;7<br>operand:&nbsp;10<br></td><td><a class=\"ProveItLink\" href=\"../b2d59006ec5a6ed5b7bd2c4665f78dd1b0fad6520/expr.ipynb\"><img src=\"../b2d59006ec5a6ed5b7bd2c4665f78dd1b0fad6520/expr.png\" style=\"display:inline;vertical-align:middle;\" /></a></td></tr>\n",
       "<tr><td>6</td><td>Lambda</td><td>parameter:&nbsp;32<br>body:&nbsp;9<br></td><td><a class=\"ProveItLink\" href=\"../ff9080c389768c59526599d6a74ec8f701d8e0110/expr.ipynb\"><img src=\"../ff9080c389768c59526599d6a74ec8f701d8e0110/expr.png\" style=\"display:inline;vertical-align:middle;\" /></a></td></tr>\n",
       "<tr><td>7</td><td>Literal</td><td></td><td><a class=\"ProveItLink\" href=\"../../../../addition/__pv_it/common/62f73c830c62efb87627ede5678f282081cd0ce20/expr.ipynb\"><img src=\"../../../../addition/__pv_it/common/62f73c830c62efb87627ede5678f282081cd0ce20/expr.png\" style=\"display:inline;vertical-align:middle;\" /></a></td></tr>\n",
       "<tr><td>8</td><td>ExprTuple</td><td>10</td><td><a class=\"ProveItLink\" href=\"../61becd3066aad671ebedbd0c7a80e0014d495d010/expr.ipynb\"><img src=\"../61becd3066aad671ebedbd0c7a80e0014d495d010/expr.png\" style=\"display:inline;vertical-align:middle;\" /></a></td></tr>\n",
       "<tr><td>9</td><td>Conditional</td><td>value:&nbsp;11<br>condition:&nbsp;16<br></td><td><a class=\"ProveItLink\" href=\"../b2d612d566d7b42fbf9f4c5c62fd1287cc25bead0/expr.ipynb\"><img src=\"../b2d612d566d7b42fbf9f4c5c62fd1287cc25bead0/expr.png\" style=\"display:inline;vertical-align:middle;\" /></a></td></tr>\n",
       "<tr><td>10</td><td>Lambda</td><td>parameter:&nbsp;32<br>body:&nbsp;13<br></td><td><a class=\"ProveItLink\" href=\"../bf938b6472d3f8a84f48fc0194429208ce500a560/expr.ipynb\"><img src=\"../bf938b6472d3f8a84f48fc0194429208ce500a560/expr.png\" style=\"display:inline;vertical-align:middle;\" /></a></td></tr>\n",
       "<tr><td>11</td><td>Operation</td><td>operator:&nbsp;27<br>operands:&nbsp;14<br></td><td><a class=\"ProveItLink\" href=\"../a0f683008f73edaaf1a9e21ab86bc89589e6129c0/expr.ipynb\"><img src=\"../a0f683008f73edaaf1a9e21ab86bc89589e6129c0/expr.png\" style=\"display:inline;vertical-align:middle;\" /></a></td></tr>\n",
       "<tr><td>12</td><td>ExprTuple</td><td>32</td><td><a class=\"ProveItLink\" href=\"../../../../../__pv_it/common/3b7d7ace2ced0a8261ea4d18d03aaf49e434d69d0/expr.ipynb\"><img src=\"../../../../../__pv_it/common/3b7d7ace2ced0a8261ea4d18d03aaf49e434d69d0/expr.png\" style=\"display:inline;vertical-align:middle;\" /></a></td></tr>\n",
       "<tr><td>13</td><td>Conditional</td><td>value:&nbsp;15<br>condition:&nbsp;16<br></td><td><a class=\"ProveItLink\" href=\"../eb01ec9bb2813a888f25572bfde435add55be80c0/expr.ipynb\"><img src=\"../eb01ec9bb2813a888f25572bfde435add55be80c0/expr.png\" style=\"display:inline;vertical-align:middle;\" /></a></td></tr>\n",
       "<tr><td>14</td><td>ExprTuple</td><td>23, 17</td><td><a class=\"ProveItLink\" href=\"../b8144f57b4db00e54653e187c443cf93f68261260/expr.ipynb\"><img src=\"../b8144f57b4db00e54653e187c443cf93f68261260/expr.png\" style=\"display:inline;vertical-align:middle;\" /></a></td></tr>\n",
       "<tr><td>15</td><td>Operation</td><td>operator:&nbsp;27<br>operands:&nbsp;18<br></td><td><a class=\"ProveItLink\" href=\"../e9886ebdf169753b356db70ef85468cd58d95aab0/expr.ipynb\"><img src=\"../e9886ebdf169753b356db70ef85468cd58d95aab0/expr.png\" style=\"display:inline;vertical-align:middle;\" /></a></td></tr>\n",
       "<tr><td>16</td><td>Operation</td><td>operator:&nbsp;19<br>operands:&nbsp;20<br></td><td><a class=\"ProveItLink\" href=\"../1dcee5d42a9a39499a39768abf9beb5a120321210/expr.ipynb\"><img src=\"../1dcee5d42a9a39499a39768abf9beb5a120321210/expr.png\" style=\"display:inline;vertical-align:middle;\" /></a></td></tr>\n",
       "<tr><td>17</td><td>Operation</td><td>operator:&nbsp;21<br>operands:&nbsp;22<br></td><td><a class=\"ProveItLink\" href=\"../ffc5987ff2367c75c570016997d286dc9b72582b0/expr.ipynb\"><img src=\"../ffc5987ff2367c75c570016997d286dc9b72582b0/expr.png\" style=\"display:inline;vertical-align:middle;\" /></a></td></tr>\n",
       "<tr><td>18</td><td>ExprTuple</td><td>23, 26</td><td><a class=\"ProveItLink\" href=\"../8d74100e35dd80ef646c3ce4e287ecc93959969d0/expr.ipynb\"><img src=\"../8d74100e35dd80ef646c3ce4e287ecc93959969d0/expr.png\" style=\"display:inline;vertical-align:middle;\" /></a></td></tr>\n",
       "<tr><td>19</td><td>Literal</td><td></td><td><a class=\"ProveItLink\" href=\"../../../../../logic/sets/membership/__pv_it/common/477487d8796864d23d5810f83761435f25167f690/expr.ipynb\"><img src=\"../../../../../logic/sets/membership/__pv_it/common/477487d8796864d23d5810f83761435f25167f690/expr.png\" style=\"display:inline;vertical-align:middle;\" /></a></td></tr>\n",
       "<tr><td>20</td><td>ExprTuple</td><td>32, 24</td><td><a class=\"ProveItLink\" href=\"../28d2afb06ec85f8673a332040f8f84c54020e9590/expr.ipynb\"><img src=\"../28d2afb06ec85f8673a332040f8f84c54020e9590/expr.png\" style=\"display:inline;vertical-align:middle;\" /></a></td></tr>\n",
       "<tr><td>21</td><td>Literal</td><td></td><td><a class=\"ProveItLink\" href=\"../../common/7fa25b05174babb4710be62d63ebd43f68aa2fec0/expr.ipynb\"><img src=\"../../common/7fa25b05174babb4710be62d63ebd43f68aa2fec0/expr.png\" style=\"display:inline;vertical-align:middle;\" /></a></td></tr>\n",
       "<tr><td>22</td><td>ExprTuple</td><td>25, 26</td><td><a class=\"ProveItLink\" href=\"../../../../../__pv_it/common/70b6dfe187a2382408546cc714e0c3bc5c3a48c90/expr.ipynb\"><img src=\"../../../../../__pv_it/common/70b6dfe187a2382408546cc714e0c3bc5c3a48c90/expr.png\" style=\"display:inline;vertical-align:middle;\" /></a></td></tr>\n",
       "<tr><td>23</td><td>Operation</td><td>operator:&nbsp;27<br>operands:&nbsp;28<br></td><td><a class=\"ProveItLink\" href=\"../454fe25dcdd094332bd13830e131fff52a2f50810/expr.ipynb\"><img src=\"../454fe25dcdd094332bd13830e131fff52a2f50810/expr.png\" style=\"display:inline;vertical-align:middle;\" /></a></td></tr>\n",
       "<tr><td>24</td><td>Operation</td><td>operator:&nbsp;29<br>operands:&nbsp;30<br></td><td><a class=\"ProveItLink\" href=\"../d52b7b54dc47ec2badf6859f9847ff1f1b35483a0/expr.ipynb\"><img src=\"../d52b7b54dc47ec2badf6859f9847ff1f1b35483a0/expr.png\" style=\"display:inline;vertical-align:middle;\" /></a></td></tr>\n",
       "<tr><td>25</td><td>Variable</td><td></td><td><a class=\"ProveItLink\" href=\"../../../../../__pv_it/common/a0d9d672aa5e272d907247690c152cc2c6daafb70/expr.ipynb\"><img src=\"../../../../../__pv_it/common/a0d9d672aa5e272d907247690c152cc2c6daafb70/expr.png\" style=\"display:inline;vertical-align:middle;\" /></a></td></tr>\n",
       "<tr><td>26</td><td>Variable</td><td></td><td><a class=\"ProveItLink\" href=\"../../../../../__pv_it/common/ff7dba4ef0bbe791ab573bf2d9c220a304399ac80/expr.ipynb\"><img src=\"../../../../../__pv_it/common/ff7dba4ef0bbe791ab573bf2d9c220a304399ac80/expr.png\" style=\"display:inline;vertical-align:middle;\" /></a></td></tr>\n",
       "<tr><td>27</td><td>Literal</td><td></td><td><a class=\"ProveItLink\" href=\"../../../../scalar_multiplication/__pv_it/common/1e364bd471e6a29fcd358dd2d9cd990a1e6fedd40/expr.ipynb\"><img src=\"../../../../scalar_multiplication/__pv_it/common/1e364bd471e6a29fcd358dd2d9cd990a1e6fedd40/expr.png\" style=\"display:inline;vertical-align:middle;\" /></a></td></tr>\n",
       "<tr><td>28</td><td>ExprTuple</td><td>31, 32</td><td><a class=\"ProveItLink\" href=\"../bee6b8d7119a5b42a091820303c6cc714b8336470/expr.ipynb\"><img src=\"../bee6b8d7119a5b42a091820303c6cc714b8336470/expr.png\" style=\"display:inline;vertical-align:middle;\" /></a></td></tr>\n",
       "<tr><td>29</td><td>Literal</td><td></td><td><a class=\"ProveItLink\" href=\"../../../../../numbers/number_sets/integers/__pv_it/common/92f3a0a77e3c3ea8e4a5c8674edadc54e4f57d550/expr.ipynb\"><img src=\"../../../../../numbers/number_sets/integers/__pv_it/common/92f3a0a77e3c3ea8e4a5c8674edadc54e4f57d550/expr.png\" style=\"display:inline;vertical-align:middle;\" /></a></td></tr>\n",
       "<tr><td>30</td><td>ExprTuple</td><td>33, 34</td><td><a class=\"ProveItLink\" href=\"../4dcdc5026f80b9604cf319714818529aceda286b0/expr.ipynb\"><img src=\"../4dcdc5026f80b9604cf319714818529aceda286b0/expr.png\" style=\"display:inline;vertical-align:middle;\" /></a></td></tr>\n",
       "<tr><td>31</td><td>Variable</td><td></td><td><a class=\"ProveItLink\" href=\"../../../../../__pv_it/common/d3b5a05ce48f7e4b8f946549743adda31d51d0e80/expr.ipynb\"><img src=\"../../../../../__pv_it/common/d3b5a05ce48f7e4b8f946549743adda31d51d0e80/expr.png\" style=\"display:inline;vertical-align:middle;\" /></a></td></tr>\n",
       "<tr><td>32</td><td>Variable</td><td></td><td><a class=\"ProveItLink\" href=\"../../../../../__pv_it/common/ae955345c83abf786c3aff8681cd5465beae262d0/expr.ipynb\"><img src=\"../../../../../__pv_it/common/ae955345c83abf786c3aff8681cd5465beae262d0/expr.png\" style=\"display:inline;vertical-align:middle;\" /></a></td></tr>\n",
       "<tr><td>33</td><td>Literal</td><td></td><td><a class=\"ProveItLink\" href=\"../../../../../numbers/numerals/__pv_it/common/af4aab8a07465db063742696e006d04670f30cf10/expr.ipynb\"><img src=\"../../../../../numbers/numerals/__pv_it/common/af4aab8a07465db063742696e006d04670f30cf10/expr.png\" style=\"display:inline;vertical-align:middle;\" /></a></td></tr>\n",
       "<tr><td>34</td><td>Literal</td><td></td><td><a class=\"ProveItLink\" href=\"../../../../../numbers/numerals/__pv_it/common/48a1d915c1e9490b9a94e5c77a208938d3ee20ce0/expr.ipynb\"><img src=\"../../../../../numbers/numerals/__pv_it/common/48a1d915c1e9490b9a94e5c77a208938d3ee20ce0/expr.png\" style=\"display:inline;vertical-align:middle;\" /></a></td></tr>\n",
       "</table>\n"
      ],
      "text/plain": [
       "0. (x otimes (Sum_{i=2}^{4} ((gamma * i) * y)), Sum_{i=2}^{4} ((gamma * i) * (x otimes y)))\n",
       "   core type: ExprTuple\n",
       "   sub-expressions: 1, 2\n",
       "1. x otimes (Sum_{i=2}^{4} ((gamma * i) * y))\n",
       "   core type: Operation\n",
       "   operator: 21\n",
       "   operands: 3\n",
       "2. Sum_{i=2}^{4} ((gamma * i) * (x otimes y))\n",
       "   core type: Operation\n",
       "   operator: 7\n",
       "   operand: 6\n",
       "3. (x, Sum_{i=2}^{4} ((gamma * i) * y))\n",
       "   core type: ExprTuple\n",
       "   sub-expressions: 25, 5\n",
       "4. (i -> {(gamma * i) * (x otimes y) if i in {2 .. 4}.)\n",
       "   core type: ExprTuple\n",
       "   sub-expressions: 6\n",
       "5. Sum_{i=2}^{4} ((gamma * i) * y)\n",
       "   core type: Operation\n",
       "   operator: 7\n",
       "   operand: 10\n",
       "6. i -> {(gamma * i) * (x otimes y) if i in {2 .. 4}.\n",
       "   core type: Lambda\n",
       "   parameter: 32\n",
       "   body: 9\n",
       "7. Sum\n",
       "   core type: Literal\n",
       "   sub-expressions: \n",
       "8. (i -> {(gamma * i) * y if i in {2 .. 4}.)\n",
       "   core type: ExprTuple\n",
       "   sub-expressions: 10\n",
       "9. {(gamma * i) * (x otimes y) if i in {2 .. 4}.\n",
       "   core type: Conditional\n",
       "   value: 11\n",
       "   condition: 16\n",
       "10. i -> {(gamma * i) * y if i in {2 .. 4}.\n",
       "    core type: Lambda\n",
       "    parameter: 32\n",
       "    body: 13\n",
       "11. (gamma * i) * (x otimes y)\n",
       "    core type: Operation\n",
       "    operator: 27\n",
       "    operands: 14\n",
       "12. (i)\n",
       "    core type: ExprTuple\n",
       "    sub-expressions: 32\n",
       "13. {(gamma * i) * y if i in {2 .. 4}.\n",
       "    core type: Conditional\n",
       "    value: 15\n",
       "    condition: 16\n",
       "14. (gamma * i, x otimes y)\n",
       "    core type: ExprTuple\n",
       "    sub-expressions: 23, 17\n",
       "15. (gamma * i) * y\n",
       "    core type: Operation\n",
       "    operator: 27\n",
       "    operands: 18\n",
       "16. i in {2 .. 4}\n",
       "    core type: Operation\n",
       "    operator: 19\n",
       "    operands: 20\n",
       "17. x otimes y\n",
       "    core type: Operation\n",
       "    operator: 21\n",
       "    operands: 22\n",
       "18. (gamma * i, y)\n",
       "    core type: ExprTuple\n",
       "    sub-expressions: 23, 26\n",
       "19. in\n",
       "    core type: Literal\n",
       "    sub-expressions: \n",
       "20. (i, {2 .. 4})\n",
       "    core type: ExprTuple\n",
       "    sub-expressions: 32, 24\n",
       "21. otimes\n",
       "    core type: Literal\n",
       "    sub-expressions: \n",
       "22. (x, y)\n",
       "    core type: ExprTuple\n",
       "    sub-expressions: 25, 26\n",
       "23. gamma * i\n",
       "    core type: Operation\n",
       "    operator: 27\n",
       "    operands: 28\n",
       "24. {2 .. 4}\n",
       "    core type: Operation\n",
       "    operator: 29\n",
       "    operands: 30\n",
       "25. x\n",
       "    core type: Variable\n",
       "    sub-expressions: \n",
       "26. y\n",
       "    core type: Variable\n",
       "    sub-expressions: \n",
       "27. *\n",
       "    core type: Literal\n",
       "    sub-expressions: \n",
       "28. (gamma, i)\n",
       "    core type: ExprTuple\n",
       "    sub-expressions: 31, 32\n",
       "29. Interval\n",
       "    core type: Literal\n",
       "    sub-expressions: \n",
       "30. (2, 4)\n",
       "    core type: ExprTuple\n",
       "    sub-expressions: 33, 34\n",
       "31. gamma\n",
       "    core type: Variable\n",
       "    sub-expressions: \n",
       "32. i\n",
       "    core type: Variable\n",
       "    sub-expressions: \n",
       "33. 2\n",
       "    core type: Literal\n",
       "    sub-expressions: \n",
       "34. 4\n",
       "    core type: Literal\n",
       "    sub-expressions: "
      ]
     },
     "metadata": {},
     "output_type": "display_data"
    }
   ],
   "source": [
    "# display the expression information\n",
    "stored_expr.expr_info()"
   ]
  },
  {
   "cell_type": "code",
   "execution_count": null,
   "metadata": {},
   "outputs": [],
   "source": []
  }
 ],
 "metadata": {
  "kernelspec": {
   "display_name": "Python 3",
   "language": "python",
   "name": "python3"
  }
 },
 "nbformat": 4,
 "nbformat_minor": 0
}