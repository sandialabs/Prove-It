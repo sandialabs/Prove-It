{
 "cells": [
  {
   "cell_type": "markdown",
   "metadata": {},
   "source": [
    "Expression of type <a class=\"ProveItLink\" href=\"../../../../../../../doc/html/api/proveit.logic.Implies.html\">Implies</a>\n",
    "=======================\n",
    "# from the theory of <a class=\"ProveItLink\" href=\"../../../_theory_nbs_/theory.ipynb\">proveit.linear_algebra.tensors</a>"
   ]
  },
  {
   "cell_type": "code",
   "execution_count": 1,
   "metadata": {},
   "outputs": [],
   "source": [
    "import proveit\n",
    "# Automation is not needed when building an expression:\n",
    "proveit.defaults.automation = False # This will speed things up.\n",
    "proveit.defaults.inline_pngs = False # Makes files smaller.\n",
    "%load_expr # Load the stored expression as 'stored_expr'\n",
    "# import Expression classes needed to build the expression\n",
    "from proveit import beta, fi, gamma, i\n",
    "from proveit.linear_algebra import ScalarMult, VecSum\n",
    "from proveit.logic import CartExp, Equals, Implies, InSet\n",
    "from proveit.numbers import Interval, Mult, Real, four, three, two"
   ]
  },
  {
   "cell_type": "code",
   "execution_count": 2,
   "metadata": {},
   "outputs": [
    {
     "data": {
      "text/html": [
       "<strong id=\"expr\">expr:</strong> <a class=\"ProveItLink\" href=\"expr.ipynb\"><img src=\"expr.png\" style=\"display:inline;vertical-align:middle;\" /></a><br>"
      ],
      "text/plain": [
       "<IPython.core.display.HTML object>"
      ]
     },
     "metadata": {},
     "output_type": "display_data"
    }
   ],
   "source": [
    "# build up the expression from sub-expressions\n",
    "sub_expr1 = [i]\n",
    "sub_expr2 = Interval(two, four)\n",
    "sub_expr3 = Mult(gamma, beta)\n",
    "sub_expr4 = VecSum(index_or_indices = sub_expr1, summand = fi, domain = sub_expr2)\n",
    "expr = Implies(InSet(sub_expr4, CartExp(Real, three)), Equals(ScalarMult(sub_expr3, sub_expr4), VecSum(index_or_indices = sub_expr1, summand = ScalarMult(sub_expr3, fi), domain = sub_expr2)).with_wrapping_at(1)).with_wrapping_at(2)"
   ]
  },
  {
   "cell_type": "code",
   "execution_count": 3,
   "metadata": {},
   "outputs": [
    {
     "name": "stdout",
     "output_type": "stream",
     "text": [
      "Passed sanity check: expr matches stored_expr\n"
     ]
    }
   ],
   "source": [
    "# check that the built expression is the same as the stored expression\n",
    "assert expr == stored_expr\n",
    "assert expr._style_id == stored_expr._style_id\n",
    "print(\"Passed sanity check: expr matches stored_expr\")"
   ]
  },
  {
   "cell_type": "code",
   "execution_count": 4,
   "metadata": {},
   "outputs": [
    {
     "name": "stdout",
     "output_type": "stream",
     "text": [
      "\\begin{array}{c} \\begin{array}{l} \\left(\\left(\\sum_{i=2}^{4} f\\left(i\\right)\\right) \\in \\mathbb{R}^{3}\\right) \\Rightarrow  \\\\ \\left(\\begin{array}{c} \\begin{array}{l} \\left(\\left(\\gamma \\cdot \\beta\\right) \\cdot \\left(\\sum_{i=2}^{4} f\\left(i\\right)\\right)\\right) \\\\  = \\left(\\sum_{i=2}^{4} \\left(\\left(\\gamma \\cdot \\beta\\right) \\cdot f\\left(i\\right)\\right)\\right) \\end{array} \\end{array}\\right) \\end{array} \\end{array}\n"
     ]
    }
   ],
   "source": [
    "# Show the LaTeX representation of the expression for convenience if you need it.\n",
    "print(stored_expr.latex())"
   ]
  },
  {
   "cell_type": "code",
   "execution_count": 5,
   "metadata": {},
   "outputs": [
    {
     "data": {
      "text/html": [
       "<table>\n",
       "<tr><th>name</th><th>description</th><th>default</th><th>current value</th><th>related methods</th></tr><tr><td>operation</td><td>'infix' or 'function' style formatting</td><td>infix</td><td>infix</td><td></td></tr>\n",
       "<tr><td>wrap_positions</td><td>position(s) at which wrapping is to occur; '2 n - 1' is after the nth operand, '2 n' is after the nth operation.</td><td>()</td><td>(2)</td><td>('with_wrapping_at', 'with_wrap_before_operator', 'with_wrap_after_operator', 'without_wrapping', 'wrap_positions')</td></tr>\n",
       "<tr><td>justification</td><td>if any wrap positions are set, justify to the 'left', 'center', or 'right'</td><td>center</td><td>center</td><td>('with_justification',)</td></tr>\n",
       "<tr><td>direction</td><td>Direction of the relation (normal or reversed)</td><td>normal</td><td>normal</td><td>('with_direction_reversed', 'is_reversed')</td></tr>\n",
       "</table>\n"
      ],
      "text/plain": [
       "style name: operation\n",
       "description: 'infix' or 'function' style formatting\n",
       "default: infix\n",
       "current value: infix\n",
       "related methods: ()\n",
       "style name: wrap_positions\n",
       "description: position(s) at which wrapping is to occur; '2 n - 1' is after the nth operand, '2 n' is after the nth operation.\n",
       "default: ()\n",
       "current value: (2)\n",
       "related methods: ('with_wrapping_at', 'with_wrap_before_operator', 'with_wrap_after_operator', 'without_wrapping', 'wrap_positions')\n",
       "style name: justification\n",
       "description: if any wrap positions are set, justify to the 'left', 'center', or 'right'\n",
       "default: center\n",
       "current value: center\n",
       "related methods: ('with_justification',)\n",
       "style name: direction\n",
       "description: Direction of the relation (normal or reversed)\n",
       "default: normal\n",
       "current value: normal\n",
       "related methods: ('with_direction_reversed', 'is_reversed')"
      ]
     },
     "metadata": {},
     "output_type": "display_data"
    }
   ],
   "source": [
    "stored_expr.style_options()"
   ]
  },
  {
   "cell_type": "code",
   "execution_count": 6,
   "metadata": {},
   "outputs": [
    {
     "data": {
      "text/html": [
       "<table><tr><th>&nbsp;</th><th>core type</th><th>sub-expressions</th><th>expression</th></tr>\n",
       "<tr><td>0</td><td>Operation</td><td>operator:&nbsp;1<br>operands:&nbsp;2<br></td><td><a class=\"ProveItLink\" href=\"expr.ipynb\"><img src=\"expr.png\" style=\"display:inline;vertical-align:middle;\" /></a></td></tr>\n",
       "<tr><td>1</td><td>Literal</td><td></td><td><a class=\"ProveItLink\" href=\"../../../../../logic/booleans/implication/__pv_it/common/02bdb382575728da8cdbaed545b9096ea7a1bd5b0/expr.ipynb\"><img src=\"../../../../../logic/booleans/implication/__pv_it/common/02bdb382575728da8cdbaed545b9096ea7a1bd5b0/expr.png\" style=\"display:inline;vertical-align:middle;\" /></a></td></tr>\n",
       "<tr><td>2</td><td>ExprTuple</td><td>3, 4</td><td><a class=\"ProveItLink\" href=\"../cfaaff92ddd228abd6ac5ca9ba05d81c222026f70/expr.ipynb\"><img src=\"../cfaaff92ddd228abd6ac5ca9ba05d81c222026f70/expr.png\" style=\"display:inline;vertical-align:middle;\" /></a></td></tr>\n",
       "<tr><td>3</td><td>Operation</td><td>operator:&nbsp;30<br>operands:&nbsp;5<br></td><td><a class=\"ProveItLink\" href=\"../e4dc3fa527e6d9a47f28c68235152d16a9c7da0b0/expr.ipynb\"><img src=\"../e4dc3fa527e6d9a47f28c68235152d16a9c7da0b0/expr.png\" style=\"display:inline;vertical-align:middle;\" /></a></td></tr>\n",
       "<tr><td>4</td><td>Operation</td><td>operator:&nbsp;6<br>operands:&nbsp;7<br></td><td><a class=\"ProveItLink\" href=\"../39ba41f7ff328e16f564c5a805f16898f123b4c30/expr.ipynb\"><img src=\"../39ba41f7ff328e16f564c5a805f16898f123b4c30/expr.png\" style=\"display:inline;vertical-align:middle;\" /></a></td></tr>\n",
       "<tr><td>5</td><td>ExprTuple</td><td>17, 8</td><td><a class=\"ProveItLink\" href=\"../40375b581078719dd18712c074148fcea4937ddd0/expr.ipynb\"><img src=\"../40375b581078719dd18712c074148fcea4937ddd0/expr.png\" style=\"display:inline;vertical-align:middle;\" /></a></td></tr>\n",
       "<tr><td>6</td><td>Literal</td><td></td><td><a class=\"ProveItLink\" href=\"../../../../../logic/equality/__pv_it/common/fb96dc12b2aa8801dda64d0132b396c63d1502bb0/expr.ipynb\"><img src=\"../../../../../logic/equality/__pv_it/common/fb96dc12b2aa8801dda64d0132b396c63d1502bb0/expr.png\" style=\"display:inline;vertical-align:middle;\" /></a></td></tr>\n",
       "<tr><td>7</td><td>ExprTuple</td><td>9, 10</td><td><a class=\"ProveItLink\" href=\"../af9333929abede569b31952b21e481295a41aa810/expr.ipynb\"><img src=\"../af9333929abede569b31952b21e481295a41aa810/expr.png\" style=\"display:inline;vertical-align:middle;\" /></a></td></tr>\n",
       "<tr><td>8</td><td>Operation</td><td>operator:&nbsp;11<br>operands:&nbsp;12<br></td><td><a class=\"ProveItLink\" href=\"../b09d232dc6c8bd1b305d141dd063505555f74fe50/expr.ipynb\"><img src=\"../b09d232dc6c8bd1b305d141dd063505555f74fe50/expr.png\" style=\"display:inline;vertical-align:middle;\" /></a></td></tr>\n",
       "<tr><td>9</td><td>Operation</td><td>operator:&nbsp;25<br>operands:&nbsp;13<br></td><td><a class=\"ProveItLink\" href=\"../2d2b9fe63d74846b300d545f68437eb95630dab50/expr.ipynb\"><img src=\"../2d2b9fe63d74846b300d545f68437eb95630dab50/expr.png\" style=\"display:inline;vertical-align:middle;\" /></a></td></tr>\n",
       "<tr><td>10</td><td>Operation</td><td>operator:&nbsp;19<br>operand:&nbsp;18<br></td><td><a class=\"ProveItLink\" href=\"../b89f59bdb7746680efc8d7752d259b7611113b6c0/expr.ipynb\"><img src=\"../b89f59bdb7746680efc8d7752d259b7611113b6c0/expr.png\" style=\"display:inline;vertical-align:middle;\" /></a></td></tr>\n",
       "<tr><td>11</td><td>Literal</td><td></td><td><a class=\"ProveItLink\" href=\"../../../../../logic/sets/cartesian_products/__pv_it/common/7d20d67ddfbd94ad12efc9670c0d16a295b8ec1a0/expr.ipynb\"><img src=\"../../../../../logic/sets/cartesian_products/__pv_it/common/7d20d67ddfbd94ad12efc9670c0d16a295b8ec1a0/expr.png\" style=\"display:inline;vertical-align:middle;\" /></a></td></tr>\n",
       "<tr><td>12</td><td>ExprTuple</td><td>15, 16</td><td><a class=\"ProveItLink\" href=\"../7153ff9c6d56816696f64f5d4ee2610a6f3959e70/expr.ipynb\"><img src=\"../7153ff9c6d56816696f64f5d4ee2610a6f3959e70/expr.png\" style=\"display:inline;vertical-align:middle;\" /></a></td></tr>\n",
       "<tr><td>13</td><td>ExprTuple</td><td>28, 17</td><td><a class=\"ProveItLink\" href=\"../9bb7548c463e5c7726d081e67830a1ba40230c460/expr.ipynb\"><img src=\"../9bb7548c463e5c7726d081e67830a1ba40230c460/expr.png\" style=\"display:inline;vertical-align:middle;\" /></a></td></tr>\n",
       "<tr><td>14</td><td>ExprTuple</td><td>18</td><td><a class=\"ProveItLink\" href=\"../ee3a29fcf44edfc3e7525359fdd17e450010272a0/expr.ipynb\"><img src=\"../ee3a29fcf44edfc3e7525359fdd17e450010272a0/expr.png\" style=\"display:inline;vertical-align:middle;\" /></a></td></tr>\n",
       "<tr><td>15</td><td>Literal</td><td></td><td><a class=\"ProveItLink\" href=\"../../../../../numbers/number_sets/real_numbers/__pv_it/common/93cac87a1a47e613f7a83b23ef7891599a1a4cca0/expr.ipynb\"><img src=\"../../../../../numbers/number_sets/real_numbers/__pv_it/common/93cac87a1a47e613f7a83b23ef7891599a1a4cca0/expr.png\" style=\"display:inline;vertical-align:middle;\" /></a></td></tr>\n",
       "<tr><td>16</td><td>Literal</td><td></td><td><a class=\"ProveItLink\" href=\"../../../../../numbers/numerals/__pv_it/common/1943b60945420e340d305780feff5c1aff2740ff0/expr.ipynb\"><img src=\"../../../../../numbers/numerals/__pv_it/common/1943b60945420e340d305780feff5c1aff2740ff0/expr.png\" style=\"display:inline;vertical-align:middle;\" /></a></td></tr>\n",
       "<tr><td>17</td><td>Operation</td><td>operator:&nbsp;19<br>operand:&nbsp;22<br></td><td><a class=\"ProveItLink\" href=\"../27415d1da95ee3c71e2a723015e95c013a1342680/expr.ipynb\"><img src=\"../27415d1da95ee3c71e2a723015e95c013a1342680/expr.png\" style=\"display:inline;vertical-align:middle;\" /></a></td></tr>\n",
       "<tr><td>18</td><td>Lambda</td><td>parameter:&nbsp;39<br>body:&nbsp;21<br></td><td><a class=\"ProveItLink\" href=\"../ccd3bc1280df87f1409e6ced2e1e47285ac1989e0/expr.ipynb\"><img src=\"../ccd3bc1280df87f1409e6ced2e1e47285ac1989e0/expr.png\" style=\"display:inline;vertical-align:middle;\" /></a></td></tr>\n",
       "<tr><td>19</td><td>Literal</td><td></td><td><a class=\"ProveItLink\" href=\"../../../../addition/__pv_it/common/62f73c830c62efb87627ede5678f282081cd0ce20/expr.ipynb\"><img src=\"../../../../addition/__pv_it/common/62f73c830c62efb87627ede5678f282081cd0ce20/expr.png\" style=\"display:inline;vertical-align:middle;\" /></a></td></tr>\n",
       "<tr><td>20</td><td>ExprTuple</td><td>22</td><td><a class=\"ProveItLink\" href=\"../3411a0c1102598d50489ce3cc1317db80b429f720/expr.ipynb\"><img src=\"../3411a0c1102598d50489ce3cc1317db80b429f720/expr.png\" style=\"display:inline;vertical-align:middle;\" /></a></td></tr>\n",
       "<tr><td>21</td><td>Conditional</td><td>value:&nbsp;23<br>condition:&nbsp;27<br></td><td><a class=\"ProveItLink\" href=\"../9d1c06a9122b7f0fd0ac0f82f815cbc6ef5556590/expr.ipynb\"><img src=\"../9d1c06a9122b7f0fd0ac0f82f815cbc6ef5556590/expr.png\" style=\"display:inline;vertical-align:middle;\" /></a></td></tr>\n",
       "<tr><td>22</td><td>Lambda</td><td>parameter:&nbsp;39<br>body:&nbsp;24<br></td><td><a class=\"ProveItLink\" href=\"../190fed4c3cce07edbe6f3abae266ff8e33d878520/expr.ipynb\"><img src=\"../190fed4c3cce07edbe6f3abae266ff8e33d878520/expr.png\" style=\"display:inline;vertical-align:middle;\" /></a></td></tr>\n",
       "<tr><td>23</td><td>Operation</td><td>operator:&nbsp;25<br>operands:&nbsp;26<br></td><td><a class=\"ProveItLink\" href=\"../d77990c4638ab258bc1b8098ae7e658ef2aa758c0/expr.ipynb\"><img src=\"../d77990c4638ab258bc1b8098ae7e658ef2aa758c0/expr.png\" style=\"display:inline;vertical-align:middle;\" /></a></td></tr>\n",
       "<tr><td>24</td><td>Conditional</td><td>value:&nbsp;29<br>condition:&nbsp;27<br></td><td><a class=\"ProveItLink\" href=\"../33991e37ea8eaf2920a80249c832a22ba875c6f60/expr.ipynb\"><img src=\"../33991e37ea8eaf2920a80249c832a22ba875c6f60/expr.png\" style=\"display:inline;vertical-align:middle;\" /></a></td></tr>\n",
       "<tr><td>25</td><td>Literal</td><td></td><td><a class=\"ProveItLink\" href=\"../../../../scalar_multiplication/__pv_it/common/1e364bd471e6a29fcd358dd2d9cd990a1e6fedd40/expr.ipynb\"><img src=\"../../../../scalar_multiplication/__pv_it/common/1e364bd471e6a29fcd358dd2d9cd990a1e6fedd40/expr.png\" style=\"display:inline;vertical-align:middle;\" /></a></td></tr>\n",
       "<tr><td>26</td><td>ExprTuple</td><td>28, 29</td><td><a class=\"ProveItLink\" href=\"../012fb071cf4d4e0d142511efc4fca9491f5a8a280/expr.ipynb\"><img src=\"../012fb071cf4d4e0d142511efc4fca9491f5a8a280/expr.png\" style=\"display:inline;vertical-align:middle;\" /></a></td></tr>\n",
       "<tr><td>27</td><td>Operation</td><td>operator:&nbsp;30<br>operands:&nbsp;31<br></td><td><a class=\"ProveItLink\" href=\"../1dcee5d42a9a39499a39768abf9beb5a120321210/expr.ipynb\"><img src=\"../1dcee5d42a9a39499a39768abf9beb5a120321210/expr.png\" style=\"display:inline;vertical-align:middle;\" /></a></td></tr>\n",
       "<tr><td>28</td><td>Operation</td><td>operator:&nbsp;32<br>operands:&nbsp;33<br></td><td><a class=\"ProveItLink\" href=\"../38de7ae9e11d86a04ac35dfe9e57401f111c0ee30/expr.ipynb\"><img src=\"../38de7ae9e11d86a04ac35dfe9e57401f111c0ee30/expr.png\" style=\"display:inline;vertical-align:middle;\" /></a></td></tr>\n",
       "<tr><td>29</td><td>Operation</td><td>operator:&nbsp;34<br>operand:&nbsp;39<br></td><td><a class=\"ProveItLink\" href=\"../../../../../__pv_it/common/68d279ba17eb875d9f466a293b0b7fcc3ad8621e0/expr.ipynb\"><img src=\"../../../../../__pv_it/common/68d279ba17eb875d9f466a293b0b7fcc3ad8621e0/expr.png\" style=\"display:inline;vertical-align:middle;\" /></a></td></tr>\n",
       "<tr><td>30</td><td>Literal</td><td></td><td><a class=\"ProveItLink\" href=\"../../../../../logic/sets/membership/__pv_it/common/477487d8796864d23d5810f83761435f25167f690/expr.ipynb\"><img src=\"../../../../../logic/sets/membership/__pv_it/common/477487d8796864d23d5810f83761435f25167f690/expr.png\" style=\"display:inline;vertical-align:middle;\" /></a></td></tr>\n",
       "<tr><td>31</td><td>ExprTuple</td><td>39, 36</td><td><a class=\"ProveItLink\" href=\"../28d2afb06ec85f8673a332040f8f84c54020e9590/expr.ipynb\"><img src=\"../28d2afb06ec85f8673a332040f8f84c54020e9590/expr.png\" style=\"display:inline;vertical-align:middle;\" /></a></td></tr>\n",
       "<tr><td>32</td><td>Literal</td><td></td><td><a class=\"ProveItLink\" href=\"../../../../../numbers/multiplication/__pv_it/common/ed719cef37831779c16481533a4d380a2f95ab270/expr.ipynb\"><img src=\"../../../../../numbers/multiplication/__pv_it/common/ed719cef37831779c16481533a4d380a2f95ab270/expr.png\" style=\"display:inline;vertical-align:middle;\" /></a></td></tr>\n",
       "<tr><td>33</td><td>ExprTuple</td><td>37, 38</td><td><a class=\"ProveItLink\" href=\"../ab41256eeaff63278cf61798d37e7b2a94deb9580/expr.ipynb\"><img src=\"../ab41256eeaff63278cf61798d37e7b2a94deb9580/expr.png\" style=\"display:inline;vertical-align:middle;\" /></a></td></tr>\n",
       "<tr><td>34</td><td>Variable</td><td></td><td><a class=\"ProveItLink\" href=\"../../../../../__pv_it/common/01b6dbb444a31fc38af4c2379badef6c75b363710/expr.ipynb\"><img src=\"../../../../../__pv_it/common/01b6dbb444a31fc38af4c2379badef6c75b363710/expr.png\" style=\"display:inline;vertical-align:middle;\" /></a></td></tr>\n",
       "<tr><td>35</td><td>ExprTuple</td><td>39</td><td><a class=\"ProveItLink\" href=\"../../../../../__pv_it/common/3b7d7ace2ced0a8261ea4d18d03aaf49e434d69d0/expr.ipynb\"><img src=\"../../../../../__pv_it/common/3b7d7ace2ced0a8261ea4d18d03aaf49e434d69d0/expr.png\" style=\"display:inline;vertical-align:middle;\" /></a></td></tr>\n",
       "<tr><td>36</td><td>Operation</td><td>operator:&nbsp;40<br>operands:&nbsp;41<br></td><td><a class=\"ProveItLink\" href=\"../d52b7b54dc47ec2badf6859f9847ff1f1b35483a0/expr.ipynb\"><img src=\"../d52b7b54dc47ec2badf6859f9847ff1f1b35483a0/expr.png\" style=\"display:inline;vertical-align:middle;\" /></a></td></tr>\n",
       "<tr><td>37</td><td>Variable</td><td></td><td><a class=\"ProveItLink\" href=\"../../../../../__pv_it/common/d3b5a05ce48f7e4b8f946549743adda31d51d0e80/expr.ipynb\"><img src=\"../../../../../__pv_it/common/d3b5a05ce48f7e4b8f946549743adda31d51d0e80/expr.png\" style=\"display:inline;vertical-align:middle;\" /></a></td></tr>\n",
       "<tr><td>38</td><td>Variable</td><td></td><td><a class=\"ProveItLink\" href=\"../../../../../__pv_it/common/c713a5db2586f854a5051c95110df24af02bd7260/expr.ipynb\"><img src=\"../../../../../__pv_it/common/c713a5db2586f854a5051c95110df24af02bd7260/expr.png\" style=\"display:inline;vertical-align:middle;\" /></a></td></tr>\n",
       "<tr><td>39</td><td>Variable</td><td></td><td><a class=\"ProveItLink\" href=\"../../../../../__pv_it/common/ae955345c83abf786c3aff8681cd5465beae262d0/expr.ipynb\"><img src=\"../../../../../__pv_it/common/ae955345c83abf786c3aff8681cd5465beae262d0/expr.png\" style=\"display:inline;vertical-align:middle;\" /></a></td></tr>\n",
       "<tr><td>40</td><td>Literal</td><td></td><td><a class=\"ProveItLink\" href=\"../../../../../numbers/number_sets/integers/__pv_it/common/92f3a0a77e3c3ea8e4a5c8674edadc54e4f57d550/expr.ipynb\"><img src=\"../../../../../numbers/number_sets/integers/__pv_it/common/92f3a0a77e3c3ea8e4a5c8674edadc54e4f57d550/expr.png\" style=\"display:inline;vertical-align:middle;\" /></a></td></tr>\n",
       "<tr><td>41</td><td>ExprTuple</td><td>42, 43</td><td><a class=\"ProveItLink\" href=\"../4dcdc5026f80b9604cf319714818529aceda286b0/expr.ipynb\"><img src=\"../4dcdc5026f80b9604cf319714818529aceda286b0/expr.png\" style=\"display:inline;vertical-align:middle;\" /></a></td></tr>\n",
       "<tr><td>42</td><td>Literal</td><td></td><td><a class=\"ProveItLink\" href=\"../../../../../numbers/numerals/__pv_it/common/af4aab8a07465db063742696e006d04670f30cf10/expr.ipynb\"><img src=\"../../../../../numbers/numerals/__pv_it/common/af4aab8a07465db063742696e006d04670f30cf10/expr.png\" style=\"display:inline;vertical-align:middle;\" /></a></td></tr>\n",
       "<tr><td>43</td><td>Literal</td><td></td><td><a class=\"ProveItLink\" href=\"../../../../../numbers/numerals/__pv_it/common/48a1d915c1e9490b9a94e5c77a208938d3ee20ce0/expr.ipynb\"><img src=\"../../../../../numbers/numerals/__pv_it/common/48a1d915c1e9490b9a94e5c77a208938d3ee20ce0/expr.png\" style=\"display:inline;vertical-align:middle;\" /></a></td></tr>\n",
       "</table>\n"
      ],
      "text/plain": [
       "0. ((Sum_{i=2}^{4} f(i)) in Real^{3}) =>  \\\\ (((gamma * beta) * (Sum_{i=2}^{4} f(i))) \\\\  = (Sum_{i=2}^{4} ((gamma * beta) * f(i))))\n",
       "   core type: Operation\n",
       "   operator: 1\n",
       "   operands: 2\n",
       "1. =>\n",
       "   core type: Literal\n",
       "   sub-expressions: \n",
       "2. ((Sum_{i=2}^{4} f(i)) in Real^{3}, ((gamma * beta) * (Sum_{i=2}^{4} f(i))) \\\\  = (Sum_{i=2}^{4} ((gamma * beta) * f(i))))\n",
       "   core type: ExprTuple\n",
       "   sub-expressions: 3, 4\n",
       "3. (Sum_{i=2}^{4} f(i)) in Real^{3}\n",
       "   core type: Operation\n",
       "   operator: 30\n",
       "   operands: 5\n",
       "4. ((gamma * beta) * (Sum_{i=2}^{4} f(i))) \\\\  = (Sum_{i=2}^{4} ((gamma * beta) * f(i)))\n",
       "   core type: Operation\n",
       "   operator: 6\n",
       "   operands: 7\n",
       "5. (Sum_{i=2}^{4} f(i), Real^{3})\n",
       "   core type: ExprTuple\n",
       "   sub-expressions: 17, 8\n",
       "6. =\n",
       "   core type: Literal\n",
       "   sub-expressions: \n",
       "7. ((gamma * beta) * (Sum_{i=2}^{4} f(i)), Sum_{i=2}^{4} ((gamma * beta) * f(i)))\n",
       "   core type: ExprTuple\n",
       "   sub-expressions: 9, 10\n",
       "8. Real^{3}\n",
       "   core type: Operation\n",
       "   operator: 11\n",
       "   operands: 12\n",
       "9. (gamma * beta) * (Sum_{i=2}^{4} f(i))\n",
       "   core type: Operation\n",
       "   operator: 25\n",
       "   operands: 13\n",
       "10. Sum_{i=2}^{4} ((gamma * beta) * f(i))\n",
       "    core type: Operation\n",
       "    operator: 19\n",
       "    operand: 18\n",
       "11. CartExp\n",
       "    core type: Literal\n",
       "    sub-expressions: \n",
       "12. (Real, 3)\n",
       "    core type: ExprTuple\n",
       "    sub-expressions: 15, 16\n",
       "13. (gamma * beta, Sum_{i=2}^{4} f(i))\n",
       "    core type: ExprTuple\n",
       "    sub-expressions: 28, 17\n",
       "14. (i -> {(gamma * beta) * f(i) if i in {2 .. 4}.)\n",
       "    core type: ExprTuple\n",
       "    sub-expressions: 18\n",
       "15. Real\n",
       "    core type: Literal\n",
       "    sub-expressions: \n",
       "16. 3\n",
       "    core type: Literal\n",
       "    sub-expressions: \n",
       "17. Sum_{i=2}^{4} f(i)\n",
       "    core type: Operation\n",
       "    operator: 19\n",
       "    operand: 22\n",
       "18. i -> {(gamma * beta) * f(i) if i in {2 .. 4}.\n",
       "    core type: Lambda\n",
       "    parameter: 39\n",
       "    body: 21\n",
       "19. Sum\n",
       "    core type: Literal\n",
       "    sub-expressions: \n",
       "20. (i -> {f(i) if i in {2 .. 4}.)\n",
       "    core type: ExprTuple\n",
       "    sub-expressions: 22\n",
       "21. {(gamma * beta) * f(i) if i in {2 .. 4}.\n",
       "    core type: Conditional\n",
       "    value: 23\n",
       "    condition: 27\n",
       "22. i -> {f(i) if i in {2 .. 4}.\n",
       "    core type: Lambda\n",
       "    parameter: 39\n",
       "    body: 24\n",
       "23. (gamma * beta) * f(i)\n",
       "    core type: Operation\n",
       "    operator: 25\n",
       "    operands: 26\n",
       "24. {f(i) if i in {2 .. 4}.\n",
       "    core type: Conditional\n",
       "    value: 29\n",
       "    condition: 27\n",
       "25. *\n",
       "    core type: Literal\n",
       "    sub-expressions: \n",
       "26. (gamma * beta, f(i))\n",
       "    core type: ExprTuple\n",
       "    sub-expressions: 28, 29\n",
       "27. i in {2 .. 4}\n",
       "    core type: Operation\n",
       "    operator: 30\n",
       "    operands: 31\n",
       "28. gamma * beta\n",
       "    core type: Operation\n",
       "    operator: 32\n",
       "    operands: 33\n",
       "29. f(i)\n",
       "    core type: Operation\n",
       "    operator: 34\n",
       "    operand: 39\n",
       "30. in\n",
       "    core type: Literal\n",
       "    sub-expressions: \n",
       "31. (i, {2 .. 4})\n",
       "    core type: ExprTuple\n",
       "    sub-expressions: 39, 36\n",
       "32. *\n",
       "    core type: Literal\n",
       "    sub-expressions: \n",
       "33. (gamma, beta)\n",
       "    core type: ExprTuple\n",
       "    sub-expressions: 37, 38\n",
       "34. f\n",
       "    core type: Variable\n",
       "    sub-expressions: \n",
       "35. (i)\n",
       "    core type: ExprTuple\n",
       "    sub-expressions: 39\n",
       "36. {2 .. 4}\n",
       "    core type: Operation\n",
       "    operator: 40\n",
       "    operands: 41\n",
       "37. gamma\n",
       "    core type: Variable\n",
       "    sub-expressions: \n",
       "38. beta\n",
       "    core type: Variable\n",
       "    sub-expressions: \n",
       "39. i\n",
       "    core type: Variable\n",
       "    sub-expressions: \n",
       "40. Interval\n",
       "    core type: Literal\n",
       "    sub-expressions: \n",
       "41. (2, 4)\n",
       "    core type: ExprTuple\n",
       "    sub-expressions: 42, 43\n",
       "42. 2\n",
       "    core type: Literal\n",
       "    sub-expressions: \n",
       "43. 4\n",
       "    core type: Literal\n",
       "    sub-expressions: "
      ]
     },
     "metadata": {},
     "output_type": "display_data"
    }
   ],
   "source": [
    "# display the expression information\n",
    "stored_expr.expr_info()"
   ]
  },
  {
   "cell_type": "code",
   "execution_count": null,
   "metadata": {},
   "outputs": [],
   "source": []
  }
 ],
 "metadata": {
  "kernelspec": {
   "display_name": "Python 3",
   "language": "python",
   "name": "python3"
  }
 },
 "nbformat": 4,
 "nbformat_minor": 0
}