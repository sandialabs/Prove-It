{
 "cells": [
  {
   "cell_type": "markdown",
   "metadata": {},
   "source": [
    "Expression of type <a class=\"ProveItLink\" href=\"../../../../../../../doc/html/api/proveit.ExprTuple.html\">ExprTuple</a>\n",
    "=======================\n",
    "# from the theory of <a class=\"ProveItLink\" href=\"../../../_theory_nbs_/theory.ipynb\">proveit.linear_algebra.tensors</a>"
   ]
  },
  {
   "cell_type": "code",
   "execution_count": 1,
   "metadata": {},
   "outputs": [],
   "source": [
    "import proveit\n",
    "# Automation is not needed when building an expression:\n",
    "proveit.defaults.automation = False # This will speed things up.\n",
    "proveit.defaults.inline_pngs = False # Makes files smaller.\n",
    "%load_expr # Load the stored expression as 'stored_expr'\n",
    "# import Expression classes needed to build the expression\n",
    "from proveit import Conditional, ExprTuple, Lambda, i, y\n",
    "from proveit.logic import InSet\n",
    "from proveit.numbers import Interval, four, two"
   ]
  },
  {
   "cell_type": "code",
   "execution_count": 2,
   "metadata": {},
   "outputs": [
    {
     "data": {
      "text/html": [
       "<strong id=\"expr\">expr:</strong> <a class=\"ProveItLink\" href=\"expr.ipynb\"><img src=\"expr.png\" style=\"display:inline;vertical-align:middle;\" /></a><br>"
      ],
      "text/plain": [
       "<IPython.core.display.HTML object>"
      ]
     },
     "metadata": {},
     "output_type": "display_data"
    }
   ],
   "source": [
    "# build up the expression from sub-expressions\n",
    "expr = ExprTuple(Lambda(i, Conditional(y, InSet(i, Interval(two, four)))))"
   ]
  },
  {
   "cell_type": "code",
   "execution_count": 3,
   "metadata": {},
   "outputs": [
    {
     "name": "stdout",
     "output_type": "stream",
     "text": [
      "Passed sanity check: expr matches stored_expr\n"
     ]
    }
   ],
   "source": [
    "# check that the built expression is the same as the stored expression\n",
    "assert expr == stored_expr\n",
    "assert expr._style_id == stored_expr._style_id\n",
    "print(\"Passed sanity check: expr matches stored_expr\")"
   ]
  },
  {
   "cell_type": "code",
   "execution_count": 4,
   "metadata": {},
   "outputs": [
    {
     "name": "stdout",
     "output_type": "stream",
     "text": [
      "\\left(i \\mapsto \\left\\{y \\textrm{ if } i \\in \\{2~\\ldotp \\ldotp~4\\}\\right..\\right)\n"
     ]
    }
   ],
   "source": [
    "# Show the LaTeX representation of the expression for convenience if you need it.\n",
    "print(stored_expr.latex())"
   ]
  },
  {
   "cell_type": "code",
   "execution_count": 5,
   "metadata": {},
   "outputs": [
    {
     "data": {
      "text/html": [
       "no style options"
      ],
      "text/plain": [
       "no style options"
      ]
     },
     "metadata": {},
     "output_type": "display_data"
    }
   ],
   "source": [
    "stored_expr.style_options()"
   ]
  },
  {
   "cell_type": "code",
   "execution_count": 6,
   "metadata": {},
   "outputs": [
    {
     "data": {
      "text/html": [
       "<table><tr><th>&nbsp;</th><th>core type</th><th>sub-expressions</th><th>expression</th></tr>\n",
       "<tr><td>0</td><td>ExprTuple</td><td>1</td><td><a class=\"ProveItLink\" href=\"expr.ipynb\"><img src=\"expr.png\" style=\"display:inline;vertical-align:middle;\" /></a></td></tr>\n",
       "<tr><td>1</td><td>Lambda</td><td>parameter:&nbsp;8<br>body:&nbsp;3<br></td><td><a class=\"ProveItLink\" href=\"../bb33ac1c118c7409370ff6f2868a4c8b89659ffd0/expr.ipynb\"><img src=\"../bb33ac1c118c7409370ff6f2868a4c8b89659ffd0/expr.png\" style=\"display:inline;vertical-align:middle;\" /></a></td></tr>\n",
       "<tr><td>2</td><td>ExprTuple</td><td>8</td><td><a class=\"ProveItLink\" href=\"../../../../../__pv_it/common/3b7d7ace2ced0a8261ea4d18d03aaf49e434d69d0/expr.ipynb\"><img src=\"../../../../../__pv_it/common/3b7d7ace2ced0a8261ea4d18d03aaf49e434d69d0/expr.png\" style=\"display:inline;vertical-align:middle;\" /></a></td></tr>\n",
       "<tr><td>3</td><td>Conditional</td><td>value:&nbsp;4<br>condition:&nbsp;5<br></td><td><a class=\"ProveItLink\" href=\"../5f5799476a71c6b4ef40d20a26b68781a4ea46640/expr.ipynb\"><img src=\"../5f5799476a71c6b4ef40d20a26b68781a4ea46640/expr.png\" style=\"display:inline;vertical-align:middle;\" /></a></td></tr>\n",
       "<tr><td>4</td><td>Variable</td><td></td><td><a class=\"ProveItLink\" href=\"../../../../../__pv_it/common/ff7dba4ef0bbe791ab573bf2d9c220a304399ac80/expr.ipynb\"><img src=\"../../../../../__pv_it/common/ff7dba4ef0bbe791ab573bf2d9c220a304399ac80/expr.png\" style=\"display:inline;vertical-align:middle;\" /></a></td></tr>\n",
       "<tr><td>5</td><td>Operation</td><td>operator:&nbsp;6<br>operands:&nbsp;7<br></td><td><a class=\"ProveItLink\" href=\"../1dcee5d42a9a39499a39768abf9beb5a120321210/expr.ipynb\"><img src=\"../1dcee5d42a9a39499a39768abf9beb5a120321210/expr.png\" style=\"display:inline;vertical-align:middle;\" /></a></td></tr>\n",
       "<tr><td>6</td><td>Literal</td><td></td><td><a class=\"ProveItLink\" href=\"../../../../../logic/sets/membership/__pv_it/common/477487d8796864d23d5810f83761435f25167f690/expr.ipynb\"><img src=\"../../../../../logic/sets/membership/__pv_it/common/477487d8796864d23d5810f83761435f25167f690/expr.png\" style=\"display:inline;vertical-align:middle;\" /></a></td></tr>\n",
       "<tr><td>7</td><td>ExprTuple</td><td>8, 9</td><td><a class=\"ProveItLink\" href=\"../28d2afb06ec85f8673a332040f8f84c54020e9590/expr.ipynb\"><img src=\"../28d2afb06ec85f8673a332040f8f84c54020e9590/expr.png\" style=\"display:inline;vertical-align:middle;\" /></a></td></tr>\n",
       "<tr><td>8</td><td>Variable</td><td></td><td><a class=\"ProveItLink\" href=\"../../../../../__pv_it/common/ae955345c83abf786c3aff8681cd5465beae262d0/expr.ipynb\"><img src=\"../../../../../__pv_it/common/ae955345c83abf786c3aff8681cd5465beae262d0/expr.png\" style=\"display:inline;vertical-align:middle;\" /></a></td></tr>\n",
       "<tr><td>9</td><td>Operation</td><td>operator:&nbsp;10<br>operands:&nbsp;11<br></td><td><a class=\"ProveItLink\" href=\"../d52b7b54dc47ec2badf6859f9847ff1f1b35483a0/expr.ipynb\"><img src=\"../d52b7b54dc47ec2badf6859f9847ff1f1b35483a0/expr.png\" style=\"display:inline;vertical-align:middle;\" /></a></td></tr>\n",
       "<tr><td>10</td><td>Literal</td><td></td><td><a class=\"ProveItLink\" href=\"../../../../../numbers/number_sets/integers/__pv_it/common/92f3a0a77e3c3ea8e4a5c8674edadc54e4f57d550/expr.ipynb\"><img src=\"../../../../../numbers/number_sets/integers/__pv_it/common/92f3a0a77e3c3ea8e4a5c8674edadc54e4f57d550/expr.png\" style=\"display:inline;vertical-align:middle;\" /></a></td></tr>\n",
       "<tr><td>11</td><td>ExprTuple</td><td>12, 13</td><td><a class=\"ProveItLink\" href=\"../4dcdc5026f80b9604cf319714818529aceda286b0/expr.ipynb\"><img src=\"../4dcdc5026f80b9604cf319714818529aceda286b0/expr.png\" style=\"display:inline;vertical-align:middle;\" /></a></td></tr>\n",
       "<tr><td>12</td><td>Literal</td><td></td><td><a class=\"ProveItLink\" href=\"../../../../../numbers/numerals/__pv_it/common/af4aab8a07465db063742696e006d04670f30cf10/expr.ipynb\"><img src=\"../../../../../numbers/numerals/__pv_it/common/af4aab8a07465db063742696e006d04670f30cf10/expr.png\" style=\"display:inline;vertical-align:middle;\" /></a></td></tr>\n",
       "<tr><td>13</td><td>Literal</td><td></td><td><a class=\"ProveItLink\" href=\"../../../../../numbers/numerals/__pv_it/common/48a1d915c1e9490b9a94e5c77a208938d3ee20ce0/expr.ipynb\"><img src=\"../../../../../numbers/numerals/__pv_it/common/48a1d915c1e9490b9a94e5c77a208938d3ee20ce0/expr.png\" style=\"display:inline;vertical-align:middle;\" /></a></td></tr>\n",
       "</table>\n"
      ],
      "text/plain": [
       "0. (i -> {y if i in {2 .. 4}.)\n",
       "   core type: ExprTuple\n",
       "   sub-expressions: 1\n",
       "1. i -> {y if i in {2 .. 4}.\n",
       "   core type: Lambda\n",
       "   parameter: 8\n",
       "   body: 3\n",
       "2. (i)\n",
       "   core type: ExprTuple\n",
       "   sub-expressions: 8\n",
       "3. {y if i in {2 .. 4}.\n",
       "   core type: Conditional\n",
       "   value: 4\n",
       "   condition: 5\n",
       "4. y\n",
       "   core type: Variable\n",
       "   sub-expressions: \n",
       "5. i in {2 .. 4}\n",
       "   core type: Operation\n",
       "   operator: 6\n",
       "   operands: 7\n",
       "6. in\n",
       "   core type: Literal\n",
       "   sub-expressions: \n",
       "7. (i, {2 .. 4})\n",
       "   core type: ExprTuple\n",
       "   sub-expressions: 8, 9\n",
       "8. i\n",
       "   core type: Variable\n",
       "   sub-expressions: \n",
       "9. {2 .. 4}\n",
       "   core type: Operation\n",
       "   operator: 10\n",
       "   operands: 11\n",
       "10. Interval\n",
       "    core type: Literal\n",
       "    sub-expressions: \n",
       "11. (2, 4)\n",
       "    core type: ExprTuple\n",
       "    sub-expressions: 12, 13\n",
       "12. 2\n",
       "    core type: Literal\n",
       "    sub-expressions: \n",
       "13. 4\n",
       "    core type: Literal\n",
       "    sub-expressions: "
      ]
     },
     "metadata": {},
     "output_type": "display_data"
    }
   ],
   "source": [
    "# display the expression information\n",
    "stored_expr.expr_info()"
   ]
  },
  {
   "cell_type": "code",
   "execution_count": null,
   "metadata": {},
   "outputs": [],
   "source": []
  }
 ],
 "metadata": {
  "kernelspec": {
   "display_name": "Python 3",
   "language": "python",
   "name": "python3"
  }
 },
 "nbformat": 4,
 "nbformat_minor": 0
}