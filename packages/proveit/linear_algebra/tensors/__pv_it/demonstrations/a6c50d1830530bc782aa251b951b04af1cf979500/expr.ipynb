{
 "cells": [
  {
   "cell_type": "markdown",
   "metadata": {},
   "source": [
    "Expression of type <a class=\"ProveItLink\" href=\"../../../../../../../doc/html/api/proveit.ExprTuple.html\">ExprTuple</a>\n",
    "=======================\n",
    "# from the theory of <a class=\"ProveItLink\" href=\"../../../_theory_nbs_/theory.ipynb\">proveit.linear_algebra.tensors</a>"
   ]
  },
  {
   "cell_type": "code",
   "execution_count": 1,
   "metadata": {},
   "outputs": [],
   "source": [
    "import proveit\n",
    "# Automation is not needed when building an expression:\n",
    "proveit.defaults.automation = False # This will speed things up.\n",
    "proveit.defaults.inline_pngs = False # Makes files smaller.\n",
    "%load_expr # Load the stored expression as 'stored_expr'\n",
    "# import Expression classes needed to build the expression\n",
    "from proveit import ExprTuple, fi, gamma, i, x, y, z\n",
    "from proveit.linear_algebra import ScalarMult, TensorProd, VecSum\n",
    "from proveit.numbers import Interval, four, two"
   ]
  },
  {
   "cell_type": "code",
   "execution_count": 2,
   "metadata": {},
   "outputs": [
    {
     "data": {
      "text/html": [
       "<strong id=\"expr\">expr:</strong> <a class=\"ProveItLink\" href=\"expr.ipynb\"><img src=\"expr.png\" style=\"display:inline;vertical-align:middle;\" /></a><br>"
      ],
      "text/plain": [
       "<IPython.core.display.HTML object>"
      ]
     },
     "metadata": {},
     "output_type": "display_data"
    }
   ],
   "source": [
    "# build up the expression from sub-expressions\n",
    "sub_expr1 = [i]\n",
    "sub_expr2 = Interval(two, four)\n",
    "sub_expr3 = TensorProd(y, fi)\n",
    "expr = ExprTuple(TensorProd(x, VecSum(index_or_indices = sub_expr1, summand = ScalarMult(gamma, sub_expr3), domain = sub_expr2), z), VecSum(index_or_indices = sub_expr1, summand = ScalarMult(gamma, TensorProd(x, sub_expr3, z)), domain = sub_expr2))"
   ]
  },
  {
   "cell_type": "code",
   "execution_count": 3,
   "metadata": {},
   "outputs": [
    {
     "name": "stdout",
     "output_type": "stream",
     "text": [
      "Passed sanity check: expr matches stored_expr\n"
     ]
    }
   ],
   "source": [
    "# check that the built expression is the same as the stored expression\n",
    "assert expr == stored_expr\n",
    "assert expr._style_id == stored_expr._style_id\n",
    "print(\"Passed sanity check: expr matches stored_expr\")"
   ]
  },
  {
   "cell_type": "code",
   "execution_count": 4,
   "metadata": {},
   "outputs": [
    {
     "name": "stdout",
     "output_type": "stream",
     "text": [
      "\\left(x {\\otimes} \\left(\\sum_{i=2}^{4} \\left(\\gamma \\cdot \\left(y {\\otimes} f\\left(i\\right)\\right)\\right)\\right) {\\otimes} z, \\sum_{i=2}^{4} \\left(\\gamma \\cdot \\left(x {\\otimes} \\left(y {\\otimes} f\\left(i\\right)\\right) {\\otimes} z\\right)\\right)\\right)\n"
     ]
    }
   ],
   "source": [
    "# Show the LaTeX representation of the expression for convenience if you need it.\n",
    "print(stored_expr.latex())"
   ]
  },
  {
   "cell_type": "code",
   "execution_count": 5,
   "metadata": {},
   "outputs": [
    {
     "data": {
      "text/html": [
       "<table>\n",
       "<tr><th>name</th><th>description</th><th>default</th><th>current value</th><th>related methods</th></tr><tr><td>wrap_positions</td><td>position(s) at which wrapping is to occur; 'n' is after the nth comma.</td><td>()</td><td>()</td><td>('with_wrapping_at',)</td></tr>\n",
       "<tr><td>justification</td><td>if any wrap positions are set, justify to the 'left', 'center', or 'right'</td><td>left</td><td>left</td><td>('with_justification',)</td></tr>\n",
       "</table>\n"
      ],
      "text/plain": [
       "style name: wrap_positions\n",
       "description: position(s) at which wrapping is to occur; 'n' is after the nth comma.\n",
       "default: ()\n",
       "current value: ()\n",
       "related methods: ('with_wrapping_at',)\n",
       "style name: justification\n",
       "description: if any wrap positions are set, justify to the 'left', 'center', or 'right'\n",
       "default: left\n",
       "current value: left\n",
       "related methods: ('with_justification',)"
      ]
     },
     "metadata": {},
     "output_type": "display_data"
    }
   ],
   "source": [
    "stored_expr.style_options()"
   ]
  },
  {
   "cell_type": "code",
   "execution_count": 6,
   "metadata": {},
   "outputs": [
    {
     "data": {
      "text/html": [
       "<table><tr><th>&nbsp;</th><th>core type</th><th>sub-expressions</th><th>expression</th></tr>\n",
       "<tr><td>0</td><td>ExprTuple</td><td>1, 2</td><td><a class=\"ProveItLink\" href=\"expr.ipynb\"><img src=\"expr.png\" style=\"display:inline;vertical-align:middle;\" /></a></td></tr>\n",
       "<tr><td>1</td><td>Operation</td><td>operator:&nbsp;29<br>operands:&nbsp;3<br></td><td><a class=\"ProveItLink\" href=\"../3f2af584dbb135975f0219a9b322090f536abf9d0/expr.ipynb\"><img src=\"../3f2af584dbb135975f0219a9b322090f536abf9d0/expr.png\" style=\"display:inline;vertical-align:middle;\" /></a></td></tr>\n",
       "<tr><td>2</td><td>Operation</td><td>operator:&nbsp;7<br>operand:&nbsp;6<br></td><td><a class=\"ProveItLink\" href=\"../3bf2910c44ab19e227024a297ad01261d0bb312d0/expr.ipynb\"><img src=\"../3bf2910c44ab19e227024a297ad01261d0bb312d0/expr.png\" style=\"display:inline;vertical-align:middle;\" /></a></td></tr>\n",
       "<tr><td>3</td><td>ExprTuple</td><td>24, 5, 26</td><td><a class=\"ProveItLink\" href=\"../6d51d0e1c5b3e79fa5d9e58c6095204925fee44d0/expr.ipynb\"><img src=\"../6d51d0e1c5b3e79fa5d9e58c6095204925fee44d0/expr.png\" style=\"display:inline;vertical-align:middle;\" /></a></td></tr>\n",
       "<tr><td>4</td><td>ExprTuple</td><td>6</td><td><a class=\"ProveItLink\" href=\"../c4a785007a7f7c7c0b194fa8f6eedbfd32decc500/expr.ipynb\"><img src=\"../c4a785007a7f7c7c0b194fa8f6eedbfd32decc500/expr.png\" style=\"display:inline;vertical-align:middle;\" /></a></td></tr>\n",
       "<tr><td>5</td><td>Operation</td><td>operator:&nbsp;7<br>operand:&nbsp;10<br></td><td><a class=\"ProveItLink\" href=\"../a02971b83ee4579de0d723b3b873430e5a8be7340/expr.ipynb\"><img src=\"../a02971b83ee4579de0d723b3b873430e5a8be7340/expr.png\" style=\"display:inline;vertical-align:middle;\" /></a></td></tr>\n",
       "<tr><td>6</td><td>Lambda</td><td>parameter:&nbsp;37<br>body:&nbsp;9<br></td><td><a class=\"ProveItLink\" href=\"../597b7e9e9ae3da4d99e791a8465a115a1ec6324d0/expr.ipynb\"><img src=\"../597b7e9e9ae3da4d99e791a8465a115a1ec6324d0/expr.png\" style=\"display:inline;vertical-align:middle;\" /></a></td></tr>\n",
       "<tr><td>7</td><td>Literal</td><td></td><td><a class=\"ProveItLink\" href=\"../../../../addition/__pv_it/common/62f73c830c62efb87627ede5678f282081cd0ce20/expr.ipynb\"><img src=\"../../../../addition/__pv_it/common/62f73c830c62efb87627ede5678f282081cd0ce20/expr.png\" style=\"display:inline;vertical-align:middle;\" /></a></td></tr>\n",
       "<tr><td>8</td><td>ExprTuple</td><td>10</td><td><a class=\"ProveItLink\" href=\"../b5bfe32f207f0a54f9bb4020a0809dbf29c4ac450/expr.ipynb\"><img src=\"../b5bfe32f207f0a54f9bb4020a0809dbf29c4ac450/expr.png\" style=\"display:inline;vertical-align:middle;\" /></a></td></tr>\n",
       "<tr><td>9</td><td>Conditional</td><td>value:&nbsp;11<br>condition:&nbsp;15<br></td><td><a class=\"ProveItLink\" href=\"../53b1811eadfe1ead4ebebeed617c97a57050cf380/expr.ipynb\"><img src=\"../53b1811eadfe1ead4ebebeed617c97a57050cf380/expr.png\" style=\"display:inline;vertical-align:middle;\" /></a></td></tr>\n",
       "<tr><td>10</td><td>Lambda</td><td>parameter:&nbsp;37<br>body:&nbsp;12<br></td><td><a class=\"ProveItLink\" href=\"../0751eaf2ae074a20e93524d7bd5667e3c2d1c59d0/expr.ipynb\"><img src=\"../0751eaf2ae074a20e93524d7bd5667e3c2d1c59d0/expr.png\" style=\"display:inline;vertical-align:middle;\" /></a></td></tr>\n",
       "<tr><td>11</td><td>Operation</td><td>operator:&nbsp;17<br>operands:&nbsp;13<br></td><td><a class=\"ProveItLink\" href=\"../76037e0f2fba9c3600e3aa10f38bf1ac549ab96d0/expr.ipynb\"><img src=\"../76037e0f2fba9c3600e3aa10f38bf1ac549ab96d0/expr.png\" style=\"display:inline;vertical-align:middle;\" /></a></td></tr>\n",
       "<tr><td>12</td><td>Conditional</td><td>value:&nbsp;14<br>condition:&nbsp;15<br></td><td><a class=\"ProveItLink\" href=\"../429d15c8e2f89a36354ce9f5b9492d66074747a90/expr.ipynb\"><img src=\"../429d15c8e2f89a36354ce9f5b9492d66074747a90/expr.png\" style=\"display:inline;vertical-align:middle;\" /></a></td></tr>\n",
       "<tr><td>13</td><td>ExprTuple</td><td>22, 16</td><td><a class=\"ProveItLink\" href=\"../9668f12829bfa4683b8f15c6ae72c78ad0150fa80/expr.ipynb\"><img src=\"../9668f12829bfa4683b8f15c6ae72c78ad0150fa80/expr.png\" style=\"display:inline;vertical-align:middle;\" /></a></td></tr>\n",
       "<tr><td>14</td><td>Operation</td><td>operator:&nbsp;17<br>operands:&nbsp;18<br></td><td><a class=\"ProveItLink\" href=\"../00ba5fc6450aa74a4045418deac28e80fa131b110/expr.ipynb\"><img src=\"../00ba5fc6450aa74a4045418deac28e80fa131b110/expr.png\" style=\"display:inline;vertical-align:middle;\" /></a></td></tr>\n",
       "<tr><td>15</td><td>Operation</td><td>operator:&nbsp;19<br>operands:&nbsp;20<br></td><td><a class=\"ProveItLink\" href=\"../1dcee5d42a9a39499a39768abf9beb5a120321210/expr.ipynb\"><img src=\"../1dcee5d42a9a39499a39768abf9beb5a120321210/expr.png\" style=\"display:inline;vertical-align:middle;\" /></a></td></tr>\n",
       "<tr><td>16</td><td>Operation</td><td>operator:&nbsp;29<br>operands:&nbsp;21<br></td><td><a class=\"ProveItLink\" href=\"../0281f0d3f4725bbd3a9726b76e10cdd6a59f84510/expr.ipynb\"><img src=\"../0281f0d3f4725bbd3a9726b76e10cdd6a59f84510/expr.png\" style=\"display:inline;vertical-align:middle;\" /></a></td></tr>\n",
       "<tr><td>17</td><td>Literal</td><td></td><td><a class=\"ProveItLink\" href=\"../../../../scalar_multiplication/__pv_it/common/1e364bd471e6a29fcd358dd2d9cd990a1e6fedd40/expr.ipynb\"><img src=\"../../../../scalar_multiplication/__pv_it/common/1e364bd471e6a29fcd358dd2d9cd990a1e6fedd40/expr.png\" style=\"display:inline;vertical-align:middle;\" /></a></td></tr>\n",
       "<tr><td>18</td><td>ExprTuple</td><td>22, 25</td><td><a class=\"ProveItLink\" href=\"../431e058685753c4e249f22cd2489e06f059ef6210/expr.ipynb\"><img src=\"../431e058685753c4e249f22cd2489e06f059ef6210/expr.png\" style=\"display:inline;vertical-align:middle;\" /></a></td></tr>\n",
       "<tr><td>19</td><td>Literal</td><td></td><td><a class=\"ProveItLink\" href=\"../../../../../logic/sets/membership/__pv_it/common/477487d8796864d23d5810f83761435f25167f690/expr.ipynb\"><img src=\"../../../../../logic/sets/membership/__pv_it/common/477487d8796864d23d5810f83761435f25167f690/expr.png\" style=\"display:inline;vertical-align:middle;\" /></a></td></tr>\n",
       "<tr><td>20</td><td>ExprTuple</td><td>37, 23</td><td><a class=\"ProveItLink\" href=\"../28d2afb06ec85f8673a332040f8f84c54020e9590/expr.ipynb\"><img src=\"../28d2afb06ec85f8673a332040f8f84c54020e9590/expr.png\" style=\"display:inline;vertical-align:middle;\" /></a></td></tr>\n",
       "<tr><td>21</td><td>ExprTuple</td><td>24, 25, 26</td><td><a class=\"ProveItLink\" href=\"../6034bae8569870ca41a24707b92af3e5660a1e090/expr.ipynb\"><img src=\"../6034bae8569870ca41a24707b92af3e5660a1e090/expr.png\" style=\"display:inline;vertical-align:middle;\" /></a></td></tr>\n",
       "<tr><td>22</td><td>Variable</td><td></td><td><a class=\"ProveItLink\" href=\"../../../../../__pv_it/common/d3b5a05ce48f7e4b8f946549743adda31d51d0e80/expr.ipynb\"><img src=\"../../../../../__pv_it/common/d3b5a05ce48f7e4b8f946549743adda31d51d0e80/expr.png\" style=\"display:inline;vertical-align:middle;\" /></a></td></tr>\n",
       "<tr><td>23</td><td>Operation</td><td>operator:&nbsp;27<br>operands:&nbsp;28<br></td><td><a class=\"ProveItLink\" href=\"../d52b7b54dc47ec2badf6859f9847ff1f1b35483a0/expr.ipynb\"><img src=\"../d52b7b54dc47ec2badf6859f9847ff1f1b35483a0/expr.png\" style=\"display:inline;vertical-align:middle;\" /></a></td></tr>\n",
       "<tr><td>24</td><td>Variable</td><td></td><td><a class=\"ProveItLink\" href=\"../../../../../__pv_it/common/a0d9d672aa5e272d907247690c152cc2c6daafb70/expr.ipynb\"><img src=\"../../../../../__pv_it/common/a0d9d672aa5e272d907247690c152cc2c6daafb70/expr.png\" style=\"display:inline;vertical-align:middle;\" /></a></td></tr>\n",
       "<tr><td>25</td><td>Operation</td><td>operator:&nbsp;29<br>operands:&nbsp;30<br></td><td><a class=\"ProveItLink\" href=\"../aa5830927e009f1be65760f1d1d361f78536cddb0/expr.ipynb\"><img src=\"../aa5830927e009f1be65760f1d1d361f78536cddb0/expr.png\" style=\"display:inline;vertical-align:middle;\" /></a></td></tr>\n",
       "<tr><td>26</td><td>Variable</td><td></td><td><a class=\"ProveItLink\" href=\"../../../../../__pv_it/common/95a8f6b9b9f29b83f192ad7fd05708d6be097a3f0/expr.ipynb\"><img src=\"../../../../../__pv_it/common/95a8f6b9b9f29b83f192ad7fd05708d6be097a3f0/expr.png\" style=\"display:inline;vertical-align:middle;\" /></a></td></tr>\n",
       "<tr><td>27</td><td>Literal</td><td></td><td><a class=\"ProveItLink\" href=\"../../../../../numbers/number_sets/integers/__pv_it/common/92f3a0a77e3c3ea8e4a5c8674edadc54e4f57d550/expr.ipynb\"><img src=\"../../../../../numbers/number_sets/integers/__pv_it/common/92f3a0a77e3c3ea8e4a5c8674edadc54e4f57d550/expr.png\" style=\"display:inline;vertical-align:middle;\" /></a></td></tr>\n",
       "<tr><td>28</td><td>ExprTuple</td><td>31, 32</td><td><a class=\"ProveItLink\" href=\"../4dcdc5026f80b9604cf319714818529aceda286b0/expr.ipynb\"><img src=\"../4dcdc5026f80b9604cf319714818529aceda286b0/expr.png\" style=\"display:inline;vertical-align:middle;\" /></a></td></tr>\n",
       "<tr><td>29</td><td>Literal</td><td></td><td><a class=\"ProveItLink\" href=\"../../common/7fa25b05174babb4710be62d63ebd43f68aa2fec0/expr.ipynb\"><img src=\"../../common/7fa25b05174babb4710be62d63ebd43f68aa2fec0/expr.png\" style=\"display:inline;vertical-align:middle;\" /></a></td></tr>\n",
       "<tr><td>30</td><td>ExprTuple</td><td>33, 34</td><td><a class=\"ProveItLink\" href=\"../1ae81890faf60a3f20ea50dca9ed03417c5a22680/expr.ipynb\"><img src=\"../1ae81890faf60a3f20ea50dca9ed03417c5a22680/expr.png\" style=\"display:inline;vertical-align:middle;\" /></a></td></tr>\n",
       "<tr><td>31</td><td>Literal</td><td></td><td><a class=\"ProveItLink\" href=\"../../../../../numbers/numerals/__pv_it/common/af4aab8a07465db063742696e006d04670f30cf10/expr.ipynb\"><img src=\"../../../../../numbers/numerals/__pv_it/common/af4aab8a07465db063742696e006d04670f30cf10/expr.png\" style=\"display:inline;vertical-align:middle;\" /></a></td></tr>\n",
       "<tr><td>32</td><td>Literal</td><td></td><td><a class=\"ProveItLink\" href=\"../../../../../numbers/numerals/__pv_it/common/48a1d915c1e9490b9a94e5c77a208938d3ee20ce0/expr.ipynb\"><img src=\"../../../../../numbers/numerals/__pv_it/common/48a1d915c1e9490b9a94e5c77a208938d3ee20ce0/expr.png\" style=\"display:inline;vertical-align:middle;\" /></a></td></tr>\n",
       "<tr><td>33</td><td>Variable</td><td></td><td><a class=\"ProveItLink\" href=\"../../../../../__pv_it/common/ff7dba4ef0bbe791ab573bf2d9c220a304399ac80/expr.ipynb\"><img src=\"../../../../../__pv_it/common/ff7dba4ef0bbe791ab573bf2d9c220a304399ac80/expr.png\" style=\"display:inline;vertical-align:middle;\" /></a></td></tr>\n",
       "<tr><td>34</td><td>Operation</td><td>operator:&nbsp;35<br>operand:&nbsp;37<br></td><td><a class=\"ProveItLink\" href=\"../../../../../__pv_it/common/68d279ba17eb875d9f466a293b0b7fcc3ad8621e0/expr.ipynb\"><img src=\"../../../../../__pv_it/common/68d279ba17eb875d9f466a293b0b7fcc3ad8621e0/expr.png\" style=\"display:inline;vertical-align:middle;\" /></a></td></tr>\n",
       "<tr><td>35</td><td>Variable</td><td></td><td><a class=\"ProveItLink\" href=\"../../../../../__pv_it/common/01b6dbb444a31fc38af4c2379badef6c75b363710/expr.ipynb\"><img src=\"../../../../../__pv_it/common/01b6dbb444a31fc38af4c2379badef6c75b363710/expr.png\" style=\"display:inline;vertical-align:middle;\" /></a></td></tr>\n",
       "<tr><td>36</td><td>ExprTuple</td><td>37</td><td><a class=\"ProveItLink\" href=\"../../../../../__pv_it/common/3b7d7ace2ced0a8261ea4d18d03aaf49e434d69d0/expr.ipynb\"><img src=\"../../../../../__pv_it/common/3b7d7ace2ced0a8261ea4d18d03aaf49e434d69d0/expr.png\" style=\"display:inline;vertical-align:middle;\" /></a></td></tr>\n",
       "<tr><td>37</td><td>Variable</td><td></td><td><a class=\"ProveItLink\" href=\"../../../../../__pv_it/common/ae955345c83abf786c3aff8681cd5465beae262d0/expr.ipynb\"><img src=\"../../../../../__pv_it/common/ae955345c83abf786c3aff8681cd5465beae262d0/expr.png\" style=\"display:inline;vertical-align:middle;\" /></a></td></tr>\n",
       "</table>\n"
      ],
      "text/plain": [
       "0. (x otimes (Sum_{i=2}^{4} (gamma * (y otimes f(i)))) otimes z, Sum_{i=2}^{4} (gamma * (x otimes (y otimes f(i)) otimes z)))\n",
       "   core type: ExprTuple\n",
       "   sub-expressions: 1, 2\n",
       "1. x otimes (Sum_{i=2}^{4} (gamma * (y otimes f(i)))) otimes z\n",
       "   core type: Operation\n",
       "   operator: 29\n",
       "   operands: 3\n",
       "2. Sum_{i=2}^{4} (gamma * (x otimes (y otimes f(i)) otimes z))\n",
       "   core type: Operation\n",
       "   operator: 7\n",
       "   operand: 6\n",
       "3. (x, Sum_{i=2}^{4} (gamma * (y otimes f(i))), z)\n",
       "   core type: ExprTuple\n",
       "   sub-expressions: 24, 5, 26\n",
       "4. (i -> {gamma * (x otimes (y otimes f(i)) otimes z) if i in {2 .. 4}.)\n",
       "   core type: ExprTuple\n",
       "   sub-expressions: 6\n",
       "5. Sum_{i=2}^{4} (gamma * (y otimes f(i)))\n",
       "   core type: Operation\n",
       "   operator: 7\n",
       "   operand: 10\n",
       "6. i -> {gamma * (x otimes (y otimes f(i)) otimes z) if i in {2 .. 4}.\n",
       "   core type: Lambda\n",
       "   parameter: 37\n",
       "   body: 9\n",
       "7. Sum\n",
       "   core type: Literal\n",
       "   sub-expressions: \n",
       "8. (i -> {gamma * (y otimes f(i)) if i in {2 .. 4}.)\n",
       "   core type: ExprTuple\n",
       "   sub-expressions: 10\n",
       "9. {gamma * (x otimes (y otimes f(i)) otimes z) if i in {2 .. 4}.\n",
       "   core type: Conditional\n",
       "   value: 11\n",
       "   condition: 15\n",
       "10. i -> {gamma * (y otimes f(i)) if i in {2 .. 4}.\n",
       "    core type: Lambda\n",
       "    parameter: 37\n",
       "    body: 12\n",
       "11. gamma * (x otimes (y otimes f(i)) otimes z)\n",
       "    core type: Operation\n",
       "    operator: 17\n",
       "    operands: 13\n",
       "12. {gamma * (y otimes f(i)) if i in {2 .. 4}.\n",
       "    core type: Conditional\n",
       "    value: 14\n",
       "    condition: 15\n",
       "13. (gamma, x otimes (y otimes f(i)) otimes z)\n",
       "    core type: ExprTuple\n",
       "    sub-expressions: 22, 16\n",
       "14. gamma * (y otimes f(i))\n",
       "    core type: Operation\n",
       "    operator: 17\n",
       "    operands: 18\n",
       "15. i in {2 .. 4}\n",
       "    core type: Operation\n",
       "    operator: 19\n",
       "    operands: 20\n",
       "16. x otimes (y otimes f(i)) otimes z\n",
       "    core type: Operation\n",
       "    operator: 29\n",
       "    operands: 21\n",
       "17. *\n",
       "    core type: Literal\n",
       "    sub-expressions: \n",
       "18. (gamma, y otimes f(i))\n",
       "    core type: ExprTuple\n",
       "    sub-expressions: 22, 25\n",
       "19. in\n",
       "    core type: Literal\n",
       "    sub-expressions: \n",
       "20. (i, {2 .. 4})\n",
       "    core type: ExprTuple\n",
       "    sub-expressions: 37, 23\n",
       "21. (x, y otimes f(i), z)\n",
       "    core type: ExprTuple\n",
       "    sub-expressions: 24, 25, 26\n",
       "22. gamma\n",
       "    core type: Variable\n",
       "    sub-expressions: \n",
       "23. {2 .. 4}\n",
       "    core type: Operation\n",
       "    operator: 27\n",
       "    operands: 28\n",
       "24. x\n",
       "    core type: Variable\n",
       "    sub-expressions: \n",
       "25. y otimes f(i)\n",
       "    core type: Operation\n",
       "    operator: 29\n",
       "    operands: 30\n",
       "26. z\n",
       "    core type: Variable\n",
       "    sub-expressions: \n",
       "27. Interval\n",
       "    core type: Literal\n",
       "    sub-expressions: \n",
       "28. (2, 4)\n",
       "    core type: ExprTuple\n",
       "    sub-expressions: 31, 32\n",
       "29. otimes\n",
       "    core type: Literal\n",
       "    sub-expressions: \n",
       "30. (y, f(i))\n",
       "    core type: ExprTuple\n",
       "    sub-expressions: 33, 34\n",
       "31. 2\n",
       "    core type: Literal\n",
       "    sub-expressions: \n",
       "32. 4\n",
       "    core type: Literal\n",
       "    sub-expressions: \n",
       "33. y\n",
       "    core type: Variable\n",
       "    sub-expressions: \n",
       "34. f(i)\n",
       "    core type: Operation\n",
       "    operator: 35\n",
       "    operand: 37\n",
       "35. f\n",
       "    core type: Variable\n",
       "    sub-expressions: \n",
       "36. (i)\n",
       "    core type: ExprTuple\n",
       "    sub-expressions: 37\n",
       "37. i\n",
       "    core type: Variable\n",
       "    sub-expressions: "
      ]
     },
     "metadata": {},
     "output_type": "display_data"
    }
   ],
   "source": [
    "# display the expression information\n",
    "stored_expr.expr_info()"
   ]
  },
  {
   "cell_type": "code",
   "execution_count": null,
   "metadata": {},
   "outputs": [],
   "source": []
  }
 ],
 "metadata": {
  "kernelspec": {
   "display_name": "Python 3",
   "language": "python",
   "name": "python3"
  }
 },
 "nbformat": 4,
 "nbformat_minor": 0
}