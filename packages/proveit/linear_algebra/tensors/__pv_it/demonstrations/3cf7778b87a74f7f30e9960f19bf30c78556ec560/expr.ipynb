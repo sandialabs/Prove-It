{
 "cells": [
  {
   "cell_type": "markdown",
   "metadata": {},
   "source": [
    "Expression of type <a class=\"ProveItLink\" href=\"../../../../../../../doc/html/api/proveit.ExprTuple.html\">ExprTuple</a>\n",
    "=======================\n",
    "# from the theory of <a class=\"ProveItLink\" href=\"../../../_theory_nbs_/theory.ipynb\">proveit.linear_algebra.tensors</a>"
   ]
  },
  {
   "cell_type": "code",
   "execution_count": 1,
   "metadata": {},
   "outputs": [],
   "source": [
    "import proveit\n",
    "# Automation is not needed when building an expression:\n",
    "proveit.defaults.automation = False # This will speed things up.\n",
    "proveit.defaults.inline_pngs = False # Makes files smaller.\n",
    "%load_expr # Load the stored expression as 'stored_expr'\n",
    "# import Expression classes needed to build the expression\n",
    "from proveit import ExprTuple, fi, i, x, z\n",
    "from proveit.linear_algebra import TensorProd, VecSum\n",
    "from proveit.logic import CartExp, Equals, Forall, InSet\n",
    "from proveit.numbers import Interval, Real, one, three"
   ]
  },
  {
   "cell_type": "code",
   "execution_count": 2,
   "metadata": {},
   "outputs": [
    {
     "data": {
      "text/html": [
       "<strong id=\"expr\">expr:</strong> <a class=\"ProveItLink\" href=\"expr.ipynb\"><img src=\"expr.png\" style=\"display:inline;vertical-align:middle;\" /></a><br>"
      ],
      "text/plain": [
       "<IPython.core.display.HTML object>"
      ]
     },
     "metadata": {},
     "output_type": "display_data"
    }
   ],
   "source": [
    "# build up the expression from sub-expressions\n",
    "sub_expr1 = [i]\n",
    "sub_expr2 = CartExp(Real, three)\n",
    "sub_expr3 = Interval(one, three)\n",
    "sub_expr4 = TensorProd(x, fi, z)\n",
    "expr = ExprTuple(Forall(instance_param_or_params = sub_expr1, instance_expr = InSet(sub_expr4, TensorProd(sub_expr2, sub_expr2, sub_expr2)), domain = sub_expr3), Equals(TensorProd(x, VecSum(index_or_indices = sub_expr1, summand = fi, domain = sub_expr3), z), VecSum(index_or_indices = sub_expr1, summand = sub_expr4, domain = sub_expr3)).with_wrapping_at(1))"
   ]
  },
  {
   "cell_type": "code",
   "execution_count": 3,
   "metadata": {},
   "outputs": [
    {
     "name": "stdout",
     "output_type": "stream",
     "text": [
      "Passed sanity check: expr matches stored_expr\n"
     ]
    }
   ],
   "source": [
    "# check that the built expression is the same as the stored expression\n",
    "assert expr == stored_expr\n",
    "assert expr._style_id == stored_expr._style_id\n",
    "print(\"Passed sanity check: expr matches stored_expr\")"
   ]
  },
  {
   "cell_type": "code",
   "execution_count": 4,
   "metadata": {},
   "outputs": [
    {
     "name": "stdout",
     "output_type": "stream",
     "text": [
      "\\left(\\forall_{i \\in \\{1~\\ldotp \\ldotp~3\\}}~\\left(\\left(x {\\otimes} f\\left(i\\right) {\\otimes} z\\right) \\in \\left(\\mathbb{R}^{3} {\\otimes} \\mathbb{R}^{3} {\\otimes} \\mathbb{R}^{3}\\right)\\right), \\begin{array}{c} \\begin{array}{l} \\left(x {\\otimes} \\left(\\sum_{i=1}^{3} f\\left(i\\right)\\right) {\\otimes} z\\right) \\\\  = \\left(\\sum_{i=1}^{3} \\left(x {\\otimes} f\\left(i\\right) {\\otimes} z\\right)\\right) \\end{array} \\end{array}\\right)\n"
     ]
    }
   ],
   "source": [
    "# Show the LaTeX representation of the expression for convenience if you need it.\n",
    "print(stored_expr.latex())"
   ]
  },
  {
   "cell_type": "code",
   "execution_count": 5,
   "metadata": {},
   "outputs": [
    {
     "data": {
      "text/html": [
       "<table>\n",
       "<tr><th>name</th><th>description</th><th>default</th><th>current value</th><th>related methods</th></tr><tr><td>wrap_positions</td><td>position(s) at which wrapping is to occur; 'n' is after the nth comma.</td><td>()</td><td>()</td><td>('with_wrapping_at',)</td></tr>\n",
       "<tr><td>justification</td><td>if any wrap positions are set, justify to the 'left', 'center', or 'right'</td><td>left</td><td>left</td><td>('with_justification',)</td></tr>\n",
       "</table>\n"
      ],
      "text/plain": [
       "style name: wrap_positions\n",
       "description: position(s) at which wrapping is to occur; 'n' is after the nth comma.\n",
       "default: ()\n",
       "current value: ()\n",
       "related methods: ('with_wrapping_at',)\n",
       "style name: justification\n",
       "description: if any wrap positions are set, justify to the 'left', 'center', or 'right'\n",
       "default: left\n",
       "current value: left\n",
       "related methods: ('with_justification',)"
      ]
     },
     "metadata": {},
     "output_type": "display_data"
    }
   ],
   "source": [
    "stored_expr.style_options()"
   ]
  },
  {
   "cell_type": "code",
   "execution_count": 6,
   "metadata": {},
   "outputs": [
    {
     "data": {
      "text/html": [
       "<table><tr><th>&nbsp;</th><th>core type</th><th>sub-expressions</th><th>expression</th></tr>\n",
       "<tr><td>0</td><td>ExprTuple</td><td>1, 2</td><td><a class=\"ProveItLink\" href=\"expr.ipynb\"><img src=\"expr.png\" style=\"display:inline;vertical-align:middle;\" /></a></td></tr>\n",
       "<tr><td>1</td><td>Operation</td><td>operator:&nbsp;3<br>operand:&nbsp;7<br></td><td><a class=\"ProveItLink\" href=\"../9a487ba7228d1a652ecfd6be7e79aac789fcd2170/expr.ipynb\"><img src=\"../9a487ba7228d1a652ecfd6be7e79aac789fcd2170/expr.png\" style=\"display:inline;vertical-align:middle;\" /></a></td></tr>\n",
       "<tr><td>2</td><td>Operation</td><td>operator:&nbsp;5<br>operands:&nbsp;6<br></td><td><a class=\"ProveItLink\" href=\"../2adf514f76e503a61128500cb86d8eb4fc5b36d90/expr.ipynb\"><img src=\"../2adf514f76e503a61128500cb86d8eb4fc5b36d90/expr.png\" style=\"display:inline;vertical-align:middle;\" /></a></td></tr>\n",
       "<tr><td>3</td><td>Literal</td><td></td><td><a class=\"ProveItLink\" href=\"../../../../../logic/booleans/quantification/universality/__pv_it/common/083d2baa0b8ecab1d230f9ec29a15aa1355809fb0/expr.ipynb\"><img src=\"../../../../../logic/booleans/quantification/universality/__pv_it/common/083d2baa0b8ecab1d230f9ec29a15aa1355809fb0/expr.png\" style=\"display:inline;vertical-align:middle;\" /></a></td></tr>\n",
       "<tr><td>4</td><td>ExprTuple</td><td>7</td><td><a class=\"ProveItLink\" href=\"../672faade639dbf12fc58c5503f4ba602d867c1920/expr.ipynb\"><img src=\"../672faade639dbf12fc58c5503f4ba602d867c1920/expr.png\" style=\"display:inline;vertical-align:middle;\" /></a></td></tr>\n",
       "<tr><td>5</td><td>Literal</td><td></td><td><a class=\"ProveItLink\" href=\"../../../../../logic/equality/__pv_it/common/fb96dc12b2aa8801dda64d0132b396c63d1502bb0/expr.ipynb\"><img src=\"../../../../../logic/equality/__pv_it/common/fb96dc12b2aa8801dda64d0132b396c63d1502bb0/expr.png\" style=\"display:inline;vertical-align:middle;\" /></a></td></tr>\n",
       "<tr><td>6</td><td>ExprTuple</td><td>8, 9</td><td><a class=\"ProveItLink\" href=\"../21b45b7fc1226d27f6fa04659e8c9e7f2b6eef6f0/expr.ipynb\"><img src=\"../21b45b7fc1226d27f6fa04659e8c9e7f2b6eef6f0/expr.png\" style=\"display:inline;vertical-align:middle;\" /></a></td></tr>\n",
       "<tr><td>7</td><td>Lambda</td><td>parameter:&nbsp;40<br>body:&nbsp;10<br></td><td><a class=\"ProveItLink\" href=\"../9ecfeb80308cebaa009d589696c9cdecb4ffcd940/expr.ipynb\"><img src=\"../9ecfeb80308cebaa009d589696c9cdecb4ffcd940/expr.png\" style=\"display:inline;vertical-align:middle;\" /></a></td></tr>\n",
       "<tr><td>8</td><td>Operation</td><td>operator:&nbsp;25<br>operands:&nbsp;11<br></td><td><a class=\"ProveItLink\" href=\"../a0788f0cf2d8cd4e5ec937a1b9c2a3432bde28c20/expr.ipynb\"><img src=\"../a0788f0cf2d8cd4e5ec937a1b9c2a3432bde28c20/expr.png\" style=\"display:inline;vertical-align:middle;\" /></a></td></tr>\n",
       "<tr><td>9</td><td>Operation</td><td>operator:&nbsp;17<br>operand:&nbsp;15<br></td><td><a class=\"ProveItLink\" href=\"../8334f6c70cefd87575c6c50e2641c500aa505aaa0/expr.ipynb\"><img src=\"../8334f6c70cefd87575c6c50e2641c500aa505aaa0/expr.png\" style=\"display:inline;vertical-align:middle;\" /></a></td></tr>\n",
       "<tr><td>10</td><td>Conditional</td><td>value:&nbsp;13<br>condition:&nbsp;28<br></td><td><a class=\"ProveItLink\" href=\"../885d50ff90f3ab4161dcd7e951cc65446cb9db240/expr.ipynb\"><img src=\"../885d50ff90f3ab4161dcd7e951cc65446cb9db240/expr.png\" style=\"display:inline;vertical-align:middle;\" /></a></td></tr>\n",
       "<tr><td>11</td><td>ExprTuple</td><td>29, 14, 31</td><td><a class=\"ProveItLink\" href=\"../51695d4fc99343096e2c2b08f0c4053f6f6c17060/expr.ipynb\"><img src=\"../51695d4fc99343096e2c2b08f0c4053f6f6c17060/expr.png\" style=\"display:inline;vertical-align:middle;\" /></a></td></tr>\n",
       "<tr><td>12</td><td>ExprTuple</td><td>15</td><td><a class=\"ProveItLink\" href=\"../1f028e06368b3ffad38e6521a87a73452093e3020/expr.ipynb\"><img src=\"../1f028e06368b3ffad38e6521a87a73452093e3020/expr.png\" style=\"display:inline;vertical-align:middle;\" /></a></td></tr>\n",
       "<tr><td>13</td><td>Operation</td><td>operator:&nbsp;34<br>operands:&nbsp;16<br></td><td><a class=\"ProveItLink\" href=\"../0d6df87dd70650df3abf7bf08a8f05526927398c0/expr.ipynb\"><img src=\"../0d6df87dd70650df3abf7bf08a8f05526927398c0/expr.png\" style=\"display:inline;vertical-align:middle;\" /></a></td></tr>\n",
       "<tr><td>14</td><td>Operation</td><td>operator:&nbsp;17<br>operand:&nbsp;21<br></td><td><a class=\"ProveItLink\" href=\"../53807a2773bbe29dc1d2a105f256c6b35a82a32d0/expr.ipynb\"><img src=\"../53807a2773bbe29dc1d2a105f256c6b35a82a32d0/expr.png\" style=\"display:inline;vertical-align:middle;\" /></a></td></tr>\n",
       "<tr><td>15</td><td>Lambda</td><td>parameter:&nbsp;40<br>body:&nbsp;19<br></td><td><a class=\"ProveItLink\" href=\"../cfd74536ac61e224af31dc77832047248b5b8b5a0/expr.ipynb\"><img src=\"../cfd74536ac61e224af31dc77832047248b5b8b5a0/expr.png\" style=\"display:inline;vertical-align:middle;\" /></a></td></tr>\n",
       "<tr><td>16</td><td>ExprTuple</td><td>22, 20</td><td><a class=\"ProveItLink\" href=\"../14813aaf0d6ef8559a2a449f786ecb846a3f7b860/expr.ipynb\"><img src=\"../14813aaf0d6ef8559a2a449f786ecb846a3f7b860/expr.png\" style=\"display:inline;vertical-align:middle;\" /></a></td></tr>\n",
       "<tr><td>17</td><td>Literal</td><td></td><td><a class=\"ProveItLink\" href=\"../../../../addition/__pv_it/common/62f73c830c62efb87627ede5678f282081cd0ce20/expr.ipynb\"><img src=\"../../../../addition/__pv_it/common/62f73c830c62efb87627ede5678f282081cd0ce20/expr.png\" style=\"display:inline;vertical-align:middle;\" /></a></td></tr>\n",
       "<tr><td>18</td><td>ExprTuple</td><td>21</td><td><a class=\"ProveItLink\" href=\"../ac3d5073561386970f536758a5f8a4c22ddd1a4b0/expr.ipynb\"><img src=\"../ac3d5073561386970f536758a5f8a4c22ddd1a4b0/expr.png\" style=\"display:inline;vertical-align:middle;\" /></a></td></tr>\n",
       "<tr><td>19</td><td>Conditional</td><td>value:&nbsp;22<br>condition:&nbsp;28<br></td><td><a class=\"ProveItLink\" href=\"../945a15c19687e6fde102700835d917ba8f8464640/expr.ipynb\"><img src=\"../945a15c19687e6fde102700835d917ba8f8464640/expr.png\" style=\"display:inline;vertical-align:middle;\" /></a></td></tr>\n",
       "<tr><td>20</td><td>Operation</td><td>operator:&nbsp;25<br>operands:&nbsp;23<br></td><td><a class=\"ProveItLink\" href=\"../aaa1c177cc2a31e4bd66f6455419d211c74e9e4f0/expr.ipynb\"><img src=\"../aaa1c177cc2a31e4bd66f6455419d211c74e9e4f0/expr.png\" style=\"display:inline;vertical-align:middle;\" /></a></td></tr>\n",
       "<tr><td>21</td><td>Lambda</td><td>parameter:&nbsp;40<br>body:&nbsp;24<br></td><td><a class=\"ProveItLink\" href=\"../198bd686120f7b9654a6150b97bb112e1c7350fb0/expr.ipynb\"><img src=\"../198bd686120f7b9654a6150b97bb112e1c7350fb0/expr.png\" style=\"display:inline;vertical-align:middle;\" /></a></td></tr>\n",
       "<tr><td>22</td><td>Operation</td><td>operator:&nbsp;25<br>operands:&nbsp;26<br></td><td><a class=\"ProveItLink\" href=\"../ead692c6cb3963e5e2fa7ab95b7b4dbb5c77a9080/expr.ipynb\"><img src=\"../ead692c6cb3963e5e2fa7ab95b7b4dbb5c77a9080/expr.png\" style=\"display:inline;vertical-align:middle;\" /></a></td></tr>\n",
       "<tr><td>23</td><td>ExprTuple</td><td>27, 27, 27</td><td><a class=\"ProveItLink\" href=\"../79578f6bff9a0254ba7fb051258aff4db25e02260/expr.ipynb\"><img src=\"../79578f6bff9a0254ba7fb051258aff4db25e02260/expr.png\" style=\"display:inline;vertical-align:middle;\" /></a></td></tr>\n",
       "<tr><td>24</td><td>Conditional</td><td>value:&nbsp;30<br>condition:&nbsp;28<br></td><td><a class=\"ProveItLink\" href=\"../7852c6e259923d418decde3b31dd5a694be666ab0/expr.ipynb\"><img src=\"../7852c6e259923d418decde3b31dd5a694be666ab0/expr.png\" style=\"display:inline;vertical-align:middle;\" /></a></td></tr>\n",
       "<tr><td>25</td><td>Literal</td><td></td><td><a class=\"ProveItLink\" href=\"../../common/7fa25b05174babb4710be62d63ebd43f68aa2fec0/expr.ipynb\"><img src=\"../../common/7fa25b05174babb4710be62d63ebd43f68aa2fec0/expr.png\" style=\"display:inline;vertical-align:middle;\" /></a></td></tr>\n",
       "<tr><td>26</td><td>ExprTuple</td><td>29, 30, 31</td><td><a class=\"ProveItLink\" href=\"../da4b7371e65d8b4ba1746b43ccdd418a7dc187dd0/expr.ipynb\"><img src=\"../da4b7371e65d8b4ba1746b43ccdd418a7dc187dd0/expr.png\" style=\"display:inline;vertical-align:middle;\" /></a></td></tr>\n",
       "<tr><td>27</td><td>Operation</td><td>operator:&nbsp;32<br>operands:&nbsp;33<br></td><td><a class=\"ProveItLink\" href=\"../b09d232dc6c8bd1b305d141dd063505555f74fe50/expr.ipynb\"><img src=\"../b09d232dc6c8bd1b305d141dd063505555f74fe50/expr.png\" style=\"display:inline;vertical-align:middle;\" /></a></td></tr>\n",
       "<tr><td>28</td><td>Operation</td><td>operator:&nbsp;34<br>operands:&nbsp;35<br></td><td><a class=\"ProveItLink\" href=\"../79c55ad736a28e91e4713eae7fe8222939dd9c270/expr.ipynb\"><img src=\"../79c55ad736a28e91e4713eae7fe8222939dd9c270/expr.png\" style=\"display:inline;vertical-align:middle;\" /></a></td></tr>\n",
       "<tr><td>29</td><td>Variable</td><td></td><td><a class=\"ProveItLink\" href=\"../../../../../__pv_it/common/a0d9d672aa5e272d907247690c152cc2c6daafb70/expr.ipynb\"><img src=\"../../../../../__pv_it/common/a0d9d672aa5e272d907247690c152cc2c6daafb70/expr.png\" style=\"display:inline;vertical-align:middle;\" /></a></td></tr>\n",
       "<tr><td>30</td><td>Operation</td><td>operator:&nbsp;36<br>operand:&nbsp;40<br></td><td><a class=\"ProveItLink\" href=\"../../../../../__pv_it/common/68d279ba17eb875d9f466a293b0b7fcc3ad8621e0/expr.ipynb\"><img src=\"../../../../../__pv_it/common/68d279ba17eb875d9f466a293b0b7fcc3ad8621e0/expr.png\" style=\"display:inline;vertical-align:middle;\" /></a></td></tr>\n",
       "<tr><td>31</td><td>Variable</td><td></td><td><a class=\"ProveItLink\" href=\"../../../../../__pv_it/common/95a8f6b9b9f29b83f192ad7fd05708d6be097a3f0/expr.ipynb\"><img src=\"../../../../../__pv_it/common/95a8f6b9b9f29b83f192ad7fd05708d6be097a3f0/expr.png\" style=\"display:inline;vertical-align:middle;\" /></a></td></tr>\n",
       "<tr><td>32</td><td>Literal</td><td></td><td><a class=\"ProveItLink\" href=\"../../../../../logic/sets/cartesian_products/__pv_it/common/7d20d67ddfbd94ad12efc9670c0d16a295b8ec1a0/expr.ipynb\"><img src=\"../../../../../logic/sets/cartesian_products/__pv_it/common/7d20d67ddfbd94ad12efc9670c0d16a295b8ec1a0/expr.png\" style=\"display:inline;vertical-align:middle;\" /></a></td></tr>\n",
       "<tr><td>33</td><td>ExprTuple</td><td>38, 44</td><td><a class=\"ProveItLink\" href=\"../7153ff9c6d56816696f64f5d4ee2610a6f3959e70/expr.ipynb\"><img src=\"../7153ff9c6d56816696f64f5d4ee2610a6f3959e70/expr.png\" style=\"display:inline;vertical-align:middle;\" /></a></td></tr>\n",
       "<tr><td>34</td><td>Literal</td><td></td><td><a class=\"ProveItLink\" href=\"../../../../../logic/sets/membership/__pv_it/common/477487d8796864d23d5810f83761435f25167f690/expr.ipynb\"><img src=\"../../../../../logic/sets/membership/__pv_it/common/477487d8796864d23d5810f83761435f25167f690/expr.png\" style=\"display:inline;vertical-align:middle;\" /></a></td></tr>\n",
       "<tr><td>35</td><td>ExprTuple</td><td>40, 39</td><td><a class=\"ProveItLink\" href=\"../ab06929dbfdaaa2ae45c843ef9d6de7c2fd96ef30/expr.ipynb\"><img src=\"../ab06929dbfdaaa2ae45c843ef9d6de7c2fd96ef30/expr.png\" style=\"display:inline;vertical-align:middle;\" /></a></td></tr>\n",
       "<tr><td>36</td><td>Variable</td><td></td><td><a class=\"ProveItLink\" href=\"../../../../../__pv_it/common/01b6dbb444a31fc38af4c2379badef6c75b363710/expr.ipynb\"><img src=\"../../../../../__pv_it/common/01b6dbb444a31fc38af4c2379badef6c75b363710/expr.png\" style=\"display:inline;vertical-align:middle;\" /></a></td></tr>\n",
       "<tr><td>37</td><td>ExprTuple</td><td>40</td><td><a class=\"ProveItLink\" href=\"../../../../../__pv_it/common/3b7d7ace2ced0a8261ea4d18d03aaf49e434d69d0/expr.ipynb\"><img src=\"../../../../../__pv_it/common/3b7d7ace2ced0a8261ea4d18d03aaf49e434d69d0/expr.png\" style=\"display:inline;vertical-align:middle;\" /></a></td></tr>\n",
       "<tr><td>38</td><td>Literal</td><td></td><td><a class=\"ProveItLink\" href=\"../../../../../numbers/number_sets/real_numbers/__pv_it/common/93cac87a1a47e613f7a83b23ef7891599a1a4cca0/expr.ipynb\"><img src=\"../../../../../numbers/number_sets/real_numbers/__pv_it/common/93cac87a1a47e613f7a83b23ef7891599a1a4cca0/expr.png\" style=\"display:inline;vertical-align:middle;\" /></a></td></tr>\n",
       "<tr><td>39</td><td>Operation</td><td>operator:&nbsp;41<br>operands:&nbsp;42<br></td><td><a class=\"ProveItLink\" href=\"../7676e493d3bb64bb395806d5897521faeefd5aba0/expr.ipynb\"><img src=\"../7676e493d3bb64bb395806d5897521faeefd5aba0/expr.png\" style=\"display:inline;vertical-align:middle;\" /></a></td></tr>\n",
       "<tr><td>40</td><td>Variable</td><td></td><td><a class=\"ProveItLink\" href=\"../../../../../__pv_it/common/ae955345c83abf786c3aff8681cd5465beae262d0/expr.ipynb\"><img src=\"../../../../../__pv_it/common/ae955345c83abf786c3aff8681cd5465beae262d0/expr.png\" style=\"display:inline;vertical-align:middle;\" /></a></td></tr>\n",
       "<tr><td>41</td><td>Literal</td><td></td><td><a class=\"ProveItLink\" href=\"../../../../../numbers/number_sets/integers/__pv_it/common/92f3a0a77e3c3ea8e4a5c8674edadc54e4f57d550/expr.ipynb\"><img src=\"../../../../../numbers/number_sets/integers/__pv_it/common/92f3a0a77e3c3ea8e4a5c8674edadc54e4f57d550/expr.png\" style=\"display:inline;vertical-align:middle;\" /></a></td></tr>\n",
       "<tr><td>42</td><td>ExprTuple</td><td>43, 44</td><td><a class=\"ProveItLink\" href=\"../7818a612e3a13034f9173d608653609e4f92ad0f0/expr.ipynb\"><img src=\"../7818a612e3a13034f9173d608653609e4f92ad0f0/expr.png\" style=\"display:inline;vertical-align:middle;\" /></a></td></tr>\n",
       "<tr><td>43</td><td>Literal</td><td></td><td><a class=\"ProveItLink\" href=\"../../../../../numbers/numerals/__pv_it/common/682157d4892d216d9e5626ed533aff9b56b9506e0/expr.ipynb\"><img src=\"../../../../../numbers/numerals/__pv_it/common/682157d4892d216d9e5626ed533aff9b56b9506e0/expr.png\" style=\"display:inline;vertical-align:middle;\" /></a></td></tr>\n",
       "<tr><td>44</td><td>Literal</td><td></td><td><a class=\"ProveItLink\" href=\"../../../../../numbers/numerals/__pv_it/common/1943b60945420e340d305780feff5c1aff2740ff0/expr.ipynb\"><img src=\"../../../../../numbers/numerals/__pv_it/common/1943b60945420e340d305780feff5c1aff2740ff0/expr.png\" style=\"display:inline;vertical-align:middle;\" /></a></td></tr>\n",
       "</table>\n"
      ],
      "text/plain": [
       "0. (forall_{i in {1 .. 3}} ((x otimes f(i) otimes z) in (Real^{3} otimes Real^{3} otimes Real^{3})), (x otimes (Sum_{i=1}^{3} f(i)) otimes z) \\\\  = (Sum_{i=1}^{3} (x otimes f(i) otimes z)))\n",
       "   core type: ExprTuple\n",
       "   sub-expressions: 1, 2\n",
       "1. forall_{i in {1 .. 3}} ((x otimes f(i) otimes z) in (Real^{3} otimes Real^{3} otimes Real^{3}))\n",
       "   core type: Operation\n",
       "   operator: 3\n",
       "   operand: 7\n",
       "2. (x otimes (Sum_{i=1}^{3} f(i)) otimes z) \\\\  = (Sum_{i=1}^{3} (x otimes f(i) otimes z))\n",
       "   core type: Operation\n",
       "   operator: 5\n",
       "   operands: 6\n",
       "3. forall\n",
       "   core type: Literal\n",
       "   sub-expressions: \n",
       "4. (i -> {(x otimes f(i) otimes z) in (Real^{3} otimes Real^{3} otimes Real^{3}) if i in {1 .. 3}.)\n",
       "   core type: ExprTuple\n",
       "   sub-expressions: 7\n",
       "5. =\n",
       "   core type: Literal\n",
       "   sub-expressions: \n",
       "6. (x otimes (Sum_{i=1}^{3} f(i)) otimes z, Sum_{i=1}^{3} (x otimes f(i) otimes z))\n",
       "   core type: ExprTuple\n",
       "   sub-expressions: 8, 9\n",
       "7. i -> {(x otimes f(i) otimes z) in (Real^{3} otimes Real^{3} otimes Real^{3}) if i in {1 .. 3}.\n",
       "   core type: Lambda\n",
       "   parameter: 40\n",
       "   body: 10\n",
       "8. x otimes (Sum_{i=1}^{3} f(i)) otimes z\n",
       "   core type: Operation\n",
       "   operator: 25\n",
       "   operands: 11\n",
       "9. Sum_{i=1}^{3} (x otimes f(i) otimes z)\n",
       "   core type: Operation\n",
       "   operator: 17\n",
       "   operand: 15\n",
       "10. {(x otimes f(i) otimes z) in (Real^{3} otimes Real^{3} otimes Real^{3}) if i in {1 .. 3}.\n",
       "    core type: Conditional\n",
       "    value: 13\n",
       "    condition: 28\n",
       "11. (x, Sum_{i=1}^{3} f(i), z)\n",
       "    core type: ExprTuple\n",
       "    sub-expressions: 29, 14, 31\n",
       "12. (i -> {x otimes f(i) otimes z if i in {1 .. 3}.)\n",
       "    core type: ExprTuple\n",
       "    sub-expressions: 15\n",
       "13. (x otimes f(i) otimes z) in (Real^{3} otimes Real^{3} otimes Real^{3})\n",
       "    core type: Operation\n",
       "    operator: 34\n",
       "    operands: 16\n",
       "14. Sum_{i=1}^{3} f(i)\n",
       "    core type: Operation\n",
       "    operator: 17\n",
       "    operand: 21\n",
       "15. i -> {x otimes f(i) otimes z if i in {1 .. 3}.\n",
       "    core type: Lambda\n",
       "    parameter: 40\n",
       "    body: 19\n",
       "16. (x otimes f(i) otimes z, Real^{3} otimes Real^{3} otimes Real^{3})\n",
       "    core type: ExprTuple\n",
       "    sub-expressions: 22, 20\n",
       "17. Sum\n",
       "    core type: Literal\n",
       "    sub-expressions: \n",
       "18. (i -> {f(i) if i in {1 .. 3}.)\n",
       "    core type: ExprTuple\n",
       "    sub-expressions: 21\n",
       "19. {x otimes f(i) otimes z if i in {1 .. 3}.\n",
       "    core type: Conditional\n",
       "    value: 22\n",
       "    condition: 28\n",
       "20. Real^{3} otimes Real^{3} otimes Real^{3}\n",
       "    core type: Operation\n",
       "    operator: 25\n",
       "    operands: 23\n",
       "21. i -> {f(i) if i in {1 .. 3}.\n",
       "    core type: Lambda\n",
       "    parameter: 40\n",
       "    body: 24\n",
       "22. x otimes f(i) otimes z\n",
       "    core type: Operation\n",
       "    operator: 25\n",
       "    operands: 26\n",
       "23. (Real^{3}, Real^{3}, Real^{3})\n",
       "    core type: ExprTuple\n",
       "    sub-expressions: 27, 27, 27\n",
       "24. {f(i) if i in {1 .. 3}.\n",
       "    core type: Conditional\n",
       "    value: 30\n",
       "    condition: 28\n",
       "25. otimes\n",
       "    core type: Literal\n",
       "    sub-expressions: \n",
       "26. (x, f(i), z)\n",
       "    core type: ExprTuple\n",
       "    sub-expressions: 29, 30, 31\n",
       "27. Real^{3}\n",
       "    core type: Operation\n",
       "    operator: 32\n",
       "    operands: 33\n",
       "28. i in {1 .. 3}\n",
       "    core type: Operation\n",
       "    operator: 34\n",
       "    operands: 35\n",
       "29. x\n",
       "    core type: Variable\n",
       "    sub-expressions: \n",
       "30. f(i)\n",
       "    core type: Operation\n",
       "    operator: 36\n",
       "    operand: 40\n",
       "31. z\n",
       "    core type: Variable\n",
       "    sub-expressions: \n",
       "32. CartExp\n",
       "    core type: Literal\n",
       "    sub-expressions: \n",
       "33. (Real, 3)\n",
       "    core type: ExprTuple\n",
       "    sub-expressions: 38, 44\n",
       "34. in\n",
       "    core type: Literal\n",
       "    sub-expressions: \n",
       "35. (i, {1 .. 3})\n",
       "    core type: ExprTuple\n",
       "    sub-expressions: 40, 39\n",
       "36. f\n",
       "    core type: Variable\n",
       "    sub-expressions: \n",
       "37. (i)\n",
       "    core type: ExprTuple\n",
       "    sub-expressions: 40\n",
       "38. Real\n",
       "    core type: Literal\n",
       "    sub-expressions: \n",
       "39. {1 .. 3}\n",
       "    core type: Operation\n",
       "    operator: 41\n",
       "    operands: 42\n",
       "40. i\n",
       "    core type: Variable\n",
       "    sub-expressions: \n",
       "41. Interval\n",
       "    core type: Literal\n",
       "    sub-expressions: \n",
       "42. (1, 3)\n",
       "    core type: ExprTuple\n",
       "    sub-expressions: 43, 44\n",
       "43. 1\n",
       "    core type: Literal\n",
       "    sub-expressions: \n",
       "44. 3\n",
       "    core type: Literal\n",
       "    sub-expressions: "
      ]
     },
     "metadata": {},
     "output_type": "display_data"
    }
   ],
   "source": [
    "# display the expression information\n",
    "stored_expr.expr_info()"
   ]
  },
  {
   "cell_type": "code",
   "execution_count": null,
   "metadata": {},
   "outputs": [],
   "source": []
  }
 ],
 "metadata": {
  "kernelspec": {
   "display_name": "Python 3",
   "language": "python",
   "name": "python3"
  }
 },
 "nbformat": 4,
 "nbformat_minor": 0
}