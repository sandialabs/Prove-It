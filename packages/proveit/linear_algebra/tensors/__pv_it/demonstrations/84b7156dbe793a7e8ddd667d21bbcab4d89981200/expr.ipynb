{
 "cells": [
  {
   "cell_type": "markdown",
   "metadata": {},
   "source": [
    "Expression of type <a class=\"ProveItLink\" href=\"../../../../../../../doc/html/api/proveit.ExprTuple.html\">ExprTuple</a>\n",
    "=======================\n",
    "# from the theory of <a class=\"ProveItLink\" href=\"../../../_theory_nbs_/theory.ipynb\">proveit.linear_algebra.tensors</a>"
   ]
  },
  {
   "cell_type": "code",
   "execution_count": 1,
   "metadata": {},
   "outputs": [],
   "source": [
    "import proveit\n",
    "# Automation is not needed when building an expression:\n",
    "proveit.defaults.automation = False # This will speed things up.\n",
    "proveit.defaults.inline_pngs = False # Makes files smaller.\n",
    "%load_expr # Load the stored expression as 'stored_expr'\n",
    "# import Expression classes needed to build the expression\n",
    "from proveit import ExprTuple, fi, i, y\n",
    "from proveit.linear_algebra import TensorProd, VecSum\n",
    "from proveit.logic import CartExp, Forall, InSet\n",
    "from proveit.numbers import Interval, Real, four, three, two"
   ]
  },
  {
   "cell_type": "code",
   "execution_count": 2,
   "metadata": {},
   "outputs": [
    {
     "data": {
      "text/html": [
       "<strong id=\"expr\">expr:</strong> <a class=\"ProveItLink\" href=\"expr.ipynb\"><img src=\"expr.png\" style=\"display:inline;vertical-align:middle;\" /></a><br>"
      ],
      "text/plain": [
       "<IPython.core.display.HTML object>"
      ]
     },
     "metadata": {},
     "output_type": "display_data"
    }
   ],
   "source": [
    "# build up the expression from sub-expressions\n",
    "sub_expr1 = [i]\n",
    "sub_expr2 = CartExp(Real, three)\n",
    "sub_expr3 = Interval(two, four)\n",
    "sub_expr4 = TensorProd(y, fi)\n",
    "sub_expr5 = TensorProd(sub_expr2, sub_expr2)\n",
    "expr = ExprTuple(Forall(instance_param_or_params = sub_expr1, instance_expr = InSet(sub_expr4, sub_expr5), domain = sub_expr3), InSet(VecSum(index_or_indices = sub_expr1, summand = sub_expr4, domain = sub_expr3), sub_expr5))"
   ]
  },
  {
   "cell_type": "code",
   "execution_count": 3,
   "metadata": {},
   "outputs": [
    {
     "name": "stdout",
     "output_type": "stream",
     "text": [
      "Passed sanity check: expr matches stored_expr\n"
     ]
    }
   ],
   "source": [
    "# check that the built expression is the same as the stored expression\n",
    "assert expr == stored_expr\n",
    "assert expr._style_id == stored_expr._style_id\n",
    "print(\"Passed sanity check: expr matches stored_expr\")"
   ]
  },
  {
   "cell_type": "code",
   "execution_count": 4,
   "metadata": {},
   "outputs": [
    {
     "name": "stdout",
     "output_type": "stream",
     "text": [
      "\\left(\\forall_{i \\in \\{2~\\ldotp \\ldotp~4\\}}~\\left(\\left(y {\\otimes} f\\left(i\\right)\\right) \\in \\left(\\mathbb{R}^{3} {\\otimes} \\mathbb{R}^{3}\\right)\\right), \\left(\\sum_{i=2}^{4} \\left(y {\\otimes} f\\left(i\\right)\\right)\\right) \\in \\left(\\mathbb{R}^{3} {\\otimes} \\mathbb{R}^{3}\\right)\\right)\n"
     ]
    }
   ],
   "source": [
    "# Show the LaTeX representation of the expression for convenience if you need it.\n",
    "print(stored_expr.latex())"
   ]
  },
  {
   "cell_type": "code",
   "execution_count": 5,
   "metadata": {},
   "outputs": [
    {
     "data": {
      "text/html": [
       "<table>\n",
       "<tr><th>name</th><th>description</th><th>default</th><th>current value</th><th>related methods</th></tr><tr><td>wrap_positions</td><td>position(s) at which wrapping is to occur; 'n' is after the nth comma.</td><td>()</td><td>()</td><td>('with_wrapping_at',)</td></tr>\n",
       "<tr><td>justification</td><td>if any wrap positions are set, justify to the 'left', 'center', or 'right'</td><td>left</td><td>left</td><td>('with_justification',)</td></tr>\n",
       "</table>\n"
      ],
      "text/plain": [
       "style name: wrap_positions\n",
       "description: position(s) at which wrapping is to occur; 'n' is after the nth comma.\n",
       "default: ()\n",
       "current value: ()\n",
       "related methods: ('with_wrapping_at',)\n",
       "style name: justification\n",
       "description: if any wrap positions are set, justify to the 'left', 'center', or 'right'\n",
       "default: left\n",
       "current value: left\n",
       "related methods: ('with_justification',)"
      ]
     },
     "metadata": {},
     "output_type": "display_data"
    }
   ],
   "source": [
    "stored_expr.style_options()"
   ]
  },
  {
   "cell_type": "code",
   "execution_count": 6,
   "metadata": {},
   "outputs": [
    {
     "data": {
      "text/html": [
       "<table><tr><th>&nbsp;</th><th>core type</th><th>sub-expressions</th><th>expression</th></tr>\n",
       "<tr><td>0</td><td>ExprTuple</td><td>1, 2</td><td><a class=\"ProveItLink\" href=\"expr.ipynb\"><img src=\"expr.png\" style=\"display:inline;vertical-align:middle;\" /></a></td></tr>\n",
       "<tr><td>1</td><td>Operation</td><td>operator:&nbsp;3<br>operand:&nbsp;6<br></td><td><a class=\"ProveItLink\" href=\"../e8f6dc2c1fa39ac55ebd384a53dc4a4355f4f76b0/expr.ipynb\"><img src=\"../e8f6dc2c1fa39ac55ebd384a53dc4a4355f4f76b0/expr.png\" style=\"display:inline;vertical-align:middle;\" /></a></td></tr>\n",
       "<tr><td>2</td><td>Operation</td><td>operator:&nbsp;21<br>operands:&nbsp;5<br></td><td><a class=\"ProveItLink\" href=\"../36f0f4798e3e0d91b1e023639573f5cb2b7cbc0d0/expr.ipynb\"><img src=\"../36f0f4798e3e0d91b1e023639573f5cb2b7cbc0d0/expr.png\" style=\"display:inline;vertical-align:middle;\" /></a></td></tr>\n",
       "<tr><td>3</td><td>Literal</td><td></td><td><a class=\"ProveItLink\" href=\"../../../../../logic/booleans/quantification/universality/__pv_it/common/083d2baa0b8ecab1d230f9ec29a15aa1355809fb0/expr.ipynb\"><img src=\"../../../../../logic/booleans/quantification/universality/__pv_it/common/083d2baa0b8ecab1d230f9ec29a15aa1355809fb0/expr.png\" style=\"display:inline;vertical-align:middle;\" /></a></td></tr>\n",
       "<tr><td>4</td><td>ExprTuple</td><td>6</td><td><a class=\"ProveItLink\" href=\"../532d16c81012a4ef51cef12135f96fb94eaa13a60/expr.ipynb\"><img src=\"../532d16c81012a4ef51cef12135f96fb94eaa13a60/expr.png\" style=\"display:inline;vertical-align:middle;\" /></a></td></tr>\n",
       "<tr><td>5</td><td>ExprTuple</td><td>7, 15</td><td><a class=\"ProveItLink\" href=\"../7210896d7eaad7a8ba64d3bc084f1c411ee53d830/expr.ipynb\"><img src=\"../7210896d7eaad7a8ba64d3bc084f1c411ee53d830/expr.png\" style=\"display:inline;vertical-align:middle;\" /></a></td></tr>\n",
       "<tr><td>6</td><td>Lambda</td><td>parameter:&nbsp;35<br>body:&nbsp;8<br></td><td><a class=\"ProveItLink\" href=\"../cf936c9c9d1fb597642c6527fdc9d8a088d44b850/expr.ipynb\"><img src=\"../cf936c9c9d1fb597642c6527fdc9d8a088d44b850/expr.png\" style=\"display:inline;vertical-align:middle;\" /></a></td></tr>\n",
       "<tr><td>7</td><td>Operation</td><td>operator:&nbsp;9<br>operand:&nbsp;12<br></td><td><a class=\"ProveItLink\" href=\"../86717e5f6f897400a65777e883876bafa21baeb90/expr.ipynb\"><img src=\"../86717e5f6f897400a65777e883876bafa21baeb90/expr.png\" style=\"display:inline;vertical-align:middle;\" /></a></td></tr>\n",
       "<tr><td>8</td><td>Conditional</td><td>value:&nbsp;11<br>condition:&nbsp;17<br></td><td><a class=\"ProveItLink\" href=\"../262afdbebe07ed1c37bf661fca9b701c8e7e44960/expr.ipynb\"><img src=\"../262afdbebe07ed1c37bf661fca9b701c8e7e44960/expr.png\" style=\"display:inline;vertical-align:middle;\" /></a></td></tr>\n",
       "<tr><td>9</td><td>Literal</td><td></td><td><a class=\"ProveItLink\" href=\"../../../../addition/__pv_it/common/62f73c830c62efb87627ede5678f282081cd0ce20/expr.ipynb\"><img src=\"../../../../addition/__pv_it/common/62f73c830c62efb87627ede5678f282081cd0ce20/expr.png\" style=\"display:inline;vertical-align:middle;\" /></a></td></tr>\n",
       "<tr><td>10</td><td>ExprTuple</td><td>12</td><td><a class=\"ProveItLink\" href=\"../84ca40fe6ae5565cd1ba63a9b47ffd299993dacc0/expr.ipynb\"><img src=\"../84ca40fe6ae5565cd1ba63a9b47ffd299993dacc0/expr.png\" style=\"display:inline;vertical-align:middle;\" /></a></td></tr>\n",
       "<tr><td>11</td><td>Operation</td><td>operator:&nbsp;21<br>operands:&nbsp;13<br></td><td><a class=\"ProveItLink\" href=\"../f300ea1ba0954be8e4d2d410ccb8765162f516350/expr.ipynb\"><img src=\"../f300ea1ba0954be8e4d2d410ccb8765162f516350/expr.png\" style=\"display:inline;vertical-align:middle;\" /></a></td></tr>\n",
       "<tr><td>12</td><td>Lambda</td><td>parameter:&nbsp;35<br>body:&nbsp;14<br></td><td><a class=\"ProveItLink\" href=\"../f0fcb15de3d79ea9b989a80070d13473b705aa920/expr.ipynb\"><img src=\"../f0fcb15de3d79ea9b989a80070d13473b705aa920/expr.png\" style=\"display:inline;vertical-align:middle;\" /></a></td></tr>\n",
       "<tr><td>13</td><td>ExprTuple</td><td>16, 15</td><td><a class=\"ProveItLink\" href=\"../2af08f149b46a5d903e19312039068b836a105110/expr.ipynb\"><img src=\"../2af08f149b46a5d903e19312039068b836a105110/expr.png\" style=\"display:inline;vertical-align:middle;\" /></a></td></tr>\n",
       "<tr><td>14</td><td>Conditional</td><td>value:&nbsp;16<br>condition:&nbsp;17<br></td><td><a class=\"ProveItLink\" href=\"../83e4b6d622e5d12c255849a971355cfe72eaa98b0/expr.ipynb\"><img src=\"../83e4b6d622e5d12c255849a971355cfe72eaa98b0/expr.png\" style=\"display:inline;vertical-align:middle;\" /></a></td></tr>\n",
       "<tr><td>15</td><td>Operation</td><td>operator:&nbsp;19<br>operands:&nbsp;18<br></td><td><a class=\"ProveItLink\" href=\"../7f1894dcc4441cda3d4a0c159b7c0936c4619c9a0/expr.ipynb\"><img src=\"../7f1894dcc4441cda3d4a0c159b7c0936c4619c9a0/expr.png\" style=\"display:inline;vertical-align:middle;\" /></a></td></tr>\n",
       "<tr><td>16</td><td>Operation</td><td>operator:&nbsp;19<br>operands:&nbsp;20<br></td><td><a class=\"ProveItLink\" href=\"../aa5830927e009f1be65760f1d1d361f78536cddb0/expr.ipynb\"><img src=\"../aa5830927e009f1be65760f1d1d361f78536cddb0/expr.png\" style=\"display:inline;vertical-align:middle;\" /></a></td></tr>\n",
       "<tr><td>17</td><td>Operation</td><td>operator:&nbsp;21<br>operands:&nbsp;22<br></td><td><a class=\"ProveItLink\" href=\"../1dcee5d42a9a39499a39768abf9beb5a120321210/expr.ipynb\"><img src=\"../1dcee5d42a9a39499a39768abf9beb5a120321210/expr.png\" style=\"display:inline;vertical-align:middle;\" /></a></td></tr>\n",
       "<tr><td>18</td><td>ExprTuple</td><td>23, 23</td><td><a class=\"ProveItLink\" href=\"../9fee536ba5afe598338bcfd5648428e5c5fea6440/expr.ipynb\"><img src=\"../9fee536ba5afe598338bcfd5648428e5c5fea6440/expr.png\" style=\"display:inline;vertical-align:middle;\" /></a></td></tr>\n",
       "<tr><td>19</td><td>Literal</td><td></td><td><a class=\"ProveItLink\" href=\"../../common/7fa25b05174babb4710be62d63ebd43f68aa2fec0/expr.ipynb\"><img src=\"../../common/7fa25b05174babb4710be62d63ebd43f68aa2fec0/expr.png\" style=\"display:inline;vertical-align:middle;\" /></a></td></tr>\n",
       "<tr><td>20</td><td>ExprTuple</td><td>24, 25</td><td><a class=\"ProveItLink\" href=\"../1ae81890faf60a3f20ea50dca9ed03417c5a22680/expr.ipynb\"><img src=\"../1ae81890faf60a3f20ea50dca9ed03417c5a22680/expr.png\" style=\"display:inline;vertical-align:middle;\" /></a></td></tr>\n",
       "<tr><td>21</td><td>Literal</td><td></td><td><a class=\"ProveItLink\" href=\"../../../../../logic/sets/membership/__pv_it/common/477487d8796864d23d5810f83761435f25167f690/expr.ipynb\"><img src=\"../../../../../logic/sets/membership/__pv_it/common/477487d8796864d23d5810f83761435f25167f690/expr.png\" style=\"display:inline;vertical-align:middle;\" /></a></td></tr>\n",
       "<tr><td>22</td><td>ExprTuple</td><td>35, 26</td><td><a class=\"ProveItLink\" href=\"../28d2afb06ec85f8673a332040f8f84c54020e9590/expr.ipynb\"><img src=\"../28d2afb06ec85f8673a332040f8f84c54020e9590/expr.png\" style=\"display:inline;vertical-align:middle;\" /></a></td></tr>\n",
       "<tr><td>23</td><td>Operation</td><td>operator:&nbsp;27<br>operands:&nbsp;28<br></td><td><a class=\"ProveItLink\" href=\"../b09d232dc6c8bd1b305d141dd063505555f74fe50/expr.ipynb\"><img src=\"../b09d232dc6c8bd1b305d141dd063505555f74fe50/expr.png\" style=\"display:inline;vertical-align:middle;\" /></a></td></tr>\n",
       "<tr><td>24</td><td>Variable</td><td></td><td><a class=\"ProveItLink\" href=\"../../../../../__pv_it/common/ff7dba4ef0bbe791ab573bf2d9c220a304399ac80/expr.ipynb\"><img src=\"../../../../../__pv_it/common/ff7dba4ef0bbe791ab573bf2d9c220a304399ac80/expr.png\" style=\"display:inline;vertical-align:middle;\" /></a></td></tr>\n",
       "<tr><td>25</td><td>Operation</td><td>operator:&nbsp;29<br>operand:&nbsp;35<br></td><td><a class=\"ProveItLink\" href=\"../../../../../__pv_it/common/68d279ba17eb875d9f466a293b0b7fcc3ad8621e0/expr.ipynb\"><img src=\"../../../../../__pv_it/common/68d279ba17eb875d9f466a293b0b7fcc3ad8621e0/expr.png\" style=\"display:inline;vertical-align:middle;\" /></a></td></tr>\n",
       "<tr><td>26</td><td>Operation</td><td>operator:&nbsp;31<br>operands:&nbsp;32<br></td><td><a class=\"ProveItLink\" href=\"../d52b7b54dc47ec2badf6859f9847ff1f1b35483a0/expr.ipynb\"><img src=\"../d52b7b54dc47ec2badf6859f9847ff1f1b35483a0/expr.png\" style=\"display:inline;vertical-align:middle;\" /></a></td></tr>\n",
       "<tr><td>27</td><td>Literal</td><td></td><td><a class=\"ProveItLink\" href=\"../../../../../logic/sets/cartesian_products/__pv_it/common/7d20d67ddfbd94ad12efc9670c0d16a295b8ec1a0/expr.ipynb\"><img src=\"../../../../../logic/sets/cartesian_products/__pv_it/common/7d20d67ddfbd94ad12efc9670c0d16a295b8ec1a0/expr.png\" style=\"display:inline;vertical-align:middle;\" /></a></td></tr>\n",
       "<tr><td>28</td><td>ExprTuple</td><td>33, 34</td><td><a class=\"ProveItLink\" href=\"../7153ff9c6d56816696f64f5d4ee2610a6f3959e70/expr.ipynb\"><img src=\"../7153ff9c6d56816696f64f5d4ee2610a6f3959e70/expr.png\" style=\"display:inline;vertical-align:middle;\" /></a></td></tr>\n",
       "<tr><td>29</td><td>Variable</td><td></td><td><a class=\"ProveItLink\" href=\"../../../../../__pv_it/common/01b6dbb444a31fc38af4c2379badef6c75b363710/expr.ipynb\"><img src=\"../../../../../__pv_it/common/01b6dbb444a31fc38af4c2379badef6c75b363710/expr.png\" style=\"display:inline;vertical-align:middle;\" /></a></td></tr>\n",
       "<tr><td>30</td><td>ExprTuple</td><td>35</td><td><a class=\"ProveItLink\" href=\"../../../../../__pv_it/common/3b7d7ace2ced0a8261ea4d18d03aaf49e434d69d0/expr.ipynb\"><img src=\"../../../../../__pv_it/common/3b7d7ace2ced0a8261ea4d18d03aaf49e434d69d0/expr.png\" style=\"display:inline;vertical-align:middle;\" /></a></td></tr>\n",
       "<tr><td>31</td><td>Literal</td><td></td><td><a class=\"ProveItLink\" href=\"../../../../../numbers/number_sets/integers/__pv_it/common/92f3a0a77e3c3ea8e4a5c8674edadc54e4f57d550/expr.ipynb\"><img src=\"../../../../../numbers/number_sets/integers/__pv_it/common/92f3a0a77e3c3ea8e4a5c8674edadc54e4f57d550/expr.png\" style=\"display:inline;vertical-align:middle;\" /></a></td></tr>\n",
       "<tr><td>32</td><td>ExprTuple</td><td>36, 37</td><td><a class=\"ProveItLink\" href=\"../4dcdc5026f80b9604cf319714818529aceda286b0/expr.ipynb\"><img src=\"../4dcdc5026f80b9604cf319714818529aceda286b0/expr.png\" style=\"display:inline;vertical-align:middle;\" /></a></td></tr>\n",
       "<tr><td>33</td><td>Literal</td><td></td><td><a class=\"ProveItLink\" href=\"../../../../../numbers/number_sets/real_numbers/__pv_it/common/93cac87a1a47e613f7a83b23ef7891599a1a4cca0/expr.ipynb\"><img src=\"../../../../../numbers/number_sets/real_numbers/__pv_it/common/93cac87a1a47e613f7a83b23ef7891599a1a4cca0/expr.png\" style=\"display:inline;vertical-align:middle;\" /></a></td></tr>\n",
       "<tr><td>34</td><td>Literal</td><td></td><td><a class=\"ProveItLink\" href=\"../../../../../numbers/numerals/__pv_it/common/1943b60945420e340d305780feff5c1aff2740ff0/expr.ipynb\"><img src=\"../../../../../numbers/numerals/__pv_it/common/1943b60945420e340d305780feff5c1aff2740ff0/expr.png\" style=\"display:inline;vertical-align:middle;\" /></a></td></tr>\n",
       "<tr><td>35</td><td>Variable</td><td></td><td><a class=\"ProveItLink\" href=\"../../../../../__pv_it/common/ae955345c83abf786c3aff8681cd5465beae262d0/expr.ipynb\"><img src=\"../../../../../__pv_it/common/ae955345c83abf786c3aff8681cd5465beae262d0/expr.png\" style=\"display:inline;vertical-align:middle;\" /></a></td></tr>\n",
       "<tr><td>36</td><td>Literal</td><td></td><td><a class=\"ProveItLink\" href=\"../../../../../numbers/numerals/__pv_it/common/af4aab8a07465db063742696e006d04670f30cf10/expr.ipynb\"><img src=\"../../../../../numbers/numerals/__pv_it/common/af4aab8a07465db063742696e006d04670f30cf10/expr.png\" style=\"display:inline;vertical-align:middle;\" /></a></td></tr>\n",
       "<tr><td>37</td><td>Literal</td><td></td><td><a class=\"ProveItLink\" href=\"../../../../../numbers/numerals/__pv_it/common/48a1d915c1e9490b9a94e5c77a208938d3ee20ce0/expr.ipynb\"><img src=\"../../../../../numbers/numerals/__pv_it/common/48a1d915c1e9490b9a94e5c77a208938d3ee20ce0/expr.png\" style=\"display:inline;vertical-align:middle;\" /></a></td></tr>\n",
       "</table>\n"
      ],
      "text/plain": [
       "0. (forall_{i in {2 .. 4}} ((y otimes f(i)) in (Real^{3} otimes Real^{3})), (Sum_{i=2}^{4} (y otimes f(i))) in (Real^{3} otimes Real^{3}))\n",
       "   core type: ExprTuple\n",
       "   sub-expressions: 1, 2\n",
       "1. forall_{i in {2 .. 4}} ((y otimes f(i)) in (Real^{3} otimes Real^{3}))\n",
       "   core type: Operation\n",
       "   operator: 3\n",
       "   operand: 6\n",
       "2. (Sum_{i=2}^{4} (y otimes f(i))) in (Real^{3} otimes Real^{3})\n",
       "   core type: Operation\n",
       "   operator: 21\n",
       "   operands: 5\n",
       "3. forall\n",
       "   core type: Literal\n",
       "   sub-expressions: \n",
       "4. (i -> {(y otimes f(i)) in (Real^{3} otimes Real^{3}) if i in {2 .. 4}.)\n",
       "   core type: ExprTuple\n",
       "   sub-expressions: 6\n",
       "5. (Sum_{i=2}^{4} (y otimes f(i)), Real^{3} otimes Real^{3})\n",
       "   core type: ExprTuple\n",
       "   sub-expressions: 7, 15\n",
       "6. i -> {(y otimes f(i)) in (Real^{3} otimes Real^{3}) if i in {2 .. 4}.\n",
       "   core type: Lambda\n",
       "   parameter: 35\n",
       "   body: 8\n",
       "7. Sum_{i=2}^{4} (y otimes f(i))\n",
       "   core type: Operation\n",
       "   operator: 9\n",
       "   operand: 12\n",
       "8. {(y otimes f(i)) in (Real^{3} otimes Real^{3}) if i in {2 .. 4}.\n",
       "   core type: Conditional\n",
       "   value: 11\n",
       "   condition: 17\n",
       "9. Sum\n",
       "   core type: Literal\n",
       "   sub-expressions: \n",
       "10. (i -> {y otimes f(i) if i in {2 .. 4}.)\n",
       "    core type: ExprTuple\n",
       "    sub-expressions: 12\n",
       "11. (y otimes f(i)) in (Real^{3} otimes Real^{3})\n",
       "    core type: Operation\n",
       "    operator: 21\n",
       "    operands: 13\n",
       "12. i -> {y otimes f(i) if i in {2 .. 4}.\n",
       "    core type: Lambda\n",
       "    parameter: 35\n",
       "    body: 14\n",
       "13. (y otimes f(i), Real^{3} otimes Real^{3})\n",
       "    core type: ExprTuple\n",
       "    sub-expressions: 16, 15\n",
       "14. {y otimes f(i) if i in {2 .. 4}.\n",
       "    core type: Conditional\n",
       "    value: 16\n",
       "    condition: 17\n",
       "15. Real^{3} otimes Real^{3}\n",
       "    core type: Operation\n",
       "    operator: 19\n",
       "    operands: 18\n",
       "16. y otimes f(i)\n",
       "    core type: Operation\n",
       "    operator: 19\n",
       "    operands: 20\n",
       "17. i in {2 .. 4}\n",
       "    core type: Operation\n",
       "    operator: 21\n",
       "    operands: 22\n",
       "18. (Real^{3}, Real^{3})\n",
       "    core type: ExprTuple\n",
       "    sub-expressions: 23, 23\n",
       "19. otimes\n",
       "    core type: Literal\n",
       "    sub-expressions: \n",
       "20. (y, f(i))\n",
       "    core type: ExprTuple\n",
       "    sub-expressions: 24, 25\n",
       "21. in\n",
       "    core type: Literal\n",
       "    sub-expressions: \n",
       "22. (i, {2 .. 4})\n",
       "    core type: ExprTuple\n",
       "    sub-expressions: 35, 26\n",
       "23. Real^{3}\n",
       "    core type: Operation\n",
       "    operator: 27\n",
       "    operands: 28\n",
       "24. y\n",
       "    core type: Variable\n",
       "    sub-expressions: \n",
       "25. f(i)\n",
       "    core type: Operation\n",
       "    operator: 29\n",
       "    operand: 35\n",
       "26. {2 .. 4}\n",
       "    core type: Operation\n",
       "    operator: 31\n",
       "    operands: 32\n",
       "27. CartExp\n",
       "    core type: Literal\n",
       "    sub-expressions: \n",
       "28. (Real, 3)\n",
       "    core type: ExprTuple\n",
       "    sub-expressions: 33, 34\n",
       "29. f\n",
       "    core type: Variable\n",
       "    sub-expressions: \n",
       "30. (i)\n",
       "    core type: ExprTuple\n",
       "    sub-expressions: 35\n",
       "31. Interval\n",
       "    core type: Literal\n",
       "    sub-expressions: \n",
       "32. (2, 4)\n",
       "    core type: ExprTuple\n",
       "    sub-expressions: 36, 37\n",
       "33. Real\n",
       "    core type: Literal\n",
       "    sub-expressions: \n",
       "34. 3\n",
       "    core type: Literal\n",
       "    sub-expressions: \n",
       "35. i\n",
       "    core type: Variable\n",
       "    sub-expressions: \n",
       "36. 2\n",
       "    core type: Literal\n",
       "    sub-expressions: \n",
       "37. 4\n",
       "    core type: Literal\n",
       "    sub-expressions: "
      ]
     },
     "metadata": {},
     "output_type": "display_data"
    }
   ],
   "source": [
    "# display the expression information\n",
    "stored_expr.expr_info()"
   ]
  },
  {
   "cell_type": "code",
   "execution_count": null,
   "metadata": {},
   "outputs": [],
   "source": []
  }
 ],
 "metadata": {
  "kernelspec": {
   "display_name": "Python 3",
   "language": "python",
   "name": "python3"
  }
 },
 "nbformat": 4,
 "nbformat_minor": 0
}