{
 "cells": [
  {
   "cell_type": "markdown",
   "metadata": {},
   "source": [
    "Expression of type <a class=\"ProveItLink\" href=\"../../../../../../../doc/html/api/proveit.ExprTuple.html\">ExprTuple</a>\n",
    "=======================\n",
    "# from the theory of <a class=\"ProveItLink\" href=\"../../../_theory_nbs_/theory.ipynb\">proveit.linear_algebra.tensors</a>"
   ]
  },
  {
   "cell_type": "code",
   "execution_count": 1,
   "metadata": {},
   "outputs": [],
   "source": [
    "import proveit\n",
    "# Automation is not needed when building an expression:\n",
    "proveit.defaults.automation = False # This will speed things up.\n",
    "proveit.defaults.inline_pngs = False # Makes files smaller.\n",
    "%load_expr # Load the stored expression as 'stored_expr'\n",
    "# import Expression classes needed to build the expression\n",
    "from proveit import Conditional, ExprTuple, Lambda, beta, gamma, i, x, y\n",
    "from proveit.linear_algebra import ScalarMult, TensorProd\n",
    "from proveit.logic import Equals, Forall, InSet\n",
    "from proveit.numbers import Add, Interval, Mult, four, one, two"
   ]
  },
  {
   "cell_type": "code",
   "execution_count": 2,
   "metadata": {},
   "outputs": [
    {
     "data": {
      "text/html": [
       "<strong id=\"expr\">expr:</strong> <a class=\"ProveItLink\" href=\"expr.ipynb\"><img src=\"expr.png\" style=\"display:inline;vertical-align:middle;\" /></a><br>"
      ],
      "text/plain": [
       "<IPython.core.display.HTML object>"
      ]
     },
     "metadata": {},
     "output_type": "display_data"
    }
   ],
   "source": [
    "# build up the expression from sub-expressions\n",
    "sub_expr1 = Add(i, one)\n",
    "sub_expr2 = TensorProd(x, y)\n",
    "sub_expr3 = Interval(two, four)\n",
    "sub_expr4 = InSet(i, sub_expr3)\n",
    "sub_expr5 = ScalarMult(Mult(gamma, i, beta, sub_expr1), sub_expr2)\n",
    "sub_expr6 = ScalarMult(ScalarMult(gamma, i), ScalarMult(beta, ScalarMult(sub_expr1, sub_expr2)))\n",
    "expr = ExprTuple(Forall(instance_param_or_params = [i], instance_expr = Equals(sub_expr6, sub_expr5), domain = sub_expr3), Equals(Lambda(i, Conditional(sub_expr6, sub_expr4)), Lambda(i, Conditional(sub_expr5, sub_expr4))).with_wrapping_at(2))"
   ]
  },
  {
   "cell_type": "code",
   "execution_count": 3,
   "metadata": {},
   "outputs": [
    {
     "name": "stdout",
     "output_type": "stream",
     "text": [
      "Passed sanity check: expr matches stored_expr\n"
     ]
    }
   ],
   "source": [
    "# check that the built expression is the same as the stored expression\n",
    "assert expr == stored_expr\n",
    "assert expr._style_id == stored_expr._style_id\n",
    "print(\"Passed sanity check: expr matches stored_expr\")"
   ]
  },
  {
   "cell_type": "code",
   "execution_count": 4,
   "metadata": {},
   "outputs": [
    {
     "name": "stdout",
     "output_type": "stream",
     "text": [
      "\\left(\\forall_{i \\in \\{2~\\ldotp \\ldotp~4\\}}~\\left(\\left(\\left(\\gamma \\cdot i\\right) \\cdot \\left(\\beta \\cdot \\left(\\left(i + 1\\right) \\cdot \\left(x {\\otimes} y\\right)\\right)\\right)\\right) = \\left(\\left(\\gamma \\cdot i \\cdot \\beta \\cdot \\left(i + 1\\right)\\right) \\cdot \\left(x {\\otimes} y\\right)\\right)\\right), \\begin{array}{c} \\begin{array}{l} \\left[i \\mapsto \\left\\{\\left(\\gamma \\cdot i\\right) \\cdot \\left(\\beta \\cdot \\left(\\left(i + 1\\right) \\cdot \\left(x {\\otimes} y\\right)\\right)\\right) \\textrm{ if } i \\in \\{2~\\ldotp \\ldotp~4\\}\\right..\\right] =  \\\\ \\left[i \\mapsto \\left\\{\\left(\\gamma \\cdot i \\cdot \\beta \\cdot \\left(i + 1\\right)\\right) \\cdot \\left(x {\\otimes} y\\right) \\textrm{ if } i \\in \\{2~\\ldotp \\ldotp~4\\}\\right..\\right] \\end{array} \\end{array}\\right)\n"
     ]
    }
   ],
   "source": [
    "# Show the LaTeX representation of the expression for convenience if you need it.\n",
    "print(stored_expr.latex())"
   ]
  },
  {
   "cell_type": "code",
   "execution_count": 5,
   "metadata": {},
   "outputs": [
    {
     "data": {
      "text/html": [
       "<table>\n",
       "<tr><th>name</th><th>description</th><th>default</th><th>current value</th><th>related methods</th></tr><tr><td>wrap_positions</td><td>position(s) at which wrapping is to occur; 'n' is after the nth comma.</td><td>()</td><td>()</td><td>('with_wrapping_at',)</td></tr>\n",
       "<tr><td>justification</td><td>if any wrap positions are set, justify to the 'left', 'center', or 'right'</td><td>left</td><td>left</td><td>('with_justification',)</td></tr>\n",
       "</table>\n"
      ],
      "text/plain": [
       "style name: wrap_positions\n",
       "description: position(s) at which wrapping is to occur; 'n' is after the nth comma.\n",
       "default: ()\n",
       "current value: ()\n",
       "related methods: ('with_wrapping_at',)\n",
       "style name: justification\n",
       "description: if any wrap positions are set, justify to the 'left', 'center', or 'right'\n",
       "default: left\n",
       "current value: left\n",
       "related methods: ('with_justification',)"
      ]
     },
     "metadata": {},
     "output_type": "display_data"
    }
   ],
   "source": [
    "stored_expr.style_options()"
   ]
  },
  {
   "cell_type": "code",
   "execution_count": 6,
   "metadata": {},
   "outputs": [
    {
     "data": {
      "text/html": [
       "<table><tr><th>&nbsp;</th><th>core type</th><th>sub-expressions</th><th>expression</th></tr>\n",
       "<tr><td>0</td><td>ExprTuple</td><td>1, 2</td><td><a class=\"ProveItLink\" href=\"expr.ipynb\"><img src=\"expr.png\" style=\"display:inline;vertical-align:middle;\" /></a></td></tr>\n",
       "<tr><td>1</td><td>Operation</td><td>operator:&nbsp;3<br>operand:&nbsp;6<br></td><td><a class=\"ProveItLink\" href=\"../76b1474bce689649438c07fc49824b71cf9111780/expr.ipynb\"><img src=\"../76b1474bce689649438c07fc49824b71cf9111780/expr.png\" style=\"display:inline;vertical-align:middle;\" /></a></td></tr>\n",
       "<tr><td>2</td><td>Operation</td><td>operator:&nbsp;15<br>operands:&nbsp;5<br></td><td><a class=\"ProveItLink\" href=\"../cb7d5b88c27a668916707b0cd1ae63b57994ae290/expr.ipynb\"><img src=\"../cb7d5b88c27a668916707b0cd1ae63b57994ae290/expr.png\" style=\"display:inline;vertical-align:middle;\" /></a></td></tr>\n",
       "<tr><td>3</td><td>Literal</td><td></td><td><a class=\"ProveItLink\" href=\"../../../../../logic/booleans/quantification/universality/__pv_it/common/083d2baa0b8ecab1d230f9ec29a15aa1355809fb0/expr.ipynb\"><img src=\"../../../../../logic/booleans/quantification/universality/__pv_it/common/083d2baa0b8ecab1d230f9ec29a15aa1355809fb0/expr.png\" style=\"display:inline;vertical-align:middle;\" /></a></td></tr>\n",
       "<tr><td>4</td><td>ExprTuple</td><td>6</td><td><a class=\"ProveItLink\" href=\"../9b43be915a3ddacc25b9164b54eecccf91cd17420/expr.ipynb\"><img src=\"../9b43be915a3ddacc25b9164b54eecccf91cd17420/expr.png\" style=\"display:inline;vertical-align:middle;\" /></a></td></tr>\n",
       "<tr><td>5</td><td>ExprTuple</td><td>7, 8</td><td><a class=\"ProveItLink\" href=\"../cc81aa7f1c0d19261f2bb97d5f6c1012a1443b730/expr.ipynb\"><img src=\"../cc81aa7f1c0d19261f2bb97d5f6c1012a1443b730/expr.png\" style=\"display:inline;vertical-align:middle;\" /></a></td></tr>\n",
       "<tr><td>6</td><td>Lambda</td><td>parameter:&nbsp;46<br>body:&nbsp;9<br></td><td><a class=\"ProveItLink\" href=\"../a97518b19cd28a535a11bf489b2e8e6c700db8df0/expr.ipynb\"><img src=\"../a97518b19cd28a535a11bf489b2e8e6c700db8df0/expr.png\" style=\"display:inline;vertical-align:middle;\" /></a></td></tr>\n",
       "<tr><td>7</td><td>Lambda</td><td>parameter:&nbsp;46<br>body:&nbsp;10<br></td><td><a class=\"ProveItLink\" href=\"../c5590e5e0cb02298714a446f628d38a98846737c0/expr.ipynb\"><img src=\"../c5590e5e0cb02298714a446f628d38a98846737c0/expr.png\" style=\"display:inline;vertical-align:middle;\" /></a></td></tr>\n",
       "<tr><td>8</td><td>Lambda</td><td>parameter:&nbsp;46<br>body:&nbsp;12<br></td><td><a class=\"ProveItLink\" href=\"../ea795571de3e8e6e2b0c3e3dd5a6f37b4d1d82400/expr.ipynb\"><img src=\"../ea795571de3e8e6e2b0c3e3dd5a6f37b4d1d82400/expr.png\" style=\"display:inline;vertical-align:middle;\" /></a></td></tr>\n",
       "<tr><td>9</td><td>Conditional</td><td>value:&nbsp;13<br>condition:&nbsp;14<br></td><td><a class=\"ProveItLink\" href=\"../845d380b786e5ed2a77094385a4eb63bd56aa0f90/expr.ipynb\"><img src=\"../845d380b786e5ed2a77094385a4eb63bd56aa0f90/expr.png\" style=\"display:inline;vertical-align:middle;\" /></a></td></tr>\n",
       "<tr><td>10</td><td>Conditional</td><td>value:&nbsp;19<br>condition:&nbsp;14<br></td><td><a class=\"ProveItLink\" href=\"../b46fd143a9d5094b61d652e59cf42584bb0e7ba90/expr.ipynb\"><img src=\"../b46fd143a9d5094b61d652e59cf42584bb0e7ba90/expr.png\" style=\"display:inline;vertical-align:middle;\" /></a></td></tr>\n",
       "<tr><td>11</td><td>ExprTuple</td><td>46</td><td><a class=\"ProveItLink\" href=\"../../../../../__pv_it/common/3b7d7ace2ced0a8261ea4d18d03aaf49e434d69d0/expr.ipynb\"><img src=\"../../../../../__pv_it/common/3b7d7ace2ced0a8261ea4d18d03aaf49e434d69d0/expr.png\" style=\"display:inline;vertical-align:middle;\" /></a></td></tr>\n",
       "<tr><td>12</td><td>Conditional</td><td>value:&nbsp;20<br>condition:&nbsp;14<br></td><td><a class=\"ProveItLink\" href=\"../dbb70ea2b1d2cb9144d0440db3a51821e064598d0/expr.ipynb\"><img src=\"../dbb70ea2b1d2cb9144d0440db3a51821e064598d0/expr.png\" style=\"display:inline;vertical-align:middle;\" /></a></td></tr>\n",
       "<tr><td>13</td><td>Operation</td><td>operator:&nbsp;15<br>operands:&nbsp;16<br></td><td><a class=\"ProveItLink\" href=\"../15d3a2c9fcbe73ca44c7620f5aba9736e4cb81980/expr.ipynb\"><img src=\"../15d3a2c9fcbe73ca44c7620f5aba9736e4cb81980/expr.png\" style=\"display:inline;vertical-align:middle;\" /></a></td></tr>\n",
       "<tr><td>14</td><td>Operation</td><td>operator:&nbsp;17<br>operands:&nbsp;18<br></td><td><a class=\"ProveItLink\" href=\"../1dcee5d42a9a39499a39768abf9beb5a120321210/expr.ipynb\"><img src=\"../1dcee5d42a9a39499a39768abf9beb5a120321210/expr.png\" style=\"display:inline;vertical-align:middle;\" /></a></td></tr>\n",
       "<tr><td>15</td><td>Literal</td><td></td><td><a class=\"ProveItLink\" href=\"../../../../../logic/equality/__pv_it/common/fb96dc12b2aa8801dda64d0132b396c63d1502bb0/expr.ipynb\"><img src=\"../../../../../logic/equality/__pv_it/common/fb96dc12b2aa8801dda64d0132b396c63d1502bb0/expr.png\" style=\"display:inline;vertical-align:middle;\" /></a></td></tr>\n",
       "<tr><td>16</td><td>ExprTuple</td><td>19, 20</td><td><a class=\"ProveItLink\" href=\"../3c8be83f70adcc2d3280dafee7d477341bdd8a4e0/expr.ipynb\"><img src=\"../3c8be83f70adcc2d3280dafee7d477341bdd8a4e0/expr.png\" style=\"display:inline;vertical-align:middle;\" /></a></td></tr>\n",
       "<tr><td>17</td><td>Literal</td><td></td><td><a class=\"ProveItLink\" href=\"../../../../../logic/sets/membership/__pv_it/common/477487d8796864d23d5810f83761435f25167f690/expr.ipynb\"><img src=\"../../../../../logic/sets/membership/__pv_it/common/477487d8796864d23d5810f83761435f25167f690/expr.png\" style=\"display:inline;vertical-align:middle;\" /></a></td></tr>\n",
       "<tr><td>18</td><td>ExprTuple</td><td>46, 21</td><td><a class=\"ProveItLink\" href=\"../28d2afb06ec85f8673a332040f8f84c54020e9590/expr.ipynb\"><img src=\"../28d2afb06ec85f8673a332040f8f84c54020e9590/expr.png\" style=\"display:inline;vertical-align:middle;\" /></a></td></tr>\n",
       "<tr><td>19</td><td>Operation</td><td>operator:&nbsp;38<br>operands:&nbsp;22<br></td><td><a class=\"ProveItLink\" href=\"../81d3089a74c93840be7c3b1084148565b21a19a10/expr.ipynb\"><img src=\"../81d3089a74c93840be7c3b1084148565b21a19a10/expr.png\" style=\"display:inline;vertical-align:middle;\" /></a></td></tr>\n",
       "<tr><td>20</td><td>Operation</td><td>operator:&nbsp;38<br>operands:&nbsp;23<br></td><td><a class=\"ProveItLink\" href=\"../b70ce7bd41c91eeab1a34f7de8a1011646f9bf780/expr.ipynb\"><img src=\"../b70ce7bd41c91eeab1a34f7de8a1011646f9bf780/expr.png\" style=\"display:inline;vertical-align:middle;\" /></a></td></tr>\n",
       "<tr><td>21</td><td>Operation</td><td>operator:&nbsp;24<br>operands:&nbsp;25<br></td><td><a class=\"ProveItLink\" href=\"../d52b7b54dc47ec2badf6859f9847ff1f1b35483a0/expr.ipynb\"><img src=\"../d52b7b54dc47ec2badf6859f9847ff1f1b35483a0/expr.png\" style=\"display:inline;vertical-align:middle;\" /></a></td></tr>\n",
       "<tr><td>22</td><td>ExprTuple</td><td>26, 27</td><td><a class=\"ProveItLink\" href=\"../2d04f60242af6070861aa71168dc131bb0f7e45d0/expr.ipynb\"><img src=\"../2d04f60242af6070861aa71168dc131bb0f7e45d0/expr.png\" style=\"display:inline;vertical-align:middle;\" /></a></td></tr>\n",
       "<tr><td>23</td><td>ExprTuple</td><td>28, 41</td><td><a class=\"ProveItLink\" href=\"../0e59714fc0193046e81e10c6c8933c7f98f0395b0/expr.ipynb\"><img src=\"../0e59714fc0193046e81e10c6c8933c7f98f0395b0/expr.png\" style=\"display:inline;vertical-align:middle;\" /></a></td></tr>\n",
       "<tr><td>24</td><td>Literal</td><td></td><td><a class=\"ProveItLink\" href=\"../../../../../numbers/number_sets/integers/__pv_it/common/92f3a0a77e3c3ea8e4a5c8674edadc54e4f57d550/expr.ipynb\"><img src=\"../../../../../numbers/number_sets/integers/__pv_it/common/92f3a0a77e3c3ea8e4a5c8674edadc54e4f57d550/expr.png\" style=\"display:inline;vertical-align:middle;\" /></a></td></tr>\n",
       "<tr><td>25</td><td>ExprTuple</td><td>29, 30</td><td><a class=\"ProveItLink\" href=\"../4dcdc5026f80b9604cf319714818529aceda286b0/expr.ipynb\"><img src=\"../4dcdc5026f80b9604cf319714818529aceda286b0/expr.png\" style=\"display:inline;vertical-align:middle;\" /></a></td></tr>\n",
       "<tr><td>26</td><td>Operation</td><td>operator:&nbsp;38<br>operands:&nbsp;31<br></td><td><a class=\"ProveItLink\" href=\"../454fe25dcdd094332bd13830e131fff52a2f50810/expr.ipynb\"><img src=\"../454fe25dcdd094332bd13830e131fff52a2f50810/expr.png\" style=\"display:inline;vertical-align:middle;\" /></a></td></tr>\n",
       "<tr><td>27</td><td>Operation</td><td>operator:&nbsp;38<br>operands:&nbsp;32<br></td><td><a class=\"ProveItLink\" href=\"../e62b58b48620d20f1c44baec098dfcd2202f64d60/expr.ipynb\"><img src=\"../e62b58b48620d20f1c44baec098dfcd2202f64d60/expr.png\" style=\"display:inline;vertical-align:middle;\" /></a></td></tr>\n",
       "<tr><td>28</td><td>Operation</td><td>operator:&nbsp;33<br>operands:&nbsp;34<br></td><td><a class=\"ProveItLink\" href=\"../f672e884ae48ce2ae04225c9de3a608e01723f010/expr.ipynb\"><img src=\"../f672e884ae48ce2ae04225c9de3a608e01723f010/expr.png\" style=\"display:inline;vertical-align:middle;\" /></a></td></tr>\n",
       "<tr><td>29</td><td>Literal</td><td></td><td><a class=\"ProveItLink\" href=\"../../../../../numbers/numerals/__pv_it/common/af4aab8a07465db063742696e006d04670f30cf10/expr.ipynb\"><img src=\"../../../../../numbers/numerals/__pv_it/common/af4aab8a07465db063742696e006d04670f30cf10/expr.png\" style=\"display:inline;vertical-align:middle;\" /></a></td></tr>\n",
       "<tr><td>30</td><td>Literal</td><td></td><td><a class=\"ProveItLink\" href=\"../../../../../numbers/numerals/__pv_it/common/48a1d915c1e9490b9a94e5c77a208938d3ee20ce0/expr.ipynb\"><img src=\"../../../../../numbers/numerals/__pv_it/common/48a1d915c1e9490b9a94e5c77a208938d3ee20ce0/expr.png\" style=\"display:inline;vertical-align:middle;\" /></a></td></tr>\n",
       "<tr><td>31</td><td>ExprTuple</td><td>36, 46</td><td><a class=\"ProveItLink\" href=\"../bee6b8d7119a5b42a091820303c6cc714b8336470/expr.ipynb\"><img src=\"../bee6b8d7119a5b42a091820303c6cc714b8336470/expr.png\" style=\"display:inline;vertical-align:middle;\" /></a></td></tr>\n",
       "<tr><td>32</td><td>ExprTuple</td><td>37, 35</td><td><a class=\"ProveItLink\" href=\"../506eae2a76b2dffa733d9737a6e0be55ca4869770/expr.ipynb\"><img src=\"../506eae2a76b2dffa733d9737a6e0be55ca4869770/expr.png\" style=\"display:inline;vertical-align:middle;\" /></a></td></tr>\n",
       "<tr><td>33</td><td>Literal</td><td></td><td><a class=\"ProveItLink\" href=\"../../../../../numbers/multiplication/__pv_it/common/ed719cef37831779c16481533a4d380a2f95ab270/expr.ipynb\"><img src=\"../../../../../numbers/multiplication/__pv_it/common/ed719cef37831779c16481533a4d380a2f95ab270/expr.png\" style=\"display:inline;vertical-align:middle;\" /></a></td></tr>\n",
       "<tr><td>34</td><td>ExprTuple</td><td>36, 46, 37, 40</td><td><a class=\"ProveItLink\" href=\"../462dad32ef3562f67415b88cb6830c9d84c8daa90/expr.ipynb\"><img src=\"../462dad32ef3562f67415b88cb6830c9d84c8daa90/expr.png\" style=\"display:inline;vertical-align:middle;\" /></a></td></tr>\n",
       "<tr><td>35</td><td>Operation</td><td>operator:&nbsp;38<br>operands:&nbsp;39<br></td><td><a class=\"ProveItLink\" href=\"../8982cb0de6ea0c6a4f9f36f5c04e6a6fa1d630730/expr.ipynb\"><img src=\"../8982cb0de6ea0c6a4f9f36f5c04e6a6fa1d630730/expr.png\" style=\"display:inline;vertical-align:middle;\" /></a></td></tr>\n",
       "<tr><td>36</td><td>Variable</td><td></td><td><a class=\"ProveItLink\" href=\"../../../../../__pv_it/common/d3b5a05ce48f7e4b8f946549743adda31d51d0e80/expr.ipynb\"><img src=\"../../../../../__pv_it/common/d3b5a05ce48f7e4b8f946549743adda31d51d0e80/expr.png\" style=\"display:inline;vertical-align:middle;\" /></a></td></tr>\n",
       "<tr><td>37</td><td>Variable</td><td></td><td><a class=\"ProveItLink\" href=\"../../../../../__pv_it/common/c713a5db2586f854a5051c95110df24af02bd7260/expr.ipynb\"><img src=\"../../../../../__pv_it/common/c713a5db2586f854a5051c95110df24af02bd7260/expr.png\" style=\"display:inline;vertical-align:middle;\" /></a></td></tr>\n",
       "<tr><td>38</td><td>Literal</td><td></td><td><a class=\"ProveItLink\" href=\"../../../../scalar_multiplication/__pv_it/common/1e364bd471e6a29fcd358dd2d9cd990a1e6fedd40/expr.ipynb\"><img src=\"../../../../scalar_multiplication/__pv_it/common/1e364bd471e6a29fcd358dd2d9cd990a1e6fedd40/expr.png\" style=\"display:inline;vertical-align:middle;\" /></a></td></tr>\n",
       "<tr><td>39</td><td>ExprTuple</td><td>40, 41</td><td><a class=\"ProveItLink\" href=\"../7aec4f73ee8947d1c3bbb100355644e71a2c51350/expr.ipynb\"><img src=\"../7aec4f73ee8947d1c3bbb100355644e71a2c51350/expr.png\" style=\"display:inline;vertical-align:middle;\" /></a></td></tr>\n",
       "<tr><td>40</td><td>Operation</td><td>operator:&nbsp;42<br>operands:&nbsp;43<br></td><td><a class=\"ProveItLink\" href=\"../a2e143af123f66da09e0988b76b1d4e48661786c0/expr.ipynb\"><img src=\"../a2e143af123f66da09e0988b76b1d4e48661786c0/expr.png\" style=\"display:inline;vertical-align:middle;\" /></a></td></tr>\n",
       "<tr><td>41</td><td>Operation</td><td>operator:&nbsp;44<br>operands:&nbsp;45<br></td><td><a class=\"ProveItLink\" href=\"../ffc5987ff2367c75c570016997d286dc9b72582b0/expr.ipynb\"><img src=\"../ffc5987ff2367c75c570016997d286dc9b72582b0/expr.png\" style=\"display:inline;vertical-align:middle;\" /></a></td></tr>\n",
       "<tr><td>42</td><td>Literal</td><td></td><td><a class=\"ProveItLink\" href=\"../../../../../numbers/addition/__pv_it/common/4b7effaab3619a1c2c38fe2dee8601df8ec714590/expr.ipynb\"><img src=\"../../../../../numbers/addition/__pv_it/common/4b7effaab3619a1c2c38fe2dee8601df8ec714590/expr.png\" style=\"display:inline;vertical-align:middle;\" /></a></td></tr>\n",
       "<tr><td>43</td><td>ExprTuple</td><td>46, 47</td><td><a class=\"ProveItLink\" href=\"../c89850952f9608f21aa2408d82ba7769fea41e400/expr.ipynb\"><img src=\"../c89850952f9608f21aa2408d82ba7769fea41e400/expr.png\" style=\"display:inline;vertical-align:middle;\" /></a></td></tr>\n",
       "<tr><td>44</td><td>Literal</td><td></td><td><a class=\"ProveItLink\" href=\"../../common/7fa25b05174babb4710be62d63ebd43f68aa2fec0/expr.ipynb\"><img src=\"../../common/7fa25b05174babb4710be62d63ebd43f68aa2fec0/expr.png\" style=\"display:inline;vertical-align:middle;\" /></a></td></tr>\n",
       "<tr><td>45</td><td>ExprTuple</td><td>48, 49</td><td><a class=\"ProveItLink\" href=\"../../../../../__pv_it/common/70b6dfe187a2382408546cc714e0c3bc5c3a48c90/expr.ipynb\"><img src=\"../../../../../__pv_it/common/70b6dfe187a2382408546cc714e0c3bc5c3a48c90/expr.png\" style=\"display:inline;vertical-align:middle;\" /></a></td></tr>\n",
       "<tr><td>46</td><td>Variable</td><td></td><td><a class=\"ProveItLink\" href=\"../../../../../__pv_it/common/ae955345c83abf786c3aff8681cd5465beae262d0/expr.ipynb\"><img src=\"../../../../../__pv_it/common/ae955345c83abf786c3aff8681cd5465beae262d0/expr.png\" style=\"display:inline;vertical-align:middle;\" /></a></td></tr>\n",
       "<tr><td>47</td><td>Literal</td><td></td><td><a class=\"ProveItLink\" href=\"../../../../../numbers/numerals/__pv_it/common/682157d4892d216d9e5626ed533aff9b56b9506e0/expr.ipynb\"><img src=\"../../../../../numbers/numerals/__pv_it/common/682157d4892d216d9e5626ed533aff9b56b9506e0/expr.png\" style=\"display:inline;vertical-align:middle;\" /></a></td></tr>\n",
       "<tr><td>48</td><td>Variable</td><td></td><td><a class=\"ProveItLink\" href=\"../../../../../__pv_it/common/a0d9d672aa5e272d907247690c152cc2c6daafb70/expr.ipynb\"><img src=\"../../../../../__pv_it/common/a0d9d672aa5e272d907247690c152cc2c6daafb70/expr.png\" style=\"display:inline;vertical-align:middle;\" /></a></td></tr>\n",
       "<tr><td>49</td><td>Variable</td><td></td><td><a class=\"ProveItLink\" href=\"../../../../../__pv_it/common/ff7dba4ef0bbe791ab573bf2d9c220a304399ac80/expr.ipynb\"><img src=\"../../../../../__pv_it/common/ff7dba4ef0bbe791ab573bf2d9c220a304399ac80/expr.png\" style=\"display:inline;vertical-align:middle;\" /></a></td></tr>\n",
       "</table>\n"
      ],
      "text/plain": [
       "0. (forall_{i in {2 .. 4}} (((gamma * i) * (beta * ((i + 1) * (x otimes y)))) = ((gamma * i * beta * (i + 1)) * (x otimes y))), [i -> {(gamma * i) * (beta * ((i + 1) * (x otimes y))) if i in {2 .. 4}.] =  \\\\ [i -> {(gamma * i * beta * (i + 1)) * (x otimes y) if i in {2 .. 4}.])\n",
       "   core type: ExprTuple\n",
       "   sub-expressions: 1, 2\n",
       "1. forall_{i in {2 .. 4}} (((gamma * i) * (beta * ((i + 1) * (x otimes y)))) = ((gamma * i * beta * (i + 1)) * (x otimes y)))\n",
       "   core type: Operation\n",
       "   operator: 3\n",
       "   operand: 6\n",
       "2. [i -> {(gamma * i) * (beta * ((i + 1) * (x otimes y))) if i in {2 .. 4}.] =  \\\\ [i -> {(gamma * i * beta * (i + 1)) * (x otimes y) if i in {2 .. 4}.]\n",
       "   core type: Operation\n",
       "   operator: 15\n",
       "   operands: 5\n",
       "3. forall\n",
       "   core type: Literal\n",
       "   sub-expressions: \n",
       "4. (i -> {((gamma * i) * (beta * ((i + 1) * (x otimes y)))) = ((gamma * i * beta * (i + 1)) * (x otimes y)) if i in {2 .. 4}.)\n",
       "   core type: ExprTuple\n",
       "   sub-expressions: 6\n",
       "5. (i -> {(gamma * i) * (beta * ((i + 1) * (x otimes y))) if i in {2 .. 4}., i -> {(gamma * i * beta * (i + 1)) * (x otimes y) if i in {2 .. 4}.)\n",
       "   core type: ExprTuple\n",
       "   sub-expressions: 7, 8\n",
       "6. i -> {((gamma * i) * (beta * ((i + 1) * (x otimes y)))) = ((gamma * i * beta * (i + 1)) * (x otimes y)) if i in {2 .. 4}.\n",
       "   core type: Lambda\n",
       "   parameter: 46\n",
       "   body: 9\n",
       "7. i -> {(gamma * i) * (beta * ((i + 1) * (x otimes y))) if i in {2 .. 4}.\n",
       "   core type: Lambda\n",
       "   parameter: 46\n",
       "   body: 10\n",
       "8. i -> {(gamma * i * beta * (i + 1)) * (x otimes y) if i in {2 .. 4}.\n",
       "   core type: Lambda\n",
       "   parameter: 46\n",
       "   body: 12\n",
       "9. {((gamma * i) * (beta * ((i + 1) * (x otimes y)))) = ((gamma * i * beta * (i + 1)) * (x otimes y)) if i in {2 .. 4}.\n",
       "   core type: Conditional\n",
       "   value: 13\n",
       "   condition: 14\n",
       "10. {(gamma * i) * (beta * ((i + 1) * (x otimes y))) if i in {2 .. 4}.\n",
       "    core type: Conditional\n",
       "    value: 19\n",
       "    condition: 14\n",
       "11. (i)\n",
       "    core type: ExprTuple\n",
       "    sub-expressions: 46\n",
       "12. {(gamma * i * beta * (i + 1)) * (x otimes y) if i in {2 .. 4}.\n",
       "    core type: Conditional\n",
       "    value: 20\n",
       "    condition: 14\n",
       "13. ((gamma * i) * (beta * ((i + 1) * (x otimes y)))) = ((gamma * i * beta * (i + 1)) * (x otimes y))\n",
       "    core type: Operation\n",
       "    operator: 15\n",
       "    operands: 16\n",
       "14. i in {2 .. 4}\n",
       "    core type: Operation\n",
       "    operator: 17\n",
       "    operands: 18\n",
       "15. =\n",
       "    core type: Literal\n",
       "    sub-expressions: \n",
       "16. ((gamma * i) * (beta * ((i + 1) * (x otimes y))), (gamma * i * beta * (i + 1)) * (x otimes y))\n",
       "    core type: ExprTuple\n",
       "    sub-expressions: 19, 20\n",
       "17. in\n",
       "    core type: Literal\n",
       "    sub-expressions: \n",
       "18. (i, {2 .. 4})\n",
       "    core type: ExprTuple\n",
       "    sub-expressions: 46, 21\n",
       "19. (gamma * i) * (beta * ((i + 1) * (x otimes y)))\n",
       "    core type: Operation\n",
       "    operator: 38\n",
       "    operands: 22\n",
       "20. (gamma * i * beta * (i + 1)) * (x otimes y)\n",
       "    core type: Operation\n",
       "    operator: 38\n",
       "    operands: 23\n",
       "21. {2 .. 4}\n",
       "    core type: Operation\n",
       "    operator: 24\n",
       "    operands: 25\n",
       "22. (gamma * i, beta * ((i + 1) * (x otimes y)))\n",
       "    core type: ExprTuple\n",
       "    sub-expressions: 26, 27\n",
       "23. (gamma * i * beta * (i + 1), x otimes y)\n",
       "    core type: ExprTuple\n",
       "    sub-expressions: 28, 41\n",
       "24. Interval\n",
       "    core type: Literal\n",
       "    sub-expressions: \n",
       "25. (2, 4)\n",
       "    core type: ExprTuple\n",
       "    sub-expressions: 29, 30\n",
       "26. gamma * i\n",
       "    core type: Operation\n",
       "    operator: 38\n",
       "    operands: 31\n",
       "27. beta * ((i + 1) * (x otimes y))\n",
       "    core type: Operation\n",
       "    operator: 38\n",
       "    operands: 32\n",
       "28. gamma * i * beta * (i + 1)\n",
       "    core type: Operation\n",
       "    operator: 33\n",
       "    operands: 34\n",
       "29. 2\n",
       "    core type: Literal\n",
       "    sub-expressions: \n",
       "30. 4\n",
       "    core type: Literal\n",
       "    sub-expressions: \n",
       "31. (gamma, i)\n",
       "    core type: ExprTuple\n",
       "    sub-expressions: 36, 46\n",
       "32. (beta, (i + 1) * (x otimes y))\n",
       "    core type: ExprTuple\n",
       "    sub-expressions: 37, 35\n",
       "33. *\n",
       "    core type: Literal\n",
       "    sub-expressions: \n",
       "34. (gamma, i, beta, i + 1)\n",
       "    core type: ExprTuple\n",
       "    sub-expressions: 36, 46, 37, 40\n",
       "35. (i + 1) * (x otimes y)\n",
       "    core type: Operation\n",
       "    operator: 38\n",
       "    operands: 39\n",
       "36. gamma\n",
       "    core type: Variable\n",
       "    sub-expressions: \n",
       "37. beta\n",
       "    core type: Variable\n",
       "    sub-expressions: \n",
       "38. *\n",
       "    core type: Literal\n",
       "    sub-expressions: \n",
       "39. (i + 1, x otimes y)\n",
       "    core type: ExprTuple\n",
       "    sub-expressions: 40, 41\n",
       "40. i + 1\n",
       "    core type: Operation\n",
       "    operator: 42\n",
       "    operands: 43\n",
       "41. x otimes y\n",
       "    core type: Operation\n",
       "    operator: 44\n",
       "    operands: 45\n",
       "42. +\n",
       "    core type: Literal\n",
       "    sub-expressions: \n",
       "43. (i, 1)\n",
       "    core type: ExprTuple\n",
       "    sub-expressions: 46, 47\n",
       "44. otimes\n",
       "    core type: Literal\n",
       "    sub-expressions: \n",
       "45. (x, y)\n",
       "    core type: ExprTuple\n",
       "    sub-expressions: 48, 49\n",
       "46. i\n",
       "    core type: Variable\n",
       "    sub-expressions: \n",
       "47. 1\n",
       "    core type: Literal\n",
       "    sub-expressions: \n",
       "48. x\n",
       "    core type: Variable\n",
       "    sub-expressions: \n",
       "49. y\n",
       "    core type: Variable\n",
       "    sub-expressions: "
      ]
     },
     "metadata": {},
     "output_type": "display_data"
    }
   ],
   "source": [
    "# display the expression information\n",
    "stored_expr.expr_info()"
   ]
  },
  {
   "cell_type": "code",
   "execution_count": null,
   "metadata": {},
   "outputs": [],
   "source": []
  }
 ],
 "metadata": {
  "kernelspec": {
   "display_name": "Python 3",
   "language": "python",
   "name": "python3"
  }
 },
 "nbformat": 4,
 "nbformat_minor": 0
}