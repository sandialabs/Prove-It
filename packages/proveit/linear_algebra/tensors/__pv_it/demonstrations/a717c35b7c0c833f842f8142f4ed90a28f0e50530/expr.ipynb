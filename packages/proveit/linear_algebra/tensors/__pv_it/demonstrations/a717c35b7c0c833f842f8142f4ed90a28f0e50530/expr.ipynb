{
 "cells": [
  {
   "cell_type": "markdown",
   "metadata": {},
   "source": [
    "Expression of type <a class=\"ProveItLink\" href=\"../../../../../../../doc/html/api/proveit.ExprTuple.html\">ExprTuple</a>\n",
    "=======================\n",
    "# from the theory of <a class=\"ProveItLink\" href=\"../../../_theory_nbs_/theory.ipynb\">proveit.linear_algebra.tensors</a>"
   ]
  },
  {
   "cell_type": "code",
   "execution_count": 1,
   "metadata": {},
   "outputs": [],
   "source": [
    "import proveit\n",
    "# Automation is not needed when building an expression:\n",
    "proveit.defaults.automation = False # This will speed things up.\n",
    "proveit.defaults.inline_pngs = False # Makes files smaller.\n",
    "%load_expr # Load the stored expression as 'stored_expr'\n",
    "# import Expression classes needed to build the expression\n",
    "from proveit import ExprTuple, a, alpha, u, v, w, x, y\n",
    "from proveit.linear_algebra import ScalarMult, TensorProd\n",
    "from proveit.numbers import Mult"
   ]
  },
  {
   "cell_type": "code",
   "execution_count": 2,
   "metadata": {},
   "outputs": [
    {
     "data": {
      "text/html": [
       "<strong id=\"expr\">expr:</strong> <a class=\"ProveItLink\" href=\"expr.ipynb\"><img src=\"expr.png\" style=\"display:inline;vertical-align:middle;\" /></a><br>"
      ],
      "text/plain": [
       "<IPython.core.display.HTML object>"
      ]
     },
     "metadata": {},
     "output_type": "display_data"
    }
   ],
   "source": [
    "# build up the expression from sub-expressions\n",
    "sub_expr1 = TensorProd(u, v, w, x, y)\n",
    "expr = ExprTuple(ScalarMult(a, ScalarMult(alpha, sub_expr1)), ScalarMult(Mult(a, alpha), sub_expr1))"
   ]
  },
  {
   "cell_type": "code",
   "execution_count": 3,
   "metadata": {},
   "outputs": [
    {
     "name": "stdout",
     "output_type": "stream",
     "text": [
      "Passed sanity check: expr matches stored_expr\n"
     ]
    }
   ],
   "source": [
    "# check that the built expression is the same as the stored expression\n",
    "assert expr == stored_expr\n",
    "assert expr._style_id == stored_expr._style_id\n",
    "print(\"Passed sanity check: expr matches stored_expr\")"
   ]
  },
  {
   "cell_type": "code",
   "execution_count": 4,
   "metadata": {},
   "outputs": [
    {
     "name": "stdout",
     "output_type": "stream",
     "text": [
      "\\left(a \\cdot \\left(\\alpha \\cdot \\left(u {\\otimes} v {\\otimes} w {\\otimes} x {\\otimes} y\\right)\\right), \\left(a \\cdot \\alpha\\right) \\cdot \\left(u {\\otimes} v {\\otimes} w {\\otimes} x {\\otimes} y\\right)\\right)\n"
     ]
    }
   ],
   "source": [
    "# Show the LaTeX representation of the expression for convenience if you need it.\n",
    "print(stored_expr.latex())"
   ]
  },
  {
   "cell_type": "code",
   "execution_count": 5,
   "metadata": {},
   "outputs": [
    {
     "data": {
      "text/html": [
       "<table>\n",
       "<tr><th>name</th><th>description</th><th>default</th><th>current value</th><th>related methods</th></tr><tr><td>wrap_positions</td><td>position(s) at which wrapping is to occur; 'n' is after the nth comma.</td><td>()</td><td>()</td><td>('with_wrapping_at',)</td></tr>\n",
       "<tr><td>justification</td><td>if any wrap positions are set, justify to the 'left', 'center', or 'right'</td><td>left</td><td>left</td><td>('with_justification',)</td></tr>\n",
       "</table>\n"
      ],
      "text/plain": [
       "style name: wrap_positions\n",
       "description: position(s) at which wrapping is to occur; 'n' is after the nth comma.\n",
       "default: ()\n",
       "current value: ()\n",
       "related methods: ('with_wrapping_at',)\n",
       "style name: justification\n",
       "description: if any wrap positions are set, justify to the 'left', 'center', or 'right'\n",
       "default: left\n",
       "current value: left\n",
       "related methods: ('with_justification',)"
      ]
     },
     "metadata": {},
     "output_type": "display_data"
    }
   ],
   "source": [
    "stored_expr.style_options()"
   ]
  },
  {
   "cell_type": "code",
   "execution_count": 6,
   "metadata": {},
   "outputs": [
    {
     "data": {
      "text/html": [
       "<table><tr><th>&nbsp;</th><th>core type</th><th>sub-expressions</th><th>expression</th></tr>\n",
       "<tr><td>0</td><td>ExprTuple</td><td>1, 2</td><td><a class=\"ProveItLink\" href=\"expr.ipynb\"><img src=\"expr.png\" style=\"display:inline;vertical-align:middle;\" /></a></td></tr>\n",
       "<tr><td>1</td><td>Operation</td><td>operator:&nbsp;7<br>operands:&nbsp;3<br></td><td><a class=\"ProveItLink\" href=\"../4f1b2029bf8fb1b71637bfa0e4133928acbf2dd60/expr.ipynb\"><img src=\"../4f1b2029bf8fb1b71637bfa0e4133928acbf2dd60/expr.png\" style=\"display:inline;vertical-align:middle;\" /></a></td></tr>\n",
       "<tr><td>2</td><td>Operation</td><td>operator:&nbsp;7<br>operands:&nbsp;4<br></td><td><a class=\"ProveItLink\" href=\"../a219d1767c01cb592cb8ee34bd142d89854cb5960/expr.ipynb\"><img src=\"../a219d1767c01cb592cb8ee34bd142d89854cb5960/expr.png\" style=\"display:inline;vertical-align:middle;\" /></a></td></tr>\n",
       "<tr><td>3</td><td>ExprTuple</td><td>12, 5</td><td><a class=\"ProveItLink\" href=\"../86079de526eb190a543285e2f18d4255eb8e7af10/expr.ipynb\"><img src=\"../86079de526eb190a543285e2f18d4255eb8e7af10/expr.png\" style=\"display:inline;vertical-align:middle;\" /></a></td></tr>\n",
       "<tr><td>4</td><td>ExprTuple</td><td>6, 11</td><td><a class=\"ProveItLink\" href=\"../58cd308d11b755f2a7a21c3646161ca6ea43a9510/expr.ipynb\"><img src=\"../58cd308d11b755f2a7a21c3646161ca6ea43a9510/expr.png\" style=\"display:inline;vertical-align:middle;\" /></a></td></tr>\n",
       "<tr><td>5</td><td>Operation</td><td>operator:&nbsp;7<br>operands:&nbsp;8<br></td><td><a class=\"ProveItLink\" href=\"../01420d7b723dcddf53d18fb888fea63fe28e799b0/expr.ipynb\"><img src=\"../01420d7b723dcddf53d18fb888fea63fe28e799b0/expr.png\" style=\"display:inline;vertical-align:middle;\" /></a></td></tr>\n",
       "<tr><td>6</td><td>Operation</td><td>operator:&nbsp;9<br>operands:&nbsp;10<br></td><td><a class=\"ProveItLink\" href=\"../edb16c5532d75e9fd70712450751e62f83360f1b0/expr.ipynb\"><img src=\"../edb16c5532d75e9fd70712450751e62f83360f1b0/expr.png\" style=\"display:inline;vertical-align:middle;\" /></a></td></tr>\n",
       "<tr><td>7</td><td>Literal</td><td></td><td><a class=\"ProveItLink\" href=\"../../../../scalar_multiplication/__pv_it/common/1e364bd471e6a29fcd358dd2d9cd990a1e6fedd40/expr.ipynb\"><img src=\"../../../../scalar_multiplication/__pv_it/common/1e364bd471e6a29fcd358dd2d9cd990a1e6fedd40/expr.png\" style=\"display:inline;vertical-align:middle;\" /></a></td></tr>\n",
       "<tr><td>8</td><td>ExprTuple</td><td>13, 11</td><td><a class=\"ProveItLink\" href=\"../337673b2b898a01bc5d3f97a6c5da9be7cb18b930/expr.ipynb\"><img src=\"../337673b2b898a01bc5d3f97a6c5da9be7cb18b930/expr.png\" style=\"display:inline;vertical-align:middle;\" /></a></td></tr>\n",
       "<tr><td>9</td><td>Literal</td><td></td><td><a class=\"ProveItLink\" href=\"../../../../../numbers/multiplication/__pv_it/common/ed719cef37831779c16481533a4d380a2f95ab270/expr.ipynb\"><img src=\"../../../../../numbers/multiplication/__pv_it/common/ed719cef37831779c16481533a4d380a2f95ab270/expr.png\" style=\"display:inline;vertical-align:middle;\" /></a></td></tr>\n",
       "<tr><td>10</td><td>ExprTuple</td><td>12, 13</td><td><a class=\"ProveItLink\" href=\"../0df5dfa988720c180a4b4b4cb4197b822e966eb90/expr.ipynb\"><img src=\"../0df5dfa988720c180a4b4b4cb4197b822e966eb90/expr.png\" style=\"display:inline;vertical-align:middle;\" /></a></td></tr>\n",
       "<tr><td>11</td><td>Operation</td><td>operator:&nbsp;14<br>operands:&nbsp;15<br></td><td><a class=\"ProveItLink\" href=\"../a2822f80a27d348182d8f5de97eca3701b0dd4f10/expr.ipynb\"><img src=\"../a2822f80a27d348182d8f5de97eca3701b0dd4f10/expr.png\" style=\"display:inline;vertical-align:middle;\" /></a></td></tr>\n",
       "<tr><td>12</td><td>Variable</td><td></td><td><a class=\"ProveItLink\" href=\"../../../../../__pv_it/common/c06c606ec12678c58933ac85412ecadc2ae28be60/expr.ipynb\"><img src=\"../../../../../__pv_it/common/c06c606ec12678c58933ac85412ecadc2ae28be60/expr.png\" style=\"display:inline;vertical-align:middle;\" /></a></td></tr>\n",
       "<tr><td>13</td><td>Variable</td><td></td><td><a class=\"ProveItLink\" href=\"../../../../../__pv_it/common/9705ebf23debd1198c43ec3d0c30ebe152d069440/expr.ipynb\"><img src=\"../../../../../__pv_it/common/9705ebf23debd1198c43ec3d0c30ebe152d069440/expr.png\" style=\"display:inline;vertical-align:middle;\" /></a></td></tr>\n",
       "<tr><td>14</td><td>Literal</td><td></td><td><a class=\"ProveItLink\" href=\"../../common/7fa25b05174babb4710be62d63ebd43f68aa2fec0/expr.ipynb\"><img src=\"../../common/7fa25b05174babb4710be62d63ebd43f68aa2fec0/expr.png\" style=\"display:inline;vertical-align:middle;\" /></a></td></tr>\n",
       "<tr><td>15</td><td>ExprTuple</td><td>16, 17, 18, 19, 20</td><td><a class=\"ProveItLink\" href=\"../6c5d5206a5554c3b3d47e667d5ff8e58d32476d90/expr.ipynb\"><img src=\"../6c5d5206a5554c3b3d47e667d5ff8e58d32476d90/expr.png\" style=\"display:inline;vertical-align:middle;\" /></a></td></tr>\n",
       "<tr><td>16</td><td>Variable</td><td></td><td><a class=\"ProveItLink\" href=\"../../../../../__pv_it/common/0d656bb6691dcf7801631ede213504e1b012f3d50/expr.ipynb\"><img src=\"../../../../../__pv_it/common/0d656bb6691dcf7801631ede213504e1b012f3d50/expr.png\" style=\"display:inline;vertical-align:middle;\" /></a></td></tr>\n",
       "<tr><td>17</td><td>Variable</td><td></td><td><a class=\"ProveItLink\" href=\"../../../../../__pv_it/common/a4b9661da9b52dcebf59c5559fec8901f4df10750/expr.ipynb\"><img src=\"../../../../../__pv_it/common/a4b9661da9b52dcebf59c5559fec8901f4df10750/expr.png\" style=\"display:inline;vertical-align:middle;\" /></a></td></tr>\n",
       "<tr><td>18</td><td>Variable</td><td></td><td><a class=\"ProveItLink\" href=\"../../../../../__pv_it/common/d365663894822dede40e6e04c77860068334d0820/expr.ipynb\"><img src=\"../../../../../__pv_it/common/d365663894822dede40e6e04c77860068334d0820/expr.png\" style=\"display:inline;vertical-align:middle;\" /></a></td></tr>\n",
       "<tr><td>19</td><td>Variable</td><td></td><td><a class=\"ProveItLink\" href=\"../../../../../__pv_it/common/a0d9d672aa5e272d907247690c152cc2c6daafb70/expr.ipynb\"><img src=\"../../../../../__pv_it/common/a0d9d672aa5e272d907247690c152cc2c6daafb70/expr.png\" style=\"display:inline;vertical-align:middle;\" /></a></td></tr>\n",
       "<tr><td>20</td><td>Variable</td><td></td><td><a class=\"ProveItLink\" href=\"../../../../../__pv_it/common/ff7dba4ef0bbe791ab573bf2d9c220a304399ac80/expr.ipynb\"><img src=\"../../../../../__pv_it/common/ff7dba4ef0bbe791ab573bf2d9c220a304399ac80/expr.png\" style=\"display:inline;vertical-align:middle;\" /></a></td></tr>\n",
       "</table>\n"
      ],
      "text/plain": [
       "0. (a * (alpha * (u otimes v otimes w otimes x otimes y)), (a * alpha) * (u otimes v otimes w otimes x otimes y))\n",
       "   core type: ExprTuple\n",
       "   sub-expressions: 1, 2\n",
       "1. a * (alpha * (u otimes v otimes w otimes x otimes y))\n",
       "   core type: Operation\n",
       "   operator: 7\n",
       "   operands: 3\n",
       "2. (a * alpha) * (u otimes v otimes w otimes x otimes y)\n",
       "   core type: Operation\n",
       "   operator: 7\n",
       "   operands: 4\n",
       "3. (a, alpha * (u otimes v otimes w otimes x otimes y))\n",
       "   core type: ExprTuple\n",
       "   sub-expressions: 12, 5\n",
       "4. (a * alpha, u otimes v otimes w otimes x otimes y)\n",
       "   core type: ExprTuple\n",
       "   sub-expressions: 6, 11\n",
       "5. alpha * (u otimes v otimes w otimes x otimes y)\n",
       "   core type: Operation\n",
       "   operator: 7\n",
       "   operands: 8\n",
       "6. a * alpha\n",
       "   core type: Operation\n",
       "   operator: 9\n",
       "   operands: 10\n",
       "7. *\n",
       "   core type: Literal\n",
       "   sub-expressions: \n",
       "8. (alpha, u otimes v otimes w otimes x otimes y)\n",
       "   core type: ExprTuple\n",
       "   sub-expressions: 13, 11\n",
       "9. *\n",
       "   core type: Literal\n",
       "   sub-expressions: \n",
       "10. (a, alpha)\n",
       "    core type: ExprTuple\n",
       "    sub-expressions: 12, 13\n",
       "11. u otimes v otimes w otimes x otimes y\n",
       "    core type: Operation\n",
       "    operator: 14\n",
       "    operands: 15\n",
       "12. a\n",
       "    core type: Variable\n",
       "    sub-expressions: \n",
       "13. alpha\n",
       "    core type: Variable\n",
       "    sub-expressions: \n",
       "14. otimes\n",
       "    core type: Literal\n",
       "    sub-expressions: \n",
       "15. (u, v, w, x, y)\n",
       "    core type: ExprTuple\n",
       "    sub-expressions: 16, 17, 18, 19, 20\n",
       "16. u\n",
       "    core type: Variable\n",
       "    sub-expressions: \n",
       "17. v\n",
       "    core type: Variable\n",
       "    sub-expressions: \n",
       "18. w\n",
       "    core type: Variable\n",
       "    sub-expressions: \n",
       "19. x\n",
       "    core type: Variable\n",
       "    sub-expressions: \n",
       "20. y\n",
       "    core type: Variable\n",
       "    sub-expressions: "
      ]
     },
     "metadata": {},
     "output_type": "display_data"
    }
   ],
   "source": [
    "# display the expression information\n",
    "stored_expr.expr_info()"
   ]
  },
  {
   "cell_type": "code",
   "execution_count": null,
   "metadata": {},
   "outputs": [],
   "source": []
  }
 ],
 "metadata": {
  "kernelspec": {
   "display_name": "Python 3",
   "language": "python",
   "name": "python3"
  }
 },
 "nbformat": 4,
 "nbformat_minor": 0
}