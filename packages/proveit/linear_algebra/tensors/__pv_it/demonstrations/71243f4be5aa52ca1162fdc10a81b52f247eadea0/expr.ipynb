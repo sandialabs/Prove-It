{
 "cells": [
  {
   "cell_type": "markdown",
   "metadata": {},
   "source": [
    "Expression of type <a class=\"ProveItLink\" href=\"../../../../../../../doc/html/api/proveit.ExprTuple.html\">ExprTuple</a>\n",
    "=======================\n",
    "# from the theory of <a class=\"ProveItLink\" href=\"../../../_theory_nbs_/theory.ipynb\">proveit.linear_algebra.tensors</a>"
   ]
  },
  {
   "cell_type": "code",
   "execution_count": 1,
   "metadata": {},
   "outputs": [],
   "source": [
    "import proveit\n",
    "# Automation is not needed when building an expression:\n",
    "proveit.defaults.automation = False # This will speed things up.\n",
    "proveit.defaults.inline_pngs = False # Makes files smaller.\n",
    "%load_expr # Load the stored expression as 'stored_expr'\n",
    "# import Expression classes needed to build the expression\n",
    "from proveit import Conditional, ExprTuple, Lambda, beta, fi, gamma, i\n",
    "from proveit.linear_algebra import ScalarMult\n",
    "from proveit.logic import Equals, Forall, InSet\n",
    "from proveit.numbers import Interval, Mult, four, two"
   ]
  },
  {
   "cell_type": "code",
   "execution_count": 2,
   "metadata": {},
   "outputs": [
    {
     "data": {
      "text/html": [
       "<strong id=\"expr\">expr:</strong> <a class=\"ProveItLink\" href=\"expr.ipynb\"><img src=\"expr.png\" style=\"display:inline;vertical-align:middle;\" /></a><br>"
      ],
      "text/plain": [
       "<IPython.core.display.HTML object>"
      ]
     },
     "metadata": {},
     "output_type": "display_data"
    }
   ],
   "source": [
    "# build up the expression from sub-expressions\n",
    "sub_expr1 = InSet(i, Interval(two, four))\n",
    "sub_expr2 = Conditional(ScalarMult(ScalarMult(gamma, beta), fi), sub_expr1)\n",
    "sub_expr3 = Conditional(ScalarMult(Mult(gamma, beta), fi), sub_expr1)\n",
    "expr = ExprTuple(Forall(instance_param_or_params = [i], instance_expr = Equals(sub_expr2, sub_expr3)), Equals(Lambda(i, sub_expr2), Lambda(i, sub_expr3)).with_wrapping_at(2))"
   ]
  },
  {
   "cell_type": "code",
   "execution_count": 3,
   "metadata": {},
   "outputs": [
    {
     "name": "stdout",
     "output_type": "stream",
     "text": [
      "Passed sanity check: expr matches stored_expr\n"
     ]
    }
   ],
   "source": [
    "# check that the built expression is the same as the stored expression\n",
    "assert expr == stored_expr\n",
    "assert expr._style_id == stored_expr._style_id\n",
    "print(\"Passed sanity check: expr matches stored_expr\")"
   ]
  },
  {
   "cell_type": "code",
   "execution_count": 4,
   "metadata": {},
   "outputs": [
    {
     "name": "stdout",
     "output_type": "stream",
     "text": [
      "\\left(\\forall_{i}~\\left(\\left\\{\\left(\\gamma \\cdot \\beta\\right) \\cdot f\\left(i\\right) \\textrm{ if } i \\in \\{2~\\ldotp \\ldotp~4\\}\\right.. = \\left\\{\\left(\\gamma \\cdot \\beta\\right) \\cdot f\\left(i\\right) \\textrm{ if } i \\in \\{2~\\ldotp \\ldotp~4\\}\\right..\\right), \\begin{array}{c} \\begin{array}{l} \\left[i \\mapsto \\left\\{\\left(\\gamma \\cdot \\beta\\right) \\cdot f\\left(i\\right) \\textrm{ if } i \\in \\{2~\\ldotp \\ldotp~4\\}\\right..\\right] =  \\\\ \\left[i \\mapsto \\left\\{\\left(\\gamma \\cdot \\beta\\right) \\cdot f\\left(i\\right) \\textrm{ if } i \\in \\{2~\\ldotp \\ldotp~4\\}\\right..\\right] \\end{array} \\end{array}\\right)\n"
     ]
    }
   ],
   "source": [
    "# Show the LaTeX representation of the expression for convenience if you need it.\n",
    "print(stored_expr.latex())"
   ]
  },
  {
   "cell_type": "code",
   "execution_count": 5,
   "metadata": {},
   "outputs": [
    {
     "data": {
      "text/html": [
       "<table>\n",
       "<tr><th>name</th><th>description</th><th>default</th><th>current value</th><th>related methods</th></tr><tr><td>wrap_positions</td><td>position(s) at which wrapping is to occur; 'n' is after the nth comma.</td><td>()</td><td>()</td><td>('with_wrapping_at',)</td></tr>\n",
       "<tr><td>justification</td><td>if any wrap positions are set, justify to the 'left', 'center', or 'right'</td><td>left</td><td>left</td><td>('with_justification',)</td></tr>\n",
       "</table>\n"
      ],
      "text/plain": [
       "style name: wrap_positions\n",
       "description: position(s) at which wrapping is to occur; 'n' is after the nth comma.\n",
       "default: ()\n",
       "current value: ()\n",
       "related methods: ('with_wrapping_at',)\n",
       "style name: justification\n",
       "description: if any wrap positions are set, justify to the 'left', 'center', or 'right'\n",
       "default: left\n",
       "current value: left\n",
       "related methods: ('with_justification',)"
      ]
     },
     "metadata": {},
     "output_type": "display_data"
    }
   ],
   "source": [
    "stored_expr.style_options()"
   ]
  },
  {
   "cell_type": "code",
   "execution_count": 6,
   "metadata": {},
   "outputs": [
    {
     "data": {
      "text/html": [
       "<table><tr><th>&nbsp;</th><th>core type</th><th>sub-expressions</th><th>expression</th></tr>\n",
       "<tr><td>0</td><td>ExprTuple</td><td>1, 2</td><td><a class=\"ProveItLink\" href=\"expr.ipynb\"><img src=\"expr.png\" style=\"display:inline;vertical-align:middle;\" /></a></td></tr>\n",
       "<tr><td>1</td><td>Operation</td><td>operator:&nbsp;3<br>operand:&nbsp;6<br></td><td><a class=\"ProveItLink\" href=\"../ced17a8ed1c57433c0db6733446e51d328d15e4a0/expr.ipynb\"><img src=\"../ced17a8ed1c57433c0db6733446e51d328d15e4a0/expr.png\" style=\"display:inline;vertical-align:middle;\" /></a></td></tr>\n",
       "<tr><td>2</td><td>Operation</td><td>operator:&nbsp;10<br>operands:&nbsp;5<br></td><td><a class=\"ProveItLink\" href=\"../2770886164f40865adeccbe730223474ce5452b60/expr.ipynb\"><img src=\"../2770886164f40865adeccbe730223474ce5452b60/expr.png\" style=\"display:inline;vertical-align:middle;\" /></a></td></tr>\n",
       "<tr><td>3</td><td>Literal</td><td></td><td><a class=\"ProveItLink\" href=\"../../../../../logic/booleans/quantification/universality/__pv_it/common/083d2baa0b8ecab1d230f9ec29a15aa1355809fb0/expr.ipynb\"><img src=\"../../../../../logic/booleans/quantification/universality/__pv_it/common/083d2baa0b8ecab1d230f9ec29a15aa1355809fb0/expr.png\" style=\"display:inline;vertical-align:middle;\" /></a></td></tr>\n",
       "<tr><td>4</td><td>ExprTuple</td><td>6</td><td><a class=\"ProveItLink\" href=\"../a52f4c1f6ed57e49dcdf9b15588a04129f5549570/expr.ipynb\"><img src=\"../a52f4c1f6ed57e49dcdf9b15588a04129f5549570/expr.png\" style=\"display:inline;vertical-align:middle;\" /></a></td></tr>\n",
       "<tr><td>5</td><td>ExprTuple</td><td>7, 8</td><td><a class=\"ProveItLink\" href=\"../dbfcd09028f60917eac2af5c0e13889a55315a4f0/expr.ipynb\"><img src=\"../dbfcd09028f60917eac2af5c0e13889a55315a4f0/expr.png\" style=\"display:inline;vertical-align:middle;\" /></a></td></tr>\n",
       "<tr><td>6</td><td>Lambda</td><td>parameter:&nbsp;34<br>body:&nbsp;9<br></td><td><a class=\"ProveItLink\" href=\"../7707cb1438f5a29fc4fac7254d3dc4c13cf0af540/expr.ipynb\"><img src=\"../7707cb1438f5a29fc4fac7254d3dc4c13cf0af540/expr.png\" style=\"display:inline;vertical-align:middle;\" /></a></td></tr>\n",
       "<tr><td>7</td><td>Lambda</td><td>parameter:&nbsp;34<br>body:&nbsp;12<br></td><td><a class=\"ProveItLink\" href=\"../1b4ffc875fc0fcd6ef12f97df17eb16faa4284e40/expr.ipynb\"><img src=\"../1b4ffc875fc0fcd6ef12f97df17eb16faa4284e40/expr.png\" style=\"display:inline;vertical-align:middle;\" /></a></td></tr>\n",
       "<tr><td>8</td><td>Lambda</td><td>parameter:&nbsp;34<br>body:&nbsp;13<br></td><td><a class=\"ProveItLink\" href=\"../ccd3bc1280df87f1409e6ced2e1e47285ac1989e0/expr.ipynb\"><img src=\"../ccd3bc1280df87f1409e6ced2e1e47285ac1989e0/expr.png\" style=\"display:inline;vertical-align:middle;\" /></a></td></tr>\n",
       "<tr><td>9</td><td>Operation</td><td>operator:&nbsp;10<br>operands:&nbsp;11<br></td><td><a class=\"ProveItLink\" href=\"../dc85116d388454621f369071f6138821552604f90/expr.ipynb\"><img src=\"../dc85116d388454621f369071f6138821552604f90/expr.png\" style=\"display:inline;vertical-align:middle;\" /></a></td></tr>\n",
       "<tr><td>10</td><td>Literal</td><td></td><td><a class=\"ProveItLink\" href=\"../../../../../logic/equality/__pv_it/common/fb96dc12b2aa8801dda64d0132b396c63d1502bb0/expr.ipynb\"><img src=\"../../../../../logic/equality/__pv_it/common/fb96dc12b2aa8801dda64d0132b396c63d1502bb0/expr.png\" style=\"display:inline;vertical-align:middle;\" /></a></td></tr>\n",
       "<tr><td>11</td><td>ExprTuple</td><td>12, 13</td><td><a class=\"ProveItLink\" href=\"../b4a73c8e8725a6ea2ff8eb37e9e8f0b3d4c9ab0a0/expr.ipynb\"><img src=\"../b4a73c8e8725a6ea2ff8eb37e9e8f0b3d4c9ab0a0/expr.png\" style=\"display:inline;vertical-align:middle;\" /></a></td></tr>\n",
       "<tr><td>12</td><td>Conditional</td><td>value:&nbsp;14<br>condition:&nbsp;16<br></td><td><a class=\"ProveItLink\" href=\"../9476b285f1879884307ae21b8b6edab5d2d0e3dd0/expr.ipynb\"><img src=\"../9476b285f1879884307ae21b8b6edab5d2d0e3dd0/expr.png\" style=\"display:inline;vertical-align:middle;\" /></a></td></tr>\n",
       "<tr><td>13</td><td>Conditional</td><td>value:&nbsp;15<br>condition:&nbsp;16<br></td><td><a class=\"ProveItLink\" href=\"../9d1c06a9122b7f0fd0ac0f82f815cbc6ef5556590/expr.ipynb\"><img src=\"../9d1c06a9122b7f0fd0ac0f82f815cbc6ef5556590/expr.png\" style=\"display:inline;vertical-align:middle;\" /></a></td></tr>\n",
       "<tr><td>14</td><td>Operation</td><td>operator:&nbsp;25<br>operands:&nbsp;17<br></td><td><a class=\"ProveItLink\" href=\"../7f00bd253b80abf1755634fc4614761502524c130/expr.ipynb\"><img src=\"../7f00bd253b80abf1755634fc4614761502524c130/expr.png\" style=\"display:inline;vertical-align:middle;\" /></a></td></tr>\n",
       "<tr><td>15</td><td>Operation</td><td>operator:&nbsp;25<br>operands:&nbsp;18<br></td><td><a class=\"ProveItLink\" href=\"../d77990c4638ab258bc1b8098ae7e658ef2aa758c0/expr.ipynb\"><img src=\"../d77990c4638ab258bc1b8098ae7e658ef2aa758c0/expr.png\" style=\"display:inline;vertical-align:middle;\" /></a></td></tr>\n",
       "<tr><td>16</td><td>Operation</td><td>operator:&nbsp;19<br>operands:&nbsp;20<br></td><td><a class=\"ProveItLink\" href=\"../1dcee5d42a9a39499a39768abf9beb5a120321210/expr.ipynb\"><img src=\"../1dcee5d42a9a39499a39768abf9beb5a120321210/expr.png\" style=\"display:inline;vertical-align:middle;\" /></a></td></tr>\n",
       "<tr><td>17</td><td>ExprTuple</td><td>21, 23</td><td><a class=\"ProveItLink\" href=\"../e9a8edf147cc46787871f787f363fd2e409dda1c0/expr.ipynb\"><img src=\"../e9a8edf147cc46787871f787f363fd2e409dda1c0/expr.png\" style=\"display:inline;vertical-align:middle;\" /></a></td></tr>\n",
       "<tr><td>18</td><td>ExprTuple</td><td>22, 23</td><td><a class=\"ProveItLink\" href=\"../012fb071cf4d4e0d142511efc4fca9491f5a8a280/expr.ipynb\"><img src=\"../012fb071cf4d4e0d142511efc4fca9491f5a8a280/expr.png\" style=\"display:inline;vertical-align:middle;\" /></a></td></tr>\n",
       "<tr><td>19</td><td>Literal</td><td></td><td><a class=\"ProveItLink\" href=\"../../../../../logic/sets/membership/__pv_it/common/477487d8796864d23d5810f83761435f25167f690/expr.ipynb\"><img src=\"../../../../../logic/sets/membership/__pv_it/common/477487d8796864d23d5810f83761435f25167f690/expr.png\" style=\"display:inline;vertical-align:middle;\" /></a></td></tr>\n",
       "<tr><td>20</td><td>ExprTuple</td><td>34, 24</td><td><a class=\"ProveItLink\" href=\"../28d2afb06ec85f8673a332040f8f84c54020e9590/expr.ipynb\"><img src=\"../28d2afb06ec85f8673a332040f8f84c54020e9590/expr.png\" style=\"display:inline;vertical-align:middle;\" /></a></td></tr>\n",
       "<tr><td>21</td><td>Operation</td><td>operator:&nbsp;25<br>operands:&nbsp;27<br></td><td><a class=\"ProveItLink\" href=\"../268f22afb3a50352cfc9cc5e5138b58a0316fd9e0/expr.ipynb\"><img src=\"../268f22afb3a50352cfc9cc5e5138b58a0316fd9e0/expr.png\" style=\"display:inline;vertical-align:middle;\" /></a></td></tr>\n",
       "<tr><td>22</td><td>Operation</td><td>operator:&nbsp;26<br>operands:&nbsp;27<br></td><td><a class=\"ProveItLink\" href=\"../38de7ae9e11d86a04ac35dfe9e57401f111c0ee30/expr.ipynb\"><img src=\"../38de7ae9e11d86a04ac35dfe9e57401f111c0ee30/expr.png\" style=\"display:inline;vertical-align:middle;\" /></a></td></tr>\n",
       "<tr><td>23</td><td>Operation</td><td>operator:&nbsp;28<br>operand:&nbsp;34<br></td><td><a class=\"ProveItLink\" href=\"../../../../../__pv_it/common/68d279ba17eb875d9f466a293b0b7fcc3ad8621e0/expr.ipynb\"><img src=\"../../../../../__pv_it/common/68d279ba17eb875d9f466a293b0b7fcc3ad8621e0/expr.png\" style=\"display:inline;vertical-align:middle;\" /></a></td></tr>\n",
       "<tr><td>24</td><td>Operation</td><td>operator:&nbsp;30<br>operands:&nbsp;31<br></td><td><a class=\"ProveItLink\" href=\"../d52b7b54dc47ec2badf6859f9847ff1f1b35483a0/expr.ipynb\"><img src=\"../d52b7b54dc47ec2badf6859f9847ff1f1b35483a0/expr.png\" style=\"display:inline;vertical-align:middle;\" /></a></td></tr>\n",
       "<tr><td>25</td><td>Literal</td><td></td><td><a class=\"ProveItLink\" href=\"../../../../scalar_multiplication/__pv_it/common/1e364bd471e6a29fcd358dd2d9cd990a1e6fedd40/expr.ipynb\"><img src=\"../../../../scalar_multiplication/__pv_it/common/1e364bd471e6a29fcd358dd2d9cd990a1e6fedd40/expr.png\" style=\"display:inline;vertical-align:middle;\" /></a></td></tr>\n",
       "<tr><td>26</td><td>Literal</td><td></td><td><a class=\"ProveItLink\" href=\"../../../../../numbers/multiplication/__pv_it/common/ed719cef37831779c16481533a4d380a2f95ab270/expr.ipynb\"><img src=\"../../../../../numbers/multiplication/__pv_it/common/ed719cef37831779c16481533a4d380a2f95ab270/expr.png\" style=\"display:inline;vertical-align:middle;\" /></a></td></tr>\n",
       "<tr><td>27</td><td>ExprTuple</td><td>32, 33</td><td><a class=\"ProveItLink\" href=\"../ab41256eeaff63278cf61798d37e7b2a94deb9580/expr.ipynb\"><img src=\"../ab41256eeaff63278cf61798d37e7b2a94deb9580/expr.png\" style=\"display:inline;vertical-align:middle;\" /></a></td></tr>\n",
       "<tr><td>28</td><td>Variable</td><td></td><td><a class=\"ProveItLink\" href=\"../../../../../__pv_it/common/01b6dbb444a31fc38af4c2379badef6c75b363710/expr.ipynb\"><img src=\"../../../../../__pv_it/common/01b6dbb444a31fc38af4c2379badef6c75b363710/expr.png\" style=\"display:inline;vertical-align:middle;\" /></a></td></tr>\n",
       "<tr><td>29</td><td>ExprTuple</td><td>34</td><td><a class=\"ProveItLink\" href=\"../../../../../__pv_it/common/3b7d7ace2ced0a8261ea4d18d03aaf49e434d69d0/expr.ipynb\"><img src=\"../../../../../__pv_it/common/3b7d7ace2ced0a8261ea4d18d03aaf49e434d69d0/expr.png\" style=\"display:inline;vertical-align:middle;\" /></a></td></tr>\n",
       "<tr><td>30</td><td>Literal</td><td></td><td><a class=\"ProveItLink\" href=\"../../../../../numbers/number_sets/integers/__pv_it/common/92f3a0a77e3c3ea8e4a5c8674edadc54e4f57d550/expr.ipynb\"><img src=\"../../../../../numbers/number_sets/integers/__pv_it/common/92f3a0a77e3c3ea8e4a5c8674edadc54e4f57d550/expr.png\" style=\"display:inline;vertical-align:middle;\" /></a></td></tr>\n",
       "<tr><td>31</td><td>ExprTuple</td><td>35, 36</td><td><a class=\"ProveItLink\" href=\"../4dcdc5026f80b9604cf319714818529aceda286b0/expr.ipynb\"><img src=\"../4dcdc5026f80b9604cf319714818529aceda286b0/expr.png\" style=\"display:inline;vertical-align:middle;\" /></a></td></tr>\n",
       "<tr><td>32</td><td>Variable</td><td></td><td><a class=\"ProveItLink\" href=\"../../../../../__pv_it/common/d3b5a05ce48f7e4b8f946549743adda31d51d0e80/expr.ipynb\"><img src=\"../../../../../__pv_it/common/d3b5a05ce48f7e4b8f946549743adda31d51d0e80/expr.png\" style=\"display:inline;vertical-align:middle;\" /></a></td></tr>\n",
       "<tr><td>33</td><td>Variable</td><td></td><td><a class=\"ProveItLink\" href=\"../../../../../__pv_it/common/c713a5db2586f854a5051c95110df24af02bd7260/expr.ipynb\"><img src=\"../../../../../__pv_it/common/c713a5db2586f854a5051c95110df24af02bd7260/expr.png\" style=\"display:inline;vertical-align:middle;\" /></a></td></tr>\n",
       "<tr><td>34</td><td>Variable</td><td></td><td><a class=\"ProveItLink\" href=\"../../../../../__pv_it/common/ae955345c83abf786c3aff8681cd5465beae262d0/expr.ipynb\"><img src=\"../../../../../__pv_it/common/ae955345c83abf786c3aff8681cd5465beae262d0/expr.png\" style=\"display:inline;vertical-align:middle;\" /></a></td></tr>\n",
       "<tr><td>35</td><td>Literal</td><td></td><td><a class=\"ProveItLink\" href=\"../../../../../numbers/numerals/__pv_it/common/af4aab8a07465db063742696e006d04670f30cf10/expr.ipynb\"><img src=\"../../../../../numbers/numerals/__pv_it/common/af4aab8a07465db063742696e006d04670f30cf10/expr.png\" style=\"display:inline;vertical-align:middle;\" /></a></td></tr>\n",
       "<tr><td>36</td><td>Literal</td><td></td><td><a class=\"ProveItLink\" href=\"../../../../../numbers/numerals/__pv_it/common/48a1d915c1e9490b9a94e5c77a208938d3ee20ce0/expr.ipynb\"><img src=\"../../../../../numbers/numerals/__pv_it/common/48a1d915c1e9490b9a94e5c77a208938d3ee20ce0/expr.png\" style=\"display:inline;vertical-align:middle;\" /></a></td></tr>\n",
       "</table>\n"
      ],
      "text/plain": [
       "0. (forall_{i} ({(gamma * beta) * f(i) if i in {2 .. 4}. = {(gamma * beta) * f(i) if i in {2 .. 4}.), [i -> {(gamma * beta) * f(i) if i in {2 .. 4}.] =  \\\\ [i -> {(gamma * beta) * f(i) if i in {2 .. 4}.])\n",
       "   core type: ExprTuple\n",
       "   sub-expressions: 1, 2\n",
       "1. forall_{i} ({(gamma * beta) * f(i) if i in {2 .. 4}. = {(gamma * beta) * f(i) if i in {2 .. 4}.)\n",
       "   core type: Operation\n",
       "   operator: 3\n",
       "   operand: 6\n",
       "2. [i -> {(gamma * beta) * f(i) if i in {2 .. 4}.] =  \\\\ [i -> {(gamma * beta) * f(i) if i in {2 .. 4}.]\n",
       "   core type: Operation\n",
       "   operator: 10\n",
       "   operands: 5\n",
       "3. forall\n",
       "   core type: Literal\n",
       "   sub-expressions: \n",
       "4. (i -> ({(gamma * beta) * f(i) if i in {2 .. 4}. = {(gamma * beta) * f(i) if i in {2 .. 4}.))\n",
       "   core type: ExprTuple\n",
       "   sub-expressions: 6\n",
       "5. (i -> {(gamma * beta) * f(i) if i in {2 .. 4}., i -> {(gamma * beta) * f(i) if i in {2 .. 4}.)\n",
       "   core type: ExprTuple\n",
       "   sub-expressions: 7, 8\n",
       "6. i -> ({(gamma * beta) * f(i) if i in {2 .. 4}. = {(gamma * beta) * f(i) if i in {2 .. 4}.)\n",
       "   core type: Lambda\n",
       "   parameter: 34\n",
       "   body: 9\n",
       "7. i -> {(gamma * beta) * f(i) if i in {2 .. 4}.\n",
       "   core type: Lambda\n",
       "   parameter: 34\n",
       "   body: 12\n",
       "8. i -> {(gamma * beta) * f(i) if i in {2 .. 4}.\n",
       "   core type: Lambda\n",
       "   parameter: 34\n",
       "   body: 13\n",
       "9. {(gamma * beta) * f(i) if i in {2 .. 4}. = {(gamma * beta) * f(i) if i in {2 .. 4}.\n",
       "   core type: Operation\n",
       "   operator: 10\n",
       "   operands: 11\n",
       "10. =\n",
       "    core type: Literal\n",
       "    sub-expressions: \n",
       "11. ((gamma * beta) * f(i) if i in {2 .. 4}, (gamma * beta) * f(i) if i in {2 .. 4})\n",
       "    core type: ExprTuple\n",
       "    sub-expressions: 12, 13\n",
       "12. {(gamma * beta) * f(i) if i in {2 .. 4}.\n",
       "    core type: Conditional\n",
       "    value: 14\n",
       "    condition: 16\n",
       "13. {(gamma * beta) * f(i) if i in {2 .. 4}.\n",
       "    core type: Conditional\n",
       "    value: 15\n",
       "    condition: 16\n",
       "14. (gamma * beta) * f(i)\n",
       "    core type: Operation\n",
       "    operator: 25\n",
       "    operands: 17\n",
       "15. (gamma * beta) * f(i)\n",
       "    core type: Operation\n",
       "    operator: 25\n",
       "    operands: 18\n",
       "16. i in {2 .. 4}\n",
       "    core type: Operation\n",
       "    operator: 19\n",
       "    operands: 20\n",
       "17. (gamma * beta, f(i))\n",
       "    core type: ExprTuple\n",
       "    sub-expressions: 21, 23\n",
       "18. (gamma * beta, f(i))\n",
       "    core type: ExprTuple\n",
       "    sub-expressions: 22, 23\n",
       "19. in\n",
       "    core type: Literal\n",
       "    sub-expressions: \n",
       "20. (i, {2 .. 4})\n",
       "    core type: ExprTuple\n",
       "    sub-expressions: 34, 24\n",
       "21. gamma * beta\n",
       "    core type: Operation\n",
       "    operator: 25\n",
       "    operands: 27\n",
       "22. gamma * beta\n",
       "    core type: Operation\n",
       "    operator: 26\n",
       "    operands: 27\n",
       "23. f(i)\n",
       "    core type: Operation\n",
       "    operator: 28\n",
       "    operand: 34\n",
       "24. {2 .. 4}\n",
       "    core type: Operation\n",
       "    operator: 30\n",
       "    operands: 31\n",
       "25. *\n",
       "    core type: Literal\n",
       "    sub-expressions: \n",
       "26. *\n",
       "    core type: Literal\n",
       "    sub-expressions: \n",
       "27. (gamma, beta)\n",
       "    core type: ExprTuple\n",
       "    sub-expressions: 32, 33\n",
       "28. f\n",
       "    core type: Variable\n",
       "    sub-expressions: \n",
       "29. (i)\n",
       "    core type: ExprTuple\n",
       "    sub-expressions: 34\n",
       "30. Interval\n",
       "    core type: Literal\n",
       "    sub-expressions: \n",
       "31. (2, 4)\n",
       "    core type: ExprTuple\n",
       "    sub-expressions: 35, 36\n",
       "32. gamma\n",
       "    core type: Variable\n",
       "    sub-expressions: \n",
       "33. beta\n",
       "    core type: Variable\n",
       "    sub-expressions: \n",
       "34. i\n",
       "    core type: Variable\n",
       "    sub-expressions: \n",
       "35. 2\n",
       "    core type: Literal\n",
       "    sub-expressions: \n",
       "36. 4\n",
       "    core type: Literal\n",
       "    sub-expressions: "
      ]
     },
     "metadata": {},
     "output_type": "display_data"
    }
   ],
   "source": [
    "# display the expression information\n",
    "stored_expr.expr_info()"
   ]
  },
  {
   "cell_type": "code",
   "execution_count": null,
   "metadata": {},
   "outputs": [],
   "source": []
  }
 ],
 "metadata": {
  "kernelspec": {
   "display_name": "Python 3",
   "language": "python",
   "name": "python3"
  }
 },
 "nbformat": 4,
 "nbformat_minor": 0
}