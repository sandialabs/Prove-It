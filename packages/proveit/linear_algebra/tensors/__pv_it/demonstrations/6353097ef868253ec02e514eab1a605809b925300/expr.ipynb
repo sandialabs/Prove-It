{
 "cells": [
  {
   "cell_type": "markdown",
   "metadata": {},
   "source": [
    "Expression of type <a class=\"ProveItLink\" href=\"../../../../../../../doc/html/api/proveit.logic.Forall.html\">Forall</a>\n",
    "=======================\n",
    "# from the theory of <a class=\"ProveItLink\" href=\"../../../_theory_nbs_/theory.ipynb\">proveit.linear_algebra.tensors</a>"
   ]
  },
  {
   "cell_type": "code",
   "execution_count": 1,
   "metadata": {},
   "outputs": [],
   "source": [
    "import proveit\n",
    "# Automation is not needed when building an expression:\n",
    "proveit.defaults.automation = False # This will speed things up.\n",
    "proveit.defaults.inline_pngs = False # Makes files smaller.\n",
    "%load_expr # Load the stored expression as 'stored_expr'\n",
    "# import Expression classes needed to build the expression\n",
    "from proveit import fi, i, x, y, z\n",
    "from proveit.linear_algebra import TensorProd\n",
    "from proveit.logic import Equals, Forall\n",
    "from proveit.numbers import Interval, four, two"
   ]
  },
  {
   "cell_type": "code",
   "execution_count": 2,
   "metadata": {},
   "outputs": [
    {
     "data": {
      "text/html": [
       "<strong id=\"expr\">expr:</strong> <a class=\"ProveItLink\" href=\"expr.ipynb\"><img src=\"expr.png\" style=\"display:inline;vertical-align:middle;\" /></a><br>"
      ],
      "text/plain": [
       "<IPython.core.display.HTML object>"
      ]
     },
     "metadata": {},
     "output_type": "display_data"
    }
   ],
   "source": [
    "# build up the expression from sub-expressions\n",
    "expr = Forall(instance_param_or_params = [i], instance_expr = Equals(TensorProd(x, y, fi, z), TensorProd(x, TensorProd(y, fi), z)), domain = Interval(two, four))"
   ]
  },
  {
   "cell_type": "code",
   "execution_count": 3,
   "metadata": {},
   "outputs": [
    {
     "name": "stdout",
     "output_type": "stream",
     "text": [
      "Passed sanity check: expr matches stored_expr\n"
     ]
    }
   ],
   "source": [
    "# check that the built expression is the same as the stored expression\n",
    "assert expr == stored_expr\n",
    "assert expr._style_id == stored_expr._style_id\n",
    "print(\"Passed sanity check: expr matches stored_expr\")"
   ]
  },
  {
   "cell_type": "code",
   "execution_count": 4,
   "metadata": {},
   "outputs": [
    {
     "name": "stdout",
     "output_type": "stream",
     "text": [
      "\\forall_{i \\in \\{2~\\ldotp \\ldotp~4\\}}~\\left(\\left(x {\\otimes} y {\\otimes} f\\left(i\\right) {\\otimes} z\\right) = \\left(x {\\otimes} \\left(y {\\otimes} f\\left(i\\right)\\right) {\\otimes} z\\right)\\right)\n"
     ]
    }
   ],
   "source": [
    "# Show the LaTeX representation of the expression for convenience if you need it.\n",
    "print(stored_expr.latex())"
   ]
  },
  {
   "cell_type": "code",
   "execution_count": 5,
   "metadata": {},
   "outputs": [
    {
     "data": {
      "text/html": [
       "<table>\n",
       "<tr><th>name</th><th>description</th><th>default</th><th>current value</th><th>related methods</th></tr><tr><td>with_wrapping</td><td>If 'True', wrap the Expression after the parameters</td><td>None</td><td>None/False</td><td>('with_wrapping',)</td></tr>\n",
       "<tr><td>condition_wrapping</td><td>Wrap 'before' or 'after' the condition (or None).</td><td>None</td><td>None/False</td><td>('with_wrap_after_condition', 'with_wrap_before_condition')</td></tr>\n",
       "<tr><td>wrap_params</td><td>If 'True', wraps every two parameters AND wraps the Expression after the parameters</td><td>None</td><td>None/False</td><td>('with_params',)</td></tr>\n",
       "<tr><td>justification</td><td>justify to the 'left', 'center', or 'right' in the array cells</td><td>center</td><td>center</td><td>('with_justification',)</td></tr>\n",
       "</table>\n"
      ],
      "text/plain": [
       "style name: with_wrapping\n",
       "description: If 'True', wrap the Expression after the parameters\n",
       "default: None\n",
       "current value: None/False\n",
       "related methods: ('with_wrapping',)\n",
       "style name: condition_wrapping\n",
       "description: Wrap 'before' or 'after' the condition (or None).\n",
       "default: None\n",
       "current value: None/False\n",
       "related methods: ('with_wrap_after_condition', 'with_wrap_before_condition')\n",
       "style name: wrap_params\n",
       "description: If 'True', wraps every two parameters AND wraps the Expression after the parameters\n",
       "default: None\n",
       "current value: None/False\n",
       "related methods: ('with_params',)\n",
       "style name: justification\n",
       "description: justify to the 'left', 'center', or 'right' in the array cells\n",
       "default: center\n",
       "current value: center\n",
       "related methods: ('with_justification',)"
      ]
     },
     "metadata": {},
     "output_type": "display_data"
    }
   ],
   "source": [
    "stored_expr.style_options()"
   ]
  },
  {
   "cell_type": "code",
   "execution_count": 6,
   "metadata": {},
   "outputs": [
    {
     "data": {
      "text/html": [
       "<table><tr><th>&nbsp;</th><th>core type</th><th>sub-expressions</th><th>expression</th></tr>\n",
       "<tr><td>0</td><td>Operation</td><td>operator:&nbsp;1<br>operand:&nbsp;3<br></td><td><a class=\"ProveItLink\" href=\"expr.ipynb\"><img src=\"expr.png\" style=\"display:inline;vertical-align:middle;\" /></a></td></tr>\n",
       "<tr><td>1</td><td>Literal</td><td></td><td><a class=\"ProveItLink\" href=\"../../../../../logic/booleans/quantification/universality/__pv_it/common/083d2baa0b8ecab1d230f9ec29a15aa1355809fb0/expr.ipynb\"><img src=\"../../../../../logic/booleans/quantification/universality/__pv_it/common/083d2baa0b8ecab1d230f9ec29a15aa1355809fb0/expr.png\" style=\"display:inline;vertical-align:middle;\" /></a></td></tr>\n",
       "<tr><td>2</td><td>ExprTuple</td><td>3</td><td><a class=\"ProveItLink\" href=\"../511db0efbfe1671df61c34fe989a0cafacf212480/expr.ipynb\"><img src=\"../511db0efbfe1671df61c34fe989a0cafacf212480/expr.png\" style=\"display:inline;vertical-align:middle;\" /></a></td></tr>\n",
       "<tr><td>3</td><td>Lambda</td><td>parameter:&nbsp;29<br>body:&nbsp;4<br></td><td><a class=\"ProveItLink\" href=\"../3050c664982f2146723545fe27b92afc6e0503780/expr.ipynb\"><img src=\"../3050c664982f2146723545fe27b92afc6e0503780/expr.png\" style=\"display:inline;vertical-align:middle;\" /></a></td></tr>\n",
       "<tr><td>4</td><td>Conditional</td><td>value:&nbsp;5<br>condition:&nbsp;6<br></td><td><a class=\"ProveItLink\" href=\"../e264fdda6eab05245b015b7677a7a17790c7eb550/expr.ipynb\"><img src=\"../e264fdda6eab05245b015b7677a7a17790c7eb550/expr.png\" style=\"display:inline;vertical-align:middle;\" /></a></td></tr>\n",
       "<tr><td>5</td><td>Operation</td><td>operator:&nbsp;7<br>operands:&nbsp;8<br></td><td><a class=\"ProveItLink\" href=\"../00b0ac1284968ea1a2b39fdd2de11441525456c30/expr.ipynb\"><img src=\"../00b0ac1284968ea1a2b39fdd2de11441525456c30/expr.png\" style=\"display:inline;vertical-align:middle;\" /></a></td></tr>\n",
       "<tr><td>6</td><td>Operation</td><td>operator:&nbsp;9<br>operands:&nbsp;10<br></td><td><a class=\"ProveItLink\" href=\"../1dcee5d42a9a39499a39768abf9beb5a120321210/expr.ipynb\"><img src=\"../1dcee5d42a9a39499a39768abf9beb5a120321210/expr.png\" style=\"display:inline;vertical-align:middle;\" /></a></td></tr>\n",
       "<tr><td>7</td><td>Literal</td><td></td><td><a class=\"ProveItLink\" href=\"../../../../../logic/equality/__pv_it/common/fb96dc12b2aa8801dda64d0132b396c63d1502bb0/expr.ipynb\"><img src=\"../../../../../logic/equality/__pv_it/common/fb96dc12b2aa8801dda64d0132b396c63d1502bb0/expr.png\" style=\"display:inline;vertical-align:middle;\" /></a></td></tr>\n",
       "<tr><td>8</td><td>ExprTuple</td><td>11, 12</td><td><a class=\"ProveItLink\" href=\"../1cd14e6276eed449d0ecb10dea26a288a62150af0/expr.ipynb\"><img src=\"../1cd14e6276eed449d0ecb10dea26a288a62150af0/expr.png\" style=\"display:inline;vertical-align:middle;\" /></a></td></tr>\n",
       "<tr><td>9</td><td>Literal</td><td></td><td><a class=\"ProveItLink\" href=\"../../../../../logic/sets/membership/__pv_it/common/477487d8796864d23d5810f83761435f25167f690/expr.ipynb\"><img src=\"../../../../../logic/sets/membership/__pv_it/common/477487d8796864d23d5810f83761435f25167f690/expr.png\" style=\"display:inline;vertical-align:middle;\" /></a></td></tr>\n",
       "<tr><td>10</td><td>ExprTuple</td><td>29, 13</td><td><a class=\"ProveItLink\" href=\"../28d2afb06ec85f8673a332040f8f84c54020e9590/expr.ipynb\"><img src=\"../28d2afb06ec85f8673a332040f8f84c54020e9590/expr.png\" style=\"display:inline;vertical-align:middle;\" /></a></td></tr>\n",
       "<tr><td>11</td><td>Operation</td><td>operator:&nbsp;23<br>operands:&nbsp;14<br></td><td><a class=\"ProveItLink\" href=\"../d3af177b22aa55d801f3268c3ac40d3816783b5d0/expr.ipynb\"><img src=\"../d3af177b22aa55d801f3268c3ac40d3816783b5d0/expr.png\" style=\"display:inline;vertical-align:middle;\" /></a></td></tr>\n",
       "<tr><td>12</td><td>Operation</td><td>operator:&nbsp;23<br>operands:&nbsp;15<br></td><td><a class=\"ProveItLink\" href=\"../0281f0d3f4725bbd3a9726b76e10cdd6a59f84510/expr.ipynb\"><img src=\"../0281f0d3f4725bbd3a9726b76e10cdd6a59f84510/expr.png\" style=\"display:inline;vertical-align:middle;\" /></a></td></tr>\n",
       "<tr><td>13</td><td>Operation</td><td>operator:&nbsp;16<br>operands:&nbsp;17<br></td><td><a class=\"ProveItLink\" href=\"../d52b7b54dc47ec2badf6859f9847ff1f1b35483a0/expr.ipynb\"><img src=\"../d52b7b54dc47ec2badf6859f9847ff1f1b35483a0/expr.png\" style=\"display:inline;vertical-align:middle;\" /></a></td></tr>\n",
       "<tr><td>14</td><td>ExprTuple</td><td>18, 25, 26, 20</td><td><a class=\"ProveItLink\" href=\"../015fb2f97c85880b24f6286962ef94e3e7c890b00/expr.ipynb\"><img src=\"../015fb2f97c85880b24f6286962ef94e3e7c890b00/expr.png\" style=\"display:inline;vertical-align:middle;\" /></a></td></tr>\n",
       "<tr><td>15</td><td>ExprTuple</td><td>18, 19, 20</td><td><a class=\"ProveItLink\" href=\"../6034bae8569870ca41a24707b92af3e5660a1e090/expr.ipynb\"><img src=\"../6034bae8569870ca41a24707b92af3e5660a1e090/expr.png\" style=\"display:inline;vertical-align:middle;\" /></a></td></tr>\n",
       "<tr><td>16</td><td>Literal</td><td></td><td><a class=\"ProveItLink\" href=\"../../../../../numbers/number_sets/integers/__pv_it/common/92f3a0a77e3c3ea8e4a5c8674edadc54e4f57d550/expr.ipynb\"><img src=\"../../../../../numbers/number_sets/integers/__pv_it/common/92f3a0a77e3c3ea8e4a5c8674edadc54e4f57d550/expr.png\" style=\"display:inline;vertical-align:middle;\" /></a></td></tr>\n",
       "<tr><td>17</td><td>ExprTuple</td><td>21, 22</td><td><a class=\"ProveItLink\" href=\"../4dcdc5026f80b9604cf319714818529aceda286b0/expr.ipynb\"><img src=\"../4dcdc5026f80b9604cf319714818529aceda286b0/expr.png\" style=\"display:inline;vertical-align:middle;\" /></a></td></tr>\n",
       "<tr><td>18</td><td>Variable</td><td></td><td><a class=\"ProveItLink\" href=\"../../../../../__pv_it/common/a0d9d672aa5e272d907247690c152cc2c6daafb70/expr.ipynb\"><img src=\"../../../../../__pv_it/common/a0d9d672aa5e272d907247690c152cc2c6daafb70/expr.png\" style=\"display:inline;vertical-align:middle;\" /></a></td></tr>\n",
       "<tr><td>19</td><td>Operation</td><td>operator:&nbsp;23<br>operands:&nbsp;24<br></td><td><a class=\"ProveItLink\" href=\"../aa5830927e009f1be65760f1d1d361f78536cddb0/expr.ipynb\"><img src=\"../aa5830927e009f1be65760f1d1d361f78536cddb0/expr.png\" style=\"display:inline;vertical-align:middle;\" /></a></td></tr>\n",
       "<tr><td>20</td><td>Variable</td><td></td><td><a class=\"ProveItLink\" href=\"../../../../../__pv_it/common/95a8f6b9b9f29b83f192ad7fd05708d6be097a3f0/expr.ipynb\"><img src=\"../../../../../__pv_it/common/95a8f6b9b9f29b83f192ad7fd05708d6be097a3f0/expr.png\" style=\"display:inline;vertical-align:middle;\" /></a></td></tr>\n",
       "<tr><td>21</td><td>Literal</td><td></td><td><a class=\"ProveItLink\" href=\"../../../../../numbers/numerals/__pv_it/common/af4aab8a07465db063742696e006d04670f30cf10/expr.ipynb\"><img src=\"../../../../../numbers/numerals/__pv_it/common/af4aab8a07465db063742696e006d04670f30cf10/expr.png\" style=\"display:inline;vertical-align:middle;\" /></a></td></tr>\n",
       "<tr><td>22</td><td>Literal</td><td></td><td><a class=\"ProveItLink\" href=\"../../../../../numbers/numerals/__pv_it/common/48a1d915c1e9490b9a94e5c77a208938d3ee20ce0/expr.ipynb\"><img src=\"../../../../../numbers/numerals/__pv_it/common/48a1d915c1e9490b9a94e5c77a208938d3ee20ce0/expr.png\" style=\"display:inline;vertical-align:middle;\" /></a></td></tr>\n",
       "<tr><td>23</td><td>Literal</td><td></td><td><a class=\"ProveItLink\" href=\"../../common/7fa25b05174babb4710be62d63ebd43f68aa2fec0/expr.ipynb\"><img src=\"../../common/7fa25b05174babb4710be62d63ebd43f68aa2fec0/expr.png\" style=\"display:inline;vertical-align:middle;\" /></a></td></tr>\n",
       "<tr><td>24</td><td>ExprTuple</td><td>25, 26</td><td><a class=\"ProveItLink\" href=\"../1ae81890faf60a3f20ea50dca9ed03417c5a22680/expr.ipynb\"><img src=\"../1ae81890faf60a3f20ea50dca9ed03417c5a22680/expr.png\" style=\"display:inline;vertical-align:middle;\" /></a></td></tr>\n",
       "<tr><td>25</td><td>Variable</td><td></td><td><a class=\"ProveItLink\" href=\"../../../../../__pv_it/common/ff7dba4ef0bbe791ab573bf2d9c220a304399ac80/expr.ipynb\"><img src=\"../../../../../__pv_it/common/ff7dba4ef0bbe791ab573bf2d9c220a304399ac80/expr.png\" style=\"display:inline;vertical-align:middle;\" /></a></td></tr>\n",
       "<tr><td>26</td><td>Operation</td><td>operator:&nbsp;27<br>operand:&nbsp;29<br></td><td><a class=\"ProveItLink\" href=\"../../../../../__pv_it/common/68d279ba17eb875d9f466a293b0b7fcc3ad8621e0/expr.ipynb\"><img src=\"../../../../../__pv_it/common/68d279ba17eb875d9f466a293b0b7fcc3ad8621e0/expr.png\" style=\"display:inline;vertical-align:middle;\" /></a></td></tr>\n",
       "<tr><td>27</td><td>Variable</td><td></td><td><a class=\"ProveItLink\" href=\"../../../../../__pv_it/common/01b6dbb444a31fc38af4c2379badef6c75b363710/expr.ipynb\"><img src=\"../../../../../__pv_it/common/01b6dbb444a31fc38af4c2379badef6c75b363710/expr.png\" style=\"display:inline;vertical-align:middle;\" /></a></td></tr>\n",
       "<tr><td>28</td><td>ExprTuple</td><td>29</td><td><a class=\"ProveItLink\" href=\"../../../../../__pv_it/common/3b7d7ace2ced0a8261ea4d18d03aaf49e434d69d0/expr.ipynb\"><img src=\"../../../../../__pv_it/common/3b7d7ace2ced0a8261ea4d18d03aaf49e434d69d0/expr.png\" style=\"display:inline;vertical-align:middle;\" /></a></td></tr>\n",
       "<tr><td>29</td><td>Variable</td><td></td><td><a class=\"ProveItLink\" href=\"../../../../../__pv_it/common/ae955345c83abf786c3aff8681cd5465beae262d0/expr.ipynb\"><img src=\"../../../../../__pv_it/common/ae955345c83abf786c3aff8681cd5465beae262d0/expr.png\" style=\"display:inline;vertical-align:middle;\" /></a></td></tr>\n",
       "</table>\n"
      ],
      "text/plain": [
       "0. forall_{i in {2 .. 4}} ((x otimes y otimes f(i) otimes z) = (x otimes (y otimes f(i)) otimes z))\n",
       "   core type: Operation\n",
       "   operator: 1\n",
       "   operand: 3\n",
       "1. forall\n",
       "   core type: Literal\n",
       "   sub-expressions: \n",
       "2. (i -> {(x otimes y otimes f(i) otimes z) = (x otimes (y otimes f(i)) otimes z) if i in {2 .. 4}.)\n",
       "   core type: ExprTuple\n",
       "   sub-expressions: 3\n",
       "3. i -> {(x otimes y otimes f(i) otimes z) = (x otimes (y otimes f(i)) otimes z) if i in {2 .. 4}.\n",
       "   core type: Lambda\n",
       "   parameter: 29\n",
       "   body: 4\n",
       "4. {(x otimes y otimes f(i) otimes z) = (x otimes (y otimes f(i)) otimes z) if i in {2 .. 4}.\n",
       "   core type: Conditional\n",
       "   value: 5\n",
       "   condition: 6\n",
       "5. (x otimes y otimes f(i) otimes z) = (x otimes (y otimes f(i)) otimes z)\n",
       "   core type: Operation\n",
       "   operator: 7\n",
       "   operands: 8\n",
       "6. i in {2 .. 4}\n",
       "   core type: Operation\n",
       "   operator: 9\n",
       "   operands: 10\n",
       "7. =\n",
       "   core type: Literal\n",
       "   sub-expressions: \n",
       "8. (x otimes y otimes f(i) otimes z, x otimes (y otimes f(i)) otimes z)\n",
       "   core type: ExprTuple\n",
       "   sub-expressions: 11, 12\n",
       "9. in\n",
       "   core type: Literal\n",
       "   sub-expressions: \n",
       "10. (i, {2 .. 4})\n",
       "    core type: ExprTuple\n",
       "    sub-expressions: 29, 13\n",
       "11. x otimes y otimes f(i) otimes z\n",
       "    core type: Operation\n",
       "    operator: 23\n",
       "    operands: 14\n",
       "12. x otimes (y otimes f(i)) otimes z\n",
       "    core type: Operation\n",
       "    operator: 23\n",
       "    operands: 15\n",
       "13. {2 .. 4}\n",
       "    core type: Operation\n",
       "    operator: 16\n",
       "    operands: 17\n",
       "14. (x, y, f(i), z)\n",
       "    core type: ExprTuple\n",
       "    sub-expressions: 18, 25, 26, 20\n",
       "15. (x, y otimes f(i), z)\n",
       "    core type: ExprTuple\n",
       "    sub-expressions: 18, 19, 20\n",
       "16. Interval\n",
       "    core type: Literal\n",
       "    sub-expressions: \n",
       "17. (2, 4)\n",
       "    core type: ExprTuple\n",
       "    sub-expressions: 21, 22\n",
       "18. x\n",
       "    core type: Variable\n",
       "    sub-expressions: \n",
       "19. y otimes f(i)\n",
       "    core type: Operation\n",
       "    operator: 23\n",
       "    operands: 24\n",
       "20. z\n",
       "    core type: Variable\n",
       "    sub-expressions: \n",
       "21. 2\n",
       "    core type: Literal\n",
       "    sub-expressions: \n",
       "22. 4\n",
       "    core type: Literal\n",
       "    sub-expressions: \n",
       "23. otimes\n",
       "    core type: Literal\n",
       "    sub-expressions: \n",
       "24. (y, f(i))\n",
       "    core type: ExprTuple\n",
       "    sub-expressions: 25, 26\n",
       "25. y\n",
       "    core type: Variable\n",
       "    sub-expressions: \n",
       "26. f(i)\n",
       "    core type: Operation\n",
       "    operator: 27\n",
       "    operand: 29\n",
       "27. f\n",
       "    core type: Variable\n",
       "    sub-expressions: \n",
       "28. (i)\n",
       "    core type: ExprTuple\n",
       "    sub-expressions: 29\n",
       "29. i\n",
       "    core type: Variable\n",
       "    sub-expressions: "
      ]
     },
     "metadata": {},
     "output_type": "display_data"
    }
   ],
   "source": [
    "# display the expression information\n",
    "stored_expr.expr_info()"
   ]
  },
  {
   "cell_type": "code",
   "execution_count": null,
   "metadata": {},
   "outputs": [],
   "source": []
  }
 ],
 "metadata": {
  "kernelspec": {
   "display_name": "Python 3",
   "language": "python",
   "name": "python3"
  }
 },
 "nbformat": 4,
 "nbformat_minor": 0
}