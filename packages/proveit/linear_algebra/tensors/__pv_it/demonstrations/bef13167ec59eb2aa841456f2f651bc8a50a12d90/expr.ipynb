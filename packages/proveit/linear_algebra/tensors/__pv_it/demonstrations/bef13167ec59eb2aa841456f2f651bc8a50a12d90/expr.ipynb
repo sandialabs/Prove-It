{
 "cells": [
  {
   "cell_type": "markdown",
   "metadata": {},
   "source": [
    "Expression of type <a class=\"ProveItLink\" href=\"../../../../../../../doc/html/api/proveit.Lambda.html\">Lambda</a>\n",
    "=======================\n",
    "# from the theory of <a class=\"ProveItLink\" href=\"../../../_theory_nbs_/theory.ipynb\">proveit.linear_algebra.tensors</a>"
   ]
  },
  {
   "cell_type": "code",
   "execution_count": 1,
   "metadata": {},
   "outputs": [],
   "source": [
    "import proveit\n",
    "# Automation is not needed when building an expression:\n",
    "proveit.defaults.automation = False # This will speed things up.\n",
    "proveit.defaults.inline_pngs = False # Makes files smaller.\n",
    "%load_expr # Load the stored expression as 'stored_expr'\n",
    "# import Expression classes needed to build the expression\n",
    "from proveit import Conditional, Lambda, gamma, i, x, y\n",
    "from proveit.linear_algebra import ScalarMult, TensorProd\n",
    "from proveit.logic import InSet\n",
    "from proveit.numbers import Interval, four, two"
   ]
  },
  {
   "cell_type": "code",
   "execution_count": 2,
   "metadata": {},
   "outputs": [
    {
     "data": {
      "text/html": [
       "<strong id=\"expr\">expr:</strong> <a class=\"ProveItLink\" href=\"expr.ipynb\"><img src=\"expr.png\" style=\"display:inline;vertical-align:middle;\" /></a><br>"
      ],
      "text/plain": [
       "<IPython.core.display.HTML object>"
      ]
     },
     "metadata": {},
     "output_type": "display_data"
    }
   ],
   "source": [
    "# build up the expression from sub-expressions\n",
    "expr = Lambda(i, Conditional(ScalarMult(gamma, ScalarMult(i, TensorProd(x, y))), InSet(i, Interval(two, four))))"
   ]
  },
  {
   "cell_type": "code",
   "execution_count": 3,
   "metadata": {},
   "outputs": [
    {
     "name": "stdout",
     "output_type": "stream",
     "text": [
      "Passed sanity check: expr matches stored_expr\n"
     ]
    }
   ],
   "source": [
    "# check that the built expression is the same as the stored expression\n",
    "assert expr == stored_expr\n",
    "assert expr._style_id == stored_expr._style_id\n",
    "print(\"Passed sanity check: expr matches stored_expr\")"
   ]
  },
  {
   "cell_type": "code",
   "execution_count": 4,
   "metadata": {},
   "outputs": [
    {
     "name": "stdout",
     "output_type": "stream",
     "text": [
      "i \\mapsto \\left\\{\\gamma \\cdot \\left(i \\cdot \\left(x {\\otimes} y\\right)\\right) \\textrm{ if } i \\in \\{2~\\ldotp \\ldotp~4\\}\\right..\n"
     ]
    }
   ],
   "source": [
    "# Show the LaTeX representation of the expression for convenience if you need it.\n",
    "print(stored_expr.latex())"
   ]
  },
  {
   "cell_type": "code",
   "execution_count": 5,
   "metadata": {},
   "outputs": [
    {
     "data": {
      "text/html": [
       "no style options"
      ],
      "text/plain": [
       "no style options"
      ]
     },
     "metadata": {},
     "output_type": "display_data"
    }
   ],
   "source": [
    "stored_expr.style_options()"
   ]
  },
  {
   "cell_type": "code",
   "execution_count": 6,
   "metadata": {},
   "outputs": [
    {
     "data": {
      "text/html": [
       "<table><tr><th>&nbsp;</th><th>core type</th><th>sub-expressions</th><th>expression</th></tr>\n",
       "<tr><td>0</td><td>Lambda</td><td>parameter:&nbsp;15<br>body:&nbsp;2<br></td><td><a class=\"ProveItLink\" href=\"expr.ipynb\"><img src=\"expr.png\" style=\"display:inline;vertical-align:middle;\" /></a></td></tr>\n",
       "<tr><td>1</td><td>ExprTuple</td><td>15</td><td><a class=\"ProveItLink\" href=\"../../../../../__pv_it/common/3b7d7ace2ced0a8261ea4d18d03aaf49e434d69d0/expr.ipynb\"><img src=\"../../../../../__pv_it/common/3b7d7ace2ced0a8261ea4d18d03aaf49e434d69d0/expr.png\" style=\"display:inline;vertical-align:middle;\" /></a></td></tr>\n",
       "<tr><td>2</td><td>Conditional</td><td>value:&nbsp;3<br>condition:&nbsp;4<br></td><td><a class=\"ProveItLink\" href=\"../c546a666712059516528131c6c891b245b1794310/expr.ipynb\"><img src=\"../c546a666712059516528131c6c891b245b1794310/expr.png\" style=\"display:inline;vertical-align:middle;\" /></a></td></tr>\n",
       "<tr><td>3</td><td>Operation</td><td>operator:&nbsp;11<br>operands:&nbsp;5<br></td><td><a class=\"ProveItLink\" href=\"../0ff4afe5cc222e71b761a673dfdf5d92a8a70e160/expr.ipynb\"><img src=\"../0ff4afe5cc222e71b761a673dfdf5d92a8a70e160/expr.png\" style=\"display:inline;vertical-align:middle;\" /></a></td></tr>\n",
       "<tr><td>4</td><td>Operation</td><td>operator:&nbsp;6<br>operands:&nbsp;7<br></td><td><a class=\"ProveItLink\" href=\"../1dcee5d42a9a39499a39768abf9beb5a120321210/expr.ipynb\"><img src=\"../1dcee5d42a9a39499a39768abf9beb5a120321210/expr.png\" style=\"display:inline;vertical-align:middle;\" /></a></td></tr>\n",
       "<tr><td>5</td><td>ExprTuple</td><td>8, 9</td><td><a class=\"ProveItLink\" href=\"../5dd018f9c6f03863d938d1a3b85751ae37dc75f20/expr.ipynb\"><img src=\"../5dd018f9c6f03863d938d1a3b85751ae37dc75f20/expr.png\" style=\"display:inline;vertical-align:middle;\" /></a></td></tr>\n",
       "<tr><td>6</td><td>Literal</td><td></td><td><a class=\"ProveItLink\" href=\"../../../../../logic/sets/membership/__pv_it/common/477487d8796864d23d5810f83761435f25167f690/expr.ipynb\"><img src=\"../../../../../logic/sets/membership/__pv_it/common/477487d8796864d23d5810f83761435f25167f690/expr.png\" style=\"display:inline;vertical-align:middle;\" /></a></td></tr>\n",
       "<tr><td>7</td><td>ExprTuple</td><td>15, 10</td><td><a class=\"ProveItLink\" href=\"../28d2afb06ec85f8673a332040f8f84c54020e9590/expr.ipynb\"><img src=\"../28d2afb06ec85f8673a332040f8f84c54020e9590/expr.png\" style=\"display:inline;vertical-align:middle;\" /></a></td></tr>\n",
       "<tr><td>8</td><td>Variable</td><td></td><td><a class=\"ProveItLink\" href=\"../../../../../__pv_it/common/d3b5a05ce48f7e4b8f946549743adda31d51d0e80/expr.ipynb\"><img src=\"../../../../../__pv_it/common/d3b5a05ce48f7e4b8f946549743adda31d51d0e80/expr.png\" style=\"display:inline;vertical-align:middle;\" /></a></td></tr>\n",
       "<tr><td>9</td><td>Operation</td><td>operator:&nbsp;11<br>operands:&nbsp;12<br></td><td><a class=\"ProveItLink\" href=\"../6cc29088e246b055ca9d07bd6f155838f96949940/expr.ipynb\"><img src=\"../6cc29088e246b055ca9d07bd6f155838f96949940/expr.png\" style=\"display:inline;vertical-align:middle;\" /></a></td></tr>\n",
       "<tr><td>10</td><td>Operation</td><td>operator:&nbsp;13<br>operands:&nbsp;14<br></td><td><a class=\"ProveItLink\" href=\"../d52b7b54dc47ec2badf6859f9847ff1f1b35483a0/expr.ipynb\"><img src=\"../d52b7b54dc47ec2badf6859f9847ff1f1b35483a0/expr.png\" style=\"display:inline;vertical-align:middle;\" /></a></td></tr>\n",
       "<tr><td>11</td><td>Literal</td><td></td><td><a class=\"ProveItLink\" href=\"../../../../scalar_multiplication/__pv_it/common/1e364bd471e6a29fcd358dd2d9cd990a1e6fedd40/expr.ipynb\"><img src=\"../../../../scalar_multiplication/__pv_it/common/1e364bd471e6a29fcd358dd2d9cd990a1e6fedd40/expr.png\" style=\"display:inline;vertical-align:middle;\" /></a></td></tr>\n",
       "<tr><td>12</td><td>ExprTuple</td><td>15, 16</td><td><a class=\"ProveItLink\" href=\"../e87dccb09b719984369e85e1fe2445628d9f6aad0/expr.ipynb\"><img src=\"../e87dccb09b719984369e85e1fe2445628d9f6aad0/expr.png\" style=\"display:inline;vertical-align:middle;\" /></a></td></tr>\n",
       "<tr><td>13</td><td>Literal</td><td></td><td><a class=\"ProveItLink\" href=\"../../../../../numbers/number_sets/integers/__pv_it/common/92f3a0a77e3c3ea8e4a5c8674edadc54e4f57d550/expr.ipynb\"><img src=\"../../../../../numbers/number_sets/integers/__pv_it/common/92f3a0a77e3c3ea8e4a5c8674edadc54e4f57d550/expr.png\" style=\"display:inline;vertical-align:middle;\" /></a></td></tr>\n",
       "<tr><td>14</td><td>ExprTuple</td><td>17, 18</td><td><a class=\"ProveItLink\" href=\"../4dcdc5026f80b9604cf319714818529aceda286b0/expr.ipynb\"><img src=\"../4dcdc5026f80b9604cf319714818529aceda286b0/expr.png\" style=\"display:inline;vertical-align:middle;\" /></a></td></tr>\n",
       "<tr><td>15</td><td>Variable</td><td></td><td><a class=\"ProveItLink\" href=\"../../../../../__pv_it/common/ae955345c83abf786c3aff8681cd5465beae262d0/expr.ipynb\"><img src=\"../../../../../__pv_it/common/ae955345c83abf786c3aff8681cd5465beae262d0/expr.png\" style=\"display:inline;vertical-align:middle;\" /></a></td></tr>\n",
       "<tr><td>16</td><td>Operation</td><td>operator:&nbsp;19<br>operands:&nbsp;20<br></td><td><a class=\"ProveItLink\" href=\"../ffc5987ff2367c75c570016997d286dc9b72582b0/expr.ipynb\"><img src=\"../ffc5987ff2367c75c570016997d286dc9b72582b0/expr.png\" style=\"display:inline;vertical-align:middle;\" /></a></td></tr>\n",
       "<tr><td>17</td><td>Literal</td><td></td><td><a class=\"ProveItLink\" href=\"../../../../../numbers/numerals/__pv_it/common/af4aab8a07465db063742696e006d04670f30cf10/expr.ipynb\"><img src=\"../../../../../numbers/numerals/__pv_it/common/af4aab8a07465db063742696e006d04670f30cf10/expr.png\" style=\"display:inline;vertical-align:middle;\" /></a></td></tr>\n",
       "<tr><td>18</td><td>Literal</td><td></td><td><a class=\"ProveItLink\" href=\"../../../../../numbers/numerals/__pv_it/common/48a1d915c1e9490b9a94e5c77a208938d3ee20ce0/expr.ipynb\"><img src=\"../../../../../numbers/numerals/__pv_it/common/48a1d915c1e9490b9a94e5c77a208938d3ee20ce0/expr.png\" style=\"display:inline;vertical-align:middle;\" /></a></td></tr>\n",
       "<tr><td>19</td><td>Literal</td><td></td><td><a class=\"ProveItLink\" href=\"../../common/7fa25b05174babb4710be62d63ebd43f68aa2fec0/expr.ipynb\"><img src=\"../../common/7fa25b05174babb4710be62d63ebd43f68aa2fec0/expr.png\" style=\"display:inline;vertical-align:middle;\" /></a></td></tr>\n",
       "<tr><td>20</td><td>ExprTuple</td><td>21, 22</td><td><a class=\"ProveItLink\" href=\"../../../../../__pv_it/common/70b6dfe187a2382408546cc714e0c3bc5c3a48c90/expr.ipynb\"><img src=\"../../../../../__pv_it/common/70b6dfe187a2382408546cc714e0c3bc5c3a48c90/expr.png\" style=\"display:inline;vertical-align:middle;\" /></a></td></tr>\n",
       "<tr><td>21</td><td>Variable</td><td></td><td><a class=\"ProveItLink\" href=\"../../../../../__pv_it/common/a0d9d672aa5e272d907247690c152cc2c6daafb70/expr.ipynb\"><img src=\"../../../../../__pv_it/common/a0d9d672aa5e272d907247690c152cc2c6daafb70/expr.png\" style=\"display:inline;vertical-align:middle;\" /></a></td></tr>\n",
       "<tr><td>22</td><td>Variable</td><td></td><td><a class=\"ProveItLink\" href=\"../../../../../__pv_it/common/ff7dba4ef0bbe791ab573bf2d9c220a304399ac80/expr.ipynb\"><img src=\"../../../../../__pv_it/common/ff7dba4ef0bbe791ab573bf2d9c220a304399ac80/expr.png\" style=\"display:inline;vertical-align:middle;\" /></a></td></tr>\n",
       "</table>\n"
      ],
      "text/plain": [
       "0. i -> {gamma * (i * (x otimes y)) if i in {2 .. 4}.\n",
       "   core type: Lambda\n",
       "   parameter: 15\n",
       "   body: 2\n",
       "1. (i)\n",
       "   core type: ExprTuple\n",
       "   sub-expressions: 15\n",
       "2. {gamma * (i * (x otimes y)) if i in {2 .. 4}.\n",
       "   core type: Conditional\n",
       "   value: 3\n",
       "   condition: 4\n",
       "3. gamma * (i * (x otimes y))\n",
       "   core type: Operation\n",
       "   operator: 11\n",
       "   operands: 5\n",
       "4. i in {2 .. 4}\n",
       "   core type: Operation\n",
       "   operator: 6\n",
       "   operands: 7\n",
       "5. (gamma, i * (x otimes y))\n",
       "   core type: ExprTuple\n",
       "   sub-expressions: 8, 9\n",
       "6. in\n",
       "   core type: Literal\n",
       "   sub-expressions: \n",
       "7. (i, {2 .. 4})\n",
       "   core type: ExprTuple\n",
       "   sub-expressions: 15, 10\n",
       "8. gamma\n",
       "   core type: Variable\n",
       "   sub-expressions: \n",
       "9. i * (x otimes y)\n",
       "   core type: Operation\n",
       "   operator: 11\n",
       "   operands: 12\n",
       "10. {2 .. 4}\n",
       "    core type: Operation\n",
       "    operator: 13\n",
       "    operands: 14\n",
       "11. *\n",
       "    core type: Literal\n",
       "    sub-expressions: \n",
       "12. (i, x otimes y)\n",
       "    core type: ExprTuple\n",
       "    sub-expressions: 15, 16\n",
       "13. Interval\n",
       "    core type: Literal\n",
       "    sub-expressions: \n",
       "14. (2, 4)\n",
       "    core type: ExprTuple\n",
       "    sub-expressions: 17, 18\n",
       "15. i\n",
       "    core type: Variable\n",
       "    sub-expressions: \n",
       "16. x otimes y\n",
       "    core type: Operation\n",
       "    operator: 19\n",
       "    operands: 20\n",
       "17. 2\n",
       "    core type: Literal\n",
       "    sub-expressions: \n",
       "18. 4\n",
       "    core type: Literal\n",
       "    sub-expressions: \n",
       "19. otimes\n",
       "    core type: Literal\n",
       "    sub-expressions: \n",
       "20. (x, y)\n",
       "    core type: ExprTuple\n",
       "    sub-expressions: 21, 22\n",
       "21. x\n",
       "    core type: Variable\n",
       "    sub-expressions: \n",
       "22. y\n",
       "    core type: Variable\n",
       "    sub-expressions: "
      ]
     },
     "metadata": {},
     "output_type": "display_data"
    }
   ],
   "source": [
    "# display the expression information\n",
    "stored_expr.expr_info()"
   ]
  },
  {
   "cell_type": "code",
   "execution_count": null,
   "metadata": {},
   "outputs": [],
   "source": []
  }
 ],
 "metadata": {
  "kernelspec": {
   "display_name": "Python 3",
   "language": "python",
   "name": "python3"
  }
 },
 "nbformat": 4,
 "nbformat_minor": 0
}