{
 "cells": [
  {
   "cell_type": "markdown",
   "metadata": {},
   "source": [
    "Expression of type <a class=\"ProveItLink\" href=\"../../../../../../../doc/html/api/proveit.logic.Implies.html\">Implies</a>\n",
    "=======================\n",
    "# from the theory of <a class=\"ProveItLink\" href=\"../../../_theory_nbs_/theory.ipynb\">proveit.linear_algebra.tensors</a>"
   ]
  },
  {
   "cell_type": "code",
   "execution_count": 1,
   "metadata": {},
   "outputs": [],
   "source": [
    "import proveit\n",
    "# Automation is not needed when building an expression:\n",
    "proveit.defaults.automation = False # This will speed things up.\n",
    "proveit.defaults.inline_pngs = False # Makes files smaller.\n",
    "%load_expr # Load the stored expression as 'stored_expr'\n",
    "# import Expression classes needed to build the expression\n",
    "from proveit import fi, i, x, y, z\n",
    "from proveit.linear_algebra import TensorProd, VecSum\n",
    "from proveit.logic import CartExp, Equals, Forall, Implies, InSet\n",
    "from proveit.numbers import Interval, Real, four, three, two"
   ]
  },
  {
   "cell_type": "code",
   "execution_count": 2,
   "metadata": {},
   "outputs": [
    {
     "data": {
      "text/html": [
       "<strong id=\"expr\">expr:</strong> <a class=\"ProveItLink\" href=\"expr.ipynb\"><img src=\"expr.png\" style=\"display:inline;vertical-align:middle;\" /></a><br>"
      ],
      "text/plain": [
       "<IPython.core.display.HTML object>"
      ]
     },
     "metadata": {},
     "output_type": "display_data"
    }
   ],
   "source": [
    "# build up the expression from sub-expressions\n",
    "sub_expr1 = [i]\n",
    "sub_expr2 = CartExp(Real, three)\n",
    "sub_expr3 = Interval(two, four)\n",
    "sub_expr4 = TensorProd(x, y, fi, z)\n",
    "expr = Implies(Forall(instance_param_or_params = sub_expr1, instance_expr = InSet(sub_expr4, TensorProd(sub_expr2, sub_expr2, sub_expr2, sub_expr2)), domain = sub_expr3), Equals(TensorProd(x, y, VecSum(index_or_indices = sub_expr1, summand = fi, domain = sub_expr3), z), VecSum(index_or_indices = sub_expr1, summand = sub_expr4, domain = sub_expr3)).with_wrapping_at(1)).with_wrapping_at(2)"
   ]
  },
  {
   "cell_type": "code",
   "execution_count": 3,
   "metadata": {},
   "outputs": [
    {
     "name": "stdout",
     "output_type": "stream",
     "text": [
      "Passed sanity check: expr matches stored_expr\n"
     ]
    }
   ],
   "source": [
    "# check that the built expression is the same as the stored expression\n",
    "assert expr == stored_expr\n",
    "assert expr._style_id == stored_expr._style_id\n",
    "print(\"Passed sanity check: expr matches stored_expr\")"
   ]
  },
  {
   "cell_type": "code",
   "execution_count": 4,
   "metadata": {},
   "outputs": [
    {
     "name": "stdout",
     "output_type": "stream",
     "text": [
      "\\begin{array}{c} \\begin{array}{l} \\left[\\forall_{i \\in \\{2~\\ldotp \\ldotp~4\\}}~\\left(\\left(x {\\otimes} y {\\otimes} f\\left(i\\right) {\\otimes} z\\right) \\in \\left(\\mathbb{R}^{3} {\\otimes} \\mathbb{R}^{3} {\\otimes} \\mathbb{R}^{3} {\\otimes} \\mathbb{R}^{3}\\right)\\right)\\right] \\Rightarrow  \\\\ \\left(\\begin{array}{c} \\begin{array}{l} \\left(x {\\otimes} y {\\otimes} \\left(\\sum_{i=2}^{4} f\\left(i\\right)\\right) {\\otimes} z\\right) \\\\  = \\left(\\sum_{i=2}^{4} \\left(x {\\otimes} y {\\otimes} f\\left(i\\right) {\\otimes} z\\right)\\right) \\end{array} \\end{array}\\right) \\end{array} \\end{array}\n"
     ]
    }
   ],
   "source": [
    "# Show the LaTeX representation of the expression for convenience if you need it.\n",
    "print(stored_expr.latex())"
   ]
  },
  {
   "cell_type": "code",
   "execution_count": 5,
   "metadata": {},
   "outputs": [
    {
     "data": {
      "text/html": [
       "<table>\n",
       "<tr><th>name</th><th>description</th><th>default</th><th>current value</th><th>related methods</th></tr><tr><td>operation</td><td>'infix' or 'function' style formatting</td><td>infix</td><td>infix</td><td></td></tr>\n",
       "<tr><td>wrap_positions</td><td>position(s) at which wrapping is to occur; '2 n - 1' is after the nth operand, '2 n' is after the nth operation.</td><td>()</td><td>(2)</td><td>('with_wrapping_at', 'with_wrap_before_operator', 'with_wrap_after_operator', 'without_wrapping', 'wrap_positions')</td></tr>\n",
       "<tr><td>justification</td><td>if any wrap positions are set, justify to the 'left', 'center', or 'right'</td><td>center</td><td>center</td><td>('with_justification',)</td></tr>\n",
       "<tr><td>direction</td><td>Direction of the relation (normal or reversed)</td><td>normal</td><td>normal</td><td>('with_direction_reversed', 'is_reversed')</td></tr>\n",
       "</table>\n"
      ],
      "text/plain": [
       "style name: operation\n",
       "description: 'infix' or 'function' style formatting\n",
       "default: infix\n",
       "current value: infix\n",
       "related methods: ()\n",
       "style name: wrap_positions\n",
       "description: position(s) at which wrapping is to occur; '2 n - 1' is after the nth operand, '2 n' is after the nth operation.\n",
       "default: ()\n",
       "current value: (2)\n",
       "related methods: ('with_wrapping_at', 'with_wrap_before_operator', 'with_wrap_after_operator', 'without_wrapping', 'wrap_positions')\n",
       "style name: justification\n",
       "description: if any wrap positions are set, justify to the 'left', 'center', or 'right'\n",
       "default: center\n",
       "current value: center\n",
       "related methods: ('with_justification',)\n",
       "style name: direction\n",
       "description: Direction of the relation (normal or reversed)\n",
       "default: normal\n",
       "current value: normal\n",
       "related methods: ('with_direction_reversed', 'is_reversed')"
      ]
     },
     "metadata": {},
     "output_type": "display_data"
    }
   ],
   "source": [
    "stored_expr.style_options()"
   ]
  },
  {
   "cell_type": "code",
   "execution_count": 6,
   "metadata": {},
   "outputs": [
    {
     "data": {
      "text/html": [
       "<table><tr><th>&nbsp;</th><th>core type</th><th>sub-expressions</th><th>expression</th></tr>\n",
       "<tr><td>0</td><td>Operation</td><td>operator:&nbsp;1<br>operands:&nbsp;2<br></td><td><a class=\"ProveItLink\" href=\"expr.ipynb\"><img src=\"expr.png\" style=\"display:inline;vertical-align:middle;\" /></a></td></tr>\n",
       "<tr><td>1</td><td>Literal</td><td></td><td><a class=\"ProveItLink\" href=\"../../../../../logic/booleans/implication/__pv_it/common/02bdb382575728da8cdbaed545b9096ea7a1bd5b0/expr.ipynb\"><img src=\"../../../../../logic/booleans/implication/__pv_it/common/02bdb382575728da8cdbaed545b9096ea7a1bd5b0/expr.png\" style=\"display:inline;vertical-align:middle;\" /></a></td></tr>\n",
       "<tr><td>2</td><td>ExprTuple</td><td>3, 4</td><td><a class=\"ProveItLink\" href=\"../ae8763e7a0de3fd778af1f3374a1e1812a4db1a30/expr.ipynb\"><img src=\"../ae8763e7a0de3fd778af1f3374a1e1812a4db1a30/expr.png\" style=\"display:inline;vertical-align:middle;\" /></a></td></tr>\n",
       "<tr><td>3</td><td>Operation</td><td>operator:&nbsp;5<br>operand:&nbsp;9<br></td><td><a class=\"ProveItLink\" href=\"../eb8416334aba00444acad61f187ed0846b1b14130/expr.ipynb\"><img src=\"../eb8416334aba00444acad61f187ed0846b1b14130/expr.png\" style=\"display:inline;vertical-align:middle;\" /></a></td></tr>\n",
       "<tr><td>4</td><td>Operation</td><td>operator:&nbsp;7<br>operands:&nbsp;8<br></td><td><a class=\"ProveItLink\" href=\"../73b718e515d08d1deb6bfff782876bc0c9cd69080/expr.ipynb\"><img src=\"../73b718e515d08d1deb6bfff782876bc0c9cd69080/expr.png\" style=\"display:inline;vertical-align:middle;\" /></a></td></tr>\n",
       "<tr><td>5</td><td>Literal</td><td></td><td><a class=\"ProveItLink\" href=\"../../../../../logic/booleans/quantification/universality/__pv_it/common/083d2baa0b8ecab1d230f9ec29a15aa1355809fb0/expr.ipynb\"><img src=\"../../../../../logic/booleans/quantification/universality/__pv_it/common/083d2baa0b8ecab1d230f9ec29a15aa1355809fb0/expr.png\" style=\"display:inline;vertical-align:middle;\" /></a></td></tr>\n",
       "<tr><td>6</td><td>ExprTuple</td><td>9</td><td><a class=\"ProveItLink\" href=\"../6a63244863f12973fa550e225b84426f5ea97d9e0/expr.ipynb\"><img src=\"../6a63244863f12973fa550e225b84426f5ea97d9e0/expr.png\" style=\"display:inline;vertical-align:middle;\" /></a></td></tr>\n",
       "<tr><td>7</td><td>Literal</td><td></td><td><a class=\"ProveItLink\" href=\"../../../../../logic/equality/__pv_it/common/fb96dc12b2aa8801dda64d0132b396c63d1502bb0/expr.ipynb\"><img src=\"../../../../../logic/equality/__pv_it/common/fb96dc12b2aa8801dda64d0132b396c63d1502bb0/expr.png\" style=\"display:inline;vertical-align:middle;\" /></a></td></tr>\n",
       "<tr><td>8</td><td>ExprTuple</td><td>10, 11</td><td><a class=\"ProveItLink\" href=\"../cd86b4297fbcfcd02042c3dbc5571ac0a66e29120/expr.ipynb\"><img src=\"../cd86b4297fbcfcd02042c3dbc5571ac0a66e29120/expr.png\" style=\"display:inline;vertical-align:middle;\" /></a></td></tr>\n",
       "<tr><td>9</td><td>Lambda</td><td>parameter:&nbsp;44<br>body:&nbsp;12<br></td><td><a class=\"ProveItLink\" href=\"../0337eca85b39175f865b36dda4c5cc35d580dce00/expr.ipynb\"><img src=\"../0337eca85b39175f865b36dda4c5cc35d580dce00/expr.png\" style=\"display:inline;vertical-align:middle;\" /></a></td></tr>\n",
       "<tr><td>10</td><td>Operation</td><td>operator:&nbsp;27<br>operands:&nbsp;13<br></td><td><a class=\"ProveItLink\" href=\"../24be00a6e5a2f15731f8c47b2767fec959cf98e40/expr.ipynb\"><img src=\"../24be00a6e5a2f15731f8c47b2767fec959cf98e40/expr.png\" style=\"display:inline;vertical-align:middle;\" /></a></td></tr>\n",
       "<tr><td>11</td><td>Operation</td><td>operator:&nbsp;19<br>operand:&nbsp;17<br></td><td><a class=\"ProveItLink\" href=\"../16fc1c1d157b87468f59abfca36ef71dd70e9ae50/expr.ipynb\"><img src=\"../16fc1c1d157b87468f59abfca36ef71dd70e9ae50/expr.png\" style=\"display:inline;vertical-align:middle;\" /></a></td></tr>\n",
       "<tr><td>12</td><td>Conditional</td><td>value:&nbsp;15<br>condition:&nbsp;30<br></td><td><a class=\"ProveItLink\" href=\"../a1caaf37bc1caf8ea8523d65857f3436df2cae3f0/expr.ipynb\"><img src=\"../a1caaf37bc1caf8ea8523d65857f3436df2cae3f0/expr.png\" style=\"display:inline;vertical-align:middle;\" /></a></td></tr>\n",
       "<tr><td>13</td><td>ExprTuple</td><td>31, 32, 16, 34</td><td><a class=\"ProveItLink\" href=\"../70ffe8e25c83a8cb28c62c0aaf04eb98b19cf3870/expr.ipynb\"><img src=\"../70ffe8e25c83a8cb28c62c0aaf04eb98b19cf3870/expr.png\" style=\"display:inline;vertical-align:middle;\" /></a></td></tr>\n",
       "<tr><td>14</td><td>ExprTuple</td><td>17</td><td><a class=\"ProveItLink\" href=\"../0339da5c71dd4dcb154468e3b0b110c70c3a7b4b0/expr.ipynb\"><img src=\"../0339da5c71dd4dcb154468e3b0b110c70c3a7b4b0/expr.png\" style=\"display:inline;vertical-align:middle;\" /></a></td></tr>\n",
       "<tr><td>15</td><td>Operation</td><td>operator:&nbsp;37<br>operands:&nbsp;18<br></td><td><a class=\"ProveItLink\" href=\"../188743537493cacfc52e6563c024178c05a44c960/expr.ipynb\"><img src=\"../188743537493cacfc52e6563c024178c05a44c960/expr.png\" style=\"display:inline;vertical-align:middle;\" /></a></td></tr>\n",
       "<tr><td>16</td><td>Operation</td><td>operator:&nbsp;19<br>operand:&nbsp;23<br></td><td><a class=\"ProveItLink\" href=\"../27415d1da95ee3c71e2a723015e95c013a1342680/expr.ipynb\"><img src=\"../27415d1da95ee3c71e2a723015e95c013a1342680/expr.png\" style=\"display:inline;vertical-align:middle;\" /></a></td></tr>\n",
       "<tr><td>17</td><td>Lambda</td><td>parameter:&nbsp;44<br>body:&nbsp;21<br></td><td><a class=\"ProveItLink\" href=\"../9bc66886f0112a5b4f97f67f589d659ca3762d0b0/expr.ipynb\"><img src=\"../9bc66886f0112a5b4f97f67f589d659ca3762d0b0/expr.png\" style=\"display:inline;vertical-align:middle;\" /></a></td></tr>\n",
       "<tr><td>18</td><td>ExprTuple</td><td>24, 22</td><td><a class=\"ProveItLink\" href=\"../78a179c7e7931b7c99e358a8fc72ffb0ee0bb1d60/expr.ipynb\"><img src=\"../78a179c7e7931b7c99e358a8fc72ffb0ee0bb1d60/expr.png\" style=\"display:inline;vertical-align:middle;\" /></a></td></tr>\n",
       "<tr><td>19</td><td>Literal</td><td></td><td><a class=\"ProveItLink\" href=\"../../../../addition/__pv_it/common/62f73c830c62efb87627ede5678f282081cd0ce20/expr.ipynb\"><img src=\"../../../../addition/__pv_it/common/62f73c830c62efb87627ede5678f282081cd0ce20/expr.png\" style=\"display:inline;vertical-align:middle;\" /></a></td></tr>\n",
       "<tr><td>20</td><td>ExprTuple</td><td>23</td><td><a class=\"ProveItLink\" href=\"../3411a0c1102598d50489ce3cc1317db80b429f720/expr.ipynb\"><img src=\"../3411a0c1102598d50489ce3cc1317db80b429f720/expr.png\" style=\"display:inline;vertical-align:middle;\" /></a></td></tr>\n",
       "<tr><td>21</td><td>Conditional</td><td>value:&nbsp;24<br>condition:&nbsp;30<br></td><td><a class=\"ProveItLink\" href=\"../58e5696b96a17ada6b6c7d7206efa972c50897a90/expr.ipynb\"><img src=\"../58e5696b96a17ada6b6c7d7206efa972c50897a90/expr.png\" style=\"display:inline;vertical-align:middle;\" /></a></td></tr>\n",
       "<tr><td>22</td><td>Operation</td><td>operator:&nbsp;27<br>operands:&nbsp;25<br></td><td><a class=\"ProveItLink\" href=\"../ed664062d6dec929f65db4cf4f81fb01756d522c0/expr.ipynb\"><img src=\"../ed664062d6dec929f65db4cf4f81fb01756d522c0/expr.png\" style=\"display:inline;vertical-align:middle;\" /></a></td></tr>\n",
       "<tr><td>23</td><td>Lambda</td><td>parameter:&nbsp;44<br>body:&nbsp;26<br></td><td><a class=\"ProveItLink\" href=\"../190fed4c3cce07edbe6f3abae266ff8e33d878520/expr.ipynb\"><img src=\"../190fed4c3cce07edbe6f3abae266ff8e33d878520/expr.png\" style=\"display:inline;vertical-align:middle;\" /></a></td></tr>\n",
       "<tr><td>24</td><td>Operation</td><td>operator:&nbsp;27<br>operands:&nbsp;28<br></td><td><a class=\"ProveItLink\" href=\"../d3af177b22aa55d801f3268c3ac40d3816783b5d0/expr.ipynb\"><img src=\"../d3af177b22aa55d801f3268c3ac40d3816783b5d0/expr.png\" style=\"display:inline;vertical-align:middle;\" /></a></td></tr>\n",
       "<tr><td>25</td><td>ExprTuple</td><td>29, 29, 29, 29</td><td><a class=\"ProveItLink\" href=\"../bba2682aa5fb1a935ef1de1146871fbf9f83724b0/expr.ipynb\"><img src=\"../bba2682aa5fb1a935ef1de1146871fbf9f83724b0/expr.png\" style=\"display:inline;vertical-align:middle;\" /></a></td></tr>\n",
       "<tr><td>26</td><td>Conditional</td><td>value:&nbsp;33<br>condition:&nbsp;30<br></td><td><a class=\"ProveItLink\" href=\"../33991e37ea8eaf2920a80249c832a22ba875c6f60/expr.ipynb\"><img src=\"../33991e37ea8eaf2920a80249c832a22ba875c6f60/expr.png\" style=\"display:inline;vertical-align:middle;\" /></a></td></tr>\n",
       "<tr><td>27</td><td>Literal</td><td></td><td><a class=\"ProveItLink\" href=\"../../common/7fa25b05174babb4710be62d63ebd43f68aa2fec0/expr.ipynb\"><img src=\"../../common/7fa25b05174babb4710be62d63ebd43f68aa2fec0/expr.png\" style=\"display:inline;vertical-align:middle;\" /></a></td></tr>\n",
       "<tr><td>28</td><td>ExprTuple</td><td>31, 32, 33, 34</td><td><a class=\"ProveItLink\" href=\"../015fb2f97c85880b24f6286962ef94e3e7c890b00/expr.ipynb\"><img src=\"../015fb2f97c85880b24f6286962ef94e3e7c890b00/expr.png\" style=\"display:inline;vertical-align:middle;\" /></a></td></tr>\n",
       "<tr><td>29</td><td>Operation</td><td>operator:&nbsp;35<br>operands:&nbsp;36<br></td><td><a class=\"ProveItLink\" href=\"../b09d232dc6c8bd1b305d141dd063505555f74fe50/expr.ipynb\"><img src=\"../b09d232dc6c8bd1b305d141dd063505555f74fe50/expr.png\" style=\"display:inline;vertical-align:middle;\" /></a></td></tr>\n",
       "<tr><td>30</td><td>Operation</td><td>operator:&nbsp;37<br>operands:&nbsp;38<br></td><td><a class=\"ProveItLink\" href=\"../1dcee5d42a9a39499a39768abf9beb5a120321210/expr.ipynb\"><img src=\"../1dcee5d42a9a39499a39768abf9beb5a120321210/expr.png\" style=\"display:inline;vertical-align:middle;\" /></a></td></tr>\n",
       "<tr><td>31</td><td>Variable</td><td></td><td><a class=\"ProveItLink\" href=\"../../../../../__pv_it/common/a0d9d672aa5e272d907247690c152cc2c6daafb70/expr.ipynb\"><img src=\"../../../../../__pv_it/common/a0d9d672aa5e272d907247690c152cc2c6daafb70/expr.png\" style=\"display:inline;vertical-align:middle;\" /></a></td></tr>\n",
       "<tr><td>32</td><td>Variable</td><td></td><td><a class=\"ProveItLink\" href=\"../../../../../__pv_it/common/ff7dba4ef0bbe791ab573bf2d9c220a304399ac80/expr.ipynb\"><img src=\"../../../../../__pv_it/common/ff7dba4ef0bbe791ab573bf2d9c220a304399ac80/expr.png\" style=\"display:inline;vertical-align:middle;\" /></a></td></tr>\n",
       "<tr><td>33</td><td>Operation</td><td>operator:&nbsp;39<br>operand:&nbsp;44<br></td><td><a class=\"ProveItLink\" href=\"../../../../../__pv_it/common/68d279ba17eb875d9f466a293b0b7fcc3ad8621e0/expr.ipynb\"><img src=\"../../../../../__pv_it/common/68d279ba17eb875d9f466a293b0b7fcc3ad8621e0/expr.png\" style=\"display:inline;vertical-align:middle;\" /></a></td></tr>\n",
       "<tr><td>34</td><td>Variable</td><td></td><td><a class=\"ProveItLink\" href=\"../../../../../__pv_it/common/95a8f6b9b9f29b83f192ad7fd05708d6be097a3f0/expr.ipynb\"><img src=\"../../../../../__pv_it/common/95a8f6b9b9f29b83f192ad7fd05708d6be097a3f0/expr.png\" style=\"display:inline;vertical-align:middle;\" /></a></td></tr>\n",
       "<tr><td>35</td><td>Literal</td><td></td><td><a class=\"ProveItLink\" href=\"../../../../../logic/sets/cartesian_products/__pv_it/common/7d20d67ddfbd94ad12efc9670c0d16a295b8ec1a0/expr.ipynb\"><img src=\"../../../../../logic/sets/cartesian_products/__pv_it/common/7d20d67ddfbd94ad12efc9670c0d16a295b8ec1a0/expr.png\" style=\"display:inline;vertical-align:middle;\" /></a></td></tr>\n",
       "<tr><td>36</td><td>ExprTuple</td><td>41, 42</td><td><a class=\"ProveItLink\" href=\"../7153ff9c6d56816696f64f5d4ee2610a6f3959e70/expr.ipynb\"><img src=\"../7153ff9c6d56816696f64f5d4ee2610a6f3959e70/expr.png\" style=\"display:inline;vertical-align:middle;\" /></a></td></tr>\n",
       "<tr><td>37</td><td>Literal</td><td></td><td><a class=\"ProveItLink\" href=\"../../../../../logic/sets/membership/__pv_it/common/477487d8796864d23d5810f83761435f25167f690/expr.ipynb\"><img src=\"../../../../../logic/sets/membership/__pv_it/common/477487d8796864d23d5810f83761435f25167f690/expr.png\" style=\"display:inline;vertical-align:middle;\" /></a></td></tr>\n",
       "<tr><td>38</td><td>ExprTuple</td><td>44, 43</td><td><a class=\"ProveItLink\" href=\"../28d2afb06ec85f8673a332040f8f84c54020e9590/expr.ipynb\"><img src=\"../28d2afb06ec85f8673a332040f8f84c54020e9590/expr.png\" style=\"display:inline;vertical-align:middle;\" /></a></td></tr>\n",
       "<tr><td>39</td><td>Variable</td><td></td><td><a class=\"ProveItLink\" href=\"../../../../../__pv_it/common/01b6dbb444a31fc38af4c2379badef6c75b363710/expr.ipynb\"><img src=\"../../../../../__pv_it/common/01b6dbb444a31fc38af4c2379badef6c75b363710/expr.png\" style=\"display:inline;vertical-align:middle;\" /></a></td></tr>\n",
       "<tr><td>40</td><td>ExprTuple</td><td>44</td><td><a class=\"ProveItLink\" href=\"../../../../../__pv_it/common/3b7d7ace2ced0a8261ea4d18d03aaf49e434d69d0/expr.ipynb\"><img src=\"../../../../../__pv_it/common/3b7d7ace2ced0a8261ea4d18d03aaf49e434d69d0/expr.png\" style=\"display:inline;vertical-align:middle;\" /></a></td></tr>\n",
       "<tr><td>41</td><td>Literal</td><td></td><td><a class=\"ProveItLink\" href=\"../../../../../numbers/number_sets/real_numbers/__pv_it/common/93cac87a1a47e613f7a83b23ef7891599a1a4cca0/expr.ipynb\"><img src=\"../../../../../numbers/number_sets/real_numbers/__pv_it/common/93cac87a1a47e613f7a83b23ef7891599a1a4cca0/expr.png\" style=\"display:inline;vertical-align:middle;\" /></a></td></tr>\n",
       "<tr><td>42</td><td>Literal</td><td></td><td><a class=\"ProveItLink\" href=\"../../../../../numbers/numerals/__pv_it/common/1943b60945420e340d305780feff5c1aff2740ff0/expr.ipynb\"><img src=\"../../../../../numbers/numerals/__pv_it/common/1943b60945420e340d305780feff5c1aff2740ff0/expr.png\" style=\"display:inline;vertical-align:middle;\" /></a></td></tr>\n",
       "<tr><td>43</td><td>Operation</td><td>operator:&nbsp;45<br>operands:&nbsp;46<br></td><td><a class=\"ProveItLink\" href=\"../d52b7b54dc47ec2badf6859f9847ff1f1b35483a0/expr.ipynb\"><img src=\"../d52b7b54dc47ec2badf6859f9847ff1f1b35483a0/expr.png\" style=\"display:inline;vertical-align:middle;\" /></a></td></tr>\n",
       "<tr><td>44</td><td>Variable</td><td></td><td><a class=\"ProveItLink\" href=\"../../../../../__pv_it/common/ae955345c83abf786c3aff8681cd5465beae262d0/expr.ipynb\"><img src=\"../../../../../__pv_it/common/ae955345c83abf786c3aff8681cd5465beae262d0/expr.png\" style=\"display:inline;vertical-align:middle;\" /></a></td></tr>\n",
       "<tr><td>45</td><td>Literal</td><td></td><td><a class=\"ProveItLink\" href=\"../../../../../numbers/number_sets/integers/__pv_it/common/92f3a0a77e3c3ea8e4a5c8674edadc54e4f57d550/expr.ipynb\"><img src=\"../../../../../numbers/number_sets/integers/__pv_it/common/92f3a0a77e3c3ea8e4a5c8674edadc54e4f57d550/expr.png\" style=\"display:inline;vertical-align:middle;\" /></a></td></tr>\n",
       "<tr><td>46</td><td>ExprTuple</td><td>47, 48</td><td><a class=\"ProveItLink\" href=\"../4dcdc5026f80b9604cf319714818529aceda286b0/expr.ipynb\"><img src=\"../4dcdc5026f80b9604cf319714818529aceda286b0/expr.png\" style=\"display:inline;vertical-align:middle;\" /></a></td></tr>\n",
       "<tr><td>47</td><td>Literal</td><td></td><td><a class=\"ProveItLink\" href=\"../../../../../numbers/numerals/__pv_it/common/af4aab8a07465db063742696e006d04670f30cf10/expr.ipynb\"><img src=\"../../../../../numbers/numerals/__pv_it/common/af4aab8a07465db063742696e006d04670f30cf10/expr.png\" style=\"display:inline;vertical-align:middle;\" /></a></td></tr>\n",
       "<tr><td>48</td><td>Literal</td><td></td><td><a class=\"ProveItLink\" href=\"../../../../../numbers/numerals/__pv_it/common/48a1d915c1e9490b9a94e5c77a208938d3ee20ce0/expr.ipynb\"><img src=\"../../../../../numbers/numerals/__pv_it/common/48a1d915c1e9490b9a94e5c77a208938d3ee20ce0/expr.png\" style=\"display:inline;vertical-align:middle;\" /></a></td></tr>\n",
       "</table>\n"
      ],
      "text/plain": [
       "0. [forall_{i in {2 .. 4}} ((x otimes y otimes f(i) otimes z) in (Real^{3} otimes Real^{3} otimes Real^{3} otimes Real^{3}))] =>  \\\\ ((x otimes y otimes (Sum_{i=2}^{4} f(i)) otimes z) \\\\  = (Sum_{i=2}^{4} (x otimes y otimes f(i) otimes z)))\n",
       "   core type: Operation\n",
       "   operator: 1\n",
       "   operands: 2\n",
       "1. =>\n",
       "   core type: Literal\n",
       "   sub-expressions: \n",
       "2. (forall_{i in {2 .. 4}} ((x otimes y otimes f(i) otimes z) in (Real^{3} otimes Real^{3} otimes Real^{3} otimes Real^{3})), (x otimes y otimes (Sum_{i=2}^{4} f(i)) otimes z) \\\\  = (Sum_{i=2}^{4} (x otimes y otimes f(i) otimes z)))\n",
       "   core type: ExprTuple\n",
       "   sub-expressions: 3, 4\n",
       "3. forall_{i in {2 .. 4}} ((x otimes y otimes f(i) otimes z) in (Real^{3} otimes Real^{3} otimes Real^{3} otimes Real^{3}))\n",
       "   core type: Operation\n",
       "   operator: 5\n",
       "   operand: 9\n",
       "4. (x otimes y otimes (Sum_{i=2}^{4} f(i)) otimes z) \\\\  = (Sum_{i=2}^{4} (x otimes y otimes f(i) otimes z))\n",
       "   core type: Operation\n",
       "   operator: 7\n",
       "   operands: 8\n",
       "5. forall\n",
       "   core type: Literal\n",
       "   sub-expressions: \n",
       "6. (i -> {(x otimes y otimes f(i) otimes z) in (Real^{3} otimes Real^{3} otimes Real^{3} otimes Real^{3}) if i in {2 .. 4}.)\n",
       "   core type: ExprTuple\n",
       "   sub-expressions: 9\n",
       "7. =\n",
       "   core type: Literal\n",
       "   sub-expressions: \n",
       "8. (x otimes y otimes (Sum_{i=2}^{4} f(i)) otimes z, Sum_{i=2}^{4} (x otimes y otimes f(i) otimes z))\n",
       "   core type: ExprTuple\n",
       "   sub-expressions: 10, 11\n",
       "9. i -> {(x otimes y otimes f(i) otimes z) in (Real^{3} otimes Real^{3} otimes Real^{3} otimes Real^{3}) if i in {2 .. 4}.\n",
       "   core type: Lambda\n",
       "   parameter: 44\n",
       "   body: 12\n",
       "10. x otimes y otimes (Sum_{i=2}^{4} f(i)) otimes z\n",
       "    core type: Operation\n",
       "    operator: 27\n",
       "    operands: 13\n",
       "11. Sum_{i=2}^{4} (x otimes y otimes f(i) otimes z)\n",
       "    core type: Operation\n",
       "    operator: 19\n",
       "    operand: 17\n",
       "12. {(x otimes y otimes f(i) otimes z) in (Real^{3} otimes Real^{3} otimes Real^{3} otimes Real^{3}) if i in {2 .. 4}.\n",
       "    core type: Conditional\n",
       "    value: 15\n",
       "    condition: 30\n",
       "13. (x, y, Sum_{i=2}^{4} f(i), z)\n",
       "    core type: ExprTuple\n",
       "    sub-expressions: 31, 32, 16, 34\n",
       "14. (i -> {x otimes y otimes f(i) otimes z if i in {2 .. 4}.)\n",
       "    core type: ExprTuple\n",
       "    sub-expressions: 17\n",
       "15. (x otimes y otimes f(i) otimes z) in (Real^{3} otimes Real^{3} otimes Real^{3} otimes Real^{3})\n",
       "    core type: Operation\n",
       "    operator: 37\n",
       "    operands: 18\n",
       "16. Sum_{i=2}^{4} f(i)\n",
       "    core type: Operation\n",
       "    operator: 19\n",
       "    operand: 23\n",
       "17. i -> {x otimes y otimes f(i) otimes z if i in {2 .. 4}.\n",
       "    core type: Lambda\n",
       "    parameter: 44\n",
       "    body: 21\n",
       "18. (x otimes y otimes f(i) otimes z, Real^{3} otimes Real^{3} otimes Real^{3} otimes Real^{3})\n",
       "    core type: ExprTuple\n",
       "    sub-expressions: 24, 22\n",
       "19. Sum\n",
       "    core type: Literal\n",
       "    sub-expressions: \n",
       "20. (i -> {f(i) if i in {2 .. 4}.)\n",
       "    core type: ExprTuple\n",
       "    sub-expressions: 23\n",
       "21. {x otimes y otimes f(i) otimes z if i in {2 .. 4}.\n",
       "    core type: Conditional\n",
       "    value: 24\n",
       "    condition: 30\n",
       "22. Real^{3} otimes Real^{3} otimes Real^{3} otimes Real^{3}\n",
       "    core type: Operation\n",
       "    operator: 27\n",
       "    operands: 25\n",
       "23. i -> {f(i) if i in {2 .. 4}.\n",
       "    core type: Lambda\n",
       "    parameter: 44\n",
       "    body: 26\n",
       "24. x otimes y otimes f(i) otimes z\n",
       "    core type: Operation\n",
       "    operator: 27\n",
       "    operands: 28\n",
       "25. (Real^{3}, Real^{3}, Real^{3}, Real^{3})\n",
       "    core type: ExprTuple\n",
       "    sub-expressions: 29, 29, 29, 29\n",
       "26. {f(i) if i in {2 .. 4}.\n",
       "    core type: Conditional\n",
       "    value: 33\n",
       "    condition: 30\n",
       "27. otimes\n",
       "    core type: Literal\n",
       "    sub-expressions: \n",
       "28. (x, y, f(i), z)\n",
       "    core type: ExprTuple\n",
       "    sub-expressions: 31, 32, 33, 34\n",
       "29. Real^{3}\n",
       "    core type: Operation\n",
       "    operator: 35\n",
       "    operands: 36\n",
       "30. i in {2 .. 4}\n",
       "    core type: Operation\n",
       "    operator: 37\n",
       "    operands: 38\n",
       "31. x\n",
       "    core type: Variable\n",
       "    sub-expressions: \n",
       "32. y\n",
       "    core type: Variable\n",
       "    sub-expressions: \n",
       "33. f(i)\n",
       "    core type: Operation\n",
       "    operator: 39\n",
       "    operand: 44\n",
       "34. z\n",
       "    core type: Variable\n",
       "    sub-expressions: \n",
       "35. CartExp\n",
       "    core type: Literal\n",
       "    sub-expressions: \n",
       "36. (Real, 3)\n",
       "    core type: ExprTuple\n",
       "    sub-expressions: 41, 42\n",
       "37. in\n",
       "    core type: Literal\n",
       "    sub-expressions: \n",
       "38. (i, {2 .. 4})\n",
       "    core type: ExprTuple\n",
       "    sub-expressions: 44, 43\n",
       "39. f\n",
       "    core type: Variable\n",
       "    sub-expressions: \n",
       "40. (i)\n",
       "    core type: ExprTuple\n",
       "    sub-expressions: 44\n",
       "41. Real\n",
       "    core type: Literal\n",
       "    sub-expressions: \n",
       "42. 3\n",
       "    core type: Literal\n",
       "    sub-expressions: \n",
       "43. {2 .. 4}\n",
       "    core type: Operation\n",
       "    operator: 45\n",
       "    operands: 46\n",
       "44. i\n",
       "    core type: Variable\n",
       "    sub-expressions: \n",
       "45. Interval\n",
       "    core type: Literal\n",
       "    sub-expressions: \n",
       "46. (2, 4)\n",
       "    core type: ExprTuple\n",
       "    sub-expressions: 47, 48\n",
       "47. 2\n",
       "    core type: Literal\n",
       "    sub-expressions: \n",
       "48. 4\n",
       "    core type: Literal\n",
       "    sub-expressions: "
      ]
     },
     "metadata": {},
     "output_type": "display_data"
    }
   ],
   "source": [
    "# display the expression information\n",
    "stored_expr.expr_info()"
   ]
  },
  {
   "cell_type": "code",
   "execution_count": null,
   "metadata": {},
   "outputs": [],
   "source": []
  }
 ],
 "metadata": {
  "kernelspec": {
   "display_name": "Python 3",
   "language": "python",
   "name": "python3"
  }
 },
 "nbformat": 4,
 "nbformat_minor": 0
}