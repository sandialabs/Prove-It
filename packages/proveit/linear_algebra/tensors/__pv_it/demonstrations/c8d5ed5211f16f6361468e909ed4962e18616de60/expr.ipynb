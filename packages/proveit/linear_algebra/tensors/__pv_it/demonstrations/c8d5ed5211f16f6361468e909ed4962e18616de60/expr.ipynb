{
 "cells": [
  {
   "cell_type": "markdown",
   "metadata": {},
   "source": [
    "Expression of type <a class=\"ProveItLink\" href=\"../../../../../../../doc/html/api/proveit.ExprTuple.html\">ExprTuple</a>\n",
    "=======================\n",
    "# from the theory of <a class=\"ProveItLink\" href=\"../../../_theory_nbs_/theory.ipynb\">proveit.linear_algebra.tensors</a>"
   ]
  },
  {
   "cell_type": "code",
   "execution_count": 1,
   "metadata": {},
   "outputs": [],
   "source": [
    "import proveit\n",
    "# Automation is not needed when building an expression:\n",
    "proveit.defaults.automation = False # This will speed things up.\n",
    "proveit.defaults.inline_pngs = False # Makes files smaller.\n",
    "%load_expr # Load the stored expression as 'stored_expr'\n",
    "# import Expression classes needed to build the expression\n",
    "from proveit import ExprTuple\n",
    "from proveit.linear_algebra import TensorProd, VecSpaces\n",
    "from proveit.logic import CartExp\n",
    "from proveit.numbers import Real, three"
   ]
  },
  {
   "cell_type": "code",
   "execution_count": 2,
   "metadata": {},
   "outputs": [
    {
     "data": {
      "text/html": [
       "<strong id=\"expr\">expr:</strong> <a class=\"ProveItLink\" href=\"expr.ipynb\"><img src=\"expr.png\" style=\"display:inline;vertical-align:middle;\" /></a><br>"
      ],
      "text/plain": [
       "<IPython.core.display.HTML object>"
      ]
     },
     "metadata": {},
     "output_type": "display_data"
    }
   ],
   "source": [
    "# build up the expression from sub-expressions\n",
    "sub_expr1 = CartExp(Real, three)\n",
    "expr = ExprTuple(TensorProd(sub_expr1, sub_expr1, sub_expr1, sub_expr1, sub_expr1, sub_expr1), VecSpaces(Real))"
   ]
  },
  {
   "cell_type": "code",
   "execution_count": 3,
   "metadata": {},
   "outputs": [
    {
     "name": "stdout",
     "output_type": "stream",
     "text": [
      "Passed sanity check: expr matches stored_expr\n"
     ]
    }
   ],
   "source": [
    "# check that the built expression is the same as the stored expression\n",
    "assert expr == stored_expr\n",
    "assert expr._style_id == stored_expr._style_id\n",
    "print(\"Passed sanity check: expr matches stored_expr\")"
   ]
  },
  {
   "cell_type": "code",
   "execution_count": 4,
   "metadata": {},
   "outputs": [
    {
     "name": "stdout",
     "output_type": "stream",
     "text": [
      "\\left(\\mathbb{R}^{3} {\\otimes} \\mathbb{R}^{3} {\\otimes} \\mathbb{R}^{3} {\\otimes} \\mathbb{R}^{3} {\\otimes} \\mathbb{R}^{3} {\\otimes} \\mathbb{R}^{3}, \\textrm{VecSpaces}\\left(\\mathbb{R}\\right)\\right)\n"
     ]
    }
   ],
   "source": [
    "# Show the LaTeX representation of the expression for convenience if you need it.\n",
    "print(stored_expr.latex())"
   ]
  },
  {
   "cell_type": "code",
   "execution_count": 5,
   "metadata": {},
   "outputs": [
    {
     "data": {
      "text/html": [
       "<table>\n",
       "<tr><th>name</th><th>description</th><th>default</th><th>current value</th><th>related methods</th></tr><tr><td>wrap_positions</td><td>position(s) at which wrapping is to occur; 'n' is after the nth comma.</td><td>()</td><td>()</td><td>('with_wrapping_at',)</td></tr>\n",
       "<tr><td>justification</td><td>if any wrap positions are set, justify to the 'left', 'center', or 'right'</td><td>left</td><td>left</td><td>('with_justification',)</td></tr>\n",
       "</table>\n"
      ],
      "text/plain": [
       "style name: wrap_positions\n",
       "description: position(s) at which wrapping is to occur; 'n' is after the nth comma.\n",
       "default: ()\n",
       "current value: ()\n",
       "related methods: ('with_wrapping_at',)\n",
       "style name: justification\n",
       "description: if any wrap positions are set, justify to the 'left', 'center', or 'right'\n",
       "default: left\n",
       "current value: left\n",
       "related methods: ('with_justification',)"
      ]
     },
     "metadata": {},
     "output_type": "display_data"
    }
   ],
   "source": [
    "stored_expr.style_options()"
   ]
  },
  {
   "cell_type": "code",
   "execution_count": 6,
   "metadata": {},
   "outputs": [
    {
     "data": {
      "text/html": [
       "<table><tr><th>&nbsp;</th><th>core type</th><th>sub-expressions</th><th>expression</th></tr>\n",
       "<tr><td>0</td><td>ExprTuple</td><td>1, 2</td><td><a class=\"ProveItLink\" href=\"expr.ipynb\"><img src=\"expr.png\" style=\"display:inline;vertical-align:middle;\" /></a></td></tr>\n",
       "<tr><td>1</td><td>Operation</td><td>operator:&nbsp;3<br>operands:&nbsp;4<br></td><td><a class=\"ProveItLink\" href=\"../92e7d9450560e145b35cda15ccef2ecf39c040560/expr.ipynb\"><img src=\"../92e7d9450560e145b35cda15ccef2ecf39c040560/expr.png\" style=\"display:inline;vertical-align:middle;\" /></a></td></tr>\n",
       "<tr><td>2</td><td>Operation</td><td>operator:&nbsp;5<br>operand:&nbsp;10<br></td><td><a class=\"ProveItLink\" href=\"../../../../__pv_it/theorems/22e2e4c7fdbd3b9ec6b63836f87ea98550b541530/expr.ipynb\"><img src=\"../../../../__pv_it/theorems/22e2e4c7fdbd3b9ec6b63836f87ea98550b541530/expr.png\" style=\"display:inline;vertical-align:middle;\" /></a></td></tr>\n",
       "<tr><td>3</td><td>Literal</td><td></td><td><a class=\"ProveItLink\" href=\"../../common/7fa25b05174babb4710be62d63ebd43f68aa2fec0/expr.ipynb\"><img src=\"../../common/7fa25b05174babb4710be62d63ebd43f68aa2fec0/expr.png\" style=\"display:inline;vertical-align:middle;\" /></a></td></tr>\n",
       "<tr><td>4</td><td>ExprTuple</td><td>7, 7, 7, 7, 7, 7</td><td><a class=\"ProveItLink\" href=\"../1f721af23729f2777f93fc8b72baaa5049cb27310/expr.ipynb\"><img src=\"../1f721af23729f2777f93fc8b72baaa5049cb27310/expr.png\" style=\"display:inline;vertical-align:middle;\" /></a></td></tr>\n",
       "<tr><td>5</td><td>Literal</td><td></td><td><a class=\"ProveItLink\" href=\"../../../../__pv_it/common/191fa3a3f5c54c22d4b0a7e4fd1b2f7738e981550/expr.ipynb\"><img src=\"../../../../__pv_it/common/191fa3a3f5c54c22d4b0a7e4fd1b2f7738e981550/expr.png\" style=\"display:inline;vertical-align:middle;\" /></a></td></tr>\n",
       "<tr><td>6</td><td>ExprTuple</td><td>10</td><td><a class=\"ProveItLink\" href=\"../../../../__pv_it/theorems/28f654591fe9228ce4d093fcaa2a046edcc49f7c0/expr.ipynb\"><img src=\"../../../../__pv_it/theorems/28f654591fe9228ce4d093fcaa2a046edcc49f7c0/expr.png\" style=\"display:inline;vertical-align:middle;\" /></a></td></tr>\n",
       "<tr><td>7</td><td>Operation</td><td>operator:&nbsp;8<br>operands:&nbsp;9<br></td><td><a class=\"ProveItLink\" href=\"../b09d232dc6c8bd1b305d141dd063505555f74fe50/expr.ipynb\"><img src=\"../b09d232dc6c8bd1b305d141dd063505555f74fe50/expr.png\" style=\"display:inline;vertical-align:middle;\" /></a></td></tr>\n",
       "<tr><td>8</td><td>Literal</td><td></td><td><a class=\"ProveItLink\" href=\"../../../../../logic/sets/cartesian_products/__pv_it/common/7d20d67ddfbd94ad12efc9670c0d16a295b8ec1a0/expr.ipynb\"><img src=\"../../../../../logic/sets/cartesian_products/__pv_it/common/7d20d67ddfbd94ad12efc9670c0d16a295b8ec1a0/expr.png\" style=\"display:inline;vertical-align:middle;\" /></a></td></tr>\n",
       "<tr><td>9</td><td>ExprTuple</td><td>10, 11</td><td><a class=\"ProveItLink\" href=\"../7153ff9c6d56816696f64f5d4ee2610a6f3959e70/expr.ipynb\"><img src=\"../7153ff9c6d56816696f64f5d4ee2610a6f3959e70/expr.png\" style=\"display:inline;vertical-align:middle;\" /></a></td></tr>\n",
       "<tr><td>10</td><td>Literal</td><td></td><td><a class=\"ProveItLink\" href=\"../../../../../numbers/number_sets/real_numbers/__pv_it/common/93cac87a1a47e613f7a83b23ef7891599a1a4cca0/expr.ipynb\"><img src=\"../../../../../numbers/number_sets/real_numbers/__pv_it/common/93cac87a1a47e613f7a83b23ef7891599a1a4cca0/expr.png\" style=\"display:inline;vertical-align:middle;\" /></a></td></tr>\n",
       "<tr><td>11</td><td>Literal</td><td></td><td><a class=\"ProveItLink\" href=\"../../../../../numbers/numerals/__pv_it/common/1943b60945420e340d305780feff5c1aff2740ff0/expr.ipynb\"><img src=\"../../../../../numbers/numerals/__pv_it/common/1943b60945420e340d305780feff5c1aff2740ff0/expr.png\" style=\"display:inline;vertical-align:middle;\" /></a></td></tr>\n",
       "</table>\n"
      ],
      "text/plain": [
       "0. (Real^{3} otimes Real^{3} otimes Real^{3} otimes Real^{3} otimes Real^{3} otimes Real^{3}, VecSpaces(Real))\n",
       "   core type: ExprTuple\n",
       "   sub-expressions: 1, 2\n",
       "1. Real^{3} otimes Real^{3} otimes Real^{3} otimes Real^{3} otimes Real^{3} otimes Real^{3}\n",
       "   core type: Operation\n",
       "   operator: 3\n",
       "   operands: 4\n",
       "2. VecSpaces(Real)\n",
       "   core type: Operation\n",
       "   operator: 5\n",
       "   operand: 10\n",
       "3. otimes\n",
       "   core type: Literal\n",
       "   sub-expressions: \n",
       "4. (Real^{3}, Real^{3}, Real^{3}, Real^{3}, Real^{3}, Real^{3})\n",
       "   core type: ExprTuple\n",
       "   sub-expressions: 7, 7, 7, 7, 7, 7\n",
       "5. VecSpaces\n",
       "   core type: Literal\n",
       "   sub-expressions: \n",
       "6. (Real)\n",
       "   core type: ExprTuple\n",
       "   sub-expressions: 10\n",
       "7. Real^{3}\n",
       "   core type: Operation\n",
       "   operator: 8\n",
       "   operands: 9\n",
       "8. CartExp\n",
       "   core type: Literal\n",
       "   sub-expressions: \n",
       "9. (Real, 3)\n",
       "   core type: ExprTuple\n",
       "   sub-expressions: 10, 11\n",
       "10. Real\n",
       "    core type: Literal\n",
       "    sub-expressions: \n",
       "11. 3\n",
       "    core type: Literal\n",
       "    sub-expressions: "
      ]
     },
     "metadata": {},
     "output_type": "display_data"
    }
   ],
   "source": [
    "# display the expression information\n",
    "stored_expr.expr_info()"
   ]
  },
  {
   "cell_type": "code",
   "execution_count": null,
   "metadata": {},
   "outputs": [],
   "source": []
  }
 ],
 "metadata": {
  "kernelspec": {
   "display_name": "Python 3",
   "language": "python",
   "name": "python3"
  }
 },
 "nbformat": 4,
 "nbformat_minor": 0
}