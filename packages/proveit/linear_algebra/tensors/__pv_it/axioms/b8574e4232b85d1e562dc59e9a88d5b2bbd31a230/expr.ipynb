{
 "cells": [
  {
   "cell_type": "markdown",
   "metadata": {},
   "source": [
    "Expression of type <a class=\"ProveItLink\" href=\"../../../../../../../doc/html/api/proveit.ExprTuple.html\">ExprTuple</a>\n",
    "=======================\n",
    "# from the theory of <a class=\"ProveItLink\" href=\"../../../_theory_nbs_/theory.ipynb\">proveit.linear_algebra.tensors</a>"
   ]
  },
  {
   "cell_type": "code",
   "execution_count": 1,
   "metadata": {},
   "outputs": [],
   "source": [
    "import proveit\n",
    "# Automation is not needed when building an expression:\n",
    "proveit.defaults.automation = False # This will speed things up.\n",
    "proveit.defaults.inline_pngs = False # Makes files smaller.\n",
    "%load_expr # Load the stored expression as 'stored_expr'\n",
    "# import Expression classes needed to build the expression\n",
    "from proveit import A, B, ExprTuple, K, Lambda, U, V, W\n",
    "from proveit.linear_algebra import TensorProd, VecSpaces\n",
    "from proveit.logic import And, Exists, Forall, InSet"
   ]
  },
  {
   "cell_type": "code",
   "execution_count": 2,
   "metadata": {},
   "outputs": [
    {
     "data": {
      "text/html": [
       "<strong id=\"expr\">expr:</strong> <a class=\"ProveItLink\" href=\"expr.ipynb\"><img src=\"expr.png\" style=\"display:inline;vertical-align:middle;\" /></a><br>"
      ],
      "text/plain": [
       "<IPython.core.display.HTML object>"
      ]
     },
     "metadata": {},
     "output_type": "display_data"
    }
   ],
   "source": [
    "# build up the expression from sub-expressions\n",
    "sub_expr1 = VecSpaces(K)\n",
    "expr = ExprTuple(Lambda(K, Forall(instance_param_or_params = [W], instance_expr = Forall(instance_param_or_params = [A, B], instance_expr = Exists(instance_param_or_params = [U, V], instance_expr = And(InSet(A, U), InSet(B, V)), domain = sub_expr1), condition = InSet(TensorProd(A, B), W)), domain = sub_expr1)))"
   ]
  },
  {
   "cell_type": "code",
   "execution_count": 3,
   "metadata": {},
   "outputs": [
    {
     "name": "stdout",
     "output_type": "stream",
     "text": [
      "Passed sanity check: expr matches stored_expr\n"
     ]
    }
   ],
   "source": [
    "# check that the built expression is the same as the stored expression\n",
    "assert expr == stored_expr\n",
    "assert expr._style_id == stored_expr._style_id\n",
    "print(\"Passed sanity check: expr matches stored_expr\")"
   ]
  },
  {
   "cell_type": "code",
   "execution_count": 4,
   "metadata": {},
   "outputs": [
    {
     "name": "stdout",
     "output_type": "stream",
     "text": [
      "\\left(K \\mapsto \\left[\\forall_{W \\underset{{\\scriptscriptstyle c}}{\\in} \\textrm{VecSpaces}\\left(K\\right)}~\\left[\\forall_{A, B~|~\\left(A {\\otimes} B\\right) \\in W}~\\left[\\exists_{U, V \\underset{{\\scriptscriptstyle c}}{\\in} \\textrm{VecSpaces}\\left(K\\right)}~\\left(\\left(A \\in U\\right) \\land \\left(B \\in V\\right)\\right)\\right]\\right]\\right]\\right)\n"
     ]
    }
   ],
   "source": [
    "# Show the LaTeX representation of the expression for convenience if you need it.\n",
    "print(stored_expr.latex())"
   ]
  },
  {
   "cell_type": "code",
   "execution_count": 5,
   "metadata": {},
   "outputs": [
    {
     "data": {
      "text/html": [
       "no style options"
      ],
      "text/plain": [
       "no style options"
      ]
     },
     "metadata": {},
     "output_type": "display_data"
    }
   ],
   "source": [
    "stored_expr.style_options()"
   ]
  },
  {
   "cell_type": "code",
   "execution_count": 6,
   "metadata": {},
   "outputs": [
    {
     "data": {
      "text/html": [
       "<table><tr><th>&nbsp;</th><th>core type</th><th>sub-expressions</th><th>expression</th></tr>\n",
       "<tr><td>0</td><td>ExprTuple</td><td>1</td><td><a class=\"ProveItLink\" href=\"expr.ipynb\"><img src=\"expr.png\" style=\"display:inline;vertical-align:middle;\" /></a></td></tr>\n",
       "<tr><td>1</td><td>Lambda</td><td>parameter:&nbsp;48<br>body:&nbsp;2<br></td><td><a class=\"ProveItLink\" href=\"../109df2773c04391eb77e6bd5d8b0acea511595a10/expr.ipynb\"><img src=\"../109df2773c04391eb77e6bd5d8b0acea511595a10/expr.png\" style=\"display:inline;vertical-align:middle;\" /></a></td></tr>\n",
       "<tr><td>2</td><td>Operation</td><td>operator:&nbsp;9<br>operand:&nbsp;4<br></td><td><a class=\"ProveItLink\" href=\"../605a418a682e5a48d3cea5460ca198b4eed376060/expr.ipynb\"><img src=\"../605a418a682e5a48d3cea5460ca198b4eed376060/expr.png\" style=\"display:inline;vertical-align:middle;\" /></a></td></tr>\n",
       "<tr><td>3</td><td>ExprTuple</td><td>4</td><td><a class=\"ProveItLink\" href=\"../0d7ea898058e0f74c3d6fedf4c9e387ff7a3d4440/expr.ipynb\"><img src=\"../0d7ea898058e0f74c3d6fedf4c9e387ff7a3d4440/expr.png\" style=\"display:inline;vertical-align:middle;\" /></a></td></tr>\n",
       "<tr><td>4</td><td>Lambda</td><td>parameter:&nbsp;21<br>body:&nbsp;6<br></td><td><a class=\"ProveItLink\" href=\"../f3b88cc4b05d38bb24447176bb8d2263be4643c50/expr.ipynb\"><img src=\"../f3b88cc4b05d38bb24447176bb8d2263be4643c50/expr.png\" style=\"display:inline;vertical-align:middle;\" /></a></td></tr>\n",
       "<tr><td>5</td><td>ExprTuple</td><td>21</td><td><a class=\"ProveItLink\" href=\"../0e4037da7e749db8c3a2fc8dc107cc35ef7641c90/expr.ipynb\"><img src=\"../0e4037da7e749db8c3a2fc8dc107cc35ef7641c90/expr.png\" style=\"display:inline;vertical-align:middle;\" /></a></td></tr>\n",
       "<tr><td>6</td><td>Conditional</td><td>value:&nbsp;7<br>condition:&nbsp;8<br></td><td><a class=\"ProveItLink\" href=\"../b1dc168079273ef6a6acafc1b2b7d9a69d5b70030/expr.ipynb\"><img src=\"../b1dc168079273ef6a6acafc1b2b7d9a69d5b70030/expr.png\" style=\"display:inline;vertical-align:middle;\" /></a></td></tr>\n",
       "<tr><td>7</td><td>Operation</td><td>operator:&nbsp;9<br>operand:&nbsp;12<br></td><td><a class=\"ProveItLink\" href=\"../6d52477819485cfdb0d112858ff9039c5aa730e90/expr.ipynb\"><img src=\"../6d52477819485cfdb0d112858ff9039c5aa730e90/expr.png\" style=\"display:inline;vertical-align:middle;\" /></a></td></tr>\n",
       "<tr><td>8</td><td>Operation</td><td>operator:&nbsp;39<br>operands:&nbsp;11<br></td><td><a class=\"ProveItLink\" href=\"../eb6830e9a9a6cc656e9f166b29d2a451b6c3367f0/expr.ipynb\"><img src=\"../eb6830e9a9a6cc656e9f166b29d2a451b6c3367f0/expr.png\" style=\"display:inline;vertical-align:middle;\" /></a></td></tr>\n",
       "<tr><td>9</td><td>Literal</td><td></td><td><a class=\"ProveItLink\" href=\"../../../../../logic/booleans/quantification/universality/__pv_it/common/083d2baa0b8ecab1d230f9ec29a15aa1355809fb0/expr.ipynb\"><img src=\"../../../../../logic/booleans/quantification/universality/__pv_it/common/083d2baa0b8ecab1d230f9ec29a15aa1355809fb0/expr.png\" style=\"display:inline;vertical-align:middle;\" /></a></td></tr>\n",
       "<tr><td>10</td><td>ExprTuple</td><td>12</td><td><a class=\"ProveItLink\" href=\"../c66f49091d154572f9abe4d9ddb40974b08115ca0/expr.ipynb\"><img src=\"../c66f49091d154572f9abe4d9ddb40974b08115ca0/expr.png\" style=\"display:inline;vertical-align:middle;\" /></a></td></tr>\n",
       "<tr><td>11</td><td>ExprTuple</td><td>21, 45</td><td><a class=\"ProveItLink\" href=\"../fb8104d0f93fdb3646b1875ab7337ccc1a7b13e50/expr.ipynb\"><img src=\"../fb8104d0f93fdb3646b1875ab7337ccc1a7b13e50/expr.png\" style=\"display:inline;vertical-align:middle;\" /></a></td></tr>\n",
       "<tr><td>12</td><td>Lambda</td><td>parameters:&nbsp;25<br>body:&nbsp;13<br></td><td><a class=\"ProveItLink\" href=\"../a3ef8c1b1237256c4ae0ce8005cfecb16d18a7830/expr.ipynb\"><img src=\"../a3ef8c1b1237256c4ae0ce8005cfecb16d18a7830/expr.png\" style=\"display:inline;vertical-align:middle;\" /></a></td></tr>\n",
       "<tr><td>13</td><td>Conditional</td><td>value:&nbsp;14<br>condition:&nbsp;15<br></td><td><a class=\"ProveItLink\" href=\"../a3055595a1859cc62c74c884ef64a04b31a375d30/expr.ipynb\"><img src=\"../a3055595a1859cc62c74c884ef64a04b31a375d30/expr.png\" style=\"display:inline;vertical-align:middle;\" /></a></td></tr>\n",
       "<tr><td>14</td><td>Operation</td><td>operator:&nbsp;16<br>operand:&nbsp;19<br></td><td><a class=\"ProveItLink\" href=\"../2622899a9bd6bb284508a1f353aad68da5a5261c0/expr.ipynb\"><img src=\"../2622899a9bd6bb284508a1f353aad68da5a5261c0/expr.png\" style=\"display:inline;vertical-align:middle;\" /></a></td></tr>\n",
       "<tr><td>15</td><td>Operation</td><td>operator:&nbsp;36<br>operands:&nbsp;18<br></td><td><a class=\"ProveItLink\" href=\"../8ec34a576a1e657ebf6d6bb273c16cdbc8ebb5770/expr.ipynb\"><img src=\"../8ec34a576a1e657ebf6d6bb273c16cdbc8ebb5770/expr.png\" style=\"display:inline;vertical-align:middle;\" /></a></td></tr>\n",
       "<tr><td>16</td><td>Literal</td><td></td><td><a class=\"ProveItLink\" href=\"../../../../../logic/booleans/quantification/existence/__pv_it/common/fedc3809ed9823aab11264c156786a59540352e70/expr.ipynb\"><img src=\"../../../../../logic/booleans/quantification/existence/__pv_it/common/fedc3809ed9823aab11264c156786a59540352e70/expr.png\" style=\"display:inline;vertical-align:middle;\" /></a></td></tr>\n",
       "<tr><td>17</td><td>ExprTuple</td><td>19</td><td><a class=\"ProveItLink\" href=\"../67abba47ef505e8a1575e9cecac619fedb3ce7920/expr.ipynb\"><img src=\"../67abba47ef505e8a1575e9cecac619fedb3ce7920/expr.png\" style=\"display:inline;vertical-align:middle;\" /></a></td></tr>\n",
       "<tr><td>18</td><td>ExprTuple</td><td>20, 21</td><td><a class=\"ProveItLink\" href=\"../e0e95404bc6c5af124ecf3b629350552451a89430/expr.ipynb\"><img src=\"../e0e95404bc6c5af124ecf3b629350552451a89430/expr.png\" style=\"display:inline;vertical-align:middle;\" /></a></td></tr>\n",
       "<tr><td>19</td><td>Lambda</td><td>parameters:&nbsp;22<br>body:&nbsp;23<br></td><td><a class=\"ProveItLink\" href=\"../644a69014b73a0100f6854674379ae920391ca440/expr.ipynb\"><img src=\"../644a69014b73a0100f6854674379ae920391ca440/expr.png\" style=\"display:inline;vertical-align:middle;\" /></a></td></tr>\n",
       "<tr><td>20</td><td>Operation</td><td>operator:&nbsp;24<br>operands:&nbsp;25<br></td><td><a class=\"ProveItLink\" href=\"../1ddabd06ff9f478d0d6a97f297298a483849b1a20/expr.ipynb\"><img src=\"../1ddabd06ff9f478d0d6a97f297298a483849b1a20/expr.png\" style=\"display:inline;vertical-align:middle;\" /></a></td></tr>\n",
       "<tr><td>21</td><td>Variable</td><td></td><td><a class=\"ProveItLink\" href=\"../../../../../__pv_it/common/be2a62cde606eb0642ab6f06c6e4aa2c50ff45540/expr.ipynb\"><img src=\"../../../../../__pv_it/common/be2a62cde606eb0642ab6f06c6e4aa2c50ff45540/expr.png\" style=\"display:inline;vertical-align:middle;\" /></a></td></tr>\n",
       "<tr><td>22</td><td>ExprTuple</td><td>43, 44</td><td><a class=\"ProveItLink\" href=\"../48dc76346d86b49f36cb2d7c6a4d4b5b543910e80/expr.ipynb\"><img src=\"../48dc76346d86b49f36cb2d7c6a4d4b5b543910e80/expr.png\" style=\"display:inline;vertical-align:middle;\" /></a></td></tr>\n",
       "<tr><td>23</td><td>Conditional</td><td>value:&nbsp;26<br>condition:&nbsp;27<br></td><td><a class=\"ProveItLink\" href=\"../bb0bd1e4cd79b44ec348289cb4f9aa2460c058080/expr.ipynb\"><img src=\"../bb0bd1e4cd79b44ec348289cb4f9aa2460c058080/expr.png\" style=\"display:inline;vertical-align:middle;\" /></a></td></tr>\n",
       "<tr><td>24</td><td>Literal</td><td></td><td><a class=\"ProveItLink\" href=\"../../common/7fa25b05174babb4710be62d63ebd43f68aa2fec0/expr.ipynb\"><img src=\"../../common/7fa25b05174babb4710be62d63ebd43f68aa2fec0/expr.png\" style=\"display:inline;vertical-align:middle;\" /></a></td></tr>\n",
       "<tr><td>25</td><td>ExprTuple</td><td>41, 42</td><td><a class=\"ProveItLink\" href=\"../e791ee87807ed43d7ac6262f8f70c4ffc8f24c940/expr.ipynb\"><img src=\"../e791ee87807ed43d7ac6262f8f70c4ffc8f24c940/expr.png\" style=\"display:inline;vertical-align:middle;\" /></a></td></tr>\n",
       "<tr><td>26</td><td>Operation</td><td>operator:&nbsp;29<br>operands:&nbsp;28<br></td><td><a class=\"ProveItLink\" href=\"../250827cfdc1ef72042b8a1fa746f01c53658f3cd0/expr.ipynb\"><img src=\"../250827cfdc1ef72042b8a1fa746f01c53658f3cd0/expr.png\" style=\"display:inline;vertical-align:middle;\" /></a></td></tr>\n",
       "<tr><td>27</td><td>Operation</td><td>operator:&nbsp;29<br>operands:&nbsp;30<br></td><td><a class=\"ProveItLink\" href=\"../2cf223d6f092cb777dd8bb4e4260f97c20d21ceb0/expr.ipynb\"><img src=\"../2cf223d6f092cb777dd8bb4e4260f97c20d21ceb0/expr.png\" style=\"display:inline;vertical-align:middle;\" /></a></td></tr>\n",
       "<tr><td>28</td><td>ExprTuple</td><td>31, 32</td><td><a class=\"ProveItLink\" href=\"../839b0a96c3b92cc63b834d70dd9f28411ee4d7ec0/expr.ipynb\"><img src=\"../839b0a96c3b92cc63b834d70dd9f28411ee4d7ec0/expr.png\" style=\"display:inline;vertical-align:middle;\" /></a></td></tr>\n",
       "<tr><td>29</td><td>Literal</td><td></td><td><a class=\"ProveItLink\" href=\"../../../../../logic/booleans/conjunction/__pv_it/common/42118ff318bd65d98b1393f64ce7c2269feef76e0/expr.ipynb\"><img src=\"../../../../../logic/booleans/conjunction/__pv_it/common/42118ff318bd65d98b1393f64ce7c2269feef76e0/expr.png\" style=\"display:inline;vertical-align:middle;\" /></a></td></tr>\n",
       "<tr><td>30</td><td>ExprTuple</td><td>33, 34</td><td><a class=\"ProveItLink\" href=\"../fb6b5b96153a60f6dfe2169dccaf85c8cc8ea7bb0/expr.ipynb\"><img src=\"../fb6b5b96153a60f6dfe2169dccaf85c8cc8ea7bb0/expr.png\" style=\"display:inline;vertical-align:middle;\" /></a></td></tr>\n",
       "<tr><td>31</td><td>Operation</td><td>operator:&nbsp;36<br>operands:&nbsp;35<br></td><td><a class=\"ProveItLink\" href=\"../9526adda97d456d2ba8cb109c630c1da91ef94eb0/expr.ipynb\"><img src=\"../9526adda97d456d2ba8cb109c630c1da91ef94eb0/expr.png\" style=\"display:inline;vertical-align:middle;\" /></a></td></tr>\n",
       "<tr><td>32</td><td>Operation</td><td>operator:&nbsp;36<br>operands:&nbsp;37<br></td><td><a class=\"ProveItLink\" href=\"../eb28204b818995f50b62be75da3700139153ee2f0/expr.ipynb\"><img src=\"../eb28204b818995f50b62be75da3700139153ee2f0/expr.png\" style=\"display:inline;vertical-align:middle;\" /></a></td></tr>\n",
       "<tr><td>33</td><td>Operation</td><td>operator:&nbsp;39<br>operands:&nbsp;38<br></td><td><a class=\"ProveItLink\" href=\"../6f40394f39048c5d47b67f679014d08fe65a64c80/expr.ipynb\"><img src=\"../6f40394f39048c5d47b67f679014d08fe65a64c80/expr.png\" style=\"display:inline;vertical-align:middle;\" /></a></td></tr>\n",
       "<tr><td>34</td><td>Operation</td><td>operator:&nbsp;39<br>operands:&nbsp;40<br></td><td><a class=\"ProveItLink\" href=\"../fdcef8bdda7eadc951141827185574260418b5040/expr.ipynb\"><img src=\"../fdcef8bdda7eadc951141827185574260418b5040/expr.png\" style=\"display:inline;vertical-align:middle;\" /></a></td></tr>\n",
       "<tr><td>35</td><td>ExprTuple</td><td>41, 43</td><td><a class=\"ProveItLink\" href=\"../13b9d70bde0a6d730f8e35e2c0ffc628a6d82ae50/expr.ipynb\"><img src=\"../13b9d70bde0a6d730f8e35e2c0ffc628a6d82ae50/expr.png\" style=\"display:inline;vertical-align:middle;\" /></a></td></tr>\n",
       "<tr><td>36</td><td>Literal</td><td></td><td><a class=\"ProveItLink\" href=\"../../../../../logic/sets/membership/__pv_it/common/477487d8796864d23d5810f83761435f25167f690/expr.ipynb\"><img src=\"../../../../../logic/sets/membership/__pv_it/common/477487d8796864d23d5810f83761435f25167f690/expr.png\" style=\"display:inline;vertical-align:middle;\" /></a></td></tr>\n",
       "<tr><td>37</td><td>ExprTuple</td><td>42, 44</td><td><a class=\"ProveItLink\" href=\"../c595fbdf0356f3637737134326a5d6ddb7ba34dd0/expr.ipynb\"><img src=\"../c595fbdf0356f3637737134326a5d6ddb7ba34dd0/expr.png\" style=\"display:inline;vertical-align:middle;\" /></a></td></tr>\n",
       "<tr><td>38</td><td>ExprTuple</td><td>43, 45</td><td><a class=\"ProveItLink\" href=\"../2b16c5b90593da1d3dbe2ebc15bb41a92f82a5fa0/expr.ipynb\"><img src=\"../2b16c5b90593da1d3dbe2ebc15bb41a92f82a5fa0/expr.png\" style=\"display:inline;vertical-align:middle;\" /></a></td></tr>\n",
       "<tr><td>39</td><td>Literal</td><td></td><td><a class=\"ProveItLink\" href=\"../../../../../logic/classes/membership/__pv_it/common/e3b437d28fbe17f0a50c9789c7c9b47a1270f1420/expr.ipynb\"><img src=\"../../../../../logic/classes/membership/__pv_it/common/e3b437d28fbe17f0a50c9789c7c9b47a1270f1420/expr.png\" style=\"display:inline;vertical-align:middle;\" /></a></td></tr>\n",
       "<tr><td>40</td><td>ExprTuple</td><td>44, 45</td><td><a class=\"ProveItLink\" href=\"../e9269a3a12a2f9c88a561318d0d55d8d11da1e5f0/expr.ipynb\"><img src=\"../e9269a3a12a2f9c88a561318d0d55d8d11da1e5f0/expr.png\" style=\"display:inline;vertical-align:middle;\" /></a></td></tr>\n",
       "<tr><td>41</td><td>Variable</td><td></td><td><a class=\"ProveItLink\" href=\"../../../../../__pv_it/common/09585084922504426caf1db2ff588a23a0932a960/expr.ipynb\"><img src=\"../../../../../__pv_it/common/09585084922504426caf1db2ff588a23a0932a960/expr.png\" style=\"display:inline;vertical-align:middle;\" /></a></td></tr>\n",
       "<tr><td>42</td><td>Variable</td><td></td><td><a class=\"ProveItLink\" href=\"../../../../../__pv_it/common/a9162d1c3cc0470c02e5daf414500903a7a419230/expr.ipynb\"><img src=\"../../../../../__pv_it/common/a9162d1c3cc0470c02e5daf414500903a7a419230/expr.png\" style=\"display:inline;vertical-align:middle;\" /></a></td></tr>\n",
       "<tr><td>43</td><td>Variable</td><td></td><td><a class=\"ProveItLink\" href=\"../../../../../__pv_it/common/2586cdae2fd2785a5bcbf61f99f7aaf8229d775e0/expr.ipynb\"><img src=\"../../../../../__pv_it/common/2586cdae2fd2785a5bcbf61f99f7aaf8229d775e0/expr.png\" style=\"display:inline;vertical-align:middle;\" /></a></td></tr>\n",
       "<tr><td>44</td><td>Variable</td><td></td><td><a class=\"ProveItLink\" href=\"../../../../../__pv_it/common/6d80eb1398b2335bf9ec427954b851b7094dced50/expr.ipynb\"><img src=\"../../../../../__pv_it/common/6d80eb1398b2335bf9ec427954b851b7094dced50/expr.png\" style=\"display:inline;vertical-align:middle;\" /></a></td></tr>\n",
       "<tr><td>45</td><td>Operation</td><td>operator:&nbsp;46<br>operand:&nbsp;48<br></td><td><a class=\"ProveItLink\" href=\"../bfe4d11fbcd28c79c0e2a9c152d66f0991be7cc30/expr.ipynb\"><img src=\"../bfe4d11fbcd28c79c0e2a9c152d66f0991be7cc30/expr.png\" style=\"display:inline;vertical-align:middle;\" /></a></td></tr>\n",
       "<tr><td>46</td><td>Literal</td><td></td><td><a class=\"ProveItLink\" href=\"../../../../__pv_it/common/191fa3a3f5c54c22d4b0a7e4fd1b2f7738e981550/expr.ipynb\"><img src=\"../../../../__pv_it/common/191fa3a3f5c54c22d4b0a7e4fd1b2f7738e981550/expr.png\" style=\"display:inline;vertical-align:middle;\" /></a></td></tr>\n",
       "<tr><td>47</td><td>ExprTuple</td><td>48</td><td><a class=\"ProveItLink\" href=\"../dfa81a569aedd40943c42f533e78bc2f073711130/expr.ipynb\"><img src=\"../dfa81a569aedd40943c42f533e78bc2f073711130/expr.png\" style=\"display:inline;vertical-align:middle;\" /></a></td></tr>\n",
       "<tr><td>48</td><td>Variable</td><td></td><td><a class=\"ProveItLink\" href=\"../../../../../__pv_it/common/1f2ffac7a1dc7c1a4f1fc7348356ae64ea992c790/expr.ipynb\"><img src=\"../../../../../__pv_it/common/1f2ffac7a1dc7c1a4f1fc7348356ae64ea992c790/expr.png\" style=\"display:inline;vertical-align:middle;\" /></a></td></tr>\n",
       "</table>\n"
      ],
      "text/plain": [
       "0. (K -> [forall_{W in_c VecSpaces(K)} [forall_{A, B | (A otimes B) in W} [exists_{U, V in_c VecSpaces(K)} ((A in U) and (B in V))]]])\n",
       "   core type: ExprTuple\n",
       "   sub-expressions: 1\n",
       "1. K -> [forall_{W in_c VecSpaces(K)} [forall_{A, B | (A otimes B) in W} [exists_{U, V in_c VecSpaces(K)} ((A in U) and (B in V))]]]\n",
       "   core type: Lambda\n",
       "   parameter: 48\n",
       "   body: 2\n",
       "2. forall_{W in_c VecSpaces(K)} [forall_{A, B | (A otimes B) in W} [exists_{U, V in_c VecSpaces(K)} ((A in U) and (B in V))]]\n",
       "   core type: Operation\n",
       "   operator: 9\n",
       "   operand: 4\n",
       "3. (W -> {forall_{A, B | (A otimes B) in W} [exists_{U, V in_c VecSpaces(K)} ((A in U) and (B in V))] if W in_c VecSpaces(K).)\n",
       "   core type: ExprTuple\n",
       "   sub-expressions: 4\n",
       "4. W -> {forall_{A, B | (A otimes B) in W} [exists_{U, V in_c VecSpaces(K)} ((A in U) and (B in V))] if W in_c VecSpaces(K).\n",
       "   core type: Lambda\n",
       "   parameter: 21\n",
       "   body: 6\n",
       "5. (W)\n",
       "   core type: ExprTuple\n",
       "   sub-expressions: 21\n",
       "6. {forall_{A, B | (A otimes B) in W} [exists_{U, V in_c VecSpaces(K)} ((A in U) and (B in V))] if W in_c VecSpaces(K).\n",
       "   core type: Conditional\n",
       "   value: 7\n",
       "   condition: 8\n",
       "7. forall_{A, B | (A otimes B) in W} [exists_{U, V in_c VecSpaces(K)} ((A in U) and (B in V))]\n",
       "   core type: Operation\n",
       "   operator: 9\n",
       "   operand: 12\n",
       "8. W in_c VecSpaces(K)\n",
       "   core type: Operation\n",
       "   operator: 39\n",
       "   operands: 11\n",
       "9. forall\n",
       "   core type: Literal\n",
       "   sub-expressions: \n",
       "10. ((A, B) -> {exists_{U, V in_c VecSpaces(K)} ((A in U) and (B in V)) if (A otimes B) in W.)\n",
       "    core type: ExprTuple\n",
       "    sub-expressions: 12\n",
       "11. (W, VecSpaces(K))\n",
       "    core type: ExprTuple\n",
       "    sub-expressions: 21, 45\n",
       "12. (A, B) -> {exists_{U, V in_c VecSpaces(K)} ((A in U) and (B in V)) if (A otimes B) in W.\n",
       "    core type: Lambda\n",
       "    parameters: 25\\n    body: 13\n",
       "13. {exists_{U, V in_c VecSpaces(K)} ((A in U) and (B in V)) if (A otimes B) in W.\n",
       "    core type: Conditional\n",
       "    value: 14\n",
       "    condition: 15\n",
       "14. exists_{U, V in_c VecSpaces(K)} ((A in U) and (B in V))\n",
       "    core type: Operation\n",
       "    operator: 16\n",
       "    operand: 19\n",
       "15. (A otimes B) in W\n",
       "    core type: Operation\n",
       "    operator: 36\n",
       "    operands: 18\n",
       "16. exists\n",
       "    core type: Literal\n",
       "    sub-expressions: \n",
       "17. ((U, V) -> {(A in U) and (B in V) if U in_c VecSpaces(K) ,  V in_c VecSpaces(K).)\n",
       "    core type: ExprTuple\n",
       "    sub-expressions: 19\n",
       "18. (A otimes B, W)\n",
       "    core type: ExprTuple\n",
       "    sub-expressions: 20, 21\n",
       "19. (U, V) -> {(A in U) and (B in V) if U in_c VecSpaces(K) ,  V in_c VecSpaces(K).\n",
       "    core type: Lambda\n",
       "    parameters: 22\\n    body: 23\n",
       "20. A otimes B\n",
       "    core type: Operation\n",
       "    operator: 24\n",
       "    operands: 25\n",
       "21. W\n",
       "    core type: Variable\n",
       "    sub-expressions: \n",
       "22. (U, V)\n",
       "    core type: ExprTuple\n",
       "    sub-expressions: 43, 44\n",
       "23. {(A in U) and (B in V) if U in_c VecSpaces(K) ,  V in_c VecSpaces(K).\n",
       "    core type: Conditional\n",
       "    value: 26\n",
       "    condition: 27\n",
       "24. otimes\n",
       "    core type: Literal\n",
       "    sub-expressions: \n",
       "25. (A, B)\n",
       "    core type: ExprTuple\n",
       "    sub-expressions: 41, 42\n",
       "26. (A in U) and (B in V)\n",
       "    core type: Operation\n",
       "    operator: 29\n",
       "    operands: 28\n",
       "27. (U in_c VecSpaces(K)) and (V in_c VecSpaces(K))\n",
       "    core type: Operation\n",
       "    operator: 29\n",
       "    operands: 30\n",
       "28. (A in U, B in V)\n",
       "    core type: ExprTuple\n",
       "    sub-expressions: 31, 32\n",
       "29. and\n",
       "    core type: Literal\n",
       "    sub-expressions: \n",
       "30. (U in_c VecSpaces(K), V in_c VecSpaces(K))\n",
       "    core type: ExprTuple\n",
       "    sub-expressions: 33, 34\n",
       "31. A in U\n",
       "    core type: Operation\n",
       "    operator: 36\n",
       "    operands: 35\n",
       "32. B in V\n",
       "    core type: Operation\n",
       "    operator: 36\n",
       "    operands: 37\n",
       "33. U in_c VecSpaces(K)\n",
       "    core type: Operation\n",
       "    operator: 39\n",
       "    operands: 38\n",
       "34. V in_c VecSpaces(K)\n",
       "    core type: Operation\n",
       "    operator: 39\n",
       "    operands: 40\n",
       "35. (A, U)\n",
       "    core type: ExprTuple\n",
       "    sub-expressions: 41, 43\n",
       "36. in\n",
       "    core type: Literal\n",
       "    sub-expressions: \n",
       "37. (B, V)\n",
       "    core type: ExprTuple\n",
       "    sub-expressions: 42, 44\n",
       "38. (U, VecSpaces(K))\n",
       "    core type: ExprTuple\n",
       "    sub-expressions: 43, 45\n",
       "39. in_c\n",
       "    core type: Literal\n",
       "    sub-expressions: \n",
       "40. (V, VecSpaces(K))\n",
       "    core type: ExprTuple\n",
       "    sub-expressions: 44, 45\n",
       "41. A\n",
       "    core type: Variable\n",
       "    sub-expressions: \n",
       "42. B\n",
       "    core type: Variable\n",
       "    sub-expressions: \n",
       "43. U\n",
       "    core type: Variable\n",
       "    sub-expressions: \n",
       "44. V\n",
       "    core type: Variable\n",
       "    sub-expressions: \n",
       "45. VecSpaces(K)\n",
       "    core type: Operation\n",
       "    operator: 46\n",
       "    operand: 48\n",
       "46. VecSpaces\n",
       "    core type: Literal\n",
       "    sub-expressions: \n",
       "47. (K)\n",
       "    core type: ExprTuple\n",
       "    sub-expressions: 48\n",
       "48. K\n",
       "    core type: Variable\n",
       "    sub-expressions: "
      ]
     },
     "metadata": {},
     "output_type": "display_data"
    }
   ],
   "source": [
    "# display the expression information\n",
    "stored_expr.expr_info()"
   ]
  },
  {
   "cell_type": "code",
   "execution_count": null,
   "metadata": {},
   "outputs": [],
   "source": []
  }
 ],
 "metadata": {
  "kernelspec": {
   "display_name": "Python 3",
   "language": "python",
   "name": "python3"
  }
 },
 "nbformat": 4,
 "nbformat_minor": 0
}