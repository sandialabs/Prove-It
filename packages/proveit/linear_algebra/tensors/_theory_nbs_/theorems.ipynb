{
 "cells": [
  {
   "cell_type": "markdown",
   "metadata": {},
   "source": [
    "Theorems (or conjectures) for the theory of <a class=\"ProveItLink\" href=\"theory.ipynb\">proveit.linear_algebra.tensors</a>\n",
    "========"
   ]
  },
  {
   "cell_type": "code",
   "execution_count": null,
   "metadata": {},
   "outputs": [],
   "source": [
    "import proveit\n",
    "# Prepare this notebook for defining the theorems of a theory:\n",
    "%theorems_notebook # Keep this at the top following 'import proveit'.\n",
    "\n",
    "from proveit import ExprRange, IndexedVar\n",
    "from proveit import f, i, j, k, m, n, x, y, K, S, V, W, alpha, fy\n",
    "from proveit.core_expr_types import (\n",
    "    x_1_to_i, x_1_to_m, y_1_to_j, z_1_to_k, z_1_to_n,\n",
    "    U_1_to_i, V_1_to_j, W_1_to_k)\n",
    "from proveit.logic import Forall, Equals\n",
    "from proveit.numbers import one, Natural\n",
    "from proveit.linear_algebra import (VecSpaces, VecAdd, VecSum,\n",
    "                                    ScalarMult, TensorProd)"
   ]
  },
  {
   "cell_type": "code",
   "execution_count": null,
   "metadata": {},
   "outputs": [],
   "source": [
    "%begin theorems"
   ]
  },
  {
   "cell_type": "code",
   "execution_count": null,
   "metadata": {},
   "outputs": [],
   "source": [
    "unary_tensor_prod_reduction = (\n",
    "    Forall(K,\n",
    "        Forall(\n",
    "            V, Forall(x, Equals(TensorProd(x), x),\n",
    "                      domain=V),\n",
    "            domain=VecSpaces(K))))"
   ]
  },
  {
   "cell_type": "code",
   "execution_count": null,
   "metadata": {},
   "outputs": [],
   "source": [
    "tensor_prod_associativity = (\n",
    "    Forall(\n",
    "        K, Forall(\n",
    "            (i, j, k), Forall(\n",
    "                (U_1_to_i, V_1_to_j, W_1_to_k), Forall(\n",
    "                    (x_1_to_i,y_1_to_j,z_1_to_k),\n",
    "                    Equals(TensorProd(x_1_to_i,y_1_to_j,z_1_to_k),\n",
    "                           TensorProd(x_1_to_i,TensorProd(y_1_to_j),z_1_to_k))\n",
    "                    .with_wrapping_at(2),\n",
    "                    domains=(U_1_to_i, V_1_to_j, W_1_to_k)),\n",
    "                domain=VecSpaces(K)),\n",
    "            domain=Natural)))"
   ]
  },
  {
   "cell_type": "code",
   "execution_count": null,
   "metadata": {},
   "outputs": [],
   "source": [
    "distribute_tensor_prod_over_sum = (\n",
    "    Forall(\n",
    "        K, Forall(\n",
    "            (i, j, k), Forall(\n",
    "                (U_1_to_i, V, W_1_to_k), Forall(\n",
    "                    y_1_to_j, Forall(\n",
    "                        (x_1_to_i, z_1_to_k),\n",
    "                        Equals(TensorProd(x_1_to_i, \n",
    "                                          VecAdd(y_1_to_j),\n",
    "                                          z_1_to_k),\n",
    "                               VecAdd(ExprRange(\n",
    "                                   m, TensorProd(x_1_to_i, \n",
    "                                                 IndexedVar(y, m),\n",
    "                                                 z_1_to_k),\n",
    "                                   one, j))).with_wrapping_at(2),\n",
    "                        domains=(U_1_to_i, W_1_to_k)),\n",
    "                    domain=V),\n",
    "                domain=VecSpaces(K)),\n",
    "             domain=Natural)))"
   ]
  },
  {
   "cell_type": "code",
   "execution_count": null,
   "metadata": {},
   "outputs": [],
   "source": [
    "# distribute_tensor_prod_over_summation = (\n",
    "#     Forall((m, n),\n",
    "#     Forall((f, S, x_1_to_m, z_1_to_n), \n",
    "#     Equals(TensorProd(x_1_to_m, VecSum(y, fy, domain=S), z_1_to_n),\n",
    "#     VecSum(y, TensorProd(x_1_to_m, fy, z_1_to_n), domain=S))),\n",
    "#     domain = Natural))"
   ]
  },
  {
   "cell_type": "code",
   "execution_count": null,
   "metadata": {},
   "outputs": [],
   "source": [
    "factor_scalar_from_tensor_prod = (\n",
    "    Forall(\n",
    "        K, Forall(\n",
    "            alpha, Forall(\n",
    "                (i, k), Forall(\n",
    "                    (U_1_to_i, V, W_1_to_k), Forall(\n",
    "                        (x_1_to_i, y, z_1_to_k),\n",
    "                        Equals(TensorProd(x_1_to_i, \n",
    "                                          ScalarMult(alpha, y), \n",
    "                                          z_1_to_k),\n",
    "                               ScalarMult(alpha, \n",
    "                                          TensorProd(x_1_to_i, \n",
    "                                                     y, z_1_to_k)))\n",
    "                        .with_wrapping_at(2),\n",
    "                        domains=(U_1_to_i, V, W_1_to_k)),\n",
    "                    domain=VecSpaces(K)),\n",
    "                domain=Natural),\n",
    "            domain=K)))"
   ]
  },
  {
   "cell_type": "code",
   "execution_count": null,
   "metadata": {},
   "outputs": [],
   "source": [
    "# Isn't this just substitution?\n",
    "'''\n",
    "tensor_prod_equiv_by_elimination = (\n",
    "    Forall((m, n),\n",
    "    Forall((a_1_to_m, x, y, z_1_to_n),\n",
    "           Iff(Equals(TensorProd(a_1_to_m, x, z_1_to_n),\n",
    "                      TensorProd(a_1_to_m, y, z_1_to_n)),\n",
    "               Equals(x, y))),\n",
    "    domain = Natural))\n",
    "'''"
   ]
  },
  {
   "cell_type": "code",
   "execution_count": null,
   "metadata": {},
   "outputs": [],
   "source": [
    "'''\n",
    "tensor_prod_linearity = (\n",
    "    Forall((a, b, f, g),\n",
    "    Forall((c, d),\n",
    "           Forall(t, Equals(Sum(j, Mult(fj, TensorProd(a, RegisterKet(j, t))), domain=Interval(c, d)),\n",
    "                  TensorProd(a, Sum(j, Mult(fj, RegisterKet(j, t)), domain=Interval(c, d)))),\n",
    "                  domain=NaturalPos),\n",
    "           domain=Integer)))\n",
    "'''"
   ]
  },
  {
   "cell_type": "code",
   "execution_count": null,
   "metadata": {},
   "outputs": [],
   "source": []
  },
  {
   "cell_type": "code",
   "execution_count": null,
   "metadata": {},
   "outputs": [],
   "source": [
    "%end theorems"
   ]
  }
 ],
 "metadata": {
  "kernelspec": {
   "display_name": "Python 3",
   "language": "python",
   "name": "python3"
  }
 },
 "nbformat": 4,
 "nbformat_minor": 0
}
