{
 "cells": [
  {
   "cell_type": "markdown",
   "metadata": {},
   "source": [
    "Theorems (or conjectures) for the theory of <a class=\"ProveItLink\" href=\"theory.ipynb\">proveit.linear_algebra.tensors</a>\n",
    "========"
   ]
  },
  {
   "cell_type": "code",
   "execution_count": null,
   "metadata": {},
   "outputs": [],
   "source": [
    "import proveit\n",
    "# Prepare this notebook for defining the theorems of a theory:\n",
    "%theorems_notebook # Keep this at the top following 'import proveit'.\n",
    "\n",
    "from proveit import ExprRange, IndexedVar\n",
    "from proveit import a, b, c, d, e, f, i, j, k, m, n, K, S, U, V, W, alpha, fb\n",
    "from proveit.core_expr_types import (\n",
    "    a_1_to_i, a_1_to_m, b_1_to_j, c_1_to_k, c_1_to_n, \n",
    "    d_1_to_i, d_1_to_j, e_1_to_k, f_1_to_k,\n",
    "    U_1_to_i, V_1_to_i, W_1_to_k)\n",
    "from proveit.logic import (Implies, Forall, Equals, NotEquals, \n",
    "                           InSet, InClass)\n",
    "from proveit.numbers import one, Natural, NaturalPos\n",
    "from proveit.linear_algebra import (VecSpaces, VecAdd, VecSum, VecZero,\n",
    "                                    ScalarMult, TensorProd)"
   ]
  },
  {
   "cell_type": "code",
   "execution_count": null,
   "metadata": {},
   "outputs": [],
   "source": [
    "%begin theorems"
   ]
  },
  {
   "cell_type": "code",
   "execution_count": null,
   "metadata": {},
   "outputs": [],
   "source": [
    "tensor_prod_is_in_tensor_prod_space = Forall(\n",
    "    K, Forall(\n",
    "        i, Forall(\n",
    "            V_1_to_i, Forall(\n",
    "                a_1_to_i, InSet(TensorProd(a_1_to_i),\n",
    "                                TensorProd(V_1_to_i)),\n",
    "                domains=[V_1_to_i]),\n",
    "            domain=VecSpaces(K)),\n",
    "        domain=NaturalPos))"
   ]
  },
  {
   "cell_type": "code",
   "execution_count": null,
   "metadata": {},
   "outputs": [],
   "source": [
    "tensor_prod_of_vec_spaces_is_vec_space = Forall(\n",
    "    K, Forall(i, Forall(V_1_to_i, InClass(TensorProd(V_1_to_i),\n",
    "                                          VecSpaces(K)),\n",
    "                        domain=VecSpaces(K)),\n",
    "              domain=NaturalPos))"
   ]
  },
  {
   "cell_type": "code",
   "execution_count": null,
   "metadata": {},
   "outputs": [],
   "source": [
    "tensor_prod_association = (\n",
    "    Forall(\n",
    "        K, Forall(\n",
    "            (i, j, k), Forall(\n",
    "                V, Forall(\n",
    "                    (a_1_to_i, b_1_to_j, c_1_to_k),\n",
    "                    Equals(TensorProd(a_1_to_i, b_1_to_j, c_1_to_k),\n",
    "                           TensorProd(a_1_to_i, TensorProd(b_1_to_j), c_1_to_k))\n",
    "                    .with_wrapping_at(2),\n",
    "                    condition=InSet(TensorProd(a_1_to_i, b_1_to_j, c_1_to_k), V)),\n",
    "                domain=VecSpaces(K)),\n",
    "            domain=Natural)))"
   ]
  },
  {
   "cell_type": "code",
   "execution_count": null,
   "metadata": {},
   "outputs": [],
   "source": [
    "tensor_prod_disassociation = (\n",
    "    Forall(\n",
    "        K, Forall(\n",
    "            (i, j, k), Forall(\n",
    "                V, Forall(\n",
    "                    (a_1_to_i, b_1_to_j, c_1_to_k),\n",
    "                    Equals(TensorProd(a_1_to_i, TensorProd(b_1_to_j), c_1_to_k),\n",
    "                           TensorProd(a_1_to_i, b_1_to_j, c_1_to_k))\n",
    "                    .with_wrapping_at(2),\n",
    "                    condition=InSet(TensorProd(a_1_to_i, TensorProd(b_1_to_j),\n",
    "                                               c_1_to_k), V)),\n",
    "                domain=VecSpaces(K)),\n",
    "            domain=Natural)))"
   ]
  },
  {
   "cell_type": "code",
   "execution_count": null,
   "metadata": {},
   "outputs": [],
   "source": [
    "tensor_prod_distribution_over_add = (\n",
    "    Forall(\n",
    "        K, Forall(\n",
    "            (i, j, k), Forall(\n",
    "                V, Forall(\n",
    "                    (a_1_to_i, b_1_to_j, c_1_to_k),\n",
    "                    Equals(TensorProd(a_1_to_i, \n",
    "                                      VecAdd(b_1_to_j),\n",
    "                                      c_1_to_k),\n",
    "                           VecAdd(ExprRange(\n",
    "                               m, TensorProd(a_1_to_i, \n",
    "                                             IndexedVar(b, m),\n",
    "                                             c_1_to_k),\n",
    "                               one, j))).with_wrapping_at(2),\n",
    "                    condition=InSet(TensorProd(\n",
    "                        a_1_to_i, VecAdd(b_1_to_j), c_1_to_k), V)),\n",
    "                domain=VecSpaces(K)),\n",
    "             domain=Natural)))"
   ]
  },
  {
   "cell_type": "code",
   "execution_count": null,
   "metadata": {},
   "outputs": [],
   "source": [
    "tensor_prod_distribution_over_summation = (\n",
    "    Forall(\n",
    "        (K, f, S), Forall(\n",
    "            (i, k), Forall(\n",
    "                V, Forall(\n",
    "                    (a_1_to_i, c_1_to_k), \n",
    "                    Equals(TensorProd(a_1_to_i, VecSum(b, fb, domain=S), c_1_to_k),\n",
    "                           VecSum(b, TensorProd(a_1_to_i, fb, c_1_to_k),\n",
    "                                  domain=S)).with_wrapping_at(2)\n",
    "                    .with_wrapping_at(2),\n",
    "                    condition=InSet(TensorProd(a_1_to_i, VecSum(b, fb, domain=S), c_1_to_k), V)),\n",
    "                domain=VecSpaces(K)),\n",
    "             domain=Natural)))"
   ]
  },
  {
   "cell_type": "code",
   "execution_count": null,
   "metadata": {},
   "outputs": [],
   "source": [
    "factor_scalar_from_tensor_prod = (\n",
    "    Forall(\n",
    "        K, Forall(\n",
    "            alpha, Forall(\n",
    "                (i, k), Forall(\n",
    "                    V, Forall(\n",
    "                        (a_1_to_i, b, c_1_to_k),\n",
    "                        Equals(TensorProd(a_1_to_i, \n",
    "                                          ScalarMult(alpha, b), \n",
    "                                          c_1_to_k),\n",
    "                               ScalarMult(alpha, \n",
    "                                          TensorProd(a_1_to_i, \n",
    "                                                     b, c_1_to_k)))\n",
    "                        .with_wrapping_at(2),\n",
    "                        condition=InSet(TensorProd(\n",
    "                            a_1_to_i, ScalarMult(alpha, b), \n",
    "                            c_1_to_k), V)),\n",
    "                    domain=VecSpaces(K)),\n",
    "                domain=Natural),\n",
    "            domain=K)))"
   ]
  },
  {
   "cell_type": "code",
   "execution_count": null,
   "metadata": {},
   "outputs": [],
   "source": [
    "remove_vec_on_both_sides_of_equality = (\n",
    "    Forall(\n",
    "        K, Forall(\n",
    "            (i, k), Forall(\n",
    "                (U_1_to_i, V, W_1_to_k), Forall(\n",
    "                    (a_1_to_i, c_1_to_k, d_1_to_i, f_1_to_k), Forall(\n",
    "                        (b, e), \n",
    "                        Implies(Equals(TensorProd(a_1_to_i, b, c_1_to_k),\n",
    "                                       TensorProd(d_1_to_i, e, f_1_to_k)),\n",
    "                                Equals(TensorProd(a_1_to_i, c_1_to_k), \n",
    "                                       TensorProd(d_1_to_i, f_1_to_k)))\n",
    "                        .with_wrapping_at(2),\n",
    "                        domain=V, conditions=[\n",
    "                            Equals(b, e),\n",
    "                            NotEquals(b, VecZero(V))]),\n",
    "                    domains=(U_1_to_i, W_1_to_k, U_1_to_i, W_1_to_k)),\n",
    "                domain=VecSpaces(K)),\n",
    "             domain=Natural)))"
   ]
  },
  {
   "cell_type": "code",
   "execution_count": null,
   "metadata": {},
   "outputs": [],
   "source": [
    "insert_vec_on_both_sides_of_equality = (\n",
    "    Forall(\n",
    "        K, Forall(\n",
    "            (i, k), Forall(\n",
    "                (U_1_to_i, V, W_1_to_k), Forall(\n",
    "                    (a_1_to_i, c_1_to_k, d_1_to_i, e_1_to_k), Forall(\n",
    "                        b, \n",
    "                        Implies(Equals(TensorProd(a_1_to_i, c_1_to_k),\n",
    "                                       TensorProd(d_1_to_i, e_1_to_k)),\n",
    "                                Equals(TensorProd(a_1_to_i, b, c_1_to_k), \n",
    "                                       TensorProd(d_1_to_i, b, e_1_to_k)))\n",
    "                        .with_wrapping_at(2),\n",
    "                        domain=V),\n",
    "                    domains=(U_1_to_i, W_1_to_k, U_1_to_i, W_1_to_k)),\n",
    "                domain=VecSpaces(K)),\n",
    "             domain=Natural)))"
   ]
  },
  {
   "cell_type": "code",
   "execution_count": null,
   "metadata": {},
   "outputs": [],
   "source": [
    "%end theorems"
   ]
  }
 ],
 "metadata": {
  "kernelspec": {
   "display_name": "Python 3",
   "language": "python",
   "name": "python3"
  }
 },
 "nbformat": 4,
 "nbformat_minor": 0
}
