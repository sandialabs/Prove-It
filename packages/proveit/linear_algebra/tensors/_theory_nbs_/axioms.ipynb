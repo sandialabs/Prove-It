{
 "cells": [
  {
   "cell_type": "markdown",
   "metadata": {},
   "source": [
    "Axioms for the theory of <a class=\"ProveItLink\" href=\"theory.ipynb\">proveit.linear_algebra.tensors</a>\n",
    "========"
   ]
  },
  {
   "cell_type": "code",
   "execution_count": 1,
   "metadata": {},
   "outputs": [],
   "source": [
    "import proveit\n",
    "# Prepare this notebook for defining the axioms of a theory:\n",
    "%axioms_notebook # Keep this at the top following 'import proveit'.\n",
    "\n",
    "from proveit import m, A, B, K, U, V, W\n",
    "from proveit.core_expr_types import A_1_to_m\n",
    "from proveit.logic import And, Forall, Exists, Equals, InSet\n",
    "from proveit.numbers import Natural\n",
    "from proveit.linear_algebra import VecSpaces, TensorProd"
   ]
  },
  {
   "cell_type": "code",
   "execution_count": 2,
   "metadata": {},
   "outputs": [
    {
     "name": "stdout",
     "output_type": "stream",
     "text": [
      "Defining axioms for theory 'proveit.linear_algebra.tensors'\n",
      "Subsequent end-of-cell assignments will define axioms\n",
      "%end_axioms will finalize the definitions\n"
     ]
    }
   ],
   "source": [
    "%begin axioms"
   ]
  },
  {
   "cell_type": "markdown",
   "metadata": {},
   "source": [
    "A unary tensor product of a vector (over any field) is just the vector itself."
   ]
  },
  {
   "cell_type": "code",
   "execution_count": 3,
   "metadata": {},
   "outputs": [
    {
     "data": {
      "text/html": [
       "<strong id=\"unary_tensor_prod_def\">unary_tensor_prod_def:</strong> <a class=\"ProveItLink\" href=\"../__pv_it/axioms/59108eb1ba46ac34c8712c95a7695ab6a43095050/axiom_expr.ipynb\"><img src=\"data:image/png;base64,iVBORw0KGgoAAAANSUhEUgAAAY4AAAAzBAMAAAByCfJQAAAAMFBMVEX///+IiIgiIiIQEBB2dnbu\n",
       "7u5UVFTMzMzc3NwyMjK6urpmZmaYmJiqqqpEREQAAACk/Np2AAAAAXRSTlMAQObYZgAAAAlwSFlz\n",
       "AAAOxAAADsQBlSsOGwAABZpJREFUaN7tml1oHFUUx89sZrKzsx+ZxBS0tmnZgD6ImEqpUAU3mtiw\n",
       "bWT6kAcRNC+CL9otVd901xoLYmmDH8UHa1cpFEXDUmKqNdCNjVhqqluqglB0C8ZIwCSVpMYYjed+\n",
       "zMzdmbuk6CpsmAvNbM85d//3d+fce+5MAiBrWl+fBfXT+vr65I7QykqhjjhmV/6qwpGH+mpfBhwB\n",
       "R8ARcAQcAUfAEXAEHHXI0XLrqiE5IYh/0gVn9W4s+v/hSK8aoZTEIPZxI6MZBHhb2sf2pClHmZgu\n",
       "+zkS5Bov1ohDqiK0r8HHEU/Rz5E5SilptodxnCamN/wcUXJLIrkacUhVhOfPQT/HQ+zzDzhaeF3W\n",
       "yfYwjmfIHSr7OcL9eD1Uq7ySqrgtWmTD2d3Vtc7mGGWukUX88YWsk+1hHBF8EFdLkvVB5qC3VhxS\n",
       "Fbc1sMEbHyJKnnN0UI868BvxS94WOB7GEcOpiMjW+QReB2vFIVVx27uMYwjTWJtmHAbTfl75k+S3\n",
       "ZJ06HsYBdyaTW2UcDclke6pm+5VMxW3DLKi/B+Bhlc1wlGkX4stk7vv9fRwP5zgFMCnjiGYgYdWM\n",
       "w1GRfuWbNEjJqTmtoKXoyNgtMErhebzE6M05mSTtFtbF9XCOA6AjrTH7BETuFjnQeuCfDDpu73GK\n",
       "yMFUMG3u4rZP8fZcmuL/uZ0GNQLseBnvCh1ZiK6mKOjXyHdu9m8NjodzJCyVbLE3ABy3KurgJIkQ\n",
       "5Iw90xBOmjykufUpOcd5zPNrJXi1AAWBg6uASpJ675PToOI6HrADttMgFUeHsOx+NNDwtk9GyKup\n",
       "8JxPxvVwjrhJF+BPoOQr6/lFssxtOSLdgCl7oz0dGRiRlwIcidIBRjfOi8DBVeDEFux7ikzkAhlx\n",
       "BUcUpXZg4rscGs7ar2QKO3wyrodzwOAYcSzr3Z5zSSRmOnJUWplzpXGnbJSXAuya6If15Assoa4x\n",
       "FTCPAGygp4oliDlV9ijn0FM4mYwjUqLJA9Du5JW4PgSPzdFLKkV48azp4VC/sxw5Kg3LEM/Ark5Q\n",
       "Oh+PPAa6/srYTkvfhbUaDcS+YdyEEMY1FQcIglMw0rYKrpmPQWP18CocdPSu0CCjhKm63mBHrQQZ\n",
       "zvv47xhZzb4SKnhsjhfIAlTmBzo8HPo2R45Ln8RpiJSixZ0wrN9xWx6yOWWwMdWQAzSg/XxKN+El\n",
       "jMse3EJXfEHgoCpwAtehwYrBETet4AEWdBotCj9qka1WJ0OaxWmMmt4zouCxORIZ8qMMW73n3SlH\n",
       "jksfzj8LWYhPLsKLEG67CvsAlvRcoqihAe1Tf3xjwRDGbeq5n24MZYGDqsBw1x4r9tbMzC84KYq7\n",
       "Bb/DNwNSByd5HdwM2uzvFny/8hqOx3POq/CkxXN7UxE2WbJzO5Xj0olyCs5OTLw3Rx8OsoTjHmht\n",
       "MQ00oD0/tJKHb7HPDN0SIFz2nttxKz6cCbP78NUHwrxlWNDY0+FWO158ZtlfdZffD5Uc2RzT9nFQ\n",
       "OS5tLJk4etAX6CIP0fsRKSbWEQPawxZWpefoOlIWvHllZ3VTiRfErPCbiViBBWkXN1p2vHg2HK3K\n",
       "MVrJoRzrgUvzMg4mxyt+uwWYRcUfYXdTHksbro/yo1aoGdCA9gsFfM4IkT0DaJIqpocjug20M0fh\n",
       "EE2xkFjZf/af2xNuLlU/KRNP+rqeB5kck6Zz1NUMaqcZPd6VguyFm0EZ/fwKMaA93jmeI/I3zefi\n",
       "96aEkXieB7UHZ6Y9go/4OTR38NXPR8RzfRxVpbHtk3Q1UuLgWLtv1edzvSgEtWynF3dbPle13zke\n",
       "/e+ez7My40fOp+46eV+iz8p+iajaSRDL1wlHlWZzaMF7uP+OY+/4muAI90fWBAc7HdU/R8jS1gSH\n",
       "0Xs5eN8ecAQca4zjszr7O7K2Khx193dkfwP3qcY7K2i32wAAAABJRU5ErkJggg==\n",
       "\" style=\"display:inline;vertical-align:middle;\" /></a><br>"
      ],
      "text/plain": [
       "unary_tensor_prod_def: forall_{K} [forall_{V in_c VecSpaces(K)} [forall_{A in V} ([otimes](A) = A)]]"
      ]
     },
     "execution_count": 3,
     "metadata": {},
     "output_type": "execute_result"
    }
   ],
   "source": [
    "unary_tensor_prod_def = Forall(\n",
    "        K, Forall(V, Forall(A, Equals(TensorProd(A), A), domain=V),\n",
    "                  domain=VecSpaces(K)))"
   ]
  },
  {
   "cell_type": "markdown",
   "metadata": {},
   "source": [
    "Need binary_tensor_prod_def to really define tensor products"
   ]
  },
  {
   "cell_type": "markdown",
   "metadata": {},
   "source": [
    "By the following axiom, we can know that a TensorProd only results in an element of a vector space over a field if the operands are also in vector spaces over that field (otherwise, if no such field or vector spaces exists, the TensorProd is not defined unless it is a tensor product of vector spaces themselves):"
   ]
  },
  {
   "cell_type": "code",
   "execution_count": 4,
   "metadata": {},
   "outputs": [
    {
     "data": {
      "text/html": [
       "<strong id=\"tensor_prod_in_vec_space_only_if_valid\">tensor_prod_in_vec_space_only_if_valid:</strong> <a class=\"ProveItLink\" href=\"../__pv_it/axioms/8e33499f8f1993427a5327cee7c227f98c0db2860/axiom_expr.ipynb\"><img src=\"data:image/png;base64,iVBORw0KGgoAAAANSUhEUgAAAvMAAAAzBAMAAADoXJp5AAAAMFBMVEX///+IiIgiIiIQEBB2dnbu\n",
       "7u5UVFTMzMzc3NwyMjK6urpmZmaYmJiqqqpEREQAAACk/Np2AAAAAXRSTlMAQObYZgAAAAlwSFlz\n",
       "AAAOxAAADsQBlSsOGwAACLtJREFUeNrtnGtsHFcVx/+z3vXOvsc0Da+QWBshBBQSaFVEaauJcKoI\n",
       "N+0EaiOgiv0BokYVeCNH/YAEO2pLJL7UFlVQPpBmE0WKWpVmVaJUaV2xpYGE1JCFFhWUiGxbQqNA\n",
       "1glq1MRtvdzXPO7O+CFmFq2ludLdx733f+bMb849c2fGXsCnDA0NIdySGBoyut1i5wvjyl7m9X5d\n",
       "672QNxprtardbrHzZaY1J17yrVbDd8hnQt9orNL9Fv8f5Y/2SzZCH6GP0EfoI/QR+gh9hD5CH6GP\n",
       "0EfoI/QR+gh9hD5CH6GP0Efol15MURcesVjLPCYj9AsUpc4rKT+dZ8h+P81CZb8tktAz+Gc96P2a\n",
       "g4HK0/dcLUz0zxaLxdtCRv+aqKTsa+vate7zNbx1XfOQpuOzM3Pbtr8tt3+0dQk48J+qczgl9M/T\n",
       "9z0e9H7NwUBlaJimzLCj/hPhkk9M8krDpNXeeS/ZpqIDu8X3zY4G6CHROlaSjV2nZka5YLcH/UPk\n",
       "TW140Ps1BwOVJC7gMXQ5+kyNV/pxrD1O6DTIGMArguynHQ0woQGH255Z3kxqL7jgFQ/6FDEVr3vQ\n",
       "+zUHBLXbiZPuRd8jKimb7hUxvLpY5PNgTpDs4Y+0ld9VbA1wmow+rckCeqw+LARMJKHPkkOW8p5m\n",
       "/ZoDgpom75Pdjv5JUcmc19bw0HvyRtGXvkJe7qNpk0+LWLJha0iyIfVxUxKAzBtVFwImklc4XywW\n",
       "b/FZ4fg0BwTVUyyu1bsd/RFRSRrBOUZYtTI74u+Sl1P0w6g4u+6xNcCdwPCnZAE9OfRCCJhIRv8c\n",
       "cN4HvU/zEstf7TWXDCpTQp7N1ESboOrStf91itZJ9D6e/kJU4Jcos0BxVgax9cLZLJ+8e3DG1iA5\n",
       "17eSC11LidM1dqiYgIlk9LugkuORnvk+Ul9xoWfN2Zv17Fo98RYP1vTYRSSLFoy+FTt99ydbsY1V\n",
       "JVDE3i725Rssh6ZnjgzyxVjD0pGj8iVbwvszllXJE2Hxz2RxeQcemqupb1ZBupG7sxTQ08+JSpsm\n",
       "WHA7aXeEfqc1189gjyJmWBoo14BXa7IAh3WWb5iAiWT0eSNOd/oG4KDhQs+bm8B24AT5vuMHF9FD\n",
       "7HzEWgqUcNR3h4YdYwflGD2Pr/FpyHPob9g4G/0wm5kfEPwrBjS7P002mVzZrLg8aY/63GXgKfLp\n",
       "q+CJNZCnt4kK5V8vjDHHxsnxLbJPNAGp1LXkZfq1twRFszTIrxcZySXASIPlGyZgIhl9TmOH6Z9Q\n",
       "Ku6Ew5uPIbEWCbKBzHPUHaLWnaVAr+8OPe8YSxkSqD/xs2x6nIfjg2RCutCzK4lDXwB2MlpWP0mc\n",
       "L5TcnnjQZya5V+cMxBHUUxv9FqDAgnurk7mJH3GaTdI08+BbJEr6bfQFMh2yV2QBsXCKz8L1QtR2\n",
       "I2HyJfrxfXWjfCOBNd+A+GmWCVexjveRK+HuDVA2PJD6HlT1Zy8NGurdZBdWrDTjxzWsIrXfMeas\n",
       "ThmoVJaRU1L8LHUHEje50LO90H6OxKCJR3W7fzMUNo1tTzzoYzrHPFHBycCe7hWVpiCW2xFz0Iu1\n",
       "pUg4dKH8oqVBmXjZOysLELvKj/88CQeb6Rk5ee1lTUbPms/h9cPGD8nh5XieJbk3Vc/UBnFEXffZ\n",
       "CsqmMtmr95jxakbfi6m0rmrqpGMsV5VAxf/GYkvLsOBXr0wfLTnoqY6gPUbqJlW/3+4/I6LI8sSL\n",
       "fqTCZ0NBU2uBPX1D1DRdDrK8othcyLTCA86tr37rNg8djzVkOpQnZQHyc+Ks0hCiNvSP0CBU3nl0\n",
       "vYyeNZdNbaKkcU9YYP0IZeTOX8NPkFx9BePArGrmayOm+s3L+Hvyvb8Y6YZjLN2QQKm3ssaSwjqz\n",
       "/RiuOujZ2EMkuBXEX6PhLfqfwdNskOWJF/050AgnpEbjCOzpXaI+QsFdsycCX7pUsYsFS4b6waZw\n",
       "viTG43Fi5MuGLEBmVrxrQtSGnsnzDdwio2fNI/tROEsMZp9oNi/RUTpenp5+ioSDSmjQHbodKz6k\n",
       "HSYjbp8+hWdaFXrLwjKWlNGDLWgyA3ddZWepKtRZBz3V4cjAmKEguYeiF/0/xu+bzWbd9sR7++wY\n",
       "WI5Hpp9eygT09ACvW1u7kZu5ztLF8EVrs/c8yI99zGTrEKrThWZ7a9u2J0TWcgRZMZmogIn8bhoX\n",
       "alhjeG8aF15EYcraBDmusxrZDahXWdKLsVhK1fI3Thj8JG5kJ+lOWMbaEo61UlfZQqCnjvS7Dnqq\n",
       "I8AnSgp2xE3F7j+DnZInXotH2TmR7MxsPbinsRKv7nLwzaJ8Ff5w2yVG23h/wcPz3a8vm2xB1o6+\n",
       "p4EYsyIur9YayNcStX9gS6FCVukkgzZGjFhfXk9o/8b9ZAcaNAVaxpys54CiCeEDejlOIHy9Kp9m\n",
       "SWop1NOHNGx63e7vE9dhticeiweQ0KnBJP+ngGCe0jjNLvaH+1Nt1weL/qH/lCXyQa/s24RX3/Gi\n",
       "z5voZRdnj/EjS2+/DfQhvkHLHBzQUf7Dx6FMnXhDtOU2HDdxwTGWN72gfjWK71yvj9eVfQODl+BC\n",
       "fwGZW5H49V4MkASiweq/APVtyROPxdx3yaJmnET8JxGCpxdEXaB47uguMp4JuOh/eUqVuKd50ds6\n",
       "7iN2rqNcK1zPMyX3TdGGrFNOJFc52yWd9zWblUWfUtVD8nSrvDL3K/n2ux2LjGcCLgrvAWHZ7463\n",
       "E5sb5wWVMzzoHd23P+b0xo2lPSDMGSF5Sheo6sLP0k56onqRZ28nbVFo6NUZvyy30XWPZD70WXjQ\n",
       "u3bfVU5haeizYXna2dLhx+IJz4dFHmKbnuFOMZaIPjRPlzX6ToHqtMWuRb/j+HJBH8zT7kOfHE0t\n",
       "E/QBPe0+9PnSckk4AT3tPvQxI7FM0Af0tPvQpzefXSboA3oarXCiFU6EPkIfoY/Qdxj9TaH/FFHs\n",
       "t2H/cFD4FjtfhoZWi5fE0BZ/9NFPEXWmyD9F9F/qsYTESVLofAAAAABJRU5ErkJggg==\n",
       "\" style=\"display:inline;vertical-align:middle;\" /></a><br>"
      ],
      "text/plain": [
       "tensor_prod_in_vec_space_only_if_valid: forall_{K} [forall_{W in_c VecSpaces(K)} [forall_{A, B | (A otimes B) in W} [exists_{U, V in_c VecSpaces(K)} ((A in U) and (B in V))]]]"
      ]
     },
     "execution_count": 4,
     "metadata": {},
     "output_type": "execute_result"
    }
   ],
   "source": [
    "tensor_prod_in_vec_space_only_if_valid = Forall(\n",
    "    K, Forall(\n",
    "        W, Forall(\n",
    "            (A, B), Exists((U, V),\n",
    "                           And(InSet(A, U), InSet(B, V)),\n",
    "                          domain=VecSpaces(K)),\n",
    "            condition=InSet(TensorProd(A, B), W)),\n",
    "        domain=VecSpaces(K)))"
   ]
  },
  {
   "cell_type": "markdown",
   "metadata": {},
   "source": [
    "We define multiple tensor products as successive tensor products without any constraints for simplicity."
   ]
  },
  {
   "cell_type": "code",
   "execution_count": 5,
   "metadata": {},
   "outputs": [
    {
     "data": {
      "text/html": [
       "<strong id=\"multi_tensor_prod_def\">multi_tensor_prod_def:</strong> <a class=\"ProveItLink\" href=\"../__pv_it/axioms/8190f532f55792378e3e1fed006b5b69055686400/axiom_expr.ipynb\"><img src=\"data:image/png;base64,iVBORw0KGgoAAAANSUhEUgAAAcQAAAAzBAMAAAD7kWU5AAAAMFBMVEX///+IiIgiIiIQEBB2dnbu\n",
       "7u5UVFTMzMzc3NwyMjK6urpmZmaYmJiqqqpEREQAAACk/Np2AAAAAXRSTlMAQObYZgAAAAlwSFlz\n",
       "AAAOxAAADsQBlSsOGwAAB55JREFUaN7Vmn9sE2UYx59be+2td9cVREQioxkiGv6ZRkA0kJqUH5oQ\n",
       "ijITgmL9kRn0j3UOjZqYVZkkREObAGriDyqYYCKTEgEjIBYTjWRkOxD+0BhpNIjBZCuGAdvY6vvj\n",
       "rve77XVw08vWu/e5u/e9773P+7zP+2kBKmxsS0sM/r9bS0tLxWvqisXs+Fp5fiKksefofqA4Vlli\n",
       "ZpyN+XK6InddldjX9qrie703XuKz+uIM+mhpBzVstj8VCNmdEcOuSRTC+pYjZFdfcFDFDqtqB8Za\n",
       "159X3pjVdtA1iamErriG7s46kCgWrayePEBbAuptY2Fdzi2Jt+uLR+RXfFUxrIpGb7a6T7XzbUlN\n",
       "GJkSfZCoSiEX3ZsFwTYWivNckig068u06O26ogymA0iNRRMa+/KVGkf4PAbsdHzQh4x9SOY826Y/\n",
       "cEmiJ6J/chpm3mBGZcMXqIfYC+b7VDsXmimp9/+FPtbhR2pD/1vRRR/aNr036Y7EmfqxwlPFWfGa\n",
       "bIgvB1jrNQ8o1c7DWXXa8XmTwGaXoKPFAI/NQfultk3XZ92ReIehWfK0Acl/iZaZpDfJZtmI8TaN\n",
       "vRs61dPTYDmshdUA/rFJU0kHHidvrolscf1gHHRFov+KoTbiczxwl5EfoqfzASx7G/WZKV9Q7VlI\n",
       "qafj4H0li88yKF79hN/XKfsE56IrEn2GaOMhtTUePojSqvbJKO4gvUiAqRdVO/P34bZ8yR4h8x06\n",
       "G0QVe/H767Rv/HdXJHriFhJZFAj/oR3AA3Qtwz1l2FT7KoAGNXvIAhdN4LMNqGIBd9Mu+8b7km5I\n",
       "7MwZxqJEnx9mKRK5CJOxkqjY0V9dMwhH2qcyPyRQqQum4wpwxb5hxVEtxyI8mXND4sqkvhzEOeUe\n",
       "OSk7hQPPBoDpAck0LSr2QI5ke8KunCfOxKHbHwEm040iNaq4M11eAXWhGy3xD+MYQ61yeHwOJGkH\n",
       "HMLD7TT23iH83tPyQcm+Eb+Xq/DWZGjIoBmH/xRn8ujcVvQaFuI5ZZ9948EwlUiG8q9lJQZJCM7V\n",
       "InGxsXfCwA4MxeC34jYqMZhU1nZzcWNZ+UCxrytuB3FgKAJPQQcJx2Tqj8H6Ymvrx6Tv77Rv3Fug\n",
       "Eg/h3ftlJfK4I+uTtSxMR4yWOZpjMoyOveSfYnWrwb4AGiHlRyHmlli7Nv5y4TLJ4zCV+DK+Ll9W\n",
       "oh/79JaapsWLRkuPUSJ7coblYkFv5wqoH3vRZAFPTDqji0u5Sq33ktWIVyo/Frej/YpaJIqjpvGh\n",
       "OkPXjn1VVxSII0/bZLEk2VLRh3pBwCGrQrg5gfbpWiQKV0zN5q8vozlX7uRlOaLe09R0bwWJnqam\n",
       "WZFaHoC5ajK9c10VCmUjxJgs8avyrwJL5BMQJAODtb7GduXtHZxQwrhQlrgJOENW8OL+DDNfKxFd\n",
       "sIkUHk1Y+vwC3UpvJHpUuYyfWIlNssRgzKuZ3f1T+zNifAkc0E395+BhmqxYxiXvqIFHMUry7StM\n",
       "qMRZskQxpI02h1EHiMd4NfcnEk/SaBPosGR6u+/WLS6yIBT+WxIhfQxKaS6Dpxnx9c9Ceon1AtHG\n",
       "1Metagq9q8sMJXgkZ++oHIwXF1tHGK6Mo8IKNO0pae46Mpsllvyil+j9mUSUEG81dTDwtY4q3tbz\n",
       "XMmFzRF1BpTg52YHujTXfmI9c4bsww1sRF2jpLl7qESeyeskciT6BBJokHGm8LsbbtIWvwP2hZJ6\n",
       "07yIUbGMiy0RsN2muZbRB4Qy0Hi+IjGI45+c5h7v7++XxAQbSetXGueJ20WXDsJrs40V7Y+2aWcN\n",
       "pC+VsZ3610AJF1sjYJs0SXvtdsOaKW8HjUd0iyk5zd1AexG6QxaLqRBw6JFnm/wUUgnhmxOHTtOp\n",
       "YhHAXmXSEIeNrR5RcbGKgB3i4p4qoTF7SStRSXPJDC9kgImbJeLV6SiRuBrYiPKBfbtBCjTC/cj/\n",
       "kIUbBHZuaQq6Zmy2uYSLVQTsFBd7YtVBYyUN16e5HPbIne8B5M0Sv4zD2iEJS+yQ/PdBRxJ/SPx8\n",
       "YL/9CM6zaR9akyyCWy9Fj0p6VzGgYhkXqwjYIS6mpLIKaEwXAaZV/+r+/kz5VT92VLU95SgsRjwC\n",
       "qtVw8V1GJhMp4WIVATvExQQdVAONaYbsHGy0PyCBWHoc5YiNMxnfNIAzhrufATMqprhYRcBOcTEI\n",
       "aXtorEtCCrWzG8HiiG7GBWpfzIyKKS6WEfDjace4mH47WgU09uRdgYySmaNSXEwRsH9S2DEuBn+h\n",
       "OmicCk0UKqYSZQSMesQpLoZAc3XQ2B1UzDebUTHBxTICphKd4WLqqDbQWLs9DW5IDAybUTHBxTIC\n",
       "xo/rFBeDgJ22Cmjsztc2MNeMiknMlxEw6RGHuBh4/I4qQ2PBnS/fjCE1EKb/JQSMJTrFxXVkjFWE\n",
       "xnVxdyQavggnqFiLi8m4coiL36SdVAkau/VFuDBoRsU9RokOcbGcxleCxn+COxJhmxkVa3Ax99BI\n",
       "yCkutmH3RmgcGHRLYkfShIrHiYuDsaqgsUdySyKTNqPi8eHiH6uDxq3glkTjz/zc2sR09RK/H+dP\n",
       "boO5CZEo/1izpaWxssRx/+T2wkQoZGXAM1Ac+xeFgZe2YnsTrAAAAABJRU5ErkJggg==\n",
       "\" style=\"display:inline;vertical-align:middle;\" /></a><br>"
      ],
      "text/plain": [
       "multi_tensor_prod_def: forall_{m in Natural} [forall_{A_{1}, ..A_{_a}.., A_{m}, B} ((A_{1} otimes ..A_{_a}.. otimes A_{m} otimes B) =  \\\\ ((A_{1} otimes ..A_{_a}.. otimes A_{m}) otimes B))]"
      ]
     },
     "execution_count": 5,
     "metadata": {},
     "output_type": "execute_result"
    }
   ],
   "source": [
    "multi_tensor_prod_def = \\\n",
    "    Forall(m, Forall((A_1_to_m, B), \n",
    "                     Equals(TensorProd(A_1_to_m, B), \n",
    "                            TensorProd(TensorProd(A_1_to_m), B))\n",
    "                     .with_wrap_after_operator()),\n",
    "           domain=Natural)"
   ]
  },
  {
   "cell_type": "code",
   "execution_count": 6,
   "metadata": {},
   "outputs": [
    {
     "name": "stdout",
     "output_type": "stream",
     "text": [
      "These axioms may now be imported from the theory package: proveit.linear_algebra.tensors\n"
     ]
    }
   ],
   "source": [
    "%end axioms"
   ]
  }
 ],
 "metadata": {
  "kernelspec": {
   "display_name": "Python 3",
   "language": "python",
   "name": "python3"
  },
  "language_info": {
   "codemirror_mode": {
    "name": "ipython",
    "version": 3
   },
   "file_extension": ".py",
   "mimetype": "text/x-python",
   "name": "python",
   "nbconvert_exporter": "python",
   "pygments_lexer": "ipython3",
   "version": "3.7.4"
  }
 },
 "nbformat": 4,
 "nbformat_minor": 1
}