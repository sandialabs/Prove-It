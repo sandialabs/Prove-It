{
 "cells": [
  {
   "cell_type": "markdown",
   "metadata": {},
   "source": [
    "Axioms for the theory of <a class=\"ProveItLink\" href=\"theory.ipynb\">proveit.linear_algebra.tensors</a>\n",
    "========"
   ]
  },
  {
   "cell_type": "code",
   "execution_count": null,
   "metadata": {},
   "outputs": [],
   "source": [
    "import proveit\n",
    "# Prepare this notebook for defining the axioms of a theory:\n",
    "%axioms_notebook # Keep this at the top following 'import proveit'.\n",
    "\n",
    "from proveit import m, A, B, K, U, V, W\n",
    "from proveit.core_expr_types import A_1_to_m\n",
    "from proveit.logic import And, Forall, Exists, Equals, InSet\n",
    "from proveit.numbers import Natural\n",
    "from proveit.linear_algebra import VecSpaces, TensorProd"
   ]
  },
  {
   "cell_type": "code",
   "execution_count": null,
   "metadata": {},
   "outputs": [],
   "source": [
    "%begin axioms"
   ]
  },
  {
   "cell_type": "markdown",
   "metadata": {},
   "source": [
    "A unary tensor product of a vector (over any field) is just the vector itself."
   ]
  },
  {
   "cell_type": "code",
   "execution_count": null,
   "metadata": {},
   "outputs": [],
   "source": [
    "unary_tensor_prod_def = Forall(\n",
    "        K, Forall(V, Forall(A, Equals(TensorProd(A), A), domain=V),\n",
    "                  domain=VecSpaces(K)))"
   ]
  },
  {
   "cell_type": "markdown",
   "metadata": {},
   "source": [
    "Need binary_tensor_prod_def to really define tensor products"
   ]
  },
  {
   "cell_type": "markdown",
   "metadata": {},
   "source": [
    "By the following axiom, we can know that a TensorProd only results in an element of a vector space over a field if the operands are also in vector spaces over that field (otherwise, if no such field or vector spaces exists, the TensorProd is not defined unless it is a tensor product of vector spaces themselves):"
   ]
  },
  {
   "cell_type": "code",
   "execution_count": null,
   "metadata": {},
   "outputs": [],
   "source": [
    "tensor_prod_in_vec_space_only_if_valid = Forall(\n",
    "    K, Forall(\n",
    "        W, Forall(\n",
    "            (A, B), Exists((U, V),\n",
    "                           And(InSet(A, U), InSet(B, V)),\n",
    "                          domain=VecSpaces(K)),\n",
    "            condition=InSet(TensorProd(A, B), W)),\n",
    "        domain=VecSpaces(K)))"
   ]
  },
  {
   "cell_type": "markdown",
   "metadata": {},
   "source": [
    "We define multiple tensor products as successive tensor products without any constraints for simplicity."
   ]
  },
  {
   "cell_type": "code",
   "execution_count": null,
   "metadata": {},
   "outputs": [],
   "source": [
    "multi_tensor_prod_def = \\\n",
    "    Forall(m, Forall((A_1_to_m, B), \n",
    "                     Equals(TensorProd(A_1_to_m, B), \n",
    "                            TensorProd(TensorProd(A_1_to_m), B))\n",
    "                     .with_wrap_after_operator()),\n",
    "           domain=Natural)"
   ]
  },
  {
   "cell_type": "code",
   "execution_count": null,
   "metadata": {},
   "outputs": [],
   "source": [
    "%end axioms"
   ]
  }
 ],
 "metadata": {
  "kernelspec": {
   "display_name": "Python 3",
   "language": "python",
   "name": "python3"
  }
 },
 "nbformat": 4,
 "nbformat_minor": 0
}
