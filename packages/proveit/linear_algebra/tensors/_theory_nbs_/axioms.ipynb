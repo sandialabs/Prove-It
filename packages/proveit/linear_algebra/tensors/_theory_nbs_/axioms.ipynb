{
 "cells": [
  {
   "cell_type": "markdown",
   "metadata": {},
   "source": [
    "Axioms for the theory of <a class=\"ProveItLink\" href=\"theory.ipynb\">proveit.linear_algebra.tensors</a>\n",
    "========"
   ]
  },
  {
   "cell_type": "code",
   "execution_count": 1,
   "metadata": {},
   "outputs": [],
   "source": [
    "import proveit\n",
    "# Prepare this notebook for defining the axioms of a theory:\n",
    "%axioms_notebook # Keep this at the top following 'import proveit'.\n",
    "\n",
    "from proveit import m, A, B, K, U, V, W\n",
    "from proveit.core_expr_types import A_1_to_m\n",
    "from proveit.logic import And, Forall, Exists, Equals, InSet\n",
    "from proveit.numbers import Natural\n",
    "from proveit.linear_algebra import VecSpaces, TensorProd"
   ]
  },
  {
   "cell_type": "code",
   "execution_count": 2,
   "metadata": {},
   "outputs": [
    {
     "name": "stdout",
     "output_type": "stream",
     "text": [
      "Defining axioms for theory 'proveit.linear_algebra.tensors'\n",
      "Subsequent end-of-cell assignments will define axioms\n",
      "%end_axioms will finalize the definitions\n"
     ]
    }
   ],
   "source": [
    "%begin axioms"
   ]
  },
  {
   "cell_type": "markdown",
   "metadata": {},
   "source": [
    "A unary tensor product of a vector (over any field) is just the vector itself."
   ]
  },
  {
   "cell_type": "code",
   "execution_count": 3,
   "metadata": {},
   "outputs": [
    {
     "data": {
      "text/html": [
       "<strong id=\"unary_tensor_prod_def\">unary_tensor_prod_def:</strong> <a class=\"ProveItLink\" href=\"../__pv_it/axioms/0efc310b3e75a4cf4049f91b24214f75a590fcd30/axiom_expr.ipynb\"><img src=\"data:image/png;base64,iVBORw0KGgoAAAANSUhEUgAAAY4AAAAzBAMAAAByCfJQAAAAMFBMVEX///8AAAAAAAAAAAAAAAAA\n",
       "AAAAAAAAAAAAAAAAAAAAAAAAAAAAAAAAAAAAAAAAAAAv3aB7AAAAD3RSTlMAq1RmmUTNIjK7EInv\n",
       "3XZ/CtNrAAAACXBIWXMAAA7EAAAOxAGVKw4bAAAFlklEQVRo3u2aXWgcVRTHT3Z3dj42O8mb2pes\n",
       "KAW11MVYUFPjxPhRCNVVEVoKkiIifqBbKkKNtatvxdpdhWAT0cyDCOahrk1D20RLihaEYq3FBx+y\n",
       "OKaGkNam0TRGE2w892Nm7u7cJUVXccNcSHZyzrn7v78z995zZwiArBmDgzbUTxscHJQ7ksvLVh1x\n",
       "DCz/UYUjA/XV7gw5Qo6QI+QIOUKOkCPkCDnqkOPi9yuGZIUgfqUKzurdWPR/wzG8YoSZEoPY5QSj\n",
       "6QZ4QtrH9QxTjmZiuiHI0UA+I+kacUhVhHYLBDgiRXodn0VK6TBcD+O4n5ieDnLEyC2JZ2vEIVUR\n",
       "nj+7gxwfsetbcbTwrKyT62Ecr5M7VAhyaCSFu2o1r6QqfovxtJqjo+ddjk7m6ljAX7fLOrkexhHH\n",
       "B/FESrI+SA4O1YpDquK3RjZ4DSEOZjjHGPUken4nfsnbAs/DOKKYirhsnbfiZ3etOKQqflvLOPbi\n",
       "NDZ6GUeEab9m/krmt2SBeB7GAV+XSqdkHI2l0nixZvuVTMVvXSzIOgLwYYJlOMa0rcgcyX1zsI/n\n",
       "4RybAPplHLEc6HbNODwV6Vc+SYPMbCJrWEaRjozdAiWlLeFHlN6czSXSvmVdfA/n2AEq0iot90L8\n",
       "S5EDrTv+zqAj7h5nihxMBafNV9x2N96edQf4H2dpEG71R18CYBlO0tUUA/UX8p1jwa3B83AO3U6Q\n",
       "LfZngG12WR3sJxGCnNLSC1rJ4SEzF96Uc2wAeORyCp63wBI4uAokyKTef10vJHBoPW7ASRqUwNEh\n",
       "LLsfjTR8+r4O8mpKmw3I+B7OEXHoAnwbzEx5PV9PlrkrR6QbccpOuenIQYe8FOBIzDFQRjAvAgdX\n",
       "gS2nse8mkshFMuIyjhhKHcWJ73MYmLU/SQoD90PwcA7obieOOXWk4lwSjzqeHJU2Z31p3Ckb5KUA\n",
       "u+rNMEm+wBbqGlMBZzvAOXqqmIeoV2XPcg61iMm0/HmFZDBOoM9Urg/B43IcIpVCW9joVHAk1tqe\n",
       "HJWGOYjkYGgGzOPXxNeAqr7ffthWh7BWo4HYJ9rSkMS4pnQPQfAKxrCrgmvmATBYPbwCOz29D2iQ\n",
       "lsKpOqmwo5ZOhvMY/rxIVnOghAoel+NVsgDNpZ6xCg71hCfHpTdjGuKpWPowdKk/fJeBfNbsbig2\n",
       "ZgENaN9QVB14GePyO0/TFW8JHFQFtuA6VFgx2O5PK/iUBU2ixeRHLbLVqmRIA1lvExbOiILH5WjI\n",
       "EfwCnKo8717ryXHpPZk3IA9K/wK8AtqPV2AfwLya1dMGGtB+4PLNAFsx7tKRz+jGUBA4qAp0jbbY\n",
       "0Wf6+t7BpJj+FvwW3wxIHVzD4rUzYAz8ZsNNy88Fz99lnmHx3N6Uhku27NxO5bi0XijCxtbWx3Gd\n",
       "GJh1wvEFXLjoKGhAe2brcgauxz59dEsArVB5bseteE9OY8m951EhbzkW1J7Tzrnx4jPL7qq7/G4o\n",
       "58hnmXaAg8pxaWXewdGDukgXeZLej2RaP08MaNdsrEp76ToyFyvnlTurm1K8IOYtfzRRiwUZ6yds\n",
       "N148G3ZW5egs5zAHRmDdkoyDyfGKP24DziLnPTjYlMHSlrfNwid2cgbQgPYJCwpknWt4ECWT1HQq\n",
       "OGInwHj4KdhFp1hSrOzvBs/tuv/MUP2kTDzDV/U8yOSYNNyIP6MzkDjuxLaNFiF/209gdt7xAjGg\n",
       "PfJQW5bITy/ZkW+KwkgqngeNY329FYIfBzkMf/B61ccg4rk6jqrS2PZJuipFcXCsfb7i8zludH7Q\n",
       "xZPsQOt5p6r2m+LR/+z5PC8zPii5+n+/L1FbZOf6hDvvo5k64ajSXA4jfA/373Hsb1sVHFqzvio4\n",
       "9NzqmFdJ21gVHMpQa/i+PeQIOVYZx1119n9k01U46u7/yP4CH9fNayYhzmIAAAAASUVORK5CYII=\n",
       "\" style=\"display:inline;vertical-align:middle;\" /></a><br>"
      ],
      "text/plain": [
       "<IPython.core.display.HTML object>"
      ]
     },
     "metadata": {},
     "output_type": "display_data"
    }
   ],
   "source": [
    "unary_tensor_prod_def = Forall(\n",
    "        K, Forall(V, Forall(A, Equals(TensorProd(A), A), domain=V),\n",
    "                  domain=VecSpaces(K)))"
   ]
  },
  {
   "cell_type": "markdown",
   "metadata": {},
   "source": [
    "Need binary_tensor_prod_def to really define tensor products"
   ]
  },
  {
   "cell_type": "markdown",
   "metadata": {},
   "source": [
    "By the following axiom, we can know that a TensorProd only results in an element of a vector space over a field if the operands are also in vector spaces over that field (otherwise, if no such field or vector spaces exists, the TensorProd is not defined unless it is a tensor product of vector spaces themselves):"
   ]
  },
  {
   "cell_type": "code",
   "execution_count": 4,
   "metadata": {},
   "outputs": [
    {
     "data": {
      "text/html": [
       "<strong id=\"tensor_prod_in_vec_space_only_if_valid\">tensor_prod_in_vec_space_only_if_valid:</strong> <a class=\"ProveItLink\" href=\"../__pv_it/axioms/4f36aa80928bb1bbf513a006159d18518b2f62ba0/axiom_expr.ipynb\"><img src=\"data:image/png;base64,iVBORw0KGgoAAAANSUhEUgAAAvMAAAAzBAMAAADoXJp5AAAAMFBMVEX///8AAAAAAAAAAAAAAAAA\n",
       "AAAAAAAAAAAAAAAAAAAAAAAAAAAAAAAAAAAAAAAAAAAv3aB7AAAAD3RSTlMAq1RmmUTNIjK7EInv\n",
       "3XZ/CtNrAAAACXBIWXMAAA7EAAAOxAGVKw4bAAAI4UlEQVR42u2cf4wcZRnHv/tzdmdvZ68JAVGT\n",
       "24QGiaBdOKrVYrvtIZIUcJVg2jS2B8Q0NI1sY2Kihdxq9A/To7tWm7LVenNRCT20N7RHGnoEDhAj\n",
       "KeIpaozpplMQayleD9praRu7vr92Zt+dubvGmTV7ybzpOzv7vu/3nWc+87zPvO+76QEuaWRkBP4m\n",
       "dWRE7/Qe258YV3aY1fpj9bM+XzRdr+c7vcf2p6H6BXFI1usV1yZ/8f2i6ULn9/j/SJ+xDpEAfYA+\n",
       "QB+gD9AH6AP0AfoAfYA+QB+gD9AH6AP0AfoAfYA+QB+gv/JUFHnuFvOVzNJlgH6OpGV5JumbszTZ\n",
       "4KaZK22wRBL6bvp5nQO9W7E3UCH6Gc75if7uWq32is/obxSZpIdbqrYe+2MWHz1najkXTWTovUVX\n",
       "Py6X/7O+E3jsP3kq4CIJ/efp5yYHerdib6Ci1E3jRb+9/k1/yav9PFM3qbdWvkCuqRnAZvH9gK0B\n",
       "ukgE6SnJnZ0jh1g3F2x2oP8O+VAqDvRuxd5AJehA+hY6HH00xzM97Wn1EzoMojpwqyD7V1sDDJjA\n",
       "xrwseI1kOtpvFVlGHyddpbIO9G7FHkFttv2kc9F3iUzSoReED5+s1fg4uCBIduk8xN9csDTAStJ6\n",
       "pSkL6LP6lxAwkYQ+Qh5Z3PmadSv2CKqXfPZ3OvrrRSZj3jzNXe8r74i62GVyeIqGTT4s0omKpSHB\n",
       "huQtRUkAMm4UQwiYSJ7h/L5WO+Iyw3Ep9giqq1Y7anQ6+jUikzCCJYyw0ojsSH1ADkvpSbd4u26y\n",
       "NMCrwPDfZAF9ObDZBRUwkYz+TmCPC3qX4itMH7PmXDKoaAlJNlLVFkG+Sae31JntRO9i6YMiA19G\n",
       "mTmKPTNITwhjI3zwbsJiS4PEhanjXNg0lViZY4+KCZhIRr8VCnkesZ7ViP+mCT0rjrxmhI8a6k+5\n",
       "s8Z6diFRa8CYOrXd9X4ihMmXzmaxJY+8BIr0t5V9+RWLoYmhNWN8MlaxdFB/Z0l4fbTRq2SJ6PET\n",
       "ZHL5Er73Xk7ZayBChlT41ZJHS/8kMmU8wJzbDruj9DvN4QlmYDfSekMD7TxwU04WYKPB4g0TMJGM\n",
       "Pqmn6E2/C6zXm9Dz4ipwNbCMfN9x7S50kX5ONKYCJaxyvaFhascEYodJh7KP7sEzfBjyGPo5dlEL\n",
       "/TAbme8T/KfGTas+Ri6ZOF4tNFnS6vXhaeA+cvYceGD1ZOkrIkP78e09zLBB8nxr7IwGIIWalpim\n",
       "X0MlaGZDg+SEiEhNAoxWQtyNpoVIRh822WP6IbRCc8DhxXdAPQqVXCB6JzWHqA17KhByvSG6Ikh2\n",
       "423waVITqE/yt2xskLvjVWRANqFnK4m1rwPbGa1GPQmct5eaLXGgj/bzuLRERwpeLbXQ7wcyk/Rk\n",
       "nx25iR0pGk1izOufIF4yaaHPkOEQuSwLSA9L+SicEKKWjYT+FfT0jHJY3khgxe8itZJFwrdYxRmE\n",
       "Szg4Be35a+IfhqLsXTGmKwfJLZw6XkytMPHm8hyoNZncNnov9uyUgYpHGDktzt9SL0F9owk9uwvz\n",
       "fqhjRWwzrPoDYh1oWeJAnzY45oECPu3ZUivg5EVsR9pGL+aWCE82FlSrrYBTJlaGZmQB0hf586cC\n",
       "JmpBf4C+kRPnbzNl9Kx4CW7YqH+fPF6O524Se+PZaG4Ma5Rjfy6gXNT6Q0ZXMZWPGg+gL2YopkI9\n",
       "u/yN19kV8xKo1PXMt8woc37lcu+qko2e6TTi3BoOKcbPrfrFwosaljjRjxa412dMJefZ0p+JHKPT\n",
       "QRZXNIsLGVa4xt76mmxs89D2OE2GQ7lfFiB5QbxVKkLUgv4R6oTapW0TMnpWXC6aAyWTW8Ic67so\n",
       "I7bnPL5NIvBlDAIzSjGZGy0qT05jXeLsxxGjXZ4+9BwbZxUJlPIiKyxp7EqRSQznbfSs7Vri3BpS\n",
       "N1L3FvXrcC9r1LDEiX4J7ZMOqu4UPFv6tMiPUHDnWdEDjUvG89jKnCVKfZkN4WRJtMcW0slvdVmA\n",
       "6Iz4NISoBX2IypMVHJHRs+LRDchcRzqMPFSt7qStDNzW23vfNJshlukNvYxT/zY3khYv9y7Funoh\n",
       "TJ9Ylb3nkJDR40PMjPGnL7L+81BmbPRMt2a8R9eQ2ETRi/of4FPVajVrWeLcPrtDTA6jk3Qp49HS\n",
       "x3jeV9+M8NA5Fi6GdzUu++xVpn03IVqaMIXm2vqiRQ+JqGULInnbWCZy2zTO5HBad24aZ1Yj00cv\n",
       "IaaXMya5DSgXWdBLM19K55LvDOj8Ja5H+tlNnIF20RlwGjN1hU0EurKIfWCjpzpCcKCkYUeqqFn1\n",
       "i7FdssTZ4yr2TiQ3M5P1bmm6xHNzWr+3Jq/CH21ZYrS0dxc8Ott+fbnIH38L+q4K0qwXsbw6qiOZ\n",
       "U82fYH+mQGbpZV2rjOrpqaShmj/CfnIDFRoCE2SkHpGing2KBoT36XKcQPh1Xn7NktCSycbWmjh0\n",
       "g1U/JdZhliWOHr8K1aAdJvh/CvBmKfXTSH6epVhfy/pgvvZM0DcLem3oMG665EQfKtJ/dMuRP1m6\n",
       "fBufQup5M7p+3ED5ln9A61v2dVEWvmd5EbuBk5f08B/Ig0wWnaDu6sYvzhUGs5GHx8d2ogn9bkRf\n",
       "hPrFr2GcvJBNNOp3Q3lcssTRY/gjZFIzSDz+7/DB0t0iz5EcO7rztGcCLvpffqVSn63ucpYOuojt\n",
       "dVTTDNfxm1LzpmhF1mnLEm/Z1yWVT1WrhXl/pcr6ZOk+eWbulpKtm8nztGcCLvLvB8Ky2463bdgX\n",
       "ZgUV0x3obd0v39bdepsTfUz3yVK6XFXMOfs64fDqudszwQn4il7pcduJPNy8RzIL+ggc6G1dc1qK\n",
       "K0Mf8cvS9qY2/yyuOk7m+RG76GhuJ/0K0ftm6YJG3y5Q7e6xY9HvWL5Q0HuztPPQJ7qTCwS9R0s7\n",
       "D32ytFACjkdLOw99WlcXCHqPlnYe+tjB3gWC3qOlwQwnmOEE6AP0AfoAfZvRv+H7nyJKf9bvPxzk\n",
       "f4/tTyMjJ8VBHdnvjj74U0TtSfKfIvov+vJ1UBBxMr8AAAAASUVORK5CYII=\n",
       "\" style=\"display:inline;vertical-align:middle;\" /></a><br>"
      ],
      "text/plain": [
       "<IPython.core.display.HTML object>"
      ]
     },
     "metadata": {},
     "output_type": "display_data"
    }
   ],
   "source": [
    "tensor_prod_in_vec_space_only_if_valid = Forall(\n",
    "    K, Forall(\n",
    "        W, Forall(\n",
    "            (A, B), Exists((U, V),\n",
    "                           And(InSet(A, U), InSet(B, V)),\n",
    "                          domain=VecSpaces(K)),\n",
    "            condition=InSet(TensorProd(A, B), W)),\n",
    "        domain=VecSpaces(K)))"
   ]
  },
  {
   "cell_type": "markdown",
   "metadata": {},
   "source": [
    "We define multiple tensor products as successive tensor products without any constraints for simplicity."
   ]
  },
  {
   "cell_type": "code",
   "execution_count": 5,
   "metadata": {},
   "outputs": [
    {
     "data": {
      "text/html": [
       "<strong id=\"multi_tensor_prod_def\">multi_tensor_prod_def:</strong> <a class=\"ProveItLink\" href=\"../__pv_it/axioms/adce0e6f0dfdc661cdf41fb9dca06cda26f5d7710/axiom_expr.ipynb\"><img src=\"data:image/png;base64,iVBORw0KGgoAAAANSUhEUgAAAgYAAAAzBAMAAAAeOd2kAAAAMFBMVEX///8AAAAAAAAAAAAAAAAA\n",
       "AAAAAAAAAAAAAAAAAAAAAAAAAAAAAAAAAAAAAAAAAAAv3aB7AAAAD3RSTlMAq1RmmUTNIjK7EInv\n",
       "3XZ/CtNrAAAACXBIWXMAAA7EAAAOxAGVKw4bAAAHuUlEQVRo3t1bbWgURxh+c7uX3du7bC5QCv0y\n",
       "B9IfrV8HDUIK1UvVUkyhR/xRaaVeaYtUBU+QFhs1V3/0A2NyLRWNtNylFcHY6imCkgON/rBqabnS\n",
       "D/xhymlJrdZqjCYmil5n9ut2Zndv15K9TR309mb3ufl4Zt535p1nA2CThL6+LDzAqa+vzxZTVyrF\n",
       "JrHKHVOl78JO+ZopTdhzEJ/MmmuiRJZzvavWNWxVp3dzlTl4jMxekNuZMEG+ex+lVsD6i1ZPfAVv\n",
       "OGDI3vpy0qV22AS65j6KNcMymesNDyPL+8PyVwe84WBDksjuli9zTDjwlZyXao4NpQEaU1Br6dHr\n",
       "op5w8DuZXSBfWm6pN8R8/rL8jW3U6Po7f9SsH6ZYHbwDWcHyGDCWHt13xgsOmAEyL2eD7eNKnked\n",
       "2ifXd/hYSrnZlQVhyFiWKVYPn49uzkc8nLFszltecBDKkQMhe4dN4ohy4xM0nsI2yU0Wr0WUvm5H\n",
       "H3uMjTDDEvBG9H81Ar1p2ZzlSQ84uEbOaVamJOa7odyIHQbYFcQgFuYo1soGkyDE+g1lmWEJ+GmA\n",
       "3rM612dMtWEPOPiJaoPUdH+Ev6NYeDKYFGICZqYNupU5cxEOwy7Ya/AGZlg9nJ+4el6aAnMlagal\n",
       "FCbn4e3qc8CPU0VLU5gF7jqa1qipNQBH1gHghsagIwxCviGLcsGPYvgRtdmisGrS4CJytDMxyTOt\n",
       "t4r3qs9BDeUSQ1LRlxa2oN1q1z/IOSJCUG/QoIqfL2xMI3bYAs61SI/IRGPVpMEDqLIgJr3bukFf\n",
       "Vp+DUNiEAwG57rvoOgvPCGg/gscV9gHUF6A+zo2jHJdP4UdkorGam1Dh9agyBg/0MusGzU9WnYPu\n",
       "qIkt4N6dUzngcmIc9wv9qxsAJitx0A5DZhxQ2AVd58XmVBmOK6sZlQu28AewP1p1Dq6Ru0QI4L38\n",
       "EmWvi5rKR7YADPkj4I8qG+hgATbzORDjbQbfQmG/XhYNhcVwGY4r605U7qI8MavKwRe0TaMmcNhH\n",
       "ZJLycA1h856BttSYoFtybCe+hmMr9EAYwyOXUD8o7Pt/Qn0KLbYafDVacU7ipbPVukGBgsyBRMX0\n",
       "ihzYQZym0/RYFkDIjGXhqdIqmYMA3vc8CntKK8GXGcsBh2N8vOnpxZ35Bbcmpn7Q2GnQKRmXAn+k\n",
       "1NDwjrTu/GrdoOCwzMEifFlRkQM7iNNTi5v0nbO675LZzkvx+jhvHbyHHNtf0BU1KY7CnoJL0MEb\n",
       "4Vyhwt59VObgA4xLV+TADuJ0e3CPvtNEcyDMvqDbSnI7Pl6MLl9dfdqUUhI7jGZCM2uEs1G7FjVL\n",
       "sWUwUpEDO4jTEHfEYI9lJ9m+5qjRZZVKw04L94fRTF172fhgve3MbAYG+9XKPtEO4jRqHDe0IQ2u\n",
       "p+2VHl5X1oUfBge/t1kXbCAOk3jLcGuT6xSIyUpPJxQOXgTYacOBBiHiPvMDGsHaC9+GqZZOKhys\n",
       "BY7aPm1sjTPH9RyoEOGUvrOnTIv9JqV3OpnWQ9ppOjv1OBhUOAhkg7ptEH++J+4L98NiPQcqJKj3\n",
       "asER02KPEc7zOYArWsg0POU4OKdw4Cvq/d1CNIy+eSzk9ByokKU/6pBEpuyfO4v67EMoMPkfcACJ\n",
       "eaCFHCJeTX2bXykSHEgQlIpv6H5PZMo+qJYwrBMg/FzBFjhwQ2cxd4NcBVuAgytBCzn2SAt5qv9J\n",
       "kgMMQf2DF3Sd1Wd0zLAJfb33nmnR/EPQuC5cADd0ltfNdxBFa58IG9DIqSHHEpkDVkwTHGyQBncp\n",
       "tu31ynKAM/7Zi+iKUqL+oIQpQG9MY82wP8Aaiws6i0huDSuoLcdVDmrwSCkhx9yenp6ILyXkEgQH\n",
       "EgRa841ZfpbCAc6EYD8d1ucP6Gd8TQy4Ues90m5wR2dZSe03LdWWm0TsrIQcW+R5AG1FY+wsAnSk\n",
       "oC5bznCIOMoUgBuHpulNbUfk2lF8r/XcN0o3YQG4o7M0kT+yVFuEO3oO1JAjgH/ExEEMGzlAdlIf\n",
       "kTjYq2ZgGwg5lFU/8IHGCMxOh+IzJFRHFr7VauZv0G0YAHd0llCW+JGl2qLGTGTIweEdzdYV8oEt\n",
       "yQF7HISX35Y46IwoGTYF/AnoTPLf4Y8T8FIYdo3FA6nd8DxGMWvyhz6jZp5+/ibc0VnkQ3sHaosc\n",
       "xRnOkfb29MQrniNJtqDW149MwlcuUoXADChEyyg1/UY7j5w7Oot0QOVEbZEjmPs+S+OvHESzRrHN\n",
       "2tJdgFe1Z+q3XhiCaUkNpaXHqTweLjd0FmASYKm2EIf9w//9PJHRZ6Im34woyS6zxnNlN3QW8GEn\n",
       "40BtCaWrf7ZOGQfWF9zQWYDH4+tAbekoVp0DM43FDZ0F/APgSG3xQGNhByxsYZJ1FvlVIwu1RZ+e\n",
       "gKpz4Kc2SVhjcUNnAQbbhQO1xQPNVVIIgFzC3NBZ5AXXXm1hPNDe6YWBL7iks8httlVb6rx4B4N6\n",
       "F0fSWNzQWTbKw2yntnjyLg5DnaI0gTs6ixKH2aktn4IHHMAqyikmXdFZLDQxWm3x3/aEg07ymAtr\n",
       "LC7oLAHzwzRabamLeMKBSHV4E7ihs1w0r5tmxqN3del3tr1M/oRzDp6dzL/hqI1MGQ4+lLvV13fJ\n",
       "noMH9W84lEPHTGniX5a4C1q+4S3NAAAAAElFTkSuQmCC\n",
       "\" style=\"display:inline;vertical-align:middle;\" /></a><br>"
      ],
      "text/plain": [
       "<IPython.core.display.HTML object>"
      ]
     },
     "metadata": {},
     "output_type": "display_data"
    }
   ],
   "source": [
    "multi_tensor_prod_def = \\\n",
    "    Forall(m, Forall((A_1_to_m, B), \n",
    "                     Equals(TensorProd(A_1_to_m, B), \n",
    "                            TensorProd(TensorProd(A_1_to_m), B))\n",
    "                     .with_wrap_after_operator()),\n",
    "           domain=Natural)"
   ]
  },
  {
   "cell_type": "code",
   "execution_count": 6,
   "metadata": {},
   "outputs": [
    {
     "name": "stdout",
     "output_type": "stream",
     "text": [
      "These axioms may now be imported from the theory package: proveit.linear_algebra.tensors\n"
     ]
    }
   ],
   "source": [
    "%end axioms"
   ]
  }
 ],
 "metadata": {
  "kernelspec": {
   "display_name": "Python 3",
   "language": "python",
   "name": "python3"
  }
 },
 "nbformat": 4,
 "nbformat_minor": 0
}