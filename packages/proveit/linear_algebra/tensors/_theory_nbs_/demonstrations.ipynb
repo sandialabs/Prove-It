{
 "cells": [
  {
   "cell_type": "markdown",
   "metadata": {},
   "source": [
    "Demonstrations for the theory of <a class=\"ProveItLink\" href=\"theory.ipynb\">proveit.linear_algebra.tensors</a>\n",
    "========"
   ]
  },
  {
   "cell_type": "code",
   "execution_count": null,
   "metadata": {},
   "outputs": [],
   "source": [
    "import proveit\n",
    "from proveit import defaults, UnsatisfiedPrerequisites\n",
    "from proveit import Function, ExprRange, ExprTuple, IndexedVar\n",
    "from proveit import a, f, i, u, v, w, x, y, z, alpha, beta, fi, gamma, delta\n",
    "from proveit.logic import Forall, Equals, NotEquals, InSet, CartExp\n",
    "from proveit.numbers import Natural, Real, Complex\n",
    "from proveit.numbers import one, two, three, four, five, Interval\n",
    "from proveit.linear_algebra import (\n",
    "    VecSpaces, VecAdd, VecSum, VecZero, ScalarMult, TensorProd, TensorExp)\n",
    "%begin demonstrations"
   ]
  },
  {
   "cell_type": "markdown",
   "metadata": {},
   "source": [
    "### Vector space default assumptions\n",
    "\n",
    "In order to apply the tensor product theorems, we need the operands to be known as vectors in vector spaces over a common field.  For convenience, we may specify a default field, or we may specify a field when calling the TensorProd methods.\n",
    "\n",
    "Let's set some defaults for convienience in our testing below."
   ]
  },
  {
   "cell_type": "code",
   "execution_count": null,
   "metadata": {},
   "outputs": [],
   "source": [
    "R3 = CartExp(Real, three)"
   ]
  },
  {
   "cell_type": "code",
   "execution_count": null,
   "metadata": {},
   "outputs": [],
   "source": [
    "C3 = CartExp(Complex, three)"
   ]
  },
  {
   "cell_type": "code",
   "execution_count": null,
   "metadata": {},
   "outputs": [],
   "source": [
    "defaults.assumptions = [\n",
    "    InSet(u, R3), InSet(v, R3), InSet(w, R3), \n",
    "    InSet(x, R3), InSet(y, R3), InSet(z, R3),\n",
    "    NotEquals(x, VecZero(R3)), NotEquals(z, VecZero(R3)),\n",
    "    InSet(a, Real), InSet(alpha, Complex), InSet(beta, Real),\n",
    "    InSet(gamma, Real), InSet (delta, Real),\n",
    "    Forall(i, InSet(fi, R3), domain=Natural)]"
   ]
  },
  {
   "cell_type": "code",
   "execution_count": null,
   "metadata": {},
   "outputs": [],
   "source": [
    "summand_assumption = defaults.assumptions[-1]"
   ]
  },
  {
   "cell_type": "code",
   "execution_count": null,
   "metadata": {},
   "outputs": [],
   "source": [
    "summand_assumption.instantiate(assumptions=[summand_assumption,\n",
    "                                            InSet(i, Natural)])"
   ]
  },
  {
   "cell_type": "markdown",
   "metadata": {},
   "source": [
    "### Some Example `TensorProd` For Testing"
   ]
  },
  {
   "cell_type": "code",
   "execution_count": null,
   "metadata": {},
   "outputs": [],
   "source": [
    "tensor_prod_00 = TensorProd(ScalarMult(a, x), y)"
   ]
  },
  {
   "cell_type": "code",
   "execution_count": null,
   "metadata": {},
   "outputs": [],
   "source": [
    "tensor_prod_000 = TensorProd(x, ScalarMult(a, y))"
   ]
  },
  {
   "cell_type": "code",
   "execution_count": null,
   "metadata": {},
   "outputs": [],
   "source": [
    "tensor_prod_01 = TensorProd(ScalarMult(a, x), y, z)"
   ]
  },
  {
   "cell_type": "code",
   "execution_count": null,
   "metadata": {},
   "outputs": [],
   "source": [
    "tensor_prod_02 = TensorProd(x, ScalarMult(a, y), z)"
   ]
  },
  {
   "cell_type": "code",
   "execution_count": null,
   "metadata": {},
   "outputs": [],
   "source": [
    "tensor_prod_03 = TensorProd(x, y, ScalarMult(a, z))"
   ]
  },
  {
   "cell_type": "code",
   "execution_count": null,
   "metadata": {},
   "outputs": [],
   "source": [
    "tensor_prod_04 = TensorProd(u, TensorProd(v, ScalarMult(a, w), x, \n",
    "                                          ScalarMult(alpha, y)))"
   ]
  },
  {
   "cell_type": "code",
   "execution_count": null,
   "metadata": {},
   "outputs": [],
   "source": [
    "tensor_prod_05 = TensorProd(u, ScalarMult(a, v), VecAdd(w, x, y), z)"
   ]
  },
  {
   "cell_type": "code",
   "execution_count": null,
   "metadata": {},
   "outputs": [],
   "source": [
    "tensor_prod_06 = TensorProd(VecAdd(x, y), z)"
   ]
  },
  {
   "cell_type": "code",
   "execution_count": null,
   "metadata": {},
   "outputs": [],
   "source": [
    "tensor_prod_07 = TensorProd(x, VecAdd(y, z))"
   ]
  },
  {
   "cell_type": "code",
   "execution_count": null,
   "metadata": {},
   "outputs": [],
   "source": [
    "tensor_prod_08 = TensorProd(u, v, VecAdd(w, x, y), z)"
   ]
  },
  {
   "cell_type": "code",
   "execution_count": null,
   "metadata": {},
   "outputs": [],
   "source": [
    "tensor_prod_with_sum_01 = TensorProd(x, VecSum(i, Function(f, i), domain=Interval(one, three)), z)"
   ]
  },
  {
   "cell_type": "code",
   "execution_count": null,
   "metadata": {},
   "outputs": [],
   "source": [
    "tensor_prod_with_sum_02 = TensorProd(VecSum(i, Function(f, i), domain=Interval(two, four)), z)"
   ]
  },
  {
   "cell_type": "code",
   "execution_count": null,
   "metadata": {},
   "outputs": [],
   "source": [
    "tensor_prod_with_sum_03 = TensorProd(x, VecSum(i, Function(f, i), domain=Interval(two, four)))"
   ]
  },
  {
   "cell_type": "code",
   "execution_count": null,
   "metadata": {},
   "outputs": [],
   "source": [
    "tensor_prod_with_sum_04 = TensorProd(u, v, w, x, VecSum(i, Function(f, i), domain=Interval(one, five)), z)"
   ]
  },
  {
   "cell_type": "code",
   "execution_count": null,
   "metadata": {},
   "outputs": [],
   "source": [
    "tensor_prod_inside_sum_01 = VecSum(i, TensorProd(x, Function(f, i)), domain=Interval(two, four))"
   ]
  },
  {
   "cell_type": "code",
   "execution_count": null,
   "metadata": {},
   "outputs": [],
   "source": [
    "tensor_prod_inside_sum_02 = VecSum(i, TensorProd(y, Function(f, i)), domain=Interval(two, four))"
   ]
  },
  {
   "cell_type": "code",
   "execution_count": null,
   "metadata": {},
   "outputs": [],
   "source": [
    "tensor_prod_inside_sum_03 = VecSum(i, TensorProd(z, Function(f, i)), domain=Interval(two, four))"
   ]
  },
  {
   "cell_type": "code",
   "execution_count": null,
   "metadata": {},
   "outputs": [],
   "source": [
    "tensor_prod_inside_sum_04 = VecSum(i, TensorProd(Function(f, i), x), domain=Interval(two, four))"
   ]
  },
  {
   "cell_type": "code",
   "execution_count": null,
   "metadata": {},
   "outputs": [],
   "source": [
    "tensor_prod_inside_sum_05 = VecSum(i, TensorProd(x, Function(f, i), z), domain=Interval(two, four))"
   ]
  },
  {
   "cell_type": "code",
   "execution_count": null,
   "metadata": {},
   "outputs": [],
   "source": [
    "tensor_prod_inside_sum_06 = VecSum(i, TensorProd(x, y, Function(f, i), z), domain=Interval(two, four))"
   ]
  },
  {
   "cell_type": "markdown",
   "metadata": {},
   "source": [
    "Upon implementing <a href=https://github.com/PyProveIt/Prove-It/issues/28>Issue #28</a>, or something along those lines, the following should not be necessary:"
   ]
  },
  {
   "cell_type": "code",
   "execution_count": null,
   "metadata": {},
   "outputs": [],
   "source": [
    "i_domains = [tensor_prod_with_sum_01.operands[1].domain,\n",
    "             tensor_prod_with_sum_03.operands[1].domain,\n",
    "             tensor_prod_with_sum_04.operands[-2].domain]\n",
    "judgments = []\n",
    "for i_domain in i_domains:\n",
    "    judgment = summand_assumption.instantiate(\n",
    "        assumptions=[summand_assumption, InSet(i, i_domain)])\n",
    "    judgments.append(judgment)\n",
    "judgments"
   ]
  },
  {
   "cell_type": "markdown",
   "metadata": {},
   "source": [
    "### `TensorProd` simplification"
   ]
  },
  {
   "cell_type": "code",
   "execution_count": null,
   "metadata": {},
   "outputs": [],
   "source": [
    "help(TensorProd.shallow_simplification)"
   ]
  },
  {
   "cell_type": "markdown",
   "metadata": {},
   "source": [
    "First test out unary `TensorProd` simplification."
   ]
  },
  {
   "cell_type": "code",
   "execution_count": null,
   "metadata": {},
   "outputs": [],
   "source": [
    "TensorProd(x).simplification()"
   ]
  },
  {
   "cell_type": "markdown",
   "metadata": {},
   "source": [
    "Our next test will involve ungrouping and pulling out scalar factors but will not work without a proper default field specified since it mixes real vectors with a complex scalar."
   ]
  },
  {
   "cell_type": "code",
   "execution_count": null,
   "metadata": {},
   "outputs": [],
   "source": [
    "tensor_prod_04"
   ]
  },
  {
   "cell_type": "code",
   "execution_count": null,
   "metadata": {},
   "outputs": [],
   "source": [
    "VecSpaces.default_field = Complex"
   ]
  },
  {
   "cell_type": "code",
   "execution_count": null,
   "metadata": {},
   "outputs": [],
   "source": [
    "defaults.assumptions"
   ]
  },
  {
   "cell_type": "code",
   "execution_count": null,
   "metadata": {},
   "outputs": [],
   "source": [
    "tensor_prod_04.simplification()"
   ]
  },
  {
   "cell_type": "markdown",
   "metadata": {},
   "source": [
    "### The `TensorProd.membership_object()` method"
   ]
  },
  {
   "cell_type": "code",
   "execution_count": null,
   "metadata": {},
   "outputs": [],
   "source": [
    "x_y_z = TensorProd(x, y, z)"
   ]
  },
  {
   "cell_type": "code",
   "execution_count": null,
   "metadata": {},
   "outputs": [],
   "source": [
    "R3_R3_R3 = TensorProd(R3, R3, R3)"
   ]
  },
  {
   "cell_type": "code",
   "execution_count": null,
   "metadata": {},
   "outputs": [],
   "source": [
    "# So, this is interesting … generates an error\n",
    "# VecSpaces.known_field(R3_R3_R3)"
   ]
  },
  {
   "cell_type": "code",
   "execution_count": null,
   "metadata": {},
   "outputs": [],
   "source": [
    "# THIS HANGS FOREVER\n",
    "# this suggests it would be good to have a TensorProd.containing_vec_space() method\n",
    "# but this was working before implementing the TensorProdMembership class ?!\n",
    "# field=Real\n",
    "# temp_vec_space = VecSpaces.known_vec_space(x_y_z, field=field)"
   ]
  },
  {
   "cell_type": "code",
   "execution_count": null,
   "metadata": {},
   "outputs": [],
   "source": [
    "# VecSpaces.known_field(temp_vec_space)"
   ]
  },
  {
   "cell_type": "markdown",
   "metadata": {},
   "source": [
    "<div style=\"width: 90%; border: 5px solid green; padding: 10px; margin: 0px;\"><a id='demo01'></a><font size=4>WORKING HERE </font></div>"
   ]
  },
  {
   "cell_type": "markdown",
   "metadata": {},
   "source": [
    "A manual construction of the instantiation process for the `tensor_prod_is_in_tensor_prod_space` theorem from the `proveit.linear_algebra.tensors` package."
   ]
  },
  {
   "cell_type": "code",
   "execution_count": null,
   "metadata": {},
   "outputs": [],
   "source": [
    "from proveit.linear_algebra.tensors import tensor_prod_is_in_tensor_prod_space\n",
    "tensor_prod_is_in_tensor_prod_space"
   ]
  },
  {
   "cell_type": "code",
   "execution_count": null,
   "metadata": {},
   "outputs": [],
   "source": [
    "temp_self = InSet(x_y_z, TensorProd(R3, R3, R3))"
   ]
  },
  {
   "cell_type": "code",
   "execution_count": null,
   "metadata": {},
   "outputs": [],
   "source": [
    "_a_sub = temp_self.element.operands"
   ]
  },
  {
   "cell_type": "code",
   "execution_count": null,
   "metadata": {},
   "outputs": [],
   "source": [
    "_i_sub = _a_sub.num_elements()"
   ]
  },
  {
   "cell_type": "code",
   "execution_count": null,
   "metadata": {},
   "outputs": [],
   "source": [
    "# This does NOT work, nor does get_field appear designed for this\n",
    "_K_sub = VecSpaces.get_field(temp_self.domain)"
   ]
  },
  {
   "cell_type": "code",
   "execution_count": null,
   "metadata": {},
   "outputs": [],
   "source": [
    "# THIS HANGS!\n",
    "\n",
    "# we could try the following, which seems unpromising given that we already\n",
    "# know what vec space we should be dealing with and should be able to derive\n",
    "# the correct field instead of supplying it; notice that the result is not\n",
    "# even satisfactory, returning Complexes instead of obvious Reals\n",
    "# temp_self.element.deduce_in_vec_space(field=None)"
   ]
  },
  {
   "cell_type": "code",
   "execution_count": null,
   "metadata": {},
   "outputs": [],
   "source": [
    "# try this instead:\n",
    "# does not work if we omit the automation=True\n",
    "domain_is_vec_space = temp_self.domain.deduce_as_vec_space(automation=True)"
   ]
  },
  {
   "cell_type": "code",
   "execution_count": null,
   "metadata": {},
   "outputs": [],
   "source": [
    "# followed by this:\n",
    "_K_sub = VecSpaces.known_field(temp_self.domain)"
   ]
  },
  {
   "cell_type": "code",
   "execution_count": null,
   "metadata": {},
   "outputs": [],
   "source": [
    "vec_spaces = temp_self.domain.operands"
   ]
  },
  {
   "cell_type": "code",
   "execution_count": null,
   "metadata": {},
   "outputs": [],
   "source": [
    "from proveit import a, i, K, V\n",
    "tensor_prod_is_in_tensor_prod_space.instantiate(\n",
    "        {a: _a_sub, i: _i_sub, K: _K_sub, V: vec_spaces})"
   ]
  },
  {
   "cell_type": "code",
   "execution_count": null,
   "metadata": {},
   "outputs": [],
   "source": [
    "InSet(x_y_z, TensorProd(R3, R3, R3)).conclude()"
   ]
  },
  {
   "cell_type": "code",
   "execution_count": null,
   "metadata": {},
   "outputs": [],
   "source": [
    "InSet(x_y_z, TensorProd(C3, C3, C3)).conclude()"
   ]
  },
  {
   "cell_type": "markdown",
   "metadata": {},
   "source": [
    "### The `TensorProd.association()` and `TensorProd.disassociation()` methods"
   ]
  },
  {
   "cell_type": "code",
   "execution_count": null,
   "metadata": {},
   "outputs": [],
   "source": [
    "help(TensorProd.association)"
   ]
  },
  {
   "cell_type": "code",
   "execution_count": null,
   "metadata": {},
   "outputs": [],
   "source": [
    "help(TensorProd.disassociation)"
   ]
  },
  {
   "cell_type": "code",
   "execution_count": null,
   "metadata": {},
   "outputs": [],
   "source": [
    "# without the automation=True, gives error\n",
    "# with automation=True, just HANGS\n",
    "# tensor_prod_with_sum_04.association(1, 4, automation=True)"
   ]
  },
  {
   "cell_type": "code",
   "execution_count": null,
   "metadata": {},
   "outputs": [],
   "source": [
    "tensor_prod_04.disassociation(1, auto_simplify=False)"
   ]
  },
  {
   "cell_type": "markdown",
   "metadata": {},
   "source": [
    "### The `TensorProd.scalar_factorization()` method"
   ]
  },
  {
   "cell_type": "code",
   "execution_count": null,
   "metadata": {},
   "outputs": [],
   "source": [
    "help(TensorProd.scalar_factorization)"
   ]
  },
  {
   "cell_type": "code",
   "execution_count": null,
   "metadata": {},
   "outputs": [],
   "source": [
    "tensor_prod_00"
   ]
  },
  {
   "cell_type": "code",
   "execution_count": null,
   "metadata": {},
   "outputs": [],
   "source": [
    "tensor_prod_00.scalar_factorization(0, field=Real)"
   ]
  },
  {
   "cell_type": "markdown",
   "metadata": {},
   "source": [
    "By default, the first ScalarMult operand will be the target.  Also, we may use the default field, `VecSpaces.default_field`."
   ]
  },
  {
   "cell_type": "code",
   "execution_count": null,
   "metadata": {},
   "outputs": [],
   "source": [
    "VecSpaces.default_field = Real"
   ]
  },
  {
   "cell_type": "code",
   "execution_count": null,
   "metadata": {},
   "outputs": [],
   "source": [
    "tensor_prod_000.scalar_factorization()"
   ]
  },
  {
   "cell_type": "code",
   "execution_count": null,
   "metadata": {},
   "outputs": [],
   "source": [
    "tensor_prod_01.scalar_factorization()"
   ]
  },
  {
   "cell_type": "code",
   "execution_count": null,
   "metadata": {},
   "outputs": [],
   "source": [
    "tensor_prod_02.scalar_factorization(1)"
   ]
  },
  {
   "cell_type": "code",
   "execution_count": null,
   "metadata": {},
   "outputs": [],
   "source": [
    "tensor_prod_03.scalar_factorization()"
   ]
  },
  {
   "cell_type": "code",
   "execution_count": null,
   "metadata": {},
   "outputs": [],
   "source": [
    "tensor_prod_05.scalar_factorization()"
   ]
  },
  {
   "cell_type": "markdown",
   "metadata": {},
   "source": [
    "### The `TensorProd.distribution()` method"
   ]
  },
  {
   "cell_type": "code",
   "execution_count": null,
   "metadata": {},
   "outputs": [],
   "source": [
    "help(TensorProd.distribution)"
   ]
  },
  {
   "cell_type": "code",
   "execution_count": null,
   "metadata": {},
   "outputs": [],
   "source": [
    "tensor_prod_05"
   ]
  },
  {
   "cell_type": "code",
   "execution_count": null,
   "metadata": {},
   "outputs": [],
   "source": [
    "tensor_prod_05.distribution(2)"
   ]
  },
  {
   "cell_type": "code",
   "execution_count": null,
   "metadata": {},
   "outputs": [],
   "source": [
    "tensor_prod_06"
   ]
  },
  {
   "cell_type": "code",
   "execution_count": null,
   "metadata": {},
   "outputs": [],
   "source": [
    "tensor_prod_06.distribution(0)"
   ]
  },
  {
   "cell_type": "code",
   "execution_count": null,
   "metadata": {},
   "outputs": [],
   "source": [
    "tensor_prod_07"
   ]
  },
  {
   "cell_type": "code",
   "execution_count": null,
   "metadata": {},
   "outputs": [],
   "source": [
    "tensor_prod_07.distribution(1)"
   ]
  },
  {
   "cell_type": "code",
   "execution_count": null,
   "metadata": {},
   "outputs": [],
   "source": [
    "tensor_prod_08"
   ]
  },
  {
   "cell_type": "code",
   "execution_count": null,
   "metadata": {},
   "outputs": [],
   "source": [
    "tensor_prod_08.distribution(2)"
   ]
  },
  {
   "cell_type": "code",
   "execution_count": null,
   "metadata": {},
   "outputs": [],
   "source": [
    "tensor_prod_with_sum_01"
   ]
  },
  {
   "cell_type": "code",
   "execution_count": null,
   "metadata": {},
   "outputs": [],
   "source": [
    "tensor_prod_with_sum_01.distribution(1)"
   ]
  },
  {
   "cell_type": "code",
   "execution_count": null,
   "metadata": {},
   "outputs": [],
   "source": [
    "temp_self = tensor_prod_with_sum_01"
   ]
  },
  {
   "cell_type": "code",
   "execution_count": null,
   "metadata": {},
   "outputs": [],
   "source": [
    "field=None\n",
    "_V_sub = VecSpaces.known_vec_space(temp_self, field=field)"
   ]
  },
  {
   "cell_type": "code",
   "execution_count": null,
   "metadata": {},
   "outputs": [],
   "source": [
    "# notice here that _V_sub is a TensorProd, not a VecSpace\n",
    "type(_V_sub)"
   ]
  },
  {
   "cell_type": "code",
   "execution_count": null,
   "metadata": {},
   "outputs": [],
   "source": [
    "_K = VecSpaces.known_field(_V_sub)"
   ]
  },
  {
   "cell_type": "code",
   "execution_count": null,
   "metadata": {},
   "outputs": [],
   "source": [
    "idx = 1\n",
    "sum_factor = temp_self.operands[idx]"
   ]
  },
  {
   "cell_type": "code",
   "execution_count": null,
   "metadata": {},
   "outputs": [],
   "source": [
    "_a_sub = temp_self.operands[:idx]"
   ]
  },
  {
   "cell_type": "code",
   "execution_count": null,
   "metadata": {},
   "outputs": [],
   "source": [
    "_c_sub = temp_self.operands[idx+1:]"
   ]
  },
  {
   "cell_type": "code",
   "execution_count": null,
   "metadata": {},
   "outputs": [],
   "source": [
    "_i_sub = _a_sub.num_elements()"
   ]
  },
  {
   "cell_type": "code",
   "execution_count": null,
   "metadata": {},
   "outputs": [],
   "source": [
    "_k_sub = _c_sub.num_elements()"
   ]
  },
  {
   "cell_type": "code",
   "execution_count": null,
   "metadata": {},
   "outputs": [],
   "source": [
    "_b_sub = sum_factor.indices"
   ]
  },
  {
   "cell_type": "code",
   "execution_count": null,
   "metadata": {},
   "outputs": [],
   "source": [
    "_j_sub = _b_sub.num_elements()"
   ]
  },
  {
   "cell_type": "code",
   "execution_count": null,
   "metadata": {},
   "outputs": [],
   "source": [
    "from proveit import Lambda\n",
    "_f_sub = Lambda(sum_factor.indices, sum_factor.summand)"
   ]
  },
  {
   "cell_type": "code",
   "execution_count": null,
   "metadata": {},
   "outputs": [],
   "source": [
    "_Q_sub = Lambda(sum_factor.indices, sum_factor.condition)"
   ]
  },
  {
   "cell_type": "code",
   "execution_count": null,
   "metadata": {},
   "outputs": [],
   "source": [
    "from proveit import K, f, Q, i, j, k, V, a, b, c\n",
    "from proveit.linear_algebra.tensors import tensor_prod_distribution_over_summation\n",
    "impl = tensor_prod_distribution_over_summation.instantiate(\n",
    "    {K:_K_sub, f:_f_sub, Q:_Q_sub, i:_i_sub, j:_j_sub, k:_k_sub,\n",
    "     V:_V_sub, a:_a_sub, b:_b_sub, c:_c_sub},\n",
    "    preserve_all=True)"
   ]
  },
  {
   "cell_type": "code",
   "execution_count": null,
   "metadata": {},
   "outputs": [],
   "source": [
    "tensor_prod_with_sum_02"
   ]
  },
  {
   "cell_type": "code",
   "execution_count": null,
   "metadata": {},
   "outputs": [],
   "source": [
    "tensor_prod_with_sum_02.distribution(0)"
   ]
  },
  {
   "cell_type": "code",
   "execution_count": null,
   "metadata": {},
   "outputs": [],
   "source": [
    "tensor_prod_with_sum_03"
   ]
  },
  {
   "cell_type": "code",
   "execution_count": null,
   "metadata": {},
   "outputs": [],
   "source": [
    "tensor_prod_with_sum_03.distribution(1)"
   ]
  },
  {
   "cell_type": "code",
   "execution_count": null,
   "metadata": {},
   "outputs": [],
   "source": [
    "tensor_prod_with_sum_04"
   ]
  },
  {
   "cell_type": "code",
   "execution_count": null,
   "metadata": {},
   "outputs": [],
   "source": [
    "tensor_prod_with_sum_04.distribution(4)"
   ]
  },
  {
   "cell_type": "code",
   "execution_count": null,
   "metadata": {},
   "outputs": [],
   "source": [
    "# recall one of our TensorProd objects without a sum or summation:\n",
    "tensor_prod_02"
   ]
  },
  {
   "cell_type": "code",
   "execution_count": null,
   "metadata": {},
   "outputs": [],
   "source": [
    "# we should get a meaningful error message when trying to distribute across\n",
    "# a factor that is not a sum or summation:\n",
    "try:\n",
    "    tensor_prod_02.distribution(1)\n",
    "    assert False, \"Expecting a ValueError; should not get this far!\"\n",
    "except ValueError as the_error:\n",
    "    print(\"ValueError: {}\".format(the_error))"
   ]
  },
  {
   "cell_type": "markdown",
   "metadata": {},
   "source": [
    "Working on details for a possible TensorProd.factoring() method below."
   ]
  },
  {
   "cell_type": "code",
   "execution_count": null,
   "metadata": {},
   "outputs": [],
   "source": [
    "tensor_prod_inside_sum_01"
   ]
  },
  {
   "cell_type": "markdown",
   "metadata": {},
   "source": [
    "That is actually equal to:<br/>\n",
    "\\begin{align}\n",
    "x \\otimes f(2) + x \\otimes f(3) + x \\otimes f(4)\n",
    "&=\n",
    "x \\otimes (f(2) + f(3) + f(4))\\\\\n",
    "&=\n",
    "x \\otimes \\sum_{i=2}^{4} f(i)\n",
    "\\end{align}\n",
    "We want to be able to call `tensor_prod_inside_sum_01.factorization(idx)`, where `idx` indicates the (0-based) index of the tensor product term to leave inside the summation. Clearly any term(s) that are functions of the summation index itself cannot be pulled out, and we cannot change the order of the tensor product terms. In the simple example here, we would call `tensor_prod_inside_sum_01.factorization(1)`, to obtain\n",
    "\\begin{align}\n",
    "\\vdash\n",
    "\\sum_{i=2}^{4} \\left[x \\otimes f(i)\\right]\n",
    "&=\n",
    "x \\otimes \\sum_{i=2}^{4} f(i)\n",
    "\\end{align}\n"
   ]
  },
  {
   "cell_type": "code",
   "execution_count": null,
   "metadata": {},
   "outputs": [],
   "source": [
    "from proveit.linear_algebra.tensors import tensor_prod_distribution_over_summation\n",
    "tensor_prod_distribution_over_summation"
   ]
  },
  {
   "cell_type": "code",
   "execution_count": null,
   "metadata": {},
   "outputs": [],
   "source": [
    "self_test = tensor_prod_inside_sum_01"
   ]
  },
  {
   "cell_type": "code",
   "execution_count": null,
   "metadata": {},
   "outputs": [],
   "source": [
    "idx = 1"
   ]
  },
  {
   "cell_type": "code",
   "execution_count": null,
   "metadata": {},
   "outputs": [],
   "source": [
    "field = None\n",
    "_V_sub = VecSpaces.known_vec_space(self_test, field=field)"
   ]
  },
  {
   "cell_type": "code",
   "execution_count": null,
   "metadata": {},
   "outputs": [],
   "source": [
    "_K_sub = VecSpaces.known_field(_V_sub)"
   ]
  },
  {
   "cell_type": "code",
   "execution_count": null,
   "metadata": {},
   "outputs": [],
   "source": [
    "_a_sub = self_test.summand.operands[:idx]"
   ]
  },
  {
   "cell_type": "code",
   "execution_count": null,
   "metadata": {},
   "outputs": [],
   "source": [
    "_c_sub = self_test.summand.operands[idx+1:]"
   ]
  },
  {
   "cell_type": "code",
   "execution_count": null,
   "metadata": {},
   "outputs": [],
   "source": [
    "_i_sub = _a_sub.num_elements()"
   ]
  },
  {
   "cell_type": "code",
   "execution_count": null,
   "metadata": {},
   "outputs": [],
   "source": [
    "_k_sub = _c_sub.num_elements()"
   ]
  },
  {
   "cell_type": "code",
   "execution_count": null,
   "metadata": {},
   "outputs": [],
   "source": [
    "_b_sub = self_test.indices"
   ]
  },
  {
   "cell_type": "code",
   "execution_count": null,
   "metadata": {},
   "outputs": [],
   "source": [
    "_j_sub = _b_sub.num_elements()"
   ]
  },
  {
   "cell_type": "code",
   "execution_count": null,
   "metadata": {},
   "outputs": [],
   "source": [
    "_f_sub = Lambda(self_test.indices, self_test.summand.operands[idx])"
   ]
  },
  {
   "cell_type": "code",
   "execution_count": null,
   "metadata": {},
   "outputs": [],
   "source": [
    "_Q_sub = Lambda(self_test.indices, self_test.condition)"
   ]
  },
  {
   "cell_type": "code",
   "execution_count": null,
   "metadata": {},
   "outputs": [],
   "source": [
    "tensor_prod_distribution_over_summation.instance_params"
   ]
  },
  {
   "cell_type": "code",
   "execution_count": null,
   "metadata": {},
   "outputs": [],
   "source": [
    "from proveit import K, f, Q, i, j, k, V, a, b, c\n",
    "impl = tensor_prod_distribution_over_summation.instantiate(\n",
    "                    {K:_K_sub, f:_f_sub, Q:_Q_sub, i:_i_sub, j:_j_sub, k:_k_sub, \n",
    "                     V:_V_sub, a:_a_sub, b:_b_sub, c:_c_sub}, preserve_all=True)"
   ]
  },
  {
   "cell_type": "code",
   "execution_count": null,
   "metadata": {},
   "outputs": [],
   "source": [
    "impl.derive_consequent().derive_reversed().with_wrapping_at()"
   ]
  },
  {
   "cell_type": "markdown",
   "metadata": {},
   "source": [
    "The `tensor_prod_factoring()` method technically is a method called on a VecSum object, but it's good to briefly illustrate its use here in tensors, essentially performing the inverse operation of the `TensorProd.distribution()` method:"
   ]
  },
  {
   "cell_type": "code",
   "execution_count": null,
   "metadata": {},
   "outputs": [],
   "source": [
    "# The numeric argument indicates the tensor product factor \n",
    "# to LEAVE inside the VecSum\n",
    "tensor_prod_inside_sum_01.tensor_prod_factoring(1)"
   ]
  },
  {
   "cell_type": "code",
   "execution_count": null,
   "metadata": {},
   "outputs": [],
   "source": [
    "tensor_prod_inside_sum_03"
   ]
  },
  {
   "cell_type": "code",
   "execution_count": null,
   "metadata": {},
   "outputs": [],
   "source": [
    "defaults.assumptions"
   ]
  },
  {
   "cell_type": "code",
   "execution_count": null,
   "metadata": {},
   "outputs": [],
   "source": [
    "try:\n",
    "    tensor_prod_inside_sum_03.tensor_prod_factoring(1)\n",
    "except Exception as the_exception:\n",
    "    print(\"Exception: {}\".format(the_exception))"
   ]
  },
  {
   "cell_type": "markdown",
   "metadata": {},
   "source": [
    "Testing/problems for factoring the case for `tensor_prod_inside_sum_03`, which is identical to `tensor_prod_inside_sum_01` except now we have z instead of x and z has all the same properties as x …  "
   ]
  },
  {
   "cell_type": "code",
   "execution_count": null,
   "metadata": {},
   "outputs": [],
   "source": [
    "self_test = tensor_prod_inside_sum_03"
   ]
  },
  {
   "cell_type": "code",
   "execution_count": null,
   "metadata": {},
   "outputs": [],
   "source": [
    "field = None\n",
    "_V_sub = VecSpaces.known_vec_space(self_test, field=field)"
   ]
  },
  {
   "cell_type": "code",
   "execution_count": null,
   "metadata": {},
   "outputs": [],
   "source": [
    "_K_sub = VecSpaces.known_field(_V_sub)"
   ]
  },
  {
   "cell_type": "code",
   "execution_count": null,
   "metadata": {},
   "outputs": [],
   "source": [
    "_a_sub = self_test.summand.operands[:idx]"
   ]
  },
  {
   "cell_type": "code",
   "execution_count": null,
   "metadata": {},
   "outputs": [],
   "source": [
    "_c_sub = self_test.summand.operands[idx+1:]"
   ]
  },
  {
   "cell_type": "code",
   "execution_count": null,
   "metadata": {},
   "outputs": [],
   "source": [
    "_i_sub = _a_sub.num_elements()"
   ]
  },
  {
   "cell_type": "code",
   "execution_count": null,
   "metadata": {},
   "outputs": [],
   "source": [
    "_k_sub = _c_sub.num_elements()"
   ]
  },
  {
   "cell_type": "code",
   "execution_count": null,
   "metadata": {},
   "outputs": [],
   "source": [
    "_b_sub = self_test.indices"
   ]
  },
  {
   "cell_type": "code",
   "execution_count": null,
   "metadata": {},
   "outputs": [],
   "source": [
    "_j_sub = _b_sub.num_elements()"
   ]
  },
  {
   "cell_type": "code",
   "execution_count": null,
   "metadata": {},
   "outputs": [],
   "source": [
    "_f_sub = Lambda(self_test.indices, self_test.summand.operands[idx])"
   ]
  },
  {
   "cell_type": "code",
   "execution_count": null,
   "metadata": {},
   "outputs": [],
   "source": [
    "_Q_sub = Lambda(self_test.indices, self_test.condition)"
   ]
  },
  {
   "cell_type": "code",
   "execution_count": null,
   "metadata": {},
   "outputs": [],
   "source": [
    "from proveit import K, f, Q, i, j, k, V, a, b, c\n",
    "impl = tensor_prod_distribution_over_summation.instantiate(\n",
    "                    {K:_K_sub, f:_f_sub, Q:_Q_sub, i:_i_sub, j:_j_sub, k:_k_sub, \n",
    "                     V:_V_sub, a:_a_sub, b:_b_sub, c:_c_sub}, preserve_all=True)"
   ]
  },
  {
   "cell_type": "code",
   "execution_count": null,
   "metadata": {},
   "outputs": [],
   "source": [
    "defaults.assumptions"
   ]
  },
  {
   "cell_type": "code",
   "execution_count": null,
   "metadata": {},
   "outputs": [],
   "source": [
    "InSet(z, R3).proven()"
   ]
  },
  {
   "cell_type": "code",
   "execution_count": null,
   "metadata": {},
   "outputs": [],
   "source": [
    "InSet(VecSum(i, Function(f, i), domain=Interval(two, four)), R3).proven()"
   ]
  },
  {
   "cell_type": "code",
   "execution_count": null,
   "metadata": {},
   "outputs": [],
   "source": [
    "TensorProd(z, VecSum(i, Function(f, i), domain=Interval(two, four))).deduce_in_vec_space(TensorProd(R3, R3), field=Real)"
   ]
  },
  {
   "cell_type": "code",
   "execution_count": null,
   "metadata": {},
   "outputs": [],
   "source": [
    "InSet(TensorProd(z, VecSum(i, Function(f, i), domain=Interval(two, four))), TensorProd(R3, R3)).prove()"
   ]
  },
  {
   "cell_type": "code",
   "execution_count": null,
   "metadata": {},
   "outputs": [],
   "source": [
    "impl.derive_consequent()"
   ]
  },
  {
   "cell_type": "code",
   "execution_count": null,
   "metadata": {},
   "outputs": [],
   "source": [
    "impl.derive_consequent().derive_reversed().with_wrapping_at()"
   ]
  },
  {
   "cell_type": "code",
   "execution_count": null,
   "metadata": {},
   "outputs": [],
   "source": [
    "tensor_prod_inside_sum_02.tensor_prod_factoring(1)"
   ]
  },
  {
   "cell_type": "code",
   "execution_count": null,
   "metadata": {},
   "outputs": [],
   "source": [
    "tensor_prod_inside_sum_03.tensor_prod_factoring(1)"
   ]
  },
  {
   "cell_type": "code",
   "execution_count": null,
   "metadata": {},
   "outputs": [],
   "source": [
    "tensor_prod_inside_sum_04.tensor_prod_factoring(0)"
   ]
  },
  {
   "cell_type": "code",
   "execution_count": null,
   "metadata": {},
   "outputs": [],
   "source": [
    "tensor_prod_inside_sum_05.tensor_prod_factoring(1)"
   ]
  },
  {
   "cell_type": "code",
   "execution_count": null,
   "metadata": {},
   "outputs": [],
   "source": [
    "tensor_prod_inside_sum_06.tensor_prod_factoring(2)"
   ]
  },
  {
   "cell_type": "code",
   "execution_count": null,
   "metadata": {},
   "outputs": [],
   "source": [
    "scalar_mult_example = ScalarMult(alpha,tensor_prod_inside_sum_06)"
   ]
  },
  {
   "cell_type": "code",
   "execution_count": null,
   "metadata": {},
   "outputs": [],
   "source": [
    "scalar_mult_example.inner_expr().operands[1].tensor_prod_factoring(2)"
   ]
  },
  {
   "cell_type": "code",
   "execution_count": null,
   "metadata": {},
   "outputs": [],
   "source": [
    "scalar_mult_example_02 = VecSum(i, TensorProd(ScalarMult(beta, x), ScalarMult(beta, y)), domain=Interval(two, four))"
   ]
  },
  {
   "cell_type": "code",
   "execution_count": null,
   "metadata": {},
   "outputs": [],
   "source": [
    "scalar_mult_example_03 = VecSum(i, ScalarMult(gamma, ScalarMult(beta, TensorProd(x, fi, y))), domain=Interval(two, four))"
   ]
  },
  {
   "cell_type": "code",
   "execution_count": null,
   "metadata": {},
   "outputs": [],
   "source": [
    "scalar_mult_example_04 = VecSum(i, ScalarMult(gamma, ScalarMult(i, TensorProd(x, y))), domain=Interval(two, four))"
   ]
  },
  {
   "cell_type": "code",
   "execution_count": null,
   "metadata": {},
   "outputs": [],
   "source": [
    "from proveit.numbers import Add\n",
    "scalar_mult_example_05 = VecSum(\n",
    "    i,\n",
    "    ScalarMult(gamma, ScalarMult(i, ScalarMult(beta, ScalarMult(Add(i, one), TensorProd(x, y))))),\n",
    "    domain=Interval(two, four))"
   ]
  },
  {
   "cell_type": "code",
   "execution_count": null,
   "metadata": {},
   "outputs": [],
   "source": [
    "defaults.assumptions"
   ]
  },
  {
   "cell_type": "code",
   "execution_count": null,
   "metadata": {},
   "outputs": [],
   "source": [
    "from proveit.logic import InClass\n",
    "from proveit.linear_algebra import VecSpaces"
   ]
  },
  {
   "cell_type": "code",
   "execution_count": null,
   "metadata": {},
   "outputs": [],
   "source": [
    "InClass(x, VecSpaces(Real))"
   ]
  },
  {
   "cell_type": "code",
   "execution_count": null,
   "metadata": {},
   "outputs": [],
   "source": [
    "defaults.assumptions + (InClass(fi, VecSpaces(Real)), InClass(x, VecSpaces(Real)))"
   ]
  },
  {
   "cell_type": "code",
   "execution_count": null,
   "metadata": {},
   "outputs": [],
   "source": [
    "# the scalar_factorization() takes out just a single scalar it finds first\n",
    "# which is somewhat problematic, because it makes it difficult to then\n",
    "# repeat the process because it produces a ScalarMult at the top level\n",
    "scalar_mult_example_02_factored_01 = scalar_mult_example_02.summand.scalar_factorization()"
   ]
  },
  {
   "cell_type": "code",
   "execution_count": null,
   "metadata": {},
   "outputs": [],
   "source": [
    "scalar_mult_example_02.summand.simplification()"
   ]
  },
  {
   "cell_type": "code",
   "execution_count": null,
   "metadata": {},
   "outputs": [],
   "source": [
    "scalar_mult_example_02_factored_01"
   ]
  },
  {
   "cell_type": "code",
   "execution_count": null,
   "metadata": {},
   "outputs": [],
   "source": [
    "# we would then have to dig into the next level\n",
    "# scalar_mult_example_02_factored_01.inner_expr().rhs.operands[1].factor_scalar()"
   ]
  },
  {
   "cell_type": "code",
   "execution_count": null,
   "metadata": {},
   "outputs": [],
   "source": [
    "scalar_mult_example_02_factored_01"
   ]
  },
  {
   "cell_type": "code",
   "execution_count": null,
   "metadata": {},
   "outputs": [],
   "source": [
    "# shallow simplify is working, pulling the scalars out front\n",
    "# and eliminating nested ScalarMults\n",
    "scalar_mult_example_02_factored_02 = scalar_mult_example_02_factored_01.inner_expr().rhs.operands[1].shallow_simplify()"
   ]
  },
  {
   "cell_type": "code",
   "execution_count": null,
   "metadata": {},
   "outputs": [],
   "source": [
    "# double_scaling_reduce() seems to work now\n",
    "# scalar_mult_example_02_factored_02.inner_expr().rhs.double_scaling_reduce()"
   ]
  },
  {
   "cell_type": "code",
   "execution_count": null,
   "metadata": {},
   "outputs": [],
   "source": [
    "scalar_mult_example_02.summand.shallow_simplification(\n",
    "    assumptions=defaults.assumptions + (InClass(fi, VecSpaces(Real)), InClass(x, VecSpaces(Real))))"
   ]
  },
  {
   "cell_type": "code",
   "execution_count": null,
   "metadata": {},
   "outputs": [],
   "source": [
    "simplification_01 = scalar_mult_example_02.inner_expr().summand.shallow_simplification()"
   ]
  },
  {
   "cell_type": "code",
   "execution_count": null,
   "metadata": {},
   "outputs": [],
   "source": [
    "scalar_mult_example_02.tensor_prod_factoring(idx=1)"
   ]
  },
  {
   "cell_type": "code",
   "execution_count": null,
   "metadata": {},
   "outputs": [],
   "source": [
    "test_result = scalar_mult_example_02.factors_extraction()"
   ]
  },
  {
   "cell_type": "markdown",
   "metadata": {},
   "source": [
    "#### Testing the instantiation of the distribution_over_vec_sum theorem."
   ]
  },
  {
   "cell_type": "code",
   "execution_count": null,
   "metadata": {},
   "outputs": [],
   "source": [
    "from proveit.linear_algebra.scalar_multiplication import distribution_over_vec_sum\n",
    "distribution_over_vec_sum"
   ]
  },
  {
   "cell_type": "code",
   "execution_count": null,
   "metadata": {},
   "outputs": [],
   "source": [
    "temp_self = scalar_mult_example_02"
   ]
  },
  {
   "cell_type": "code",
   "execution_count": null,
   "metadata": {},
   "outputs": [],
   "source": [
    "from proveit import TransRelUpdater\n",
    "expr = temp_self\n",
    "eq = TransRelUpdater(expr)\n",
    "eq.relation"
   ]
  },
  {
   "cell_type": "code",
   "execution_count": null,
   "metadata": {},
   "outputs": [],
   "source": [
    "expr = eq.update(expr.inner_expr().summand.shallow_simplification())\n",
    "eq.relation"
   ]
  },
  {
   "cell_type": "code",
   "execution_count": null,
   "metadata": {},
   "outputs": [],
   "source": [
    "expr"
   ]
  },
  {
   "cell_type": "code",
   "execution_count": null,
   "metadata": {},
   "outputs": [],
   "source": [
    "# this might be tricky — will known_vec_space return the same for every\n",
    "# a_1, … a_i ?\n",
    "_V_sub = VecSpaces.known_vec_space(expr.summand.scaled, field=None)"
   ]
  },
  {
   "cell_type": "code",
   "execution_count": null,
   "metadata": {},
   "outputs": [],
   "source": [
    "_K_sub = VecSpaces.known_field(_V_sub)"
   ]
  },
  {
   "cell_type": "code",
   "execution_count": null,
   "metadata": {},
   "outputs": [],
   "source": [
    "_b_sub = expr.indices"
   ]
  },
  {
   "cell_type": "code",
   "execution_count": null,
   "metadata": {},
   "outputs": [],
   "source": [
    "_j_sub = _b_sub.num_elements()"
   ]
  },
  {
   "cell_type": "code",
   "execution_count": null,
   "metadata": {},
   "outputs": [],
   "source": [
    "# from proveit import Lambda\n",
    "_f_sub = Lambda(expr.indices, expr.summand.scaled)"
   ]
  },
  {
   "cell_type": "code",
   "execution_count": null,
   "metadata": {},
   "outputs": [],
   "source": [
    "_Q_sub = Lambda(expr.indices, expr.condition)"
   ]
  },
  {
   "cell_type": "code",
   "execution_count": null,
   "metadata": {},
   "outputs": [],
   "source": [
    "_k_sub = expr.summand.scalar"
   ]
  },
  {
   "cell_type": "code",
   "execution_count": null,
   "metadata": {},
   "outputs": [],
   "source": [
    "from proveit import V, K, a, b, f, j, k, Q\n",
    "imp = distribution_over_vec_sum.instantiate(\n",
    "    {V: _V_sub, K: _K_sub, b: _b_sub, j: _j_sub,\n",
    "     f: _f_sub, Q: _Q_sub, k: _k_sub})"
   ]
  },
  {
   "cell_type": "code",
   "execution_count": null,
   "metadata": {},
   "outputs": [],
   "source": [
    "imp.derive_consequent().derive_reversed()"
   ]
  },
  {
   "cell_type": "code",
   "execution_count": null,
   "metadata": {},
   "outputs": [],
   "source": [
    "expr = eq.update(imp.derive_consequent().derive_reversed())"
   ]
  },
  {
   "cell_type": "code",
   "execution_count": null,
   "metadata": {},
   "outputs": [],
   "source": [
    "eq.relation"
   ]
  },
  {
   "cell_type": "code",
   "execution_count": null,
   "metadata": {},
   "outputs": [],
   "source": [
    "expr"
   ]
  },
  {
   "cell_type": "code",
   "execution_count": null,
   "metadata": {},
   "outputs": [],
   "source": [
    "expr.inner_expr().scaled.tensor_prod_factoring(1)"
   ]
  },
  {
   "cell_type": "code",
   "execution_count": null,
   "metadata": {},
   "outputs": [],
   "source": [
    "expr = eq.update(expr.inner_expr().scaled.tensor_prod_factoring(1))"
   ]
  },
  {
   "cell_type": "code",
   "execution_count": null,
   "metadata": {},
   "outputs": [],
   "source": [
    "eq.relation"
   ]
  },
  {
   "cell_type": "code",
   "execution_count": null,
   "metadata": {},
   "outputs": [],
   "source": [
    "scalar_mult_example_03"
   ]
  },
  {
   "cell_type": "code",
   "execution_count": null,
   "metadata": {},
   "outputs": [],
   "source": [
    "# scalar_mult_example_03.factors_extraction()"
   ]
  },
  {
   "cell_type": "code",
   "execution_count": null,
   "metadata": {},
   "outputs": [],
   "source": [
    "# consider this example now, noting the factor of index var 'i'\n",
    "scalar_mult_example_04"
   ]
  },
  {
   "cell_type": "code",
   "execution_count": null,
   "metadata": {},
   "outputs": [],
   "source": [
    "# this seems to work ok when called literally like this:\n",
    "scalar_mult_example_04.inner_expr().summand.shallow_simplification()"
   ]
  },
  {
   "cell_type": "code",
   "execution_count": null,
   "metadata": {},
   "outputs": [],
   "source": [
    "# but what if we try to use the TransRelUpdater?\n",
    "expr = scalar_mult_example_04 # a VecSum with a ScalarMult summand\n",
    "eq = TransRelUpdater(scalar_mult_example_04)\n",
    "display(eq.relation)\n",
    "expr = eq.update(expr.inner_expr().summand.shallow_simplification())\n",
    "display(eq.relation)"
   ]
  },
  {
   "cell_type": "code",
   "execution_count": null,
   "metadata": {},
   "outputs": [],
   "source": [
    "# this will not yet work, because the i factor causes it to\n",
    "# completely fail; want to check if the ScalarMult.scalar is itself a Mult,\n",
    "# then check and pull out what we can from that\n",
    "# scalar_mult_example_04.factors_extraction(assumptions=defaults.assumptions + (InSet(i, Real),))"
   ]
  },
  {
   "cell_type": "markdown",
   "metadata": {},
   "source": [
    "(1) If the summand is a ScalarMult, we then check to see if the ScalarMult.scalar involves the summand index.<p>\n",
    "(2) If not, factor it out! If it does, we might have to look more carefully …"
   ]
  },
  {
   "cell_type": "markdown",
   "metadata": {},
   "source": [
    "### WORKING HERE"
   ]
  },
  {
   "cell_type": "code",
   "execution_count": null,
   "metadata": {},
   "outputs": [],
   "source": [
    "scalar_mult_example"
   ]
  },
  {
   "cell_type": "code",
   "execution_count": null,
   "metadata": {},
   "outputs": [],
   "source": [
    "scalar_mult_example_01 = VecSum(i, ScalarMult(gamma, TensorProd(x, y, fi, z)), domain=Interval(two, four))"
   ]
  },
  {
   "cell_type": "markdown",
   "metadata": {},
   "source": [
    "Here trying to manually re-create the VecSum.deduce_in_vec_space() for when the summand is a ScalarMult of a TensorProd"
   ]
  },
  {
   "cell_type": "markdown",
   "metadata": {},
   "source": [
    "#### Figuring out the instantiation substitutions needed for the VecSum of a ScalarMult … and figuring out some extra steps to deal with the vec space issues …"
   ]
  },
  {
   "cell_type": "code",
   "execution_count": null,
   "metadata": {},
   "outputs": [],
   "source": [
    "# this process works for a single vector left behind in the sum\n",
    "# but not when we associate and then try\n",
    "expr = scalar_mult_example_01\n",
    "field = None\n",
    "idx = 2 # just a single idx right now\n",
    "idx_beg = 1\n",
    "idx_end = 2\n",
    "from proveit import TransRelUpdater\n",
    "eq = TransRelUpdater(expr)\n",
    "eq.relation"
   ]
  },
  {
   "cell_type": "code",
   "execution_count": null,
   "metadata": {},
   "outputs": [],
   "source": [
    "# associate the chosen elements to remain\n",
    "if idx_beg != idx_end:\n",
    "    expr = eq.update(expr.inner_expr().summand.scaled.association(\n",
    "                idx_beg, idx_end - idx_beg + 1))\n",
    "    idx = idx_beg\n",
    "display(expr)\n",
    "display(idx)"
   ]
  },
  {
   "cell_type": "markdown",
   "metadata": {},
   "source": [
    "The following cell seems important, and may need to be implemented in some way in the VecSum.tensor_prod_factoring() method for certain circumstances. Need to talk with WW about this though.\n",
    "This VecSpaces.known_vec_space() succeeds where  the one in the next cell was continuing to be problematic."
   ]
  },
  {
   "cell_type": "code",
   "execution_count": null,
   "metadata": {},
   "outputs": [],
   "source": [
    "# Now trying process without this and just the one above\n",
    "####### put in some extra steps to help with the ########\n",
    "####### vector field stuff?\n",
    "# This is based on analogous stuff in VecSum.deduce_in_vec_space()\n",
    "# with some modifications for ScalarMult summand\n",
    "self = expr\n",
    "with defaults.temporary() as tmp_defaults:\n",
    "    tmp_defaults.assumptions = (defaults.assumptions + self.conditions.entries)\n",
    "    vec_space = VecSpaces.known_vec_space(self.summand, field=field) #or on scaled?\n",
    "    _V_sub = VecSpaces.known_vec_space(self.summand, field=field)\n",
    "    display(vec_space)"
   ]
  },
  {
   "cell_type": "code",
   "execution_count": null,
   "metadata": {},
   "outputs": [],
   "source": [
    "# _V_sub = VecSpaces.known_vec_space(expr, field=field)\n",
    "# display(expr)\n",
    "# _V_sub = VecSpaces.known_vec_space(expr.summand)\n",
    "# VecSpaces.known_vec_space(expr, field=Real)"
   ]
  },
  {
   "cell_type": "code",
   "execution_count": null,
   "metadata": {},
   "outputs": [],
   "source": [
    "_K_sub = VecSpaces.known_field(_V_sub)"
   ]
  },
  {
   "cell_type": "code",
   "execution_count": null,
   "metadata": {},
   "outputs": [],
   "source": [
    "_b_sub = expr.indices"
   ]
  },
  {
   "cell_type": "code",
   "execution_count": null,
   "metadata": {},
   "outputs": [],
   "source": [
    "_j_sub = _b_sub.num_elements()"
   ]
  },
  {
   "cell_type": "code",
   "execution_count": null,
   "metadata": {},
   "outputs": [],
   "source": [
    "_Q_sub = Lambda(expr.indices, expr.condition)"
   ]
  },
  {
   "cell_type": "code",
   "execution_count": null,
   "metadata": {},
   "outputs": [],
   "source": [
    "_a_sub = expr.summand.scaled.operands[:idx]"
   ]
  },
  {
   "cell_type": "code",
   "execution_count": null,
   "metadata": {},
   "outputs": [],
   "source": [
    "_c_sub = expr.summand.scaled.operands[idx+1:]"
   ]
  },
  {
   "cell_type": "code",
   "execution_count": null,
   "metadata": {},
   "outputs": [],
   "source": [
    "_s_sub = Lambda(expr.indices, expr.summand.scalar)"
   ]
  },
  {
   "cell_type": "code",
   "execution_count": null,
   "metadata": {},
   "outputs": [],
   "source": [
    "_f_sub = Lambda(expr.indices, expr.summand.scaled.operands[idx] )"
   ]
  },
  {
   "cell_type": "code",
   "execution_count": null,
   "metadata": {},
   "outputs": [],
   "source": [
    "_i_sub = _a_sub.num_elements()"
   ]
  },
  {
   "cell_type": "code",
   "execution_count": null,
   "metadata": {},
   "outputs": [],
   "source": [
    "_k_sub = _c_sub.num_elements()"
   ]
  },
  {
   "cell_type": "code",
   "execution_count": null,
   "metadata": {},
   "outputs": [],
   "source": [
    "from proveit.linear_algebra.tensors import tensor_prod_distribution_over_summation_with_scalar_mult\n",
    "tensor_prod_distribution_over_summation_with_scalar_mult"
   ]
  },
  {
   "cell_type": "code",
   "execution_count": null,
   "metadata": {},
   "outputs": [],
   "source": [
    "from proveit import K, f, Q, i, j, k, V, a, b, c, s\n",
    "impl = tensor_prod_distribution_over_summation_with_scalar_mult.instantiate(\n",
    "        {K:_K_sub, f:_f_sub, Q:_Q_sub, i:_i_sub, j:_j_sub,\n",
    "                     k:_k_sub, V:_V_sub, a:_a_sub, b:_b_sub, c:_c_sub,\n",
    "                     s: _s_sub})"
   ]
  },
  {
   "cell_type": "code",
   "execution_count": null,
   "metadata": {},
   "outputs": [],
   "source": [
    "impl.derive_consequent().derive_reversed()"
   ]
  },
  {
   "cell_type": "markdown",
   "metadata": {},
   "source": [
    "### Examples of `tensor_prod_factoring()`"
   ]
  },
  {
   "cell_type": "code",
   "execution_count": null,
   "metadata": {},
   "outputs": [],
   "source": [
    "scalar_mult_example_01.tensor_prod_factoring(idx=2)"
   ]
  },
  {
   "cell_type": "code",
   "execution_count": null,
   "metadata": {},
   "outputs": [],
   "source": [
    "scalar_mult_example_01.tensor_prod_factoring(idx_beg=1, idx_end=2)"
   ]
  },
  {
   "cell_type": "code",
   "execution_count": null,
   "metadata": {},
   "outputs": [],
   "source": [
    "scalar_mult_example_01.tensor_prod_factoring(idx_beg=1, idx_end=3)"
   ]
  },
  {
   "cell_type": "code",
   "execution_count": null,
   "metadata": {},
   "outputs": [],
   "source": [
    "scalar_mult_example_01.tensor_prod_factoring(idx_beg=0, idx_end=2)"
   ]
  },
  {
   "cell_type": "code",
   "execution_count": null,
   "metadata": {},
   "outputs": [],
   "source": [
    "scalar_mult_example_02.tensor_prod_factoring(idx=0)"
   ]
  },
  {
   "cell_type": "code",
   "execution_count": null,
   "metadata": {},
   "outputs": [],
   "source": [
    "scalar_mult_example_02.tensor_prod_factoring(idx=1)"
   ]
  },
  {
   "cell_type": "code",
   "execution_count": null,
   "metadata": {},
   "outputs": [],
   "source": [
    "# with no arguments, we factor as much as possible and reduce if possible\n",
    "scalar_mult_example_02.tensor_prod_factoring()"
   ]
  },
  {
   "cell_type": "code",
   "execution_count": null,
   "metadata": {},
   "outputs": [],
   "source": [
    "scalar_mult_example_03"
   ]
  },
  {
   "cell_type": "code",
   "execution_count": null,
   "metadata": {},
   "outputs": [],
   "source": [
    "# the tensor_prod_factoring() will also work\n",
    "# if the ScalarMults are nested (at least to some degree)\n",
    "scalar_mult_example_03.tensor_prod_factoring(idx=1)"
   ]
  },
  {
   "cell_type": "code",
   "execution_count": null,
   "metadata": {},
   "outputs": [],
   "source": [
    "scalar_mult_example_03.inner_expr().tensor_prod_factoring(idx_beg=1, idx_end=2)"
   ]
  },
  {
   "cell_type": "code",
   "execution_count": null,
   "metadata": {},
   "outputs": [],
   "source": [
    "type(scalar_mult_example_03.summand.scaled.scaled.operands.num_elements())"
   ]
  },
  {
   "cell_type": "code",
   "execution_count": null,
   "metadata": {},
   "outputs": [],
   "source": [
    "temp_result = scalar_mult_example_03.inner_expr().factors_extraction(\n",
    "     assumptions = defaults.assumptions + scalar_mult_example_03.conditions.entries)"
   ]
  },
  {
   "cell_type": "markdown",
   "metadata": {},
   "source": [
    "### Testing `TensorProd.association()` for tensor products of _sets_"
   ]
  },
  {
   "cell_type": "code",
   "execution_count": null,
   "metadata": {},
   "outputs": [],
   "source": [
    "# Some example TensorProds of CartExps\n",
    "example_vec_space_01, example_vec_space_02, example_vec_space_03, example_vec_space_04, example_vec_space_05 = (\n",
    "    TensorProd(R3, R3, R3, R3), TensorProd(R3, TensorProd(R3, R3)), TensorProd(x, R3),\n",
    "    TensorProd(TensorProd(C3, TensorProd(C3, C3)), C3, C3),\n",
    "    TensorProd(TensorProd(R3, TensorProd(C3, y)), R3, C3))"
   ]
  },
  {
   "cell_type": "code",
   "execution_count": null,
   "metadata": {},
   "outputs": [],
   "source": [
    "example_vec_space_01_assoc = example_vec_space_01.association(1, 2)"
   ]
  },
  {
   "cell_type": "code",
   "execution_count": null,
   "metadata": {},
   "outputs": [],
   "source": [
    "# For this to work, we need to establish ahead of time that one of the\n",
    "# operands is indeed a vector space\n",
    "example_vec_space_04.operands[0].deduce_as_vec_space()\n",
    "example_vec_space_04_assoc = example_vec_space_04.association(1, 2)"
   ]
  },
  {
   "cell_type": "code",
   "execution_count": null,
   "metadata": {},
   "outputs": [],
   "source": [
    "# This will not work, because we have a mixture of vectors and CartExps.\n",
    "# The error message comes about because Prove-It is trying to treat R^3\n",
    "# as a vector instead of a vector space\n",
    "try:\n",
    "    example_vec_space_05_assoc = example_vec_space_05.association(1, 2)\n",
    "except Exception as the_exception:\n",
    "    print(\"Exception: {}\".format(the_exception))"
   ]
  },
  {
   "cell_type": "markdown",
   "metadata": {},
   "source": [
    "### Testing `TensorProd.disassociation()` for tensor products of _sets_\n",
    "\n",
    "Notice that `TensorProd.disassociation()` will produce a complete disassociation if `auto_simplify()` is allowed to proceed with no modifications, so here we first change the simplification direction 'ungroup' to False (and then reset back to True after this section)."
   ]
  },
  {
   "cell_type": "code",
   "execution_count": null,
   "metadata": {},
   "outputs": [],
   "source": [
    "TensorProd.change_simplification_directives(ungroup=False)"
   ]
  },
  {
   "cell_type": "code",
   "execution_count": null,
   "metadata": {},
   "outputs": [],
   "source": [
    "example_vec_space_01_assoc.rhs.disassociation(1)"
   ]
  },
  {
   "cell_type": "code",
   "execution_count": null,
   "metadata": {},
   "outputs": [],
   "source": [
    "example_vec_space_04_assoc.rhs.disassociation(1)"
   ]
  },
  {
   "cell_type": "code",
   "execution_count": null,
   "metadata": {},
   "outputs": [],
   "source": [
    "example_vec_space_04_assoc.rhs.disassociation(0)"
   ]
  },
  {
   "cell_type": "code",
   "execution_count": null,
   "metadata": {},
   "outputs": [],
   "source": [
    "example_vec_space_04_assoc.rhs.inner_expr().operands[0].disassociation(1)"
   ]
  },
  {
   "cell_type": "code",
   "execution_count": null,
   "metadata": {},
   "outputs": [],
   "source": [
    "TensorProd(TensorProd(x, TensorProd(y, z)), TensorProd(x, y)).disassociation(1)"
   ]
  },
  {
   "cell_type": "code",
   "execution_count": null,
   "metadata": {},
   "outputs": [],
   "source": [
    "# Reset to allow default auto_simplify() results\n",
    "# (and notice what then happens in the next cell)\n",
    "TensorProd.change_simplification_directives(ungroup=True)"
   ]
  },
  {
   "cell_type": "code",
   "execution_count": null,
   "metadata": {},
   "outputs": [],
   "source": [
    "# Now the disassociation() produces a complete disassociation\n",
    "# despite our intention to only disassociate a piece\n",
    "TensorProd(TensorProd(x, TensorProd(y, z)), TensorProd(x, y)).disassociation(1)"
   ]
  },
  {
   "cell_type": "markdown",
   "metadata": {},
   "source": [
    "### Examples and Testing of `VecSum.factors_extraction()`"
   ]
  },
  {
   "cell_type": "code",
   "execution_count": null,
   "metadata": {},
   "outputs": [],
   "source": [
    "# here the collection of scalars includes an index-dependent factor\n",
    "scalar_mult_example_04.factors_extraction()"
   ]
  },
  {
   "cell_type": "code",
   "execution_count": null,
   "metadata": {},
   "outputs": [],
   "source": [
    "defaults.assumptions"
   ]
  },
  {
   "cell_type": "code",
   "execution_count": null,
   "metadata": {},
   "outputs": [],
   "source": [
    "# sometimes this works, and sometimes it doesn't\n",
    "# how can it be non-deterministic? Is there something non-deterministic about the\n",
    "# vector_spaces derivation?\n",
    "# Here, all the scalar factors can be extracted:\n",
    "display(scalar_mult_example_03)\n",
    "scalar_mult_example_03.factors_extraction(assumptions = defaults.assumptions + scalar_mult_example_03.conditions.entries)"
   ]
  },
  {
   "cell_type": "code",
   "execution_count": null,
   "metadata": {},
   "outputs": [],
   "source": [
    "# In this case, one factor can be extracted, another cannot:\n",
    "display(scalar_mult_example_04)\n",
    "scalar_mult_example_04.factors_extraction()"
   ]
  },
  {
   "cell_type": "code",
   "execution_count": null,
   "metadata": {},
   "outputs": [],
   "source": [
    "# None of the factors are index-dependent\n",
    "scalar_mult_example_02.factors_extraction()"
   ]
  },
  {
   "cell_type": "code",
   "execution_count": null,
   "metadata": {},
   "outputs": [],
   "source": [
    "# Just one vector of several is index-dependent\n",
    "# while none of the scalars are index-dependent\n",
    "display(scalar_mult_example_03)\n",
    "scalar_mult_example_03.factors_extraction()"
   ]
  },
  {
   "cell_type": "code",
   "execution_count": null,
   "metadata": {},
   "outputs": [],
   "source": [
    "# If the scalar in ScalarMult is a single item?\n",
    "display(scalar_mult_example_01)\n",
    "scalar_mult_example_01.factors_extraction()"
   ]
  },
  {
   "cell_type": "code",
   "execution_count": null,
   "metadata": {},
   "outputs": [],
   "source": [
    "# If some scalars are index-dependent\n",
    "# while none of the vectors themselves are?\n",
    "display(scalar_mult_example_04)\n",
    "scalar_mult_example_04.factors_extraction()"
   ]
  },
  {
   "cell_type": "code",
   "execution_count": null,
   "metadata": {},
   "outputs": [],
   "source": [
    "# multiple factors that can and cannot be extracted\n",
    "display(scalar_mult_example_05)\n",
    "scalar_mult_example_05.factors_extraction(field=None)"
   ]
  },
  {
   "cell_type": "markdown",
   "metadata": {},
   "source": [
    "### Tues 12/21 – Wed 12/22: Testing the Add.factorization() method"
   ]
  },
  {
   "cell_type": "code",
   "execution_count": null,
   "metadata": {},
   "outputs": [],
   "source": [
    "from proveit.numbers import Mult\n",
    "add_01 = Add(Mult(alpha, beta), Mult(beta, gamma), Mult(alpha, Mult(gamma, beta)))"
   ]
  },
  {
   "cell_type": "code",
   "execution_count": null,
   "metadata": {},
   "outputs": [],
   "source": [
    "# not surprisingly, the Add.factorization() method doesn't work\n",
    "# if the desired factor is buried too deeply in one of the expressions\n",
    "display(add_01)\n",
    "try:\n",
    "    add_01.factorization(beta)\n",
    "except ValueError as the_exception:\n",
    "    print(\"ValueError: {}\".format(the_exception))"
   ]
  },
  {
   "cell_type": "code",
   "execution_count": null,
   "metadata": {},
   "outputs": [],
   "source": [
    "add_02 = Add(Add(Mult(alpha, beta), beta), Mult(beta, gamma))"
   ]
  },
  {
   "cell_type": "code",
   "execution_count": null,
   "metadata": {},
   "outputs": [],
   "source": [
    "add_02.inner_expr().operands[0].factorization(beta)"
   ]
  },
  {
   "cell_type": "markdown",
   "metadata": {},
   "source": [
    "### Testing `VecAdd.factorization()` method"
   ]
  },
  {
   "cell_type": "code",
   "execution_count": null,
   "metadata": {},
   "outputs": [],
   "source": [
    "vec_add_example_01 = VecAdd(ScalarMult(Mult(alpha, beta), x), ScalarMult(Mult(gamma, alpha), y))"
   ]
  },
  {
   "cell_type": "code",
   "execution_count": null,
   "metadata": {},
   "outputs": [],
   "source": [
    "defaults.assumptions"
   ]
  },
  {
   "cell_type": "code",
   "execution_count": null,
   "metadata": {},
   "outputs": [],
   "source": [
    "ScalarMult(alpha, ScalarMult(beta, x)).shallow_simplification()"
   ]
  },
  {
   "cell_type": "code",
   "execution_count": null,
   "metadata": {},
   "outputs": [],
   "source": [
    "vec_add_example_01"
   ]
  },
  {
   "cell_type": "code",
   "execution_count": null,
   "metadata": {},
   "outputs": [],
   "source": [
    "vec_add_example_01.factorization(alpha, pull='left', field=Complex)"
   ]
  },
  {
   "cell_type": "markdown",
   "metadata": {},
   "source": [
    "#### To Consider for Later Development: What if the operand(s) in a TensorProd consist of an ExprRange?"
   ]
  },
  {
   "cell_type": "markdown",
   "metadata": {},
   "source": [
    "### The `TensorProd.remove_vec_on_both_sides_of_equals()` and `TensorProd.insert_vec_on_both_sides_of_equals()` methods"
   ]
  },
  {
   "cell_type": "code",
   "execution_count": null,
   "metadata": {},
   "outputs": [],
   "source": [
    "help(TensorProd.remove_vec_on_both_sides_of_equals)"
   ]
  },
  {
   "cell_type": "code",
   "execution_count": null,
   "metadata": {},
   "outputs": [],
   "source": [
    "help(TensorProd.insert_vec_on_both_sides_of_equals)"
   ]
  },
  {
   "cell_type": "code",
   "execution_count": null,
   "metadata": {},
   "outputs": [],
   "source": [
    "tp_01, tp_02 = (TensorProd(x, y, z), TensorProd(x, u, z))"
   ]
  },
  {
   "cell_type": "code",
   "execution_count": null,
   "metadata": {},
   "outputs": [],
   "source": [
    "equality_01 = Equals(tp_01, tp_02)"
   ]
  },
  {
   "cell_type": "code",
   "execution_count": null,
   "metadata": {},
   "outputs": [],
   "source": [
    "defaults.assumptions += (equality_01,)"
   ]
  },
  {
   "cell_type": "markdown",
   "metadata": {},
   "source": [
    "We can access `TensorProd.remove_vec_on_both_sides_of_equals()` and `TensorProd.insert_vec_on_both_sides_of_equals()` via `Equals.remove_vec_on_both_sides` and `Equals.insert_vec_on_both_sides` respectively which are methods generated on-the-fly by finding methods with the `_on_both_sides_of_equals` suffix associated with the Equals expression.  The docstrings are set to be the same:"
   ]
  },
  {
   "cell_type": "code",
   "execution_count": null,
   "metadata": {},
   "outputs": [],
   "source": [
    "help(equality_01.remove_vec_on_both_sides)"
   ]
  },
  {
   "cell_type": "code",
   "execution_count": null,
   "metadata": {},
   "outputs": [],
   "source": [
    "equality_02 = equality_01.remove_vec_on_both_sides(0)"
   ]
  },
  {
   "cell_type": "code",
   "execution_count": null,
   "metadata": {},
   "outputs": [],
   "source": [
    "equality_03 = equality_02.remove_vec_on_both_sides(1)"
   ]
  },
  {
   "cell_type": "markdown",
   "metadata": {},
   "source": [
    "The example above also demonstrates the auto-simplification of unary tensor products."
   ]
  },
  {
   "cell_type": "markdown",
   "metadata": {},
   "source": [
    "Now let's insert vectors into the tensor products.  Starting with the special case where we don't start out with a tensor product, we must call the `TensorProd.insert_vec_on_both_sides_of_equals` method directly: "
   ]
  },
  {
   "cell_type": "code",
   "execution_count": null,
   "metadata": {},
   "outputs": [],
   "source": [
    "equality_04 = TensorProd.insert_vec_on_both_sides_of_equals(\n",
    "    equality_03, 0, z)"
   ]
  },
  {
   "cell_type": "markdown",
   "metadata": {},
   "source": [
    "In the furture, we could have `CartExp` and other vector space expression classes implement `left_tensor_prod_both_sides_of_equals` (and `right_tensor_prod_both_sides_of_equals`) so then the above would be implemented via `equality.left_tensor_prod_both_sides(z)` insead."
   ]
  },
  {
   "cell_type": "markdown",
   "metadata": {},
   "source": [
    "Now that we have tensor products on both sides, we can call `insert_vec_on_both_sides` in the equality."
   ]
  },
  {
   "cell_type": "code",
   "execution_count": null,
   "metadata": {},
   "outputs": [],
   "source": [
    "equality_05 = equality_04.insert_vec_on_both_sides(2, x)"
   ]
  },
  {
   "cell_type": "markdown",
   "metadata": {},
   "source": [
    "### Related Testing: the `ExprTuple.range_expansion()` method\n",
    "\n",
    "Operating on an ExprTuple whose single entry is an ExprRange that represents a finite list of elements, the `ExprTuple.range_expansion()` method converts self to an ExprTuple with a finite listing of explicit arguments.\n",
    "\n",
    "For example, letting $\\text{expr_tuple_01} = (x_1,\\ldots,x_3)$ and then calling `expr_tuple_01.range_expansion()` deduces and returns\n",
    "\n",
    "$\\vdash ((x_1,\\ldots,x_3) = (x_1, x_2, x_3))$\n",
    "\n",
    "The reason for including this here in the demonstrations notebook for the linear_algebra package is that the method can be utilized to convert something like\n",
    "\n",
    "$x_1 \\otimes \\ldots \\otimes x_3$\n",
    "\n",
    "to the more explicit\n",
    "\n",
    "$x_1 \\otimes x_2 \\otimes x_3$"
   ]
  },
  {
   "cell_type": "code",
   "execution_count": null,
   "metadata": {},
   "outputs": [],
   "source": [
    "# create an example ExprRange\n",
    "example_expr_range = ExprRange(i, IndexedVar(x, i), one, three)"
   ]
  },
  {
   "cell_type": "code",
   "execution_count": null,
   "metadata": {},
   "outputs": [],
   "source": [
    "# use the example ExprRange as the arg(s) for a TensorProd:\n",
    "example_tensor_prod_over_range = TensorProd(example_expr_range)"
   ]
  },
  {
   "cell_type": "code",
   "execution_count": null,
   "metadata": {},
   "outputs": [],
   "source": [
    "# find the ExprTuple equivalent to the (ExprTuple-wrapped) ExprRange:\n",
    "expr_range_eq_expr_tuple = ExprTuple(example_expr_range).range_expansion()"
   ]
  },
  {
   "cell_type": "code",
   "execution_count": null,
   "metadata": {},
   "outputs": [],
   "source": [
    "# find the equivalent explicit tensor prod\n",
    "example_tensor_prod_over_range.inner_expr().operands.substitution(\n",
    "         expr_range_eq_expr_tuple)"
   ]
  },
  {
   "cell_type": "code",
   "execution_count": null,
   "metadata": {},
   "outputs": [],
   "source": [
    "# find the equivalent explicit tensor prod,\n",
    "# and omit the wrapping inherited from the underlying theorem\n",
    "example_tensor_prod_over_range.inner_expr().operands.substitution(\n",
    "         expr_range_eq_expr_tuple).with_wrapping_at()"
   ]
  },
  {
   "cell_type": "code",
   "execution_count": null,
   "metadata": {},
   "outputs": [],
   "source": [
    "%end demonstrations"
   ]
  },
  {
   "cell_type": "code",
   "execution_count": null,
   "metadata": {},
   "outputs": [],
   "source": []
  }
 ],
 "metadata": {
  "kernelspec": {
   "display_name": "Python 3",
   "language": "python",
   "name": "python3"
  }
 },
 "nbformat": 4,
 "nbformat_minor": 0
}
