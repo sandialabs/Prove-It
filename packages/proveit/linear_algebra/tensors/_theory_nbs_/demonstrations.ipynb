{
 "cells": [
  {
   "cell_type": "markdown",
   "metadata": {},
   "source": [
    "Demonstrations for the theory of <a class=\"ProveItLink\" href=\"theory.ipynb\">proveit.linear_algebra.tensors</a>\n",
    "========"
   ]
  },
  {
   "cell_type": "code",
   "execution_count": 1,
   "metadata": {},
   "outputs": [],
   "source": [
    "import proveit\n",
    "from proveit import defaults\n",
    "from proveit import Function, ExprRange, ExprTuple, IndexedVar\n",
    "from proveit import a, f, i, u, v, w, x, y, z, alpha, fi\n",
    "from proveit.logic import Forall, Equals, NotEquals, InSet, CartExp\n",
    "from proveit.numbers import Natural, Real, Complex\n",
    "from proveit.numbers import one, two, three, four, five, Interval\n",
    "from proveit.linear_algebra import (\n",
    "    VecSpaces, VecAdd, VecSum, VecZero, ScalarMult, TensorProd, TensorExp)\n",
    "%begin demonstrations"
   ]
  },
  {
   "cell_type": "markdown",
   "metadata": {},
   "source": [
    "### Vector space default assumptions\n",
    "\n",
    "In order to apply the tensor product theorems, we need the operands to be known as vectors in vector spaces over a common field.  For convenience, we may specify a default field, or we may specify a field when calling the TensorProd methods.\n",
    "\n",
    "Let's set some defaults for convienience in our testing below."
   ]
  },
  {
   "cell_type": "code",
   "execution_count": 2,
   "metadata": {},
   "outputs": [
    {
     "data": {
      "text/html": [
       "<strong id=\"R3\">R3:</strong> <a class=\"ProveItLink\" href=\"../__pv_it/demonstrations/1408fed4a3dce835fbbb24f9ce4d5235c8d6e1710/expr.ipynb\"><img src=\"data:image/png;base64,iVBORw0KGgoAAAANSUhEUgAAABcAAAATBAMAAACJlYuFAAAAMFBMVEX///+IiIiqqqpmZmbMzMx2\n",
       "dnbu7u66urpUVFTc3NwyMjJEREQQEBAiIiKYmJgAAABVO1C1AAAAAXRSTlMAQObYZgAAAAlwSFlz\n",
       "AAAOxAAADsQBlSsOGwAAAJdJREFUCNdjYICCiQ9bGOCglUEGwXFhiGJAAvcYGN6e3r/29AMgW0oA\n",
       "SCyYwVDxOoGBgW0jkLNhKgM3SwOQ4e8A5jBPWMB2hGH+AyhnA8M1hjcJYA5HWgODq2AnRI+31gSo\n",
       "8RvmrP0rBrNrw9R3WQwIDneeAILDYrASwWEwmY3EyeZ7AOUsyGDge9AOYQNdvZJh93oFEBsAT5kz\n",
       "W5kaiUgAAAAASUVORK5CYII=\n",
       "\" style=\"display:inline;vertical-align:middle;\" /></a><br>"
      ],
      "text/plain": [
       "R3: Real^{3}"
      ]
     },
     "execution_count": 2,
     "metadata": {},
     "output_type": "execute_result"
    }
   ],
   "source": [
    "R3 = CartExp(Real, three)"
   ]
  },
  {
   "cell_type": "code",
   "execution_count": 3,
   "metadata": {},
   "outputs": [
    {
     "data": {
      "text/html": [
       "<strong id=\"C3\">C3:</strong> <a class=\"ProveItLink\" href=\"../__pv_it/demonstrations/b0708470c30d8d14afb20b26feaa71fea189185a0/expr.ipynb\"><img src=\"data:image/png;base64,iVBORw0KGgoAAAANSUhEUgAAABcAAAATBAMAAACJlYuFAAAAMFBMVEX///+qqqq6urpUVFRmZmbu\n",
       "7u6YmJgQEBDMzMyIiIgyMjIiIiJERER2dnbc3NwAAADwZfnPAAAAAXRSTlMAQObYZgAAAAlwSFlz\n",
       "AAAOxAAADsQBlSsOGwAAAJNJREFUCNdjYICCl5kWDHBgyzAdwelguMWABLaBiLenV83rZWCYNQHI\n",
       "5j2ewOpvwsDAehLI8dRlYGA7AmT0NzBwOBwFMkxYKxjeJzDwBBwA2cKwlSE9gIGHzwFsVu9MOwaG\n",
       "xxwXEKb3MiUgOE+YJiA4PHxIyiCmQQET2B4mKA/kAoY5UA7vqqusUg4whW+P//aDsAC+4CNsMHal\n",
       "xgAAAABJRU5ErkJggg==\n",
       "\" style=\"display:inline;vertical-align:middle;\" /></a><br>"
      ],
      "text/plain": [
       "C3: Complex^{3}"
      ]
     },
     "execution_count": 3,
     "metadata": {},
     "output_type": "execute_result"
    }
   ],
   "source": [
    "C3 = CartExp(Complex, three)"
   ]
  },
  {
   "cell_type": "code",
   "execution_count": 4,
   "metadata": {},
   "outputs": [
    {
     "data": {
      "text/html": [
       "<strong id=\"defaults.assumptions\">defaults.assumptions:</strong> <a class=\"ProveItLink\" href=\"../__pv_it/demonstrations/0d0a0ae08f08520d004623b0d82ba791f280a22b0/expr.ipynb\"><img src=\"data:image/png;base64,iVBORw0KGgoAAAANSUhEUgAAA5cAAAAmCAMAAABnNZ+aAAAAPFBMVEX///8NDQ0WFhYLCwsYGBiI\n",
       "iIi6urrc3NxEREQiIiKqqqp2dnbu7u4QEBDMzMwyMjJUVFSYmJhmZmYAAAAb9PRuAAAAAXRSTlMA\n",
       "QObYZgAAAAlwSFlzAAAOxAAADsQBlSsOGwAACTxJREFUeNrtXem2pKoO5gzMOIDv/64XwSEoYoHU\n",
       "Km8f8mP33quaLwOEhBAthDwZjRo1avRbUoMK/jZjs0mjRj+nPnBMPTSLNGr0AtIMOGmnmkEaNXoD\n",
       "Mbz9OshmjkaNXkF0ostvYmrh8o/egf8ADv8hMqs1eXm4pFjjsX+8RVRBqYj0IrUqgIzk23b/Poc/\n",
       "MzRGrbMGzP5BuBytS+Pu8bRWQamI9CK1HoAo7mli3xLw+xzeRYJUhdutE0RG5v8aH2QhvfV2+biY\n",
       "WwelItKL1HoOgpc7MHqNTZ/J+H0OL3FLE416kd9y57aHPqj9RjZltBRo3jE2DfbnPohntyTUQamI\n",
       "9CK1noKMp+RnSZSwuMYmGL2JQ8oWuamiZHwYMO0rlDZVdHu0Wq90p2RibjWGiaxwaWyWmw+I2t2R\n",
       "jJr56cFDicXroFREepFaj0CCjVdKbLbinkxhg8WVxQGyqMYhYYtckqyz616ZaTSxKpXI8ne4Oxgp\n",
       "FdDa6mc+UfJ6bjlQkM9YesrSlNktyP3TL8mLYgVrrw5KRaQXqfUIhIEywiDmEyCFe/0l9qBKOEAW\n",
       "9TikbJFHBhPvNpoBvzTbKXHICUkUnJPl2HciiKG+eHqn5PXcYqCgmUHHocRSdpNcx/VTX2rvhygV\n",
       "kV6k1hMQuHw19xHDT7VOY2tTwCFgUY1D2hZZ5zeD1jgL4+WmAs2qrBiQCneCeORDX/mdktdzq0D1\n",
       "Fc+hskvvRJjNBbchgmyVUl0/p8O32cARpAylnjyVBPoOSrlt7FgQAJib2OVyurvD/rTlC3IIWNTg\n",
       "kDZo/tpQ2zAKU441qsms3Hrai7Fkc6JjrfmgZMbcDvsci9lXp9SJmAxYRT1+VGpcsmJ9Z/AzSAlK\n",
       "PXkqCfQtlFLbzGBwj52MX0LCcbnDHnQ+B8iiAodbgxZYMhq/9OoKWcEXBDTJN57HA6QunVvDACsB\n",
       "yrEKG3yot9FzvuyReyZcbt5LjMcwSV9guEiAfISifSaCxH4kLpHHQuFR9VI+FmhWa18fRSio57xH\n",
       "VKO6GsXOS2p1Gg1ysGtsOaYFjZ3IIIt8DtZpJAZx7N6gx4JTkN2fh9MRXZRhO3fr2mXVaDHf3Hrs\n",
       "+JIXL1qvrhMqmTe34JpXWYP6oqzjgUR3qANFzsUWuRv4xPHVFi49zJ4exw7XtyiLMPPdKpnIE3ks\n",
       "lD1UY2T4I4Hk0TpFKGjAkmHzzMJnjYy/3v/3n/nnepnoE6F+wmAbv8Y+PlJ0EDTGIWCRz4F0Vne2\n",
       "R6Ecg1JO5jyQIiquh1unJPEY7T06r8YL6zATDsOjZdSdlcybWwLiscXvV7+0e+OpDjTET65aq8sU\n",
       "wBrKwQiZALlHWYTpcKBfgTxI0/kgTdGoHwm0qLU3YZSgIKpQ2NxRR6PYQticRoLs5Rpb8LSgsaUG\n",
       "WWRzUJ0L5ByVGNSHOmbQvsDPw20Se3GjOF9W+B+zIJ8VZRkDeq+R2mu9Lo6DknlzC4t71qBbNFKL\n",
       "F3S7Kn239FlxFkZipvRV6X6FISIB8imKl9U8kcddejNoiCcC7dYpQnFIRiFUV6N1xw0OU8o7DXF7\n",
       "e0fusPspKWiMQ8Aim4Nx8WHvzc4xqB87O4O8tWTcyex4uUgscZi/m/kDfCqHDiOoy2z7A1kWxxpB\n",
       "gZKZc0tBXcmeD7Z4uURSCtxWsYtKrz32XV/9+ICMUyCfohyaB8vkgXnHU4H2Ta0Q5bBS6mgUz5v8\n",
       "4U+4+Q28JopNuqSg8cwMsMjm0DHn2aRkWjr/f2UnVdKS6qqMK/ApnPV4ZMxKI0Y0o542JW7OZZ9N\n",
       "6+2RLKBk5tyqS790OUXQZsCvbmBMf33341MTmQL5BGVYc4eePJNndilrBqUqCAQO52UoLrFSqLJG\n",
       "7vT3919+dx6DxEu7FTOIO+xDlnkUNMoBssjl4GMtXG2fG3SJ00hOIjmc7PeX6NBxPqBDzDJrFUnY\n",
       "D0wkhwfxku21E3H4ECqZN7cgICq764K7McfOmlpv04HxBbLdC7Q+ZXoARuxRNwJyiaJC3V2WAyxU\n",
       "II+ye+A4BTAPBNpnpAzF1yHG2hr5tXHY4X37sz/4rF0ll9jL+yuuBY1xgCxyOSjnUzYdF/Rzg66D\n",
       "lzUrYQSODd/6fRBm4X4oxaIM8Y02eJNW9IJQnPTL/ai3aD0rI4GS+XMb9MPOPqn2jGh++RbpDBRp\n",
       "OJfi/VWBxQ0fulPTmhfMHfJBEnQGuULZQRwKmZN8QtATecTUK9OB826pQM468IK/AKVnkmHJ++oa\n",
       "odjDDnNRwt1d7+X7K+x5Cd8IGn2cYmeRywHNnaGaw9V2a9BtsH9NnJYT6pPzYVfRYJNSJQYTTiai\n",
       "6/lRukYbkHPaiCKVICe/3Ct+ILItWpNpvVIyuGhuw3qsy2G7zdpqlFjQEQNd1chI8IIu3xE/F7jZ\n",
       "MAVs+XbNaGS4GxxBEig7iE0sJFYjlkmoe3mUsduWMFo8FWi2joE9/gUodrJFN5D6GsWCGVLz9Zif\n",
       "TMJvsJFvck0IGm3+3FnkckDz3PbBars36DZYSqzdpSlOzIc/JbNu4ktrPVhda5svVS7zBPcpc6Zn\n",
       "fHwNaD/C7GWfRes5bmqoZP7cbk93eRe1lh/SHU5EsrA16pKE+i5ITahClMODkD+V5fhZ+pKc33TY\n",
       "Un7L4vsc7k2RXh5Fw10qqgfmSHi/VPJ8ybHHM/hS14PWlJfOLUR1B3ZT63Fy+RqQmlASlH1UJ14h\n",
       "S4xunmS4a6he+6/lLzl83Y6R4TaN7RHsC3KVESLOZ0NfexVjkJ4etH7wenTQwbcUYOu8dUvht4DU\n",
       "hNpQOPbvfXiDLDGvuBONJW/P1/pggsX3OXzdjrHhwt+B7r0/2rkfPvfj+p47zsKugEBrWv7qD/g8\n",
       "iSt4q0lU8QP9GpCaUHuZDmNDXiJLLIu821xVcsmsy1L/ksPX7Rgbbo+51HlUv54YB9+kd/qfvUss\n",
       "9f6o+VlrVh7i9Ahc1AnKDGr0/073D2jSxKLW9A0cfkpKzufL5M47ihutnygJCkbCVxd115Z1o0b3\n",
       "rvvFbwuBXQ5Lry1sAGrUqNEVia9llsHBdK0uyvatQY0afeKY34pgEhxM94vSrr0Ru1Gjl9B+Gde+\n",
       "Zq9Ro5cQhs8/42aPRo1eQLSDrZ6cNos0avRzUjy4jKFD+6q9Ro1+TsdvfKCt9NOo0c/D5Vrw/R+c\n",
       "fqrm74NUJAAAAABJRU5ErkJggg==\n",
       "\" style=\"display:inline;vertical-align:middle;\" /></a><br>"
      ],
      "text/plain": [
       "defaults.assumptions: (u in Real^{3}, v in Real^{3}, w in Real^{3}, x in Real^{3}, y in Real^{3}, z in Real^{3}, x != 0(Real^{3}), z != 0(Real^{3}), a in Real, alpha in Complex, forall_{i in Natural} (f(i) in Real^{3}))"
      ]
     },
     "execution_count": 4,
     "metadata": {},
     "output_type": "execute_result"
    }
   ],
   "source": [
    "defaults.assumptions = [\n",
    "    InSet(u, R3), InSet(v, R3), InSet(w, R3), \n",
    "    InSet(x, R3), InSet(y, R3), InSet(z, R3),\n",
    "    NotEquals(x, VecZero(R3)), NotEquals(z, VecZero(R3)),\n",
    "    InSet(a, Real), InSet(alpha, Complex), \n",
    "    Forall(i, InSet(fi, R3), domain=Natural)]"
   ]
  },
  {
   "cell_type": "code",
   "execution_count": 5,
   "metadata": {},
   "outputs": [
    {
     "data": {
      "text/html": [
       "<strong id=\"summand_assumption\">summand_assumption:</strong> <a class=\"ProveItLink\" href=\"../__pv_it/demonstrations/3eae5e83afb7c78544491350ec3893081ee061460/expr.ipynb\"><img src=\"data:image/png;base64,iVBORw0KGgoAAAANSUhEUgAAAJkAAAAaBAMAAABWVuP/AAAAMFBMVEX///+IiIgiIiIQEBB2dnbu\n",
       "7u5UVFTMzMzc3NwyMjK6urpmZmaYmJiqqqpEREQAAACk/Np2AAAAAXRSTlMAQObYZgAAAAlwSFlz\n",
       "AAAOxAAADsQBlSsOGwAAAuVJREFUOMutVU1oE0EUfom7ze4mWaOBXKxS04OWgoaiBw/CKuhBtKwo\n",
       "ggfNehApaogXETwkIgqCtOlB8RAloJ6bglgVkRRRUIvEHiwEwSjkYLFBD6UICr43M5ns0iXJoQN5\n",
       "+2bey/d+5w3AGiytP5HtQa3WG1qfFUiB0k0rWu4NLZRVChCqd9E66QpGEt8VrADMdkH72WY3EzFi\n",
       "XnlksPlnkJQCk4RoAzD/vvgnN8U+Tw5gzBb+pcwxXUvXHONCA5nTaCfgALyg03u+aGGLqHJuL485\n",
       "aIFuezVMzYL6ZcrcCoC6DEC85p/A9SWi62po/KUIrbwa7ZkOx7LaX9wVgZlTqr5oOebJFNGUONrN\n",
       "P4HvySGJZmLGIiR4heawGrp/ETYyup/SXxBHRUaNSbvt29kTENqXyOMujr+RZHKXP9oYkbcj53kG\n",
       "j07j7iAT3LLbkYaWZNIpihkATIyaX43WZPQ31Q4DsB4i8w48RTO1PTu3ysrk8HrdBA1Lq/BWCg0f\n",
       "grgjpHdZm6xQOaugVZ8jM88EhTba4TdyAxNYNdNWSnx3KbMInxU73DI2zG7XL6prCVTmZI6ZxOQk\n",
       "d4hIG+0rkEacaEwUITxDfRwry+vLfFMGOBpEsZ2AogW17uqQq7rM0QQNkgKiGwmAfjpZqF3zopkU\n",
       "t44tpDsy0gEXWviKxM4R7pE76EHa5hYXlFOPWtIMa15KqIkkXcXCfmSCDS40tT7nrilcR6M35sGo\n",
       "MDQob2lJ49J9BVWmNFSY5tez1e266sBcn0g7vGYGSP8bRB40m0uIdlz32PrK2hVjMykT25lAzTyW\n",
       "MyRv/vgn9J+2/qguZ0MW98341Dqk3AuVbWKqiIwZo/xmeVdRTtmCRT0M8B4g4ZohUec+Yz+Ik0qH\n",
       "aUgzRHBn8jCOERtDWTDlgE5BsMGb0+RtMN5ptkYcD/Zoc9ErvwiRTRxGtFijE1ow3/O7cJtZ76g/\n",
       "u0ZvFq9Qtzer1/eULQX76T9ROajxzOdZdQAAAABJRU5ErkJggg==\n",
       "\" style=\"display:inline;vertical-align:middle;\" /></a><br>"
      ],
      "text/plain": [
       "summand_assumption: forall_{i in Natural} (f(i) in Real^{3})"
      ]
     },
     "execution_count": 5,
     "metadata": {},
     "output_type": "execute_result"
    }
   ],
   "source": [
    "summand_assumption = defaults.assumptions[-1]"
   ]
  },
  {
   "cell_type": "code",
   "execution_count": 6,
   "metadata": {},
   "outputs": [
    {
     "data": {
      "text/html": [
       "<span style=\"font-size:20px;\"><a class=\"ProveItLink\" href=\"../__pv_it/demonstrations/3eae5e83afb7c78544491350ec3893081ee061460/expr.ipynb\"><img src=\"data:image/png;base64,iVBORw0KGgoAAAANSUhEUgAAAJkAAAAaBAMAAABWVuP/AAAAMFBMVEX///+IiIgiIiIQEBB2dnbu\n",
       "7u5UVFTMzMzc3NwyMjK6urpmZmaYmJiqqqpEREQAAACk/Np2AAAAAXRSTlMAQObYZgAAAAlwSFlz\n",
       "AAAOxAAADsQBlSsOGwAAAuVJREFUOMutVU1oE0EUfom7ze4mWaOBXKxS04OWgoaiBw/CKuhBtKwo\n",
       "ggfNehApaogXETwkIgqCtOlB8RAloJ6bglgVkRRRUIvEHiwEwSjkYLFBD6UICr43M5ns0iXJoQN5\n",
       "+2bey/d+5w3AGiytP5HtQa3WG1qfFUiB0k0rWu4NLZRVChCqd9E66QpGEt8VrADMdkH72WY3EzFi\n",
       "XnlksPlnkJQCk4RoAzD/vvgnN8U+Tw5gzBb+pcwxXUvXHONCA5nTaCfgALyg03u+aGGLqHJuL485\n",
       "aIFuezVMzYL6ZcrcCoC6DEC85p/A9SWi62po/KUIrbwa7ZkOx7LaX9wVgZlTqr5oOebJFNGUONrN\n",
       "P4HvySGJZmLGIiR4heawGrp/ETYyup/SXxBHRUaNSbvt29kTENqXyOMujr+RZHKXP9oYkbcj53kG\n",
       "j07j7iAT3LLbkYaWZNIpihkATIyaX43WZPQ31Q4DsB4i8w48RTO1PTu3ysrk8HrdBA1Lq/BWCg0f\n",
       "grgjpHdZm6xQOaugVZ8jM88EhTba4TdyAxNYNdNWSnx3KbMInxU73DI2zG7XL6prCVTmZI6ZxOQk\n",
       "d4hIG+0rkEacaEwUITxDfRwry+vLfFMGOBpEsZ2AogW17uqQq7rM0QQNkgKiGwmAfjpZqF3zopkU\n",
       "t44tpDsy0gEXWviKxM4R7pE76EHa5hYXlFOPWtIMa15KqIkkXcXCfmSCDS40tT7nrilcR6M35sGo\n",
       "MDQob2lJ49J9BVWmNFSY5tez1e266sBcn0g7vGYGSP8bRB40m0uIdlz32PrK2hVjMykT25lAzTyW\n",
       "MyRv/vgn9J+2/qguZ0MW98341Dqk3AuVbWKqiIwZo/xmeVdRTtmCRT0M8B4g4ZohUec+Yz+Ik0qH\n",
       "aUgzRHBn8jCOERtDWTDlgE5BsMGb0+RtMN5ptkYcD/Zoc9ErvwiRTRxGtFijE1ow3/O7cJtZ76g/\n",
       "u0ZvFq9Qtzer1/eULQX76T9ROajxzOdZdQAAAABJRU5ErkJggg==\n",
       "\" style=\"display:inline;vertical-align:middle;\" /></a>, <a class=\"ProveItLink\" href=\"../__pv_it/demonstrations/c25f6da8ec77ce73521a71e435c274d3f20b535f0/expr.ipynb\"><img src=\"data:image/png;base64,iVBORw0KGgoAAAANSUhEUgAAAC8AAAAQBAMAAAB0JTvnAAAAMFBMVEX////MzMxERESYmJhUVFQy\n",
       "MjKqqqrc3NwQEBC6urru7u52dnYiIiJmZmaIiIgAAAB85A1lAAAAAXRSTlMAQObYZgAAAAlwSFlz\n",
       "AAAOxAAADsQBlSsOGwAAAMxJREFUGNNjYEADaz6pLmDY8WMCkPkWVUaN04GB6xeIdRpVwqdgMwND\n",
       "AwMmcFNgLWA4gCTw6MyZABDtbscegCwx9RWU4c4i8BokwfX2AYjLHgVT4c6gwDQBKMHNCbYIaC5c\n",
       "QpbrFFCijBdsMisDQoI5IQmoeAE/2CiJM0CgAJFg8GIBmZK/AMRdhKSDYQkXyFUhYC4PsgTjA6Be\n",
       "rm/cIC7fA5iEIhA/BEpwfigG88NgEseAGOwgPQMwf4km2C4GmR8gYwKQgmS2zhlkLgDQaDLwT8v6\n",
       "WAAAAABJRU5ErkJggg==\n",
       "\" style=\"display:inline;vertical-align:middle;\" /></a> <a class=\"ProveItLink\" href=\"../__pv_it/demonstrations/3a55270c1cda0bb75b5a0c2156a8e8c9ac709bb30/proof.ipynb\" style=\"text-decoration: none\">&nbsp;&#x22A2;&nbsp;&nbsp;</a><a class=\"ProveItLink\" href=\"../__pv_it/demonstrations/997419eb6c432e0e12cfcbfa68907528f068469e0/expr.ipynb\"><img src=\"data:image/png;base64,iVBORw0KGgoAAAANSUhEUgAAAFMAAAAYBAMAAAB0A9ycAAAAMFBMVEX///8yMjLc3NyIiIiYmJgi\n",
       "IiJERES6urqqqqoQEBDMzMxUVFTu7u52dnZmZmYAAAD1zdHuAAAAAXRSTlMAQObYZgAAAAlwSFlz\n",
       "AAAOxAAADsQBlSsOGwAAAalJREFUOMtjYCAKKDvvYiAS7GWwJFbpKoaLCA4TnMAOQhBMCxDBboCm\n",
       "wHVavug0ByDDECLDd/cAA8cFBgbmBxANyEBAm6Ha7QADA08ymHt7ZQPDQSDNeoGB8QCa0gRdBjau\n",
       "DUDG+gUg7oyyAwxPIDIsDzCV8ikI8Mxi0Ac5g/0PkJgAlZoDoZhTQwMRShMYYhg8QfbxBgCVC0CV\n",
       "ioBJduEDCFO5z2xgWGu8CWTnzugHDHxAXx1+DHI3WIHiASQHLGtUgPH4geHACHTJhUogxxEsJIRw\n",
       "q6boVxs4Tx/oN9YGBqaGh0BOKySIkLzlchDhyX4g5ixg4GH4DAoTkAjX1NDQ0DCoUrYjiHi5ClHK\n",
       "wAEKCZAjGHgSkEzleoBwTjYQMzYA8Qa4AwKQw/WVGpw3GYjZgJacbwAGgxtYyBhZ6TEWB1iS+gUK\n",
       "W6CJ9UxAocdgMZAl0DRwmoHFYTuUw/EBFOZAK9lMgIwgsBjPthp4yhJiSJOH6uQDOZEhCmoF1JXs\n",
       "16ARiwy6IZb5QfU54MkKYZAQZoNEnhq+XOP8iAEpKHOIyWgq4OSqgEcFAKTAXCKmRRJIAAAAAElF\n",
       "TkSuQmCC\n",
       "\" style=\"display:inline;vertical-align:middle;\" /></a></span>"
      ],
      "text/plain": [
       "{forall_{i in Natural} (f(i) in Real^{3}), i in Natural} |- f(i) in Real^{3}"
      ]
     },
     "execution_count": 6,
     "metadata": {},
     "output_type": "execute_result"
    }
   ],
   "source": [
    "summand_assumption.instantiate(assumptions=[summand_assumption,\n",
    "                                            InSet(i, Natural)])"
   ]
  },
  {
   "cell_type": "markdown",
   "metadata": {},
   "source": [
    "### Some Example `TensorProd` For Testing"
   ]
  },
  {
   "cell_type": "code",
   "execution_count": 7,
   "metadata": {},
   "outputs": [
    {
     "data": {
      "text/html": [
       "<strong id=\"tensor_prod_00\">tensor_prod_00:</strong> <a class=\"ProveItLink\" href=\"../__pv_it/demonstrations/5cbd94ff9c1ee5c5f33ed9af668fd1c439b342090/expr.ipynb\"><img src=\"data:image/png;base64,iVBORw0KGgoAAAANSUhEUgAAAFMAAAAVBAMAAADInc9CAAAAMFBMVEX////MzMxUVFREREQiIiK6\n",
       "uroQEBCYmJhmZmYyMjLu7u52dnaqqqqIiIjc3NwAAACFAiZ1AAAAAXRSTlMAQObYZgAAAAlwSFlz\n",
       "AAAOxAAADsQBlSsOGwAAAaZJREFUKM91U01IAkEYff5vo2ueDUroLEHQRag8BkUIRRAECtElKoS6\n",
       "dIgksqgIvXUp2BTCi6DdQgwP3aKSIIhUWOgiVFCHDlFE3+zqJjgO7Mz3vX37zbw33wJQ0T7cEA25\n",
       "JABtZRH1WligKsBYUkjtUtoxKSqkOmLaki0UngzMDvFY1I68T+xQE5rtQD3i0xS5w4aa0AGf6sU3\n",
       "g5O9Py2QKec89l0CGafCHstI6V/bVjBqyIjJfikIrHMfVafKYizndEWwCUwQdBbFtqFHlX/NJPWK\n",
       "YjOQr1PtVymJfmCBoISCce7bF00mWDT7+uhxkkE+IKfYy1jWqfNgn/z1mFa3W7upGW4k8JKnIyGs\n",
       "mD6AY6r2Dcf7v/awyhT9ABLcOTlE1D3IEWCYqD+06W2DmA4N8I2xyuWWeoAHWwmDsPh0U06wFss1\n",
       "qHfeHczResiTOKEyNckWwqR0mpBUpdfvaVAzNdcu77VJnlj4FQSIUExQZPUIL8sd1JYNr6miBRf/\n",
       "fdGhi9hNlSRKSbbEsxEh9bk1sZbNmpS0kBpoTVy1uH4qUcM6BD/cHyjUZYSxHY/OAAAAAElFTkSu\n",
       "QmCC\n",
       "\" style=\"display:inline;vertical-align:middle;\" /></a><br>"
      ],
      "text/plain": [
       "tensor_prod_00: (a * x) otimes y"
      ]
     },
     "execution_count": 7,
     "metadata": {},
     "output_type": "execute_result"
    }
   ],
   "source": [
    "tensor_prod_00 = TensorProd(ScalarMult(a, x), y)"
   ]
  },
  {
   "cell_type": "code",
   "execution_count": 8,
   "metadata": {},
   "outputs": [
    {
     "data": {
      "text/html": [
       "<strong id=\"tensor_prod_000\">tensor_prod_000:</strong> <a class=\"ProveItLink\" href=\"../__pv_it/demonstrations/b6fddcd0ddcbbbf5fa393ae67e5a5981ab28160b0/expr.ipynb\"><img src=\"data:image/png;base64,iVBORw0KGgoAAAANSUhEUgAAAFMAAAAVBAMAAADInc9CAAAAMFBMVEX///8QEBC6uroyMjJERETc\n",
       "3NyYmJgiIiJmZmaqqqp2dnbMzMxUVFSIiIju7u4AAAAoIwv1AAAAAXRSTlMAQObYZgAAAAlwSFlz\n",
       "AAAOxAAADsQBlSsOGwAAAaZJREFUKM+NkjtIA0EQhv+Ll8s9cmewECyEiIJYSFIJNhIUO5XrfGCR\n",
       "RrARU8YuRkgRRK8WxIDYJArWFiGFbfAQBF+RK1IETIggVkJw9kIuhmyRhd39d/fb2dmZAfqbOeAe\n",
       "oFuczVkuejbwfSPKNbDQlY18/sMVcpyL7nrKd0J0mCmBS0JwOmqKvmgsMjXJR4foscb7Z95C6Qqo\n",
       "qexmlro/+2R7vj/bqANqCUjpZTmhm6pppIwcHc1RnzDFVgdVlRD2ASkKydR/gvEgUNgA6CYOyNAo\n",
       "5EQH3ZSjuAeUBDSIFB2Vfk4cszpCsoUAk8Y3DY5gYxzQvkgPk1sysFUgZ9qoEEPTjUaSDRFH+6UQ\n",
       "hZg0DUeGP6eHXXQeaOaYd512BD3kOlANP9DzPusOePSx7K0SamFJ8QpkBSL5JsVwUTzEDJAm33Q3\n",
       "+9cUQ1tKqp7VY0QoprKNWkXJkDGRpWCNnUyTKBe23zy0fnNKh4FuGe4VtVdXBG77MnVJff1fQZ2/\n",
       "tLMspXo5OWqM0ZThZXu5dxmwg/QPf4yHVnuXSiVNo+jwUD+vYHeAP6qVX4I/AO4OAAAAAElFTkSu\n",
       "QmCC\n",
       "\" style=\"display:inline;vertical-align:middle;\" /></a><br>"
      ],
      "text/plain": [
       "tensor_prod_000: x otimes (a * y)"
      ]
     },
     "execution_count": 8,
     "metadata": {},
     "output_type": "execute_result"
    }
   ],
   "source": [
    "tensor_prod_000 = TensorProd(x, ScalarMult(a, y))"
   ]
  },
  {
   "cell_type": "code",
   "execution_count": 9,
   "metadata": {},
   "outputs": [
    {
     "data": {
      "text/html": [
       "<strong id=\"tensor_prod_01\">tensor_prod_01:</strong> <a class=\"ProveItLink\" href=\"../__pv_it/demonstrations/988bf4dadddd8aab188d2d8ae131fc04d2728e200/expr.ipynb\"><img src=\"data:image/png;base64,iVBORw0KGgoAAAANSUhEUgAAAG0AAAAVBAMAAAC+p33JAAAAMFBMVEX////MzMxUVFREREQiIiK6\n",
       "uroQEBCYmJhmZmYyMjLu7u52dnaqqqqIiIjc3NwAAACFAiZ1AAAAAXRSTlMAQObYZgAAAAlwSFlz\n",
       "AAAOxAAADsQBlSsOGwAAAhdJREFUOMuFUz1oVEEQ/u7/Zd+PAa0i6oF1UAQLAwbTpRA5UILiyaUR\n",
       "URQOrCzERyAJGsTrbAxscs2BhuyZSh8JV1gZxBfhIHi58NBGiI2lKcSZjS8XzB5v4e3szJtvZ+ab\n",
       "WQARDi8PicttGYy5MBG3brRuJcFEzWgekAk4q2o0F3wtloLgay9EJ1jdvy7f5757usxnBC3FpusS\n",
       "oh0rN/rgXvJ2lbgW52OuRmmrx7fMMetz2z3+lr4sBETxWz4X14CGLcVmiEWk7QjCfw8cG/Oq+t6J\n",
       "KLO7j/PdYesS8IhbFNmR8IWynUk8wTbW0MBrYH5lE7hMmdwBe/4jJHL/pImrD3ROA80fFPWnVcNp\n",
       "FGGf9MnmSSjgNlG6i6xivn7TlkJGd+YUfTb9KwJK5kM8YOcpbUNDalz+LJZ1ueM64hFd6wT3CNhp\n",
       "UuaoyNQvEl4wyDaPg7wClhVl31uVSMi9PC1ycUsEeAp3ksQO2oy7BQFcJFwLF5x4uuulMzqXh8x8\n",
       "6zjQzrVwDpkiyikFt1RGrsqFE98DYWHcjqN9HppBmeRzVqYpI3ed66pUYd3kuVU4utIZA64RH8PN\n",
       "bxsxrtF1ZvmFXGElw30fARZXX9BJ953IdO4SG9lB47h4e415PJTq6MM7btGGPKH+G+A+4y4+bRFH\n",
       "Vk3cZ+1N92PPY9SI+35QyYZpdcijbsSNHFSc7rShEtMDLEQJz/Yv726KSSjUZaEAAAAASUVORK5C\n",
       "YII=\n",
       "\" style=\"display:inline;vertical-align:middle;\" /></a><br>"
      ],
      "text/plain": [
       "tensor_prod_01: (a * x) otimes y otimes z"
      ]
     },
     "execution_count": 9,
     "metadata": {},
     "output_type": "execute_result"
    }
   ],
   "source": [
    "tensor_prod_01 = TensorProd(ScalarMult(a, x), y, z)"
   ]
  },
  {
   "cell_type": "code",
   "execution_count": 10,
   "metadata": {},
   "outputs": [
    {
     "data": {
      "text/html": [
       "<strong id=\"tensor_prod_02\">tensor_prod_02:</strong> <a class=\"ProveItLink\" href=\"../__pv_it/demonstrations/66c6df4f1a0148540cfdd6b738055959733a9ca20/expr.ipynb\"><img src=\"data:image/png;base64,iVBORw0KGgoAAAANSUhEUgAAAHIAAAAVBAMAAABoAqesAAAAMFBMVEX///8QEBC6uroyMjJERETc\n",
       "3NyYmJgiIiJmZmaqqqp2dnbMzMxUVFSIiIju7u4AAAAoIwv1AAAAAXRSTlMAQObYZgAAAAlwSFlz\n",
       "AAAOxAAADsQBlSsOGwAAAe5JREFUOMuNUztII1EUPYnJzJuZzBgsBAshorhYSIKFYCPBxUaMTKWu\n",
       "iKRZsFnWTu2iQgoRja0gBpZlIVFIbSEWtuIgCH6XKSwEFbexEmTvHc0kY0aYC8Ocd9859/Pue0Cj\n",
       "mQF9DaYXfJy9QZRbgcN9MCPl6x78VPBYKv11gMj67s96WTULr5M7wSjkHzlke1g166LDM4YYdfor\n",
       "m7IellPA9X2pgMPfwJ3KcVfpi66eWW7f5xYeAPWQcJWlzVfGgZx+LOZ0UzWNnFGk3X76OszIa1Wp\n",
       "KnH8BCQ6OJfVdJnJQTL151g2BpQnKSYxFylNK8RcVflNpHAEKORwWTNQAQ0RikZAkIxzthB8hczw\n",
       "iQdkhyy0E+9fPctY56DN1JIApspU+ZsylMYTn6DMayRt7YWONV7PmnLKSZqGLRAt6glHOUC5itxZ\n",
       "1Vagx9+qdVlhCzZuEydURbiwD5yG+YplSFnAV8W946OIUIlSGjVWNze7c7CEHmCZitedG7tLs7Ok\n",
       "BdXNuYYkzVLwmN5Z2kjmTwV3N0qeUkV4xmNM/ELguDx95Sof9jZoU+Ya3lkqNvtq3fw40C4dIFca\n",
       "7s8v+ia8rPonsn1hO0DKeTdEymijX97L8rVh71K2YtRdNB3gZd96l8rNMndoB1BG/R7o9wbPf5ci\n",
       "hAzGXYfFAAAAAElFTkSuQmCC\n",
       "\" style=\"display:inline;vertical-align:middle;\" /></a><br>"
      ],
      "text/plain": [
       "tensor_prod_02: x otimes (a * y) otimes z"
      ]
     },
     "execution_count": 10,
     "metadata": {},
     "output_type": "execute_result"
    }
   ],
   "source": [
    "tensor_prod_02 = TensorProd(x, ScalarMult(a, y), z)"
   ]
  },
  {
   "cell_type": "code",
   "execution_count": 11,
   "metadata": {},
   "outputs": [
    {
     "data": {
      "text/html": [
       "<strong id=\"tensor_prod_03\">tensor_prod_03:</strong> <a class=\"ProveItLink\" href=\"../__pv_it/demonstrations/e1b186e6e1b68a7406478a66e5d4c1a928b8dd250/expr.ipynb\"><img src=\"data:image/png;base64,iVBORw0KGgoAAAANSUhEUgAAAG0AAAAVBAMAAAC+p33JAAAAMFBMVEX///8QEBC6uroyMjJERETc\n",
       "3NyYmJgiIiJmZmaqqqp2dnbMzMxUVFSIiIju7u4AAAAoIwv1AAAAAXRSTlMAQObYZgAAAAlwSFlz\n",
       "AAAOxAAADsQBlSsOGwAAAhpJREFUOMuFU89r1EAU/jbNZvNjMy6oBw/CHjzYguz+A5Wl4E1sTloL\n",
       "Qi6iF3GPxb3ECvUiNpdeCtaA7SVlSw8WQbDk4LUYFoR2dWXEHlZtoVg8qBffZN2ktQMZSPK9L/PN\n",
       "+zHvATmrKOEc5K8dCXcpX2YEEtL2c3VfpOzlDO6H4afUYN2wzRM0J9XdTZHylKTVoXWRg3USVJHq\n",
       "CnyILlCN2MTwkCv02hWnKHWpbsQlLx+/hz6iFaBvcrYdYw9l0wHz1miDLsoy1b6VSV61ii7MCPDs\n",
       "Lb1pO6bDPBaYRgX38R4r6OPbv4OVs5hM48L48jag1aE59s+yWwZWp4Dopl7HW0QwNzwQhxJV/LOL\n",
       "x1kbcFAIRhMWVMrBpJDId8ALMc6LP08SDgVKcp7jgajx4UDZJ9/WAYFTMYmA6VWKGTVu/aFPMVwX\n",
       "XKI7A/ZDCGYGDkXGiihzzWFcJ9uukuAR7Ap9ptFJdCM+2G9oB0d7jCVx7lbfUUSK/xroKD6uQo0w\n",
       "agWwq6O0S43BflEmC+k9uyJvrYHnmw9BO2bJvb0o8qq50MdEQ4uARMHHccdLu/TlcrdFacXo94w5\n",
       "Kpoq7v0asNeeJ5Tcu6i90iSqu7G1PtQFxmlKuZRN0r1Nq5uAF/RoH/ibgYuWtF9uZJA92yEHep2d\n",
       "E9bX3tL/HXx0nej2Ulw+PnCqbLaLjRNj2ps9TrCGRKfy/IG/LuFuA38Bwo+KunUuISgAAAAASUVO\n",
       "RK5CYII=\n",
       "\" style=\"display:inline;vertical-align:middle;\" /></a><br>"
      ],
      "text/plain": [
       "tensor_prod_03: x otimes y otimes (a * z)"
      ]
     },
     "execution_count": 11,
     "metadata": {},
     "output_type": "execute_result"
    }
   ],
   "source": [
    "tensor_prod_03 = TensorProd(x, y, ScalarMult(a, z))"
   ]
  },
  {
   "cell_type": "code",
   "execution_count": 12,
   "metadata": {},
   "outputs": [
    {
     "data": {
      "text/html": [
       "<strong id=\"tensor_prod_04\">tensor_prod_04:</strong> <a class=\"ProveItLink\" href=\"../__pv_it/demonstrations/b1ebcb927a65028f499aed37c34f0ff870eccd8c0/expr.ipynb\"><img src=\"data:image/png;base64,iVBORw0KGgoAAAANSUhEUgAAAPAAAAAVBAMAAACK8n6QAAAAMFBMVEX///92dnZEREQiIiLMzMy6\n",
       "uroyMjLc3NyYmJgQEBCqqqpUVFRmZmaIiIju7u4AAADo9lGYAAAAAXRSTlMAQObYZgAAAAlwSFlz\n",
       "AAAOxAAADsQBlSsOGwAAA4dJREFUSMeVVktoE1EUPZNkMvlMxgSKWqW2G3VRLV0IgijEhbjxExWE\n",
       "itIuxYWkuhF0UVxYET9xIbpRIhVEsBJdiJtKgliEUonQota0ji4EtdouinVj8N735hOdmVQf3Jl3\n",
       "T+ac++773BfA0zQvhDzwz+gSv2sBIYApL5Qq+n55pHlcf5ZaleZpibQXu/0/ykuxpvyTwycvZPQF\n",
       "SB9vFjeIFTWlWe1bJjMjOi+8kD4QoH1RRniVaXOFHC+IFStLs2b+JQXKca/gheJBScVFhMMmjEkH\n",
       "c7xA1i3LRNtPO9BYy+H6PBAOBklEOSl1PT0+5uzhOl4g66gwo1ZF0kRpBTCrUAI67a1v4wgXXQgV\n",
       "PgGV185WNGoD2IUhE0qJvKSSh1FeA2P66fZVjidZyNSybkTSNYixGmx6ooArSOWVvFE20jKJ9D3E\n",
       "Sy4khtiTD9VtAeY8Qm8OMZ6e11iBWXyAjnfVZ44nWSdzxnXN2fukG5sHzoHtlN6Hx0gCLWcAGg6l\n",
       "qhVH6VC5ELZQkjegd9sCzLmJaB4JhkpQdpZJYRDv808cT7BwFdiQsjce6yY7gCGwmfEqiSiUBoWg\n",
       "9OI5GASoRRfCNerWEebuHOdInMgCZYjIPMQXYyCFLNY1eDYLo9w3fvCDdCka9kJYr6kJkf4WoCwC\n",
       "Q60j1QCxRLwDc7xjwuIc9JqpAourfATK0DJZ/hy//vAkC6283tgqNl4de2nJeyDsGc+7Di2dynGU\n",
       "KK0ITarSAOEYZZqmneC0UYQ6sANyqsvoxySHUhfx3fUsFtrd8kYr9Bb2VKOTRC6rxe3ApErfhGgu\n",
       "QiXcgQthI0kUsS7hFP1OnncSjVFGOBRJI5U7ZKxNzhNmeZK1jHZqqzte0u2k11lpY+gpp/GcZFJc\n",
       "XPmEKH0auQ7E+z9ajW1VHIXl6CmpNPM6nzB9HxffdGJhtkDDtDzJok0Sa4+4GZfUn/Qal/a17e5I\n",
       "FiGuFl28Djx7lfM8PhvCAeqMtJyecBUqMyMrecXFHIiSYRrj1fsXHE+ykHkzoLe51fRhbZFemy2T\n",
       "7dKeyCvR2eSFwtmAGnRSFt8Jc7d7pTmeH0uhQ6F1S7NHMzxlNhT+PyC3pP/VrAvly/SDBtD2vKxR\n",
       "fC7Ky8PvAgn5/G9Y7x9X62h6H3tY2/CQnics81yjPmof/ZVDZtPAHtZwjUtBl2WedsonNf+rdbD5\n",
       "Xx9/Viwv7Dc4iQwdzS+qOwAAAABJRU5ErkJggg==\n",
       "\" style=\"display:inline;vertical-align:middle;\" /></a><br>"
      ],
      "text/plain": [
       "tensor_prod_04: u otimes (v otimes (a * w) otimes x otimes (alpha * y))"
      ]
     },
     "execution_count": 12,
     "metadata": {},
     "output_type": "execute_result"
    }
   ],
   "source": [
    "tensor_prod_04 = TensorProd(u, TensorProd(v, ScalarMult(a, w), x, \n",
    "                                          ScalarMult(alpha, y)))"
   ]
  },
  {
   "cell_type": "code",
   "execution_count": 13,
   "metadata": {},
   "outputs": [
    {
     "data": {
      "text/html": [
       "<strong id=\"tensor_prod_05\">tensor_prod_05:</strong> <a class=\"ProveItLink\" href=\"../__pv_it/demonstrations/4c0dae7e9c3e2e1f5c33341a087c7d031b6632c30/expr.ipynb\"><img src=\"data:image/png;base64,iVBORw0KGgoAAAANSUhEUgAAAPIAAAAVBAMAAACOB66tAAAAMFBMVEX///92dnZEREQiIiLMzMy6\n",
       "uroyMjLc3NyYmJgQEBCqqqpUVFRmZmaIiIju7u4AAADo9lGYAAAAAXRSTlMAQObYZgAAAAlwSFlz\n",
       "AAAOxAAADsQBlSsOGwAAAtZJREFUSMeVVU1oE1EQ/jbJ5mezWVIstSiFeGg9lIiwJ38O6cGbSFCQ\n",
       "RijJRRAPZYuXoiK5FcSfgAj+IKR4EMFA6EG8VBJKi1DULSiCtnXxmmp7KHiyOLMlad/mZV0HApN5\n",
       "3/e+mffmzQLdZgWKyVC9LRA6VZUEJwKhettEENBsoHRm/0s4UKJGSRqeDITqbZM9V3729a27jl6W\n",
       "rt/xR6ndrHE//j7mBwrn2UvIM0s4vijN7mLU/Ph7dp6azxhm76JcOVr2Rf1T2cPnC1u1kXRQPwhs\n",
       "KJxXk36x5pfOTgw4CSh18gWUsVrGWTx3BGVj7e3YIUGZ+S0PP2LmpqFrFdxHylIso2GkafUK/QpW\n",
       "aKetrBDgKRCnlhJRzJxDMS8o6/hmLwjKiisg8qMr2Qam9RJeIwn036ScCEn1GY+gH28rXycAPSGN\n",
       "AiKKmc8QtQTlGXy33gjKzJ/z8G9BAZyETXxydNqQq3lI7g7C7G7y02HAJSCyBQ+KFiLbVCQFTfPE\n",
       "A9PkjHIYcfUWTPOxaZ5CW8DDN6jVUHRiLn+qH2js7pnIYJMPMcz/CQAqSK3Ag6KFVIV3Ezvsj7fD\n",
       "ig4l6OFPudkhvkWxWDqVd/e8SrWm+WbatuBmyaclorCEUAZnPMrqb/wSlZdACYp81QY15ijx76nV\n",
       "MeCzyiMuS8pVjGidGT8KLUcdkqFdBRQt0J2kBWVjOLnVDtU6/FDdwx93m2UZhUYaiwRPubP4ML09\n",
       "O35a6dQ84J6NzlsLKFoo1NW8oKxtb1TUqqi8jGJZ5EeOZA9QMa2hF/M5hPiNH2PgBXLm+2986ijr\n",
       "gzwEwnwGAgp6c31+UJwkxnv71W3PPbeGPloiX8HLy3u3efdcZMV1wjnpDLvmj/KdYQPd/P0fn9rX\n",
       "3WkUb0iV3/mjen8x9JLxpJsvtaOyYCwTBCWzsJ1MS/gy+yELhpwgKJlpa4syvrQ82Qd6JhCqt3Xx\n",
       "8RfljvFhxTL9gwAAAABJRU5ErkJggg==\n",
       "\" style=\"display:inline;vertical-align:middle;\" /></a><br>"
      ],
      "text/plain": [
       "tensor_prod_05: u otimes (a * v) otimes (w + x + y) otimes z"
      ]
     },
     "execution_count": 13,
     "metadata": {},
     "output_type": "execute_result"
    }
   ],
   "source": [
    "tensor_prod_05 = TensorProd(u, ScalarMult(a, v), VecAdd(w, x, y), z)"
   ]
  },
  {
   "cell_type": "code",
   "execution_count": 14,
   "metadata": {},
   "outputs": [
    {
     "data": {
      "text/html": [
       "<strong id=\"tensor_prod_06\">tensor_prod_06:</strong> <a class=\"ProveItLink\" href=\"../__pv_it/demonstrations/36cd8bf916b96fe0bbbed0e218a00e1e04dac3030/expr.ipynb\"><img src=\"data:image/png;base64,iVBORw0KGgoAAAANSUhEUgAAAFwAAAAVBAMAAAA5lpTPAAAAMFBMVEX////MzMxUVFREREQiIiK6\n",
       "uroQEBCYmJhmZmYyMjLu7u52dnaqqqqIiIjc3NwAAACFAiZ1AAAAAXRSTlMAQObYZgAAAAlwSFlz\n",
       "AAAOxAAADsQBlSsOGwAAAbFJREFUKM99k79LAmEYx7+nnp53njjnIjQETRI0VBgRNzYIBdEQutRU\n",
       "4NhQJqFEReQSQTQctkgQaLSEFU4RiHAEQWSSQ1BUg/4BRc/rj+jVuw7u3vf9Pp973u89z3sAarC6\n",
       "zCJq0RKfN9FKlrRZJjltjeOwR5Fi3HKWW600n6eFwmNHcfJvl7mVU6eHuE1vhNvK3H+4m209TQWS\n",
       "h9vKDvNfHfRfcrj8YCADKAGaB66BrKJD0HyvOGD+cWckOVzxRLEOuKgOak2pyQk5B3cllMAUBeN4\n",
       "rg1w+KeURj/gmQBsQP6N9sA7FGCBgj6MNKGkpi1q2iTNdKeBZUCogzESecqRw+0WDnx1f2pEFxpU\n",
       "lChzio88kKCB9CMWFL9xwuNbUKMtMxK8OTVMuGhAR4hVyVZnm/3Fh2AnB64gpSr6gXuxyDoYwBnl\n",
       "aGSjYpHHNxChmksGTVOUSS1BGAud+zBD2XeN29Uu75mrPeqOgx1hO2vTKH3yzT4pPouuXtD90pyt\n",
       "9QmVjupKmB0xKS0v0bDZanH5Sf8Fxs1OrsOwkWNvsDdybIZ7qinmWu+NeGOWf0e8R/kBKMtqCozH\n",
       "psAAAAAASUVORK5CYII=\n",
       "\" style=\"display:inline;vertical-align:middle;\" /></a><br>"
      ],
      "text/plain": [
       "tensor_prod_06: (x + y) otimes z"
      ]
     },
     "execution_count": 14,
     "metadata": {},
     "output_type": "execute_result"
    }
   ],
   "source": [
    "tensor_prod_06 = TensorProd(VecAdd(x, y), z)"
   ]
  },
  {
   "cell_type": "code",
   "execution_count": 15,
   "metadata": {},
   "outputs": [
    {
     "data": {
      "text/html": [
       "<strong id=\"tensor_prod_07\">tensor_prod_07:</strong> <a class=\"ProveItLink\" href=\"../__pv_it/demonstrations/16be97a4663c6a41f57059377b2a4e0bf3e27bdb0/expr.ipynb\"><img src=\"data:image/png;base64,iVBORw0KGgoAAAANSUhEUgAAAF0AAAAVBAMAAADWVP/xAAAAMFBMVEX///8QEBC6uroyMjJERETc\n",
       "3NyYmJgiIiJmZmaqqqp2dnbMzMxUVFSIiIju7u4AAAAoIwv1AAAAAXRSTlMAQObYZgAAAAlwSFlz\n",
       "AAAOxAAADsQBlSsOGwAAAa5JREFUKM99kz9IAnEUx7/qqeedd0lLNARCUTSE0hC0hAQtkXFTfxzC\n",
       "JWiJbDrazKAhwmwNIiEi0ALnBnFojY6mkowbHIQUWppaer+T0F/9roP3u/fn89693+/3Dvj7GHB5\n",
       "xAGt4MZPCb1nbri4kh535THXUzul0pujyOl+wstZWz1/nlKiTPNwFUNWv+Wxf7Qx2rs+z7TRf3gf\n",
       "fa3z+l4qoHYFtBSWfkSJzxbaPK+alRVAqQFZ7UHOaIZi6Fm9SJEZcoci2OF5Xz2ZBQJxBAztM5wO\n",
       "A+U1gNKxB6zLcdzz/AYUZmWgQqIDJEMmmNUfBGyPhRF2VKa5O2SaNeeY86yrD1oGqIQMpMrUW5dH\n",
       "zFa/fu035ZxihAUN3ZbhL2pRh58lOYAW4XmvBdvppxl9pG68hTvgycvuO0myBKnG8+PO5gIJXFT3\n",
       "MQnkqHXNmZwbkmPE0hyvLiavK9S2hVYjdEhlJXZfyyw0QdK+PTE4XsHpNL2CvYnerqp1RwlW2Hop\n",
       "vN/VvrE8f+kORyALOa4PC+ftUDS0Cwha4aIo4k+IvE2EGjnh+Eu2sEra7XfZBL4BP25lycT7s60A\n",
       "AAAASUVORK5CYII=\n",
       "\" style=\"display:inline;vertical-align:middle;\" /></a><br>"
      ],
      "text/plain": [
       "tensor_prod_07: x otimes (y + z)"
      ]
     },
     "execution_count": 15,
     "metadata": {},
     "output_type": "execute_result"
    }
   ],
   "source": [
    "tensor_prod_07 = TensorProd(x, VecAdd(y, z))"
   ]
  },
  {
   "cell_type": "code",
   "execution_count": 16,
   "metadata": {},
   "outputs": [
    {
     "data": {
      "text/html": [
       "<strong id=\"tensor_prod_08\">tensor_prod_08:</strong> <a class=\"ProveItLink\" href=\"../__pv_it/demonstrations/49a5efeb8b9967ac7182eb7989f3084ec64edb760/expr.ipynb\"><img src=\"data:image/png;base64,iVBORw0KGgoAAAANSUhEUgAAAMEAAAAVBAMAAAANw5eWAAAAMFBMVEX///92dnZEREQiIiLMzMy6\n",
       "uroyMjLc3NyYmJgQEBCqqqpUVFRmZmaIiIju7u4AAADo9lGYAAAAAXRSTlMAQObYZgAAAAlwSFlz\n",
       "AAAOxAAADsQBlSsOGwAAAqpJREFUSMe1VUtoE1EUPZNkOvlMhkkpbVEi2dQuRBHSja5SRdyoRAWh\n",
       "wZIsRVBS3Ii4yK4gfgJSF4qQ4sKNSuhC3FSmhBYhqBMwCLWpY5cmShYFV0LvfTGflyBmFj6YmXfv\n",
       "O+ee+z73DfCPloWb5g4tWrjgCj7vXmH5vyZEzci4JFz/+9CPSGS7G7gSiTrc0XMySs0NEGXXXZnf\n",
       "i/tAIsm2ddmBUeVOoA8WtAcUZFfAkfg97QKdAmOqLTdNrx3Wu+RWYSQn8cWEtmyEHBQngIbisHUc\n",
       "ISULwzpAo2sMyOEMnjlSOKP2dnafpMDMOqAUqd/hn5zRctCDeTxAOKtkDcswFbKe4DMm0MA3wl6B\n",
       "AKwgnZQUdHyxS5KCIuLAz0ejw782ugXc1DN4jRAwdhso3iJrGUUopy320XwE4ClGspLCIr5m30gK\n",
       "zFwh6yj123zNgQk4AZsCKJQWzc9kK8XuMtiHJQHw7VLShIjHjz2Mx3kdEjjYmkvH1YoDX5O8XX6D\n",
       "FzftaCLAwhhgkQWbPlokIYIuCUA4L+DStv7u3+m0Q4lAzQNdvmbySAn+JlmaGU7SUIkzsLCAqlC4\n",
       "Ss8GPDGc6lNQf+Gn7NoAJdJapQ5/HgaZhyjAfbUwC1TVAlnBBFI+E+FkigYPC4DXhCkfnKlQs8/F\n",
       "cWix/DHqtvlUjLyZZcxZJtYJH6ZLaJzkoZ8n/yZH2A92zRXVpBQuuNvIqwVZoYw01YLOVpt/YrQy\n",
       "Q7169PlqAh6uuCM0OMklIyqGN+ki49e2VyflRTfe2y/u9O1DPfqRYnjFmfvDN4OPkt1ivHfOV+kY\n",
       "/k/OWbEI3oSLmh6n54bMl27Rl5s9d9X32qsW1Br25tMzxmP6vJP5Q7TpYYFeO0RZazHXf6CdYYHB\n",
       "2jq9PY5rBS3nCr446NoDzNfRCKmZssIAAAAASUVORK5CYII=\n",
       "\" style=\"display:inline;vertical-align:middle;\" /></a><br>"
      ],
      "text/plain": [
       "tensor_prod_08: u otimes v otimes (w + x + y) otimes z"
      ]
     },
     "execution_count": 16,
     "metadata": {},
     "output_type": "execute_result"
    }
   ],
   "source": [
    "tensor_prod_08 = TensorProd(u, v, VecAdd(w, x, y), z)"
   ]
  },
  {
   "cell_type": "code",
   "execution_count": 17,
   "metadata": {},
   "outputs": [
    {
     "data": {
      "text/html": [
       "<strong id=\"tensor_prod_with_sum_01\">tensor_prod_with_sum_01:</strong> <a class=\"ProveItLink\" href=\"../__pv_it/demonstrations/cbd440c9ffb341fef2e8bb0c456408eab236af5c0/expr.ipynb\"><img src=\"data:image/png;base64,iVBORw0KGgoAAAANSUhEUgAAAKMAAAA/BAMAAAB+5mWLAAAAMFBMVEX///8QEBC6uroyMjJERETc\n",
       "3NyYmJgiIiJmZmaqqqp2dnbMzMxUVFSIiIju7u4AAAAoIwv1AAAAAXRSTlMAQObYZgAAAAlwSFlz\n",
       "AAAOxAAADsQBlSsOGwAABKJJREFUWMOVWF1oHFUUPtnsTGZnd26LpUgRmwULGiFsQKkKaqLom9rx\n",
       "xZ+C7IqIvoTOQxG02m61VhAxW3wr1Q20Rdj+ZAVFqNhuH3yxSmK0kMammdBWU6ukUdsmps147tw7\n",
       "v+nsnr2wd+/Mfvebe8/5zrlnFuCWTRsT3y8NnoKkpmyHdtor8vt7+CkZ9Es7jNm1cvAN7E9GpYfb\n",
       "oJwp+cM3klFsXRuU7/mjn8eawPbY9H0vBSt5ugmuq0ym7GwE4xP1ZFzmKpmyanprvAOKpSbA+8mU\n",
       "W/3Rdni5mb2qdaopF/3hsanvmiE7qMbMXaFuR6Mi58iOTF0jArfUyVZfQ8RtosfEkEnD/UunrJZo\n",
       "BvqPTlls0Nz4txtBTqglBnrHalo4LrvB5shAv9h70kmcmF4mUa6y3K/R6/6d1xaTsMYizT4DIs04\n",
       "gZ12JSaOBZoXhdKzTqBjLawV0+8QRFPHtHTGtBMQhbRiVHjfK1PVdZp8K9L0jhXXQg3T0l4cTEhi\n",
       "AIcWPDIeWXfcUIe/qADrw8FbAI+KW91Nct9ftdo5Mer39ltwKlHMug02aNIGr0fAbLJ2JE6e+hhZ\n",
       "89EH6876KIaLsMMTuUBtEnPusYGNxyg34NPY4zHz9P8Twejctnd5ASFWO+puJPUkdhfy/o7PXq5V\n",
       "oHEQYFa3o5QzTvjwV0++jfL6EB89gZrQGyHKnG4CKx8F+Hqbgo8qGz9qlmHqJiuz4SilH5QyrLi6\n",
       "NiJbCgNU7RPycBd7Gg7CLPwB8MiBCfzJNK7mSjmAQy8A8CezkC6G5sM2L3IpvAnwooZ0GStE2QD9\n",
       "qzLkQLEBV5WFNAJ0FB3y8VWy+dDZH8lBVd7dBmDz5WbFsTPiAnDeRy4JzNrefjSAzYfQCDFKJRIc\n",
       "n0tKqOK81OoQZRmUWp2TKML4BZPZGl4Y+RWUxtow5VO8ewg/D4O/cY9yM4xzyl5g3PWjuOJU5RjA\n",
       "eKoSi7FC5GC7k3dYI7FF3KI6ELJlT3YYjHwPpEpoUKge3wk9AO/iio29MV1mI9lQcd1/GPd85Tm/\n",
       "ThaU2r3YnRmGLw9MbkN7TmV24+LSXOrPxChnIgdExnXI3XylyNNlhnQJrtTR3Zk1+WDC4PHspMwE\n",
       "/r0Ho3nIFXeXtMXzMscISvVX+9sVNTH79IzU4A5Pi+mBMGBfpztblaXI7mjaujT1WbPk5mWiDwKd\n",
       "I9vW8+DvEQ0rH7eDVBsMSXOogYJUpBx8X4wviB3YcSs1ayOlFQraE3a8+/Or8mqeVmUJOyuBgmYT\n",
       "z0GFdvYUGlEFKfuiCSmSlW/QykuRtvrvc9sD3VjAWElY9SaJssuVtBauiRLrM22JVmbRXz2gk1ZZ\n",
       "q9folKssEkxZoFOeIL6Z3k6nnCaW9SP0t83HqNWyUOTF1kh2g+pGIcwj3vVvfYmeXCJSqlEVZacS\n",
       "3dppESlZ7JUikzixWKIafadblDZaU46Q/TjH/XN0GXY9ga2UTMlukikNPPaVS1bLVWoWXcHv8Lw9\n",
       "1pKymKdTFvBEmbvccuM/tPGnjo5K/ERvtUp1fTt/Z2GZ8udpL43sX7j1O+Sz9XYof6egN7b1N55C\n",
       "MDxLwPwPWxBdz0VeGacAAAAASUVORK5CYII=\n",
       "\" style=\"display:inline;vertical-align:middle;\" /></a><br>"
      ],
      "text/plain": [
       "tensor_prod_with_sum_01: x otimes (Sum_{i=1}^{3} f(i)) otimes z"
      ]
     },
     "execution_count": 17,
     "metadata": {},
     "output_type": "execute_result"
    }
   ],
   "source": [
    "tensor_prod_with_sum_01 = TensorProd(x, VecSum(i, Function(f, i), domain=Interval(one, three)), z)"
   ]
  },
  {
   "cell_type": "code",
   "execution_count": 18,
   "metadata": {},
   "outputs": [
    {
     "data": {
      "text/html": [
       "<strong id=\"tensor_prod_with_sum_02\">tensor_prod_with_sum_02:</strong> <a class=\"ProveItLink\" href=\"../__pv_it/demonstrations/804da8e1f360851b410e4d88de9887da14a161310/expr.ipynb\"><img src=\"data:image/png;base64,iVBORw0KGgoAAAANSUhEUgAAAH8AAAA/BAMAAAA7ywpMAAAAMFBMVEX///92dna6urpEREQiIiKq\n",
       "qqpUVFTu7u7c3NwQEBDMzMwyMjKYmJiIiIhmZmYAAABAteJjAAAAAXRSTlMAQObYZgAAAAlwSFlz\n",
       "AAAOxAAADsQBlSsOGwAABA9JREFUSMeNV11IFFEUPrvuNrPr7qQYFkS5UT6FKQRRUGhEBb5YEP08\n",
       "6VPhQ7QiQRHolkUEgRKEQYUL9VBBJfT3kOVCQb1UVvQL6UYSPRRa/qWZ07lz78zcsXvGubB37t57\n",
       "7jfnnvOdc+4AsPYDROsGqulbgW4Je19ymBZ67QNwNSMG5T4ABUXkknbBHrzzAdDOkkuGcwLNBwD2\n",
       "pKmVm1kx2O0LEMlTK3dtQ+d8AaK/51qIFy/9uc0H4RalWpXr7Amf/VCfJUzgvvXRuJ8GMcIIByBg\n",
       "M9QW0maCAoSn1TyeCgoA59UUHQ4MMJRRzc6vCgxQn1PNVhYFBmhvUOqVwq7QlFof6ccO1Wwvi5Go\n",
       "KUx5qKLR7CAjWsmzUU6GUWfi8RgFkFSt6COcz6Z7vi9kOM3Qk3HTZYkheyvjdCg0olLrL38OmO42\n",
       "yVtJKzgqBGlHVQQX5yowa2avFKN5t+OgX8AAmCrLCvNrXbMPWHp1G2gs220EuMenuhRZrdBOJ5Xm\n",
       "rFA+uzwNhjjNc+FyfkztZfESBypm+zZkdnpjjy3EbCkuX52yHqvSoL1yQsGJpd4/HoAQs8lKW0+u\n",
       "yQFLyfBa7JpT/wEcNuWoSDRuwQT0GfXtR2qHGiSAeaEMaPmFAJdr9ZwE4NBZILOQ6MG94Q6n+A1Z\n",
       "iryHRdACTQAPSvoBWt10MDQpG7mdpdDNACdY3YnWSAANELqSh3mgpwF1bnVDJ+KJw3rWnQFIM1Xi\n",
       "/DVllgDu+oqa4agl7QHQPURbIACgHqXCHRJAHvTiLBi4gRlNAkiekwHWsO6OKFziCDbAUXjFACpA\n",
       "k70AlZ7CcZF1G9ALY6hsokqyQXm8CJKpcgjn0BASQNwT7brlklLUfvg0xkWfBGAsw+5NEVwqeVnr\n",
       "4YEnlUWt+RVMC9wVyUg8AItI6ILoeWRTzAF46I1FizoRcarj/FHNARIf09cd0kXsWCjwpPedhZZs\n",
       "QpTD7wJA4B38tMsNZzsaB10W4d5NR8DRFg0iwOsUlcX4Jbjv+jCBAM++8XEzf4sA71IklND0fz7c\n",
       "IzvDsvtT8W9SVVt/ckHXhy1kudZVOTE87vWhvtMky7WQnXU94Gmk977Vbndhaashb7R/VbN1linl\n",
       "2pgjryhTwYu+shUqrxIvcoEB5isP154PDHBTeZWI1QQGGFBeFEMTgQHWqdnBfaPNbUttXD1/nyti\n",
       "M6mpdB9FA4JhL7zvzsMg5UXCWq1e2/7iFUHlL8LhBsvL4bf23yckQBllG2bFUGvaWI1tvV0RCDll\n",
       "+4C/kzucv3HiC9EgCRPp4xVAtDbi46o9RYY5pkVtIiuOoDfE1ZTYSzNkMZaBbtsXbdduKFVIdPp8\n",
       "lPaBtt9+LaYUpdCprA9HawMEQo/f4rG592uECf8BwicyHTx5DrYAAAAASUVORK5CYII=\n",
       "\" style=\"display:inline;vertical-align:middle;\" /></a><br>"
      ],
      "text/plain": [
       "tensor_prod_with_sum_02: (Sum_{i=2}^{4} f(i)) otimes z"
      ]
     },
     "execution_count": 18,
     "metadata": {},
     "output_type": "execute_result"
    }
   ],
   "source": [
    "tensor_prod_with_sum_02 = TensorProd(VecSum(i, Function(f, i), domain=Interval(two, four)), z)"
   ]
  },
  {
   "cell_type": "code",
   "execution_count": 19,
   "metadata": {},
   "outputs": [
    {
     "data": {
      "text/html": [
       "<strong id=\"tensor_prod_with_sum_03\">tensor_prod_with_sum_03:</strong> <a class=\"ProveItLink\" href=\"../__pv_it/demonstrations/07ad38b85e580a3aa8596395da1245f0b70b60580/expr.ipynb\"><img src=\"data:image/png;base64,iVBORw0KGgoAAAANSUhEUgAAAIEAAAA/BAMAAAA1TrZmAAAAMFBMVEX///8QEBC6uroyMjJERETc\n",
       "3NyYmJgiIiJmZmaqqqp2dnbMzMxUVFSIiIju7u4AAAAoIwv1AAAAAXRSTlMAQObYZgAAAAlwSFlz\n",
       "AAAOxAAADsQBlSsOGwAABBxJREFUWMONV1tsDFEY/m13prO7nWlDRDzQTUjEg6yEuCSiJTy5rRe3\n",
       "SLoJwovYBy/Epe6JB10RL0K2L0LWpTyIhIT1TtoICUK7DaKCVFFayvhnzjkzc8b5x5yk07Pn8s1/\n",
       "+f7LACiH0SNms4Ea2gGIGFvExPxMH3oSAZCZKGYzIxCSnfRef4FPrN4IBGsyvXfEU8KKQIDTNVKJ\n",
       "X2J2NhKhvp3aqasKcxciEVLD1E45L4SpXP5ZioCYS23sDjj9T5TTyzcIM4z6861jUTKMIwzREKW7\n",
       "TF3i5GB7XITEd/X6rhtxEWCCenlNbADoyCuXv8VHKBeUyv2Mj9BWVRr4i8tLOzB6SHc2KTntkihl\n",
       "8+B4O+uB3UQGuJJwjUX3X/cPb2X7KIVgKnfaWlng2b6OR8nYGlHalxEqY/t0MYJOy3sPPKT0Wx+3\n",
       "W5/t3ws4zXQDZRZPUz+ULOGxlLSLYS9VMCmdw8kzjgNgKynJSW01h5W8erMElpP+9wIsZkvNfqL7\n",
       "VKn0slmLED5nhyJ78vQaGFyhHaHDkDiFIFkZNm1PlcnqOH+c4BI7tSYrdqcjlrU0pFrLVwkh7dhl\n",
       "muAdk6Ubxfz08kOlBNWLAAPpmozQbwdriv5gH/r5JL7pGXorXfUQ2s1HRtHMp/NWu9UpI3jM5mR1\n",
       "3DwPLyeQ5TorqB0F0PPmcEOhAeDKBgAH1wo4qGMoWFPaHCftAdho4O1UUSBkIIm/0+hsvO7IYA0F\n",
       "SooUlWXnMR6g5giTYSmyq4cLZwBsuoIahRA0iXKXOAKUUbJEk4+Qy1s1A7ROM/sPgjkxiLDSeSzE\n",
       "v0XgaYEIb7LdqEOidAfgcaIUImpOyrlTnMcqfMcoKq23CjuU7x2CmQCH0QTmuRAfMlL0a65jrqIC\n",
       "n9d5XQ4iDLxKHcdXJx1GrQ4h9EvZLeXaboYjB7KpPu/xgY+d9zIveLB4awvkyHQ5VM8VW8/D0Eew\n",
       "Ljznvj8oOJBsDQKcr3MP67ygHZcDWY5uEW4nfDrh5d2v2XQ5MwpHP6gqOR083HTflToi7DzG5m+Y\n",
       "fLWwyoHRVfjHlaeDLnG3t/FfQ8rCywJS8105MEJ2pco8mavKrtTOyyEqJZ0xZfvA4rZljjvmN2PV\n",
       "K1II+m9lj+cyxwjWzQLZxCilM4bj1+46ZRukf4+P0KjUTxuJj3Bf3ZxPio/Qp265umqxEZYQrQ1j\n",
       "wtv/A1hjhIEZIa6JY5WHlFA6QTVddqcBBsWoOmLDkpu5xqxGsbqNotoht8cQTZBeIxG6KAMNOqa8\n",
       "/geOLsNR4CVXJexvskPDaqK996/dJixJ2gdgv5OFvEStrabMkCURcpj9Bj8ILTbDLfWxhzRT0siI\n",
       "M2khwoq7p9RenxpBNqxtH5+Kfse21Z8ya6O+Q97F+UiZF7WpZWMEBTvzFwFUPDGaOeBFAAAAAElF\n",
       "TkSuQmCC\n",
       "\" style=\"display:inline;vertical-align:middle;\" /></a><br>"
      ],
      "text/plain": [
       "tensor_prod_with_sum_03: x otimes (Sum_{i=2}^{4} f(i))"
      ]
     },
     "execution_count": 19,
     "metadata": {},
     "output_type": "execute_result"
    }
   ],
   "source": [
    "tensor_prod_with_sum_03 = TensorProd(x, VecSum(i, Function(f, i), domain=Interval(two, four)))"
   ]
  },
  {
   "cell_type": "code",
   "execution_count": 20,
   "metadata": {},
   "outputs": [
    {
     "data": {
      "text/html": [
       "<strong id=\"tensor_prod_with_sum_04\">tensor_prod_with_sum_04:</strong> <a class=\"ProveItLink\" href=\"../__pv_it/demonstrations/97fcceb3d8772975d6fa77e4be670018393ef8b10/expr.ipynb\"><img src=\"data:image/png;base64,iVBORw0KGgoAAAANSUhEUgAAAPkAAAA/BAMAAADQ0HMKAAAAMFBMVEX///92dnZEREQiIiLMzMy6\n",
       "uroyMjLc3NyYmJgQEBCqqqpUVFRmZmaIiIju7u4AAADo9lGYAAAAAXRSTlMAQObYZgAAAAlwSFlz\n",
       "AAAOxAAADsQBlSsOGwAABW9JREFUWMO1WF1sFFUUPrO7s7O7nZ3uIgETUmlIjBqjrKZPmMCqD4YH\n",
       "YEUwodK00QSJf93GmKAxdBOjvoj0RTQQ6BIeTEO0+2SCpulqo5Yodqs2RlpkaIxGKWmlRaBQxnPn\n",
       "3vnr7uwO8d77MHO/nbPnu3PuOeeeMwD/e5yht56db/uKKBtB0Ih10fuu+ZS/0I+i2Dfn6X1HPaFQ\n",
       "Sgy59hGb7GjX60gdFsOuMsPDM/s/ryM2oAth35Z1pnXEwmUh7C9akyLM5vzFEldFkDtaF6A3X0fw\n",
       "WRHs4VZrloLJeoKDWRHbXrRmF8brRlVcxMYPB46NOQHRfjOopHxNQJpdCCx6iD97KLg9x/Lc2Ztb\n",
       "A4sOFrizdwY/PXpL3NnHSHqLGq5R8Q25Pu7s3eTwSBjM9/7sOGX4coRucWefp0E/b//w1qKfaHKR\n",
       "N7lymaZbw9nTr3xPhJu82ZnGiOGkEtUdWHn7gkKXebMnl+j9vOFwugIraR4CHSwtznMvbNhehozM\n",
       "8idp9MfjOJliawAwuKc65uxa//JNXbO5CBopuh4CeIX+1F+nuLqUTv9WG1RhB0Wt2qLTKHrVHd6u\n",
       "g8o24T0WnXR3tPF0y/J1yD+g1lwtUIVdKG7FsGQc86ojD+JWnqFk6+l/duugTSxj344L0+6uBaqw\n",
       "CzXbh0z3vx51EvGDpxmIUhsMm+aR78HLtPUq2lQFmnQorQaYkXSCNlgALo1CpJzY6ODJ39NFG3nY\n",
       "/zLcGT926hEsZb6k2kEqudibpDxo5bsAHm9TCqAm+uAgJPNSXitrKQnREQtAeQCaWuUrDk4OqRkb\n",
       "edjtbMvOPpLu9yKx3Gf3WmOmCX6B1TADFwBeXjEFsA/bgc+gCWDlmwClNxAdt4BS+AbiFXjewrF8\n",
       "8mpTwUJE1axzvI9dd7tSL6khNwAQfZDIuNhLID1RRj5FxzoUdNR/FCSMUNSXIqjdAho+wGahbOEI\n",
       "hFCXhUx250wJe063QXL5ALUTI0ToGtdWaOkL35lKYIYst1NXFkDFDnglQBkRVGyAnvsrytvYNKiD\n",
       "POyKJ5XdwdhhECnkPhd7GZR0lihRzPWPQGwOkZJK5vDRiMnGAJptHURyNobOvKY7yMOe/NDNfj+5\n",
       "vMBaHWZ5i70HJgh7B2imYKj1fbn4KMCEXESUyNogVMJUJYGFp3PDLuT1Ouj0dAtHyeUB9PlFtHGs\n",
       "1bXv7ZEUJHPtIBeIs+Eu7Cqn4Gu0QxLz8ipcmg2kLvkI7LTx4NbT0O489bBHPKe3YgbAGjT63D7c\n",
       "q4qLXX0SL2dT8NiK8TacXWz5eCgLIZJCHsSHd6KMBeD7lovjDp45lxgtup564t1TUSXM358i749/\n",
       "D+dd8Q5mtkGHTxxyZdMDWyPjtUEVdlDcZn/Je8KZ8Rhmm/Eqva2n7LGf9S1Vtaj2yVm9NqjCDgpb\n",
       "eT7kqaxPRk2iGGvdRhk7W8zf5z7ldMJaZ9yIszgkfvgPsI2MTsBWtol3O6FeYXndCbcYsh/4ls6n\n",
       "6RLZyvp5VxfStapwG3C7vunl7zJ0nXsT+Q9lccJtxrdyVbjXdfINb7gpJ42FBrI823daU3TvMcdz\n",
       "/dhJZXzttMS9l9lk+p67j/PtVNUF7uy30ZRH+X86ORi8KW/OcGfvDf4lahv/D8Xx4C90nv8HOyl4\n",
       "U34f/69GCg0jrbHzaTf4s8MeagIr3WjvcPi2dhtO733rLT/5BlxGAPvsMk8+4RsdBQHsKqlq5cnG\n",
       "7GsFkING3E6a1dV1OO71Z9eWRLCTdgP2n2j47mpGCHu4Qiv3Buy9OSHsMpZ22q1sI8t/AWLGKizf\n",
       "u1IN3j12TBB7qALakBX1Pd1nagq9nhXErrUFENoLosZrAVbo43P/AfQUyfVb16ozAAAAAElFTkSu\n",
       "QmCC\n",
       "\" style=\"display:inline;vertical-align:middle;\" /></a><br>"
      ],
      "text/plain": [
       "tensor_prod_with_sum_04: u otimes v otimes w otimes x otimes (Sum_{i=1}^{5} f(i)) otimes z"
      ]
     },
     "execution_count": 20,
     "metadata": {},
     "output_type": "execute_result"
    }
   ],
   "source": [
    "tensor_prod_with_sum_04 = TensorProd(u, v, w, x, VecSum(i, Function(f, i), domain=Interval(one, five)), z)"
   ]
  },
  {
   "cell_type": "markdown",
   "metadata": {},
   "source": [
    "Upon implementing <a href=https://github.com/PyProveIt/Prove-It/issues/28>Issue #28</a>, or something along those lines, the following should not be necessary:"
   ]
  },
  {
   "cell_type": "code",
   "execution_count": 21,
   "metadata": {},
   "outputs": [
    {
     "data": {
      "text/html": [
       "<span style=\"font-size:20px;\"><a class=\"ProveItLink\" href=\"../__pv_it/demonstrations/3eae5e83afb7c78544491350ec3893081ee061460/expr.ipynb\"><img src=\"data:image/png;base64,iVBORw0KGgoAAAANSUhEUgAAAJkAAAAaBAMAAABWVuP/AAAAMFBMVEX///+IiIgiIiIQEBB2dnbu\n",
       "7u5UVFTMzMzc3NwyMjK6urpmZmaYmJiqqqpEREQAAACk/Np2AAAAAXRSTlMAQObYZgAAAAlwSFlz\n",
       "AAAOxAAADsQBlSsOGwAAAuVJREFUOMutVU1oE0EUfom7ze4mWaOBXKxS04OWgoaiBw/CKuhBtKwo\n",
       "ggfNehApaogXETwkIgqCtOlB8RAloJ6bglgVkRRRUIvEHiwEwSjkYLFBD6UICr43M5ns0iXJoQN5\n",
       "+2bey/d+5w3AGiytP5HtQa3WG1qfFUiB0k0rWu4NLZRVChCqd9E66QpGEt8VrADMdkH72WY3EzFi\n",
       "XnlksPlnkJQCk4RoAzD/vvgnN8U+Tw5gzBb+pcwxXUvXHONCA5nTaCfgALyg03u+aGGLqHJuL485\n",
       "aIFuezVMzYL6ZcrcCoC6DEC85p/A9SWi62po/KUIrbwa7ZkOx7LaX9wVgZlTqr5oOebJFNGUONrN\n",
       "P4HvySGJZmLGIiR4heawGrp/ETYyup/SXxBHRUaNSbvt29kTENqXyOMujr+RZHKXP9oYkbcj53kG\n",
       "j07j7iAT3LLbkYaWZNIpihkATIyaX43WZPQ31Q4DsB4i8w48RTO1PTu3ysrk8HrdBA1Lq/BWCg0f\n",
       "grgjpHdZm6xQOaugVZ8jM88EhTba4TdyAxNYNdNWSnx3KbMInxU73DI2zG7XL6prCVTmZI6ZxOQk\n",
       "d4hIG+0rkEacaEwUITxDfRwry+vLfFMGOBpEsZ2AogW17uqQq7rM0QQNkgKiGwmAfjpZqF3zopkU\n",
       "t44tpDsy0gEXWviKxM4R7pE76EHa5hYXlFOPWtIMa15KqIkkXcXCfmSCDS40tT7nrilcR6M35sGo\n",
       "MDQob2lJ49J9BVWmNFSY5tez1e266sBcn0g7vGYGSP8bRB40m0uIdlz32PrK2hVjMykT25lAzTyW\n",
       "MyRv/vgn9J+2/qguZ0MW98341Dqk3AuVbWKqiIwZo/xmeVdRTtmCRT0M8B4g4ZohUec+Yz+Ik0qH\n",
       "aUgzRHBn8jCOERtDWTDlgE5BsMGb0+RtMN5ptkYcD/Zoc9ErvwiRTRxGtFijE1ow3/O7cJtZ76g/\n",
       "u0ZvFq9Qtzer1/eULQX76T9ROajxzOdZdQAAAABJRU5ErkJggg==\n",
       "\" style=\"display:inline;vertical-align:middle;\" /></a>, <a class=\"ProveItLink\" href=\"../__pv_it/demonstrations/b7a6222557e17e0d43ca71b45be31ac256b3a08e0/expr.ipynb\"><img src=\"data:image/png;base64,iVBORw0KGgoAAAANSUhEUgAAAGgAAAAVBAMAAABYjraNAAAAMFBMVEX////MzMxERESYmJhUVFQy\n",
       "MjKqqqrc3NwQEBC6urru7u52dnYiIiJmZmaIiIgAAAB85A1lAAAAAXRSTlMAQObYZgAAAAlwSFlz\n",
       "AAAOxAAADsQBlSsOGwAAAT1JREFUOMtjYMAEKycw4AZlBViF+cIW4NHE6ASWfYsmnA8SlcGikX33\n",
       "JaAbmBxA7NNocnsYGLh847FoWsvA/I2BgfsANgfsARHvsWh6n8D1FVUTn86ZowQ0zZjAgKqJM24B\n",
       "QZsYGNg+QzRxvX0A4pYuYCBC0xwDiCZuzgYQNxwhcxWnJjkXAaA/gOrLeANA/ABEwH7G4zxg6LED\n",
       "8QJ+kPMYe86cOXMIHHk+E3BrYugHCheFQeOSSwERG1G4NAkyMOgnMDBsBZoaAhZACnwVHJq4/i8A\n",
       "aWL7DmR+4waJvCMiclvAzuMGBgTnh2KQAGsCVk2gJMCwHhpKxvB4YtAzAMs6zULW5NR/BBx9DGeB\n",
       "mOcCNAHcBSVY5GTEuQklGeEGeBIsqZpe4NfEG4BNdEUCXk0rDLCJsl/Bp0vajYEBAORvZ+GxWwgV\n",
       "AAAAAElFTkSuQmCC\n",
       "\" style=\"display:inline;vertical-align:middle;\" /></a> <a class=\"ProveItLink\" href=\"../__pv_it/demonstrations/59f649f424a7ebbf3cabdb9c4742a85a8e942f3e0/proof.ipynb\" style=\"text-decoration: none\">&nbsp;&#x22A2;&nbsp;&nbsp;</a><a class=\"ProveItLink\" href=\"../__pv_it/demonstrations/997419eb6c432e0e12cfcbfa68907528f068469e0/expr.ipynb\"><img src=\"data:image/png;base64,iVBORw0KGgoAAAANSUhEUgAAAFMAAAAYBAMAAAB0A9ycAAAAMFBMVEX///8yMjLc3NyIiIiYmJgi\n",
       "IiJERES6urqqqqoQEBDMzMxUVFTu7u52dnZmZmYAAAD1zdHuAAAAAXRSTlMAQObYZgAAAAlwSFlz\n",
       "AAAOxAAADsQBlSsOGwAAAalJREFUOMtjYCAKKDvvYiAS7GWwJFbpKoaLCA4TnMAOQhBMCxDBboCm\n",
       "wHVavug0ByDDECLDd/cAA8cFBgbmBxANyEBAm6Ha7QADA08ymHt7ZQPDQSDNeoGB8QCa0gRdBjau\n",
       "DUDG+gUg7oyyAwxPIDIsDzCV8ikI8Mxi0Ac5g/0PkJgAlZoDoZhTQwMRShMYYhg8QfbxBgCVC0CV\n",
       "ioBJduEDCFO5z2xgWGu8CWTnzugHDHxAXx1+DHI3WIHiASQHLGtUgPH4geHACHTJhUogxxEsJIRw\n",
       "q6boVxs4Tx/oN9YGBqaGh0BOKySIkLzlchDhyX4g5ixg4GH4DAoTkAjX1NDQ0DCoUrYjiHi5ClHK\n",
       "wAEKCZAjGHgSkEzleoBwTjYQMzYA8Qa4AwKQw/WVGpw3GYjZgJacbwAGgxtYyBhZ6TEWB1iS+gUK\n",
       "W6CJ9UxAocdgMZAl0DRwmoHFYTuUw/EBFOZAK9lMgIwgsBjPthp4yhJiSJOH6uQDOZEhCmoF1JXs\n",
       "16ARiwy6IZb5QfU54MkKYZAQZoNEnhq+XOP8iAEpKHOIyWgq4OSqgEcFAKTAXCKmRRJIAAAAAElF\n",
       "TkSuQmCC\n",
       "\" style=\"display:inline;vertical-align:middle;\" /></a></span><br>\n",
       "<span style=\"font-size:20px;\"><a class=\"ProveItLink\" href=\"../__pv_it/demonstrations/3eae5e83afb7c78544491350ec3893081ee061460/expr.ipynb\"><img src=\"data:image/png;base64,iVBORw0KGgoAAAANSUhEUgAAAJkAAAAaBAMAAABWVuP/AAAAMFBMVEX///+IiIgiIiIQEBB2dnbu\n",
       "7u5UVFTMzMzc3NwyMjK6urpmZmaYmJiqqqpEREQAAACk/Np2AAAAAXRSTlMAQObYZgAAAAlwSFlz\n",
       "AAAOxAAADsQBlSsOGwAAAuVJREFUOMutVU1oE0EUfom7ze4mWaOBXKxS04OWgoaiBw/CKuhBtKwo\n",
       "ggfNehApaogXETwkIgqCtOlB8RAloJ6bglgVkRRRUIvEHiwEwSjkYLFBD6UICr43M5ns0iXJoQN5\n",
       "+2bey/d+5w3AGiytP5HtQa3WG1qfFUiB0k0rWu4NLZRVChCqd9E66QpGEt8VrADMdkH72WY3EzFi\n",
       "XnlksPlnkJQCk4RoAzD/vvgnN8U+Tw5gzBb+pcwxXUvXHONCA5nTaCfgALyg03u+aGGLqHJuL485\n",
       "aIFuezVMzYL6ZcrcCoC6DEC85p/A9SWi62po/KUIrbwa7ZkOx7LaX9wVgZlTqr5oOebJFNGUONrN\n",
       "P4HvySGJZmLGIiR4heawGrp/ETYyup/SXxBHRUaNSbvt29kTENqXyOMujr+RZHKXP9oYkbcj53kG\n",
       "j07j7iAT3LLbkYaWZNIpihkATIyaX43WZPQ31Q4DsB4i8w48RTO1PTu3ysrk8HrdBA1Lq/BWCg0f\n",
       "grgjpHdZm6xQOaugVZ8jM88EhTba4TdyAxNYNdNWSnx3KbMInxU73DI2zG7XL6prCVTmZI6ZxOQk\n",
       "d4hIG+0rkEacaEwUITxDfRwry+vLfFMGOBpEsZ2AogW17uqQq7rM0QQNkgKiGwmAfjpZqF3zopkU\n",
       "t44tpDsy0gEXWviKxM4R7pE76EHa5hYXlFOPWtIMa15KqIkkXcXCfmSCDS40tT7nrilcR6M35sGo\n",
       "MDQob2lJ49J9BVWmNFSY5tez1e266sBcn0g7vGYGSP8bRB40m0uIdlz32PrK2hVjMykT25lAzTyW\n",
       "MyRv/vgn9J+2/qguZ0MW98341Dqk3AuVbWKqiIwZo/xmeVdRTtmCRT0M8B4g4ZohUec+Yz+Ik0qH\n",
       "aUgzRHBn8jCOERtDWTDlgE5BsMGb0+RtMN5ptkYcD/Zoc9ErvwiRTRxGtFijE1ow3/O7cJtZ76g/\n",
       "u0ZvFq9Qtzer1/eULQX76T9ROajxzOdZdQAAAABJRU5ErkJggg==\n",
       "\" style=\"display:inline;vertical-align:middle;\" /></a>, <a class=\"ProveItLink\" href=\"../__pv_it/demonstrations/ac9b318856377676497208e89be1c7443d449b760/expr.ipynb\"><img src=\"data:image/png;base64,iVBORw0KGgoAAAANSUhEUgAAAGgAAAAVBAMAAABYjraNAAAAMFBMVEX////MzMxERESYmJhUVFQy\n",
       "MjKqqqrc3NwQEBC6urru7u52dnYiIiJmZmaIiIgAAAB85A1lAAAAAXRSTlMAQObYZgAAAAlwSFlz\n",
       "AAAOxAAADsQBlSsOGwAAAWZJREFUOMtjYMAEKycw4AZlBViF+cIW4NHE6ASWfYsmnA8Urb2qiFXH\n",
       "BQYGJgcQ6zSazB4GBnYHhv3Y3MgD1MB9AJtxQE0sCxg4GrBIvUHTxKdz5ihcE8cvBpbvWFxniqqJ\n",
       "M24Bsk0HGFg+YmriZoVq4nr7AMQvXYDsPJDzP2Bqeg7TxM0Jdnw4QuoqmJR/gKGH3QCkiQ+ovow3\n",
       "ACQQgJD6DKbOYnEdA0gT+zcGhgX8ICMZe86cOXMI7FkfcFjzXsDUZA7WxFAUBolLBi4FuNTaKBBp\n",
       "i6mH/QFE01agqSFgEaTAVwFitg0M5eiaOF1c/Fs2MLAB44LrGzdI5B1K5DJIMzC8whK5HKDQAwYE\n",
       "54diEJc1ASUZnb17BWw311cgsR4eSvwK0MjVMwDLOs1C0sT6////AHgg8sAChTf+0wOUZMS5CSkZ\n",
       "4QM4Eyzpml7g18QbgE10RQJeTSsMsImyX8GnS9qNgQEAs11drfnI01QAAAAASUVORK5CYII=\n",
       "\" style=\"display:inline;vertical-align:middle;\" /></a> <a class=\"ProveItLink\" href=\"../__pv_it/demonstrations/1442c26cd24e8dd18c9cd329e5b6894ecfcb9e410/proof.ipynb\" style=\"text-decoration: none\">&nbsp;&#x22A2;&nbsp;&nbsp;</a><a class=\"ProveItLink\" href=\"../__pv_it/demonstrations/997419eb6c432e0e12cfcbfa68907528f068469e0/expr.ipynb\"><img src=\"data:image/png;base64,iVBORw0KGgoAAAANSUhEUgAAAFMAAAAYBAMAAAB0A9ycAAAAMFBMVEX///8yMjLc3NyIiIiYmJgi\n",
       "IiJERES6urqqqqoQEBDMzMxUVFTu7u52dnZmZmYAAAD1zdHuAAAAAXRSTlMAQObYZgAAAAlwSFlz\n",
       "AAAOxAAADsQBlSsOGwAAAalJREFUOMtjYCAKKDvvYiAS7GWwJFbpKoaLCA4TnMAOQhBMCxDBboCm\n",
       "wHVavug0ByDDECLDd/cAA8cFBgbmBxANyEBAm6Ha7QADA08ymHt7ZQPDQSDNeoGB8QCa0gRdBjau\n",
       "DUDG+gUg7oyyAwxPIDIsDzCV8ikI8Mxi0Ac5g/0PkJgAlZoDoZhTQwMRShMYYhg8QfbxBgCVC0CV\n",
       "ioBJduEDCFO5z2xgWGu8CWTnzugHDHxAXx1+DHI3WIHiASQHLGtUgPH4geHACHTJhUogxxEsJIRw\n",
       "q6boVxs4Tx/oN9YGBqaGh0BOKySIkLzlchDhyX4g5ixg4GH4DAoTkAjX1NDQ0DCoUrYjiHi5ClHK\n",
       "wAEKCZAjGHgSkEzleoBwTjYQMzYA8Qa4AwKQw/WVGpw3GYjZgJacbwAGgxtYyBhZ6TEWB1iS+gUK\n",
       "W6CJ9UxAocdgMZAl0DRwmoHFYTuUw/EBFOZAK9lMgIwgsBjPthp4yhJiSJOH6uQDOZEhCmoF1JXs\n",
       "16ARiwy6IZb5QfU54MkKYZAQZoNEnhq+XOP8iAEpKHOIyWgq4OSqgEcFAKTAXCKmRRJIAAAAAElF\n",
       "TkSuQmCC\n",
       "\" style=\"display:inline;vertical-align:middle;\" /></a></span><br>\n",
       "<span style=\"font-size:20px;\"><a class=\"ProveItLink\" href=\"../__pv_it/demonstrations/3eae5e83afb7c78544491350ec3893081ee061460/expr.ipynb\"><img src=\"data:image/png;base64,iVBORw0KGgoAAAANSUhEUgAAAJkAAAAaBAMAAABWVuP/AAAAMFBMVEX///+IiIgiIiIQEBB2dnbu\n",
       "7u5UVFTMzMzc3NwyMjK6urpmZmaYmJiqqqpEREQAAACk/Np2AAAAAXRSTlMAQObYZgAAAAlwSFlz\n",
       "AAAOxAAADsQBlSsOGwAAAuVJREFUOMutVU1oE0EUfom7ze4mWaOBXKxS04OWgoaiBw/CKuhBtKwo\n",
       "ggfNehApaogXETwkIgqCtOlB8RAloJ6bglgVkRRRUIvEHiwEwSjkYLFBD6UICr43M5ns0iXJoQN5\n",
       "+2bey/d+5w3AGiytP5HtQa3WG1qfFUiB0k0rWu4NLZRVChCqd9E66QpGEt8VrADMdkH72WY3EzFi\n",
       "XnlksPlnkJQCk4RoAzD/vvgnN8U+Tw5gzBb+pcwxXUvXHONCA5nTaCfgALyg03u+aGGLqHJuL485\n",
       "aIFuezVMzYL6ZcrcCoC6DEC85p/A9SWi62po/KUIrbwa7ZkOx7LaX9wVgZlTqr5oOebJFNGUONrN\n",
       "P4HvySGJZmLGIiR4heawGrp/ETYyup/SXxBHRUaNSbvt29kTENqXyOMujr+RZHKXP9oYkbcj53kG\n",
       "j07j7iAT3LLbkYaWZNIpihkATIyaX43WZPQ31Q4DsB4i8w48RTO1PTu3ysrk8HrdBA1Lq/BWCg0f\n",
       "grgjpHdZm6xQOaugVZ8jM88EhTba4TdyAxNYNdNWSnx3KbMInxU73DI2zG7XL6prCVTmZI6ZxOQk\n",
       "d4hIG+0rkEacaEwUITxDfRwry+vLfFMGOBpEsZ2AogW17uqQq7rM0QQNkgKiGwmAfjpZqF3zopkU\n",
       "t44tpDsy0gEXWviKxM4R7pE76EHa5hYXlFOPWtIMa15KqIkkXcXCfmSCDS40tT7nrilcR6M35sGo\n",
       "MDQob2lJ49J9BVWmNFSY5tez1e266sBcn0g7vGYGSP8bRB40m0uIdlz32PrK2hVjMykT25lAzTyW\n",
       "MyRv/vgn9J+2/qguZ0MW98341Dqk3AuVbWKqiIwZo/xmeVdRTtmCRT0M8B4g4ZohUec+Yz+Ik0qH\n",
       "aUgzRHBn8jCOERtDWTDlgE5BsMGb0+RtMN5ptkYcD/Zoc9ErvwiRTRxGtFijE1ow3/O7cJtZ76g/\n",
       "u0ZvFq9Qtzer1/eULQX76T9ROajxzOdZdQAAAABJRU5ErkJggg==\n",
       "\" style=\"display:inline;vertical-align:middle;\" /></a>, <a class=\"ProveItLink\" href=\"../__pv_it/demonstrations/902bb05d2acc0ddb47431d79a5b234b063941ed30/expr.ipynb\"><img src=\"data:image/png;base64,iVBORw0KGgoAAAANSUhEUgAAAGgAAAAVBAMAAABYjraNAAAAMFBMVEX////MzMxERESYmJhUVFQy\n",
       "MjKqqqrc3NwQEBC6urru7u52dnYiIiJmZmaIiIgAAAB85A1lAAAAAXRSTlMAQObYZgAAAAlwSFlz\n",
       "AAAOxAAADsQBlSsOGwAAATxJREFUOMtjYMAEKycw4AZlBViF+cIWYFfPyMCwnIHRCSz7Fk0uHyQq\n",
       "g0Ujx9eYUwwMTA4g9mk0uT0MDFy+8Vg08Zw/DRTlPoDNFXtAxHssmljAJLImPp0zR0nVxBm3gASb\n",
       "uN4+ADFLFxDhPLu3AhBN3JwNIIFwhNxVXJqYFrD/BPoDqL6MNwAkEACXYv+MSxMQ6ADlvzEwLOAH\n",
       "OY+x58yZM4fAMegzAY+m+8D0UBQGjUsuBbj42ihcmlSBmoCe2go0NQQsgBT4Krg09TAw+DMwsH0H\n",
       "2vGNGyTwjojI3cDA0AQMOWBAcH4oBgmwJmDVxPUVSKyHhlItA18XNHL1DMCyTrOQNTn1HwFHH8NZ\n",
       "UJq7AA3Xu75oaY9zE0oywg3wJFhSNb3Ar4k3AJvoigS8mlYYYBNlv4JPl7QbAwMAeu9iy0VbnhEA\n",
       "AAAASUVORK5CYII=\n",
       "\" style=\"display:inline;vertical-align:middle;\" /></a> <a class=\"ProveItLink\" href=\"../__pv_it/demonstrations/882ba24e394fbf24eda08a9b556d17e393559bda0/proof.ipynb\" style=\"text-decoration: none\">&nbsp;&#x22A2;&nbsp;&nbsp;</a><a class=\"ProveItLink\" href=\"../__pv_it/demonstrations/997419eb6c432e0e12cfcbfa68907528f068469e0/expr.ipynb\"><img src=\"data:image/png;base64,iVBORw0KGgoAAAANSUhEUgAAAFMAAAAYBAMAAAB0A9ycAAAAMFBMVEX///8yMjLc3NyIiIiYmJgi\n",
       "IiJERES6urqqqqoQEBDMzMxUVFTu7u52dnZmZmYAAAD1zdHuAAAAAXRSTlMAQObYZgAAAAlwSFlz\n",
       "AAAOxAAADsQBlSsOGwAAAalJREFUOMtjYCAKKDvvYiAS7GWwJFbpKoaLCA4TnMAOQhBMCxDBboCm\n",
       "wHVavug0ByDDECLDd/cAA8cFBgbmBxANyEBAm6Ha7QADA08ymHt7ZQPDQSDNeoGB8QCa0gRdBjau\n",
       "DUDG+gUg7oyyAwxPIDIsDzCV8ikI8Mxi0Ac5g/0PkJgAlZoDoZhTQwMRShMYYhg8QfbxBgCVC0CV\n",
       "ioBJduEDCFO5z2xgWGu8CWTnzugHDHxAXx1+DHI3WIHiASQHLGtUgPH4geHACHTJhUogxxEsJIRw\n",
       "q6boVxs4Tx/oN9YGBqaGh0BOKySIkLzlchDhyX4g5ixg4GH4DAoTkAjX1NDQ0DCoUrYjiHi5ClHK\n",
       "wAEKCZAjGHgSkEzleoBwTjYQMzYA8Qa4AwKQw/WVGpw3GYjZgJacbwAGgxtYyBhZ6TEWB1iS+gUK\n",
       "W6CJ9UxAocdgMZAl0DRwmoHFYTuUw/EBFOZAK9lMgIwgsBjPthp4yhJiSJOH6uQDOZEhCmoF1JXs\n",
       "16ARiwy6IZb5QfU54MkKYZAQZoNEnhq+XOP8iAEpKHOIyWgq4OSqgEcFAKTAXCKmRRJIAAAAAElF\n",
       "TkSuQmCC\n",
       "\" style=\"display:inline;vertical-align:middle;\" /></a></span>"
      ],
      "text/plain": [
       "<proveit.magics.HTML_DisplayObjects at 0x1f0bd8fbfc8>"
      ]
     },
     "execution_count": 21,
     "metadata": {},
     "output_type": "execute_result"
    }
   ],
   "source": [
    "i_domains = [tensor_prod_with_sum_01.operands[1].domain,\n",
    "             tensor_prod_with_sum_03.operands[1].domain,\n",
    "             tensor_prod_with_sum_04.operands[-2].domain]\n",
    "judgments = []\n",
    "for i_domain in i_domains:\n",
    "    judgment = summand_assumption.instantiate(\n",
    "        assumptions=[summand_assumption, InSet(i, i_domain)])\n",
    "    judgments.append(judgment)\n",
    "judgments"
   ]
  },
  {
   "cell_type": "markdown",
   "metadata": {},
   "source": [
    "### `TensorProd` simplification"
   ]
  },
  {
   "cell_type": "code",
   "execution_count": 22,
   "metadata": {},
   "outputs": [
    {
     "name": "stdout",
     "output_type": "stream",
     "text": [
      "Help on function shallow_simplification in module proveit.linear_algebra.tensors.tensor_prod:\n",
      "\n",
      "shallow_simplification(self, *, must_evaluate=False, **defaults_config)\n",
      "    Returns a proven simplification equation for this TensorProd\n",
      "    expression assuming the operands have been simplified.\n",
      "    \n",
      "    Currently deals only with:\n",
      "    (1) simplifying a TensorProd(x) (i.e. a TensorProd with a\n",
      "        single operand x) to x itself. For example,\n",
      "        TensorProd(x) = x.\n",
      "    (2) Ungrouping nested tensor products.\n",
      "    (3) Factoring out scalars.\n",
      "    \n",
      "    Keyword arguments are accepted for temporarily changing any\n",
      "    of the attributes of proveit.defaults.\n",
      "    \n",
      "    'shallow_simplified' returns the right-hand side of 'shallow_simplification'.\n",
      "    'shallow_simplify', called on an InnerExpr of a Judgment,\n",
      "    substitutes the right-hand side of 'shallow_simplification' for\n",
      "    the inner expression.\n",
      "\n"
     ]
    }
   ],
   "source": [
    "help(TensorProd.shallow_simplification)"
   ]
  },
  {
   "cell_type": "markdown",
   "metadata": {},
   "source": [
    "First test out unary `TensorProd` simplification."
   ]
  },
  {
   "cell_type": "code",
   "execution_count": 23,
   "metadata": {},
   "outputs": [
    {
     "data": {
      "text/html": [
       "<span style=\"font-size:20px;\"><a class=\"ProveItLink\" href=\"../__pv_it/demonstrations/dde1d4f2078c26e6f5a3cdac6b6317d93bb148b10/expr.ipynb\"><img src=\"data:image/png;base64,iVBORw0KGgoAAAANSUhEUgAAADwAAAAUBAMAAAAjLUMaAAAAMFBMVEX///8QEBC6uroyMjJERETc\n",
       "3NyYmJgiIiJmZmaqqqp2dnbMzMxUVFSIiIju7u4AAAAoIwv1AAAAAXRSTlMAQObYZgAAAAlwSFlz\n",
       "AAAOxAAADsQBlSsOGwAAAQBJREFUKM9jYMAJWK/d2YBbloFnAa8AHmnuDVwGDPgAewIWQbZCl8+F\n",
       "bkAGry1WTcysB5iO+QEZTy5gk2ZhXcDgsAdk+29c0q3MDA83sH5DFuZ1Ly+GS7MwsD9gk0OSZbJ9\n",
       "gNB97g0D99o7AQwMb++8XjUBJBr8AGE4t6cplNPAe5ajAMQwRdgtXF8LVcsWwPuVB+x9A4T0sjwY\n",
       "h5uBBcLkFi8vLy+BGu6XC3cSP8TzfA5IHtvBHADj6QfwgS0qQJLm2ApV/EThPAMXmHUXSZrPIQ3C\n",
       "nr+vkUETEtQTYGHOd4AhjUcBzH5xl7MNIs53RA8eYwEszj/Rw5ppCSRQkQAAJb9CckuUpZkAAAAA\n",
       "SUVORK5CYII=\n",
       "\" style=\"display:inline;vertical-align:middle;\" /></a> <a class=\"ProveItLink\" href=\"../__pv_it/demonstrations/42480e8ef2b7a2b086aa60bdf6d93357cdd583aa0/proof.ipynb\" style=\"text-decoration: none\">&nbsp;&#x22A2;&nbsp;&nbsp;</a><a class=\"ProveItLink\" href=\"../__pv_it/demonstrations/2eda9bc36c4ac1f588f8901a48c6fff3b518fcf20/expr.ipynb\"><img src=\"data:image/png;base64,iVBORw0KGgoAAAANSUhEUgAAAGAAAAAVBAMAAABLWfZ5AAAAMFBMVEX///8yMjIQEBCYmJiqqqpU\n",
       "VFTc3NxERERmZmbu7u66urp2dnbMzMwiIiKIiIgAAAA5BDI2AAAAAXRSTlMAQObYZgAAAAlwSFlz\n",
       "AAAOxAAADsQBlSsOGwAAAYZJREFUOMtjeHuHAQpgrAQIxcaAHexCZ/I5QHhcD4jU4A3jPiFOA6cA\n",
       "jMs4AaeGebt3v4Rp4DCAyTA34NLA1QnUswCqgQkhpYlLw3JguHBWQTUsREgJ49IQsI2BYQb3BIiG\n",
       "bpATn87ZDQyrrWhKOd9Fnt4CVMWXwJ3A2cC5AaIBZGwDXxzHBQYGQxC/9y4IXAV7j+Hpg16gKlYG\n",
       "hj0ZQHsgGq4AfZvA940V6HdfNBvMGN4nBANVcQP1BjAwQG3QYmDgYWAHh+15NA0HGArBfuBgYMje\n",
       "A3QHXAMDAz84lhdhePgfVAPbBr4FMA0iIGJ9AucEqJOQ/MDA9Y1hJlAVl8NpBoZXXA4QDXUMDNMX\n",
       "xIPcyWCOFkhVrB8gDu/aAExy3tB4AIal/8kmhiVAZh+qBpY/MxQgxrKDIq4SqmEtME7esTSDkuw1\n",
       "NBv6HniYQFTZneR5DUtLvAdgCtgu4Ex8nH5PJsA0IJIcIhnizw9lMG46kRloOoxbiV3DXkSe1oI4\n",
       "HeoS5gSs6gGfg3kn+E6buQAAAABJRU5ErkJggg==\n",
       "\" style=\"display:inline;vertical-align:middle;\" /></a></span>"
      ],
      "text/plain": [
       "{x in Real^{3}} |- [otimes](x) = x"
      ]
     },
     "execution_count": 23,
     "metadata": {},
     "output_type": "execute_result"
    }
   ],
   "source": [
    "TensorProd(x).simplification()"
   ]
  },
  {
   "cell_type": "markdown",
   "metadata": {},
   "source": [
    "Our next test will involve ungrouping and pulling out scalar factors but will not work without a proper default field specified since it mixes real vectors with a complex scalar."
   ]
  },
  {
   "cell_type": "code",
   "execution_count": 24,
   "metadata": {},
   "outputs": [
    {
     "data": {
      "text/html": [
       "<a class=\"ProveItLink\" href=\"../__pv_it/demonstrations/b1ebcb927a65028f499aed37c34f0ff870eccd8c0/expr.ipynb\"><img src=\"data:image/png;base64,iVBORw0KGgoAAAANSUhEUgAAAPAAAAAVBAMAAACK8n6QAAAAMFBMVEX///92dnZEREQiIiLMzMy6\n",
       "uroyMjLc3NyYmJgQEBCqqqpUVFRmZmaIiIju7u4AAADo9lGYAAAAAXRSTlMAQObYZgAAAAlwSFlz\n",
       "AAAOxAAADsQBlSsOGwAAA4dJREFUSMeVVktoE1EUPZNkMvlMxgSKWqW2G3VRLV0IgijEhbjxExWE\n",
       "itIuxYWkuhF0UVxYET9xIbpRIhVEsBJdiJtKgliEUonQota0ji4EtdouinVj8N735hOdmVQf3Jl3\n",
       "T+ac++773BfA0zQvhDzwz+gSv2sBIYApL5Qq+n55pHlcf5ZaleZpibQXu/0/ykuxpvyTwycvZPQF\n",
       "SB9vFjeIFTWlWe1bJjMjOi+8kD4QoH1RRniVaXOFHC+IFStLs2b+JQXKca/gheJBScVFhMMmjEkH\n",
       "c7xA1i3LRNtPO9BYy+H6PBAOBklEOSl1PT0+5uzhOl4g66gwo1ZF0kRpBTCrUAI67a1v4wgXXQgV\n",
       "PgGV185WNGoD2IUhE0qJvKSSh1FeA2P66fZVjidZyNSybkTSNYixGmx6ooArSOWVvFE20jKJ9D3E\n",
       "Sy4khtiTD9VtAeY8Qm8OMZ6e11iBWXyAjnfVZ44nWSdzxnXN2fukG5sHzoHtlN6Hx0gCLWcAGg6l\n",
       "qhVH6VC5ELZQkjegd9sCzLmJaB4JhkpQdpZJYRDv808cT7BwFdiQsjce6yY7gCGwmfEqiSiUBoWg\n",
       "9OI5GASoRRfCNerWEebuHOdInMgCZYjIPMQXYyCFLNY1eDYLo9w3fvCDdCka9kJYr6kJkf4WoCwC\n",
       "Q60j1QCxRLwDc7xjwuIc9JqpAourfATK0DJZ/hy//vAkC6283tgqNl4de2nJeyDsGc+7Di2dynGU\n",
       "KK0ITarSAOEYZZqmneC0UYQ6sANyqsvoxySHUhfx3fUsFtrd8kYr9Bb2VKOTRC6rxe3ApErfhGgu\n",
       "QiXcgQthI0kUsS7hFP1OnncSjVFGOBRJI5U7ZKxNzhNmeZK1jHZqqzte0u2k11lpY+gpp/GcZFJc\n",
       "XPmEKH0auQ7E+z9ajW1VHIXl6CmpNPM6nzB9HxffdGJhtkDDtDzJok0Sa4+4GZfUn/Qal/a17e5I\n",
       "FiGuFl28Djx7lfM8PhvCAeqMtJyecBUqMyMrecXFHIiSYRrj1fsXHE+ykHkzoLe51fRhbZFemy2T\n",
       "7dKeyCvR2eSFwtmAGnRSFt8Jc7d7pTmeH0uhQ6F1S7NHMzxlNhT+PyC3pP/VrAvly/SDBtD2vKxR\n",
       "fC7Ky8PvAgn5/G9Y7x9X62h6H3tY2/CQnics81yjPmof/ZVDZtPAHtZwjUtBl2WedsonNf+rdbD5\n",
       "Xx9/Viwv7Dc4iQwdzS+qOwAAAABJRU5ErkJggg==\n",
       "\" style=\"display:inline;vertical-align:middle;\" /></a>"
      ],
      "text/plain": [
       "u otimes (v otimes (a * w) otimes x otimes (alpha * y))"
      ]
     },
     "execution_count": 24,
     "metadata": {},
     "output_type": "execute_result"
    }
   ],
   "source": [
    "tensor_prod_04"
   ]
  },
  {
   "cell_type": "code",
   "execution_count": 25,
   "metadata": {},
   "outputs": [
    {
     "name": "stdout",
     "output_type": "stream",
     "text": [
      "Expected error: A field for vector spaces was not specified and VecSpaces.default_field was not set.\n"
     ]
    }
   ],
   "source": [
    "try:\n",
    "    tensor_prod_04.simplification()\n",
    "    assert False, \"Expecting an error\"\n",
    "except ValueError as e:\n",
    "    print(\"Expected error: %s\"%e)"
   ]
  },
  {
   "cell_type": "code",
   "execution_count": 26,
   "metadata": {},
   "outputs": [
    {
     "data": {
      "text/html": [
       "<strong id=\"VecSpaces.default_field\">VecSpaces.default_field:</strong> <a class=\"ProveItLink\" href=\"../../../numbers/number_sets/real_numbers/__pv_it/common/93cac87a1a47e613f7a83b23ef7891599a1a4cca0/expr.ipynb\"><img src=\"data:image/png;base64,iVBORw0KGgoAAAANSUhEUgAAAA8AAAAPBAMAAADJ+Ih5AAAAMFBMVEX///+IiIiqqqpmZmbMzMx2\n",
       "dnbu7u66urpUVFTc3NwyMjJEREQQEBAiIiKYmJgAAABVO1C1AAAAAXRSTlMAQObYZgAAAAlwSFlz\n",
       "AAAOxAAADsQBlSsOGwAAAGFJREFUCNdjeHt6/9rTDxiAYMEMhorXCUDGhqkM3CwNEAbzhAUwxgYI\n",
       "gyMNKuWtNQHEmLP2rxgDWORdFgOEwZ0nAGGwGKyEMBhMZkMZ2XwgyxZkMPA9aGdgANq+kmH3egUA\n",
       "5QYojoP7RysAAAAASUVORK5CYII=\n",
       "\" style=\"display:inline;vertical-align:middle;\" /></a><br>"
      ],
      "text/plain": [
       "VecSpaces.default_field: Real"
      ]
     },
     "execution_count": 26,
     "metadata": {},
     "output_type": "execute_result"
    }
   ],
   "source": [
    "VecSpaces.default_field = Real"
   ]
  },
  {
   "cell_type": "code",
   "execution_count": 27,
   "metadata": {},
   "outputs": [
    {
     "name": "stdout",
     "output_type": "stream",
     "text": [
      "Expected error: Proof step failed assuming {z != 0(Real^{3}), x in Real^{3}, y in Real^{3}, v in Real^{3}, alpha in Complex, w in Real^{3}, z in Real^{3}, a in Real, forall_{i in Natural} (f(i) in Real^{3}), u in Real^{3}, x != 0(Real^{3})}:\n",
      "Attempting to instantiate |- forall_{K} [forall_{V in_c VecSpaces(K)} [forall_{a in K} [forall_{x in V} ((a * x) in V)]]] with {K: Real, V: Real^{3}, a: alpha, x: y}:\n",
      "Unsatisfied condition: alpha in Real\n"
     ]
    }
   ],
   "source": [
    "from proveit import InstantiationFailure\n",
    "try:\n",
    "    tensor_prod_04.simplification()\n",
    "    assert False, \"Expecting an error\"\n",
    "except InstantiationFailure as e:\n",
    "    print(\"Expected error: %s\"%e)"
   ]
  },
  {
   "cell_type": "code",
   "execution_count": 28,
   "metadata": {},
   "outputs": [
    {
     "data": {
      "text/html": [
       "<strong id=\"VecSpaces.default_field\">VecSpaces.default_field:</strong> <a class=\"ProveItLink\" href=\"../../../numbers/number_sets/complex_numbers/__pv_it/common/d18a028138f659eda00de597c28a3447fe87eb100/expr.ipynb\"><img src=\"data:image/png;base64,iVBORw0KGgoAAAANSUhEUgAAAA8AAAAPBAMAAADJ+Ih5AAAAMFBMVEX///+qqqq6urpUVFRmZmbu\n",
       "7u6YmJgQEBDMzMyIiIgyMjIiIiJERER2dnbc3NwAAADwZfnPAAAAAXRSTlMAQObYZgAAAAlwSFlz\n",
       "AAAOxAAADsQBlSsOGwAAAGRJREFUCNdjYGB4e3rVvF4GBgbe4wms/iZAhqcuAwPbEQYGDoejQB5Q\n",
       "hCfgAJDxEsjgc2AAg8ccFyCMXqYECOMJ0wQIg4cPKgXRBQRMYHOYoCYzzAHZteoqqxTYrLfHf/sx\n",
       "MAAAczEXU/WX9ZwAAAAASUVORK5CYII=\n",
       "\" style=\"display:inline;vertical-align:middle;\" /></a><br>"
      ],
      "text/plain": [
       "VecSpaces.default_field: Complex"
      ]
     },
     "execution_count": 28,
     "metadata": {},
     "output_type": "execute_result"
    }
   ],
   "source": [
    "VecSpaces.default_field = Complex"
   ]
  },
  {
   "cell_type": "code",
   "execution_count": 29,
   "metadata": {},
   "outputs": [
    {
     "data": {
      "text/html": [
       "<span style=\"font-size:20px;\"><a class=\"ProveItLink\" href=\"../__pv_it/demonstrations/dde1d4f2078c26e6f5a3cdac6b6317d93bb148b10/expr.ipynb\"><img src=\"data:image/png;base64,iVBORw0KGgoAAAANSUhEUgAAADwAAAAUBAMAAAAjLUMaAAAAMFBMVEX///8QEBC6uroyMjJERETc\n",
       "3NyYmJgiIiJmZmaqqqp2dnbMzMxUVFSIiIju7u4AAAAoIwv1AAAAAXRSTlMAQObYZgAAAAlwSFlz\n",
       "AAAOxAAADsQBlSsOGwAAAQBJREFUKM9jYMAJWK/d2YBbloFnAa8AHmnuDVwGDPgAewIWQbZCl8+F\n",
       "bkAGry1WTcysB5iO+QEZTy5gk2ZhXcDgsAdk+29c0q3MDA83sH5DFuZ1Ly+GS7MwsD9gk0OSZbJ9\n",
       "gNB97g0D99o7AQwMb++8XjUBJBr8AGE4t6cplNPAe5ajAMQwRdgtXF8LVcsWwPuVB+x9A4T0sjwY\n",
       "h5uBBcLkFi8vLy+BGu6XC3cSP8TzfA5IHtvBHADj6QfwgS0qQJLm2ApV/EThPAMXmHUXSZrPIQ3C\n",
       "nr+vkUETEtQTYGHOd4AhjUcBzH5xl7MNIs53RA8eYwEszj/Rw5ppCSRQkQAAJb9CckuUpZkAAAAA\n",
       "SUVORK5CYII=\n",
       "\" style=\"display:inline;vertical-align:middle;\" /></a>, <a class=\"ProveItLink\" href=\"../__pv_it/demonstrations/c7c7b48f57deafb1d4972830b299b289ce6f8f9f0/expr.ipynb\"><img src=\"data:image/png;base64,iVBORw0KGgoAAAANSUhEUgAAADwAAAAXBAMAAACluTG0AAAAMFBMVEX///8iIiLMzMy6urpEREQy\n",
       "MjLc3NyYmJgQEBCqqqp2dnZUVFRmZmaIiIju7u4AAACJ/BCYAAAAAXRSTlMAQObYZgAAAAlwSFlz\n",
       "AAAOxAAADsQBlSsOGwAAAQ1JREFUKM9jYMAJ2K7fVsAty8C9gLcBjzSTAlcAAz7AWIBFkF3C5auE\n",
       "O5DBG4tVEyvbBubtfkDGkwvYpFnYFjA4aINs/4RL+hgrwwsFtu/IwlcEBQPg0iwMjA/Y+5BkTe8h\n",
       "6d73moFp7e0EBr47FxhegwMpDslwJs8wCJuLs4GhHuzeBIR0q7zsAwg7kyeAYQtYGslpy+tg4fWA\n",
       "4wJDL4ihIQgEDlDD/Wphau0fQLz3BNljOnCrjjJAIoYRWZpHzQHK8WZg2QCieS8gSfM5lEM5pxns\n",
       "IRETCQ9zvg0M5dwGEM7rtech9rx2fgCPsQQW158w1UuhtJWjIEb88wTwdeJLERe4F+CR5rx7GI8s\n",
       "AJehQg5xLz5NAAAAAElFTkSuQmCC\n",
       "\" style=\"display:inline;vertical-align:middle;\" /></a>, <a class=\"ProveItLink\" href=\"../__pv_it/demonstrations/466ee2cdb42dd7aa4325c81eaaa360baf592b2c50/expr.ipynb\"><img src=\"data:image/png;base64,iVBORw0KGgoAAAANSUhEUgAAADwAAAAUBAMAAAAjLUMaAAAAMFBMVEX///+YmJjMzMxERES6uroy\n",
       "MjLc3NxUVFQQEBB2dnaqqqoiIiJmZmaIiIju7u4AAADZrpoSAAAAAXRSTlMAQObYZgAAAAlwSFlz\n",
       "AAAOxAAADsQBlSsOGwAAAPpJREFUKM9jYMAJ2C5eV8Aty8A+gbcBjzSTAmcAAz7ALYBFkHGH8dcd\n",
       "hkAGbyxWTaxsBSyFdkDG4wvYpJnZJjAYqINs/4RL+hgrwwsFto/Iwpd37w6ASzMzcD9g7EOSdb2H\n",
       "pLvuOQPT3OsJDHx3LjDsAgdSHJLhTFZhEDYnVwNDO9i9CQjp1v17H0DYWTwBDCvB0khOmygHC68H\n",
       "HBcYvEAMjd1AYAA13E4Wptb/AQPY94+RPaYDt+o0A8MEcAAjS/OoGUA55gxc4GjlvYAkzWcgCOVM\n",
       "ZciEMKLgYc5XwCDI7gDh8EyERttzkwfwGEtgNv2FHtae1rvR4x8A0Ls848W4vQYAAAAASUVORK5C\n",
       "YII=\n",
       "\" style=\"display:inline;vertical-align:middle;\" /></a>, <a class=\"ProveItLink\" href=\"../__pv_it/demonstrations/847ecb4d628b91a053c2379114751af7d89ba9560/expr.ipynb\"><img src=\"data:image/png;base64,iVBORw0KGgoAAAANSUhEUgAAADYAAAAQBAMAAACvnpHFAAAAMFBMVEX///9UVFSYmJgyMjJERESq\n",
       "qqoQEBDu7u66uroiIiLc3NzMzMxmZmaIiIh2dnYAAADysKFQAAAAAXRSTlMAQObYZgAAAAlwSFlz\n",
       "AAAOxAAADsQBlSsOGwAAANRJREFUGNNjYMAGuJ5Mtl39AKsUw5MkhpqPB7BK8dwA6lHBLreHpYCB\n",
       "gRFV7srMmQYg2p0FZOcFZKnm61CGwxqY0Ls7GyCOM4e5UmAflLWygT2LKwDIYF4AFeF+0ARl5TEw\n",
       "+PAWgOTgvjvQC3XvdwaGw3wg1raZQOAAtm8dRI4NyHv2HMQqgTsK7E4gqAd68z3IOgZOuFwPyH8M\n",
       "DQz8CkB9YBHeCyjhwuvAwCPAwPSeGyxkCtf42K6g1AbkvUsKPG/BIoUeBfB4yJ+zADUc+zwhYQYF\n",
       "AH6TOAHoygR1AAAAAElFTkSuQmCC\n",
       "\" style=\"display:inline;vertical-align:middle;\" /></a>, <a class=\"ProveItLink\" href=\"../__pv_it/demonstrations/6ec7e59bf5a61d2b0f8e36427593260ccbbf50c00/expr.ipynb\"><img src=\"data:image/png;base64,iVBORw0KGgoAAAANSUhEUgAAAEAAAAAUBAMAAADPWCYMAAAAMFBMVEX///92dnYyMjLc3Ny6urpE\n",
       "RERUVFQQEBAiIiKqqqrMzMyYmJhmZmaIiIju7u4AAAD46Ob5AAAAAXRSTlMAQObYZgAAAAlwSFlz\n",
       "AAAOxAAADsQBlSsOGwAAAQ9JREFUKM9jYMADmG9fW4BPnoFNgLcArwKuBYwKDPgBxwaswtztoZ/a\n",
       "o4EMXl0cGpmYE1iy44CMpxewK2BlFmAIWAZyxS/cCg4zMTxfwPwbVeJqR4cCXAErA8cD7joUead7\n",
       "SCbkPWPgkr1mwMB3ZwPDGoYZD0ABp4dkBVekMoTNw1nAkMrg7wByuwFCQVF/7wMI25pHgaEWIseE\n",
       "5EjpfbAwfMB+AegXHhBzeQcQBECtiNsLU+3/ABgjjCDWU2RvroFbeIiBNYBhCTjgkRXwLA6AcsIY\n",
       "OAQYBEAs3gtICvgCdkM5QgzuCSwOYKYmPC74Ehh2szlA/XnwXq40hPks5AE8Ng1Yg35ixoFjRAd6\n",
       "CgEAmPU+DmAjejYAAAAASUVORK5CYII=\n",
       "\" style=\"display:inline;vertical-align:middle;\" /></a>, <a class=\"ProveItLink\" href=\"../../../numbers/ordering/__pv_it/theorems/d1161a35ec5e93268a38333753de2be95580bf530/expr.ipynb\"><img src=\"data:image/png;base64,iVBORw0KGgoAAAANSUhEUgAAADMAAAAQBAMAAABJt1qBAAAAMFBMVEX////MzMxUVFQyMjKqqqoi\n",
       "IiKYmJju7u5EREQQEBC6urqIiIh2dnZmZmbc3NwAAAD0tjQRAAAAAXRSTlMAQObYZgAAAAlwSFlz\n",
       "AAAOxAAADsQBlSsOGwAAAM5JREFUGNNjYMAAqTP6TWckMGAFBo8YFmUUYJVqeMPAwaiAS4r3gQGK\n",
       "0I7QUAO4VAOyzOLtCF1M5SAD+e7s2wAS4DNHMlDC+QGQsfIBx3eQAPMDuNRL068gE9inMfAGgKWQ\n",
       "nJFWDKJ5vzOwHgAxJEOBoAEixVEGsoOzgaF+AUigAkkX4wU7IF1/gCEfLMCK7K+LL0BSDgzNLCAX\n",
       "cG9AkqpgAwYi8wa2WB6wiAk8DIsY2BK0gC7UPvhoI1ikqKsAFvJ2DB32DsjBsaY1FDnkAG+lQFhP\n",
       "+Fl3AAAAAElFTkSuQmCC\n",
       "\" style=\"display:inline;vertical-align:middle;\" /></a>, <a class=\"ProveItLink\" href=\"../__pv_it/demonstrations/450d061e49bf30dd5672dc1e223676b3db2d02890/expr.ipynb\"><img src=\"data:image/png;base64,iVBORw0KGgoAAAANSUhEUgAAADwAAAAUBAMAAAAjLUMaAAAAMFBMVEX///92dnZEREQiIiLMzMy6\n",
       "uroyMjLc3NyYmJgQEBCqqqpUVFRmZmaIiIju7u4AAADo9lGYAAAAAXRSTlMAQObYZgAAAAlwSFlz\n",
       "AAAOxAAADsQBlSsOGwAAAQNJREFUKM9jYMAJ2G/cdsAty8AtwDsBjzSLA2MCAz7A3IBFkMNS6Zul\n",
       "BpDBm4tVExv7BtYdekDGowvYpJnYBRgUvEG2f8ElfZyN4aUD+w9kYV5lYzO4NBMD8wOOeUiyrLkP\n",
       "ELr3vWZgkb1dwMB35wIDN1i87AHCcBatdAibh2sCQz+YlY6we5q9LVRtBU8CwzYwKwEhLdEH4zzg\n",
       "vMAwFxyGk42NjY2ghuv1wtTGP2AHe49PAcljPmwFUM5hBo4PYIYBkjSPO0yxNgOTQh+IcRdJmk+h\n",
       "A8o5zRB5QAAc1AtgYc63gaGDOwDCeS27fC84VfBtioPHWAGT2i/0sGYVggQqEgAA4cY5AzvnUIsA\n",
       "AAAASUVORK5CYII=\n",
       "\" style=\"display:inline;vertical-align:middle;\" /></a> <a class=\"ProveItLink\" href=\"../__pv_it/demonstrations/c8ee3f71f211d4942147a99b324eece3a9e3ec770/proof.ipynb\" style=\"text-decoration: none\">&nbsp;&#x22A2;&nbsp;&nbsp;</a><a class=\"ProveItLink\" href=\"../__pv_it/demonstrations/a92fb56bfee42db04fe197cbcdec1b51128d2f520/expr.ipynb\"><img src=\"data:image/png;base64,iVBORw0KGgoAAAANSUhEUgAAAf4AAAAVBAMAAABVtZHjAAAAMFBMVEX////MzMxUVFREREQiIiK6\n",
       "uroQEBCYmJhmZmYyMjLu7u52dnaqqqqIiIjc3NwAAACFAiZ1AAAAAXRSTlMAQObYZgAAAAlwSFlz\n",
       "AAAOxAAADsQBlSsOGwAABVBJREFUWMOlWF1oHFUU/nY3szuZ2R33RRCLdsEH0VIIkYItNETwoWiU\n",
       "BWuwmJJQKIJSWfDBKhqXEqkxBPZNKEWGBiT+hGz60FLXtCuUIobKVkgNTVoXDVSoD+mDiAGL587s\n",
       "3J+9d3ZXcuDM7jl7vvN9d+bembkLoAnNPD1lKovNdvndk9yIaHZv1Y24m3H+XF3/cUNPmcrIjnZm\n",
       "MaOshnATwow62oOc3o3zr+i/Zat6buX/DLAbakNyA2KlO9UKdmotfqei//SlnjKVBXamE0ccqt8X\n",
       "riPiUGd6kNO7tfjtEs8s1Gq3gi+n9ZRUptrJUM96bVmMhUdxqExZuGoMEYc6qZa1S9R1xOqSNKTF\n",
       "iviUmhXZtwk9lY47jemg4Ws+nFWe41Es6k3J1XYdUGlfKWuXqOuI1SVpOMLjV+iW6uxjLStaSipr\n",
       "n0bsSlhDdJiLVIgoFvWZ5Iod6YDqLyll7RI1HfG6JA0zBF9rIOmjcBmYd+kc23T7W5hFX12kWBm8\n",
       "mTv8hu2slfAIrvpwCxQl3Sac8rdwbj+96zsehSjU1vJiDNTXIcR5CFdsxsAVtQioeJmqmkUjnHnh\n",
       "NBLl7AsxuhQNdBbs7AQ+Qq7pNp2yUw3Pc/Ua0gWRCk7WaDO1zRcgYZ7AeBEZNlnu4DLm8TVs/NyY\n",
       "4lGI2iw6b3v81k19M1vAexAO+/nACvLEkLmiFpmKPH9U1S5Fxzhz+RqSA9ZfMboUDSPAXbuCp5AE\n",
       "lv4ASAVdeK8+TU9BkWJlzhuwhyMBDHMC/U1kWaoA9/EydZjEr80neRSg8BbwbC5auaxvcgC4CuGK\n",
       "jRi4ohbZYblMVf0nRSsRs1eaRrqBz826VA3HAZ9qT8ClU0ojpYudLsKhhFUXKVZmb6OPfV1kl4Ew\n",
       "ift0XpHYQlBxiuYn8tgvRREK0+y78w87UF9iw24IV+y4gStqEVAFbXTVLBqLmBnL7jzKZl2qBkY4\n",
       "7nvBWO4tgUBs/LC2kZNSrCw9gEV28+gLHlrjfm6CsVvsYVGGV8uzcvyrRCEKF9i9AIeCe9A2U4ZR\n",
       "CDeNX+GKWgRUYRtd9biPBmcmlptsvGZdioazdJxi68GGV80V2WD7abXS7HOlFCtbrNJ64zaN1AAe\n",
       "Rjgpy7iHVcZjPcBXImqhcEW8udE0vYm2+S+v/7MGrqiFNP911VPheENmYnkGiWKMLkXDQToO0lje\n",
       "t+q7gFWLeFI0OVIFfA+RYmWLdezP8m3HIJugJCxDFwdjiSpyxTFnX3KLcq0oRD1EN9ML4rRR30H6\n",
       "eEdyxQ4auKIWAZUoU1UPIpvnzMTyIpucZl2KBvYUOIXRchUf02hyK63njFvxKOQpVtbfyBxyuYJL\n",
       "GC1YNEVt9piyX2cv09Xs/fkJktKKQhStzsyVhLj+Betv+piVXLHzBq6ohd1QylTVl+jicma3Yh3D\n",
       "q3G6FA2H6Xhu+ae9eaTYm8QBtkbZPJt5l12tKMXKnL1Lv90QA5m5tfciW6HBVQreLHxntvHDBzwK\n",
       "Uaj9UrKXxSvonrUH9PGy5IodNnG1WvQ1lTJVtX2xJDF/snxuvRSnS9HQJ15OPnw0sR58eU5PSWWq\n",
       "bYYv0zf8x8SmkUcmlEu3dG9YuGoMEce1qZa1S9R1xOqSNEhbEOf6ht+20eApfafSstZe6ZvbP0rJ\n",
       "KNJR0/iiLnY5+k7HvCtC27bMqNqgw6xL1TCkE6UMf64MxfyNMtBxk6mhXsIeOv4uuQEx1J1qaAc7\n",
       "X1XDnGHbbhjUnLlXyu9IpaGur7HH+gHJDYi57lRzOxi/qsEz7LbvGs6+eVM+2eVfNiMq0xRuQphR\n",
       "kz3I6d1a/P8BX2ZXBqsKKRwAAAAASUVORK5CYII=\n",
       "\" style=\"display:inline;vertical-align:middle;\" /></a></span>"
      ],
      "text/plain": [
       "{x in Real^{3}, y in Real^{3}, v in Real^{3}, alpha in Complex, w in Real^{3}, a in Real, u in Real^{3}} |- (u otimes (v otimes (a * w) otimes x otimes (alpha * y))) = ((a * alpha) * (u otimes v otimes w otimes x otimes y))"
      ]
     },
     "execution_count": 29,
     "metadata": {},
     "output_type": "execute_result"
    }
   ],
   "source": [
    "tensor_prod_04.simplification()"
   ]
  },
  {
   "cell_type": "markdown",
   "metadata": {},
   "source": [
    "### The `TensorProd.association()` and `TensorProd.disassociation()` methods"
   ]
  },
  {
   "cell_type": "code",
   "execution_count": 30,
   "metadata": {},
   "outputs": [
    {
     "name": "stdout",
     "output_type": "stream",
     "text": [
      "Help on function association in module proveit.linear_algebra.tensors.tensor_prod:\n",
      "\n",
      "association(self, start_idx, length, *, field=None, **defaults_config)\n",
      "    Given vector operands, deduce that this expression is equal \n",
      "    to a form in which operands in the\n",
      "    range [start_idx, start_idx+length) are grouped together.\n",
      "    For example, (a ⊗ b ⊗ ... ⊗ y ⊗ z) = \n",
      "        (a ⊗ b ... ⊗ (l ⊗ ... ⊗ m) ⊗ ... ⊗ y ⊗ z)\n",
      "    \n",
      "    For this to work, the operands must be known to be in\n",
      "    vector spaces of a common field.  If the field is not specified,\n",
      "    then VecSpaces.default_field is used.\n",
      "    \n",
      "    Keyword arguments are accepted for temporarily changing any\n",
      "    of the attributes of proveit.defaults.\n",
      "    \n",
      "    'associated' returns the right-hand side of 'association'.\n",
      "    'associate', called on an InnerExpr of a Judgment,\n",
      "    substitutes the right-hand side of 'association' for\n",
      "    the inner expression.\n",
      "\n"
     ]
    }
   ],
   "source": [
    "help(TensorProd.association)"
   ]
  },
  {
   "cell_type": "code",
   "execution_count": 31,
   "metadata": {},
   "outputs": [
    {
     "name": "stdout",
     "output_type": "stream",
     "text": [
      "Help on function disassociation in module proveit.linear_algebra.tensors.tensor_prod:\n",
      "\n",
      "disassociation(self, idx, *, field=None, **defaults_config)\n",
      "    Given vector operands, deduce that this expression is equal \n",
      "    to a form in which the operand\n",
      "    at index idx is no longer grouped together.\n",
      "    For example, (a ⊗ b ... ⊗ (l ⊗ ... ⊗ m) ⊗ ... ⊗ y⊗ z) \n",
      "        = (a ⊗ b ⊗ ... ⊗ y ⊗ z)\n",
      "    \n",
      "    For this to work, the operands must be known to be in\n",
      "    vector spaces of a common field.  If the field is not specified,\n",
      "    then VecSpaces.default_field is used.\n",
      "    \n",
      "    Keyword arguments are accepted for temporarily changing any\n",
      "    of the attributes of proveit.defaults.\n",
      "    \n",
      "    'disassociated' returns the right-hand side of 'disassociation'.\n",
      "    'disassociate', called on an InnerExpr of a Judgment,\n",
      "    substitutes the right-hand side of 'disassociation' for\n",
      "    the inner expression.\n",
      "\n"
     ]
    }
   ],
   "source": [
    "help(TensorProd.disassociation)"
   ]
  },
  {
   "cell_type": "code",
   "execution_count": 32,
   "metadata": {},
   "outputs": [
    {
     "data": {
      "text/html": [
       "<span style=\"font-size:20px;\"><a class=\"ProveItLink\" href=\"../__pv_it/demonstrations/dde1d4f2078c26e6f5a3cdac6b6317d93bb148b10/expr.ipynb\"><img src=\"data:image/png;base64,iVBORw0KGgoAAAANSUhEUgAAADwAAAAUBAMAAAAjLUMaAAAAMFBMVEX///8QEBC6uroyMjJERETc\n",
       "3NyYmJgiIiJmZmaqqqp2dnbMzMxUVFSIiIju7u4AAAAoIwv1AAAAAXRSTlMAQObYZgAAAAlwSFlz\n",
       "AAAOxAAADsQBlSsOGwAAAQBJREFUKM9jYMAJWK/d2YBbloFnAa8AHmnuDVwGDPgAewIWQbZCl8+F\n",
       "bkAGry1WTcysB5iO+QEZTy5gk2ZhXcDgsAdk+29c0q3MDA83sH5DFuZ1Ly+GS7MwsD9gk0OSZbJ9\n",
       "gNB97g0D99o7AQwMb++8XjUBJBr8AGE4t6cplNPAe5ajAMQwRdgtXF8LVcsWwPuVB+x9A4T0sjwY\n",
       "h5uBBcLkFi8vLy+BGu6XC3cSP8TzfA5IHtvBHADj6QfwgS0qQJLm2ApV/EThPAMXmHUXSZrPIQ3C\n",
       "nr+vkUETEtQTYGHOd4AhjUcBzH5xl7MNIs53RA8eYwEszj/Rw5ppCSRQkQAAJb9CckuUpZkAAAAA\n",
       "SUVORK5CYII=\n",
       "\" style=\"display:inline;vertical-align:middle;\" /></a>, <a class=\"ProveItLink\" href=\"../__pv_it/demonstrations/466ee2cdb42dd7aa4325c81eaaa360baf592b2c50/expr.ipynb\"><img src=\"data:image/png;base64,iVBORw0KGgoAAAANSUhEUgAAADwAAAAUBAMAAAAjLUMaAAAAMFBMVEX///+YmJjMzMxERES6uroy\n",
       "MjLc3NxUVFQQEBB2dnaqqqoiIiJmZmaIiIju7u4AAADZrpoSAAAAAXRSTlMAQObYZgAAAAlwSFlz\n",
       "AAAOxAAADsQBlSsOGwAAAPpJREFUKM9jYMAJ2C5eV8Aty8A+gbcBjzSTAmcAAz7ALYBFkHGH8dcd\n",
       "hkAGbyxWTaxsBSyFdkDG4wvYpJnZJjAYqINs/4RL+hgrwwsFto/Iwpd37w6ASzMzcD9g7EOSdb2H\n",
       "pLvuOQPT3OsJDHx3LjDsAgdSHJLhTFZhEDYnVwNDO9i9CQjp1v17H0DYWTwBDCvB0khOmygHC68H\n",
       "HBcYvEAMjd1AYAA13E4Wptb/AQPY94+RPaYDt+o0A8MEcAAjS/OoGUA55gxc4GjlvYAkzWcgCOVM\n",
       "ZciEMKLgYc5XwCDI7gDh8EyERttzkwfwGEtgNv2FHtae1rvR4x8A0Ls848W4vQYAAAAASUVORK5C\n",
       "YII=\n",
       "\" style=\"display:inline;vertical-align:middle;\" /></a>, <a class=\"ProveItLink\" href=\"../__pv_it/demonstrations/6ec7e59bf5a61d2b0f8e36427593260ccbbf50c00/expr.ipynb\"><img src=\"data:image/png;base64,iVBORw0KGgoAAAANSUhEUgAAAEAAAAAUBAMAAADPWCYMAAAAMFBMVEX///92dnYyMjLc3Ny6urpE\n",
       "RERUVFQQEBAiIiKqqqrMzMyYmJhmZmaIiIju7u4AAAD46Ob5AAAAAXRSTlMAQObYZgAAAAlwSFlz\n",
       "AAAOxAAADsQBlSsOGwAAAQ9JREFUKM9jYMADmG9fW4BPnoFNgLcArwKuBYwKDPgBxwaswtztoZ/a\n",
       "o4EMXl0cGpmYE1iy44CMpxewK2BlFmAIWAZyxS/cCg4zMTxfwPwbVeJqR4cCXAErA8cD7joUead7\n",
       "SCbkPWPgkr1mwMB3ZwPDGoYZD0ABp4dkBVekMoTNw1nAkMrg7wByuwFCQVF/7wMI25pHgaEWIseE\n",
       "5EjpfbAwfMB+AegXHhBzeQcQBECtiNsLU+3/ABgjjCDWU2RvroFbeIiBNYBhCTjgkRXwLA6AcsIY\n",
       "OAQYBEAs3gtICvgCdkM5QgzuCSwOYKYmPC74Ehh2szlA/XnwXq40hPks5AE8Ng1Yg35ixoFjRAd6\n",
       "CgEAmPU+DmAjejYAAAAASUVORK5CYII=\n",
       "\" style=\"display:inline;vertical-align:middle;\" /></a>, <a class=\"ProveItLink\" href=\"../__pv_it/demonstrations/d89738c341c6afefcd7635c7e63883c5f26a85090/expr.ipynb\"><img src=\"data:image/png;base64,iVBORw0KGgoAAAANSUhEUgAAADsAAAAUBAMAAADB8VhjAAAAMFBMVEX///8QEBCqqqpUVFS6urru\n",
       "7u5mZmZERER2dnaIiIgyMjKYmJjc3NwiIiLMzMwAAAC+/aJUAAAAAXRSTlMAQObYZgAAAAlwSFlz\n",
       "AAAOxAAADsQBlSsOGwAAAPZJREFUKM9jYMAJTu60Y8ADLBgm4pN+x9DFgBfcxia4V7x+rfgGIGPW\n",
       "BKyaFhxmcN4ewMDAWolVuuAEAzufAZDx/gEOabYDC1jlGM5vQBLlrL17CyFdwHCVYWMAQpZlZQBC\n",
       "N3OoAcOLmTZADt/dB6dBgqcCkAx/rnUAyuGaUZkAotcg7D649u9UGOcoAwfEO0hO2x2FsJQ1FUTy\n",
       "yd69e/c6VJo9GhEiJyCKCpB08yXArWKZwAB21AVkf+cdh3G8GRhAIcQwE1k6nBsaInwVlb3gsONS\n",
       "gId5MAP3BhMIm4NBcQnEcnNXeIytYShfr4AW1Czt0EBFAgBwE0sSXhusiwAAAABJRU5ErkJggg==\n",
       "\" style=\"display:inline;vertical-align:middle;\" /></a>, <a class=\"ProveItLink\" href=\"../__pv_it/demonstrations/3eae5e83afb7c78544491350ec3893081ee061460/expr.ipynb\"><img src=\"data:image/png;base64,iVBORw0KGgoAAAANSUhEUgAAAJkAAAAaBAMAAABWVuP/AAAAMFBMVEX///+IiIgiIiIQEBB2dnbu\n",
       "7u5UVFTMzMzc3NwyMjK6urpmZmaYmJiqqqpEREQAAACk/Np2AAAAAXRSTlMAQObYZgAAAAlwSFlz\n",
       "AAAOxAAADsQBlSsOGwAAAuVJREFUOMutVU1oE0EUfom7ze4mWaOBXKxS04OWgoaiBw/CKuhBtKwo\n",
       "ggfNehApaogXETwkIgqCtOlB8RAloJ6bglgVkRRRUIvEHiwEwSjkYLFBD6UICr43M5ns0iXJoQN5\n",
       "+2bey/d+5w3AGiytP5HtQa3WG1qfFUiB0k0rWu4NLZRVChCqd9E66QpGEt8VrADMdkH72WY3EzFi\n",
       "XnlksPlnkJQCk4RoAzD/vvgnN8U+Tw5gzBb+pcwxXUvXHONCA5nTaCfgALyg03u+aGGLqHJuL485\n",
       "aIFuezVMzYL6ZcrcCoC6DEC85p/A9SWi62po/KUIrbwa7ZkOx7LaX9wVgZlTqr5oOebJFNGUONrN\n",
       "P4HvySGJZmLGIiR4heawGrp/ETYyup/SXxBHRUaNSbvt29kTENqXyOMujr+RZHKXP9oYkbcj53kG\n",
       "j07j7iAT3LLbkYaWZNIpihkATIyaX43WZPQ31Q4DsB4i8w48RTO1PTu3ysrk8HrdBA1Lq/BWCg0f\n",
       "grgjpHdZm6xQOaugVZ8jM88EhTba4TdyAxNYNdNWSnx3KbMInxU73DI2zG7XL6prCVTmZI6ZxOQk\n",
       "d4hIG+0rkEacaEwUITxDfRwry+vLfFMGOBpEsZ2AogW17uqQq7rM0QQNkgKiGwmAfjpZqF3zopkU\n",
       "t44tpDsy0gEXWviKxM4R7pE76EHa5hYXlFOPWtIMa15KqIkkXcXCfmSCDS40tT7nrilcR6M35sGo\n",
       "MDQob2lJ49J9BVWmNFSY5tez1e266sBcn0g7vGYGSP8bRB40m0uIdlz32PrK2hVjMykT25lAzTyW\n",
       "MyRv/vgn9J+2/qguZ0MW98341Dqk3AuVbWKqiIwZo/xmeVdRTtmCRT0M8B4g4ZohUec+Yz+Ik0qH\n",
       "aUgzRHBn8jCOERtDWTDlgE5BsMGb0+RtMN5ptkYcD/Zoc9ErvwiRTRxGtFijE1ow3/O7cJtZ76g/\n",
       "u0ZvFq9Qtzer1/eULQX76T9ROajxzOdZdQAAAABJRU5ErkJggg==\n",
       "\" style=\"display:inline;vertical-align:middle;\" /></a>, <a class=\"ProveItLink\" href=\"../__pv_it/demonstrations/450d061e49bf30dd5672dc1e223676b3db2d02890/expr.ipynb\"><img src=\"data:image/png;base64,iVBORw0KGgoAAAANSUhEUgAAADwAAAAUBAMAAAAjLUMaAAAAMFBMVEX///92dnZEREQiIiLMzMy6\n",
       "uroyMjLc3NyYmJgQEBCqqqpUVFRmZmaIiIju7u4AAADo9lGYAAAAAXRSTlMAQObYZgAAAAlwSFlz\n",
       "AAAOxAAADsQBlSsOGwAAAQNJREFUKM9jYMAJ2G/cdsAty8AtwDsBjzSLA2MCAz7A3IBFkMNS6Zul\n",
       "BpDBm4tVExv7BtYdekDGowvYpJnYBRgUvEG2f8ElfZyN4aUD+w9kYV5lYzO4NBMD8wOOeUiyrLkP\n",
       "ELr3vWZgkb1dwMB35wIDN1i87AHCcBatdAibh2sCQz+YlY6we5q9LVRtBU8CwzYwKwEhLdEH4zzg\n",
       "vMAwFxyGk42NjY2ghuv1wtTGP2AHe49PAcljPmwFUM5hBo4PYIYBkjSPO0yxNgOTQh+IcRdJmk+h\n",
       "A8o5zRB5QAAc1AtgYc63gaGDOwDCeS27fC84VfBtioPHWAGT2i/0sGYVggQqEgAA4cY5AzvnUIsA\n",
       "AAAASUVORK5CYII=\n",
       "\" style=\"display:inline;vertical-align:middle;\" /></a> <a class=\"ProveItLink\" href=\"../__pv_it/demonstrations/0cfac95de705bfd7a44f8ec1bf7b619cd55e2c6c0/proof.ipynb\" style=\"text-decoration: none\">&nbsp;&#x22A2;&nbsp;&nbsp;</a><a class=\"ProveItLink\" href=\"../__pv_it/demonstrations/cbd292f5e40a463bd3782bf18c1b4a81cebbc7060/expr.ipynb\"><img src=\"data:image/png;base64,iVBORw0KGgoAAAANSUhEUgAAAm0AAAA/BAMAAABA/OJYAAAAMFBMVEX///92dna6urpEREQiIiKq\n",
       "qqpUVFTu7u7c3NwQEBDMzMwyMjKYmJiIiIhmZmYAAABAteJjAAAAAXRSTlMAQObYZgAAAAlwSFlz\n",
       "AAAOxAAADsQBlSsOGwAAC/xJREFUeNqlnH+MHGUZx5+du73Zu92d7glSQmluBWtSpN6VJlSiTa8B\n",
       "RJvILaZRq9FbYwR/1S4g1YrtbhFsTIh3MRTE2t6CJsofeBcFNSmmG40KQby9Ygsltt1qUzSl3rW0\n",
       "XHtcWd935n3fmdl7n3fe2fdNuOv7nbff5zPPzPtrZigALafBuGhYpG6T6w+W2vBtC9mpR7fhNAht\n",
       "UM5MGKeNW+y45o94o5flcnYg2ldXV5cX2bm/6/o82kbQvBx5Ek9VjPPGLZafy+GNOpBjK6N9dXVl\n",
       "6fmx99saW6dotVJN68v2T43TJiyuU7baJde3FiJ9NXV12VpjeasqWxWUtL7smHdTYXHdMtVgtVF+\n",
       "MPlYpK+mri6n2G/ryU8pWgkahFbI41XjvAmL9+38kqJZZ0Ou3x7pq6mru+kcz9uXtxQU7W5X0wr5\n",
       "t+azacBiXHUpL8j14Uq0r5auLOmin8IZRTtOg9ByGTuZGMW3KEA5r2j4G+SMBuLluT1kcXWSYJ9V\n",
       "5XdATcvkzgHjvPkWczCimumG5f0rORflq6ery838D4uqKVXiBQ1Cy+TxgvnwJixycEjVsBsZ4PZG\n",
       "+erp6uHtPP9TArJFVcu9alombzYf3nyLu6dyynkXGVemo3z1dGXpErHtpb3KltNqWk+23zFfvWlb\n",
       "WPNyvb8Wx7c95HJDtyWnQWg9OTNnvsnSt9iN9N+JOL7tIU9qr10EzW7FSXTMGOcthsW0fNZwLsTx\n",
       "bQ95rf4q/oKa1pUXmU+nMSyGa/IpbD6Ob3vIb+ovq+bVtK7cnzPOWwyLEflElnorjm9byNYZ7aaC\n",
       "BqF15em8cd5iWHSPyvXH4/i2heyc1W/7uJrWlfeXjPPmWexv+uUSOhTOIoNPCfXV19W7rFltSEGD\n",
       "0LryOfPlm2cx3PQmLPuBQ2MXsabZ83L9WAH11dfVg/CgNqSgQWipnHrTOG3Moqs5KBYKQ9iCPoks\n",
       "vYYbqK+2HjGyDmhDChqElspJ82UvtxjyB3cHm/F6kHMeH9DPcXvILBc6kIIGoaVy9pJx3rjFeNOf\n",
       "tv8TOF4RP0j/QPpYeRD31dXV5VhdCZkSPwI0CC2VnfPGeeMW2aa/es0ETtPtDitYrYmMPjO4r64e\n",
       "MekXVJBw0F2r1FtoEFoid5hvs4TF2gWX5/higDvI76MsewBj8rmwe1bhq6lHbBeqGKTTW4IkWRJm\n",
       "G172AjQILZHT5k8thcXWZsvonvjqLrDpZm8dwO/YGqKi9ojQVHrEYqmCQMIVTxXgfvK7MwfpUjgC\n",
       "Qkvk8IXe1tv7it+Np3qXBvMdrvs1YWE1W3pQ9ydWg8PGk7+zy52XRCL30Nmoe1AST2aEQYpbZwEk\n",
       "7Lq2BG+wntsI0zDa1kwQOTSwWK8TDrEY/0AJ7AOBo+G6X/Mt+i6G7+t+Uu3mWfAObS5IIpH1wfmo\n",
       "MU8WT2KEQfpDVSukRS8D3xg8FqZhtK2ZIHII4lpyW9o3cL8Pkh/3+kjheqDmW6Sb4edBl5P/3s+P\n",
       "1YIkoUg6eZPGW2iEQvp5a4VMkMnT4tJzsry1ZsLPm320Dl0lKF4JsD1RorVboStRAbuxGLa9AT2N\n",
       "5G2ibh+564l3i1roPOyx0Ob5L498g0wNnjskvD3ytJc+Fgl6bqk+7I7N82jetp0GuEsSj+idBR+5\n",
       "Br+CDSUU0s9bC2TmKx9pgJPz4sAVEKLxaIXNz9enakwuuxBOchQmIVtJVOyGnUuQ2qPwKlwJ2+Fu\n",
       "aGyErgHrrKg7cKh+QtToase//nwbw8ol7womrFHxRYdHwiNBempNI0Dq3OIWL8XMl8TPzEji5TZC\n",
       "d5Eb0RP4IvTnUUi7iUEuqnudIbcc+BckLXkTNn+47CiXy27PftiZgK9BF8BVPyT3wkOkdgcUIfHL\n",
       "BnSlaqeguw6/53V4Ho5Vvi5q9Dz8pwZOM/jqPUUXDLcCUD9IemvJPneJxCPBTkh4nUWylvV8afyu\n",
       "iYXxUoVTZPXAjegJ7IF0BYW0LyKQMEKySG5c6gewIUzj0XKbVAlyXPYgSiQze+gpOORS52htGW1y\n",
       "kljY5MB4FRq8DlX4EL3arBbOGwwFzz9Jb4wfEXd6SdmrXo+ERyLn83pE3mh8wrMgHtWtQgC5Z47c\n",
       "ZShkIG9hSBimk1ae+FF1XJY332Z7KZw3MvOlaFjYcRXpGHQerJNfqd4q0ch8c5j+XV73up9fC+Vt\n",
       "ZLBlxKV5g2ESzhoNkIhIsAMi8kbjj1Ql8YieDSJnR8mpoZDBvIUg3cmL5A2SdF5dLsubsEnlhMwG\n",
       "2RN0DHHIgWyeNDvh5WkHHCAa6QGroCcv6mBdgG/5tfD8dji4UOyg49Sz4H2WwPqpN2KISGRnU8LG\n",
       "N+brDJKhVxKP6Anf6BR0DMCTOGRwyxSChBvpHFtgn0FskI1vwmYFuSuZzCBuJGH/ahWeADhgFUgt\n",
       "WYVlPTnI5pfRs19Hb1JWt2/omiFZ5UfDebNCW6BuerXWkGt9nvz1zECARES6no4e6vmUxF+VKS2M\n",
       "R/TPQACZLPdzOGQgb2FI0t2JFyEtF8jd9CdZ3riNVfPGykDeTsLyRg7+RXdpZD+5hHYf5z10u5uD\n",
       "xIT1KFwj6sm57aOEkx8N5y38Ip2OuHRmt2YeFt+IsvUbi9Szcs3l1Yj1m1O09iYk8RITtNv4yMuL\n",
       "Vh6HDOQtDOlOXnSR1E/XGKdl6zdu87PLptZzuduD2LL005uq0EEXkatJw6tpnt3VHulF/1u6Zcqv\n",
       "26frn/9z4ChwCzqI7IHWERfeS+858tc7vc6x1oNmkRKw8ddeXZI35mt/4eD3X5PFO/433wic469s\n",
       "uloBCWMIpDt5WWQQ6fgn+cNHwzSMltnkkrvzXO4MbfZe+kXPlL8ifK30dPDNUbju13yLdHjLfNI9\n",
       "yhZLD4YfS4QiyZ9xhNFk8SRGGCQMleSQjjtOrGc332DLE56qNBNE7gg9XLA/dzCwebvvSPi7xHBd\n",
       "1HyLVaELWXw2sFXmO+ehiiwSdEqecYTRZPEkRhgkrK3IIOGT6ULgqQN7CCFoOG1LJogc5/VY1Bs2\n",
       "x/9GPUmCr54QNzm5kuzR8xjyfnBG/81de8j85WEYEm6+X4wbpHyvhQahJXJi3jhvwuIFf34ng0vm\n",
       "qFe91wNjNwXyEmnRqMJXU1eXvpoMEl7yHpbb3mVd3UKD0BI5c8Y4b9wiML8nA2nwtsLPswryfmFk\n",
       "EPfV1dVlMqeCBPfpQqYSpkFoqWy9ZZw3bjEi5nd7uhHRtrX0F/XbtofMIuhAChokEpXtt43zxiz8\n",
       "+f2hzeEnDsF7BXkXNVlHfbV1dSlPaEMKGoTWlYeM88Ys0m/vc8vHms0m+kbdQd6pTFdRX31dWTpn\n",
       "tCEFDULrysg3XrGmKtdiOvDpBTpyp5FP1/bjvvq6eta/oA0paBBaV56sGecthsWiQbl+Lo5vW8iZ\n",
       "GLPwOTWtK480jPMWw2Jc/ulaz5k4vm0hp/S/jhA0CK0rdw8a5y2GxTH5WJydi+PbHvIj2i0FDULr\n",
       "yolZ84WvvsVNcrljNI5ve8h92l/NCZqbFCeRMv+whlnY0cO1jSy9ykWFr7YeMZp4i4tvayxZikpa\n",
       "Ju8zX4h4Fgm+BrNfRAdnZBmCfCO/TxkvZkl72+WlvP5d9P/F5DQILZMnzRciLRZP/wNlR0amZ7R8\n",
       "I3X1hBp+vNJzBB0ln1HTMrls/kF5q8UGtK/IVxCpeT3fKF09RrTM2Uksb4IGoWWyM2r+JIlaWIei\n",
       "89aHDPQzCt8Yurr8l/5YUYzMm6DpU56EbT4xuBaJcslZRcqH8bxhocr1eO3bQ3ajLJ6Ff1PKGp43\n",
       "ToNEEfJh84mBWuzcEHm/OQjqCZVvHF29LCN3aeq+wcj77YSaVsiddeO8dbI3fhF5G8nLB5SzSt8Y\n",
       "urp8HLw3fuq8CRqEVsiW+SeX1MKerUb10zvlcldR5RtHV5d+Mg2XvxPVTwXNnVEnscS8oxKL5EQu\n",
       "4n7LIP/exQsllW8sXb2vISu2zyai7jdOg9AG5A7zjkos7E18VbVjv/xfL/qBfHWb+onSN5auLmQk\n",
       "2fIqj7rknbqSBqENyPZ68xlVx+I5ZDFci+/bHvI3qxrbipqaNig/YN5RNSxs+TgL97Tj2xZyKh/d\n",
       "5h41LZP/D8ltuDkW+n+DAAAAAElFTkSuQmCC\n",
       "\" style=\"display:inline;vertical-align:middle;\" /></a></span>"
      ],
      "text/plain": [
       "{x in Real^{3}, v in Real^{3}, w in Real^{3}, z in Real^{3}, forall_{i in Natural} (f(i) in Real^{3}), u in Real^{3}} |- (u otimes v otimes w otimes x otimes (Sum_{i=1}^{5} f(i)) otimes z) = (u otimes (v otimes w otimes x otimes (Sum_{i=1}^{5} f(i))) otimes z)"
      ]
     },
     "execution_count": 32,
     "metadata": {},
     "output_type": "execute_result"
    }
   ],
   "source": [
    "tensor_prod_with_sum_04.association(1, 4)"
   ]
  },
  {
   "cell_type": "code",
   "execution_count": 33,
   "metadata": {},
   "outputs": [
    {
     "data": {
      "text/html": [
       "<span style=\"font-size:20px;\"><a class=\"ProveItLink\" href=\"../__pv_it/demonstrations/dde1d4f2078c26e6f5a3cdac6b6317d93bb148b10/expr.ipynb\"><img src=\"data:image/png;base64,iVBORw0KGgoAAAANSUhEUgAAADwAAAAUBAMAAAAjLUMaAAAAMFBMVEX///8QEBC6uroyMjJERETc\n",
       "3NyYmJgiIiJmZmaqqqp2dnbMzMxUVFSIiIju7u4AAAAoIwv1AAAAAXRSTlMAQObYZgAAAAlwSFlz\n",
       "AAAOxAAADsQBlSsOGwAAAQBJREFUKM9jYMAJWK/d2YBbloFnAa8AHmnuDVwGDPgAewIWQbZCl8+F\n",
       "bkAGry1WTcysB5iO+QEZTy5gk2ZhXcDgsAdk+29c0q3MDA83sH5DFuZ1Ly+GS7MwsD9gk0OSZbJ9\n",
       "gNB97g0D99o7AQwMb++8XjUBJBr8AGE4t6cplNPAe5ajAMQwRdgtXF8LVcsWwPuVB+x9A4T0sjwY\n",
       "h5uBBcLkFi8vLy+BGu6XC3cSP8TzfA5IHtvBHADj6QfwgS0qQJLm2ApV/EThPAMXmHUXSZrPIQ3C\n",
       "nr+vkUETEtQTYGHOd4AhjUcBzH5xl7MNIs53RA8eYwEszj/Rw5ppCSRQkQAAJb9CckuUpZkAAAAA\n",
       "SUVORK5CYII=\n",
       "\" style=\"display:inline;vertical-align:middle;\" /></a>, <a class=\"ProveItLink\" href=\"../__pv_it/demonstrations/c7c7b48f57deafb1d4972830b299b289ce6f8f9f0/expr.ipynb\"><img src=\"data:image/png;base64,iVBORw0KGgoAAAANSUhEUgAAADwAAAAXBAMAAACluTG0AAAAMFBMVEX///8iIiLMzMy6urpEREQy\n",
       "MjLc3NyYmJgQEBCqqqp2dnZUVFRmZmaIiIju7u4AAACJ/BCYAAAAAXRSTlMAQObYZgAAAAlwSFlz\n",
       "AAAOxAAADsQBlSsOGwAAAQ1JREFUKM9jYMAJ2K7fVsAty8C9gLcBjzSTAlcAAz7AWIBFkF3C5auE\n",
       "O5DBG4tVEyvbBubtfkDGkwvYpFnYFjA4aINs/4RL+hgrwwsFtu/IwlcEBQPg0iwMjA/Y+5BkTe8h\n",
       "6d73moFp7e0EBr47FxhegwMpDslwJs8wCJuLs4GhHuzeBIR0q7zsAwg7kyeAYQtYGslpy+tg4fWA\n",
       "4wJDL4ihIQgEDlDD/Wphau0fQLz3BNljOnCrjjJAIoYRWZpHzQHK8WZg2QCieS8gSfM5lEM5pxns\n",
       "IRETCQ9zvg0M5dwGEM7rtech9rx2fgCPsQQW158w1UuhtJWjIEb88wTwdeJLERe4F+CR5rx7GI8s\n",
       "AJehQg5xLz5NAAAAAElFTkSuQmCC\n",
       "\" style=\"display:inline;vertical-align:middle;\" /></a>, <a class=\"ProveItLink\" href=\"../__pv_it/demonstrations/466ee2cdb42dd7aa4325c81eaaa360baf592b2c50/expr.ipynb\"><img src=\"data:image/png;base64,iVBORw0KGgoAAAANSUhEUgAAADwAAAAUBAMAAAAjLUMaAAAAMFBMVEX///+YmJjMzMxERES6uroy\n",
       "MjLc3NxUVFQQEBB2dnaqqqoiIiJmZmaIiIju7u4AAADZrpoSAAAAAXRSTlMAQObYZgAAAAlwSFlz\n",
       "AAAOxAAADsQBlSsOGwAAAPpJREFUKM9jYMAJ2C5eV8Aty8A+gbcBjzSTAmcAAz7ALYBFkHGH8dcd\n",
       "hkAGbyxWTaxsBSyFdkDG4wvYpJnZJjAYqINs/4RL+hgrwwsFto/Iwpd37w6ASzMzcD9g7EOSdb2H\n",
       "pLvuOQPT3OsJDHx3LjDsAgdSHJLhTFZhEDYnVwNDO9i9CQjp1v17H0DYWTwBDCvB0khOmygHC68H\n",
       "HBcYvEAMjd1AYAA13E4Wptb/AQPY94+RPaYDt+o0A8MEcAAjS/OoGUA55gxc4GjlvYAkzWcgCOVM\n",
       "ZciEMKLgYc5XwCDI7gDh8EyERttzkwfwGEtgNv2FHtae1rvR4x8A0Ls848W4vQYAAAAASUVORK5C\n",
       "YII=\n",
       "\" style=\"display:inline;vertical-align:middle;\" /></a>, <a class=\"ProveItLink\" href=\"../__pv_it/demonstrations/847ecb4d628b91a053c2379114751af7d89ba9560/expr.ipynb\"><img src=\"data:image/png;base64,iVBORw0KGgoAAAANSUhEUgAAADYAAAAQBAMAAACvnpHFAAAAMFBMVEX///9UVFSYmJgyMjJERESq\n",
       "qqoQEBDu7u66uroiIiLc3NzMzMxmZmaIiIh2dnYAAADysKFQAAAAAXRSTlMAQObYZgAAAAlwSFlz\n",
       "AAAOxAAADsQBlSsOGwAAANRJREFUGNNjYMAGuJ5Mtl39AKsUw5MkhpqPB7BK8dwA6lHBLreHpYCB\n",
       "gRFV7srMmQYg2p0FZOcFZKnm61CGwxqY0Ls7GyCOM4e5UmAflLWygT2LKwDIYF4AFeF+0ARl5TEw\n",
       "+PAWgOTgvjvQC3XvdwaGw3wg1raZQOAAtm8dRI4NyHv2HMQqgTsK7E4gqAd68z3IOgZOuFwPyH8M\n",
       "DQz8CkB9YBHeCyjhwuvAwCPAwPSeGyxkCtf42K6g1AbkvUsKPG/BIoUeBfB4yJ+zADUc+zwhYQYF\n",
       "AH6TOAHoygR1AAAAAElFTkSuQmCC\n",
       "\" style=\"display:inline;vertical-align:middle;\" /></a>, <a class=\"ProveItLink\" href=\"../__pv_it/demonstrations/6ec7e59bf5a61d2b0f8e36427593260ccbbf50c00/expr.ipynb\"><img src=\"data:image/png;base64,iVBORw0KGgoAAAANSUhEUgAAAEAAAAAUBAMAAADPWCYMAAAAMFBMVEX///92dnYyMjLc3Ny6urpE\n",
       "RERUVFQQEBAiIiKqqqrMzMyYmJhmZmaIiIju7u4AAAD46Ob5AAAAAXRSTlMAQObYZgAAAAlwSFlz\n",
       "AAAOxAAADsQBlSsOGwAAAQ9JREFUKM9jYMADmG9fW4BPnoFNgLcArwKuBYwKDPgBxwaswtztoZ/a\n",
       "o4EMXl0cGpmYE1iy44CMpxewK2BlFmAIWAZyxS/cCg4zMTxfwPwbVeJqR4cCXAErA8cD7joUead7\n",
       "SCbkPWPgkr1mwMB3ZwPDGoYZD0ABp4dkBVekMoTNw1nAkMrg7wByuwFCQVF/7wMI25pHgaEWIseE\n",
       "5EjpfbAwfMB+AegXHhBzeQcQBECtiNsLU+3/ABgjjCDWU2RvroFbeIiBNYBhCTjgkRXwLA6AcsIY\n",
       "OAQYBEAs3gtICvgCdkM5QgzuCSwOYKYmPC74Ehh2szlA/XnwXq40hPks5AE8Ng1Yg35ixoFjRAd6\n",
       "CgEAmPU+DmAjejYAAAAASUVORK5CYII=\n",
       "\" style=\"display:inline;vertical-align:middle;\" /></a>, <a class=\"ProveItLink\" href=\"../../../numbers/ordering/__pv_it/theorems/d1161a35ec5e93268a38333753de2be95580bf530/expr.ipynb\"><img src=\"data:image/png;base64,iVBORw0KGgoAAAANSUhEUgAAADMAAAAQBAMAAABJt1qBAAAAMFBMVEX////MzMxUVFQyMjKqqqoi\n",
       "IiKYmJju7u5EREQQEBC6urqIiIh2dnZmZmbc3NwAAAD0tjQRAAAAAXRSTlMAQObYZgAAAAlwSFlz\n",
       "AAAOxAAADsQBlSsOGwAAAM5JREFUGNNjYMAAqTP6TWckMGAFBo8YFmUUYJVqeMPAwaiAS4r3gQGK\n",
       "0I7QUAO4VAOyzOLtCF1M5SAD+e7s2wAS4DNHMlDC+QGQsfIBx3eQAPMDuNRL068gE9inMfAGgKWQ\n",
       "nJFWDKJ5vzOwHgAxJEOBoAEixVEGsoOzgaF+AUigAkkX4wU7IF1/gCEfLMCK7K+LL0BSDgzNLCAX\n",
       "cG9AkqpgAwYi8wa2WB6wiAk8DIsY2BK0gC7UPvhoI1ikqKsAFvJ2DB32DsjBsaY1FDnkAG+lQFhP\n",
       "+Fl3AAAAAElFTkSuQmCC\n",
       "\" style=\"display:inline;vertical-align:middle;\" /></a>, <a class=\"ProveItLink\" href=\"../__pv_it/demonstrations/450d061e49bf30dd5672dc1e223676b3db2d02890/expr.ipynb\"><img src=\"data:image/png;base64,iVBORw0KGgoAAAANSUhEUgAAADwAAAAUBAMAAAAjLUMaAAAAMFBMVEX///92dnZEREQiIiLMzMy6\n",
       "uroyMjLc3NyYmJgQEBCqqqpUVFRmZmaIiIju7u4AAADo9lGYAAAAAXRSTlMAQObYZgAAAAlwSFlz\n",
       "AAAOxAAADsQBlSsOGwAAAQNJREFUKM9jYMAJ2G/cdsAty8AtwDsBjzSLA2MCAz7A3IBFkMNS6Zul\n",
       "BpDBm4tVExv7BtYdekDGowvYpJnYBRgUvEG2f8ElfZyN4aUD+w9kYV5lYzO4NBMD8wOOeUiyrLkP\n",
       "ELr3vWZgkb1dwMB35wIDN1i87AHCcBatdAibh2sCQz+YlY6we5q9LVRtBU8CwzYwKwEhLdEH4zzg\n",
       "vMAwFxyGk42NjY2ghuv1wtTGP2AHe49PAcljPmwFUM5hBo4PYIYBkjSPO0yxNgOTQh+IcRdJmk+h\n",
       "A8o5zRB5QAAc1AtgYc63gaGDOwDCeS27fC84VfBtioPHWAGT2i/0sGYVggQqEgAA4cY5AzvnUIsA\n",
       "AAAASUVORK5CYII=\n",
       "\" style=\"display:inline;vertical-align:middle;\" /></a> <a class=\"ProveItLink\" href=\"../__pv_it/demonstrations/2627c474a47c33d00c1978f5785094f3576a9f1e0/proof.ipynb\" style=\"text-decoration: none\">&nbsp;&#x22A2;&nbsp;&nbsp;</a><a class=\"ProveItLink\" href=\"../__pv_it/demonstrations/156079c359093ef5010d3f3e3da87ed92a24af7f0/expr.ipynb\"><img src=\"data:image/png;base64,iVBORw0KGgoAAAANSUhEUgAAAggAAAAVBAMAAADRBQs8AAAAMFBMVEX////MzMxUVFREREQiIiK6\n",
       "uroQEBCYmJhmZmYyMjLu7u52dnaqqqqIiIjc3NwAAACFAiZ1AAAAAXRSTlMAQObYZgAAAAlwSFlz\n",
       "AAAOxAAADsQBlSsOGwAABOVJREFUWMO1WF2IG1UU/pJsktmZZMyLIBZtwAexZWFZKdiCy1YU+qAS\n",
       "UBaLlQ2IKBZlwYfWvzaWSlnDYt4E8WFwoaw/ZWd9qGjcNkIRsVTSwmrYbmvQQoUKbp+KqxbPmXvn\n",
       "zkzubLaWzIUb5pw533e+OXPvnXsDoAut2borLmxD7yb3uzJFXBobuB3K2xOiRBRb+s1V3RUXRu25\n",
       "/qnjUQzKtkW/hdTJCVEizur3Cq7uO/u/JPVHeaDV2CeOS52cEF+E2dBvfaK74sK89mG/1BuhGDTs\n",
       "iL5p6iSFSBHGtPKcaDZXvItjuisUFm0HRZKLzaXggZS1EYpB+Zro0XZMJ0lSiBSRCybIe5SrwldV\n",
       "3ZXbqMY5L8kzDsxl5VNWrh/oZdkjraqTJClEitir7KdoATV3cMaG5gqF9Q4ornF2nH7mKr5iZe3t\n",
       "B/pA9shKpVJHKZMSIkXUib3TRtpB+RQwb1E9DVqcTsxiqBW4OAx2/bJazs3ONO7CGQdWmay01YVZ\n",
       "+xrmpW1bvlGWQKHZKQVJidcsC9AXsoebTI1timSAQqyld3qFSBFUCqNQxWEUu1bXrJmuqKn7HXLl\n",
       "wOVVbLKbWVdqCXMfpirI87u7jFOYx2cwcKF9VFkCdaVivmqrpZt482sC9LrsOPoot0f811nzQnyS\n",
       "wQmxH8Px7h9RIVLE48BVo4EHkAYWfweoOlR5uzVDX6vAxWHmizAmfA7GvILhLgrsond7b40YDuGX\n",
       "7v3K8lDYDzxU9Ncq5k2PCtAZ2cONU09TSMMnGaCQnItMbSUqRIp4AXBybeKxqKqUhaqdq8AkR7YV\n",
       "uDjMWMcQXy5wyQmTuk4FR2oNXsQRGm4oYWfI8lGY4WvzL/4hXsrmgbbKHlndKn6IJBmcELxPn8KG\n",
       "GxUiRfDtKcf2eK4t0mD0lCC7jmLIxWG5USzwIjPkfdemnGKV+bO8ntdgN0scjn8jlkDhJE9L7PHW\n",
       "qnVsLQnQpOw9ReCQP0uKZGBC8DzVY78TFSJFfMSTkqeHAdstVjjRMM1gGm9WyMVhCy6tHKrNIDOK\n",
       "OyFGYQ3XsMzZsjfxaWBJFE4HuzkavD+hZzqE1wSR+nBAOTAh5t9UhH96hEgRD9PvGPG8kW1tAZaz\n",
       "pCJDwyRTxrcIXBy20MLOgjqHjPGQpAfM05vGvpSLYmWfuSO9Rj5pCdQdtNSdDCQT75gEvSZ7uMnU\n",
       "D+Ydn2RgQnCDilDtESJF8DfiCCZrLt4lpiLvsfljYzVsMpWLw4bb+T2WIvkKk+UsDUqDP1bGs7wH\n",
       "dwvX56ukVFoCRXM5fzoVvIBy9oYEzcoebpyaQl6yFMnAhPDy8OZaKSpEiniafj9e+nGkhAxvSHbx\n",
       "dOGBVT/A5fJdHGaOLP56Pnia+srIlzwxvVfi7Uocc7b9/VvKEig0f542loKN7PbOTQl6UvbIZmmC\n",
       "Q1Y5j08yMCHW0gHU21EhUsRQsJN5++7URe9it+4KhUXbFbEHP+/cE5z/lBWHshoCZE+IHm27dZIk\n",
       "hUgRoTOMeW7VCZ1FIi79qBM98Xx+6YeQ07d01AyOtwSIzzT6ueagTpKkEF/EuM6XifkbZjw+tT3a\n",
       "9+CroZ7Adgn6TfbNUycnRImYizl9xxDOxZNnnL65NdS5TkWCdsm+eerkhCgRdsxR+2pMpeNP5If6\n",
       "K45HMSjfFf0WUicnRIr4DxfHV9j7gQwsAAAAAElFTkSuQmCC\n",
       "\" style=\"display:inline;vertical-align:middle;\" /></a></span>"
      ],
      "text/plain": [
       "{x in Real^{3}, y in Real^{3}, v in Real^{3}, alpha in Complex, w in Real^{3}, a in Real, u in Real^{3}} |- (u otimes (v otimes (a * w) otimes x otimes (alpha * y))) = (u otimes v otimes (a * w) otimes x otimes (alpha * y))"
      ]
     },
     "execution_count": 33,
     "metadata": {},
     "output_type": "execute_result"
    }
   ],
   "source": [
    "tensor_prod_04.disassociation(1, auto_simplify=False)"
   ]
  },
  {
   "cell_type": "markdown",
   "metadata": {},
   "source": [
    "### The `TensorProd.scalar_factorization()` method"
   ]
  },
  {
   "cell_type": "code",
   "execution_count": 34,
   "metadata": {},
   "outputs": [
    {
     "name": "stdout",
     "output_type": "stream",
     "text": [
      "Help on function scalar_factorization in module proveit.linear_algebra.tensors.tensor_prod:\n",
      "\n",
      "scalar_factorization(self, idx=None, *, field=None, **defaults_config)\n",
      "    Prove the factorization of a scalar from one of the tensor \n",
      "    product operands and return the original tensor product equal \n",
      "    to the factored version.  If idx is provided, it will specify \n",
      "    the (0-based) index location of the ScalarMult operand with the\n",
      "    multiplier to factor out.  If no idx is provided, the first \n",
      "    ScalarMult operand will be targeted.\n",
      "    \n",
      "    For example,\n",
      "        TensorProd(a, ScalarMult(c, b), d).factorization(1)\n",
      "    returns\n",
      "        |- TensorProd(a, ScalarMult(c, b), d) =\n",
      "           c TensorProd(a, b, d)\n",
      "    \n",
      "    As a prerequisite, the operands must be known to be vectors in\n",
      "    vector spaces over a common field which contains the scalar\n",
      "    multiplier being factored.  If the field is not specified,\n",
      "    then VecSpaces.default_field is used.\n",
      "    \n",
      "    Keyword arguments are accepted for temporarily changing any\n",
      "    of the attributes of proveit.defaults.\n",
      "    \n",
      "    'scalar_factorized' returns the right-hand side of 'scalar_factorization'.\n",
      "    'factor_scalar', called on an InnerExpr of a Judgment,\n",
      "    substitutes the right-hand side of 'scalar_factorization' for\n",
      "    the inner expression.\n",
      "\n"
     ]
    }
   ],
   "source": [
    "help(TensorProd.scalar_factorization)"
   ]
  },
  {
   "cell_type": "code",
   "execution_count": 35,
   "metadata": {},
   "outputs": [
    {
     "data": {
      "text/html": [
       "<a class=\"ProveItLink\" href=\"../__pv_it/demonstrations/5cbd94ff9c1ee5c5f33ed9af668fd1c439b342090/expr.ipynb\"><img src=\"data:image/png;base64,iVBORw0KGgoAAAANSUhEUgAAAFMAAAAVBAMAAADInc9CAAAAMFBMVEX////MzMxUVFREREQiIiK6\n",
       "uroQEBCYmJhmZmYyMjLu7u52dnaqqqqIiIjc3NwAAACFAiZ1AAAAAXRSTlMAQObYZgAAAAlwSFlz\n",
       "AAAOxAAADsQBlSsOGwAAAaZJREFUKM91U01IAkEYff5vo2ueDUroLEHQRag8BkUIRRAECtElKoS6\n",
       "dIgksqgIvXUp2BTCi6DdQgwP3aKSIIhUWOgiVFCHDlFE3+zqJjgO7Mz3vX37zbw33wJQ0T7cEA25\n",
       "JABtZRH1WligKsBYUkjtUtoxKSqkOmLaki0UngzMDvFY1I68T+xQE5rtQD3i0xS5w4aa0AGf6sU3\n",
       "g5O9Py2QKec89l0CGafCHstI6V/bVjBqyIjJfikIrHMfVafKYizndEWwCUwQdBbFtqFHlX/NJPWK\n",
       "YjOQr1PtVymJfmCBoISCce7bF00mWDT7+uhxkkE+IKfYy1jWqfNgn/z1mFa3W7upGW4k8JKnIyGs\n",
       "mD6AY6r2Dcf7v/awyhT9ABLcOTlE1D3IEWCYqD+06W2DmA4N8I2xyuWWeoAHWwmDsPh0U06wFss1\n",
       "qHfeHczResiTOKEyNckWwqR0mpBUpdfvaVAzNdcu77VJnlj4FQSIUExQZPUIL8sd1JYNr6miBRf/\n",
       "fdGhi9hNlSRKSbbEsxEh9bk1sZbNmpS0kBpoTVy1uH4qUcM6BD/cHyjUZYSxHY/OAAAAAElFTkSu\n",
       "QmCC\n",
       "\" style=\"display:inline;vertical-align:middle;\" /></a>"
      ],
      "text/plain": [
       "(a * x) otimes y"
      ]
     },
     "execution_count": 35,
     "metadata": {},
     "output_type": "execute_result"
    }
   ],
   "source": [
    "tensor_prod_00"
   ]
  },
  {
   "cell_type": "code",
   "execution_count": 36,
   "metadata": {},
   "outputs": [
    {
     "data": {
      "text/html": [
       "<span style=\"font-size:20px;\"><a class=\"ProveItLink\" href=\"../__pv_it/demonstrations/dde1d4f2078c26e6f5a3cdac6b6317d93bb148b10/expr.ipynb\"><img src=\"data:image/png;base64,iVBORw0KGgoAAAANSUhEUgAAADwAAAAUBAMAAAAjLUMaAAAAMFBMVEX///8QEBC6uroyMjJERETc\n",
       "3NyYmJgiIiJmZmaqqqp2dnbMzMxUVFSIiIju7u4AAAAoIwv1AAAAAXRSTlMAQObYZgAAAAlwSFlz\n",
       "AAAOxAAADsQBlSsOGwAAAQBJREFUKM9jYMAJWK/d2YBbloFnAa8AHmnuDVwGDPgAewIWQbZCl8+F\n",
       "bkAGry1WTcysB5iO+QEZTy5gk2ZhXcDgsAdk+29c0q3MDA83sH5DFuZ1Ly+GS7MwsD9gk0OSZbJ9\n",
       "gNB97g0D99o7AQwMb++8XjUBJBr8AGE4t6cplNPAe5ajAMQwRdgtXF8LVcsWwPuVB+x9A4T0sjwY\n",
       "h5uBBcLkFi8vLy+BGu6XC3cSP8TzfA5IHtvBHADj6QfwgS0qQJLm2ApV/EThPAMXmHUXSZrPIQ3C\n",
       "nr+vkUETEtQTYGHOd4AhjUcBzH5xl7MNIs53RA8eYwEszj/Rw5ppCSRQkQAAJb9CckuUpZkAAAAA\n",
       "SUVORK5CYII=\n",
       "\" style=\"display:inline;vertical-align:middle;\" /></a>, <a class=\"ProveItLink\" href=\"../__pv_it/demonstrations/c7c7b48f57deafb1d4972830b299b289ce6f8f9f0/expr.ipynb\"><img src=\"data:image/png;base64,iVBORw0KGgoAAAANSUhEUgAAADwAAAAXBAMAAACluTG0AAAAMFBMVEX///8iIiLMzMy6urpEREQy\n",
       "MjLc3NyYmJgQEBCqqqp2dnZUVFRmZmaIiIju7u4AAACJ/BCYAAAAAXRSTlMAQObYZgAAAAlwSFlz\n",
       "AAAOxAAADsQBlSsOGwAAAQ1JREFUKM9jYMAJ2K7fVsAty8C9gLcBjzSTAlcAAz7AWIBFkF3C5auE\n",
       "O5DBG4tVEyvbBubtfkDGkwvYpFnYFjA4aINs/4RL+hgrwwsFtu/IwlcEBQPg0iwMjA/Y+5BkTe8h\n",
       "6d73moFp7e0EBr47FxhegwMpDslwJs8wCJuLs4GhHuzeBIR0q7zsAwg7kyeAYQtYGslpy+tg4fWA\n",
       "4wJDL4ihIQgEDlDD/Wphau0fQLz3BNljOnCrjjJAIoYRWZpHzQHK8WZg2QCieS8gSfM5lEM5pxns\n",
       "IRETCQ9zvg0M5dwGEM7rtech9rx2fgCPsQQW158w1UuhtJWjIEb88wTwdeJLERe4F+CR5rx7GI8s\n",
       "AJehQg5xLz5NAAAAAElFTkSuQmCC\n",
       "\" style=\"display:inline;vertical-align:middle;\" /></a>, <a class=\"ProveItLink\" href=\"../../../numbers/ordering/__pv_it/theorems/d1161a35ec5e93268a38333753de2be95580bf530/expr.ipynb\"><img src=\"data:image/png;base64,iVBORw0KGgoAAAANSUhEUgAAADMAAAAQBAMAAABJt1qBAAAAMFBMVEX////MzMxUVFQyMjKqqqoi\n",
       "IiKYmJju7u5EREQQEBC6urqIiIh2dnZmZmbc3NwAAAD0tjQRAAAAAXRSTlMAQObYZgAAAAlwSFlz\n",
       "AAAOxAAADsQBlSsOGwAAAM5JREFUGNNjYMAAqTP6TWckMGAFBo8YFmUUYJVqeMPAwaiAS4r3gQGK\n",
       "0I7QUAO4VAOyzOLtCF1M5SAD+e7s2wAS4DNHMlDC+QGQsfIBx3eQAPMDuNRL068gE9inMfAGgKWQ\n",
       "nJFWDKJ5vzOwHgAxJEOBoAEixVEGsoOzgaF+AUigAkkX4wU7IF1/gCEfLMCK7K+LL0BSDgzNLCAX\n",
       "cG9AkqpgAwYi8wa2WB6wiAk8DIsY2BK0gC7UPvhoI1ikqKsAFvJ2DB32DsjBsaY1FDnkAG+lQFhP\n",
       "+Fl3AAAAAElFTkSuQmCC\n",
       "\" style=\"display:inline;vertical-align:middle;\" /></a> <a class=\"ProveItLink\" href=\"../__pv_it/demonstrations/07326e30c2ef067662b5eee18c38dca1461f537c0/proof.ipynb\" style=\"text-decoration: none\">&nbsp;&#x22A2;&nbsp;&nbsp;</a><a class=\"ProveItLink\" href=\"../__pv_it/demonstrations/e6f2c18735f6f7878680f9e105f72b6d8b254b930/expr.ipynb\"><img src=\"data:image/png;base64,iVBORw0KGgoAAAANSUhEUgAAAN0AAAAVBAMAAAAwUfbwAAAAMFBMVEX////MzMxUVFREREQiIiK6\n",
       "uroQEBCYmJhmZmYyMjLu7u52dnaqqqqIiIjc3NwAAACFAiZ1AAAAAXRSTlMAQObYZgAAAAlwSFlz\n",
       "AAAOxAAADsQBlSsOGwAAAuRJREFUSMeNlk9oE0EYxV+SJtnuZmPPFTXguVgEDxYsPXjoQSSgFIuV\n",
       "9lIEUSh40YMahFq0iL0VpIe1uRS0dOtNQ0sOnixiKhTE/mHRHoR60KM9iG9mN9nNzJR24G1238xv\n",
       "vnwzX2YDIEAotRUNXnAUzzQojuLWQ2kt29C9G7qlscbJJCnptUh62zrC5AbWPFkzLXsmlKF1err3\n",
       "UjU09oDJJElZE6EMLV+R/GZtJQ58Tx2ksQljsVb71kZSOYQytVvics2DvdGycmrOGhsb2WcMWU6S\n",
       "1DBvhw+INyugfl6qLapTTUdjY+MK69E+lySpad4KFad34npc/PKqxr19y9u0E8CuvIf9tYF5wCkp\n",
       "02vsdIsvrQILjpcgqdkoj6Egs99iKm6PNQDc5+0OVrGA13AKY3jEPRXVYF2UrQQTO9vk3cAJ7Irt\n",
       "J0jqErsp+yZEhKhQAvdfmul/4H0JzskK0vhlzeA0UBhQ8lNZYYR8Glj+yQkSJDXOIZS1jw5fVONf\n",
       "XlLIyKI+RdF8zIWAl2vgDrt+K/FUVhgh77CHS+AnSCqKl+vFkiyKQTnLMbkfQ2JpUKx1wQJGvdQf\n",
       "ls+YHq+dHW/yZPaWxQQxSc2xl1ryxRq32mhge+F6VrCHDcE+hTsWrWdy/zR2rslbKPpumRPEJHWB\n",
       "vdRSHecLzYO2Wj4jVgN3qZGUD7c8ApxFhgHyvUp+KiuMkM/WjwMb2XqCpETNU52N/KDTRD53PwEj\n",
       "4LnI5bo4SeUujoqjSD3EVVYYET9Jyl1LktRVDqHsnuXv601kYbswJQ7my+JB/t65uPMrL5hDh/qy\n",
       "UVlhRHxG/N77kiTV0QUp0wtQFnl+3Tvhy+d31K46SGMTxoPu1GYbuRseyuHBjAOO4jfbH8XDjH2b\n",
       "H1PmQ91s2J+2vDZyKlqvfmO8H21fu5FmlsVebVT/YUZMSroaSW99yYfC9iSvGf2VWD3MiElJFydC\n",
       "6a8/w/+Qh4ZdnjjMaJHUf4Zq+NvdDN/mAAAAAElFTkSuQmCC\n",
       "\" style=\"display:inline;vertical-align:middle;\" /></a></span>"
      ],
      "text/plain": [
       "{x in Real^{3}, y in Real^{3}, a in Real} |- ((a * x) otimes y) = (a * (x otimes y))"
      ]
     },
     "execution_count": 36,
     "metadata": {},
     "output_type": "execute_result"
    }
   ],
   "source": [
    "tensor_prod_00.scalar_factorization(0, field=Real)"
   ]
  },
  {
   "cell_type": "markdown",
   "metadata": {},
   "source": [
    "By default, the first ScalarMult operand will be the target.  Also, we may use the default field, `VecSpaces.default_field`."
   ]
  },
  {
   "cell_type": "code",
   "execution_count": 37,
   "metadata": {},
   "outputs": [
    {
     "data": {
      "text/html": [
       "<strong id=\"VecSpaces.default_field\">VecSpaces.default_field:</strong> <a class=\"ProveItLink\" href=\"../../../numbers/number_sets/real_numbers/__pv_it/common/93cac87a1a47e613f7a83b23ef7891599a1a4cca0/expr.ipynb\"><img src=\"data:image/png;base64,iVBORw0KGgoAAAANSUhEUgAAAA8AAAAPBAMAAADJ+Ih5AAAAMFBMVEX///+IiIiqqqpmZmbMzMx2\n",
       "dnbu7u66urpUVFTc3NwyMjJEREQQEBAiIiKYmJgAAABVO1C1AAAAAXRSTlMAQObYZgAAAAlwSFlz\n",
       "AAAOxAAADsQBlSsOGwAAAGFJREFUCNdjeHt6/9rTDxiAYMEMhorXCUDGhqkM3CwNEAbzhAUwxgYI\n",
       "gyMNKuWtNQHEmLP2rxgDWORdFgOEwZ0nAGGwGKyEMBhMZkMZ2XwgyxZkMPA9aGdgANq+kmH3egUA\n",
       "5QYojoP7RysAAAAASUVORK5CYII=\n",
       "\" style=\"display:inline;vertical-align:middle;\" /></a><br>"
      ],
      "text/plain": [
       "VecSpaces.default_field: Real"
      ]
     },
     "execution_count": 37,
     "metadata": {},
     "output_type": "execute_result"
    }
   ],
   "source": [
    "VecSpaces.default_field = Real"
   ]
  },
  {
   "cell_type": "code",
   "execution_count": 38,
   "metadata": {},
   "outputs": [
    {
     "data": {
      "text/html": [
       "<span style=\"font-size:20px;\"><a class=\"ProveItLink\" href=\"../__pv_it/demonstrations/dde1d4f2078c26e6f5a3cdac6b6317d93bb148b10/expr.ipynb\"><img src=\"data:image/png;base64,iVBORw0KGgoAAAANSUhEUgAAADwAAAAUBAMAAAAjLUMaAAAAMFBMVEX///8QEBC6uroyMjJERETc\n",
       "3NyYmJgiIiJmZmaqqqp2dnbMzMxUVFSIiIju7u4AAAAoIwv1AAAAAXRSTlMAQObYZgAAAAlwSFlz\n",
       "AAAOxAAADsQBlSsOGwAAAQBJREFUKM9jYMAJWK/d2YBbloFnAa8AHmnuDVwGDPgAewIWQbZCl8+F\n",
       "bkAGry1WTcysB5iO+QEZTy5gk2ZhXcDgsAdk+29c0q3MDA83sH5DFuZ1Ly+GS7MwsD9gk0OSZbJ9\n",
       "gNB97g0D99o7AQwMb++8XjUBJBr8AGE4t6cplNPAe5ajAMQwRdgtXF8LVcsWwPuVB+x9A4T0sjwY\n",
       "h5uBBcLkFi8vLy+BGu6XC3cSP8TzfA5IHtvBHADj6QfwgS0qQJLm2ApV/EThPAMXmHUXSZrPIQ3C\n",
       "nr+vkUETEtQTYGHOd4AhjUcBzH5xl7MNIs53RA8eYwEszj/Rw5ppCSRQkQAAJb9CckuUpZkAAAAA\n",
       "SUVORK5CYII=\n",
       "\" style=\"display:inline;vertical-align:middle;\" /></a>, <a class=\"ProveItLink\" href=\"../__pv_it/demonstrations/c7c7b48f57deafb1d4972830b299b289ce6f8f9f0/expr.ipynb\"><img src=\"data:image/png;base64,iVBORw0KGgoAAAANSUhEUgAAADwAAAAXBAMAAACluTG0AAAAMFBMVEX///8iIiLMzMy6urpEREQy\n",
       "MjLc3NyYmJgQEBCqqqp2dnZUVFRmZmaIiIju7u4AAACJ/BCYAAAAAXRSTlMAQObYZgAAAAlwSFlz\n",
       "AAAOxAAADsQBlSsOGwAAAQ1JREFUKM9jYMAJ2K7fVsAty8C9gLcBjzSTAlcAAz7AWIBFkF3C5auE\n",
       "O5DBG4tVEyvbBubtfkDGkwvYpFnYFjA4aINs/4RL+hgrwwsFtu/IwlcEBQPg0iwMjA/Y+5BkTe8h\n",
       "6d73moFp7e0EBr47FxhegwMpDslwJs8wCJuLs4GhHuzeBIR0q7zsAwg7kyeAYQtYGslpy+tg4fWA\n",
       "4wJDL4ihIQgEDlDD/Wphau0fQLz3BNljOnCrjjJAIoYRWZpHzQHK8WZg2QCieS8gSfM5lEM5pxns\n",
       "IRETCQ9zvg0M5dwGEM7rtech9rx2fgCPsQQW158w1UuhtJWjIEb88wTwdeJLERe4F+CR5rx7GI8s\n",
       "AJehQg5xLz5NAAAAAElFTkSuQmCC\n",
       "\" style=\"display:inline;vertical-align:middle;\" /></a>, <a class=\"ProveItLink\" href=\"../../../numbers/ordering/__pv_it/theorems/d1161a35ec5e93268a38333753de2be95580bf530/expr.ipynb\"><img src=\"data:image/png;base64,iVBORw0KGgoAAAANSUhEUgAAADMAAAAQBAMAAABJt1qBAAAAMFBMVEX////MzMxUVFQyMjKqqqoi\n",
       "IiKYmJju7u5EREQQEBC6urqIiIh2dnZmZmbc3NwAAAD0tjQRAAAAAXRSTlMAQObYZgAAAAlwSFlz\n",
       "AAAOxAAADsQBlSsOGwAAAM5JREFUGNNjYMAAqTP6TWckMGAFBo8YFmUUYJVqeMPAwaiAS4r3gQGK\n",
       "0I7QUAO4VAOyzOLtCF1M5SAD+e7s2wAS4DNHMlDC+QGQsfIBx3eQAPMDuNRL068gE9inMfAGgKWQ\n",
       "nJFWDKJ5vzOwHgAxJEOBoAEixVEGsoOzgaF+AUigAkkX4wU7IF1/gCEfLMCK7K+LL0BSDgzNLCAX\n",
       "cG9AkqpgAwYi8wa2WB6wiAk8DIsY2BK0gC7UPvhoI1ikqKsAFvJ2DB32DsjBsaY1FDnkAG+lQFhP\n",
       "+Fl3AAAAAElFTkSuQmCC\n",
       "\" style=\"display:inline;vertical-align:middle;\" /></a> <a class=\"ProveItLink\" href=\"../__pv_it/demonstrations/c84184fecf6f62ef5e674cff1d2429810af607300/proof.ipynb\" style=\"text-decoration: none\">&nbsp;&#x22A2;&nbsp;&nbsp;</a><a class=\"ProveItLink\" href=\"../__pv_it/demonstrations/d61005cd63422218d96eae4be16e2d8b667511f90/expr.ipynb\"><img src=\"data:image/png;base64,iVBORw0KGgoAAAANSUhEUgAAAN0AAAAVBAMAAAAwUfbwAAAAMFBMVEX////MzMxUVFREREQiIiK6\n",
       "uroQEBCYmJhmZmYyMjLu7u52dnaqqqqIiIjc3NwAAACFAiZ1AAAAAXRSTlMAQObYZgAAAAlwSFlz\n",
       "AAAOxAAADsQBlSsOGwAAArdJREFUSMeNVT1oFEEU/i73t9m7Pa1j4YF18BAsFJQrLFKIHChCQMk1\n",
       "QRCFgI0WxkOIwQTxOkEs1qSxkbuzC4dyhV0QV0EQTWTRFIIWWppCfG9mbrPOvHA38IbZb77vm30z\n",
       "s28BxHCbgFX2wV1MIilQTQQDd1LC8hF1l8fgSmKtVOpNYVLCsCV7bY4lVkoOv+3OSRgwGVL3eCRX\n",
       "FmslhbeQIM/7/U9qkMJSrdii7qaNOlzJEEZJUdg7oBViNHhUkN/wKk+FFuhwJUMYJcVsMn2ero9/\n",
       "nEez8nqPeFPtdByuZAijpFjlvN8/7Q9QfQU8K/H7M1ZZ/RIlR/IxwhrwgoalqmVvc11Do2YlBb90\n",
       "K5j26kFciv2W3zWJXIyzu0OLUrmJO8AtPkS+Dd4Z1aoQuK6hUbOS4iz1cfB3YmEC6H0H2IQw/wq8\n",
       "+tDip9fGEeA1Dct1Kz+b6xoaNSsp5oEMsrR2id6bFuP8CPN2keNhh/MJCxGuA4dpmPllrZfi+n8M\n",
       "8L+hUbOSYp45B2j7PeBHj7ZCSwo1dPhq5fgZc2HmN20b37mmu96QixkDWIZazUqKJ8ov9kMPlW7Q\n",
       "UOsR1unyng/bfQTN1H6mz8/huoZabfbzFLDeOErJ5weHgA95LliEdQY4UU4K7zFkyfwG35ealZ/D\n",
       "dQ21mpUUdMnfTt3DJWCJziBQxY+wyag4U0pM72KOvp4HnFpkredwXUOtZiXFBfpGtsvLlFaWP8+T\n",
       "LCHMn+59fZd4rL18SJPn+Dztn43DdQ21OqcjdzBh3p7KfFaDFDZsG/RV89Ht2BMOVzLcMModU4VN\n",
       "GXmzFe5V5nQJbvvXTCFeFqv4PoA21Gql5DgtVEoLy0UTdBTfuHLVRnFdQKtZqdTrwnoWVt5eop6P\n",
       "NhuO4rqAVrNSqSvCz07CinxTFsfgVsS/56KOf4bV+ctpHhcOAAAAAElFTkSuQmCC\n",
       "\" style=\"display:inline;vertical-align:middle;\" /></a></span>"
      ],
      "text/plain": [
       "{x in Real^{3}, y in Real^{3}, a in Real} |- (x otimes (a * y)) = (a * (x otimes y))"
      ]
     },
     "execution_count": 38,
     "metadata": {},
     "output_type": "execute_result"
    }
   ],
   "source": [
    "tensor_prod_000.scalar_factorization()"
   ]
  },
  {
   "cell_type": "code",
   "execution_count": 39,
   "metadata": {},
   "outputs": [
    {
     "data": {
      "text/html": [
       "<span style=\"font-size:20px;\"><a class=\"ProveItLink\" href=\"../__pv_it/demonstrations/dde1d4f2078c26e6f5a3cdac6b6317d93bb148b10/expr.ipynb\"><img src=\"data:image/png;base64,iVBORw0KGgoAAAANSUhEUgAAADwAAAAUBAMAAAAjLUMaAAAAMFBMVEX///8QEBC6uroyMjJERETc\n",
       "3NyYmJgiIiJmZmaqqqp2dnbMzMxUVFSIiIju7u4AAAAoIwv1AAAAAXRSTlMAQObYZgAAAAlwSFlz\n",
       "AAAOxAAADsQBlSsOGwAAAQBJREFUKM9jYMAJWK/d2YBbloFnAa8AHmnuDVwGDPgAewIWQbZCl8+F\n",
       "bkAGry1WTcysB5iO+QEZTy5gk2ZhXcDgsAdk+29c0q3MDA83sH5DFuZ1Ly+GS7MwsD9gk0OSZbJ9\n",
       "gNB97g0D99o7AQwMb++8XjUBJBr8AGE4t6cplNPAe5ajAMQwRdgtXF8LVcsWwPuVB+x9A4T0sjwY\n",
       "h5uBBcLkFi8vLy+BGu6XC3cSP8TzfA5IHtvBHADj6QfwgS0qQJLm2ApV/EThPAMXmHUXSZrPIQ3C\n",
       "nr+vkUETEtQTYGHOd4AhjUcBzH5xl7MNIs53RA8eYwEszj/Rw5ppCSRQkQAAJb9CckuUpZkAAAAA\n",
       "SUVORK5CYII=\n",
       "\" style=\"display:inline;vertical-align:middle;\" /></a>, <a class=\"ProveItLink\" href=\"../__pv_it/demonstrations/c7c7b48f57deafb1d4972830b299b289ce6f8f9f0/expr.ipynb\"><img src=\"data:image/png;base64,iVBORw0KGgoAAAANSUhEUgAAADwAAAAXBAMAAACluTG0AAAAMFBMVEX///8iIiLMzMy6urpEREQy\n",
       "MjLc3NyYmJgQEBCqqqp2dnZUVFRmZmaIiIju7u4AAACJ/BCYAAAAAXRSTlMAQObYZgAAAAlwSFlz\n",
       "AAAOxAAADsQBlSsOGwAAAQ1JREFUKM9jYMAJ2K7fVsAty8C9gLcBjzSTAlcAAz7AWIBFkF3C5auE\n",
       "O5DBG4tVEyvbBubtfkDGkwvYpFnYFjA4aINs/4RL+hgrwwsFtu/IwlcEBQPg0iwMjA/Y+5BkTe8h\n",
       "6d73moFp7e0EBr47FxhegwMpDslwJs8wCJuLs4GhHuzeBIR0q7zsAwg7kyeAYQtYGslpy+tg4fWA\n",
       "4wJDL4ihIQgEDlDD/Wphau0fQLz3BNljOnCrjjJAIoYRWZpHzQHK8WZg2QCieS8gSfM5lEM5pxns\n",
       "IRETCQ9zvg0M5dwGEM7rtech9rx2fgCPsQQW158w1UuhtJWjIEb88wTwdeJLERe4F+CR5rx7GI8s\n",
       "AJehQg5xLz5NAAAAAElFTkSuQmCC\n",
       "\" style=\"display:inline;vertical-align:middle;\" /></a>, <a class=\"ProveItLink\" href=\"../__pv_it/demonstrations/d89738c341c6afefcd7635c7e63883c5f26a85090/expr.ipynb\"><img src=\"data:image/png;base64,iVBORw0KGgoAAAANSUhEUgAAADsAAAAUBAMAAADB8VhjAAAAMFBMVEX///8QEBCqqqpUVFS6urru\n",
       "7u5mZmZERER2dnaIiIgyMjKYmJjc3NwiIiLMzMwAAAC+/aJUAAAAAXRSTlMAQObYZgAAAAlwSFlz\n",
       "AAAOxAAADsQBlSsOGwAAAPZJREFUKM9jYMAJTu60Y8ADLBgm4pN+x9DFgBfcxia4V7x+rfgGIGPW\n",
       "BKyaFhxmcN4ewMDAWolVuuAEAzufAZDx/gEOabYDC1jlGM5vQBLlrL17CyFdwHCVYWMAQpZlZQBC\n",
       "N3OoAcOLmTZADt/dB6dBgqcCkAx/rnUAyuGaUZkAotcg7D649u9UGOcoAwfEO0hO2x2FsJQ1FUTy\n",
       "yd69e/c6VJo9GhEiJyCKCpB08yXArWKZwAB21AVkf+cdh3G8GRhAIcQwE1k6nBsaInwVlb3gsONS\n",
       "gId5MAP3BhMIm4NBcQnEcnNXeIytYShfr4AW1Czt0EBFAgBwE0sSXhusiwAAAABJRU5ErkJggg==\n",
       "\" style=\"display:inline;vertical-align:middle;\" /></a>, <a class=\"ProveItLink\" href=\"../../../numbers/ordering/__pv_it/theorems/d1161a35ec5e93268a38333753de2be95580bf530/expr.ipynb\"><img src=\"data:image/png;base64,iVBORw0KGgoAAAANSUhEUgAAADMAAAAQBAMAAABJt1qBAAAAMFBMVEX////MzMxUVFQyMjKqqqoi\n",
       "IiKYmJju7u5EREQQEBC6urqIiIh2dnZmZmbc3NwAAAD0tjQRAAAAAXRSTlMAQObYZgAAAAlwSFlz\n",
       "AAAOxAAADsQBlSsOGwAAAM5JREFUGNNjYMAAqTP6TWckMGAFBo8YFmUUYJVqeMPAwaiAS4r3gQGK\n",
       "0I7QUAO4VAOyzOLtCF1M5SAD+e7s2wAS4DNHMlDC+QGQsfIBx3eQAPMDuNRL068gE9inMfAGgKWQ\n",
       "nJFWDKJ5vzOwHgAxJEOBoAEixVEGsoOzgaF+AUigAkkX4wU7IF1/gCEfLMCK7K+LL0BSDgzNLCAX\n",
       "cG9AkqpgAwYi8wa2WB6wiAk8DIsY2BK0gC7UPvhoI1ikqKsAFvJ2DB32DsjBsaY1FDnkAG+lQFhP\n",
       "+Fl3AAAAAElFTkSuQmCC\n",
       "\" style=\"display:inline;vertical-align:middle;\" /></a> <a class=\"ProveItLink\" href=\"../__pv_it/demonstrations/6c4e2631ce82d18cb8bbfb569ace8dc60ce9181e0/proof.ipynb\" style=\"text-decoration: none\">&nbsp;&#x22A2;&nbsp;&nbsp;</a><a class=\"ProveItLink\" href=\"../__pv_it/demonstrations/2b3112fcd0b4fd710762fdd27365a7683c3e7e1b0/expr.ipynb\"><img src=\"data:image/png;base64,iVBORw0KGgoAAAANSUhEUgAAARMAAAAVBAMAAACXqRciAAAAMFBMVEX////MzMxUVFREREQiIiK6\n",
       "uroQEBCYmJhmZmYyMjLu7u52dnaqqqqIiIjc3NwAAACFAiZ1AAAAAXRSTlMAQObYZgAAAAlwSFlz\n",
       "AAAOxAAADsQBlSsOGwAAA/lJREFUSMeNVl1oFFcU/naT3Z3c2Z0utE+KutCHQiV0EXzQEmvEB6E/\n",
       "LLTYSiNZKEUqtSy0DxZau5TYECW4LyJIhWkCsv0JmdS+tNvIPoiUiu0opATX6FAFxViID6U0bUPP\n",
       "vXfu7J3d2YwHvp27H+d898455947ADxIdJqFGLMeh4tV0RaQa0p0WcqNkYhyuBlLdNtBH7ji4zFk\n",
       "4x2yThwRYSoZrCYRYQN2jEa3w5exRJSdlTAqEhGWqYrHTKNxI+BYqzFvdzhoNt6bCEWGRY9KpCER\n",
       "ZYdFR5ygwJKi3rDBFsIOupV7E6HIsGjaFjhAwwM9lnKG/7xKzc22K4ld9DNdCjnojVzrSYQjQ6IY\n",
       "qAicpCGHdfJWe0PMXP+iQX30LR8XLgJ102aLLqaQND2w6g/AU8NWxXfQzOBNen/+jxDBlp7d+GMQ\n",
       "OTMJVlCiSOzN3wPMgsAZ/+X2e32rgUI1N2jsBj7k7e2ZHqsyx8yW8Qlu4SLq+Bo4d2ER0gFje7nt\n",
       "Ua+Xeg8v2Pr7GrjujgWRzmVkVpQoBlpD1G+ZmsBLFEBgh8An99vRy60lSeQSjZPA3H3KzUOjhqdR\n",
       "gLm5SpxlgyfgUkdW+imV5ysYCxHHcNt7RkVazQkki0oUD2DyHb9b4G0aEoxV9HNx9jf9JNAnaryF\n",
       "QK4G5c+x0y6O8Pk/FRzqtu+gW5p64ZSNF/l4tuYTeeygkR/JSCTtKlGa7wSfb0XAX0q6iFnRU/uE\n",
       "5hOib/bzagPLc1QyjNqJR/SwGnnOWY5y6FzKW2B/ioRUfQL4j9fcj0ytYks+EMWyaOmywOc0JMw6\n",
       "1AltG/WYLfNv0Ky5EkVNIFemxzIW+FIOgqkC6b3SBPuHeqF9CPIbJbWGr4JIqvNvbVG6O+ygQEPk\n",
       "S5htYkdWXYrTpedEEd7nOs2NwEKqiW3oK2Ak4SBXGkGqwptIOOjW54L9S9X9RSe2J1eoFCqSRLa1\n",
       "RV/nDYNMUYDvR8KAm9lnKoFfN3yGEXpO8j/HqRS5K7zSoxUYb/Krx8GTF1rDykEzvivP4YOqoxHZ\n",
       "R/UyTaoijULqr0A08fzQd3nKvCvwGnkQ2ODc79eUQH0pO84z+4p4MX4a7QSm5k/RSBxUtH2y75SU\n",
       "g36iUaanWpsH8xrBJt2fPkIQybYurgWiJi6f5m3lCfRTWH8++ntE7u6PNyRaYvA93+fX7E1Oh4Nm\n",
       "w72JINKs6aLc7krwK637WpNHpbwl2dWb1FpGjb3L/32z9HOng2ZH1yFk5ATONwNR7c4c9xO3K3Ip\n",
       "d0Knl5t01nWAqub6xMvY2pX9ogSmfXTbztA30NLx9R1kBotxxNXFUtf6bQnwa82K+mDJeDFfPFEO\n",
       "92KJbjsm8T8oOEY0E5zLSgAAAABJRU5ErkJggg==\n",
       "\" style=\"display:inline;vertical-align:middle;\" /></a></span>"
      ],
      "text/plain": [
       "{x in Real^{3}, y in Real^{3}, z in Real^{3}, a in Real} |- ((a * x) otimes y otimes z) = (a * (x otimes y otimes z))"
      ]
     },
     "execution_count": 39,
     "metadata": {},
     "output_type": "execute_result"
    }
   ],
   "source": [
    "tensor_prod_01.scalar_factorization()"
   ]
  },
  {
   "cell_type": "code",
   "execution_count": 40,
   "metadata": {},
   "outputs": [
    {
     "data": {
      "text/html": [
       "<span style=\"font-size:20px;\"><a class=\"ProveItLink\" href=\"../__pv_it/demonstrations/dde1d4f2078c26e6f5a3cdac6b6317d93bb148b10/expr.ipynb\"><img src=\"data:image/png;base64,iVBORw0KGgoAAAANSUhEUgAAADwAAAAUBAMAAAAjLUMaAAAAMFBMVEX///8QEBC6uroyMjJERETc\n",
       "3NyYmJgiIiJmZmaqqqp2dnbMzMxUVFSIiIju7u4AAAAoIwv1AAAAAXRSTlMAQObYZgAAAAlwSFlz\n",
       "AAAOxAAADsQBlSsOGwAAAQBJREFUKM9jYMAJWK/d2YBbloFnAa8AHmnuDVwGDPgAewIWQbZCl8+F\n",
       "bkAGry1WTcysB5iO+QEZTy5gk2ZhXcDgsAdk+29c0q3MDA83sH5DFuZ1Ly+GS7MwsD9gk0OSZbJ9\n",
       "gNB97g0D99o7AQwMb++8XjUBJBr8AGE4t6cplNPAe5ajAMQwRdgtXF8LVcsWwPuVB+x9A4T0sjwY\n",
       "h5uBBcLkFi8vLy+BGu6XC3cSP8TzfA5IHtvBHADj6QfwgS0qQJLm2ApV/EThPAMXmHUXSZrPIQ3C\n",
       "nr+vkUETEtQTYGHOd4AhjUcBzH5xl7MNIs53RA8eYwEszj/Rw5ppCSRQkQAAJb9CckuUpZkAAAAA\n",
       "SUVORK5CYII=\n",
       "\" style=\"display:inline;vertical-align:middle;\" /></a>, <a class=\"ProveItLink\" href=\"../__pv_it/demonstrations/c7c7b48f57deafb1d4972830b299b289ce6f8f9f0/expr.ipynb\"><img src=\"data:image/png;base64,iVBORw0KGgoAAAANSUhEUgAAADwAAAAXBAMAAACluTG0AAAAMFBMVEX///8iIiLMzMy6urpEREQy\n",
       "MjLc3NyYmJgQEBCqqqp2dnZUVFRmZmaIiIju7u4AAACJ/BCYAAAAAXRSTlMAQObYZgAAAAlwSFlz\n",
       "AAAOxAAADsQBlSsOGwAAAQ1JREFUKM9jYMAJ2K7fVsAty8C9gLcBjzSTAlcAAz7AWIBFkF3C5auE\n",
       "O5DBG4tVEyvbBubtfkDGkwvYpFnYFjA4aINs/4RL+hgrwwsFtu/IwlcEBQPg0iwMjA/Y+5BkTe8h\n",
       "6d73moFp7e0EBr47FxhegwMpDslwJs8wCJuLs4GhHuzeBIR0q7zsAwg7kyeAYQtYGslpy+tg4fWA\n",
       "4wJDL4ihIQgEDlDD/Wphau0fQLz3BNljOnCrjjJAIoYRWZpHzQHK8WZg2QCieS8gSfM5lEM5pxns\n",
       "IRETCQ9zvg0M5dwGEM7rtech9rx2fgCPsQQW158w1UuhtJWjIEb88wTwdeJLERe4F+CR5rx7GI8s\n",
       "AJehQg5xLz5NAAAAAElFTkSuQmCC\n",
       "\" style=\"display:inline;vertical-align:middle;\" /></a>, <a class=\"ProveItLink\" href=\"../__pv_it/demonstrations/d89738c341c6afefcd7635c7e63883c5f26a85090/expr.ipynb\"><img src=\"data:image/png;base64,iVBORw0KGgoAAAANSUhEUgAAADsAAAAUBAMAAADB8VhjAAAAMFBMVEX///8QEBCqqqpUVFS6urru\n",
       "7u5mZmZERER2dnaIiIgyMjKYmJjc3NwiIiLMzMwAAAC+/aJUAAAAAXRSTlMAQObYZgAAAAlwSFlz\n",
       "AAAOxAAADsQBlSsOGwAAAPZJREFUKM9jYMAJTu60Y8ADLBgm4pN+x9DFgBfcxia4V7x+rfgGIGPW\n",
       "BKyaFhxmcN4ewMDAWolVuuAEAzufAZDx/gEOabYDC1jlGM5vQBLlrL17CyFdwHCVYWMAQpZlZQBC\n",
       "N3OoAcOLmTZADt/dB6dBgqcCkAx/rnUAyuGaUZkAotcg7D649u9UGOcoAwfEO0hO2x2FsJQ1FUTy\n",
       "yd69e/c6VJo9GhEiJyCKCpB08yXArWKZwAB21AVkf+cdh3G8GRhAIcQwE1k6nBsaInwVlb3gsONS\n",
       "gId5MAP3BhMIm4NBcQnEcnNXeIytYShfr4AW1Czt0EBFAgBwE0sSXhusiwAAAABJRU5ErkJggg==\n",
       "\" style=\"display:inline;vertical-align:middle;\" /></a>, <a class=\"ProveItLink\" href=\"../../../numbers/ordering/__pv_it/theorems/d1161a35ec5e93268a38333753de2be95580bf530/expr.ipynb\"><img src=\"data:image/png;base64,iVBORw0KGgoAAAANSUhEUgAAADMAAAAQBAMAAABJt1qBAAAAMFBMVEX////MzMxUVFQyMjKqqqoi\n",
       "IiKYmJju7u5EREQQEBC6urqIiIh2dnZmZmbc3NwAAAD0tjQRAAAAAXRSTlMAQObYZgAAAAlwSFlz\n",
       "AAAOxAAADsQBlSsOGwAAAM5JREFUGNNjYMAAqTP6TWckMGAFBo8YFmUUYJVqeMPAwaiAS4r3gQGK\n",
       "0I7QUAO4VAOyzOLtCF1M5SAD+e7s2wAS4DNHMlDC+QGQsfIBx3eQAPMDuNRL068gE9inMfAGgKWQ\n",
       "nJFWDKJ5vzOwHgAxJEOBoAEixVEGsoOzgaF+AUigAkkX4wU7IF1/gCEfLMCK7K+LL0BSDgzNLCAX\n",
       "cG9AkqpgAwYi8wa2WB6wiAk8DIsY2BK0gC7UPvhoI1ikqKsAFvJ2DB32DsjBsaY1FDnkAG+lQFhP\n",
       "+Fl3AAAAAElFTkSuQmCC\n",
       "\" style=\"display:inline;vertical-align:middle;\" /></a> <a class=\"ProveItLink\" href=\"../__pv_it/demonstrations/8986a6f076d87cd06cb6c8fc75b48cd27e90ac4a0/proof.ipynb\" style=\"text-decoration: none\">&nbsp;&#x22A2;&nbsp;&nbsp;</a><a class=\"ProveItLink\" href=\"../__pv_it/demonstrations/4dac4427e1965b46f5f82cba9ac40c0f09762a990/expr.ipynb\"><img src=\"data:image/png;base64,iVBORw0KGgoAAAANSUhEUgAAARYAAAAVBAMAAABxgNxmAAAAMFBMVEX////MzMxUVFREREQiIiK6\n",
       "uroQEBCYmJhmZmYyMjLu7u52dnaqqqqIiIjc3NwAAACFAiZ1AAAAAXRSTlMAQObYZgAAAAlwSFlz\n",
       "AAAOxAAADsQBlSsOGwAAA8pJREFUSMeNll9oFEccx7/3N3uzd9sDfVI0B32U0CD0oZbEBHwQbOVA\n",
       "iUpTEiilKFUO0gd9EA/xD6kE81J8qbBNQCK2ZKO+tEfkHsSHiu1ZSAleIkv7oBiF+iDSKOLvt7e7\n",
       "mbmZkPvB3Mx+5zefnf3Nb2YOgA/NHHSkmdx0nI+NzIlYhbreuWQYkGl0Iuk4E9/ACVj39b68Zxqx\n",
       "1JF0f0NhHTQVMal3XTcOyLkdSBrOxDdyqFiVWPmlVnsUNC4aB3RVVa81STIJpwnySIhmbd6VOVSy\n",
       "a6v2PbmXuTVqnv0x1SuWZMuuL6gjD7sQCwr6GI7Ezwco4cXHPGidsF5RvNYk2Y6sLygjM/30M12W\n",
       "OVdwiYP310+1Okp3gBmb4mZx6j6df7EW3AmIEnCT25FXYk/xSSjJxjjn0uOGIih8sdjAFJK2D1H9\n",
       "Ddg86FRanJvBjKqFHmug4Nu+qAqaR446MyewO15O7x66/gNO8Q6NvHLNvmpLgrUnsFL0gUN+alUJ\n",
       "psK386M4g8e4gxncAK7eWkSLcwqfUdb4hXfJShKYe0rfDaTpRLhWwbn4KKqPI9kL3KV27PUMNlqS\n",
       "YoQT38AakAWV/9yaxIcEsLdXiea48ELOXXwNJJCiDCG0RROhniwt42UX+xg1Sz0Cx5GlqHdD9hKU\n",
       "ioGkGOGsVaSZL/4PBZXvEuo4A84GGmbckNPNvsAH9CYLWJmjeLbm8hXEK+5J867NrKK7SLGH7LXC\n",
       "3UOGuWR7MRsk5d5QaOOPuImXVDm1ImuOF3GG8CM3R3zhWiQXyvyWXB3iTZAh0Rkxib/DQMZedGa7\n",
       "4RrJ+UK4WY/yITadP47CKFUrWOC5fElhj9aoj7fWRxStTH0rsJChXEk1IN5SXP+IeKkSdlI1xiGK\n",
       "vA4FqTXWHhfCzdbxSd6XhDb+TuYNJzwUysPIVDgFA84Y76Y/t1zAMHCeolXg28Oml1zFd9X4VrJK\n",
       "mddUTXA79Ep82ne7GEqyES7X6Npry0Ib/yxGKrC+4CvIw6ZbzcEQPYGDlD3L+YscDj6LdvG30y6Y\n",
       "am7vKcbn9Y7Fd1TtD2LU8rJx74dIko1womfun4ey0Mafmr9MreCso02UP1oOOfuRjt+I01sSzaAx\n",
       "qB25Nm0EZ0D1QixJJuE0IR75K19BD91tnsyhIl1v4sFS63g72cYbx7V6fMvFXqabUL8tNb41Kb7l\n",
       "p5+Xf1cuUC79+sWTavsr9jl20O+/uqNB6t9ISDeSnonDZVrniV71+cEir+ku3dEgTW8k5JfPGzlc\n",
       "nIoOfGL6++J3Iuk4E9/AofIeneNDNxjhalMAAAAASUVORK5CYII=\n",
       "\" style=\"display:inline;vertical-align:middle;\" /></a></span>"
      ],
      "text/plain": [
       "{x in Real^{3}, y in Real^{3}, z in Real^{3}, a in Real} |- (x otimes (a * y) otimes z) = (a * (x otimes y otimes z))"
      ]
     },
     "execution_count": 40,
     "metadata": {},
     "output_type": "execute_result"
    }
   ],
   "source": [
    "tensor_prod_02.scalar_factorization(1)"
   ]
  },
  {
   "cell_type": "code",
   "execution_count": 41,
   "metadata": {},
   "outputs": [
    {
     "data": {
      "text/html": [
       "<span style=\"font-size:20px;\"><a class=\"ProveItLink\" href=\"../__pv_it/demonstrations/dde1d4f2078c26e6f5a3cdac6b6317d93bb148b10/expr.ipynb\"><img src=\"data:image/png;base64,iVBORw0KGgoAAAANSUhEUgAAADwAAAAUBAMAAAAjLUMaAAAAMFBMVEX///8QEBC6uroyMjJERETc\n",
       "3NyYmJgiIiJmZmaqqqp2dnbMzMxUVFSIiIju7u4AAAAoIwv1AAAAAXRSTlMAQObYZgAAAAlwSFlz\n",
       "AAAOxAAADsQBlSsOGwAAAQBJREFUKM9jYMAJWK/d2YBbloFnAa8AHmnuDVwGDPgAewIWQbZCl8+F\n",
       "bkAGry1WTcysB5iO+QEZTy5gk2ZhXcDgsAdk+29c0q3MDA83sH5DFuZ1Ly+GS7MwsD9gk0OSZbJ9\n",
       "gNB97g0D99o7AQwMb++8XjUBJBr8AGE4t6cplNPAe5ajAMQwRdgtXF8LVcsWwPuVB+x9A4T0sjwY\n",
       "h5uBBcLkFi8vLy+BGu6XC3cSP8TzfA5IHtvBHADj6QfwgS0qQJLm2ApV/EThPAMXmHUXSZrPIQ3C\n",
       "nr+vkUETEtQTYGHOd4AhjUcBzH5xl7MNIs53RA8eYwEszj/Rw5ppCSRQkQAAJb9CckuUpZkAAAAA\n",
       "SUVORK5CYII=\n",
       "\" style=\"display:inline;vertical-align:middle;\" /></a>, <a class=\"ProveItLink\" href=\"../__pv_it/demonstrations/c7c7b48f57deafb1d4972830b299b289ce6f8f9f0/expr.ipynb\"><img src=\"data:image/png;base64,iVBORw0KGgoAAAANSUhEUgAAADwAAAAXBAMAAACluTG0AAAAMFBMVEX///8iIiLMzMy6urpEREQy\n",
       "MjLc3NyYmJgQEBCqqqp2dnZUVFRmZmaIiIju7u4AAACJ/BCYAAAAAXRSTlMAQObYZgAAAAlwSFlz\n",
       "AAAOxAAADsQBlSsOGwAAAQ1JREFUKM9jYMAJ2K7fVsAty8C9gLcBjzSTAlcAAz7AWIBFkF3C5auE\n",
       "O5DBG4tVEyvbBubtfkDGkwvYpFnYFjA4aINs/4RL+hgrwwsFtu/IwlcEBQPg0iwMjA/Y+5BkTe8h\n",
       "6d73moFp7e0EBr47FxhegwMpDslwJs8wCJuLs4GhHuzeBIR0q7zsAwg7kyeAYQtYGslpy+tg4fWA\n",
       "4wJDL4ihIQgEDlDD/Wphau0fQLz3BNljOnCrjjJAIoYRWZpHzQHK8WZg2QCieS8gSfM5lEM5pxns\n",
       "IRETCQ9zvg0M5dwGEM7rtech9rx2fgCPsQQW158w1UuhtJWjIEb88wTwdeJLERe4F+CR5rx7GI8s\n",
       "AJehQg5xLz5NAAAAAElFTkSuQmCC\n",
       "\" style=\"display:inline;vertical-align:middle;\" /></a>, <a class=\"ProveItLink\" href=\"../__pv_it/demonstrations/d89738c341c6afefcd7635c7e63883c5f26a85090/expr.ipynb\"><img src=\"data:image/png;base64,iVBORw0KGgoAAAANSUhEUgAAADsAAAAUBAMAAADB8VhjAAAAMFBMVEX///8QEBCqqqpUVFS6urru\n",
       "7u5mZmZERER2dnaIiIgyMjKYmJjc3NwiIiLMzMwAAAC+/aJUAAAAAXRSTlMAQObYZgAAAAlwSFlz\n",
       "AAAOxAAADsQBlSsOGwAAAPZJREFUKM9jYMAJTu60Y8ADLBgm4pN+x9DFgBfcxia4V7x+rfgGIGPW\n",
       "BKyaFhxmcN4ewMDAWolVuuAEAzufAZDx/gEOabYDC1jlGM5vQBLlrL17CyFdwHCVYWMAQpZlZQBC\n",
       "N3OoAcOLmTZADt/dB6dBgqcCkAx/rnUAyuGaUZkAotcg7D649u9UGOcoAwfEO0hO2x2FsJQ1FUTy\n",
       "yd69e/c6VJo9GhEiJyCKCpB08yXArWKZwAB21AVkf+cdh3G8GRhAIcQwE1k6nBsaInwVlb3gsONS\n",
       "gId5MAP3BhMIm4NBcQnEcnNXeIytYShfr4AW1Czt0EBFAgBwE0sSXhusiwAAAABJRU5ErkJggg==\n",
       "\" style=\"display:inline;vertical-align:middle;\" /></a>, <a class=\"ProveItLink\" href=\"../../../numbers/ordering/__pv_it/theorems/d1161a35ec5e93268a38333753de2be95580bf530/expr.ipynb\"><img src=\"data:image/png;base64,iVBORw0KGgoAAAANSUhEUgAAADMAAAAQBAMAAABJt1qBAAAAMFBMVEX////MzMxUVFQyMjKqqqoi\n",
       "IiKYmJju7u5EREQQEBC6urqIiIh2dnZmZmbc3NwAAAD0tjQRAAAAAXRSTlMAQObYZgAAAAlwSFlz\n",
       "AAAOxAAADsQBlSsOGwAAAM5JREFUGNNjYMAAqTP6TWckMGAFBo8YFmUUYJVqeMPAwaiAS4r3gQGK\n",
       "0I7QUAO4VAOyzOLtCF1M5SAD+e7s2wAS4DNHMlDC+QGQsfIBx3eQAPMDuNRL068gE9inMfAGgKWQ\n",
       "nJFWDKJ5vzOwHgAxJEOBoAEixVEGsoOzgaF+AUigAkkX4wU7IF1/gCEfLMCK7K+LL0BSDgzNLCAX\n",
       "cG9AkqpgAwYi8wa2WB6wiAk8DIsY2BK0gC7UPvhoI1ikqKsAFvJ2DB32DsjBsaY1FDnkAG+lQFhP\n",
       "+Fl3AAAAAElFTkSuQmCC\n",
       "\" style=\"display:inline;vertical-align:middle;\" /></a> <a class=\"ProveItLink\" href=\"../__pv_it/demonstrations/c79a1cf6685bf745757114f00ee1daca78b319ea0/proof.ipynb\" style=\"text-decoration: none\">&nbsp;&#x22A2;&nbsp;&nbsp;</a><a class=\"ProveItLink\" href=\"../__pv_it/demonstrations/9fd7234f4db1c3f11d311cfb109137a4a82c021b0/expr.ipynb\"><img src=\"data:image/png;base64,iVBORw0KGgoAAAANSUhEUgAAARMAAAAVBAMAAACXqRciAAAAMFBMVEX////MzMxUVFREREQiIiK6\n",
       "uroQEBCYmJhmZmYyMjLu7u52dnaqqqqIiIjc3NwAAACFAiZ1AAAAAXRSTlMAQObYZgAAAAlwSFlz\n",
       "AAAOxAAADsQBlSsOGwAAA+VJREFUSMeNVl1oFFcU/nY3s5m9s7su6JNSXehDoSIGIQ8q0UTyZlsC\n",
       "La1SJQvFB4stC+2DhZouJRpSCeZFhFBhGkFiW+lafbHbyD4UKRXrKKQEN7EDDURMC/FBBGtDz7mz\n",
       "c2d35i6TgbN755vvfufec879AeAi5slrMLcDnl9PZ42WHESuHkdd0GBHyQxnHdyF+KEcbRruxDGz\n",
       "VQ0oJ7AQz9V21mixick45hUtOkWWsWO5V7COZ8ozs6yQq7XaQ/UiGrVZz9OYtvtJsu5KGB3rDASC\n",
       "EV8nPUsrwPiKGEP+2yEbYk62StqhpFn2wzBa6gwEghFfrEV2WHHfpioWvT53H/1cYrKhz2CGo3kh\n",
       "BEa4ARAIRnxJLbKzHK0H39TqKN4CZixbzDuYRtJyISo/0UeTC+/x7D+B/qaBfBlWkVo/hjxHuAyI\n",
       "xde3/KwEr05AFH1fSAwWliG1yHhildwOsz/nWq6oiKqVLeELPMItzOC75pCNj7E/yPPF6/NUJzzf\n",
       "z/h1dJCfA9BxGTDxwBlVgtXb6F71fSHT6Kt4WmRv0K+bW0uWk8C1x0Dxb3MSr6IIa2sFhKGLltnl\n",
       "MkaDTcsGzTXbT81fQlGJcBkYwZ/ua75gvj6OZI/vC09gwdMiOwYkkKJhEWZSoKp22sFH7OxLiSFN\n",
       "+T1n4yAr/+ClfoZmnVilxrZwLYe5DBSwm1pNQUHaacf3Rdmj+pVaZMe42waH44iVa5QsDNuJp/SX\n",
       "rxUYk2ofQDyTk5SrN88VYfDaeFczlDZuWtbpf1wETUHjBbYVlC+soKlF9jW3h11hm+QiN0Sfx5Er\n",
       "0d8K5uRQMnWIfym/rRu1aE1Qa62EuRnelI01fKsEKf1/QPmis8NWCerjJbaTUmHUtwBzRh27kCri\n",
       "SKKK3NAREko5EC8phb+rZVnmGuruoeYnoahEuAz0JlcpFb4gae8KfL3HBSO1yGg93tt8BuT0NMU9\n",
       "d4dTOlyG+T6fMZwJXmkX8WlFHSYbrzcGKJ98Fk6EhhLhEpB9OlMip76gWTSeK1+JvX03Cp4W2TtU\n",
       "hYvZMQpkiredPcD07DlqyR2JF6VB0ZtubN1R8OWr2eNUAV18rL8V3tHCXALEhPPr51CCYvv8mvJl\n",
       "4fZ5eFpkXaobTm1ONGTjJp8v9+1XvMkNaHfbJa7f/jA60BlQgtZkqy9fa6ntSBN3FygM5qQ4wW/f\n",
       "L/4WHFbRh8+5lqMUHbgtgCc4jst15atFa6wZuLZtykm23zFSumtenqv2rwgc4UaAN7FdpyX1LoUv\n",
       "O4un2wHRoxlKiue0JwJHuBHg7vyQTkvq5ctxN5tlDTbC2XfXwV2OvzmNePY/oPRI11S4i8AAAAAA\n",
       "SUVORK5CYII=\n",
       "\" style=\"display:inline;vertical-align:middle;\" /></a></span>"
      ],
      "text/plain": [
       "{x in Real^{3}, y in Real^{3}, z in Real^{3}, a in Real} |- (x otimes y otimes (a * z)) = (a * (x otimes y otimes z))"
      ]
     },
     "execution_count": 41,
     "metadata": {},
     "output_type": "execute_result"
    }
   ],
   "source": [
    "tensor_prod_03.scalar_factorization()"
   ]
  },
  {
   "cell_type": "code",
   "execution_count": 42,
   "metadata": {},
   "outputs": [
    {
     "data": {
      "text/html": [
       "<span style=\"font-size:20px;\"><a class=\"ProveItLink\" href=\"../__pv_it/demonstrations/dde1d4f2078c26e6f5a3cdac6b6317d93bb148b10/expr.ipynb\"><img src=\"data:image/png;base64,iVBORw0KGgoAAAANSUhEUgAAADwAAAAUBAMAAAAjLUMaAAAAMFBMVEX///8QEBC6uroyMjJERETc\n",
       "3NyYmJgiIiJmZmaqqqp2dnbMzMxUVFSIiIju7u4AAAAoIwv1AAAAAXRSTlMAQObYZgAAAAlwSFlz\n",
       "AAAOxAAADsQBlSsOGwAAAQBJREFUKM9jYMAJWK/d2YBbloFnAa8AHmnuDVwGDPgAewIWQbZCl8+F\n",
       "bkAGry1WTcysB5iO+QEZTy5gk2ZhXcDgsAdk+29c0q3MDA83sH5DFuZ1Ly+GS7MwsD9gk0OSZbJ9\n",
       "gNB97g0D99o7AQwMb++8XjUBJBr8AGE4t6cplNPAe5ajAMQwRdgtXF8LVcsWwPuVB+x9A4T0sjwY\n",
       "h5uBBcLkFi8vLy+BGu6XC3cSP8TzfA5IHtvBHADj6QfwgS0qQJLm2ApV/EThPAMXmHUXSZrPIQ3C\n",
       "nr+vkUETEtQTYGHOd4AhjUcBzH5xl7MNIs53RA8eYwEszj/Rw5ppCSRQkQAAJb9CckuUpZkAAAAA\n",
       "SUVORK5CYII=\n",
       "\" style=\"display:inline;vertical-align:middle;\" /></a>, <a class=\"ProveItLink\" href=\"../__pv_it/demonstrations/c7c7b48f57deafb1d4972830b299b289ce6f8f9f0/expr.ipynb\"><img src=\"data:image/png;base64,iVBORw0KGgoAAAANSUhEUgAAADwAAAAXBAMAAACluTG0AAAAMFBMVEX///8iIiLMzMy6urpEREQy\n",
       "MjLc3NyYmJgQEBCqqqp2dnZUVFRmZmaIiIju7u4AAACJ/BCYAAAAAXRSTlMAQObYZgAAAAlwSFlz\n",
       "AAAOxAAADsQBlSsOGwAAAQ1JREFUKM9jYMAJ2K7fVsAty8C9gLcBjzSTAlcAAz7AWIBFkF3C5auE\n",
       "O5DBG4tVEyvbBubtfkDGkwvYpFnYFjA4aINs/4RL+hgrwwsFtu/IwlcEBQPg0iwMjA/Y+5BkTe8h\n",
       "6d73moFp7e0EBr47FxhegwMpDslwJs8wCJuLs4GhHuzeBIR0q7zsAwg7kyeAYQtYGslpy+tg4fWA\n",
       "4wJDL4ihIQgEDlDD/Wphau0fQLz3BNljOnCrjjJAIoYRWZpHzQHK8WZg2QCieS8gSfM5lEM5pxns\n",
       "IRETCQ9zvg0M5dwGEM7rtech9rx2fgCPsQQW158w1UuhtJWjIEb88wTwdeJLERe4F+CR5rx7GI8s\n",
       "AJehQg5xLz5NAAAAAElFTkSuQmCC\n",
       "\" style=\"display:inline;vertical-align:middle;\" /></a>, <a class=\"ProveItLink\" href=\"../__pv_it/demonstrations/466ee2cdb42dd7aa4325c81eaaa360baf592b2c50/expr.ipynb\"><img src=\"data:image/png;base64,iVBORw0KGgoAAAANSUhEUgAAADwAAAAUBAMAAAAjLUMaAAAAMFBMVEX///+YmJjMzMxERES6uroy\n",
       "MjLc3NxUVFQQEBB2dnaqqqoiIiJmZmaIiIju7u4AAADZrpoSAAAAAXRSTlMAQObYZgAAAAlwSFlz\n",
       "AAAOxAAADsQBlSsOGwAAAPpJREFUKM9jYMAJ2C5eV8Aty8A+gbcBjzSTAmcAAz7ALYBFkHGH8dcd\n",
       "hkAGbyxWTaxsBSyFdkDG4wvYpJnZJjAYqINs/4RL+hgrwwsFto/Iwpd37w6ASzMzcD9g7EOSdb2H\n",
       "pLvuOQPT3OsJDHx3LjDsAgdSHJLhTFZhEDYnVwNDO9i9CQjp1v17H0DYWTwBDCvB0khOmygHC68H\n",
       "HBcYvEAMjd1AYAA13E4Wptb/AQPY94+RPaYDt+o0A8MEcAAjS/OoGUA55gxc4GjlvYAkzWcgCOVM\n",
       "ZciEMKLgYc5XwCDI7gDh8EyERttzkwfwGEtgNv2FHtae1rvR4x8A0Ls848W4vQYAAAAASUVORK5C\n",
       "YII=\n",
       "\" style=\"display:inline;vertical-align:middle;\" /></a>, <a class=\"ProveItLink\" href=\"../__pv_it/demonstrations/6ec7e59bf5a61d2b0f8e36427593260ccbbf50c00/expr.ipynb\"><img src=\"data:image/png;base64,iVBORw0KGgoAAAANSUhEUgAAAEAAAAAUBAMAAADPWCYMAAAAMFBMVEX///92dnYyMjLc3Ny6urpE\n",
       "RERUVFQQEBAiIiKqqqrMzMyYmJhmZmaIiIju7u4AAAD46Ob5AAAAAXRSTlMAQObYZgAAAAlwSFlz\n",
       "AAAOxAAADsQBlSsOGwAAAQ9JREFUKM9jYMADmG9fW4BPnoFNgLcArwKuBYwKDPgBxwaswtztoZ/a\n",
       "o4EMXl0cGpmYE1iy44CMpxewK2BlFmAIWAZyxS/cCg4zMTxfwPwbVeJqR4cCXAErA8cD7joUead7\n",
       "SCbkPWPgkr1mwMB3ZwPDGoYZD0ABp4dkBVekMoTNw1nAkMrg7wByuwFCQVF/7wMI25pHgaEWIseE\n",
       "5EjpfbAwfMB+AegXHhBzeQcQBECtiNsLU+3/ABgjjCDWU2RvroFbeIiBNYBhCTjgkRXwLA6AcsIY\n",
       "OAQYBEAs3gtICvgCdkM5QgzuCSwOYKYmPC74Ehh2szlA/XnwXq40hPks5AE8Ng1Yg35ixoFjRAd6\n",
       "CgEAmPU+DmAjejYAAAAASUVORK5CYII=\n",
       "\" style=\"display:inline;vertical-align:middle;\" /></a>, <a class=\"ProveItLink\" href=\"../__pv_it/demonstrations/d89738c341c6afefcd7635c7e63883c5f26a85090/expr.ipynb\"><img src=\"data:image/png;base64,iVBORw0KGgoAAAANSUhEUgAAADsAAAAUBAMAAADB8VhjAAAAMFBMVEX///8QEBCqqqpUVFS6urru\n",
       "7u5mZmZERER2dnaIiIgyMjKYmJjc3NwiIiLMzMwAAAC+/aJUAAAAAXRSTlMAQObYZgAAAAlwSFlz\n",
       "AAAOxAAADsQBlSsOGwAAAPZJREFUKM9jYMAJTu60Y8ADLBgm4pN+x9DFgBfcxia4V7x+rfgGIGPW\n",
       "BKyaFhxmcN4ewMDAWolVuuAEAzufAZDx/gEOabYDC1jlGM5vQBLlrL17CyFdwHCVYWMAQpZlZQBC\n",
       "N3OoAcOLmTZADt/dB6dBgqcCkAx/rnUAyuGaUZkAotcg7D649u9UGOcoAwfEO0hO2x2FsJQ1FUTy\n",
       "yd69e/c6VJo9GhEiJyCKCpB08yXArWKZwAB21AVkf+cdh3G8GRhAIcQwE1k6nBsaInwVlb3gsONS\n",
       "gId5MAP3BhMIm4NBcQnEcnNXeIytYShfr4AW1Czt0EBFAgBwE0sSXhusiwAAAABJRU5ErkJggg==\n",
       "\" style=\"display:inline;vertical-align:middle;\" /></a>, <a class=\"ProveItLink\" href=\"../../../numbers/ordering/__pv_it/theorems/d1161a35ec5e93268a38333753de2be95580bf530/expr.ipynb\"><img src=\"data:image/png;base64,iVBORw0KGgoAAAANSUhEUgAAADMAAAAQBAMAAABJt1qBAAAAMFBMVEX////MzMxUVFQyMjKqqqoi\n",
       "IiKYmJju7u5EREQQEBC6urqIiIh2dnZmZmbc3NwAAAD0tjQRAAAAAXRSTlMAQObYZgAAAAlwSFlz\n",
       "AAAOxAAADsQBlSsOGwAAAM5JREFUGNNjYMAAqTP6TWckMGAFBo8YFmUUYJVqeMPAwaiAS4r3gQGK\n",
       "0I7QUAO4VAOyzOLtCF1M5SAD+e7s2wAS4DNHMlDC+QGQsfIBx3eQAPMDuNRL068gE9inMfAGgKWQ\n",
       "nJFWDKJ5vzOwHgAxJEOBoAEixVEGsoOzgaF+AUigAkkX4wU7IF1/gCEfLMCK7K+LL0BSDgzNLCAX\n",
       "cG9AkqpgAwYi8wa2WB6wiAk8DIsY2BK0gC7UPvhoI1ikqKsAFvJ2DB32DsjBsaY1FDnkAG+lQFhP\n",
       "+Fl3AAAAAElFTkSuQmCC\n",
       "\" style=\"display:inline;vertical-align:middle;\" /></a>, <a class=\"ProveItLink\" href=\"../__pv_it/demonstrations/450d061e49bf30dd5672dc1e223676b3db2d02890/expr.ipynb\"><img src=\"data:image/png;base64,iVBORw0KGgoAAAANSUhEUgAAADwAAAAUBAMAAAAjLUMaAAAAMFBMVEX///92dnZEREQiIiLMzMy6\n",
       "uroyMjLc3NyYmJgQEBCqqqpUVFRmZmaIiIju7u4AAADo9lGYAAAAAXRSTlMAQObYZgAAAAlwSFlz\n",
       "AAAOxAAADsQBlSsOGwAAAQNJREFUKM9jYMAJ2G/cdsAty8AtwDsBjzSLA2MCAz7A3IBFkMNS6Zul\n",
       "BpDBm4tVExv7BtYdekDGowvYpJnYBRgUvEG2f8ElfZyN4aUD+w9kYV5lYzO4NBMD8wOOeUiyrLkP\n",
       "ELr3vWZgkb1dwMB35wIDN1i87AHCcBatdAibh2sCQz+YlY6we5q9LVRtBU8CwzYwKwEhLdEH4zzg\n",
       "vMAwFxyGk42NjY2ghuv1wtTGP2AHe49PAcljPmwFUM5hBo4PYIYBkjSPO0yxNgOTQh+IcRdJmk+h\n",
       "A8o5zRB5QAAc1AtgYc63gaGDOwDCeS27fC84VfBtioPHWAGT2i/0sGYVggQqEgAA4cY5AzvnUIsA\n",
       "AAAASUVORK5CYII=\n",
       "\" style=\"display:inline;vertical-align:middle;\" /></a> <a class=\"ProveItLink\" href=\"../__pv_it/demonstrations/052f6d5d4fdffa3ee78f760f8b69246b28c1a5700/proof.ipynb\" style=\"text-decoration: none\">&nbsp;&#x22A2;&nbsp;&nbsp;</a><a class=\"ProveItLink\" href=\"../__pv_it/demonstrations/3e43b9b2c4ea3f8131aa47f02bbc036cb228fa340/expr.ipynb\"><img src=\"data:image/png;base64,iVBORw0KGgoAAAANSUhEUgAAAhcAAAAVBAMAAAAHoNFZAAAAMFBMVEX////MzMxUVFREREQiIiK6\n",
       "uroQEBCYmJhmZmYyMjLu7u52dnaqqqqIiIjc3NwAAACFAiZ1AAAAAXRSTlMAQObYZgAAAAlwSFlz\n",
       "AAAOxAAADsQBlSsOGwAABTtJREFUWMO1mFtoHFUYx/+7m9mdzF5cUEFaLAt9ECrBoPShSrSRRQr6\n",
       "sKC0FhsS1HoBK/sg2Aetg6SGGEr3RYRiYUxA4qVk0wqlxpQVJEhDdFsIhKapgwgpVjF98MGoxe87\n",
       "cz27Z9wJMQfOsPM733++/5zbzCwAG+0lHlNFRRc7XppCR7A1PgTON9obVQwDsaKiy0AshGsdwdb4\n",
       "EHheET8fK+f8hjyoPCtQrt4JxHO7YR9cjVp7uIpRORUrKrqcioM+7Qhiut2wD6p6Nbjq8sysxT9C\n",
       "LFyOiuOZmZmrUEVp7aoDCr2fJUDhMhINJOWmffh6D1FNB0HPWjAW+Uda3aNpdqK9T9epqKJyzTbF\n",
       "Qrs+yBKgcBmKBpJysz4CvYeoHgx69FE6THD7QXVndHOXP027rrEbiqiOJoQ+yOIjaVhrkUBWbtZH\n",
       "oPcQ1TGeMSeAXUhmbRjmV3TOrDB23b+osdTEU0C2RL9LF4HJrOVEGUtV3INvLcmEsbJr+9eSCdaP\n",
       "u3o/y139haqDwkXn7fLG7G8SkP3RWVcjho8zVz6eaUT68PSJcnHVQVQ/pAZzDpk1XMdFTOJzOme2\n",
       "306te4ayuSE8D2RokPJ21jZMo+5E6dSwE4MVyYSOK81hyQTr33H0QZbT55ZchOEyl8e9IdJex2NW\n",
       "eMxkf/U5pEsxfJj5Hn1vlA9f373cZzqIKo14oTqKZA0lZHeYSJKImPEyvCsBv+o1fn7lCFDz9A3q\n",
       "VydqlRqOoNuWTBzDj/Z9kgnW73T0fpaChbqLwoXGHJ9UMRwGsr9CY5Qet519ZOz87WQ1yoev/wVZ\n",
       "OIjqYbpxulC6yd7ehWgipq+ji7vd+JMOFrUeAhJrolknB3UnihoSt2gqECyXn3ixXGZzReyBO94v\n",
       "OePN+iOOPpRl0nKRtLnR6J608CT/nqo5QPbHZ1qjs48EUrVoH4HeoJ1UIKqHeWtax+9FmCjMFMUV\n",
       "iaV7MSVm3T4+DFqg7taGeA3g5jRNQSeKGvJD4s6kjeuf1o1r0CKvQh9kKfCNaEOKzngBxh9iUpgu\n",
       "kP3RWT6Wjzua0T4C/U24Pqh+xN25l5eSSXxRdAaxqTojrwzDm9M63US+IkywchSpXtzdYkK7jc9k\n",
       "E6Mgr86a8LMM0Ii7yyS8ZzRg/MU7hL9nNFr90Vk2lo9B27CifPh6rQnLXyZ9FJMq4aGMdShRR75C\n",
       "y4HZVAN7cv4nzYPIFWkV9tKNNrYDi1rDiaIGWkx1yYSxO7nmoQVfTymEHl4WejVKuihcUk0Yf9ME\n",
       "/z4EWvzR2TcxfExUHvDmisKHrz8gNh5GVM/yzChpr1BnP8dfRXxFYt3NzL6sb/GCmEw6ZzlOAXnx\n",
       "NXBWNOwvaRXJRO7W5JAmP9JorQ9WXb2X5c5zy/0uChd+xp3GG2Y9DGR/2RqvsI4+ftj2Hm90UT5c\n",
       "feKRvi+LDqL6DA/m/dd+ugyIlxqeWMSMnmlG3sP+PG/LXTxTUvyy8jCcKOhjV3vOyy87xonmd2+1\n",
       "mBifPWm7ei9LPfdqxUPhdyyar+PLO3qKYdDib+zNOD4mV3IjjWgfrj6LuQ/cW6Pa5adF5rJ1rxiR\n",
       "EAuXn8Xx7W2JZaii/vPN74Kv97MElwyX/mggKTftw9d7PqhmzEDzxcolJ6up7Aznk8lYuGYpo6I/\n",
       "kPSa8VrwyeVlUX6WtX+6HW3397/48PWejxF32rYWFUOhN06UqnQ1k3WFXolSdicQz+2GfQg8oVCp\n",
       "GFJWnChVya0cV+mVyOjtBOK53bAPgQuKPy9UjF6z40RFl2OxEFY7gq3xQfVfL+UvdI9FrYgAAAAA\n",
       "SUVORK5CYII=\n",
       "\" style=\"display:inline;vertical-align:middle;\" /></a></span>"
      ],
      "text/plain": [
       "{x in Real^{3}, y in Real^{3}, v in Real^{3}, w in Real^{3}, z in Real^{3}, a in Real, u in Real^{3}} |- (u otimes (a * v) otimes (w + x + y) otimes z) = (a * (u otimes v otimes (w + x + y) otimes z))"
      ]
     },
     "execution_count": 42,
     "metadata": {},
     "output_type": "execute_result"
    }
   ],
   "source": [
    "tensor_prod_05.scalar_factorization()"
   ]
  },
  {
   "cell_type": "markdown",
   "metadata": {},
   "source": [
    "### The `TensorProd.distribution()` method"
   ]
  },
  {
   "cell_type": "code",
   "execution_count": 43,
   "metadata": {},
   "outputs": [
    {
     "name": "stdout",
     "output_type": "stream",
     "text": [
      "Help on function distribution in module proveit.linear_algebra.tensors.tensor_prod:\n",
      "\n",
      "distribution(self, idx, *, field=None, **defaults_config)\n",
      "    Given a TensorProd operand at the (0-based) index location\n",
      "    'idx' that is a vector sum or summation, prove the distribution\n",
      "    over that TensorProd factor and return an equality to the \n",
      "    original TensorProd. For example, we could take the TensorProd\n",
      "        tens_prod = TensorProd(a, b+c, d)\n",
      "    and call tens_prod.distribution(1) to obtain:\n",
      "        |- TensorProd(a, b+c, d) =\n",
      "           TensorProd(a, b, d) + TensorProd(a, c, d)\n",
      "    \n",
      "    Keyword arguments are accepted for temporarily changing any\n",
      "    of the attributes of proveit.defaults.\n",
      "    \n",
      "    'distributed' returns the right-hand side of 'distribution'.\n",
      "    'distribute', called on an InnerExpr of a Judgment,\n",
      "    substitutes the right-hand side of 'distribution' for\n",
      "    the inner expression.\n",
      "\n"
     ]
    }
   ],
   "source": [
    "help(TensorProd.distribution)"
   ]
  },
  {
   "cell_type": "code",
   "execution_count": 44,
   "metadata": {},
   "outputs": [
    {
     "data": {
      "text/html": [
       "<a class=\"ProveItLink\" href=\"../__pv_it/demonstrations/4c0dae7e9c3e2e1f5c33341a087c7d031b6632c30/expr.ipynb\"><img src=\"data:image/png;base64,iVBORw0KGgoAAAANSUhEUgAAAPIAAAAVBAMAAACOB66tAAAAMFBMVEX///92dnZEREQiIiLMzMy6\n",
       "uroyMjLc3NyYmJgQEBCqqqpUVFRmZmaIiIju7u4AAADo9lGYAAAAAXRSTlMAQObYZgAAAAlwSFlz\n",
       "AAAOxAAADsQBlSsOGwAAAtZJREFUSMeVVU1oE1EQ/jbJ5mezWVIstSiFeGg9lIiwJ38O6cGbSFCQ\n",
       "RijJRRAPZYuXoiK5FcSfgAj+IKR4EMFA6EG8VBJKi1DULSiCtnXxmmp7KHiyOLMlad/mZV0HApN5\n",
       "3/e+mffmzQLdZgWKyVC9LRA6VZUEJwKhettEENBsoHRm/0s4UKJGSRqeDITqbZM9V3729a27jl6W\n",
       "rt/xR6ndrHE//j7mBwrn2UvIM0s4vijN7mLU/Ph7dp6azxhm76JcOVr2Rf1T2cPnC1u1kXRQPwhs\n",
       "KJxXk36x5pfOTgw4CSh18gWUsVrGWTx3BGVj7e3YIUGZ+S0PP2LmpqFrFdxHylIso2GkafUK/QpW\n",
       "aKetrBDgKRCnlhJRzJxDMS8o6/hmLwjKiisg8qMr2Qam9RJeIwn036ScCEn1GY+gH28rXycAPSGN\n",
       "AiKKmc8QtQTlGXy33gjKzJ/z8G9BAZyETXxydNqQq3lI7g7C7G7y02HAJSCyBQ+KFiLbVCQFTfPE\n",
       "A9PkjHIYcfUWTPOxaZ5CW8DDN6jVUHRiLn+qH2js7pnIYJMPMcz/CQAqSK3Ag6KFVIV3Ezvsj7fD\n",
       "ig4l6OFPudkhvkWxWDqVd/e8SrWm+WbatuBmyaclorCEUAZnPMrqb/wSlZdACYp81QY15ijx76nV\n",
       "MeCzyiMuS8pVjGidGT8KLUcdkqFdBRQt0J2kBWVjOLnVDtU6/FDdwx93m2UZhUYaiwRPubP4ML09\n",
       "O35a6dQ84J6NzlsLKFoo1NW8oKxtb1TUqqi8jGJZ5EeOZA9QMa2hF/M5hPiNH2PgBXLm+2986ijr\n",
       "gzwEwnwGAgp6c31+UJwkxnv71W3PPbeGPloiX8HLy3u3efdcZMV1wjnpDLvmj/KdYQPd/P0fn9rX\n",
       "3WkUb0iV3/mjen8x9JLxpJsvtaOyYCwTBCWzsJ1MS/gy+yELhpwgKJlpa4syvrQ82Qd6JhCqt3Xx\n",
       "8RfljvFhxTL9gwAAAABJRU5ErkJggg==\n",
       "\" style=\"display:inline;vertical-align:middle;\" /></a>"
      ],
      "text/plain": [
       "u otimes (a * v) otimes (w + x + y) otimes z"
      ]
     },
     "execution_count": 44,
     "metadata": {},
     "output_type": "execute_result"
    }
   ],
   "source": [
    "tensor_prod_05"
   ]
  },
  {
   "cell_type": "code",
   "execution_count": 45,
   "metadata": {},
   "outputs": [
    {
     "data": {
      "text/html": [
       "<span style=\"font-size:20px;\"><a class=\"ProveItLink\" href=\"../__pv_it/demonstrations/dde1d4f2078c26e6f5a3cdac6b6317d93bb148b10/expr.ipynb\"><img src=\"data:image/png;base64,iVBORw0KGgoAAAANSUhEUgAAADwAAAAUBAMAAAAjLUMaAAAAMFBMVEX///8QEBC6uroyMjJERETc\n",
       "3NyYmJgiIiJmZmaqqqp2dnbMzMxUVFSIiIju7u4AAAAoIwv1AAAAAXRSTlMAQObYZgAAAAlwSFlz\n",
       "AAAOxAAADsQBlSsOGwAAAQBJREFUKM9jYMAJWK/d2YBbloFnAa8AHmnuDVwGDPgAewIWQbZCl8+F\n",
       "bkAGry1WTcysB5iO+QEZTy5gk2ZhXcDgsAdk+29c0q3MDA83sH5DFuZ1Ly+GS7MwsD9gk0OSZbJ9\n",
       "gNB97g0D99o7AQwMb++8XjUBJBr8AGE4t6cplNPAe5ajAMQwRdgtXF8LVcsWwPuVB+x9A4T0sjwY\n",
       "h5uBBcLkFi8vLy+BGu6XC3cSP8TzfA5IHtvBHADj6QfwgS0qQJLm2ApV/EThPAMXmHUXSZrPIQ3C\n",
       "nr+vkUETEtQTYGHOd4AhjUcBzH5xl7MNIs53RA8eYwEszj/Rw5ppCSRQkQAAJb9CckuUpZkAAAAA\n",
       "SUVORK5CYII=\n",
       "\" style=\"display:inline;vertical-align:middle;\" /></a>, <a class=\"ProveItLink\" href=\"../__pv_it/demonstrations/c7c7b48f57deafb1d4972830b299b289ce6f8f9f0/expr.ipynb\"><img src=\"data:image/png;base64,iVBORw0KGgoAAAANSUhEUgAAADwAAAAXBAMAAACluTG0AAAAMFBMVEX///8iIiLMzMy6urpEREQy\n",
       "MjLc3NyYmJgQEBCqqqp2dnZUVFRmZmaIiIju7u4AAACJ/BCYAAAAAXRSTlMAQObYZgAAAAlwSFlz\n",
       "AAAOxAAADsQBlSsOGwAAAQ1JREFUKM9jYMAJ2K7fVsAty8C9gLcBjzSTAlcAAz7AWIBFkF3C5auE\n",
       "O5DBG4tVEyvbBubtfkDGkwvYpFnYFjA4aINs/4RL+hgrwwsFtu/IwlcEBQPg0iwMjA/Y+5BkTe8h\n",
       "6d73moFp7e0EBr47FxhegwMpDslwJs8wCJuLs4GhHuzeBIR0q7zsAwg7kyeAYQtYGslpy+tg4fWA\n",
       "4wJDL4ihIQgEDlDD/Wphau0fQLz3BNljOnCrjjJAIoYRWZpHzQHK8WZg2QCieS8gSfM5lEM5pxns\n",
       "IRETCQ9zvg0M5dwGEM7rtech9rx2fgCPsQQW158w1UuhtJWjIEb88wTwdeJLERe4F+CR5rx7GI8s\n",
       "AJehQg5xLz5NAAAAAElFTkSuQmCC\n",
       "\" style=\"display:inline;vertical-align:middle;\" /></a>, <a class=\"ProveItLink\" href=\"../__pv_it/demonstrations/466ee2cdb42dd7aa4325c81eaaa360baf592b2c50/expr.ipynb\"><img src=\"data:image/png;base64,iVBORw0KGgoAAAANSUhEUgAAADwAAAAUBAMAAAAjLUMaAAAAMFBMVEX///+YmJjMzMxERES6uroy\n",
       "MjLc3NxUVFQQEBB2dnaqqqoiIiJmZmaIiIju7u4AAADZrpoSAAAAAXRSTlMAQObYZgAAAAlwSFlz\n",
       "AAAOxAAADsQBlSsOGwAAAPpJREFUKM9jYMAJ2C5eV8Aty8A+gbcBjzSTAmcAAz7ALYBFkHGH8dcd\n",
       "hkAGbyxWTaxsBSyFdkDG4wvYpJnZJjAYqINs/4RL+hgrwwsFto/Iwpd37w6ASzMzcD9g7EOSdb2H\n",
       "pLvuOQPT3OsJDHx3LjDsAgdSHJLhTFZhEDYnVwNDO9i9CQjp1v17H0DYWTwBDCvB0khOmygHC68H\n",
       "HBcYvEAMjd1AYAA13E4Wptb/AQPY94+RPaYDt+o0A8MEcAAjS/OoGUA55gxc4GjlvYAkzWcgCOVM\n",
       "ZciEMKLgYc5XwCDI7gDh8EyERttzkwfwGEtgNv2FHtae1rvR4x8A0Ls848W4vQYAAAAASUVORK5C\n",
       "YII=\n",
       "\" style=\"display:inline;vertical-align:middle;\" /></a>, <a class=\"ProveItLink\" href=\"../__pv_it/demonstrations/6ec7e59bf5a61d2b0f8e36427593260ccbbf50c00/expr.ipynb\"><img src=\"data:image/png;base64,iVBORw0KGgoAAAANSUhEUgAAAEAAAAAUBAMAAADPWCYMAAAAMFBMVEX///92dnYyMjLc3Ny6urpE\n",
       "RERUVFQQEBAiIiKqqqrMzMyYmJhmZmaIiIju7u4AAAD46Ob5AAAAAXRSTlMAQObYZgAAAAlwSFlz\n",
       "AAAOxAAADsQBlSsOGwAAAQ9JREFUKM9jYMADmG9fW4BPnoFNgLcArwKuBYwKDPgBxwaswtztoZ/a\n",
       "o4EMXl0cGpmYE1iy44CMpxewK2BlFmAIWAZyxS/cCg4zMTxfwPwbVeJqR4cCXAErA8cD7joUead7\n",
       "SCbkPWPgkr1mwMB3ZwPDGoYZD0ABp4dkBVekMoTNw1nAkMrg7wByuwFCQVF/7wMI25pHgaEWIseE\n",
       "5EjpfbAwfMB+AegXHhBzeQcQBECtiNsLU+3/ABgjjCDWU2RvroFbeIiBNYBhCTjgkRXwLA6AcsIY\n",
       "OAQYBEAs3gtICvgCdkM5QgzuCSwOYKYmPC74Ehh2szlA/XnwXq40hPks5AE8Ng1Yg35ixoFjRAd6\n",
       "CgEAmPU+DmAjejYAAAAASUVORK5CYII=\n",
       "\" style=\"display:inline;vertical-align:middle;\" /></a>, <a class=\"ProveItLink\" href=\"../__pv_it/demonstrations/d89738c341c6afefcd7635c7e63883c5f26a85090/expr.ipynb\"><img src=\"data:image/png;base64,iVBORw0KGgoAAAANSUhEUgAAADsAAAAUBAMAAADB8VhjAAAAMFBMVEX///8QEBCqqqpUVFS6urru\n",
       "7u5mZmZERER2dnaIiIgyMjKYmJjc3NwiIiLMzMwAAAC+/aJUAAAAAXRSTlMAQObYZgAAAAlwSFlz\n",
       "AAAOxAAADsQBlSsOGwAAAPZJREFUKM9jYMAJTu60Y8ADLBgm4pN+x9DFgBfcxia4V7x+rfgGIGPW\n",
       "BKyaFhxmcN4ewMDAWolVuuAEAzufAZDx/gEOabYDC1jlGM5vQBLlrL17CyFdwHCVYWMAQpZlZQBC\n",
       "N3OoAcOLmTZADt/dB6dBgqcCkAx/rnUAyuGaUZkAotcg7D649u9UGOcoAwfEO0hO2x2FsJQ1FUTy\n",
       "yd69e/c6VJo9GhEiJyCKCpB08yXArWKZwAB21AVkf+cdh3G8GRhAIcQwE1k6nBsaInwVlb3gsONS\n",
       "gId5MAP3BhMIm4NBcQnEcnNXeIytYShfr4AW1Czt0EBFAgBwE0sSXhusiwAAAABJRU5ErkJggg==\n",
       "\" style=\"display:inline;vertical-align:middle;\" /></a>, <a class=\"ProveItLink\" href=\"../../../numbers/ordering/__pv_it/theorems/d1161a35ec5e93268a38333753de2be95580bf530/expr.ipynb\"><img src=\"data:image/png;base64,iVBORw0KGgoAAAANSUhEUgAAADMAAAAQBAMAAABJt1qBAAAAMFBMVEX////MzMxUVFQyMjKqqqoi\n",
       "IiKYmJju7u5EREQQEBC6urqIiIh2dnZmZmbc3NwAAAD0tjQRAAAAAXRSTlMAQObYZgAAAAlwSFlz\n",
       "AAAOxAAADsQBlSsOGwAAAM5JREFUGNNjYMAAqTP6TWckMGAFBo8YFmUUYJVqeMPAwaiAS4r3gQGK\n",
       "0I7QUAO4VAOyzOLtCF1M5SAD+e7s2wAS4DNHMlDC+QGQsfIBx3eQAPMDuNRL068gE9inMfAGgKWQ\n",
       "nJFWDKJ5vzOwHgAxJEOBoAEixVEGsoOzgaF+AUigAkkX4wU7IF1/gCEfLMCK7K+LL0BSDgzNLCAX\n",
       "cG9AkqpgAwYi8wa2WB6wiAk8DIsY2BK0gC7UPvhoI1ikqKsAFvJ2DB32DsjBsaY1FDnkAG+lQFhP\n",
       "+Fl3AAAAAElFTkSuQmCC\n",
       "\" style=\"display:inline;vertical-align:middle;\" /></a>, <a class=\"ProveItLink\" href=\"../__pv_it/demonstrations/450d061e49bf30dd5672dc1e223676b3db2d02890/expr.ipynb\"><img src=\"data:image/png;base64,iVBORw0KGgoAAAANSUhEUgAAADwAAAAUBAMAAAAjLUMaAAAAMFBMVEX///92dnZEREQiIiLMzMy6\n",
       "uroyMjLc3NyYmJgQEBCqqqpUVFRmZmaIiIju7u4AAADo9lGYAAAAAXRSTlMAQObYZgAAAAlwSFlz\n",
       "AAAOxAAADsQBlSsOGwAAAQNJREFUKM9jYMAJ2G/cdsAty8AtwDsBjzSLA2MCAz7A3IBFkMNS6Zul\n",
       "BpDBm4tVExv7BtYdekDGowvYpJnYBRgUvEG2f8ElfZyN4aUD+w9kYV5lYzO4NBMD8wOOeUiyrLkP\n",
       "ELr3vWZgkb1dwMB35wIDN1i87AHCcBatdAibh2sCQz+YlY6we5q9LVRtBU8CwzYwKwEhLdEH4zzg\n",
       "vMAwFxyGk42NjY2ghuv1wtTGP2AHe49PAcljPmwFUM5hBo4PYIYBkjSPO0yxNgOTQh+IcRdJmk+h\n",
       "A8o5zRB5QAAc1AtgYc63gaGDOwDCeS27fC84VfBtioPHWAGT2i/0sGYVggQqEgAA4cY5AzvnUIsA\n",
       "AAAASUVORK5CYII=\n",
       "\" style=\"display:inline;vertical-align:middle;\" /></a> <a class=\"ProveItLink\" href=\"../__pv_it/demonstrations/686dfb4e9bfc402845d7815587015fc90da078f30/proof.ipynb\" style=\"text-decoration: none\">&nbsp;&#x22A2;&nbsp;&nbsp;</a><a class=\"ProveItLink\" href=\"../__pv_it/demonstrations/9def61c82ce27f69bdc9354251b026be88cab0d30/expr.ipynb\"><img src=\"data:image/png;base64,iVBORw0KGgoAAAANSUhEUgAAAycAAAAVBAMAAACu3YyhAAAAMFBMVEX////MzMxUVFREREQiIiK6\n",
       "uroQEBCYmJhmZmYyMjLu7u52dnaqqqqIiIjc3NwAAACFAiZ1AAAAAXRSTlMAQObYZgAAAAlwSFlz\n",
       "AAAOxAAADsQBlSsOGwAABw9JREFUaN6tWW9oHEUUf3eXu1z2/nignyq2+aqleKT4wUpiIkGKrRKw\n",
       "NhYbGqr1HygHFWwF61GqsZZivohQWlkbKClacm0F0ZByhdIPhtSr0BJMWhYtpFjF+kHEKsX3Znd2\n",
       "5+3M5vYuPnjJzrv3fvP7zezM7s0BgAOaFSFOzJQVbcV43Qg6jinYmjkxuyy2A+yYwyui7KjYhbqe\n",
       "sGgoSjfiZEWbXm8KCToaJRPHJjZixl9cmQgPeMRIe2WUR1TsWf3zfM1UtRgrK9oWY4VmTZRmW54T\n",
       "d1AWmyprVUTEXfM/UJa45Na4/vlJY1WXHScr2sL1xhDR0SiZODa1Iyb8k/GkNgU+0oxhG5SPBJ6t\n",
       "+NFT09M/iosxY1FndfmsYb1keLn6IKQY0VEoBcEwR6F8YXpGHXbW3qPgpyWApmwsAoz1w1t7PFcF\n",
       "tknZiIueCXb4jzBriK5GzVP5+vJZc3rF3HL1fki1DKiUlGCYI9nzNlhXlDzWztgBfl4+XDRlo+Zi\n",
       "3g9vEXDG5gLbo2zGRd/mVz+Lz33rEcqNWHqfLp/VdFJ4fRBSbZvnWjDEUWjqwz8TQ4F81u6qBPhy\n",
       "UjTOQYAXc5a8RcBdFS6wPcpmXPRDGJ9vQNKG7nMAkzmcqiw9/G7O/BasssPQgY+fM3TNsk6NQaKa\n",
       "f4oTPPXD59N1FsJ6qztUnxgsLXkh1Q55Xjx0vaEGOUdqbYZkzgGr+q3PQrbhvoFiBXLYo8SXk6Ip\n",
       "EyIOAzwUgAmtkqWrhXMmYAGuaG6ZshgRMy463kvZ/Ci8BwUn51hVq+ZOV/pNeNzf+2oXIYPZe+kd\n",
       "gWVVL0KynP6TE6wW1mX7WQjrO2+H6rsWeqtuCLKDwrrl0iHf6qTuqEuMc8xhaydch3MwCV/4LGQb\n",
       "jp2dx+cJLYK9fFI0ZZ4IZCeLhVafpdAS4kzAneNcc6uUxYhE4KJvBljKjsODkAQ4fRPvZBCr4kQF\n",
       "Dvjfr+oHxavjBbxmWcXKQcg04DNGsNMp3E2y1U31yXKo/hfIgRtittl16xWQE+sGOMdfsTWLILnV\n",
       "VUj6LLw2FG1Atvn+AF9OSliZFJEc98GEVtmPqyXEmYDz/K5rmbIYkQhc9F0ANkp6g+JZHGuUk8E9\n",
       "72MbNhH4FL2i4qdplLMG2yyLPlhTAnrFOTA4+PLg4BN4lYCUexv5IUrDLkL1Fj7lRIjZLtezd6CD\n",
       "thrrby/IOVJrO4HsR0SfhdfGgklcConbHj4uxCdfchdiWJkUgXAKWLou+3G1hDgTsAAPNLdDOdOI\n",
       "wEWnUdhhF/+ALMCt00AjTNRfBEvsSh004uk7UKD1SQpZFn5wVaCyp/o9jdCDHtNw1EL1t8CDNE1K\n",
       "pgxT4nG4UQY5xx02NPBfcbqEMclCtqFIjNKjAb5cKZoyT8TvJRWsoLAkLSHOBJwe5ZrboLymFIGL\n",
       "fpSmnDbVLGopDFFKVx2sf8RTQD4O+/29hmUBLsn1kBgKTcoOx+JvjJh2NVyfboDtbS/qM+Wo61M1\n",
       "3I590zkecCfhFlzBmGQh2zCCt79x+9KUCRH91JcPRloDlaQlxNm0fbVB+SpE4KL3YnUPpMrvpOv3\n",
       "A1yhbSrVAOtfXLiXZA+pbjiP/3bTdKpZ9MEmMV8KwYmhh8MhTOsJ1w+LB9Pu8ErpdX2qDo/mHTXI\n",
       "OfZAvgTbEzUoDG33Wcg2flXE7bqzDD6+nBRdmStifaetgJ33WbpaQpwJWIArk9IG5Z4oXHR6adwP\n",
       "W6s1eB8XfYGObOi97Bi8VfWPhXLjYkM4TNcsKzee3gnP8Rn4ftUHuHnyldKd/itUn3is96uSF1Lt\n",
       "jOtdjc6NORbkHL+hFZ99gY63aj4L2b737MIAthrg48tJ0ZV1C3av5hQw0ur142nhnAk42+CT0ipl\n",
       "d0TMuOhbMOv4zKV1JUjRV5kNdDfjGjq+sBpD/lv32/T3GXFvqVnw4czxhQqfgclr+bE6D1lr5++G\n",
       "6nNw8RMZUm2L69a60z9dZkHOMfs19Sq+idkBC69dy7+GO2qHE+D7Xx7DyihgrV2kviSY0Or142nh\n",
       "nAm4w+GT0ipld0TMuOgdwdC/uyqxIC4GzD+I9C+ftdw3+ty4Xh9AKkZ0FEpBMMxRvH1fth9QT3lZ\n",
       "+4aC7x+zaMoGIsBYP7x1w3NVYOuUaUTMuDfYmaA1t2j7R2O6eWdskVnRB5IH4URdrzed4wk62jGl\n",
       "iaOwL699xxLV9piC7x9Iasr2RIDxflhrTDnHHI46WW1C2R0RM+6Yt6BCljL+avZzrCyTPQ1rDfXm\n",
       "UJ+JUl/rB+zFsglf4xxfhApcLDdl2BdjRIy4AntCL7HKJqANsbJMNjc/ZKg3hyZMlCZan5SUbcLX\n",
       "OMcXoQKn7KYMJ2KMiBFXYBcres2S6ecUJ05WtOn1ppCgo1EycWxi+8z4SysT4QHvM9JeGeV9gf8H\n",
       "4qWV/FxUC1IAAAAASUVORK5CYII=\n",
       "\" style=\"display:inline;vertical-align:middle;\" /></a></span>"
      ],
      "text/plain": [
       "{x in Real^{3}, y in Real^{3}, v in Real^{3}, w in Real^{3}, z in Real^{3}, a in Real, u in Real^{3}} |- (u otimes (a * v) otimes (w + x + y) otimes z) = ((a * (u otimes v otimes w otimes z)) + (a * (u otimes v otimes x otimes z)) + (a * (u otimes v otimes y otimes z)))"
      ]
     },
     "execution_count": 45,
     "metadata": {},
     "output_type": "execute_result"
    }
   ],
   "source": [
    "tensor_prod_05.distribution(2)"
   ]
  },
  {
   "cell_type": "code",
   "execution_count": 46,
   "metadata": {},
   "outputs": [
    {
     "data": {
      "text/html": [
       "<a class=\"ProveItLink\" href=\"../__pv_it/demonstrations/36cd8bf916b96fe0bbbed0e218a00e1e04dac3030/expr.ipynb\"><img src=\"data:image/png;base64,iVBORw0KGgoAAAANSUhEUgAAAFwAAAAVBAMAAAA5lpTPAAAAMFBMVEX////MzMxUVFREREQiIiK6\n",
       "uroQEBCYmJhmZmYyMjLu7u52dnaqqqqIiIjc3NwAAACFAiZ1AAAAAXRSTlMAQObYZgAAAAlwSFlz\n",
       "AAAOxAAADsQBlSsOGwAAAbFJREFUKM99k79LAmEYx7+nnp53njjnIjQETRI0VBgRNzYIBdEQutRU\n",
       "4NhQJqFEReQSQTQctkgQaLSEFU4RiHAEQWSSQ1BUg/4BRc/rj+jVuw7u3vf9Pp973u89z3sAarC6\n",
       "zCJq0RKfN9FKlrRZJjltjeOwR5Fi3HKWW600n6eFwmNHcfJvl7mVU6eHuE1vhNvK3H+4m209TQWS\n",
       "h9vKDvNfHfRfcrj8YCADKAGaB66BrKJD0HyvOGD+cWckOVzxRLEOuKgOak2pyQk5B3cllMAUBeN4\n",
       "rg1w+KeURj/gmQBsQP6N9sA7FGCBgj6MNKGkpi1q2iTNdKeBZUCogzESecqRw+0WDnx1f2pEFxpU\n",
       "lChzio88kKCB9CMWFL9xwuNbUKMtMxK8OTVMuGhAR4hVyVZnm/3Fh2AnB64gpSr6gXuxyDoYwBnl\n",
       "aGSjYpHHNxChmksGTVOUSS1BGAud+zBD2XeN29Uu75mrPeqOgx1hO2vTKH3yzT4pPouuXtD90pyt\n",
       "9QmVjupKmB0xKS0v0bDZanH5Sf8Fxs1OrsOwkWNvsDdybIZ7qinmWu+NeGOWf0e8R/kBKMtqCozH\n",
       "psAAAAAASUVORK5CYII=\n",
       "\" style=\"display:inline;vertical-align:middle;\" /></a>"
      ],
      "text/plain": [
       "(x + y) otimes z"
      ]
     },
     "execution_count": 46,
     "metadata": {},
     "output_type": "execute_result"
    }
   ],
   "source": [
    "tensor_prod_06"
   ]
  },
  {
   "cell_type": "code",
   "execution_count": 47,
   "metadata": {},
   "outputs": [
    {
     "data": {
      "text/html": [
       "<span style=\"font-size:20px;\"><a class=\"ProveItLink\" href=\"../__pv_it/demonstrations/dde1d4f2078c26e6f5a3cdac6b6317d93bb148b10/expr.ipynb\"><img src=\"data:image/png;base64,iVBORw0KGgoAAAANSUhEUgAAADwAAAAUBAMAAAAjLUMaAAAAMFBMVEX///8QEBC6uroyMjJERETc\n",
       "3NyYmJgiIiJmZmaqqqp2dnbMzMxUVFSIiIju7u4AAAAoIwv1AAAAAXRSTlMAQObYZgAAAAlwSFlz\n",
       "AAAOxAAADsQBlSsOGwAAAQBJREFUKM9jYMAJWK/d2YBbloFnAa8AHmnuDVwGDPgAewIWQbZCl8+F\n",
       "bkAGry1WTcysB5iO+QEZTy5gk2ZhXcDgsAdk+29c0q3MDA83sH5DFuZ1Ly+GS7MwsD9gk0OSZbJ9\n",
       "gNB97g0D99o7AQwMb++8XjUBJBr8AGE4t6cplNPAe5ajAMQwRdgtXF8LVcsWwPuVB+x9A4T0sjwY\n",
       "h5uBBcLkFi8vLy+BGu6XC3cSP8TzfA5IHtvBHADj6QfwgS0qQJLm2ApV/EThPAMXmHUXSZrPIQ3C\n",
       "nr+vkUETEtQTYGHOd4AhjUcBzH5xl7MNIs53RA8eYwEszj/Rw5ppCSRQkQAAJb9CckuUpZkAAAAA\n",
       "SUVORK5CYII=\n",
       "\" style=\"display:inline;vertical-align:middle;\" /></a>, <a class=\"ProveItLink\" href=\"../__pv_it/demonstrations/c7c7b48f57deafb1d4972830b299b289ce6f8f9f0/expr.ipynb\"><img src=\"data:image/png;base64,iVBORw0KGgoAAAANSUhEUgAAADwAAAAXBAMAAACluTG0AAAAMFBMVEX///8iIiLMzMy6urpEREQy\n",
       "MjLc3NyYmJgQEBCqqqp2dnZUVFRmZmaIiIju7u4AAACJ/BCYAAAAAXRSTlMAQObYZgAAAAlwSFlz\n",
       "AAAOxAAADsQBlSsOGwAAAQ1JREFUKM9jYMAJ2K7fVsAty8C9gLcBjzSTAlcAAz7AWIBFkF3C5auE\n",
       "O5DBG4tVEyvbBubtfkDGkwvYpFnYFjA4aINs/4RL+hgrwwsFtu/IwlcEBQPg0iwMjA/Y+5BkTe8h\n",
       "6d73moFp7e0EBr47FxhegwMpDslwJs8wCJuLs4GhHuzeBIR0q7zsAwg7kyeAYQtYGslpy+tg4fWA\n",
       "4wJDL4ihIQgEDlDD/Wphau0fQLz3BNljOnCrjjJAIoYRWZpHzQHK8WZg2QCieS8gSfM5lEM5pxns\n",
       "IRETCQ9zvg0M5dwGEM7rtech9rx2fgCPsQQW158w1UuhtJWjIEb88wTwdeJLERe4F+CR5rx7GI8s\n",
       "AJehQg5xLz5NAAAAAElFTkSuQmCC\n",
       "\" style=\"display:inline;vertical-align:middle;\" /></a>, <a class=\"ProveItLink\" href=\"../__pv_it/demonstrations/d89738c341c6afefcd7635c7e63883c5f26a85090/expr.ipynb\"><img src=\"data:image/png;base64,iVBORw0KGgoAAAANSUhEUgAAADsAAAAUBAMAAADB8VhjAAAAMFBMVEX///8QEBCqqqpUVFS6urru\n",
       "7u5mZmZERER2dnaIiIgyMjKYmJjc3NwiIiLMzMwAAAC+/aJUAAAAAXRSTlMAQObYZgAAAAlwSFlz\n",
       "AAAOxAAADsQBlSsOGwAAAPZJREFUKM9jYMAJTu60Y8ADLBgm4pN+x9DFgBfcxia4V7x+rfgGIGPW\n",
       "BKyaFhxmcN4ewMDAWolVuuAEAzufAZDx/gEOabYDC1jlGM5vQBLlrL17CyFdwHCVYWMAQpZlZQBC\n",
       "N3OoAcOLmTZADt/dB6dBgqcCkAx/rnUAyuGaUZkAotcg7D649u9UGOcoAwfEO0hO2x2FsJQ1FUTy\n",
       "yd69e/c6VJo9GhEiJyCKCpB08yXArWKZwAB21AVkf+cdh3G8GRhAIcQwE1k6nBsaInwVlb3gsONS\n",
       "gId5MAP3BhMIm4NBcQnEcnNXeIytYShfr4AW1Czt0EBFAgBwE0sSXhusiwAAAABJRU5ErkJggg==\n",
       "\" style=\"display:inline;vertical-align:middle;\" /></a> <a class=\"ProveItLink\" href=\"../__pv_it/demonstrations/04ef4b64002528319f0cdd7ef9f9ed88c381f9b00/proof.ipynb\" style=\"text-decoration: none\">&nbsp;&#x22A2;&nbsp;&nbsp;</a><a class=\"ProveItLink\" href=\"../__pv_it/demonstrations/a3b7c814503c525763c63663eebc29fa7add66f80/expr.ipynb\"><img src=\"data:image/png;base64,iVBORw0KGgoAAAANSUhEUgAAARwAAAAVBAMAAABmokyvAAAAMFBMVEX////MzMxUVFREREQiIiK6\n",
       "uroQEBCYmJhmZmYyMjLu7u52dnaqqqqIiIjc3NwAAACFAiZ1AAAAAXRSTlMAQObYZgAAAAlwSFlz\n",
       "AAAOxAAADsQBlSsOGwAAA5FJREFUSMeNlkFIFFEYx/+7uu40uzsJdTLKgY4RidDFWNFYOpUsFFZk\n",
       "6KGCJGHBSx6qRTKxkPYSQhRMCiGUMFqXWpQ9iIdE2gJDUmOgoMgOdQo6SN+beTs73+7Msh98b958\n",
       "83+/9733Zt4bABYc9zWtrlANiFVXyIba4ETBcX+LFOsJ1YBc9tX6Qm3wqvQA26orFAyp7nw1sB9y\n",
       "Ned4kO0x6gjVgjz20Qb0Q65kYLtn3thdNGszNvOLBg95rQIyl89/dm9uyut5j1YmVgklb6JqE2PH\n",
       "+bsxKIoLBtR1HvIah0TuU0Zp95nscc2jdawaOoiLVF6slc6U6KCTipm0N8SMQ87Sp6Med1chw9Nx\n",
       "dT7QKTygUvjcx2f5AktnbhKqDixQNRyzoGbfAqFU83cnxIxD9CVgNmZIcUzn6ZBO3Shiugzd361l\n",
       "HOiCTArIJo4qXSwdcwXR38AIVb9gCbN4QUPdTGadEJSUbXp5ZBKSsGKWmlVNKY7meDqki8UHcKcM\n",
       "ffpqAw50BKepJI9aid1wxpuOVphAuA1YprqO2KEswsBPxOCEmDEIyeZ/iDaOON7F0yHdLyWHwy5U\n",
       "M2BK6DKuUkkeQkNOjvnUFXvMKobQRJm1iokCRmHDVXpN7RAzBiGZotttbHGIZhh3U6lrqdRJqTWI\n",
       "O+SBzhoS2loiAXuLFa9y5B9am4FesQjQ8s1QqLYjnvQGpONASLYzL9o44sgAnx2h6zdCf8pQzSxB\n",
       "e/GESuHot1SDpUMz+klOYpbI66Il7eOGXCzvu8MgCvETaWrjiCsXS+gmkBgoQy/TSpQWK0llUnxw\n",
       "x+x586TToKOdLsPkfSETiXSfvZfpTogZg0QKB4D1SEGKo208HaFtF/ASlLbdsOxnWH5feN9yD308\n",
       "HUWP/KXLpKheEieKidCJ5OtmJ8SMQ8Zo8hOrJbFS5OkI7Sj6My5036vNbtnPJM5RST67HR8v8HTU\n",
       "Ixu7dOkRdXvHMmjoK49KIa9xSIPYBjtK4kaLpyO004sPLRdqxq+nJbQHjTQA4X67coy+E81e+ugH\n",
       "46Dp/pt0VaZTAbnVEtp0b76Bp+Po3vhByeXR5XOETuB5wT3xXm6/YwcmtwqIurZVPvTHK45Q0ik5\n",
       "9YYfVHinXIsqO4MjVH6tfuATCoRAa6vWNhbDph9U+Iz0KlvbEEvaUf3AJxQIQYNRrY1vj/lChYvj\n",
       "S8sE/X1FrXpCNSC3fbW+UPL/onU5nDgbbqMAAAAASUVORK5CYII=\n",
       "\" style=\"display:inline;vertical-align:middle;\" /></a></span>"
      ],
      "text/plain": [
       "{x in Real^{3}, y in Real^{3}, z in Real^{3}} |- ((x + y) otimes z) = ((x otimes z) + (y otimes z))"
      ]
     },
     "execution_count": 47,
     "metadata": {},
     "output_type": "execute_result"
    }
   ],
   "source": [
    "tensor_prod_06.distribution(0)"
   ]
  },
  {
   "cell_type": "code",
   "execution_count": 48,
   "metadata": {},
   "outputs": [
    {
     "data": {
      "text/html": [
       "<a class=\"ProveItLink\" href=\"../__pv_it/demonstrations/16be97a4663c6a41f57059377b2a4e0bf3e27bdb0/expr.ipynb\"><img src=\"data:image/png;base64,iVBORw0KGgoAAAANSUhEUgAAAF0AAAAVBAMAAADWVP/xAAAAMFBMVEX///8QEBC6uroyMjJERETc\n",
       "3NyYmJgiIiJmZmaqqqp2dnbMzMxUVFSIiIju7u4AAAAoIwv1AAAAAXRSTlMAQObYZgAAAAlwSFlz\n",
       "AAAOxAAADsQBlSsOGwAAAa5JREFUKM99kz9IAnEUx7/qqeedd0lLNARCUTSE0hC0hAQtkXFTfxzC\n",
       "JWiJbDrazKAhwmwNIiEi0ALnBnFojY6mkowbHIQUWppaer+T0F/9roP3u/fn89693+/3Dvj7GHB5\n",
       "xAGt4MZPCb1nbri4kh535THXUzul0pujyOl+wstZWz1/nlKiTPNwFUNWv+Wxf7Qx2rs+z7TRf3gf\n",
       "fa3z+l4qoHYFtBSWfkSJzxbaPK+alRVAqQFZ7UHOaIZi6Fm9SJEZcoci2OF5Xz2ZBQJxBAztM5wO\n",
       "A+U1gNKxB6zLcdzz/AYUZmWgQqIDJEMmmNUfBGyPhRF2VKa5O2SaNeeY86yrD1oGqIQMpMrUW5dH\n",
       "zFa/fu035ZxihAUN3ZbhL2pRh58lOYAW4XmvBdvppxl9pG68hTvgycvuO0myBKnG8+PO5gIJXFT3\n",
       "MQnkqHXNmZwbkmPE0hyvLiavK9S2hVYjdEhlJXZfyyw0QdK+PTE4XsHpNL2CvYnerqp1RwlW2Hop\n",
       "vN/VvrE8f+kORyALOa4PC+ftUDS0Cwha4aIo4k+IvE2EGjnh+Eu2sEra7XfZBL4BP25lycT7s60A\n",
       "AAAASUVORK5CYII=\n",
       "\" style=\"display:inline;vertical-align:middle;\" /></a>"
      ],
      "text/plain": [
       "x otimes (y + z)"
      ]
     },
     "execution_count": 48,
     "metadata": {},
     "output_type": "execute_result"
    }
   ],
   "source": [
    "tensor_prod_07"
   ]
  },
  {
   "cell_type": "code",
   "execution_count": 49,
   "metadata": {},
   "outputs": [
    {
     "data": {
      "text/html": [
       "<span style=\"font-size:20px;\"><a class=\"ProveItLink\" href=\"../__pv_it/demonstrations/dde1d4f2078c26e6f5a3cdac6b6317d93bb148b10/expr.ipynb\"><img src=\"data:image/png;base64,iVBORw0KGgoAAAANSUhEUgAAADwAAAAUBAMAAAAjLUMaAAAAMFBMVEX///8QEBC6uroyMjJERETc\n",
       "3NyYmJgiIiJmZmaqqqp2dnbMzMxUVFSIiIju7u4AAAAoIwv1AAAAAXRSTlMAQObYZgAAAAlwSFlz\n",
       "AAAOxAAADsQBlSsOGwAAAQBJREFUKM9jYMAJWK/d2YBbloFnAa8AHmnuDVwGDPgAewIWQbZCl8+F\n",
       "bkAGry1WTcysB5iO+QEZTy5gk2ZhXcDgsAdk+29c0q3MDA83sH5DFuZ1Ly+GS7MwsD9gk0OSZbJ9\n",
       "gNB97g0D99o7AQwMb++8XjUBJBr8AGE4t6cplNPAe5ajAMQwRdgtXF8LVcsWwPuVB+x9A4T0sjwY\n",
       "h5uBBcLkFi8vLy+BGu6XC3cSP8TzfA5IHtvBHADj6QfwgS0qQJLm2ApV/EThPAMXmHUXSZrPIQ3C\n",
       "nr+vkUETEtQTYGHOd4AhjUcBzH5xl7MNIs53RA8eYwEszj/Rw5ppCSRQkQAAJb9CckuUpZkAAAAA\n",
       "SUVORK5CYII=\n",
       "\" style=\"display:inline;vertical-align:middle;\" /></a>, <a class=\"ProveItLink\" href=\"../__pv_it/demonstrations/c7c7b48f57deafb1d4972830b299b289ce6f8f9f0/expr.ipynb\"><img src=\"data:image/png;base64,iVBORw0KGgoAAAANSUhEUgAAADwAAAAXBAMAAACluTG0AAAAMFBMVEX///8iIiLMzMy6urpEREQy\n",
       "MjLc3NyYmJgQEBCqqqp2dnZUVFRmZmaIiIju7u4AAACJ/BCYAAAAAXRSTlMAQObYZgAAAAlwSFlz\n",
       "AAAOxAAADsQBlSsOGwAAAQ1JREFUKM9jYMAJ2K7fVsAty8C9gLcBjzSTAlcAAz7AWIBFkF3C5auE\n",
       "O5DBG4tVEyvbBubtfkDGkwvYpFnYFjA4aINs/4RL+hgrwwsFtu/IwlcEBQPg0iwMjA/Y+5BkTe8h\n",
       "6d73moFp7e0EBr47FxhegwMpDslwJs8wCJuLs4GhHuzeBIR0q7zsAwg7kyeAYQtYGslpy+tg4fWA\n",
       "4wJDL4ihIQgEDlDD/Wphau0fQLz3BNljOnCrjjJAIoYRWZpHzQHK8WZg2QCieS8gSfM5lEM5pxns\n",
       "IRETCQ9zvg0M5dwGEM7rtech9rx2fgCPsQQW158w1UuhtJWjIEb88wTwdeJLERe4F+CR5rx7GI8s\n",
       "AJehQg5xLz5NAAAAAElFTkSuQmCC\n",
       "\" style=\"display:inline;vertical-align:middle;\" /></a>, <a class=\"ProveItLink\" href=\"../__pv_it/demonstrations/d89738c341c6afefcd7635c7e63883c5f26a85090/expr.ipynb\"><img src=\"data:image/png;base64,iVBORw0KGgoAAAANSUhEUgAAADsAAAAUBAMAAADB8VhjAAAAMFBMVEX///8QEBCqqqpUVFS6urru\n",
       "7u5mZmZERER2dnaIiIgyMjKYmJjc3NwiIiLMzMwAAAC+/aJUAAAAAXRSTlMAQObYZgAAAAlwSFlz\n",
       "AAAOxAAADsQBlSsOGwAAAPZJREFUKM9jYMAJTu60Y8ADLBgm4pN+x9DFgBfcxia4V7x+rfgGIGPW\n",
       "BKyaFhxmcN4ewMDAWolVuuAEAzufAZDx/gEOabYDC1jlGM5vQBLlrL17CyFdwHCVYWMAQpZlZQBC\n",
       "N3OoAcOLmTZADt/dB6dBgqcCkAx/rnUAyuGaUZkAotcg7D649u9UGOcoAwfEO0hO2x2FsJQ1FUTy\n",
       "yd69e/c6VJo9GhEiJyCKCpB08yXArWKZwAB21AVkf+cdh3G8GRhAIcQwE1k6nBsaInwVlb3gsONS\n",
       "gId5MAP3BhMIm4NBcQnEcnNXeIytYShfr4AW1Czt0EBFAgBwE0sSXhusiwAAAABJRU5ErkJggg==\n",
       "\" style=\"display:inline;vertical-align:middle;\" /></a> <a class=\"ProveItLink\" href=\"../__pv_it/demonstrations/5688a6ef05d9dfac49be464180e9bff15d7d3a7a0/proof.ipynb\" style=\"text-decoration: none\">&nbsp;&#x22A2;&nbsp;&nbsp;</a><a class=\"ProveItLink\" href=\"../__pv_it/demonstrations/e4593ea0526a1e6e4c087dddf52e9b1d2087f5b80/expr.ipynb\"><img src=\"data:image/png;base64,iVBORw0KGgoAAAANSUhEUgAAAR0AAAAVBAMAAACJYCeRAAAAMFBMVEX////MzMxUVFREREQiIiK6\n",
       "uroQEBCYmJhmZmYyMjLu7u52dnaqqqqIiIjc3NwAAACFAiZ1AAAAAXRSTlMAQObYZgAAAAlwSFlz\n",
       "AAAOxAAADsQBlSsOGwAAA79JREFUSMeNlt9LHFcUx7+7ujrO7k4XkieljdCHQqBUAj40YUXD0icp\n",
       "C5X8oIr70ARSGljIi4U2WUKspCLZl1IQC9P4Yn/BJulLu1V8KKVEpNuAEGpMBiJYah/0D2jIOXPu\n",
       "/jizd4sHvuOs98xnvnPunXsGQIC28NAhvE6DAaygo9MbgPR6++CTTn4SNVE0GGIDAVNHpE/Vczfa\n",
       "x1KVTn5CloW3YQdZH9dOrz+RW24f+6ajHfT5Ih0MsYE4Fo9IXxQ5xcZ/fqhW/wpP5lTi+dYfvSWR\n",
       "DobYQBwz9amujzfp7nZ11W/NI/U018bnRMrzWUHdbFP9+tBIRQ/soHDM3DFVX3ZN+gUf7lZrHuli\n",
       "Y/Q9Wt7uMPPK/+PnSyMVF40iIJnhovbTpCdG6LCcb8kjzXN9H31dXcfgGrCSJJcOLTj3cQ13tZ9Y\n",
       "LrMH3IdIxbyRAhlEclD7Cek7Jwd+QTwZwC39DBwf84phHomftZR+0xlNB8nALbkVcZpMFXBD++nb\n",
       "ztLC+RgiOLkwBluLpkAG0VvWfpju4FHtFp5iDSv4DvjqwWPJI43TMUi/iBfjwL2/AeJ302v3r1PG\n",
       "69rPP0jS8VcjFeMiDTKI1Kj2w/TreBa8QbdKvlZCHJ6PiuSRLtFEoIu80c0cMkMjPTSlfk8NV+nq\n",
       "W7nc5VzurLwOtE5xwkjFJZEGGUTsQIr5zgdSTKZn8DbCW90M07HiSx6JUXilxjXE/j0quVyBaT92\n",
       "GFnP+3w4Z2TzEwEJIlHQ9Qnp+I9nF141w+ke75CcR1ri0enA9R36dzrPfvp4S72NdEH7oT7ht8xX\n",
       "6/pZMtIgQUTnK6QnXuBbytjHFvuZgtuYryy/cm9R1RLrA8BWgrK7+MpT6BrUfs6Hi+saRCqyoghI\n",
       "EL1D2g/R3eH4Ac3WZKyCdH6Sd8q45JHo3f2j/zNMArNUtTQ3ofANvYnpovITO5P9MQMsQKTCbAIR\n",
       "kCCcmvZD9NThSoH8Ou9zM6zg2IPtMckjTdBq2knNcVl4GzvNxeQK3129Eyg/Sfz2Bf1510jFhCgC\n",
       "EkR3ENkPR+Eu1H7/hE7D/ZBertSVvOSRujMN6qf9se3wZCw8/mTbn71RkQ6G2ECM2EWkX4w1m+Gf\n",
       "/quNZr8rammO7uYTv97anLL7ka2fRjqnvcsKyCDmov10pnnd9zsPG+dzRiPtrZ8K3l2LWz9TnhtF\n",
       "YsQCEoQ3ZKHbvjyHTO5y+5g7hNTOrPUr5bRRJJYtIEF0+Ra6JTgvzPWK7YN7nT7HegNR29MV7SBu\n",
       "DUejXxe9BAWuRYn+1xj4AAAAAElFTkSuQmCC\n",
       "\" style=\"display:inline;vertical-align:middle;\" /></a></span>"
      ],
      "text/plain": [
       "{x in Real^{3}, y in Real^{3}, z in Real^{3}} |- (x otimes (y + z)) = ((x otimes y) + (x otimes z))"
      ]
     },
     "execution_count": 49,
     "metadata": {},
     "output_type": "execute_result"
    }
   ],
   "source": [
    "tensor_prod_07.distribution(1)"
   ]
  },
  {
   "cell_type": "code",
   "execution_count": 50,
   "metadata": {},
   "outputs": [
    {
     "data": {
      "text/html": [
       "<a class=\"ProveItLink\" href=\"../__pv_it/demonstrations/49a5efeb8b9967ac7182eb7989f3084ec64edb760/expr.ipynb\"><img src=\"data:image/png;base64,iVBORw0KGgoAAAANSUhEUgAAAMEAAAAVBAMAAAANw5eWAAAAMFBMVEX///92dnZEREQiIiLMzMy6\n",
       "uroyMjLc3NyYmJgQEBCqqqpUVFRmZmaIiIju7u4AAADo9lGYAAAAAXRSTlMAQObYZgAAAAlwSFlz\n",
       "AAAOxAAADsQBlSsOGwAAAqpJREFUSMe1VUtoE1EUPZNkOvlMhkkpbVEi2dQuRBHSja5SRdyoRAWh\n",
       "wZIsRVBS3Ii4yK4gfgJSF4qQ4sKNSuhC3FSmhBYhqBMwCLWpY5cmShYFV0LvfTGflyBmFj6YmXfv\n",
       "O+ee+z73DfCPloWb5g4tWrjgCj7vXmH5vyZEzci4JFz/+9CPSGS7G7gSiTrc0XMySs0NEGXXXZnf\n",
       "i/tAIsm2ddmBUeVOoA8WtAcUZFfAkfg97QKdAmOqLTdNrx3Wu+RWYSQn8cWEtmyEHBQngIbisHUc\n",
       "ISULwzpAo2sMyOEMnjlSOKP2dnafpMDMOqAUqd/hn5zRctCDeTxAOKtkDcswFbKe4DMm0MA3wl6B\n",
       "AKwgnZQUdHyxS5KCIuLAz0ejw782ugXc1DN4jRAwdhso3iJrGUUopy320XwE4ClGspLCIr5m30gK\n",
       "zFwh6yj123zNgQk4AZsCKJQWzc9kK8XuMtiHJQHw7VLShIjHjz2Mx3kdEjjYmkvH1YoDX5O8XX6D\n",
       "FzftaCLAwhhgkQWbPlokIYIuCUA4L+DStv7u3+m0Q4lAzQNdvmbySAn+JlmaGU7SUIkzsLCAqlC4\n",
       "Ss8GPDGc6lNQf+Gn7NoAJdJapQ5/HgaZhyjAfbUwC1TVAlnBBFI+E+FkigYPC4DXhCkfnKlQs8/F\n",
       "cWix/DHqtvlUjLyZZcxZJtYJH6ZLaJzkoZ8n/yZH2A92zRXVpBQuuNvIqwVZoYw01YLOVpt/YrQy\n",
       "Q7169PlqAh6uuCM0OMklIyqGN+ki49e2VyflRTfe2y/u9O1DPfqRYnjFmfvDN4OPkt1ivHfOV+kY\n",
       "/k/OWbEI3oSLmh6n54bMl27Rl5s9d9X32qsW1Br25tMzxmP6vJP5Q7TpYYFeO0RZazHXf6CdYYHB\n",
       "2jq9PY5rBS3nCr446NoDzNfRCKmZssIAAAAASUVORK5CYII=\n",
       "\" style=\"display:inline;vertical-align:middle;\" /></a>"
      ],
      "text/plain": [
       "u otimes v otimes (w + x + y) otimes z"
      ]
     },
     "execution_count": 50,
     "metadata": {},
     "output_type": "execute_result"
    }
   ],
   "source": [
    "tensor_prod_08"
   ]
  },
  {
   "cell_type": "code",
   "execution_count": 51,
   "metadata": {},
   "outputs": [
    {
     "data": {
      "text/html": [
       "<span style=\"font-size:20px;\"><a class=\"ProveItLink\" href=\"../__pv_it/demonstrations/dde1d4f2078c26e6f5a3cdac6b6317d93bb148b10/expr.ipynb\"><img src=\"data:image/png;base64,iVBORw0KGgoAAAANSUhEUgAAADwAAAAUBAMAAAAjLUMaAAAAMFBMVEX///8QEBC6uroyMjJERETc\n",
       "3NyYmJgiIiJmZmaqqqp2dnbMzMxUVFSIiIju7u4AAAAoIwv1AAAAAXRSTlMAQObYZgAAAAlwSFlz\n",
       "AAAOxAAADsQBlSsOGwAAAQBJREFUKM9jYMAJWK/d2YBbloFnAa8AHmnuDVwGDPgAewIWQbZCl8+F\n",
       "bkAGry1WTcysB5iO+QEZTy5gk2ZhXcDgsAdk+29c0q3MDA83sH5DFuZ1Ly+GS7MwsD9gk0OSZbJ9\n",
       "gNB97g0D99o7AQwMb++8XjUBJBr8AGE4t6cplNPAe5ajAMQwRdgtXF8LVcsWwPuVB+x9A4T0sjwY\n",
       "h5uBBcLkFi8vLy+BGu6XC3cSP8TzfA5IHtvBHADj6QfwgS0qQJLm2ApV/EThPAMXmHUXSZrPIQ3C\n",
       "nr+vkUETEtQTYGHOd4AhjUcBzH5xl7MNIs53RA8eYwEszj/Rw5ppCSRQkQAAJb9CckuUpZkAAAAA\n",
       "SUVORK5CYII=\n",
       "\" style=\"display:inline;vertical-align:middle;\" /></a>, <a class=\"ProveItLink\" href=\"../__pv_it/demonstrations/c7c7b48f57deafb1d4972830b299b289ce6f8f9f0/expr.ipynb\"><img src=\"data:image/png;base64,iVBORw0KGgoAAAANSUhEUgAAADwAAAAXBAMAAACluTG0AAAAMFBMVEX///8iIiLMzMy6urpEREQy\n",
       "MjLc3NyYmJgQEBCqqqp2dnZUVFRmZmaIiIju7u4AAACJ/BCYAAAAAXRSTlMAQObYZgAAAAlwSFlz\n",
       "AAAOxAAADsQBlSsOGwAAAQ1JREFUKM9jYMAJ2K7fVsAty8C9gLcBjzSTAlcAAz7AWIBFkF3C5auE\n",
       "O5DBG4tVEyvbBubtfkDGkwvYpFnYFjA4aINs/4RL+hgrwwsFtu/IwlcEBQPg0iwMjA/Y+5BkTe8h\n",
       "6d73moFp7e0EBr47FxhegwMpDslwJs8wCJuLs4GhHuzeBIR0q7zsAwg7kyeAYQtYGslpy+tg4fWA\n",
       "4wJDL4ihIQgEDlDD/Wphau0fQLz3BNljOnCrjjJAIoYRWZpHzQHK8WZg2QCieS8gSfM5lEM5pxns\n",
       "IRETCQ9zvg0M5dwGEM7rtech9rx2fgCPsQQW158w1UuhtJWjIEb88wTwdeJLERe4F+CR5rx7GI8s\n",
       "AJehQg5xLz5NAAAAAElFTkSuQmCC\n",
       "\" style=\"display:inline;vertical-align:middle;\" /></a>, <a class=\"ProveItLink\" href=\"../__pv_it/demonstrations/466ee2cdb42dd7aa4325c81eaaa360baf592b2c50/expr.ipynb\"><img src=\"data:image/png;base64,iVBORw0KGgoAAAANSUhEUgAAADwAAAAUBAMAAAAjLUMaAAAAMFBMVEX///+YmJjMzMxERES6uroy\n",
       "MjLc3NxUVFQQEBB2dnaqqqoiIiJmZmaIiIju7u4AAADZrpoSAAAAAXRSTlMAQObYZgAAAAlwSFlz\n",
       "AAAOxAAADsQBlSsOGwAAAPpJREFUKM9jYMAJ2C5eV8Aty8A+gbcBjzSTAmcAAz7ALYBFkHGH8dcd\n",
       "hkAGbyxWTaxsBSyFdkDG4wvYpJnZJjAYqINs/4RL+hgrwwsFto/Iwpd37w6ASzMzcD9g7EOSdb2H\n",
       "pLvuOQPT3OsJDHx3LjDsAgdSHJLhTFZhEDYnVwNDO9i9CQjp1v17H0DYWTwBDCvB0khOmygHC68H\n",
       "HBcYvEAMjd1AYAA13E4Wptb/AQPY94+RPaYDt+o0A8MEcAAjS/OoGUA55gxc4GjlvYAkzWcgCOVM\n",
       "ZciEMKLgYc5XwCDI7gDh8EyERttzkwfwGEtgNv2FHtae1rvR4x8A0Ls848W4vQYAAAAASUVORK5C\n",
       "YII=\n",
       "\" style=\"display:inline;vertical-align:middle;\" /></a>, <a class=\"ProveItLink\" href=\"../__pv_it/demonstrations/6ec7e59bf5a61d2b0f8e36427593260ccbbf50c00/expr.ipynb\"><img src=\"data:image/png;base64,iVBORw0KGgoAAAANSUhEUgAAAEAAAAAUBAMAAADPWCYMAAAAMFBMVEX///92dnYyMjLc3Ny6urpE\n",
       "RERUVFQQEBAiIiKqqqrMzMyYmJhmZmaIiIju7u4AAAD46Ob5AAAAAXRSTlMAQObYZgAAAAlwSFlz\n",
       "AAAOxAAADsQBlSsOGwAAAQ9JREFUKM9jYMADmG9fW4BPnoFNgLcArwKuBYwKDPgBxwaswtztoZ/a\n",
       "o4EMXl0cGpmYE1iy44CMpxewK2BlFmAIWAZyxS/cCg4zMTxfwPwbVeJqR4cCXAErA8cD7joUead7\n",
       "SCbkPWPgkr1mwMB3ZwPDGoYZD0ABp4dkBVekMoTNw1nAkMrg7wByuwFCQVF/7wMI25pHgaEWIseE\n",
       "5EjpfbAwfMB+AegXHhBzeQcQBECtiNsLU+3/ABgjjCDWU2RvroFbeIiBNYBhCTjgkRXwLA6AcsIY\n",
       "OAQYBEAs3gtICvgCdkM5QgzuCSwOYKYmPC74Ehh2szlA/XnwXq40hPks5AE8Ng1Yg35ixoFjRAd6\n",
       "CgEAmPU+DmAjejYAAAAASUVORK5CYII=\n",
       "\" style=\"display:inline;vertical-align:middle;\" /></a>, <a class=\"ProveItLink\" href=\"../__pv_it/demonstrations/d89738c341c6afefcd7635c7e63883c5f26a85090/expr.ipynb\"><img src=\"data:image/png;base64,iVBORw0KGgoAAAANSUhEUgAAADsAAAAUBAMAAADB8VhjAAAAMFBMVEX///8QEBCqqqpUVFS6urru\n",
       "7u5mZmZERER2dnaIiIgyMjKYmJjc3NwiIiLMzMwAAAC+/aJUAAAAAXRSTlMAQObYZgAAAAlwSFlz\n",
       "AAAOxAAADsQBlSsOGwAAAPZJREFUKM9jYMAJTu60Y8ADLBgm4pN+x9DFgBfcxia4V7x+rfgGIGPW\n",
       "BKyaFhxmcN4ewMDAWolVuuAEAzufAZDx/gEOabYDC1jlGM5vQBLlrL17CyFdwHCVYWMAQpZlZQBC\n",
       "N3OoAcOLmTZADt/dB6dBgqcCkAx/rnUAyuGaUZkAotcg7D649u9UGOcoAwfEO0hO2x2FsJQ1FUTy\n",
       "yd69e/c6VJo9GhEiJyCKCpB08yXArWKZwAB21AVkf+cdh3G8GRhAIcQwE1k6nBsaInwVlb3gsONS\n",
       "gId5MAP3BhMIm4NBcQnEcnNXeIytYShfr4AW1Czt0EBFAgBwE0sSXhusiwAAAABJRU5ErkJggg==\n",
       "\" style=\"display:inline;vertical-align:middle;\" /></a>, <a class=\"ProveItLink\" href=\"../__pv_it/demonstrations/450d061e49bf30dd5672dc1e223676b3db2d02890/expr.ipynb\"><img src=\"data:image/png;base64,iVBORw0KGgoAAAANSUhEUgAAADwAAAAUBAMAAAAjLUMaAAAAMFBMVEX///92dnZEREQiIiLMzMy6\n",
       "uroyMjLc3NyYmJgQEBCqqqpUVFRmZmaIiIju7u4AAADo9lGYAAAAAXRSTlMAQObYZgAAAAlwSFlz\n",
       "AAAOxAAADsQBlSsOGwAAAQNJREFUKM9jYMAJ2G/cdsAty8AtwDsBjzSLA2MCAz7A3IBFkMNS6Zul\n",
       "BpDBm4tVExv7BtYdekDGowvYpJnYBRgUvEG2f8ElfZyN4aUD+w9kYV5lYzO4NBMD8wOOeUiyrLkP\n",
       "ELr3vWZgkb1dwMB35wIDN1i87AHCcBatdAibh2sCQz+YlY6we5q9LVRtBU8CwzYwKwEhLdEH4zzg\n",
       "vMAwFxyGk42NjY2ghuv1wtTGP2AHe49PAcljPmwFUM5hBo4PYIYBkjSPO0yxNgOTQh+IcRdJmk+h\n",
       "A8o5zRB5QAAc1AtgYc63gaGDOwDCeS27fC84VfBtioPHWAGT2i/0sGYVggQqEgAA4cY5AzvnUIsA\n",
       "AAAASUVORK5CYII=\n",
       "\" style=\"display:inline;vertical-align:middle;\" /></a> <a class=\"ProveItLink\" href=\"../__pv_it/demonstrations/d89409a81846609c058bea1f5915364a5fa113980/proof.ipynb\" style=\"text-decoration: none\">&nbsp;&#x22A2;&nbsp;&nbsp;</a><a class=\"ProveItLink\" href=\"../__pv_it/demonstrations/821493d396409e6a0b191606e6e4da15e1dbf8da0/expr.ipynb\"><img src=\"data:image/png;base64,iVBORw0KGgoAAAANSUhEUgAAAngAAAAVBAMAAAAnTI6kAAAAMFBMVEX////MzMxUVFREREQiIiK6\n",
       "uroQEBCYmJhmZmYyMjLu7u52dnaqqqqIiIjc3NwAAACFAiZ1AAAAAXRSTlMAQObYZgAAAAlwSFlz\n",
       "AAAOxAAADsQBlSsOGwAABZdJREFUWMOlmF1oHFUUgM9uMtnJzO6woIJYtAt9ECuFoPTBSkoii09S\n",
       "FpTEYkqCqGhRWOiDrWhdQorEENwXKYjCkLykamHaCiXGlBVCEENlKwRKk+iiQsQKpq9CxXPu386d\n",
       "md27u7lwduecOeee7/7PDAA0wFCMDibvpAo8Id0Vb994if5eDxgsJlczeBod9HKqIxNsC+muWPX9\n",
       "4iXSbPeAwVA2TJ4b3VWc0JgEUzbg0m3Z3i9eEk33IGLonarBz+gQLZ91YrokpNsy6O8XL4HmUk8Y\n",
       "KHZZWS6vrNxpQm2trDLQkAOfsuX4LNZMZ/X4pilcPhICcWedI6JnKuJiXPwb+VvTKOyOQLRbhIEy\n",
       "0OyCj9G9JLWXfXA26WIgOsfj245uGvC1+KYpXKaERJLFOaL6afF/U1Zt4oeWNAq7IxC9wtNMTir9\n",
       "RTyGnKMy8Dj+LFLkyW47b7CsxSuTNlerXKLJYhwx/WKk84z80JJGYncEot9iGBdhDh1u1yHtQ+EG\n",
       "wJLrk/YCpN0GOJVv0YU5lOFhWPO1lM7O4QPfaRQUuQDgFvBaxT846pW5KVzsgMvleYDDyhm1/lqT\n",
       "QyQVOqSK+V2Aq5HOM/BzymQa2RIjCDVLr4JhXKUutLNT8CHkGm7DqTiBi9qr8AvcgCX4ivcxORyC\n",
       "yZKeEn6uz2gULqsHMjSQKv6La7eFCWaKVJ6Tg09SWYfMnnIO1mGgIDlkUqnD4NYw7jTnIp1n4OeU\n",
       "STTNlhhAeLP0KhjGORwk2LWr8ASkAa78CVD4G7UNKID7WIVs0uEdGGxoKc/Dr43HNQqKPITaCF7L\n",
       "eM+HQJjCBceVxCvPQroqnb3aLD41SA6ZVOrwF7gYuRbpPAM/p0ymkS0xgPBm6VUwjDV4HcAfqCMm\n",
       "ktk4nwPSJshhGhgtd0jdw0FEj2Lx+deKRZr3eXiGz0Bl4vVAag+tzfglX5i0Q6XExEF/DBLOpFm1\n",
       "EAdLKnVcnriBw0Exh98Qc9jAzykTaEItMYOgrlfBMA5Scpj0PdY3d6/g/EUN6vjnreRZf3GH3BQL\n",
       "1E6H+9EDY9LH5oJFh5eK92icrKnkzgPrX/gnr5xRy4U5WFKlw12KHIvMPCP//ZY0EtsMgs3Sq2AY\n",
       "Y/A5DSStdxvNuRI6zdBIVRB1kyUnh1noG4KHIp1n/Qdf6qZZwObyVaHiT+GoioUS3vNqXOwR2iWl\n",
       "M2puk0MkVTq+D/nxZWviZ5RJNKE9zwiCzdKrEMt2GH+fQsz3rNoBgE2rhlo2DxOpAHKlCbzJHfoD\n",
       "CPSj9Wh6L2KienCeZ4bwUsbjg2hamMKlry6kAE9nfOmM2vcQ4mBJlT5OGx+ciXRee35BmUwjsc0g\n",
       "qOtVMIwz7MydhrFKABewK3L4prhM68N+hd7eAuCH8jKMFaySljJ7b2nKqukU0zCJB5dNmox/4NrW\n",
       "qDCFCz0tkNgF601XObtVWhNNDp5U6Klnh7/JA8xHOq89v6BMppHYJhDWLL0KhjEPL+HvwupPR/LQ\n",
       "R8+Ex7Ce6/QQyZ4JaWskB3vuzpHr+gbnzNd/eD+y5y2sfoJ19LNTWcQH2bdK0hR+SB7h4jy5/dut\n",
       "ZrK5d2kiSA6RVOgurH+K2olI57Xnl5SJNOoh2QDCm6VVwTBOQH9eteiDR1JbSsnc8h9lqzLkYH7D\n",
       "WEb5Q48HZQqXUSEQd9Y5Iro3Euk8I39rGoVtBFmO3iIMFPWmjb18czv0Dvr1zo/6q7jxw4Bddd5u\n",
       "vmbLeP3NO/xyfjaeLIFD19V3gPHol4JW/K1pVEvag4hmabcIg+S46fOL0UE9+dbTODTeUPzDa9xE\n",
       "S6Kv22/AWH7vHa81TXsQ3qw4BsmiKdlip1TZnQtE4sd7Km5yhrh0W471jteapj0Ib1Ycg8Qrm0aq\n",
       "3BXb+Y5MsCuku5Jp7BcvkWa3BwyU/wEULfoLsQRFmwAAAABJRU5ErkJggg==\n",
       "\" style=\"display:inline;vertical-align:middle;\" /></a></span>"
      ],
      "text/plain": [
       "{x in Real^{3}, y in Real^{3}, v in Real^{3}, w in Real^{3}, z in Real^{3}, u in Real^{3}} |- (u otimes v otimes (w + x + y) otimes z) = ((u otimes v otimes w otimes z) + (u otimes v otimes x otimes z) + (u otimes v otimes y otimes z))"
      ]
     },
     "execution_count": 51,
     "metadata": {},
     "output_type": "execute_result"
    }
   ],
   "source": [
    "tensor_prod_08.distribution(2)"
   ]
  },
  {
   "cell_type": "code",
   "execution_count": 52,
   "metadata": {},
   "outputs": [
    {
     "data": {
      "text/html": [
       "<a class=\"ProveItLink\" href=\"../__pv_it/demonstrations/cbd440c9ffb341fef2e8bb0c456408eab236af5c0/expr.ipynb\"><img src=\"data:image/png;base64,iVBORw0KGgoAAAANSUhEUgAAAKMAAAA/BAMAAAB+5mWLAAAAMFBMVEX///8QEBC6uroyMjJERETc\n",
       "3NyYmJgiIiJmZmaqqqp2dnbMzMxUVFSIiIju7u4AAAAoIwv1AAAAAXRSTlMAQObYZgAAAAlwSFlz\n",
       "AAAOxAAADsQBlSsOGwAABKJJREFUWMOVWF1oHFUUPtnsTGZnd26LpUgRmwULGiFsQKkKaqLom9rx\n",
       "xZ+C7IqIvoTOQxG02m61VhAxW3wr1Q20Rdj+ZAVFqNhuH3yxSmK0kMammdBWU6ukUdsmps147tw7\n",
       "v+nsnr2wd+/Mfvebe8/5zrlnFuCWTRsT3y8NnoKkpmyHdtor8vt7+CkZ9Es7jNm1cvAN7E9GpYfb\n",
       "oJwp+cM3klFsXRuU7/mjn8eawPbY9H0vBSt5ugmuq0ym7GwE4xP1ZFzmKpmyanprvAOKpSbA+8mU\n",
       "W/3Rdni5mb2qdaopF/3hsanvmiE7qMbMXaFuR6Mi58iOTF0jArfUyVZfQ8RtosfEkEnD/UunrJZo\n",
       "BvqPTlls0Nz4txtBTqglBnrHalo4LrvB5shAv9h70kmcmF4mUa6y3K/R6/6d1xaTsMYizT4DIs04\n",
       "gZ12JSaOBZoXhdKzTqBjLawV0+8QRFPHtHTGtBMQhbRiVHjfK1PVdZp8K9L0jhXXQg3T0l4cTEhi\n",
       "AIcWPDIeWXfcUIe/qADrw8FbAI+KW91Nct9ftdo5Mer39ltwKlHMug02aNIGr0fAbLJ2JE6e+hhZ\n",
       "89EH6876KIaLsMMTuUBtEnPusYGNxyg34NPY4zHz9P8Twejctnd5ASFWO+puJPUkdhfy/o7PXq5V\n",
       "oHEQYFa3o5QzTvjwV0++jfL6EB89gZrQGyHKnG4CKx8F+Hqbgo8qGz9qlmHqJiuz4SilH5QyrLi6\n",
       "NiJbCgNU7RPycBd7Gg7CLPwB8MiBCfzJNK7mSjmAQy8A8CezkC6G5sM2L3IpvAnwooZ0GStE2QD9\n",
       "qzLkQLEBV5WFNAJ0FB3y8VWy+dDZH8lBVd7dBmDz5WbFsTPiAnDeRy4JzNrefjSAzYfQCDFKJRIc\n",
       "n0tKqOK81OoQZRmUWp2TKML4BZPZGl4Y+RWUxtow5VO8ewg/D4O/cY9yM4xzyl5g3PWjuOJU5RjA\n",
       "eKoSi7FC5GC7k3dYI7FF3KI6ELJlT3YYjHwPpEpoUKge3wk9AO/iio29MV1mI9lQcd1/GPd85Tm/\n",
       "ThaU2r3YnRmGLw9MbkN7TmV24+LSXOrPxChnIgdExnXI3XylyNNlhnQJrtTR3Zk1+WDC4PHspMwE\n",
       "/r0Ho3nIFXeXtMXzMscISvVX+9sVNTH79IzU4A5Pi+mBMGBfpztblaXI7mjaujT1WbPk5mWiDwKd\n",
       "I9vW8+DvEQ0rH7eDVBsMSXOogYJUpBx8X4wviB3YcSs1ayOlFQraE3a8+/Or8mqeVmUJOyuBgmYT\n",
       "z0GFdvYUGlEFKfuiCSmSlW/QykuRtvrvc9sD3VjAWElY9SaJssuVtBauiRLrM22JVmbRXz2gk1ZZ\n",
       "q9folKssEkxZoFOeIL6Z3k6nnCaW9SP0t83HqNWyUOTF1kh2g+pGIcwj3vVvfYmeXCJSqlEVZacS\n",
       "3dppESlZ7JUikzixWKIafadblDZaU46Q/TjH/XN0GXY9ga2UTMlukikNPPaVS1bLVWoWXcHv8Lw9\n",
       "1pKymKdTFvBEmbvccuM/tPGnjo5K/ERvtUp1fTt/Z2GZ8udpL43sX7j1O+Sz9XYof6egN7b1N55C\n",
       "MDxLwPwPWxBdz0VeGacAAAAASUVORK5CYII=\n",
       "\" style=\"display:inline;vertical-align:middle;\" /></a>"
      ],
      "text/plain": [
       "x otimes (Sum_{i=1}^{3} f(i)) otimes z"
      ]
     },
     "execution_count": 52,
     "metadata": {},
     "output_type": "execute_result"
    }
   ],
   "source": [
    "tensor_prod_with_sum_01"
   ]
  },
  {
   "cell_type": "code",
   "execution_count": 53,
   "metadata": {},
   "outputs": [
    {
     "data": {
      "text/html": [
       "<a class=\"ProveItLink\" href=\"../__pv_it/demonstrations/14d624b6208171c377bcc182d8f4929f5ba604a70/expr.ipynb\"><img src=\"data:image/png;base64,iVBORw0KGgoAAAANSUhEUgAAAJIAAAA/BAMAAAD514yNAAAAMFBMVEX///9mZma6urqqqqpERETu\n",
       "7u4iIiIyMjIQEBB2dnbMzMxUVFSYmJiIiIjc3NwAAACaT8rzAAAAAXRSTlMAQObYZgAAAAlwSFlz\n",
       "AAAOxAAADsQBlSsOGwAAA8RJREFUWMPtV1tIFGEUPjO7s5fZnXHJgkLNDaPLg7gEBT6EEi70ks2S\n",
       "kEXiQiyED7lg0UNJVlQQhftgxRraEhn0YG6PBeFKQUEUqxJk28Z2IRACjUjtotP595/duaQvzrxE\n",
       "Htj9/zlz5vvP/cwAUBLfZhJgCXliQpc1SHzCHQWLyJGyCEjotEolaEpbhcT/tAanOSH+tsjfkve8\n",
       "Rbb1ZXKwQv8vnZZVmjeFVCfTHsd9yHTPmWtycriw9bYHTEG1/ypumXpTSEOy2uTWK219Kdmc5l9D\n",
       "irwgLxRZXrqML9UPqfXVRj6rNLe9M4YbttgiKOuuAtQCtztcBNSQcnSz7NPz9y8C5H54DjicGk4i\n",
       "e9x41ylR3eRven65um2Jx1/lN65tQWDQoSVEnxGSNRPxPqnoFUWXm3OSDkkdfewaBPOTXQ2KuJQV\n",
       "XPi3QQJurCio9EmnrBt2rHq1EcPE7SK7a/jbrKzgTAHbSMaIvyB4ii5c9w8tEkMc3pI5GA9Ash8g\n",
       "5EYNnl+4j05H/slsKTotCR53DjgfRuFOm4hG3zBUjKIiyS+f8IgJCzl3jvNxBHmeHszNSq058Ebh\n",
       "HfRDCA4AdPaM4q2nBS1k7TxwoFO9OWHBk/IA9L4HSGLukSF2GBPkO5SkwRZGnvueDzwgSkAO2lGs\n",
       "GG0XcKH1PNjRW248BGFQ1DaNN87iZRRaY8BPE15ZXgBCJAZDhYenwgYkIEcDAzDZi5biI2GKhOlU\n",
       "EwC2C3liPEEExHwabyk8/FpbSs58CtfkOIlBOcFPkOyoGnQgfgoqJWKdDyZhjCBVA6exjtWNcnua\n",
       "xHcYVWcDdwHGWER2kcrag0h+7jJ6sR6q+BgI/ipgU+gsgCeFdqArJIwx1A2shSqAVai6UEvMJ8HF\n",
       "UHtSdtSQSQOzlZRbDG73TLThrkLJpyv6ykafhLK2coS3k8wMkjwhNzbhRUUpiS6y85mJgbNdJG49\n",
       "qjjGUMFt6vbFAD9B1rJ8ehSy7jMptTfSYLFniErEGgyVPaJuuZ3jGGRbskNbp7TE92W3q2VBmyUT\n",
       "UTsTdbmxKTqCtBQbFQ3+atKf6PJMffAxVcQo6R2lIk1KcCUjUtCYAjaln3xZovuK1IiXRr6XHjRV\n",
       "TAGu0mdmtKgp8HFYNvWh4Jw9kacjOM1nTI27Ss17gUVvrSv0jxF/THd5yMT34gMdbja8fKRL+ved\n",
       "5SPx8xnJGiQhIuTrf3UDUsoMkj3tjYpBK3Ry+ZnkrYgVSCWSKwARK6xzSDg9LdGJr4hpkMTrX819\n",
       "7EesqpjBMwHzIH8AWiX5scTKlwYAAAAASUVORK5CYII=\n",
       "\" style=\"display:inline;vertical-align:middle;\" /></a>"
      ],
      "text/plain": [
       "Sum_{b_{1}=1}^{3} (x otimes f(b) otimes z)"
      ]
     },
     "execution_count": 53,
     "metadata": {},
     "output_type": "execute_result"
    }
   ],
   "source": [
    "tensor_prod_with_sum_01.distribution(1).rhs"
   ]
  },
  {
   "cell_type": "code",
   "execution_count": 54,
   "metadata": {},
   "outputs": [
    {
     "data": {
      "text/html": [
       "<a class=\"ProveItLink\" href=\"../__pv_it/demonstrations/804da8e1f360851b410e4d88de9887da14a161310/expr.ipynb\"><img src=\"data:image/png;base64,iVBORw0KGgoAAAANSUhEUgAAAH8AAAA/BAMAAAA7ywpMAAAAMFBMVEX///92dna6urpEREQiIiKq\n",
       "qqpUVFTu7u7c3NwQEBDMzMwyMjKYmJiIiIhmZmYAAABAteJjAAAAAXRSTlMAQObYZgAAAAlwSFlz\n",
       "AAAOxAAADsQBlSsOGwAABA9JREFUSMeNV11IFFEUPrvuNrPr7qQYFkS5UT6FKQRRUGhEBb5YEP08\n",
       "6VPhQ7QiQRHolkUEgRKEQYUL9VBBJfT3kOVCQb1UVvQL6UYSPRRa/qWZ07lz78zcsXvGubB37t57\n",
       "7jfnnvOdc+4AsPYDROsGqulbgW4Je19ymBZ67QNwNSMG5T4ABUXkknbBHrzzAdDOkkuGcwLNBwD2\n",
       "pKmVm1kx2O0LEMlTK3dtQ+d8AaK/51qIFy/9uc0H4RalWpXr7Amf/VCfJUzgvvXRuJ8GMcIIByBg\n",
       "M9QW0maCAoSn1TyeCgoA59UUHQ4MMJRRzc6vCgxQn1PNVhYFBmhvUOqVwq7QlFof6ccO1Wwvi5Go\n",
       "KUx5qKLR7CAjWsmzUU6GUWfi8RgFkFSt6COcz6Z7vi9kOM3Qk3HTZYkheyvjdCg0olLrL38OmO42\n",
       "yVtJKzgqBGlHVQQX5yowa2avFKN5t+OgX8AAmCrLCvNrXbMPWHp1G2gs220EuMenuhRZrdBOJ5Xm\n",
       "rFA+uzwNhjjNc+FyfkztZfESBypm+zZkdnpjjy3EbCkuX52yHqvSoL1yQsGJpd4/HoAQs8lKW0+u\n",
       "yQFLyfBa7JpT/wEcNuWoSDRuwQT0GfXtR2qHGiSAeaEMaPmFAJdr9ZwE4NBZILOQ6MG94Q6n+A1Z\n",
       "iryHRdACTQAPSvoBWt10MDQpG7mdpdDNACdY3YnWSAANELqSh3mgpwF1bnVDJ+KJw3rWnQFIM1Xi\n",
       "/DVllgDu+oqa4agl7QHQPURbIACgHqXCHRJAHvTiLBi4gRlNAkiekwHWsO6OKFziCDbAUXjFACpA\n",
       "k70AlZ7CcZF1G9ALY6hsokqyQXm8CJKpcgjn0BASQNwT7brlklLUfvg0xkWfBGAsw+5NEVwqeVnr\n",
       "4YEnlUWt+RVMC9wVyUg8AItI6ILoeWRTzAF46I1FizoRcarj/FHNARIf09cd0kXsWCjwpPedhZZs\n",
       "QpTD7wJA4B38tMsNZzsaB10W4d5NR8DRFg0iwOsUlcX4Jbjv+jCBAM++8XEzf4sA71IklND0fz7c\n",
       "IzvDsvtT8W9SVVt/ckHXhy1kudZVOTE87vWhvtMky7WQnXU94Gmk977Vbndhaashb7R/VbN1linl\n",
       "2pgjryhTwYu+shUqrxIvcoEB5isP154PDHBTeZWI1QQGGFBeFEMTgQHWqdnBfaPNbUttXD1/nyti\n",
       "M6mpdB9FA4JhL7zvzsMg5UXCWq1e2/7iFUHlL8LhBsvL4bf23yckQBllG2bFUGvaWI1tvV0RCDll\n",
       "+4C/kzucv3HiC9EgCRPp4xVAtDbi46o9RYY5pkVtIiuOoDfE1ZTYSzNkMZaBbtsXbdduKFVIdPp8\n",
       "lPaBtt9+LaYUpdCprA9HawMEQo/f4rG592uECf8BwicyHTx5DrYAAAAASUVORK5CYII=\n",
       "\" style=\"display:inline;vertical-align:middle;\" /></a>"
      ],
      "text/plain": [
       "(Sum_{i=2}^{4} f(i)) otimes z"
      ]
     },
     "execution_count": 54,
     "metadata": {},
     "output_type": "execute_result"
    }
   ],
   "source": [
    "tensor_prod_with_sum_02"
   ]
  },
  {
   "cell_type": "code",
   "execution_count": 55,
   "metadata": {},
   "outputs": [
    {
     "data": {
      "text/html": [
       "<span style=\"font-size:20px;\"><a class=\"ProveItLink\" href=\"../__pv_it/demonstrations/d89738c341c6afefcd7635c7e63883c5f26a85090/expr.ipynb\"><img src=\"data:image/png;base64,iVBORw0KGgoAAAANSUhEUgAAADsAAAAUBAMAAADB8VhjAAAAMFBMVEX///8QEBCqqqpUVFS6urru\n",
       "7u5mZmZERER2dnaIiIgyMjKYmJjc3NwiIiLMzMwAAAC+/aJUAAAAAXRSTlMAQObYZgAAAAlwSFlz\n",
       "AAAOxAAADsQBlSsOGwAAAPZJREFUKM9jYMAJTu60Y8ADLBgm4pN+x9DFgBfcxia4V7x+rfgGIGPW\n",
       "BKyaFhxmcN4ewMDAWolVuuAEAzufAZDx/gEOabYDC1jlGM5vQBLlrL17CyFdwHCVYWMAQpZlZQBC\n",
       "N3OoAcOLmTZADt/dB6dBgqcCkAx/rnUAyuGaUZkAotcg7D649u9UGOcoAwfEO0hO2x2FsJQ1FUTy\n",
       "yd69e/c6VJo9GhEiJyCKCpB08yXArWKZwAB21AVkf+cdh3G8GRhAIcQwE1k6nBsaInwVlb3gsONS\n",
       "gId5MAP3BhMIm4NBcQnEcnNXeIytYShfr4AW1Czt0EBFAgBwE0sSXhusiwAAAABJRU5ErkJggg==\n",
       "\" style=\"display:inline;vertical-align:middle;\" /></a>, <a class=\"ProveItLink\" href=\"../__pv_it/demonstrations/3eae5e83afb7c78544491350ec3893081ee061460/expr.ipynb\"><img src=\"data:image/png;base64,iVBORw0KGgoAAAANSUhEUgAAAJkAAAAaBAMAAABWVuP/AAAAMFBMVEX///+IiIgiIiIQEBB2dnbu\n",
       "7u5UVFTMzMzc3NwyMjK6urpmZmaYmJiqqqpEREQAAACk/Np2AAAAAXRSTlMAQObYZgAAAAlwSFlz\n",
       "AAAOxAAADsQBlSsOGwAAAuVJREFUOMutVU1oE0EUfom7ze4mWaOBXKxS04OWgoaiBw/CKuhBtKwo\n",
       "ggfNehApaogXETwkIgqCtOlB8RAloJ6bglgVkRRRUIvEHiwEwSjkYLFBD6UICr43M5ns0iXJoQN5\n",
       "+2bey/d+5w3AGiytP5HtQa3WG1qfFUiB0k0rWu4NLZRVChCqd9E66QpGEt8VrADMdkH72WY3EzFi\n",
       "XnlksPlnkJQCk4RoAzD/vvgnN8U+Tw5gzBb+pcwxXUvXHONCA5nTaCfgALyg03u+aGGLqHJuL485\n",
       "aIFuezVMzYL6ZcrcCoC6DEC85p/A9SWi62po/KUIrbwa7ZkOx7LaX9wVgZlTqr5oOebJFNGUONrN\n",
       "P4HvySGJZmLGIiR4heawGrp/ETYyup/SXxBHRUaNSbvt29kTENqXyOMujr+RZHKXP9oYkbcj53kG\n",
       "j07j7iAT3LLbkYaWZNIpihkATIyaX43WZPQ31Q4DsB4i8w48RTO1PTu3ysrk8HrdBA1Lq/BWCg0f\n",
       "grgjpHdZm6xQOaugVZ8jM88EhTba4TdyAxNYNdNWSnx3KbMInxU73DI2zG7XL6prCVTmZI6ZxOQk\n",
       "d4hIG+0rkEacaEwUITxDfRwry+vLfFMGOBpEsZ2AogW17uqQq7rM0QQNkgKiGwmAfjpZqF3zopkU\n",
       "t44tpDsy0gEXWviKxM4R7pE76EHa5hYXlFOPWtIMa15KqIkkXcXCfmSCDS40tT7nrilcR6M35sGo\n",
       "MDQob2lJ49J9BVWmNFSY5tez1e266sBcn0g7vGYGSP8bRB40m0uIdlz32PrK2hVjMykT25lAzTyW\n",
       "MyRv/vgn9J+2/qguZ0MW98341Dqk3AuVbWKqiIwZo/xmeVdRTtmCRT0M8B4g4ZohUec+Yz+Ik0qH\n",
       "aUgzRHBn8jCOERtDWTDlgE5BsMGb0+RtMN5ptkYcD/Zoc9ErvwiRTRxGtFijE1ow3/O7cJtZ76g/\n",
       "u0ZvFq9Qtzer1/eULQX76T9ROajxzOdZdQAAAABJRU5ErkJggg==\n",
       "\" style=\"display:inline;vertical-align:middle;\" /></a> <a class=\"ProveItLink\" href=\"../__pv_it/demonstrations/5d246356b920f40d831ef45db1a5defd55d28c3f0/proof.ipynb\" style=\"text-decoration: none\">&nbsp;&#x22A2;&nbsp;&nbsp;</a><a class=\"ProveItLink\" href=\"../__pv_it/demonstrations/3e741ae60eca0a20f58ef8f27e638dd622ae26540/expr.ipynb\"><img src=\"data:image/png;base64,iVBORw0KGgoAAAANSUhEUgAAAWMAAAA/BAMAAADH17TqAAAAMFBMVEX///92dna6urpEREQiIiKq\n",
       "qqpUVFTu7u7c3NwQEBDMzMwyMjKYmJiIiIhmZmYAAABAteJjAAAAAXRSTlMAQObYZgAAAAlwSFlz\n",
       "AAAOxAAADsQBlSsOGwAACB1JREFUaN6tWW1sFEUYfu+j3e19bNuEIIFozyA/TMQWTUQTsU0gYkiU\n",
       "MyEoP0zvl4ZEwyKa2KDtISTGhNjGQMDP1l+KRtookR8Qegkmagi0RRvEBLgogkZIP2wp1MI6s/Ox\n",
       "szN7dzvtTQK7fbr7PO/MvF87BcDjOpBhDQMbA1Bp7LF1YPAJhRKQh7neu0+x109xKD1ekSHdogP7\n",
       "hUIJKONn7/ZQnlwTBzm0IgTjKi1YFAopII9YA7szPqY3HQUOnQvB2JHVgUWhkALK+/vZncW26x9v\n",
       "24wQjDUHdGBRKKSAMrawOOnvo34xy3/3fCjGZ7RgTyi0gDziRXrzHb0mczw2C6EY2/M6sCcUWkDZ\n",
       "wJv+qyCVaLxnIluZIdmiA3tCoQWU8S1dbaawVsyBM2EmPasDe0KhBdQNJK7VT6ebmBZ+d/JGmEX4\n",
       "VAvuz2oLyKOOOPM2+mOtvneNacHbYMHDcm007tAfu4raDM0FDZgLLWBE59wiyjxvqE9/nwY04NTs\n",
       "wk2Gj9wqyPyhdR77dFMDjo1XweQxnNXqWRz/O488OacB17dUweR27HPNtNeITugTmDc04OaGKpjc\n",
       "jcvdWIbu5iSpA44whisxfKABUyE9ASVMetB/g7TVSJLcXuPQKHlj5VanpxJDqx0epkJ6AkpAYCun\n",
       "mKu10ew5xX///XQlhkvZ8DDj1RJQPiDQGyaLum4aHXGHd0fwR8VoKIaGuZCWgBLZd8g/n0zC8eLd\n",
       "8vVkpnrbH5wFgmAuFCRgSsym8jr7cEITT99mm8lC4ZLjGeorY6NCFaIPd7UFmhwEc6EggVFJJKrE\n",
       "5UpaQpFXWcydxpj/xRxV0Gq0oaYBduyTzK8PLg9BMBcKEKhpkEVGlRlT8xz0PiujraxeG71qM7D4\n",
       "UBZ2ousJ3hOT8K8LbiGDYC4UILBTEUkqOecoufTakGTFdZDvVrOjBPz+5TZcQ1e+Uini+fRtY6Tx\n",
       "blEjGVCxBUwRuKaIuPxvNTae48+c4WbyBenlmhFH/uCM4od66JUM8kiM1J8HbTDOiis6WXblFYEe\n",
       "VQQ9Eb2KrM7w94l9rRnP7Rwh6f8nyUWQ80UHyJWO46THdpc9+ij6b0fGe752urx/SwLRAVUE8S9H\n",
       "+248xHeJROq2bKDJHY6/HUhtfbIIFsKSr1xkW7pYsK02kgejeBdKQev69oYxWRLA1LII4s8tAeiM\n",
       "2JQ1kitnMq+pXG6YzLLrqHHTdxZmuSn2V1gCnbAdPTOypujBYK1zR04xWRIgC+gXOQXpfCRvFI0G\n",
       "ykoPx8YK0EWZDEfsYG75A7YbZZM4mnq7DbfhTffdTYLJOYh8UYRagHcgIsBSrh4vKRDPKiKIH/Et\n",
       "fQ+TE9aaNm4y7UyMWyKH1GK1Y/fP4OMkYyJxwX23nzi5Wx/Qbl4Bl9e4KsCSyT0lBeoysgjmR3xW\n",
       "ziV3WRNkyk3DwSabU365RZTtBESn6XTvF2wrgtnYBxa62wXhTPYLEJN9Iogf8e1aiskJa7SnrMnp\n",
       "g365R7DDoT2bA2uGmrzJZ/IuOIslUJ21BZN9vuwz2S+QzCoiiN8CsyGdQeSElToGMjko/KBZ+nL9\n",
       "BOdatJWT+HCUvHtScNoViQZIZ1YAPIBdr4Qv+4q4XyA2rIgg/mj2M4Cz0SxlTbUwXw4yOSHlKBPH\n",
       "N04yL8MTbLrXBZOte3FX0ACJVWsW9YUxWRJw85dfBPP/jtw4/SxjpX9hKGFyh9RH1eBnosjSTpwx\n",
       "iclPiTXDLSU2Cpgt34QqJZIAppZEMH8Ml5LVjDWeZ3m5jjH1ehQn5CbM3e0NbAJYwCSeFSO2pX6z\n",
       "vxaLQyzA5Lrx0gIbFBGX//TniRH+zB7avWUhzkr/Rp4pY1KDvpmExxnRZKvga89ev/BccNcm5DWv\n",
       "x5AFMLUk4vIbL4zaUuuEG84YK2etvJO77D3n0qwlvWGMPGAuu4O2dTe1I/jsJQiOeZgsgKn9Ioxf\n",
       "iCc6zY15dhbgHQ5AyktAKZfx9F8kDYprs1rd7RJOwL2Ld3eKAKaWRFYrM7a5/0ZYcDcV1AS0xffW\n",
       "XqFRootRH/xVHwRzoSCBvZJISvlDwI/0ispHih0SDdH4Mb3Q6ax4VtndFhrmQloCin+gshllh1HN\n",
       "OSkBmZudimeVzbnQMBfSEghiMVi33UVPWAePueNIr+M4bZUYhoZDw1xIS0DZK9wKbGRRTkLGEo/M\n",
       "ChXPTvvCw1RIT0AJ4ll2Ylv6rLj8GNSAx/JVOPlM4oUdojNNzc2DYUoDHipUwWT35LCbHmyZ8/hT\n",
       "RmJCA+4uVsHkfpzX6lgI7NMnSM9qwHVtVTD5Eo6SCKv9TbY2QaxHA47MVMHkx1yHYB893dpH6tCV\n",
       "04DN2wu32CDJ/RgLRpyYv/I1WdsXv1Q+LffpwK6QnoCSlonLDdHkk8JZrtZ3JlKEy2UZjmjBrpCe\n",
       "gJLjSDx0URL8KQ51vgWadA8XShf8OR2YCGkJqFmHJEqLBcvfOIlcEHfqh/KMkXEdmAhpCSijia4u\n",
       "C4suFH+/2Bdd9ofReJweLpSOvmEdmAhpCQQy4HGepVO0CmvgFOz2sl1ifTmGy1owEdISUPaJpfY4\n",
       "W5WnAd6HK4n7PMbd5XK1OakDUyEdAdWV2ZdTlDVEzXmYgf0Qt9m+mblEmV6mNqcDUyEdAWW8yO+W\n",
       "sbgZgPWpFszI1uDLw2VW4SdbB6ZCOgJKVj4gHTC5jnZ4BARG1IWX8YsPdWAmpCGgjHe97GKwA4/X\n",
       "XCwebuLJgg4sCsX1uxl3HBfu32YrhN07cf7PUASvasGCUFgBZcIk+P4HPQoXZObGBtIAAAAASUVO\n",
       "RK5CYII=\n",
       "\" style=\"display:inline;vertical-align:middle;\" /></a></span>"
      ],
      "text/plain": [
       "{z in Real^{3}, forall_{i in Natural} (f(i) in Real^{3})} |- ((Sum_{b_{1}=2}^{4} f(b_{1})) otimes z) = (Sum_{b_{1}=2}^{4} (f(b) otimes z))"
      ]
     },
     "execution_count": 55,
     "metadata": {},
     "output_type": "execute_result"
    }
   ],
   "source": [
    "tensor_prod_with_sum_02.distribution(0)"
   ]
  },
  {
   "cell_type": "code",
   "execution_count": 56,
   "metadata": {},
   "outputs": [
    {
     "data": {
      "text/html": [
       "<a class=\"ProveItLink\" href=\"../__pv_it/demonstrations/07ad38b85e580a3aa8596395da1245f0b70b60580/expr.ipynb\"><img src=\"data:image/png;base64,iVBORw0KGgoAAAANSUhEUgAAAIEAAAA/BAMAAAA1TrZmAAAAMFBMVEX///8QEBC6uroyMjJERETc\n",
       "3NyYmJgiIiJmZmaqqqp2dnbMzMxUVFSIiIju7u4AAAAoIwv1AAAAAXRSTlMAQObYZgAAAAlwSFlz\n",
       "AAAOxAAADsQBlSsOGwAABBxJREFUWMONV1tsDFEY/m13prO7nWlDRDzQTUjEg6yEuCSiJTy5rRe3\n",
       "SLoJwovYBy/Epe6JB10RL0K2L0LWpTyIhIT1TtoICUK7DaKCVFFayvhnzjkzc8b5x5yk07Pn8s1/\n",
       "+f7LACiH0SNms4Ea2gGIGFvExPxMH3oSAZCZKGYzIxCSnfRef4FPrN4IBGsyvXfEU8KKQIDTNVKJ\n",
       "X2J2NhKhvp3aqasKcxciEVLD1E45L4SpXP5ZioCYS23sDjj9T5TTyzcIM4z6861jUTKMIwzREKW7\n",
       "TF3i5GB7XITEd/X6rhtxEWCCenlNbADoyCuXv8VHKBeUyv2Mj9BWVRr4i8tLOzB6SHc2KTntkihl\n",
       "8+B4O+uB3UQGuJJwjUX3X/cPb2X7KIVgKnfaWlng2b6OR8nYGlHalxEqY/t0MYJOy3sPPKT0Wx+3\n",
       "W5/t3ws4zXQDZRZPUz+ULOGxlLSLYS9VMCmdw8kzjgNgKynJSW01h5W8erMElpP+9wIsZkvNfqL7\n",
       "VKn0slmLED5nhyJ78vQaGFyhHaHDkDiFIFkZNm1PlcnqOH+c4BI7tSYrdqcjlrU0pFrLVwkh7dhl\n",
       "muAdk6Ubxfz08kOlBNWLAAPpmozQbwdriv5gH/r5JL7pGXorXfUQ2s1HRtHMp/NWu9UpI3jM5mR1\n",
       "3DwPLyeQ5TorqB0F0PPmcEOhAeDKBgAH1wo4qGMoWFPaHCftAdho4O1UUSBkIIm/0+hsvO7IYA0F\n",
       "SooUlWXnMR6g5giTYSmyq4cLZwBsuoIahRA0iXKXOAKUUbJEk4+Qy1s1A7ROM/sPgjkxiLDSeSzE\n",
       "v0XgaYEIb7LdqEOidAfgcaIUImpOyrlTnMcqfMcoKq23CjuU7x2CmQCH0QTmuRAfMlL0a65jrqIC\n",
       "n9d5XQ4iDLxKHcdXJx1GrQ4h9EvZLeXaboYjB7KpPu/xgY+d9zIveLB4awvkyHQ5VM8VW8/D0Eew\n",
       "Ljznvj8oOJBsDQKcr3MP67ygHZcDWY5uEW4nfDrh5d2v2XQ5MwpHP6gqOR083HTflToi7DzG5m+Y\n",
       "fLWwyoHRVfjHlaeDLnG3t/FfQ8rCywJS8105MEJ2pco8mavKrtTOyyEqJZ0xZfvA4rZljjvmN2PV\n",
       "K1II+m9lj+cyxwjWzQLZxCilM4bj1+46ZRukf4+P0KjUTxuJj3Bf3ZxPio/Qp265umqxEZYQrQ1j\n",
       "wtv/A1hjhIEZIa6JY5WHlFA6QTVddqcBBsWoOmLDkpu5xqxGsbqNotoht8cQTZBeIxG6KAMNOqa8\n",
       "/geOLsNR4CVXJexvskPDaqK996/dJixJ2gdgv5OFvEStrabMkCURcpj9Bj8ILTbDLfWxhzRT0siI\n",
       "M2khwoq7p9RenxpBNqxtH5+Kfse21Z8ya6O+Q97F+UiZF7WpZWMEBTvzFwFUPDGaOeBFAAAAAElF\n",
       "TkSuQmCC\n",
       "\" style=\"display:inline;vertical-align:middle;\" /></a>"
      ],
      "text/plain": [
       "x otimes (Sum_{i=2}^{4} f(i))"
      ]
     },
     "execution_count": 56,
     "metadata": {},
     "output_type": "execute_result"
    }
   ],
   "source": [
    "tensor_prod_with_sum_03"
   ]
  },
  {
   "cell_type": "code",
   "execution_count": 57,
   "metadata": {},
   "outputs": [
    {
     "data": {
      "text/html": [
       "<strong id=\"expr\">expr:</strong> <a class=\"ProveItLink\" href=\"../__pv_it/theorems/15c8a61a731d80a854fa85a95beab47c40ed00770/expr.ipynb\"><img src=\"data:image/png;base64,iVBORw0KGgoAAAANSUhEUgAAAkUAAABLBAMAAACMxe6rAAAAMFBMVEX///+IiIi6urrc3NxEREQi\n",
       "IiKqqqp2dnbu7u4QEBDMzMwyMjJUVFSYmJhmZmYAAAD4FjilAAAAAXRSTlMAQObYZgAAAAlwSFlz\n",
       "AAAOxAAADsQBlSsOGwAACwhJREFUeNrtnH+MHGUZx5/b2R+zu7d7e21ooTTnkpRWxNhpAAuBclv8\n",
       "p0bFVTx6kErWkNP+QdptCB5W1MEQ26bQPXpwEhJhKxK9kHhrgNg/gN4hRowSVz3ij8Z2j1owCrRQ\n",
       "rRfUnu+veed9Z2ZnZ3dm2muzb8LO3DvPvPs833l/PPPupwCgkq2DrxJfWPDZQjglu7Cg+2thL7//\n",
       "bZ++xKdhkZakT41SB9lJptbVqFmZZcdJvatRsxLN0eNPoatRs6KcohHOdzVqXv5KPmPlrkbNy6CG\n",
       "P6f0rkYuExLpQa/A+aOR4t1UC0ajzBj+/F8gGh16dGho6LYnfWdt7mWZd9PLgtFIOY3TpFOBaLS2\n",
       "iM/UNU/mwkqaR3WIl+GBR93N1E8W6UlPKRCN4A7cmU4GolHiDAulGJJG902WYC86vtTCLt1gJweD\n",
       "0egf6L9ea5Z9/+joxU4PaPnoDt25gsxHh/K0+mchaTSxSod30PF0C7u+Ejs5Ymrk4nvL2D+Em7FM\n",
       "uJG/IdO8/faP6aAuca4gGg0+xr4mHIkiOIsbY0e3slYX1jSmkYvvLWPfXkW6W9KjVWhBUG+y3/4J\n",
       "9PFA3rGCaJT5Z6grWgKN4UiNHl3LPXzQ1Q2N3HxvGfsU6pd9ZFtDeWspm2yn7wbYl7B1xN6EBmrj\n",
       "XoAbd6yTK4y1/ze5ECXK/HJLA7LocaZnBkquli/0v8lUnTY04q4m+ndafZcKj90wRKWC9BkkX3mF\n",
       "FqWduEdLaGpDteXeS+Fu2Ae7IDIOn9XFCq7Rng/C7Ed9OdozKgdV14VY/Y9e0fh2RlJyVbmVvVoI\n",
       "vouFx84N2RfjvgTq94wFqRdg541IUZvEkHiqga7uqcNxZK/xCq5R6l9hajSIpoUYcnW7Du+5rrHz\n",
       "JCpkHS8aGhmuoreuh6VgrGPFiJ0bAp2L1uJhmZ3H9eph1MvQHyhkWz8qk624BJzQYTM65niFmWd/\n",
       "qxGiRtvxLJzHS7H6b3io+Y5XtgYV5Nrt6JmdNDQSfAdyr+C7NOcZsRPD1+nc0ddg/ShZgEoeDlyE\n",
       "jADWo7FoC7cBymgVXX0E1PelClOj9KkQNbqHafQSRE6n+otu6dFaOmFFxgyNTN+RcvhewXdJXyP2\n",
       "R4B9m6gRkv4oOoxgO6Xck3fSaD0sgSx6iCzpZBWCRglv/UhyLa65mQqrwKdx/CX85oT6fLy5RmgJ\n",
       "OsGytqKpkeE7qxZ8lz2jsVPDQTZnIycG8bpWKcGnkLtIo0jphwBLIra1Y3WqDD351eppiNbujKzk\n",
       "FYJGq5jpMwW760JdlHXsuQGkz+8crVPP2eR8mG0Kvo9nRKKRPQdUsUZ5NLeqeO3LFAyNDFfRm2mE\n",
       "3Cv4LuU3RuzEcFYZIFLVqU6QzmXuSJB+BG+gwdrzFbJCYPFq7CS7Br9SluEn8HqjnKjovIJrpAwb\n",
       "U5/DhpRQRzWKPAvKOKjTjtbwC+Y0v6Z8wFbz1+Bm2hdk9/AJ+eitR1GSEEdn2ZyhkeHqu2hOJvea\n",
       "vssNGLETw5mP79FYfpTEI0Sd2XnDCqpRFOdRm4y3uViDnQBJu3R4cPlTM9VrR8wKrlG6aiS4VYeN\n",
       "nKpFoxGyx5fNO1rD48I7Fx04eIBHUHj7cBch/WhIF9wjJzH0lNQ5lB7txsM+pvE8m7ma2NGv03u5\n",
       "73IDRuzE8Lv1FMnb0bSUFvo6dhx++6PUcqcsboV+gD/WjVIF1egzRoef6n/VdrdQF+X94ijEwNE6\n",
       "9d5KGtxX+VRBvuJ2QzEcZ9w+2LaKOfY15vua6Du5VwpGKELsypm/k+NR1ER2zKKR+qVljm/L3+nn\n",
       "LqjzVbGCaNTDZux1cJE+YLtZqCMakTfpr8H14GjdM8xa28Yq7kqXjNdUHmfC7iIPuw91iHeE937B\n",
       "dzrfCxXSjGbGnilcTnb0juPzeYtGXjZDamXbPuSVfHhshMNwtUVmXMe2BIhGZIS/gKd5J+toDiXJ\n",
       "vZq5DHxhL63XhDjtL88qXwcnUT8oOO+NxD1u3vTmniZPYQtu2NxsWH9oztv96oxm1ciYsZ+uwX54\n",
       "O3W5xbn95o/BVKMc2d27Cxytk3k6tuAHxhg4Rr+XzgvK18+g2+0/n2f4GVp3o7qjRvReDyWt9f4Z\n",
       "fyXZpr05kD222Nbdu3dftfrShTrMwwTELM7hur80TI2ijYgeq2MNnKz79GQpc0QYa0bZ4NGjFwF+\n",
       "H8xebZwkxn8KRKMTC6zoMIwyExQ1ejfcxT9QnXJtTZizx/+4AgWC5mxmLdjuQn/PwlV4ePV35E/6\n",
       "I2PCHpLPLWLidCUfhEZC+TFaGlDUqQmY1FLj+GOC1GXKwtp/w8Zf6xqeYJg1TJao7Tg+m0Omf2Br\n",
       "dAdxDeiBaZQki0WiFrBGuOCo46YBnQXzYp4NH1XrRpJIxpqZ2tOzl/n84yNC3xpdIidsAWqUuuRN\n",
       "IVthZzHpXQQGf44COMatzXSHnaH1J6Gfc40m6OFwCP0Il7p8tmybrFH68yCqkJGXp54vN/Db3LnW\n",
       "qIcNsnQuHI0sZRvLqeTfWpsFEX/L5eLZ0+g6luSot5wVjc5F8auReqtxdr3Pli5cHjLK41Kq0C2O\n",
       "5dvnTX9YTF1t8c4ri2fK6mrU1airUVejrkZdjS40jcJnP5XgGvHZlNahRqGzn+2wsa0aifhz8rIO\n",
       "NQqd/Yz7/WcFImDrT+9O0FsyH4XNfu7124AI2Kb9zQgHO9QoZPaT/DQobD54BVzNChGwzTTcbVs0\n",
       "eqRDjUJmP2FM+ssr4GpWyIDtY662LRoV0dv21v5Q2U/Cxgp/eQVczQoZsH3R1bZFowJ626ZG4bKf\n",
       "mI3lbG5rwNWw5BUWwPY+4dKO5VXZtlmjhqGA3rqW40O4bBE0Cpf9xI+Os7ktAVdqqWoC7SsDtodN\n",
       "22tK2YJ0c7NGDUMRvW03zw6V/cRsLGVzMbzZCnCllomcQPvKgO2IabsZkjlMvTYjgyXDzOdIwMVO\n",
       "NQqV/cQkJmFzCbzpAXDdLFVYAFuY4peyeA7H1GszMlgyhP1kyJzsVKOEt34kI5d3upnmZI0omxv3\n",
       "BLhSilegfUXAFuAKfilJxs9IczJYMlQI+Gqit23OR22yn/DN/mNoZOcNzlMsDuxnugSMzfUGuCLL\n",
       "yEqR9pUAW6SJcalS5ho5k8GSYaawruFjrLXHfsKVGv6h7kHOeUrFxn5iNpayuV4AV2qZqOgC7SsB\n",
       "tjDLbfG/e8m7kcGSYe/SreMietumRu2xnwRTLcAbztiAjf0kyy1hcz0BrsQSE6qc9pUBW5jjl7IN\n",
       "SFTdyGDJMPkN/M8lTPS2TY3aYj/JMoPGQ9HkPMWxZmM/CRtL2FxPgCu13CjQvjJgC7eYl0b7L3Yn\n",
       "g0XDwXfxwxbQ27Y0ao/9hF/hxzqm1EzOU0xJrOwnmGysZ8CVEqpGhQzYKkWLrRsZLNbPRoqahN62\n",
       "pVF77Cc8gUfndKRAOE9lk2xtYz/BZGM9A66UUGUVFsCW/F+JRFtXMlion0kVyzJ624ZGbbKfZAqd\n",
       "0tCdmPP8/rA1GbKwn2CysZ7hTYlQtQC2V1tMPVOvz8Jr1abobSuN2mQ/0cT5YfgipAqE8wSLRk7s\n",
       "pz82TQZsYZOvfDaqd6ZRm+wnXLfh/mfqGDrDnCfWyDRvwn5ugAAKbSSj+WqkE/Q2Lr/jeGI/lVdW\n",
       "vqrg9Ylwnkgj09w3+3lWiv/fjjywn5HphwDW0PNhEM1pGhcE+7mYNfLCfir/RcpkSa8/8ERJMA+Q\n",
       "/VzU/QiXFuwnPI/71b128wDZz0WvkaU4s59qszYDYT/PN40usNLVKHiNujykU/k/49IcOOe2UiwA\n",
       "AAAASUVORK5CYII=\n",
       "\" style=\"display:inline;vertical-align:middle;\" /></a><br>"
      ],
      "text/plain": [
       "expr: (a_{1} otimes ..a_{_a}.. otimes a_{i} otimes [Sum_{b_{1}, ..b_{_a}.., b_{j} | Q(b_{1}, ..b_{_a}.., b_{j})} f(b_{1}, ..b_{_a}.., b_{j})] otimes c_{1} otimes ..c_{_a}.. otimes c_{k}) \\\\  = [Sum_{b_{1}, ..b_{_a}.., b_{j} | Q(b_{1}, ..b_{_a}.., b_{j})} (a_{1} otimes ..a_{_a}.. otimes a_{i} otimes f(b) otimes c_{1} otimes ..c_{_a}.. otimes c_{k})]"
      ]
     },
     "execution_count": 57,
     "metadata": {},
     "output_type": "execute_result"
    }
   ],
   "source": [
    "from proveit.linear_algebra.tensors import tensor_prod_distribution_over_summation\n",
    "expr = tensor_prod_distribution_over_summation.instance_expr.instance_expr.instance_expr.instance_expr.rhs"
   ]
  },
  {
   "cell_type": "code",
   "execution_count": 58,
   "metadata": {},
   "outputs": [
    {
     "data": {
      "text/html": [
       "<span style=\"font-size:20px;\"><a class=\"ProveItLink\" href=\"../__pv_it/demonstrations/dde1d4f2078c26e6f5a3cdac6b6317d93bb148b10/expr.ipynb\"><img src=\"data:image/png;base64,iVBORw0KGgoAAAANSUhEUgAAADwAAAAUBAMAAAAjLUMaAAAAMFBMVEX///8QEBC6uroyMjJERETc\n",
       "3NyYmJgiIiJmZmaqqqp2dnbMzMxUVFSIiIju7u4AAAAoIwv1AAAAAXRSTlMAQObYZgAAAAlwSFlz\n",
       "AAAOxAAADsQBlSsOGwAAAQBJREFUKM9jYMAJWK/d2YBbloFnAa8AHmnuDVwGDPgAewIWQbZCl8+F\n",
       "bkAGry1WTcysB5iO+QEZTy5gk2ZhXcDgsAdk+29c0q3MDA83sH5DFuZ1Ly+GS7MwsD9gk0OSZbJ9\n",
       "gNB97g0D99o7AQwMb++8XjUBJBr8AGE4t6cplNPAe5ajAMQwRdgtXF8LVcsWwPuVB+x9A4T0sjwY\n",
       "h5uBBcLkFi8vLy+BGu6XC3cSP8TzfA5IHtvBHADj6QfwgS0qQJLm2ApV/EThPAMXmHUXSZrPIQ3C\n",
       "nr+vkUETEtQTYGHOd4AhjUcBzH5xl7MNIs53RA8eYwEszj/Rw5ppCSRQkQAAJb9CckuUpZkAAAAA\n",
       "SUVORK5CYII=\n",
       "\" style=\"display:inline;vertical-align:middle;\" /></a>, <a class=\"ProveItLink\" href=\"../__pv_it/demonstrations/3eae5e83afb7c78544491350ec3893081ee061460/expr.ipynb\"><img src=\"data:image/png;base64,iVBORw0KGgoAAAANSUhEUgAAAJkAAAAaBAMAAABWVuP/AAAAMFBMVEX///+IiIgiIiIQEBB2dnbu\n",
       "7u5UVFTMzMzc3NwyMjK6urpmZmaYmJiqqqpEREQAAACk/Np2AAAAAXRSTlMAQObYZgAAAAlwSFlz\n",
       "AAAOxAAADsQBlSsOGwAAAuVJREFUOMutVU1oE0EUfom7ze4mWaOBXKxS04OWgoaiBw/CKuhBtKwo\n",
       "ggfNehApaogXETwkIgqCtOlB8RAloJ6bglgVkRRRUIvEHiwEwSjkYLFBD6UICr43M5ns0iXJoQN5\n",
       "+2bey/d+5w3AGiytP5HtQa3WG1qfFUiB0k0rWu4NLZRVChCqd9E66QpGEt8VrADMdkH72WY3EzFi\n",
       "XnlksPlnkJQCk4RoAzD/vvgnN8U+Tw5gzBb+pcwxXUvXHONCA5nTaCfgALyg03u+aGGLqHJuL485\n",
       "aIFuezVMzYL6ZcrcCoC6DEC85p/A9SWi62po/KUIrbwa7ZkOx7LaX9wVgZlTqr5oOebJFNGUONrN\n",
       "P4HvySGJZmLGIiR4heawGrp/ETYyup/SXxBHRUaNSbvt29kTENqXyOMujr+RZHKXP9oYkbcj53kG\n",
       "j07j7iAT3LLbkYaWZNIpihkATIyaX43WZPQ31Q4DsB4i8w48RTO1PTu3ysrk8HrdBA1Lq/BWCg0f\n",
       "grgjpHdZm6xQOaugVZ8jM88EhTba4TdyAxNYNdNWSnx3KbMInxU73DI2zG7XL6prCVTmZI6ZxOQk\n",
       "d4hIG+0rkEacaEwUITxDfRwry+vLfFMGOBpEsZ2AogW17uqQq7rM0QQNkgKiGwmAfjpZqF3zopkU\n",
       "t44tpDsy0gEXWviKxM4R7pE76EHa5hYXlFOPWtIMa15KqIkkXcXCfmSCDS40tT7nrilcR6M35sGo\n",
       "MDQob2lJ49J9BVWmNFSY5tez1e266sBcn0g7vGYGSP8bRB40m0uIdlz32PrK2hVjMykT25lAzTyW\n",
       "MyRv/vgn9J+2/qguZ0MW98341Dqk3AuVbWKqiIwZo/xmeVdRTtmCRT0M8B4g4ZohUec+Yz+Ik0qH\n",
       "aUgzRHBn8jCOERtDWTDlgE5BsMGb0+RtMN5ptkYcD/Zoc9ErvwiRTRxGtFijE1ow3/O7cJtZ76g/\n",
       "u0ZvFq9Qtzer1/eULQX76T9ROajxzOdZdQAAAABJRU5ErkJggg==\n",
       "\" style=\"display:inline;vertical-align:middle;\" /></a> <a class=\"ProveItLink\" href=\"../__pv_it/demonstrations/b3f5c91ffd035b2c618d8b35bdbea5ac3c05b6ba0/proof.ipynb\" style=\"text-decoration: none\">&nbsp;&#x22A2;&nbsp;&nbsp;</a><a class=\"ProveItLink\" href=\"../__pv_it/demonstrations/890963efae464d9103c9bdc510c296e9fd18ac920/expr.ipynb\"><img src=\"data:image/png;base64,iVBORw0KGgoAAAANSUhEUgAAAWUAAAA/BAMAAADKycStAAAAMFBMVEX///92dna6urpEREQiIiKq\n",
       "qqpUVFTu7u7c3NwQEBDMzMwyMjKYmJiIiIhmZmYAAABAteJjAAAAAXRSTlMAQObYZgAAAAlwSFlz\n",
       "AAAOxAAADsQBlSsOGwAAB6xJREFUaN6tml1oXEUUxye72dzdze5mA1qlfciC9amUFPsQK5YsaA0K\n",
       "kq344oNkfbCCoFmpLxXavf1QEMQNpaXiV7YiVAs1Aal9aKEL4hdiu35V+lC71WotNmxs06RN21zn\n",
       "zp29M2funN2dJAfaE87e/P7n3pk5M/dsCHFtiuhNxLtJK4sOQa+1VNWAiEq4lpjUXyPFz7cm/qx4\n",
       "nX1PTIioBLVPbf0lIh4aaQ0Mp6HXWPwdYkJEJQix3tdfIcW3F1sDrf3Qa2xbxYiIStBJhkwNKV5t\n",
       "R+GZAvRB+5eYEVEJMlHWXyDiEbsdhc4a9MGpMU/MiKgE+QK5QMTfIu0oRG5AH7DuvCHRWEKKH+yt\n",
       "390G8XPFqzZimxIxic51yDjI8VKhDeBIGXrVHiGmRExiIodMZymeGHy+DWCsBr06na8TUyImMYp8\n",
       "PGoMTE1Dr1jXNFmyeWhrAamFC8bA0G3oFSvWlp6zh07MIxv3vDnxPcVDO11ees4eOoyMWHgRI1m3\n",
       "oYc2uAwpe+gepGxg8aarugI9tGvLkTND9yNHmv60ObCUhx5Oxf+WI2eGrmeQQfDiJx1hd1pWojHo\n",
       "4ZK/SsyJeomTSG3n8RHHWznWrjPjN1ueFeeghzs3DxoR9RIzyIc83uVk/UoynGsBTF6HHi6Q7CKI\n",
       "WokosjL8+PCsGN1WyzKyAD2ciesWQdRKRBaay5MJRxSBf8AlduDH+DXo4YqvNSEib0o8bkOJJLIM\n",
       "/HjSEee7BLhCGte1fO+cgR7Y+SpOTCJzhMfXQonUdWRj9+ODmgQu3EPIZmJtyCr5OwR6UIhyOHEz\n",
       "aarh4iWJMLJFi/g2J3BO6HhxP7Hom1e3/8kxz40XoAfbYBklWpq3O6BxDEh0gxP/9t7e33hl8uMh\n",
       "JzAUsacGSIpOyh7/0Z3iBdKGHhRPGyWmKsEMgMYpIBGTS2noEv0lby+R4n031afWTwMx7vldeD8N\n",
       "8g1qULNRSc9eJcY0GQANFy8keuSj0H30UVgPeNVUxLsddejuov/WcM+v8Z7UKH/wo5o1Jc1xlbhG\n",
       "kwHQcPFCgue2/cxrvTmSv5eQHR0FJWdrXDkpfL3vZbpE3Lfcc381Zl/eJGeVeCGYAdRw8UKC51ZL\n",
       "vpTKJu0O26pZaSVnf7f1za2DJ6j0rULRBm2yOp+Y3F981LXHgrVEIZ7QZAA0XLyQKLLcEnbyRlel\n",
       "i5CVbxPC7qco5ZxyDsA90q0pm+i+M0d6qhbrwUWyupxBbZBzVoibghkADYYXEkV2BIuTML2LDgqj\n",
       "l7PnXJSPZsNw44m497OXNZqK6SO/MIB3i3183+irBnMG5yFI3BvMAGgwvJBo5EZvhqQI2bmSjlIg\n",
       "51IWls6sx6Olsz9HnmbrfcwsZ0jcG8wAarh4IdHIrd+2CikSTSczmpzPwnIbdmfPUapSIfWClzMf\n",
       "OCVneT7DnCHxaDADqCHNDYr21trWzCgdl1DuICE/hXLqGgwpe2XMzWgjvSbjtk5Zzol1reYzWIMK\n",
       "cWMwA6jh4oWEl9vIocvkfkL+oBMpuVmtz4GuTcld9CvoSbgSrvGceQO/3ZwV4opgBlDDxQsJL7cd\n",
       "5yJXKCbsVvQBNWfrA/VU6f63mn4w5ZZnlnOnbVSfFeLqYAZQw8ULiRhoCfxwKP4jH39pH1TPSH+z\n",
       "LBsVluW8h+/ZOejB3k1QYmc5kAHU2AMkOsGrm/Xsr/wkIMXXK28DebZkEjU55yvw7Daoab8MFzCi\n",
       "YDUyUDWuAIkw0skV8ZT4tijC7mbA25Ae9GI7T07RHYC/Iw3b0IOzqI0RfZZ48FDDxUsSjTd47M2e\n",
       "kO+E/lfs5n/3AlvlOyzA8R/Hmw8aImRpNFy8JNGh7weKuFSWIqBtEZVqw7fc31S8bH0VnBitIG/S\n",
       "FR8vSSSQ7o4fL/nLyaq3amxGZ6CHLcb0IohaidAs0jSdVcvS66NOq8Zm45e00P78IohaCesW0n7m\n",
       "8e5bx5k97jjOTCtg4g70sP08uQiiXmIY+ZDH61J37XbLLvw89LAWTC+CqJeo2817ySbWPQ09VLux\n",
       "HH1Rhj6NLFks3swaLbmerG5Uby9HzgxdQpZuqWYOnEhDD1f8wnLkzNCxLNLozZoDz5ehh7ZvOXJm\n",
       "6I45ZFOZMwduULyyqRSWIWeGjiJNxqh5D96ahV6dbdWlp8zRx5GP3XgcfnX9yooXmtbOeejVJT8Z\n",
       "IFq9W8wePkefRooaiz8HQjVysWkdykKv6rFiB4gpkjJbNhxdRL6gYvF3Qeiq98qDWakCvTqu7AgD\n",
       "iD2ZqNlXpxydGkN2HBqP3zkjj903zXPuU7xql4lKTBQMc+ZoC1lsbjw5lGRlOrWe2sOgq6j/hWZA\n",
       "UqwK4p8uscL7GO0vwQb6LHIBjYericnogAjFm/7xXBb6gCXHgsSPjdagj+5EahCNxzKp/EdSnrub\n",
       "KZQy0AftSaIS5fTbmc4NdAg5vNB4TyGWI0P+3Ijm401OTlsUrzlC2z6Rz403yCcmOQv0KuSKVaSz\n",
       "8CUh4qnsPvwZ/qATB6DX7a2TCjH60OFLJtVZoMPI5AhX41NpOedxx8GBb5ah19lGAokxxzH5kwsJ\n",
       "bT2BrFIvPtQe8ITidfZq2YSISri2C7mGxY982NaX0lYGev0hJmNAxCT+B3HVEhRNueMmAAAAAElF\n",
       "TkSuQmCC\n",
       "\" style=\"display:inline;vertical-align:middle;\" /></a></span>"
      ],
      "text/plain": [
       "{x in Real^{3}, forall_{i in Natural} (f(i) in Real^{3})} |- (x otimes (Sum_{b_{1}=2}^{4} f(b_{1}))) = (Sum_{b_{1}=2}^{4} (x otimes f(b)))"
      ]
     },
     "execution_count": 58,
     "metadata": {},
     "output_type": "execute_result"
    }
   ],
   "source": [
    "tensor_prod_with_sum_03.distribution(1)"
   ]
  },
  {
   "cell_type": "code",
   "execution_count": 59,
   "metadata": {},
   "outputs": [
    {
     "data": {
      "text/html": [
       "<a class=\"ProveItLink\" href=\"../__pv_it/demonstrations/97fcceb3d8772975d6fa77e4be670018393ef8b10/expr.ipynb\"><img src=\"data:image/png;base64,iVBORw0KGgoAAAANSUhEUgAAAPkAAAA/BAMAAADQ0HMKAAAAMFBMVEX///92dnZEREQiIiLMzMy6\n",
       "uroyMjLc3NyYmJgQEBCqqqpUVFRmZmaIiIju7u4AAADo9lGYAAAAAXRSTlMAQObYZgAAAAlwSFlz\n",
       "AAAOxAAADsQBlSsOGwAABW9JREFUWMO1WF1sFFUUPrO7s7O7nZ3uIgETUmlIjBqjrKZPmMCqD4YH\n",
       "YEUwodK00QSJf93GmKAxdBOjvoj0RTQQ6BIeTEO0+2SCpulqo5Yodqs2RlpkaIxGKWmlRaBQxnPn\n",
       "3vnr7uwO8d77MHO/nbPnu3PuOeeeMwD/e5yht56db/uKKBtB0Ih10fuu+ZS/0I+i2Dfn6X1HPaFQ\n",
       "Sgy59hGb7GjX60gdFsOuMsPDM/s/ryM2oAth35Z1pnXEwmUh7C9akyLM5vzFEldFkDtaF6A3X0fw\n",
       "WRHs4VZrloLJeoKDWRHbXrRmF8brRlVcxMYPB46NOQHRfjOopHxNQJpdCCx6iD97KLg9x/Lc2Ztb\n",
       "A4sOFrizdwY/PXpL3NnHSHqLGq5R8Q25Pu7s3eTwSBjM9/7sOGX4coRucWefp0E/b//w1qKfaHKR\n",
       "N7lymaZbw9nTr3xPhJu82ZnGiOGkEtUdWHn7gkKXebMnl+j9vOFwugIraR4CHSwtznMvbNhehozM\n",
       "8idp9MfjOJliawAwuKc65uxa//JNXbO5CBopuh4CeIX+1F+nuLqUTv9WG1RhB0Wt2qLTKHrVHd6u\n",
       "g8o24T0WnXR3tPF0y/J1yD+g1lwtUIVdKG7FsGQc86ojD+JWnqFk6+l/duugTSxj344L0+6uBaqw\n",
       "CzXbh0z3vx51EvGDpxmIUhsMm+aR78HLtPUq2lQFmnQorQaYkXSCNlgALo1CpJzY6ODJ39NFG3nY\n",
       "/zLcGT926hEsZb6k2kEqudibpDxo5bsAHm9TCqAm+uAgJPNSXitrKQnREQtAeQCaWuUrDk4OqRkb\n",
       "edjtbMvOPpLu9yKx3Gf3WmOmCX6B1TADFwBeXjEFsA/bgc+gCWDlmwClNxAdt4BS+AbiFXjewrF8\n",
       "8mpTwUJE1axzvI9dd7tSL6khNwAQfZDIuNhLID1RRj5FxzoUdNR/FCSMUNSXIqjdAho+wGahbOEI\n",
       "hFCXhUx250wJe063QXL5ALUTI0ToGtdWaOkL35lKYIYst1NXFkDFDnglQBkRVGyAnvsrytvYNKiD\n",
       "POyKJ5XdwdhhECnkPhd7GZR0lihRzPWPQGwOkZJK5vDRiMnGAJptHURyNobOvKY7yMOe/NDNfj+5\n",
       "vMBaHWZ5i70HJgh7B2imYKj1fbn4KMCEXESUyNogVMJUJYGFp3PDLuT1Ouj0dAtHyeUB9PlFtHGs\n",
       "1bXv7ZEUJHPtIBeIs+Eu7Cqn4Gu0QxLz8ipcmg2kLvkI7LTx4NbT0O489bBHPKe3YgbAGjT63D7c\n",
       "q4qLXX0SL2dT8NiK8TacXWz5eCgLIZJCHsSHd6KMBeD7lovjDp45lxgtup564t1TUSXM358i749/\n",
       "D+dd8Q5mtkGHTxxyZdMDWyPjtUEVdlDcZn/Je8KZ8Rhmm/Eqva2n7LGf9S1Vtaj2yVm9NqjCDgpb\n",
       "eT7kqaxPRk2iGGvdRhk7W8zf5z7ldMJaZ9yIszgkfvgPsI2MTsBWtol3O6FeYXndCbcYsh/4ls6n\n",
       "6RLZyvp5VxfStapwG3C7vunl7zJ0nXsT+Q9lccJtxrdyVbjXdfINb7gpJ42FBrI823daU3TvMcdz\n",
       "/dhJZXzttMS9l9lk+p67j/PtVNUF7uy30ZRH+X86ORi8KW/OcGfvDf4lahv/D8Xx4C90nv8HOyl4\n",
       "U34f/69GCg0jrbHzaTf4s8MeagIr3WjvcPi2dhtO733rLT/5BlxGAPvsMk8+4RsdBQHsKqlq5cnG\n",
       "7GsFkING3E6a1dV1OO71Z9eWRLCTdgP2n2j47mpGCHu4Qiv3Buy9OSHsMpZ22q1sI8t/AWLGKizf\n",
       "u1IN3j12TBB7qALakBX1Pd1nagq9nhXErrUFENoLosZrAVbo43P/AfQUyfVb16ozAAAAAElFTkSu\n",
       "QmCC\n",
       "\" style=\"display:inline;vertical-align:middle;\" /></a>"
      ],
      "text/plain": [
       "u otimes v otimes w otimes x otimes (Sum_{i=1}^{5} f(i)) otimes z"
      ]
     },
     "execution_count": 59,
     "metadata": {},
     "output_type": "execute_result"
    }
   ],
   "source": [
    "tensor_prod_with_sum_04"
   ]
  },
  {
   "cell_type": "code",
   "execution_count": 60,
   "metadata": {},
   "outputs": [
    {
     "data": {
      "text/html": [
       "<span style=\"font-size:20px;\"><a class=\"ProveItLink\" href=\"../__pv_it/demonstrations/dde1d4f2078c26e6f5a3cdac6b6317d93bb148b10/expr.ipynb\"><img src=\"data:image/png;base64,iVBORw0KGgoAAAANSUhEUgAAADwAAAAUBAMAAAAjLUMaAAAAMFBMVEX///8QEBC6uroyMjJERETc\n",
       "3NyYmJgiIiJmZmaqqqp2dnbMzMxUVFSIiIju7u4AAAAoIwv1AAAAAXRSTlMAQObYZgAAAAlwSFlz\n",
       "AAAOxAAADsQBlSsOGwAAAQBJREFUKM9jYMAJWK/d2YBbloFnAa8AHmnuDVwGDPgAewIWQbZCl8+F\n",
       "bkAGry1WTcysB5iO+QEZTy5gk2ZhXcDgsAdk+29c0q3MDA83sH5DFuZ1Ly+GS7MwsD9gk0OSZbJ9\n",
       "gNB97g0D99o7AQwMb++8XjUBJBr8AGE4t6cplNPAe5ajAMQwRdgtXF8LVcsWwPuVB+x9A4T0sjwY\n",
       "h5uBBcLkFi8vLy+BGu6XC3cSP8TzfA5IHtvBHADj6QfwgS0qQJLm2ApV/EThPAMXmHUXSZrPIQ3C\n",
       "nr+vkUETEtQTYGHOd4AhjUcBzH5xl7MNIs53RA8eYwEszj/Rw5ppCSRQkQAAJb9CckuUpZkAAAAA\n",
       "SUVORK5CYII=\n",
       "\" style=\"display:inline;vertical-align:middle;\" /></a>, <a class=\"ProveItLink\" href=\"../__pv_it/demonstrations/466ee2cdb42dd7aa4325c81eaaa360baf592b2c50/expr.ipynb\"><img src=\"data:image/png;base64,iVBORw0KGgoAAAANSUhEUgAAADwAAAAUBAMAAAAjLUMaAAAAMFBMVEX///+YmJjMzMxERES6uroy\n",
       "MjLc3NxUVFQQEBB2dnaqqqoiIiJmZmaIiIju7u4AAADZrpoSAAAAAXRSTlMAQObYZgAAAAlwSFlz\n",
       "AAAOxAAADsQBlSsOGwAAAPpJREFUKM9jYMAJ2C5eV8Aty8A+gbcBjzSTAmcAAz7ALYBFkHGH8dcd\n",
       "hkAGbyxWTaxsBSyFdkDG4wvYpJnZJjAYqINs/4RL+hgrwwsFto/Iwpd37w6ASzMzcD9g7EOSdb2H\n",
       "pLvuOQPT3OsJDHx3LjDsAgdSHJLhTFZhEDYnVwNDO9i9CQjp1v17H0DYWTwBDCvB0khOmygHC68H\n",
       "HBcYvEAMjd1AYAA13E4Wptb/AQPY94+RPaYDt+o0A8MEcAAjS/OoGUA55gxc4GjlvYAkzWcgCOVM\n",
       "ZciEMKLgYc5XwCDI7gDh8EyERttzkwfwGEtgNv2FHtae1rvR4x8A0Ls848W4vQYAAAAASUVORK5C\n",
       "YII=\n",
       "\" style=\"display:inline;vertical-align:middle;\" /></a>, <a class=\"ProveItLink\" href=\"../__pv_it/demonstrations/6ec7e59bf5a61d2b0f8e36427593260ccbbf50c00/expr.ipynb\"><img src=\"data:image/png;base64,iVBORw0KGgoAAAANSUhEUgAAAEAAAAAUBAMAAADPWCYMAAAAMFBMVEX///92dnYyMjLc3Ny6urpE\n",
       "RERUVFQQEBAiIiKqqqrMzMyYmJhmZmaIiIju7u4AAAD46Ob5AAAAAXRSTlMAQObYZgAAAAlwSFlz\n",
       "AAAOxAAADsQBlSsOGwAAAQ9JREFUKM9jYMADmG9fW4BPnoFNgLcArwKuBYwKDPgBxwaswtztoZ/a\n",
       "o4EMXl0cGpmYE1iy44CMpxewK2BlFmAIWAZyxS/cCg4zMTxfwPwbVeJqR4cCXAErA8cD7joUead7\n",
       "SCbkPWPgkr1mwMB3ZwPDGoYZD0ABp4dkBVekMoTNw1nAkMrg7wByuwFCQVF/7wMI25pHgaEWIseE\n",
       "5EjpfbAwfMB+AegXHhBzeQcQBECtiNsLU+3/ABgjjCDWU2RvroFbeIiBNYBhCTjgkRXwLA6AcsIY\n",
       "OAQYBEAs3gtICvgCdkM5QgzuCSwOYKYmPC74Ehh2szlA/XnwXq40hPks5AE8Ng1Yg35ixoFjRAd6\n",
       "CgEAmPU+DmAjejYAAAAASUVORK5CYII=\n",
       "\" style=\"display:inline;vertical-align:middle;\" /></a>, <a class=\"ProveItLink\" href=\"../__pv_it/demonstrations/d89738c341c6afefcd7635c7e63883c5f26a85090/expr.ipynb\"><img src=\"data:image/png;base64,iVBORw0KGgoAAAANSUhEUgAAADsAAAAUBAMAAADB8VhjAAAAMFBMVEX///8QEBCqqqpUVFS6urru\n",
       "7u5mZmZERER2dnaIiIgyMjKYmJjc3NwiIiLMzMwAAAC+/aJUAAAAAXRSTlMAQObYZgAAAAlwSFlz\n",
       "AAAOxAAADsQBlSsOGwAAAPZJREFUKM9jYMAJTu60Y8ADLBgm4pN+x9DFgBfcxia4V7x+rfgGIGPW\n",
       "BKyaFhxmcN4ewMDAWolVuuAEAzufAZDx/gEOabYDC1jlGM5vQBLlrL17CyFdwHCVYWMAQpZlZQBC\n",
       "N3OoAcOLmTZADt/dB6dBgqcCkAx/rnUAyuGaUZkAotcg7D649u9UGOcoAwfEO0hO2x2FsJQ1FUTy\n",
       "yd69e/c6VJo9GhEiJyCKCpB08yXArWKZwAB21AVkf+cdh3G8GRhAIcQwE1k6nBsaInwVlb3gsONS\n",
       "gId5MAP3BhMIm4NBcQnEcnNXeIytYShfr4AW1Czt0EBFAgBwE0sSXhusiwAAAABJRU5ErkJggg==\n",
       "\" style=\"display:inline;vertical-align:middle;\" /></a>, <a class=\"ProveItLink\" href=\"../__pv_it/demonstrations/3eae5e83afb7c78544491350ec3893081ee061460/expr.ipynb\"><img src=\"data:image/png;base64,iVBORw0KGgoAAAANSUhEUgAAAJkAAAAaBAMAAABWVuP/AAAAMFBMVEX///+IiIgiIiIQEBB2dnbu\n",
       "7u5UVFTMzMzc3NwyMjK6urpmZmaYmJiqqqpEREQAAACk/Np2AAAAAXRSTlMAQObYZgAAAAlwSFlz\n",
       "AAAOxAAADsQBlSsOGwAAAuVJREFUOMutVU1oE0EUfom7ze4mWaOBXKxS04OWgoaiBw/CKuhBtKwo\n",
       "ggfNehApaogXETwkIgqCtOlB8RAloJ6bglgVkRRRUIvEHiwEwSjkYLFBD6UICr43M5ns0iXJoQN5\n",
       "+2bey/d+5w3AGiytP5HtQa3WG1qfFUiB0k0rWu4NLZRVChCqd9E66QpGEt8VrADMdkH72WY3EzFi\n",
       "XnlksPlnkJQCk4RoAzD/vvgnN8U+Tw5gzBb+pcwxXUvXHONCA5nTaCfgALyg03u+aGGLqHJuL485\n",
       "aIFuezVMzYL6ZcrcCoC6DEC85p/A9SWi62po/KUIrbwa7ZkOx7LaX9wVgZlTqr5oOebJFNGUONrN\n",
       "P4HvySGJZmLGIiR4heawGrp/ETYyup/SXxBHRUaNSbvt29kTENqXyOMujr+RZHKXP9oYkbcj53kG\n",
       "j07j7iAT3LLbkYaWZNIpihkATIyaX43WZPQ31Q4DsB4i8w48RTO1PTu3ysrk8HrdBA1Lq/BWCg0f\n",
       "grgjpHdZm6xQOaugVZ8jM88EhTba4TdyAxNYNdNWSnx3KbMInxU73DI2zG7XL6prCVTmZI6ZxOQk\n",
       "d4hIG+0rkEacaEwUITxDfRwry+vLfFMGOBpEsZ2AogW17uqQq7rM0QQNkgKiGwmAfjpZqF3zopkU\n",
       "t44tpDsy0gEXWviKxM4R7pE76EHa5hYXlFOPWtIMa15KqIkkXcXCfmSCDS40tT7nrilcR6M35sGo\n",
       "MDQob2lJ49J9BVWmNFSY5tez1e266sBcn0g7vGYGSP8bRB40m0uIdlz32PrK2hVjMykT25lAzTyW\n",
       "MyRv/vgn9J+2/qguZ0MW98341Dqk3AuVbWKqiIwZo/xmeVdRTtmCRT0M8B4g4ZohUec+Yz+Ik0qH\n",
       "aUgzRHBn8jCOERtDWTDlgE5BsMGb0+RtMN5ptkYcD/Zoc9ErvwiRTRxGtFijE1ow3/O7cJtZ76g/\n",
       "u0ZvFq9Qtzer1/eULQX76T9ROajxzOdZdQAAAABJRU5ErkJggg==\n",
       "\" style=\"display:inline;vertical-align:middle;\" /></a>, <a class=\"ProveItLink\" href=\"../__pv_it/demonstrations/450d061e49bf30dd5672dc1e223676b3db2d02890/expr.ipynb\"><img src=\"data:image/png;base64,iVBORw0KGgoAAAANSUhEUgAAADwAAAAUBAMAAAAjLUMaAAAAMFBMVEX///92dnZEREQiIiLMzMy6\n",
       "uroyMjLc3NyYmJgQEBCqqqpUVFRmZmaIiIju7u4AAADo9lGYAAAAAXRSTlMAQObYZgAAAAlwSFlz\n",
       "AAAOxAAADsQBlSsOGwAAAQNJREFUKM9jYMAJ2G/cdsAty8AtwDsBjzSLA2MCAz7A3IBFkMNS6Zul\n",
       "BpDBm4tVExv7BtYdekDGowvYpJnYBRgUvEG2f8ElfZyN4aUD+w9kYV5lYzO4NBMD8wOOeUiyrLkP\n",
       "ELr3vWZgkb1dwMB35wIDN1i87AHCcBatdAibh2sCQz+YlY6we5q9LVRtBU8CwzYwKwEhLdEH4zzg\n",
       "vMAwFxyGk42NjY2ghuv1wtTGP2AHe49PAcljPmwFUM5hBo4PYIYBkjSPO0yxNgOTQh+IcRdJmk+h\n",
       "A8o5zRB5QAAc1AtgYc63gaGDOwDCeS27fC84VfBtioPHWAGT2i/0sGYVggQqEgAA4cY5AzvnUIsA\n",
       "AAAASUVORK5CYII=\n",
       "\" style=\"display:inline;vertical-align:middle;\" /></a> <a class=\"ProveItLink\" href=\"../__pv_it/demonstrations/b8cb989b39acf6bd693633bb1c9afc1bcaa132e60/proof.ipynb\" style=\"text-decoration: none\">&nbsp;&#x22A2;&nbsp;&nbsp;</a><a class=\"ProveItLink\" href=\"../__pv_it/demonstrations/672c69ca071a7947315fc9cdc6600c34cafbd25a0/expr.ipynb\"><img src=\"data:image/png;base64,iVBORw0KGgoAAAANSUhEUgAAAksAAABABAMAAAD4yy7bAAAAMFBMVEX///92dna6urpEREQiIiKq\n",
       "qqpUVFTu7u7c3NwQEBDMzMwyMjKYmJiIiIhmZmYAAABAteJjAAAAAXRSTlMAQObYZgAAAAlwSFlz\n",
       "AAAOxAAADsQBlSsOGwAACWZJREFUeNrFnG1sHMUZx5973b3z3eYs2oAIEeYllUKV2oBEWrWUVC0Y\n",
       "+QMcEqLNh9buhxahgrIQlRJRbKeAUCWEraiBlrcctBJFVbAlaKlEGp8KqFQR9TklKUFKcgU3rURS\n",
       "O26Cg3Fynd2Z3ZnZm929u3kwz4fczdze//+b2dmZZ/bWAXDiBGhHOxJmv7r+IRvJAC9E1MKkthyX\n",
       "2H7pn2OP/ru6utiHZYAXAuqLo9pqXGL9qVLs0amQQ67EMsALjmo8rS0mSFzRyuE71fXbykgGeMFR\n",
       "Lf1rTpC4Yp0df/xm9TGZJ7AM8MJHnahoawkSX3jkB/HHp+vq+puwDPDCR/2DvpYkMRF/fOaMun5w\n",
       "FMkALzzUMOQOpJwow0hP/DdeVld39WEZ4AVDTffpD0xBYgnGWlg4B9UXemYJywAvGOpEWX9qEiRK\n",
       "cLCFb+RCJqdnsQzwgqFu0VcSJe6eaSWtsebV9XNYBnhBUY1z+rlF+xLJZXV9bxXJAC8oamFJf6fS\n",
       "gcRTISN8EssAL1zU1Lx+Qt+BxJx6GrbOYBnghYu6Sn+h60RisKpe6paxDBCXOge1V39C7ERibEh9\n",
       "4+IjLAO8cFHn9HO1TiRy4+r6X2EZIGYEDuqU/kaSSXQ1hKjFzWeL6vrrbCQDxHspDuopfR0mkWmw\n",
       "Bem+DXc0xmO+Uzytrj9aRjLACwfV/J+2jC+xhXf5G6fjtoEhqdBgHckAcfN7Lhy3TRm682rwefmD\n",
       "mC/lQ07PRB+SAV44qMWz+oPSk8g3+HJuSXmRyd+yeiPkYh/Z1KYBwjbYDDI2o1r6g5dLHG1waCkv\n",
       "OsDfbmCvjZAcbL49g6L+xp3RJZsWBQE1pb8P4BKpRvNYsLptyJRg6y+8ocHatUu9wuYW2zO4RfMU\n",
       "C3QHmkYxR+3SvynHJYxdzTPd6hfLcD953etVvMoW+dEYsZYMDM37+CJdV9OJ46jy2Xugu/sfHGGm\n",
       "e634TbnMS4JEb6PpGth5mQ3Hyat/4fyNJUg9SpPUQuQICxpYVT12ka5QD6pwVGkuSP6bHOdnvF+y\n",
       "wdgvfCqXeUmQSDSCv40knSaOs1faaAq4paw0yZ6OnK+CBjk9dpnuiaAKR5W66TJyIRhXeb5fJv9s\n",
       "5dsEuSyURImpTwJNTJDJJDlJX9klVBW6KWgS101Bgy/qsct0ewIqAipFMI7UIGvD0AUAwwnbKV0P\n",
       "2cQoGPXz4YHjkK9n+v2ycfj25z7vlwKt2NaQd6mFO26og0Xquu46wi6XBM195lwEX+Y3A6ZbYS1H\n",
       "d1PA4J9a7AG61eCpMB6OOuIiWJlxmIbiaGLUqBulBCk9Du/CBTAMd0N9M2T7kgt+2YKDtVm/5KQ6\n",
       "Qiv8/YTfxBo9KSOvGmwiZk8D0G7yZf503hEQusn6lhsUM8Jgjx67TLfPV2E8HHXE3Rs9ak3CjyAL\n",
       "cOFjpEcfJqVbYAgSv61D1qx+CLka/NErw1twdPROv+S0QtxezX0srxdjFZI8kzM1aMNZ+Kljm6GX\n",
       "38VumuLJmDbQUZJQpLsRBtfrsUt0cKuvwng4KkWwidgzkCCnhpy/klNa5xx2jGAb5IOJCtS9MlTg\n",
       "qwB+KdiKdGDrPujMhGQa+BCMk/nDjm1+XugmLjNst9ZNssEOPXaRzvmZ1FNhPByVIfTa5hIZkrD9\n",
       "QiCqvTbUyIvZXSF1ZBU45HzTK4PT8UJJboUZ2IR8joHsheRpenaS40I3+TImm3Jiu0k22KHHLtHB\n",
       "eq5CeTgqmx5noTBPDjJLxR5y0CyV3g77SR0ZxVdDvscvQ/IM/ISXAvuL4i/lJl7jLBhkWC+DtUi7\n",
       "iY1kOjf5MhvACJ2bIgx+r8cu0ZGLzlehPByVIVwDqb6/JMvPAexPlkkpU4F1+RIUe9ZBagi+4YxG\n",
       "Vjauys4TEO/TYCt6K3I3PeOkjGTgLMC2KrUt9And5Mkkq3Sei13pAgbX6rFLdPA6+CqUh6MyhGOw\n",
       "vl6C98lIK5Jd0hrS3WBd4uxzSpCYTD4Ol/rlzNLwONHxPg20Ih9Ie8wllgLcCV9nZ8eqCXmTJ/Pr\n",
       "82YGWsqbAgartdhlOue5RU+F8nDUHEW4d+137qpAykmuNpKPL3JOtZuEkYnsv2vvneFl40Tte28K\n",
       "n4InQdOawDY743yWJL0z7CQmbjel6WbuOppGMZlS5ima/KUU3RRhcLkWu0wHN4KvQnk4alra0739\n",
       "Qn6Gp4bv2bvFXE4u85IosTe4A3dnlwGv05xueohtlCpKE9UdiwiDdEWHXaYzNwVVOGpK2pEb3z0g\n",
       "ZCU/PvxtiUku+yVBIhW493hbV1nYQtJuOk7f3zyqNEkr7hBEGBTqGuwBOncbLalwVGtB/7Ycl5jl\n",
       "Fi7BN++njaNdYq45VwOTNXRXyK89820ZuNdPpyHTwYNNdzU5amJZu5u4RIEv1gW3FW//h55oYQyk\n",
       "WEM/Drl7Od6WAWzVAA/QbWwaxRy1cFK7m7iEsFhvlg55lL99S52G+pubTe0ZmFX9m7yUrtB0n1BA\n",
       "TX6k7eJLmHyVGj7X6pcC0TuEZIAXjr3xibaML+Ev1uZtjbhb7IWQX3Sma0gGeOGi3qyv40lMvebG\n",
       "K7saDcVvB4FpOaSZcxUkA7xwUef0f+hiEpb4E3/clNEV8sjSFJYBXrio0/p+nUisChkNp7AM8MJF\n",
       "Hatr63QiMaF+ZCl/EssAL1zUnP5F3onE0YqyuriEZYAXLmpiUT+/7EDiK+rq1DiWAV64qKb+sxYd\n",
       "SBghadPIEJIBXjDU1/SV2pcIe4R5uoJkgJg2UdRp/YzAlfidtHk39kUvsiGzzSvhBnn5z4FiDBDz\n",
       "AYo6ov+YrCuRlXR2vxO9OKqXeHM5wuD70IYBXjBUS/8pRlciJ18vt0Z+4+KQxWA+wuBJaMMALxiq\n",
       "oT8/uhITh29vuRVhniO18OPzZw/an0E3+aiH9LUciXds9+dt62oSX4tphRUyNc1GGBT7i/WWDRB3\n",
       "dB5qWv8Ra0fiWtgHD9qtneyxHvXUtBBhkKoVJs2NKz6afNSk/gNzjsQOOJa/vMVu+qG6OjsUYZDr\n",
       "sYae71/xbuKoa/TFiMQi7IS03dI1UQj5Q/q/2hEGq+xcGfpX+qITUFP6Vx2R6C/0Od3Uysn+uTqJ\n",
       "NJ+MMkjbrwOs+GgSUI0B/fVgAF6aAaGbtk9F/N8ve0ISuWqUQf5ESeymSAO8EFF/pi9HJdIt/Z2Q\n",
       "oZ7A4Z54g/6V3tD1fAqi+UP/+nSpdz9bhs8i/g/wlx+qxdcTHgAAAABJRU5ErkJggg==\n",
       "\" style=\"display:inline;vertical-align:middle;\" /></a></span>"
      ],
      "text/plain": [
       "{x in Real^{3}, v in Real^{3}, w in Real^{3}, z in Real^{3}, forall_{i in Natural} (f(i) in Real^{3}), u in Real^{3}} |- (u otimes v otimes w otimes x otimes (Sum_{b_{1}=1}^{5} f(b_{1})) otimes z) = (Sum_{b_{1}=1}^{5} (u otimes v otimes w otimes x otimes f(b) otimes z))"
      ]
     },
     "execution_count": 60,
     "metadata": {},
     "output_type": "execute_result"
    }
   ],
   "source": [
    "tensor_prod_with_sum_04.distribution(4)"
   ]
  },
  {
   "cell_type": "code",
   "execution_count": 61,
   "metadata": {},
   "outputs": [
    {
     "data": {
      "text/html": [
       "<a class=\"ProveItLink\" href=\"../__pv_it/demonstrations/66c6df4f1a0148540cfdd6b738055959733a9ca20/expr.ipynb\"><img src=\"data:image/png;base64,iVBORw0KGgoAAAANSUhEUgAAAHIAAAAVBAMAAABoAqesAAAAMFBMVEX///8QEBC6uroyMjJERETc\n",
       "3NyYmJgiIiJmZmaqqqp2dnbMzMxUVFSIiIju7u4AAAAoIwv1AAAAAXRSTlMAQObYZgAAAAlwSFlz\n",
       "AAAOxAAADsQBlSsOGwAAAe5JREFUOMuNUztII1EUPYnJzJuZzBgsBAshorhYSIKFYCPBxUaMTKWu\n",
       "iKRZsFnWTu2iQgoRja0gBpZlIVFIbSEWtuIgCH6XKSwEFbexEmTvHc0kY0aYC8Ocd9859/Pue0Cj\n",
       "mQF9DaYXfJy9QZRbgcN9MCPl6x78VPBYKv11gMj67s96WTULr5M7wSjkHzlke1g166LDM4YYdfor\n",
       "m7IellPA9X2pgMPfwJ3KcVfpi66eWW7f5xYeAPWQcJWlzVfGgZx+LOZ0UzWNnFGk3X76OszIa1Wp\n",
       "KnH8BCQ6OJfVdJnJQTL151g2BpQnKSYxFylNK8RcVflNpHAEKORwWTNQAQ0RikZAkIxzthB8hczw\n",
       "iQdkhyy0E+9fPctY56DN1JIApspU+ZsylMYTn6DMayRt7YWONV7PmnLKSZqGLRAt6glHOUC5itxZ\n",
       "1Vagx9+qdVlhCzZuEydURbiwD5yG+YplSFnAV8W946OIUIlSGjVWNze7c7CEHmCZitedG7tLs7Ok\n",
       "BdXNuYYkzVLwmN5Z2kjmTwV3N0qeUkV4xmNM/ELguDx95Sof9jZoU+Ya3lkqNvtq3fw40C4dIFca\n",
       "7s8v+ia8rPonsn1hO0DKeTdEymijX97L8rVh71K2YtRdNB3gZd96l8rNMndoB1BG/R7o9wbPf5ci\n",
       "hAzGXYfFAAAAAElFTkSuQmCC\n",
       "\" style=\"display:inline;vertical-align:middle;\" /></a>"
      ],
      "text/plain": [
       "x otimes (a * y) otimes z"
      ]
     },
     "execution_count": 61,
     "metadata": {},
     "output_type": "execute_result"
    }
   ],
   "source": [
    "# recall one of our TensorProd objects without a sum or summation:\n",
    "tensor_prod_02"
   ]
  },
  {
   "cell_type": "code",
   "execution_count": 62,
   "metadata": {},
   "outputs": [
    {
     "name": "stdout",
     "output_type": "stream",
     "text": [
      "ValueError: Don't know how to distribute tensor product over <class 'proveit.linear_algebra.scalar_multiplication.scalar_mult.ScalarMult'> factor\n"
     ]
    }
   ],
   "source": [
    "# we should get a meaningful error message when trying to distribute across\n",
    "# a factor that is not a sum or summation:\n",
    "try:\n",
    "    tensor_prod_02.distribution(1)\n",
    "    assert False, \"Expecting a ValueError; should not get this far!\"\n",
    "except ValueError as the_error:\n",
    "    print(\"ValueError: {}\".format(the_error))"
   ]
  },
  {
   "cell_type": "markdown",
   "metadata": {},
   "source": [
    "### The `TensorProd.remove_vec_on_both_sides_of_equals()` and `TensorProd.insert_vec_on_both_sides_of_equals()` methods"
   ]
  },
  {
   "cell_type": "code",
   "execution_count": 63,
   "metadata": {},
   "outputs": [
    {
     "name": "stdout",
     "output_type": "stream",
     "text": [
      "Help on function remove_vec_on_both_sides_of_equals in module proveit.linear_algebra.tensors.tensor_prod:\n",
      "\n",
      "remove_vec_on_both_sides_of_equals(tensor_equality, idx, rhs_idx=None, *, field=None, **defaults_config)\n",
      "    From an equality with tensor products of vectors on\n",
      "    both sides, derive a similar equality but with the vector \n",
      "    operand removed at the particular given zero-based index (idx).\n",
      "    A different index may be specified for the right side as the \n",
      "    left side by setting rhs_idx (i.e., if entries don't line up \n",
      "    due to differences of ExprRange entries), but the default will\n",
      "    be to use the same.\n",
      "    \n",
      "    Keyword arguments are accepted for temporarily changing any\n",
      "    of the attributes of proveit.defaults.\n",
      "\n"
     ]
    }
   ],
   "source": [
    "help(TensorProd.remove_vec_on_both_sides_of_equals)"
   ]
  },
  {
   "cell_type": "code",
   "execution_count": 64,
   "metadata": {},
   "outputs": [
    {
     "name": "stdout",
     "output_type": "stream",
     "text": [
      "Help on function insert_vec_on_both_sides_of_equals in module proveit.linear_algebra.tensors.tensor_prod:\n",
      "\n",
      "insert_vec_on_both_sides_of_equals(tensor_equality, idx, vec, rhs_idx=None, *, field=None, **defaults_config)\n",
      "    From an equality with tensor products of vectors on\n",
      "    both sides, derive a similar equality but with a vector \n",
      "    operand inserted at the particular given zero-based index (idx).\n",
      "    A different index may be specified for the right side as the \n",
      "    left side by setting rhs_idx (i.e., if entries don't line up \n",
      "    due to differences of ExprRange entries), but the default will\n",
      "    be to use the same.\n",
      "    \n",
      "    Keyword arguments are accepted for temporarily changing any\n",
      "    of the attributes of proveit.defaults.\n",
      "\n"
     ]
    }
   ],
   "source": [
    "help(TensorProd.insert_vec_on_both_sides_of_equals)"
   ]
  },
  {
   "cell_type": "code",
   "execution_count": 65,
   "metadata": {},
   "outputs": [
    {
     "data": {
      "text/html": [
       "<strong id=\"tp_01\">tp_01:</strong> <a class=\"ProveItLink\" href=\"../__pv_it/demonstrations/60af23bfbc2e1814949fe0db6bd2ce9ae38f58910/expr.ipynb\"><img src=\"data:image/png;base64,iVBORw0KGgoAAAANSUhEUgAAAEEAAAAQBAMAAAC7Cw8kAAAAMFBMVEX///8QEBC6uroyMjJERETc\n",
       "3NyYmJgiIiJmZmaqqqp2dnbMzMxUVFSIiIju7u4AAAAoIwv1AAAAAXRSTlMAQObYZgAAAAlwSFlz\n",
       "AAAOxAAADsQBlSsOGwAAAV1JREFUKM99kL9LAmEYxz+J2nnevQlNDYFDQwah/0BL0BZxYzn5D0Tt\n",
       "LmbQFOUcVAfpcmI0FEGQ3NAaiRCoZdzQYKVjU0vPHVkk0Rfe9/n1fZ/3eb7whYHjPA19VMepefxG\n",
       "aE9IyWE066GaI4wZS14uDulLcj1/8wePb04JtwI93VOtBn0M3UIVTuEyH8lBwbzVNk1Lt1RB2Xos\n",
       "wQb3VOjxCgvlFkQt893IGVBdBXdNy3CDi35RwCDiYUOccAZ00FywvbEG0356N8jRCzaaaEgZslX5\n",
       "kbQX/xATcc78XMQORk1bytMkMJNS2sZMiMnS9BnzKH+pO+kXKl1BM1RimbBLKm5jJlOEcjIMx/Ut\n",
       "UlCUfuaB/386hzYnrds25+VOXmbpxnZKEPYVW4F+bV+8QDFZJDaZ/BF1vR7vBM6JnOiDd22PqI46\n",
       "bMtmWkZN+dFL94i/Md4wbP5FrFscTX0CtURk002MmVwAAAAASUVORK5CYII=\n",
       "\" style=\"display:inline;vertical-align:middle;\" /></a><br>\n",
       "<strong id=\"tp_02\">tp_02:</strong> <a class=\"ProveItLink\" href=\"../__pv_it/demonstrations/124302d1df605141921a5351b1893091c6e14b610/expr.ipynb\"><img src=\"data:image/png;base64,iVBORw0KGgoAAAANSUhEUgAAAEIAAAAOBAMAAABp4NfMAAAAMFBMVEX///8QEBC6uroyMjJERETc\n",
       "3NyYmJgiIiJmZmaqqqp2dnbMzMxUVFSIiIju7u4AAAAoIwv1AAAAAXRSTlMAQObYZgAAAAlwSFlz\n",
       "AAAOxAAADsQBlSsOGwAAARRJREFUGNN10D1Lw1AUxvG/MS1pXq5+ASGCCE4tfgJxFCuZinQQv4Av\n",
       "m2t00EVKHFwEMYsIKUJnhxJwLgYnLSp3cChowcXJxZvWpEt8pvs7wz0PB/4yjKI3KNYoWkuN3WKN\n",
       "s+CBWC3W8OUjCoivYWBK8ZRgy0xYB50G+E7P2Hc80xO+CI3KLHtkYrpf9yl7zre9bUN7E+KGUeOe\n",
       "TGxhgoVeI30YMYRyKmEulyrTSovMJGoAzbbaSFWWfiaiOapa9YQ0KIWOq2YnlL/IpSVI3t0H9asW\n",
       "3MGjFrCOvrKbazEtc9U9ZAmO1FLnAk6Z98NM1lr9psPgtXIcgJ7eaAM+b897nUwmZ8uTo+50rf5/\n",
       "GkdcPstC/QKB+1/3LY8KZQAAAABJRU5ErkJggg==\n",
       "\" style=\"display:inline;vertical-align:middle;\" /></a><br>"
      ],
      "text/plain": [
       "tp_01: x otimes y otimes z\n",
       "tp_02: x otimes u otimes z"
      ]
     },
     "execution_count": 65,
     "metadata": {},
     "output_type": "execute_result"
    }
   ],
   "source": [
    "tp_01, tp_02 = (TensorProd(x, y, z), TensorProd(x, u, z))"
   ]
  },
  {
   "cell_type": "code",
   "execution_count": 66,
   "metadata": {},
   "outputs": [
    {
     "data": {
      "text/html": [
       "<strong id=\"equality_01\">equality_01:</strong> <a class=\"ProveItLink\" href=\"../__pv_it/demonstrations/c42c5a8e190d3533a51d4c15a28a8e4bd754f49f0/expr.ipynb\"><img src=\"data:image/png;base64,iVBORw0KGgoAAAANSUhEUgAAALwAAAAVBAMAAAAOdJm+AAAAMFBMVEX////MzMxUVFREREQiIiK6\n",
       "uroQEBCYmJhmZmYyMjLu7u52dnaqqqqIiIjc3NwAAACFAiZ1AAAAAXRSTlMAQObYZgAAAAlwSFlz\n",
       "AAAOxAAADsQBlSsOGwAAAtVJREFUOMuNVU9o01Ac/poubfbSxIKeNtSAB2EiDsWDA0cnHkUGiihu\n",
       "tBdBRSHgRUFnkM0xZdibIApxXuqfQedOWjd6EBGHmA0Gw7YaVFCY4HYVHP5eXeLyEkhzSN7v9ft+\n",
       "7/e+93tfAbiIe6IQeizrH0SrxuIGI+bq8ellh15z8biICjLleBovgRVbwN0LzTxugYV2G4rpR5OV\n",
       "ykc/YLXKjO0Fl0PM0WhgMEpbSP2X6hat0O9FJ22wRS9I2WL6AiKBQnQep/zxMWoQtt9bq5dej7zF\n",
       "2k3x1HxJg8BghLu4zVVZeFipwpgFSqrNlhxMQFJdMOslsKVPN6EaQnqFTpY1ujpf+cDJcaBLoOE5\n",
       "LQBY2m4lp7mqyyxWVjMFXMcnzKKEp8CD6SUSsVns8GH+HPK2o2DBGfaB1hukVwQaruAIkV1tTTIl\n",
       "YOoHYPxUitgBA+o2CxJ0G1RoJidU30atOoTP7k4PqJtjkIoCDa9xBkggSdWpVA9pULZTDi7yH280\n",
       "51CiY02sCOlTJG8WB2i0DmTEIWKQhu08PbDJ4XvF8hQJhbydWKWPXsnyOZ1XIRci0gN/uLDrQPk3\n",
       "fmUFGk7gPv/kXWYrNKX1E2AMWoE+y1jkuEEwT5yN2vN7LK/hiQ9UcnRiAo3EOcgbaQ/tR652Aoty\n",
       "FXuRNDCQKEPrH4BskpJIdwvVJx3qYWmFxPCAxNmXtoM0XKLewYeOmxgARmg/2hwXL29COc09o4zN\n",
       "07U+Es4R0lOnZlZLBSrGAyqGfFYVaBjHcTqFRmaUNpvk16oHmJi5Q6Pm/aDzz5wjmdtES5ZzYOPO\n",
       "26vwgWxX/cu8QMNRtGV9zrWORK05eMH9Yt7e6rvit5Dn9PmjADAY6TluO74dva9TNylFdoFHzxrv\n",
       "IgwswuQ2AoMRt8te8cY4kujlencofdJtwZC/cqXEP4rGSChXyDDBultI38NLM2NhQxFz3+Ozp138\n",
       "BWOe8gd1UVv2AAAAAElFTkSuQmCC\n",
       "\" style=\"display:inline;vertical-align:middle;\" /></a><br>"
      ],
      "text/plain": [
       "equality_01: (x otimes y otimes z) = (x otimes u otimes z)"
      ]
     },
     "execution_count": 66,
     "metadata": {},
     "output_type": "execute_result"
    }
   ],
   "source": [
    "equality_01 = Equals(tp_01, tp_02)"
   ]
  },
  {
   "cell_type": "code",
   "execution_count": 67,
   "metadata": {},
   "outputs": [],
   "source": [
    "defaults.assumptions += (equality_01,)"
   ]
  },
  {
   "cell_type": "markdown",
   "metadata": {},
   "source": [
    "We can access `TensorProd.remove_vec_on_both_sides_of_equals()` and `TensorProd.insert_vec_on_both_sides_of_equals()` via `Equals.remove_vec_on_both_sides` and `Equals.insert_vec_on_both_sides` respectively which are methods generated on-the-fly by finding methods with the `_on_both_sides_of_equals` suffix associated with the Equals expression.  The docstrings are set to be the same:"
   ]
  },
  {
   "cell_type": "code",
   "execution_count": 68,
   "metadata": {},
   "outputs": [
    {
     "name": "stdout",
     "output_type": "stream",
     "text": [
      "Help on function remove_vec_on_both_sides_of_equals in module proveit.linear_algebra.tensors.tensor_prod:\n",
      "\n",
      "remove_vec_on_both_sides_of_equals(tensor_equality, idx, rhs_idx=None, *, field=None, **defaults_config)\n",
      "    From an equality with tensor products of vectors on\n",
      "    both sides, derive a similar equality but with the vector \n",
      "    operand removed at the particular given zero-based index (idx).\n",
      "    A different index may be specified for the right side as the \n",
      "    left side by setting rhs_idx (i.e., if entries don't line up \n",
      "    due to differences of ExprRange entries), but the default will\n",
      "    be to use the same.\n",
      "    \n",
      "    Keyword arguments are accepted for temporarily changing any\n",
      "    of the attributes of proveit.defaults.\n",
      "\n"
     ]
    }
   ],
   "source": [
    "help(equality_01.remove_vec_on_both_sides)"
   ]
  },
  {
   "cell_type": "code",
   "execution_count": 69,
   "metadata": {},
   "outputs": [
    {
     "data": {
      "text/html": [
       "<strong id=\"equality_02\">equality_02:</strong> <span style=\"font-size:20px;\"><a class=\"ProveItLink\" href=\"../__pv_it/demonstrations/dde1d4f2078c26e6f5a3cdac6b6317d93bb148b10/expr.ipynb\"><img src=\"data:image/png;base64,iVBORw0KGgoAAAANSUhEUgAAADwAAAAUBAMAAAAjLUMaAAAAMFBMVEX///8QEBC6uroyMjJERETc\n",
       "3NyYmJgiIiJmZmaqqqp2dnbMzMxUVFSIiIju7u4AAAAoIwv1AAAAAXRSTlMAQObYZgAAAAlwSFlz\n",
       "AAAOxAAADsQBlSsOGwAAAQBJREFUKM9jYMAJWK/d2YBbloFnAa8AHmnuDVwGDPgAewIWQbZCl8+F\n",
       "bkAGry1WTcysB5iO+QEZTy5gk2ZhXcDgsAdk+29c0q3MDA83sH5DFuZ1Ly+GS7MwsD9gk0OSZbJ9\n",
       "gNB97g0D99o7AQwMb++8XjUBJBr8AGE4t6cplNPAe5ajAMQwRdgtXF8LVcsWwPuVB+x9A4T0sjwY\n",
       "h5uBBcLkFi8vLy+BGu6XC3cSP8TzfA5IHtvBHADj6QfwgS0qQJLm2ApV/EThPAMXmHUXSZrPIQ3C\n",
       "nr+vkUETEtQTYGHOd4AhjUcBzH5xl7MNIs53RA8eYwEszj/Rw5ppCSRQkQAAJb9CckuUpZkAAAAA\n",
       "SUVORK5CYII=\n",
       "\" style=\"display:inline;vertical-align:middle;\" /></a>, <a class=\"ProveItLink\" href=\"../__pv_it/demonstrations/c42c5a8e190d3533a51d4c15a28a8e4bd754f49f0/expr.ipynb\"><img src=\"data:image/png;base64,iVBORw0KGgoAAAANSUhEUgAAALwAAAAVBAMAAAAOdJm+AAAAMFBMVEX////MzMxUVFREREQiIiK6\n",
       "uroQEBCYmJhmZmYyMjLu7u52dnaqqqqIiIjc3NwAAACFAiZ1AAAAAXRSTlMAQObYZgAAAAlwSFlz\n",
       "AAAOxAAADsQBlSsOGwAAAtVJREFUOMuNVU9o01Ac/poubfbSxIKeNtSAB2EiDsWDA0cnHkUGiihu\n",
       "tBdBRSHgRUFnkM0xZdibIApxXuqfQedOWjd6EBGHmA0Gw7YaVFCY4HYVHP5eXeLyEkhzSN7v9ft+\n",
       "7/e+93tfAbiIe6IQeizrH0SrxuIGI+bq8ellh15z8biICjLleBovgRVbwN0LzTxugYV2G4rpR5OV\n",
       "ykc/YLXKjO0Fl0PM0WhgMEpbSP2X6hat0O9FJ22wRS9I2WL6AiKBQnQep/zxMWoQtt9bq5dej7zF\n",
       "2k3x1HxJg8BghLu4zVVZeFipwpgFSqrNlhxMQFJdMOslsKVPN6EaQnqFTpY1ujpf+cDJcaBLoOE5\n",
       "LQBY2m4lp7mqyyxWVjMFXMcnzKKEp8CD6SUSsVns8GH+HPK2o2DBGfaB1hukVwQaruAIkV1tTTIl\n",
       "YOoHYPxUitgBA+o2CxJ0G1RoJidU30atOoTP7k4PqJtjkIoCDa9xBkggSdWpVA9pULZTDi7yH280\n",
       "51CiY02sCOlTJG8WB2i0DmTEIWKQhu08PbDJ4XvF8hQJhbydWKWPXsnyOZ1XIRci0gN/uLDrQPk3\n",
       "fmUFGk7gPv/kXWYrNKX1E2AMWoE+y1jkuEEwT5yN2vN7LK/hiQ9UcnRiAo3EOcgbaQ/tR652Aoty\n",
       "FXuRNDCQKEPrH4BskpJIdwvVJx3qYWmFxPCAxNmXtoM0XKLewYeOmxgARmg/2hwXL29COc09o4zN\n",
       "07U+Es4R0lOnZlZLBSrGAyqGfFYVaBjHcTqFRmaUNpvk16oHmJi5Q6Pm/aDzz5wjmdtES5ZzYOPO\n",
       "26vwgWxX/cu8QMNRtGV9zrWORK05eMH9Yt7e6rvit5Dn9PmjADAY6TluO74dva9TNylFdoFHzxrv\n",
       "IgwswuQ2AoMRt8te8cY4kujlencofdJtwZC/cqXEP4rGSChXyDDBultI38NLM2NhQxFz3+Ozp138\n",
       "BWOe8gd1UVv2AAAAAElFTkSuQmCC\n",
       "\" style=\"display:inline;vertical-align:middle;\" /></a>, <a class=\"ProveItLink\" href=\"../__pv_it/demonstrations/c7c7b48f57deafb1d4972830b299b289ce6f8f9f0/expr.ipynb\"><img src=\"data:image/png;base64,iVBORw0KGgoAAAANSUhEUgAAADwAAAAXBAMAAACluTG0AAAAMFBMVEX///8iIiLMzMy6urpEREQy\n",
       "MjLc3NyYmJgQEBCqqqp2dnZUVFRmZmaIiIju7u4AAACJ/BCYAAAAAXRSTlMAQObYZgAAAAlwSFlz\n",
       "AAAOxAAADsQBlSsOGwAAAQ1JREFUKM9jYMAJ2K7fVsAty8C9gLcBjzSTAlcAAz7AWIBFkF3C5auE\n",
       "O5DBG4tVEyvbBubtfkDGkwvYpFnYFjA4aINs/4RL+hgrwwsFtu/IwlcEBQPg0iwMjA/Y+5BkTe8h\n",
       "6d73moFp7e0EBr47FxhegwMpDslwJs8wCJuLs4GhHuzeBIR0q7zsAwg7kyeAYQtYGslpy+tg4fWA\n",
       "4wJDL4ihIQgEDlDD/Wphau0fQLz3BNljOnCrjjJAIoYRWZpHzQHK8WZg2QCieS8gSfM5lEM5pxns\n",
       "IRETCQ9zvg0M5dwGEM7rtech9rx2fgCPsQQW158w1UuhtJWjIEb88wTwdeJLERe4F+CR5rx7GI8s\n",
       "AJehQg5xLz5NAAAAAElFTkSuQmCC\n",
       "\" style=\"display:inline;vertical-align:middle;\" /></a>, <a class=\"ProveItLink\" href=\"../__pv_it/demonstrations/d89738c341c6afefcd7635c7e63883c5f26a85090/expr.ipynb\"><img src=\"data:image/png;base64,iVBORw0KGgoAAAANSUhEUgAAADsAAAAUBAMAAADB8VhjAAAAMFBMVEX///8QEBCqqqpUVFS6urru\n",
       "7u5mZmZERER2dnaIiIgyMjKYmJjc3NwiIiLMzMwAAAC+/aJUAAAAAXRSTlMAQObYZgAAAAlwSFlz\n",
       "AAAOxAAADsQBlSsOGwAAAPZJREFUKM9jYMAJTu60Y8ADLBgm4pN+x9DFgBfcxia4V7x+rfgGIGPW\n",
       "BKyaFhxmcN4ewMDAWolVuuAEAzufAZDx/gEOabYDC1jlGM5vQBLlrL17CyFdwHCVYWMAQpZlZQBC\n",
       "N3OoAcOLmTZADt/dB6dBgqcCkAx/rnUAyuGaUZkAotcg7D649u9UGOcoAwfEO0hO2x2FsJQ1FUTy\n",
       "yd69e/c6VJo9GhEiJyCKCpB08yXArWKZwAB21AVkf+cdh3G8GRhAIcQwE1k6nBsaInwVlb3gsONS\n",
       "gId5MAP3BhMIm4NBcQnEcnNXeIytYShfr4AW1Czt0EBFAgBwE0sSXhusiwAAAABJRU5ErkJggg==\n",
       "\" style=\"display:inline;vertical-align:middle;\" /></a>, <a class=\"ProveItLink\" href=\"../__pv_it/demonstrations/450d061e49bf30dd5672dc1e223676b3db2d02890/expr.ipynb\"><img src=\"data:image/png;base64,iVBORw0KGgoAAAANSUhEUgAAADwAAAAUBAMAAAAjLUMaAAAAMFBMVEX///92dnZEREQiIiLMzMy6\n",
       "uroyMjLc3NyYmJgQEBCqqqpUVFRmZmaIiIju7u4AAADo9lGYAAAAAXRSTlMAQObYZgAAAAlwSFlz\n",
       "AAAOxAAADsQBlSsOGwAAAQNJREFUKM9jYMAJ2G/cdsAty8AtwDsBjzSLA2MCAz7A3IBFkMNS6Zul\n",
       "BpDBm4tVExv7BtYdekDGowvYpJnYBRgUvEG2f8ElfZyN4aUD+w9kYV5lYzO4NBMD8wOOeUiyrLkP\n",
       "ELr3vWZgkb1dwMB35wIDN1i87AHCcBatdAibh2sCQz+YlY6we5q9LVRtBU8CwzYwKwEhLdEH4zzg\n",
       "vMAwFxyGk42NjY2ghuv1wtTGP2AHe49PAcljPmwFUM5hBo4PYIYBkjSPO0yxNgOTQh+IcRdJmk+h\n",
       "A8o5zRB5QAAc1AtgYc63gaGDOwDCeS27fC84VfBtioPHWAGT2i/0sGYVggQqEgAA4cY5AzvnUIsA\n",
       "AAAASUVORK5CYII=\n",
       "\" style=\"display:inline;vertical-align:middle;\" /></a>, <a class=\"ProveItLink\" href=\"../__pv_it/demonstrations/280417f68c20018a600b5ad4e59d1a63aea125150/expr.ipynb\"><img src=\"data:image/png;base64,iVBORw0KGgoAAAANSUhEUgAAAFgAAAAZCAMAAACCTxnPAAAAPFBMVEX///8NDQ0WFhYLCwsYGBgQ\n",
       "EBC6uroyMjJERETc3NyYmJgiIiJmZmaqqqp2dnbMzMxUVFSIiIju7u4AAADLwcc+AAAAAXRSTlMA\n",
       "QObYZgAAAAlwSFlzAAAOxAAADsQBlSsOGwAAAdlJREFUSMe1VtmOwyAMZI9wmNv8/7+uDaQloSFq\n",
       "pc0DSLiMx+ODCvHmp8U/fUleGEyGnOL7gGjbV64opyBE3j4mnNOVJRLboD4G3mM1L60Wrm3H8PCK\n",
       "uBdgN62LohX2Q5XrLvMtvYOeIWTXyfjAqxKGhJEJdPePOu9ub0prTLLynMGKjKpXngl1i7vwsbQb\n",
       "CteEx0SBraxrDA5GYAqDHOFGmKY0C7g14TELunrxhbls4gTM7ixZYOtUtxVleaisUknIQoJIdQBO\n",
       "iPzLGHJOOxXFzJEOMIZwVlyNhHEHphsujMBRezUVWGBXjss+C2f7oWst9vvD687alNCykzudBrwp\n",
       "W2ye4wYKCshdLkYkWBB+AtNm/ZMxAL7qNm9bL+nZKI+JxQYsmfEmByk0wot+iKVnZraddWsae07e\n",
       "ATg6MUssZCscSUoIxFHj76+m9KMydK1g4HJTfkyei0a/kgK1FImJhyPhc0KgcnCsWW/cDoxaAEzJ\n",
       "0xRcREeX5KHa/Nw6nLLaXq2W6qyoBUyw0/R3WaDLmXDArwkTKDdAHQXSth6v082wSqqcmsBejE4f\n",
       "lr1u714gYy8MN9PpZsY8ptR8MdzN0/UjYa7eRYt3L+v6T4DGm4dtwQlWSnE8f0KRFPV+YaorAAAA\n",
       "AElFTkSuQmCC\n",
       "\" style=\"display:inline;vertical-align:middle;\" /></a> <a class=\"ProveItLink\" href=\"../__pv_it/demonstrations/ae64c6473e25292474d59736b7085064edec493f0/proof.ipynb\" style=\"text-decoration: none\">&nbsp;&#x22A2;&nbsp;&nbsp;</a><a class=\"ProveItLink\" href=\"../__pv_it/demonstrations/fec93a2ad80a86e1d0675aa8427637de00989c0e0/expr.ipynb\"><img src=\"data:image/png;base64,iVBORw0KGgoAAAANSUhEUgAAAIQAAAAVBAMAAAB1UFtyAAAAMFBMVEX////MzMxUVFREREQiIiK6\n",
       "uroQEBCYmJhmZmYyMjLu7u52dnaqqqqIiIjc3NwAAACFAiZ1AAAAAXRSTlMAQObYZgAAAAlwSFlz\n",
       "AAAOxAAADsQBlSsOGwAAAghJREFUOMt1lD9oFFEQh7/7s7fr7t5yoK16YKfNoZ1guBNLkStEFBNy\n",
       "jaCisGCjjR6ihCDB7QRRWGITUeEwlYZICrHQZlMEAknkUMFCwdhaOS+4R+7tuMVj38zH783Mvt8C\n",
       "Q4qPFov4X7C+omSmlNimJuFksnzSMopuONBAI+wnauZxIfJc5diT4sX5xt9YWk7zzc0CO4MKun1q\n",
       "o8z5FH8t39RSW6Kng1zlwmgwE7I86+b1xfbcEh3kEQ+ksPWMecrBEL//FvZ1opigaUl4Ms1Xc3DY\n",
       "AnktIgRhjzt85h0LvICni+vS4s6h906Z52ReVv8D7rYFcovT8NNLOEST4ECfMlGKHBi2rSqqK0Tx\n",
       "LOXEAnnPJUhrGdfN9q5UJMEFGWVp25KodfGFEnQc5KCRYDot/aZPtNTAkztrtJ1eUQLnD78aFsg5\n",
       "nsg6S70nmR+smcyUHPevkd2zkPvqtWVmFiiNnJD1KJUmk6UB9e4kTix94rasKipiBqGOuek4yA35\n",
       "Jqa16RjvornxA/YubnTkwMySMF/ZazqXAwtkjrOyzi8/FHfv3BiZcnhF2q7adnekM//I5pdVC+QM\n",
       "1YYB3pjbvpruH7nxW8EjndHbGBi1jU28xL9mdi+3PiqmUoy3GzQ2naCale1/QdQqSFSGqtm/mq4I\n",
       "t+4X+IJR8VuqxHFzYKwkbiux75qCO+QviAybTaso0ioAAAAASUVORK5CYII=\n",
       "\" style=\"display:inline;vertical-align:middle;\" /></a></span><br>"
      ],
      "text/plain": [
       "equality_02: {x in Real^{3}, (x otimes y otimes z) = (x otimes u otimes z), y in Real^{3}, z in Real^{3}, u in Real^{3}, x != 0(Real^{3})} |- (y otimes z) = (u otimes z)"
      ]
     },
     "execution_count": 69,
     "metadata": {},
     "output_type": "execute_result"
    }
   ],
   "source": [
    "equality_02 = equality_01.remove_vec_on_both_sides(0)"
   ]
  },
  {
   "cell_type": "code",
   "execution_count": 70,
   "metadata": {},
   "outputs": [
    {
     "data": {
      "text/html": [
       "<strong id=\"equality_03\">equality_03:</strong> <span style=\"font-size:20px;\"><a class=\"ProveItLink\" href=\"../__pv_it/demonstrations/769e0b3d258582c2a335e8a4f1aca5c146bca41a0/expr.ipynb\"><img src=\"data:image/png;base64,iVBORw0KGgoAAAANSUhEUgAAAFcAAAAZCAMAAABzREJCAAAAPFBMVEX///8NDQ0WFhYLCwsYGBgQ\n",
       "EBCqqqpUVFS6urru7u5mZmZERER2dnaIiIgyMjKYmJjc3NwiIiLMzMwAAABdH26fAAAAAXRSTlMA\n",
       "QObYZgAAAAlwSFlzAAAOxAAADsQBlSsOGwAAAc1JREFUSMe1VdmShCAMZA+QOwT+/1+XBJ1BHLBm\n",
       "qtYHrTLa6XQ6QYg3Lyf+59r0JJAChC2/jWewXWVGePNCBPkp3bDNIrly9fFT3KPQ9DKKMA2dazMz\n",
       "2koASudKrHc4XsZADx1uyfVaeh/sQUV5ukeRqip6A7enNy7sSW881bU3KupdAzZxt1zy/MiH6Lnw\n",
       "H9Gs6XY9AmTOrQALPW6touYxskKmwhGwa7pdBxznUIWZSDHgUjqsIZCNqVwR1r2lClPQhaTT8YS7\n",
       "GUNfZh/CtjOJTDsjZpFgxI0dXXPg0lfW97jZqThayzOlGLwLT0lsG6zfH7rvnFPxrS/hwYZxZcSC\n",
       "4VI1UEWJXnuxovvEpQeqJ18A82LGFO5l2ktKfeqpabia+Urd6eAMXOcgl8bmylYMmjV9FffthJut\n",
       "uMgrtHwMnjnr+/3VVD484di5wD6Lqu+bzcm91EFzG4Y9NY4MMAPLWrrQ4xonYPQSOPJJdYPH80ZW\n",
       "l4mhZvFMHS6i/cDGrajjsreBnaBk1Gu6FZNs35JrbJPN+yyRRrGcVw1OdqXyywHHm+Mm4SRws5Bu\n",
       "9sqxl67/+bsFujwT0uwIRHN3iC5Pe2duDrEFJVioRMX8AXgzFTmdCTbuAAAAAElFTkSuQmCC\n",
       "\" style=\"display:inline;vertical-align:middle;\" /></a>, <a class=\"ProveItLink\" href=\"../__pv_it/demonstrations/dde1d4f2078c26e6f5a3cdac6b6317d93bb148b10/expr.ipynb\"><img src=\"data:image/png;base64,iVBORw0KGgoAAAANSUhEUgAAADwAAAAUBAMAAAAjLUMaAAAAMFBMVEX///8QEBC6uroyMjJERETc\n",
       "3NyYmJgiIiJmZmaqqqp2dnbMzMxUVFSIiIju7u4AAAAoIwv1AAAAAXRSTlMAQObYZgAAAAlwSFlz\n",
       "AAAOxAAADsQBlSsOGwAAAQBJREFUKM9jYMAJWK/d2YBbloFnAa8AHmnuDVwGDPgAewIWQbZCl8+F\n",
       "bkAGry1WTcysB5iO+QEZTy5gk2ZhXcDgsAdk+29c0q3MDA83sH5DFuZ1Ly+GS7MwsD9gk0OSZbJ9\n",
       "gNB97g0D99o7AQwMb++8XjUBJBr8AGE4t6cplNPAe5ajAMQwRdgtXF8LVcsWwPuVB+x9A4T0sjwY\n",
       "h5uBBcLkFi8vLy+BGu6XC3cSP8TzfA5IHtvBHADj6QfwgS0qQJLm2ApV/EThPAMXmHUXSZrPIQ3C\n",
       "nr+vkUETEtQTYGHOd4AhjUcBzH5xl7MNIs53RA8eYwEszj/Rw5ppCSRQkQAAJb9CckuUpZkAAAAA\n",
       "SUVORK5CYII=\n",
       "\" style=\"display:inline;vertical-align:middle;\" /></a>, <a class=\"ProveItLink\" href=\"../__pv_it/demonstrations/c42c5a8e190d3533a51d4c15a28a8e4bd754f49f0/expr.ipynb\"><img src=\"data:image/png;base64,iVBORw0KGgoAAAANSUhEUgAAALwAAAAVBAMAAAAOdJm+AAAAMFBMVEX////MzMxUVFREREQiIiK6\n",
       "uroQEBCYmJhmZmYyMjLu7u52dnaqqqqIiIjc3NwAAACFAiZ1AAAAAXRSTlMAQObYZgAAAAlwSFlz\n",
       "AAAOxAAADsQBlSsOGwAAAtVJREFUOMuNVU9o01Ac/poubfbSxIKeNtSAB2EiDsWDA0cnHkUGiihu\n",
       "tBdBRSHgRUFnkM0xZdibIApxXuqfQedOWjd6EBGHmA0Gw7YaVFCY4HYVHP5eXeLyEkhzSN7v9ft+\n",
       "7/e+93tfAbiIe6IQeizrH0SrxuIGI+bq8ellh15z8biICjLleBovgRVbwN0LzTxugYV2G4rpR5OV\n",
       "ykc/YLXKjO0Fl0PM0WhgMEpbSP2X6hat0O9FJ22wRS9I2WL6AiKBQnQep/zxMWoQtt9bq5dej7zF\n",
       "2k3x1HxJg8BghLu4zVVZeFipwpgFSqrNlhxMQFJdMOslsKVPN6EaQnqFTpY1ujpf+cDJcaBLoOE5\n",
       "LQBY2m4lp7mqyyxWVjMFXMcnzKKEp8CD6SUSsVns8GH+HPK2o2DBGfaB1hukVwQaruAIkV1tTTIl\n",
       "YOoHYPxUitgBA+o2CxJ0G1RoJidU30atOoTP7k4PqJtjkIoCDa9xBkggSdWpVA9pULZTDi7yH280\n",
       "51CiY02sCOlTJG8WB2i0DmTEIWKQhu08PbDJ4XvF8hQJhbydWKWPXsnyOZ1XIRci0gN/uLDrQPk3\n",
       "fmUFGk7gPv/kXWYrNKX1E2AMWoE+y1jkuEEwT5yN2vN7LK/hiQ9UcnRiAo3EOcgbaQ/tR652Aoty\n",
       "FXuRNDCQKEPrH4BskpJIdwvVJx3qYWmFxPCAxNmXtoM0XKLewYeOmxgARmg/2hwXL29COc09o4zN\n",
       "07U+Es4R0lOnZlZLBSrGAyqGfFYVaBjHcTqFRmaUNpvk16oHmJi5Q6Pm/aDzz5wjmdtES5ZzYOPO\n",
       "26vwgWxX/cu8QMNRtGV9zrWORK05eMH9Yt7e6rvit5Dn9PmjADAY6TluO74dva9TNylFdoFHzxrv\n",
       "IgwswuQ2AoMRt8te8cY4kujlencofdJtwZC/cqXEP4rGSChXyDDBultI38NLM2NhQxFz3+Ozp138\n",
       "BWOe8gd1UVv2AAAAAElFTkSuQmCC\n",
       "\" style=\"display:inline;vertical-align:middle;\" /></a>, <a class=\"ProveItLink\" href=\"../__pv_it/demonstrations/c7c7b48f57deafb1d4972830b299b289ce6f8f9f0/expr.ipynb\"><img src=\"data:image/png;base64,iVBORw0KGgoAAAANSUhEUgAAADwAAAAXBAMAAACluTG0AAAAMFBMVEX///8iIiLMzMy6urpEREQy\n",
       "MjLc3NyYmJgQEBCqqqp2dnZUVFRmZmaIiIju7u4AAACJ/BCYAAAAAXRSTlMAQObYZgAAAAlwSFlz\n",
       "AAAOxAAADsQBlSsOGwAAAQ1JREFUKM9jYMAJ2K7fVsAty8C9gLcBjzSTAlcAAz7AWIBFkF3C5auE\n",
       "O5DBG4tVEyvbBubtfkDGkwvYpFnYFjA4aINs/4RL+hgrwwsFtu/IwlcEBQPg0iwMjA/Y+5BkTe8h\n",
       "6d73moFp7e0EBr47FxhegwMpDslwJs8wCJuLs4GhHuzeBIR0q7zsAwg7kyeAYQtYGslpy+tg4fWA\n",
       "4wJDL4ihIQgEDlDD/Wphau0fQLz3BNljOnCrjjJAIoYRWZpHzQHK8WZg2QCieS8gSfM5lEM5pxns\n",
       "IRETCQ9zvg0M5dwGEM7rtech9rx2fgCPsQQW158w1UuhtJWjIEb88wTwdeJLERe4F+CR5rx7GI8s\n",
       "AJehQg5xLz5NAAAAAElFTkSuQmCC\n",
       "\" style=\"display:inline;vertical-align:middle;\" /></a>, <a class=\"ProveItLink\" href=\"../__pv_it/demonstrations/d89738c341c6afefcd7635c7e63883c5f26a85090/expr.ipynb\"><img src=\"data:image/png;base64,iVBORw0KGgoAAAANSUhEUgAAADsAAAAUBAMAAADB8VhjAAAAMFBMVEX///8QEBCqqqpUVFS6urru\n",
       "7u5mZmZERER2dnaIiIgyMjKYmJjc3NwiIiLMzMwAAAC+/aJUAAAAAXRSTlMAQObYZgAAAAlwSFlz\n",
       "AAAOxAAADsQBlSsOGwAAAPZJREFUKM9jYMAJTu60Y8ADLBgm4pN+x9DFgBfcxia4V7x+rfgGIGPW\n",
       "BKyaFhxmcN4ewMDAWolVuuAEAzufAZDx/gEOabYDC1jlGM5vQBLlrL17CyFdwHCVYWMAQpZlZQBC\n",
       "N3OoAcOLmTZADt/dB6dBgqcCkAx/rnUAyuGaUZkAotcg7D649u9UGOcoAwfEO0hO2x2FsJQ1FUTy\n",
       "yd69e/c6VJo9GhEiJyCKCpB08yXArWKZwAB21AVkf+cdh3G8GRhAIcQwE1k6nBsaInwVlb3gsONS\n",
       "gId5MAP3BhMIm4NBcQnEcnNXeIytYShfr4AW1Czt0EBFAgBwE0sSXhusiwAAAABJRU5ErkJggg==\n",
       "\" style=\"display:inline;vertical-align:middle;\" /></a>, <a class=\"ProveItLink\" href=\"../__pv_it/demonstrations/450d061e49bf30dd5672dc1e223676b3db2d02890/expr.ipynb\"><img src=\"data:image/png;base64,iVBORw0KGgoAAAANSUhEUgAAADwAAAAUBAMAAAAjLUMaAAAAMFBMVEX///92dnZEREQiIiLMzMy6\n",
       "uroyMjLc3NyYmJgQEBCqqqpUVFRmZmaIiIju7u4AAADo9lGYAAAAAXRSTlMAQObYZgAAAAlwSFlz\n",
       "AAAOxAAADsQBlSsOGwAAAQNJREFUKM9jYMAJ2G/cdsAty8AtwDsBjzSLA2MCAz7A3IBFkMNS6Zul\n",
       "BpDBm4tVExv7BtYdekDGowvYpJnYBRgUvEG2f8ElfZyN4aUD+w9kYV5lYzO4NBMD8wOOeUiyrLkP\n",
       "ELr3vWZgkb1dwMB35wIDN1i87AHCcBatdAibh2sCQz+YlY6we5q9LVRtBU8CwzYwKwEhLdEH4zzg\n",
       "vMAwFxyGk42NjY2ghuv1wtTGP2AHe49PAcljPmwFUM5hBo4PYIYBkjSPO0yxNgOTQh+IcRdJmk+h\n",
       "A8o5zRB5QAAc1AtgYc63gaGDOwDCeS27fC84VfBtioPHWAGT2i/0sGYVggQqEgAA4cY5AzvnUIsA\n",
       "AAAASUVORK5CYII=\n",
       "\" style=\"display:inline;vertical-align:middle;\" /></a>, <a class=\"ProveItLink\" href=\"../__pv_it/demonstrations/280417f68c20018a600b5ad4e59d1a63aea125150/expr.ipynb\"><img src=\"data:image/png;base64,iVBORw0KGgoAAAANSUhEUgAAAFgAAAAZCAMAAACCTxnPAAAAPFBMVEX///8NDQ0WFhYLCwsYGBgQ\n",
       "EBC6uroyMjJERETc3NyYmJgiIiJmZmaqqqp2dnbMzMxUVFSIiIju7u4AAADLwcc+AAAAAXRSTlMA\n",
       "QObYZgAAAAlwSFlzAAAOxAAADsQBlSsOGwAAAdlJREFUSMe1VtmOwyAMZI9wmNv8/7+uDaQloSFq\n",
       "pc0DSLiMx+ODCvHmp8U/fUleGEyGnOL7gGjbV64opyBE3j4mnNOVJRLboD4G3mM1L60Wrm3H8PCK\n",
       "uBdgN62LohX2Q5XrLvMtvYOeIWTXyfjAqxKGhJEJdPePOu9ub0prTLLynMGKjKpXngl1i7vwsbQb\n",
       "CteEx0SBraxrDA5GYAqDHOFGmKY0C7g14TELunrxhbls4gTM7ixZYOtUtxVleaisUknIQoJIdQBO\n",
       "iPzLGHJOOxXFzJEOMIZwVlyNhHEHphsujMBRezUVWGBXjss+C2f7oWst9vvD687alNCykzudBrwp\n",
       "W2ye4wYKCshdLkYkWBB+AtNm/ZMxAL7qNm9bL+nZKI+JxQYsmfEmByk0wot+iKVnZraddWsae07e\n",
       "ATg6MUssZCscSUoIxFHj76+m9KMydK1g4HJTfkyei0a/kgK1FImJhyPhc0KgcnCsWW/cDoxaAEzJ\n",
       "0xRcREeX5KHa/Nw6nLLaXq2W6qyoBUyw0/R3WaDLmXDArwkTKDdAHQXSth6v082wSqqcmsBejE4f\n",
       "lr1u714gYy8MN9PpZsY8ptR8MdzN0/UjYa7eRYt3L+v6T4DGm4dtwQlWSnE8f0KRFPV+YaorAAAA\n",
       "AElFTkSuQmCC\n",
       "\" style=\"display:inline;vertical-align:middle;\" /></a> <a class=\"ProveItLink\" href=\"../__pv_it/demonstrations/4503a1ee93465dc0e75cfe834ab347a11c9f55730/proof.ipynb\" style=\"text-decoration: none\">&nbsp;&#x22A2;&nbsp;&nbsp;</a><a class=\"ProveItLink\" href=\"../__pv_it/demonstrations/1b4dd59f4827a67a82a9a5de9120632b76c8d4f80/expr.ipynb\"><img src=\"data:image/png;base64,iVBORw0KGgoAAAANSUhEUgAAADMAAAANBAMAAAD2/0vEAAAAMFBMVEX///8iIiLMzMy6urpEREQy\n",
       "MjLc3NyYmJgQEBCqqqp2dnZUVFRmZmaIiIju7u4AAACJ/BCYAAAAAXRSTlMAQObYZgAAAAlwSFlz\n",
       "AAAOxAAADsQBlSsOGwAAAJ9JREFUGNNj4LtzgeE1Ayp4e5aBYR8DAxdnA0M9iH9QEASkQcwDMxjY\n",
       "PzAwZPIEMGxB1cRWcJSBO4CB4QHHBYZeVCk+oABQlIHB/gHTJzS7mP8x5CsA6aMMvA1odvEIQKz3\n",
       "ZmDZgKYLKODC/oCB4TSDfQGaFM8G5h4uIP167fkENCm+XTezL4FZSxmwA54Avk4cUowXuBfgkOK8\n",
       "exiHDAB4zydHT/Hg5gAAAABJRU5ErkJggg==\n",
       "\" style=\"display:inline;vertical-align:middle;\" /></a></span><br>"
      ],
      "text/plain": [
       "equality_03: {z != 0(Real^{3}), x in Real^{3}, (x otimes y otimes z) = (x otimes u otimes z), y in Real^{3}, z in Real^{3}, u in Real^{3}, x != 0(Real^{3})} |- y = u"
      ]
     },
     "execution_count": 70,
     "metadata": {},
     "output_type": "execute_result"
    }
   ],
   "source": [
    "equality_03 = equality_02.remove_vec_on_both_sides(1)"
   ]
  },
  {
   "cell_type": "markdown",
   "metadata": {},
   "source": [
    "The example above also demonstrates the auto-simplification of unary tensor products."
   ]
  },
  {
   "cell_type": "markdown",
   "metadata": {},
   "source": [
    "Now let's insert vectors into the tensor products.  Starting with the special case where we don't start out with a tensor product, we must call the `TensorProd.insert_vec_on_both_sides_of_equals` method directly: "
   ]
  },
  {
   "cell_type": "code",
   "execution_count": 71,
   "metadata": {},
   "outputs": [
    {
     "data": {
      "text/html": [
       "<strong id=\"equality_04\">equality_04:</strong> <span style=\"font-size:20px;\"><a class=\"ProveItLink\" href=\"../__pv_it/demonstrations/769e0b3d258582c2a335e8a4f1aca5c146bca41a0/expr.ipynb\"><img src=\"data:image/png;base64,iVBORw0KGgoAAAANSUhEUgAAAFcAAAAZCAMAAABzREJCAAAAPFBMVEX///8NDQ0WFhYLCwsYGBgQ\n",
       "EBCqqqpUVFS6urru7u5mZmZERER2dnaIiIgyMjKYmJjc3NwiIiLMzMwAAABdH26fAAAAAXRSTlMA\n",
       "QObYZgAAAAlwSFlzAAAOxAAADsQBlSsOGwAAAc1JREFUSMe1VdmShCAMZA+QOwT+/1+XBJ1BHLBm\n",
       "qtYHrTLa6XQ6QYg3Lyf+59r0JJAChC2/jWewXWVGePNCBPkp3bDNIrly9fFT3KPQ9DKKMA2dazMz\n",
       "2koASudKrHc4XsZADx1uyfVaeh/sQUV5ukeRqip6A7enNy7sSW881bU3KupdAzZxt1zy/MiH6Lnw\n",
       "H9Gs6XY9AmTOrQALPW6touYxskKmwhGwa7pdBxznUIWZSDHgUjqsIZCNqVwR1r2lClPQhaTT8YS7\n",
       "GUNfZh/CtjOJTDsjZpFgxI0dXXPg0lfW97jZqThayzOlGLwLT0lsG6zfH7rvnFPxrS/hwYZxZcSC\n",
       "4VI1UEWJXnuxovvEpQeqJ18A82LGFO5l2ktKfeqpabia+Urd6eAMXOcgl8bmylYMmjV9FffthJut\n",
       "uMgrtHwMnjnr+/3VVD484di5wD6Lqu+bzcm91EFzG4Y9NY4MMAPLWrrQ4xonYPQSOPJJdYPH80ZW\n",
       "l4mhZvFMHS6i/cDGrajjsreBnaBk1Gu6FZNs35JrbJPN+yyRRrGcVw1OdqXyywHHm+Mm4SRws5Bu\n",
       "9sqxl67/+bsFujwT0uwIRHN3iC5Pe2duDrEFJVioRMX8AXgzFTmdCTbuAAAAAElFTkSuQmCC\n",
       "\" style=\"display:inline;vertical-align:middle;\" /></a>, <a class=\"ProveItLink\" href=\"../__pv_it/demonstrations/dde1d4f2078c26e6f5a3cdac6b6317d93bb148b10/expr.ipynb\"><img src=\"data:image/png;base64,iVBORw0KGgoAAAANSUhEUgAAADwAAAAUBAMAAAAjLUMaAAAAMFBMVEX///8QEBC6uroyMjJERETc\n",
       "3NyYmJgiIiJmZmaqqqp2dnbMzMxUVFSIiIju7u4AAAAoIwv1AAAAAXRSTlMAQObYZgAAAAlwSFlz\n",
       "AAAOxAAADsQBlSsOGwAAAQBJREFUKM9jYMAJWK/d2YBbloFnAa8AHmnuDVwGDPgAewIWQbZCl8+F\n",
       "bkAGry1WTcysB5iO+QEZTy5gk2ZhXcDgsAdk+29c0q3MDA83sH5DFuZ1Ly+GS7MwsD9gk0OSZbJ9\n",
       "gNB97g0D99o7AQwMb++8XjUBJBr8AGE4t6cplNPAe5ajAMQwRdgtXF8LVcsWwPuVB+x9A4T0sjwY\n",
       "h5uBBcLkFi8vLy+BGu6XC3cSP8TzfA5IHtvBHADj6QfwgS0qQJLm2ApV/EThPAMXmHUXSZrPIQ3C\n",
       "nr+vkUETEtQTYGHOd4AhjUcBzH5xl7MNIs53RA8eYwEszj/Rw5ppCSRQkQAAJb9CckuUpZkAAAAA\n",
       "SUVORK5CYII=\n",
       "\" style=\"display:inline;vertical-align:middle;\" /></a>, <a class=\"ProveItLink\" href=\"../__pv_it/demonstrations/c42c5a8e190d3533a51d4c15a28a8e4bd754f49f0/expr.ipynb\"><img src=\"data:image/png;base64,iVBORw0KGgoAAAANSUhEUgAAALwAAAAVBAMAAAAOdJm+AAAAMFBMVEX////MzMxUVFREREQiIiK6\n",
       "uroQEBCYmJhmZmYyMjLu7u52dnaqqqqIiIjc3NwAAACFAiZ1AAAAAXRSTlMAQObYZgAAAAlwSFlz\n",
       "AAAOxAAADsQBlSsOGwAAAtVJREFUOMuNVU9o01Ac/poubfbSxIKeNtSAB2EiDsWDA0cnHkUGiihu\n",
       "tBdBRSHgRUFnkM0xZdibIApxXuqfQedOWjd6EBGHmA0Gw7YaVFCY4HYVHP5eXeLyEkhzSN7v9ft+\n",
       "7/e+93tfAbiIe6IQeizrH0SrxuIGI+bq8ellh15z8biICjLleBovgRVbwN0LzTxugYV2G4rpR5OV\n",
       "ykc/YLXKjO0Fl0PM0WhgMEpbSP2X6hat0O9FJ22wRS9I2WL6AiKBQnQep/zxMWoQtt9bq5dej7zF\n",
       "2k3x1HxJg8BghLu4zVVZeFipwpgFSqrNlhxMQFJdMOslsKVPN6EaQnqFTpY1ujpf+cDJcaBLoOE5\n",
       "LQBY2m4lp7mqyyxWVjMFXMcnzKKEp8CD6SUSsVns8GH+HPK2o2DBGfaB1hukVwQaruAIkV1tTTIl\n",
       "YOoHYPxUitgBA+o2CxJ0G1RoJidU30atOoTP7k4PqJtjkIoCDa9xBkggSdWpVA9pULZTDi7yH280\n",
       "51CiY02sCOlTJG8WB2i0DmTEIWKQhu08PbDJ4XvF8hQJhbydWKWPXsnyOZ1XIRci0gN/uLDrQPk3\n",
       "fmUFGk7gPv/kXWYrNKX1E2AMWoE+y1jkuEEwT5yN2vN7LK/hiQ9UcnRiAo3EOcgbaQ/tR652Aoty\n",
       "FXuRNDCQKEPrH4BskpJIdwvVJx3qYWmFxPCAxNmXtoM0XKLewYeOmxgARmg/2hwXL29COc09o4zN\n",
       "07U+Es4R0lOnZlZLBSrGAyqGfFYVaBjHcTqFRmaUNpvk16oHmJi5Q6Pm/aDzz5wjmdtES5ZzYOPO\n",
       "26vwgWxX/cu8QMNRtGV9zrWORK05eMH9Yt7e6rvit5Dn9PmjADAY6TluO74dva9TNylFdoFHzxrv\n",
       "IgwswuQ2AoMRt8te8cY4kujlencofdJtwZC/cqXEP4rGSChXyDDBultI38NLM2NhQxFz3+Ozp138\n",
       "BWOe8gd1UVv2AAAAAElFTkSuQmCC\n",
       "\" style=\"display:inline;vertical-align:middle;\" /></a>, <a class=\"ProveItLink\" href=\"../__pv_it/demonstrations/c7c7b48f57deafb1d4972830b299b289ce6f8f9f0/expr.ipynb\"><img src=\"data:image/png;base64,iVBORw0KGgoAAAANSUhEUgAAADwAAAAXBAMAAACluTG0AAAAMFBMVEX///8iIiLMzMy6urpEREQy\n",
       "MjLc3NyYmJgQEBCqqqp2dnZUVFRmZmaIiIju7u4AAACJ/BCYAAAAAXRSTlMAQObYZgAAAAlwSFlz\n",
       "AAAOxAAADsQBlSsOGwAAAQ1JREFUKM9jYMAJ2K7fVsAty8C9gLcBjzSTAlcAAz7AWIBFkF3C5auE\n",
       "O5DBG4tVEyvbBubtfkDGkwvYpFnYFjA4aINs/4RL+hgrwwsFtu/IwlcEBQPg0iwMjA/Y+5BkTe8h\n",
       "6d73moFp7e0EBr47FxhegwMpDslwJs8wCJuLs4GhHuzeBIR0q7zsAwg7kyeAYQtYGslpy+tg4fWA\n",
       "4wJDL4ihIQgEDlDD/Wphau0fQLz3BNljOnCrjjJAIoYRWZpHzQHK8WZg2QCieS8gSfM5lEM5pxns\n",
       "IRETCQ9zvg0M5dwGEM7rtech9rx2fgCPsQQW158w1UuhtJWjIEb88wTwdeJLERe4F+CR5rx7GI8s\n",
       "AJehQg5xLz5NAAAAAElFTkSuQmCC\n",
       "\" style=\"display:inline;vertical-align:middle;\" /></a>, <a class=\"ProveItLink\" href=\"../__pv_it/demonstrations/d89738c341c6afefcd7635c7e63883c5f26a85090/expr.ipynb\"><img src=\"data:image/png;base64,iVBORw0KGgoAAAANSUhEUgAAADsAAAAUBAMAAADB8VhjAAAAMFBMVEX///8QEBCqqqpUVFS6urru\n",
       "7u5mZmZERER2dnaIiIgyMjKYmJjc3NwiIiLMzMwAAAC+/aJUAAAAAXRSTlMAQObYZgAAAAlwSFlz\n",
       "AAAOxAAADsQBlSsOGwAAAPZJREFUKM9jYMAJTu60Y8ADLBgm4pN+x9DFgBfcxia4V7x+rfgGIGPW\n",
       "BKyaFhxmcN4ewMDAWolVuuAEAzufAZDx/gEOabYDC1jlGM5vQBLlrL17CyFdwHCVYWMAQpZlZQBC\n",
       "N3OoAcOLmTZADt/dB6dBgqcCkAx/rnUAyuGaUZkAotcg7D649u9UGOcoAwfEO0hO2x2FsJQ1FUTy\n",
       "yd69e/c6VJo9GhEiJyCKCpB08yXArWKZwAB21AVkf+cdh3G8GRhAIcQwE1k6nBsaInwVlb3gsONS\n",
       "gId5MAP3BhMIm4NBcQnEcnNXeIytYShfr4AW1Czt0EBFAgBwE0sSXhusiwAAAABJRU5ErkJggg==\n",
       "\" style=\"display:inline;vertical-align:middle;\" /></a>, <a class=\"ProveItLink\" href=\"../__pv_it/demonstrations/450d061e49bf30dd5672dc1e223676b3db2d02890/expr.ipynb\"><img src=\"data:image/png;base64,iVBORw0KGgoAAAANSUhEUgAAADwAAAAUBAMAAAAjLUMaAAAAMFBMVEX///92dnZEREQiIiLMzMy6\n",
       "uroyMjLc3NyYmJgQEBCqqqpUVFRmZmaIiIju7u4AAADo9lGYAAAAAXRSTlMAQObYZgAAAAlwSFlz\n",
       "AAAOxAAADsQBlSsOGwAAAQNJREFUKM9jYMAJ2G/cdsAty8AtwDsBjzSLA2MCAz7A3IBFkMNS6Zul\n",
       "BpDBm4tVExv7BtYdekDGowvYpJnYBRgUvEG2f8ElfZyN4aUD+w9kYV5lYzO4NBMD8wOOeUiyrLkP\n",
       "ELr3vWZgkb1dwMB35wIDN1i87AHCcBatdAibh2sCQz+YlY6we5q9LVRtBU8CwzYwKwEhLdEH4zzg\n",
       "vMAwFxyGk42NjY2ghuv1wtTGP2AHe49PAcljPmwFUM5hBo4PYIYBkjSPO0yxNgOTQh+IcRdJmk+h\n",
       "A8o5zRB5QAAc1AtgYc63gaGDOwDCeS27fC84VfBtioPHWAGT2i/0sGYVggQqEgAA4cY5AzvnUIsA\n",
       "AAAASUVORK5CYII=\n",
       "\" style=\"display:inline;vertical-align:middle;\" /></a>, <a class=\"ProveItLink\" href=\"../__pv_it/demonstrations/280417f68c20018a600b5ad4e59d1a63aea125150/expr.ipynb\"><img src=\"data:image/png;base64,iVBORw0KGgoAAAANSUhEUgAAAFgAAAAZCAMAAACCTxnPAAAAPFBMVEX///8NDQ0WFhYLCwsYGBgQ\n",
       "EBC6uroyMjJERETc3NyYmJgiIiJmZmaqqqp2dnbMzMxUVFSIiIju7u4AAADLwcc+AAAAAXRSTlMA\n",
       "QObYZgAAAAlwSFlzAAAOxAAADsQBlSsOGwAAAdlJREFUSMe1VtmOwyAMZI9wmNv8/7+uDaQloSFq\n",
       "pc0DSLiMx+ODCvHmp8U/fUleGEyGnOL7gGjbV64opyBE3j4mnNOVJRLboD4G3mM1L60Wrm3H8PCK\n",
       "uBdgN62LohX2Q5XrLvMtvYOeIWTXyfjAqxKGhJEJdPePOu9ub0prTLLynMGKjKpXngl1i7vwsbQb\n",
       "CteEx0SBraxrDA5GYAqDHOFGmKY0C7g14TELunrxhbls4gTM7ixZYOtUtxVleaisUknIQoJIdQBO\n",
       "iPzLGHJOOxXFzJEOMIZwVlyNhHEHphsujMBRezUVWGBXjss+C2f7oWst9vvD687alNCykzudBrwp\n",
       "W2ye4wYKCshdLkYkWBB+AtNm/ZMxAL7qNm9bL+nZKI+JxQYsmfEmByk0wot+iKVnZraddWsae07e\n",
       "ATg6MUssZCscSUoIxFHj76+m9KMydK1g4HJTfkyei0a/kgK1FImJhyPhc0KgcnCsWW/cDoxaAEzJ\n",
       "0xRcREeX5KHa/Nw6nLLaXq2W6qyoBUyw0/R3WaDLmXDArwkTKDdAHQXSth6v082wSqqcmsBejE4f\n",
       "lr1u714gYy8MN9PpZsY8ptR8MdzN0/UjYa7eRYt3L+v6T4DGm4dtwQlWSnE8f0KRFPV+YaorAAAA\n",
       "AElFTkSuQmCC\n",
       "\" style=\"display:inline;vertical-align:middle;\" /></a> <a class=\"ProveItLink\" href=\"../__pv_it/demonstrations/bcc737044434ce09e383785accae527c0ea7d8750/proof.ipynb\" style=\"text-decoration: none\">&nbsp;&#x22A2;&nbsp;&nbsp;</a><a class=\"ProveItLink\" href=\"../__pv_it/demonstrations/8f2830e7ceab1d5f7d5b1ea6c1fcbc28daef5a210/expr.ipynb\"><img src=\"data:image/png;base64,iVBORw0KGgoAAAANSUhEUgAAAIQAAAAVBAMAAAB1UFtyAAAAMFBMVEX////MzMxUVFREREQiIiK6\n",
       "uroQEBCYmJhmZmYyMjLu7u52dnaqqqqIiIjc3NwAAACFAiZ1AAAAAXRSTlMAQObYZgAAAAlwSFlz\n",
       "AAAOxAAADsQBlSsOGwAAAiJJREFUOMt1lM9r1FAQx7/7I7vxZRMW9KQHFzx5EBbBS2VLV3oUWahU\n",
       "PEj34kFRCHhRQQ3SIq2IexFBFEK91EMhtV6kKHsQL6LkIhS3QkBhRT3U/8BvsiakL2Mgj5eZD983\n",
       "M28mACIUH8nm4H9Geyh4Lgi2HUnCCLl8kDyCbiOQwFhYDUTPk4Llhchhnw/TTT/Wt7a+ZJ7rBfYe\n",
       "RLDuoZZltUJnL/2q+bpEXwZxGefT7RxvQZ3I4nP1ug1kEI9xn2tptjlG6y2wZvlqO8QqYLU0CTOu\n",
       "5oGu4+bBMmN9SREeOep4dmRFylOB1ejjDlNMDl2cjZ9TWVjPNreRguYExA2c5voTFsrAxg+g9dsc\n",
       "4AivcEaLosprdnwEGTgmeJSOd7gY+9UKRWAy+MCvhbjK3HY1iVpSwDVfB3F4IvGLZq4bgIcFv/SH\n",
       "1etLEk6wB3QIYh5PJ13qm/TbPXqWYffTRPK1GCZ9r5CBi6jvJol0uJ5jasbwEPDZGOI4Koyz3tai\n",
       "qHAYDJeVyIPtm8A13glKJzuvmlhikDYH5i4WWHwz1CTiW96/OeoiB8573D7AWXrx/hGPiTtmClh9\n",
       "85C7qj7uBjMLGpd6efDTsSZwBtVmCt06WBolm9d8vxdmpIsCmPwwZuIx+feojztsNnOgruwZquLg\n",
       "TcC0a5n1tNZCYZkJOu2CRCUSh/0b3+fan+XrUswXBhWqLUpMxcm4guO2YBtLCvUIfwF0sZ14yLjN\n",
       "KAAAAABJRU5ErkJggg==\n",
       "\" style=\"display:inline;vertical-align:middle;\" /></a></span><br>"
      ],
      "text/plain": [
       "equality_04: {z != 0(Real^{3}), x in Real^{3}, (x otimes y otimes z) = (x otimes u otimes z), y in Real^{3}, z in Real^{3}, u in Real^{3}, x != 0(Real^{3})} |- (z otimes y) = (z otimes u)"
      ]
     },
     "execution_count": 71,
     "metadata": {},
     "output_type": "execute_result"
    }
   ],
   "source": [
    "equality_04 = TensorProd.insert_vec_on_both_sides_of_equals(\n",
    "    equality_03, 0, z)"
   ]
  },
  {
   "cell_type": "markdown",
   "metadata": {},
   "source": [
    "In the furture, we could have `CartExp` and other vector space expression classes implement `left_tensor_prod_both_sides_of_equals` (and `right_tensor_prod_both_sides_of_equals`) so then the above would be implemented via `equality.left_tensor_prod_both_sides(z)` insead."
   ]
  },
  {
   "cell_type": "code",
   "execution_count": 72,
   "metadata": {},
   "outputs": [],
   "source": [
    "#equality_04 = equality_03.left_tensor_prod_both_sides(z)"
   ]
  },
  {
   "cell_type": "markdown",
   "metadata": {},
   "source": [
    "Now that we have tensor products on both sides, we can call `insert_vec_on_both_sides` in the equality."
   ]
  },
  {
   "cell_type": "code",
   "execution_count": 73,
   "metadata": {},
   "outputs": [
    {
     "data": {
      "text/html": [
       "<strong id=\"equality_05\">equality_05:</strong> <span style=\"font-size:20px;\"><a class=\"ProveItLink\" href=\"../__pv_it/demonstrations/769e0b3d258582c2a335e8a4f1aca5c146bca41a0/expr.ipynb\"><img src=\"data:image/png;base64,iVBORw0KGgoAAAANSUhEUgAAAFcAAAAZCAMAAABzREJCAAAAPFBMVEX///8NDQ0WFhYLCwsYGBgQ\n",
       "EBCqqqpUVFS6urru7u5mZmZERER2dnaIiIgyMjKYmJjc3NwiIiLMzMwAAABdH26fAAAAAXRSTlMA\n",
       "QObYZgAAAAlwSFlzAAAOxAAADsQBlSsOGwAAAc1JREFUSMe1VdmShCAMZA+QOwT+/1+XBJ1BHLBm\n",
       "qtYHrTLa6XQ6QYg3Lyf+59r0JJAChC2/jWewXWVGePNCBPkp3bDNIrly9fFT3KPQ9DKKMA2dazMz\n",
       "2koASudKrHc4XsZADx1uyfVaeh/sQUV5ukeRqip6A7enNy7sSW881bU3KupdAzZxt1zy/MiH6Lnw\n",
       "H9Gs6XY9AmTOrQALPW6touYxskKmwhGwa7pdBxznUIWZSDHgUjqsIZCNqVwR1r2lClPQhaTT8YS7\n",
       "GUNfZh/CtjOJTDsjZpFgxI0dXXPg0lfW97jZqThayzOlGLwLT0lsG6zfH7rvnFPxrS/hwYZxZcSC\n",
       "4VI1UEWJXnuxovvEpQeqJ18A82LGFO5l2ktKfeqpabia+Urd6eAMXOcgl8bmylYMmjV9FffthJut\n",
       "uMgrtHwMnjnr+/3VVD484di5wD6Lqu+bzcm91EFzG4Y9NY4MMAPLWrrQ4xonYPQSOPJJdYPH80ZW\n",
       "l4mhZvFMHS6i/cDGrajjsreBnaBk1Gu6FZNs35JrbJPN+yyRRrGcVw1OdqXyywHHm+Mm4SRws5Bu\n",
       "9sqxl67/+bsFujwT0uwIRHN3iC5Pe2duDrEFJVioRMX8AXgzFTmdCTbuAAAAAElFTkSuQmCC\n",
       "\" style=\"display:inline;vertical-align:middle;\" /></a>, <a class=\"ProveItLink\" href=\"../__pv_it/demonstrations/dde1d4f2078c26e6f5a3cdac6b6317d93bb148b10/expr.ipynb\"><img src=\"data:image/png;base64,iVBORw0KGgoAAAANSUhEUgAAADwAAAAUBAMAAAAjLUMaAAAAMFBMVEX///8QEBC6uroyMjJERETc\n",
       "3NyYmJgiIiJmZmaqqqp2dnbMzMxUVFSIiIju7u4AAAAoIwv1AAAAAXRSTlMAQObYZgAAAAlwSFlz\n",
       "AAAOxAAADsQBlSsOGwAAAQBJREFUKM9jYMAJWK/d2YBbloFnAa8AHmnuDVwGDPgAewIWQbZCl8+F\n",
       "bkAGry1WTcysB5iO+QEZTy5gk2ZhXcDgsAdk+29c0q3MDA83sH5DFuZ1Ly+GS7MwsD9gk0OSZbJ9\n",
       "gNB97g0D99o7AQwMb++8XjUBJBr8AGE4t6cplNPAe5ajAMQwRdgtXF8LVcsWwPuVB+x9A4T0sjwY\n",
       "h5uBBcLkFi8vLy+BGu6XC3cSP8TzfA5IHtvBHADj6QfwgS0qQJLm2ApV/EThPAMXmHUXSZrPIQ3C\n",
       "nr+vkUETEtQTYGHOd4AhjUcBzH5xl7MNIs53RA8eYwEszj/Rw5ppCSRQkQAAJb9CckuUpZkAAAAA\n",
       "SUVORK5CYII=\n",
       "\" style=\"display:inline;vertical-align:middle;\" /></a>, <a class=\"ProveItLink\" href=\"../__pv_it/demonstrations/c42c5a8e190d3533a51d4c15a28a8e4bd754f49f0/expr.ipynb\"><img src=\"data:image/png;base64,iVBORw0KGgoAAAANSUhEUgAAALwAAAAVBAMAAAAOdJm+AAAAMFBMVEX////MzMxUVFREREQiIiK6\n",
       "uroQEBCYmJhmZmYyMjLu7u52dnaqqqqIiIjc3NwAAACFAiZ1AAAAAXRSTlMAQObYZgAAAAlwSFlz\n",
       "AAAOxAAADsQBlSsOGwAAAtVJREFUOMuNVU9o01Ac/poubfbSxIKeNtSAB2EiDsWDA0cnHkUGiihu\n",
       "tBdBRSHgRUFnkM0xZdibIApxXuqfQedOWjd6EBGHmA0Gw7YaVFCY4HYVHP5eXeLyEkhzSN7v9ft+\n",
       "7/e+93tfAbiIe6IQeizrH0SrxuIGI+bq8ellh15z8biICjLleBovgRVbwN0LzTxugYV2G4rpR5OV\n",
       "ykc/YLXKjO0Fl0PM0WhgMEpbSP2X6hat0O9FJ22wRS9I2WL6AiKBQnQep/zxMWoQtt9bq5dej7zF\n",
       "2k3x1HxJg8BghLu4zVVZeFipwpgFSqrNlhxMQFJdMOslsKVPN6EaQnqFTpY1ujpf+cDJcaBLoOE5\n",
       "LQBY2m4lp7mqyyxWVjMFXMcnzKKEp8CD6SUSsVns8GH+HPK2o2DBGfaB1hukVwQaruAIkV1tTTIl\n",
       "YOoHYPxUitgBA+o2CxJ0G1RoJidU30atOoTP7k4PqJtjkIoCDa9xBkggSdWpVA9pULZTDi7yH280\n",
       "51CiY02sCOlTJG8WB2i0DmTEIWKQhu08PbDJ4XvF8hQJhbydWKWPXsnyOZ1XIRci0gN/uLDrQPk3\n",
       "fmUFGk7gPv/kXWYrNKX1E2AMWoE+y1jkuEEwT5yN2vN7LK/hiQ9UcnRiAo3EOcgbaQ/tR652Aoty\n",
       "FXuRNDCQKEPrH4BskpJIdwvVJx3qYWmFxPCAxNmXtoM0XKLewYeOmxgARmg/2hwXL29COc09o4zN\n",
       "07U+Es4R0lOnZlZLBSrGAyqGfFYVaBjHcTqFRmaUNpvk16oHmJi5Q6Pm/aDzz5wjmdtES5ZzYOPO\n",
       "26vwgWxX/cu8QMNRtGV9zrWORK05eMH9Yt7e6rvit5Dn9PmjADAY6TluO74dva9TNylFdoFHzxrv\n",
       "IgwswuQ2AoMRt8te8cY4kujlencofdJtwZC/cqXEP4rGSChXyDDBultI38NLM2NhQxFz3+Ozp138\n",
       "BWOe8gd1UVv2AAAAAElFTkSuQmCC\n",
       "\" style=\"display:inline;vertical-align:middle;\" /></a>, <a class=\"ProveItLink\" href=\"../__pv_it/demonstrations/c7c7b48f57deafb1d4972830b299b289ce6f8f9f0/expr.ipynb\"><img src=\"data:image/png;base64,iVBORw0KGgoAAAANSUhEUgAAADwAAAAXBAMAAACluTG0AAAAMFBMVEX///8iIiLMzMy6urpEREQy\n",
       "MjLc3NyYmJgQEBCqqqp2dnZUVFRmZmaIiIju7u4AAACJ/BCYAAAAAXRSTlMAQObYZgAAAAlwSFlz\n",
       "AAAOxAAADsQBlSsOGwAAAQ1JREFUKM9jYMAJ2K7fVsAty8C9gLcBjzSTAlcAAz7AWIBFkF3C5auE\n",
       "O5DBG4tVEyvbBubtfkDGkwvYpFnYFjA4aINs/4RL+hgrwwsFtu/IwlcEBQPg0iwMjA/Y+5BkTe8h\n",
       "6d73moFp7e0EBr47FxhegwMpDslwJs8wCJuLs4GhHuzeBIR0q7zsAwg7kyeAYQtYGslpy+tg4fWA\n",
       "4wJDL4ihIQgEDlDD/Wphau0fQLz3BNljOnCrjjJAIoYRWZpHzQHK8WZg2QCieS8gSfM5lEM5pxns\n",
       "IRETCQ9zvg0M5dwGEM7rtech9rx2fgCPsQQW158w1UuhtJWjIEb88wTwdeJLERe4F+CR5rx7GI8s\n",
       "AJehQg5xLz5NAAAAAElFTkSuQmCC\n",
       "\" style=\"display:inline;vertical-align:middle;\" /></a>, <a class=\"ProveItLink\" href=\"../__pv_it/demonstrations/d89738c341c6afefcd7635c7e63883c5f26a85090/expr.ipynb\"><img src=\"data:image/png;base64,iVBORw0KGgoAAAANSUhEUgAAADsAAAAUBAMAAADB8VhjAAAAMFBMVEX///8QEBCqqqpUVFS6urru\n",
       "7u5mZmZERER2dnaIiIgyMjKYmJjc3NwiIiLMzMwAAAC+/aJUAAAAAXRSTlMAQObYZgAAAAlwSFlz\n",
       "AAAOxAAADsQBlSsOGwAAAPZJREFUKM9jYMAJTu60Y8ADLBgm4pN+x9DFgBfcxia4V7x+rfgGIGPW\n",
       "BKyaFhxmcN4ewMDAWolVuuAEAzufAZDx/gEOabYDC1jlGM5vQBLlrL17CyFdwHCVYWMAQpZlZQBC\n",
       "N3OoAcOLmTZADt/dB6dBgqcCkAx/rnUAyuGaUZkAotcg7D649u9UGOcoAwfEO0hO2x2FsJQ1FUTy\n",
       "yd69e/c6VJo9GhEiJyCKCpB08yXArWKZwAB21AVkf+cdh3G8GRhAIcQwE1k6nBsaInwVlb3gsONS\n",
       "gId5MAP3BhMIm4NBcQnEcnNXeIytYShfr4AW1Czt0EBFAgBwE0sSXhusiwAAAABJRU5ErkJggg==\n",
       "\" style=\"display:inline;vertical-align:middle;\" /></a>, <a class=\"ProveItLink\" href=\"../__pv_it/demonstrations/450d061e49bf30dd5672dc1e223676b3db2d02890/expr.ipynb\"><img src=\"data:image/png;base64,iVBORw0KGgoAAAANSUhEUgAAADwAAAAUBAMAAAAjLUMaAAAAMFBMVEX///92dnZEREQiIiLMzMy6\n",
       "uroyMjLc3NyYmJgQEBCqqqpUVFRmZmaIiIju7u4AAADo9lGYAAAAAXRSTlMAQObYZgAAAAlwSFlz\n",
       "AAAOxAAADsQBlSsOGwAAAQNJREFUKM9jYMAJ2G/cdsAty8AtwDsBjzSLA2MCAz7A3IBFkMNS6Zul\n",
       "BpDBm4tVExv7BtYdekDGowvYpJnYBRgUvEG2f8ElfZyN4aUD+w9kYV5lYzO4NBMD8wOOeUiyrLkP\n",
       "ELr3vWZgkb1dwMB35wIDN1i87AHCcBatdAibh2sCQz+YlY6we5q9LVRtBU8CwzYwKwEhLdEH4zzg\n",
       "vMAwFxyGk42NjY2ghuv1wtTGP2AHe49PAcljPmwFUM5hBo4PYIYBkjSPO0yxNgOTQh+IcRdJmk+h\n",
       "A8o5zRB5QAAc1AtgYc63gaGDOwDCeS27fC84VfBtioPHWAGT2i/0sGYVggQqEgAA4cY5AzvnUIsA\n",
       "AAAASUVORK5CYII=\n",
       "\" style=\"display:inline;vertical-align:middle;\" /></a>, <a class=\"ProveItLink\" href=\"../__pv_it/demonstrations/280417f68c20018a600b5ad4e59d1a63aea125150/expr.ipynb\"><img src=\"data:image/png;base64,iVBORw0KGgoAAAANSUhEUgAAAFgAAAAZCAMAAACCTxnPAAAAPFBMVEX///8NDQ0WFhYLCwsYGBgQ\n",
       "EBC6uroyMjJERETc3NyYmJgiIiJmZmaqqqp2dnbMzMxUVFSIiIju7u4AAADLwcc+AAAAAXRSTlMA\n",
       "QObYZgAAAAlwSFlzAAAOxAAADsQBlSsOGwAAAdlJREFUSMe1VtmOwyAMZI9wmNv8/7+uDaQloSFq\n",
       "pc0DSLiMx+ODCvHmp8U/fUleGEyGnOL7gGjbV64opyBE3j4mnNOVJRLboD4G3mM1L60Wrm3H8PCK\n",
       "uBdgN62LohX2Q5XrLvMtvYOeIWTXyfjAqxKGhJEJdPePOu9ub0prTLLynMGKjKpXngl1i7vwsbQb\n",
       "CteEx0SBraxrDA5GYAqDHOFGmKY0C7g14TELunrxhbls4gTM7ixZYOtUtxVleaisUknIQoJIdQBO\n",
       "iPzLGHJOOxXFzJEOMIZwVlyNhHEHphsujMBRezUVWGBXjss+C2f7oWst9vvD687alNCykzudBrwp\n",
       "W2ye4wYKCshdLkYkWBB+AtNm/ZMxAL7qNm9bL+nZKI+JxQYsmfEmByk0wot+iKVnZraddWsae07e\n",
       "ATg6MUssZCscSUoIxFHj76+m9KMydK1g4HJTfkyei0a/kgK1FImJhyPhc0KgcnCsWW/cDoxaAEzJ\n",
       "0xRcREeX5KHa/Nw6nLLaXq2W6qyoBUyw0/R3WaDLmXDArwkTKDdAHQXSth6v082wSqqcmsBejE4f\n",
       "lr1u714gYy8MN9PpZsY8ptR8MdzN0/UjYa7eRYt3L+v6T4DGm4dtwQlWSnE8f0KRFPV+YaorAAAA\n",
       "AElFTkSuQmCC\n",
       "\" style=\"display:inline;vertical-align:middle;\" /></a> <a class=\"ProveItLink\" href=\"../__pv_it/demonstrations/02db5af40e0f479589da352ba18b649049c167b80/proof.ipynb\" style=\"text-decoration: none\">&nbsp;&#x22A2;&nbsp;&nbsp;</a><a class=\"ProveItLink\" href=\"../__pv_it/demonstrations/d54611d5587d92fa3bd1400a6059af6ac72a46dd0/expr.ipynb\"><img src=\"data:image/png;base64,iVBORw0KGgoAAAANSUhEUgAAALwAAAAVBAMAAAAOdJm+AAAAMFBMVEX////MzMxUVFREREQiIiK6\n",
       "uroQEBCYmJhmZmYyMjLu7u52dnaqqqqIiIjc3NwAAACFAiZ1AAAAAXRSTlMAQObYZgAAAAlwSFlz\n",
       "AAAOxAAADsQBlSsOGwAAAuFJREFUOMuNVc9r01Ac/6Rd2+yliQU9bagFD6IwLMIOTjY22VGkoEzF\n",
       "yXrxoCgUvKjoDLI5nAx7EUEU4napPwaZ86J1owcRcahxUBh21YDCxHnY/gCH35fysi4JpDm85PPe\n",
       "5/PNN5/3fd8AsBF2BTG0UFWdopZDeWcD5pbDw8csGhbCeQEZJM1wGU+BFZrgPfTNPG1ChVYDcl6A\n",
       "6VLpm7vCqqU5w0VXfMoxBMq2ooSOuOvUOC1mBTplgFVcXtzwhs8Fy7YiXMBp8Xic6oN1CloPDVMu\n",
       "rzXv3bVCoMyD8AB3aZT6UytIzwNFxWBLFiYRUWww/Q1YbX/7W0BJe8LLfGd39Gn5RlnEEAjTi09K\n",
       "VA8v6QWUXLVbV23FZjozlWQON/Ed8yjiOWQsWiNkopPsSD+/jrif83h2CUImOzKBoKsdci9wFUeJ\n",
       "9wcKIsDMbyD9Vy5gD9JQduk0N4wf9l4qw15P9i2UmmbAdGUrJNvnooStbkQog3c459TJOL0AMllg\n",
       "GnELl0iHW+QJUjjE16U1T/i4sy1FwyMTSELU+d7d9fCrNE3jDKBjyJDW6aaVUnwO/5ydzAWF18wt\n",
       "Mm19E2EbP7EYwKP66TVkYqtZWrkDNUe3VVQ4O7aBZ8KcRu/LTq9gcGUjSKxtIgzZzODmdBPvJNkV\n",
       "K7cDlVgZBxFNY1AyoWYHWWdkjRuVyHiyj1JysTx53SjLXBNoKnuAG4XLVDuQDne/SmGUwqgL3POh\n",
       "POQzvGWYyfVijqSQLU94XqnbZ6t9aJAN6KZAX9puY5BoEzjBd/D9fUqIn4guYHLuHj05x8pgE9aH\n",
       "67xQvC05Rm6ZyfPZRtnnjpRAxVpyjNt3DC0pIbnRJlWdh9e8XXw1dm42xV++ntMHn8yPtF7edkQX\n",
       "+7RMuyEX2EWOXtQ+BjUwf5OrywIRb5c9ngNjRXytXMv4wkftJhryT+6w5z9RG/XH8jVMsEwT4bt4\n",
       "avlQ2nDA3Ep49ISN/y109DKrGhE7AAAAAElFTkSuQmCC\n",
       "\" style=\"display:inline;vertical-align:middle;\" /></a></span><br>"
      ],
      "text/plain": [
       "equality_05: {z != 0(Real^{3}), x in Real^{3}, (x otimes y otimes z) = (x otimes u otimes z), y in Real^{3}, z in Real^{3}, u in Real^{3}, x != 0(Real^{3})} |- (z otimes y otimes x) = (z otimes u otimes x)"
      ]
     },
     "execution_count": 73,
     "metadata": {},
     "output_type": "execute_result"
    }
   ],
   "source": [
    "equality_05 = equality_04.insert_vec_on_both_sides(2, x)"
   ]
  },
  {
   "cell_type": "markdown",
   "metadata": {},
   "source": [
    "### Related Testing: the `ExprTuple.range_expansion()` method\n",
    "\n",
    "Operating on an ExprTuple whose single entry is an ExprRange that represents a finite list of elements, the `ExprTuple.range_expansion()` method converts self to an ExprTuple with a finite listing of explicit arguments.\n",
    "\n",
    "For example, letting $\\text{expr_tuple_01} = (x_1,\\ldots,x_3)$ and then calling `expr_tuple_01.range_expansion()` deduces and returns\n",
    "\n",
    "$\\vdash ((x_1,\\ldots,x_3) = (x_1, x_2, x_3))$\n",
    "\n",
    "The reason for including this here in the demonstrations notebook for the linear_algebra package is that the method can be utilized to convert something like\n",
    "\n",
    "$x_1 \\otimes \\ldots \\otimes x_3$\n",
    "\n",
    "to the more explicit\n",
    "\n",
    "$x_1 \\otimes x_2 \\otimes x_3$"
   ]
  },
  {
   "cell_type": "code",
   "execution_count": 74,
   "metadata": {},
   "outputs": [
    {
     "data": {
      "text/html": [
       "<strong id=\"example_expr_range\">example_expr_range:</strong> <a class=\"ProveItLink\" href=\"../__pv_it/demonstrations/53686fd91a45287eaa6d65fdb5b325de883712db0/expr.ipynb\"><img src=\"data:image/png;base64,iVBORw0KGgoAAAANSUhEUgAAAFgAAAANBAMAAADf+LRDAAAAMFBMVEX///8QEBC6uroyMjJERETc\n",
       "3NyYmJgiIiJmZmaqqqp2dnbMzMxUVFSIiIju7u4AAAAoIwv1AAAAAXRSTlMAQObYZgAAAAlwSFlz\n",
       "AAAOxAAADsQBlSsOGwAAANRJREFUKM9jYHh75/WqCQz4AJKKBt6zHAV4FSNUsAXwfuVJYHhmgFMt\n",
       "RAXrtTsbGLgZWIDquO/iNhyigmcBrwCQw38BSHDicwlIBfcGLpDl+gF8D/ArBqtgYE9geKJwnoEL\n",
       "avIDDGV8QAxVwWvLwDB/XyODJkQx32eg1HsDJAaYgKpgeHKB4cVdzrYJUJPLQZY1ABkVDFAGex0D\n",
       "TAUD92+YfWDFnJjumAdjPNzA+g1FMRem3xbAGOwP2OSgTNbFP4DB8xbTgxfgob32TgCKVAJm7KHw\n",
       "AKOMRPgjB6P3AAAAAElFTkSuQmCC\n",
       "\" style=\"display:inline;vertical-align:middle;\" /></a><br>"
      ],
      "text/plain": [
       "example_expr_range: x_{1}, ..x_{i}.., x_{3}"
      ]
     },
     "execution_count": 74,
     "metadata": {},
     "output_type": "execute_result"
    }
   ],
   "source": [
    "# create an example ExprRange\n",
    "example_expr_range = ExprRange(i, IndexedVar(x, i), one, three)"
   ]
  },
  {
   "cell_type": "code",
   "execution_count": 75,
   "metadata": {},
   "outputs": [
    {
     "data": {
      "text/html": [
       "<strong id=\"example_tensor_prod_over_range\">example_tensor_prod_over_range:</strong> <a class=\"ProveItLink\" href=\"../__pv_it/demonstrations/79d33d8a2757a3b99b2a57cccc16e64da56339250/expr.ipynb\"><img src=\"data:image/png;base64,iVBORw0KGgoAAAANSUhEUgAAAGgAAAAPBAMAAAD6w5dwAAAAMFBMVEX///8QEBC6uroyMjJERETc\n",
       "3NyYmJgiIiJmZmaqqqp2dnbMzMxUVFSIiIju7u4AAAAoIwv1AAAAAXRSTlMAQObYZgAAAAlwSFlz\n",
       "AAAOxAAADsQBlSsOGwAAAWxJREFUKM+Nkr9Kw1AUxj9Kk6a5uVefQDo4WBd9ARfBVe4onfoCgqNj\n",
       "dHASySyoAemSUsniIlj6AmIpWGhtJUKRqIiDKIKLJ/+kTVrwDJePc77fvSc5BxgL0XcaHrLx5jgP\n",
       "mBVLHkQnm84dEVeaweQ26Bhlq4uSmliffHvw6lihMnQJYV5koFYN8HVvzAmT32g7obpDDT5e0gyX\n",
       "uhSmsMecquSfRhVPq3Qj9EsTRhqiRH2LqpFT6Q5cMOTJz4Z0hQ0cAnoaooTWomrkNGw+T8m5Nh1F\n",
       "gkwojgstDVGiUg+qoZO5OqFYkcKLoQo60yDF5qUACp0oVOkX3wYNBFCZ2eClcmYS1hXQyVmxk68B\n",
       "Z809lCNIWyZLj74M79SB+IgF9inFjxMnRm34w+KBFUEIhxvsUYF6wW4i8sFwNxMn2E/SQwip9961\n",
       "PWVVtpusn+hHV/magPA8PJ22X+Kk97fHBU9diKVy/t3Gv4I1BvIXsiZyl9Q6YQ8AAAAASUVORK5C\n",
       "YII=\n",
       "\" style=\"display:inline;vertical-align:middle;\" /></a><br>"
      ],
      "text/plain": [
       "example_tensor_prod_over_range: x_{1} otimes ..x_{i}.. otimes x_{3}"
      ]
     },
     "execution_count": 75,
     "metadata": {},
     "output_type": "execute_result"
    }
   ],
   "source": [
    "# use the example ExprRange as the arg(s) for a TensorProd:\n",
    "example_tensor_prod_over_range = TensorProd(example_expr_range)"
   ]
  },
  {
   "cell_type": "code",
   "execution_count": 76,
   "metadata": {},
   "outputs": [
    {
     "data": {
      "text/html": [
       "<strong id=\"expr_range_eq_expr_tuple\">expr_range_eq_expr_tuple:</strong> <span style=\"font-size:20px;\"> <a class=\"ProveItLink\" href=\"../__pv_it/demonstrations/d4ce9fa7c656c5f0c384ff72133e26a8915475760/proof.ipynb\" style=\"text-decoration: none\">&nbsp;&#x22A2;&nbsp;&nbsp;</a><a class=\"ProveItLink\" href=\"../__pv_it/demonstrations/4917ba3c78a9bfcd913600f16adc3f728e1fd0e10/expr.ipynb\"><img src=\"data:image/png;base64,iVBORw0KGgoAAAANSUhEUgAAAOIAAAAVBAMAAACpqS9FAAAAMFBMVEX////MzMxUVFREREQiIiK6\n",
       "uroQEBCYmJhmZmYyMjLu7u52dnaqqqqIiIjc3NwAAACFAiZ1AAAAAXRSTlMAQObYZgAAAAlwSFlz\n",
       "AAAOxAAADsQBlSsOGwAAAh5JREFUSMeVVj1IHEEYfZr7c+5uPSFVBE3SCIoRCwsFg4UQERELCQhC\n",
       "TGGT6kAQBA1XiIIi2NlYrFgoAYmkEy0sLEQLDwtB8MgS6xDtTBHNN/vn7je7CzOwc9/75nvv7fww\n",
       "ewAsaDQjKmnp0YvHOo7pqprTULDp59BqN2rqXI8u1vUcG0ye0VIgeq6s55it8IyWAtEz0GxfeCKj\n",
       "SZ/QddzgiQlN+ir1e5dbh4nnTdTam4/c+AcfjFBgMEyXr1wpduYGkhxzuKwuuvGcnRi022tv0kyB\n",
       "wTB9hHbTKj7Wl7ETf+a+4qfVht8Lbyg+4YOqggPF4Vszij4N1OEFldbV4qdZQi/1HbiivpUPqgoO\n",
       "zMGbZ5g+LVON8iooJC3sP3qacED9xwhHRUHCxjHjPoq+KROfLGEmOqYf8Y1+PnirGtzHKAUJs6bv\n",
       "GKL3A9tjXcg7byhUM9oL0VN/h33gWk5khheoCi5EfsCGjE6H/eLVEiad+u+0/uIvAoHsCve7U2k6\n",
       "7YLEscYdVQUX4qVpQ0YfB3ZrheVjpz41TMkhelIVN8CgCbFWPZ2XcWsJGOWOqoILjT4HMnqq5DHt\n",
       "XThTVrXgXd3iM/6UYSi7HavwCy0B6NOfb2a7fl9xzPvRMGajbv44BaO7aSUo6NPfewUHD1UI9YO7\n",
       "50fNtXfArXq2YhQyT093QUGfvh16X1WPzalPrUhS4IKSbmh9ILMR/2k0FIj+H0L0wWTGKwu+AAAA\n",
       "AElFTkSuQmCC\n",
       "\" style=\"display:inline;vertical-align:middle;\" /></a></span><br>"
      ],
      "text/plain": [
       "expr_range_eq_expr_tuple: |- (x_{1}, ..x_{a}.., x_{3}) = (x_{1}, x_{2}, x_{3})"
      ]
     },
     "execution_count": 76,
     "metadata": {},
     "output_type": "execute_result"
    }
   ],
   "source": [
    "# find the ExprTuple equivalent to the (ExprTuple-wrapped) ExprRange:\n",
    "expr_range_eq_expr_tuple = ExprTuple(example_expr_range).range_expansion()"
   ]
  },
  {
   "cell_type": "code",
   "execution_count": 77,
   "metadata": {},
   "outputs": [
    {
     "data": {
      "text/html": [
       "<span style=\"font-size:20px;\"> <a class=\"ProveItLink\" href=\"../__pv_it/demonstrations/7402b5df7e0784fc41f175646e76ca71d745247e0/proof.ipynb\" style=\"text-decoration: none\">&nbsp;&#x22A2;&nbsp;&nbsp;</a><a class=\"ProveItLink\" href=\"../__pv_it/demonstrations/7992763be411e90ebe65c43e81396ebd3ba589be0/expr.ipynb\"><img src=\"data:image/png;base64,iVBORw0KGgoAAAANSUhEUgAAAIwAAAAuBAMAAAAIOuzoAAAAMFBMVEX////MzMxUVFREREQiIiK6\n",
       "uroQEBCYmJhmZmYyMjLu7u52dnaqqqqIiIjc3NwAAACFAiZ1AAAAAXRSTlMAQObYZgAAAAlwSFlz\n",
       "AAAOxAAADsQBlSsOGwAAAwRJREFUSMftlU9oE0EUxr9NE5NOuuv2Ji3aeBIq6qkHCy1FBKWIBBRR\n",
       "LFgPXnoxIAiKlSBRQSl486KwUtBiFdPipcaWHDyIRYyBKtpGF3oRitQeRD3Y+maTTXcm02y6Zwe6\n",
       "zHzz8nX+vDc/ADaCNEMa6/lANpGCOJ5FsLYgjNidgDbNlncUS4mu87lpS/Gjp7ncZ1GJpr2jLeLk\n",
       "SQtsTnESt8gpKWpD3sEpMbyXPqPJGptjdJ2sS9Tuege3+YqLD3Ll+wrFbbD0ixqbxAwwFrc8kcCk\n",
       "7JnW98T6nNEXzGAM47KLbsdtlmZZTyRwiX8yB3k7gCN0WLa+GkrhEd1ZAvEdaYRkGxImvtFsOdL4\n",
       "WDRJfOWNOAdoaCIHrUT/JgtcA+KyDQmxBM2WI0NZfZDEDskG2MpTsoVs0jByJmKyDQlLE3zWidTM\n",
       "OE+2E96Ie/xzxmZWxWYJcyobI6snuY0TiXDK3ZR7Nj38gvfxZXObAS0LPTlQkzb5dmAukq9E6ve5\n",
       "eMEbQdf2ru0GBso2sdO8WuiE8IzWzf5UOrhOkj7rRmKUH8KI1+Y4JUSp5Wa+bAMn/Xg1hHmuH3Y7\n",
       "TTz9ut1IaCv0Oeq1CZtuz7GJvre2ZxU1Ndymzbv9h6bxix6cPnWFOTZ4Unqjqmf2dqFasWErOlRT\n",
       "073uczb1u9DYE6FNF2mPi6I4GvC96ZYe1VQgl6iN/63RtumzMlTi5nEXUeVXANwtKLI8AO6aa0nm\n",
       "jzs/0jWGO1/SNYY7X9LVwR0rdba/FEnnkUTS1cFdDMVCRiTdulQhndDUuLuKr/YujE92VklXkb4P\n",
       "75RJVwd3JvbzVSJTJV1F2o0PMunq4u4v/f3EsrlOOkdqxZRMunq4i6ziMS47Ni7pHAk4pNyUEnes\n",
       "K/SDbxDPq6RzpU8FmXQb465lZWwwQimg9VdJ50qsRybdxrhjI4XXV6i3aFVJ50roMCXS+eLOSGi2\n",
       "SDp2FsspiXS+uFts3WaJpEM/LlpyOfvh7vzamhzdXtpbQ7qguOtWvaybxp2CdP8Aq3Yi/VELeioA\n",
       "AAAASUVORK5CYII=\n",
       "\" style=\"display:inline;vertical-align:middle;\" /></a></span>"
      ],
      "text/plain": [
       "|- (x_{1} otimes ..x_{_a}.. otimes x_{3}) =  \\\\ (x_{1} otimes x_{2} otimes x_{3})"
      ]
     },
     "execution_count": 77,
     "metadata": {},
     "output_type": "execute_result"
    }
   ],
   "source": [
    "# find the equivalent explicit tensor prod\n",
    "example_tensor_prod_over_range.inner_expr().operands.substitution(\n",
    "         expr_range_eq_expr_tuple)"
   ]
  },
  {
   "cell_type": "code",
   "execution_count": 78,
   "metadata": {},
   "outputs": [],
   "source": [
    "%end demonstrations"
   ]
  },
  {
   "cell_type": "code",
   "execution_count": null,
   "metadata": {},
   "outputs": [],
   "source": []
  }
 ],
 "metadata": {
  "kernelspec": {
   "display_name": "Python 3",
   "language": "python",
   "name": "python3"
  },
  "language_info": {
   "codemirror_mode": {
    "name": "ipython",
    "version": 3
   },
   "file_extension": ".py",
   "mimetype": "text/x-python",
   "name": "python",
   "nbconvert_exporter": "python",
   "pygments_lexer": "ipython3",
   "version": "3.7.4"
  }
 },
 "nbformat": 4,
 "nbformat_minor": 1
}