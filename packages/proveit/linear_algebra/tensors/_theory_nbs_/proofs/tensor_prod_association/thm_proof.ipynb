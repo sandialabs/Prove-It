{
 "cells": [
  {
   "cell_type": "markdown",
   "metadata": {},
   "source": [
    "Proof of <a class=\"ProveItLink\" href=\"../../../../../_theory_nbs_/theory.ipynb\">proveit</a>.<a class=\"ProveItLink\" href=\"../../../../_theory_nbs_/theory.ipynb\">linear_algebra</a>.<a class=\"ProveItLink\" href=\"../../theory.ipynb\">tensors</a>.<a class=\"ProveItLink\" href=\"../../theorems.ipynb#tensor_prod_association\">tensor_prod_association</a> theorem\n",
    "========"
   ]
  },
  {
   "cell_type": "code",
   "execution_count": 1,
   "metadata": {},
   "outputs": [],
   "source": [
    "import proveit\n",
    "theory = proveit.Theory() # the theorem's theory"
   ]
  },
  {
   "cell_type": "code",
   "execution_count": 2,
   "metadata": {},
   "outputs": [
    {
     "data": {
      "text/html": [
       "With these <a href=\"allowed_presumptions.txt\">allowed</a>/<a href=\"disallowed_presumptions.txt\">disallowed</a> theorem/theory presumptions (e.g., to avoid circular dependencies), we begin our proof of<br><strong id=\"tensor_prod_association\">tensor_prod_association:</strong> <a class=\"ProveItLink\" href=\"../../../__pv_it/theorems/ca47172843a25d86dc05023a74c9a1c236c138620/expr.ipynb\"><img src=\"data:image/png;base64,iVBORw0KGgoAAAANSUhEUgAAA3sAAABpCAMAAAC05crcAAAAOVBMVEX///8AAAAAAAAAAAAAAAAA\n",
       "AAAAAAAAAAAAAAAAAAAAAAAAAAAAAAAAAAAAAAAAAAAAAAAAAAAAAAACXHtMAAAAEnRSTlMAq1Rm\n",
       "mUTNIjK7EInv3XZAMHwHbARKAAAACXBIWXMAAA7EAAAOxAGVKw4bAAAUYElEQVR42u1d6YKzIBL0\n",
       "jArK7vr+D7tyCtgcKs5nZpofM4lpygYtOa2uqlem2nxq2goTpr+dxlWk+keQu15/+gxY9Zi+PC3y\n",
       "Dge/5TGEtlvqn+DeAXnURBwmvHKYvj3x27utV/BbHkOeaoEg5A+R/2mDVw7T7yDgGv72Ku61apj3\n",
       "wWuGCbn3o9yr5oWnmeI1w4Tc+1nudSP/OxG8ZpiQez/LvaHWfzD9cGoOl4Nhpfwl7okmj4q5z7Fb\n",
       "65ZPeS5uDzR0HDwHaNuqTm0zT2P6MFihoGk786ON+I1MXsc5+iN0irR9X68Tr6pxWXyaMMboeKrn\n",
       "LiecN8iOz3N95o73QpA6f4l7DTMzLY30s/fXN0LHwYc5aEtn2ch6N2fgMJRg00ksjdTC/9bnb/RH\n",
       "6CkUth9ZPQnWKUqyAeq6d2e6D0QZM1GwnhL5D7nzh7i3Ea9VD/HuA/d8QsehBNs2q7i1aJV1GOY0\n",
       "ZCrORhZ++xLY7dCPIddB+67TVGTyUh48lk+GM9zT2xomnonpR9UHB95/iXu00Rdc9RMPN1boOJRg\n",
       "22HlN1frnz9wGEqwqWg0qKjfI7uiPwIpaM+s/XYr/9yMwpJxM0ZZPVSfmtfhwDvbLaMd4S10K+kl\n",
       "DbQ9a1oq4JYdcKBkvxhInj/EvWFWj2uy9mD7FjoO9qQCtut2YDhuGQ0chhJoynu4zdhvbeLYg93f\n",
       "4I+B7rJt36m9PsTe89Mtalj22VjStRXdPne0GpZ1EVQTlcy2FrTeHj/z9lkZKHveqRx45Qwfc1Ha\n",
       "ea+tBkd8f4l7VT26QzX+dbBWHazjfcO6Pme4J1curI5trdrCwVnO0IeTuBbCdgsTu0hsaxNHRXYH\n",
       "3fsxeQ4fTPOgb732d2y4Mf9lIrxOByKHhPzxMIre52Y0bD9MbaUNlP24do0c2U26E0sHNZa1D2P6\n",
       "G9wDhmpjsxDo+MxbtvPDPdFcMOID74eTuLup38zyU61NK35y0b0fk+fw7HmrJi/fZxKp0TMy/BHQ\n",
       "zmJvbK8Q5elXzb25FX3NhVXaQNlv5FpF16CprQmefVJ1RO79Te6J20FNM9jc248P+ubKwGgos6ug\n",
       "VyMZh3v6cBLXQmhbq18mJ+hXTRMX3f0xfQ4P7DMMYkTnLh30kqHjqppBYs2yLFa7t2woEyPaQNmP\n",
       "hHPZIpkYP7KVYJ/zT3Ov50MZQu2bWHxzjldiql18g/5Yto24j1S+ra9VHYDtwwnc3XQYyGc/Ootb\n",
       "eDHbUR10/8fgOWD7dWjkUM/d9bPM4uvWn+TPmImKf6It41sURk4jNm2N6PZ/YcZA2Ys6mfa5FnVN\n",
       "TMPHcHn9T3Jv6wdR5jYg49x4x+Vsuzg+zoP7x7MVq+DyqNUg2cDW4RSuZdrSHUDMIKq/B3T/x+A5\n",
       "QPtxrdUZB2fpXzdNlAqiyH9dT7ckcrXbuJKzqGvb8cOMnfzfdKyl4gQT/8umlc9xNvOqyDfha5R/\n",
       "k3vO013dd96c93anMOg4cIws8kCTA3wCt6r7oGXI7eQ5gEOMDguRNUYoH+9lTZamus57LwNasiE4\n",
       "3Pvz3BvZLFeaend647Ou6wIcr6Bjk5gbcY8GgE/hLlXIMuR28hyQfTdUtG3OV3KuZTfkHcP019o9\n",
       "7fqJ4+0ZhPYiLmtUn6+94nbox2JiNUO9Zm8LowfCP6FWgNz7Vu69LjX175kJJMkDmJB7mDAh95B7\n",
       "/yKNrMU3DJB7yL1/QL3a2SCHCbmH3PuhNI1YB8g95N6/SHzVEOdBkHvIvZ9PPRcVxmpA7iH3MGFC\n",
       "7mHChNy7g/xc+BVMmJ4Yf8einHwb954Kv4IJ0xNNWyzKybdxDzujmL67b/l7uIcxMTEh9/4N9zAm\n",
       "Jibk3r/hHsbExITc+0fjPYyJienvce8/638fcjaIDHAPY2Ji+lLu/W8Nf/sK7mFMTEx/j3svWWPA\n",
       "mJiYcLz3b7jnxsRszvvkCk3eBoDSWVBWMvvNkxcvTnPptimPUaJkWci/l3tWTMy0hg8Y8dLWVUnu\n",
       "mYEQUsIsCVAAsvOzj5/gPC4QbfNQonD2RO5gcS4jJiojGNizNMaFCxWJOtoV4V72arUmQvnl7XPc\n",
       "s2JiktBOTxMSEop4aQlQBgGiCIlAkCHQCKSNKLPXNJj9GG3zWKJD9rzckeJcRExWRiiwZ2GMMxcq\n",
       "DRxFzude9mq1JkL55e2Te8qsmJiB59YeEhIMgbLHcQzG/4kjxANBBkCjkBaizD6PwexAtM1Difzs\n",
       "mbkjxbmImFcZUGDPshgnLlQOcAw5n3vZq9WaCOWXt09yz4qJKR9ftGXUNrRCQoIRL/e1QRXn8SxC\n",
       "fHERBo1DWoiLLDljNYE9AqJt+iXys+fmDhfnKqKOpElZy8DcwcCeZTEiF8rDzQKOIZ8Y7+WuVhsi\n",
       "FF/ePsk9ExNThmkky+AaWvrlcMRLE1NHxXk8jRANygODJiB3RJmdLaRiHegRFG3TL5GXPTd3pDgX\n",
       "EXUkzaW3Rent3MFAoEUxIiXTuFBE0VDU0SjyCe7lrlabG6n48vbZ9xh0TEwZj7HrdLABFWDSCgkJ\n",
       "R800cRzVB4Ogo1DCCHuMymggSB9UKokFnNIqYzui/MSDA/GQXNppJ8zlMV6nXyKVHSgPFNYzpzja\n",
       "IRXgE/bHRP881PD2j4zQFQpHCQ1gQGUKBhPNulDKNyiiaCjqaBT5zDxn5mr1ToTSy9tX3yGSYRrn\n",
       "rZoZ/6QDTFohIeGomSaOo4rzaBB0FEoYYY9RGQ0E6YOqqgYh95JOXqFGETLQOO2EuTzG6zyUSGYH\n",
       "ygOF9cwqzqhjGIb9AYpjVQZ8hcJRQgMYUJmCwURzL5QoBRBRNBR1NIp8hnuZq9U7EZwMxKbH+KPc\n",
       "E+UXsYunlnBvVKAta5IZjJppnl6yAncEHYUSRthjVEa7Mj6oDLUJQ5ownDuizM4vjIj/pZx2wlwe\n",
       "43V6JdLZgfJAYT0zimMcUgE+YX9M9M+DP/o6Hq5QOEpoAAMsUyiYaFbJ9FAKiigaiDpaqs/prlb3\n",
       "tTzdZ+6CRHAy2EFcq2XUaz7+6uOwdHxRrp3rctyTg2Uepm7t25171mMEiJpZyTiO8qAcbVsIMgpl\n",
       "CEH9KgNBBkNVeqAqRgoIqeOnWIgy++ZrO9lOu/HaO+8+9Utksh/KcwzrmVcchagCfMKI5seDP59e\n",
       "zS0drlAoSmgEAygTHEw0r2QaF4woGoo6GosFempt3V6tllM7VX+MRUNac8jJAKa599dKthaeY3ZA\n",
       "82ohn+OeCMjYd23DaGtdNisk5DFqpsomo0rKiI4WgppdDiDouWeRLRiq0geVWDDkdEBUHzvmNtZO\n",
       "mEsvXuexRCb7sTyHsJ55xTGISoMeRmwp7M/QtS0j4BUKRAmNYABlgoOJ5pVM4cIRRUNRR2OxQEPc\n",
       "c6ej1DdrtXoD5Q0T66NEcDKAp1kPayVNy/huAFqwz3lY4dSXDQ4JaX6VT64GADBRKEEE/aueCQuE\n",
       "qvRAdahNCNL8NoWym9sa9Ej9GixRtDzXiqMCfML+qB/DNRy/QvfLdL1kORFFd5tYLNBze8r21WoR\n",
       "436gJEEEk6G3phMI63Qht+7JwKizVtKMTT+wstxzQzKaAJMwlvlVZpJRJd2YjiYKJZjMrypTMFSl\n",
       "FyhyYuGhtPrNQbSyZxYpVKJoeS4WZ8lYMQv5Ey9OgTLdKFlORNHdJhYL9Bz39tVqfru3M0sRQWcg\n",
       "rFr37QdVoxvDmm0d461ttx4Pzbg9jpq+LPcqev59BrWJr70LEAlVeRbUQ7yYvczJo8UxAT6htEf/\n",
       "vFvDZTEKXigfuQD3hn0GhK10oHOKCDrDQBrzDCKkovrCzKwRk572qhafpK7YVJZ7F6IRkMIABbwi\n",
       "RbOT54oTDfBpfrxdw89glLl90tlOvsdQm9Gl2D06J1snk2FydiW2erinhnnWWgnnHqHgMPEq9zAK\n",
       "DyY9hH/R+5yX3yFaW9H4kUwikJVYBDA7XyY+kT44ayWce3zHQTnu1agSiEnfKQv5eu6pux1q+OAX\n",
       "ej588lKtf/EFTfGxZltliGmV/Xkku8isLsa9Or6vBiUEvzVdunLN8u3cY9PKh5/NvNLMdq9mZhlG\n",
       "EEt85IsfdSs3UY76wSTfOCrGvTa+nZShjtm3pp5dyUXrL+detFmPNULNPtxzb/rIQs4t7g1zfKvn\n",
       "u7WUyDQv902Kn/MliV0aTCzt3+ReT6pPL/fQ9ec73le4t0QfjuT1EoKfroRJ8XO+pHKuDN6amfxJ\n",
       "7m2PnI7J7WIXnj4XuNfOUcQu6gWjW2KJK5VldMbctVibJEaGyTmvrgFmnLJ0XbXdNz9a2l8ehyjx\n",
       "AlOMmSNT2wL6u0ZnzD2L/jiT7GNkmJzz6hJgximL19V2/a40Yf1Lolb9cu6BiyBW9yPS5Rz1LlgS\n",
       "GYVmGZ0x9y3oksTIMDnn1RXAjFMWr6tqXyg+2fDVyL3nubfEa7nTreJQUza4I8OukiIqpFM7igCb\n",
       "o1E8pTF9i0/NWN1EMTJMznmVA0gZc/S40ha36+qIeHXSslkJcu9p7o1rfEeLfmz2fDJ0cq4IXxLh\n",
       "F5/oZUnA5miUGL/EMMW+d9+CrB8iX68NYmSYnPPKARxBwGFpbE2SHIvbdXVErJwFpG6xUpySZGXI\n",
       "vae5V8dnWqpFPt3J3IqLJz6ryymuHh2HTn2xbAiltXw/yzdKpAimerfYt5BPaL5nPeTXbmLcuunV\n",
       "fs5KveR8ABQCalGvtEWxutrPab9v3cyXbqRpQe6V4l4oSMqcuMbqzd1OFE9c3JExRQX5S62/WDad\n",
       "IYxvlEgRzJCFuLVXGvZrNzFu3fVKA0b81lIp4doiuudYrK6Id9XkHXHxrn/DbMv/fnO7N65tFvdm\n",
       "qeciv6hNR+J5O1A6qi+WDf8ziN6sb5QcwgQxAxaCl72Y8w/4tZsYt256ZZ0z5neVrK2qeF3Jsbl1\n",
       "M/bX2j2yvmF9/Vf3OVnKE9nnlN1/XUbrbuLq5WKGu3NsuHLFfj9ZRjn3UwBTvVvsAwoGyEc+7Jdl\n",
       "Yty655V1Tv2SM+h3urbK15WE1O9bV87uzBPjvXSHCLl3l3tT6qkoX2wi4m6rPzLajLqcY6Nertgu\n",
       "ft94Nnoe3jNK+h/E1O8W+4D8rpWjwoBfjoly655XFqB+yflgIc/Wh72yLMrUlYWo37dWPPzeAd+v\n",
       "5t6cujJqippTsFk6+TTWj1KmX51nYs+nY2NeRfGM5LRj5X3aDwUxzbvFngV//Wnqqohftol2655X\n",
       "BnB/ydmzkLONojsY8MqyyKkrwL0won7fWjR2F7fj0hW59yj3yJrq2owqUEPN6DjUbHS6MWZtV8zT\n",
       "OTa7dLVrJPqx5qTm034ojKnfLfYtqN72FvDLNjFu3fTKAJpFGA+QUiUFFvRqt8iqK8C9EKJ531pY\n",
       "91dv+x659yT3xvQyznJc/9uHEC0nxQhslucT38OQMArUa8B8f7c4ZJH2y3KrkFe7Vu1lr4rXlXnf\n",
       "moMvl+8khtx7knvNmhxWAJtxreE7aRhrjlsghmkcR6MfGjAKTrHB5vLd4qhFyi/HrTJe2SFFrnlV\n",
       "vq72961TW+GjE50dcu9J7rVrWqfFly4d6GeliWfivPJUtmjy3eJwyvDrAbdYYjow7VV5p/b3re8E\n",
       "l1tr5N6T3GMZjpCpwhRMn3cr3UzXb7R1Qu49yT2as2V2YEixAPH6cX61g+zGfTZ/kHtPcq9bCTLo\n",
       "etIvOf/KtCzIvSe5V69IIEwB7s3IPeQeJuTeX+1zfoc+54B+FHUR+5zPco/mOPId+pyv8bJ//9RU\n",
       "los41/Is91jG+t7L9TltL9O6meWVNY+I7P0C+zkuzri+9yj3MtbW36/PaXuZFrcrL393QPy8f/Iz\n",
       "w0Xc1/Is95r0htn363PaXqZ1MwtIdaYQ3W14XyrbSVaK3HuSe2P67eTX63PaXqZ1M+9LdWYgWpqY\n",
       "XyvbiXupH+ZeumPxfn1O28u0buZtqc4MRGuj2ffKdmZss0fu3eLekhrNvV+f0/YyrZt5W6ozA9HS\n",
       "xPxe2U72BrGkX829lETgq/Q5w4DKy7QQ522pzgxESxPzK2Q74VTje+sPc69NLa4D+pzm6ojnZ0BL\n",
       "M2SUuuIxTKGNCwIqLx3dTBAvbXHWQwdRNS5GEzMsoVllW5ST7XS6lKmH7jwh957l3pjq1R/1OY3a\n",
       "a0RLc9d7LanPKd6DAwG1l0Y3M+ijtjAennQwrtWpXvI3mphhCc1wJepXe8tVoT6nLZmbku0cXiFM\n",
       "/bt1qTO1cS2dTKP2GtHS3PVeH9fntL00uplBH42F8fCkgxlanZYmZlBCM16JVfEqdKrJcTF41w/I\n",
       "vYe512Vpwp/V53T1Xsvoc8IWTp8zrdVpLByZ3BMOxvRB9w7dEitOuhLLV6FqywAXQz1X1IR/nHt9\n",
       "YnX9mj7nrvdaTJ9Ta+OCgErCLK3VaSyMhycdjGh1ap1cSxPzhmxnqSq0zmlL5qZkOzEWyvPcsxTn\n",
       "4NHDVX1Ove5VSp9Ta+MCgMbLtFanLdWpPATwjn7tDoYRO7PMuGti3pLtLFOFO6ItmZuQ7WwxBtgP\n",
       "cC9Ry1f1OY3eayl9TqONCwDuXqa0Om1lTe0hgHf0y3pEBRB3nVxbE/OGbGehKtwRbcnchGzngrEv\n",
       "f4B7qZjP1/Q5Lb3XYkqYEwtbHLzM0Oo0Hp50MGyvlhkdTcwbYqKFq9CWzE3IdmLM55/hXqLhu6TP\n",
       "6ei9FlLC3LVxAYuDl2mtTsvDkw4G7VUdu9vPL4uJlq5CWzI3Ids5vaPZe4Z7ItVPcC+AHKH7J97w\n",
       "HWXmmuQcmKv3WiZZ2rgZXqZ8fMJDJVqWp4n58w5akrkJF/u3SGgBrFpWW8/U/Zb1WGpFekDwPogc\n",
       "4d44R1thX5/zndq4rpf/QpHW6OTmaGL+Y8nchIvLWzQAAO7JG7wFv700xbq5LP4U/A59zhd4KYd7\n",
       "7P2CLQkXaV29l3tfmKJDzJpWmO4S7+06udmpf49SwW/hXmyI+WmQPDfTr9HJHd8heXF+JPfalBhi\n",
       "TiOyB5O4UV6iNnNuJPd/yANIxZwAbjYAAAAASUVORK5CYII=\n",
       "\" style=\"display:inline;vertical-align:middle;\" /></a><br>(see <a class=\"ProveItLink\" href=\"../../../__pv_it/theorems/5ccdf94aa3cec25f7695181d6e45f72fbb9020a50/dependencies.ipynb\">dependencies</a>)<br>"
      ],
      "text/plain": [
       "<IPython.core.display.HTML object>"
      ]
     },
     "metadata": {},
     "output_type": "display_data"
    },
    {
     "name": "stdout",
     "output_type": "stream",
     "text": [
      "tensor_prod_association may now be readily provable (assuming required theorems are usable).  Simply execute \"%qed\".\n"
     ]
    }
   ],
   "source": [
    "%proving tensor_prod_association"
   ]
  },
  {
   "cell_type": "code",
   "execution_count": null,
   "metadata": {},
   "outputs": [],
   "source": []
  }
 ],
 "metadata": {
  "kernelspec": {
   "display_name": "Python 3",
   "language": "python",
   "name": "python3"
  }
 },
 "nbformat": 4,
 "nbformat_minor": 0
}