{
 "cells": [
  {
   "cell_type": "markdown",
   "metadata": {},
   "source": [
    "Proof of <a class=\"ProveItLink\" href=\"../../../../../_theory_nbs_/theory.ipynb\">proveit</a>.<a class=\"ProveItLink\" href=\"../../../../_theory_nbs_/theory.ipynb\">linear_algebra</a>.<a class=\"ProveItLink\" href=\"../../theory.ipynb\">tensors</a>.<a class=\"ProveItLink\" href=\"../../theorems.ipynb#tensor_prod_of_cart_exps_within_cart_exp\">tensor_prod_of_cart_exps_within_cart_exp</a> theorem\n",
    "========"
   ]
  },
  {
   "cell_type": "code",
   "execution_count": 1,
   "metadata": {},
   "outputs": [],
   "source": [
    "import proveit\n",
    "theory = proveit.Theory() # the theorem's theory"
   ]
  },
  {
   "cell_type": "code",
   "execution_count": 2,
   "metadata": {},
   "outputs": [
    {
     "data": {
      "text/html": [
       "With these <a href=\"allowed_presumptions.txt\">allowed</a>/<a href=\"disallowed_presumptions.txt\">disallowed</a> theorem/theory presumptions (e.g., to avoid circular dependencies), we begin our proof of<br><strong id=\"tensor_prod_of_cart_exps_within_cart_exp\">tensor_prod_of_cart_exps_within_cart_exp:</strong> <a class=\"ProveItLink\" href=\"../../../__pv_it/theorems/4cea82059ca670e69592054c45093717ba936c5b0/expr.ipynb\"><img src=\"data:image/png;base64,iVBORw0KGgoAAAANSUhEUgAAApIAAAAZBAMAAABwTtNnAAAAMFBMVEX///8AAAAAAAAAAAAAAAAA\n",
       "AAAAAAAAAAAAAAAAAAAAAAAAAAAAAAAAAAAAAAAAAAAv3aB7AAAAD3RSTlMAq1RmmUTNIjK7EInv\n",
       "3XZ/CtNrAAAACXBIWXMAAA7EAAAOxAGVKw4bAAAGgElEQVRo3u1ZbWgURxh+kvvYvd3L5vqjUIXG\n",
       "E2kJVcNRY6kgcvUDClJ6+lMDHvRHacF6Qv9Yi179U9qG5CyIH1BcrQglVK+2oialRm3ph5QeokXE\n",
       "w/MjtdavWKlVU01nZid7M7tz3gdRivSB2d3bed93Z5+beWeeWUCFp4sZ1IJa7R5rXC3GYRWPqSvT\n",
       "NQZJj2uTNF4ePrRxDRRIkMOM/xKT53jhCMzruVDJtPPFa8k6o4suoVJNduoW+AJxJmP0xhQfQ030\n",
       "1JyoyqTSvTE0551iTboTQ9M/mz7tSkS9yePs6Hpg0o8fzjyC72sMq3Q5X5OdqgUwfIE4kwvo79d9\n",
       "DAVT5BTOVGVS6d4YdvKC1gKhdCLe+Q2tNlbZktE9Uibb2q407mLxhVQtcUWXMYR5VOuTYrGY9dtp\n",
       "W4A+pwWhjgUw8i6PeX8gzuR7dLTnfAzptLOtqj66le6NYR4v6CXtfp6c29AFfTp7Z2tg4A961kdI\n",
       "w+NAUyk0iEFjWKjy4vLAN7bPxc0czvjU3yr3Fclu3SmgO8NaEMVu6G4nJFe+QJxJSqoZ9+e/N8lp\n",
       "T3Umle6NYZAXXE+hj77hD5ivo4XSoROudtEOaP0FYx85R7PBZDajDwpVHvTYMIbgdemc0rl4P737\n",
       "EzP6XBh0kh1OsXu0BRq65ci+QJxJegorZpIZtUwoabV7Y2ky7RRgBXQ6mrRhnGx3mPyAvLGxgQ6m\n",
       "YXxETdaiZV0WkZRQJUPfSA6fpbwuHbloair99RqzelLwkEMzJp0WgEXvo0O8TxlobO7+uVg8qmAy\n",
       "Wiyeztcwd6vcG0Iw7xTgFjrZvBjD5YTDZJJ0lh0muWpNO+NyEawvgZfFKk80MwMj2Q+PSyS7E3Pp\n",
       "ry98aw859KlyC4Isj3ZnyMDuzqgCjTFJmrNFwRDxj9g1MKlybwjhhFMQGrHulW9TJq2MmTGSNO0v\n",
       "y18vuFWmXRKqZFzEPuxgfUhyacFUFOhDXmAdNyZ4SHZ8dDP0W4rWioHGmFwJLaZgiNxcqX7lvGSn\n",
       "cq8D5WAtcafAvJ9/1c28+hWSrMmSbP/boCuug5eDf7oeK0YLQpWMGMz3k2wtJ7lswxDaaMeaxkav\n",
       "6CbZ9Rx1WxAevadotxhojMmIbZJ0Epo0F+FvxRX3Fuz1rOeP78Vs8uykxKTjXr848AWLppyC8E2s\n",
       "lTO0SYZIjLG+IqHdqlDl+4deYrV+F4ZedhQ6YQW7qugtM9lcYjPGFWCpLTLZIWWRngkbMNm0g7aX\n",
       "Se5eF5TBXCZbc4jclpMesHo/s70DbM2qq2QkoQ1kaa3fhaHLXXiNQW1XFV2CWkzPoXfWw0pJKjAc\n",
       "ECRVkCb3KaWkCS+T3L2uuUUZzB3dy0oI3fAwqeVJ65II3SfVMWWVj8nVZPwRJv0uDNOdkVt+5Qp2\n",
       "VTFdYHIPXTriptYvM2Q+azONGTu/iaur9mfWmPhq/vH5KdGOuosCVSmJJQWrDhYpOQUHSc84I012\n",
       "epysT4ZCcZikr7bcVVZ5sI4spKzUYihcGGY5iuWJJW6aUNtVxSyByXfpP6H/PbskM6kdcjTmIZyF\n",
       "wVRMu7l9qb9PUndBoBpKSSwq2ArBzJhTcIYuzuXEN0TlOFm+tRBRY40oq2DQLLc7zS8sGvxcXulC\n",
       "sZD3xANjarGCXVUsFJhsopGskdWDnj2epwibRGPeJsYhtpXRjuQlP5PUXZDIaknsGPDWq4PpBVaM\n",
       "CaNtMH+5I0n+CF1+T8S2rTdK+Hp0o6KK4DjlI8kvQI222UoXihPeubiCXVWc8O6qRXI4qtgtayoR\n",
       "RXYMgTc2b/6YvHxf2M8kgyCRBUksoI3neDrSKwQ7yYsKc7L6+fqqAr+jp/JWllYYrw3KgpfJ1gSu\n",
       "236Golkrpw1nmXojLx/q8K0n4QpUR44IklgENQjMnbFgahaVgnXyooLRcc6us2r7teceMOklxolJ\n",
       "GkhmsjeDaN7P0FrSxQK5pCNjZoKkTOVOryuRidhwJTFXquzADJov4Tu6AVkhGB2nkUf0NYPvcr1S\n",
       "LJZ31RoOJDFpbe3HtBE/k4sQzmhtJAWSp+m/ZpwNYD+TrkTWD5clcXecKVV6iDsGm4x0kMyyFYLR\n",
       "mcjIPRomN45noLq+PhgHNm+oakdHd3NZEqO8NOFXheZ8S6BiMKzh5eHDyoxnoHH/jsMk8pKyJA65\n",
       "6YtfGTEr1XQRjx0ezhcxIZMHFFePJR7E5PIav2Mv//97N3D1dAJW8ci/YXFY7PbH7EQAAAAASUVO\n",
       "RK5CYII=\n",
       "\" style=\"display:inline;vertical-align:middle;\" /></a><br>(see <a class=\"ProveItLink\" href=\"../../../__pv_it/theorems/41773f89ed9251ed232656ea989bd0348d888fee0/dependencies.ipynb\">dependencies</a>)<br>"
      ],
      "text/plain": [
       "<IPython.core.display.HTML object>"
      ]
     },
     "metadata": {},
     "output_type": "display_data"
    }
   ],
   "source": [
    "%proving tensor_prod_of_cart_exps_within_cart_exp"
   ]
  },
  {
   "cell_type": "code",
   "execution_count": null,
   "metadata": {},
   "outputs": [],
   "source": []
  }
 ],
 "metadata": {
  "kernelspec": {
   "display_name": "Python 3",
   "language": "python",
   "name": "python3"
  }
 },
 "nbformat": 4,
 "nbformat_minor": 0
}