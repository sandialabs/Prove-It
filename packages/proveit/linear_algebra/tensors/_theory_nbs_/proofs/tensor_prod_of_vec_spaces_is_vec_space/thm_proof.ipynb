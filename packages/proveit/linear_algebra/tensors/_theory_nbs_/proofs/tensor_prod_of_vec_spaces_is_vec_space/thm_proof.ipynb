{
 "cells": [
  {
   "cell_type": "markdown",
   "metadata": {},
   "source": [
    "Proof of <a class=\"ProveItLink\" href=\"../../../../../_theory_nbs_/theory.ipynb\">proveit</a>.<a class=\"ProveItLink\" href=\"../../../../_theory_nbs_/theory.ipynb\">linear_algebra</a>.<a class=\"ProveItLink\" href=\"../../theory.ipynb\">tensors</a>.<a class=\"ProveItLink\" href=\"../../theorems.ipynb#tensor_prod_of_vec_spaces_is_vec_space\">tensor_prod_of_vec_spaces_is_vec_space</a> theorem\n",
    "========"
   ]
  },
  {
   "cell_type": "code",
   "execution_count": 1,
   "metadata": {},
   "outputs": [],
   "source": [
    "import proveit\n",
    "theory = proveit.Theory() # the theorem's theory"
   ]
  },
  {
   "cell_type": "code",
   "execution_count": 2,
   "metadata": {},
   "outputs": [
    {
     "data": {
      "text/html": [
       "With these <a href=\"allowed_presumptions.txt\">allowed</a>/<a href=\"disallowed_presumptions.txt\">disallowed</a> theorem/theory presumptions (e.g., to avoid circular dependencies), we begin our proof of<br><strong id=\"tensor_prod_of_vec_spaces_is_vec_space\">tensor_prod_of_vec_spaces_is_vec_space:</strong> <a class=\"ProveItLink\" href=\"../../../__pv_it/theorems/23a92ae41f1fc7fb5a43cc7295ea5dcab34d08590/expr.ipynb\"><img src=\"data:image/png;base64,iVBORw0KGgoAAAANSUhEUgAAArcAAAAzBAMAAAB/DT2jAAAAMFBMVEX///8AAAAAAAAAAAAAAAAA\n",
       "AAAAAAAAAAAAAAAAAAAAAAAAAAAAAAAAAAAAAAAAAAAv3aB7AAAAD3RSTlMAq1RmmUTNIjK7EInv\n",
       "3XZ/CtNrAAAACXBIWXMAAA7EAAAOxAGVKw4bAAAKWElEQVR42u2cfWwUxxXAH/e1e7v22W3/iJJK\n",
       "4dKQFhUCrgy0TSk5wFQoKHC0UqXUUWzSKFVJJTYqSsqnL1HVJo2xnVBEnKh4Sd1W2A1cCImpnYBL\n",
       "ikgKFZdC04jWcIYCAUc2BQzYjnN9b2a/bw+79Vm+q26kXc+9nXn39jdv37yZtQ7ArUgtLSqMVFpa\n",
       "WqBQMoHJjLA4lYqMqONU6moBpFtpSg0ABFOphgxwo6PQ8bcCxkzl63TyFuAW4BbgFkoBbgFuAe4E\n",
       "WO0L5zJTaWVew52f2x67Sc1juN7q3IbrLc1juLVqbsOFF/IY7mO5PpP9Xs1buJ7BXIfrK81buMXx\n",
       "XIcrXM9buPW5HnIBXs5buLdy78iWOiWrKnh1bt7CvcLOp7Ol7qExawiFndpqwla4LALfmQ7XVe6E\n",
       "O3KjbBaRBTRPHEKrBsIgnjpuuXYuhVnQpuHIKIAYnUNljkVr6n2ADZ+8ZAiaKxb4bqprGh7dqecB\n",
       "Jr8X49qKI1a4i+jvD9LhusqdcEdulNUU/RKdf4vHLlpMLLetPK/hyV86GjVm55WOK8vKbA+k9CF4\n",
       "PrjpcpetaYbxuEPVtPmqrXCfoijWkA7XVe6EO3KjbJZJzPCFeBR1gvbYAPR07KN57gg1AJsozWc7\n",
       "Oi7aOs9yNKihLzCdX8bqnJsmXjQY4hByDOvaQpescANohhxOh+sqd8IduVE2SxEjQmgCeAuhGBPW\n",
       "qSCdxb+r8PgIbCJnVEGyO6PWzkXaEFzo6mLjFsS44zWnmwBmfsGbGsRw9oPUZmjz3LDC9SL9gMuE\n",
       "5ip3wh25UTZLCaW5HsIwCSms48S24mkHApmsgBC3ixzlWZzPpS3WzgEedL97UV+kXDW9n1gfwju8\n",
       "mUFfBD7Qz5naxMu2bOEvXV2H3bIFN3latjBio6zCJet9RFDu16OCT1ZAirQD7I/qXAyRo0TQv5pl\n",
       "1dJZZn8EM/RibKkDWN0TAWlJR9iTeoPQH541H794Xg9qbO7YDcLSPSCe6aUxXsKsqvZGTG3SFRvc\n",
       "xQAvucF1k0PcAde1UVbKl/RK0gyJYd0/vFf0x/c8tEEztALcWwazwS5yRFxFVqSIFNc6S4q+yRYw\n",
       "k9X9YbgPxENwDtaH/e9CX+oafsuRqHQcPIfgWyAcgAdjtUqoegdAApt/n/pUxfsSli27T21wHwcB\n",
       "kfsnL4DAn6xwuVyyZ9oRB1zWyPvPOHjeY1HMUrWUb6J3T39R+7B8IAqbTup33LvXfUmLt6+ZZCZD\n",
       "9QS3mE7+IXqwf11NLij/PEI+WxXHqND62m0WkWM6BNi7mq7yzjIOmqeTwbXNaKWUTZWEHyWc0leO\n",
       "oiOuAJgZxU9VSqAapiuYw11+UGVj/lc2ID2+yzyoMG1DNrhBVSYn+BigUrXC5XKZO45w/A2YW5oO\n",
       "lzd6C/R4Z62aRe7UopzY3RiFw+RF2pXF+laHs2w3TPIb6qrIziI6SQMIQexNsEdpPn4BJlgNk8i8\n",
       "+y0ihxF8WyXOO/PozKb22i4sPOUJXMdBrS+DQPuQ1uIowCOoHO/7N/uVXahaRNyPFQ+cp6sH6bSq\n",
       "TLhm0XbVBteTZEP3PISitrCgyWn2vXUL3CGrPjUdLm80UzXuxVK172YxRBXk032WO+80MipHWWSa\n",
       "tNLmuQwuDFNU8CTIIKEjRt5dksCo0A81MVPkyJtwgPeyOxjWMwI/87UdFkOHcIRmLiwvf4aebi8f\n",
       "UIRb0gDNn52p1JO3Xy0v/5r0NvuPJAZ3AKApZmqzw4XqeWxpKbQ7lr9cjlYtpmVYMiLDnorjFVH7\n",
       "8pc1qonCV/UHy6xa9or6wUu+yhcxOC9NBXleEnq6lRUqKGuO9dwH62ZFIbTvFpKH7nydhzTNpN3p\n",
       "YQFOUUjlcNfBWQJXPIjDdw+Hq4mccIU4DlaEd/Z3awqwp6XRkTr+NRIxojSsJMY913MQ6hVyYJYO\n",
       "rAXvDS0s+HEYqpiDcG32mAu7V7Kl5dykAy7JyYYzJJl610bZJebyziVJQV9JWqqW8in82PQRXwLV\n",
       "PAwL5YgvvmF4Ea1qz8Hn4RDswekX5ZWwEYRq06QpRkQkzUEma2rQ7uZpEVfD0W+jfIC1edsicqS5\n",
       "YcyYzvrDvPPOElXfWglZbnzZCZ5ORx9F9UShhsfcWEkEqn7yBFoV/iNSmQHwOWy9jaLNDRpYc6PG\n",
       "ni3AeuIeGlrX6YBLcrRBYn2myq9UusFlnQOlxnNuqVrKCh4VvqP5sRjG+PTALkVQoW5yUuyEkuiT\n",
       "sFm6DmtJXr8AA22DadIDxro1aaRPy6Ia3BBZdRq1+/oZwRMWEVsSs8UuO51FUWia1nnt3XpaBzig\n",
       "5oyG2sWDICvry6Ct+GGQMCH4kSL9AxBu39NPvoNXaqPQNl0FSqZfI1S0JGERmmkT7HkuTKKIEWyA\n",
       "ww64JEcb/MwTp0Lkghtc1tmXwDR8jQpa1T9jkQPu/SG82ABzGhsb0XMaZfC+Uz67Ci+oOA0g3KKy\n",
       "0L6TfjST5P6mfvCUmiY9ayyI6NvFhLFwZc8h3eR28kJmGjNCF8FxfSeFnYK0iLhN77zN3PzbvsWY\n",
       "yQMkWb20DaSKXmWSf8ln8POKed1REG+f0XoSmpeeB6GiR6ns7aGGm7Bv07+T8FZqq65N7HfZcsRA\n",
       "2Ke6bDluA+8PGxtfQLitAZc8V8ub+sMg3q3q1SLY5YB7L39In9Nm/YfYzFqjstkswTz3GGz73SCf\n",
       "cX+BC3qxwTTJCAsBZu2H5vRDcL0fQZ0RiISIoDhEljIvJp4x9lwG0Ss2aB8qf8WXv+7lkcxvRmw5\n",
       "5wbzTZQDbr0CRfF0uGiDGOeeS4Emw36uSOG/WKXEnaoC1AIm663GCerRc6YlMXHj2v8MsBl2BuNS\n",
       "sh/zZHEQLkiDcDL5Muwk+RSaSRKmSb3GlNRp323hM8grvV82JGue+anqEFk3sWacNvzHUx3he0Aj\n",
       "l8xwvbYdTqZNTqTDDTW1w/ShdLhkA1uCYZ7TnXmz/ASHWxvmVdgC4gGoVXCtg6cD7Bp8AVMkvpDw\n",
       "oE3yviR09MKijg7MHGdE4F/lP0uSDI8pZ9ro0TZM2mrcC/OKoJ4jC28OJR0mHU2lRrkAlG5XRruf\n",
       "937mS1utKRHTFiwd/ZsIsmENOr/4gZK25nG8iSCA2gaZD3t4TAfTtkFQ2NrYmL6hIna6WFBpYjBs\n",
       "lC7bP4+1BEf1nmf5J7dkvLYjTRvb//gvXvNIf2jcMorXPAjXrz117SGA7xkXtNqrnkwvGC65bZUq\n",
       "6TX4JTtvzBbc82PWICSd2qqU8XiHJn68W9+fC6SGAcwZRasFL2bQ8/iQm9RY0sw2ZXMh58ubefGC\n",
       "UtIrlncKu6I5D/dAXsB1K3J1rrMNdU4cXPHM2P5n5t3xQVL3jay9iQpPHNynYGxT/ZxxYSuWBrOl\n",
       "6hxMHNwXx2h7oGw84AZj2dIkHJpAuCes09P/Msv9fTzgFqtSljS9Gp5AuJXlY3S9J9RxgOt/vTxL\n",
       "mjbDBMId+3MXgxwuUjSv4eZJKcAtwP1/hHvPKH7M4ljhxyzcS0vLBfoxi52Z4BZ+zGIMxfgxi/8A\n",
       "jlxX+E6e3MQAAAAASUVORK5CYII=\n",
       "\" style=\"display:inline;vertical-align:middle;\" /></a><br>(see <a class=\"ProveItLink\" href=\"../../../__pv_it/theorems/a5bd05ba419f65e5184ed75e270faaa8f197b1560/dependencies.ipynb\">dependencies</a>)<br>"
      ],
      "text/plain": [
       "<IPython.core.display.HTML object>"
      ]
     },
     "metadata": {},
     "output_type": "display_data"
    }
   ],
   "source": [
    "%proving tensor_prod_of_vec_spaces_is_vec_space"
   ]
  },
  {
   "cell_type": "code",
   "execution_count": null,
   "metadata": {},
   "outputs": [],
   "source": []
  }
 ],
 "metadata": {
  "kernelspec": {
   "display_name": "Python 3",
   "language": "python",
   "name": "python3"
  }
 },
 "nbformat": 4,
 "nbformat_minor": 0
}