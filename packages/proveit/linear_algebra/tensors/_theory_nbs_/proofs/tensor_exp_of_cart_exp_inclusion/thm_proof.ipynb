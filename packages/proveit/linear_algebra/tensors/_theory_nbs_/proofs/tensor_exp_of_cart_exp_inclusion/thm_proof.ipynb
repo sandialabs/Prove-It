{
 "cells": [
  {
   "cell_type": "markdown",
   "metadata": {},
   "source": [
    "Proof of <a class=\"ProveItLink\" href=\"../../../../../_theory_nbs_/theory.ipynb\">proveit</a>.<a class=\"ProveItLink\" href=\"../../../../_theory_nbs_/theory.ipynb\">linear_algebra</a>.<a class=\"ProveItLink\" href=\"../../theory.ipynb\">tensors</a>.<a class=\"ProveItLink\" href=\"../../theorems.ipynb#tensor_exp_of_cart_exp_inclusion\">tensor_exp_of_cart_exp_inclusion</a> theorem\n",
    "========"
   ]
  },
  {
   "cell_type": "code",
   "execution_count": 1,
   "metadata": {},
   "outputs": [],
   "source": [
    "import proveit\n",
    "theory = proveit.Theory() # the theorem's theory"
   ]
  },
  {
   "cell_type": "code",
   "execution_count": 2,
   "metadata": {},
   "outputs": [
    {
     "data": {
      "text/html": [
       "With these <a href=\"allowed_presumptions.txt\">allowed</a>/<a href=\"disallowed_presumptions.txt\">disallowed</a> theorem/theory presumptions (e.g., to avoid circular dependencies), we begin our proof of<br><strong id=\"tensor_exp_of_cart_exp_inclusion\">tensor_exp_of_cart_exp_inclusion:</strong> <a class=\"ProveItLink\" href=\"../../../__pv_it/theorems/1b420a76c5c3dc4feeae725372261cf6c7f8badb0/expr.ipynb\"><img src=\"data:image/png;base64,iVBORw0KGgoAAAANSUhEUgAAAd8AAAAzBAMAAAAk3x8mAAAAMFBMVEX///8AAAAAAAAAAAAAAAAA\n",
       "AAAAAAAAAAAAAAAAAAAAAAAAAAAAAAAAAAAAAAAAAAAv3aB7AAAAD3RSTlMAq1RmmUTNIjK7EInv\n",
       "3XZ/CtNrAAAACXBIWXMAAA7EAAAOxAGVKw4bAAAGrUlEQVRo3u1ab2wURRR/7f3bu727XkzUEJNy\n",
       "hGqaaPCSUpSkwRNKQPngEuMHLOGPxBD5wtUPGqjQww8kKrQnhMhhpKsmGtukXfkTlJpagwYUTRpb\n",
       "lBAPtikBC1qaYMW2IfXN7N7d7O7cwV4qab17yezOvZ03O7/33rx5M7cAPGpvbwdbZFvgXhMdoK+9\n",
       "XeY/vjT1l73+bAvca2qbGgfwTk0l+I/P2e3vHMx4WkwujhLgEuAS4BLgEuAS4BLgEuAS4KIDXJv7\n",
       "UWd3j62unLMBcHk05yNBAVhppy9PYhYA/oRcYpmfC58cCQ0d1DgdK8DTDY5lLZdzCadb0xpqbsks\n",
       "ALwfSzCc/uWrPQXfwCDAOvyhirEmX+TjtRF/jC+baU1rpwECMgs4RO7zrePn8vMBtidwBy/sxcuj\n",
       "ENw6Hgbh0oCncwP8A6tQBxEEDEcUULdfgQrzZv7K1D6AvbdX6K19CpGbQKkQC3g5uW+2jp/LzwfY\n",
       "nsAd4gzOU98GgC4ssBqgTBV64WesbyGAd8fwUglr9cbDqVTqPDXt33hxhdKthdNYc6HqfBMs4F3Z\n",
       "aW0YP5efD7A9gfxUISFotKafWBrt448HE57ROE5KBCyoJxDwGagXaNvdVzNiP2IpY1pjzRnF+yYW\n",
       "sBsdQwxbx8/l5wNsTyA/tWJffry7R9EhccTNaCtHAuOPX4YXWkB8Ne4ZhfPV1Ky/ZsW2YvmdaY21\n",
       "wJso/gwL2IGKdHPGz+XnA2xPID/9ieURYq5bAE3Uq90xTyVqwR0BEd29h3ju9QhpWiZlxebGwKMw\n",
       "rbEWPIq3PwxR+qdU6iwv6PL4eaO0LYH89AAWjFEgjunBME0i/hqKt0SyHFbHX0vEo620XmYB4yJ+\n",
       "iDd+Hj8vYFsC+SkJ2sRz3ASHxD5wYBTzrXuR4exi6k9F+Blaa5wF3AgeVJtr7lJwf8uOX+PnIcUE\n",
       "+I4COZKqzHKqZngbsZCg7JqkHs007jWLN7KWVDwK7xXNEgvYK4uS5ucNMjt+nc9ZJAeOQx1Ci5oA\n",
       "UwHHbwqUfx+nzNXjEuy9qLcIjnyh5MqadW07M7wBLN+RiDRu9GgQRs3iAabeleB6NHQZAJerdBq8\n",
       "C0HJMH6db6KWOQdgnig7ZStgTeAroIFDGExKgFM6mLbfSnBy7e8LZbTtUlgLE8Bw2+jR4LJY2MnM\n",
       "54o+/p6j2eDSsIHmmjc9J02ZosY3dU/S9vlqVAQrYE3gcRnIw3ryjhtA65R6TeEn06OU1fYWs0vD\n",
       "pQ6T//dZOniZsfYE34laYwbAR8h7hFt1qmn8hI85+mBwMRm8lq0PkQfVD+8U4Vj9QL1kFSDz5Qkt\n",
       "B0SNR6AaxCUqXB+MbZQhtq3/+rPQtFCCYM+DcHQEgvOPai6pa/tIurs5WA6TSpspk+Ek/x/en5mJ\n",
       "3nF+mDBGaXiDaD442dRrAkz4JEcP0VyUZus++r5q8aMGnoVpRxWqB8F+plmvDxu9BMvEqFPZcXs5\n",
       "ahWuwEOYzx+DVe6wM9IAO+E1RttV6e7Iwvk5qTwnWXNOMzV8oKeW4BzjA64z7pbKiAG9CThrGj/h\n",
       "kxw9Tt9Cs3UXNVw1RId5gGlH7hDx4ue18DYmhDHMrOmKeWRomUtS3ArpddjvuwXbW8GVaF0qwxpG\n",
       "22tYk+yl+ztziJLyBXxHjl3005ztIXrfDZmz26uEPRAIa7W14HglmdyHgDvcPMC6Va/hdVEymUSp\n",
       "pAiOUzW165EjY4RFwP5IsOeiC2NtXU2N5Gobg3mMtt9Kd+JHXIE4Z+g7ClrWN3EA47z2K5zxn4Fh\n",
       "aBa0Wr0gKJqFXQs467Cu5TGinnd0S62jC0mzTCNWH7VwPxz+FLcvrfj4bVhEQaa1XcV6LtdcywrB\n",
       "a9wt6atk20l4bNI6fszRK2GxEzpAy9YP6SvnYM4DAIH+UezVvCXwA9nLd3oVnzqGaYkwAcP49ovq\n",
       "+8iL+NQq8NKgldb2SKYT4uHv5TytMczqVCq9Pczp6aG7P/HAHH0zNF6DPWEtW9+Gfib8ErOkrMyJ\n",
       "xwU6soOZoymxR4XuEVje3Q3CzQVRuFyzW9V5VUMnwBvLajsL8T5IBz4DeWOFWDgQK+CIR9/3+b5M\n",
       "HrgrgY5k0hpfhF6rZDbbAF/CcKblUS2NrxY0hQs503LJ03GmZU0MkVZkvTNrv3Jl+s7HCjq1dEzL\n",
       "IV7jJIcpyryz6NrpA+yUZ9ippWypFOM/D7MOsDCkFBfgXZAoLsAHi82lL/zHIWjGAW6oiRQX4KKL\n",
       "0iXAJcAzCnC/3e+9+2f+B+LD5APxzhyA/8cfiP8LRMBQ+PbGrn0AAAAASUVORK5CYII=\n",
       "\" style=\"display:inline;vertical-align:middle;\" /></a><br>(see <a class=\"ProveItLink\" href=\"../../../__pv_it/theorems/565302dc930ba4e33ceb952c0d06f8dda1d137120/dependencies.ipynb\">dependencies</a>)<br>"
      ],
      "text/plain": [
       "<IPython.core.display.HTML object>"
      ]
     },
     "metadata": {},
     "output_type": "display_data"
    }
   ],
   "source": [
    "%proving tensor_exp_of_cart_exp_inclusion"
   ]
  },
  {
   "cell_type": "code",
   "execution_count": null,
   "metadata": {},
   "outputs": [],
   "source": []
  }
 ],
 "metadata": {
  "kernelspec": {
   "display_name": "Python 3",
   "language": "python",
   "name": "python3"
  }
 },
 "nbformat": 4,
 "nbformat_minor": 0
}