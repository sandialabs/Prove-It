{
 "cells": [
  {
   "cell_type": "markdown",
   "metadata": {},
   "source": [
    "Proof of <a class=\"ProveItLink\" href=\"../../../../../_theory_nbs_/theory.ipynb\">proveit</a>.<a class=\"ProveItLink\" href=\"../../../../_theory_nbs_/theory.ipynb\">linear_algebra</a>.<a class=\"ProveItLink\" href=\"../../theory.ipynb\">tensors</a>.<a class=\"ProveItLink\" href=\"../../theorems.ipynb#norm_of_tensor_prod\">norm_of_tensor_prod</a> theorem\n",
    "========"
   ]
  },
  {
   "cell_type": "code",
   "execution_count": 1,
   "metadata": {},
   "outputs": [],
   "source": [
    "import proveit\n",
    "theory = proveit.Theory() # the theorem's theory"
   ]
  },
  {
   "cell_type": "code",
   "execution_count": 2,
   "metadata": {},
   "outputs": [
    {
     "data": {
      "text/html": [
       "With these <a href=\"allowed_presumptions.txt\">allowed</a>/<a href=\"disallowed_presumptions.txt\">disallowed</a> theorem/theory presumptions (e.g., to avoid circular dependencies), we begin our proof of<br><strong id=\"norm_of_tensor_prod\">norm_of_tensor_prod:</strong> <a class=\"ProveItLink\" href=\"../../../__pv_it/theorems/501c8f758fc39833d1bf89cc0fe883bb4bd55e010/expr.ipynb\"><img src=\"data:image/png;base64,iVBORw0KGgoAAAANSUhEUgAAAm4AAABYCAMAAAB7you4AAAAOVBMVEX///8AAAAAAAAAAAAAAAAA\n",
       "AAAAAAAAAAAAAAAAAAAAAAAAAAAAAAAAAAAAAAAAAAAAAAAAAAAAAAACXHtMAAAAEnRSTlMAq1Rm\n",
       "mUTNIjK7EInv3XYgpUBs4s2yAAAACXBIWXMAAA7EAAAOxAGVKw4bAAALqElEQVR42u2dh7arKBSG\n",
       "FVAQlJnx/R926EVBMTGNA2vdFIR92PJdmvCn6y4EsqrQdzeEO2218H1h0fWb/FaMCIMiDPfgdp+t\n",
       "Fr4vyMqF/Zr8VowIvq04d9pq4VuZW/PfGm4tNNxaaLg13Fr4cdz8JBXAVlMNtxfjhtwsdWwNX8Pt\n",
       "1bgR27zhqVVUw+3lY7eR6ncGWkU13F6OGzRDtrHVU8PtDTPTeZFhZq2eGm5vwA0R+TrRVk8Ntzfg\n",
       "hnv7Um8Ae7d5w+0juKmGjan1EGj6VDBPJCxxOjrlaT4lZvPCzjyhbJ4ZQ31uCZDPckLDOWfkSudv\n",
       "9iQM/Ypk/nFGslVvuH0EN8DdRIHNBo04RSY6EfYpCe+nSVX3VNKC9irRmGNhBKb3RxeaY9o7WhV1\n",
       "jOq3htsncBOsQdO1gFXVxLYiMtGpXmubEiHXzF3Ajefu0SRw00RfwM0tZasScPttpA23T+DGgL3z\n",
       "eJV1AbeJMtGJsE3Jg25RVjadFgJ4+EH8ech5h8cRIGRxE42kjeCQ69ZI9KGQy9Zt7OV33OFpEdcQ\n",
       "lY0p1EhxxntsLIpvADL59xdbghWKpNS73XD7BG54dk3FKqoJ70dOmehEiFPS8FGFalvwCnSX6D6o\n",
       "/hF2wwxkFyxxo2ARTaKOkP0wVbwg2WTKsRte1kXRpbzhYhzQi0uzxAypZNaiiMWyOKP3Hs5+igBQ\n",
       "w+0TuHW96/DG3vSEOFoZsdED4Oh4K7Az0EnSBrjHTdiduP9A5O0YJvGu/mC/iInAoMtKO33Vp1ck\n",
       "qfGgxJqoblW0p1h4NcGOSu8w9RYRoPqjaWpXhs3gsgvjG27vxS0Y5iwdl1VEwEIT0aKu6FpkwPg6\n",
       "TiqAADfJFPcf4Ky3sxMzJHMMqAioYnvRDg2rnSpQ7YnFbYaqE124SeIsCp5W2bcD23ZP0rZfzyYN\n",
       "t0/jBtfBjGgi3Gw0tnV8agAw2WtFyxVp3Ii5HWTZ4rZ0tnUbo9ZN07MErdsCZQtIdRJvkUreA6xW\n",
       "qJo42jrTb8FNdEBdiBtlm2g9mGJd+sWnBLoywy7Z4zbx4IPoBTvKM62bHubN0opcjMNy7KZmI3Jd\n",
       "WnW3fBINrngXnXA3MWXKWFQlmPxUwTjvmjfOG24fxs03avoDmUEcrdY1VCyZcfwSp9TrvNgt92K5\n",
       "gotpL3CE8zi4D2Kox+TMtBcDK73Mqw3oCHGVc6QLzcTMdBlJhwYmgvIGirGkBAdBSGQTqEzZN4A4\n",
       "VCYmlZ9PqzQN5tXwNuGG26dx23EXrxaICuP72ERKMZsEunmUY7fXnDQ86df9nCC5YEhr3eD3g7gR\n",
       "PutlqSFaCx3XdV12saZS47iJv3wVlZTeSYRLIxtunz0aA4tj337UQXa3hUnZHv16z3a3k1gfD7Qg\n",
       "puHWcGuh4Xbtb4r5YWOg4fYm2nq9+NVCw+0N4WxHZgsNtxuDXL9r5yAabm8Kg1SUaww03Fr4K7hd\n",
       "EYKxiNwhHpPBjarQKuqHwkGV7XG7IgRjEblDPCaDmxJxRa0OfyhMssqmQtyuCMH88+8/bkWhNM+Z\n",
       "rS1uTaz3J3vNNAj//bv7dkEIxrVIN4jH5Fq3hltFuCWmCheEYBwiN4jHFOLWNAYrw+2CEIxH5Hnx\n",
       "mELcmsZgbbiVC8F4RJ4XjynErWkM1oZbJAQTi1dkEYny0KN2hz05dmsag5XhFgjBdBvxijwiYR4W\n",
       "HezAC5IXoDmgjJ7ErWkM1oZbIASzFa/IIhLlMVeN4gvo1ZZVRG/BrWkM1oZbIASzFa/IIxLm0VxZ\n",
       "xRcgLiDXiz6NW9MYrA03LwSzFa/II+LyDFrNxSu+AAIGzCVuDCG0iH/DM7jFGoPg8vw0dubZ/Klw\n",
       "0Sb/67gFQjAb8Yo8IjYP5Z08yhucXQNEdKZguKt1i4aJp6dIEiqCYQmezZ/MMly0iP44boEQzEa8\n",
       "4gARkwdToM7fwRA3cUf5dBduwTCRZqXUnFTgXkUwONv5bP5UyNnMW6xQPfAabj5sxCtKEJFyB6Hi\n",
       "i8SNMkvI87gFw8Ss5pGXCkzoDXqxvmfzJ7MOly3Wpx74IG5b8YoCROhKSaT4InGTelhmjPc8bn5o\n",
       "qSU2KIM81tYNpAITeoN+yc5IdOwMlOZPljhp8tBifWuIj+G2E68oQASMqgXzU0c9luEnEqIXcHND\n",
       "S63GRxe8yR2JHuz1Bp2+kFHz2xkozZ8K6TIdW6xP8OjRzvQ6IrTnMtYpvpBFP928Dzc3tNSqe1K3\n",
       "VGtyWKHBSCpwL0PoxPrMB2fAShIm83u9wkOxv22Z9FmvdInsObD61APfh5vD7priyyMbkLQa3zyY\n",
       "ttMJDUZSgXsZQqeqZtT8nAErSZjM7/UKD8X+NmWydzZl0fvecHsat+4WW4e4qWpSOqQTVNuVDVCR\n",
       "VOBehtD1XbqavQErSZjM7/UKD/u+TZm0dmHaIrBP+1pn+hO46WH5LIdJAwxwi545bGUItViflhjU\n",
       "w/rAQGd+ZyGZ31z0+ZOyhXGZjHZh0qK9VqF6YJ24Kdm9AUHAlWy8AwqHJ5Y3MoQ6l5YY1LJ9gQGz\n",
       "WpHOb5cyXP6kbOGmTNOBxSkw2HD7fty2C6SOjOTA0Vw1s0SQyG8lCZP57cUg/27gtrNptQtTFp2u\n",
       "YX1b9+rELRbec0KD6T9gr+o8WmIwFu6zkoTJ4C6G+Tf0J2weaReaaxWqB1aKW8cuL8ibR5rwnvzx\n",
       "pYds1qgeWCtu10U+6L35ny9TjVupqsWthYbbq3HD7vXbhj3FZcIFqbOXH813hxN4kwBXjxsHdlpK\n",
       "vmyBtLhMHJynzl5+NN8dTriLg1ksHHjluAHW/Tpu2oWfxs1tcuGwatzo2P06bsaF38bNbdNLbNer\n",
       "CDcEC+8ql78YdPaTHUWJipMX1rRx4cdxgyYNRDXjNpfdVaKhoPzwIX9JogvJC2t67mrArZtp/F4j\n",
       "bmAsuqvEPoikB5ugihJdSV5W02CsA7cRxu814obY3nHcM443x1w7vXebIrPKn0izT3TSB57aLKtp\n",
       "68KxB0W4Xcr3AG6HHrI+fq8RN/dfyTs+yP0YU3R+R+4olmwIMvTGoESafaKTcduRTS2MsqlptASh\n",
       "37lw6EERbtfyXcft2EM4xu814raA7V2h8ke45R5Z+dm4ruqWEYzMlyANZazvaSrRSTiwaYVRymra\n",
       "unDoQQluSa9uxO3EQzDH7zXiNg/bu4JUsRf1s7Wcm3ujW5fefgnSIHcHt4lOwoHNaw2LdeHQg60x\n",
       "uo7dgefeq3y+w7WZhPkzD91vna9/CbdZ79fW8WAxwyw58GCMmC9BGvmCV5JIdDp0y9p8EreUBztj\n",
       "C+oOPPde5fMdN7l782ceDnP8/ic6U7ryoOwBbvKculqyQFEauUvc4xYkKsEtY9MIoxSO3badadKD\n",
       "gs407dV9nemZh7akYKkXt4nvbrqsvX7UUjDGdQLMcRTBxgA2aURXuCQSnRYxa9MIo5TWtHXh0IMi\n",
       "3FJe3YnbsYcWqj1c9eDmZt3OcVl7QPQFKPyfxu0mbq6eT0ZpOmL2kW8ShUMYP5bxn7I2jTBKaU1b\n",
       "F449KJgqpL3K5Tv0LdlfnnhoF3QQqxc3sqsN2nMxX+w5iSrLLcmq+VqUxh1w3iSKhjB+LOM/5W2a\n",
       "BqsMN+vCiQcFM9OkV9l8h74lZ6bHHtrK2VdSRQ+xFnJ0V/04Asq7RBL7FeRKBsYnidIhl1wLoxT3\n",
       "Y8aFEw+uPVXwXr3kqULCQ2wKivfnOyrCzT4RPsOto4BzsH9YgCdCCKLHibLrBenkRhiltKaNC3fi\n",
       "Fnj1EtwSHtq9EgjWjJvt0pI3nY0rOzkkPMvfbFq7W4MRRimu6QkXeHAJt8Cr17RuOw/tTw2kfnKg\n",
       "JtzMucxf3l6pXfjtR/R2IJs6lF3V5nH9zJjwSFTyK0JxmZQLJ6mzlx/Nd4cT7iI39cVT9dZOYrXw\n",
       "xvCzuMH287k/FmSF8V/Frf187q+FSz+few0RFfp7cLvPVgvfF5Y1XBCIv5U2m1CFW4ZXd9pq4QtH\n",
       "czpsvv0PGOSmZl2hrHAAAAAASUVORK5CYII=\n",
       "\" style=\"display:inline;vertical-align:middle;\" /></a><br>(see <a class=\"ProveItLink\" href=\"../../../__pv_it/theorems/16873e1c35c26d073eb5918842730564364cadba0/dependencies.ipynb\">dependencies</a>)<br>"
      ],
      "text/plain": [
       "<IPython.core.display.HTML object>"
      ]
     },
     "metadata": {},
     "output_type": "display_data"
    }
   ],
   "source": [
    "%proving norm_of_tensor_prod"
   ]
  },
  {
   "cell_type": "code",
   "execution_count": null,
   "metadata": {},
   "outputs": [],
   "source": []
  }
 ],
 "metadata": {
  "kernelspec": {
   "display_name": "Python 3",
   "language": "python",
   "name": "python3"
  }
 },
 "nbformat": 4,
 "nbformat_minor": 0
}