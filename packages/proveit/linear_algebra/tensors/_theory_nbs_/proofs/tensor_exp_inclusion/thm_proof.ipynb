{
 "cells": [
  {
   "cell_type": "markdown",
   "metadata": {},
   "source": [
    "Proof of <a class=\"ProveItLink\" href=\"../../../../../_theory_nbs_/theory.ipynb\">proveit</a>.<a class=\"ProveItLink\" href=\"../../../../_theory_nbs_/theory.ipynb\">linear_algebra</a>.<a class=\"ProveItLink\" href=\"../../theory.ipynb\">tensors</a>.<a class=\"ProveItLink\" href=\"../../theorems.ipynb#tensor_exp_inclusion\">tensor_exp_inclusion</a> theorem\n",
    "========"
   ]
  },
  {
   "cell_type": "code",
   "execution_count": 1,
   "metadata": {},
   "outputs": [],
   "source": [
    "import proveit\n",
    "theory = proveit.Theory() # the theorem's theory"
   ]
  },
  {
   "cell_type": "code",
   "execution_count": 2,
   "metadata": {},
   "outputs": [
    {
     "data": {
      "text/html": [
       "With these <a href=\"allowed_presumptions.txt\">allowed</a>/<a href=\"disallowed_presumptions.txt\">disallowed</a> theorem/theory presumptions (e.g., to avoid circular dependencies), we begin our proof of<br><strong id=\"tensor_exp_inclusion\">tensor_exp_inclusion:</strong> <a class=\"ProveItLink\" href=\"../../../__pv_it/theorems/0160422170b308e8e524e0538cb3c5617875d5b90/expr.ipynb\"><img src=\"data:image/png;base64,iVBORw0KGgoAAAANSUhEUgAAAZgAAAAzBAMAAABYuQP/AAAAMFBMVEX///8AAAAAAAAAAAAAAAAA\n",
       "AAAAAAAAAAAAAAAAAAAAAAAAAAAAAAAAAAAAAAAAAAAv3aB7AAAAD3RSTlMAq1RmmUTNIjK7EInv\n",
       "3XZ/CtNrAAAACXBIWXMAAA7EAAAOxAGVKw4bAAAF00lEQVRo3u1aTWwbRRR+/t312t6YAwJxiSV+\n",
       "RStkkQYFElKXpOInCritEJQcYughEkKtq54gRTG5pq0NCFEHVVmEkKgrklUTFNVBJVVAHMpPDj3W\n",
       "yhYoUAJppDREcdSaN7P+GdtjeYKUEiI/yZ7xzre773vz5r03IwPwREkmNagtgrCNFlONZDLJH/Zm\n",
       "s0GBpwjCNlpc2WwcYCS7WkXLkNBTBGEbL7Y4+X68TqZOpk6mTqZOpk6mTqZO5r8mYys+UJmfMgTu\n",
       "sG9eMvcVu0OoaLT2HVJ8s5JRwsXuRAT6ddjRslC1LjfH2jcrGVeg0FVhUtI/UZpn4NtqzM0xr8aQ\n",
       "8ZHm3kotLaS1BmqREYEJy1GAX7PvARy/GVTBvQ1UaTQMmTKQemjVD/LcpdyY6mPI7CZNX6WWdmJ1\n",
       "Z6QWGRGYsHShvf/G1uHDmZH78MtiOKZzHE6l02m6iMaIM+6B3JiSYci8U1hFpVrKhPGbNd1MBCYs\n",
       "y/j5Dj8W4mYn3BEVPFF7kDKQDxYM5iH08LW5sQMMGSf6nNvPWQyvY3u29poRgImKTIx8CD+/4+S8\n",
       "bMDkQzAA3kFK5vPi5DsXkStezI09y5Cxob87eVo2YRuuTUYAJirqLH41RkDSsZ1CGxvoTeo4Hbuz\n",
       "CLOsAPRTT6Njf7LR7Pt0+iJPS086fVmvTUYAJioWYpSvckFFbZF/ZsYYe7mXwQxbpvRqDJlnAIZ5\n",
       "WmLKcmm1yQjAhCMzUWlnAJrpr0+vMo+VGe1tS2ylALEoQ+YwSIh0ND4Fzq9ZLfHqYc4b3WVkqsBq\n",
       "yoPFjFJYDETjXl3iTLTEkHGsUS/Ly0CIIePS3CHT9Xq0kmw4DF+wz3u7K2S7kC+GymFPoqduP2m+\n",
       "q/EDkNP5umphfqhqFbbnhh/eCEIhxXtJbyxu4eFnmWy5ynoZjLFkrAZd/++CGirV8pGio8pXEiGr\n",
       "LwXPcchQmHuaLkqCAw9a9rd8HRiFXVwyH5M5mQZHCm1YMjMNs808fAfTv8l6GQywbgZhWt4sSaky\n",
       "LZ22QtnaiTdY2+2gc8hQmBWjqm7iQF2kfTMnAHANTXO1ywdXyQM0low3ww0nTkb/uTPsSCzCkjlL\n",
       "UoW80maUael+QMtVcyopV6yDLxm6u7O7czcHJi2DLWLi0C5gjcL4Aqjn73LeA5J0qn1Ck8bxtvkr\n",
       "EXe7AT+1BqjbNAT6CY9ClrMQlVz8Q1bljlcK/ZGSHF8SzeAoMYi61j9dRka6kK/mTtMCLJq6nzcz\n",
       "BAZwC46AiQPoRpDTbw9MQJc0dymEtlPDFt0TcQft+mvQ4dAlQyIeHDvyA31wftGoRAP7Mj9gOM7l\n",
       "yxl4oaS+bSupmi1RMyxeLC+H70ZNaTW3zyRjV+McMgQG8CrxrH35+DIIMXAMr8BbuIpuwTEsVKSI\n",
       "KzAWkT5bhP3yjYfBQd5+ffJLqmbe0A5aZgVrBsIdJb92VW4BGgJwXePU9rSaeyyRSPitUUUP88iY\n",
       "s6Hi3RRHDKNDW1PTi7h2FLQ/ITMD838ZvfjWmaZm2J/FaIL3JGisALngNd/8mxh/oJIMLiOPztGS\n",
       "VnND5szAXqMyz+Rk515zd0gtvGwgBZAydPV76cx4A64/BjSQkaCs2cKUwBKoGdbNSNW8/g1dpoKM\n",
       "OpKC7WscLWk1R1M8xkPVV3VzFiMa5UuByxrusxTjIxhtCGFKjWlqfEzzLrh0xXgfRlH5OAkAMtZY\n",
       "xLXVQuQ5Vl3n7nS6sGZKE5ZPfKdJqzmJpMPjfSUlURkZuuGTTha38lML4D5v2HumdIg9+guoHS0H\n",
       "c9esz7dG4EOAa2ua9Uf0BlehILb41z8z3sh6t81nEomQyLaZj+MZvKfYPc07AxCW230GEOMdERX3\n",
       "J08Xr25bN5fbfTojNfJyeopzVlbSFxO7thlOZ5SKTv14diPJnGjdOmRkn2vrkHFFt5CbeTVl65Bx\n",
       "jDdtoQCwpaJZnUydzDrIPCH0rzhB2EaLkhyNkz/PXaui5f/zz3P/AGzo0J/4R1+oAAAAAElFTkSu\n",
       "QmCC\n",
       "\" style=\"display:inline;vertical-align:middle;\" /></a><br>(see <a class=\"ProveItLink\" href=\"../../../__pv_it/theorems/3aeb4360d62af7372dfe66314be7bc7f548667cb0/dependencies.ipynb\">dependencies</a>)<br>"
      ],
      "text/plain": [
       "<IPython.core.display.HTML object>"
      ]
     },
     "metadata": {},
     "output_type": "display_data"
    }
   ],
   "source": [
    "%proving tensor_exp_inclusion"
   ]
  },
  {
   "cell_type": "code",
   "execution_count": null,
   "metadata": {},
   "outputs": [],
   "source": []
  }
 ],
 "metadata": {
  "kernelspec": {
   "display_name": "Python 3",
   "language": "python",
   "name": "python3"
  }
 },
 "nbformat": 4,
 "nbformat_minor": 0
}