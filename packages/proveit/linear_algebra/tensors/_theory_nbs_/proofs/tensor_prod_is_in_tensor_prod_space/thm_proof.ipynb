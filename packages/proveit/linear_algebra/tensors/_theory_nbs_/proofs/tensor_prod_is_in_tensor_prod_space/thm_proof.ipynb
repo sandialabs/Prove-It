{
 "cells": [
  {
   "cell_type": "markdown",
   "metadata": {},
   "source": [
    "Proof of <a class=\"ProveItLink\" href=\"../../../../../_theory_nbs_/theory.ipynb\">proveit</a>.<a class=\"ProveItLink\" href=\"../../../../_theory_nbs_/theory.ipynb\">linear_algebra</a>.<a class=\"ProveItLink\" href=\"../../theory.ipynb\">tensors</a>.<a class=\"ProveItLink\" href=\"../../theorems.ipynb#tensor_prod_is_in_tensor_prod_space\">tensor_prod_is_in_tensor_prod_space</a> theorem\n",
    "========"
   ]
  },
  {
   "cell_type": "code",
   "execution_count": 1,
   "metadata": {},
   "outputs": [],
   "source": [
    "import proveit\n",
    "theory = proveit.Theory() # the theorem's theory"
   ]
  },
  {
   "cell_type": "code",
   "execution_count": 2,
   "metadata": {},
   "outputs": [
    {
     "data": {
      "text/html": [
       "With these <a href=\"allowed_presumptions.txt\">allowed</a>/<a href=\"disallowed_presumptions.txt\">disallowed</a> theorem/theory presumptions (e.g., to avoid circular dependencies), we begin our proof of<br><strong id=\"tensor_prod_is_in_tensor_prod_space\">tensor_prod_is_in_tensor_prod_space:</strong> <a class=\"ProveItLink\" href=\"../../../__pv_it/theorems/104a7a78f66fda1096b7f612d7bb745b3452652b0/expr.ipynb\"><img src=\"data:image/png;base64,iVBORw0KGgoAAAANSUhEUgAAA7cAAAAzBAMAAAC+g+JjAAAAMFBMVEX///8AAAAAAAAAAAAAAAAA\n",
       "AAAAAAAAAAAAAAAAAAAAAAAAAAAAAAAAAAAAAAAAAAAv3aB7AAAAD3RSTlMAq1RmmUTNIjK7EInv\n",
       "3XZ/CtNrAAAACXBIWXMAAA7EAAAOxAGVKw4bAAAKJUlEQVR42u1cbYxU1Rl+mc879+4O21+tbaJL\n",
       "pJZU2G6KtJFYOhUIRGMctX+QRtf6oyk/6pAazUrF1R+1VD62JQSWpnC1JmZ3WxhBC7LNZvsVoqTJ\n",
       "pqCm1IVBpBZXV1LcUiC4fd9zzj33nHvu3V3sOmXJeZM7M/c573ned85zz8c9dzIAMdbT0wMTmdvT\n",
       "44O1K9GYfIn6HB/7aEKGxrGxkm3HK9J2jp0HKIyNdcaWvj4JhsaybcUr1m6ml7QV14prxbXiWrPi\n",
       "WrPiWrPiWrPiWnGtuFZcK64V15oV15oVF2YMvWllm8g+GGqeluLmrHSTsHSrFXfyVhHHFFFNDH1i\n",
       "6rwV9zKt2MyPqbD7YtmnjDpbi4rbRO/XG+LGwVFxZ9B7qrV+4tY5ILMbxTElF0qryV586HwzOMeP\n",
       "qG4mlEQoPRn1yai4S+n9e4a4cXBU3Ax13lylfuLWOSCZ28aPqbFVMey7if0uDY6BEiz0JOqcHxH3\n",
       "SRqsOw1x4+CouA517/Y6Dst1DkiWaeWHasN9/f5ESDx+Uwx7wwCIgRL7X1/fe6BDCdSGJ1GnSxFx\n",
       "SW2v2RA3DjbmXLpa9tRzzq1vQLIGcSi20Qf31ARIAt7AdSr+cugNyZ47g0AHO3VQr11lDUqgNj0Z\n",
       "9WsRcekkZy6o4mBD3Pn43lZPcesbkOwGcSjtuhVfusvjIkl4jo0B2R/4CvuMcwBr+Ok6nHHcLSqU\n",
       "RG16MuoHo6vlvwwNHYpZLcfAhrgNQ0NvVespbn0Dkt0uDljdv1YMpV4F3NKBOCQ66BqeHhtBH/FV\n",
       "dm9UDsGlfQDPe74CJVGbnoz6xai4ywG2x4gbAwNUdXEzHVDwP5U2TclVU00VVwRMJa2pitHa8eVx\n",
       "cXSTUR8UR/Yg7ORf9V3YB89DbwwSNd3TxVDpNn2dSszps5DmXbNY8Spuya0qUAJ1xFNSfy0q7mrI\n",
       "o+jZ626F3J8UcTns6l++pIuLHqsBvoE9fO42vj2C/Sr1akdkz0QD7zpfhg3HgiRH9sd3xAUyo4wq\n",
       "Lg9IpQkRSkHtccu1OLGOMupfxfHrVrgD4Fdt1FG8p0t4V8YQt+8zvkSipnmChxdMitY/ysRCzNmL\n",
       "NLASMzLsf5iqMWg8at0zpJ4bFbfge3SVvA+w0lfE5bDHL+H8kZfhliZDXOzbL6PPgJw04Hfoa8gl\n",
       "QedEVxkO0YUnSpZDpin2BqRJZpStqpsYLKCr1mGcMsJKWXuc8kicOEcZ9c/iuBPg7+CMDLLR61v4\n",
       "pTmSgcygRGLGudCTxzhDLzjjDf1NsrvnUSTGjAzUHFUOjUete4bUm6Lipmps4fQzKJbVYVnAtGC7\n",
       "ZgvM8vyMb4rbQldh6kI4Xn/Fj/mSElxCnedDJdkBOd1EZqtymNEqVVwWMKMuMBinjECL/AnLI3Fi\n",
       "HVdFxH0VXJzeUoPUBvm+Dmx6hsws5/8jEWNiVD2ZZal7ueEdJjHDJRqCiRkZ1uxnjUzQeNS6Z0j9\n",
       "HWP7sW0RfTybP6BvP3IYiZbTXlWt5MFLS44sKWvi5tLYs/OjkA664hNl+LrxJQOQb9DMbIU54C2q\n",
       "wfCJygM+VNoPD98Ga24qQ7H/s4QXr98LjUpGe1RxWUAsdfcOV5RNHxmW3b1R7d5F+xLLlSs0ZIo4\n",
       "7tGHZfdjSJ8JxF0DpyDDkbTPFGBIjLiKZ/YE8PoAg9qwDMd7IRA3X8XrucSh8ah1z5B6niHuHrpK\n",
       "nXO31HRxCaZqtKcFc7641jPnXPBuoJ7wMfwwQGfW8ubuYAB288QGkea7sNgrZaqPX1qKkeEf8AU4\n",
       "CC/h4hHxlbAWHlEymq2KywJi6W8qm7i43XrYFGWI5e6bSJtUHprCFHEMou7gh/svmNH2JdaCTzlV\n",
       "HFLuFgh4gwFifG/Nc9dMP9jLH5EexA47O4U2TvMzAKeyzQIah1r3DKlvNsT9EY2MxYtrBnRxCcZq\n",
       "fBCZ4z23Mkbc/O/p4wPhKjrX5MXcwwjwHj5/jzrNOEGs2F3J+7DxupozgCPQo7DZPQePEb7pVh9W\n",
       "KBmtUMVlARFZAutB4ZRhs528PFNyBhLLQ1OYIo5B1BfFsQPmlUpMgiI1xNtVgcAGXyJ8N9D9d7At\n",
       "qHk+No8ubNZQOTl8EDPcWQ463iksLt4YQONRa54h9e2GuDNosil0wiFdXIKxWpZdyXOgdDpGXPgc\n",
       "vdxR9CG/XXTL9yDbsjQyiCAIBVyod3V14ffq8iD9x/kL7scSH9cBqEJDa7H/WBaHPcKzO0dhlpLR\n",
       "Ou2pEAWcRZMVjintfsDJItCp08nLG8rFJrj7nbJSztJydHEDpoJGVFCibhDHs8NPX9vBJaB9hWd9\n",
       "gbDvLRBsFGqgI8EH3XOHbDT3mnsVdr4nyZgLtDXx+QAaj1r3lNSvxz/yw5nwQ9985LcD0t/v6vo5\n",
       "itubM+9zhX0Th42njvJ7idFmaIDdkRuMUX6pPsNP77+PLe2e8NlqapD13MOw44ULfMn3U7xbW6dk\n",
       "NNt45LcOsJdv7nHm+QEnRWCnbNjF2rsrhYX+gHtGKWdpRYZlwRQmF6QqozZ28EPcFpME6X/CRjn3\n",
       "PAyPRhD1iyu4ewFZHhfjxyti+zHCDIs6nJMwKWrVU1LnB+PFxYmnoWqIi9WcKu+52RZzhyqoSy2G\n",
       "4uLc7nxEz4zXA95f9/IXAab6IdjwaHwNYDPsKlTd2ijeuToX4LR7AY7VfgG7CJ+NPadRyWjEEBdL\n",
       "DzqjC6HRDzgpAjst1jAoljdUNt3jV/C6CcspLV7eK9MTTGFyQaoyKtuLL+kSPDfy5QDIb/vJbTqi\n",
       "mYKn2pBlcVT9CLPb8rY/OWrVU1LTc4gYcYs7D8Dci4a4VG27uNk/kSgutSqJu76ZvQFsAecPsL7i\n",
       "HMQXAaZmU7pyUeP116BvBJb29YFztqUE78z/cY0wPGaf3EejjsxoqyEuln77q8OtLK7gPCrSKFQw\n",
       "MpZnF7fsxbOyWo5p8XKRGfckJiU5kWoYdatykv/txVrkucLY2JlJPju8thLzmC2Z+ZNQt8Pl/BKD\n",
       "qrVjn3feqES3SaK/xKDmE0NaBmukZIEAqe16u7pittcHzATCnQvlrjAXLWUXVchJp90UWdZerpVT\n",
       "Wt1qZqGnntw2NWq3XEn/71YwNjuniplTb4XL/ZmN+0rXloQHBxFxs2KgOFAEuFcqwUF3MOn5oRN3\n",
       "fS4LV2MVQ9ygtFHfkaDTZSyyKPd8rTdQWsuUzEJPPTk6C6Pma/yYCnvXQKaKmVGzjb9P4zdUGw81\n",
       "Q1qIMHYJQC4C0sHSLOkJw+qLMaDnm7u/uUip8772aJdOabumVdZ+aGxQvSHDtES5sNBTTw7PFsB0\n",
       "tenwAznf+AC58HfLSReKO8nymDiTgq98++Ct6fnrR2uTtv+HuM7Jqm34q1XcJ6HTNvzVKu422+xX\n",
       "r7hHp+9CxYo7ka2c32ob/moV15oV15oV15oV14qr2+FJ/Jl240L7Z9pXqPX0nKY/094VL679M+1p\n",
       "bfLPtP8LswAB5Xm0qv0AAAAASUVORK5CYII=\n",
       "\" style=\"display:inline;vertical-align:middle;\" /></a><br>(see <a class=\"ProveItLink\" href=\"../../../__pv_it/theorems/e2ff138438852a0080ea097b059fd82f7b6e9a7d0/dependencies.ipynb\">dependencies</a>)<br>"
      ],
      "text/plain": [
       "<IPython.core.display.HTML object>"
      ]
     },
     "metadata": {},
     "output_type": "display_data"
    },
    {
     "name": "stdout",
     "output_type": "stream",
     "text": [
      "tensor_prod_is_in_tensor_prod_space may now be readily provable (assuming required theorems are usable).  Simply execute \"%qed\".\n"
     ]
    }
   ],
   "source": [
    "%proving tensor_prod_is_in_tensor_prod_space"
   ]
  },
  {
   "cell_type": "code",
   "execution_count": null,
   "metadata": {},
   "outputs": [],
   "source": []
  }
 ],
 "metadata": {
  "kernelspec": {
   "display_name": "Python 3",
   "language": "python",
   "name": "python3"
  }
 },
 "nbformat": 4,
 "nbformat_minor": 0
}