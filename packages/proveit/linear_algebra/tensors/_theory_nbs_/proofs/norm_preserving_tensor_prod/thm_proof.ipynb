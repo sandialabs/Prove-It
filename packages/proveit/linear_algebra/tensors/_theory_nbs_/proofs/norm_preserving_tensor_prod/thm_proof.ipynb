{
 "cells": [
  {
   "cell_type": "markdown",
   "metadata": {},
   "source": [
    "Proof of <a class=\"ProveItLink\" href=\"../../../../../_theory_nbs_/theory.ipynb\">proveit</a>.<a class=\"ProveItLink\" href=\"../../../../_theory_nbs_/theory.ipynb\">linear_algebra</a>.<a class=\"ProveItLink\" href=\"../../theory.ipynb\">tensors</a>.<a class=\"ProveItLink\" href=\"../../theorems.ipynb#norm_preserving_tensor_prod\">norm_preserving_tensor_prod</a> theorem\n",
    "========"
   ]
  },
  {
   "cell_type": "code",
   "execution_count": 1,
   "metadata": {},
   "outputs": [],
   "source": [
    "import proveit\n",
    "theory = proveit.Theory() # the theorem's theory"
   ]
  },
  {
   "cell_type": "code",
   "execution_count": 2,
   "metadata": {},
   "outputs": [
    {
     "data": {
      "text/html": [
       "With these <a href=\"allowed_presumptions.txt\">allowed</a>/<a href=\"disallowed_presumptions.txt\">disallowed</a> theorem/theory presumptions (e.g., to avoid circular dependencies), we begin our proof of<br><strong id=\"norm_preserving_tensor_prod\">norm_preserving_tensor_prod:</strong> <a class=\"ProveItLink\" href=\"../../../__pv_it/theorems/90ce77bd839fc719076842258f63a66eedddf71e0/expr.ipynb\"><img src=\"data:image/png;base64,iVBORw0KGgoAAAANSUhEUgAAAsIAAABYCAMAAADIrmHnAAAAOVBMVEX///8AAAAAAAAAAAAAAAAA\n",
       "AAAAAAAAAAAAAAAAAAAAAAAAAAAAAAAAAAAAAAAAAAAAAAAAAAAAAAACXHtMAAAAEnRSTlMAq1Rm\n",
       "mUTNIjK7EInv3XYgpUBs4s2yAAAACXBIWXMAAA7EAAAOxAGVKw4bAAAMTUlEQVR42u2dibarKBBF\n",
       "FVAmpbv9/49tmZRR5cbXfaNVa737EoUjxB0sUU+67nqwxUTf3RG3ikG8ImbLTPHdVeokXmO4CeEb\n",
       "xSBeERoY3C/Fd1epo/c151YxiBdxvNTfAcIQgDAgDAEIQ0B8LcL75ATCsKcgvhBhss1OjDBAQ3wj\n",
       "wswPw5TDjoL4ylx4FPZ/iWBHQXwlwtilwCPsJ4gvnZGYZh2ThP0E8aUIE6b/cgH7CeJLEaa9//Pc\n",
       "QFm3FWD5HITNACzN3Bp2+QSaOAsaXFxa7mm1KJXTLM96IuQ0SUn66gy1mvRJp1JKspbEx97XNPQL\n",
       "0dXHieiDD3D5HISR2k7m5OR4iwqUlxYjL8pUz7lGiF8Z6HtTaKzyNSKX+ZCGw4bo/RfAkCyF/Q/A\n",
       "fAzCK7/YHVfRYnZvsnfLS8tH7LQoIX44bkBYVT8iviJsvyUNCPvLN6YFyl/LGSH7fw7CEvndSRe9\n",
       "g3FSqLy0GGlRtecEGiDBZ4ZU+GLdOlaqo+OICPEI67HcL1FY2WFzzR+w0qPw2Ov3tKN8XtcRoQd9\n",
       "bDFVUvXUSXYKYWk2P7sWLHgtKfZeA5mPQZhO25C2rLueZqloeWkx4qIiuORnxkC6IJsNbC9MaoC7\n",
       "YUI6+9AICzTrkdsu0TmIMAwSPbTrXJjOy2yINb1Raw7Ur6smjS4xxaykzhSoPrrQces8nvbTOATZ\n",
       "8HMQ7vrt3GvsXRZAw1k2v3RAipw88bEJdJreAWcIr7Jc7S+Y/jQGvv5vttfP67na4NoqOrt6r2Do\n",
       "NPm1/qowk1Ks4z5de8VxJ3TvqHCSbD15s1mv+x6pRVKXq4eLIZ6AcJA2zp3S+52hWeRL1/0vlmsC\n",
       "rq8jN4F2hDWnan+BJ/skFHMZ7s6VWYLN4n4dMIfFn84J2xOP8IRNAjErV2STHPhi0hrkjjFca++X\n",
       "cBgg/EiE8TK4FDFE2C+lHptzAST1ITuc+iojzNynweYM4bnzo/AYjcKWyDkYhWesR2phi3hJJvRX\n",
       "KGB1wWYoFpBIPBrh9ejbBQgLmSw1ualdXPqzF0WWkCAd2RHmKnixJgCdULVR2ObNk1bRs8VU58Jm\n",
       "aNXXYkyqofh6ZFj/XzOQjkujZSVNA/h+Ouf6vg3DCq5uPBLhffA1L9iE4qV2iswsZhON/8RF7bUN\n",
       "6i9xUH3Vgop+JRxP47C9WDNnqWck+jVRtZc2/OSIWbKuVorYRkuF1TyyjgxyDdMbvCbnmkaCMdND\n",
       "tdFy/yGisL2YwvVfxRctjabFMczh/uhnIpyyHM88rRCowuIuXyZm+15InQv/maf+z5Ka7cStNKMt\n",
       "IBV+NsJMTWbedIjm/8dlWcxReShcFkiWcfXHLx2wq58kodeWQTxqFHaNvb74P3/0TqcaF4vK7OsE\n",
       "djBvQfgpIU4XQADCEIDwMxFmCsM9YYDwFyOsn5CGc39A+IsRPr1LHgIQ/t0I6+llOHUChL8Y4UEb\n",
       "GgMCgPAXn85BPBPhBjM+T90t/n0VhIUJ2FFvjzoHOcINZnyeulv8+yoImx9QgHsPXx9cc8CvIdxg\n",
       "xvfX339Z+u7w7/NiKcJwtRXC41nE65+/s3fXzfi2gfMO/77aKAwIQxwiXDidu27Gt1F3h3/fRYTB\n",
       "NxsQPp+RuGzGt1N3g3/fRYTBNxsQPkf4shnfTt0N/n0XEQbfbED4HOHIjC92+6pRF1URR8Oj/DQX\n",
       "Bt9sQPgU4cCMr0vcvqrUhVVk9PAinYlegZ2nCfkUYfDNBoTPEQ7M+FK3rxp1URW31pnuod48mUDE\n",
       "PQiDbzYgfI5wYMaXun1VqQurWFa96R5aV5Atg/gcYfDNBoTPEd7N+FK3ryp1W5XBOurtpnuIoYEq\n",
       "jbAkhMzrv+EjhGPfbNQ6L5H05dP6pWjTTARJpqQNCIuK1RW1dh7LHeo1OlvoLdXkmpv9E4QDM77E\n",
       "7atKna8iVKfdP4LnyBFbEwk03DYKR3n32aOSBWPsqAWf1i/WGdokY0GeKa1Lyg7e5RUCj5V2nsiV\n",
       "19Tlzj6C2oZam/0jhAMzvsTtq06dq0IF0s/CB6Z7K8JruxS/DeEg7xY1K9/N/To3xg6tGz6tX4qa\n",
       "ZlUyFuSZUhvCTKk5lvVH1DO54ppc7sD9ON5SE8KF7XyG8B6J29cF6rSVU2i6pxEW0kN3A8JB3l0z\n",
       "s9zdrwse2sEu+LR+se7QKhkJ8kypcRTu0BzJ4l5ek6usSeR2vRymeEtto3C2nbsQTt2+zqkTi2CR\n",
       "6R4yjrzIQSdvQHhP1W2vhcQq+lAC9+uCh3Ywo/xp/WKLi5pHkpEgT5W2XZ4184QFJ8v9qW8id1Uv\n",
       "kdv1CmxGW6pt6Fqz70I4c/s6pw6NZqTdu2kzMHXm3t+A8JaqW4dpMdO4dmTolHto776Rn9YvRVnz\n",
       "UDIS5InStsuzZm4sEO4DhyxYWYTdsTmRq+sdyu16+Z5PtlTb0KVm35hINFMnenO6uZnusdnezHAj\n",
       "wluqbq2k9W8GWA8zZ54dul8XnLV3A+qkvrfZLtbfPbiPDazTNlkmy01yvEaCPFHayUq7eTac2frc\n",
       "jyeJXN7tk1HY1efVGc10S9mGXOcuNfv/RHhDudF07yc3W1qH6Wlwg7w3zw7drwvO2rsBdVLf22wX\n",
       "6+8e3McG1omm/2RLklvXywhv/tl2l2fdPGPByJr7+czgmMjl3T5B2LZy1ysMwvGWsg1dSyTYr0G4\n",
       "NX6CsOmt+Q0Ajs1TKXbfRj/8ljtr70eqpL632S7W3z24jxOJRNP6cZcl3bpaIsGiYTPv5qUjMt/m\n",
       "IWO5QrcvJRK7XmkQjraUbcj199cnEv8lwva8YdKp1oDDfStC3chZu3MG1NY2O61vbbYr9d3KoH7R\n",
       "ijvWdH7cRUm/LnLErp7OFbp5PJxpWXdT9aDy07lCtw9HYdPKQC/pd76lbENo+xacNftFCBsv6YFg\n",
       "pNxvYNl9S0OXk9hZ21eyttlpfTfxVa7vZ8X2+kUr7kSTH0i6ZZyWEXbL3S7Pu1lkgcpxcaMd3ecw\n",
       "SSZX6HZJL5YL9ZLO51vKN2T7e6HZL0I4Tco8G8VE3K30kwMor7/ZbJfq+5Vh/WwkyTS9H3dJ0q2L\n",
       "HbF51rt8lx+PwqVJkEM537NDvRbfbrulTM71t7HZD0c4dpP25tllfb/SVbG22VH9zWa7FNvKqH6y\n",
       "63LNQz9uuy4pn/Uu3eVbT45ZyI22y3J7zw71mny7TeFczva3tdkPR7iTrXes+TsY8D3143U/0Uxu\n",
       "qeBZ71qvzhVlL8gd6jX6dustNV6dO9/OQxFudkUTN9f/uE1JYZqtpDVBerQlUVtYr3Wk94OPqSbX\n",
       "3uyHIwzxmngUwtT/+XVPMbc1Ch7CfivCyp/5s99mVdXYqAF+I/GdCCPZfTvCzM2LKfBzeSPCYuy+\n",
       "G2HRk9HfgT3CM4AvRJjgi7Qo/WuyJz+TeKVMQ/mr36vtIQIMrp0vRHi6RguzoAk1fFamqXwzwt0E\n",
       "w/DrEEbjJVqYv9Yu6nd8XinTVr4d4RGy4dchTGROC+2loomPhX/qhbirZVfKnMS5ZjvCsgc234aw\n",
       "H7YCWgZ9qxSPnlHVj46Yu1WJuxnwSpkz7o40rZNcgjCZg+iLCGNw1nodwjNKERYTNriY1w4Jw4tk\n",
       "lLg3QRkhZd+LQpmzOND0TnLtozCagM23ITwNKcLENHuWXWBHYAdV0vs3QRniuUvLnMWB5s8TCbYA\n",
       "m4DwZJ/1scvdzf9mBZWSuTdBGf2HLiwvc54KVzV/jvAAozAkEmJRQdsDhLVfjpn+IlEZ/azNhnBQ\n",
       "5hLCFU3nJPeDXBjNwObbEOYqQ1hD3Y/W9c4hwZB75HLlbUBJmTUNmPMy502sajonuZ+Mwhjc6l+H\n",
       "sJ+F2mnRUKOZ2IF0e4rQPwCkzC0VURl/i0JSxpwOLmPtxYGmc5K7jrDcf+MBjJJfhzCbsxmJXklG\n",
       "e8WiA/N2GcLMPkRlNleUuIzdIKm+ONJ0x4ZrCPf9tIw9rnQQ4ukIdzM7omXPLbFmixXuBdOzYpQe\n",
       "l6l9ipXy1knuB/ceUUiFX4iwuzPmFOFOIKVQftWNcsYYEYdlqlEp75zk2hEmcH35hQi7w3mRlt2O\n",
       "oB6T/jnfm2djnZNcM8Lw02PvRNhaDTzhqY0D3w+IJyPcmTtrmIrM139HNDZKAcEvRRgCEP4ihLEQ\n",
       "Au4Kf31oCtSXIqxPveDhnNcH1xz8CYRN9DchfKMYxCtiXsLJpfjdxcEdm7gnW71VDOIdybGN5N2/\n",
       "pn6qEr3fIjUAAAAASUVORK5CYII=\n",
       "\" style=\"display:inline;vertical-align:middle;\" /></a><br>(see <a class=\"ProveItLink\" href=\"../../../__pv_it/theorems/f675acc70eeb9f8812343c125e97bd867d4016c30/dependencies.ipynb\">dependencies</a>)<br>"
      ],
      "text/plain": [
       "<IPython.core.display.HTML object>"
      ]
     },
     "metadata": {},
     "output_type": "display_data"
    }
   ],
   "source": [
    "%proving norm_preserving_tensor_prod"
   ]
  },
  {
   "cell_type": "code",
   "execution_count": null,
   "metadata": {},
   "outputs": [],
   "source": []
  }
 ],
 "metadata": {
  "kernelspec": {
   "display_name": "Python 3",
   "language": "python",
   "name": "python3"
  }
 },
 "nbformat": 4,
 "nbformat_minor": 0
}