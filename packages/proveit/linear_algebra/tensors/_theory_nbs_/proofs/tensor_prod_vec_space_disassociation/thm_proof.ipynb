{
 "cells": [
  {
   "cell_type": "markdown",
   "metadata": {},
   "source": [
    "Proof of <a class=\"ProveItLink\" href=\"../../../../../_theory_nbs_/theory.ipynb\">proveit</a>.<a class=\"ProveItLink\" href=\"../../../../_theory_nbs_/theory.ipynb\">linear_algebra</a>.<a class=\"ProveItLink\" href=\"../../theory.ipynb\">tensors</a>.<a class=\"ProveItLink\" href=\"../../theorems.ipynb#tensor_prod_vec_space_disassociation\">tensor_prod_vec_space_disassociation</a> theorem\n",
    "========"
   ]
  },
  {
   "cell_type": "code",
   "execution_count": 1,
   "metadata": {},
   "outputs": [],
   "source": [
    "import proveit\n",
    "theory = proveit.Theory() # the theorem's theory"
   ]
  },
  {
   "cell_type": "code",
   "execution_count": 2,
   "metadata": {},
   "outputs": [
    {
     "data": {
      "text/html": [
       "With these <a href=\"allowed_presumptions.txt\">allowed</a>/<a href=\"disallowed_presumptions.txt\">disallowed</a> theorem/theory presumptions (e.g., to avoid circular dependencies), we begin our proof of<br><strong id=\"tensor_prod_vec_space_disassociation\">tensor_prod_vec_space_disassociation:</strong> <a class=\"ProveItLink\" href=\"../../../__pv_it/theorems/07bf6dd95b651ff84bfe6b556cba0e1ee6c9d5900/expr.ipynb\"><img src=\"data:image/png;base64,iVBORw0KGgoAAAANSUhEUgAAAxAAAABYCAMAAABSxOFTAAAAOVBMVEX///8AAAAAAAAAAAAAAAAA\n",
       "AAAAAAAAAAAAAAAAAAAAAAAAAAAAAAAAAAAAAAAAAAAAAAAAAAAAAAACXHtMAAAAEnRSTlMAq1Rm\n",
       "mUTNIjK7EInv3XYgpUBs4s2yAAAACXBIWXMAAA7EAAAOxAGVKw4bAAAOtklEQVR42u1d7YKDqA4V\n",
       "REFQdi/v/7BXRBSQT7WtzpIfM20JMUKOEMRj0+QKEYuA5nb5nOUqVYIyqbDzfssLW9bO0n0CEJ+y\n",
       "XKVKUGTMtUB4v+WFLf6QZ5+zXKVKAhUi/K0CokoFRAVElQqICogqVV4FiH3FCba116r85wGBtiWn\n",
       "vo4eVSogiB4i8FA7rUoFRNNT9Z/B2mlVKiCadk0d+tpnVSogZhknKSOrfValAkKm1UT+HWjtsyoV\n",
       "EDKbBvqPliA2ikBTEZYUeOwOXgHxa0AsgwMzNvzRkQRCPFSQq0wGgRhDQ0mJ7zTCyhzMJZTR/AKf\n",
       "RJQ7IAbZVmSa3NjlnDNSMvNcd1nOJpFc0ehHJAfsCohfAwJyO6VmIrDgFCzIVm6nJXLGkpImX7mb\n",
       "lmMO+QU+8SsTDoYFCmu2xbFv6okKttZTratOpFMA7FgFxI8BMaOhNa52HRn943awIF8ZoFBrhEua\n",
       "bGU4qms6RLkF3nmMVxkhPR5xddhD3Cr8FABiuyc6yEpcf+tpBcSPAcGg2Qm86f29GizIVx7ltZdO\n",
       "bUlJk6uM9ZhEYGaBT/zK3DiWkJ+hxAdruUQ9Zxzg+XxlI+IGD1PLGZq/YNaqoFcKmzpsmTQxGQbx\n",
       "Pj/7ozeE3gQIPAIrq0O9P8QDBfnKWPC2RYA0BSVNtjKYQgPKVNBGljJab99T8zY+mtapfj+HLmob\n",
       "Nn9GrMGTmJb4X1qZz2cP5lFklEBQCqu6nBPhuX1wv/dKawynEFVA/BgQjRFbHdFzWmyvxG4FHeQo\n",
       "9czdbqUZ3Lk/VRMe27xRkrZvmpljTNsZzUgyzZsFSeuWFR2cXWvhsVuGDyI7tRuobFRMVZoh5sAm\n",
       "y4nPSnguGNpmVVjV52oIUvVRz8EYZnvC0g0VEL8GhHn5Y4wBQeWMYaLegrnrqMi14pv7y4ByzRsl\n",
       "afuGshXK+ioLHfNmQdK6qSwv6Kr/+mERNZsZhiWDaMfledxuNUdVC2tAjO0yVZp4syqs6jLihXQd\n",
       "6mF5GPZUfVlDq4B4DiC4CrVlxLAidi/AustzrEDG3bn/HCBH80ZJ2r5pZp47bThZI0yt/xjmzYKk\n",
       "dctKj/Ey7bdXUzvR8TX4l/OkRjo9GSOETHIGTleFVb0hVALMCPwlJ+Hb5aNOmR4EiHVqoPJKFVKU\n",
       "HQqaZflxKfD9MZWh6l71u4oMOqkeN83bJYv9sHlTGWPab6WjymA717xdkPDeUhYYqvTBnj5OaiFq\n",
       "ng41lDcDW/4tA5a8wUmkf3yYR6L5/8Q3hVV9aZFhT6rXTtmGCM4rIJ4CCLRk1xSJvttCisjrsV2g\n",
       "ViCXAjJi+4+rPOy6bS+YvJ+2rqIY5p2SxX7QvKPcMq08HxIxzunBvF2Q8N5UJgJQnZIQT2rB2BK9\n",
       "6h/qZrcWZ0Q7JyoytFHbkp47ehDxlsl+GJbO4IOQK0xwFCsiBlwB8aAcwrwO0n0yba3S0nWDgW99\n",
       "0PmNTusvMNv8Zj/DvJypdP6CO7znDE9UNRllMofIIvAheXcXA7fg6B99LuX1gCB8VCvinZMb90KI\n",
       "yVfg/W1Q19rD70Hzm/0s83ri4Rbc4z3CDWtheStnKiKc+2MFxBNGCO17SUFbauSaeb7mKGVWir0v\n",
       "EgxE7u4Lz26pP8siV1k3viEQvHtJhmb8UgFRAVGlAqIC4uFCeFsfKqyAqKKbDti7UKpUQPynZSC1\n",
       "DSogqmwib2vUh2IrIKqs0sk3a9RmqICoUuVDgMimFdZhez8PcQVElecAIptWWIft/TzEKUDUzLHK\n",
       "eaFRbq8jILJphf/59x8VvrfzEGvLAQHRgeiFgwuuzn3TaTJFEPG/fw/fcmmFt+v47TzE8RECRG88\n",
       "cdMJnPtwNf4QZWyWXf7ox/W7Nz73EHcaTkVJdS6t8Ba2t/MQRwHRRg8DLbT0uYsEvfhMx+TY1S63\n",
       "gxBglj41I8xWLJ4/ew3zRGZI+TDXkYwc9+gVT4F8duNOM1ACiFxa4T1s7+YhjgECj7HRg1pogbmv\n",
       "GYbiM4DIsWu4PKo5JxCpQM9WLBWv4TgDEx+XnfMQJbh5cvVKJWA37nTYBx8gMmmF97C1KlAzYMnt\n",
       "gJiigyGyThQBjyEuHxjj9sllK8Y6Js/uQW13GQt1bp1A8TrZiqU++w23KFyHDtPax8g51Vy9a+0c\n",
       "tNtG9xdrlrc8QFi0wjajpz9srQrW4/ra2/YQx3hCkqi1HUERINrEc/3WwIjZ4RJKVFNS3p1RjGA4\n",
       "z65HbTRan6z/ebxOtmKpzwHDRvS4dfqtrBtjtkN6V9s5aLcZoxDrUQEgbFphi9EzELYuD7EnUrv9\n",
       "lBT5KATLgyeIFgEiPi+D5owJ84a7xK1EPwlMjccssxUj/ZRn16NmuAyE7mQcr5OtWOqz33DTt6E6\n",
       "BjMuQRHbIb2r7Ry0azrtzbpDIeYFhEUrbDN6+sPW5SE+zvy3w2zko7DlkleOFU2ZuIjiHpnWkJzD\n",
       "O62CmuW5+YYi4zGwbMXIgfPsetQMl9UEnoKJJOpkK5b67Dds5KBOHSz29RpKwraDehfbOWw3mjgv\n",
       "eAEFgLBohW1Gz0DYbhU6Doz0H8Ft/WK+XjIr+4cEdvM1tAwQU+IsjfDrFtI627wkMZItOrfnyhVT\n",
       "ohiZ1ybtLpmVT824+oqBcw6cK5unTrZiqc8Hw8RZ2HPrMMGzbIf0rrZz0G5yNXK+VNECQBi0wg6j\n",
       "ZyBsdQXJ+2NcIbf5AOAY0nkcNrgaIJlBDrsiQJDEssoErQFivoIoANG1dZZvjGC0fbEVKWNgYXTx\n",
       "KoYlZXfNrHxqu8tcnTUc24TLluJZl5OGjRQQjoE6k9NRIacdvc3nq+3sHt9MVWE826QBLPkBYdAK\n",
       "O4yegbDVFTDdb3pQutDnqrFY3nwiFvmo5KVGkiirABAgwZyyZyqzYYQQEINKW7jyiq1rP8YXS3F5\n",
       "E8gUUIytayfsRtR2l/WLHpZEPOaypXjW5aRhqz8CdUYjemjEaUdv8/lqOzt2rQBIkYoMUwEgDFph\n",
       "h9EzFLZbhYF7pjBYrKmDQT4qATEPe30JIEaQCwiq3NBzzBWmimyVMbJ9sRUlqx3WYeYoxqe2cbth\n",
       "NcNlPZisSzxhly3Fsy4nDZsZ6BioMwnr+hZ02tHbfL7azu7xsfA4HVxOwgWA2MVh9EyFLRVmcrPd\n",
       "yx6ablr4Spl9Bh3kBYAgInFPZ59/rI07jQdAyBuayxoBOiq21IguRzHVUTG7a2bls7q5vJ0cUOzI\n",
       "QZdtxbMuJw0bKeA26rt1jLV/FmtnR2/z+Wo7u8ffUtUmvj9DRWp7BhAuo2cqbOeswUjSxvUj4A2Z\n",
       "Fp/3232K2YeDAkDw1LbwbXjSUzO9dWJtHQJXSM4t2kGf4tyyk1cxvhoYt6szK5/VzWV9ckT0cZdd\n",
       "xXMupw3vKWA7BOrgbShZl10CTh/0Vp+vtrNrV6eqltPB6QQ4AYgDo2dyhAB8Yx9don35KFePQbsM\n",
       "anqbDJnUZvESQCTfvaaX2rBWHFZL+nLBdRLP1Q6ig6LeCukqyitK3zif9p/idrfM6mh1Xx3sx3Wk\n",
       "72nU5YNi2GWfp2GfHcNGCrgvDbt11mXl7S5VyGlXb9txGmnnHJ8duzpVPSzB5ycRn3piDu4phA38\n",
       "HPLRkOUxBXoyqZs2Qix9CuUHZo2f240ducrhUdxeYGIpqsnNNqRvn/afEnb1OHC0qlxuwLavTjeX\n",
       "32WPYsRln6cBnz2GtxRw2rvLPQZFAwD7EzEBpw96+3tiIu2c9tmxu6WqjtOBq6f4IiA62vSdYtPt\n",
       "yp95D1imIjnLnALLsvuEsuXLGk4gGZELehhnKB4bMqa+Z1ZHtd+5nNRfuwFP2XUynTZ8vrOdt1TV\n",
       "dTqQVXffA8TsL+JqV8aJvY0By0Qkt+aHtnQZGRaFnMMASOcJHSF6M0lM0Rf0EXWVWfnVfuhyQl/T\n",
       "g9s7JqN18py2fL6xnfdU1XU6P5zeRDIAM94/7X1rAWa9YDnPuYxCyv0npDKrV7m8L3jkPwiZ6/Sn\n",
       "fN5T1Ryn/ROONwGizdj+/8LXFjzW5TWFeOWbUXKcFuDlgOA5B8Tve+LxkS7rFLDhb8RDltNieDkg\n",
       "mKicdF8TnQL+YRn7lwMCVUBUuVGm6eWAAKJ2YpUbATFWQFSp8ncAcWXKVLkx/0uS19uvnzKx8wd8\n",
       "IX1ZlfOSR672+qSan6Yheht92c85ywrsvpCnTAPi7fch2rOAeCF92c85y3LtvpKnTMnr71RDcfLl\n",
       "yI+nLztofZ2z7KTd6zxl17jVTvKUqbre93S/CRDJB+aCVzsrE3kcfZlH68ucZaftXuUpu8qtdpan\n",
       "TIXT2zf3NeLc688fTl/m0/ouZ9lpu1d5yq5yq53mKVMTDvh2QEznVmceTl/m0/ouZ9lZu5d5yi5y\n",
       "q13gKWtCW+NeBYgUCw2aDAHei8Xz6Mt8Wt/lLMumLLubp+wqt9oFnrImdJ/3VYBoz92ZezZ9mU/r\n",
       "u5xl2ZRld/OUXeVWu8BT1oQeSH4VIIg49a6dZ9OX+bS+y1mWTVl2N0/ZVW61KzxlBmPHewGRJCpL\n",
       "AeKJ9GU+o9/lLMumLLubp+wqt9oVnrLTRGWPAgQaz+QQz6Yv82h9mbMsm7Lsbp6yq9xqV3jKGlBE\n",
       "ZflQQHSnbs09m77MY/TLnGXZlGV385Rd5Va7xFNWRHb8VEAYBD0F8hX6shxaLT992dHoBzjLimjW\n",
       "gpRld/OUZXGr7X7eyVPWFtHhPxYQp9aZvkNflqTVCtKXOUY/w1mWT7MWoyy7m6csi1vNuArex1M2\n",
       "Fb0w5bGAaE696vTp9GUpoz/2s9lZq2/nKbuTW62Ep6zslVoPBsSpIeLx9GUJoz/2c6csa+7nKbuR\n",
       "W62Ep2wAzd8ARNOfGSJeSF/2ID8DHO2nHX0AT1kn6F8BBBlPHPWF9GWPkr59mcMpnrIJNn8FEP6X\n",
       "cCUvXrxG9Wk0dGR8mcupkTey8+99gGgAq0H6Tfl7lGVdZOPfCwHR9LBGaZUL4RV7vvSNgGhufqK+\n",
       "yn9KaPR560uAWAR8AhCfslylSjjTFubyl/0tC2ntIt0HMPwxy1WqhAcHJc63/wPQ+v457xtdUgAA\n",
       "AABJRU5ErkJggg==\n",
       "\" style=\"display:inline;vertical-align:middle;\" /></a><br>(see <a class=\"ProveItLink\" href=\"../../../__pv_it/theorems/09fef6fd4bbecd2a4fe71d054cf1762077f4c5b30/dependencies.ipynb\">dependencies</a>)<br>"
      ],
      "text/plain": [
       "<IPython.core.display.HTML object>"
      ]
     },
     "metadata": {},
     "output_type": "display_data"
    },
    {
     "name": "stdout",
     "output_type": "stream",
     "text": [
      "tensor_prod_vec_space_disassociation may now be readily provable (assuming required theorems are usable).  Simply execute \"%qed\".\n"
     ]
    }
   ],
   "source": [
    "%proving tensor_prod_vec_space_disassociation"
   ]
  },
  {
   "cell_type": "code",
   "execution_count": null,
   "metadata": {},
   "outputs": [],
   "source": []
  }
 ],
 "metadata": {
  "kernelspec": {
   "display_name": "Python 3",
   "language": "python",
   "name": "python3"
  }
 },
 "nbformat": 4,
 "nbformat_minor": 0
}