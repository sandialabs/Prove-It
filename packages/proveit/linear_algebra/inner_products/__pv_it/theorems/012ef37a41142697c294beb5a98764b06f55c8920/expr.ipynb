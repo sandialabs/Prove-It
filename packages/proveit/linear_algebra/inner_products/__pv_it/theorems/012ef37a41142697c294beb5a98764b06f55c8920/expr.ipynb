{
 "cells": [
  {
   "cell_type": "markdown",
   "metadata": {},
   "source": [
    "Expression of type <a class=\"ProveItLink\" href=\"../../../../../../../doc/html/api/proveit.ExprTuple.html\">ExprTuple</a>\n",
    "=======================\n",
    "# from the theory of <a class=\"ProveItLink\" href=\"../../../_theory_nbs_/theory.ipynb\">proveit.linear_algebra.inner_products</a>"
   ]
  },
  {
   "cell_type": "code",
   "execution_count": 1,
   "metadata": {},
   "outputs": [],
   "source": [
    "import proveit\n",
    "# Automation is not needed when building an expression:\n",
    "proveit.defaults.automation = False # This will speed things up.\n",
    "proveit.defaults.inline_pngs = False # Makes files smaller.\n",
    "%load_expr # Load the stored expression as 'stored_expr'\n",
    "# import Expression classes needed to build the expression\n",
    "from proveit import Conditional, ExprTuple, H, K, Lambda, alpha, x\n",
    "from proveit.linear_algebra import InnerProdSpaces, Norm, ScalarMult\n",
    "from proveit.logic import Equals, Forall, InClass\n",
    "from proveit.numbers import Abs, Mult"
   ]
  },
  {
   "cell_type": "code",
   "execution_count": 2,
   "metadata": {},
   "outputs": [
    {
     "data": {
      "text/html": [
       "<strong id=\"expr\">expr:</strong> <a class=\"ProveItLink\" href=\"expr.ipynb\"><img src=\"expr.png\" style=\"display:inline;vertical-align:middle;\" /></a><br>"
      ],
      "text/plain": [
       "<IPython.core.display.HTML object>"
      ]
     },
     "metadata": {},
     "output_type": "display_data"
    }
   ],
   "source": [
    "# build up the expression from sub-expressions\n",
    "expr = ExprTuple(Lambda(H, Conditional(Forall(instance_param_or_params = [alpha, x], instance_expr = Equals(Norm(ScalarMult(alpha, x)), Mult(Abs(alpha), Norm(x))), domains = [K, H]), InClass(H, InnerProdSpaces(K)))))"
   ]
  },
  {
   "cell_type": "code",
   "execution_count": 3,
   "metadata": {},
   "outputs": [
    {
     "name": "stdout",
     "output_type": "stream",
     "text": [
      "Passed sanity check: expr matches stored_expr\n"
     ]
    }
   ],
   "source": [
    "# check that the built expression is the same as the stored expression\n",
    "assert expr == stored_expr\n",
    "assert expr._style_id == stored_expr._style_id\n",
    "print(\"Passed sanity check: expr matches stored_expr\")"
   ]
  },
  {
   "cell_type": "code",
   "execution_count": 4,
   "metadata": {},
   "outputs": [
    {
     "name": "stdout",
     "output_type": "stream",
     "text": [
      "\\left(H \\mapsto \\left\\{\\forall_{\\alpha \\in K, x \\in H}~\\left(\\left \\|\\alpha \\cdot x\\right \\| = \\left(\\left|\\alpha\\right| \\cdot \\left \\|x\\right \\|\\right)\\right) \\textrm{ if } H \\underset{{\\scriptscriptstyle c}}{\\in} \\textrm{InnerProdSpaces}\\left(K\\right)\\right..\\right)\n"
     ]
    }
   ],
   "source": [
    "# Show the LaTeX representation of the expression for convenience if you need it.\n",
    "print(stored_expr.latex())"
   ]
  },
  {
   "cell_type": "code",
   "execution_count": 5,
   "metadata": {},
   "outputs": [
    {
     "data": {
      "text/html": [
       "no style options"
      ],
      "text/plain": [
       "no style options"
      ]
     },
     "metadata": {},
     "output_type": "display_data"
    }
   ],
   "source": [
    "stored_expr.style_options()"
   ]
  },
  {
   "cell_type": "code",
   "execution_count": 6,
   "metadata": {},
   "outputs": [
    {
     "data": {
      "text/html": [
       "<table><tr><th>&nbsp;</th><th>core type</th><th>sub-expressions</th><th>expression</th></tr>\n",
       "<tr><td>0</td><td>ExprTuple</td><td>1</td><td><a class=\"ProveItLink\" href=\"expr.ipynb\"><img src=\"expr.png\" style=\"display:inline;vertical-align:middle;\" /></a></td></tr>\n",
       "<tr><td>1</td><td>Lambda</td><td>parameter:&nbsp;35<br>body:&nbsp;3<br></td><td><a class=\"ProveItLink\" href=\"../f25edc6b535a95877e642c8565403759884113510/expr.ipynb\"><img src=\"../f25edc6b535a95877e642c8565403759884113510/expr.png\" style=\"display:inline;vertical-align:middle;\" /></a></td></tr>\n",
       "<tr><td>2</td><td>ExprTuple</td><td>35</td><td><a class=\"ProveItLink\" href=\"../3214f6d50d9b000d7aac6b69fe8e45c58e2207b10/expr.ipynb\"><img src=\"../3214f6d50d9b000d7aac6b69fe8e45c58e2207b10/expr.png\" style=\"display:inline;vertical-align:middle;\" /></a></td></tr>\n",
       "<tr><td>3</td><td>Conditional</td><td>value:&nbsp;4<br>condition:&nbsp;5<br></td><td><a class=\"ProveItLink\" href=\"../a01861ea718c6e32d5ad6249ae7d6ebe25f0f6d10/expr.ipynb\"><img src=\"../a01861ea718c6e32d5ad6249ae7d6ebe25f0f6d10/expr.png\" style=\"display:inline;vertical-align:middle;\" /></a></td></tr>\n",
       "<tr><td>4</td><td>Operation</td><td>operator:&nbsp;6<br>operand:&nbsp;10<br></td><td><a class=\"ProveItLink\" href=\"../ed2a33b3b23c9f1976e1dab35881f27e59a8ddb70/expr.ipynb\"><img src=\"../ed2a33b3b23c9f1976e1dab35881f27e59a8ddb70/expr.png\" style=\"display:inline;vertical-align:middle;\" /></a></td></tr>\n",
       "<tr><td>5</td><td>Operation</td><td>operator:&nbsp;8<br>operands:&nbsp;9<br></td><td><a class=\"ProveItLink\" href=\"../cffb7c2eee228de9f7655ce57f1d731b5f8148710/expr.ipynb\"><img src=\"../cffb7c2eee228de9f7655ce57f1d731b5f8148710/expr.png\" style=\"display:inline;vertical-align:middle;\" /></a></td></tr>\n",
       "<tr><td>6</td><td>Literal</td><td></td><td><a class=\"ProveItLink\" href=\"../../../../../logic/booleans/quantification/universality/__pv_it/common/083d2baa0b8ecab1d230f9ec29a15aa1355809fb0/expr.ipynb\"><img src=\"../../../../../logic/booleans/quantification/universality/__pv_it/common/083d2baa0b8ecab1d230f9ec29a15aa1355809fb0/expr.png\" style=\"display:inline;vertical-align:middle;\" /></a></td></tr>\n",
       "<tr><td>7</td><td>ExprTuple</td><td>10</td><td><a class=\"ProveItLink\" href=\"../4c947913db43962d2ddc58e010b22de77cbb79ab0/expr.ipynb\"><img src=\"../4c947913db43962d2ddc58e010b22de77cbb79ab0/expr.png\" style=\"display:inline;vertical-align:middle;\" /></a></td></tr>\n",
       "<tr><td>8</td><td>Literal</td><td></td><td><a class=\"ProveItLink\" href=\"../../../../../logic/classes/membership/__pv_it/common/e3b437d28fbe17f0a50c9789c7c9b47a1270f1420/expr.ipynb\"><img src=\"../../../../../logic/classes/membership/__pv_it/common/e3b437d28fbe17f0a50c9789c7c9b47a1270f1420/expr.png\" style=\"display:inline;vertical-align:middle;\" /></a></td></tr>\n",
       "<tr><td>9</td><td>ExprTuple</td><td>35, 11</td><td><a class=\"ProveItLink\" href=\"../d642dab1ed63813669c75fbb82dc8c33eb563b360/expr.ipynb\"><img src=\"../d642dab1ed63813669c75fbb82dc8c33eb563b360/expr.png\" style=\"display:inline;vertical-align:middle;\" /></a></td></tr>\n",
       "<tr><td>10</td><td>Lambda</td><td>parameters:&nbsp;37<br>body:&nbsp;12<br></td><td><a class=\"ProveItLink\" href=\"../d8ae295c0ffb0413782af57349e2ccbd5ab4c3160/expr.ipynb\"><img src=\"../d8ae295c0ffb0413782af57349e2ccbd5ab4c3160/expr.png\" style=\"display:inline;vertical-align:middle;\" /></a></td></tr>\n",
       "<tr><td>11</td><td>Operation</td><td>operator:&nbsp;13<br>operand:&nbsp;34<br></td><td><a class=\"ProveItLink\" href=\"../011f81088f83ec65cda9a891728400f0a0c30f920/expr.ipynb\"><img src=\"../011f81088f83ec65cda9a891728400f0a0c30f920/expr.png\" style=\"display:inline;vertical-align:middle;\" /></a></td></tr>\n",
       "<tr><td>12</td><td>Conditional</td><td>value:&nbsp;15<br>condition:&nbsp;16<br></td><td><a class=\"ProveItLink\" href=\"../26999a3186f8ee68acf858d6aa2e6f71b020b0940/expr.ipynb\"><img src=\"../26999a3186f8ee68acf858d6aa2e6f71b020b0940/expr.png\" style=\"display:inline;vertical-align:middle;\" /></a></td></tr>\n",
       "<tr><td>13</td><td>Literal</td><td></td><td><a class=\"ProveItLink\" href=\"../../common/97dce8f33694d8d827400c818f103930399de7dc0/expr.ipynb\"><img src=\"../../common/97dce8f33694d8d827400c818f103930399de7dc0/expr.png\" style=\"display:inline;vertical-align:middle;\" /></a></td></tr>\n",
       "<tr><td>14</td><td>ExprTuple</td><td>34</td><td><a class=\"ProveItLink\" href=\"../dfa81a569aedd40943c42f533e78bc2f073711130/expr.ipynb\"><img src=\"../dfa81a569aedd40943c42f533e78bc2f073711130/expr.png\" style=\"display:inline;vertical-align:middle;\" /></a></td></tr>\n",
       "<tr><td>15</td><td>Operation</td><td>operator:&nbsp;17<br>operands:&nbsp;18<br></td><td><a class=\"ProveItLink\" href=\"../ef64ad6bf0f373cbee07d839b96a88be430df7d10/expr.ipynb\"><img src=\"../ef64ad6bf0f373cbee07d839b96a88be430df7d10/expr.png\" style=\"display:inline;vertical-align:middle;\" /></a></td></tr>\n",
       "<tr><td>16</td><td>Operation</td><td>operator:&nbsp;19<br>operands:&nbsp;20<br></td><td><a class=\"ProveItLink\" href=\"../152fee7120c6eda87d0d4bf3d821cb52e68c1be00/expr.ipynb\"><img src=\"../152fee7120c6eda87d0d4bf3d821cb52e68c1be00/expr.png\" style=\"display:inline;vertical-align:middle;\" /></a></td></tr>\n",
       "<tr><td>17</td><td>Literal</td><td></td><td><a class=\"ProveItLink\" href=\"../../../../../logic/equality/__pv_it/common/fb96dc12b2aa8801dda64d0132b396c63d1502bb0/expr.ipynb\"><img src=\"../../../../../logic/equality/__pv_it/common/fb96dc12b2aa8801dda64d0132b396c63d1502bb0/expr.png\" style=\"display:inline;vertical-align:middle;\" /></a></td></tr>\n",
       "<tr><td>18</td><td>ExprTuple</td><td>21, 22</td><td><a class=\"ProveItLink\" href=\"../ead9a7bfafae1a2907ddda4b45ea1668cb92351d0/expr.ipynb\"><img src=\"../ead9a7bfafae1a2907ddda4b45ea1668cb92351d0/expr.png\" style=\"display:inline;vertical-align:middle;\" /></a></td></tr>\n",
       "<tr><td>19</td><td>Literal</td><td></td><td><a class=\"ProveItLink\" href=\"../../../../../logic/booleans/conjunction/__pv_it/common/42118ff318bd65d98b1393f64ce7c2269feef76e0/expr.ipynb\"><img src=\"../../../../../logic/booleans/conjunction/__pv_it/common/42118ff318bd65d98b1393f64ce7c2269feef76e0/expr.png\" style=\"display:inline;vertical-align:middle;\" /></a></td></tr>\n",
       "<tr><td>20</td><td>ExprTuple</td><td>23, 24</td><td><a class=\"ProveItLink\" href=\"../52822c2a36467e327ddee1338d2ba971812c6c7b0/expr.ipynb\"><img src=\"../52822c2a36467e327ddee1338d2ba971812c6c7b0/expr.png\" style=\"display:inline;vertical-align:middle;\" /></a></td></tr>\n",
       "<tr><td>21</td><td>Operation</td><td>operator:&nbsp;40<br>operand:&nbsp;31<br></td><td><a class=\"ProveItLink\" href=\"../481f26eb70ba4983d00b488a9aabafd9bcad5a6d0/expr.ipynb\"><img src=\"../481f26eb70ba4983d00b488a9aabafd9bcad5a6d0/expr.png\" style=\"display:inline;vertical-align:middle;\" /></a></td></tr>\n",
       "<tr><td>22</td><td>Operation</td><td>operator:&nbsp;26<br>operands:&nbsp;27<br></td><td><a class=\"ProveItLink\" href=\"../80a618c29ceaf1ddc9220e934324cd23110adca40/expr.ipynb\"><img src=\"../80a618c29ceaf1ddc9220e934324cd23110adca40/expr.png\" style=\"display:inline;vertical-align:middle;\" /></a></td></tr>\n",
       "<tr><td>23</td><td>Operation</td><td>operator:&nbsp;29<br>operands:&nbsp;28<br></td><td><a class=\"ProveItLink\" href=\"../04d8a13b8f38af0fb7933e6be7220556ae79ded90/expr.ipynb\"><img src=\"../04d8a13b8f38af0fb7933e6be7220556ae79ded90/expr.png\" style=\"display:inline;vertical-align:middle;\" /></a></td></tr>\n",
       "<tr><td>24</td><td>Operation</td><td>operator:&nbsp;29<br>operands:&nbsp;30<br></td><td><a class=\"ProveItLink\" href=\"../752c2d785f966bf6d0dd21131a494bf14b1974510/expr.ipynb\"><img src=\"../752c2d785f966bf6d0dd21131a494bf14b1974510/expr.png\" style=\"display:inline;vertical-align:middle;\" /></a></td></tr>\n",
       "<tr><td>25</td><td>ExprTuple</td><td>31</td><td><a class=\"ProveItLink\" href=\"../2ac23e4f5a1958094b2771a72ef03575f10de73d0/expr.ipynb\"><img src=\"../2ac23e4f5a1958094b2771a72ef03575f10de73d0/expr.png\" style=\"display:inline;vertical-align:middle;\" /></a></td></tr>\n",
       "<tr><td>26</td><td>Literal</td><td></td><td><a class=\"ProveItLink\" href=\"../../../../../numbers/multiplication/__pv_it/common/ed719cef37831779c16481533a4d380a2f95ab270/expr.ipynb\"><img src=\"../../../../../numbers/multiplication/__pv_it/common/ed719cef37831779c16481533a4d380a2f95ab270/expr.png\" style=\"display:inline;vertical-align:middle;\" /></a></td></tr>\n",
       "<tr><td>27</td><td>ExprTuple</td><td>32, 33</td><td><a class=\"ProveItLink\" href=\"../f739d826a9a237765e6f942efc60dc7bf3a5cb930/expr.ipynb\"><img src=\"../f739d826a9a237765e6f942efc60dc7bf3a5cb930/expr.png\" style=\"display:inline;vertical-align:middle;\" /></a></td></tr>\n",
       "<tr><td>28</td><td>ExprTuple</td><td>42, 34</td><td><a class=\"ProveItLink\" href=\"../9577897df9a387cd8fd8520a39e91fed086434e00/expr.ipynb\"><img src=\"../9577897df9a387cd8fd8520a39e91fed086434e00/expr.png\" style=\"display:inline;vertical-align:middle;\" /></a></td></tr>\n",
       "<tr><td>29</td><td>Literal</td><td></td><td><a class=\"ProveItLink\" href=\"../../../../../logic/sets/membership/__pv_it/common/477487d8796864d23d5810f83761435f25167f690/expr.ipynb\"><img src=\"../../../../../logic/sets/membership/__pv_it/common/477487d8796864d23d5810f83761435f25167f690/expr.png\" style=\"display:inline;vertical-align:middle;\" /></a></td></tr>\n",
       "<tr><td>30</td><td>ExprTuple</td><td>43, 35</td><td><a class=\"ProveItLink\" href=\"../a8eb363c5254eeb022e1a465b1c28e7ca2de55a30/expr.ipynb\"><img src=\"../a8eb363c5254eeb022e1a465b1c28e7ca2de55a30/expr.png\" style=\"display:inline;vertical-align:middle;\" /></a></td></tr>\n",
       "<tr><td>31</td><td>Operation</td><td>operator:&nbsp;36<br>operands:&nbsp;37<br></td><td><a class=\"ProveItLink\" href=\"../acc71c3c8c713d3198f6566a22f90f2b5cd720240/expr.ipynb\"><img src=\"../acc71c3c8c713d3198f6566a22f90f2b5cd720240/expr.png\" style=\"display:inline;vertical-align:middle;\" /></a></td></tr>\n",
       "<tr><td>32</td><td>Operation</td><td>operator:&nbsp;38<br>operand:&nbsp;42<br></td><td><a class=\"ProveItLink\" href=\"../974c516af04b6a788be3e93e4c4333918685c3110/expr.ipynb\"><img src=\"../974c516af04b6a788be3e93e4c4333918685c3110/expr.png\" style=\"display:inline;vertical-align:middle;\" /></a></td></tr>\n",
       "<tr><td>33</td><td>Operation</td><td>operator:&nbsp;40<br>operand:&nbsp;43<br></td><td><a class=\"ProveItLink\" href=\"../70d80c3d8a99591ccaae3ee5dafcca4edffe156a0/expr.ipynb\"><img src=\"../70d80c3d8a99591ccaae3ee5dafcca4edffe156a0/expr.png\" style=\"display:inline;vertical-align:middle;\" /></a></td></tr>\n",
       "<tr><td>34</td><td>Variable</td><td></td><td><a class=\"ProveItLink\" href=\"../../../../../__pv_it/common/1f2ffac7a1dc7c1a4f1fc7348356ae64ea992c790/expr.ipynb\"><img src=\"../../../../../__pv_it/common/1f2ffac7a1dc7c1a4f1fc7348356ae64ea992c790/expr.png\" style=\"display:inline;vertical-align:middle;\" /></a></td></tr>\n",
       "<tr><td>35</td><td>Variable</td><td></td><td><a class=\"ProveItLink\" href=\"../../../../../__pv_it/common/db1921da064725c141f453bae2d02f0bb2333a8a0/expr.ipynb\"><img src=\"../../../../../__pv_it/common/db1921da064725c141f453bae2d02f0bb2333a8a0/expr.png\" style=\"display:inline;vertical-align:middle;\" /></a></td></tr>\n",
       "<tr><td>36</td><td>Literal</td><td></td><td><a class=\"ProveItLink\" href=\"../../../../scalar_multiplication/__pv_it/common/1e364bd471e6a29fcd358dd2d9cd990a1e6fedd40/expr.ipynb\"><img src=\"../../../../scalar_multiplication/__pv_it/common/1e364bd471e6a29fcd358dd2d9cd990a1e6fedd40/expr.png\" style=\"display:inline;vertical-align:middle;\" /></a></td></tr>\n",
       "<tr><td>37</td><td>ExprTuple</td><td>42, 43</td><td><a class=\"ProveItLink\" href=\"../ae941899170bb2cf5d6aee67dcf8f30c16f6e1ba0/expr.ipynb\"><img src=\"../ae941899170bb2cf5d6aee67dcf8f30c16f6e1ba0/expr.png\" style=\"display:inline;vertical-align:middle;\" /></a></td></tr>\n",
       "<tr><td>38</td><td>Literal</td><td></td><td><a class=\"ProveItLink\" href=\"../../../../../numbers/absolute_value/__pv_it/common/eea56c667bc0aad2dc76ed04b44c2bd98b94005f0/expr.ipynb\"><img src=\"../../../../../numbers/absolute_value/__pv_it/common/eea56c667bc0aad2dc76ed04b44c2bd98b94005f0/expr.png\" style=\"display:inline;vertical-align:middle;\" /></a></td></tr>\n",
       "<tr><td>39</td><td>ExprTuple</td><td>42</td><td><a class=\"ProveItLink\" href=\"../93ef16ea994de9abf758f475bfa61b197c917ba40/expr.ipynb\"><img src=\"../93ef16ea994de9abf758f475bfa61b197c917ba40/expr.png\" style=\"display:inline;vertical-align:middle;\" /></a></td></tr>\n",
       "<tr><td>40</td><td>Literal</td><td></td><td><a class=\"ProveItLink\" href=\"../../common/2c00dcac538e537d968253ed1ac6a761c803991f0/expr.ipynb\"><img src=\"../../common/2c00dcac538e537d968253ed1ac6a761c803991f0/expr.png\" style=\"display:inline;vertical-align:middle;\" /></a></td></tr>\n",
       "<tr><td>41</td><td>ExprTuple</td><td>43</td><td><a class=\"ProveItLink\" href=\"../../../../../__pv_it/common/eacfeccc0521684fcb20fe8f5180ac50fca471f20/expr.ipynb\"><img src=\"../../../../../__pv_it/common/eacfeccc0521684fcb20fe8f5180ac50fca471f20/expr.png\" style=\"display:inline;vertical-align:middle;\" /></a></td></tr>\n",
       "<tr><td>42</td><td>Variable</td><td></td><td><a class=\"ProveItLink\" href=\"../../../../../__pv_it/common/9705ebf23debd1198c43ec3d0c30ebe152d069440/expr.ipynb\"><img src=\"../../../../../__pv_it/common/9705ebf23debd1198c43ec3d0c30ebe152d069440/expr.png\" style=\"display:inline;vertical-align:middle;\" /></a></td></tr>\n",
       "<tr><td>43</td><td>Variable</td><td></td><td><a class=\"ProveItLink\" href=\"../../../../../__pv_it/common/a0d9d672aa5e272d907247690c152cc2c6daafb70/expr.ipynb\"><img src=\"../../../../../__pv_it/common/a0d9d672aa5e272d907247690c152cc2c6daafb70/expr.png\" style=\"display:inline;vertical-align:middle;\" /></a></td></tr>\n",
       "</table>\n"
      ],
      "text/plain": [
       "0. (H -> {forall_{alpha in K, x in H} (||alpha * x|| = (|alpha| * ||x||)) if H in_c InnerProdSpaces(K).)\n",
       "   core type: ExprTuple\n",
       "   sub-expressions: 1\n",
       "1. H -> {forall_{alpha in K, x in H} (||alpha * x|| = (|alpha| * ||x||)) if H in_c InnerProdSpaces(K).\n",
       "   core type: Lambda\n",
       "   parameter: 35\n",
       "   body: 3\n",
       "2. (H)\n",
       "   core type: ExprTuple\n",
       "   sub-expressions: 35\n",
       "3. {forall_{alpha in K, x in H} (||alpha * x|| = (|alpha| * ||x||)) if H in_c InnerProdSpaces(K).\n",
       "   core type: Conditional\n",
       "   value: 4\n",
       "   condition: 5\n",
       "4. forall_{alpha in K, x in H} (||alpha * x|| = (|alpha| * ||x||))\n",
       "   core type: Operation\n",
       "   operator: 6\n",
       "   operand: 10\n",
       "5. H in_c InnerProdSpaces(K)\n",
       "   core type: Operation\n",
       "   operator: 8\n",
       "   operands: 9\n",
       "6. forall\n",
       "   core type: Literal\n",
       "   sub-expressions: \n",
       "7. ((alpha, x) -> {||alpha * x|| = (|alpha| * ||x||) if alpha in K ,  x in H.)\n",
       "   core type: ExprTuple\n",
       "   sub-expressions: 10\n",
       "8. in_c\n",
       "   core type: Literal\n",
       "   sub-expressions: \n",
       "9. (H, InnerProdSpaces(K))\n",
       "   core type: ExprTuple\n",
       "   sub-expressions: 35, 11\n",
       "10. (alpha, x) -> {||alpha * x|| = (|alpha| * ||x||) if alpha in K ,  x in H.\n",
       "    core type: Lambda\n",
       "    parameters: 37\\n    body: 12\n",
       "11. InnerProdSpaces(K)\n",
       "    core type: Operation\n",
       "    operator: 13\n",
       "    operand: 34\n",
       "12. {||alpha * x|| = (|alpha| * ||x||) if alpha in K ,  x in H.\n",
       "    core type: Conditional\n",
       "    value: 15\n",
       "    condition: 16\n",
       "13. InnerProdSpaces\n",
       "    core type: Literal\n",
       "    sub-expressions: \n",
       "14. (K)\n",
       "    core type: ExprTuple\n",
       "    sub-expressions: 34\n",
       "15. ||alpha * x|| = (|alpha| * ||x||)\n",
       "    core type: Operation\n",
       "    operator: 17\n",
       "    operands: 18\n",
       "16. (alpha in K) and (x in H)\n",
       "    core type: Operation\n",
       "    operator: 19\n",
       "    operands: 20\n",
       "17. =\n",
       "    core type: Literal\n",
       "    sub-expressions: \n",
       "18. (||alpha * x||, |alpha| * ||x||)\n",
       "    core type: ExprTuple\n",
       "    sub-expressions: 21, 22\n",
       "19. and\n",
       "    core type: Literal\n",
       "    sub-expressions: \n",
       "20. (alpha in K, x in H)\n",
       "    core type: ExprTuple\n",
       "    sub-expressions: 23, 24\n",
       "21. ||alpha * x||\n",
       "    core type: Operation\n",
       "    operator: 40\n",
       "    operand: 31\n",
       "22. |alpha| * ||x||\n",
       "    core type: Operation\n",
       "    operator: 26\n",
       "    operands: 27\n",
       "23. alpha in K\n",
       "    core type: Operation\n",
       "    operator: 29\n",
       "    operands: 28\n",
       "24. x in H\n",
       "    core type: Operation\n",
       "    operator: 29\n",
       "    operands: 30\n",
       "25. (alpha * x)\n",
       "    core type: ExprTuple\n",
       "    sub-expressions: 31\n",
       "26. *\n",
       "    core type: Literal\n",
       "    sub-expressions: \n",
       "27. (|alpha|, ||x||)\n",
       "    core type: ExprTuple\n",
       "    sub-expressions: 32, 33\n",
       "28. (alpha, K)\n",
       "    core type: ExprTuple\n",
       "    sub-expressions: 42, 34\n",
       "29. in\n",
       "    core type: Literal\n",
       "    sub-expressions: \n",
       "30. (x, H)\n",
       "    core type: ExprTuple\n",
       "    sub-expressions: 43, 35\n",
       "31. alpha * x\n",
       "    core type: Operation\n",
       "    operator: 36\n",
       "    operands: 37\n",
       "32. |alpha|\n",
       "    core type: Operation\n",
       "    operator: 38\n",
       "    operand: 42\n",
       "33. ||x||\n",
       "    core type: Operation\n",
       "    operator: 40\n",
       "    operand: 43\n",
       "34. K\n",
       "    core type: Variable\n",
       "    sub-expressions: \n",
       "35. H\n",
       "    core type: Variable\n",
       "    sub-expressions: \n",
       "36. *\n",
       "    core type: Literal\n",
       "    sub-expressions: \n",
       "37. (alpha, x)\n",
       "    core type: ExprTuple\n",
       "    sub-expressions: 42, 43\n",
       "38. Abs\n",
       "    core type: Literal\n",
       "    sub-expressions: \n",
       "39. (alpha)\n",
       "    core type: ExprTuple\n",
       "    sub-expressions: 42\n",
       "40. Abs\n",
       "    core type: Literal\n",
       "    sub-expressions: \n",
       "41. (x)\n",
       "    core type: ExprTuple\n",
       "    sub-expressions: 43\n",
       "42. alpha\n",
       "    core type: Variable\n",
       "    sub-expressions: \n",
       "43. x\n",
       "    core type: Variable\n",
       "    sub-expressions: "
      ]
     },
     "metadata": {},
     "output_type": "display_data"
    }
   ],
   "source": [
    "# display the expression information\n",
    "stored_expr.expr_info()"
   ]
  },
  {
   "cell_type": "code",
   "execution_count": null,
   "metadata": {},
   "outputs": [],
   "source": []
  }
 ],
 "metadata": {
  "kernelspec": {
   "display_name": "Python 3",
   "language": "python",
   "name": "python3"
  }
 },
 "nbformat": 4,
 "nbformat_minor": 0
}