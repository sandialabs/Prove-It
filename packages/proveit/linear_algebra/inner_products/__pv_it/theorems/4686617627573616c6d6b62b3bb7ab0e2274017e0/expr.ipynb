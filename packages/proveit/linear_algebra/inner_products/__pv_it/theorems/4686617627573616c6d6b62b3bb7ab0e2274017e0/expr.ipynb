{
 "cells": [
  {
   "cell_type": "markdown",
   "metadata": {},
   "source": [
    "Expression of type <a class=\"ProveItLink\" href=\"../../../../../../../doc/html/api/proveit.ExprTuple.html\">ExprTuple</a>\n",
    "=======================\n",
    "# from the theory of <a class=\"ProveItLink\" href=\"../../../_theory_nbs_/theory.ipynb\">proveit.linear_algebra.inner_products</a>"
   ]
  },
  {
   "cell_type": "code",
   "execution_count": 1,
   "metadata": {},
   "outputs": [],
   "source": [
    "import proveit\n",
    "# Automation is not needed when building an expression:\n",
    "proveit.defaults.automation = False # This will speed things up.\n",
    "proveit.defaults.inline_pngs = False # Makes files smaller.\n",
    "%load_expr # Load the stored expression as 'stored_expr'\n",
    "# import Expression classes needed to build the expression\n",
    "from proveit import Conditional, ExprTuple, H, K, Lambda, a, x, y\n",
    "from proveit.linear_algebra import InnerProd, ScalarMult\n",
    "from proveit.logic import Equals, Forall, InSet"
   ]
  },
  {
   "cell_type": "code",
   "execution_count": 2,
   "metadata": {},
   "outputs": [
    {
     "data": {
      "text/html": [
       "<strong id=\"expr\">expr:</strong> <a class=\"ProveItLink\" href=\"expr.ipynb\"><img src=\"expr.png\" style=\"display:inline;vertical-align:middle;\" /></a><br>"
      ],
      "text/plain": [
       "<IPython.core.display.HTML object>"
      ]
     },
     "metadata": {},
     "output_type": "display_data"
    }
   ],
   "source": [
    "# build up the expression from sub-expressions\n",
    "expr = ExprTuple(Lambda(a, Conditional(Forall(instance_param_or_params = [x, y], instance_expr = Equals(InnerProd(x, ScalarMult(a, y)), ScalarMult(a, InnerProd(x, y))), domain = H), InSet(a, K))))"
   ]
  },
  {
   "cell_type": "code",
   "execution_count": 3,
   "metadata": {},
   "outputs": [
    {
     "name": "stdout",
     "output_type": "stream",
     "text": [
      "Passed sanity check: expr matches stored_expr\n"
     ]
    }
   ],
   "source": [
    "# check that the built expression is the same as the stored expression\n",
    "assert expr == stored_expr\n",
    "assert expr._style_id == stored_expr._style_id\n",
    "print(\"Passed sanity check: expr matches stored_expr\")"
   ]
  },
  {
   "cell_type": "code",
   "execution_count": 4,
   "metadata": {},
   "outputs": [
    {
     "name": "stdout",
     "output_type": "stream",
     "text": [
      "\\left(a \\mapsto \\left\\{\\forall_{x, y \\in H}~\\left(\\left \\langle x, a \\cdot y\\right \\rangle = \\left(a \\cdot \\left \\langle x, y\\right \\rangle\\right)\\right) \\textrm{ if } a \\in K\\right..\\right)\n"
     ]
    }
   ],
   "source": [
    "# Show the LaTeX representation of the expression for convenience if you need it.\n",
    "print(stored_expr.latex())"
   ]
  },
  {
   "cell_type": "code",
   "execution_count": 5,
   "metadata": {},
   "outputs": [
    {
     "data": {
      "text/html": [
       "no style options"
      ],
      "text/plain": [
       "no style options"
      ]
     },
     "metadata": {},
     "output_type": "display_data"
    }
   ],
   "source": [
    "stored_expr.style_options()"
   ]
  },
  {
   "cell_type": "code",
   "execution_count": 6,
   "metadata": {},
   "outputs": [
    {
     "data": {
      "text/html": [
       "<table><tr><th>&nbsp;</th><th>core type</th><th>sub-expressions</th><th>expression</th></tr>\n",
       "<tr><td>0</td><td>ExprTuple</td><td>1</td><td><a class=\"ProveItLink\" href=\"expr.ipynb\"><img src=\"expr.png\" style=\"display:inline;vertical-align:middle;\" /></a></td></tr>\n",
       "<tr><td>1</td><td>Lambda</td><td>parameter:&nbsp;34<br>body:&nbsp;3<br></td><td><a class=\"ProveItLink\" href=\"../e83eab5b5bb3b91e073ae00a3d837a7fd0423b1e0/expr.ipynb\"><img src=\"../e83eab5b5bb3b91e073ae00a3d837a7fd0423b1e0/expr.png\" style=\"display:inline;vertical-align:middle;\" /></a></td></tr>\n",
       "<tr><td>2</td><td>ExprTuple</td><td>34</td><td><a class=\"ProveItLink\" href=\"../034703c6972b772d60786b3024fb4de33deb9fd00/expr.ipynb\"><img src=\"../034703c6972b772d60786b3024fb4de33deb9fd00/expr.png\" style=\"display:inline;vertical-align:middle;\" /></a></td></tr>\n",
       "<tr><td>3</td><td>Conditional</td><td>value:&nbsp;4<br>condition:&nbsp;5<br></td><td><a class=\"ProveItLink\" href=\"../11efbc8effe3555c560b3e85f2fc32fa9b1b14980/expr.ipynb\"><img src=\"../11efbc8effe3555c560b3e85f2fc32fa9b1b14980/expr.png\" style=\"display:inline;vertical-align:middle;\" /></a></td></tr>\n",
       "<tr><td>4</td><td>Operation</td><td>operator:&nbsp;6<br>operand:&nbsp;9<br></td><td><a class=\"ProveItLink\" href=\"../d6472d516325008dac5c65330943d8946172361b0/expr.ipynb\"><img src=\"../d6472d516325008dac5c65330943d8946172361b0/expr.png\" style=\"display:inline;vertical-align:middle;\" /></a></td></tr>\n",
       "<tr><td>5</td><td>Operation</td><td>operator:&nbsp;25<br>operands:&nbsp;8<br></td><td><a class=\"ProveItLink\" href=\"../c4a4f07f387dc6aa4911aef3f3a862f71e2f5dff0/expr.ipynb\"><img src=\"../c4a4f07f387dc6aa4911aef3f3a862f71e2f5dff0/expr.png\" style=\"display:inline;vertical-align:middle;\" /></a></td></tr>\n",
       "<tr><td>6</td><td>Literal</td><td></td><td><a class=\"ProveItLink\" href=\"../../../../../logic/booleans/quantification/universality/__pv_it/common/083d2baa0b8ecab1d230f9ec29a15aa1355809fb0/expr.ipynb\"><img src=\"../../../../../logic/booleans/quantification/universality/__pv_it/common/083d2baa0b8ecab1d230f9ec29a15aa1355809fb0/expr.png\" style=\"display:inline;vertical-align:middle;\" /></a></td></tr>\n",
       "<tr><td>7</td><td>ExprTuple</td><td>9</td><td><a class=\"ProveItLink\" href=\"../f7b4c766589ce4bfb316a8ff961726bfd85e827b0/expr.ipynb\"><img src=\"../f7b4c766589ce4bfb316a8ff961726bfd85e827b0/expr.png\" style=\"display:inline;vertical-align:middle;\" /></a></td></tr>\n",
       "<tr><td>8</td><td>ExprTuple</td><td>34, 10</td><td><a class=\"ProveItLink\" href=\"../e54a7b716df7aab9959e416978e0d39dced78c0a0/expr.ipynb\"><img src=\"../e54a7b716df7aab9959e416978e0d39dced78c0a0/expr.png\" style=\"display:inline;vertical-align:middle;\" /></a></td></tr>\n",
       "<tr><td>9</td><td>Lambda</td><td>parameters:&nbsp;33<br>body:&nbsp;11<br></td><td><a class=\"ProveItLink\" href=\"../2c44b0fdfb1df055591afeba2d38b8d0e660507c0/expr.ipynb\"><img src=\"../2c44b0fdfb1df055591afeba2d38b8d0e660507c0/expr.png\" style=\"display:inline;vertical-align:middle;\" /></a></td></tr>\n",
       "<tr><td>10</td><td>Variable</td><td></td><td><a class=\"ProveItLink\" href=\"../../../../../__pv_it/common/1f2ffac7a1dc7c1a4f1fc7348356ae64ea992c790/expr.ipynb\"><img src=\"../../../../../__pv_it/common/1f2ffac7a1dc7c1a4f1fc7348356ae64ea992c790/expr.png\" style=\"display:inline;vertical-align:middle;\" /></a></td></tr>\n",
       "<tr><td>11</td><td>Conditional</td><td>value:&nbsp;12<br>condition:&nbsp;13<br></td><td><a class=\"ProveItLink\" href=\"../3c671d714201f0c619cc1845fa3028ee0f6994e20/expr.ipynb\"><img src=\"../3c671d714201f0c619cc1845fa3028ee0f6994e20/expr.png\" style=\"display:inline;vertical-align:middle;\" /></a></td></tr>\n",
       "<tr><td>12</td><td>Operation</td><td>operator:&nbsp;14<br>operands:&nbsp;15<br></td><td><a class=\"ProveItLink\" href=\"../f31c7c90e2e9862bac16c5e43c5044514b5e114f0/expr.ipynb\"><img src=\"../f31c7c90e2e9862bac16c5e43c5044514b5e114f0/expr.png\" style=\"display:inline;vertical-align:middle;\" /></a></td></tr>\n",
       "<tr><td>13</td><td>Operation</td><td>operator:&nbsp;16<br>operands:&nbsp;17<br></td><td><a class=\"ProveItLink\" href=\"../a80101b6cb54acabdcd6d9024c4f55942db5eda70/expr.ipynb\"><img src=\"../a80101b6cb54acabdcd6d9024c4f55942db5eda70/expr.png\" style=\"display:inline;vertical-align:middle;\" /></a></td></tr>\n",
       "<tr><td>14</td><td>Literal</td><td></td><td><a class=\"ProveItLink\" href=\"../../../../../logic/equality/__pv_it/common/fb96dc12b2aa8801dda64d0132b396c63d1502bb0/expr.ipynb\"><img src=\"../../../../../logic/equality/__pv_it/common/fb96dc12b2aa8801dda64d0132b396c63d1502bb0/expr.png\" style=\"display:inline;vertical-align:middle;\" /></a></td></tr>\n",
       "<tr><td>15</td><td>ExprTuple</td><td>18, 19</td><td><a class=\"ProveItLink\" href=\"../0b7296db8447a9d5d58bf5371c3b975529cbad4a0/expr.ipynb\"><img src=\"../0b7296db8447a9d5d58bf5371c3b975529cbad4a0/expr.png\" style=\"display:inline;vertical-align:middle;\" /></a></td></tr>\n",
       "<tr><td>16</td><td>Literal</td><td></td><td><a class=\"ProveItLink\" href=\"../../../../../logic/booleans/conjunction/__pv_it/common/42118ff318bd65d98b1393f64ce7c2269feef76e0/expr.ipynb\"><img src=\"../../../../../logic/booleans/conjunction/__pv_it/common/42118ff318bd65d98b1393f64ce7c2269feef76e0/expr.png\" style=\"display:inline;vertical-align:middle;\" /></a></td></tr>\n",
       "<tr><td>17</td><td>ExprTuple</td><td>20, 21</td><td><a class=\"ProveItLink\" href=\"../57b2c90bc0aee7e9dfd4a1f4cfce956724e5868c0/expr.ipynb\"><img src=\"../57b2c90bc0aee7e9dfd4a1f4cfce956724e5868c0/expr.png\" style=\"display:inline;vertical-align:middle;\" /></a></td></tr>\n",
       "<tr><td>18</td><td>Operation</td><td>operator:&nbsp;32<br>operands:&nbsp;22<br></td><td><a class=\"ProveItLink\" href=\"../291294a29972c44ea9a9bc4d06c88b082b41d71e0/expr.ipynb\"><img src=\"../291294a29972c44ea9a9bc4d06c88b082b41d71e0/expr.png\" style=\"display:inline;vertical-align:middle;\" /></a></td></tr>\n",
       "<tr><td>19</td><td>Operation</td><td>operator:&nbsp;30<br>operands:&nbsp;23<br></td><td><a class=\"ProveItLink\" href=\"../d8be5d832cdeeda891eef2e1a7e8a52c5a0ecf0a0/expr.ipynb\"><img src=\"../d8be5d832cdeeda891eef2e1a7e8a52c5a0ecf0a0/expr.png\" style=\"display:inline;vertical-align:middle;\" /></a></td></tr>\n",
       "<tr><td>20</td><td>Operation</td><td>operator:&nbsp;25<br>operands:&nbsp;24<br></td><td><a class=\"ProveItLink\" href=\"../752c2d785f966bf6d0dd21131a494bf14b1974510/expr.ipynb\"><img src=\"../752c2d785f966bf6d0dd21131a494bf14b1974510/expr.png\" style=\"display:inline;vertical-align:middle;\" /></a></td></tr>\n",
       "<tr><td>21</td><td>Operation</td><td>operator:&nbsp;25<br>operands:&nbsp;26<br></td><td><a class=\"ProveItLink\" href=\"../01d1802f9f087bb7916de057ea20d6d4dbbb90c80/expr.ipynb\"><img src=\"../01d1802f9f087bb7916de057ea20d6d4dbbb90c80/expr.png\" style=\"display:inline;vertical-align:middle;\" /></a></td></tr>\n",
       "<tr><td>22</td><td>ExprTuple</td><td>35, 27</td><td><a class=\"ProveItLink\" href=\"../98641359e4ec8aa1202b1863e06f222a734aadbd0/expr.ipynb\"><img src=\"../98641359e4ec8aa1202b1863e06f222a734aadbd0/expr.png\" style=\"display:inline;vertical-align:middle;\" /></a></td></tr>\n",
       "<tr><td>23</td><td>ExprTuple</td><td>34, 28</td><td><a class=\"ProveItLink\" href=\"../bcb681bccfc22e42113b942493f13b6bd81a745d0/expr.ipynb\"><img src=\"../bcb681bccfc22e42113b942493f13b6bd81a745d0/expr.png\" style=\"display:inline;vertical-align:middle;\" /></a></td></tr>\n",
       "<tr><td>24</td><td>ExprTuple</td><td>35, 29</td><td><a class=\"ProveItLink\" href=\"../a8eb363c5254eeb022e1a465b1c28e7ca2de55a30/expr.ipynb\"><img src=\"../a8eb363c5254eeb022e1a465b1c28e7ca2de55a30/expr.png\" style=\"display:inline;vertical-align:middle;\" /></a></td></tr>\n",
       "<tr><td>25</td><td>Literal</td><td></td><td><a class=\"ProveItLink\" href=\"../../../../../logic/sets/membership/__pv_it/common/477487d8796864d23d5810f83761435f25167f690/expr.ipynb\"><img src=\"../../../../../logic/sets/membership/__pv_it/common/477487d8796864d23d5810f83761435f25167f690/expr.png\" style=\"display:inline;vertical-align:middle;\" /></a></td></tr>\n",
       "<tr><td>26</td><td>ExprTuple</td><td>36, 29</td><td><a class=\"ProveItLink\" href=\"../e3a3e72fb27ba14b2c1fbfbb1e16d90be2b91e730/expr.ipynb\"><img src=\"../e3a3e72fb27ba14b2c1fbfbb1e16d90be2b91e730/expr.png\" style=\"display:inline;vertical-align:middle;\" /></a></td></tr>\n",
       "<tr><td>27</td><td>Operation</td><td>operator:&nbsp;30<br>operands:&nbsp;31<br></td><td><a class=\"ProveItLink\" href=\"../b9ae03eccfbc7d9ee88ea61e4e3db759c3a528eb0/expr.ipynb\"><img src=\"../b9ae03eccfbc7d9ee88ea61e4e3db759c3a528eb0/expr.png\" style=\"display:inline;vertical-align:middle;\" /></a></td></tr>\n",
       "<tr><td>28</td><td>Operation</td><td>operator:&nbsp;32<br>operands:&nbsp;33<br></td><td><a class=\"ProveItLink\" href=\"../626d2c12ed5d7ede99f56ae5a015b28ef847fbd10/expr.ipynb\"><img src=\"../626d2c12ed5d7ede99f56ae5a015b28ef847fbd10/expr.png\" style=\"display:inline;vertical-align:middle;\" /></a></td></tr>\n",
       "<tr><td>29</td><td>Variable</td><td></td><td><a class=\"ProveItLink\" href=\"../../../../../__pv_it/common/db1921da064725c141f453bae2d02f0bb2333a8a0/expr.ipynb\"><img src=\"../../../../../__pv_it/common/db1921da064725c141f453bae2d02f0bb2333a8a0/expr.png\" style=\"display:inline;vertical-align:middle;\" /></a></td></tr>\n",
       "<tr><td>30</td><td>Literal</td><td></td><td><a class=\"ProveItLink\" href=\"../../../../scalar_multiplication/__pv_it/common/1e364bd471e6a29fcd358dd2d9cd990a1e6fedd40/expr.ipynb\"><img src=\"../../../../scalar_multiplication/__pv_it/common/1e364bd471e6a29fcd358dd2d9cd990a1e6fedd40/expr.png\" style=\"display:inline;vertical-align:middle;\" /></a></td></tr>\n",
       "<tr><td>31</td><td>ExprTuple</td><td>34, 36</td><td><a class=\"ProveItLink\" href=\"../ef6376c7c6407225d32b6b693cda698fb64ddaa30/expr.ipynb\"><img src=\"../ef6376c7c6407225d32b6b693cda698fb64ddaa30/expr.png\" style=\"display:inline;vertical-align:middle;\" /></a></td></tr>\n",
       "<tr><td>32</td><td>Literal</td><td></td><td><a class=\"ProveItLink\" href=\"../../common/3c2fb0727e51ccc44869d1fd03bc36b5f019b5010/expr.ipynb\"><img src=\"../../common/3c2fb0727e51ccc44869d1fd03bc36b5f019b5010/expr.png\" style=\"display:inline;vertical-align:middle;\" /></a></td></tr>\n",
       "<tr><td>33</td><td>ExprTuple</td><td>35, 36</td><td><a class=\"ProveItLink\" href=\"../bbaa48af4605eceb7fbc4af345a1eb6de480e1c50/expr.ipynb\"><img src=\"../bbaa48af4605eceb7fbc4af345a1eb6de480e1c50/expr.png\" style=\"display:inline;vertical-align:middle;\" /></a></td></tr>\n",
       "<tr><td>34</td><td>Variable</td><td></td><td><a class=\"ProveItLink\" href=\"../../../../../__pv_it/common/c06c606ec12678c58933ac85412ecadc2ae28be60/expr.ipynb\"><img src=\"../../../../../__pv_it/common/c06c606ec12678c58933ac85412ecadc2ae28be60/expr.png\" style=\"display:inline;vertical-align:middle;\" /></a></td></tr>\n",
       "<tr><td>35</td><td>Variable</td><td></td><td><a class=\"ProveItLink\" href=\"../../../../../__pv_it/common/a0d9d672aa5e272d907247690c152cc2c6daafb70/expr.ipynb\"><img src=\"../../../../../__pv_it/common/a0d9d672aa5e272d907247690c152cc2c6daafb70/expr.png\" style=\"display:inline;vertical-align:middle;\" /></a></td></tr>\n",
       "<tr><td>36</td><td>Variable</td><td></td><td><a class=\"ProveItLink\" href=\"../../../../../__pv_it/common/ff7dba4ef0bbe791ab573bf2d9c220a304399ac80/expr.ipynb\"><img src=\"../../../../../__pv_it/common/ff7dba4ef0bbe791ab573bf2d9c220a304399ac80/expr.png\" style=\"display:inline;vertical-align:middle;\" /></a></td></tr>\n",
       "</table>\n"
      ],
      "text/plain": [
       "0. (a -> {forall_{x, y in H} (<x, a * y> = (a * <x, y>)) if a in K.)\n",
       "   core type: ExprTuple\n",
       "   sub-expressions: 1\n",
       "1. a -> {forall_{x, y in H} (<x, a * y> = (a * <x, y>)) if a in K.\n",
       "   core type: Lambda\n",
       "   parameter: 34\n",
       "   body: 3\n",
       "2. (a)\n",
       "   core type: ExprTuple\n",
       "   sub-expressions: 34\n",
       "3. {forall_{x, y in H} (<x, a * y> = (a * <x, y>)) if a in K.\n",
       "   core type: Conditional\n",
       "   value: 4\n",
       "   condition: 5\n",
       "4. forall_{x, y in H} (<x, a * y> = (a * <x, y>))\n",
       "   core type: Operation\n",
       "   operator: 6\n",
       "   operand: 9\n",
       "5. a in K\n",
       "   core type: Operation\n",
       "   operator: 25\n",
       "   operands: 8\n",
       "6. forall\n",
       "   core type: Literal\n",
       "   sub-expressions: \n",
       "7. ((x, y) -> {<x, a * y> = (a * <x, y>) if x in H ,  y in H.)\n",
       "   core type: ExprTuple\n",
       "   sub-expressions: 9\n",
       "8. (a, K)\n",
       "   core type: ExprTuple\n",
       "   sub-expressions: 34, 10\n",
       "9. (x, y) -> {<x, a * y> = (a * <x, y>) if x in H ,  y in H.\n",
       "   core type: Lambda\n",
       "   parameters: 33\\n   body: 11\n",
       "10. K\n",
       "    core type: Variable\n",
       "    sub-expressions: \n",
       "11. {<x, a * y> = (a * <x, y>) if x in H ,  y in H.\n",
       "    core type: Conditional\n",
       "    value: 12\n",
       "    condition: 13\n",
       "12. <x, a * y> = (a * <x, y>)\n",
       "    core type: Operation\n",
       "    operator: 14\n",
       "    operands: 15\n",
       "13. (x in H) and (y in H)\n",
       "    core type: Operation\n",
       "    operator: 16\n",
       "    operands: 17\n",
       "14. =\n",
       "    core type: Literal\n",
       "    sub-expressions: \n",
       "15. (<x, a * y>, a * <x, y>)\n",
       "    core type: ExprTuple\n",
       "    sub-expressions: 18, 19\n",
       "16. and\n",
       "    core type: Literal\n",
       "    sub-expressions: \n",
       "17. (x in H, y in H)\n",
       "    core type: ExprTuple\n",
       "    sub-expressions: 20, 21\n",
       "18. <x, a * y>\n",
       "    core type: Operation\n",
       "    operator: 32\n",
       "    operands: 22\n",
       "19. a * <x, y>\n",
       "    core type: Operation\n",
       "    operator: 30\n",
       "    operands: 23\n",
       "20. x in H\n",
       "    core type: Operation\n",
       "    operator: 25\n",
       "    operands: 24\n",
       "21. y in H\n",
       "    core type: Operation\n",
       "    operator: 25\n",
       "    operands: 26\n",
       "22. (x, a * y)\n",
       "    core type: ExprTuple\n",
       "    sub-expressions: 35, 27\n",
       "23. (a, <x, y>)\n",
       "    core type: ExprTuple\n",
       "    sub-expressions: 34, 28\n",
       "24. (x, H)\n",
       "    core type: ExprTuple\n",
       "    sub-expressions: 35, 29\n",
       "25. in\n",
       "    core type: Literal\n",
       "    sub-expressions: \n",
       "26. (y, H)\n",
       "    core type: ExprTuple\n",
       "    sub-expressions: 36, 29\n",
       "27. a * y\n",
       "    core type: Operation\n",
       "    operator: 30\n",
       "    operands: 31\n",
       "28. <x, y>\n",
       "    core type: Operation\n",
       "    operator: 32\n",
       "    operands: 33\n",
       "29. H\n",
       "    core type: Variable\n",
       "    sub-expressions: \n",
       "30. *\n",
       "    core type: Literal\n",
       "    sub-expressions: \n",
       "31. (a, y)\n",
       "    core type: ExprTuple\n",
       "    sub-expressions: 34, 36\n",
       "32. InnerProd\n",
       "    core type: Literal\n",
       "    sub-expressions: \n",
       "33. (x, y)\n",
       "    core type: ExprTuple\n",
       "    sub-expressions: 35, 36\n",
       "34. a\n",
       "    core type: Variable\n",
       "    sub-expressions: \n",
       "35. x\n",
       "    core type: Variable\n",
       "    sub-expressions: \n",
       "36. y\n",
       "    core type: Variable\n",
       "    sub-expressions: "
      ]
     },
     "metadata": {},
     "output_type": "display_data"
    }
   ],
   "source": [
    "# display the expression information\n",
    "stored_expr.expr_info()"
   ]
  },
  {
   "cell_type": "code",
   "execution_count": null,
   "metadata": {},
   "outputs": [],
   "source": []
  }
 ],
 "metadata": {
  "kernelspec": {
   "display_name": "Python 3",
   "language": "python",
   "name": "python3"
  }
 },
 "nbformat": 4,
 "nbformat_minor": 0
}