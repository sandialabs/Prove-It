{
 "cells": [
  {
   "cell_type": "markdown",
   "metadata": {},
   "source": [
    "Expression of type <a class=\"ProveItLink\" href=\"../../../../../../../doc/html/api/proveit.ExprTuple.html\">ExprTuple</a>\n",
    "=======================\n",
    "# from the theory of <a class=\"ProveItLink\" href=\"../../../_theory_nbs_/theory.ipynb\">proveit.linear_algebra.inner_products</a>"
   ]
  },
  {
   "cell_type": "code",
   "execution_count": 1,
   "metadata": {},
   "outputs": [],
   "source": [
    "import proveit\n",
    "# Automation is not needed when building an expression:\n",
    "proveit.defaults.automation = False # This will speed things up.\n",
    "proveit.defaults.inline_pngs = False # Makes files smaller.\n",
    "%load_expr # Load the stored expression as 'stored_expr'\n",
    "# import Expression classes needed to build the expression\n",
    "from proveit import ExprTuple, H, K, Lambda, x, y\n",
    "from proveit.linear_algebra import InnerProdSpaces, Norm, VecAdd\n",
    "from proveit.logic import Forall\n",
    "from proveit.numbers import Add, LessEq"
   ]
  },
  {
   "cell_type": "code",
   "execution_count": 2,
   "metadata": {},
   "outputs": [
    {
     "data": {
      "text/html": [
       "<strong id=\"expr\">expr:</strong> <a class=\"ProveItLink\" href=\"expr.ipynb\"><img src=\"expr.png\" style=\"display:inline;vertical-align:middle;\" /></a><br>"
      ],
      "text/plain": [
       "<IPython.core.display.HTML object>"
      ]
     },
     "metadata": {},
     "output_type": "display_data"
    }
   ],
   "source": [
    "# build up the expression from sub-expressions\n",
    "expr = ExprTuple(Lambda(K, Forall(instance_param_or_params = [H], instance_expr = Forall(instance_param_or_params = [x, y], instance_expr = LessEq(Norm(VecAdd(x, y)), Add(Norm(x), Norm(y))), domain = H), domain = InnerProdSpaces(K))))"
   ]
  },
  {
   "cell_type": "code",
   "execution_count": 3,
   "metadata": {},
   "outputs": [
    {
     "name": "stdout",
     "output_type": "stream",
     "text": [
      "Passed sanity check: expr matches stored_expr\n"
     ]
    }
   ],
   "source": [
    "# check that the built expression is the same as the stored expression\n",
    "assert expr == stored_expr\n",
    "assert expr._style_id == stored_expr._style_id\n",
    "print(\"Passed sanity check: expr matches stored_expr\")"
   ]
  },
  {
   "cell_type": "code",
   "execution_count": 4,
   "metadata": {},
   "outputs": [
    {
     "name": "stdout",
     "output_type": "stream",
     "text": [
      "\\left(K \\mapsto \\left[\\forall_{H \\underset{{\\scriptscriptstyle c}}{\\in} \\textrm{InnerProdSpaces}\\left(K\\right)}~\\left[\\forall_{x, y \\in H}~\\left(\\left \\|x + y\\right \\| \\leq \\left(\\left \\|x\\right \\| + \\left \\|y\\right \\|\\right)\\right)\\right]\\right]\\right)\n"
     ]
    }
   ],
   "source": [
    "# Show the LaTeX representation of the expression for convenience if you need it.\n",
    "print(stored_expr.latex())"
   ]
  },
  {
   "cell_type": "code",
   "execution_count": 5,
   "metadata": {},
   "outputs": [
    {
     "data": {
      "text/html": [
       "no style options"
      ],
      "text/plain": [
       "no style options"
      ]
     },
     "metadata": {},
     "output_type": "display_data"
    }
   ],
   "source": [
    "stored_expr.style_options()"
   ]
  },
  {
   "cell_type": "code",
   "execution_count": 6,
   "metadata": {},
   "outputs": [
    {
     "data": {
      "text/html": [
       "<table><tr><th>&nbsp;</th><th>core type</th><th>sub-expressions</th><th>expression</th></tr>\n",
       "<tr><td>0</td><td>ExprTuple</td><td>1</td><td><a class=\"ProveItLink\" href=\"expr.ipynb\"><img src=\"expr.png\" style=\"display:inline;vertical-align:middle;\" /></a></td></tr>\n",
       "<tr><td>1</td><td>Lambda</td><td>parameter:&nbsp;20<br>body:&nbsp;2<br></td><td><a class=\"ProveItLink\" href=\"../b056980980247998969cb250567afaa9e27411210/expr.ipynb\"><img src=\"../b056980980247998969cb250567afaa9e27411210/expr.png\" style=\"display:inline;vertical-align:middle;\" /></a></td></tr>\n",
       "<tr><td>2</td><td>Operation</td><td>operator:&nbsp;9<br>operand:&nbsp;4<br></td><td><a class=\"ProveItLink\" href=\"../c0f489402189fdb80a5cd7313cc5d2ab0e9d97440/expr.ipynb\"><img src=\"../c0f489402189fdb80a5cd7313cc5d2ab0e9d97440/expr.png\" style=\"display:inline;vertical-align:middle;\" /></a></td></tr>\n",
       "<tr><td>3</td><td>ExprTuple</td><td>4</td><td><a class=\"ProveItLink\" href=\"../8573d014beffe0d12a986b1f8fc1ddd36e0f870d0/expr.ipynb\"><img src=\"../8573d014beffe0d12a986b1f8fc1ddd36e0f870d0/expr.png\" style=\"display:inline;vertical-align:middle;\" /></a></td></tr>\n",
       "<tr><td>4</td><td>Lambda</td><td>parameter:&nbsp;38<br>body:&nbsp;6<br></td><td><a class=\"ProveItLink\" href=\"../e97749660668e38a228ee40616e434a25e0b08100/expr.ipynb\"><img src=\"../e97749660668e38a228ee40616e434a25e0b08100/expr.png\" style=\"display:inline;vertical-align:middle;\" /></a></td></tr>\n",
       "<tr><td>5</td><td>ExprTuple</td><td>38</td><td><a class=\"ProveItLink\" href=\"../3214f6d50d9b000d7aac6b69fe8e45c58e2207b10/expr.ipynb\"><img src=\"../3214f6d50d9b000d7aac6b69fe8e45c58e2207b10/expr.png\" style=\"display:inline;vertical-align:middle;\" /></a></td></tr>\n",
       "<tr><td>6</td><td>Conditional</td><td>value:&nbsp;7<br>condition:&nbsp;8<br></td><td><a class=\"ProveItLink\" href=\"../1e41742b4e7307c8bfeb47657b5dcdde5f64cc750/expr.ipynb\"><img src=\"../1e41742b4e7307c8bfeb47657b5dcdde5f64cc750/expr.png\" style=\"display:inline;vertical-align:middle;\" /></a></td></tr>\n",
       "<tr><td>7</td><td>Operation</td><td>operator:&nbsp;9<br>operand:&nbsp;13<br></td><td><a class=\"ProveItLink\" href=\"../c0033068c7585e7d495a3ed0aa3e6e654298bfe60/expr.ipynb\"><img src=\"../c0033068c7585e7d495a3ed0aa3e6e654298bfe60/expr.png\" style=\"display:inline;vertical-align:middle;\" /></a></td></tr>\n",
       "<tr><td>8</td><td>Operation</td><td>operator:&nbsp;11<br>operands:&nbsp;12<br></td><td><a class=\"ProveItLink\" href=\"../cffb7c2eee228de9f7655ce57f1d731b5f8148710/expr.ipynb\"><img src=\"../cffb7c2eee228de9f7655ce57f1d731b5f8148710/expr.png\" style=\"display:inline;vertical-align:middle;\" /></a></td></tr>\n",
       "<tr><td>9</td><td>Literal</td><td></td><td><a class=\"ProveItLink\" href=\"../../../../../logic/booleans/quantification/universality/__pv_it/common/083d2baa0b8ecab1d230f9ec29a15aa1355809fb0/expr.ipynb\"><img src=\"../../../../../logic/booleans/quantification/universality/__pv_it/common/083d2baa0b8ecab1d230f9ec29a15aa1355809fb0/expr.png\" style=\"display:inline;vertical-align:middle;\" /></a></td></tr>\n",
       "<tr><td>10</td><td>ExprTuple</td><td>13</td><td><a class=\"ProveItLink\" href=\"../65c8c3133ed7f158e8f78f1e93704ef0f8372ac60/expr.ipynb\"><img src=\"../65c8c3133ed7f158e8f78f1e93704ef0f8372ac60/expr.png\" style=\"display:inline;vertical-align:middle;\" /></a></td></tr>\n",
       "<tr><td>11</td><td>Literal</td><td></td><td><a class=\"ProveItLink\" href=\"../../../../../logic/classes/membership/__pv_it/common/e3b437d28fbe17f0a50c9789c7c9b47a1270f1420/expr.ipynb\"><img src=\"../../../../../logic/classes/membership/__pv_it/common/e3b437d28fbe17f0a50c9789c7c9b47a1270f1420/expr.png\" style=\"display:inline;vertical-align:middle;\" /></a></td></tr>\n",
       "<tr><td>12</td><td>ExprTuple</td><td>38, 14</td><td><a class=\"ProveItLink\" href=\"../d642dab1ed63813669c75fbb82dc8c33eb563b360/expr.ipynb\"><img src=\"../d642dab1ed63813669c75fbb82dc8c33eb563b360/expr.png\" style=\"display:inline;vertical-align:middle;\" /></a></td></tr>\n",
       "<tr><td>13</td><td>Lambda</td><td>parameters:&nbsp;40<br>body:&nbsp;15<br></td><td><a class=\"ProveItLink\" href=\"../8eb38b7e9e5e128d1902868e72f50ef7fa1819950/expr.ipynb\"><img src=\"../8eb38b7e9e5e128d1902868e72f50ef7fa1819950/expr.png\" style=\"display:inline;vertical-align:middle;\" /></a></td></tr>\n",
       "<tr><td>14</td><td>Operation</td><td>operator:&nbsp;16<br>operand:&nbsp;20<br></td><td><a class=\"ProveItLink\" href=\"../011f81088f83ec65cda9a891728400f0a0c30f920/expr.ipynb\"><img src=\"../011f81088f83ec65cda9a891728400f0a0c30f920/expr.png\" style=\"display:inline;vertical-align:middle;\" /></a></td></tr>\n",
       "<tr><td>15</td><td>Conditional</td><td>value:&nbsp;18<br>condition:&nbsp;19<br></td><td><a class=\"ProveItLink\" href=\"../eff548e6be3d27498e071ab65e7c9201768143050/expr.ipynb\"><img src=\"../eff548e6be3d27498e071ab65e7c9201768143050/expr.png\" style=\"display:inline;vertical-align:middle;\" /></a></td></tr>\n",
       "<tr><td>16</td><td>Literal</td><td></td><td><a class=\"ProveItLink\" href=\"../../common/97dce8f33694d8d827400c818f103930399de7dc0/expr.ipynb\"><img src=\"../../common/97dce8f33694d8d827400c818f103930399de7dc0/expr.png\" style=\"display:inline;vertical-align:middle;\" /></a></td></tr>\n",
       "<tr><td>17</td><td>ExprTuple</td><td>20</td><td><a class=\"ProveItLink\" href=\"../dfa81a569aedd40943c42f533e78bc2f073711130/expr.ipynb\"><img src=\"../dfa81a569aedd40943c42f533e78bc2f073711130/expr.png\" style=\"display:inline;vertical-align:middle;\" /></a></td></tr>\n",
       "<tr><td>18</td><td>Operation</td><td>operator:&nbsp;21<br>operands:&nbsp;22<br></td><td><a class=\"ProveItLink\" href=\"../b325ffb8b623f218c67d777ce4885aacb345b4440/expr.ipynb\"><img src=\"../b325ffb8b623f218c67d777ce4885aacb345b4440/expr.png\" style=\"display:inline;vertical-align:middle;\" /></a></td></tr>\n",
       "<tr><td>19</td><td>Operation</td><td>operator:&nbsp;23<br>operands:&nbsp;24<br></td><td><a class=\"ProveItLink\" href=\"../a80101b6cb54acabdcd6d9024c4f55942db5eda70/expr.ipynb\"><img src=\"../a80101b6cb54acabdcd6d9024c4f55942db5eda70/expr.png\" style=\"display:inline;vertical-align:middle;\" /></a></td></tr>\n",
       "<tr><td>20</td><td>Variable</td><td></td><td><a class=\"ProveItLink\" href=\"../../../../../__pv_it/common/1f2ffac7a1dc7c1a4f1fc7348356ae64ea992c790/expr.ipynb\"><img src=\"../../../../../__pv_it/common/1f2ffac7a1dc7c1a4f1fc7348356ae64ea992c790/expr.png\" style=\"display:inline;vertical-align:middle;\" /></a></td></tr>\n",
       "<tr><td>21</td><td>Literal</td><td></td><td><a class=\"ProveItLink\" href=\"../../../../../numbers/ordering/__pv_it/common/68379698d72b4689bbda4b5c5cca29ee599d70280/expr.ipynb\"><img src=\"../../../../../numbers/ordering/__pv_it/common/68379698d72b4689bbda4b5c5cca29ee599d70280/expr.png\" style=\"display:inline;vertical-align:middle;\" /></a></td></tr>\n",
       "<tr><td>22</td><td>ExprTuple</td><td>25, 26</td><td><a class=\"ProveItLink\" href=\"../9eb83b97d73812e0ac6c4cc3b617c85dc368130c0/expr.ipynb\"><img src=\"../9eb83b97d73812e0ac6c4cc3b617c85dc368130c0/expr.png\" style=\"display:inline;vertical-align:middle;\" /></a></td></tr>\n",
       "<tr><td>23</td><td>Literal</td><td></td><td><a class=\"ProveItLink\" href=\"../../../../../logic/booleans/conjunction/__pv_it/common/42118ff318bd65d98b1393f64ce7c2269feef76e0/expr.ipynb\"><img src=\"../../../../../logic/booleans/conjunction/__pv_it/common/42118ff318bd65d98b1393f64ce7c2269feef76e0/expr.png\" style=\"display:inline;vertical-align:middle;\" /></a></td></tr>\n",
       "<tr><td>24</td><td>ExprTuple</td><td>27, 28</td><td><a class=\"ProveItLink\" href=\"../57b2c90bc0aee7e9dfd4a1f4cfce956724e5868c0/expr.ipynb\"><img src=\"../57b2c90bc0aee7e9dfd4a1f4cfce956724e5868c0/expr.png\" style=\"display:inline;vertical-align:middle;\" /></a></td></tr>\n",
       "<tr><td>25</td><td>Operation</td><td>operator:&nbsp;42<br>operand:&nbsp;35<br></td><td><a class=\"ProveItLink\" href=\"../0da50c622f57076c541914daddbe2bd140874fa60/expr.ipynb\"><img src=\"../0da50c622f57076c541914daddbe2bd140874fa60/expr.png\" style=\"display:inline;vertical-align:middle;\" /></a></td></tr>\n",
       "<tr><td>26</td><td>Operation</td><td>operator:&nbsp;30<br>operands:&nbsp;31<br></td><td><a class=\"ProveItLink\" href=\"../8f566dd9842aaa314890824705b4e7faff63ca4d0/expr.ipynb\"><img src=\"../8f566dd9842aaa314890824705b4e7faff63ca4d0/expr.png\" style=\"display:inline;vertical-align:middle;\" /></a></td></tr>\n",
       "<tr><td>27</td><td>Operation</td><td>operator:&nbsp;33<br>operands:&nbsp;32<br></td><td><a class=\"ProveItLink\" href=\"../752c2d785f966bf6d0dd21131a494bf14b1974510/expr.ipynb\"><img src=\"../752c2d785f966bf6d0dd21131a494bf14b1974510/expr.png\" style=\"display:inline;vertical-align:middle;\" /></a></td></tr>\n",
       "<tr><td>28</td><td>Operation</td><td>operator:&nbsp;33<br>operands:&nbsp;34<br></td><td><a class=\"ProveItLink\" href=\"../01d1802f9f087bb7916de057ea20d6d4dbbb90c80/expr.ipynb\"><img src=\"../01d1802f9f087bb7916de057ea20d6d4dbbb90c80/expr.png\" style=\"display:inline;vertical-align:middle;\" /></a></td></tr>\n",
       "<tr><td>29</td><td>ExprTuple</td><td>35</td><td><a class=\"ProveItLink\" href=\"../2403cdcb1801a4b299ba6b6d787902bde83c3d7f0/expr.ipynb\"><img src=\"../2403cdcb1801a4b299ba6b6d787902bde83c3d7f0/expr.png\" style=\"display:inline;vertical-align:middle;\" /></a></td></tr>\n",
       "<tr><td>30</td><td>Literal</td><td></td><td><a class=\"ProveItLink\" href=\"../../../../../numbers/addition/__pv_it/common/4b7effaab3619a1c2c38fe2dee8601df8ec714590/expr.ipynb\"><img src=\"../../../../../numbers/addition/__pv_it/common/4b7effaab3619a1c2c38fe2dee8601df8ec714590/expr.png\" style=\"display:inline;vertical-align:middle;\" /></a></td></tr>\n",
       "<tr><td>31</td><td>ExprTuple</td><td>36, 37</td><td><a class=\"ProveItLink\" href=\"../20c6b1c226cab619fb0aaa7883d088a148b62b450/expr.ipynb\"><img src=\"../20c6b1c226cab619fb0aaa7883d088a148b62b450/expr.png\" style=\"display:inline;vertical-align:middle;\" /></a></td></tr>\n",
       "<tr><td>32</td><td>ExprTuple</td><td>44, 38</td><td><a class=\"ProveItLink\" href=\"../a8eb363c5254eeb022e1a465b1c28e7ca2de55a30/expr.ipynb\"><img src=\"../a8eb363c5254eeb022e1a465b1c28e7ca2de55a30/expr.png\" style=\"display:inline;vertical-align:middle;\" /></a></td></tr>\n",
       "<tr><td>33</td><td>Literal</td><td></td><td><a class=\"ProveItLink\" href=\"../../../../../logic/sets/membership/__pv_it/common/477487d8796864d23d5810f83761435f25167f690/expr.ipynb\"><img src=\"../../../../../logic/sets/membership/__pv_it/common/477487d8796864d23d5810f83761435f25167f690/expr.png\" style=\"display:inline;vertical-align:middle;\" /></a></td></tr>\n",
       "<tr><td>34</td><td>ExprTuple</td><td>45, 38</td><td><a class=\"ProveItLink\" href=\"../e3a3e72fb27ba14b2c1fbfbb1e16d90be2b91e730/expr.ipynb\"><img src=\"../e3a3e72fb27ba14b2c1fbfbb1e16d90be2b91e730/expr.png\" style=\"display:inline;vertical-align:middle;\" /></a></td></tr>\n",
       "<tr><td>35</td><td>Operation</td><td>operator:&nbsp;39<br>operands:&nbsp;40<br></td><td><a class=\"ProveItLink\" href=\"../51984e200acb1c36ad7e84d8bbd0820cec6e895f0/expr.ipynb\"><img src=\"../51984e200acb1c36ad7e84d8bbd0820cec6e895f0/expr.png\" style=\"display:inline;vertical-align:middle;\" /></a></td></tr>\n",
       "<tr><td>36</td><td>Operation</td><td>operator:&nbsp;42<br>operand:&nbsp;44<br></td><td><a class=\"ProveItLink\" href=\"../70d80c3d8a99591ccaae3ee5dafcca4edffe156a0/expr.ipynb\"><img src=\"../70d80c3d8a99591ccaae3ee5dafcca4edffe156a0/expr.png\" style=\"display:inline;vertical-align:middle;\" /></a></td></tr>\n",
       "<tr><td>37</td><td>Operation</td><td>operator:&nbsp;42<br>operand:&nbsp;45<br></td><td><a class=\"ProveItLink\" href=\"../c79ef0b2ff61f3e6683eef4695d505e5b92a18ad0/expr.ipynb\"><img src=\"../c79ef0b2ff61f3e6683eef4695d505e5b92a18ad0/expr.png\" style=\"display:inline;vertical-align:middle;\" /></a></td></tr>\n",
       "<tr><td>38</td><td>Variable</td><td></td><td><a class=\"ProveItLink\" href=\"../../../../../__pv_it/common/db1921da064725c141f453bae2d02f0bb2333a8a0/expr.ipynb\"><img src=\"../../../../../__pv_it/common/db1921da064725c141f453bae2d02f0bb2333a8a0/expr.png\" style=\"display:inline;vertical-align:middle;\" /></a></td></tr>\n",
       "<tr><td>39</td><td>Literal</td><td></td><td><a class=\"ProveItLink\" href=\"../../../../addition/__pv_it/common/ac3c140c9094f065c7f7db15c94558731443639c0/expr.ipynb\"><img src=\"../../../../addition/__pv_it/common/ac3c140c9094f065c7f7db15c94558731443639c0/expr.png\" style=\"display:inline;vertical-align:middle;\" /></a></td></tr>\n",
       "<tr><td>40</td><td>ExprTuple</td><td>44, 45</td><td><a class=\"ProveItLink\" href=\"../bbaa48af4605eceb7fbc4af345a1eb6de480e1c50/expr.ipynb\"><img src=\"../bbaa48af4605eceb7fbc4af345a1eb6de480e1c50/expr.png\" style=\"display:inline;vertical-align:middle;\" /></a></td></tr>\n",
       "<tr><td>41</td><td>ExprTuple</td><td>44</td><td><a class=\"ProveItLink\" href=\"../../../../../__pv_it/common/eacfeccc0521684fcb20fe8f5180ac50fca471f20/expr.ipynb\"><img src=\"../../../../../__pv_it/common/eacfeccc0521684fcb20fe8f5180ac50fca471f20/expr.png\" style=\"display:inline;vertical-align:middle;\" /></a></td></tr>\n",
       "<tr><td>42</td><td>Literal</td><td></td><td><a class=\"ProveItLink\" href=\"../../common/2c00dcac538e537d968253ed1ac6a761c803991f0/expr.ipynb\"><img src=\"../../common/2c00dcac538e537d968253ed1ac6a761c803991f0/expr.png\" style=\"display:inline;vertical-align:middle;\" /></a></td></tr>\n",
       "<tr><td>43</td><td>ExprTuple</td><td>45</td><td><a class=\"ProveItLink\" href=\"../c60c4da4d0e362e1aae93eaa5e9af5fbed84db960/expr.ipynb\"><img src=\"../c60c4da4d0e362e1aae93eaa5e9af5fbed84db960/expr.png\" style=\"display:inline;vertical-align:middle;\" /></a></td></tr>\n",
       "<tr><td>44</td><td>Variable</td><td></td><td><a class=\"ProveItLink\" href=\"../../../../../__pv_it/common/a0d9d672aa5e272d907247690c152cc2c6daafb70/expr.ipynb\"><img src=\"../../../../../__pv_it/common/a0d9d672aa5e272d907247690c152cc2c6daafb70/expr.png\" style=\"display:inline;vertical-align:middle;\" /></a></td></tr>\n",
       "<tr><td>45</td><td>Variable</td><td></td><td><a class=\"ProveItLink\" href=\"../../../../../__pv_it/common/ff7dba4ef0bbe791ab573bf2d9c220a304399ac80/expr.ipynb\"><img src=\"../../../../../__pv_it/common/ff7dba4ef0bbe791ab573bf2d9c220a304399ac80/expr.png\" style=\"display:inline;vertical-align:middle;\" /></a></td></tr>\n",
       "</table>\n"
      ],
      "text/plain": [
       "0. (K -> [forall_{H in_c InnerProdSpaces(K)} [forall_{x, y in H} (||x + y|| <= (||x|| + ||y||))]])\n",
       "   core type: ExprTuple\n",
       "   sub-expressions: 1\n",
       "1. K -> [forall_{H in_c InnerProdSpaces(K)} [forall_{x, y in H} (||x + y|| <= (||x|| + ||y||))]]\n",
       "   core type: Lambda\n",
       "   parameter: 20\n",
       "   body: 2\n",
       "2. forall_{H in_c InnerProdSpaces(K)} [forall_{x, y in H} (||x + y|| <= (||x|| + ||y||))]\n",
       "   core type: Operation\n",
       "   operator: 9\n",
       "   operand: 4\n",
       "3. (H -> {forall_{x, y in H} (||x + y|| <= (||x|| + ||y||)) if H in_c InnerProdSpaces(K).)\n",
       "   core type: ExprTuple\n",
       "   sub-expressions: 4\n",
       "4. H -> {forall_{x, y in H} (||x + y|| <= (||x|| + ||y||)) if H in_c InnerProdSpaces(K).\n",
       "   core type: Lambda\n",
       "   parameter: 38\n",
       "   body: 6\n",
       "5. (H)\n",
       "   core type: ExprTuple\n",
       "   sub-expressions: 38\n",
       "6. {forall_{x, y in H} (||x + y|| <= (||x|| + ||y||)) if H in_c InnerProdSpaces(K).\n",
       "   core type: Conditional\n",
       "   value: 7\n",
       "   condition: 8\n",
       "7. forall_{x, y in H} (||x + y|| <= (||x|| + ||y||))\n",
       "   core type: Operation\n",
       "   operator: 9\n",
       "   operand: 13\n",
       "8. H in_c InnerProdSpaces(K)\n",
       "   core type: Operation\n",
       "   operator: 11\n",
       "   operands: 12\n",
       "9. forall\n",
       "   core type: Literal\n",
       "   sub-expressions: \n",
       "10. ((x, y) -> {||x + y|| <= (||x|| + ||y||) if x in H ,  y in H.)\n",
       "    core type: ExprTuple\n",
       "    sub-expressions: 13\n",
       "11. in_c\n",
       "    core type: Literal\n",
       "    sub-expressions: \n",
       "12. (H, InnerProdSpaces(K))\n",
       "    core type: ExprTuple\n",
       "    sub-expressions: 38, 14\n",
       "13. (x, y) -> {||x + y|| <= (||x|| + ||y||) if x in H ,  y in H.\n",
       "    core type: Lambda\n",
       "    parameters: 40\\n    body: 15\n",
       "14. InnerProdSpaces(K)\n",
       "    core type: Operation\n",
       "    operator: 16\n",
       "    operand: 20\n",
       "15. {||x + y|| <= (||x|| + ||y||) if x in H ,  y in H.\n",
       "    core type: Conditional\n",
       "    value: 18\n",
       "    condition: 19\n",
       "16. InnerProdSpaces\n",
       "    core type: Literal\n",
       "    sub-expressions: \n",
       "17. (K)\n",
       "    core type: ExprTuple\n",
       "    sub-expressions: 20\n",
       "18. ||x + y|| <= (||x|| + ||y||)\n",
       "    core type: Operation\n",
       "    operator: 21\n",
       "    operands: 22\n",
       "19. (x in H) and (y in H)\n",
       "    core type: Operation\n",
       "    operator: 23\n",
       "    operands: 24\n",
       "20. K\n",
       "    core type: Variable\n",
       "    sub-expressions: \n",
       "21. <=\n",
       "    core type: Literal\n",
       "    sub-expressions: \n",
       "22. (||x + y||, ||x|| + ||y||)\n",
       "    core type: ExprTuple\n",
       "    sub-expressions: 25, 26\n",
       "23. and\n",
       "    core type: Literal\n",
       "    sub-expressions: \n",
       "24. (x in H, y in H)\n",
       "    core type: ExprTuple\n",
       "    sub-expressions: 27, 28\n",
       "25. ||x + y||\n",
       "    core type: Operation\n",
       "    operator: 42\n",
       "    operand: 35\n",
       "26. ||x|| + ||y||\n",
       "    core type: Operation\n",
       "    operator: 30\n",
       "    operands: 31\n",
       "27. x in H\n",
       "    core type: Operation\n",
       "    operator: 33\n",
       "    operands: 32\n",
       "28. y in H\n",
       "    core type: Operation\n",
       "    operator: 33\n",
       "    operands: 34\n",
       "29. (x + y)\n",
       "    core type: ExprTuple\n",
       "    sub-expressions: 35\n",
       "30. +\n",
       "    core type: Literal\n",
       "    sub-expressions: \n",
       "31. (||x||, ||y||)\n",
       "    core type: ExprTuple\n",
       "    sub-expressions: 36, 37\n",
       "32. (x, H)\n",
       "    core type: ExprTuple\n",
       "    sub-expressions: 44, 38\n",
       "33. in\n",
       "    core type: Literal\n",
       "    sub-expressions: \n",
       "34. (y, H)\n",
       "    core type: ExprTuple\n",
       "    sub-expressions: 45, 38\n",
       "35. x + y\n",
       "    core type: Operation\n",
       "    operator: 39\n",
       "    operands: 40\n",
       "36. ||x||\n",
       "    core type: Operation\n",
       "    operator: 42\n",
       "    operand: 44\n",
       "37. ||y||\n",
       "    core type: Operation\n",
       "    operator: 42\n",
       "    operand: 45\n",
       "38. H\n",
       "    core type: Variable\n",
       "    sub-expressions: \n",
       "39. +\n",
       "    core type: Literal\n",
       "    sub-expressions: \n",
       "40. (x, y)\n",
       "    core type: ExprTuple\n",
       "    sub-expressions: 44, 45\n",
       "41. (x)\n",
       "    core type: ExprTuple\n",
       "    sub-expressions: 44\n",
       "42. Abs\n",
       "    core type: Literal\n",
       "    sub-expressions: \n",
       "43. (y)\n",
       "    core type: ExprTuple\n",
       "    sub-expressions: 45\n",
       "44. x\n",
       "    core type: Variable\n",
       "    sub-expressions: \n",
       "45. y\n",
       "    core type: Variable\n",
       "    sub-expressions: "
      ]
     },
     "metadata": {},
     "output_type": "display_data"
    }
   ],
   "source": [
    "# display the expression information\n",
    "stored_expr.expr_info()"
   ]
  },
  {
   "cell_type": "code",
   "execution_count": null,
   "metadata": {},
   "outputs": [],
   "source": []
  }
 ],
 "metadata": {
  "kernelspec": {
   "display_name": "Python 3",
   "language": "python",
   "name": "python3"
  }
 },
 "nbformat": 4,
 "nbformat_minor": 0
}