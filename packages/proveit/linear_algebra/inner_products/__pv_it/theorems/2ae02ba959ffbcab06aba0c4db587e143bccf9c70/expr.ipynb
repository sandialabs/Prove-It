{
 "cells": [
  {
   "cell_type": "markdown",
   "metadata": {},
   "source": [
    "Expression of type <a class=\"ProveItLink\" href=\"../../../../../../../doc/html/api/proveit.ExprTuple.html\">ExprTuple</a>\n",
    "=======================\n",
    "# from the theory of <a class=\"ProveItLink\" href=\"../../../_theory_nbs_/theory.ipynb\">proveit.linear_algebra.inner_products</a>"
   ]
  },
  {
   "cell_type": "code",
   "execution_count": 1,
   "metadata": {},
   "outputs": [],
   "source": [
    "import proveit\n",
    "# Automation is not needed when building an expression:\n",
    "proveit.defaults.automation = False # This will speed things up.\n",
    "proveit.defaults.inline_pngs = False # Makes files smaller.\n",
    "%load_expr # Load the stored expression as 'stored_expr'\n",
    "# import Expression classes needed to build the expression\n",
    "from proveit import ExprTuple, H, Lambda\n",
    "from proveit.core_expr_types import x_1_to_n\n",
    "from proveit.linear_algebra import OrthoNormBases\n",
    "from proveit.logic import InSet, Set"
   ]
  },
  {
   "cell_type": "code",
   "execution_count": 2,
   "metadata": {},
   "outputs": [
    {
     "data": {
      "text/html": [
       "<strong id=\"expr\">expr:</strong> <a class=\"ProveItLink\" href=\"expr.ipynb\"><img src=\"expr.png\" style=\"display:inline;vertical-align:middle;\" /></a><br>"
      ],
      "text/plain": [
       "<IPython.core.display.HTML object>"
      ]
     },
     "metadata": {},
     "output_type": "display_data"
    }
   ],
   "source": [
    "# build up the expression from sub-expressions\n",
    "expr = ExprTuple(Lambda([x_1_to_n], InSet(Set(x_1_to_n), OrthoNormBases(H))))"
   ]
  },
  {
   "cell_type": "code",
   "execution_count": 3,
   "metadata": {},
   "outputs": [
    {
     "name": "stdout",
     "output_type": "stream",
     "text": [
      "Passed sanity check: expr matches stored_expr\n"
     ]
    }
   ],
   "source": [
    "# check that the built expression is the same as the stored expression\n",
    "assert expr == stored_expr\n",
    "assert expr._style_id == stored_expr._style_id\n",
    "print(\"Passed sanity check: expr matches stored_expr\")"
   ]
  },
  {
   "cell_type": "code",
   "execution_count": 4,
   "metadata": {},
   "outputs": [
    {
     "name": "stdout",
     "output_type": "stream",
     "text": [
      "\\left(\\left(x_{1}, x_{2}, \\ldots, x_{n}\\right) \\mapsto \\left(\\left\\{x_{1}, x_{2}, \\ldots, x_{n}\\right\\} \\in \\textrm{O.N.Bases}\\left(H\\right)\\right)\\right)\n"
     ]
    }
   ],
   "source": [
    "# Show the LaTeX representation of the expression for convenience if you need it.\n",
    "print(stored_expr.latex())"
   ]
  },
  {
   "cell_type": "code",
   "execution_count": 5,
   "metadata": {},
   "outputs": [
    {
     "data": {
      "text/html": [
       "no style options"
      ],
      "text/plain": [
       "no style options"
      ]
     },
     "metadata": {},
     "output_type": "display_data"
    }
   ],
   "source": [
    "stored_expr.style_options()"
   ]
  },
  {
   "cell_type": "code",
   "execution_count": 6,
   "metadata": {},
   "outputs": [
    {
     "data": {
      "text/html": [
       "<table><tr><th>&nbsp;</th><th>core type</th><th>sub-expressions</th><th>expression</th></tr>\n",
       "<tr><td>0</td><td>ExprTuple</td><td>1</td><td><a class=\"ProveItLink\" href=\"expr.ipynb\"><img src=\"expr.png\" style=\"display:inline;vertical-align:middle;\" /></a></td></tr>\n",
       "<tr><td>1</td><td>Lambda</td><td>parameters:&nbsp;8<br>body:&nbsp;2<br></td><td><a class=\"ProveItLink\" href=\"../bab545ac3af7150963512f59d88c0f8cb4342c520/expr.ipynb\"><img src=\"../bab545ac3af7150963512f59d88c0f8cb4342c520/expr.png\" style=\"display:inline;vertical-align:middle;\" /></a></td></tr>\n",
       "<tr><td>2</td><td>Operation</td><td>operator:&nbsp;3<br>operands:&nbsp;4<br></td><td><a class=\"ProveItLink\" href=\"../509809c12d254af4561ed520c0ddcac574934f590/expr.ipynb\"><img src=\"../509809c12d254af4561ed520c0ddcac574934f590/expr.png\" style=\"display:inline;vertical-align:middle;\" /></a></td></tr>\n",
       "<tr><td>3</td><td>Literal</td><td></td><td><a class=\"ProveItLink\" href=\"../../../../../logic/sets/membership/__pv_it/common/477487d8796864d23d5810f83761435f25167f690/expr.ipynb\"><img src=\"../../../../../logic/sets/membership/__pv_it/common/477487d8796864d23d5810f83761435f25167f690/expr.png\" style=\"display:inline;vertical-align:middle;\" /></a></td></tr>\n",
       "<tr><td>4</td><td>ExprTuple</td><td>5, 6</td><td><a class=\"ProveItLink\" href=\"../dfa60f87ad6d92fcf98135a4a110af182f186d680/expr.ipynb\"><img src=\"../dfa60f87ad6d92fcf98135a4a110af182f186d680/expr.png\" style=\"display:inline;vertical-align:middle;\" /></a></td></tr>\n",
       "<tr><td>5</td><td>Operation</td><td>operator:&nbsp;7<br>operands:&nbsp;8<br></td><td><a class=\"ProveItLink\" href=\"../2703a4a8ca936763f004192f18715656078f90610/expr.ipynb\"><img src=\"../2703a4a8ca936763f004192f18715656078f90610/expr.png\" style=\"display:inline;vertical-align:middle;\" /></a></td></tr>\n",
       "<tr><td>6</td><td>Operation</td><td>operator:&nbsp;9<br>operand:&nbsp;12<br></td><td><a class=\"ProveItLink\" href=\"../9a7b32ce4c11e79cf44416d1a058158eebcc12d60/expr.ipynb\"><img src=\"../9a7b32ce4c11e79cf44416d1a058158eebcc12d60/expr.png\" style=\"display:inline;vertical-align:middle;\" /></a></td></tr>\n",
       "<tr><td>7</td><td>Literal</td><td></td><td><a class=\"ProveItLink\" href=\"../../../../../logic/sets/enumeration/__pv_it/common/0ead90ccbf4f17bc585a51f8aa904bb77916ae6e0/expr.ipynb\"><img src=\"../../../../../logic/sets/enumeration/__pv_it/common/0ead90ccbf4f17bc585a51f8aa904bb77916ae6e0/expr.png\" style=\"display:inline;vertical-align:middle;\" /></a></td></tr>\n",
       "<tr><td>8</td><td>ExprTuple</td><td>11</td><td><a class=\"ProveItLink\" href=\"../e29d2811b42e43e69e77c1c44413b65518ecad320/expr.ipynb\"><img src=\"../e29d2811b42e43e69e77c1c44413b65518ecad320/expr.png\" style=\"display:inline;vertical-align:middle;\" /></a></td></tr>\n",
       "<tr><td>9</td><td>Literal</td><td></td><td><a class=\"ProveItLink\" href=\"../../common/9943607b90ce14f60b071d81acdf3f7a9e10ead70/expr.ipynb\"><img src=\"../../common/9943607b90ce14f60b071d81acdf3f7a9e10ead70/expr.png\" style=\"display:inline;vertical-align:middle;\" /></a></td></tr>\n",
       "<tr><td>10</td><td>ExprTuple</td><td>12</td><td><a class=\"ProveItLink\" href=\"../3214f6d50d9b000d7aac6b69fe8e45c58e2207b10/expr.ipynb\"><img src=\"../3214f6d50d9b000d7aac6b69fe8e45c58e2207b10/expr.png\" style=\"display:inline;vertical-align:middle;\" /></a></td></tr>\n",
       "<tr><td>11</td><td>ExprRange</td><td>lambda_map:&nbsp;13<br>start_index:&nbsp;14<br>end_index:&nbsp;15<br></td><td><a class=\"ProveItLink\" href=\"../../../../../core_expr_types/__pv_it/common/d50f819f834d55ea1b9fad150926a94bf07ad8fc0/expr.ipynb\"><img src=\"../../../../../core_expr_types/__pv_it/common/d50f819f834d55ea1b9fad150926a94bf07ad8fc0/expr.png\" style=\"display:inline;vertical-align:middle;\" /></a></td></tr>\n",
       "<tr><td>12</td><td>Variable</td><td></td><td><a class=\"ProveItLink\" href=\"../../../../../__pv_it/common/db1921da064725c141f453bae2d02f0bb2333a8a0/expr.ipynb\"><img src=\"../../../../../__pv_it/common/db1921da064725c141f453bae2d02f0bb2333a8a0/expr.png\" style=\"display:inline;vertical-align:middle;\" /></a></td></tr>\n",
       "<tr><td>13</td><td>Lambda</td><td>parameter:&nbsp;19<br>body:&nbsp;16<br></td><td><a class=\"ProveItLink\" href=\"../../../../../core_expr_types/__pv_it/common/f8f30fee5e5b4e37951ff8886b574795bf35d80c0/expr.ipynb\"><img src=\"../../../../../core_expr_types/__pv_it/common/f8f30fee5e5b4e37951ff8886b574795bf35d80c0/expr.png\" style=\"display:inline;vertical-align:middle;\" /></a></td></tr>\n",
       "<tr><td>14</td><td>Literal</td><td></td><td><a class=\"ProveItLink\" href=\"../../../../../numbers/numerals/__pv_it/common/682157d4892d216d9e5626ed533aff9b56b9506e0/expr.ipynb\"><img src=\"../../../../../numbers/numerals/__pv_it/common/682157d4892d216d9e5626ed533aff9b56b9506e0/expr.png\" style=\"display:inline;vertical-align:middle;\" /></a></td></tr>\n",
       "<tr><td>15</td><td>Variable</td><td></td><td><a class=\"ProveItLink\" href=\"../../../../../__pv_it/common/8968bb04eb3f7dfa02353397ce929b025bbd79c20/expr.ipynb\"><img src=\"../../../../../__pv_it/common/8968bb04eb3f7dfa02353397ce929b025bbd79c20/expr.png\" style=\"display:inline;vertical-align:middle;\" /></a></td></tr>\n",
       "<tr><td>16</td><td>IndexedVar</td><td>variable:&nbsp;17<br>index:&nbsp;19<br></td><td><a class=\"ProveItLink\" href=\"../../../../../core_expr_types/__pv_it/common/b7a46615d4e67a28ab963909b818c72af8e8e7c60/expr.ipynb\"><img src=\"../../../../../core_expr_types/__pv_it/common/b7a46615d4e67a28ab963909b818c72af8e8e7c60/expr.png\" style=\"display:inline;vertical-align:middle;\" /></a></td></tr>\n",
       "<tr><td>17</td><td>Variable</td><td></td><td><a class=\"ProveItLink\" href=\"../../../../../__pv_it/common/a0d9d672aa5e272d907247690c152cc2c6daafb70/expr.ipynb\"><img src=\"../../../../../__pv_it/common/a0d9d672aa5e272d907247690c152cc2c6daafb70/expr.png\" style=\"display:inline;vertical-align:middle;\" /></a></td></tr>\n",
       "<tr><td>18</td><td>ExprTuple</td><td>19</td><td><a class=\"ProveItLink\" href=\"../../../../../core_expr_types/__pv_it/common/4b0dd6be36d76552eda6a95d5b4a27f5a5b62f900/expr.ipynb\"><img src=\"../../../../../core_expr_types/__pv_it/common/4b0dd6be36d76552eda6a95d5b4a27f5a5b62f900/expr.png\" style=\"display:inline;vertical-align:middle;\" /></a></td></tr>\n",
       "<tr><td>19</td><td>Variable</td><td></td><td><a class=\"ProveItLink\" href=\"../../../../../core_expr_types/__pv_it/common/006c465e50948aa2b52285e2de47974f741255cc0/expr.ipynb\"><img src=\"../../../../../core_expr_types/__pv_it/common/006c465e50948aa2b52285e2de47974f741255cc0/expr.png\" style=\"display:inline;vertical-align:middle;\" /></a></td></tr>\n",
       "</table>\n"
      ],
      "text/plain": [
       "0. ((x_{1}, x_{2}, ..., x_{n}) -> ({x_{1}, x_{2}, ..., x_{n}} in O.N.Bases(H)))\n",
       "   core type: ExprTuple\n",
       "   sub-expressions: 1\n",
       "1. (x_{1}, x_{2}, ..., x_{n}) -> ({x_{1}, x_{2}, ..., x_{n}} in O.N.Bases(H))\n",
       "   core type: Lambda\n",
       "   parameters: 8\\n   body: 2\n",
       "2. {x_{1}, x_{2}, ..., x_{n}} in O.N.Bases(H)\n",
       "   core type: Operation\n",
       "   operator: 3\n",
       "   operands: 4\n",
       "3. in\n",
       "   core type: Literal\n",
       "   sub-expressions: \n",
       "4. ({x_{1}, x_{2}, ..., x_{n}}, O.N.Bases(H))\n",
       "   core type: ExprTuple\n",
       "   sub-expressions: 5, 6\n",
       "5. {x_{1}, x_{2}, ..., x_{n}}\n",
       "   core type: Operation\n",
       "   operator: 7\n",
       "   operands: 8\n",
       "6. O.N.Bases(H)\n",
       "   core type: Operation\n",
       "   operator: 9\n",
       "   operand: 12\n",
       "7. Set\n",
       "   core type: Literal\n",
       "   sub-expressions: \n",
       "8. (x_{1}, x_{2}, ..., x_{n})\n",
       "   core type: ExprTuple\n",
       "   sub-expressions: 11\n",
       "9. O.N.Bases\n",
       "   core type: Literal\n",
       "   sub-expressions: \n",
       "10. (H)\n",
       "    core type: ExprTuple\n",
       "    sub-expressions: 12\n",
       "11. x_{1}, x_{2}, ..., x_{n}\n",
       "    core type: ExprRange\n",
       "    lambda_map: 13\n",
       "    start_index: 14\n",
       "    end_index: 15\n",
       "12. H\n",
       "    core type: Variable\n",
       "    sub-expressions: \n",
       "13. _a -> x_{_a}\n",
       "    core type: Lambda\n",
       "    parameter: 19\n",
       "    body: 16\n",
       "14. 1\n",
       "    core type: Literal\n",
       "    sub-expressions: \n",
       "15. n\n",
       "    core type: Variable\n",
       "    sub-expressions: \n",
       "16. x_{_a}\n",
       "    core type: IndexedVar\n",
       "variable: 17\n",
       "index: 19\n",
       "17. x\n",
       "    core type: Variable\n",
       "    sub-expressions: \n",
       "18. (_a)\n",
       "    core type: ExprTuple\n",
       "    sub-expressions: 19\n",
       "19. _a\n",
       "    core type: Variable\n",
       "    sub-expressions: "
      ]
     },
     "metadata": {},
     "output_type": "display_data"
    }
   ],
   "source": [
    "# display the expression information\n",
    "stored_expr.expr_info()"
   ]
  },
  {
   "cell_type": "code",
   "execution_count": null,
   "metadata": {},
   "outputs": [],
   "source": []
  }
 ],
 "metadata": {
  "kernelspec": {
   "display_name": "Python 3",
   "language": "python",
   "name": "python3"
  }
 },
 "nbformat": 4,
 "nbformat_minor": 0
}