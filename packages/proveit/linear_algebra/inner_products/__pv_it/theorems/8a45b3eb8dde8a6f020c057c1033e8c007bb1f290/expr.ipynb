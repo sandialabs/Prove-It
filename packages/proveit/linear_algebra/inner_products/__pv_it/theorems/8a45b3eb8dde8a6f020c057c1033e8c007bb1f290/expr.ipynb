{
 "cells": [
  {
   "cell_type": "markdown",
   "metadata": {},
   "source": [
    "Expression of type <a class=\"ProveItLink\" href=\"../../../../../../../doc/html/api/proveit.Lambda.html\">Lambda</a>\n",
    "=======================\n",
    "# from the theory of <a class=\"ProveItLink\" href=\"../../../_theory_nbs_/theory.ipynb\">proveit.linear_algebra.inner_products</a>"
   ]
  },
  {
   "cell_type": "code",
   "execution_count": 1,
   "metadata": {},
   "outputs": [],
   "source": [
    "import proveit\n",
    "# Automation is not needed when building an expression:\n",
    "proveit.defaults.automation = False # This will speed things up.\n",
    "proveit.defaults.inline_pngs = False # Makes files smaller.\n",
    "%load_expr # Load the stored expression as 'stored_expr'\n",
    "# import Expression classes needed to build the expression\n",
    "from proveit import Conditional, H, K, Lambda\n",
    "from proveit.linear_algebra import InnerProdSpaces, VecSpaces\n",
    "from proveit.logic import InClass"
   ]
  },
  {
   "cell_type": "code",
   "execution_count": 2,
   "metadata": {},
   "outputs": [
    {
     "data": {
      "text/html": [
       "<strong id=\"expr\">expr:</strong> <a class=\"ProveItLink\" href=\"expr.ipynb\"><img src=\"expr.png\" style=\"display:inline;vertical-align:middle;\" /></a><br>"
      ],
      "text/plain": [
       "<IPython.core.display.HTML object>"
      ]
     },
     "metadata": {},
     "output_type": "display_data"
    }
   ],
   "source": [
    "# build up the expression from sub-expressions\n",
    "expr = Lambda(H, Conditional(InClass(H, VecSpaces(K)), InClass(H, InnerProdSpaces(K))))"
   ]
  },
  {
   "cell_type": "code",
   "execution_count": 3,
   "metadata": {},
   "outputs": [
    {
     "name": "stdout",
     "output_type": "stream",
     "text": [
      "Passed sanity check: expr matches stored_expr\n"
     ]
    }
   ],
   "source": [
    "# check that the built expression is the same as the stored expression\n",
    "assert expr == stored_expr\n",
    "assert expr._style_id == stored_expr._style_id\n",
    "print(\"Passed sanity check: expr matches stored_expr\")"
   ]
  },
  {
   "cell_type": "code",
   "execution_count": 4,
   "metadata": {},
   "outputs": [
    {
     "name": "stdout",
     "output_type": "stream",
     "text": [
      "H \\mapsto \\left\\{H \\underset{{\\scriptscriptstyle c}}{\\in} \\textrm{VecSpaces}\\left(K\\right) \\textrm{ if } H \\underset{{\\scriptscriptstyle c}}{\\in} \\textrm{InnerProdSpaces}\\left(K\\right)\\right..\n"
     ]
    }
   ],
   "source": [
    "# Show the LaTeX representation of the expression for convenience if you need it.\n",
    "print(stored_expr.latex())"
   ]
  },
  {
   "cell_type": "code",
   "execution_count": 5,
   "metadata": {},
   "outputs": [
    {
     "data": {
      "text/html": [
       "no style options"
      ],
      "text/plain": [
       "no style options"
      ]
     },
     "metadata": {},
     "output_type": "display_data"
    }
   ],
   "source": [
    "stored_expr.style_options()"
   ]
  },
  {
   "cell_type": "code",
   "execution_count": 6,
   "metadata": {},
   "outputs": [
    {
     "data": {
      "text/html": [
       "<table><tr><th>&nbsp;</th><th>core type</th><th>sub-expressions</th><th>expression</th></tr>\n",
       "<tr><td>0</td><td>Lambda</td><td>parameter:&nbsp;9<br>body:&nbsp;2<br></td><td><a class=\"ProveItLink\" href=\"expr.ipynb\"><img src=\"expr.png\" style=\"display:inline;vertical-align:middle;\" /></a></td></tr>\n",
       "<tr><td>1</td><td>ExprTuple</td><td>9</td><td><a class=\"ProveItLink\" href=\"../3214f6d50d9b000d7aac6b69fe8e45c58e2207b10/expr.ipynb\"><img src=\"../3214f6d50d9b000d7aac6b69fe8e45c58e2207b10/expr.png\" style=\"display:inline;vertical-align:middle;\" /></a></td></tr>\n",
       "<tr><td>2</td><td>Conditional</td><td>value:&nbsp;3<br>condition:&nbsp;4<br></td><td><a class=\"ProveItLink\" href=\"../477eca673346a35f5c1f334a3903c48b5ba5dc8e0/expr.ipynb\"><img src=\"../477eca673346a35f5c1f334a3903c48b5ba5dc8e0/expr.png\" style=\"display:inline;vertical-align:middle;\" /></a></td></tr>\n",
       "<tr><td>3</td><td>Operation</td><td>operator:&nbsp;6<br>operands:&nbsp;5<br></td><td><a class=\"ProveItLink\" href=\"../f1646de2ce5f6ef0e3c767239fba32026c9e04220/expr.ipynb\"><img src=\"../f1646de2ce5f6ef0e3c767239fba32026c9e04220/expr.png\" style=\"display:inline;vertical-align:middle;\" /></a></td></tr>\n",
       "<tr><td>4</td><td>Operation</td><td>operator:&nbsp;6<br>operands:&nbsp;7<br></td><td><a class=\"ProveItLink\" href=\"../cffb7c2eee228de9f7655ce57f1d731b5f8148710/expr.ipynb\"><img src=\"../cffb7c2eee228de9f7655ce57f1d731b5f8148710/expr.png\" style=\"display:inline;vertical-align:middle;\" /></a></td></tr>\n",
       "<tr><td>5</td><td>ExprTuple</td><td>9, 8</td><td><a class=\"ProveItLink\" href=\"../4fad61f3db7cb7a9c261a605bb6f6050239ab07c0/expr.ipynb\"><img src=\"../4fad61f3db7cb7a9c261a605bb6f6050239ab07c0/expr.png\" style=\"display:inline;vertical-align:middle;\" /></a></td></tr>\n",
       "<tr><td>6</td><td>Literal</td><td></td><td><a class=\"ProveItLink\" href=\"../../../../../logic/classes/membership/__pv_it/common/e3b437d28fbe17f0a50c9789c7c9b47a1270f1420/expr.ipynb\"><img src=\"../../../../../logic/classes/membership/__pv_it/common/e3b437d28fbe17f0a50c9789c7c9b47a1270f1420/expr.png\" style=\"display:inline;vertical-align:middle;\" /></a></td></tr>\n",
       "<tr><td>7</td><td>ExprTuple</td><td>9, 10</td><td><a class=\"ProveItLink\" href=\"../d642dab1ed63813669c75fbb82dc8c33eb563b360/expr.ipynb\"><img src=\"../d642dab1ed63813669c75fbb82dc8c33eb563b360/expr.png\" style=\"display:inline;vertical-align:middle;\" /></a></td></tr>\n",
       "<tr><td>8</td><td>Operation</td><td>operator:&nbsp;11<br>operand:&nbsp;14<br></td><td><a class=\"ProveItLink\" href=\"../bfe4d11fbcd28c79c0e2a9c152d66f0991be7cc30/expr.ipynb\"><img src=\"../bfe4d11fbcd28c79c0e2a9c152d66f0991be7cc30/expr.png\" style=\"display:inline;vertical-align:middle;\" /></a></td></tr>\n",
       "<tr><td>9</td><td>Variable</td><td></td><td><a class=\"ProveItLink\" href=\"../../../../../__pv_it/common/db1921da064725c141f453bae2d02f0bb2333a8a0/expr.ipynb\"><img src=\"../../../../../__pv_it/common/db1921da064725c141f453bae2d02f0bb2333a8a0/expr.png\" style=\"display:inline;vertical-align:middle;\" /></a></td></tr>\n",
       "<tr><td>10</td><td>Operation</td><td>operator:&nbsp;12<br>operand:&nbsp;14<br></td><td><a class=\"ProveItLink\" href=\"../011f81088f83ec65cda9a891728400f0a0c30f920/expr.ipynb\"><img src=\"../011f81088f83ec65cda9a891728400f0a0c30f920/expr.png\" style=\"display:inline;vertical-align:middle;\" /></a></td></tr>\n",
       "<tr><td>11</td><td>Literal</td><td></td><td><a class=\"ProveItLink\" href=\"../../../../__pv_it/common/191fa3a3f5c54c22d4b0a7e4fd1b2f7738e981550/expr.ipynb\"><img src=\"../../../../__pv_it/common/191fa3a3f5c54c22d4b0a7e4fd1b2f7738e981550/expr.png\" style=\"display:inline;vertical-align:middle;\" /></a></td></tr>\n",
       "<tr><td>12</td><td>Literal</td><td></td><td><a class=\"ProveItLink\" href=\"../../common/97dce8f33694d8d827400c818f103930399de7dc0/expr.ipynb\"><img src=\"../../common/97dce8f33694d8d827400c818f103930399de7dc0/expr.png\" style=\"display:inline;vertical-align:middle;\" /></a></td></tr>\n",
       "<tr><td>13</td><td>ExprTuple</td><td>14</td><td><a class=\"ProveItLink\" href=\"../dfa81a569aedd40943c42f533e78bc2f073711130/expr.ipynb\"><img src=\"../dfa81a569aedd40943c42f533e78bc2f073711130/expr.png\" style=\"display:inline;vertical-align:middle;\" /></a></td></tr>\n",
       "<tr><td>14</td><td>Variable</td><td></td><td><a class=\"ProveItLink\" href=\"../../../../../__pv_it/common/1f2ffac7a1dc7c1a4f1fc7348356ae64ea992c790/expr.ipynb\"><img src=\"../../../../../__pv_it/common/1f2ffac7a1dc7c1a4f1fc7348356ae64ea992c790/expr.png\" style=\"display:inline;vertical-align:middle;\" /></a></td></tr>\n",
       "</table>\n"
      ],
      "text/plain": [
       "0. H -> {H in_c VecSpaces(K) if H in_c InnerProdSpaces(K).\n",
       "   core type: Lambda\n",
       "   parameter: 9\n",
       "   body: 2\n",
       "1. (H)\n",
       "   core type: ExprTuple\n",
       "   sub-expressions: 9\n",
       "2. {H in_c VecSpaces(K) if H in_c InnerProdSpaces(K).\n",
       "   core type: Conditional\n",
       "   value: 3\n",
       "   condition: 4\n",
       "3. H in_c VecSpaces(K)\n",
       "   core type: Operation\n",
       "   operator: 6\n",
       "   operands: 5\n",
       "4. H in_c InnerProdSpaces(K)\n",
       "   core type: Operation\n",
       "   operator: 6\n",
       "   operands: 7\n",
       "5. (H, VecSpaces(K))\n",
       "   core type: ExprTuple\n",
       "   sub-expressions: 9, 8\n",
       "6. in_c\n",
       "   core type: Literal\n",
       "   sub-expressions: \n",
       "7. (H, InnerProdSpaces(K))\n",
       "   core type: ExprTuple\n",
       "   sub-expressions: 9, 10\n",
       "8. VecSpaces(K)\n",
       "   core type: Operation\n",
       "   operator: 11\n",
       "   operand: 14\n",
       "9. H\n",
       "   core type: Variable\n",
       "   sub-expressions: \n",
       "10. InnerProdSpaces(K)\n",
       "    core type: Operation\n",
       "    operator: 12\n",
       "    operand: 14\n",
       "11. VecSpaces\n",
       "    core type: Literal\n",
       "    sub-expressions: \n",
       "12. InnerProdSpaces\n",
       "    core type: Literal\n",
       "    sub-expressions: \n",
       "13. (K)\n",
       "    core type: ExprTuple\n",
       "    sub-expressions: 14\n",
       "14. K\n",
       "    core type: Variable\n",
       "    sub-expressions: "
      ]
     },
     "metadata": {},
     "output_type": "display_data"
    }
   ],
   "source": [
    "# display the expression information\n",
    "stored_expr.expr_info()"
   ]
  },
  {
   "cell_type": "code",
   "execution_count": null,
   "metadata": {},
   "outputs": [],
   "source": []
  }
 ],
 "metadata": {
  "kernelspec": {
   "display_name": "Python 3",
   "language": "python",
   "name": "python3"
  }
 },
 "nbformat": 4,
 "nbformat_minor": 0
}