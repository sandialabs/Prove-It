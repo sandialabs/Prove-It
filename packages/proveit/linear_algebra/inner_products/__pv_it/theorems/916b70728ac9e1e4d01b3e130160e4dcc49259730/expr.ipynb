{
 "cells": [
  {
   "cell_type": "markdown",
   "metadata": {},
   "source": [
    "Expression of type <a class=\"ProveItLink\" href=\"../../../../../../../doc/html/api/proveit.logic.Forall.html\">Forall</a>\n",
    "=======================\n",
    "# from the theory of <a class=\"ProveItLink\" href=\"../../../_theory_nbs_/theory.ipynb\">proveit.linear_algebra.inner_products</a>"
   ]
  },
  {
   "cell_type": "code",
   "execution_count": 1,
   "metadata": {},
   "outputs": [],
   "source": [
    "import proveit\n",
    "# Automation is not needed when building an expression:\n",
    "proveit.defaults.automation = False # This will speed things up.\n",
    "proveit.defaults.inline_pngs = False # Makes files smaller.\n",
    "%load_expr # Load the stored expression as 'stored_expr'\n",
    "# import Expression classes needed to build the expression\n",
    "from proveit import H, v, w\n",
    "from proveit.linear_algebra import InnerProd, InnerProdSpaces, Norm\n",
    "from proveit.logic import Forall\n",
    "from proveit.numbers import Complex, Exp, LessEq, Mult, two"
   ]
  },
  {
   "cell_type": "code",
   "execution_count": 2,
   "metadata": {},
   "outputs": [
    {
     "data": {
      "text/html": [
       "<strong id=\"expr\">expr:</strong> <a class=\"ProveItLink\" href=\"expr.ipynb\"><img src=\"expr.png\" style=\"display:inline;vertical-align:middle;\" /></a><br>"
      ],
      "text/plain": [
       "<IPython.core.display.HTML object>"
      ]
     },
     "metadata": {},
     "output_type": "display_data"
    }
   ],
   "source": [
    "# build up the expression from sub-expressions\n",
    "expr = Forall(instance_param_or_params = [H], instance_expr = Forall(instance_param_or_params = [v, w], instance_expr = LessEq(Exp(Norm(InnerProd(v, w)), two), Mult(InnerProd(v, v), InnerProd(w, w))), domain = H), domain = InnerProdSpaces(Complex))"
   ]
  },
  {
   "cell_type": "code",
   "execution_count": 3,
   "metadata": {},
   "outputs": [
    {
     "name": "stdout",
     "output_type": "stream",
     "text": [
      "Passed sanity check: expr matches stored_expr\n"
     ]
    }
   ],
   "source": [
    "# check that the built expression is the same as the stored expression\n",
    "assert expr == stored_expr\n",
    "assert expr._style_id == stored_expr._style_id\n",
    "print(\"Passed sanity check: expr matches stored_expr\")"
   ]
  },
  {
   "cell_type": "code",
   "execution_count": 4,
   "metadata": {},
   "outputs": [
    {
     "name": "stdout",
     "output_type": "stream",
     "text": [
      "\\forall_{H \\underset{{\\scriptscriptstyle c}}{\\in} \\textrm{InnerProdSpaces}\\left(\\mathbb{C}\\right)}~\\left[\\forall_{v, w \\in H}~\\left(\\left \\|\\left \\langle v, w\\right \\rangle\\right \\|^{2} \\leq \\left(\\left \\langle v, v\\right \\rangle \\cdot \\left \\langle w, w\\right \\rangle\\right)\\right)\\right]\n"
     ]
    }
   ],
   "source": [
    "# Show the LaTeX representation of the expression for convenience if you need it.\n",
    "print(stored_expr.latex())"
   ]
  },
  {
   "cell_type": "code",
   "execution_count": 5,
   "metadata": {},
   "outputs": [
    {
     "data": {
      "text/html": [
       "<table>\n",
       "<tr><th>name</th><th>description</th><th>default</th><th>current value</th><th>related methods</th></tr><tr><td>with_wrapping</td><td>If 'True', wrap the Expression after the parameters</td><td>None</td><td>None/False</td><td>('with_wrapping',)</td></tr>\n",
       "<tr><td>condition_wrapping</td><td>Wrap 'before' or 'after' the condition (or None).</td><td>None</td><td>None/False</td><td>('with_wrap_after_condition', 'with_wrap_before_condition')</td></tr>\n",
       "<tr><td>wrap_params</td><td>If 'True', wraps every two parameters AND wraps the Expression after the parameters</td><td>None</td><td>None/False</td><td>('with_params',)</td></tr>\n",
       "<tr><td>justification</td><td>justify to the 'left', 'center', or 'right' in the array cells</td><td>center</td><td>center</td><td>('with_justification',)</td></tr>\n",
       "</table>\n"
      ],
      "text/plain": [
       "style name: with_wrapping\n",
       "description: If 'True', wrap the Expression after the parameters\n",
       "default: None\n",
       "current value: None/False\n",
       "related methods: ('with_wrapping',)\n",
       "style name: condition_wrapping\n",
       "description: Wrap 'before' or 'after' the condition (or None).\n",
       "default: None\n",
       "current value: None/False\n",
       "related methods: ('with_wrap_after_condition', 'with_wrap_before_condition')\n",
       "style name: wrap_params\n",
       "description: If 'True', wraps every two parameters AND wraps the Expression after the parameters\n",
       "default: None\n",
       "current value: None/False\n",
       "related methods: ('with_params',)\n",
       "style name: justification\n",
       "description: justify to the 'left', 'center', or 'right' in the array cells\n",
       "default: center\n",
       "current value: center\n",
       "related methods: ('with_justification',)"
      ]
     },
     "metadata": {},
     "output_type": "display_data"
    }
   ],
   "source": [
    "stored_expr.style_options()"
   ]
  },
  {
   "cell_type": "code",
   "execution_count": 6,
   "metadata": {},
   "outputs": [
    {
     "data": {
      "text/html": [
       "<table><tr><th>&nbsp;</th><th>core type</th><th>sub-expressions</th><th>expression</th></tr>\n",
       "<tr><td>0</td><td>Operation</td><td>operator:&nbsp;7<br>operand:&nbsp;2<br></td><td><a class=\"ProveItLink\" href=\"expr.ipynb\"><img src=\"expr.png\" style=\"display:inline;vertical-align:middle;\" /></a></td></tr>\n",
       "<tr><td>1</td><td>ExprTuple</td><td>2</td><td><a class=\"ProveItLink\" href=\"../33c78f4391d51b25c2903472bcb4e79724b4720c0/expr.ipynb\"><img src=\"../33c78f4391d51b25c2903472bcb4e79724b4720c0/expr.png\" style=\"display:inline;vertical-align:middle;\" /></a></td></tr>\n",
       "<tr><td>2</td><td>Lambda</td><td>parameter:&nbsp;38<br>body:&nbsp;4<br></td><td><a class=\"ProveItLink\" href=\"../a66152a4e91a9ffa1791dfe076f25824b15c08090/expr.ipynb\"><img src=\"../a66152a4e91a9ffa1791dfe076f25824b15c08090/expr.png\" style=\"display:inline;vertical-align:middle;\" /></a></td></tr>\n",
       "<tr><td>3</td><td>ExprTuple</td><td>38</td><td><a class=\"ProveItLink\" href=\"../3214f6d50d9b000d7aac6b69fe8e45c58e2207b10/expr.ipynb\"><img src=\"../3214f6d50d9b000d7aac6b69fe8e45c58e2207b10/expr.png\" style=\"display:inline;vertical-align:middle;\" /></a></td></tr>\n",
       "<tr><td>4</td><td>Conditional</td><td>value:&nbsp;5<br>condition:&nbsp;6<br></td><td><a class=\"ProveItLink\" href=\"../6f99d0f0675ef02424e8cdee1a10247b3860c65e0/expr.ipynb\"><img src=\"../6f99d0f0675ef02424e8cdee1a10247b3860c65e0/expr.png\" style=\"display:inline;vertical-align:middle;\" /></a></td></tr>\n",
       "<tr><td>5</td><td>Operation</td><td>operator:&nbsp;7<br>operand:&nbsp;11<br></td><td><a class=\"ProveItLink\" href=\"../6ca853b81842959d78630605e8a595defc64c6d50/expr.ipynb\"><img src=\"../6ca853b81842959d78630605e8a595defc64c6d50/expr.png\" style=\"display:inline;vertical-align:middle;\" /></a></td></tr>\n",
       "<tr><td>6</td><td>Operation</td><td>operator:&nbsp;9<br>operands:&nbsp;10<br></td><td><a class=\"ProveItLink\" href=\"../5a41b7e05ceb3075fb1f19a531862d07c1c4ba5d0/expr.ipynb\"><img src=\"../5a41b7e05ceb3075fb1f19a531862d07c1c4ba5d0/expr.png\" style=\"display:inline;vertical-align:middle;\" /></a></td></tr>\n",
       "<tr><td>7</td><td>Literal</td><td></td><td><a class=\"ProveItLink\" href=\"../../../../../logic/booleans/quantification/universality/__pv_it/common/083d2baa0b8ecab1d230f9ec29a15aa1355809fb0/expr.ipynb\"><img src=\"../../../../../logic/booleans/quantification/universality/__pv_it/common/083d2baa0b8ecab1d230f9ec29a15aa1355809fb0/expr.png\" style=\"display:inline;vertical-align:middle;\" /></a></td></tr>\n",
       "<tr><td>8</td><td>ExprTuple</td><td>11</td><td><a class=\"ProveItLink\" href=\"../4963ccbe12da4913a85477ee575c9f4d39afa8640/expr.ipynb\"><img src=\"../4963ccbe12da4913a85477ee575c9f4d39afa8640/expr.png\" style=\"display:inline;vertical-align:middle;\" /></a></td></tr>\n",
       "<tr><td>9</td><td>Literal</td><td></td><td><a class=\"ProveItLink\" href=\"../../../../../logic/classes/membership/__pv_it/common/e3b437d28fbe17f0a50c9789c7c9b47a1270f1420/expr.ipynb\"><img src=\"../../../../../logic/classes/membership/__pv_it/common/e3b437d28fbe17f0a50c9789c7c9b47a1270f1420/expr.png\" style=\"display:inline;vertical-align:middle;\" /></a></td></tr>\n",
       "<tr><td>10</td><td>ExprTuple</td><td>38, 12</td><td><a class=\"ProveItLink\" href=\"../bc3145fd9862aff6e116c4f1e3e642148221ea860/expr.ipynb\"><img src=\"../bc3145fd9862aff6e116c4f1e3e642148221ea860/expr.png\" style=\"display:inline;vertical-align:middle;\" /></a></td></tr>\n",
       "<tr><td>11</td><td>Lambda</td><td>parameters:&nbsp;45<br>body:&nbsp;13<br></td><td><a class=\"ProveItLink\" href=\"../4a4a7b104366115caeac76657508b0ff24a53d760/expr.ipynb\"><img src=\"../4a4a7b104366115caeac76657508b0ff24a53d760/expr.png\" style=\"display:inline;vertical-align:middle;\" /></a></td></tr>\n",
       "<tr><td>12</td><td>Operation</td><td>operator:&nbsp;14<br>operand:&nbsp;18<br></td><td><a class=\"ProveItLink\" href=\"../8699bf0d550b6cd0ed3901d5f2c0ef45dbde34ee0/expr.ipynb\"><img src=\"../8699bf0d550b6cd0ed3901d5f2c0ef45dbde34ee0/expr.png\" style=\"display:inline;vertical-align:middle;\" /></a></td></tr>\n",
       "<tr><td>13</td><td>Conditional</td><td>value:&nbsp;16<br>condition:&nbsp;17<br></td><td><a class=\"ProveItLink\" href=\"../a95758198cde460fcb521e1f7eda1e84054405230/expr.ipynb\"><img src=\"../a95758198cde460fcb521e1f7eda1e84054405230/expr.png\" style=\"display:inline;vertical-align:middle;\" /></a></td></tr>\n",
       "<tr><td>14</td><td>Literal</td><td></td><td><a class=\"ProveItLink\" href=\"../../common/97dce8f33694d8d827400c818f103930399de7dc0/expr.ipynb\"><img src=\"../../common/97dce8f33694d8d827400c818f103930399de7dc0/expr.png\" style=\"display:inline;vertical-align:middle;\" /></a></td></tr>\n",
       "<tr><td>15</td><td>ExprTuple</td><td>18</td><td><a class=\"ProveItLink\" href=\"../../../../__pv_it/theorems/a80304b105ff17b6e35494e0c803fbb99255a5180/expr.ipynb\"><img src=\"../../../../__pv_it/theorems/a80304b105ff17b6e35494e0c803fbb99255a5180/expr.png\" style=\"display:inline;vertical-align:middle;\" /></a></td></tr>\n",
       "<tr><td>16</td><td>Operation</td><td>operator:&nbsp;19<br>operands:&nbsp;20<br></td><td><a class=\"ProveItLink\" href=\"../8fbb6a319e070028ce00e3c5970d790e355bf41d0/expr.ipynb\"><img src=\"../8fbb6a319e070028ce00e3c5970d790e355bf41d0/expr.png\" style=\"display:inline;vertical-align:middle;\" /></a></td></tr>\n",
       "<tr><td>17</td><td>Operation</td><td>operator:&nbsp;21<br>operands:&nbsp;22<br></td><td><a class=\"ProveItLink\" href=\"../d9ffe32d1a7a31037b8f0427491c6b97e56455800/expr.ipynb\"><img src=\"../d9ffe32d1a7a31037b8f0427491c6b97e56455800/expr.png\" style=\"display:inline;vertical-align:middle;\" /></a></td></tr>\n",
       "<tr><td>18</td><td>Literal</td><td></td><td><a class=\"ProveItLink\" href=\"../../../../../numbers/number_sets/complex_numbers/__pv_it/common/d18a028138f659eda00de597c28a3447fe87eb100/expr.ipynb\"><img src=\"../../../../../numbers/number_sets/complex_numbers/__pv_it/common/d18a028138f659eda00de597c28a3447fe87eb100/expr.png\" style=\"display:inline;vertical-align:middle;\" /></a></td></tr>\n",
       "<tr><td>19</td><td>Literal</td><td></td><td><a class=\"ProveItLink\" href=\"../../../../../numbers/ordering/__pv_it/common/68379698d72b4689bbda4b5c5cca29ee599d70280/expr.ipynb\"><img src=\"../../../../../numbers/ordering/__pv_it/common/68379698d72b4689bbda4b5c5cca29ee599d70280/expr.png\" style=\"display:inline;vertical-align:middle;\" /></a></td></tr>\n",
       "<tr><td>20</td><td>ExprTuple</td><td>23, 24</td><td><a class=\"ProveItLink\" href=\"../62c67726baeb70a6b3d24a3160aa25a0312797900/expr.ipynb\"><img src=\"../62c67726baeb70a6b3d24a3160aa25a0312797900/expr.png\" style=\"display:inline;vertical-align:middle;\" /></a></td></tr>\n",
       "<tr><td>21</td><td>Literal</td><td></td><td><a class=\"ProveItLink\" href=\"../../../../../logic/booleans/conjunction/__pv_it/common/42118ff318bd65d98b1393f64ce7c2269feef76e0/expr.ipynb\"><img src=\"../../../../../logic/booleans/conjunction/__pv_it/common/42118ff318bd65d98b1393f64ce7c2269feef76e0/expr.png\" style=\"display:inline;vertical-align:middle;\" /></a></td></tr>\n",
       "<tr><td>22</td><td>ExprTuple</td><td>25, 26</td><td><a class=\"ProveItLink\" href=\"../4e78d0e94ec3baa5c02558b15f6b72ea797eaa770/expr.ipynb\"><img src=\"../4e78d0e94ec3baa5c02558b15f6b72ea797eaa770/expr.png\" style=\"display:inline;vertical-align:middle;\" /></a></td></tr>\n",
       "<tr><td>23</td><td>Operation</td><td>operator:&nbsp;27<br>operands:&nbsp;28<br></td><td><a class=\"ProveItLink\" href=\"../9ddfac729a14efb1d758accbbf8b77a3b54333ad0/expr.ipynb\"><img src=\"../9ddfac729a14efb1d758accbbf8b77a3b54333ad0/expr.png\" style=\"display:inline;vertical-align:middle;\" /></a></td></tr>\n",
       "<tr><td>24</td><td>Operation</td><td>operator:&nbsp;29<br>operands:&nbsp;30<br></td><td><a class=\"ProveItLink\" href=\"../f9d7d8f4fbf3c10aee20d66ccee3195afbd1ecb60/expr.ipynb\"><img src=\"../f9d7d8f4fbf3c10aee20d66ccee3195afbd1ecb60/expr.png\" style=\"display:inline;vertical-align:middle;\" /></a></td></tr>\n",
       "<tr><td>25</td><td>Operation</td><td>operator:&nbsp;32<br>operands:&nbsp;31<br></td><td><a class=\"ProveItLink\" href=\"../186ff9ba089ca37e9b974432716db55fe9196cb80/expr.ipynb\"><img src=\"../186ff9ba089ca37e9b974432716db55fe9196cb80/expr.png\" style=\"display:inline;vertical-align:middle;\" /></a></td></tr>\n",
       "<tr><td>26</td><td>Operation</td><td>operator:&nbsp;32<br>operands:&nbsp;33<br></td><td><a class=\"ProveItLink\" href=\"../cd7304850c8078e422d449203c6cc890562eabc30/expr.ipynb\"><img src=\"../cd7304850c8078e422d449203c6cc890562eabc30/expr.png\" style=\"display:inline;vertical-align:middle;\" /></a></td></tr>\n",
       "<tr><td>27</td><td>Literal</td><td></td><td><a class=\"ProveItLink\" href=\"../../../../../numbers/exponentiation/__pv_it/common/0ac37aca1e54c35c5cda09672df32d4f69f1f3020/expr.ipynb\"><img src=\"../../../../../numbers/exponentiation/__pv_it/common/0ac37aca1e54c35c5cda09672df32d4f69f1f3020/expr.png\" style=\"display:inline;vertical-align:middle;\" /></a></td></tr>\n",
       "<tr><td>28</td><td>ExprTuple</td><td>34, 35</td><td><a class=\"ProveItLink\" href=\"../4195e32bb7a9f96ad97e191679adc96331b711950/expr.ipynb\"><img src=\"../4195e32bb7a9f96ad97e191679adc96331b711950/expr.png\" style=\"display:inline;vertical-align:middle;\" /></a></td></tr>\n",
       "<tr><td>29</td><td>Literal</td><td></td><td><a class=\"ProveItLink\" href=\"../../../../../numbers/multiplication/__pv_it/common/ed719cef37831779c16481533a4d380a2f95ab270/expr.ipynb\"><img src=\"../../../../../numbers/multiplication/__pv_it/common/ed719cef37831779c16481533a4d380a2f95ab270/expr.png\" style=\"display:inline;vertical-align:middle;\" /></a></td></tr>\n",
       "<tr><td>30</td><td>ExprTuple</td><td>36, 37</td><td><a class=\"ProveItLink\" href=\"../1e916aab6169502fb61cef3f3dc0b794a18c2dda0/expr.ipynb\"><img src=\"../1e916aab6169502fb61cef3f3dc0b794a18c2dda0/expr.png\" style=\"display:inline;vertical-align:middle;\" /></a></td></tr>\n",
       "<tr><td>31</td><td>ExprTuple</td><td>46, 38</td><td><a class=\"ProveItLink\" href=\"../401e8069dd757f9912acc91af5549f62ca42131d0/expr.ipynb\"><img src=\"../401e8069dd757f9912acc91af5549f62ca42131d0/expr.png\" style=\"display:inline;vertical-align:middle;\" /></a></td></tr>\n",
       "<tr><td>32</td><td>Literal</td><td></td><td><a class=\"ProveItLink\" href=\"../../../../../logic/sets/membership/__pv_it/common/477487d8796864d23d5810f83761435f25167f690/expr.ipynb\"><img src=\"../../../../../logic/sets/membership/__pv_it/common/477487d8796864d23d5810f83761435f25167f690/expr.png\" style=\"display:inline;vertical-align:middle;\" /></a></td></tr>\n",
       "<tr><td>33</td><td>ExprTuple</td><td>47, 38</td><td><a class=\"ProveItLink\" href=\"../9d1c293cb38150803845cdf1a3377d3271d47d350/expr.ipynb\"><img src=\"../9d1c293cb38150803845cdf1a3377d3271d47d350/expr.png\" style=\"display:inline;vertical-align:middle;\" /></a></td></tr>\n",
       "<tr><td>34</td><td>Operation</td><td>operator:&nbsp;39<br>operand:&nbsp;43<br></td><td><a class=\"ProveItLink\" href=\"../3f6ac9cd1ae9995f34d66aef99790ee640057c550/expr.ipynb\"><img src=\"../3f6ac9cd1ae9995f34d66aef99790ee640057c550/expr.png\" style=\"display:inline;vertical-align:middle;\" /></a></td></tr>\n",
       "<tr><td>35</td><td>Literal</td><td></td><td><a class=\"ProveItLink\" href=\"../../../../../numbers/numerals/__pv_it/common/af4aab8a07465db063742696e006d04670f30cf10/expr.ipynb\"><img src=\"../../../../../numbers/numerals/__pv_it/common/af4aab8a07465db063742696e006d04670f30cf10/expr.png\" style=\"display:inline;vertical-align:middle;\" /></a></td></tr>\n",
       "<tr><td>36</td><td>Operation</td><td>operator:&nbsp;44<br>operands:&nbsp;41<br></td><td><a class=\"ProveItLink\" href=\"../c8834b30229e85b299e4e63f3656ece360afd1ad0/expr.ipynb\"><img src=\"../c8834b30229e85b299e4e63f3656ece360afd1ad0/expr.png\" style=\"display:inline;vertical-align:middle;\" /></a></td></tr>\n",
       "<tr><td>37</td><td>Operation</td><td>operator:&nbsp;44<br>operands:&nbsp;42<br></td><td><a class=\"ProveItLink\" href=\"../1fc074abff519ff17ab42117a84c22a4a2ddb27e0/expr.ipynb\"><img src=\"../1fc074abff519ff17ab42117a84c22a4a2ddb27e0/expr.png\" style=\"display:inline;vertical-align:middle;\" /></a></td></tr>\n",
       "<tr><td>38</td><td>Variable</td><td></td><td><a class=\"ProveItLink\" href=\"../../../../../__pv_it/common/db1921da064725c141f453bae2d02f0bb2333a8a0/expr.ipynb\"><img src=\"../../../../../__pv_it/common/db1921da064725c141f453bae2d02f0bb2333a8a0/expr.png\" style=\"display:inline;vertical-align:middle;\" /></a></td></tr>\n",
       "<tr><td>39</td><td>Literal</td><td></td><td><a class=\"ProveItLink\" href=\"../../common/2c00dcac538e537d968253ed1ac6a761c803991f0/expr.ipynb\"><img src=\"../../common/2c00dcac538e537d968253ed1ac6a761c803991f0/expr.png\" style=\"display:inline;vertical-align:middle;\" /></a></td></tr>\n",
       "<tr><td>40</td><td>ExprTuple</td><td>43</td><td><a class=\"ProveItLink\" href=\"../a302a7763ad8291d355bfef62d6eda34c9987ed40/expr.ipynb\"><img src=\"../a302a7763ad8291d355bfef62d6eda34c9987ed40/expr.png\" style=\"display:inline;vertical-align:middle;\" /></a></td></tr>\n",
       "<tr><td>41</td><td>ExprTuple</td><td>46, 46</td><td><a class=\"ProveItLink\" href=\"../e8bec8eb34290f85970ab277458b055563a12ae60/expr.ipynb\"><img src=\"../e8bec8eb34290f85970ab277458b055563a12ae60/expr.png\" style=\"display:inline;vertical-align:middle;\" /></a></td></tr>\n",
       "<tr><td>42</td><td>ExprTuple</td><td>47, 47</td><td><a class=\"ProveItLink\" href=\"../653b751892ad662cf379825b55dfefe72ee046ab0/expr.ipynb\"><img src=\"../653b751892ad662cf379825b55dfefe72ee046ab0/expr.png\" style=\"display:inline;vertical-align:middle;\" /></a></td></tr>\n",
       "<tr><td>43</td><td>Operation</td><td>operator:&nbsp;44<br>operands:&nbsp;45<br></td><td><a class=\"ProveItLink\" href=\"../1f59a4d76326fac987bfb1fc3848ba06d267ca8e0/expr.ipynb\"><img src=\"../1f59a4d76326fac987bfb1fc3848ba06d267ca8e0/expr.png\" style=\"display:inline;vertical-align:middle;\" /></a></td></tr>\n",
       "<tr><td>44</td><td>Literal</td><td></td><td><a class=\"ProveItLink\" href=\"../../common/3c2fb0727e51ccc44869d1fd03bc36b5f019b5010/expr.ipynb\"><img src=\"../../common/3c2fb0727e51ccc44869d1fd03bc36b5f019b5010/expr.png\" style=\"display:inline;vertical-align:middle;\" /></a></td></tr>\n",
       "<tr><td>45</td><td>ExprTuple</td><td>46, 47</td><td><a class=\"ProveItLink\" href=\"../9652a279a9d5395d9ffaee912212ec664ffffe0c0/expr.ipynb\"><img src=\"../9652a279a9d5395d9ffaee912212ec664ffffe0c0/expr.png\" style=\"display:inline;vertical-align:middle;\" /></a></td></tr>\n",
       "<tr><td>46</td><td>Variable</td><td></td><td><a class=\"ProveItLink\" href=\"../../../../../__pv_it/common/a4b9661da9b52dcebf59c5559fec8901f4df10750/expr.ipynb\"><img src=\"../../../../../__pv_it/common/a4b9661da9b52dcebf59c5559fec8901f4df10750/expr.png\" style=\"display:inline;vertical-align:middle;\" /></a></td></tr>\n",
       "<tr><td>47</td><td>Variable</td><td></td><td><a class=\"ProveItLink\" href=\"../../../../../__pv_it/common/d365663894822dede40e6e04c77860068334d0820/expr.ipynb\"><img src=\"../../../../../__pv_it/common/d365663894822dede40e6e04c77860068334d0820/expr.png\" style=\"display:inline;vertical-align:middle;\" /></a></td></tr>\n",
       "</table>\n"
      ],
      "text/plain": [
       "0. forall_{H in_c InnerProdSpaces(Complex)} [forall_{v, w in H} (||<v, w>||^{2} <= (<v, v> * <w, w>))]\n",
       "   core type: Operation\n",
       "   operator: 7\n",
       "   operand: 2\n",
       "1. (H -> {forall_{v, w in H} (||<v, w>||^{2} <= (<v, v> * <w, w>)) if H in_c InnerProdSpaces(Complex).)\n",
       "   core type: ExprTuple\n",
       "   sub-expressions: 2\n",
       "2. H -> {forall_{v, w in H} (||<v, w>||^{2} <= (<v, v> * <w, w>)) if H in_c InnerProdSpaces(Complex).\n",
       "   core type: Lambda\n",
       "   parameter: 38\n",
       "   body: 4\n",
       "3. (H)\n",
       "   core type: ExprTuple\n",
       "   sub-expressions: 38\n",
       "4. {forall_{v, w in H} (||<v, w>||^{2} <= (<v, v> * <w, w>)) if H in_c InnerProdSpaces(Complex).\n",
       "   core type: Conditional\n",
       "   value: 5\n",
       "   condition: 6\n",
       "5. forall_{v, w in H} (||<v, w>||^{2} <= (<v, v> * <w, w>))\n",
       "   core type: Operation\n",
       "   operator: 7\n",
       "   operand: 11\n",
       "6. H in_c InnerProdSpaces(Complex)\n",
       "   core type: Operation\n",
       "   operator: 9\n",
       "   operands: 10\n",
       "7. forall\n",
       "   core type: Literal\n",
       "   sub-expressions: \n",
       "8. ((v, w) -> {||<v, w>||^{2} <= (<v, v> * <w, w>) if v in H ,  w in H.)\n",
       "   core type: ExprTuple\n",
       "   sub-expressions: 11\n",
       "9. in_c\n",
       "   core type: Literal\n",
       "   sub-expressions: \n",
       "10. (H, InnerProdSpaces(Complex))\n",
       "    core type: ExprTuple\n",
       "    sub-expressions: 38, 12\n",
       "11. (v, w) -> {||<v, w>||^{2} <= (<v, v> * <w, w>) if v in H ,  w in H.\n",
       "    core type: Lambda\n",
       "    parameters: 45\\n    body: 13\n",
       "12. InnerProdSpaces(Complex)\n",
       "    core type: Operation\n",
       "    operator: 14\n",
       "    operand: 18\n",
       "13. {||<v, w>||^{2} <= (<v, v> * <w, w>) if v in H ,  w in H.\n",
       "    core type: Conditional\n",
       "    value: 16\n",
       "    condition: 17\n",
       "14. InnerProdSpaces\n",
       "    core type: Literal\n",
       "    sub-expressions: \n",
       "15. (Complex)\n",
       "    core type: ExprTuple\n",
       "    sub-expressions: 18\n",
       "16. ||<v, w>||^{2} <= (<v, v> * <w, w>)\n",
       "    core type: Operation\n",
       "    operator: 19\n",
       "    operands: 20\n",
       "17. (v in H) and (w in H)\n",
       "    core type: Operation\n",
       "    operator: 21\n",
       "    operands: 22\n",
       "18. Complex\n",
       "    core type: Literal\n",
       "    sub-expressions: \n",
       "19. <=\n",
       "    core type: Literal\n",
       "    sub-expressions: \n",
       "20. (||<v, w>||^{2}, <v, v> * <w, w>)\n",
       "    core type: ExprTuple\n",
       "    sub-expressions: 23, 24\n",
       "21. and\n",
       "    core type: Literal\n",
       "    sub-expressions: \n",
       "22. (v in H, w in H)\n",
       "    core type: ExprTuple\n",
       "    sub-expressions: 25, 26\n",
       "23. ||<v, w>||^{2}\n",
       "    core type: Operation\n",
       "    operator: 27\n",
       "    operands: 28\n",
       "24. <v, v> * <w, w>\n",
       "    core type: Operation\n",
       "    operator: 29\n",
       "    operands: 30\n",
       "25. v in H\n",
       "    core type: Operation\n",
       "    operator: 32\n",
       "    operands: 31\n",
       "26. w in H\n",
       "    core type: Operation\n",
       "    operator: 32\n",
       "    operands: 33\n",
       "27. Exp\n",
       "    core type: Literal\n",
       "    sub-expressions: \n",
       "28. (||<v, w>||, 2)\n",
       "    core type: ExprTuple\n",
       "    sub-expressions: 34, 35\n",
       "29. *\n",
       "    core type: Literal\n",
       "    sub-expressions: \n",
       "30. (<v, v>, <w, w>)\n",
       "    core type: ExprTuple\n",
       "    sub-expressions: 36, 37\n",
       "31. (v, H)\n",
       "    core type: ExprTuple\n",
       "    sub-expressions: 46, 38\n",
       "32. in\n",
       "    core type: Literal\n",
       "    sub-expressions: \n",
       "33. (w, H)\n",
       "    core type: ExprTuple\n",
       "    sub-expressions: 47, 38\n",
       "34. ||<v, w>||\n",
       "    core type: Operation\n",
       "    operator: 39\n",
       "    operand: 43\n",
       "35. 2\n",
       "    core type: Literal\n",
       "    sub-expressions: \n",
       "36. <v, v>\n",
       "    core type: Operation\n",
       "    operator: 44\n",
       "    operands: 41\n",
       "37. <w, w>\n",
       "    core type: Operation\n",
       "    operator: 44\n",
       "    operands: 42\n",
       "38. H\n",
       "    core type: Variable\n",
       "    sub-expressions: \n",
       "39. Abs\n",
       "    core type: Literal\n",
       "    sub-expressions: \n",
       "40. (<v, w>)\n",
       "    core type: ExprTuple\n",
       "    sub-expressions: 43\n",
       "41. (v, v)\n",
       "    core type: ExprTuple\n",
       "    sub-expressions: 46, 46\n",
       "42. (w, w)\n",
       "    core type: ExprTuple\n",
       "    sub-expressions: 47, 47\n",
       "43. <v, w>\n",
       "    core type: Operation\n",
       "    operator: 44\n",
       "    operands: 45\n",
       "44. InnerProd\n",
       "    core type: Literal\n",
       "    sub-expressions: \n",
       "45. (v, w)\n",
       "    core type: ExprTuple\n",
       "    sub-expressions: 46, 47\n",
       "46. v\n",
       "    core type: Variable\n",
       "    sub-expressions: \n",
       "47. w\n",
       "    core type: Variable\n",
       "    sub-expressions: "
      ]
     },
     "metadata": {},
     "output_type": "display_data"
    }
   ],
   "source": [
    "# display the expression information\n",
    "stored_expr.expr_info()"
   ]
  },
  {
   "cell_type": "code",
   "execution_count": null,
   "metadata": {},
   "outputs": [],
   "source": []
  }
 ],
 "metadata": {
  "kernelspec": {
   "display_name": "Python 3",
   "language": "python",
   "name": "python3"
  }
 },
 "nbformat": 4,
 "nbformat_minor": 0
}