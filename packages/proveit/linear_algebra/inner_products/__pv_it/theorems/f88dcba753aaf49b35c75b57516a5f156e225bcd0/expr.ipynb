{
 "cells": [
  {
   "cell_type": "markdown",
   "metadata": {},
   "source": [
    "Expression of type <a class=\"ProveItLink\" href=\"../../../../../../../doc/html/api/proveit.Conditional.html\">Conditional</a>\n",
    "=======================\n",
    "# from the theory of <a class=\"ProveItLink\" href=\"../../../_theory_nbs_/theory.ipynb\">proveit.linear_algebra.inner_products</a>"
   ]
  },
  {
   "cell_type": "code",
   "execution_count": 1,
   "metadata": {},
   "outputs": [],
   "source": [
    "import proveit\n",
    "# Automation is not needed when building an expression:\n",
    "proveit.defaults.automation = False # This will speed things up.\n",
    "proveit.defaults.inline_pngs = False # Makes files smaller.\n",
    "%load_expr # Load the stored expression as 'stored_expr'\n",
    "# import Expression classes needed to build the expression\n",
    "from proveit import Conditional, P, X\n",
    "from proveit.linear_algebra import Adj, HilbertSpaces, Hspace, OrthoProj\n",
    "from proveit.logic import Equals, Forall, InClass, SubsetEq"
   ]
  },
  {
   "cell_type": "code",
   "execution_count": 2,
   "metadata": {},
   "outputs": [
    {
     "data": {
      "text/html": [
       "<strong id=\"expr\">expr:</strong> <a class=\"ProveItLink\" href=\"expr.ipynb\"><img src=\"expr.png\" style=\"display:inline;vertical-align:middle;\" /></a><br>"
      ],
      "text/plain": [
       "<IPython.core.display.HTML object>"
      ]
     },
     "metadata": {},
     "output_type": "display_data"
    }
   ],
   "source": [
    "# build up the expression from sub-expressions\n",
    "expr = Conditional(Forall(instance_param_or_params = [X], instance_expr = Forall(instance_param_or_params = [P], instance_expr = Equals(Adj(P), P), condition = Equals(P, OrthoProj(Hspace, X))), condition = SubsetEq(X, Hspace)), InClass(Hspace, HilbertSpaces))"
   ]
  },
  {
   "cell_type": "code",
   "execution_count": 3,
   "metadata": {},
   "outputs": [
    {
     "name": "stdout",
     "output_type": "stream",
     "text": [
      "Passed sanity check: expr matches stored_expr\n"
     ]
    }
   ],
   "source": [
    "# check that the built expression is the same as the stored expression\n",
    "assert expr == stored_expr\n",
    "assert expr._style_id == stored_expr._style_id\n",
    "print(\"Passed sanity check: expr matches stored_expr\")"
   ]
  },
  {
   "cell_type": "code",
   "execution_count": 4,
   "metadata": {},
   "outputs": [
    {
     "name": "stdout",
     "output_type": "stream",
     "text": [
      "\\left\\{\\forall_{X~|~X \\subseteq \\mathcal{H}}~\\left[\\forall_{P~|~P = \\textrm{OrthoProj}\\left(\\mathcal{H}, X\\right)}~\\left(P^{\\dagger} = P\\right)\\right] \\textrm{ if } \\mathcal{H} \\underset{{\\scriptscriptstyle c}}{\\in} \\textrm{HilbertSpaces}\\right..\n"
     ]
    }
   ],
   "source": [
    "# Show the LaTeX representation of the expression for convenience if you need it.\n",
    "print(stored_expr.latex())"
   ]
  },
  {
   "cell_type": "code",
   "execution_count": 5,
   "metadata": {},
   "outputs": [
    {
     "data": {
      "text/html": [
       "<table>\n",
       "<tr><th>name</th><th>description</th><th>default</th><th>current value</th><th>related methods</th></tr><tr><td>condition_delimiter</td><td>'comma' or 'and'</td><td>comma</td><td>comma</td><td>('with_comma_delimiter', 'with_conjunction_delimiter')</td></tr>\n",
       "</table>\n"
      ],
      "text/plain": [
       "style name: condition_delimiter\n",
       "description: 'comma' or 'and'\n",
       "default: comma\n",
       "current value: comma\n",
       "related methods: ('with_comma_delimiter', 'with_conjunction_delimiter')"
      ]
     },
     "metadata": {},
     "output_type": "display_data"
    }
   ],
   "source": [
    "stored_expr.style_options()"
   ]
  },
  {
   "cell_type": "code",
   "execution_count": 6,
   "metadata": {},
   "outputs": [
    {
     "data": {
      "text/html": [
       "<table><tr><th>&nbsp;</th><th>core type</th><th>sub-expressions</th><th>expression</th></tr>\n",
       "<tr><td>0</td><td>Conditional</td><td>value:&nbsp;1<br>condition:&nbsp;2<br></td><td><a class=\"ProveItLink\" href=\"expr.ipynb\"><img src=\"expr.png\" style=\"display:inline;vertical-align:middle;\" /></a></td></tr>\n",
       "<tr><td>1</td><td>Operation</td><td>operator:&nbsp;12<br>operand:&nbsp;6<br></td><td><a class=\"ProveItLink\" href=\"../1869751d2734ad995c63120ace7a0b70dcc3418e0/expr.ipynb\"><img src=\"../1869751d2734ad995c63120ace7a0b70dcc3418e0/expr.png\" style=\"display:inline;vertical-align:middle;\" /></a></td></tr>\n",
       "<tr><td>2</td><td>Operation</td><td>operator:&nbsp;4<br>operands:&nbsp;5<br></td><td><a class=\"ProveItLink\" href=\"../cc1a1fdbe030158429b482f8c4631f162e8f59980/expr.ipynb\"><img src=\"../cc1a1fdbe030158429b482f8c4631f162e8f59980/expr.png\" style=\"display:inline;vertical-align:middle;\" /></a></td></tr>\n",
       "<tr><td>3</td><td>ExprTuple</td><td>6</td><td><a class=\"ProveItLink\" href=\"../1ad54d61c08bdeb981829ac20e839c40b565bde40/expr.ipynb\"><img src=\"../1ad54d61c08bdeb981829ac20e839c40b565bde40/expr.png\" style=\"display:inline;vertical-align:middle;\" /></a></td></tr>\n",
       "<tr><td>4</td><td>Literal</td><td></td><td><a class=\"ProveItLink\" href=\"../../../../../logic/classes/membership/__pv_it/common/e3b437d28fbe17f0a50c9789c7c9b47a1270f1420/expr.ipynb\"><img src=\"../../../../../logic/classes/membership/__pv_it/common/e3b437d28fbe17f0a50c9789c7c9b47a1270f1420/expr.png\" style=\"display:inline;vertical-align:middle;\" /></a></td></tr>\n",
       "<tr><td>5</td><td>ExprTuple</td><td>30, 7</td><td><a class=\"ProveItLink\" href=\"../68a17dfc1d1ba94f48cf681e8044004a6d60360e0/expr.ipynb\"><img src=\"../68a17dfc1d1ba94f48cf681e8044004a6d60360e0/expr.png\" style=\"display:inline;vertical-align:middle;\" /></a></td></tr>\n",
       "<tr><td>6</td><td>Lambda</td><td>parameter:&nbsp;31<br>body:&nbsp;9<br></td><td><a class=\"ProveItLink\" href=\"../480095537e7fc5e6e2d7657233af1c574aa617580/expr.ipynb\"><img src=\"../480095537e7fc5e6e2d7657233af1c574aa617580/expr.png\" style=\"display:inline;vertical-align:middle;\" /></a></td></tr>\n",
       "<tr><td>7</td><td>Literal</td><td></td><td><a class=\"ProveItLink\" href=\"../../common/63495bb81132197a40ba1811088142655bc8cabd0/expr.ipynb\"><img src=\"../../common/63495bb81132197a40ba1811088142655bc8cabd0/expr.png\" style=\"display:inline;vertical-align:middle;\" /></a></td></tr>\n",
       "<tr><td>8</td><td>ExprTuple</td><td>31</td><td><a class=\"ProveItLink\" href=\"../db9f0ed68786c332572391edc1a73892f9a9c8f90/expr.ipynb\"><img src=\"../db9f0ed68786c332572391edc1a73892f9a9c8f90/expr.png\" style=\"display:inline;vertical-align:middle;\" /></a></td></tr>\n",
       "<tr><td>9</td><td>Conditional</td><td>value:&nbsp;10<br>condition:&nbsp;11<br></td><td><a class=\"ProveItLink\" href=\"../727dc83138c49c87bd2dfe069a4c354ecfea25b10/expr.ipynb\"><img src=\"../727dc83138c49c87bd2dfe069a4c354ecfea25b10/expr.png\" style=\"display:inline;vertical-align:middle;\" /></a></td></tr>\n",
       "<tr><td>10</td><td>Operation</td><td>operator:&nbsp;12<br>operand:&nbsp;16<br></td><td><a class=\"ProveItLink\" href=\"../01e49f11af3eaa3bb9d04a868e31f7f50caff94d0/expr.ipynb\"><img src=\"../01e49f11af3eaa3bb9d04a868e31f7f50caff94d0/expr.png\" style=\"display:inline;vertical-align:middle;\" /></a></td></tr>\n",
       "<tr><td>11</td><td>Operation</td><td>operator:&nbsp;14<br>operands:&nbsp;15<br></td><td><a class=\"ProveItLink\" href=\"../3302c7446efe8f3addbf69227853f343de81ed840/expr.ipynb\"><img src=\"../3302c7446efe8f3addbf69227853f343de81ed840/expr.png\" style=\"display:inline;vertical-align:middle;\" /></a></td></tr>\n",
       "<tr><td>12</td><td>Literal</td><td></td><td><a class=\"ProveItLink\" href=\"../../../../../logic/booleans/quantification/universality/__pv_it/common/083d2baa0b8ecab1d230f9ec29a15aa1355809fb0/expr.ipynb\"><img src=\"../../../../../logic/booleans/quantification/universality/__pv_it/common/083d2baa0b8ecab1d230f9ec29a15aa1355809fb0/expr.png\" style=\"display:inline;vertical-align:middle;\" /></a></td></tr>\n",
       "<tr><td>13</td><td>ExprTuple</td><td>16</td><td><a class=\"ProveItLink\" href=\"../b3274e94e48fce5d9df029db20dd57a6ec1008c60/expr.ipynb\"><img src=\"../b3274e94e48fce5d9df029db20dd57a6ec1008c60/expr.png\" style=\"display:inline;vertical-align:middle;\" /></a></td></tr>\n",
       "<tr><td>14</td><td>Literal</td><td></td><td><a class=\"ProveItLink\" href=\"../../../../../logic/sets/inclusion/__pv_it/common/af21bfd7d93759eac7fe399a50aaac31ae45d8cf0/expr.ipynb\"><img src=\"../../../../../logic/sets/inclusion/__pv_it/common/af21bfd7d93759eac7fe399a50aaac31ae45d8cf0/expr.png\" style=\"display:inline;vertical-align:middle;\" /></a></td></tr>\n",
       "<tr><td>15</td><td>ExprTuple</td><td>31, 30</td><td><a class=\"ProveItLink\" href=\"../cf288105b2ee034ade810b838e65c4affe482b320/expr.ipynb\"><img src=\"../cf288105b2ee034ade810b838e65c4affe482b320/expr.png\" style=\"display:inline;vertical-align:middle;\" /></a></td></tr>\n",
       "<tr><td>16</td><td>Lambda</td><td>parameter:&nbsp;29<br>body:&nbsp;17<br></td><td><a class=\"ProveItLink\" href=\"../f6fff730e59630b57ee471bd4cb5eb49460481150/expr.ipynb\"><img src=\"../f6fff730e59630b57ee471bd4cb5eb49460481150/expr.png\" style=\"display:inline;vertical-align:middle;\" /></a></td></tr>\n",
       "<tr><td>17</td><td>Conditional</td><td>value:&nbsp;18<br>condition:&nbsp;19<br></td><td><a class=\"ProveItLink\" href=\"../79a05869652766cf17c24766b28214123f4ecca10/expr.ipynb\"><img src=\"../79a05869652766cf17c24766b28214123f4ecca10/expr.png\" style=\"display:inline;vertical-align:middle;\" /></a></td></tr>\n",
       "<tr><td>18</td><td>Operation</td><td>operator:&nbsp;21<br>operands:&nbsp;20<br></td><td><a class=\"ProveItLink\" href=\"../82f65716ce603238fc2d0ca9f40f81e946f5344a0/expr.ipynb\"><img src=\"../82f65716ce603238fc2d0ca9f40f81e946f5344a0/expr.png\" style=\"display:inline;vertical-align:middle;\" /></a></td></tr>\n",
       "<tr><td>19</td><td>Operation</td><td>operator:&nbsp;21<br>operands:&nbsp;22<br></td><td><a class=\"ProveItLink\" href=\"../a3416f53eb05a601bb27f5dc3bfa28507d6453260/expr.ipynb\"><img src=\"../a3416f53eb05a601bb27f5dc3bfa28507d6453260/expr.png\" style=\"display:inline;vertical-align:middle;\" /></a></td></tr>\n",
       "<tr><td>20</td><td>ExprTuple</td><td>23, 29</td><td><a class=\"ProveItLink\" href=\"../e000c960db42d1d6dde830f3c72e35d5293821280/expr.ipynb\"><img src=\"../e000c960db42d1d6dde830f3c72e35d5293821280/expr.png\" style=\"display:inline;vertical-align:middle;\" /></a></td></tr>\n",
       "<tr><td>21</td><td>Literal</td><td></td><td><a class=\"ProveItLink\" href=\"../../../../../logic/equality/__pv_it/common/fb96dc12b2aa8801dda64d0132b396c63d1502bb0/expr.ipynb\"><img src=\"../../../../../logic/equality/__pv_it/common/fb96dc12b2aa8801dda64d0132b396c63d1502bb0/expr.png\" style=\"display:inline;vertical-align:middle;\" /></a></td></tr>\n",
       "<tr><td>22</td><td>ExprTuple</td><td>29, 24</td><td><a class=\"ProveItLink\" href=\"../d31a6fbc2f8f4c0684a0c268d6899d2ddaa05f510/expr.ipynb\"><img src=\"../d31a6fbc2f8f4c0684a0c268d6899d2ddaa05f510/expr.png\" style=\"display:inline;vertical-align:middle;\" /></a></td></tr>\n",
       "<tr><td>23</td><td>Operation</td><td>operator:&nbsp;25<br>operand:&nbsp;29<br></td><td><a class=\"ProveItLink\" href=\"../a6392962fde168b9890c8d146bba437b0af6e71c0/expr.ipynb\"><img src=\"../a6392962fde168b9890c8d146bba437b0af6e71c0/expr.png\" style=\"display:inline;vertical-align:middle;\" /></a></td></tr>\n",
       "<tr><td>24</td><td>Operation</td><td>operator:&nbsp;27<br>operands:&nbsp;28<br></td><td><a class=\"ProveItLink\" href=\"../1dd3b11a550494efd4653b23ec955b17bd0285090/expr.ipynb\"><img src=\"../1dd3b11a550494efd4653b23ec955b17bd0285090/expr.png\" style=\"display:inline;vertical-align:middle;\" /></a></td></tr>\n",
       "<tr><td>25</td><td>Literal</td><td></td><td><a class=\"ProveItLink\" href=\"../../common/07dd5c9e53f5101e0f4bf0fc1d9831c526034dc50/expr.ipynb\"><img src=\"../../common/07dd5c9e53f5101e0f4bf0fc1d9831c526034dc50/expr.png\" style=\"display:inline;vertical-align:middle;\" /></a></td></tr>\n",
       "<tr><td>26</td><td>ExprTuple</td><td>29</td><td><a class=\"ProveItLink\" href=\"../56f816491122851137106e952ad7383c0a593aaf0/expr.ipynb\"><img src=\"../56f816491122851137106e952ad7383c0a593aaf0/expr.png\" style=\"display:inline;vertical-align:middle;\" /></a></td></tr>\n",
       "<tr><td>27</td><td>Literal</td><td></td><td><a class=\"ProveItLink\" href=\"../../common/a4e5afdd14249bfa7361ad2ac59ba1681ae973bb0/expr.ipynb\"><img src=\"../../common/a4e5afdd14249bfa7361ad2ac59ba1681ae973bb0/expr.png\" style=\"display:inline;vertical-align:middle;\" /></a></td></tr>\n",
       "<tr><td>28</td><td>ExprTuple</td><td>30, 31</td><td><a class=\"ProveItLink\" href=\"../0e28391110c5e1fd1d91853fc54227ae1bfec1670/expr.ipynb\"><img src=\"../0e28391110c5e1fd1d91853fc54227ae1bfec1670/expr.png\" style=\"display:inline;vertical-align:middle;\" /></a></td></tr>\n",
       "<tr><td>29</td><td>Variable</td><td></td><td><a class=\"ProveItLink\" href=\"../../../../../__pv_it/common/de55da274ba0f49c86925fbf3828021c04d27faf0/expr.ipynb\"><img src=\"../../../../../__pv_it/common/de55da274ba0f49c86925fbf3828021c04d27faf0/expr.png\" style=\"display:inline;vertical-align:middle;\" /></a></td></tr>\n",
       "<tr><td>30</td><td>Variable</td><td></td><td><a class=\"ProveItLink\" href=\"../../common/0a298dc12c549b5fdc96454972e9674c7dbf104f0/expr.ipynb\"><img src=\"../../common/0a298dc12c549b5fdc96454972e9674c7dbf104f0/expr.png\" style=\"display:inline;vertical-align:middle;\" /></a></td></tr>\n",
       "<tr><td>31</td><td>Variable</td><td></td><td><a class=\"ProveItLink\" href=\"../../../../../__pv_it/common/f1ca094affb79f5011ff4d63eb4e121bfbde7f330/expr.ipynb\"><img src=\"../../../../../__pv_it/common/f1ca094affb79f5011ff4d63eb4e121bfbde7f330/expr.png\" style=\"display:inline;vertical-align:middle;\" /></a></td></tr>\n",
       "</table>\n"
      ],
      "text/plain": [
       "0. {forall_{X | X subset_eq H} [forall_{P | P = OrthoProj(H, X)} (P* = P)] if H in_c HilbertSpaces.\n",
       "   core type: Conditional\n",
       "   value: 1\n",
       "   condition: 2\n",
       "1. forall_{X | X subset_eq H} [forall_{P | P = OrthoProj(H, X)} (P* = P)]\n",
       "   core type: Operation\n",
       "   operator: 12\n",
       "   operand: 6\n",
       "2. H in_c HilbertSpaces\n",
       "   core type: Operation\n",
       "   operator: 4\n",
       "   operands: 5\n",
       "3. (X -> {forall_{P | P = OrthoProj(H, X)} (P* = P) if X subset_eq H.)\n",
       "   core type: ExprTuple\n",
       "   sub-expressions: 6\n",
       "4. in_c\n",
       "   core type: Literal\n",
       "   sub-expressions: \n",
       "5. (H, HilbertSpaces)\n",
       "   core type: ExprTuple\n",
       "   sub-expressions: 30, 7\n",
       "6. X -> {forall_{P | P = OrthoProj(H, X)} (P* = P) if X subset_eq H.\n",
       "   core type: Lambda\n",
       "   parameter: 31\n",
       "   body: 9\n",
       "7. HilbertSpaces\n",
       "   core type: Literal\n",
       "   sub-expressions: \n",
       "8. (X)\n",
       "   core type: ExprTuple\n",
       "   sub-expressions: 31\n",
       "9. {forall_{P | P = OrthoProj(H, X)} (P* = P) if X subset_eq H.\n",
       "   core type: Conditional\n",
       "   value: 10\n",
       "   condition: 11\n",
       "10. forall_{P | P = OrthoProj(H, X)} (P* = P)\n",
       "    core type: Operation\n",
       "    operator: 12\n",
       "    operand: 16\n",
       "11. X subset_eq H\n",
       "    core type: Operation\n",
       "    operator: 14\n",
       "    operands: 15\n",
       "12. forall\n",
       "    core type: Literal\n",
       "    sub-expressions: \n",
       "13. (P -> {P* = P if P = OrthoProj(H, X).)\n",
       "    core type: ExprTuple\n",
       "    sub-expressions: 16\n",
       "14. subset_eq\n",
       "    core type: Literal\n",
       "    sub-expressions: \n",
       "15. (X, H)\n",
       "    core type: ExprTuple\n",
       "    sub-expressions: 31, 30\n",
       "16. P -> {P* = P if P = OrthoProj(H, X).\n",
       "    core type: Lambda\n",
       "    parameter: 29\n",
       "    body: 17\n",
       "17. {P* = P if P = OrthoProj(H, X).\n",
       "    core type: Conditional\n",
       "    value: 18\n",
       "    condition: 19\n",
       "18. P* = P\n",
       "    core type: Operation\n",
       "    operator: 21\n",
       "    operands: 20\n",
       "19. P = OrthoProj(H, X)\n",
       "    core type: Operation\n",
       "    operator: 21\n",
       "    operands: 22\n",
       "20. (P*, P)\n",
       "    core type: ExprTuple\n",
       "    sub-expressions: 23, 29\n",
       "21. =\n",
       "    core type: Literal\n",
       "    sub-expressions: \n",
       "22. (P, OrthoProj(H, X))\n",
       "    core type: ExprTuple\n",
       "    sub-expressions: 29, 24\n",
       "23. P*\n",
       "    core type: Operation\n",
       "    operator: 25\n",
       "    operand: 29\n",
       "24. OrthoProj(H, X)\n",
       "    core type: Operation\n",
       "    operator: 27\n",
       "    operands: 28\n",
       "25. Adj\n",
       "    core type: Literal\n",
       "    sub-expressions: \n",
       "26. (P)\n",
       "    core type: ExprTuple\n",
       "    sub-expressions: 29\n",
       "27. OrthoProj\n",
       "    core type: Literal\n",
       "    sub-expressions: \n",
       "28. (H, X)\n",
       "    core type: ExprTuple\n",
       "    sub-expressions: 30, 31\n",
       "29. P\n",
       "    core type: Variable\n",
       "    sub-expressions: \n",
       "30. H\n",
       "    core type: Variable\n",
       "    sub-expressions: \n",
       "31. X\n",
       "    core type: Variable\n",
       "    sub-expressions: "
      ]
     },
     "metadata": {},
     "output_type": "display_data"
    }
   ],
   "source": [
    "# display the expression information\n",
    "stored_expr.expr_info()"
   ]
  },
  {
   "cell_type": "code",
   "execution_count": null,
   "metadata": {},
   "outputs": [],
   "source": []
  }
 ],
 "metadata": {
  "kernelspec": {
   "display_name": "Python 3",
   "language": "python",
   "name": "python3"
  }
 },
 "nbformat": 4,
 "nbformat_minor": 0
}