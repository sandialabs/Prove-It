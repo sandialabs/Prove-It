{
 "cells": [
  {
   "cell_type": "markdown",
   "metadata": {},
   "source": [
    "Expression of type <a class=\"ProveItLink\" href=\"../../../../../../../doc/html/api/proveit.logic.Forall.html\">Forall</a>\n",
    "=======================\n",
    "# from the theory of <a class=\"ProveItLink\" href=\"../../../_theory_nbs_/theory.ipynb\">proveit.linear_algebra.inner_products</a>"
   ]
  },
  {
   "cell_type": "code",
   "execution_count": 1,
   "metadata": {},
   "outputs": [],
   "source": [
    "import proveit\n",
    "# Automation is not needed when building an expression:\n",
    "proveit.defaults.automation = False # This will speed things up.\n",
    "proveit.defaults.inline_pngs = False # Makes files smaller.\n",
    "%load_expr # Load the stored expression as 'stored_expr'\n",
    "# import Expression classes needed to build the expression\n",
    "from proveit import P, X\n",
    "from proveit.linear_algebra import Adj, HilbertSpaces, Hspace, OrthoProj\n",
    "from proveit.logic import Equals, Forall, SubsetEq"
   ]
  },
  {
   "cell_type": "code",
   "execution_count": 2,
   "metadata": {},
   "outputs": [
    {
     "data": {
      "text/html": [
       "<strong id=\"expr\">expr:</strong> <a class=\"ProveItLink\" href=\"expr.ipynb\"><img src=\"expr.png\" style=\"display:inline;vertical-align:middle;\" /></a><br>"
      ],
      "text/plain": [
       "<IPython.core.display.HTML object>"
      ]
     },
     "metadata": {},
     "output_type": "display_data"
    }
   ],
   "source": [
    "# build up the expression from sub-expressions\n",
    "expr = Forall(instance_param_or_params = [Hspace], instance_expr = Forall(instance_param_or_params = [X], instance_expr = Forall(instance_param_or_params = [P], instance_expr = Equals(Adj(P), P), condition = Equals(P, OrthoProj(Hspace, X))), condition = SubsetEq(X, Hspace)), domain = HilbertSpaces)"
   ]
  },
  {
   "cell_type": "code",
   "execution_count": 3,
   "metadata": {},
   "outputs": [
    {
     "name": "stdout",
     "output_type": "stream",
     "text": [
      "Passed sanity check: expr matches stored_expr\n"
     ]
    }
   ],
   "source": [
    "# check that the built expression is the same as the stored expression\n",
    "assert expr == stored_expr\n",
    "assert expr._style_id == stored_expr._style_id\n",
    "print(\"Passed sanity check: expr matches stored_expr\")"
   ]
  },
  {
   "cell_type": "code",
   "execution_count": 4,
   "metadata": {},
   "outputs": [
    {
     "name": "stdout",
     "output_type": "stream",
     "text": [
      "\\forall_{\\mathcal{H} \\underset{{\\scriptscriptstyle c}}{\\in} \\textrm{HilbertSpaces}}~\\left[\\forall_{X~|~X \\subseteq \\mathcal{H}}~\\left[\\forall_{P~|~P = \\textrm{OrthoProj}\\left(\\mathcal{H}, X\\right)}~\\left(P^{\\dagger} = P\\right)\\right]\\right]\n"
     ]
    }
   ],
   "source": [
    "# Show the LaTeX representation of the expression for convenience if you need it.\n",
    "print(stored_expr.latex())"
   ]
  },
  {
   "cell_type": "code",
   "execution_count": 5,
   "metadata": {},
   "outputs": [
    {
     "data": {
      "text/html": [
       "<table>\n",
       "<tr><th>name</th><th>description</th><th>default</th><th>current value</th><th>related methods</th></tr><tr><td>with_wrapping</td><td>If 'True', wrap the Expression after the parameters</td><td>None</td><td>None/False</td><td>('with_wrapping',)</td></tr>\n",
       "<tr><td>condition_wrapping</td><td>Wrap 'before' or 'after' the condition (or None).</td><td>None</td><td>None/False</td><td>('with_wrap_after_condition', 'with_wrap_before_condition')</td></tr>\n",
       "<tr><td>wrap_params</td><td>If 'True', wraps every two parameters AND wraps the Expression after the parameters</td><td>None</td><td>None/False</td><td>('with_params',)</td></tr>\n",
       "<tr><td>justification</td><td>justify to the 'left', 'center', or 'right' in the array cells</td><td>center</td><td>center</td><td>('with_justification',)</td></tr>\n",
       "</table>\n"
      ],
      "text/plain": [
       "style name: with_wrapping\n",
       "description: If 'True', wrap the Expression after the parameters\n",
       "default: None\n",
       "current value: None/False\n",
       "related methods: ('with_wrapping',)\n",
       "style name: condition_wrapping\n",
       "description: Wrap 'before' or 'after' the condition (or None).\n",
       "default: None\n",
       "current value: None/False\n",
       "related methods: ('with_wrap_after_condition', 'with_wrap_before_condition')\n",
       "style name: wrap_params\n",
       "description: If 'True', wraps every two parameters AND wraps the Expression after the parameters\n",
       "default: None\n",
       "current value: None/False\n",
       "related methods: ('with_params',)\n",
       "style name: justification\n",
       "description: justify to the 'left', 'center', or 'right' in the array cells\n",
       "default: center\n",
       "current value: center\n",
       "related methods: ('with_justification',)"
      ]
     },
     "metadata": {},
     "output_type": "display_data"
    }
   ],
   "source": [
    "stored_expr.style_options()"
   ]
  },
  {
   "cell_type": "code",
   "execution_count": 6,
   "metadata": {},
   "outputs": [
    {
     "data": {
      "text/html": [
       "<table><tr><th>&nbsp;</th><th>core type</th><th>sub-expressions</th><th>expression</th></tr>\n",
       "<tr><td>0</td><td>Operation</td><td>operator:&nbsp;16<br>operand:&nbsp;2<br></td><td><a class=\"ProveItLink\" href=\"expr.ipynb\"><img src=\"expr.png\" style=\"display:inline;vertical-align:middle;\" /></a></td></tr>\n",
       "<tr><td>1</td><td>ExprTuple</td><td>2</td><td><a class=\"ProveItLink\" href=\"../e3128c5ddf46f596e4a0594b521d8ac1794c2b4e0/expr.ipynb\"><img src=\"../e3128c5ddf46f596e4a0594b521d8ac1794c2b4e0/expr.png\" style=\"display:inline;vertical-align:middle;\" /></a></td></tr>\n",
       "<tr><td>2</td><td>Lambda</td><td>parameter:&nbsp;34<br>body:&nbsp;4<br></td><td><a class=\"ProveItLink\" href=\"../5291c72500521c2fc217bc02c533c1ceeacb73320/expr.ipynb\"><img src=\"../5291c72500521c2fc217bc02c533c1ceeacb73320/expr.png\" style=\"display:inline;vertical-align:middle;\" /></a></td></tr>\n",
       "<tr><td>3</td><td>ExprTuple</td><td>34</td><td><a class=\"ProveItLink\" href=\"../b9d4240524cd252287e77024516896a3cc55f45e0/expr.ipynb\"><img src=\"../b9d4240524cd252287e77024516896a3cc55f45e0/expr.png\" style=\"display:inline;vertical-align:middle;\" /></a></td></tr>\n",
       "<tr><td>4</td><td>Conditional</td><td>value:&nbsp;5<br>condition:&nbsp;6<br></td><td><a class=\"ProveItLink\" href=\"../f88dcba753aaf49b35c75b57516a5f156e225bcd0/expr.ipynb\"><img src=\"../f88dcba753aaf49b35c75b57516a5f156e225bcd0/expr.png\" style=\"display:inline;vertical-align:middle;\" /></a></td></tr>\n",
       "<tr><td>5</td><td>Operation</td><td>operator:&nbsp;16<br>operand:&nbsp;10<br></td><td><a class=\"ProveItLink\" href=\"../1869751d2734ad995c63120ace7a0b70dcc3418e0/expr.ipynb\"><img src=\"../1869751d2734ad995c63120ace7a0b70dcc3418e0/expr.png\" style=\"display:inline;vertical-align:middle;\" /></a></td></tr>\n",
       "<tr><td>6</td><td>Operation</td><td>operator:&nbsp;8<br>operands:&nbsp;9<br></td><td><a class=\"ProveItLink\" href=\"../cc1a1fdbe030158429b482f8c4631f162e8f59980/expr.ipynb\"><img src=\"../cc1a1fdbe030158429b482f8c4631f162e8f59980/expr.png\" style=\"display:inline;vertical-align:middle;\" /></a></td></tr>\n",
       "<tr><td>7</td><td>ExprTuple</td><td>10</td><td><a class=\"ProveItLink\" href=\"../1ad54d61c08bdeb981829ac20e839c40b565bde40/expr.ipynb\"><img src=\"../1ad54d61c08bdeb981829ac20e839c40b565bde40/expr.png\" style=\"display:inline;vertical-align:middle;\" /></a></td></tr>\n",
       "<tr><td>8</td><td>Literal</td><td></td><td><a class=\"ProveItLink\" href=\"../../../../../logic/classes/membership/__pv_it/common/e3b437d28fbe17f0a50c9789c7c9b47a1270f1420/expr.ipynb\"><img src=\"../../../../../logic/classes/membership/__pv_it/common/e3b437d28fbe17f0a50c9789c7c9b47a1270f1420/expr.png\" style=\"display:inline;vertical-align:middle;\" /></a></td></tr>\n",
       "<tr><td>9</td><td>ExprTuple</td><td>34, 11</td><td><a class=\"ProveItLink\" href=\"../68a17dfc1d1ba94f48cf681e8044004a6d60360e0/expr.ipynb\"><img src=\"../68a17dfc1d1ba94f48cf681e8044004a6d60360e0/expr.png\" style=\"display:inline;vertical-align:middle;\" /></a></td></tr>\n",
       "<tr><td>10</td><td>Lambda</td><td>parameter:&nbsp;35<br>body:&nbsp;13<br></td><td><a class=\"ProveItLink\" href=\"../480095537e7fc5e6e2d7657233af1c574aa617580/expr.ipynb\"><img src=\"../480095537e7fc5e6e2d7657233af1c574aa617580/expr.png\" style=\"display:inline;vertical-align:middle;\" /></a></td></tr>\n",
       "<tr><td>11</td><td>Literal</td><td></td><td><a class=\"ProveItLink\" href=\"../../common/63495bb81132197a40ba1811088142655bc8cabd0/expr.ipynb\"><img src=\"../../common/63495bb81132197a40ba1811088142655bc8cabd0/expr.png\" style=\"display:inline;vertical-align:middle;\" /></a></td></tr>\n",
       "<tr><td>12</td><td>ExprTuple</td><td>35</td><td><a class=\"ProveItLink\" href=\"../db9f0ed68786c332572391edc1a73892f9a9c8f90/expr.ipynb\"><img src=\"../db9f0ed68786c332572391edc1a73892f9a9c8f90/expr.png\" style=\"display:inline;vertical-align:middle;\" /></a></td></tr>\n",
       "<tr><td>13</td><td>Conditional</td><td>value:&nbsp;14<br>condition:&nbsp;15<br></td><td><a class=\"ProveItLink\" href=\"../727dc83138c49c87bd2dfe069a4c354ecfea25b10/expr.ipynb\"><img src=\"../727dc83138c49c87bd2dfe069a4c354ecfea25b10/expr.png\" style=\"display:inline;vertical-align:middle;\" /></a></td></tr>\n",
       "<tr><td>14</td><td>Operation</td><td>operator:&nbsp;16<br>operand:&nbsp;20<br></td><td><a class=\"ProveItLink\" href=\"../01e49f11af3eaa3bb9d04a868e31f7f50caff94d0/expr.ipynb\"><img src=\"../01e49f11af3eaa3bb9d04a868e31f7f50caff94d0/expr.png\" style=\"display:inline;vertical-align:middle;\" /></a></td></tr>\n",
       "<tr><td>15</td><td>Operation</td><td>operator:&nbsp;18<br>operands:&nbsp;19<br></td><td><a class=\"ProveItLink\" href=\"../3302c7446efe8f3addbf69227853f343de81ed840/expr.ipynb\"><img src=\"../3302c7446efe8f3addbf69227853f343de81ed840/expr.png\" style=\"display:inline;vertical-align:middle;\" /></a></td></tr>\n",
       "<tr><td>16</td><td>Literal</td><td></td><td><a class=\"ProveItLink\" href=\"../../../../../logic/booleans/quantification/universality/__pv_it/common/083d2baa0b8ecab1d230f9ec29a15aa1355809fb0/expr.ipynb\"><img src=\"../../../../../logic/booleans/quantification/universality/__pv_it/common/083d2baa0b8ecab1d230f9ec29a15aa1355809fb0/expr.png\" style=\"display:inline;vertical-align:middle;\" /></a></td></tr>\n",
       "<tr><td>17</td><td>ExprTuple</td><td>20</td><td><a class=\"ProveItLink\" href=\"../b3274e94e48fce5d9df029db20dd57a6ec1008c60/expr.ipynb\"><img src=\"../b3274e94e48fce5d9df029db20dd57a6ec1008c60/expr.png\" style=\"display:inline;vertical-align:middle;\" /></a></td></tr>\n",
       "<tr><td>18</td><td>Literal</td><td></td><td><a class=\"ProveItLink\" href=\"../../../../../logic/sets/inclusion/__pv_it/common/af21bfd7d93759eac7fe399a50aaac31ae45d8cf0/expr.ipynb\"><img src=\"../../../../../logic/sets/inclusion/__pv_it/common/af21bfd7d93759eac7fe399a50aaac31ae45d8cf0/expr.png\" style=\"display:inline;vertical-align:middle;\" /></a></td></tr>\n",
       "<tr><td>19</td><td>ExprTuple</td><td>35, 34</td><td><a class=\"ProveItLink\" href=\"../cf288105b2ee034ade810b838e65c4affe482b320/expr.ipynb\"><img src=\"../cf288105b2ee034ade810b838e65c4affe482b320/expr.png\" style=\"display:inline;vertical-align:middle;\" /></a></td></tr>\n",
       "<tr><td>20</td><td>Lambda</td><td>parameter:&nbsp;33<br>body:&nbsp;21<br></td><td><a class=\"ProveItLink\" href=\"../f6fff730e59630b57ee471bd4cb5eb49460481150/expr.ipynb\"><img src=\"../f6fff730e59630b57ee471bd4cb5eb49460481150/expr.png\" style=\"display:inline;vertical-align:middle;\" /></a></td></tr>\n",
       "<tr><td>21</td><td>Conditional</td><td>value:&nbsp;22<br>condition:&nbsp;23<br></td><td><a class=\"ProveItLink\" href=\"../79a05869652766cf17c24766b28214123f4ecca10/expr.ipynb\"><img src=\"../79a05869652766cf17c24766b28214123f4ecca10/expr.png\" style=\"display:inline;vertical-align:middle;\" /></a></td></tr>\n",
       "<tr><td>22</td><td>Operation</td><td>operator:&nbsp;25<br>operands:&nbsp;24<br></td><td><a class=\"ProveItLink\" href=\"../82f65716ce603238fc2d0ca9f40f81e946f5344a0/expr.ipynb\"><img src=\"../82f65716ce603238fc2d0ca9f40f81e946f5344a0/expr.png\" style=\"display:inline;vertical-align:middle;\" /></a></td></tr>\n",
       "<tr><td>23</td><td>Operation</td><td>operator:&nbsp;25<br>operands:&nbsp;26<br></td><td><a class=\"ProveItLink\" href=\"../a3416f53eb05a601bb27f5dc3bfa28507d6453260/expr.ipynb\"><img src=\"../a3416f53eb05a601bb27f5dc3bfa28507d6453260/expr.png\" style=\"display:inline;vertical-align:middle;\" /></a></td></tr>\n",
       "<tr><td>24</td><td>ExprTuple</td><td>27, 33</td><td><a class=\"ProveItLink\" href=\"../e000c960db42d1d6dde830f3c72e35d5293821280/expr.ipynb\"><img src=\"../e000c960db42d1d6dde830f3c72e35d5293821280/expr.png\" style=\"display:inline;vertical-align:middle;\" /></a></td></tr>\n",
       "<tr><td>25</td><td>Literal</td><td></td><td><a class=\"ProveItLink\" href=\"../../../../../logic/equality/__pv_it/common/fb96dc12b2aa8801dda64d0132b396c63d1502bb0/expr.ipynb\"><img src=\"../../../../../logic/equality/__pv_it/common/fb96dc12b2aa8801dda64d0132b396c63d1502bb0/expr.png\" style=\"display:inline;vertical-align:middle;\" /></a></td></tr>\n",
       "<tr><td>26</td><td>ExprTuple</td><td>33, 28</td><td><a class=\"ProveItLink\" href=\"../d31a6fbc2f8f4c0684a0c268d6899d2ddaa05f510/expr.ipynb\"><img src=\"../d31a6fbc2f8f4c0684a0c268d6899d2ddaa05f510/expr.png\" style=\"display:inline;vertical-align:middle;\" /></a></td></tr>\n",
       "<tr><td>27</td><td>Operation</td><td>operator:&nbsp;29<br>operand:&nbsp;33<br></td><td><a class=\"ProveItLink\" href=\"../a6392962fde168b9890c8d146bba437b0af6e71c0/expr.ipynb\"><img src=\"../a6392962fde168b9890c8d146bba437b0af6e71c0/expr.png\" style=\"display:inline;vertical-align:middle;\" /></a></td></tr>\n",
       "<tr><td>28</td><td>Operation</td><td>operator:&nbsp;31<br>operands:&nbsp;32<br></td><td><a class=\"ProveItLink\" href=\"../1dd3b11a550494efd4653b23ec955b17bd0285090/expr.ipynb\"><img src=\"../1dd3b11a550494efd4653b23ec955b17bd0285090/expr.png\" style=\"display:inline;vertical-align:middle;\" /></a></td></tr>\n",
       "<tr><td>29</td><td>Literal</td><td></td><td><a class=\"ProveItLink\" href=\"../../common/07dd5c9e53f5101e0f4bf0fc1d9831c526034dc50/expr.ipynb\"><img src=\"../../common/07dd5c9e53f5101e0f4bf0fc1d9831c526034dc50/expr.png\" style=\"display:inline;vertical-align:middle;\" /></a></td></tr>\n",
       "<tr><td>30</td><td>ExprTuple</td><td>33</td><td><a class=\"ProveItLink\" href=\"../56f816491122851137106e952ad7383c0a593aaf0/expr.ipynb\"><img src=\"../56f816491122851137106e952ad7383c0a593aaf0/expr.png\" style=\"display:inline;vertical-align:middle;\" /></a></td></tr>\n",
       "<tr><td>31</td><td>Literal</td><td></td><td><a class=\"ProveItLink\" href=\"../../common/a4e5afdd14249bfa7361ad2ac59ba1681ae973bb0/expr.ipynb\"><img src=\"../../common/a4e5afdd14249bfa7361ad2ac59ba1681ae973bb0/expr.png\" style=\"display:inline;vertical-align:middle;\" /></a></td></tr>\n",
       "<tr><td>32</td><td>ExprTuple</td><td>34, 35</td><td><a class=\"ProveItLink\" href=\"../0e28391110c5e1fd1d91853fc54227ae1bfec1670/expr.ipynb\"><img src=\"../0e28391110c5e1fd1d91853fc54227ae1bfec1670/expr.png\" style=\"display:inline;vertical-align:middle;\" /></a></td></tr>\n",
       "<tr><td>33</td><td>Variable</td><td></td><td><a class=\"ProveItLink\" href=\"../../../../../__pv_it/common/de55da274ba0f49c86925fbf3828021c04d27faf0/expr.ipynb\"><img src=\"../../../../../__pv_it/common/de55da274ba0f49c86925fbf3828021c04d27faf0/expr.png\" style=\"display:inline;vertical-align:middle;\" /></a></td></tr>\n",
       "<tr><td>34</td><td>Variable</td><td></td><td><a class=\"ProveItLink\" href=\"../../common/0a298dc12c549b5fdc96454972e9674c7dbf104f0/expr.ipynb\"><img src=\"../../common/0a298dc12c549b5fdc96454972e9674c7dbf104f0/expr.png\" style=\"display:inline;vertical-align:middle;\" /></a></td></tr>\n",
       "<tr><td>35</td><td>Variable</td><td></td><td><a class=\"ProveItLink\" href=\"../../../../../__pv_it/common/f1ca094affb79f5011ff4d63eb4e121bfbde7f330/expr.ipynb\"><img src=\"../../../../../__pv_it/common/f1ca094affb79f5011ff4d63eb4e121bfbde7f330/expr.png\" style=\"display:inline;vertical-align:middle;\" /></a></td></tr>\n",
       "</table>\n"
      ],
      "text/plain": [
       "0. forall_{H in_c HilbertSpaces} [forall_{X | X subset_eq H} [forall_{P | P = OrthoProj(H, X)} (P* = P)]]\n",
       "   core type: Operation\n",
       "   operator: 16\n",
       "   operand: 2\n",
       "1. (H -> {forall_{X | X subset_eq H} [forall_{P | P = OrthoProj(H, X)} (P* = P)] if H in_c HilbertSpaces.)\n",
       "   core type: ExprTuple\n",
       "   sub-expressions: 2\n",
       "2. H -> {forall_{X | X subset_eq H} [forall_{P | P = OrthoProj(H, X)} (P* = P)] if H in_c HilbertSpaces.\n",
       "   core type: Lambda\n",
       "   parameter: 34\n",
       "   body: 4\n",
       "3. (H)\n",
       "   core type: ExprTuple\n",
       "   sub-expressions: 34\n",
       "4. {forall_{X | X subset_eq H} [forall_{P | P = OrthoProj(H, X)} (P* = P)] if H in_c HilbertSpaces.\n",
       "   core type: Conditional\n",
       "   value: 5\n",
       "   condition: 6\n",
       "5. forall_{X | X subset_eq H} [forall_{P | P = OrthoProj(H, X)} (P* = P)]\n",
       "   core type: Operation\n",
       "   operator: 16\n",
       "   operand: 10\n",
       "6. H in_c HilbertSpaces\n",
       "   core type: Operation\n",
       "   operator: 8\n",
       "   operands: 9\n",
       "7. (X -> {forall_{P | P = OrthoProj(H, X)} (P* = P) if X subset_eq H.)\n",
       "   core type: ExprTuple\n",
       "   sub-expressions: 10\n",
       "8. in_c\n",
       "   core type: Literal\n",
       "   sub-expressions: \n",
       "9. (H, HilbertSpaces)\n",
       "   core type: ExprTuple\n",
       "   sub-expressions: 34, 11\n",
       "10. X -> {forall_{P | P = OrthoProj(H, X)} (P* = P) if X subset_eq H.\n",
       "    core type: Lambda\n",
       "    parameter: 35\n",
       "    body: 13\n",
       "11. HilbertSpaces\n",
       "    core type: Literal\n",
       "    sub-expressions: \n",
       "12. (X)\n",
       "    core type: ExprTuple\n",
       "    sub-expressions: 35\n",
       "13. {forall_{P | P = OrthoProj(H, X)} (P* = P) if X subset_eq H.\n",
       "    core type: Conditional\n",
       "    value: 14\n",
       "    condition: 15\n",
       "14. forall_{P | P = OrthoProj(H, X)} (P* = P)\n",
       "    core type: Operation\n",
       "    operator: 16\n",
       "    operand: 20\n",
       "15. X subset_eq H\n",
       "    core type: Operation\n",
       "    operator: 18\n",
       "    operands: 19\n",
       "16. forall\n",
       "    core type: Literal\n",
       "    sub-expressions: \n",
       "17. (P -> {P* = P if P = OrthoProj(H, X).)\n",
       "    core type: ExprTuple\n",
       "    sub-expressions: 20\n",
       "18. subset_eq\n",
       "    core type: Literal\n",
       "    sub-expressions: \n",
       "19. (X, H)\n",
       "    core type: ExprTuple\n",
       "    sub-expressions: 35, 34\n",
       "20. P -> {P* = P if P = OrthoProj(H, X).\n",
       "    core type: Lambda\n",
       "    parameter: 33\n",
       "    body: 21\n",
       "21. {P* = P if P = OrthoProj(H, X).\n",
       "    core type: Conditional\n",
       "    value: 22\n",
       "    condition: 23\n",
       "22. P* = P\n",
       "    core type: Operation\n",
       "    operator: 25\n",
       "    operands: 24\n",
       "23. P = OrthoProj(H, X)\n",
       "    core type: Operation\n",
       "    operator: 25\n",
       "    operands: 26\n",
       "24. (P*, P)\n",
       "    core type: ExprTuple\n",
       "    sub-expressions: 27, 33\n",
       "25. =\n",
       "    core type: Literal\n",
       "    sub-expressions: \n",
       "26. (P, OrthoProj(H, X))\n",
       "    core type: ExprTuple\n",
       "    sub-expressions: 33, 28\n",
       "27. P*\n",
       "    core type: Operation\n",
       "    operator: 29\n",
       "    operand: 33\n",
       "28. OrthoProj(H, X)\n",
       "    core type: Operation\n",
       "    operator: 31\n",
       "    operands: 32\n",
       "29. Adj\n",
       "    core type: Literal\n",
       "    sub-expressions: \n",
       "30. (P)\n",
       "    core type: ExprTuple\n",
       "    sub-expressions: 33\n",
       "31. OrthoProj\n",
       "    core type: Literal\n",
       "    sub-expressions: \n",
       "32. (H, X)\n",
       "    core type: ExprTuple\n",
       "    sub-expressions: 34, 35\n",
       "33. P\n",
       "    core type: Variable\n",
       "    sub-expressions: \n",
       "34. H\n",
       "    core type: Variable\n",
       "    sub-expressions: \n",
       "35. X\n",
       "    core type: Variable\n",
       "    sub-expressions: "
      ]
     },
     "metadata": {},
     "output_type": "display_data"
    }
   ],
   "source": [
    "# display the expression information\n",
    "stored_expr.expr_info()"
   ]
  },
  {
   "cell_type": "code",
   "execution_count": null,
   "metadata": {},
   "outputs": [],
   "source": []
  }
 ],
 "metadata": {
  "kernelspec": {
   "display_name": "Python 3",
   "language": "python",
   "name": "python3"
  }
 },
 "nbformat": 4,
 "nbformat_minor": 0
}