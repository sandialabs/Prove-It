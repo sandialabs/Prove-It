{
 "cells": [
  {
   "cell_type": "markdown",
   "metadata": {},
   "source": [
    "Expression of type <a class=\"ProveItLink\" href=\"../../../../../../../doc/html/api/proveit.ExprTuple.html\">ExprTuple</a>\n",
    "=======================\n",
    "# from the theory of <a class=\"ProveItLink\" href=\"../../../_theory_nbs_/theory.ipynb\">proveit.linear_algebra.inner_products</a>"
   ]
  },
  {
   "cell_type": "code",
   "execution_count": 1,
   "metadata": {},
   "outputs": [],
   "source": [
    "import proveit\n",
    "# Automation is not needed when building an expression:\n",
    "proveit.defaults.automation = False # This will speed things up.\n",
    "proveit.defaults.inline_pngs = False # Makes files smaller.\n",
    "%load_expr # Load the stored expression as 'stored_expr'\n",
    "# import Expression classes needed to build the expression\n",
    "from proveit import Conditional, ExprTuple, H, K, Lambda, a, x, y\n",
    "from proveit.linear_algebra import InnerProd, InnerProdSpaces, ScalarMult\n",
    "from proveit.logic import Equals, Forall, InClass"
   ]
  },
  {
   "cell_type": "code",
   "execution_count": 2,
   "metadata": {},
   "outputs": [
    {
     "data": {
      "text/html": [
       "<strong id=\"expr\">expr:</strong> <a class=\"ProveItLink\" href=\"expr.ipynb\"><img src=\"expr.png\" style=\"display:inline;vertical-align:middle;\" /></a><br>"
      ],
      "text/plain": [
       "<IPython.core.display.HTML object>"
      ]
     },
     "metadata": {},
     "output_type": "display_data"
    }
   ],
   "source": [
    "# build up the expression from sub-expressions\n",
    "expr = ExprTuple(Lambda(H, Conditional(Forall(instance_param_or_params = [a], instance_expr = Forall(instance_param_or_params = [x, y], instance_expr = Equals(InnerProd(ScalarMult(a, x), y), ScalarMult(a, InnerProd(x, y))), domain = H), domain = K), InClass(H, InnerProdSpaces(K)))))"
   ]
  },
  {
   "cell_type": "code",
   "execution_count": 3,
   "metadata": {},
   "outputs": [
    {
     "name": "stdout",
     "output_type": "stream",
     "text": [
      "Passed sanity check: expr matches stored_expr\n"
     ]
    }
   ],
   "source": [
    "# check that the built expression is the same as the stored expression\n",
    "assert expr == stored_expr\n",
    "assert expr._style_id == stored_expr._style_id\n",
    "print(\"Passed sanity check: expr matches stored_expr\")"
   ]
  },
  {
   "cell_type": "code",
   "execution_count": 4,
   "metadata": {},
   "outputs": [
    {
     "name": "stdout",
     "output_type": "stream",
     "text": [
      "\\left(H \\mapsto \\left\\{\\forall_{a \\in K}~\\left[\\forall_{x, y \\in H}~\\left(\\left \\langle a \\cdot x, y\\right \\rangle = \\left(a \\cdot \\left \\langle x, y\\right \\rangle\\right)\\right)\\right] \\textrm{ if } H \\underset{{\\scriptscriptstyle c}}{\\in} \\textrm{InnerProdSpaces}\\left(K\\right)\\right..\\right)\n"
     ]
    }
   ],
   "source": [
    "# Show the LaTeX representation of the expression for convenience if you need it.\n",
    "print(stored_expr.latex())"
   ]
  },
  {
   "cell_type": "code",
   "execution_count": 5,
   "metadata": {},
   "outputs": [
    {
     "data": {
      "text/html": [
       "no style options"
      ],
      "text/plain": [
       "no style options"
      ]
     },
     "metadata": {},
     "output_type": "display_data"
    }
   ],
   "source": [
    "stored_expr.style_options()"
   ]
  },
  {
   "cell_type": "code",
   "execution_count": 6,
   "metadata": {},
   "outputs": [
    {
     "data": {
      "text/html": [
       "<table><tr><th>&nbsp;</th><th>core type</th><th>sub-expressions</th><th>expression</th></tr>\n",
       "<tr><td>0</td><td>ExprTuple</td><td>1</td><td><a class=\"ProveItLink\" href=\"expr.ipynb\"><img src=\"expr.png\" style=\"display:inline;vertical-align:middle;\" /></a></td></tr>\n",
       "<tr><td>1</td><td>Lambda</td><td>parameter:&nbsp;40<br>body:&nbsp;3<br></td><td><a class=\"ProveItLink\" href=\"../8652a294145b25c8312a002b7fc08485c10177870/expr.ipynb\"><img src=\"../8652a294145b25c8312a002b7fc08485c10177870/expr.png\" style=\"display:inline;vertical-align:middle;\" /></a></td></tr>\n",
       "<tr><td>2</td><td>ExprTuple</td><td>40</td><td><a class=\"ProveItLink\" href=\"../3214f6d50d9b000d7aac6b69fe8e45c58e2207b10/expr.ipynb\"><img src=\"../3214f6d50d9b000d7aac6b69fe8e45c58e2207b10/expr.png\" style=\"display:inline;vertical-align:middle;\" /></a></td></tr>\n",
       "<tr><td>3</td><td>Conditional</td><td>value:&nbsp;4<br>condition:&nbsp;5<br></td><td><a class=\"ProveItLink\" href=\"../3516a28be32601d4dd6d05f7dd010fc3761691190/expr.ipynb\"><img src=\"../3516a28be32601d4dd6d05f7dd010fc3761691190/expr.png\" style=\"display:inline;vertical-align:middle;\" /></a></td></tr>\n",
       "<tr><td>4</td><td>Operation</td><td>operator:&nbsp;17<br>operand:&nbsp;9<br></td><td><a class=\"ProveItLink\" href=\"../bb11fce4d5bf5efdd37cf4fb693da1309c8cb1b40/expr.ipynb\"><img src=\"../bb11fce4d5bf5efdd37cf4fb693da1309c8cb1b40/expr.png\" style=\"display:inline;vertical-align:middle;\" /></a></td></tr>\n",
       "<tr><td>5</td><td>Operation</td><td>operator:&nbsp;7<br>operands:&nbsp;8<br></td><td><a class=\"ProveItLink\" href=\"../cffb7c2eee228de9f7655ce57f1d731b5f8148710/expr.ipynb\"><img src=\"../cffb7c2eee228de9f7655ce57f1d731b5f8148710/expr.png\" style=\"display:inline;vertical-align:middle;\" /></a></td></tr>\n",
       "<tr><td>6</td><td>ExprTuple</td><td>9</td><td><a class=\"ProveItLink\" href=\"../93bebeefbfc8248d49733fa44c771ea2d40ae1bd0/expr.ipynb\"><img src=\"../93bebeefbfc8248d49733fa44c771ea2d40ae1bd0/expr.png\" style=\"display:inline;vertical-align:middle;\" /></a></td></tr>\n",
       "<tr><td>7</td><td>Literal</td><td></td><td><a class=\"ProveItLink\" href=\"../../../../../logic/classes/membership/__pv_it/common/e3b437d28fbe17f0a50c9789c7c9b47a1270f1420/expr.ipynb\"><img src=\"../../../../../logic/classes/membership/__pv_it/common/e3b437d28fbe17f0a50c9789c7c9b47a1270f1420/expr.png\" style=\"display:inline;vertical-align:middle;\" /></a></td></tr>\n",
       "<tr><td>8</td><td>ExprTuple</td><td>40, 10</td><td><a class=\"ProveItLink\" href=\"../d642dab1ed63813669c75fbb82dc8c33eb563b360/expr.ipynb\"><img src=\"../d642dab1ed63813669c75fbb82dc8c33eb563b360/expr.png\" style=\"display:inline;vertical-align:middle;\" /></a></td></tr>\n",
       "<tr><td>9</td><td>Lambda</td><td>parameter:&nbsp;45<br>body:&nbsp;12<br></td><td><a class=\"ProveItLink\" href=\"../e0cbfc8791b4fd5cc347534a05adde5db10881d40/expr.ipynb\"><img src=\"../e0cbfc8791b4fd5cc347534a05adde5db10881d40/expr.png\" style=\"display:inline;vertical-align:middle;\" /></a></td></tr>\n",
       "<tr><td>10</td><td>Operation</td><td>operator:&nbsp;13<br>operand:&nbsp;21<br></td><td><a class=\"ProveItLink\" href=\"../011f81088f83ec65cda9a891728400f0a0c30f920/expr.ipynb\"><img src=\"../011f81088f83ec65cda9a891728400f0a0c30f920/expr.png\" style=\"display:inline;vertical-align:middle;\" /></a></td></tr>\n",
       "<tr><td>11</td><td>ExprTuple</td><td>45</td><td><a class=\"ProveItLink\" href=\"../034703c6972b772d60786b3024fb4de33deb9fd00/expr.ipynb\"><img src=\"../034703c6972b772d60786b3024fb4de33deb9fd00/expr.png\" style=\"display:inline;vertical-align:middle;\" /></a></td></tr>\n",
       "<tr><td>12</td><td>Conditional</td><td>value:&nbsp;15<br>condition:&nbsp;16<br></td><td><a class=\"ProveItLink\" href=\"../d977fab7884180c96240ad3187324215aa7187af0/expr.ipynb\"><img src=\"../d977fab7884180c96240ad3187324215aa7187af0/expr.png\" style=\"display:inline;vertical-align:middle;\" /></a></td></tr>\n",
       "<tr><td>13</td><td>Literal</td><td></td><td><a class=\"ProveItLink\" href=\"../../common/97dce8f33694d8d827400c818f103930399de7dc0/expr.ipynb\"><img src=\"../../common/97dce8f33694d8d827400c818f103930399de7dc0/expr.png\" style=\"display:inline;vertical-align:middle;\" /></a></td></tr>\n",
       "<tr><td>14</td><td>ExprTuple</td><td>21</td><td><a class=\"ProveItLink\" href=\"../dfa81a569aedd40943c42f533e78bc2f073711130/expr.ipynb\"><img src=\"../dfa81a569aedd40943c42f533e78bc2f073711130/expr.png\" style=\"display:inline;vertical-align:middle;\" /></a></td></tr>\n",
       "<tr><td>15</td><td>Operation</td><td>operator:&nbsp;17<br>operand:&nbsp;20<br></td><td><a class=\"ProveItLink\" href=\"../5f90010918b3173726ab4a3c62492fafd63259cb0/expr.ipynb\"><img src=\"../5f90010918b3173726ab4a3c62492fafd63259cb0/expr.png\" style=\"display:inline;vertical-align:middle;\" /></a></td></tr>\n",
       "<tr><td>16</td><td>Operation</td><td>operator:&nbsp;36<br>operands:&nbsp;19<br></td><td><a class=\"ProveItLink\" href=\"../c4a4f07f387dc6aa4911aef3f3a862f71e2f5dff0/expr.ipynb\"><img src=\"../c4a4f07f387dc6aa4911aef3f3a862f71e2f5dff0/expr.png\" style=\"display:inline;vertical-align:middle;\" /></a></td></tr>\n",
       "<tr><td>17</td><td>Literal</td><td></td><td><a class=\"ProveItLink\" href=\"../../../../../logic/booleans/quantification/universality/__pv_it/common/083d2baa0b8ecab1d230f9ec29a15aa1355809fb0/expr.ipynb\"><img src=\"../../../../../logic/booleans/quantification/universality/__pv_it/common/083d2baa0b8ecab1d230f9ec29a15aa1355809fb0/expr.png\" style=\"display:inline;vertical-align:middle;\" /></a></td></tr>\n",
       "<tr><td>18</td><td>ExprTuple</td><td>20</td><td><a class=\"ProveItLink\" href=\"../b90c681680b6c8ea6ebd8177453f9bf95c8e40ce0/expr.ipynb\"><img src=\"../b90c681680b6c8ea6ebd8177453f9bf95c8e40ce0/expr.png\" style=\"display:inline;vertical-align:middle;\" /></a></td></tr>\n",
       "<tr><td>19</td><td>ExprTuple</td><td>45, 21</td><td><a class=\"ProveItLink\" href=\"../e54a7b716df7aab9959e416978e0d39dced78c0a0/expr.ipynb\"><img src=\"../e54a7b716df7aab9959e416978e0d39dced78c0a0/expr.png\" style=\"display:inline;vertical-align:middle;\" /></a></td></tr>\n",
       "<tr><td>20</td><td>Lambda</td><td>parameters:&nbsp;44<br>body:&nbsp;22<br></td><td><a class=\"ProveItLink\" href=\"../b871100a3ab7ef6e3a86499ecb647ec58ffcd80a0/expr.ipynb\"><img src=\"../b871100a3ab7ef6e3a86499ecb647ec58ffcd80a0/expr.png\" style=\"display:inline;vertical-align:middle;\" /></a></td></tr>\n",
       "<tr><td>21</td><td>Variable</td><td></td><td><a class=\"ProveItLink\" href=\"../../../../../__pv_it/common/1f2ffac7a1dc7c1a4f1fc7348356ae64ea992c790/expr.ipynb\"><img src=\"../../../../../__pv_it/common/1f2ffac7a1dc7c1a4f1fc7348356ae64ea992c790/expr.png\" style=\"display:inline;vertical-align:middle;\" /></a></td></tr>\n",
       "<tr><td>22</td><td>Conditional</td><td>value:&nbsp;23<br>condition:&nbsp;24<br></td><td><a class=\"ProveItLink\" href=\"../f5f89e7481cfe7d13cd38bf0a941a176a0f8b5890/expr.ipynb\"><img src=\"../f5f89e7481cfe7d13cd38bf0a941a176a0f8b5890/expr.png\" style=\"display:inline;vertical-align:middle;\" /></a></td></tr>\n",
       "<tr><td>23</td><td>Operation</td><td>operator:&nbsp;25<br>operands:&nbsp;26<br></td><td><a class=\"ProveItLink\" href=\"../a4abc4cc91252928273737ebf9ca64587e6153cd0/expr.ipynb\"><img src=\"../a4abc4cc91252928273737ebf9ca64587e6153cd0/expr.png\" style=\"display:inline;vertical-align:middle;\" /></a></td></tr>\n",
       "<tr><td>24</td><td>Operation</td><td>operator:&nbsp;27<br>operands:&nbsp;28<br></td><td><a class=\"ProveItLink\" href=\"../a80101b6cb54acabdcd6d9024c4f55942db5eda70/expr.ipynb\"><img src=\"../a80101b6cb54acabdcd6d9024c4f55942db5eda70/expr.png\" style=\"display:inline;vertical-align:middle;\" /></a></td></tr>\n",
       "<tr><td>25</td><td>Literal</td><td></td><td><a class=\"ProveItLink\" href=\"../../../../../logic/equality/__pv_it/common/fb96dc12b2aa8801dda64d0132b396c63d1502bb0/expr.ipynb\"><img src=\"../../../../../logic/equality/__pv_it/common/fb96dc12b2aa8801dda64d0132b396c63d1502bb0/expr.png\" style=\"display:inline;vertical-align:middle;\" /></a></td></tr>\n",
       "<tr><td>26</td><td>ExprTuple</td><td>29, 30</td><td><a class=\"ProveItLink\" href=\"../3014e4c5f7c8a91e91b4bd247a8aec3039738f6f0/expr.ipynb\"><img src=\"../3014e4c5f7c8a91e91b4bd247a8aec3039738f6f0/expr.png\" style=\"display:inline;vertical-align:middle;\" /></a></td></tr>\n",
       "<tr><td>27</td><td>Literal</td><td></td><td><a class=\"ProveItLink\" href=\"../../../../../logic/booleans/conjunction/__pv_it/common/42118ff318bd65d98b1393f64ce7c2269feef76e0/expr.ipynb\"><img src=\"../../../../../logic/booleans/conjunction/__pv_it/common/42118ff318bd65d98b1393f64ce7c2269feef76e0/expr.png\" style=\"display:inline;vertical-align:middle;\" /></a></td></tr>\n",
       "<tr><td>28</td><td>ExprTuple</td><td>31, 32</td><td><a class=\"ProveItLink\" href=\"../57b2c90bc0aee7e9dfd4a1f4cfce956724e5868c0/expr.ipynb\"><img src=\"../57b2c90bc0aee7e9dfd4a1f4cfce956724e5868c0/expr.png\" style=\"display:inline;vertical-align:middle;\" /></a></td></tr>\n",
       "<tr><td>29</td><td>Operation</td><td>operator:&nbsp;43<br>operands:&nbsp;33<br></td><td><a class=\"ProveItLink\" href=\"../10ea873074780ba5905a9c9125dd1a479cfa2ce10/expr.ipynb\"><img src=\"../10ea873074780ba5905a9c9125dd1a479cfa2ce10/expr.png\" style=\"display:inline;vertical-align:middle;\" /></a></td></tr>\n",
       "<tr><td>30</td><td>Operation</td><td>operator:&nbsp;41<br>operands:&nbsp;34<br></td><td><a class=\"ProveItLink\" href=\"../d8be5d832cdeeda891eef2e1a7e8a52c5a0ecf0a0/expr.ipynb\"><img src=\"../d8be5d832cdeeda891eef2e1a7e8a52c5a0ecf0a0/expr.png\" style=\"display:inline;vertical-align:middle;\" /></a></td></tr>\n",
       "<tr><td>31</td><td>Operation</td><td>operator:&nbsp;36<br>operands:&nbsp;35<br></td><td><a class=\"ProveItLink\" href=\"../752c2d785f966bf6d0dd21131a494bf14b1974510/expr.ipynb\"><img src=\"../752c2d785f966bf6d0dd21131a494bf14b1974510/expr.png\" style=\"display:inline;vertical-align:middle;\" /></a></td></tr>\n",
       "<tr><td>32</td><td>Operation</td><td>operator:&nbsp;36<br>operands:&nbsp;37<br></td><td><a class=\"ProveItLink\" href=\"../01d1802f9f087bb7916de057ea20d6d4dbbb90c80/expr.ipynb\"><img src=\"../01d1802f9f087bb7916de057ea20d6d4dbbb90c80/expr.png\" style=\"display:inline;vertical-align:middle;\" /></a></td></tr>\n",
       "<tr><td>33</td><td>ExprTuple</td><td>38, 47</td><td><a class=\"ProveItLink\" href=\"../7f18a0025f4276e161f4029bd9b3b095ab54ed6f0/expr.ipynb\"><img src=\"../7f18a0025f4276e161f4029bd9b3b095ab54ed6f0/expr.png\" style=\"display:inline;vertical-align:middle;\" /></a></td></tr>\n",
       "<tr><td>34</td><td>ExprTuple</td><td>45, 39</td><td><a class=\"ProveItLink\" href=\"../bcb681bccfc22e42113b942493f13b6bd81a745d0/expr.ipynb\"><img src=\"../bcb681bccfc22e42113b942493f13b6bd81a745d0/expr.png\" style=\"display:inline;vertical-align:middle;\" /></a></td></tr>\n",
       "<tr><td>35</td><td>ExprTuple</td><td>46, 40</td><td><a class=\"ProveItLink\" href=\"../a8eb363c5254eeb022e1a465b1c28e7ca2de55a30/expr.ipynb\"><img src=\"../a8eb363c5254eeb022e1a465b1c28e7ca2de55a30/expr.png\" style=\"display:inline;vertical-align:middle;\" /></a></td></tr>\n",
       "<tr><td>36</td><td>Literal</td><td></td><td><a class=\"ProveItLink\" href=\"../../../../../logic/sets/membership/__pv_it/common/477487d8796864d23d5810f83761435f25167f690/expr.ipynb\"><img src=\"../../../../../logic/sets/membership/__pv_it/common/477487d8796864d23d5810f83761435f25167f690/expr.png\" style=\"display:inline;vertical-align:middle;\" /></a></td></tr>\n",
       "<tr><td>37</td><td>ExprTuple</td><td>47, 40</td><td><a class=\"ProveItLink\" href=\"../e3a3e72fb27ba14b2c1fbfbb1e16d90be2b91e730/expr.ipynb\"><img src=\"../e3a3e72fb27ba14b2c1fbfbb1e16d90be2b91e730/expr.png\" style=\"display:inline;vertical-align:middle;\" /></a></td></tr>\n",
       "<tr><td>38</td><td>Operation</td><td>operator:&nbsp;41<br>operands:&nbsp;42<br></td><td><a class=\"ProveItLink\" href=\"../f7c19353109276f2a24eaa7d81b6f1e91281034b0/expr.ipynb\"><img src=\"../f7c19353109276f2a24eaa7d81b6f1e91281034b0/expr.png\" style=\"display:inline;vertical-align:middle;\" /></a></td></tr>\n",
       "<tr><td>39</td><td>Operation</td><td>operator:&nbsp;43<br>operands:&nbsp;44<br></td><td><a class=\"ProveItLink\" href=\"../626d2c12ed5d7ede99f56ae5a015b28ef847fbd10/expr.ipynb\"><img src=\"../626d2c12ed5d7ede99f56ae5a015b28ef847fbd10/expr.png\" style=\"display:inline;vertical-align:middle;\" /></a></td></tr>\n",
       "<tr><td>40</td><td>Variable</td><td></td><td><a class=\"ProveItLink\" href=\"../../../../../__pv_it/common/db1921da064725c141f453bae2d02f0bb2333a8a0/expr.ipynb\"><img src=\"../../../../../__pv_it/common/db1921da064725c141f453bae2d02f0bb2333a8a0/expr.png\" style=\"display:inline;vertical-align:middle;\" /></a></td></tr>\n",
       "<tr><td>41</td><td>Literal</td><td></td><td><a class=\"ProveItLink\" href=\"../../../../scalar_multiplication/__pv_it/common/1e364bd471e6a29fcd358dd2d9cd990a1e6fedd40/expr.ipynb\"><img src=\"../../../../scalar_multiplication/__pv_it/common/1e364bd471e6a29fcd358dd2d9cd990a1e6fedd40/expr.png\" style=\"display:inline;vertical-align:middle;\" /></a></td></tr>\n",
       "<tr><td>42</td><td>ExprTuple</td><td>45, 46</td><td><a class=\"ProveItLink\" href=\"../16542dff4296b36f053bf5d488afb46dffba9b230/expr.ipynb\"><img src=\"../16542dff4296b36f053bf5d488afb46dffba9b230/expr.png\" style=\"display:inline;vertical-align:middle;\" /></a></td></tr>\n",
       "<tr><td>43</td><td>Literal</td><td></td><td><a class=\"ProveItLink\" href=\"../../common/3c2fb0727e51ccc44869d1fd03bc36b5f019b5010/expr.ipynb\"><img src=\"../../common/3c2fb0727e51ccc44869d1fd03bc36b5f019b5010/expr.png\" style=\"display:inline;vertical-align:middle;\" /></a></td></tr>\n",
       "<tr><td>44</td><td>ExprTuple</td><td>46, 47</td><td><a class=\"ProveItLink\" href=\"../bbaa48af4605eceb7fbc4af345a1eb6de480e1c50/expr.ipynb\"><img src=\"../bbaa48af4605eceb7fbc4af345a1eb6de480e1c50/expr.png\" style=\"display:inline;vertical-align:middle;\" /></a></td></tr>\n",
       "<tr><td>45</td><td>Variable</td><td></td><td><a class=\"ProveItLink\" href=\"../../../../../__pv_it/common/c06c606ec12678c58933ac85412ecadc2ae28be60/expr.ipynb\"><img src=\"../../../../../__pv_it/common/c06c606ec12678c58933ac85412ecadc2ae28be60/expr.png\" style=\"display:inline;vertical-align:middle;\" /></a></td></tr>\n",
       "<tr><td>46</td><td>Variable</td><td></td><td><a class=\"ProveItLink\" href=\"../../../../../__pv_it/common/a0d9d672aa5e272d907247690c152cc2c6daafb70/expr.ipynb\"><img src=\"../../../../../__pv_it/common/a0d9d672aa5e272d907247690c152cc2c6daafb70/expr.png\" style=\"display:inline;vertical-align:middle;\" /></a></td></tr>\n",
       "<tr><td>47</td><td>Variable</td><td></td><td><a class=\"ProveItLink\" href=\"../../../../../__pv_it/common/ff7dba4ef0bbe791ab573bf2d9c220a304399ac80/expr.ipynb\"><img src=\"../../../../../__pv_it/common/ff7dba4ef0bbe791ab573bf2d9c220a304399ac80/expr.png\" style=\"display:inline;vertical-align:middle;\" /></a></td></tr>\n",
       "</table>\n"
      ],
      "text/plain": [
       "0. (H -> {forall_{a in K} [forall_{x, y in H} (<a * x, y> = (a * <x, y>))] if H in_c InnerProdSpaces(K).)\n",
       "   core type: ExprTuple\n",
       "   sub-expressions: 1\n",
       "1. H -> {forall_{a in K} [forall_{x, y in H} (<a * x, y> = (a * <x, y>))] if H in_c InnerProdSpaces(K).\n",
       "   core type: Lambda\n",
       "   parameter: 40\n",
       "   body: 3\n",
       "2. (H)\n",
       "   core type: ExprTuple\n",
       "   sub-expressions: 40\n",
       "3. {forall_{a in K} [forall_{x, y in H} (<a * x, y> = (a * <x, y>))] if H in_c InnerProdSpaces(K).\n",
       "   core type: Conditional\n",
       "   value: 4\n",
       "   condition: 5\n",
       "4. forall_{a in K} [forall_{x, y in H} (<a * x, y> = (a * <x, y>))]\n",
       "   core type: Operation\n",
       "   operator: 17\n",
       "   operand: 9\n",
       "5. H in_c InnerProdSpaces(K)\n",
       "   core type: Operation\n",
       "   operator: 7\n",
       "   operands: 8\n",
       "6. (a -> {forall_{x, y in H} (<a * x, y> = (a * <x, y>)) if a in K.)\n",
       "   core type: ExprTuple\n",
       "   sub-expressions: 9\n",
       "7. in_c\n",
       "   core type: Literal\n",
       "   sub-expressions: \n",
       "8. (H, InnerProdSpaces(K))\n",
       "   core type: ExprTuple\n",
       "   sub-expressions: 40, 10\n",
       "9. a -> {forall_{x, y in H} (<a * x, y> = (a * <x, y>)) if a in K.\n",
       "   core type: Lambda\n",
       "   parameter: 45\n",
       "   body: 12\n",
       "10. InnerProdSpaces(K)\n",
       "    core type: Operation\n",
       "    operator: 13\n",
       "    operand: 21\n",
       "11. (a)\n",
       "    core type: ExprTuple\n",
       "    sub-expressions: 45\n",
       "12. {forall_{x, y in H} (<a * x, y> = (a * <x, y>)) if a in K.\n",
       "    core type: Conditional\n",
       "    value: 15\n",
       "    condition: 16\n",
       "13. InnerProdSpaces\n",
       "    core type: Literal\n",
       "    sub-expressions: \n",
       "14. (K)\n",
       "    core type: ExprTuple\n",
       "    sub-expressions: 21\n",
       "15. forall_{x, y in H} (<a * x, y> = (a * <x, y>))\n",
       "    core type: Operation\n",
       "    operator: 17\n",
       "    operand: 20\n",
       "16. a in K\n",
       "    core type: Operation\n",
       "    operator: 36\n",
       "    operands: 19\n",
       "17. forall\n",
       "    core type: Literal\n",
       "    sub-expressions: \n",
       "18. ((x, y) -> {<a * x, y> = (a * <x, y>) if x in H ,  y in H.)\n",
       "    core type: ExprTuple\n",
       "    sub-expressions: 20\n",
       "19. (a, K)\n",
       "    core type: ExprTuple\n",
       "    sub-expressions: 45, 21\n",
       "20. (x, y) -> {<a * x, y> = (a * <x, y>) if x in H ,  y in H.\n",
       "    core type: Lambda\n",
       "    parameters: 44\\n    body: 22\n",
       "21. K\n",
       "    core type: Variable\n",
       "    sub-expressions: \n",
       "22. {<a * x, y> = (a * <x, y>) if x in H ,  y in H.\n",
       "    core type: Conditional\n",
       "    value: 23\n",
       "    condition: 24\n",
       "23. <a * x, y> = (a * <x, y>)\n",
       "    core type: Operation\n",
       "    operator: 25\n",
       "    operands: 26\n",
       "24. (x in H) and (y in H)\n",
       "    core type: Operation\n",
       "    operator: 27\n",
       "    operands: 28\n",
       "25. =\n",
       "    core type: Literal\n",
       "    sub-expressions: \n",
       "26. (<a * x, y>, a * <x, y>)\n",
       "    core type: ExprTuple\n",
       "    sub-expressions: 29, 30\n",
       "27. and\n",
       "    core type: Literal\n",
       "    sub-expressions: \n",
       "28. (x in H, y in H)\n",
       "    core type: ExprTuple\n",
       "    sub-expressions: 31, 32\n",
       "29. <a * x, y>\n",
       "    core type: Operation\n",
       "    operator: 43\n",
       "    operands: 33\n",
       "30. a * <x, y>\n",
       "    core type: Operation\n",
       "    operator: 41\n",
       "    operands: 34\n",
       "31. x in H\n",
       "    core type: Operation\n",
       "    operator: 36\n",
       "    operands: 35\n",
       "32. y in H\n",
       "    core type: Operation\n",
       "    operator: 36\n",
       "    operands: 37\n",
       "33. (a * x, y)\n",
       "    core type: ExprTuple\n",
       "    sub-expressions: 38, 47\n",
       "34. (a, <x, y>)\n",
       "    core type: ExprTuple\n",
       "    sub-expressions: 45, 39\n",
       "35. (x, H)\n",
       "    core type: ExprTuple\n",
       "    sub-expressions: 46, 40\n",
       "36. in\n",
       "    core type: Literal\n",
       "    sub-expressions: \n",
       "37. (y, H)\n",
       "    core type: ExprTuple\n",
       "    sub-expressions: 47, 40\n",
       "38. a * x\n",
       "    core type: Operation\n",
       "    operator: 41\n",
       "    operands: 42\n",
       "39. <x, y>\n",
       "    core type: Operation\n",
       "    operator: 43\n",
       "    operands: 44\n",
       "40. H\n",
       "    core type: Variable\n",
       "    sub-expressions: \n",
       "41. *\n",
       "    core type: Literal\n",
       "    sub-expressions: \n",
       "42. (a, x)\n",
       "    core type: ExprTuple\n",
       "    sub-expressions: 45, 46\n",
       "43. InnerProd\n",
       "    core type: Literal\n",
       "    sub-expressions: \n",
       "44. (x, y)\n",
       "    core type: ExprTuple\n",
       "    sub-expressions: 46, 47\n",
       "45. a\n",
       "    core type: Variable\n",
       "    sub-expressions: \n",
       "46. x\n",
       "    core type: Variable\n",
       "    sub-expressions: \n",
       "47. y\n",
       "    core type: Variable\n",
       "    sub-expressions: "
      ]
     },
     "metadata": {},
     "output_type": "display_data"
    }
   ],
   "source": [
    "# display the expression information\n",
    "stored_expr.expr_info()"
   ]
  },
  {
   "cell_type": "code",
   "execution_count": null,
   "metadata": {},
   "outputs": [],
   "source": []
  }
 ],
 "metadata": {
  "kernelspec": {
   "display_name": "Python 3",
   "language": "python",
   "name": "python3"
  }
 },
 "nbformat": 4,
 "nbformat_minor": 0
}