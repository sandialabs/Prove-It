{
 "cells": [
  {
   "cell_type": "markdown",
   "metadata": {},
   "source": [
    "Expression of type <a class=\"ProveItLink\" href=\"../../../../../../../doc/html/api/proveit.ExprTuple.html\">ExprTuple</a>\n",
    "=======================\n",
    "# from the theory of <a class=\"ProveItLink\" href=\"../../../_theory_nbs_/theory.ipynb\">proveit.linear_algebra.inner_products</a>"
   ]
  },
  {
   "cell_type": "code",
   "execution_count": 1,
   "metadata": {},
   "outputs": [],
   "source": [
    "import proveit\n",
    "# Automation is not needed when building an expression:\n",
    "proveit.defaults.automation = False # This will speed things up.\n",
    "proveit.defaults.inline_pngs = False # Makes files smaller.\n",
    "%load_expr # Load the stored expression as 'stored_expr'\n",
    "# import Expression classes needed to build the expression\n",
    "from proveit import ExprTuple, H, K, Lambda, x, y\n",
    "from proveit.linear_algebra import InnerProd, InnerProdSpaces\n",
    "from proveit.logic import Equals, Forall\n",
    "from proveit.numbers import Conjugate"
   ]
  },
  {
   "cell_type": "code",
   "execution_count": 2,
   "metadata": {},
   "outputs": [
    {
     "data": {
      "text/html": [
       "<strong id=\"expr\">expr:</strong> <a class=\"ProveItLink\" href=\"expr.ipynb\"><img src=\"expr.png\" style=\"display:inline;vertical-align:middle;\" /></a><br>"
      ],
      "text/plain": [
       "<IPython.core.display.HTML object>"
      ]
     },
     "metadata": {},
     "output_type": "display_data"
    }
   ],
   "source": [
    "# build up the expression from sub-expressions\n",
    "expr = ExprTuple(Lambda(K, Forall(instance_param_or_params = [H], instance_expr = Forall(instance_param_or_params = [x, y], instance_expr = Equals(InnerProd(x, y), Conjugate(InnerProd(y, x))), domain = H), domain = InnerProdSpaces(K))))"
   ]
  },
  {
   "cell_type": "code",
   "execution_count": 3,
   "metadata": {},
   "outputs": [
    {
     "name": "stdout",
     "output_type": "stream",
     "text": [
      "Passed sanity check: expr matches stored_expr\n"
     ]
    }
   ],
   "source": [
    "# check that the built expression is the same as the stored expression\n",
    "assert expr == stored_expr\n",
    "assert expr._style_id == stored_expr._style_id\n",
    "print(\"Passed sanity check: expr matches stored_expr\")"
   ]
  },
  {
   "cell_type": "code",
   "execution_count": 4,
   "metadata": {},
   "outputs": [
    {
     "name": "stdout",
     "output_type": "stream",
     "text": [
      "\\left(K \\mapsto \\left[\\forall_{H \\underset{{\\scriptscriptstyle c}}{\\in} \\textrm{InnerProdSpaces}\\left(K\\right)}~\\left[\\forall_{x, y \\in H}~\\left(\\left \\langle x, y\\right \\rangle = \\left(\\left \\langle y, x\\right \\rangle^*\\right)\\right)\\right]\\right]\\right)\n"
     ]
    }
   ],
   "source": [
    "# Show the LaTeX representation of the expression for convenience if you need it.\n",
    "print(stored_expr.latex())"
   ]
  },
  {
   "cell_type": "code",
   "execution_count": 5,
   "metadata": {},
   "outputs": [
    {
     "data": {
      "text/html": [
       "no style options"
      ],
      "text/plain": [
       "no style options"
      ]
     },
     "metadata": {},
     "output_type": "display_data"
    }
   ],
   "source": [
    "stored_expr.style_options()"
   ]
  },
  {
   "cell_type": "code",
   "execution_count": 6,
   "metadata": {},
   "outputs": [
    {
     "data": {
      "text/html": [
       "<table><tr><th>&nbsp;</th><th>core type</th><th>sub-expressions</th><th>expression</th></tr>\n",
       "<tr><td>0</td><td>ExprTuple</td><td>1</td><td><a class=\"ProveItLink\" href=\"expr.ipynb\"><img src=\"expr.png\" style=\"display:inline;vertical-align:middle;\" /></a></td></tr>\n",
       "<tr><td>1</td><td>Lambda</td><td>parameter:&nbsp;20<br>body:&nbsp;2<br></td><td><a class=\"ProveItLink\" href=\"../c32e4efb68f75d252151add3b6823fb25ed113240/expr.ipynb\"><img src=\"../c32e4efb68f75d252151add3b6823fb25ed113240/expr.png\" style=\"display:inline;vertical-align:middle;\" /></a></td></tr>\n",
       "<tr><td>2</td><td>Operation</td><td>operator:&nbsp;9<br>operand:&nbsp;4<br></td><td><a class=\"ProveItLink\" href=\"../b10e61af532d086a100476b3e1eda3dad031dab50/expr.ipynb\"><img src=\"../b10e61af532d086a100476b3e1eda3dad031dab50/expr.png\" style=\"display:inline;vertical-align:middle;\" /></a></td></tr>\n",
       "<tr><td>3</td><td>ExprTuple</td><td>4</td><td><a class=\"ProveItLink\" href=\"../ca55141215649a47a9502bb3cfc5000d5f293f010/expr.ipynb\"><img src=\"../ca55141215649a47a9502bb3cfc5000d5f293f010/expr.png\" style=\"display:inline;vertical-align:middle;\" /></a></td></tr>\n",
       "<tr><td>4</td><td>Lambda</td><td>parameter:&nbsp;36<br>body:&nbsp;6<br></td><td><a class=\"ProveItLink\" href=\"../b9be3ab96b424ec4253eee9cee6628a1300e6cb70/expr.ipynb\"><img src=\"../b9be3ab96b424ec4253eee9cee6628a1300e6cb70/expr.png\" style=\"display:inline;vertical-align:middle;\" /></a></td></tr>\n",
       "<tr><td>5</td><td>ExprTuple</td><td>36</td><td><a class=\"ProveItLink\" href=\"../3214f6d50d9b000d7aac6b69fe8e45c58e2207b10/expr.ipynb\"><img src=\"../3214f6d50d9b000d7aac6b69fe8e45c58e2207b10/expr.png\" style=\"display:inline;vertical-align:middle;\" /></a></td></tr>\n",
       "<tr><td>6</td><td>Conditional</td><td>value:&nbsp;7<br>condition:&nbsp;8<br></td><td><a class=\"ProveItLink\" href=\"../7a172c75ec363adbfcdb27ff979291e8dad82e4f0/expr.ipynb\"><img src=\"../7a172c75ec363adbfcdb27ff979291e8dad82e4f0/expr.png\" style=\"display:inline;vertical-align:middle;\" /></a></td></tr>\n",
       "<tr><td>7</td><td>Operation</td><td>operator:&nbsp;9<br>operand:&nbsp;13<br></td><td><a class=\"ProveItLink\" href=\"../70036d54a19b06cb32f52751b74729e9e368819e0/expr.ipynb\"><img src=\"../70036d54a19b06cb32f52751b74729e9e368819e0/expr.png\" style=\"display:inline;vertical-align:middle;\" /></a></td></tr>\n",
       "<tr><td>8</td><td>Operation</td><td>operator:&nbsp;11<br>operands:&nbsp;12<br></td><td><a class=\"ProveItLink\" href=\"../cffb7c2eee228de9f7655ce57f1d731b5f8148710/expr.ipynb\"><img src=\"../cffb7c2eee228de9f7655ce57f1d731b5f8148710/expr.png\" style=\"display:inline;vertical-align:middle;\" /></a></td></tr>\n",
       "<tr><td>9</td><td>Literal</td><td></td><td><a class=\"ProveItLink\" href=\"../../../../../logic/booleans/quantification/universality/__pv_it/common/083d2baa0b8ecab1d230f9ec29a15aa1355809fb0/expr.ipynb\"><img src=\"../../../../../logic/booleans/quantification/universality/__pv_it/common/083d2baa0b8ecab1d230f9ec29a15aa1355809fb0/expr.png\" style=\"display:inline;vertical-align:middle;\" /></a></td></tr>\n",
       "<tr><td>10</td><td>ExprTuple</td><td>13</td><td><a class=\"ProveItLink\" href=\"../9176c92f68e4356b7e53f8a3afcfa63c3e59b9060/expr.ipynb\"><img src=\"../9176c92f68e4356b7e53f8a3afcfa63c3e59b9060/expr.png\" style=\"display:inline;vertical-align:middle;\" /></a></td></tr>\n",
       "<tr><td>11</td><td>Literal</td><td></td><td><a class=\"ProveItLink\" href=\"../../../../../logic/classes/membership/__pv_it/common/e3b437d28fbe17f0a50c9789c7c9b47a1270f1420/expr.ipynb\"><img src=\"../../../../../logic/classes/membership/__pv_it/common/e3b437d28fbe17f0a50c9789c7c9b47a1270f1420/expr.png\" style=\"display:inline;vertical-align:middle;\" /></a></td></tr>\n",
       "<tr><td>12</td><td>ExprTuple</td><td>36, 14</td><td><a class=\"ProveItLink\" href=\"../d642dab1ed63813669c75fbb82dc8c33eb563b360/expr.ipynb\"><img src=\"../d642dab1ed63813669c75fbb82dc8c33eb563b360/expr.png\" style=\"display:inline;vertical-align:middle;\" /></a></td></tr>\n",
       "<tr><td>13</td><td>Lambda</td><td>parameters:&nbsp;29<br>body:&nbsp;15<br></td><td><a class=\"ProveItLink\" href=\"../ea62e9cf4cbb6744032725585f9c82fdc4b422680/expr.ipynb\"><img src=\"../ea62e9cf4cbb6744032725585f9c82fdc4b422680/expr.png\" style=\"display:inline;vertical-align:middle;\" /></a></td></tr>\n",
       "<tr><td>14</td><td>Operation</td><td>operator:&nbsp;16<br>operand:&nbsp;20<br></td><td><a class=\"ProveItLink\" href=\"../011f81088f83ec65cda9a891728400f0a0c30f920/expr.ipynb\"><img src=\"../011f81088f83ec65cda9a891728400f0a0c30f920/expr.png\" style=\"display:inline;vertical-align:middle;\" /></a></td></tr>\n",
       "<tr><td>15</td><td>Conditional</td><td>value:&nbsp;18<br>condition:&nbsp;19<br></td><td><a class=\"ProveItLink\" href=\"../eb195594c7acb7588bd3af3260536b6303d980110/expr.ipynb\"><img src=\"../eb195594c7acb7588bd3af3260536b6303d980110/expr.png\" style=\"display:inline;vertical-align:middle;\" /></a></td></tr>\n",
       "<tr><td>16</td><td>Literal</td><td></td><td><a class=\"ProveItLink\" href=\"../../common/97dce8f33694d8d827400c818f103930399de7dc0/expr.ipynb\"><img src=\"../../common/97dce8f33694d8d827400c818f103930399de7dc0/expr.png\" style=\"display:inline;vertical-align:middle;\" /></a></td></tr>\n",
       "<tr><td>17</td><td>ExprTuple</td><td>20</td><td><a class=\"ProveItLink\" href=\"../dfa81a569aedd40943c42f533e78bc2f073711130/expr.ipynb\"><img src=\"../dfa81a569aedd40943c42f533e78bc2f073711130/expr.png\" style=\"display:inline;vertical-align:middle;\" /></a></td></tr>\n",
       "<tr><td>18</td><td>Operation</td><td>operator:&nbsp;21<br>operands:&nbsp;22<br></td><td><a class=\"ProveItLink\" href=\"../df174c7b98fe1386f0a2107aafd2f3778db5ed430/expr.ipynb\"><img src=\"../df174c7b98fe1386f0a2107aafd2f3778db5ed430/expr.png\" style=\"display:inline;vertical-align:middle;\" /></a></td></tr>\n",
       "<tr><td>19</td><td>Operation</td><td>operator:&nbsp;23<br>operands:&nbsp;24<br></td><td><a class=\"ProveItLink\" href=\"../a80101b6cb54acabdcd6d9024c4f55942db5eda70/expr.ipynb\"><img src=\"../a80101b6cb54acabdcd6d9024c4f55942db5eda70/expr.png\" style=\"display:inline;vertical-align:middle;\" /></a></td></tr>\n",
       "<tr><td>20</td><td>Variable</td><td></td><td><a class=\"ProveItLink\" href=\"../../../../../__pv_it/common/1f2ffac7a1dc7c1a4f1fc7348356ae64ea992c790/expr.ipynb\"><img src=\"../../../../../__pv_it/common/1f2ffac7a1dc7c1a4f1fc7348356ae64ea992c790/expr.png\" style=\"display:inline;vertical-align:middle;\" /></a></td></tr>\n",
       "<tr><td>21</td><td>Literal</td><td></td><td><a class=\"ProveItLink\" href=\"../../../../../logic/equality/__pv_it/common/fb96dc12b2aa8801dda64d0132b396c63d1502bb0/expr.ipynb\"><img src=\"../../../../../logic/equality/__pv_it/common/fb96dc12b2aa8801dda64d0132b396c63d1502bb0/expr.png\" style=\"display:inline;vertical-align:middle;\" /></a></td></tr>\n",
       "<tr><td>22</td><td>ExprTuple</td><td>25, 26</td><td><a class=\"ProveItLink\" href=\"../f68db422bc78fd1d73e5de63f161ee99a59ac0d30/expr.ipynb\"><img src=\"../f68db422bc78fd1d73e5de63f161ee99a59ac0d30/expr.png\" style=\"display:inline;vertical-align:middle;\" /></a></td></tr>\n",
       "<tr><td>23</td><td>Literal</td><td></td><td><a class=\"ProveItLink\" href=\"../../../../../logic/booleans/conjunction/__pv_it/common/42118ff318bd65d98b1393f64ce7c2269feef76e0/expr.ipynb\"><img src=\"../../../../../logic/booleans/conjunction/__pv_it/common/42118ff318bd65d98b1393f64ce7c2269feef76e0/expr.png\" style=\"display:inline;vertical-align:middle;\" /></a></td></tr>\n",
       "<tr><td>24</td><td>ExprTuple</td><td>27, 28</td><td><a class=\"ProveItLink\" href=\"../57b2c90bc0aee7e9dfd4a1f4cfce956724e5868c0/expr.ipynb\"><img src=\"../57b2c90bc0aee7e9dfd4a1f4cfce956724e5868c0/expr.png\" style=\"display:inline;vertical-align:middle;\" /></a></td></tr>\n",
       "<tr><td>25</td><td>Operation</td><td>operator:&nbsp;37<br>operands:&nbsp;29<br></td><td><a class=\"ProveItLink\" href=\"../626d2c12ed5d7ede99f56ae5a015b28ef847fbd10/expr.ipynb\"><img src=\"../626d2c12ed5d7ede99f56ae5a015b28ef847fbd10/expr.png\" style=\"display:inline;vertical-align:middle;\" /></a></td></tr>\n",
       "<tr><td>26</td><td>Operation</td><td>operator:&nbsp;30<br>operand:&nbsp;35<br></td><td><a class=\"ProveItLink\" href=\"../968eefba777e12662f8a6e448f4e7732ed49c0da0/expr.ipynb\"><img src=\"../968eefba777e12662f8a6e448f4e7732ed49c0da0/expr.png\" style=\"display:inline;vertical-align:middle;\" /></a></td></tr>\n",
       "<tr><td>27</td><td>Operation</td><td>operator:&nbsp;33<br>operands:&nbsp;32<br></td><td><a class=\"ProveItLink\" href=\"../752c2d785f966bf6d0dd21131a494bf14b1974510/expr.ipynb\"><img src=\"../752c2d785f966bf6d0dd21131a494bf14b1974510/expr.png\" style=\"display:inline;vertical-align:middle;\" /></a></td></tr>\n",
       "<tr><td>28</td><td>Operation</td><td>operator:&nbsp;33<br>operands:&nbsp;34<br></td><td><a class=\"ProveItLink\" href=\"../01d1802f9f087bb7916de057ea20d6d4dbbb90c80/expr.ipynb\"><img src=\"../01d1802f9f087bb7916de057ea20d6d4dbbb90c80/expr.png\" style=\"display:inline;vertical-align:middle;\" /></a></td></tr>\n",
       "<tr><td>29</td><td>ExprTuple</td><td>40, 39</td><td><a class=\"ProveItLink\" href=\"../bbaa48af4605eceb7fbc4af345a1eb6de480e1c50/expr.ipynb\"><img src=\"../bbaa48af4605eceb7fbc4af345a1eb6de480e1c50/expr.png\" style=\"display:inline;vertical-align:middle;\" /></a></td></tr>\n",
       "<tr><td>30</td><td>Literal</td><td></td><td><a class=\"ProveItLink\" href=\"../../../../../numbers/number_sets/complex_numbers/__pv_it/common/94680674b0657e278f8b36107a8ff6c7073431fb0/expr.ipynb\"><img src=\"../../../../../numbers/number_sets/complex_numbers/__pv_it/common/94680674b0657e278f8b36107a8ff6c7073431fb0/expr.png\" style=\"display:inline;vertical-align:middle;\" /></a></td></tr>\n",
       "<tr><td>31</td><td>ExprTuple</td><td>35</td><td><a class=\"ProveItLink\" href=\"../d5914783dd00e718e9c4fe4b05a98e2d28d4d28a0/expr.ipynb\"><img src=\"../d5914783dd00e718e9c4fe4b05a98e2d28d4d28a0/expr.png\" style=\"display:inline;vertical-align:middle;\" /></a></td></tr>\n",
       "<tr><td>32</td><td>ExprTuple</td><td>40, 36</td><td><a class=\"ProveItLink\" href=\"../a8eb363c5254eeb022e1a465b1c28e7ca2de55a30/expr.ipynb\"><img src=\"../a8eb363c5254eeb022e1a465b1c28e7ca2de55a30/expr.png\" style=\"display:inline;vertical-align:middle;\" /></a></td></tr>\n",
       "<tr><td>33</td><td>Literal</td><td></td><td><a class=\"ProveItLink\" href=\"../../../../../logic/sets/membership/__pv_it/common/477487d8796864d23d5810f83761435f25167f690/expr.ipynb\"><img src=\"../../../../../logic/sets/membership/__pv_it/common/477487d8796864d23d5810f83761435f25167f690/expr.png\" style=\"display:inline;vertical-align:middle;\" /></a></td></tr>\n",
       "<tr><td>34</td><td>ExprTuple</td><td>39, 36</td><td><a class=\"ProveItLink\" href=\"../e3a3e72fb27ba14b2c1fbfbb1e16d90be2b91e730/expr.ipynb\"><img src=\"../e3a3e72fb27ba14b2c1fbfbb1e16d90be2b91e730/expr.png\" style=\"display:inline;vertical-align:middle;\" /></a></td></tr>\n",
       "<tr><td>35</td><td>Operation</td><td>operator:&nbsp;37<br>operands:&nbsp;38<br></td><td><a class=\"ProveItLink\" href=\"../68d3bd0f56a344d108424d9288384627dfd9045f0/expr.ipynb\"><img src=\"../68d3bd0f56a344d108424d9288384627dfd9045f0/expr.png\" style=\"display:inline;vertical-align:middle;\" /></a></td></tr>\n",
       "<tr><td>36</td><td>Variable</td><td></td><td><a class=\"ProveItLink\" href=\"../../../../../__pv_it/common/db1921da064725c141f453bae2d02f0bb2333a8a0/expr.ipynb\"><img src=\"../../../../../__pv_it/common/db1921da064725c141f453bae2d02f0bb2333a8a0/expr.png\" style=\"display:inline;vertical-align:middle;\" /></a></td></tr>\n",
       "<tr><td>37</td><td>Literal</td><td></td><td><a class=\"ProveItLink\" href=\"../../common/3c2fb0727e51ccc44869d1fd03bc36b5f019b5010/expr.ipynb\"><img src=\"../../common/3c2fb0727e51ccc44869d1fd03bc36b5f019b5010/expr.png\" style=\"display:inline;vertical-align:middle;\" /></a></td></tr>\n",
       "<tr><td>38</td><td>ExprTuple</td><td>39, 40</td><td><a class=\"ProveItLink\" href=\"../d6058e955f7e8ff10e99ba4a3833dc46470c2de60/expr.ipynb\"><img src=\"../d6058e955f7e8ff10e99ba4a3833dc46470c2de60/expr.png\" style=\"display:inline;vertical-align:middle;\" /></a></td></tr>\n",
       "<tr><td>39</td><td>Variable</td><td></td><td><a class=\"ProveItLink\" href=\"../../../../../__pv_it/common/ff7dba4ef0bbe791ab573bf2d9c220a304399ac80/expr.ipynb\"><img src=\"../../../../../__pv_it/common/ff7dba4ef0bbe791ab573bf2d9c220a304399ac80/expr.png\" style=\"display:inline;vertical-align:middle;\" /></a></td></tr>\n",
       "<tr><td>40</td><td>Variable</td><td></td><td><a class=\"ProveItLink\" href=\"../../../../../__pv_it/common/a0d9d672aa5e272d907247690c152cc2c6daafb70/expr.ipynb\"><img src=\"../../../../../__pv_it/common/a0d9d672aa5e272d907247690c152cc2c6daafb70/expr.png\" style=\"display:inline;vertical-align:middle;\" /></a></td></tr>\n",
       "</table>\n"
      ],
      "text/plain": [
       "0. (K -> [forall_{H in_c InnerProdSpaces(K)} [forall_{x, y in H} (<x, y> = (<y, x>*))]])\n",
       "   core type: ExprTuple\n",
       "   sub-expressions: 1\n",
       "1. K -> [forall_{H in_c InnerProdSpaces(K)} [forall_{x, y in H} (<x, y> = (<y, x>*))]]\n",
       "   core type: Lambda\n",
       "   parameter: 20\n",
       "   body: 2\n",
       "2. forall_{H in_c InnerProdSpaces(K)} [forall_{x, y in H} (<x, y> = (<y, x>*))]\n",
       "   core type: Operation\n",
       "   operator: 9\n",
       "   operand: 4\n",
       "3. (H -> {forall_{x, y in H} (<x, y> = (<y, x>*)) if H in_c InnerProdSpaces(K).)\n",
       "   core type: ExprTuple\n",
       "   sub-expressions: 4\n",
       "4. H -> {forall_{x, y in H} (<x, y> = (<y, x>*)) if H in_c InnerProdSpaces(K).\n",
       "   core type: Lambda\n",
       "   parameter: 36\n",
       "   body: 6\n",
       "5. (H)\n",
       "   core type: ExprTuple\n",
       "   sub-expressions: 36\n",
       "6. {forall_{x, y in H} (<x, y> = (<y, x>*)) if H in_c InnerProdSpaces(K).\n",
       "   core type: Conditional\n",
       "   value: 7\n",
       "   condition: 8\n",
       "7. forall_{x, y in H} (<x, y> = (<y, x>*))\n",
       "   core type: Operation\n",
       "   operator: 9\n",
       "   operand: 13\n",
       "8. H in_c InnerProdSpaces(K)\n",
       "   core type: Operation\n",
       "   operator: 11\n",
       "   operands: 12\n",
       "9. forall\n",
       "   core type: Literal\n",
       "   sub-expressions: \n",
       "10. ((x, y) -> {<x, y> = (<y, x>*) if x in H ,  y in H.)\n",
       "    core type: ExprTuple\n",
       "    sub-expressions: 13\n",
       "11. in_c\n",
       "    core type: Literal\n",
       "    sub-expressions: \n",
       "12. (H, InnerProdSpaces(K))\n",
       "    core type: ExprTuple\n",
       "    sub-expressions: 36, 14\n",
       "13. (x, y) -> {<x, y> = (<y, x>*) if x in H ,  y in H.\n",
       "    core type: Lambda\n",
       "    parameters: 29\\n    body: 15\n",
       "14. InnerProdSpaces(K)\n",
       "    core type: Operation\n",
       "    operator: 16\n",
       "    operand: 20\n",
       "15. {<x, y> = (<y, x>*) if x in H ,  y in H.\n",
       "    core type: Conditional\n",
       "    value: 18\n",
       "    condition: 19\n",
       "16. InnerProdSpaces\n",
       "    core type: Literal\n",
       "    sub-expressions: \n",
       "17. (K)\n",
       "    core type: ExprTuple\n",
       "    sub-expressions: 20\n",
       "18. <x, y> = (<y, x>*)\n",
       "    core type: Operation\n",
       "    operator: 21\n",
       "    operands: 22\n",
       "19. (x in H) and (y in H)\n",
       "    core type: Operation\n",
       "    operator: 23\n",
       "    operands: 24\n",
       "20. K\n",
       "    core type: Variable\n",
       "    sub-expressions: \n",
       "21. =\n",
       "    core type: Literal\n",
       "    sub-expressions: \n",
       "22. (<x, y>, <y, x>*)\n",
       "    core type: ExprTuple\n",
       "    sub-expressions: 25, 26\n",
       "23. and\n",
       "    core type: Literal\n",
       "    sub-expressions: \n",
       "24. (x in H, y in H)\n",
       "    core type: ExprTuple\n",
       "    sub-expressions: 27, 28\n",
       "25. <x, y>\n",
       "    core type: Operation\n",
       "    operator: 37\n",
       "    operands: 29\n",
       "26. <y, x>*\n",
       "    core type: Operation\n",
       "    operator: 30\n",
       "    operand: 35\n",
       "27. x in H\n",
       "    core type: Operation\n",
       "    operator: 33\n",
       "    operands: 32\n",
       "28. y in H\n",
       "    core type: Operation\n",
       "    operator: 33\n",
       "    operands: 34\n",
       "29. (x, y)\n",
       "    core type: ExprTuple\n",
       "    sub-expressions: 40, 39\n",
       "30. conj\n",
       "    core type: Literal\n",
       "    sub-expressions: \n",
       "31. (<y, x>)\n",
       "    core type: ExprTuple\n",
       "    sub-expressions: 35\n",
       "32. (x, H)\n",
       "    core type: ExprTuple\n",
       "    sub-expressions: 40, 36\n",
       "33. in\n",
       "    core type: Literal\n",
       "    sub-expressions: \n",
       "34. (y, H)\n",
       "    core type: ExprTuple\n",
       "    sub-expressions: 39, 36\n",
       "35. <y, x>\n",
       "    core type: Operation\n",
       "    operator: 37\n",
       "    operands: 38\n",
       "36. H\n",
       "    core type: Variable\n",
       "    sub-expressions: \n",
       "37. InnerProd\n",
       "    core type: Literal\n",
       "    sub-expressions: \n",
       "38. (y, x)\n",
       "    core type: ExprTuple\n",
       "    sub-expressions: 39, 40\n",
       "39. y\n",
       "    core type: Variable\n",
       "    sub-expressions: \n",
       "40. x\n",
       "    core type: Variable\n",
       "    sub-expressions: "
      ]
     },
     "metadata": {},
     "output_type": "display_data"
    }
   ],
   "source": [
    "# display the expression information\n",
    "stored_expr.expr_info()"
   ]
  },
  {
   "cell_type": "code",
   "execution_count": null,
   "metadata": {},
   "outputs": [],
   "source": []
  }
 ],
 "metadata": {
  "kernelspec": {
   "display_name": "Python 3",
   "language": "python",
   "name": "python3"
  }
 },
 "nbformat": 4,
 "nbformat_minor": 0
}