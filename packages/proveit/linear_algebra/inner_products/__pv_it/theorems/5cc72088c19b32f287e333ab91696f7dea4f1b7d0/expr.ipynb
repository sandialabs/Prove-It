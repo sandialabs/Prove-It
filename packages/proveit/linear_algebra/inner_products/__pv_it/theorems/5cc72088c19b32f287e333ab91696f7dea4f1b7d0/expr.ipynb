{
 "cells": [
  {
   "cell_type": "markdown",
   "metadata": {},
   "source": [
    "Expression of type <a class=\"ProveItLink\" href=\"../../../../../../../doc/html/api/proveit.logic.Forall.html\">Forall</a>\n",
    "=======================\n",
    "# from the theory of <a class=\"ProveItLink\" href=\"../../../_theory_nbs_/theory.ipynb\">proveit.linear_algebra.inner_products</a>"
   ]
  },
  {
   "cell_type": "code",
   "execution_count": 1,
   "metadata": {},
   "outputs": [],
   "source": [
    "import proveit\n",
    "# Automation is not needed when building an expression:\n",
    "proveit.defaults.automation = False # This will speed things up.\n",
    "proveit.defaults.inline_pngs = False # Makes files smaller.\n",
    "%load_expr # Load the stored expression as 'stored_expr'\n",
    "# import Expression classes needed to build the expression\n",
    "from proveit import H, K, x, y, z\n",
    "from proveit.linear_algebra import InnerProd, InnerProdSpaces, VecAdd\n",
    "from proveit.logic import Equals, Forall"
   ]
  },
  {
   "cell_type": "code",
   "execution_count": 2,
   "metadata": {},
   "outputs": [
    {
     "data": {
      "text/html": [
       "<strong id=\"expr\">expr:</strong> <a class=\"ProveItLink\" href=\"expr.ipynb\"><img src=\"expr.png\" style=\"display:inline;vertical-align:middle;\" /></a><br>"
      ],
      "text/plain": [
       "<IPython.core.display.HTML object>"
      ]
     },
     "metadata": {},
     "output_type": "display_data"
    }
   ],
   "source": [
    "# build up the expression from sub-expressions\n",
    "sub_expr1 = InnerProd(x, z)\n",
    "expr = Forall(instance_param_or_params = [K], instance_expr = Forall(instance_param_or_params = [H], instance_expr = Forall(instance_param_or_params = [x, y, z], instance_expr = Equals(InnerProd(VecAdd(x, y), z), VecAdd(sub_expr1, sub_expr1)), domain = H), domain = InnerProdSpaces(K)))"
   ]
  },
  {
   "cell_type": "code",
   "execution_count": 3,
   "metadata": {},
   "outputs": [
    {
     "name": "stdout",
     "output_type": "stream",
     "text": [
      "Passed sanity check: expr matches stored_expr\n"
     ]
    }
   ],
   "source": [
    "# check that the built expression is the same as the stored expression\n",
    "assert expr == stored_expr\n",
    "assert expr._style_id == stored_expr._style_id\n",
    "print(\"Passed sanity check: expr matches stored_expr\")"
   ]
  },
  {
   "cell_type": "code",
   "execution_count": 4,
   "metadata": {},
   "outputs": [
    {
     "name": "stdout",
     "output_type": "stream",
     "text": [
      "\\forall_{K}~\\left[\\forall_{H \\underset{{\\scriptscriptstyle c}}{\\in} \\textrm{InnerProdSpaces}\\left(K\\right)}~\\left[\\forall_{x, y, z \\in H}~\\left(\\left \\langle x + y, z\\right \\rangle = \\left(\\left \\langle x, z\\right \\rangle + \\left \\langle x, z\\right \\rangle\\right)\\right)\\right]\\right]\n"
     ]
    }
   ],
   "source": [
    "# Show the LaTeX representation of the expression for convenience if you need it.\n",
    "print(stored_expr.latex())"
   ]
  },
  {
   "cell_type": "code",
   "execution_count": 5,
   "metadata": {},
   "outputs": [
    {
     "data": {
      "text/html": [
       "<table>\n",
       "<tr><th>name</th><th>description</th><th>default</th><th>current value</th><th>related methods</th></tr><tr><td>with_wrapping</td><td>If 'True', wrap the Expression after the parameters</td><td>None</td><td>None/False</td><td>('with_wrapping',)</td></tr>\n",
       "<tr><td>condition_wrapping</td><td>Wrap 'before' or 'after' the condition (or None).</td><td>None</td><td>None/False</td><td>('with_wrap_after_condition', 'with_wrap_before_condition')</td></tr>\n",
       "<tr><td>wrap_params</td><td>If 'True', wraps every two parameters AND wraps the Expression after the parameters</td><td>None</td><td>None/False</td><td>('with_params',)</td></tr>\n",
       "<tr><td>justification</td><td>justify to the 'left', 'center', or 'right' in the array cells</td><td>center</td><td>center</td><td>('with_justification',)</td></tr>\n",
       "</table>\n"
      ],
      "text/plain": [
       "style name: with_wrapping\n",
       "description: If 'True', wrap the Expression after the parameters\n",
       "default: None\n",
       "current value: None/False\n",
       "related methods: ('with_wrapping',)\n",
       "style name: condition_wrapping\n",
       "description: Wrap 'before' or 'after' the condition (or None).\n",
       "default: None\n",
       "current value: None/False\n",
       "related methods: ('with_wrap_after_condition', 'with_wrap_before_condition')\n",
       "style name: wrap_params\n",
       "description: If 'True', wraps every two parameters AND wraps the Expression after the parameters\n",
       "default: None\n",
       "current value: None/False\n",
       "related methods: ('with_params',)\n",
       "style name: justification\n",
       "description: justify to the 'left', 'center', or 'right' in the array cells\n",
       "default: center\n",
       "current value: center\n",
       "related methods: ('with_justification',)"
      ]
     },
     "metadata": {},
     "output_type": "display_data"
    }
   ],
   "source": [
    "stored_expr.style_options()"
   ]
  },
  {
   "cell_type": "code",
   "execution_count": 6,
   "metadata": {},
   "outputs": [
    {
     "data": {
      "text/html": [
       "<table><tr><th>&nbsp;</th><th>core type</th><th>sub-expressions</th><th>expression</th></tr>\n",
       "<tr><td>0</td><td>Operation</td><td>operator:&nbsp;10<br>operand:&nbsp;2<br></td><td><a class=\"ProveItLink\" href=\"expr.ipynb\"><img src=\"expr.png\" style=\"display:inline;vertical-align:middle;\" /></a></td></tr>\n",
       "<tr><td>1</td><td>ExprTuple</td><td>2</td><td><a class=\"ProveItLink\" href=\"../c591801d6cc4ff501f4c9cd990a2f8cd1a378bca0/expr.ipynb\"><img src=\"../c591801d6cc4ff501f4c9cd990a2f8cd1a378bca0/expr.png\" style=\"display:inline;vertical-align:middle;\" /></a></td></tr>\n",
       "<tr><td>2</td><td>Lambda</td><td>parameter:&nbsp;22<br>body:&nbsp;3<br></td><td><a class=\"ProveItLink\" href=\"../76f5097d944286666f30e7c9e302ff022faa45cc0/expr.ipynb\"><img src=\"../76f5097d944286666f30e7c9e302ff022faa45cc0/expr.png\" style=\"display:inline;vertical-align:middle;\" /></a></td></tr>\n",
       "<tr><td>3</td><td>Operation</td><td>operator:&nbsp;10<br>operand:&nbsp;5<br></td><td><a class=\"ProveItLink\" href=\"../7085cfdb2a6a3a48ed3caae9995c7c6e0b5d515c0/expr.ipynb\"><img src=\"../7085cfdb2a6a3a48ed3caae9995c7c6e0b5d515c0/expr.png\" style=\"display:inline;vertical-align:middle;\" /></a></td></tr>\n",
       "<tr><td>4</td><td>ExprTuple</td><td>5</td><td><a class=\"ProveItLink\" href=\"../245f6da2bc553692917ca77d130f967b837236b60/expr.ipynb\"><img src=\"../245f6da2bc553692917ca77d130f967b837236b60/expr.png\" style=\"display:inline;vertical-align:middle;\" /></a></td></tr>\n",
       "<tr><td>5</td><td>Lambda</td><td>parameter:&nbsp;40<br>body:&nbsp;7<br></td><td><a class=\"ProveItLink\" href=\"../920f4a67546f5ef661c9927d7652e9dbf9ce25280/expr.ipynb\"><img src=\"../920f4a67546f5ef661c9927d7652e9dbf9ce25280/expr.png\" style=\"display:inline;vertical-align:middle;\" /></a></td></tr>\n",
       "<tr><td>6</td><td>ExprTuple</td><td>40</td><td><a class=\"ProveItLink\" href=\"../3214f6d50d9b000d7aac6b69fe8e45c58e2207b10/expr.ipynb\"><img src=\"../3214f6d50d9b000d7aac6b69fe8e45c58e2207b10/expr.png\" style=\"display:inline;vertical-align:middle;\" /></a></td></tr>\n",
       "<tr><td>7</td><td>Conditional</td><td>value:&nbsp;8<br>condition:&nbsp;9<br></td><td><a class=\"ProveItLink\" href=\"../78dbf3ba7c9d559fe1459b7f741fc50f4e487e3b0/expr.ipynb\"><img src=\"../78dbf3ba7c9d559fe1459b7f741fc50f4e487e3b0/expr.png\" style=\"display:inline;vertical-align:middle;\" /></a></td></tr>\n",
       "<tr><td>8</td><td>Operation</td><td>operator:&nbsp;10<br>operand:&nbsp;14<br></td><td><a class=\"ProveItLink\" href=\"../f480f3929b7ab9828c1790472910444366118d110/expr.ipynb\"><img src=\"../f480f3929b7ab9828c1790472910444366118d110/expr.png\" style=\"display:inline;vertical-align:middle;\" /></a></td></tr>\n",
       "<tr><td>9</td><td>Operation</td><td>operator:&nbsp;12<br>operands:&nbsp;13<br></td><td><a class=\"ProveItLink\" href=\"../cffb7c2eee228de9f7655ce57f1d731b5f8148710/expr.ipynb\"><img src=\"../cffb7c2eee228de9f7655ce57f1d731b5f8148710/expr.png\" style=\"display:inline;vertical-align:middle;\" /></a></td></tr>\n",
       "<tr><td>10</td><td>Literal</td><td></td><td><a class=\"ProveItLink\" href=\"../../../../../logic/booleans/quantification/universality/__pv_it/common/083d2baa0b8ecab1d230f9ec29a15aa1355809fb0/expr.ipynb\"><img src=\"../../../../../logic/booleans/quantification/universality/__pv_it/common/083d2baa0b8ecab1d230f9ec29a15aa1355809fb0/expr.png\" style=\"display:inline;vertical-align:middle;\" /></a></td></tr>\n",
       "<tr><td>11</td><td>ExprTuple</td><td>14</td><td><a class=\"ProveItLink\" href=\"../e3de5b845be6a64ee2d8ee7343c4e9e4db3d45720/expr.ipynb\"><img src=\"../e3de5b845be6a64ee2d8ee7343c4e9e4db3d45720/expr.png\" style=\"display:inline;vertical-align:middle;\" /></a></td></tr>\n",
       "<tr><td>12</td><td>Literal</td><td></td><td><a class=\"ProveItLink\" href=\"../../../../../logic/classes/membership/__pv_it/common/e3b437d28fbe17f0a50c9789c7c9b47a1270f1420/expr.ipynb\"><img src=\"../../../../../logic/classes/membership/__pv_it/common/e3b437d28fbe17f0a50c9789c7c9b47a1270f1420/expr.png\" style=\"display:inline;vertical-align:middle;\" /></a></td></tr>\n",
       "<tr><td>13</td><td>ExprTuple</td><td>40, 15</td><td><a class=\"ProveItLink\" href=\"../d642dab1ed63813669c75fbb82dc8c33eb563b360/expr.ipynb\"><img src=\"../d642dab1ed63813669c75fbb82dc8c33eb563b360/expr.png\" style=\"display:inline;vertical-align:middle;\" /></a></td></tr>\n",
       "<tr><td>14</td><td>Lambda</td><td>parameters:&nbsp;16<br>body:&nbsp;17<br></td><td><a class=\"ProveItLink\" href=\"../46cb81068e8473d92710009627f8f18b2c3995720/expr.ipynb\"><img src=\"../46cb81068e8473d92710009627f8f18b2c3995720/expr.png\" style=\"display:inline;vertical-align:middle;\" /></a></td></tr>\n",
       "<tr><td>15</td><td>Operation</td><td>operator:&nbsp;18<br>operand:&nbsp;22<br></td><td><a class=\"ProveItLink\" href=\"../011f81088f83ec65cda9a891728400f0a0c30f920/expr.ipynb\"><img src=\"../011f81088f83ec65cda9a891728400f0a0c30f920/expr.png\" style=\"display:inline;vertical-align:middle;\" /></a></td></tr>\n",
       "<tr><td>16</td><td>ExprTuple</td><td>46, 45, 47</td><td><a class=\"ProveItLink\" href=\"../ad051f8530138a126c248572b29596b23c427da30/expr.ipynb\"><img src=\"../ad051f8530138a126c248572b29596b23c427da30/expr.png\" style=\"display:inline;vertical-align:middle;\" /></a></td></tr>\n",
       "<tr><td>17</td><td>Conditional</td><td>value:&nbsp;20<br>condition:&nbsp;21<br></td><td><a class=\"ProveItLink\" href=\"../0f11a8cb3eae2d4d1318bb82953c0a4c947bb9b80/expr.ipynb\"><img src=\"../0f11a8cb3eae2d4d1318bb82953c0a4c947bb9b80/expr.png\" style=\"display:inline;vertical-align:middle;\" /></a></td></tr>\n",
       "<tr><td>18</td><td>Literal</td><td></td><td><a class=\"ProveItLink\" href=\"../../common/97dce8f33694d8d827400c818f103930399de7dc0/expr.ipynb\"><img src=\"../../common/97dce8f33694d8d827400c818f103930399de7dc0/expr.png\" style=\"display:inline;vertical-align:middle;\" /></a></td></tr>\n",
       "<tr><td>19</td><td>ExprTuple</td><td>22</td><td><a class=\"ProveItLink\" href=\"../dfa81a569aedd40943c42f533e78bc2f073711130/expr.ipynb\"><img src=\"../dfa81a569aedd40943c42f533e78bc2f073711130/expr.png\" style=\"display:inline;vertical-align:middle;\" /></a></td></tr>\n",
       "<tr><td>20</td><td>Operation</td><td>operator:&nbsp;23<br>operands:&nbsp;24<br></td><td><a class=\"ProveItLink\" href=\"../5e7a66b6d4795ad2e6f2419a9bef070bd08f9af10/expr.ipynb\"><img src=\"../5e7a66b6d4795ad2e6f2419a9bef070bd08f9af10/expr.png\" style=\"display:inline;vertical-align:middle;\" /></a></td></tr>\n",
       "<tr><td>21</td><td>Operation</td><td>operator:&nbsp;25<br>operands:&nbsp;26<br></td><td><a class=\"ProveItLink\" href=\"../23db59d09bf38d9acf4b32745f3952b053a9a25e0/expr.ipynb\"><img src=\"../23db59d09bf38d9acf4b32745f3952b053a9a25e0/expr.png\" style=\"display:inline;vertical-align:middle;\" /></a></td></tr>\n",
       "<tr><td>22</td><td>Variable</td><td></td><td><a class=\"ProveItLink\" href=\"../../../../../__pv_it/common/1f2ffac7a1dc7c1a4f1fc7348356ae64ea992c790/expr.ipynb\"><img src=\"../../../../../__pv_it/common/1f2ffac7a1dc7c1a4f1fc7348356ae64ea992c790/expr.png\" style=\"display:inline;vertical-align:middle;\" /></a></td></tr>\n",
       "<tr><td>23</td><td>Literal</td><td></td><td><a class=\"ProveItLink\" href=\"../../../../../logic/equality/__pv_it/common/fb96dc12b2aa8801dda64d0132b396c63d1502bb0/expr.ipynb\"><img src=\"../../../../../logic/equality/__pv_it/common/fb96dc12b2aa8801dda64d0132b396c63d1502bb0/expr.png\" style=\"display:inline;vertical-align:middle;\" /></a></td></tr>\n",
       "<tr><td>24</td><td>ExprTuple</td><td>27, 28</td><td><a class=\"ProveItLink\" href=\"../dd1530c32cc423ef96e09b777acaed0e8780db270/expr.ipynb\"><img src=\"../dd1530c32cc423ef96e09b777acaed0e8780db270/expr.png\" style=\"display:inline;vertical-align:middle;\" /></a></td></tr>\n",
       "<tr><td>25</td><td>Literal</td><td></td><td><a class=\"ProveItLink\" href=\"../../../../../logic/booleans/conjunction/__pv_it/common/42118ff318bd65d98b1393f64ce7c2269feef76e0/expr.ipynb\"><img src=\"../../../../../logic/booleans/conjunction/__pv_it/common/42118ff318bd65d98b1393f64ce7c2269feef76e0/expr.png\" style=\"display:inline;vertical-align:middle;\" /></a></td></tr>\n",
       "<tr><td>26</td><td>ExprTuple</td><td>29, 30, 31</td><td><a class=\"ProveItLink\" href=\"../cf2b593db59576c89393a6c5d77f1b2af6ff6a360/expr.ipynb\"><img src=\"../cf2b593db59576c89393a6c5d77f1b2af6ff6a360/expr.png\" style=\"display:inline;vertical-align:middle;\" /></a></td></tr>\n",
       "<tr><td>27</td><td>Operation</td><td>operator:&nbsp;43<br>operands:&nbsp;32<br></td><td><a class=\"ProveItLink\" href=\"../4dca2e4864afdb683f281e90cda3ac7fb6e5c9af0/expr.ipynb\"><img src=\"../4dca2e4864afdb683f281e90cda3ac7fb6e5c9af0/expr.png\" style=\"display:inline;vertical-align:middle;\" /></a></td></tr>\n",
       "<tr><td>28</td><td>Operation</td><td>operator:&nbsp;41<br>operands:&nbsp;33<br></td><td><a class=\"ProveItLink\" href=\"../db1e447a5441b4383595903b9c907180f4fbbab90/expr.ipynb\"><img src=\"../db1e447a5441b4383595903b9c907180f4fbbab90/expr.png\" style=\"display:inline;vertical-align:middle;\" /></a></td></tr>\n",
       "<tr><td>29</td><td>Operation</td><td>operator:&nbsp;36<br>operands:&nbsp;34<br></td><td><a class=\"ProveItLink\" href=\"../752c2d785f966bf6d0dd21131a494bf14b1974510/expr.ipynb\"><img src=\"../752c2d785f966bf6d0dd21131a494bf14b1974510/expr.png\" style=\"display:inline;vertical-align:middle;\" /></a></td></tr>\n",
       "<tr><td>30</td><td>Operation</td><td>operator:&nbsp;36<br>operands:&nbsp;35<br></td><td><a class=\"ProveItLink\" href=\"../01d1802f9f087bb7916de057ea20d6d4dbbb90c80/expr.ipynb\"><img src=\"../01d1802f9f087bb7916de057ea20d6d4dbbb90c80/expr.png\" style=\"display:inline;vertical-align:middle;\" /></a></td></tr>\n",
       "<tr><td>31</td><td>Operation</td><td>operator:&nbsp;36<br>operands:&nbsp;37<br></td><td><a class=\"ProveItLink\" href=\"../5d87133bf25576689e389f1df9286bd5d5042eba0/expr.ipynb\"><img src=\"../5d87133bf25576689e389f1df9286bd5d5042eba0/expr.png\" style=\"display:inline;vertical-align:middle;\" /></a></td></tr>\n",
       "<tr><td>32</td><td>ExprTuple</td><td>38, 47</td><td><a class=\"ProveItLink\" href=\"../07d460c107fa798d9c588d907bc6edffb28912790/expr.ipynb\"><img src=\"../07d460c107fa798d9c588d907bc6edffb28912790/expr.png\" style=\"display:inline;vertical-align:middle;\" /></a></td></tr>\n",
       "<tr><td>33</td><td>ExprTuple</td><td>39, 39</td><td><a class=\"ProveItLink\" href=\"../c4a392461b950de681c72a79787bdb186c4605820/expr.ipynb\"><img src=\"../c4a392461b950de681c72a79787bdb186c4605820/expr.png\" style=\"display:inline;vertical-align:middle;\" /></a></td></tr>\n",
       "<tr><td>34</td><td>ExprTuple</td><td>46, 40</td><td><a class=\"ProveItLink\" href=\"../a8eb363c5254eeb022e1a465b1c28e7ca2de55a30/expr.ipynb\"><img src=\"../a8eb363c5254eeb022e1a465b1c28e7ca2de55a30/expr.png\" style=\"display:inline;vertical-align:middle;\" /></a></td></tr>\n",
       "<tr><td>35</td><td>ExprTuple</td><td>45, 40</td><td><a class=\"ProveItLink\" href=\"../e3a3e72fb27ba14b2c1fbfbb1e16d90be2b91e730/expr.ipynb\"><img src=\"../e3a3e72fb27ba14b2c1fbfbb1e16d90be2b91e730/expr.png\" style=\"display:inline;vertical-align:middle;\" /></a></td></tr>\n",
       "<tr><td>36</td><td>Literal</td><td></td><td><a class=\"ProveItLink\" href=\"../../../../../logic/sets/membership/__pv_it/common/477487d8796864d23d5810f83761435f25167f690/expr.ipynb\"><img src=\"../../../../../logic/sets/membership/__pv_it/common/477487d8796864d23d5810f83761435f25167f690/expr.png\" style=\"display:inline;vertical-align:middle;\" /></a></td></tr>\n",
       "<tr><td>37</td><td>ExprTuple</td><td>47, 40</td><td><a class=\"ProveItLink\" href=\"../79af5c0211c1b027a33587222146db2668454eb10/expr.ipynb\"><img src=\"../79af5c0211c1b027a33587222146db2668454eb10/expr.png\" style=\"display:inline;vertical-align:middle;\" /></a></td></tr>\n",
       "<tr><td>38</td><td>Operation</td><td>operator:&nbsp;41<br>operands:&nbsp;42<br></td><td><a class=\"ProveItLink\" href=\"../51984e200acb1c36ad7e84d8bbd0820cec6e895f0/expr.ipynb\"><img src=\"../51984e200acb1c36ad7e84d8bbd0820cec6e895f0/expr.png\" style=\"display:inline;vertical-align:middle;\" /></a></td></tr>\n",
       "<tr><td>39</td><td>Operation</td><td>operator:&nbsp;43<br>operands:&nbsp;44<br></td><td><a class=\"ProveItLink\" href=\"../cc8955e196e6bbe96a4723722399527b4290d7290/expr.ipynb\"><img src=\"../cc8955e196e6bbe96a4723722399527b4290d7290/expr.png\" style=\"display:inline;vertical-align:middle;\" /></a></td></tr>\n",
       "<tr><td>40</td><td>Variable</td><td></td><td><a class=\"ProveItLink\" href=\"../../../../../__pv_it/common/db1921da064725c141f453bae2d02f0bb2333a8a0/expr.ipynb\"><img src=\"../../../../../__pv_it/common/db1921da064725c141f453bae2d02f0bb2333a8a0/expr.png\" style=\"display:inline;vertical-align:middle;\" /></a></td></tr>\n",
       "<tr><td>41</td><td>Literal</td><td></td><td><a class=\"ProveItLink\" href=\"../../../../addition/__pv_it/common/ac3c140c9094f065c7f7db15c94558731443639c0/expr.ipynb\"><img src=\"../../../../addition/__pv_it/common/ac3c140c9094f065c7f7db15c94558731443639c0/expr.png\" style=\"display:inline;vertical-align:middle;\" /></a></td></tr>\n",
       "<tr><td>42</td><td>ExprTuple</td><td>46, 45</td><td><a class=\"ProveItLink\" href=\"../bbaa48af4605eceb7fbc4af345a1eb6de480e1c50/expr.ipynb\"><img src=\"../bbaa48af4605eceb7fbc4af345a1eb6de480e1c50/expr.png\" style=\"display:inline;vertical-align:middle;\" /></a></td></tr>\n",
       "<tr><td>43</td><td>Literal</td><td></td><td><a class=\"ProveItLink\" href=\"../../common/3c2fb0727e51ccc44869d1fd03bc36b5f019b5010/expr.ipynb\"><img src=\"../../common/3c2fb0727e51ccc44869d1fd03bc36b5f019b5010/expr.png\" style=\"display:inline;vertical-align:middle;\" /></a></td></tr>\n",
       "<tr><td>44</td><td>ExprTuple</td><td>46, 47</td><td><a class=\"ProveItLink\" href=\"../89a913c4fcce790c0c99d28a431789287fb525c60/expr.ipynb\"><img src=\"../89a913c4fcce790c0c99d28a431789287fb525c60/expr.png\" style=\"display:inline;vertical-align:middle;\" /></a></td></tr>\n",
       "<tr><td>45</td><td>Variable</td><td></td><td><a class=\"ProveItLink\" href=\"../../../../../__pv_it/common/ff7dba4ef0bbe791ab573bf2d9c220a304399ac80/expr.ipynb\"><img src=\"../../../../../__pv_it/common/ff7dba4ef0bbe791ab573bf2d9c220a304399ac80/expr.png\" style=\"display:inline;vertical-align:middle;\" /></a></td></tr>\n",
       "<tr><td>46</td><td>Variable</td><td></td><td><a class=\"ProveItLink\" href=\"../../../../../__pv_it/common/a0d9d672aa5e272d907247690c152cc2c6daafb70/expr.ipynb\"><img src=\"../../../../../__pv_it/common/a0d9d672aa5e272d907247690c152cc2c6daafb70/expr.png\" style=\"display:inline;vertical-align:middle;\" /></a></td></tr>\n",
       "<tr><td>47</td><td>Variable</td><td></td><td><a class=\"ProveItLink\" href=\"../../../../../__pv_it/common/95a8f6b9b9f29b83f192ad7fd05708d6be097a3f0/expr.ipynb\"><img src=\"../../../../../__pv_it/common/95a8f6b9b9f29b83f192ad7fd05708d6be097a3f0/expr.png\" style=\"display:inline;vertical-align:middle;\" /></a></td></tr>\n",
       "</table>\n"
      ],
      "text/plain": [
       "0. forall_{K} [forall_{H in_c InnerProdSpaces(K)} [forall_{x, y, z in H} (<x + y, z> = (<x, z> + <x, z>))]]\n",
       "   core type: Operation\n",
       "   operator: 10\n",
       "   operand: 2\n",
       "1. (K -> [forall_{H in_c InnerProdSpaces(K)} [forall_{x, y, z in H} (<x + y, z> = (<x, z> + <x, z>))]])\n",
       "   core type: ExprTuple\n",
       "   sub-expressions: 2\n",
       "2. K -> [forall_{H in_c InnerProdSpaces(K)} [forall_{x, y, z in H} (<x + y, z> = (<x, z> + <x, z>))]]\n",
       "   core type: Lambda\n",
       "   parameter: 22\n",
       "   body: 3\n",
       "3. forall_{H in_c InnerProdSpaces(K)} [forall_{x, y, z in H} (<x + y, z> = (<x, z> + <x, z>))]\n",
       "   core type: Operation\n",
       "   operator: 10\n",
       "   operand: 5\n",
       "4. (H -> {forall_{x, y, z in H} (<x + y, z> = (<x, z> + <x, z>)) if H in_c InnerProdSpaces(K).)\n",
       "   core type: ExprTuple\n",
       "   sub-expressions: 5\n",
       "5. H -> {forall_{x, y, z in H} (<x + y, z> = (<x, z> + <x, z>)) if H in_c InnerProdSpaces(K).\n",
       "   core type: Lambda\n",
       "   parameter: 40\n",
       "   body: 7\n",
       "6. (H)\n",
       "   core type: ExprTuple\n",
       "   sub-expressions: 40\n",
       "7. {forall_{x, y, z in H} (<x + y, z> = (<x, z> + <x, z>)) if H in_c InnerProdSpaces(K).\n",
       "   core type: Conditional\n",
       "   value: 8\n",
       "   condition: 9\n",
       "8. forall_{x, y, z in H} (<x + y, z> = (<x, z> + <x, z>))\n",
       "   core type: Operation\n",
       "   operator: 10\n",
       "   operand: 14\n",
       "9. H in_c InnerProdSpaces(K)\n",
       "   core type: Operation\n",
       "   operator: 12\n",
       "   operands: 13\n",
       "10. forall\n",
       "    core type: Literal\n",
       "    sub-expressions: \n",
       "11. ((x, y, z) -> {<x + y, z> = (<x, z> + <x, z>) if x in H ,  y in H ,  z in H.)\n",
       "    core type: ExprTuple\n",
       "    sub-expressions: 14\n",
       "12. in_c\n",
       "    core type: Literal\n",
       "    sub-expressions: \n",
       "13. (H, InnerProdSpaces(K))\n",
       "    core type: ExprTuple\n",
       "    sub-expressions: 40, 15\n",
       "14. (x, y, z) -> {<x + y, z> = (<x, z> + <x, z>) if x in H ,  y in H ,  z in H.\n",
       "    core type: Lambda\n",
       "    parameters: 16\\n    body: 17\n",
       "15. InnerProdSpaces(K)\n",
       "    core type: Operation\n",
       "    operator: 18\n",
       "    operand: 22\n",
       "16. (x, y, z)\n",
       "    core type: ExprTuple\n",
       "    sub-expressions: 46, 45, 47\n",
       "17. {<x + y, z> = (<x, z> + <x, z>) if x in H ,  y in H ,  z in H.\n",
       "    core type: Conditional\n",
       "    value: 20\n",
       "    condition: 21\n",
       "18. InnerProdSpaces\n",
       "    core type: Literal\n",
       "    sub-expressions: \n",
       "19. (K)\n",
       "    core type: ExprTuple\n",
       "    sub-expressions: 22\n",
       "20. <x + y, z> = (<x, z> + <x, z>)\n",
       "    core type: Operation\n",
       "    operator: 23\n",
       "    operands: 24\n",
       "21. (x in H) and (y in H) and (z in H)\n",
       "    core type: Operation\n",
       "    operator: 25\n",
       "    operands: 26\n",
       "22. K\n",
       "    core type: Variable\n",
       "    sub-expressions: \n",
       "23. =\n",
       "    core type: Literal\n",
       "    sub-expressions: \n",
       "24. (<x + y, z>, <x, z> + <x, z>)\n",
       "    core type: ExprTuple\n",
       "    sub-expressions: 27, 28\n",
       "25. and\n",
       "    core type: Literal\n",
       "    sub-expressions: \n",
       "26. (x in H, y in H, z in H)\n",
       "    core type: ExprTuple\n",
       "    sub-expressions: 29, 30, 31\n",
       "27. <x + y, z>\n",
       "    core type: Operation\n",
       "    operator: 43\n",
       "    operands: 32\n",
       "28. <x, z> + <x, z>\n",
       "    core type: Operation\n",
       "    operator: 41\n",
       "    operands: 33\n",
       "29. x in H\n",
       "    core type: Operation\n",
       "    operator: 36\n",
       "    operands: 34\n",
       "30. y in H\n",
       "    core type: Operation\n",
       "    operator: 36\n",
       "    operands: 35\n",
       "31. z in H\n",
       "    core type: Operation\n",
       "    operator: 36\n",
       "    operands: 37\n",
       "32. (x + y, z)\n",
       "    core type: ExprTuple\n",
       "    sub-expressions: 38, 47\n",
       "33. (<x, z>, <x, z>)\n",
       "    core type: ExprTuple\n",
       "    sub-expressions: 39, 39\n",
       "34. (x, H)\n",
       "    core type: ExprTuple\n",
       "    sub-expressions: 46, 40\n",
       "35. (y, H)\n",
       "    core type: ExprTuple\n",
       "    sub-expressions: 45, 40\n",
       "36. in\n",
       "    core type: Literal\n",
       "    sub-expressions: \n",
       "37. (z, H)\n",
       "    core type: ExprTuple\n",
       "    sub-expressions: 47, 40\n",
       "38. x + y\n",
       "    core type: Operation\n",
       "    operator: 41\n",
       "    operands: 42\n",
       "39. <x, z>\n",
       "    core type: Operation\n",
       "    operator: 43\n",
       "    operands: 44\n",
       "40. H\n",
       "    core type: Variable\n",
       "    sub-expressions: \n",
       "41. +\n",
       "    core type: Literal\n",
       "    sub-expressions: \n",
       "42. (x, y)\n",
       "    core type: ExprTuple\n",
       "    sub-expressions: 46, 45\n",
       "43. InnerProd\n",
       "    core type: Literal\n",
       "    sub-expressions: \n",
       "44. (x, z)\n",
       "    core type: ExprTuple\n",
       "    sub-expressions: 46, 47\n",
       "45. y\n",
       "    core type: Variable\n",
       "    sub-expressions: \n",
       "46. x\n",
       "    core type: Variable\n",
       "    sub-expressions: \n",
       "47. z\n",
       "    core type: Variable\n",
       "    sub-expressions: "
      ]
     },
     "metadata": {},
     "output_type": "display_data"
    }
   ],
   "source": [
    "# display the expression information\n",
    "stored_expr.expr_info()"
   ]
  },
  {
   "cell_type": "code",
   "execution_count": null,
   "metadata": {},
   "outputs": [],
   "source": []
  }
 ],
 "metadata": {
  "kernelspec": {
   "display_name": "Python 3",
   "language": "python",
   "name": "python3"
  }
 },
 "nbformat": 4,
 "nbformat_minor": 0
}