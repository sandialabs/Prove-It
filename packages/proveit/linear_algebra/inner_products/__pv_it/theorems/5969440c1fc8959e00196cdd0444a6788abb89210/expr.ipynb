{
 "cells": [
  {
   "cell_type": "markdown",
   "metadata": {},
   "source": [
    "Expression of type <a class=\"ProveItLink\" href=\"../../../../../../../doc/html/api/proveit.ExprTuple.html\">ExprTuple</a>\n",
    "=======================\n",
    "# from the theory of <a class=\"ProveItLink\" href=\"../../../_theory_nbs_/theory.ipynb\">proveit.linear_algebra.inner_products</a>"
   ]
  },
  {
   "cell_type": "code",
   "execution_count": 1,
   "metadata": {},
   "outputs": [],
   "source": [
    "import proveit\n",
    "# Automation is not needed when building an expression:\n",
    "proveit.defaults.automation = False # This will speed things up.\n",
    "proveit.defaults.inline_pngs = False # Makes files smaller.\n",
    "%load_expr # Load the stored expression as 'stored_expr'\n",
    "# import Expression classes needed to build the expression\n",
    "from proveit import Composition, ExprTuple, U\n",
    "from proveit.linear_algebra import Adj, Hspace, Identity, LinMap\n",
    "from proveit.logic import Equals, InSet"
   ]
  },
  {
   "cell_type": "code",
   "execution_count": 2,
   "metadata": {},
   "outputs": [
    {
     "data": {
      "text/html": [
       "<strong id=\"expr\">expr:</strong> <a class=\"ProveItLink\" href=\"expr.ipynb\"><img src=\"expr.png\" style=\"display:inline;vertical-align:middle;\" /></a><br>"
      ],
      "text/plain": [
       "<IPython.core.display.HTML object>"
      ]
     },
     "metadata": {},
     "output_type": "display_data"
    }
   ],
   "source": [
    "# build up the expression from sub-expressions\n",
    "expr = ExprTuple(InSet(U, LinMap(Hspace, Hspace)), Equals(Composition(Adj(U), U), Identity(Hspace)))"
   ]
  },
  {
   "cell_type": "code",
   "execution_count": 3,
   "metadata": {},
   "outputs": [
    {
     "name": "stdout",
     "output_type": "stream",
     "text": [
      "Passed sanity check: expr matches stored_expr\n"
     ]
    }
   ],
   "source": [
    "# check that the built expression is the same as the stored expression\n",
    "assert expr == stored_expr\n",
    "assert expr._style_id == stored_expr._style_id\n",
    "print(\"Passed sanity check: expr matches stored_expr\")"
   ]
  },
  {
   "cell_type": "code",
   "execution_count": 4,
   "metadata": {},
   "outputs": [
    {
     "name": "stdout",
     "output_type": "stream",
     "text": [
      "\\left(U \\in \\mathcal{L}\\left(\\mathcal{H}, \\mathcal{H}\\right), \\left(U^{\\dagger} \\circ U\\right) = I_{\\mathcal{H}}\\right)\n"
     ]
    }
   ],
   "source": [
    "# Show the LaTeX representation of the expression for convenience if you need it.\n",
    "print(stored_expr.latex())"
   ]
  },
  {
   "cell_type": "code",
   "execution_count": 5,
   "metadata": {},
   "outputs": [
    {
     "data": {
      "text/html": [
       "<table>\n",
       "<tr><th>name</th><th>description</th><th>default</th><th>current value</th><th>related methods</th></tr><tr><td>wrap_positions</td><td>position(s) at which wrapping is to occur; 'n' is after the nth comma.</td><td>()</td><td>()</td><td>('with_wrapping_at',)</td></tr>\n",
       "<tr><td>justification</td><td>if any wrap positions are set, justify to the 'left', 'center', or 'right'</td><td>left</td><td>left</td><td>('with_justification',)</td></tr>\n",
       "</table>\n"
      ],
      "text/plain": [
       "style name: wrap_positions\n",
       "description: position(s) at which wrapping is to occur; 'n' is after the nth comma.\n",
       "default: ()\n",
       "current value: ()\n",
       "related methods: ('with_wrapping_at',)\n",
       "style name: justification\n",
       "description: if any wrap positions are set, justify to the 'left', 'center', or 'right'\n",
       "default: left\n",
       "current value: left\n",
       "related methods: ('with_justification',)"
      ]
     },
     "metadata": {},
     "output_type": "display_data"
    }
   ],
   "source": [
    "stored_expr.style_options()"
   ]
  },
  {
   "cell_type": "code",
   "execution_count": 6,
   "metadata": {},
   "outputs": [
    {
     "data": {
      "text/html": [
       "<table><tr><th>&nbsp;</th><th>core type</th><th>sub-expressions</th><th>expression</th></tr>\n",
       "<tr><td>0</td><td>ExprTuple</td><td>1, 2</td><td><a class=\"ProveItLink\" href=\"expr.ipynb\"><img src=\"expr.png\" style=\"display:inline;vertical-align:middle;\" /></a></td></tr>\n",
       "<tr><td>1</td><td>Operation</td><td>operator:&nbsp;3<br>operands:&nbsp;4<br></td><td><a class=\"ProveItLink\" href=\"../c89123bd4311dbd78598971225ab19c95700148e0/expr.ipynb\"><img src=\"../c89123bd4311dbd78598971225ab19c95700148e0/expr.png\" style=\"display:inline;vertical-align:middle;\" /></a></td></tr>\n",
       "<tr><td>2</td><td>Operation</td><td>operator:&nbsp;5<br>operands:&nbsp;6<br></td><td><a class=\"ProveItLink\" href=\"../c9ef71bd19d44f808b66e1943598c8bb4ba808eb0/expr.ipynb\"><img src=\"../c9ef71bd19d44f808b66e1943598c8bb4ba808eb0/expr.png\" style=\"display:inline;vertical-align:middle;\" /></a></td></tr>\n",
       "<tr><td>3</td><td>Literal</td><td></td><td><a class=\"ProveItLink\" href=\"../../../../../logic/sets/membership/__pv_it/common/477487d8796864d23d5810f83761435f25167f690/expr.ipynb\"><img src=\"../../../../../logic/sets/membership/__pv_it/common/477487d8796864d23d5810f83761435f25167f690/expr.png\" style=\"display:inline;vertical-align:middle;\" /></a></td></tr>\n",
       "<tr><td>4</td><td>ExprTuple</td><td>20, 7</td><td><a class=\"ProveItLink\" href=\"../23bdc7f144898f9467deb09f30137deba4fe16d20/expr.ipynb\"><img src=\"../23bdc7f144898f9467deb09f30137deba4fe16d20/expr.png\" style=\"display:inline;vertical-align:middle;\" /></a></td></tr>\n",
       "<tr><td>5</td><td>Literal</td><td></td><td><a class=\"ProveItLink\" href=\"../../../../../logic/equality/__pv_it/common/fb96dc12b2aa8801dda64d0132b396c63d1502bb0/expr.ipynb\"><img src=\"../../../../../logic/equality/__pv_it/common/fb96dc12b2aa8801dda64d0132b396c63d1502bb0/expr.png\" style=\"display:inline;vertical-align:middle;\" /></a></td></tr>\n",
       "<tr><td>6</td><td>ExprTuple</td><td>8, 9</td><td><a class=\"ProveItLink\" href=\"../84b0a3367de986b02c9540606de55dd7de776fcd0/expr.ipynb\"><img src=\"../84b0a3367de986b02c9540606de55dd7de776fcd0/expr.png\" style=\"display:inline;vertical-align:middle;\" /></a></td></tr>\n",
       "<tr><td>7</td><td>Operation</td><td>operator:&nbsp;10<br>operands:&nbsp;11<br></td><td><a class=\"ProveItLink\" href=\"../86cfb852202849b510e37a30cefd64fde658d2460/expr.ipynb\"><img src=\"../86cfb852202849b510e37a30cefd64fde658d2460/expr.png\" style=\"display:inline;vertical-align:middle;\" /></a></td></tr>\n",
       "<tr><td>8</td><td>Operation</td><td>operator:&nbsp;12<br>operands:&nbsp;13<br></td><td><a class=\"ProveItLink\" href=\"../37f20f92b51b2285829e32369ec1b0a58455bccc0/expr.ipynb\"><img src=\"../37f20f92b51b2285829e32369ec1b0a58455bccc0/expr.png\" style=\"display:inline;vertical-align:middle;\" /></a></td></tr>\n",
       "<tr><td>9</td><td>Operation</td><td>operator:&nbsp;14<br>operand:&nbsp;17<br></td><td><a class=\"ProveItLink\" href=\"../3678ebedd9e873f8f28509459cc783ec51426f510/expr.ipynb\"><img src=\"../3678ebedd9e873f8f28509459cc783ec51426f510/expr.png\" style=\"display:inline;vertical-align:middle;\" /></a></td></tr>\n",
       "<tr><td>10</td><td>Literal</td><td></td><td><a class=\"ProveItLink\" href=\"../../../../linear_maps/__pv_it/common/d323a251b3f504c3443ff8de393dbf12697838a10/expr.ipynb\"><img src=\"../../../../linear_maps/__pv_it/common/d323a251b3f504c3443ff8de393dbf12697838a10/expr.png\" style=\"display:inline;vertical-align:middle;\" /></a></td></tr>\n",
       "<tr><td>11</td><td>ExprTuple</td><td>17, 17</td><td><a class=\"ProveItLink\" href=\"../a18ca47ef39818bcc450a7f0e58fdf592bd3a0080/expr.ipynb\"><img src=\"../a18ca47ef39818bcc450a7f0e58fdf592bd3a0080/expr.png\" style=\"display:inline;vertical-align:middle;\" /></a></td></tr>\n",
       "<tr><td>12</td><td>Literal</td><td></td><td><a class=\"ProveItLink\" href=\"../937c3fce6fae0f7bf212b2afb24ffa2312fdb2b40/expr.ipynb\"><img src=\"../../../../../_core_/expression/lambda_expr/__pv_it/common/937c3fce6fae0f7bf212b2afb24ffa2312fdb2b40/expr.png\" style=\"display:inline;vertical-align:middle;\" /></a></td></tr>\n",
       "<tr><td>13</td><td>ExprTuple</td><td>16, 20</td><td><a class=\"ProveItLink\" href=\"../778d0fdb728ee7339ca834f2fbaddabc6c73613a0/expr.ipynb\"><img src=\"../778d0fdb728ee7339ca834f2fbaddabc6c73613a0/expr.png\" style=\"display:inline;vertical-align:middle;\" /></a></td></tr>\n",
       "<tr><td>14</td><td>Literal</td><td></td><td><a class=\"ProveItLink\" href=\"../../../../linear_maps/__pv_it/common/146aaf4bfb239c4e02fa5f823b846a1d80120de10/expr.ipynb\"><img src=\"../../../../linear_maps/__pv_it/common/146aaf4bfb239c4e02fa5f823b846a1d80120de10/expr.png\" style=\"display:inline;vertical-align:middle;\" /></a></td></tr>\n",
       "<tr><td>15</td><td>ExprTuple</td><td>17</td><td><a class=\"ProveItLink\" href=\"../b9d4240524cd252287e77024516896a3cc55f45e0/expr.ipynb\"><img src=\"../b9d4240524cd252287e77024516896a3cc55f45e0/expr.png\" style=\"display:inline;vertical-align:middle;\" /></a></td></tr>\n",
       "<tr><td>16</td><td>Operation</td><td>operator:&nbsp;18<br>operand:&nbsp;20<br></td><td><a class=\"ProveItLink\" href=\"../bedc614136ed8f7dbd2bce93d715ab6d53e842b40/expr.ipynb\"><img src=\"../bedc614136ed8f7dbd2bce93d715ab6d53e842b40/expr.png\" style=\"display:inline;vertical-align:middle;\" /></a></td></tr>\n",
       "<tr><td>17</td><td>Variable</td><td></td><td><a class=\"ProveItLink\" href=\"../../common/0a298dc12c549b5fdc96454972e9674c7dbf104f0/expr.ipynb\"><img src=\"../../common/0a298dc12c549b5fdc96454972e9674c7dbf104f0/expr.png\" style=\"display:inline;vertical-align:middle;\" /></a></td></tr>\n",
       "<tr><td>18</td><td>Literal</td><td></td><td><a class=\"ProveItLink\" href=\"../../common/07dd5c9e53f5101e0f4bf0fc1d9831c526034dc50/expr.ipynb\"><img src=\"../../common/07dd5c9e53f5101e0f4bf0fc1d9831c526034dc50/expr.png\" style=\"display:inline;vertical-align:middle;\" /></a></td></tr>\n",
       "<tr><td>19</td><td>ExprTuple</td><td>20</td><td><a class=\"ProveItLink\" href=\"../784e4161fabed463ea08c5bdcaab880caad8d62f0/expr.ipynb\"><img src=\"../784e4161fabed463ea08c5bdcaab880caad8d62f0/expr.png\" style=\"display:inline;vertical-align:middle;\" /></a></td></tr>\n",
       "<tr><td>20</td><td>Variable</td><td></td><td><a class=\"ProveItLink\" href=\"../../../../../__pv_it/common/2586cdae2fd2785a5bcbf61f99f7aaf8229d775e0/expr.ipynb\"><img src=\"../../../../../__pv_it/common/2586cdae2fd2785a5bcbf61f99f7aaf8229d775e0/expr.png\" style=\"display:inline;vertical-align:middle;\" /></a></td></tr>\n",
       "</table>\n"
      ],
      "text/plain": [
       "0. (U in LINMAP(H, H), (U* o U) = I_H)\n",
       "   core type: ExprTuple\n",
       "   sub-expressions: 1, 2\n",
       "1. U in LINMAP(H, H)\n",
       "   core type: Operation\n",
       "   operator: 3\n",
       "   operands: 4\n",
       "2. (U* o U) = I_H\n",
       "   core type: Operation\n",
       "   operator: 5\n",
       "   operands: 6\n",
       "3. in\n",
       "   core type: Literal\n",
       "   sub-expressions: \n",
       "4. (U, LINMAP(H, H))\n",
       "   core type: ExprTuple\n",
       "   sub-expressions: 20, 7\n",
       "5. =\n",
       "   core type: Literal\n",
       "   sub-expressions: \n",
       "6. (U* o U, I_H)\n",
       "   core type: ExprTuple\n",
       "   sub-expressions: 8, 9\n",
       "7. LINMAP(H, H)\n",
       "   core type: Operation\n",
       "   operator: 10\n",
       "   operands: 11\n",
       "8. U* o U\n",
       "   core type: Operation\n",
       "   operator: 12\n",
       "   operands: 13\n",
       "9. I_H\n",
       "   core type: Operation\n",
       "   operator: 14\n",
       "   operand: 17\n",
       "10. LINMAP\n",
       "    core type: Literal\n",
       "    sub-expressions: \n",
       "11. (H, H)\n",
       "    core type: ExprTuple\n",
       "    sub-expressions: 17, 17\n",
       "12. o\n",
       "    core type: Literal\n",
       "    sub-expressions: \n",
       "13. (U*, U)\n",
       "    core type: ExprTuple\n",
       "    sub-expressions: 16, 20\n",
       "14. I\n",
       "    core type: Literal\n",
       "    sub-expressions: \n",
       "15. (H)\n",
       "    core type: ExprTuple\n",
       "    sub-expressions: 17\n",
       "16. U*\n",
       "    core type: Operation\n",
       "    operator: 18\n",
       "    operand: 20\n",
       "17. H\n",
       "    core type: Variable\n",
       "    sub-expressions: \n",
       "18. Adj\n",
       "    core type: Literal\n",
       "    sub-expressions: \n",
       "19. (U)\n",
       "    core type: ExprTuple\n",
       "    sub-expressions: 20\n",
       "20. U\n",
       "    core type: Variable\n",
       "    sub-expressions: "
      ]
     },
     "metadata": {},
     "output_type": "display_data"
    }
   ],
   "source": [
    "# display the expression information\n",
    "stored_expr.expr_info()"
   ]
  },
  {
   "cell_type": "code",
   "execution_count": null,
   "metadata": {},
   "outputs": [],
   "source": []
  }
 ],
 "metadata": {
  "kernelspec": {
   "display_name": "Python 3",
   "language": "python",
   "name": "python3"
  }
 },
 "nbformat": 4,
 "nbformat_minor": 0
}