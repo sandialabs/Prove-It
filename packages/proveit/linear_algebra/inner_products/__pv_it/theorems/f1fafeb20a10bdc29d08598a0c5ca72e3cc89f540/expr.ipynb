{
 "cells": [
  {
   "cell_type": "markdown",
   "metadata": {},
   "source": [
    "Expression of type <a class=\"ProveItLink\" href=\"../../../../../../../doc/html/api/proveit.ExprTuple.html\">ExprTuple</a>\n",
    "=======================\n",
    "# from the theory of <a class=\"ProveItLink\" href=\"../../../_theory_nbs_/theory.ipynb\">proveit.linear_algebra.inner_products</a>"
   ]
  },
  {
   "cell_type": "code",
   "execution_count": 1,
   "metadata": {},
   "outputs": [],
   "source": [
    "import proveit\n",
    "# Automation is not needed when building an expression:\n",
    "proveit.defaults.automation = False # This will speed things up.\n",
    "proveit.defaults.inline_pngs = False # Makes files smaller.\n",
    "%load_expr # Load the stored expression as 'stored_expr'\n",
    "# import Expression classes needed to build the expression\n",
    "from proveit import ExprTuple, i, m, n, v\n",
    "from proveit.core_expr_types import a_i, b_i, lambda_i\n",
    "from proveit.linear_algebra import ScalarMult, TensorProd, VecSum\n",
    "from proveit.numbers import Interval, Min, one"
   ]
  },
  {
   "cell_type": "code",
   "execution_count": 2,
   "metadata": {},
   "outputs": [
    {
     "data": {
      "text/html": [
       "<strong id=\"expr\">expr:</strong> <a class=\"ProveItLink\" href=\"expr.ipynb\"><img src=\"expr.png\" style=\"display:inline;vertical-align:middle;\" /></a><br>"
      ],
      "text/plain": [
       "<IPython.core.display.HTML object>"
      ]
     },
     "metadata": {},
     "output_type": "display_data"
    }
   ],
   "source": [
    "# build up the expression from sub-expressions\n",
    "expr = ExprTuple(v, VecSum(index_or_indices = [i], summand = ScalarMult(lambda_i, TensorProd(a_i, b_i)), domain = Interval(one, Min(m, n))))"
   ]
  },
  {
   "cell_type": "code",
   "execution_count": 3,
   "metadata": {},
   "outputs": [
    {
     "name": "stdout",
     "output_type": "stream",
     "text": [
      "Passed sanity check: expr matches stored_expr\n"
     ]
    }
   ],
   "source": [
    "# check that the built expression is the same as the stored expression\n",
    "assert expr == stored_expr\n",
    "assert expr._style_id == stored_expr._style_id\n",
    "print(\"Passed sanity check: expr matches stored_expr\")"
   ]
  },
  {
   "cell_type": "code",
   "execution_count": 4,
   "metadata": {},
   "outputs": [
    {
     "name": "stdout",
     "output_type": "stream",
     "text": [
      "\\left(v, \\sum_{i=1}^{{\\rm Min}\\left(m, n\\right)} \\left(\\lambda_{i} \\cdot \\left(a_{i} {\\otimes} b_{i}\\right)\\right)\\right)\n"
     ]
    }
   ],
   "source": [
    "# Show the LaTeX representation of the expression for convenience if you need it.\n",
    "print(stored_expr.latex())"
   ]
  },
  {
   "cell_type": "code",
   "execution_count": 5,
   "metadata": {},
   "outputs": [
    {
     "data": {
      "text/html": [
       "<table>\n",
       "<tr><th>name</th><th>description</th><th>default</th><th>current value</th><th>related methods</th></tr><tr><td>wrap_positions</td><td>position(s) at which wrapping is to occur; 'n' is after the nth comma.</td><td>()</td><td>()</td><td>('with_wrapping_at',)</td></tr>\n",
       "<tr><td>justification</td><td>if any wrap positions are set, justify to the 'left', 'center', or 'right'</td><td>left</td><td>left</td><td>('with_justification',)</td></tr>\n",
       "</table>\n"
      ],
      "text/plain": [
       "style name: wrap_positions\n",
       "description: position(s) at which wrapping is to occur; 'n' is after the nth comma.\n",
       "default: ()\n",
       "current value: ()\n",
       "related methods: ('with_wrapping_at',)\n",
       "style name: justification\n",
       "description: if any wrap positions are set, justify to the 'left', 'center', or 'right'\n",
       "default: left\n",
       "current value: left\n",
       "related methods: ('with_justification',)"
      ]
     },
     "metadata": {},
     "output_type": "display_data"
    }
   ],
   "source": [
    "stored_expr.style_options()"
   ]
  },
  {
   "cell_type": "code",
   "execution_count": 6,
   "metadata": {},
   "outputs": [
    {
     "data": {
      "text/html": [
       "<table><tr><th>&nbsp;</th><th>core type</th><th>sub-expressions</th><th>expression</th></tr>\n",
       "<tr><td>0</td><td>ExprTuple</td><td>1, 2</td><td><a class=\"ProveItLink\" href=\"expr.ipynb\"><img src=\"expr.png\" style=\"display:inline;vertical-align:middle;\" /></a></td></tr>\n",
       "<tr><td>1</td><td>Variable</td><td></td><td><a class=\"ProveItLink\" href=\"../../../../../__pv_it/common/a4b9661da9b52dcebf59c5559fec8901f4df10750/expr.ipynb\"><img src=\"../../../../../__pv_it/common/a4b9661da9b52dcebf59c5559fec8901f4df10750/expr.png\" style=\"display:inline;vertical-align:middle;\" /></a></td></tr>\n",
       "<tr><td>2</td><td>Operation</td><td>operator:&nbsp;3<br>operand:&nbsp;5<br></td><td><a class=\"ProveItLink\" href=\"../b92be1f8e285b819251c8bf62311bce577fb31100/expr.ipynb\"><img src=\"../b92be1f8e285b819251c8bf62311bce577fb31100/expr.png\" style=\"display:inline;vertical-align:middle;\" /></a></td></tr>\n",
       "<tr><td>3</td><td>Literal</td><td></td><td><a class=\"ProveItLink\" href=\"../../../../addition/__pv_it/common/62f73c830c62efb87627ede5678f282081cd0ce20/expr.ipynb\"><img src=\"../../../../addition/__pv_it/common/62f73c830c62efb87627ede5678f282081cd0ce20/expr.png\" style=\"display:inline;vertical-align:middle;\" /></a></td></tr>\n",
       "<tr><td>4</td><td>ExprTuple</td><td>5</td><td><a class=\"ProveItLink\" href=\"../e1d56d70a145638d67002322e5ff23341bffa8750/expr.ipynb\"><img src=\"../e1d56d70a145638d67002322e5ff23341bffa8750/expr.png\" style=\"display:inline;vertical-align:middle;\" /></a></td></tr>\n",
       "<tr><td>5</td><td>Lambda</td><td>parameter:&nbsp;30<br>body:&nbsp;6<br></td><td><a class=\"ProveItLink\" href=\"../227f4c65fb995c95a85306ac0bd0f74e832a8a7f0/expr.ipynb\"><img src=\"../227f4c65fb995c95a85306ac0bd0f74e832a8a7f0/expr.png\" style=\"display:inline;vertical-align:middle;\" /></a></td></tr>\n",
       "<tr><td>6</td><td>Conditional</td><td>value:&nbsp;7<br>condition:&nbsp;8<br></td><td><a class=\"ProveItLink\" href=\"../3b8c7c5e8de8ece42546c8f72c34dc03000a9f150/expr.ipynb\"><img src=\"../3b8c7c5e8de8ece42546c8f72c34dc03000a9f150/expr.png\" style=\"display:inline;vertical-align:middle;\" /></a></td></tr>\n",
       "<tr><td>7</td><td>Operation</td><td>operator:&nbsp;9<br>operands:&nbsp;10<br></td><td><a class=\"ProveItLink\" href=\"../29e56bad33343583ce694239563fb5278e3a6bd10/expr.ipynb\"><img src=\"../29e56bad33343583ce694239563fb5278e3a6bd10/expr.png\" style=\"display:inline;vertical-align:middle;\" /></a></td></tr>\n",
       "<tr><td>8</td><td>Operation</td><td>operator:&nbsp;11<br>operands:&nbsp;12<br></td><td><a class=\"ProveItLink\" href=\"../e4b4d2cc8b4de995d5b578945d2a83ba5e054f780/expr.ipynb\"><img src=\"../e4b4d2cc8b4de995d5b578945d2a83ba5e054f780/expr.png\" style=\"display:inline;vertical-align:middle;\" /></a></td></tr>\n",
       "<tr><td>9</td><td>Literal</td><td></td><td><a class=\"ProveItLink\" href=\"../../../../scalar_multiplication/__pv_it/common/1e364bd471e6a29fcd358dd2d9cd990a1e6fedd40/expr.ipynb\"><img src=\"../../../../scalar_multiplication/__pv_it/common/1e364bd471e6a29fcd358dd2d9cd990a1e6fedd40/expr.png\" style=\"display:inline;vertical-align:middle;\" /></a></td></tr>\n",
       "<tr><td>10</td><td>ExprTuple</td><td>13, 14</td><td><a class=\"ProveItLink\" href=\"../f38274048c7546cbced981da39b3466e584248160/expr.ipynb\"><img src=\"../f38274048c7546cbced981da39b3466e584248160/expr.png\" style=\"display:inline;vertical-align:middle;\" /></a></td></tr>\n",
       "<tr><td>11</td><td>Literal</td><td></td><td><a class=\"ProveItLink\" href=\"../../../../../logic/sets/membership/__pv_it/common/477487d8796864d23d5810f83761435f25167f690/expr.ipynb\"><img src=\"../../../../../logic/sets/membership/__pv_it/common/477487d8796864d23d5810f83761435f25167f690/expr.png\" style=\"display:inline;vertical-align:middle;\" /></a></td></tr>\n",
       "<tr><td>12</td><td>ExprTuple</td><td>30, 15</td><td><a class=\"ProveItLink\" href=\"../56743c89a55798dbadb540deed9996823020e5050/expr.ipynb\"><img src=\"../56743c89a55798dbadb540deed9996823020e5050/expr.png\" style=\"display:inline;vertical-align:middle;\" /></a></td></tr>\n",
       "<tr><td>13</td><td>IndexedVar</td><td>variable:&nbsp;16<br>index:&nbsp;30<br></td><td><a class=\"ProveItLink\" href=\"../../../../../core_expr_types/__pv_it/common/af164319a03645bc46d3202281a9f1f31fcb147f0/expr.ipynb\"><img src=\"../../../../../core_expr_types/__pv_it/common/af164319a03645bc46d3202281a9f1f31fcb147f0/expr.png\" style=\"display:inline;vertical-align:middle;\" /></a></td></tr>\n",
       "<tr><td>14</td><td>Operation</td><td>operator:&nbsp;17<br>operands:&nbsp;18<br></td><td><a class=\"ProveItLink\" href=\"../81ccfdad38bec88fb3a983845be1d15471e784260/expr.ipynb\"><img src=\"../81ccfdad38bec88fb3a983845be1d15471e784260/expr.png\" style=\"display:inline;vertical-align:middle;\" /></a></td></tr>\n",
       "<tr><td>15</td><td>Operation</td><td>operator:&nbsp;19<br>operands:&nbsp;20<br></td><td><a class=\"ProveItLink\" href=\"../e23e925f9a70d80293cc643f39a5a04696a298750/expr.ipynb\"><img src=\"../e23e925f9a70d80293cc643f39a5a04696a298750/expr.png\" style=\"display:inline;vertical-align:middle;\" /></a></td></tr>\n",
       "<tr><td>16</td><td>Variable</td><td></td><td><a class=\"ProveItLink\" href=\"../../../../../__pv_it/common/32939ecfac671575754b298a0f24751901f187ae0/expr.ipynb\"><img src=\"../../../../../__pv_it/common/32939ecfac671575754b298a0f24751901f187ae0/expr.png\" style=\"display:inline;vertical-align:middle;\" /></a></td></tr>\n",
       "<tr><td>17</td><td>Literal</td><td></td><td><a class=\"ProveItLink\" href=\"../../../../tensors/__pv_it/common/7fa25b05174babb4710be62d63ebd43f68aa2fec0/expr.ipynb\"><img src=\"../../../../tensors/__pv_it/common/7fa25b05174babb4710be62d63ebd43f68aa2fec0/expr.png\" style=\"display:inline;vertical-align:middle;\" /></a></td></tr>\n",
       "<tr><td>18</td><td>ExprTuple</td><td>21, 22</td><td><a class=\"ProveItLink\" href=\"../2f01f81f384c811f5004e78cc9e05871cc3e949d0/expr.ipynb\"><img src=\"../2f01f81f384c811f5004e78cc9e05871cc3e949d0/expr.png\" style=\"display:inline;vertical-align:middle;\" /></a></td></tr>\n",
       "<tr><td>19</td><td>Literal</td><td></td><td><a class=\"ProveItLink\" href=\"../../../../../numbers/number_sets/integers/__pv_it/common/92f3a0a77e3c3ea8e4a5c8674edadc54e4f57d550/expr.ipynb\"><img src=\"../../../../../numbers/number_sets/integers/__pv_it/common/92f3a0a77e3c3ea8e4a5c8674edadc54e4f57d550/expr.png\" style=\"display:inline;vertical-align:middle;\" /></a></td></tr>\n",
       "<tr><td>20</td><td>ExprTuple</td><td>23, 24</td><td><a class=\"ProveItLink\" href=\"../f11e6b2293cf63c01a4df9c4969be99cc9690dd00/expr.ipynb\"><img src=\"../f11e6b2293cf63c01a4df9c4969be99cc9690dd00/expr.png\" style=\"display:inline;vertical-align:middle;\" /></a></td></tr>\n",
       "<tr><td>21</td><td>IndexedVar</td><td>variable:&nbsp;25<br>index:&nbsp;30<br></td><td><a class=\"ProveItLink\" href=\"../../../../../core_expr_types/__pv_it/common/c1fad46b1cc25ea9a3a84c0aa346db8e42543d970/expr.ipynb\"><img src=\"../../../../../core_expr_types/__pv_it/common/c1fad46b1cc25ea9a3a84c0aa346db8e42543d970/expr.png\" style=\"display:inline;vertical-align:middle;\" /></a></td></tr>\n",
       "<tr><td>22</td><td>IndexedVar</td><td>variable:&nbsp;26<br>index:&nbsp;30<br></td><td><a class=\"ProveItLink\" href=\"../../../../../core_expr_types/__pv_it/common/370d9bfc44fef1dec86f0a57d14d7ae6e1b924340/expr.ipynb\"><img src=\"../../../../../core_expr_types/__pv_it/common/370d9bfc44fef1dec86f0a57d14d7ae6e1b924340/expr.png\" style=\"display:inline;vertical-align:middle;\" /></a></td></tr>\n",
       "<tr><td>23</td><td>Literal</td><td></td><td><a class=\"ProveItLink\" href=\"../../../../../numbers/numerals/__pv_it/common/682157d4892d216d9e5626ed533aff9b56b9506e0/expr.ipynb\"><img src=\"../../../../../numbers/numerals/__pv_it/common/682157d4892d216d9e5626ed533aff9b56b9506e0/expr.png\" style=\"display:inline;vertical-align:middle;\" /></a></td></tr>\n",
       "<tr><td>24</td><td>Operation</td><td>operator:&nbsp;28<br>operands:&nbsp;29<br></td><td><a class=\"ProveItLink\" href=\"../119612a7b1982468c1aecad96a35331df058d4a10/expr.ipynb\"><img src=\"../119612a7b1982468c1aecad96a35331df058d4a10/expr.png\" style=\"display:inline;vertical-align:middle;\" /></a></td></tr>\n",
       "<tr><td>25</td><td>Variable</td><td></td><td><a class=\"ProveItLink\" href=\"../../../../../__pv_it/common/c06c606ec12678c58933ac85412ecadc2ae28be60/expr.ipynb\"><img src=\"../../../../../__pv_it/common/c06c606ec12678c58933ac85412ecadc2ae28be60/expr.png\" style=\"display:inline;vertical-align:middle;\" /></a></td></tr>\n",
       "<tr><td>26</td><td>Variable</td><td></td><td><a class=\"ProveItLink\" href=\"../../../../../__pv_it/common/195236b98c6c564a75b5dbada74b173bc52d5c3e0/expr.ipynb\"><img src=\"../../../../../__pv_it/common/195236b98c6c564a75b5dbada74b173bc52d5c3e0/expr.png\" style=\"display:inline;vertical-align:middle;\" /></a></td></tr>\n",
       "<tr><td>27</td><td>ExprTuple</td><td>30</td><td><a class=\"ProveItLink\" href=\"../../../../../core_expr_types/__pv_it/common/0fc33550aa9740010879fdf30c320b63ba918eff0/expr.ipynb\"><img src=\"../../../../../core_expr_types/__pv_it/common/0fc33550aa9740010879fdf30c320b63ba918eff0/expr.png\" style=\"display:inline;vertical-align:middle;\" /></a></td></tr>\n",
       "<tr><td>28</td><td>Literal</td><td></td><td><a class=\"ProveItLink\" href=\"../../../../../numbers/ordering/__pv_it/common/02aff561bee7a3f97a38cab9c19dbc1e3070b9670/expr.ipynb\"><img src=\"../../../../../numbers/ordering/__pv_it/common/02aff561bee7a3f97a38cab9c19dbc1e3070b9670/expr.png\" style=\"display:inline;vertical-align:middle;\" /></a></td></tr>\n",
       "<tr><td>29</td><td>ExprTuple</td><td>31, 32</td><td><a class=\"ProveItLink\" href=\"../05a1ed7149bdab455b0537bd9baa8c6aae03294c0/expr.ipynb\"><img src=\"../05a1ed7149bdab455b0537bd9baa8c6aae03294c0/expr.png\" style=\"display:inline;vertical-align:middle;\" /></a></td></tr>\n",
       "<tr><td>30</td><td>Variable</td><td></td><td><a class=\"ProveItLink\" href=\"../../../../../__pv_it/common/ae955345c83abf786c3aff8681cd5465beae262d0/expr.ipynb\"><img src=\"../../../../../__pv_it/common/ae955345c83abf786c3aff8681cd5465beae262d0/expr.png\" style=\"display:inline;vertical-align:middle;\" /></a></td></tr>\n",
       "<tr><td>31</td><td>Variable</td><td></td><td><a class=\"ProveItLink\" href=\"../../../../../__pv_it/common/674a03b9c3ca221b3aabd5636837b31528ff33830/expr.ipynb\"><img src=\"../../../../../__pv_it/common/674a03b9c3ca221b3aabd5636837b31528ff33830/expr.png\" style=\"display:inline;vertical-align:middle;\" /></a></td></tr>\n",
       "<tr><td>32</td><td>Variable</td><td></td><td><a class=\"ProveItLink\" href=\"../../../../../__pv_it/common/8968bb04eb3f7dfa02353397ce929b025bbd79c20/expr.ipynb\"><img src=\"../../../../../__pv_it/common/8968bb04eb3f7dfa02353397ce929b025bbd79c20/expr.png\" style=\"display:inline;vertical-align:middle;\" /></a></td></tr>\n",
       "</table>\n"
      ],
      "text/plain": [
       "0. (v, Sum_{i=1}^{Min(m, n)} (lambda_{i} * (a_{i} otimes b_{i})))\n",
       "   core type: ExprTuple\n",
       "   sub-expressions: 1, 2\n",
       "1. v\n",
       "   core type: Variable\n",
       "   sub-expressions: \n",
       "2. Sum_{i=1}^{Min(m, n)} (lambda_{i} * (a_{i} otimes b_{i}))\n",
       "   core type: Operation\n",
       "   operator: 3\n",
       "   operand: 5\n",
       "3. Sum\n",
       "   core type: Literal\n",
       "   sub-expressions: \n",
       "4. (i -> {lambda_{i} * (a_{i} otimes b_{i}) if i in {1 .. Min(m, n)}.)\n",
       "   core type: ExprTuple\n",
       "   sub-expressions: 5\n",
       "5. i -> {lambda_{i} * (a_{i} otimes b_{i}) if i in {1 .. Min(m, n)}.\n",
       "   core type: Lambda\n",
       "   parameter: 30\n",
       "   body: 6\n",
       "6. {lambda_{i} * (a_{i} otimes b_{i}) if i in {1 .. Min(m, n)}.\n",
       "   core type: Conditional\n",
       "   value: 7\n",
       "   condition: 8\n",
       "7. lambda_{i} * (a_{i} otimes b_{i})\n",
       "   core type: Operation\n",
       "   operator: 9\n",
       "   operands: 10\n",
       "8. i in {1 .. Min(m, n)}\n",
       "   core type: Operation\n",
       "   operator: 11\n",
       "   operands: 12\n",
       "9. *\n",
       "   core type: Literal\n",
       "   sub-expressions: \n",
       "10. (lambda_{i}, a_{i} otimes b_{i})\n",
       "    core type: ExprTuple\n",
       "    sub-expressions: 13, 14\n",
       "11. in\n",
       "    core type: Literal\n",
       "    sub-expressions: \n",
       "12. (i, {1 .. Min(m, n)})\n",
       "    core type: ExprTuple\n",
       "    sub-expressions: 30, 15\n",
       "13. lambda_{i}\n",
       "    core type: IndexedVar\n",
       "variable: 16\n",
       "index: 30\n",
       "14. a_{i} otimes b_{i}\n",
       "    core type: Operation\n",
       "    operator: 17\n",
       "    operands: 18\n",
       "15. {1 .. Min(m, n)}\n",
       "    core type: Operation\n",
       "    operator: 19\n",
       "    operands: 20\n",
       "16. lambda\n",
       "    core type: Variable\n",
       "    sub-expressions: \n",
       "17. otimes\n",
       "    core type: Literal\n",
       "    sub-expressions: \n",
       "18. (a_{i}, b_{i})\n",
       "    core type: ExprTuple\n",
       "    sub-expressions: 21, 22\n",
       "19. Interval\n",
       "    core type: Literal\n",
       "    sub-expressions: \n",
       "20. (1, Min(m, n))\n",
       "    core type: ExprTuple\n",
       "    sub-expressions: 23, 24\n",
       "21. a_{i}\n",
       "    core type: IndexedVar\n",
       "variable: 25\n",
       "index: 30\n",
       "22. b_{i}\n",
       "    core type: IndexedVar\n",
       "variable: 26\n",
       "index: 30\n",
       "23. 1\n",
       "    core type: Literal\n",
       "    sub-expressions: \n",
       "24. Min(m, n)\n",
       "    core type: Operation\n",
       "    operator: 28\n",
       "    operands: 29\n",
       "25. a\n",
       "    core type: Variable\n",
       "    sub-expressions: \n",
       "26. b\n",
       "    core type: Variable\n",
       "    sub-expressions: \n",
       "27. (i)\n",
       "    core type: ExprTuple\n",
       "    sub-expressions: 30\n",
       "28. Min\n",
       "    core type: Literal\n",
       "    sub-expressions: \n",
       "29. (m, n)\n",
       "    core type: ExprTuple\n",
       "    sub-expressions: 31, 32\n",
       "30. i\n",
       "    core type: Variable\n",
       "    sub-expressions: \n",
       "31. m\n",
       "    core type: Variable\n",
       "    sub-expressions: \n",
       "32. n\n",
       "    core type: Variable\n",
       "    sub-expressions: "
      ]
     },
     "metadata": {},
     "output_type": "display_data"
    }
   ],
   "source": [
    "# display the expression information\n",
    "stored_expr.expr_info()"
   ]
  },
  {
   "cell_type": "code",
   "execution_count": null,
   "metadata": {},
   "outputs": [],
   "source": []
  }
 ],
 "metadata": {
  "kernelspec": {
   "display_name": "Python 3",
   "language": "python",
   "name": "python3"
  }
 },
 "nbformat": 4,
 "nbformat_minor": 0
}