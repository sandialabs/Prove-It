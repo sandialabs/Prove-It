{
 "cells": [
  {
   "cell_type": "markdown",
   "metadata": {},
   "source": [
    "Expression of type <a class=\"ProveItLink\" href=\"../../../../../../../doc/html/api/proveit.logic.Forall.html\">Forall</a>\n",
    "=======================\n",
    "# from the theory of <a class=\"ProveItLink\" href=\"../../../_theory_nbs_/theory.ipynb\">proveit.linear_algebra.inner_products</a>"
   ]
  },
  {
   "cell_type": "code",
   "execution_count": 1,
   "metadata": {},
   "outputs": [],
   "source": [
    "import proveit\n",
    "# Automation is not needed when building an expression:\n",
    "proveit.defaults.automation = False # This will speed things up.\n",
    "proveit.defaults.inline_pngs = False # Makes files smaller.\n",
    "%load_expr # Load the stored expression as 'stored_expr'\n",
    "# import Expression classes needed to build the expression\n",
    "from proveit import H, K, a, x, y\n",
    "from proveit.linear_algebra import InnerProd, InnerProdSpaces, ScalarMult\n",
    "from proveit.logic import Equals, Forall"
   ]
  },
  {
   "cell_type": "code",
   "execution_count": 2,
   "metadata": {},
   "outputs": [
    {
     "data": {
      "text/html": [
       "<strong id=\"expr\">expr:</strong> <a class=\"ProveItLink\" href=\"expr.ipynb\"><img src=\"expr.png\" style=\"display:inline;vertical-align:middle;\" /></a><br>"
      ],
      "text/plain": [
       "<IPython.core.display.HTML object>"
      ]
     },
     "metadata": {},
     "output_type": "display_data"
    }
   ],
   "source": [
    "# build up the expression from sub-expressions\n",
    "expr = Forall(instance_param_or_params = [H], instance_expr = Forall(instance_param_or_params = [a], instance_expr = Forall(instance_param_or_params = [x, y], instance_expr = Equals(InnerProd(ScalarMult(a, x), y), ScalarMult(a, InnerProd(x, y))), domain = H), domain = K), domain = InnerProdSpaces(K))"
   ]
  },
  {
   "cell_type": "code",
   "execution_count": 3,
   "metadata": {},
   "outputs": [
    {
     "name": "stdout",
     "output_type": "stream",
     "text": [
      "Passed sanity check: expr matches stored_expr\n"
     ]
    }
   ],
   "source": [
    "# check that the built expression is the same as the stored expression\n",
    "assert expr == stored_expr\n",
    "assert expr._style_id == stored_expr._style_id\n",
    "print(\"Passed sanity check: expr matches stored_expr\")"
   ]
  },
  {
   "cell_type": "code",
   "execution_count": 4,
   "metadata": {},
   "outputs": [
    {
     "name": "stdout",
     "output_type": "stream",
     "text": [
      "\\forall_{H \\underset{{\\scriptscriptstyle c}}{\\in} \\textrm{InnerProdSpaces}\\left(K\\right)}~\\left[\\forall_{a \\in K}~\\left[\\forall_{x, y \\in H}~\\left(\\left \\langle a \\cdot x, y\\right \\rangle = \\left(a \\cdot \\left \\langle x, y\\right \\rangle\\right)\\right)\\right]\\right]\n"
     ]
    }
   ],
   "source": [
    "# Show the LaTeX representation of the expression for convenience if you need it.\n",
    "print(stored_expr.latex())"
   ]
  },
  {
   "cell_type": "code",
   "execution_count": 5,
   "metadata": {},
   "outputs": [
    {
     "data": {
      "text/html": [
       "<table>\n",
       "<tr><th>name</th><th>description</th><th>default</th><th>current value</th><th>related methods</th></tr><tr><td>with_wrapping</td><td>If 'True', wrap the Expression after the parameters</td><td>None</td><td>None/False</td><td>('with_wrapping',)</td></tr>\n",
       "<tr><td>condition_wrapping</td><td>Wrap 'before' or 'after' the condition (or None).</td><td>None</td><td>None/False</td><td>('with_wrap_after_condition', 'with_wrap_before_condition')</td></tr>\n",
       "<tr><td>wrap_params</td><td>If 'True', wraps every two parameters AND wraps the Expression after the parameters</td><td>None</td><td>None/False</td><td>('with_params',)</td></tr>\n",
       "<tr><td>justification</td><td>justify to the 'left', 'center', or 'right' in the array cells</td><td>center</td><td>center</td><td>('with_justification',)</td></tr>\n",
       "</table>\n"
      ],
      "text/plain": [
       "style name: with_wrapping\n",
       "description: If 'True', wrap the Expression after the parameters\n",
       "default: None\n",
       "current value: None/False\n",
       "related methods: ('with_wrapping',)\n",
       "style name: condition_wrapping\n",
       "description: Wrap 'before' or 'after' the condition (or None).\n",
       "default: None\n",
       "current value: None/False\n",
       "related methods: ('with_wrap_after_condition', 'with_wrap_before_condition')\n",
       "style name: wrap_params\n",
       "description: If 'True', wraps every two parameters AND wraps the Expression after the parameters\n",
       "default: None\n",
       "current value: None/False\n",
       "related methods: ('with_params',)\n",
       "style name: justification\n",
       "description: justify to the 'left', 'center', or 'right' in the array cells\n",
       "default: center\n",
       "current value: center\n",
       "related methods: ('with_justification',)"
      ]
     },
     "metadata": {},
     "output_type": "display_data"
    }
   ],
   "source": [
    "stored_expr.style_options()"
   ]
  },
  {
   "cell_type": "code",
   "execution_count": 6,
   "metadata": {},
   "outputs": [
    {
     "data": {
      "text/html": [
       "<table><tr><th>&nbsp;</th><th>core type</th><th>sub-expressions</th><th>expression</th></tr>\n",
       "<tr><td>0</td><td>Operation</td><td>operator:&nbsp;18<br>operand:&nbsp;2<br></td><td><a class=\"ProveItLink\" href=\"expr.ipynb\"><img src=\"expr.png\" style=\"display:inline;vertical-align:middle;\" /></a></td></tr>\n",
       "<tr><td>1</td><td>ExprTuple</td><td>2</td><td><a class=\"ProveItLink\" href=\"../99dfec511b3f4d4b270414b7f1c5c0d77768ddf60/expr.ipynb\"><img src=\"../99dfec511b3f4d4b270414b7f1c5c0d77768ddf60/expr.png\" style=\"display:inline;vertical-align:middle;\" /></a></td></tr>\n",
       "<tr><td>2</td><td>Lambda</td><td>parameter:&nbsp;41<br>body:&nbsp;4<br></td><td><a class=\"ProveItLink\" href=\"../8652a294145b25c8312a002b7fc08485c10177870/expr.ipynb\"><img src=\"../8652a294145b25c8312a002b7fc08485c10177870/expr.png\" style=\"display:inline;vertical-align:middle;\" /></a></td></tr>\n",
       "<tr><td>3</td><td>ExprTuple</td><td>41</td><td><a class=\"ProveItLink\" href=\"../3214f6d50d9b000d7aac6b69fe8e45c58e2207b10/expr.ipynb\"><img src=\"../3214f6d50d9b000d7aac6b69fe8e45c58e2207b10/expr.png\" style=\"display:inline;vertical-align:middle;\" /></a></td></tr>\n",
       "<tr><td>4</td><td>Conditional</td><td>value:&nbsp;5<br>condition:&nbsp;6<br></td><td><a class=\"ProveItLink\" href=\"../3516a28be32601d4dd6d05f7dd010fc3761691190/expr.ipynb\"><img src=\"../3516a28be32601d4dd6d05f7dd010fc3761691190/expr.png\" style=\"display:inline;vertical-align:middle;\" /></a></td></tr>\n",
       "<tr><td>5</td><td>Operation</td><td>operator:&nbsp;18<br>operand:&nbsp;10<br></td><td><a class=\"ProveItLink\" href=\"../bb11fce4d5bf5efdd37cf4fb693da1309c8cb1b40/expr.ipynb\"><img src=\"../bb11fce4d5bf5efdd37cf4fb693da1309c8cb1b40/expr.png\" style=\"display:inline;vertical-align:middle;\" /></a></td></tr>\n",
       "<tr><td>6</td><td>Operation</td><td>operator:&nbsp;8<br>operands:&nbsp;9<br></td><td><a class=\"ProveItLink\" href=\"../cffb7c2eee228de9f7655ce57f1d731b5f8148710/expr.ipynb\"><img src=\"../cffb7c2eee228de9f7655ce57f1d731b5f8148710/expr.png\" style=\"display:inline;vertical-align:middle;\" /></a></td></tr>\n",
       "<tr><td>7</td><td>ExprTuple</td><td>10</td><td><a class=\"ProveItLink\" href=\"../93bebeefbfc8248d49733fa44c771ea2d40ae1bd0/expr.ipynb\"><img src=\"../93bebeefbfc8248d49733fa44c771ea2d40ae1bd0/expr.png\" style=\"display:inline;vertical-align:middle;\" /></a></td></tr>\n",
       "<tr><td>8</td><td>Literal</td><td></td><td><a class=\"ProveItLink\" href=\"../../../../../logic/classes/membership/__pv_it/common/e3b437d28fbe17f0a50c9789c7c9b47a1270f1420/expr.ipynb\"><img src=\"../../../../../logic/classes/membership/__pv_it/common/e3b437d28fbe17f0a50c9789c7c9b47a1270f1420/expr.png\" style=\"display:inline;vertical-align:middle;\" /></a></td></tr>\n",
       "<tr><td>9</td><td>ExprTuple</td><td>41, 11</td><td><a class=\"ProveItLink\" href=\"../d642dab1ed63813669c75fbb82dc8c33eb563b360/expr.ipynb\"><img src=\"../d642dab1ed63813669c75fbb82dc8c33eb563b360/expr.png\" style=\"display:inline;vertical-align:middle;\" /></a></td></tr>\n",
       "<tr><td>10</td><td>Lambda</td><td>parameter:&nbsp;46<br>body:&nbsp;13<br></td><td><a class=\"ProveItLink\" href=\"../e0cbfc8791b4fd5cc347534a05adde5db10881d40/expr.ipynb\"><img src=\"../e0cbfc8791b4fd5cc347534a05adde5db10881d40/expr.png\" style=\"display:inline;vertical-align:middle;\" /></a></td></tr>\n",
       "<tr><td>11</td><td>Operation</td><td>operator:&nbsp;14<br>operand:&nbsp;22<br></td><td><a class=\"ProveItLink\" href=\"../011f81088f83ec65cda9a891728400f0a0c30f920/expr.ipynb\"><img src=\"../011f81088f83ec65cda9a891728400f0a0c30f920/expr.png\" style=\"display:inline;vertical-align:middle;\" /></a></td></tr>\n",
       "<tr><td>12</td><td>ExprTuple</td><td>46</td><td><a class=\"ProveItLink\" href=\"../034703c6972b772d60786b3024fb4de33deb9fd00/expr.ipynb\"><img src=\"../034703c6972b772d60786b3024fb4de33deb9fd00/expr.png\" style=\"display:inline;vertical-align:middle;\" /></a></td></tr>\n",
       "<tr><td>13</td><td>Conditional</td><td>value:&nbsp;16<br>condition:&nbsp;17<br></td><td><a class=\"ProveItLink\" href=\"../d977fab7884180c96240ad3187324215aa7187af0/expr.ipynb\"><img src=\"../d977fab7884180c96240ad3187324215aa7187af0/expr.png\" style=\"display:inline;vertical-align:middle;\" /></a></td></tr>\n",
       "<tr><td>14</td><td>Literal</td><td></td><td><a class=\"ProveItLink\" href=\"../../common/97dce8f33694d8d827400c818f103930399de7dc0/expr.ipynb\"><img src=\"../../common/97dce8f33694d8d827400c818f103930399de7dc0/expr.png\" style=\"display:inline;vertical-align:middle;\" /></a></td></tr>\n",
       "<tr><td>15</td><td>ExprTuple</td><td>22</td><td><a class=\"ProveItLink\" href=\"../dfa81a569aedd40943c42f533e78bc2f073711130/expr.ipynb\"><img src=\"../dfa81a569aedd40943c42f533e78bc2f073711130/expr.png\" style=\"display:inline;vertical-align:middle;\" /></a></td></tr>\n",
       "<tr><td>16</td><td>Operation</td><td>operator:&nbsp;18<br>operand:&nbsp;21<br></td><td><a class=\"ProveItLink\" href=\"../5f90010918b3173726ab4a3c62492fafd63259cb0/expr.ipynb\"><img src=\"../5f90010918b3173726ab4a3c62492fafd63259cb0/expr.png\" style=\"display:inline;vertical-align:middle;\" /></a></td></tr>\n",
       "<tr><td>17</td><td>Operation</td><td>operator:&nbsp;37<br>operands:&nbsp;20<br></td><td><a class=\"ProveItLink\" href=\"../c4a4f07f387dc6aa4911aef3f3a862f71e2f5dff0/expr.ipynb\"><img src=\"../c4a4f07f387dc6aa4911aef3f3a862f71e2f5dff0/expr.png\" style=\"display:inline;vertical-align:middle;\" /></a></td></tr>\n",
       "<tr><td>18</td><td>Literal</td><td></td><td><a class=\"ProveItLink\" href=\"../../../../../logic/booleans/quantification/universality/__pv_it/common/083d2baa0b8ecab1d230f9ec29a15aa1355809fb0/expr.ipynb\"><img src=\"../../../../../logic/booleans/quantification/universality/__pv_it/common/083d2baa0b8ecab1d230f9ec29a15aa1355809fb0/expr.png\" style=\"display:inline;vertical-align:middle;\" /></a></td></tr>\n",
       "<tr><td>19</td><td>ExprTuple</td><td>21</td><td><a class=\"ProveItLink\" href=\"../b90c681680b6c8ea6ebd8177453f9bf95c8e40ce0/expr.ipynb\"><img src=\"../b90c681680b6c8ea6ebd8177453f9bf95c8e40ce0/expr.png\" style=\"display:inline;vertical-align:middle;\" /></a></td></tr>\n",
       "<tr><td>20</td><td>ExprTuple</td><td>46, 22</td><td><a class=\"ProveItLink\" href=\"../e54a7b716df7aab9959e416978e0d39dced78c0a0/expr.ipynb\"><img src=\"../e54a7b716df7aab9959e416978e0d39dced78c0a0/expr.png\" style=\"display:inline;vertical-align:middle;\" /></a></td></tr>\n",
       "<tr><td>21</td><td>Lambda</td><td>parameters:&nbsp;45<br>body:&nbsp;23<br></td><td><a class=\"ProveItLink\" href=\"../b871100a3ab7ef6e3a86499ecb647ec58ffcd80a0/expr.ipynb\"><img src=\"../b871100a3ab7ef6e3a86499ecb647ec58ffcd80a0/expr.png\" style=\"display:inline;vertical-align:middle;\" /></a></td></tr>\n",
       "<tr><td>22</td><td>Variable</td><td></td><td><a class=\"ProveItLink\" href=\"../../../../../__pv_it/common/1f2ffac7a1dc7c1a4f1fc7348356ae64ea992c790/expr.ipynb\"><img src=\"../../../../../__pv_it/common/1f2ffac7a1dc7c1a4f1fc7348356ae64ea992c790/expr.png\" style=\"display:inline;vertical-align:middle;\" /></a></td></tr>\n",
       "<tr><td>23</td><td>Conditional</td><td>value:&nbsp;24<br>condition:&nbsp;25<br></td><td><a class=\"ProveItLink\" href=\"../f5f89e7481cfe7d13cd38bf0a941a176a0f8b5890/expr.ipynb\"><img src=\"../f5f89e7481cfe7d13cd38bf0a941a176a0f8b5890/expr.png\" style=\"display:inline;vertical-align:middle;\" /></a></td></tr>\n",
       "<tr><td>24</td><td>Operation</td><td>operator:&nbsp;26<br>operands:&nbsp;27<br></td><td><a class=\"ProveItLink\" href=\"../a4abc4cc91252928273737ebf9ca64587e6153cd0/expr.ipynb\"><img src=\"../a4abc4cc91252928273737ebf9ca64587e6153cd0/expr.png\" style=\"display:inline;vertical-align:middle;\" /></a></td></tr>\n",
       "<tr><td>25</td><td>Operation</td><td>operator:&nbsp;28<br>operands:&nbsp;29<br></td><td><a class=\"ProveItLink\" href=\"../a80101b6cb54acabdcd6d9024c4f55942db5eda70/expr.ipynb\"><img src=\"../a80101b6cb54acabdcd6d9024c4f55942db5eda70/expr.png\" style=\"display:inline;vertical-align:middle;\" /></a></td></tr>\n",
       "<tr><td>26</td><td>Literal</td><td></td><td><a class=\"ProveItLink\" href=\"../../../../../logic/equality/__pv_it/common/fb96dc12b2aa8801dda64d0132b396c63d1502bb0/expr.ipynb\"><img src=\"../../../../../logic/equality/__pv_it/common/fb96dc12b2aa8801dda64d0132b396c63d1502bb0/expr.png\" style=\"display:inline;vertical-align:middle;\" /></a></td></tr>\n",
       "<tr><td>27</td><td>ExprTuple</td><td>30, 31</td><td><a class=\"ProveItLink\" href=\"../3014e4c5f7c8a91e91b4bd247a8aec3039738f6f0/expr.ipynb\"><img src=\"../3014e4c5f7c8a91e91b4bd247a8aec3039738f6f0/expr.png\" style=\"display:inline;vertical-align:middle;\" /></a></td></tr>\n",
       "<tr><td>28</td><td>Literal</td><td></td><td><a class=\"ProveItLink\" href=\"../../../../../logic/booleans/conjunction/__pv_it/common/42118ff318bd65d98b1393f64ce7c2269feef76e0/expr.ipynb\"><img src=\"../../../../../logic/booleans/conjunction/__pv_it/common/42118ff318bd65d98b1393f64ce7c2269feef76e0/expr.png\" style=\"display:inline;vertical-align:middle;\" /></a></td></tr>\n",
       "<tr><td>29</td><td>ExprTuple</td><td>32, 33</td><td><a class=\"ProveItLink\" href=\"../57b2c90bc0aee7e9dfd4a1f4cfce956724e5868c0/expr.ipynb\"><img src=\"../57b2c90bc0aee7e9dfd4a1f4cfce956724e5868c0/expr.png\" style=\"display:inline;vertical-align:middle;\" /></a></td></tr>\n",
       "<tr><td>30</td><td>Operation</td><td>operator:&nbsp;44<br>operands:&nbsp;34<br></td><td><a class=\"ProveItLink\" href=\"../10ea873074780ba5905a9c9125dd1a479cfa2ce10/expr.ipynb\"><img src=\"../10ea873074780ba5905a9c9125dd1a479cfa2ce10/expr.png\" style=\"display:inline;vertical-align:middle;\" /></a></td></tr>\n",
       "<tr><td>31</td><td>Operation</td><td>operator:&nbsp;42<br>operands:&nbsp;35<br></td><td><a class=\"ProveItLink\" href=\"../d8be5d832cdeeda891eef2e1a7e8a52c5a0ecf0a0/expr.ipynb\"><img src=\"../d8be5d832cdeeda891eef2e1a7e8a52c5a0ecf0a0/expr.png\" style=\"display:inline;vertical-align:middle;\" /></a></td></tr>\n",
       "<tr><td>32</td><td>Operation</td><td>operator:&nbsp;37<br>operands:&nbsp;36<br></td><td><a class=\"ProveItLink\" href=\"../752c2d785f966bf6d0dd21131a494bf14b1974510/expr.ipynb\"><img src=\"../752c2d785f966bf6d0dd21131a494bf14b1974510/expr.png\" style=\"display:inline;vertical-align:middle;\" /></a></td></tr>\n",
       "<tr><td>33</td><td>Operation</td><td>operator:&nbsp;37<br>operands:&nbsp;38<br></td><td><a class=\"ProveItLink\" href=\"../01d1802f9f087bb7916de057ea20d6d4dbbb90c80/expr.ipynb\"><img src=\"../01d1802f9f087bb7916de057ea20d6d4dbbb90c80/expr.png\" style=\"display:inline;vertical-align:middle;\" /></a></td></tr>\n",
       "<tr><td>34</td><td>ExprTuple</td><td>39, 48</td><td><a class=\"ProveItLink\" href=\"../7f18a0025f4276e161f4029bd9b3b095ab54ed6f0/expr.ipynb\"><img src=\"../7f18a0025f4276e161f4029bd9b3b095ab54ed6f0/expr.png\" style=\"display:inline;vertical-align:middle;\" /></a></td></tr>\n",
       "<tr><td>35</td><td>ExprTuple</td><td>46, 40</td><td><a class=\"ProveItLink\" href=\"../bcb681bccfc22e42113b942493f13b6bd81a745d0/expr.ipynb\"><img src=\"../bcb681bccfc22e42113b942493f13b6bd81a745d0/expr.png\" style=\"display:inline;vertical-align:middle;\" /></a></td></tr>\n",
       "<tr><td>36</td><td>ExprTuple</td><td>47, 41</td><td><a class=\"ProveItLink\" href=\"../a8eb363c5254eeb022e1a465b1c28e7ca2de55a30/expr.ipynb\"><img src=\"../a8eb363c5254eeb022e1a465b1c28e7ca2de55a30/expr.png\" style=\"display:inline;vertical-align:middle;\" /></a></td></tr>\n",
       "<tr><td>37</td><td>Literal</td><td></td><td><a class=\"ProveItLink\" href=\"../../../../../logic/sets/membership/__pv_it/common/477487d8796864d23d5810f83761435f25167f690/expr.ipynb\"><img src=\"../../../../../logic/sets/membership/__pv_it/common/477487d8796864d23d5810f83761435f25167f690/expr.png\" style=\"display:inline;vertical-align:middle;\" /></a></td></tr>\n",
       "<tr><td>38</td><td>ExprTuple</td><td>48, 41</td><td><a class=\"ProveItLink\" href=\"../e3a3e72fb27ba14b2c1fbfbb1e16d90be2b91e730/expr.ipynb\"><img src=\"../e3a3e72fb27ba14b2c1fbfbb1e16d90be2b91e730/expr.png\" style=\"display:inline;vertical-align:middle;\" /></a></td></tr>\n",
       "<tr><td>39</td><td>Operation</td><td>operator:&nbsp;42<br>operands:&nbsp;43<br></td><td><a class=\"ProveItLink\" href=\"../f7c19353109276f2a24eaa7d81b6f1e91281034b0/expr.ipynb\"><img src=\"../f7c19353109276f2a24eaa7d81b6f1e91281034b0/expr.png\" style=\"display:inline;vertical-align:middle;\" /></a></td></tr>\n",
       "<tr><td>40</td><td>Operation</td><td>operator:&nbsp;44<br>operands:&nbsp;45<br></td><td><a class=\"ProveItLink\" href=\"../626d2c12ed5d7ede99f56ae5a015b28ef847fbd10/expr.ipynb\"><img src=\"../626d2c12ed5d7ede99f56ae5a015b28ef847fbd10/expr.png\" style=\"display:inline;vertical-align:middle;\" /></a></td></tr>\n",
       "<tr><td>41</td><td>Variable</td><td></td><td><a class=\"ProveItLink\" href=\"../../../../../__pv_it/common/db1921da064725c141f453bae2d02f0bb2333a8a0/expr.ipynb\"><img src=\"../../../../../__pv_it/common/db1921da064725c141f453bae2d02f0bb2333a8a0/expr.png\" style=\"display:inline;vertical-align:middle;\" /></a></td></tr>\n",
       "<tr><td>42</td><td>Literal</td><td></td><td><a class=\"ProveItLink\" href=\"../../../../scalar_multiplication/__pv_it/common/1e364bd471e6a29fcd358dd2d9cd990a1e6fedd40/expr.ipynb\"><img src=\"../../../../scalar_multiplication/__pv_it/common/1e364bd471e6a29fcd358dd2d9cd990a1e6fedd40/expr.png\" style=\"display:inline;vertical-align:middle;\" /></a></td></tr>\n",
       "<tr><td>43</td><td>ExprTuple</td><td>46, 47</td><td><a class=\"ProveItLink\" href=\"../16542dff4296b36f053bf5d488afb46dffba9b230/expr.ipynb\"><img src=\"../16542dff4296b36f053bf5d488afb46dffba9b230/expr.png\" style=\"display:inline;vertical-align:middle;\" /></a></td></tr>\n",
       "<tr><td>44</td><td>Literal</td><td></td><td><a class=\"ProveItLink\" href=\"../../common/3c2fb0727e51ccc44869d1fd03bc36b5f019b5010/expr.ipynb\"><img src=\"../../common/3c2fb0727e51ccc44869d1fd03bc36b5f019b5010/expr.png\" style=\"display:inline;vertical-align:middle;\" /></a></td></tr>\n",
       "<tr><td>45</td><td>ExprTuple</td><td>47, 48</td><td><a class=\"ProveItLink\" href=\"../bbaa48af4605eceb7fbc4af345a1eb6de480e1c50/expr.ipynb\"><img src=\"../bbaa48af4605eceb7fbc4af345a1eb6de480e1c50/expr.png\" style=\"display:inline;vertical-align:middle;\" /></a></td></tr>\n",
       "<tr><td>46</td><td>Variable</td><td></td><td><a class=\"ProveItLink\" href=\"../../../../../__pv_it/common/c06c606ec12678c58933ac85412ecadc2ae28be60/expr.ipynb\"><img src=\"../../../../../__pv_it/common/c06c606ec12678c58933ac85412ecadc2ae28be60/expr.png\" style=\"display:inline;vertical-align:middle;\" /></a></td></tr>\n",
       "<tr><td>47</td><td>Variable</td><td></td><td><a class=\"ProveItLink\" href=\"../../../../../__pv_it/common/a0d9d672aa5e272d907247690c152cc2c6daafb70/expr.ipynb\"><img src=\"../../../../../__pv_it/common/a0d9d672aa5e272d907247690c152cc2c6daafb70/expr.png\" style=\"display:inline;vertical-align:middle;\" /></a></td></tr>\n",
       "<tr><td>48</td><td>Variable</td><td></td><td><a class=\"ProveItLink\" href=\"../../../../../__pv_it/common/ff7dba4ef0bbe791ab573bf2d9c220a304399ac80/expr.ipynb\"><img src=\"../../../../../__pv_it/common/ff7dba4ef0bbe791ab573bf2d9c220a304399ac80/expr.png\" style=\"display:inline;vertical-align:middle;\" /></a></td></tr>\n",
       "</table>\n"
      ],
      "text/plain": [
       "0. forall_{H in_c InnerProdSpaces(K)} [forall_{a in K} [forall_{x, y in H} (<a * x, y> = (a * <x, y>))]]\n",
       "   core type: Operation\n",
       "   operator: 18\n",
       "   operand: 2\n",
       "1. (H -> {forall_{a in K} [forall_{x, y in H} (<a * x, y> = (a * <x, y>))] if H in_c InnerProdSpaces(K).)\n",
       "   core type: ExprTuple\n",
       "   sub-expressions: 2\n",
       "2. H -> {forall_{a in K} [forall_{x, y in H} (<a * x, y> = (a * <x, y>))] if H in_c InnerProdSpaces(K).\n",
       "   core type: Lambda\n",
       "   parameter: 41\n",
       "   body: 4\n",
       "3. (H)\n",
       "   core type: ExprTuple\n",
       "   sub-expressions: 41\n",
       "4. {forall_{a in K} [forall_{x, y in H} (<a * x, y> = (a * <x, y>))] if H in_c InnerProdSpaces(K).\n",
       "   core type: Conditional\n",
       "   value: 5\n",
       "   condition: 6\n",
       "5. forall_{a in K} [forall_{x, y in H} (<a * x, y> = (a * <x, y>))]\n",
       "   core type: Operation\n",
       "   operator: 18\n",
       "   operand: 10\n",
       "6. H in_c InnerProdSpaces(K)\n",
       "   core type: Operation\n",
       "   operator: 8\n",
       "   operands: 9\n",
       "7. (a -> {forall_{x, y in H} (<a * x, y> = (a * <x, y>)) if a in K.)\n",
       "   core type: ExprTuple\n",
       "   sub-expressions: 10\n",
       "8. in_c\n",
       "   core type: Literal\n",
       "   sub-expressions: \n",
       "9. (H, InnerProdSpaces(K))\n",
       "   core type: ExprTuple\n",
       "   sub-expressions: 41, 11\n",
       "10. a -> {forall_{x, y in H} (<a * x, y> = (a * <x, y>)) if a in K.\n",
       "    core type: Lambda\n",
       "    parameter: 46\n",
       "    body: 13\n",
       "11. InnerProdSpaces(K)\n",
       "    core type: Operation\n",
       "    operator: 14\n",
       "    operand: 22\n",
       "12. (a)\n",
       "    core type: ExprTuple\n",
       "    sub-expressions: 46\n",
       "13. {forall_{x, y in H} (<a * x, y> = (a * <x, y>)) if a in K.\n",
       "    core type: Conditional\n",
       "    value: 16\n",
       "    condition: 17\n",
       "14. InnerProdSpaces\n",
       "    core type: Literal\n",
       "    sub-expressions: \n",
       "15. (K)\n",
       "    core type: ExprTuple\n",
       "    sub-expressions: 22\n",
       "16. forall_{x, y in H} (<a * x, y> = (a * <x, y>))\n",
       "    core type: Operation\n",
       "    operator: 18\n",
       "    operand: 21\n",
       "17. a in K\n",
       "    core type: Operation\n",
       "    operator: 37\n",
       "    operands: 20\n",
       "18. forall\n",
       "    core type: Literal\n",
       "    sub-expressions: \n",
       "19. ((x, y) -> {<a * x, y> = (a * <x, y>) if x in H ,  y in H.)\n",
       "    core type: ExprTuple\n",
       "    sub-expressions: 21\n",
       "20. (a, K)\n",
       "    core type: ExprTuple\n",
       "    sub-expressions: 46, 22\n",
       "21. (x, y) -> {<a * x, y> = (a * <x, y>) if x in H ,  y in H.\n",
       "    core type: Lambda\n",
       "    parameters: 45\\n    body: 23\n",
       "22. K\n",
       "    core type: Variable\n",
       "    sub-expressions: \n",
       "23. {<a * x, y> = (a * <x, y>) if x in H ,  y in H.\n",
       "    core type: Conditional\n",
       "    value: 24\n",
       "    condition: 25\n",
       "24. <a * x, y> = (a * <x, y>)\n",
       "    core type: Operation\n",
       "    operator: 26\n",
       "    operands: 27\n",
       "25. (x in H) and (y in H)\n",
       "    core type: Operation\n",
       "    operator: 28\n",
       "    operands: 29\n",
       "26. =\n",
       "    core type: Literal\n",
       "    sub-expressions: \n",
       "27. (<a * x, y>, a * <x, y>)\n",
       "    core type: ExprTuple\n",
       "    sub-expressions: 30, 31\n",
       "28. and\n",
       "    core type: Literal\n",
       "    sub-expressions: \n",
       "29. (x in H, y in H)\n",
       "    core type: ExprTuple\n",
       "    sub-expressions: 32, 33\n",
       "30. <a * x, y>\n",
       "    core type: Operation\n",
       "    operator: 44\n",
       "    operands: 34\n",
       "31. a * <x, y>\n",
       "    core type: Operation\n",
       "    operator: 42\n",
       "    operands: 35\n",
       "32. x in H\n",
       "    core type: Operation\n",
       "    operator: 37\n",
       "    operands: 36\n",
       "33. y in H\n",
       "    core type: Operation\n",
       "    operator: 37\n",
       "    operands: 38\n",
       "34. (a * x, y)\n",
       "    core type: ExprTuple\n",
       "    sub-expressions: 39, 48\n",
       "35. (a, <x, y>)\n",
       "    core type: ExprTuple\n",
       "    sub-expressions: 46, 40\n",
       "36. (x, H)\n",
       "    core type: ExprTuple\n",
       "    sub-expressions: 47, 41\n",
       "37. in\n",
       "    core type: Literal\n",
       "    sub-expressions: \n",
       "38. (y, H)\n",
       "    core type: ExprTuple\n",
       "    sub-expressions: 48, 41\n",
       "39. a * x\n",
       "    core type: Operation\n",
       "    operator: 42\n",
       "    operands: 43\n",
       "40. <x, y>\n",
       "    core type: Operation\n",
       "    operator: 44\n",
       "    operands: 45\n",
       "41. H\n",
       "    core type: Variable\n",
       "    sub-expressions: \n",
       "42. *\n",
       "    core type: Literal\n",
       "    sub-expressions: \n",
       "43. (a, x)\n",
       "    core type: ExprTuple\n",
       "    sub-expressions: 46, 47\n",
       "44. InnerProd\n",
       "    core type: Literal\n",
       "    sub-expressions: \n",
       "45. (x, y)\n",
       "    core type: ExprTuple\n",
       "    sub-expressions: 47, 48\n",
       "46. a\n",
       "    core type: Variable\n",
       "    sub-expressions: \n",
       "47. x\n",
       "    core type: Variable\n",
       "    sub-expressions: \n",
       "48. y\n",
       "    core type: Variable\n",
       "    sub-expressions: "
      ]
     },
     "metadata": {},
     "output_type": "display_data"
    }
   ],
   "source": [
    "# display the expression information\n",
    "stored_expr.expr_info()"
   ]
  },
  {
   "cell_type": "code",
   "execution_count": null,
   "metadata": {},
   "outputs": [],
   "source": []
  }
 ],
 "metadata": {
  "kernelspec": {
   "display_name": "Python 3",
   "language": "python",
   "name": "python3"
  }
 },
 "nbformat": 4,
 "nbformat_minor": 0
}