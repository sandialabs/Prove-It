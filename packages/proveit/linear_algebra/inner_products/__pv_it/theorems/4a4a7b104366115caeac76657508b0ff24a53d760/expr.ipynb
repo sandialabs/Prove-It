{
 "cells": [
  {
   "cell_type": "markdown",
   "metadata": {},
   "source": [
    "Expression of type <a class=\"ProveItLink\" href=\"../../../../../../../doc/html/api/proveit.Lambda.html\">Lambda</a>\n",
    "=======================\n",
    "# from the theory of <a class=\"ProveItLink\" href=\"../../../_theory_nbs_/theory.ipynb\">proveit.linear_algebra.inner_products</a>"
   ]
  },
  {
   "cell_type": "code",
   "execution_count": 1,
   "metadata": {},
   "outputs": [],
   "source": [
    "import proveit\n",
    "# Automation is not needed when building an expression:\n",
    "proveit.defaults.automation = False # This will speed things up.\n",
    "proveit.defaults.inline_pngs = False # Makes files smaller.\n",
    "%load_expr # Load the stored expression as 'stored_expr'\n",
    "# import Expression classes needed to build the expression\n",
    "from proveit import Conditional, H, Lambda, v, w\n",
    "from proveit.linear_algebra import InnerProd, Norm\n",
    "from proveit.logic import And, InSet\n",
    "from proveit.numbers import Exp, LessEq, Mult, two"
   ]
  },
  {
   "cell_type": "code",
   "execution_count": 2,
   "metadata": {},
   "outputs": [
    {
     "data": {
      "text/html": [
       "<strong id=\"expr\">expr:</strong> <a class=\"ProveItLink\" href=\"expr.ipynb\"><img src=\"expr.png\" style=\"display:inline;vertical-align:middle;\" /></a><br>"
      ],
      "text/plain": [
       "<IPython.core.display.HTML object>"
      ]
     },
     "metadata": {},
     "output_type": "display_data"
    }
   ],
   "source": [
    "# build up the expression from sub-expressions\n",
    "expr = Lambda([v, w], Conditional(LessEq(Exp(Norm(InnerProd(v, w)), two), Mult(InnerProd(v, v), InnerProd(w, w))), And(InSet(v, H), InSet(w, H))))"
   ]
  },
  {
   "cell_type": "code",
   "execution_count": 3,
   "metadata": {},
   "outputs": [
    {
     "name": "stdout",
     "output_type": "stream",
     "text": [
      "Passed sanity check: expr matches stored_expr\n"
     ]
    }
   ],
   "source": [
    "# check that the built expression is the same as the stored expression\n",
    "assert expr == stored_expr\n",
    "assert expr._style_id == stored_expr._style_id\n",
    "print(\"Passed sanity check: expr matches stored_expr\")"
   ]
  },
  {
   "cell_type": "code",
   "execution_count": 4,
   "metadata": {},
   "outputs": [
    {
     "name": "stdout",
     "output_type": "stream",
     "text": [
      "\\left(v, w\\right) \\mapsto \\left\\{\\left \\|\\left \\langle v, w\\right \\rangle\\right \\|^{2} \\leq \\left(\\left \\langle v, v\\right \\rangle \\cdot \\left \\langle w, w\\right \\rangle\\right) \\textrm{ if } v \\in H ,  w \\in H\\right..\n"
     ]
    }
   ],
   "source": [
    "# Show the LaTeX representation of the expression for convenience if you need it.\n",
    "print(stored_expr.latex())"
   ]
  },
  {
   "cell_type": "code",
   "execution_count": 5,
   "metadata": {},
   "outputs": [
    {
     "data": {
      "text/html": [
       "no style options"
      ],
      "text/plain": [
       "no style options"
      ]
     },
     "metadata": {},
     "output_type": "display_data"
    }
   ],
   "source": [
    "stored_expr.style_options()"
   ]
  },
  {
   "cell_type": "code",
   "execution_count": 6,
   "metadata": {},
   "outputs": [
    {
     "data": {
      "text/html": [
       "<table><tr><th>&nbsp;</th><th>core type</th><th>sub-expressions</th><th>expression</th></tr>\n",
       "<tr><td>0</td><td>Lambda</td><td>parameters:&nbsp;30<br>body:&nbsp;1<br></td><td><a class=\"ProveItLink\" href=\"expr.ipynb\"><img src=\"expr.png\" style=\"display:inline;vertical-align:middle;\" /></a></td></tr>\n",
       "<tr><td>1</td><td>Conditional</td><td>value:&nbsp;2<br>condition:&nbsp;3<br></td><td><a class=\"ProveItLink\" href=\"../a95758198cde460fcb521e1f7eda1e84054405230/expr.ipynb\"><img src=\"../a95758198cde460fcb521e1f7eda1e84054405230/expr.png\" style=\"display:inline;vertical-align:middle;\" /></a></td></tr>\n",
       "<tr><td>2</td><td>Operation</td><td>operator:&nbsp;4<br>operands:&nbsp;5<br></td><td><a class=\"ProveItLink\" href=\"../8fbb6a319e070028ce00e3c5970d790e355bf41d0/expr.ipynb\"><img src=\"../8fbb6a319e070028ce00e3c5970d790e355bf41d0/expr.png\" style=\"display:inline;vertical-align:middle;\" /></a></td></tr>\n",
       "<tr><td>3</td><td>Operation</td><td>operator:&nbsp;6<br>operands:&nbsp;7<br></td><td><a class=\"ProveItLink\" href=\"../d9ffe32d1a7a31037b8f0427491c6b97e56455800/expr.ipynb\"><img src=\"../d9ffe32d1a7a31037b8f0427491c6b97e56455800/expr.png\" style=\"display:inline;vertical-align:middle;\" /></a></td></tr>\n",
       "<tr><td>4</td><td>Literal</td><td></td><td><a class=\"ProveItLink\" href=\"../../../../../numbers/ordering/__pv_it/common/68379698d72b4689bbda4b5c5cca29ee599d70280/expr.ipynb\"><img src=\"../../../../../numbers/ordering/__pv_it/common/68379698d72b4689bbda4b5c5cca29ee599d70280/expr.png\" style=\"display:inline;vertical-align:middle;\" /></a></td></tr>\n",
       "<tr><td>5</td><td>ExprTuple</td><td>8, 9</td><td><a class=\"ProveItLink\" href=\"../62c67726baeb70a6b3d24a3160aa25a0312797900/expr.ipynb\"><img src=\"../62c67726baeb70a6b3d24a3160aa25a0312797900/expr.png\" style=\"display:inline;vertical-align:middle;\" /></a></td></tr>\n",
       "<tr><td>6</td><td>Literal</td><td></td><td><a class=\"ProveItLink\" href=\"../../../../../logic/booleans/conjunction/__pv_it/common/42118ff318bd65d98b1393f64ce7c2269feef76e0/expr.ipynb\"><img src=\"../../../../../logic/booleans/conjunction/__pv_it/common/42118ff318bd65d98b1393f64ce7c2269feef76e0/expr.png\" style=\"display:inline;vertical-align:middle;\" /></a></td></tr>\n",
       "<tr><td>7</td><td>ExprTuple</td><td>10, 11</td><td><a class=\"ProveItLink\" href=\"../4e78d0e94ec3baa5c02558b15f6b72ea797eaa770/expr.ipynb\"><img src=\"../4e78d0e94ec3baa5c02558b15f6b72ea797eaa770/expr.png\" style=\"display:inline;vertical-align:middle;\" /></a></td></tr>\n",
       "<tr><td>8</td><td>Operation</td><td>operator:&nbsp;12<br>operands:&nbsp;13<br></td><td><a class=\"ProveItLink\" href=\"../9ddfac729a14efb1d758accbbf8b77a3b54333ad0/expr.ipynb\"><img src=\"../9ddfac729a14efb1d758accbbf8b77a3b54333ad0/expr.png\" style=\"display:inline;vertical-align:middle;\" /></a></td></tr>\n",
       "<tr><td>9</td><td>Operation</td><td>operator:&nbsp;14<br>operands:&nbsp;15<br></td><td><a class=\"ProveItLink\" href=\"../f9d7d8f4fbf3c10aee20d66ccee3195afbd1ecb60/expr.ipynb\"><img src=\"../f9d7d8f4fbf3c10aee20d66ccee3195afbd1ecb60/expr.png\" style=\"display:inline;vertical-align:middle;\" /></a></td></tr>\n",
       "<tr><td>10</td><td>Operation</td><td>operator:&nbsp;17<br>operands:&nbsp;16<br></td><td><a class=\"ProveItLink\" href=\"../186ff9ba089ca37e9b974432716db55fe9196cb80/expr.ipynb\"><img src=\"../186ff9ba089ca37e9b974432716db55fe9196cb80/expr.png\" style=\"display:inline;vertical-align:middle;\" /></a></td></tr>\n",
       "<tr><td>11</td><td>Operation</td><td>operator:&nbsp;17<br>operands:&nbsp;18<br></td><td><a class=\"ProveItLink\" href=\"../cd7304850c8078e422d449203c6cc890562eabc30/expr.ipynb\"><img src=\"../cd7304850c8078e422d449203c6cc890562eabc30/expr.png\" style=\"display:inline;vertical-align:middle;\" /></a></td></tr>\n",
       "<tr><td>12</td><td>Literal</td><td></td><td><a class=\"ProveItLink\" href=\"../../../../../numbers/exponentiation/__pv_it/common/0ac37aca1e54c35c5cda09672df32d4f69f1f3020/expr.ipynb\"><img src=\"../../../../../numbers/exponentiation/__pv_it/common/0ac37aca1e54c35c5cda09672df32d4f69f1f3020/expr.png\" style=\"display:inline;vertical-align:middle;\" /></a></td></tr>\n",
       "<tr><td>13</td><td>ExprTuple</td><td>19, 20</td><td><a class=\"ProveItLink\" href=\"../4195e32bb7a9f96ad97e191679adc96331b711950/expr.ipynb\"><img src=\"../4195e32bb7a9f96ad97e191679adc96331b711950/expr.png\" style=\"display:inline;vertical-align:middle;\" /></a></td></tr>\n",
       "<tr><td>14</td><td>Literal</td><td></td><td><a class=\"ProveItLink\" href=\"../../../../../numbers/multiplication/__pv_it/common/ed719cef37831779c16481533a4d380a2f95ab270/expr.ipynb\"><img src=\"../../../../../numbers/multiplication/__pv_it/common/ed719cef37831779c16481533a4d380a2f95ab270/expr.png\" style=\"display:inline;vertical-align:middle;\" /></a></td></tr>\n",
       "<tr><td>15</td><td>ExprTuple</td><td>21, 22</td><td><a class=\"ProveItLink\" href=\"../1e916aab6169502fb61cef3f3dc0b794a18c2dda0/expr.ipynb\"><img src=\"../1e916aab6169502fb61cef3f3dc0b794a18c2dda0/expr.png\" style=\"display:inline;vertical-align:middle;\" /></a></td></tr>\n",
       "<tr><td>16</td><td>ExprTuple</td><td>31, 23</td><td><a class=\"ProveItLink\" href=\"../401e8069dd757f9912acc91af5549f62ca42131d0/expr.ipynb\"><img src=\"../401e8069dd757f9912acc91af5549f62ca42131d0/expr.png\" style=\"display:inline;vertical-align:middle;\" /></a></td></tr>\n",
       "<tr><td>17</td><td>Literal</td><td></td><td><a class=\"ProveItLink\" href=\"../../../../../logic/sets/membership/__pv_it/common/477487d8796864d23d5810f83761435f25167f690/expr.ipynb\"><img src=\"../../../../../logic/sets/membership/__pv_it/common/477487d8796864d23d5810f83761435f25167f690/expr.png\" style=\"display:inline;vertical-align:middle;\" /></a></td></tr>\n",
       "<tr><td>18</td><td>ExprTuple</td><td>32, 23</td><td><a class=\"ProveItLink\" href=\"../9d1c293cb38150803845cdf1a3377d3271d47d350/expr.ipynb\"><img src=\"../9d1c293cb38150803845cdf1a3377d3271d47d350/expr.png\" style=\"display:inline;vertical-align:middle;\" /></a></td></tr>\n",
       "<tr><td>19</td><td>Operation</td><td>operator:&nbsp;24<br>operand:&nbsp;28<br></td><td><a class=\"ProveItLink\" href=\"../3f6ac9cd1ae9995f34d66aef99790ee640057c550/expr.ipynb\"><img src=\"../3f6ac9cd1ae9995f34d66aef99790ee640057c550/expr.png\" style=\"display:inline;vertical-align:middle;\" /></a></td></tr>\n",
       "<tr><td>20</td><td>Literal</td><td></td><td><a class=\"ProveItLink\" href=\"../../../../../numbers/numerals/__pv_it/common/af4aab8a07465db063742696e006d04670f30cf10/expr.ipynb\"><img src=\"../../../../../numbers/numerals/__pv_it/common/af4aab8a07465db063742696e006d04670f30cf10/expr.png\" style=\"display:inline;vertical-align:middle;\" /></a></td></tr>\n",
       "<tr><td>21</td><td>Operation</td><td>operator:&nbsp;29<br>operands:&nbsp;26<br></td><td><a class=\"ProveItLink\" href=\"../c8834b30229e85b299e4e63f3656ece360afd1ad0/expr.ipynb\"><img src=\"../c8834b30229e85b299e4e63f3656ece360afd1ad0/expr.png\" style=\"display:inline;vertical-align:middle;\" /></a></td></tr>\n",
       "<tr><td>22</td><td>Operation</td><td>operator:&nbsp;29<br>operands:&nbsp;27<br></td><td><a class=\"ProveItLink\" href=\"../1fc074abff519ff17ab42117a84c22a4a2ddb27e0/expr.ipynb\"><img src=\"../1fc074abff519ff17ab42117a84c22a4a2ddb27e0/expr.png\" style=\"display:inline;vertical-align:middle;\" /></a></td></tr>\n",
       "<tr><td>23</td><td>Variable</td><td></td><td><a class=\"ProveItLink\" href=\"../../../../../__pv_it/common/db1921da064725c141f453bae2d02f0bb2333a8a0/expr.ipynb\"><img src=\"../../../../../__pv_it/common/db1921da064725c141f453bae2d02f0bb2333a8a0/expr.png\" style=\"display:inline;vertical-align:middle;\" /></a></td></tr>\n",
       "<tr><td>24</td><td>Literal</td><td></td><td><a class=\"ProveItLink\" href=\"../../common/2c00dcac538e537d968253ed1ac6a761c803991f0/expr.ipynb\"><img src=\"../../common/2c00dcac538e537d968253ed1ac6a761c803991f0/expr.png\" style=\"display:inline;vertical-align:middle;\" /></a></td></tr>\n",
       "<tr><td>25</td><td>ExprTuple</td><td>28</td><td><a class=\"ProveItLink\" href=\"../a302a7763ad8291d355bfef62d6eda34c9987ed40/expr.ipynb\"><img src=\"../a302a7763ad8291d355bfef62d6eda34c9987ed40/expr.png\" style=\"display:inline;vertical-align:middle;\" /></a></td></tr>\n",
       "<tr><td>26</td><td>ExprTuple</td><td>31, 31</td><td><a class=\"ProveItLink\" href=\"../e8bec8eb34290f85970ab277458b055563a12ae60/expr.ipynb\"><img src=\"../e8bec8eb34290f85970ab277458b055563a12ae60/expr.png\" style=\"display:inline;vertical-align:middle;\" /></a></td></tr>\n",
       "<tr><td>27</td><td>ExprTuple</td><td>32, 32</td><td><a class=\"ProveItLink\" href=\"../653b751892ad662cf379825b55dfefe72ee046ab0/expr.ipynb\"><img src=\"../653b751892ad662cf379825b55dfefe72ee046ab0/expr.png\" style=\"display:inline;vertical-align:middle;\" /></a></td></tr>\n",
       "<tr><td>28</td><td>Operation</td><td>operator:&nbsp;29<br>operands:&nbsp;30<br></td><td><a class=\"ProveItLink\" href=\"../1f59a4d76326fac987bfb1fc3848ba06d267ca8e0/expr.ipynb\"><img src=\"../1f59a4d76326fac987bfb1fc3848ba06d267ca8e0/expr.png\" style=\"display:inline;vertical-align:middle;\" /></a></td></tr>\n",
       "<tr><td>29</td><td>Literal</td><td></td><td><a class=\"ProveItLink\" href=\"../../common/3c2fb0727e51ccc44869d1fd03bc36b5f019b5010/expr.ipynb\"><img src=\"../../common/3c2fb0727e51ccc44869d1fd03bc36b5f019b5010/expr.png\" style=\"display:inline;vertical-align:middle;\" /></a></td></tr>\n",
       "<tr><td>30</td><td>ExprTuple</td><td>31, 32</td><td><a class=\"ProveItLink\" href=\"../9652a279a9d5395d9ffaee912212ec664ffffe0c0/expr.ipynb\"><img src=\"../9652a279a9d5395d9ffaee912212ec664ffffe0c0/expr.png\" style=\"display:inline;vertical-align:middle;\" /></a></td></tr>\n",
       "<tr><td>31</td><td>Variable</td><td></td><td><a class=\"ProveItLink\" href=\"../../../../../__pv_it/common/a4b9661da9b52dcebf59c5559fec8901f4df10750/expr.ipynb\"><img src=\"../../../../../__pv_it/common/a4b9661da9b52dcebf59c5559fec8901f4df10750/expr.png\" style=\"display:inline;vertical-align:middle;\" /></a></td></tr>\n",
       "<tr><td>32</td><td>Variable</td><td></td><td><a class=\"ProveItLink\" href=\"../../../../../__pv_it/common/d365663894822dede40e6e04c77860068334d0820/expr.ipynb\"><img src=\"../../../../../__pv_it/common/d365663894822dede40e6e04c77860068334d0820/expr.png\" style=\"display:inline;vertical-align:middle;\" /></a></td></tr>\n",
       "</table>\n"
      ],
      "text/plain": [
       "0. (v, w) -> {||<v, w>||^{2} <= (<v, v> * <w, w>) if v in H ,  w in H.\n",
       "   core type: Lambda\n",
       "   parameters: 30\\n   body: 1\n",
       "1. {||<v, w>||^{2} <= (<v, v> * <w, w>) if v in H ,  w in H.\n",
       "   core type: Conditional\n",
       "   value: 2\n",
       "   condition: 3\n",
       "2. ||<v, w>||^{2} <= (<v, v> * <w, w>)\n",
       "   core type: Operation\n",
       "   operator: 4\n",
       "   operands: 5\n",
       "3. (v in H) and (w in H)\n",
       "   core type: Operation\n",
       "   operator: 6\n",
       "   operands: 7\n",
       "4. <=\n",
       "   core type: Literal\n",
       "   sub-expressions: \n",
       "5. (||<v, w>||^{2}, <v, v> * <w, w>)\n",
       "   core type: ExprTuple\n",
       "   sub-expressions: 8, 9\n",
       "6. and\n",
       "   core type: Literal\n",
       "   sub-expressions: \n",
       "7. (v in H, w in H)\n",
       "   core type: ExprTuple\n",
       "   sub-expressions: 10, 11\n",
       "8. ||<v, w>||^{2}\n",
       "   core type: Operation\n",
       "   operator: 12\n",
       "   operands: 13\n",
       "9. <v, v> * <w, w>\n",
       "   core type: Operation\n",
       "   operator: 14\n",
       "   operands: 15\n",
       "10. v in H\n",
       "    core type: Operation\n",
       "    operator: 17\n",
       "    operands: 16\n",
       "11. w in H\n",
       "    core type: Operation\n",
       "    operator: 17\n",
       "    operands: 18\n",
       "12. Exp\n",
       "    core type: Literal\n",
       "    sub-expressions: \n",
       "13. (||<v, w>||, 2)\n",
       "    core type: ExprTuple\n",
       "    sub-expressions: 19, 20\n",
       "14. *\n",
       "    core type: Literal\n",
       "    sub-expressions: \n",
       "15. (<v, v>, <w, w>)\n",
       "    core type: ExprTuple\n",
       "    sub-expressions: 21, 22\n",
       "16. (v, H)\n",
       "    core type: ExprTuple\n",
       "    sub-expressions: 31, 23\n",
       "17. in\n",
       "    core type: Literal\n",
       "    sub-expressions: \n",
       "18. (w, H)\n",
       "    core type: ExprTuple\n",
       "    sub-expressions: 32, 23\n",
       "19. ||<v, w>||\n",
       "    core type: Operation\n",
       "    operator: 24\n",
       "    operand: 28\n",
       "20. 2\n",
       "    core type: Literal\n",
       "    sub-expressions: \n",
       "21. <v, v>\n",
       "    core type: Operation\n",
       "    operator: 29\n",
       "    operands: 26\n",
       "22. <w, w>\n",
       "    core type: Operation\n",
       "    operator: 29\n",
       "    operands: 27\n",
       "23. H\n",
       "    core type: Variable\n",
       "    sub-expressions: \n",
       "24. Abs\n",
       "    core type: Literal\n",
       "    sub-expressions: \n",
       "25. (<v, w>)\n",
       "    core type: ExprTuple\n",
       "    sub-expressions: 28\n",
       "26. (v, v)\n",
       "    core type: ExprTuple\n",
       "    sub-expressions: 31, 31\n",
       "27. (w, w)\n",
       "    core type: ExprTuple\n",
       "    sub-expressions: 32, 32\n",
       "28. <v, w>\n",
       "    core type: Operation\n",
       "    operator: 29\n",
       "    operands: 30\n",
       "29. InnerProd\n",
       "    core type: Literal\n",
       "    sub-expressions: \n",
       "30. (v, w)\n",
       "    core type: ExprTuple\n",
       "    sub-expressions: 31, 32\n",
       "31. v\n",
       "    core type: Variable\n",
       "    sub-expressions: \n",
       "32. w\n",
       "    core type: Variable\n",
       "    sub-expressions: "
      ]
     },
     "metadata": {},
     "output_type": "display_data"
    }
   ],
   "source": [
    "# display the expression information\n",
    "stored_expr.expr_info()"
   ]
  },
  {
   "cell_type": "code",
   "execution_count": null,
   "metadata": {},
   "outputs": [],
   "source": []
  }
 ],
 "metadata": {
  "kernelspec": {
   "display_name": "Python 3",
   "language": "python",
   "name": "python3"
  }
 },
 "nbformat": 4,
 "nbformat_minor": 0
}