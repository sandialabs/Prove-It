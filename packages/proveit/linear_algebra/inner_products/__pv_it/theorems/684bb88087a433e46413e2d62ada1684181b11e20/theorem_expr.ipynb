{
 "cells": [
  {
   "cell_type": "markdown",
   "metadata": {},
   "source": [
    "Theorem <a class=\"ProveItLink\" href=\"../../../_theorems_.ipynb#ortho_projectors_are_idempotent\">ortho_projectors_are_idempotent</a> of type <a class=\"ProveItLink\" href=\"../../../../../../../doc/html/api/proveit.logic.Forall.html\">Forall</a>\n",
    "=======================\n",
    "# from the theory of <a class=\"ProveItLink\" href=\"../../../_theory_nbs_/theory.ipynb\">proveit.linear_algebra.inner_products</a>\n",
    "*** see <a class=\"ProveItLink\" href=\"dependencies.ipynb\">dependencies</a> ***"
   ]
  },
  {
   "cell_type": "code",
   "execution_count": 1,
   "metadata": {},
   "outputs": [],
   "source": [
    "import proveit\n",
    "# Automation is not needed when only building an expression:\n",
    "proveit.defaults.automation = False # This will speed things up.\n",
    "proveit.defaults.inline_pngs = False # Makes files smaller.\n",
    "%load_theorem_expr # Load the stored theorem expression as 'stored_expr'\n",
    "# import the special expression\n",
    "from proveit.linear_algebra.inner_products import ortho_projectors_are_idempotent"
   ]
  },
  {
   "cell_type": "code",
   "execution_count": 2,
   "metadata": {},
   "outputs": [
    {
     "name": "stdout",
     "output_type": "stream",
     "text": [
      "Passed sanity check: ortho_projectors_are_idempotent matches stored_expr\n"
     ]
    }
   ],
   "source": [
    "# check that the built expression is the same as the stored expression\n",
    "assert ortho_projectors_are_idempotent.expr == stored_expr\n",
    "assert ortho_projectors_are_idempotent.expr._style_id == stored_expr._style_id\n",
    "print(\"Passed sanity check: ortho_projectors_are_idempotent matches stored_expr\")"
   ]
  },
  {
   "cell_type": "code",
   "execution_count": 3,
   "metadata": {},
   "outputs": [
    {
     "name": "stdout",
     "output_type": "stream",
     "text": [
      "\\forall_{\\mathcal{H} \\underset{{\\scriptscriptstyle c}}{\\in} \\textrm{HilbertSpaces}}~\\left[\\forall_{X~|~X \\subseteq \\mathcal{H}}~\\left[\\forall_{P~|~P = \\textrm{OrthoProj}\\left(\\mathcal{H}, X\\right)}~\\left(P^{2} = P\\right)\\right]\\right]\n"
     ]
    }
   ],
   "source": [
    "# Show the LaTeX representation of the expression for convenience if you need it.\n",
    "print(stored_expr.latex())"
   ]
  },
  {
   "cell_type": "code",
   "execution_count": 4,
   "metadata": {},
   "outputs": [
    {
     "data": {
      "text/html": [
       "<table>\n",
       "<tr><th>name</th><th>description</th><th>default</th><th>current value</th><th>related methods</th></tr><tr><td>with_wrapping</td><td>If 'True', wrap the Expression after the parameters</td><td>None</td><td>None/False</td><td>('with_wrapping',)</td></tr>\n",
       "<tr><td>condition_wrapping</td><td>Wrap 'before' or 'after' the condition (or None).</td><td>None</td><td>None/False</td><td>('with_wrap_after_condition', 'with_wrap_before_condition')</td></tr>\n",
       "<tr><td>wrap_params</td><td>If 'True', wraps every two parameters AND wraps the Expression after the parameters</td><td>None</td><td>None/False</td><td>('with_params',)</td></tr>\n",
       "<tr><td>justification</td><td>justify to the 'left', 'center', or 'right' in the array cells</td><td>center</td><td>center</td><td>('with_justification',)</td></tr>\n",
       "</table>\n"
      ],
      "text/plain": [
       "style name: with_wrapping\n",
       "description: If 'True', wrap the Expression after the parameters\n",
       "default: None\n",
       "current value: None/False\n",
       "related methods: ('with_wrapping',)\n",
       "style name: condition_wrapping\n",
       "description: Wrap 'before' or 'after' the condition (or None).\n",
       "default: None\n",
       "current value: None/False\n",
       "related methods: ('with_wrap_after_condition', 'with_wrap_before_condition')\n",
       "style name: wrap_params\n",
       "description: If 'True', wraps every two parameters AND wraps the Expression after the parameters\n",
       "default: None\n",
       "current value: None/False\n",
       "related methods: ('with_params',)\n",
       "style name: justification\n",
       "description: justify to the 'left', 'center', or 'right' in the array cells\n",
       "default: center\n",
       "current value: center\n",
       "related methods: ('with_justification',)"
      ]
     },
     "metadata": {},
     "output_type": "display_data"
    }
   ],
   "source": [
    "stored_expr.style_options()"
   ]
  },
  {
   "cell_type": "code",
   "execution_count": 5,
   "metadata": {},
   "outputs": [
    {
     "data": {
      "text/html": [
       "<table><tr><th>&nbsp;</th><th>core type</th><th>sub-expressions</th><th>expression</th></tr>\n",
       "<tr><td>0</td><td>Operation</td><td>operator:&nbsp;16<br>operand:&nbsp;2<br></td><td><a class=\"ProveItLink\" href=\"../0f5f2bd6fc27109e25f84954918d16789a580f850/expr.ipynb\"><img src=\"../0f5f2bd6fc27109e25f84954918d16789a580f850/expr.png\" style=\"display:inline;vertical-align:middle;\" /></a></td></tr>\n",
       "<tr><td>1</td><td>ExprTuple</td><td>2</td><td><a class=\"ProveItLink\" href=\"../2a3109aebea171a673a60d91dee578d5415c20b40/expr.ipynb\"><img src=\"../2a3109aebea171a673a60d91dee578d5415c20b40/expr.png\" style=\"display:inline;vertical-align:middle;\" /></a></td></tr>\n",
       "<tr><td>2</td><td>Lambda</td><td>parameter:&nbsp;36<br>body:&nbsp;4<br></td><td><a class=\"ProveItLink\" href=\"../2177f3d5267269400803b1d6bfd2a684923577d00/expr.ipynb\"><img src=\"../2177f3d5267269400803b1d6bfd2a684923577d00/expr.png\" style=\"display:inline;vertical-align:middle;\" /></a></td></tr>\n",
       "<tr><td>3</td><td>ExprTuple</td><td>36</td><td><a class=\"ProveItLink\" href=\"../b9d4240524cd252287e77024516896a3cc55f45e0/expr.ipynb\"><img src=\"../b9d4240524cd252287e77024516896a3cc55f45e0/expr.png\" style=\"display:inline;vertical-align:middle;\" /></a></td></tr>\n",
       "<tr><td>4</td><td>Conditional</td><td>value:&nbsp;5<br>condition:&nbsp;6<br></td><td><a class=\"ProveItLink\" href=\"../1410c250bbbbb997e2ff12b723143d55707a29830/expr.ipynb\"><img src=\"../1410c250bbbbb997e2ff12b723143d55707a29830/expr.png\" style=\"display:inline;vertical-align:middle;\" /></a></td></tr>\n",
       "<tr><td>5</td><td>Operation</td><td>operator:&nbsp;16<br>operand:&nbsp;10<br></td><td><a class=\"ProveItLink\" href=\"../766824e6930597c4de2ad766ca74d6ced901e7c60/expr.ipynb\"><img src=\"../766824e6930597c4de2ad766ca74d6ced901e7c60/expr.png\" style=\"display:inline;vertical-align:middle;\" /></a></td></tr>\n",
       "<tr><td>6</td><td>Operation</td><td>operator:&nbsp;8<br>operands:&nbsp;9<br></td><td><a class=\"ProveItLink\" href=\"../cc1a1fdbe030158429b482f8c4631f162e8f59980/expr.ipynb\"><img src=\"../cc1a1fdbe030158429b482f8c4631f162e8f59980/expr.png\" style=\"display:inline;vertical-align:middle;\" /></a></td></tr>\n",
       "<tr><td>7</td><td>ExprTuple</td><td>10</td><td><a class=\"ProveItLink\" href=\"../d5afe840ec5e1c730a0d0f23f5dfb09cd58ac0370/expr.ipynb\"><img src=\"../d5afe840ec5e1c730a0d0f23f5dfb09cd58ac0370/expr.png\" style=\"display:inline;vertical-align:middle;\" /></a></td></tr>\n",
       "<tr><td>8</td><td>Literal</td><td></td><td><a class=\"ProveItLink\" href=\"../../../../../logic/classes/membership/__pv_it/common/e3b437d28fbe17f0a50c9789c7c9b47a1270f1420/expr.ipynb\"><img src=\"../../../../../logic/classes/membership/__pv_it/common/e3b437d28fbe17f0a50c9789c7c9b47a1270f1420/expr.png\" style=\"display:inline;vertical-align:middle;\" /></a></td></tr>\n",
       "<tr><td>9</td><td>ExprTuple</td><td>36, 11</td><td><a class=\"ProveItLink\" href=\"../68a17dfc1d1ba94f48cf681e8044004a6d60360e0/expr.ipynb\"><img src=\"../68a17dfc1d1ba94f48cf681e8044004a6d60360e0/expr.png\" style=\"display:inline;vertical-align:middle;\" /></a></td></tr>\n",
       "<tr><td>10</td><td>Lambda</td><td>parameter:&nbsp;37<br>body:&nbsp;13<br></td><td><a class=\"ProveItLink\" href=\"../9771f5f3d23ba1faf3acc96829552f57dd5498d80/expr.ipynb\"><img src=\"../9771f5f3d23ba1faf3acc96829552f57dd5498d80/expr.png\" style=\"display:inline;vertical-align:middle;\" /></a></td></tr>\n",
       "<tr><td>11</td><td>Literal</td><td></td><td><a class=\"ProveItLink\" href=\"../../common/63495bb81132197a40ba1811088142655bc8cabd0/expr.ipynb\"><img src=\"../../common/63495bb81132197a40ba1811088142655bc8cabd0/expr.png\" style=\"display:inline;vertical-align:middle;\" /></a></td></tr>\n",
       "<tr><td>12</td><td>ExprTuple</td><td>37</td><td><a class=\"ProveItLink\" href=\"../db9f0ed68786c332572391edc1a73892f9a9c8f90/expr.ipynb\"><img src=\"../db9f0ed68786c332572391edc1a73892f9a9c8f90/expr.png\" style=\"display:inline;vertical-align:middle;\" /></a></td></tr>\n",
       "<tr><td>13</td><td>Conditional</td><td>value:&nbsp;14<br>condition:&nbsp;15<br></td><td><a class=\"ProveItLink\" href=\"../d32a27c4fe3f8e5232380d195b899776ea8e0f7c0/expr.ipynb\"><img src=\"../d32a27c4fe3f8e5232380d195b899776ea8e0f7c0/expr.png\" style=\"display:inline;vertical-align:middle;\" /></a></td></tr>\n",
       "<tr><td>14</td><td>Operation</td><td>operator:&nbsp;16<br>operand:&nbsp;20<br></td><td><a class=\"ProveItLink\" href=\"../2bd1832d710e6e157ff6397f9d578eae0d723d9c0/expr.ipynb\"><img src=\"../2bd1832d710e6e157ff6397f9d578eae0d723d9c0/expr.png\" style=\"display:inline;vertical-align:middle;\" /></a></td></tr>\n",
       "<tr><td>15</td><td>Operation</td><td>operator:&nbsp;18<br>operands:&nbsp;19<br></td><td><a class=\"ProveItLink\" href=\"../3302c7446efe8f3addbf69227853f343de81ed840/expr.ipynb\"><img src=\"../3302c7446efe8f3addbf69227853f343de81ed840/expr.png\" style=\"display:inline;vertical-align:middle;\" /></a></td></tr>\n",
       "<tr><td>16</td><td>Literal</td><td></td><td><a class=\"ProveItLink\" href=\"../../../../../logic/booleans/quantification/universality/__pv_it/common/083d2baa0b8ecab1d230f9ec29a15aa1355809fb0/expr.ipynb\"><img src=\"../../../../../logic/booleans/quantification/universality/__pv_it/common/083d2baa0b8ecab1d230f9ec29a15aa1355809fb0/expr.png\" style=\"display:inline;vertical-align:middle;\" /></a></td></tr>\n",
       "<tr><td>17</td><td>ExprTuple</td><td>20</td><td><a class=\"ProveItLink\" href=\"../93a9551f8d76b99c46d3a680cd70418cc07dfefd0/expr.ipynb\"><img src=\"../93a9551f8d76b99c46d3a680cd70418cc07dfefd0/expr.png\" style=\"display:inline;vertical-align:middle;\" /></a></td></tr>\n",
       "<tr><td>18</td><td>Literal</td><td></td><td><a class=\"ProveItLink\" href=\"../../../../../logic/sets/inclusion/__pv_it/common/af21bfd7d93759eac7fe399a50aaac31ae45d8cf0/expr.ipynb\"><img src=\"../../../../../logic/sets/inclusion/__pv_it/common/af21bfd7d93759eac7fe399a50aaac31ae45d8cf0/expr.png\" style=\"display:inline;vertical-align:middle;\" /></a></td></tr>\n",
       "<tr><td>19</td><td>ExprTuple</td><td>37, 36</td><td><a class=\"ProveItLink\" href=\"../cf288105b2ee034ade810b838e65c4affe482b320/expr.ipynb\"><img src=\"../cf288105b2ee034ade810b838e65c4affe482b320/expr.png\" style=\"display:inline;vertical-align:middle;\" /></a></td></tr>\n",
       "<tr><td>20</td><td>Lambda</td><td>parameter:&nbsp;34<br>body:&nbsp;22<br></td><td><a class=\"ProveItLink\" href=\"../1f5bd13c1d065071ddbde87e983d0507950db5360/expr.ipynb\"><img src=\"../1f5bd13c1d065071ddbde87e983d0507950db5360/expr.png\" style=\"display:inline;vertical-align:middle;\" /></a></td></tr>\n",
       "<tr><td>21</td><td>ExprTuple</td><td>34</td><td><a class=\"ProveItLink\" href=\"../56f816491122851137106e952ad7383c0a593aaf0/expr.ipynb\"><img src=\"../56f816491122851137106e952ad7383c0a593aaf0/expr.png\" style=\"display:inline;vertical-align:middle;\" /></a></td></tr>\n",
       "<tr><td>22</td><td>Conditional</td><td>value:&nbsp;23<br>condition:&nbsp;24<br></td><td><a class=\"ProveItLink\" href=\"../e36fc6ab188a71164d8947da6151421d7c7466100/expr.ipynb\"><img src=\"../e36fc6ab188a71164d8947da6151421d7c7466100/expr.png\" style=\"display:inline;vertical-align:middle;\" /></a></td></tr>\n",
       "<tr><td>23</td><td>Operation</td><td>operator:&nbsp;26<br>operands:&nbsp;25<br></td><td><a class=\"ProveItLink\" href=\"../fcc165d11ae840b4bbcf02da0cce39c68fca6c900/expr.ipynb\"><img src=\"../fcc165d11ae840b4bbcf02da0cce39c68fca6c900/expr.png\" style=\"display:inline;vertical-align:middle;\" /></a></td></tr>\n",
       "<tr><td>24</td><td>Operation</td><td>operator:&nbsp;26<br>operands:&nbsp;27<br></td><td><a class=\"ProveItLink\" href=\"../a3416f53eb05a601bb27f5dc3bfa28507d6453260/expr.ipynb\"><img src=\"../a3416f53eb05a601bb27f5dc3bfa28507d6453260/expr.png\" style=\"display:inline;vertical-align:middle;\" /></a></td></tr>\n",
       "<tr><td>25</td><td>ExprTuple</td><td>28, 34</td><td><a class=\"ProveItLink\" href=\"../cba024571c56e6383b13d38e15e73aff133947f70/expr.ipynb\"><img src=\"../cba024571c56e6383b13d38e15e73aff133947f70/expr.png\" style=\"display:inline;vertical-align:middle;\" /></a></td></tr>\n",
       "<tr><td>26</td><td>Literal</td><td></td><td><a class=\"ProveItLink\" href=\"../../../../../logic/equality/__pv_it/common/fb96dc12b2aa8801dda64d0132b396c63d1502bb0/expr.ipynb\"><img src=\"../../../../../logic/equality/__pv_it/common/fb96dc12b2aa8801dda64d0132b396c63d1502bb0/expr.png\" style=\"display:inline;vertical-align:middle;\" /></a></td></tr>\n",
       "<tr><td>27</td><td>ExprTuple</td><td>34, 29</td><td><a class=\"ProveItLink\" href=\"../d31a6fbc2f8f4c0684a0c268d6899d2ddaa05f510/expr.ipynb\"><img src=\"../d31a6fbc2f8f4c0684a0c268d6899d2ddaa05f510/expr.png\" style=\"display:inline;vertical-align:middle;\" /></a></td></tr>\n",
       "<tr><td>28</td><td>Operation</td><td>operator:&nbsp;30<br>operands:&nbsp;31<br></td><td><a class=\"ProveItLink\" href=\"../69e627d456535a5e53888eff42e5bc6f055c9b700/expr.ipynb\"><img src=\"../69e627d456535a5e53888eff42e5bc6f055c9b700/expr.png\" style=\"display:inline;vertical-align:middle;\" /></a></td></tr>\n",
       "<tr><td>29</td><td>Operation</td><td>operator:&nbsp;32<br>operands:&nbsp;33<br></td><td><a class=\"ProveItLink\" href=\"../1dd3b11a550494efd4653b23ec955b17bd0285090/expr.ipynb\"><img src=\"../1dd3b11a550494efd4653b23ec955b17bd0285090/expr.png\" style=\"display:inline;vertical-align:middle;\" /></a></td></tr>\n",
       "<tr><td>30</td><td>Literal</td><td></td><td><a class=\"ProveItLink\" href=\"../../../../../numbers/exponentiation/__pv_it/common/0ac37aca1e54c35c5cda09672df32d4f69f1f3020/expr.ipynb\"><img src=\"../../../../../numbers/exponentiation/__pv_it/common/0ac37aca1e54c35c5cda09672df32d4f69f1f3020/expr.png\" style=\"display:inline;vertical-align:middle;\" /></a></td></tr>\n",
       "<tr><td>31</td><td>ExprTuple</td><td>34, 35</td><td><a class=\"ProveItLink\" href=\"../64f08133b41e665f25738e592d5f44a16a99724f0/expr.ipynb\"><img src=\"../64f08133b41e665f25738e592d5f44a16a99724f0/expr.png\" style=\"display:inline;vertical-align:middle;\" /></a></td></tr>\n",
       "<tr><td>32</td><td>Literal</td><td></td><td><a class=\"ProveItLink\" href=\"../../common/a4e5afdd14249bfa7361ad2ac59ba1681ae973bb0/expr.ipynb\"><img src=\"../../common/a4e5afdd14249bfa7361ad2ac59ba1681ae973bb0/expr.png\" style=\"display:inline;vertical-align:middle;\" /></a></td></tr>\n",
       "<tr><td>33</td><td>ExprTuple</td><td>36, 37</td><td><a class=\"ProveItLink\" href=\"../0e28391110c5e1fd1d91853fc54227ae1bfec1670/expr.ipynb\"><img src=\"../0e28391110c5e1fd1d91853fc54227ae1bfec1670/expr.png\" style=\"display:inline;vertical-align:middle;\" /></a></td></tr>\n",
       "<tr><td>34</td><td>Variable</td><td></td><td><a class=\"ProveItLink\" href=\"../../../../../__pv_it/common/de55da274ba0f49c86925fbf3828021c04d27faf0/expr.ipynb\"><img src=\"../../../../../__pv_it/common/de55da274ba0f49c86925fbf3828021c04d27faf0/expr.png\" style=\"display:inline;vertical-align:middle;\" /></a></td></tr>\n",
       "<tr><td>35</td><td>Literal</td><td></td><td><a class=\"ProveItLink\" href=\"../../../../../numbers/numerals/__pv_it/common/af4aab8a07465db063742696e006d04670f30cf10/expr.ipynb\"><img src=\"../../../../../numbers/numerals/__pv_it/common/af4aab8a07465db063742696e006d04670f30cf10/expr.png\" style=\"display:inline;vertical-align:middle;\" /></a></td></tr>\n",
       "<tr><td>36</td><td>Variable</td><td></td><td><a class=\"ProveItLink\" href=\"../../common/0a298dc12c549b5fdc96454972e9674c7dbf104f0/expr.ipynb\"><img src=\"../../common/0a298dc12c549b5fdc96454972e9674c7dbf104f0/expr.png\" style=\"display:inline;vertical-align:middle;\" /></a></td></tr>\n",
       "<tr><td>37</td><td>Variable</td><td></td><td><a class=\"ProveItLink\" href=\"../../../../../__pv_it/common/f1ca094affb79f5011ff4d63eb4e121bfbde7f330/expr.ipynb\"><img src=\"../../../../../__pv_it/common/f1ca094affb79f5011ff4d63eb4e121bfbde7f330/expr.png\" style=\"display:inline;vertical-align:middle;\" /></a></td></tr>\n",
       "</table>\n"
      ],
      "text/plain": [
       "0. forall_{H in_c HilbertSpaces} [forall_{X | X subset_eq H} [forall_{P | P = OrthoProj(H, X)} (P^{2} = P)]]\n",
       "   core type: Operation\n",
       "   operator: 16\n",
       "   operand: 2\n",
       "1. (H -> {forall_{X | X subset_eq H} [forall_{P | P = OrthoProj(H, X)} (P^{2} = P)] if H in_c HilbertSpaces.)\n",
       "   core type: ExprTuple\n",
       "   sub-expressions: 2\n",
       "2. H -> {forall_{X | X subset_eq H} [forall_{P | P = OrthoProj(H, X)} (P^{2} = P)] if H in_c HilbertSpaces.\n",
       "   core type: Lambda\n",
       "   parameter: 36\n",
       "   body: 4\n",
       "3. (H)\n",
       "   core type: ExprTuple\n",
       "   sub-expressions: 36\n",
       "4. {forall_{X | X subset_eq H} [forall_{P | P = OrthoProj(H, X)} (P^{2} = P)] if H in_c HilbertSpaces.\n",
       "   core type: Conditional\n",
       "   value: 5\n",
       "   condition: 6\n",
       "5. forall_{X | X subset_eq H} [forall_{P | P = OrthoProj(H, X)} (P^{2} = P)]\n",
       "   core type: Operation\n",
       "   operator: 16\n",
       "   operand: 10\n",
       "6. H in_c HilbertSpaces\n",
       "   core type: Operation\n",
       "   operator: 8\n",
       "   operands: 9\n",
       "7. (X -> {forall_{P | P = OrthoProj(H, X)} (P^{2} = P) if X subset_eq H.)\n",
       "   core type: ExprTuple\n",
       "   sub-expressions: 10\n",
       "8. in_c\n",
       "   core type: Literal\n",
       "   sub-expressions: \n",
       "9. (H, HilbertSpaces)\n",
       "   core type: ExprTuple\n",
       "   sub-expressions: 36, 11\n",
       "10. X -> {forall_{P | P = OrthoProj(H, X)} (P^{2} = P) if X subset_eq H.\n",
       "    core type: Lambda\n",
       "    parameter: 37\n",
       "    body: 13\n",
       "11. HilbertSpaces\n",
       "    core type: Literal\n",
       "    sub-expressions: \n",
       "12. (X)\n",
       "    core type: ExprTuple\n",
       "    sub-expressions: 37\n",
       "13. {forall_{P | P = OrthoProj(H, X)} (P^{2} = P) if X subset_eq H.\n",
       "    core type: Conditional\n",
       "    value: 14\n",
       "    condition: 15\n",
       "14. forall_{P | P = OrthoProj(H, X)} (P^{2} = P)\n",
       "    core type: Operation\n",
       "    operator: 16\n",
       "    operand: 20\n",
       "15. X subset_eq H\n",
       "    core type: Operation\n",
       "    operator: 18\n",
       "    operands: 19\n",
       "16. forall\n",
       "    core type: Literal\n",
       "    sub-expressions: \n",
       "17. (P -> {P^{2} = P if P = OrthoProj(H, X).)\n",
       "    core type: ExprTuple\n",
       "    sub-expressions: 20\n",
       "18. subset_eq\n",
       "    core type: Literal\n",
       "    sub-expressions: \n",
       "19. (X, H)\n",
       "    core type: ExprTuple\n",
       "    sub-expressions: 37, 36\n",
       "20. P -> {P^{2} = P if P = OrthoProj(H, X).\n",
       "    core type: Lambda\n",
       "    parameter: 34\n",
       "    body: 22\n",
       "21. (P)\n",
       "    core type: ExprTuple\n",
       "    sub-expressions: 34\n",
       "22. {P^{2} = P if P = OrthoProj(H, X).\n",
       "    core type: Conditional\n",
       "    value: 23\n",
       "    condition: 24\n",
       "23. P^{2} = P\n",
       "    core type: Operation\n",
       "    operator: 26\n",
       "    operands: 25\n",
       "24. P = OrthoProj(H, X)\n",
       "    core type: Operation\n",
       "    operator: 26\n",
       "    operands: 27\n",
       "25. (P^{2}, P)\n",
       "    core type: ExprTuple\n",
       "    sub-expressions: 28, 34\n",
       "26. =\n",
       "    core type: Literal\n",
       "    sub-expressions: \n",
       "27. (P, OrthoProj(H, X))\n",
       "    core type: ExprTuple\n",
       "    sub-expressions: 34, 29\n",
       "28. P^{2}\n",
       "    core type: Operation\n",
       "    operator: 30\n",
       "    operands: 31\n",
       "29. OrthoProj(H, X)\n",
       "    core type: Operation\n",
       "    operator: 32\n",
       "    operands: 33\n",
       "30. Exp\n",
       "    core type: Literal\n",
       "    sub-expressions: \n",
       "31. (P, 2)\n",
       "    core type: ExprTuple\n",
       "    sub-expressions: 34, 35\n",
       "32. OrthoProj\n",
       "    core type: Literal\n",
       "    sub-expressions: \n",
       "33. (H, X)\n",
       "    core type: ExprTuple\n",
       "    sub-expressions: 36, 37\n",
       "34. P\n",
       "    core type: Variable\n",
       "    sub-expressions: \n",
       "35. 2\n",
       "    core type: Literal\n",
       "    sub-expressions: \n",
       "36. H\n",
       "    core type: Variable\n",
       "    sub-expressions: \n",
       "37. X\n",
       "    core type: Variable\n",
       "    sub-expressions: "
      ]
     },
     "metadata": {},
     "output_type": "display_data"
    }
   ],
   "source": [
    "# display the expression information\n",
    "stored_expr.expr_info()"
   ]
  },
  {
   "cell_type": "code",
   "execution_count": null,
   "metadata": {},
   "outputs": [],
   "source": []
  }
 ],
 "metadata": {
  "kernelspec": {
   "display_name": "Python 3",
   "language": "python",
   "name": "python3"
  }
 },
 "nbformat": 4,
 "nbformat_minor": 0
}