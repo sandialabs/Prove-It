{
 "cells": [
  {
   "cell_type": "markdown",
   "metadata": {},
   "source": [
    "Expression of type <a class=\"ProveItLink\" href=\"../../../../../../../doc/html/api/proveit.Lambda.html\">Lambda</a>\n",
    "=======================\n",
    "# from the theory of <a class=\"ProveItLink\" href=\"../../../_theory_nbs_/theory.ipynb\">proveit.linear_algebra.inner_products</a>"
   ]
  },
  {
   "cell_type": "code",
   "execution_count": 1,
   "metadata": {},
   "outputs": [],
   "source": [
    "import proveit\n",
    "# Automation is not needed when building an expression:\n",
    "proveit.defaults.automation = False # This will speed things up.\n",
    "proveit.defaults.inline_pngs = False # Makes files smaller.\n",
    "%load_expr # Load the stored expression as 'stored_expr'\n",
    "# import Expression classes needed to build the expression\n",
    "from proveit import H, K, Lambda, x, y, z\n",
    "from proveit.linear_algebra import InnerProd, InnerProdSpaces, VecAdd\n",
    "from proveit.logic import Equals, Forall"
   ]
  },
  {
   "cell_type": "code",
   "execution_count": 2,
   "metadata": {},
   "outputs": [
    {
     "data": {
      "text/html": [
       "<strong id=\"expr\">expr:</strong> <a class=\"ProveItLink\" href=\"expr.ipynb\"><img src=\"expr.png\" style=\"display:inline;vertical-align:middle;\" /></a><br>"
      ],
      "text/plain": [
       "<IPython.core.display.HTML object>"
      ]
     },
     "metadata": {},
     "output_type": "display_data"
    }
   ],
   "source": [
    "# build up the expression from sub-expressions\n",
    "sub_expr1 = InnerProd(x, z)\n",
    "expr = Lambda(K, Forall(instance_param_or_params = [H], instance_expr = Forall(instance_param_or_params = [x, y, z], instance_expr = Equals(InnerProd(VecAdd(x, y), z), VecAdd(sub_expr1, sub_expr1)), domain = H), domain = InnerProdSpaces(K)))"
   ]
  },
  {
   "cell_type": "code",
   "execution_count": 3,
   "metadata": {},
   "outputs": [
    {
     "name": "stdout",
     "output_type": "stream",
     "text": [
      "Passed sanity check: expr matches stored_expr\n"
     ]
    }
   ],
   "source": [
    "# check that the built expression is the same as the stored expression\n",
    "assert expr == stored_expr\n",
    "assert expr._style_id == stored_expr._style_id\n",
    "print(\"Passed sanity check: expr matches stored_expr\")"
   ]
  },
  {
   "cell_type": "code",
   "execution_count": 4,
   "metadata": {},
   "outputs": [
    {
     "name": "stdout",
     "output_type": "stream",
     "text": [
      "K \\mapsto \\left[\\forall_{H \\underset{{\\scriptscriptstyle c}}{\\in} \\textrm{InnerProdSpaces}\\left(K\\right)}~\\left[\\forall_{x, y, z \\in H}~\\left(\\left \\langle x + y, z\\right \\rangle = \\left(\\left \\langle x, z\\right \\rangle + \\left \\langle x, z\\right \\rangle\\right)\\right)\\right]\\right]\n"
     ]
    }
   ],
   "source": [
    "# Show the LaTeX representation of the expression for convenience if you need it.\n",
    "print(stored_expr.latex())"
   ]
  },
  {
   "cell_type": "code",
   "execution_count": 5,
   "metadata": {},
   "outputs": [
    {
     "data": {
      "text/html": [
       "no style options"
      ],
      "text/plain": [
       "no style options"
      ]
     },
     "metadata": {},
     "output_type": "display_data"
    }
   ],
   "source": [
    "stored_expr.style_options()"
   ]
  },
  {
   "cell_type": "code",
   "execution_count": 6,
   "metadata": {},
   "outputs": [
    {
     "data": {
      "text/html": [
       "<table><tr><th>&nbsp;</th><th>core type</th><th>sub-expressions</th><th>expression</th></tr>\n",
       "<tr><td>0</td><td>Lambda</td><td>parameter:&nbsp;20<br>body:&nbsp;1<br></td><td><a class=\"ProveItLink\" href=\"expr.ipynb\"><img src=\"expr.png\" style=\"display:inline;vertical-align:middle;\" /></a></td></tr>\n",
       "<tr><td>1</td><td>Operation</td><td>operator:&nbsp;8<br>operand:&nbsp;3<br></td><td><a class=\"ProveItLink\" href=\"../7085cfdb2a6a3a48ed3caae9995c7c6e0b5d515c0/expr.ipynb\"><img src=\"../7085cfdb2a6a3a48ed3caae9995c7c6e0b5d515c0/expr.png\" style=\"display:inline;vertical-align:middle;\" /></a></td></tr>\n",
       "<tr><td>2</td><td>ExprTuple</td><td>3</td><td><a class=\"ProveItLink\" href=\"../245f6da2bc553692917ca77d130f967b837236b60/expr.ipynb\"><img src=\"../245f6da2bc553692917ca77d130f967b837236b60/expr.png\" style=\"display:inline;vertical-align:middle;\" /></a></td></tr>\n",
       "<tr><td>3</td><td>Lambda</td><td>parameter:&nbsp;38<br>body:&nbsp;5<br></td><td><a class=\"ProveItLink\" href=\"../920f4a67546f5ef661c9927d7652e9dbf9ce25280/expr.ipynb\"><img src=\"../920f4a67546f5ef661c9927d7652e9dbf9ce25280/expr.png\" style=\"display:inline;vertical-align:middle;\" /></a></td></tr>\n",
       "<tr><td>4</td><td>ExprTuple</td><td>38</td><td><a class=\"ProveItLink\" href=\"../3214f6d50d9b000d7aac6b69fe8e45c58e2207b10/expr.ipynb\"><img src=\"../3214f6d50d9b000d7aac6b69fe8e45c58e2207b10/expr.png\" style=\"display:inline;vertical-align:middle;\" /></a></td></tr>\n",
       "<tr><td>5</td><td>Conditional</td><td>value:&nbsp;6<br>condition:&nbsp;7<br></td><td><a class=\"ProveItLink\" href=\"../78dbf3ba7c9d559fe1459b7f741fc50f4e487e3b0/expr.ipynb\"><img src=\"../78dbf3ba7c9d559fe1459b7f741fc50f4e487e3b0/expr.png\" style=\"display:inline;vertical-align:middle;\" /></a></td></tr>\n",
       "<tr><td>6</td><td>Operation</td><td>operator:&nbsp;8<br>operand:&nbsp;12<br></td><td><a class=\"ProveItLink\" href=\"../f480f3929b7ab9828c1790472910444366118d110/expr.ipynb\"><img src=\"../f480f3929b7ab9828c1790472910444366118d110/expr.png\" style=\"display:inline;vertical-align:middle;\" /></a></td></tr>\n",
       "<tr><td>7</td><td>Operation</td><td>operator:&nbsp;10<br>operands:&nbsp;11<br></td><td><a class=\"ProveItLink\" href=\"../cffb7c2eee228de9f7655ce57f1d731b5f8148710/expr.ipynb\"><img src=\"../cffb7c2eee228de9f7655ce57f1d731b5f8148710/expr.png\" style=\"display:inline;vertical-align:middle;\" /></a></td></tr>\n",
       "<tr><td>8</td><td>Literal</td><td></td><td><a class=\"ProveItLink\" href=\"../../../../../logic/booleans/quantification/universality/__pv_it/common/083d2baa0b8ecab1d230f9ec29a15aa1355809fb0/expr.ipynb\"><img src=\"../../../../../logic/booleans/quantification/universality/__pv_it/common/083d2baa0b8ecab1d230f9ec29a15aa1355809fb0/expr.png\" style=\"display:inline;vertical-align:middle;\" /></a></td></tr>\n",
       "<tr><td>9</td><td>ExprTuple</td><td>12</td><td><a class=\"ProveItLink\" href=\"../e3de5b845be6a64ee2d8ee7343c4e9e4db3d45720/expr.ipynb\"><img src=\"../e3de5b845be6a64ee2d8ee7343c4e9e4db3d45720/expr.png\" style=\"display:inline;vertical-align:middle;\" /></a></td></tr>\n",
       "<tr><td>10</td><td>Literal</td><td></td><td><a class=\"ProveItLink\" href=\"../../../../../logic/classes/membership/__pv_it/common/e3b437d28fbe17f0a50c9789c7c9b47a1270f1420/expr.ipynb\"><img src=\"../../../../../logic/classes/membership/__pv_it/common/e3b437d28fbe17f0a50c9789c7c9b47a1270f1420/expr.png\" style=\"display:inline;vertical-align:middle;\" /></a></td></tr>\n",
       "<tr><td>11</td><td>ExprTuple</td><td>38, 13</td><td><a class=\"ProveItLink\" href=\"../d642dab1ed63813669c75fbb82dc8c33eb563b360/expr.ipynb\"><img src=\"../d642dab1ed63813669c75fbb82dc8c33eb563b360/expr.png\" style=\"display:inline;vertical-align:middle;\" /></a></td></tr>\n",
       "<tr><td>12</td><td>Lambda</td><td>parameters:&nbsp;14<br>body:&nbsp;15<br></td><td><a class=\"ProveItLink\" href=\"../46cb81068e8473d92710009627f8f18b2c3995720/expr.ipynb\"><img src=\"../46cb81068e8473d92710009627f8f18b2c3995720/expr.png\" style=\"display:inline;vertical-align:middle;\" /></a></td></tr>\n",
       "<tr><td>13</td><td>Operation</td><td>operator:&nbsp;16<br>operand:&nbsp;20<br></td><td><a class=\"ProveItLink\" href=\"../011f81088f83ec65cda9a891728400f0a0c30f920/expr.ipynb\"><img src=\"../011f81088f83ec65cda9a891728400f0a0c30f920/expr.png\" style=\"display:inline;vertical-align:middle;\" /></a></td></tr>\n",
       "<tr><td>14</td><td>ExprTuple</td><td>44, 43, 45</td><td><a class=\"ProveItLink\" href=\"../ad051f8530138a126c248572b29596b23c427da30/expr.ipynb\"><img src=\"../ad051f8530138a126c248572b29596b23c427da30/expr.png\" style=\"display:inline;vertical-align:middle;\" /></a></td></tr>\n",
       "<tr><td>15</td><td>Conditional</td><td>value:&nbsp;18<br>condition:&nbsp;19<br></td><td><a class=\"ProveItLink\" href=\"../0f11a8cb3eae2d4d1318bb82953c0a4c947bb9b80/expr.ipynb\"><img src=\"../0f11a8cb3eae2d4d1318bb82953c0a4c947bb9b80/expr.png\" style=\"display:inline;vertical-align:middle;\" /></a></td></tr>\n",
       "<tr><td>16</td><td>Literal</td><td></td><td><a class=\"ProveItLink\" href=\"../../common/97dce8f33694d8d827400c818f103930399de7dc0/expr.ipynb\"><img src=\"../../common/97dce8f33694d8d827400c818f103930399de7dc0/expr.png\" style=\"display:inline;vertical-align:middle;\" /></a></td></tr>\n",
       "<tr><td>17</td><td>ExprTuple</td><td>20</td><td><a class=\"ProveItLink\" href=\"../dfa81a569aedd40943c42f533e78bc2f073711130/expr.ipynb\"><img src=\"../dfa81a569aedd40943c42f533e78bc2f073711130/expr.png\" style=\"display:inline;vertical-align:middle;\" /></a></td></tr>\n",
       "<tr><td>18</td><td>Operation</td><td>operator:&nbsp;21<br>operands:&nbsp;22<br></td><td><a class=\"ProveItLink\" href=\"../5e7a66b6d4795ad2e6f2419a9bef070bd08f9af10/expr.ipynb\"><img src=\"../5e7a66b6d4795ad2e6f2419a9bef070bd08f9af10/expr.png\" style=\"display:inline;vertical-align:middle;\" /></a></td></tr>\n",
       "<tr><td>19</td><td>Operation</td><td>operator:&nbsp;23<br>operands:&nbsp;24<br></td><td><a class=\"ProveItLink\" href=\"../23db59d09bf38d9acf4b32745f3952b053a9a25e0/expr.ipynb\"><img src=\"../23db59d09bf38d9acf4b32745f3952b053a9a25e0/expr.png\" style=\"display:inline;vertical-align:middle;\" /></a></td></tr>\n",
       "<tr><td>20</td><td>Variable</td><td></td><td><a class=\"ProveItLink\" href=\"../../../../../__pv_it/common/1f2ffac7a1dc7c1a4f1fc7348356ae64ea992c790/expr.ipynb\"><img src=\"../../../../../__pv_it/common/1f2ffac7a1dc7c1a4f1fc7348356ae64ea992c790/expr.png\" style=\"display:inline;vertical-align:middle;\" /></a></td></tr>\n",
       "<tr><td>21</td><td>Literal</td><td></td><td><a class=\"ProveItLink\" href=\"../../../../../logic/equality/__pv_it/common/fb96dc12b2aa8801dda64d0132b396c63d1502bb0/expr.ipynb\"><img src=\"../../../../../logic/equality/__pv_it/common/fb96dc12b2aa8801dda64d0132b396c63d1502bb0/expr.png\" style=\"display:inline;vertical-align:middle;\" /></a></td></tr>\n",
       "<tr><td>22</td><td>ExprTuple</td><td>25, 26</td><td><a class=\"ProveItLink\" href=\"../dd1530c32cc423ef96e09b777acaed0e8780db270/expr.ipynb\"><img src=\"../dd1530c32cc423ef96e09b777acaed0e8780db270/expr.png\" style=\"display:inline;vertical-align:middle;\" /></a></td></tr>\n",
       "<tr><td>23</td><td>Literal</td><td></td><td><a class=\"ProveItLink\" href=\"../../../../../logic/booleans/conjunction/__pv_it/common/42118ff318bd65d98b1393f64ce7c2269feef76e0/expr.ipynb\"><img src=\"../../../../../logic/booleans/conjunction/__pv_it/common/42118ff318bd65d98b1393f64ce7c2269feef76e0/expr.png\" style=\"display:inline;vertical-align:middle;\" /></a></td></tr>\n",
       "<tr><td>24</td><td>ExprTuple</td><td>27, 28, 29</td><td><a class=\"ProveItLink\" href=\"../cf2b593db59576c89393a6c5d77f1b2af6ff6a360/expr.ipynb\"><img src=\"../cf2b593db59576c89393a6c5d77f1b2af6ff6a360/expr.png\" style=\"display:inline;vertical-align:middle;\" /></a></td></tr>\n",
       "<tr><td>25</td><td>Operation</td><td>operator:&nbsp;41<br>operands:&nbsp;30<br></td><td><a class=\"ProveItLink\" href=\"../4dca2e4864afdb683f281e90cda3ac7fb6e5c9af0/expr.ipynb\"><img src=\"../4dca2e4864afdb683f281e90cda3ac7fb6e5c9af0/expr.png\" style=\"display:inline;vertical-align:middle;\" /></a></td></tr>\n",
       "<tr><td>26</td><td>Operation</td><td>operator:&nbsp;39<br>operands:&nbsp;31<br></td><td><a class=\"ProveItLink\" href=\"../db1e447a5441b4383595903b9c907180f4fbbab90/expr.ipynb\"><img src=\"../db1e447a5441b4383595903b9c907180f4fbbab90/expr.png\" style=\"display:inline;vertical-align:middle;\" /></a></td></tr>\n",
       "<tr><td>27</td><td>Operation</td><td>operator:&nbsp;34<br>operands:&nbsp;32<br></td><td><a class=\"ProveItLink\" href=\"../752c2d785f966bf6d0dd21131a494bf14b1974510/expr.ipynb\"><img src=\"../752c2d785f966bf6d0dd21131a494bf14b1974510/expr.png\" style=\"display:inline;vertical-align:middle;\" /></a></td></tr>\n",
       "<tr><td>28</td><td>Operation</td><td>operator:&nbsp;34<br>operands:&nbsp;33<br></td><td><a class=\"ProveItLink\" href=\"../01d1802f9f087bb7916de057ea20d6d4dbbb90c80/expr.ipynb\"><img src=\"../01d1802f9f087bb7916de057ea20d6d4dbbb90c80/expr.png\" style=\"display:inline;vertical-align:middle;\" /></a></td></tr>\n",
       "<tr><td>29</td><td>Operation</td><td>operator:&nbsp;34<br>operands:&nbsp;35<br></td><td><a class=\"ProveItLink\" href=\"../5d87133bf25576689e389f1df9286bd5d5042eba0/expr.ipynb\"><img src=\"../5d87133bf25576689e389f1df9286bd5d5042eba0/expr.png\" style=\"display:inline;vertical-align:middle;\" /></a></td></tr>\n",
       "<tr><td>30</td><td>ExprTuple</td><td>36, 45</td><td><a class=\"ProveItLink\" href=\"../07d460c107fa798d9c588d907bc6edffb28912790/expr.ipynb\"><img src=\"../07d460c107fa798d9c588d907bc6edffb28912790/expr.png\" style=\"display:inline;vertical-align:middle;\" /></a></td></tr>\n",
       "<tr><td>31</td><td>ExprTuple</td><td>37, 37</td><td><a class=\"ProveItLink\" href=\"../c4a392461b950de681c72a79787bdb186c4605820/expr.ipynb\"><img src=\"../c4a392461b950de681c72a79787bdb186c4605820/expr.png\" style=\"display:inline;vertical-align:middle;\" /></a></td></tr>\n",
       "<tr><td>32</td><td>ExprTuple</td><td>44, 38</td><td><a class=\"ProveItLink\" href=\"../a8eb363c5254eeb022e1a465b1c28e7ca2de55a30/expr.ipynb\"><img src=\"../a8eb363c5254eeb022e1a465b1c28e7ca2de55a30/expr.png\" style=\"display:inline;vertical-align:middle;\" /></a></td></tr>\n",
       "<tr><td>33</td><td>ExprTuple</td><td>43, 38</td><td><a class=\"ProveItLink\" href=\"../e3a3e72fb27ba14b2c1fbfbb1e16d90be2b91e730/expr.ipynb\"><img src=\"../e3a3e72fb27ba14b2c1fbfbb1e16d90be2b91e730/expr.png\" style=\"display:inline;vertical-align:middle;\" /></a></td></tr>\n",
       "<tr><td>34</td><td>Literal</td><td></td><td><a class=\"ProveItLink\" href=\"../../../../../logic/sets/membership/__pv_it/common/477487d8796864d23d5810f83761435f25167f690/expr.ipynb\"><img src=\"../../../../../logic/sets/membership/__pv_it/common/477487d8796864d23d5810f83761435f25167f690/expr.png\" style=\"display:inline;vertical-align:middle;\" /></a></td></tr>\n",
       "<tr><td>35</td><td>ExprTuple</td><td>45, 38</td><td><a class=\"ProveItLink\" href=\"../79af5c0211c1b027a33587222146db2668454eb10/expr.ipynb\"><img src=\"../79af5c0211c1b027a33587222146db2668454eb10/expr.png\" style=\"display:inline;vertical-align:middle;\" /></a></td></tr>\n",
       "<tr><td>36</td><td>Operation</td><td>operator:&nbsp;39<br>operands:&nbsp;40<br></td><td><a class=\"ProveItLink\" href=\"../51984e200acb1c36ad7e84d8bbd0820cec6e895f0/expr.ipynb\"><img src=\"../51984e200acb1c36ad7e84d8bbd0820cec6e895f0/expr.png\" style=\"display:inline;vertical-align:middle;\" /></a></td></tr>\n",
       "<tr><td>37</td><td>Operation</td><td>operator:&nbsp;41<br>operands:&nbsp;42<br></td><td><a class=\"ProveItLink\" href=\"../cc8955e196e6bbe96a4723722399527b4290d7290/expr.ipynb\"><img src=\"../cc8955e196e6bbe96a4723722399527b4290d7290/expr.png\" style=\"display:inline;vertical-align:middle;\" /></a></td></tr>\n",
       "<tr><td>38</td><td>Variable</td><td></td><td><a class=\"ProveItLink\" href=\"../../../../../__pv_it/common/db1921da064725c141f453bae2d02f0bb2333a8a0/expr.ipynb\"><img src=\"../../../../../__pv_it/common/db1921da064725c141f453bae2d02f0bb2333a8a0/expr.png\" style=\"display:inline;vertical-align:middle;\" /></a></td></tr>\n",
       "<tr><td>39</td><td>Literal</td><td></td><td><a class=\"ProveItLink\" href=\"../../../../addition/__pv_it/common/ac3c140c9094f065c7f7db15c94558731443639c0/expr.ipynb\"><img src=\"../../../../addition/__pv_it/common/ac3c140c9094f065c7f7db15c94558731443639c0/expr.png\" style=\"display:inline;vertical-align:middle;\" /></a></td></tr>\n",
       "<tr><td>40</td><td>ExprTuple</td><td>44, 43</td><td><a class=\"ProveItLink\" href=\"../bbaa48af4605eceb7fbc4af345a1eb6de480e1c50/expr.ipynb\"><img src=\"../bbaa48af4605eceb7fbc4af345a1eb6de480e1c50/expr.png\" style=\"display:inline;vertical-align:middle;\" /></a></td></tr>\n",
       "<tr><td>41</td><td>Literal</td><td></td><td><a class=\"ProveItLink\" href=\"../../common/3c2fb0727e51ccc44869d1fd03bc36b5f019b5010/expr.ipynb\"><img src=\"../../common/3c2fb0727e51ccc44869d1fd03bc36b5f019b5010/expr.png\" style=\"display:inline;vertical-align:middle;\" /></a></td></tr>\n",
       "<tr><td>42</td><td>ExprTuple</td><td>44, 45</td><td><a class=\"ProveItLink\" href=\"../89a913c4fcce790c0c99d28a431789287fb525c60/expr.ipynb\"><img src=\"../89a913c4fcce790c0c99d28a431789287fb525c60/expr.png\" style=\"display:inline;vertical-align:middle;\" /></a></td></tr>\n",
       "<tr><td>43</td><td>Variable</td><td></td><td><a class=\"ProveItLink\" href=\"../../../../../__pv_it/common/ff7dba4ef0bbe791ab573bf2d9c220a304399ac80/expr.ipynb\"><img src=\"../../../../../__pv_it/common/ff7dba4ef0bbe791ab573bf2d9c220a304399ac80/expr.png\" style=\"display:inline;vertical-align:middle;\" /></a></td></tr>\n",
       "<tr><td>44</td><td>Variable</td><td></td><td><a class=\"ProveItLink\" href=\"../../../../../__pv_it/common/a0d9d672aa5e272d907247690c152cc2c6daafb70/expr.ipynb\"><img src=\"../../../../../__pv_it/common/a0d9d672aa5e272d907247690c152cc2c6daafb70/expr.png\" style=\"display:inline;vertical-align:middle;\" /></a></td></tr>\n",
       "<tr><td>45</td><td>Variable</td><td></td><td><a class=\"ProveItLink\" href=\"../../../../../__pv_it/common/95a8f6b9b9f29b83f192ad7fd05708d6be097a3f0/expr.ipynb\"><img src=\"../../../../../__pv_it/common/95a8f6b9b9f29b83f192ad7fd05708d6be097a3f0/expr.png\" style=\"display:inline;vertical-align:middle;\" /></a></td></tr>\n",
       "</table>\n"
      ],
      "text/plain": [
       "0. K -> [forall_{H in_c InnerProdSpaces(K)} [forall_{x, y, z in H} (<x + y, z> = (<x, z> + <x, z>))]]\n",
       "   core type: Lambda\n",
       "   parameter: 20\n",
       "   body: 1\n",
       "1. forall_{H in_c InnerProdSpaces(K)} [forall_{x, y, z in H} (<x + y, z> = (<x, z> + <x, z>))]\n",
       "   core type: Operation\n",
       "   operator: 8\n",
       "   operand: 3\n",
       "2. (H -> {forall_{x, y, z in H} (<x + y, z> = (<x, z> + <x, z>)) if H in_c InnerProdSpaces(K).)\n",
       "   core type: ExprTuple\n",
       "   sub-expressions: 3\n",
       "3. H -> {forall_{x, y, z in H} (<x + y, z> = (<x, z> + <x, z>)) if H in_c InnerProdSpaces(K).\n",
       "   core type: Lambda\n",
       "   parameter: 38\n",
       "   body: 5\n",
       "4. (H)\n",
       "   core type: ExprTuple\n",
       "   sub-expressions: 38\n",
       "5. {forall_{x, y, z in H} (<x + y, z> = (<x, z> + <x, z>)) if H in_c InnerProdSpaces(K).\n",
       "   core type: Conditional\n",
       "   value: 6\n",
       "   condition: 7\n",
       "6. forall_{x, y, z in H} (<x + y, z> = (<x, z> + <x, z>))\n",
       "   core type: Operation\n",
       "   operator: 8\n",
       "   operand: 12\n",
       "7. H in_c InnerProdSpaces(K)\n",
       "   core type: Operation\n",
       "   operator: 10\n",
       "   operands: 11\n",
       "8. forall\n",
       "   core type: Literal\n",
       "   sub-expressions: \n",
       "9. ((x, y, z) -> {<x + y, z> = (<x, z> + <x, z>) if x in H ,  y in H ,  z in H.)\n",
       "   core type: ExprTuple\n",
       "   sub-expressions: 12\n",
       "10. in_c\n",
       "    core type: Literal\n",
       "    sub-expressions: \n",
       "11. (H, InnerProdSpaces(K))\n",
       "    core type: ExprTuple\n",
       "    sub-expressions: 38, 13\n",
       "12. (x, y, z) -> {<x + y, z> = (<x, z> + <x, z>) if x in H ,  y in H ,  z in H.\n",
       "    core type: Lambda\n",
       "    parameters: 14\\n    body: 15\n",
       "13. InnerProdSpaces(K)\n",
       "    core type: Operation\n",
       "    operator: 16\n",
       "    operand: 20\n",
       "14. (x, y, z)\n",
       "    core type: ExprTuple\n",
       "    sub-expressions: 44, 43, 45\n",
       "15. {<x + y, z> = (<x, z> + <x, z>) if x in H ,  y in H ,  z in H.\n",
       "    core type: Conditional\n",
       "    value: 18\n",
       "    condition: 19\n",
       "16. InnerProdSpaces\n",
       "    core type: Literal\n",
       "    sub-expressions: \n",
       "17. (K)\n",
       "    core type: ExprTuple\n",
       "    sub-expressions: 20\n",
       "18. <x + y, z> = (<x, z> + <x, z>)\n",
       "    core type: Operation\n",
       "    operator: 21\n",
       "    operands: 22\n",
       "19. (x in H) and (y in H) and (z in H)\n",
       "    core type: Operation\n",
       "    operator: 23\n",
       "    operands: 24\n",
       "20. K\n",
       "    core type: Variable\n",
       "    sub-expressions: \n",
       "21. =\n",
       "    core type: Literal\n",
       "    sub-expressions: \n",
       "22. (<x + y, z>, <x, z> + <x, z>)\n",
       "    core type: ExprTuple\n",
       "    sub-expressions: 25, 26\n",
       "23. and\n",
       "    core type: Literal\n",
       "    sub-expressions: \n",
       "24. (x in H, y in H, z in H)\n",
       "    core type: ExprTuple\n",
       "    sub-expressions: 27, 28, 29\n",
       "25. <x + y, z>\n",
       "    core type: Operation\n",
       "    operator: 41\n",
       "    operands: 30\n",
       "26. <x, z> + <x, z>\n",
       "    core type: Operation\n",
       "    operator: 39\n",
       "    operands: 31\n",
       "27. x in H\n",
       "    core type: Operation\n",
       "    operator: 34\n",
       "    operands: 32\n",
       "28. y in H\n",
       "    core type: Operation\n",
       "    operator: 34\n",
       "    operands: 33\n",
       "29. z in H\n",
       "    core type: Operation\n",
       "    operator: 34\n",
       "    operands: 35\n",
       "30. (x + y, z)\n",
       "    core type: ExprTuple\n",
       "    sub-expressions: 36, 45\n",
       "31. (<x, z>, <x, z>)\n",
       "    core type: ExprTuple\n",
       "    sub-expressions: 37, 37\n",
       "32. (x, H)\n",
       "    core type: ExprTuple\n",
       "    sub-expressions: 44, 38\n",
       "33. (y, H)\n",
       "    core type: ExprTuple\n",
       "    sub-expressions: 43, 38\n",
       "34. in\n",
       "    core type: Literal\n",
       "    sub-expressions: \n",
       "35. (z, H)\n",
       "    core type: ExprTuple\n",
       "    sub-expressions: 45, 38\n",
       "36. x + y\n",
       "    core type: Operation\n",
       "    operator: 39\n",
       "    operands: 40\n",
       "37. <x, z>\n",
       "    core type: Operation\n",
       "    operator: 41\n",
       "    operands: 42\n",
       "38. H\n",
       "    core type: Variable\n",
       "    sub-expressions: \n",
       "39. +\n",
       "    core type: Literal\n",
       "    sub-expressions: \n",
       "40. (x, y)\n",
       "    core type: ExprTuple\n",
       "    sub-expressions: 44, 43\n",
       "41. InnerProd\n",
       "    core type: Literal\n",
       "    sub-expressions: \n",
       "42. (x, z)\n",
       "    core type: ExprTuple\n",
       "    sub-expressions: 44, 45\n",
       "43. y\n",
       "    core type: Variable\n",
       "    sub-expressions: \n",
       "44. x\n",
       "    core type: Variable\n",
       "    sub-expressions: \n",
       "45. z\n",
       "    core type: Variable\n",
       "    sub-expressions: "
      ]
     },
     "metadata": {},
     "output_type": "display_data"
    }
   ],
   "source": [
    "# display the expression information\n",
    "stored_expr.expr_info()"
   ]
  },
  {
   "cell_type": "code",
   "execution_count": null,
   "metadata": {},
   "outputs": [],
   "source": []
  }
 ],
 "metadata": {
  "kernelspec": {
   "display_name": "Python 3",
   "language": "python",
   "name": "python3"
  }
 },
 "nbformat": 4,
 "nbformat_minor": 0
}