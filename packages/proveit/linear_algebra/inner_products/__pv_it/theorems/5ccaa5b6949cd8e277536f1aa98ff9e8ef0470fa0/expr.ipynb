{
 "cells": [
  {
   "cell_type": "markdown",
   "metadata": {},
   "source": [
    "Expression of type <a class=\"ProveItLink\" href=\"../../../../../../../doc/html/api/proveit.ExprTuple.html\">ExprTuple</a>\n",
    "=======================\n",
    "# from the theory of <a class=\"ProveItLink\" href=\"../../../_theory_nbs_/theory.ipynb\">proveit.linear_algebra.inner_products</a>"
   ]
  },
  {
   "cell_type": "code",
   "execution_count": 1,
   "metadata": {},
   "outputs": [],
   "source": [
    "import proveit\n",
    "# Automation is not needed when building an expression:\n",
    "proveit.defaults.automation = False # This will speed things up.\n",
    "proveit.defaults.inline_pngs = False # Makes files smaller.\n",
    "%load_expr # Load the stored expression as 'stored_expr'\n",
    "# import Expression classes needed to build the expression\n",
    "from proveit import Conditional, ExprTuple, H, K, Lambda, a, x, y\n",
    "from proveit.linear_algebra import InnerProd, InnerProdSpaces, ScalarMult\n",
    "from proveit.logic import Equals, Forall, InClass"
   ]
  },
  {
   "cell_type": "code",
   "execution_count": 2,
   "metadata": {},
   "outputs": [
    {
     "data": {
      "text/html": [
       "<strong id=\"expr\">expr:</strong> <a class=\"ProveItLink\" href=\"expr.ipynb\"><img src=\"expr.png\" style=\"display:inline;vertical-align:middle;\" /></a><br>"
      ],
      "text/plain": [
       "<IPython.core.display.HTML object>"
      ]
     },
     "metadata": {},
     "output_type": "display_data"
    }
   ],
   "source": [
    "# build up the expression from sub-expressions\n",
    "expr = ExprTuple(Lambda(H, Conditional(Forall(instance_param_or_params = [a], instance_expr = Forall(instance_param_or_params = [x, y], instance_expr = Equals(InnerProd(x, ScalarMult(a, y)), ScalarMult(a, InnerProd(x, y))), domain = H), domain = K), InClass(H, InnerProdSpaces(K)))))"
   ]
  },
  {
   "cell_type": "code",
   "execution_count": 3,
   "metadata": {},
   "outputs": [
    {
     "name": "stdout",
     "output_type": "stream",
     "text": [
      "Passed sanity check: expr matches stored_expr\n"
     ]
    }
   ],
   "source": [
    "# check that the built expression is the same as the stored expression\n",
    "assert expr == stored_expr\n",
    "assert expr._style_id == stored_expr._style_id\n",
    "print(\"Passed sanity check: expr matches stored_expr\")"
   ]
  },
  {
   "cell_type": "code",
   "execution_count": 4,
   "metadata": {},
   "outputs": [
    {
     "name": "stdout",
     "output_type": "stream",
     "text": [
      "\\left(H \\mapsto \\left\\{\\forall_{a \\in K}~\\left[\\forall_{x, y \\in H}~\\left(\\left \\langle x, a \\cdot y\\right \\rangle = \\left(a \\cdot \\left \\langle x, y\\right \\rangle\\right)\\right)\\right] \\textrm{ if } H \\underset{{\\scriptscriptstyle c}}{\\in} \\textrm{InnerProdSpaces}\\left(K\\right)\\right..\\right)\n"
     ]
    }
   ],
   "source": [
    "# Show the LaTeX representation of the expression for convenience if you need it.\n",
    "print(stored_expr.latex())"
   ]
  },
  {
   "cell_type": "code",
   "execution_count": 5,
   "metadata": {},
   "outputs": [
    {
     "data": {
      "text/html": [
       "no style options"
      ],
      "text/plain": [
       "no style options"
      ]
     },
     "metadata": {},
     "output_type": "display_data"
    }
   ],
   "source": [
    "stored_expr.style_options()"
   ]
  },
  {
   "cell_type": "code",
   "execution_count": 6,
   "metadata": {},
   "outputs": [
    {
     "data": {
      "text/html": [
       "<table><tr><th>&nbsp;</th><th>core type</th><th>sub-expressions</th><th>expression</th></tr>\n",
       "<tr><td>0</td><td>ExprTuple</td><td>1</td><td><a class=\"ProveItLink\" href=\"expr.ipynb\"><img src=\"expr.png\" style=\"display:inline;vertical-align:middle;\" /></a></td></tr>\n",
       "<tr><td>1</td><td>Lambda</td><td>parameter:&nbsp;40<br>body:&nbsp;3<br></td><td><a class=\"ProveItLink\" href=\"../c1347b281048041d5a2333ed9bcc8aa3510044ee0/expr.ipynb\"><img src=\"../c1347b281048041d5a2333ed9bcc8aa3510044ee0/expr.png\" style=\"display:inline;vertical-align:middle;\" /></a></td></tr>\n",
       "<tr><td>2</td><td>ExprTuple</td><td>40</td><td><a class=\"ProveItLink\" href=\"../3214f6d50d9b000d7aac6b69fe8e45c58e2207b10/expr.ipynb\"><img src=\"../3214f6d50d9b000d7aac6b69fe8e45c58e2207b10/expr.png\" style=\"display:inline;vertical-align:middle;\" /></a></td></tr>\n",
       "<tr><td>3</td><td>Conditional</td><td>value:&nbsp;4<br>condition:&nbsp;5<br></td><td><a class=\"ProveItLink\" href=\"../f039f049317a0577d08af71841dbb6770a4484ec0/expr.ipynb\"><img src=\"../f039f049317a0577d08af71841dbb6770a4484ec0/expr.png\" style=\"display:inline;vertical-align:middle;\" /></a></td></tr>\n",
       "<tr><td>4</td><td>Operation</td><td>operator:&nbsp;17<br>operand:&nbsp;9<br></td><td><a class=\"ProveItLink\" href=\"../374ab734ffbe6e46651248308b16aa9c4e1ac4580/expr.ipynb\"><img src=\"../374ab734ffbe6e46651248308b16aa9c4e1ac4580/expr.png\" style=\"display:inline;vertical-align:middle;\" /></a></td></tr>\n",
       "<tr><td>5</td><td>Operation</td><td>operator:&nbsp;7<br>operands:&nbsp;8<br></td><td><a class=\"ProveItLink\" href=\"../cffb7c2eee228de9f7655ce57f1d731b5f8148710/expr.ipynb\"><img src=\"../cffb7c2eee228de9f7655ce57f1d731b5f8148710/expr.png\" style=\"display:inline;vertical-align:middle;\" /></a></td></tr>\n",
       "<tr><td>6</td><td>ExprTuple</td><td>9</td><td><a class=\"ProveItLink\" href=\"../4686617627573616c6d6b62b3bb7ab0e2274017e0/expr.ipynb\"><img src=\"../4686617627573616c6d6b62b3bb7ab0e2274017e0/expr.png\" style=\"display:inline;vertical-align:middle;\" /></a></td></tr>\n",
       "<tr><td>7</td><td>Literal</td><td></td><td><a class=\"ProveItLink\" href=\"../../../../../logic/classes/membership/__pv_it/common/e3b437d28fbe17f0a50c9789c7c9b47a1270f1420/expr.ipynb\"><img src=\"../../../../../logic/classes/membership/__pv_it/common/e3b437d28fbe17f0a50c9789c7c9b47a1270f1420/expr.png\" style=\"display:inline;vertical-align:middle;\" /></a></td></tr>\n",
       "<tr><td>8</td><td>ExprTuple</td><td>40, 10</td><td><a class=\"ProveItLink\" href=\"../d642dab1ed63813669c75fbb82dc8c33eb563b360/expr.ipynb\"><img src=\"../d642dab1ed63813669c75fbb82dc8c33eb563b360/expr.png\" style=\"display:inline;vertical-align:middle;\" /></a></td></tr>\n",
       "<tr><td>9</td><td>Lambda</td><td>parameter:&nbsp;45<br>body:&nbsp;12<br></td><td><a class=\"ProveItLink\" href=\"../e83eab5b5bb3b91e073ae00a3d837a7fd0423b1e0/expr.ipynb\"><img src=\"../e83eab5b5bb3b91e073ae00a3d837a7fd0423b1e0/expr.png\" style=\"display:inline;vertical-align:middle;\" /></a></td></tr>\n",
       "<tr><td>10</td><td>Operation</td><td>operator:&nbsp;13<br>operand:&nbsp;21<br></td><td><a class=\"ProveItLink\" href=\"../011f81088f83ec65cda9a891728400f0a0c30f920/expr.ipynb\"><img src=\"../011f81088f83ec65cda9a891728400f0a0c30f920/expr.png\" style=\"display:inline;vertical-align:middle;\" /></a></td></tr>\n",
       "<tr><td>11</td><td>ExprTuple</td><td>45</td><td><a class=\"ProveItLink\" href=\"../034703c6972b772d60786b3024fb4de33deb9fd00/expr.ipynb\"><img src=\"../034703c6972b772d60786b3024fb4de33deb9fd00/expr.png\" style=\"display:inline;vertical-align:middle;\" /></a></td></tr>\n",
       "<tr><td>12</td><td>Conditional</td><td>value:&nbsp;15<br>condition:&nbsp;16<br></td><td><a class=\"ProveItLink\" href=\"../11efbc8effe3555c560b3e85f2fc32fa9b1b14980/expr.ipynb\"><img src=\"../11efbc8effe3555c560b3e85f2fc32fa9b1b14980/expr.png\" style=\"display:inline;vertical-align:middle;\" /></a></td></tr>\n",
       "<tr><td>13</td><td>Literal</td><td></td><td><a class=\"ProveItLink\" href=\"../../common/97dce8f33694d8d827400c818f103930399de7dc0/expr.ipynb\"><img src=\"../../common/97dce8f33694d8d827400c818f103930399de7dc0/expr.png\" style=\"display:inline;vertical-align:middle;\" /></a></td></tr>\n",
       "<tr><td>14</td><td>ExprTuple</td><td>21</td><td><a class=\"ProveItLink\" href=\"../dfa81a569aedd40943c42f533e78bc2f073711130/expr.ipynb\"><img src=\"../dfa81a569aedd40943c42f533e78bc2f073711130/expr.png\" style=\"display:inline;vertical-align:middle;\" /></a></td></tr>\n",
       "<tr><td>15</td><td>Operation</td><td>operator:&nbsp;17<br>operand:&nbsp;20<br></td><td><a class=\"ProveItLink\" href=\"../d6472d516325008dac5c65330943d8946172361b0/expr.ipynb\"><img src=\"../d6472d516325008dac5c65330943d8946172361b0/expr.png\" style=\"display:inline;vertical-align:middle;\" /></a></td></tr>\n",
       "<tr><td>16</td><td>Operation</td><td>operator:&nbsp;36<br>operands:&nbsp;19<br></td><td><a class=\"ProveItLink\" href=\"../c4a4f07f387dc6aa4911aef3f3a862f71e2f5dff0/expr.ipynb\"><img src=\"../c4a4f07f387dc6aa4911aef3f3a862f71e2f5dff0/expr.png\" style=\"display:inline;vertical-align:middle;\" /></a></td></tr>\n",
       "<tr><td>17</td><td>Literal</td><td></td><td><a class=\"ProveItLink\" href=\"../../../../../logic/booleans/quantification/universality/__pv_it/common/083d2baa0b8ecab1d230f9ec29a15aa1355809fb0/expr.ipynb\"><img src=\"../../../../../logic/booleans/quantification/universality/__pv_it/common/083d2baa0b8ecab1d230f9ec29a15aa1355809fb0/expr.png\" style=\"display:inline;vertical-align:middle;\" /></a></td></tr>\n",
       "<tr><td>18</td><td>ExprTuple</td><td>20</td><td><a class=\"ProveItLink\" href=\"../f7b4c766589ce4bfb316a8ff961726bfd85e827b0/expr.ipynb\"><img src=\"../f7b4c766589ce4bfb316a8ff961726bfd85e827b0/expr.png\" style=\"display:inline;vertical-align:middle;\" /></a></td></tr>\n",
       "<tr><td>19</td><td>ExprTuple</td><td>45, 21</td><td><a class=\"ProveItLink\" href=\"../e54a7b716df7aab9959e416978e0d39dced78c0a0/expr.ipynb\"><img src=\"../e54a7b716df7aab9959e416978e0d39dced78c0a0/expr.png\" style=\"display:inline;vertical-align:middle;\" /></a></td></tr>\n",
       "<tr><td>20</td><td>Lambda</td><td>parameters:&nbsp;44<br>body:&nbsp;22<br></td><td><a class=\"ProveItLink\" href=\"../2c44b0fdfb1df055591afeba2d38b8d0e660507c0/expr.ipynb\"><img src=\"../2c44b0fdfb1df055591afeba2d38b8d0e660507c0/expr.png\" style=\"display:inline;vertical-align:middle;\" /></a></td></tr>\n",
       "<tr><td>21</td><td>Variable</td><td></td><td><a class=\"ProveItLink\" href=\"../../../../../__pv_it/common/1f2ffac7a1dc7c1a4f1fc7348356ae64ea992c790/expr.ipynb\"><img src=\"../../../../../__pv_it/common/1f2ffac7a1dc7c1a4f1fc7348356ae64ea992c790/expr.png\" style=\"display:inline;vertical-align:middle;\" /></a></td></tr>\n",
       "<tr><td>22</td><td>Conditional</td><td>value:&nbsp;23<br>condition:&nbsp;24<br></td><td><a class=\"ProveItLink\" href=\"../3c671d714201f0c619cc1845fa3028ee0f6994e20/expr.ipynb\"><img src=\"../3c671d714201f0c619cc1845fa3028ee0f6994e20/expr.png\" style=\"display:inline;vertical-align:middle;\" /></a></td></tr>\n",
       "<tr><td>23</td><td>Operation</td><td>operator:&nbsp;25<br>operands:&nbsp;26<br></td><td><a class=\"ProveItLink\" href=\"../f31c7c90e2e9862bac16c5e43c5044514b5e114f0/expr.ipynb\"><img src=\"../f31c7c90e2e9862bac16c5e43c5044514b5e114f0/expr.png\" style=\"display:inline;vertical-align:middle;\" /></a></td></tr>\n",
       "<tr><td>24</td><td>Operation</td><td>operator:&nbsp;27<br>operands:&nbsp;28<br></td><td><a class=\"ProveItLink\" href=\"../a80101b6cb54acabdcd6d9024c4f55942db5eda70/expr.ipynb\"><img src=\"../a80101b6cb54acabdcd6d9024c4f55942db5eda70/expr.png\" style=\"display:inline;vertical-align:middle;\" /></a></td></tr>\n",
       "<tr><td>25</td><td>Literal</td><td></td><td><a class=\"ProveItLink\" href=\"../../../../../logic/equality/__pv_it/common/fb96dc12b2aa8801dda64d0132b396c63d1502bb0/expr.ipynb\"><img src=\"../../../../../logic/equality/__pv_it/common/fb96dc12b2aa8801dda64d0132b396c63d1502bb0/expr.png\" style=\"display:inline;vertical-align:middle;\" /></a></td></tr>\n",
       "<tr><td>26</td><td>ExprTuple</td><td>29, 30</td><td><a class=\"ProveItLink\" href=\"../0b7296db8447a9d5d58bf5371c3b975529cbad4a0/expr.ipynb\"><img src=\"../0b7296db8447a9d5d58bf5371c3b975529cbad4a0/expr.png\" style=\"display:inline;vertical-align:middle;\" /></a></td></tr>\n",
       "<tr><td>27</td><td>Literal</td><td></td><td><a class=\"ProveItLink\" href=\"../../../../../logic/booleans/conjunction/__pv_it/common/42118ff318bd65d98b1393f64ce7c2269feef76e0/expr.ipynb\"><img src=\"../../../../../logic/booleans/conjunction/__pv_it/common/42118ff318bd65d98b1393f64ce7c2269feef76e0/expr.png\" style=\"display:inline;vertical-align:middle;\" /></a></td></tr>\n",
       "<tr><td>28</td><td>ExprTuple</td><td>31, 32</td><td><a class=\"ProveItLink\" href=\"../57b2c90bc0aee7e9dfd4a1f4cfce956724e5868c0/expr.ipynb\"><img src=\"../57b2c90bc0aee7e9dfd4a1f4cfce956724e5868c0/expr.png\" style=\"display:inline;vertical-align:middle;\" /></a></td></tr>\n",
       "<tr><td>29</td><td>Operation</td><td>operator:&nbsp;43<br>operands:&nbsp;33<br></td><td><a class=\"ProveItLink\" href=\"../291294a29972c44ea9a9bc4d06c88b082b41d71e0/expr.ipynb\"><img src=\"../291294a29972c44ea9a9bc4d06c88b082b41d71e0/expr.png\" style=\"display:inline;vertical-align:middle;\" /></a></td></tr>\n",
       "<tr><td>30</td><td>Operation</td><td>operator:&nbsp;41<br>operands:&nbsp;34<br></td><td><a class=\"ProveItLink\" href=\"../d8be5d832cdeeda891eef2e1a7e8a52c5a0ecf0a0/expr.ipynb\"><img src=\"../d8be5d832cdeeda891eef2e1a7e8a52c5a0ecf0a0/expr.png\" style=\"display:inline;vertical-align:middle;\" /></a></td></tr>\n",
       "<tr><td>31</td><td>Operation</td><td>operator:&nbsp;36<br>operands:&nbsp;35<br></td><td><a class=\"ProveItLink\" href=\"../752c2d785f966bf6d0dd21131a494bf14b1974510/expr.ipynb\"><img src=\"../752c2d785f966bf6d0dd21131a494bf14b1974510/expr.png\" style=\"display:inline;vertical-align:middle;\" /></a></td></tr>\n",
       "<tr><td>32</td><td>Operation</td><td>operator:&nbsp;36<br>operands:&nbsp;37<br></td><td><a class=\"ProveItLink\" href=\"../01d1802f9f087bb7916de057ea20d6d4dbbb90c80/expr.ipynb\"><img src=\"../01d1802f9f087bb7916de057ea20d6d4dbbb90c80/expr.png\" style=\"display:inline;vertical-align:middle;\" /></a></td></tr>\n",
       "<tr><td>33</td><td>ExprTuple</td><td>46, 38</td><td><a class=\"ProveItLink\" href=\"../98641359e4ec8aa1202b1863e06f222a734aadbd0/expr.ipynb\"><img src=\"../98641359e4ec8aa1202b1863e06f222a734aadbd0/expr.png\" style=\"display:inline;vertical-align:middle;\" /></a></td></tr>\n",
       "<tr><td>34</td><td>ExprTuple</td><td>45, 39</td><td><a class=\"ProveItLink\" href=\"../bcb681bccfc22e42113b942493f13b6bd81a745d0/expr.ipynb\"><img src=\"../bcb681bccfc22e42113b942493f13b6bd81a745d0/expr.png\" style=\"display:inline;vertical-align:middle;\" /></a></td></tr>\n",
       "<tr><td>35</td><td>ExprTuple</td><td>46, 40</td><td><a class=\"ProveItLink\" href=\"../a8eb363c5254eeb022e1a465b1c28e7ca2de55a30/expr.ipynb\"><img src=\"../a8eb363c5254eeb022e1a465b1c28e7ca2de55a30/expr.png\" style=\"display:inline;vertical-align:middle;\" /></a></td></tr>\n",
       "<tr><td>36</td><td>Literal</td><td></td><td><a class=\"ProveItLink\" href=\"../../../../../logic/sets/membership/__pv_it/common/477487d8796864d23d5810f83761435f25167f690/expr.ipynb\"><img src=\"../../../../../logic/sets/membership/__pv_it/common/477487d8796864d23d5810f83761435f25167f690/expr.png\" style=\"display:inline;vertical-align:middle;\" /></a></td></tr>\n",
       "<tr><td>37</td><td>ExprTuple</td><td>47, 40</td><td><a class=\"ProveItLink\" href=\"../e3a3e72fb27ba14b2c1fbfbb1e16d90be2b91e730/expr.ipynb\"><img src=\"../e3a3e72fb27ba14b2c1fbfbb1e16d90be2b91e730/expr.png\" style=\"display:inline;vertical-align:middle;\" /></a></td></tr>\n",
       "<tr><td>38</td><td>Operation</td><td>operator:&nbsp;41<br>operands:&nbsp;42<br></td><td><a class=\"ProveItLink\" href=\"../b9ae03eccfbc7d9ee88ea61e4e3db759c3a528eb0/expr.ipynb\"><img src=\"../b9ae03eccfbc7d9ee88ea61e4e3db759c3a528eb0/expr.png\" style=\"display:inline;vertical-align:middle;\" /></a></td></tr>\n",
       "<tr><td>39</td><td>Operation</td><td>operator:&nbsp;43<br>operands:&nbsp;44<br></td><td><a class=\"ProveItLink\" href=\"../626d2c12ed5d7ede99f56ae5a015b28ef847fbd10/expr.ipynb\"><img src=\"../626d2c12ed5d7ede99f56ae5a015b28ef847fbd10/expr.png\" style=\"display:inline;vertical-align:middle;\" /></a></td></tr>\n",
       "<tr><td>40</td><td>Variable</td><td></td><td><a class=\"ProveItLink\" href=\"../../../../../__pv_it/common/db1921da064725c141f453bae2d02f0bb2333a8a0/expr.ipynb\"><img src=\"../../../../../__pv_it/common/db1921da064725c141f453bae2d02f0bb2333a8a0/expr.png\" style=\"display:inline;vertical-align:middle;\" /></a></td></tr>\n",
       "<tr><td>41</td><td>Literal</td><td></td><td><a class=\"ProveItLink\" href=\"../../../../scalar_multiplication/__pv_it/common/1e364bd471e6a29fcd358dd2d9cd990a1e6fedd40/expr.ipynb\"><img src=\"../../../../scalar_multiplication/__pv_it/common/1e364bd471e6a29fcd358dd2d9cd990a1e6fedd40/expr.png\" style=\"display:inline;vertical-align:middle;\" /></a></td></tr>\n",
       "<tr><td>42</td><td>ExprTuple</td><td>45, 47</td><td><a class=\"ProveItLink\" href=\"../ef6376c7c6407225d32b6b693cda698fb64ddaa30/expr.ipynb\"><img src=\"../ef6376c7c6407225d32b6b693cda698fb64ddaa30/expr.png\" style=\"display:inline;vertical-align:middle;\" /></a></td></tr>\n",
       "<tr><td>43</td><td>Literal</td><td></td><td><a class=\"ProveItLink\" href=\"../../common/3c2fb0727e51ccc44869d1fd03bc36b5f019b5010/expr.ipynb\"><img src=\"../../common/3c2fb0727e51ccc44869d1fd03bc36b5f019b5010/expr.png\" style=\"display:inline;vertical-align:middle;\" /></a></td></tr>\n",
       "<tr><td>44</td><td>ExprTuple</td><td>46, 47</td><td><a class=\"ProveItLink\" href=\"../bbaa48af4605eceb7fbc4af345a1eb6de480e1c50/expr.ipynb\"><img src=\"../bbaa48af4605eceb7fbc4af345a1eb6de480e1c50/expr.png\" style=\"display:inline;vertical-align:middle;\" /></a></td></tr>\n",
       "<tr><td>45</td><td>Variable</td><td></td><td><a class=\"ProveItLink\" href=\"../../../../../__pv_it/common/c06c606ec12678c58933ac85412ecadc2ae28be60/expr.ipynb\"><img src=\"../../../../../__pv_it/common/c06c606ec12678c58933ac85412ecadc2ae28be60/expr.png\" style=\"display:inline;vertical-align:middle;\" /></a></td></tr>\n",
       "<tr><td>46</td><td>Variable</td><td></td><td><a class=\"ProveItLink\" href=\"../../../../../__pv_it/common/a0d9d672aa5e272d907247690c152cc2c6daafb70/expr.ipynb\"><img src=\"../../../../../__pv_it/common/a0d9d672aa5e272d907247690c152cc2c6daafb70/expr.png\" style=\"display:inline;vertical-align:middle;\" /></a></td></tr>\n",
       "<tr><td>47</td><td>Variable</td><td></td><td><a class=\"ProveItLink\" href=\"../../../../../__pv_it/common/ff7dba4ef0bbe791ab573bf2d9c220a304399ac80/expr.ipynb\"><img src=\"../../../../../__pv_it/common/ff7dba4ef0bbe791ab573bf2d9c220a304399ac80/expr.png\" style=\"display:inline;vertical-align:middle;\" /></a></td></tr>\n",
       "</table>\n"
      ],
      "text/plain": [
       "0. (H -> {forall_{a in K} [forall_{x, y in H} (<x, a * y> = (a * <x, y>))] if H in_c InnerProdSpaces(K).)\n",
       "   core type: ExprTuple\n",
       "   sub-expressions: 1\n",
       "1. H -> {forall_{a in K} [forall_{x, y in H} (<x, a * y> = (a * <x, y>))] if H in_c InnerProdSpaces(K).\n",
       "   core type: Lambda\n",
       "   parameter: 40\n",
       "   body: 3\n",
       "2. (H)\n",
       "   core type: ExprTuple\n",
       "   sub-expressions: 40\n",
       "3. {forall_{a in K} [forall_{x, y in H} (<x, a * y> = (a * <x, y>))] if H in_c InnerProdSpaces(K).\n",
       "   core type: Conditional\n",
       "   value: 4\n",
       "   condition: 5\n",
       "4. forall_{a in K} [forall_{x, y in H} (<x, a * y> = (a * <x, y>))]\n",
       "   core type: Operation\n",
       "   operator: 17\n",
       "   operand: 9\n",
       "5. H in_c InnerProdSpaces(K)\n",
       "   core type: Operation\n",
       "   operator: 7\n",
       "   operands: 8\n",
       "6. (a -> {forall_{x, y in H} (<x, a * y> = (a * <x, y>)) if a in K.)\n",
       "   core type: ExprTuple\n",
       "   sub-expressions: 9\n",
       "7. in_c\n",
       "   core type: Literal\n",
       "   sub-expressions: \n",
       "8. (H, InnerProdSpaces(K))\n",
       "   core type: ExprTuple\n",
       "   sub-expressions: 40, 10\n",
       "9. a -> {forall_{x, y in H} (<x, a * y> = (a * <x, y>)) if a in K.\n",
       "   core type: Lambda\n",
       "   parameter: 45\n",
       "   body: 12\n",
       "10. InnerProdSpaces(K)\n",
       "    core type: Operation\n",
       "    operator: 13\n",
       "    operand: 21\n",
       "11. (a)\n",
       "    core type: ExprTuple\n",
       "    sub-expressions: 45\n",
       "12. {forall_{x, y in H} (<x, a * y> = (a * <x, y>)) if a in K.\n",
       "    core type: Conditional\n",
       "    value: 15\n",
       "    condition: 16\n",
       "13. InnerProdSpaces\n",
       "    core type: Literal\n",
       "    sub-expressions: \n",
       "14. (K)\n",
       "    core type: ExprTuple\n",
       "    sub-expressions: 21\n",
       "15. forall_{x, y in H} (<x, a * y> = (a * <x, y>))\n",
       "    core type: Operation\n",
       "    operator: 17\n",
       "    operand: 20\n",
       "16. a in K\n",
       "    core type: Operation\n",
       "    operator: 36\n",
       "    operands: 19\n",
       "17. forall\n",
       "    core type: Literal\n",
       "    sub-expressions: \n",
       "18. ((x, y) -> {<x, a * y> = (a * <x, y>) if x in H ,  y in H.)\n",
       "    core type: ExprTuple\n",
       "    sub-expressions: 20\n",
       "19. (a, K)\n",
       "    core type: ExprTuple\n",
       "    sub-expressions: 45, 21\n",
       "20. (x, y) -> {<x, a * y> = (a * <x, y>) if x in H ,  y in H.\n",
       "    core type: Lambda\n",
       "    parameters: 44\\n    body: 22\n",
       "21. K\n",
       "    core type: Variable\n",
       "    sub-expressions: \n",
       "22. {<x, a * y> = (a * <x, y>) if x in H ,  y in H.\n",
       "    core type: Conditional\n",
       "    value: 23\n",
       "    condition: 24\n",
       "23. <x, a * y> = (a * <x, y>)\n",
       "    core type: Operation\n",
       "    operator: 25\n",
       "    operands: 26\n",
       "24. (x in H) and (y in H)\n",
       "    core type: Operation\n",
       "    operator: 27\n",
       "    operands: 28\n",
       "25. =\n",
       "    core type: Literal\n",
       "    sub-expressions: \n",
       "26. (<x, a * y>, a * <x, y>)\n",
       "    core type: ExprTuple\n",
       "    sub-expressions: 29, 30\n",
       "27. and\n",
       "    core type: Literal\n",
       "    sub-expressions: \n",
       "28. (x in H, y in H)\n",
       "    core type: ExprTuple\n",
       "    sub-expressions: 31, 32\n",
       "29. <x, a * y>\n",
       "    core type: Operation\n",
       "    operator: 43\n",
       "    operands: 33\n",
       "30. a * <x, y>\n",
       "    core type: Operation\n",
       "    operator: 41\n",
       "    operands: 34\n",
       "31. x in H\n",
       "    core type: Operation\n",
       "    operator: 36\n",
       "    operands: 35\n",
       "32. y in H\n",
       "    core type: Operation\n",
       "    operator: 36\n",
       "    operands: 37\n",
       "33. (x, a * y)\n",
       "    core type: ExprTuple\n",
       "    sub-expressions: 46, 38\n",
       "34. (a, <x, y>)\n",
       "    core type: ExprTuple\n",
       "    sub-expressions: 45, 39\n",
       "35. (x, H)\n",
       "    core type: ExprTuple\n",
       "    sub-expressions: 46, 40\n",
       "36. in\n",
       "    core type: Literal\n",
       "    sub-expressions: \n",
       "37. (y, H)\n",
       "    core type: ExprTuple\n",
       "    sub-expressions: 47, 40\n",
       "38. a * y\n",
       "    core type: Operation\n",
       "    operator: 41\n",
       "    operands: 42\n",
       "39. <x, y>\n",
       "    core type: Operation\n",
       "    operator: 43\n",
       "    operands: 44\n",
       "40. H\n",
       "    core type: Variable\n",
       "    sub-expressions: \n",
       "41. *\n",
       "    core type: Literal\n",
       "    sub-expressions: \n",
       "42. (a, y)\n",
       "    core type: ExprTuple\n",
       "    sub-expressions: 45, 47\n",
       "43. InnerProd\n",
       "    core type: Literal\n",
       "    sub-expressions: \n",
       "44. (x, y)\n",
       "    core type: ExprTuple\n",
       "    sub-expressions: 46, 47\n",
       "45. a\n",
       "    core type: Variable\n",
       "    sub-expressions: \n",
       "46. x\n",
       "    core type: Variable\n",
       "    sub-expressions: \n",
       "47. y\n",
       "    core type: Variable\n",
       "    sub-expressions: "
      ]
     },
     "metadata": {},
     "output_type": "display_data"
    }
   ],
   "source": [
    "# display the expression information\n",
    "stored_expr.expr_info()"
   ]
  },
  {
   "cell_type": "code",
   "execution_count": null,
   "metadata": {},
   "outputs": [],
   "source": []
  }
 ],
 "metadata": {
  "kernelspec": {
   "display_name": "Python 3",
   "language": "python",
   "name": "python3"
  }
 },
 "nbformat": 4,
 "nbformat_minor": 0
}