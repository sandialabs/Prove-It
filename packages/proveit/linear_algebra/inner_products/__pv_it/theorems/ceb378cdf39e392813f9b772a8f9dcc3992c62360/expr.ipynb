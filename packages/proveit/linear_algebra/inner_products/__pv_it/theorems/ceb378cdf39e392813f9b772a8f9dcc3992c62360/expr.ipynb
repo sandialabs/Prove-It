{
 "cells": [
  {
   "cell_type": "markdown",
   "metadata": {},
   "source": [
    "Expression of type <a class=\"ProveItLink\" href=\"../../../../../../../doc/html/api/proveit.ExprTuple.html\">ExprTuple</a>\n",
    "=======================\n",
    "# from the theory of <a class=\"ProveItLink\" href=\"../../../_theory_nbs_/theory.ipynb\">proveit.linear_algebra.inner_products</a>"
   ]
  },
  {
   "cell_type": "code",
   "execution_count": 1,
   "metadata": {},
   "outputs": [],
   "source": [
    "import proveit\n",
    "# Automation is not needed when building an expression:\n",
    "proveit.defaults.automation = False # This will speed things up.\n",
    "proveit.defaults.inline_pngs = False # Makes files smaller.\n",
    "%load_expr # Load the stored expression as 'stored_expr'\n",
    "# import Expression classes needed to build the expression\n",
    "from proveit import Conditional, ExprTuple, Lambda, i, n\n",
    "from proveit.core_expr_types import a_i, x_i\n",
    "from proveit.linear_algebra import Hspace, OrthoProj, ScalarMult, Span\n",
    "from proveit.logic import InSet, Set\n",
    "from proveit.numbers import Interval, one"
   ]
  },
  {
   "cell_type": "code",
   "execution_count": 2,
   "metadata": {},
   "outputs": [
    {
     "data": {
      "text/html": [
       "<strong id=\"expr\">expr:</strong> <a class=\"ProveItLink\" href=\"expr.ipynb\"><img src=\"expr.png\" style=\"display:inline;vertical-align:middle;\" /></a><br>"
      ],
      "text/plain": [
       "<IPython.core.display.HTML object>"
      ]
     },
     "metadata": {},
     "output_type": "display_data"
    }
   ],
   "source": [
    "# build up the expression from sub-expressions\n",
    "expr = ExprTuple(Lambda(i, Conditional(ScalarMult(a_i, OrthoProj(Hspace, Span(Set(x_i)))), InSet(i, Interval(one, n)))))"
   ]
  },
  {
   "cell_type": "code",
   "execution_count": 3,
   "metadata": {},
   "outputs": [
    {
     "name": "stdout",
     "output_type": "stream",
     "text": [
      "Passed sanity check: expr matches stored_expr\n"
     ]
    }
   ],
   "source": [
    "# check that the built expression is the same as the stored expression\n",
    "assert expr == stored_expr\n",
    "assert expr._style_id == stored_expr._style_id\n",
    "print(\"Passed sanity check: expr matches stored_expr\")"
   ]
  },
  {
   "cell_type": "code",
   "execution_count": 4,
   "metadata": {},
   "outputs": [
    {
     "name": "stdout",
     "output_type": "stream",
     "text": [
      "\\left(i \\mapsto \\left\\{a_{i} \\cdot \\textrm{OrthoProj}\\left(\\mathcal{H}, \\textrm{Span}\\left(\\left\\{x_{i}\\right\\}\\right)\\right) \\textrm{ if } i \\in \\{1~\\ldotp \\ldotp~n\\}\\right..\\right)\n"
     ]
    }
   ],
   "source": [
    "# Show the LaTeX representation of the expression for convenience if you need it.\n",
    "print(stored_expr.latex())"
   ]
  },
  {
   "cell_type": "code",
   "execution_count": 5,
   "metadata": {},
   "outputs": [
    {
     "data": {
      "text/html": [
       "no style options"
      ],
      "text/plain": [
       "no style options"
      ]
     },
     "metadata": {},
     "output_type": "display_data"
    }
   ],
   "source": [
    "stored_expr.style_options()"
   ]
  },
  {
   "cell_type": "code",
   "execution_count": 6,
   "metadata": {},
   "outputs": [
    {
     "data": {
      "text/html": [
       "<table><tr><th>&nbsp;</th><th>core type</th><th>sub-expressions</th><th>expression</th></tr>\n",
       "<tr><td>0</td><td>ExprTuple</td><td>1</td><td><a class=\"ProveItLink\" href=\"expr.ipynb\"><img src=\"expr.png\" style=\"display:inline;vertical-align:middle;\" /></a></td></tr>\n",
       "<tr><td>1</td><td>Lambda</td><td>parameter:&nbsp;29<br>body:&nbsp;2<br></td><td><a class=\"ProveItLink\" href=\"../168fa21cb0097f64bc6664715f2aa286b4847a600/expr.ipynb\"><img src=\"../168fa21cb0097f64bc6664715f2aa286b4847a600/expr.png\" style=\"display:inline;vertical-align:middle;\" /></a></td></tr>\n",
       "<tr><td>2</td><td>Conditional</td><td>value:&nbsp;3<br>condition:&nbsp;4<br></td><td><a class=\"ProveItLink\" href=\"../2f116b1f6cc48018c868bb4ee54738a51e8628570/expr.ipynb\"><img src=\"../2f116b1f6cc48018c868bb4ee54738a51e8628570/expr.png\" style=\"display:inline;vertical-align:middle;\" /></a></td></tr>\n",
       "<tr><td>3</td><td>Operation</td><td>operator:&nbsp;5<br>operands:&nbsp;6<br></td><td><a class=\"ProveItLink\" href=\"../2f79c9c4b90264af8e10bb7ecf527bccd0a48d180/expr.ipynb\"><img src=\"../2f79c9c4b90264af8e10bb7ecf527bccd0a48d180/expr.png\" style=\"display:inline;vertical-align:middle;\" /></a></td></tr>\n",
       "<tr><td>4</td><td>Operation</td><td>operator:&nbsp;7<br>operands:&nbsp;8<br></td><td><a class=\"ProveItLink\" href=\"../7f8f7666366c6cf32cb53f27a004adb4fbe63d830/expr.ipynb\"><img src=\"../7f8f7666366c6cf32cb53f27a004adb4fbe63d830/expr.png\" style=\"display:inline;vertical-align:middle;\" /></a></td></tr>\n",
       "<tr><td>5</td><td>Literal</td><td></td><td><a class=\"ProveItLink\" href=\"../../../../scalar_multiplication/__pv_it/common/1e364bd471e6a29fcd358dd2d9cd990a1e6fedd40/expr.ipynb\"><img src=\"../../../../scalar_multiplication/__pv_it/common/1e364bd471e6a29fcd358dd2d9cd990a1e6fedd40/expr.png\" style=\"display:inline;vertical-align:middle;\" /></a></td></tr>\n",
       "<tr><td>6</td><td>ExprTuple</td><td>9, 10</td><td><a class=\"ProveItLink\" href=\"../a7fa6bea69175773188c5561ea1b6951740671960/expr.ipynb\"><img src=\"../a7fa6bea69175773188c5561ea1b6951740671960/expr.png\" style=\"display:inline;vertical-align:middle;\" /></a></td></tr>\n",
       "<tr><td>7</td><td>Literal</td><td></td><td><a class=\"ProveItLink\" href=\"../../../../../logic/sets/membership/__pv_it/common/477487d8796864d23d5810f83761435f25167f690/expr.ipynb\"><img src=\"../../../../../logic/sets/membership/__pv_it/common/477487d8796864d23d5810f83761435f25167f690/expr.png\" style=\"display:inline;vertical-align:middle;\" /></a></td></tr>\n",
       "<tr><td>8</td><td>ExprTuple</td><td>29, 11</td><td><a class=\"ProveItLink\" href=\"../1dbca9b91be0059be09012c6ed4d87505981be610/expr.ipynb\"><img src=\"../1dbca9b91be0059be09012c6ed4d87505981be610/expr.png\" style=\"display:inline;vertical-align:middle;\" /></a></td></tr>\n",
       "<tr><td>9</td><td>IndexedVar</td><td>variable:&nbsp;12<br>index:&nbsp;29<br></td><td><a class=\"ProveItLink\" href=\"../../../../../core_expr_types/__pv_it/common/c1fad46b1cc25ea9a3a84c0aa346db8e42543d970/expr.ipynb\"><img src=\"../../../../../core_expr_types/__pv_it/common/c1fad46b1cc25ea9a3a84c0aa346db8e42543d970/expr.png\" style=\"display:inline;vertical-align:middle;\" /></a></td></tr>\n",
       "<tr><td>10</td><td>Operation</td><td>operator:&nbsp;13<br>operands:&nbsp;14<br></td><td><a class=\"ProveItLink\" href=\"../6be9819d9fb9bd0cfc9b76d33d1a8975b39848390/expr.ipynb\"><img src=\"../6be9819d9fb9bd0cfc9b76d33d1a8975b39848390/expr.png\" style=\"display:inline;vertical-align:middle;\" /></a></td></tr>\n",
       "<tr><td>11</td><td>Operation</td><td>operator:&nbsp;15<br>operands:&nbsp;16<br></td><td><a class=\"ProveItLink\" href=\"../38a01905250ba679201a0c40921c7b564aff02400/expr.ipynb\"><img src=\"../38a01905250ba679201a0c40921c7b564aff02400/expr.png\" style=\"display:inline;vertical-align:middle;\" /></a></td></tr>\n",
       "<tr><td>12</td><td>Variable</td><td></td><td><a class=\"ProveItLink\" href=\"../../../../../__pv_it/common/c06c606ec12678c58933ac85412ecadc2ae28be60/expr.ipynb\"><img src=\"../../../../../__pv_it/common/c06c606ec12678c58933ac85412ecadc2ae28be60/expr.png\" style=\"display:inline;vertical-align:middle;\" /></a></td></tr>\n",
       "<tr><td>13</td><td>Literal</td><td></td><td><a class=\"ProveItLink\" href=\"../../common/a4e5afdd14249bfa7361ad2ac59ba1681ae973bb0/expr.ipynb\"><img src=\"../../common/a4e5afdd14249bfa7361ad2ac59ba1681ae973bb0/expr.png\" style=\"display:inline;vertical-align:middle;\" /></a></td></tr>\n",
       "<tr><td>14</td><td>ExprTuple</td><td>17, 18</td><td><a class=\"ProveItLink\" href=\"../4cd7bdf021384fb598b0afc16b04635c230ed2990/expr.ipynb\"><img src=\"../4cd7bdf021384fb598b0afc16b04635c230ed2990/expr.png\" style=\"display:inline;vertical-align:middle;\" /></a></td></tr>\n",
       "<tr><td>15</td><td>Literal</td><td></td><td><a class=\"ProveItLink\" href=\"../../../../../numbers/number_sets/integers/__pv_it/common/92f3a0a77e3c3ea8e4a5c8674edadc54e4f57d550/expr.ipynb\"><img src=\"../../../../../numbers/number_sets/integers/__pv_it/common/92f3a0a77e3c3ea8e4a5c8674edadc54e4f57d550/expr.png\" style=\"display:inline;vertical-align:middle;\" /></a></td></tr>\n",
       "<tr><td>16</td><td>ExprTuple</td><td>19, 20</td><td><a class=\"ProveItLink\" href=\"../4f7d3c072172c3f447b9b177a80380c4a58dfbaa0/expr.ipynb\"><img src=\"../4f7d3c072172c3f447b9b177a80380c4a58dfbaa0/expr.png\" style=\"display:inline;vertical-align:middle;\" /></a></td></tr>\n",
       "<tr><td>17</td><td>Variable</td><td></td><td><a class=\"ProveItLink\" href=\"../../common/0a298dc12c549b5fdc96454972e9674c7dbf104f0/expr.ipynb\"><img src=\"../../common/0a298dc12c549b5fdc96454972e9674c7dbf104f0/expr.png\" style=\"display:inline;vertical-align:middle;\" /></a></td></tr>\n",
       "<tr><td>18</td><td>Operation</td><td>operator:&nbsp;21<br>operand:&nbsp;23<br></td><td><a class=\"ProveItLink\" href=\"../9686c2d6bd8e749fe72b683e693ba1549651a3ae0/expr.ipynb\"><img src=\"../9686c2d6bd8e749fe72b683e693ba1549651a3ae0/expr.png\" style=\"display:inline;vertical-align:middle;\" /></a></td></tr>\n",
       "<tr><td>19</td><td>Literal</td><td></td><td><a class=\"ProveItLink\" href=\"../../../../../numbers/numerals/__pv_it/common/682157d4892d216d9e5626ed533aff9b56b9506e0/expr.ipynb\"><img src=\"../../../../../numbers/numerals/__pv_it/common/682157d4892d216d9e5626ed533aff9b56b9506e0/expr.png\" style=\"display:inline;vertical-align:middle;\" /></a></td></tr>\n",
       "<tr><td>20</td><td>Variable</td><td></td><td><a class=\"ProveItLink\" href=\"../../../../../__pv_it/common/8968bb04eb3f7dfa02353397ce929b025bbd79c20/expr.ipynb\"><img src=\"../../../../../__pv_it/common/8968bb04eb3f7dfa02353397ce929b025bbd79c20/expr.png\" style=\"display:inline;vertical-align:middle;\" /></a></td></tr>\n",
       "<tr><td>21</td><td>Literal</td><td></td><td><a class=\"ProveItLink\" href=\"../../../../vector_sets/__pv_it/common/246c624af5f84483a747d50fe1718027e337367b0/expr.ipynb\"><img src=\"../../../../vector_sets/__pv_it/common/246c624af5f84483a747d50fe1718027e337367b0/expr.png\" style=\"display:inline;vertical-align:middle;\" /></a></td></tr>\n",
       "<tr><td>22</td><td>ExprTuple</td><td>23</td><td><a class=\"ProveItLink\" href=\"../9fe2b52dbb1c2a26ea7257cc510be1ae7648d8dc0/expr.ipynb\"><img src=\"../9fe2b52dbb1c2a26ea7257cc510be1ae7648d8dc0/expr.png\" style=\"display:inline;vertical-align:middle;\" /></a></td></tr>\n",
       "<tr><td>23</td><td>Operation</td><td>operator:&nbsp;24<br>operand:&nbsp;26<br></td><td><a class=\"ProveItLink\" href=\"../2bf82521eb94510b94dd26aa83e6b93290e6f8030/expr.ipynb\"><img src=\"../2bf82521eb94510b94dd26aa83e6b93290e6f8030/expr.png\" style=\"display:inline;vertical-align:middle;\" /></a></td></tr>\n",
       "<tr><td>24</td><td>Literal</td><td></td><td><a class=\"ProveItLink\" href=\"../../../../../logic/sets/enumeration/__pv_it/common/0ead90ccbf4f17bc585a51f8aa904bb77916ae6e0/expr.ipynb\"><img src=\"../../../../../logic/sets/enumeration/__pv_it/common/0ead90ccbf4f17bc585a51f8aa904bb77916ae6e0/expr.png\" style=\"display:inline;vertical-align:middle;\" /></a></td></tr>\n",
       "<tr><td>25</td><td>ExprTuple</td><td>26</td><td><a class=\"ProveItLink\" href=\"../af4657e9e6ab3677d1e9f013c0cd1642e05966b30/expr.ipynb\"><img src=\"../af4657e9e6ab3677d1e9f013c0cd1642e05966b30/expr.png\" style=\"display:inline;vertical-align:middle;\" /></a></td></tr>\n",
       "<tr><td>26</td><td>IndexedVar</td><td>variable:&nbsp;27<br>index:&nbsp;29<br></td><td><a class=\"ProveItLink\" href=\"../../../../../core_expr_types/__pv_it/common/10495029b586e6269f13533b75adece018314b450/expr.ipynb\"><img src=\"../../../../../core_expr_types/__pv_it/common/10495029b586e6269f13533b75adece018314b450/expr.png\" style=\"display:inline;vertical-align:middle;\" /></a></td></tr>\n",
       "<tr><td>27</td><td>Variable</td><td></td><td><a class=\"ProveItLink\" href=\"../../../../../__pv_it/common/a0d9d672aa5e272d907247690c152cc2c6daafb70/expr.ipynb\"><img src=\"../../../../../__pv_it/common/a0d9d672aa5e272d907247690c152cc2c6daafb70/expr.png\" style=\"display:inline;vertical-align:middle;\" /></a></td></tr>\n",
       "<tr><td>28</td><td>ExprTuple</td><td>29</td><td><a class=\"ProveItLink\" href=\"../../../../../core_expr_types/__pv_it/common/0fc33550aa9740010879fdf30c320b63ba918eff0/expr.ipynb\"><img src=\"../../../../../core_expr_types/__pv_it/common/0fc33550aa9740010879fdf30c320b63ba918eff0/expr.png\" style=\"display:inline;vertical-align:middle;\" /></a></td></tr>\n",
       "<tr><td>29</td><td>Variable</td><td></td><td><a class=\"ProveItLink\" href=\"../../../../../__pv_it/common/ae955345c83abf786c3aff8681cd5465beae262d0/expr.ipynb\"><img src=\"../../../../../__pv_it/common/ae955345c83abf786c3aff8681cd5465beae262d0/expr.png\" style=\"display:inline;vertical-align:middle;\" /></a></td></tr>\n",
       "</table>\n"
      ],
      "text/plain": [
       "0. (i -> {a_{i} * OrthoProj(H, Span({x_{i}})) if i in {1 .. n}.)\n",
       "   core type: ExprTuple\n",
       "   sub-expressions: 1\n",
       "1. i -> {a_{i} * OrthoProj(H, Span({x_{i}})) if i in {1 .. n}.\n",
       "   core type: Lambda\n",
       "   parameter: 29\n",
       "   body: 2\n",
       "2. {a_{i} * OrthoProj(H, Span({x_{i}})) if i in {1 .. n}.\n",
       "   core type: Conditional\n",
       "   value: 3\n",
       "   condition: 4\n",
       "3. a_{i} * OrthoProj(H, Span({x_{i}}))\n",
       "   core type: Operation\n",
       "   operator: 5\n",
       "   operands: 6\n",
       "4. i in {1 .. n}\n",
       "   core type: Operation\n",
       "   operator: 7\n",
       "   operands: 8\n",
       "5. *\n",
       "   core type: Literal\n",
       "   sub-expressions: \n",
       "6. (a_{i}, OrthoProj(H, Span({x_{i}})))\n",
       "   core type: ExprTuple\n",
       "   sub-expressions: 9, 10\n",
       "7. in\n",
       "   core type: Literal\n",
       "   sub-expressions: \n",
       "8. (i, {1 .. n})\n",
       "   core type: ExprTuple\n",
       "   sub-expressions: 29, 11\n",
       "9. a_{i}\n",
       "   core type: IndexedVar\n",
       "variable: 12\n",
       "index: 29\n",
       "10. OrthoProj(H, Span({x_{i}}))\n",
       "    core type: Operation\n",
       "    operator: 13\n",
       "    operands: 14\n",
       "11. {1 .. n}\n",
       "    core type: Operation\n",
       "    operator: 15\n",
       "    operands: 16\n",
       "12. a\n",
       "    core type: Variable\n",
       "    sub-expressions: \n",
       "13. OrthoProj\n",
       "    core type: Literal\n",
       "    sub-expressions: \n",
       "14. (H, Span({x_{i}}))\n",
       "    core type: ExprTuple\n",
       "    sub-expressions: 17, 18\n",
       "15. Interval\n",
       "    core type: Literal\n",
       "    sub-expressions: \n",
       "16. (1, n)\n",
       "    core type: ExprTuple\n",
       "    sub-expressions: 19, 20\n",
       "17. H\n",
       "    core type: Variable\n",
       "    sub-expressions: \n",
       "18. Span({x_{i}})\n",
       "    core type: Operation\n",
       "    operator: 21\n",
       "    operand: 23\n",
       "19. 1\n",
       "    core type: Literal\n",
       "    sub-expressions: \n",
       "20. n\n",
       "    core type: Variable\n",
       "    sub-expressions: \n",
       "21. Span\n",
       "    core type: Literal\n",
       "    sub-expressions: \n",
       "22. ({x_{i}})\n",
       "    core type: ExprTuple\n",
       "    sub-expressions: 23\n",
       "23. {x_{i}}\n",
       "    core type: Operation\n",
       "    operator: 24\n",
       "    operand: 26\n",
       "24. Set\n",
       "    core type: Literal\n",
       "    sub-expressions: \n",
       "25. (x_{i})\n",
       "    core type: ExprTuple\n",
       "    sub-expressions: 26\n",
       "26. x_{i}\n",
       "    core type: IndexedVar\n",
       "variable: 27\n",
       "index: 29\n",
       "27. x\n",
       "    core type: Variable\n",
       "    sub-expressions: \n",
       "28. (i)\n",
       "    core type: ExprTuple\n",
       "    sub-expressions: 29\n",
       "29. i\n",
       "    core type: Variable\n",
       "    sub-expressions: "
      ]
     },
     "metadata": {},
     "output_type": "display_data"
    }
   ],
   "source": [
    "# display the expression information\n",
    "stored_expr.expr_info()"
   ]
  },
  {
   "cell_type": "code",
   "execution_count": null,
   "metadata": {},
   "outputs": [],
   "source": []
  }
 ],
 "metadata": {
  "kernelspec": {
   "display_name": "Python 3",
   "language": "python",
   "name": "python3"
  }
 },
 "nbformat": 4,
 "nbformat_minor": 0
}