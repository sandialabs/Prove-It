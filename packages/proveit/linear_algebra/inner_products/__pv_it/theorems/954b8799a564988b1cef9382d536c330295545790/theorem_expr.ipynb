{
 "cells": [
  {
   "cell_type": "markdown",
   "metadata": {},
   "source": [
    "Theorem <a class=\"ProveItLink\" href=\"../../../_theorems_.ipynb#hilbert_space_is_inner_prod_space\">hilbert_space_is_inner_prod_space</a> of type <a class=\"ProveItLink\" href=\"../../../../../../../doc/html/api/proveit.logic.Forall.html\">Forall</a>\n",
    "=======================\n",
    "# from the theory of <a class=\"ProveItLink\" href=\"../../../_theory_nbs_/theory.ipynb\">proveit.linear_algebra.inner_products</a>\n",
    "*** see <a class=\"ProveItLink\" href=\"dependencies.ipynb\">dependencies</a> ***"
   ]
  },
  {
   "cell_type": "code",
   "execution_count": 1,
   "metadata": {},
   "outputs": [],
   "source": [
    "import proveit\n",
    "# Automation is not needed when only building an expression:\n",
    "proveit.defaults.automation = False # This will speed things up.\n",
    "proveit.defaults.inline_pngs = False # Makes files smaller.\n",
    "%load_theorem_expr # Load the stored theorem expression as 'stored_expr'\n",
    "# import the special expression\n",
    "from proveit.linear_algebra.inner_products import hilbert_space_is_inner_prod_space"
   ]
  },
  {
   "cell_type": "code",
   "execution_count": 2,
   "metadata": {},
   "outputs": [
    {
     "name": "stdout",
     "output_type": "stream",
     "text": [
      "Passed sanity check: hilbert_space_is_inner_prod_space matches stored_expr\n"
     ]
    }
   ],
   "source": [
    "# check that the built expression is the same as the stored expression\n",
    "assert hilbert_space_is_inner_prod_space.expr == stored_expr\n",
    "assert hilbert_space_is_inner_prod_space.expr._style_id == stored_expr._style_id\n",
    "print(\"Passed sanity check: hilbert_space_is_inner_prod_space matches stored_expr\")"
   ]
  },
  {
   "cell_type": "code",
   "execution_count": 3,
   "metadata": {},
   "outputs": [
    {
     "name": "stdout",
     "output_type": "stream",
     "text": [
      "\\forall_{\\mathcal{H} \\underset{{\\scriptscriptstyle c}}{\\in} \\textrm{HilbertSpaces}}~\\left(\\mathcal{H} \\underset{{\\scriptscriptstyle c}}{\\in} \\textrm{InnerProdSpaces}\\left(\\mathbb{C}\\right)\\right)\n"
     ]
    }
   ],
   "source": [
    "# Show the LaTeX representation of the expression for convenience if you need it.\n",
    "print(stored_expr.latex())"
   ]
  },
  {
   "cell_type": "code",
   "execution_count": 4,
   "metadata": {},
   "outputs": [
    {
     "data": {
      "text/html": [
       "<table>\n",
       "<tr><th>name</th><th>description</th><th>default</th><th>current value</th><th>related methods</th></tr><tr><td>with_wrapping</td><td>If 'True', wrap the Expression after the parameters</td><td>None</td><td>None/False</td><td>('with_wrapping',)</td></tr>\n",
       "<tr><td>condition_wrapping</td><td>Wrap 'before' or 'after' the condition (or None).</td><td>None</td><td>None/False</td><td>('with_wrap_after_condition', 'with_wrap_before_condition')</td></tr>\n",
       "<tr><td>wrap_params</td><td>If 'True', wraps every two parameters AND wraps the Expression after the parameters</td><td>None</td><td>None/False</td><td>('with_params',)</td></tr>\n",
       "<tr><td>justification</td><td>justify to the 'left', 'center', or 'right' in the array cells</td><td>center</td><td>center</td><td>('with_justification',)</td></tr>\n",
       "</table>\n"
      ],
      "text/plain": [
       "style name: with_wrapping\n",
       "description: If 'True', wrap the Expression after the parameters\n",
       "default: None\n",
       "current value: None/False\n",
       "related methods: ('with_wrapping',)\n",
       "style name: condition_wrapping\n",
       "description: Wrap 'before' or 'after' the condition (or None).\n",
       "default: None\n",
       "current value: None/False\n",
       "related methods: ('with_wrap_after_condition', 'with_wrap_before_condition')\n",
       "style name: wrap_params\n",
       "description: If 'True', wraps every two parameters AND wraps the Expression after the parameters\n",
       "default: None\n",
       "current value: None/False\n",
       "related methods: ('with_params',)\n",
       "style name: justification\n",
       "description: justify to the 'left', 'center', or 'right' in the array cells\n",
       "default: center\n",
       "current value: center\n",
       "related methods: ('with_justification',)"
      ]
     },
     "metadata": {},
     "output_type": "display_data"
    }
   ],
   "source": [
    "stored_expr.style_options()"
   ]
  },
  {
   "cell_type": "code",
   "execution_count": 5,
   "metadata": {},
   "outputs": [
    {
     "data": {
      "text/html": [
       "<table><tr><th>&nbsp;</th><th>core type</th><th>sub-expressions</th><th>expression</th></tr>\n",
       "<tr><td>0</td><td>Operation</td><td>operator:&nbsp;1<br>operand:&nbsp;3<br></td><td><a class=\"ProveItLink\" href=\"../499ae72b31f12a132bcbcd67bc8e0e1d88b4ad620/expr.ipynb\"><img src=\"../499ae72b31f12a132bcbcd67bc8e0e1d88b4ad620/expr.png\" style=\"display:inline;vertical-align:middle;\" /></a></td></tr>\n",
       "<tr><td>1</td><td>Literal</td><td></td><td><a class=\"ProveItLink\" href=\"../../../../../logic/booleans/quantification/universality/__pv_it/common/083d2baa0b8ecab1d230f9ec29a15aa1355809fb0/expr.ipynb\"><img src=\"../../../../../logic/booleans/quantification/universality/__pv_it/common/083d2baa0b8ecab1d230f9ec29a15aa1355809fb0/expr.png\" style=\"display:inline;vertical-align:middle;\" /></a></td></tr>\n",
       "<tr><td>2</td><td>ExprTuple</td><td>3</td><td><a class=\"ProveItLink\" href=\"../98c6476ff0b0e00405a868016b5d73f91ffb380b0/expr.ipynb\"><img src=\"../98c6476ff0b0e00405a868016b5d73f91ffb380b0/expr.png\" style=\"display:inline;vertical-align:middle;\" /></a></td></tr>\n",
       "<tr><td>3</td><td>Lambda</td><td>parameter:&nbsp;12<br>body:&nbsp;5<br></td><td><a class=\"ProveItLink\" href=\"../e2128a0b20fb0a48fe432a014a58aef72b3f17430/expr.ipynb\"><img src=\"../e2128a0b20fb0a48fe432a014a58aef72b3f17430/expr.png\" style=\"display:inline;vertical-align:middle;\" /></a></td></tr>\n",
       "<tr><td>4</td><td>ExprTuple</td><td>12</td><td><a class=\"ProveItLink\" href=\"../b9d4240524cd252287e77024516896a3cc55f45e0/expr.ipynb\"><img src=\"../b9d4240524cd252287e77024516896a3cc55f45e0/expr.png\" style=\"display:inline;vertical-align:middle;\" /></a></td></tr>\n",
       "<tr><td>5</td><td>Conditional</td><td>value:&nbsp;6<br>condition:&nbsp;7<br></td><td><a class=\"ProveItLink\" href=\"../f65ab77a1380dcf16cade6b9208a98d8fc7a05690/expr.ipynb\"><img src=\"../f65ab77a1380dcf16cade6b9208a98d8fc7a05690/expr.png\" style=\"display:inline;vertical-align:middle;\" /></a></td></tr>\n",
       "<tr><td>6</td><td>Operation</td><td>operator:&nbsp;9<br>operands:&nbsp;8<br></td><td><a class=\"ProveItLink\" href=\"../eeeb86d5bb6a58ba9102c9ff688d3929a8afd7570/expr.ipynb\"><img src=\"../eeeb86d5bb6a58ba9102c9ff688d3929a8afd7570/expr.png\" style=\"display:inline;vertical-align:middle;\" /></a></td></tr>\n",
       "<tr><td>7</td><td>Operation</td><td>operator:&nbsp;9<br>operands:&nbsp;10<br></td><td><a class=\"ProveItLink\" href=\"../cc1a1fdbe030158429b482f8c4631f162e8f59980/expr.ipynb\"><img src=\"../cc1a1fdbe030158429b482f8c4631f162e8f59980/expr.png\" style=\"display:inline;vertical-align:middle;\" /></a></td></tr>\n",
       "<tr><td>8</td><td>ExprTuple</td><td>12, 11</td><td><a class=\"ProveItLink\" href=\"../dc38814079e2747d7d65d702f91b61f5a7de729a0/expr.ipynb\"><img src=\"../dc38814079e2747d7d65d702f91b61f5a7de729a0/expr.png\" style=\"display:inline;vertical-align:middle;\" /></a></td></tr>\n",
       "<tr><td>9</td><td>Literal</td><td></td><td><a class=\"ProveItLink\" href=\"../../../../../logic/classes/membership/__pv_it/common/e3b437d28fbe17f0a50c9789c7c9b47a1270f1420/expr.ipynb\"><img src=\"../../../../../logic/classes/membership/__pv_it/common/e3b437d28fbe17f0a50c9789c7c9b47a1270f1420/expr.png\" style=\"display:inline;vertical-align:middle;\" /></a></td></tr>\n",
       "<tr><td>10</td><td>ExprTuple</td><td>12, 13</td><td><a class=\"ProveItLink\" href=\"../68a17dfc1d1ba94f48cf681e8044004a6d60360e0/expr.ipynb\"><img src=\"../68a17dfc1d1ba94f48cf681e8044004a6d60360e0/expr.png\" style=\"display:inline;vertical-align:middle;\" /></a></td></tr>\n",
       "<tr><td>11</td><td>Operation</td><td>operator:&nbsp;14<br>operand:&nbsp;16<br></td><td><a class=\"ProveItLink\" href=\"../8699bf0d550b6cd0ed3901d5f2c0ef45dbde34ee0/expr.ipynb\"><img src=\"../8699bf0d550b6cd0ed3901d5f2c0ef45dbde34ee0/expr.png\" style=\"display:inline;vertical-align:middle;\" /></a></td></tr>\n",
       "<tr><td>12</td><td>Variable</td><td></td><td><a class=\"ProveItLink\" href=\"../../common/0a298dc12c549b5fdc96454972e9674c7dbf104f0/expr.ipynb\"><img src=\"../../common/0a298dc12c549b5fdc96454972e9674c7dbf104f0/expr.png\" style=\"display:inline;vertical-align:middle;\" /></a></td></tr>\n",
       "<tr><td>13</td><td>Literal</td><td></td><td><a class=\"ProveItLink\" href=\"../../common/63495bb81132197a40ba1811088142655bc8cabd0/expr.ipynb\"><img src=\"../../common/63495bb81132197a40ba1811088142655bc8cabd0/expr.png\" style=\"display:inline;vertical-align:middle;\" /></a></td></tr>\n",
       "<tr><td>14</td><td>Literal</td><td></td><td><a class=\"ProveItLink\" href=\"../../common/97dce8f33694d8d827400c818f103930399de7dc0/expr.ipynb\"><img src=\"../../common/97dce8f33694d8d827400c818f103930399de7dc0/expr.png\" style=\"display:inline;vertical-align:middle;\" /></a></td></tr>\n",
       "<tr><td>15</td><td>ExprTuple</td><td>16</td><td><a class=\"ProveItLink\" href=\"../../../../__pv_it/theorems/a80304b105ff17b6e35494e0c803fbb99255a5180/expr.ipynb\"><img src=\"../../../../__pv_it/theorems/a80304b105ff17b6e35494e0c803fbb99255a5180/expr.png\" style=\"display:inline;vertical-align:middle;\" /></a></td></tr>\n",
       "<tr><td>16</td><td>Literal</td><td></td><td><a class=\"ProveItLink\" href=\"../../../../../numbers/number_sets/complex_numbers/__pv_it/common/d18a028138f659eda00de597c28a3447fe87eb100/expr.ipynb\"><img src=\"../../../../../numbers/number_sets/complex_numbers/__pv_it/common/d18a028138f659eda00de597c28a3447fe87eb100/expr.png\" style=\"display:inline;vertical-align:middle;\" /></a></td></tr>\n",
       "</table>\n"
      ],
      "text/plain": [
       "0. forall_{H in_c HilbertSpaces} (H in_c InnerProdSpaces(Complex))\n",
       "   core type: Operation\n",
       "   operator: 1\n",
       "   operand: 3\n",
       "1. forall\n",
       "   core type: Literal\n",
       "   sub-expressions: \n",
       "2. (H -> {H in_c InnerProdSpaces(Complex) if H in_c HilbertSpaces.)\n",
       "   core type: ExprTuple\n",
       "   sub-expressions: 3\n",
       "3. H -> {H in_c InnerProdSpaces(Complex) if H in_c HilbertSpaces.\n",
       "   core type: Lambda\n",
       "   parameter: 12\n",
       "   body: 5\n",
       "4. (H)\n",
       "   core type: ExprTuple\n",
       "   sub-expressions: 12\n",
       "5. {H in_c InnerProdSpaces(Complex) if H in_c HilbertSpaces.\n",
       "   core type: Conditional\n",
       "   value: 6\n",
       "   condition: 7\n",
       "6. H in_c InnerProdSpaces(Complex)\n",
       "   core type: Operation\n",
       "   operator: 9\n",
       "   operands: 8\n",
       "7. H in_c HilbertSpaces\n",
       "   core type: Operation\n",
       "   operator: 9\n",
       "   operands: 10\n",
       "8. (H, InnerProdSpaces(Complex))\n",
       "   core type: ExprTuple\n",
       "   sub-expressions: 12, 11\n",
       "9. in_c\n",
       "   core type: Literal\n",
       "   sub-expressions: \n",
       "10. (H, HilbertSpaces)\n",
       "    core type: ExprTuple\n",
       "    sub-expressions: 12, 13\n",
       "11. InnerProdSpaces(Complex)\n",
       "    core type: Operation\n",
       "    operator: 14\n",
       "    operand: 16\n",
       "12. H\n",
       "    core type: Variable\n",
       "    sub-expressions: \n",
       "13. HilbertSpaces\n",
       "    core type: Literal\n",
       "    sub-expressions: \n",
       "14. InnerProdSpaces\n",
       "    core type: Literal\n",
       "    sub-expressions: \n",
       "15. (Complex)\n",
       "    core type: ExprTuple\n",
       "    sub-expressions: 16\n",
       "16. Complex\n",
       "    core type: Literal\n",
       "    sub-expressions: "
      ]
     },
     "metadata": {},
     "output_type": "display_data"
    }
   ],
   "source": [
    "# display the expression information\n",
    "stored_expr.expr_info()"
   ]
  },
  {
   "cell_type": "code",
   "execution_count": null,
   "metadata": {},
   "outputs": [],
   "source": []
  }
 ],
 "metadata": {
  "kernelspec": {
   "display_name": "Python 3",
   "language": "python",
   "name": "python3"
  }
 },
 "nbformat": 4,
 "nbformat_minor": 0
}