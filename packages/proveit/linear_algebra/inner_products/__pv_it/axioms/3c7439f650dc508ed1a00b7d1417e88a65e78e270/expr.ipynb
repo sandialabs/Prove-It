{
 "cells": [
  {
   "cell_type": "markdown",
   "metadata": {},
   "source": [
    "Expression of type <a class=\"ProveItLink\" href=\"../../../../../../../doc/html/api/proveit.Conditional.html\">Conditional</a>\n",
    "=======================\n",
    "# from the theory of <a class=\"ProveItLink\" href=\"../../../_theory_nbs_/theory.ipynb\">proveit.linear_algebra.inner_products</a>"
   ]
  },
  {
   "cell_type": "code",
   "execution_count": 1,
   "metadata": {},
   "outputs": [],
   "source": [
    "import proveit\n",
    "# Automation is not needed when building an expression:\n",
    "proveit.defaults.automation = False # This will speed things up.\n",
    "proveit.defaults.inline_pngs = False # Makes files smaller.\n",
    "%load_expr # Load the stored expression as 'stored_expr'\n",
    "# import Expression classes needed to build the expression\n",
    "from proveit import Conditional, ExprRange, H, IndexedVar, Variable, n, v, w, x\n",
    "from proveit.core_expr_types import x_1_to_n\n",
    "from proveit.linear_algebra import Bases, InnerProd, OrthoNormBases\n",
    "from proveit.logic import And, Equals, Forall, InSet, Set\n",
    "from proveit.numbers import KroneckerDelta, one"
   ]
  },
  {
   "cell_type": "code",
   "execution_count": 2,
   "metadata": {},
   "outputs": [
    {
     "data": {
      "text/html": [
       "<strong id=\"expr\">expr:</strong> <a class=\"ProveItLink\" href=\"expr.ipynb\"><img src=\"expr.png\" style=\"display:inline;vertical-align:middle;\" /></a><br>"
      ],
      "text/plain": [
       "<IPython.core.display.HTML object>"
      ]
     },
     "metadata": {},
     "output_type": "display_data"
    }
   ],
   "source": [
    "# build up the expression from sub-expressions\n",
    "sub_expr1 = Variable(\"_a\", latex_format = r\"{_{-}a}\")\n",
    "sub_expr2 = Set(x_1_to_n)\n",
    "expr = Conditional(Equals(InSet(sub_expr2, OrthoNormBases(H)), And(InSet(sub_expr2, Bases(H)), Forall(instance_param_or_params = [v, w], instance_expr = Equals(InnerProd(v, w), KroneckerDelta(v, w)), domain = sub_expr2))).with_wrapping_at(2), And(ExprRange(sub_expr1, InSet(IndexedVar(x, sub_expr1), H), one, n)))"
   ]
  },
  {
   "cell_type": "code",
   "execution_count": 3,
   "metadata": {},
   "outputs": [
    {
     "name": "stdout",
     "output_type": "stream",
     "text": [
      "Passed sanity check: expr matches stored_expr\n"
     ]
    }
   ],
   "source": [
    "# check that the built expression is the same as the stored expression\n",
    "assert expr == stored_expr\n",
    "assert expr._style_id == stored_expr._style_id\n",
    "print(\"Passed sanity check: expr matches stored_expr\")"
   ]
  },
  {
   "cell_type": "code",
   "execution_count": 4,
   "metadata": {},
   "outputs": [
    {
     "name": "stdout",
     "output_type": "stream",
     "text": [
      "\\left\\{\\begin{array}{c} \\begin{array}{l} \\left(\\left\\{x_{1}, x_{2}, \\ldots, x_{n}\\right\\} \\in \\textrm{O.N.Bases}\\left(H\\right)\\right) =  \\\\ \\left(\\left(\\left\\{x_{1}, x_{2}, \\ldots, x_{n}\\right\\} \\in \\textrm{Bases}\\left(H\\right)\\right) \\land \\left[\\forall_{v, w \\in \\left\\{x_{1}, x_{2}, \\ldots, x_{n}\\right\\}}~\\left(\\left \\langle v, w\\right \\rangle = \\delta_{v, w}\\right)\\right]\\right) \\end{array} \\end{array} \\textrm{ if } \\left(x_{1} \\in H\\right) \\land  \\left(x_{2} \\in H\\right) \\land  \\ldots \\land  \\left(x_{n} \\in H\\right)\\right..\n"
     ]
    }
   ],
   "source": [
    "# Show the LaTeX representation of the expression for convenience if you need it.\n",
    "print(stored_expr.latex())"
   ]
  },
  {
   "cell_type": "code",
   "execution_count": 5,
   "metadata": {},
   "outputs": [
    {
     "data": {
      "text/html": [
       "<table>\n",
       "<tr><th>name</th><th>description</th><th>default</th><th>current value</th><th>related methods</th></tr><tr><td>condition_delimiter</td><td>'comma' or 'and'</td><td>comma</td><td>comma</td><td>('with_comma_delimiter', 'with_conjunction_delimiter')</td></tr>\n",
       "</table>\n"
      ],
      "text/plain": [
       "style name: condition_delimiter\n",
       "description: 'comma' or 'and'\n",
       "default: comma\n",
       "current value: comma\n",
       "related methods: ('with_comma_delimiter', 'with_conjunction_delimiter')"
      ]
     },
     "metadata": {},
     "output_type": "display_data"
    }
   ],
   "source": [
    "stored_expr.style_options()"
   ]
  },
  {
   "cell_type": "code",
   "execution_count": 6,
   "metadata": {},
   "outputs": [
    {
     "data": {
      "text/html": [
       "<table><tr><th>&nbsp;</th><th>core type</th><th>sub-expressions</th><th>expression</th></tr>\n",
       "<tr><td>0</td><td>Conditional</td><td>value:&nbsp;1<br>condition:&nbsp;2<br></td><td><a class=\"ProveItLink\" href=\"expr.ipynb\"><img src=\"expr.png\" style=\"display:inline;vertical-align:middle;\" /></a></td></tr>\n",
       "<tr><td>1</td><td>Operation</td><td>operator:&nbsp;28<br>operands:&nbsp;3<br></td><td><a class=\"ProveItLink\" href=\"../1177b36d6bba2fb83ae2769d9420558ba4960ed20/expr.ipynb\"><img src=\"../1177b36d6bba2fb83ae2769d9420558ba4960ed20/expr.png\" style=\"display:inline;vertical-align:middle;\" /></a></td></tr>\n",
       "<tr><td>2</td><td>Operation</td><td>operator:&nbsp;30<br>operands:&nbsp;4<br></td><td><a class=\"ProveItLink\" href=\"../b479d4be63c83556c5c219832eca6b496539b6780/expr.ipynb\"><img src=\"../b479d4be63c83556c5c219832eca6b496539b6780/expr.png\" style=\"display:inline;vertical-align:middle;\" /></a></td></tr>\n",
       "<tr><td>3</td><td>ExprTuple</td><td>5, 6</td><td><a class=\"ProveItLink\" href=\"../10abf025170108cf2733ea5201169dda61a01bc30/expr.ipynb\"><img src=\"../10abf025170108cf2733ea5201169dda61a01bc30/expr.png\" style=\"display:inline;vertical-align:middle;\" /></a></td></tr>\n",
       "<tr><td>4</td><td>ExprTuple</td><td>7</td><td><a class=\"ProveItLink\" href=\"../c9be38a7989d163dd7112baecc78e2056d6889da0/expr.ipynb\"><img src=\"../c9be38a7989d163dd7112baecc78e2056d6889da0/expr.png\" style=\"display:inline;vertical-align:middle;\" /></a></td></tr>\n",
       "<tr><td>5</td><td>Operation</td><td>operator:&nbsp;40<br>operands:&nbsp;8<br></td><td><a class=\"ProveItLink\" href=\"../509809c12d254af4561ed520c0ddcac574934f590/expr.ipynb\"><img src=\"../509809c12d254af4561ed520c0ddcac574934f590/expr.png\" style=\"display:inline;vertical-align:middle;\" /></a></td></tr>\n",
       "<tr><td>6</td><td>Operation</td><td>operator:&nbsp;30<br>operands:&nbsp;9<br></td><td><a class=\"ProveItLink\" href=\"../4ef7b7b3af074b756747deffd7c800686940c6a90/expr.ipynb\"><img src=\"../4ef7b7b3af074b756747deffd7c800686940c6a90/expr.png\" style=\"display:inline;vertical-align:middle;\" /></a></td></tr>\n",
       "<tr><td>7</td><td>ExprRange</td><td>lambda_map:&nbsp;10<br>start_index:&nbsp;49<br>end_index:&nbsp;50<br></td><td><a class=\"ProveItLink\" href=\"../fb886227df858427e568d9e03e137f55d967a7c90/expr.ipynb\"><img src=\"../fb886227df858427e568d9e03e137f55d967a7c90/expr.png\" style=\"display:inline;vertical-align:middle;\" /></a></td></tr>\n",
       "<tr><td>8</td><td>ExprTuple</td><td>44, 11</td><td><a class=\"ProveItLink\" href=\"../dfa60f87ad6d92fcf98135a4a110af182f186d680/expr.ipynb\"><img src=\"../dfa60f87ad6d92fcf98135a4a110af182f186d680/expr.png\" style=\"display:inline;vertical-align:middle;\" /></a></td></tr>\n",
       "<tr><td>9</td><td>ExprTuple</td><td>12, 13</td><td><a class=\"ProveItLink\" href=\"../b119c9fe33413bf676bf23d9ed031894a7b09a720/expr.ipynb\"><img src=\"../b119c9fe33413bf676bf23d9ed031894a7b09a720/expr.png\" style=\"display:inline;vertical-align:middle;\" /></a></td></tr>\n",
       "<tr><td>10</td><td>Lambda</td><td>parameter:&nbsp;54<br>body:&nbsp;14<br></td><td><a class=\"ProveItLink\" href=\"../971afea6e0c1ac811d847e162a2c400810321a9b0/expr.ipynb\"><img src=\"../971afea6e0c1ac811d847e162a2c400810321a9b0/expr.png\" style=\"display:inline;vertical-align:middle;\" /></a></td></tr>\n",
       "<tr><td>11</td><td>Operation</td><td>operator:&nbsp;15<br>operand:&nbsp;25<br></td><td><a class=\"ProveItLink\" href=\"../9a7b32ce4c11e79cf44416d1a058158eebcc12d60/expr.ipynb\"><img src=\"../9a7b32ce4c11e79cf44416d1a058158eebcc12d60/expr.png\" style=\"display:inline;vertical-align:middle;\" /></a></td></tr>\n",
       "<tr><td>12</td><td>Operation</td><td>operator:&nbsp;40<br>operands:&nbsp;16<br></td><td><a class=\"ProveItLink\" href=\"../c7bb2adab16972cdd378a00f1272677c7453c8750/expr.ipynb\"><img src=\"../c7bb2adab16972cdd378a00f1272677c7453c8750/expr.png\" style=\"display:inline;vertical-align:middle;\" /></a></td></tr>\n",
       "<tr><td>13</td><td>Operation</td><td>operator:&nbsp;17<br>operand:&nbsp;21<br></td><td><a class=\"ProveItLink\" href=\"../da289bf2acdfa921da8015508a14bb5c9b241a1b0/expr.ipynb\"><img src=\"../da289bf2acdfa921da8015508a14bb5c9b241a1b0/expr.png\" style=\"display:inline;vertical-align:middle;\" /></a></td></tr>\n",
       "<tr><td>14</td><td>Operation</td><td>operator:&nbsp;40<br>operands:&nbsp;19<br></td><td><a class=\"ProveItLink\" href=\"../f941d1d3bbaeed32550e3162e15cd47b634693a90/expr.ipynb\"><img src=\"../f941d1d3bbaeed32550e3162e15cd47b634693a90/expr.png\" style=\"display:inline;vertical-align:middle;\" /></a></td></tr>\n",
       "<tr><td>15</td><td>Literal</td><td></td><td><a class=\"ProveItLink\" href=\"../../common/9943607b90ce14f60b071d81acdf3f7a9e10ead70/expr.ipynb\"><img src=\"../../common/9943607b90ce14f60b071d81acdf3f7a9e10ead70/expr.png\" style=\"display:inline;vertical-align:middle;\" /></a></td></tr>\n",
       "<tr><td>16</td><td>ExprTuple</td><td>44, 20</td><td><a class=\"ProveItLink\" href=\"../c0cc4f18f774e9b8d8dcbc151a98dba71d53cdcf0/expr.ipynb\"><img src=\"../c0cc4f18f774e9b8d8dcbc151a98dba71d53cdcf0/expr.png\" style=\"display:inline;vertical-align:middle;\" /></a></td></tr>\n",
       "<tr><td>17</td><td>Literal</td><td></td><td><a class=\"ProveItLink\" href=\"../../../../../logic/booleans/quantification/universality/__pv_it/common/083d2baa0b8ecab1d230f9ec29a15aa1355809fb0/expr.ipynb\"><img src=\"../../../../../logic/booleans/quantification/universality/__pv_it/common/083d2baa0b8ecab1d230f9ec29a15aa1355809fb0/expr.png\" style=\"display:inline;vertical-align:middle;\" /></a></td></tr>\n",
       "<tr><td>18</td><td>ExprTuple</td><td>21</td><td><a class=\"ProveItLink\" href=\"../43eebd315f83d6c4a87eee45262dfbeed263a6210/expr.ipynb\"><img src=\"../43eebd315f83d6c4a87eee45262dfbeed263a6210/expr.png\" style=\"display:inline;vertical-align:middle;\" /></a></td></tr>\n",
       "<tr><td>19</td><td>ExprTuple</td><td>51, 25</td><td><a class=\"ProveItLink\" href=\"../62383891590bd50a278dad43362a9055f730ef130/expr.ipynb\"><img src=\"../62383891590bd50a278dad43362a9055f730ef130/expr.png\" style=\"display:inline;vertical-align:middle;\" /></a></td></tr>\n",
       "<tr><td>20</td><td>Operation</td><td>operator:&nbsp;22<br>operand:&nbsp;25<br></td><td><a class=\"ProveItLink\" href=\"../03873741a47e54ec14f0799dc8c66fa4a58431db0/expr.ipynb\"><img src=\"../03873741a47e54ec14f0799dc8c66fa4a58431db0/expr.png\" style=\"display:inline;vertical-align:middle;\" /></a></td></tr>\n",
       "<tr><td>21</td><td>Lambda</td><td>parameters:&nbsp;38<br>body:&nbsp;24<br></td><td><a class=\"ProveItLink\" href=\"../f23bf3cd89bf6b3b029fc6f7b9562cbb235a2f330/expr.ipynb\"><img src=\"../f23bf3cd89bf6b3b029fc6f7b9562cbb235a2f330/expr.png\" style=\"display:inline;vertical-align:middle;\" /></a></td></tr>\n",
       "<tr><td>22</td><td>Literal</td><td></td><td><a class=\"ProveItLink\" href=\"../../../../vector_sets/__pv_it/common/1942a7a268ff58135abbc1364d71e10e4fbb81b70/expr.ipynb\"><img src=\"../../../../vector_sets/__pv_it/common/1942a7a268ff58135abbc1364d71e10e4fbb81b70/expr.png\" style=\"display:inline;vertical-align:middle;\" /></a></td></tr>\n",
       "<tr><td>23</td><td>ExprTuple</td><td>25</td><td><a class=\"ProveItLink\" href=\"../3214f6d50d9b000d7aac6b69fe8e45c58e2207b10/expr.ipynb\"><img src=\"../3214f6d50d9b000d7aac6b69fe8e45c58e2207b10/expr.png\" style=\"display:inline;vertical-align:middle;\" /></a></td></tr>\n",
       "<tr><td>24</td><td>Conditional</td><td>value:&nbsp;26<br>condition:&nbsp;27<br></td><td><a class=\"ProveItLink\" href=\"../e4c4341e30116aa7caeb92aeab48fa3584ea3ea70/expr.ipynb\"><img src=\"../e4c4341e30116aa7caeb92aeab48fa3584ea3ea70/expr.png\" style=\"display:inline;vertical-align:middle;\" /></a></td></tr>\n",
       "<tr><td>25</td><td>Variable</td><td></td><td><a class=\"ProveItLink\" href=\"../../../../../__pv_it/common/db1921da064725c141f453bae2d02f0bb2333a8a0/expr.ipynb\"><img src=\"../../../../../__pv_it/common/db1921da064725c141f453bae2d02f0bb2333a8a0/expr.png\" style=\"display:inline;vertical-align:middle;\" /></a></td></tr>\n",
       "<tr><td>26</td><td>Operation</td><td>operator:&nbsp;28<br>operands:&nbsp;29<br></td><td><a class=\"ProveItLink\" href=\"../a14548806c4016f086dd64344212a1e799aa5e5f0/expr.ipynb\"><img src=\"../a14548806c4016f086dd64344212a1e799aa5e5f0/expr.png\" style=\"display:inline;vertical-align:middle;\" /></a></td></tr>\n",
       "<tr><td>27</td><td>Operation</td><td>operator:&nbsp;30<br>operands:&nbsp;31<br></td><td><a class=\"ProveItLink\" href=\"../f7ed69bdf56f1dbf45e26b3cdce0e67b16ea9a160/expr.ipynb\"><img src=\"../f7ed69bdf56f1dbf45e26b3cdce0e67b16ea9a160/expr.png\" style=\"display:inline;vertical-align:middle;\" /></a></td></tr>\n",
       "<tr><td>28</td><td>Literal</td><td></td><td><a class=\"ProveItLink\" href=\"../../../../../logic/equality/__pv_it/common/fb96dc12b2aa8801dda64d0132b396c63d1502bb0/expr.ipynb\"><img src=\"../../../../../logic/equality/__pv_it/common/fb96dc12b2aa8801dda64d0132b396c63d1502bb0/expr.png\" style=\"display:inline;vertical-align:middle;\" /></a></td></tr>\n",
       "<tr><td>29</td><td>ExprTuple</td><td>32, 33</td><td><a class=\"ProveItLink\" href=\"../7a8d904430fe3bb20cad332972f8a020ba8b6f070/expr.ipynb\"><img src=\"../7a8d904430fe3bb20cad332972f8a020ba8b6f070/expr.png\" style=\"display:inline;vertical-align:middle;\" /></a></td></tr>\n",
       "<tr><td>30</td><td>Literal</td><td></td><td><a class=\"ProveItLink\" href=\"../../../../../logic/booleans/conjunction/__pv_it/common/42118ff318bd65d98b1393f64ce7c2269feef76e0/expr.ipynb\"><img src=\"../../../../../logic/booleans/conjunction/__pv_it/common/42118ff318bd65d98b1393f64ce7c2269feef76e0/expr.png\" style=\"display:inline;vertical-align:middle;\" /></a></td></tr>\n",
       "<tr><td>31</td><td>ExprTuple</td><td>34, 35</td><td><a class=\"ProveItLink\" href=\"../4e179a5ac8d2dd038c46b315a04d8647b48c60fc0/expr.ipynb\"><img src=\"../4e179a5ac8d2dd038c46b315a04d8647b48c60fc0/expr.png\" style=\"display:inline;vertical-align:middle;\" /></a></td></tr>\n",
       "<tr><td>32</td><td>Operation</td><td>operator:&nbsp;36<br>operands:&nbsp;38<br></td><td><a class=\"ProveItLink\" href=\"../1f59a4d76326fac987bfb1fc3848ba06d267ca8e0/expr.ipynb\"><img src=\"../1f59a4d76326fac987bfb1fc3848ba06d267ca8e0/expr.png\" style=\"display:inline;vertical-align:middle;\" /></a></td></tr>\n",
       "<tr><td>33</td><td>Operation</td><td>operator:&nbsp;37<br>operands:&nbsp;38<br></td><td><a class=\"ProveItLink\" href=\"../febda28153a2236ec94dbd28d0f299a717148aa50/expr.ipynb\"><img src=\"../febda28153a2236ec94dbd28d0f299a717148aa50/expr.png\" style=\"display:inline;vertical-align:middle;\" /></a></td></tr>\n",
       "<tr><td>34</td><td>Operation</td><td>operator:&nbsp;40<br>operands:&nbsp;39<br></td><td><a class=\"ProveItLink\" href=\"../754e3478b10e54d81abbaddfad61402381aded1b0/expr.ipynb\"><img src=\"../754e3478b10e54d81abbaddfad61402381aded1b0/expr.png\" style=\"display:inline;vertical-align:middle;\" /></a></td></tr>\n",
       "<tr><td>35</td><td>Operation</td><td>operator:&nbsp;40<br>operands:&nbsp;41<br></td><td><a class=\"ProveItLink\" href=\"../1244579474f48357631f1ac55e94fa4c2d8b8e310/expr.ipynb\"><img src=\"../1244579474f48357631f1ac55e94fa4c2d8b8e310/expr.png\" style=\"display:inline;vertical-align:middle;\" /></a></td></tr>\n",
       "<tr><td>36</td><td>Literal</td><td></td><td><a class=\"ProveItLink\" href=\"../../common/3c2fb0727e51ccc44869d1fd03bc36b5f019b5010/expr.ipynb\"><img src=\"../../common/3c2fb0727e51ccc44869d1fd03bc36b5f019b5010/expr.png\" style=\"display:inline;vertical-align:middle;\" /></a></td></tr>\n",
       "<tr><td>37</td><td>Literal</td><td></td><td><a class=\"ProveItLink\" href=\"../../../../../numbers/functions/__pv_it/common/bfba0ee036600a699db1bed011018e81189ef5640/expr.ipynb\"><img src=\"../../../../../numbers/functions/__pv_it/common/bfba0ee036600a699db1bed011018e81189ef5640/expr.png\" style=\"display:inline;vertical-align:middle;\" /></a></td></tr>\n",
       "<tr><td>38</td><td>ExprTuple</td><td>42, 43</td><td><a class=\"ProveItLink\" href=\"../9652a279a9d5395d9ffaee912212ec664ffffe0c0/expr.ipynb\"><img src=\"../9652a279a9d5395d9ffaee912212ec664ffffe0c0/expr.png\" style=\"display:inline;vertical-align:middle;\" /></a></td></tr>\n",
       "<tr><td>39</td><td>ExprTuple</td><td>42, 44</td><td><a class=\"ProveItLink\" href=\"../ded398b1f26315324e074ef94e254f1e70c8afec0/expr.ipynb\"><img src=\"../ded398b1f26315324e074ef94e254f1e70c8afec0/expr.png\" style=\"display:inline;vertical-align:middle;\" /></a></td></tr>\n",
       "<tr><td>40</td><td>Literal</td><td></td><td><a class=\"ProveItLink\" href=\"../../../../../logic/sets/membership/__pv_it/common/477487d8796864d23d5810f83761435f25167f690/expr.ipynb\"><img src=\"../../../../../logic/sets/membership/__pv_it/common/477487d8796864d23d5810f83761435f25167f690/expr.png\" style=\"display:inline;vertical-align:middle;\" /></a></td></tr>\n",
       "<tr><td>41</td><td>ExprTuple</td><td>43, 44</td><td><a class=\"ProveItLink\" href=\"../0e2b8ab6d4b6a0d4aba6ce8aaadf7f9ec57f38f90/expr.ipynb\"><img src=\"../0e2b8ab6d4b6a0d4aba6ce8aaadf7f9ec57f38f90/expr.png\" style=\"display:inline;vertical-align:middle;\" /></a></td></tr>\n",
       "<tr><td>42</td><td>Variable</td><td></td><td><a class=\"ProveItLink\" href=\"../../../../../__pv_it/common/a4b9661da9b52dcebf59c5559fec8901f4df10750/expr.ipynb\"><img src=\"../../../../../__pv_it/common/a4b9661da9b52dcebf59c5559fec8901f4df10750/expr.png\" style=\"display:inline;vertical-align:middle;\" /></a></td></tr>\n",
       "<tr><td>43</td><td>Variable</td><td></td><td><a class=\"ProveItLink\" href=\"../../../../../__pv_it/common/d365663894822dede40e6e04c77860068334d0820/expr.ipynb\"><img src=\"../../../../../__pv_it/common/d365663894822dede40e6e04c77860068334d0820/expr.png\" style=\"display:inline;vertical-align:middle;\" /></a></td></tr>\n",
       "<tr><td>44</td><td>Operation</td><td>operator:&nbsp;45<br>operands:&nbsp;46<br></td><td><a class=\"ProveItLink\" href=\"../2703a4a8ca936763f004192f18715656078f90610/expr.ipynb\"><img src=\"../2703a4a8ca936763f004192f18715656078f90610/expr.png\" style=\"display:inline;vertical-align:middle;\" /></a></td></tr>\n",
       "<tr><td>45</td><td>Literal</td><td></td><td><a class=\"ProveItLink\" href=\"../../../../../logic/sets/enumeration/__pv_it/common/0ead90ccbf4f17bc585a51f8aa904bb77916ae6e0/expr.ipynb\"><img src=\"../../../../../logic/sets/enumeration/__pv_it/common/0ead90ccbf4f17bc585a51f8aa904bb77916ae6e0/expr.png\" style=\"display:inline;vertical-align:middle;\" /></a></td></tr>\n",
       "<tr><td>46</td><td>ExprTuple</td><td>47</td><td><a class=\"ProveItLink\" href=\"../e29d2811b42e43e69e77c1c44413b65518ecad320/expr.ipynb\"><img src=\"../e29d2811b42e43e69e77c1c44413b65518ecad320/expr.png\" style=\"display:inline;vertical-align:middle;\" /></a></td></tr>\n",
       "<tr><td>47</td><td>ExprRange</td><td>lambda_map:&nbsp;48<br>start_index:&nbsp;49<br>end_index:&nbsp;50<br></td><td><a class=\"ProveItLink\" href=\"../../../../../core_expr_types/__pv_it/common/d50f819f834d55ea1b9fad150926a94bf07ad8fc0/expr.ipynb\"><img src=\"../../../../../core_expr_types/__pv_it/common/d50f819f834d55ea1b9fad150926a94bf07ad8fc0/expr.png\" style=\"display:inline;vertical-align:middle;\" /></a></td></tr>\n",
       "<tr><td>48</td><td>Lambda</td><td>parameter:&nbsp;54<br>body:&nbsp;51<br></td><td><a class=\"ProveItLink\" href=\"../../../../../core_expr_types/__pv_it/common/f8f30fee5e5b4e37951ff8886b574795bf35d80c0/expr.ipynb\"><img src=\"../../../../../core_expr_types/__pv_it/common/f8f30fee5e5b4e37951ff8886b574795bf35d80c0/expr.png\" style=\"display:inline;vertical-align:middle;\" /></a></td></tr>\n",
       "<tr><td>49</td><td>Literal</td><td></td><td><a class=\"ProveItLink\" href=\"../../../../../numbers/numerals/__pv_it/common/682157d4892d216d9e5626ed533aff9b56b9506e0/expr.ipynb\"><img src=\"../../../../../numbers/numerals/__pv_it/common/682157d4892d216d9e5626ed533aff9b56b9506e0/expr.png\" style=\"display:inline;vertical-align:middle;\" /></a></td></tr>\n",
       "<tr><td>50</td><td>Variable</td><td></td><td><a class=\"ProveItLink\" href=\"../../../../../__pv_it/common/8968bb04eb3f7dfa02353397ce929b025bbd79c20/expr.ipynb\"><img src=\"../../../../../__pv_it/common/8968bb04eb3f7dfa02353397ce929b025bbd79c20/expr.png\" style=\"display:inline;vertical-align:middle;\" /></a></td></tr>\n",
       "<tr><td>51</td><td>IndexedVar</td><td>variable:&nbsp;52<br>index:&nbsp;54<br></td><td><a class=\"ProveItLink\" href=\"../../../../../core_expr_types/__pv_it/common/b7a46615d4e67a28ab963909b818c72af8e8e7c60/expr.ipynb\"><img src=\"../../../../../core_expr_types/__pv_it/common/b7a46615d4e67a28ab963909b818c72af8e8e7c60/expr.png\" style=\"display:inline;vertical-align:middle;\" /></a></td></tr>\n",
       "<tr><td>52</td><td>Variable</td><td></td><td><a class=\"ProveItLink\" href=\"../../../../../__pv_it/common/a0d9d672aa5e272d907247690c152cc2c6daafb70/expr.ipynb\"><img src=\"../../../../../__pv_it/common/a0d9d672aa5e272d907247690c152cc2c6daafb70/expr.png\" style=\"display:inline;vertical-align:middle;\" /></a></td></tr>\n",
       "<tr><td>53</td><td>ExprTuple</td><td>54</td><td><a class=\"ProveItLink\" href=\"../../../../../core_expr_types/__pv_it/common/4b0dd6be36d76552eda6a95d5b4a27f5a5b62f900/expr.ipynb\"><img src=\"../../../../../core_expr_types/__pv_it/common/4b0dd6be36d76552eda6a95d5b4a27f5a5b62f900/expr.png\" style=\"display:inline;vertical-align:middle;\" /></a></td></tr>\n",
       "<tr><td>54</td><td>Variable</td><td></td><td><a class=\"ProveItLink\" href=\"../../../../../core_expr_types/__pv_it/common/006c465e50948aa2b52285e2de47974f741255cc0/expr.ipynb\"><img src=\"../../../../../core_expr_types/__pv_it/common/006c465e50948aa2b52285e2de47974f741255cc0/expr.png\" style=\"display:inline;vertical-align:middle;\" /></a></td></tr>\n",
       "</table>\n"
      ],
      "text/plain": [
       "0. {({x_{1}, x_{2}, ..., x_{n}} in O.N.Bases(H)) =  \\\\ (({x_{1}, x_{2}, ..., x_{n}} in Bases(H)) and [forall_{v, w in {x_{1}, x_{2}, ..., x_{n}}} (<v, w> = delta_{v, w})]) if (x_{1} in H) and  (x_{2} in H) and  ... and  (x_{n} in H).\n",
       "   core type: Conditional\n",
       "   value: 1\n",
       "   condition: 2\n",
       "1. ({x_{1}, x_{2}, ..., x_{n}} in O.N.Bases(H)) =  \\\\ (({x_{1}, x_{2}, ..., x_{n}} in Bases(H)) and [forall_{v, w in {x_{1}, x_{2}, ..., x_{n}}} (<v, w> = delta_{v, w})])\n",
       "   core type: Operation\n",
       "   operator: 28\n",
       "   operands: 3\n",
       "2. (x_{1} in H) and  (x_{2} in H) and  ... and  (x_{n} in H)\n",
       "   core type: Operation\n",
       "   operator: 30\n",
       "   operands: 4\n",
       "3. ({x_{1}, x_{2}, ..., x_{n}} in O.N.Bases(H), ({x_{1}, x_{2}, ..., x_{n}} in Bases(H)) and [forall_{v, w in {x_{1}, x_{2}, ..., x_{n}}} (<v, w> = delta_{v, w})])\n",
       "   core type: ExprTuple\n",
       "   sub-expressions: 5, 6\n",
       "4. ((x_{1} in H), (x_{2} in H), ..., (x_{n} in H))\n",
       "   core type: ExprTuple\n",
       "   sub-expressions: 7\n",
       "5. {x_{1}, x_{2}, ..., x_{n}} in O.N.Bases(H)\n",
       "   core type: Operation\n",
       "   operator: 40\n",
       "   operands: 8\n",
       "6. ({x_{1}, x_{2}, ..., x_{n}} in Bases(H)) and [forall_{v, w in {x_{1}, x_{2}, ..., x_{n}}} (<v, w> = delta_{v, w})]\n",
       "   core type: Operation\n",
       "   operator: 30\n",
       "   operands: 9\n",
       "7. (x_{1} in H), (x_{2} in H), ..., (x_{n} in H)\n",
       "   core type: ExprRange\n",
       "   lambda_map: 10\n",
       "   start_index: 49\n",
       "   end_index: 50\n",
       "8. ({x_{1}, x_{2}, ..., x_{n}}, O.N.Bases(H))\n",
       "   core type: ExprTuple\n",
       "   sub-expressions: 44, 11\n",
       "9. ({x_{1}, x_{2}, ..., x_{n}} in Bases(H), forall_{v, w in {x_{1}, x_{2}, ..., x_{n}}} (<v, w> = delta_{v, w}))\n",
       "   core type: ExprTuple\n",
       "   sub-expressions: 12, 13\n",
       "10. _a -> (x_{_a} in H)\n",
       "    core type: Lambda\n",
       "    parameter: 54\n",
       "    body: 14\n",
       "11. O.N.Bases(H)\n",
       "    core type: Operation\n",
       "    operator: 15\n",
       "    operand: 25\n",
       "12. {x_{1}, x_{2}, ..., x_{n}} in Bases(H)\n",
       "    core type: Operation\n",
       "    operator: 40\n",
       "    operands: 16\n",
       "13. forall_{v, w in {x_{1}, x_{2}, ..., x_{n}}} (<v, w> = delta_{v, w})\n",
       "    core type: Operation\n",
       "    operator: 17\n",
       "    operand: 21\n",
       "14. x_{_a} in H\n",
       "    core type: Operation\n",
       "    operator: 40\n",
       "    operands: 19\n",
       "15. O.N.Bases\n",
       "    core type: Literal\n",
       "    sub-expressions: \n",
       "16. ({x_{1}, x_{2}, ..., x_{n}}, Bases(H))\n",
       "    core type: ExprTuple\n",
       "    sub-expressions: 44, 20\n",
       "17. forall\n",
       "    core type: Literal\n",
       "    sub-expressions: \n",
       "18. ((v, w) -> {<v, w> = delta_{v, w} if v in {x_{1}, x_{2}, ..., x_{n}} ,  w in {x_{1}, x_{2}, ..., x_{n}}.)\n",
       "    core type: ExprTuple\n",
       "    sub-expressions: 21\n",
       "19. (x_{_a}, H)\n",
       "    core type: ExprTuple\n",
       "    sub-expressions: 51, 25\n",
       "20. Bases(H)\n",
       "    core type: Operation\n",
       "    operator: 22\n",
       "    operand: 25\n",
       "21. (v, w) -> {<v, w> = delta_{v, w} if v in {x_{1}, x_{2}, ..., x_{n}} ,  w in {x_{1}, x_{2}, ..., x_{n}}.\n",
       "    core type: Lambda\n",
       "    parameters: 38\\n    body: 24\n",
       "22. Bases\n",
       "    core type: Literal\n",
       "    sub-expressions: \n",
       "23. (H)\n",
       "    core type: ExprTuple\n",
       "    sub-expressions: 25\n",
       "24. {<v, w> = delta_{v, w} if v in {x_{1}, x_{2}, ..., x_{n}} ,  w in {x_{1}, x_{2}, ..., x_{n}}.\n",
       "    core type: Conditional\n",
       "    value: 26\n",
       "    condition: 27\n",
       "25. H\n",
       "    core type: Variable\n",
       "    sub-expressions: \n",
       "26. <v, w> = delta_{v, w}\n",
       "    core type: Operation\n",
       "    operator: 28\n",
       "    operands: 29\n",
       "27. (v in {x_{1}, x_{2}, ..., x_{n}}) and (w in {x_{1}, x_{2}, ..., x_{n}})\n",
       "    core type: Operation\n",
       "    operator: 30\n",
       "    operands: 31\n",
       "28. =\n",
       "    core type: Literal\n",
       "    sub-expressions: \n",
       "29. (<v, w>, delta_{v, w})\n",
       "    core type: ExprTuple\n",
       "    sub-expressions: 32, 33\n",
       "30. and\n",
       "    core type: Literal\n",
       "    sub-expressions: \n",
       "31. (v in {x_{1}, x_{2}, ..., x_{n}}, w in {x_{1}, x_{2}, ..., x_{n}})\n",
       "    core type: ExprTuple\n",
       "    sub-expressions: 34, 35\n",
       "32. <v, w>\n",
       "    core type: Operation\n",
       "    operator: 36\n",
       "    operands: 38\n",
       "33. delta_{v, w}\n",
       "    core type: Operation\n",
       "    operator: 37\n",
       "    operands: 38\n",
       "34. v in {x_{1}, x_{2}, ..., x_{n}}\n",
       "    core type: Operation\n",
       "    operator: 40\n",
       "    operands: 39\n",
       "35. w in {x_{1}, x_{2}, ..., x_{n}}\n",
       "    core type: Operation\n",
       "    operator: 40\n",
       "    operands: 41\n",
       "36. InnerProd\n",
       "    core type: Literal\n",
       "    sub-expressions: \n",
       "37. Kdelta\n",
       "    core type: Literal\n",
       "    sub-expressions: \n",
       "38. (v, w)\n",
       "    core type: ExprTuple\n",
       "    sub-expressions: 42, 43\n",
       "39. (v, {x_{1}, x_{2}, ..., x_{n}})\n",
       "    core type: ExprTuple\n",
       "    sub-expressions: 42, 44\n",
       "40. in\n",
       "    core type: Literal\n",
       "    sub-expressions: \n",
       "41. (w, {x_{1}, x_{2}, ..., x_{n}})\n",
       "    core type: ExprTuple\n",
       "    sub-expressions: 43, 44\n",
       "42. v\n",
       "    core type: Variable\n",
       "    sub-expressions: \n",
       "43. w\n",
       "    core type: Variable\n",
       "    sub-expressions: \n",
       "44. {x_{1}, x_{2}, ..., x_{n}}\n",
       "    core type: Operation\n",
       "    operator: 45\n",
       "    operands: 46\n",
       "45. Set\n",
       "    core type: Literal\n",
       "    sub-expressions: \n",
       "46. (x_{1}, x_{2}, ..., x_{n})\n",
       "    core type: ExprTuple\n",
       "    sub-expressions: 47\n",
       "47. x_{1}, x_{2}, ..., x_{n}\n",
       "    core type: ExprRange\n",
       "    lambda_map: 48\n",
       "    start_index: 49\n",
       "    end_index: 50\n",
       "48. _a -> x_{_a}\n",
       "    core type: Lambda\n",
       "    parameter: 54\n",
       "    body: 51\n",
       "49. 1\n",
       "    core type: Literal\n",
       "    sub-expressions: \n",
       "50. n\n",
       "    core type: Variable\n",
       "    sub-expressions: \n",
       "51. x_{_a}\n",
       "    core type: IndexedVar\n",
       "variable: 52\n",
       "index: 54\n",
       "52. x\n",
       "    core type: Variable\n",
       "    sub-expressions: \n",
       "53. (_a)\n",
       "    core type: ExprTuple\n",
       "    sub-expressions: 54\n",
       "54. _a\n",
       "    core type: Variable\n",
       "    sub-expressions: "
      ]
     },
     "metadata": {},
     "output_type": "display_data"
    }
   ],
   "source": [
    "# display the expression information\n",
    "stored_expr.expr_info()"
   ]
  },
  {
   "cell_type": "code",
   "execution_count": null,
   "metadata": {},
   "outputs": [],
   "source": []
  }
 ],
 "metadata": {
  "kernelspec": {
   "display_name": "Python 3",
   "language": "python",
   "name": "python3"
  }
 },
 "nbformat": 4,
 "nbformat_minor": 0
}