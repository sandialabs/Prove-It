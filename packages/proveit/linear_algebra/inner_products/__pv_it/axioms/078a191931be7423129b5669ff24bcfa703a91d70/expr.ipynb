{
 "cells": [
  {
   "cell_type": "markdown",
   "metadata": {},
   "source": [
    "Expression of type <a class=\"ProveItLink\" href=\"../../../../../../../doc/html/api/proveit.ExprTuple.html\">ExprTuple</a>\n",
    "=======================\n",
    "# from the theory of <a class=\"ProveItLink\" href=\"../../../_theory_nbs_/theory.ipynb\">proveit.linear_algebra.inner_products</a>"
   ]
  },
  {
   "cell_type": "code",
   "execution_count": 1,
   "metadata": {},
   "outputs": [],
   "source": [
    "import proveit\n",
    "# Automation is not needed when building an expression:\n",
    "proveit.defaults.automation = False # This will speed things up.\n",
    "proveit.defaults.inline_pngs = False # Makes files smaller.\n",
    "%load_expr # Load the stored expression as 'stored_expr'\n",
    "# import Expression classes needed to build the expression\n",
    "from proveit import ExprTuple, Px, Py, X, x, y\n",
    "from proveit.linear_algebra import Hspace, InnerProd, VecZero\n",
    "from proveit.logic import Equals, Forall, Implies\n",
    "from proveit.numbers import zero"
   ]
  },
  {
   "cell_type": "code",
   "execution_count": 2,
   "metadata": {},
   "outputs": [
    {
     "data": {
      "text/html": [
       "<strong id=\"expr\">expr:</strong> <a class=\"ProveItLink\" href=\"expr.ipynb\"><img src=\"expr.png\" style=\"display:inline;vertical-align:middle;\" /></a><br>"
      ],
      "text/plain": [
       "<IPython.core.display.HTML object>"
      ]
     },
     "metadata": {},
     "output_type": "display_data"
    }
   ],
   "source": [
    "# build up the expression from sub-expressions\n",
    "sub_expr1 = [x]\n",
    "expr = ExprTuple(Forall(instance_param_or_params = sub_expr1, instance_expr = Equals(Px, x), domain = X), Forall(instance_param_or_params = [y], instance_expr = Implies(Forall(instance_param_or_params = sub_expr1, instance_expr = Equals(InnerProd(x, y), zero), domain = X), Equals(Py, VecZero(Hspace))), domain = Hspace))"
   ]
  },
  {
   "cell_type": "code",
   "execution_count": 3,
   "metadata": {},
   "outputs": [
    {
     "name": "stdout",
     "output_type": "stream",
     "text": [
      "Passed sanity check: expr matches stored_expr\n"
     ]
    }
   ],
   "source": [
    "# check that the built expression is the same as the stored expression\n",
    "assert expr == stored_expr\n",
    "assert expr._style_id == stored_expr._style_id\n",
    "print(\"Passed sanity check: expr matches stored_expr\")"
   ]
  },
  {
   "cell_type": "code",
   "execution_count": 4,
   "metadata": {},
   "outputs": [
    {
     "name": "stdout",
     "output_type": "stream",
     "text": [
      "\\left(\\forall_{x \\in X}~\\left(P\\left(x\\right) = x\\right), \\forall_{y \\in \\mathcal{H}}~\\left(\\left[\\forall_{x \\in X}~\\left(\\left \\langle x, y\\right \\rangle = 0\\right)\\right] \\Rightarrow \\left(P\\left(y\\right) = \\vec{0}\\left(\\mathcal{H}\\right)\\right)\\right)\\right)\n"
     ]
    }
   ],
   "source": [
    "# Show the LaTeX representation of the expression for convenience if you need it.\n",
    "print(stored_expr.latex())"
   ]
  },
  {
   "cell_type": "code",
   "execution_count": 5,
   "metadata": {},
   "outputs": [
    {
     "data": {
      "text/html": [
       "<table>\n",
       "<tr><th>name</th><th>description</th><th>default</th><th>current value</th><th>related methods</th></tr><tr><td>wrap_positions</td><td>position(s) at which wrapping is to occur; 'n' is after the nth comma.</td><td>()</td><td>()</td><td>('with_wrapping_at',)</td></tr>\n",
       "<tr><td>justification</td><td>if any wrap positions are set, justify to the 'left', 'center', or 'right'</td><td>left</td><td>left</td><td>('with_justification',)</td></tr>\n",
       "</table>\n"
      ],
      "text/plain": [
       "style name: wrap_positions\n",
       "description: position(s) at which wrapping is to occur; 'n' is after the nth comma.\n",
       "default: ()\n",
       "current value: ()\n",
       "related methods: ('with_wrapping_at',)\n",
       "style name: justification\n",
       "description: if any wrap positions are set, justify to the 'left', 'center', or 'right'\n",
       "default: left\n",
       "current value: left\n",
       "related methods: ('with_justification',)"
      ]
     },
     "metadata": {},
     "output_type": "display_data"
    }
   ],
   "source": [
    "stored_expr.style_options()"
   ]
  },
  {
   "cell_type": "code",
   "execution_count": 6,
   "metadata": {},
   "outputs": [
    {
     "data": {
      "text/html": [
       "<table><tr><th>&nbsp;</th><th>core type</th><th>sub-expressions</th><th>expression</th></tr>\n",
       "<tr><td>0</td><td>ExprTuple</td><td>1, 2</td><td><a class=\"ProveItLink\" href=\"expr.ipynb\"><img src=\"expr.png\" style=\"display:inline;vertical-align:middle;\" /></a></td></tr>\n",
       "<tr><td>1</td><td>Operation</td><td>operator:&nbsp;19<br>operand:&nbsp;5<br></td><td><a class=\"ProveItLink\" href=\"../7c83a297a2bebf5bb4d94909bbadb48367219a260/expr.ipynb\"><img src=\"../7c83a297a2bebf5bb4d94909bbadb48367219a260/expr.png\" style=\"display:inline;vertical-align:middle;\" /></a></td></tr>\n",
       "<tr><td>2</td><td>Operation</td><td>operator:&nbsp;19<br>operand:&nbsp;6<br></td><td><a class=\"ProveItLink\" href=\"../37ac3595f035466e644323ccf86e08a3c62c93960/expr.ipynb\"><img src=\"../37ac3595f035466e644323ccf86e08a3c62c93960/expr.png\" style=\"display:inline;vertical-align:middle;\" /></a></td></tr>\n",
       "<tr><td>3</td><td>ExprTuple</td><td>5</td><td><a class=\"ProveItLink\" href=\"../d7b3d021f315419349d3fbf6687aa291b6de4afd0/expr.ipynb\"><img src=\"../d7b3d021f315419349d3fbf6687aa291b6de4afd0/expr.png\" style=\"display:inline;vertical-align:middle;\" /></a></td></tr>\n",
       "<tr><td>4</td><td>ExprTuple</td><td>6</td><td><a class=\"ProveItLink\" href=\"../bbd8b230de8dbc6df334f548a181a895b671eb3a0/expr.ipynb\"><img src=\"../bbd8b230de8dbc6df334f548a181a895b671eb3a0/expr.png\" style=\"display:inline;vertical-align:middle;\" /></a></td></tr>\n",
       "<tr><td>5</td><td>Lambda</td><td>parameter:&nbsp;43<br>body:&nbsp;7<br></td><td><a class=\"ProveItLink\" href=\"../a8b7f979f9def64a848888e27253fc4c21853bae0/expr.ipynb\"><img src=\"../a8b7f979f9def64a848888e27253fc4c21853bae0/expr.png\" style=\"display:inline;vertical-align:middle;\" /></a></td></tr>\n",
       "<tr><td>6</td><td>Lambda</td><td>parameter:&nbsp;44<br>body:&nbsp;8<br></td><td><a class=\"ProveItLink\" href=\"../07c890b2bfa021f8207fb3a3b2bb5ddb933708f90/expr.ipynb\"><img src=\"../07c890b2bfa021f8207fb3a3b2bb5ddb933708f90/expr.png\" style=\"display:inline;vertical-align:middle;\" /></a></td></tr>\n",
       "<tr><td>7</td><td>Conditional</td><td>value:&nbsp;9<br>condition:&nbsp;32<br></td><td><a class=\"ProveItLink\" href=\"../e73726218e2485571e43758f307008aaa58bc0400/expr.ipynb\"><img src=\"../e73726218e2485571e43758f307008aaa58bc0400/expr.png\" style=\"display:inline;vertical-align:middle;\" /></a></td></tr>\n",
       "<tr><td>8</td><td>Conditional</td><td>value:&nbsp;10<br>condition:&nbsp;11<br></td><td><a class=\"ProveItLink\" href=\"../945cb4f107b8e6a90ab29570af70bd95f9c1dddc0/expr.ipynb\"><img src=\"../945cb4f107b8e6a90ab29570af70bd95f9c1dddc0/expr.png\" style=\"display:inline;vertical-align:middle;\" /></a></td></tr>\n",
       "<tr><td>9</td><td>Operation</td><td>operator:&nbsp;34<br>operands:&nbsp;12<br></td><td><a class=\"ProveItLink\" href=\"../571bd1afeaf1e8fa82ff39b49ba08675f7cfaef70/expr.ipynb\"><img src=\"../571bd1afeaf1e8fa82ff39b49ba08675f7cfaef70/expr.png\" style=\"display:inline;vertical-align:middle;\" /></a></td></tr>\n",
       "<tr><td>10</td><td>Operation</td><td>operator:&nbsp;13<br>operands:&nbsp;14<br></td><td><a class=\"ProveItLink\" href=\"../155426260752d14a59dd919114134229df8d4c7b0/expr.ipynb\"><img src=\"../155426260752d14a59dd919114134229df8d4c7b0/expr.png\" style=\"display:inline;vertical-align:middle;\" /></a></td></tr>\n",
       "<tr><td>11</td><td>Operation</td><td>operator:&nbsp;36<br>operands:&nbsp;15<br></td><td><a class=\"ProveItLink\" href=\"../02283bec61f2dee5cee9ceaee405fd20b34669e30/expr.ipynb\"><img src=\"../02283bec61f2dee5cee9ceaee405fd20b34669e30/expr.png\" style=\"display:inline;vertical-align:middle;\" /></a></td></tr>\n",
       "<tr><td>12</td><td>ExprTuple</td><td>16, 43</td><td><a class=\"ProveItLink\" href=\"../0a95a739fe1d909337ec9e7fd0ba97f66e41875c0/expr.ipynb\"><img src=\"../0a95a739fe1d909337ec9e7fd0ba97f66e41875c0/expr.png\" style=\"display:inline;vertical-align:middle;\" /></a></td></tr>\n",
       "<tr><td>13</td><td>Literal</td><td></td><td><a class=\"ProveItLink\" href=\"../../../../../logic/booleans/implication/__pv_it/common/02bdb382575728da8cdbaed545b9096ea7a1bd5b0/expr.ipynb\"><img src=\"../../../../../logic/booleans/implication/__pv_it/common/02bdb382575728da8cdbaed545b9096ea7a1bd5b0/expr.png\" style=\"display:inline;vertical-align:middle;\" /></a></td></tr>\n",
       "<tr><td>14</td><td>ExprTuple</td><td>17, 18</td><td><a class=\"ProveItLink\" href=\"../87a507d365f2558c22b5210a09d22afa397eb1040/expr.ipynb\"><img src=\"../87a507d365f2558c22b5210a09d22afa397eb1040/expr.png\" style=\"display:inline;vertical-align:middle;\" /></a></td></tr>\n",
       "<tr><td>15</td><td>ExprTuple</td><td>44, 33</td><td><a class=\"ProveItLink\" href=\"../4f0ac810723c6bd97791ec6adbcc37cfb7a9641a0/expr.ipynb\"><img src=\"../4f0ac810723c6bd97791ec6adbcc37cfb7a9641a0/expr.png\" style=\"display:inline;vertical-align:middle;\" /></a></td></tr>\n",
       "<tr><td>16</td><td>Operation</td><td>operator:&nbsp;27<br>operand:&nbsp;43<br></td><td><a class=\"ProveItLink\" href=\"../../../../../__pv_it/common/32fc7f13c9e7e89074583aa5bfc208d125f839970/expr.ipynb\"><img src=\"../../../../../__pv_it/common/32fc7f13c9e7e89074583aa5bfc208d125f839970/expr.png\" style=\"display:inline;vertical-align:middle;\" /></a></td></tr>\n",
       "<tr><td>17</td><td>Operation</td><td>operator:&nbsp;19<br>operand:&nbsp;22<br></td><td><a class=\"ProveItLink\" href=\"../5da0e63fb9461a5ab01d67bbc1ff0952daf378220/expr.ipynb\"><img src=\"../5da0e63fb9461a5ab01d67bbc1ff0952daf378220/expr.png\" style=\"display:inline;vertical-align:middle;\" /></a></td></tr>\n",
       "<tr><td>18</td><td>Operation</td><td>operator:&nbsp;34<br>operands:&nbsp;21<br></td><td><a class=\"ProveItLink\" href=\"../c2ebc60ec80463cd02ccc88901bba77aa1aa8a620/expr.ipynb\"><img src=\"../c2ebc60ec80463cd02ccc88901bba77aa1aa8a620/expr.png\" style=\"display:inline;vertical-align:middle;\" /></a></td></tr>\n",
       "<tr><td>19</td><td>Literal</td><td></td><td><a class=\"ProveItLink\" href=\"../../../../../logic/booleans/quantification/universality/__pv_it/common/083d2baa0b8ecab1d230f9ec29a15aa1355809fb0/expr.ipynb\"><img src=\"../../../../../logic/booleans/quantification/universality/__pv_it/common/083d2baa0b8ecab1d230f9ec29a15aa1355809fb0/expr.png\" style=\"display:inline;vertical-align:middle;\" /></a></td></tr>\n",
       "<tr><td>20</td><td>ExprTuple</td><td>22</td><td><a class=\"ProveItLink\" href=\"../c0181a77aa39d103eb8d79f628780797325234650/expr.ipynb\"><img src=\"../c0181a77aa39d103eb8d79f628780797325234650/expr.png\" style=\"display:inline;vertical-align:middle;\" /></a></td></tr>\n",
       "<tr><td>21</td><td>ExprTuple</td><td>23, 24</td><td><a class=\"ProveItLink\" href=\"../e5b1bca400a731301d8e648691415258980ece800/expr.ipynb\"><img src=\"../e5b1bca400a731301d8e648691415258980ece800/expr.png\" style=\"display:inline;vertical-align:middle;\" /></a></td></tr>\n",
       "<tr><td>22</td><td>Lambda</td><td>parameter:&nbsp;43<br>body:&nbsp;26<br></td><td><a class=\"ProveItLink\" href=\"../adf496a7e41c67d47de849d2238b76fb048208ba0/expr.ipynb\"><img src=\"../adf496a7e41c67d47de849d2238b76fb048208ba0/expr.png\" style=\"display:inline;vertical-align:middle;\" /></a></td></tr>\n",
       "<tr><td>23</td><td>Operation</td><td>operator:&nbsp;27<br>operand:&nbsp;44<br></td><td><a class=\"ProveItLink\" href=\"../../../../../__pv_it/common/da54d8e4a8a27a02e3008e3dbdbc9c2042ade4470/expr.ipynb\"><img src=\"../../../../../__pv_it/common/da54d8e4a8a27a02e3008e3dbdbc9c2042ade4470/expr.png\" style=\"display:inline;vertical-align:middle;\" /></a></td></tr>\n",
       "<tr><td>24</td><td>Operation</td><td>operator:&nbsp;29<br>operand:&nbsp;33<br></td><td><a class=\"ProveItLink\" href=\"../85d269aa67ccd5a29f1359571b1d92281dc19fe80/expr.ipynb\"><img src=\"../85d269aa67ccd5a29f1359571b1d92281dc19fe80/expr.png\" style=\"display:inline;vertical-align:middle;\" /></a></td></tr>\n",
       "<tr><td>25</td><td>ExprTuple</td><td>43</td><td><a class=\"ProveItLink\" href=\"../../../../../__pv_it/common/eacfeccc0521684fcb20fe8f5180ac50fca471f20/expr.ipynb\"><img src=\"../../../../../__pv_it/common/eacfeccc0521684fcb20fe8f5180ac50fca471f20/expr.png\" style=\"display:inline;vertical-align:middle;\" /></a></td></tr>\n",
       "<tr><td>26</td><td>Conditional</td><td>value:&nbsp;31<br>condition:&nbsp;32<br></td><td><a class=\"ProveItLink\" href=\"../75fd2f9ddc2b7d4b079f21573ac4fd551036c2d00/expr.ipynb\"><img src=\"../75fd2f9ddc2b7d4b079f21573ac4fd551036c2d00/expr.png\" style=\"display:inline;vertical-align:middle;\" /></a></td></tr>\n",
       "<tr><td>27</td><td>Variable</td><td></td><td><a class=\"ProveItLink\" href=\"../../../../../__pv_it/common/de55da274ba0f49c86925fbf3828021c04d27faf0/expr.ipynb\"><img src=\"../../../../../__pv_it/common/de55da274ba0f49c86925fbf3828021c04d27faf0/expr.png\" style=\"display:inline;vertical-align:middle;\" /></a></td></tr>\n",
       "<tr><td>28</td><td>ExprTuple</td><td>44</td><td><a class=\"ProveItLink\" href=\"../../../../../__pv_it/common/8ec7f6fe639763828b300003a52d700ece4a5c240/expr.ipynb\"><img src=\"../../../../../__pv_it/common/8ec7f6fe639763828b300003a52d700ece4a5c240/expr.png\" style=\"display:inline;vertical-align:middle;\" /></a></td></tr>\n",
       "<tr><td>29</td><td>Literal</td><td></td><td><a class=\"ProveItLink\" href=\"../../../../addition/__pv_it/common/d2e82c0e4e3b7cfc7524ea34ed47cbb7e27196bd0/expr.ipynb\"><img src=\"../../../../addition/__pv_it/common/d2e82c0e4e3b7cfc7524ea34ed47cbb7e27196bd0/expr.png\" style=\"display:inline;vertical-align:middle;\" /></a></td></tr>\n",
       "<tr><td>30</td><td>ExprTuple</td><td>33</td><td><a class=\"ProveItLink\" href=\"../b9d4240524cd252287e77024516896a3cc55f45e0/expr.ipynb\"><img src=\"../b9d4240524cd252287e77024516896a3cc55f45e0/expr.png\" style=\"display:inline;vertical-align:middle;\" /></a></td></tr>\n",
       "<tr><td>31</td><td>Operation</td><td>operator:&nbsp;34<br>operands:&nbsp;35<br></td><td><a class=\"ProveItLink\" href=\"../0eae0bec8c3c4f7c57c0eebba5ee047fd5300ae30/expr.ipynb\"><img src=\"../0eae0bec8c3c4f7c57c0eebba5ee047fd5300ae30/expr.png\" style=\"display:inline;vertical-align:middle;\" /></a></td></tr>\n",
       "<tr><td>32</td><td>Operation</td><td>operator:&nbsp;36<br>operands:&nbsp;37<br></td><td><a class=\"ProveItLink\" href=\"../720b39d5ad9fe4b7c0ee2e3ece48cef19dcc3e670/expr.ipynb\"><img src=\"../720b39d5ad9fe4b7c0ee2e3ece48cef19dcc3e670/expr.png\" style=\"display:inline;vertical-align:middle;\" /></a></td></tr>\n",
       "<tr><td>33</td><td>Variable</td><td></td><td><a class=\"ProveItLink\" href=\"../../common/0a298dc12c549b5fdc96454972e9674c7dbf104f0/expr.ipynb\"><img src=\"../../common/0a298dc12c549b5fdc96454972e9674c7dbf104f0/expr.png\" style=\"display:inline;vertical-align:middle;\" /></a></td></tr>\n",
       "<tr><td>34</td><td>Literal</td><td></td><td><a class=\"ProveItLink\" href=\"../../../../../logic/equality/__pv_it/common/fb96dc12b2aa8801dda64d0132b396c63d1502bb0/expr.ipynb\"><img src=\"../../../../../logic/equality/__pv_it/common/fb96dc12b2aa8801dda64d0132b396c63d1502bb0/expr.png\" style=\"display:inline;vertical-align:middle;\" /></a></td></tr>\n",
       "<tr><td>35</td><td>ExprTuple</td><td>38, 39</td><td><a class=\"ProveItLink\" href=\"../e7e76d191a54f8970d621cc7682c27ce5469ebe50/expr.ipynb\"><img src=\"../e7e76d191a54f8970d621cc7682c27ce5469ebe50/expr.png\" style=\"display:inline;vertical-align:middle;\" /></a></td></tr>\n",
       "<tr><td>36</td><td>Literal</td><td></td><td><a class=\"ProveItLink\" href=\"../../../../../logic/sets/membership/__pv_it/common/477487d8796864d23d5810f83761435f25167f690/expr.ipynb\"><img src=\"../../../../../logic/sets/membership/__pv_it/common/477487d8796864d23d5810f83761435f25167f690/expr.png\" style=\"display:inline;vertical-align:middle;\" /></a></td></tr>\n",
       "<tr><td>37</td><td>ExprTuple</td><td>43, 40</td><td><a class=\"ProveItLink\" href=\"../1fffd71440076631b1c486124d18ce673ceec6d60/expr.ipynb\"><img src=\"../1fffd71440076631b1c486124d18ce673ceec6d60/expr.png\" style=\"display:inline;vertical-align:middle;\" /></a></td></tr>\n",
       "<tr><td>38</td><td>Operation</td><td>operator:&nbsp;41<br>operands:&nbsp;42<br></td><td><a class=\"ProveItLink\" href=\"../626d2c12ed5d7ede99f56ae5a015b28ef847fbd10/expr.ipynb\"><img src=\"../626d2c12ed5d7ede99f56ae5a015b28ef847fbd10/expr.png\" style=\"display:inline;vertical-align:middle;\" /></a></td></tr>\n",
       "<tr><td>39</td><td>Literal</td><td></td><td><a class=\"ProveItLink\" href=\"../../../../../numbers/numerals/__pv_it/common/dd4e19e8b134dfb293470ea55fe3589b0ab9f8040/expr.ipynb\"><img src=\"../../../../../numbers/numerals/__pv_it/common/dd4e19e8b134dfb293470ea55fe3589b0ab9f8040/expr.png\" style=\"display:inline;vertical-align:middle;\" /></a></td></tr>\n",
       "<tr><td>40</td><td>Variable</td><td></td><td><a class=\"ProveItLink\" href=\"../../../../../__pv_it/common/f1ca094affb79f5011ff4d63eb4e121bfbde7f330/expr.ipynb\"><img src=\"../../../../../__pv_it/common/f1ca094affb79f5011ff4d63eb4e121bfbde7f330/expr.png\" style=\"display:inline;vertical-align:middle;\" /></a></td></tr>\n",
       "<tr><td>41</td><td>Literal</td><td></td><td><a class=\"ProveItLink\" href=\"../../common/3c2fb0727e51ccc44869d1fd03bc36b5f019b5010/expr.ipynb\"><img src=\"../../common/3c2fb0727e51ccc44869d1fd03bc36b5f019b5010/expr.png\" style=\"display:inline;vertical-align:middle;\" /></a></td></tr>\n",
       "<tr><td>42</td><td>ExprTuple</td><td>43, 44</td><td><a class=\"ProveItLink\" href=\"../bbaa48af4605eceb7fbc4af345a1eb6de480e1c50/expr.ipynb\"><img src=\"../bbaa48af4605eceb7fbc4af345a1eb6de480e1c50/expr.png\" style=\"display:inline;vertical-align:middle;\" /></a></td></tr>\n",
       "<tr><td>43</td><td>Variable</td><td></td><td><a class=\"ProveItLink\" href=\"../../../../../__pv_it/common/a0d9d672aa5e272d907247690c152cc2c6daafb70/expr.ipynb\"><img src=\"../../../../../__pv_it/common/a0d9d672aa5e272d907247690c152cc2c6daafb70/expr.png\" style=\"display:inline;vertical-align:middle;\" /></a></td></tr>\n",
       "<tr><td>44</td><td>Variable</td><td></td><td><a class=\"ProveItLink\" href=\"../../../../../__pv_it/common/ff7dba4ef0bbe791ab573bf2d9c220a304399ac80/expr.ipynb\"><img src=\"../../../../../__pv_it/common/ff7dba4ef0bbe791ab573bf2d9c220a304399ac80/expr.png\" style=\"display:inline;vertical-align:middle;\" /></a></td></tr>\n",
       "</table>\n"
      ],
      "text/plain": [
       "0. (forall_{x in X} (P(x) = x), forall_{y in H} ([forall_{x in X} (<x, y> = 0)] => (P(y) = 0(H))))\n",
       "   core type: ExprTuple\n",
       "   sub-expressions: 1, 2\n",
       "1. forall_{x in X} (P(x) = x)\n",
       "   core type: Operation\n",
       "   operator: 19\n",
       "   operand: 5\n",
       "2. forall_{y in H} ([forall_{x in X} (<x, y> = 0)] => (P(y) = 0(H)))\n",
       "   core type: Operation\n",
       "   operator: 19\n",
       "   operand: 6\n",
       "3. (x -> {P(x) = x if x in X.)\n",
       "   core type: ExprTuple\n",
       "   sub-expressions: 5\n",
       "4. (y -> {[forall_{x in X} (<x, y> = 0)] => (P(y) = 0(H)) if y in H.)\n",
       "   core type: ExprTuple\n",
       "   sub-expressions: 6\n",
       "5. x -> {P(x) = x if x in X.\n",
       "   core type: Lambda\n",
       "   parameter: 43\n",
       "   body: 7\n",
       "6. y -> {[forall_{x in X} (<x, y> = 0)] => (P(y) = 0(H)) if y in H.\n",
       "   core type: Lambda\n",
       "   parameter: 44\n",
       "   body: 8\n",
       "7. {P(x) = x if x in X.\n",
       "   core type: Conditional\n",
       "   value: 9\n",
       "   condition: 32\n",
       "8. {[forall_{x in X} (<x, y> = 0)] => (P(y) = 0(H)) if y in H.\n",
       "   core type: Conditional\n",
       "   value: 10\n",
       "   condition: 11\n",
       "9. P(x) = x\n",
       "   core type: Operation\n",
       "   operator: 34\n",
       "   operands: 12\n",
       "10. [forall_{x in X} (<x, y> = 0)] => (P(y) = 0(H))\n",
       "    core type: Operation\n",
       "    operator: 13\n",
       "    operands: 14\n",
       "11. y in H\n",
       "    core type: Operation\n",
       "    operator: 36\n",
       "    operands: 15\n",
       "12. (P(x), x)\n",
       "    core type: ExprTuple\n",
       "    sub-expressions: 16, 43\n",
       "13. =>\n",
       "    core type: Literal\n",
       "    sub-expressions: \n",
       "14. (forall_{x in X} (<x, y> = 0), P(y) = 0(H))\n",
       "    core type: ExprTuple\n",
       "    sub-expressions: 17, 18\n",
       "15. (y, H)\n",
       "    core type: ExprTuple\n",
       "    sub-expressions: 44, 33\n",
       "16. P(x)\n",
       "    core type: Operation\n",
       "    operator: 27\n",
       "    operand: 43\n",
       "17. forall_{x in X} (<x, y> = 0)\n",
       "    core type: Operation\n",
       "    operator: 19\n",
       "    operand: 22\n",
       "18. P(y) = 0(H)\n",
       "    core type: Operation\n",
       "    operator: 34\n",
       "    operands: 21\n",
       "19. forall\n",
       "    core type: Literal\n",
       "    sub-expressions: \n",
       "20. (x -> {<x, y> = 0 if x in X.)\n",
       "    core type: ExprTuple\n",
       "    sub-expressions: 22\n",
       "21. (P(y), 0(H))\n",
       "    core type: ExprTuple\n",
       "    sub-expressions: 23, 24\n",
       "22. x -> {<x, y> = 0 if x in X.\n",
       "    core type: Lambda\n",
       "    parameter: 43\n",
       "    body: 26\n",
       "23. P(y)\n",
       "    core type: Operation\n",
       "    operator: 27\n",
       "    operand: 44\n",
       "24. 0(H)\n",
       "    core type: Operation\n",
       "    operator: 29\n",
       "    operand: 33\n",
       "25. (x)\n",
       "    core type: ExprTuple\n",
       "    sub-expressions: 43\n",
       "26. {<x, y> = 0 if x in X.\n",
       "    core type: Conditional\n",
       "    value: 31\n",
       "    condition: 32\n",
       "27. P\n",
       "    core type: Variable\n",
       "    sub-expressions: \n",
       "28. (y)\n",
       "    core type: ExprTuple\n",
       "    sub-expressions: 44\n",
       "29. 0\n",
       "    core type: Literal\n",
       "    sub-expressions: \n",
       "30. (H)\n",
       "    core type: ExprTuple\n",
       "    sub-expressions: 33\n",
       "31. <x, y> = 0\n",
       "    core type: Operation\n",
       "    operator: 34\n",
       "    operands: 35\n",
       "32. x in X\n",
       "    core type: Operation\n",
       "    operator: 36\n",
       "    operands: 37\n",
       "33. H\n",
       "    core type: Variable\n",
       "    sub-expressions: \n",
       "34. =\n",
       "    core type: Literal\n",
       "    sub-expressions: \n",
       "35. (<x, y>, 0)\n",
       "    core type: ExprTuple\n",
       "    sub-expressions: 38, 39\n",
       "36. in\n",
       "    core type: Literal\n",
       "    sub-expressions: \n",
       "37. (x, X)\n",
       "    core type: ExprTuple\n",
       "    sub-expressions: 43, 40\n",
       "38. <x, y>\n",
       "    core type: Operation\n",
       "    operator: 41\n",
       "    operands: 42\n",
       "39. 0\n",
       "    core type: Literal\n",
       "    sub-expressions: \n",
       "40. X\n",
       "    core type: Variable\n",
       "    sub-expressions: \n",
       "41. InnerProd\n",
       "    core type: Literal\n",
       "    sub-expressions: \n",
       "42. (x, y)\n",
       "    core type: ExprTuple\n",
       "    sub-expressions: 43, 44\n",
       "43. x\n",
       "    core type: Variable\n",
       "    sub-expressions: \n",
       "44. y\n",
       "    core type: Variable\n",
       "    sub-expressions: "
      ]
     },
     "metadata": {},
     "output_type": "display_data"
    }
   ],
   "source": [
    "# display the expression information\n",
    "stored_expr.expr_info()"
   ]
  },
  {
   "cell_type": "code",
   "execution_count": null,
   "metadata": {},
   "outputs": [],
   "source": []
  }
 ],
 "metadata": {
  "kernelspec": {
   "display_name": "Python 3",
   "language": "python",
   "name": "python3"
  }
 },
 "nbformat": 4,
 "nbformat_minor": 0
}