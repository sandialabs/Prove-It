{
 "cells": [
  {
   "cell_type": "markdown",
   "metadata": {},
   "source": [
    "Common expressions for the theory of <a class=\"ProveItLink\" href=\"theory.ipynb\">proveit.linear_algebra.inner_products</a>\n",
    "========"
   ]
  },
  {
   "cell_type": "code",
   "execution_count": 1,
   "metadata": {},
   "outputs": [],
   "source": [
    "import proveit\n",
    "# Prepare this notebook for defining the common expressions of a theory:\n",
    "%common_expressions_notebook # Keep this at the top following 'import proveit'.\n",
    "\n",
    "from proveit import Variable\n",
    "from proveit.linear_algebra.inner_products.hilbert_spaces import (\n",
    "    HilbertSpacesLiteral)"
   ]
  },
  {
   "cell_type": "code",
   "execution_count": 2,
   "metadata": {},
   "outputs": [
    {
     "name": "stdout",
     "output_type": "stream",
     "text": [
      "Defining common sub-expressions for theory 'proveit.linear_algebra.inner_products'\n",
      "Subsequent end-of-cell assignments will define common sub-expressions\n",
      "%end_common will finalize the definitions\n"
     ]
    }
   ],
   "source": [
    "%begin common"
   ]
  },
  {
   "cell_type": "code",
   "execution_count": 3,
   "metadata": {},
   "outputs": [
    {
     "data": {
      "text/html": [
       "<strong id=\"HilbertSpaces\">HilbertSpaces:</strong> <a class=\"ProveItLink\" href=\"../__pv_it/common/63495bb81132197a40ba1811088142655bc8cabd0/common_expr.ipynb\"><img src=\"data:image/png;base64,iVBORw0KGgoAAAANSUhEUgAAAH0AAAASBAMAAACEDMyZAAAAMFBMVEX///8AAAAAAAAAAAAAAAAA\n",
       "AAAAAAAAAAAAAAAAAAAAAAAAAAAAAAAAAAAAAAAAAAAv3aB7AAAAD3RSTlMAMqvN74kiu2ZEmRB2\n",
       "VN1Y5l/sAAAACXBIWXMAAA7EAAAOxAGVKw4bAAAB+0lEQVQ4y6WTPWgTYRjHfzEfel6ShihOQkLQ\n",
       "UhFpMHEwg8WjBkuXQ2nxCzlsp0LpUQQHBW/sUDAgLqJ4CIIEhYAITqFQXDSFG4rQQSs6dWoj9KRB\n",
       "iM97FdGaajEP73vD+/5/z+d7pIuGeW3AMGNn2Wdw9wxbTa9WPZftLWPLzqO14Dhs4U2op/iQ/ws/\n",
       "lZUtPmowDSd+u4tJ4EuwZyc8Hfi4u3li/yefEf66Bc6/+TEj4EuzbzyYeO1qxYXzk/2fjrG8XgGt\n",
       "eKHaJ4U0RmroT0Y8peDg7LzijVzuth00T/hTFiVCZeaJPJ9ykhI/3m6fhMgQdZdFa2+ecU87rRS6\n",
       "TfKX/KeDJV4eVQTr8ZIfdRTPq0Nth3CWxIbwmk+BRFkploaJ/8GXoMfNiN4UYpOH/WuEXXSZsH7P\n",
       "19dVY5Ri9ZbVkbeXn87MpIQIeOmdtqF4vqI/fu+HvgkUKF6utraJLy0U/4qPBrNr/oi/WAn5Kg2U\n",
       "IlbjTqpD/ZlURI4qig8LvyLKtaD+Ji00/0ABEkrxcI5dzs/3y42AL9Q4TGiIqKVyj+ajfPZ4IdWW\n",
       "qZvCx5vvxh1GlWJymN0W6QH1/3wx04NH04O93Fx6IOOeeDaq9RuSY+4y2fvnjkgmfQ35phfeXp3T\n",
       "qw0rUFxpXGSnFnbpyrrlk9mucOmG1fHiO4vMpkmtVr8vAAAAAElFTkSuQmCC\n",
       "\" style=\"display:inline;vertical-align:middle;\" /></a><br>"
      ],
      "text/plain": [
       "<IPython.core.display.HTML object>"
      ]
     },
     "metadata": {},
     "output_type": "display_data"
    }
   ],
   "source": [
    "HilbertSpaces = HilbertSpacesLiteral()"
   ]
  },
  {
   "cell_type": "markdown",
   "metadata": {},
   "source": [
    "Use $\\mathcal{H}$ as a generic Hilbert space:"
   ]
  },
  {
   "cell_type": "code",
   "execution_count": 4,
   "metadata": {},
   "outputs": [
    {
     "data": {
      "text/html": [
       "<strong id=\"Hspace\">Hspace:</strong> <a class=\"ProveItLink\" href=\"../__pv_it/common/0a298dc12c549b5fdc96454972e9674c7dbf104f0/common_expr.ipynb\"><img src=\"data:image/png;base64,iVBORw0KGgoAAAANSUhEUgAAABEAAAAQBAMAAAACH4lsAAAAMFBMVEX///8AAAAAAAAAAAAAAAAA\n",
       "AAAAAAAAAAAAAAAAAAAAAAAAAAAAAAAAAAAAAAAAAAAv3aB7AAAAD3RSTlMAIpnNqxAyRO+73WZU\n",
       "iXbc4+ClAAAACXBIWXMAAA7EAAAOxAGVKw4bAAAAhElEQVQI12NgYFT+wsDAIBzAwKCU3g9kOTMw\n",
       "cCowWAFZvxkYjjAwdDIw8HwF8hhY/zIwsBiAWOzfGRj4H4BYfB8YGM4LABlsHj9nzuwACfHs9zlz\n",
       "5hOIBZJh+w1mAQ3l/ghm/WNgYPoAVgc0lLmBNQFo3QQGBo5vWUBjOIGY6ZcqAwIAAC4hHGimP4TN\n",
       "AAAAAElFTkSuQmCC\n",
       "\" style=\"display:inline;vertical-align:middle;\" /></a><br>"
      ],
      "text/plain": [
       "<IPython.core.display.HTML object>"
      ]
     },
     "metadata": {},
     "output_type": "display_data"
    }
   ],
   "source": [
    "Hspace = Variable('H', r'\\mathcal{H}')"
   ]
  },
  {
   "cell_type": "code",
   "execution_count": 5,
   "metadata": {},
   "outputs": [
    {
     "name": "stdout",
     "output_type": "stream",
     "text": [
      "These common expressions may now be imported from the theory package: proveit.linear_algebra.inner_products\n"
     ]
    }
   ],
   "source": [
    "%end common"
   ]
  },
  {
   "cell_type": "code",
   "execution_count": null,
   "metadata": {},
   "outputs": [],
   "source": []
  }
 ],
 "metadata": {
  "kernelspec": {
   "display_name": "Python 3",
   "language": "python",
   "name": "python3"
  }
 },
 "nbformat": 4,
 "nbformat_minor": 0
}