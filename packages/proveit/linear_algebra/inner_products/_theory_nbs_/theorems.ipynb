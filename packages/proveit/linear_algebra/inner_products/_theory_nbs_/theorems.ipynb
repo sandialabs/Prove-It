{
 "cells": [
  {
   "cell_type": "markdown",
   "metadata": {},
   "source": [
    "Theorems (or conjectures) for the theory of <a class=\"ProveItLink\" href=\"theory.ipynb\">proveit.linear_algebra.inner_products</a>\n",
    "========"
   ]
  },
  {
   "cell_type": "code",
   "execution_count": null,
   "metadata": {},
   "outputs": [],
   "source": [
    "import proveit\n",
    "# Prepare this notebook for defining the theorems of a theory:\n",
    "%theorems_notebook # Keep this at the top following 'import proveit'.\n",
    "\n",
    "from proveit import n, a, b, x, y, z, K, H, alpha\n",
    "from proveit.logic import Forall, InSet, CartExp, InClass, Equals\n",
    "from proveit.numbers import NaturalPos, Rational, Real, RealNonNeg, Complex\n",
    "from proveit.numbers import Add, Mult, Abs, LessEq\n",
    "from proveit.linear_algebra import (VecSpaces, InnerProdSpaces, VecAdd, ScalarMult, \n",
    "                                    InnerProd, Norm)"
   ]
  },
  {
   "cell_type": "code",
   "execution_count": null,
   "metadata": {},
   "outputs": [],
   "source": [
    "%begin theorems"
   ]
  },
  {
   "cell_type": "code",
   "execution_count": null,
   "metadata": {},
   "outputs": [],
   "source": [
    "inner_prod_space_is_vec_space = Forall(\n",
    "    K, Forall(H, InClass(H, VecSpaces(K)),\n",
    "              domain=InnerProdSpaces(K)))"
   ]
  },
  {
   "cell_type": "markdown",
   "metadata": {},
   "source": [
    "Number field vector sets are inner product spaces:"
   ]
  },
  {
   "cell_type": "code",
   "execution_count": null,
   "metadata": {},
   "outputs": [],
   "source": [
    "rational_vec_set_is_inner_prod_space = Forall(\n",
    "    n, InClass(CartExp(Rational, n), InnerProdSpaces(Rational)),\n",
    "    domain = NaturalPos)"
   ]
  },
  {
   "cell_type": "code",
   "execution_count": null,
   "metadata": {},
   "outputs": [],
   "source": [
    "real_vec_set_is_inner_prod_space = Forall(\n",
    "    n, InClass(CartExp(Real, n), InnerProdSpaces(Real)),\n",
    "    domain = NaturalPos)"
   ]
  },
  {
   "cell_type": "code",
   "execution_count": null,
   "metadata": {},
   "outputs": [],
   "source": [
    "complex_vec_set_is_inner_prod_space = Forall(\n",
    "    n, InClass(CartExp(Complex, n), InnerProdSpaces(Complex)),\n",
    "    domain = NaturalPos)"
   ]
  },
  {
   "cell_type": "markdown",
   "metadata": {},
   "source": [
    "As special cases, number fields are also inner product spaces:"
   ]
  },
  {
   "cell_type": "code",
   "execution_count": null,
   "metadata": {},
   "outputs": [],
   "source": [
    "rational_set_is_inner_prod_space = InClass(Rational, \n",
    "                                           InnerProdSpaces(Rational))"
   ]
  },
  {
   "cell_type": "code",
   "execution_count": null,
   "metadata": {},
   "outputs": [],
   "source": [
    "real_set_is_inner_prod_space = InClass(Real, \n",
    "                                       InnerProdSpaces(Real))"
   ]
  },
  {
   "cell_type": "code",
   "execution_count": null,
   "metadata": {},
   "outputs": [],
   "source": [
    "complex_set_is_inner_prod_space = InClass(Complex, \n",
    "                                          InnerProdSpaces(Complex))"
   ]
  },
  {
   "cell_type": "markdown",
   "metadata": {},
   "source": [
    "### Inner product linearity properties"
   ]
  },
  {
   "cell_type": "code",
   "execution_count": null,
   "metadata": {},
   "outputs": [],
   "source": [
    "inner_prod_linearity = Forall(\n",
    "    K, Forall(\n",
    "        H, Forall(\n",
    "            (a, b), Forall(\n",
    "                (x, y, z),\n",
    "                Equals(InnerProd(VecAdd(ScalarMult(a, x), ScalarMult(b, y)), z),\n",
    "                       VecAdd(ScalarMult(a, InnerProd(x, z)), \n",
    "                              ScalarMult(b, InnerProd(y, z)))),\n",
    "                domain=H),\n",
    "            domain=K),\n",
    "        domain=InnerProdSpaces(K)))"
   ]
  },
  {
   "cell_type": "code",
   "execution_count": null,
   "metadata": {},
   "outputs": [],
   "source": [
    "inner_prod_scalar_mult_left = Forall(\n",
    "    K, Forall(\n",
    "        H, Forall(\n",
    "            a, Forall(\n",
    "                (x, y),\n",
    "                Equals(InnerProd(ScalarMult(a, x), y),\n",
    "                       ScalarMult(a, InnerProd(x, y))),\n",
    "                domain=H),\n",
    "            domain=K),\n",
    "        domain = InnerProdSpaces(K)))"
   ]
  },
  {
   "cell_type": "code",
   "execution_count": null,
   "metadata": {},
   "outputs": [],
   "source": [
    "inner_prod_scalar_mult_right = Forall(\n",
    "    K, Forall(\n",
    "        H, Forall(\n",
    "            a, Forall(\n",
    "                (x, y),\n",
    "                Equals(InnerProd(x, ScalarMult(a, y)),\n",
    "                       ScalarMult(a, InnerProd(x, y))),\n",
    "                domain=H),\n",
    "            domain=K),\n",
    "        domain = InnerProdSpaces(K)))"
   ]
  },
  {
   "cell_type": "code",
   "execution_count": null,
   "metadata": {},
   "outputs": [],
   "source": [
    "inner_prod_vec_add_left = Forall(\n",
    "    K, Forall(\n",
    "        H, Forall(\n",
    "            (x, y, z),\n",
    "            Equals(InnerProd(VecAdd(x, y), z),\n",
    "                   VecAdd(InnerProd(x, z), InnerProd(x, z))),\n",
    "            domain=H),\n",
    "        domain = InnerProdSpaces(K)))"
   ]
  },
  {
   "cell_type": "code",
   "execution_count": null,
   "metadata": {},
   "outputs": [],
   "source": [
    "inner_prod_vec_add_right = Forall(\n",
    "    K, Forall(\n",
    "        H, Forall(\n",
    "            (x, y, z),\n",
    "            Equals(InnerProd(x, VecAdd(y, z)),\n",
    "                   VecAdd(InnerProd(x, y), InnerProd(x, z))),\n",
    "            domain=H),\n",
    "        domain = InnerProdSpaces(K)))"
   ]
  },
  {
   "cell_type": "markdown",
   "metadata": {},
   "source": [
    "### Our specific Norm definition satisfy the properties of an abstract normalization"
   ]
  },
  {
   "cell_type": "code",
   "execution_count": null,
   "metadata": {},
   "outputs": [],
   "source": [
    "norm_is_nonneg = Forall(\n",
    "    K, Forall(H, Forall(x, InSet(Norm(x), RealNonNeg),\n",
    "                        domain=H),\n",
    "              domain=InnerProdSpaces(H)))"
   ]
  },
  {
   "cell_type": "code",
   "execution_count": null,
   "metadata": {},
   "outputs": [],
   "source": [
    "scaled_norm = Forall(\n",
    "    K, Forall(H, Forall((alpha, x), Equals(Norm(ScalarMult(alpha, x)), \n",
    "                                           Mult(Abs(alpha), Norm(x))),\n",
    "                        domains=(K, H)),\n",
    "              domain=InnerProdSpaces(K)))"
   ]
  },
  {
   "cell_type": "code",
   "execution_count": null,
   "metadata": {},
   "outputs": [],
   "source": [
    "norm_triangle_ineq = Forall(\n",
    "    K, Forall(H, Forall((x, y), LessEq(Norm(VecAdd(x, y)),\n",
    "                                       Add(Norm(x), Norm(y))),\n",
    "                        domain=H),\n",
    "              domain=InnerProdSpaces(K)))"
   ]
  },
  {
   "cell_type": "code",
   "execution_count": null,
   "metadata": {},
   "outputs": [],
   "source": [
    "%end theorems"
   ]
  }
 ],
 "metadata": {
  "kernelspec": {
   "display_name": "Python 3",
   "language": "python",
   "name": "python3"
  }
 },
 "nbformat": 4,
 "nbformat_minor": 0
}
