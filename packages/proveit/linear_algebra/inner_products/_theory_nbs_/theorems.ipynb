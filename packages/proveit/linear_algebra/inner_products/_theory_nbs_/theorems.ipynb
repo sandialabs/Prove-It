{
 "cells": [
  {
   "cell_type": "markdown",
   "metadata": {},
   "source": [
    "Theorems (or conjectures) for the theory of <a class=\"ProveItLink\" href=\"theory.ipynb\">proveit.linear_algebra.inner_products</a>\n",
    "========"
   ]
  },
  {
   "cell_type": "code",
   "execution_count": null,
   "metadata": {},
   "outputs": [],
   "source": [
    "import proveit\n",
    "# Prepare this notebook for defining the theorems of a theory:\n",
    "%theorems_notebook # Keep this at the top following 'import proveit'.\n",
    "\n",
    "from proveit import ExprRange, Composition\n",
    "from proveit import n, a, b, i, m, n, v, w, x, y, z, A, B, K, H, M, P, U, X, alpha\n",
    "from proveit.core_expr_types import (a_i, a_1_to_m, a_1_to_n, b_i, b_1_to_n, x_i, x_1_to_n,\n",
    "                                     lambda_i)\n",
    "from proveit.logic import (\n",
    "    And, Forall, Exists, Iff, InSet, Set, SubsetEq, CartExp, InClass, Equals, NotEquals)\n",
    "from proveit.numbers import zero, one, NaturalPos, Rational, Real, RealNonNeg, Complex, Conjugate\n",
    "from proveit.numbers import Interval, Add, Mult, Abs, LessEq, greater, Min, sqrd, sqrt\n",
    "from proveit.linear_algebra import (\n",
    "    VecSpaces, InnerProdSpaces, HilbertSpaces, Hspace, VecAdd, VecZero, VecSum, LinMap, Identity, Commutator,\n",
    "    ScalarMult, InnerProd, Norm, Adj, OrthoProj, Span, OrthoNormBases, Dim, TensorProd)"
   ]
  },
  {
   "cell_type": "code",
   "execution_count": null,
   "metadata": {},
   "outputs": [],
   "source": [
    "%begin theorems"
   ]
  },
  {
   "cell_type": "code",
   "execution_count": null,
   "metadata": {},
   "outputs": [],
   "source": [
    "inner_prod_space_is_vec_space = Forall(\n",
    "    K, Forall(H, InClass(H, VecSpaces(K)),\n",
    "              domain=InnerProdSpaces(K)))"
   ]
  },
  {
   "cell_type": "markdown",
   "metadata": {},
   "source": [
    "Number field vector sets are inner product spaces:"
   ]
  },
  {
   "cell_type": "code",
   "execution_count": null,
   "metadata": {},
   "outputs": [],
   "source": [
    "rational_vec_set_is_inner_prod_space = Forall(\n",
    "    n, InClass(CartExp(Rational, n), InnerProdSpaces(Rational)),\n",
    "    domain = NaturalPos)"
   ]
  },
  {
   "cell_type": "code",
   "execution_count": null,
   "metadata": {},
   "outputs": [],
   "source": [
    "real_vec_set_is_inner_prod_space = Forall(\n",
    "    n, InClass(CartExp(Real, n), InnerProdSpaces(Real)),\n",
    "    domain = NaturalPos)"
   ]
  },
  {
   "cell_type": "code",
   "execution_count": null,
   "metadata": {},
   "outputs": [],
   "source": [
    "complex_vec_set_is_inner_prod_space = Forall(\n",
    "    n, InClass(CartExp(Complex, n), InnerProdSpaces(Complex)),\n",
    "    domain = NaturalPos)"
   ]
  },
  {
   "cell_type": "markdown",
   "metadata": {},
   "source": [
    "As special cases, number fields are also inner product spaces:"
   ]
  },
  {
   "cell_type": "code",
   "execution_count": null,
   "metadata": {},
   "outputs": [],
   "source": [
    "rational_set_is_inner_prod_space = InClass(Rational, \n",
    "                                           InnerProdSpaces(Rational))"
   ]
  },
  {
   "cell_type": "code",
   "execution_count": null,
   "metadata": {},
   "outputs": [],
   "source": [
    "real_set_is_inner_prod_space = InClass(Real, \n",
    "                                       InnerProdSpaces(Real))"
   ]
  },
  {
   "cell_type": "code",
   "execution_count": null,
   "metadata": {},
   "outputs": [],
   "source": [
    "complex_set_is_inner_prod_space = InClass(Complex, \n",
    "                                          InnerProdSpaces(Complex))"
   ]
  },
  {
   "cell_type": "markdown",
   "metadata": {},
   "source": [
    "### Inner product linearity properties"
   ]
  },
  {
   "cell_type": "code",
   "execution_count": null,
   "metadata": {},
   "outputs": [],
   "source": [
    "inner_prod_linearity = Forall(\n",
    "    K, Forall(\n",
    "        H, Forall(\n",
    "            (a, b), Forall(\n",
    "                (x, y, z),\n",
    "                Equals(InnerProd(VecAdd(ScalarMult(a, x), ScalarMult(b, y)), z),\n",
    "                       VecAdd(ScalarMult(a, InnerProd(x, z)), \n",
    "                              ScalarMult(b, InnerProd(y, z)))),\n",
    "                domain=H),\n",
    "            domain=K),\n",
    "        domain=InnerProdSpaces(K)))"
   ]
  },
  {
   "cell_type": "code",
   "execution_count": null,
   "metadata": {},
   "outputs": [],
   "source": [
    "inner_prod_conj_sym = Forall(    \n",
    "    K, Forall(\n",
    "        H, Forall(\n",
    "            (x, y), Equals(InnerProd(x, y), Conjugate(InnerProd(y, x))),\n",
    "            domain=H),\n",
    "        domain=InnerProdSpaces(K)))"
   ]
  },
  {
   "cell_type": "code",
   "execution_count": null,
   "metadata": {},
   "outputs": [],
   "source": [
    "inner_prod_pos_def = Forall(\n",
    "    K, Forall(\n",
    "        H, Forall(\n",
    "            x, greater(InnerProd(x, x), zero),\n",
    "            domain=H, condition=NotEquals(x, VecZero(H))),\n",
    "        domain=InnerProdSpaces(K)))"
   ]
  },
  {
   "cell_type": "code",
   "execution_count": null,
   "metadata": {},
   "outputs": [],
   "source": [
    "inner_prod_scalar_mult_left = Forall(\n",
    "    K, Forall(\n",
    "        H, Forall(\n",
    "            a, Forall(\n",
    "                (x, y),\n",
    "                Equals(InnerProd(ScalarMult(a, x), y),\n",
    "                       ScalarMult(a, InnerProd(x, y))),\n",
    "                domain=H),\n",
    "            domain=K),\n",
    "        domain = InnerProdSpaces(K)))"
   ]
  },
  {
   "cell_type": "code",
   "execution_count": null,
   "metadata": {},
   "outputs": [],
   "source": [
    "inner_prod_scalar_mult_right = Forall(\n",
    "    K, Forall(\n",
    "        H, Forall(\n",
    "            a, Forall(\n",
    "                (x, y),\n",
    "                Equals(InnerProd(x, ScalarMult(a, y)),\n",
    "                       ScalarMult(a, InnerProd(x, y))),\n",
    "                domain=H),\n",
    "            domain=K),\n",
    "        domain = InnerProdSpaces(K)))"
   ]
  },
  {
   "cell_type": "code",
   "execution_count": null,
   "metadata": {},
   "outputs": [],
   "source": [
    "inner_prod_vec_add_left = Forall(\n",
    "    K, Forall(\n",
    "        H, Forall(\n",
    "            (x, y, z),\n",
    "            Equals(InnerProd(VecAdd(x, y), z),\n",
    "                   VecAdd(InnerProd(x, z), InnerProd(x, z))),\n",
    "            domain=H),\n",
    "        domain = InnerProdSpaces(K)))"
   ]
  },
  {
   "cell_type": "code",
   "execution_count": null,
   "metadata": {},
   "outputs": [],
   "source": [
    "inner_prod_vec_add_right = Forall(\n",
    "    K, Forall(\n",
    "        H, Forall(\n",
    "            (x, y, z),\n",
    "            Equals(InnerProd(x, VecAdd(y, z)),\n",
    "                   VecAdd(InnerProd(x, y), InnerProd(x, z))),\n",
    "            domain=H),\n",
    "        domain = InnerProdSpaces(K)))"
   ]
  },
  {
   "cell_type": "markdown",
   "metadata": {},
   "source": [
    "### Our specific Norm definition satisfy the properties of an abstract normalization"
   ]
  },
  {
   "cell_type": "code",
   "execution_count": null,
   "metadata": {},
   "outputs": [],
   "source": [
    "norm_is_nonneg = Forall(\n",
    "    K, Forall(H, Forall(x, InSet(Norm(x), RealNonNeg),\n",
    "                        domain=H),\n",
    "              domain=InnerProdSpaces(H)))"
   ]
  },
  {
   "cell_type": "code",
   "execution_count": null,
   "metadata": {},
   "outputs": [],
   "source": [
    "scaled_norm = Forall(\n",
    "    K, Forall(H, Forall((alpha, x), Equals(Norm(ScalarMult(alpha, x)), \n",
    "                                           Mult(Abs(alpha), Norm(x))),\n",
    "                        domains=(K, H)),\n",
    "              domain=InnerProdSpaces(K)))"
   ]
  },
  {
   "cell_type": "code",
   "execution_count": null,
   "metadata": {},
   "outputs": [],
   "source": [
    "norm_triangle_ineq = Forall(\n",
    "    K, Forall(H, Forall((x, y), LessEq(Norm(VecAdd(x, y)),\n",
    "                                       Add(Norm(x), Norm(y))),\n",
    "                        domain=H),\n",
    "              domain=InnerProdSpaces(K)))"
   ]
  },
  {
   "cell_type": "markdown",
   "metadata": {},
   "source": [
    "### Cauchy-Schwartz inequality"
   ]
  },
  {
   "cell_type": "code",
   "execution_count": null,
   "metadata": {},
   "outputs": [],
   "source": [
    "cauchy_schwartz_inequality = Forall(\n",
    "    H, Forall(\n",
    "        (v, w),\n",
    "        LessEq(sqrd(Norm(InnerProd(v, w))), Mult(InnerProd(v, v), InnerProd(w, w))),\n",
    "        domain=H),\n",
    "    domain=InnerProdSpaces(Complex))"
   ]
  },
  {
   "cell_type": "code",
   "execution_count": null,
   "metadata": {},
   "outputs": [],
   "source": [
    "print(cauchy_schwartz_inequality.latex())"
   ]
  },
  {
   "cell_type": "code",
   "execution_count": null,
   "metadata": {},
   "outputs": [],
   "source": [
    "cauchy_schwartz_equality = Forall(\n",
    "    H, Forall(\n",
    "        (v, w),\n",
    "        Iff(Equals(sqrd(Norm(InnerProd(v, w))), Mult(InnerProd(v, v), InnerProd(w, w))),\n",
    "            InSet(v, Span(Set(w)))),\n",
    "        domain=H),\n",
    "    domain=InnerProdSpaces(Complex))"
   ]
  },
  {
   "cell_type": "code",
   "execution_count": null,
   "metadata": {},
   "outputs": [],
   "source": [
    "print(cauchy_schwartz_equality.latex())"
   ]
  },
  {
   "cell_type": "markdown",
   "metadata": {},
   "source": [
    "## Gram-Schmidt"
   ]
  },
  {
   "cell_type": "markdown",
   "metadata": {},
   "source": [
    "To-Do: add the Gram-Schmidt construction of an orthonormal basis"
   ]
  },
  {
   "cell_type": "code",
   "execution_count": null,
   "metadata": {},
   "outputs": [],
   "source": [
    "# A direct consequence of Gram-Schmidt:\n",
    "ortho_norm_basis_existence = Forall(\n",
    "    K, Forall(\n",
    "        n, Forall(\n",
    "            H, Exists(\n",
    "                x_1_to_n,\n",
    "                InSet(Set(x_1_to_n), OrthoNormBases(H))),\n",
    "            domain=InnerProdSpaces(K),\n",
    "            condition=Equals(Dim(H), n)).with_wrapping(),\n",
    "        domain=NaturalPos))"
   ]
  },
  {
   "cell_type": "code",
   "execution_count": null,
   "metadata": {},
   "outputs": [],
   "source": [
    "# A direct consequence of Gram-Schmidt:\n",
    "ortho_norm_basis_existence_with_any_vector = Forall(\n",
    "    K, Forall(\n",
    "        n, Forall(\n",
    "            H, Forall(\n",
    "                v, Exists(\n",
    "                    x_1_to_n, \n",
    "                    And(InSet(v, Set(x_1_to_n)),\n",
    "                        InSet(Set(x_1_to_n), OrthoNormBases(H)))\n",
    "                    .with_wrap_after_operator()),\n",
    "                domain=H),\n",
    "            domain=InnerProdSpaces(K),\n",
    "            condition=Equals(Dim(H), n)).with_wrapping(),\n",
    "        domain=NaturalPos))"
   ]
  },
  {
   "cell_type": "markdown",
   "metadata": {},
   "source": [
    "### Properties of orthogonal projectors"
   ]
  },
  {
   "cell_type": "code",
   "execution_count": null,
   "metadata": {},
   "outputs": [],
   "source": [
    "ortho_projectors_are_idempotent = Forall(\n",
    "    Hspace, Forall(X, Forall(P, Equals(sqrd(P), P),\n",
    "                             condition=Equals(P, OrthoProj(Hspace, X))),\n",
    "                   condition=SubsetEq(X, Hspace)),\n",
    "    domain=HilbertSpaces)"
   ]
  },
  {
   "cell_type": "code",
   "execution_count": null,
   "metadata": {},
   "outputs": [],
   "source": [
    "ortho_projectors_are_hermitian = Forall(\n",
    "    Hspace, Forall(X, Forall(P, Equals(Adj(P), P),\n",
    "                             condition=Equals(P, OrthoProj(Hspace, X))),\n",
    "                   condition=SubsetEq(X, Hspace)),\n",
    "    domain=HilbertSpaces)"
   ]
  },
  {
   "cell_type": "markdown",
   "metadata": {},
   "source": [
    "### Normal operators and spectral decomposition"
   ]
  },
  {
   "cell_type": "code",
   "execution_count": null,
   "metadata": {},
   "outputs": [],
   "source": [
    "spectral_decomposition_as_ortho_ortho_projectors = Forall(\n",
    "    n, Forall(\n",
    "        Hspace, Forall(\n",
    "            M, \n",
    "            Iff(Equals(Composition(Adj(M), M), \n",
    "                       Composition(M, Adj(M))),\n",
    "                Exists(\n",
    "                    x_1_to_n, Exists(\n",
    "                        a_1_to_n,\n",
    "                        Equals(M, VecSum(i, ScalarMult(a_i, OrthoProj(Hspace, Span(Set(x_i)))),\n",
    "                                         domain=Interval(one, n))),\n",
    "                        domain=Complex).with_wrapping(),\n",
    "                    condition=InSet(Set(x_1_to_n), OrthoNormBases(Hspace))).with_wrapping())\n",
    "            .with_wrap_after_operator(),\n",
    "            domain=LinMap(Hspace, Hspace)),\n",
    "        domain=HilbertSpaces,\n",
    "        condition=Equals(Dim(Hspace), n)).with_wrapping(),\n",
    "    domain=NaturalPos)"
   ]
  },
  {
   "cell_type": "markdown",
   "metadata": {},
   "source": [
    "#### Simultaneous diagonalization"
   ]
  },
  {
   "cell_type": "code",
   "execution_count": null,
   "metadata": {},
   "outputs": [],
   "source": [
    "simultaneous_diagonalization_as_ortho_projectors = Forall(\n",
    "    n, Forall(\n",
    "        Hspace, Forall(\n",
    "            (A, B), \n",
    "            Iff(Equals(Commutator(A, B), VecZero(LinMap(Hspace, Hspace))),\n",
    "                Exists(\n",
    "                    x_1_to_n, Exists(\n",
    "                        (a_1_to_n, b_1_to_n),\n",
    "                        And(Equals(A, VecSum(i, ScalarMult(a_i, OrthoProj(Hspace, Span(Set(x_i)))),\n",
    "                                             domain=Interval(one, n))),\n",
    "                            Equals(B, VecSum(i, ScalarMult(b_i, OrthoProj(Hspace, Span(Set(x_i)))),\n",
    "                                             domain=Interval(one, n)))).with_wrap_after_operator(),\n",
    "                        domain=Complex).with_wrapping(),\n",
    "                    condition=InSet(Set(x_1_to_n), OrthoNormBases(Hspace))).with_wrapping())\n",
    "            .with_wrap_after_operator(),\n",
    "            domain=LinMap(Hspace, Hspace),\n",
    "            conditions=[Equals(Adj(A), A), Equals(Adj(B), B)]\n",
    "        ).with_wrapping(),\n",
    "        domain=HilbertSpaces,\n",
    "        condition=Equals(Dim(Hspace), n)).with_wrapping(),\n",
    "    domain=NaturalPos)"
   ]
  },
  {
   "cell_type": "markdown",
   "metadata": {},
   "source": [
    "## The polar decomposition"
   ]
  },
  {
   "cell_type": "code",
   "execution_count": null,
   "metadata": {},
   "outputs": [],
   "source": [
    "left_polar_decomposition = Forall(\n",
    "    Hspace, Forall(\n",
    "        A, \n",
    "        Exists(\n",
    "            U,\n",
    "            Equals(A, Composition(U, sqrt(Composition(Adj(A), A)))),\n",
    "            domain=LinMap(Hspace, Hspace),\n",
    "            condition=Equals(Composition(Adj(U), U), Identity(Hspace)))\n",
    "        .with_wrapping(),\n",
    "        domain=LinMap(Hspace, Hspace)\n",
    "    ),\n",
    "    domain=HilbertSpaces)"
   ]
  },
  {
   "cell_type": "code",
   "execution_count": null,
   "metadata": {},
   "outputs": [],
   "source": [
    "right_polar_decomposition = Forall(\n",
    "    Hspace, Forall(\n",
    "        A, \n",
    "        Exists(\n",
    "            U,\n",
    "            Equals(A, Composition(sqrt(Composition(A, Adj(A))), U)),\n",
    "            domain=LinMap(Hspace, Hspace),\n",
    "            condition=Equals(Composition(Adj(U), U), Identity(Hspace)))\n",
    "        .with_wrapping(),\n",
    "        domain=LinMap(Hspace, Hspace)\n",
    "    ),\n",
    "    domain=HilbertSpaces)"
   ]
  },
  {
   "cell_type": "code",
   "execution_count": null,
   "metadata": {},
   "outputs": [],
   "source": [
    "schmidt_decomposition = Forall(\n",
    "    (m, n), Forall(\n",
    "        (A, B), Forall(\n",
    "            v, \n",
    "            Exists(\n",
    "                a_1_to_m, Exists(\n",
    "                    b_1_to_n, Exists(\n",
    "                        ExprRange(i, lambda_i, one, Min(m, n)),\n",
    "                        Equals(v, VecSum(i, ScalarMult(lambda_i, TensorProd(a_i, b_i)), \n",
    "                                         domain=Interval(one, Min(m, n)))),\n",
    "                        domain=RealNonNeg).with_wrapping(),\n",
    "                    condition=InSet(Set(b_1_to_n), OrthoNormBases(B))).with_wrapping(),\n",
    "                condition=InSet(Set(a_1_to_m), OrthoNormBases(A))).with_wrapping(),\n",
    "            domain=TensorProd(A, B)\n",
    "        ),\n",
    "        domain=HilbertSpaces,\n",
    "        conditions=[Equals(Dim(A), m), Equals(Dim(B), n)]).with_wrapping(),\n",
    "    domain=NaturalPos)"
   ]
  },
  {
   "cell_type": "code",
   "execution_count": null,
   "metadata": {},
   "outputs": [],
   "source": [
    "%end theorems"
   ]
  }
 ],
 "metadata": {
  "kernelspec": {
   "display_name": "Python 3",
   "language": "python",
   "name": "python3"
  }
 },
 "nbformat": 4,
 "nbformat_minor": 0
}
