{
 "cells": [
  {
   "cell_type": "markdown",
   "metadata": {},
   "source": [
    "Theorems (or conjectures) for the theory of <a class=\"ProveItLink\" href=\"theory.ipynb\">proveit.linear_algebra.inner_products</a>\n",
    "========"
   ]
  },
  {
   "cell_type": "code",
   "execution_count": 1,
   "metadata": {},
   "outputs": [],
   "source": [
    "import proveit\n",
    "# Prepare this notebook for defining the theorems of a theory:\n",
    "%theorems_notebook # Keep this at the top following 'import proveit'.\n",
    "\n",
    "from proveit import ExprRange, Composition\n",
    "from proveit import n, a, b, i, m, n, v, w, x, y, z, A, B, K, H, M, P, U, X, alpha\n",
    "from proveit.core_expr_types import (a_i, a_1_to_m, a_1_to_n, b_i, b_1_to_n, x_i, x_1_to_n,\n",
    "                                     lambda_i)\n",
    "from proveit.logic import (\n",
    "    And, Forall, Exists, Iff, InSet, Set, SubsetEq, CartExp, InClass, Equals, NotEquals)\n",
    "from proveit.numbers import zero, one, NaturalPos, Rational, Real, RealNonNeg, Complex, Conjugate\n",
    "from proveit.numbers import Interval, Add, Mult, Abs, LessEq, greater, Min, sqrd, sqrt\n",
    "from proveit.linear_algebra import (\n",
    "    VecSpaces, InnerProdSpaces, HilbertSpaces, Hspace, VecAdd, VecZero, VecSum, LinMap, Identity, Commutator,\n",
    "    ScalarMult, InnerProd, Norm, Adj, OrthoProj, Span, OrthoNormBases, Dim, TensorProd)"
   ]
  },
  {
   "cell_type": "code",
   "execution_count": 2,
   "metadata": {},
   "outputs": [
    {
     "name": "stdout",
     "output_type": "stream",
     "text": [
      "Defining theorems for theory 'proveit.linear_algebra.inner_products'\n",
      "Subsequent end-of-cell assignments will define theorems\n",
      "'%end theorems' will finalize the definitions\n"
     ]
    }
   ],
   "source": [
    "%begin theorems"
   ]
  },
  {
   "cell_type": "code",
   "execution_count": 3,
   "metadata": {},
   "outputs": [
    {
     "data": {
      "text/html": [
       "<strong id=\"inner_prod_space_is_vec_space\"><a class=\"ProveItLink\" href=\"proofs/inner_prod_space_is_vec_space/thm_proof.ipynb\">inner_prod_space_is_vec_space</a> (conjecture without proof):<br></strong> <a class=\"ProveItLink\" href=\"../__pv_it/theorems/1e254182a020e73f435c2699cfdf143759bed4530/theorem_expr.ipynb\"><img src=\"data:image/png;base64,iVBORw0KGgoAAAANSUhEUgAAAcYAAAAzBAMAAAD/ZLUEAAAAMFBMVEX///8AAAAAAAAAAAAAAAAA\n",
       "AAAAAAAAAAAAAAAAAAAAAAAAAAAAAAAAAAAAAAAAAAAv3aB7AAAAD3RSTlMAq1RmmUTNIjK7EInv\n",
       "3XZ/CtNrAAAACXBIWXMAAA7EAAAOxAGVKw4bAAAHpElEQVRo3u2ae2xTVRzHf+vrPvoYqFExkV2j\n",
       "gUQJFIcGhIyOgRJnoPxjQkZceYiCBC+RII+RVf4yYaybhhBIYBcDxo3oKqCLG48JIsqGPIKGgNPO\n",
       "IQQK63gMGMXV3znnrr3tukmTXlOWnaW9veee+7vnc87vfH+/czOAZEWsqVFgYJSamprkF+yRiGuA\n",
       "MFZFuvpgdMPAKRMGGQcZBxkHGWNlil6GP1cyhdE0RC/L/LlMYXxZP9NjM4SRP6afbUHKDEaLXz/b\n",
       "4rHMYByjZ16cnxmM5/U0XipnAiN/T0/rgj8TGLMq0mhMTvxpbMwExmxn+mw5pNjvt+g3d4Mx0hD8\n",
       "bG/GLHI0OHVm9NEBb41UwtgTlXHyMyFyCmDt/S3Rih1Tp5j6tfWCaglyfvY6WMfPMMZp5PBOb0YT\n",
       "mUqLrDPjZHa4jZ/jCZdmkm7+GgsEZ8HwW7+RwkO+/8HPMzhYi2ndq4zxIzKnFb0ZeTLBq/T21ceZ\n",
       "8oSxD7cSRZH0OfY2wur6j5zI5FQtGYnPjqN1IcZoQWirlGQ9kpHYrTfj96z/ndizG2rV5ZYWOiPC\n",
       "Hax0xyULQn+mbHRNdoJYR8+o44/xUkYj4luSaU4uHj16M4ZZ/zuw/2oUefOKesmAE5uliQNHEbk/\n",
       "UyNUS+uZSbogfRLT1eMtLU3JGG0tLb/79Wa8ydQV14rtJJPCxdFrzQDlAMuDLhALGyRD5BsyAk3j\n",
       "8rH3ecF6FKGG3cDN2At8WzuZi0JqyWNk7m2lWlrrZIzTAbYkYzR5QVB0RmTiDsWnhg7NYX3TqNxB\n",
       "CV4H/ihchBLJ/BOEIrexV81u8QwYjqKacIdgjrdMdniqAcj4zKeW/CE2VkbqgtkBxrgMOGQ250wB\n",
       "yw9aRqxdllagkdFAFktzGONBXDYhpgmWONEZAnYXZEsLCZU49gTO+lxcZG48K5YtHhglY3C4MUcB\n",
       "gnKaWgqamEkDDf/ZfsYoKFaysq8CFClxOcAWIN4x65a0vItFG27f+cRYsqu5IV8bQ69K0B5cnxSR\n",
       "6AcagyWumFqaO+nhffxUsYeXtWBhMm+5g7f4nGCpD6sjcgJgATog3r7zoFyL/eeR+j171yVy9Qi1\n",
       "5ORus7YdlNHFGA0BOnaV4HDH5zmjqeQ4GoFHhYPyYRtB6L1nH0ofG1M/CV08PynjdmbMjCupKGEe\n",
       "u9QQiaU6doMhjJIzpiA39+NuYHpT7CYPw9W745Exsi9AdCk3d7y4n77wPqJaqvLS0WvUMoInj65+\n",
       "rj4hl7MYiQsglxXbm6az30kYQ3HbUlucGmrKNGbgb2JZiWM0d7PARp+suaO5nCmjSEIniRvZXjaP\n",
       "hiOYIJHppPevBuNd1VeJpWLaScNJ7XqE3UTK+DuTAgmM1hEKyygtaK2NEgwRt65rheqzoxE8L7Bi\n",
       "3lTCuI9b+JwL2oIKONouSpangOO25u1VuD1IFWyVsSH8NdFJdSHbuYbYjMZjjuqq9S4NbGytanox\n",
       "8xzKLfbYvRD7TLpUytajF6eneOUK9DIJ46t5NMCj2HqbaslOg5CxIpoOE8YSAu4Ir2lMYORogPYV\n",
       "NqDAiRWMEUoli4RqOA//CsyH1iDjZ2dhzki/4BZPonzbJO7PM7iKUO6y/DbZ6jL5SUM/F+CI4/s+\n",
       "+IUOcs+CFLvp00h47FCr5mlEBzvGHwGrXOKEOvs8EFE6l8jieeKCoXUfHsYrZW6oG6XAJmz9tWrJ\n",
       "QT3CRMNeqRofIYs4sFABTYn7jieBaREmzmZnD6MiBLh7sA3X9Gyy+Xu6HZ3Pp4APBxLrLRLwrd1Q\n",
       "BtDJyYKzVua+IA1vPQ9mMkqhun3UOaO5I1Hy7VXXA6aqLnUCt2+MKp+F9GL5jDoQp7bLWebCoXg+\n",
       "N68V88zho3f9ATtmXAJualAuag+ShhuYJdgX2RQl8Lm1eyuc1ZCSbG9VSTGNizZv/oQyQlaA64Dh\n",
       "xsO5L/E488OoGAJMAnjM3IGMIlomFYcheC1QjHdiQ5gdcRuIt2wGGxlfPsq4qPe6Ldra0k96taDP\n",
       "K3av9mxt7E3KBM0mx+ZPxniTYvL+nnlUGYk28ydVxg2EC5bSecwiukHm0e4UrpQqVMR5xeihXDfB\n",
       "cU/rq/BGqkG2b0ajS3tWQL/3a/fIjqp6GBVOwkjixk1QUyHKKBDGbfApfKWdR1ylx3Dpl0jZbkwd\n",
       "fIqjolaxtwt+MYANkamCaA4x1hQnLJNTzaRO9X1pkzaBquhxwgd4D3A5LD9zHb1glZfkAE2rc1yT\n",
       "3t5+y/ij23ogsCws72rGiMPlYKp/4IIM1rZr75qKGvzge/ECOArGL4WGdsCGhhkTZdKFy2HFcILs\n",
       "H6KpRK2UGuKs+0/0ea1aG8PkWDr8wO86xO82b3zwrpQlqStK1hvBlcbkVxN2LrE06o6O73N8yfaw\n",
       "sTzwtdgiatQz5bd69GPkcpJtyuq1mWuPe3TqyWiT/u/3cmKvH1i+1ZPxama8J7d5E2vKJ6bN+KEU\n",
       "GdP46Liolhjv+SFC2l64elJjTOOj48v8xPf33rSZLpFTY0zjo+PLlwnbbrsipmv9n4bUGNP36EQN\n",
       "Xhx/bt6TmybLgjNFxvQ9OrGs1EvOdkKKjA9xGWQcZHzYGV8ZQP+je7kPxgH1P7r/AtqmOrlolisT\n",
       "AAAAAElFTkSuQmCC\n",
       "\" style=\"display:inline;vertical-align:middle;\" /></a><br>"
      ],
      "text/plain": [
       "<IPython.core.display.HTML object>"
      ]
     },
     "metadata": {},
     "output_type": "display_data"
    }
   ],
   "source": [
    "inner_prod_space_is_vec_space = Forall(\n",
    "    K, Forall(H, InClass(H, VecSpaces(K)),\n",
    "              domain=InnerProdSpaces(K)))"
   ]
  },
  {
   "cell_type": "markdown",
   "metadata": {},
   "source": [
    "Number field vector sets are inner product spaces:"
   ]
  },
  {
   "cell_type": "code",
   "execution_count": 4,
   "metadata": {},
   "outputs": [
    {
     "data": {
      "text/html": [
       "<strong id=\"rational_vec_set_is_inner_prod_space\"><a class=\"ProveItLink\" href=\"proofs/rational_vec_set_is_inner_prod_space/thm_proof.ipynb\">rational_vec_set_is_inner_prod_space</a> (conjecture without proof):<br></strong> <a class=\"ProveItLink\" href=\"../__pv_it/theorems/9a6eba4b137d2321879d32cc69f32e0344dd36b00/theorem_expr.ipynb\"><img src=\"data:image/png;base64,iVBORw0KGgoAAAANSUhEUgAAAUoAAAAmBAMAAABQRs+jAAAAMFBMVEX///8AAAAAAAAAAAAAAAAA\n",
       "AAAAAAAAAAAAAAAAAAAAAAAAAAAAAAAAAAAAAAAAAAAv3aB7AAAAD3RSTlMAq1RmmUTNIjK7EInv\n",
       "3XZ/CtNrAAAACXBIWXMAAA7EAAAOxAGVKw4bAAAF4ElEQVRYw8VYf2xTVRT++uO1r69dV0ESiYQV\n",
       "DLKEIQ0TgoGMEkogkuCbEBIzIsUfEGAJD7OYqNMVEuMfzrVBhhkqFjEahEFxIJpFYeLcxGjAIJho\n",
       "s4K6BEgafgw3nBHPvbdd+5q2PA2s74/bm/vOvfd73z3nO+cWMPRYvSjRo2wwbrsAJXveiBq1tARL\n",
       "h9LiMWrZHC0dSmwzarixhCCx3yBF5r9KidJq8MjLYqVEaR80ZhcupVsCbxszG5/Vf3hO0n+XUWkj\n",
       "LIqfecamXefy+nnbdg3KrBPoubsg3ZRB9rW1LQakBB9o8oK75gNFp8ncMc734uX7YT8QRE4s1dZ3\n",
       "5WV3c9/Ve9p8egC/qlACAW/R05hGdhNC9tMUDL+JsPBjEftdV1xXr1DjnOuDtCgCU0I6nuu2kQLu\n",
       "7IH9G/1Qk4r2EKYXSxIKvezoAFY8Adh4QFiD2MLOP1IUpYkt+rqNmkgNXCGrP5SzdQGpYOPz9fJQ\n",
       "ruLwbVKZ1Qc5RgYOSwIWTrr7CofrLF5LuBiKnbup+cyGJpRtTaG8GI8Hb4cyfCoXJcsQxVhxEcCP\n",
       "aaYzRIuf5HI9BAt5jq24O5cTH0qkhXqTraFauDvE8MpLBrhcHcxF+Q6FsK/Ibg8Ce2UKG7N3CfA0\n",
       "j4trwPfx+He3QUmLyrHl1FtuybBu35BBI9cvTk6EaGFfdhgrf5i2jqM85uXdD5LM/zuTYRUzhlWK\n",
       "3vqOwFg6+mRnFMrSTi8aLvvRUtNPRkvJuyTaUfLNBA5xTyWNIcQ780DL8idSAhIFmoMWc4YFm5bF\n",
       "WdkYhLVU26y5g/h66nU2fuAEWFc+B0cC+704psJ969azdK7daPejSqPIaPRKvXIP+pUIysDpe5KR\n",
       "ISdIeWbzDf4hwYA934lliUWY5thjTK2Wu9UMyuyTdRxnjIv2DHANcUTR9EvnBXpNXUqx8hB28BjH\n",
       "ngm3fLB5YL5BKKVBrIW5h8SmfMpJuMn8R+AlM+fyD6CKbzBMrhp1qtlZ88wRzPPoUK5m71N+mcmV\n",
       "zXF6ImmUEZQnRCtfZzXUGjYugmSN+M5hhSg5yLdqpqD1Qxmgw6wbVIYZEYQ71reLHU83QRJ++SiN\n",
       "8xXI0JzIsNIyvhWTnFGGJYdL7NwsYnzk2avjMoPSPFBdPQfPZFBSdwaBuykLlIymGwwlbkJZMHmQ\n",
       "DWPGwurq0L6+gRTKj9IxviqNEsGaEalawvJQwu/E4cCZgKpDWcf1cmZWoVQAJYtIUZGmUG4UKwyk\n",
       "uGSDQykuq1R5kFEqnCqK+SF+4pLQSxqbnvZLfELBalnY8nsqIVVOecWp98smFjJWlnvGZQmdO5Ef\n",
       "JbpomxyULj/jbz33y58IzxXul0NEkjT42lo6TybJjydgop120ZSFJHa1lHvwyEgd0UgWe1b5XJrC\n",
       "V610vl+nR3mQ4zlEefze7Ph6KitD2jg+0TarOMpCCGGhldSVe8nt0KiiwoezXnxIXtiD9hihdA9N\n",
       "bfThqNwN53Mn4dCE+DhZHvcLWaKPYqdjIppf7Ed5VOIyUwn/RT1KF+/bH1s7oEuNu1tFKNX2dS2p\n",
       "6Nr6XpfMW9gDl7Xav8dg86arTM5YFw2d4yhUlibDp+FZcYj6trFJardcuPRFQgkkNTQsOyp9mTzC\n",
       "7oxszYY/NzHvY8TTN95IbzmRHNWyvq1tG6HcZ9PrpU2cnClUoxerunfj//tuaStYFpVxKu6zsAO0\n",
       "n9JfaHoRkOWY4FJ6KCf/p4qgie4xr96pIrIwSlFhmBLnK1VWebDzT9cC5M8/V4ocNItKyZx5qW8x\n",
       "j69/806hLCt85XqLt5N2fOvDC7zrSNtKHlymQSJbPqvBlFPxXbvj9bhU0aUVerc3F3C5vjihS0Nr\n",
       "vnnbR/fOOCJxbvElqzVD8+ahpM+nxswOqiVF+ZUxM2ewlCDdxw0a9uYdbZk7KihdRv87nZ33Auxx\n",
       "jArKfsManO+i4giNTsgb/pNCOZdPmKPKaKBs9xo2fT7P/1lSR/VooPwP6c4eKlWEK0wF/wUm/Kq0\n",
       "47dqDgAAAABJRU5ErkJggg==\n",
       "\" style=\"display:inline;vertical-align:middle;\" /></a><br>"
      ],
      "text/plain": [
       "<IPython.core.display.HTML object>"
      ]
     },
     "metadata": {},
     "output_type": "display_data"
    }
   ],
   "source": [
    "rational_vec_set_is_inner_prod_space = Forall(\n",
    "    n, InClass(CartExp(Rational, n), InnerProdSpaces(Rational)),\n",
    "    domain = NaturalPos)"
   ]
  },
  {
   "cell_type": "code",
   "execution_count": 5,
   "metadata": {},
   "outputs": [
    {
     "data": {
      "text/html": [
       "<strong id=\"real_vec_set_is_inner_prod_space\"><a class=\"ProveItLink\" href=\"proofs/real_vec_set_is_inner_prod_space/thm_proof.ipynb\">real_vec_set_is_inner_prod_space</a> (conjecture without proof):<br></strong> <a class=\"ProveItLink\" href=\"../__pv_it/theorems/9e3e705ac8cee61a30cb0c5faca9fa93c75c50370/theorem_expr.ipynb\"><img src=\"data:image/png;base64,iVBORw0KGgoAAAANSUhEUgAAAUYAAAAmBAMAAABKei8tAAAAMFBMVEX///8AAAAAAAAAAAAAAAAA\n",
       "AAAAAAAAAAAAAAAAAAAAAAAAAAAAAAAAAAAAAAAAAAAv3aB7AAAAD3RSTlMAq1RmmUTNIjK7EInv\n",
       "3XZ/CtNrAAAACXBIWXMAAA7EAAAOxAGVKw4bAAAFlUlEQVRYw8WYbUxbVRjH/7zc9t7bFuqIJhoz\n",
       "qmYbyaY0qS6+LKNKzUgwSzFmX1hcdbplwLJi+OAUBYzJYoK0YWELqKMTs2RuuE6YxBAd6BgvRjMN\n",
       "TpOtUjeD2UgaxkBAVHzOuS29bdp6Y4DeD6en5z6n53eet/OcApqep5CeR67QLJptThMj3vVpldyc\n",
       "LkRkadWOOJI2RjRrlNP508d4WqOxC33pY9QaClfShwj9rDZ3/DONjHhPk1SGVxVnxU2/rTCUO7az\n",
       "RdOkXCuxVbX+cfUw0LHTanSvKGKOZfNw+/5hWvN5/r3OAu6SD6Sc5WFQkt4s5LXhtXHkxkZQWVW/\n",
       "PdGs6rFbd7RaY5e/6oTscFjsqVbbCHirUfaYDzl8tsmOp9nn3pSMReCMfngbgLXYGb8Fb5KtmaG/\n",
       "GDtU50RnPR50pTr96KX3dUgiKY8fhNkuNLDY8aZkvCvCuE0HDMEhxi2cJDuw8aLYzJrrRDf5TSrG\n",
       "bCtnzHaT0MNc+ZPQkeUMlpSM/UuMEvST+LlAGb4RCLj+i9FzKZ6xkj5SqcSIMCMJGZlXZc4hi7h1\n",
       "qb14IcJ4z3EIZkwoTrbjpgY97nLFM75Pzm1Nsdh6hTHjY5qtY4LiFPBtIPBNasbbYUaxWeW3+ooo\n",
       "i1i1LbQWSgv99m7s+G7jXs543sK7H4WY2/eGPE4ULjgBoarLkUdGD/X6IJf2WlAzYUfT1nESKlUY\n",
       "31lPezGw3cu0fAnQlgAs6kj6KYXx4tgvqojWuVX6Mq1hwa+0je4cFy5suM3GP/karCv+BCmI0xac\n",
       "dyJncfFlsuIAOu3Y5KaAqLUIQ+IgxmUvTPRruxlj7f6/mZUUx/2HcgT0iYwVzQ9imLHrcbXhdGqb\n",
       "Sn0siSrtKDCFAHyou9J7jV5T1+SHOIcjPK7Rce+iFTozMmeIUZjFHmQOUn7JXTeCHBL/gevRdoL9\n",
       "cmZf2NUkn8GpPh9Hz2GLWc0ozIRt3WZTyTUG6PFGGL3IDSqtSKapxAtsXAkN6nooJhdk0scZvlIj\n",
       "Raod8jTZsXxWZt7uIWr/2DFmmgHOKHVwV5xk4iSXGYyqpOnuFtxn8GX7EunR/7aksvXJGD1GGTOn\n",
       "bbZH8VKUkbqFhDYvKoxWvmlixDzkJ++fZcMoLLbZ6k+NTS8xinbmf0JfmBGurUu5qYSdOUG7Ad2O\n",
       "UYcznjH7kCppmJIwKtKVUcZKRY/TYT2ywbmwHjc5xVmmTi6g96GoPmJrlBxktr4U9kd8WhEpFa6z\n",
       "oYJ1bxpi/FEfiWvZe111rgUTM7JsKsQxGu1Md/u4P/4IlmOZP86RhoTZQ3uIxUjO9WwQGaTkYwrj\n",
       "SXYQZnkjaaXWHC4VZD5UYPiwPIaRKYAx2mGTVJ77ouos1HE6pW10oocFDjxKiFFXHGKlfK0T+VZc\n",
       "tuAEed8gOv3EmDO3odaKHnEAhldGIJFDnmWMNZS2W8iu/khaySAN81JB4Lm1APYbMYy4AF73zLul\n",
       "I1PR0eMtineWjfWX5Pe/1d4v8hZ6x4S77K81qD5wiy3BuqjpvZP2WhryfA/zc2epr8sLUdtw7eYX\n",
       "QdkRcqNme4/wZegcuwjSDW+4/ShaD1hgYioRZyIrslIha19razMxntLF5EdmpERP+QcB1/8twHRJ\n",
       "Sx9TfbT/Bk9ASxU2KxVEv6JH4aHYac8sf5GYnDFL9aaYNYbIka+UCvy8eQT4Na42W/4rlyn5Tepo\n",
       "NFh5fEgRUaVUOEh6Fi+7kRE764xluRGF/P6kxXw08UruyC1AXV9+3tqSYJZkX9WL4FJS+523uzRd\n",
       "TbL60nkv/Ezbn1cz6WT8ajm3skLXRI1GNNYnGm16YjUYjRoDNuElSTRLq8E4rlVwd6Jor1+VKB/U\n",
       "KtmZIP5NPnkVGDs152Z9gr+lhS7bKjAe1i76apqiWmaVz79pL6wDwsf9WAAAAABJRU5ErkJggg==\n",
       "\" style=\"display:inline;vertical-align:middle;\" /></a><br>"
      ],
      "text/plain": [
       "<IPython.core.display.HTML object>"
      ]
     },
     "metadata": {},
     "output_type": "display_data"
    }
   ],
   "source": [
    "real_vec_set_is_inner_prod_space = Forall(\n",
    "    n, InClass(CartExp(Real, n), InnerProdSpaces(Real)),\n",
    "    domain = NaturalPos)"
   ]
  },
  {
   "cell_type": "code",
   "execution_count": 6,
   "metadata": {},
   "outputs": [
    {
     "data": {
      "text/html": [
       "<strong id=\"complex_vec_set_is_inner_prod_space\"><a class=\"ProveItLink\" href=\"proofs/complex_vec_set_is_inner_prod_space/thm_proof.ipynb\">complex_vec_set_is_inner_prod_space</a> (conjecture without proof):<br></strong> <a class=\"ProveItLink\" href=\"../__pv_it/theorems/e0ac91e0edd7518341a289389aed0a9e14c373d30/theorem_expr.ipynb\"><img src=\"data:image/png;base64,iVBORw0KGgoAAAANSUhEUgAAAUYAAAAmBAMAAABKei8tAAAAMFBMVEX///8AAAAAAAAAAAAAAAAA\n",
       "AAAAAAAAAAAAAAAAAAAAAAAAAAAAAAAAAAAAAAAAAAAv3aB7AAAAD3RSTlMAq1RmmUTNIjK7EInv\n",
       "3XZ/CtNrAAAACXBIWXMAAA7EAAAOxAGVKw4bAAAFmklEQVRYw8WYbUxbVRjH/7zc9vaWQt3URLOM\n",
       "qpkj2SZNUKNxGVepQoLBosu+sGzVTZYB0c7wYSoKMyZ+AGkzxwy4zbotJobhOsckhOjADSEYdRqc\n",
       "JrOhTmXZSBrGSwBR8Tnnttze2tYbA/R+OD09fc49v/O8necU0PU8htQ8UpVu0Uxrihjxtk+v5IOp\n",
       "QkSGXu2IQyljxEGdcgZ/6hhP6TR2vi91jHpD4UrqEGGc0eeOf6SQEe/pkkrzRsVZUfNvywzl1nY2\n",
       "65qUY+fptPvyC/v9J7bbs9zLiphtA9qPVl5rxA7+vd4G7pL3JJ3l4VC/XMDJOfmVUeRoI6i8pk+O\n",
       "N2vfyM1bWu3a5X92QnI4bHKy1TaQ3Bq79NQhZPPZFhmPs889SRkLeXz9TgnoYRlrsT12C94EW7PC\n",
       "+KV2qN6JjgZsciU7/ejHsgpyqkMAPwgzXTjAYseblPF21rxpIvWlyRiEQ4xZOEF2YOOF2sya40Qn\n",
       "LZ+MMdMOUW6jzq3A/Vz54zDQ0mZbUsY+1txpYpu0G8fxU54yfD0QcP0Xo+dSLGM1fSRTSRZpwscE\n",
       "TlCfeVX6LDLI6IbkXjzPGm8t7wtWjClOtu2GDj3udMUyHiHntidZ7F7AZAw7rIEJihPA14HAV8kZ\n",
       "J5k7WBtjcmuVyiLWFIfWQmlhLOvEtm827OGM5228ezLE3L4n5HEif95JO60561hNRg/1+CCV9thQ\n",
       "OyajecsoCZVStIlhDzGz3Uu0fAnQFgdMdSTjBNuN/5mYM9wdpS/LKhb8Stvkznbh4vpJNv7xBbCu\n",
       "+CNMQZyy4bwT2QsLz5MV+9EhY6ObAqLOJgyKAxiVvLDQ23YBjUJY0Yrj/k3UpKM4jGp+YMqGUd4R\n",
       "wxhtU1MvS6JKOwxMIAAf6q/0XKWfqWvxQ5zFYR7XOLFmwQ6DFenTxCjMoBLpA5RfctYNIZvEvwdq\n",
       "haDy5vTesKuZfGZntA2Hz2GzNZpRmOb++KqWsSlAjzfC6EVOUGlFMk01nmXjSmhQ10MxOS+RPk7z\n",
       "lZooUmVIU2THihmJebuHqP0jx5hp+pk/ho0ojrOW5NKDqkqa72jBXWZfpu9fekSbScv4kUaPKmP6\n",
       "VEHBQ9itMlI3n9DmRIXRzjdNjJiD9OjdM2wY+UUFBQ3tI1NhRl848IXeMCNcWxZzUwk7c4KyGZ2O\n",
       "YYdTw7iV5UeoGrckYFSkq1XGakWPU2E9ssHZsB43OsUZpk4uYPShsIHbWuD5USD1XQr7Iz6pipQK\n",
       "v7KhvHWvmzX+aJxUzhkrz/mL51owPiPLpkIMY5bMdLeX++MP9MJx7o+zpCFh5q1KYsmidz8dRBop\n",
       "+RhNKSun5gmi8kbSSh0J8FJB4kN55uMVGkamAJayd7uPD0cZ+7mos9DA6ZS2yYkuFjjwKBuirjjI\n",
       "Svk6J3LtuGzDh+R9A+jwE2P27Po6O7rEfphfGoKJHPIM2//hYmkTAWT6I2kljTTMSwUl5PMgX9cw\n",
       "4qKC2v3tcHTF80GLUluUj/SV5Pa98X6fyFsYHWPu8j9XYd+LN9kSrIvantvoBaUhz3ewbj1DfcPq\n",
       "ELUHrt74LCg5Qm7UlnUJn4fOsYsge2f7kb+KmT8x1xKnIyuyUiFjb2vrQWJsN2jyIzNSvKfiaMD1\n",
       "fwswQ8LSx9Kg9l/jCWixwmalgpLe8yDcp5325NIXiYkZM6J+KeKHTeTIV0oFft48QKViTG229Fcu\n",
       "S+Kb1LtqsPL4MEVElVLhZdKzeNmNNO2s07alRhRy+xIW82riNbnVW4Aawd2tLXFmmeQVvQguJrVr\n",
       "vN2p62qS0ZvKe+Gn+v68mk4l4xdLuZVluibqNGJWQ7zR5kdWgjFLZ8DGvSSJVtNKMI7qFdwVL9ob\n",
       "ViTKB/RKdsSJf4tPWgHGDt252Rjnb2nhbMEKML6jX3R/iqJaYpXPPzanm1gpe9uHAAAAAElFTkSu\n",
       "QmCC\n",
       "\" style=\"display:inline;vertical-align:middle;\" /></a><br>"
      ],
      "text/plain": [
       "<IPython.core.display.HTML object>"
      ]
     },
     "metadata": {},
     "output_type": "display_data"
    }
   ],
   "source": [
    "complex_vec_set_is_inner_prod_space = Forall(\n",
    "    n, InClass(CartExp(Complex, n), InnerProdSpaces(Complex)),\n",
    "    domain = NaturalPos)"
   ]
  },
  {
   "cell_type": "markdown",
   "metadata": {},
   "source": [
    "Hilbert spaces are inner product spaces and vector spaces"
   ]
  },
  {
   "cell_type": "code",
   "execution_count": 7,
   "metadata": {},
   "outputs": [
    {
     "data": {
      "text/html": [
       "<strong id=\"hilbert_space_is_inner_prod_space\"><a class=\"ProveItLink\" href=\"proofs/hilbert_space_is_inner_prod_space/thm_proof.ipynb\">hilbert_space_is_inner_prod_space</a> (conjecture without proof):<br></strong> <a class=\"ProveItLink\" href=\"../__pv_it/theorems/954b8799a564988b1cef9382d536c330295545790/theorem_expr.ipynb\"><img src=\"data:image/png;base64,iVBORw0KGgoAAAANSUhEUgAAAZAAAAAmBAMAAAAYddAjAAAAMFBMVEX///8AAAAAAAAAAAAAAAAA\n",
       "AAAAAAAAAAAAAAAAAAAAAAAAAAAAAAAAAAAAAAAAAAAv3aB7AAAAD3RSTlMAq1RmmUTNIjK7EInv\n",
       "3XZ/CtNrAAAACXBIWXMAAA7EAAAOxAGVKw4bAAAGoUlEQVRYw81Ze2xTVRj/ra97e9eWOcQEQlhF\n",
       "I4k81jg1GHC7ynjEmVkSY6IjrgaF4CZeEoJokBUS/5GxNshryOQmTBICs4URCE7DxkNUUIcBjM5J\n",
       "eQQSp3XAFjYnzO+ce7eunR3Irq3Neu7pOfd89/y+x+/77hlg7OdppP4jvW68TEtWGoBgrWq4yMfT\n",
       "gQNmw9Unfp0WIFhntEBbOD1AdhvtW7lqeoAYHpot6cEB4YbBIfJnmoDgQ2PFZQRTtnMlvjPdWOkj\n",
       "PKnC4XIDu2oWXFmDl/nvCjd4mDxgjPgAU48w6yq1y+LDfm55k/xPK5acu3pPdTx8189eSIWFbnmo\n",
       "J02k+8Z6pOfWw8VXO2XMZNeFxgApYE3he99Re18ixiReF8iC8EX8UIUXdX5M9g1VlNBkcQllwvUA\n",
       "r08sPqxiSjTIt9nu7TLeoMv1hKmKJATJxgvis88IL/bRHocCYvFAlLdQ517gUW7GdtjIBzLdxgBp\n",
       "ou/9wFeASecvV03r2dsCCTQnAimjy1DKdRCxqOyG7dRnTmzqgpl8zGZQCPZodqdLhqZP62L1DixS\n",
       "6ksEspWCbSjieIgsL+hBZGM3iteAb1pbTxgERPMnaydtJsK7sZCvyBLLZ0fHQWshFO/DC99OXMiB\n",
       "HHLzbm2UxWtDNOBFbo+X5JTXF44E8ts+BWob9vI14sUoQ11ENCHqDpnJVCTRo+cAWwzKr9eg+yty\n",
       "NXpfOFDzzmxGa1pbqbh8ODrhOhv/5AhYV/wB9gh2u3HIC1dv72vkNMdQJ5uOYxaEw5jnZ2t2AswP\n",
       "5wNrrLrJtGC6RdAgEKal5X6YNIzSZy3q/h7/k9jZLtQMCDD6RtvWDJXYORBxbHd19UltxDcQiL2R\n",
       "JRqtPQ1cQytUVLQ0XKBp6jrDELuwkbMWto/t9cCWBVMnASlVbD5MUtiaeSqYrb+nDVs1o8PUqHu1\n",
       "Xc30whwOueEkCVWjN8CeBVcjqiC0Y21sm07C4sdTQwBhPkWCC7LHj+/QkJHbtv7YDyTIPI63InlC\n",
       "GV5h41pMUzdAjNMjkWZDXjZSSTwkQyJBHx9SQqRivsbZfYVNHmMxoruW2M5aus8UoVivQojsTVud\n",
       "wxiUAyHTxAH5TSOL21qEuZWoRYsUjLNIDIipIy9vKl6NAaFuLu2/W9SAeLhWCAi6UZudqwRI+3yN\n",
       "9HmvrANRdeHWRh0IfPk8M1EqAy6iD4i0jQGpzL+koj4qLHhwZk6DahsDQajJ36cK9RSXbecVmsKF\n",
       "aZ54IJRNzHo12pwEiHZnWQxImWaRDt0ibLBLs4jpGMVUSNalvwNzl+ZaVp5HrASwWY8R7OW58Qng\n",
       "jK5Ce0vDwUZUMCABxeSzuS2eeRPCZC/h3GkvDbl8GWGHkilbwjT1WFiI9AW7ZgeSaWnXRqJJgLCM\n",
       "Y00A4pCZFRbxGDkD5tcsRrpGyChdvoyCzc3WTAGIyPARfYvnUjOLlBbsI8wVjL929J482Q6NCTTX\n",
       "CnGLAJ0BWIMBlXUhnr/FhwTF7gkpgkpTmzse7i8cbvEYoVxoa5T8nOPdA0oUG4egtZVeHGARj4DG\n",
       "B9QVv2QvmCu8yPHgrBs7KNiPoy5MQP5Y/dYRZCpszSQVm+j2PYwcN86WJpOlLOE+wszgz7zBeMy8\n",
       "qLp6XQKQI9Pz8rx0pT+JeSAbQtvvkVJWPdPUi73evt0e5WogDTm61nL+lUa/pBeN55rm5DSt3tYk\n",
       "8hZCYZsy969sLHnzKtsH62JpwyhaURQNnELW83uobxsZHQVx3JRdv6C2+ApfUxJtY0/jobtr683Z\n",
       "jITYgNjZzzjNyJChJZlBFuErKyVPBuMuNuT02H+tUHlgiWqsKlrEVxMEy81ndLEH9RLlrk4AkhbA\n",
       "Tn+s/26fG+hZQoYtoqfGAUACijlo90gR2n1I9FPxsAQB1RUMqc6oPSxFaOqCHKuKnjX4KCMpEPOA\n",
       "mRk8vffTisMPR2QM3vazhHhCvdzzfo5c24GVeW2sahByDiCzCJaShjACj1yCa8bUxTTMpkzF0/rf\n",
       "1gqMPXtwJj9S2BQrJ4K67vXPSoqVUwqkg9UbbiO+MvlUyG0kDmtOk5Jsbmd/z67c7btpIPmUXU7Z\n",
       "sUkf5YNneqpi/r2InOSHcObGdJ2i7Df4WLwzXUAO/78Vc+eHKoNdoWracAQ6/Il15MWUnAY7BrGM\n",
       "mGUfjsBBJwarkJIzu8uDecc/PInzE35vTg2HHR+cg1RpWCLrEmjwJ6TifL5ucP6y1ucNTzcJ/84r\n",
       "yUvFKeoH/4HM5WngLInVv38DoukTTgM3a28AAAAASUVORK5CYII=\n",
       "\" style=\"display:inline;vertical-align:middle;\" /></a><br>"
      ],
      "text/plain": [
       "<IPython.core.display.HTML object>"
      ]
     },
     "metadata": {},
     "output_type": "display_data"
    }
   ],
   "source": [
    "hilbert_space_is_inner_prod_space = Forall(\n",
    "    Hspace, InClass(Hspace, InnerProdSpaces(Complex)),\n",
    "    domain=HilbertSpaces)"
   ]
  },
  {
   "cell_type": "code",
   "execution_count": 8,
   "metadata": {},
   "outputs": [
    {
     "data": {
      "text/html": [
       "<strong id=\"hilbert_space_is_vec_space\"><a class=\"ProveItLink\" href=\"proofs/hilbert_space_is_vec_space/thm_proof.ipynb\">hilbert_space_is_vec_space</a> (conjecture without proof):<br></strong> <a class=\"ProveItLink\" href=\"../__pv_it/theorems/339a9daf3d5ec8858e9c33320ad0a75108f6975e0/theorem_expr.ipynb\"><img src=\"data:image/png;base64,iVBORw0KGgoAAAANSUhEUgAAAVQAAAAmBAMAAABpIX74AAAAMFBMVEX///8AAAAAAAAAAAAAAAAA\n",
       "AAAAAAAAAAAAAAAAAAAAAAAAAAAAAAAAAAAAAAAAAAAv3aB7AAAAD3RSTlMAq1RmmUTNIjK7EInv\n",
       "3XZ/CtNrAAAACXBIWXMAAA7EAAAOxAGVKw4bAAAGEElEQVRYw81YfWwTZRj/re31rtd2nR/RQIw0\n",
       "kPiHIqsWDAQdhU0gQrbyjwlCXPkIBiR4JARRgRX/IjLowoc4ZHoJ00hQWwEhMJUKkhmZ2TDzc5mW\n",
       "j7DExlKRCTpkPu9712vL0pK5a+KlvY/3fe+53/u8v9/zPHeAudsMlGKTV5hv01ZREqjYqppu8rHS\n",
       "IIXVdBdIX5UIKrabbdAeKxXU981mQKVaKqimi6CnVEghXjOZqn+XDCreNNdcWZOJxpT8k8fNherx\n",
       "mWer3AscaFnWtwXP8usGLzhdx5ljPsIdsOYFsinm55cpg2eBDTf2GA2tNTNsRW09RGjv88l1O1HO\n",
       "HeAO4El2fM4cqNO4VmcvTBMXQvlddex532Yz5Q+wfFc0ldL9tQso9u8E+KxtIWxi8jKJY/ew3U7Y\n",
       "u4ZyoYFBDxiXzsBtMpvNBynAFuFuYCInRBp2CoVOrzlQP6e/pQKuJiPClrf0as5zULCxBvNyhaOY\n",
       "KRctjMo8uI/OmS3LdVhp+naTpDCgHaIx3cEQVmVyguUqPTs70tFOyIuZeoDGiPoq2NkKSVeAr3t7\n",
       "z5gE9Q/tUE/eu8nP1mazVwewjSSXDECe0+a1DH5MbU+fmTidYFQlj5PO2g5CrD0M6UKKcWUOsFrS\n",
       "07STSV8m47OBPSZllCva8TI5UUsuOXI94cVTkNpxCeu9wpe4PPgnTagjKHfD0o6ZEE9iYbhRKQ/t\n",
       "B4jqWAJsEXS+W7lEafKrIRLqNSvDsGizkD/pUY8MhJ/A/rTYkoOEliOV3FIsWWlQN3U2N++N89NQ\n",
       "nq4qWMTxeJcxcPIjneSmRUTqIF3VK/YQxivdwJWFKhI0/BuCJCR08sR1djlUZxDWWNQLN81z26hd\n",
       "cFSgPE7LJaaxNQdJF2xhTC8CVejnh3G/jx1byWkmEbl6f9QJd41UFfHBflxntNQJLCVi08h3TiiM\n",
       "3xKBf979Vx/rPc24qhNASrM9kd2SsDMaRRU0sqDIOM+hknvzoFKTK08ahbzKFj/C107OCYKWAbq1\n",
       "strv38xobNUoTVA9TWi9s1KJJJj0/P7J8qeDAR2qqt8uxHWoCFXxTAPUABeQgSq/zaA2Vl1U4axK\n",
       "rF1cM2/guH00RLGl6rAqHqLMkTyn4FAK56f68qGy6D9N0Rciu3WQqiIUFWX2TBaoPGHNq5bTlOaY\n",
       "c/n9L8N6XSOAwOOqQFPo0rmKgzwbTGHJRHODo6ftWBwNDGpEsYSwGNXCyVekOMRfumkRiftlMZfi\n",
       "DNhidq9tUkxMZGSlRQAPXddpLancfPUTRUhSRXAZPZxxrUHjatgTQP26tTQ/L8VlYQJwF41+i/61\n",
       "82g3k5agKRNe1rNY8O5gR0camuY0AkS5V4F+osp8Ku8IKqRzN3mTqDh8UUVUIxDeuPqgkQxvGvX1\n",
       "SrzHCZqTWxroMdJpOJX1Phx1L4ZMIl+pyD0gqJdfffEU9TQGcXS8it00+iNGuddnyQ+Tt22xTHgp\n",
       "CzNL11hMsC5vbt5+C9RT1lP+SYSTfjLjCWtC8rdEPavM/P7g/EEjCX3B983079z8PQc/6plsgmLD\n",
       "1tQehVyTUsqEOXfQ9aKqc0FI90848DNaa/sg1iSVBakkG8hFcmDvP7NYpcIapH5DvV0oC0ALukO9\n",
       "CqmLoO4jYbh5k9vn+LVB5QSXVKsRkpbzPXNKXbcW/IVjvcWqkqUFe9zh7PkGLkujbLcFYE/oySAH\n",
       "akQhouzAh8yl6c2eIEXhiFreFFXdKUdMTjh88vkADJ3PHW7SKAzVmi1tUM1TliFRVxiuxGi8FGYp\n",
       "4Ix6aeC1MYHWq9joT9KozxKrBxQcjtkWtMUQefQiyqsnr0IbiaYtZamdatTr04b7Fni2cNfubBJs\n",
       "0v2nbxuJs2cVyMead93GfGPhrugwK7R5N+4t2Lc/W9oo//UNI1K4yxEw8RU1EwLRp9VAyvBNjCn8\n",
       "WcIaL90b6xGTP9j1lw7qyf/31JFXgdy6bZs6EoOusLn2ciwPUaxU4RjRt8WQufay26WhGg6PzOIS\n",
       "k+0ZYm4fms9UeUQmP1DMtWfYHRqxhUP+kc1+hbn2MtuOEih1XUn0L7Pa6l/6s7uKhm+HeAAAAABJ\n",
       "RU5ErkJggg==\n",
       "\" style=\"display:inline;vertical-align:middle;\" /></a><br>"
      ],
      "text/plain": [
       "<IPython.core.display.HTML object>"
      ]
     },
     "metadata": {},
     "output_type": "display_data"
    }
   ],
   "source": [
    "hilbert_space_is_vec_space = Forall(\n",
    "    Hspace, InClass(Hspace, VecSpaces(Complex)),\n",
    "    domain=HilbertSpaces)"
   ]
  },
  {
   "cell_type": "markdown",
   "metadata": {},
   "source": [
    "Complex vectors form Hilbert spaces"
   ]
  },
  {
   "cell_type": "code",
   "execution_count": 9,
   "metadata": {},
   "outputs": [
    {
     "data": {
      "text/html": [
       "<strong id=\"complex_vec_set_is_hilbert_space\"><a class=\"ProveItLink\" href=\"proofs/complex_vec_set_is_hilbert_space/thm_proof.ipynb\">complex_vec_set_is_hilbert_space</a> (conjecture without proof):<br></strong> <a class=\"ProveItLink\" href=\"../__pv_it/theorems/4739a755daeb3bcebe03dfca6207ede4a3f386000/theorem_expr.ipynb\"><img src=\"data:image/png;base64,iVBORw0KGgoAAAANSUhEUgAAAQgAAAAmBAMAAADKCRg+AAAAMFBMVEX///8AAAAAAAAAAAAAAAAA\n",
       "AAAAAAAAAAAAAAAAAAAAAAAAAAAAAAAAAAAAAAAAAAAv3aB7AAAAD3RSTlMAq1RmmUTNIjK7EInv\n",
       "3XZ/CtNrAAAACXBIWXMAAA7EAAAOxAGVKw4bAAAEkklEQVRYw7WYbWhbVRjH/0l383JvkqYOFae4\n",
       "qBT7YdpAURBHd90iDBQJOvalY4taK6vVZaPI1GITEP2gNtmkH1rf4iaCzGB0b9SxYZyjo5s4oRZB\n",
       "wuKchW1Q6raSzkHrc85N29zbm8tB772U2/bmyTm/8z//53lOAghd6+HQJXcLh64IOwWB93OikQ87\n",
       "xoAG0fX5xpyDwF7BOE/BQYivBPejNecghKjffneQAd6KmCX+cRICHwpFubI1Zt4wcNFmiLVCUY1R\n",
       "XlZGJl7ZXdi/JRpI2gvRHwG3xX2WURk+6x8n8fkN9fVJNOptmu4pFnbuKBa8J/F2EZvPLC+KsVhE\n",
       "tRg+qOJx9vtFS4h13MR/UZ4+ouJubDEy0m5lEpCuA88CBgh6Uz6FBxJW6ZFAmhk0awlxG7u95ScB\n",
       "XCpOI+YzyEli9tMI9Poe4CW99UmCQ+QkK4jQNDz0XiViCVFkt1V+pmzUO43fWrTHl0qlRC0ETCBC\n",
       "qvbEapXuWTSQ6zzWzrnJbtle/rcUxhXuU2y+bFDCDCJDEB+RpaJWFeAq8FOpdMYa4hrTNfyuocZ0\n",
       "G7bj1SKH6Gy/SLr2XlGlngtHdq3+5Ra03owTfM/B2Eral6ljOchPHIuwCAy0TzJ5afyNwLDJzEvt\n",
       "wnuV4RaeMfSTxUTtLzY1fZrlriSIl5PohG8Ukwis74+S8xGan38BCJxCXsWaJNmwLyKdZhFyFkE2\n",
       "wBywk1ZpAqHq5CKHbTVALDPmHv5DKNviNHdjJHhOZukH7L9rPgpPGO4ZgpAq6IJ7lEU0jyFU3W5/\n",
       "TonXyjx+GGvDtRDSDPfEG3qI90p0ZZdDdFJxUzM0aYGm1SAomBJAhUxJLHdUZOYxHnH+Ey4nPXaX\n",
       "lxY1cMcg7lFyK3LLlMCwXw/xZR0lGES2dUNbW4qm5RBRvg723w3Ij91b8c2xxswiDpy/XoVAon2x\n",
       "bGxk1bOsKjgUG4/FdRCbWJ3AkmZBCwg1E6meQoI0FpNrtqrEmrivwgQBi/DmsC6leQLfdi/0pT/Z\n",
       "mC3Nbyo6T3ivaRUzzIvbYgUo1/VEJhWgR3EG4SGIX2mIae6JWVq0VHmni+RnEU+X4YpWs6+P/ud9\n",
       "SeZb3KLs69BByHNabepM7huv2Y/nDGUbQxyiK4c74TsFJcm2QkkomIjgC3LAKPIFggjN3t8XxVEW\n",
       "sWsM/mQ1+1wkCe9LEi8pLVAv6SDwo8Yy8vN4bf/8bFBrZOkdrIH9XUifXZU+ezuGm7fSnvU+dVRa\n",
       "XSTJm75DeNM3t5ImK6fonr5w+XhZjk0lecSJqcNsu2cWhmR9qWH70NBegjjg0dUJbDevYR0flxLi\n",
       "DdtTt5G6F89MrC/5CpoS0oP6qCftODXUh1DOLZiP9yVeOR+io4Ohldtxzg3WPc/6F17R+tJr5A7f\n",
       "RBIufdTXkf/PQA5JWh7clvJgZGjQDFV19KC7Tei42PC9oxBHxD45zzgK8YOdrP/xCgnqHEiZPR14\n",
       "1BaIgKDtTc+pvrDfFohJ0cDnzXImZc9H0VHRyLxJFgVzsh0QeeEi5DX5Zkk62GYHxAfiobsd++KM\n",
       "HZP+BXXMSV0pw6iaAAAAAElFTkSuQmCC\n",
       "\" style=\"display:inline;vertical-align:middle;\" /></a><br>"
      ],
      "text/plain": [
       "<IPython.core.display.HTML object>"
      ]
     },
     "metadata": {},
     "output_type": "display_data"
    }
   ],
   "source": [
    "complex_vec_set_is_hilbert_space = Forall(\n",
    "    n, InClass(CartExp(Complex, n), HilbertSpaces),\n",
    "    domain=NaturalPos)"
   ]
  },
  {
   "cell_type": "markdown",
   "metadata": {},
   "source": [
    "As special cases, number fields are also inner product spaces:"
   ]
  },
  {
   "cell_type": "code",
   "execution_count": 10,
   "metadata": {},
   "outputs": [
    {
     "data": {
      "text/html": [
       "<strong id=\"rational_set_is_inner_prod_space\"><a class=\"ProveItLink\" href=\"proofs/rational_set_is_inner_prod_space/thm_proof.ipynb\">rational_set_is_inner_prod_space</a> (conjecture without proof):<br></strong> <a class=\"ProveItLink\" href=\"../__pv_it/theorems/d9b3b002195c9774ad4875a2b6d92cbefdc057b10/theorem_expr.ipynb\"><img src=\"data:image/png;base64,iVBORw0KGgoAAAANSUhEUgAAAOMAAAAdBAMAAACqOMYWAAAAMFBMVEX///8AAAAAAAAAAAAAAAAA\n",
       "AAAAAAAAAAAAAAAAAAAAAAAAAAAAAAAAAAAAAAAAAAAv3aB7AAAAD3RSTlMAEIm7mSJ2q+8y3WZE\n",
       "zVRISQrpAAAACXBIWXMAAA7EAAAOxAGVKw4bAAAECElEQVRIx+2Wa2wUVRTH/7O7s+3szs6uUMMX\n",
       "TVeQEh7qkKpRiclIsIZUcTTlIQlh09hW5NVQ5KVgozSgNjDhAzRG3YrEhk2aTExTYzaYsRAgaUhX\n",
       "RGli1ElIeITEGkGpZdvlnJml3SXskojsJ2/SO2fuvXt/93/PYwqUoonjlu70k6qrn7/HyHWAMK36\n",
       "ceId51f/FkPsiuatkLfv3njbw27LbG6Zlz/2ZjtQsWCRrxhRoe2bPsDyDUQz6X32bODY0fw10pXb\n",
       "/1a6BixL5R8jDeEwlO5iyAcBz1cm5BdV4HvaJUpbeIOx/H2uFfAJjQf/zB9Lw6MBR4oha4F9IXqq\n",
       "vUAP0e5rpjMY7tH9zyS674SURm5FhujevMWQrcDcKfScSdzyCCZLJFCxFzo+/ClyZ5Xy6K1Ibxtp\n",
       "L+bKFAR1Pxm/+wyETOyTyaGy+S3PrYhMbP3pziVNsWyPunpNHlz3iM5Iz5hjCjWvW/RStSoNJTOH\n",
       "fnPqvZ4XaKve+oconqY+CrHmYUirG+n6fFFyXz8t6Q/a8DTjOD0gxS4z6cdcNV229Fe2l9qwFuWL\n",
       "Vpo0LrxhOubHOp6EsAeeNLA+M0r43ZZwCEobXoK4ByeNDt2fmgx0goXJMda0XzERTOFVxVG5hkmp\n",
       "XORTwPVsH9AQtgOdAsSRqVV0QjYPAnHDm+KIhfD1Xlp6FhiyCDmgh1K4qB8Cxk5GQHcUsCFGWVO/\n",
       "34LSCq/ry+c4BT5MJBJf3ERWA39n+7hJIRKiMBPd5CFTGgPC0coYhLSTPXuBM0Alxe4Dj+mVFE8S\n",
       "HeJ04EoDTZbTFWR9GYH0B7z3j0esoOaqzEEO1SaTRkibQGpQiBRW4w6SQ2fAYmRYRcWOIT3OKq4m\n",
       "k98IszKai5y7NBuxcitkNy9t3qqzADLOs5wKN5FRV6XmquQECRuuSqUdcZ3F8gK8guA/zsWiz8lL\n",
       "cqhCkFqqPifc6tNYAFlOF2HlI7GTlYVU9mWAVKx0fWmENQy8toJU2LtI0XngbRJEon1cfd6hawzS\n",
       "n4drrOZuZecUvB8cpNNL7fDoAT66m5Nsdhg4DbEdZRRdv0L4GRjUhYOkHOs/W/wRre+wMP1iBE+A\n",
       "8wKYQTWWC7ePy3nd6G8LXZLQ8p1b1rcNbzwwvPXccLPbo65muvzuLlvcntnA02RCnD+DxFVUrRpp\n",
       "LpPnbyb7bG+TBWnT+UlfoqKmAeKCer2vsZ4mJHaY+PIvVw0+rsWEreMVVp6W6P7XX6gzBWcOc1dm\n",
       "9PJjuTNSFmu6ZN39R7EwssfpN/l3fOKUeG4Xnn3fvHtkV8EZr/O/gNIyOA+i+h9++U8Mv1VoaiLh\n",
       "s/QStCXjVgP+b6Vp0upoqZEHoJYa+XTpL/ZzREqN7Eua9x5yA7p7RbdGPjgwAAAAAElFTkSuQmCC\n",
       "\" style=\"display:inline;vertical-align:middle;\" /></a><br>"
      ],
      "text/plain": [
       "<IPython.core.display.HTML object>"
      ]
     },
     "metadata": {},
     "output_type": "display_data"
    }
   ],
   "source": [
    "rational_set_is_inner_prod_space = InClass(Rational, \n",
    "                                           InnerProdSpaces(Rational))"
   ]
  },
  {
   "cell_type": "code",
   "execution_count": 11,
   "metadata": {},
   "outputs": [
    {
     "data": {
      "text/html": [
       "<strong id=\"real_set_is_inner_prod_space\"><a class=\"ProveItLink\" href=\"proofs/real_set_is_inner_prod_space/thm_proof.ipynb\">real_set_is_inner_prod_space</a> (conjecture without proof):<br></strong> <a class=\"ProveItLink\" href=\"../__pv_it/theorems/32c829b118e08b8aeded85e5529780051a6ee58a0/theorem_expr.ipynb\"><img src=\"data:image/png;base64,iVBORw0KGgoAAAANSUhEUgAAAOEAAAAdBAMAAACuzRYrAAAAMFBMVEX///8AAAAAAAAAAAAAAAAA\n",
       "AAAAAAAAAAAAAAAAAAAAAAAAAAAAAAAAAAAAAAAAAAAv3aB7AAAAD3RSTlMAZs3vu90iq0QQiTKZ\n",
       "VHZ+Ip2vAAAACXBIWXMAAA7EAAAOxAGVKw4bAAADgklEQVRIx+2WTWgTQRTH/0mzcddt0kQ8qWhs\n",
       "/SyKH5SmpSKLX9RLK0pUROlClYJUGvGgF+3SS0H8iB9FFNF4sEoQDdSPkyZeVGqQpWIRQRpEhBYM\n",
       "FWsqbbS+mU27SWmiSM3JOTz+eTPzfvtm3swEKERTM8WsivrFFa5/C3Tq45Qz7KfShPbZgawR7WXe\n",
       "6FQzmxqGj27K/jrnDg1SLKZH8xHfTVCcbLZyEDbZnz0kokw9NeKHfW22q0VDRxhvPHmAksekLDeI\n",
       "xeqkCS3+qecy/4JglqtEwx3Ako9Y7DIp88aJ6Zw++nye3xEj2yYTy1mUPMSiDEpRgOsZlw1CW/8f\n",
       "5HjWM5m4kSowX+31wKRYjXzv9/DytS83I8tlzxInYFjYX91B2/p3Szjxns7l1cQLGhhKRDT0jWiA\n",
       "WHYjdpiWNxEKQOoO6WgeiOLJ/A80qBsmZSZFUBoXfzNys6oZuQjHEVHTtkt1erCu9wvzX1sDJuWd\n",
       "sMVxQcc9Dc6xsWW0XlXoiOK1WuxBoy7WyJX4ICkQKNpCmBQLryL3eYNjzVw922qUuNJ2L/ADPgTQ\n",
       "sif0mbpJCkHIo9jAaxXnjoy5YPXD8Z2IYhKlcFQKUZS8rYaThu+DSXGsZtp2ztiFLh81ZZyooCRu\n",
       "WPkLqDqWMr9RICQjOjAi/QSua3zqIKxRSCk6CieT0gg7SPQNwYY6tmxVMCnyINNydCsPdDErR5Po\n",
       "SLndc7HCJJLsI9CQbBApkvidETEE6fn7JHOj76nbHb7SkJogGhSR54iX+3kgIQdR/sF85Sax3Mgx\n",
       "lc6ROUfTOb7W5CRLlQ+wB7AgPL6qBsWxjeuL/PKBMz41EV76tknEoijLaxHfx90Ue5Dv4yhSEJMP\n",
       "SylyERXl6ThmUOQ6mBQLRVCaYXHV8kgrM245K2cZtktDJysfRIyzSFKuoW1Co4ZWF7brOE+7VomO\n",
       "IBGdo72NLnTKVZh5qBo22shbMCnFQfZ2bMGmVTqLdKnWuNHbG7wvW72P670yt7DHBtT2r8fRtGqY\n",
       "XXFMojl0jMqkOxHZBf+pW6SthxNkH33uvxmXYgkVza86xbuJ2zT+AUyKoGXfDic3+zx/+yRZcz4f\n",
       "QtjUB6bxEcxNtGT0PJ1GouDP2bVlQtmV6QOKrV41V5950G1qQf7lwD5x7D7hfytAezKnwEDZbysw\n",
       "0RYu9KIKAanARPGG+99DfgEiljDwExNn+QAAAABJRU5ErkJggg==\n",
       "\" style=\"display:inline;vertical-align:middle;\" /></a><br>"
      ],
      "text/plain": [
       "<IPython.core.display.HTML object>"
      ]
     },
     "metadata": {},
     "output_type": "display_data"
    }
   ],
   "source": [
    "real_set_is_inner_prod_space = InClass(Real, \n",
    "                                       InnerProdSpaces(Real))"
   ]
  },
  {
   "cell_type": "code",
   "execution_count": 12,
   "metadata": {},
   "outputs": [
    {
     "data": {
      "text/html": [
       "<strong id=\"complex_set_is_inner_prod_space\"><a class=\"ProveItLink\" href=\"proofs/complex_set_is_inner_prod_space/thm_proof.ipynb\">complex_set_is_inner_prod_space</a> (conjecture without proof):<br></strong> <a class=\"ProveItLink\" href=\"../__pv_it/theorems/54b35412bff65a487e4031d1adcd8b56b7e75c290/theorem_expr.ipynb\"><img src=\"data:image/png;base64,iVBORw0KGgoAAAANSUhEUgAAAOEAAAAdBAMAAACuzRYrAAAAMFBMVEX///8AAAAAAAAAAAAAAAAA\n",
       "AAAAAAAAAAAAAAAAAAAAAAAAAAAAAAAAAAAAAAAAAAAv3aB7AAAAD3RSTlMAEIm73c12IjKr72aZ\n",
       "RFTgyeMAAAAACXBIWXMAAA7EAAAOxAGVKw4bAAADe0lEQVRIx+2WX0hTURzHv7fdbTf1zmEW9AeS\n",
       "EUlkuCgNpChiEUXlMiSyf6tovcV96EWRGhJFPrQ9Bf3VHspGCZceIljQENKiRRehQIgaYgRCKRbN\n",
       "cmW/c++8Z1fcirA9dR7Ofvd3zvl97u/fuQMKMRSrULa28UTbPwU6klOU1/rjFVV4ud6yY6ApGp/p\n",
       "ZHP9t8trVKux7RqERCIZz0ccNCkOdrq3Hyi2EhH2znw0HIHzllV1RkN5CEP+PEDBzym7ASm+mpTX\n",
       "ppmJzHyW6R9XWFSlGqrIWD5iicopj4C5bubPYmPtmM/n/x0xvGk6sYF+vHmIRVmUIjdsTp6CV0f+\n",
       "wMd3/unEOqpANQ/xPTjFrqJZMqPk3M0tS019wUswZjh7q/Dq9uBenVid1MUlwRe00RMMaxgZ0wC5\n",
       "aWXiKoU36HFD6PEk0Xo0jnMPjtOmHnDKnAjaZPP17EqWL+INhJXM3K44/Lj3YYLpF9wFE6WtsAWw\n",
       "KIlqDY7JyYMUr26UxzGslPjRkpTvSF04LnghkrX94BRKeKscMInZ0bN1olTNzDuAn/DBjTObPSdp\n",
       "mUSxAtI4avRaxeIrkyrsEbh+EFFOoRGuLjGO0o834aDtu8Aprk6KsBnVdh8N7xTRi9KAMUsToOrY\n",
       "x/RGgZAYpqYeE74CSzX96CjscQhpaoX+lDDGGoneoaK+loWtG5wijcLmNstsnsVHTnSlY7GHOMCJ\n",
       "JI4Q6LNkEClg8g9GxGcIzz6lmBojz2OxUFl9OkOcosidkPVOkdmTmIMo/WS6Bk5sMHxMZ3xkyvGM\n",
       "j8OalGKu6hucbjwO6VE1KS7qrd4Bkp/oN1ZgZiKibLOVWBRnfu3R87iTbI/qeRxHGnLqfCNZLqKy\n",
       "fhvAXApALTilmCw4avqEIaNbDmXdcnadZcztGipZ+SBs9CKJ0h1KE1o0dKjYksR8yloXyiuI6Bj/\n",
       "0KKiUurGnNM3YaNErgCnlLB8ltV96TNACze4jZu8Pvq0I3pxY1TSZzgTR5WB7zfQfPgbO8BEtHqu\n",
       "U5n0BMPbEHmzgmT71SDNF04eWRYQEkEFrb2V8vLgKtp/FpwiatbboX+tz/+3nyR7zs+HGOLyqVn8\n",
       "COYmFmetPJ9FohjJubTOlJze2QPKHVEl1xpvdJtSkH85cJptdwL/RwHGufsFBkoRW4GJtlChgyq6\n",
       "hQIT5ZWxfw/5BVPXLB3BQHPiAAAAAElFTkSuQmCC\n",
       "\" style=\"display:inline;vertical-align:middle;\" /></a><br>"
      ],
      "text/plain": [
       "<IPython.core.display.HTML object>"
      ]
     },
     "metadata": {},
     "output_type": "display_data"
    }
   ],
   "source": [
    "complex_set_is_inner_prod_space = InClass(Complex, \n",
    "                                          InnerProdSpaces(Complex))"
   ]
  },
  {
   "cell_type": "code",
   "execution_count": 13,
   "metadata": {},
   "outputs": [
    {
     "data": {
      "text/html": [
       "<strong id=\"complex_set_is_hilbert_space\"><a class=\"ProveItLink\" href=\"proofs/complex_set_is_hilbert_space/thm_proof.ipynb\">complex_set_is_hilbert_space</a> (conjecture without proof):<br></strong> <a class=\"ProveItLink\" href=\"../__pv_it/theorems/7e49f3ead728b9e4f3130afc9890910303c0c18d0/theorem_expr.ipynb\"><img src=\"data:image/png;base64,iVBORw0KGgoAAAANSUhEUgAAAKUAAAAcBAMAAADywGJUAAAAMFBMVEX///8AAAAAAAAAAAAAAAAA\n",
       "AAAAAAAAAAAAAAAAAAAAAAAAAAAAAAAAAAAAAAAAAAAv3aB7AAAAD3RSTlMAEIm73c12IjKr72aZ\n",
       "RFTgyeMAAAAACXBIWXMAAA7EAAAOxAGVKw4bAAACpklEQVRIx+2UT2gTQRTGv81ms5voxFAjKAWJ\n",
       "RS1ShQjVQ1HwEBEP0lTIJaCkSuPJsleD1NBDRS9ZIj0kVUtPtUIhePCSg4tgizTUEPAg+CeHglDQ\n",
       "lraaWBLim90STWyCh60nB3aSmf3mN+99+2YAdPSGbozC0uZIZ4Q3ZxqmlPGnSXl8M4lYRglrLOxr\n",
       "XiPkckW9DXOuAOxqZEJZp+cb8EmHpMHVyKSRN46lYGukop+k/mHjpPyDHuIKgKhBamDKFOBxCqMN\n",
       "0+nxU99pDq4HAsHfmdiG6SDmZfr1t2aK8i9j3g42xbkdM0H6PhXItGbeUuor5IGm3OWwZjAXoovA\n",
       "7Ws6Cw8fGZm8+Bgra3mAhXtyE2RCtMsD4WVXkSsw9nwIGGX1DSW1ztxMpR5QnJLJvABJV6YxBNfi\n",
       "nYyd4nTUalcA1yy8OpbV3UHEiuwJVwh+2Gl7Fqkz//hGosnUwKqE2lO0nxPAmehM1zJ83l0lJish\n",
       "BPc0V3yZgoP7Wc/9foCafxsmUSoJYviIYjJJvMrnhQoVR6EkrHGjuaL/NCUreuofcG+rOImyvrKQ\n",
       "zcb5P84ku1jVnIfw+mtJ+U6LDEVHP+3CjPpknGRvw6wkitwdH2fajDoqb8W5nFdKPFxwhezBizid\n",
       "o3c0fmVUXqSln0rZRWnnOVMi5iV6vWr4WUYFrHQ3BLi54mMETkrCcWpeWDI9utp8NkW/wRyA06fM\n",
       "wqbyvG1BG84XsY/cm4bXR0xH+XMsg26uGJmCyKuno29j3kQdOOvZukM26Q6pJZX0zP70jCoe/HCT\n",
       "CmSum03OUH6pQ9DeH3tEEU9Eqb83PHg4IuSiqqE4Gj3RdAAKvYHg399okg7L204w7ZrlSHJXxf/2\n",
       "r9vYM8uRiiZazhTjO1DEHsH6Ku7JWoH5CeLJ5J0bIR9nAAAAAElFTkSuQmCC\n",
       "\" style=\"display:inline;vertical-align:middle;\" /></a><br>"
      ],
      "text/plain": [
       "<IPython.core.display.HTML object>"
      ]
     },
     "metadata": {},
     "output_type": "display_data"
    }
   ],
   "source": [
    "complex_set_is_hilbert_space = InClass(Complex, HilbertSpaces)"
   ]
  },
  {
   "cell_type": "markdown",
   "metadata": {},
   "source": [
    "### Inner product linearity properties"
   ]
  },
  {
   "cell_type": "code",
   "execution_count": 14,
   "metadata": {},
   "outputs": [
    {
     "data": {
      "text/html": [
       "<strong id=\"inner_prod_linearity\"><a class=\"ProveItLink\" href=\"proofs/inner_prod_linearity/thm_proof.ipynb\">inner_prod_linearity</a> (conjecture without proof):<br></strong> <a class=\"ProveItLink\" href=\"../__pv_it/theorems/093b5159c37cc9f6ae2f5222aed15db4508ad04e0/theorem_expr.ipynb\"><img src=\"data:image/png;base64,iVBORw0KGgoAAAANSUhEUgAAA10AAAAzBAMAAACeQ3/bAAAAMFBMVEX///8AAAAAAAAAAAAAAAAA\n",
       "AAAAAAAAAAAAAAAAAAAAAAAAAAAAAAAAAAAAAAAAAAAv3aB7AAAAD3RSTlMAq1RmmUTNIjK7EInv\n",
       "3XZ/CtNrAAAACXBIWXMAAA7EAAAOxAGVKw4bAAAKeklEQVR42u1ca2wU1xU++/Luzj68aqq2ERVs\n",
       "hUV+BJyVoEhUyN3GIUGlCdui/khAtWPaRuFHtP6TynEDS6RWIoF4CU3BaQtDWiW1iezlUQg4tVy3\n",
       "0CqEyIXQojRLl9oqrUhcy5AQGbX0nJk7c+/MvWsWxUlNNQdfj33nu/Odud99nHsWGUBhvb294Nms\n",
       "M623V1fe+Ov1K17vzD6LXr9eVN446/XN7LSAp5enl2eeXp55enl6eebp5Zmnl6eXZ55ennl6eXp5\n",
       "5unlmaeXp9dHtmS5MGMobnksBXZ1W7gKfnpUpBqN1LSgqsjDzTNEGMgq752jr/+xXrHczKG4vGl8\n",
       "w6J5lSxUUeJvgIoW1DRS07DUnbuwfEtu/TfX7x1uAFGSG1aBXxlfqFeKbs+X9FJVz7xetbDEcj66\n",
       "+DO1PfROapI2r7KNKvDaT0emR/mzahqJIiZp30DSSp77S9BzSqw4ICGyzA2r2HqtoNuPSHqpqmde\n",
       "r1pYYrkgzbC6fE3P1FrxW4JdZavTFfi67A1QI0oamSIBypoN7tqXsHx7eoIR5oZVbL02K+Yx6rVZ\n",
       "Ob1nWq9aWGK5SEq1ZKgtmDFHdVA9HQOWNGsEfH26Gqra8DeayRQNoJxxS6x11mrQjGVy+gl8gLlh\n",
       "FVsvEs89j8+Csnrm9aqFBfevDco+U1qc7RrxKvdfZ9dGAd+iV0NV216MZjLFLjmwoMEYZ8/3W/vi\n",
       "EGo3Nf0G2WG5wYqtVwBFr5PjDVX1zOtVCwvqtRgvrbU9cwFbrBZUub/epRfhfl0VZa2PeRXNAuVa\n",
       "7DJa7OsyTr38iIuNuNZHUFCu58XWC06VyycV8aGi+mOID2tgQVS8XH6nVNszV7ENnq7hORd5pNd3\n",
       "4ZcDOJP3u/Qi3MPjn7K7fCwDezkKYNu5cIbiAwWNREG8jMZuaoQ/KadeQXxc3dwLaTG+6WsGLeWm\n",
       "3M8L12slwAsKvRTVH8n89hitCErUwIKoYAGiem0069kmT9d1+ShfdbLJuUEc00tdeiFO+0Dvt5yL\n",
       "+YfgyxwF2mNH91vxQLBsWAqEke+gSHAauynVBVqdetF869+gXRWDi9JCCEy4KZfywvVqhzC6EJp3\n",
       "N9T9TtDLrg6v3mHWdp464l4AXjt56DbxUDIMyfFX1TPhizZHUFDCZGFnxEftA5DoDKIQ015dItFH\n",
       "OI3l6+ZV+y0E7VUnkA9M+bCfFrr0Qpx/CuLWGHoKW9zOURDW4RiwaFm00woK4rVo7KYU2+IYcOiV\n",
       "wJl1lw5v2i+Qgkj6fvAV3ZQLeeF6RXXjRPouwFpd0ItXd+Hge/b25wG2S13lSzmD4TacMMGUMs5O\n",
       "2RyhEleCsZg2h0S70J1zOkOAF8hZhdnoLmuCHGevitfgBCSISvvASBgEjVHeRd/uL5ffKJf/yPB4\n",
       "ox5x/XRfR+XeZCjT9pEfm93Ex50URlvitWjsphTbRibM2fnOKXN2xtHnewGuMddIUw1Z7UFjU3bx\n",
       "wvXyV4wdfzskc+J6aFfDa/jElexnWa/khPD7cxT6KPUyzlCMYwNXgrGY9gcs9xTczpBejVXCDQtN\n",
       "PvKOHDWv8SL0G095ywzpjO5Y55pfiMMeb8ERnzAGXose+ZCjcLRXQHUyPu6kMNuOchq7Ke1DIdf8\n",
       "Ir3+AqFJyzXa9zBe7Cq4KdfxwvWC1ia6fzl8zJmPYtXGyc488G+HnnONKe1nT10AODge/m5DFvWK\n",
       "DT3edg+MXsIxMd7UBg/rkO84c+mr0LkkB8nBzyIQkvMPmgdHxnFAUMJg2ddEK23kPxd0lgsQnSFU\n",
       "XQDfITm28T5K76SMEbHtkW9amYPLwunzNAu38Npfoa3Itpa8hj4uktdDPH6ttnfHeyE5xFF0TtOs\n",
       "I724f51WUbzEaeymFOf5R+T1cBKCU2JcidPyXYlyES+CXgdovEeuLq849TKrrwwMTIJWZHqFJ3HJ\n",
       "25Suw3/BzLo7Sr6UtqgQGu6M5rQRCnuG4cl/r8Bnwd9xcfs9HIJVBFwLG+FxgaNBUIJYtD9HaO9N\n",
       "vp3M9pjLnOgMoWILsA8u+optCK5MRWi8rlybBYY2fGS2m5byvHHtT8Nn7CinJ/d5iOF1mUsvxNUX\n",
       "cBuybDtEUwxF3e5Pg091pN8NMgXxMhretEPIqlt6RfH6IbzCj9s7gVi3S5TLeBH0+j6NmOS1ziGn\n",
       "Xmb1EPU+O5ijXlPo5SY9WumCULFLB9/58RxEpmiBpXoUE56dV8H+rM99D3ZgBPSEAbxbhwcFjgcF\n",
       "JYglmDUUiGYCrWbaweEMocK/wR8y0QquGOEXR5LG+3daSQrTR2b72Rq0n7rF/5Yd29z19NfgGywI\n",
       "F/VCnC8T5XvwV6CFnQaMvWXL0UvnVEd6FmU7KIjXpBGaHmDxu6gXxfe3wY8cychgKnRZolzFi6CX\n",
       "j9bNaBFOOvUyq1PUHYFHu7ufM/SagLmwCXyV5YsX57aCGdJgZy8H+DS0ULyh4+6KFfFMcvB8CLc2\n",
       "Aob2vA9fEDi2CEoQSzyXNLbhQjC1tLu7O+10xghIPkc/1Rsj2Vfy0XtH8BtDGz5a5yUWH+NVm/tq\n",
       "+z+s+l+M+5vTwkcPjRyvzWnmXbd3cHWeoco42kv+EzlVXnAbyBTEy2h4U1oKEzmnXhGs3Hso48gy\n",
       "anPGrkqUZ3kR9DKsPgP/0uXPU7AauyNSsuaXpVeX6a+p1wjNr8fM+YUdP2LMrzOw++UpM7x5Gg8Q\n",
       "WwSOBtcnJf356Jewvh7i6WdkZ3gAudX4KCmRixeMVf4JeEbw0Xr1grlBJtQfmoVHXHrJuMMWyq9X\n",
       "zwtSM7mpnTOzmxqZwSfBlY86p8oyxlrdlOSGVdx6YUAcL8l6YTV2BzvTGnrhuofLQDSjVYT5VZcO\n",
       "v47rSngY3sfDEi6Q/9Sm4HzlJ9BHwAaIGuPF4hh3KRHPd63R90FCX8aOxQ5nLFR46DBktRJ2Uwvs\n",
       "g3DbD4ocXZ9xpGo75JStmA4W870uXKxVG7ZQMXF/UWSEZQo7zxgTtjQzvevI9y6Rs4yH4ZW0m9JK\n",
       "KlNx6ZXccwwWXpP0Su454p+Ha1EHDaXON47svRI48dC87PLvwMB4eN4RPC9jj7Vfy8PgGDo22PSn\n",
       "woqBAYhcbszC2OIfVmKDFQRCw+gRctzm2OlSItTceBC2piMPVCC8S3LGnl8PrB3XI8Pgb/4xgoM/\n",
       "P5G30KaPwotSGnmnUi85c+vEJSq+koXqmy4vuFMlo/05TJ8YMsrRStSdj9wA543Tp5OyQyju+SXl\n",
       "o5yn3aPdz9eeeooMKZIQPOuhFZWfHJt7+r7u7pyUjxLTWvAy7LDACrQRM1L036N0TVbRifM3rbBR\n",
       "FTEvqGomUQQq7pTbqEod3gOWNcH8sZxEuVMoN6fXzVlkQlF5H1+T7GSd+D8zQtUShA4UPARzQ63V\n",
       "wey0mbJOnS5L5tX46VG+KjRy05Sq4qLceiPcgMHH3LDKe8fp62PSq/2aqtt1IZOo+iSxtmdnYM2l\n",
       "msH/d/ZJ/n8bXfrBs9msl2efoF6R0ZLXW7eQXpuh6PXWLaTXLq+vbim93vaihFtKr7WLM15vefGh\n",
       "Z55enl6eeXp5NoN6nfH+XuVsNK23T62X9/cqZ6XR36v8Lx46kxfhIZTDAAAAAElFTkSuQmCC\n",
       "\" style=\"display:inline;vertical-align:middle;\" /></a><br>"
      ],
      "text/plain": [
       "<IPython.core.display.HTML object>"
      ]
     },
     "metadata": {},
     "output_type": "display_data"
    }
   ],
   "source": [
    "inner_prod_linearity = Forall(\n",
    "    K, Forall(\n",
    "        H, Forall(\n",
    "            (a, b), Forall(\n",
    "                (x, y, z),\n",
    "                Equals(InnerProd(VecAdd(ScalarMult(a, x), ScalarMult(b, y)), z),\n",
    "                       VecAdd(ScalarMult(a, InnerProd(x, z)), \n",
    "                              ScalarMult(b, InnerProd(y, z)))),\n",
    "                domain=H),\n",
    "            domain=K),\n",
    "        domain=InnerProdSpaces(K)))"
   ]
  },
  {
   "cell_type": "code",
   "execution_count": 15,
   "metadata": {},
   "outputs": [
    {
     "data": {
      "text/html": [
       "<strong id=\"inner_prod_conj_sym\"><a class=\"ProveItLink\" href=\"proofs/inner_prod_conj_sym/thm_proof.ipynb\">inner_prod_conj_sym</a> (conjecture without proof):<br></strong> <a class=\"ProveItLink\" href=\"../__pv_it/theorems/318838941ffdde6544279bbfa1290898d0a139f30/theorem_expr.ipynb\"><img src=\"data:image/png;base64,iVBORw0KGgoAAAANSUhEUgAAAgIAAAAzBAMAAAAX0n3eAAAAMFBMVEX///8AAAAAAAAAAAAAAAAA\n",
       "AAAAAAAAAAAAAAAAAAAAAAAAAAAAAAAAAAAAAAAAAAAv3aB7AAAAD3RSTlMAq1RmmUTNIjK7EInv\n",
       "3XZ/CtNrAAAACXBIWXMAAA7EAAAOxAGVKw4bAAAHdUlEQVRo3u2be2xTVRjAv7a3vX3trkJieCi7\n",
       "hkVMhlhZQDHLLEzwgWiVxARnwsBniDEl8g9uccM/TGQj7UKIjAS4GGJg060BdXEjOIMaEx7yB0ZC\n",
       "qN5lw2SMlclAYEvE7zv33va29xRHwoakPaR3l3tO7/nO73zPswyA17ytrQrkQ2ttbeV3FN24EcoL\n",
       "ArtvXM9BIAz50hYVCBQIFAgUCBQIFAgUCBQIFAgUCNxZArbEb+Mc6Ri/RAtyd23ADxU8Av1nKCHf\n",
       "eQKucY8sHfdIe+6a7qG9EsBGvBFjjGrwLiLgraFrQ/ZjN2fo5/wO+u6Gb6fgulW8q7zrCHiCqZ3L\n",
       "eNxgHbqVLhstj7fjx7nsPF7P0AKVNIEAdc+2ErAxjQpOOAHu/JZWRxefPA6NF3voeoBrRoNtH+O1\n",
       "Fz9SIE1gKXW/bSUgkBq4IhNOgDu/pS1nUlmfn7Q8EeL85+zL6+nSgfvvHU0T2MRTLyTgDnCV6bYT\n",
       "4M5vaVdyeEPrXheH+brBFEhkk9LCX08TcCkc9SI/sI47wW0nwJ3f4vFGDVPOatYtiip8/5CmLNDd\n",
       "s2kC9MPF84Tl+LNm4glw589u0slUPMh6gcVMh1LxIKulLE0iT3HBFAuOJxJHeQT8icTZ+CTEAt78\n",
       "lsyJFi+hwO29+7o1hWmvAm8A7BYJ76VLn9HPImlyRiMqc5kxwkkKtVpJE3gGYAePgNAAHmUSCPDm\n",
       "t0S9mO7LQtIsQfNy8bngGNZdnpBgjS24RXeEej9LAHvVFSY/6r5GxtKQJrAeRPyqs2QJuH4wE8Cn\n",
       "62/rcucYN2oGAW1+S0OBxBe3GuNoxEsoc8QxamMR2i2vAFtMDyXmtoa+G0j1Y3sMnlSmghbcmEcg\n",
       "t1ofThPwKL6wZhjVSkZGtAO+pnkvyxuua2lB7fHO7PnajnUvNucMF2RIDjbmzOzxZfBuSMggoM9v\n",
       "9nu9LWEmUNSw8iLy7Usp1RN0Z+CFE+BXtVCS0U4BW6zRz7LBZeytBmcvEegwEbCrzBE1gxTOzAnn\n",
       "MUeIfsN9VZeq2bquewDeMKu1jMazmEtgj/YyZxc442YC+vym9lSDJhAcArMO9NGdX01bM2lyGU8H\n",
       "yGPo/aydYNmTMatIVlBvsgKoYUnyiNiVlRW7WAbtCYCvR5eKT+Ci2WBlP2jppKUt1V52DrRAm86K\n",
       "2fzJp/txw529+GVJU6oRE1tGgDn41RGvpqmoDBcMD2/2A2v0qKH3M1hXodUUNmhDmXqlCBxYxx5X\n",
       "qFkEfA/SXMVBcIV0qZph/+l5Ae/OjzCxPJgU3yoNEYFDdCNVIkCp70/ZNQNEcWflV4p4ENc82Bvx\n",
       "VarS7IOazyoO1irmNIMRoPmlyHQX+vj2YqUJ9mtyXu7uvpSKBWTRngjsD98HPgBFg9nMy6Wm0+VT\n",
       "o5/Sv222HoibUgdLLIA6YieN1fZkERC/ZxnG8u7vZF2qZhAvwVqol134Twi+NieOBD47DXizDb6k\n",
       "3NUvi3+cCiNhqcYW90d8ISG+Fqqq4UMQyaSi75/ISO4YAZrfAbuonPvgYRiAlUbUZpuVDuGoxo9s\n",
       "fh5eBu/ftO8B5wgvl2IbX6b300j7tb09TtmE3UEvqzDXhrYGLd4cza4Np+lvRI1ZaRAYhV1Qr3jU\n",
       "KDhjlH7dnzxHeZh7GDwqduJGunv/gSbMY8WIJ9gREfcNw6roEgWH4wsudjLTXpVBgM0P2mpnwixY\n",
       "2NLSItMeSj0Z24ZatDdpr8LFJGhrZ/Zf5ZUKtLn0WOvHkd4X1NL55lJBoB1fbKmOUdkvKrzquJlB\n",
       "0KRCAsMoYj3Y1Iry8nCToXRNxNUWcg4jAS8CIQJHYHBIXY3THClf4Nx9BewBFqz95I8+sVbH7h6W\n",
       "s/8KP0OjIZAnHSV/zCgC7ExSXw2vVPCHjSKA+u2KtYzMrguMdDqiCWchMMIgNBo6YBCI4n+3GAS2\n",
       "AOqAS9MBG+0A6UBR0HO+XqEe2AwLwR1jL5NGLVbALMFXI0AbwGmkqOVhKFBxMLM2TFkyugL4Br6Q\n",
       "mcHzakN0D1q/L+2jU/lzdm2oG9ruLpg7xiFAtjgCulSMAFoBarwn6FVNOoDeoU6BqVAnY222Hs1C\n",
       "inUoRUlP3KtuhfZS8DAtpJeRrSUtBIRzh89Dkwyli2pA3M4E6rSXTEsJ1MRGGxvajp/f0WJ4pYKb\n",
       "mc46rZ+NNB0dsfYoLT4w7jOigbHIA381aFLVHuvcc9nx06sloYo3oTsplnRiRoQhgG58yaeReN/Q\n",
       "O0J1dxyi8/tBqnr8PRwFvsNqaV8n266BMcX+S9y0c1mZgOyN0GFQW0tL9hmVjdTaoZqSytn9YTAC\n",
       "Z0abAuwUjPWb0s++1B0dzhZFbvmUjCPVTVoT51l1+tAvxifgVGzqKzc7J7Rkz7Zc54TWjtR3J+ec\n",
       "MMp5JkSsd5kEHOCszFWNlo3/rPg/CtpJOSsWS3hSdFkP9F2T/PsCas/RHpBHGTo72WfFXuNmomvu\n",
       "W2qF35qNm4C7L57nBDZBLM8JbM97Kzjz//Jfd4BAdXkwzwkUYkGBQIFA3hF4Im/+wmIgB4E8+guL\n",
       "fwGAhiaKYpA+SwAAAABJRU5ErkJggg==\n",
       "\" style=\"display:inline;vertical-align:middle;\" /></a><br>"
      ],
      "text/plain": [
       "<IPython.core.display.HTML object>"
      ]
     },
     "metadata": {},
     "output_type": "display_data"
    }
   ],
   "source": [
    "inner_prod_conj_sym = Forall(    \n",
    "    K, Forall(\n",
    "        H, Forall(\n",
    "            (x, y), Equals(InnerProd(x, y), Conjugate(InnerProd(y, x))),\n",
    "            domain=H),\n",
    "        domain=InnerProdSpaces(K)))"
   ]
  },
  {
   "cell_type": "code",
   "execution_count": 16,
   "metadata": {},
   "outputs": [
    {
     "data": {
      "text/html": [
       "<strong id=\"inner_prod_pos_def\"><a class=\"ProveItLink\" href=\"proofs/inner_prod_pos_def/thm_proof.ipynb\">inner_prod_pos_def</a> (conjecture without proof):<br></strong> <a class=\"ProveItLink\" href=\"../__pv_it/theorems/9efdbd8417101dd78b7487df0fcfa63b508988560/theorem_expr.ipynb\"><img src=\"data:image/png;base64,iVBORw0KGgoAAAANSUhEUgAAAf8AAAAzCAMAAACucvH3AAAAOVBMVEX///8AAAAAAAAAAAAAAAAA\n",
       "AAAAAAAAAAAAAAAAAAAAAAAAAAAAAAAAAAAAAAAAAAAAAAAAAAAAAAACXHtMAAAAEnRSTlMAq1Rm\n",
       "mUTNIjK7EInv3Xbt5cmRiLwgAAAACXBIWXMAAA7EAAAOxAGVKw4bAAAHF0lEQVR42u2di5KsJhCG\n",
       "lYvctJP4/g8boEFBGMXsbs44C1XJWCziNF/zdwPu2WFoLtqXoZfPKLdxLqstrA/chxTlcKo7/Hkf\n",
       "tA8rtPPv/Dv/zr/z7/w7/87/V/EnLgOmv4s4czbrzt/zH3/nrJ87/86/8+/8O//Ov/Pv/Dv/zr/z\n",
       "7/w7/z9dRPiUDW3lf+q5839j/kACrBYu6pYDcKjz38eA0Bb+7e0fwv+NDCImXBjS0rrpXQxjgPm5\n",
       "D7TKn22zehIt/NvbP4T/+xikp22o2wS5oc1kPUkv3rBJ1/jL6P+XmoP829s/hP/7GMTorZndohLU\n",
       "+4jxllFWjf/RLS57C/G/uf1T4v/bGDTfjOyZw+qpFr2UN5HgiU/knvOn4b6pMf9rbv8U/u9iEJmK\n",
       "OHAl7mnA0maBogW+rylX79rRQw75/7y4MpvW/L+1/WPy/zcxiMUvEDI1DTBqaXJZyirJ4SvDYvIX\n",
       "enXk73s0Y5U/82qjdCv/1vaP4f+TBt3odBPwkNdZdDDCwLI0L69cynjP0ieK1SB/rwx0qvIXY/yf\n",
       "WyaOK3O+Nc3sFf+s/XuCLRJ5OOP/QwZxV0Zo318hEQGysUZQG7jHNK4fKhmvRBEmSv7+g8z1/R/n\n",
       "+Sb2BL4RN/r1/k/aHv1FsFVl6Ycw82KullPazLMxbHy17IbZjQgAGHlLmykvPZmd7f9kA/BthdoC\n",
       "N6LKHPUVP50osWMmcKiUNafl06g3/feP5zj/5VrnTyBJfnzGCPxE//P26C9yDbAljErxLfO8KKNv\n",
       "NLGTxasXZ3Zncuqx4sncnPDPDGqN1m2qr9sFKfLfN2qGuaYeSSUxVf57KMP4TzD/4y/mv7Wdbn3a\n",
       "VEEYfRb/8/bI2YSuGZNZfRN/WF/8WJG4KLrDP4pi7smTfs0/M6g2ohWRO9ssQC0xBkwpSLEX9lL/\n",
       "9/Sfu1l1/B2ttLKyY0WmMalUuPLH9R9ZXvA3ZBsdO5HpDMM5/6T9gKllmMKJ67rR12qRBNILey8F\n",
       "GMQ0EcYif+s8scL2AOh9YK/c/EcxE3axu9gfuexGGIqIwYC31Xc5AKGGpklR7smV1f3OPzVoF9co\n",
       "ZYXIXfDHVMJ5FFelIIVeSkFScdiVa6Dto0d3g0kEJa+s7FjZ/C9zCeofGSJGPO0p+It5GwlYjTDz\n",
       "Bf+kvVyZsQUFRqvDzoNw9Y7iduElnVopIsIgf00WOcQKN956iYshF//Fsi4etx83sJaM9kezvTYM\n",
       "m2GXbjyFG0ExVT25sqe2808M2mWEyaEuclf8cQLO7nbPOhOkrZfC48yYqjpZpWa2KSc+jqNRWWXp\n",
       "08X6D0VFzzJbYJbnf6PMBKOetCTnf3v73KdpwV+jX8cLn4LYWSFRkcbFZne4rewrMEOx7Xx7T9bP\n",
       "Q5e/SP+klQ/CPstKqHbPFDp2aR2RYKRXVU/m6oT/bhAAE/7ABNKsNBO5kv9207DPbLTAZ7BLtZdC\n",
       "kOS2mnMXmllRI4xiq2XxtuWV+fJPQ2X/x95hRVIeNnBOzn/9d4RVn/M/bjCiF9gFpvKF7Pzd2MJ+\n",
       "QWeXFfMAcxi352MFytXIbJCL+Z+OmSu2mKnXfWsqX6PEYZdcrStPqB48WZ7y30gK953sc1Mpy0Wu\n",
       "5L/dxLz1f9n/aHDohaaClPVSCtIiT2JVhUjWg16uTi/FMlzyDxO5KgBV/ujTIdlLl2l1/nEJEnw9\n",
       "4b/sK5Qpnf9j9PRt/jtDFWgRnDR0KXXY4IigD558qv97vESVyqWsFv5T/ttNaQ6E/GdIBCnvpRSk\n",
       "7YCmchJVA6LunVdux0uv+YNaXQQh82ra+Adr4m/RJHtoO38FyYXLfTW8mv+YK7jv5zYFhFNPP6dd\n",
       "RuUHFJTVfftp48agjO8qdOn5ql0Vj54M0MI/huxMynKRq8b/3TWicKB7usm+CVLeS0WQNqBFbqBr\n",
       "0n5vybo71fe9/+P8RVgD1xBiRDy5Em5rR2i74rH6PPHtwq+K7PQe3X1+/0eHlHnF7SIDIZAam/8v\n",
       "k7TJkxNN3MQm4JcIjFJpNQK7GsInYUCxCz+KhSdXJkuVv3NEkUtZLnI1/uEmp/9//6O8/u/5XyZI\n",
       "ey8VQdqCTrEara3I4N7rKvsA/OD7X9o463/kRTE5t+671rRSq6GBv5gHM+HaPJGyg8gd+Sc3pTty\n",
       "zjdxK3ep9lIRJFzAtO533Nuwht3/n/n+n1ybA51oq6vMfwbciolOpawQuWL+7zdlbuPevNKZIGW9\n",
       "qD/2ttEj+bsI0dq23L+kfGji3y5l9ZEj8BVB6vy/qejLimv+V+G0fmLxJUHq/P/X8v38Cf+SIH0A\n",
       "f2mz8F/B/970bROk5/N36a/6FfwfXH6Q/73fSen8P42/O6Z4zIuB/d//+Xb+3FBKh14eUvq//9b5\n",
       "d/6df+ff+Xf+nf85f9r//sMHFQcTbvHvf//hkwr+/Yd/Adv6Rj0egPBGAAAAAElFTkSuQmCC\n",
       "\" style=\"display:inline;vertical-align:middle;\" /></a><br>"
      ],
      "text/plain": [
       "<IPython.core.display.HTML object>"
      ]
     },
     "metadata": {},
     "output_type": "display_data"
    }
   ],
   "source": [
    "inner_prod_pos_def = Forall(\n",
    "    K, Forall(\n",
    "        H, Forall(\n",
    "            x, greater(InnerProd(x, x), zero),\n",
    "            domain=H, condition=NotEquals(x, VecZero(H))),\n",
    "        domain=InnerProdSpaces(K)))"
   ]
  },
  {
   "cell_type": "code",
   "execution_count": 17,
   "metadata": {},
   "outputs": [
    {
     "data": {
      "text/html": [
       "<strong id=\"inner_prod_scalar_mult_left\"><a class=\"ProveItLink\" href=\"proofs/inner_prod_scalar_mult_left/thm_proof.ipynb\">inner_prod_scalar_mult_left</a> (conjecture without proof):<br></strong> <a class=\"ProveItLink\" href=\"../__pv_it/theorems/343fc9fa10ce84b7d9ccc47f29a6f93a622982510/theorem_expr.ipynb\"><img src=\"data:image/png;base64,iVBORw0KGgoAAAANSUhEUgAAAmcAAAAzBAMAAAAgHLLqAAAAMFBMVEX///8AAAAAAAAAAAAAAAAA\n",
       "AAAAAAAAAAAAAAAAAAAAAAAAAAAAAAAAAAAAAAAAAAAv3aB7AAAAD3RSTlMAq1RmmUTNIjK7EInv\n",
       "3XZ/CtNrAAAACXBIWXMAAA7EAAAOxAGVKw4bAAAHkklEQVRo3u2bf2xTVRTHz+vavvb1B034R/iD\n",
       "1bBIokIaBmgIGYUBkhCgBv+BGdcsUXQxpovGhAxZ4R+joC2SCSUB3oxRmQLNhiwCwQoqMROcCX8Q\n",
       "ZPrmUKKDMhlzuCXMe+7t6/vR2zYTFmJ4B07X9d7vPfd93n33nnubAfBMam+XwbKJofGNj4ctPlxz\n",
       "j48ni0CLWHSKWoUFzYJmQbOgWdAsaBY0C5oFzYJmQbOgWdAsaBY0C5rJ/L3xuyrPm0jcVbpKvIjM\n",
       "YC6uLMac9IZ26D5D80TurjxvvxLfVLrKniIyg23iyp7LOekO9ohAC2DRzEJoAv60hSYZWuko5cpV\n",
       "s6XJS0fpOlVFZAbr4Mr8IeYatOVYtLEQmh3vsjM2ydBKRylXrtpH+NJTuo6viMxgPXxZI3MN2lZ8\n",
       "tpOF0FyB8kP+7qGVjlKuXLVaHDbhMrGCXJlx6IX5snnMNWhOmdMgzmmN5Yf8PZjTSkYpV65ahri7\n",
       "zJohJrkyg3HaoDKvTF2DVkEeVidvIagmP6OTDq1klHLl6gCJcp81k23kyso8r0zmDFHXoMG53t5u\n",
       "HjRvb+/l9KRDKxmlXHnO7Fihn3jTqS35D6Xs9O1siEpXQtAG8BhXppdgG1yZJ0BdB20lwF4eNHsc\n",
       "3PK9RDRLfaPooJSMUq48ZzgQcA53nIUD+bp26FNWs1ZsGVisrgSre9F+VGUGCbbBlVVEqeugNYFI\n",
       "QDoql4Lzaz008mkTefv0reBr/7A1v/lcl6m70snuo1P1H1wLQnZgOz+RjqhB7DoouSiakXjwcrh4\n",
       "uVZN7Rb4yJTsINfwWQhW5ys8AYtl1rVt9h6YBiwdMIyMoEmCbXBlBB+6DppbpjnkNYA62ZDc7oXP\n",
       "MUnJgGuE5Mp9qQjsLOi7EACnfslxBsnQWMKF1pYP4kjrklcWhdq701ppPMdxfrmpGnaLmjfCrm0t\n",
       "wE/4+5EoTeVX5IplrwLngaUDevNqEulvOjgjRWSuQeo6aDaFrgM7wR8x7gjm0BnYTZ5lAnpZnNbh\n",
       "QPMP6tefoBdYXlxgy7UgjTooc/LzvH0lsHi/AbfcXM2T0V09Jp/fgTRMe89u43lVUS+7bnNSWZSp\n",
       "kguQS2K5MkeGug4aRGuwypB43LSNclbg5DMlhGOJtbcTDl6cE5D2besD6MyKL1SFBez76w3LwF9D\n",
       "5P7+34PO6SCK+2qOymInwTTQF/PUKP6ZnSxxzAXp0EGhUaTOgRidyjFeswzmcv+VLU/hXiZANjBq\n",
       "NW2I43MmRUG6AxW6G+gYgXb2bgWOy1yKrJvTiMwokaJFZLYe6npoHXjjXSOLFBM0zyPY+8SqE18G\n",
       "4SAwaOJNaICWoJP8s4eenZUWAtLsuON0M7TCIYBV4A2Kv1yIQCLmjwppb8wTtqcboLYOtoAY1YJU\n",
       "6aDQKIdiiZjEEqnEq+cNe09aflVINpCLUkZdGbUa7VZueGOju0G6CUJUXW2kViEDaZBYt8m4LEyR\n",
       "icwgoW1wZYiJuB7aZnzY/WPNGRM08Stg01AiButUaKOwH1pkt5IARzIhg/BzlmweRvGJdyuk0Bkk\n",
       "s98d2AEwLMbcoSMx8ZNBWJ9YSiaypBZkvQ4KjbKMKBxsWr/RddIAjZaH3AqZHsQPevzJXDXWrVw1\n",
       "vACSGuyH2WF19Nluf5hxBNn0tgTqQ5wUGWV6CbbBl2FyQlwPTcDpyp2EbvMpx0MMFHZwQSqVCiK0\n",
       "QZgBLSAoi6qrIwSNgA24MlCRASHsGCTQyE1KILQzMHBdqSchzlTPdxwYBltAC/KW/hQDo3wDfVDx\n",
       "Uir1HkAKvGkwl8MUCkhIC0quGutW7kCnh20S2wbenKHm9NIapWou+fQSLkGn1sY4+0qU6SXYBl+G\n",
       "OHwRAzR1jrgh846GhmgHt6sjTYWWIL++o0LrwZHmZCNNwNg40nwh958tMl153oYF4EpqQapMRz/S\n",
       "COxqd6Vz8fyjhUdDO+ihli/ijeer6Zali/y9Jdqj9PUYd195sfj+1Ch7g3kBNDLWtTusg4br+hDk\n",
       "EkwKjTye5FF0hyRFN9LITLdZhqmwOTglQhKrhOxPHpF9WXdaUnbB4Spw01umBsmaoZx1DS9kKTbG\n",
       "6zZDEzPHICylwRevB63aUL678/h7SzQSzhOVTpMrKDwqmVd8f2qU1TI3Q/MfOA6Pj3Gg/TEWe/iv\n",
       "OIh4GNf8fVfbrYpvN1SGFz0PJ7JiZRdJbgnNprEYeLJkefP0X3/RXnciDYm5V8Bf++QrpBZ4TilV\n",
       "/V04y+aD7DZDe2buQAg2xWk82fZD2ly+pi4ru06DrfZ9UKvRbqlTekyXxxizb7JG+BQhzd1XFnJs\n",
       "5MqQJXrBSCt3cvtpKjWB09wdnM/qtCtJck9mpS9SraVObm3wMeziVWMN1nAPzFFXszy3N+XJDFbD\n",
       "lSFc9AlDm5gleNvqWME7T5nvAIzlG2CGo8iBB266hdJdChSRGXN1ruwqc//lCPk/adDESt7BRD55\n",
       "nv/fWg3BuoEH7tsoSX0jw//arO89JxWaqz9t4ZootK2QtHBNFNoeC9bEoV36v0/f9wNaXXXIwmWt\n",
       "nhY0C5oF7QGCttD6I9lim8H2w8WgWX8kW8zwj2T/BTzFl0qrHaDJAAAAAElFTkSuQmCC\n",
       "\" style=\"display:inline;vertical-align:middle;\" /></a><br>"
      ],
      "text/plain": [
       "<IPython.core.display.HTML object>"
      ]
     },
     "metadata": {},
     "output_type": "display_data"
    }
   ],
   "source": [
    "inner_prod_scalar_mult_left = Forall(\n",
    "    K, Forall(\n",
    "        H, Forall(\n",
    "            a, Forall(\n",
    "                (x, y),\n",
    "                Equals(InnerProd(ScalarMult(a, x), y),\n",
    "                       ScalarMult(a, InnerProd(x, y))),\n",
    "                domain=H),\n",
    "            domain=K),\n",
    "        domain = InnerProdSpaces(K)))"
   ]
  },
  {
   "cell_type": "code",
   "execution_count": 18,
   "metadata": {},
   "outputs": [
    {
     "data": {
      "text/html": [
       "<strong id=\"inner_prod_scalar_mult_right\"><a class=\"ProveItLink\" href=\"proofs/inner_prod_scalar_mult_right/thm_proof.ipynb\">inner_prod_scalar_mult_right</a> (conjecture without proof):<br></strong> <a class=\"ProveItLink\" href=\"../__pv_it/theorems/d7b96034cbc3850471cf40299bc5d7d7338616dc0/theorem_expr.ipynb\"><img src=\"data:image/png;base64,iVBORw0KGgoAAAANSUhEUgAAAmcAAAAzBAMAAAAgHLLqAAAAMFBMVEX///8AAAAAAAAAAAAAAAAA\n",
       "AAAAAAAAAAAAAAAAAAAAAAAAAAAAAAAAAAAAAAAAAAAv3aB7AAAAD3RSTlMAq1RmmUTNIjK7EInv\n",
       "3XZ/CtNrAAAACXBIWXMAAA7EAAAOxAGVKw4bAAAHu0lEQVRo3u2bcWwTVRjAv+vaXnttjyYkRjDZ\n",
       "algkASENAzSEjMoASQhQg//AiGuWKEqMuUVjQoas8I9R0HaSCSUBbsaoTGGXDZkCwQoqMROcCX8Q\n",
       "ZHpzKOqgTMYEt4T53rte7931tc2EhRjug6+Ue+9737vfffe9771lACwR2tpksGV8aAJjYxGbD1O8\n",
       "Y2PJAtCiNp2CUmZDs6HZ0GxoNjQbmg3NhmZDs6HZ0GxoNjQbmg3NhmYRsTd+R+054ZF6ineJFzAz\n",
       "iYdpJmmKZkMmdI+h+aJ31p6TX5BuKt5ldwEzk2ximj2TVTQdPCMELYibpuVD4/C/jvAEQyvupVS7\n",
       "Lg4FfXQU71NZwMwkHUwzMaypAW0pbtqQD82Jn7JbmmBoxb2UatflA/zRU7xPoICZSXrYZhs1NaBt\n",
       "xe92Mh+aJ1g65O8cWnEvpdp1qcFhEynhK8Q0M4dehG02V1MDmltmDIhz2sbSIX8XclpRL6XadUkj\n",
       "9ZZYM/gk08wkjDGImV8makArQy+rm7UQVKF/YxMOraiXUu16gMSY75pFNjDNSryvmpk7TNSABmd6\n",
       "e7tZ0Py9vReVCYdW1Eup9qw4cYd+ACEzdXs2KvmHLqt6s3ApDK0AM5lmDSe2GFdMY1BmviBRCtpy\n",
       "gD0saM44eOW7iWi6/kWloBT1Uqo9KzgQcA53Qp+6Uru0XvKO5EZxpGGRvhKs7MXyg27mOg37ZXod\n",
       "MMagzMpiRCloDcAjkK6KxeD+ioaGrjagr0/dCL3yj7bmN57pskxXON59eDJ94UoIMgPb2YV0VHfi\n",
       "pKBkvRiC/MGLkcLtRjd9WhBAKdmF7uExWCRrsxFOgTO3Em5DX6eAVg6YIgOZfRKGlbkL5jEoM4QP\n",
       "KwXNK5Ma8gpArWwqbvfAp7hISYPnJqqV+1JRaM6bOxcEN73kuEMoNJ5gQmvNOXEpVPGqeSHy9pQW\n",
       "4s91lN1u6YanRcQf1e4tDsv0N28QAtiJ8Df6kP0qnAWtHKAFm60G+FHvZxmDMvMMEqWgOVSyDjSD\n",
       "GDXvCGaTDOxF7zICvSRO+jCgiYP0+hPyg1YX58lSw8lGCsrsXJ53LgfN36/AbLd286WpuxdJ1J3V\n",
       "ryShndzNOfxRJ3tuMUpZbPYtCMO5fuYxKDNXmigFDWLVuMsQf9SyjXKX4eQzKYxjSRuvGQ6cnx0U\n",
       "9m7rA+jM8M9VRjg891frl4BYjczF/t9C7qnA83urD8t8J8I00Cf5qlVxWqdWOGaddFBQiBehc0DC\n",
       "aZj4a5TB2i5e2vIk3ssE0QZG72aEOH7PBIzWdRPayJV2FacjXZbhuMyWyFROQ2bCbSgznrl5DMrM\n",
       "0UOUhtaBH7zn5kLVAs33CJ59YsWxL0JwADRo/HWoh6aQG/1xhtdPV7igMCvuOtkILXAQYAX4Q/zP\n",
       "56KQkMQYp/glX8Sp1ENNLWwBPmY4qaSgEC8HpYQkaIVU4uWzpr0nab/MJevRTakjnrTejUwrG954\n",
       "0F0gtHBpUEDA0ELwgCO3j2jGcZlfIiMz4TpwsdwCZR6DMsOYkNLQNuOXXRxtTFug8V+CloYSEqzR\n",
       "oY3APmiSvWoCXMmEDNxPGbR5GMFvvFdFje4Qyn63YQfAMC95w+0S/9EgrE0sRoksaThZS0EhXpYg\n",
       "C5eW1q91HTdBI+1hr4rSA/9ej5jMdtOmle2Gb2AmOG69n3aFoD2GeTjO5ZYblGPrwowSGZvtg1kR\n",
       "IyebxqDMcHGClIbG4XTlTUK39ZTjQQ0UnuD8VCoVwtAGoRyagFMXVlVFERoOD+BJQ1kauIhrEEFD\n",
       "DymBoZ2CgatqHXJxqmqea/8wOIKGkzfoUwzs5Wvog7IXUql3AFLgV8DaDpMIIE7h1Gw3bVrZA50e\n",
       "skkUVqmVc9CXCygmyz9r+N1Ygk6slhj7SmzWOvB6eZzaaFJjUGYYRyBqgqbniGsy62hoiExwux5p\n",
       "OrQE+u9bOrQeHGluLdI47BtHWiDs/bNJJivPmzAfPEnDSaXl6Ee4CTvbPErWnziSfzS0gxxqBaL+\n",
       "eK4btSydN+0tZ+QvQkeY+8rzhfenM0xmr2maBw3FuvGEKWh4XR+CbIFJoKHXE4W/NyyoVKShTLdZ\n",
       "hsmwOTQpigqrhCwm2+VAxqsI6k44VAle8sh0JxkrlNOe4QVaiY39dVuh8ekjEBEUCMTrwOg2lJvu\n",
       "XNPe0rpK+mLCSXQH+UclcwvvTxWTWY2mVmji/qPw6CgD2h+j0sN/xYHHh3GN33W13ij7Zl1FZOGz\n",
       "cCzDV3Sh4hbRbBiVwJdBy5uv/+rzztpjCiTmXAKx5vGXUC/wnVAr+7twls052WWF9vScgTBsihN/\n",
       "suN7xdq+qjYje06Co+Zd0LuRaekpXaLqGEG1FrEqpzD3lfkc6TEMM8wSa16klTq5/TiVGsdp7g7G\n",
       "tVpjaU8yT2aFz1MtxU5uHfAh7GR10was1p9/3sa8eqm2rwSWmUnoMQwzDBfruKGNTxKsbbWU981X\n",
       "4mcA5vZ1UO4qcOCBN91c8SkFC5iZa3Wm2WVNxYtR9HfCoPEVrIOJXPE877+NGoY1A/fdT6ME/YsM\n",
       "/2uxf+45odA8/YqNa7zQtkLSxjVeaLttWOOHduH/nr7vBbTaqrCNy149bWg2NBvafQRtgf1LsoU2\n",
       "g22HCkGzf0m2kOBfkv0XCVqYOuCG12QAAAAASUVORK5CYII=\n",
       "\" style=\"display:inline;vertical-align:middle;\" /></a><br>"
      ],
      "text/plain": [
       "<IPython.core.display.HTML object>"
      ]
     },
     "metadata": {},
     "output_type": "display_data"
    }
   ],
   "source": [
    "inner_prod_scalar_mult_right = Forall(\n",
    "    K, Forall(\n",
    "        H, Forall(\n",
    "            a, Forall(\n",
    "                (x, y),\n",
    "                Equals(InnerProd(x, ScalarMult(a, y)),\n",
    "                       ScalarMult(a, InnerProd(x, y))),\n",
    "                domain=H),\n",
    "            domain=K),\n",
    "        domain = InnerProdSpaces(K)))"
   ]
  },
  {
   "cell_type": "code",
   "execution_count": 19,
   "metadata": {},
   "outputs": [
    {
     "data": {
      "text/html": [
       "<strong id=\"inner_prod_vec_add_left\"><a class=\"ProveItLink\" href=\"proofs/inner_prod_vec_add_left/thm_proof.ipynb\">inner_prod_vec_add_left</a> (conjecture without proof):<br></strong> <a class=\"ProveItLink\" href=\"../__pv_it/theorems/e835d47bbeed82e36da2c0f0b030ed79ff692a650/theorem_expr.ipynb\"><img src=\"data:image/png;base64,iVBORw0KGgoAAAANSUhEUgAAAmcAAAAzBAMAAAAgHLLqAAAAMFBMVEX///8AAAAAAAAAAAAAAAAA\n",
       "AAAAAAAAAAAAAAAAAAAAAAAAAAAAAAAAAAAAAAAAAAAv3aB7AAAAD3RSTlMAq1RmmUTNIjK7EInv\n",
       "3XZ/CtNrAAAACXBIWXMAAA7EAAAOxAGVKw4bAAAHw0lEQVRo3u2ba2wUVRSAz+x7Z9thE374DF2l\n",
       "wUQQJxbwDykr76jIKvEH1NhaRRJ+mG1MMFAeC4kmvGyRIBQiDEpASqxLQSoUm7Uq/uCRKtEQwuI0\n",
       "JRKDWQkPISUGz71zZ3Yed+k0lhDiXHLZ6Zlz7pn7zbn3nns3C8Arra2t4BVuEVtbFf6d325f8/Dw\n",
       "S/T27Wb+nV88OKWL34PmQfOgedA8aB40D5oHzYPmQfOgedA8aB40D5oHzVakfGZQ+mmsLiwirm0j\n",
       "bowzzDrNHvgeQ4ulBsc4ARBuHlgvmnFry9Fc7JBswfo6q+SJEVqcyEc6oXHlQw5NIB8+2Z36aGKS\n",
       "GFjPl3Rry9Fsd0gqCXNZqwzaNCJf4ITGlQ85tACJtVDalbZYh/+Vu9HscW3b40JCzRZqlUFbCZy4\n",
       "RWhc+ZBDi8S5I4JbAjJ77cUyh6/Z7sbWohmUS8ceDdBxWmXQQgonbhEaVz70c9pCbh+5pUyfYIpl\n",
       "LF9zsRtbi6ZPLT3L0dApU2hl0PzIOMRZCLjyoYdWhR917rRH6cNsQGjO8c6xtWga0HZzmiOTVEim\n",
       "lUGDk/n8cd7qyZMPPbSyfP5c1p32C2xCbuv9vDNhgSZekGEnyxjymXfBl3Vhu/5MWDY0DWh92Frh\n",
       "4bXtpta0RSROqw5tJsBWHjSe/L8Un/H6VRO0QAaiirsG3mSTclIaEeixQIv5cjCJRcqlbXE2mwfy\n",
       "tMT5tuI7h/cX530DGv4dgF51lrk1Yuivo1WH1gBhvBGsmAyh783QDHl49kZN2niyw74oHT1+cLg5\n",
       "G+oGqfA1P3LGG04CJmjoo6E0J7N3+Bnry/jMaX+/IFugrUIQD2mXSyCmsKXfXJy2YQWOgKGpQwti\n",
       "l5+FScpwc2tkicfXQqoOLarQHPNPgBrFDK0ob8IYifS2pGCDo1dCHELm9aYeAzQQ5yYMccNJMGtK\n",
       "brfCV/y0njjUvdPyg9bHCAS0yWlWPn8in/8Jr5QyFU7pfgiKlfbW7Lak7FOYJobkuZNaSBI+GZhe\n",
       "fGrSGlniI5dp1aH5VDrfbwApZRmehhyO4sfUjHbthCZdNv39EeRYXuxY9FNFJwtN0MaWWAeoQ927\n",
       "0fE+uhSq9oWgVoncZJfL9VTWAc1mG1ZNmnqkSTQMTxl2tDUy8QVztOrQoK6a3LkaPmLbRjE5wFt6\n",
       "Yxtg75mxcfGTVb0ABwrhtyuTCC2WW1Q/FaRqNC9U18MbCqQXn770PDSOS4HU9QDEqlVp5AEtRWRO\n",
       "2k3QQn58XunC8hlkoxKnwNcveJU5ZN6LQ4wubrVpUbFCmw5Szki4FJaUm+c0ju0cEIvpuw6NrrDB\n",
       "G9Bqbo0ssb4eWg1o7eTFR25MVG3QNPm1zs4rAHtBgxa+giNwRSKE/wLya09khbj4VCbY3Qib4AsI\n",
       "ZKEblv0zDRuD3+ER+BEO4rJVD1Nq8I0tMjmpNEGLjcLHuig01+MTq/0R0veZNUnmkHnXynYyZ6Rh\n",
       "b+pRiNkibQNE40BhPE4C3ZmUW22Jpi8BQjF9NxaCzSBuEnKQpUS11mgyR0hhNaAtJe9CutWYs0HT\n",
       "5DmCgKXeCK0f/a9QomoTBJubFBDOF1IQ6SfDPaquUJAQfFihYteHpd6DjeINWIJ35jZNVmCuyclc\n",
       "E7Twt3ghR1UcjeFPeyTaiUbdIfOulf3aSHl6zYvwig3ac1Ari38Tytu2f5PhJOUWW6q5+vClM8X0\n",
       "3YA2Gnw3d+WCCfiyTm+NDgwMCFINaAKZPaLNcNwGTZPHaeRPaGlpSRBol2EErABBnVhVlVqHOqQB\n",
       "ZOTPgZCsJQuBggBRUCZLXeeDON35v6saH9xxHR4zOVltPuV4kFwNo7O9kBXIw0dU3SHzzhIrLSXY\n",
       "VfBNSdig7eyanYY82cPAmPm8TabVlmhmfcdSRU0DWjmIL6mVz+DFWb01mpaUp2g1oNEyTIa/FM7R\n",
       "EMrxyWGtHmk6tCbtSTRoPSTSQlqkkSyJRtpp2L6nX1t21sAECkp3Uuk4GlpHT6zKU2UZOtssYQ6Z\n",
       "d9afjGPLVdwRHMKOK+ZzCdum22Lr1DSgFYP0SctRyDKtWqHhwl6W5UBDOT45S0ApNByeOBSjsqia\n",
       "Ig1pLVUEOdwN1zH1wvH6h9gP59Vt0AYboa0SovSd6k4KNmjh3CFIilnsWi3sg3D9+83MIfPOTkyT\n",
       "jm0l27DH6sRuMCY6MjE5Tlsttk5NY8NenA4NGlHyPqdo1QJN2nEExtxyQpN2dPgqcACFyWa38UTH\n",
       "zmv+Y/MqkhPnQ2chXNGByS12ruFWGmIFXP66qn/NTOvshMjVsUm4UPWBGutSAWtlXwdxbTjZbI+0\n",
       "l2oKSqQbfFM+hnWJwGfH0ppD3buphyHe9qFcFbCLbZZzIFux2N5JU0+HRGNd3M1YkmqNtIFObve1\n",
       "tLg/Zo3kOMl9MY7FZu7JrQ/2YFhCoqRDsqL6Vd4OrXqaeXcmcQ41LbZ30qzWbxmSPhZtpA4O2qBK\n",
       "5DJHOKOY5+o5fszyHcE8GBGsg2DpnShNR+MDuxdc2wpujInVRa1K5+4etIZbvCMNxbQL5RUZ5lzC\n",
       "R/K+jTIXxXFxfxbve8+7Ci3Sl/VwDRbaSmj2cA0W2hYP1uChnb3fp+97Aa2mSvZweaunB82D5kH7\n",
       "/0A77f1ItlQRW9tKQPN+JFuykB/J/guLEpaejptfugAAAABJRU5ErkJggg==\n",
       "\" style=\"display:inline;vertical-align:middle;\" /></a><br>"
      ],
      "text/plain": [
       "<IPython.core.display.HTML object>"
      ]
     },
     "metadata": {},
     "output_type": "display_data"
    }
   ],
   "source": [
    "inner_prod_vec_add_left = Forall(\n",
    "    K, Forall(\n",
    "        H, Forall(\n",
    "            (x, y, z),\n",
    "            Equals(InnerProd(VecAdd(x, y), z),\n",
    "                   VecAdd(InnerProd(x, z), InnerProd(x, z))),\n",
    "            domain=H),\n",
    "        domain = InnerProdSpaces(K)))"
   ]
  },
  {
   "cell_type": "code",
   "execution_count": 20,
   "metadata": {},
   "outputs": [
    {
     "data": {
      "text/html": [
       "<strong id=\"inner_prod_vec_add_right\"><a class=\"ProveItLink\" href=\"proofs/inner_prod_vec_add_right/thm_proof.ipynb\">inner_prod_vec_add_right</a> (conjecture without proof):<br></strong> <a class=\"ProveItLink\" href=\"../__pv_it/theorems/f291383b97a45f98bb01bd65635e5be8516d22b30/theorem_expr.ipynb\"><img src=\"data:image/png;base64,iVBORw0KGgoAAAANSUhEUgAAAmgAAAAzBAMAAADRF+lnAAAAMFBMVEX///8AAAAAAAAAAAAAAAAA\n",
       "AAAAAAAAAAAAAAAAAAAAAAAAAAAAAAAAAAAAAAAAAAAv3aB7AAAAD3RSTlMAq1RmmUTNIjK7EInv\n",
       "3XZ/CtNrAAAACXBIWXMAAA7EAAAOxAGVKw4bAAAH2ElEQVRo3u2bb2wURRTA3/3du7277Rm+CFF6\n",
       "KhEDiBdQFCHlsBSICB7yCUtsgyJKDDmCkhQInCR+UApXNRUOAiyEIG0jLH8KoQWsoHwQxJqoadTG\n",
       "LUUNlhYUFGgT65uZ3b29vd1yF2yMcYfM7d7ee/dmfvvmvTd7FMCs8fX1ItjNtNXX15t/EOrvj9l4\n",
       "zNuO/lsW0OI2HOs20YZmQ7Oh2dBsaDY0G5oNzYZmQ7Oh2dBsaDY0G5oNzdC62woS57D78pBL5q2b\n",
       "zEPZp2hz6oD/ZWiNhYlfwF6Vh9zmvHVzJbka4xU/YvTIrNMRT4Qwuf5ALjQHOTqjgwytICtOCV8O\n",
       "5iE4Im/dXMlAJEc1hi+dSmfQysj1xbnQ3MTZvIlBhlaQlT3kpTUPwVDeuqF8dImaV2SdQXvTzCUR\n",
       "mi+c51q4I2gFWSlVb7tJ80QH9BYrXU1S0zfxUuKgrhjrDBrBl2OExLQlea6FO4tphVhpUQKM6dKV\n",
       "B4xLVrqapKZvEg/pTf2cdQbNhYi9ZolgPB4rBx1aAVacleoyux20nHBjrbvYoM+bDIaGjxdZZ9Dg\n",
       "i/b2s2bQgu3tP0iDDq0AK26JBWO+Z9h65pz8xSjsNEDb0MZFYXTeuqMN0AT0oX0de5uVtedrTy5n\n",
       "SeQA6wq0mQBbzKC5k+AX/0lCI9UTQQetACveKAvKbuiQZ7OI5GyBKQZPWXrsgBrNZ7eT9tWAuiED\n",
       "NPI+Jgx3KzljT9fWMMsEE1hXoC0DDq97ip8C76d6aHh1GZ7OvR55/RaLktzx7415ruFc81R9CL4c\n",
       "gZ6u9aZzdsXpl8FrMYhloClWrJrOOoTw7ntwqI/DFHEIvbIO5zY0e9KcCE3AUn+WF1jpqpKq/lwc\n",
       "aMLV61BsroQA3lJSYYxhXYHmFwNE8TJAuZhV3G6hEkIL+G6gn3ak4+AP58zqLoCX9N4QQdeZajr/\n",
       "nezLPDincl1xu8Wqwt04tFazTlswzuaYhOnKFTEow3my+HCNY5Rho2vAWfiMA7XUpZI6/TKyA3Bn\n",
       "AhuPw6UVRop1BZpTpnngXRDi2TuCsTRCI6gApp5pSXZuAu2KvnqOBIHVxTmtjH3BT0rRo0Iba5EH\n",
       "3DMhY12buEA94LwqVCH6bhpiGierpawRmqmuKqnqd1LpTFZZQ15I4FvAugINKkvIB9e4JsM2yusi\n",
       "ukVR8MYUg/4wv21dB9S1jcW5lMgrFk4j0I5zL4+ICSWoLnT+HPEOA47bVnJY5A4hpq6OBArChUlR\n",
       "GhiKoqtEfXXUqFgRLq6ZgW9fCNMNiu/bN+Js9Ir1zBKjyc1zA5T/TjGduGI2tHnAq+WyLqZZ6qqF\n",
       "tapPM2xFghe18k1kKfZh1lVoB0mt5LsxWTZACzxINFOzmj+OQB0o931txBvhfoeF+K/Uc2oVQtvV\n",
       "BgtGSrXwEcAsCEa4H7+OQyohVDqkYCIQc0tEUOJkjgw5tfw86KvMRsXKL46ahTgruddHGLjfOgw8\n",
       "K6CYdcWLyQA3AV/raAGJoCHLQ3V+ddLOCHH0nHLZUrfKkAj8CaiL3wMBAIrtfsDbSIu5iayr0FYT\n",
       "u0LfqhYDNO4TYLEulcD7p0IT/TLXC9t9V2G+rxfg3h5cbykR39Lr3ghGv7+gGuAPLuGP7k9we4ng\n",
       "9VHgIZavHD1O719NBhq1EvXLuPy5Xa0C/YST1AqdWVeq9zBdKc6bu1s8EdhPbsJUqIhmT/rtY11t\n",
       "JuWype5BAzRcro+88ww8B/yfxJW2bj+RZAtjFusqNAcNVzVw1viU4252Q8jIJ6TT6QiFBg6ZuwrD\n",
       "XafHP0bcgiavanC1gCPmuYrQeBIvEdpp6OqWKzAXoSDM7487ybDTECQxxKeDxqwUUTIOyUHHvhHV\n",
       "Xk2n31OtKzVTKy0J+DnyiHF48h1JLiefNSwvyXkmbrLJtNRtNRbHrbC7x1mKmNrJVgnGLFLKkm9Y\n",
       "b9Q/GsLgcUU0ezR0jY58veZpCjR0LToSCm0D4Fsv8zQHMUI8LRT1/7pWBCoouiopqGsg9BqWJ2vV\n",
       "kKBmg0kaSDjRJ+msK60ta1s5ir4eMdsRmGwyLXQ1SU1fc1KnqH8UwrWyngUNF0FQMoFGEv41UApQ\n",
       "Cs1PoG2H92GfztMwxK0WYQisjhTFsfBKiULNfjHU45d4GQVxaDXknpIvI/4syNnQuJYjEOMlCCUr\n",
       "AA8rHpqvFNyKdaU9mrWtxNEGKvlTZht2f+5jEwtdTVLT18JhQNPdROJslHU9NGFHE4zpM4F2qS9x\n",
       "329J4DbT4vbsyuLY5EU7r7vOxAMn5WV9iYZzmDS54qMQ6MH0F+jsfsVd3ixBatxFEEqfWArNPYCC\n",
       "zjmTEsT0pT7R+aWkG6rqaXPKe0TfKXCWfgB4eHoypquqZMa6nsUStYBC8CHZIVk+QzJkAnPdXEmt\n",
       "HNqnlWqVCssqMHja7Z7cNqTTBTzNrTa5Vp45rTN9cuuED9F/8cCGeixda/gGmlFLdHsxZ0mZqfnO\n",
       "3EsWurmSLnUVaOudllublF4QtMJayqxazayZGerJCf1vBM/DcE8lOVg2Umk68jAfzls3nIcy0RIS\n",
       "rHd/NmjQuGKzVdOk34WatCjM66IH+9co3QrJOfmPNvt3z0GFtnGSTatQaL6w36ZVKDSrHzRsaANA\n",
       "C4m8TatQaJ5D421adva0odnQbGj/I2hP2n8ka9Xq6y9ZQLP/SNay7ei/9TfjVof9JhrotwAAAABJ\n",
       "RU5ErkJggg==\n",
       "\" style=\"display:inline;vertical-align:middle;\" /></a><br>"
      ],
      "text/plain": [
       "<IPython.core.display.HTML object>"
      ]
     },
     "metadata": {},
     "output_type": "display_data"
    }
   ],
   "source": [
    "inner_prod_vec_add_right = Forall(\n",
    "    K, Forall(\n",
    "        H, Forall(\n",
    "            (x, y, z),\n",
    "            Equals(InnerProd(x, VecAdd(y, z)),\n",
    "                   VecAdd(InnerProd(x, y), InnerProd(x, z))),\n",
    "            domain=H),\n",
    "        domain = InnerProdSpaces(K)))"
   ]
  },
  {
   "cell_type": "markdown",
   "metadata": {},
   "source": [
    "### Our specific Norm definition satisfy the properties of an abstract normalization"
   ]
  },
  {
   "cell_type": "code",
   "execution_count": 21,
   "metadata": {},
   "outputs": [
    {
     "data": {
      "text/html": [
       "<strong id=\"norm_is_nonneg\"><a class=\"ProveItLink\" href=\"proofs/norm_is_nonneg/thm_proof.ipynb\">norm_is_nonneg</a> (conjecture without proof):<br></strong> <a class=\"ProveItLink\" href=\"../__pv_it/theorems/348a5f63ce18ca1f082d23e796d367114fece7160/theorem_expr.ipynb\"><img src=\"data:image/png;base64,iVBORw0KGgoAAAANSUhEUgAAAbsAAAAzBAMAAAD807ssAAAAMFBMVEX///8AAAAAAAAAAAAAAAAA\n",
       "AAAAAAAAAAAAAAAAAAAAAAAAAAAAAAAAAAAAAAAAAAAv3aB7AAAAD3RSTlMAq1RmmUTNIjK7EInv\n",
       "3XZ/CtNrAAAACXBIWXMAAA7EAAAOxAGVKw4bAAAGKklEQVRo3u2abWwTZRzA/13be2t7q8EPQgw7\n",
       "wyIfVLzYQAxZlvIWUIwW+QQ1oRkqagw5EkNCtrBiSIwwaWVB6BLgSPzAS4SGoQuMaBVFEyTZB+Nb\n",
       "KNwyolFYnQwkbInz/9z17p62t3VLKG5NnyZ317tr//d7/u9PC+A0hOPHVZjpY3yIwNhYeMbj8WNj\n",
       "yXHwIlANw13Dq+HV8Gp4NbwaXg2vhjfNBrdP3/k+T08nPFf2p7IamNyjnNhLts2wDjzkYDArTQM8\n",
       "pvwtjZP8KrETN99BvcLqTG55RuAJMQAFX/nB4ms8NR8CdgT8Eqpw5uDxMnjTnNWdRWFnIdPbqX+u\n",
       "dOaPv+VGICBDQKXwguTKvFI8F9nXyZXGKyemDSbEA54Nemd16Xo+G0E8vwZikMJbQS5tKsXzEAUy\n",
       "SqXxyolZXRYvDckdxGyXxIlx1ksgjFB4+qVkKR5H5mBbxY2znJg7k8BbiTbOPhTPhxaAjRQeg5bq\n",
       "kxx87y3cn668700sBs3NGU88mP3RwuNBeFg3gByswe1zFB7ZM06hJYT7WOXxJhYj9jnjeTertvbm\n",
       "HAFBzaf153F7k46cl7PZS054/mz2SrryeBOLccVMvJP9R3slC2+rahsnt7codGxQKbxVAF1OeJ44\n",
       "8Grl8SYWwydNvLA419Nn4W2yfe/itatFn0/EKbwtwKJ7exuWAvM1jYdnt9xXlvnmgUbjlYhZc1t6\n",
       "556ZKZhgHs+tuEdcsoUXs/G6F+MbLoVjf/5ce4TC41VfxDDYqFqQ1rvg00JprZd7imuK85fOzKJP\n",
       "3JQgd2P3eMUjziH7UqdRFVpp3RCjjz2zsTIWM8DdtR4knMfjwBOzfY9Dj8r+kjfOrlCRpFM0Xp2m\n",
       "R5YPQYwUVi0L9DnKS+P6UxG8p8Q3gsCEaWuT0NiWOOIdMeYwoeDz0ngLLFV4VukPHARfBoq1ByRh\n",
       "W3hCkkoMO4uNu502TojpRdowe66oKGPcmi1teVyfAgc8cYj2FckPRiVSMlYYX3AejGRg4elixOvb\n",
       "V8KAfq5epmaMwtugYHg0jbOPwvO8V5S2cQYpvNNEGne3SSvC8z2uWtJE2dDwsZ8XBIWD7/YDdOfY\n",
       "1xvDLgK/tWU5iM04O+LAbxIzB1j2YPMZle1GoBv9iq9ZE+d1G080DPAqnecYU8zvrmRLXiWJ1b1f\n",
       "WHnYZYaWY5FHwWcnhhyFJyQHJoic0EYKB3G0NVOEx35pSzsGBh57C1qgXWLw5ZFfmZ92BYWn4t6v\n",
       "WmEffEIqKL/EXvshgvMnxlxpv+ILe9ItsCwK24ElAeB2b+8tuslhTDEyr8W9hocbBmzmvUwe7+ld\n",
       "L8DLNh4jWXhhCPGFHUBTQcfgihsR+FJxx/CILW2tiTcCh6Bd5bUEeJMJFVxXcxFSWnBDwGt4EcVy\n",
       "/f9CB1ZTrMLLpxT26BCsSyxV8XY7aqwr6Bh0MVhMud9MpfbqBnzTehCvWbV8nKtbJtl4wuz1Zsdw\n",
       "T+E/ulWAt6S0IUIb/Et1aogMaYsw7koEbwjmQju4tKZQKNJhGA9wGXBnwBX2DiGegNNB8C7AjUFt\n",
       "A4q4EFroPXwH6oK6HxN1wPulDVEHKJwRcYYLfPybcYoy71mjKHMaG0vxUEP+tBOeIW23qT0TL4Fv\n",
       "PzDx+oj2GEN7GFcCuvYCMv9nu0quwC5YBFxSn0M+WGycepea+QzCRnVB1Ds8+Y7BqQMeKcETD5+D\n",
       "J0cd8PLSjNir46FxoiHysqBR2kOPbFNhFrRJ9RFM0wlVTJ5SAzk+LWidcLIReD204BzWy3RgsLT3\n",
       "YjSnwjbiJX+MKo/9Hae0OmU8d3Dy3XpeGnuApPXve47cdl9c3xBueg16c2xDD6Z15N4yqoAvtxKD\n",
       "4MDgG55obxoSz1wHcdmzm/EuLHO1xgGsB/bjHPbUNRBP2+/crQtnU/tKMo80ZbyAMvXFiBOp1BQW\n",
       "KDoczkVtjOSU1lo4jbXcZg+0lv1I5ddaEg7nPErp0SRWyp6YquzKr5SxDU4tjlUVLbRruPu2zklN\n",
       "IwkTg1ce+EqZYB5Uus2q/cZQsugxkK5mvB2QrGa8A9VtnL8+uIDwf+BFQ3I141V55Kzh1fCmC97i\n",
       "qvi76snx8Krl76r/AcElByMLx94vAAAAAElFTkSuQmCC\n",
       "\" style=\"display:inline;vertical-align:middle;\" /></a><br>"
      ],
      "text/plain": [
       "<IPython.core.display.HTML object>"
      ]
     },
     "metadata": {},
     "output_type": "display_data"
    }
   ],
   "source": [
    "norm_is_nonneg = Forall(\n",
    "    K, Forall(H, Forall(x, InSet(Norm(x), RealNonNeg),\n",
    "                        domain=H),\n",
    "              domain=InnerProdSpaces(H)))"
   ]
  },
  {
   "cell_type": "code",
   "execution_count": 22,
   "metadata": {},
   "outputs": [
    {
     "data": {
      "text/html": [
       "<strong id=\"scaled_norm\"><a class=\"ProveItLink\" href=\"proofs/scaled_norm/thm_proof.ipynb\">scaled_norm</a> (conjecture without proof):<br></strong> <a class=\"ProveItLink\" href=\"../__pv_it/theorems/4dc9838fbe00dbd146b618db051daf40614ff0640/theorem_expr.ipynb\"><img src=\"data:image/png;base64,iVBORw0KGgoAAAANSUhEUgAAAi4AAAAzBAMAAABCs56AAAAAMFBMVEX///8AAAAAAAAAAAAAAAAA\n",
       "AAAAAAAAAAAAAAAAAAAAAAAAAAAAAAAAAAAAAAAAAAAv3aB7AAAAD3RSTlMAq1RmmUTNIjK7EInv\n",
       "3XZ/CtNrAAAACXBIWXMAAA7EAAAOxAGVKw4bAAAGxElEQVRo3u2bb2xTVRTAz9rX3vfa7q1GP4jR\n",
       "7RmMJAaxESQiZCkOAmZGq8YPBBIa/G8MeagxwRGZxk+CtEiIlgR4GENgM/AEF+KKMEVNZKj7IMkS\n",
       "XXxjYISxMdkMYUuY999rX1/vakts/LN3l5t2p+fcc+6v95577lsGIGqhtjYDpm9ra2sTf1A7ORmf\n",
       "xlx2T16dgksCpndb4HHxuHhcPC4eF4+Lx8Xj4nHxuHhcPC4el38Dl6He67FCADr+meIzJNbPv7eb\n",
       "7pQyO2TH9A9z6bguqzMQMOW4+LOV8LZAP+8onJuZcwxiFbCAdqq7AKJEPrOYSw159cWqzUXovnTz\n",
       "mZVxwfrlcIEBYJ1xWUrkzxVzkcgAQb3aXITuS7e9UBmXvVAel6DBOuPyJtlW6WIuMvkm11d9Hwnd\n",
       "l25NFXJpKpOLP84640IIhTVBfnkRvx6qOheh+9Ktq0IuXWVygZOsMy5+nEKCorw7F78mq85F6L50\n",
       "eklWxoXol8flKdYZF/iur69bxCXS1/ezWf3zSOS+ZJNMe07h7M0O+YH+fVlNwIXoE0dM283FafUJ\n",
       "65zLcoAdIi5SKyhG9bmI3JdswRifEzoNH+sv5+RxtV7qsblIfbRFuT52xLXdXJxW81nnXNYBwuaB\n",
       "hgch+JWTC5au+1shzLLfqE4uzL2jFUZii9Cj2+zYND6niAVK/IKt49f94zUxwXoh+tgR13ZxKbCa\n",
       "zTrnohhU9yLeZUZBXbeDajw2pr16lZUx6OhP7nO7/VR2sbPGuajB8OAmIRZ/gg4GL8Uh7uDC3dMm\n",
       "92cSrkhyopTtOpLgc3oUL4sk2SQHSQaR8S/C/EL0sSOuTZ1RAzpGgVWKdc7FZ9G8txXURGG9O4em\n",
       "XbUL5Cv4dcuM7aBEi2Z7A8DTzkWu4e23WMhlDxss0EnCyHPh7mlb0loUiS2Co+Dm8i3OFt0EYC3j\n",
       "HLFKceHalAs14HnXYbWKdc4Fko3EfBR1uu4BQT8xwSzC+KSTlrP3Ai6XHL8qWgRYqVzUlrIBzgGr\n",
       "nnL3AOo+3GiGQGUrz45keNlZ3RY56Nv7KHQNm112OFithwxBfmH7yNYuOo8cVnezbnM5RCoV+coi\n",
       "y8UlfCcJvy4GwTgrkPG0Qjvf6of9vXMwrEbrtTVLCJej6Nk74jAwaIA68KsWvAUQ2tn4qYEOYxKD\n",
       "/TpWhDMLY9BDB2shY+YKlg7bfS/Uh2E/2zk8ElWfEdS4aCybzRFQLD4nMtOuXMj7E7dCWLReFHbn\n",
       "4douLgVWC1i3uWwgVNWJli4XF/QFeZtqzh7XIJRmXGCjFtTQZViDf5oCX7ZgLh/2wqpZppII9UAz\n",
       "RDT0y48JnAzUZI0Z0cNxySSKJrIQ2ZSpV76nJUXcwYW4l6Iw/0l4gmVlHokfdsm2iO9lVoFE+Zwe\n",
       "Apg30mqL73nnYXhcxIXoY0dc28WlwKqZdZtLDRlbSUO3+z5NqwOW8gIxm4uhWGgchzwCK+RxgNuG\n",
       "8cZIGSRf7cLyoIYz5TXYDPAH0pXYQR3tI4pjd0GAkL10hKaJQNrBhbjHOWCVCfMzmYzmiASj4KIo\n",
       "QWNn4h4+p/DhRqM5t8g/GvY1aSIuRB874touLgVWp1nvcD5nwNvlkiF6zrCVovG/kMm8R7lAjYVG\n",
       "oN5/Yu59Mo51BtHBGBYB3BQYwVxCJKdjwQkYHLJWY0usCCsmEz7ytWUgQg4QOe16zlCnE7abCiOR\n",
       "u1Be5EhtvRXeA3rLrHdRD+sFXPCaiJgiLqMUjWza64VzweuFfhOUy7v0fFtL1wtOurV0vdTGlAsb\n",
       "DaCKhj9JWYyCOu7eR/QYS8DxEC8jWSTtsCGclPKiunw1MK9CLvPK5CLFWHdyUXd3wuwJAReyr0eB\n",
       "16SUi0K47IJtcMC5XnDWOQk3wgatLoFLtZShpg8atcOKGbKwIuaQJnmXDEb2iGq5uKD6mdIZQB/k\n",
       "I9msSeeOXbBFR3wN+ZJf0SvjgvXL4rKeP0DoKOd53fkJ/fbfcQZY30rquu7XG+KLntkz5v8mET5m\n",
       "rZvQ20/hMxU1HAE4dlaH8MDQ89LKrAmpe8+C2nT/WsgOA1b0PbJQh/fJYIbvB5NFKnpe157J5Bxr\n",
       "xSLe8BlQERdyZpTDBQdIe1lccoN/ltlefsm/WRhx/ky133w+5fPdQImr2RsgW2iKK+0WaBHow2+5\n",
       "O0juAHOOQaxUHWgf+rp6z3dTontw/g6x7K9H8P8f/x6AGkTfZqfzpuT9nSS/FYveeFz+a618LlsW\n",
       "elwEXOSo4nERcFFavX0k4lJrhDwuAi6Bw3M9Lt555HHxuHhcqsflgWn+f1nnp+Ay7f8v609l/28v\n",
       "6be2LQAAAABJRU5ErkJggg==\n",
       "\" style=\"display:inline;vertical-align:middle;\" /></a><br>"
      ],
      "text/plain": [
       "<IPython.core.display.HTML object>"
      ]
     },
     "metadata": {},
     "output_type": "display_data"
    }
   ],
   "source": [
    "scaled_norm = Forall(\n",
    "    K, Forall(H, Forall((alpha, x), Equals(Norm(ScalarMult(alpha, x)), \n",
    "                                           Mult(Abs(alpha), Norm(x))),\n",
    "                        domains=(K, H)),\n",
    "              domain=InnerProdSpaces(K)))"
   ]
  },
  {
   "cell_type": "code",
   "execution_count": 23,
   "metadata": {},
   "outputs": [
    {
     "data": {
      "text/html": [
       "<strong id=\"norm_triangle_ineq\"><a class=\"ProveItLink\" href=\"proofs/norm_triangle_ineq/thm_proof.ipynb\">norm_triangle_ineq</a> (conjecture without proof):<br></strong> <a class=\"ProveItLink\" href=\"../__pv_it/theorems/2c410bd22b80adf113464c94143a56453dca15ed0/theorem_expr.ipynb\"><img src=\"data:image/png;base64,iVBORw0KGgoAAAANSUhEUgAAAiwAAAAzBAMAAABGRk69AAAAMFBMVEX///8AAAAAAAAAAAAAAAAA\n",
       "AAAAAAAAAAAAAAAAAAAAAAAAAAAAAAAAAAAAAAAAAAAv3aB7AAAAD3RSTlMAq1RmmUTNIjK7EInv\n",
       "3XZ/CtNrAAAACXBIWXMAAA7EAAAOxAGVKw4bAAAG4ElEQVRo3u2bf2wURRTH3/3Y2x93PWowRkDp\n",
       "GggkCniB+KOC9bAiRCw5NTEhkHABf8eQJRoTKAmn8S8p3KEhpCSUxfAHLaYcYCW2BauIMYBYjSRN\n",
       "9HRri0kpParFVNrEOrOzeze7OytH4oWY7rtM7253vjtvPjvz5u00B8AyqaVFhUlrLS0t7BMVExPx\n",
       "yYtl/8R1FywJmNRW7WHxsHhYPCweFg+Lh8XD4mHxsHhYPCwelluFZainxIoK8OjlasyTVo2CXm4a\n",
       "3vjCmy7dYixtJdaLyrAG3nU/zzpp1XBZIe6qwR85DfSi+1QNlfj4LCcWH373x8qNhdm8w+6Dm8di\n",
       "1dwQC/QBKQTLMnz8ZSeWIB4wIaXcWJjN201K3gyWOQpDc2MsIZUUguVtPKcyTiwCvo+byz6JmM3b\n",
       "LRhzYnnODcujT7E0RSxcjI0lECeFYMGAwjIjtryG3o+VHQuzebtFGPNkgQuWoXampojFr7GxwFlS\n",
       "CJYAghdihdxF6D1ZdizM5u02p2Qs0kmNrSkBywZSCBb4Jpc7x8ISyeV+ypZ/JWI1b7eVpuutvYc6\n",
       "ZAuW1lqQKgtdlOpiDo2Un779mBsWWn6UFAPLCoC9LCzBFIhq+bGwmrfbBrMX8ejMYLcFS3YeBIZN\n",
       "LNIdslMThF6tzg0LLX+QFAPLJuBRdOWqHofQlzQWdHTTf8pgbiGjoLGQ5h32zDX5zevmrf/e6EVA\n",
       "CYz5YjQWQa4DX6YwWigspgYegsfUqS5YLPJ5pBhYRDWM1+IrqKJqSef26jUo//jOH+0L9uHzHUvp\n",
       "3OaKDPnB7UwqgYR+MXg9DnEKi9E8ZTun7UboukAYNY+cMXsBQRLt6nK587ncd2h8wAWIaAUsfHES\n",
       "mRpIwZPF2BJEkQFN20rjpEWeJsXA4tf0kLcLoglrlrtAj7imf9hZ0XlfbwN4gfoaktHcW8rEcoBc\n",
       "jGvHHhWxGM1Tq/EK/Bc1Fe5ydBH3wRpyuTFIp1ght6hBXXcNubR8LSkGFkjW4FojfLst+Q8FtKJ/\n",
       "urNsLFepr6KMFkYfE8sycoFLQLKmQvKvN59f3o8GIteLtH36mSkxCMUdEwLWKZJqwYKGzxXmAl3U\n",
       "cKPQ4oaFls8nxcRyDGcowugSzYYlPEct+tdHbqG0751eaO5ZgFjVaG+tfwJj6eRfmh2HvkEVon2/\n",
       "yaHpwPP7aj5W+eMIxGCvgirCr4tj0K1frB5fs5CotBnNR5VpIXSsdYraIJHcLr2y47NCoGgyetGc\n",
       "uAvC1tGCQO9ipnOmRtrt64KsGxZaXk2KiWUrHgPR8fouGxb+86J/xFl0kW1ySOb/gPXoVct9UY+w\n",
       "fNgDa+dmxYTUjRbFiMz/8kMC0ko06ctGlHA8mMUVs7zG4xmZfuOC7lmcwoKbD0CTgD5umQ8DRhKK\n",
       "7mG6EMiOGr24/72n4VkrlmAlN2JP/lO0xv/XwS5Odh0tlHwlKSYWH76MmIFz9ifoO4v+EWcxFlXU\n",
       "+DHUi2FYLYwB3J1HsyKt4ljVhI6jey70/g0NAH/yihg7ovCHcMVr9wKHwV490akHhAyFRW8eSHid\n",
       "ATMDrzY2vo9DHW7ZsB1GLw7m/bWyFYs0o3+U+cBkaqRV2uyFrrGFll8kpY3eWEBz5arK2lgg/hFn\n",
       "MRbwafww8v70ogcENL6m4TqIwhKA27lhhEXC4RwdOA2DQ9o6pEQVYfVEwo/HZCNEcIYoZOwbC0KX\n",
       "vvlxEb4WSAo5ordsupP6lyw3zH6OtGlcs9yCnO8mxYIFjYhIloWF+EecpbCg0QJCt4Flh76ybdRH\n",
       "C4q3FfpoqYiJl7epoFdUA0kdxQhEx+yTCNvWcDIIhwF6EFk9ucOL30hxbY+7Pip+Ah/JTCw2jcuj\n",
       "IiXHz5a40Fii+9th3jgDi+nf3gIWEWNpgg+glR4tKOKchamwVZ6SQBlaWo1mjqgVeTEraagiwpDB\n",
       "IRdfDE/VqGbDErx06jI0yDC7Ogmb8aQaGFfu+T1V8GeP68bCz2jiFU5KOd1SDI3LxgIl32zsGLSV\n",
       "sjtn+oed5TvPbamKL3nxwLXAV4nwKW3TuHL4PFoP+aoTAKfQChvuG3oluKYjC+mF/RCtfXgjdOQB\n",
       "VfSvWqxgNwfGVf+3aNyJCnN3TpZQOALp08bddn+aXbHM6k+4bEM1l4KFku8hKEvDUtgJYjjrbg3M\n",
       "rSLaY2In6b1cTvVpz7vs1WqwE+rd22OdtGoEjc+6avDHqAJ6GTpTvr3cNGsvqfjgsJz9dABcTbkf\n",
       "2W/pzj9fxepeO/105P1DpDAPHR88LP8vKx3LzsUeFicWoVL0sDixiClvEjGwVKiSh8WJhTu+yMPi\n",
       "rUQeFg+Lh6UsWB6Z3D+zGnDBMtl/ZvUPvsN/2fs0RloAAAAASUVORK5CYII=\n",
       "\" style=\"display:inline;vertical-align:middle;\" /></a><br>"
      ],
      "text/plain": [
       "<IPython.core.display.HTML object>"
      ]
     },
     "metadata": {},
     "output_type": "display_data"
    }
   ],
   "source": [
    "norm_triangle_ineq = Forall(\n",
    "    K, Forall(H, Forall((x, y), LessEq(Norm(VecAdd(x, y)),\n",
    "                                       Add(Norm(x), Norm(y))),\n",
    "                        domain=H),\n",
    "              domain=InnerProdSpaces(K)))"
   ]
  },
  {
   "cell_type": "markdown",
   "metadata": {},
   "source": [
    "### Cauchy-Schwartz inequality"
   ]
  },
  {
   "cell_type": "code",
   "execution_count": 24,
   "metadata": {},
   "outputs": [
    {
     "data": {
      "text/html": [
       "<strong id=\"cauchy_schwartz_inequality\"><a class=\"ProveItLink\" href=\"proofs/cauchy_schwartz_inequality/thm_proof.ipynb\">cauchy_schwartz_inequality</a> (conjecture without proof):<br></strong> <a class=\"ProveItLink\" href=\"../__pv_it/theorems/e94eb89ceaa1cd88229095e4235826f5a997788b0/theorem_expr.ipynb\"><img src=\"data:image/png;base64,iVBORw0KGgoAAAANSUhEUgAAAikAAAAmBAMAAADzdBbRAAAAMFBMVEX///8AAAAAAAAAAAAAAAAA\n",
       "AAAAAAAAAAAAAAAAAAAAAAAAAAAAAAAAAAAAAAAAAAAv3aB7AAAAD3RSTlMAq1RmmUTNIjK7EInv\n",
       "3XZ/CtNrAAAACXBIWXMAAA7EAAAOxAGVKw4bAAAIB0lEQVRo3s2afYhUVRTAz3y+N2923k4olAju\n",
       "iAtCpg6sGZgso2mJIj3/CCojt6UyDWIEUdRyJ8mwUHcqJT9InxWGqOvgipusbONCGZmxpNSiKM8U\n",
       "w4xl8yNtpbZz7n2f894sYzrN3GXH8969c899v3fOuedcF6D8beLg9dIHBxNQqSYtZgsYHFT/D22j\n",
       "72bwNKhc28Bx1FQdlUBTBakE4lVKZX1pK5I6HyjH0j+sUiqvlxh9INhThpXuU6uSin+gtHG1inC7\n",
       "DCsNxquSSixXYgRQy0JFuFWVVFpLXlC0HB4E26uSygj6SOMPtoy7O2N1b3AvXcBfsfCmOMSVfVqm\n",
       "EqZWJRVK90I5MUXPmHV3bzG7hW3u3l/wd0XhzYgD7gpPrTTti0xqSXAqLL6MKTeVErWItywqUY8k\n",
       "t97sXgrLXZGaYtJB192U/eqgp1qaVk6yuJbiVGbSxcJyUylRS6DfohLzCsZGt7Bl3WzrwfnEu+nD\n",
       "HW16il44pgWe7jdxKm8XMdb7S6VELb4mi0q9V4hN6N01g4P9JsrTPA484bIMl3l4dBvTwiSS5H5O\n",
       "Jax6G+v9pVKilpq4RWWL186ZNbvNJp/Vg2PeFUVcocSj25iWx1j/bS4F0J/CZY+2JWqpzZlUJM+C\n",
       "aKGLyt7zhh00GV7kbOG0Je8uopdcMEyBRbym8zl57tyJ8u9BpWmpTZpUMPpJV5PwIy97UHoHxqsw\n",
       "rpDK56fMvJSIXgRoa4cYt0ou+W2JIe8WU/4zxgAujyM3IjuVrutUZgFsu58M/PzdyE4qpWlhGyN/\n",
       "bIyAUX8ejnHHR2kELFDoroPKrmbLJpI8muYe4Y5oSj2OYIs3fdnQTWMAl2Nmtf6PTmUJCPjVUN10\n",
       "4emP+HdXnewoLFGPnjg0zO7L3SD3femdnT+K3ZtGrYaUgwrX4tHm3Ugs/StppLYWlXkAa3BHGMfu\n",
       "r8Fa8AfyhaDipOKzqJCBhOIgJp7UzcOQZppDWPdcqNH4dmjJOC34KS7BHZ1KRI3iPfgd14RveeOI\n",
       "zQAfuDeHOITt3tyMLz/o+ZhSHKQP0v7tMN9BRdfiaEyXnOdZCmsLFJMKPouKS17D7qMk3sZCGcR4\n",
       "gQctNT2oRmFPJyE+kXmQIdH+J/3JnIx3t2b4K7NknBZEtqnd0Kn4NRYGkcRR/N4sXXZTkfsdBxF5\n",
       "PTVzlZ0KRNsAHmfbjkVF1+IYyXRF4hDNg9tWMATARBU03jFRRXoyy9SKRVuiQqkYlt2yWYCTxMzt\n",
       "NIDZjQagGQO4TCYVytupQFOjnmu/zNdCVPb0TohLn6y5ANDeJ7xan/LR2pc1z4CLV/ErfY3N8JIK\n",
       "6RWnrs6GVZMUkLsexIEgj2knF/1sLdUk1kbMMn7SEroAnZRcx6XUvrSuCwOsZYU2KrRdzEXX5x1P\n",
       "Er21bEMptjOTB9HGhc4W1bFzyUoeWXcTPp7I7daUaZ/y99jjChykrE680dl5DaSsTkW4hk7Skgjj\n",
       "TzD5wticLy6Nz4S6V0UUqYeifTe89fdMMv3LMBKOwyGYQwPnw2pYBjB2rDNjYlRIS1utirKkDQSy\n",
       "YUXX1Tqn8yuTX4u1B0XStA4M3RJfUSxHhFa48xUji4vQ+/+YGR/qV8GQ7Mkj7z5LsPQBTGY5TSBr\n",
       "FGKMypvkCdy9Q0mDygDsgBY1orVCKIvlve98nwLiALQCu4/IYGOdJuahVlkOH0m3YCUbOF2F5wCm\n",
       "TGGhLeugQlpWjqc1CJ/2+DQ5revS4xlvBzSTChn1YaQMB2hvOAIvxEMKS1RdVMD/Ghg7K3pLtEnQ\n",
       "eBxhkiN5pO5s6Bg8ow/gMs9/2c4uGPkK+DIcG4IJLNq69UNGpR9GQQv4tKkNDcp6HEOPiBCw0h4O\n",
       "Cyjaqhie8EZNUu46H8KQQwNDO28SgnXPsgjvpMK0jCQvAF+uRpEtXQTGiA0pK7dFgw4OQ3Ixyi2C\n",
       "c34b3s5vuqnolWWPXtFMa8CPc6ohxQoKnhldu+Yk9QG6zDbvGHmVeNNxkoDujWDEnGErBpVWOsow\n",
       "qPSQrbzBbYUSAWYrp2DHFwNAPfA+TIb3gEVbqdCDWPuahbmYcgAChq7r9uAezlpUzPrlYWcdU4wK\n",
       "9NoLbb9qL4gdBU/hAN3Z3zJPSC0qaMWUWG6zqKCnoK9GkpJms5VwQvgOfEmhG25iAoIudUUagPPa\n",
       "dmijgfUQodchHEpDF8iam0qvoEg5CGcWwGO6LtqVrf9DC+YtKmb9YkuLKNgUpTLJXoFG7bHEWfAU\n",
       "DuDTsuKSn/CZVOSdHf66h3ApZOervu/YdSPwzfN1qamvQGefUNeBWRzle3fwaS/hDF2NP2VmdnaC\n",
       "eH1CCi41vKtFuzQcCPUXO5iGvYs2ZbiqAirzG0DshtCohnZF13XlTnr0H2bNFhiwqBg7u6Q56xgH\n",
       "lf3nqPVaz7ZY72iz7ztWW2xKbeCclgOLxL3O4qQjWzeXntyLefe9kPFq9xQ5i/MPoUu6Zj12QKdh\n",
       "Kx3YZl7UVtim1qhfmCjlpH1MoylpBdPyl8gKsXs8oRT7PW4+VfBvIZXnh5pxE82qCYysR5IYt3W7\n",
       "22qK5K78c4gr+7S/8uQ6fe9UltzxOsLhcwaUIlSSQ804FSrbDpftNJvPKf2n0+wDSmWpdFflGX+0\n",
       "qaJQ5Lw3FfFirpJU4NuKUqlJeFN5G7IVpTK5olQugzeVLZX1IH6iVqkmHC9C5QyoFaUi/VxBKvsT\n",
       "RajMb7j/L+uu/i5umVo5KuyE9v/6u7i7s+JMxVRLZlrwL22gYxuf9NGmAAAAAElFTkSuQmCC\n",
       "\" style=\"display:inline;vertical-align:middle;\" /></a><br>"
      ],
      "text/plain": [
       "<IPython.core.display.HTML object>"
      ]
     },
     "metadata": {},
     "output_type": "display_data"
    }
   ],
   "source": [
    "cauchy_schwartz_inequality = Forall(\n",
    "    H, Forall(\n",
    "        (v, w),\n",
    "        LessEq(sqrd(Norm(InnerProd(v, w))), Mult(InnerProd(v, v), InnerProd(w, w))),\n",
    "        domain=H),\n",
    "    domain=InnerProdSpaces(Complex))"
   ]
  },
  {
   "cell_type": "code",
   "execution_count": 25,
   "metadata": {},
   "outputs": [
    {
     "data": {
      "text/html": [
       "<strong id=\"cauchy_schwartz_equality\"><a class=\"ProveItLink\" href=\"proofs/cauchy_schwartz_equality/thm_proof.ipynb\">cauchy_schwartz_equality</a> (conjecture without proof):<br></strong> <a class=\"ProveItLink\" href=\"../__pv_it/theorems/596a14d068a56b173ceb706e68adbb1920b6a12b0/theorem_expr.ipynb\"><img src=\"data:image/png;base64,iVBORw0KGgoAAAANSUhEUgAAAvkAAAAmBAMAAACsZZmYAAAAMFBMVEX///8AAAAAAAAAAAAAAAAA\n",
       "AAAAAAAAAAAAAAAAAAAAAAAAAAAAAAAAAAAAAAAAAAAv3aB7AAAAD3RSTlMAq1RmmUTNIjK7EInv\n",
       "3XZ/CtNrAAAACXBIWXMAAA7EAAAOxAGVKw4bAAALSUlEQVRo3s1be3BUVxn/srt37927j6xSqfgg\n",
       "qzJlLK91UhiRips2PMaIbkf9A2UkQlGLnc7ijGigNgtDfYyUpGAHQi3dthaHiQkbolQayCQgxaGt\n",
       "ZmhBLKZzIbW1hUkzQAyG0fid133sngvJTC6bw7D37J5zvu+7v/u9LwB4PXwjI8nR776HfgYSUKqh\n",
       "r/Wcxd4cvceRkZz3t+OLj2FzgG2ugtKNxzzHRHuDXSMTDf159NNfW0L0/XHPWXxmYqKvnaSXrbkS\n",
       "og/bPecQSkxI9IN5evn+6HY3t33EC4F/5zko+skJif4cKo9veHS7U7DMC4ED3rueqgmJ/jn6Gc2P\n",
       "bvcg1Gc9EFgd8hyT+swERF9jSt8wSqk+5w368KT3jj8/AdEva6SXKeQjA0Q/NMmurLV8pHg1I3YU\n",
       "HXH5Jp480Xo2vVtuEmO7bSLH82nz8HROgVHxd01A9MtZWXYF/yp5LYWXOsmuXeaySJxtI4bphNoo\n",
       "O2LB2ChVR3wmisH8grTWuzCmuyZyxNZY8G7azcgzFupljj7F5lPeol9GrzeveBuoO9SGLPQPSHZN\n",
       "M5fripVnBv4NJ2RHzBGWgusj7PpY3EnJ1mXBSK+uTqSktzLDzCH4eJyTZyxe5+gvItfveot+gFhg\n",
       "MHPTrV9gZjlgod8j2RUVy2pKLaSp1/INxUfkX6xBWAVZD0BW7O2VnWnJwixpZUjlcPjFI5w8Y7GY\n",
       "o7/J1RbHD30t7uJECsZk5v1rTfR9MsUiukuX636+pVD5A8lCTS9W92ly5sTM/JRfbECyfK/szO/d\n",
       "6nIqRxH6hDxj8T5HnzwLuS2Oo99f6+JECkY3S4PjJvohWYAkukKX/zoyUrgWKfLyxa5+l5w51Q5a\n",
       "BvmuieKPOGw+73J49ad6z4iyUKq5EZChT8lTFnOyDH1/knHxFP1KvI6id3Odxd68ib7U3Imf5I6p\n",
       "aNwhrL74iMMpyOps4sVW08Bzmf/UB6YC+OynlIe4zf0azyTd5JCgv1qwaEjwnOfV3t6XvUY/0tv7\n",
       "j1GUUFeszIfBi7ff2g5RZpo401K+N2hEc0O/hihmEvSLSTjFsGazGTa9ZctbYFbOQZaG1TZ65gpP\n",
       "Qola845zIG8TZb1weHOuY0RTHmyvnoQupb8jpz24pH+qkIMAbnGi6LcJFvuTHP2lALu9Rj+QhdDN\n",
       "k1uWh7GEj8GLkTA/k7kiOitrVAZp2LSjH+ilIy6UC5fDvi7uxvgs6gi65McpsDLtJEvCLuux/o/t\n",
       "3PoqofsSFTyYtIliWlJsZGQNongcWlIwM4PROvpBlrit5qHV4nQJOHnKotzg6K8DdVwbGz6Whxh2\n",
       "9JHDulGUugz9BhN9BQN2YjFP9rTEMogY5M4xhXLTfaLw9wFsRiCYuvNZwKx72HIP/IUnYRZZkv3N\n",
       "tHnAGFNKjfY8UektUSwv9NzHRpIQjINvENFXhiDUxUyXyKEes3OiOjVTsKDelaAfyoWJ+VTco35l\n",
       "B1PBw+cKE7nmVzqq7P4tdhRi/X+U+5K5AO9WvWMEHNXWbviDdLONLX4ZpBeqkxRexExH4TVq7mTW\n",
       "kAVSZMVd0T8OFMUc4rmZ/sBnNOvS/w3msnYNmIQWWRJfG+hvV+lCt+h5krMRmygasYm/89WtAxBM\n",
       "gY5H9G8i+o1MrVEOdXLazkmfnGDkKYvyFEffZ9Cge4kVO9umPAGhYlv4AMD99u+r0GHJe4F6HPbd\n",
       "Dp/OK3k7+rOLg652viltspXrPrpo0vCMcULDZLdBC58bod/HCh3DbJsaolZ6HczlWFcRWWIsKyz0\n",
       "YR27A5X2uxF9UxTdTHOSVGUQffgP6FWfdKAPW3bbOYXXcPIrHOhD7UJeix1GC11KwrwU/fft37eT\n",
       "DEyKPurriwb487DWjn7QbxRurM5abF3QJ+kJmm6YU67F3VqaZidufv8Ur4uWoZdmq2xmK/X2Uo+M\n",
       "9/hoAVnizWfZ/f7nGeEs9zyWKGYNSB7DNa77M9Oahf4pUd6anGjhO0uwMP0+HFjL8437eR0ciutP\n",
       "bT4P+87OjkN4obF+VTVB/7D6nWkp6LuIR/oXroJv5yBT99rFL8LGu9IQ67wd2vvhwoIkBjX9s2nS\n",
       "ZDpgRz98Bx77VjyMQCjn4Tf6CarXJlsedVmuUW/lPDupKkxHC2ZKcY7efp17zrOH7MuQG8fwozMI\n",
       "SCCylXpsOZonD8VOltYE8225Fy+MWIgNGUIUHP2C1mk8NkD9/jU0GGXoZwL9PSLJFJyYjs0XLMpF\n",
       "zgMPE3i0qx0dl7lNIZf6RDCBKcgq/HOvcnQjov/sWVgxPR9K6z0k+zoKP/nvItKReRs+Ciew5qsJ\n",
       "JgJz86oB68H3g4y9pKToq+hEdWOYzFvLc/NhDexj6k7ZCqfFdG6/YaKPziBci0Spxw43Kt3wdVa3\n",
       "uaHfxjsyB+ERJES8HZ3ZSz2yfAhWxJW0kywtOWtsuRfAh8CM1+E4F4UmQKI6PZOAvRh1T0BLHtGP\n",
       "XZse5Oi3CfQ5J55x1ggW9SLfhzJiWuidEEslKdDPhQx1GPZoA7CcdN0/3v9P2ndvII+1PocPBbZV\n",
       "GBpG+PSPYIc+BBsaQNl19U6A5eB/juZoyx09zg/jTT3bQ7RgwyyYCu/AV1n47mJNNTb+xOrElIk+\n",
       "SRSrSKnWS0hWdz5Tk2SG74b+Y9wxBCbhxihpgdKZo19Elmveu629gGyUKzOqxKDNSXGr0XqEKERN\n",
       "pnyDTeJfa8MnFJzUj5+bLrx35F8V3Zuf7hZyEMAFJ4b+acGiIe3oMCPiiIT/gaam7RR9KDPQpqb6\n",
       "j1XORYxZy30rbX3fBitJ1M2BNoArkWSs801lAFcqK9PLR9LwCdAepZ7yF0Ud5rI8ca9oLMcxyM1r\n",
       "ampKcLZiPMA0q9FE32yB+HLObqQb+tGsXdHvdDQw7Q0dCVliq2oPj8NWS1/n87OOVO0Q6zTwKjkl\n",
       "l6Oo1iXkGQsaBSz00REhElpe6D5HH3WfPvYpXLFQ9x9iuo+Y9lDdfw32/HaYrmg5fy0BHaMuPpxp\n",
       "RehH0jRlOK0PYLLwSxtbMb7EwmCXib7ZnwmD03G7oe93vBTI2484GzrFZHeK5hiEZZ3Vu9zrFAn6\n",
       "VI4i9Al5xuKI8+0Kpn0kEuw20Q8R9PfADmi16z5Gg5NQllSPwiCWUOiT3tWH4U3jSWgNJfULKUwC\n",
       "0IA3LoGwYYYmC/1o9ofQDPA9ZcCf4bUvZys6zPQ3/7DVYRaJU2tBr9cNfYphkN+Vbkjbw0FL4VsL\n",
       "2j91wg9I3r64N8ijcbkcl+w/LObk68xuv4V+7OkXfBXom+uypNp6eUNF6u41z1z1v5QOdxrrrmea\n",
       "X3kRf694AaDzLZSic+GZ7KKODtCuzE7BW5U/NXAXdPT7vrwgQ6TUDzYtZfyd6CvtSdiagPv6FmBF\n",
       "pu6yseVjPyurLlvwLuQr9ny170bok2AustuY44illxYxw9H+ETKXyxpnumsXXqnozkjlsL8j049x\n",
       "8jutrKrozaJ+qOmJ0TcVtC6JLPkCaQveLJoSNTc1pQv1iyH6K0LaUAmhMgnXuLUs6RUZIClE4jf4\n",
       "JoISeQIMxZVSNX9kTP0WIodaZd6s2pZg5BkLZWgc3utqstcQS3gRk5Gir9yII3vZ7PJW+9aNg55z\n",
       "CNeOA/rrrsso50S7R4a+/0b0dJbq7U+XFv2jnnOIJMYBffnI2T5hbP+a6qBNM0o2Yl2es2DxeKL9\n",
       "W7YIe5H055KiH0ncIusqRn/bglKi72daP6+k6L/tvXXVytHX4qFSos/eCdEXSSUb6gnPWTyckaMv\n",
       "/UcEtxD9FiqX/rcSot/iuePRT4Ec/WhOH3f0x/L/tlRW3K7PlQ79HZ5zCFE8JP9vS2mvLG2292P2\n",
       "ELIlE0D3Pt193pz9H7KGVwggdtB3AAAAAElFTkSuQmCC\n",
       "\" style=\"display:inline;vertical-align:middle;\" /></a><br>"
      ],
      "text/plain": [
       "<IPython.core.display.HTML object>"
      ]
     },
     "metadata": {},
     "output_type": "display_data"
    }
   ],
   "source": [
    "cauchy_schwartz_equality = Forall(\n",
    "    H, Forall(\n",
    "        (v, w),\n",
    "        Iff(Equals(sqrd(Norm(InnerProd(v, w))), Mult(InnerProd(v, v), InnerProd(w, w))),\n",
    "            InSet(v, Span(Set(w)))),\n",
    "        domain=H),\n",
    "    domain=InnerProdSpaces(Complex))"
   ]
  },
  {
   "cell_type": "markdown",
   "metadata": {},
   "source": [
    "## Gram-Schmidt"
   ]
  },
  {
   "cell_type": "markdown",
   "metadata": {},
   "source": [
    "To-Do: add the Gram-Schmidt construction of an orthonormal basis"
   ]
  },
  {
   "cell_type": "code",
   "execution_count": 26,
   "metadata": {},
   "outputs": [
    {
     "data": {
      "text/html": [
       "<strong id=\"ortho_norm_basis_existence\"><a class=\"ProveItLink\" href=\"proofs/ortho_norm_basis_existence/thm_proof.ipynb\">ortho_norm_basis_existence</a> (conjecture without proof):<br></strong> <a class=\"ProveItLink\" href=\"../__pv_it/theorems/bec38016e229a5706ed9bf059f54ca46655368fa0/theorem_expr.ipynb\"><img src=\"data:image/png;base64,iVBORw0KGgoAAAANSUhEUgAAAlsAAAA/CAMAAADg4f0mAAAAM1BMVEX///8AAAAAAAAAAAAAAAAA\n",
       "AAAAAAAAAAAAAAAAAAAAAAAAAAAAAAAAAAAAAAAAAAAAAADxgEwMAAAAEHRSTlMAq1RmmUTNIjK7\n",
       "EInv3XZsTBlw/QAAAAlwSFlzAAAOxAAADsQBlSsOGwAACzJJREFUeNrtnYmWo6wSgGWTTern/Z/2\n",
       "si8GY9JjT+JcOGdGg1pB+FIURUEvy+uJWZ/Mck26VtpMn01raE08+PAqDcwlcRlbV0qb6bNJ+MbM\n",
       "OHUfXqXhytJcK22mL0gbPvow2ZppsjXTZGuyNdn6ErZQOcNkNtRk60q2KCsjWj4barJ1JVsiKy4u\n",
       "ZztNtq61t1YVjxrPdppsXcsWSWbWOptpsnX1OHEzPm16NtNk62q2aJgCkmo202TrarY4yv99acIP\n",
       "A1jY/Tr+SNhe2mTrOraCytLJFcGQpXjh1MrW28X1ZvSZi0LpbdOaokM3GYQ3BwAt3umACasFc2bh\n",
       "Rh9okg9lCPKJORK2e0062fottjA0ljxswTNhI0kCkJS+OeQreg2Fm9bDplpx6oHpG1pSobZgTKt4\n",
       "GLOVy0D86FfAobD+NZmebP0SWw4sUpohQqS32NlQ0WW/xBYclli6N4+C32ArO3dDCYDtPCcHbB3R\n",
       "WzzF3Wv20iZbV7Klca1cS6rugdq9+bZQ0ggM7Yl7lAAsfF0xpbldfYPlHCAQFY3rCgl4vbUi/5kv\n",
       "XBp3jSrf4ZLY5KAB8SRyAUx0+HpTC8a1qkV+zpawSklbiqoIQawR1r3mwLdHKBEAdLL1x9L4Vn7l\n",
       "wlLtUogxU02bhd8599kekHISejmysA1zHdtVYeN1Xczx3akK7Ul1enNurAkohf4IXF/sjaPNM0XD\n",
       "bVGk76a4V6Z8zQXjZKudHKbP2VKuhNyWMrs7sKnCutdM0qjMiSyKsI3EUk22/lAaEiNzi5EHtpze\n",
       "kFBPhBfHpNcSQYxxhjrLemOJl+sDAZtgw1mXJcI3WbZw912+Pf13cpVEusbH0bJK4IDVPHdhTfYz\n",
       "tpQtZdbx+8pTvVXZS/MPKQ/9YtVk60Jp0Q6JVU/W+DvGlS3feFBPyEZcYomTBdUmCjkkZCOav9ez\n",
       "pWKjZra8enB9oYFctCySSWs9pjipVOllVwevkGd9Is9spTL778vCutfcS4tiwOve2SdeKS3aIbHq\n",
       "W0/BmC2RxAnzwJZZst5aO70VW9c0essQr9tUvCWLFMqz3TR7KBgUTXLWJ2q5DNgqDLWvOegTXSMJ\n",
       "P5JZxGTrMmmpl4hV3/rqK1sSmhPfDgqO9Fa0zTYvxXu9uH/zoIy8pzb0miAdAe7oOtPQcTlZUWRg\n",
       "R1ZbPhWsKC6Ap2xho1q2ZO6Dzeg1d9KW/JQbBdyQrTcC8hINF4XwnbAF0lk1ruew0QDjUhTf6aa5\n",
       "Qpa6Pmtl5cTpB+3Hicg/FvyWicaY4y67wVa0abQbJ5pVLJR5Izq0L8FhJAaUEOGVW5CVDpgCid5a\n",
       "yVPBnGi82QSX5M98p2HkEEpZiupLlB/bveZOWvSthnHrHaIl92y9EZCXaLgohO9NLai07yPYr9SJ\n",
       "eNGaGTo2lTzynf5A2E7azf1bbwTkJRouCuH7onh58WpRKD/Le6NKRsLGmbf1nb4ekJdpuCaE73vY\n",
       "in3US0k/uAJIr0rf+bk9CttLuztbrwfkZRquCeG75zofdZLB/0jYcu/oosdx4ssBeYWGS0L45hqy\n",
       "fy49svVyQF6h4ZIQvnfZEm60NpvvZmx1AXl9bNIBDe+F8OlL2PIjiLn8525sdQF5fWzSEQ3dE4+2\n",
       "saH+IknTzvQStuTc8eaObHUBeX1s0gEN3RNttxXD9zAKYyCqLmQreLdn892NrS4gr49NOqKhfaKk\n",
       "Er6H3UVaOsNr2GKakLmS/35sNQF5u9ikIxrKE03kWg3fwwIzDp4tTSk17h+b48T/U7aagLxdbNIR\n",
       "DfmJJnKtma3AwvWJmF2qt2a6J1tNQN4uNumQhvREE7nWhO/5OXvqAwsmW5OtmnaxSec0lMi1JnzP\n",
       "s6V0tvbfYAuM+fvDwexKV+yTEy4cf8tMIn+ay5+01HO29rFJ52yVyLUmfC/EGjGczLY3/Fv6A60L\n",
       "qQ5gZR8dhwr0HevJYTxLzKA/jtrqKVsPsUmnNDSRa7Vq4owrPHeuHrJFTUzbXwENpzfFn49If2lx\n",
       "HCBKEXRMrmkndblZkzsJjozdEEJy1epH9QHIWl8ggjZ3VHWolo/vsrW8TUMTuVbC94SJgV0/ZOvk\n",
       "B3RtUtlNpz+/0/0LReArxB6p7ZDEalH/MvFXHzhTZlM/qQ9nHqXTLRUr+xLS8ffZ6sr1Vvjed7BF\n",
       "yZ3Y4haylm3g4gSlFWitaasiW66e0U/qw5lHumXUu5u6499l6730HWxtyxezBdLbBo0yWktxV9Oy\n",
       "pbaonEZsqbf+9kh1P2kbG4OUP0KQFWA8TrbOrIv1e9liK+x6M2wLPGBJw5arTHnEFn5Hb9X6WNbU\n",
       "PrIYoitpj5Otsy5A7xtWASAl9FFM7cnll0yaIxE9W/xxZwhUgUowZbYWasmYLWVMkEMAdDDrBbhT\n",
       "jxCn4NeP14yuPpb8BVsplUbtcbJ1ktbSWLR648CNw+iBGju5/BLPRyKgmw8ZLHRZ69/IEXbr2FqM\n",
       "9x71bK0AQE18Q+ynTvw7qrwaTmxxowLVLI9r6oNZg0KqupKs7fGWbOHsg/gLbJn8HXyLtUq4tzBU\n",
       "WMS4KLIP9mgvK60Ret9x0X3DzlJv33gQZ/KMLeGHdQO9xaJbIrDFHH8sWEtuSBDzLS4ZXX04c0uk\n",
       "zrdk4a09Tr11Zrqy5A1a0zeLRoUJgL1uEb2G+4n+akXse0u0Vni29BMzctQnYrv2bDkY4MCWT3cq\n",
       "pr1uM1YCD2syA646Z7T1MTS36tJ1O9l6na1F0MYpXuNA8AidfNmPo7j90RzVQaSJXuv7jxYqkmqW\n",
       "aws7tnyvOGLL0eGlKoow9mwpbay75MYFfrcLInLGjq1sbjUM500p2D+it/xiaHhYtDfOHaWTO2sf\n",
       "UJ3iLLSAOmKrXCbqp2xVEd3eWv3UwAjrtdTZ1vkgkjoxQ7aCtsOeGj+jx1WAVIjc1+WMvj5YYlc0\n",
       "MzS5NuLx9mw5ZY3ksu6npoa5Q7RO7pTQD9KUZAvyP0vd1aYqyqS7XJ56aXj4KGK3t1Yf2wQw8p3S\n",
       "7IJomBZ5NsbKEVvByg8fHNPivyDWGXspSipN+ybrr9RHNbdqkxDZHm/PFol7a+37hmHu0HA+uVOj\n",
       "ni1shaJ+dyzcslVMlt3lRYTxfbVojk/KWStit7fWzr81+kWIqJrAsEZmngIM+8aV3MwhDRoofHBE\n",
       "4v+C6S65M+i8DM1xzujqwxRz69FhE4+3ZGs3V502PeN9lEDaeRYDPZtjss+6TmF2eouGzUUI7nuB\n",
       "5CPaX85lypeX0ik9nuSbehHd3lo7thSSg8gMkDTt/ZykC2ltwjDZWz63zlXHSTiBAIOzrIBpvzt1\n",
       "2MGHUtBu4FgySn24b7bWF426Y1XthrXHW+utPF4KMUMCG/WYu6Xdh57Rsz1d7FwmfYd++WJv4VG3\n",
       "55uS88PLD8IGN3V7az0UgWnZz/n8BafMsY7npjvenS2+ubFTctukn71uc3nag0bp8X/1TkIZwYPA\n",
       "oTwBe8LWKOSISyFEXMv00qJcPbKflmZvrS+Ydqr1MfD5ku54e71Fgw5XlS3hi9zkhj1yY25wNLf/\n",
       "tXdiH2E9aru83xU8LhLgerU69Ahq5DPYrE+Hlx9s+cFN/d5a9Bv+RpY8UvJ516J8/Af6xKqtU5fS\n",
       "F7ksWxtpnfYDEnVr5K7J5cgpvjdyTkajr7zv6U1q+4Y1cocbgGXo8vF2bD2Jl09s9eatVrHNRuHI\n",
       "fZ7xEZOj2zhk6wl98s82co2+469Gcjjy5rRHGIUF3/RvoQvYYuAA6X2JNkYnkbH/oR10+bH6XDz7\n",
       "q+mmbM002ZpsTbZ+xpbNfdAlbF0pbabPpjW0Jh58eHEIwXy6anHqtdJm+mwSoTVV9+F/4nZ3rAt0\n",
       "i7IAAAAASUVORK5CYII=\n",
       "\" style=\"display:inline;vertical-align:middle;\" /></a><br>"
      ],
      "text/plain": [
       "<IPython.core.display.HTML object>"
      ]
     },
     "metadata": {},
     "output_type": "display_data"
    }
   ],
   "source": [
    "# A direct consequence of Gram-Schmidt:\n",
    "ortho_norm_basis_existence = Forall(\n",
    "    K, Forall(\n",
    "        n, Forall(\n",
    "            H, Exists(\n",
    "                x_1_to_n,\n",
    "                InSet(Set(x_1_to_n), OrthoNormBases(H))),\n",
    "            domain=InnerProdSpaces(K),\n",
    "            condition=Equals(Dim(H), n)).with_wrapping(),\n",
    "        domain=NaturalPos))"
   ]
  },
  {
   "cell_type": "code",
   "execution_count": 27,
   "metadata": {},
   "outputs": [
    {
     "data": {
      "text/html": [
       "<strong id=\"ortho_norm_basis_existence_with_any_vector\"><a class=\"ProveItLink\" href=\"proofs/ortho_norm_basis_existence_with_any_vector/thm_proof.ipynb\">ortho_norm_basis_existence_with_any_vector</a> (conjecture without proof):<br></strong> <a class=\"ProveItLink\" href=\"../__pv_it/theorems/3f9b5e5f6593424ea3bd310d6c8da75c3de6fb590/theorem_expr.ipynb\"><img src=\"data:image/png;base64,iVBORw0KGgoAAAANSUhEUgAAAuwAAABYCAMAAACZOlKEAAAAPFBMVEX///8AAAAAAAAAAAAAAAAA\n",
       "AAAAAAAAAAAAAAAAAAAAAAAAAAAAAAAAAAAAAAAAAAAAAAAAAAAAAAAAAAAo1xBWAAAAE3RSTlMA\n",
       "q1RmmUTNIjK7EInv3XYgpWxAuOz13gAAAAlwSFlzAAAOxAAADsQBlSsOGwAAD7xJREFUeNrtnYm2\n",
       "o6oShmVQEIRzzuX93/UyD4pGE9JJG2qt7p1gUkH9gGL6HYazRpU1MLSy5g67dfMmHFvVd+fY5Ejb\n",
       "2BD2xg67dfNmwEJAVd+dY5O0zVBzh926FcSr/Xcd9m4d9g57tw57h71bh/1Jh2lgBqJ+r7rdGnYc\n",
       "R2amXul3uzfsNFTtZO63qtvNY/aJub8c9lvV7eawIx+qT/1Odbs77MMijC2836lut4cdU/P/zPqd\n",
       "6nZ72AkI/32pwU2e5aq4NvXW7caw20qd+xHIESgMB4LVnI+6E74I/jArjC8L5xjsjdfLxfSBpZSc\n",
       "XomZ3LI1lzHdtVjwBu95kwXrH4kH3sJp4g7pz8AOZdY9lUv+OSrBPBs85lM1P7CfmvbgmaAPmvCF\n",
       "doSBPGMjZ+5PHfaQBWTGmKh85M2f5tj7Kz8DuyYdRS4c1Xxx8YGL5y/CLvdOcdawO8cXYA+zXjYH\n",
       "MkyBTewQ9t3iVHgLp1l663Zr2DlMd1uhVDnLFJAYONgsKJT5C/1VJOVApgliHEnTCIUUiaSrinX0\n",
       "gqSp2Sdg3pOBzEIfw8zESMghKLkExLscJETc/rxIGSOcpSwfw04VY7OKWWUIgXHlLWuDNnMMCCMq\n",
       "ZQ9vbgg7WUD6AObalLn7LIPI1oTEJBti4wsbmKBhXCDhnjQGhW4OXIqJgJjlC5vDJmYnQgnLts2K\n",
       "1OGTCbAXAzm2H3MuTWRBTHNDpphztKS4BOJj2JnOIVExz/oTUBTe0ml6b3gOhgaGxgW5XHW7GewD\n",
       "oLWQfUQb2HXNOsv0gpqTGWdTjzo/Qnc/R1+zDu5w+oLl2PYDlE6i9pfUOBD9WwYw85uEeZeaRuii\n",
       "c0+yVJyEqCNLPoKdqZhn7n8veit6JqU38yVmSuGgenRzQ9hXUHsW0ORqOphgNzTJ9AItbpMf9RSC\n",
       "CI1NQTYZ6GpzVKGDylw2AuymAtXhi5D+I9HlOCtlig30jc5sXKeZLzo/CmNIgN3n2f5e9Jad5tqb\n",
       "cyNN69ThvTXsLpZ1LOQDhHXYqT8ZKjawiyHU7FNRszvaRFazC2Rqf+Y+ElxSZgpbxqHNmIx17aMw\n",
       "hs9DDfbCW+p1r8MYXayo6Z4PtON7X9j9ccdCPquaYJ9l9sKAweReze7i+8V4MYPvxMTstro2U1g2\n",
       "0JGzRlL/1eGPjTW0L+fSwjynLqXPWKzapTyEHQqWwz7HsElUTnPlbQjf0l3bDvt9YZezjox1W69c\n",
       "EE9mf7OJmashDCisw4xpjC90DcrNaAwwX3MzOq58+JRBH8XuF7lEUkx0wKPpGdqsIGjHOyRGiJrq\n",
       "3/ryfyCWyE1jzcRnTHuGi/K0z6QKu59Ust1hm8uYVZOj3Ft2mitvNoi345y8b2e5dRhTGuOmWX+P\n",
       "8AY9GRFXZ3xYEWRfWIl/wlu334T9nUbPXghMHqVdYfWxt24d9sbmw4ozxjcjgCuVp0sV80Nv3Trs\n",
       "HzT2IIE09datw96t271hpxL1FYHdfgJ2Iz3QRyq6/QTsc59U6fYrsNt5yH4Hu/0C7KNRc+93sNtP\n",
       "dFC7dXsR9tNiooHNZuqjO7Azay+eZxMn3b7W0v09uNNb2E+LiQY2m6mP7sBuH4Dz6ia0Jk6ett6X\n",
       "bg73SkpoNvd3Ll+dgP20mOg///7jGG2lPhocrjltMWEuPjnrDtp0La4tkxs/ecYkCuC8KzKlYruy\n",
       "Yt6+Kux//27enRUTjRVxK/XRvZr9b4cdtJn6klcur5zGjwZtFPiqd3yXyhMUl2GvdFDPiolGNlup\n",
       "j94UdtRGlRVeKTLw8ztUw04r+a4RMw4awH5WTDSx2Uh99J6wkzYyAOxSkeHi41F1zMJK96ad+rhA\n",
       "DWA/KSaa2GykPnpP2EWbdhyjvxV2VIwLMNFMfhwu7HXYCzHRUsawzuY19VH+U7CjRioAB27kbBrW\n",
       "6VthHwompReEamErKcOnYC/EREsZwx02iy9sG3KBzUHk1Y7wT8HeSFoe7taH4yTZV9fsw5Q3SqIi\n",
       "DfKsjSUwz8FeiImWMoZ1NosvZJ/wyqMQ2C04mP0e7LJRTxH7MsPcRmsRA19SlYIMpDEpAaN8J04+\n",
       "PnqyL7HnI8Ge9yRNN7vdw+Am8DrshZhoKWO4w2b+hXSDgvIo1AdxjF9+CnbRSFo+1I5cR6qmvYhu\n",
       "6+TgKV5rCfTFr1f0x0dPlsI9H1HkqRiOMtmFzSb3ykGnJ2HPxERXMoY7bMYvZKKbacwJUjgSaWDn\n",
       "GGOh/40/AjtVjeZOfVVOoeM4jUNO9REgd+0RMfeUuVktth4DzY8yzgF4ohEqfqHMQ9CqdMXTXw9b\n",
       "SEWrcVGm5OuwZ2KiKxnDHTbDFzLRzUwCAlIdxsDxB2t20EqkbnH515TYmocGkKgb9tWWLjcBkz9b\n",
       "mlXyug5a1b60bAKequFzH2sSweRLaGLMaeHIZhNNs3gd9kxMdCVjuMem/0ImupkpjxrtKmwEtn4O\n",
       "9gW0hT203JGWqqoMxdkwcGqWYQXmcNRooZEnm6F6wz/wUOSSLKWfLGDNus8oR+ZZ2JOtZAwfshlF\n",
       "NzPlUQM748P0c7BT1Wr6MPZIXfXLs9GNao0HihELtwqwAns8itjTsCcfhW58iqfT74ZuLG41scTy\n",
       "C/wy7GsZw4dsRtHNTHnUqhKOUIY+1s/ALput0J9ljnH2nLF6SOCGQtg8ukCKF9Cx0CgUR+P4yamA\n",
       "uuJjpRufYt+EnohDSO9oOl+FfSNj+IjNTHQzNaVO6EeCh/Xg3WCfm+lKx+E7PvkHIcQeKtyFHSrK\n",
       "8GLqmRx2pqahcjSsIwyHj15Ufax049PQYxg2zZ8X1GrNcx60vx7GXGQzE92MyqNUuPGxl2B/cYuI\n",
       "c4J9Z275Q+gvzeZPaEIHlJsRGZi3Cxx9zY6tCiuCZTghPNXlURIqJxEGS0SISLYv6j4K3fgEe6xo\n",
       "0nAPbdVF5eqDsBe34aLy6CHsL24RKWt2Cf8I66zhdhGxXxeOfD61XCDGzrASqRCdVUJ2D2+dsYMQ\n",
       "tsgCeedsLlLjd8B+vTt3APuLW0Q+AjtV7RZzo0vl5hj2Sq9JN8OU+inuUwsc+GEIm2cBoz90ie8D\n",
       "+4tbRD4CO1QNf2e+crXltrNA+KS4JYNViuBiNrO5u8/OlNDah0rd+DD6Tt4qZJU3njeC/bUtIh+B\n",
       "HamGe08v6bSTo2L2AOZTrdHDDzE/iXutkF43Be4I+2tbRD4Cu2x6hciVmIhg8GfOcefnefh5+WZ5\n",
       "lGxv9Z1gf2mLyEdg5/3xjW+3Zbol7I+2iLhtJgSrGe05gWHo8c/Ajjvsbzchbgl7fYtIWDM/bB6W\n",
       "+/maHagO49thX+4Je22LSFwzP4QFIfUlmh32DvtfBXvaIjKapQfmGY6FToNbFDThk7CbB0PK7eO5\n",
       "dpJr/c9HnzwIY8K3PqtllIkZfdrIYSr5uTAmbhFh0qzAgKAcjqMKm6eY1gfdtrBLYh4DvFlZspNc\n",
       "Y/3hJ/nuFQpNy6e1jJKY0Ydtp60NEkv7Uks37aCmLSKE2clAnq+ZPw7ZK7Db57TbqW2S3++YPEKJ\n",
       "D2vd5GD3Du6Ns4eNRl+gZZStBj44EYAxkEUZmZSrUudFxRUzBAi1AADmiV88r3BBJFDKZAiBRf9l\n",
       "qenelVpawE1hT3tKjKIcHfM18+GuyfpCw+pCMPd7FK62iflVzf6R60f24ArsTSpFwaMvEAE4kQcy\n",
       "Wc5lsTyHTn46p1BvIm5Ck4nlEu2Zj7CwcvHZChPn047De86gluV5tJN4lG9C9p2KqubEPMba/mIJ\n",
       "u08mj59z7T+J8Iiq4nRQ1ZuGuFrkr4CdhOUnMC+7BAEfMOZ9pDB7P6pLW7TS8hnq15KTADFa/V0X\n",
       "k2zt+V1h15UMMclZAOK/vbM3aOOELHZpOM5gZ7xMHuyQpkmt/Zc+Cc2GQ1E9oXpmluGbYV9rLk0x\n",
       "u5PIYWeLq75rsDN16cyWrJvjF4fErldoI+ptxU0XgpUdF+6WysQ183abCdGdVgXoOSdYjlw6fSEP\n",
       "OzVzTVmyG9W0qXQh5X/FJ/VP1vfe1Jf4JsGjL4R9o7kE00nIrPASpKvveQ92eKlmzxSgJk/gHHsz\n",
       "QURkqlYc+Vq7u8Keru7JNfOHTmIYUwwJ6E6W3KbWPilMB6o2rFLXNYw7dxJobxcz2ndRwr7VXAKJ\n",
       "8DFbiKJhH7A9VIGd+b0dSEpu+6pU6pfmYhAsOc4TygsSl7osG4klDupjAOR3YD9rB06oXDwDBa+T\n",
       "Uq4trlFcpDFghhNqFU9dSSPVUVGE4u1iRvsuyh79dmfMlOpOqpYC9kGYO1bCPkkpsdfXhaYVNOfo\n",
       "hoiFbxc15DFhdUFGJYC11JwEtZu68jf4lp1KfwnsxWDiydST+xFQdWgxKgUELaP3ixntaxmtVgNv\n",
       "iTqCnaqpWrOPbjTSwm7EB8bF63+4dAVjQnlBdMhOfYUdk4LEEqxWHPnGxw57SydPnFEt8vADn0nL\n",
       "6P1iRgdaRknMaKhqLmVhDFRTCbuGU+50UMMe7dHOrAk1m7W+vsc+8ZBQXJBqyB4llqg6GinqsH8c\n",
       "9rpIUri3hZbR+8WMdrSMkpjRUN0hglJfk2doOdhNIFODXdNqR7IwgNDKynBhnt+mO7vIGA0Ja9hD\n",
       "yJ6VqrCDe1yq+JIO+7fAjpejMCafFHi7mNGOltFqFrdSzqYIxVIMPfp7Jqqw2/YAGorNXSXMwkVj\n",
       "SxcSVhdk9KWJZqPn4WrUqoABtJC/67C3sbE2rRQFj6Is0TNiRo20jFarRCuaS3F+p1j9QMM8fvEY\n",
       "xgi77braN7qQ0f+sV91h8C2dF8wKPYh4QVLIvtUMqALcQti0w97KRGWkPQ2iedifETPaChYdvDjQ\n",
       "MlqPs1cWtlF3EtJdQ+8zThlPc5YaCga2FNo3uojA/2x/dCa6T2B8cAJDQnlBRAzZtwO1mD8aAOiw\n",
       "fxj22nhMEjwKNfszYkZRy+hIzOixltEa9qrmkpwxjg+4NM7prJQvFj5mN6lpIdjs5U8klDo6t7Nv\n",
       "0u67IRhLToaUkC6I/mWlTN6w/ptav3DnqhPpLR5G0GFv10WtVEhxRVV9BvWkmFEbLaNtHiqaS29v\n",
       "//Y7IUFiqSa11OQxMx3291btcVHTA9iPxYzaaBl9xZKFAwWosEasJrW0WvTXYf807GZQeXuX/InW\n",
       "1iOfFTNqpGW0O/z+R21XXCZILNWklkbFOuzfBTutPPQ3DGcfahk9ECJqo2WUxIw+arsKUKEU1EqD\n",
       "WF28DvvHYY9PHCkqLBki8I9qGWViRh+2HQWoMMtak1pq8zj3DntbA3zo1tzGTfh1C9gRY+zVvZpN\n",
       "nDwdtsPOZvPosFyLbO6ua0LTq78SdtMle1XovImT5/tftNPZOMhfrbufzf2dy1dtYbcGGsLe2GG3\n",
       "bnllp1T13anCZRewoXbBcHOH3bqFatzZ6t3/AWTpwjA5o4LEAAAAAElFTkSuQmCC\n",
       "\" style=\"display:inline;vertical-align:middle;\" /></a><br>"
      ],
      "text/plain": [
       "<IPython.core.display.HTML object>"
      ]
     },
     "metadata": {},
     "output_type": "display_data"
    }
   ],
   "source": [
    "# A direct consequence of Gram-Schmidt:\n",
    "ortho_norm_basis_existence_with_any_vector = Forall(\n",
    "    K, Forall(\n",
    "        n, Forall(\n",
    "            H, Forall(\n",
    "                v, Exists(\n",
    "                    x_1_to_n, \n",
    "                    And(InSet(v, Set(x_1_to_n)),\n",
    "                        InSet(Set(x_1_to_n), OrthoNormBases(H)))\n",
    "                    .with_wrap_after_operator()),\n",
    "                domain=H),\n",
    "            domain=InnerProdSpaces(K),\n",
    "            condition=Equals(Dim(H), n)).with_wrapping(),\n",
    "        domain=NaturalPos))"
   ]
  },
  {
   "cell_type": "markdown",
   "metadata": {},
   "source": [
    "### Properties of orthogonal projectors"
   ]
  },
  {
   "cell_type": "code",
   "execution_count": 28,
   "metadata": {},
   "outputs": [
    {
     "data": {
      "text/html": [
       "<strong id=\"ortho_projectors_are_idempotent\"><a class=\"ProveItLink\" href=\"proofs/ortho_projectors_are_idempotent/thm_proof.ipynb\">ortho_projectors_are_idempotent</a> (conjecture without proof):<br></strong> <a class=\"ProveItLink\" href=\"../__pv_it/theorems/684bb88087a433e46413e2d62ada1684181b11e20/theorem_expr.ipynb\"><img src=\"data:image/png;base64,iVBORw0KGgoAAAANSUhEUgAAAjgAAAAgBAMAAADtQR8aAAAAMFBMVEX///8AAAAAAAAAAAAAAAAA\n",
       "AAAAAAAAAAAAAAAAAAAAAAAAAAAAAAAAAAAAAAAAAAAv3aB7AAAAD3RSTlMAq1RmmUTNIjK7EInv\n",
       "3XZ/CtNrAAAACXBIWXMAAA7EAAAOxAGVKw4bAAAHMUlEQVRo3u2Zf2xTVRTHT3++H+3eSiTyQ2Ez\n",
       "Eo0Ssbpg1MFSIjhlgdQ/EY0NGo1E4ZEQkgXCauIfqJNWDeKIrI9ITBajrWyKrGAGTGMAoRjMEqBa\n",
       "fsQE57pJNsZWwzz3vt/r2q3jwT/sZu9H7+t7+57PPefc824B7sj21bezb/e/nJMWS7/Jlu66Xfoc\n",
       "QfUsACsKfSmAW0+6EoT0b5b+89BkbnLfvsGbp50NQEO4wJfqKUY/7qruJDi8ru/pwnAcGR2Oj3Tc\n",
       "bxUcGznY/SXCsVJDkcahLiE2NO3T5fjhUN7lKyMfzXpNAjirw1lG+t+wCo6TRLVbLBGOlRqKtC1k\n",
       "V47u87kE7Nn869eQ3zGACzqcd3DPRK2Cw/rUqC0FjpUairQ6sotg1DyagXop7zJ7A50et7ikwXHj\n",
       "qafSspyzFg/7SoVjpYYibYDsejHX9CaYAJPn3sJ13HKoxq/BIQercmJIzvChUuFYqaFwY4fJPka2\n",
       "cP22d/Nch+vDDQE5o/ps9Ws6fdw6ON50+nyi5NnKQg2Fm5Ai+yEaP6dGRvKul0floBM6dDjPAeyy\n",
       "Do4zDJxUMhwLNRSpNkNyYmEOaRHsTNNGZ0sCZjOp+1zDOpwNwPisg4PP2pBXcI4LZ5QG52QF2PPn\n",
       "SUEPG5LyhX+TrcGxb+69J7mQht91HQ4nefDbG98Kg12OB/7gOen7XHgxtPQxu82Ks90fjFcE7oLv\n",
       "cP/QkGg7TMsseRKyx3bCvTMBDjQ17QTm2V8A5hvhyBpcsbolM6gZ8pVV/W3TNGs3ZrtV2i0dSlF3\n",
       "8HjbXfp/x1FfaDRE0aCNjtunJJYCLaYcmQEdjj1DUmIiXgllKHD7rB3A+UjcbQemDz7U7y2jMbNk\n",
       "PDgL5HzcCU7ZLmWG9gagFqCFDlo1fxXgdyMcqgFgsVKbKXAcKfCkVJ9YC6z8DpYiupRA8YFb98z9\n",
       "wPt0QzQNqzUDAkqZU6BdUwtpAxwI1SATiIvQiOY/R7RROPgtE5x/0EKQS+BicNy0/IZeqR2McIRh\n",
       "D6aindRtM/wgsB2m1weiAWA63meAYwuAoHJoQDN76IM6THAEoydgCaoaomtwS0bPiZhmC2POYXOq\n",
       "5xjCCvatpekIYCnAJVDh8DECp7HmsgStWeb1ecsqkpJ7NjDM7po2iWnForb7goiX4GK13wjH8wAV\n",
       "462TTHCgE4UyijK2D5wBExxZwxGA0wY4XvQBNRXdjVu8ctOapS/k2pnrC1BhTTuB4+nAPrjULYFw\n",
       "jji3aoiuQSugKJzeYMHJbECd8gcNcLZQAU8RT+epKdy55IEOaCBwIqI95K50+l96MIHDwfx5Johd\n",
       "QsiW8IqegDOBlxYmmIwRDnNYq6hMcEjxZVd0OqKq56twqAZmGDYEDHAaJGY6OJuwfQJnaGi6jmxG\n",
       "l2OuwhrYAV8jHP6RMPZxQT5FCuBNmiEGDXZ1GGxEyvrCE4Pqg8bZCmwkcX45cuJEH7j8mudAnHoO\n",
       "1pURcEUjEvVV9sIN2sWInD8uMhJe+qz/YfNb+Ux66ukcBecgapQfD/z6/06cMr+VUw2Ok1n5WQqc\n",
       "RdmLWlVAkJcHsI4jcIahGZ2Py9j+yAZJbYfO0gyQhFWaIQYNLlUBSRXPjzQXYOOMDSmD7OjIW7IY\n",
       "BEcIHG82NX08Cs7RRVVVQTziH0+clnRBd0/mFSIfL60aCY6xZNHeaw4rzzc4HrwSJOUiPDHGkoVN\n",
       "jSEFzjTjOhrxpEokw9KcMxctsAWoL2DHIpquknCfZohBAxs1eMREmtM3Go4rRfIfmxjTc4Ak5kbe\n",
       "byNzFukq83N/N0g0vlnJEcqH45G8AROcdujU37pepsbkwfH6zXCOUqlyWEXCZCZjU8jiCwIHPced\n",
       "keGkiIx1BM57miEGDVpYwU8TrEr9o+FggnRnlDrVACciOqKcn88gkTgbLg9iuRaRhGhcKstyCT6D\n",
       "ly4GtMgxwFmO05MRjlMCMozOH+inpdSYPDgNogkOM2hcguoCVxfxEr5vG8JpxqyzRVI9x13JHCNw\n",
       "yjRD+ISmQciY3srHb4a3cnXUwuDNzIb6MK2tpL9y71cE9vbD1iosvZJZpmI/eOrAuTqZgMjjl0F4\n",
       "5sl12E0u2VdWi6Ph8CvOwp5rfh3O3rTEV7yKJ6tJEQhYA560SaPhCLF2E5wrOeN7yMZsEivpnAht\n",
       "iT39jp+DnmwtESr3/XhZJHA4UTWEPaJp4DR5jROD81jeMulWDPnTIvAHmnaMc29jacukYyzTkOlt\n",
       "zowiy6TcpN4dVoIroRli17pb9Jw2sVWRrptYQ47cNJxx15AnA8cVwlGt1T6+qJ3VjrWGXOwniszk\n",
       "4TAVicnDmdVEw+pWwGHmBkgOVj9qhanDUPXNn8iDbtWvD2+P8bvVuOvJ7vzfrZhJK8hfLeGNThGc\n",
       "wCPI6nvPeT8I6aMw1SbetldPMSi4zurjpiAUalx4ikHBVibxUxAKVgutVVMQtPY/w8Q9hrZdBGMA\n",
       "AAAASUVORK5CYII=\n",
       "\" style=\"display:inline;vertical-align:middle;\" /></a><br>"
      ],
      "text/plain": [
       "<IPython.core.display.HTML object>"
      ]
     },
     "metadata": {},
     "output_type": "display_data"
    }
   ],
   "source": [
    "ortho_projectors_are_idempotent = Forall(\n",
    "    Hspace, Forall(X, Forall(P, Equals(sqrd(P), P),\n",
    "                             condition=Equals(P, OrthoProj(Hspace, X))),\n",
    "                   condition=SubsetEq(X, Hspace)),\n",
    "    domain=HilbertSpaces)"
   ]
  },
  {
   "cell_type": "code",
   "execution_count": 29,
   "metadata": {},
   "outputs": [
    {
     "data": {
      "text/html": [
       "<strong id=\"ortho_projectors_are_hermitian\"><a class=\"ProveItLink\" href=\"proofs/ortho_projectors_are_hermitian/thm_proof.ipynb\">ortho_projectors_are_hermitian</a> (conjecture without proof):<br></strong> <a class=\"ProveItLink\" href=\"../__pv_it/theorems/3addd7e9b45684154cb7983af68860d9caa20c2e0/theorem_expr.ipynb\"><img src=\"data:image/png;base64,iVBORw0KGgoAAAANSUhEUgAAAjcAAAAgBAMAAAAcSkSXAAAAMFBMVEX///8AAAAAAAAAAAAAAAAA\n",
       "AAAAAAAAAAAAAAAAAAAAAAAAAAAAAAAAAAAAAAAAAAAv3aB7AAAAD3RSTlMAq1RmmUTNIjK7EInv\n",
       "3XZ/CtNrAAAACXBIWXMAAA7EAAAOxAGVKw4bAAAG8UlEQVRo3u2ZbWxTVRjHn7a3vb1td1cikRdf\n",
       "aNRo1IiNC4mGsZQA4WVqakxMkA82YGIgincJMUEIq9+MzrVKJhZlvYvEhA+yhk0TNiADph8ATTGY\n",
       "JUK1wmKCc90042VrwnzOObf3nrv2bu0ofGEnu713p73n/M/vPM9znnsuwL1ZbOG73eNDGWUWMjMD\n",
       "d0ufIzwzHIF8DGcC9KhmiczmJtfdm7zHjEtZtfiNGKcYg+y4d+B4DH3S1het7KLh3oQjcaP1WlkO\n",
       "1KgGHD+peLRacGzkZA9WCKeaGqYpu4k7Jcfnfb6hZMy5OvnpojdVkP0GnDWk/q1qwRFIny6lQjjV\n",
       "1DBNaSQftWjeX6ngKuFV19G4zoBnwoDzgR6EqgHHTbDvrNStqqlhmnKNfMSyAM9mS8Fx30Kjx2OL\n",
       "AceFLuYNVC3mbMPTkUrhVFODdXETk4CRKB4pkIrdSr6JRx5gvQGHnKoVExFOXcVx2QVV1WBd5DT5\n",
       "TJIjWgqONIoHAvqHW61+ymTOVg+OL5O5lKp4taqihmmyTTpp48x/bNGi72vjzOneUA046wD2Vw+O\n",
       "gJNiWiVD5cCZokGYtYIniu3FsIw4CyzicfRggS4aQoYWuloSMLt+IeeoAacJRPxyx9tRsLMp9xy7\n",
       "qH6fj66AQ6PiAfMwc0MfzwAH22rCqyfHFdtJOjksztqT++DBhRhZEomEwnfG4DANzmTjygV0GOyb\n",
       "jWPd8/SFb0duqCDjUJ+W1B07230fl6AEyPOB0bamQZ8dF2Eg/9vbFS6dIY880LuMnJvDBhxJ9YbB\n",
       "keoMQA3Wti5qA8kPch+0gjgKn3A3p4lZrJwpCdwP35HLfm1uNDjgC8FaHE4bTT8LnelwqAaAFQDH\n",
       "OTiONHjT2q/s28A9oMlAXZqj+MFlWKZXgQ5T20zDJh1eSAssFiWpnTs5OPYsymuFTgVa0M7WkQYo\n",
       "HByKCQ5W+YBledPBWcri8YjaAzwceYLkpBIFVujMgEM1AMzH+zg4thDIhbE0453Dmgwejmwa7BpT\n",
       "20yDS+Utp9Z6tbhe6IpzK4jQp4kYwGqAK1CA40kSOC0Ngyp4G7LvbV79Sr7HtRhE8UBDtyp2Yd4m\n",
       "n1gAXTm4vDzIw3E5stRSGlUTHOgnQndp/7DOuMcHpuEUwHkOjg9twK/96n4ypQEmQ7y5FBU29BA4\n",
       "3j6sgytD2NtwCtKmtpkGPUegcGKm1YKPOe58QZzCwTlCchN4AeBX8NChSBd7j/ZBM4ETU+wR2Ayr\n",
       "nKd2uXHK/rgQxio5Ykv5FOiGRldAWJYSszwc7+NqIWkwwSH5BTyi/UM74+FQDeIENIU4OM2qOB8E\n",
       "jFKJvXCBuqYm4z+U1AbfIhzPM1Gsk8IexCKkxIipbabBXnA8G5EyYrmPI1/TLvjVCnYTcN9Mnjs3\n",
       "Cs6gbjnQSS0H80r3KGzEBApVgfvPW7RKVKSg5wa8HwPnF2NPmdxKPMkCQP8UOMeIxlfZNeuMh0M1\n",
       "OH7OsbY0OPW5y3rYJK3WhpgMhNiOoqSs7fdcmOR2aCzt2GXKGTe1zTQ440ZcAHjXetUsKKrnn8rZ\n",
       "kn8DHBFwbE0kPpsC57TjdN0ylIR/HmK0pAqGhrNObKy+ri68cTJseipfSC97Rsxu5T1M8tMO7Ye0\n",
       "Mx4O1WAr+JAGZx6/j0YsKcBkYMx52NGHIYnaAlbU03DlTdn9praZBncBjhMVrJ9st9rkSo5rHrCy\n",
       "aMvCmSbxz50qbTngTqOIrzEa19CqmqD0N84fmTK3aowzwu0I+EImOD3Qb/g/66xoy8IXNMM5TUUz\n",
       "tyLJx3FNBoGDolxZBidNZGwncAgHo21Ng+5W8EN5udKWIjhCCDvTUjEOTkxxxGEvHCZmM/phbRgz\n",
       "kpgqxzvVmhx8CYfRuS6HdM/h4GzA5YmHI6hAp7ExynU2FU6zYoIj3uB3OAfAOQBMBsJpx6izWy1Y\n",
       "jisgniFwSEBmbXtSugY5a3oqn3lLbKIIji8Kvuxi2BmluZX6V/6jJaGDY7CnDlMv74lsUx4DcErY\n",
       "1JuC2HODIK96fjupht6c/eXlylQ4npd+g47rQQPOwYzqWUJmxHmUJIFaZ1PgyMkeE5yreT5R25Hr\n",
       "xWSRyugYc/wY9ubWEqGs7sSgQuHsKwzEfUrXIOnyWsrbaPYXwdmDLn9eAc/RRNsMN7dUthNYaidC\n",
       "68xyJ1Ca1aODkCUJn9a2Xa8+ZDxclfXgX6PcxjZp7PbhzLRNOis4r+GDtqBbyet6/dpSe8jTlNvZ\n",
       "QxaXpGYPx5agz1Z3BE7TII37WtEHxr2OgafLGd+devvwTon3VjNumbqK31uJs3/BMG2No4w3eQIJ\n",
       "dMOXgvSYK+WX1uVzDCz3Wf3SHASrIkXnGFgv8qpnDoJVcXbVzUHQy/+7SD2x8Fv12QAAAABJRU5E\n",
       "rkJggg==\n",
       "\" style=\"display:inline;vertical-align:middle;\" /></a><br>"
      ],
      "text/plain": [
       "<IPython.core.display.HTML object>"
      ]
     },
     "metadata": {},
     "output_type": "display_data"
    }
   ],
   "source": [
    "ortho_projectors_are_hermitian = Forall(\n",
    "    Hspace, Forall(X, Forall(P, Equals(Adj(P), P),\n",
    "                             condition=Equals(P, OrthoProj(Hspace, X))),\n",
    "                   condition=SubsetEq(X, Hspace)),\n",
    "    domain=HilbertSpaces)"
   ]
  },
  {
   "cell_type": "markdown",
   "metadata": {},
   "source": [
    "### Normal operators and spectral decomposition"
   ]
  },
  {
   "cell_type": "code",
   "execution_count": 30,
   "metadata": {},
   "outputs": [
    {
     "data": {
      "text/html": [
       "<strong id=\"spectral_decomposition_as_ortho_ortho_projectors\"><a class=\"ProveItLink\" href=\"proofs/spectral_decomposition_as_ortho_ortho_projectors/thm_proof.ipynb\">spectral_decomposition_as_ortho_ortho_projectors</a> (conjecture without proof):<br></strong> <a class=\"ProveItLink\" href=\"../__pv_it/theorems/52058188aaac77a2779645766ef7c44dbd0988d40/theorem_expr.ipynb\"><img src=\"data:image/png;base64,iVBORw0KGgoAAAANSUhEUgAAA0oAAACCCAMAAABPV8ibAAAAQlBMVEX///8AAAAAAAAAAAAAAAAA\n",
       "AAAAAAAAAAAAAAAAAAAAAAAAAAAAAAAAAAAAAAAAAAAAAAAAAAAAAAAAAAAAAAAAAACGKEuzAAAA\n",
       "FXRSTlMAq1RmmUTNIjK7EInv3XZAMGxgr3zKxjj6AAAACXBIWXMAAA7EAAAOxAGVKw4bAAAYWElE\n",
       "QVR42u2di5aDKrJA5SFPYe6dc/j/Xx15CShR7Gg6nVBrdScxIkjYUgVFMQw3CVjeQTR06dKlTZhx\n",
       "kvgZ8BjfEdrrp8vnivJt/zqUJJplzI5ErCjvtd3lg8U2fAQuRGnT9RDhXyXstd3l43m6EyUUTCTS\n",
       "67lLR+kZlIZJWZlkr+cuHaWnUMLM/uei13OXjtJTKFEQ/72H4BPnws3t6N5cuvwWSq5Dkn5Qj2Iy\n",
       "uU4KFvqekJOSYpDESDYgNR/gxo75qT0WtNaS/UBt5Fmuk5QYuGugWl5+KLIsNO7tpctvoQR1HHRA\n",
       "chDGjeQpjxbTgHP7lrteS0/umG2+tkisjpJKeiMGT6A0DMAlR3aQkVW6GwEqhR670dflt1CaOUJ6\n",
       "CJAIdwabPA7ejipR8q34MUrhJP//CpQeAummlzeFJt3q6/JbKEmYmh8zniEHRXIlSig53S6gNCGt\n",
       "sU0q5zcDJQRiPAIjZ2VwIMB+Qa0aiLS0Z1GJvG+FlhrQmGrQEEm0ixIzwuUquGJQA4EQGFP3tyr0\n",
       "doIMYcTmcvZ21OV2lOiUHvuIL6qSyBo1V3IWPkXdzqNkrwZn3ZDMrRejYZwglbFzoMoo323Ys/R8\n",
       "ljV6pvm9nFs1ljGVVcio3kXJ6m8uV2oVOTKfAC1FlFQKPX9nL8+joEGgcUI+5y4dpXtRGkDU4wQx\n",
       "ZprFZThmfUWm4ImsV7IHzeg6hZHb3iPpWc7QMjqdNdA5b9u0bRmoGEIqZjAUwyFKwqM0n8lluObI\n",
       "K4VOh5cHhbAcD6brfV3uRykTdwIi3tz3D3a4j9KE0OQd+/zngJKImlc8yyl2Sg9juJuYauTGjAcK\n",
       "Ho0o2YMRTwgqhZ6/2zgT2hTj1NtRl1eiNDr7AzjDIh/JPu6VlmGI+ahAccBBZb2Smo9yLWjoH0Iq\n",
       "JhIFD1CSfKihtDCTF3qr4M0YM2dIsd6SOkqvQ8mb7sTbLpkHRB0lezVrp9gGK3SAZv6KMceOn/l1\n",
       "ap/m8/H5VWntNLT57JDKtvwcny1KUIkcJb4ojapW6EGvh81dKsVgR6nLC1Hyc52THuz4G+Wh9bnJ\n",
       "UjFoO0UrgMGDwPO/gWqEtOu6pLQjeMBINzCH3VTpaAcqXJ4IuvEzjRFitsG7s2MqiDWStIZSmKJ1\n",
       "V/O52n9oIqPNyZ5JK4Vejqae1gKpZV/Z2OWFKIWhNKDcYPXcmK2OND6Z50krpX3dVJiNLQst+rqr\n",
       "Lm8x7HC9MHMXSgOmbce6dPkAlIIydgtKg9yMcKOxt5cuH9ornWbvzMni8ECXLt+KUpcuH4gS06g7\n",
       "WnfpKD2Nkg1H1AfEunSUnkaJ91nNLh2lK1Bybga9/rt0lJ5FabQBKHv9d+koPYtSly4dpY5Sly6/\n",
       "gNI2LP8vCNl1VEhuDHsODeCks8OZZeqXOFKEAuIflaDLRqhaG/O7YfZfgdI6LP/rZT86EcTbdxeg\n",
       "dGLTAXhJow8FTPn2bQ+eE7luNrth9l+B0q8rfnDaGysUZPuuJvrsgCNqjUEprgmqHguY8kU9CuZT\n",
       "MqETyHwDSmLaHSrkaP0OcWOW2ELaTGD+wAnH0+MdOWpJBtUI316+zdllBUz5qj7f8IyMtbb7zSiB\n",
       "3Yc+nbbvBheExRcfxOgQcr9ZVpLoNgPxIN/m7JYCpnw16Dw81XR4R6kowG6bxHL7jqIpWi9JNd63\n",
       "lWpJRFsoooN8m7NbCpjyFT0Y0nMjDwZ2lJKQfUskgZbeIRoTITHFBxPZ3XCtnqRpEvog3+bsUgFT\n",
       "vpsSxNhJvbtq073VL6D0H/N/b4kS3O+U2PLcTu8GPOAQvHKkiyK1j1I1CeZNz6D9fJuzSwVM+a5L\n",
       "sETF7T6QjR2EbkXm349Hiajdr7Xavpsbqvb1oueKW2Kb50hipcrGWE2iW2JPHOXbnF0qYMp3VYIU\n",
       "yE/0+Odt3dL0epTeVMFj+0/3bEwivaNo7stsqaEYksmSo2Q7AJbP+9aTjLmpglUmoFaC+kWas0sF\n",
       "TPkWJRjYNC0lmDpLbUoN7LZSaKgHhjfn23eIzqWea1DMf8lkAalb8NG68umgehJmGtSoo3ybs0sF\n",
       "TPkWJdDF/ouM9922WyxZ0lEKQ1gH5goB23d2bMx2ZtoO4SydWhZvKNRu1jLrSahp8JA4yrc5u1TA\n",
       "lG9WAjGthho2B7pUn8Wso+Tv7+DRq/D2nX0zYbeFZmayZN4OQTciZdveJhEtKB3l25xdKmDKNy8B\n",
       "BUUEAEp6QIAGGddRrb4VJX40sVLplZjVpwi3ytMAqgMHPgJs2jnmURKaA/HIVjrOtzW7Sr5FCQaU\n",
       "F0H1Mbw2DW/qKLmHshpOo6Spa6Gu/T7QgbikAqp0Yw+SNN17Q76N2VXyXZUAJb9Z0tfEtD6NWUfJ\n",
       "3t6REpNcQ5Z3jj7tN840DyZZESe5I9GDJGOLs0FLvm3ZVfJdl2DxiMA9Pmaj6FUb+lKUwKGxspmC\n",
       "AcpYF4HRbpw0v1fgmIaHSVDTvNLZfI/PTPmuSxCHAfv6ixMNm3SUZu3n8PYeP8AvkKZd3G/Nd1OC\n",
       "+GP0SaV2Y6n8gb4TpWNTaaZt3L67Stp88O7Ml/RQNM/XZqnafCdK0BzrMTXP8MtIPukZfnm+3TP8\n",
       "ij6+dJi5HyWBxNuhhBt2ukh7NLGr95RFbVOgN+aL+iTsBdVZPpAfIUMvUwDesVcipsE3Jq1VBRd7\n",
       "0qjGO78vX9VHvK9o2VNX8KYWH7jW2A7nn2Yvju2wzbfHdrhGXzYdJdNkKkC5fXeBnIk4dE++fcT7\n",
       "qmbEGlFK+jREH4USNW0PirY4eKcNtRMW/z354j7mcI3CXNgJeyilie9nnEneECXYMBY+vEnQyy6v\n",
       "xmMnOuTG5NaNKC3r/J9SCN4QJW1IW8l/P+hllxfLbnTIlZRbHu/aStF7X8LPQkka/kzJu3w8T20o\n",
       "4UJj2UUp7s7y1EDSG6IE2pS2Sgnjgoipd1UdpfmRTFpRGvyK/0l+GErc4GdKblXEvma7ozSjpJpR\n",
       "wm6wj4sPQ4l0lLpcgJIu5mj3UaIg/muC9K+gpIzsKHV5GiVUjPQdTNHaDkk+tAuowvZLFBZs1h/1\n",
       "bxgHb+oodXkZSiEOHtTVQQemAbfR1SBwsd3DlB/+K73SZHRHqcvTKMEzvdLMUcVfC+PgMAHnL/Gi\n",
       "2f0hlFBHqcuLUZIwTC4hjJjWjpYlvvQAGRyptihJjLGa/8a/gJL5MUowDobfjFL5VELyroV6TN7s\n",
       "RAQ3Vag/B6XxFEo02EECjXZjr2muGZHmNyGbFTw4/qhXemRDvQSl/3/zXqmYQr583VIucjuoRLHW\n",
       "OlmTQk52ZzOBpxDmdT4wSSlBg8HpXUUoJpNL6txz8ceg9J/CLfrfI8/wUH1UaGsz2aQjylGyAd/5\n",
       "n0Ppv38JJUhuzGm5eLR/B6+HsGxJEyauPAk64N6CQ58RAXynOgjv+Kns9Uf5pSil6rOBbOzzERHu\n",
       "BHqUhIwDE3/GVjIGdpRWF1/sXxruOttIQ/qgyXKF0nGDc/o+03ZpD03d6/vH929EiRUota9Xsl00\n",
       "xgOb9euiVxpGGNRf+WUozaYj1XhrDNQP167y8MwaSvdkFy++qBpxAw2RKknOBjbbouT2B6ASOWA0\n",
       "9BadRDZmbPikUlV6XIP9/d0oUXtAMQtP8n7wqvD+xqYfi5KmVsXZbFT24HDtIo/PLIMGkJ2zn81u\n",
       "dM09s3+XUOXLTpyWIawKlAhC2m94YS2m2YK2WhvVfpsajMKnFIIZ8UW/m+nF343SaHnR7sFD4+5Y\n",
       "TPmFTE+hdM0CwxehlLuzzqXlemCuQvIajYfn3no/1Gm6wC5KjLDy7GuzI7q0f5cAySZHaVBg3StR\n",
       "brURSt1O7sxgKELvM/LwaQy3IYgx0yyhTY38u1EqrElpbaVG5+gjlK5ZYPjiXileyJ3AoBKVw5NV\n",
       "kpousIsSA0uU1Vuyg0QX9i9QUQ2BOUrUoLWC5zeW0VIra0ZzM39Ek1/h5T9BUGSM4n63HaWfyRFK\n",
       "1yww/BWUrBntTinbdjhMj4exw5mztYHKMA5FVUQF+pbsqEuT2b9xEzOZDTv4FsFXKLmdnJTr7AQT\n",
       "DhVvEw3xEy+0SBC6uW9X8G5D6ZoFhq9HaW6DkoRhy9C2hSwP+60r7dHav3QmtNMJan/Y4a7swrBD\n",
       "pjMiNww+uv9UJh3c7TITDoQRPOpjUyqtHR7c6XqDWD7FTPx4A9Fx+KOj9CM5DCl5yQLDX+iVsB6l\n",
       "9tuAhbbNrBNEdtiPL7ujbKLlv+JMwPJdkuojeDdlF1Ci2e7QdopW+m4KWrURG0BjodyBMEXrkmiM\n",
       "ECMzPBpJe5ac8xjiJ07T6O/8Xw9OV+X0q1B6ZUjJKxYY/o6ttIx6xRotritF8JKp5VYcU3Y0ehS7\n",
       "KN2UXbz4Kfu3VcJsLPXlAsohKd4/dNhfVfAuWWD4mygxPQXlNKdhIMb4VZZj5c6KY9YpABZ+dkVr\n",
       "G9WN2d06/zvU5rsw7SjdhdK5BYbLc7bhF9Ev6pWWWms+etDplw9uom/LjpF7LVS53ePpD4TF+GMo\n",
       "ZTZUvsCQgbiYCBu8nXOBxG8P6X+R0k8yKPrHrpP4H/pEyYWTe3/LVcbsrvZOb993Vhwe+DV5/EM2\n",
       "tn7xzz8NNtFLAx0XCwxRGGkdo7fk4mdpIYBCqaikrP0kh6HRdfK5XskFHfwD7s1dDoTbH5J/lIJX\n",
       "LjDE0LMCuT+Es77Jjis5vz83sbvxk2x1nXwSpR6463MEfRpKywJDZ5Uar937qUKddZs0lVwtV/G4\n",
       "FRfODlUnqzpKXT4VJbo4flmN034xUk9EMXIq014MpKiKonUfu05ejVIPNNlReptNYcCixCFqvYsF\n",
       "DAsKx9yWm5YPwSNy5SdZOVR1nbyrV+oRHzpKv45S9oR3e7B6L+ah8LOcUywFXxwlCz/JyiHWUery\n",
       "vShpPs5feVMp87NcLCKWCCn9JCuHXqLgdZQ6Su+HEnXL3mEcPMidIKjhGLHgtKlyuvwUppCbQw9c\n",
       "JztKXT4eJa3I6IYaNA8+eYufpcAjlFwZ/zm4ROZ+ksxH1GpwnewodfkCBW8jdT9LP/da+kk6n80W\n",
       "18mOUpdvROmBVJwiK36cddfJq1F6VaBJSyvHQNO+wXlH6TqUao6S27uodyB/rleKvlOC274WctkZ\n",
       "6Chdh1KLX+SDU4xpmkt9EPTy9SgtvlNS+BmCjtK9KP37ZSj9XG7tlYREWtKNwVc5+MA03Jy5+E4J\n",
       "xHzefY/c3it9PkpC0W3C6sE6Sdsz09AJpLBD9F4oDV+O0nObwuyjZKe1vFd6Fq5uOXgYrC4lT6Mp\n",
       "S2HRozgZXX4FpbGjdDVKuTur/XPRtvJwdcvBw2B1y5nZT7H4TjE2st76O0pvhJK6qVcawmIpjtzi\n",
       "zAWldPAoWF06MwWry3ynwrDD0PumjtJ7oESe2kBzf73SZG2dES0oOXem7OB+sLp0ZhasLvOdkm6i\n",
       "TPZ5pbdACZ7YIf1DUeJPbeu8j9KIEfSh1T1Kzp0pO3gQrC6dmYLVZTHqhJy1Pdy1vPdACRn17SiB\n",
       "ttAMz66iDQre88HqbolR1+VplLQh344SNuB+lGK4usti43V5N5RkEWTlK1GSht+P0lKTzUc7N38M\n",
       "JVxoN1+JEjLkdSh1+ViUeDF89ZUojWbqKHV5GiVSeM18JUrUmD+BEsKIad2jV74rSpNh347SYJry\n",
       "PofSz+/mUUqBRhtjaaI/SfwbT6gbrynGB7W+eCW2vl6IUuHN+qUoqaZVFqdQ+vkCC5uSmElF76PJ\n",
       "xt+1PxIV2tp0RhwkfhO5oyjxmpqMD2qBgTCDPQa75ej1OpRoaSd8J0qgyXPoDEox/j/imdu5NhM4\n",
       "bF8u5ZhP9olRGm/QAhc05ihxW6MEGIO6lwQjU0WJpEAZAwDg/HFdyWwrz1AUikmcaqBllGmBZ4HD\n",
       "GX013h7ce5zwkF1ci3L0ehlKYzl69Z0o6aY52hMoCZJhqpcHZkPnF1LKskTCb65sQ75gPLCDxA0P\n",
       "UB+BSavVpUJTVaB+/3735ok8fiTRVVEwZmMM5wmKdMLlDdWJ/ZyW25Nq56zly0ju0etVKOnSaeY7\n",
       "URqbRsNPoISXJx5FyyMegYZKjCnJCju78txFT1cMsqPEx6qIjo/34loUlw/2dSoQ2sLDvk+sisLt\n",
       "BUlo22XXL31e6ARKy+21oYRw2+tVKIFy2dt3oiSahvBOoJSUMERJaCxITA0zwVNSvEt1yOp2tinr\n",
       "HZeHqfF+yXIiKRqlbkKJGdV4Hz5obrjtlVZGAo8nts+chlMoDbEGj14vQkmVN/idKM21QK9EKduF\n",
       "Eg/YtwA60gYH9JQSmdN7tLZufgmT9qjzroKZJpRa+vCsKCJ0YqV+N/AwEol+cHuNKBHU9noNSmI1\n",
       "O/mlKMmWcYd2lLDMUNK+6vRch8cu3FlKYM6unVgSUyD3InployzjDOxIJg0loRAYBdy4CAdU6zAo\n",
       "IbAOK30jSnJWZGKa/Pu5ES/hyrL7GIOqurodaEzc2XG+mEQYA18qZPdjF370IxWjuGakRcxfCybL\n",
       "nX4SShK0vV6DElx5cn4pSmOLQ2s7SiQzleYqtsmgGApTKa60dQIqKQcxmZOrJ2Li0T7wuVc3RKXM\n",
       "2aw8c4/SCUNq8VKxV7KjdP52mbL/3d4HHiWh/QYiIU32/RA3WCzvIzxK4Lr2tB3jJ77yJrtaWLjs\n",
       "oS08Jn70A+a1nq6JSXxODRY1rPI71UvnEO2wo9drUFqZSt+K0jCZK1FSMJlKczIbLQUuNsO+pgnz\n",
       "/NS5mwiJhWvrvn1VlwVuULKbkLrFiRGlaRkmUH7lrqWaGiWljFM7IU32vU0C1/fBwGTc+vlpY8gJ\n",
       "NH/nO0gCPG1jQGl0VZ0Vo7gmDbsBzZU7N8z5GYXyO6VLIeDU9noNSusm9K0o4YYeoB2ltEcZDpqN\n",
       "zobNdn+PsVA7zzkJhcTY/VZKbnR5slXwoDtIQreYeqWokbHQLq29QwvrzafJv89RWu4DIgOglfq9\n",
       "MN8ACfYl9OfYiTRaFCO/JgUkbvmddVD5jYKwzXvcsuHo9RKU2Fqx+VaUxoaFtD9FacIDdM9PdhKl\n",
       "uftYR/2iDYld7ye2c1hqGZVPv7p0DZXgRyjBaOjwDUp46UjC91WUomLH1tYoyi2pUAB3FYFn9nZQ\n",
       "GhhOS/LtvgobwzeiFmezj14vQUmvI8B9K0rDNF2IUlJvbIMh3Kp3AyhyeGArqdKCXj/Jt+qayBR+\n",
       "n1i4tud/sFFXbUCy/JqTUwPjwLRFSdZ7JbxBSRa9En6g4MWBO7SuvHgt94DJeiVoiWE1lNI10wij\n",
       "0wRtEJp0p2nQHaq210tQItPQUQoPlfE6lHj89TV1DLmPU8tSXZ6zMh4bV0xrtUrsbf+5BUMqdN1j\n",
       "j0ZtS/ueMqJENigNfoLZ9R01lPLvc5TSfQQScGxAoqw2v2l3tJVYgHImhNE1SumafpBO8NE/n6Sb\n",
       "dot3Kqc1F0evV6DENmrN16I0HI/htaO0jLIq315pTcOpSj4+S1VLUK7s0RoS2yYH5w4GD1TA+sgF\n",
       "86qcDmWPip0kHiWS2jBz+1M5blgxnxTSZN/nKMl1H2Ef2oJlFptyBo3ww3LEjjUIZ945lGbEZ52Y\n",
       "lCiluvEozeQJO2k3wiG/0zQYHkfPj16vQAlsnlnfi5I04jKUmP81gTK2pYzOUUEZBY7RYFnTJ2vb\n",
       "qqquZbCExAJoySjQbN3LFb0wxxj4pjSCxc0WACmsr+AEGOTG9aMUSwlGZ+0bA2LjS2ni9yVKy31w\n",
       "Hse3mB83V+EBAYYRSxBSEoC09u8Z0FALqXRZjKJuQq+EtR4gRrDssxJK8Zc5er0AJbF9En8vSuJw\n",
       "4OGE45D6cTytlHLlgS2iEoN5FLRW+DfZCiNeGtkrmd6xKHGbRWwUDhGXKg8Ugk/VTcXbId3p8iVV\n",
       "ba9XoKS3beN7UZprQ1yGEvrxUtcl5Wq1LNUP1LX82CZbSIaXLbqdC0zTIOXjGqg9sdpQWq5ZQSnd\n",
       "6fJl9H49er0CpcqylFeg5AS8HUrbmZifo1Tf87ZJQspxNV/iVgTU1LUCr3W2s673slrlU+EE+KgG\n",
       "RE3lVOBM3WQODZU7jTNNlLe9XoFS7TFcSaR8279MkUJOxvdDCR6U4AxKgv+4fnhlyAG6NUJeidlR\n",
       "8J7I9nmhUufG4KOiVEhyhhdtrpvcoaFyTnCFWLg7er0AJVEbUqok8k3/9qBsv4/S3EgvQ2n4+f6w\n",
       "LqWCwgulbNTE+9dU1bVS6XujbWnvKEq8JsUPliNTGb+IndTR6xUoAX6rIvcHURoUugylJ6E2axF1\n",
       "dY1KYnr0/evkRyiNk3gzlOo21EvLMInzJVTI9h69Ff55sT+j5j8wbzYP04ttoqtsqJfKSM+X0NVb\n",
       "D07394XbH5KfN2/EeNYm+h8NbzwavqG6FQAAAABJRU5ErkJggg==\n",
       "\" style=\"display:inline;vertical-align:middle;\" /></a><br>"
      ],
      "text/plain": [
       "<IPython.core.display.HTML object>"
      ]
     },
     "metadata": {},
     "output_type": "display_data"
    }
   ],
   "source": [
    "spectral_decomposition_as_ortho_ortho_projectors = Forall(\n",
    "    n, Forall(\n",
    "        Hspace, Forall(\n",
    "            M, \n",
    "            Iff(Equals(Composition(Adj(M), M), \n",
    "                       Composition(M, Adj(M))),\n",
    "                Exists(\n",
    "                    x_1_to_n, Exists(\n",
    "                        a_1_to_n,\n",
    "                        Equals(M, VecSum(i, ScalarMult(a_i, OrthoProj(Hspace, Span(Set(x_i)))),\n",
    "                                         domain=Interval(one, n))),\n",
    "                        domain=Complex).with_wrapping(),\n",
    "                    condition=InSet(Set(x_1_to_n), OrthoNormBases(Hspace))).with_wrapping())\n",
    "            .with_wrap_after_operator(),\n",
    "            domain=LinMap(Hspace, Hspace)),\n",
    "        domain=HilbertSpaces,\n",
    "        condition=Equals(Dim(Hspace), n)).with_wrapping(),\n",
    "    domain=NaturalPos)"
   ]
  },
  {
   "cell_type": "markdown",
   "metadata": {},
   "source": [
    "#### Simultaneous diagonalization"
   ]
  },
  {
   "cell_type": "code",
   "execution_count": 31,
   "metadata": {},
   "outputs": [
    {
     "data": {
      "text/html": [
       "<strong id=\"simultaneous_diagonalization_as_ortho_projectors\"><a class=\"ProveItLink\" href=\"proofs/simultaneous_diagonalization_as_ortho_projectors/thm_proof.ipynb\">simultaneous_diagonalization_as_ortho_projectors</a> (conjecture without proof):<br></strong> <a class=\"ProveItLink\" href=\"../__pv_it/theorems/ce0927b6d8023fd3f4faf63186a92a89fabd82e70/theorem_expr.ipynb\"><img src=\"data:image/png;base64,iVBORw0KGgoAAAANSUhEUgAAAzUAAADBCAMAAADB2W5MAAAASFBMVEX///8AAAAAAAAAAAAAAAAA\n",
       "AAAAAAAAAAAAAAAAAAAAAAAAAAAAAAAAAAAAAAAAAAAAAAAAAAAAAAAAAAAAAAAAAAAAAAAAAACC\n",
       "gUnDAAAAF3RSTlMAq1RmmUTNIjK7EInv3XZAMGxgryClfGjty/8AAAAJcEhZcwAADsQAAA7EAZUr\n",
       "DhsAAB+RSURBVHja7V2LurQqjpWLgqD0zHT34f3fdOQmqChYW2tbtZPvnF1/qShaWZKEsNI0Nwma\n",
       "/4VJAwICshGurUSoNLQN/+oYPB+Qr5DRqfl1qJFkkjbZEhDEenjaIN8hRscJuhA1mwGlE+5TYnja\n",
       "IN8EnTtRQ7w708FzBgHUVKKmGUYjg4TnDAKoqUUN5eZvL+A5gwBqalHDUPjzDKEnjsWb21GgLiBv\n",
       "QI0dZqQLqzHaDXbowQuDTchhlKKRnZa8IeO0odcm6jYeqb1SSvIX7L4+ueogJUX2HCR3LRcMXHaa\n",
       "gr6AvAE1WIVYAJGN0DaWNjoUcYX63vyzt2ORGuw2o6mmSzyPmjEafhT9ADVNg2xzYsJ8PDOICJTp\n",
       "dAsOGsgbUDNBhqjG40HYI/jgNN/5PEvUOIXdR40/yP29AjW72LMztJtOd+ChgbwBNRJHTePawcXq\n",
       "f8yxiaixxplHzUCUoqapnP7RsK7DlLZIy8maazpkdjBjxxElzVFMEpeJoKRCLLRqFCaSHKKGa2Gv\n",
       "KvqRY4UEIaiNg9qq09uJJ0IJn/oJegSouRI1bIgvc9LPto5I9Lcf5ST9EIwzhxpzNjwZd92kqJQ0\n",
       "7YCZDK98NurRDQbmKDUdZRyUYfq3nBSYytDKWFRMHaLGGGD2qsxYYt10ADaAYV2m09M+c/o+CGkE\n",
       "aQfirgwCqLkMNQ0KhpjotB4msRdskxEgsdBEMtaYjbq1r/q2N2NCNJSsU6RVPKph07WNFps+MNH4\n",
       "VlxTLJoiaoRDzXRkL/052z7T6bh5ficIA9lGg+EGqLkUNYnYA0jnvHD3usbHqBkIGVxym/vuUSOC\n",
       "6RSOspbZqJrW301o1fZatwULjQXUmI0BiRhlOj3t2yTUmRbtAHoEqLkJNa31FZB1AtKwcXmsmaMD\n",
       "01ZBQhxgTMaacdraK8H8W9+34iIq/A5qZN/kUDPDI+301kKbEMut08NBkwA1t6DGedSd8zOSfIE8\n",
       "aszZjE9hdFMoj49pF+cWJm7y1Nptqp+2T5/j5P8bE2s62rcySp4iZYsaPIoUNf1s9Y25TjdqHaO2\n",
       "rUaOATWAmntQ46YLB9WYCBjrvaLZ+UYxufRacoE0bQSd/kxOPCHKDkhSmhga0tKGxqidbWxN/MBe\n",
       "k2AbwVKUEG502x4dWmGqiGQ51PhZTns2d1Xzhwxda65kjmSZTs9b4/iJbNwOFt0Bau5BjQ9modFG\n",
       "hie9NUZO+8NrnvQo6tf5+AnNZacFrBMCeXc04Hrh+i7UNJTVbQMB1HwWarw1dQtqGrkJJ5MW9AXk\n",
       "88ea0zA7c7AobgAB1PwB1ICAfDZquCKQQgwCqDl1ODrnZoCAAGp6mBgEAdScRI2dlIfnDwKoOSGt\n",
       "4RyE5w8CqAEBAdQAakBAfgM1W9Z0EJDHyyEL+jtQs2ZNBwF5/nByxIL+DtSA5QbyXZbYb6AGqkGB\n",
       "AGrOogaqQYEAas6iBqpBgQBqTvs1UA0KBFBj5V/6f2pRA9WgQD4aNf/8BmqgGhQIoOashfa0alD9\n",
       "m9qAgIX2A9Rsq0GdBxCuiL+t6Ms2LOaiiAABqAHUPAQ1aTUop5xDstyG95pKSbMrcHA3OCjYZINM\n",
       "JamjOk1rTQ9X3S+Ctt+vbJujnoMAan6ImlgNyonUaTjNFS8LFW3m8lAGBViMdqetyrSpJFWo07RG\n",
       "jbuqRBTtzbbu9WuvzbLnIICaK1EzV4Ny0vIhfXc7WmXftVgeyjBqToCzX81M6aYoU6lO0wo181V3\n",
       "M0sP+pVvs+g5CKDmWtSk1aCMudOlWjiYF7wY7cs8KQ/VsFjyYpzP7pC1uGCyaTEl1K+9ng4tTpbx\n",
       "i3b7lW+THgECqLkYNWk1KOMj0C4FhyKEusI3C5JYOX+ZqzItijJlNmG6i5p4VY+AZbWA436FCqHL\n",
       "JosjQAA1F6OmSVSr5UtXwDoHwhk7aXkoW6jGN3EAWBVlymxq+z3UJFft9uyz/X7l2yyOAAHUXI2a\n",
       "RKiUEiX1xpzWMVtvIy0PxeMxc1WmRVGmzCa+i5rkquh8v/JtFkeAAGruQ41ymsaXzkHT2i1peajg\n",
       "vfAIhmVRpsymXQstvarMWmiH/fJtVk0WR4AAam5DjbfBTIhXyOjzi9Hpe0wgYLqnZNJHG4UeUyC5\n",
       "okxCbjat6jT12avuTGUW+pVrszwCBFBTFEHEK6ihNiwgqO5M8U1sbCstzUyhD37F8lC0xbIftfvu\n",
       "6y+lRZm4e9Mf1Gnqs1d9rV+5Z1k8AuQ7UMMuC5JesgI6o3D58lBu+nJVSQo3x3WaXs+CASAAah4W\n",
       "DUiwUJ+OlqnAlGm9POpl1LTAEgqoeSxqzgx8mapM2/Mth6iXUQOzloCa56LmnCN1+hBgKQD5GtR0\n",
       "pekN+uFuhejAwnugsFF8LmpoiZaTfjxvJx8BNg8UiT4WNXgoaBT5AnoBAoS9T5SBfChqRKnnfPiG\n",
       "9zRM4jxR2sIb/bGoQaWRpPsKTg4xgI32QEH9R6KGlzIdsb5Z3d5kO1Gw0Z4YEND4E1HTlYaa8e6h\n",
       "pm/f9PtA3PuJlvP4u6g5w4eWjCRtCYt3DTVidKLfxDbTA/vbA4Vr9QJq/vndsaYbqw1PNY71Cfj1\n",
       "B6toOe338+wwwTLtCFBwPHKwGT7OQjtGuhE9R9hSIqi4AnpXZKXhFcGldk1cdTYA1qrlZ4UJDfI7\n",
       "go9+lmeiBpXsr6TxAgbdttuk1xpN0rmlBGXUSKnS5E6cWFBtPwzteg+jXaiTyFaT/ZtdgSMk5QqB\n",
       "ZTePFN09ETV7/o5xLYo+RdK9FAY4WzBx6D0UeQ1qOrPcbJz7LJKHRynuYtf8Hkp5G9gIVuHyzK4A\n",
       "qwReFMjgnyjoYOXtP09EDSkaLYl6pjCgKEeD6829VtMK1Di+v8h6Q+Oo0CNzktWeniZumF7MzOZ2\n",
       "ET+wkDjAKGBJe6K0Wj4QNQcWWl8MkCX8TwkMJJOZFwTx24hFTwk1PXKDVujBkGj3tI3FhQh2j6P3\n",
       "8KPZcg4pv2tYfZpd6z4HRhCYyvlVE234KL9G6LF4RzKDGqYmzcaZodbr4sAqUGMHpKlz/jw4DmrD\n",
       "0v9I9gjfnUw+w2ZXR5afybVmeIZdwAv9m9Lvm2hPRA3RxSmMxBSKMKDmvU123BqBxppogAio8eeh\n",
       "Mg41y5ZxzzSYu12ZyN9mV8injXm1YtVnnnhOkG7ze6L21fCJqEFF3rA0WjvDoMXmpHJ7nV4phcK7\n",
       "PUENHRMJoS53gjn0HYeEcTVgxz3BM8GZO9rsCpnaScb2Emx8GOZODQCb3xO+H0V7ImoGXT5nBjXU\n",
       "Kj3a6q1j3PA51IWxZkaNR9+I5x2rAPG8h6NBW+qzYWMIZ3bhYfm5NDen7i5qXnHIif5Fx2bXvX4g\n",
       "aircmjYZjQIMVE8pRduYdZjk9YGCooUm3QX8+3+enlkbaHEPJhphI3oz8ZLZxfXyc3al3OWHFeo3\n",
       "G0DeJt2uzfNA1OByBlhmrBFOzbeIC6OPC6FVRgPmmeEZG916IInTnd784hmfarurHZafS9Q0DC1M\n",
       "TNZBltqvCd3NUHkgiyAtBwMyqKF57yMqrPeWCn5N0/fu9sXSDmNR71d75vgYydzQdhcel58bv4ak\n",
       "vRohivZ7QnZf3w9kEezKiVlsE0MLNQZ8So1YuzWzb1ec5bSwm+fre6/RdMCO/IyHMaZXK62negmr\n",
       "3K5QDyR+Nuu50XQCtINVBL8aDhg+x0IbyiTiInk9WxiwcH+9PauI4Q9vWbUhHFXMqDFjSCy76QPE\n",
       "rR601iMleA6dzaHjMIFpriT44uLrXU0MWMfA9SZ9E83xDahB8JsitP4c1OiKpTPJjOMEA9FrbUGB\n",
       "zT+MOo6e/AXNqZt4FTzYf1ZUqlhEh1tDivWsEZiOeljvmW06i3Zu89fGmXlmsysWoooFqTbLVkPq\n",
       "G4N60r8reu/9/Xuo2fN3mK64dNev/Zq1G76HPHny/b3vWYQ9gWidTmORWF58u4t5rLGxWQ9IySPY\n",
       "mnogvyDjnq+w57/83liDy4Fn42YUYLAbUDiLGkLP7zmIZoRk0CQpVI6gn8+Ubi+I9jwLTemKzHkS\n",
       "389ZGAh1FWqWNTuq9uxffDa6UuOrhxmZhwrai+Y+DzWyZsG+iGNnFgb7ensaNaI/u0eVIZgCTgPH\n",
       "+kOFavQpqEG65t3b02jgnOINGE7HpZg6v2fv8mz5aaQFkpqnitwze56Hml7XrAj+Ho4KCUs5n4ua\n",
       "8VNQ01WhRnxNPeUB8jOfKmpvmvMINdFSwuR9qBl1VerVt7yiFRA7PVaI1udRE6emf5LZcZZFcKhD\n",
       "TTN8R4oWDDVfhBrDJzCvW//RJPXZsWbQdT42+YrBRoFX81zBr4w1M/2QxG9FTaU52H1BxJYNEED7\n",
       "NtSQkEj8zmiArkVNQlr2qSJGsM8eLO1LqGncCvZB3oGaPX9H6/+tfVF//Kr6HiY4nyz/2kskPuZD\n",
       "o9bj7iuVU1401vxfHRitfHQ2ioCVAO+X0SnOj1BzPNYwFP7kX/YjNQkqxK9tpxehBtehRpJJQO9A\n",
       "zonRGoJ0nY69hBo7zGQyt7hCvamKhFFjuCh9FvybUQN+NMjL0LkVNVjlYgGU+rkSTJTBSlieCKgB\n",
       "AdQ0BjLETZ8QSrhSFhixjATmuGXKoEZSSsfp//Y3URPoMwaw20B+EzUSu0CVIK2h4TPTC0mCPOaT\n",
       "hYbbp401CuK5IL+JGuY9fSbsLLY5S0tS1ExYUT2gBgRQk2yf6SWQ8tR3pLMkrIa/wqBGyOD5AGpA\n",
       "ADVLMdmSlDa84XIx1jQt9olj+fmasyyCgBqQT0XNhoWDmQNHbnASZz3ddIlCr6g3oAbk68ea1kBD\n",
       "SQMmFqoR8dEtIQDUgABqSqcV0vg1tSXI34caHCLP96Jm6b8ReVcyGZf03kQ7vHmEClBzG2rO/fYn\n",
       "WQTpv9lPTvuGsWax2ojfuRZTbkdxRpVSMnmBDYbpU9DACjptGKSUqCLj1tnXjHZugZ8tBE8BNYmK\n",
       "/vvflf7L21DzuRbaAjX4zmVl88lDClPjps94skiCOh7SiC9k/4mKKwkFckNloMmyHLqtBNQ8eawB\n",
       "1NSjZk5hYv6uVSRPka4yvFyhpvwD2jwOrgxzCYuD5t+oaQio2UGNUpRN/613ZbdmT7J7ZBY1t1zO\n",
       "nzymMIVS0imLoiu9vkaNJWZnklhsKOy8L0mUmr+N8VE6ZLrTYUDN30WNYsZI6dZFybNbs+fYP3KB\n",
       "Gk9fcM/lWqvZSQrTGPyOWFRBmvy7BWo6QpSroWC8m4FZs8swHprTU+K/sXmQdKV0fJEDTAE1fws1\n",
       "afYmsXWZjGHDklV189YWq+PqMLH9IWp4x1eHX3q5Ti1TmOYqnTpFTTOi9VjDbFEqxux6Ua6pKXNg\n",
       "x5S2999afxui03qYxP/gbQ+o+ZtjTTiTq4mJR7Hdasow6ar2h6jhCIk7L4c7tUhhQqGQR2qh2dpx\n",
       "awuNWZpFJdVoMqF6PX0lg1vH575htLhwoPzhgJo/jRrj3tpjFmrst7JyzNgfOXkGBMtdC21OjLjj\n",
       "cq4EXJLCxH0doqR6h3Q/V79CjS1uONohTHBhUeHLTodv/cIMRH7wAgvtEag5yyJ4DWomfTPsnDSq\n",
       "sZDLrY2N5JqtuT/xSGxSusdCNOCmy/loQGrz2Zhza/8yCxiHETTEDT6GxqbhbWo4KmWR0DtyDzF/\n",
       "CxdxYYBOhagEoOZl1Pzz6WMNVa1USkQ15iZjINnqgrl2Kx/Y8s/iSMQTz3kvhnbP5fzJ5xSmxs1y\n",
       "Sjf4YGP3UY1Y6JTd4Gc5bRNFCeHdhBNFpDlKTtdowrdQDcTNcQ6qscZmzwA1f9qvmQNP/tYX55XC\n",
       "p4/krrbYNprQbyuOUXPP5cLJT6Uw1Yqf0PTlRNBo0Sf+Ri1QQE3pQDW4OYhU8ZvOlHTebA36lG4z\n",
       "U+h4kWu2UKx2vPFyt06hNrl5JMoANU9GzQ9ZBM+zbZDqrYV0zOXruFO3XY539045yo1O/BWmLPIz\n",
       "PrR/vm6suZ9ecHVhfpdqs9urJojihs+VQ7ZAsNA2O4BeEKTAFgio+bHpBvLnLDFADaAGBFBzPWqA\n",
       "XRBQA6h5dawBPgFADaAGUAPypah5dx4aoAbkt1DzD4w1IIAasNAANYAaQA2gBgRQcx9q3sAuyLu+\n",
       "cmNz9jjVU6SYAggAan7MIvif//7nUWNNlrYPyZcbBwY00ZsMftxLgMCFqPnXf2ta/yEWwV9CzcBr\n",
       "N1YdNzOgSWFHGQKogbHmF1EjJFFyfUh2Y/79kz+Sa6WQqNmY7fL6uJkBTRDuEhogTQhQ83uoESPb\n",
       "HpLdmAfNzpFqFI2iNRtz/VofF1dUYoYBL4Ca30aN4ZZwdDEJcdm8schbFpsvxRBZGHKklA0tbCye\n",
       "NDSeJTKgkT33DwRQcy9q0uxN879lY0qJy+aNRd6y+ciMZ0LRig3Nbyyf1B2XPP2ZAY3zloPyA2p+\n",
       "caxpPBN4T4R5GrOCx40l3rJ45IomzTwuG9hOUeM3FsnQ/HHxlAkDmo8GNDDiAGp+DTWG9pjrlsyo\n",
       "sZRkycZj3rJ4ZOQts9unc3m6ZNFsNxZO6o9LqNCincekJcCQMF/zp1Dz7mq2BdS0lGBXKNEpuGUj\n",
       "SzYWeMvikTNvmTuWevo9j5rlxsJJw3GRCi1hQBNyMtcomGmfgBp2Wdm8567l9Ar+c94yvD3pYmPt\n",
       "SZNT3sKABqgBC+2HqAnEZT/nLUu2z2xo6cbak26Z10AANU8ba/ydVm8lZ85AfnhSEEBNRn7IIrjX\n",
       "HNg2QMpq/A+wCJ5CTX+vX00o4UpR0Nc3iegFWGi3owbdaxEJ0g7ExqdB3iN8FICam1GTS91/RcOZ\n",
       "8fGHMeQcDJYcdXrCTCgTOtai0Pgpwu47pWh3IoAxs67281DwCKi5FzUkw9G/WD7A6kj8TZtWJz+X\n",
       "aKXWbs7FFPQbSo0fIjd0JZxSde3eq4Mjb1a1fuq29HksEgFq7kQNy1hOy+KBXdVtuzZSL9wX4Wpm\n",
       "2pwy2vBC4yoFRJSivOLwbsj4TgyNWiOE+n7fDpWJReO7wmgXyORZt1ATQSfBzQk3LdwdPhxue3+5\n",
       "sCCi9HksIwHU3IiacauCYjG4YF1z26FNp5c2iFl0ycwJRo55qXHZ0nElPtS4OpVXyxHlb96Vsh12\n",
       "r4Li4/FdoZS3oQI0WrQT9tp4rK+iM9+dHA+Hh7A3gLT0GdplVQMPAlBzG2pIxnCii/cURTVh69CG\n",
       "6eXPZfIsW6O16mCqklaGI5hWAckL2DC6fF2vWyH/8+2OaGLVld6csPNqrBe9k3TXri3dXSVqCK37\n",
       "DCjO96SjgJrbUDNkNGkBJMmkrghMD/Ehna/HN1Qe180HdgsFVFWo4Xqs7IoroD70Obuq8w+sP393\n",
       "lahpwnun9OkNNpSNMLT7L0pAzQ9RozKPYFHCj6npmPLFkzZIn01Frq0ZiKPTpNIBgOsq1LS6O9MV\n",
       "4YempYHW9N4PJOfvrhY1Han7dFZpLPe+esUgQM1NqMl5AjQdfkzdcl3WkKSNGPTJSdO5MUPyiK4J\n",
       "xY6004jWdoPCsmMY6REhbFHDlPKxAkGVXy0aUCOnhxjapPsnfZ3prZL7aL2HtnoJTG6e9C/36WSS\n",
       "UOqnu4ipQy1cUCJ2Iz3ljAthKBG4XHokETUhAFb6DJGGjuXfMQJQcwtqeE7B01dZi22htUTDx0RQ\n",
       "tk2VJZS7YGte4737UUSmw118Clwbu2egmBkkjWGsMXEyd698NH97NaNGqMFexrdJ9pthBW/vQ2mv\n",
       "fGw9PE/SOeAMZhmrsJfHpvO0c68inDzyeEraxVeRQRUd0ztV0cjt6j7t2Q3FVdaFEXtjPqDmh6hB\n",
       "OY9ixIuhZn5XHwY60/6tws+1jYVVa6dK2RVnG9SMo3PkZ9QMs/c+yvmtwPQopQxzJr5Nst80wev7\n",
       "4GjQdsH1sHlEgkz73LDnrCBsRiWLGudMJN1IT8kGv4Uwo0vC52SEO2VzJ/BQ92m7aS+R1eN+/OOo\n",
       "+WkN171VcEMOD0kdKNXTyQKp8O+XtaO6c8mivjG1j3eUm3dmt7XQsN0YTPc41gSTinsVNMMkW/Tf\n",
       "tUn3p6iZ7wMTjbCR/BuAu7C0C1QJf4yZ1mWLbiSnZKgL5+bpuJPcKPLlrbluqj4bu2bP/Ewqr647\n",
       "yvSzBCrOmw9BjdbtT067t4NnPZaIAL88v8LiWqJGrjVNsIrGNmYltncaMDE9fxSHM5VEV7eowcEp\n",
       "6TeoofPw4PdnURMss80jIqnX4ztgzyLoBLN91DScpkmVw1bRZYBVSKMofc5TQWLMm2gELLQbUKOy\n",
       "m6O1FZRyKPo1Cwut3YxNW3tLJMa5a+zscPeMW5U1CmOWwjCmUWCDGpkfa+gGNXIx1tAdCy2EzjYv\n",
       "7HAua9slYw026OAZ1MRTJiE+a8oZepN4p9F7D1lkpc84w0lxtSUBqPkpavrsREkfVDwwkFWk1PQJ\n",
       "LNhY5o7hSo2rxs4ln5QVs2mMy/40LJhLyvkjATXdBjWNS66xI0IONen+FDXxPrzS03DvoT+jN7h0\n",
       "6tdwj78JDJytUBNP6aNkom+dQyntaB7uVMZoQF/3GWhI9lIFdxybH6PmUyy0QZM7UDNkHZYQ2GTh\n",
       "Z+zLbkoaDO2qnLAkLdc3NuqFp2GDNkzsJO1yZ4spr7rBMpOdQ00X1ZVbmmgLEb6Yp/Ftkv0pauT6\n",
       "zW8mVgVPvKvROh/CRcY6EwIQ1hWzqJnQjFnajcWj8aiZQCbo4OKTyZ3GyHOIVZc+GzIDMrtCSuob\n",
       "1Lv966gRO56uC4j2WtuMJ2z+Ucqu5MnIseyq2LG3Elz4xgIpyRlSfDV2LY3KnlK/tKFFekBO3RGS\n",
       "ouHmO5+6ay0TRqU0s+aTF671vBgitgn7l6iZ76Pvw5PnLkg9+hEUNS2VyLfsEFHK/ZsjhZWQo1p2\n",
       "I300Yawx7DuYErwciiJq/Duh+NlEHmyusvra/mnUjLeghu9E9McXInZzm9WaTaaCFUL7IGSFmu0F\n",
       "hRZvpW2KBnDoSu8fGNUj9bQ9GZuxo2ceTS43IN7pvJeNdZ8V6qD+NGq6uiyVk6jBO94SeWGxcmjT\n",
       "rizsabjK21vpts0Fcde8bcH0BHMWJ3v37z033FahZj5lDjXxTue9Iduz9FmUHVviZ+qN9fApqOm1\n",
       "vAE1ZC/1pX9hOaNrs4oEYJedn7O3FkhaX3Ay1t62uLMfFolwe/cucu+tEdU/mnT2P3enYQaH9XWf\n",
       "NUMoul69iR4/BTWobrb9JGrU3uHifNqybzNi4YQx3qrOTaE7K+TAQnvpglcJk4s6OXtdyYDGOkms\n",
       "9tGks/+5g0LmQMBY6bMGNf316q32cmCfhxqq0Q2okbtrC1+peGnaUL0WsWdvLa22B5XYvKEr4ZSM\n",
       "IrwH3bAnDD2lzxrJr8P7mXrLvUyR56FG1i1aOYkaqt9Dyp+xt5jsNJCb3y3jeL160z2z53moIbq7\n",
       "ATVIg2J9N2qG69W7vyeV+g7UtHr4CtQAn+DHo6bbc84emPOs9Q2oeZeFFk014BP8eAttd83h81DT\n",
       "6Krc+9PRgPJJX1Lw7+ATZDeec49O8Fo2wTuiAfqeJaK3oGasWipwOvJcnIB/iVLvO/gE7+hImU7w\n",
       "UjbB4fr5GrbrKzwQNagqpeaqWc5ZZnY/0lsqPtRVEKn/nE9Q9EMpa+QT2QTr6AQvZBO8ITdgn7Lk\n",
       "gahRVdOcpzNqCgNYyu7n86NREWmX8AkWUlU+kk2wkk7wVTbBzPXyGSU/Um+1m6XyQNS0VaHn09mb\n",
       "hddVkvEUCPzaInwv4RM8Xk/0mWyClXSCL7IJZn/f67M30e4v80DUiKog2tn1NSUEDFtrjhTzSK/g\n",
       "E2yPAwafySZYSSf4Iptg1pbAl6v3uPvLPBA1U2/Z9agpmBdpUmOY2+lKYeNL+ASP+fY+k02wlk7w\n",
       "RTbBrDXFrlZvsT9x+ETUyJpwwFnUoOO505RO0L1wJ5++5NZcwifYIaUQ3rcSPpFNMEMneCGbYP45\n",
       "Xa7eeD8h8omoaWvyN8+ihhQMIZKcoFfTT5y+3W7kExRmFamwff4eNsEMneCFbIJZi7C/XL333ZpH\n",
       "oqYZ9PWo4cdOd0I84wd7PBRHvCv4BJ0LYcmPvodNcEsneCGb4GHM5EL1PtDCR6KGVlg7p7k3h8MB\n",
       "LCE5C2w25foCl/AJ2pfoKtT16WyCWzrBC9kE8+rKrlZvfmDxPBI1bcVyztOooUMlAMLTqgihXcAn\n",
       "aAeAdj0QfjibYJ5O8Bo2wbw1df2iy6PyEo9ETTMM16OmPZznHBNDiITXfFvway7gE3TKa3JLv4lN\n",
       "MEsneBGbYFZuSOnvhubDUKPKqWgvVOI48jvicv8Qw+TloO0FfIJWE82K4K9iE9zQCV7IJngq1PO6\n",
       "evMje+eZqGnKUbTzqDmMosXIpn/HtEMxi+MSPkHjHptp+a9iE9zQCV7HJph/IV5f9QkdactDUSOL\n",
       "y2EuqjAYddM/rDl1syIN+Bo+QemzT76ITXBDJ3gdm2De+L68wqA4fG8/FDWiGA94pZrtERRfoRO8\n",
       "lE/wq9gED+kEL2cT7K+fjlSHAdF3oMYKOoWabBHNn6KmOSKjfYVO8FI+wa9iEzykE7yaTfAgk+9l\n",
       "9R5ocw41o1Pzq34hQay051CzrYh0AWr4UWLZK3SCV/IJfheb4BGd4NVsguP1IeLCSzvT3Gk5ufuX\n",
       "K6AGF+YMX0HN5CEcoPsVdr8P5RO8n02wik7wGjbBoxS1F1EjCpmQ5NcYjwqomfTtetQ06GAEe4lS\n",
       "7zv4BO/oSJFO8CI2wba73gFBhffZb6Im7+/EgZdcj5qme9tSfeATfI8aHU4QvIaa9mA1z8X+y1X+\n",
       "TuKFiFdAV0Bjz0HTvkjELmj21LtC7Y/C3G/yX16Xlr0CuiIaQf6E7Kl3We3FT3Tn/wG1DvHM2sY3\n",
       "nQAAAABJRU5ErkJggg==\n",
       "\" style=\"display:inline;vertical-align:middle;\" /></a><br>"
      ],
      "text/plain": [
       "<IPython.core.display.HTML object>"
      ]
     },
     "metadata": {},
     "output_type": "display_data"
    }
   ],
   "source": [
    "simultaneous_diagonalization_as_ortho_projectors = Forall(\n",
    "    n, Forall(\n",
    "        Hspace, Forall(\n",
    "            (A, B), \n",
    "            Iff(Equals(Commutator(A, B), VecZero(LinMap(Hspace, Hspace))),\n",
    "                Exists(\n",
    "                    x_1_to_n, Exists(\n",
    "                        (a_1_to_n, b_1_to_n),\n",
    "                        And(Equals(A, VecSum(i, ScalarMult(a_i, OrthoProj(Hspace, Span(Set(x_i)))),\n",
    "                                             domain=Interval(one, n))),\n",
    "                            Equals(B, VecSum(i, ScalarMult(b_i, OrthoProj(Hspace, Span(Set(x_i)))),\n",
    "                                             domain=Interval(one, n)))).with_wrap_after_operator(),\n",
    "                        domain=Complex).with_wrapping(),\n",
    "                    condition=InSet(Set(x_1_to_n), OrthoNormBases(Hspace))).with_wrapping())\n",
    "            .with_wrap_after_operator(),\n",
    "            domain=LinMap(Hspace, Hspace),\n",
    "            conditions=[Equals(Adj(A), A), Equals(Adj(B), B)]\n",
    "        ).with_wrapping(),\n",
    "        domain=HilbertSpaces,\n",
    "        condition=Equals(Dim(Hspace), n)).with_wrapping(),\n",
    "    domain=NaturalPos)"
   ]
  },
  {
   "cell_type": "markdown",
   "metadata": {},
   "source": [
    "## The polar decomposition"
   ]
  },
  {
   "cell_type": "code",
   "execution_count": 32,
   "metadata": {},
   "outputs": [
    {
     "data": {
      "text/html": [
       "<strong id=\"left_polar_decomposition\"><a class=\"ProveItLink\" href=\"proofs/left_polar_decomposition/thm_proof.ipynb\">left_polar_decomposition</a> (conjecture without proof):<br></strong> <a class=\"ProveItLink\" href=\"../__pv_it/theorems/38500564f8173b66a8724e3e9d7c78223e5e440b0/theorem_expr.ipynb\"><img src=\"data:image/png;base64,iVBORw0KGgoAAAANSUhEUgAAAh4AAAA/BAMAAABdgtzDAAAAMFBMVEX///8AAAAAAAAAAAAAAAAA\n",
       "AAAAAAAAAAAAAAAAAAAAAAAAAAAAAAAAAAAAAAAAAAAv3aB7AAAAD3RSTlMAq1RmmUTNIjK7EInv\n",
       "3XZ/CtNrAAAACXBIWXMAAA7EAAAOxAGVKw4bAAAJ20lEQVR42u1cf6xTVx3/vva29/b29bbGGQJq\n",
       "XhcXzUTyqk/ICBPLBriFzV1nmsBwvopZzGDZSmJIQLJXE2NE32inIGMLvuvmlpBFWsYiMpA9ISTE\n",
       "4XwsM0SxWWXEPwTfnvzYc6Cr59e95/5uX7lL2+WdPL6959f3nPM553zP93xuKUCAIdJo/K/NqsON\n",
       "xgR0LEQbjUu6DBKPq7nV7eKRyxU7h4eUy13SZZB4TLVddRg6HI6ZZDfhcW+tVjsxi4dlfZybxWMW\n",
       "j1k8ZvGYxaMb8Ch/mPBYgM5b116FCvYUhX1m6cdnXPFQPhTr4wf/zoh7qgYUj9QBFoK48iTAfJzw\n",
       "3UeKEKrqQNDxh1Xpvo/C5rMAdeZ00miWd2/sjl7FI4Q05dDT9rk7kbzj1xMgp2CJjNzpP+OhVytp\n",
       "SKiw1ozHLwEGURdU2L8sQ9NpdC3Xe7Fn14eQJ9Ms3IWj8WqoCIIq1eVpkMYxSlApwCi6gGkmPFYA\n",
       "rKTbI8XU0CgrhMOTPYtHAu0V9Pc2iY7gESXwDpgCgS7/EsByBFTahAe6HqO9EqdP4v60HmWFcLjc\n",
       "s3hUVLw+ZDrSQ1hswvukjHcJDovJxgllOR5iHuSrdH0gPDZvOa9HUaG7d6OQAWm6Z+9zeOsXIUIN\n",
       "wXEs1gDIj/331J9IyguNU6dQW5EyxwM9Y6OD+Qa01+aBUGDRiHHcKOMQOqLCN3tufehbP/zw7t0/\n",
       "BekaTrkZ/UsWYBHNn4YwGrVkwiOU0o0Oth9ldNywqGTgEUvBb4UM7OpBPJYB7ENDIScuNhkSbENP\n",
       "DwLcRBuagL6sdb+gYQspkDEeVbo+WJTvl2QGin0qTPQgHg+CjLF4mpjTHbfBTmJPkQl9FOBFAlEU\n",
       "DVWpW+wpQulF/ITM77YtX9SjrBA2wsijS2iRbA/iEfo4OVo2F5HVWDF/z3tFiKHBIHfs9T5tNA39\n",
       "ReivzyNpBh5oG9x8lHkeIGIfhEZjul+rjB1EJqj2t3QP4sGCfGj3Tl13FUQ005+cA5CGxwH6Thdg\n",
       "r9kfW+uhea8ldgtEC754EOflU8Hh0aa+5vzpV4xWNFsSxUMoNKnHvLak/3m7An98Jzg82tTXHI+4\n",
       "DkNYTwmrlvvbK67V9EIsTEDlOc0Pj+/j3VYODo829bXArzuGIbPPgjXqXojFVBBW+K4P7N7H08Hh\n",
       "0aY+Cx6CT30hgL6+oHFpxyOMbHA0QHvapr5hm/fhGZYF0E/pr1w6zpc/1mqvBXm+tKfPjAd2Pb2C\n",
       "X17r4fMmacfjLub2BIVHe/rMeIxq3uX88loPsTSXdjw2gpgyGCdic46c1X5zvfgl2Dsl7jHVQH7d\n",
       "5IWfNMWD6nPaPyffB3V3PDb4NLEhkImT/8ClHY+YFlcNxokQUujeg66C20GcgicsR5VQ9N++BA+i\n",
       "D7d2Emx8HwedMX+CKx6ha94t+OWh0NdoKehWaJkbHqF6lDNOhJCieKARWfBASf2oxaZ4EH3YX7hk\n",
       "5/sM0HXmL1J1wyNR9W7BLw/oYd9SGClwaffX80s54/Q26HjIYxiP0aXnNYgvrW9at/xr11+JzgNR\n",
       "3LP0ZU08gA5x5egcODAJ55ZkrP461QerX7fxfQboYDB/693wKPmYiJK/+XiqZQNS5dKOx0vrDcaJ\n",
       "ElKxs4cPjcMIxqNUCOVhHdwZOfY91H/xrTdVlKTk+6r9BXgZVkXTwsKqWLfiQfVB/VsOvo+Bzpm/\n",
       "l9zwmOszjrn+52iZe2d496guZUR6TI1zacdja8pgnCghRfdLhawPgKuo72uka2Q+pb+/T5LEQiyD\n",
       "pnhLCSJPXfms7T5H9IECKx18H6P5OPN3ixseBsu5yTmay/7mA12HlbRR14kHSo2Q2RMvcWnHA2th\n",
       "jBMlpKx4HA8fH1qIwEB/Mp5hnAQX/lXHg799aEhd01CteFB9q+Gine/TaT7O/K1xwYOznI85FwDO\n",
       "2/jW6TR84t26Ew8MwnxeV3FsLpxK1+ybJul236eMEyWknOsDpAmEx3N9eNnjpEQm9k/xGln/ksZd\n",
       "JPN9f9XhAc3O9zGajzN/21zwCOtKQg2nN0byXkUToLgZ1o8hpPNG3djD99h8e6KRvn9YCVy64cEY\n",
       "p6dteJQKaGX/DPbhxTH1o6SKvIuSppQrWmISnoF9aNecy/L3gyY8FGQ2ina+j9F8nPlz2y99OrzC\n",
       "gMNjoXl4lgUXwyqiXCHD68btZUhqmPTgHeDSDQ/GOBFC6shr2j+u/3gg+6sr8PjQBaT3aH3jdWQ/\n",
       "q8Law1UofeE8KHfe9ihOhsOToa8uKbjg8XW0BtJ2vo+CjplAyvzBpAse/frrpIOvFu0jpnnvgfu5\n",
       "j696/aa6DvtBNRIvbLDIpRsejHEyEVKeHnMr/Jjwe5Dve8jO91HQpWM682eiujkeSbYTxPo7jqss\n",
       "yYu8D0CJUvu1Ff37tKlu1Fafafw2OenSXN4YX1iaAV9o5ft00EM68yeX3fBg7owAgxkHHjgl/h8g\n",
       "3i4uUzN7HPj0XmWqy/C49y9Fi8b9+LmS4fKG8BAHqu3xp5y3e8BYRQUXPEbYnN0PJdISfkFVq53m\n",
       "eYlx0L/jsA5+yPeEPKFPPqsbI3nRtPSQRSN5hZOsc9kZPplbN2NSFrrdX/Q1nIWRlGNt4rwKTiZZ\n",
       "8Qw7T2SsW8F63zDVpXgcoBuJa/wc35XJagf5dc0vheMxTGdc2bF8wEE7kjy86KlPjC9KxGSPZnUP\n",
       "+ISpLnWE8viKadZINnwyy6UfHtuXdPp9A1sf+1BvJ1zXBz4k4mSnYVcCXw5Ct07ph9UJU126Hdfr\n",
       "Loeu8RszwENKxboEjywzFBb7QfEwjlulTnwO1PBlwkfo+4XVpf7ppO746xoXzMB+xIrQaTxGiHnB\n",
       "rn7UoY7kDaJhzqHxZ7YsoCa5hr80hB9+4agbO/jsGYvGxfwUSzY7XxKa3Gk8KmTOtuKROL6vQfKi\n",
       "WdjIpi38c/bS5csq6jqww9RWd/EGzaJxFT/FRpr5H5EDQ53Gox/v6b2N9RAae9d+tJM8OHST4y6X\n",
       "LLOL3BNedXkquWGXVC47dL60iEfU52WWZ54wzbilRNMNLxI7M6hx2d14COPepTzzxCvsawzhbLOW\n",
       "6I3vd8Bld+MR9qGMvfPG9Nf2u5q1tJnIJ02yu/GQff7Plnfe8Ed0O9GspV0mou1yD+ABO3yKeeYl\n",
       "po1LrH9DCllHkWkuux2P232KeeaFUzNqLp7nstvxqKjexfzyZhL601x2Ox7mWXOf1xsPF02y2/GA\n",
       "kz7lTgbTU+fouxiPRT7lFgXSUSXPZffjEc34eKiZIDq6tcBl9+Mhn/HxQM4E0E/5DS4/UDwC+j2D\n",
       "TZp3Qb+8VkMswyVddR/M7xnIubZ/z+B58+8ZiD6XMrF44/183iRJkHK5B6j8P8gSvmb8RvR3AAAA\n",
       "AElFTkSuQmCC\n",
       "\" style=\"display:inline;vertical-align:middle;\" /></a><br>"
      ],
      "text/plain": [
       "<IPython.core.display.HTML object>"
      ]
     },
     "metadata": {},
     "output_type": "display_data"
    }
   ],
   "source": [
    "left_polar_decomposition = Forall(\n",
    "    Hspace, Forall(\n",
    "        A, \n",
    "        Exists(\n",
    "            U,\n",
    "            Equals(A, Composition(U, sqrt(Composition(Adj(A), A)))),\n",
    "            domain=LinMap(Hspace, Hspace),\n",
    "            condition=Equals(Composition(Adj(U), U), Identity(Hspace)))\n",
    "        .with_wrapping(),\n",
    "        domain=LinMap(Hspace, Hspace)\n",
    "    ),\n",
    "    domain=HilbertSpaces)"
   ]
  },
  {
   "cell_type": "code",
   "execution_count": 33,
   "metadata": {},
   "outputs": [
    {
     "data": {
      "text/html": [
       "<strong id=\"right_polar_decomposition\"><a class=\"ProveItLink\" href=\"proofs/right_polar_decomposition/thm_proof.ipynb\">right_polar_decomposition</a> (conjecture without proof):<br></strong> <a class=\"ProveItLink\" href=\"../__pv_it/theorems/a605b0edf0040ef13ee2171d49b02cfe5f1c06290/theorem_expr.ipynb\"><img src=\"data:image/png;base64,iVBORw0KGgoAAAANSUhEUgAAAh4AAAA/BAMAAABdgtzDAAAAMFBMVEX///8AAAAAAAAAAAAAAAAA\n",
       "AAAAAAAAAAAAAAAAAAAAAAAAAAAAAAAAAAAAAAAAAAAv3aB7AAAAD3RSTlMAq1RmmUTNIjK7EInv\n",
       "3XZ/CtNrAAAACXBIWXMAAA7EAAAOxAGVKw4bAAAJ6klEQVR42u2cD2wbVx3Hf7bPPvscX4wYKiug\n",
       "eGICjVLFEFJt6ijO1pahCmZAkdqVEVOEEN20XSVUqV3VeBJCFLI6g3ZbN3U5NFYpmqjddWJ0LW1o\n",
       "ValiZaRTp0l01kxXIbGWLOu/sIbNvL/33p3vzqnjEXvKU/Kz772f37373Pvze99zAtDEFK5W32/w\n",
       "owPV6jjMWYpUqxe5bSaPK/2rG+XR35+fOx7R/v6L3DaTx2TDHx2AOU5HJdtKPL5ZLpePz/Ow9Y+z\n",
       "8zzmeczzmOcxz6MVeAx/lHgsRuuta6uChjNHZ68Z+vJ5Vx76R6J//OzdtLq7ZKG4vwLQC+rKEwCL\n",
       "cMZP789DsMRB0OsPZaN3fxw2nQGosKCTHmZE80buaFceQVRTP3q3/cadyN7x+3HQkrBUQ+H0a/jS\n",
       "S8UUJLKwVubxW4Bu1IQs7OtL03x6uFbUe6Ft+4eSI7dZuQsfxkvBPCjZaEWbgugYpgRFA4bQBsyU\n",
       "eKwAWEmHR5JVQw+ZE06Pti2PBBor6OctcjiIryiBR8AkKLT7FwCWI1ApiQfaHqOxEqfv1H0pfsic\n",
       "cLrUtjyKWdw/NHqlB7DZiMfJMB4lON1GBk4wI3ioOdCu0P6BeGzafI4fIqdv7EIpDdGptt3P4aGf\n",
       "hzCdCI5hswZAe/C/J/9GcvZUT55E5woPCx7oPZ50sN6AxtpCUAx2GLaWG30Mgoey8P226x986Id+\n",
       "smvXryF6DefchH47DVhCy6cghK46KvEIJvmkg+ePYbTcsMOoxSOWhD8qaXi8DXn0AexFl0JWXDxl\n",
       "RGEbencvwA30ROMQyNjHC7psJQka5lGi/YMdivHSmYZ8IAvjbcjjXtAwiyfJdLrjVthJ5lM0hT4A\n",
       "8BxBFEGXqlds8ymi9Bx+h6bfbZu/wg+ZE56EUUSXMMOZNuQR/BRZWjbl0ayxYtHu9/IQQxeDwrFX\n",
       "AuZQCjry0FFZSPIsHmgY3HSYRR6g4hiEHsZ4XKuPvIimoPIbqTbkwZJ2YNdOXncJVHSnP7MAIAVb\n",
       "AQKnDBiV47G1HjWP2o5uhojhy4MEL59tHo8G66uvn37dOovpyKI8FKPO51jU1um/3q7ALz9uHo8G\n",
       "66vPI84xhHhOKGvbv73k+jHuxNI4FJ8x/Xg8jEfbcPN4NFjfDPT1msvQ2KthP3R3YkdZUFb49g8c\n",
       "3sdTzePRYH02HorP55UmtHWPKayTRwjNwZEmzqcN1jfgiD48U18T2hn9u7A168tfy+WXm7m+NFaf\n",
       "zAOHnl7Jr2zm6UuSdfK4i4U9zeLRWH0yjyHT28+vbOYplhLWyWMDqElLcSJzzqEz5h+m81+F0Ul1\n",
       "t/QJFNdNnP9VXR60vtr5r1bvg4o7j/t8TnFfU26c9hdhnTxiZjxrKU5EkEL7HrQV3A7qJDxiW6qU\n",
       "vP/wJTxIffhsJ8Ch9wnoTPlTXHkEr3mfwVYWqM4oec9CfW48gpWIUJyIIEV5oCuy8UBZHagNdXmQ\n",
       "+nC8cNGp91nQufIXLrnxSJS8z2Are7jxDjJoCOuM13PLhOL0FnAe2gjmMbTsnAnxZZWN65Z/e/ql\n",
       "yEJQ1d3LXjDV/WgR1w8vgP0TcHZp2h6v0/pg9SsOvc+CDpbyt96NR8FnirCVPTGLCaQkrJPH8+st\n",
       "xYkKUrEzBw+MwSDmUTCCOVgHd4aPPoTar755Oouy9Fyg1GHAC7AqklJ6S2rFzoPWB5Uf1Oh9DLpQ\n",
       "/p5343Gjz3XIZUTYMHycP4EGptcyNSask8eWpKU4UUGKjpci6R8AV1Db10SvkfsZ/ccHJEs1Yml0\n",
       "izcXIPzE5S849nOkPtBhZY3ex2Q+ofzd7MbDUjk31l6HrIAG0OZXT7l7qjnKI1xx56FeFNbJA9fL\n",
       "FCcqSNl5HAsd6+lFMNCPhu8wzoLz/67gi7+9pye7ppq186D1rYYLTr2Py3xC+VvjwkOonA/WBlKy\n",
       "AoohLPLwjODTvA28h7K04c1TKfj0VczoNMk47bnfp4oTFaRq+wdExxGPZwK42+OsRDr2tnqN9P+o\n",
       "KUIkeb+/6mCX6dT7mMwnlL9tLjxCvJJg7coQmrQPBy3n4dmNHB/bcdT2tAGlI+jW6SUmSFrWjQdT\n",
       "nJ508CgYqGf/BvbizjH5i84sii4Kpj5cNBMT8BTsRaPmbEY8H5R46GjayDv1PibzCeXPbbwEOF6l\n",
       "q2ZyCOTsQ0JJe3j2TbENb8imhuF+pBBC74CwbjyY4kQEqUMvm/+c/mVX5neXYWvPebQ+HK5smEbz\n",
       "Z0lZe7AEhS+fA/3OWx/A2XBwIvitpYYLj++iPpBy6n0UOlYCqfIHEy48OvjjpBeP5J08rDK2sevw\n",
       "8Iw/9B/agQDkmAveAx4xdOeFdePBFCdJkPKMmGeijyl/Bu3uHzn1Pgo9epQrf5LULXh0skVQrbxT\n",
       "s5XtlBbIPej3cx6eW3U8U67Db38ot+8DACqxQiEl7Oz0wsJ16IV2vY9DD3LlTxt248HCGQW60zU8\n",
       "pBy8Vq+yeSplHpFkgpc4j31SSRz3ml7iUUwLOysealepMf1U6Hb3WL3IcOExyO7Zd6BAzoQfUJXL\n",
       "p2xlGPW4dfO55zr4OV3qwqnoNHoht2KJVJIYA/7tiM6KsHOjJ1t6H1g3pddt/8L7cAYGkzV9k5Rp\n",
       "uCYd1/Kq7BlP8/VGAfVdzuOLUkkRuyWlkSeNv/+/vm765QgeA/Qe6zuWd9XIjrRsKMPj3eOyJ942\n",
       "UaXhX8v78Mz5ST68eQkeViya7swI68dj+9K5ft7A+sde1Npx1/4RvGWSL03HZU8capCtAn4q9z4f\n",
       "od+TSvAyFDeuh0c0GWsRHhk23G3zBy0LXyLqAx8v3FOv0DCdyAhvsPgUFkslR6zldqbzRywPc81j\n",
       "kEwvONSP1FRHy6CMvyKE3zxt83xq82KDxT4igr9NKulG/WSBvFJ11ltfEqY21zyK5J5twTen5vsa\n",
       "tAy+lkUN5Yup8Aw9Rh7BqLizjPCla5VUEsnAhry8ig3Wiz/C+3vmmkcHHtOj1fUQHLnqXNo72GI5\n",
       "zDZyj7h4aiNXTbilyoXF1+TPH7iBD5BCVtg5Wl9myCPi8zCLlSlTTElK1B3eqsdfGXWbwrY2D2XM\n",
       "24uVqZfZlxbsuzXXT6Td8/8k2dbmEfKRk3nZCH9I/3i9ejd55D8q2dbmofn8zRYvG/gYyxitV68X\n",
       "sEtOua11v/+xw8eNlSX4yqNW/KvVPfTV8JSwrc7jdh83VhZKzrKl8Zywrc6jmPV28yu7ntSRErbV\n",
       "ech3zf2+zj5dkGyr84ATPn4nmtPS2qtvYR5LfPyWNKWhek7Y1ucRSftEqOlmNHSLIWzr89Be94lA\n",
       "Xm9CO7VXhf1QeTTp/xlsNL0d/cpmmmJpYWmv+3D+n4HW3/D/M3hW/n8Gqs82Tc3Pvp3PSpakaH//\n",
       "PdT+D85+v79navF/AAAAAElFTkSuQmCC\n",
       "\" style=\"display:inline;vertical-align:middle;\" /></a><br>"
      ],
      "text/plain": [
       "<IPython.core.display.HTML object>"
      ]
     },
     "metadata": {},
     "output_type": "display_data"
    }
   ],
   "source": [
    "right_polar_decomposition = Forall(\n",
    "    Hspace, Forall(\n",
    "        A, \n",
    "        Exists(\n",
    "            U,\n",
    "            Equals(A, Composition(sqrt(Composition(A, Adj(A))), U)),\n",
    "            domain=LinMap(Hspace, Hspace),\n",
    "            condition=Equals(Composition(Adj(U), U), Identity(Hspace)))\n",
    "        .with_wrapping(),\n",
    "        domain=LinMap(Hspace, Hspace)\n",
    "    ),\n",
    "    domain=HilbertSpaces)"
   ]
  },
  {
   "cell_type": "code",
   "execution_count": 34,
   "metadata": {},
   "outputs": [
    {
     "data": {
      "text/html": [
       "<strong id=\"schmidt_decomposition\"><a class=\"ProveItLink\" href=\"proofs/schmidt_decomposition/thm_proof.ipynb\">schmidt_decomposition</a> (conjecture without proof):<br></strong> <a class=\"ProveItLink\" href=\"../__pv_it/theorems/50c6b7b9239acc62b0b84140bc6f6ab772d093510/theorem_expr.ipynb\"><img src=\"data:image/png;base64,iVBORw0KGgoAAAANSUhEUgAAAqoAAACWCAMAAAAhfFqnAAAAP1BMVEX///8AAAAAAAAAAAAAAAAA\n",
       "AAAAAAAAAAAAAAAAAAAAAAAAAAAAAAAAAAAAAAAAAAAAAAAAAAAAAAAAAAAAAADFBd4eAAAAFHRS\n",
       "TlMAq1RmmUTNIjK7EInv3XYgpUAwfPQKB84AAAAJcEhZcwAADsQAAA7EAZUrDhsAABWfSURBVHja\n",
       "7Z2JlqwqsoaVQRCU7r7H93/WSzAomDiWmladYK1dlZtiSPEzCBB+qurGIAcX6goDhtOh9xTdW4kc\n",
       "NLWBY3NjOB8AIVrfjqrAlsZwCa+IKgZEFVHF8KtRnUZYhGL7Y3gxqmwcYjVocDG8GVUZzaposfkx\n",
       "vNpXbZT/rQk2P4ZXo0qDi9pg62N4+QxA10PoNLY+hpejyiT8bBW2PoaXoyrq+COGd1HLjiQmIrsI\n",
       "c9WXIPN2M4jq86g6g6qTZQGqk0mOdmBas1amOZTueq0q3QxaVrS3Ee0Acwj9GmzGGC1PuBltWm1n\n",
       "v0vtCqGlyqbVDeEi9nG+WXAoN20Mhqg+jyox+aBKD+lkgL9zpvP5Td22cNvaeoyVYGAEfHG5gGo/\n",
       "+hms/gmqVVW7/BRmLWTBrql6fhF857OxXvBYbtIYXCOqj6NqOaXJ7eGyS29WzaYvxlg0rgmq/mau\n",
       "oOpT+aSXoLpI/PQ+Y7yIRh1Adangsdy0MRqFqD6OqiZps5uqSW9YB9ZJ9TClZaZXrxOqru8PqHbU\n",
       "GOaK0vZTJZqGMMbrQVtvoanhDwLcBGo0pBKaBgaMNrUImSpDqKbrqMpBuWpV20tiakVpzUfznV/E\n",
       "53QxZVQaU9urSbya9YL7QmMslswQ1ftQFV2djRdY4g6IwVDKaripKoGm7bUNbRf7fo8qlE4gc2Nv\n",
       "I6MV74jQlmBXUD/0jkyXythU4Bp28H20vbtMh0zQsQqzjqqyvburVkA339gUBGgSzedFECCHtTHQ\n",
       "SlHeWdTgkk29r+Cx3KQxVkoWiOptqFa1TLr/tF8P3plyHR9PbF3iAKjEqkLkwG01kLwFIzVGO0d3\n",
       "MEkqYb+LvcM2r/0gVMgkB0ZUtY2q8kTZpK0OhfL28yL4/H2xUPCYVIN0j8eugscyksZYKVkhqveh\n",
       "mrpl1ljWSWv7+yIsWXbQ4e0HWUfVWhba+b0GPsL/VL7+JBX0+71ll/uLjpl4Owx8ywEQkSiIjPyT\n",
       "+vMi5OfShjF9T/YVPJabNMZiybxDB+ARVI2/FzJ3VS1NNiadadphVcdxlo1WNAyo+iQVuHytUd6C\n",
       "VTGTVPBQrKOq26qEaoQnvYiPbtpeEtjc1mWWuwoeoUwaY7FkxiqJqN6PaujjwVFTuoodoR1IsDgB\n",
       "u4oqlE7hvrp+3UR7apGQlTNF8KbBeQUWFQW/exhIQUdrU/tMjoB2FVXSq5SodvQq+vlFwGzuh2ce\n",
       "KbTflMXrXC+4jzmTxlgq2Y7HENX7UWVufKXY0EDnTcC82dG7Zq3vKUUcMrspc2XHRoOWqh4YZGEw\n",
       "GqJ2cO/Nk4YZADv298MmDRM+MBBz34ESN0w2jFLZmJg6/CLMUC2KqIaZeudi+mrhB+0aDjVBUjG7\n",
       "iBCVP47wZ1icK2oD06j2OrcK9oXkjbFUstH/jiXqr9qw8rkqUGno6n6431UedOYOrKP9nJZX7Znr\n",
       "3C53X8mI6jOocnXXd7gN1YqJrYhz11kohglE9S2o3tSPhb76HlQrnXO3R/GAnih3X8mI6lMOwEvC\n",
       "sW+sVv73k6A2/o+oIqoYENVzBdjhOd4mDO9HFfa34s5WDL8A1VbiPcLwK1B1b3PwNmF4P6ocNC/x\n",
       "NmHAGQAMiCqiigFRxYCoPojq3WcE4BkEvyPkKv+rmv93o/qf//5nAaV7zwjAMwh+ianMVP5XNf//\n",
       "999vWVXxdL2s96FDfl/dtdMvWdUXoRqDQbFMRBVRxYCoIqqIKqKKAVFFVDEgqogqovqHUSVxsup2\n",
       "VHO9M3rj5mep2b3rzhJF4muljhHVV1jVbC24vFenR3++kBMMRJAnxHTnllKyLiiFeRECXe/YXZG8\n",
       "QzkkdYyo/kZUyb0nyYzFj6LJXhBU9lMDsMZ9o7kMYb25vSJROj4qdYyoIqoLqI6iySJcuZm0X7UY\n",
       "nJbMDNXtez8pHR+WOv59qP5v+L9Xoqo0NXqepBhZNjerKUuolnP8vMZQ/CSaXAd21aRarysCAm1z\n",
       "VFv4nlEeOeohZ+rIiSj4itTxQ6j+8++0qsp2jx9JipFlbtZTZqh6kcFyjgtq5A6nRCSoj95kxyZU\n",
       "K9ZnqDaUGi+FFeSRox5ypo48KR3PpY7RAbi13nS5CmNxvCMmtcExkhPDVte0TNk3UZWNzHMkFV5S\n",
       "YwOSbYlo8igIPqSoVn09t6qidcd/eHnkoIecqyNP2sNrUseI6m1W1d1PHtTOpZONnEV2QUhyO/sm\n",
       "qrJ2JxKUK7ykRgLSholocj0KXpIUVTHQuQPgFYajPLLTQ87VkUdF4g2pY0T1PlSdwnpLFbT9SM4U\n",
       "KTammKaUlBFqfT2i5aID4AArVnhJjcLrdOvkyv1fdDKs8ne6naFawWAryCMHPeRcHXmk8kPqGFF9\n",
       "zqqC58fpSI6T500iKzft42JLP8aUBMSorcUjemNYNa/wshrDsCrxKqibpuLup9DTLFXdTRFhBkCM\n",
       "8shRDzlXRw60b0gdI6p3osoZJUFCt/cHXZAs0s/8uFjZifxHlrKVlbKwMLKB6rzCy2oMqIpE2wNe\n",
       "AWhPMumcRnEt4tdyEeEVgMsS5JFHPeRMHdmLD29JHSOqd6KahNAfZ6yBQPZnbGQvy105+9ZXdPe8\n",
       "anQArqkxFn+JaPLHE/0533+HIDGiuiud6dxEYSbP2wzD4Pq+kmhvFgevcwwHpX+xhCrvixVeVeO9\n",
       "bxg+5YfvECRGVA+11u7YHWtP2tls0o01yubed29zReJbNlYiql8Ls6rlfTSJ29Xn1Op/EdVfjioG\n",
       "RPWKelHK4hvhgBjFt1BVVL0MVZSy+IrhXBOj2IequFkR8n1WFaUsXtLRowNwul7cc4WoIqoYLkJ1\n",
       "GmMQiqhieDGq00rJRiCqGF6MqoxmVbQVoorhzb5q3Nl1w7YZRBXDlajGM0ya6t+I6u1SFvcrWDyp\n",
       "XBGe62/NAHT+Xul/JaqpVZXNpw9UiisWvZSupGBxdUWPKFfIdmBaM7fOlX0JVb+ut1XPIbO06fqq\n",
       "cGJTt3MASjeu3vkIL6UrLl+9uKJnlCuoW6jo9gOeka7Yt236n1VURR1/nA36j6DaFZYqdTuXLy2l\n",
       "K6J6cUXPKFfUbMpwQrriClSdQdWHXiyKnkEGGvbysuuQ+aoDMBhTq3mWz7hy0QvpSqheXdEzyhXO\n",
       "nVc9PTkG/5kDEBAmZvegKvYwpHbrboM/z/6Gr2qsO2dm11KKK+ZfSldQsLi8okeUK6xVppQFV/fE\n",
       "ztVrXqw2Fd03qBt7GGIzsPHCfzGq6XIV2LAJMKW6EiFuU1Ui5l1FNShYXF/RE8oVzlVV3gs4I11x\n",
       "DaqaBN+DMipt/2K7kmkPpI9jeQ9DJOH2kbMXrhljvf3Hf7dVjV4gq2e6Ej5uW1XCp1tFNSpYXF/R\n",
       "E8oVHlKf/ox0xTWoivAUKso76p/JUcwjxomshyHSOgCE/36rmoYhOmQJQSFuS1UiprM+H12RBQit\n",
       "enVFjyhX+Jlnflq64qKVVcEDEcpA1wLfho3NEOLyHoZAksq0fwpVCw5tqyrTlRjjNlQlQjqnKdFv\n",
       "DauurugJ5QrhlIBU8IJPSFdcvQiwNuGp7kkWx7sq62EAVdtyzZ9CVbJwBxJdiTFuQ1UiprMPvWg2\n",
       "ZwAurugB5QraDBpeAAQsTkhXXI0qeELwvIqhkpl3xOz/kx4GUIUhwLl51ZeimppXf5XJ1PFOVYke\n",
       "PPp07/6qgsVFFT2tXHFKuuJiVMUQrKjtY1jocVxcLwHOqYfxL9tMfS8y30G1pCuxV1UCXu0QvSi2\n",
       "kitYXFbR08oVp6QrLkaVA3uwblXUMP3hBZNqN0SkaQ8je7+49Yeo3rWs+6JHhP4grozqgoLFDyt6\n",
       "WrninHTF3RtWZm1wsIfZQuauZd3fsualcL+CxePKFeekK25GlatbkImbru9a1v2tTd0YTqCab5te\n",
       "2kS9ieoPu+VN63bTsu6DVpU7QYUeafpxaFxLkq84ADdbt5uWdR9GldsgkbSfNzw05C2ofl+y4p5l\n",
       "3YdR/RziopLF6dD9Rqu6jcyuZd3qeVRjwC1XiGq06zuWdaviouN0/wSiiqje3xEXl3WP+y78mCs4\n",
       "P8porad5yWT/BKKKqN6PamlZ97gq1oMUzvcMr3XHv6X7JxBVRPX+4c24rJvDa1pYYWHywV4431Np\n",
       "5pcJ6bRFwv4JRBVRvR/VuKxbGVhoSOr5Uoh4vqeBnWywfk15OLP9E4gqono/qnFZt1AEnE+droqt\n",
       "kvM93XZLt5jYTK5q3D9xOaq3K1lcFxQb39ELQ4xAVO9CtRoNI2xGkzxdFVsl53sCoNItFTCJqxr2\n",
       "T9xsVeviFEW9fz96fbWmO+l1w+qw+EXosNIJ+qcGUb0S1fKma3fobbbvIj3fE/5iwAcIqGb7J3aV\n",
       "vxi/iaoqvoBRw26TeyDpVpOGyRG/r02EtlJu76CC3qdTL0X1nyt0AL5rVcfQy0rwKnshkJzvybl0\n",
       "PoBwq7pn+yd+9Ijs8FVZ0Vax/RaMXWTsxskRA08sVePcnei5/edb8Xeh+g6rekyygmu/JGDad5Gd\n",
       "7xmG/n5mdbZ/4u5hlShmFPsXaolr1nRNkyMOVaPCkyqdv+qtqngpqpdIVrzEqk7dZXlVrKHS9n/0\n",
       "+np3zAC0Revd7t+32V5xOnkyOQIOgGh9a/A6WfWDvuqTqC7eKW72LaC9frmKG9nlGhNj7KbKxJTU\n",
       "DDTMesy/yPrCLqNSf8ijylrtyFX1iIYwhOIMwBtQvatevtkMtezdDESqMTHGbqpMTEmdFg+4LzJ6\n",
       "MvGbbXQW3iYnkyPgAGj+yqk0RPV7qKoGJEf80E99xm6qTCQFmNpJSoI3rlLqt3ZBeHuaTI4AqpyD\n",
       "hyqYDxxR/dejCoPreAMcqn4jbxK7oTKRJDUgVkIqQNV6r6plhLq1ZZCM2v9QxolONJhGCRU/MTv5\n",
       "H36ySrHqfQFR/RqqfprBacx4VN1G3jR2Q2UiSWpgwyN1qHKLGW/8Dki3YdcJpljneBISSiRUvNkd\n",
       "J0d4YxpdKcYaRBVRLYbgAOQ3Y6/KhEOVaikmVK2xhM/UpbKflEWPJcI2o4TKnaIUiOrfQzVqTOTz\n",
       "EHtVJhzVQcssosr8Z/d2A+wnWNTe7b5UISZIqLTVrwmI6iusami3/dF5nO4JLCSnHROqbuy/XnL3\n",
       "ws296gABRg7qNiKI+00SKlIjqojqCVSvD596JaQwWYWoIqrfv78fi/cyc0wkooqovgTV9W25qkJU\n",
       "EdUNVNnhF0Lsr24cUI0qfkZUX4EqO7wmmtXVXw0yeVcne4WovglVeniGnZ6fkyebjWK+zCqty58R\n",
       "1a+jKg8vqV/NoTu/PqsSXa+jkMHKJEDBZH+Z1XR9cEsQ1feg2hyezVzPoduwhbGFZDIzkmqP48C/\n",
       "PL2qkidRLT2ViOrzqJLhqFHdyKF5F1D97Mr3rYxqvjwXkHriS145ovo8qv1hG7aRQ1dujRVRgKpq\n",
       "B/jRS+KOVPDewMYZd1cL0R4O6cabpU04iOrjqMrDRnUrh/YnfdHKHxc5VOG8voaEVSkbZ9ydOtrs\n",
       "Ym9Vlz8jqt9EtT68RGTM0QxdH7e8dE7JWXlUlf0GUnpUlUdVwUl84dDSjTPu5meb7m/FU+0tCplp\n",
       "V/6MqH4T1eGwUPKYg6dy7YrrYTAeVTgAzFQZqpU7fikeZbp6xt3sbNP9KkXn9Iy4yX9XVXZqa/YZ\n",
       "Uf0iqse/ZJJDDywf3vcBVZuGlFCNDK6ecZc7AGEJttqWbiH7nG7Vdvn8WdwenG4TTpUXyioMiOrT\n",
       "qB5vnDRHM1MocltU4c42TfTyJlSB3D4YqmrtjLv0bFMVXzaoYYNEtfu1RMPKEw7JxEO676C8BwFR\n",
       "fRrV+vB7pzSHGPJpR9BBYZ0d1hMD55vCbpPaWl73g3YND6eWbpxxl55tykZTV3cbM0wrngzIK2sT\n",
       "v+q8R6cs/w0ZksYyA6L6BlS7wy/zsxzpeea7HMOyaSSzLjqpLfn+667oMsnSBMFQHgqaz2DE5216\n",
       "7kiiEkaKimGI6tOoDodnVfMc9XDslX3x3NLZfpckTXquarf6VCyfwCqjkVZ+u5b+OLuroflvaENS\n",
       "lT4jql9ElY59t+t8+81RdD5loLrh2IJoXZiUzbvudJkAS54LvTqfO0171dqI9PlhTlkRVMF85U1t\n",
       "TJ1dpq7z3+AZT99JFSdJENWHUZ1mYnRFurR7jyJBLtTV4tyNPHrAoDqSoKFpzQFAVbq+mJLDW4TW\n",
       "U+0Sws4DYFWFAZwa7PBJuTaKBcWFYsmCsbSzKHYciOrDqI6dmyR+pLs54/PRHc5mrK4NqZFX8aHQ\n",
       "ZjmlgndeQYnIJ3SPmZbCfcs6rmBwh4TEgkiX/565OUUnCVF9GFUeZ5tUuHubZ07zDwXt5sbrTM4p\n",
       "VK358DWshZylZO4q01UK4ciaOv7Hzz1l+Mkh/w1/T56/4rOIqH7LqkZrY7Zrnd8jPb+TStyAqmiU\n",
       "+mRmmp4PKd3YS6WPk5eo1154iAWM8+mE8JJs/I2ovhtV1k82aMVX/UCVfwzMPztodXbbwOgASNCp\n",
       "dlOr3NTLKZXzK/0dDwlZ5dWy3FQVC7OqzD6XU0Gkz3+jr/rKYdU4bmnhxm1vJxGz8bDot1dmSWNO\n",
       "Hu4el7xKZzTBFvrjlJZS+uMI6sZeSExoXRovhWFZBf1L8CLAo00Kom3+ezbPgTMAb0BVTRZDN6Cy\n",
       "uz2An9mYZtdcFTmJapg+iv1138bjlJZSArHEugVsSmjiewfjxowgfg3q2klBcaJrmhrbXq+CqD6M\n",
       "atVNfhir6Z5VVl3mubV0PtFU7KDPoir7rBYCl9aalZSqNna0XxuZmOTxFUDtxDhrHd7BjgX1PP8N\n",
       "bcir0mdE9XuoNoeXq2Y5TD7isFY59KusjYH+BNXCUSpqUHJXyikhNU7cjS78XfRV9rvK9+SU9+cg\n",
       "qk+jyrqj1aY5+Gy01KiFDvo0qvRj9E2a8pbWj5RJQkWMIWrp73GhS7LgJX35qovfHVF9GlV6eL9K\n",
       "kmM2pCJdk/WrV6CarrKK3fjCsZXzlIsJZ38XoZsQSXfR1uXPiOr3UD1+gl+SoyfKByEkN83ghsq+\n",
       "X73KAZifm3xJyjLiKeqbEwCI6uOonjhqaszBhnlQSx30eVT3zEocTpmGaHpTE8yTJuTl5kRUH0eV\n",
       "HnZWN3IU+l2hm0F/W9/n0BxZU/6MqH4TVTUc1dw/nuPXhZTDBSYR1cdRXbIaO23OnwymK39GVL+L\n",
       "qtsqetDoyL+N6g6jiqh+A9VHNSt/hVFtyp//Mqou1PfVWy5/IX5ZX7U5rFpxPMcvCiI5wV0snub+\n",
       "iWrv271aj19K9VVUFXXhtjHIUvkL8dw1UWnSSPVHzf/xHL8nqGTngSpuNWtcS378xTf750Ocxy+l\n",
       "egjVe63nVbeAQyh6meKwSqRo1F9FNV2A0xaRkq4lL26AVWt7t3X7TX2evD/HbzGqvPz57hCt7f8D\n",
       "9AZD6+MHclAAAAAASUVORK5CYII=\n",
       "\" style=\"display:inline;vertical-align:middle;\" /></a><br>"
      ],
      "text/plain": [
       "<IPython.core.display.HTML object>"
      ]
     },
     "metadata": {},
     "output_type": "display_data"
    }
   ],
   "source": [
    "schmidt_decomposition = Forall(\n",
    "    (m, n), Forall(\n",
    "        (A, B), Forall(\n",
    "            v, \n",
    "            Exists(\n",
    "                a_1_to_m, Exists(\n",
    "                    b_1_to_n, Exists(\n",
    "                        ExprRange(i, lambda_i, one, Min(m, n)),\n",
    "                        Equals(v, VecSum(i, ScalarMult(lambda_i, TensorProd(a_i, b_i)), \n",
    "                                         domain=Interval(one, Min(m, n)))),\n",
    "                        domain=RealNonNeg).with_wrapping(),\n",
    "                    condition=InSet(Set(b_1_to_n), OrthoNormBases(B))).with_wrapping(),\n",
    "                condition=InSet(Set(a_1_to_m), OrthoNormBases(A))).with_wrapping(),\n",
    "            domain=TensorProd(A, B)\n",
    "        ),\n",
    "        domain=HilbertSpaces,\n",
    "        conditions=[Equals(Dim(A), m), Equals(Dim(B), n)]).with_wrapping(),\n",
    "    domain=NaturalPos)"
   ]
  },
  {
   "cell_type": "code",
   "execution_count": 35,
   "metadata": {},
   "outputs": [
    {
     "name": "stdout",
     "output_type": "stream",
     "text": [
      "These theorems may now be imported from the theory package: proveit.linear_algebra.inner_products\n"
     ]
    }
   ],
   "source": [
    "%end theorems"
   ]
  }
 ],
 "metadata": {
  "kernelspec": {
   "display_name": "Python 3",
   "language": "python",
   "name": "python3"
  }
 },
 "nbformat": 4,
 "nbformat_minor": 0
}