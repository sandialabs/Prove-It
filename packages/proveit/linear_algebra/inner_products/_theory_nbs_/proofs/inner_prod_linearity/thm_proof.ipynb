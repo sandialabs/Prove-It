{
 "cells": [
  {
   "cell_type": "markdown",
   "metadata": {},
   "source": [
    "Proof of <a class=\"ProveItLink\" href=\"../../../../../_theory_nbs_/theory.ipynb\">proveit</a>.<a class=\"ProveItLink\" href=\"../../../../_theory_nbs_/theory.ipynb\">linear_algebra</a>.<a class=\"ProveItLink\" href=\"../../theory.ipynb\">inner_products</a>.<a class=\"ProveItLink\" href=\"../../theorems.ipynb#inner_prod_linearity\">inner_prod_linearity</a> theorem\n",
    "========"
   ]
  },
  {
   "cell_type": "code",
   "execution_count": 1,
   "metadata": {},
   "outputs": [],
   "source": [
    "import proveit\n",
    "theory = proveit.Theory() # the theorem's theory"
   ]
  },
  {
   "cell_type": "code",
   "execution_count": 2,
   "metadata": {},
   "outputs": [
    {
     "data": {
      "text/html": [
       "With these <a href=\"allowed_presumptions.txt\">allowed</a>/<a href=\"disallowed_presumptions.txt\">disallowed</a> theorem/theory presumptions (e.g., to avoid circular dependencies), we begin our proof of<br><strong id=\"inner_prod_linearity\">inner_prod_linearity:</strong> <a class=\"ProveItLink\" href=\"../../../__pv_it/theorems/dc9dd9f31c9b6d475aa8a54fe119c1c6f8db36510/expr.ipynb\"><img src=\"data:image/png;base64,iVBORw0KGgoAAAANSUhEUgAAA10AAAAzBAMAAACeQ3/bAAAAMFBMVEX///8AAAAAAAAAAAAAAAAA\n",
       "AAAAAAAAAAAAAAAAAAAAAAAAAAAAAAAAAAAAAAAAAAAv3aB7AAAAD3RSTlMAq1RmmUTNIjK7EInv\n",
       "3XZ/CtNrAAAACXBIWXMAAA7EAAAOxAGVKw4bAAAKeklEQVR42u1ca2wU1xU++/Luzj68aqq2ERVs\n",
       "hUV+BJyVoEhUyN3GIUGlCdui/khAtWPaRuFHtP6TynEDS6RWIoF4CU3BaQtDWiW1iezlUQg4tVy3\n",
       "0CqEyIXQojRLl9oqrUhcy5AQGbX0nJk7c+/MvWsWxUlNNQdfj33nu/Odud99nHsWGUBhvb294Nms\n",
       "M623V1fe+Ov1K17vzD6LXr9eVN446/XN7LSAp5enl2eeXp55enl6eebp5Zmnl6eXZ55ennl6eXp5\n",
       "5unlmaeXp9dHtmS5MGMobnksBXZ1W7gKfnpUpBqN1LSgqsjDzTNEGMgq752jr/+xXrHczKG4vGl8\n",
       "w6J5lSxUUeJvgIoW1DRS07DUnbuwfEtu/TfX7x1uAFGSG1aBXxlfqFeKbs+X9FJVz7xetbDEcj66\n",
       "+DO1PfROapI2r7KNKvDaT0emR/mzahqJIiZp30DSSp77S9BzSqw4ICGyzA2r2HqtoNuPSHqpqmde\n",
       "r1pYYrkgzbC6fE3P1FrxW4JdZavTFfi67A1QI0oamSIBypoN7tqXsHx7eoIR5oZVbL02K+Yx6rVZ\n",
       "Ob1nWq9aWGK5SEq1ZKgtmDFHdVA9HQOWNGsEfH26Gqra8DeayRQNoJxxS6x11mrQjGVy+gl8gLlh\n",
       "FVsvEs89j8+Csnrm9aqFBfevDco+U1qc7RrxKvdfZ9dGAd+iV0NV216MZjLFLjmwoMEYZ8/3W/vi\n",
       "EGo3Nf0G2WG5wYqtVwBFr5PjDVX1zOtVCwvqtRgvrbU9cwFbrBZUub/epRfhfl0VZa2PeRXNAuVa\n",
       "7DJa7OsyTr38iIuNuNZHUFCu58XWC06VyycV8aGi+mOID2tgQVS8XH6nVNszV7ENnq7hORd5pNd3\n",
       "4ZcDOJP3u/Qi3MPjn7K7fCwDezkKYNu5cIbiAwWNREG8jMZuaoQ/KadeQXxc3dwLaTG+6WsGLeWm\n",
       "3M8L12slwAsKvRTVH8n89hitCErUwIKoYAGiem0069kmT9d1+ShfdbLJuUEc00tdeiFO+0Dvt5yL\n",
       "+YfgyxwF2mNH91vxQLBsWAqEke+gSHAauynVBVqdetF869+gXRWDi9JCCEy4KZfywvVqhzC6EJp3\n",
       "N9T9TtDLrg6v3mHWdp464l4AXjt56DbxUDIMyfFX1TPhizZHUFDCZGFnxEftA5DoDKIQ015dItFH\n",
       "OI3l6+ZV+y0E7VUnkA9M+bCfFrr0Qpx/CuLWGHoKW9zOURDW4RiwaFm00woK4rVo7KYU2+IYcOiV\n",
       "wJl1lw5v2i+Qgkj6fvAV3ZQLeeF6RXXjRPouwFpd0ItXd+Hge/b25wG2S13lSzmD4TacMMGUMs5O\n",
       "2RyhEleCsZg2h0S70J1zOkOAF8hZhdnoLmuCHGevitfgBCSISvvASBgEjVHeRd/uL5ffKJf/yPB4\n",
       "ox5x/XRfR+XeZCjT9pEfm93Ex50URlvitWjsphTbRibM2fnOKXN2xtHnewGuMddIUw1Z7UFjU3bx\n",
       "wvXyV4wdfzskc+J6aFfDa/jElexnWa/khPD7cxT6KPUyzlCMYwNXgrGY9gcs9xTczpBejVXCDQtN\n",
       "PvKOHDWv8SL0G095ywzpjO5Y55pfiMMeb8ERnzAGXose+ZCjcLRXQHUyPu6kMNuOchq7Ke1DIdf8\n",
       "Ir3+AqFJyzXa9zBe7Cq4KdfxwvWC1ia6fzl8zJmPYtXGyc488G+HnnONKe1nT10AODge/m5DFvWK\n",
       "DT3edg+MXsIxMd7UBg/rkO84c+mr0LkkB8nBzyIQkvMPmgdHxnFAUMJg2ddEK23kPxd0lgsQnSFU\n",
       "XQDfITm28T5K76SMEbHtkW9amYPLwunzNAu38Npfoa3Itpa8hj4uktdDPH6ttnfHeyE5xFF0TtOs\n",
       "I724f51WUbzEaeymFOf5R+T1cBKCU2JcidPyXYlyES+CXgdovEeuLq849TKrrwwMTIJWZHqFJ3HJ\n",
       "25Suw3/BzLo7Sr6UtqgQGu6M5rQRCnuG4cl/r8Bnwd9xcfs9HIJVBFwLG+FxgaNBUIJYtD9HaO9N\n",
       "vp3M9pjLnOgMoWILsA8u+optCK5MRWi8rlybBYY2fGS2m5byvHHtT8Nn7CinJ/d5iOF1mUsvxNUX\n",
       "cBuybDtEUwxF3e5Pg091pN8NMgXxMhretEPIqlt6RfH6IbzCj9s7gVi3S5TLeBH0+j6NmOS1ziGn\n",
       "Xmb1EPU+O5ijXlPo5SY9WumCULFLB9/58RxEpmiBpXoUE56dV8H+rM99D3ZgBPSEAbxbhwcFjgcF\n",
       "JYglmDUUiGYCrWbaweEMocK/wR8y0QquGOEXR5LG+3daSQrTR2b72Rq0n7rF/5Yd29z19NfgGywI\n",
       "F/VCnC8T5XvwV6CFnQaMvWXL0UvnVEd6FmU7KIjXpBGaHmDxu6gXxfe3wY8cychgKnRZolzFi6CX\n",
       "j9bNaBFOOvUyq1PUHYFHu7ufM/SagLmwCXyV5YsX57aCGdJgZy8H+DS0ULyh4+6KFfFMcvB8CLc2\n",
       "Aob2vA9fEDi2CEoQSzyXNLbhQjC1tLu7O+10xghIPkc/1Rsj2Vfy0XtH8BtDGz5a5yUWH+NVm/tq\n",
       "+z+s+l+M+5vTwkcPjRyvzWnmXbd3cHWeoco42kv+EzlVXnAbyBTEy2h4U1oKEzmnXhGs3Hso48gy\n",
       "anPGrkqUZ3kR9DKsPgP/0uXPU7AauyNSsuaXpVeX6a+p1wjNr8fM+YUdP2LMrzOw++UpM7x5Gg8Q\n",
       "WwSOBtcnJf356Jewvh7i6WdkZ3gAudX4KCmRixeMVf4JeEbw0Xr1grlBJtQfmoVHXHrJuMMWyq9X\n",
       "zwtSM7mpnTOzmxqZwSfBlY86p8oyxlrdlOSGVdx6YUAcL8l6YTV2BzvTGnrhuofLQDSjVYT5VZcO\n",
       "v47rSngY3sfDEi6Q/9Sm4HzlJ9BHwAaIGuPF4hh3KRHPd63R90FCX8aOxQ5nLFR46DBktRJ2Uwvs\n",
       "g3DbD4ocXZ9xpGo75JStmA4W870uXKxVG7ZQMXF/UWSEZQo7zxgTtjQzvevI9y6Rs4yH4ZW0m9JK\n",
       "KlNx6ZXccwwWXpP0Su454p+Ha1EHDaXON47svRI48dC87PLvwMB4eN4RPC9jj7Vfy8PgGDo22PSn\n",
       "woqBAYhcbszC2OIfVmKDFQRCw+gRctzm2OlSItTceBC2piMPVCC8S3LGnl8PrB3XI8Pgb/4xgoM/\n",
       "P5G30KaPwotSGnmnUi85c+vEJSq+koXqmy4vuFMlo/05TJ8YMsrRStSdj9wA543Tp5OyQyju+SXl\n",
       "o5yn3aPdz9eeeooMKZIQPOuhFZWfHJt7+r7u7pyUjxLTWvAy7LDACrQRM1L036N0TVbRifM3rbBR\n",
       "FTEvqGomUQQq7pTbqEod3gOWNcH8sZxEuVMoN6fXzVlkQlF5H1+T7GSd+D8zQtUShA4UPARzQ63V\n",
       "wey0mbJOnS5L5tX46VG+KjRy05Sq4qLceiPcgMHH3LDKe8fp62PSq/2aqtt1IZOo+iSxtmdnYM2l\n",
       "msH/d/ZJ/n8bXfrBs9msl2efoF6R0ZLXW7eQXpuh6PXWLaTXLq+vbim93vaihFtKr7WLM15vefGh\n",
       "Z55enl6eeXp5NoN6nfH+XuVsNK23T62X9/cqZ6XR36v8Lx46kxfhIZTDAAAAAElFTkSuQmCC\n",
       "\" style=\"display:inline;vertical-align:middle;\" /></a><br>(see <a class=\"ProveItLink\" href=\"../../../__pv_it/theorems/093b5159c37cc9f6ae2f5222aed15db4508ad04e0/dependencies.ipynb\">dependencies</a>)<br>"
      ],
      "text/plain": [
       "<IPython.core.display.HTML object>"
      ]
     },
     "metadata": {},
     "output_type": "display_data"
    }
   ],
   "source": [
    "%proving inner_prod_linearity"
   ]
  },
  {
   "cell_type": "code",
   "execution_count": null,
   "metadata": {},
   "outputs": [],
   "source": []
  }
 ],
 "metadata": {
  "kernelspec": {
   "display_name": "Python 3",
   "language": "python",
   "name": "python3"
  }
 },
 "nbformat": 4,
 "nbformat_minor": 0
}