{
 "cells": [
  {
   "cell_type": "markdown",
   "metadata": {},
   "source": [
    "Proof of <a class=\"ProveItLink\" href=\"../../../../../_theory_nbs_/theory.ipynb\">proveit</a>.<a class=\"ProveItLink\" href=\"../../../../_theory_nbs_/theory.ipynb\">linear_algebra</a>.<a class=\"ProveItLink\" href=\"../../theory.ipynb\">inner_products</a>.<a class=\"ProveItLink\" href=\"../../theorems.ipynb#ortho_projectors_are_idempotent\">ortho_projectors_are_idempotent</a> theorem\n",
    "========"
   ]
  },
  {
   "cell_type": "code",
   "execution_count": 1,
   "metadata": {},
   "outputs": [],
   "source": [
    "import proveit\n",
    "theory = proveit.Theory() # the theorem's theory"
   ]
  },
  {
   "cell_type": "code",
   "execution_count": 2,
   "metadata": {},
   "outputs": [
    {
     "data": {
      "text/html": [
       "With these <a href=\"allowed_presumptions.txt\">allowed</a>/<a href=\"disallowed_presumptions.txt\">disallowed</a> theorem/theory presumptions (e.g., to avoid circular dependencies), we begin our proof of<br><strong id=\"ortho_projectors_are_idempotent\">ortho_projectors_are_idempotent:</strong> <a class=\"ProveItLink\" href=\"../../../__pv_it/theorems/0f5f2bd6fc27109e25f84954918d16789a580f850/expr.ipynb\"><img src=\"data:image/png;base64,iVBORw0KGgoAAAANSUhEUgAAAjgAAAAgBAMAAADtQR8aAAAAMFBMVEX///8AAAAAAAAAAAAAAAAA\n",
       "AAAAAAAAAAAAAAAAAAAAAAAAAAAAAAAAAAAAAAAAAAAv3aB7AAAAD3RSTlMAq1RmmUTNIjK7EInv\n",
       "3XZ/CtNrAAAACXBIWXMAAA7EAAAOxAGVKw4bAAAHMUlEQVRo3u2Zf2xTVRTHT3++H+3eSiTyQ2Ez\n",
       "Eo0Ssbpg1MFSIjhlgdQ/EY0NGo1E4ZEQkgXCauIfqJNWDeKIrI9ITBajrWyKrGAGTGMAoRjMEqBa\n",
       "fsQE57pJNsZWwzz3vt/r2q3jwT/sZu9H7+t7+57PPefc824B7sj21bezb/e/nJMWS7/Jlu66Xfoc\n",
       "QfUsACsKfSmAW0+6EoT0b5b+89BkbnLfvsGbp50NQEO4wJfqKUY/7qruJDi8ru/pwnAcGR2Oj3Tc\n",
       "bxUcGznY/SXCsVJDkcahLiE2NO3T5fjhUN7lKyMfzXpNAjirw1lG+t+wCo6TRLVbLBGOlRqKtC1k\n",
       "V47u87kE7Nn869eQ3zGACzqcd3DPRK2Cw/rUqC0FjpUairQ6sotg1DyagXop7zJ7A50et7ikwXHj\n",
       "qafSspyzFg/7SoVjpYYibYDsejHX9CaYAJPn3sJ13HKoxq/BIQercmJIzvChUuFYqaFwY4fJPka2\n",
       "cP22d/Nch+vDDQE5o/ps9Ws6fdw6ON50+nyi5NnKQg2Fm5Ai+yEaP6dGRvKul0floBM6dDjPAeyy\n",
       "Do4zDJxUMhwLNRSpNkNyYmEOaRHsTNNGZ0sCZjOp+1zDOpwNwPisg4PP2pBXcI4LZ5QG52QF2PPn\n",
       "SUEPG5LyhX+TrcGxb+69J7mQht91HQ4nefDbG98Kg12OB/7gOen7XHgxtPQxu82Ks90fjFcE7oLv\n",
       "cP/QkGg7TMsseRKyx3bCvTMBDjQ17QTm2V8A5hvhyBpcsbolM6gZ8pVV/W3TNGs3ZrtV2i0dSlF3\n",
       "8HjbXfp/x1FfaDRE0aCNjtunJJYCLaYcmQEdjj1DUmIiXgllKHD7rB3A+UjcbQemDz7U7y2jMbNk\n",
       "PDgL5HzcCU7ZLmWG9gagFqCFDlo1fxXgdyMcqgFgsVKbKXAcKfCkVJ9YC6z8DpYiupRA8YFb98z9\n",
       "wPt0QzQNqzUDAkqZU6BdUwtpAxwI1SATiIvQiOY/R7RROPgtE5x/0EKQS+BicNy0/IZeqR2McIRh\n",
       "D6aindRtM/wgsB2m1weiAWA63meAYwuAoHJoQDN76IM6THAEoydgCaoaomtwS0bPiZhmC2POYXOq\n",
       "5xjCCvatpekIYCnAJVDh8DECp7HmsgStWeb1ecsqkpJ7NjDM7po2iWnForb7goiX4GK13wjH8wAV\n",
       "462TTHCgE4UyijK2D5wBExxZwxGA0wY4XvQBNRXdjVu8ctOapS/k2pnrC1BhTTuB4+nAPrjULYFw\n",
       "jji3aoiuQSugKJzeYMHJbECd8gcNcLZQAU8RT+epKdy55IEOaCBwIqI95K50+l96MIHDwfx5Johd\n",
       "QsiW8IqegDOBlxYmmIwRDnNYq6hMcEjxZVd0OqKq56twqAZmGDYEDHAaJGY6OJuwfQJnaGi6jmxG\n",
       "l2OuwhrYAV8jHP6RMPZxQT5FCuBNmiEGDXZ1GGxEyvrCE4Pqg8bZCmwkcX45cuJEH7j8mudAnHoO\n",
       "1pURcEUjEvVV9sIN2sWInD8uMhJe+qz/YfNb+Ux66ukcBecgapQfD/z6/06cMr+VUw2Ok1n5WQqc\n",
       "RdmLWlVAkJcHsI4jcIahGZ2Py9j+yAZJbYfO0gyQhFWaIQYNLlUBSRXPjzQXYOOMDSmD7OjIW7IY\n",
       "BEcIHG82NX08Cs7RRVVVQTziH0+clnRBd0/mFSIfL60aCY6xZNHeaw4rzzc4HrwSJOUiPDHGkoVN\n",
       "jSEFzjTjOhrxpEokw9KcMxctsAWoL2DHIpquknCfZohBAxs1eMREmtM3Go4rRfIfmxjTc4Ak5kbe\n",
       "byNzFukq83N/N0g0vlnJEcqH45G8AROcdujU37pepsbkwfH6zXCOUqlyWEXCZCZjU8jiCwIHPced\n",
       "keGkiIx1BM57miEGDVpYwU8TrEr9o+FggnRnlDrVACciOqKcn88gkTgbLg9iuRaRhGhcKstyCT6D\n",
       "ly4GtMgxwFmO05MRjlMCMozOH+inpdSYPDgNogkOM2hcguoCVxfxEr5vG8JpxqyzRVI9x13JHCNw\n",
       "yjRD+ISmQciY3srHb4a3cnXUwuDNzIb6MK2tpL9y71cE9vbD1iosvZJZpmI/eOrAuTqZgMjjl0F4\n",
       "5sl12E0u2VdWi6Ph8CvOwp5rfh3O3rTEV7yKJ6tJEQhYA560SaPhCLF2E5wrOeN7yMZsEivpnAht\n",
       "iT39jp+DnmwtESr3/XhZJHA4UTWEPaJp4DR5jROD81jeMulWDPnTIvAHmnaMc29jacukYyzTkOlt\n",
       "zowiy6TcpN4dVoIroRli17pb9Jw2sVWRrptYQ47cNJxx15AnA8cVwlGt1T6+qJ3VjrWGXOwniszk\n",
       "4TAVicnDmdVEw+pWwGHmBkgOVj9qhanDUPXNn8iDbtWvD2+P8bvVuOvJ7vzfrZhJK8hfLeGNThGc\n",
       "wCPI6nvPeT8I6aMw1SbetldPMSi4zurjpiAUalx4ikHBVibxUxAKVgutVVMQtPY/w8Q9hrZdBGMA\n",
       "AAAASUVORK5CYII=\n",
       "\" style=\"display:inline;vertical-align:middle;\" /></a><br>(see <a class=\"ProveItLink\" href=\"../../../__pv_it/theorems/684bb88087a433e46413e2d62ada1684181b11e20/dependencies.ipynb\">dependencies</a>)<br>"
      ],
      "text/plain": [
       "<IPython.core.display.HTML object>"
      ]
     },
     "metadata": {},
     "output_type": "display_data"
    }
   ],
   "source": [
    "%proving ortho_projectors_are_idempotent"
   ]
  },
  {
   "cell_type": "code",
   "execution_count": null,
   "metadata": {},
   "outputs": [],
   "source": []
  }
 ],
 "metadata": {
  "kernelspec": {
   "display_name": "Python 3",
   "language": "python",
   "name": "python3"
  }
 },
 "nbformat": 4,
 "nbformat_minor": 0
}