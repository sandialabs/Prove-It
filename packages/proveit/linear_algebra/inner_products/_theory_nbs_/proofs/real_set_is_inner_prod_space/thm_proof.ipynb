{
 "cells": [
  {
   "cell_type": "markdown",
   "metadata": {},
   "source": [
    "Proof of <a class=\"ProveItLink\" href=\"../../../../../_theory_nbs_/theory.ipynb\">proveit</a>.<a class=\"ProveItLink\" href=\"../../../../_theory_nbs_/theory.ipynb\">linear_algebra</a>.<a class=\"ProveItLink\" href=\"../../theory.ipynb\">inner_products</a>.<a class=\"ProveItLink\" href=\"../../theorems.ipynb#real_set_is_inner_prod_space\">real_set_is_inner_prod_space</a> theorem\n",
    "========"
   ]
  },
  {
   "cell_type": "code",
   "execution_count": 1,
   "metadata": {},
   "outputs": [],
   "source": [
    "import proveit\n",
    "theory = proveit.Theory() # the theorem's theory"
   ]
  },
  {
   "cell_type": "code",
   "execution_count": 2,
   "metadata": {},
   "outputs": [
    {
     "data": {
      "text/html": [
       "With these <a href=\"allowed_presumptions.txt\">allowed</a>/<a href=\"disallowed_presumptions.txt\">disallowed</a> theorem/theory presumptions (e.g., to avoid circular dependencies), we begin our proof of<br><strong id=\"real_set_is_inner_prod_space\">real_set_is_inner_prod_space:</strong> <a class=\"ProveItLink\" href=\"../../../__pv_it/theorems/5651212514e801d5d8ff8b85d7f83946c9dcfcc50/expr.ipynb\"><img src=\"data:image/png;base64,iVBORw0KGgoAAAANSUhEUgAAAOEAAAAdBAMAAACuzRYrAAAAMFBMVEX///8AAAAAAAAAAAAAAAAA\n",
       "AAAAAAAAAAAAAAAAAAAAAAAAAAAAAAAAAAAAAAAAAAAv3aB7AAAAD3RSTlMAZs3vu90iq0QQiTKZ\n",
       "VHZ+Ip2vAAAACXBIWXMAAA7EAAAOxAGVKw4bAAADgklEQVRIx+2WTWgTQRTH/0mzcddt0kQ8qWhs\n",
       "/SyKH5SmpSKLX9RLK0pUROlClYJUGvGgF+3SS0H8iB9FFNF4sEoQDdSPkyZeVGqQpWIRQRpEhBYM\n",
       "FWsqbbS+mU27SWmiSM3JOTz+eTPzfvtm3swEKERTM8WsivrFFa5/C3Tq45Qz7KfShPbZgawR7WXe\n",
       "6FQzmxqGj27K/jrnDg1SLKZH8xHfTVCcbLZyEDbZnz0kokw9NeKHfW22q0VDRxhvPHmAksekLDeI\n",
       "xeqkCS3+qecy/4JglqtEwx3Ako9Y7DIp88aJ6Zw++nye3xEj2yYTy1mUPMSiDEpRgOsZlw1CW/8f\n",
       "5HjWM5m4kSowX+31wKRYjXzv9/DytS83I8tlzxInYFjYX91B2/p3Szjxns7l1cQLGhhKRDT0jWiA\n",
       "WHYjdpiWNxEKQOoO6WgeiOLJ/A80qBsmZSZFUBoXfzNys6oZuQjHEVHTtkt1erCu9wvzX1sDJuWd\n",
       "sMVxQcc9Dc6xsWW0XlXoiOK1WuxBoy7WyJX4ICkQKNpCmBQLryL3eYNjzVw922qUuNJ2L/ADPgTQ\n",
       "sif0mbpJCkHIo9jAaxXnjoy5YPXD8Z2IYhKlcFQKUZS8rYaThu+DSXGsZtp2ztiFLh81ZZyooCRu\n",
       "WPkLqDqWMr9RICQjOjAi/QSua3zqIKxRSCk6CieT0gg7SPQNwYY6tmxVMCnyINNydCsPdDErR5Po\n",
       "SLndc7HCJJLsI9CQbBApkvidETEE6fn7JHOj76nbHb7SkJogGhSR54iX+3kgIQdR/sF85Sax3Mgx\n",
       "lc6ROUfTOb7W5CRLlQ+wB7AgPL6qBsWxjeuL/PKBMz41EV76tknEoijLaxHfx90Ue5Dv4yhSEJMP\n",
       "SylyERXl6ThmUOQ6mBQLRVCaYXHV8kgrM245K2cZtktDJysfRIyzSFKuoW1Co4ZWF7brOE+7VomO\n",
       "IBGdo72NLnTKVZh5qBo22shbMCnFQfZ2bMGmVTqLdKnWuNHbG7wvW72P670yt7DHBtT2r8fRtGqY\n",
       "XXFMojl0jMqkOxHZBf+pW6SthxNkH33uvxmXYgkVza86xbuJ2zT+AUyKoGXfDic3+zx/+yRZcz4f\n",
       "QtjUB6bxEcxNtGT0PJ1GouDP2bVlQtmV6QOKrV41V5950G1qQf7lwD5x7D7hfytAezKnwEDZbysw\n",
       "0RYu9KIKAanARPGG+99DfgEiljDwExNn+QAAAABJRU5ErkJggg==\n",
       "\" style=\"display:inline;vertical-align:middle;\" /></a><br>(see <a class=\"ProveItLink\" href=\"../../../__pv_it/theorems/32c829b118e08b8aeded85e5529780051a6ee58a0/dependencies.ipynb\">dependencies</a>)<br>"
      ],
      "text/plain": [
       "<IPython.core.display.HTML object>"
      ]
     },
     "metadata": {},
     "output_type": "display_data"
    }
   ],
   "source": [
    "%proving real_set_is_inner_prod_space"
   ]
  },
  {
   "cell_type": "code",
   "execution_count": null,
   "metadata": {},
   "outputs": [],
   "source": []
  }
 ],
 "metadata": {
  "kernelspec": {
   "display_name": "Python 3",
   "language": "python",
   "name": "python3"
  }
 },
 "nbformat": 4,
 "nbformat_minor": 0
}