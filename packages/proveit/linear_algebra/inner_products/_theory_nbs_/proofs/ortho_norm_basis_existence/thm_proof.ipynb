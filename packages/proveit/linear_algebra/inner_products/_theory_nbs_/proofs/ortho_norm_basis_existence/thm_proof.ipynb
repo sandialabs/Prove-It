{
 "cells": [
  {
   "cell_type": "markdown",
   "metadata": {},
   "source": [
    "Proof of <a class=\"ProveItLink\" href=\"../../../../../_theory_nbs_/theory.ipynb\">proveit</a>.<a class=\"ProveItLink\" href=\"../../../../_theory_nbs_/theory.ipynb\">linear_algebra</a>.<a class=\"ProveItLink\" href=\"../../theory.ipynb\">inner_products</a>.<a class=\"ProveItLink\" href=\"../../theorems.ipynb#ortho_norm_basis_existence\">ortho_norm_basis_existence</a> theorem\n",
    "========"
   ]
  },
  {
   "cell_type": "code",
   "execution_count": 1,
   "metadata": {},
   "outputs": [],
   "source": [
    "import proveit\n",
    "theory = proveit.Theory() # the theorem's theory"
   ]
  },
  {
   "cell_type": "code",
   "execution_count": 2,
   "metadata": {},
   "outputs": [
    {
     "data": {
      "text/html": [
       "With these <a href=\"allowed_presumptions.txt\">allowed</a>/<a href=\"disallowed_presumptions.txt\">disallowed</a> theorem/theory presumptions (e.g., to avoid circular dependencies), we begin our proof of<br><strong id=\"ortho_norm_basis_existence\">ortho_norm_basis_existence:</strong> <a class=\"ProveItLink\" href=\"../../../__pv_it/theorems/d65a29d6b04169787b0f4dd1a3c05bc2f9060ab00/expr.ipynb\"><img src=\"data:image/png;base64,iVBORw0KGgoAAAANSUhEUgAAAlsAAAA/CAMAAADg4f0mAAAAM1BMVEX///8AAAAAAAAAAAAAAAAA\n",
       "AAAAAAAAAAAAAAAAAAAAAAAAAAAAAAAAAAAAAAAAAAAAAADxgEwMAAAAEHRSTlMAq1RmmUTNIjK7\n",
       "EInv3XZsTBlw/QAAAAlwSFlzAAAOxAAADsQBlSsOGwAACzJJREFUeNrtnYmWo6wSgGWTTern/Z/2\n",
       "si8GY9JjT+JcOGdGg1pB+FIURUEvy+uJWZ/Mck26VtpMn01raE08+PAqDcwlcRlbV0qb6bNJ+MbM\n",
       "OHUfXqXhytJcK22mL0gbPvow2ZppsjXTZGuyNdn6ErZQOcNkNtRk60q2KCsjWj4barJ1JVsiKy4u\n",
       "ZztNtq61t1YVjxrPdppsXcsWSWbWOptpsnX1OHEzPm16NtNk62q2aJgCkmo202TrarY4yv99acIP\n",
       "A1jY/Tr+SNhe2mTrOraCytLJFcGQpXjh1MrW28X1ZvSZi0LpbdOaokM3GYQ3BwAt3umACasFc2bh\n",
       "Rh9okg9lCPKJORK2e0062fottjA0ljxswTNhI0kCkJS+OeQreg2Fm9bDplpx6oHpG1pSobZgTKt4\n",
       "GLOVy0D86FfAobD+NZmebP0SWw4sUpohQqS32NlQ0WW/xBYclli6N4+C32ArO3dDCYDtPCcHbB3R\n",
       "WzzF3Wv20iZbV7Klca1cS6rugdq9+bZQ0ggM7Yl7lAAsfF0xpbldfYPlHCAQFY3rCgl4vbUi/5kv\n",
       "XBp3jSrf4ZLY5KAB8SRyAUx0+HpTC8a1qkV+zpawSklbiqoIQawR1r3mwLdHKBEAdLL1x9L4Vn7l\n",
       "wlLtUogxU02bhd8599kekHISejmysA1zHdtVYeN1Xczx3akK7Ul1enNurAkohf4IXF/sjaPNM0XD\n",
       "bVGk76a4V6Z8zQXjZKudHKbP2VKuhNyWMrs7sKnCutdM0qjMiSyKsI3EUk22/lAaEiNzi5EHtpze\n",
       "kFBPhBfHpNcSQYxxhjrLemOJl+sDAZtgw1mXJcI3WbZw912+Pf13cpVEusbH0bJK4IDVPHdhTfYz\n",
       "tpQtZdbx+8pTvVXZS/MPKQ/9YtVk60Jp0Q6JVU/W+DvGlS3feFBPyEZcYomTBdUmCjkkZCOav9ez\n",
       "pWKjZra8enB9oYFctCySSWs9pjipVOllVwevkGd9Is9spTL778vCutfcS4tiwOve2SdeKS3aIbHq\n",
       "W0/BmC2RxAnzwJZZst5aO70VW9c0essQr9tUvCWLFMqz3TR7KBgUTXLWJ2q5DNgqDLWvOegTXSMJ\n",
       "P5JZxGTrMmmpl4hV3/rqK1sSmhPfDgqO9Fa0zTYvxXu9uH/zoIy8pzb0miAdAe7oOtPQcTlZUWRg\n",
       "R1ZbPhWsKC6Ap2xho1q2ZO6Dzeg1d9KW/JQbBdyQrTcC8hINF4XwnbAF0lk1ruew0QDjUhTf6aa5\n",
       "Qpa6Pmtl5cTpB+3Hicg/FvyWicaY4y67wVa0abQbJ5pVLJR5Izq0L8FhJAaUEOGVW5CVDpgCid5a\n",
       "yVPBnGi82QSX5M98p2HkEEpZiupLlB/bveZOWvSthnHrHaIl92y9EZCXaLgohO9NLai07yPYr9SJ\n",
       "eNGaGTo2lTzynf5A2E7azf1bbwTkJRouCuH7onh58WpRKD/Le6NKRsLGmbf1nb4ekJdpuCaE73vY\n",
       "in3US0k/uAJIr0rf+bk9CttLuztbrwfkZRquCeG75zofdZLB/0jYcu/oosdx4ssBeYWGS0L45hqy\n",
       "fy49svVyQF6h4ZIQvnfZEm60NpvvZmx1AXl9bNIBDe+F8OlL2PIjiLn8525sdQF5fWzSEQ3dE4+2\n",
       "saH+IknTzvQStuTc8eaObHUBeX1s0gEN3RNttxXD9zAKYyCqLmQreLdn892NrS4gr49NOqKhfaKk\n",
       "Er6H3UVaOsNr2GKakLmS/35sNQF5u9ikIxrKE03kWg3fwwIzDp4tTSk17h+b48T/U7aagLxdbNIR\n",
       "DfmJJnKtma3AwvWJmF2qt2a6J1tNQN4uNumQhvREE7nWhO/5OXvqAwsmW5OtmnaxSec0lMi1JnzP\n",
       "s6V0tvbfYAuM+fvDwexKV+yTEy4cf8tMIn+ay5+01HO29rFJ52yVyLUmfC/EGjGczLY3/Fv6A60L\n",
       "qQ5gZR8dhwr0HevJYTxLzKA/jtrqKVsPsUmnNDSRa7Vq4owrPHeuHrJFTUzbXwENpzfFn49If2lx\n",
       "HCBKEXRMrmkndblZkzsJjozdEEJy1epH9QHIWl8ggjZ3VHWolo/vsrW8TUMTuVbC94SJgV0/ZOvk\n",
       "B3RtUtlNpz+/0/0LReArxB6p7ZDEalH/MvFXHzhTZlM/qQ9nHqXTLRUr+xLS8ffZ6sr1Vvjed7BF\n",
       "yZ3Y4haylm3g4gSlFWitaasiW66e0U/qw5lHumXUu5u6499l6730HWxtyxezBdLbBo0yWktxV9Oy\n",
       "pbaonEZsqbf+9kh1P2kbG4OUP0KQFWA8TrbOrIv1e9liK+x6M2wLPGBJw5arTHnEFn5Hb9X6WNbU\n",
       "PrIYoitpj5Otsy5A7xtWASAl9FFM7cnll0yaIxE9W/xxZwhUgUowZbYWasmYLWVMkEMAdDDrBbhT\n",
       "jxCn4NeP14yuPpb8BVsplUbtcbJ1ktbSWLR648CNw+iBGju5/BLPRyKgmw8ZLHRZ69/IEXbr2FqM\n",
       "9x71bK0AQE18Q+ynTvw7qrwaTmxxowLVLI9r6oNZg0KqupKs7fGWbOHsg/gLbJn8HXyLtUq4tzBU\n",
       "WMS4KLIP9mgvK60Ret9x0X3DzlJv33gQZ/KMLeGHdQO9xaJbIrDFHH8sWEtuSBDzLS4ZXX04c0uk\n",
       "zrdk4a09Tr11Zrqy5A1a0zeLRoUJgL1uEb2G+4n+akXse0u0Vni29BMzctQnYrv2bDkY4MCWT3cq\n",
       "pr1uM1YCD2syA646Z7T1MTS36tJ1O9l6na1F0MYpXuNA8AidfNmPo7j90RzVQaSJXuv7jxYqkmqW\n",
       "aws7tnyvOGLL0eGlKoow9mwpbay75MYFfrcLInLGjq1sbjUM500p2D+it/xiaHhYtDfOHaWTO2sf\n",
       "UJ3iLLSAOmKrXCbqp2xVEd3eWv3UwAjrtdTZ1vkgkjoxQ7aCtsOeGj+jx1WAVIjc1+WMvj5YYlc0\n",
       "MzS5NuLx9mw5ZY3ksu6npoa5Q7RO7pTQD9KUZAvyP0vd1aYqyqS7XJ56aXj4KGK3t1Yf2wQw8p3S\n",
       "7IJomBZ5NsbKEVvByg8fHNPivyDWGXspSipN+ybrr9RHNbdqkxDZHm/PFol7a+37hmHu0HA+uVOj\n",
       "ni1shaJ+dyzcslVMlt3lRYTxfbVojk/KWStit7fWzr81+kWIqJrAsEZmngIM+8aV3MwhDRoofHBE\n",
       "4v+C6S65M+i8DM1xzujqwxRz69FhE4+3ZGs3V502PeN9lEDaeRYDPZtjss+6TmF2eouGzUUI7nuB\n",
       "5CPaX85lypeX0ik9nuSbehHd3lo7thSSg8gMkDTt/ZykC2ltwjDZWz63zlXHSTiBAIOzrIBpvzt1\n",
       "2MGHUtBu4FgySn24b7bWF426Y1XthrXHW+utPF4KMUMCG/WYu6Xdh57Rsz1d7FwmfYd++WJv4VG3\n",
       "55uS88PLD8IGN3V7az0UgWnZz/n8BafMsY7npjvenS2+ubFTctukn71uc3nag0bp8X/1TkIZwYPA\n",
       "oTwBe8LWKOSISyFEXMv00qJcPbKflmZvrS+Ydqr1MfD5ku54e71Fgw5XlS3hi9zkhj1yY25wNLf/\n",
       "tXdiH2E9aru83xU8LhLgerU69Ahq5DPYrE+Hlx9s+cFN/d5a9Bv+RpY8UvJ516J8/Af6xKqtU5fS\n",
       "F7ksWxtpnfYDEnVr5K7J5cgpvjdyTkajr7zv6U1q+4Y1cocbgGXo8vF2bD2Jl09s9eatVrHNRuHI\n",
       "fZ7xEZOj2zhk6wl98s82co2+469Gcjjy5rRHGIUF3/RvoQvYYuAA6X2JNkYnkbH/oR10+bH6XDz7\n",
       "q+mmbM002ZpsTbZ+xpbNfdAlbF0pbabPpjW0Jh58eHEIwXy6anHqtdJm+mwSoTVV9+F/4nZ3rAt0\n",
       "i7IAAAAASUVORK5CYII=\n",
       "\" style=\"display:inline;vertical-align:middle;\" /></a><br>(see <a class=\"ProveItLink\" href=\"../../../__pv_it/theorems/bec38016e229a5706ed9bf059f54ca46655368fa0/dependencies.ipynb\">dependencies</a>)<br>"
      ],
      "text/plain": [
       "<IPython.core.display.HTML object>"
      ]
     },
     "metadata": {},
     "output_type": "display_data"
    }
   ],
   "source": [
    "%proving ortho_norm_basis_existence"
   ]
  },
  {
   "cell_type": "code",
   "execution_count": null,
   "metadata": {},
   "outputs": [],
   "source": []
  }
 ],
 "metadata": {
  "kernelspec": {
   "display_name": "Python 3",
   "language": "python",
   "name": "python3"
  }
 },
 "nbformat": 4,
 "nbformat_minor": 0
}