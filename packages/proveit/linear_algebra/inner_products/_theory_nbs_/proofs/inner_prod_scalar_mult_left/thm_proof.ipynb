{
 "cells": [
  {
   "cell_type": "markdown",
   "metadata": {},
   "source": [
    "Proof of <a class=\"ProveItLink\" href=\"../../../../../_theory_nbs_/theory.ipynb\">proveit</a>.<a class=\"ProveItLink\" href=\"../../../../_theory_nbs_/theory.ipynb\">linear_algebra</a>.<a class=\"ProveItLink\" href=\"../../theory.ipynb\">inner_products</a>.<a class=\"ProveItLink\" href=\"../../theorems.ipynb#inner_prod_scalar_mult_left\">inner_prod_scalar_mult_left</a> theorem\n",
    "========"
   ]
  },
  {
   "cell_type": "code",
   "execution_count": 1,
   "metadata": {},
   "outputs": [],
   "source": [
    "import proveit\n",
    "theory = proveit.Theory() # the theorem's theory"
   ]
  },
  {
   "cell_type": "code",
   "execution_count": 2,
   "metadata": {},
   "outputs": [
    {
     "data": {
      "text/html": [
       "With these <a href=\"allowed_presumptions.txt\">allowed</a>/<a href=\"disallowed_presumptions.txt\">disallowed</a> theorem/theory presumptions (e.g., to avoid circular dependencies), we begin our proof of<br><strong id=\"inner_prod_scalar_mult_left\">inner_prod_scalar_mult_left:</strong> <a class=\"ProveItLink\" href=\"../../../__pv_it/theorems/5d84ee12e7d948d394b70f2355f36a2b0daed9ed0/expr.ipynb\"><img src=\"data:image/png;base64,iVBORw0KGgoAAAANSUhEUgAAAmcAAAAzBAMAAAAgHLLqAAAAMFBMVEX///8AAAAAAAAAAAAAAAAA\n",
       "AAAAAAAAAAAAAAAAAAAAAAAAAAAAAAAAAAAAAAAAAAAv3aB7AAAAD3RSTlMAq1RmmUTNIjK7EInv\n",
       "3XZ/CtNrAAAACXBIWXMAAA7EAAAOxAGVKw4bAAAHkklEQVRo3u2bf2xTVRTHz+vavvb1B034R/iD\n",
       "1bBIokIaBmgIGYUBkhCgBv+BGdcsUXQxpovGhAxZ4R+joC2SCSUB3oxRmQLNhiwCwQoqMROcCX8Q\n",
       "ZPrmUKKDMhlzuCXMe+7t6/vR2zYTFmJ4B07X9d7vPfd93n33nnubAfBMam+XwbKJofGNj4ctPlxz\n",
       "j48ni0CLWHSKWoUFzYJmQbOgWdAsaBY0C5oFzYJmQbOgWdAsaBY0C5rJ/L3xuyrPm0jcVbpKvIjM\n",
       "YC6uLMac9IZ26D5D80TurjxvvxLfVLrKniIyg23iyp7LOekO9ohAC2DRzEJoAv60hSYZWuko5cpV\n",
       "s6XJS0fpOlVFZAbr4Mr8IeYatOVYtLEQmh3vsjM2ydBKRylXrtpH+NJTuo6viMxgPXxZI3MN2lZ8\n",
       "tpOF0FyB8kP+7qGVjlKuXLVaHDbhMrGCXJlx6IX5snnMNWhOmdMgzmmN5Yf8PZjTSkYpV65ahri7\n",
       "zJohJrkyg3HaoDKvTF2DVkEeVidvIagmP6OTDq1klHLl6gCJcp81k23kyso8r0zmDFHXoMG53t5u\n",
       "HjRvb+/l9KRDKxmlXHnO7Fihn3jTqS35D6Xs9O1siEpXQtAG8BhXppdgG1yZJ0BdB20lwF4eNHsc\n",
       "3PK9RDRLfaPooJSMUq48ZzgQcA53nIUD+bp26FNWs1ZsGVisrgSre9F+VGUGCbbBlVVEqeugNYFI\n",
       "QDoql4Lzaz008mkTefv0reBr/7A1v/lcl6m70snuo1P1H1wLQnZgOz+RjqhB7DoouSiakXjwcrh4\n",
       "uVZN7Rb4yJTsINfwWQhW5ys8AYtl1rVt9h6YBiwdMIyMoEmCbXBlBB+6DppbpjnkNYA62ZDc7oXP\n",
       "MUnJgGuE5Mp9qQjsLOi7EACnfslxBsnQWMKF1pYP4kjrklcWhdq701ppPMdxfrmpGnaLmjfCrm0t\n",
       "wE/4+5EoTeVX5IplrwLngaUDevNqEulvOjgjRWSuQeo6aDaFrgM7wR8x7gjm0BnYTZ5lAnpZnNbh\n",
       "QPMP6tefoBdYXlxgy7UgjTooc/LzvH0lsHi/AbfcXM2T0V09Jp/fgTRMe89u43lVUS+7bnNSWZSp\n",
       "kguQS2K5MkeGug4aRGuwypB43LSNclbg5DMlhGOJtbcTDl6cE5D2besD6MyKL1SFBez76w3LwF9D\n",
       "5P7+34PO6SCK+2qOymInwTTQF/PUKP6ZnSxxzAXp0EGhUaTOgRidyjFeswzmcv+VLU/hXiZANjBq\n",
       "NW2I43MmRUG6AxW6G+gYgXb2bgWOy1yKrJvTiMwokaJFZLYe6npoHXjjXSOLFBM0zyPY+8SqE18G\n",
       "4SAwaOJNaICWoJP8s4eenZUWAtLsuON0M7TCIYBV4A2Kv1yIQCLmjwppb8wTtqcboLYOtoAY1YJU\n",
       "6aDQKIdiiZjEEqnEq+cNe09aflVINpCLUkZdGbUa7VZueGOju0G6CUJUXW2kViEDaZBYt8m4LEyR\n",
       "icwgoW1wZYiJuB7aZnzY/WPNGRM08Stg01AiButUaKOwH1pkt5IARzIhg/BzlmweRvGJdyuk0Bkk\n",
       "s98d2AEwLMbcoSMx8ZNBWJ9YSiaypBZkvQ4KjbKMKBxsWr/RddIAjZaH3AqZHsQPevzJXDXWrVw1\n",
       "vACSGuyH2WF19Nluf5hxBNn0tgTqQ5wUGWV6CbbBl2FyQlwPTcDpyp2EbvMpx0MMFHZwQSqVCiK0\n",
       "QZgBLSAoi6qrIwSNgA24MlCRASHsGCTQyE1KILQzMHBdqSchzlTPdxwYBltAC/KW/hQDo3wDfVDx\n",
       "Uir1HkAKvGkwl8MUCkhIC0quGutW7kCnh20S2wbenKHm9NIapWou+fQSLkGn1sY4+0qU6SXYBl+G\n",
       "OHwRAzR1jrgh846GhmgHt6sjTYWWIL++o0LrwZHmZCNNwNg40nwh958tMl153oYF4EpqQapMRz/S\n",
       "COxqd6Vz8fyjhUdDO+ihli/ijeer6Zali/y9Jdqj9PUYd195sfj+1Ch7g3kBNDLWtTusg4br+hDk\n",
       "EkwKjTye5FF0hyRFN9LITLdZhqmwOTglQhKrhOxPHpF9WXdaUnbB4Spw01umBsmaoZx1DS9kKTbG\n",
       "6zZDEzPHICylwRevB63aUL678/h7SzQSzhOVTpMrKDwqmVd8f2qU1TI3Q/MfOA6Pj3Gg/TEWe/iv\n",
       "OIh4GNf8fVfbrYpvN1SGFz0PJ7JiZRdJbgnNprEYeLJkefP0X3/RXnciDYm5V8Bf++QrpBZ4TilV\n",
       "/V04y+aD7DZDe2buQAg2xWk82fZD2ly+pi4ru06DrfZ9UKvRbqlTekyXxxizb7JG+BQhzd1XFnJs\n",
       "5MqQJXrBSCt3cvtpKjWB09wdnM/qtCtJck9mpS9SraVObm3wMeziVWMN1nAPzFFXszy3N+XJDFbD\n",
       "lSFc9AlDm5gleNvqWME7T5nvAIzlG2CGo8iBB266hdJdChSRGXN1ruwqc//lCPk/adDESt7BRD55\n",
       "nv/fWg3BuoEH7tsoSX0jw//arO89JxWaqz9t4ZootK2QtHBNFNoeC9bEoV36v0/f9wNaXXXIwmWt\n",
       "nhY0C5oF7QGCttD6I9lim8H2w8WgWX8kW8zwj2T/BTzFl0qrHaDJAAAAAElFTkSuQmCC\n",
       "\" style=\"display:inline;vertical-align:middle;\" /></a><br>(see <a class=\"ProveItLink\" href=\"../../../__pv_it/theorems/343fc9fa10ce84b7d9ccc47f29a6f93a622982510/dependencies.ipynb\">dependencies</a>)<br>"
      ],
      "text/plain": [
       "<IPython.core.display.HTML object>"
      ]
     },
     "metadata": {},
     "output_type": "display_data"
    }
   ],
   "source": [
    "%proving inner_prod_scalar_mult_left"
   ]
  },
  {
   "cell_type": "code",
   "execution_count": null,
   "metadata": {},
   "outputs": [],
   "source": []
  }
 ],
 "metadata": {
  "kernelspec": {
   "display_name": "Python 3",
   "language": "python",
   "name": "python3"
  }
 },
 "nbformat": 4,
 "nbformat_minor": 0
}