{
 "cells": [
  {
   "cell_type": "markdown",
   "metadata": {},
   "source": [
    "Proof of <a class=\"ProveItLink\" href=\"../../../../../_theory_nbs_/theory.ipynb\">proveit</a>.<a class=\"ProveItLink\" href=\"../../../../_theory_nbs_/theory.ipynb\">linear_algebra</a>.<a class=\"ProveItLink\" href=\"../../theory.ipynb\">inner_products</a>.<a class=\"ProveItLink\" href=\"../../theorems.ipynb#inner_prod_vec_add_left\">inner_prod_vec_add_left</a> theorem\n",
    "========"
   ]
  },
  {
   "cell_type": "code",
   "execution_count": 1,
   "metadata": {},
   "outputs": [],
   "source": [
    "import proveit\n",
    "theory = proveit.Theory() # the theorem's theory"
   ]
  },
  {
   "cell_type": "code",
   "execution_count": 2,
   "metadata": {},
   "outputs": [
    {
     "data": {
      "text/html": [
       "With these <a href=\"allowed_presumptions.txt\">allowed</a>/<a href=\"disallowed_presumptions.txt\">disallowed</a> theorem/theory presumptions (e.g., to avoid circular dependencies), we begin our proof of<br><strong id=\"inner_prod_vec_add_left\">inner_prod_vec_add_left:</strong> <a class=\"ProveItLink\" href=\"../../../__pv_it/theorems/5cc72088c19b32f287e333ab91696f7dea4f1b7d0/expr.ipynb\"><img src=\"data:image/png;base64,iVBORw0KGgoAAAANSUhEUgAAAmcAAAAzBAMAAAAgHLLqAAAAMFBMVEX///8AAAAAAAAAAAAAAAAA\n",
       "AAAAAAAAAAAAAAAAAAAAAAAAAAAAAAAAAAAAAAAAAAAv3aB7AAAAD3RSTlMAq1RmmUTNIjK7EInv\n",
       "3XZ/CtNrAAAACXBIWXMAAA7EAAAOxAGVKw4bAAAHw0lEQVRo3u2ba2wUVRSAz+x7Z9thE374DF2l\n",
       "wUQQJxbwDykr76jIKvEH1NhaRRJ+mG1MMFAeC4kmvGyRIBQiDEpASqxLQSoUm7Uq/uCRKtEQwuI0\n",
       "JRKDWQkPISUGz71zZ3Yed+k0lhDiXHLZ6Zlz7pn7zbn3nns3C8Arra2t4BVuEVtbFf6d325f8/Dw\n",
       "S/T27Wb+nV88OKWL34PmQfOgedA8aB40D5oHzYPmQfOgedA8aB40D5oHzVakfGZQ+mmsLiwirm0j\n",
       "bowzzDrNHvgeQ4ulBsc4ARBuHlgvmnFry9Fc7JBswfo6q+SJEVqcyEc6oXHlQw5NIB8+2Z36aGKS\n",
       "GFjPl3Rry9Fsd0gqCXNZqwzaNCJf4ITGlQ85tACJtVDalbZYh/+Vu9HscW3b40JCzRZqlUFbCZy4\n",
       "RWhc+ZBDi8S5I4JbAjJ77cUyh6/Z7sbWohmUS8ceDdBxWmXQQgonbhEaVz70c9pCbh+5pUyfYIpl\n",
       "LF9zsRtbi6ZPLT3L0dApU2hl0PzIOMRZCLjyoYdWhR917rRH6cNsQGjO8c6xtWga0HZzmiOTVEim\n",
       "lUGDk/n8cd7qyZMPPbSyfP5c1p32C2xCbuv9vDNhgSZekGEnyxjymXfBl3Vhu/5MWDY0DWh92Frh\n",
       "4bXtpta0RSROqw5tJsBWHjSe/L8Un/H6VRO0QAaiirsG3mSTclIaEeixQIv5cjCJRcqlbXE2mwfy\n",
       "tMT5tuI7h/cX530DGv4dgF51lrk1Yuivo1WH1gBhvBGsmAyh783QDHl49kZN2niyw74oHT1+cLg5\n",
       "G+oGqfA1P3LGG04CJmjoo6E0J7N3+Bnry/jMaX+/IFugrUIQD2mXSyCmsKXfXJy2YQWOgKGpQwti\n",
       "l5+FScpwc2tkicfXQqoOLarQHPNPgBrFDK0ob8IYifS2pGCDo1dCHELm9aYeAzQQ5yYMccNJMGtK\n",
       "brfCV/y0njjUvdPyg9bHCAS0yWlWPn8in/8Jr5QyFU7pfgiKlfbW7Lak7FOYJobkuZNaSBI+GZhe\n",
       "fGrSGlniI5dp1aH5VDrfbwApZRmehhyO4sfUjHbthCZdNv39EeRYXuxY9FNFJwtN0MaWWAeoQ927\n",
       "0fE+uhSq9oWgVoncZJfL9VTWAc1mG1ZNmnqkSTQMTxl2tDUy8QVztOrQoK6a3LkaPmLbRjE5wFt6\n",
       "Yxtg75mxcfGTVb0ABwrhtyuTCC2WW1Q/FaRqNC9U18MbCqQXn770PDSOS4HU9QDEqlVp5AEtRWRO\n",
       "2k3QQn58XunC8hlkoxKnwNcveJU5ZN6LQ4wubrVpUbFCmw5Szki4FJaUm+c0ju0cEIvpuw6NrrDB\n",
       "G9Bqbo0ssb4eWg1o7eTFR25MVG3QNPm1zs4rAHtBgxa+giNwRSKE/wLya09khbj4VCbY3Qib4AsI\n",
       "ZKEblv0zDRuD3+ER+BEO4rJVD1Nq8I0tMjmpNEGLjcLHuig01+MTq/0R0veZNUnmkHnXynYyZ6Rh\n",
       "b+pRiNkibQNE40BhPE4C3ZmUW22Jpi8BQjF9NxaCzSBuEnKQpUS11mgyR0hhNaAtJe9CutWYs0HT\n",
       "5DmCgKXeCK0f/a9QomoTBJubFBDOF1IQ6SfDPaquUJAQfFihYteHpd6DjeINWIJ35jZNVmCuyclc\n",
       "E7Twt3ghR1UcjeFPeyTaiUbdIfOulf3aSHl6zYvwig3ac1Ari38Tytu2f5PhJOUWW6q5+vClM8X0\n",
       "3YA2Gnw3d+WCCfiyTm+NDgwMCFINaAKZPaLNcNwGTZPHaeRPaGlpSRBol2EErABBnVhVlVqHOqQB\n",
       "ZOTPgZCsJQuBggBRUCZLXeeDON35v6saH9xxHR4zOVltPuV4kFwNo7O9kBXIw0dU3SHzzhIrLSXY\n",
       "VfBNSdig7eyanYY82cPAmPm8TabVlmhmfcdSRU0DWjmIL6mVz+DFWb01mpaUp2g1oNEyTIa/FM7R\n",
       "EMrxyWGtHmk6tCbtSTRoPSTSQlqkkSyJRtpp2L6nX1t21sAECkp3Uuk4GlpHT6zKU2UZOtssYQ6Z\n",
       "d9afjGPLVdwRHMKOK+ZzCdum22Lr1DSgFYP0SctRyDKtWqHhwl6W5UBDOT45S0ApNByeOBSjsqia\n",
       "Ig1pLVUEOdwN1zH1wvH6h9gP59Vt0AYboa0SovSd6k4KNmjh3CFIilnsWi3sg3D9+83MIfPOTkyT\n",
       "jm0l27DH6sRuMCY6MjE5Tlsttk5NY8NenA4NGlHyPqdo1QJN2nEExtxyQpN2dPgqcACFyWa38UTH\n",
       "zmv+Y/MqkhPnQ2chXNGByS12ruFWGmIFXP66qn/NTOvshMjVsUm4UPWBGutSAWtlXwdxbTjZbI+0\n",
       "l2oKSqQbfFM+hnWJwGfH0ppD3buphyHe9qFcFbCLbZZzIFux2N5JU0+HRGNd3M1YkmqNtIFObve1\n",
       "tLg/Zo3kOMl9MY7FZu7JrQ/2YFhCoqRDsqL6Vd4OrXqaeXcmcQ41LbZ30qzWbxmSPhZtpA4O2qBK\n",
       "5DJHOKOY5+o5fszyHcE8GBGsg2DpnShNR+MDuxdc2wpujInVRa1K5+4etIZbvCMNxbQL5RUZ5lzC\n",
       "R/K+jTIXxXFxfxbve8+7Ci3Sl/VwDRbaSmj2cA0W2hYP1uChnb3fp+97Aa2mSvZweaunB82D5kH7\n",
       "/0A77f1ItlQRW9tKQPN+JFuykB/J/guLEpaejptfugAAAABJRU5ErkJggg==\n",
       "\" style=\"display:inline;vertical-align:middle;\" /></a><br>(see <a class=\"ProveItLink\" href=\"../../../__pv_it/theorems/e835d47bbeed82e36da2c0f0b030ed79ff692a650/dependencies.ipynb\">dependencies</a>)<br>"
      ],
      "text/plain": [
       "<IPython.core.display.HTML object>"
      ]
     },
     "metadata": {},
     "output_type": "display_data"
    }
   ],
   "source": [
    "%proving inner_prod_vec_add_left"
   ]
  },
  {
   "cell_type": "code",
   "execution_count": null,
   "metadata": {},
   "outputs": [],
   "source": []
  }
 ],
 "metadata": {
  "kernelspec": {
   "display_name": "Python 3",
   "language": "python",
   "name": "python3"
  }
 },
 "nbformat": 4,
 "nbformat_minor": 0
}