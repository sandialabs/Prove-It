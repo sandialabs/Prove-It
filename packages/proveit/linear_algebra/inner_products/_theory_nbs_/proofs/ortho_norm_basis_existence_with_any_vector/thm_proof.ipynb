{
 "cells": [
  {
   "cell_type": "markdown",
   "metadata": {},
   "source": [
    "Proof of <a class=\"ProveItLink\" href=\"../../../../../_theory_nbs_/theory.ipynb\">proveit</a>.<a class=\"ProveItLink\" href=\"../../../../_theory_nbs_/theory.ipynb\">linear_algebra</a>.<a class=\"ProveItLink\" href=\"../../theory.ipynb\">inner_products</a>.<a class=\"ProveItLink\" href=\"../../theorems.ipynb#ortho_norm_basis_existence_with_any_vector\">ortho_norm_basis_existence_with_any_vector</a> theorem\n",
    "========"
   ]
  },
  {
   "cell_type": "code",
   "execution_count": 1,
   "metadata": {},
   "outputs": [],
   "source": [
    "import proveit\n",
    "theory = proveit.Theory() # the theorem's theory"
   ]
  },
  {
   "cell_type": "code",
   "execution_count": 2,
   "metadata": {},
   "outputs": [
    {
     "data": {
      "text/html": [
       "With these <a href=\"allowed_presumptions.txt\">allowed</a>/<a href=\"disallowed_presumptions.txt\">disallowed</a> theorem/theory presumptions (e.g., to avoid circular dependencies), we begin our proof of<br><strong id=\"ortho_norm_basis_existence_with_any_vector\">ortho_norm_basis_existence_with_any_vector:</strong> <a class=\"ProveItLink\" href=\"../../../__pv_it/theorems/eed0165422ddf232c47dab573ee7b892289e78ff0/expr.ipynb\"><img src=\"data:image/png;base64,iVBORw0KGgoAAAANSUhEUgAAAuwAAABYCAMAAACZOlKEAAAAPFBMVEX///8AAAAAAAAAAAAAAAAA\n",
       "AAAAAAAAAAAAAAAAAAAAAAAAAAAAAAAAAAAAAAAAAAAAAAAAAAAAAAAAAAAo1xBWAAAAE3RSTlMA\n",
       "q1RmmUTNIjK7EInv3XYgpWxAuOz13gAAAAlwSFlzAAAOxAAADsQBlSsOGwAAD7xJREFUeNrtnYm2\n",
       "o6oShmVQEIRzzuX93/UyD4pGE9JJG2qt7p1gUkH9gGL6HYazRpU1MLSy5g67dfMmHFvVd+fY5Ejb\n",
       "2BD2xg67dfNmwEJAVd+dY5O0zVBzh926FcSr/Xcd9m4d9g57tw57h71bh/1Jh2lgBqJ+r7rdGnYc\n",
       "R2amXul3uzfsNFTtZO63qtvNY/aJub8c9lvV7eawIx+qT/1Odbs77MMijC2836lut4cdU/P/zPqd\n",
       "6nZ72AkI/32pwU2e5aq4NvXW7caw20qd+xHIESgMB4LVnI+6E74I/jArjC8L5xjsjdfLxfSBpZSc\n",
       "XomZ3LI1lzHdtVjwBu95kwXrH4kH3sJp4g7pz8AOZdY9lUv+OSrBPBs85lM1P7CfmvbgmaAPmvCF\n",
       "doSBPGMjZ+5PHfaQBWTGmKh85M2f5tj7Kz8DuyYdRS4c1Xxx8YGL5y/CLvdOcdawO8cXYA+zXjYH\n",
       "MkyBTewQ9t3iVHgLp1l663Zr2DlMd1uhVDnLFJAYONgsKJT5C/1VJOVApgliHEnTCIUUiaSrinX0\n",
       "gqSp2Sdg3pOBzEIfw8zESMghKLkExLscJETc/rxIGSOcpSwfw04VY7OKWWUIgXHlLWuDNnMMCCMq\n",
       "ZQ9vbgg7WUD6AObalLn7LIPI1oTEJBti4wsbmKBhXCDhnjQGhW4OXIqJgJjlC5vDJmYnQgnLts2K\n",
       "1OGTCbAXAzm2H3MuTWRBTHNDpphztKS4BOJj2JnOIVExz/oTUBTe0ml6b3gOhgaGxgW5XHW7GewD\n",
       "oLWQfUQb2HXNOsv0gpqTGWdTjzo/Qnc/R1+zDu5w+oLl2PYDlE6i9pfUOBD9WwYw85uEeZeaRuii\n",
       "c0+yVJyEqCNLPoKdqZhn7n8veit6JqU38yVmSuGgenRzQ9hXUHsW0ORqOphgNzTJ9AItbpMf9RSC\n",
       "CI1NQTYZ6GpzVKGDylw2AuymAtXhi5D+I9HlOCtlig30jc5sXKeZLzo/CmNIgN3n2f5e9Jad5tqb\n",
       "cyNN69ThvTXsLpZ1LOQDhHXYqT8ZKjawiyHU7FNRszvaRFazC2Rqf+Y+ElxSZgpbxqHNmIx17aMw\n",
       "hs9DDfbCW+p1r8MYXayo6Z4PtON7X9j9ccdCPquaYJ9l9sKAweReze7i+8V4MYPvxMTstro2U1g2\n",
       "0JGzRlL/1eGPjTW0L+fSwjynLqXPWKzapTyEHQqWwz7HsElUTnPlbQjf0l3bDvt9YZezjox1W69c\n",
       "EE9mf7OJmashDCisw4xpjC90DcrNaAwwX3MzOq58+JRBH8XuF7lEUkx0wKPpGdqsIGjHOyRGiJrq\n",
       "3/ryfyCWyE1jzcRnTHuGi/K0z6QKu59Ust1hm8uYVZOj3Ft2mitvNoi345y8b2e5dRhTGuOmWX+P\n",
       "8AY9GRFXZ3xYEWRfWIl/wlu334T9nUbPXghMHqVdYfWxt24d9sbmw4ozxjcjgCuVp0sV80Nv3Trs\n",
       "HzT2IIE09datw96t271hpxL1FYHdfgJ2Iz3QRyq6/QTsc59U6fYrsNt5yH4Hu/0C7KNRc+93sNtP\n",
       "dFC7dXsR9tNiooHNZuqjO7Azay+eZxMn3b7W0v09uNNb2E+LiQY2m6mP7sBuH4Dz6ia0Jk6ett6X\n",
       "bg73SkpoNvd3Ll+dgP20mOg///7jGG2lPhocrjltMWEuPjnrDtp0La4tkxs/ecYkCuC8KzKlYruy\n",
       "Yt6+Kux//27enRUTjRVxK/XRvZr9b4cdtJn6klcur5zGjwZtFPiqd3yXyhMUl2GvdFDPiolGNlup\n",
       "j94UdtRGlRVeKTLw8ztUw04r+a4RMw4awH5WTDSx2Uh99J6wkzYyAOxSkeHi41F1zMJK96ad+rhA\n",
       "DWA/KSaa2GykPnpP2EWbdhyjvxV2VIwLMNFMfhwu7HXYCzHRUsawzuY19VH+U7CjRioAB27kbBrW\n",
       "6VthHwompReEamErKcOnYC/EREsZwx02iy9sG3KBzUHk1Y7wT8HeSFoe7taH4yTZV9fsw5Q3SqIi\n",
       "DfKsjSUwz8FeiImWMoZ1NosvZJ/wyqMQ2C04mP0e7LJRTxH7MsPcRmsRA19SlYIMpDEpAaN8J04+\n",
       "PnqyL7HnI8Ge9yRNN7vdw+Am8DrshZhoKWO4w2b+hXSDgvIo1AdxjF9+CnbRSFo+1I5cR6qmvYhu\n",
       "6+TgKV5rCfTFr1f0x0dPlsI9H1HkqRiOMtmFzSb3ykGnJ2HPxERXMoY7bMYvZKKbacwJUjgSaWDn\n",
       "GGOh/40/AjtVjeZOfVVOoeM4jUNO9REgd+0RMfeUuVktth4DzY8yzgF4ohEqfqHMQ9CqdMXTXw9b\n",
       "SEWrcVGm5OuwZ2KiKxnDHTbDFzLRzUwCAlIdxsDxB2t20EqkbnH515TYmocGkKgb9tWWLjcBkz9b\n",
       "mlXyug5a1b60bAKequFzH2sSweRLaGLMaeHIZhNNs3gd9kxMdCVjuMem/0ImupkpjxrtKmwEtn4O\n",
       "9gW0hT203JGWqqoMxdkwcGqWYQXmcNRooZEnm6F6wz/wUOSSLKWfLGDNus8oR+ZZ2JOtZAwfshlF\n",
       "NzPlUQM748P0c7BT1Wr6MPZIXfXLs9GNao0HihELtwqwAns8itjTsCcfhW58iqfT74ZuLG41scTy\n",
       "C/wy7GsZw4dsRtHNTHnUqhKOUIY+1s/ALput0J9ljnH2nLF6SOCGQtg8ukCKF9Cx0CgUR+P4yamA\n",
       "uuJjpRufYt+EnohDSO9oOl+FfSNj+IjNTHQzNaVO6EeCh/Xg3WCfm+lKx+E7PvkHIcQeKtyFHSrK\n",
       "8GLqmRx2pqahcjSsIwyHj15Ufax049PQYxg2zZ8X1GrNcx60vx7GXGQzE92MyqNUuPGxl2B/cYuI\n",
       "c4J9Z275Q+gvzeZPaEIHlJsRGZi3Cxx9zY6tCiuCZTghPNXlURIqJxEGS0SISLYv6j4K3fgEe6xo\n",
       "0nAPbdVF5eqDsBe34aLy6CHsL24RKWt2Cf8I66zhdhGxXxeOfD61XCDGzrASqRCdVUJ2D2+dsYMQ\n",
       "tsgCeedsLlLjd8B+vTt3APuLW0Q+AjtV7RZzo0vl5hj2Sq9JN8OU+inuUwsc+GEIm2cBoz90ie8D\n",
       "+4tbRD4CO1QNf2e+crXltrNA+KS4JYNViuBiNrO5u8/OlNDah0rd+DD6Tt4qZJU3njeC/bUtIh+B\n",
       "HamGe08v6bSTo2L2AOZTrdHDDzE/iXutkF43Be4I+2tbRD4Cu2x6hciVmIhg8GfOcefnefh5+WZ5\n",
       "lGxv9Z1gf2mLyEdg5/3xjW+3Zbol7I+2iLhtJgSrGe05gWHo8c/Ajjvsbzchbgl7fYtIWDM/bB6W\n",
       "+/maHagO49thX+4Je22LSFwzP4QFIfUlmh32DvtfBXvaIjKapQfmGY6FToNbFDThk7CbB0PK7eO5\n",
       "dpJr/c9HnzwIY8K3PqtllIkZfdrIYSr5uTAmbhFh0qzAgKAcjqMKm6eY1gfdtrBLYh4DvFlZspNc\n",
       "Y/3hJ/nuFQpNy6e1jJKY0Ydtp60NEkv7Uks37aCmLSKE2clAnq+ZPw7ZK7Db57TbqW2S3++YPEKJ\n",
       "D2vd5GD3Du6Ns4eNRl+gZZStBj44EYAxkEUZmZSrUudFxRUzBAi1AADmiV88r3BBJFDKZAiBRf9l\n",
       "qenelVpawE1hT3tKjKIcHfM18+GuyfpCw+pCMPd7FK62iflVzf6R60f24ArsTSpFwaMvEAE4kQcy\n",
       "Wc5lsTyHTn46p1BvIm5Ck4nlEu2Zj7CwcvHZChPn047De86gluV5tJN4lG9C9p2KqubEPMba/mIJ\n",
       "u08mj59z7T+J8Iiq4nRQ1ZuGuFrkr4CdhOUnMC+7BAEfMOZ9pDB7P6pLW7TS8hnq15KTADFa/V0X\n",
       "k2zt+V1h15UMMclZAOK/vbM3aOOELHZpOM5gZ7xMHuyQpkmt/Zc+Cc2GQ1E9oXpmluGbYV9rLk0x\n",
       "u5PIYWeLq75rsDN16cyWrJvjF4fErldoI+ptxU0XgpUdF+6WysQ183abCdGdVgXoOSdYjlw6fSEP\n",
       "OzVzTVmyG9W0qXQh5X/FJ/VP1vfe1Jf4JsGjL4R9o7kE00nIrPASpKvveQ92eKlmzxSgJk/gHHsz\n",
       "QURkqlYc+Vq7u8Keru7JNfOHTmIYUwwJ6E6W3KbWPilMB6o2rFLXNYw7dxJobxcz2ndRwr7VXAKJ\n",
       "8DFbiKJhH7A9VIGd+b0dSEpu+6pU6pfmYhAsOc4TygsSl7osG4klDupjAOR3YD9rB06oXDwDBa+T\n",
       "Uq4trlFcpDFghhNqFU9dSSPVUVGE4u1iRvsuyh79dmfMlOpOqpYC9kGYO1bCPkkpsdfXhaYVNOfo\n",
       "hoiFbxc15DFhdUFGJYC11JwEtZu68jf4lp1KfwnsxWDiydST+xFQdWgxKgUELaP3ixntaxmtVgNv\n",
       "iTqCnaqpWrOPbjTSwm7EB8bF63+4dAVjQnlBdMhOfYUdk4LEEqxWHPnGxw57SydPnFEt8vADn0nL\n",
       "6P1iRgdaRknMaKhqLmVhDFRTCbuGU+50UMMe7dHOrAk1m7W+vsc+8ZBQXJBqyB4llqg6GinqsH8c\n",
       "9rpIUri3hZbR+8WMdrSMkpjRUN0hglJfk2doOdhNIFODXdNqR7IwgNDKynBhnt+mO7vIGA0Ja9hD\n",
       "yJ6VqrCDe1yq+JIO+7fAjpejMCafFHi7mNGOltFqFrdSzqYIxVIMPfp7Jqqw2/YAGorNXSXMwkVj\n",
       "SxcSVhdk9KWJZqPn4WrUqoABtJC/67C3sbE2rRQFj6Is0TNiRo20jFarRCuaS3F+p1j9QMM8fvEY\n",
       "xgi77braN7qQ0f+sV91h8C2dF8wKPYh4QVLIvtUMqALcQti0w97KRGWkPQ2iedifETPaChYdvDjQ\n",
       "MlqPs1cWtlF3EtJdQ+8zThlPc5YaCga2FNo3uojA/2x/dCa6T2B8cAJDQnlBRAzZtwO1mD8aAOiw\n",
       "fxj22nhMEjwKNfszYkZRy+hIzOixltEa9qrmkpwxjg+4NM7prJQvFj5mN6lpIdjs5U8klDo6t7Nv\n",
       "0u67IRhLToaUkC6I/mWlTN6w/ptav3DnqhPpLR5G0GFv10WtVEhxRVV9BvWkmFEbLaNtHiqaS29v\n",
       "//Y7IUFiqSa11OQxMx3291btcVHTA9iPxYzaaBl9xZKFAwWosEasJrW0WvTXYf807GZQeXuX/InW\n",
       "1iOfFTNqpGW0O/z+R21XXCZILNWklkbFOuzfBTutPPQ3DGcfahk9ECJqo2WUxIw+arsKUKEU1EqD\n",
       "WF28DvvHYY9PHCkqLBki8I9qGWViRh+2HQWoMMtak1pq8zj3DntbA3zo1tzGTfh1C9gRY+zVvZpN\n",
       "nDwdtsPOZvPosFyLbO6ua0LTq78SdtMle1XovImT5/tftNPZOMhfrbufzf2dy1dtYbcGGsLe2GG3\n",
       "bnllp1T13anCZRewoXbBcHOH3bqFatzZ6t3/AWTpwjA5o4LEAAAAAElFTkSuQmCC\n",
       "\" style=\"display:inline;vertical-align:middle;\" /></a><br>(see <a class=\"ProveItLink\" href=\"../../../__pv_it/theorems/3f9b5e5f6593424ea3bd310d6c8da75c3de6fb590/dependencies.ipynb\">dependencies</a>)<br>"
      ],
      "text/plain": [
       "<IPython.core.display.HTML object>"
      ]
     },
     "metadata": {},
     "output_type": "display_data"
    }
   ],
   "source": [
    "%proving ortho_norm_basis_existence_with_any_vector"
   ]
  },
  {
   "cell_type": "code",
   "execution_count": null,
   "metadata": {},
   "outputs": [],
   "source": []
  }
 ],
 "metadata": {
  "kernelspec": {
   "display_name": "Python 3",
   "language": "python",
   "name": "python3"
  }
 },
 "nbformat": 4,
 "nbformat_minor": 0
}