{
 "cells": [
  {
   "cell_type": "markdown",
   "metadata": {},
   "source": [
    "Proof of <a class=\"ProveItLink\" href=\"../../../../../_theory_nbs_/theory.ipynb\">proveit</a>.<a class=\"ProveItLink\" href=\"../../../../_theory_nbs_/theory.ipynb\">linear_algebra</a>.<a class=\"ProveItLink\" href=\"../../theory.ipynb\">inner_products</a>.<a class=\"ProveItLink\" href=\"../../theorems.ipynb#inner_prod_conj_sym\">inner_prod_conj_sym</a> theorem\n",
    "========"
   ]
  },
  {
   "cell_type": "code",
   "execution_count": 1,
   "metadata": {},
   "outputs": [],
   "source": [
    "import proveit\n",
    "theory = proveit.Theory() # the theorem's theory"
   ]
  },
  {
   "cell_type": "code",
   "execution_count": 2,
   "metadata": {},
   "outputs": [
    {
     "data": {
      "text/html": [
       "With these <a href=\"allowed_presumptions.txt\">allowed</a>/<a href=\"disallowed_presumptions.txt\">disallowed</a> theorem/theory presumptions (e.g., to avoid circular dependencies), we begin our proof of<br><strong id=\"inner_prod_conj_sym\">inner_prod_conj_sym:</strong> <a class=\"ProveItLink\" href=\"../../../__pv_it/theorems/128001540b2453975b3968e44fc334141b97559f0/expr.ipynb\"><img src=\"data:image/png;base64,iVBORw0KGgoAAAANSUhEUgAAAgIAAAAzBAMAAAAX0n3eAAAAMFBMVEX///8AAAAAAAAAAAAAAAAA\n",
       "AAAAAAAAAAAAAAAAAAAAAAAAAAAAAAAAAAAAAAAAAAAv3aB7AAAAD3RSTlMAq1RmmUTNIjK7EInv\n",
       "3XZ/CtNrAAAACXBIWXMAAA7EAAAOxAGVKw4bAAAHdUlEQVRo3u2be2xTVRjAv7a3vX3trkJieCi7\n",
       "hkVMhlhZQDHLLEzwgWiVxARnwsBniDEl8g9uccM/TGQj7UKIjAS4GGJg060BdXEjOIMaEx7yB0ZC\n",
       "qN5lw2SMlclAYEvE7zv33va29xRHwoakPaR3l3tO7/nO73zPswyA17ytrQrkQ2ttbeV3FN24EcoL\n",
       "ArtvXM9BIAz50hYVCBQIFAgUCBQIFAgUCBQIFAgUCNxZArbEb+Mc6Ri/RAtyd23ADxU8Av1nKCHf\n",
       "eQKucY8sHfdIe+6a7qG9EsBGvBFjjGrwLiLgraFrQ/ZjN2fo5/wO+u6Gb6fgulW8q7zrCHiCqZ3L\n",
       "eNxgHbqVLhstj7fjx7nsPF7P0AKVNIEAdc+2ErAxjQpOOAHu/JZWRxefPA6NF3voeoBrRoNtH+O1\n",
       "Fz9SIE1gKXW/bSUgkBq4IhNOgDu/pS1nUlmfn7Q8EeL85+zL6+nSgfvvHU0T2MRTLyTgDnCV6bYT\n",
       "4M5vaVdyeEPrXheH+brBFEhkk9LCX08TcCkc9SI/sI47wW0nwJ3f4vFGDVPOatYtiip8/5CmLNDd\n",
       "s2kC9MPF84Tl+LNm4glw589u0slUPMh6gcVMh1LxIKulLE0iT3HBFAuOJxJHeQT8icTZ+CTEAt78\n",
       "lsyJFi+hwO29+7o1hWmvAm8A7BYJ76VLn9HPImlyRiMqc5kxwkkKtVpJE3gGYAePgNAAHmUSCPDm\n",
       "t0S9mO7LQtIsQfNy8bngGNZdnpBgjS24RXeEej9LAHvVFSY/6r5GxtKQJrAeRPyqs2QJuH4wE8Cn\n",
       "62/rcucYN2oGAW1+S0OBxBe3GuNoxEsoc8QxamMR2i2vAFtMDyXmtoa+G0j1Y3sMnlSmghbcmEcg\n",
       "t1ofThPwKL6wZhjVSkZGtAO+pnkvyxuua2lB7fHO7PnajnUvNucMF2RIDjbmzOzxZfBuSMggoM9v\n",
       "9nu9LWEmUNSw8iLy7Usp1RN0Z+CFE+BXtVCS0U4BW6zRz7LBZeytBmcvEegwEbCrzBE1gxTOzAnn\n",
       "MUeIfsN9VZeq2bquewDeMKu1jMazmEtgj/YyZxc442YC+vym9lSDJhAcArMO9NGdX01bM2lyGU8H\n",
       "yGPo/aydYNmTMatIVlBvsgKoYUnyiNiVlRW7WAbtCYCvR5eKT+Ci2WBlP2jppKUt1V52DrRAm86K\n",
       "2fzJp/txw529+GVJU6oRE1tGgDn41RGvpqmoDBcMD2/2A2v0qKH3M1hXodUUNmhDmXqlCBxYxx5X\n",
       "qFkEfA/SXMVBcIV0qZph/+l5Ae/OjzCxPJgU3yoNEYFDdCNVIkCp70/ZNQNEcWflV4p4ENc82Bvx\n",
       "VarS7IOazyoO1irmNIMRoPmlyHQX+vj2YqUJ9mtyXu7uvpSKBWTRngjsD98HPgBFg9nMy6Wm0+VT\n",
       "o5/Sv222HoibUgdLLIA6YieN1fZkERC/ZxnG8u7vZF2qZhAvwVqol134Twi+NieOBD47DXizDb6k\n",
       "3NUvi3+cCiNhqcYW90d8ISG+Fqqq4UMQyaSi75/ISO4YAZrfAbuonPvgYRiAlUbUZpuVDuGoxo9s\n",
       "fh5eBu/ftO8B5wgvl2IbX6b300j7tb09TtmE3UEvqzDXhrYGLd4cza4Np+lvRI1ZaRAYhV1Qr3jU\n",
       "KDhjlH7dnzxHeZh7GDwqduJGunv/gSbMY8WIJ9gREfcNw6roEgWH4wsudjLTXpVBgM0P2mpnwixY\n",
       "2NLSItMeSj0Z24ZatDdpr8LFJGhrZ/Zf5ZUKtLn0WOvHkd4X1NL55lJBoB1fbKmOUdkvKrzquJlB\n",
       "0KRCAsMoYj3Y1Iry8nCToXRNxNUWcg4jAS8CIQJHYHBIXY3THClf4Nx9BewBFqz95I8+sVbH7h6W\n",
       "s/8KP0OjIZAnHSV/zCgC7ExSXw2vVPCHjSKA+u2KtYzMrguMdDqiCWchMMIgNBo6YBCI4n+3GAS2\n",
       "AOqAS9MBG+0A6UBR0HO+XqEe2AwLwR1jL5NGLVbALMFXI0AbwGmkqOVhKFBxMLM2TFkyugL4Br6Q\n",
       "mcHzakN0D1q/L+2jU/lzdm2oG9ruLpg7xiFAtjgCulSMAFoBarwn6FVNOoDeoU6BqVAnY222Hs1C\n",
       "inUoRUlP3KtuhfZS8DAtpJeRrSUtBIRzh89Dkwyli2pA3M4E6rSXTEsJ1MRGGxvajp/f0WJ4pYKb\n",
       "mc46rZ+NNB0dsfYoLT4w7jOigbHIA381aFLVHuvcc9nx06sloYo3oTsplnRiRoQhgG58yaeReN/Q\n",
       "O0J1dxyi8/tBqnr8PRwFvsNqaV8n266BMcX+S9y0c1mZgOyN0GFQW0tL9hmVjdTaoZqSytn9YTAC\n",
       "Z0abAuwUjPWb0s++1B0dzhZFbvmUjCPVTVoT51l1+tAvxifgVGzqKzc7J7Rkz7Zc54TWjtR3J+ec\n",
       "MMp5JkSsd5kEHOCszFWNlo3/rPg/CtpJOSsWS3hSdFkP9F2T/PsCas/RHpBHGTo72WfFXuNmomvu\n",
       "W2qF35qNm4C7L57nBDZBLM8JbM97Kzjz//Jfd4BAdXkwzwkUYkGBQIFA3hF4Im/+wmIgB4E8+guL\n",
       "fwGAhiaKYpA+SwAAAABJRU5ErkJggg==\n",
       "\" style=\"display:inline;vertical-align:middle;\" /></a><br>(see <a class=\"ProveItLink\" href=\"../../../__pv_it/theorems/318838941ffdde6544279bbfa1290898d0a139f30/dependencies.ipynb\">dependencies</a>)<br>"
      ],
      "text/plain": [
       "<IPython.core.display.HTML object>"
      ]
     },
     "metadata": {},
     "output_type": "display_data"
    }
   ],
   "source": [
    "%proving inner_prod_conj_sym"
   ]
  },
  {
   "cell_type": "code",
   "execution_count": null,
   "metadata": {},
   "outputs": [],
   "source": []
  }
 ],
 "metadata": {
  "kernelspec": {
   "display_name": "Python 3",
   "language": "python",
   "name": "python3"
  }
 },
 "nbformat": 4,
 "nbformat_minor": 0
}