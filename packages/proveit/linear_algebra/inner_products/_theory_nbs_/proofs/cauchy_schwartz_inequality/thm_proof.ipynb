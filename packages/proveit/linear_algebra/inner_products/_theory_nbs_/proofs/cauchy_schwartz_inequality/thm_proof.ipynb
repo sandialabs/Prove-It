{
 "cells": [
  {
   "cell_type": "markdown",
   "metadata": {},
   "source": [
    "Proof of <a class=\"ProveItLink\" href=\"../../../../../_theory_nbs_/theory.ipynb\">proveit</a>.<a class=\"ProveItLink\" href=\"../../../../_theory_nbs_/theory.ipynb\">linear_algebra</a>.<a class=\"ProveItLink\" href=\"../../theory.ipynb\">inner_products</a>.<a class=\"ProveItLink\" href=\"../../theorems.ipynb#cauchy_schwartz_inequality\">cauchy_schwartz_inequality</a> theorem\n",
    "========"
   ]
  },
  {
   "cell_type": "code",
   "execution_count": 1,
   "metadata": {},
   "outputs": [],
   "source": [
    "import proveit\n",
    "theory = proveit.Theory() # the theorem's theory"
   ]
  },
  {
   "cell_type": "code",
   "execution_count": 2,
   "metadata": {},
   "outputs": [
    {
     "data": {
      "text/html": [
       "With these <a href=\"allowed_presumptions.txt\">allowed</a>/<a href=\"disallowed_presumptions.txt\">disallowed</a> theorem/theory presumptions (e.g., to avoid circular dependencies), we begin our proof of<br><strong id=\"cauchy_schwartz_inequality\">cauchy_schwartz_inequality:</strong> <a class=\"ProveItLink\" href=\"../../../__pv_it/theorems/916b70728ac9e1e4d01b3e130160e4dcc49259730/expr.ipynb\"><img src=\"data:image/png;base64,iVBORw0KGgoAAAANSUhEUgAAAikAAAAmBAMAAADzdBbRAAAAMFBMVEX///8AAAAAAAAAAAAAAAAA\n",
       "AAAAAAAAAAAAAAAAAAAAAAAAAAAAAAAAAAAAAAAAAAAv3aB7AAAAD3RSTlMAq1RmmUTNIjK7EInv\n",
       "3XZ/CtNrAAAACXBIWXMAAA7EAAAOxAGVKw4bAAAIB0lEQVRo3s2afYhUVRTAz3y+N2923k4olAju\n",
       "iAtCpg6sGZgso2mJIj3/CCojt6UyDWIEUdRyJ8mwUHcqJT9InxWGqOvgipusbONCGZmxpNSiKM8U\n",
       "w4xl8yNtpbZz7n2f894sYzrN3GXH8969c899v3fOuedcF6D8beLg9dIHBxNQqSYtZgsYHFT/D22j\n",
       "72bwNKhc28Bx1FQdlUBTBakE4lVKZX1pK5I6HyjH0j+sUiqvlxh9INhThpXuU6uSin+gtHG1inC7\n",
       "DCsNxquSSixXYgRQy0JFuFWVVFpLXlC0HB4E26uSygj6SOMPtoy7O2N1b3AvXcBfsfCmOMSVfVqm\n",
       "EqZWJRVK90I5MUXPmHV3bzG7hW3u3l/wd0XhzYgD7gpPrTTti0xqSXAqLL6MKTeVErWItywqUY8k\n",
       "t97sXgrLXZGaYtJB192U/eqgp1qaVk6yuJbiVGbSxcJyUylRS6DfohLzCsZGt7Bl3WzrwfnEu+nD\n",
       "HW16il44pgWe7jdxKm8XMdb7S6VELb4mi0q9V4hN6N01g4P9JsrTPA484bIMl3l4dBvTwiSS5H5O\n",
       "Jax6G+v9pVKilpq4RWWL186ZNbvNJp/Vg2PeFUVcocSj25iWx1j/bS4F0J/CZY+2JWqpzZlUJM+C\n",
       "aKGLyt7zhh00GV7kbOG0Je8uopdcMEyBRbym8zl57tyJ8u9BpWmpTZpUMPpJV5PwIy97UHoHxqsw\n",
       "rpDK56fMvJSIXgRoa4cYt0ou+W2JIe8WU/4zxgAujyM3IjuVrutUZgFsu58M/PzdyE4qpWlhGyN/\n",
       "bIyAUX8ejnHHR2kELFDoroPKrmbLJpI8muYe4Y5oSj2OYIs3fdnQTWMAl2Nmtf6PTmUJCPjVUN10\n",
       "4emP+HdXnewoLFGPnjg0zO7L3SD3femdnT+K3ZtGrYaUgwrX4tHm3Ugs/StppLYWlXkAa3BHGMfu\n",
       "r8Fa8AfyhaDipOKzqJCBhOIgJp7UzcOQZppDWPdcqNH4dmjJOC34KS7BHZ1KRI3iPfgd14RveeOI\n",
       "zQAfuDeHOITt3tyMLz/o+ZhSHKQP0v7tMN9BRdfiaEyXnOdZCmsLFJMKPouKS17D7qMk3sZCGcR4\n",
       "gQctNT2oRmFPJyE+kXmQIdH+J/3JnIx3t2b4K7NknBZEtqnd0Kn4NRYGkcRR/N4sXXZTkfsdBxF5\n",
       "PTVzlZ0KRNsAHmfbjkVF1+IYyXRF4hDNg9tWMATARBU03jFRRXoyy9SKRVuiQqkYlt2yWYCTxMzt\n",
       "NIDZjQagGQO4TCYVytupQFOjnmu/zNdCVPb0TohLn6y5ANDeJ7xan/LR2pc1z4CLV/ErfY3N8JIK\n",
       "6RWnrs6GVZMUkLsexIEgj2knF/1sLdUk1kbMMn7SEroAnZRcx6XUvrSuCwOsZYU2KrRdzEXX5x1P\n",
       "Er21bEMptjOTB9HGhc4W1bFzyUoeWXcTPp7I7daUaZ/y99jjChykrE680dl5DaSsTkW4hk7Skgjj\n",
       "TzD5wticLy6Nz4S6V0UUqYeifTe89fdMMv3LMBKOwyGYQwPnw2pYBjB2rDNjYlRIS1utirKkDQSy\n",
       "YUXX1Tqn8yuTX4u1B0XStA4M3RJfUSxHhFa48xUji4vQ+/+YGR/qV8GQ7Mkj7z5LsPQBTGY5TSBr\n",
       "FGKMypvkCdy9Q0mDygDsgBY1orVCKIvlve98nwLiALQCu4/IYGOdJuahVlkOH0m3YCUbOF2F5wCm\n",
       "TGGhLeugQlpWjqc1CJ/2+DQ5revS4xlvBzSTChn1YaQMB2hvOAIvxEMKS1RdVMD/Ghg7K3pLtEnQ\n",
       "eBxhkiN5pO5s6Bg8ow/gMs9/2c4uGPkK+DIcG4IJLNq69UNGpR9GQQv4tKkNDcp6HEOPiBCw0h4O\n",
       "Cyjaqhie8EZNUu46H8KQQwNDO28SgnXPsgjvpMK0jCQvAF+uRpEtXQTGiA0pK7dFgw4OQ3Ixyi2C\n",
       "c34b3s5vuqnolWWPXtFMa8CPc6ohxQoKnhldu+Yk9QG6zDbvGHmVeNNxkoDujWDEnGErBpVWOsow\n",
       "qPSQrbzBbYUSAWYrp2DHFwNAPfA+TIb3gEVbqdCDWPuahbmYcgAChq7r9uAezlpUzPrlYWcdU4wK\n",
       "9NoLbb9qL4gdBU/hAN3Z3zJPSC0qaMWUWG6zqKCnoK9GkpJms5VwQvgOfEmhG25iAoIudUUagPPa\n",
       "dmijgfUQodchHEpDF8iam0qvoEg5CGcWwGO6LtqVrf9DC+YtKmb9YkuLKNgUpTLJXoFG7bHEWfAU\n",
       "DuDTsuKSn/CZVOSdHf66h3ApZOervu/YdSPwzfN1qamvQGefUNeBWRzle3fwaS/hDF2NP2VmdnaC\n",
       "eH1CCi41vKtFuzQcCPUXO5iGvYs2ZbiqAirzG0DshtCohnZF13XlTnr0H2bNFhiwqBg7u6Q56xgH\n",
       "lf3nqPVaz7ZY72iz7ztWW2xKbeCclgOLxL3O4qQjWzeXntyLefe9kPFq9xQ5i/MPoUu6Zj12QKdh\n",
       "Kx3YZl7UVtim1qhfmCjlpH1MoylpBdPyl8gKsXs8oRT7PW4+VfBvIZXnh5pxE82qCYysR5IYt3W7\n",
       "22qK5K78c4gr+7S/8uQ6fe9UltzxOsLhcwaUIlSSQ804FSrbDpftNJvPKf2n0+wDSmWpdFflGX+0\n",
       "qaJQ5Lw3FfFirpJU4NuKUqlJeFN5G7IVpTK5olQugzeVLZX1IH6iVqkmHC9C5QyoFaUi/VxBKvsT\n",
       "RajMb7j/L+uu/i5umVo5KuyE9v/6u7i7s+JMxVRLZlrwL22gYxuf9NGmAAAAAElFTkSuQmCC\n",
       "\" style=\"display:inline;vertical-align:middle;\" /></a><br>(see <a class=\"ProveItLink\" href=\"../../../__pv_it/theorems/e94eb89ceaa1cd88229095e4235826f5a997788b0/dependencies.ipynb\">dependencies</a>)<br>"
      ],
      "text/plain": [
       "<IPython.core.display.HTML object>"
      ]
     },
     "metadata": {},
     "output_type": "display_data"
    }
   ],
   "source": [
    "%proving cauchy_schwartz_inequality"
   ]
  },
  {
   "cell_type": "code",
   "execution_count": null,
   "metadata": {},
   "outputs": [],
   "source": []
  }
 ],
 "metadata": {
  "kernelspec": {
   "display_name": "Python 3",
   "language": "python",
   "name": "python3"
  }
 },
 "nbformat": 4,
 "nbformat_minor": 0
}