{
 "cells": [
  {
   "cell_type": "markdown",
   "metadata": {},
   "source": [
    "Proof of <a class=\"ProveItLink\" href=\"../../../../../_theory_nbs_/theory.ipynb\">proveit</a>.<a class=\"ProveItLink\" href=\"../../../../_theory_nbs_/theory.ipynb\">linear_algebra</a>.<a class=\"ProveItLink\" href=\"../../theory.ipynb\">inner_products</a>.<a class=\"ProveItLink\" href=\"../../theorems.ipynb#rational_vec_set_is_inner_prod_space\">rational_vec_set_is_inner_prod_space</a> theorem\n",
    "========"
   ]
  },
  {
   "cell_type": "code",
   "execution_count": 1,
   "metadata": {},
   "outputs": [],
   "source": [
    "import proveit\n",
    "theory = proveit.Theory() # the theorem's theory"
   ]
  },
  {
   "cell_type": "code",
   "execution_count": 2,
   "metadata": {},
   "outputs": [
    {
     "data": {
      "text/html": [
       "With these <a href=\"allowed_presumptions.txt\">allowed</a>/<a href=\"disallowed_presumptions.txt\">disallowed</a> theorem/theory presumptions (e.g., to avoid circular dependencies), we begin our proof of<br><strong id=\"rational_vec_set_is_inner_prod_space\">rational_vec_set_is_inner_prod_space:</strong> <a class=\"ProveItLink\" href=\"../../../__pv_it/theorems/5578bcded5e95f372d2fb1e780e881aaf865a2da0/expr.ipynb\"><img src=\"data:image/png;base64,iVBORw0KGgoAAAANSUhEUgAAAUoAAAAmBAMAAABQRs+jAAAAMFBMVEX///8AAAAAAAAAAAAAAAAA\n",
       "AAAAAAAAAAAAAAAAAAAAAAAAAAAAAAAAAAAAAAAAAAAv3aB7AAAAD3RSTlMAq1RmmUTNIjK7EInv\n",
       "3XZ/CtNrAAAACXBIWXMAAA7EAAAOxAGVKw4bAAAF4ElEQVRYw8VYf2xTVRT++uO1r69dV0ESiYQV\n",
       "DLKEIQ0TgoGMEkogkuCbEBIzIsUfEGAJD7OYqNMVEuMfzrVBhhkqFjEahEFxIJpFYeLcxGjAIJho\n",
       "s4K6BEgafgw3nBHPvbdd+5q2PA2s74/bm/vOvfd73z3nO+cWMPRYvSjRo2wwbrsAJXveiBq1tARL\n",
       "h9LiMWrZHC0dSmwzarixhCCx3yBF5r9KidJq8MjLYqVEaR80ZhcupVsCbxszG5/Vf3hO0n+XUWkj\n",
       "LIqfecamXefy+nnbdg3KrBPoubsg3ZRB9rW1LQakBB9o8oK75gNFp8ncMc734uX7YT8QRE4s1dZ3\n",
       "5WV3c9/Ve9p8egC/qlACAW/R05hGdhNC9tMUDL+JsPBjEftdV1xXr1DjnOuDtCgCU0I6nuu2kQLu\n",
       "7IH9G/1Qk4r2EKYXSxIKvezoAFY8Adh4QFiD2MLOP1IUpYkt+rqNmkgNXCGrP5SzdQGpYOPz9fJQ\n",
       "ruLwbVKZ1Qc5RgYOSwIWTrr7CofrLF5LuBiKnbup+cyGJpRtTaG8GI8Hb4cyfCoXJcsQxVhxEcCP\n",
       "aaYzRIuf5HI9BAt5jq24O5cTH0qkhXqTraFauDvE8MpLBrhcHcxF+Q6FsK/Ibg8Ce2UKG7N3CfA0\n",
       "j4trwPfx+He3QUmLyrHl1FtuybBu35BBI9cvTk6EaGFfdhgrf5i2jqM85uXdD5LM/zuTYRUzhlWK\n",
       "3vqOwFg6+mRnFMrSTi8aLvvRUtNPRkvJuyTaUfLNBA5xTyWNIcQ780DL8idSAhIFmoMWc4YFm5bF\n",
       "WdkYhLVU26y5g/h66nU2fuAEWFc+B0cC+704psJ969azdK7daPejSqPIaPRKvXIP+pUIysDpe5KR\n",
       "ISdIeWbzDf4hwYA934lliUWY5thjTK2Wu9UMyuyTdRxnjIv2DHANcUTR9EvnBXpNXUqx8hB28BjH\n",
       "ngm3fLB5YL5BKKVBrIW5h8SmfMpJuMn8R+AlM+fyD6CKbzBMrhp1qtlZ88wRzPPoUK5m71N+mcmV\n",
       "zXF6ImmUEZQnRCtfZzXUGjYugmSN+M5hhSg5yLdqpqD1Qxmgw6wbVIYZEYQ71reLHU83QRJ++SiN\n",
       "8xXI0JzIsNIyvhWTnFGGJYdL7NwsYnzk2avjMoPSPFBdPQfPZFBSdwaBuykLlIymGwwlbkJZMHmQ\n",
       "DWPGwurq0L6+gRTKj9IxviqNEsGaEalawvJQwu/E4cCZgKpDWcf1cmZWoVQAJYtIUZGmUG4UKwyk\n",
       "uGSDQykuq1R5kFEqnCqK+SF+4pLQSxqbnvZLfELBalnY8nsqIVVOecWp98smFjJWlnvGZQmdO5Ef\n",
       "JbpomxyULj/jbz33y58IzxXul0NEkjT42lo6TybJjydgop120ZSFJHa1lHvwyEgd0UgWe1b5XJrC\n",
       "V610vl+nR3mQ4zlEefze7Ph6KitD2jg+0TarOMpCCGGhldSVe8nt0KiiwoezXnxIXtiD9hihdA9N\n",
       "bfThqNwN53Mn4dCE+DhZHvcLWaKPYqdjIppf7Ed5VOIyUwn/RT1KF+/bH1s7oEuNu1tFKNX2dS2p\n",
       "6Nr6XpfMW9gDl7Xav8dg86arTM5YFw2d4yhUlibDp+FZcYj6trFJardcuPRFQgkkNTQsOyp9mTzC\n",
       "7oxszYY/NzHvY8TTN95IbzmRHNWyvq1tG6HcZ9PrpU2cnClUoxerunfj//tuaStYFpVxKu6zsAO0\n",
       "n9JfaHoRkOWY4FJ6KCf/p4qgie4xr96pIrIwSlFhmBLnK1VWebDzT9cC5M8/V4ocNItKyZx5qW8x\n",
       "j69/806hLCt85XqLt5N2fOvDC7zrSNtKHlymQSJbPqvBlFPxXbvj9bhU0aUVerc3F3C5vjihS0Nr\n",
       "vnnbR/fOOCJxbvElqzVD8+ahpM+nxswOqiVF+ZUxM2ewlCDdxw0a9uYdbZk7KihdRv87nZ33Auxx\n",
       "jArKfsManO+i4giNTsgb/pNCOZdPmKPKaKBs9xo2fT7P/1lSR/VooPwP6c4eKlWEK0wF/wUm/Kq0\n",
       "47dqDgAAAABJRU5ErkJggg==\n",
       "\" style=\"display:inline;vertical-align:middle;\" /></a><br>(see <a class=\"ProveItLink\" href=\"../../../__pv_it/theorems/9a6eba4b137d2321879d32cc69f32e0344dd36b00/dependencies.ipynb\">dependencies</a>)<br>"
      ],
      "text/plain": [
       "<IPython.core.display.HTML object>"
      ]
     },
     "metadata": {},
     "output_type": "display_data"
    }
   ],
   "source": [
    "%proving rational_vec_set_is_inner_prod_space"
   ]
  },
  {
   "cell_type": "code",
   "execution_count": null,
   "metadata": {},
   "outputs": [],
   "source": []
  }
 ],
 "metadata": {
  "kernelspec": {
   "display_name": "Python 3",
   "language": "python",
   "name": "python3"
  }
 },
 "nbformat": 4,
 "nbformat_minor": 0
}