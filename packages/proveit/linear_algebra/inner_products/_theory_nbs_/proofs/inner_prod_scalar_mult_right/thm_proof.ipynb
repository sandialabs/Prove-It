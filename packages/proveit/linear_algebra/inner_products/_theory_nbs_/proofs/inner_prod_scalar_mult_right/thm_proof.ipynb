{
 "cells": [
  {
   "cell_type": "markdown",
   "metadata": {},
   "source": [
    "Proof of <a class=\"ProveItLink\" href=\"../../../../../_theory_nbs_/theory.ipynb\">proveit</a>.<a class=\"ProveItLink\" href=\"../../../../_theory_nbs_/theory.ipynb\">linear_algebra</a>.<a class=\"ProveItLink\" href=\"../../theory.ipynb\">inner_products</a>.<a class=\"ProveItLink\" href=\"../../theorems.ipynb#inner_prod_scalar_mult_right\">inner_prod_scalar_mult_right</a> theorem\n",
    "========"
   ]
  },
  {
   "cell_type": "code",
   "execution_count": 1,
   "metadata": {},
   "outputs": [],
   "source": [
    "import proveit\n",
    "theory = proveit.Theory() # the theorem's theory"
   ]
  },
  {
   "cell_type": "code",
   "execution_count": 2,
   "metadata": {},
   "outputs": [
    {
     "data": {
      "text/html": [
       "With these <a href=\"allowed_presumptions.txt\">allowed</a>/<a href=\"disallowed_presumptions.txt\">disallowed</a> theorem/theory presumptions (e.g., to avoid circular dependencies), we begin our proof of<br><strong id=\"inner_prod_scalar_mult_right\">inner_prod_scalar_mult_right:</strong> <a class=\"ProveItLink\" href=\"../../../__pv_it/theorems/4e819d02741087c5c7abe82ff6dd2ab3deb4f32d0/expr.ipynb\"><img src=\"data:image/png;base64,iVBORw0KGgoAAAANSUhEUgAAAmcAAAAzBAMAAAAgHLLqAAAAMFBMVEX///8AAAAAAAAAAAAAAAAA\n",
       "AAAAAAAAAAAAAAAAAAAAAAAAAAAAAAAAAAAAAAAAAAAv3aB7AAAAD3RSTlMAq1RmmUTNIjK7EInv\n",
       "3XZ/CtNrAAAACXBIWXMAAA7EAAAOxAGVKw4bAAAHu0lEQVRo3u2bcWwTVRjAv+vaXnttjyYkRjDZ\n",
       "algkASENAzSEjMoASQhQg//AiGuWKEqMuUVjQoas8I9R0HaSCSUBbsaoTGGXDZkCwQoqMROcCX8Q\n",
       "ZHpzKOqgTMYEt4T53rte7931tc2EhRjug6+Ue+9737vfffe9771lACwR2tpksGV8aAJjYxGbD1O8\n",
       "Y2PJAtCiNp2CUmZDs6HZ0GxoNjQbmg3NhmZDs6HZ0GxoNjQbmg3NhmYRsTd+R+054ZF6ineJFzAz\n",
       "iYdpJmmKZkMmdI+h+aJ31p6TX5BuKt5ldwEzk2ximj2TVTQdPCMELYibpuVD4/C/jvAEQyvupVS7\n",
       "Lg4FfXQU71NZwMwkHUwzMaypAW0pbtqQD82Jn7JbmmBoxb2UatflA/zRU7xPoICZSXrYZhs1NaBt\n",
       "xe92Mh+aJ1g65O8cWnEvpdp1qcFhEynhK8Q0M4dehG02V1MDmltmDIhz2sbSIX8XclpRL6XadUkj\n",
       "9ZZYM/gk08wkjDGImV8makArQy+rm7UQVKF/YxMOraiXUu16gMSY75pFNjDNSryvmpk7TNSABmd6\n",
       "e7tZ0Py9vReVCYdW1Eup9qw4cYd+ACEzdXs2KvmHLqt6s3ApDK0AM5lmDSe2GFdMY1BmviBRCtpy\n",
       "gD0saM44eOW7iWi6/kWloBT1Uqo9KzgQcA53Qp+6Uru0XvKO5EZxpGGRvhKs7MXyg27mOg37ZXod\n",
       "MMagzMpiRCloDcAjkK6KxeD+ioaGrjagr0/dCL3yj7bmN57pskxXON59eDJ94UoIMgPb2YV0VHfi\n",
       "pKBkvRiC/MGLkcLtRjd9WhBAKdmF7uExWCRrsxFOgTO3Em5DX6eAVg6YIgOZfRKGlbkL5jEoM4QP\n",
       "KwXNK5Ma8gpArWwqbvfAp7hISYPnJqqV+1JRaM6bOxcEN73kuEMoNJ5gQmvNOXEpVPGqeSHy9pQW\n",
       "4s91lN1u6YanRcQf1e4tDsv0N28QAtiJ8Df6kP0qnAWtHKAFm60G+FHvZxmDMvMMEqWgOVSyDjSD\n",
       "GDXvCGaTDOxF7zICvSRO+jCgiYP0+hPyg1YX58lSw8lGCsrsXJ53LgfN36/AbLd286WpuxdJ1J3V\n",
       "ryShndzNOfxRJ3tuMUpZbPYtCMO5fuYxKDNXmigFDWLVuMsQf9SyjXKX4eQzKYxjSRuvGQ6cnx0U\n",
       "9m7rA+jM8M9VRjg891frl4BYjczF/t9C7qnA83urD8t8J8I00Cf5qlVxWqdWOGaddFBQiBehc0DC\n",
       "aZj4a5TB2i5e2vIk3ssE0QZG72aEOH7PBIzWdRPayJV2FacjXZbhuMyWyFROQ2bCbSgznrl5DMrM\n",
       "0UOUhtaBH7zn5kLVAs33CJ59YsWxL0JwADRo/HWoh6aQG/1xhtdPV7igMCvuOtkILXAQYAX4Q/zP\n",
       "56KQkMQYp/glX8Sp1ENNLWwBPmY4qaSgEC8HpYQkaIVU4uWzpr0nab/MJevRTakjnrTejUwrG954\n",
       "0F0gtHBpUEDA0ELwgCO3j2jGcZlfIiMz4TpwsdwCZR6DMsOYkNLQNuOXXRxtTFug8V+CloYSEqzR\n",
       "oY3APmiSvWoCXMmEDNxPGbR5GMFvvFdFje4Qyn63YQfAMC95w+0S/9EgrE0sRoksaThZS0EhXpYg\n",
       "C5eW1q91HTdBI+1hr4rSA/9ej5jMdtOmle2Gb2AmOG69n3aFoD2GeTjO5ZYblGPrwowSGZvtg1kR\n",
       "IyebxqDMcHGClIbG4XTlTUK39ZTjQQ0UnuD8VCoVwtAGoRyagFMXVlVFERoOD+BJQ1kauIhrEEFD\n",
       "DymBoZ2CgatqHXJxqmqea/8wOIKGkzfoUwzs5Wvog7IXUql3AFLgV8DaDpMIIE7h1Gw3bVrZA50e\n",
       "skkUVqmVc9CXCygmyz9r+N1Ygk6slhj7SmzWOvB6eZzaaFJjUGYYRyBqgqbniGsy62hoiExwux5p\n",
       "OrQE+u9bOrQeHGluLdI47BtHWiDs/bNJJivPmzAfPEnDSaXl6Ee4CTvbPErWnziSfzS0gxxqBaL+\n",
       "eK4btSydN+0tZ+QvQkeY+8rzhfenM0xmr2maBw3FuvGEKWh4XR+CbIFJoKHXE4W/NyyoVKShTLdZ\n",
       "hsmwOTQpigqrhCwm2+VAxqsI6k44VAle8sh0JxkrlNOe4QVaiY39dVuh8ekjEBEUCMTrwOg2lJvu\n",
       "XNPe0rpK+mLCSXQH+UclcwvvTxWTWY2mVmji/qPw6CgD2h+j0sN/xYHHh3GN33W13ij7Zl1FZOGz\n",
       "cCzDV3Sh4hbRbBiVwJdBy5uv/+rzztpjCiTmXAKx5vGXUC/wnVAr+7twls052WWF9vScgTBsihN/\n",
       "suN7xdq+qjYje06Co+Zd0LuRaekpXaLqGEG1FrEqpzD3lfkc6TEMM8wSa16klTq5/TiVGsdp7g7G\n",
       "tVpjaU8yT2aFz1MtxU5uHfAh7GR10was1p9/3sa8eqm2rwSWmUnoMQwzDBfruKGNTxKsbbWU981X\n",
       "4mcA5vZ1UO4qcOCBN91c8SkFC5iZa3Wm2WVNxYtR9HfCoPEVrIOJXPE877+NGoY1A/fdT6ME/YsM\n",
       "/2uxf+45odA8/YqNa7zQtkLSxjVeaLttWOOHduH/nr7vBbTaqrCNy149bWg2NBvafQRtgf1LsoU2\n",
       "g22HCkGzf0m2kOBfkv0XCVqYOuCG12QAAAAASUVORK5CYII=\n",
       "\" style=\"display:inline;vertical-align:middle;\" /></a><br>(see <a class=\"ProveItLink\" href=\"../../../__pv_it/theorems/d7b96034cbc3850471cf40299bc5d7d7338616dc0/dependencies.ipynb\">dependencies</a>)<br>"
      ],
      "text/plain": [
       "<IPython.core.display.HTML object>"
      ]
     },
     "metadata": {},
     "output_type": "display_data"
    }
   ],
   "source": [
    "%proving inner_prod_scalar_mult_right"
   ]
  },
  {
   "cell_type": "code",
   "execution_count": null,
   "metadata": {},
   "outputs": [],
   "source": []
  }
 ],
 "metadata": {
  "kernelspec": {
   "display_name": "Python 3",
   "language": "python",
   "name": "python3"
  }
 },
 "nbformat": 4,
 "nbformat_minor": 0
}