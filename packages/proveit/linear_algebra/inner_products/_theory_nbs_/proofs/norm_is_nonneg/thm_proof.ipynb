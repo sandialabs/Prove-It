{
 "cells": [
  {
   "cell_type": "markdown",
   "metadata": {},
   "source": [
    "Proof of <a class=\"ProveItLink\" href=\"../../../../../_theory_nbs_/theory.ipynb\">proveit</a>.<a class=\"ProveItLink\" href=\"../../../../_theory_nbs_/theory.ipynb\">linear_algebra</a>.<a class=\"ProveItLink\" href=\"../../theory.ipynb\">inner_products</a>.<a class=\"ProveItLink\" href=\"../../theorems.ipynb#norm_is_nonneg\">norm_is_nonneg</a> theorem\n",
    "========"
   ]
  },
  {
   "cell_type": "code",
   "execution_count": 1,
   "metadata": {},
   "outputs": [],
   "source": [
    "import proveit\n",
    "theory = proveit.Theory() # the theorem's theory"
   ]
  },
  {
   "cell_type": "code",
   "execution_count": 2,
   "metadata": {},
   "outputs": [
    {
     "data": {
      "text/html": [
       "With these <a href=\"allowed_presumptions.txt\">allowed</a>/<a href=\"disallowed_presumptions.txt\">disallowed</a> theorem/theory presumptions (e.g., to avoid circular dependencies), we begin our proof of<br><strong id=\"norm_is_nonneg\">norm_is_nonneg:</strong> <a class=\"ProveItLink\" href=\"../../../__pv_it/theorems/a6221706c77573254e8c524a5fadc51cce16a4d70/expr.ipynb\"><img src=\"data:image/png;base64,iVBORw0KGgoAAAANSUhEUgAAAbsAAAAzBAMAAAD807ssAAAAMFBMVEX///8AAAAAAAAAAAAAAAAA\n",
       "AAAAAAAAAAAAAAAAAAAAAAAAAAAAAAAAAAAAAAAAAAAv3aB7AAAAD3RSTlMAq1RmmUTNIjK7EInv\n",
       "3XZ/CtNrAAAACXBIWXMAAA7EAAAOxAGVKw4bAAAGKklEQVRo3u2abWwTZRzA/13be2t7q8EPQgw7\n",
       "wyIfVLzYQAxZlvIWUIwW+QQ1oRkqagw5EkNCtrBiSIwwaWVB6BLgSPzAS4SGoQuMaBVFEyTZB+Nb\n",
       "KNwyolFYnQwkbInz/9z17p62t3VLKG5NnyZ317tr//d7/u9PC+A0hOPHVZjpY3yIwNhYeMbj8WNj\n",
       "yXHwIlANw13Dq+HV8Gp4NbwaXg2vhjfNBrdP3/k+T08nPFf2p7IamNyjnNhLts2wDjzkYDArTQM8\n",
       "pvwtjZP8KrETN99BvcLqTG55RuAJMQAFX/nB4ms8NR8CdgT8Eqpw5uDxMnjTnNWdRWFnIdPbqX+u\n",
       "dOaPv+VGICBDQKXwguTKvFI8F9nXyZXGKyemDSbEA54Nemd16Xo+G0E8vwZikMJbQS5tKsXzEAUy\n",
       "SqXxyolZXRYvDckdxGyXxIlx1ksgjFB4+qVkKR5H5mBbxY2znJg7k8BbiTbOPhTPhxaAjRQeg5bq\n",
       "kxx87y3cn668700sBs3NGU88mP3RwuNBeFg3gByswe1zFB7ZM06hJYT7WOXxJhYj9jnjeTertvbm\n",
       "HAFBzaf153F7k46cl7PZS054/mz2SrryeBOLccVMvJP9R3slC2+rahsnt7codGxQKbxVAF1OeJ44\n",
       "8Grl8SYWwydNvLA419Nn4W2yfe/itatFn0/EKbwtwKJ7exuWAvM1jYdnt9xXlvnmgUbjlYhZc1t6\n",
       "556ZKZhgHs+tuEdcsoUXs/G6F+MbLoVjf/5ce4TC41VfxDDYqFqQ1rvg00JprZd7imuK85fOzKJP\n",
       "3JQgd2P3eMUjziH7UqdRFVpp3RCjjz2zsTIWM8DdtR4knMfjwBOzfY9Dj8r+kjfOrlCRpFM0Xp2m\n",
       "R5YPQYwUVi0L9DnKS+P6UxG8p8Q3gsCEaWuT0NiWOOIdMeYwoeDz0ngLLFV4VukPHARfBoq1ByRh\n",
       "W3hCkkoMO4uNu502TojpRdowe66oKGPcmi1teVyfAgc8cYj2FckPRiVSMlYYX3AejGRg4elixOvb\n",
       "V8KAfq5epmaMwtugYHg0jbOPwvO8V5S2cQYpvNNEGne3SSvC8z2uWtJE2dDwsZ8XBIWD7/YDdOfY\n",
       "1xvDLgK/tWU5iM04O+LAbxIzB1j2YPMZle1GoBv9iq9ZE+d1G080DPAqnecYU8zvrmRLXiWJ1b1f\n",
       "WHnYZYaWY5FHwWcnhhyFJyQHJoic0EYKB3G0NVOEx35pSzsGBh57C1qgXWLw5ZFfmZ92BYWn4t6v\n",
       "WmEffEIqKL/EXvshgvMnxlxpv+ILe9ItsCwK24ElAeB2b+8tuslhTDEyr8W9hocbBmzmvUwe7+ld\n",
       "L8DLNh4jWXhhCPGFHUBTQcfgihsR+FJxx/CILW2tiTcCh6Bd5bUEeJMJFVxXcxFSWnBDwGt4EcVy\n",
       "/f9CB1ZTrMLLpxT26BCsSyxV8XY7aqwr6Bh0MVhMud9MpfbqBnzTehCvWbV8nKtbJtl4wuz1Zsdw\n",
       "T+E/ulWAt6S0IUIb/Et1aogMaYsw7koEbwjmQju4tKZQKNJhGA9wGXBnwBX2DiGegNNB8C7AjUFt\n",
       "A4q4EFroPXwH6oK6HxN1wPulDVEHKJwRcYYLfPybcYoy71mjKHMaG0vxUEP+tBOeIW23qT0TL4Fv\n",
       "PzDx+oj2GEN7GFcCuvYCMv9nu0quwC5YBFxSn0M+WGycepea+QzCRnVB1Ds8+Y7BqQMeKcETD5+D\n",
       "J0cd8PLSjNir46FxoiHysqBR2kOPbFNhFrRJ9RFM0wlVTJ5SAzk+LWidcLIReD204BzWy3RgsLT3\n",
       "YjSnwjbiJX+MKo/9Hae0OmU8d3Dy3XpeGnuApPXve47cdl9c3xBueg16c2xDD6Z15N4yqoAvtxKD\n",
       "4MDgG55obxoSz1wHcdmzm/EuLHO1xgGsB/bjHPbUNRBP2+/crQtnU/tKMo80ZbyAMvXFiBOp1BQW\n",
       "KDoczkVtjOSU1lo4jbXcZg+0lv1I5ddaEg7nPErp0SRWyp6YquzKr5SxDU4tjlUVLbRruPu2zklN\n",
       "IwkTg1ce+EqZYB5Uus2q/cZQsugxkK5mvB2QrGa8A9VtnL8+uIDwf+BFQ3I141V55Kzh1fCmC97i\n",
       "qvi76snx8Krl76r/AcElByMLx94vAAAAAElFTkSuQmCC\n",
       "\" style=\"display:inline;vertical-align:middle;\" /></a><br>(see <a class=\"ProveItLink\" href=\"../../../__pv_it/theorems/348a5f63ce18ca1f082d23e796d367114fece7160/dependencies.ipynb\">dependencies</a>)<br>"
      ],
      "text/plain": [
       "<IPython.core.display.HTML object>"
      ]
     },
     "metadata": {},
     "output_type": "display_data"
    }
   ],
   "source": [
    "%proving norm_is_nonneg"
   ]
  },
  {
   "cell_type": "code",
   "execution_count": null,
   "metadata": {},
   "outputs": [],
   "source": []
  }
 ],
 "metadata": {
  "kernelspec": {
   "display_name": "Python 3",
   "language": "python",
   "name": "python3"
  }
 },
 "nbformat": 4,
 "nbformat_minor": 0
}