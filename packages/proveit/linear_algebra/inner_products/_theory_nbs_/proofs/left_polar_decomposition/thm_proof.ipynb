{
 "cells": [
  {
   "cell_type": "markdown",
   "metadata": {},
   "source": [
    "Proof of <a class=\"ProveItLink\" href=\"../../../../../_theory_nbs_/theory.ipynb\">proveit</a>.<a class=\"ProveItLink\" href=\"../../../../_theory_nbs_/theory.ipynb\">linear_algebra</a>.<a class=\"ProveItLink\" href=\"../../theory.ipynb\">inner_products</a>.<a class=\"ProveItLink\" href=\"../../theorems.ipynb#left_polar_decomposition\">left_polar_decomposition</a> theorem\n",
    "========"
   ]
  },
  {
   "cell_type": "code",
   "execution_count": 1,
   "metadata": {},
   "outputs": [],
   "source": [
    "import proveit\n",
    "theory = proveit.Theory() # the theorem's theory"
   ]
  },
  {
   "cell_type": "code",
   "execution_count": 2,
   "metadata": {},
   "outputs": [
    {
     "data": {
      "text/html": [
       "With these <a href=\"allowed_presumptions.txt\">allowed</a>/<a href=\"disallowed_presumptions.txt\">disallowed</a> theorem/theory presumptions (e.g., to avoid circular dependencies), we begin our proof of<br><strong id=\"left_polar_decomposition\">left_polar_decomposition:</strong> <a class=\"ProveItLink\" href=\"../../../__pv_it/theorems/ddc9a041bce677f755d1273ccdca8fc5efdab7840/expr.ipynb\"><img src=\"data:image/png;base64,iVBORw0KGgoAAAANSUhEUgAAAh4AAAA/BAMAAABdgtzDAAAAMFBMVEX///8AAAAAAAAAAAAAAAAA\n",
       "AAAAAAAAAAAAAAAAAAAAAAAAAAAAAAAAAAAAAAAAAAAv3aB7AAAAD3RSTlMAq1RmmUTNIjK7EInv\n",
       "3XZ/CtNrAAAACXBIWXMAAA7EAAAOxAGVKw4bAAAJ20lEQVR42u1cf6xTVx3/vva29/b29bbGGQJq\n",
       "XhcXzUTyqk/ICBPLBriFzV1nmsBwvopZzGDZSmJIQLJXE2NE32inIGMLvuvmlpBFWsYiMpA9ISTE\n",
       "4XwsM0SxWWXEPwTfnvzYc6Cr59e95/5uX7lL2+WdPL6959f3nPM553zP93xuKUCAIdJo/K/NqsON\n",
       "xgR0LEQbjUu6DBKPq7nV7eKRyxU7h4eUy13SZZB4TLVddRg6HI6ZZDfhcW+tVjsxi4dlfZybxWMW\n",
       "j1k8ZvGYxaMb8Ch/mPBYgM5b116FCvYUhX1m6cdnXPFQPhTr4wf/zoh7qgYUj9QBFoK48iTAfJzw\n",
       "3UeKEKrqQNDxh1Xpvo/C5rMAdeZ00miWd2/sjl7FI4Q05dDT9rk7kbzj1xMgp2CJjNzpP+OhVytp\n",
       "SKiw1ozHLwEGURdU2L8sQ9NpdC3Xe7Fn14eQJ9Ms3IWj8WqoCIIq1eVpkMYxSlApwCi6gGkmPFYA\n",
       "rKTbI8XU0CgrhMOTPYtHAu0V9Pc2iY7gESXwDpgCgS7/EsByBFTahAe6HqO9EqdP4v60HmWFcLjc\n",
       "s3hUVLw+ZDrSQ1hswvukjHcJDovJxgllOR5iHuSrdH0gPDZvOa9HUaG7d6OQAWm6Z+9zeOsXIUIN\n",
       "wXEs1gDIj/331J9IyguNU6dQW5EyxwM9Y6OD+Qa01+aBUGDRiHHcKOMQOqLCN3tufehbP/zw7t0/\n",
       "BekaTrkZ/UsWYBHNn4YwGrVkwiOU0o0Oth9ldNywqGTgEUvBb4UM7OpBPJYB7ENDIScuNhkSbENP\n",
       "DwLcRBuagL6sdb+gYQspkDEeVbo+WJTvl2QGin0qTPQgHg+CjLF4mpjTHbfBTmJPkQl9FOBFAlEU\n",
       "DVWpW+wpQulF/ITM77YtX9SjrBA2wsijS2iRbA/iEfo4OVo2F5HVWDF/z3tFiKHBIHfs9T5tNA39\n",
       "ReivzyNpBh5oG9x8lHkeIGIfhEZjul+rjB1EJqj2t3QP4sGCfGj3Tl13FUQ005+cA5CGxwH6Thdg\n",
       "r9kfW+uhea8ldgtEC754EOflU8Hh0aa+5vzpV4xWNFsSxUMoNKnHvLak/3m7An98Jzg82tTXHI+4\n",
       "DkNYTwmrlvvbK67V9EIsTEDlOc0Pj+/j3VYODo829bXArzuGIbPPgjXqXojFVBBW+K4P7N7H08Hh\n",
       "0aY+Cx6CT30hgL6+oHFpxyOMbHA0QHvapr5hm/fhGZYF0E/pr1w6zpc/1mqvBXm+tKfPjAd2Pb2C\n",
       "X17r4fMmacfjLub2BIVHe/rMeIxq3uX88loPsTSXdjw2gpgyGCdic46c1X5zvfgl2Dsl7jHVQH7d\n",
       "5IWfNMWD6nPaPyffB3V3PDb4NLEhkImT/8ClHY+YFlcNxokQUujeg66C20GcgicsR5VQ9N++BA+i\n",
       "D7d2Emx8HwedMX+CKx6ha94t+OWh0NdoKehWaJkbHqF6lDNOhJCieKARWfBASf2oxaZ4EH3YX7hk\n",
       "5/sM0HXmL1J1wyNR9W7BLw/oYd9SGClwaffX80s54/Q26HjIYxiP0aXnNYgvrW9at/xr11+JzgNR\n",
       "3LP0ZU08gA5x5egcODAJ55ZkrP461QerX7fxfQboYDB/693wKPmYiJK/+XiqZQNS5dKOx0vrDcaJ\n",
       "ElKxs4cPjcMIxqNUCOVhHdwZOfY91H/xrTdVlKTk+6r9BXgZVkXTwsKqWLfiQfVB/VsOvo+Bzpm/\n",
       "l9zwmOszjrn+52iZe2d496guZUR6TI1zacdja8pgnCghRfdLhawPgKuo72uka2Q+pb+/T5LEQiyD\n",
       "pnhLCSJPXfms7T5H9IECKx18H6P5OPN3ixseBsu5yTmay/7mA12HlbRR14kHSo2Q2RMvcWnHA2th\n",
       "jBMlpKx4HA8fH1qIwEB/Mp5hnAQX/lXHg799aEhd01CteFB9q+Gine/TaT7O/K1xwYOznI85FwDO\n",
       "2/jW6TR84t26Ew8MwnxeV3FsLpxK1+ybJul236eMEyWknOsDpAmEx3N9eNnjpEQm9k/xGln/ksZd\n",
       "JPN9f9XhAc3O9zGajzN/21zwCOtKQg2nN0byXkUToLgZ1o8hpPNG3djD99h8e6KRvn9YCVy64cEY\n",
       "p6dteJQKaGX/DPbhxTH1o6SKvIuSppQrWmISnoF9aNecy/L3gyY8FGQ2ina+j9F8nPlz2y99OrzC\n",
       "gMNjoXl4lgUXwyqiXCHD68btZUhqmPTgHeDSDQ/GOBFC6shr2j+u/3gg+6sr8PjQBaT3aH3jdWQ/\n",
       "q8Law1UofeE8KHfe9ihOhsOToa8uKbjg8XW0BtJ2vo+CjplAyvzBpAse/frrpIOvFu0jpnnvgfu5\n",
       "j696/aa6DvtBNRIvbLDIpRsejHEyEVKeHnMr/Jjwe5Dve8jO91HQpWM682eiujkeSbYTxPo7jqss\n",
       "yYu8D0CJUvu1Ff37tKlu1Fafafw2OenSXN4YX1iaAV9o5ft00EM68yeX3fBg7owAgxkHHjgl/h8g\n",
       "3i4uUzN7HPj0XmWqy/C49y9Fi8b9+LmS4fKG8BAHqu3xp5y3e8BYRQUXPEbYnN0PJdISfkFVq53m\n",
       "eYlx0L/jsA5+yPeEPKFPPqsbI3nRtPSQRSN5hZOsc9kZPplbN2NSFrrdX/Q1nIWRlGNt4rwKTiZZ\n",
       "8Qw7T2SsW8F63zDVpXgcoBuJa/wc35XJagf5dc0vheMxTGdc2bF8wEE7kjy86KlPjC9KxGSPZnUP\n",
       "+ISpLnWE8viKadZINnwyy6UfHtuXdPp9A1sf+1BvJ1zXBz4k4mSnYVcCXw5Ct07ph9UJU126Hdfr\n",
       "Loeu8RszwENKxboEjywzFBb7QfEwjlulTnwO1PBlwkfo+4XVpf7ppO746xoXzMB+xIrQaTxGiHnB\n",
       "rn7UoY7kDaJhzqHxZ7YsoCa5hr80hB9+4agbO/jsGYvGxfwUSzY7XxKa3Gk8KmTOtuKROL6vQfKi\n",
       "WdjIpi38c/bS5csq6jqww9RWd/EGzaJxFT/FRpr5H5EDQ53Gox/v6b2N9RAae9d+tJM8OHST4y6X\n",
       "LLOL3BNedXkquWGXVC47dL60iEfU52WWZ54wzbilRNMNLxI7M6hx2d14COPepTzzxCvsawzhbLOW\n",
       "6I3vd8Bld+MR9qGMvfPG9Nf2u5q1tJnIJ02yu/GQff7Plnfe8Ed0O9GspV0mou1yD+ABO3yKeeYl\n",
       "po1LrH9DCllHkWkuux2P232KeeaFUzNqLp7nstvxqKjexfzyZhL601x2Ox7mWXOf1xsPF02y2/GA\n",
       "kz7lTgbTU+fouxiPRT7lFgXSUSXPZffjEc34eKiZIDq6tcBl9+Mhn/HxQM4E0E/5DS4/UDwC+j2D\n",
       "TZp3Qb+8VkMswyVddR/M7xnIubZ/z+B58+8ZiD6XMrF44/183iRJkHK5B6j8P8gSvmb8RvR3AAAA\n",
       "AElFTkSuQmCC\n",
       "\" style=\"display:inline;vertical-align:middle;\" /></a><br>(see <a class=\"ProveItLink\" href=\"../../../__pv_it/theorems/38500564f8173b66a8724e3e9d7c78223e5e440b0/dependencies.ipynb\">dependencies</a>)<br>"
      ],
      "text/plain": [
       "<IPython.core.display.HTML object>"
      ]
     },
     "metadata": {},
     "output_type": "display_data"
    }
   ],
   "source": [
    "%proving left_polar_decomposition"
   ]
  },
  {
   "cell_type": "code",
   "execution_count": null,
   "metadata": {},
   "outputs": [],
   "source": []
  }
 ],
 "metadata": {
  "kernelspec": {
   "display_name": "Python 3",
   "language": "python",
   "name": "python3"
  }
 },
 "nbformat": 4,
 "nbformat_minor": 0
}