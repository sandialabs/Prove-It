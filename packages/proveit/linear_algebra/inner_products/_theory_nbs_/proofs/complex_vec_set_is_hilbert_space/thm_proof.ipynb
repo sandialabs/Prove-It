{
 "cells": [
  {
   "cell_type": "markdown",
   "metadata": {},
   "source": [
    "Proof of <a class=\"ProveItLink\" href=\"../../../../../_theory_nbs_/theory.ipynb\">proveit</a>.<a class=\"ProveItLink\" href=\"../../../../_theory_nbs_/theory.ipynb\">linear_algebra</a>.<a class=\"ProveItLink\" href=\"../../theory.ipynb\">inner_products</a>.<a class=\"ProveItLink\" href=\"../../theorems.ipynb#complex_vec_set_is_hilbert_space\">complex_vec_set_is_hilbert_space</a> theorem\n",
    "========"
   ]
  },
  {
   "cell_type": "code",
   "execution_count": 1,
   "metadata": {},
   "outputs": [],
   "source": [
    "import proveit\n",
    "theory = proveit.Theory() # the theorem's theory"
   ]
  },
  {
   "cell_type": "code",
   "execution_count": 2,
   "metadata": {},
   "outputs": [
    {
     "data": {
      "text/html": [
       "With these <a href=\"allowed_presumptions.txt\">allowed</a>/<a href=\"disallowed_presumptions.txt\">disallowed</a> theorem/theory presumptions (e.g., to avoid circular dependencies), we begin our proof of<br><strong id=\"complex_vec_set_is_hilbert_space\">complex_vec_set_is_hilbert_space:</strong> <a class=\"ProveItLink\" href=\"../../../__pv_it/theorems/a47e487ed3b1f72295cfc05ffd5b3a5a492ffe9f0/expr.ipynb\"><img src=\"data:image/png;base64,iVBORw0KGgoAAAANSUhEUgAAAQgAAAAmBAMAAADKCRg+AAAAMFBMVEX///8AAAAAAAAAAAAAAAAA\n",
       "AAAAAAAAAAAAAAAAAAAAAAAAAAAAAAAAAAAAAAAAAAAv3aB7AAAAD3RSTlMAq1RmmUTNIjK7EInv\n",
       "3XZ/CtNrAAAACXBIWXMAAA7EAAAOxAGVKw4bAAAEkklEQVRYw7WYbWhbVRjH/0l383JvkqYOFae4\n",
       "qBT7YdpAURBHd90iDBQJOvalY4taK6vVZaPI1GITEP2gNtmkH1rf4iaCzGB0b9SxYZyjo5s4oRZB\n",
       "wuKchW1Q6raSzkHrc85N29zbm8tB772U2/bmyTm/8z//53lOAghd6+HQJXcLh64IOwWB93OikQ87\n",
       "xoAG0fX5xpyDwF7BOE/BQYivBPejNecghKjffneQAd6KmCX+cRICHwpFubI1Zt4wcNFmiLVCUY1R\n",
       "XlZGJl7ZXdi/JRpI2gvRHwG3xX2WURk+6x8n8fkN9fVJNOptmu4pFnbuKBa8J/F2EZvPLC+KsVhE\n",
       "tRg+qOJx9vtFS4h13MR/UZ4+ouJubDEy0m5lEpCuA88CBgh6Uz6FBxJW6ZFAmhk0awlxG7u95ScB\n",
       "XCpOI+YzyEli9tMI9Poe4CW99UmCQ+QkK4jQNDz0XiViCVFkt1V+pmzUO43fWrTHl0qlRC0ETCBC\n",
       "qvbEapXuWTSQ6zzWzrnJbtle/rcUxhXuU2y+bFDCDCJDEB+RpaJWFeAq8FOpdMYa4hrTNfyuocZ0\n",
       "G7bj1SKH6Gy/SLr2XlGlngtHdq3+5Ra03owTfM/B2Eral6ljOchPHIuwCAy0TzJ5afyNwLDJzEvt\n",
       "wnuV4RaeMfSTxUTtLzY1fZrlriSIl5PohG8Ukwis74+S8xGan38BCJxCXsWaJNmwLyKdZhFyFkE2\n",
       "wBywk1ZpAqHq5CKHbTVALDPmHv5DKNviNHdjJHhOZukH7L9rPgpPGO4ZgpAq6IJ7lEU0jyFU3W5/\n",
       "TonXyjx+GGvDtRDSDPfEG3qI90p0ZZdDdFJxUzM0aYGm1SAomBJAhUxJLHdUZOYxHnH+Ey4nPXaX\n",
       "lxY1cMcg7lFyK3LLlMCwXw/xZR0lGES2dUNbW4qm5RBRvg723w3Ij91b8c2xxswiDpy/XoVAon2x\n",
       "bGxk1bOsKjgUG4/FdRCbWJ3AkmZBCwg1E6meQoI0FpNrtqrEmrivwgQBi/DmsC6leQLfdi/0pT/Z\n",
       "mC3Nbyo6T3ivaRUzzIvbYgUo1/VEJhWgR3EG4SGIX2mIae6JWVq0VHmni+RnEU+X4YpWs6+P/ud9\n",
       "SeZb3KLs69BByHNabepM7huv2Y/nDGUbQxyiK4c74TsFJcm2QkkomIjgC3LAKPIFggjN3t8XxVEW\n",
       "sWsM/mQ1+1wkCe9LEi8pLVAv6SDwo8Yy8vN4bf/8bFBrZOkdrIH9XUifXZU+ezuGm7fSnvU+dVRa\n",
       "XSTJm75DeNM3t5ImK6fonr5w+XhZjk0lecSJqcNsu2cWhmR9qWH70NBegjjg0dUJbDevYR0flxLi\n",
       "DdtTt5G6F89MrC/5CpoS0oP6qCftODXUh1DOLZiP9yVeOR+io4Ohldtxzg3WPc/6F17R+tJr5A7f\n",
       "RBIufdTXkf/PQA5JWh7clvJgZGjQDFV19KC7Tei42PC9oxBHxD45zzgK8YOdrP/xCgnqHEiZPR14\n",
       "1BaIgKDtTc+pvrDfFohJ0cDnzXImZc9H0VHRyLxJFgVzsh0QeeEi5DX5Zkk62GYHxAfiobsd++KM\n",
       "HZP+BXXMSV0pw6iaAAAAAElFTkSuQmCC\n",
       "\" style=\"display:inline;vertical-align:middle;\" /></a><br>(see <a class=\"ProveItLink\" href=\"../../../__pv_it/theorems/4739a755daeb3bcebe03dfca6207ede4a3f386000/dependencies.ipynb\">dependencies</a>)<br>"
      ],
      "text/plain": [
       "<IPython.core.display.HTML object>"
      ]
     },
     "metadata": {},
     "output_type": "display_data"
    }
   ],
   "source": [
    "%proving complex_vec_set_is_hilbert_space"
   ]
  },
  {
   "cell_type": "code",
   "execution_count": null,
   "metadata": {},
   "outputs": [],
   "source": []
  }
 ],
 "metadata": {
  "kernelspec": {
   "display_name": "Python 3",
   "language": "python",
   "name": "python3"
  }
 },
 "nbformat": 4,
 "nbformat_minor": 0
}