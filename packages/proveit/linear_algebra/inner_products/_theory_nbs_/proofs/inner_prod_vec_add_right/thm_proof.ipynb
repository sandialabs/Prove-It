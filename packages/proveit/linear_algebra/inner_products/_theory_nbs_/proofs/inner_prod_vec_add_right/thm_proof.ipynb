{
 "cells": [
  {
   "cell_type": "markdown",
   "metadata": {},
   "source": [
    "Proof of <a class=\"ProveItLink\" href=\"../../../../../_theory_nbs_/theory.ipynb\">proveit</a>.<a class=\"ProveItLink\" href=\"../../../../_theory_nbs_/theory.ipynb\">linear_algebra</a>.<a class=\"ProveItLink\" href=\"../../theory.ipynb\">inner_products</a>.<a class=\"ProveItLink\" href=\"../../theorems.ipynb#inner_prod_vec_add_right\">inner_prod_vec_add_right</a> theorem\n",
    "========"
   ]
  },
  {
   "cell_type": "code",
   "execution_count": 1,
   "metadata": {},
   "outputs": [],
   "source": [
    "import proveit\n",
    "theory = proveit.Theory() # the theorem's theory"
   ]
  },
  {
   "cell_type": "code",
   "execution_count": 2,
   "metadata": {},
   "outputs": [
    {
     "data": {
      "text/html": [
       "With these <a href=\"allowed_presumptions.txt\">allowed</a>/<a href=\"disallowed_presumptions.txt\">disallowed</a> theorem/theory presumptions (e.g., to avoid circular dependencies), we begin our proof of<br><strong id=\"inner_prod_vec_add_right\">inner_prod_vec_add_right:</strong> <a class=\"ProveItLink\" href=\"../../../__pv_it/theorems/655397938d686905a8f4e35c168fa9d014884c070/expr.ipynb\"><img src=\"data:image/png;base64,iVBORw0KGgoAAAANSUhEUgAAAmgAAAAzBAMAAADRF+lnAAAAMFBMVEX///8AAAAAAAAAAAAAAAAA\n",
       "AAAAAAAAAAAAAAAAAAAAAAAAAAAAAAAAAAAAAAAAAAAv3aB7AAAAD3RSTlMAq1RmmUTNIjK7EInv\n",
       "3XZ/CtNrAAAACXBIWXMAAA7EAAAOxAGVKw4bAAAH2ElEQVRo3u2bb2wURRTA3/3du7277Rm+CFF6\n",
       "KhEDiBdQFCHlsBSICB7yCUtsgyJKDDmCkhQInCR+UApXNRUOAiyEIG0jLH8KoQWsoHwQxJqoadTG\n",
       "LUUNlhYUFGgT65uZ3b29vd1yF2yMcYfM7d7ee/dmfvvmvTd7FMCs8fX1ItjNtNXX15t/EOrvj9l4\n",
       "zNuO/lsW0OI2HOs20YZmQ7Oh2dBsaDY0G5oNzYZmQ7Oh2dBsaDY0G5oNzdC62woS57D78pBL5q2b\n",
       "zEPZp2hz6oD/ZWiNhYlfwF6Vh9zmvHVzJbka4xU/YvTIrNMRT4Qwuf5ALjQHOTqjgwytICtOCV8O\n",
       "5iE4Im/dXMlAJEc1hi+dSmfQysj1xbnQ3MTZvIlBhlaQlT3kpTUPwVDeuqF8dImaV2SdQXvTzCUR\n",
       "mi+c51q4I2gFWSlVb7tJ80QH9BYrXU1S0zfxUuKgrhjrDBrBl2OExLQlea6FO4tphVhpUQKM6dKV\n",
       "B4xLVrqapKZvEg/pTf2cdQbNhYi9ZolgPB4rBx1aAVacleoyux20nHBjrbvYoM+bDIaGjxdZZ9Dg\n",
       "i/b2s2bQgu3tP0iDDq0AK26JBWO+Z9h65pz8xSjsNEDb0MZFYXTeuqMN0AT0oX0de5uVtedrTy5n\n",
       "SeQA6wq0mQBbzKC5k+AX/0lCI9UTQQetACveKAvKbuiQZ7OI5GyBKQZPWXrsgBrNZ7eT9tWAuiED\n",
       "NPI+Jgx3KzljT9fWMMsEE1hXoC0DDq97ip8C76d6aHh1GZ7OvR55/RaLktzx7415ruFc81R9CL4c\n",
       "gZ6u9aZzdsXpl8FrMYhloClWrJrOOoTw7ntwqI/DFHEIvbIO5zY0e9KcCE3AUn+WF1jpqpKq/lwc\n",
       "aMLV61BsroQA3lJSYYxhXYHmFwNE8TJAuZhV3G6hEkIL+G6gn3ak4+AP58zqLoCX9N4QQdeZajr/\n",
       "nezLPDincl1xu8Wqwt04tFazTlswzuaYhOnKFTEow3my+HCNY5Rho2vAWfiMA7XUpZI6/TKyA3Bn\n",
       "AhuPw6UVRop1BZpTpnngXRDi2TuCsTRCI6gApp5pSXZuAu2KvnqOBIHVxTmtjH3BT0rRo0Iba5EH\n",
       "3DMhY12buEA94LwqVCH6bhpiGierpawRmqmuKqnqd1LpTFZZQ15I4FvAugINKkvIB9e4JsM2yusi\n",
       "ukVR8MYUg/4wv21dB9S1jcW5lMgrFk4j0I5zL4+ICSWoLnT+HPEOA47bVnJY5A4hpq6OBArChUlR\n",
       "GhiKoqtEfXXUqFgRLq6ZgW9fCNMNiu/bN+Js9Ir1zBKjyc1zA5T/TjGduGI2tHnAq+WyLqZZ6qqF\n",
       "tapPM2xFghe18k1kKfZh1lVoB0mt5LsxWTZACzxINFOzmj+OQB0o931txBvhfoeF+K/Uc2oVQtvV\n",
       "BgtGSrXwEcAsCEa4H7+OQyohVDqkYCIQc0tEUOJkjgw5tfw86KvMRsXKL46ahTgruddHGLjfOgw8\n",
       "K6CYdcWLyQA3AV/raAGJoCHLQ3V+ddLOCHH0nHLZUrfKkAj8CaiL3wMBAIrtfsDbSIu5iayr0FYT\n",
       "u0LfqhYDNO4TYLEulcD7p0IT/TLXC9t9V2G+rxfg3h5cbykR39Lr3ghGv7+gGuAPLuGP7k9we4ng\n",
       "9VHgIZavHD1O719NBhq1EvXLuPy5Xa0C/YST1AqdWVeq9zBdKc6bu1s8EdhPbsJUqIhmT/rtY11t\n",
       "JuWype5BAzRcro+88ww8B/yfxJW2bj+RZAtjFusqNAcNVzVw1viU4252Q8jIJ6TT6QiFBg6ZuwrD\n",
       "XafHP0bcgiavanC1gCPmuYrQeBIvEdpp6OqWKzAXoSDM7487ybDTECQxxKeDxqwUUTIOyUHHvhHV\n",
       "Xk2n31OtKzVTKy0J+DnyiHF48h1JLiefNSwvyXkmbrLJtNRtNRbHrbC7x1mKmNrJVgnGLFLKkm9Y\n",
       "b9Q/GsLgcUU0ezR0jY58veZpCjR0LToSCm0D4Fsv8zQHMUI8LRT1/7pWBCoouiopqGsg9BqWJ2vV\n",
       "kKBmg0kaSDjRJ+msK60ta1s5ir4eMdsRmGwyLXQ1SU1fc1KnqH8UwrWyngUNF0FQMoFGEv41UApQ\n",
       "Cs1PoG2H92GfztMwxK0WYQisjhTFsfBKiULNfjHU45d4GQVxaDXknpIvI/4syNnQuJYjEOMlCCUr\n",
       "AA8rHpqvFNyKdaU9mrWtxNEGKvlTZht2f+5jEwtdTVLT18JhQNPdROJslHU9NGFHE4zpM4F2qS9x\n",
       "329J4DbT4vbsyuLY5EU7r7vOxAMn5WV9iYZzmDS54qMQ6MH0F+jsfsVd3ixBatxFEEqfWArNPYCC\n",
       "zjmTEsT0pT7R+aWkG6rqaXPKe0TfKXCWfgB4eHoypquqZMa6nsUStYBC8CHZIVk+QzJkAnPdXEmt\n",
       "HNqnlWqVCssqMHja7Z7cNqTTBTzNrTa5Vp45rTN9cuuED9F/8cCGeixda/gGmlFLdHsxZ0mZqfnO\n",
       "3EsWurmSLnUVaOudllublF4QtMJayqxazayZGerJCf1vBM/DcE8lOVg2Umk68jAfzls3nIcy0RIS\n",
       "rHd/NmjQuGKzVdOk34WatCjM66IH+9co3QrJOfmPNvt3z0GFtnGSTatQaL6w36ZVKDSrHzRsaANA\n",
       "C4m8TatQaJ5D421adva0odnQbGj/I2hP2n8ka9Xq6y9ZQLP/SNay7ei/9TfjVof9JhrotwAAAABJ\n",
       "RU5ErkJggg==\n",
       "\" style=\"display:inline;vertical-align:middle;\" /></a><br>(see <a class=\"ProveItLink\" href=\"../../../__pv_it/theorems/f291383b97a45f98bb01bd65635e5be8516d22b30/dependencies.ipynb\">dependencies</a>)<br>"
      ],
      "text/plain": [
       "<IPython.core.display.HTML object>"
      ]
     },
     "metadata": {},
     "output_type": "display_data"
    }
   ],
   "source": [
    "%proving inner_prod_vec_add_right"
   ]
  },
  {
   "cell_type": "code",
   "execution_count": null,
   "metadata": {},
   "outputs": [],
   "source": []
  }
 ],
 "metadata": {
  "kernelspec": {
   "display_name": "Python 3",
   "language": "python",
   "name": "python3"
  }
 },
 "nbformat": 4,
 "nbformat_minor": 0
}