{
 "cells": [
  {
   "cell_type": "markdown",
   "metadata": {},
   "source": [
    "Proof of <a class=\"ProveItLink\" href=\"../../../../../_theory_nbs_/theory.ipynb\">proveit</a>.<a class=\"ProveItLink\" href=\"../../../../_theory_nbs_/theory.ipynb\">linear_algebra</a>.<a class=\"ProveItLink\" href=\"../../theory.ipynb\">inner_products</a>.<a class=\"ProveItLink\" href=\"../../theorems.ipynb#hilbert_space_is_inner_prod_space\">hilbert_space_is_inner_prod_space</a> theorem\n",
    "========"
   ]
  },
  {
   "cell_type": "code",
   "execution_count": 1,
   "metadata": {},
   "outputs": [],
   "source": [
    "import proveit\n",
    "theory = proveit.Theory() # the theorem's theory"
   ]
  },
  {
   "cell_type": "code",
   "execution_count": 2,
   "metadata": {},
   "outputs": [
    {
     "data": {
      "text/html": [
       "With these <a href=\"allowed_presumptions.txt\">allowed</a>/<a href=\"disallowed_presumptions.txt\">disallowed</a> theorem/theory presumptions (e.g., to avoid circular dependencies), we begin our proof of<br><strong id=\"hilbert_space_is_inner_prod_space\">hilbert_space_is_inner_prod_space:</strong> <a class=\"ProveItLink\" href=\"../../../__pv_it/theorems/499ae72b31f12a132bcbcd67bc8e0e1d88b4ad620/expr.ipynb\"><img src=\"data:image/png;base64,iVBORw0KGgoAAAANSUhEUgAAAZAAAAAmBAMAAAAYddAjAAAAMFBMVEX///8AAAAAAAAAAAAAAAAA\n",
       "AAAAAAAAAAAAAAAAAAAAAAAAAAAAAAAAAAAAAAAAAAAv3aB7AAAAD3RSTlMAq1RmmUTNIjK7EInv\n",
       "3XZ/CtNrAAAACXBIWXMAAA7EAAAOxAGVKw4bAAAGoUlEQVRYw81Ze2xTVRj/ra97e9eWOcQEQlhF\n",
       "I4k81jg1GHC7ynjEmVkSY6IjrgaF4CZeEoJokBUS/5GxNshryOQmTBICs4URCE7DxkNUUIcBjM5J\n",
       "eQQSp3XAFjYnzO+ce7eunR3Irq3Neu7pOfd89/y+x+/77hlg7OdppP4jvW68TEtWGoBgrWq4yMfT\n",
       "gQNmw9Unfp0WIFhntEBbOD1AdhvtW7lqeoAYHpot6cEB4YbBIfJnmoDgQ2PFZQRTtnMlvjPdWOkj\n",
       "PKnC4XIDu2oWXFmDl/nvCjd4mDxgjPgAU48w6yq1y+LDfm55k/xPK5acu3pPdTx8189eSIWFbnmo\n",
       "J02k+8Z6pOfWw8VXO2XMZNeFxgApYE3he99Re18ixiReF8iC8EX8UIUXdX5M9g1VlNBkcQllwvUA\n",
       "r08sPqxiSjTIt9nu7TLeoMv1hKmKJATJxgvis88IL/bRHocCYvFAlLdQ517gUW7GdtjIBzLdxgBp\n",
       "ou/9wFeASecvV03r2dsCCTQnAimjy1DKdRCxqOyG7dRnTmzqgpl8zGZQCPZodqdLhqZP62L1DixS\n",
       "6ksEspWCbSjieIgsL+hBZGM3iteAb1pbTxgERPMnaydtJsK7sZCvyBLLZ0fHQWshFO/DC99OXMiB\n",
       "HHLzbm2UxWtDNOBFbo+X5JTXF44E8ts+BWob9vI14sUoQ11ENCHqDpnJVCTRo+cAWwzKr9eg+yty\n",
       "NXpfOFDzzmxGa1pbqbh8ODrhOhv/5AhYV/wB9gh2u3HIC1dv72vkNMdQJ5uOYxaEw5jnZ2t2AswP\n",
       "5wNrrLrJtGC6RdAgEKal5X6YNIzSZy3q/h7/k9jZLtQMCDD6RtvWDJXYORBxbHd19UltxDcQiL2R\n",
       "JRqtPQ1cQytUVLQ0XKBp6jrDELuwkbMWto/t9cCWBVMnASlVbD5MUtiaeSqYrb+nDVs1o8PUqHu1\n",
       "Xc30whwOueEkCVWjN8CeBVcjqiC0Y21sm07C4sdTQwBhPkWCC7LHj+/QkJHbtv7YDyTIPI63InlC\n",
       "GV5h41pMUzdAjNMjkWZDXjZSSTwkQyJBHx9SQqRivsbZfYVNHmMxoruW2M5aus8UoVivQojsTVud\n",
       "wxiUAyHTxAH5TSOL21qEuZWoRYsUjLNIDIipIy9vKl6NAaFuLu2/W9SAeLhWCAi6UZudqwRI+3yN\n",
       "9HmvrANRdeHWRh0IfPk8M1EqAy6iD4i0jQGpzL+koj4qLHhwZk6DahsDQajJ36cK9RSXbecVmsKF\n",
       "aZ54IJRNzHo12pwEiHZnWQxImWaRDt0ibLBLs4jpGMVUSNalvwNzl+ZaVp5HrASwWY8R7OW58Qng\n",
       "jK5Ce0vDwUZUMCABxeSzuS2eeRPCZC/h3GkvDbl8GWGHkilbwjT1WFiI9AW7ZgeSaWnXRqJJgLCM\n",
       "Y00A4pCZFRbxGDkD5tcsRrpGyChdvoyCzc3WTAGIyPARfYvnUjOLlBbsI8wVjL929J482Q6NCTTX\n",
       "CnGLAJ0BWIMBlXUhnr/FhwTF7gkpgkpTmzse7i8cbvEYoVxoa5T8nOPdA0oUG4egtZVeHGARj4DG\n",
       "B9QVv2QvmCu8yPHgrBs7KNiPoy5MQP5Y/dYRZCpszSQVm+j2PYwcN86WJpOlLOE+wszgz7zBeMy8\n",
       "qLp6XQKQI9Pz8rx0pT+JeSAbQtvvkVJWPdPUi73evt0e5WogDTm61nL+lUa/pBeN55rm5DSt3tYk\n",
       "8hZCYZsy969sLHnzKtsH62JpwyhaURQNnELW83uobxsZHQVx3JRdv6C2+ApfUxJtY0/jobtr683Z\n",
       "jITYgNjZzzjNyJChJZlBFuErKyVPBuMuNuT02H+tUHlgiWqsKlrEVxMEy81ndLEH9RLlrk4AkhbA\n",
       "Tn+s/26fG+hZQoYtoqfGAUACijlo90gR2n1I9FPxsAQB1RUMqc6oPSxFaOqCHKuKnjX4KCMpEPOA\n",
       "mRk8vffTisMPR2QM3vazhHhCvdzzfo5c24GVeW2sahByDiCzCJaShjACj1yCa8bUxTTMpkzF0/rf\n",
       "1gqMPXtwJj9S2BQrJ4K67vXPSoqVUwqkg9UbbiO+MvlUyG0kDmtOk5Jsbmd/z67c7btpIPmUXU7Z\n",
       "sUkf5YNneqpi/r2InOSHcObGdJ2i7Df4WLwzXUAO/78Vc+eHKoNdoWracAQ6/Il15MWUnAY7BrGM\n",
       "mGUfjsBBJwarkJIzu8uDecc/PInzE35vTg2HHR+cg1RpWCLrEmjwJ6TifL5ucP6y1ucNTzcJ/84r\n",
       "yUvFKeoH/4HM5WngLInVv38DoukTTgM3a28AAAAASUVORK5CYII=\n",
       "\" style=\"display:inline;vertical-align:middle;\" /></a><br>(see <a class=\"ProveItLink\" href=\"../../../__pv_it/theorems/954b8799a564988b1cef9382d536c330295545790/dependencies.ipynb\">dependencies</a>)<br>"
      ],
      "text/plain": [
       "<IPython.core.display.HTML object>"
      ]
     },
     "metadata": {},
     "output_type": "display_data"
    }
   ],
   "source": [
    "%proving hilbert_space_is_inner_prod_space"
   ]
  },
  {
   "cell_type": "code",
   "execution_count": null,
   "metadata": {},
   "outputs": [],
   "source": []
  }
 ],
 "metadata": {
  "kernelspec": {
   "display_name": "Python 3",
   "language": "python",
   "name": "python3"
  }
 },
 "nbformat": 4,
 "nbformat_minor": 0
}