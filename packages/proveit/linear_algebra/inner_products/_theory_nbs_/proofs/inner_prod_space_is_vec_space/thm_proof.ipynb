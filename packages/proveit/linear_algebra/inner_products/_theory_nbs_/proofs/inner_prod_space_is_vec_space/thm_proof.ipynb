{
 "cells": [
  {
   "cell_type": "markdown",
   "metadata": {},
   "source": [
    "Proof of <a class=\"ProveItLink\" href=\"../../../../../_theory_nbs_/theory.ipynb\">proveit</a>.<a class=\"ProveItLink\" href=\"../../../../_theory_nbs_/theory.ipynb\">linear_algebra</a>.<a class=\"ProveItLink\" href=\"../../theory.ipynb\">inner_products</a>.<a class=\"ProveItLink\" href=\"../../theorems.ipynb#inner_prod_space_is_vec_space\">inner_prod_space_is_vec_space</a> theorem\n",
    "========"
   ]
  },
  {
   "cell_type": "code",
   "execution_count": 1,
   "metadata": {},
   "outputs": [],
   "source": [
    "import proveit\n",
    "theory = proveit.Theory() # the theorem's theory"
   ]
  },
  {
   "cell_type": "code",
   "execution_count": 2,
   "metadata": {},
   "outputs": [
    {
     "data": {
      "text/html": [
       "With these <a href=\"allowed_presumptions.txt\">allowed</a>/<a href=\"disallowed_presumptions.txt\">disallowed</a> theorem/theory presumptions (e.g., to avoid circular dependencies), we begin our proof of<br><strong id=\"inner_prod_space_is_vec_space\">inner_prod_space_is_vec_space:</strong> <a class=\"ProveItLink\" href=\"../../../__pv_it/theorems/6565a8a7ee2bdf636787a849f7dbb0b97cc883bb0/expr.ipynb\"><img src=\"data:image/png;base64,iVBORw0KGgoAAAANSUhEUgAAAcYAAAAzBAMAAAD/ZLUEAAAAMFBMVEX///8AAAAAAAAAAAAAAAAA\n",
       "AAAAAAAAAAAAAAAAAAAAAAAAAAAAAAAAAAAAAAAAAAAv3aB7AAAAD3RSTlMAq1RmmUTNIjK7EInv\n",
       "3XZ/CtNrAAAACXBIWXMAAA7EAAAOxAGVKw4bAAAHpElEQVRo3u2ae2xTVRzHf+vrPvoYqFExkV2j\n",
       "gUQJFIcGhIyOgRJnoPxjQkZceYiCBC+RII+RVf4yYaybhhBIYBcDxo3oKqCLG48JIsqGPIKGgNPO\n",
       "IQQK63gMGMXV3znnrr3tukmTXlOWnaW9veee+7vnc87vfH+/czOAZEWsqVFgYJSamprkF+yRiGuA\n",
       "MFZFuvpgdMPAKRMGGQcZBxkHGWNlil6GP1cyhdE0RC/L/LlMYXxZP9NjM4SRP6afbUHKDEaLXz/b\n",
       "4rHMYByjZ16cnxmM5/U0XipnAiN/T0/rgj8TGLMq0mhMTvxpbMwExmxn+mw5pNjvt+g3d4Mx0hD8\n",
       "bG/GLHI0OHVm9NEBb41UwtgTlXHyMyFyCmDt/S3Rih1Tp5j6tfWCaglyfvY6WMfPMMZp5PBOb0YT\n",
       "mUqLrDPjZHa4jZ/jCZdmkm7+GgsEZ8HwW7+RwkO+/8HPMzhYi2ndq4zxIzKnFb0ZeTLBq/T21ceZ\n",
       "8oSxD7cSRZH0OfY2wur6j5zI5FQtGYnPjqN1IcZoQWirlGQ9kpHYrTfj96z/ndizG2rV5ZYWOiPC\n",
       "Hax0xyULQn+mbHRNdoJYR8+o44/xUkYj4luSaU4uHj16M4ZZ/zuw/2oUefOKesmAE5uliQNHEbk/\n",
       "UyNUS+uZSbogfRLT1eMtLU3JGG0tLb/79Wa8ydQV14rtJJPCxdFrzQDlAMuDLhALGyRD5BsyAk3j\n",
       "8rH3ecF6FKGG3cDN2At8WzuZi0JqyWNk7m2lWlrrZIzTAbYkYzR5QVB0RmTiDsWnhg7NYX3TqNxB\n",
       "CV4H/ihchBLJ/BOEIrexV81u8QwYjqKacIdgjrdMdniqAcj4zKeW/CE2VkbqgtkBxrgMOGQ250wB\n",
       "yw9aRqxdllagkdFAFktzGONBXDYhpgmWONEZAnYXZEsLCZU49gTO+lxcZG48K5YtHhglY3C4MUcB\n",
       "gnKaWgqamEkDDf/ZfsYoKFaysq8CFClxOcAWIN4x65a0vItFG27f+cRYsqu5IV8bQ69K0B5cnxSR\n",
       "6AcagyWumFqaO+nhffxUsYeXtWBhMm+5g7f4nGCpD6sjcgJgATog3r7zoFyL/eeR+j171yVy9Qi1\n",
       "5ORus7YdlNHFGA0BOnaV4HDH5zmjqeQ4GoFHhYPyYRtB6L1nH0ofG1M/CV08PynjdmbMjCupKGEe\n",
       "u9QQiaU6doMhjJIzpiA39+NuYHpT7CYPw9W745Exsi9AdCk3d7y4n77wPqJaqvLS0WvUMoInj65+\n",
       "rj4hl7MYiQsglxXbm6az30kYQ3HbUlucGmrKNGbgb2JZiWM0d7PARp+suaO5nCmjSEIniRvZXjaP\n",
       "hiOYIJHppPevBuNd1VeJpWLaScNJ7XqE3UTK+DuTAgmM1hEKyygtaK2NEgwRt65rheqzoxE8L7Bi\n",
       "3lTCuI9b+JwL2oIKONouSpangOO25u1VuD1IFWyVsSH8NdFJdSHbuYbYjMZjjuqq9S4NbGytanox\n",
       "8xzKLfbYvRD7TLpUytajF6eneOUK9DIJ46t5NMCj2HqbaslOg5CxIpoOE8YSAu4Ir2lMYORogPYV\n",
       "NqDAiRWMEUoli4RqOA//CsyH1iDjZ2dhzki/4BZPonzbJO7PM7iKUO6y/DbZ6jL5SUM/F+CI4/s+\n",
       "+IUOcs+CFLvp00h47FCr5mlEBzvGHwGrXOKEOvs8EFE6l8jieeKCoXUfHsYrZW6oG6XAJmz9tWrJ\n",
       "QT3CRMNeqRofIYs4sFABTYn7jieBaREmzmZnD6MiBLh7sA3X9Gyy+Xu6HZ3Pp4APBxLrLRLwrd1Q\n",
       "BtDJyYKzVua+IA1vPQ9mMkqhun3UOaO5I1Hy7VXXA6aqLnUCt2+MKp+F9GL5jDoQp7bLWebCoXg+\n",
       "N68V88zho3f9ATtmXAJualAuag+ShhuYJdgX2RQl8Lm1eyuc1ZCSbG9VSTGNizZv/oQyQlaA64Dh\n",
       "xsO5L/E488OoGAJMAnjM3IGMIlomFYcheC1QjHdiQ5gdcRuIt2wGGxlfPsq4qPe6Ldra0k96taDP\n",
       "K3av9mxt7E3KBM0mx+ZPxniTYvL+nnlUGYk28ydVxg2EC5bSecwiukHm0e4UrpQqVMR5xeihXDfB\n",
       "cU/rq/BGqkG2b0ajS3tWQL/3a/fIjqp6GBVOwkjixk1QUyHKKBDGbfApfKWdR1ylx3Dpl0jZbkwd\n",
       "fIqjolaxtwt+MYANkamCaA4x1hQnLJNTzaRO9X1pkzaBquhxwgd4D3A5LD9zHb1glZfkAE2rc1yT\n",
       "3t5+y/ij23ogsCws72rGiMPlYKp/4IIM1rZr75qKGvzge/ECOArGL4WGdsCGhhkTZdKFy2HFcILs\n",
       "H6KpRK2UGuKs+0/0ea1aG8PkWDr8wO86xO82b3zwrpQlqStK1hvBlcbkVxN2LrE06o6O73N8yfaw\n",
       "sTzwtdgiatQz5bd69GPkcpJtyuq1mWuPe3TqyWiT/u/3cmKvH1i+1ZPxama8J7d5E2vKJ6bN+KEU\n",
       "GdP46Liolhjv+SFC2l64elJjTOOj48v8xPf33rSZLpFTY0zjo+PLlwnbbrsipmv9n4bUGNP36EQN\n",
       "Xhx/bt6TmybLgjNFxvQ9OrGs1EvOdkKKjA9xGWQcZHzYGV8ZQP+je7kPxgH1P7r/AtqmOrlolisT\n",
       "AAAAAElFTkSuQmCC\n",
       "\" style=\"display:inline;vertical-align:middle;\" /></a><br>(see <a class=\"ProveItLink\" href=\"../../../__pv_it/theorems/1e254182a020e73f435c2699cfdf143759bed4530/dependencies.ipynb\">dependencies</a>)<br>"
      ],
      "text/plain": [
       "<IPython.core.display.HTML object>"
      ]
     },
     "metadata": {},
     "output_type": "display_data"
    }
   ],
   "source": [
    "%proving inner_prod_space_is_vec_space"
   ]
  },
  {
   "cell_type": "code",
   "execution_count": null,
   "metadata": {},
   "outputs": [],
   "source": []
  }
 ],
 "metadata": {
  "kernelspec": {
   "display_name": "Python 3",
   "language": "python",
   "name": "python3"
  }
 },
 "nbformat": 4,
 "nbformat_minor": 0
}