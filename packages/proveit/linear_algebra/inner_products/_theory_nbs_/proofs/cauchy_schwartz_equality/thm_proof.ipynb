{
 "cells": [
  {
   "cell_type": "markdown",
   "metadata": {},
   "source": [
    "Proof of <a class=\"ProveItLink\" href=\"../../../../../_theory_nbs_/theory.ipynb\">proveit</a>.<a class=\"ProveItLink\" href=\"../../../../_theory_nbs_/theory.ipynb\">linear_algebra</a>.<a class=\"ProveItLink\" href=\"../../theory.ipynb\">inner_products</a>.<a class=\"ProveItLink\" href=\"../../theorems.ipynb#cauchy_schwartz_equality\">cauchy_schwartz_equality</a> theorem\n",
    "========"
   ]
  },
  {
   "cell_type": "code",
   "execution_count": 1,
   "metadata": {},
   "outputs": [],
   "source": [
    "import proveit\n",
    "theory = proveit.Theory() # the theorem's theory"
   ]
  },
  {
   "cell_type": "code",
   "execution_count": 2,
   "metadata": {},
   "outputs": [
    {
     "data": {
      "text/html": [
       "With these <a href=\"allowed_presumptions.txt\">allowed</a>/<a href=\"disallowed_presumptions.txt\">disallowed</a> theorem/theory presumptions (e.g., to avoid circular dependencies), we begin our proof of<br><strong id=\"cauchy_schwartz_equality\">cauchy_schwartz_equality:</strong> <a class=\"ProveItLink\" href=\"../../../__pv_it/theorems/1691ee31339f88adc27794077151bdf0a1d2399f0/expr.ipynb\"><img src=\"data:image/png;base64,iVBORw0KGgoAAAANSUhEUgAAAvkAAAAmBAMAAACsZZmYAAAAMFBMVEX///8AAAAAAAAAAAAAAAAA\n",
       "AAAAAAAAAAAAAAAAAAAAAAAAAAAAAAAAAAAAAAAAAAAv3aB7AAAAD3RSTlMAq1RmmUTNIjK7EInv\n",
       "3XZ/CtNrAAAACXBIWXMAAA7EAAAOxAGVKw4bAAALSUlEQVRo3s1be3BUVxn/srt37927j6xSqfgg\n",
       "qzJlLK91UhiRips2PMaIbkf9A2UkQlGLnc7ijGigNgtDfYyUpGAHQi3dthaHiQkbolQayCQgxaGt\n",
       "ZmhBLKZzIbW1hUkzQAyG0fid133sngvJTC6bw7D37J5zvu+7v/u9LwB4PXwjI8nR776HfgYSUKqh\n",
       "r/Wcxd4cvceRkZz3t+OLj2FzgG2ugtKNxzzHRHuDXSMTDf159NNfW0L0/XHPWXxmYqKvnaSXrbkS\n",
       "og/bPecQSkxI9IN5evn+6HY3t33EC4F/5zko+skJif4cKo9veHS7U7DMC4ED3rueqgmJ/jn6Gc2P\n",
       "bvcg1Gc9EFgd8hyT+swERF9jSt8wSqk+5w368KT3jj8/AdEva6SXKeQjA0Q/NMmurLV8pHg1I3YU\n",
       "HXH5Jp480Xo2vVtuEmO7bSLH82nz8HROgVHxd01A9MtZWXYF/yp5LYWXOsmuXeaySJxtI4bphNoo\n",
       "O2LB2ChVR3wmisH8grTWuzCmuyZyxNZY8G7azcgzFupljj7F5lPeol9GrzeveBuoO9SGLPQPSHZN\n",
       "M5fripVnBv4NJ2RHzBGWgusj7PpY3EnJ1mXBSK+uTqSktzLDzCH4eJyTZyxe5+gvItfveot+gFhg\n",
       "MHPTrV9gZjlgod8j2RUVy2pKLaSp1/INxUfkX6xBWAVZD0BW7O2VnWnJwixpZUjlcPjFI5w8Y7GY\n",
       "o7/J1RbHD30t7uJECsZk5v1rTfR9MsUiukuX636+pVD5A8lCTS9W92ly5sTM/JRfbECyfK/szO/d\n",
       "6nIqRxH6hDxj8T5HnzwLuS2Oo99f6+JECkY3S4PjJvohWYAkukKX/zoyUrgWKfLyxa5+l5w51Q5a\n",
       "BvmuieKPOGw+73J49ad6z4iyUKq5EZChT8lTFnOyDH1/knHxFP1KvI6id3Odxd68ib7U3Imf5I6p\n",
       "aNwhrL74iMMpyOps4sVW08Bzmf/UB6YC+OynlIe4zf0azyTd5JCgv1qwaEjwnOfV3t6XvUY/0tv7\n",
       "j1GUUFeszIfBi7ff2g5RZpo401K+N2hEc0O/hihmEvSLSTjFsGazGTa9ZctbYFbOQZaG1TZ65gpP\n",
       "Qola845zIG8TZb1weHOuY0RTHmyvnoQupb8jpz24pH+qkIMAbnGi6LcJFvuTHP2lALu9Rj+QhdDN\n",
       "k1uWh7GEj8GLkTA/k7kiOitrVAZp2LSjH+ilIy6UC5fDvi7uxvgs6gi65McpsDLtJEvCLuux/o/t\n",
       "3PoqofsSFTyYtIliWlJsZGQNongcWlIwM4PROvpBlrit5qHV4nQJOHnKotzg6K8DdVwbGz6Whxh2\n",
       "9JHDulGUugz9BhN9BQN2YjFP9rTEMogY5M4xhXLTfaLw9wFsRiCYuvNZwKx72HIP/IUnYRZZkv3N\n",
       "tHnAGFNKjfY8UektUSwv9NzHRpIQjINvENFXhiDUxUyXyKEes3OiOjVTsKDelaAfyoWJ+VTco35l\n",
       "B1PBw+cKE7nmVzqq7P4tdhRi/X+U+5K5AO9WvWMEHNXWbviDdLONLX4ZpBeqkxRexExH4TVq7mTW\n",
       "kAVSZMVd0T8OFMUc4rmZ/sBnNOvS/w3msnYNmIQWWRJfG+hvV+lCt+h5krMRmygasYm/89WtAxBM\n",
       "gY5H9G8i+o1MrVEOdXLazkmfnGDkKYvyFEffZ9Cge4kVO9umPAGhYlv4AMD99u+r0GHJe4F6HPbd\n",
       "Dp/OK3k7+rOLg652viltspXrPrpo0vCMcULDZLdBC58bod/HCh3DbJsaolZ6HczlWFcRWWIsKyz0\n",
       "YR27A5X2uxF9UxTdTHOSVGUQffgP6FWfdKAPW3bbOYXXcPIrHOhD7UJeix1GC11KwrwU/fft37eT\n",
       "DEyKPurriwb487DWjn7QbxRurM5abF3QJ+kJmm6YU67F3VqaZidufv8Ur4uWoZdmq2xmK/X2Uo+M\n",
       "9/hoAVnizWfZ/f7nGeEs9zyWKGYNSB7DNa77M9Oahf4pUd6anGjhO0uwMP0+HFjL8437eR0ciutP\n",
       "bT4P+87OjkN4obF+VTVB/7D6nWkp6LuIR/oXroJv5yBT99rFL8LGu9IQ67wd2vvhwoIkBjX9s2nS\n",
       "ZDpgRz98Bx77VjyMQCjn4Tf6CarXJlsedVmuUW/lPDupKkxHC2ZKcY7efp17zrOH7MuQG8fwozMI\n",
       "SCCylXpsOZonD8VOltYE8225Fy+MWIgNGUIUHP2C1mk8NkD9/jU0GGXoZwL9PSLJFJyYjs0XLMpF\n",
       "zgMPE3i0qx0dl7lNIZf6RDCBKcgq/HOvcnQjov/sWVgxPR9K6z0k+zoKP/nvItKReRs+Ciew5qsJ\n",
       "JgJz86oB68H3g4y9pKToq+hEdWOYzFvLc/NhDexj6k7ZCqfFdG6/YaKPziBci0Spxw43Kt3wdVa3\n",
       "uaHfxjsyB+ERJES8HZ3ZSz2yfAhWxJW0kywtOWtsuRfAh8CM1+E4F4UmQKI6PZOAvRh1T0BLHtGP\n",
       "XZse5Oi3CfQ5J55x1ggW9SLfhzJiWuidEEslKdDPhQx1GPZoA7CcdN0/3v9P2ndvII+1PocPBbZV\n",
       "GBpG+PSPYIc+BBsaQNl19U6A5eB/juZoyx09zg/jTT3bQ7RgwyyYCu/AV1n47mJNNTb+xOrElIk+\n",
       "SRSrSKnWS0hWdz5Tk2SG74b+Y9wxBCbhxihpgdKZo19Elmveu629gGyUKzOqxKDNSXGr0XqEKERN\n",
       "pnyDTeJfa8MnFJzUj5+bLrx35F8V3Zuf7hZyEMAFJ4b+acGiIe3oMCPiiIT/gaam7RR9KDPQpqb6\n",
       "j1XORYxZy30rbX3fBitJ1M2BNoArkWSs801lAFcqK9PLR9LwCdAepZ7yF0Ud5rI8ca9oLMcxyM1r\n",
       "ampKcLZiPMA0q9FE32yB+HLObqQb+tGsXdHvdDQw7Q0dCVliq2oPj8NWS1/n87OOVO0Q6zTwKjkl\n",
       "l6Oo1iXkGQsaBSz00REhElpe6D5HH3WfPvYpXLFQ9x9iuo+Y9lDdfw32/HaYrmg5fy0BHaMuPpxp\n",
       "RehH0jRlOK0PYLLwSxtbMb7EwmCXib7ZnwmD03G7oe93vBTI2484GzrFZHeK5hiEZZ3Vu9zrFAn6\n",
       "VI4i9Al5xuKI8+0Kpn0kEuw20Q8R9PfADmi16z5Gg5NQllSPwiCWUOiT3tWH4U3jSWgNJfULKUwC\n",
       "0IA3LoGwYYYmC/1o9ofQDPA9ZcCf4bUvZys6zPQ3/7DVYRaJU2tBr9cNfYphkN+Vbkjbw0FL4VsL\n",
       "2j91wg9I3r64N8ijcbkcl+w/LObk68xuv4V+7OkXfBXom+uypNp6eUNF6u41z1z1v5QOdxrrrmea\n",
       "X3kRf694AaDzLZSic+GZ7KKODtCuzE7BW5U/NXAXdPT7vrwgQ6TUDzYtZfyd6CvtSdiagPv6FmBF\n",
       "pu6yseVjPyurLlvwLuQr9ny170bok2AustuY44illxYxw9H+ETKXyxpnumsXXqnozkjlsL8j049x\n",
       "8jutrKrozaJ+qOmJ0TcVtC6JLPkCaQveLJoSNTc1pQv1iyH6K0LaUAmhMgnXuLUs6RUZIClE4jf4\n",
       "JoISeQIMxZVSNX9kTP0WIodaZd6s2pZg5BkLZWgc3utqstcQS3gRk5Gir9yII3vZ7PJW+9aNg55z\n",
       "CNeOA/rrrsso50S7R4a+/0b0dJbq7U+XFv2jnnOIJMYBffnI2T5hbP+a6qBNM0o2Yl2es2DxeKL9\n",
       "W7YIe5H055KiH0ncIusqRn/bglKi72daP6+k6L/tvXXVytHX4qFSos/eCdEXSSUb6gnPWTyckaMv\n",
       "/UcEtxD9FiqX/rcSot/iuePRT4Ec/WhOH3f0x/L/tlRW3K7PlQ79HZ5zCFE8JP9vS2mvLG2292P2\n",
       "ELIlE0D3Pt193pz9H7KGVwggdtB3AAAAAElFTkSuQmCC\n",
       "\" style=\"display:inline;vertical-align:middle;\" /></a><br>(see <a class=\"ProveItLink\" href=\"../../../__pv_it/theorems/596a14d068a56b173ceb706e68adbb1920b6a12b0/dependencies.ipynb\">dependencies</a>)<br>"
      ],
      "text/plain": [
       "<IPython.core.display.HTML object>"
      ]
     },
     "metadata": {},
     "output_type": "display_data"
    }
   ],
   "source": [
    "%proving cauchy_schwartz_equality"
   ]
  },
  {
   "cell_type": "code",
   "execution_count": null,
   "metadata": {},
   "outputs": [],
   "source": []
  }
 ],
 "metadata": {
  "kernelspec": {
   "display_name": "Python 3",
   "language": "python",
   "name": "python3"
  }
 },
 "nbformat": 4,
 "nbformat_minor": 0
}