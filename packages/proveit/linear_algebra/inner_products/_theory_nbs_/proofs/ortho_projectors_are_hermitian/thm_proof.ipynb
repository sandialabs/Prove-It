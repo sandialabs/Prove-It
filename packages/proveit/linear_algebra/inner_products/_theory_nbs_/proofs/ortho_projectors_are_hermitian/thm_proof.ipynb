{
 "cells": [
  {
   "cell_type": "markdown",
   "metadata": {},
   "source": [
    "Proof of <a class=\"ProveItLink\" href=\"../../../../../_theory_nbs_/theory.ipynb\">proveit</a>.<a class=\"ProveItLink\" href=\"../../../../_theory_nbs_/theory.ipynb\">linear_algebra</a>.<a class=\"ProveItLink\" href=\"../../theory.ipynb\">inner_products</a>.<a class=\"ProveItLink\" href=\"../../theorems.ipynb#ortho_projectors_are_hermitian\">ortho_projectors_are_hermitian</a> theorem\n",
    "========"
   ]
  },
  {
   "cell_type": "code",
   "execution_count": 1,
   "metadata": {},
   "outputs": [],
   "source": [
    "import proveit\n",
    "theory = proveit.Theory() # the theorem's theory"
   ]
  },
  {
   "cell_type": "code",
   "execution_count": 2,
   "metadata": {},
   "outputs": [
    {
     "data": {
      "text/html": [
       "With these <a href=\"allowed_presumptions.txt\">allowed</a>/<a href=\"disallowed_presumptions.txt\">disallowed</a> theorem/theory presumptions (e.g., to avoid circular dependencies), we begin our proof of<br><strong id=\"ortho_projectors_are_hermitian\">ortho_projectors_are_hermitian:</strong> <a class=\"ProveItLink\" href=\"../../../__pv_it/theorems/a37f10eb55fd51641ba96f6be33b0be08b44a94f0/expr.ipynb\"><img src=\"data:image/png;base64,iVBORw0KGgoAAAANSUhEUgAAAjcAAAAgBAMAAAAcSkSXAAAAMFBMVEX///8AAAAAAAAAAAAAAAAA\n",
       "AAAAAAAAAAAAAAAAAAAAAAAAAAAAAAAAAAAAAAAAAAAv3aB7AAAAD3RSTlMAq1RmmUTNIjK7EInv\n",
       "3XZ/CtNrAAAACXBIWXMAAA7EAAAOxAGVKw4bAAAG8UlEQVRo3u2ZbWxTVRjHn7a3vb1td1cikRdf\n",
       "aNRo1IiNC4mGsZQA4WVqakxMkA82YGIgincJMUEIq9+MzrVKJhZlvYvEhA+yhk0TNiADph8ATTGY\n",
       "JUK1wmKCc90042VrwnzOObf3nrv2bu0ofGEnu713p73n/M/vPM9znnsuwL1ZbOG73eNDGWUWMjMD\n",
       "d0ufIzwzHIF8DGcC9KhmiczmJtfdm7zHjEtZtfiNGKcYg+y4d+B4DH3S1het7KLh3oQjcaP1WlkO\n",
       "1KgGHD+peLRacGzkZA9WCKeaGqYpu4k7Jcfnfb6hZMy5OvnpojdVkP0GnDWk/q1qwRFIny6lQjjV\n",
       "1DBNaSQftWjeX6ngKuFV19G4zoBnwoDzgR6EqgHHTbDvrNStqqlhmnKNfMSyAM9mS8Fx30Kjx2OL\n",
       "AceFLuYNVC3mbMPTkUrhVFODdXETk4CRKB4pkIrdSr6JRx5gvQGHnKoVExFOXcVx2QVV1WBd5DT5\n",
       "TJIjWgqONIoHAvqHW61+ymTOVg+OL5O5lKp4taqihmmyTTpp48x/bNGi72vjzOneUA046wD2Vw+O\n",
       "gJNiWiVD5cCZokGYtYIniu3FsIw4CyzicfRggS4aQoYWuloSMLt+IeeoAacJRPxyx9tRsLMp9xy7\n",
       "qH6fj66AQ6PiAfMwc0MfzwAH22rCqyfHFdtJOjksztqT++DBhRhZEomEwnfG4DANzmTjygV0GOyb\n",
       "jWPd8/SFb0duqCDjUJ+W1B07230fl6AEyPOB0bamQZ8dF2Eg/9vbFS6dIY880LuMnJvDBhxJ9YbB\n",
       "keoMQA3Wti5qA8kPch+0gjgKn3A3p4lZrJwpCdwP35HLfm1uNDjgC8FaHE4bTT8LnelwqAaAFQDH\n",
       "OTiONHjT2q/s28A9oMlAXZqj+MFlWKZXgQ5T20zDJh1eSAssFiWpnTs5OPYsymuFTgVa0M7WkQYo\n",
       "HByKCQ5W+YBledPBWcri8YjaAzwceYLkpBIFVujMgEM1AMzH+zg4thDIhbE0453Dmgwejmwa7BpT\n",
       "20yDS+Utp9Z6tbhe6IpzK4jQp4kYwGqAK1CA40kSOC0Ngyp4G7LvbV79Sr7HtRhE8UBDtyp2Yd4m\n",
       "n1gAXTm4vDzIw3E5stRSGlUTHOgnQndp/7DOuMcHpuEUwHkOjg9twK/96n4ypQEmQ7y5FBU29BA4\n",
       "3j6sgytD2NtwCtKmtpkGPUegcGKm1YKPOe58QZzCwTlCchN4AeBX8NChSBd7j/ZBM4ETU+wR2Ayr\n",
       "nKd2uXHK/rgQxio5Ykv5FOiGRldAWJYSszwc7+NqIWkwwSH5BTyi/UM74+FQDeIENIU4OM2qOB8E\n",
       "jFKJvXCBuqYm4z+U1AbfIhzPM1Gsk8IexCKkxIipbabBXnA8G5EyYrmPI1/TLvjVCnYTcN9Mnjs3\n",
       "Cs6gbjnQSS0H80r3KGzEBApVgfvPW7RKVKSg5wa8HwPnF2NPmdxKPMkCQP8UOMeIxlfZNeuMh0M1\n",
       "OH7OsbY0OPW5y3rYJK3WhpgMhNiOoqSs7fdcmOR2aCzt2GXKGTe1zTQ440ZcAHjXetUsKKrnn8rZ\n",
       "kn8DHBFwbE0kPpsC57TjdN0ylIR/HmK0pAqGhrNObKy+ri68cTJseipfSC97Rsxu5T1M8tMO7Ye0\n",
       "Mx4O1WAr+JAGZx6/j0YsKcBkYMx52NGHIYnaAlbU03DlTdn9praZBncBjhMVrJ9st9rkSo5rHrCy\n",
       "aMvCmSbxz50qbTngTqOIrzEa19CqmqD0N84fmTK3aowzwu0I+EImOD3Qb/g/66xoy8IXNMM5TUUz\n",
       "tyLJx3FNBoGDolxZBidNZGwncAgHo21Ng+5W8EN5udKWIjhCCDvTUjEOTkxxxGEvHCZmM/phbRgz\n",
       "kpgqxzvVmhx8CYfRuS6HdM/h4GzA5YmHI6hAp7ExynU2FU6zYoIj3uB3OAfAOQBMBsJpx6izWy1Y\n",
       "jisgniFwSEBmbXtSugY5a3oqn3lLbKIIji8Kvuxi2BmluZX6V/6jJaGDY7CnDlMv74lsUx4DcErY\n",
       "1JuC2HODIK96fjupht6c/eXlylQ4npd+g47rQQPOwYzqWUJmxHmUJIFaZ1PgyMkeE5yreT5R25Hr\n",
       "xWSRyugYc/wY9ubWEqGs7sSgQuHsKwzEfUrXIOnyWsrbaPYXwdmDLn9eAc/RRNsMN7dUthNYaidC\n",
       "68xyJ1Ca1aODkCUJn9a2Xa8+ZDxclfXgX6PcxjZp7PbhzLRNOis4r+GDtqBbyet6/dpSe8jTlNvZ\n",
       "QxaXpGYPx5agz1Z3BE7TII37WtEHxr2OgafLGd+devvwTon3VjNumbqK31uJs3/BMG2No4w3eQIJ\n",
       "dMOXgvSYK+WX1uVzDCz3Wf3SHASrIkXnGFgv8qpnDoJVcXbVzUHQy/+7SD2x8Fv12QAAAABJRU5E\n",
       "rkJggg==\n",
       "\" style=\"display:inline;vertical-align:middle;\" /></a><br>(see <a class=\"ProveItLink\" href=\"../../../__pv_it/theorems/3addd7e9b45684154cb7983af68860d9caa20c2e0/dependencies.ipynb\">dependencies</a>)<br>"
      ],
      "text/plain": [
       "<IPython.core.display.HTML object>"
      ]
     },
     "metadata": {},
     "output_type": "display_data"
    }
   ],
   "source": [
    "%proving ortho_projectors_are_hermitian"
   ]
  },
  {
   "cell_type": "code",
   "execution_count": null,
   "metadata": {},
   "outputs": [],
   "source": []
  }
 ],
 "metadata": {
  "kernelspec": {
   "display_name": "Python 3",
   "language": "python",
   "name": "python3"
  }
 },
 "nbformat": 4,
 "nbformat_minor": 0
}