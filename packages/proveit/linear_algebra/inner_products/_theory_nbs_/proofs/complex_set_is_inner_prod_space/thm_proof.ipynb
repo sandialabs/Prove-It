{
 "cells": [
  {
   "cell_type": "markdown",
   "metadata": {},
   "source": [
    "Proof of <a class=\"ProveItLink\" href=\"../../../../../_theory_nbs_/theory.ipynb\">proveit</a>.<a class=\"ProveItLink\" href=\"../../../../_theory_nbs_/theory.ipynb\">linear_algebra</a>.<a class=\"ProveItLink\" href=\"../../theory.ipynb\">inner_products</a>.<a class=\"ProveItLink\" href=\"../../theorems.ipynb#complex_set_is_inner_prod_space\">complex_set_is_inner_prod_space</a> theorem\n",
    "========"
   ]
  },
  {
   "cell_type": "code",
   "execution_count": 1,
   "metadata": {},
   "outputs": [],
   "source": [
    "import proveit\n",
    "theory = proveit.Theory() # the theorem's theory"
   ]
  },
  {
   "cell_type": "code",
   "execution_count": 2,
   "metadata": {},
   "outputs": [
    {
     "data": {
      "text/html": [
       "With these <a href=\"allowed_presumptions.txt\">allowed</a>/<a href=\"disallowed_presumptions.txt\">disallowed</a> theorem/theory presumptions (e.g., to avoid circular dependencies), we begin our proof of<br><strong id=\"complex_set_is_inner_prod_space\">complex_set_is_inner_prod_space:</strong> <a class=\"ProveItLink\" href=\"../../../__pv_it/theorems/a4b306e6ed96a5720cdd3243afef7734ae7885890/expr.ipynb\"><img src=\"data:image/png;base64,iVBORw0KGgoAAAANSUhEUgAAAOEAAAAdBAMAAACuzRYrAAAAMFBMVEX///8AAAAAAAAAAAAAAAAA\n",
       "AAAAAAAAAAAAAAAAAAAAAAAAAAAAAAAAAAAAAAAAAAAv3aB7AAAAD3RSTlMAEIm73c12IjKr72aZ\n",
       "RFTgyeMAAAAACXBIWXMAAA7EAAAOxAGVKw4bAAADe0lEQVRIx+2WX0hTURzHv7fdbTf1zmEW9AeS\n",
       "EUlkuCgNpChiEUXlMiSyf6tovcV96EWRGhJFPrQ9Bf3VHspGCZceIljQENKiRRehQIgaYgRCKRbN\n",
       "cmW/c++8Z1fcirA9dR7Ofvd3zvl97u/fuQMKMRSrULa28UTbPwU6klOU1/rjFVV4ud6yY6ApGp/p\n",
       "ZHP9t8trVKux7RqERCIZz0ccNCkOdrq3Hyi2EhH2znw0HIHzllV1RkN5CEP+PEDBzym7ASm+mpTX\n",
       "ppmJzHyW6R9XWFSlGqrIWD5iicopj4C5bubPYmPtmM/n/x0xvGk6sYF+vHmIRVmUIjdsTp6CV0f+\n",
       "wMd3/unEOqpANQ/xPTjFrqJZMqPk3M0tS019wUswZjh7q/Dq9uBenVid1MUlwRe00RMMaxgZ0wC5\n",
       "aWXiKoU36HFD6PEk0Xo0jnMPjtOmHnDKnAjaZPP17EqWL+INhJXM3K44/Lj3YYLpF9wFE6WtsAWw\n",
       "KIlqDY7JyYMUr26UxzGslPjRkpTvSF04LnghkrX94BRKeKscMInZ0bN1olTNzDuAn/DBjTObPSdp\n",
       "mUSxAtI4avRaxeIrkyrsEbh+EFFOoRGuLjGO0o834aDtu8Aprk6KsBnVdh8N7xTRi9KAMUsToOrY\n",
       "x/RGgZAYpqYeE74CSzX96CjscQhpaoX+lDDGGoneoaK+loWtG5wijcLmNstsnsVHTnSlY7GHOMCJ\n",
       "JI4Q6LNkEClg8g9GxGcIzz6lmBojz2OxUFl9OkOcosidkPVOkdmTmIMo/WS6Bk5sMHxMZ3xkyvGM\n",
       "j8OalGKu6hucbjwO6VE1KS7qrd4Bkp/oN1ZgZiKibLOVWBRnfu3R87iTbI/qeRxHGnLqfCNZLqKy\n",
       "fhvAXApALTilmCw4avqEIaNbDmXdcnadZcztGipZ+SBs9CKJ0h1KE1o0dKjYksR8yloXyiuI6Bj/\n",
       "0KKiUurGnNM3YaNErgCnlLB8ltV96TNACze4jZu8Pvq0I3pxY1TSZzgTR5WB7zfQfPgbO8BEtHqu\n",
       "U5n0BMPbEHmzgmT71SDNF04eWRYQEkEFrb2V8vLgKtp/FpwiatbboX+tz/+3nyR7zs+HGOLyqVn8\n",
       "COYmFmetPJ9FohjJubTOlJze2QPKHVEl1xpvdJtSkH85cJptdwL/RwHGufsFBkoRW4GJtlChgyq6\n",
       "hQIT5ZWxfw/5BVPXLB3BQHPiAAAAAElFTkSuQmCC\n",
       "\" style=\"display:inline;vertical-align:middle;\" /></a><br>(see <a class=\"ProveItLink\" href=\"../../../__pv_it/theorems/54b35412bff65a487e4031d1adcd8b56b7e75c290/dependencies.ipynb\">dependencies</a>)<br>"
      ],
      "text/plain": [
       "<IPython.core.display.HTML object>"
      ]
     },
     "metadata": {},
     "output_type": "display_data"
    }
   ],
   "source": [
    "%proving complex_set_is_inner_prod_space"
   ]
  },
  {
   "cell_type": "code",
   "execution_count": null,
   "metadata": {},
   "outputs": [],
   "source": []
  }
 ],
 "metadata": {
  "kernelspec": {
   "display_name": "Python 3",
   "language": "python",
   "name": "python3"
  }
 },
 "nbformat": 4,
 "nbformat_minor": 0
}