{
 "cells": [
  {
   "cell_type": "markdown",
   "metadata": {},
   "source": [
    "Proof of <a class=\"ProveItLink\" href=\"../../../../../_theory_nbs_/theory.ipynb\">proveit</a>.<a class=\"ProveItLink\" href=\"../../../../_theory_nbs_/theory.ipynb\">linear_algebra</a>.<a class=\"ProveItLink\" href=\"../../theory.ipynb\">inner_products</a>.<a class=\"ProveItLink\" href=\"../../theorems.ipynb#hilbert_space_is_vec_space\">hilbert_space_is_vec_space</a> theorem\n",
    "========"
   ]
  },
  {
   "cell_type": "code",
   "execution_count": 1,
   "metadata": {},
   "outputs": [],
   "source": [
    "import proveit\n",
    "theory = proveit.Theory() # the theorem's theory"
   ]
  },
  {
   "cell_type": "code",
   "execution_count": 2,
   "metadata": {},
   "outputs": [
    {
     "data": {
      "text/html": [
       "With these <a href=\"allowed_presumptions.txt\">allowed</a>/<a href=\"disallowed_presumptions.txt\">disallowed</a> theorem/theory presumptions (e.g., to avoid circular dependencies), we begin our proof of<br><strong id=\"hilbert_space_is_vec_space\">hilbert_space_is_vec_space:</strong> <a class=\"ProveItLink\" href=\"../../../__pv_it/theorems/80d112d1caf2b91d6a7c0ca831a583554078f1310/expr.ipynb\"><img src=\"data:image/png;base64,iVBORw0KGgoAAAANSUhEUgAAAVQAAAAmBAMAAABpIX74AAAAMFBMVEX///8AAAAAAAAAAAAAAAAA\n",
       "AAAAAAAAAAAAAAAAAAAAAAAAAAAAAAAAAAAAAAAAAAAv3aB7AAAAD3RSTlMAq1RmmUTNIjK7EInv\n",
       "3XZ/CtNrAAAACXBIWXMAAA7EAAAOxAGVKw4bAAAGEElEQVRYw81YfWwTZRj/re31rtd2nR/RQIw0\n",
       "kPiHIqsWDAQdhU0gQrbyjwlCXPkIBiR4JARRgRX/IjLowoc4ZHoJ00hQWwEhMJUKkhmZ2TDzc5mW\n",
       "j7DExlKRCTpkPu9712vL0pK5a+KlvY/3fe+53/u8v9/zPHeAudsMlGKTV5hv01ZREqjYqppu8rHS\n",
       "IIXVdBdIX5UIKrabbdAeKxXU981mQKVaKqimi6CnVEghXjOZqn+XDCreNNdcWZOJxpT8k8fNherx\n",
       "mWer3AscaFnWtwXP8usGLzhdx5ljPsIdsOYFsinm55cpg2eBDTf2GA2tNTNsRW09RGjv88l1O1HO\n",
       "HeAO4El2fM4cqNO4VmcvTBMXQvlddex532Yz5Q+wfFc0ldL9tQso9u8E+KxtIWxi8jKJY/ew3U7Y\n",
       "u4ZyoYFBDxiXzsBtMpvNBynAFuFuYCInRBp2CoVOrzlQP6e/pQKuJiPClrf0as5zULCxBvNyhaOY\n",
       "KRctjMo8uI/OmS3LdVhp+naTpDCgHaIx3cEQVmVyguUqPTs70tFOyIuZeoDGiPoq2NkKSVeAr3t7\n",
       "z5gE9Q/tUE/eu8nP1mazVwewjSSXDECe0+a1DH5MbU+fmTidYFQlj5PO2g5CrD0M6UKKcWUOsFrS\n",
       "07STSV8m47OBPSZllCva8TI5UUsuOXI94cVTkNpxCeu9wpe4PPgnTagjKHfD0o6ZEE9iYbhRKQ/t\n",
       "B4jqWAJsEXS+W7lEafKrIRLqNSvDsGizkD/pUY8MhJ/A/rTYkoOEliOV3FIsWWlQN3U2N++N89NQ\n",
       "nq4qWMTxeJcxcPIjneSmRUTqIF3VK/YQxivdwJWFKhI0/BuCJCR08sR1djlUZxDWWNQLN81z26hd\n",
       "cFSgPE7LJaaxNQdJF2xhTC8CVejnh3G/jx1byWkmEbl6f9QJd41UFfHBflxntNQJLCVi08h3TiiM\n",
       "3xKBf979Vx/rPc24qhNASrM9kd2SsDMaRRU0sqDIOM+hknvzoFKTK08ahbzKFj/C107OCYKWAbq1\n",
       "strv38xobNUoTVA9TWi9s1KJJJj0/P7J8qeDAR2qqt8uxHWoCFXxTAPUABeQgSq/zaA2Vl1U4axK\n",
       "rF1cM2/guH00RLGl6rAqHqLMkTyn4FAK56f68qGy6D9N0Rciu3WQqiIUFWX2TBaoPGHNq5bTlOaY\n",
       "c/n9L8N6XSOAwOOqQFPo0rmKgzwbTGHJRHODo6ftWBwNDGpEsYSwGNXCyVekOMRfumkRiftlMZfi\n",
       "DNhidq9tUkxMZGSlRQAPXddpLancfPUTRUhSRXAZPZxxrUHjatgTQP26tTQ/L8VlYQJwF41+i/61\n",
       "82g3k5agKRNe1rNY8O5gR0camuY0AkS5V4F+osp8Ku8IKqRzN3mTqDh8UUVUIxDeuPqgkQxvGvX1\n",
       "SrzHCZqTWxroMdJpOJX1Phx1L4ZMIl+pyD0gqJdfffEU9TQGcXS8it00+iNGuddnyQ+Tt22xTHgp\n",
       "CzNL11hMsC5vbt5+C9RT1lP+SYSTfjLjCWtC8rdEPavM/P7g/EEjCX3B983079z8PQc/6plsgmLD\n",
       "1tQehVyTUsqEOXfQ9aKqc0FI90848DNaa/sg1iSVBakkG8hFcmDvP7NYpcIapH5DvV0oC0ALukO9\n",
       "CqmLoO4jYbh5k9vn+LVB5QSXVKsRkpbzPXNKXbcW/IVjvcWqkqUFe9zh7PkGLkujbLcFYE/oySAH\n",
       "akQhouzAh8yl6c2eIEXhiFreFFXdKUdMTjh88vkADJ3PHW7SKAzVmi1tUM1TliFRVxiuxGi8FGYp\n",
       "4Ix6aeC1MYHWq9joT9KozxKrBxQcjtkWtMUQefQiyqsnr0IbiaYtZamdatTr04b7Fni2cNfubBJs\n",
       "0v2nbxuJs2cVyMead93GfGPhrugwK7R5N+4t2Lc/W9oo//UNI1K4yxEw8RU1EwLRp9VAyvBNjCn8\n",
       "WcIaL90b6xGTP9j1lw7qyf/31JFXgdy6bZs6EoOusLn2ciwPUaxU4RjRt8WQufay26WhGg6PzOIS\n",
       "k+0ZYm4fms9UeUQmP1DMtWfYHRqxhUP+kc1+hbn2MtuOEih1XUn0L7Pa6l/6s7uKhm+HeAAAAABJ\n",
       "RU5ErkJggg==\n",
       "\" style=\"display:inline;vertical-align:middle;\" /></a><br>(see <a class=\"ProveItLink\" href=\"../../../__pv_it/theorems/339a9daf3d5ec8858e9c33320ad0a75108f6975e0/dependencies.ipynb\">dependencies</a>)<br>"
      ],
      "text/plain": [
       "<IPython.core.display.HTML object>"
      ]
     },
     "metadata": {},
     "output_type": "display_data"
    }
   ],
   "source": [
    "%proving hilbert_space_is_vec_space"
   ]
  },
  {
   "cell_type": "code",
   "execution_count": null,
   "metadata": {},
   "outputs": [],
   "source": []
  }
 ],
 "metadata": {
  "kernelspec": {
   "display_name": "Python 3",
   "language": "python",
   "name": "python3"
  }
 },
 "nbformat": 4,
 "nbformat_minor": 0
}