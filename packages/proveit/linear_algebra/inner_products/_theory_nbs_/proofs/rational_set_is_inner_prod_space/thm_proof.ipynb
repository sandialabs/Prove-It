{
 "cells": [
  {
   "cell_type": "markdown",
   "metadata": {},
   "source": [
    "Proof of <a class=\"ProveItLink\" href=\"../../../../../_theory_nbs_/theory.ipynb\">proveit</a>.<a class=\"ProveItLink\" href=\"../../../../_theory_nbs_/theory.ipynb\">linear_algebra</a>.<a class=\"ProveItLink\" href=\"../../theory.ipynb\">inner_products</a>.<a class=\"ProveItLink\" href=\"../../theorems.ipynb#rational_set_is_inner_prod_space\">rational_set_is_inner_prod_space</a> theorem\n",
    "========"
   ]
  },
  {
   "cell_type": "code",
   "execution_count": 1,
   "metadata": {},
   "outputs": [],
   "source": [
    "import proveit\n",
    "theory = proveit.Theory() # the theorem's theory"
   ]
  },
  {
   "cell_type": "code",
   "execution_count": 2,
   "metadata": {},
   "outputs": [
    {
     "data": {
      "text/html": [
       "With these <a href=\"allowed_presumptions.txt\">allowed</a>/<a href=\"disallowed_presumptions.txt\">disallowed</a> theorem/theory presumptions (e.g., to avoid circular dependencies), we begin our proof of<br><strong id=\"rational_set_is_inner_prod_space\">rational_set_is_inner_prod_space:</strong> <a class=\"ProveItLink\" href=\"../../../__pv_it/theorems/4a5c7299c9cfae635a3ca88476b6fe1b439174a10/expr.ipynb\"><img src=\"data:image/png;base64,iVBORw0KGgoAAAANSUhEUgAAAOMAAAAdBAMAAACqOMYWAAAAMFBMVEX///8AAAAAAAAAAAAAAAAA\n",
       "AAAAAAAAAAAAAAAAAAAAAAAAAAAAAAAAAAAAAAAAAAAv3aB7AAAAD3RSTlMAEIm7mSJ2q+8y3WZE\n",
       "zVRISQrpAAAACXBIWXMAAA7EAAAOxAGVKw4bAAAECElEQVRIx+2Wa2wUVRTH/7O7s+3szs6uUMMX\n",
       "TVeQEh7qkKpRiclIsIZUcTTlIQlh09hW5NVQ5KVgozSgNjDhAzRG3YrEhk2aTExTYzaYsRAgaUhX\n",
       "RGli1ElIeITEGkGpZdvlnJml3SXskojsJ2/SO2fuvXt/93/PYwqUoonjlu70k6qrn7/HyHWAMK36\n",
       "ceId51f/FkPsiuatkLfv3njbw27LbG6Zlz/2ZjtQsWCRrxhRoe2bPsDyDUQz6X32bODY0fw10pXb\n",
       "/1a6BixL5R8jDeEwlO5iyAcBz1cm5BdV4HvaJUpbeIOx/H2uFfAJjQf/zB9Lw6MBR4oha4F9IXqq\n",
       "vUAP0e5rpjMY7tH9zyS674SURm5FhujevMWQrcDcKfScSdzyCCZLJFCxFzo+/ClyZ5Xy6K1Ibxtp\n",
       "L+bKFAR1Pxm/+wyETOyTyaGy+S3PrYhMbP3pziVNsWyPunpNHlz3iM5Iz5hjCjWvW/RStSoNJTOH\n",
       "fnPqvZ4XaKve+oconqY+CrHmYUirG+n6fFFyXz8t6Q/a8DTjOD0gxS4z6cdcNV229Fe2l9qwFuWL\n",
       "Vpo0LrxhOubHOp6EsAeeNLA+M0r43ZZwCEobXoK4ByeNDt2fmgx0goXJMda0XzERTOFVxVG5hkmp\n",
       "XORTwPVsH9AQtgOdAsSRqVV0QjYPAnHDm+KIhfD1Xlp6FhiyCDmgh1K4qB8Cxk5GQHcUsCFGWVO/\n",
       "34LSCq/ry+c4BT5MJBJf3ERWA39n+7hJIRKiMBPd5CFTGgPC0coYhLSTPXuBM0Alxe4Dj+mVFE8S\n",
       "HeJ04EoDTZbTFWR9GYH0B7z3j0esoOaqzEEO1SaTRkibQGpQiBRW4w6SQ2fAYmRYRcWOIT3OKq4m\n",
       "k98IszKai5y7NBuxcitkNy9t3qqzADLOs5wKN5FRV6XmquQECRuuSqUdcZ3F8gK8guA/zsWiz8lL\n",
       "cqhCkFqqPifc6tNYAFlOF2HlI7GTlYVU9mWAVKx0fWmENQy8toJU2LtI0XngbRJEon1cfd6hawzS\n",
       "n4drrOZuZecUvB8cpNNL7fDoAT66m5Nsdhg4DbEdZRRdv0L4GRjUhYOkHOs/W/wRre+wMP1iBE+A\n",
       "8wKYQTWWC7ePy3nd6G8LXZLQ8p1b1rcNbzwwvPXccLPbo65muvzuLlvcntnA02RCnD+DxFVUrRpp\n",
       "LpPnbyb7bG+TBWnT+UlfoqKmAeKCer2vsZ4mJHaY+PIvVw0+rsWEreMVVp6W6P7XX6gzBWcOc1dm\n",
       "9PJjuTNSFmu6ZN39R7EwssfpN/l3fOKUeG4Xnn3fvHtkV8EZr/O/gNIyOA+i+h9++U8Mv1VoaiLh\n",
       "s/QStCXjVgP+b6Vp0upoqZEHoJYa+XTpL/ZzREqN7Eua9x5yA7p7RbdGPjgwAAAAAElFTkSuQmCC\n",
       "\" style=\"display:inline;vertical-align:middle;\" /></a><br>(see <a class=\"ProveItLink\" href=\"../../../__pv_it/theorems/d9b3b002195c9774ad4875a2b6d92cbefdc057b10/dependencies.ipynb\">dependencies</a>)<br>"
      ],
      "text/plain": [
       "<IPython.core.display.HTML object>"
      ]
     },
     "metadata": {},
     "output_type": "display_data"
    }
   ],
   "source": [
    "%proving rational_set_is_inner_prod_space"
   ]
  },
  {
   "cell_type": "code",
   "execution_count": null,
   "metadata": {},
   "outputs": [],
   "source": []
  }
 ],
 "metadata": {
  "kernelspec": {
   "display_name": "Python 3",
   "language": "python",
   "name": "python3"
  }
 },
 "nbformat": 4,
 "nbformat_minor": 0
}