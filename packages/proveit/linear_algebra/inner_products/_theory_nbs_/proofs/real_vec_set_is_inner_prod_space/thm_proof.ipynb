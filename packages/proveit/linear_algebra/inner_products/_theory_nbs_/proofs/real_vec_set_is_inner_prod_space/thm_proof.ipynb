{
 "cells": [
  {
   "cell_type": "markdown",
   "metadata": {},
   "source": [
    "Proof of <a class=\"ProveItLink\" href=\"../../../../../_theory_nbs_/theory.ipynb\">proveit</a>.<a class=\"ProveItLink\" href=\"../../../../_theory_nbs_/theory.ipynb\">linear_algebra</a>.<a class=\"ProveItLink\" href=\"../../theory.ipynb\">inner_products</a>.<a class=\"ProveItLink\" href=\"../../theorems.ipynb#real_vec_set_is_inner_prod_space\">real_vec_set_is_inner_prod_space</a> theorem\n",
    "========"
   ]
  },
  {
   "cell_type": "code",
   "execution_count": 1,
   "metadata": {},
   "outputs": [],
   "source": [
    "import proveit\n",
    "theory = proveit.Theory() # the theorem's theory"
   ]
  },
  {
   "cell_type": "code",
   "execution_count": 2,
   "metadata": {},
   "outputs": [
    {
     "data": {
      "text/html": [
       "With these <a href=\"allowed_presumptions.txt\">allowed</a>/<a href=\"disallowed_presumptions.txt\">disallowed</a> theorem/theory presumptions (e.g., to avoid circular dependencies), we begin our proof of<br><strong id=\"real_vec_set_is_inner_prod_space\">real_vec_set_is_inner_prod_space:</strong> <a class=\"ProveItLink\" href=\"../../../__pv_it/theorems/ef5a89f2a1daf38e7afa7fa4d6a7d2ee11f916e60/expr.ipynb\"><img src=\"data:image/png;base64,iVBORw0KGgoAAAANSUhEUgAAAUYAAAAmBAMAAABKei8tAAAAMFBMVEX///8AAAAAAAAAAAAAAAAA\n",
       "AAAAAAAAAAAAAAAAAAAAAAAAAAAAAAAAAAAAAAAAAAAv3aB7AAAAD3RSTlMAq1RmmUTNIjK7EInv\n",
       "3XZ/CtNrAAAACXBIWXMAAA7EAAAOxAGVKw4bAAAFlUlEQVRYw8WYbUxbVRjH/7zc9t7bFuqIJhoz\n",
       "qmYbyaY0qS6+LKNKzUgwSzFmX1hcdbplwLJi+OAUBYzJYoK0YWELqKMTs2RuuE6YxBAd6BgvRjMN\n",
       "TpOtUjeD2UgaxkBAVHzOuS29bdp6Y4DeD6en5z6n53eet/OcApqep5CeR67QLJptThMj3vVpldyc\n",
       "LkRkadWOOJI2RjRrlNP508d4WqOxC33pY9QaClfShwj9rDZ3/DONjHhPk1SGVxVnxU2/rTCUO7az\n",
       "RdOkXCuxVbX+cfUw0LHTanSvKGKOZfNw+/5hWvN5/r3OAu6SD6Sc5WFQkt4s5LXhtXHkxkZQWVW/\n",
       "PdGs6rFbd7RaY5e/6oTscFjsqVbbCHirUfaYDzl8tsmOp9nn3pSMReCMfngbgLXYGb8Fb5KtmaG/\n",
       "GDtU50RnPR50pTr96KX3dUgiKY8fhNkuNLDY8aZkvCvCuE0HDMEhxi2cJDuw8aLYzJrrRDf5TSrG\n",
       "bCtnzHaT0MNc+ZPQkeUMlpSM/UuMEvST+LlAGb4RCLj+i9FzKZ6xkj5SqcSIMCMJGZlXZc4hi7h1\n",
       "qb14IcJ4z3EIZkwoTrbjpgY97nLFM75Pzm1Nsdh6hTHjY5qtY4LiFPBtIPBNasbbYUaxWeW3+ooo\n",
       "i1i1LbQWSgv99m7s+G7jXs543sK7H4WY2/eGPE4ULjgBoarLkUdGD/X6IJf2WlAzYUfT1nESKlUY\n",
       "31lPezGw3cu0fAnQlgAs6kj6KYXx4tgvqojWuVX6Mq1hwa+0je4cFy5suM3GP/karCv+BCmI0xac\n",
       "dyJncfFlsuIAOu3Y5KaAqLUIQ+IgxmUvTPRruxlj7f6/mZUUx/2HcgT0iYwVzQ9imLHrcbXhdGqb\n",
       "Sn0siSrtKDCFAHyou9J7jV5T1+SHOIcjPK7Rce+iFTozMmeIUZjFHmQOUn7JXTeCHBL/gevRdoL9\n",
       "cmZf2NUkn8GpPh9Hz2GLWc0ozIRt3WZTyTUG6PFGGL3IDSqtSKapxAtsXAkN6nooJhdk0scZvlIj\n",
       "Raod8jTZsXxWZt7uIWr/2DFmmgHOKHVwV5xk4iSXGYyqpOnuFtxn8GX7EunR/7aksvXJGD1GGTOn\n",
       "bbZH8VKUkbqFhDYvKoxWvmlixDzkJ++fZcMoLLbZ6k+NTS8xinbmf0JfmBGurUu5qYSdOUG7Ad2O\n",
       "UYcznjH7kCppmJIwKtKVUcZKRY/TYT2ywbmwHjc5xVmmTi6g96GoPmJrlBxktr4U9kd8WhEpFa6z\n",
       "oYJ1bxpi/FEfiWvZe111rgUTM7JsKsQxGu1Md/u4P/4IlmOZP86RhoTZQ3uIxUjO9WwQGaTkYwrj\n",
       "SXYQZnkjaaXWHC4VZD5UYPiwPIaRKYAx2mGTVJ77ouos1HE6pW10oocFDjxKiFFXHGKlfK0T+VZc\n",
       "tuAEed8gOv3EmDO3odaKHnEAhldGIJFDnmWMNZS2W8iu/khaySAN81JB4Lm1APYbMYy4AF73zLul\n",
       "I1PR0eMtineWjfWX5Pe/1d4v8hZ6x4S77K81qD5wiy3BuqjpvZP2WhryfA/zc2epr8sLUdtw7eYX\n",
       "QdkRcqNme4/wZegcuwjSDW+4/ShaD1hgYioRZyIrslIha19razMxntLF5EdmpERP+QcB1/8twHRJ\n",
       "Sx9TfbT/Bk9ASxU2KxVEv6JH4aHYac8sf5GYnDFL9aaYNYbIka+UCvy8eQT4Na42W/4rlyn5Tepo\n",
       "NFh5fEgRUaVUOEh6Fi+7kRE764xluRGF/P6kxXw08UruyC1AXV9+3tqSYJZkX9WL4FJS+523uzRd\n",
       "TbL60nkv/Ezbn1cz6WT8ajm3skLXRI1GNNYnGm16YjUYjRoDNuElSTRLq8E4rlVwd6Jor1+VKB/U\n",
       "KtmZIP5NPnkVGDs152Z9gr+lhS7bKjAe1i76apqiWmaVz79pL6wDwsf9WAAAAABJRU5ErkJggg==\n",
       "\" style=\"display:inline;vertical-align:middle;\" /></a><br>(see <a class=\"ProveItLink\" href=\"../../../__pv_it/theorems/9e3e705ac8cee61a30cb0c5faca9fa93c75c50370/dependencies.ipynb\">dependencies</a>)<br>"
      ],
      "text/plain": [
       "<IPython.core.display.HTML object>"
      ]
     },
     "metadata": {},
     "output_type": "display_data"
    }
   ],
   "source": [
    "%proving real_vec_set_is_inner_prod_space"
   ]
  },
  {
   "cell_type": "code",
   "execution_count": null,
   "metadata": {},
   "outputs": [],
   "source": []
  }
 ],
 "metadata": {
  "kernelspec": {
   "display_name": "Python 3",
   "language": "python",
   "name": "python3"
  }
 },
 "nbformat": 4,
 "nbformat_minor": 0
}