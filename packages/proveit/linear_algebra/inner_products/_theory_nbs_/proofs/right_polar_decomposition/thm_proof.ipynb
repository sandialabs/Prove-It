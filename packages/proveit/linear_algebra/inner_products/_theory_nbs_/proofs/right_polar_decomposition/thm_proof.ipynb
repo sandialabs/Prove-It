{
 "cells": [
  {
   "cell_type": "markdown",
   "metadata": {},
   "source": [
    "Proof of <a class=\"ProveItLink\" href=\"../../../../../_theory_nbs_/theory.ipynb\">proveit</a>.<a class=\"ProveItLink\" href=\"../../../../_theory_nbs_/theory.ipynb\">linear_algebra</a>.<a class=\"ProveItLink\" href=\"../../theory.ipynb\">inner_products</a>.<a class=\"ProveItLink\" href=\"../../theorems.ipynb#right_polar_decomposition\">right_polar_decomposition</a> theorem\n",
    "========"
   ]
  },
  {
   "cell_type": "code",
   "execution_count": 1,
   "metadata": {},
   "outputs": [],
   "source": [
    "import proveit\n",
    "theory = proveit.Theory() # the theorem's theory"
   ]
  },
  {
   "cell_type": "code",
   "execution_count": 2,
   "metadata": {},
   "outputs": [
    {
     "data": {
      "text/html": [
       "With these <a href=\"allowed_presumptions.txt\">allowed</a>/<a href=\"disallowed_presumptions.txt\">disallowed</a> theorem/theory presumptions (e.g., to avoid circular dependencies), we begin our proof of<br><strong id=\"right_polar_decomposition\">right_polar_decomposition:</strong> <a class=\"ProveItLink\" href=\"../../../__pv_it/theorems/1ad0c1257812a6cd10c80a794ea528bca834a6210/expr.ipynb\"><img src=\"data:image/png;base64,iVBORw0KGgoAAAANSUhEUgAAAh4AAAA/BAMAAABdgtzDAAAAMFBMVEX///8AAAAAAAAAAAAAAAAA\n",
       "AAAAAAAAAAAAAAAAAAAAAAAAAAAAAAAAAAAAAAAAAAAv3aB7AAAAD3RSTlMAq1RmmUTNIjK7EInv\n",
       "3XZ/CtNrAAAACXBIWXMAAA7EAAAOxAGVKw4bAAAJ6klEQVR42u2cD2wbVx3Hf7bPPvscX4wYKiug\n",
       "eGICjVLFEFJt6ijO1pahCmZAkdqVEVOEEN20XSVUqV3VeBJCFLI6g3ZbN3U5NFYpmqjddWJ0LW1o\n",
       "ValiZaRTp0l01kxXIbGWLOu/sIbNvL/33p3vzqnjEXvKU/Kz772f37373Pvze99zAtDEFK5W32/w\n",
       "owPV6jjMWYpUqxe5bSaPK/2rG+XR35+fOx7R/v6L3DaTx2TDHx2AOU5HJdtKPL5ZLpePz/Ow9Y+z\n",
       "8zzmeczzmOcxz6MVeAx/lHgsRuuta6uChjNHZ68Z+vJ5Vx76R6J//OzdtLq7ZKG4vwLQC+rKEwCL\n",
       "cMZP789DsMRB0OsPZaN3fxw2nQGosKCTHmZE80buaFceQVRTP3q3/cadyN7x+3HQkrBUQ+H0a/jS\n",
       "S8UUJLKwVubxW4Bu1IQs7OtL03x6uFbUe6Ft+4eSI7dZuQsfxkvBPCjZaEWbgugYpgRFA4bQBsyU\n",
       "eKwAWEmHR5JVQw+ZE06Pti2PBBor6OctcjiIryiBR8AkKLT7FwCWI1ApiQfaHqOxEqfv1H0pfsic\n",
       "cLrUtjyKWdw/NHqlB7DZiMfJMB4lON1GBk4wI3ioOdCu0P6BeGzafI4fIqdv7EIpDdGptt3P4aGf\n",
       "hzCdCI5hswZAe/C/J/9GcvZUT55E5woPCx7oPZ50sN6AxtpCUAx2GLaWG30Mgoey8P226x986Id+\n",
       "smvXryF6DefchH47DVhCy6cghK46KvEIJvmkg+ePYbTcsMOoxSOWhD8qaXi8DXn0AexFl0JWXDxl\n",
       "RGEbencvwA30ROMQyNjHC7psJQka5lGi/YMdivHSmYZ8IAvjbcjjXtAwiyfJdLrjVthJ5lM0hT4A\n",
       "8BxBFEGXqlds8ymi9Bx+h6bfbZu/wg+ZE56EUUSXMMOZNuQR/BRZWjbl0ayxYtHu9/IQQxeDwrFX\n",
       "AuZQCjry0FFZSPIsHmgY3HSYRR6g4hiEHsZ4XKuPvIimoPIbqTbkwZJ2YNdOXncJVHSnP7MAIAVb\n",
       "AQKnDBiV47G1HjWP2o5uhojhy4MEL59tHo8G66uvn37dOovpyKI8FKPO51jU1um/3q7ALz9uHo8G\n",
       "66vPI84xhHhOKGvbv73k+jHuxNI4FJ8x/Xg8jEfbcPN4NFjfDPT1msvQ2KthP3R3YkdZUFb49g8c\n",
       "3sdTzePRYH02HorP55UmtHWPKayTRwjNwZEmzqcN1jfgiD48U18T2hn9u7A168tfy+WXm7m+NFaf\n",
       "zAOHnl7Jr2zm6UuSdfK4i4U9zeLRWH0yjyHT28+vbOYplhLWyWMDqElLcSJzzqEz5h+m81+F0Ul1\n",
       "t/QJFNdNnP9VXR60vtr5r1bvg4o7j/t8TnFfU26c9hdhnTxiZjxrKU5EkEL7HrQV3A7qJDxiW6qU\n",
       "vP/wJTxIffhsJ8Ch9wnoTPlTXHkEr3mfwVYWqM4oec9CfW48gpWIUJyIIEV5oCuy8UBZHagNdXmQ\n",
       "+nC8cNGp91nQufIXLrnxSJS8z2Are7jxDjJoCOuM13PLhOL0FnAe2gjmMbTsnAnxZZWN65Z/e/ql\n",
       "yEJQ1d3LXjDV/WgR1w8vgP0TcHZp2h6v0/pg9SsOvc+CDpbyt96NR8FnirCVPTGLCaQkrJPH8+st\n",
       "xYkKUrEzBw+MwSDmUTCCOVgHd4aPPoTar755Oouy9Fyg1GHAC7AqklJ6S2rFzoPWB5Uf1Oh9DLpQ\n",
       "/p5343Gjz3XIZUTYMHycP4EGptcyNSask8eWpKU4UUGKjpci6R8AV1Db10SvkfsZ/ccHJEs1Yml0\n",
       "izcXIPzE5S849nOkPtBhZY3ex2Q+ofzd7MbDUjk31l6HrIAG0OZXT7l7qjnKI1xx56FeFNbJA9fL\n",
       "FCcqSNl5HAsd6+lFMNCPhu8wzoLz/67gi7+9pye7ppq186D1rYYLTr2Py3xC+VvjwkOonA/WBlKy\n",
       "AoohLPLwjODTvA28h7K04c1TKfj0VczoNMk47bnfp4oTFaRq+wdExxGPZwK42+OsRDr2tnqN9P+o\n",
       "KUIkeb+/6mCX6dT7mMwnlL9tLjxCvJJg7coQmrQPBy3n4dmNHB/bcdT2tAGlI+jW6SUmSFrWjQdT\n",
       "nJ508CgYqGf/BvbizjH5i84sii4Kpj5cNBMT8BTsRaPmbEY8H5R46GjayDv1PibzCeXPbbwEOF6l\n",
       "q2ZyCOTsQ0JJe3j2TbENb8imhuF+pBBC74CwbjyY4kQEqUMvm/+c/mVX5neXYWvPebQ+HK5smEbz\n",
       "Z0lZe7AEhS+fA/3OWx/A2XBwIvitpYYLj++iPpBy6n0UOlYCqfIHEy48OvjjpBeP5J08rDK2sevw\n",
       "8Iw/9B/agQDkmAveAx4xdOeFdePBFCdJkPKMmGeijyl/Bu3uHzn1Pgo9epQrf5LULXh0skVQrbxT\n",
       "s5XtlBbIPej3cx6eW3U8U67Db38ot+8DACqxQiEl7Oz0wsJ16IV2vY9DD3LlTxt248HCGQW60zU8\n",
       "pBy8Vq+yeSplHpFkgpc4j31SSRz3ml7iUUwLOysealepMf1U6Hb3WL3IcOExyO7Zd6BAzoQfUJXL\n",
       "p2xlGPW4dfO55zr4OV3qwqnoNHoht2KJVJIYA/7tiM6KsHOjJ1t6H1g3pddt/8L7cAYGkzV9k5Rp\n",
       "uCYd1/Kq7BlP8/VGAfVdzuOLUkkRuyWlkSeNv/+/vm765QgeA/Qe6zuWd9XIjrRsKMPj3eOyJ942\n",
       "UaXhX8v78Mz5ST68eQkeViya7swI68dj+9K5ft7A+sde1Npx1/4RvGWSL03HZU8capCtAn4q9z4f\n",
       "od+TSvAyFDeuh0c0GWsRHhk23G3zBy0LXyLqAx8v3FOv0DCdyAhvsPgUFkslR6zldqbzRywPc81j\n",
       "kEwvONSP1FRHy6CMvyKE3zxt83xq82KDxT4igr9NKulG/WSBvFJ11ltfEqY21zyK5J5twTen5vsa\n",
       "tAy+lkUN5Yup8Aw9Rh7BqLizjPCla5VUEsnAhry8ig3Wiz/C+3vmmkcHHtOj1fUQHLnqXNo72GI5\n",
       "zDZyj7h4aiNXTbilyoXF1+TPH7iBD5BCVtg5Wl9myCPi8zCLlSlTTElK1B3eqsdfGXWbwrY2D2XM\n",
       "24uVqZfZlxbsuzXXT6Td8/8k2dbmEfKRk3nZCH9I/3i9ejd55D8q2dbmofn8zRYvG/gYyxitV68X\n",
       "sEtOua11v/+xw8eNlSX4yqNW/KvVPfTV8JSwrc7jdh83VhZKzrKl8Zywrc6jmPV28yu7ntSRErbV\n",
       "ech3zf2+zj5dkGyr84ATPn4nmtPS2qtvYR5LfPyWNKWhek7Y1ucRSftEqOlmNHSLIWzr89Be94lA\n",
       "Xm9CO7VXhf1QeTTp/xlsNL0d/cpmmmJpYWmv+3D+n4HW3/D/M3hW/n8Gqs82Tc3Pvp3PSpakaH//\n",
       "PdT+D85+v79navF/AAAAAElFTkSuQmCC\n",
       "\" style=\"display:inline;vertical-align:middle;\" /></a><br>(see <a class=\"ProveItLink\" href=\"../../../__pv_it/theorems/a605b0edf0040ef13ee2171d49b02cfe5f1c06290/dependencies.ipynb\">dependencies</a>)<br>"
      ],
      "text/plain": [
       "<IPython.core.display.HTML object>"
      ]
     },
     "metadata": {},
     "output_type": "display_data"
    }
   ],
   "source": [
    "%proving right_polar_decomposition"
   ]
  },
  {
   "cell_type": "code",
   "execution_count": null,
   "metadata": {},
   "outputs": [],
   "source": []
  }
 ],
 "metadata": {
  "kernelspec": {
   "display_name": "Python 3",
   "language": "python",
   "name": "python3"
  }
 },
 "nbformat": 4,
 "nbformat_minor": 0
}