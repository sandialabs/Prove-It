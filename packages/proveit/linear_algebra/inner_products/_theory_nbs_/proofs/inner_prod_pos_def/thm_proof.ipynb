{
 "cells": [
  {
   "cell_type": "markdown",
   "metadata": {},
   "source": [
    "Proof of <a class=\"ProveItLink\" href=\"../../../../../_theory_nbs_/theory.ipynb\">proveit</a>.<a class=\"ProveItLink\" href=\"../../../../_theory_nbs_/theory.ipynb\">linear_algebra</a>.<a class=\"ProveItLink\" href=\"../../theory.ipynb\">inner_products</a>.<a class=\"ProveItLink\" href=\"../../theorems.ipynb#inner_prod_pos_def\">inner_prod_pos_def</a> theorem\n",
    "========"
   ]
  },
  {
   "cell_type": "code",
   "execution_count": 1,
   "metadata": {},
   "outputs": [],
   "source": [
    "import proveit\n",
    "theory = proveit.Theory() # the theorem's theory"
   ]
  },
  {
   "cell_type": "code",
   "execution_count": 2,
   "metadata": {},
   "outputs": [
    {
     "data": {
      "text/html": [
       "With these <a href=\"allowed_presumptions.txt\">allowed</a>/<a href=\"disallowed_presumptions.txt\">disallowed</a> theorem/theory presumptions (e.g., to avoid circular dependencies), we begin our proof of<br><strong id=\"inner_prod_pos_def\">inner_prod_pos_def:</strong> <a class=\"ProveItLink\" href=\"../../../__pv_it/theorems/f64d6979e68d7ff5c46e5fb20b39c66c844453aa0/expr.ipynb\"><img src=\"data:image/png;base64,iVBORw0KGgoAAAANSUhEUgAAAf8AAAAzCAMAAACucvH3AAAAOVBMVEX///8AAAAAAAAAAAAAAAAA\n",
       "AAAAAAAAAAAAAAAAAAAAAAAAAAAAAAAAAAAAAAAAAAAAAAAAAAAAAAACXHtMAAAAEnRSTlMAq1Rm\n",
       "mUTNIjK7EInv3Xbt5cmRiLwgAAAACXBIWXMAAA7EAAAOxAGVKw4bAAAHF0lEQVR42u2di5KsJhCG\n",
       "lYvctJP4/g8boEFBGMXsbs44C1XJWCziNF/zdwPu2WFoLtqXoZfPKLdxLqstrA/chxTlcKo7/Hkf\n",
       "tA8rtPPv/Dv/zr/z7/w7/87/V/EnLgOmv4s4czbrzt/zH3/nrJ87/86/8+/8O//Ov/Pv/Dv/zr/z\n",
       "7/w7/z9dRPiUDW3lf+q5839j/kACrBYu6pYDcKjz38eA0Bb+7e0fwv+NDCImXBjS0rrpXQxjgPm5\n",
       "D7TKn22zehIt/NvbP4T/+xikp22o2wS5oc1kPUkv3rBJ1/jL6P+XmoP829s/hP/7GMTorZndohLU\n",
       "+4jxllFWjf/RLS57C/G/uf1T4v/bGDTfjOyZw+qpFr2UN5HgiU/knvOn4b6pMf9rbv8U/u9iEJmK\n",
       "OHAl7mnA0maBogW+rylX79rRQw75/7y4MpvW/L+1/WPy/zcxiMUvEDI1DTBqaXJZyirJ4SvDYvIX\n",
       "enXk73s0Y5U/82qjdCv/1vaP4f+TBt3odBPwkNdZdDDCwLI0L69cynjP0ieK1SB/rwx0qvIXY/yf\n",
       "WyaOK3O+Nc3sFf+s/XuCLRJ5OOP/QwZxV0Zo318hEQGysUZQG7jHNK4fKhmvRBEmSv7+g8z1/R/n\n",
       "+Sb2BL4RN/r1/k/aHv1FsFVl6Ycw82KullPazLMxbHy17IbZjQgAGHlLmykvPZmd7f9kA/BthdoC\n",
       "N6LKHPUVP50osWMmcKiUNafl06g3/feP5zj/5VrnTyBJfnzGCPxE//P26C9yDbAljErxLfO8KKNv\n",
       "NLGTxasXZ3Zncuqx4sncnPDPDGqN1m2qr9sFKfLfN2qGuaYeSSUxVf57KMP4TzD/4y/mv7Wdbn3a\n",
       "VEEYfRb/8/bI2YSuGZNZfRN/WF/8WJG4KLrDP4pi7smTfs0/M6g2ohWRO9ssQC0xBkwpSLEX9lL/\n",
       "9/Sfu1l1/B2ttLKyY0WmMalUuPLH9R9ZXvA3ZBsdO5HpDMM5/6T9gKllmMKJ67rR12qRBNILey8F\n",
       "GMQ0EcYif+s8scL2AOh9YK/c/EcxE3axu9gfuexGGIqIwYC31Xc5AKGGpklR7smV1f3OPzVoF9co\n",
       "ZYXIXfDHVMJ5FFelIIVeSkFScdiVa6Dto0d3g0kEJa+s7FjZ/C9zCeofGSJGPO0p+It5GwlYjTDz\n",
       "Bf+kvVyZsQUFRqvDzoNw9Y7iduElnVopIsIgf00WOcQKN956iYshF//Fsi4etx83sJaM9kezvTYM\n",
       "m2GXbjyFG0ExVT25sqe2808M2mWEyaEuclf8cQLO7nbPOhOkrZfC48yYqjpZpWa2KSc+jqNRWWXp\n",
       "08X6D0VFzzJbYJbnf6PMBKOetCTnf3v73KdpwV+jX8cLn4LYWSFRkcbFZne4rewrMEOx7Xx7T9bP\n",
       "Q5e/SP+klQ/CPstKqHbPFDp2aR2RYKRXVU/m6oT/bhAAE/7ABNKsNBO5kv9207DPbLTAZ7BLtZdC\n",
       "kOS2mnMXmllRI4xiq2XxtuWV+fJPQ2X/x95hRVIeNnBOzn/9d4RVn/M/bjCiF9gFpvKF7Pzd2MJ+\n",
       "QWeXFfMAcxi352MFytXIbJCL+Z+OmSu2mKnXfWsqX6PEYZdcrStPqB48WZ7y30gK953sc1Mpy0Wu\n",
       "5L/dxLz1f9n/aHDohaaClPVSCtIiT2JVhUjWg16uTi/FMlzyDxO5KgBV/ujTIdlLl2l1/nEJEnw9\n",
       "4b/sK5Qpnf9j9PRt/jtDFWgRnDR0KXXY4IigD558qv97vESVyqWsFv5T/ttNaQ6E/GdIBCnvpRSk\n",
       "7YCmchJVA6LunVdux0uv+YNaXQQh82ra+Adr4m/RJHtoO38FyYXLfTW8mv+YK7jv5zYFhFNPP6dd\n",
       "RuUHFJTVfftp48agjO8qdOn5ql0Vj54M0MI/huxMynKRq8b/3TWicKB7usm+CVLeS0WQNqBFbqBr\n",
       "0n5vybo71fe9/+P8RVgD1xBiRDy5Em5rR2i74rH6PPHtwq+K7PQe3X1+/0eHlHnF7SIDIZAam/8v\n",
       "k7TJkxNN3MQm4JcIjFJpNQK7GsInYUCxCz+KhSdXJkuVv3NEkUtZLnI1/uEmp/9//6O8/u/5XyZI\n",
       "ey8VQdqCTrEara3I4N7rKvsA/OD7X9o463/kRTE5t+671rRSq6GBv5gHM+HaPJGyg8gd+Sc3pTty\n",
       "zjdxK3ep9lIRJFzAtO533Nuwht3/n/n+n1ybA51oq6vMfwbciolOpawQuWL+7zdlbuPevNKZIGW9\n",
       "qD/2ttEj+bsI0dq23L+kfGji3y5l9ZEj8BVB6vy/qejLimv+V+G0fmLxJUHq/P/X8v38Cf+SIH0A\n",
       "f2mz8F/B/970bROk5/N36a/6FfwfXH6Q/73fSen8P42/O6Z4zIuB/d//+Xb+3FBKh14eUvq//9b5\n",
       "d/6df+ff+Xf+nf85f9r//sMHFQcTbvHvf//hkwr+/Yd/Adv6Rj0egPBGAAAAAElFTkSuQmCC\n",
       "\" style=\"display:inline;vertical-align:middle;\" /></a><br>(see <a class=\"ProveItLink\" href=\"../../../__pv_it/theorems/9efdbd8417101dd78b7487df0fcfa63b508988560/dependencies.ipynb\">dependencies</a>)<br>"
      ],
      "text/plain": [
       "<IPython.core.display.HTML object>"
      ]
     },
     "metadata": {},
     "output_type": "display_data"
    }
   ],
   "source": [
    "%proving inner_prod_pos_def"
   ]
  },
  {
   "cell_type": "code",
   "execution_count": null,
   "metadata": {},
   "outputs": [],
   "source": []
  }
 ],
 "metadata": {
  "kernelspec": {
   "display_name": "Python 3",
   "language": "python",
   "name": "python3"
  }
 },
 "nbformat": 4,
 "nbformat_minor": 0
}