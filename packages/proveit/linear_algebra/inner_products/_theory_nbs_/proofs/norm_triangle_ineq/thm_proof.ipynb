{
 "cells": [
  {
   "cell_type": "markdown",
   "metadata": {},
   "source": [
    "Proof of <a class=\"ProveItLink\" href=\"../../../../../_theory_nbs_/theory.ipynb\">proveit</a>.<a class=\"ProveItLink\" href=\"../../../../_theory_nbs_/theory.ipynb\">linear_algebra</a>.<a class=\"ProveItLink\" href=\"../../theory.ipynb\">inner_products</a>.<a class=\"ProveItLink\" href=\"../../theorems.ipynb#norm_triangle_ineq\">norm_triangle_ineq</a> theorem\n",
    "========"
   ]
  },
  {
   "cell_type": "code",
   "execution_count": 1,
   "metadata": {},
   "outputs": [],
   "source": [
    "import proveit\n",
    "theory = proveit.Theory() # the theorem's theory"
   ]
  },
  {
   "cell_type": "code",
   "execution_count": 2,
   "metadata": {},
   "outputs": [
    {
     "data": {
      "text/html": [
       "With these <a href=\"allowed_presumptions.txt\">allowed</a>/<a href=\"disallowed_presumptions.txt\">disallowed</a> theorem/theory presumptions (e.g., to avoid circular dependencies), we begin our proof of<br><strong id=\"norm_triangle_ineq\">norm_triangle_ineq:</strong> <a class=\"ProveItLink\" href=\"../../../__pv_it/theorems/92667257cb53181e633c49222c16dcc9c6232aaf0/expr.ipynb\"><img src=\"data:image/png;base64,iVBORw0KGgoAAAANSUhEUgAAAiwAAAAzBAMAAABGRk69AAAAMFBMVEX///8AAAAAAAAAAAAAAAAA\n",
       "AAAAAAAAAAAAAAAAAAAAAAAAAAAAAAAAAAAAAAAAAAAv3aB7AAAAD3RSTlMAq1RmmUTNIjK7EInv\n",
       "3XZ/CtNrAAAACXBIWXMAAA7EAAAOxAGVKw4bAAAG4ElEQVRo3u2bf2wURRTH3/3Y2x93PWowRkDp\n",
       "GggkCniB+KOC9bAiRCw5NTEhkHABf8eQJRoTKAmn8S8p3KEhpCSUxfAHLaYcYCW2BauIMYBYjSRN\n",
       "9HRri0kpParFVNrEOrOzeze7OytH4oWY7rtM7253vjtvPjvz5u00B8AyqaVFhUlrLS0t7BMVExPx\n",
       "yYtl/8R1FywJmNRW7WHxsHhYPCweFg+Lh8XD4mHxsHhYPCwelluFZainxIoK8OjlasyTVo2CXm4a\n",
       "3vjCmy7dYixtJdaLyrAG3nU/zzpp1XBZIe6qwR85DfSi+1QNlfj4LCcWH373x8qNhdm8w+6Dm8di\n",
       "1dwQC/QBKQTLMnz8ZSeWIB4wIaXcWJjN201K3gyWOQpDc2MsIZUUguVtPKcyTiwCvo+byz6JmM3b\n",
       "LRhzYnnODcujT7E0RSxcjI0lECeFYMGAwjIjtryG3o+VHQuzebtFGPNkgQuWoXampojFr7GxwFlS\n",
       "CJYAghdihdxF6D1ZdizM5u02p2Qs0kmNrSkBywZSCBb4Jpc7x8ISyeV+ypZ/JWI1b7eVpuutvYc6\n",
       "ZAuW1lqQKgtdlOpiDo2Un779mBsWWn6UFAPLCoC9LCzBFIhq+bGwmrfbBrMX8ejMYLcFS3YeBIZN\n",
       "LNIdslMThF6tzg0LLX+QFAPLJuBRdOWqHofQlzQWdHTTf8pgbiGjoLGQ5h32zDX5zevmrf/e6EVA\n",
       "CYz5YjQWQa4DX6YwWigspgYegsfUqS5YLPJ5pBhYRDWM1+IrqKJqSef26jUo//jOH+0L9uHzHUvp\n",
       "3OaKDPnB7UwqgYR+MXg9DnEKi9E8ZTun7UboukAYNY+cMXsBQRLt6nK587ncd2h8wAWIaAUsfHES\n",
       "mRpIwZPF2BJEkQFN20rjpEWeJsXA4tf0kLcLoglrlrtAj7imf9hZ0XlfbwN4gfoaktHcW8rEcoBc\n",
       "jGvHHhWxGM1Tq/EK/Bc1Fe5ydBH3wRpyuTFIp1ght6hBXXcNubR8LSkGFkjW4FojfLst+Q8FtKJ/\n",
       "urNsLFepr6KMFkYfE8sycoFLQLKmQvKvN59f3o8GIteLtH36mSkxCMUdEwLWKZJqwYKGzxXmAl3U\n",
       "cKPQ4oaFls8nxcRyDGcowugSzYYlPEct+tdHbqG0751eaO5ZgFjVaG+tfwJj6eRfmh2HvkEVon2/\n",
       "yaHpwPP7aj5W+eMIxGCvgirCr4tj0K1frB5fs5CotBnNR5VpIXSsdYraIJHcLr2y47NCoGgyetGc\n",
       "uAvC1tGCQO9ipnOmRtrt64KsGxZaXk2KiWUrHgPR8fouGxb+86J/xFl0kW1ySOb/gPXoVct9UY+w\n",
       "fNgDa+dmxYTUjRbFiMz/8kMC0ko06ctGlHA8mMUVs7zG4xmZfuOC7lmcwoKbD0CTgD5umQ8DRhKK\n",
       "7mG6EMiOGr24/72n4VkrlmAlN2JP/lO0xv/XwS5Odh0tlHwlKSYWH76MmIFz9ifoO4v+EWcxFlXU\n",
       "+DHUi2FYLYwB3J1HsyKt4ljVhI6jey70/g0NAH/yihg7ovCHcMVr9wKHwV490akHhAyFRW8eSHid\n",
       "ATMDrzY2vo9DHW7ZsB1GLw7m/bWyFYs0o3+U+cBkaqRV2uyFrrGFll8kpY3eWEBz5arK2lgg/hFn\n",
       "MRbwafww8v70ogcENL6m4TqIwhKA27lhhEXC4RwdOA2DQ9o6pEQVYfVEwo/HZCNEcIYoZOwbC0KX\n",
       "vvlxEb4WSAo5ordsupP6lyw3zH6OtGlcs9yCnO8mxYIFjYhIloWF+EecpbCg0QJCt4Flh76ybdRH\n",
       "C4q3FfpoqYiJl7epoFdUA0kdxQhEx+yTCNvWcDIIhwF6EFk9ucOL30hxbY+7Pip+Ah/JTCw2jcuj\n",
       "IiXHz5a40Fii+9th3jgDi+nf3gIWEWNpgg+glR4tKOKchamwVZ6SQBlaWo1mjqgVeTEraagiwpDB\n",
       "IRdfDE/VqGbDErx06jI0yDC7Ogmb8aQaGFfu+T1V8GeP68bCz2jiFU5KOd1SDI3LxgIl32zsGLSV\n",
       "sjtn+oed5TvPbamKL3nxwLXAV4nwKW3TuHL4PFoP+aoTAKfQChvuG3oluKYjC+mF/RCtfXgjdOQB\n",
       "VfSvWqxgNwfGVf+3aNyJCnN3TpZQOALp08bddn+aXbHM6k+4bEM1l4KFku8hKEvDUtgJYjjrbg3M\n",
       "rSLaY2In6b1cTvVpz7vs1WqwE+rd22OdtGoEjc+6avDHqAJ6GTpTvr3cNGsvqfjgsJz9dABcTbkf\n",
       "2W/pzj9fxepeO/105P1DpDAPHR88LP8vKx3LzsUeFicWoVL0sDixiClvEjGwVKiSh8WJhTu+yMPi\n",
       "rUQeFg+Lh6UsWB6Z3D+zGnDBMtl/ZvUPvsN/2fs0RloAAAAASUVORK5CYII=\n",
       "\" style=\"display:inline;vertical-align:middle;\" /></a><br>(see <a class=\"ProveItLink\" href=\"../../../__pv_it/theorems/2c410bd22b80adf113464c94143a56453dca15ed0/dependencies.ipynb\">dependencies</a>)<br>"
      ],
      "text/plain": [
       "<IPython.core.display.HTML object>"
      ]
     },
     "metadata": {},
     "output_type": "display_data"
    }
   ],
   "source": [
    "%proving norm_triangle_ineq"
   ]
  },
  {
   "cell_type": "code",
   "execution_count": null,
   "metadata": {},
   "outputs": [],
   "source": []
  }
 ],
 "metadata": {
  "kernelspec": {
   "display_name": "Python 3",
   "language": "python",
   "name": "python3"
  }
 },
 "nbformat": 4,
 "nbformat_minor": 0
}