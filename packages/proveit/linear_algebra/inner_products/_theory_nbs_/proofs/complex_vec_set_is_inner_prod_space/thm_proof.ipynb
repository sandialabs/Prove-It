{
 "cells": [
  {
   "cell_type": "markdown",
   "metadata": {},
   "source": [
    "Proof of <a class=\"ProveItLink\" href=\"../../../../../_theory_nbs_/theory.ipynb\">proveit</a>.<a class=\"ProveItLink\" href=\"../../../../_theory_nbs_/theory.ipynb\">linear_algebra</a>.<a class=\"ProveItLink\" href=\"../../theory.ipynb\">inner_products</a>.<a class=\"ProveItLink\" href=\"../../theorems.ipynb#complex_vec_set_is_inner_prod_space\">complex_vec_set_is_inner_prod_space</a> theorem\n",
    "========"
   ]
  },
  {
   "cell_type": "code",
   "execution_count": 1,
   "metadata": {},
   "outputs": [],
   "source": [
    "import proveit\n",
    "theory = proveit.Theory() # the theorem's theory"
   ]
  },
  {
   "cell_type": "code",
   "execution_count": 2,
   "metadata": {},
   "outputs": [
    {
     "data": {
      "text/html": [
       "With these <a href=\"allowed_presumptions.txt\">allowed</a>/<a href=\"disallowed_presumptions.txt\">disallowed</a> theorem/theory presumptions (e.g., to avoid circular dependencies), we begin our proof of<br><strong id=\"complex_vec_set_is_inner_prod_space\">complex_vec_set_is_inner_prod_space:</strong> <a class=\"ProveItLink\" href=\"../../../__pv_it/theorems/598d70d31b851b986c666bf7fc5b7cde721fbee40/expr.ipynb\"><img src=\"data:image/png;base64,iVBORw0KGgoAAAANSUhEUgAAAUYAAAAmBAMAAABKei8tAAAAMFBMVEX///8AAAAAAAAAAAAAAAAA\n",
       "AAAAAAAAAAAAAAAAAAAAAAAAAAAAAAAAAAAAAAAAAAAv3aB7AAAAD3RSTlMAq1RmmUTNIjK7EInv\n",
       "3XZ/CtNrAAAACXBIWXMAAA7EAAAOxAGVKw4bAAAFmklEQVRYw8WYbUxbVRjH/7zc9vaWQt3URLOM\n",
       "qpkj2SZNUKNxGVepQoLBosu+sGzVTZYB0c7wYSoKMyZ+AGkzxwy4zbotJobhOsckhOjADSEYdRqc\n",
       "JrOhTmXZSBrGSwBR8Tnnttze2tYbA/R+OD09fc49v/O8necU0PU8htQ8UpVu0Uxrihjxtk+v5IOp\n",
       "QkSGXu2IQyljxEGdcgZ/6hhP6TR2vi91jHpD4UrqEGGc0eeOf6SQEe/pkkrzRsVZUfNvywzl1nY2\n",
       "65qUY+fptPvyC/v9J7bbs9zLiphtA9qPVl5rxA7+vd4G7pL3JJ3l4VC/XMDJOfmVUeRoI6i8pk+O\n",
       "N2vfyM1bWu3a5X92QnI4bHKy1TaQ3Bq79NQhZPPZFhmPs889SRkLeXz9TgnoYRlrsT12C94EW7PC\n",
       "+KV2qN6JjgZsciU7/ejHsgpyqkMAPwgzXTjAYseblPF21rxpIvWlyRiEQ4xZOEF2YOOF2sya40Qn\n",
       "LZ+MMdMOUW6jzq3A/Vz54zDQ0mZbUsY+1txpYpu0G8fxU54yfD0QcP0Xo+dSLGM1fSRTSRZpwscE\n",
       "TlCfeVX6LDLI6IbkXjzPGm8t7wtWjClOtu2GDj3udMUyHiHntidZ7F7AZAw7rIEJihPA14HAV8kZ\n",
       "J5k7WBtjcmuVyiLWFIfWQmlhLOvEtm827OGM5228ezLE3L4n5HEif95JO60561hNRg/1+CCV9thQ\n",
       "OyajecsoCZVStIlhDzGz3Uu0fAnQFgdMdSTjBNuN/5mYM9wdpS/LKhb8Stvkznbh4vpJNv7xBbCu\n",
       "+CNMQZyy4bwT2QsLz5MV+9EhY6ObAqLOJgyKAxiVvLDQ23YBjUJY0Yrj/k3UpKM4jGp+YMqGUd4R\n",
       "wxhtU1MvS6JKOwxMIAAf6q/0XKWfqWvxQ5zFYR7XOLFmwQ6DFenTxCjMoBLpA5RfctYNIZvEvwdq\n",
       "haDy5vTesKuZfGZntA2Hz2GzNZpRmOb++KqWsSlAjzfC6EVOUGlFMk01nmXjSmhQ10MxOS+RPk7z\n",
       "lZooUmVIU2THihmJebuHqP0jx5hp+pk/ho0ojrOW5NKDqkqa72jBXWZfpu9fekSbScv4kUaPKmP6\n",
       "VEHBQ9itMlI3n9DmRIXRzjdNjJiD9OjdM2wY+UUFBQ3tI1NhRl848IXeMCNcWxZzUwk7c4KyGZ2O\n",
       "YYdTw7iV5UeoGrckYFSkq1XGakWPU2E9ssHZsB43OsUZpk4uYPShsIHbWuD5USD1XQr7Iz6pipQK\n",
       "v7KhvHWvmzX+aJxUzhkrz/mL51owPiPLpkIMY5bMdLeX++MP9MJx7o+zpCFh5q1KYsmidz8dRBop\n",
       "+RhNKSun5gmi8kbSSh0J8FJB4kN55uMVGkamAJayd7uPD0cZ+7mos9DA6ZS2yYkuFjjwKBuirjjI\n",
       "Svk6J3LtuGzDh+R9A+jwE2P27Po6O7rEfphfGoKJHPIM2//hYmkTAWT6I2kljTTMSwUl5PMgX9cw\n",
       "4qKC2v3tcHTF80GLUluUj/SV5Pa98X6fyFsYHWPu8j9XYd+LN9kSrIvantvoBaUhz3ewbj1DfcPq\n",
       "ELUHrt74LCg5Qm7UlnUJn4fOsYsge2f7kb+KmT8x1xKnIyuyUiFjb2vrQWJsN2jyIzNSvKfiaMD1\n",
       "fwswQ8LSx9Kg9l/jCWixwmalgpLe8yDcp5325NIXiYkZM6J+KeKHTeTIV0oFft48QKViTG229Fcu\n",
       "S+Kb1LtqsPL4MEVElVLhZdKzeNmNNO2s07alRhRy+xIW82riNbnVW4Aawd2tLXFmmeQVvQguJrVr\n",
       "vN2p62qS0ZvKe+Gn+v68mk4l4xdLuZVluibqNGJWQ7zR5kdWgjFLZ8DGvSSJVtNKMI7qFdwVL9ob\n",
       "ViTKB/RKdsSJf4tPWgHGDt252Rjnb2nhbMEKML6jX3R/iqJaYpXPPzanm1gpe9uHAAAAAElFTkSu\n",
       "QmCC\n",
       "\" style=\"display:inline;vertical-align:middle;\" /></a><br>(see <a class=\"ProveItLink\" href=\"../../../__pv_it/theorems/e0ac91e0edd7518341a289389aed0a9e14c373d30/dependencies.ipynb\">dependencies</a>)<br>"
      ],
      "text/plain": [
       "<IPython.core.display.HTML object>"
      ]
     },
     "metadata": {},
     "output_type": "display_data"
    }
   ],
   "source": [
    "%proving complex_vec_set_is_inner_prod_space"
   ]
  },
  {
   "cell_type": "code",
   "execution_count": null,
   "metadata": {},
   "outputs": [],
   "source": []
  }
 ],
 "metadata": {
  "kernelspec": {
   "display_name": "Python 3",
   "language": "python",
   "name": "python3"
  }
 },
 "nbformat": 4,
 "nbformat_minor": 0
}