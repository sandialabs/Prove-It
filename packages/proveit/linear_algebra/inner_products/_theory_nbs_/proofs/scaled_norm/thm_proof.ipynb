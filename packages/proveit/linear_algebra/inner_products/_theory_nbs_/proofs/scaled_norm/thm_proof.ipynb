{
 "cells": [
  {
   "cell_type": "markdown",
   "metadata": {},
   "source": [
    "Proof of <a class=\"ProveItLink\" href=\"../../../../../_theory_nbs_/theory.ipynb\">proveit</a>.<a class=\"ProveItLink\" href=\"../../../../_theory_nbs_/theory.ipynb\">linear_algebra</a>.<a class=\"ProveItLink\" href=\"../../theory.ipynb\">inner_products</a>.<a class=\"ProveItLink\" href=\"../../theorems.ipynb#scaled_norm\">scaled_norm</a> theorem\n",
    "========"
   ]
  },
  {
   "cell_type": "code",
   "execution_count": 1,
   "metadata": {},
   "outputs": [],
   "source": [
    "import proveit\n",
    "theory = proveit.Theory() # the theorem's theory"
   ]
  },
  {
   "cell_type": "code",
   "execution_count": 2,
   "metadata": {},
   "outputs": [
    {
     "data": {
      "text/html": [
       "With these <a href=\"allowed_presumptions.txt\">allowed</a>/<a href=\"disallowed_presumptions.txt\">disallowed</a> theorem/theory presumptions (e.g., to avoid circular dependencies), we begin our proof of<br><strong id=\"scaled_norm\">scaled_norm:</strong> <a class=\"ProveItLink\" href=\"../../../__pv_it/theorems/c77d56b977fdf2927dbcabad9b000672de1716110/expr.ipynb\"><img src=\"data:image/png;base64,iVBORw0KGgoAAAANSUhEUgAAAi4AAAAzBAMAAABCs56AAAAAMFBMVEX///8AAAAAAAAAAAAAAAAA\n",
       "AAAAAAAAAAAAAAAAAAAAAAAAAAAAAAAAAAAAAAAAAAAv3aB7AAAAD3RSTlMAq1RmmUTNIjK7EInv\n",
       "3XZ/CtNrAAAACXBIWXMAAA7EAAAOxAGVKw4bAAAGxElEQVRo3u2bb2xTVRTAz9rX3vfa7q1GP4jR\n",
       "7RmMJAaxESQiZCkOAmZGq8YPBBIa/G8MeagxwRGZxk+CtEiIlgR4GENgM/AEF+KKMEVNZKj7IMkS\n",
       "XXxjYISxMdkMYUuY999rX1/vakts/LN3l5t2p+fcc+6v95577lsGIGqhtjYDpm9ra2sTf1A7ORmf\n",
       "xlx2T16dgksCpndb4HHxuHhcPC4eF4+Lx8Xj4nHxuHhcPC4el38Dl6He67FCADr+meIzJNbPv7eb\n",
       "7pQyO2TH9A9z6bguqzMQMOW4+LOV8LZAP+8onJuZcwxiFbCAdqq7AKJEPrOYSw159cWqzUXovnTz\n",
       "mZVxwfrlcIEBYJ1xWUrkzxVzkcgAQb3aXITuS7e9UBmXvVAel6DBOuPyJtlW6WIuMvkm11d9Hwnd\n",
       "l25NFXJpKpOLP84640IIhTVBfnkRvx6qOheh+9Ktq0IuXWVygZOsMy5+nEKCorw7F78mq85F6L50\n",
       "eklWxoXol8flKdYZF/iur69bxCXS1/ezWf3zSOS+ZJNMe07h7M0O+YH+fVlNwIXoE0dM283FafUJ\n",
       "65zLcoAdIi5SKyhG9bmI3JdswRifEzoNH+sv5+RxtV7qsblIfbRFuT52xLXdXJxW81nnXNYBwuaB\n",
       "hgch+JWTC5au+1shzLLfqE4uzL2jFUZii9Cj2+zYND6niAVK/IKt49f94zUxwXoh+tgR13ZxKbCa\n",
       "zTrnohhU9yLeZUZBXbeDajw2pr16lZUx6OhP7nO7/VR2sbPGuajB8OAmIRZ/gg4GL8Uh7uDC3dMm\n",
       "92cSrkhyopTtOpLgc3oUL4sk2SQHSQaR8S/C/EL0sSOuTZ1RAzpGgVWKdc7FZ9G8txXURGG9O4em\n",
       "XbUL5Cv4dcuM7aBEi2Z7A8DTzkWu4e23WMhlDxss0EnCyHPh7mlb0loUiS2Co+Dm8i3OFt0EYC3j\n",
       "HLFKceHalAs14HnXYbWKdc4Fko3EfBR1uu4BQT8xwSzC+KSTlrP3Ai6XHL8qWgRYqVzUlrIBzgGr\n",
       "nnL3AOo+3GiGQGUrz45keNlZ3RY56Nv7KHQNm112OFithwxBfmH7yNYuOo8cVnezbnM5RCoV+coi\n",
       "y8UlfCcJvy4GwTgrkPG0Qjvf6of9vXMwrEbrtTVLCJej6Nk74jAwaIA68KsWvAUQ2tn4qYEOYxKD\n",
       "/TpWhDMLY9BDB2shY+YKlg7bfS/Uh2E/2zk8ElWfEdS4aCybzRFQLD4nMtOuXMj7E7dCWLReFHbn\n",
       "4douLgVWC1i3uWwgVNWJli4XF/QFeZtqzh7XIJRmXGCjFtTQZViDf5oCX7ZgLh/2wqpZppII9UAz\n",
       "RDT0y48JnAzUZI0Z0cNxySSKJrIQ2ZSpV76nJUXcwYW4l6Iw/0l4gmVlHokfdsm2iO9lVoFE+Zwe\n",
       "Apg30mqL73nnYXhcxIXoY0dc28WlwKqZdZtLDRlbSUO3+z5NqwOW8gIxm4uhWGgchzwCK+RxgNuG\n",
       "8cZIGSRf7cLyoIYz5TXYDPAH0pXYQR3tI4pjd0GAkL10hKaJQNrBhbjHOWCVCfMzmYzmiASj4KIo\n",
       "QWNn4h4+p/DhRqM5t8g/GvY1aSIuRB874touLgVWp1nvcD5nwNvlkiF6zrCVovG/kMm8R7lAjYVG\n",
       "oN5/Yu59Mo51BtHBGBYB3BQYwVxCJKdjwQkYHLJWY0usCCsmEz7ytWUgQg4QOe16zlCnE7abCiOR\n",
       "u1Be5EhtvRXeA3rLrHdRD+sFXPCaiJgiLqMUjWza64VzweuFfhOUy7v0fFtL1wtOurV0vdTGlAsb\n",
       "DaCKhj9JWYyCOu7eR/QYS8DxEC8jWSTtsCGclPKiunw1MK9CLvPK5CLFWHdyUXd3wuwJAReyr0eB\n",
       "16SUi0K47IJtcMC5XnDWOQk3wgatLoFLtZShpg8atcOKGbKwIuaQJnmXDEb2iGq5uKD6mdIZQB/k\n",
       "I9msSeeOXbBFR3wN+ZJf0SvjgvXL4rKeP0DoKOd53fkJ/fbfcQZY30rquu7XG+KLntkz5v8mET5m\n",
       "rZvQ20/hMxU1HAE4dlaH8MDQ89LKrAmpe8+C2nT/WsgOA1b0PbJQh/fJYIbvB5NFKnpe157J5Bxr\n",
       "xSLe8BlQERdyZpTDBQdIe1lccoN/ltlefsm/WRhx/ky133w+5fPdQImr2RsgW2iKK+0WaBHow2+5\n",
       "O0juAHOOQaxUHWgf+rp6z3dTontw/g6x7K9H8P8f/x6AGkTfZqfzpuT9nSS/FYveeFz+a618LlsW\n",
       "elwEXOSo4nERcFFavX0k4lJrhDwuAi6Bw3M9Lt555HHxuHhcqsflgWn+f1nnp+Ay7f8v609l/28v\n",
       "6be2LQAAAABJRU5ErkJggg==\n",
       "\" style=\"display:inline;vertical-align:middle;\" /></a><br>(see <a class=\"ProveItLink\" href=\"../../../__pv_it/theorems/4dc9838fbe00dbd146b618db051daf40614ff0640/dependencies.ipynb\">dependencies</a>)<br>"
      ],
      "text/plain": [
       "<IPython.core.display.HTML object>"
      ]
     },
     "metadata": {},
     "output_type": "display_data"
    }
   ],
   "source": [
    "%proving scaled_norm"
   ]
  },
  {
   "cell_type": "code",
   "execution_count": null,
   "metadata": {},
   "outputs": [],
   "source": []
  }
 ],
 "metadata": {
  "kernelspec": {
   "display_name": "Python 3",
   "language": "python",
   "name": "python3"
  }
 },
 "nbformat": 4,
 "nbformat_minor": 0
}