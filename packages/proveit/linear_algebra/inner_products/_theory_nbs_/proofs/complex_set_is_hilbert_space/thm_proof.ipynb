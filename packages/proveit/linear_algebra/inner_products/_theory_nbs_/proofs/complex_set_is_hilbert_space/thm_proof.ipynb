{
 "cells": [
  {
   "cell_type": "markdown",
   "metadata": {},
   "source": [
    "Proof of <a class=\"ProveItLink\" href=\"../../../../../_theory_nbs_/theory.ipynb\">proveit</a>.<a class=\"ProveItLink\" href=\"../../../../_theory_nbs_/theory.ipynb\">linear_algebra</a>.<a class=\"ProveItLink\" href=\"../../theory.ipynb\">inner_products</a>.<a class=\"ProveItLink\" href=\"../../theorems.ipynb#complex_set_is_hilbert_space\">complex_set_is_hilbert_space</a> theorem\n",
    "========"
   ]
  },
  {
   "cell_type": "code",
   "execution_count": 1,
   "metadata": {},
   "outputs": [],
   "source": [
    "import proveit\n",
    "theory = proveit.Theory() # the theorem's theory"
   ]
  },
  {
   "cell_type": "code",
   "execution_count": 2,
   "metadata": {},
   "outputs": [
    {
     "data": {
      "text/html": [
       "With these <a href=\"allowed_presumptions.txt\">allowed</a>/<a href=\"disallowed_presumptions.txt\">disallowed</a> theorem/theory presumptions (e.g., to avoid circular dependencies), we begin our proof of<br><strong id=\"complex_set_is_hilbert_space\">complex_set_is_hilbert_space:</strong> <a class=\"ProveItLink\" href=\"../../../__pv_it/theorems/ef6502ad15d8abdf6e08fa7e79a80dd1eb94640c0/expr.ipynb\"><img src=\"data:image/png;base64,iVBORw0KGgoAAAANSUhEUgAAAKUAAAAcBAMAAADywGJUAAAAMFBMVEX///8AAAAAAAAAAAAAAAAA\n",
       "AAAAAAAAAAAAAAAAAAAAAAAAAAAAAAAAAAAAAAAAAAAv3aB7AAAAD3RSTlMAEIm73c12IjKr72aZ\n",
       "RFTgyeMAAAAACXBIWXMAAA7EAAAOxAGVKw4bAAACpklEQVRIx+2UT2gTQRTGv81ms5voxFAjKAWJ\n",
       "RS1ShQjVQ1HwEBEP0lTIJaCkSuPJsleD1NBDRS9ZIj0kVUtPtUIhePCSg4tgizTUEPAg+CeHglDQ\n",
       "lraaWBLim90STWyCh60nB3aSmf3mN+99+2YAdPSGbozC0uZIZ4Q3ZxqmlPGnSXl8M4lYRglrLOxr\n",
       "XiPkckW9DXOuAOxqZEJZp+cb8EmHpMHVyKSRN46lYGukop+k/mHjpPyDHuIKgKhBamDKFOBxCqMN\n",
       "0+nxU99pDq4HAsHfmdiG6SDmZfr1t2aK8i9j3g42xbkdM0H6PhXItGbeUuor5IGm3OWwZjAXoovA\n",
       "7Ws6Cw8fGZm8+Bgra3mAhXtyE2RCtMsD4WVXkSsw9nwIGGX1DSW1ztxMpR5QnJLJvABJV6YxBNfi\n",
       "nYyd4nTUalcA1yy8OpbV3UHEiuwJVwh+2Gl7Fqkz//hGosnUwKqE2lO0nxPAmehM1zJ83l0lJish\n",
       "BPc0V3yZgoP7Wc/9foCafxsmUSoJYviIYjJJvMrnhQoVR6EkrHGjuaL/NCUreuofcG+rOImyvrKQ\n",
       "zcb5P84ku1jVnIfw+mtJ+U6LDEVHP+3CjPpknGRvw6wkitwdH2fajDoqb8W5nFdKPFxwhezBizid\n",
       "o3c0fmVUXqSln0rZRWnnOVMi5iV6vWr4WUYFrHQ3BLi54mMETkrCcWpeWDI9utp8NkW/wRyA06fM\n",
       "wqbyvG1BG84XsY/cm4bXR0xH+XMsg26uGJmCyKuno29j3kQdOOvZukM26Q6pJZX0zP70jCoe/HCT\n",
       "CmSum03OUH6pQ9DeH3tEEU9Eqb83PHg4IuSiqqE4Gj3RdAAKvYHg399okg7L204w7ZrlSHJXxf/2\n",
       "r9vYM8uRiiZazhTjO1DEHsH6Ku7JWoH5CeLJ5J0bIR9nAAAAAElFTkSuQmCC\n",
       "\" style=\"display:inline;vertical-align:middle;\" /></a><br>(see <a class=\"ProveItLink\" href=\"../../../__pv_it/theorems/7e49f3ead728b9e4f3130afc9890910303c0c18d0/dependencies.ipynb\">dependencies</a>)<br>"
      ],
      "text/plain": [
       "<IPython.core.display.HTML object>"
      ]
     },
     "metadata": {},
     "output_type": "display_data"
    }
   ],
   "source": [
    "%proving complex_set_is_hilbert_space"
   ]
  },
  {
   "cell_type": "code",
   "execution_count": null,
   "metadata": {},
   "outputs": [],
   "source": []
  }
 ],
 "metadata": {
  "kernelspec": {
   "display_name": "Python 3",
   "language": "python",
   "name": "python3"
  }
 },
 "nbformat": 4,
 "nbformat_minor": 0
}