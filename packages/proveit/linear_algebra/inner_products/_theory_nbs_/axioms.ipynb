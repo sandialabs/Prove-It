{
 "cells": [
  {
   "cell_type": "markdown",
   "metadata": {},
   "source": [
    "Axioms for the theory of <a class=\"ProveItLink\" href=\"theory.ipynb\">proveit.linear_algebra.inner_products</a>\n",
    "========"
   ]
  },
  {
   "cell_type": "code",
   "execution_count": null,
   "metadata": {},
   "outputs": [],
   "source": [
    "import proveit\n",
    "# Prepare this notebook for defining the axioms of a theory:\n",
    "%axioms_notebook # Keep this at the top following 'import proveit'.\n",
    "\n",
    "from proveit import n, v, w, x, y, K, H, P, X, Px, Py\n",
    "from proveit.core_expr_types import x_1_to_n\n",
    "from proveit.logic import Implies, Iff, And, Forall, Equals, InSet, NotInSet, Set, SubsetEq, InClass\n",
    "from proveit.numbers import zero, NaturalPos, Complex, sqrt, KroneckerDelta\n",
    "from proveit.abstract_algebra import Fields\n",
    "from proveit.linear_algebra import (VecSpaces, LinMap, VecZero, Bases,\n",
    "                                    InnerProdSpaces, HilbertSpaces, Hspace, InnerProd, Norm, OrthoNormBases, OrthoProj)"
   ]
  },
  {
   "cell_type": "code",
   "execution_count": null,
   "metadata": {},
   "outputs": [],
   "source": [
    "%begin axioms"
   ]
  },
  {
   "cell_type": "markdown",
   "metadata": {},
   "source": [
    "An inner product space is defined as a vector space which also defines an inner product binary operation that always produces a scalar."
   ]
  },
  {
   "cell_type": "code",
   "execution_count": null,
   "metadata": {},
   "outputs": [],
   "source": [
    "inner_prod_space_def = Forall(\n",
    "    (K, H), Equals(\n",
    "        InClass(H, InnerProdSpaces(K)),\n",
    "        And(InClass(H, VecSpaces(K)),\n",
    "            Forall((x, y), InSet(InnerProd(x, y), K)))))"
   ]
  },
  {
   "cell_type": "markdown",
   "metadata": {},
   "source": [
    "A Hilbert space is an inner product space over the complex number field."
   ]
  },
  {
   "cell_type": "code",
   "execution_count": null,
   "metadata": {},
   "outputs": [],
   "source": [
    "hilbert_space_def = Equals(HilbertSpaces, InnerProdSpaces(Complex))"
   ]
  },
  {
   "cell_type": "markdown",
   "metadata": {},
   "source": [
    "We define the norm of a vector to be the square root of its inner product with itself."
   ]
  },
  {
   "cell_type": "code",
   "execution_count": null,
   "metadata": {},
   "outputs": [],
   "source": [
    "norm_def = Forall(\n",
    "    K, Forall(H, Forall(x, Equals(Norm(x), sqrt(InnerProd(x, x))),\n",
    "                        domain=H),\n",
    "              domain=InnerProdSpaces(K)))"
   ]
  },
  {
   "cell_type": "markdown",
   "metadata": {},
   "source": [
    "An orthonormal basis is a basis in that is orthonormal meaning that its vectors have a norm of 1 and different vectors are orthogonal."
   ]
  },
  {
   "cell_type": "code",
   "execution_count": null,
   "metadata": {},
   "outputs": [],
   "source": [
    "ortho_norm_bases_def = Forall(K, Forall(\n",
    "    H, Forall(\n",
    "        n, Forall(x_1_to_n, \n",
    "                  Equals(InSet(Set(x_1_to_n), OrthoNormBases(H)),\n",
    "                         And(InSet(Set(x_1_to_n), Bases(H)),\n",
    "                             Forall((v, w), Equals(InnerProd(v, w), \n",
    "                                                   KroneckerDelta(v, w)),\n",
    "                                    domain=Set(x_1_to_n)))).with_wrap_after_operator(),\n",
    "                  domain=H),\n",
    "        domain=NaturalPos),\n",
    "    domain=InnerProdSpaces(K)))"
   ]
  },
  {
   "cell_type": "markdown",
   "metadata": {},
   "source": [
    "Define an orthogonal projection onto a subspace:"
   ]
  },
  {
   "cell_type": "code",
   "execution_count": null,
   "metadata": {},
   "outputs": [],
   "source": [
    "ortho_proj_def = Forall(\n",
    "    (Hspace, X), Forall(\n",
    "        P, \n",
    "        Iff(Equals(P, OrthoProj(Hspace, X)),\n",
    "            And(Forall(x, Equals(Px, x), domain=X),\n",
    "                Forall(y, Implies(Forall(x, Equals(InnerProd(x, y), zero),\n",
    "                                         domain=X),\n",
    "                                  Equals(Py, VecZero(Hspace))),\n",
    "                       domain=Hspace)).with_wrap_after_operator())\n",
    "        .with_wrap_after_operator(),\n",
    "        domain=LinMap(Hspace, Hspace)\n",
    "    ),\n",
    "    domain=HilbertSpaces, condition=SubsetEq(X, Hspace))"
   ]
  },
  {
   "cell_type": "code",
   "execution_count": null,
   "metadata": {},
   "outputs": [],
   "source": [
    "%end axioms"
   ]
  }
 ],
 "metadata": {
  "kernelspec": {
   "display_name": "Python 3 (ipykernel)",
   "language": "python",
   "name": "python3"
  }
 },
 "nbformat": 4,
 "nbformat_minor": 0
}
