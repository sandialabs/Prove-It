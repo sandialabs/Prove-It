{
 "cells": [
  {
   "cell_type": "markdown",
   "metadata": {},
   "source": [
    "Axioms for the theory of <a class=\"ProveItLink\" href=\"theory.ipynb\">proveit.linear_algebra.inner_products</a>\n",
    "========"
   ]
  },
  {
   "cell_type": "code",
   "execution_count": null,
   "metadata": {},
   "outputs": [],
   "source": [
    "import proveit\n",
    "# Prepare this notebook for defining the axioms of a theory:\n",
    "%axioms_notebook # Keep this at the top following 'import proveit'.\n",
    "\n",
    "from proveit import x, y, K, H\n",
    "from proveit.logic import Iff, And, Forall, Equals, InSet, InClass\n",
    "from proveit.numbers import sqrt\n",
    "from proveit.abstract_algebra import Fields\n",
    "from proveit.linear_algebra import VecSpaces, InnerProdSpaces, InnerProd, Norm"
   ]
  },
  {
   "cell_type": "code",
   "execution_count": null,
   "metadata": {},
   "outputs": [],
   "source": [
    "%begin axioms"
   ]
  },
  {
   "cell_type": "markdown",
   "metadata": {},
   "source": [
    "An inner product space is defined as a vector space which also defines an inner product binary operation that always produces a scalar."
   ]
  },
  {
   "cell_type": "code",
   "execution_count": null,
   "metadata": {},
   "outputs": [],
   "source": [
    "inner_prod_space_def = Forall(\n",
    "    (K, H), Equals(\n",
    "        InClass(H, InnerProdSpaces(K)),\n",
    "        And(InClass(H, VecSpaces(K)),\n",
    "            Forall((x, y), InSet(InnerProd(x, y), K)))))"
   ]
  },
  {
   "cell_type": "markdown",
   "metadata": {},
   "source": [
    "We define the norm of a vector to be the square root of its inner product with itself."
   ]
  },
  {
   "cell_type": "code",
   "execution_count": null,
   "metadata": {},
   "outputs": [],
   "source": [
    "norm_def = Forall(\n",
    "    K, Forall(H, Forall(x, Equals(Norm(x), sqrt(InnerProd(x, x))),\n",
    "                        domain=H),\n",
    "              domain=InnerProdSpaces(K)))"
   ]
  },
  {
   "cell_type": "code",
   "execution_count": null,
   "metadata": {},
   "outputs": [],
   "source": [
    "%end axioms"
   ]
  }
 ],
 "metadata": {
  "kernelspec": {
   "display_name": "Python 3",
   "language": "python",
   "name": "python3"
  }
 },
 "nbformat": 4,
 "nbformat_minor": 0
}
