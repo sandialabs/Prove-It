{
 "cells": [
  {
   "cell_type": "markdown",
   "metadata": {},
   "source": [
    "Axioms for the theory of <a class=\"ProveItLink\" href=\"theory.ipynb\">proveit.linear_algebra.inner_products</a>\n",
    "========"
   ]
  },
  {
   "cell_type": "code",
   "execution_count": 1,
   "metadata": {},
   "outputs": [],
   "source": [
    "import proveit\n",
    "# Prepare this notebook for defining the axioms of a theory:\n",
    "%axioms_notebook # Keep this at the top following 'import proveit'.\n",
    "\n",
    "from proveit import n, v, w, x, y, K, H, P, X, Px, Py\n",
    "from proveit.core_expr_types import x_1_to_n\n",
    "from proveit.logic import Implies, Iff, And, Forall, Equals, InSet, NotInSet, Set, SubsetEq, InClass\n",
    "from proveit.numbers import zero, NaturalPos, Complex, sqrt, KroneckerDelta\n",
    "from proveit.abstract_algebra import Fields\n",
    "from proveit.linear_algebra import (VecSpaces, LinMap, VecZero, Bases,\n",
    "                                    InnerProdSpaces, HilbertSpaces, Hspace, InnerProd, Norm, OrthoNormBases, OrthoProj)"
   ]
  },
  {
   "cell_type": "code",
   "execution_count": 2,
   "metadata": {},
   "outputs": [
    {
     "name": "stdout",
     "output_type": "stream",
     "text": [
      "Defining axioms for theory 'proveit.linear_algebra.inner_products'\n",
      "Subsequent end-of-cell assignments will define axioms\n",
      "%end_axioms will finalize the definitions\n"
     ]
    }
   ],
   "source": [
    "%begin axioms"
   ]
  },
  {
   "cell_type": "markdown",
   "metadata": {},
   "source": [
    "An inner product space is defined as a vector space which also defines an inner product binary operation that always produces a scalar."
   ]
  },
  {
   "cell_type": "code",
   "execution_count": 3,
   "metadata": {},
   "outputs": [
    {
     "data": {
      "text/html": [
       "<strong id=\"inner_prod_space_def\">inner_prod_space_def:</strong> <a class=\"ProveItLink\" href=\"../__pv_it/axioms/83371c461135fa8ac6bcbb0d6b3804ab2ac45f130/axiom_expr.ipynb\"><img src=\"data:image/png;base64,iVBORw0KGgoAAAANSUhEUgAAAwoAAAAmBAMAAACWkHHCAAAAMFBMVEX///8AAAAAAAAAAAAAAAAA\n",
       "AAAAAAAAAAAAAAAAAAAAAAAAAAAAAAAAAAAAAAAAAAAv3aB7AAAAD3RSTlMAq1RmmUTNIjK7EInv\n",
       "3XZ/CtNrAAAACXBIWXMAAA7EAAAOxAGVKw4bAAAKwUlEQVRo3sVafYwTxxV/Z3u96/V5z7QRDSUB\n",
       "V0GRqpDg9FBVVAQOH/0iAad/5I+Cek5BiQJRu5UimqSQM/2jqtqDuzSVQtMWXIlWRSTg0AIql8BB\n",
       "QdCGlKNKKA29xAQa0kKPj+MgcAfXNzO7O+PdWe81svdG8u/mxjv7e/vevHlv3hogoM0RMPSmL/f5\n",
       "IpbhGCZv/UlGRRVLcxyDtrYkH39AwDB5G0AyGqrPCzgGLSo3f7TAMUzeRpCMgkr7C8cxaT+VjnaU\n",
       "OIbJ2xCSYKp4meOYtJelml4hYJi8DSEJpppW4jgmTRqRIjc4hsnbGJJgqpMCjklTr0kGU2WOYfI2\n",
       "hiSQSrvBcYzaLyRjnSWOYfI2iCSIqqmLYzhL39OdKblqgoB1aqa76+b974nak4ueFVzzeqOv6JDM\n",
       "DJCtJcsxlPY+7yoV+qddcjIbELA+zRBYvinl3VF7supZqYmi7wTCkMw7JIg0NNzlc3mnydGYfD0d\n",
       "veP6p8XvlfFHbpMu6TtHxk14wbWYDgJsmjcnVksZkTLjgabh9XCaxYCcd5+8xlEmFcwYOQawevgl\n",
       "ZyCIF+7Bz6mR5wEm/7loZGW8O/w1RSYnPYsl4hVcZKBWYCSI88nfx32Emy0gtOAhqbnXpZDrPgHl\n",
       "EsCq6kOVOgj6CYgcr6WM31Ie5IigWuN03495j2bRixylUsEiosi3ea0giFenJDfx8xkkXV7Fu922\n",
       "gp+m6OSUd7zXOyQwUCswEsQ1IHMnq40XEDpxoba7DKxe8tnfcTw6VD02CMlcwDF8rs3zOaJmymVc\n",
       "9EarAkepVNBOvuODgbwxYjUN5Y2SJT1d5NWP21bw0xSdPMU7vt27NgUGagVGgkhWXDLjI90+AWEv\n",
       "zpttXWn8qu94kBW0m24rkNNfopY2eghcyMMWugfSE3vkI89VzWmOUqkggbtVNF919qzJ20xno7Pu\n",
       "ov+VBF7j/rxlBT9N0cnrvePPgEuqKgZqBUaCGEVLxv2kGxIQvoOfjSw7VL5dCvYF5arbColDqJxa\n",
       "YaHAeDR2ElhK189lb85Q5iiVCiJX0FeEQBnAC3dTW12EnzCjZQXelNZlWcFPU3c7W5qr7mC6pKpi\n",
       "oFZgJATf7Ot7w0+6qmSEhIA3WXdliWv7hweeO1WxEJ46l1OefH+nSayQvEy7+sIzSJjc8+EgREZI\n",
       "pvHIG9MfwAeadW43hs3u7aAu/ANop/vxOWJUsVfZlgDwKt0RBmpnbjKpAI4ArKPSgL6gOxPECwtY\n",
       "hGF7ICTTAu89VijY4aspMpnE262nftfNXGXrXNDTNNWolkpkoFZgJAS/AvCSX/Z+mSMoN8eNG3eF\n",
       "ffG4uOaPZUi6QlE7BB9A85z2LI7r57O0u9aEDaDvh+QgbjYjV5H8SF5/CyKH4Eug7oclxQ7TKGym\n",
       "wYwuQmXIsLYytpXfovhQH2nHhCSSoVQq3Kcy8DUmzaqMcjiIl3ldW/lCr1CxvWXfdIptBR9NLbWC\n",
       "c86YFGM3KE+luUOvWyqRgVrBIkH8Lqh+hQzuMMR+uIcZlpsWRCv8knoLRcy5WjKpXh3Um917UEuk\n",
       "exIjaDFRIDkS6PcfxUsfBZiWR220mfECTDXfAri8pAToSSmi2OSt8iK2pKaK+6GYP2c4SqWi4TnN\n",
       "pHmM6D2AF/5GLXcuxm4U6eG8Gt6mZFnBR1Nk8sOoWTN6o4n6p5Z5iJ5057ulEhmYFZwtP1EiA8rk\n",
       "ORA/ALSjLrJSfWWQI9nUIMFqGRr6Zt8/bCv8nBqTYmcWI2EcRVVZBotdYsOW8rYK6PQ22lGAZQDb\n",
       "0DN/s9fchk6roX5WpK6fJUGLSBYfYCkO6pniFc9jt+U5SqXC4WsYnIk0uy0j1uSFgzTCZFUWybSL\n",
       "nLepCEbFsgLTlKeRyfPJWdlObnX4KzTjpDVuqUQGdqsr9iNGKjTknAdYXLI6nabEF1q6WHJOaLpE\n",
       "XxCsMG1ua2sxnuNWyEFkkEztpFaIMuUtozfb9IlpJg5jJG1t/YL++kjOsgJ+lWD5yRIfK4i+IJUK\n",
       "bzqEwZlI8yPi80G8zAoo8kZ63lV6OC+eYPReywqWpmRWoCfM5op9mL2B7s9Oc1VSiQwuK0BhFuk9\n",
       "DwYzNB7vXpPtSG0VlpxXHUjcvpCx8kLbCmXmCznmCyRbbCmyNRk5iMYmS5Pe/lmIfmTtSMijsMzr\n",
       "Xp+4IFpBKhUJz+vYFTp5wiBeuqkoSNRGd5xIL+clSf8cu4LBNCXbkehxs83UWSRGpzjvRAQuVRWD\n",
       "Ky7AdnpWHFB3O3nRMlvHAxxhb5Gm8rT1+1iB5PD5aivAAbIO410kLqRwejvbn4stOWh7eiWu4gwe\n",
       "R5T7AD6J2qpYPO/Rp5nhUy5qz3KUSkVOz++wE0X+MXzmIF5MH1iESdG9LdrFeYkOV9pWoJrq//IZ\n",
       "3CqUU04qTCYnTNicvwOSAETyRJqsZeuEx6WqYmBW4EnoqjStysxk/qRd6e62U3T9Fkd4jyTmduKb\n",
       "ESoYT1ArUNQOQtIkxRHtqlME6ijCClAPQhMG72+BjhnFk6Z+Ev0DLvzge3/C6zvysGtqCV60UkTC\n",
       "c6Fsp4B2hia2bRWOUqmIjfBWVJpVWdgVxEtz4hRGA4NGEZowM95oxa7L7bA0ZZgTCM/WllIH8IQa\n",
       "s9JpP34Qvg76VfreRhlwTnhcqioGagUhCW0iJMbQ93vY+a7HqpORdsBBfcLIJPjqyAbLPBO+wXzs\n",
       "zuHb1gzf/tnhNEN4auEuZfK+jDp+ZCKN9PsyoC54FQk37fnwZrpJWTAO+4/OOpUHbdJ9W96FTQvP\n",
       "gjrvnLm4/xx+ofUynuTR66ZdCNIGvYfVnI1yqeizk4dEaUCf128G8cJagF9vvFSB10aITVJ5h7eJ\n",
       "LG2tYlmBaCoKG0jN+tl74d8W1VrmM5v6I3NR4X04Q5945ppTWnKkqmZIchL+iIkuYCcS9Cajxx59\n",
       "QsCqpvyx7/jHLiMv8/2mqoav9vq814x3cfx/pPLnTVVVoVfLeHllm63RiTBJnOwUjSJ0M00WeGlJ\n",
       "ItVqq47kfnWLJ9ELJauTcLLiBwWsX/PXxnRPlQyS3tJkrIdjfXijOU9N0c3rWEHroe+f3obD4uRn\n",
       "nM0fPzvhZfSKF2tWLakVGAmnwuS0uQxbaIe/1Zld4li/dsz3m4TpqYYlvAel6A2O9eGt0hiLqm5e\n",
       "2wqrkoUY0dMJ5aI4OW7raCt+3kVPkZaWBAZqBUbiUBkbd8PUIejIGBt3RSbf7sTBDMe6tYeHP+Vb\n",
       "5+/yaEbyok+/zLE+vLDZsxTcvLYVYv/a8x/UE0yZURAnR+2zAvl7F6mcGdmai41aweddpkvfiRzH\n",
       "UNpzwntE5hdtpveqnwlYn6ZWeP+slPf1qpiV0c1Etmqyx2Wb/NmQwfhn3iFxUymuvSfaw3GM2k7J\n",
       "2OhemtefV9BTU+WRupG4qdxFeFb70QfH0Ar7JWPb8hzD5BX0pMwq141k/8czVojNkPlhssAxTN7G\n",
       "kARTNRc5jklrlmYGhwUMk7chJMFU7IVH1LPqtNMh/YD4A+mo3+/5132xsbwNebhRUC0VUGhrIJzf\n",
       "66mHpMP0pZyF4tpIJxrL24iHGw3VKyZHoa0PaUN6Re6t+t85iol1scG8jXi40VCpyzkK7R0ohWKF\n",
       "F3zG2Sv1lS4hUiW9wbwNeLhRUT0tIG+LW0P57arul4yqRY5CGv/71gbz1v/hKP4Pn6vuCxHjuRUA\n",
       "AAAASUVORK5CYII=\n",
       "\" style=\"display:inline;vertical-align:middle;\" /></a><br>"
      ],
      "text/plain": [
       "<IPython.core.display.HTML object>"
      ]
     },
     "metadata": {},
     "output_type": "display_data"
    }
   ],
   "source": [
    "inner_prod_space_def = Forall(\n",
    "    (K, H), Equals(\n",
    "        InClass(H, InnerProdSpaces(K)),\n",
    "        And(InClass(H, VecSpaces(K)),\n",
    "            Forall((x, y), InSet(InnerProd(x, y), K)))))"
   ]
  },
  {
   "cell_type": "markdown",
   "metadata": {},
   "source": [
    "A Hilbert space is an inner product space over the complex number field."
   ]
  },
  {
   "cell_type": "code",
   "execution_count": 4,
   "metadata": {},
   "outputs": [
    {
     "data": {
      "text/html": [
       "<strong id=\"hilbert_space_def\">hilbert_space_def:</strong> <a class=\"ProveItLink\" href=\"../__pv_it/axioms/a4b168c7a270fc2c4f1bf2fc20623384e7da2ac80/axiom_expr.ipynb\"><img src=\"data:image/png;base64,iVBORw0KGgoAAAANSUhEUgAAAVEAAAAVBAMAAAAN5sC/AAAAMFBMVEX///8AAAAAAAAAAAAAAAAA\n",
       "AAAAAAAAAAAAAAAAAAAAAAAAAAAAAAAAAAAAAAAAAAAv3aB7AAAAD3RSTlMAMqvN74kiu2ZEmRB2\n",
       "VN1Y5l/sAAAACXBIWXMAAA7EAAAOxAGVKw4bAAAEyElEQVRIx82XbWxTVRjH/3fd2t3dvmUOP4lt\n",
       "FiBTWdawzZcZBa5j2URDg+miqOwKix9mdA0QSQCl6peFLOFmY18MZgWyBZsZm+gCLmYski0GS2h0\n",
       "kJAgQxATibIN2QuLUJ/n9Hr30q7pB5bsZj09e85z/+d3n/M859wCy/nSUjrL9LLHgd6Py4dW4Cj9\n",
       "V1ih+nesV/3WWjyion1Tintf5KuCLJXbKtRwOvuO0TvFe0PzIX7XoUQi8XAmvYvktyqkfL0Pdr7b\n",
       "E6SPD/IMsA6YT5oHKL/BcSPbILBWWrsX1pfmm5p19Ltx1ZdBTaHBng4gfx/wPN/ipQ/NEAV2AZXz\n",
       "fJsIlp76s2xJWWsx+2H/PJNLxzaCyERaEIIU3k+dJ4FDc0iRhvQcYKEJbA+D1HNtISnPFcyglgvk\n",
       "RNnhNPWjGUklyghbDT35wyDt9C0k3UMVHcqg9gvNbjUS2RIySXeqgrSq9Vwc1p5taH/l4tM/PyiO\n",
       "OxJvkGP7pkPHybd18E0qscDbwkP6MeZLIZIqumNrkWxNHTFHQ1x0+2JfkmMg5tExMqEDcsXrkRIK\n",
       "RiwQhdIViKNpMIzHWs+SUxfVomTkTB5TqsXFB4OinIj0RQ1VKNLsPrx8aRq3yOdC4h8SrNaVW3DU\n",
       "4ASsr+KImz1OAbygBbfF5TVi5yyFRzNaU4fs39eCu9IfsA3g2zgadNgTiedoXevQH8awVuBDY1ze\n",
       "KNXgrBKEk9SeBVbIRtA5of9f/V3ij3g7dQK8j9tUY0yqfLplWthHdCLt1Cw+kmWPI1EMpK6ybQNc\n",
       "IaM1dZpvBs7TMHWdfkjj2C1qH6dXJUKweOG4R5LyJMopFs4wXJc3w07uf1NJy8YUjg0LSasog45N\n",
       "c74SmyCldN0i7GcoZb5r0M7Qekjs4ZwaSpOPtiBcA8lWMnWMOqCuhzbzCeVfUtPZUjQGSxgK1YPS\n",
       "MalM8IZG7P7RA3wo1XGeGqsvjaUj/WimpeUT7jEpV1OnLuxB9JWOaB56Sgd7KNsT4YykDlPHIK3i\n",
       "hQGmpCQpLax8j0kxBeX4r5NsxsjJlhZ37+iMQRo1Ngc5fUzv81ilIPXzDuVyJ2PqqKPs49BK7PEe\n",
       "8sdT83RuTE0dg7QyGdMZI6ZsHDdiOqxLkxxa4WCN4rBbrL4s9lOZYnMtTZ563CoPVoog+J0UhOZk\n",
       "nrpdYXS+s5NyO84eV4CSjDGFqTNLmhvmOD4j8vRPYhoTeTqOGciTj5YTUS7hfDGAHAr4Abqlp42a\n",
       "E7S0QfM0xV5BWh7FahTpqBc5+hqRvgCFirBCU26CSC+sfLcWeRp7DEfxYeppahGMydbU8SS3M+pK\n",
       "G/ksadRRFsKNOL6hrKxBv59I7eOXGkOol+qQ9/5m2ChRt/L7we5u5SqtYoEfhev5DeWOv7D6qcLq\n",
       "Ndh/+agOa2RQa7tbSkfE6miO3FVMYV3X+oMOae2V3r/Q1zMkPDpig/qCN5RR9ViZuvKgKonW1GF9\n",
       "HmbJpsATVD5dMc91eD/fSn1LSYzawvM/bR9QIjENTT318lsx3sQfZ83ePQ+66cupZ3v6VC3Zq51l\n",
       "0dcpp3u2/wGWM2n+nJGTWetdXzJSp3fRodkysAazlWu7u2aJQOUyddGfHqfMnm2Z/zyxmqc1nYb/\n",
       "Ab4nsT0IqKLUAAAAAElFTkSuQmCC\n",
       "\" style=\"display:inline;vertical-align:middle;\" /></a><br>"
      ],
      "text/plain": [
       "<IPython.core.display.HTML object>"
      ]
     },
     "metadata": {},
     "output_type": "display_data"
    }
   ],
   "source": [
    "hilbert_space_def = Equals(HilbertSpaces, InnerProdSpaces(Complex))"
   ]
  },
  {
   "cell_type": "markdown",
   "metadata": {},
   "source": [
    "We define the norm of a vector to be the square root of its inner product with itself."
   ]
  },
  {
   "cell_type": "code",
   "execution_count": 5,
   "metadata": {},
   "outputs": [
    {
     "data": {
      "text/html": [
       "<strong id=\"norm_def\">norm_def:</strong> <a class=\"ProveItLink\" href=\"../__pv_it/axioms/19d2f78152569896698ae122f053ea254406f8960/axiom_expr.ipynb\"><img src=\"data:image/png;base64,iVBORw0KGgoAAAANSUhEUgAAAeYAAAAzBAMAAACwObbUAAAAMFBMVEX///8AAAAAAAAAAAAAAAAA\n",
       "AAAAAAAAAAAAAAAAAAAAAAAAAAAAAAAAAAAAAAAAAAAv3aB7AAAAD3RSTlMAq1RmmUTNIjK7EInv\n",
       "3XZ/CtNrAAAACXBIWXMAAA7EAAAOxAGVKw4bAAAG/klEQVRo3u2aa2wUVRSAz3Yf89hXDYkBonRU\n",
       "IgkaWGnER0lZQIQEhPXxB2vCBp8QY4ZojKSNuxr/KIVdNA0uCTIYILQEugGlsUVdhPiDl8Twg6gN\n",
       "U0ENUpYikEqbsN7HzM7sziw7bbfUbfZuMjs7M/ee+91z7jnn3h0As8K3tUkwPktbW5v5DW8mExyn\n",
       "zNsyNwswh2D8licqzBXmCnOFuTSlKpMJFH9q/ojl7CKRd3lm4P/AXG3hIUf1iOWwv9DvY+XCPLsE\n",
       "gh4pL2b2WAkEcUJZMbuSlpuryRQoffyxsmKeaTnzZ2/T2ryyYv7VugFHC9+LiGXEzA5Ybu3j241H\n",
       "soyYbXF0YNBHKbrT/DIRD5Fx0MjRniojZj9OWhrgI/W37jSvMGF0WFfA4pl/dMxE6gNGZhvpU2DU\n",
       "mYvJiYlWmW1YUfuNMuhOwBkd80L89bqR2YFbcImjzlxMzlywyvwuPpw2XqeXntYxf4AVHzcyE8e/\n",
       "bvRtu5icuy0zz9eUmlOo6q/omF0o/LkFk/m8xtRSSj+fi8g5bJWZDxcIV3RAZ0Y1ZjuaSi4zH1aL\n",
       "vsN3gLmInEGrzERxu8wSOTJxYoLOb5/s7j5uxuzp7v4teQeYi8i5lgXd17O7SyjMvBcfziN9pyev\n",
       "V+yG1qgirbcHdMyLAbaYMTuiwEl3gPn2cmiMIaBB3xTHaZXZ0U0KjXVtCi7xVw7okZ+hlWkN6sT8\n",
       "so55LTCoprNmPriO6pnR1bUlBZymnvhymA1ynr0uvHNTDV5sltku2gdsATM9s0dV9+xE7T0Gc6UJ\n",
       "NA+hNWho8id1zJzkxuGiF7Us5eQkW+Dr3B40nuzIF7fnRNc8fWztFSB9ab0psj1EGoM3gxDMyUmo\n",
       "HFI2TmpBQ5ICtl+94ryhMrPgCJvP5/u34YHEesSBL0rDEsnASA0SmsAf1DFXycSFbQJfKDcPm0Fc\n",
       "i9IDticRQs8Yyl0Ar+j9hYBMdZ4p83bamLMT91vPPCPrwhyLSeJUDe4UGPSMZr5cwIetRMPuJRZE\n",
       "xv9U9gapAQ8ZmCFcT3wF05mXe7rsstaDp6JkXMyYr+SszT1AUytDWUgb+wO3LOmZiRzfhfcX0SmJ\n",
       "s01X0Ix5pchLpvPZi+y6LhuvnP2g/j1DatCMK2c+w34cIdn+OXIes/tBKdsDOoCboPXsjGp+64c9\n",
       "AAfSzGtTg5j5ED7x1aMh853/U3BNBobZWv+VxBxAlJd6RHe9DL/XBch88wcaJdDlA4SZyPnLFl/F\n",
       "09QotqTr+2zCwGT9dmvoHnCb69mOJgDd8doMfIstBUng0Q+lBs24/Hq/DU1YsG+wMZXHzBzWetAK\n",
       "lBm50VUQEVzo4wi8NC2JmL88C+ikBceKJeARmHNnQihJ9oVtSY/oDjqSq2CBM8nIZAUQe/sU6LMl\n",
       "wkzkBDg56qSeoVdJsmmmcUtlnvnJUniuQHy+qQQkZMZV/+5IOQVoR+KUGnSEI/r4DDZstlwcjuev\n",
       "qyZqPXheZR6ALyAicXIMnPEY0s+9aWSsMYntA05GN10Cmvm3oBngBiNygXaR2d0HK9jr09HjOAHs\n",
       "OEQcUzxnXUXk+EWwr04kPiUzqFfrylGVeUe6aoFQgHm5qEwXL/DL5Kmz0AnSu1LDS60nZFhLItVf\n",
       "kczWkrQHsxOJhICZ+2AKRMAmz6mtDSEymISfacbLU1vQ2YeYkVHFMPMRuHRZXons7kjto7AiEyJ4\n",
       "CfBgfbBx41qyGUQ2qWYhOsex2koeFgm+oEvGSJmevTlV22LKZUa69CTNmGkP1qt6Vplj6OcGlXkD\n",
       "ID27qJ5teGCxnr0B7u+IhO8AK9nDhPMa+AYMtk2mbeogimAkN8JR4pqGs9QKM9enrAy11ZIGs5kc\n",
       "vzXsGfi2dcLDgybMSg9opkSYkW0jO+YCvKzTM5rlTRJMgCbBH0IpRkzyxdslb5pL8vJnsA8xxrEP\n",
       "w40dV2Nprp6XNaQlWIdn2cVB8b6r2lJhrmSB2XlVbWiN6gfknLWHYjrW9kmUHjCf45zkRMf26/Yf\n",
       "X6wJznkVutJMTQfKSZC7xifu9CJkWecvv+Fo6EpCbNYF8C14/C30FLi/k6uW1Yl4uC8OSlU/IQVw\n",
       "ovk+Cf9NoiW/K+2ClTXGObXFekOuR0MONZ2h7Q3tSSSGsF/UbHKtQTttHcLeEIfnwUZozKZq2qnx\n",
       "fwqz3IBecfaP9n5YzOSaQ9sLWTQEZnuqJMm+OzzKzEyN2eKwU595W2bmb5SE2SOMyb4nbzixtKd/\n",
       "sCTCe8vqfwxPtBSSfhgO88a6MWK2l2KDyhceBjNbzY0RM7xcAkFN4jCYuehY2TbsHfkmO/8zDIPZ\n",
       "K/GjwWzlfRJmzYjlcETKUN8ncR6ohbEq7424hZ36H5V3pSrMFebxz/zkOH5n/WIB5nH9zvp/EKdL\n",
       "5xyctcUAAAAASUVORK5CYII=\n",
       "\" style=\"display:inline;vertical-align:middle;\" /></a><br>"
      ],
      "text/plain": [
       "<IPython.core.display.HTML object>"
      ]
     },
     "metadata": {},
     "output_type": "display_data"
    }
   ],
   "source": [
    "norm_def = Forall(\n",
    "    K, Forall(H, Forall(x, Equals(Norm(x), sqrt(InnerProd(x, x))),\n",
    "                        domain=H),\n",
    "              domain=InnerProdSpaces(K)))"
   ]
  },
  {
   "cell_type": "markdown",
   "metadata": {},
   "source": [
    "An orthonormal basis is a basis in that is orthonormal meaning that its vectors have a norm of 1 and different vectors are orthogonal."
   ]
  },
  {
   "cell_type": "code",
   "execution_count": 6,
   "metadata": {},
   "outputs": [
    {
     "data": {
      "text/html": [
       "<strong id=\"ortho_norm_bases_def\">ortho_norm_bases_def:</strong> <a class=\"ProveItLink\" href=\"../__pv_it/axioms/4614764b2b80b1dfd5aa120510ec3a782d093cd70/axiom_expr.ipynb\"><img src=\"data:image/png;base64,iVBORw0KGgoAAAANSUhEUgAABKcAAAAzCAMAAAB15psJAAAAM1BMVEX///8AAAAAAAAAAAAAAAAA\n",
       "AAAAAAAAAAAAAAAAAAAAAAAAAAAAAAAAAAAAAAAAAAAAAADxgEwMAAAAEHRSTlMAq1RmmUTNIjK7\n",
       "EInv3XZsTBlw/QAAAAlwSFlzAAAOxAAADsQBlSsOGwAAEY1JREFUeNrtXYuaqygMlouCoCzv/7Qr\n",
       "d1AEPGM7dgrf7qmDlJpofpOQkGFobEy34Q+1Wyn6e+zprbdfE8j8YUtb5dbwX2LLrRQ9lT0z7c9/\n",
       "b08FpjnBn1nJ0Fw4bBLE8a9x6VaKHsoegEpniXtexl+9egLJQ9hFir1k6O3eRte9ooTmymHHqT+I\n",
       "U4CXzgpoP6fxdy1WCuZHmMyOIbs2ivSzt9saXDtOdZxCU/EZsSAG5e+DxAwaUARgDEQCb5M0z/m8\n",
       "yNUZ3QSscgEAzBO/SJdjiACbobFdEALL9rlNIqxWKlBHlpsbBx2nvh2nyFKyVJgDMb4+4HGtXgOZ\n",
       "NESJNXa40UmClBg91DgK2bpcAqpoDmkPF3tZE0s/e7tPcFDHqS/HqbVop2D0SThFpHDaXwRUBAFp\n",
       "bLV4CYPZBY1RgivX4BkyUMljwNvkZPfZ232WX/oy6Tj1dTiFluLppV2X+QWcEvO6taDhTP5ypzXG\n",
       "KbaY5zyHU0xeoiywi0tzN5F0DisnTEtXqO5uE+449dU4tRSd6HB6ME6Nk0gBAYaYDyFRhFOb0jSf\n",
       "4RS8pE/BCBSl+Zy9525C6Wdvt7VRko5TX4xTouwex/yAEUwIwCjn+VWv8tmmdj5FilPk4AcCAZzG\n",
       "KJhmw6kB61MZnGKrWfVGQnDtUqdiO1RoRLDgOO5IGTK4X1j8VTl3LwcdWG5XqEDHqS/GqbUsUkEz\n",
       "wF5S1VKXGHBevyqfbWrnU4jERp0O/v/JW2ADlUuCU8OqXsgpTk1CCGw9tFCtJigamX7Yt9+mqmfD\n",
       "J9+xY8goV6BbUOLcymm0gorXqHX4+veWrDd3nPoynKKyHIm+OsEnixVQRJRHhpnYULaPaYjPMs4B\n",
       "uO6pSX4gbUTGOtYxnKKEU1StzmX0qdGEKmicUsbFqJ1LYiNd90voO1KGDNyyToQfhUv62dt9jUnR\n",
       "ceprcQpUJGoxF0zA5K6cRroVFWKn9MRnsVYnrkNnrLztH1YwBSRanJoyZ+w+KKcUpzZcESd+dDuS\n",
       "jVzpXKucBVG4pr81cdeRMCTrntq+k372dmOb145TX4tTC2jCqYHiOBZ88a82mMEhd1YthxH5T5mD\n",
       "y0msBJ8CA9nxqUTBJc6j16/BKWX55XBqAxo1KcMAQoVTjK8qBxNKjFSjrmOPU849FQHiuKSfvd3Y\n",
       "UORJ7zj1XThFZWVlKpg5USy4XnsxyekZnPJnEftXnApTYLTpbDjroxgyEDl5RWZJ4hIssWsWp7QW\n",
       "BhUA0e13CdMyQakz51zHjiGjBUIXRRVzI+JK90/dZ/ihjlNfilNCVrJmZ6+V2LU2No/GWOSJRLIh\n",
       "d9Z9q8lJlZmCoVG5xXzAPE/0FCEyDizsCIvwkbqEliSh3uOU9rDrPzZ8pP/pWQFyquYIXUfKkOCe\n",
       "Gg+CckFgevsX3b/j1Hfh1FwzUMIKu8UpKCnDixLfGKecj2d31ma6Bw+Qt5GOXbkpCNPxAF6L2sVP\n",
       "TcfIBWpUJmEYbed0GXnDNEe9DtOwVoz0Hxu6wf+023wmA9UmHifQdaQMWb17Kvy6C1rAvKPKSx1U\n",
       "pzgVoAyiuiC2jv4cnLqJoqexZ6m9gei616fwpsZAjGBq4dggpN1ZYp1aq9uYIxhe/igc5KZQGcXj\n",
       "WUw8A/NxCwcxY+w3gFCT01lKi2jWP6V6Qx7yrO8JBQIKxlcxciEEH/VoLDgZQkdgyPbLUqprw9tn\n",
       "0Dnda+jvva2f0Lis4xQOyxykLoitoz8Hp26i6GHsYfU9+3xCbz4e3XtiYMa2U7BAyNnZ41yZQcv2\n",
       "8xgP9OQaRj4neTPveB7OHW5kTT97u7WhYGGf4hR1OgCZGwSxdfTn4NRNFD2MPVRW90ryObUVnMpY\n",
       "OmSmlGJ2cjbzvsxMITUyQFq6hjdLyzm0uxRl3NNmXvy0nvunXI5CJSHCaryNoz/IP3UPRQ9jD5T1\n",
       "C3COGZFxZRE+Sa4fHpYBvEVtBSvPzh6Vu8ygUSG64E7u8fSAB2I+04HdW4d0L/qrtf9znEIuxbJJ\n",
       "EBtHfxBO3UPRw9iDGqIGXJgSKWJaGYiadrisD2LLExQVNlcAbO47D7+mhei4wnqfif5deJMgNo7+\n",
       "IJy6h6KHsacalqABygIIweBX1T/CwTO0c5JHVBezLjpMvQqn5gacwvrVW9uh2gli2+hPwqlbKHoY\n",
       "e7jsGyX19jFtmRpwigD3j/YbSKxebtOC84KYjH5iyxQvEUVouUYRH26c7GfN3CuC5XywmnDHqd4+\n",
       "SGVYG3BKv/19GInxqo6HPfB95Eg8+kRSCF9WXlOSGV8WzvFp5SaxKLxUES70ihWFxgze4hK0pPQf\n",
       "jYEVq5PIBs3iMk5VJruhUQFmExlk7xXN2HhAXmFWb00NbBZ9N/2a3A4bp2BJXPbSs7TglMof8IqX\n",
       "zvYS47kgJqNTSQki1FI/ZAB60HRGigrh02YUvqCeMJDD25GXoCWh6AgIEAxqFrMOX8Wpk8luaxgH\n",
       "D7nhMs+s17XhFOzbfV9pU2fBBX3B6B9tS6RtOLXdAORNI4k2dYgVBDEZnUhKJEIXcEqcidQM3Z7V\n",
       "F3DKR1qmeDs1U3QEBIj0tiEuc6KCU9FkQmCy/bd/12R7s2+lzMikNJPdoCRzSU12X1Rg5RkVR19c\n",
       "cPSnVUQ/CaccNY3J4vR2FruVb9SyJNxm9w0cejneVCOU3XsjCGI0OpGUWIQUSrB5pVDEB9t3kRAD\n",
       "mSaIscOpDeRch0DCQqTYDpU+Nent2MgGy+t2Tqk0hCODRYILQOyMqkQk0sE4ax5vc/FMGYqiLP5A\n",
       "DaRwJELhFMcYr9v/Y9NkggxgPqSq5XuzMJUZmSydU4n51nJhBbxlvS8Y60+pOPrSgqM/riL6QTgl\n",
       "fH5T2/i5DagInpZicEZgosOpYW24o01+dLWlo9dYhOQkZ0hEghiNjiUlESGtzejAHCVn/kCbcmgY\n",
       "F0i4wSkGVbqC6VBGFtNAo9M9lX+KrHLVsKBNS5W7qjK8VJq92uB6G+Zm5GZVmUx5vM1ZOEeKoiz+\n",
       "iBpIN7sPjq36lGcP0jn4dAjZcEnvCAUuKi/h+9FzgBIP3pl7Kt1V4Oyh87f5QRVHa4r4b1YRnVLd\n",
       "/sEZrj4/uzXeuNEDwJXjt8h3z0SPU6LBGlpAE04NIBhsOqKKlwQxGh1LSiJCFqeY2S7DHejdEMd5\n",
       "+2TGLymEscx0h9kr0Y+3mgTdniuh9njUStKo08o2RYCp3yQszIh1Etk45/F2nFsoirL4I2pUbgce\n",
       "xNyIUxF7BgMhFKbvFNO7qDjcyv07QBCaZt1gkOlcOHlTnKfP/X9SxdGGgqNvqyK6F/IpcSw8OMM1\n",
       "0Np8Q9sGNmw27ZjocYo1vPxa4tF330BDvlRJNlM8lpSjCOkcLiDCAVrUPoqjBR1l1TjtR3WYenMA\n",
       "q92CBotTzKCYwyml7Wz23irsED/jBkRSGp93Fm9pGafCjXBZ/BE1CqcYH6ZWnIrMmMVa7AlO2V7i\n",
       "iCqYQWbkZugi+4ZMlj6N0Z3VQKCs+5n8kCdVHK1fwtuqiLJ9GvRkTNPhmkn1C83T2r5Q0qZ4NehG\n",
       "npme3/VaYizsSNiIU9aIyChUWUGMJSURoTxO+V2m1z1OrYPTp6ZEnwIO7L0+tWpziJkhYUZmaoF4\n",
       "PNrhbdnuixRQl8UfUaNzZe2matX4qcSs4q7AgN3YhKe9g1kbVd27f9KRUOlyVn4jC9Leq+zGndXt\n",
       "PAen1A7PqjhaLTj6viqiAoEx45/6gAzX5aLbqRl1WUPaqGViwCk81x9FcQ2nxCyV2Q8XyVukOpWU\n",
       "2AUacGoW0YHy3DJxok8ZV5YmUwVVEeWf0o+UCpvUUrXJq9YiN3txmLmeys6ocWgO+usebzM7ROYo\n",
       "irL4AzUmyKjyKslMhvWORyzgFFUURb12QVF361pN/p/dyM2SdI434h89da/IpkBKQIua9Om70W/c\n",
       "Mj0Xpw4FR99YRXTda+FTIoDP9ap7WtmFa2yzYue6EWeZGHBKVPeUj7LmX7Gf505SgggRFcJJmKp/\n",
       "hpZp9AfbY8jVeh9Q39Nxnsw6R6UOC+XCLcNzgcQ60QGPyk9vFASoF+IERogqpUtP5T4gFkhPYVYj\n",
       "DnibW6TIUBRl8Xtq6Gpu4WWcis/au5u8jbYrFJnuTNeqXu52JY5xZY5Wrbr61k3gWGDTgUSlpOgr\n",
       "K47WCo6+r4qosrRT4fVurYdnuHpajVObmQd6hQn/dR9V2rrhI2ygBwIoq4hhmYiicog1bIuyUd+x\n",
       "73CjCP1To42FPrIRnflM+ApF16gpTUbFYgQyWfSfpLSWSyYWIOlSsauQX1tdAlV+zfPBfxDVvSqV\n",
       "FH1lxdFawdF3VRE1v526Cxx3np7h6mldradCVx1MChDZPmXRjNYMjm7FSYkKxR5QBR007XCKVtd0\n",
       "QMN+njfi1Ctbc+G0bARltvP9+6Oj5u4fL3mj6vPky2UfKo6WC46+tuJoreDo26qIGn95sgDiTO/L\n",
       "KZyIvyqEgXKcWfKCkXUwUGjeP7HCpPoULunIHfsywLUnmCitB1ZBxzIx4BSpruks81/BKWUZtno4\n",
       "jjcun8b2x+ti1ayydVe4LlQcLRccfXHF0UrB0bdVETW+jMSv6S74agonfWXRP34ETEerQR5m4YhG\n",
       "D4TtM5oOjoG5pPXMTcqRZWLAKVbDKRJtPvtF9WZYQ8+fx6lqndGgT2UrjpYLjr6w4mil4Oi7qoha\n",
       "FzRbMzjVlsIZkl3hK13umckdrS7m0oTvpuzWfcbIFsEfV2z6BVC3a8ajPkVrun+vM/ouih7HHry0\n",
       "4lSu4mi54OgLK45WC46+qYqo8/BjmLFCp4astSjZ9d045Wh1y31G4U1hSGuz+n7T8eALzPqnmGal\n",
       "8gKMau2bu/n0XwwPzBZjtEyM/VOVpUTw9rrtVCDeceoRbaxp2z4qZF9xtFxw9MUVR6sFR99URdSJ\n",
       "DpkyOOVTOBOJTQQ2TsJxUHKSgf6zxPQMTnla7Sq3hiOT4s2SV9LKw22sB1Bpxm1GORMqY8NFVJu/\n",
       "dKGFMWbihfW+uObIW3BKmbhzx6mHkFeJoPIra/uKo+WCo80VRws1SAsVR+sFR99SRTTaEYQeccrn\n",
       "g8YSmwhsYrHalYiTDPSfJaYP43rusrKmnAoXNlsqh1vB1UqfIsNtkFGPMlF1PRSthOlHwuGb/ktF\n",
       "c1tnoGViwCm01Mw+9macmunwQe2P41Rtxc+/5vYVR8sFR9srjh4PGiqO1gqOvqmKaFjDpOKIUyEf\n",
       "NJLYRGDjZFc6mdH5vPQfJqarBI79fQ431B5g4FDD36XNLuWCAcxRwcQ+AJUwpKq9AGjgFTcuMZEw\n",
       "MYpHr3hK1/j8W3BKMYF1nHpIq0UietdyueJoseDo7RVHX1Zw9IYqopmLSCQ2EtgoPZRGgRv5vPSf\n",
       "JKYrw0+c0npUks7u0qUtEyNUMo++vm6UMLE5v29MaHoLTo0cIdRx6kMUKm/llCuOlgqO3l9x9GWp\n",
       "OzdUEZ0qEhsJbJLs6lOu8nnpP0pMj3bnydB6dDqd3aVLJb82HCR6rVXPtqmLalcARBImNu+XkObR\n",
       "9/W+r8MpFUNUe+jThzSTiVUuOHp/xdHXFRz9eRXR6VRijwIbW3bG1X3MSz9JTM/kpRcS07OLiZ7W\n",
       "fd7R2V1il9iu9BHzBEF9AwVC3MYoeiZ6nEKgzf3QcepbcYou5Zekr5rXVHG0gkP3VBx9YcHRn1cR\n",
       "nU4l9iiwJPLVWig55KWfJKZn8tILielZnPK07uMnzm6A+Ee2w1OEDPt5ltm6plN0nPo+nPJ7+w21\n",
       "l+hDKo6+tuDoj6uITlcENkoPPUKJt/vyiemw9gNRYno+OMvT2pje84+F3A6ZqYGJjfuj78PpO059\n",
       "IU5pz25JuPjQ2wU7+oLAJid3Pjefl36SmJ6b7DQxHf7m/jIFLayt3sx4SB79MU4hxtifKl55K0UP\n",
       "ZU8lLKfX77vEzPP6fWWzaRKX5Bxd+AE6PXG7PrGu1oDHRZmgif9MSZA1AfKHTYKoHKZ/qt7brRQ9\n",
       "lT2fFdL2Vxt9FZiQj769LHXzz0qG5vzh/5oawJoUd40PAAAAAElFTkSuQmCC\n",
       "\" style=\"display:inline;vertical-align:middle;\" /></a><br>"
      ],
      "text/plain": [
       "<IPython.core.display.HTML object>"
      ]
     },
     "metadata": {},
     "output_type": "display_data"
    }
   ],
   "source": [
    "ortho_norm_bases_def = Forall(K, Forall(\n",
    "    H, Forall(\n",
    "        n, Forall(x_1_to_n, \n",
    "                  Equals(InSet(Set(x_1_to_n), OrthoNormBases(H)),\n",
    "                         And(InSet(Set(x_1_to_n), Bases(H)),\n",
    "                             Forall((v, w), Equals(InnerProd(v, w), \n",
    "                                                   KroneckerDelta(v, w)),\n",
    "                                    domain=Set(x_1_to_n)))).with_wrap_after_operator(),\n",
    "                  domain=H),\n",
    "        domain=NaturalPos),\n",
    "    domain=InnerProdSpaces(K)))"
   ]
  },
  {
   "cell_type": "markdown",
   "metadata": {},
   "source": [
    "Define an orthogonal projection onto a subspace:"
   ]
  },
  {
   "cell_type": "code",
   "execution_count": 7,
   "metadata": {},
   "outputs": [
    {
     "data": {
      "text/html": [
       "<strong id=\"ortho_proj_def\">ortho_proj_def:</strong> <a class=\"ProveItLink\" href=\"../__pv_it/axioms/ad0f33a63bc8757004047c35a682468563f8cc860/axiom_expr.ipynb\"><img src=\"data:image/png;base64,iVBORw0KGgoAAAANSUhEUgAAA6kAAABYCAMAAAAgJ0GgAAAAQlBMVEX///8AAAAAAAAAAAAAAAAA\n",
       "AAAAAAAAAAAAAAAAAAAAAAAAAAAAAAAAAAAAAAAAAAAAAAAAAAAAAAAAAAAAAAAAAACGKEuzAAAA\n",
       "FXRSTlMAq1RmmUTNIjK7EInv3XYgpbnDMEDI1t8AAAAACXBIWXMAAA7EAAAOxAGVKw4bAAAVmklE\n",
       "QVR42u1d24KEKq4VRJGL7Dn7DP//qyMCAgoatavK6iYPXa0iBmWREELSNH+EBj0T+tTz+66pVOmI\n",
       "6MhXZ0bbcf/OKxi0aCf6FF4Iqr2wEoDEuqOYXtuiP4VU+sGnY8l3R9Jnju9Xb6AVcNdJtpmTbUXq\n",
       "e4hnX/9CCj/xjZ3nqlPpb6UL1OU6akXqmwj1uwJXOGgwrRlCrCccgCNECMojYuglyQg8NM140FQ9\n",
       "K48aIpolOa4o6f3knvYrvtqJYTnxwEcte4Nr5apWbUXc9c7CKlI/9+y96TEPMNb2XyaPoEr7GaRq\n",
       "HFZQc1YIlGdjPk1lcdxA4SU5rggZOqmL4w3Ss+DFzN3nsdzzirjLkw6NK1I/RP2uSCVt4NEKSazV\n",
       "0cd0BbBOoEqdLGUofxdyn10UR40VV8xU2I9uHGkzb5VFj52qJulvpQvExorUzxDeFamNDBqtw50q\n",
       "Q8lBf7mnT76qAiF10CPAsDFzPt8gmWtGRlD202vl0dO8NrDWCtxYNVQTOKSrqorUz4jUXWDgIHCZ\n",
       "9r/DAfRJAHcbtxGE1E73x6NLKMLduJGdbLeaxEBt+jb9bVYTVzZUJB4LVVmR+pAhMlF+g/zUDHKD\n",
       "mR0uOOime7peKix6ipEeEcIzUqlSzt7EiVKki5EqpomQvye+3ohR4i1XnVMJ8lxJjWLx6ZcD02XB\n",
       "gYXpb53BApQwXJH6AUJ6t3P2q2kqFWP4TmSMCAWVE4d7zPgrCaYGvaOXqca+a1s8jOYvUwtSubJL\n",
       "Ru6e6LoRn3jD1SS2XffJvkCRArjt01/LpJRLI2SF6jFtlJ6K1DcQ12z3esCl0kgIAXCj2iB1HK0x\n",
       "aEGqXCxAo7DFBoPUcarfL5O6e6Lr5ha85mpAUjNDUhbGoUS3xzL9ndvFeCJfcYXi4eA+VKS+nVq9\n",
       "3zNlt56mAj5kGxQlM/z2TtwGmerV1cE93cw1aTJm2Hvi6zFSF65wqxE2pLPmXEJRYi8bdPprvD5W\n",
       "k+bNiUpr6tYmxYrUd5gH9pXfCKkAQ4//bihVPntSQqq3OxuQrpBKLNK7eIq8RarXeged82Ygg1uo\n",
       "WfqYTH+N0o2Sbkd7UaF4qP7KitT3K78HSyJBz8yszeTnqZP6u+B8rt13foNUkZepZINUkchUUtB+\n",
       "vcm3zb0/YZS0Mb6Cx/TX3hu3YqzWX8jwPlSkvl35PRAhTC3TVPBGH+pVUbcC65Hab5DaWMfC2X6b\n",
       "Q2p8PUbqwpU3+RLfVyINQXWbFrYs/XVHQXPuq/s+gNYr6hWp7zAOHOBvWc/oT3yNweq5auwSrVf0\n",
       "Fql9QOogBw/LIVGv3T3R9RipC1fe38E4W/DB6Ai+Es78TZF+71d3SNrTkH8JpG7ThfXWviL1zST1\n",
       "IehsFzbu+Sf2oChGiJsAdkhLZCGGkODNYI4HzPRsuqFECAMUinqtlyljuMdfT5E6eO2VMd+OwS7o\n",
       "jNaLf2BSzyAfpmrHRWa6oWP59ah2HY+yikLYRDW1blSkfn6aOnXqB03cgp3ac+V978kER9t58I6F\n",
       "jI7pb7iw1Z0r7VCfqmIVqS8nrA+lyFO82RWZZrLDMVd7826/24DUbW/3iKwcSipSX//Gj9ck2DOM\n",
       "LEzG3r5FrviOiu6V26rk3qU2HeErUt+gxRx75PBn9GsqVOzCW+JKAcYcVg28t7urrEh9K0kNmIXS\n",
       "R0YzOc+VoulvpcvE02iEFakvJ62rDaXSpY4zVKS+Uy79pUCtlX6QxmTaVJH6asKQ8AqBSA3q93v1\n",
       "2XPb/frE+FuR+mpSYK/7uXRfO/TvJXXKcIiSRYOK1FeT0Cc+T6efZ4lRP+BRT+HX6LWq1Vf4/bMz\n",
       "m4hIkpilIvXVhE4kwjkI3/0ZEvf9dPcifK+vnY3pvZQXX+BPzOWJPfQi0cYqUl8+jGq4AxJ5ou5r\n",
       "EBAGG3xhLNmLO443UuZsTG9f/huQepTzZIXUsSL1jdTDkTro4aFIDftfLmxZ24s7zjNj09kwS658\n",
       "glTx1PgvI3zcVonrQ0Xqyz+NBs9N+kfGLDEIWIL0XnES3Is7nvMOPusF7crHSOXjUy1zGN4J22R9\n",
       "ryL11STBSMWaPhWpi5y7Iqv24o5nY6jJk0LVlo+Rqlr0VF24ZxWpT0Uq1EQyPtOpfUZA68NtX5Ai\n",
       "O3HHcba+/uRM1ZaPkTpG8YUfJ1QHcMmK1PcitYWyh5+L1MaG65UXQpXtxR3317hSiA/CSWxxOAvI\n",
       "lY+QasxUj40BI8llpN4z7H0dUt/cXA1F6lOTTlsEkFkSsAsuzHtxx/01YnJMqoZYY2cU07sQ7y1X\n",
       "PkKqQSl+agYrAv3O3Qaptwx734fUNzdXA0Ul1+TJSKXI/ylJAKbNTjck0Uq724s77q611PRE3iAL\n",
       "XCyPZnC58gGp1v41PnRjRAdXsuK9HQaptwx7X0T//Oef8B3f1tz/+/f/gfaD4clIncXpdslyUIix\n",
       "LlLryGb024s77q6ZlkdrycNh4Klc+cCcHSvUUz2oJXCy/8+//0ZH//1Pc8+w94Xz1Pc2FypT2VMt\n",
       "Bg4BWGXsSYREw4uaRIDYCrK9uOPhWiMDsDoJ6e/r8gtS3RotHx/6QgnQXrKVqXcMe9+I1Pc2F4pU\n",
       "zZ6N1Ol1tQ4cShGqjPBcuRNJkgHqbtzxoBnPHs/cBVQbj+apufILUv0ITB4qeDBQ/c0g9YZh7xuR\n",
       "+t7mApHaafFwpArslBFFG8SaHm+it6isAr8Xd9xe45P+jIxcdK+gPRi08uUXpHqc04dKHgr0BM8h\n",
       "9bph7yuR+tbmApFKdPdwpFKf9qmdETa9w24lG0R2AWIv7ri9hvXAyYS8zgtDcSSUcuU9n+2iFj81\n",
       "p7KUl5F6aNh7gHL/g0g931wMmFmoW0jtHxvDZZFVkVHXvsm2n5M1+hyLgqtcI/bijttrJtNyg0m7\n",
       "ZMQ5GLTy5T2fIWbb8FCbEoN96xxSY8MeJf0cGD3e5ZC3wHMhx2liInothqY1uTiNVYSycQ9rSikx\n",
       "XFD0EoVoxY+wHYYWuN8gNbFjdkwTQRDKYBH3zmwxLyxkqk5PkTtI1U+1f+T2qAxy3heafkczR80K\n",
       "1b2No7lr9OSrcOXF12TRULAukUVqMOy1wqelTka2xAK/mObZLJeU9OMX1U2UJWH9URbFk6CbSE34\n",
       "4SwwWuB+jdTEjtlae8SYNm22SPDRjvkoX/XqVCeuI5U+1qC0QQCVc/IbsppAzDvZskJ1z+M+d+1s\n",
       "TG9X/nuQimFL51mkLoY9Azhuc87LdBgIFvhgmo+QaqXsDlJtKVv0PlIjfqLIsiXu10iN7JgTMzYT\n",
       "k06bNn35CXh4PjS+EpmqN6ey27VgSMVP9XvIIICoTihl2kr9TJCTOVcNRzrns7sX+3d77ewyty//\n",
       "PUgdYMNyHqmLYa/xC8mErISYB2pkmg9InRVfh1TZKmX3Covpv4b2PSakQ1pMNfTzLIIaHblVwpSi\n",
       "onVeQ0ooo4PONzUKt6ItIzXwQ8W6fRnu10iNm2u34c9LAPGqAw2vaSxXnZzKLtDCkKq0+hqkJhMg\n",
       "M+04gshe3PHttbMxvX3570Eqh0118kilUT53a/ReqY+LBT5+tWwUEzHpFV+LVAOIeZNEj2fVpJN4\n",
       "gpOVO3TU4wzMuZSJ72Vyj0nzsgWZrXj2JqNJJnGh2aZr++0YKyBkuV8jNWrujEg6C9ak14jlYLH2\n",
       "Z6pOTmVdTWFIJfqxXififoSivQjf62tnY3q78mqU35PtERZYNo/UYNjjvdZyolVliwU+Ns1H2i+P\n",
       "ZOrMTGflTcemXx4pjdNMcM6U7UvR6U2z1umRlLubBk3ShGJrpGb5KXK/Rmpkx2ylUso+K6kqhDTq\n",
       "WKnq1amOXUYq0zVP99+hEWT8LSA17lumQ7fpsnGwwMem+R2kTh29le1EnTth/3KvMi6ljNI7KrP0\n",
       "74Bjb+qYTlYYVyAI/HB0zP0WqYFQpExETRvCW8KoXHVyariO1F7X9BB/h2Bf+xCp3RjsLAEYiwU+\n",
       "Ns0DZOpiYppO89bZksao1DgvpHM/L3Q3DXyFCdYU+FnNDnPc7yI1CgcYN83PRocAwEzV6amC9gvR\n",
       "ymRxlMVagzfO7SvYv9Wr+5MNS4JtxwfEfDZe1KC6n0Cq7aO99fOyfTexwEem+TxSDSDm+dus1Cov\n",
       "TXUzDM3MonE6mGWWYtPp6Xc0NiQTC3UqbW+aOz0rITVdESBiyHMPQSqNT4amUc1IO1U7W0vG8otJ\n",
       "npbdvQGTqeWZC/4hhxSCfitQP9qwId5cN6Q77YpRZhCoTxwi1a7lS2WcPQaJNxb4YJoXUk7CTRnP\n",
       "h+kqmUqatQaq2lbZjiyEsf0iLazFSJgFD2ODmtlosTL9XJG2Hea+Ppd2P5ioVtAsUrcrAp1YPB8S\n",
       "7gFIVUxHXuXRqkOHBRu1PXbWxfWL2Twta7V8CFLb37r94tMNa1Hp4AeQ2uwh1dni0Gi9djJVwkzz\n",
       "R2zIc+WBi2wr7gHaL6Bp1qUh82LSU/nFCFh0llcjdZC/1Kn78w1juHRQZI2A+kR3Ko5S96r3MOiX\n",
       "IHX/kVetNtvt0bkXQ+hlpPJXI7X/rfukPt8wHgMyOXgrUl8VaYiik7u8ykhFjAW/39cgNbNBevti\n",
       "2ryWMcKQKl+KVPxbc7i+rmHw155MlOODIlIFyM+l+87YhD+wiHEnNiG/XKSHfJVXI3X8rSL1dQ2D\n",
       "T+8So2R8cBOpuMbQf+80BqI8vBipw28VqS9oGHcBJk5smUgyuEUHN5Ha3s9LM6hWVKRCtSiQ7/1r\n",
       "56nI97ofyV3o3yKgpuFKvSeYRAxY52nFTKH92+Jzrcwf3Jynqtu53kxwP1aRCp3FgGJxvBapS8f4\n",
       "CS92n0YRsuflVNSFkI8RzOZRj1+lfDyR8XEoVrKtisaLLtHBTaSmmXevIJV9qYvqkzMdHyH1Vjjx\n",
       "0PD7GRbDPnpIaEdQeGwhlDWbq7MDSvxFQSkfQRkfF36SSijp/ZhLjS9SXFWSwC0c3FxPJYk2dgWp\n",
       "s99BRSqQWg1ZmpcHSL0VTjx85NsZFqM0iqCdW4BCZvMUH2dWlviu3dmGzaMdIOUjIONjxE9UCSFD\n",
       "5z8S6ldVJXlvw8FNpLJkNnsFqZ1o27YiFfq2NMTHo7y7wiL1Vjhx1MdIvReZfAnIAMsmcSx4XciN\n",
       "mRcfAQKKVNQnnxeQ8vE442PMT6iEmfv6Mda5o6qUTqaXh0iF7ZzqEzxX2++riYI2I5a/nZun3kqL\n",
       "iJIJ4K3I5PLcHOh4NGAuPCGP+nYWqZlYkhIlCIGkfDx0aUr48ZXYjyBZE18LVSX528JB8VkjqCfK\n",
       "pE9UpL6cNOSx5SCiDql3womHdaK7GRZDGkUOvPtQw7aTMZfort8JiZTZU5gsgMFSPh5mfEz4SSrh\n",
       "7nFeksepsXDczfARUqWGdRxekfpOGiFbnFTRGuhtvzfCiYe672ZYDKF4nUElTY/oerSaNUa7cRgf\n",
       "PIV7ZNgcqGhH+90uDSYvrZTyMWHnMONjyk8Se7hzH9I/IFTFY0bCQRGpoAkRTUtVpL6cEMQk3xb9\n",
       "IzxSr4cTj9YN7mZYDHLE7wRM0iO6h9jka65rHWSuoLbhDl9uY0xAanLPemWapqKskPIxZeco42PK\n",
       "TyKD3QR0SR0fVZXYfpaDElIpKI5Sl5oiK1JfTgri+tAVV109Ug/Cie8EOh7WSL2eYXFJJNM5nTxN\n",
       "j2gfhy1wnVcC6Q6GEYeM+cflYyxZlHCPCw0rp3xcsXOU8THlJ86qg6Se3cuXCPhRVck4G+bJ/OzH\n",
       "TvuNqEh9K3WQZRpeLLR4PmTTIvr4xHuBjrugft/NsLgkZyPZdIq2KS4Pm4tqPqCDhgvLow1iq3eR\n",
       "Os2O47hmXTyvKKV8XLOjmxP8RNnocKsRNrQMvFFVyWC8HJSQ2oKcCVdLORWpLycOMv6O+gipubSI\n",
       "Pj7xbqDjjUy9nmFx6bjRur9U26GBm6fa6o4mqrZfY8tjty9TaZ9EF0hkajnlY8LOYcbHhJ84b6TT\n",
       "epcZbFzVOaQS0CLNauGuIvUdJiWQ8ZceIDWEE+9mp1S0crkpBjreIvVyhsVFGQym3zg9om+Luejj\n",
       "tQfjbz7DIrMrqbZb4nFvnjquDMkxUndSPibsHGZ8TPiJ80Y6k28bMjGMF+epPQR0600bFamvJwEz\n",
       "KbVHSPXhxLlqNJ8jyCXrFsVAx3Rt+72eYTGkWGQ2ykWcHnHpl/OSpF2XPF5QtR7tToV2+RjzMnUT\n",
       "pDVqWDnlY8rOYcbHlJ+owR6ARKcv3F5LjNBHtl+QQQmvJrMVqe+YqAIMCLRkdwpI9eHEKTejuWJJ\n",
       "fOKdQMdcb1zfr2ZYDCsTs1KbpEcMU22zm7pz/fXYvcJILW6tYX5NJIvUbTrUqGHllI8pO4cZH1N+\n",
       "4gY7KdubjBFDWlXBRb+A1AEURGHtcViR+gYCLXTL8QipIZy4yTuA1CorYjnQcQDd3QyLUdIh80+a\n",
       "HnH0kfk4Espr88figxOhPDtOI8j7KA3lhu2kfEzZOcz4mPITNZgx/zGHwXoFh6qGWKCHgwJSFWia\n",
       "uu40FalvIJAFQRQ8f3O73kwfmUb9JCviTqDjnm2QGr2VUxkWQxrFjLCMsx4IO2TgU4mxfD7GvEzd\n",
       "a1izy+vCzumMj6ESH/yH6NHu1omqSmLERI6I+S/KJKizoorUD6i/AHWHFkz3WaQONuVAkhWxHOiY\n",
       "yBJST2dYDH7pmQmoCKjgNsrqyXRQ3qUe6qFP9vu85TVm53TGxx2f/qgqkTh+LAd5pHLgaiquSP2A\n",
       "+gsZRfsejNRJ4WR9E8UnbnYDHS+GzB/IsBiwt9lAxt0oYXKXIOfJd8q3eAE/fNfbvp/VzGvEzqXt\n",
       "Q4XBJq6Kxd8oHOSR2sI20simIvX9pCCuv22evQxSuUu6Fccn3gt0zJfx+X6GxWAkbtfi2x/jVpHt\n",
       "susZTECRyg/2ec68RuyczviYNLgM4Lzpt4DUfgT1VVGR+gmCKDw8ryNnkIpU050SVowsmtn9OEpL\n",
       "GkVAm05FlvH5GE8kWGQEyGv6hIsNLlXV6fxBFqkUFJkFbbSFitS3kIDE0MvPujJI7Xw2EfBcS/7S\n",
       "T/qMhok+f5BFqoC5PaCmIvUTxGGhRBVwnnr+8d3v/KTPaJjE+YMcUjnI51dtu2pF6rtmqgChquSL\n",
       "kJqO+r+JntCw5LPFBzmkEtAyUWaFrCL1TQQK9j6qFyG1kb815fkDGlYSqTmkUpASkBvXK1LfRBjy\n",
       "8C5T6GeQWpMyvk6k9qWDDFIR5GvynNGpIvVdRCBLeRll7ofyp/btL/2qn24YlbRwkEFqC8ohmc0M\n",
       "UJH6Pv0X0qU2zqs/hdQogu3vog83jI+4cJBBKgXp6l0Wzn8LqTN9Ktk8KCcv36x3YsPzD8gN2v/S\n",
       "LFKfbRhr8wfEfDZ+Sf5vNhGMtuP+HaTydqaP2fU7yOBPX2Yhob/VqPTJhvGudHBU+EQp22/b5n9y\n",
       "0+rz3RrG2wAAAABJRU5ErkJggg==\n",
       "\" style=\"display:inline;vertical-align:middle;\" /></a><br>"
      ],
      "text/plain": [
       "<IPython.core.display.HTML object>"
      ]
     },
     "metadata": {},
     "output_type": "display_data"
    }
   ],
   "source": [
    "ortho_proj_def = Forall(\n",
    "    (Hspace, X), Forall(\n",
    "        P, \n",
    "        Iff(Equals(P, OrthoProj(Hspace, X)),\n",
    "            And(Forall(x, Equals(Px, x), domain=X),\n",
    "                Forall(y, Implies(Forall(x, Equals(InnerProd(x, y), zero),\n",
    "                                         domain=X),\n",
    "                                  Equals(Py, VecZero(Hspace))),\n",
    "                       domain=Hspace)).with_wrap_after_operator())\n",
    "        .with_wrap_after_operator(),\n",
    "        domain=LinMap(Hspace, Hspace)\n",
    "    ),\n",
    "    domain=HilbertSpaces, condition=SubsetEq(X, Hspace))"
   ]
  },
  {
   "cell_type": "code",
   "execution_count": 8,
   "metadata": {},
   "outputs": [
    {
     "name": "stdout",
     "output_type": "stream",
     "text": [
      "These axioms may now be imported from the theory package: proveit.linear_algebra.inner_products\n"
     ]
    }
   ],
   "source": [
    "%end axioms"
   ]
  }
 ],
 "metadata": {
  "kernelspec": {
   "display_name": "Python 3",
   "language": "python",
   "name": "python3"
  }
 },
 "nbformat": 4,
 "nbformat_minor": 0
}