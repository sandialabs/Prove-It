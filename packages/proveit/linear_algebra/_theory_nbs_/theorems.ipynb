{
 "cells": [
  {
   "cell_type": "markdown",
   "metadata": {},
   "source": [
    "Theorems (or conjectures) for the theory of <a class=\"ProveItLink\" href=\"theory.ipynb\">proveit.linear_algebra</a>\n",
    "========"
   ]
  },
  {
   "cell_type": "code",
   "execution_count": null,
   "metadata": {},
   "outputs": [],
   "source": [
    "import proveit\n",
    "# Prepare this notebook for defining the theorems of a theory:\n",
    "%theorems_notebook # Keep this at the top following 'import proveit'.\n",
    "from proveit import (a, b, c, d, f, i, j, k, m, n, x, y, z, fy, A, U, S, alpha, beta)\n",
    "from proveit import ExprRange, IndexedVar\n",
    "from proveit.core_expr_types import (bj, a_1_to_m, x_1_to_i, x_1_to_m,\n",
    "                                     y_1_to_j, z_1_to_k, z_1_to_n)\n",
    "from proveit.logic import Equals, Forall, Iff, InSet, Implies\n",
    "from proveit.numbers import Add, Mult, Exp, Sum\n",
    "from proveit.numbers import one\n",
    "from proveit.numbers import Complex, Integer, Interval, Natural, NaturalPos\n",
    "from proveit.linear_algebra import ScalarProd, TensorProd, MatrixProd, SU"
   ]
  },
  {
   "cell_type": "code",
   "execution_count": null,
   "metadata": {},
   "outputs": [],
   "source": [
    "%begin theorems"
   ]
  },
  {
   "cell_type": "code",
   "execution_count": null,
   "metadata": {},
   "outputs": [],
   "source": [
    "factor_scalar_from_tensor_prod = (\n",
    "    Forall((m, n),\n",
    "    Forall((x_1_to_m, y, z_1_to_n),\n",
    "           Forall(alpha,\n",
    "                  Equals(TensorProd(x_1_to_m, ScalarProd(alpha, y), z_1_to_n),\n",
    "                         ScalarProd(alpha, TensorProd(x_1_to_m, y, z_1_to_n))))),\n",
    "    domain = Natural))"
   ]
  },
  {
   "cell_type": "code",
   "execution_count": null,
   "metadata": {},
   "outputs": [],
   "source": [
    "doubly_scaled_as_singly_scaled = (\n",
    "    Forall(x,\n",
    "           Forall((alpha, beta),\n",
    "                  Equals(ScalarProd(alpha, ScalarProd(beta, x)), \n",
    "                         ScalarProd(Mult(alpha, beta), x)))\n",
    "          ))"
   ]
  },
  {
   "cell_type": "code",
   "execution_count": null,
   "metadata": {},
   "outputs": [],
   "source": [
    "tensor_prod_equiv_by_elimination = (\n",
    "    Forall((m, n),\n",
    "    Forall((a_1_to_m, x, y, z_1_to_n),\n",
    "           Iff(Equals(TensorProd(a_1_to_m, x, z_1_to_n),\n",
    "                      TensorProd(a_1_to_m, y, z_1_to_n)),\n",
    "               Equals(x, y))),\n",
    "    domain = Natural))"
   ]
  },
  {
   "cell_type": "code",
   "execution_count": null,
   "metadata": {},
   "outputs": [],
   "source": [
    "int_pow_s_uclosure = (\n",
    "    Forall((n, k),\n",
    "           Forall(U, InSet(Exp(U, k), SU(n)), domain=SU(n)), \n",
    "           domain=NaturalPos))"
   ]
  },
  {
   "cell_type": "code",
   "execution_count": null,
   "metadata": {},
   "outputs": [],
   "source": [
    "eigen_pow = (\n",
    "    Forall(k,\n",
    "    Forall(b,\n",
    "    Forall((A, x), \n",
    "        Implies(Equals(MatrixProd(A, x), ScalarProd(b, x)), \n",
    "                Equals(MatrixProd(Exp(A, k), x), ScalarProd(Exp(b, k), x)))),\n",
    "    domain=Complex), domain=NaturalPos))"
   ]
  },
  {
   "cell_type": "code",
   "execution_count": null,
   "metadata": {},
   "outputs": [],
   "source": [
    "distribute_tensor_prod_over_sum = (\n",
    "    Forall((i, j, k),\n",
    "    Forall((x_1_to_i, y_1_to_j, z_1_to_k), \n",
    "           Equals(TensorProd(x_1_to_i, Add(y_1_to_j), z_1_to_k),\n",
    "                  Add(ExprRange(m, TensorProd(x_1_to_i, IndexedVar(y, m), z_1_to_k),\n",
    "                      one, j)))),\n",
    "    domain = Natural))"
   ]
  },
  {
   "cell_type": "code",
   "execution_count": null,
   "metadata": {},
   "outputs": [],
   "source": [
    "distribute_tensor_prod_over_summation = (\n",
    "    Forall((m, n),\n",
    "    Forall((f, S, x_1_to_m, z_1_to_n), \n",
    "    Equals(TensorProd(x_1_to_m, Sum(y, fy, domain=S), z_1_to_n),\n",
    "    Sum(y, TensorProd(x_1_to_m, fy, z_1_to_n), domain=S))),\n",
    "    domain = Natural))"
   ]
  },
  {
   "cell_type": "code",
   "execution_count": null,
   "metadata": {},
   "outputs": [],
   "source": [
    "tensor_prod_linearity = (\n",
    "    Forall((a, b),\n",
    "    Forall((c, d),\n",
    "           Equals(Sum(j, TensorProd(a, bj), domain=Interval(c, d)),\n",
    "                  TensorProd(a, Sum(j, bj, domain=Interval(c, d)))),\n",
    "           domain=Integer)))"
   ]
  },
  {
   "cell_type": "code",
   "execution_count": null,
   "metadata": {},
   "outputs": [],
   "source": [
    "%end theorems"
   ]
  }
 ],
 "metadata": {
  "kernelspec": {
   "display_name": "Python 3",
   "language": "python",
   "name": "python3"
  }
 },
 "nbformat": 4,
 "nbformat_minor": 0
}
