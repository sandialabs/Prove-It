{
 "cells": [
  {
   "cell_type": "markdown",
   "metadata": {},
   "source": [
    "Theorems (or conjectures) for the theory of <a class=\"ProveItLink\" href=\"theory.ipynb\">proveit.linear_algebra</a>\n",
    "========"
   ]
  },
  {
   "cell_type": "code",
   "execution_count": 1,
   "metadata": {},
   "outputs": [],
   "source": [
    "import proveit\n",
    "# Prepare this notebook for defining the theorems of a theory:\n",
    "%theorems_notebook # Keep this at the top following 'import proveit'.\n",
    "\n",
    "from proveit import n\n",
    "from proveit.logic import Forall, InSet, CartExp, InClass\n",
    "from proveit.numbers import NaturalPos, Rational, Real, Complex\n",
    "from proveit.linear_algebra import VecSpaces"
   ]
  },
  {
   "cell_type": "code",
   "execution_count": 2,
   "metadata": {},
   "outputs": [
    {
     "name": "stdout",
     "output_type": "stream",
     "text": [
      "Defining theorems for theory 'proveit.linear_algebra'\n",
      "Subsequent end-of-cell assignments will define theorems\n",
      "'%end theorems' will finalize the definitions\n"
     ]
    }
   ],
   "source": [
    "%begin theorems"
   ]
  },
  {
   "cell_type": "markdown",
   "metadata": {},
   "source": [
    "Number field vector sets are vector spaces:"
   ]
  },
  {
   "cell_type": "code",
   "execution_count": 3,
   "metadata": {},
   "outputs": [
    {
     "data": {
      "text/html": [
       "<strong id=\"rational_vec_set_is_vec_space\"><a class=\"ProveItLink\" href=\"proofs/rational_vec_set_is_vec_space/thm_proof.ipynb\">rational_vec_set_is_vec_space</a> (conjecture without proof):<br></strong> <a class=\"ProveItLink\" href=\"../__pv_it/theorems/e929e5668227ecded659c53156e7bc16874c98620/theorem_expr.ipynb\"><img src=\"data:image/png;base64,iVBORw0KGgoAAAANSUhEUgAAAQwAAAAmBAMAAADD4rhEAAAAMFBMVEX///8AAAAAAAAAAAAAAAAA\n",
       "AAAAAAAAAAAAAAAAAAAAAAAAAAAAAAAAAAAAAAAAAAAv3aB7AAAAD3RSTlMAq1RmmUTNIjK7EInv\n",
       "3XZ/CtNrAAAACXBIWXMAAA7EAAAOxAGVKw4bAAAFBElEQVRYw7VYXWgcVRT+sruzM5nZTBZrhaDo\n",
       "WinmoZqlSaRgSVezhYISV9MnE3RBGqktOpUiKmm7EcQHa7JUC6b+dLWlLzVm+2csQUlbS2JEyEMM\n",
       "VQnZtpKigSWmiRstTTz37vxt2Ayjyd6HkzuTM+d+95zvnHPvAq7G4yjZkF9yreoLlg4G3ku51Xyk\n",
       "hCjgdbtHabiUMHDIpZ4/XVIYX7iMSk2qpDDcMu/XkqKAmHNHjX9KCwMfudIqS9oe6jZlIyvevjnT\n",
       "uNzs6qvKMC8z57s/0CDXX8LgSmFcM6zhOf58IAROjwccv+rimK8OYd/dEL+MozBG3qO3gxAnvjdp\n",
       "LEejIUeHedKGNah8hxURbGV/X3SEsYUJ5dEwhK1JlGWEgSVEv8ksxcznngQeijvZO2FZA6/kvjg6\n",
       "WKySjjDuYuJdP4lkAwIJXyRRGOm/mCXr+Sx5yBFGo2UNdeyFOg0/OVMJOcK4wMSRz0h87ccBVLyV\n",
       "h6F+Mj7GJ0cpaPWW+i62gpO9AcsaAiyWnnl4KTp+Z0bdYgFPdpJc50s8DfUMfyu8bLChhphgq0Af\n",
       "E6qwEzXiljX4maY0A/w4Pv6DMwwWeyndTLLZa/ntNZOTgQFIGYhNFI3j/adRc4t4Iuw+E11D0cn2\n",
       "pyA/0R/C3qkIOhsmWfzSNmsKwy/TCtvIRUXWttqIOMP2ntlIstNjbdOitTIDXwoHNTUuXkRrQl1c\n",
       "3EHYLqMngg0a0a89JAxJg5iUk6hgHSpss5Zn0QKwB2Kxmm6lHHMZxDRL6mbVSoi4naNlwCgw44/T\n",
       "wjh2z2IY/iA8c/Qk5NAGzyDlZOX6YagsqUI2a54BPezlKSVm5/3oOWwO2mEIc0zq0TQjIVEwx3/O\n",
       "z1/R6iGRY3f16j48SNSPQJ4lf7fkZMatLgKWnviUVaBAzGZNmmb6pOjJWAztrDqM+5UUW2yJN3Bk\n",
       "j85to0jZkqEmTVufra3d1JUBpychJxj4G/Jj63LSAlNprK1NnJyY1WGY1vJFiL2ON5iFaBurqJmI\n",
       "grPR0WisAEYLz/SN1toj1jQwlMlr9Ub0ZJ3XvbEhJuWYU9BF3BZT2JLgQbGseUZ0buA0VTJvY+dv\n",
       "wHX2qnr9fqWAG+JNDpHVvbU2F2RtdfR2ilcXgbiB0E/0yTTnxjxtU8i900arBSjOz2RQRq4qz9is\n",
       "eZNGLraTxrHWcEDL+7la+bylAIa8wP+coi5wp/1IZuWu+CfjQwx94iUo2lgIJ4gJg+hJEwx1/sH2\n",
       "MPqky1BeHUY5kYPnqGHNlzZysYwc9eYkKlMCz8ZqRH4vgIHv8ms91TZrr+Jy1bPmfAf7f3RKw/Gm\n",
       "GwhuP7WWUK7Jkuy49sc3GTma1bC3qU/4NnuOBXnEZo33ImnOMHQvWuHd2d19iGCc9BfUDezUjx2J\n",
       "hoKUFs7rxbz4+XX5JnvFZm0fr6tmzx5CVJLSeW8IDxd+9qQBVb3jbddnCgcYdTZrjbz+GXQnTl2p\n",
       "zldTalJXlzR6vVh4qna/7xpGxfLn3HLNtJbv7eWGrhDEVBhvULSkMY3VRPvoDf33A5Zw3wVt2eti\n",
       "cgmiysJOSCezw8XQr/jwuWTsN2c3uHxec3W7Gyjxyfwrd3fuuRLDuLiaaP/3UF16O5Aoeou6vkpX\n",
       "24DLFCh+wu1wPnG6H5NuFV8o9vLD1brCur5+9RTLqF+wOhf9HtdlSSz2+1RLbXhVYLivzHi9hD/B\n",
       "sR77Lzb+VqGb5r7CAAAAAElFTkSuQmCC\n",
       "\" style=\"display:inline;vertical-align:middle;\" /></a><br>"
      ],
      "text/plain": [
       "<IPython.core.display.HTML object>"
      ]
     },
     "metadata": {},
     "output_type": "display_data"
    }
   ],
   "source": [
    "rational_vec_set_is_vec_space = Forall(\n",
    "    n, InClass(CartExp(Rational, n), VecSpaces(Rational)),\n",
    "    domain = NaturalPos)"
   ]
  },
  {
   "cell_type": "code",
   "execution_count": 4,
   "metadata": {},
   "outputs": [
    {
     "data": {
      "text/html": [
       "<strong id=\"real_vec_set_is_vec_space\"><a class=\"ProveItLink\" href=\"proofs/real_vec_set_is_vec_space/thm_proof.ipynb\">real_vec_set_is_vec_space</a> (conjecture without proof):<br></strong> <a class=\"ProveItLink\" href=\"../__pv_it/theorems/71edc57d83b6e4deabed32b302b4e323c3d60a9e0/theorem_expr.ipynb\"><img src=\"data:image/png;base64,iVBORw0KGgoAAAANSUhEUgAAAQoAAAAmBAMAAADO/MgDAAAAMFBMVEX///8AAAAAAAAAAAAAAAAA\n",
       "AAAAAAAAAAAAAAAAAAAAAAAAAAAAAAAAAAAAAAAAAAAv3aB7AAAAD3RSTlMAq1RmmUTNIjK7EInv\n",
       "3XZ/CtNrAAAACXBIWXMAAA7EAAAOxAGVKw4bAAAFCUlEQVRYw7WYbWxTZRTH/+vbfem6Vkk0+oHU\n",
       "GMkSCaspElEyr6zq4swsX/yyxZWXYECIl2RRwOGKMVGTsTUjc9mMUmSaTCSbvLgIMUx0jskMw0xC\n",
       "xGLJzAguGct0vDjcPM9z297bpavX0d4v7X2ec5/nd8/5n3OeFjB1rUa+LnmzaVObJ28U2BM1a7ki\n",
       "fxCwmn1D8Yc8UqDZpJ2jO58Un5sMSUk0nxRmRXcxnxAQbpiTxd95pcAHpqwKIgZFlzX+fsfbqulf\n",
       "Vpl6yO2j3be0Xf91L3Cg2leo3iFEkXfFwL6tA7TqS/y+3gsujQezPtXEtpUEj31RO3aOwp2u1ZWz\n",
       "54Bdt9tTAx2B1bas6z0MRLZhzcooinzs3qXgafb5ctanngSn6EZkN7AY1XOmX2BL/ayX5AuwnM9a\n",
       "s0NE8QYkkRzAy7cthN1MpZGsFPckKZ51AKcRENOn62lVKKlbp/Iftdbm4xQ2lZ5bziM0AQf51+nN\n",
       "SvFNikKCMIELxdrw1VgsxGco06zBtBInZVuuEAkKevdCFl3LTViJzJFdTdNJivv3w+7BGA8mXvwj\n",
       "MW35i9JIt5b6CSrbcks0ioLPKCIOtpY4CfwYi53JTvFngkJsNuhH0DvyINAI1I4pkCtOeC2zxxjj\n",
       "meVP0Q6lY8dJricOQ6g8CnFknDmvQqN4bwmJ3smSQ6YNyoH2DFvrrUOY1Ci+/+2SITscer6e9OI5\n",
       "iP0YRZ3XfhrXZq9TfAaD8jAs/XgGwilUhxvUolAnMETm6xlF3dZ/mC+tPKYzwDYImQq5LjcxQXHk\n",
       "8ZCxw6XJ08PSze3dyPaVHzlLL7eW2k+Q7mpURwhL1WFgsjqKOJn/xH3h/5RHszcRcinqDBqr+vAx\n",
       "rPIYKexTiYi0+w12DTG6tNxy3CBxNvngOD6d4D4LbAC6aI1PTqpd5FaRuF5x3brCZvs4hXSAS2KC\n",
       "jZCwLHH9tRrva8EDzqgtmskX3W9Lhoh06l8t0yTOkjK//90ZaMqsCTIKdwQdd5eoTXGmYL//Mfnr\n",
       "WSVFISpMB/beBAVCpalMLmd1NK44cTQwHAjOpbC9Y6grLoNfBkmcTZTtMluOZak7rPnC0keFl7mE\n",
       "r7ET1pupiKB8B3uBoYQucHhzskmNsKHih950pulCSOaIHBkxNIO4oXr+QplPUQxupHVdRF+v6SLs\n",
       "VlCz/TWSk5dqjn0ZsIisP9IoOln5tkaSSVjnSTQpmQ8VOz+uSqOQZzQKBX7JoKB1BnnSCmIfnGqd\n",
       "Dz2udZApDbao8kUQxbW3Xv+WZhqC6FkaRStZf8EoaqlQtZD3u5NJWBCG1qTsvBwVQ7maRoHvwHvq\n",
       "LVV6f1If3d+SUomDwdVW9kAOjKsF9oq76H5t6eUgxMXLDl5CR+UVCIExtWp8jBnuoQo/sK8Vba96\n",
       "wRwHcSq5EGtS1k1tbc1EcdCRVi+wKXMxq/owFpq/1G2Yd8YV1r/v4upOnaJYkxK7NV+wABqv5xdy\n",
       "iJifwmpwcxnvf0NJBfImxWvoo8DlOZ19IYffc/NPterC50qUklVTa1I7yFfiedXYm9jV5f3/EGtu\n",
       "3zvvnF5qJDV5ljOeP75qa8nwlKTk+NCdSnJeS6nIm/oN15vfM/iX5n5WT+WX4lQuYRd8JDfp6sJw\n",
       "ptHGJ3JDUWhS/NZM1Un0SLmhGDVruD5T5oRzlDH9Zi0PZcglV1TOCcUh09VIyPDnk/2IPycUe82b\n",
       "bs/fv2usq/4LEZpSbr9LR7oAAAAASUVORK5CYII=\n",
       "\" style=\"display:inline;vertical-align:middle;\" /></a><br>"
      ],
      "text/plain": [
       "<IPython.core.display.HTML object>"
      ]
     },
     "metadata": {},
     "output_type": "display_data"
    }
   ],
   "source": [
    "real_vec_set_is_vec_space = Forall(\n",
    "    n, InClass(CartExp(Real, n), VecSpaces(Real)),\n",
    "    domain = NaturalPos)"
   ]
  },
  {
   "cell_type": "code",
   "execution_count": 5,
   "metadata": {},
   "outputs": [
    {
     "data": {
      "text/html": [
       "<strong id=\"complex_vec_set_is_vec_space\"><a class=\"ProveItLink\" href=\"proofs/complex_vec_set_is_vec_space/thm_proof.ipynb\">complex_vec_set_is_vec_space</a> (conjecture without proof):<br></strong> <a class=\"ProveItLink\" href=\"../__pv_it/theorems/99baeffb935a71ab67e5b69477168a33cb49c4480/theorem_expr.ipynb\"><img src=\"data:image/png;base64,iVBORw0KGgoAAAANSUhEUgAAAQoAAAAmBAMAAADO/MgDAAAAMFBMVEX///8AAAAAAAAAAAAAAAAA\n",
       "AAAAAAAAAAAAAAAAAAAAAAAAAAAAAAAAAAAAAAAAAAAv3aB7AAAAD3RSTlMAq1RmmUTNIjK7EInv\n",
       "3XZ/CtNrAAAACXBIWXMAAA7EAAAOxAGVKw4bAAAFDUlEQVRYw7VYf2xTVRT+1va1r68rrT+i0RhS\n",
       "YzRLRFYzNBLJfLIKxJlRovGfLazAMgMa80wWnThcNf5hsrEtyCSbYirMP8ggmwgugxgmuIzIzIap\n",
       "C5HUlKBbcMlYhhNwuHnufa99fbWrz9G+ZG+v75577nfP+c53bguYutYiX5e0w7SpzZs3FNgdMWv5\n",
       "ZP5AwGp2h+L3eUSBPSbt7L35RHHYZEqKI/lEYZZ0F/MJAo7r5mjxV15R4BNTVgVtKYwua/n1tpdV\n",
       "jA9rTE3y+Lm89I+9Xt97sMpfqNwmiGU+oHt/7UQTNvPPjT5wajyUdVYrX/bSGXTdlHeOw2Pk6uqF\n",
       "88CuW53JF12Btbas/h4lIA/4pY17sYzvzy3jOfb/layznuFM/o3KdbWM5ahKG97IXP2kS/IFWMay\n",
       "anYIqKik5O4FuHzbQniPsbQtK4p72O0DJ4WgQMZZBETjcCN5hZz86JL/Q2ttfogyC93dwCqeoWnY\n",
       "ybnLlxXFt+x2v5Ntw++YxoUi9fWVWIytDydVmjVokDhnNneFtJsI2/dBembZtdyAleJpz86mOXZr\n",
       "q+PPgheTPJl4+Xdt2PIHudWtnUMEKpu7R8jGocXOznyJM8APsdi57CiusaR5m9K0Ru/Iw0ALUDcp\n",
       "Qyo/6bMsHGcYz616llYonTxBdD15FI6KYxAvT7HglQNviFpPcLHikGiBDUBnhqX11uGYYXh7X0zr\n",
       "LXq9nvLheYhDGEeDTziLqwt/Un6Gg1IUliGsg+M0qsLNyrLQIWCUzLcBTYJfkx+e03nCRfvMgEKn\n",
       "GwsYHPLmNBQGenpZuXl8tWxd6fER2twWaj9B+lSt2ENYoUSBmaoI4mT+I8VNiGvZHNBS7oy4gqmR\n",
       "jh7HGm8qCmGW8+IdI4rmGF1qbdmvEzlb/bCfmNNwjwA1QA/5+OKU0kNhFQnXq+6bE2x0kPFCC7U4\n",
       "ze5ELEtc31bLfe140BWxRf4VC3Sm8f6Q/miZI3IWl5WUfDgPlZnVQYbC04auO4uV1jhjcEnJU9I3\n",
       "C7KGIqJpgzCgoUCoNFnJG5iOxmUXjgWigaABxUtML6BHzZ2CaJjI2UrVLjF3DK0nrMbCMkjCy0LC\n",
       "feyE9YaaEYHrhUDoRjVe4OiORJO6zF4VPfyuy8ALxzVVO71c5ZLNIJ6inj9T5dNwsJb8uglpo8qL\n",
       "sEdGdf2bNMlHmiOsBO4i68/or2IT3dbRum2JImyg+bxJSfxVketApQGFNK+KVI1yIJoSgK0p9CQP\n",
       "4iBcSoMffe6tkKgMXlOkiyAUV99/6wyNNAfRtyKCfWT9JdvDx+ulx2gJW2+iCAvCFCzWpNTyKYJ8\n",
       "xYAC36lg+keiqd308/ZkV7OzRNVV9EEKTCkFQvkd9HlL6aUgxOUru39BV8UEHIFJpXJqkhnuZlO6\n",
       "P/17PcsreyHOJhyxJmXd3tGxh1B02w16ge2Zxaxyfyy0uNTVLDriDuvPuzi7k6co1qRUQSviCUy9\n",
       "XljKIWJxFNaUMJdxAR1NMJA3Ka6hT9BRIq2zL+Xwe37xoX068TkTnQnVVJvU2xQrcUxJ7U3s6vH9\n",
       "fxCbbt276JguNU5FP8vp1dDf0Z5hllPO8aE7WeRcS0nkTX2HG8jvGfxrc1+rZ/OL4nQuwS75SG4y\n",
       "1IXhTG9bns4NikKT5LdmUifR68wNinGzhtsyVU44RxUzZNbySIZackeknKA4YlqNHBl+fBK+KskJ\n",
       "io/Mm9bn79c11lX/AfvPQcP7z3tHAAAAAElFTkSuQmCC\n",
       "\" style=\"display:inline;vertical-align:middle;\" /></a><br>"
      ],
      "text/plain": [
       "<IPython.core.display.HTML object>"
      ]
     },
     "metadata": {},
     "output_type": "display_data"
    }
   ],
   "source": [
    "complex_vec_set_is_vec_space = Forall(\n",
    "    n, InClass(CartExp(Complex, n), VecSpaces(Complex)),\n",
    "    domain = NaturalPos)"
   ]
  },
  {
   "cell_type": "markdown",
   "metadata": {},
   "source": [
    "As special cases, number fields are also vector spaces:"
   ]
  },
  {
   "cell_type": "code",
   "execution_count": 6,
   "metadata": {},
   "outputs": [
    {
     "data": {
      "text/html": [
       "<strong id=\"rational_set_is_vec_space\"><a class=\"ProveItLink\" href=\"proofs/rational_set_is_vec_space/thm_proof.ipynb\">rational_set_is_vec_space</a> (conjecture without proof):<br></strong> <a class=\"ProveItLink\" href=\"../__pv_it/theorems/c55e8664fbfe479c9b9e5e8f709d6e928f0a700f0/theorem_expr.ipynb\"><img src=\"data:image/png;base64,iVBORw0KGgoAAAANSUhEUgAAAKcAAAAdBAMAAAA9aWHMAAAAMFBMVEX///8AAAAAAAAAAAAAAAAA\n",
       "AAAAAAAAAAAAAAAAAAAAAAAAAAAAAAAAAAAAAAAAAAAv3aB7AAAAD3RSTlMAEIm7mSJ2q+8y3WZE\n",
       "zVRISQrpAAAACXBIWXMAAA7EAAAOxAGVKw4bAAADZElEQVRIx+2UbUhTURjH/3fbnbvu7rasCAxx\n",
       "WCZlxMSIXghXLEMMuoRUCMUSnB9KGRVRFDUJEUviIqR+CCwKIim8RAixqGVSgRBLKPqgeL9E9oKK\n",
       "bYVl2nPu1t2EHEXrWwfuebnnnN/znP95ngNkpvBGT9brnNLS7X8NbQC45aXriPiEDa0nFP6Ga84K\n",
       "e9nXAPiec86fPzivV/OkY0oEqGtB9RHiqTQuLgb6H89dY/lGVXbYGOcqeB9JB80DTHdUiDvdwAtA\n",
       "cNFqs903V6HvjJwcryDv00IrgTYHte5e4C7xFgbIihLfYt3UfVvvlJE495N7Btn6dNAgULKU2lVE\n",
       "tjmxSCAnJa2CTYmvfqo4TgoGkns2kA01naQRcO526oxZFDhUtIm0WlQfsLn9xs3YgiBjfDmde3HB\n",
       "WoxPkr7i62LvKdLBX+AEt61AQ1WNB+299UwpF8k4QJ0BuwZTAE+oIcAHhnppmDbNwOJEp2yN8Bfx\n",
       "TLHOzg6RpVbkejAqWyLYp4ktQhPqOTeyaTk5J/qYX+2SytTfLemeHmaoSOpNZQHXgRlHhDBYdmJW\n",
       "hSMAaZpGYgzDkJqyPVjwsRFWFigaeBfza8AahhSEOa7pVvojnO/u7r4Wp47I9yFQYA3mJ0K4cwIO\n",
       "D7goBW1fjJukP11kxtWznmWQjdRJaOqEMAHzEuP2uZQLHneRW9FQ6F4XCzZ2mGkGxSdwO8Ziwme2\n",
       "pDIUUnJ6ogloyd7E7YtBiPE41RjpShJqa/FBmKFOvicRTlMJT0fDQow5jC7awzvxUNGPjz49TklY\n",
       "iTCVlFFP4xnlT8mprxQJzWSWNIV2i7ZP6JpOIQoxdmmY9troiM99yKJjmOk4FpZRp8m8nT4Ty/14\n",
       "Yju05E19YTqGUchfgEm+rSGPFGxCroug1qk3+1QUCq0wHWiEmUQ1sZguotw/Fo8voOr7SEXi3Tj6\n",
       "yKAOMbK3Rsbi8loE+otOk81Tfqo7Gg6u9nFev4yq8kJxpX8Nu2ImHL9rOKoYb8ZJI/PF5Yk0/WVx\n",
       "zP9Q3WRVltLLmmr9T5av7l34N97MNNC7en3ceuay/riw8nbLOfU3oNmBeafM+nsvHX29Gbz7Tx53\n",
       "8WyzPN9cSoibZWSq7DF6tfhfUotwyJV5aAfcmYdu/BfHvwpn5qF9ITUTmB+3He0Ekb9X8QAAAABJ\n",
       "RU5ErkJggg==\n",
       "\" style=\"display:inline;vertical-align:middle;\" /></a><br>"
      ],
      "text/plain": [
       "<IPython.core.display.HTML object>"
      ]
     },
     "metadata": {},
     "output_type": "display_data"
    }
   ],
   "source": [
    "rational_set_is_vec_space = InClass(Rational, VecSpaces(Rational))"
   ]
  },
  {
   "cell_type": "code",
   "execution_count": 7,
   "metadata": {},
   "outputs": [
    {
     "data": {
      "text/html": [
       "<strong id=\"real_set_is_vec_space\"><a class=\"ProveItLink\" href=\"proofs/real_set_is_vec_space/thm_proof.ipynb\">real_set_is_vec_space</a> (conjecture without proof):<br></strong> <a class=\"ProveItLink\" href=\"../__pv_it/theorems/4a89ad1603791a1b5befd7038b0ef10b547beb7c0/theorem_expr.ipynb\"><img src=\"data:image/png;base64,iVBORw0KGgoAAAANSUhEUgAAAKUAAAAdBAMAAAA5nLHxAAAAMFBMVEX///8AAAAAAAAAAAAAAAAA\n",
       "AAAAAAAAAAAAAAAAAAAAAAAAAAAAAAAAAAAAAAAAAAAv3aB7AAAAD3RSTlMAZs3vu90iq0QQiTKZ\n",
       "VHZ+Ip2vAAAACXBIWXMAAA7EAAAOxAGVKw4bAAAC7UlEQVRIx+2VTUhUURTH/zPOG+f55s2HCEGJ\n",
       "TIaIoVQoJkU4ixLblASDfVg8MotK0Da1Kh65CFzkFEIfCNoiSykcsFaRM7aJzOyhuxZqEUaz0Mpy\n",
       "Ydp07rv67sxiBqRZdlfn3HPe7557/+feB2RnaMlGftXhkirfvyI9xjrnJnOD53CjIJySUZBoBFoW\n",
       "D1oTPePv3BmZHyyOh9UXvACH0p6a8p4FjlqufALqkUxIOSA4ZZzp1gKpOW3Mj1luHpn5mZhun+AU\n",
       "rjODPPY5FDLpjiXApluf2PtoKhMzJ4mTEzbt3Ht879e/ruWoK0Cu+MRRTUtkYk5CcOy85meTZis4\n",
       "y6ykSmAEaI3HII8NGmriMVtxT+Fryi+KD5Bog0/hnHgC5eM829gYBCePuMHmkl+8PrvVZBgy8AZK\n",
       "NT6h2XDtxULiB51EpS43Qa3GKzj3oSMyrHkC3UADpW+F4NhMvfy3144tRaR2SDF4jWJGkTfVfgdK\n",
       "gRmdvC7NHsCU1gSsdoQxS+knITjqTmY7bvGeHw7R4GrZl0iiqA/2gWW+iFILlAO91AF3h7ReEk2h\n",
       "VbZLP+dYtAaCo3xjthLj3d0t6lSXSaKZUb//xR9wfbp0xvQG0XN1RovOMh39/i3yw0TMYnKOy6wT\n",
       "b8+YIClJyUqSKGpQN6+A95E3wutUaxDVWLnKKs2eh+23tXfOURtMu9u8UPDMJt2kY9RppKBeTFkS\n",
       "CdTGzzPijaHr4mnSwdhNNU0Dlyj7EATHRqcXbIXNV2+CKpJEIp5Sgzyt2Yd+qQIySbtNk4+DmAsv\n",
       "z+6iyLCO/qkw6ij7EQTH3cfepTrs32Ew0J166y2xs1vUOtEPeXxey3WNXSG/tOiLDuXa9P1T6JmY\n",
       "g3M8rnXOx1nicwiOpKfeh84DoUD621KeNiJFhN2yoUcyPdMm3huMbojZmD5UZ1nO4EaQNxYvp42J\n",
       "1nZoWfobwWm14Rz+D2uMbM46Uml3ZJ3piGR/61JYzjrT9cCfDcxfFvvUUmPu3S4AAAAASUVORK5C\n",
       "YII=\n",
       "\" style=\"display:inline;vertical-align:middle;\" /></a><br>"
      ],
      "text/plain": [
       "<IPython.core.display.HTML object>"
      ]
     },
     "metadata": {},
     "output_type": "display_data"
    }
   ],
   "source": [
    "real_set_is_vec_space = InClass(Real, VecSpaces(Real))"
   ]
  },
  {
   "cell_type": "code",
   "execution_count": 8,
   "metadata": {},
   "outputs": [
    {
     "data": {
      "text/html": [
       "<strong id=\"complex_set_is_vec_space\"><a class=\"ProveItLink\" href=\"proofs/complex_set_is_vec_space/thm_proof.ipynb\">complex_set_is_vec_space</a> (conjecture without proof):<br></strong> <a class=\"ProveItLink\" href=\"../__pv_it/theorems/c4ce86256302c00e7e44b3abc557866fac34a3560/theorem_expr.ipynb\"><img src=\"data:image/png;base64,iVBORw0KGgoAAAANSUhEUgAAAKUAAAAdBAMAAAA5nLHxAAAAMFBMVEX///8AAAAAAAAAAAAAAAAA\n",
       "AAAAAAAAAAAAAAAAAAAAAAAAAAAAAAAAAAAAAAAAAAAv3aB7AAAAD3RSTlMAEIm73c12IjKr72aZ\n",
       "RFTgyeMAAAAACXBIWXMAAA7EAAAOxAGVKw4bAAAC6ElEQVRIx+2VTUhUURTH/895M+/p+N4MuooM\n",
       "Pwgk+nACS4iCCosEizFwYYnYRA7RwhcYlQgOEhIumlkVfRDSxjLMoUiKcTEJjkSSD6FANw5RLtwY\n",
       "9mGYOJ3rc+6dgWZAmmV3dc475/7uved/zgyQm2WkG0XVjf6ef0Q64knOx3X3XliaOpiW8SJRB3Ss\n",
       "7OUfSibfF2ZlfuIcR5jc2DTgTGdiigVOclc6Af1YNqTkFZwGQI2y6zxIz+mmHES5m0fmy2zMwrDg\n",
       "jAL5bg/ZW63Y+dpaRoNtmc40+RZ7GX3KxixI4RS4YVPEfT6c2zD0VUoSW2wDdEQ25hcIjj2M62pZ\n",
       "MqI08KRBoBfo8kUhjVXE9cRuduKj0bdU5xFfOYlWsQdKbBfUS23sYWMQnLwQerQwfyJvMlTF8Qbq\n",
       "AC6gM649RnviB1Vi0JTqoQ9gHMozzAb6DIe3GDhM6WchOE4vurRWzkwTKQQ5Cle8kVGk18O/gSZg\n",
       "0SRvzrB7sWDUA2uzbrDtpyA4ej/Vgb+9r5aWx8Ivk0TBMOzlS1ZMHQaagVIq2rYqo5T2qHTKafmb\n",
       "n0WHIDjqV9jcniSzWNxTXyKJFt9FIjd/wtJnzmRMlwclDxeNYCvTMRJ5JW1PRDeYSY7WD229rzTm\n",
       "ySlKDpJEQRo4aRVWH7kC1j31IQQNdl11jb5ehvOX9XbO0anAsRmyx9entDVlko5Qp4UAs5GyZBKo\n",
       "26pnwBXF3LUrJHb8CSHmgfuUvR+C46T7OvZNSJ+t3mpJEYl46hDyjM4wKuUWSCTtGUM6CmK237r6\n",
       "lCJ9JioX3Kih7B0QnEJW16ID3ycs0JZDbt4DbIq6YpWQJtuMfG3sLvlNIxdNqLfni46jJOaHMukz\n",
       "ptt8LPEGBEc20+dhutqazb+v5owROSDsjk39SGZmOsV8492mmHWZQzXcUjybQc6s3MkYE61tM3L0\n",
       "bwSFt6Ef/xdfvc9zjlRDtpwzbYHcP112SzlnajsjucD8AaPd0LTBm7y6AAAAAElFTkSuQmCC\n",
       "\" style=\"display:inline;vertical-align:middle;\" /></a><br>"
      ],
      "text/plain": [
       "<IPython.core.display.HTML object>"
      ]
     },
     "metadata": {},
     "output_type": "display_data"
    }
   ],
   "source": [
    "complex_set_is_vec_space = InClass(Complex, VecSpaces(Complex))"
   ]
  },
  {
   "cell_type": "code",
   "execution_count": 9,
   "metadata": {},
   "outputs": [
    {
     "name": "stdout",
     "output_type": "stream",
     "text": [
      "These theorems may now be imported from the theory package: proveit.linear_algebra\n"
     ]
    }
   ],
   "source": [
    "%end theorems"
   ]
  }
 ],
 "metadata": {
  "kernelspec": {
   "display_name": "Python 3",
   "language": "python",
   "name": "python3"
  }
 },
 "nbformat": 4,
 "nbformat_minor": 0
}