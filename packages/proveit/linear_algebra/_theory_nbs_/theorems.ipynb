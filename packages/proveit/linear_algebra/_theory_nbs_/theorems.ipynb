{
 "cells": [
  {
   "cell_type": "markdown",
   "metadata": {},
   "source": [
    "Theorems (or conjectures) for the theory of <a class=\"ProveItLink\" href=\"theory.ipynb\">proveit.linear_algebra</a>\n",
    "========"
   ]
  },
  {
   "cell_type": "code",
   "execution_count": 1,
   "metadata": {},
   "outputs": [],
   "source": [
    "import proveit\n",
    "# Prepare this notebook for defining the theorems of a theory:\n",
    "%theorems_notebook # Keep this at the top following 'import proveit'.\n",
    "\n",
    "from proveit import n\n",
    "from proveit.logic import Forall, InSet, CartExp, InClass\n",
    "from proveit.numbers import NaturalPos, Rational, Real, Complex\n",
    "from proveit.linear_algebra import VecSpaces"
   ]
  },
  {
   "cell_type": "code",
   "execution_count": 2,
   "metadata": {},
   "outputs": [
    {
     "name": "stdout",
     "output_type": "stream",
     "text": [
      "Defining theorems for theory 'proveit.linear_algebra'\n",
      "Subsequent end-of-cell assignments will define theorems\n",
      "'%end theorems' will finalize the definitions\n"
     ]
    }
   ],
   "source": [
    "%begin theorems"
   ]
  },
  {
   "cell_type": "markdown",
   "metadata": {},
   "source": [
    "Number field vector sets are vector spaces:"
   ]
  },
  {
   "cell_type": "code",
   "execution_count": 3,
   "metadata": {},
   "outputs": [
    {
     "data": {
      "text/html": [
       "<strong id=\"rational_vec_set_is_vec_space\"><a class=\"ProveItLink\" href=\"proofs/rational_vec_set_is_vec_space/thm_proof.ipynb\">rational_vec_set_is_vec_space</a> (conjecture without proof):<br></strong> <a class=\"ProveItLink\" href=\"../__pv_it/theorems/9a99639cd3273cc5f5966b5da6bf7e7b216cf20d0/theorem_expr.ipynb\"><img src=\"data:image/png;base64,iVBORw0KGgoAAAANSUhEUgAAAQkAAAAmBAMAAAAly3MAAAAAMFBMVEX///+IiIgiIiIQEBB2dnbu\n",
       "7u5UVFTMzMzc3NwyMjK6urpmZmaYmJiqqqpEREQAAACk/Np2AAAAAXRSTlMAQObYZgAAAAlwSFlz\n",
       "AAAOxAAADsQBlSsOGwAABUhJREFUWMO1WG1sU1UYfvpxe28/btvJsqigWxYdHwtoHLplAe2PgRPd\n",
       "qAkSBd06TTQRWW4zo380q5tMlyW2BCQuilQ2TUzmVswYkU1pI5EIA4sQlpiZVZOZCdpgwAgZc77n\n",
       "3q69bbp6lbY/7s695z3nfc77Pu9zzhmg6WcNo0C/p9zabUcKBQL8u5pNbYGCocAZzZZt7sKhsDu1\n",
       "Wu4tHAgI1zQain8WEAW+0mindxUShd+nza7dXUgUdo1rbFW1T50oCt2k2+TaBaUA79U27IY8pDF+\n",
       "SQJOrkPNzYHQRYE34/EjgEUuD2EOiLHGZG5hkVk8Uo2OXyA8XoYMrp6ZrwA65lPqs330S2uO6c6T\n",
       "FD8nCWs8wB3yh0rgKPv7Xm7NukwP0/EghKMxmJyWzAgeY/K+KvnKLYe4cvHZOFLAlzYBPYOAWSbc\n",
       "F8ArLCaxnChMTDnPm+kRi8AgWV1SBslZf4osRmp+m3NLEl00wm5zwiaPKlXgGKM5URgodpjeSo+H\n",
       "zfBD/5mCQvdzubJkO2XMFkyam4nz9hyzUe8TNKNRIij3sy9TEmwUTnNuOjloWi7mpdaPVukT6B6T\n",
       "v1p2L9SvOEvxUlUeTW1bfLZPgSaeaClGiZ8fyEJAQbivvHztv6AgoLxrgFoDtlTUulMiUgUQxh4q\n",
       "YW64Lipeoazj4NpTIzQuUryB6FrXAOHQUvDLigIYBl62UI8lfBrYyIY30xshms7iWiUl/igrKhoD\n",
       "r5g6Z6gYvTmKw+BrcBs6o5ZqlM5fp/xUBblKiDXEPWE9+qQ2ny7QBJSx5X/EFsM7JxP8cVBkuiB4\n",
       "sqBQSROLmOBi1TygS6U/kEZPD/QhOKK9zC/3zT2kMPso4UF6G/KZAzjno3Kc63PT4laTWohyLG4H\n",
       "vl/IuN1tDKrFoXITlnjSUAyx/gQvkmngKZPlaxJ8vEbkbA/DvOFqovMh4H0KNU2ybbOvmbzwhGuv\n",
       "/u9bgVpyqfDiMC1QRkFmojNFTm/rRVwwupmvjFhgukupkWTZq6pbvErknBobH3/1DyjMJOCEwhHD\n",
       "9p1Tvnbmc3Z8/AT3yHxIRvHkQo30LaBAIJIs5SNMR50hIx4drRwNpqHol/XidMp1mSqAVV7FipuF\n",
       "UqUOSYmFWIt2HwsJTzKNXXj6L+ynZCh6EU1kpJkJeQNpr23MuxRYxr5N/PCGMZ0XfkZJK9POF1UB\n",
       "KFKr592KqgR7adV6gu9XeCEZQhh6q5t8Rh8g52dJNfET2Y9RFXUNLhz35Pk7abitL2zwKUGeMD7T\n",
       "n45CxoqNy9GxQ+XZrJI6P03B18Lo6wyjXr8fHBXCHh93Fwt26Wtvr6OetiDqz7kxIxen8VlJqGAe\n",
       "DiVjbScp3HULHG6LXIYTCN2ZjsIgt4VjvbNq6eZaP04hYtnrGq4Ht6POZ7KMPk/v+yIlQfAtZ7fs\n",
       "xlbqEainP1IcxEE2oOf6AZZ9rEiyX/61EFFsH8bjvxOKLeZ0vTAreTBJkbRatjSW59i0GC+yH9zk\n",
       "pbxgYwEWZHJ9lyy8agzzvEuJBctf2v6T2ERbdDtf136MWAyFsoOZnCUT0cRl6/PkqecyVk0oGnoS\n",
       "KMkYlzhQiK17ftOOomKxjhn5eeHXB8N4J93S4kExfaRgWVZKmTsiN/c/TlSDV2YW6WlKNeVlczcy\n",
       "3DXGL2Ybdym/F5DkXmSTT6CixgvJ14U8gsOq8frZHCwkCkNUm50xUEgUS7QaVmf96j2eFxTrtRpm\n",
       "PczyHnM+QOg0B9qc7XZvl/ISik6fVktuRTYpdnN5AMGt1m7bneW+bGmYzMdd+T/8x0yQClUh29jj\n",
       "H3UcaiQibEVnAAAAAElFTkSuQmCC\n",
       "\" style=\"display:inline;vertical-align:middle;\" /></a><br>"
      ],
      "text/plain": [
       "rational_vec_set_is_vec_space: forall_{n in NaturalPos} (Rational^{n} in_c VecSpaces(Rational))"
      ]
     },
     "execution_count": 3,
     "metadata": {},
     "output_type": "execute_result"
    }
   ],
   "source": [
    "rational_vec_set_is_vec_space = Forall(\n",
    "    n, InClass(CartExp(Rational, n), VecSpaces(Rational)),\n",
    "    domain = NaturalPos)"
   ]
  },
  {
   "cell_type": "code",
   "execution_count": 4,
   "metadata": {},
   "outputs": [
    {
     "data": {
      "text/html": [
       "<strong id=\"real_vec_set_is_vec_space\"><a class=\"ProveItLink\" href=\"proofs/real_vec_set_is_vec_space/thm_proof.ipynb\">real_vec_set_is_vec_space</a> (conjecture without proof):<br></strong> <a class=\"ProveItLink\" href=\"../__pv_it/theorems/6081b389e091c95e94b13f12d5837688bdd6e0ee0/theorem_expr.ipynb\"><img src=\"data:image/png;base64,iVBORw0KGgoAAAANSUhEUgAAAQcAAAAmBAMAAAA7AkOzAAAAMFBMVEX///+IiIgiIiIQEBB2dnbu\n",
       "7u5UVFTMzMzc3NwyMjK6urpmZmaYmJiqqqpEREQAAACk/Np2AAAAAXRSTlMAQObYZgAAAAlwSFlz\n",
       "AAAOxAAADsQBlSsOGwAABMBJREFUWMO1mG1oW1UYx/9J7u19yUtT54ThOmeKuq1Ii6y2Tif5UKRu\n",
       "nYQyCvWtV8EvWkZKoQz80EhxIOqaDxu4oS7QfhERMymdrkUyRHQzbHEDC8PRqBSxurYOtenaWM85\n",
       "N7n3JCTXuy33frjJPXnuc37Pc56XcwLYurwpOHP1RezLTjnEAOm4bVFf3CkIXLQtORRxDCIQtCt5\n",
       "zDEGyDmbgv6/nYPAlzbl3GEHIcZi9uRGIg5CBGxaeIjLk5nBe+80Ckq/+FrtvbZORJsWV5v+IJ/j\n",
       "KU/sziAai7pUlhhyHsjSLz9aFxQawIqsqQPzePMu1Jcujm/phga5ZdUYFaenM0mLKA8XdaGRDTQD\n",
       "Z+nne9alapkunRxGdhh4CePlJX2dxm7CeO6J4rJFceszdSkM/AtgmHokawlRFy9AfK4A7ZiUytZ4\n",
       "lZKYz/utK+yMqcvHHHafTiNkLCE8WhEiAHkZu2b14W2hkD7XEgmSC6WVzcKqVkMX0EYH5qLwkf6o\n",
       "WEdSfbgA8UovVA136x31o83F3+eIQZop/gsxq3rTVeOGLuB9VgCICx4JhXb/D0RKh5Cuc7Ejm+3P\n",
       "0wopCPk0yd3nOg9gbjeJD7Wpe3qAOLyhMwJxsjODtxuSGDy3Bd4wp+sp+no/UX8GmK8wM1dCxjIM\n",
       "4rGW+7m8UMxEFfLwRjAUc8XlvRiPujY2ThKyPehJ4krMG8doRm2XOrBFzMINJcXpOs9sJJl6BLJW\n",
       "AYJLshEdovtrPtyUksisY5mWV+JkWjz/8kYKigb/TfKk5nAC/g53EvVX2yDAneF0XS6udiAiJPii\n",
       "0LwPm7QSiE8T+nLMn+O7e4hchfg7FbsAiSTqsf6C/4aWoSQhrpGiMZET/6KGEKxwy08xeBKcrhEG\n",
       "QabyB02jBg8t4AchQpxbwRPh17klwIsc0FyYmL2WTn8zQmsg8bd6k0LgX4hT13LSn1RkJp2OHjy1\n",
       "VoTQdY0XIRA3DPSeodUzmBSwf7p5OlEO4T3MZZ6bz+H2IKQ8jbFkIT1XCp64kpBy1CFMhxwRL0WV\n",
       "DKeLLUc/JT9wvNiXttKx2atvCKUxMVbIDjGbNgdd3I7Ie4O47lHiABITyOwCrSY0JlbwONTc4RPE\n",
       "3bTWfBJEXYrupAxdFw31o1qhL4nM0FnhhYlSCIaqiBrSdVz0fMBF5j80DhLokp+AENuZQR+JgA70\n",
       "hLEG18q3oyl0SXsgvNuGQEzQOF2nTUdHofcllZWYWSS3lUJ4knoXjQV+y5ujvQtmwp6kJK91xtA7\n",
       "2QXt46lXyUQDDeQ+3Lj56aBIfzky2aV2N+yDup3TtcOIe3bRvuT7cHHxOoE4qJTWCaVyEZ74OWTR\n",
       "IpRqjfQhzoPb6f2SYQztS1JY94T6fVmbbL2NXUNViO/Kj1SfGUysL7HKSVrRPWWt/Hb2uW6t2nbO\n",
       "zPOj7P6g0VZYXzpKokPdGUWg9DUxf+sM6tKTVTZgorm4zGhxvez3ZxYXKr33e013tu8YHmaYfpsH\n",
       "j68c3GzDa/OI2Z9wEMKTsScnxB2E2GRXsL3iJnxrTQ5me+0Knq80OIxaOMhlW4lS6fz+a01WY9T2\n",
       "UUrcUWHwAdTgiCo+bF/2rQrzTVyrwR9ZgVvQIUcdyo1n6e0/bAtch64ly6cAAAAASUVORK5CYII=\n",
       "\" style=\"display:inline;vertical-align:middle;\" /></a><br>"
      ],
      "text/plain": [
       "real_vec_set_is_vec_space: forall_{n in NaturalPos} (Real^{n} in_c VecSpaces(Real))"
      ]
     },
     "execution_count": 4,
     "metadata": {},
     "output_type": "execute_result"
    }
   ],
   "source": [
    "real_vec_set_is_vec_space = Forall(\n",
    "    n, InClass(CartExp(Real, n), VecSpaces(Real)),\n",
    "    domain = NaturalPos)"
   ]
  },
  {
   "cell_type": "code",
   "execution_count": 5,
   "metadata": {},
   "outputs": [
    {
     "data": {
      "text/html": [
       "<strong id=\"complex_vec_set_is_vec_space\"><a class=\"ProveItLink\" href=\"proofs/complex_vec_set_is_vec_space/thm_proof.ipynb\">complex_vec_set_is_vec_space</a> (conjecture without proof):<br></strong> <a class=\"ProveItLink\" href=\"../__pv_it/theorems/444b80fa6a1cc234a92ee0ca64e9661caf1be94e0/theorem_expr.ipynb\"><img src=\"data:image/png;base64,iVBORw0KGgoAAAANSUhEUgAAAQcAAAAmBAMAAAA7AkOzAAAAMFBMVEX///+IiIgiIiIQEBB2dnbu\n",
       "7u5UVFTMzMzc3NwyMjK6urpmZmaYmJiqqqpEREQAAACk/Np2AAAAAXRSTlMAQObYZgAAAAlwSFlz\n",
       "AAAOxAAADsQBlSsOGwAABL1JREFUWMO1WG1oW1UYfpLc25t789HUOWG6TYmo64qsyGrL3DQ/inRf\n",
       "JZQxqHM2+lPHSKkUwR+NVCcyXSN04ObHIu0fmeKdlA5NGRn7oZulixtYGI5GRYSKbR26Zutifc9J\n",
       "c79I4t2We37c3pzz3uc87/c5BWwNXwbOjO6ofdlxhzhAOmpb1J90igSmbEv2RR0jEQzZlRx2jAO8\n",
       "eZuCgX+cI4EzNuXcEQdJDCXsyQ1EHSQRtKnhQUOeTPQ+cLdRYH7xN9v77Bb/pLPx/bcj/pGMJ3F3\n",
       "JNaVsBSeGN4CkGMvP1UvKDyAO7di33X1rXtQb3aOf/5aDN5NN7RZMZ3OqlWiPFLCYnRoNAHfsL8f\n",
       "VC9VC6xw308fT6l4ESPWks4M5U5pv7viuFSluHXrWDIn/jXQzyySq0qijkG+HqQv6lS0Ykyy+PgG\n",
       "Y6L/3lm9wk7oWH5usAfB2QjZqiQ8MXr8FmT7hbwL2DhdnF4fDhf3mqcguWCubFW0atawgBY2MROH\n",
       "n/qjXD2S6lkS5Q7zdyWGe4sd9bPVpfUZUiimi/9KalVuukpSwwI+4gWATPBEOLz5f0gQpDf2qsUJ\n",
       "evvzNEMKwXuKcndf+27MbKb4UB7elT5Afmloj0Ica8/icIOK3rNr4IsYsJ5ljx6CP03mKbOzoYQM\n",
       "EVUp8rl5XdYTVSjAF0VfwpX0bsNI3LW8fJyYbUGXissJXxKDWaVVasMaMQc35IwB6zzXkfxyiJiV\n",
       "IWFIMmYvr/qphYQpMut4phXkJG2L519azkCOIXCTfil5HEOgza2i/koLBLizBqxLJW8Ho0LKWBSa\n",
       "dmBVzETiS7aee9PS3cM0VuLvROICJErU4Z4V+/UtQFYhLlHRGM2LfzNFiFZk088JeFIGrAFOgrYK\n",
       "hHSleg/O4kchSsa1WqIY0YbxguF9JkJqL01OfjvAaiC5WLnJSOBfiONX89JfTGRicjK+58QSJ6Fh\n",
       "jZRIIHlWKzunWfUMqQJ2ppvSKROJkyy3odvMbczh1hCkAosxdSU9F1cscTkl5ZlBii6NihfjctaA\n",
       "xd3Rw5jvPlrqS2vZ3PSVNwRzTAxlShXTpee/y3Ai8l0j0CfJABQTyG6k7RZ4TCziKSj5146RuVmt\n",
       "+SKEugw7SWlYUxr8IK3zviTyLaaF/aNmEpwqtg9H939oUP9jQ2ReZ3GQQod3K4REYxbdFAFt6Ipg\n",
       "Ca7F7wYz6JC2QHivBcGEEDNgndIMHYwDvC8pvMRMQ11vJuFRi130mSZj/9w7qzey42z9lfYE9o51\n",
       "IHZy/GXKngMN9Oxft3p7SGQrh8Y6lF0NO6A8ZMDaoMU9H6wv+T+Zm/uTSOyRzXVCLl+ER38JV2kR\n",
       "cqVG+pjBgowQLmrKsL4kRYqWUH6wtMnmOzg1VCTxvfVK9ZXGifclXjmpFd1naeV3cs51xyod53Sf\n",
       "HuHPR7W2wvvSEYoOpTEOS0kQC7fPQZl/usIBTNSdy5UWb1nWO+dmy333R01Ptu9qFuY0AzYvHucc\n",
       "PGzDZ/OK2ZNykIQna09OSDpIYpVdwdayh/C1NbmYbbMreL7cZD9qYSCXbRC53P3995p4Y9D2VUrc\n",
       "UGbyEdTgiio+bl/2nTL7jV6twT+ygreB4Y07lBvPscd/vLtQ7+EbZ2oAAAAASUVORK5CYII=\n",
       "\" style=\"display:inline;vertical-align:middle;\" /></a><br>"
      ],
      "text/plain": [
       "complex_vec_set_is_vec_space: forall_{n in NaturalPos} (Complex^{n} in_c VecSpaces(Complex))"
      ]
     },
     "execution_count": 5,
     "metadata": {},
     "output_type": "execute_result"
    }
   ],
   "source": [
    "complex_vec_set_is_vec_space = Forall(\n",
    "    n, InClass(CartExp(Complex, n), VecSpaces(Complex)),\n",
    "    domain = NaturalPos)"
   ]
  },
  {
   "cell_type": "markdown",
   "metadata": {},
   "source": [
    "As special cases, number fields are also vector spaces:"
   ]
  },
  {
   "cell_type": "code",
   "execution_count": 6,
   "metadata": {},
   "outputs": [
    {
     "data": {
      "text/html": [
       "<strong id=\"rational_set_is_vec_space\"><a class=\"ProveItLink\" href=\"proofs/rational_set_is_vec_space/thm_proof.ipynb\">rational_set_is_vec_space</a> (conjecture without proof):<br></strong> <a class=\"ProveItLink\" href=\"../__pv_it/theorems/401d0f4451ec29449211dfd50c15da3fcdd159020/theorem_expr.ipynb\"><img src=\"data:image/png;base64,iVBORw0KGgoAAAANSUhEUgAAAKMAAAAdBAMAAAA0gsG2AAAAMFBMVEX////u7u6IiIgyMjKqqqq6\n",
       "urqYmJgiIiIQEBBUVFTMzMxmZmZERER2dnbc3NwAAADGrPESAAAAAXRSTlMAQObYZgAAAAlwSFlz\n",
       "AAAOxAAADsQBlSsOGwAAA11JREFUSMftVFtIFGEU/mZnxt2d3Zk2gkS6uG0WRC9bIvRSzoOVBeEW\n",
       "IUEJg6QPRTci7CJk0IXMZInUKB8G6UEfyi1IMJG2gq6CA2XQRRkoMpFA0orcWjv/zLau4IbhPvbD\n",
       "/PPfznfO+c4FyMRQkivTmj/39NydJWQeob7rea4D29jWc0VXqsNTXmT1fg9DOTnq+3PAdXWpkfSI\n",
       "ggF01mLwKeBQad/YBwzvmvrG840mZyi5z9axMZgech7g3heCcicKrGIa6K03yz+Vm1GGO7l/S5b/\n",
       "BbID2MLTP1oO7CW0ueS0rNsCjsdVh61FL9FcMSmzlr1PD1kD3M+h/xvCdfmwUCIDBdUKkLj6D3sl\n",
       "xFwKv0/oXEuLKAbBRVtoUeTRwWu4IdJbUdvN7t4n4+GqAalSbq8EFvS/RMlF4lU8+qqrkRgI9PvA\n",
       "dferGA5E0FK+FB4DklFKUqVZKuQwttGPxDcwoHVJxfIYPD60mo6gcho7dMfERAHpOYPsCIpNTxCf\n",
       "VLFWqsdSLgonM0z0M5taBI1x/lmwrFzGgIKp8XEDJ4AxPkggmN80oYEPQ/hKOzGOfAj1zgjmrD8F\n",
       "GU4VisFsKnWEIByE1+byFp1I56qqqqptzEKzAhKl0tpcwz5oHQEfARejJC2Lc7/opJ2UGCcfmHAR\n",
       "KwkufZBG4F2cjDiXEtQSg0yKVVbuaWfpxRz5yiDxE1xnUVz6wp50VFbqiwpjFuT9oUTExRqIdl6y\n",
       "pMfBSUhXrR/SGC1yI4kEGk9YWRyS4sxYtJOM4uMO6Dwtyqy8JELJcXRQ9QzZ1RNIqZ/vFP3zpJS4\n",
       "hHqEhEcsLsdxAWL8Zj7Jusi97X64NS854mHV00Cqs+iTm3TlmF3AvDoZnx+MvxAGlLOQzcMq5hFz\n",
       "9cg2EINjfP8nDQPSGcgfTsFryiyDXx/H4DVmCyNqeLQw0Ym45q1JzAKGe63fRE73AMI7OxtIY2OA\n",
       "5ra8JS/8HLsZ6h4QXwX6IDLClHv5MZ11Bqu9XU1WuPguUZDTDj5dMzrOJrdezn6D1onbv2KzOoOu\n",
       "mBZyrzVfcly+brUQNjY9rNNmAOkMp7nwWs4KzWseQYn+S+sWe+vM6W9SEtrrQ2bGx+RqP/4Pe0jL\n",
       "jUxDtiGYachnmXf8EHyZhiwr0mYP8htWOvEfUChZXgAAAABJRU5ErkJggg==\n",
       "\" style=\"display:inline;vertical-align:middle;\" /></a><br>"
      ],
      "text/plain": [
       "rational_set_is_vec_space: Rational in_c VecSpaces(Rational)"
      ]
     },
     "execution_count": 6,
     "metadata": {},
     "output_type": "execute_result"
    }
   ],
   "source": [
    "rational_set_is_vec_space = InClass(Rational, VecSpaces(Rational))"
   ]
  },
  {
   "cell_type": "code",
   "execution_count": 7,
   "metadata": {},
   "outputs": [
    {
     "data": {
      "text/html": [
       "<strong id=\"real_set_is_vec_space\"><a class=\"ProveItLink\" href=\"proofs/real_set_is_vec_space/thm_proof.ipynb\">real_set_is_vec_space</a> (conjecture without proof):<br></strong> <a class=\"ProveItLink\" href=\"../__pv_it/theorems/fa7dcff9fa8ac913441a6cafe15e880367c3d3b90/theorem_expr.ipynb\"><img src=\"data:image/png;base64,iVBORw0KGgoAAAANSUhEUgAAAKEAAAAdBAMAAAAwdxGLAAAAMFBMVEX///+IiIiqqqpmZmbMzMx2\n",
       "dnbu7u66urpUVFTc3NwyMjJEREQQEBAiIiKYmJgAAABVO1C1AAAAAXRSTlMAQObYZgAAAAlwSFlz\n",
       "AAAOxAAADsQBlSsOGwAAAulJREFUSMftlV1IFFEUx/+7O866s87uShh9QI4PvYTklBnRg63QW9KK\n",
       "oGUvLkglCTo9CGGKVg/1FAN9YKU4KYlK1vYUElFEZaKUZB8SLK1YUElLaT5Y1nZmRufuPkwg7mP3\n",
       "6Zx7zvzuued/7x0gHUNNNr6OPhgcja0O6JCWKcd1V2vHiZlwSsZMYhLoTPRaEzWF213/IG62KA6J\n",
       "3MgleLm21JQ9etFvLZd/Bec7eyCvMUqvSXSpWmpOl+7LlptB5hd7oivGKNPLxIgZ2xiNGmzvAuBT\n",
       "rE+EMpqyJ2YlUbLChp15xNx109qlHOcckMk+8T6lBeyJTWAUwax33xZDfg+TYgwoAS5ky+CLKiTn\n",
       "4gGaa3kyvYvyp3IqSaqKcni2rQG3KVtDERglg6iRjsHfZm2CdaxQLWEnuBFsQIfkfozcxE/qwZjC\n",
       "T8A5gt3wPEJzsFR1aHXAOG6BUXyGSvFjS+1KkaYNogy/NKAz+E/v/wB9QIFCXqsqaMhXJ4DZ5jDK\n",
       "8BKM4hzXbW99wMCURmmYGgkLJEwoBqFy3lyCewH0AA2k+tFqtYGk4miNG+Kv9cAwGIX7ptuc3G98\n",
       "VcdqdM6TMAXF8fje7zBVaVV0oj+CmtMFaiigqxePf+APJeQloklxPzR6uuOagRGT9BsjYUJ0Afg5\n",
       "mCfHHzRrdA4jpOqlcrM0exn1P9ANRjF3jTqfcbEdgaRb84bOFummDFCWSLJ0mX0MZslovXiV+i89\n",
       "o4rygPO4A0bxUde0WvhiZw1Md5I0ROOGkaF2xFAldoMnQW+q/Gv4ZeTuv/KcIqUKqvLDGMJBMIor\n",
       "oL89/bh3W7/hqL1rvRiCfmPai6rAn6lQM92F58jvm1qngDuVd/g6ainioUjjVI6CFjCKqKae/sb7\n",
       "Uc3+bvTYzItBZneu6Bm0I/rYm4LiFREn7QJDluWJrAR4cnHIJsIOsjeclr8MPNZf5TP+DxolH9MM\n",
       "5NqENBO9wXRvWgzzaSa6y7euHvIXUpz4LmBgZX8AAAAASUVORK5CYII=\n",
       "\" style=\"display:inline;vertical-align:middle;\" /></a><br>"
      ],
      "text/plain": [
       "real_set_is_vec_space: Real in_c VecSpaces(Real)"
      ]
     },
     "execution_count": 7,
     "metadata": {},
     "output_type": "execute_result"
    }
   ],
   "source": [
    "real_set_is_vec_space = InClass(Real, VecSpaces(Real))"
   ]
  },
  {
   "cell_type": "code",
   "execution_count": 8,
   "metadata": {},
   "outputs": [
    {
     "data": {
      "text/html": [
       "<strong id=\"complex_set_is_vec_space\"><a class=\"ProveItLink\" href=\"proofs/complex_set_is_vec_space/thm_proof.ipynb\">complex_set_is_vec_space</a> (conjecture without proof):<br></strong> <a class=\"ProveItLink\" href=\"../__pv_it/theorems/c9f1a95a96b042bcd0504772336f314df263a99a0/theorem_expr.ipynb\"><img src=\"data:image/png;base64,iVBORw0KGgoAAAANSUhEUgAAAKEAAAAdBAMAAAAwdxGLAAAAMFBMVEX///+qqqq6urpUVFRmZmbu\n",
       "7u6YmJgQEBDMzMyIiIgyMjIiIiJERER2dnbc3NwAAADwZfnPAAAAAXRSTlMAQObYZgAAAAlwSFlz\n",
       "AAAOxAAADsQBlSsOGwAAAt1JREFUSMftlV1IFFEUx/8zOuu4szu7T4lBOG+SJm4kQW8TmWBgDik9\n",
       "GQ4kS0ZFGWUv2T5lPsgKfYDhx4pWtBBYGkQSLVFICKKJL4E6oGElZoJkX7qd2dG5u9AE4j52HpZz\n",
       "z7n3d8+9/3NngXSYkeosjkS7WrcFzPZvUnabQ++wLlSWpMw4Ex8AFuL37EB16cHMfxB32RSTjfIi\n",
       "wPU6dUqlTj9P7KHwDNxzZ6AQYRSqQlTfUDC1RizRHKj20EvuaWdips4odYBHi5H/ycp1DA2ZLHjW\n",
       "aUfFXuIeo5AzMSuJkqXBI7NaCm5vONwKkMGWeC7RBs7EAjCKW8esOLaZkZkUjUALMNeuQqiY8nOr\n",
       "7yhWeLXuEN1vfeckSTU1Drn8FsQ77RFUgFG8AbTyun04u60w48dhiE24i3k/fwXd8Z90B42KMAiu\n",
       "CUcgX0B+qNnIjtQA/bgPRnFFMMe32cQUaQKQVPj8UZMhnHz5DegF8hQaFRvuCHKMQWA5X8MYHoNR\n",
       "uH66AfvUzUNkMQu+TsKEdbgn16yceA3oA2rpuo7NGLW0RqQ9Hkm/u4AGMIr4dUOlhNWwGrk1Eiav\n",
       "LBi88QOWKsWKSfTFUL03zwi3meoFg6eE93E1Qdyk8OfBJzqJN0dSkn6NJEyYHoCwAqtzfCGrRq4B\n",
       "YcMsVVym6Acc/44eMAqdOtHt6Eg8z7akV/OUeisAKFGaJZEsS9Y9hrJUFH/8TF3rv0iIXGA/3oJR\n",
       "XFSrNzop7LS6qSdJGqKJDfAa8zqmpR4IJOgDQ3gBn4ru618uU6ZZwXSOhlFMgFEyzaoWh38dtTBV\n",
       "rzRbd/PFzFZMQyiZMjL40n007q2/qUA8kHviIaooI1OmqL5TQSEYRTJSu79oxHqFf7c+h7gUYv7C\n",
       "lj6DTkQXe8co2xJxwCkxantybCvAPaujDhnWyB4tLf8ykO1Pwzn8N7KWs2kGigF3momeULoPLWlC\n",
       "mon8+I7tQ/4ATEzV5g8/8y8AAAAASUVORK5CYII=\n",
       "\" style=\"display:inline;vertical-align:middle;\" /></a><br>"
      ],
      "text/plain": [
       "complex_set_is_vec_space: Complex in_c VecSpaces(Complex)"
      ]
     },
     "execution_count": 8,
     "metadata": {},
     "output_type": "execute_result"
    }
   ],
   "source": [
    "complex_set_is_vec_space = InClass(Complex, VecSpaces(Complex))"
   ]
  },
  {
   "cell_type": "code",
   "execution_count": 9,
   "metadata": {},
   "outputs": [
    {
     "name": "stdout",
     "output_type": "stream",
     "text": [
      "These theorems may now be imported from the theory package: proveit.linear_algebra\n"
     ]
    }
   ],
   "source": [
    "%end theorems"
   ]
  }
 ],
 "metadata": {
  "kernelspec": {
   "display_name": "Python 3",
   "language": "python",
   "name": "python3"
  },
  "language_info": {
   "codemirror_mode": {
    "name": "ipython",
    "version": 3
   },
   "file_extension": ".py",
   "mimetype": "text/x-python",
   "name": "python",
   "nbconvert_exporter": "python",
   "pygments_lexer": "ipython3",
   "version": "3.7.4"
  }
 },
 "nbformat": 4,
 "nbformat_minor": 1
}