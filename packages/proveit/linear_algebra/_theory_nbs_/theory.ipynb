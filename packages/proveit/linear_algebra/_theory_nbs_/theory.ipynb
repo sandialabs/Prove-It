{
 "cells": [
  {
   "cell_type": "markdown",
   "metadata": {},
   "source": [
    "Theory of <a class=\"ProveItLink\" href=\"../../_theory_nbs_/theory.ipynb\">proveit</a>.linear_algebra\n",
    "========\n",
    "\n",
    "Provide description here."
   ]
  },
  {
   "cell_type": "code",
   "execution_count": 1,
   "metadata": {},
   "outputs": [
    {
     "data": {
      "text/html": [
       "<h3>Local content of this theory</h3>"
      ],
      "text/plain": [
       "<IPython.core.display.HTML object>"
      ]
     },
     "metadata": {},
     "output_type": "display_data"
    },
    {
     "data": {
      "text/html": [
       "<table><tr>\n",
       "<th><a class=\"ProveItLink\" href=\"common.ipynb\">common expressions</a></th>\n",
       "<th><a class=\"ProveItLink\" href=\"axioms.ipynb\">axioms</a></th>\n",
       "<th><a class=\"ProveItLink\" href=\"theorems.ipynb\">theorems</a></th>\n",
       "<th><a class=\"ProveItLink\" href=\"demonstrations.ipynb\">demonstrations</a></th>\n",
       "</tr></table>\n",
       "<h3>Sub-theories</h3>\n",
       "<table>\n",
       "<tr><th><a class=\"ProveItLink\" href=\"..\\addition\\_theory_nbs_\\theory.ipynb\">addition</a></th><td>addition of vectors</td></tr>\n",
       "<tr><th><a class=\"ProveItLink\" href=\"..\\negation\\_theory_nbs_\\theory.ipynb\">negation</a></th><td>negation (additive inverse) of vectors</td></tr>\n",
       "<tr><th><a class=\"ProveItLink\" href=\"..\\scalar_multiplication\\_theory_nbs_\\theory.ipynb\">scalar_multiplication</a></th><td>scalar multiplication of vectors</td></tr>\n",
       "<tr><th><a class=\"ProveItLink\" href=\"..\\inner_products\\_theory_nbs_\\theory.ipynb\">inner_products</a></th><td>inner product spaces and inner products</td></tr>\n",
       "<tr><th><a class=\"ProveItLink\" href=\"..\\linear_maps\\_theory_nbs_\\theory.ipynb\">linear_maps</a></th><td>linear maps from vector space to vector space</td></tr>\n",
       "<tr><th><a class=\"ProveItLink\" href=\"..\\matrices\\_theory_nbs_\\theory.ipynb\">matrices</a></th><td>matrix representations of linear maps over finite vector spaces</td></tr>\n",
       "<tr><th><a class=\"ProveItLink\" href=\"..\\tensors\\_theory_nbs_\\theory.ipynb\">tensors</a></th><td>tensor products and generalization of matrices</td></tr>\n",
       "</table>\n"
      ],
      "text/plain": [
       "<IPython.core.display.HTML object>"
      ]
     },
     "metadata": {},
     "output_type": "display_data"
    },
    {
     "data": {
      "text/html": [
       "<h3>All axioms contained within this theory</h3>"
      ],
      "text/plain": [
       "<IPython.core.display.HTML object>"
      ]
     },
     "metadata": {},
     "output_type": "display_data"
    },
    {
     "data": {
      "text/html": [
       "<dt><a class=\"ProveItLink\" href=\"axioms.ipynb#linear_map_unary_addition\">proveit.linear_algebra.linear_map_unary_addition</a></dt><dd><a class=\"ProveItLink\" href=\"../__pv_it/axioms/4687bcdc25d5aeb6348b6cfe1734b9b6e07575c30/expr.ipynb\"><img src=\"data:image/png;base64,iVBORw0KGgoAAAANSUhEUgAAASQAAAAZBAMAAABqRE4YAAAAMFBMVEX///+IiIgiIiIQEBB2dnbu\n",
       "7u5UVFTMzMzc3NwyMjK6urpmZmaYmJiqqqpEREQAAACk/Np2AAAAAXRSTlMAQObYZgAAAAlwSFlz\n",
       "AAAOxAAADsQBlSsOGwAAA/BJREFUSMe9V1+ITFEY/83uzM6dvXfuTIQXso2QB9nYPAgNlgehISkv\n",
       "a/JEUlMkeTEoT2JSygM1K5Qik0QYGSQrU0YRsjGS7NPslr9Z/77vzNx7z9wzdxhlT917/vzud77f\n",
       "Od93vvNdoGnZHEtjTIsvNvsPX2Qw5qX4vyilMW6m1a61NAfzFPqPlHwlrHR61eYUq9vvJdVfpVTm\n",
       "atCbkslVuNAipSdQKIXj/LrRa2SJr1IcoIjrPHDcm5KepSrUopMHMiqljfx6g8AwcEyVcIAidrGV\n",
       "y96UgkmqDre4SXqhxqOzYFPK83gOeAA8VAUcoIhQAvCXmvgSM1/dIqV221pRm1I3PZGUcJj2hFtA\n",
       "AoowaB2hZu5d/AcvP6dS6uQ5LpKy3aRPcU0JIH1zY7GeZpTaY7Fp8RYpXVYp6TzHkY8p7vuTbgEJ\n",
       "IEpXgXfNKOkpmIkG0HP15NutEyolsTO+X7+2UGWIXb8U4zKjKuoAROkgtCQM2ojw4hTu9uBOD/p6\n",
       "JEqEHuSNXzJ5kjX66iNJZy0ZY16cmoG3ceSsD2arlNqEv+4b/sCjXcpyHIAomQk/nfNlpJu21iyj\n",
       "IwMjJYfKd2LKxwiOIDixQt/qT2PABlsGFWArcB84bYktEDx0Mjm5RVLIt2er0C2qaSa1WECRF8Le\n",
       "/ToBP1s8g3XdWFsXvR+LNx2YJG4Irr14Bo5nNRlcQ2AaArQfoUQdpbpdYkphqjfRbnV2uwOlBIjj\n",
       "dJv9K4sBtmk3Vo0gWkcpZHD/O11BPnFStE/87rJlMB7+R8KR7GBysoEvEdbBihKW4SRfkgGmtJoj\n",
       "TySqsb7wSHjPp2C2jpL/BS9+6s8C+sSYnwOrlrFl8BrPLib2sHTOjsUKJZNap2qH0XCHZhlgSgf4\n",
       "SIaSwgbBrz7ti6/+2tXmizvi5Wecr8ZB5tFZtmWwNx09korWBkVZoVLi830pXj3/etRFSQaYkskO\n",
       "ondNEIq/RfHjnisTeM8AacaDSqVSwl7etHDSlsGmfkQGeTBYllbtDpVkk9zZK9u53+a+MmXATk6M\n",
       "b1U/GC1htNAgObnAF91O0dxGT4q1WzKRm4jkIRuuLaVeKDOdWfd7hcH9cr4UHKWdoBO9GJjVKF+6\n",
       "AmyphkztZ/6MmWX3ZhmsJ0uW0SY+9FkGMXLqtSvdtXkvSvm6FG46qVgEDLHqBpSuLulNQ2MT6ufX\n",
       "zHkvPmQZ7CjBTKNDmMK0DTKkJicO6Jl4CKCohIemWeX6SsU6jXZYlLKIPrnlphSwiTS8n2ygntLT\n",
       "FhJdvbbosDT/cme9BSx1cu8Fojpk9Qe85hxQc+9CK7l3Tb/hjBjZsfhDOer9Hxf4i5F/+Y9b+BuI\n",
       "myJz7NKb9AAAAABJRU5ErkJggg==\n",
       "\" style=\"display:inline;vertical-align:middle;\" /></a></dd>"
      ],
      "text/plain": [
       "<IPython.core.display.HTML object>"
      ]
     },
     "metadata": {},
     "output_type": "display_data"
    },
    {
     "data": {
      "text/html": [
       "<dt><a class=\"ProveItLink\" href=\"axioms.ipynb#linear_map_binary_addition\">proveit.linear_algebra.linear_map_binary_addition</a></dt><dd><a class=\"ProveItLink\" href=\"../__pv_it/axioms/778fd6622c394e60b23bd97a48db50375ed1ffb80/expr.ipynb\"><img src=\"data:image/png;base64,iVBORw0KGgoAAAANSUhEUgAAAg4AAAAZBAMAAACr2bsAAAAAMFBMVEX///+IiIgiIiIQEBB2dnbu\n",
       "7u5UVFTMzMzc3NwyMjK6urpmZmaYmJiqqqpEREQAAACk/Np2AAAAAXRSTlMAQObYZgAAAAlwSFlz\n",
       "AAAOxAAADsQBlSsOGwAABsBJREFUWMPlWV2ME1UU/rrb2XbbabfRgA+i1KLiTyBlWXlQJEVXjCuQ\n",
       "gfjiy7KSSCAq1JAYw4Nb/0hMkN2YQHxAXdCQaEAKISB/sf5FBCJdQYiBxIphJRjZNbpgdoH1nnvP\n",
       "tHNnulOzhgfxJGd67sy539z7zTnn3pkCvrI4lcP1L4HUlBoe3fh/yJFry8MNk2s45Fh9HRy/1XzD\n",
       "HjNcEy9X0UAqe815aKsVkEWlo8vGiqOjqcktHjOS8LuhjWNrsId4KNHp06PzEKefWGGsPPjDH2fF\n",
       "qZ2ZQ9oVI9W3eOryVIIHftw1D4fEMnTY12r2KNNFjZSFU5ek+s7cpuPYqnjYS6ffHp2HqPBCY26s\n",
       "PPjCG91KEU+gfUB/cE+jPomGAtbZjkrWeUCepMNPMPrZJGm0dJ/xFpqBZ104rIqHFyifSqPzEOoQ\n",
       "P2vHnBe+8NGCUuwDTB7iFvXTAHTlIZ7xYdtRyWEPyH66nge+UaYUM88Jwv06EB4GDrlwWBUPRF2w\n",
       "6FMfiLV5Y+bBF76eFZcqOd2rftYAR4sIWKi3bCfVxXKDpIU2ZWWqp8sn7+OcUaDhAswrwDgXDqvi\n",
       "wRQUNfrVySP/oly2+cN/yBq5DIRyGg9ibCssxETnAjtxxLsrVYTGtk2cfVGZSjZoPEREfA0CRRcO\n",
       "q+IBzalUix8P9anUpMzY1ws/+J2s4ZFHy+d6y1azPAY7lJNxcwJTuKnlFo2t688smwu2o06E3xyN\n",
       "B3r+SXhwWJmH3cBZPx6iWcQtn7nGPDU04OTBD36D/eQmjlzMuXmgjAbXDeEUjKUxwy4jO1Ikd5YD\n",
       "JDAyslSZmWOo75DFQuehKw8PDivzsBrhDpjikcdmZfFFCz5vQXuLgwdxdTXF1uwJN4lu98554PHy\n",
       "JjTWn6HqI3rg2C8wp2cEjPFzBnkHDxK+IuyrZAorwreOpN08UEbTPZLK6c1oN616sumUOll8Xu7/\n",
       "Q5rh4h65en7n5uFoER4cVuYhbpHxsBiM6B8voaEbZta5jzort0O9CImVrcEyB8TM8fzy8+LcgYVJ\n",
       "GCKwxBxeE80LwDLga+ADBw8KXgp1sn2l3M9KMT3Ez3k6P2eZ0ULoruRk1SewlZtarWX0T3vINDAN\n",
       "ETHlToIUCS2yUj2FFRY8OKzMQyxBdexHUTepbzcWprFA20/2ymOaVh9RxhtKOIjobpm6mViW9hcx\n",
       "MWLK0j0wJsFIOJbvNhteTpU62b4aD2LgxhV3PKiMRiTNTtssJLjp5kGUUywqSjMyKNPyfXc8NJdv\n",
       "WMFhZR7Q/RnlT4+Ynki0NOYOIKHx0GhS+7LcjOcg6Mxhgso5mm6dCKQhmJTeNyJ4VI6ivFC2MXxk\n",
       "PFpVJ9tXyjusguDwoJsHldEqEchphyRQ5YWzPhTlZoMGQ2Y0KZ+nOy+42Og4el5gHu0QmhJhKjix\n",
       "gdiqwVCPxkPwB5rvxKtqxeoSOWOojdF8Orwh9Hda7kVM4eQ2axWh5B08EHywyTrBndgXahcoNZLk\n",
       "sq/xoDIaZokd+yCiTzWdIrai2KSWAjLjHTgpWt+6eOBio+Ow2jy8ShnU2BGU2fhXIHwpoL9nhWfI\n",
       "re2pi2p4lW3aTDp8LHS9CvXOXKIrS3eOlBw8EPzrmxDkTusraSFXN6HR28sLnYOHfpVc0QQ7Pibr\n",
       "StT9CkWL345MZR3spjKH7S4e4oPlG1ZwWG0e4nLtTY6Tsx1K4MpXrvdNKu+Gqj3AcmL33QsXfkNI\n",
       "Yp+gUAvIMS/aiKbTZIWcPEj4VnykOtm+UjYpjUaeWVJ08RBcNtInJ1GXY8fo3ILd1PZRIpjym3c9\n",
       "xyZ2ylfou3Qe5rx39Sl4cFhtHlTgDKmRDBcxXKjy3r3VfsmYRvOUj7RBRH8IL1GMbJWXmg6gSW7x\n",
       "tbyQcg8SqpPtq9a8rFKn9Lrm+Yrt6GhqMrmKGU6662TlhhUcVo2HkCgkhhjpLODuat8fdgFL8YS4\n",
       "wyWAd0Zdvx6yzlOdRKeYt7hWX0Kd7BBIuHmYHO7h7VRnvoJOr0NmXh/qliqvUQ6n/R4eDlcx7fep\n",
       "iGsXruOwajzgDsHFg8A5mm8VHnbPbs1hZTH02DDNcS3xuvfLM1fFXpOCS4T6yiKZDTJs4zk3D5uP\n",
       "cCfpW5ZzrKMLv6ue05taocx5zVHfj504tuo8yDCq9T3KzmJj/oXzdn5mXNeEtFf9HuXo5HRs9+WB\n",
       "t/TtelODLXnNUXfyThxbvTx8X4OHWLX3jE+81x6xjYdqfJ+ktTrs+63rYMXR0dRkjcc0c343tHFY\n",
       "A5M8PBRq8GBWgw5a7mtmz3X3vfqtf/D/hSdIjP/e/xcz/wZP6g3Bt8bAWwAAAABJRU5ErkJggg==\n",
       "\" style=\"display:inline;vertical-align:middle;\" /></a></dd>"
      ],
      "text/plain": [
       "<IPython.core.display.HTML object>"
      ]
     },
     "metadata": {},
     "output_type": "display_data"
    },
    {
     "data": {
      "text/html": [
       "<dt><a class=\"ProveItLink\" href=\"axioms.ipynb#linear_map_multi_addition\">proveit.linear_algebra.linear_map_multi_addition</a></dt><dd><a class=\"ProveItLink\" href=\"../__pv_it/axioms/19def95c1286ba0171fcf8a995b77e15e43dac8f0/expr.ipynb\"><img src=\"data:image/png;base64,iVBORw0KGgoAAAANSUhEUgAAAeQAAAAzBAMAAAC0zGbpAAAAMFBMVEX///+IiIgiIiIQEBB2dnbu\n",
       "7u5UVFTMzMzc3NwyMjK6urpmZmaYmJiqqqpEREQAAACk/Np2AAAAAXRSTlMAQObYZgAAAAlwSFlz\n",
       "AAAOxAAADsQBlSsOGwAABupJREFUaN7dml9sFEUcx3/bu73b+8sVYh+MlEsxgoqx/mmBhJJ7gPpA\n",
       "DFUpSWMiWzQ11Ycu1pj4YHoG5InQJoCaiPSkifgAoWDBSDEePmhqTTkRXwzRUwMkJrbFUEqLbZ3Z\n",
       "f92ZnWn30mVonORu/8zMznxmfvObme8ugKfQ2NgI/4vgHeTxmTsLLOu1e4sqXzWOIzPTHnM8stAi\n",
       "Q3niUrlLZPznvt1gngyJQn6FvFxuVLCrZKR5ckRTvJhEWjByPE2Wn9EPkdFSn8PNER+Zbmm9brUl\n",
       "K5wVjNypEZdNxuG3kpH5OQJFgDYNIg28BGV5scgPkpfnzYa/7bTJPM9YHRFEDhyO242KTPpkL8R7\n",
       "uZZdIxQ5Xk1eG5fBPePOKvGGoSOCzIHDj9bJRWRHF1HKGm4lPhKKHMiQ/WY4oXelqRKRyRwEchv6\n",
       "HcgCHOZW4mRWJPIKcoTFjBboTfxbIjKZg0DeCLB9FTrW811fr0jkh6jC9dEZLYRvloZM5XAih6fL\n",
       "K/QOHtDbtEoPKvmcMYHIYWoElhX0eoFyCy2LBrwjGzmYyBLyaz/hlrzEX4DdEIgcorxXIIf/K/vP\n",
       "osXfrqVmt6x8ku4WV4SRYzacrqp6qqpKN6EkKiKIW7aDX40/BCIHVAayjDrvH0e3zN/LVg5WLy9B\n",
       "RcRxN/bwq3ExKw65g5pyIwXdSgFWloRs5hj8rlx94FUKGRcRmrQexxzLsCMvDnlrlrxOpsxFRHdJ\n",
       "yGaO7zdALVRQyCtQER1dcxMZxiYG+U/qOojKVvD4Hsm6kXegissTYP45IswcynNpmIQ+CvkA8ufr\n",
       "8VR4il+NZNpALuLDFQ/I3hIyw0Z6CZkGeWSiAX6dOehGLsPT56Ng/dkRdo5QKlwNj5HIrTMtLUf0\n",
       "eWA1vxrBUQP5HD586AHZW0Lm7OCSF1Y5zr0btmWfmlRURjVqKWLtLtNzLHsnDeS3cLqiB2RvCZnT\n",
       "8g36ziAD2dO2Qt9AoH6OFzPUtsJycfn56jGk77aCBQ/I3hIyu2nKNapm/dme7lMlPu5TiGSVZs4m\n",
       "cf+81jYEcdQsES/uy1tCpkGNuwovwl0KV+eKvGV6bLS2edqTx/aUkBWk265b++4ScTw7V+y0ifzF\n",
       "PE1jI9sJ2TYl8z3lGCyOsN5E3guKyq4phWwllNcyk7/g1HqiI31brtsuZbEgV5nIyYZgjox5oy8n\n",
       "1RrrOyeylTA4xV5iEa7tG4Bl9q5idJEgrzSREymnUwpXDOcS6mY440a2Eh57gjmVtBPT5+toFb9o\n",
       "kaHrguNuPzLPxIUYZNzIVsLU+0wfFSGGRx3Ia+YwbAV8ke+V0iIsw4ZnDyFPd35XhfStBhKeyRPv\n",
       "fJbKBPtP958jkXFCxAZfsh6XijlVdeXGD2ftsR10e+zl4It8z1Xq2RGW+4LdeKvZkw+okgov6UsH\n",
       "bfMvrF7erffjMTxI99NeO6pJTh0gnobttrwqueZlLN37It+7lfqhmWstRzS2hF9rISdRd7y3FJbk\n",
       "Yhlj/ZbQYlKRgZzU+61vU1tD+CiNHNtU7zTfUC8ok/ylSBP4JN8zlHq0hwmNsyX8O8TmsRnasSQ1\n",
       "MDw8XEhocqaLgWx0mf7qoYx+YgqUcRi8MnjiGWPpX4CoDZqYpMs+Dz7J97ZSf3x2SKHUd5gSvnyT\n",
       "QF4LldAZhjeNXoYTKfe8bD97SQEjyxnYZv/hKk3BJ8VA7jKgO9DZAM/bhYZpJVaX7v2R72uofbNu\n",
       "UlgRquFvK8y2GUX9PBREcy/OlQNJ5UgEsVqQv/4YI4froD0bXof/6uBzFV6cKCS1Jvweub0gdW/a\n",
       "8jdlUM4+6/JNvj9MI+MZMbKOKeEb2xsLOaqirfDe+0DBS6ajH5iCAF8VwYadmH2WdRcuQzXqb3q/\n",
       "9TA98DO+yff1NHKgCPJOjSnhG2t9lxC0bXg4N78QFF72FcDP9qV1th3uh+YsJOiB/jLtc/O+yfcD\n",
       "NHLH7+WteUeE06eOLlT7yjPOjOHkUlOpNsDSvU/y/SUaeQVq8g3AlPADRYGiLmXpWMf2Sb7XlXqH\n",
       "hK9Li1s1poTfmRKHHFA5yAuX73voXsYmgF+6MiR8kdJ9jHpBg6V7n+R72rD1CbEtxzTsnSAOOUqt\n",
       "RbB075N8P0QhY68cnmCTiXwNZynS9mpC9U2+P0UhR1CCnkPAkvDjIl+20i47mvZNvl9NIoe6b7W0\n",
       "6osgt4RfpopEpj6c0KV7X+R7W6n3IOGL/XAiTokEg+CTfG8r9R4k/GsgEhkOUv4r65N8z1Xq3RHR\n",
       "MbHI7aS+jKV7X+T7q94jAgWxyBIl9+wDX+R7rlLPiGgBscj0Z6viQ6KrROQ1C/0EPZm/x8jmx8mN\n",
       "jZUeMyz8E/S/7i2xfMg4jsxM/wcuVkDFfSMxTQAAAABJRU5ErkJggg==\n",
       "\" style=\"display:inline;vertical-align:middle;\" /></a></dd>"
      ],
      "text/plain": [
       "<IPython.core.display.HTML object>"
      ]
     },
     "metadata": {},
     "output_type": "display_data"
    },
    {
     "data": {
      "text/html": [
       "<dt><a class=\"ProveItLink\" href=\"axioms.ipynb#tensor_exp_one\">proveit.linear_algebra.tensor_exp_one</a></dt><dd><a class=\"ProveItLink\" href=\"../__pv_it/axioms/562934921b12c897fccc613eb89e8d0e6c88a4fc0/expr.ipynb\"><img src=\"data:image/png;base64,iVBORw0KGgoAAAANSUhEUgAAAHsAAAAaBAMAAABlQT6zAAAAMFBMVEX///+IiIgiIiIQEBB2dnbu\n",
       "7u5UVFTMzMzc3NwyMjK6urpmZmaYmJiqqqpEREQAAACk/Np2AAAAAXRSTlMAQObYZgAAAAlwSFlz\n",
       "AAAOxAAADsQBlSsOGwAAAcxJREFUOMtjYCAIWE8ykAZuwTSKuAgwMBQKYVfFgkM37wYoo4SBgbuA\n",
       "geESdmXsD7CLR8Is925gaHHAqZ3hIHbhN1CakcGDwyEGt3amAAYGsAvuIItyGMC1s1wBEji1MyYw\n",
       "MOwCMWYgi3I7wLWzz8CnnfUrA0MZyD6UQOBfANdeyNKARzvDHAYGTqAHWC4gC9YHQBlcywUYPK7j\n",
       "0b6PgYHnANAIFEFENLsATRZgaJm/EYd2YSA2UlIyQRHMBOJAsXCXCwyMx9llsOqDSDOsB7pzOwPD\n",
       "UxS5d0C8gTGRW4GBIUoqABGiSmCQwICQrgemqTYGjgQU7dOAPmpg/MF2AGeihkn3AwOZL4BlAYqk\n",
       "NjA9MvBNwJMnYNLxQI28AqghB7IdGHsCeDMVRLof6HiGCaC0K7gDmMCRtK9vYA1A1YHsd6h0PUiL\n",
       "71RgCmnI44RFfh4DQ9yCfJz5kQEhDQp5hmaggTwMD9mRYvN+6WaGtbi1w6QPgzh8IB8wfIdLAs2M\n",
       "FuTdcwG3dpj0NkRgfuCAMZkXEFsqzYExmlkmsGDkOIKF4FcYK+yUoyvcIQZEaudJwCqcS6R2pga8\n",
       "ZR0hcJBASYsfcDwgUM7jByzARAMAI+Vnk+3jnwwAAAAASUVORK5CYII=\n",
       "\" style=\"display:inline;vertical-align:middle;\" /></a></dd>"
      ],
      "text/plain": [
       "<IPython.core.display.HTML object>"
      ]
     },
     "metadata": {},
     "output_type": "display_data"
    },
    {
     "data": {
      "text/html": [
       "<h4>proveit.linear_algebra.addition</h4>"
      ],
      "text/plain": [
       "<IPython.core.display.HTML object>"
      ]
     },
     "metadata": {},
     "output_type": "display_data"
    },
    {
     "data": {
      "text/html": [
       "This sub-theory contains no axioms."
      ],
      "text/plain": [
       "<IPython.core.display.HTML object>"
      ]
     },
     "metadata": {},
     "output_type": "display_data"
    },
    {
     "data": {
      "text/html": [
       "<h4>proveit.linear_algebra.negation</h4>"
      ],
      "text/plain": [
       "<IPython.core.display.HTML object>"
      ]
     },
     "metadata": {},
     "output_type": "display_data"
    },
    {
     "data": {
      "text/html": [
       "This sub-theory contains no axioms."
      ],
      "text/plain": [
       "<IPython.core.display.HTML object>"
      ]
     },
     "metadata": {},
     "output_type": "display_data"
    },
    {
     "data": {
      "text/html": [
       "<h4>proveit.linear_algebra.scalar_multiplication</h4>"
      ],
      "text/plain": [
       "<IPython.core.display.HTML object>"
      ]
     },
     "metadata": {},
     "output_type": "display_data"
    },
    {
     "data": {
      "text/html": [
       "This sub-theory contains no axioms."
      ],
      "text/plain": [
       "<IPython.core.display.HTML object>"
      ]
     },
     "metadata": {},
     "output_type": "display_data"
    },
    {
     "data": {
      "text/html": [
       "<h4>proveit.linear_algebra.inner_products</h4>"
      ],
      "text/plain": [
       "<IPython.core.display.HTML object>"
      ]
     },
     "metadata": {},
     "output_type": "display_data"
    },
    {
     "data": {
      "text/html": [
       "<dt><a class=\"ProveItLink\" href=\"../inner_products/_theory_nbs_/axioms.ipynb#inner_prod_space_def\">proveit.linear_algebra.inner_products.inner_prod_space_def</a></dt><dd><a class=\"ProveItLink\" href=\"../inner_products/__pv_it/axioms/331aa95c96246b991ab67b62a77e476c6ad339250/expr.ipynb\"><img src=\"data:image/png;base64,iVBORw0KGgoAAAANSUhEUgAAAwMAAAAmBAMAAABqhVoIAAAAMFBMVEX///+IiIgiIiIQEBB2dnbu\n",
       "7u5UVFTMzMzc3NwyMjK6urpmZmaYmJiqqqpEREQAAACk/Np2AAAAAXRSTlMAQObYZgAAAAlwSFlz\n",
       "AAAOxAAADsQBlSsOGwAAC25JREFUaN7FW32MVNUVP/Pxdt68+dhBKGrA7nbkQ2osW7FKseDQLmaZ\n",
       "hDKllBRo2MHKNliEwSU2TRp3KhZr2sCQAtFQZCr0D//pDpTaUlFmQ2M1IAxF/2ik3RXlQzHlYxeE\n",
       "ZZfpufe+N/e+r5mRzLy9yZ693Hfv+517zj0f97wFoEI7IFCHm7TV5kEgX0+mFicc2BsDqQoqkOTU\n",
       "8fZzGw5fg3oy5dvqwNYYSFVQ7wjU8Rbssx7O1Jepo07s7Wi1UL5vcDoC7UPL0c5EfZkKRxzYGgOp\n",
       "Asof43QE2qa01egWqC9T8jUHtsZAqoDqTXA6Ai1g5YlCV6DOTL3pxN7erBJqgkBHoFkeEnes3kxZ\n",
       "G19dQCpC+a5wOiLtY4uxrkS9mQo74XgZSEWohj5OnWhpY/eQxaTVUGOmZGM32KKf4Iqmyi6WTaPl\n",
       "5982uQRihDK1xjynDjRXgff/wKy1YJ41BDVm6i7eVWiGIg/rJ3iz5RdvNI2etZ1PEeIlEELpYTpp\n",
       "M78rzalrzfUVwR9fX6F736n+85aq/qh4ZuXv9WO3zQBY+vobgTKyeA9/xha3AayZlWLqcOfMzvGa\n",
       "wBrOTrz1yDZdZD5anATwbJHfeiqghmJ0c0lo6D+rquNeowrCdGLeejHMMw1/YD5eIkKcgyD9O/n9\n",
       "og13xwQKjXgj8jQb5HHTJohcBVif0Q8NgjQZQlPKFCTogsv481+ULxVhIGO+mF0UmbqOP/cbZhwk\n",
       "ovoqf215VFhMN4cbC53DVJdqc78m+4KqggCxA3/aZnGzOWWw8CgCQpyDIH2aHFo7v7pSoNCFCt9k\n",
       "OJXyVRuPh+PBAf3YIHhzZe+0tPTjw1VBsvPD9OxcNMenjMAUmS3fMOYaZAZntAIqKzWRzb1LFEzX\n",
       "NamPFmRUFfiSlv6GLQ6ZTdVrdqAiQpyDNDGlWCxg7UGBwnw8CcfUma5T0SmVVOC7bFQBuU2F7WXh\n",
       "oW9GY2mj/yLnMfS5eVZSYMo7iHvSPPeXo1EqsjC6qmBWd70sgwo0IDZlYSE95PTO3auG0/FPaLFg\n",
       "q6W/YYvD5uBbOtQaT3qEOAdBGsSj57fjbkCgsBN/LjCvq2xOVLYC5bpRBWFED9rL4lUqsIuwjkmO\n",
       "2sSw2aBjAlM4G8JqevrqlzT/jGbRIGR/5VGVDNucj72XRrAu9aQ1P6Op4Aj+ytgsXmzx1hcNPOkR\n",
       "4hyE0Puj0Qfs2BsSKNzkbveFBBf1Uw//cmxEpfCbUTnl7rvmpokKvMO0K+0ZhyfSO/v2QQj1E+xX\n",
       "Hjj8Goq3Z8wcjJSt80DeMw5840dlYB+LOMwXgJecdmnIJkvT8qK+UnySefydBrCW8gLSvtZCBdRA\n",
       "jMWUw2zto4S059VYy9w/qsATjd5tkcLTxeORz1Er1qlG8r09ICVpZqHjSYcQ5yCE/hXgtF0OOyyk\n",
       "aMrljo6OGzods9P+YIQkKZT6psOd0PjGpjyOy6PztPtUGj4EaSb1GU3F66iOaVnpXghNx0gkz4Rd\n",
       "qc60K7OMxDR6ALtjTc1CPfQS7e+NkjZJyFNVprondXSsYSoTguX8AvyF8bK+oDxUAZVamzLgUt0m\n",
       "jRqNEfWVzM2jCgIpCFtUROhi5DcAYyN72VDsBMkY3EaedAhxDkLoBpCTdpfjYU7Bi27ZpfqFjKiC\n",
       "j+iRpBRzyMaCu1kC+XLrbBQV6U5AY0uFMyCjCqS3puJUzDp7syiM7rQ/AyfSmJYN70pADO6j4hsT\n",
       "YCChZsEJimGtIDA1H/1pE/Mafl08TjJeXiJCL4/qJsu9l2IH2Wv+JTg7TFUmqipAGW2wKpbgIgXF\n",
       "9zY0pVcxiRT2k2sjTaFEnnQIcQ5CaDhBbh7KhSfB/zDQjnxQLRIrg5yKbteHziv6NU0F/6NnldKu\n",
       "PAY/P7Iks2QVu0RWjbH2CEj0Nb5HALaj+eHpWjI/3Y74PhTPFvfNOwBmUJeZl1kM8dFk6IZp191Z\n",
       "gSkhPnUSQ2FR0H8NozHhZY6qwXKoHppvDrE8CjVM5cIM6ycAo7Sr2WkmN2NugE+ItFPwiZYCw9fB\n",
       "EwGaQul4EhHiHITQUITqajTA7oTa6UpbWAF1u+wlUp9oBYIKeg8cOZLy57gKchAaJEu7qAqCTILb\n",
       "6cuWPtmbxmEMnkeO/FOaW8wxFeDCCzRVUFqsVaCzAgLzTTa+TLgvDWA0Jrz8jPixCqhUBfgkzJKv\n",
       "XVw65J6yQFPBcatoTBe78txjEr6voNWzK5vIkw7BoALI9JDuGXCxPO4MwHesHFF3hOW2uruI0QoK\n",
       "ahKoqSDGrCDHrICkho0pdh5DM1DT5FjS1/8KfvQ57CAbwFd1J0uOSDLHAlEFZLZvwHwbmraWzZOI\n",
       "Biug+gtsc8pV7ojaI1pyHyioKvAHrb6ukMX0Rqlcgx+oETpDTjGLAgJPOoQ4B6F0Hg3bQ/KcUha0\n",
       "XRPwEKfM7arZ9igbFZCcPatXAaB36075+0gscOPyTcwrpzw56H7+BeS+gBm+chxgFf1GRiKOm7o7\n",
       "+tVSNmdEm/KcKRqfBtWriiCigxPZ/SH7EqqyAir9cEU2N5U6gaMcgwhQzqgq8P4bH7vGPfc3Ur9K\n",
       "guoH6OJzIH3acBHDikSHkuQUbzTypEOIcxBK1ydp5eUQm+670dqqJePsDKoncSpxu4LySwWKl6kK\n",
       "KPXNAG+a1HV8zJ+TbmcKtoA8AxougXsHSJj2/C4tTSAG2PSLX38L53dmoe1EAjdC8kE3RgAXPdeB\n",
       "iPW9gB0exhSZHdYu0DsENeGWKC/r89BWAZUmv2RzTdTE93BL69EKbkQFMrkL3tHQR1BiV3xqgZMu\n",
       "fg9vkEtblAK0E30FkspQ6RrHedIhGO4F7HLnGniOvdXVohXCgJ5glUori8thdVGN09LqPzK/91jx\n",
       "/DP9Z49eTjIKG/a1KRdmFeTHih/T0D6rAPK+R3EHS2ff3p9sUF7vwP62nrFZ8C0/vnAzLNrXBvJP\n",
       "W9O7e8Zk4RWARTuvRuDbxXNEvGkedXXuN1diisxuuHBTPWqLPi1ljX5ircgLSPjuCqhKM9ucd+pN\n",
       "gngPD/k0V1+nVUqJLvLhCApLXtLsUq1AaabWIu2JfPAudkj+JD0+7lrJVWs8GRDiHKS7dI0P9wG7\n",
       "oKEduUo17JcFqr8Vfjc65ZaLw9ttxt26i/6z1BuZP8z4++yY2n0qmvniqDBZdxWisjuWsClWN1IW\n",
       "G2INEWExr++8z6ZneNnIzBNBiHMQDoV3zqaE2gmX7gl/Fmjtmp0wgjlT9SxgLkIGWm6NKVsVHDaV\n",
       "CmGv3feCLvopyZ31pITFvMoZo6XP7xcgnC5bjIxzkL3ilwFPDBbSDv8aYlRUbdokuwfnTIUut/nW\n",
       "qBrGF2bKFlUnro1WczUVyC1zISbhbS7VrVuslSEkYhtfgcety0YCQpyDlKBcO9vgxAB0FrATWvNE\n",
       "KfQVOK1Z+1P/OZsny0TBJIRije6rwjDcClP2qJJYqqf+31iZ0lQgrdo9JuGbCaEDn+gW92ing5Dj\n",
       "pCQ23p6R06oKGIi5CGbYVzjHqQNNFgT+NqW9FgZ9HmrM1G8FE6N4IcMfbnh1345D8EP4TLfYXArv\n",
       "swUjCOQDogpihIKQwbqr/MRcv7bfYuwQ1JupQKbc0/dhuZKpFYgJylhWZ3UdaXDEVDDTYqw9W2+m\n",
       "PGWdXB5OjqkZiKeiP50r0BFoLquj7s3Um6nRTuxtdJVQLPnypEZIBdZn5CGoM1MznTPwylDsu0nQ\n",
       "5Pp842NOsHmn5eg7YM3U2n/UyPYyThh4plqozQIV2tPgBJvydMthf8SSKV/SXxvY9WkH9sZAqoFa\n",
       "kOZUaGcd8UMLrGOVdA9YMRWukWeS7nNgawykKij2AVo2/oecieDE37t/ZjPO/nrAyJQ7IdUENZx3\n",
       "YGsMpDqo5wXK2+7/OMCnlLU7FykrppR5J2sCu8QJA1/C6f8BQjDfhkr7qvsAAAAASUVORK5CYII=\n",
       "\" style=\"display:inline;vertical-align:middle;\" /></a></dd>"
      ],
      "text/plain": [
       "<IPython.core.display.HTML object>"
      ]
     },
     "metadata": {},
     "output_type": "display_data"
    },
    {
     "data": {
      "text/html": [
       "<h4>proveit.linear_algebra.linear_maps</h4>"
      ],
      "text/plain": [
       "<IPython.core.display.HTML object>"
      ]
     },
     "metadata": {},
     "output_type": "display_data"
    },
    {
     "data": {
      "text/html": [
       "<dt><a class=\"ProveItLink\" href=\"../linear_maps/_theory_nbs_/axioms.ipynb#vec_add_lin_map\">proveit.linear_algebra.linear_maps.vec_add_lin_map</a></dt><dd><a class=\"ProveItLink\" href=\"../linear_maps/__pv_it/axioms/4696792b84cb225b2fdcff5fa980da0f02b6eb030/expr.ipynb\"><img src=\"data:image/png;base64,iVBORw0KGgoAAAANSUhEUgAAAkYAAAAZCAMAAADjRBFVAAAANlBMVEX///8WFhYNDQ2IiIgiIiIQ\n",
       "EBB2dnbu7u5UVFTMzMzc3NwyMjK6urpmZmaYmJiqqqpEREQAAACBdEgOAAAAAXRSTlMAQObYZgAA\n",
       "AAlwSFlzAAAOxAAADsQBlSsOGwAABsNJREFUaN7tW+ma3CYQVMJ9w/u/bBCHxCXBSON18sX8WDy7\n",
       "muqiKZqmkbftRaMQQr79af/rBrwIzCsE8a8YB2/6VyATh7HPkYmUi0b5N5jzHxEOqyxp/d+XETB1\n",
       "H535KTUJ5s9g+YSeMGQbMwPmcw6Xw5+BaCC/5/PgidOSl5E9/mb0Ixm9AfhCM7juEzM3/aK2zllK\n",
       "qbBsNB1fkpFxpPGZa5lfS2LOegrCUZwUYZiTn8nfGwpQEjqoRp44LHkZqQNc8EcyegPwvhFR93ny\n",
       "3MJ3UVwB1IUZEeRXyAjDVlZuGzFOHiQfsp6CSBcUoOHGKfnMsy5jG3rhiWzJy4jlZ7h9tqm9AXjf\n",
       "lK779Im6RtKyj5TcgcrT6idkdDJTg9jdcpiynoPEmab0c+oI5ZPUlSeypT03ypLC5pmM3gC8b6jp\n",
       "IxOOXZMMmz5l0OkZnSYGkS/ICPBbGRXM0HA45DPWKyBBCdM1Aqw/cUEx2H4Bu/REsrTLKKfZD/Jl\n",
       "UeXpvyPhlqLu44IFG3BmKiOa3CRQnHqhn8momjSj7mRUMJNDdzUcZqyXQFZkJAUgvaXgF46vPZEs\n",
       "BQWgXYYQ4ccntecA7/c0XPfxw56C6KmMYpJBaD7FY7okIwIAJQyfsbeON/BORgWzzLiGazjMWE9B\n",
       "uEB0zzsQKra1bgT+sUEkxjEnpzcLKlkKMlLBjZY8ltFzgNctL7xyAUrvHubwTEbMWeD9eX5TH0tb\n",
       "waLRxnleCoAC/8xYOKbOEFUZL0pm2W4Np8VHrBdAIv8qN+pGMD4c6SB4LW9kpIv9iNP846GMeoCP\n",
       "FWWWyn/9r3L9tKyjqpCI0pmMQIzZBmUdGbgSjTSPX6X6Iv6Acj3xKiqWzBLjBq7hMGO9AGI7GfUj\n",
       "GOcjchc8x3fbe7IU05p93PEPOm1NBoWyhEb7x/hLYvtdK1s/AZKKUJGVSesUxsoOCsDGpqW5S76x\n",
       "PTLeb/BI1n2YRqX8ecjWoQWhJrRsFuXYzfJCX5HR/rCt3P73X7Bq7ijQMAplJbCCWWLcwB0c1lhP\n",
       "QMYy6kfAUOZuqxO/HW9p52QnS1FGu+YTLI4sswZtgKXhj5pdRaMSII2xTHB1kCyIyAxQaxMJZQiE\n",
       "cacf2B4Yl3guIxIXsIOzaJTjVT6obRKtptgO3GRDUpzSIapIOmpmhfALuIbDjPUCSC+jfgRkXKrx\n",
       "TLW89USylA5ZYtOgKrricmcnEJ1OGMqoAAjgDIHulKCDcJU6xYi9FcPOCmZje2S8ywSFqfsjYkE0\n",
       "kRHL2w11st3UbnOjPdr7bYGQsYxYzdHSbczsZFzCzTa1hvUCyFBGzQi28XYOHcH3C6ra1DZs8ti5\n",
       "y/v/doQQHBQAthsZnQAxhxEla2SCHHZTQJdpQzMRje2R8a40ZUHdHwW79jakm5CUZPiJyaPQdiEa\n",
       "ER9Kw5kbX8xBk62eJ7WGWWTcwjUcZqwXQDoZDUawgeFFnHV2EpeTpSQjjmgZ7bg+S/d7wJB+wpm8\n",
       "k1EBEOa8PJ9wB7RWlLXBE9vzuDmyPTLeVmWOs23uOTpcwO8nRKAUlo8FoMCCjIxjRKF46Mr6qNb5\n",
       "Vd2oZRYZt3ANhxnrBZCYGtji5rMfQRnWyhNBfwuXbkiyjJKlXDk88989juAihnKvCu7TObDdyagA\n",
       "8FvakQidqREJO1tV2z9OSD4JH9keGZft8pCw7Il1LvjX7P/ANxNChXM03HCe/pu+OhWikfIr1yh9\n",
       "VbFXbCijnlli3MDBW/F3rKcgzCJkif/pjng9HAGhVpLZ1UzAVqWMkqX+RREFt6KeSVx4G8AZTe5l\n",
       "VFUEMabFvXZMjcKOpYUNzQSRHI/kq7/a9sg466Jsrh3O3gQy05cw+Oy8/5U7tZ75HYcp6xWQxfsA\n",
       "bJvLkLknsqVeRtpVwc4pE37qbVVGIIqG1amRT+r8bxjuy/PsFEdje2C829TO28FZtX/6EovSPyuj\n",
       "EeOWw5T1CsgvaMkT2VIvIxavu7eUo8fS+5VIxeV07Sf+CBEzaRKD4VmZ484q7eNoOPzD2va18UEq\n",
       "aHndP20L7yc8kRG4riL0jB+8I/EVkIcyOiwN3n6EJFWkzMmS8lUZqZBrE+V8zhYggHB4Lz6aNMQc\n",
       "pZTUPoq6+Dn7Itm+Nj7QSk7byUvvLdzlPJERQZfvPfSMH9wnfQXkoYwOS3cv0S689jHbSXsIgvfc\n",
       "SHb78prxoVTy2Y6/iuV6IZjhJ+9ic0WvPNky1k8C6ldAPoywENWlmRsZGfJaRmZ5XSi+9E38O25/\n",
       "/7T5GryW0cransjog/DQCGT8TS3/zNh/TUYrTXzv/6mRLz3zp/10AxAi/Q/tEFBqFPFNYAAAAABJ\n",
       "RU5ErkJggg==\n",
       "\" style=\"display:inline;vertical-align:middle;\" /></a></dd>"
      ],
      "text/plain": [
       "<IPython.core.display.HTML object>"
      ]
     },
     "metadata": {},
     "output_type": "display_data"
    },
    {
     "data": {
      "text/html": [
       "<dt><a class=\"ProveItLink\" href=\"../linear_maps/_theory_nbs_/axioms.ipynb#scalar_mult_lin_map\">proveit.linear_algebra.linear_maps.scalar_mult_lin_map</a></dt><dd><a class=\"ProveItLink\" href=\"../linear_maps/__pv_it/axioms/f3bd2fd067614061947788e6d1e0b86a37fae1fe0/expr.ipynb\"><img src=\"data:image/png;base64,iVBORw0KGgoAAAANSUhEUgAAAgIAAAAZCAMAAAB0FbaPAAAANlBMVEX///8WFhYNDQ2IiIgiIiIQ\n",
       "EBB2dnbu7u5UVFTMzMzc3NwyMjK6urpmZmaYmJiqqqpEREQAAACBdEgOAAAAAXRSTlMAQObYZgAA\n",
       "AAlwSFlzAAAOxAAADsQBlSsOGwAABfdJREFUaN7tW9mSpSgUdAZZZf3/n20WEQ6gF7WqZyqieCji\n",
       "2kImkJwF7GV5U9i6rmL5LT+1IL9+5l0X2+8s/vSi9c+WgGjqG00+7Q5+nw2V8iH/+8N4se85APrh\n",
       "EkAG1jNFoomXiHzCZjP0Gf9P3DSSXzdpYWwVkJeAPX4Y/UgCrzp4VQyB9elMW+csY3ZTdFIvTyRg\n",
       "3CcBQB4j3pCbwGlCN8OdvKVFjxN7kqtb1WhsBchLQB2db+KRBF518KbQDdYXxaVXLA5zv9FvkQBZ\n",
       "l3s8RrwBN+ni8ul1EeyWfaEud23YydgOIC8Bnl8S9pkjeNXBm6I0rM8Ld2jfqKHW6r+SAOQx4g25\n",
       "pWVi7DYXjHPKdja2AyjEAlkPxDyTwKsO3hTc1BeW0fG9jqYX0y+QABL3JQB5DHkPuLGPkkXWJ3dr\n",
       "ZVQ2t/8DPx1bBgoSyCHhk9Buq2PKvxwbyg3WF8W6XMcp2fQzCYDVMeq+BACPMe8Bt08SkBtqdcNc\n",
       "FKgg52PLQHH1cJDQisnjjOBFB2/8AIG1HxxCZJjLObv71mSHCZuSAEWIUU6KcYNrvJ5KYI5H5g1h\n",
       "Km5iwyz4WYwrV9CR8q/1hoOk8JFdyDsDRQmoSNfSxxJ40UHYTjNBJDrfL7kW4ZxL2VMXLEg+CNNl\n",
       "/6m1KgxOk998iCH/ynjRTQOltns8Mm8Io2vbkBiBWKAjNQzCtQuda3khgQwUJSBY/uODz7SXDbZh\n",
       "WTUOP9NDagfbPHVTddCYKOsUUYwNSBqb/HLk2cCOcHtjmBf0qKN/RUMXzAghZULMOmMFtAgtxcL0\n",
       "yb5HQPTC6Xs8dt4NDOBmOwn0pIb+V4bJFeTKyWWg5MbDULJ5SDFKbm2jmFly+fz0aKjqoFHjWplI\n",
       "jpi1+1vK0DU+pWwAO8CV3XiwBLWq0/KSFdUuuOzGGQkEWAvm999/VlBcydY5W/PIZnnsvBsYwK2X\n",
       "QE+K40zH1rj2xA0cC5WBkgQMOhZzP98gtXGjK45O6Px0sOpgFMmgiKZU0RDxACb+TKcKDewIt/N4\n",
       "jQQwML3gQMQ13CSekUBsiS68v9wq1VO1E5zmgUvrCgZw6yXQk6LDVNytJ27gGFsG2oP5bdEomzO5\n",
       "m5tkusJ7RLuxNy7rXjrwsZAur2JzzAPStdGkcFob2BFul3Jupq6pI+fZePNPlbG9igWCPfWMKB1L\n",
       "gDeiTOs1z2MzxWwXmA+OoCe1DL3a6ii5ljd0BH56j+EEiQldDj3DbpV+xbi8kkDpwNtDjsFSi2gK\n",
       "gFiJLeHsCHaE2yVhFoF6d8Vy5IKbh9pOWAHqfRZztWlqJrsNw3Z3N80j8W5hALdOAgNSC0LD9NN+\n",
       "sHAZaJeAwAfKxur+uVcc8ivJx0bgkMDRQYiE6WHwNUYIpbsTWee7WJeAcQQ7wpXtmHJWs9cqSmSU\n",
       "jG2t61doQgLGcaq8mGWxPmAF5cm5wDSPxLuFAdxSSGSrW5ieVG1OqiEOLhX2wGSXQAbKpzqWF8u4\n",
       "VAcN1MU7JWc0vZTA0QEGdCr96s3GYuICH73lM2wIO8LlrQTkCmvi03E0OFsLdyZwzT9/5RKsgPLb\n",
       "yyh9duSp+Mm5wCyPxLuFqbhxi7Gl/m9pNyRFmZX08qAZBCa7BDJQf1msHVCYUyb+1cu1BI73weyW\n",
       "3b5w0h938bKwDewAt3MES77Sv3u1Lz4f433XNdGQ/01uoxyQWHhA/HlsB1AvAZ5up5Y9mkjx7Wnv\n",
       "3fMYJJO9tagFUZJo4azSXrcxQVwh7Dlu7/Ky0ieufeD+1f8PCYx4q++/b09jO4AGn4ysdE834660\n",
       "cRGZmJWAUFp7KxhbI+tUaSgOZ6Ok9qp16bcVAPYc1/Yc8iN765J65kLziQQQvtui5/03Llvj2ArQ\n",
       "1VdDM/d+243WlIRYQHY2bA53lP7mZ/TWxM0cZD+RAMV3b0p73k8P2W9LoABdSGDqI6jtVetkE8RU\n",
       "SzJ6nNNIccN86hmTQZ58OygUuymClrf+/m9u0IolALqQwNSsbq9aDxd33FLL5bd8S3n9+ehX/D8C\n",
       "+kXv/JYHNmHF+g9quEHKzqSK7AAAAABJRU5ErkJggg==\n",
       "\" style=\"display:inline;vertical-align:middle;\" /></a></dd>"
      ],
      "text/plain": [
       "<IPython.core.display.HTML object>"
      ]
     },
     "metadata": {},
     "output_type": "display_data"
    },
    {
     "data": {
      "text/html": [
       "<h4>proveit.linear_algebra.matrices</h4>"
      ],
      "text/plain": [
       "<IPython.core.display.HTML object>"
      ]
     },
     "metadata": {},
     "output_type": "display_data"
    },
    {
     "data": {
      "text/html": [
       "This sub-theory contains no axioms."
      ],
      "text/plain": [
       "<IPython.core.display.HTML object>"
      ]
     },
     "metadata": {},
     "output_type": "display_data"
    },
    {
     "data": {
      "text/html": [
       "<h4>proveit.linear_algebra.tensors</h4>"
      ],
      "text/plain": [
       "<IPython.core.display.HTML object>"
      ]
     },
     "metadata": {},
     "output_type": "display_data"
    },
    {
     "data": {
      "text/html": [
       "<dt><a class=\"ProveItLink\" href=\"../tensors/_theory_nbs_/axioms.ipynb#unary_tensor_prod_def\">proveit.linear_algebra.tensors.unary_tensor_prod_def</a></dt><dd><a class=\"ProveItLink\" href=\"../tensors/__pv_it/axioms/89e761c4bdca14e0339bac67e2515db51ea36c3a0/expr.ipynb\"><img src=\"data:image/png;base64,iVBORw0KGgoAAAANSUhEUgAAAY4AAAAzBAMAAAByCfJQAAAAMFBMVEX///+IiIgiIiIQEBB2dnbu\n",
       "7u5UVFTMzMzc3NwyMjK6urpmZmaYmJiqqqpEREQAAACk/Np2AAAAAXRSTlMAQObYZgAAAAlwSFlz\n",
       "AAAOxAAADsQBlSsOGwAABZpJREFUaN7tml1oHFUUx89sZrKzsx+ZxBS0tmnZgD6ImEqpUAU3mtiw\n",
       "bWT6kAcRNC+CL9otVd901xoLYmmDH8UHa1cpFEXDUmKqNdCNjVhqqluqglB0C8ZIwCSVpMYYjed+\n",
       "zMzdmbuk6CpsmAvNbM85d//3d+fce+5MAiBrWl+fBfXT+vr65I7QykqhjjhmV/6qwpGH+mpfBhwB\n",
       "R8ARcAQcAUfAEXAEHHXI0XLrqiE5IYh/0gVn9W4s+v/hSK8aoZTEIPZxI6MZBHhb2sf2pClHmZgu\n",
       "+zkS5Bov1ohDqiK0r8HHEU/Rz5E5SilptodxnCamN/wcUXJLIrkacUhVhOfPQT/HQ+zzDzhaeF3W\n",
       "yfYwjmfIHSr7OcL9eD1Uq7ySqrgtWmTD2d3Vtc7mGGWukUX88YWsk+1hHBF8EFdLkvVB5qC3VhxS\n",
       "Fbc1sMEbHyJKnnN0UI868BvxS94WOB7GEcOpiMjW+QReB2vFIVVx27uMYwjTWJtmHAbTfl75k+S3\n",
       "ZJ06HsYBdyaTW2UcDclke6pm+5VMxW3DLKi/B+Bhlc1wlGkX4stk7vv9fRwP5zgFMCnjiGYgYdWM\n",
       "w1GRfuWbNEjJqTmtoKXoyNgtMErhebzE6M05mSTtFtbF9XCOA6AjrTH7BETuFjnQeuCfDDpu73GK\n",
       "yMFUMG3u4rZP8fZcmuL/uZ0GNQLseBnvCh1ZiK6mKOjXyHdu9m8NjodzJCyVbLE3ABy3KurgJIkQ\n",
       "5Iw90xBOmjykufUpOcd5zPNrJXi1AAWBg6uASpJ675PToOI6HrADttMgFUeHsOx+NNDwtk9GyKup\n",
       "8JxPxvVwjrhJF+BPoOQr6/lFssxtOSLdgCl7oz0dGRiRlwIcidIBRjfOi8DBVeDEFux7ikzkAhlx\n",
       "BUcUpXZg4rscGs7ar2QKO3wyrodzwOAYcSzr3Z5zSSRmOnJUWplzpXGnbJSXAuya6If15Assoa4x\n",
       "FTCPAGygp4oliDlV9ijn0FM4mYwjUqLJA9Du5JW4PgSPzdFLKkV48azp4VC/sxw5Kg3LEM/Ark5Q\n",
       "Oh+PPAa6/srYTkvfhbUaDcS+YdyEEMY1FQcIglMw0rYKrpmPQWP18CocdPSu0CCjhKm63mBHrQQZ\n",
       "zvv47xhZzb4SKnhsjhfIAlTmBzo8HPo2R45Ln8RpiJSixZ0wrN9xWx6yOWWwMdWQAzSg/XxKN+El\n",
       "jMse3EJXfEHgoCpwAtehwYrBETet4AEWdBotCj9qka1WJ0OaxWmMmt4zouCxORIZ8qMMW73n3SlH\n",
       "jksfzj8LWYhPLsKLEG67CvsAlvRcoqihAe1Tf3xjwRDGbeq5n24MZYGDqsBw1x4r9tbMzC84KYq7\n",
       "Bb/DNwNSByd5HdwM2uzvFny/8hqOx3POq/CkxXN7UxE2WbJzO5Xj0olyCs5OTLw3Rx8OsoTjHmht\n",
       "MQ00oD0/tJKHb7HPDN0SIFz2nttxKz6cCbP78NUHwrxlWNDY0+FWO158ZtlfdZffD5Uc2RzT9nFQ\n",
       "OS5tLJk4etAX6CIP0fsRKSbWEQPawxZWpefoOlIWvHllZ3VTiRfErPCbiViBBWkXN1p2vHg2HK3K\n",
       "MVrJoRzrgUvzMg4mxyt+uwWYRcUfYXdTHksbro/yo1aoGdCA9gsFfM4IkT0DaJIqpocjug20M0fh\n",
       "EE2xkFjZf/af2xNuLlU/KRNP+rqeB5kck6Zz1NUMaqcZPd6VguyFm0EZ/fwKMaA93jmeI/I3zefi\n",
       "96aEkXieB7UHZ6Y9go/4OTR38NXPR8RzfRxVpbHtk3Q1UuLgWLtv1edzvSgEtWynF3dbPle13zke\n",
       "/e+ez7My40fOp+46eV+iz8p+iajaSRDL1wlHlWZzaMF7uP+OY+/4muAI90fWBAc7HdU/R8jS1gSH\n",
       "0Xs5eN8ecAQca4zjszr7O7K2Khx193dkfwP3qcY7K2i32wAAAABJRU5ErkJggg==\n",
       "\" style=\"display:inline;vertical-align:middle;\" /></a></dd>"
      ],
      "text/plain": [
       "<IPython.core.display.HTML object>"
      ]
     },
     "metadata": {},
     "output_type": "display_data"
    },
    {
     "data": {
      "text/html": [
       "<dt><a class=\"ProveItLink\" href=\"../tensors/_theory_nbs_/axioms.ipynb#tensor_prod_in_vec_space_only_if_valid\">proveit.linear_algebra.tensors.tensor_prod_in_vec_space_only_if_valid</a></dt><dd><a class=\"ProveItLink\" href=\"../tensors/__pv_it/axioms/9d57491107f87d16d3a99c08fc2dfc40a6d95cfb0/expr.ipynb\"><img src=\"data:image/png;base64,iVBORw0KGgoAAAANSUhEUgAAAvMAAAAzBAMAAADoXJp5AAAAMFBMVEX///+IiIgiIiIQEBB2dnbu\n",
       "7u5UVFTMzMzc3NwyMjK6urpmZmaYmJiqqqpEREQAAACk/Np2AAAAAXRSTlMAQObYZgAAAAlwSFlz\n",
       "AAAOxAAADsQBlSsOGwAACLtJREFUeNrtnGtsHFcVx/+z3vXOvsc0Da+QWBshBBQSaFVEaauJcKoI\n",
       "N+0EaiOgiv0BokYVeCNH/YAEO2pLJL7UFlVQPpBmE0WKWpVmVaJUaV2xpYGE1JCFFhWUiGxbQqNA\n",
       "1glq1MRtvdzXPO7O+CFmFq2ludLdx733f+bMb849c2fGXsCnDA0NIdySGBoyut1i5wvjyl7m9X5d\n",
       "672QNxprtardbrHzZaY1J17yrVbDd8hnQt9orNL9Fv8f5Y/2SzZCH6GP0EfoI/QR+gh9hD5CH6GP\n",
       "0EfoI/QR+gh9hD5CH6GP0Efol15MURcesVjLPCYj9AsUpc4rKT+dZ8h+P81CZb8tktAz+Gc96P2a\n",
       "g4HK0/dcLUz0zxaLxdtCRv+aqKTsa+vate7zNbx1XfOQpuOzM3Pbtr8tt3+0dQk48J+qczgl9M/T\n",
       "9z0e9H7NwUBlaJimzLCj/hPhkk9M8krDpNXeeS/ZpqIDu8X3zY4G6CHROlaSjV2nZka5YLcH/UPk\n",
       "TW140Ps1BwOVJC7gMXQ5+kyNV/pxrD1O6DTIGMArguynHQ0woQGH255Z3kxqL7jgFQ/6FDEVr3vQ\n",
       "+zUHBLXbiZPuRd8jKimb7hUxvLpY5PNgTpDs4Y+0ld9VbA1wmow+rckCeqw+LARMJKHPkkOW8p5m\n",
       "/ZoDgpom75Pdjv5JUcmc19bw0HvyRtGXvkJe7qNpk0+LWLJha0iyIfVxUxKAzBtVFwImklc4XywW\n",
       "b/FZ4fg0BwTVUyyu1bsd/RFRSRrBOUZYtTI74u+Sl1P0w6g4u+6xNcCdwPCnZAE9OfRCCJhIRv8c\n",
       "cN4HvU/zEstf7TWXDCpTQp7N1ESboOrStf91itZJ9D6e/kJU4Jcos0BxVgax9cLZLJ+8e3DG1iA5\n",
       "17eSC11LidM1dqiYgIlk9LugkuORnvk+Ul9xoWfN2Zv17Fo98RYP1vTYRSSLFoy+FTt99ydbsY1V\n",
       "JVDE3i725Rssh6ZnjgzyxVjD0pGj8iVbwvszllXJE2Hxz2RxeQcemqupb1ZBupG7sxTQ08+JSpsm\n",
       "WHA7aXeEfqc1189gjyJmWBoo14BXa7IAh3WWb5iAiWT0eSNOd/oG4KDhQs+bm8B24AT5vuMHF9FD\n",
       "7HzEWgqUcNR3h4YdYwflGD2Pr/FpyHPob9g4G/0wm5kfEPwrBjS7P002mVzZrLg8aY/63GXgKfLp\n",
       "q+CJNZCnt4kK5V8vjDHHxsnxLbJPNAGp1LXkZfq1twRFszTIrxcZySXASIPlGyZgIhl9TmOH6Z9Q\n",
       "Ku6Ew5uPIbEWCbKBzHPUHaLWnaVAr+8OPe8YSxkSqD/xs2x6nIfjg2RCutCzK4lDXwB2MlpWP0mc\n",
       "L5TcnnjQZya5V+cMxBHUUxv9FqDAgnurk7mJH3GaTdI08+BbJEr6bfQFMh2yV2QBsXCKz8L1QtR2\n",
       "I2HyJfrxfXWjfCOBNd+A+GmWCVexjveRK+HuDVA2PJD6HlT1Zy8NGurdZBdWrDTjxzWsIrXfMeas\n",
       "ThmoVJaRU1L8LHUHEje50LO90H6OxKCJR3W7fzMUNo1tTzzoYzrHPFHBycCe7hWVpiCW2xFz0Iu1\n",
       "pUg4dKH8oqVBmXjZOysLELvKj/88CQeb6Rk5ee1lTUbPms/h9cPGD8nh5XieJbk3Vc/UBnFEXffZ\n",
       "CsqmMtmr95jxakbfi6m0rmrqpGMsV5VAxf/GYkvLsOBXr0wfLTnoqY6gPUbqJlW/3+4/I6LI8sSL\n",
       "fqTCZ0NBU2uBPX1D1DRdDrK8othcyLTCA86tr37rNg8djzVkOpQnZQHyc+Ks0hCiNvSP0CBU3nl0\n",
       "vYyeNZdNbaKkcU9YYP0IZeTOX8NPkFx9BePArGrmayOm+s3L+Hvyvb8Y6YZjLN2QQKm3ssaSwjqz\n",
       "/RiuOujZ2EMkuBXEX6PhLfqfwdNskOWJF/050AgnpEbjCOzpXaI+QsFdsycCX7pUsYsFS4b6waZw\n",
       "viTG43Fi5MuGLEBmVrxrQtSGnsnzDdwio2fNI/tROEsMZp9oNi/RUTpenp5+ioSDSmjQHbodKz6k\n",
       "HSYjbp8+hWdaFXrLwjKWlNGDLWgyA3ddZWepKtRZBz3V4cjAmKEguYeiF/0/xu+bzWbd9sR7++wY\n",
       "WI5Hpp9eygT09ACvW1u7kZu5ztLF8EVrs/c8yI99zGTrEKrThWZ7a9u2J0TWcgRZMZmogIn8bhoX\n",
       "alhjeG8aF15EYcraBDmusxrZDahXWdKLsVhK1fI3Thj8JG5kJ+lOWMbaEo61UlfZQqCnjvS7Dnqq\n",
       "I8AnSgp2xE3F7j+DnZInXotH2TmR7MxsPbinsRKv7nLwzaJ8Ff5w2yVG23h/wcPz3a8vm2xB1o6+\n",
       "p4EYsyIur9YayNcStX9gS6FCVukkgzZGjFhfXk9o/8b9ZAcaNAVaxpys54CiCeEDejlOIHy9Kp9m\n",
       "SWop1NOHNGx63e7vE9dhticeiweQ0KnBJP+ngGCe0jjNLvaH+1Nt1weL/qH/lCXyQa/s24RX3/Gi\n",
       "z5voZRdnj/EjS2+/DfQhvkHLHBzQUf7Dx6FMnXhDtOU2HDdxwTGWN72gfjWK71yvj9eVfQODl+BC\n",
       "fwGZW5H49V4MkASiweq/APVtyROPxdx3yaJmnET8JxGCpxdEXaB47uguMp4JuOh/eUqVuKd50ds6\n",
       "7iN2rqNcK1zPMyX3TdGGrFNOJFc52yWd9zWblUWfUtVD8nSrvDL3K/n2ux2LjGcCLgrvAWHZ7463\n",
       "E5sb5wWVMzzoHd23P+b0xo2lPSDMGSF5Sheo6sLP0k56onqRZ28nbVFo6NUZvyy30XWPZD70WXjQ\n",
       "u3bfVU5haeizYXna2dLhx+IJz4dFHmKbnuFOMZaIPjRPlzX6ToHqtMWuRb/j+HJBH8zT7kOfHE0t\n",
       "E/QBPe0+9PnSckk4AT3tPvQxI7FM0Af0tPvQpzefXSboA3oarXCiFU6EPkIfoY/Qdxj9TaH/FFHs\n",
       "t2H/cFD4FjtfhoZWi5fE0BZ/9NFPEXWmyD9F9F/qsYTESVLofAAAAABJRU5ErkJggg==\n",
       "\" style=\"display:inline;vertical-align:middle;\" /></a></dd>"
      ],
      "text/plain": [
       "<IPython.core.display.HTML object>"
      ]
     },
     "metadata": {},
     "output_type": "display_data"
    },
    {
     "data": {
      "text/html": [
       "<dt><a class=\"ProveItLink\" href=\"../tensors/_theory_nbs_/axioms.ipynb#multi_tensor_prod_def\">proveit.linear_algebra.tensors.multi_tensor_prod_def</a></dt><dd><a class=\"ProveItLink\" href=\"../tensors/__pv_it/axioms/9703a68df088c217c2e0c3ca18d9543f616c70250/expr.ipynb\"><img src=\"data:image/png;base64,iVBORw0KGgoAAAANSUhEUgAAAcQAAAAzBAMAAAD7kWU5AAAAMFBMVEX///+IiIgiIiIQEBB2dnbu\n",
       "7u5UVFTMzMzc3NwyMjK6urpmZmaYmJiqqqpEREQAAACk/Np2AAAAAXRSTlMAQObYZgAAAAlwSFlz\n",
       "AAAOxAAADsQBlSsOGwAAB55JREFUaN7Vmn9sE2UYx59be+2td9cVREQioxkiGv6ZRkA0kJqUH5oQ\n",
       "ijITgmL9kRn0j3UOjZqYVZkkREObAGriDyqYYCKTEgEjIBYTjWRkOxD+0BhpNIjBZCuGAdvY6vvj\n",
       "rve77XVw08vWu/e5u/e9773P+7zP+2kBKmxsS0sM/r9bS0tLxWvqisXs+Fp5fiKksefofqA4Vlli\n",
       "ZpyN+XK6InddldjX9qrie703XuKz+uIM+mhpBzVstj8VCNmdEcOuSRTC+pYjZFdfcFDFDqtqB8Za\n",
       "159X3pjVdtA1iamErriG7s46kCgWrayePEBbAuptY2Fdzi2Jt+uLR+RXfFUxrIpGb7a6T7XzbUlN\n",
       "GJkSfZCoSiEX3ZsFwTYWivNckig068u06O26ogymA0iNRRMa+/KVGkf4PAbsdHzQh4x9SOY826Y/\n",
       "cEmiJ6J/chpm3mBGZcMXqIfYC+b7VDsXmimp9/+FPtbhR2pD/1vRRR/aNr036Y7EmfqxwlPFWfGa\n",
       "bIgvB1jrNQ8o1c7DWXXa8XmTwGaXoKPFAI/NQfultk3XZ92ReIehWfK0Acl/iZaZpDfJZtmI8TaN\n",
       "vRs61dPTYDmshdUA/rFJU0kHHidvrolscf1gHHRFov+KoTbiczxwl5EfoqfzASx7G/WZKV9Q7VlI\n",
       "qafj4H0li88yKF79hN/XKfsE56IrEn2GaOMhtTUePojSqvbJKO4gvUiAqRdVO/P34bZ8yR4h8x06\n",
       "G0QVe/H767Rv/HdXJHriFhJZFAj/oR3AA3Qtwz1l2FT7KoAGNXvIAhdN4LMNqGIBd9Mu+8b7km5I\n",
       "7MwZxqJEnx9mKRK5CJOxkqjY0V9dMwhH2qcyPyRQqQum4wpwxb5hxVEtxyI8mXND4sqkvhzEOeUe\n",
       "OSk7hQPPBoDpAck0LSr2QI5ke8KunCfOxKHbHwEm040iNaq4M11eAXWhGy3xD+MYQ61yeHwOJGkH\n",
       "HMLD7TT23iH83tPyQcm+Eb+Xq/DWZGjIoBmH/xRn8ujcVvQaFuI5ZZ9948EwlUiG8q9lJQZJCM7V\n",
       "InGxsXfCwA4MxeC34jYqMZhU1nZzcWNZ+UCxrytuB3FgKAJPQQcJx2Tqj8H6Ymvrx6Tv77Rv3Fug\n",
       "Eg/h3ftlJfK4I+uTtSxMR4yWOZpjMoyOveSfYnWrwb4AGiHlRyHmlli7Nv5y4TLJ4zCV+DK+Ll9W\n",
       "oh/79JaapsWLRkuPUSJ7coblYkFv5wqoH3vRZAFPTDqji0u5Sq33ktWIVyo/Frej/YpaJIqjpvGh\n",
       "OkPXjn1VVxSII0/bZLEk2VLRh3pBwCGrQrg5gfbpWiQKV0zN5q8vozlX7uRlOaLe09R0bwWJnqam\n",
       "WZFaHoC5ajK9c10VCmUjxJgs8avyrwJL5BMQJAODtb7GduXtHZxQwrhQlrgJOENW8OL+DDNfKxFd\n",
       "sIkUHk1Y+vwC3UpvJHpUuYyfWIlNssRgzKuZ3f1T+zNifAkc0E395+BhmqxYxiXvqIFHMUry7StM\n",
       "qMRZskQxpI02h1EHiMd4NfcnEk/SaBPosGR6u+/WLS6yIBT+WxIhfQxKaS6Dpxnx9c9Ceon1AtHG\n",
       "1Metagq9q8sMJXgkZ++oHIwXF1tHGK6Mo8IKNO0pae46Mpsllvyil+j9mUSUEG81dTDwtY4q3tbz\n",
       "XMmFzRF1BpTg52YHujTXfmI9c4bsww1sRF2jpLl7qESeyeskciT6BBJokHGm8LsbbtIWvwP2hZJ6\n",
       "07yIUbGMiy0RsN2muZbRB4Qy0Hi+IjGI45+c5h7v7++XxAQbSetXGueJ20WXDsJrs40V7Y+2aWcN\n",
       "pC+VsZ3610AJF1sjYJs0SXvtdsOaKW8HjUd0iyk5zd1AexG6QxaLqRBw6JFnm/wUUgnhmxOHTtOp\n",
       "YhHAXmXSEIeNrR5RcbGKgB3i4p4qoTF7SStRSXPJDC9kgImbJeLV6SiRuBrYiPKBfbtBCjTC/cj/\n",
       "kIUbBHZuaQq6Zmy2uYSLVQTsFBd7YtVBYyUN16e5HPbIne8B5M0Sv4zD2iEJS+yQ/PdBRxJ/SPx8\n",
       "YL/9CM6zaR9akyyCWy9Fj0p6VzGgYhkXqwjYIS6mpLIKaEwXAaZV/+r+/kz5VT92VLU95SgsRjwC\n",
       "qtVw8V1GJhMp4WIVATvExQQdVAONaYbsHGy0PyCBWHoc5YiNMxnfNIAzhrufATMqprhYRcBOcTEI\n",
       "aXtorEtCCrWzG8HiiG7GBWpfzIyKKS6WEfDjace4mH47WgU09uRdgYySmaNSXEwRsH9S2DEuBn+h\n",
       "OmicCk0UKqYSZQSMesQpLoZAc3XQ2B1UzDebUTHBxTICphKd4WLqqDbQWLs9DW5IDAybUTHBxTIC\n",
       "xo/rFBeDgJ22Cmjsztc2MNeMiknMlxEw6RGHuBh4/I4qQ2PBnS/fjCE1EKb/JQSMJTrFxXVkjFWE\n",
       "xnVxdyQavggnqFiLi8m4coiL36SdVAkau/VFuDBoRsU9RokOcbGcxleCxn+COxJhmxkVa3Ax99BI\n",
       "yCkutmH3RmgcGHRLYkfShIrHiYuDsaqgsUdySyKTNqPi8eHiH6uDxq3glkTjz/zc2sR09RK/H+dP\n",
       "boO5CZEo/1izpaWxssRx/+T2wkQoZGXAM1Ac+xeFgZe2YnsTrAAAAABJRU5ErkJggg==\n",
       "\" style=\"display:inline;vertical-align:middle;\" /></a></dd>"
      ],
      "text/plain": [
       "<IPython.core.display.HTML object>"
      ]
     },
     "metadata": {},
     "output_type": "display_data"
    }
   ],
   "source": [
    "import proveit\n",
    "%theory # toggles between interactive and static modes"
   ]
  },
  {
   "cell_type": "code",
   "execution_count": null,
   "metadata": {},
   "outputs": [],
   "source": []
  }
 ],
 "metadata": {
  "kernelspec": {
   "display_name": "Python 3",
   "language": "python",
   "name": "python3"
  },
  "language_info": {
   "codemirror_mode": {
    "name": "ipython",
    "version": 3
   },
   "file_extension": ".py",
   "mimetype": "text/x-python",
   "name": "python",
   "nbconvert_exporter": "python",
   "pygments_lexer": "ipython3",
   "version": "3.7.4"
  }
 },
 "nbformat": 4,
 "nbformat_minor": 1
}