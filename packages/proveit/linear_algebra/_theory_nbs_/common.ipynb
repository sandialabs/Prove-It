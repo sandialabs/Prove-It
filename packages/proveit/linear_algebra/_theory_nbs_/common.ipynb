{
 "cells": [
  {
   "cell_type": "markdown",
   "metadata": {},
   "source": [
    "Common expressions for the theory of <a class=\"ProveItLink\" href=\"theory.ipynb\">proveit.linear_algebra</a>\n",
    "========"
   ]
  },
  {
   "cell_type": "code",
   "execution_count": 1,
   "metadata": {},
   "outputs": [],
   "source": [
    "import proveit\n",
    "# Prepare this notebook for defining the common expressions of a theory:\n",
    "%common_expressions_notebook # Keep this at the top following 'import proveit'.\n",
    "\n",
    "from proveit import ExprRange, IndexedVar\n",
    "from proveit import a, b, i, k, n, x, y, U, V, W\n",
    "from proveit.core_expr_types import a_k, x_k\n",
    "from proveit.logic import Or, Set, Difference, NotEquals\n",
    "from proveit.numbers import zero, one\n",
    "from proveit.linear_algebra import VecAdd, VecZero, ScalarMult"
   ]
  },
  {
   "cell_type": "code",
   "execution_count": 2,
   "metadata": {},
   "outputs": [
    {
     "name": "stdout",
     "output_type": "stream",
     "text": [
      "Defining common sub-expressions for theory 'proveit.linear_algebra'\n",
      "Subsequent end-of-cell assignments will define common sub-expressions\n",
      "%end_common will finalize the definitions\n"
     ]
    }
   ],
   "source": [
    "%begin common"
   ]
  },
  {
   "cell_type": "markdown",
   "metadata": {},
   "source": [
    "A binary linear combination:"
   ]
  },
  {
   "cell_type": "code",
   "execution_count": 3,
   "metadata": {},
   "outputs": [
    {
     "data": {
      "text/html": [
       "<strong id=\"binary_lin_comb_ax_by\">binary_lin_comb_ax_by:</strong> <a class=\"ProveItLink\" href=\"../__pv_it/common/b36242db59fd76d999530a711954fa0f778275cd0/common_expr.ipynb\"><img src=\"data:image/png;base64,iVBORw0KGgoAAAANSUhEUgAAAH4AAAAVBAMAAAByPkciAAAAMFBMVEX///8AAAAAAAAAAAAAAAAA\n",
       "AAAAAAAAAAAAAAAAAAAAAAAAAAAAAAAAAAAAAAAAAAAv3aB7AAAAD3RSTlMAInZUiRDNmWbv3US7\n",
       "qzJazP2FAAAACXBIWXMAAA7EAAAOxAGVKw4bAAAB7klEQVQ4y42UMUgCURjH/3pe56mJNBdYDdZQ\n",
       "OERkSw5RUyEOhWDpEjU2SFhTUy1BEQRRS1QQGYTQ5JS1NAUiErW5tLSYmNEUfe+8O3t3L+jB8bjv\n",
       "/f7v+9/3vXcAArAPx/9DzrBA7w3aQv1/UCMQjQFrQIoieSSg5LRQ3xGzBOboWRZQyqZQ717VLRrL\n",
       "WXoaAkqFeBzoto1C7NFeTQE1+od+hddL9JmuEwGVYX2o9LbrHR9anKSWzPB6JUpfWx4yexXPQi4x\n",
       "iuUpBHxta6vOskKJtnh9B9UhtSTXDSoagfudUWfUgkMopjV3wN3sJDjC6z2UeSKGfZ3yhzfQWWTU\n",
       "MXl7h4fsIcVa6YeidbTGTOdyl0e5HPmEmgfWgA/K9kmvMu2kBhlFerWIVJ7laPVM1VIW+PxMfw4v\n",
       "6+CF1tcmalVGkf9UELu/anobkOnwjNv9N6CYZSKTg2DUPenDeJKMW5TMv8BF8w6v99H8jYR52Hwl\n",
       "PGrUDFuTLhRjYeJ1HTc0Z3i9i4rwjAfTpFLyfmnUGxWjPNszbCzM90lZ1uUrXu+nBi1Mt8+6XAnV\n",
       "NcpTFR4/x4nl/F5bCVdao4yLYhnGtTLvzza/PoVEuEXdCfXd1oCP/02doqJTSaHetqtc5F7HQnmd\n",
       "cgQFcqf9p9glpH4AYGRpnAv51pwAAAAASUVORK5CYII=\n",
       "\" style=\"display:inline;vertical-align:middle;\" /></a><br>"
      ],
      "text/plain": [
       "<IPython.core.display.HTML object>"
      ]
     },
     "metadata": {},
     "output_type": "display_data"
    }
   ],
   "source": [
    "binary_lin_comb_ax_by = VecAdd(ScalarMult(a, x), ScalarMult(b, y))"
   ]
  },
  {
   "cell_type": "markdown",
   "metadata": {},
   "source": [
    "A general linear combination:"
   ]
  },
  {
   "cell_type": "code",
   "execution_count": 4,
   "metadata": {},
   "outputs": [
    {
     "data": {
      "text/html": [
       "<strong id=\"lin_comb_axn\">lin_comb_axn:</strong> <a class=\"ProveItLink\" href=\"../__pv_it/common/e4c52b5bbc528977a8b120ace2be632ef4ed7eeb0/common_expr.ipynb\"><img src=\"data:image/png;base64,iVBORw0KGgoAAAANSUhEUgAAAT4AAAAVBAMAAAAtCp9CAAAAMFBMVEX///8AAAAAAAAAAAAAAAAA\n",
       "AAAAAAAAAAAAAAAAAAAAAAAAAAAAAAAAAAAAAAAAAAAv3aB7AAAAD3RSTlMAInZUiRDNmWbv3US7\n",
       "qzJazP2FAAAACXBIWXMAAA7EAAAOxAGVKw4bAAADDUlEQVRIx52XTWgTQRTHX5puN82XoegtxViL\n",
       "ilCJIkpy0FA9CZUgahWq7bE3Fykac7Ei1kuhUSj4hRZUglssBS/NydarB0uwordYFMFDW5V6KVjn\n",
       "O5u37m7WOWyW37z/e29m3sxOACABLi3wD+Zb8L+2rL8l7WYSSdmQb4Fj2+nRz3wddLfZYyO+BU4t\n",
       "mPOyIL60IXeTtjwCvgWO7aynBfGlj7qbhAzxMid+fQtsqyYdFDzzI77avWwmxe8B8etbYFtWWaEl\n",
       "7ymehENeJsMonG+BU37BIe/8hmGE7uP3Oxp3nda19OWYeO9D4XwLnPLT6fbo7O1A3ad6Lh5XJ0Qf\n",
       "G20lEV1vsNGhJ1UU72MonG+BU35tpA4jd+Ad2k9GS1WfAuXrKRn8PSBEG6vb3ICJ/EdBMiicEpzu\n",
       "W0ICTjJN5hcms3R+FIpoSyRC6zG1BTPwkAx+DcI5WN7LyCCtihpcIU9OVumjaJr3TfMlfVUCg7u2\n",
       "CDjBgsaJNs0XD0xzkW60WYDrAM/qRfKbPOKgW+pylYZrn4dBYpvlo+LHw136YKSCpkMJNmB7rVHA\n",
       "SaXJ+aP5PQJto95T5txS2hW6XIMpmJDZyDPqB5wRJGtfXy64xfOzCDjJNr++2k8IrUGosLzb0v86\n",
       "oeUlysIbEi4NH4IJS37a21gJciLSOApXF8AJLGBkvMn8oinQfkFsaP+5ymi7unMMzH6CVpBonJ4G\n",
       "0VSwrFvnL/invxRJCzKCwtUF8edYwAgSsKqiRcpeLPm1LtLBZg1j2y7Yojbx0a/X4BVINALfibB6\n",
       "snOfNT/tcurwTbm00yi/uiCZxwJGsKAsi7TcmF+cnCIXuj9Xa1BVNQvQ3xUskJEKNA1hVUNZ20pQ\n",
       "EphC4ZQgYATQTZARm8Dx+zYjyWO4GkdGHBFf6nPukJ+6Dszh739y5Rs6WhmxCRzvB7flsNZg5gga\n",
       "KUfU14JAWy/1IkeMJG3+peDJ5ibqYSTZ9P0vKqY/sgjd6FIkEPU14O5kwUZ8C5yaNu9lQX0FXC/k\n",
       "LfY/G74Fjq3Do5/4+gvxlNjf91DpGgAAAABJRU5ErkJggg==\n",
       "\" style=\"display:inline;vertical-align:middle;\" /></a><br>"
      ],
      "text/plain": [
       "<IPython.core.display.HTML object>"
      ]
     },
     "metadata": {},
     "output_type": "display_data"
    }
   ],
   "source": [
    "lin_comb_axn = VecAdd(ExprRange(k, ScalarMult(a_k, x_k), one, n))"
   ]
  },
  {
   "cell_type": "markdown",
   "metadata": {},
   "source": [
    "At least one $a_i$ is not zero"
   ]
  },
  {
   "cell_type": "code",
   "execution_count": 5,
   "metadata": {},
   "outputs": [
    {
     "data": {
      "text/html": [
       "<strong id=\"some_nonzero_a\">some_nonzero_a:</strong> <a class=\"ProveItLink\" href=\"../__pv_it/common/5bf0bcd975d7f9a543bad5ccabe6cd951075043d0/common_expr.ipynb\"><img src=\"data:image/png;base64,iVBORw0KGgoAAAANSUhEUgAAATsAAAAVCAMAAAAO07kHAAAAPFBMVEX///8AAAAAAAAAAAAAAAAA\n",
       "AAAAAAAAAAAAAAAAAAAAAAAAAAAAAAAAAAAAAAAAAAAAAAAAAAAAAAAAAAAo1xBWAAAAE3RSTlMA\n",
       "InZUiRDNmWbv3US7qzLn9enz+YF6hwAAAAlwSFlzAAAOxAAADsQBlSsOGwAAArVJREFUWMO1WOma\n",
       "pCAMlPsQmN3l/d91NbQjh23gU/KjRx1JlVQsgsuyBVkeBHntpimD5+T8HU5Z5wglLi6uFB84H2Ew\n",
       "ugkhlBjvzBJcfsY5VTD9VGMD5yMMRjchhJKQvWlcyE7kppywkEeeyvjfw3AWy3yE7/GQEEJJ9Yoa\n",
       "fHaiLcgAomh1XqYXmPMRvsczQhgl061A7q8OcrIIspqzLOxhppm08xFu4hEhhBLrrd81V2CJUAkh\n",
       "gufKU0f+MWF1mvF8hLt4QgijpA7bJJ5TcmMhMldAHGngmfiJcMhrs4VqOsJtN/GAEEbpUHQ1220u\n",
       "tguyshA/f/bf4xFI5CkNIOtMSA+2QjNG8xHuV4txQr2UbKplYTQMgWMtEQXONPCHmdpcbUaoRRCc\n",
       "ey/eQ+hw+3tCXWXXUjJrmugIWTks5rTNt6riVKTxa5IgxAqP5Xe3COqK8wOE++gg9M3tEEqfRMbB\n",
       "P9MJs4gCh22yZJurqfrO4u4WYf8hMbyGgDfCCKGusmsppQIWMJf6o24xd/Dq//2XDODXsl1qcpJZ\n",
       "lHNtq168RdCimLvHCGibghJSenvb1OhDO5oS7fm8XBi5rDtZu4uGQlDJGHVBjWpfaHmFsC1T9j0E\n",
       "bPOKERJ63b3PkEFKn9V/z8esWtTlO3vhLrt4woRy0U+2YMul5gphCZXXP0AQUdZH56UuQkTQ/Y44\n",
       "SimkeRKe8kA8DZdzJ9tFTShO/ee1s2UVVF3rFQJx4j0Eq5ojq8YIeVp5ah8l224L67lDPjsQpE1t\n",
       "Ecj2aIS8hzAYLaG9lpRawiAlrdC5k/e9FLa1bhCICyEU38UeIgxGSyjCjLIwSslVFkm4jDzv2jWi\n",
       "ALrm1Qgm7vEmwmDUhGDbSrkepiQwZkgL79BWaz7CYAhcjE5KBNka3n8nox0PNh9hMAi6G+6g9B8N\n",
       "oCILCaF6AQAAAABJRU5ErkJggg==\n",
       "\" style=\"display:inline;vertical-align:middle;\" /></a><br>"
      ],
      "text/plain": [
       "<IPython.core.display.HTML object>"
      ]
     },
     "metadata": {},
     "output_type": "display_data"
    }
   ],
   "source": [
    "some_nonzero_a = Or(ExprRange(k, NotEquals(a_k, zero), one, n))"
   ]
  },
  {
   "cell_type": "code",
   "execution_count": 6,
   "metadata": {},
   "outputs": [
    {
     "name": "stdout",
     "output_type": "stream",
     "text": [
      "These common expressions may now be imported from the theory package: proveit.linear_algebra\n"
     ]
    }
   ],
   "source": [
    "%end common"
   ]
  }
 ],
 "metadata": {
  "kernelspec": {
   "display_name": "Python 3",
   "language": "python",
   "name": "python3"
  }
 },
 "nbformat": 4,
 "nbformat_minor": 0
}