{
 "cells": [
  {
   "cell_type": "markdown",
   "metadata": {},
   "source": [
    "Common expressions for the theory of <a class=\"ProveItLink\" href=\"theory.ipynb\">proveit.linear_algebra</a>\n",
    "========"
   ]
  },
  {
   "cell_type": "code",
   "execution_count": 1,
   "metadata": {},
   "outputs": [],
   "source": [
    "import proveit\n",
    "# Prepare this notebook for defining the common expressions of a theory:\n",
    "%common_expressions_notebook # Keep this at the top following 'import proveit'.\n",
    "\n",
    "from proveit import ExprRange, IndexedVar\n",
    "from proveit import a, b, i, k, n, x, y, U, V, W\n",
    "from proveit.core_expr_types import a_k, x_k\n",
    "from proveit.logic import Set, Difference\n",
    "from proveit.numbers import one\n",
    "from proveit.linear_algebra import VecAdd, VecZero, ScalarMult"
   ]
  },
  {
   "cell_type": "code",
   "execution_count": 2,
   "metadata": {},
   "outputs": [
    {
     "name": "stdout",
     "output_type": "stream",
     "text": [
      "Defining common sub-expressions for theory 'proveit.linear_algebra'\n",
      "Subsequent end-of-cell assignments will define common sub-expressions\n",
      "%end_common will finalize the definitions\n"
     ]
    }
   ],
   "source": [
    "%begin common"
   ]
  },
  {
   "cell_type": "markdown",
   "metadata": {},
   "source": [
    "A binary linear combination:"
   ]
  },
  {
   "cell_type": "code",
   "execution_count": 3,
   "metadata": {},
   "outputs": [
    {
     "data": {
      "text/html": [
       "<strong id=\"binary_lin_comb_ax_by\">binary_lin_comb_ax_by:</strong> <a class=\"ProveItLink\" href=\"../__pv_it/common/c45686522423cd7bd02a57cdaac555e6819d7b990/common_expr.ipynb\"><img src=\"data:image/png;base64,iVBORw0KGgoAAAANSUhEUgAAAH4AAAAVBAMAAAByPkciAAAAMFBMVEX////MzMxUVFREREQiIiK6\n",
       "uroQEBCYmJhmZmYyMjLu7u52dnaqqqqIiIjc3NwAAACFAiZ1AAAAAXRSTlMAQObYZgAAAAlwSFlz\n",
       "AAAOxAAADsQBlSsOGwAAAe5JREFUOMuNlDFIw0AYhZ+mbdKkrc4u7eYgxeKkglKhiINKBykIgg4V\n",
       "QRAEF510UooI3RRxqBREB2l1dekgLiJWB+mgUnRwdZFi1eJ/MZd6yQkehJC77+V/+d9dAFThHqH/\n",
       "TwVLEr237Jq6/4O6hGy46EAR+bSE0rNSvT/nmDiia0dCaYtSvbpmWeTLG3R9Sigf5GPess0bMUPv\n",
       "qkuoyT/026LeS59pxCXUJsth87HZ7+Pb/TOK5FTUa0X62mjFzup4C3qEUaxOqqo0ra0FoxoVWhH1\n",
       "fupDYVdvcKp4AfWVUaMUwRw025paDTZaCT4X9R6qfJ3DF985pQxaY4yaJW91eMgeCizKFihmomFm\n",
       "OpEYTicS5BO+JJCB/kHV3ulRxwJ8ZUaR3hdDIclq/GTWZpZMifWZfgdeluCI2c86wu2M2qO6Raz+\n",
       "6ul0Vc+5/PvJf405tYaWxR0YNUD6EvoC/BTlk90w6L4k6hW6v+HA3mxKBD0mRTn5y+qIwReuO9Yx\n",
       "RfctUW9QEzrRa5vUIt6aSU1QM6InTzd84fAhsMFSHnfsHwrosBk/9K5Kw6Q87dLtF4o79u+QkzCy\n",
       "JsUPimPwY2Wfn2VxPYOD0g81KNU/OycU8Tc1hi6Lykv1/c4JPSY8XlWSFhWS/QBU90/xRUp9A4It\n",
       "gWE+sqgfAAAAAElFTkSuQmCC\n",
       "\" style=\"display:inline;vertical-align:middle;\" /></a><br>"
      ],
      "text/plain": [
       "binary_lin_comb_ax_by: (a * x) + (b * y)"
      ]
     },
     "execution_count": 3,
     "metadata": {},
     "output_type": "execute_result"
    }
   ],
   "source": [
    "binary_lin_comb_ax_by = VecAdd(ScalarMult(a, x), ScalarMult(b, y))"
   ]
  },
  {
   "cell_type": "markdown",
   "metadata": {},
   "source": [
    "A general linear combination:"
   ]
  },
  {
   "cell_type": "code",
   "execution_count": 4,
   "metadata": {},
   "outputs": [
    {
     "data": {
      "text/html": [
       "<strong id=\"lin_comb_axn\">lin_comb_axn:</strong> <a class=\"ProveItLink\" href=\"../__pv_it/common/9533539f902c0a04193517b95daf4b5b662b55990/common_expr.ipynb\"><img src=\"data:image/png;base64,iVBORw0KGgoAAAANSUhEUgAAANwAAAAVBAMAAADfk53OAAAAMFBMVEX////MzMxUVFREREQiIiK6\n",
       "uroQEBCYmJhmZmYyMjLu7u52dnaqqqqIiIjc3NwAAACFAiZ1AAAAAXRSTlMAQObYZgAAAAlwSFlz\n",
       "AAAOxAAADsQBlSsOGwAAAmdJREFUSMellk1oE0EUx/82+5VtGvcutb0JQqAXDxXUVFYJKFJEIoKH\n",
       "iB+FHkpEhRbE5hDoIQRz60UxKIgK0tWLF4UIPQiirNKDUKuLHhRFjAcPxg+cmZ39yEh2B3yHzfDm\n",
       "7e8/897bmQDwkGB5yFteZn6kkxSiuvJyr1PmGevp/zEiyzkS6zFbySHZtqzc7dQIwjKqySF6jQ+O\n",
       "DkpRAFhKlSMsLS1mlv8+G5TDoLqV9ATM4lhayLKknNpKl1tGg3Zo401/A5ob27c85OP7knIG7ZSP\n",
       "j74I03EUYdHFl71Mry/GwEu3zscLknJZUkN1DnuE1oqjCOsgWcAMjCLMhSjmEt5627hnVVJOId/v\n",
       "zSrqwrSP4raK02QBPSgORteYZ4WWwMIkefqeMfqo2/YZ2977j5Zh2/tP2fY4GWrTwOU2DkRp/IEQ\n",
       "xW2MymkTWJkOtqH4jf873FhZcndU7iTM79FMCRHKtzKukA05WIxljbXZH9zhHtlkZjswf0LvQl8a\n",
       "fSWi5s9u1BhrF5HrYDLnxeTMHUNdOFzpnKRcxoX5C5nWc71c1TwBdWEGc4xF+jzr6qXh+O5y325V\n",
       "1A73NPvlWEVogf3SRHLDpIBXcb7mfFrD5nY/Kn+3iB5jHSEvFu69exGXM5vuk4tBHg8JuysFBS4J\n",
       "n3kRuL6+tWChENY7RA25aoWxFCvqUtGoJ1+UPcSmAs8JNDYJQZplOBZlhUfwALnwCE89oueDW7SL\n",
       "fY+FoK9QjluMtZt7Pl9rCjHM8176vsvw/lDHsS5eM4cx8sBn3UiG7JSWMyfSIigrn3jh6Z78n4cP\n",
       "adedh786HLQOR6jRvAAAAABJRU5ErkJggg==\n",
       "\" style=\"display:inline;vertical-align:middle;\" /></a><br>"
      ],
      "text/plain": [
       "lin_comb_axn: (a_{1} * x_{1}) + ..(a_{k} * x_{k}).. + (a_{n} * x_{n})"
      ]
     },
     "execution_count": 4,
     "metadata": {},
     "output_type": "execute_result"
    }
   ],
   "source": [
    "lin_comb_axn = VecAdd(ExprRange(k, ScalarMult(a_k, x_k), one, n))"
   ]
  },
  {
   "cell_type": "code",
   "execution_count": 5,
   "metadata": {},
   "outputs": [
    {
     "name": "stdout",
     "output_type": "stream",
     "text": [
      "These common expressions may now be imported from the theory package: proveit.linear_algebra\n"
     ]
    }
   ],
   "source": [
    "%end common"
   ]
  }
 ],
 "metadata": {
  "kernelspec": {
   "display_name": "Python 3",
   "language": "python",
   "name": "python3"
  },
  "language_info": {
   "codemirror_mode": {
    "name": "ipython",
    "version": 3
   },
   "file_extension": ".py",
   "mimetype": "text/x-python",
   "name": "python",
   "nbconvert_exporter": "python",
   "pygments_lexer": "ipython3",
   "version": "3.7.4"
  }
 },
 "nbformat": 4,
 "nbformat_minor": 1
}