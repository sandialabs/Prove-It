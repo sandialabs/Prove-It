{
 "cells": [
  {
   "cell_type": "markdown",
   "metadata": {},
   "source": [
    "Proof of <a class=\"ProveItLink\" href=\"../../../../_theory_nbs_/theory.ipynb\">proveit</a>.<a class=\"ProveItLink\" href=\"../../theory.ipynb\">linear_algebra</a>.<a class=\"ProveItLink\" href=\"../../theorems.ipynb#rational_set_is_vec_space\">rational_set_is_vec_space</a> theorem\n",
    "========"
   ]
  },
  {
   "cell_type": "code",
   "execution_count": 1,
   "metadata": {},
   "outputs": [],
   "source": [
    "import proveit\n",
    "theory = proveit.Theory() # the theorem's theory"
   ]
  },
  {
   "cell_type": "code",
   "execution_count": 2,
   "metadata": {},
   "outputs": [
    {
     "data": {
      "text/html": [
       "With these <a href=\"allowed_presumptions.txt\">allowed</a>/<a href=\"disallowed_presumptions.txt\">disallowed</a> theorem/theory presumptions (e.g., to avoid circular dependencies), we begin our proof of<br><strong id=\"rational_set_is_vec_space\">rational_set_is_vec_space:</strong> <a class=\"ProveItLink\" href=\"../../../__pv_it/theorems/1c88ae85337a8b8904f363f694a974c4c21ca9090/expr.ipynb\"><img src=\"data:image/png;base64,iVBORw0KGgoAAAANSUhEUgAAAKcAAAAdBAMAAAA9aWHMAAAAMFBMVEX///8AAAAAAAAAAAAAAAAA\n",
       "AAAAAAAAAAAAAAAAAAAAAAAAAAAAAAAAAAAAAAAAAAAv3aB7AAAAD3RSTlMAEIm7mSJ2q+8y3WZE\n",
       "zVRISQrpAAAACXBIWXMAAA7EAAAOxAGVKw4bAAADZElEQVRIx+2UbUhTURjH/3fbnbvu7rasCAxx\n",
       "WCZlxMSIXghXLEMMuoRUCMUSnB9KGRVRFDUJEUviIqR+CCwKIim8RAixqGVSgRBLKPqgeL9E9oKK\n",
       "bYVl2nPu1t2EHEXrWwfuebnnnN/znP95ngNkpvBGT9brnNLS7X8NbQC45aXriPiEDa0nFP6Ga84K\n",
       "e9nXAPiec86fPzivV/OkY0oEqGtB9RHiqTQuLgb6H89dY/lGVXbYGOcqeB9JB80DTHdUiDvdwAtA\n",
       "cNFqs903V6HvjJwcryDv00IrgTYHte5e4C7xFgbIihLfYt3UfVvvlJE495N7Btn6dNAgULKU2lVE\n",
       "tjmxSCAnJa2CTYmvfqo4TgoGkns2kA01naQRcO526oxZFDhUtIm0WlQfsLn9xs3YgiBjfDmde3HB\n",
       "WoxPkr7i62LvKdLBX+AEt61AQ1WNB+299UwpF8k4QJ0BuwZTAE+oIcAHhnppmDbNwOJEp2yN8Bfx\n",
       "TLHOzg6RpVbkejAqWyLYp4ktQhPqOTeyaTk5J/qYX+2SytTfLemeHmaoSOpNZQHXgRlHhDBYdmJW\n",
       "hSMAaZpGYgzDkJqyPVjwsRFWFigaeBfza8AahhSEOa7pVvojnO/u7r4Wp47I9yFQYA3mJ0K4cwIO\n",
       "D7goBW1fjJukP11kxtWznmWQjdRJaOqEMAHzEuP2uZQLHneRW9FQ6F4XCzZ2mGkGxSdwO8Ziwme2\n",
       "pDIUUnJ6ogloyd7E7YtBiPE41RjpShJqa/FBmKFOvicRTlMJT0fDQow5jC7awzvxUNGPjz49TklY\n",
       "iTCVlFFP4xnlT8mprxQJzWSWNIV2i7ZP6JpOIQoxdmmY9troiM99yKJjmOk4FpZRp8m8nT4Ty/14\n",
       "Yju05E19YTqGUchfgEm+rSGPFGxCroug1qk3+1QUCq0wHWiEmUQ1sZguotw/Fo8voOr7SEXi3Tj6\n",
       "yKAOMbK3Rsbi8loE+otOk81Tfqo7Gg6u9nFev4yq8kJxpX8Nu2ImHL9rOKoYb8ZJI/PF5Yk0/WVx\n",
       "zP9Q3WRVltLLmmr9T5av7l34N97MNNC7en3ceuay/riw8nbLOfU3oNmBeafM+nsvHX29Gbz7Tx53\n",
       "8WyzPN9cSoibZWSq7DF6tfhfUotwyJV5aAfcmYdu/BfHvwpn5qF9ITUTmB+3He0Ekb9X8QAAAABJ\n",
       "RU5ErkJggg==\n",
       "\" style=\"display:inline;vertical-align:middle;\" /></a><br>(see <a class=\"ProveItLink\" href=\"../../../__pv_it/theorems/c55e8664fbfe479c9b9e5e8f709d6e928f0a700f0/dependencies.ipynb\">dependencies</a>)<br>"
      ],
      "text/plain": [
       "<IPython.core.display.HTML object>"
      ]
     },
     "metadata": {},
     "output_type": "display_data"
    }
   ],
   "source": [
    "%proving rational_set_is_vec_space"
   ]
  },
  {
   "cell_type": "code",
   "execution_count": null,
   "metadata": {},
   "outputs": [],
   "source": []
  }
 ],
 "metadata": {
  "kernelspec": {
   "display_name": "Python 3",
   "language": "python",
   "name": "python3"
  }
 },
 "nbformat": 4,
 "nbformat_minor": 0
}