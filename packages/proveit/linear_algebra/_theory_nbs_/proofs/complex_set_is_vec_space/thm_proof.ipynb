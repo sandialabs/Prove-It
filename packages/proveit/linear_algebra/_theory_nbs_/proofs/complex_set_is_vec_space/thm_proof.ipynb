{
 "cells": [
  {
   "cell_type": "markdown",
   "metadata": {},
   "source": [
    "Proof of <a class=\"ProveItLink\" href=\"../../../../_theory_nbs_/theory.ipynb\">proveit</a>.<a class=\"ProveItLink\" href=\"../../theory.ipynb\">linear_algebra</a>.<a class=\"ProveItLink\" href=\"../../theorems.ipynb#complex_set_is_vec_space\">complex_set_is_vec_space</a> theorem\n",
    "========"
   ]
  },
  {
   "cell_type": "code",
   "execution_count": 1,
   "metadata": {},
   "outputs": [],
   "source": [
    "import proveit\n",
    "theory = proveit.Theory() # the theorem's theory"
   ]
  },
  {
   "cell_type": "code",
   "execution_count": 2,
   "metadata": {},
   "outputs": [
    {
     "data": {
      "text/html": [
       "With these <a href=\"allowed_presumptions.txt\">allowed</a>/<a href=\"disallowed_presumptions.txt\">disallowed</a> theorem/theory presumptions (e.g., to avoid circular dependencies), we begin our proof of<br><strong id=\"complex_set_is_vec_space\">complex_set_is_vec_space:</strong> <a class=\"ProveItLink\" href=\"../../../__pv_it/theorems/f120b3bbfb00add7e52ad577a9f3618a50b0017b0/expr.ipynb\"><img src=\"data:image/png;base64,iVBORw0KGgoAAAANSUhEUgAAAKUAAAAdBAMAAAA5nLHxAAAAMFBMVEX///8AAAAAAAAAAAAAAAAA\n",
       "AAAAAAAAAAAAAAAAAAAAAAAAAAAAAAAAAAAAAAAAAAAv3aB7AAAAD3RSTlMAEIm73c12IjKr72aZ\n",
       "RFTgyeMAAAAACXBIWXMAAA7EAAAOxAGVKw4bAAAC6ElEQVRIx+2VTUhUURTH/895M+/p+N4MuooM\n",
       "Pwgk+nACS4iCCosEizFwYYnYRA7RwhcYlQgOEhIumlkVfRDSxjLMoUiKcTEJjkSSD6FANw5RLtwY\n",
       "9mGYOJ3rc+6dgWZAmmV3dc475/7uved/zgyQm2WkG0XVjf6ef0Q64knOx3X3XliaOpiW8SJRB3Ss\n",
       "7OUfSibfF2ZlfuIcR5jc2DTgTGdiigVOclc6Af1YNqTkFZwGQI2y6zxIz+mmHES5m0fmy2zMwrDg\n",
       "jAL5bg/ZW63Y+dpaRoNtmc40+RZ7GX3KxixI4RS4YVPEfT6c2zD0VUoSW2wDdEQ25hcIjj2M62pZ\n",
       "MqI08KRBoBfo8kUhjVXE9cRuduKj0bdU5xFfOYlWsQdKbBfUS23sYWMQnLwQerQwfyJvMlTF8Qbq\n",
       "AC6gM649RnviB1Vi0JTqoQ9gHMozzAb6DIe3GDhM6WchOE4vurRWzkwTKQQ5Cle8kVGk18O/gSZg\n",
       "0SRvzrB7sWDUA2uzbrDtpyA4ej/Vgb+9r5aWx8Ivk0TBMOzlS1ZMHQaagVIq2rYqo5T2qHTKafmb\n",
       "n0WHIDjqV9jcniSzWNxTXyKJFt9FIjd/wtJnzmRMlwclDxeNYCvTMRJ5JW1PRDeYSY7WD229rzTm\n",
       "ySlKDpJEQRo4aRVWH7kC1j31IQQNdl11jb5ehvOX9XbO0anAsRmyx9entDVlko5Qp4UAs5GyZBKo\n",
       "26pnwBXF3LUrJHb8CSHmgfuUvR+C46T7OvZNSJ+t3mpJEYl46hDyjM4wKuUWSCTtGUM6CmK237r6\n",
       "lCJ9JioX3Kih7B0QnEJW16ID3ycs0JZDbt4DbIq6YpWQJtuMfG3sLvlNIxdNqLfni46jJOaHMukz\n",
       "ptt8LPEGBEc20+dhutqazb+v5owROSDsjk39SGZmOsV8492mmHWZQzXcUjybQc6s3MkYE61tM3L0\n",
       "bwSFt6Ef/xdfvc9zjlRDtpwzbYHcP112SzlnajsjucD8AaPd0LTBm7y6AAAAAElFTkSuQmCC\n",
       "\" style=\"display:inline;vertical-align:middle;\" /></a><br>(see <a class=\"ProveItLink\" href=\"../../../__pv_it/theorems/c4ce86256302c00e7e44b3abc557866fac34a3560/dependencies.ipynb\">dependencies</a>)<br>"
      ],
      "text/plain": [
       "<IPython.core.display.HTML object>"
      ]
     },
     "metadata": {},
     "output_type": "display_data"
    }
   ],
   "source": [
    "%proving complex_set_is_vec_space"
   ]
  },
  {
   "cell_type": "code",
   "execution_count": null,
   "metadata": {},
   "outputs": [],
   "source": []
  }
 ],
 "metadata": {
  "kernelspec": {
   "display_name": "Python 3",
   "language": "python",
   "name": "python3"
  }
 },
 "nbformat": 4,
 "nbformat_minor": 0
}