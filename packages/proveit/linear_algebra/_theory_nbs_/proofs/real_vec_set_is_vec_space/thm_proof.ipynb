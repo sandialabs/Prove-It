{
 "cells": [
  {
   "cell_type": "markdown",
   "metadata": {},
   "source": [
    "Proof of <a class=\"ProveItLink\" href=\"../../../../_theory_nbs_/theory.ipynb\">proveit</a>.<a class=\"ProveItLink\" href=\"../../theory.ipynb\">linear_algebra</a>.<a class=\"ProveItLink\" href=\"../../theorems.ipynb#real_vec_set_is_vec_space\">real_vec_set_is_vec_space</a> theorem\n",
    "========"
   ]
  },
  {
   "cell_type": "code",
   "execution_count": 1,
   "metadata": {},
   "outputs": [],
   "source": [
    "import proveit\n",
    "theory = proveit.Theory() # the theorem's theory"
   ]
  },
  {
   "cell_type": "code",
   "execution_count": 2,
   "metadata": {},
   "outputs": [
    {
     "data": {
      "text/html": [
       "With these <a href=\"allowed_presumptions.txt\">allowed</a>/<a href=\"disallowed_presumptions.txt\">disallowed</a> theorem/theory presumptions (e.g., to avoid circular dependencies), we begin our proof of<br><strong id=\"real_vec_set_is_vec_space\">real_vec_set_is_vec_space:</strong> <a class=\"ProveItLink\" href=\"../../../__pv_it/theorems/b1db82986f388e356d93ec2dfb6a4b4c9b37fbd60/expr.ipynb\"><img src=\"data:image/png;base64,iVBORw0KGgoAAAANSUhEUgAAAQoAAAAmBAMAAADO/MgDAAAAMFBMVEX///8AAAAAAAAAAAAAAAAA\n",
       "AAAAAAAAAAAAAAAAAAAAAAAAAAAAAAAAAAAAAAAAAAAv3aB7AAAAD3RSTlMAq1RmmUTNIjK7EInv\n",
       "3XZ/CtNrAAAACXBIWXMAAA7EAAAOxAGVKw4bAAAFCUlEQVRYw7WYbWxTZRTH/+vbfem6Vkk0+oHU\n",
       "GMkSCaspElEyr6zq4swsX/yyxZWXYECIl2RRwOGKMVGTsTUjc9mMUmSaTCSbvLgIMUx0jskMw0xC\n",
       "xGLJzAguGct0vDjcPM9z297bpavX0d4v7X2ec5/nd8/5n3OeFjB1rUa+LnmzaVObJ28U2BM1a7ki\n",
       "fxCwmn1D8Yc8UqDZpJ2jO58Un5sMSUk0nxRmRXcxnxAQbpiTxd95pcAHpqwKIgZFlzX+fsfbqulf\n",
       "Vpl6yO2j3be0Xf91L3Cg2leo3iFEkXfFwL6tA7TqS/y+3gsujQezPtXEtpUEj31RO3aOwp2u1ZWz\n",
       "54Bdt9tTAx2B1bas6z0MRLZhzcooinzs3qXgafb5ctanngSn6EZkN7AY1XOmX2BL/ayX5AuwnM9a\n",
       "s0NE8QYkkRzAy7cthN1MpZGsFPckKZ51AKcRENOn62lVKKlbp/Iftdbm4xQ2lZ5bziM0AQf51+nN\n",
       "SvFNikKCMIELxdrw1VgsxGco06zBtBInZVuuEAkKevdCFl3LTViJzJFdTdNJivv3w+7BGA8mXvwj\n",
       "MW35i9JIt5b6CSrbcks0ioLPKCIOtpY4CfwYi53JTvFngkJsNuhH0DvyINAI1I4pkCtOeC2zxxjj\n",
       "meVP0Q6lY8dJricOQ6g8CnFknDmvQqN4bwmJ3smSQ6YNyoH2DFvrrUOY1Ci+/+2SITscer6e9OI5\n",
       "iP0YRZ3XfhrXZq9TfAaD8jAs/XgGwilUhxvUolAnMETm6xlF3dZ/mC+tPKYzwDYImQq5LjcxQXHk\n",
       "8ZCxw6XJ08PSze3dyPaVHzlLL7eW2k+Q7mpURwhL1WFgsjqKOJn/xH3h/5RHszcRcinqDBqr+vAx\n",
       "rPIYKexTiYi0+w12DTG6tNxy3CBxNvngOD6d4D4LbAC6aI1PTqpd5FaRuF5x3brCZvs4hXSAS2KC\n",
       "jZCwLHH9tRrva8EDzqgtmskX3W9Lhoh06l8t0yTOkjK//90ZaMqsCTIKdwQdd5eoTXGmYL//Mfnr\n",
       "WSVFISpMB/beBAVCpalMLmd1NK44cTQwHAjOpbC9Y6grLoNfBkmcTZTtMluOZak7rPnC0keFl7mE\n",
       "r7ET1pupiKB8B3uBoYQucHhzskmNsKHih950pulCSOaIHBkxNIO4oXr+QplPUQxupHVdRF+v6SLs\n",
       "VlCz/TWSk5dqjn0ZsIisP9IoOln5tkaSSVjnSTQpmQ8VOz+uSqOQZzQKBX7JoKB1BnnSCmIfnGqd\n",
       "Dz2udZApDbao8kUQxbW3Xv+WZhqC6FkaRStZf8EoaqlQtZD3u5NJWBCG1qTsvBwVQ7maRoHvwHvq\n",
       "LVV6f1If3d+SUomDwdVW9kAOjKsF9oq76H5t6eUgxMXLDl5CR+UVCIExtWp8jBnuoQo/sK8Vba96\n",
       "wRwHcSq5EGtS1k1tbc1EcdCRVi+wKXMxq/owFpq/1G2Yd8YV1r/v4upOnaJYkxK7NV+wABqv5xdy\n",
       "iJifwmpwcxnvf0NJBfImxWvoo8DlOZ19IYffc/NPterC50qUklVTa1I7yFfiedXYm9jV5f3/EGtu\n",
       "3zvvnF5qJDV5ljOeP75qa8nwlKTk+NCdSnJeS6nIm/oN15vfM/iX5n5WT+WX4lQuYRd8JDfp6sJw\n",
       "ptHGJ3JDUWhS/NZM1Un0SLmhGDVruD5T5oRzlDH9Zi0PZcglV1TOCcUh09VIyPDnk/2IPycUe82b\n",
       "bs/fv2usq/4LEZpSbr9LR7oAAAAASUVORK5CYII=\n",
       "\" style=\"display:inline;vertical-align:middle;\" /></a><br>(see <a class=\"ProveItLink\" href=\"../../../__pv_it/theorems/71edc57d83b6e4deabed32b302b4e323c3d60a9e0/dependencies.ipynb\">dependencies</a>)<br>"
      ],
      "text/plain": [
       "<IPython.core.display.HTML object>"
      ]
     },
     "metadata": {},
     "output_type": "display_data"
    }
   ],
   "source": [
    "%proving real_vec_set_is_vec_space"
   ]
  },
  {
   "cell_type": "code",
   "execution_count": null,
   "metadata": {},
   "outputs": [],
   "source": []
  }
 ],
 "metadata": {
  "kernelspec": {
   "display_name": "Python 3",
   "language": "python",
   "name": "python3"
  }
 },
 "nbformat": 4,
 "nbformat_minor": 0
}