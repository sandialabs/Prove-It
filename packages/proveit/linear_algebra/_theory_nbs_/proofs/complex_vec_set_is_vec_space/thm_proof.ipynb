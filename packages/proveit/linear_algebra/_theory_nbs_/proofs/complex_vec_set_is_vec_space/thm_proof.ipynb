{
 "cells": [
  {
   "cell_type": "markdown",
   "metadata": {},
   "source": [
    "Proof of <a class=\"ProveItLink\" href=\"../../../../_theory_nbs_/theory.ipynb\">proveit</a>.<a class=\"ProveItLink\" href=\"../../theory.ipynb\">linear_algebra</a>.<a class=\"ProveItLink\" href=\"../../theorems.ipynb#complex_vec_set_is_vec_space\">complex_vec_set_is_vec_space</a> theorem\n",
    "========"
   ]
  },
  {
   "cell_type": "code",
   "execution_count": 1,
   "metadata": {},
   "outputs": [],
   "source": [
    "import proveit\n",
    "theory = proveit.Theory() # the theorem's theory"
   ]
  },
  {
   "cell_type": "code",
   "execution_count": 2,
   "metadata": {},
   "outputs": [
    {
     "data": {
      "text/html": [
       "With these <a href=\"allowed_presumptions.txt\">allowed</a>/<a href=\"disallowed_presumptions.txt\">disallowed</a> theorem/theory presumptions (e.g., to avoid circular dependencies), we begin our proof of<br><strong id=\"complex_vec_set_is_vec_space\">complex_vec_set_is_vec_space:</strong> <a class=\"ProveItLink\" href=\"../../../__pv_it/theorems/82ebcc85ff9dc41b93c53ecac825ad5c4650a2530/expr.ipynb\"><img src=\"data:image/png;base64,iVBORw0KGgoAAAANSUhEUgAAAQoAAAAmBAMAAADO/MgDAAAAMFBMVEX///8AAAAAAAAAAAAAAAAA\n",
       "AAAAAAAAAAAAAAAAAAAAAAAAAAAAAAAAAAAAAAAAAAAv3aB7AAAAD3RSTlMAq1RmmUTNIjK7EInv\n",
       "3XZ/CtNrAAAACXBIWXMAAA7EAAAOxAGVKw4bAAAFDUlEQVRYw7VYf2xTVRT+1va1r68rrT+i0RhS\n",
       "YzRLRFYzNBLJfLIKxJlRovGfLazAMgMa80wWnThcNf5hsrEtyCSbYirMP8ggmwgugxgmuIzIzIap\n",
       "C5HUlKBbcMlYhhNwuHnufa99fbWrz9G+ZG+v75577nfP+c53bguYutYiX5e0w7SpzZs3FNgdMWv5\n",
       "ZP5AwGp2h+L3eUSBPSbt7L35RHHYZEqKI/lEYZZ0F/MJAo7r5mjxV15R4BNTVgVtKYwua/n1tpdV\n",
       "jA9rTE3y+Lm89I+9Xt97sMpfqNwmiGU+oHt/7UQTNvPPjT5wajyUdVYrX/bSGXTdlHeOw2Pk6uqF\n",
       "88CuW53JF12Btbas/h4lIA/4pY17sYzvzy3jOfb/layznuFM/o3KdbWM5ahKG97IXP2kS/IFWMay\n",
       "anYIqKik5O4FuHzbQniPsbQtK4p72O0DJ4WgQMZZBETjcCN5hZz86JL/Q2ttfogyC93dwCqeoWnY\n",
       "ybnLlxXFt+x2v5Ntw++YxoUi9fWVWIytDydVmjVokDhnNneFtJsI2/dBembZtdyAleJpz86mOXZr\n",
       "q+PPgheTPJl4+Xdt2PIHudWtnUMEKpu7R8jGocXOznyJM8APsdi57CiusaR5m9K0Ru/Iw0ALUDcp\n",
       "Qyo/6bMsHGcYz616llYonTxBdD15FI6KYxAvT7HglQNviFpPcLHikGiBDUBnhqX11uGYYXh7X0zr\n",
       "LXq9nvLheYhDGEeDTziLqwt/Un6Gg1IUliGsg+M0qsLNyrLQIWCUzLcBTYJfkx+e03nCRfvMgEKn\n",
       "GwsYHPLmNBQGenpZuXl8tWxd6fER2twWaj9B+lSt2ENYoUSBmaoI4mT+I8VNiGvZHNBS7oy4gqmR\n",
       "jh7HGm8qCmGW8+IdI4rmGF1qbdmvEzlb/bCfmNNwjwA1QA/5+OKU0kNhFQnXq+6bE2x0kPFCC7U4\n",
       "ze5ELEtc31bLfe140BWxRf4VC3Sm8f6Q/miZI3IWl5WUfDgPlZnVQYbC04auO4uV1jhjcEnJU9I3\n",
       "C7KGIqJpgzCgoUCoNFnJG5iOxmUXjgWigaABxUtML6BHzZ2CaJjI2UrVLjF3DK0nrMbCMkjCy0LC\n",
       "feyE9YaaEYHrhUDoRjVe4OiORJO6zF4VPfyuy8ALxzVVO71c5ZLNIJ6inj9T5dNwsJb8uglpo8qL\n",
       "sEdGdf2bNMlHmiOsBO4i68/or2IT3dbRum2JImyg+bxJSfxVketApQGFNK+KVI1yIJoSgK0p9CQP\n",
       "4iBcSoMffe6tkKgMXlOkiyAUV99/6wyNNAfRtyKCfWT9JdvDx+ulx2gJW2+iCAvCFCzWpNTyKYJ8\n",
       "xYAC36lg+keiqd308/ZkV7OzRNVV9EEKTCkFQvkd9HlL6aUgxOUru39BV8UEHIFJpXJqkhnuZlO6\n",
       "P/17PcsreyHOJhyxJmXd3tGxh1B02w16ge2Zxaxyfyy0uNTVLDriDuvPuzi7k6co1qRUQSviCUy9\n",
       "XljKIWJxFNaUMJdxAR1NMJA3Ka6hT9BRIq2zL+Xwe37xoX068TkTnQnVVJvU2xQrcUxJ7U3s6vH9\n",
       "fxCbbt276JguNU5FP8vp1dDf0Z5hllPO8aE7WeRcS0nkTX2HG8jvGfxrc1+rZ/OL4nQuwS75SG4y\n",
       "1IXhTG9bns4NikKT5LdmUifR68wNinGzhtsyVU44RxUzZNbySIZackeknKA4YlqNHBl+fBK+KskJ\n",
       "io/Mm9bn79c11lX/AfvPQcP7z3tHAAAAAElFTkSuQmCC\n",
       "\" style=\"display:inline;vertical-align:middle;\" /></a><br>(see <a class=\"ProveItLink\" href=\"../../../__pv_it/theorems/99baeffb935a71ab67e5b69477168a33cb49c4480/dependencies.ipynb\">dependencies</a>)<br>"
      ],
      "text/plain": [
       "<IPython.core.display.HTML object>"
      ]
     },
     "metadata": {},
     "output_type": "display_data"
    }
   ],
   "source": [
    "%proving complex_vec_set_is_vec_space"
   ]
  },
  {
   "cell_type": "code",
   "execution_count": null,
   "metadata": {},
   "outputs": [],
   "source": []
  }
 ],
 "metadata": {
  "kernelspec": {
   "display_name": "Python 3",
   "language": "python",
   "name": "python3"
  }
 },
 "nbformat": 4,
 "nbformat_minor": 0
}