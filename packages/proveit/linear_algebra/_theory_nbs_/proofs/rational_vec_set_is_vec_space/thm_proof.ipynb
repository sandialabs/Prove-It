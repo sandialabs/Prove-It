{
 "cells": [
  {
   "cell_type": "markdown",
   "metadata": {},
   "source": [
    "Proof of <a class=\"ProveItLink\" href=\"../../../../_theory_nbs_/theory.ipynb\">proveit</a>.<a class=\"ProveItLink\" href=\"../../theory.ipynb\">linear_algebra</a>.<a class=\"ProveItLink\" href=\"../../theorems.ipynb#rational_vec_set_is_vec_space\">rational_vec_set_is_vec_space</a> theorem\n",
    "========"
   ]
  },
  {
   "cell_type": "code",
   "execution_count": 1,
   "metadata": {},
   "outputs": [],
   "source": [
    "import proveit\n",
    "theory = proveit.Theory() # the theorem's theory"
   ]
  },
  {
   "cell_type": "code",
   "execution_count": 2,
   "metadata": {},
   "outputs": [
    {
     "data": {
      "text/html": [
       "With these <a href=\"allowed_presumptions.txt\">allowed</a>/<a href=\"disallowed_presumptions.txt\">disallowed</a> theorem/theory presumptions (e.g., to avoid circular dependencies), we begin our proof of<br><strong id=\"rational_vec_set_is_vec_space\">rational_vec_set_is_vec_space:</strong> <a class=\"ProveItLink\" href=\"../../../__pv_it/theorems/d686ca34a2748f5a65144698fdcb0ed7bee6c99d0/expr.ipynb\"><img src=\"data:image/png;base64,iVBORw0KGgoAAAANSUhEUgAAAQwAAAAmBAMAAADD4rhEAAAAMFBMVEX///8AAAAAAAAAAAAAAAAA\n",
       "AAAAAAAAAAAAAAAAAAAAAAAAAAAAAAAAAAAAAAAAAAAv3aB7AAAAD3RSTlMAq1RmmUTNIjK7EInv\n",
       "3XZ/CtNrAAAACXBIWXMAAA7EAAAOxAGVKw4bAAAFBElEQVRYw7VYXWgcVRT+sruzM5nZTBZrhaDo\n",
       "WinmoZqlSaRgSVezhYISV9MnE3RBGqktOpUiKmm7EcQHa7JUC6b+dLWlLzVm+2csQUlbS2JEyEMM\n",
       "VQnZtpKigSWmiRstTTz37vxt2Ayjyd6HkzuTM+d+95zvnHPvAq7G4yjZkF9yreoLlg4G3ku51Xyk\n",
       "hCjgdbtHabiUMHDIpZ4/XVIYX7iMSk2qpDDcMu/XkqKAmHNHjX9KCwMfudIqS9oe6jZlIyvevjnT\n",
       "uNzs6qvKMC8z57s/0CDXX8LgSmFcM6zhOf58IAROjwccv+rimK8OYd/dEL+MozBG3qO3gxAnvjdp\n",
       "LEejIUeHedKGNah8hxURbGV/X3SEsYUJ5dEwhK1JlGWEgSVEv8ksxcznngQeijvZO2FZA6/kvjg6\n",
       "WKySjjDuYuJdP4lkAwIJXyRRGOm/mCXr+Sx5yBFGo2UNdeyFOg0/OVMJOcK4wMSRz0h87ccBVLyV\n",
       "h6F+Mj7GJ0cpaPWW+i62gpO9AcsaAiyWnnl4KTp+Z0bdYgFPdpJc50s8DfUMfyu8bLChhphgq0Af\n",
       "E6qwEzXiljX4maY0A/w4Pv6DMwwWeyndTLLZa/ntNZOTgQFIGYhNFI3j/adRc4t4Iuw+E11D0cn2\n",
       "pyA/0R/C3qkIOhsmWfzSNmsKwy/TCtvIRUXWttqIOMP2ntlIstNjbdOitTIDXwoHNTUuXkRrQl1c\n",
       "3EHYLqMngg0a0a89JAxJg5iUk6hgHSpss5Zn0QKwB2Kxmm6lHHMZxDRL6mbVSoi4naNlwCgw44/T\n",
       "wjh2z2IY/iA8c/Qk5NAGzyDlZOX6YagsqUI2a54BPezlKSVm5/3oOWwO2mEIc0zq0TQjIVEwx3/O\n",
       "z1/R6iGRY3f16j48SNSPQJ4lf7fkZMatLgKWnviUVaBAzGZNmmb6pOjJWAztrDqM+5UUW2yJN3Bk\n",
       "j85to0jZkqEmTVufra3d1JUBpychJxj4G/Jj63LSAlNprK1NnJyY1WGY1vJFiL2ON5iFaBurqJmI\n",
       "grPR0WisAEYLz/SN1toj1jQwlMlr9Ub0ZJ3XvbEhJuWYU9BF3BZT2JLgQbGseUZ0buA0VTJvY+dv\n",
       "wHX2qnr9fqWAG+JNDpHVvbU2F2RtdfR2ilcXgbiB0E/0yTTnxjxtU8i900arBSjOz2RQRq4qz9is\n",
       "eZNGLraTxrHWcEDL+7la+bylAIa8wP+coi5wp/1IZuWu+CfjQwx94iUo2lgIJ4gJg+hJEwx1/sH2\n",
       "MPqky1BeHUY5kYPnqGHNlzZysYwc9eYkKlMCz8ZqRH4vgIHv8ms91TZrr+Jy1bPmfAf7f3RKw/Gm\n",
       "GwhuP7WWUK7Jkuy49sc3GTma1bC3qU/4NnuOBXnEZo33ImnOMHQvWuHd2d19iGCc9BfUDezUjx2J\n",
       "hoKUFs7rxbz4+XX5JnvFZm0fr6tmzx5CVJLSeW8IDxd+9qQBVb3jbddnCgcYdTZrjbz+GXQnTl2p\n",
       "zldTalJXlzR6vVh4qna/7xpGxfLn3HLNtJbv7eWGrhDEVBhvULSkMY3VRPvoDf33A5Zw3wVt2eti\n",
       "cgmiysJOSCezw8XQr/jwuWTsN2c3uHxec3W7Gyjxyfwrd3fuuRLDuLiaaP/3UF16O5Aoeou6vkpX\n",
       "24DLFCh+wu1wPnG6H5NuFV8o9vLD1brCur5+9RTLqF+wOhf9HtdlSSz2+1RLbXhVYLivzHi9hD/B\n",
       "sR77Lzb+VqGb5r7CAAAAAElFTkSuQmCC\n",
       "\" style=\"display:inline;vertical-align:middle;\" /></a><br>(see <a class=\"ProveItLink\" href=\"../../../__pv_it/theorems/e929e5668227ecded659c53156e7bc16874c98620/dependencies.ipynb\">dependencies</a>)<br>"
      ],
      "text/plain": [
       "<IPython.core.display.HTML object>"
      ]
     },
     "metadata": {},
     "output_type": "display_data"
    }
   ],
   "source": [
    "%proving rational_vec_set_is_vec_space"
   ]
  },
  {
   "cell_type": "code",
   "execution_count": null,
   "metadata": {},
   "outputs": [],
   "source": []
  }
 ],
 "metadata": {
  "kernelspec": {
   "display_name": "Python 3",
   "language": "python",
   "name": "python3"
  }
 },
 "nbformat": 4,
 "nbformat_minor": 0
}