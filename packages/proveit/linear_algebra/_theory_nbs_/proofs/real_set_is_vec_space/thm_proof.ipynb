{
 "cells": [
  {
   "cell_type": "markdown",
   "metadata": {},
   "source": [
    "Proof of <a class=\"ProveItLink\" href=\"../../../../_theory_nbs_/theory.ipynb\">proveit</a>.<a class=\"ProveItLink\" href=\"../../theory.ipynb\">linear_algebra</a>.<a class=\"ProveItLink\" href=\"../../theorems.ipynb#real_set_is_vec_space\">real_set_is_vec_space</a> theorem\n",
    "========"
   ]
  },
  {
   "cell_type": "code",
   "execution_count": 1,
   "metadata": {},
   "outputs": [],
   "source": [
    "import proveit\n",
    "theory = proveit.Theory() # the theorem's theory"
   ]
  },
  {
   "cell_type": "code",
   "execution_count": 2,
   "metadata": {},
   "outputs": [
    {
     "data": {
      "text/html": [
       "With these <a href=\"allowed_presumptions.txt\">allowed</a>/<a href=\"disallowed_presumptions.txt\">disallowed</a> theorem/theory presumptions (e.g., to avoid circular dependencies), we begin our proof of<br><strong id=\"real_set_is_vec_space\">real_set_is_vec_space:</strong> <a class=\"ProveItLink\" href=\"../../../__pv_it/theorems/7af0f7979eda05a7092801f3f7af08ed40e3896b0/expr.ipynb\"><img src=\"data:image/png;base64,iVBORw0KGgoAAAANSUhEUgAAAKUAAAAdBAMAAAA5nLHxAAAAMFBMVEX///8AAAAAAAAAAAAAAAAA\n",
       "AAAAAAAAAAAAAAAAAAAAAAAAAAAAAAAAAAAAAAAAAAAv3aB7AAAAD3RSTlMAZs3vu90iq0QQiTKZ\n",
       "VHZ+Ip2vAAAACXBIWXMAAA7EAAAOxAGVKw4bAAAC7UlEQVRIx+2VTUhUURTH/zPOG+f55s2HCEGJ\n",
       "TIaIoVQoJkU4ixLblASDfVg8MotK0Da1Kh65CFzkFEIfCNoiSykcsFaRM7aJzOyhuxZqEUaz0Mpy\n",
       "Ydp07rv67sxiBqRZdlfn3HPe7557/+feB2RnaMlGftXhkirfvyI9xjrnJnOD53CjIJySUZBoBFoW\n",
       "D1oTPePv3BmZHyyOh9UXvACH0p6a8p4FjlqufALqkUxIOSA4ZZzp1gKpOW3Mj1luHpn5mZhun+AU\n",
       "rjODPPY5FDLpjiXApluf2PtoKhMzJ4mTEzbt3Ht879e/ruWoK0Cu+MRRTUtkYk5CcOy85meTZis4\n",
       "y6ykSmAEaI3HII8NGmriMVtxT+Fryi+KD5Bog0/hnHgC5eM829gYBCePuMHmkl+8PrvVZBgy8AZK\n",
       "NT6h2XDtxULiB51EpS43Qa3GKzj3oSMyrHkC3UADpW+F4NhMvfy3144tRaR2SDF4jWJGkTfVfgdK\n",
       "gRmdvC7NHsCU1gSsdoQxS+knITjqTmY7bvGeHw7R4GrZl0iiqA/2gWW+iFILlAO91AF3h7ReEk2h\n",
       "VbZLP+dYtAaCo3xjthLj3d0t6lSXSaKZUb//xR9wfbp0xvQG0XN1RovOMh39/i3yw0TMYnKOy6wT\n",
       "b8+YIClJyUqSKGpQN6+A95E3wutUaxDVWLnKKs2eh+23tXfOURtMu9u8UPDMJt2kY9RppKBeTFkS\n",
       "CdTGzzPijaHr4mnSwdhNNU0Dlyj7EATHRqcXbIXNV2+CKpJEIp5Sgzyt2Yd+qQIySbtNk4+DmAsv\n",
       "z+6iyLCO/qkw6ij7EQTH3cfepTrs32Ew0J166y2xs1vUOtEPeXxey3WNXSG/tOiLDuXa9P1T6JmY\n",
       "g3M8rnXOx1nicwiOpKfeh84DoUD621KeNiJFhN2yoUcyPdMm3huMbojZmD5UZ1nO4EaQNxYvp42J\n",
       "1nZoWfobwWm14Rz+D2uMbM46Uml3ZJ3piGR/61JYzjrT9cCfDcxfFvvUUmPu3S4AAAAASUVORK5C\n",
       "YII=\n",
       "\" style=\"display:inline;vertical-align:middle;\" /></a><br>(see <a class=\"ProveItLink\" href=\"../../../__pv_it/theorems/4a89ad1603791a1b5befd7038b0ef10b547beb7c0/dependencies.ipynb\">dependencies</a>)<br>"
      ],
      "text/plain": [
       "<IPython.core.display.HTML object>"
      ]
     },
     "metadata": {},
     "output_type": "display_data"
    }
   ],
   "source": [
    "%proving real_set_is_vec_space"
   ]
  },
  {
   "cell_type": "code",
   "execution_count": null,
   "metadata": {},
   "outputs": [],
   "source": []
  }
 ],
 "metadata": {
  "kernelspec": {
   "display_name": "Python 3",
   "language": "python",
   "name": "python3"
  }
 },
 "nbformat": 4,
 "nbformat_minor": 0
}