{
 "cells": [
  {
   "cell_type": "markdown",
   "metadata": {},
   "source": [
    "Demonstrations for the theory of <a class=\"ProveItLink\" href=\"theory.ipynb\">proveit.linear_algebra</a>\n",
    "========"
   ]
  },
  {
   "cell_type": "code",
   "execution_count": null,
   "metadata": {},
   "outputs": [],
   "source": [
    "import proveit\n",
    "from proveit import a, b, c, d, e, f, g, i, IndexedVar\n",
    "from proveit.logic import Equals\n",
    "from proveit.numbers import one, two, three, four, five, Add, Interval, Mult, subtract, Sum\n",
    "from proveit.linear_algebra import TensorProd, TensorExp\n",
    "from proveit.linear_algebra.matrix_ops import ScalarProd\n",
    "%begin demonstrations"
   ]
  },
  {
   "cell_type": "code",
   "execution_count": null,
   "metadata": {},
   "outputs": [],
   "source": []
  },
  {
   "cell_type": "markdown",
   "metadata": {},
   "source": [
    "## Miscellaneous Testing\n",
    "\n",
    "The material below was developed to test various unification-related methods. Some of this material could be integrated into the `_demonstrations_` page eventually and/or deleted as development continues.\n",
    "\n",
    "The `linear_algebra` package includes the following classes, some of which are only barely developed and might have no specific methods to be tested here (the MatrixProd and ScalarProd, for example, may eventually be handled as special cases of Mult):\n",
    "\n",
    "• `SU` (stands for “special unitary”) — no methods<br/>\n",
    "• `MatrixProd` — no methods except formatted()<br/>\n",
    "• `ScalarProd` — no currently active methods<br/>\n",
    "• `Matrix` and `ImproperMatrix` — no relevant methods except `Matrix.formatted()` and `ImproperMatrix.str()`<br/>\n",
    "• `TensorProd` — methods: `TensorProd.factor()` and `TensorProd.distribute()`<br/>\n",
    "• `TensorExp` — method: `TensorExp.do_reduced_simplification()`<br/>"
   ]
  },
  {
   "cell_type": "markdown",
   "metadata": {},
   "source": [
    "### Testing the `TensorProd` class methods\n",
    "\n",
    "The `TensorProd` class has the following class methods:<br/>\n",
    "    <div style=\"width: 75%; border: 1px solid green; padding: 5px; margin: 20px; background-color: gainsboro; font-family:courier\">factorization(self, **defaults_config)<br/>\n",
    "    distribution(self, **defaults_config)</div>\n",
    "</font>"
   ]
  },
  {
   "cell_type": "markdown",
   "metadata": {},
   "source": [
    "### Some Example `TensorProd` For Testing"
   ]
  },
  {
   "cell_type": "code",
   "execution_count": null,
   "metadata": {},
   "outputs": [],
   "source": [
    "tensor_prod_00 = TensorProd(ScalarProd(c, a), b)"
   ]
  },
  {
   "cell_type": "code",
   "execution_count": null,
   "metadata": {},
   "outputs": [],
   "source": [
    "tensor_prod_000 = TensorProd(a, ScalarProd(c, b))"
   ]
  },
  {
   "cell_type": "code",
   "execution_count": null,
   "metadata": {},
   "outputs": [],
   "source": [
    "tensor_prod_01 = TensorProd(ScalarProd(c, a), b, d)"
   ]
  },
  {
   "cell_type": "code",
   "execution_count": null,
   "metadata": {},
   "outputs": [],
   "source": [
    "tensor_prod_02 = TensorProd(a, ScalarProd(c, b), d)"
   ]
  },
  {
   "cell_type": "code",
   "execution_count": null,
   "metadata": {},
   "outputs": [],
   "source": [
    "tensor_prod_03 = TensorProd(a, b, ScalarProd(c, d))"
   ]
  },
  {
   "cell_type": "code",
   "execution_count": null,
   "metadata": {},
   "outputs": [],
   "source": [
    "tensor_prod_04 = TensorProd(a, b, ScalarProd(c, d), e, f)"
   ]
  },
  {
   "cell_type": "code",
   "execution_count": null,
   "metadata": {},
   "outputs": [],
   "source": [
    "tensor_prod_05 = TensorProd(a, b, ScalarProd(c, d), Add(one, e, one), f)"
   ]
  },
  {
   "cell_type": "code",
   "execution_count": null,
   "metadata": {},
   "outputs": [],
   "source": [
    "tensor_prod_06 = TensorProd(Add(a, b), f)"
   ]
  },
  {
   "cell_type": "code",
   "execution_count": null,
   "metadata": {},
   "outputs": [],
   "source": [
    "tensor_prod_07 = TensorProd(a, Add(b, c))"
   ]
  },
  {
   "cell_type": "code",
   "execution_count": null,
   "metadata": {},
   "outputs": [],
   "source": [
    "tensor_prod_08 = TensorProd(a, b, Add(c, d, e), f)"
   ]
  },
  {
   "cell_type": "code",
   "execution_count": null,
   "metadata": {},
   "outputs": [],
   "source": [
    "tensor_prod_with_sum_01 = TensorProd(a, Sum(i, IndexedVar(b, i), domain=Interval(one, three)), c)"
   ]
  },
  {
   "cell_type": "code",
   "execution_count": null,
   "metadata": {},
   "outputs": [],
   "source": [
    "tensor_prod_with_sum_02 = TensorProd(Sum(i, IndexedVar(b, i), domain=Interval(two, four)), a)"
   ]
  },
  {
   "cell_type": "code",
   "execution_count": null,
   "metadata": {},
   "outputs": [],
   "source": [
    "tensor_prod_with_sum_03 = TensorProd(a, Sum(i, IndexedVar(b, i), domain=Interval(two, four)))"
   ]
  },
  {
   "cell_type": "code",
   "execution_count": null,
   "metadata": {},
   "outputs": [],
   "source": [
    "tensor_prod_with_sum_04 = TensorProd(a, b, c, d, Sum(i, IndexedVar(g, i), domain=Interval(one, five)), e)"
   ]
  },
  {
   "cell_type": "markdown",
   "metadata": {},
   "source": [
    "### Testing the `TensorProd.factorization()` method\n",
    "\n",
    "Factor the given scalar from one of the tensor product factors and return the original tensor product equal to the factored version. For example,<br/>\n",
    "\n",
    "`TensorProd(a, cb, d).factorization(c)`<br/>\n",
    "\n",
    "returns:<br/>\n",
    "\n",
    "`|- TensorProd(a, ScalarProd(c, b), d).factorization(c) = c TensorProd(a, b, d)` <br/>\n",
    "               \n",
    "Note that this works only for explicit ScalarProd components within the TensorProd structure. Plans are to generalize this to not require an explicit ScalarProd object (instead allowing the more general Mult object)."
   ]
  },
  {
   "cell_type": "code",
   "execution_count": null,
   "metadata": {},
   "outputs": [],
   "source": [
    "tensor_prod_00.factorization(c)"
   ]
  },
  {
   "cell_type": "code",
   "execution_count": null,
   "metadata": {},
   "outputs": [],
   "source": [
    "tensor_prod_000.factorization(c)"
   ]
  },
  {
   "cell_type": "code",
   "execution_count": null,
   "metadata": {},
   "outputs": [],
   "source": [
    "tensor_prod_01.factorization(c)"
   ]
  },
  {
   "cell_type": "code",
   "execution_count": null,
   "metadata": {},
   "outputs": [],
   "source": [
    "tensor_prod_02.factorization(c)"
   ]
  },
  {
   "cell_type": "code",
   "execution_count": null,
   "metadata": {},
   "outputs": [],
   "source": [
    "tensor_prod_03.factorization(c)"
   ]
  },
  {
   "cell_type": "code",
   "execution_count": null,
   "metadata": {},
   "outputs": [],
   "source": [
    "tensor_prod_04.factorization(c)"
   ]
  },
  {
   "cell_type": "code",
   "execution_count": null,
   "metadata": {},
   "outputs": [],
   "source": [
    "tensor_prod_05.factorization(c)"
   ]
  },
  {
   "cell_type": "code",
   "execution_count": null,
   "metadata": {},
   "outputs": [],
   "source": [
    "try:\n",
    "    tensor_prod_05.factorization(d)\n",
    "    assert False, \"Expecting a ValueError; should not get this far!\"\n",
    "except ValueError as the_error:\n",
    "    print(\"ValueError: {}\".format(the_error))"
   ]
  },
  {
   "cell_type": "code",
   "execution_count": null,
   "metadata": {},
   "outputs": [],
   "source": [
    "try:\n",
    "    tensor_prod_06.factorization(c)\n",
    "    assert False, \"Expecting a ValueError; should not get this far!\"\n",
    "except ValueError as the_error:\n",
    "    print(\"ValueError: {}\".format(the_error))"
   ]
  },
  {
   "cell_type": "markdown",
   "metadata": {},
   "source": [
    "### Testing the `TensorProd.distribution()` method\n",
    "\n",
    "Given a TensorProd factor at the (0-based) index location `idx` that is a sum or summation, distribute over that TensorProd factor and return an equality to the original TensorProd. For example, we could take the TensorProd $\\text{tens_prod} = a \\otimes (b + c) \\otimes d$ and call `tens_prod.distribution(1)` to obtain:\n",
    "\n",
    "$\\vdash a \\otimes (b + c) \\otimes d = (a \\otimes b \\otimes d) + (a \\otimes c \\otimes d)$"
   ]
  },
  {
   "cell_type": "code",
   "execution_count": null,
   "metadata": {},
   "outputs": [],
   "source": [
    "tensor_prod_05"
   ]
  },
  {
   "cell_type": "code",
   "execution_count": null,
   "metadata": {},
   "outputs": [],
   "source": [
    "tensor_prod_05.distribution(3)"
   ]
  },
  {
   "cell_type": "code",
   "execution_count": null,
   "metadata": {},
   "outputs": [],
   "source": [
    "tensor_prod_06"
   ]
  },
  {
   "cell_type": "code",
   "execution_count": null,
   "metadata": {},
   "outputs": [],
   "source": [
    "tensor_prod_06.distribution(0)"
   ]
  },
  {
   "cell_type": "code",
   "execution_count": null,
   "metadata": {},
   "outputs": [],
   "source": [
    "tensor_prod_07"
   ]
  },
  {
   "cell_type": "code",
   "execution_count": null,
   "metadata": {},
   "outputs": [],
   "source": [
    "tensor_prod_07.distribution(1)"
   ]
  },
  {
   "cell_type": "code",
   "execution_count": null,
   "metadata": {},
   "outputs": [],
   "source": [
    "tensor_prod_08"
   ]
  },
  {
   "cell_type": "code",
   "execution_count": null,
   "metadata": {},
   "outputs": [],
   "source": [
    "tensor_prod_08.distribution(2)"
   ]
  },
  {
   "cell_type": "code",
   "execution_count": null,
   "metadata": {},
   "outputs": [],
   "source": [
    "tensor_prod_with_sum_01"
   ]
  },
  {
   "cell_type": "code",
   "execution_count": null,
   "metadata": {},
   "outputs": [],
   "source": [
    "tensor_prod_with_sum_01.distribution(1)"
   ]
  },
  {
   "cell_type": "code",
   "execution_count": null,
   "metadata": {},
   "outputs": [],
   "source": [
    "tensor_prod_with_sum_02"
   ]
  },
  {
   "cell_type": "code",
   "execution_count": null,
   "metadata": {},
   "outputs": [],
   "source": [
    "tensor_prod_with_sum_02.distribution(0)"
   ]
  },
  {
   "cell_type": "code",
   "execution_count": null,
   "metadata": {},
   "outputs": [],
   "source": [
    "tensor_prod_with_sum_03"
   ]
  },
  {
   "cell_type": "code",
   "execution_count": null,
   "metadata": {},
   "outputs": [],
   "source": [
    "tensor_prod_with_sum_03.distribution(1)"
   ]
  },
  {
   "cell_type": "code",
   "execution_count": null,
   "metadata": {},
   "outputs": [],
   "source": [
    "tensor_prod_with_sum_04"
   ]
  },
  {
   "cell_type": "code",
   "execution_count": null,
   "metadata": {},
   "outputs": [],
   "source": [
    "tensor_prod_with_sum_04.distribution(4)"
   ]
  },
  {
   "cell_type": "code",
   "execution_count": null,
   "metadata": {},
   "outputs": [],
   "source": [
    "# recall one of our TensorProd objects without a sum or summation:\n",
    "tensor_prod_02"
   ]
  },
  {
   "cell_type": "code",
   "execution_count": null,
   "metadata": {},
   "outputs": [],
   "source": [
    "# we should get a meaningful error message when trying to distribute across\n",
    "# a factor that is not a sum or summation:\n",
    "try:\n",
    "    tensor_prod_02.distribution(1)\n",
    "    assert False, \"Expecting a ValueError; should not get this far!\"\n",
    "except ValueError as the_error:\n",
    "    print(\"ValueError: {}\".format(the_error))"
   ]
  },
  {
   "cell_type": "markdown",
   "metadata": {},
   "source": [
    "### Testing the `TensorProd.equate_factors()` method\n",
    "\n",
    "Operating on the 'self' TensorProd and taking as an argument an equality between the 'self' TensorProd and another TensorProd with the same number of factors all but one of which agree with the factors of 'self', deduce and return a logical equivalence between the TensorProd equality and the equality of the two non-matching factors.\n",
    "\n",
    "For example, letting $\\text{tp_01} = a \\otimes b \\otimes c$ and $\\text{tp_02} = a \\otimes d \\otimes c$, then calling\n",
    "\n",
    "`tp.equate_factors(Equals(tp_01, tp_02))`\n",
    "\n",
    "deduces and returns\n",
    "\n",
    "$\\vdash ((a \\otimes b \\otimes c) = (a \\otimes d \\otimes c)) \\Leftrightarrow  (b = d)$"
   ]
  },
  {
   "cell_type": "code",
   "execution_count": null,
   "metadata": {},
   "outputs": [],
   "source": [
    "tp_01, tp_02 = (TensorProd(a, b, c), TensorProd(a, d, c))"
   ]
  },
  {
   "cell_type": "code",
   "execution_count": null,
   "metadata": {},
   "outputs": [],
   "source": [
    "tp_equality_01_02 = Equals(tp_01, tp_02)"
   ]
  },
  {
   "cell_type": "code",
   "execution_count": null,
   "metadata": {},
   "outputs": [],
   "source": [
    "tp_01.equate_factors(tp_equality_01_02)"
   ]
  },
  {
   "cell_type": "code",
   "execution_count": null,
   "metadata": {},
   "outputs": [],
   "source": [
    "tp_03, tp_04 = (TensorProd(a, b, Add(c, d), e), TensorProd(a, b, Add(one, two), e))"
   ]
  },
  {
   "cell_type": "code",
   "execution_count": null,
   "metadata": {},
   "outputs": [],
   "source": [
    "tp_equality_03_04 = Equals(tp_03, tp_04)"
   ]
  },
  {
   "cell_type": "code",
   "execution_count": null,
   "metadata": {},
   "outputs": [],
   "source": [
    "tp_03.equate_factors(tp_equality_03_04)"
   ]
  },
  {
   "cell_type": "code",
   "execution_count": null,
   "metadata": {},
   "outputs": [],
   "source": [
    "%end demonstrations"
   ]
  }
 ],
 "metadata": {
  "kernelspec": {
   "display_name": "Python 3",
   "language": "python",
   "name": "python3"
  }
 },
 "nbformat": 4,
 "nbformat_minor": 0
}
