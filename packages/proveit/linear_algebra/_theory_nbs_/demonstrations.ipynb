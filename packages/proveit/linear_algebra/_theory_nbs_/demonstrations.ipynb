{
 "cells": [
  {
   "cell_type": "markdown",
   "metadata": {},
   "source": [
    "Demonstrations for the theory of <a class=\"ProveItLink\" href=\"theory.ipynb\">proveit.linear_algebra</a>\n",
    "========"
   ]
  },
  {
   "cell_type": "code",
   "execution_count": null,
   "metadata": {},
   "outputs": [],
   "source": [
    "import proveit\n",
    "from proveit import defaults\n",
    "from proveit import a, b, c, X, Y, Z\n",
    "from proveit.logic import InSet, InClass, CartExp\n",
    "from proveit.numbers import Real, three\n",
    "from proveit.linear_algebra import VecSpaces, VecAdd, ScalarMult\n",
    "%begin demonstrations"
   ]
  },
  {
   "cell_type": "markdown",
   "metadata": {},
   "source": [
    "### Vector space closure proofs under addition and scalar multiplication"
   ]
  },
  {
   "cell_type": "code",
   "execution_count": null,
   "metadata": {},
   "outputs": [],
   "source": [
    "R3 = CartExp(Real, three)"
   ]
  },
  {
   "cell_type": "code",
   "execution_count": null,
   "metadata": {},
   "outputs": [],
   "source": [
    "defaults.assumptions = [InSet(a, Real), InSet(b, Real), InSet(c, Real),\n",
    "                        InSet(X, R3), InSet(Y, R3), InSet(Z, R3)]"
   ]
  },
  {
   "cell_type": "code",
   "execution_count": null,
   "metadata": {},
   "outputs": [],
   "source": [
    "InSet(ScalarMult(a, X), R3).prove()"
   ]
  },
  {
   "cell_type": "code",
   "execution_count": null,
   "metadata": {},
   "outputs": [],
   "source": [
    "InSet(VecAdd(X, Y, Z), R3).prove()"
   ]
  },
  {
   "cell_type": "code",
   "execution_count": null,
   "metadata": {},
   "outputs": [],
   "source": [
    "lin_comb = VecAdd(ScalarMult(a, X), ScalarMult(b, Y), ScalarMult(c, Z))"
   ]
  },
  {
   "cell_type": "code",
   "execution_count": null,
   "metadata": {},
   "outputs": [],
   "source": [
    "InSet(lin_comb, R3).prove()"
   ]
  },
  {
   "cell_type": "markdown",
   "metadata": {},
   "source": [
    "<div style=\"background:darkgreen; color:white; padding:5px 5px 5px 10px\">BEGIN Testing: working on a generalization of the VecAdd.factorization() method.</div>"
   ]
  },
  {
   "cell_type": "code",
   "execution_count": null,
   "metadata": {},
   "outputs": [],
   "source": [
    "from proveit import a, b, c, i, j, k, u, v, w, x, y, z, IndexedVar\n",
    "from proveit.linear_algebra import ScalarMult, TensorProd, VecAdd, VecSum\n",
    "from proveit.numbers import one, nine, Interval, Mult"
   ]
  },
  {
   "cell_type": "code",
   "execution_count": null,
   "metadata": {},
   "outputs": [],
   "source": [
    "defaults.assumptions = [InSet(a, Real), InSet(b, Real), InSet(c, Real),\n",
    "                        InSet(u, R3), InSet(v, R3), InSet(w, R3),\n",
    "                        InSet(x, R3), InSet(y, R3), InSet(z, R3)]"
   ]
  },
  {
   "cell_type": "markdown",
   "metadata": {},
   "source": [
    "Some work below on a possible function to check for a factor in a vector expression, the issue being that we might have a vector expression with heterogeneous components such as a VecAdd of a ScalarMult and a VecSum, etc."
   ]
  },
  {
   "cell_type": "code",
   "execution_count": null,
   "metadata": {},
   "outputs": [],
   "source": [
    "def has_factor(vec, factor):\n",
    "    if vec == factor:\n",
    "        return True\n",
    "    if isinstance(vec, ScalarMult):\n",
    "        vec_simplified = vec.shallow_simplified()\n",
    "        if (vec_simplified.scalar == factor or\n",
    "          (isinstance(vec_simplified.scalar, Mult) and\n",
    "           factor in vec_simplified.scalar.operands)):\n",
    "                return True\n",
    "        else:\n",
    "            return has_factor(vec_simplified.scaled, factor)\n",
    "    if isinstance(vec, TensorProd):\n",
    "        print(\"We have a TensorProd: {}\".format(vec))\n",
    "        return any([has_factor(v, factor) for v in vec.operands])\n",
    "    if isinstance(vec, VecSum):\n",
    "        print(\"We have a VecSum: {}\".format(vec))\n",
    "        return has_factor(vec.summand, factor)\n",
    "    if isinstance(vec, VecAdd):\n",
    "        return all([has_factor(v, factor) for v in vec.operands])"
   ]
  },
  {
   "cell_type": "code",
   "execution_count": null,
   "metadata": {},
   "outputs": [],
   "source": [
    "example_01 = VecAdd(x, y, z)"
   ]
  },
  {
   "cell_type": "code",
   "execution_count": null,
   "metadata": {},
   "outputs": [],
   "source": [
    "example_02 = VecAdd(x, ScalarMult(a, x), TensorProd(x, y))"
   ]
  },
  {
   "cell_type": "code",
   "execution_count": null,
   "metadata": {},
   "outputs": [],
   "source": [
    "example_vec_sum_01 = VecSum(i, TensorProd(x, IndexedVar(y, i)), domain=Interval(one, nine))"
   ]
  },
  {
   "cell_type": "code",
   "execution_count": null,
   "metadata": {},
   "outputs": [],
   "source": [
    "example_03 = VecAdd(x, ScalarMult(a, x), TensorProd(x, y), example_vec_sum_01)"
   ]
  },
  {
   "cell_type": "code",
   "execution_count": null,
   "metadata": {},
   "outputs": [],
   "source": [
    "has_factor(example_03, x)"
   ]
  },
  {
   "cell_type": "code",
   "execution_count": null,
   "metadata": {},
   "outputs": [],
   "source": [
    "# containing a nested ScalarMult\n",
    "example_04 = VecAdd(x, ScalarMult(a, ScalarMult(b, x)), TensorProd(x, y), example_vec_sum_01)"
   ]
  },
  {
   "cell_type": "code",
   "execution_count": null,
   "metadata": {},
   "outputs": [],
   "source": [
    "has_factor(example_04, x)"
   ]
  },
  {
   "cell_type": "markdown",
   "metadata": {},
   "source": [
    "<div style=\"background:darkgreen; color:white; padding: 5px 5px 5px 10px\">END Testing</div>"
   ]
  },
  {
   "cell_type": "code",
   "execution_count": null,
   "metadata": {},
   "outputs": [],
   "source": [
    "%end demonstrations"
   ]
  }
 ],
 "metadata": {
  "kernelspec": {
   "display_name": "Python 3",
   "language": "python",
   "name": "python3"
  }
 },
 "nbformat": 4,
 "nbformat_minor": 0
}
