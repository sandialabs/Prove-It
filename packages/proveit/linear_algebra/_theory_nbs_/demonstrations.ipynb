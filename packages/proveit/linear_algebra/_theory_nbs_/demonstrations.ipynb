{
 "cells": [
  {
   "cell_type": "markdown",
   "metadata": {},
   "source": [
    "Demonstrations for the theory of <a class=\"ProveItLink\" href=\"theory.ipynb\">proveit.linear_algebra</a>\n",
    "========"
   ]
  },
  {
   "cell_type": "code",
   "execution_count": 1,
   "metadata": {},
   "outputs": [],
   "source": [
    "import proveit\n",
    "from proveit import defaults\n",
    "from proveit import a, b, c, X, Y, Z\n",
    "from proveit.logic import InSet, InClass, CartExp\n",
    "from proveit.numbers import Real, three\n",
    "from proveit.linear_algebra import VecSpaces, VecAdd, ScalarMult\n",
    "%begin demonstrations"
   ]
  },
  {
   "cell_type": "markdown",
   "metadata": {},
   "source": [
    "### Vector space closure proofs under addition and scalar multiplication"
   ]
  },
  {
   "cell_type": "code",
   "execution_count": 2,
   "metadata": {},
   "outputs": [
    {
     "data": {
      "text/html": [
       "<strong id=\"R3\">R3:</strong> <a class=\"ProveItLink\" href=\"../__pv_it/demonstrations/1408fed4a3dce835fbbb24f9ce4d5235c8d6e1710/expr.ipynb\"><img src=\"data:image/png;base64,iVBORw0KGgoAAAANSUhEUgAAABcAAAATBAMAAACJlYuFAAAAMFBMVEX///+IiIiqqqpmZmbMzMx2\n",
       "dnbu7u66urpUVFTc3NwyMjJEREQQEBAiIiKYmJgAAABVO1C1AAAAAXRSTlMAQObYZgAAAAlwSFlz\n",
       "AAAOxAAADsQBlSsOGwAAAJdJREFUCNdjYICCiQ9bGOCglUEGwXFhiGJAAvcYGN6e3r/29AMgW0oA\n",
       "SCyYwVDxOoGBgW0jkLNhKgM3SwOQ4e8A5jBPWMB2hGH+AyhnA8M1hjcJYA5HWgODq2AnRI+31gSo\n",
       "8RvmrP0rBrNrw9R3WQwIDneeAILDYrASwWEwmY3EyeZ7AOUsyGDge9AOYQNdvZJh93oFEBsAT5kz\n",
       "W5kaiUgAAAAASUVORK5CYII=\n",
       "\" style=\"display:inline;vertical-align:middle;\" /></a><br>"
      ],
      "text/plain": [
       "R3: Real^{3}"
      ]
     },
     "execution_count": 2,
     "metadata": {},
     "output_type": "execute_result"
    }
   ],
   "source": [
    "R3 = CartExp(Real, three)"
   ]
  },
  {
   "cell_type": "code",
   "execution_count": 3,
   "metadata": {},
   "outputs": [
    {
     "data": {
      "text/html": [
       "<strong id=\"defaults.assumptions\">defaults.assumptions:</strong> <a class=\"ProveItLink\" href=\"../__pv_it/demonstrations/8bc3c2a1995ebb3871bb8f09329d83eca2a5eeb80/expr.ipynb\"><img src=\"data:image/png;base64,iVBORw0KGgoAAAANSUhEUgAAAZoAAAAaBAMAAAB874c8AAAAMFBMVEX///9UVFQiIiKIiIjMzMx2\n",
       "dnYQEBDc3NyYmJhEREQyMjLu7u5mZma6urqqqqoAAACMi3WHAAAAAXRSTlMAQObYZgAAAAlwSFlz\n",
       "AAAOxAAADsQBlSsOGwAABJZJREFUWMPFWF1oHFUU/rKZZH9mNlmJYtOgXVas1grdGCrW+LCCWiJC\n",
       "AkHwBzHWSkl92I2lhYrQtQWJ+OBQH2ysmrWBRkhpZ1sorgoJUhB8yfogiD503wRFq7FtYm0Sz71z\n",
       "52dn7myHuLAHsnPvfl++e879OefuAC2zA8dubxYr+kh/TjR/b1E0d+DhZrHaRtrHMMJaXQstiuYJ\n",
       "vNAslpLrKGGItb5s3V67v3msSBGxLD1PSLDY1qkbW08E/GNDEEfHp0+NFxsNbDMezf5flu1K+wx9\n",
       "bKcDNCajJaKp5KaTZruypwHot9IEvn/XEJ1d66/h/PWzcob6gdkv518poCv/amMWkN9/2+alAFcq\n",
       "FHM/oI3IXIpHR6A/LjpnGoE+0w8irqSs3pYauj4MYgyLRHS5RB+f34qVXAHOvx7ginIVmDfQXQ2K\n",
       "5tuE6Kw1AmXRaIWS1RvWMSFnqHtxROzIyDLtleqtWFoNOF2QunIxF6VQE0UMG250VyZTsllxMSf/\n",
       "CrD9eOYBL2ibBZpe6PZWWFZTXnHB2I53xNjt14A/AnQcVhuNfFXuZ8SI0aJpOh5yu/TToCvmvrLZ\n",
       "7kiLqGYMP2iZDTIv2r6yI4jdLPvEBePJgTvFF+p1JLMBOg5LARarcj+V0X5aNKo5m9mXb40e4CV1\n",
       "zrWCyqezYnp7Hqux55uGBARGd+bcIPNi6FdnQ+T7rHo9F8Agm64eFK1AHT6vK16pOldoE02xxz5M\n",
       "M5VEwWHt33GPEJ6fU5fZc1YG4o2aprtB6IdOLQ06HrxsJVhH3MMgu9JnlfBAHWbvZ71Sda5QJviM\n",
       "HheL+IazXKfrufesk3zFwN88ZcpA3IvOrBukOZ10F+QtaSuaIAZZ5192Xm7A6rrpk6pzJbqKB+mx\n",
       "aJBTZE9lyHSxgiePCdJ3UK+xyPcQuM0LamaKcEDyIv6FU/C0iVXRcsTrGVzRSjSBOjyRpxBFsJ9Q\n",
       "V/najLMGK0HuzPeMtZ5nkGQ5WtVlYKf5rQOSF8qCs18uKf+IViWAwVWs+Q3UYZGSkoZgPxHlO42m\n",
       "PvYnz/tulrZbKK+IBUjLwHlRfNPuOnHpsH1uc9ghBovIGdyO2CU8Hcw6RCH/iGA/oSyjl6JZQ7z0\n",
       "C8v1WRdL1ScBdsBW2bkiG5CB3QRV3SDzohIrQuWdl+joCk8dccEwF8M83nbp9OlwYyOpGYNfxaR+\n",
       "WjmN/XqYwdEFPqZ9oUpQzZtsq6o3qL0JH5vf1SSgtsDm3wWiVEaseBfm2eapUKrqts7EWQ/DXFu+\n",
       "x6adi1dNwuIjJfYBT+seKeGKqG1juEwRl3fu7uGXofInhn03LcQ/WgObj6/NcgO192c/iGcHBt0g\n",
       "u/vOYupcLULTOJTfi+S5JVFKLXGLYW4aNtu96z32Sfbq8A4baXHb1On1Yr2U7YqZcVLorLsf/XA8\n",
       "U6pLiu57T/J5cekIA+I33w3OKy6l+XR8IwVK0T1Nfoe2T/GGQYyE+8UWitYRSoru0MpYI8KFDYNq\n",
       "NpQH4WgXQmm9TX93NyIUNwzGwi1NOFoxFOu+1r4XaK7x9wIte2fTbDvc0vdpzbYXgf8AYmWlPfkQ\n",
       "chQAAAAASUVORK5CYII=\n",
       "\" style=\"display:inline;vertical-align:middle;\" /></a><br>"
      ],
      "text/plain": [
       "defaults.assumptions: (a in Real, b in Real, c in Real, X in Real^{3}, Y in Real^{3}, Z in Real^{3})"
      ]
     },
     "execution_count": 3,
     "metadata": {},
     "output_type": "execute_result"
    }
   ],
   "source": [
    "defaults.assumptions = [InSet(a, Real), InSet(b, Real), InSet(c, Real),\n",
    "                        InSet(X, R3), InSet(Y, R3), InSet(Z, R3)]"
   ]
  },
  {
   "cell_type": "code",
   "execution_count": 4,
   "metadata": {},
   "outputs": [
    {
     "data": {
      "text/html": [
       "<span style=\"font-size:20px;\"><a class=\"ProveItLink\" href=\"../../numbers/ordering/__pv_it/theorems/d1161a35ec5e93268a38333753de2be95580bf530/expr.ipynb\"><img src=\"data:image/png;base64,iVBORw0KGgoAAAANSUhEUgAAADMAAAAQBAMAAABJt1qBAAAAMFBMVEX////MzMxUVFQyMjKqqqoi\n",
       "IiKYmJju7u5EREQQEBC6urqIiIh2dnZmZmbc3NwAAAD0tjQRAAAAAXRSTlMAQObYZgAAAAlwSFlz\n",
       "AAAOxAAADsQBlSsOGwAAAM5JREFUGNNjYMAAqTP6TWckMGAFBo8YFmUUYJVqeMPAwaiAS4r3gQGK\n",
       "0I7QUAO4VAOyzOLtCF1M5SAD+e7s2wAS4DNHMlDC+QGQsfIBx3eQAPMDuNRL068gE9inMfAGgKWQ\n",
       "nJFWDKJ5vzOwHgAxJEOBoAEixVEGsoOzgaF+AUigAkkX4wU7IF1/gCEfLMCK7K+LL0BSDgzNLCAX\n",
       "cG9AkqpgAwYi8wa2WB6wiAk8DIsY2BK0gC7UPvhoI1ikqKsAFvJ2DB32DsjBsaY1FDnkAG+lQFhP\n",
       "+Fl3AAAAAElFTkSuQmCC\n",
       "\" style=\"display:inline;vertical-align:middle;\" /></a>, <a class=\"ProveItLink\" href=\"../__pv_it/demonstrations/a2603b9937767004fecf5af04049b9581d8d155b0/expr.ipynb\"><img src=\"data:image/png;base64,iVBORw0KGgoAAAANSUhEUgAAAEQAAAAUBAMAAADGs4Z2AAAAMFBMVEX///+6urpmZmaYmJjMzMzc\n",
       "3NxUVFSqqqoyMjIiIiLu7u52dnYQEBBERESIiIgAAAApsOdKAAAAAXRSTlMAQObYZgAAAAlwSFlz\n",
       "AAAOxAAADsQBlSsOGwAAAR1JREFUKM9jYMALWB8/c8CvgoFtA98BAkpYHLgbGAgBTgMcEsxz7v6Y\n",
       "cxnI4OsDcd/+P82w8k87qhoO1gTG5FtAxtoHIG5+AQP7VTRjeFk3MFxwA7nmC4jrf4EhjAGLElUO\n",
       "hjUOrJ/Bhn7lSoBJvZ05swGuhJeBcwHzKbDbPi2DqZB4hWRK1jIGln3PAsD881mwwOxCsojleivC\n",
       "4v0PYP4IQCg5MX/eAoSS/AkwJUjO3WyFFK5MYR+hLJ+ZQHABatEtO4QSFZa/UNZaZE87IazldmCY\n",
       "D+VwIithcr0A421kYLDfAGHyPUBSwnXBGGa4AgMD/y8oBx5THMDQNGYTALN9zx9hYOz/CQ3eZRcX\n",
       "wGM6gPfGd2ypQPrmTPQ0BACIFlLsHG3s3QAAAABJRU5ErkJggg==\n",
       "\" style=\"display:inline;vertical-align:middle;\" /></a> <a class=\"ProveItLink\" href=\"../__pv_it/demonstrations/1cba6e24e8313c96efc9ed19077e39ba909010200/proof.ipynb\" style=\"text-decoration: none\">&nbsp;&#x22A2;&nbsp;&nbsp;</a><a class=\"ProveItLink\" href=\"../__pv_it/demonstrations/da4db2cfee73b458c7b69f0d6558895e397113db0/expr.ipynb\"><img src=\"data:image/png;base64,iVBORw0KGgoAAAANSUhEUgAAAGwAAAAYBAMAAADt+wUpAAAAMFBMVEX////MzMxUVFREREQiIiK6\n",
       "uroQEBCYmJhmZmYyMjLu7u52dnaqqqqIiIjc3NwAAACFAiZ1AAAAAXRSTlMAQObYZgAAAAlwSFlz\n",
       "AAAOxAAADsQBlSsOGwAAAdhJREFUOMtjYCAZ8F2/JEC6LgamDbwJZGhjFOCeAKQe4JB+gFMjSwED\n",
       "A+8BHJKxaHx2N+OfbuZABu9cIHEaXfnl/9kMS77NwTSPk0+BVd0KyFh8gYFrAoY1+gcYeOyA9Cw0\n",
       "cWa+DQwGQiDffWTgKMDQJm/A8AhEV2DR1sfJsEyA7zsDG6anOP9xKYBotgVQV7u4TIBrY2ZgWcCe\n",
       "xRCJqY39xyKIdohDIm8h2aa1iIFx76UHDN2geO++dwFZX74WmOIG28k3C8mRjDbzIOzpQBz2gPkX\n",
       "srb9EEPYwU7jfIDQlunvC3W4DwMDVzoDhwNKUEJ4PGCKEylItlfBwj2VgYHjFwPLBiCT6ydEiOPR\n",
       "V0gq+gAixVyAwADqSKtahDY2A4b1ASC2B0SokfEzmGYFp9jFyBEgAXPyHAaG9RsY6pGcyC3A4P8A\n",
       "4UgWZG0ccgYQti1Q2wEGSx5Ewt3KwFC/ARwkYCW8F5C0cRmUQ9ibgJ6+wO7BDde1uIGBgR8csBwX\n",
       "YO6BJgNgKihnAnuHIQQYFLobH12EyQnnJzKwzv8CijIWiAsWmS6A54AHzJZ/IHkHdwZ/AqWjTVww\n",
       "0jt7A05t7fjyuB3OosYAn7bFuCSYF+AtvwpwSNTh0QQAMRNteS7kj9YAAAAASUVORK5CYII=\n",
       "\" style=\"display:inline;vertical-align:middle;\" /></a></span>"
      ],
      "text/plain": [
       "{a in Real, X in Real^{3}} |- (a * X) in Real^{3}"
      ]
     },
     "execution_count": 4,
     "metadata": {},
     "output_type": "execute_result"
    }
   ],
   "source": [
    "InSet(ScalarMult(a, X), R3).prove()"
   ]
  },
  {
   "cell_type": "code",
   "execution_count": 5,
   "metadata": {},
   "outputs": [
    {
     "data": {
      "text/html": [
       "<span style=\"font-size:20px;\"><a class=\"ProveItLink\" href=\"../__pv_it/demonstrations/a2603b9937767004fecf5af04049b9581d8d155b0/expr.ipynb\"><img src=\"data:image/png;base64,iVBORw0KGgoAAAANSUhEUgAAAEQAAAAUBAMAAADGs4Z2AAAAMFBMVEX///+6urpmZmaYmJjMzMzc\n",
       "3NxUVFSqqqoyMjIiIiLu7u52dnYQEBBERESIiIgAAAApsOdKAAAAAXRSTlMAQObYZgAAAAlwSFlz\n",
       "AAAOxAAADsQBlSsOGwAAAR1JREFUKM9jYMALWB8/c8CvgoFtA98BAkpYHLgbGAgBTgMcEsxz7v6Y\n",
       "cxnI4OsDcd/+P82w8k87qhoO1gTG5FtAxtoHIG5+AQP7VTRjeFk3MFxwA7nmC4jrf4EhjAGLElUO\n",
       "hjUOrJ/Bhn7lSoBJvZ05swGuhJeBcwHzKbDbPi2DqZB4hWRK1jIGln3PAsD881mwwOxCsojleivC\n",
       "4v0PYP4IQCg5MX/eAoSS/AkwJUjO3WyFFK5MYR+hLJ+ZQHABatEtO4QSFZa/UNZaZE87IazldmCY\n",
       "D+VwIithcr0A421kYLDfAGHyPUBSwnXBGGa4AgMD/y8oBx5THMDQNGYTALN9zx9hYOz/CQ3eZRcX\n",
       "wGM6gPfGd2ypQPrmTPQ0BACIFlLsHG3s3QAAAABJRU5ErkJggg==\n",
       "\" style=\"display:inline;vertical-align:middle;\" /></a>, <a class=\"ProveItLink\" href=\"../__pv_it/demonstrations/de1341b4dba2604070e61b5e3b272069ac84d3570/expr.ipynb\"><img src=\"data:image/png;base64,iVBORw0KGgoAAAANSUhEUgAAAEEAAAAUBAMAAAAgmk0yAAAAMFBMVEX////MzMxmZmZERER2dnYi\n",
       "IiKYmJgyMjK6urqIiIiqqqrc3NwQEBBUVFTu7u4AAAA62IdmAAAAAXRSTlMAQObYZgAAAAlwSFlz\n",
       "AAAOxAAADsQBlSsOGwAAARJJREFUKM9jYMAHdmZeZMAPrjDMIaBCkMGdgRAIwyGeeti+9HACkDF9\n",
       "AgPD2/NnNzBwnT+JqqRgL0Nv8gMGBj5LIKe/AEiUoRlisIWBmfECkCEvwMDA+puBgbMBUwXThgK+\n",
       "gwz7gXZxfmFgWAWV4DQNDUeoMGCIY8gBWfWHgWMCRAFH5QOEGbzvLjCIzLwN4tk3bIGKb3+AZIvw\n",
       "8g0w3vp7ClBWNcIde0q/zoPzeP7C/Yjk0rTnCHcz/4MyGI+GhoYGQ1UwP5uAMAOmlc8AyQxGBYSd\n",
       "+x1grADk8FDcDOflw4NrJrKKx2wJMJ49XJx9AdzNbxnYEm5AOZf/34SJ813ug8dtNYNx/QLMWOdw\n",
       "hoY6EgAA4MJOuwN56Q0AAAAASUVORK5CYII=\n",
       "\" style=\"display:inline;vertical-align:middle;\" /></a>, <a class=\"ProveItLink\" href=\"../__pv_it/demonstrations/ebff88650d73d1e5cabd7c95f4186da58ec623960/expr.ipynb\"><img src=\"data:image/png;base64,iVBORw0KGgoAAAANSUhEUgAAAD8AAAAUBAMAAADIGvgZAAAAMFBMVEX///+IiIh2dnbMzMxERETc\n",
       "3NyqqqpmZmbu7u6YmJi6uroiIiJUVFQyMjIQEBAAAADo4HZ1AAAAAXRSTlMAQObYZgAAAAlwSFlz\n",
       "AAAOxAAADsQBlSsOGwAAASBJREFUKM9jYMADAiceZsALDjHI4VdgzKDLQADsxC48+4n/7ScTgAxZ\n",
       "ARD3/dszZ3+jqrgQw7BmSgMDA4cjkMP1k4Gh+wWqAocgBhbmA0CGvQEDA3sCA8O9AAwF7AEXOB4z\n",
       "xAMt4mFgYPkMEWf03r0XocCBYQfDPKA9zAwM9QvAwlwXGxAm8HQcYDASPArmMv2ECMc2IFlhkouw\n",
       "dr4AhL6KcEPc7d8ScB7bd5jnkBw5sxfh5PUHGFhBNPPr3bt3b4EqYOkUgMkzfwF6FcTgcEAygbkA\n",
       "bmEc0OSVYNYG5HAoDoGyOXYD3b4DzBREVtDCOQHC5n3KwGALMZw3AR4XPQycE05B2PVbXO79hyjm\n",
       "OLICHptXGVzuJ2BEM5cKNKiRAADf2lAFIBsyOAAAAABJRU5ErkJggg==\n",
       "\" style=\"display:inline;vertical-align:middle;\" /></a> <a class=\"ProveItLink\" href=\"../__pv_it/demonstrations/d0ca086f658b116740c333ad3fb85b14541130990/proof.ipynb\" style=\"text-decoration: none\">&nbsp;&#x22A2;&nbsp;&nbsp;</a><a class=\"ProveItLink\" href=\"../__pv_it/demonstrations/309b4df01729071ee94a20ff3b85597c5b8c00820/expr.ipynb\"><img src=\"data:image/png;base64,iVBORw0KGgoAAAANSUhEUgAAAKQAAAAYBAMAAACGk0t8AAAAMFBMVEX////MzMxUVFREREQiIiK6\n",
       "uroQEBCYmJhmZmYyMjLu7u52dnaqqqqIiIjc3NwAAACFAiZ1AAAAAXRSTlMAQObYZgAAAAlwSFlz\n",
       "AAAOxAAADsQBlSsOGwAAAl1JREFUOMtjYKAq4Lt+SYC6JjIwbeBNoLKRjALcE4DUA3I8iFOGpYCB\n",
       "gfcAGUayXkDls7sZ/3QzBzJ45wKJ00B8+X82w5Jvc1BULcpPesDAk5+LZhjbt0lK8x0Y7qAJc/Ip\n",
       "sKpbARmLLzBwgfzOoH+AgccOTVU8SGY6uvviCxi43BYwcC5AFWbm28BgIAQKzY8MHAUgEXkDhkcw\n",
       "2XBYqPwD+iMATZChB+iiPKBPGzCN7ONkWCbA952BDeLuf1wKMNmzUJr3NwPDGXRBBqAye1DSy4Iq\n",
       "MnHxhBvJzMCygD2LIRISvD8WMaDr5vqGFAtwIwUYOL4ywEOEde4ChCu1FjEw7r30gKEbIpSvhWEk\n",
       "g33Aa0xBBob94KDaBGa/XIDwOKPNPAgbGv77L2DqPq/VgMVI9r9gqhJMzkOEZaa/L9R8Hwil74Cp\n",
       "m+0TAxYjz0PsOQImJyCM3F4F46SCSY5HXyHcFheXNBcXJ4iyXwyYgqyfIPlNHpz/UlxcXJyhHreq\n",
       "RTGykfEzFldOwOJKYHJjALkzDByDBkiJSIITmrXBWYZbgMH/AYbu9xswjeTLBDq0AO5xByQjOeSg\n",
       "FtiCiK0MDPUbMIysD8A0cokXMA+AoqEYzL2LZCSXQTmEDUoMi4E+4f+FmYgYMI2c9oCBcTKI0QvJ\n",
       "IrAyhxOYVcqZIG4IYWAQzk9kYJ3/RQFNt/J/XQwjOb4YW+Z/B7H8INlBOQpeEj1gtvwDyckYBftZ\n",
       "bKUZuiAfNBRZN0MyJEpJ14AuEo7NSHRBSGmDA9iRVSM8xie5mCwjrfBWIwVkmMiOp8ICACxXmXeG\n",
       "MRpGAAAAAElFTkSuQmCC\n",
       "\" style=\"display:inline;vertical-align:middle;\" /></a></span>"
      ],
      "text/plain": [
       "{X in Real^{3}, Y in Real^{3}, Z in Real^{3}} |- (X + Y + Z) in Real^{3}"
      ]
     },
     "execution_count": 5,
     "metadata": {},
     "output_type": "execute_result"
    }
   ],
   "source": [
    "InSet(VecAdd(X, Y, Z), R3).prove()"
   ]
  },
  {
   "cell_type": "code",
   "execution_count": 6,
   "metadata": {},
   "outputs": [
    {
     "data": {
      "text/html": [
       "<strong id=\"lin_comb\">lin_comb:</strong> <a class=\"ProveItLink\" href=\"../__pv_it/demonstrations/f1a6b378f1be4b9d73794cb8e673c662cc4fabcf0/expr.ipynb\"><img src=\"data:image/png;base64,iVBORw0KGgoAAAANSUhEUgAAANwAAAAVBAMAAADfk53OAAAAMFBMVEX////MzMxUVFREREQiIiK6\n",
       "uroQEBCYmJhmZmYyMjLu7u52dnaqqqqIiIjc3NwAAACFAiZ1AAAAAXRSTlMAQObYZgAAAAlwSFlz\n",
       "AAAOxAAADsQBlSsOGwAAAslJREFUSMeNls9rE0EUx19Mstn8aBLwD2jRW6EYEIQKNkGCBBXNQSoe\n",
       "JCpUUdEs9KIXE0Hw0BZDBQtS6NL2nih6EmkO3qo04k2tLLE3D0pto1ZsfW9mNvtjdmEHkrcz88n3\n",
       "O/P2zRAAMMCzpT3GvFEjIMgUB9redtGONOSDXgwIMsVV9+iHvZuw3JuHzxK/CokjhX5vsXrFgFT1\n",
       "loe4W1PpzR5YKJBioiGpHmpDagwgrrvGCY3XrX6FfjqHn6ceoKNVNEic0ElR1SS7wRx0McRM5fMi\n",
       "Epqx7SSyi2kr48MdD9DRpnGdt5miIuc4vpsYonhD9N+ZKaF12rY88BfgLZvQZdDRUC6fZYoXZLvY\n",
       "70UW51x2hL6w56wn6imuyaCjZUHd5opTVKFTXxxlWB1m4bnLjtDZ9WmLy5e/sZgckkF4/Slrk1zR\n",
       "uCJtYdwI79jtVrj5XZcdook/etM6U2vD/PXGGhIIG201Z0vYP6F4GjWugVpwlCbvvXHZIZragYyV\n",
       "CGWTx1RBAuEUKLaMrdWF4gQW0g5EWthpikWq3W1eofT1oFi8Wiwep0dCG9Bs0SYZYOYk9EMG+ZQA\n",
       "o5v8ohmkKSUHTarniKj8+6GfLI67djfBjl2FjkKJ706sL3pJAhWRyZJ5tKDOFOeB1luzpTKZhbOG\n",
       "VzIRzWjwyDoK31veyeSatsvyOi5JY4rHcKoNoymrAF4C1Bg86bJDNFPGF91vtbIohJwMonrZ5JZP\n",
       "Yup0pojVHu/ESsm+xhLuOsMyP+OyQ3SfFrbdYnnzFulIoFqnLIn2xIDQY654Dt/nyLPue3Nqf/Uy\n",
       "RBe26CSdcdkROmM7dgf3RsRtZkggvFr/aHLq1uHR6i9gipEs+LR0wWXni24EBFExVvez61+05s3r\n",
       "iz4MCJLimJ/dV2nEB03nAoKkuORnd1Qa8UHDekCQFNOa91xM/r/hg94LCKLif/ijyS+qOQI5AAAA\n",
       "AElFTkSuQmCC\n",
       "\" style=\"display:inline;vertical-align:middle;\" /></a><br>"
      ],
      "text/plain": [
       "lin_comb: (a * X) + (b * Y) + (c * Z)"
      ]
     },
     "execution_count": 6,
     "metadata": {},
     "output_type": "execute_result"
    }
   ],
   "source": [
    "lin_comb = VecAdd(ScalarMult(a, X), ScalarMult(b, Y), ScalarMult(c, Z))"
   ]
  },
  {
   "cell_type": "code",
   "execution_count": 7,
   "metadata": {},
   "outputs": [
    {
     "data": {
      "text/html": [
       "<span style=\"font-size:20px;\"><a class=\"ProveItLink\" href=\"../../numbers/ordering/__pv_it/theorems/d1161a35ec5e93268a38333753de2be95580bf530/expr.ipynb\"><img src=\"data:image/png;base64,iVBORw0KGgoAAAANSUhEUgAAADMAAAAQBAMAAABJt1qBAAAAMFBMVEX////MzMxUVFQyMjKqqqoi\n",
       "IiKYmJju7u5EREQQEBC6urqIiIh2dnZmZmbc3NwAAAD0tjQRAAAAAXRSTlMAQObYZgAAAAlwSFlz\n",
       "AAAOxAAADsQBlSsOGwAAAM5JREFUGNNjYMAAqTP6TWckMGAFBo8YFmUUYJVqeMPAwaiAS4r3gQGK\n",
       "0I7QUAO4VAOyzOLtCF1M5SAD+e7s2wAS4DNHMlDC+QGQsfIBx3eQAPMDuNRL068gE9inMfAGgKWQ\n",
       "nJFWDKJ5vzOwHgAxJEOBoAEixVEGsoOzgaF+AUigAkkX4wU7IF1/gCEfLMCK7K+LL0BSDgzNLCAX\n",
       "cG9AkqpgAwYi8wa2WB6wiAk8DIsY2BK0gC7UPvhoI1ikqKsAFvJ2DB32DsjBsaY1FDnkAG+lQFhP\n",
       "+Fl3AAAAAElFTkSuQmCC\n",
       "\" style=\"display:inline;vertical-align:middle;\" /></a>, <a class=\"ProveItLink\" href=\"../../numbers/ordering/__pv_it/theorems/2a31fd8f5e9b33dca917194c8a4ce0a8e45d95540/expr.ipynb\"><img src=\"data:image/png;base64,iVBORw0KGgoAAAANSUhEUgAAADEAAAAQBAMAAABNQoq8AAAAMFBMVEX////MzMyYmJjc3NyIiIhU\n",
       "VFR2dna6urqqqqpmZmYyMjIiIiIQEBBERETu7u4AAACIO4EmAAAAAXRSTlMAQObYZgAAAAlwSFlz\n",
       "AAAOxAAADsQBlSsOGwAAANhJREFUGNNjYEAH2mfvrz6rAGTw3dmAJrXAlKFU9wGQwTUBTeaCGQMv\n",
       "YwCQwd+AKcNpsADIqH8AFfHdvXsBXOYCkJENlajyQ+hhfQcybanLDBCfeR2SabJdBkC3/Xrw3gDk\n",
       "EAO4jM3q3yD9HP8Y+B1AMkguUHoFojkXMLxPANIyu4HgAkSG95EDxDv1IHe/RdLDOGExyDsKDPNB\n",
       "7uZG9s9EW5BMAd8hEJ/FAUnmLRMw4FgVeCHBswIebk8ZmBTCga6eMgMi8PT6A1hYL2a4ux45zMpu\n",
       "Q0IHCgBa4kVFO3G8ggAAAABJRU5ErkJggg==\n",
       "\" style=\"display:inline;vertical-align:middle;\" /></a>, <a class=\"ProveItLink\" href=\"../__pv_it/demonstrations/5a9fd968db042835da71c9a03d0fee3673c681600/expr.ipynb\"><img src=\"data:image/png;base64,iVBORw0KGgoAAAANSUhEUgAAADEAAAAQBAMAAABNQoq8AAAAMFBMVEX///9UVFQyMjK6urqYmJju\n",
       "7u4QEBBERERmZmaqqqoiIiLc3NzMzMyIiIh2dnYAAAAoX9D3AAAAAXRSTlMAQObYZgAAAAlwSFlz\n",
       "AAAOxAAADsQBlSsOGwAAAL9JREFUGNNjYEAHXun1WukODNiAwkYGQ/cAbDIF+xjYeQRwyHBsUEAW\n",
       "ub5qlQJcpgBJwugqQg9jKNi0t/cOAEluVSTTjk/aAGTsmsAB0sq0AS6zTesXWP86BrYLIBkkF7gE\n",
       "gWiOrxD+sVVAUACRYQ8BqWWDuiIcSQ9PgzaQjn8A4XMh+6dnO5DmBwaRAZDmvYAkE84CFOVoYOAD\n",
       "uZpBEx5ugQwsDsJAxru7EC8GFgfAwlqboVx/AlIg2FWtQg4tAHF7N9AMIZ1OAAAAAElFTkSuQmCC\n",
       "\" style=\"display:inline;vertical-align:middle;\" /></a>, <a class=\"ProveItLink\" href=\"../__pv_it/demonstrations/a2603b9937767004fecf5af04049b9581d8d155b0/expr.ipynb\"><img src=\"data:image/png;base64,iVBORw0KGgoAAAANSUhEUgAAAEQAAAAUBAMAAADGs4Z2AAAAMFBMVEX///+6urpmZmaYmJjMzMzc\n",
       "3NxUVFSqqqoyMjIiIiLu7u52dnYQEBBERESIiIgAAAApsOdKAAAAAXRSTlMAQObYZgAAAAlwSFlz\n",
       "AAAOxAAADsQBlSsOGwAAAR1JREFUKM9jYMALWB8/c8CvgoFtA98BAkpYHLgbGAgBTgMcEsxz7v6Y\n",
       "cxnI4OsDcd/+P82w8k87qhoO1gTG5FtAxtoHIG5+AQP7VTRjeFk3MFxwA7nmC4jrf4EhjAGLElUO\n",
       "hjUOrJ/Bhn7lSoBJvZ05swGuhJeBcwHzKbDbPi2DqZB4hWRK1jIGln3PAsD881mwwOxCsojleivC\n",
       "4v0PYP4IQCg5MX/eAoSS/AkwJUjO3WyFFK5MYR+hLJ+ZQHABatEtO4QSFZa/UNZaZE87IazldmCY\n",
       "D+VwIithcr0A421kYLDfAGHyPUBSwnXBGGa4AgMD/y8oBx5THMDQNGYTALN9zx9hYOz/CQ3eZRcX\n",
       "wGM6gPfGd2ypQPrmTPQ0BACIFlLsHG3s3QAAAABJRU5ErkJggg==\n",
       "\" style=\"display:inline;vertical-align:middle;\" /></a>, <a class=\"ProveItLink\" href=\"../__pv_it/demonstrations/de1341b4dba2604070e61b5e3b272069ac84d3570/expr.ipynb\"><img src=\"data:image/png;base64,iVBORw0KGgoAAAANSUhEUgAAAEEAAAAUBAMAAAAgmk0yAAAAMFBMVEX////MzMxmZmZERER2dnYi\n",
       "IiKYmJgyMjK6urqIiIiqqqrc3NwQEBBUVFTu7u4AAAA62IdmAAAAAXRSTlMAQObYZgAAAAlwSFlz\n",
       "AAAOxAAADsQBlSsOGwAAARJJREFUKM9jYMAHdmZeZMAPrjDMIaBCkMGdgRAIwyGeeti+9HACkDF9\n",
       "AgPD2/NnNzBwnT+JqqRgL0Nv8gMGBj5LIKe/AEiUoRlisIWBmfECkCEvwMDA+puBgbMBUwXThgK+\n",
       "gwz7gXZxfmFgWAWV4DQNDUeoMGCIY8gBWfWHgWMCRAFH5QOEGbzvLjCIzLwN4tk3bIGKb3+AZIvw\n",
       "8g0w3vp7ClBWNcIde0q/zoPzeP7C/Yjk0rTnCHcz/4MyGI+GhoYGQ1UwP5uAMAOmlc8AyQxGBYSd\n",
       "+x1grADk8FDcDOflw4NrJrKKx2wJMJ49XJx9AdzNbxnYEm5AOZf/34SJ813ug8dtNYNx/QLMWOdw\n",
       "hoY6EgAA4MJOuwN56Q0AAAAASUVORK5CYII=\n",
       "\" style=\"display:inline;vertical-align:middle;\" /></a>, <a class=\"ProveItLink\" href=\"../__pv_it/demonstrations/ebff88650d73d1e5cabd7c95f4186da58ec623960/expr.ipynb\"><img src=\"data:image/png;base64,iVBORw0KGgoAAAANSUhEUgAAAD8AAAAUBAMAAADIGvgZAAAAMFBMVEX///+IiIh2dnbMzMxERETc\n",
       "3NyqqqpmZmbu7u6YmJi6uroiIiJUVFQyMjIQEBAAAADo4HZ1AAAAAXRSTlMAQObYZgAAAAlwSFlz\n",
       "AAAOxAAADsQBlSsOGwAAASBJREFUKM9jYMADAiceZsALDjHI4VdgzKDLQADsxC48+4n/7ScTgAxZ\n",
       "ARD3/dszZ3+jqrgQw7BmSgMDA4cjkMP1k4Gh+wWqAocgBhbmA0CGvQEDA3sCA8O9AAwF7AEXOB4z\n",
       "xAMt4mFgYPkMEWf03r0XocCBYQfDPKA9zAwM9QvAwlwXGxAm8HQcYDASPArmMv2ECMc2IFlhkouw\n",
       "dr4AhL6KcEPc7d8ScB7bd5jnkBw5sxfh5PUHGFhBNPPr3bt3b4EqYOkUgMkzfwF6FcTgcEAygbkA\n",
       "bmEc0OSVYNYG5HAoDoGyOXYD3b4DzBREVtDCOQHC5n3KwGALMZw3AR4XPQycE05B2PVbXO79hyjm\n",
       "OLICHptXGVzuJ2BEM5cKNKiRAADf2lAFIBsyOAAAAABJRU5ErkJggg==\n",
       "\" style=\"display:inline;vertical-align:middle;\" /></a> <a class=\"ProveItLink\" href=\"../__pv_it/demonstrations/3ca6781a373ea0c42e7b6dd8098e71b606d8df220/proof.ipynb\" style=\"text-decoration: none\">&nbsp;&#x22A2;&nbsp;&nbsp;</a><a class=\"ProveItLink\" href=\"../__pv_it/demonstrations/5ccb339c926e8231ae7e3db027f9dd6f68302ec90/expr.ipynb\"><img src=\"data:image/png;base64,iVBORw0KGgoAAAANSUhEUgAAAR4AAAAYBAMAAADeyY9MAAAAMFBMVEX////MzMxUVFREREQiIiK6\n",
       "uroQEBCYmJhmZmYyMjLu7u52dnaqqqqIiIjc3NwAAACFAiZ1AAAAAXRSTlMAQObYZgAAAAlwSFlz\n",
       "AAAOxAAADsQBlSsOGwAAA59JREFUSMfNV11IVEEUPuuuu3fvrrtLvfSUkg+BIC0YhVK61CL26z6E\n",
       "YRBaZKFRu9CDFZQbBD2otRgkhD+LSq+7/dFDiD70ZqHZQ1AaF/MleqjMn7TSZu6cu3dmdy4YvvjB\n",
       "tzNz73fnnDln5gwLsHngez8Z2ETuQF66oHEz+WMLeBKk0ZAyaOt69B9CH1IORwygYJRRitM5Tyyk\n",
       "6xXmTzDycFWXLVfvpZ/0kp8xpIB3axdhaLFHMukYqHtCmdFA9KwG3uglqVCEc7FrR38Ipkh3KuuV\n",
       "21eUv7OCdAYnQCUpo8zCrlHwVpL2YdZzKnXHzXED/bTbQiigIQZqdRLcSdDJw+5LQ3AL3UE/QCEp\n",
       "o8xCYRBmaHsVxyexpVI/FwvHKglzxEIooIP4cZkkJ86Y7c9dNzwK+JbASUOZm2f3qlqkRxmX8saI\n",
       "Ol0pt7yC3wCvrYQCyHRVtLy0IOnHu8OHMv7YwZF0tUA9Gdfn+uP6NcD8iolmqPQZn5ZF3J4yoYAA\n",
       "KAuAye1me7s3acanZABsw5MatJMxpa/9k7DtoyV64ykSzVBp13SHqauKfLUUwvBHvuCO6C4/QQJ8\n",
       "SZr5su3rY33D3TrNvsL7M8K8cyVEM0SqLidTZm0ZL4lbCWF2VAlyIf+rN9eQAH3m/mmuPYbOHWVU\n",
       "L4ASEg4YG3lDohki9a6A3wylcw6shHAEnFzMx5njr5AACdOfF9eNQROjsgKONOmm8Lkys8Bq+Hfy\n",
       "czscPh8OH0C5koBUmoaJzYVRlQnZKxTmz7GSXYgE27lwOHwQ81VxQ/THGYQUPbYOPIq3bD/ZLI3i\n",
       "spv08tNAT3wNiw8uQCJ0YrJqjAoCdPI6JKhB7rxvc+MW6GEkK27jsuUJQK0mSwOR+mNwzzzx39Ly\n",
       "fLE5uYurmfgcE/IV4vxRtqN3+xlTo1DuNXfpc4A2fTZXUDRDpP4I2WwZtEVwt0qExHzE0A0dJsGn\n",
       "y7iCBJjm/FGDrayPx8894arxZIwMksD69ewrE6IZIs2L2bn6WmXU41yhEqdxRjzQwHafdjqRxKZR\n",
       "592k9rbmMddPMKqlj2feGt9ujZ6B/P55WlEcmmiGSju58lO8VooXR64QXk5/MHTKfFl5dIn2jiPJ\n",
       "RMWnMve7Zi//w+YJMFpgFkQzltL1Cn0hRv0MPGX3hXAxSO43DneyrklL6XqFFve3iUqkfDVBmXwj\n",
       "ws9ISwwipbAnZfKNCCuQ1v8yYoxS3JTKNyB0aYxW+AeIsQydkp5qlwAAAABJRU5ErkJggg==\n",
       "\" style=\"display:inline;vertical-align:middle;\" /></a></span>"
      ],
      "text/plain": [
       "{a in Real, b in Real, c in Real, X in Real^{3}, Y in Real^{3}, Z in Real^{3}} |- ((a * X) + (b * Y) + (c * Z)) in Real^{3}"
      ]
     },
     "execution_count": 7,
     "metadata": {},
     "output_type": "execute_result"
    }
   ],
   "source": [
    "InSet(lin_comb, R3).prove()"
   ]
  },
  {
   "cell_type": "code",
   "execution_count": 8,
   "metadata": {},
   "outputs": [],
   "source": [
    "%end demonstrations"
   ]
  }
 ],
 "metadata": {
  "kernelspec": {
   "display_name": "Python 3",
   "language": "python",
   "name": "python3"
  },
  "language_info": {
   "codemirror_mode": {
    "name": "ipython",
    "version": 3
   },
   "file_extension": ".py",
   "mimetype": "text/x-python",
   "name": "python",
   "nbconvert_exporter": "python",
   "pygments_lexer": "ipython3",
   "version": "3.7.4"
  }
 },
 "nbformat": 4,
 "nbformat_minor": 1
}