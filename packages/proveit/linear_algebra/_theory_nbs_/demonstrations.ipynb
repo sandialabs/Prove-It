{
 "cells": [
  {
   "cell_type": "markdown",
   "metadata": {},
   "source": [
    "Demonstrations for the theory of <a class=\"ProveItLink\" href=\"theory.ipynb\">proveit.linear_algebra</a>\n",
    "========"
   ]
  },
  {
   "cell_type": "code",
   "execution_count": 1,
   "metadata": {},
   "outputs": [],
   "source": [
    "import proveit\n",
    "from proveit import defaults\n",
    "from proveit import a, b, c, X, Y, Z\n",
    "from proveit.logic import InSet, InClass, CartExp\n",
    "from proveit.numbers import Real, three\n",
    "from proveit.linear_algebra import VecSpaces, VecAdd, ScalarMult\n",
    "%begin demonstrations"
   ]
  },
  {
   "cell_type": "markdown",
   "metadata": {},
   "source": [
    "### Vector space closure proofs under addition and scalar multiplication"
   ]
  },
  {
   "cell_type": "code",
   "execution_count": 2,
   "metadata": {},
   "outputs": [
    {
     "data": {
      "text/html": [
       "<strong id=\"R3\">R3:</strong> <a class=\"ProveItLink\" href=\"../__pv_it/demonstrations/b09d232dc6c8bd1b305d141dd063505555f74fe50/expr.ipynb\"><img src=\"data:image/png;base64,iVBORw0KGgoAAAANSUhEUgAAABcAAAATBAMAAACJlYuFAAAAMFBMVEX///8AAAAAAAAAAAAAAAAA\n",
       "AAAAAAAAAAAAAAAAAAAAAAAAAAAAAAAAAAAAAAAAAAAv3aB7AAAAD3RSTlMAZs3vu90iq0QQiTKZ\n",
       "VHZ+Ip2vAAAACXBIWXMAAA7EAAAOxAGVKw4bAAAAk0lEQVQI12NggILEe9UMcFDF8BjB2c2wlAEJ\n",
       "BDIwCJn4q5oIANmPHgAJh3SGdpEJDAycfiBOFgMLdwGQsX8DmMOToMBpzZAvAOU4MEQyCE8Ac9hn\n",
       "FjDselcG0bPlUgLUeIdk1a8vYXY5ZAlOYkBwWCYKIDjcBzwRHIbTKUicKXwwdQ45DIwCHhA20NVu\n",
       "DC76F0BsAJSlJFWuLv4NAAAAAElFTkSuQmCC\n",
       "\" style=\"display:inline;vertical-align:middle;\" /></a><br>"
      ],
      "text/plain": [
       "<IPython.core.display.HTML object>"
      ]
     },
     "metadata": {},
     "output_type": "display_data"
    }
   ],
   "source": [
    "R3 = CartExp(Real, three)"
   ]
  },
  {
   "cell_type": "code",
   "execution_count": 3,
   "metadata": {},
   "outputs": [
    {
     "data": {
      "text/html": [
       "<strong id=\"defaults.assumptions\">defaults.assumptions:</strong> <a class=\"ProveItLink\" href=\"../__pv_it/demonstrations/c358fe7d65e6c06f0cd31bae36fc3e413ed08c420/expr.ipynb\"><img src=\"data:image/png;base64,iVBORw0KGgoAAAANSUhEUgAAAZoAAAAaBAMAAAB874c8AAAAMFBMVEX///8AAAAAAAAAAAAAAAAA\n",
       "AAAAAAAAAAAAAAAAAAAAAAAAAAAAAAAAAAAAAAAAAAAv3aB7AAAAD3RSTlMAZkRUmRDNuyLviTJ2\n",
       "3asqG0tJAAAACXBIWXMAAA7EAAAOxAGVKw4bAAAEl0lEQVRYw91YX2hbVRj/5c9t0t6kTRUdvmh8\n",
       "0AcfXEAUH5TlxT8wZNcHDYMtDdTCCpu7m87uYaMRhmVDu764DrbZCIIgFfMgbirYTKjimCWCcyqG\n",
       "Zkg30WJdO7dutdZzzj3n3pt7z4mXGgj4QXvPub9ffuf7zp/vOwnQNnv1sd9axYrfPlPmzdvaFM2v\n",
       "+KpVrO5SYgxZ2opk2xTNp3i/VSy93FXFCG0937699k3rWMkUQhXy3CPBQoND13/Yo/hgUxB3jg/v\n",
       "Gk81G9hmfFH5ryzblcRO8u8COUBjMlosXg9f2me1c6eagH4zR/HgBoN3NqydxPab/XKGdsDq52ff\n",
       "KiIycbI5C5g49vvlVYUrORLzDBAtyaMpwfyMd15oBvqjOYKYXhe9hQwi+1WMKZ6INhYke8THCl8F\n",
       "tr+pcEVfAfoM9KRV0TzdwTtLzUBZNNFiQfSmTBySM7QTOMp3ZHKZ7JX0v7GiGWCwKHVlazlOQu1I\n",
       "Ycpwo1/WagWbFeNz8icHEwdr33lB2wRoeWGK1x3LWt0rzhkXcBcfO3ELeEih47C6ycgrcj+TRogs\n",
       "WtTE126X7p92xTyXt9ok+VlR7TT8oDAbpF50P2dHELqW94lzxifnf+EvtJsIVxQ6DksHtqTlfuqT\n",
       "M2TRSM25TF+OTr7OSuqAawX1l3bw6Z2fydDna4YEBCbPlt0g9eL0I86GmJgT9XpAwSA2nD7CW0od\n",
       "Nq9XvVINrpBNNEQfxzFMVTqKDuvY7E9cuG9AW6bPHTIQb2SiphuEeXjX6rTjwQciwTriHgaxTXOi\n",
       "hCt1qN1T8Uo1uEIywYvksTWFZxjLdbrevkOc5E0GWPIsyED8iM6KGyRz2usuyAtVEY2KQazzb9Eq\n",
       "NGFFrvmkGlyJL+Jb8thCnSL2cY2YyVdwXy8nPQncopGfIuBFLxi1UoQDEi9izzrVMzq6yFuOeCOD\n",
       "KYpEo9RhibxOz47ST2iLbG3GaYOWIHfm+zBmiNkP0xytmTKw03rrgMQLPeuU1s36Dd7KKRhMRcyv\n",
       "UodGSpSiUPuJONtp2l8I/cHyvpsVPWOKcmMtQFUG9vGtXHXXic0j9rktY5Zv8qScweyoXcKratZh\n",
       "EvK9UPsJfRlXSDRL6C48SnN9xcXSzLMADXuFniti52VgD4HSbpB6kUukoLHO5+Tock8dcc6wFsM6\n",
       "3nbp9OkwoyNpNYNdxaR+ipxGvz0cwONZllT6HVYWvbG0dp20L+Fl6+xlJCBJaF1lNwjzEEKpveij\n",
       "mydHIukRZ6Lfw7DWlu2xYTsGnw4LmY7UcRz4yPRIcVd4bRvDRhJx/tyZeXYZyu81xN30RjH2yhLo\n",
       "fOTfsWZIu3KfH8R7vdNukN5992NodyZJpvH0xAnou1d59hXigmFtGjrbT63N2yfZq8M6dKSFi0OD\n",
       "a6lGKdsVK+PU0dlwP3rgYK3QkBTd957wu/zSEQTEw74bnFdcSvPp+EZSSpF7mvwObZ/idYMoBfvG\n",
       "FojWFUiK3KH1sWaEbesGtUogD4LRtgXSupv8/dyMUFk3mAi2NMFowWbm+/b+LtBaY78LREr/k2hG\n",
       "2vp7WqvtCeAfpXrF0aYZi8EAAAAASUVORK5CYII=\n",
       "\" style=\"display:inline;vertical-align:middle;\" /></a><br>"
      ],
      "text/plain": [
       "<IPython.core.display.HTML object>"
      ]
     },
     "metadata": {},
     "output_type": "display_data"
    }
   ],
   "source": [
    "defaults.assumptions = [InSet(a, Real), InSet(b, Real), InSet(c, Real),\n",
    "                        InSet(X, R3), InSet(Y, R3), InSet(Z, R3)]"
   ]
  },
  {
   "cell_type": "code",
   "execution_count": 4,
   "metadata": {},
   "outputs": [
    {
     "data": {
      "text/html": [
       "<span style=\"font-size:20px;\"><a class=\"ProveItLink\" href=\"../../numbers/ordering/__pv_it/theorems/4aa8d696b1f407d6126de9f51a052e8d90e0848c0/expr.ipynb\"><img src=\"data:image/png;base64,iVBORw0KGgoAAAANSUhEUgAAADMAAAAQBAMAAABJt1qBAAAAMFBMVEX///8AAAAAAAAAAAAAAAAA\n",
       "AAAAAAAAAAAAAAAAAAAAAAAAAAAAAAAAAAAAAAAAAAAv3aB7AAAAD3RSTlMAIquJdkTvuxBmmd1U\n",
       "zTKBpmoTAAAACXBIWXMAAA7EAAAOxAGVKw4bAAAAzElEQVQY02NgwABz0+tvp09gwAoKhBiCpjdg\n",
       "lxJmYOdTwCXFJXABRch99+4LcKkCZJlYD4Qupg6QgYzKjg4gAcYbSAY+PysAZIQJsP8ACfAKwKXE\n",
       "bv8GmcCRycC1ASyF5IyZvSCa6wMDtwGI8Ww3EBRApNg7QV5mK2DoDwAJtCPp4ltQAaT7HRjmgwW4\n",
       "kf21ThwkdYBBlwfkAhYHJKl2FqCJ7A48u7jAInfgUlIMnBNKgS5UsRPyA4s0lTbAQr6Qofz+AeTg\n",
       "CK7ejRxyAISENKeL/c93AAAAAElFTkSuQmCC\n",
       "\" style=\"display:inline;vertical-align:middle;\" /></a>, <a class=\"ProveItLink\" href=\"../__pv_it/demonstrations/35b7d5ffd6c70530348c726f949f4fc11dcba3530/expr.ipynb\"><img src=\"data:image/png;base64,iVBORw0KGgoAAAANSUhEUgAAAEQAAAAUBAMAAADGs4Z2AAAAMFBMVEX///8AAAAAAAAAAAAAAAAA\n",
       "AAAAAAAAAAAAAAAAAAAAAAAAAAAAAAAAAAAAAAAAAAAv3aB7AAAAD3RSTlMAZrvvdhDdzVSrIjKZ\n",
       "iUQw4UTKAAAACXBIWXMAAA7EAAAOxAGVKw4bAAABHUlEQVQoz2NgwAu4JDw34FfBwHmBxYCAEu4N\n",
       "vAkMhACbAA4JxmKl78mKQAZLCYgr9N+EIexzBaoaJq4JfBNVgYwgBxB3fgMDhxYDupILDAo7Qa75\n",
       "DeLuV2BYw4BFySl2huANXB9BXPZfrBNgUk5paQVwJUwMbAGMpmC3/YmEqXjuimTK1EgG7iueC8B8\n",
       "+6mwwCxFsohbowph8X0HKIN9AUKJeX5KAELJfFgIsiM596JoAUIFz8p/UNbmNCBQgFqkKohQcpr7\n",
       "E5QVhOzpPUxwi3g3MORD3cCGrIRnlwKM58fAIH8BwmRxQFLCquAIMxwozf8VyqlAKDnAIMj0AMze\n",
       "ZG/NwF3/7QBEJlIvABbTnxYwqf/AlgreqqUVoAkBAAuDRVOWiPkRAAAAAElFTkSuQmCC\n",
       "\" style=\"display:inline;vertical-align:middle;\" /></a> <a class=\"ProveItLink\" href=\"../__pv_it/demonstrations/09ad266ca99d5424ca9b3bd8e039603b8dbf5c370/proof.ipynb\" style=\"text-decoration: none\">&nbsp;&#x22A2;&nbsp;&nbsp;</a><a class=\"ProveItLink\" href=\"../__pv_it/demonstrations/53ad7fbcc8eedc00250580b1386dc64851f67a1f0/expr.ipynb\"><img src=\"data:image/png;base64,iVBORw0KGgoAAAANSUhEUgAAAGwAAAAYBAMAAADt+wUpAAAAMFBMVEX///8AAAAAAAAAAAAAAAAA\n",
       "AAAAAAAAAAAAAAAAAAAAAAAAAAAAAAAAAAAAAAAAAAAv3aB7AAAAD3RSTlMAInZUiRDNmWbv3US7\n",
       "qzJazP2FAAAACXBIWXMAAA7EAAAOxAGVKw4bAAAB2UlEQVQ4y2NgIBkwNus+IF0XA68D0wQytPE9\n",
       "YFkApARwSAvg1MjVwMDAZIBDchManyPzzLeVJ4AMpiQgYYKuvOf/JIaon8kMTA1oEjyMF7hvHAUy\n",
       "YhQYWBMwrLlvwMB8EEinYmhzYDjwFuS7fwzsDRja3h9gEAfR7Vi0FbIxRD5g/MHAiekpto+sF0A0\n",
       "ZwCEr7NqVQJcGw8DVwDHVAYzTG0c32Mh2iEO2aaKZNvVWAY+J10BhhJQvF9RVEDWN/8qmGIB28mY\n",
       "iuRIvsOJEHYGEO8U4PmKrM0fYggH2GlsAght09Yvgjp8MQMD6wwG9gUoQQnhMYPTEBtSkHi0wsJ9\n",
       "NgMD+wcGLgcgk/UbRIhd9jckFX0AkS9XAcEBqCOPdiC0cR5giN8AYi+HCNXx/QHT3GDbYpAj4DkP\n",
       "wpHxCgz9SE5kecCwHuwfZrBbuZC1sT88AGEfAmozYLjGjEi42gwM/Q7gIAErYVJA0sZ6QAPC9gVy\n",
       "FZiXs8N1xQC18IMDlh2smSEZoa2AoYMH7B2GV8CguOQnqweTezN/HgNf/q8CkPMgKmJPB8BywB8B\n",
       "nmOfIXkHdwaXgtJbTq3CSO8cBTi1VeDL4wdxFjUH8GmLwSXBI4C3/FLAIaGIRxMAgxttnny0D2QA\n",
       "AAAASUVORK5CYII=\n",
       "\" style=\"display:inline;vertical-align:middle;\" /></a></span>"
      ],
      "text/plain": [
       "{a in Real, X in Real^{3}} |- (a * X) in Real^{3}"
      ]
     },
     "metadata": {},
     "output_type": "display_data"
    }
   ],
   "source": [
    "InSet(ScalarMult(a, X), R3).prove()"
   ]
  },
  {
   "cell_type": "code",
   "execution_count": 5,
   "metadata": {},
   "outputs": [
    {
     "data": {
      "text/html": [
       "<span style=\"font-size:20px;\"><a class=\"ProveItLink\" href=\"../__pv_it/demonstrations/35b7d5ffd6c70530348c726f949f4fc11dcba3530/expr.ipynb\"><img src=\"data:image/png;base64,iVBORw0KGgoAAAANSUhEUgAAAEQAAAAUBAMAAADGs4Z2AAAAMFBMVEX///8AAAAAAAAAAAAAAAAA\n",
       "AAAAAAAAAAAAAAAAAAAAAAAAAAAAAAAAAAAAAAAAAAAv3aB7AAAAD3RSTlMAZrvvdhDdzVSrIjKZ\n",
       "iUQw4UTKAAAACXBIWXMAAA7EAAAOxAGVKw4bAAABHUlEQVQoz2NgwAu4JDw34FfBwHmBxYCAEu4N\n",
       "vAkMhACbAA4JxmKl78mKQAZLCYgr9N+EIexzBaoaJq4JfBNVgYwgBxB3fgMDhxYDupILDAo7Qa75\n",
       "DeLuV2BYw4BFySl2huANXB9BXPZfrBNgUk5paQVwJUwMbAGMpmC3/YmEqXjuimTK1EgG7iueC8B8\n",
       "+6mwwCxFsohbowph8X0HKIN9AUKJeX5KAELJfFgIsiM596JoAUIFz8p/UNbmNCBQgFqkKohQcpr7\n",
       "E5QVhOzpPUxwi3g3MORD3cCGrIRnlwKM58fAIH8BwmRxQFLCquAIMxwozf8VyqlAKDnAIMj0AMze\n",
       "ZG/NwF3/7QBEJlIvABbTnxYwqf/AlgreqqUVoAkBAAuDRVOWiPkRAAAAAElFTkSuQmCC\n",
       "\" style=\"display:inline;vertical-align:middle;\" /></a>, <a class=\"ProveItLink\" href=\"../__pv_it/demonstrations/1d85263d876f534df2e38765e55810567e0d8ed50/expr.ipynb\"><img src=\"data:image/png;base64,iVBORw0KGgoAAAANSUhEUgAAAEEAAAAUBAMAAAAgmk0yAAAAMFBMVEX///8AAAAAAAAAAAAAAAAA\n",
       "AAAAAAAAAAAAAAAAAAAAAAAAAAAAAAAAAAAAAAAAAAAv3aB7AAAAD3RSTlMAEKvd7yJUdkTNu2aJ\n",
       "mTIv55t8AAAACXBIWXMAAA7EAAAOxAGVKw4bAAABEUlEQVQoz2NgwAei0/UY8AMdhhICKt4xHGYg\n",
       "BKxxiO/0Wj/ZawOQUVnAwCBk7xTAwObvjqpkQRBD0y4BBgbG5UBO/wQgsRrNkAUxDFx8CkDG+wcM\n",
       "DMxfGRjYGzBV8AZMYPRjiAfaxf6HgSENKsG+2NgSoWIBgyHDFpBVXxg4CiAKOKYLIMxgElRgeFOu\n",
       "CuKtb4iBikcKINnyKjMAxstXvABlTUW4I2Ty50I4j+UTjDUByaW7JRHu5voIZfA5GxsbW0FVcElv\n",
       "QJgB08q4AMkMvgsL4bz4AzCWAXJ43IuC8/bDg6scWYUUO9ya9XBxzgS4ilgG7g0roJxb/9Vh4oxa\n",
       "jfC4Xcqwan4CZqxznIKGOhIAAFOBRq56l8PMAAAAAElFTkSuQmCC\n",
       "\" style=\"display:inline;vertical-align:middle;\" /></a>, <a class=\"ProveItLink\" href=\"../__pv_it/demonstrations/881ab1ed3d9a74fa2a30022b0f45eaeecea77c5c0/expr.ipynb\"><img src=\"data:image/png;base64,iVBORw0KGgoAAAANSUhEUgAAAD8AAAAUBAMAAADIGvgZAAAAMFBMVEX///8AAAAAAAAAAAAAAAAA\n",
       "AAAAAAAAAAAAAAAAAAAAAAAAAAAAAAAAAAAAAAAAAAAv3aB7AAAAD3RSTlMA782r3URmEJlUIrsy\n",
       "iXbFnxI6AAAACXBIWXMAAA7EAAAOxAGVKw4bAAABHklEQVQoz2NgwAOWzbNhwAtsGR7iV3CG4QoD\n",
       "AeCGXThJer+KdAKQ8egBiCsvZGz0BVXFhsUMwdkFDAzs+4Ac1m8MDCXiaArWMnDzGAAZ5w8wMHBM\n",
       "YGBQXIChgGOBArsMw3qgRcwMDNx/IOJ8W1ycEAo2MLgzJALt4WFg6A8AC7PqFSBMYC43YDj7zgrM\n",
       "5f0GEV5UgGTF6UkIa/MfQGgthBsWqnx5Dudx/oAyFJAcmVaEcHK8AcgdQMeIuLi4eEMVcJclwOR5\n",
       "fgO9CmKwb0AygadhO4yzEGhyGJjlgBwOPauhbHYXoNvdwcx3yAqq+aB2MEkxMByCGM40Aa5gBQNb\n",
       "wlYI2957t+J/iGJ263B4bO5i2K0/ASOaWW9DgxoJAAAcJEzwM/7MHQAAAABJRU5ErkJggg==\n",
       "\" style=\"display:inline;vertical-align:middle;\" /></a> <a class=\"ProveItLink\" href=\"../__pv_it/demonstrations/809ce45ece379f9d24014f4479a70c237da5c06e0/proof.ipynb\" style=\"text-decoration: none\">&nbsp;&#x22A2;&nbsp;&nbsp;</a><a class=\"ProveItLink\" href=\"../__pv_it/demonstrations/d41d2554a61095d34fa18ecde24b0c60a633c67f0/expr.ipynb\"><img src=\"data:image/png;base64,iVBORw0KGgoAAAANSUhEUgAAAKQAAAAYBAMAAACGk0t8AAAAMFBMVEX///8AAAAAAAAAAAAAAAAA\n",
       "AAAAAAAAAAAAAAAAAAAAAAAAAAAAAAAAAAAAAAAAAAAv3aB7AAAAD3RSTlMAInZUiRDNmWbv3US7\n",
       "qzJazP2FAAAACXBIWXMAAA7EAAAOxAGVKw4bAAACX0lEQVQ4y2NgoCpgbNZ9QF0TGXgdmCZQ2Ui+\n",
       "BywLgJQAOR7EKcPVwMDAZECGkdwKqHyOzDPfVp4AMpiSgIQJEPf8n8QQ9TMZRVXs+rkCDMzzJ6EZ\n",
       "xvkz927+AgYNNGEexgvcN44CGTEKDKwJIJH7BgzMB9FU7QfJnEB33/4GBtaVAQxsAehGOjAceAsK\n",
       "zX8M7A0gkfcHGMRhsjtgofIR6I8NaIIMxQwMbBOBPi3ANLKQjSHyAeMPBk6wCNtH1gswWSMozfSF\n",
       "gcEYXZABqOw8KOlNhSo6tWoZ3EgeBq4AjqkMZpDg/R7LgK6b9SdSLMCNfMDA/htEZ0CiKSkA4cqr\n",
       "sQx8TroCDCUQoflXMYxkOL9BBFOQgcEfHFS+YLZYAMLjfIcTIewMqDoFTN32VwuwGMnxCUy1gclE\n",
       "RFhOW78Iav5iCHV/AaZuzr8MWIy0h9hjCSYTEEZ6tMI4s8Eku+xvCLdq1aqZq1athSj7yoApyP0X\n",
       "FJ7ANALOf7NWrVq1Burxox0oRtbx/cHiygQsrgQmNwaQO3eCY/AAUiJ6zoPscZYHDOsFMHTLO2Aa\n",
       "yTgN6FBQ/FiBuQuQjGR/CLXgEIjQZmDod8Awsn8DppFRS4F5AOSaHjBXCclI1gPQXApKDDFA4/i/\n",
       "YiYiBkwjMwUY+HJADEjiYzOAG1nA0MEDccMrBoY38+cx8OX/KkDTXfP/EoaRvL/OHJv/A8RaDckO\n",
       "d7bCSqI/AjzHPkNyMkbBboStNEMXZISGIrcPJEOilHQF6CI7sBmJLggpbXCAg2TVCDL4JGPIMhKv\n",
       "QxgVyDCRCU+FBQDvwppLoUY0tgAAAABJRU5ErkJggg==\n",
       "\" style=\"display:inline;vertical-align:middle;\" /></a></span>"
      ],
      "text/plain": [
       "{X in Real^{3}, Y in Real^{3}, Z in Real^{3}} |- (X + Y + Z) in Real^{3}"
      ]
     },
     "metadata": {},
     "output_type": "display_data"
    }
   ],
   "source": [
    "InSet(VecAdd(X, Y, Z), R3).prove()"
   ]
  },
  {
   "cell_type": "code",
   "execution_count": 6,
   "metadata": {},
   "outputs": [
    {
     "data": {
      "text/html": [
       "<strong id=\"lin_comb\">lin_comb:</strong> <a class=\"ProveItLink\" href=\"../__pv_it/demonstrations/cdd2980a958c7aab6aa7028838018bf7986292240/expr.ipynb\"><img src=\"data:image/png;base64,iVBORw0KGgoAAAANSUhEUgAAANwAAAAVBAMAAADfk53OAAAAMFBMVEX///8AAAAAAAAAAAAAAAAA\n",
       "AAAAAAAAAAAAAAAAAAAAAAAAAAAAAAAAAAAAAAAAAAAv3aB7AAAAD3RSTlMAInZUiRDNmWbv3US7\n",
       "qzJazP2FAAAACXBIWXMAAA7EAAAOxAGVKw4bAAACzElEQVRIx42WTWgTQRTHXz43m6TJHgShWEwF\n",
       "oSBI0CLopUE8CdqcS0sCIihYGtBDkaJ7Ug+F1IKiiCagEoxIgyd7SupBFISU2noT9yyCrRg1raW+\n",
       "Nzv7ObuwA+3LzPzy/8+8eTMEABTwbCGPMW9UCQgyxXDe2y6VE4Z80NcBQaY46h6d31uEif4FGBH4\n",
       "UYh9qJu9qaXHCkRqixBWRdDZ5P70l5k6KcbKgurXPERWAOJF1zih8YrVb9NX3+PfRQ/Q0doqxF4U\n",
       "SVESlgY/OrAfQ8JQfsMjoVlbmpJbmLYWfrjtATraVVznXaYoizmOb8VWKd7j/WNGSmidti2HfwEc\n",
       "ZxNFEXQ0lOtqTPGEaJf4M8XiJZcdoWftOevzeoqrIuhoGkg7uuI1qtD1YUcZ1jZYOOeyI3T60CeL\n",
       "67b2sRhdFUE4PaLZJMdVXZG2sKyke3a7cd38lssO0djvYsm6U2Mb+vEmygIIg3mpY0vYT674FDUe\n",
       "gFR3lKbeO+myQzTSA9lKhLyrx8iCAMIzOwhjFa74CAtpE5IF7JT4IqWhHb1C6d/1ZvNhs/mKPhJa\n",
       "hmyBNskAIyeZTRHUpziY2qXzI0WckjtQonpO8sq/kfnH4rJrd4jistp0FRr67vj6UgsCKPNMNoyr\n",
       "BRWmiBsv5aBqS2VUgyV2PqfEZOK1u2ldhYMFnsy6AJbstRe6j0tSmeJbnMrD54hVAEcAqkxn3mWH\n",
       "aFbDgzZbtcULoSOCqN4yuInnmJciU8RqT+ciDcnUmESrbM+sZ5sKogNq2vaKdY1XpCCAWJZR8yJc\n",
       "ViBzRVf8hue5dn7oqDH1vfYEMjPbJPrSZUfo+qzlNre3xl+zlgDCmTuHDW5g++O72l9gikkNfFqo\n",
       "7rLzRQcDgqiYqPjZmQ+t8fL6orMBQVJc8bM7IIz4oKFOQJAUJ/3sxO/4oGklIEiKoZz3XFj8veGD\n",
       "DgcEUfE/Qqe2UviI/zkAAAAASUVORK5CYII=\n",
       "\" style=\"display:inline;vertical-align:middle;\" /></a><br>"
      ],
      "text/plain": [
       "<IPython.core.display.HTML object>"
      ]
     },
     "metadata": {},
     "output_type": "display_data"
    }
   ],
   "source": [
    "lin_comb = VecAdd(ScalarMult(a, X), ScalarMult(b, Y), ScalarMult(c, Z))"
   ]
  },
  {
   "cell_type": "code",
   "execution_count": 7,
   "metadata": {},
   "outputs": [
    {
     "data": {
      "text/html": [
       "<span style=\"font-size:20px;\"><a class=\"ProveItLink\" href=\"../../numbers/ordering/__pv_it/theorems/4aa8d696b1f407d6126de9f51a052e8d90e0848c0/expr.ipynb\"><img src=\"data:image/png;base64,iVBORw0KGgoAAAANSUhEUgAAADMAAAAQBAMAAABJt1qBAAAAMFBMVEX///8AAAAAAAAAAAAAAAAA\n",
       "AAAAAAAAAAAAAAAAAAAAAAAAAAAAAAAAAAAAAAAAAAAv3aB7AAAAD3RSTlMAIquJdkTvuxBmmd1U\n",
       "zTKBpmoTAAAACXBIWXMAAA7EAAAOxAGVKw4bAAAAzElEQVQY02NgwABz0+tvp09gwAoKhBiCpjdg\n",
       "lxJmYOdTwCXFJXABRch99+4LcKkCZJlYD4Qupg6QgYzKjg4gAcYbSAY+PysAZIQJsP8ACfAKwKXE\n",
       "bv8GmcCRycC1ASyF5IyZvSCa6wMDtwGI8Ww3EBRApNg7QV5mK2DoDwAJtCPp4ltQAaT7HRjmgwW4\n",
       "kf21ThwkdYBBlwfkAhYHJKl2FqCJ7A48u7jAInfgUlIMnBNKgS5UsRPyA4s0lTbAQr6Qofz+AeTg\n",
       "CK7ejRxyAISENKeL/c93AAAAAElFTkSuQmCC\n",
       "\" style=\"display:inline;vertical-align:middle;\" /></a>, <a class=\"ProveItLink\" href=\"../../numbers/ordering/__pv_it/theorems/6e5cad5b2984ed0d75bd47bd0c542ec447a4f3570/expr.ipynb\"><img src=\"data:image/png;base64,iVBORw0KGgoAAAANSUhEUgAAADEAAAAQBAMAAABNQoq8AAAAMFBMVEX///8AAAAAAAAAAAAAAAAA\n",
       "AAAAAAAAAAAAAAAAAAAAAAAAAAAAAAAAAAAAAAAAAAAv3aB7AAAAD3RSTlMAELvv3c2ZVESJq3Yi\n",
       "MmZ3LnoBAAAACXBIWXMAAA7EAAAOxAGVKw4bAAAA1ElEQVQY02NgQAdPjfRDjB4AGYzKDmhSCqcY\n",
       "uh4JABmsCegyJxmYeBcAGfwFmDJsBwKAjH4BqMgmF5cAuIwCkDEFKtG6EaGHSxBkWtTu5SA+TyCS\n",
       "aZdKDwDd9lVA/gDIIQfgModDvoD0s39kYN4AkkFywTtREM0WwMA/AUhfdgECBYgMkxzIpywTGPpB\n",
       "7hZC0sOboAjxTj7I3SzI/sk9BJK5wGgH4nNvQJIR4gYax/WACRI84XCZYwx8DzSArl6ZBxGQ0hCA\n",
       "hbUOg1I8cph1qkBCBwoAxe43BugJR6MAAAAASUVORK5CYII=\n",
       "\" style=\"display:inline;vertical-align:middle;\" /></a>, <a class=\"ProveItLink\" href=\"../__pv_it/demonstrations/d550e8309ef79ca46e4c9fb5617a392ea678789b0/expr.ipynb\"><img src=\"data:image/png;base64,iVBORw0KGgoAAAANSUhEUgAAADEAAAAQBAMAAABNQoq8AAAAMFBMVEX///8AAAAAAAAAAAAAAAAA\n",
       "AAAAAAAAAAAAAAAAAAAAAAAAAAAAAAAAAAAAAAAAAAAv3aB7AAAAD3RSTlMAiXZmMiLdVJm77xBE\n",
       "zatgdeJyAAAACXBIWXMAAA7EAAAOxAGVKw4bAAAAvUlEQVQY02NgQAe2K+dfW2nAgA1MiGM4Z7kB\n",
       "q0wgAyfLAxwyHAEXkEU009IuwGUmIEmc1Ubo4dsNNk1I2QFIst5GMs2zNgDICCvgAGnlDYDLRF37\n",
       "BtafyMClAJJBcoHxXhDN8RvC90oDggkQGc7NIJ9yQV2xE0kPS8NsIL1fAcJnQ/ZPSySQ5gdqPACk\n",
       "mRSQZHYyAUWBDmMEuZrhOlwmgoHZYA6QIWgM8eK+ORtgYT2VYeb9AqRAODgtDTm0ALktNaaWdOV1\n",
       "AAAAAElFTkSuQmCC\n",
       "\" style=\"display:inline;vertical-align:middle;\" /></a>, <a class=\"ProveItLink\" href=\"../__pv_it/demonstrations/35b7d5ffd6c70530348c726f949f4fc11dcba3530/expr.ipynb\"><img src=\"data:image/png;base64,iVBORw0KGgoAAAANSUhEUgAAAEQAAAAUBAMAAADGs4Z2AAAAMFBMVEX///8AAAAAAAAAAAAAAAAA\n",
       "AAAAAAAAAAAAAAAAAAAAAAAAAAAAAAAAAAAAAAAAAAAv3aB7AAAAD3RSTlMAZrvvdhDdzVSrIjKZ\n",
       "iUQw4UTKAAAACXBIWXMAAA7EAAAOxAGVKw4bAAABHUlEQVQoz2NgwAu4JDw34FfBwHmBxYCAEu4N\n",
       "vAkMhACbAA4JxmKl78mKQAZLCYgr9N+EIexzBaoaJq4JfBNVgYwgBxB3fgMDhxYDupILDAo7Qa75\n",
       "DeLuV2BYw4BFySl2huANXB9BXPZfrBNgUk5paQVwJUwMbAGMpmC3/YmEqXjuimTK1EgG7iueC8B8\n",
       "+6mwwCxFsohbowph8X0HKIN9AUKJeX5KAELJfFgIsiM596JoAUIFz8p/UNbmNCBQgFqkKohQcpr7\n",
       "E5QVhOzpPUxwi3g3MORD3cCGrIRnlwKM58fAIH8BwmRxQFLCquAIMxwozf8VyqlAKDnAIMj0AMze\n",
       "ZG/NwF3/7QBEJlIvABbTnxYwqf/AlgreqqUVoAkBAAuDRVOWiPkRAAAAAElFTkSuQmCC\n",
       "\" style=\"display:inline;vertical-align:middle;\" /></a>, <a class=\"ProveItLink\" href=\"../__pv_it/demonstrations/1d85263d876f534df2e38765e55810567e0d8ed50/expr.ipynb\"><img src=\"data:image/png;base64,iVBORw0KGgoAAAANSUhEUgAAAEEAAAAUBAMAAAAgmk0yAAAAMFBMVEX///8AAAAAAAAAAAAAAAAA\n",
       "AAAAAAAAAAAAAAAAAAAAAAAAAAAAAAAAAAAAAAAAAAAv3aB7AAAAD3RSTlMAEKvd7yJUdkTNu2aJ\n",
       "mTIv55t8AAAACXBIWXMAAA7EAAAOxAGVKw4bAAABEUlEQVQoz2NgwAei0/UY8AMdhhICKt4xHGYg\n",
       "BKxxiO/0Wj/ZawOQUVnAwCBk7xTAwObvjqpkQRBD0y4BBgbG5UBO/wQgsRrNkAUxDFx8CkDG+wcM\n",
       "DMxfGRjYGzBV8AZMYPRjiAfaxf6HgSENKsG+2NgSoWIBgyHDFpBVXxg4CiAKOKYLIMxgElRgeFOu\n",
       "CuKtb4iBikcKINnyKjMAxstXvABlTUW4I2Ty50I4j+UTjDUByaW7JRHu5voIZfA5GxsbW0FVcElv\n",
       "QJgB08q4AMkMvgsL4bz4AzCWAXJ43IuC8/bDg6scWYUUO9ya9XBxzgS4ilgG7g0roJxb/9Vh4oxa\n",
       "jfC4Xcqwan4CZqxznIKGOhIAAFOBRq56l8PMAAAAAElFTkSuQmCC\n",
       "\" style=\"display:inline;vertical-align:middle;\" /></a>, <a class=\"ProveItLink\" href=\"../__pv_it/demonstrations/881ab1ed3d9a74fa2a30022b0f45eaeecea77c5c0/expr.ipynb\"><img src=\"data:image/png;base64,iVBORw0KGgoAAAANSUhEUgAAAD8AAAAUBAMAAADIGvgZAAAAMFBMVEX///8AAAAAAAAAAAAAAAAA\n",
       "AAAAAAAAAAAAAAAAAAAAAAAAAAAAAAAAAAAAAAAAAAAv3aB7AAAAD3RSTlMA782r3URmEJlUIrsy\n",
       "iXbFnxI6AAAACXBIWXMAAA7EAAAOxAGVKw4bAAABHklEQVQoz2NgwAOWzbNhwAtsGR7iV3CG4QoD\n",
       "AeCGXThJer+KdAKQ8egBiCsvZGz0BVXFhsUMwdkFDAzs+4Ac1m8MDCXiaArWMnDzGAAZ5w8wMHBM\n",
       "YGBQXIChgGOBArsMw3qgRcwMDNx/IOJ8W1ycEAo2MLgzJALt4WFg6A8AC7PqFSBMYC43YDj7zgrM\n",
       "5f0GEV5UgGTF6UkIa/MfQGgthBsWqnx5Dudx/oAyFJAcmVaEcHK8AcgdQMeIuLi4eEMVcJclwOR5\n",
       "fgO9CmKwb0AygadhO4yzEGhyGJjlgBwOPauhbHYXoNvdwcx3yAqq+aB2MEkxMByCGM40Aa5gBQNb\n",
       "wlYI2957t+J/iGJ263B4bO5i2K0/ASOaWW9DgxoJAAAcJEzwM/7MHQAAAABJRU5ErkJggg==\n",
       "\" style=\"display:inline;vertical-align:middle;\" /></a> <a class=\"ProveItLink\" href=\"../__pv_it/demonstrations/163a7c6325f05615aec1cd0dcf18aedce8c9fc820/proof.ipynb\" style=\"text-decoration: none\">&nbsp;&#x22A2;&nbsp;&nbsp;</a><a class=\"ProveItLink\" href=\"../__pv_it/demonstrations/5752559ce72a03180a98b2bfce8219065c9ddbf20/expr.ipynb\"><img src=\"data:image/png;base64,iVBORw0KGgoAAAANSUhEUgAAAR4AAAAYBAMAAADeyY9MAAAAMFBMVEX///8AAAAAAAAAAAAAAAAA\n",
       "AAAAAAAAAAAAAAAAAAAAAAAAAAAAAAAAAAAAAAAAAAAv3aB7AAAAD3RSTlMAInZUiRDNmWbv3US7\n",
       "qzJazP2FAAAACXBIWXMAAA7EAAAOxAGVKw4bAAADpElEQVRIx81WXUgUURQ++zPO7jruzkMUSNIq\n",
       "BEIUS4lQLy7SQ0TlvibKrkaQkLiRDxJRC1H5IGiC0g+1S3/iVrgEQT65FoqFoJhGD0XbUxBFWmn+\n",
       "ZvfOPbMzd2cmNnzxwLf33plv7vnuPefcuwCbx2yXdmc2kRwoCtq7NpMeb8aZII2MMDM5r0f/QbQh\n",
       "zM0TA7AHGEztqeGJBTVfYqGfQW+upvGF/jH6SSP5qUBw1rHeDbVLJ8Aey31TAcKrRHZUP3BbBke8\n",
       "25TIm3up+UNLAspJtzznlWSbLHw3Qjp1fhAioCDHPgbAMUzakznPKbUgqo2H6KdjFkTOhmIg9Ieg\n",
       "IAQKeD1BSH+jGfQHRLIw0bA4+J6GbbS9iuPn2FKqTxcJzxzZ5pQFkbOzRMc1EpwoQ66eMwVwPGNb\n",
       "BDfdSmOcC+aESWWXcSl71V2nK9Utz/4LYJ8VkTMy3QQ9XnoQ9OPXyYdZPRJ4Qq4eqCTjSqMe1+96\n",
       "pivGu6HUw/qwLGF6mhE5y4C4QttTCJLXjSFtf2bqwVu9W4ZWMqawTZdyaR+fURrnJO+GUpvL3mi8\n",
       "idQWSyJUl+sP3BpF8lEEwNaQFi/vywbWV+UOytK8Xk8NU+eK8G4IVVgIhbWzpWomakWE4oCY1m35\n",
       "D6W5ggBo0PKnd+AuirvHIFwHMcEVGBs5ung3hOqYB7e2le41sCLCfT0Rqpjw/QiAiKbn0GV1cItB\n",
       "nAVPkHTD+FwsWWFn+Cz5OZdM3kgmnyBdjIAvSLeJzYW7akZkr5BYuEZziFQuArw3k8nkY4zXSDuv\n",
       "x52GMC1bD5biBe8qmyVn2YRKdA/Riu9j+4MLMCG6MVh96gkCdPJBBAhpXb1/lvh4hf3QqYuWMwMD\n",
       "So44EoYwkOPnolbxO4IYLyMxrC8QWy/RTBP6AAIgodMjfkJ1LxjCAXjr0LJ0F0Cn4siV5t0Qqi9D\n",
       "ki1rnSnMVhMicZ9SebUPyM7SZXQgAMp0eoQ0XiJYfpLf0SdmndQRLT4l+mKQd0OoRTFJd75OqOex\n",
       "kUiKy5mt9yYZvKfVg6CVnW2BrJ4otEtM+hcGYepYyR7126/xO+BtWaZePSneDaVOt2lyzq9P4cVh\n",
       "JMLB9p3Z/1rL46PxRdp7hCATvX+m3u+rsjT6k82TYbCwYuDdWFLzJdoSDEoNHGH3BXcxmNxvOmvL\n",
       "uSYtqfkSLe5vzYYR5qtJm9E3QtyOsLQ6hKlJshl9I8R/Ll9ZmZ/B1EpN6Rsg2mUGK/sL85v9Js2K\n",
       "Q2wAAAAASUVORK5CYII=\n",
       "\" style=\"display:inline;vertical-align:middle;\" /></a></span>"
      ],
      "text/plain": [
       "{a in Real, b in Real, c in Real, X in Real^{3}, Y in Real^{3}, Z in Real^{3}} |- ((a * X) + (b * Y) + (c * Z)) in Real^{3}"
      ]
     },
     "metadata": {},
     "output_type": "display_data"
    }
   ],
   "source": [
    "InSet(lin_comb, R3).prove()"
   ]
  },
  {
   "cell_type": "markdown",
   "metadata": {},
   "source": [
    "<div style=\"background:darkgreen; color:white; padding:5px 5px 5px 10px\">BEGIN Testing: working on a generalization of the VecAdd.factorization() method.</div>"
   ]
  },
  {
   "cell_type": "code",
   "execution_count": 8,
   "metadata": {},
   "outputs": [],
   "source": [
    "from proveit import a, b, c, i, j, k, u, v, w, x, y, z, IndexedVar\n",
    "from proveit.linear_algebra import ScalarMult, TensorProd, VecAdd, VecSum\n",
    "from proveit.numbers import one, nine, Interval, Mult"
   ]
  },
  {
   "cell_type": "code",
   "execution_count": 9,
   "metadata": {},
   "outputs": [
    {
     "data": {
      "text/html": [
       "<strong id=\"defaults.assumptions\">defaults.assumptions:</strong> <a class=\"ProveItLink\" href=\"../__pv_it/demonstrations/6b1e9e959c68749b80c4916cb5b91a85363389be0/expr.ipynb\"><img src=\"data:image/png;base64,iVBORw0KGgoAAAANSUhEUgAAAl4AAAAaBAMAAACUWU/mAAAAMFBMVEX///8AAAAAAAAAAAAAAAAA\n",
       "AAAAAAAAAAAAAAAAAAAAAAAAAAAAAAAAAAAAAAAAAAAv3aB7AAAAD3RSTlMAZkRUmRDNuyLviTJ2\n",
       "3asqG0tJAAAACXBIWXMAAA7EAAAOxAGVKw4bAAAFF0lEQVRYw+2YX2gcRRzHv3e3m93cXc5NpYoo\n",
       "eiIW6oM5HxQVpemD9R/VFdSQWnoHWqiQ6lqt8cHqCWJRpMYHmwetbEAN2CrBttQq2hNStTWGSBv/\n",
       "tYcX1FRjHtKG1GAUnJ3dvezezcxubgN5yUC43f19vr/fdyczs7MLLElTLxweiI6Eg1645a/oiKfQ\n",
       "iiXor4yZ7omOhIMmcCw6Qgu1W0eJ9iXor9RAciQ6Eg76FB9ER2ihndbRg4zoRb3Pb+3VONLYo93n\n",
       "f3qCl1go9WhbtMaRcNC8k+8aR3yFYiXyy7xzYxeuvVi3jzv21AQVtRIf287z4JXWN1eb7kIEJBzk\n",
       "OvmyFAHxFRolCxlz/huvQElVnJNH6lKYMD7nWvBKGeUdbUcpAhIOcp3Iz0ZAfIWGAcnk5JGKBedk\n",
       "mpHijiaBhXkpszzVpuYiIOGgqpMjA40jvkJ5HRdkvdGvyuVCNY9hX4vP1ARpCqUmb3pH+XvUSusT\n",
       "O9rOAfVsA0goqMaJ/CZe0xaOMAs1aTjiXWpWHZ3v98wDzqRyn0DVoJXi903+9PEunSGtT+xoW/TY\n",
       "GwtHQkF1TkZxib5ghF1IMvCttRmb+JquAupmzzg9dEPRPm6aHM75giRF6sktzkly6FLr5yWdIZUH\n",
       "NWR0lja1b9hBjms4gUDkAG4V58HG4YfezzGdfDL0h4OshVwRI/jslKrxC5E92Di5trqo0DnXVKzm\n",
       "eXnrf24P5zfLs76gou7+5bRTUj2B263fLWBIk4keXAGu1kXeDkbOoC0rhNCenpRGuE5oM29CbEqM\n",
       "yF39HwrckKWpm0Cvwy7V5FkHW6v7sjU63vIFFbVvpbugt5g0iAJLup+kHQdXayMF3ByEjJAa9A74\n",
       "UKwYm8loXCd0y5lbj4whRKDqeFfghqz5j5FZOWXdNmmHy6QZdh7lPncFXAf84wuSIbq91Qnea3d9\n",
       "ag8J/oAaqd5csnuTrXWR/YEI8SmJoRSkgsAJHTvES3NJiJC2QRcUUs/hJNBsIE+fkh2efk+1uzvS\n",
       "nxGf9gVJigOKM0R7HS8GU9qmq3Pgat3RWwpEyLqRDoDsruA6cWYT3TYIEKh2Fk4h+Zw1vvIle5VB\n",
       "i3dfcvfO6vZLmvEFSQrpY7um/K9zbYQpXY/0FHhaF4EZgKyDUsFHARDairLOd2I1MgKPQYzgSjIM\n",
       "+YVUOh/zOYwnrOUhXfLk6UhrtnYOnZovSFLIxhdkopBjsimJW9eGwJI+B8VYydTaE4QitLQYIcuF\n",
       "KYY6sn8iCaYTe1JbmgpJJUYSOWT4hZCaJU8eKKXESbo84OFqnhcR07Yhb60JY3jKH1TUdrQqWfk8\n",
       "OSYPx710gcyxpPfgsGmytPaD10Lew6uAGOnH6ko8K4bWHLwTV4HphHap5VWqxM8GIIf6j5/iF7Jm\n",
       "NBmh8uTeXd/Q803bdPe9/Rl0P55rGbUuvqP5guSV/e+i8vQ0yuQ82XcZvSqfuRoM6b4bJweYWjro\n",
       "LUQac/69AuSuo7/1BUD3DyXW2r1Q54SeWF7licHZAMRM7M7yCyHWQ5Zk7/S9ZkfZ9+p3vSiY8Erj\n",
       "/c4rBlNap20MCQXVOZn3miwEIsJCUgXNWdFnMlMUTKJh6WIioaAknfqduYZvx57IGuf7hPv8LInU\n",
       "G9GwdBGRcJDl9TQmGr4d51VHR0r0/TstVAttpoOrLw4SDrK8XjeYbfh27HY5+fsVyy1s+5Hz/X65\n",
       "sT/mW0MwYS53RMhmvwmsWO6IkO024H8BqYaYE8BD1wAAAABJRU5ErkJggg==\n",
       "\" style=\"display:inline;vertical-align:middle;\" /></a><br>"
      ],
      "text/plain": [
       "<IPython.core.display.HTML object>"
      ]
     },
     "metadata": {},
     "output_type": "display_data"
    }
   ],
   "source": [
    "defaults.assumptions = [InSet(a, Real), InSet(b, Real), InSet(c, Real),\n",
    "                        InSet(u, R3), InSet(v, R3), InSet(w, R3),\n",
    "                        InSet(x, R3), InSet(y, R3), InSet(z, R3)]"
   ]
  },
  {
   "cell_type": "markdown",
   "metadata": {},
   "source": [
    "Some work below on a possible function to check for a factor in a vector expression, the issue being that we might have a vector expression with heterogeneous components such as a VecAdd of a ScalarMult and a VecSum, etc."
   ]
  },
  {
   "cell_type": "code",
   "execution_count": 10,
   "metadata": {},
   "outputs": [],
   "source": [
    "def has_factor(vec, factor):\n",
    "    if vec == factor:\n",
    "        return True\n",
    "    if isinstance(vec, ScalarMult):\n",
    "        vec_simplified = vec.shallow_simplified()\n",
    "        if (vec_simplified.scalar == factor or\n",
    "          (isinstance(vec_simplified.scalar, Mult) and\n",
    "           factor in vec_simplified.scalar.operands)):\n",
    "                return True\n",
    "        else:\n",
    "            return has_factor(vec_simplified.scaled, factor)\n",
    "    if isinstance(vec, TensorProd):\n",
    "        print(\"We have a TensorProd: {}\".format(vec))\n",
    "        return any([has_factor(v, factor) for v in vec.operands])\n",
    "    if isinstance(vec, VecSum):\n",
    "        print(\"We have a VecSum: {}\".format(vec))\n",
    "        return has_factor(vec.summand, factor)\n",
    "    if isinstance(vec, VecAdd):\n",
    "        return all([has_factor(v, factor) for v in vec.operands])"
   ]
  },
  {
   "cell_type": "code",
   "execution_count": 11,
   "metadata": {},
   "outputs": [
    {
     "data": {
      "text/html": [
       "<strong id=\"example_01\">example_01:</strong> <a class=\"ProveItLink\" href=\"../__pv_it/demonstrations/744fc8e1e52eb75d2253bdcb10fc0eb10539cc7e0/expr.ipynb\"><img src=\"data:image/png;base64,iVBORw0KGgoAAAANSUhEUgAAAFMAAAAQBAMAAACYUF7xAAAAMFBMVEX///8AAAAAAAAAAAAAAAAA\n",
       "AAAAAAAAAAAAAAAAAAAAAAAAAAAAAAAAAAAAAAAAAAAv3aB7AAAAD3RSTlMAEHarMolUmd1mIs3v\n",
       "RLtmgJDEAAAACXBIWXMAAA7EAAAOxAGVKw4bAAAA50lEQVQoz2NgQADeCQxoAFMECtgUCIsQq1RI\n",
       "WSQ0AUVCqJKB0QBVqUcLF9AtBUxG7A0oEgE5DJwfUEQYN8UFMzBwLuD8yDwBWYIloYKB+QGKUi4B\n",
       "hkCgBAP7BhCPvaOj50RHB9BiRoZDDDwKyCJAICoAInkU0DzB+5HB3wHVrVwQxv0FjAIoEkBrdNBC\n",
       "4CbQLga5CzYMrKgSfAYMj1FF2BIYmBkY8h1rGK6hSrAb8P5EFfGLU21hYBBXYqtMQJVgNFX/hSoS\n",
       "wHb6Ao64Yd1AIGJhiSOaQSaBQHKBgSYGUwYiQab6BWzCAFUfLyJXTnEIAAAAAElFTkSuQmCC\n",
       "\" style=\"display:inline;vertical-align:middle;\" /></a><br>"
      ],
      "text/plain": [
       "<IPython.core.display.HTML object>"
      ]
     },
     "metadata": {},
     "output_type": "display_data"
    }
   ],
   "source": [
    "example_01 = VecAdd(x, y, z)"
   ]
  },
  {
   "cell_type": "code",
   "execution_count": 12,
   "metadata": {},
   "outputs": [
    {
     "data": {
      "text/html": [
       "<strong id=\"example_02\">example_02:</strong> <a class=\"ProveItLink\" href=\"../__pv_it/demonstrations/46a10a5540de54ba80c68b0626f85a20a12470a10/expr.ipynb\"><img src=\"data:image/png;base64,iVBORw0KGgoAAAANSUhEUgAAAKkAAAAVBAMAAADP89MSAAAAMFBMVEX///8AAAAAAAAAAAAAAAAA\n",
       "AAAAAAAAAAAAAAAAAAAAAAAAAAAAAAAAAAAAAAAAAAAv3aB7AAAAD3RSTlMAEHarMolUmd1mIs3v\n",
       "RLtmgJDEAAAACXBIWXMAAA7EAAAOxAGVKw4bAAACUklEQVQ4y42UT2jTUBzHv2nSZqlJiZvag6OG\n",
       "zjkYDupgB8FDHCiyi3VSD3qJB/EvGBShRcEhKj146MmBF8tE8FiP3spOIkyC4K6WeRuIm4jgQPC9\n",
       "pH3pe32BvENov98Pv/x+37z3ANnKy8R2KilBpOuYTPwyomS8dFy0clWZmmmJyjWk46J1WC6/F/4r\n",
       "nTScNXhJQ06vCpw+1NR0bdkWuf7gTv9HV17VtHnOjK1FG8qcyPF0LmGyfS2eu80cbZs8SsEQNz51\n",
       "oOZxtE4/1pvltTjA8okzl4Bsha/6gFl6tg3Fv4DxBpRKyPmZeX2Fo+m7rE/4yQbRMeXUAaPDV/3A\n",
       "rFlcRhEHUb0DY4dyRtvYVVscPUZan2yhznp9hdf2SeJ3+arPmUX6W/Khal4dao9yGvSwBb3ZfPGx\n",
       "2aRDmiSgx8AzKh+hpouHYXo7PLfBLBLZfZKQgnWYTsSZjvC1aNXPUP6FffuhtB7uKKHXDWb5yNdc\n",
       "koa1i/NuxH1rK7aYgPKLBhTv5D3sJ/7KaAKR5eMt5khVMvbxkCsFp5Dl6YID5Q/Uzq3BFvihdumQ\n",
       "Ro/ntph1VqsiE2yiUMH3kLt7+hE2eZrujC3c8P1BMr+LXcvr77gh7iKzMl/plVSFXrH+hlyxnGt4\n",
       "PK2RSSeml+bdQa/3nOsvaTIBz52LLXoKJsj5WpjZiznhxD6Vn613AjfmMss4isVwe2Y7MSfcLqvy\n",
       "qg2BM/zYO1S+Sp5XMOklXk4F6XWe74nKtig8wYKM6wfZS/eukijcnAmSeiJrTSbOjnbvJHD/ARmd\n",
       "jEVOHIXlAAAAAElFTkSuQmCC\n",
       "\" style=\"display:inline;vertical-align:middle;\" /></a><br>"
      ],
      "text/plain": [
       "<IPython.core.display.HTML object>"
      ]
     },
     "metadata": {},
     "output_type": "display_data"
    }
   ],
   "source": [
    "example_02 = VecAdd(x, ScalarMult(a, x), TensorProd(x, y))"
   ]
  },
  {
   "cell_type": "code",
   "execution_count": 13,
   "metadata": {},
   "outputs": [
    {
     "data": {
      "text/html": [
       "<strong id=\"example_vec_sum_01\">example_vec_sum_01:</strong> <a class=\"ProveItLink\" href=\"../__pv_it/demonstrations/e32ee2519d7a4ef6ba8f8947292588c454a90c8a0/expr.ipynb\"><img src=\"data:image/png;base64,iVBORw0KGgoAAAANSUhEUgAAAFwAAAA9BAMAAADSaROUAAAAMFBMVEX///8AAAAAAAAAAAAAAAAA\n",
       "AAAAAAAAAAAAAAAAAAAAAAAAAAAAAAAAAAAAAAAAAAAv3aB7AAAAD3RSTlMAdomrVDIQIkTvZrvd\n",
       "zZlR4kicAAAACXBIWXMAAA7EAAAOxAGVKw4bAAACnUlEQVRIx+1VPWhTURT+8vNuXhPzfEmVtg4l\n",
       "rX9T8dHBwcVMQsWfVATHRq2WVqxRHASHpuLili5dk6EgKmpBsEIH46A4CM0siFEHoVZqq21sqFzv\n",
       "T3w/hfByce0ZLufd+917v3PPd84DhCWTULBQKmwpwHdmyLoCfCKH3wrwtrxWV4Drz8d+qcQ6nKkp\n",
       "oLWsXlaAx0rxjAr3h/uxbf9nH6ljK/7w01QmiNxqL260UBnUTn90Ie2PX/hpu8asP3yIlmz/qxgj\n",
       "TZBiPkAd7UbFuKuZskw+vtz0zoZTzYjs4cMorXomrzblHc/yO6i38BYdN9nbk3WtRMW5hzbccyjY\n",
       "3mAWpNO9NC3uoBU3dftDm2PDlbxr7b1IaHHVNWWwSEni8Jl9MII5kOoBnF8EkU1ur0cIMh6WBgPt\n",
       "5hI6cBDjuIDUAKI/MMLWHssD6bQD38GUcB9Ps0dgIXiuipCWXkJoFj1sbaAhhBV3RwMy+M48xuoL\n",
       "ECSYQpspFdDokWUvHAwBVBHpzTBi+jqGJNt7EtKV85KBXsNlBr+BTgY3KujCJA/2hBTDmrtFmSAv\n",
       "QgVG5ayWQiB/FzELz4jJO/ojScmt86CF8Np4QU8jcIfrLQXD0uuRYc73s3j3KU+/LIN8Mk/NMJen\n",
       "6SLLbH93jV8KvBUv7ZXYa0cjuzEoiiFYwbVLTPDiRea9unvi6uOJY2zsw2gaJw2WH77XeOPoRcSa\n",
       "26LbV+hnpDqA2/zrgbM8I0LZWrHHuxsym/O+Ylhq93qT6gjwcyfsVyTLVd9G4LzizaPU/xcS//NB\n",
       "2LsipZv+bWbZ1SPr278Mj42owXv+OWMVlW1aoqx0TbgV+KSlAucl/m2eWakluCzx1snETCU4K3EF\n",
       "MqLEFU7nJS6j6Fs1/cB/ARkLue6vFiEoAAAAAElFTkSuQmCC\n",
       "\" style=\"display:inline;vertical-align:middle;\" /></a><br>"
      ],
      "text/plain": [
       "<IPython.core.display.HTML object>"
      ]
     },
     "metadata": {},
     "output_type": "display_data"
    }
   ],
   "source": [
    "example_vec_sum_01 = VecSum(i, TensorProd(x, IndexedVar(y, i)), domain=Interval(one, nine))"
   ]
  },
  {
   "cell_type": "code",
   "execution_count": 14,
   "metadata": {},
   "outputs": [
    {
     "data": {
      "text/html": [
       "<strong id=\"example_03\">example_03:</strong> <a class=\"ProveItLink\" href=\"../__pv_it/demonstrations/137529d7e406faf502829168a5d2cc0b509da0490/expr.ipynb\"><img src=\"data:image/png;base64,iVBORw0KGgoAAAANSUhEUgAAAUEAAAA/BAMAAACMf2cHAAAAMFBMVEX///8AAAAAAAAAAAAAAAAA\n",
       "AAAAAAAAAAAAAAAAAAAAAAAAAAAAAAAAAAAAAAAAAAAv3aB7AAAAD3RSTlMAEHarMolUmd1mIs3v\n",
       "RLtmgJDEAAAACXBIWXMAAA7EAAAOxAGVKw4bAAAFrElEQVRo3r1ZS2wbRRj+17G99sZ23AcJhChe\n",
       "pYWKQIkpygFRKW4lEOISkxIO9BBDQYASKREoUiKqxgIEPhTqCw+BRCwQN0SChAQVEkl6QOWlWJGo\n",
       "iFQRC05UQJI2TUIILLOvmdn1TBnvYebgXc/+/zff7PzzP2YBZDVVt6+hgbyYgvIpyG13OtdeOCWo\n",
       "cbdcgskd52YDMmkxlVReKsOOsn3VdqClKrjMX0tl+KJ78wP0lwV1RtISCYY33Luf90wXBJViYxIZ\n",
       "Nmfx2j3VUhFUiu5IZDiKWR2Dn4S1vpLI8A189xt8Jj6vnDwz3MS3y2+KD5uQZ4hNa8Hi0Jo0hplg\n",
       "LyP5lzSG0wEN6jtpDFcD6k1VZDH8N6iTKksimLweUHEmKys3/MeKKwbVdDF3My8r5q1bQcxwgnP7\n",
       "0lFDbOjUuiSGLUXr0reNe97ZFFIMbUpiOFOzcxWDmNUZsdxhi/eEtck1oS5m56jtsMMG8cBqhQtA\n",
       "9Yd5TiDEyuCS9cZ9O4jJ9ThdPQaZepkLQGEo2xyBp5m9d9StQV5MDqacGaeMoggAhWFwCoRZ9o70\n",
       "J+W3gpgcrDpBT1ncEgGgMM55sZZdG2F78rgT/pPu40ny7LbBgbRfDuPBnLu4K4bHfjgAFMacd0c8\n",
       "6fpJzsQWnLVxDY34tONpUA775TAeLLqDR4wFGpAHQDBWq0yGwxyG570Mo9gYwlfQT2fVJ0cYEmua\n",
       "+5s2Qx4AwehD73zvgf2DBS/iuLnfe7vJnnRkTngZqsjOla57HngM1EgFlLFHYO8kKFksx2LYYVCb\n",
       "gwsAGMNkOBY6oha9iCb/yxUq4jgy73kZNiN7VOGAPgHd8Di0wU2QH4H4GpZjMcSR70YA7YAxpsoQ\n",
       "r8TXm8pexFfR1L4BFXsGV2bEyzCG5vcuTKfvgyxEHh6DpnBhAppqWA7jKZTPmNolG4IHMAAYAzEM\n",
       "g2pbw0Sp9H2p9LJ9LGBWCDFzPTLmQ1em31yZUunsxVLJXIoEspucdZiAJF9A20CBC5DQbTkaT9ml\n",
       "qnQqq+ECOGOhNmT+S+j+nYIYJmqQqZKy35a57H2HCcuyL5hWANpgDi1Ych36c1iOvEOKoUZFCS4A\n",
       "GctiuFJR0nWrnNFhmtpZtsyz9atsnmntQQN8BIfRAOhV3wVYjskw9C14VpkBsJQlGIhhZ/UoRHyI\n",
       "vyCGBbg/6npLV+Z9L8OUDsofTfNoiR4M5yFUvQSpLPxK5Fg7BVaomooNoOjrBAPZ4eix03DJh3jC\n",
       "VI6+puLUxJEZ9zKMZCG60TafLEDoRzMLyIOaterHcT7DMJ3wsQG01iLBQAzbuqKTBR/iQ2hhjjz6\n",
       "4UEXyZV53cswXATlef2Zt9Ct6XD3obDQe2iHyDH9IZ34cABSOsHoKzBjSoxd3WpFX9R7hYTRg3Dc\n",
       "clmRWSJHRT0s+LkHkQ2Q2U8wfAyX/aHfVw+VfZnD2+RZa9cT6PckdBSoxANnDjhDSdU8iGyAYZVg\n",
       "rHKOAq4wez+pq3P8qfhL0MuSI+NMEHdd4ALs6yYY5zglfacYb6Xm63juUJU5vyknJ4gTVxMv8AEo\n",
       "jEVemcCqZkP10/kAxOR6ynWuZoQPQGPsyjpYshMajbiati0hRW1bEsOVrNfVaKfoFOdGxynXZB0f\n",
       "2snJ3JdW++KsYfhKKl6LX5XEMGadpar0uY3YoZa6IYmhGvSzQ7OsY+J40NPelqIkhtpWQMV+aR8f\n",
       "LwbU68nJYjgU8Bvi77IIwoztCdsbVFOuSWPYbDvEAff/LbNiO2xDGsO4192Eu8T2aHNRGkPF9zEg\n",
       "Kjb0TFkaQzht/ixlG2Q4JI+gWd2CWcSd+RO1siBD5apEhqF55Ldbi429Q7UokSHK78Eu4hpgOFOV\n",
       "yXAFZc2oiGtole+VSdAqU4fVht5hfEEqQ/OoxSzi7Ezi5HX9/zU+zslleHPD452XSxC0Rhkq9j75\n",
       "D3NdrTfbIyLMAAAAAElFTkSuQmCC\n",
       "\" style=\"display:inline;vertical-align:middle;\" /></a><br>"
      ],
      "text/plain": [
       "<IPython.core.display.HTML object>"
      ]
     },
     "metadata": {},
     "output_type": "display_data"
    }
   ],
   "source": [
    "example_03 = VecAdd(x, ScalarMult(a, x), TensorProd(x, y), example_vec_sum_01)"
   ]
  },
  {
   "cell_type": "code",
   "execution_count": 15,
   "metadata": {},
   "outputs": [
    {
     "name": "stdout",
     "output_type": "stream",
     "text": [
      "We have a TensorProd: x otimes y\n",
      "We have a VecSum: Sum_{i=1}^{9} (x otimes y_{i})\n",
      "We have a TensorProd: x otimes y_{i}\n"
     ]
    },
    {
     "data": {
      "text/plain": [
       "True"
      ]
     },
     "metadata": {},
     "output_type": "display_data"
    }
   ],
   "source": [
    "has_factor(example_03, x)"
   ]
  },
  {
   "cell_type": "code",
   "execution_count": 16,
   "metadata": {},
   "outputs": [
    {
     "data": {
      "text/html": [
       "<strong id=\"example_04\">example_04:</strong> <a class=\"ProveItLink\" href=\"../__pv_it/demonstrations/cf976e5ea5f4e9577fd9af3711c2fb934f1e91020/expr.ipynb\"><img src=\"data:image/png;base64,iVBORw0KGgoAAAANSUhEUgAAAWkAAAA/BAMAAADQ9SQjAAAAMFBMVEX///8AAAAAAAAAAAAAAAAA\n",
       "AAAAAAAAAAAAAAAAAAAAAAAAAAAAAAAAAAAAAAAAAAAv3aB7AAAAD3RSTlMAEHarMolUmd1mIs3v\n",
       "RLtmgJDEAAAACXBIWXMAAA7EAAAOxAGVKw4bAAAGNUlEQVRo3sVaXWhcRRQ+d//u/iS72x8TjaG7\n",
       "pNXSaM1aiSAWsi0o4kvW1IjYh1ytopJAghJIsDQXFd2HavfFHxTMovgmJqJQi2CSPkj9I0vAYqC4\n",
       "QZ8s1WTbNIlp9Dpzf2bm/jWz+zIDk717ds43371z5pwz5wZAZJOzxmegr8CnIH0B4ttd5mc3nODU\n",
       "uEc86eZN82IVMmk+lWRBOOv2kvEZ34RUhdNEvhPO+hXr4mfoLXHqDKUFkw6tWle/7ZhUOJWiI4JZ\n",
       "J3Jk3Z9NlTmVIpuCWQ8TpkfgV26tbwWzfptc/Qlf8d9rXqxZr5HLxXf4qTSJNezgSmPxdEUo60xj\n",
       "D635H6GsJxs00B+Fsl5uUG+iLJL1f406zJJA0s3XG1ScyonMrf/V46PGtCyf65sVGc9reoDWzGSk\n",
       "beGwxkcnWRPIOqXqHz0bRPL+GpdiYE0g66klI4fTqJme4suf1v1+KW8rQLm82T3EPMJhI8iENBo1\n",
       "5LIvACMP+TmfgLKdADuBrNEd7U5Ph+Ee12WKujT6REq+AAyGtOEz4Dm3QLqiOoUHzG5fP++D3QF3\n",
       "sDAfRFJTeQAYDM3ncDbtIUi40oZE2ui2druPx3AdnJbNgC7Nr/MAMBhn7FiLln05ow8WpFxGEhsx\n",
       "ur58lso4/f2O/r40O9Y2B8xYhlHVbMg+AAzGjH2TPWP5cZdjx+DuY+ac2fG6WoZLfe7RNEgHbWPZ\n",
       "OWDewgtrcyyoHwDFWK54sh500sOCJ91Lds7sDOsIMa7QZfRnT4Uda2NNrXPmBmvWfgAUowetzc69\n",
       "u/sVO+Io9jPdnXTfY8GXHfeT76bOMTA6w1pGe0nquPehJ0AOl0EaeQx2joOUI+O8WLdrzAb0BaBz\n",
       "YdYjgUOyakfE93SpzEROJJBupDPEnkydD8HoDOsEsm8Z9mbHoBOegla4BQpDEFsh47xYk6h+M4A2\n",
       "OtdECWLlWC1YsiO+gUh+DzL1SEgQqUGT9fAtnSEwOsM6ip7DBzCZfgByEH50BIIhZQyCS2QcmUNi\n",
       "/NfEFt0zfgB9dC7EOgSyYUljxeJPxeJrRikIn86ieN0y05ZgGlIF87ul02t2uVg8faFYxMvYhOww\n",
       "rxeV0OCX0VaT4Lx+u72OOaQtpjLDZHu+AOZcqA3gb+QRkueASDYtQaZCSj1IgO6hqpDSj6FzyezM\n",
       "s27Sd895bEUQ78+jxW6uQW+ejKPPmmEdZ6KdLwCdS2ddLUtpl4VksjAJrIUgdz1B19HQeQGM7rAQ\n",
       "XCvdgSb9FA6iSdGy3E3HebIO/AA2C/EAWMhRDMR6T+UwhB2IvyPWCjwYIbsPCVJ5ZOpms3Q+MjvD\n",
       "OpkF6a/gLFreh0MFCFQuQjIHf9BxXrsRqsy51xtAytYoBrLr4SMn4aID8RhWjrwpEygkCJaSJKRb\n",
       "OqNmZ1iHcxBZbZ1tViDwC86ECiDn9FrAqD/rEJswewPEW1SKgVi3dkTGFQfiI2gBDz3+yT4ChQXd\n",
       "NNRaOm+ZnWEdUkF6Kfv8u+gSB4ldKLx179+k4zz9NZsQ+gAksxSjR/GMjVFnpSLqWbqIq0a3RfTX\n",
       "adqwD47qLjU8TccxEZ0MPGtD9QbI7KYYDtaLzlQH/AQkp7ISLZI9vUd/b+l4Gv09Du0Kk5CR7Ilk\n",
       "bsklG6o3wKBMMZZ9yj+XtxXg9rnZ7WdR56nnVej2GkfnHqOuSfEF2NVJMc74lHH2bCuwbsV1O9KS\n",
       "Q/Di/ornbU+YeVGMur2Y4g/AYMz7HdGy2wmwly0b3dE+9jzSucd1lVxub8gfgMXYElmcNBK9OHV7\n",
       "retcivENgayrObvbi59gU7+bldquiSxfG0nbzDd6+/q0pmkql2LsqkDWUb3mL7N1Pr5iqbwqkLXc\n",
       "6Cu4hMhXHLFG31SkVIGs4+sNKvYK/QeACw3qdeVFsh5o8D3+FZGkYcrw1G11qknXhLJOGA67z/p+\n",
       "2zTfLl4Vyjpmd32hDj7fkFCFspYcL8EifHSmSkJZw0n8ZyFXJ+sBsaRx9QLw4fvU36iVOFlLVwWz\n",
       "DsyiWNOi1vesZVUwa3S2AuPwXQfrqYpo1lV0OkGH77os5D7RpPWSw6Bc17OOzQlnjStx+PBtZFPH\n",
       "r2e31/gsL571rXVzOCeeNMTrZS0Ze/F/+47RWbydTUsAAAAASUVORK5CYII=\n",
       "\" style=\"display:inline;vertical-align:middle;\" /></a><br>"
      ],
      "text/plain": [
       "<IPython.core.display.HTML object>"
      ]
     },
     "metadata": {},
     "output_type": "display_data"
    }
   ],
   "source": [
    "# containing a nested ScalarMult\n",
    "example_04 = VecAdd(x, ScalarMult(a, ScalarMult(b, x)), TensorProd(x, y), example_vec_sum_01)"
   ]
  },
  {
   "cell_type": "code",
   "execution_count": 17,
   "metadata": {},
   "outputs": [
    {
     "name": "stdout",
     "output_type": "stream",
     "text": [
      "We have a TensorProd: x otimes y\n",
      "We have a VecSum: Sum_{i=1}^{9} (x otimes y_{i})\n",
      "We have a TensorProd: x otimes y_{i}\n"
     ]
    },
    {
     "data": {
      "text/plain": [
       "True"
      ]
     },
     "metadata": {},
     "output_type": "display_data"
    }
   ],
   "source": [
    "has_factor(example_04, x)"
   ]
  },
  {
   "cell_type": "markdown",
   "metadata": {},
   "source": [
    "<div style=\"background:darkgreen; color:white; padding: 5px 5px 5px 10px\">END Testing</div>"
   ]
  },
  {
   "cell_type": "code",
   "execution_count": 18,
   "metadata": {},
   "outputs": [],
   "source": [
    "%end demonstrations"
   ]
  }
 ],
 "metadata": {
  "kernelspec": {
   "display_name": "Python 3",
   "language": "python",
   "name": "python3"
  }
 },
 "nbformat": 4,
 "nbformat_minor": 0
}