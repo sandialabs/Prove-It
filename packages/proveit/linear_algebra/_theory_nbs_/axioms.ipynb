{
 "cells": [
  {
   "cell_type": "markdown",
   "metadata": {},
   "source": [
    "Axioms for the theory of <a class=\"ProveItLink\" href=\"theory.ipynb\">proveit.linear_algebra</a>\n",
    "========"
   ]
  },
  {
   "cell_type": "code",
   "execution_count": 1,
   "metadata": {},
   "outputs": [],
   "source": [
    "import proveit\n",
    "# Prepare this notebook for defining the axioms of a theory:\n",
    "%axioms_notebook # Keep this at the top following 'import proveit'.\n",
    "\n",
    "from proveit import Function\n",
    "from proveit import m, v, x, y, A, B, S, T, V, W\n",
    "from proveit.core_expr_types import A_1_to_m\n",
    "from proveit.logic import Equals, Forall\n",
    "from proveit.numbers import one, Add, NaturalPos\n",
    "from proveit.linear_algebra import (LinMap, LinMapAdd, \n",
    "                                    TensorProd, TensorExp)"
   ]
  },
  {
   "cell_type": "code",
   "execution_count": 2,
   "metadata": {},
   "outputs": [
    {
     "name": "stdout",
     "output_type": "stream",
     "text": [
      "Defining axioms for theory 'proveit.linear_algebra'\n",
      "Subsequent end-of-cell assignments will define axioms\n",
      "%end_axioms will finalize the definitions\n"
     ]
    }
   ],
   "source": [
    "%begin axioms"
   ]
  },
  {
   "cell_type": "markdown",
   "metadata": {},
   "source": [
    "TODO: We need axioms to define vectors spaces (over fields and for specific vector addition and scalar multiplication operators to be fully abstract; alternatively, we could use the normal addition and multiplication operators and use literal generalization to be more general).  We then define a LinMap according to its properties (see lin_map_domains and lin_map_linearity in the theorems)."
   ]
  },
  {
   "cell_type": "markdown",
   "metadata": {},
   "source": [
    "Define the addition of linear maps."
   ]
  },
  {
   "cell_type": "code",
   "execution_count": 3,
   "metadata": {},
   "outputs": [
    {
     "data": {
      "text/html": [
       "<strong id=\"linear_map_unary_addition\">linear_map_unary_addition:</strong> <a class=\"ProveItLink\" href=\"../__pv_it/axioms/1d473be022c527e5b968d7638d2c904dc87e0b9a0/axiom_expr.ipynb\"><img src=\"data:image/png;base64,iVBORw0KGgoAAAANSUhEUgAAASQAAAAZBAMAAABqRE4YAAAAMFBMVEX///+IiIgiIiIQEBB2dnbu\n",
       "7u5UVFTMzMzc3NwyMjK6urpmZmaYmJiqqqpEREQAAACk/Np2AAAAAXRSTlMAQObYZgAAAAlwSFlz\n",
       "AAAOxAAADsQBlSsOGwAAA/BJREFUSMe9V1+ITFEY/83uzM6dvXfuTIQXso2QB9nYPAgNlgehISkv\n",
       "a/JEUlMkeTEoT2JSygM1K5Qik0QYGSQrU0YRsjGS7NPslr9Z/77vzNx7z9wzdxhlT917/vzud77f\n",
       "Od93vvNdoGnZHEtjTIsvNvsPX2Qw5qX4vyilMW6m1a61NAfzFPqPlHwlrHR61eYUq9vvJdVfpVTm\n",
       "atCbkslVuNAipSdQKIXj/LrRa2SJr1IcoIjrPHDcm5KepSrUopMHMiqljfx6g8AwcEyVcIAidrGV\n",
       "y96UgkmqDre4SXqhxqOzYFPK83gOeAA8VAUcoIhQAvCXmvgSM1/dIqV221pRm1I3PZGUcJj2hFtA\n",
       "AoowaB2hZu5d/AcvP6dS6uQ5LpKy3aRPcU0JIH1zY7GeZpTaY7Fp8RYpXVYp6TzHkY8p7vuTbgEJ\n",
       "IEpXgXfNKOkpmIkG0HP15NutEyolsTO+X7+2UGWIXb8U4zKjKuoAROkgtCQM2ojw4hTu9uBOD/p6\n",
       "JEqEHuSNXzJ5kjX66iNJZy0ZY16cmoG3ceSsD2arlNqEv+4b/sCjXcpyHIAomQk/nfNlpJu21iyj\n",
       "IwMjJYfKd2LKxwiOIDixQt/qT2PABlsGFWArcB84bYktEDx0Mjm5RVLIt2er0C2qaSa1WECRF8Le\n",
       "/ToBP1s8g3XdWFsXvR+LNx2YJG4Irr14Bo5nNRlcQ2AaArQfoUQdpbpdYkphqjfRbnV2uwOlBIjj\n",
       "dJv9K4sBtmk3Vo0gWkcpZHD/O11BPnFStE/87rJlMB7+R8KR7GBysoEvEdbBihKW4SRfkgGmtJoj\n",
       "TySqsb7wSHjPp2C2jpL/BS9+6s8C+sSYnwOrlrFl8BrPLib2sHTOjsUKJZNap2qH0XCHZhlgSgf4\n",
       "SIaSwgbBrz7ti6/+2tXmizvi5Wecr8ZB5tFZtmWwNx09korWBkVZoVLi830pXj3/etRFSQaYkskO\n",
       "ondNEIq/RfHjnisTeM8AacaDSqVSwl7etHDSlsGmfkQGeTBYllbtDpVkk9zZK9u53+a+MmXATk6M\n",
       "b1U/GC1htNAgObnAF91O0dxGT4q1WzKRm4jkIRuuLaVeKDOdWfd7hcH9cr4UHKWdoBO9GJjVKF+6\n",
       "AmyphkztZ/6MmWX3ZhmsJ0uW0SY+9FkGMXLqtSvdtXkvSvm6FG46qVgEDLHqBpSuLulNQ2MT6ufX\n",
       "zHkvPmQZ7CjBTKNDmMK0DTKkJicO6Jl4CKCohIemWeX6SsU6jXZYlLKIPrnlphSwiTS8n2ygntLT\n",
       "FhJdvbbosDT/cme9BSx1cu8Fojpk9Qe85hxQc+9CK7l3Tb/hjBjZsfhDOer9Hxf4i5F/+Y9b+BuI\n",
       "myJz7NKb9AAAAABJRU5ErkJggg==\n",
       "\" style=\"display:inline;vertical-align:middle;\" /></a><br>"
      ],
      "text/plain": [
       "linear_map_unary_addition: forall_{V, W} [forall_{S in LINMAP(V, W)} ([+](S) = S)]"
      ]
     },
     "execution_count": 3,
     "metadata": {},
     "output_type": "execute_result"
    }
   ],
   "source": [
    "linear_map_unary_addition = Forall(\n",
    "    (V, W), Forall(S, Equals(LinMapAdd(S), S),\n",
    "                   domain=LinMap(V, W)))"
   ]
  },
  {
   "cell_type": "code",
   "execution_count": 4,
   "metadata": {},
   "outputs": [
    {
     "data": {
      "text/html": [
       "<strong id=\"linear_map_binary_addition\">linear_map_binary_addition:</strong> <a class=\"ProveItLink\" href=\"../__pv_it/axioms/af1d1f2357c516bfb9a3a5520651290a955903dd0/axiom_expr.ipynb\"><img src=\"data:image/png;base64,iVBORw0KGgoAAAANSUhEUgAAAg4AAAAZBAMAAACr2bsAAAAAMFBMVEX///+IiIgiIiIQEBB2dnbu\n",
       "7u5UVFTMzMzc3NwyMjK6urpmZmaYmJiqqqpEREQAAACk/Np2AAAAAXRSTlMAQObYZgAAAAlwSFlz\n",
       "AAAOxAAADsQBlSsOGwAABsBJREFUWMPlWV2ME1UU/rrb2XbbabfRgA+i1KLiTyBlWXlQJEVXjCuQ\n",
       "gfjiy7KSSCAq1JAYw4Nb/0hMkN2YQHxAXdCQaEAKISB/sf5FBCJdQYiBxIphJRjZNbpgdoH1nnvP\n",
       "tHNnulOzhgfxJGd67sy539z7zTnn3pkCvrI4lcP1L4HUlBoe3fh/yJFry8MNk2s45Fh9HRy/1XzD\n",
       "HjNcEy9X0UAqe815aKsVkEWlo8vGiqOjqcktHjOS8LuhjWNrsId4KNHp06PzEKefWGGsPPjDH2fF\n",
       "qZ2ZQ9oVI9W3eOryVIIHftw1D4fEMnTY12r2KNNFjZSFU5ek+s7cpuPYqnjYS6ffHp2HqPBCY26s\n",
       "PPjCG91KEU+gfUB/cE+jPomGAtbZjkrWeUCepMNPMPrZJGm0dJ/xFpqBZ104rIqHFyifSqPzEOoQ\n",
       "P2vHnBe+8NGCUuwDTB7iFvXTAHTlIZ7xYdtRyWEPyH66nge+UaYUM88Jwv06EB4GDrlwWBUPRF2w\n",
       "6FMfiLV5Y+bBF76eFZcqOd2rftYAR4sIWKi3bCfVxXKDpIU2ZWWqp8sn7+OcUaDhAswrwDgXDqvi\n",
       "wRQUNfrVySP/oly2+cN/yBq5DIRyGg9ibCssxETnAjtxxLsrVYTGtk2cfVGZSjZoPEREfA0CRRcO\n",
       "q+IBzalUix8P9anUpMzY1ws/+J2s4ZFHy+d6y1azPAY7lJNxcwJTuKnlFo2t688smwu2o06E3xyN\n",
       "B3r+SXhwWJmH3cBZPx6iWcQtn7nGPDU04OTBD36D/eQmjlzMuXmgjAbXDeEUjKUxwy4jO1Ikd5YD\n",
       "JDAyslSZmWOo75DFQuehKw8PDivzsBrhDpjikcdmZfFFCz5vQXuLgwdxdTXF1uwJN4lu98554PHy\n",
       "JjTWn6HqI3rg2C8wp2cEjPFzBnkHDxK+IuyrZAorwreOpN08UEbTPZLK6c1oN616sumUOll8Xu7/\n",
       "Q5rh4h65en7n5uFoER4cVuYhbpHxsBiM6B8voaEbZta5jzort0O9CImVrcEyB8TM8fzy8+LcgYVJ\n",
       "GCKwxBxeE80LwDLga+ADBw8KXgp1sn2l3M9KMT3Ez3k6P2eZ0ULoruRk1SewlZtarWX0T3vINDAN\n",
       "ETHlToIUCS2yUj2FFRY8OKzMQyxBdexHUTepbzcWprFA20/2ymOaVh9RxhtKOIjobpm6mViW9hcx\n",
       "MWLK0j0wJsFIOJbvNhteTpU62b4aD2LgxhV3PKiMRiTNTtssJLjp5kGUUywqSjMyKNPyfXc8NJdv\n",
       "WMFhZR7Q/RnlT4+Ynki0NOYOIKHx0GhS+7LcjOcg6Mxhgso5mm6dCKQhmJTeNyJ4VI6ivFC2MXxk\n",
       "PFpVJ9tXyjusguDwoJsHldEqEchphyRQ5YWzPhTlZoMGQ2Y0KZ+nOy+42Og4el5gHu0QmhJhKjix\n",
       "gdiqwVCPxkPwB5rvxKtqxeoSOWOojdF8Orwh9Hda7kVM4eQ2axWh5B08EHywyTrBndgXahcoNZLk\n",
       "sq/xoDIaZokd+yCiTzWdIrai2KSWAjLjHTgpWt+6eOBio+Ow2jy8ShnU2BGU2fhXIHwpoL9nhWfI\n",
       "re2pi2p4lW3aTDp8LHS9CvXOXKIrS3eOlBw8EPzrmxDkTusraSFXN6HR28sLnYOHfpVc0QQ7Pibr\n",
       "StT9CkWL345MZR3spjKH7S4e4oPlG1ZwWG0e4nLtTY6Tsx1K4MpXrvdNKu+Gqj3AcmL33QsXfkNI\n",
       "Yp+gUAvIMS/aiKbTZIWcPEj4VnykOtm+UjYpjUaeWVJ08RBcNtInJ1GXY8fo3ILd1PZRIpjym3c9\n",
       "xyZ2ylfou3Qe5rx39Sl4cFhtHlTgDKmRDBcxXKjy3r3VfsmYRvOUj7RBRH8IL1GMbJWXmg6gSW7x\n",
       "tbyQcg8SqpPtq9a8rFKn9Lrm+Yrt6GhqMrmKGU6662TlhhUcVo2HkCgkhhjpLODuat8fdgFL8YS4\n",
       "wyWAd0Zdvx6yzlOdRKeYt7hWX0Kd7BBIuHmYHO7h7VRnvoJOr0NmXh/qliqvUQ6n/R4eDlcx7fep\n",
       "iGsXruOwajzgDsHFg8A5mm8VHnbPbs1hZTH02DDNcS3xuvfLM1fFXpOCS4T6yiKZDTJs4zk3D5uP\n",
       "cCfpW5ZzrKMLv6ue05taocx5zVHfj504tuo8yDCq9T3KzmJj/oXzdn5mXNeEtFf9HuXo5HRs9+WB\n",
       "t/TtelODLXnNUXfyThxbvTx8X4OHWLX3jE+81x6xjYdqfJ+ktTrs+63rYMXR0dRkjcc0c343tHFY\n",
       "A5M8PBRq8GBWgw5a7mtmz3X3vfqtf/D/hSdIjP/e/xcz/wZP6g3Bt8bAWwAAAABJRU5ErkJggg==\n",
       "\" style=\"display:inline;vertical-align:middle;\" /></a><br>"
      ],
      "text/plain": [
       "linear_map_binary_addition: forall_{V, W} [forall_{S, T in LINMAP(V, W)} [forall_{v in V} ((S + T)(v) = (S(v) + T(v)))]]"
      ]
     },
     "execution_count": 4,
     "metadata": {},
     "output_type": "execute_result"
    }
   ],
   "source": [
    "linear_map_binary_addition = Forall(\n",
    "    (V, W), Forall((S, T), \n",
    "                   Forall(v, Equals(Function(LinMapAdd(S, T), v),\n",
    "                                    Add(Function(S, v),\n",
    "                                        Function(T, v))),\n",
    "                          domain=V),\n",
    "                   domain=LinMap(V, W)))"
   ]
  },
  {
   "cell_type": "code",
   "execution_count": 5,
   "metadata": {},
   "outputs": [
    {
     "data": {
      "text/html": [
       "<strong id=\"linear_map_multi_addition\">linear_map_multi_addition:</strong> <a class=\"ProveItLink\" href=\"../__pv_it/axioms/9bca518bb1909af1d59dd82bd0fdffd6b45e17860/axiom_expr.ipynb\"><img src=\"data:image/png;base64,iVBORw0KGgoAAAANSUhEUgAAAeQAAAAzBAMAAAC0zGbpAAAAMFBMVEX///+IiIgiIiIQEBB2dnbu\n",
       "7u5UVFTMzMzc3NwyMjK6urpmZmaYmJiqqqpEREQAAACk/Np2AAAAAXRSTlMAQObYZgAAAAlwSFlz\n",
       "AAAOxAAADsQBlSsOGwAABupJREFUaN7dml9sFEUcx3/bu73b+8sVYh+MlEsxgoqx/mmBhJJ7gPpA\n",
       "DFUpSWMiWzQ11Ycu1pj4YHoG5InQJoCaiPSkifgAoWDBSDEePmhqTTkRXwzRUwMkJrbFUEqLbZ3Z\n",
       "f92ZnWn30mVonORu/8zMznxmfvObme8ugKfQ2NgI/4vgHeTxmTsLLOu1e4sqXzWOIzPTHnM8stAi\n",
       "Q3niUrlLZPznvt1gngyJQn6FvFxuVLCrZKR5ckRTvJhEWjByPE2Wn9EPkdFSn8PNER+Zbmm9brUl\n",
       "K5wVjNypEZdNxuG3kpH5OQJFgDYNIg28BGV5scgPkpfnzYa/7bTJPM9YHRFEDhyO242KTPpkL8R7\n",
       "uZZdIxQ5Xk1eG5fBPePOKvGGoSOCzIHDj9bJRWRHF1HKGm4lPhKKHMiQ/WY4oXelqRKRyRwEchv6\n",
       "HcgCHOZW4mRWJPIKcoTFjBboTfxbIjKZg0DeCLB9FTrW811fr0jkh6jC9dEZLYRvloZM5XAih6fL\n",
       "K/QOHtDbtEoPKvmcMYHIYWoElhX0eoFyCy2LBrwjGzmYyBLyaz/hlrzEX4DdEIgcorxXIIf/K/vP\n",
       "osXfrqVmt6x8ku4WV4SRYzacrqp6qqpKN6EkKiKIW7aDX40/BCIHVAayjDrvH0e3zN/LVg5WLy9B\n",
       "RcRxN/bwq3ExKw65g5pyIwXdSgFWloRs5hj8rlx94FUKGRcRmrQexxzLsCMvDnlrlrxOpsxFRHdJ\n",
       "yGaO7zdALVRQyCtQER1dcxMZxiYG+U/qOojKVvD4Hsm6kXegissTYP45IswcynNpmIQ+CvkA8ufr\n",
       "8VR4il+NZNpALuLDFQ/I3hIyw0Z6CZkGeWSiAX6dOehGLsPT56Ng/dkRdo5QKlwNj5HIrTMtLUf0\n",
       "eWA1vxrBUQP5HD586AHZW0Lm7OCSF1Y5zr0btmWfmlRURjVqKWLtLtNzLHsnDeS3cLqiB2RvCZnT\n",
       "8g36ziAD2dO2Qt9AoH6OFzPUtsJycfn56jGk77aCBQ/I3hIyu2nKNapm/dme7lMlPu5TiGSVZs4m\n",
       "cf+81jYEcdQsES/uy1tCpkGNuwovwl0KV+eKvGV6bLS2edqTx/aUkBWk265b++4ScTw7V+y0ifzF\n",
       "PE1jI9sJ2TYl8z3lGCyOsN5E3guKyq4phWwllNcyk7/g1HqiI31brtsuZbEgV5nIyYZgjox5oy8n\n",
       "1RrrOyeylTA4xV5iEa7tG4Bl9q5idJEgrzSREymnUwpXDOcS6mY440a2Eh57gjmVtBPT5+toFb9o\n",
       "kaHrguNuPzLPxIUYZNzIVsLU+0wfFSGGRx3Ia+YwbAV8ke+V0iIsw4ZnDyFPd35XhfStBhKeyRPv\n",
       "fJbKBPtP958jkXFCxAZfsh6XijlVdeXGD2ftsR10e+zl4It8z1Xq2RGW+4LdeKvZkw+okgov6UsH\n",
       "bfMvrF7erffjMTxI99NeO6pJTh0gnobttrwqueZlLN37It+7lfqhmWstRzS2hF9rISdRd7y3FJbk\n",
       "Yhlj/ZbQYlKRgZzU+61vU1tD+CiNHNtU7zTfUC8ok/ylSBP4JN8zlHq0hwmNsyX8O8TmsRnasSQ1\n",
       "MDw8XEhocqaLgWx0mf7qoYx+YgqUcRi8MnjiGWPpX4CoDZqYpMs+Dz7J97ZSf3x2SKHUd5gSvnyT\n",
       "QF4LldAZhjeNXoYTKfe8bD97SQEjyxnYZv/hKk3BJ8VA7jKgO9DZAM/bhYZpJVaX7v2R72uofbNu\n",
       "UlgRquFvK8y2GUX9PBREcy/OlQNJ5UgEsVqQv/4YI4froD0bXof/6uBzFV6cKCS1Jvweub0gdW/a\n",
       "8jdlUM4+6/JNvj9MI+MZMbKOKeEb2xsLOaqirfDe+0DBS6ajH5iCAF8VwYadmH2WdRcuQzXqb3q/\n",
       "9TA98DO+yff1NHKgCPJOjSnhG2t9lxC0bXg4N78QFF72FcDP9qV1th3uh+YsJOiB/jLtc/O+yfcD\n",
       "NHLH7+WteUeE06eOLlT7yjPOjOHkUlOpNsDSvU/y/SUaeQVq8g3AlPADRYGiLmXpWMf2Sb7XlXqH\n",
       "hK9Li1s1poTfmRKHHFA5yAuX73voXsYmgF+6MiR8kdJ9jHpBg6V7n+R72rD1CbEtxzTsnSAOOUqt\n",
       "RbB075N8P0QhY68cnmCTiXwNZynS9mpC9U2+P0UhR1CCnkPAkvDjIl+20i47mvZNvl9NIoe6b7W0\n",
       "6osgt4RfpopEpj6c0KV7X+R7W6n3IOGL/XAiTokEg+CTfG8r9R4k/GsgEhkOUv4r65N8z1Xq3RHR\n",
       "MbHI7aS+jKV7X+T7q94jAgWxyBIl9+wDX+R7rlLPiGgBscj0Z6viQ6KrROQ1C/0EPZm/x8jmx8mN\n",
       "jZUeMyz8E/S/7i2xfMg4jsxM/wcuVkDFfSMxTQAAAABJRU5ErkJggg==\n",
       "\" style=\"display:inline;vertical-align:middle;\" /></a><br>"
      ],
      "text/plain": [
       "linear_map_multi_addition: forall_{m in NaturalPos} [forall_{A_{1}, ..A_{_a}.., A_{m}, B} ((A_{1} + ..A_{_a}.. + A_{m} + B) =  \\\\ ((A_{1} + ..A_{_a}.. + A_{m}) + B))]"
      ]
     },
     "execution_count": 5,
     "metadata": {},
     "output_type": "execute_result"
    }
   ],
   "source": [
    "linear_map_multi_addition = Forall(\n",
    "    m, Forall((A_1_to_m, B), \n",
    "              Equals(LinMapAdd(A_1_to_m, B), \n",
    "                     LinMapAdd(LinMapAdd(A_1_to_m), B)).with_wrap_after_operator()),\n",
    "           domain=NaturalPos)"
   ]
  },
  {
   "cell_type": "code",
   "execution_count": 6,
   "metadata": {},
   "outputs": [
    {
     "data": {
      "text/html": [
       "<strong id=\"tensor_exp_one\">tensor_exp_one:</strong> <a class=\"ProveItLink\" href=\"../__pv_it/axioms/cdd8cc3187bffe2e96336c91982c42257be41c710/axiom_expr.ipynb\"><img src=\"data:image/png;base64,iVBORw0KGgoAAAANSUhEUgAAAHsAAAAaBAMAAABlQT6zAAAAMFBMVEX///+IiIgiIiIQEBB2dnbu\n",
       "7u5UVFTMzMzc3NwyMjK6urpmZmaYmJiqqqpEREQAAACk/Np2AAAAAXRSTlMAQObYZgAAAAlwSFlz\n",
       "AAAOxAAADsQBlSsOGwAAAcxJREFUOMtjYCAIWE8ykAZuwTSKuAgwMBQKYVfFgkM37wYoo4SBgbuA\n",
       "geESdmXsD7CLR8Is925gaHHAqZ3hIHbhN1CakcGDwyEGt3amAAYGsAvuIItyGMC1s1wBEji1MyYw\n",
       "MOwCMWYgi3I7wLWzz8CnnfUrA0MZyD6UQOBfANdeyNKARzvDHAYGTqAHWC4gC9YHQBlcywUYPK7j\n",
       "0b6PgYHnANAIFEFENLsATRZgaJm/EYd2YSA2UlIyQRHMBOJAsXCXCwyMx9llsOqDSDOsB7pzOwPD\n",
       "UxS5d0C8gTGRW4GBIUoqABGiSmCQwICQrgemqTYGjgQU7dOAPmpg/MF2AGeihkn3AwOZL4BlAYqk\n",
       "NjA9MvBNwJMnYNLxQI28AqghB7IdGHsCeDMVRLof6HiGCaC0K7gDmMCRtK9vYA1A1YHsd6h0PUiL\n",
       "71RgCmnI44RFfh4DQ9yCfJz5kQEhDQp5hmaggTwMD9mRYvN+6WaGtbi1w6QPgzh8IB8wfIdLAs2M\n",
       "FuTdcwG3dpj0NkRgfuCAMZkXEFsqzYExmlkmsGDkOIKF4FcYK+yUoyvcIQZEaudJwCqcS6R2pga8\n",
       "ZR0hcJBASYsfcDwgUM7jByzARAMAI+Vnk+3jnwwAAAAASUVORK5CYII=\n",
       "\" style=\"display:inline;vertical-align:middle;\" /></a><br>"
      ],
      "text/plain": [
       "tensor_exp_one: forall_{x} (x^{otimes 1} = x)"
      ]
     },
     "execution_count": 6,
     "metadata": {},
     "output_type": "execute_result"
    }
   ],
   "source": [
    "tensor_exp_one = Forall(x, Equals(TensorExp(x, one), x))"
   ]
  },
  {
   "cell_type": "code",
   "execution_count": 7,
   "metadata": {},
   "outputs": [
    {
     "name": "stdout",
     "output_type": "stream",
     "text": [
      "These axioms may now be imported from the theory package: proveit.linear_algebra\n"
     ]
    }
   ],
   "source": [
    "%end axioms"
   ]
  }
 ],
 "metadata": {
  "kernelspec": {
   "display_name": "Python 3",
   "language": "python",
   "name": "python3"
  },
  "language_info": {
   "codemirror_mode": {
    "name": "ipython",
    "version": 3
   },
   "file_extension": ".py",
   "mimetype": "text/x-python",
   "name": "python",
   "nbconvert_exporter": "python",
   "pygments_lexer": "ipython3",
   "version": "3.7.4"
  }
 },
 "nbformat": 4,
 "nbformat_minor": 1
}
