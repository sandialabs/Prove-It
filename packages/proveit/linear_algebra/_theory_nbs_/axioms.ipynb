{
 "cells": [
  {
   "cell_type": "markdown",
   "metadata": {},
   "source": [
    "Axioms for the theory of <a class=\"ProveItLink\" href=\"theory.ipynb\">proveit.linear_algebra</a>\n",
    "========"
   ]
  },
  {
   "cell_type": "code",
   "execution_count": null,
   "metadata": {},
   "outputs": [],
   "source": [
    "import proveit\n",
    "# Prepare this notebook for defining the axioms of a theory:\n",
    "%axioms_notebook # Keep this at the top following 'import proveit'.\n",
    "\n",
    "from proveit import Function\n",
    "from proveit import m, v, x, y, A, B, S, T, V, W\n",
    "from proveit.core_expr_types import A_1_to_m\n",
    "from proveit.logic import Equals, Forall\n",
    "from proveit.numbers import one, Add, NaturalPos\n",
    "from proveit.linear_algebra import (LinMap, LinMapAdd, \n",
    "                                    TensorProd, TensorExp)"
   ]
  },
  {
   "cell_type": "code",
   "execution_count": null,
   "metadata": {},
   "outputs": [],
   "source": [
    "%begin axioms"
   ]
  },
  {
   "cell_type": "markdown",
   "metadata": {},
   "source": [
    "TODO: We need axioms to define vectors spaces (over fields and for specific vector addition and scalar multiplication operators to be fully abstract; alternatively, we could use the normal addition and multiplication operators and use literal generalization to be more general).  We then define a LinMap according to its properties (see lin_map_domains and lin_map_linearity in the theorems)."
   ]
  },
  {
   "cell_type": "markdown",
   "metadata": {},
   "source": [
    "Define the addition of linear maps."
   ]
  },
  {
   "cell_type": "code",
   "execution_count": null,
   "metadata": {},
   "outputs": [],
   "source": [
    "linear_map_unary_addition = Forall(\n",
    "    (V, W), Forall(S, Equals(LinMapAdd(S), S),\n",
    "                   domain=LinMap(V, W)))"
   ]
  },
  {
   "cell_type": "code",
   "execution_count": null,
   "metadata": {},
   "outputs": [],
   "source": [
    "linear_map_binary_addition = Forall(\n",
    "    (V, W), Forall((S, T), \n",
    "                   Forall(v, Equals(Function(LinMapAdd(S, T), v),\n",
    "                                    Add(Function(S, v),\n",
    "                                        Function(T, v))),\n",
    "                          domain=V),\n",
    "                   domain=LinMap(V, W)))"
   ]
  },
  {
   "cell_type": "code",
   "execution_count": null,
   "metadata": {},
   "outputs": [],
   "source": [
    "linear_map_multi_addition = Forall(\n",
    "    m, Forall((A_1_to_m, B), \n",
    "              Equals(LinMapAdd(A_1_to_m, B), \n",
    "                     LinMapAdd(LinMapAdd(A_1_to_m), B)).with_wrap_after_operator()),\n",
    "           domain=NaturalPos)"
   ]
  },
  {
   "cell_type": "code",
   "execution_count": null,
   "metadata": {},
   "outputs": [],
   "source": [
    "tensor_exp_one = Forall(x, Equals(TensorExp(x, one), x))"
   ]
  },
  {
   "cell_type": "code",
   "execution_count": null,
   "metadata": {},
   "outputs": [],
   "source": [
    "%end axioms"
   ]
  }
 ],
 "metadata": {
  "kernelspec": {
   "display_name": "Python 3",
   "language": "python",
   "name": "python3"
  }
 },
 "nbformat": 4,
 "nbformat_minor": 0
}
