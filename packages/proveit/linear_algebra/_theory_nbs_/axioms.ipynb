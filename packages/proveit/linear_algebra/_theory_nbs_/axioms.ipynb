{
 "cells": [
  {
   "cell_type": "markdown",
   "metadata": {},
   "source": [
    "Axioms for the theory of <a class=\"ProveItLink\" href=\"theory.ipynb\">proveit.linear_algebra</a>\n",
    "========"
   ]
  },
  {
   "cell_type": "code",
   "execution_count": 1,
   "metadata": {},
   "outputs": [],
   "source": [
    "import proveit\n",
    "# Prepare this notebook for defining the axioms of a theory:\n",
    "%axioms_notebook # Keep this at the top following 'import proveit'.\n",
    "\n",
    "from proveit import Function\n",
    "from proveit import m, n, v, x, y, A, B, K, S, T, V, W\n",
    "from proveit.core_expr_types import a_i, v_i, a_1_to_n, x_1_to_n, A_1_to_m\n",
    "from proveit.logic import (And, Iff, Equals, Forall, Exists, Set,\n",
    "                           InSet, NotInSet)\n",
    "from proveit.numbers import one, Add, NaturalPos, Interval\n",
    "from proveit.linear_algebra import lin_comb_axn, some_nonzero_a\n",
    "from proveit.linear_algebra import (LinMap, LinMapAdd, \n",
    "                                    VecAdd, ScalarMult,\n",
    "                                    VecSpaces, SpanningSets, Bases,\n",
    "                                    VecZero, LinDepSets,\n",
    "                                    TensorProd, TensorExp)"
   ]
  },
  {
   "cell_type": "code",
   "execution_count": 2,
   "metadata": {},
   "outputs": [
    {
     "name": "stdout",
     "output_type": "stream",
     "text": [
      "Defining axioms for theory 'proveit.linear_algebra'\n",
      "Subsequent end-of-cell assignments will define axioms\n",
      "%end_axioms will finalize the definitions\n"
     ]
    }
   ],
   "source": [
    "%begin axioms"
   ]
  },
  {
   "cell_type": "markdown",
   "metadata": {},
   "source": [
    "TODO: We need axioms to define vectors spaces (over fields and for specific vector addition and scalar multiplication operators to be fully abstract; alternatively, we could use the normal addition and multiplication operators and use literal generalization to be more general).  We then define a LinMap according to its properties (see lin_map_domains and lin_map_linearity in the theorems)."
   ]
  },
  {
   "cell_type": "markdown",
   "metadata": {},
   "source": [
    "Define the addition of linear maps."
   ]
  },
  {
   "cell_type": "code",
   "execution_count": 3,
   "metadata": {},
   "outputs": [
    {
     "data": {
      "text/html": [
       "<strong id=\"linear_map_unary_addition\">linear_map_unary_addition:</strong> <a class=\"ProveItLink\" href=\"../__pv_it/axioms/8976bedaa2867dc21d088f7634732fb6c6a64b170/axiom_expr.ipynb\"><img src=\"data:image/png;base64,iVBORw0KGgoAAAANSUhEUgAAASQAAAAZBAMAAABqRE4YAAAAMFBMVEX///8AAAAAAAAAAAAAAAAA\n",
       "AAAAAAAAAAAAAAAAAAAAAAAAAAAAAAAAAAAAAAAAAAAv3aB7AAAAD3RSTlMAq1RmmUTNIjK7EInv\n",
       "3XZ/CtNrAAAACXBIWXMAAA7EAAAOxAGVKw4bAAAEFElEQVRIx72XXWgUVxTH/5mZ7OxHsln6UH0R\n",
       "FhSV1o+FLVbEj9WNrSDBafqmEFN8KAjCSp9Kq44PgqCSvOmK6ApSCFLdWnywqSVt8UGikvpQRLK4\n",
       "tQ+KKEZNUKOo59zJzNyZm1ldwVx279eZe+9vzj333DNAwzSnVsKMpnTt+lue6MWMp/yHQirhwQ23\n",
       "PlUzfVnkoA+IlM7ivN9yqrfdZk/UqB4HKcPF3GikFi60XJNIn0JB0qqcdQ7qVnqa2XxBHuu549to\n",
       "JMOiItakkSd7VaSfODuO5AlguzrCF+Sxl3e5Pxopzmr8vkklGbkpjtach1Tk/gKwDPhMHeAL8ohV\n",
       "gFS2gS0x+bkmkdq83ap7SEP077CFwbRVwgMkQR46vUeskXnn38PK56tIGs+xlRbbT+spxiQJaL2r\n",
       "tdpwI6S2Wm202iTSRhXJ4DnOvrC5ncqEB0gCQtoAHG2EZNhIVKYRLVBPvlfbpiIJzeivX8/iQmi9\n",
       "q8bpHzFAEhDSTpgZ6KQI7bKNlcNYPIyBYQmJpDvZUP/4/663L9dotIVV9NiiI9CvVLXRavJYFQX3\n",
       "gesqUruw1zMnXnLvkPI6voCQEpUUnfPfaW1SbaIfLb3QbdlVHhVTLkF8DPH/yvSs8UkNOElqpgl+\n",
       "IFEZ+BhYDmxxh10SHAZtOZlFRoxvsxzRJippJjW5gjy/CFv30gpSvOO9+HkIZwLee4nIafkMOgXr\n",
       "IBaC/Zk2CbCFfIHkKJKkj1glgBTQEiPpbDWkrdawlmSBOE6rKdtj4XM2hyH8OoZ6ACmmc/sJXUGO\n",
       "2zUnOR+hygR09qH3kVojDMlzJhEbd5IXImxtJGRLsoCRzrHn6aibvJ42pu2bjFsBpNR8fvmHz3MY\n",
       "EH0pdqwmS17hO+5YioVbK/t4dMHzxQpSgmqLpw6jHnbNsoCRfuQjGcvwviH+NG0+SwevXfNPcUfM\n",
       "e4SvHT/I7K086zdi39BXqu+x624np19UJD7fXVXn/BthpyILGKmFDcQYuScWnqjj8YpQJDCbBeTO\n",
       "sKxcLmfRx0rTeIautDCesz3omMu1uIt0SEWK054Uvlr7EbfbrRCSLPCCE33CsYPxLMZz0wQn3XzR\n",
       "HRDVTvrbYvU13c5tsA4dRcgb126rF8oNf9ZdUW5wlxwvxcdJE6S2y8C/08VLa4FZjss0nxfthMXm\n",
       "jT5COE072Y928WDaPRd6Qb12pbu2GIVUDIRwNwnrL16XfyrShs7BEswjVDvVfeEWlYdZGYR4MIuW\n",
       "Ev/YhL0Y5rAanPjCyMBDCIJRpfa2qPJ0ueyagecWpShiQK6FkZIeSCIq+hKCINLmJgJdY2reVun+\n",
       "+9J/3zou+rH3JVHsdtt3oua8o8beuWZi7998x+takDUTXyg7or/jku/Q8z7fcX+/AQxPKZNhHyws\n",
       "AAAAAElFTkSuQmCC\n",
       "\" style=\"display:inline;vertical-align:middle;\" /></a><br>"
      ],
      "text/plain": [
       "<IPython.core.display.HTML object>"
      ]
     },
     "metadata": {},
     "output_type": "display_data"
    }
   ],
   "source": [
    "linear_map_unary_addition = Forall(\n",
    "    (V, W), Forall(S, Equals(LinMapAdd(S), S),\n",
    "                   domain=LinMap(V, W)))"
   ]
  },
  {
   "cell_type": "code",
   "execution_count": 4,
   "metadata": {},
   "outputs": [
    {
     "data": {
      "text/html": [
       "<strong id=\"linear_map_binary_addition\">linear_map_binary_addition:</strong> <a class=\"ProveItLink\" href=\"../__pv_it/axioms/2c1ccfebf9893b19ca4f7ce99da69a1e2d5248790/axiom_expr.ipynb\"><img src=\"data:image/png;base64,iVBORw0KGgoAAAANSUhEUgAAAhUAAAAZBAMAAAB0l8EfAAAAMFBMVEX///8AAAAAAAAAAAAAAAAA\n",
       "AAAAAAAAAAAAAAAAAAAAAAAAAAAAAAAAAAAAAAAAAAAv3aB7AAAAD3RSTlMAq1RmmUTNIjK7EInv\n",
       "3XZ/CtNrAAAACXBIWXMAAA7EAAAOxAGVKw4bAAAGyUlEQVRYw+VZb4hUVRQ/897MvtmZndkxQbMo\n",
       "RzQL3F0HWk2j2vVvgkiTfqpEJ/oQSdFIEFjpToJQ9GdnI1lHKl9fAhHXWbVAjBgrP9i6MkmWxk48\n",
       "80Nh/zZbSS2yc+697859f+atLPihPHh23p/fOefe37333HOfAIESqn0DN4b8UkuPg2iCG0b0zPXl\n",
       "IlkrBAMMoQ0lrwAbYA2fm2vwKUPneTuvNxfx7DiA74U2lHUKECVi+ftw3/jh5AClJYTB1vGGIhcp\n",
       "ej6zMRch+tEyE+Ui2L1W5gra0sO6g7dYre+2M5OesZIZCWRyzteHtG+I23tmUq1vynd0OUeBkFII\n",
       "zsUyevxkYy7CFKIpP1Eugt1/IBTeg9gu5+DdAi1VCGVggwTyBpl+PqR9Q9xZE4YBJhPLOQXCYBts\n",
       "Ll6mZVNszEWURnbThNdIsPslQsPdAPP5ozViAwPo6QYtC50SyDNct58Pae/BRcSMToExBnAHYTMK\n",
       "hME6bS6ImXg6IF/QwOyfMBfB7itCWwsyM3Twn+cAutKQNKHFtIFcvvDzIe09OI0nDiMD+gWA83jZ\n",
       "4oCQYgjOBaXPpqDceTf+5CbMRaB7LccV1iPqFQcXuDKnmxBB44wACnnCx4e09+IEF+godIV5hdkO\n",
       "CCmG4FzAcK02FMRFS602Up74PhLkPlzmCvv+kntvh3w7zF2kBHDgACRwgg36+JD2XpwmNxRMP0xW\n",
       "Ysr4KQMnOWSQhxBcrADYGcRFuADNZkB/NW9etRQugtzTmLNx169enermgtY3vcoJYLkNWlIiLayq\n",
       "kXxp+5D2bpzKRU+3nA1xrQJHOGQ+DyG42AhGCnQceu0YFhzHy9pIOfZOuc4Fvt1Is+yTcz+i2VeD\n",
       "nx88KWl4GiPNg/tx4Nt2ANw3BO1DsHsIwgoXzL1S3YlATGj8EiyZDOz6280FrW+KUeHAaHo52zHb\n",
       "XHw67L24OhddImth67eGc7SzEqSNhxBcNJtUEX2MnSYCSgBTABaotdZO+JC1MTqKi87UR7H38Oa0\n",
       "7fhs8d4qxHCCYXNfxNvmIoRyoBcgUq5zwd0ziZ4tZWUgNm2zXEkeyvLxPi7Gm61vMhrlwBicwH4C\n",
       "9Lq4cNi7cGFc3rhG+VhMF5P7KIDZYsFWDunlIQQXmkUdnou5lJDLITYCMUvlooOlzgrtS5jeQ0W4\n",
       "E8IrWE/LWoHqDw1bTd1DtvdWYIDv2DYX3D2TpQUlkMqFTks+7ZoXYn1HKgKIUZJ4udaHC2nvxdXn\n",
       "xTBILqgRFoes5SEEF5B7gFZTFu4h5M8Q72K+6lw06eTvD1a45wEpzYuqroeYTuA4XwSdkkayAgdG\n",
       "WbLYr9Tg5D5yFg4DLyHtQOoaed92pnIh1rdWFcBwlZHY7soXDns3TuFCpB+2RmAVG7x2AcMQNhf7\n",
       "aRRbLYM1dS7ctd7c5uAiPpvC/HaZ1yg9OLgxXjwdoj/Po/5D5QD6HNW2XYnSXJ2lcEHuB1rNGbCb\n",
       "PbIDkTRbXNt5endyIda3XrSBKZyQAAtd88Jh78VJLkT6oRIVoI9l/IUChiFsLl6i9dSU4jO3N2/1\n",
       "FCwHF8YRdkCY9TtvYr2Y+4z+PIL6OFsiEP0zaVxK2g9tLsj9C+04VryitAPZ+yXpqjLfOh1cPGvW\n",
       "90wGzBmWwpnqQ9p7cZKLpivignbRj2CLgKzkIWwuQrSMw9XzDLlvHbTONJ3n1JuJCixo2JNpRORT\n",
       "pdJbEGXeZ9CUSzKL2EULLtxLV68qXDD3t8I2mF8qldIyECOvyrX74UU3ueqL+LSrfawbiawAwiKq\n",
       "+uCUiwuHvRdnczG46/Lt/OoN6u3kjICc4iFsLvgUusinZOtiaF3ic2ZfbR9KTlBINg3oEBBl3e5a\n",
       "zUFjaRhjHme5z+xHMY285gjE5LRQRTpcfd0sgXzZV91FymnfGxuneQ7viYICYbDN4OQiSqllD2bi\n",
       "IiRyPlwsAphK741LAKJ66nl7AWyn3Am9yEoM+TkG8DVD/+rm4rSRFRVbdExpV6dQRdb4HL0UUNjz\n",
       "9aDT98bGRTx4ebojCIMtcXEB36K+noZQnv55uVix9HAe30cPjRHRmyiBLpvz7mWsSRGdwF5GPyW2\n",
       "gJeP/W4uHsN5a+yQgWTiy3MN+PBVlEAm3hOzwz4AJ6VfgWwSIZxcMEmP813Lfh87VNouLmVdpSkf\n",
       "Yoq+37X2lEqu71wEjBWDuBCdk6B+D8JhH4CTsluB9IsQXi4iZjAXEb9zyYPi91HlvGSPTny8751b\n",
       "hDaUHxQglTB5fx/um2TAZDMsCWEwDJEc8XChj/O9U/c9iwqCFFfz/p/fwa/h/0fMa3jyH/j/kZHM\n",
       "vzeb6eWI7IsVAAAAAElFTkSuQmCC\n",
       "\" style=\"display:inline;vertical-align:middle;\" /></a><br>"
      ],
      "text/plain": [
       "<IPython.core.display.HTML object>"
      ]
     },
     "metadata": {},
     "output_type": "display_data"
    }
   ],
   "source": [
    "linear_map_binary_addition = Forall(\n",
    "    (V, W), Forall((S, T), \n",
    "                   Forall(v, Equals(Function(LinMapAdd(S, T), v),\n",
    "                                    Add(Function(S, v),\n",
    "                                        Function(T, v))),\n",
    "                          domain=V),\n",
    "                   domain=LinMap(V, W)))"
   ]
  },
  {
   "cell_type": "code",
   "execution_count": 5,
   "metadata": {},
   "outputs": [
    {
     "data": {
      "text/html": [
       "<strong id=\"linear_map_multi_addition\">linear_map_multi_addition:</strong> <a class=\"ProveItLink\" href=\"../__pv_it/axioms/356653078a0e256c8c0c10fe9c85069b6986e7080/axiom_expr.ipynb\"><img src=\"data:image/png;base64,iVBORw0KGgoAAAANSUhEUgAAAjAAAAAzBAMAAAB71C/bAAAAMFBMVEX///8AAAAAAAAAAAAAAAAA\n",
       "AAAAAAAAAAAAAAAAAAAAAAAAAAAAAAAAAAAAAAAAAAAv3aB7AAAAD3RSTlMAq1RmmUTNIjK7EInv\n",
       "3XZ/CtNrAAAACXBIWXMAAA7EAAAOxAGVKw4bAAAHgklEQVRo3uVbb2wURRR/t3fX3e71rkc0JhqF\n",
       "S4gmRgpNrI01Sg8pxlgIB36QGBJO0RCRpMdHBOlqjDGx0NMvUBLtEQ2JrUpL+GAgSosREPxzgiTE\n",
       "0HgVNalBKEiRlsg5s7P/ZnZnby922Rom6e3OvHm7M7+ZefPm/bYAnlJfXx/cQsl7d38uX5nG99Yq\n",
       "MxQQeRe59pYnPWqcntb330Zncze7/yJXsq2g3bQEAUxogMomUqS1WV43slV3vIJGtMSTCMUggWmm\n",
       "sw+QS804pzpXwE1cjXDvpVl37AQ4x1UdDBAY8Si9rrXhXcDrzYKqgeFr1OUB5ihQU+BViDcGB0yc\n",
       "nsgRrSmL/rZO9kbzniuglwdPA6en9ZtO9O41aQinuWvpeHDAPMoMIrnENl+zts8EjytgesTTwGm+\n",
       "ftOK9sNWVPM4t3UvBAfMCTp7H7lsTVx27iZXwAWG1qCAmYP+NqBdcC23dWtyQQGTmKLz7eSSFv5y\n",
       "7iZXwAWG1qCA+Rpg9xmLjXUw3MmggIkn6TwZvGhKuu7YTa6ACwyjYQVGmrwwutbYGCMjaqLbI0wF\n",
       "BUw34/aeJCYYxEtoh2q2dZMI+gfv8gwM0XAEJoGs8jxspefxnd8bQQFzN5P/Sv0da1uEvPDtf2oj\n",
       "efZbfSSJIA3LWAG1s9k1zLRsZOSbkZEf1LPIEDLN2DJ389v3XlDADDsBI6Px/gddG9jx1wQT0Kl4\n",
       "nDH6o5xmTD2CLoynxGp++1pzwQAjsYbxJJn+AGedgNEEj3gHRtNoevhC8txOBphutIxCE/p7HG0M\n",
       "7G0MBpgE63y9r3tgHU7A6AL43KuNIRryQ1+iuTnKAHMRzYburHu/65LBAIOXue10IuLC3pwdGEMg\n",
       "/UQL9qLuyVdB+7FriJ9m4ZruChjAbEB71pGC6SM4NrBIgFHxmesBGG8VKyZ8WqFP+qhzvVcLcH/5\n",
       "ZRswpmBTge5/HDv1P4L+Y9cIlaQhbcczgLmzPGvWS6kKAx0bJ8AswZd1HoDxVrFi2sseU+LW7buB\n",
       "466IaTHn2cEjA6Ak8uK4wjh4+uOK/AaGJwgwr+F6eQ/AeKtY2Y1he0Yd6Bo4Z8VNb71R8H6IVI+L\n",
       "aM6E82nmEMkcXB13hxsEGHwCj6U8AOOtYuWQgO0RO8zbzR1fOGt9Xy5X+Z4VUJMTZ3PCC5tcFOUr\n",
       "BJgwAq/Gi/H1VrFialXYko/gpqcdbsJL2q6EPMYTnnYlTxUrpou2CK9Yutm4JFyjzJMaME8C7PIE\n",
       "jFHROj9lznzkPulQAWZ4OqIBsxHEpPO+xQCjV5SPWQQfK466VLHU275f90Fh+YwHZkQDprYQy9CS\n",
       "V9sz4WHiW1uB0SvGrGGgQ87mmC5+DOC8NVQ0s9NZDRihZDWp0mhPRkgegKfswOgVV31n2SS7HA0E\n",
       "U3w7srn/P2Agu9BS2obWgLAwAgN2YPSKpecsZqzGcRkyxYdBPuWylLApFH3sqVidQF9KsG892osX\n",
       "bx9NtCiQwJ6P8PozpYFY27K2JTQwuCLqNDxhPqQUyTo9my4Wbzy4yLA5h2w7gkq4/UJqZnldyFaN\n",
       "hqnB5decBbrxhS1odD9Y3ViXTCSJTyEoB+51mjFb1GmwCtsL7egSVRJDsPLXDPtCXGzxbYuw23Bv\n",
       "L9qsNSbcBEJO+kS62fg1V+JtWAcmhJr6yu9Qr0QGiO8sKJFE3gGYkNqn9oNzClIDASZycHAKhmS2\n",
       "1WqxmUJpECe4Dp5KuO3R3GJ/SDc7v+ZGvF2hwg6zoQviKWju6elJCYo8kHUAhkx8wDGjOHliCcRr\n",
       "kJPYSIJa3DS3aeVnpBUpiBpMz4KM07llMbn3iXQzjmNeiDf5OgXMMRiDTgneJjMGVpbsfozx7PoU\n",
       "BkYeUBuC9u7aDM70Gz+keH6+LoNWST9qRQE+MVrQzfZKJdwItL6RbseZuIwb8aYfIjVTNY7mTEsE\n",
       "+SoY4AwkkpxAVWQY5OUvYmCkw7A0CR9ezWCXGGW6ctJR/KMX1yp74HGArlS44+D+d40n1bODhAk3\n",
       "gVhK30i3tSwwLsSbcNkKTDQJ62DjHyBiD3XbOi0sxY/g4aUk6INTKJkZ8y6OrGoRTQ/GA4yz+wsO\n",
       "pkWI7fWNdBtkgXEh3kjs1Rba7O/pyVQObUrn9wE8q2U6ykUzY97tht9gdg6ijH0LsQYJD1qNur78\n",
       "I92aGWBo4o1p4Ph/jfk2OmcYGxJmd0qGoVXDj3F1WvlHus1jgHEj3kjsNQD6hCXcMa9Up85S/0g3\n",
       "lV/zSLx1loIBxpFwU4HxkXRbzcwYN+ItKMINlvKWko+kWwMDDE280ekeCAiYNYxxx4RbbQl8Jd1a\n",
       "GGDciLfASP0448jgHTOW9Jd0q4J4Cwf2GQi7LW3DFrnoL+l2mgbGjXiLB/bhEPupmUq4nbEUTD/p\n",
       "ZvBrHoi34D41g1ba5VMPck0OwEwf6Wbwax6It3cgMGBq6A/DVZKn1gxf+UC6cfk1uyA6FRwwEv0B\n",
       "tBock/PgY9rhXRBPBQcMjDELHVuGrT7iwuXXHARBfjLP/pPFTErRbJXAnJrWf+R6fsYC8yYx7319\n",
       "Yx4VbpV/5FpPrr3lyX8BC/fhnvfNQYUAAAAASUVORK5CYII=\n",
       "\" style=\"display:inline;vertical-align:middle;\" /></a><br>"
      ],
      "text/plain": [
       "<IPython.core.display.HTML object>"
      ]
     },
     "metadata": {},
     "output_type": "display_data"
    }
   ],
   "source": [
    "linear_map_multi_addition = Forall(\n",
    "    m, Forall((A_1_to_m, B), \n",
    "              Equals(LinMapAdd(A_1_to_m, B), \n",
    "                     LinMapAdd(LinMapAdd(A_1_to_m), B)).with_wrap_after_operator()),\n",
    "           domain=NaturalPos)"
   ]
  },
  {
   "cell_type": "code",
   "execution_count": 6,
   "metadata": {},
   "outputs": [
    {
     "data": {
      "text/html": [
       "<strong id=\"tensor_exp_one\">tensor_exp_one:</strong> <a class=\"ProveItLink\" href=\"../__pv_it/axioms/f26f1e3ceb731a3e5bfc3405892e8486cbed14fe0/axiom_expr.ipynb\"><img src=\"data:image/png;base64,iVBORw0KGgoAAAANSUhEUgAAAHsAAAAaBAMAAABlQT6zAAAAMFBMVEX///8AAAAAAAAAAAAAAAAA\n",
       "AAAAAAAAAAAAAAAAAAAAAAAAAAAAAAAAAAAAAAAAAAAv3aB7AAAAD3RSTlMAq1RmmUTNIjK7EInv\n",
       "3XZ/CtNrAAAACXBIWXMAAA7EAAAOxAGVKw4bAAAByUlEQVQ4y2NgIAi4zBhIA6Ywja93P2Bg6HuL\n",
       "XRULDt1MDlBGN1BNAwODLnZl7BOwiy+DWb6lgKF6A07tDHbYhSdDaT6G7ewbFuPWzruAgUEAxFBG\n",
       "cdQBuHZubSCBUzsfUK8riJGOEiQb4No50vFp5/rFwNCIEQj8AXDtfdwFeLQzJDMwsAE9wK2ALNi/\n",
       "AMpgjXjAsF0Dj3ZPBgZmA6ARKIKIaN4NNPkBQ3X+Phza3wDx2bt3T6MIigHxuocrdisw8FlwPMaq\n",
       "DyLNEA90pwcDwywUuZlA7MAnx3KBgWHp0wWIEL0LBuCYgkr3A9NUIQO7AIr2RKCPCph/MRrgTNQw\n",
       "6XpgIHMu4A5AkbzCwMDBwJKAJ0/ApNcDNTI9QA05kO0MDDwP8GYqiHQ90PEMCaC0+879SQGy9vgC\n",
       "rgVoGQzJ71DpfpCWTVnAFFIgyQaLfEkGhpUBMgzcuO2GSYNCnqEGaCAzwzwOpNjU7/JhCMKtHSZt\n",
       "A+IwgnzA8B0uCTRzyTsmZwXc2mHSjojAPMAOD5YAYkulZBijhjuBBSPHESwEf8G1PN33CuEQIrUz\n",
       "C2AVFiJSO28B3rKOEMBR1jER53lcJS28nMcPWICJBgCmnW0r9VUnAQAAAABJRU5ErkJggg==\n",
       "\" style=\"display:inline;vertical-align:middle;\" /></a><br>"
      ],
      "text/plain": [
       "<IPython.core.display.HTML object>"
      ]
     },
     "metadata": {},
     "output_type": "display_data"
    }
   ],
   "source": [
    "tensor_exp_one = Forall(x, Equals(TensorExp(x, one), x))"
   ]
  },
  {
   "cell_type": "code",
   "execution_count": 7,
   "metadata": {},
   "outputs": [
    {
     "name": "stdout",
     "output_type": "stream",
     "text": [
      "These axioms may now be imported from the theory package: proveit.linear_algebra\n"
     ]
    }
   ],
   "source": [
    "%end axioms"
   ]
  }
 ],
 "metadata": {
  "kernelspec": {
   "display_name": "Python 3",
   "language": "python",
   "name": "python3"
  }
 },
 "nbformat": 4,
 "nbformat_minor": 0
}