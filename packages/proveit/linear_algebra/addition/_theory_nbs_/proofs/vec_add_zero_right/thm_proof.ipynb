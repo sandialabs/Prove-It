{
 "cells": [
  {
   "cell_type": "markdown",
   "metadata": {},
   "source": [
    "Proof of <a class=\"ProveItLink\" href=\"../../../../../_theory_nbs_/theory.ipynb\">proveit</a>.<a class=\"ProveItLink\" href=\"../../../../_theory_nbs_/theory.ipynb\">linear_algebra</a>.<a class=\"ProveItLink\" href=\"../../theory.ipynb\">addition</a>.<a class=\"ProveItLink\" href=\"../../theorems.ipynb#vec_add_zero_right\">vec_add_zero_right</a> theorem\n",
    "========"
   ]
  },
  {
   "cell_type": "code",
   "execution_count": 1,
   "metadata": {},
   "outputs": [],
   "source": [
    "import proveit\n",
    "theory = proveit.Theory() # the theorem's theory"
   ]
  },
  {
   "cell_type": "code",
   "execution_count": 2,
   "metadata": {},
   "outputs": [
    {
     "data": {
      "text/html": [
       "With these <a href=\"allowed_presumptions.txt\">allowed</a>/<a href=\"disallowed_presumptions.txt\">disallowed</a> theorem/theory presumptions (e.g., to avoid circular dependencies), we begin our proof of<br><strong id=\"vec_add_zero_right\">vec_add_zero_right:</strong> <a class=\"ProveItLink\" href=\"../../../__pv_it/theorems/4cfb64b3107e3a13049ea76e09d9732e9fdde8470/expr.ipynb\"><img src=\"data:image/png;base64,iVBORw0KGgoAAAANSUhEUgAAAegAAAAzBAMAAACu8IZnAAAAMFBMVEX///8AAAAAAAAAAAAAAAAA\n",
       "AAAAAAAAAAAAAAAAAAAAAAAAAAAAAAAAAAAAAAAAAAAv3aB7AAAAD3RSTlMAq1RmmUTNIjK7EInv\n",
       "3XZ/CtNrAAAACXBIWXMAAA7EAAAOxAGVKw4bAAAHZElEQVRo3u2aa4wTVRSAz06nnc60nd3EHwp/\n",
       "dozEHwalsoAPVqiiQkIgVeMPgnFr/GFEo0NISBB0q/8MjxZ0I4Uo80NNWMWtC2p4iPWRiCK6MRgN\n",
       "oWGWl/JwIcC6uBup9zHTO+3cwox2TbPuSXo6nTnbe797zj333LsF4InS3W3AGJXu7m7+g1iplBir\n",
       "0FtKf9aATsIYlrvGocehx6HHof3LlNLFa9qIGtOeRFnivQPvkhVYLJWM/w76Rg829zq0N1nrvZYI\n",
       "H6Lv0caCDqSY9iiBFu+2tzck9BqDaa+ywbuprDUi9DMOzROeV9/nD1ETLwF824DQwjDTXOni5T5+\n",
       "fMvJmimjsaBjeaZdsq1YLPIKZmnI7VFkeiTLse3UGw86YzDNE5Xr1M1c236u+/ONBz3BoblrDnVt\n",
       "+TPxG7RzbdOVpvQqUGg86IsOXVuOlq8epzGreTANmgT9ggOahM1NbmiSAoV43aC57TBHDjHNkd3H\n",
       "iWeFPJwsoXVq7V8JlfQslvBgCsfIg4MO6Afw9VNuaBE7O6TXDZrbDqszzjPtlpCm/EyKSZSo/sC+\n",
       "QyNIalAx5cU0RDLFgw7ol7Hrs27oMHbNivqFN7cdtrSmmGYStALtHoCd+H0Oen1nLcTTSHpzjRLP\n",
       "NEDi4ZwDGg9DROPMaTyUvfWD5rZTlmgL047F26Tv69GWBfcW56Ln0es3u/vC5eov4pkCKUympBl0\n",
       "AI1miJfI2tB7qn7Q3HbK0pxn2g19CS1maLwE3J1WHSRsFsJREL5Q/UU8U3iSLIeaI3sfKBb386Cj\n",
       "xeLhfB2zN68dBh0va2Vg4ureCmgFk6BHIu7OZ1aOjeCoUKrTPdcUPsSqJ+6AngewiQctpkE26gjN\n",
       "a4fVS1pZi9BvLqiAlkYQiWk5d3YcprP92BVajhaJtNQwhRlkRE0H9FKQkHWw9T4IfeWERneX/hNA\n",
       "wc74aiU0bYflaxRGwjdpuyDTyvoOmG1c54ZGrovhxx15GrICKTZGqgtTnilMLs8dG1o2Inh1Oguw\n",
       "2KgoTjbBRygbopCcvJHm0tYuCBetaQYDZ1bzodHgPnRJg2cTkKiAttoh63F/Lgl7wJpxWDqSZZ2m\n",
       "iwt23+EDxH0KIulA7Ubx454sDdnweWsKV4Y3zxQyBDrhgBbMEE17arKyIrsN57EIGtCV6MO6CV0Q\n",
       "RX381d7gpGscciiol2oBgrvQIFZAW+1guR87GCXZCCu9macBvucksimaRdLcR0M2WOBBc03hMRc0\n",
       "pGaRClDaVVWGhgIm3ewhVnGetSravonyt61Aihq5BU6AXRSUy1DSzsDc4zqtpjqTKJJ50MEh6K6E\n",
       "zqH5aVgxGxumXRD6eHOaawq3uuY09C4hFWC7WQUduRlZSIMQQJP0mFUaC2nYPgDq3utDE0GS3py1\n",
       "w5C2o1rrTL+O7x+dGYcYycIr8ZezZZlA43ZUfUJI20oTtimxIrczbmulq6lgD60N3U7rKRl/lK09\n",
       "ZiDLLdZ5pnSH0ezM3rAKj5A6srJQBS19TsdyGeoJLaUWoNQa0sT4DpgvHTmYhIyuppryUT2SEPPo\n",
       "/vS8ZMJy7LFlJEKFRAU0bicAb4XhEVowtrDohh7T1sLltwtBrRI6pin77FVKHLQiKl/eRVSsOxxT\n",
       "mF9eGsrQTXiGyVnYX73LugGrJ/CwW/VgZ/IVlBSCm4bgBZSMrsAagEFJl+M9umSg+xsv3QKwCFd8\n",
       "n+whcZqtgCbtANpTzMjlchqIfacdFVnC1spCc9LUqjmtzO/HfxvuK9eUVhfDg66UwjGFn8jcSbq2\n",
       "lsj55wze1nKBim4Hns7lNuCRyUN7W9ujaG4rOCci6C/hzO9mB46rtrbkolKS8OVIzoNw1r21DBck\n",
       "oGk/MOgoSkNZpt0VmS2/OK5fvPrxktNUItOfVKeV0BmddtQFPfth3FX6KDho4vQvDZMsFiOejsXl\n",
       "050GWRbCBqoYXiUzTR12hzcJ8UhKtGqesDPzigWm3RsOW6Y5rueQsqyvFrTTVCRf86nrEEHdsgsm\n",
       "j/CgM6TnVi112AA5rpib4YPmJKo2Moaa7TFiA3JeMdH9ownI4kSGt8V4rqimC1o8sfc0SHTdP+Qs\n",
       "VYaZvso5Ltvp0g2b3OLB1NorrvdxchIjbllBS6dJeJc+AJG9prh4dx4yU4+DOufO5/A99BIWztRx\n",
       "a6dGDOGHvLPhqpOT93K5qqMZ5QLTtUXJVkE1xz2YwhvsVMbXcZGyM8c5g13D+dMgmyRbfRwXve7Q\n",
       "teWl8hUtkjp0D6aqbq3+9Tkjy/BuzuVcXRu6/SoHfbXlY++mkVR9oKVW3tYzYi8CgaQP6J4k097l\n",
       "C++mUW1UT0NtaMXPaSh1RMTfqYVa8G57tgH/wwH7HNqf9/wEhT/odTNHGXqGQ3uVkz6CIuUfOtwi\n",
       "jzI0OeuwtEeRvvZuu0r3Dy2nRzu86XE11R5lm/foVn4E/9AxQ/k30F5+c7LcYNqbvObdVCYR5PM3\n",
       "J8HtbTDKIqWZ9uY9H9n2HeeH8Z9UjUOPQ/8/oO8eyz9yP1UDemz/yP1viK5M77F+Xm4AAAAASUVO\n",
       "RK5CYII=\n",
       "\" style=\"display:inline;vertical-align:middle;\" /></a><br>(see <a class=\"ProveItLink\" href=\"../../../__pv_it/theorems/74902111ec9aa757fa08f2062f2cf3809daea8750/dependencies.ipynb\">dependencies</a>)<br>"
      ],
      "text/plain": [
       "<IPython.core.display.HTML object>"
      ]
     },
     "metadata": {},
     "output_type": "display_data"
    }
   ],
   "source": [
    "%proving vec_add_zero_right"
   ]
  },
  {
   "cell_type": "code",
   "execution_count": null,
   "metadata": {},
   "outputs": [],
   "source": []
  }
 ],
 "metadata": {
  "kernelspec": {
   "display_name": "Python 3",
   "language": "python",
   "name": "python3"
  }
 },
 "nbformat": 4,
 "nbformat_minor": 0
}