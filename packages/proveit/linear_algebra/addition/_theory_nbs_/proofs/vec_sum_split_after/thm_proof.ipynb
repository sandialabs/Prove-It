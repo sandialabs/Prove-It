{
 "cells": [
  {
   "cell_type": "markdown",
   "metadata": {},
   "source": [
    "Proof of <a class=\"ProveItLink\" href=\"../../../../../_theory_nbs_/theory.ipynb\">proveit</a>.<a class=\"ProveItLink\" href=\"../../../../_theory_nbs_/theory.ipynb\">linear_algebra</a>.<a class=\"ProveItLink\" href=\"../../theory.ipynb\">addition</a>.<a class=\"ProveItLink\" href=\"../../theorems.ipynb#vec_sum_split_after\">vec_sum_split_after</a> theorem\n",
    "========"
   ]
  },
  {
   "cell_type": "code",
   "execution_count": 1,
   "metadata": {},
   "outputs": [],
   "source": [
    "import proveit\n",
    "theory = proveit.Theory() # the theorem's theory"
   ]
  },
  {
   "cell_type": "code",
   "execution_count": 2,
   "metadata": {},
   "outputs": [
    {
     "data": {
      "text/html": [
       "With these <a href=\"allowed_presumptions.txt\">allowed</a>/<a href=\"disallowed_presumptions.txt\">disallowed</a> theorem/theory presumptions (e.g., to avoid circular dependencies), we begin our proof of<br><strong id=\"vec_sum_split_after\">vec_sum_split_after:</strong> <a class=\"ProveItLink\" href=\"../../../__pv_it/theorems/eaa88052d2fbddda8b140664a9bc616213f949410/expr.ipynb\"><img src=\"data:image/png;base64,iVBORw0KGgoAAAANSUhEUgAAApAAAABABAMAAABfOlplAAAAMFBMVEX///8AAAAAAAAAAAAAAAAA\n",
       "AAAAAAAAAAAAAAAAAAAAAAAAAAAAAAAAAAAAAAAAAAAv3aB7AAAAD3RSTlMAq1RmmUTNIjK7EInv\n",
       "3XZ/CtNrAAAACXBIWXMAAA7EAAAOxAGVKw4bAAAKf0lEQVR42u2cW2wcVxnHP+/O3sa76614QAqI\n",
       "bIWEQCTx0qBIrUqyVcpNKPFKwRK9iLgqBLVS5W0pEpQKbyLoCwEvRCKYomQeoNA6xIZWQQpSYwqh\n",
       "aSm1QVREEZbXhBdI2jh2E6dO4mHOzJwz5zYzZ9ad8QvnYf7OZOc33/5nzjnfudgAQsmY5k2Ipezm\n",
       "NLA8YyRB2h0lfgzCqj/saNY0FyUfz1wZ/EIsPpaHWA35dFudlH+oS5JaKDyIAP/j3n5wUGrkQjzv\n",
       "I+xtshpSno5Ael+XJMVQeBDWwiT+n5cSNFL/A6th5VhVnXSmO5JqKDwIq/7SehipDbEK0Hu+E/D5\n",
       "1KvKpPzqvNENSWNqdnA4NIgANxnrYORoi1WAN/JTQRf8XZlUPleud0PyQlEIhwZhLdXXwcgHOAWt\n",
       "rbeCLuhvqpIKtfRQN6QHmNczJBwahDW1nLyR+J7k3lBsBF+RbSuTWlqlC5IHUAmHBhHgQ8kbWWqz\n",
       "CtAX0mWmrimToFjtglRi/O1T6MExiAD7W4kbOVpl1XqsDZgMvOSPqqSScTt0QRpl3A8NhwZhLdYT\n",
       "N3IjpwC5nduNwEsGVEn53SH97UAgSDEcGoRVW0jaSP1tVpUy+FqspCgAHoQ1s5S0kelrrKqU4lCs\n",
       "pCgAHkSAf0rayMICq0op/HKspEIXXxSDCHCgmbCRfW1WlTKmpVhJUQA8iAD7awkbuXeSVZWSuxwr\n",
       "KQqABxHgSCVhIwcarCqV12IlRQLwIKzFqYSNHDZoHTa9sup/0VEjThIGoYlZr4QkUhiEtbCSsJE3\n",
       "Ge03nRGB/rX56Rv+F12qxkki6wAp0+2/f/HF95shExcYhLW8mKyRuXcY7TFnSBIy5z+666/HSMIg\n",
       "lJl7ayufWAyZtqizmno7WSPd+xGdu0zNuvgPK9sxklJePl4yvTmPz4aMdNus5t9J1sjyKqujpjfW\n",
       "+DTznpCDVSZm1kBqhpDKXpOaN730SBPmLqQhYdVvJmuktshq2fRS5DT9wX/ZIbgtft9C96RyNYSk\n",
       "UZX4kunZJ4wmpSERoOkaab/TH+SNFM+udWBzjVU4Kl/yTVm5XbkO590qt9I96aMQQipQI8SCOePf\n",
       "KklDIsA5wzHyk0i+whspnl1jyS6zCsfMuuxzz6AYJyFrsJ+OTtKHwkj0KX3afwJDHhK5erjpGLkf\n",
       "1f82b6R4do2luMIqZKRr6rDTraOON4UrXZO0mg9pDw9yRjmmb48vD4kAjzYcI5HRvVXeSPHsWofa\n",
       "fNMCp27Ism2cxTnLdD2LXZOK4EPawoPs0mv6rlnKQyLAjVXHyLT15LJCZyOefdeNzJqSqa0UPvdg\n",
       "BCOlpA+BD0luJAxf9Wsi5SEJRsJfZmf/LPbawtl33Uh9+jrVRl2owd9QhbQa9uOoLv3aqZ9LXZM+\n",
       "Bz4kHyOPmdwURkhIBDhQc438DMBPRCOFs7JmKIKREwusUoM7u2alpuD36OWyopq83/phGx2tNmuX\n",
       "ShQSen9EEm3kBGMkGSaqhSQx8lHIVUQj6bPcFqWeV1542m54C2wVOAxP2d3TU7JOamKKVRQK1Swd\n",
       "0IbsfKVUhXz1U9YPm5wvs9o1yXqZ5KQtPAgbwrW0ISER4KmOa2TB6G2IRjJnvS1K+fmxRqnZe9wQ\n",
       "jEwdsSy2a0ePW0eMkK8Pc55NRrEDB8BeW9bhdTReiWKkjHQaZKRds7Ovzc7+VWZkiZv3CQlJNDLV\n",
       "yUpGNsxZb4vS3S00fDjwVeCNTB9C97RrmHOExzeEff0RKgnuN6DjRA0plJbcH8lICek0+JD83sgc\n",
       "n9cHhyQaCUPbLfPm4XfsEBGdhfHtvwWyRan3fKfsJGf1OmWk/vyFJpR/aA9739pAjvvfax1e3O7f\n",
       "RQBcpEa1u8BeVLbqEWQr1t02+7aRiiTUT4gk/84Gyi9zRgaGJGkj4TcPW91Sn3ErayQ6q/8jj/J3\n",
       "d4vSG/mpZ52377EWZeSvmqPNvDNmf9P4Nz7eg+YPSo2DAUZm6Nb9B5BCZhSsxzvRsOK/PUKvLSUd\n",
       "AR+Sn5F7W9yNgkOSGPmk9aSf2Ay9rJHorFa392c5W5TQHiNnVHDc/ahj5N1gufWRk+jHQ3bPho73\n",
       "nHRmpH4Z8PWZfQ4n4Ft2hbHuOpqrOdmLah4pJaFkRUryMTIv3Co4JDGPhJ6W3Z98hzUSnS02yhXA\n",
       "W5RQW7FtbGysCpMn4TnPyNMwbx1t587AXc7RfUNPUwONBVat1/11JpV6j/1g81Zj17MVvf6+RiqS\n",
       "vgc+pC08yM0jhSWG4JAkRrrfuSNOo000C3cYeIsS2mP0Xfv/P1yDk8RIfRkOIVv3W3V5weah47jd\n",
       "ZlKzAsKkCWSlkxZn3ZZ/RpigiUgqtXxIW3iQU77kmwLLQ/Imn1qMkWdzDdHIYnN0jzFub1Eat/cY\n",
       "FexOR4PMjPdGvpy/cgfSRzfAuXRbn0RHq11FvfiXvfZCuD+MSaP+ODPlUFpWmEaTk9w5BpG0RzaN\n",
       "BgX/GRp5SAQ412SMvG+rZGI3s3PL83CwirYoHayiPUa5H1tnP3bLhR9VPCM/f9uFmjsj/e23wKrU\n",
       "1tHNhx7f+l9ST66wCto5LwWlv5DT/35DVvuikQ5DCEmjp5Z2eVkvP1cjD4kAp5VnyKvUcXxszMvT\n",
       "C9IxPjXSoZOLJVbhTi9juY0e4bZpF/qmJEsNiqRnIYRUplKCtJf7pHkj5SER4A1VIzOGd+QelczI\n",
       "e+X1I32dVSpjSTHf0e4py00x0Y5KynVCSOnr0txnk/BBaUhYc8prNmlxXUUwMm/15mOH5SseLvQy\n",
       "qyPkuesDdd/maW8lRlLGW37MednBz0L2+mEQVpeypsWvXITZH/0qo17G8thGs+V71Y5OjCT9qpj7\n",
       "5G41Q/b6YRDW9OrajYxU5hjNXt1nl9npwF98HGjFSZrzZnUdxiP/NM2AVTAGhFW7lrCR7j5CVweo\n",
       "zTZL/hcNx0rCINDovT+14O8xzGl2IWEjd9RYVSo3YyVFAvAgrH0zCRs5UmdVpeSvx0qKAuBBBDg6\n",
       "mbCRxRlWVUr5WqykKAAeRICXWgkb2bvCqkopTMVKigLgQQT4U0jYyNwqo7rKL0pPVGIl5Vajfw0M\n",
       "wqpfTtpI2Mdob0elg2rFS9qn/CAEEFb8KyYJGrmjyapCeSRmkg0gD8Jb/dS3hYKwZmcSN3JiklWF\n",
       "1mApZhILcFY/UU/+/TfDQAQ4UkvcSG2K0sw8efpo7cynf1qImaQxXZCz+mm/lpshBESApyBxI/VV\n",
       "So/3GRqa6Dhkr535vcOdmEkI4D0IZ/Uz2EgMwopDSfQvCFyk9AkSqr12Ji+7YiddpB+EswYabOQu\n",
       "TrWZdTCy1KH0CD7rrJ1J26MrsZMsgPcgnDXQQCMxiABHGutgZGbZU32l5bwHeO1MUnoqsZMQgDyI\n",
       "M3CXRXrFejd9jcQgArwF1sFIOOFpagiPc/HamVjuNOInnfAehLsGGvhGYhDW9KvrYmShQ1T/AO4X\n",
       "yNqZUI3OJEAqdLwHYa9+BhqJQQT4ZCvQyLj+yJx+ltXgkq0lQNLPeg/CWf1ERn5z+MVAEAE+6P5b\n",
       "/kfm9MGY/sgcfJ3TwPLzREgCoK0Awqq7XU1+cPBe+H9hS73L6/4HsZsbGJkgqh8AAAAASUVORK5C\n",
       "YII=\n",
       "\" style=\"display:inline;vertical-align:middle;\" /></a><br>(see <a class=\"ProveItLink\" href=\"../../../__pv_it/theorems/270528449f715796c9d87277548d94bd942fcf0b0/dependencies.ipynb\">dependencies</a>)<br>"
      ],
      "text/plain": [
       "<IPython.core.display.HTML object>"
      ]
     },
     "metadata": {},
     "output_type": "display_data"
    }
   ],
   "source": [
    "%proving vec_sum_split_after"
   ]
  },
  {
   "cell_type": "code",
   "execution_count": null,
   "metadata": {},
   "outputs": [],
   "source": []
  }
 ],
 "metadata": {
  "kernelspec": {
   "display_name": "Python 3",
   "language": "python",
   "name": "python3"
  }
 },
 "nbformat": 4,
 "nbformat_minor": 0
}