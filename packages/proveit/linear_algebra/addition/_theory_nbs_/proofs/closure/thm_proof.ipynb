{
 "cells": [
  {
   "cell_type": "markdown",
   "metadata": {},
   "source": [
    "Proof of <a class=\"ProveItLink\" href=\"../../../../../_theory_nbs_/theory.ipynb\">proveit</a>.<a class=\"ProveItLink\" href=\"../../../../_theory_nbs_/theory.ipynb\">linear_algebra</a>.<a class=\"ProveItLink\" href=\"../../theory.ipynb\">addition</a>.<a class=\"ProveItLink\" href=\"../../theorems.ipynb#closure\">closure</a> theorem\n",
    "========"
   ]
  },
  {
   "cell_type": "code",
   "execution_count": 1,
   "metadata": {},
   "outputs": [],
   "source": [
    "import proveit\n",
    "theory = proveit.Theory() # the theorem's theory"
   ]
  },
  {
   "cell_type": "code",
   "execution_count": 2,
   "metadata": {},
   "outputs": [
    {
     "data": {
      "text/html": [
       "With these <a href=\"allowed_presumptions.txt\">allowed</a>/<a href=\"disallowed_presumptions.txt\">disallowed</a> theorem/theory presumptions (e.g., to avoid circular dependencies), we begin our proof of<br><strong id=\"closure\">closure:</strong> <a class=\"ProveItLink\" href=\"../../../__pv_it/theorems/a9398121f24c0b78e71b008c15b1b8201b61ca110/expr.ipynb\"><img src=\"data:image/png;base64,iVBORw0KGgoAAAANSUhEUgAAAqQAAAAzBAMAAACzlAdIAAAAMFBMVEX///8AAAAAAAAAAAAAAAAA\n",
       "AAAAAAAAAAAAAAAAAAAAAAAAAAAAAAAAAAAAAAAAAAAv3aB7AAAAD3RSTlMAq1RmmUTNIjK7EInv\n",
       "3XZ/CtNrAAAACXBIWXMAAA7EAAAOxAGVKw4bAAAH10lEQVR42u2cfWwURRTAX+9r7/Y+WuMfCjH0\n",
       "DKiNQLlQwA8QTluFqJATogmWyMk/RmNkCUYD5aPyl5HSnphGrgZZlBgoSXsBGmOLtQYTNUWtsRpC\n",
       "uHCFAraV0oTWQomc87F7t7s319vKgZDMS2Z3bubNztxv37w3M5cWwIQ0NjYyy8XGRhm4aGFkQ2WU\n",
       "08lhZrk3mQxyloq4kskIwJ7kVVPav2cp94Y4SY1YI/j6GEfKkXKkHClHypFypBwpR8qRcqQcKUfK\n",
       "kXKkHClHetsjvXgiH08RlJR3kcap8MWrb0ukLXl5yhkl5V1eGa/CHUojLcK3qTmRMtUQ0gJ8twTy\n",
       "hNTMYHKIJUZT/sVn/JbnkzsBdvwTxBVapE/j22s5kTLVEFIbNlSHlCekZgaTQ75Q0k2QNwyfxb/R\n",
       "xV5EKrRI38OuJ5ITKVMNIXViw9qQr4lvZjA5pFxJBlnB1rZnm18s/TnGguMoFdAKLVKHjD77cyJl\n",
       "qmFfil/doXwhNTOYHNKhJIOUZnETiSyPYel7ZHrvi8fDJLMWpT9phRapFb0nR+7wxFTDSMvQPZwv\n",
       "pGYGk8OVhmm6GUgd1KRf6lcLiiUQYrRCixR+isc7TUR8lhpG6onHT8XyhdTMYMYXW4wmcXDy9kMM\n",
       "RE09+9v8E0Cq1XeT6CmkXeo3SnhGFTqkSwAaGM+MGZCy1DBSWzW45P/w3R9KBVIt0iyDMS/YknCy\n",
       "QU9iKQNR0DfF1jUBpFp9K7F+TSxeFIC5SoUO6ToQihjPDBqQUjV78VPg+E6LFJWuA3gC2daMXdTj\n",
       "F9eDM64OdXBgO3ungZq+MOyHN4PpnlqyDmb8TQuaJZYfq5Uh+Wl6BBbJd4M4z4DIKlnHCgJi212y\n",
       "OaRUX+VPfLTGMa2OkXmPK3RIXbJbu2IXultgQVEmUkXtL4BKWbfUb8Ao3Ki3KvShdlI9eFA3F9R5\n",
       "WA1PMoe8F9tnB9hb0fM0SA2DySnOnmgIjgJ1aSSEhGiqhmfwcC6SwqXx+PF4/FesD7YwNmFieTbk\n",
       "s5CnyXyHRn21syF8rYkjoauS5kiBWqFDakmkuWMi97tlm5yJVFH7EHwh/e6pFEcnyxhxFbYlmNRQ\n",
       "2m146CojU/AK1FUE54AuJlSk2sGYkQpsnLNQwAUDUoCf8WVmRrjxILssDAlXzIYnT1rDTqz0QFqp\n",
       "sGuuWqFDCuGFKd+OiUxNBN1wpKK7IqTfkFK1y0KrYUPqsKJOhRE0RwDOkuLLYKmGw4Pga7/HMRkE\n",
       "YffCI7JwGEEc6JHcCxNwZn4AsJUUBqowzdSqqUXtZXBxr+qwNNm0pArphmZrCM1z0E98sI9CIwvp\n",
       "akmUrbJ5pES/vLYXKxOn6tV8/zFqOqhCj/QQCmG0ESFS8sAWN8OXEjVwji5IGJC6H8RcrsN6FGbp\n",
       "fFiKZpbDbwscgeeE090hqJN84YKYR3IHbbE1UG6PCQkBT6e69cSSLEENUtyLT5rkUDBrspqdYaqQ\n",
       "WkxhQkit2F0JksT6gg48VYxID4TuIxbt7jKHlOp/virgkVRkvnQT19XUEZQe6SbkTEgjSqTE/Vkl\n",
       "CylWA9+1qg4DUuFbnH0VfwFlL7I1tA3qwN4wChuRs7sONQAjguQKNEvC/iFY6Rx+GOy4q0tfHiXT\n",
       "JqJBinuxwqdOEEjkJ9nlvXr/Sgo1exxHUWrek4UOSpYr+zrs/kyksz54Hpaj+w59eCJbS3JpDjP0\n",
       "N56HQpkuzpCsSa/YRlIrNz3SAuSPSCNKpASCfSykWA1cEeg0nkTdSyzTh/q0vh6N7sRKMVhQVvYi\n",
       "8qkiskWM9BgMXEysRhrHyubCymTIgt9PlEQycGqRkl5gFGDbSVqIsh3ikMGGRpX7vGg06kexpj8d\n",
       "QrpIEpclps1m+NJ9g5ZyRFpoMCyiutWLN8jSnwKr0gdve+tV528NpjjokRLBjSiREjjoYKxLFYcc\n",
       "gEsy63BvEX73TtrIPpJAIEEYI7HJS6zUG3D1b5VJ0HTK1jDBeBl8Y8aJT7l0CAAnU1nJadhh4sI5\n",
       "K6YD0AWadUTjG04oicpM9m7obXh3QrunH6ACzYvNyqfK3XH9/mwzsJDiRpRICdhLs56X1knUsjKQ\n",
       "1hEuyss/JYMrICY+gabCEFpq1sm+SLPsHXTFxMRH0IQQRnB4ciJb69Q6JxXpJnfYRpAeVLKuEMqK\n",
       "MfVCCksjXlA2Gc5hw9nGnEykumMQYdf7z07k2EQYghMlzNOY1FFNJlLaiBBB64KebEh9e1phxjUW\n",
       "Ui/5chvognsaSm2D4G5P2CrbYlA3uxd85Y++pZRZls2X4GOAvmuy5Rf0flySAantXHs/QVrjp9kl\n",
       "OOv8HmokfKGFBdXvYDakwUnNWPHTUk+sWtvOQuBJJocmslSzF8FAIPsRGa7IREobYSLOP6SMpaTp\n",
       "U33xq2h9ploNo2llOnuAfaqPOdEJ7ZYTahZShV44+zKy42jUMAYcY8UbOx/MIi5pnArGxB+HyA3/\n",
       "UFLHOt5Ij2+xmvla+9tTbacf7NRtr012qVn89mVl+zWdPWm3KCnvcmGcCt+p0K387UkoZp1UtWp3\n",
       "+9l276ysFW5X+b9/zhMzMne88N/x7xCktfM50vwidRa5ONL8InVV84mfZ6ReWeRI84vUfriMI+UR\n",
       "nyPlSDlSjvQWIf0ty9/tex/n/+IgvcNubIrgf3HQZ0qb/4sDE5L6Fwf/Atx/nae/dM6YAAAAAElF\n",
       "TkSuQmCC\n",
       "\" style=\"display:inline;vertical-align:middle;\" /></a><br>(see <a class=\"ProveItLink\" href=\"../../../__pv_it/theorems/bbaf8cca5f815c61451a62c8322a9473bde4f1f30/dependencies.ipynb\">dependencies</a>)<br>"
      ],
      "text/plain": [
       "<IPython.core.display.HTML object>"
      ]
     },
     "metadata": {},
     "output_type": "display_data"
    }
   ],
   "source": [
    "%proving closure"
   ]
  },
  {
   "cell_type": "code",
   "execution_count": null,
   "metadata": {},
   "outputs": [],
   "source": []
  }
 ],
 "metadata": {
  "kernelspec": {
   "display_name": "Python 3",
   "language": "python",
   "name": "python3"
  }
 },
 "nbformat": 4,
 "nbformat_minor": 0
}