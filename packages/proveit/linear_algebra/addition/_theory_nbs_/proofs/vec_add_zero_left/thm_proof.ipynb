{
 "cells": [
  {
   "cell_type": "markdown",
   "metadata": {},
   "source": [
    "Proof of <a class=\"ProveItLink\" href=\"../../../../../_theory_nbs_/theory.ipynb\">proveit</a>.<a class=\"ProveItLink\" href=\"../../../../_theory_nbs_/theory.ipynb\">linear_algebra</a>.<a class=\"ProveItLink\" href=\"../../theory.ipynb\">addition</a>.<a class=\"ProveItLink\" href=\"../../theorems.ipynb#vec_add_zero_left\">vec_add_zero_left</a> theorem\n",
    "========"
   ]
  },
  {
   "cell_type": "code",
   "execution_count": 1,
   "metadata": {},
   "outputs": [],
   "source": [
    "import proveit\n",
    "theory = proveit.Theory() # the theorem's theory"
   ]
  },
  {
   "cell_type": "code",
   "execution_count": 2,
   "metadata": {},
   "outputs": [
    {
     "data": {
      "text/html": [
       "With these <a href=\"allowed_presumptions.txt\">allowed</a>/<a href=\"disallowed_presumptions.txt\">disallowed</a> theorem/theory presumptions (e.g., to avoid circular dependencies), we begin our proof of<br><strong id=\"vec_add_zero_left\">vec_add_zero_left:</strong> <a class=\"ProveItLink\" href=\"../../../__pv_it/theorems/154c2af7f8c5021754219729eeae494910ecee820/expr.ipynb\"><img src=\"data:image/png;base64,iVBORw0KGgoAAAANSUhEUgAAAegAAAAzBAMAAACu8IZnAAAAMFBMVEX///8AAAAAAAAAAAAAAAAA\n",
       "AAAAAAAAAAAAAAAAAAAAAAAAAAAAAAAAAAAAAAAAAAAv3aB7AAAAD3RSTlMAq1RmmUTNIjK7EInv\n",
       "3XZ/CtNrAAAACXBIWXMAAA7EAAAOxAGVKw4bAAAHIUlEQVRo3u1aXYwTVRQ+20477bSd3TfFGLdG\n",
       "44NBqK7gDysUUSBBTNX4QDDZGh+MaHQICQlC3OqbirQQiRSjzIMaWRO2Asbw6/rzgIK6GozG0NBF\n",
       "UPlxIeyuhN1IvefOTOfv3mUGuqZZe5KeTu+cM+d+95577rmnA8AiqadHhUlKPT097BuJajU9WUFv\n",
       "qV7kgM7AJKZ7mqCboJugm6D90/Tq0GVlhKTJvdEHqk9RoVpV/zvQN3qQmWvh3ijyq2/ReGOBDmZN\n",
       "7pVu9y3aYKDXqib3StGkX9EGA/2shUOLt8dK3zCbW/iijQU6MGpyMi8e7bMjAFN7bgOCTpQMLpXL\n",
       "5aMFb8/tVlwzytPWRBsLdF41OcCA15VaYrUO8EUbC/QUCwfIIRNrN0VuyO9jtTK1NdHGAj1k4Tod\n",
       "q12FKhwt8Tz3gU5tTVQH3YbXN7lB0xAYSNUNNNOOmTxcMPme43T5BUrwe3UDwBv/pOE3nt5hVwtX\n",
       "+7AF9IN4/bQbtICTHVbqBpppx/TTczUeTko/08yRRKW/caLIcIV52/d8ZwNfe74F9Ms49QU36AhO\n",
       "zar6uTfTjrm1Zmv8PoBd+GMe+RzSd92gUcd5zKF31vkgvvZZC2gchliSsaaXke/t9QPNtFOjeFuN\n",
       "ryfnE+waBp4XyOdPvGNkIdOcJ5mco4GvTUV10EGybMOsQNZBvrP1A820U6PWUo0Pk52LDE4Abbcr\n",
       "INI7T3FA553DyNemokb0/rZcPsgCHS+Xj5TqGL1ZdkzQKYNL2G3yLaDtz/SACh87QG8b+HAPguh1\n",
       "RNpxtKmoAXohwGYWaCEHUbWOoFl2zHwpaXBxjHSbbDJh7OOcFMyg92c6QKflG4R+HCa6HQllSm3j\n",
       "alNRA/RyEIl0qP1+CH9lBU1al18JwIAR8WU7aM2OGa+JGwW+ztncNG+AJvOUwJaukuafMNUOOqgE\n",
       "R1tStWVh2bj52lTUAB1VY7g7nQFYqtqSk83wCYmGxCWnbtI2+faNECkbecLg6dfZoMngPjKchOfS\n",
       "kLaB1u3Q/XigmIG9oK84pK6MwSXS7S5iJI4tvQX9xJRHtrhcPlQu/4APAEELN61ph3vztamoATpQ\n",
       "CWthT87YM7JpGMdiJAyuJj/WTdkIcdLHP4ziTo5zxJHIdMp9ENpNBtEGWreD9ABOMAmyMUdAopys\n",
       "yulJvdut/Zp/whPOQBavMEGPo20DDdnZNAMUdzvS0HCwoh32CFZhIfrrOXqtGeUdejGpibbBCbCm\n",
       "FDQNpXYGFxxXZBp9ujNwFwt0kSxGVXfQxKhu7zYn6C5FUhlrehxt25qG7ctoBthZcYCO3UIkxBGy\n",
       "gEDP5IYgkIMdgyDvvyZ8HYjiO7N3quIOkmudHlCw/disFCRoFF6NDze3ZQoa7cjKlHByqzZJFdEM\n",
       "vd2pGu/Ukqcodid60VHA1EFvzVyvuUmrM0/ma7daozeswRGSx1b3OUCLn+PlJVhBfFZLpRaDQPI8\n",
       "IbUTFolHD2cgr8jZllJciaWFEmmfURIrsBJnbMV3NKSlbaDRThDejehpVbjN9G7ordR4IikdwBHD\n",
       "Xgkj+v1FdtDTX3sIHjWjvnXf4Wp3W/dpaMEVFi3AQecp61pkT6JHh7QB7c68QoJCaPMFeJEEo0uw\n",
       "FmBEVKKpXkVUSfum4VsBlmDG9+leGvkKNtDUDpAzxcxisZgEof+UJSNL17i0aAAFI/3W9PMnO+j3\n",
       "BgPztAXhPA7ytamo/WhJJv+syjpaLpZJc/CZYnEDjkwJOjs6HidrW8KYSEB/Caf/qnShX3V0ZJZU\n",
       "MxRfkcY8iBTcR8tInwha2A+OWGYpXDC5Tr9Yd6J+XhrKyyTc2lTUDjqvaB11gZ6DbhTRboVGKhj+\n",
       "xVEaxRJ0phOp6KlulW4LETWYhVfp2pdH3e5NXTyWFfScJzJsDX99JtfpTuvtFOfAsY+XLbi197mK\n",
       "CPKW3TB1jAU6T3uu51JHVIimpMrbsK01Q7KNvCoXetXEYLQkVUj7sTQUMJDhsRjXilxxgRZO7D8F\n",
       "orbvW0v1wVGTG/Udy7GWe9pbzy0kubTX+6icJOi0rNJSp5vxlD4Isf0VYemeEuTvOA7yvLufxzby\n",
       "CTw8S0FrJ8fUwPclq2FH5eSjYtGxFqXzJjeaLL7+1vgFF1a64NIe8l0uknYVNzIK9AzVkLlItvoo\n",
       "F71p4Tq9VLuSebWM0AXuA53ammgdamR5VuMCxtXlQXdauHeKZX2KXj1osZ119IwZATWY8QG6N2Ny\n",
       "7xRP+hSdsGqoAVryUw3VJsLHzFE641e0wf7LOmDhnukLv6L+QK+bNcGgZ9qKBd5IzvoV9QU60had\n",
       "YNC01qFzr7RG8SvqC3Q0N9HurZWrNe6RpB99i/oCnVClqwHt5Z2TlarJvVE05VPU5zsnoR0dMMEk\n",
       "5kzujd6/QtHmK1VN0E3Q/w/Q907ml9xPckBP7pfc/wWeX0I2mvcAYwAAAABJRU5ErkJggg==\n",
       "\" style=\"display:inline;vertical-align:middle;\" /></a><br>(see <a class=\"ProveItLink\" href=\"../../../__pv_it/theorems/94ed650375c664cd1d3675740b7ade5dbe5952230/dependencies.ipynb\">dependencies</a>)<br>"
      ],
      "text/plain": [
       "<IPython.core.display.HTML object>"
      ]
     },
     "metadata": {},
     "output_type": "display_data"
    }
   ],
   "source": [
    "%proving vec_add_zero_left"
   ]
  },
  {
   "cell_type": "code",
   "execution_count": null,
   "metadata": {},
   "outputs": [],
   "source": []
  }
 ],
 "metadata": {
  "kernelspec": {
   "display_name": "Python 3",
   "language": "python",
   "name": "python3"
  }
 },
 "nbformat": 4,
 "nbformat_minor": 0
}