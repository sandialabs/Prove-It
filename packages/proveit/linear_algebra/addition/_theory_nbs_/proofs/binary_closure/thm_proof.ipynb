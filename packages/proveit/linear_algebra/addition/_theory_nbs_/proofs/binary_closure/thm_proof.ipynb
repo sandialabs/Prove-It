{
 "cells": [
  {
   "cell_type": "markdown",
   "metadata": {},
   "source": [
    "Proof of <a class=\"ProveItLink\" href=\"../../../../../_theory_nbs_/theory.ipynb\">proveit</a>.<a class=\"ProveItLink\" href=\"../../../../_theory_nbs_/theory.ipynb\">linear_algebra</a>.<a class=\"ProveItLink\" href=\"../../theory.ipynb\">addition</a>.<a class=\"ProveItLink\" href=\"../../theorems.ipynb#binary_closure\">binary_closure</a> theorem\n",
    "========"
   ]
  },
  {
   "cell_type": "code",
   "execution_count": 1,
   "metadata": {},
   "outputs": [],
   "source": [
    "import proveit\n",
    "theory = proveit.Theory() # the theorem's theory"
   ]
  },
  {
   "cell_type": "code",
   "execution_count": 2,
   "metadata": {},
   "outputs": [
    {
     "data": {
      "text/html": [
       "With these <a href=\"allowed_presumptions.txt\">allowed</a>/<a href=\"disallowed_presumptions.txt\">disallowed</a> theorem/theory presumptions (e.g., to avoid circular dependencies), we begin our proof of<br><strong id=\"binary_closure\">binary_closure:</strong> <a class=\"ProveItLink\" href=\"../../../__pv_it/theorems/57c99c8a20d6d6428bab240424f0fde6bdb43d320/expr.ipynb\"><img src=\"data:image/png;base64,iVBORw0KGgoAAAANSUhEUgAAAZkAAAAzBAMAAAC3e2jBAAAAMFBMVEX///8AAAAAAAAAAAAAAAAA\n",
       "AAAAAAAAAAAAAAAAAAAAAAAAAAAAAAAAAAAAAAAAAAAv3aB7AAAAD3RSTlMAq1RmmUTNIjK7EInv\n",
       "3XZ/CtNrAAAACXBIWXMAAA7EAAAOxAGVKw4bAAAFz0lEQVRo3u2aXWgcVRTHz37Mzscmk7xpVJoF\n",
       "SwWtdTEKamq6NWgLtXZbUagBu+qDKFKnFIQ2LV37qLG7VYIm0nYCPrQVkrVplSYaolUQqrVKlQpZ\n",
       "MtGU0sZuA2mITbDx3I+dnb07E4JuhcQ9cDIze2b3f3/3nnvunSEAbqYdPWrCAjPvNlfPzsYWGo06\n",
       "O5v2oInDArRAhaZCU6Gp0FRoKjQVmgpNheb/THPl/PzuM7h7R70Cejb5n9GcmN9teoS5hz0/VyAc\n",
       "pzS15PrOUhofOfqjZaJxVRHtHu5esEJj9NevR0AZPkcDnOZxEni5lCZIhidklInGVUV8eEww97RX\n",
       "hesecvNGFuA0b+KVnC6lUUh37ihXprmqCBaMMnfY00VXDwhfqBrEP7UswGlC+DAdjrjMG9ITx8pF\n",
       "46oiNo67w1YU38Ce+/UD2V/oSWgcL5IswGkC2BshtyrQgMdEuWhcVQRbxt2TJkQHTtqaf5nhmwJo\n",
       "5QFOA99ns6fdaKqy2aFM2Wqam4pg67h3jxzujxTRaKNR6MLBpbXkDfvNTHiSJRoJ5GnWAnS60QST\n",
       "oJplo3FTEewl7jF9SfBsEU3YPwirsLWJ4loSmIAAXUowkKfZBjICSvWPQehrJw1+uu2fNP0uu4I6\n",
       "aZiKaI/ieC3/gF/8xDxgBKZ90SKavUhXh+sFmfWO7JdmWKKRQJ5GNckZ/AHQYhatnp2kFQ49qb4d\n",
       "lKzFb8mNve2+vcCvbrwWgddiEHPQcBWH7atrh/Agz3xi3zBXIMgavD6b/S6b/RHPzCoLzmAEZz0o\n",
       "mLPZX1kCXmeJRgJ5Gr9Fp+d+0OPFe4EVpBvyekS7CqfRxXw5TcJqV5ouMiqDIPVh7zhouIqjHq8l\n",
       "nToNkBFocMZaYhXYYip/YneSsdEcdf4vlmgkkKeBRBP5ZELuE3Y2oYBl61FtfbygjaXU50pD1km1\n",
       "Fi6QHzAdOxuqklsziuuxNILf/Z0E5ElMLCjONGy7oZnFNE+QDgI/nU1nC1rDH7MjBmyaY2RlUaZW\n",
       "WgJNeJlp61FtmAB/EnpzoA/cEroNZPlA03FT7sX2j40Y4SYLfmuMUrGaaCtpjr3AnOAqulEXws+6\n",
       "a8w23sU3YLstepD5kfgdEBbGZj/pIL6rzBWaeShtb55tml0k+fSZ1kGBRv7S1uPa6yEIoUgwehzW\n",
       "ycPn4pAy9IQvU2WEY8HMi9AsZWRLJjmf2n6GdlnMQUNUAnBQwdOd98Ilic3zFwqJBp8wv++tJ2GT\n",
       "QLMatpCNAr03VFiEN/C5gQGbxkeWUzUNp8U99K22HtfeE98LKZA6p2AnKCM3oA1gUjbUaI8hHx6H\n",
       "zcq1u0Eiv3j1s89pOqcdNFQFpuj17bAk8EpHx7vYP3phEXiH+Uc5f3NEoOka2GDkW6XVPSdudTBg\n",
       "01CricJV0+2JgOpxbTWdgZUNDc/g/NFwBAjNKRi7Ym3BO041PAibZ+N+MtAdtGCAkhafCJRBmRx+\n",
       "hm8VNiarNjm6MMncdS/wKfpuXphP8p2NbbtBoEkZrAUlNFSPa0uTFjKAPE1LQDUdm+qoenmPSaun\n",
       "YgYSlGAC9Gkx04jtCieCgDP3vDTO19JUzFHbY8xLd53hhPYVHpq9lrhmgUY/1AfLZ9xomB5fx4dM\n",
       "UKOa9SFO5DguiClTT/eY1Tk1o1nvQTe2Pk2qgIL5RNJWtwSa4IWBy9AWgaUPJ2AHHYVq527jfe6l\n",
       "D4+WLzPHHpwEisfG89mT6TFtWIren4PwgBVs6c9A6v5R0Jsf2so/8z/VaJDmXJox/T+gvGq4PntG\n",
       "NJxqoJ3saBdUj3AvMX8TrfteD1skME8avu8r1UZrc/lqS3HrqH3hfC8gmT7rWfc+tph72MU5AvpQ\n",
       "/F+/F0i5PXMVenCN+9YHpKYy7c3L+s5GrndrVZ9zx7bg30BpJSeVt4M3l2Zf4yKiUWrVRUSjJhdT\n",
       "plWb2iKikXobFlMVWFw1rUJTobkpNI8sxP+26/aiWaD/bfc30gG/AjHbq44AAAAASUVORK5CYII=\n",
       "\" style=\"display:inline;vertical-align:middle;\" /></a><br>(see <a class=\"ProveItLink\" href=\"../../../__pv_it/theorems/3f2b9315a2ccddd19f94c357da6d43c39bb03c120/dependencies.ipynb\">dependencies</a>)<br>"
      ],
      "text/plain": [
       "<IPython.core.display.HTML object>"
      ]
     },
     "metadata": {},
     "output_type": "display_data"
    }
   ],
   "source": [
    "%proving binary_closure"
   ]
  },
  {
   "cell_type": "code",
   "execution_count": null,
   "metadata": {},
   "outputs": [],
   "source": []
  }
 ],
 "metadata": {
  "kernelspec": {
   "display_name": "Python 3",
   "language": "python",
   "name": "python3"
  }
 },
 "nbformat": 4,
 "nbformat_minor": 0
}