{
 "cells": [
  {
   "cell_type": "markdown",
   "metadata": {},
   "source": [
    "Proof of <a class=\"ProveItLink\" href=\"../../../../../_theory_nbs_/theory.ipynb\">proveit</a>.<a class=\"ProveItLink\" href=\"../../../../_theory_nbs_/theory.ipynb\">linear_algebra</a>.<a class=\"ProveItLink\" href=\"../../theory.ipynb\">addition</a>.<a class=\"ProveItLink\" href=\"../../theorems.ipynb#norm_of_sum_of_orthogonal_pair\">norm_of_sum_of_orthogonal_pair</a> theorem\n",
    "========"
   ]
  },
  {
   "cell_type": "code",
   "execution_count": 1,
   "metadata": {},
   "outputs": [],
   "source": [
    "import proveit\n",
    "theory = proveit.Theory() # the theorem's theory"
   ]
  },
  {
   "cell_type": "code",
   "execution_count": 2,
   "metadata": {},
   "outputs": [
    {
     "data": {
      "text/html": [
       "With these <a href=\"allowed_presumptions.txt\">allowed</a>/<a href=\"disallowed_presumptions.txt\">disallowed</a> theorem/theory presumptions (e.g., to avoid circular dependencies), we begin our proof of<br><strong id=\"norm_of_sum_of_orthogonal_pair\">norm_of_sum_of_orthogonal_pair:</strong> <a class=\"ProveItLink\" href=\"../../../__pv_it/theorems/3cba4c5666f6dbe2e96411c4930cd784e03bb3db0/expr.ipynb\"><img src=\"data:image/png;base64,iVBORw0KGgoAAAANSUhEUgAAAosAAAA/BAMAAAB6AJ9uAAAAMFBMVEX///8AAAAAAAAAAAAAAAAA\n",
       "AAAAAAAAAAAAAAAAAAAAAAAAAAAAAAAAAAAAAAAAAAAv3aB7AAAAD3RSTlMAq1RmmUTNIjK7EInv\n",
       "3XZ/CtNrAAAACXBIWXMAAA7EAAAOxAGVKw4bAAAKI0lEQVR42t2cDWwb1R3A/7HPvvP5K2zSGFRq\n",
       "PBFtk+jaExmdVnWNoeuomCBmXaR1nXC6TZvaSetFk9iyMhKkwr5K7REQDSBy1TQQKyxeC4NRCKFl\n",
       "64B1eGISU2nai8rYWFgakrpJ3TXeu3f3znf28zV7d8ixX6S7i//37t793nv/r3c2AK0ESqWL4GVJ\n",
       "l0p5Ty8IN0PdirjdONhRKiXIloqx0P0VbzF2dw94esFYT/0wwrvG/q7udIJsqRinPb5x2usnSct1\n",
       "xBjKkaNIorxtQIzikTpSBPFwk2Dk6jmnAVYozYEx40LTtpXcFogmmwPjVhd1PXAZfHNNgdF8DIbC\n",
       "t3rQgG1NgTGaZa/rVz1owKqBZsCYSbDXbfHCgY0kmwFjm5uR7ImnMN0EGMWzLio/7kULArNNgNE/\n",
       "76Ly1Z404Y9NgDHkpnkb9FnJpF3NpAR0yY2PMe7CUIMe/1zHVvkeEr6skhofYzrnQq9ijH7GYNJP\n",
       "nM7+1sbH2JVyYRywq7JbqRLs/+2VjhV1+b3E4xlrfIw7FPa6YfzI36kWJOEmx4q6/Anj1qFi42N0\n",
       "k5kPahx8xWpBAfodHXNdzhmzOjbT8Bj582697yhFua65BEZdzhvRvO9sw2P0ufG+78TBJFUrvHCJ\n",
       "qlj+kH4snG94jLEFfVCiv5oDtqbstLa5QtvIYC5E4EPheM2LWORrDYN/seExcrpe2gK7ap5SW/aA\n",
       "ttFCuUBOSJLHxYd9Sq2LWOX9BrKSHSNWmVdRMFIFLjC24PkoeRHEzDuhevyYI0YtaSvMUTDySV6u\n",
       "xig+nLfLSeL7lGLDiGOjb1MwUgUuMHKasxf0YkEvOOc44r7phBEnbf3TFIx9P9mlUEZjMGmXk1Wg\n",
       "HbINo6Zy+SwFI1XgAqOgPUCfFxeLFGkYA2SgzzhhxEnblh4KxtdLJePfTVaM8YRdHjP03XDKhlHz\n",
       "o8IJCkaqwI1u1ML6A56E1NM0jD7VaHvRCSNO2kZaabrRLCutGNOKXe4zskttCRtGP+rEIM3EUAVu\n",
       "MHaYeYEPFGM474QRu43x3OIxvlAhF2aoGOHY+PhrVEtNE7jBGBkfP5HzHGPv6B12jMHlE4naGHHS\n",
       "Ni6ZbPhl/1QdMW6d+pBNLhoJ2y7JjnEjwINUjDSBG4zcAIQULy42YsEYOArDig3jyHZxjmDkxnGx\n",
       "rAVebTotOpuvySg6dsAonlNGZJt8gY6xF1uvQNv1EHzZhrGXbS3SZxpj1Y4RXa3X0R00Zo1kywfQ\n",
       "MI6VMT4hkYwCwbhKgb9QR+MPtA32PzImRvEIcHknjCj6jqg2+QV996JqxxhSwprReQ9VU2wYscCP\n",
       "5qHvFT3YvOV8Cu45SUKJqWfpM/Ras0+4Cvf7QXja/OBu4gN8DimOFXuxO2gYAdINwjaAa8qZmdEc\n",
       "DWMXwFv6sDtxTB92X9CelIbxu0CUczpFMHLTWnxtxXTT+Pifx8f/Sm6A/Jt4zobxLB2jT8WG5BcQ\n",
       "S9kntS54Hg0j9ADCxFAK0BPHyENuNJMdFWnRVrNPAjk7xpUWC9OiyfZccT+EEZOdYMG4zzxnmfkZ\n",
       "KutgMw3jKyAW7KPxLQjM0DD6z5sYy6MxkoWRlNNoRJDTicVghJ51OD7in6sMBrEAzZEw2n1eG5Bn\n",
       "AB/jMmbEOVVTM1Xuk+12jEHLSntESzptNHJWOSvGf5jn/AmdIpf/icvVJkZc0H1pC8YZ4Io03fjL\n",
       "E2bStoxxRIVOR0uN3MYuZTG6EQ5sx/HRWrUSIxb0p+AzaBBKhoX7JITXqTA5IW9VQO57Y/JG2Pnp\n",
       "FMRGL4eDUxC76qDuURh9csCOMfxxpDXEg5MajszUlXqWgC+AX7ZiRONl/7pntCYtTCg8aT5fLCcA\n",
       "rBhnkC/9CRvGeU1fUkZjost0hPtNSz2SgI/4ZCeMA0h92uQ1LDXcrnVW7MLOsUqMWBBXeYks7iJt\n",
       "nISvw/pwksv96OIGLTZ9B029o/AUfDGY4KQtcAfcZumTdjtG/iW0eVLOaNT+o7wtZo3e/R5YMKKo\n",
       "W3wTB72x47EkZIEbQmVQKEJUojg8j8Cnkkkbxg/DfXS/sRMbAqwVVIIxpPr+xjmNxhYplLTJ+Rp+\n",
       "o+7Yh7LwWiVGLAi2hs34iC8ICWEaNo/IvAJ72lRhDOKp78Mg8jB+mIFANnO9gjUY6ZPNFRmej2ra\n",
       "AXZrh4Ow2ojethpz2sCItlxS0KqHJH+PmRsRNItJFIIF477JHy8fsGHc95REx9ifI69M4FdHdEu9\n",
       "/Nnefzk6PMvWV7jfhRoYwZivZxRaoozL/xttV6MRgc4dCoP/SMe1GhQFhGn0tBEpNnpSO31tR0cq\n",
       "MFyAj1n65KeURNkfYEJXddf5tw0N3YtMY0yxYkRmLZKKtWL1iYzYz8uTOk4aGy06RTE10xbxHiNp\n",
       "C8Hs4qOYSjlZfxgeoGFEMy2So2H0F7RzjKdJ34rgoX5VsH3J49H4BjzyGLp0Bol/BqsxOtIn7dUY\n",
       "0cAd/DXaT8NhQb9f55fAihHZphE5tAZVj2vNu8GY1FYTQ0+UBaRLYAxOG0lb4MYcMW5ywhg2Xo88\n",
       "JVMwxoafgxUXaBgFbOCN8CP6qjYdfxPKiWoBudNopr0rFuGk+hD6TBLVdoQiaumTKcpoPCoU1og5\n",
       "OO7PGjFSJmnDiDRmRM5sUvZDVPksiGaKaQpuMSdIgSltG0b0L9eHRtERIzhhDBn+yev/Z/Ybp875\n",
       "vfqITmp+sAqHpmDDoUMgzK5Mwtsdd6vGZ+2nn4GQXO6TBygYv3zNpCQchl0IcR+eF1HFhhE9aWD9\n",
       "yoOwOyHcrFp82fDojeYiwiwTRt8sedNWnGHHGDcG/X+ZFhH2Dw1Vr7ELY5SqZdVQHkqViwg+Xf77\n",
       "ofutSW19R7RhwvJZhSOtT5s9httOKzSZeNbMn96nNV7lSVMth9SLWOXGN0l4D9diBNppN5Stk1wL\n",
       "41epawO2XQAP0luprXufLaVxzHzTdi17XuR3tjZ4grH3AuXDsGKJrmtglBwwGss1frylvg8inmMj\n",
       "0KYlmfRwkv3tFeMrMf4F7zDSi1J1sLiVQb66GtATa6fYGnYmRd60DTOnj2OGHuPmP2iMtfKN3pUu\n",
       "toWxtPqoJVxnXAdKlL0nBozC6dzSwdjJtkwbz5pv2q5mvfU75Fp5Jox3QnbpYOxPMlWLjpn5ziDj\n",
       "ejl/lIQrOSaMe5fSpI6wfdGKmzMzd+KbbHd+kgA7M8CE8TgoSwdjuMhUzT9btiy3sT3OIDl4GJgw\n",
       "bumQlg5GfoGt2rmyMuAHWK4gEkdJfJ8N45Ky1PAttmq1fsyAYWDPNwPGTjaPx83LzhXZonwzYBxh\n",
       "876e985XkJoBIzfGVK3dswa8CM2AUVyAuhbz/g3+7f736ouRyzcHxqhaV4z9qebAGJirK8bLoDkw\n",
       "kuxpfYr/1WbBGKrnrL59YJEYl/xPvYl/ryPGbxB3/hI/9SZ2e/xTb7/y+qfe9LcV6+TuEANzV3e3\n",
       "om//B8zZsRQYlgPwAAAAAElFTkSuQmCC\n",
       "\" style=\"display:inline;vertical-align:middle;\" /></a><br>(see <a class=\"ProveItLink\" href=\"../../../__pv_it/theorems/80dfb10e53303acd1a40b092857d5971dadfac970/dependencies.ipynb\">dependencies</a>)<br>"
      ],
      "text/plain": [
       "<IPython.core.display.HTML object>"
      ]
     },
     "metadata": {},
     "output_type": "display_data"
    }
   ],
   "source": [
    "%proving norm_of_sum_of_orthogonal_pair"
   ]
  },
  {
   "cell_type": "code",
   "execution_count": null,
   "metadata": {},
   "outputs": [],
   "source": []
  }
 ],
 "metadata": {
  "kernelspec": {
   "display_name": "Python 3",
   "language": "python",
   "name": "python3"
  }
 },
 "nbformat": 4,
 "nbformat_minor": 0
}