{
 "cells": [
  {
   "cell_type": "markdown",
   "metadata": {},
   "source": [
    "Proof of <a class=\"ProveItLink\" href=\"../../../../../_theory_nbs_/theory.ipynb\">proveit</a>.<a class=\"ProveItLink\" href=\"../../../../_theory_nbs_/theory.ipynb\">linear_algebra</a>.<a class=\"ProveItLink\" href=\"../../theory.ipynb\">addition</a>.<a class=\"ProveItLink\" href=\"../../theorems.ipynb#multi_vec_add_def\">multi_vec_add_def</a> theorem\n",
    "========"
   ]
  },
  {
   "cell_type": "code",
   "execution_count": 1,
   "metadata": {},
   "outputs": [],
   "source": [
    "import proveit\n",
    "theory = proveit.Theory() # the theorem's theory"
   ]
  },
  {
   "cell_type": "code",
   "execution_count": 2,
   "metadata": {},
   "outputs": [
    {
     "data": {
      "text/html": [
       "With these <a href=\"allowed_presumptions.txt\">allowed</a>/<a href=\"disallowed_presumptions.txt\">disallowed</a> theorem/theory presumptions (e.g., to avoid circular dependencies), we begin our proof of<br><strong id=\"multi_vec_add_def\">multi_vec_add_def:</strong> <a class=\"ProveItLink\" href=\"../../../__pv_it/theorems/4f361835f7616da6fb427aadcc59caf1b3341efd0/expr.ipynb\"><img src=\"data:image/png;base64,iVBORw0KGgoAAAANSUhEUgAAAz0AAAAzBAMAAABPpHurAAAAMFBMVEX///8AAAAAAAAAAAAAAAAA\n",
       "AAAAAAAAAAAAAAAAAAAAAAAAAAAAAAAAAAAAAAAAAAAv3aB7AAAAD3RSTlMAq1RmmUTNIjK7EInv\n",
       "3XZ/CtNrAAAACXBIWXMAAA7EAAAOxAGVKw4bAAAIn0lEQVR42u1cbYwbRxl+/HW73j07lviVBqVG\n",
       "OeCkXFOLfJSikpherkSUgJv71V6Uc+kPRP6wFRIopG3cCCHoR84BhdT8SDZtJZoLujophLaByGpB\n",
       "gYQGQ2KEol7Y0x1FIdX1pHBcexEcszO7tnd3NvUZr7mz9pVmPX48876777MzO/OczwDHRkdH0Upr\n",
       "0F+rwy5Lk0ZHVSMVrMqxvy78s6UxG/TX6rDL0qILC3ng6MIHZpVjlRbHrLS0WadbiJJyd63q8+Pz\n",
       "4/PTOfwk9MMan5+lys+Afviqz89S5edJUoS8z89S5aeLrPrlpM/PUuUnlCIc+euDpbt+e2t8/ILP\n",
       "z9LlZxvwY5+fpcvPoxASzcb6LBl5fc/5/HjJT1SVM83EObDyEOQSsNcfP57yE9SaWh6Et+l954Gi\n",
       "z4+n/CC7mRymPz+lGO/rqjWrB3clkMCkXhNmEVJ8frzl59RuIK6s7DI2QXXVmtWDkjYvliR2Mf/B\n",
       "N/z1gcf8PEaWByEcESHQdRyt7piyPpMoaJjwfDmej6Ro/eFlPr3Z+OGJkZUWa5QN+qvxE8jpxzlg\n",
       "/xUGkGpJmrG1n6tVA8WAFvpaofADYHtc7SR+eGJkpcUaZYP+bMNMLAnAlWpVEUvOzzcMrqX1WKY7\n",
       "J7Jxs2VHR+1/eGJkpcUaZYP+rPw8JmfDlJ8TRjWagVQk7+jBANflY9CBWG7Y3NOOpDuKH54YWWmx\n",
       "RtmgPys/4b+d/Qfl55kkq5LVs/gGnlHEc+RggIHcNyka7P8RsIfOijG1o/jhiZGVFmuUDfrjLSP0\n",
       "+Y3RKqsa2d1UP2BgDJMP6ehP8EMyjl4rHOo8fYcjRuqJaqVG2aA/Dj8HLiQRYQPi6wtl4CHzAwM8\n",
       "hrUpHV0dyaJTzMYPR4zUE9WsRvlJs6I15K/44cvwUF09xQMJOngdncoPEyMjt9+Lrl/XJYrCobeL\n",
       "CP6OTut44IMMnr1qbg6nX+XvMkIZ01XYmngXzTPt4barM/gxxMh3gSG1LlEM/iVZdREixIlCBhf0\n",
       "PbvRYhvCfIX5WNVVpGhJvE3zFC7/HPckfH4+nB9DjDyIeKY+UQy+U4VMXrbqQ+g90Dq1krHjdNhA\n",
       "zdVuOP0ZT5WVh/AxWQ2rPj8N6DtUjMQN4XVroii8L4O7yLCh0/6KFHohb9ZwfUJ5WIWy59L1L2Dv\n",
       "BkIFAQgeX/MKUK65OsXxx1bOus68RkvL+NnWy1szPH4Uo3hvAg/0Krzgjiqu/OhiJMS5ezRroii8\n",
       "QhMIN8dZWsvkbv8K+uV0uPj4vwdIF7yDVTgHHSD4EJ6AkK256nH6C/UfmALTmXs//oTs+vyJJ1lp\n",
       "g0U0J+ZZeF4wA93lyo8uRiJ+c2/JmigKdyX0JA4ymmfFpDiDB19WBBUHbtfEElZkvkU2HgR4ieAj\n",
       "95KHTr7m6kGnvxd2proVpjP3ys8PufKz1ijtsEkn5F34SVc0nnLjh4qR0TwuWBNF4XCZbNyxqVAo\n",
       "kNupICP05vqNwwRRIc4QfrpT8bNXQQAdjxydRTBRc/V9p79vv4MVKtOZe5G+5saPlGWlLdbl0Bs8\n",
       "DN+luqK73fiB8XB5T3XeyKFZfZg/zd4M7yKskGeSShcHZTp+LuGIuk+l+FPYBDFfc9XDGRirsRNM\n",
       "Z+7FiS63/U84xYp9HkjxL3rQbTZxaW/tEHLodR6GrwZznsKGW/IzoqC76MynSP8jJ8qYi50Hmc3G\n",
       "okVJmyW7GXEe16R5XNV0gOA9iNL1gelqmsPPb7FVZDpzLyLr3PSDbqPYLKjxE7HOJUFu7W0dzts/\n",
       "9jL8eddT6FZvwU/86Ovou8lZSFF9X2DfhwkSmuWzGs5MY+DMGYg31qUxtf67FCB4z+QvgMM1V4ed\n",
       "iRdm8JdepiNsBCbc+PmEUdrDzyP2j70M/4jrKXSlbjV+bi2EnSgUnF+osf89htpQbRbPO/1FErie\n",
       "ojqz+GcFAbew9xtlbOKlM0nnBUvTtz19ahEJsrc3O4z1QyIT9Ul7Py/Dn7R2kqZS+pZeR+VE8/xw\n",
       "TZzhgGHFWbP7c9OZK/W3k17S8dXhsvOCw5jQti8iQfb2ZodiH0LkGjbRNuPUEl6H32TtJAdL2MLQ\n",
       "ULbF/Dx6k4dWd7kbFy0MVJv9iZWQEpoPpPBC1nbBd2GL+hGcOHlbgwli7R0ZFZPbESAJ6LP38zJ8\n",
       "n7XTfnIDrGRosNRifvgmmRW1eX5+w4qIsL7dnS4bN/jbb7EbPIf76Mqc3pTbx8d/Pz7+R+dAtrc3\n",
       "rdpBwkV0kxyO2Lt6GX7E2kklJ3CRodXpaOl/f8dIEGj6ECw7HrjkkjCLfblGH9AXuU/0yDxGiIud\n",
       "Lvx4En6nbdANq+L7DI38D+NHnCy2kx9jgiFnr0gqJ0GROYziM40niLbf8OnptDU5ZHi8S17usD9/\n",
       "vAx/h42f+xAvMbQapwl+nkS+nfwcYeV45qO6Ym5PkHQoUKL72l819gBg7aWNb+KctUM0gYNmJurN\n",
       "y/B32zod1M+ColUumuDnufbObydZufOpL2KHM0HB918sRci6V7xivdaXs8ZB+henvTCWxbxt/CQi\n",
       "N4yltMW8DH+/jZ/PYTjF0HCxeX6uQG0nP8+y8uJ0sD/JuYG/pPV8irzuUa3XGkubh8u89gGtOsOb\n",
       "m49VU3O8s/MyfMXGz7GzX1YYGss0z8/Q+lQ7+YnlWDGus8zdkAtpQVnMBr47F07bnxgyud2Fsr2f\n",
       "h+GrwWqdThun8DiWzfpN1wtrsmU1QVbBcc/3vqMuRqDch9j+nKXDafw0yVNCPQxfDTZo3iDSG8Yp\n",
       "9C8ffqh0Z8p3wumbXOHrDwsLizqJBxB/xYpcxSo90c6m3oW3B4tpgSJDa1+uXQb8HIf5R1svbQ39\n",
       "j4jDzg+8C28PFtw8YKBRZRnxI2istMHinO8ZeBY+rriif0fj/Fxq8Q/lNejvkv/7fPqP8o3l9d/n\n",
       "u2ZWOeb/Pt//z2y/z/dfwHLRDp+v5esAAAAASUVORK5CYII=\n",
       "\" style=\"display:inline;vertical-align:middle;\" /></a><br>(see <a class=\"ProveItLink\" href=\"../../../__pv_it/theorems/9057a1b8fa606c44b484684646a8ccc5f4133dfa0/dependencies.ipynb\">dependencies</a>)<br>"
      ],
      "text/plain": [
       "<IPython.core.display.HTML object>"
      ]
     },
     "metadata": {},
     "output_type": "display_data"
    }
   ],
   "source": [
    "%proving multi_vec_add_def"
   ]
  },
  {
   "cell_type": "code",
   "execution_count": null,
   "metadata": {},
   "outputs": [],
   "source": []
  }
 ],
 "metadata": {
  "kernelspec": {
   "display_name": "Python 3",
   "language": "python",
   "name": "python3"
  }
 },
 "nbformat": 4,
 "nbformat_minor": 0
}