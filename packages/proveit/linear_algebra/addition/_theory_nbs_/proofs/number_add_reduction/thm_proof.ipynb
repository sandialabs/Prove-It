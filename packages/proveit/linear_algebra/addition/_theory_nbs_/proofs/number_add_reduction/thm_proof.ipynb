{
 "cells": [
  {
   "cell_type": "markdown",
   "metadata": {},
   "source": [
    "Proof of <a class=\"ProveItLink\" href=\"../../../../../_theory_nbs_/theory.ipynb\">proveit</a>.<a class=\"ProveItLink\" href=\"../../../../_theory_nbs_/theory.ipynb\">linear_algebra</a>.<a class=\"ProveItLink\" href=\"../../theory.ipynb\">addition</a>.<a class=\"ProveItLink\" href=\"../../theorems.ipynb#number_add_reduction\">number_add_reduction</a> theorem\n",
    "========"
   ]
  },
  {
   "cell_type": "code",
   "execution_count": 1,
   "metadata": {},
   "outputs": [],
   "source": [
    "import proveit\n",
    "theory = proveit.Theory() # the theorem's theory"
   ]
  },
  {
   "cell_type": "code",
   "execution_count": 2,
   "metadata": {},
   "outputs": [
    {
     "data": {
      "text/html": [
       "With these <a href=\"allowed_presumptions.txt\">allowed</a>/<a href=\"disallowed_presumptions.txt\">disallowed</a> theorem/theory presumptions (e.g., to avoid circular dependencies), we begin our proof of<br><strong id=\"number_add_reduction\">number_add_reduction:</strong> <a class=\"ProveItLink\" href=\"../../../__pv_it/theorems/ab099936ff5f9d0c8301bbe2e0da270acb90387c0/expr.ipynb\"><img src=\"data:image/png;base64,iVBORw0KGgoAAAANSUhEUgAAAmUAAAAXBAMAAAC41CX3AAAAMFBMVEX///8AAAAAAAAAAAAAAAAA\n",
       "AAAAAAAAAAAAAAAAAAAAAAAAAAAAAAAAAAAAAAAAAAAv3aB7AAAAD3RSTlMAq1RmmUTNIjK7EInv\n",
       "3XZ/CtNrAAAACXBIWXMAAA7EAAAOxAGVKw4bAAAFEklEQVRYw+1YXWgcVRT+dmZ/Zmc3mxUfrCIl\n",
       "opaIJC41VR9EI0lsUFuCvtlSgz6IfXErgsTasD4Iom0pQtDkQQZTxFiwa7QBW5AoiIWqrBKkD13Y\n",
       "aDEENeRJiyLxnLkzOzP3TrLZnd0nvfDtnj1z9n5nvz33F2jYctUSoreig3a3sD5T6BBRcbtqZMba\n",
       "wJjrEWh7OxTi+wkdIjok5Mjz51u31izGb1ohCuOdDtrecmpaWrlTRAzSbIQ/P7u1ZnGutGSUkWWO\n",
       "C3SgHVY876NjRIdtzV7l8X9qa80MLsaJKHzxgoDUngiPTmxW0mEPBhTPECIThcUPCJBmSYveehrM\n",
       "ZyzxfBTNsg6k1h8erdWw/QdZS/YsRicKi2ciAsmhk9TJRmvA3fQWaWTtctABzZJyrWjjndGMiQi8\n",
       "JH5brV5qpFm2Wr0SaWJ91MFHyx9c6FFTk9wNNfPHZ/LyPECZmms3vTmP1onC4pmIwJqNAjONNIuX\n",
       "kLaiaPaMg8HcznhFTU1yN9TMH6/bZbWvyu17tx7iWK7tQ+tEYfFMRGDNjiCVD/lW2a8ZRRyJtOb8\n",
       "IKAX9b9iBSU12d1Is0C8Jk9fXVQY9+JB63q0ThQWz0QE1ixtBTatqaVzuJ9EHAzsaWdwrnmhVh9a\n",
       "cXP6SsBAnKti1i2Nb0RpCLd54Tqu5TjNAzRfqP+j98DpRjRjXZ6rKd8SHuYdzj1ohUiO9xERWA6t\n",
       "5i0BJ2+cwi0ZK27JmvU3uQRwR3M34I5yUDP6QaSisVaRp1p2x+EOg8ZrQNaLSCyGaAZ8x1n8jhaJ\n",
       "AvE+ooSoM4w/UP8nR/lMUBvMQNYsqdea2o5xR+dr0MvBsQk8VTQtaIpm7O4eS13brmZ2N46vIs1n\n",
       "PDaR+BMfAn1okSgQ7yMi2JrN0+5LHzp5FfiZH/XePpnBp8NLw2M+zTK76Ju5q5N73YOEZ/pOF3Un\n",
       "d2TeN+adoN8VmBu7GRkomgm3bm1XMyfezhm6vCFP12BOxRZ5RpY12zZRMN4jItiavUIjevZgIVs0\n",
       "bfbezHsHlDpLfUHGSuzU047PZ3qt7rQ70l7wHbY+FrjrjcfwuKqZ40ZGGjJnefL5wzF8D0S8nbPY\n",
       "WgTX+Ty0a6cXEz2qZpsQ2RwBokC8j4hgaxYrAS//gm5LnCR6MbiqaIYdhEK6VsKEXapsJvpHgsna\n",
       "z+tHEn3Wtzs5IXB6TRvqUTVz3DhhBTXr4iSWXMN7IOLtnOmZfO1iVGDur922G6pmmxEtQSIKxPuI\n",
       "CN6KuRMHoT83Pf0WaXYmqWpmt+4ijD7LNbM4K2Xb7VSW3ZHxmu+iqask4J+ClO12aqa5cwDnDBxT\n",
       "oi7XrT60SBSM94iO+eW4iGHDKIs6S/TL+zOnHaf5qctyzRS9BBs59ZHdZYiOaA2AW2r6oICkWfAo\n",
       "/CJeauqMzjmHncgHVM2aJQrGe0RDPjlS67jcK84De4Dl0DvH1OICVR9pZpaFiSkyccZ9sZ3aKirO\n",
       "weLoXmTq/+PbDoKaBf/9d15/pJnFWeQccieTLiqatYmIUdcskcevBUzQ6DF+LCIWfk+7/8CaxZoZ\n",
       "XwqTTlRkHi8aX/OL49yRommUO4K5MD1a72TOgZ3Dwt9hYyK7sbHezE8ROafVaz3TlfHo85+jrUQM\n",
       "6dra/Gx6KuS8GbgB57GpCfN8rm6iblVye6yQjlI1gba3lRDfJDpERMhdafqq3/htHnhS3I1s/OOa\n",
       "3IRl5rVP8H9TWyHMLPxnfv6/yK3QX2ypC3UAAAAASUVORK5CYII=\n",
       "\" style=\"display:inline;vertical-align:middle;\" /></a><br>(see <a class=\"ProveItLink\" href=\"../../../__pv_it/theorems/1b6aa01f47a0b1b01dac38b9c93d537812a317760/dependencies.ipynb\">dependencies</a>)<br>"
      ],
      "text/plain": [
       "<IPython.core.display.HTML object>"
      ]
     },
     "metadata": {},
     "output_type": "display_data"
    }
   ],
   "source": [
    "%proving number_add_reduction"
   ]
  },
  {
   "cell_type": "code",
   "execution_count": null,
   "metadata": {},
   "outputs": [],
   "source": []
  }
 ],
 "metadata": {
  "kernelspec": {
   "display_name": "Python 3",
   "language": "python",
   "name": "python3"
  }
 },
 "nbformat": 4,
 "nbformat_minor": 0
}