{
 "cells": [
  {
   "cell_type": "markdown",
   "metadata": {},
   "source": [
    "Proof of <a class=\"ProveItLink\" href=\"../../../../../_theory_nbs_/theory.ipynb\">proveit</a>.<a class=\"ProveItLink\" href=\"../../../../_theory_nbs_/theory.ipynb\">linear_algebra</a>.<a class=\"ProveItLink\" href=\"../../theory.ipynb\">addition</a>.<a class=\"ProveItLink\" href=\"../../theorems.ipynb#vec_sum_index_shift\">vec_sum_index_shift</a> theorem\n",
    "========"
   ]
  },
  {
   "cell_type": "code",
   "execution_count": 1,
   "metadata": {},
   "outputs": [],
   "source": [
    "import proveit\n",
    "theory = proveit.Theory() # the theorem's theory"
   ]
  },
  {
   "cell_type": "code",
   "execution_count": 2,
   "metadata": {},
   "outputs": [
    {
     "data": {
      "text/html": [
       "With these <a href=\"allowed_presumptions.txt\">allowed</a>/<a href=\"disallowed_presumptions.txt\">disallowed</a> theorem/theory presumptions (e.g., to avoid circular dependencies), we begin our proof of<br><strong id=\"vec_sum_index_shift\">vec_sum_index_shift:</strong> <a class=\"ProveItLink\" href=\"../../../__pv_it/theorems/5a9c7c11e96ce5a9e6bb82720e0dd1b76897029c0/expr.ipynb\"><img src=\"data:image/png;base64,iVBORw0KGgoAAAANSUhEUgAAAcAAAAA/BAMAAACFuAU4AAAAMFBMVEX///8AAAAAAAAAAAAAAAAA\n",
       "AAAAAAAAAAAAAAAAAAAAAAAAAAAAAAAAAAAAAAAAAAAv3aB7AAAAD3RSTlMAq1RmmUTNIjK7EInv\n",
       "3XZ/CtNrAAAACXBIWXMAAA7EAAAOxAGVKw4bAAAIwUlEQVRo3q2baYgcRRTHa3fuczf4zQgZEVQw\n",
       "mpFIQMFkQjQYPDIgC6KSrESUCJLRfBEx7ijqFyO7IKijQUcRo0Yz64GCQhJW1KhoRkGMR8xGg+KZ\n",
       "NRpNNkdbx3vdXdXVNd1bU5B9k5ruX9e/u+q9V1U9hARKynFOkjglOQ0frolwcP62KKS5FWSjTTvO\n",
       "Yc1hqSMj18Xi/gS2PCrsQxOmo3/pTcqun6PCX2SbHRnRCpyJR039Bx/WNoQdmDQdnpvsTZrPH2d8\n",
       "gcj2rjHVB4GvVKFjvAcVxaaxH031JJHdvJVz6KNT6jX6IXAlDiDooWT8z9NNxy9s9yJlTx1og8DC\n",
       "j7GGJbLda/RBYPYo6sIH90f7oOmEUq0XqfxNuQYCv8zuitMYZLvX6IPA9DB8uAlrHiVLTCcM/teL\n",
       "lKsmRoXA5ES+GacxyHav0QeBixpqu3eT5cYz1vcg0UGcHF7V2tJqVYv1mKNwvWL7IPBr7B1ucJgh\n",
       "U+Zb0jSTyBApVsQTHGrEFIhstPYCsxhpxitY9U3CGAhJsWYmkVL7YvCi6TqZjCUQ2WjtBQ7g0Qvc\n",
       "qgf+7JH5zJhJJHvNNAjMrFjajpdVzcjWXmAHblX+n+iZwd9Gkhu155LLIButvcBl0NkTR6Of84GR\n",
       "5D6MOWVrH8jWXuAzeL9jnLW6YSLZFWSDtRd4DD3fRAxXVzWR7AqywVoLTB3HTDuGtxsbNpHsCrLB\n",
       "WgtMHsGuESMkF3eZSHYF2WCtBaZn4cOGtphheiU8S87NmkhRKWY2WGuBQ134wBcBBh3wpVvXnOGE\n",
       "Z8nlwyZSVIqZDdZa4Bj4loxwEQu8xY5LD4enxP8YSJEpZjZYa4GLahKv5Hj+Y1V4enfMQIpMMbPB\n",
       "Wgs8BGOkfEpgHS9LSUrRruH+oVnPSQPJSOGdRd8ShQ3WWuBqSLGT0JUOOV6D/NGuzI9bA/9zDCQT\n",
       "hZcf9C1R2Q4I5J3hLFVgsDYskYH8Kgd+Ied0tcedR/8dJGVo7f52OMlE4YOBBtyyZj6isoWdIpcz\n",
       "c6sqMFgbUjbArU7DdDe/R5t059l6zbeE3CafpSMZKLy8wAapLqtQ2MJOkftYr55QBQZrQ8oeuF9F\n",
       "jGJrnYouisPtvQieVj2cZKDwsiLsC4Ut7BRJU26hogoM1oYU7PFDOHALzse6/AKtULGgEk4yUHgJ\n",
       "DYwKW9gpkqD3Nh1wMsHaqALJhn81h52NSUo1mkA9hQ/B0dCkqqoVSD7dt++ToBcN1EYW+IrjGyDb\n",
       "3yAldqEr6bg6SBtQEAFudbWXQIniRyVp/fZAN93xY1NlC0sFXkHIk0GBgVp9yWOzOjOBRIuVyYWk\n",
       "yK67jmpL0c6VGPU34up9rHwukzQUP4o9p8kble82VZITCtsTeAfJDAcF+muVvZCBj958Ct10/gQK\n",
       "9IbG6hOuu8hWVnK3Tr4g5H628j0oDtsZTKFdUpAioehTZB/l8i0pTqtsYanAXLtQDwqUaud7lznQ\n",
       "qpcahe1tg8CSNwPIk89oc+iH9wlp0zaQ7ExUgSVlHoGoYp1/ZPGCP/+9zEdzF66wXYGD02lNJiPV\n",
       "7nY/XUajcYLcv5EYBGZ8idjgLCkTIZAsonclFfkJZtR0DlBsKXhQmW4VeUBLhTxBMrqUfnmAvCun\n",
       "aqyWbFv6NsG9ELYPAtlCrWZwMqT8oS/+dUmBiC5KbsrTpnXDxqCavvkpfhRzNOlhuft2uBaZ7Y1B\n",
       "8jpNAbYPtc+UBbLa/FdZlqCIvRC2D/KSWEC7s2kSuNafcw2Tc5h9msKO0PbBknBvLypR/KgcFdOp\n",
       "yy52iOLqKtsTeA/1JnefL+60J5DVJmt8b0fshbB9kGuFwy6YwkTWP4MrjGb43X2NDZGNwslHioPZ\n",
       "wDwQUCwYjGfkG0RdaKGpst04SAaa3I88KAtktcV6mblSthciOv+SVqtVIZPvkJfdBAuHgRcHpfG1\n",
       "fDE3j9B/p9FWleqhAvfIcTA4SgUqSzviwGLlq3cX/xpgewKJ8ALTwelSp5G7pI17IWwf5GH+/blV\n",
       "8g4egrl7yR33N+viZQk63KbgzEElGSi87A37QmEL6wrcm6kHBRYb49e2t/G9kG18HyTHnU2SpLph\n",
       "0yWS06boiZqUKe9vmKdLIRR/Th2ahSN7f0MSeMNizYQ3teKCN8jmCtsL2Vxh+yCZJ2jthfN+e8xN\n",
       "AnC10F30u9p7EP5++Ljw/RO67qhZdwyhcO0hO2oqe0/kGX3F93dbqyVnBYdguJdhkSHhefeEv2kv\n",
       "SY07oVuy8DmOMAoPmCEPV2WfiCow1fb+BssycNiJ4wHvvlC6v3yI/xwSxP0kE4WXe/UtUdiZyGsy\n",
       "Cd/fYFkLnTX1l8B63v358Ek5HKwnRaaY2WCtF506MD3L/yt798yZTvh+WuKUgRSZYmaDtRZYwoP3\n",
       "i3nqLbzc/p3jGNaNkkdNpKgUMxus/eYLvlvB9+OS/l2FauhJ6RkTKSrFzAZrLTCBS7TLYrRkqGsi\n",
       "2RVkg7UWmEEnMFaLftL4pIlkV5AN1n6H91PMemIMlkNNE8muIBusvcCdECALs9HP2WIk2ZUtsrUX\n",
       "OAYuPSPc8tYoK1V/GUhb7fQhG629wDSGr1vE+l0Ux3TUQNphJxDZaO0FJtC7L4v8Wlm6ayZJwSNu\n",
       "lOjK1l5gHl+O6ER+zWKsaiZJKXRMgchG24e3Da/Ce81WN9a4CaVYr9J7EwNJBcR97XenYvsgsAMX\n",
       "z1Mvk5+eJatatFRhvUr7pE6FkwKAmK/9Itu9Rh8ElvHiv1NX+hwOL1iv0mZ33XBSABDztV9ku9fo\n",
       "x0vp32O2PC0W9UTcF+tV2mFSN5BkQOzXfpHtXqMfAvHnEuxXD50XoYfBepWuzDORVEDM137nqdfo\n",
       "h8ACRsK3CDk76V+v0keDj00kFRDvtV9ke9foh0C2bC1c+jR59mf/epW23NM0kVRAvNd+ke1dQysw\n",
       "7o+zXgVcfm+Uo9dFIM01Dq6TbciPs/IjMX+clcFm3RXFkdejkOaWySAbbXZk5Pr/AfMgdnObSXu9\n",
       "AAAAAElFTkSuQmCC\n",
       "\" style=\"display:inline;vertical-align:middle;\" /></a><br>(see <a class=\"ProveItLink\" href=\"../../../__pv_it/theorems/d41b5168fe09078d589734d14e97226882f42a2a0/dependencies.ipynb\">dependencies</a>)<br>"
      ],
      "text/plain": [
       "<IPython.core.display.HTML object>"
      ]
     },
     "metadata": {},
     "output_type": "display_data"
    }
   ],
   "source": [
    "%proving vec_sum_index_shift"
   ]
  },
  {
   "cell_type": "code",
   "execution_count": null,
   "metadata": {},
   "outputs": [],
   "source": []
  }
 ],
 "metadata": {
  "kernelspec": {
   "display_name": "Python 3",
   "language": "python",
   "name": "python3"
  }
 },
 "nbformat": 4,
 "nbformat_minor": 0
}