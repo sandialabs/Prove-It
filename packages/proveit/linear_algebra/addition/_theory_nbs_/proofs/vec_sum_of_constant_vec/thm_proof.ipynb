{
 "cells": [
  {
   "cell_type": "markdown",
   "metadata": {},
   "source": [
    "Proof of <a class=\"ProveItLink\" href=\"../../../../../_theory_nbs_/theory.ipynb\">proveit</a>.<a class=\"ProveItLink\" href=\"../../../../_theory_nbs_/theory.ipynb\">linear_algebra</a>.<a class=\"ProveItLink\" href=\"../../theory.ipynb\">addition</a>.<a class=\"ProveItLink\" href=\"../../theorems.ipynb#vec_sum_of_constant_vec\">vec_sum_of_constant_vec</a> theorem\n",
    "========"
   ]
  },
  {
   "cell_type": "code",
   "execution_count": 1,
   "metadata": {},
   "outputs": [],
   "source": [
    "import proveit\n",
    "theory = proveit.Theory() # the theorem's theory"
   ]
  },
  {
   "cell_type": "code",
   "execution_count": 2,
   "metadata": {},
   "outputs": [
    {
     "data": {
      "text/html": [
       "With these <a href=\"allowed_presumptions.txt\">allowed</a>/<a href=\"disallowed_presumptions.txt\">disallowed</a> theorem/theory presumptions (e.g., to avoid circular dependencies), we begin our proof of<br><strong id=\"vec_sum_of_constant_vec\">vec_sum_of_constant_vec:</strong> <a class=\"ProveItLink\" href=\"../../../__pv_it/theorems/49a36db03346ca8ea539c49e40dab018535dc3a60/expr.ipynb\"><img src=\"data:image/png;base64,iVBORw0KGgoAAAANSUhEUgAAAtwAAABMBAMAAACsfn0wAAAAMFBMVEX///8AAAAAAAAAAAAAAAAA\n",
       "AAAAAAAAAAAAAAAAAAAAAAAAAAAAAAAAAAAAAAAAAAAv3aB7AAAAD3RSTlMAq1RmmUTNIjK7EInv\n",
       "3XZ/CtNrAAAACXBIWXMAAA7EAAAOxAGVKw4bAAAL00lEQVR42uWde4xUVxnAv507jzt3nsT+YWPD\n",
       "jpa0Na4wZkorxpa1FUNVwlj/0AbLDqI1EpsdNI1BirutSZMqdLc2DR2awtVqFNvALdRHwZRtqGmE\n",
       "tjvSVEntwmzYaFoMuwWWxy70es59ncc9t7PMsId4Pcnhfpx79nzn/M653z2Pb2YABEE1TTMPrYcB\n",
       "03wPLmeYcYW+7RPYsEGH2Q+ekgyqNrocNc0JchG0brpUKreDe3dp4eXFPcMKRfO8wIVUXgJuT4lS\n",
       "KnWiS6n0qQlyEbTubHv6BqqXuQEzrVCXzgt82C8BN61ksc19gr6EBbe2nxd8oacqATelJMy4Oyq8\n",
       "4M8yKAE3pSTMuAfKvOALiZMScFNKwoz7Hp/gD0/JMN5P/T/gjkzyAtzS8NWtIQE3URJi3PE6L0Da\n",
       "Z1WSQxJwEyUhxu2NKTK4+vyPgAzjTZSEGHenzguwKHGcz3VGhvE+E37c2nleAJj7/Wf5unT2S8Dt\n",
       "KQkvbuUkLwC8XlB9axBDxkLHCD3u5BQvQOL0Ul+2nIx3packvLh31nkBlMG7E75eOSdjanIu9LgX\n",
       "G7wAHY1NKT5bdloCbk9JeHF3lnkBktWOT/vKkjE18ZSEF/ewTxAHU5fA21USWtzaRV4ICL1lCbhd\n",
       "JaHFHTnPCwFhuYxdE1dJaHFHp3kh6JUqY8vbVRJa3PGTvBBUOxkTb1dJaHGnz/FC0Px8QgJuV0lo\n",
       "ceemGCFuUoGx1jkZ6xxXSWhx900wQsR0GvybldeYjPnIyNiCdZWEFveCOit0kvngLQzg+PsScLtK\n",
       "Qot7vMIKGcrv6g46Y4eMVbyrJLS49w2ygmqeIpNEukJRoUNdlYoQlMEXEkEJrpLQ4u7Mc8K4SapR\n",
       "pDKmRJsm2QKJ4rBSlBhrBCS4SnjcVt2u9beuw3rfFFvGLSq3LdzNKrStmxOSZl2YMSVa5H+CxO2v\n",
       "CSqwBbI+1Zt0gGN84jFWCY97Cb5+x9+6KF70x6st4xaV2xbuZhXq7eYEbfi0MGP2gmDDpUIifEvw\n",
       "Nyh9DfcnV/Ui3HGdf0fqjBIe9wPY4Az6W6fi4bmudWMiKrct3M0qdNTghR5TaBkUU7ADUCQRAiaK\n",
       "NzrXr3ovZ0RW6eZL72aU8Lhxb6QKAlOJO3NX67hF5bZnu5tUaNjghZR5YKa401SMTQUsW52BPJ/G\n",
       "DT4VBz4Qt4L6My5qXQnFSuu4ReW2h7tJhYYbvAC9wpOEiAD3dVRMBeypxIsi3Kv5bKsZJb6ZyWsj\n",
       "IwdFrUuPjLxttI5bVG57uJtUaLjIC/CsSeXfsRsyhSDcX6JiPB95nrPIO0aBeMmzuJ8jxvx4EQ65\n",
       "CYG4lwJsEbUu2g9JvQ3cgnLbw92kQmaRF8hCHgejC9IWsJhDIjpihbw7JN24s/ix+7lZSHcaJSgV\n",
       "Ee6byIwnMgQvuQmxINxrIYE0xjpvg/jLdOtQ6lr8n35h46LOtT8Qt13upYfrXaHB4XYr5C3N0cPT\n",
       "9QTBXeAFgOUXvP5RC1+AiGGvf/yddoiKC+4rPMROgLLVHCozMiTC3eXlejBawfPILqCV+HAn9RSe\n",
       "Yv0HYIVbDe0z+N8t8Ht8OQy0I+k1T97xvDWpdf5/2Pr341XG1/RpXJBVroIe/8hf7T75yvkybDri\n",
       "tuDEn8SGQSm7XR+lJl10hXB45OrHLRu7nuQp6byAF/JerTR4HSG3pJJf61+o+GX7NFm71xr8/dbf\n",
       "LkBlqpjZspGRV0dG/kZwD2BpJx74eroBDzoJnpIf2GvNoneJNKw32qOQLbOLuPnkxWQ7kuI2/gP2\n",
       "vEvjtmk3WF9Ta3Tb5f4ZKUFc1dFaGQ7iceJkWRr0aaVfeF0fMyCoQlHsrRNBMwiqy8wyLyDV1IoG\n",
       "Zc9C0Oimcf/98/5Hdhm2D8LR/Q2rW63ZH+qThpMQPLqhcisWTyX2cK2LK97Q6PPaWFSvL/K4FxWB\n",
       "9TW1F/FWuagK2NPDasE4gOf1MeSsO31hCen6NaIKrcynDHvplpgEhXroRcYk+wpl/uqOdpcEbbsp\n",
       "Y6KdjPk3xP+J+6suwv1Jpk8MNyEY9641VoM+2+Bal7oO/YU2hitvOZLay9Oo/YzbuK2771jNo31N\n",
       "bdxWuX1luBmcBXCuCDdA6tYGHB+trtKhuu6N41+E9TcisigBpWev3Q1QJ12/S1AhrTEVyWv28ul9\n",
       "51ENxt1DjdNk3nktqIKZyVYSlSntZJbfeML++cqgCPcikutRiFTdBDXoVQn34/7NTq8f4lqXeAnT\n",
       "jeAHGDuSOm28+QYKN7670W4d7Wtq47bKzTWwwdrujq9u+CbcnuqOGhsuLsFq/gUfgVcAJ6D0FfBj\n",
       "SFRI188TVCjxyzoYMdsUrqJtiWgiqNLrw1Ql0WAmDXR4jsSOinaOd72yOEUNDve+qjN1dMIfUP3d\n",
       "hMCZCXTgIZAchIP8BtyHUfxdCpsl7Ehqt1FrGBRufDfypPXY0L6mNm6r3Hg+5a17E5NqAb1v7tpZ\n",
       "TejwSGdDHYJc+YfwGKCE36L0gduQwR4kXX+XqEIdhlpWvlur/Rw9vFm9ybyb2a/7nPP2EuHeRGKy\n",
       "AGPv8rvXeKhlyizuOcOrkKY3KXP1Iaz5zSa4wXnQx3XRfideS1mOpHYbUyld04ntxndjmDfja0pt\n",
       "wEbruOo31Wo19BDUUqDsLy3swa9x9KJHuNPF7ItHACXg9Ni2SYjkSdc/LNqATZezoNpdvvhOZs+k\n",
       "yAuivaYA3Jl+EkXrd9xvG4Ab3dYQ4ncdnYQmuBGhtCHCnas6jqR2G+/8CaQo3PguqFdVWV9TCrcy\n",
       "iW3NzxxTutKaTfXp1nuybo3uN2Cr3qdb6T9FSwR1kHT9PBHuTP997vppgNke6m3wQlK8QxYR7Aji\n",
       "jSU3+k9mCotxdW7nt6jcvS0QJEQufBDu7LY90DUtwr0RnnEcSa02Gt1wNzUz2Wj36Byd8TWlcKvW\n",
       "JqizGswcAGQ6diQNrTGJVi3qFLyjTcGRBk5A6fNwqXXS9SdEuGO7UXvWWYMww0zothm8sIzcp/fK\n",
       "FNF+92Yq+lZthUOB25vrAhKUi62d5oyid6HtSIrbqMyZ+8IqCveoe2TE+JrSpzlvWfftxV8EjZ3U\n",
       "iw3YewKW7N0L6qn53TBWeshKQOnzjv0Rt9fr+s2BpznaC7XHfac53ZygkFmgQuPOijautlPRt4Ie\n",
       "w1Y7Kdxq3xyQkD3TGu7V3tBg2pikt7+Ei3gmPFOr+R0hVdHW2wrCdDAQtygsz3MCNQvsYk5zRD6E\n",
       "eNbiRnH4t/CoohqQ4Cq5NNzxrw9BTLQvlHTvzgy3WI1IOznFpc5zWzkapj4p/SvmWCd6GmY/uEou\n",
       "DXd0TAcFgnDju/AwmnXUqq3gXiv0QPAWtwvhknAvrrCCNwtMfNRklolJGX4mycvrZ5JougHbatBc\n",
       "Qb803D1DrNB7jxXufds02TPiuAwvqnjYvag4p7Uo7SPIzNbSMnwE01fUR1A9Zsw27txZXgjKOCUB\n",
       "t6vkyuB+AAZnG3dmkheCHoMhCbhdJVcG9xOzb0w6TvFCkJGvSMDtKrkyuN8CfbZxZ0/zQkAYl/Ep\n",
       "bVfJlcG9olScbdyxM7wQEDoLEnC7SsL7QT+TEzRSC2af76guAberJLwfYz1aZYUUWY8fprvlggTa\n",
       "npLw4t5X5AVhiLwnAbenJLy4e/K8IJ7ByFhUekrCizs9wQixUe/JHiuIss3qonIi9Lij5xhhR06P\n",
       "4t2zx5zjba9yMr5111MSXtyxaUb4kecBYh9vezNiGfNAT0mIv2ntVVbY6t2I0+/O70mgTZSEGPd4\n",
       "mRa0qX7HmNgH2G5RMj7mR5SEGHcuTwuRimdCNtJzBhn7gURJiHGnpmhBm+vVYpTKtFPGm5IoCTFu\n",
       "bZoXnEAfYI/L+L50oiTMXyjt+YGN09si7AH2yzLelERJmHFnDF6wpuFjFPysDNNNKQkz7shZXvBb\n",
       "1aIE3JSSMOMm3+xwR1COq2XYEkpJqHFnirzArzwPSKBNK5kR7v/VX4VSD/AC3x8yvkPQUzLDX4XS\n",
       "Su39KtTTpcv8q1AzrtDXfAIbfi3DlnhKFFRtwD8HZR0d4st/AV1jGg+VbXrzAAAAAElFTkSuQmCC\n",
       "\" style=\"display:inline;vertical-align:middle;\" /></a><br>(see <a class=\"ProveItLink\" href=\"../../../__pv_it/theorems/8c078a4699d89be671663684f1f657531533a3bf0/dependencies.ipynb\">dependencies</a>)<br>"
      ],
      "text/plain": [
       "<IPython.core.display.HTML object>"
      ]
     },
     "metadata": {},
     "output_type": "display_data"
    }
   ],
   "source": [
    "%proving vec_sum_of_constant_vec"
   ]
  },
  {
   "cell_type": "code",
   "execution_count": null,
   "metadata": {},
   "outputs": [],
   "source": []
  }
 ],
 "metadata": {
  "kernelspec": {
   "display_name": "Python 3",
   "language": "python",
   "name": "python3"
  }
 },
 "nbformat": 4,
 "nbformat_minor": 0
}