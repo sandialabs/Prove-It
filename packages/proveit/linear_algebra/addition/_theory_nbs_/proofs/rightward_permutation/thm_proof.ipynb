{
 "cells": [
  {
   "cell_type": "markdown",
   "metadata": {},
   "source": [
    "Proof of <a class=\"ProveItLink\" href=\"../../../../../_theory_nbs_/theory.ipynb\">proveit</a>.<a class=\"ProveItLink\" href=\"../../../../_theory_nbs_/theory.ipynb\">linear_algebra</a>.<a class=\"ProveItLink\" href=\"../../theory.ipynb\">addition</a>.<a class=\"ProveItLink\" href=\"../../theorems.ipynb#rightward_permutation\">rightward_permutation</a> theorem\n",
    "========"
   ]
  },
  {
   "cell_type": "code",
   "execution_count": 1,
   "metadata": {},
   "outputs": [],
   "source": [
    "import proveit\n",
    "theory = proveit.Theory() # the theorem's theory"
   ]
  },
  {
   "cell_type": "code",
   "execution_count": 2,
   "metadata": {},
   "outputs": [
    {
     "data": {
      "text/html": [
       "With these <a href=\"allowed_presumptions.txt\">allowed</a>/<a href=\"disallowed_presumptions.txt\">disallowed</a> theorem/theory presumptions (e.g., to avoid circular dependencies), we begin our proof of<br><strong id=\"rightward_permutation\">rightward_permutation:</strong> <a class=\"ProveItLink\" href=\"../../../__pv_it/theorems/96fba1e6279ee1b9a864a26709a891b74c8ac9430/expr.ipynb\"><img src=\"data:image/png;base64,iVBORw0KGgoAAAANSUhEUgAABREAAAAzBAMAAADycFK2AAAAMFBMVEX///8AAAAAAAAAAAAAAAAA\n",
       "AAAAAAAAAAAAAAAAAAAAAAAAAAAAAAAAAAAAAAAAAAAv3aB7AAAAD3RSTlMAq1RmmUTNIjK7EInv\n",
       "3XZ/CtNrAAAACXBIWXMAAA7EAAAOxAGVKw4bAAANDUlEQVR42u1dfYwUZxl/bnf2e2/vTNU/xBwb\n",
       "S61pesdFaC2ox1qgoZjGtTVqQWFra0jQ2MU0IS0FttXg18GtQVOuURg0QXpXuQ0YIaDX6wc5ESFr\n",
       "AW2uPVwKKYVrr+fR8+iRcr4fMzvzzvvOMrszu8eRef6YfeeZd3/PvO/85v2a+e0CCKyrqwuctHLw\n",
       "nI7t2vVq4a4uWbneNCmw/0y+72jMcvCcju28bXNJZM+eo6wLTU5mAXZMfqAmBXbK4dCnqpR3Sqyu\n",
       "1eWSPQsOKAkvod88LekysRybwe4GXGaZWNr0SLPLRAfMm2L333QpZ2IrTI9EGl0m2rcn2Vvdk6vu\n",
       "kOpYTbvN7ydE7k2vVIQSMx/GnHCZaN9Os7u7qhzukZoWriEudI9WhrLaNMftsstE251zH7u/kMvh\n",
       "EzcFPrMW4oGS3tGS2cSgpqHEB3TIK2VRXt9EecVQUeaa1qI/4TLRrkUNvXEfl8NTEH7RxA3QUsqr\n",
       "kaDFOqhpKPEBHfJfhXkj+fKKoaJEZbNa9I27TLRr77G160lVl4kaCWrCxEeEef2J8oqhovjNB4oP\n",
       "uUy0a/9kdyXcRK7p3SC63CZus0sYmHG+wHn9TWfihivdezbDg0aG7yqHiXoM3Qm8PSosRke8rGIU\n",
       "UdQpssBmyy4Tbc4uLxsGPOi29/XDDpm/ViZu00v4rXQIdcV/YL09q8PjbLb1cSnLgQZehXvLYCLF\n",
       "yAhPwJli0CaPdBj3DWIz3ME9BZeJ9qzOMC6sR83F861wH8DvU4ZrRdzhQx+RrV3C8Msgoa64l/Wi\n",
       "tuM4e6Vfh2ghfKchVn0OjlsIpR7AGACv8SeQAg4aFeOeMouRAi9ZYfD0mdZjKO8y0eaExdDhRJMA\n",
       "X8GXNjhM6lYaHHzj2OAgzkXcEqGX3s0aajD+QRsMaQTzyei9B+AKmw03OFveNcZCPLlWKO2ANGF+\n",
       "Ajx0RcU4TDqQEfMliHGXifaso5Vn4hEIj6EGIG9oTIi7IRm4bK0xiWahJ8l5XwffqDEbaI/LtFhg\n",
       "JZRyIJotcQLNThQjQDjoM28Tw5dcJtqcOqe53jl8FbwjPBOp2ytbvYRo5LQAYEUj6x0tNmAt+gFW\n",
       "MxcLrIRSDhCM8Lm46AQE0BUUw5vdkFOrRDhOhBddJtqz3xjHOwUIj0Jd6laeidRdXIe55iWMw8c9\n",
       "TxQmWO9lPE7TOxrQbpJruFAL47MQSjlAMKTiApT+BNIcEyspRrru/G39puwi9luXifbsiGEfL1Rs\n",
       "h+ZEgu+dqRs2s0P98P/UTU+KuYShguekFPhdnr2wN8GvWAea9EYyHBPRxPkAF4pEYEIpBwhGVyQB\n",
       "/AnwvbO4GDw2gxJ9E8/MpRLP5F/gmUi6g5s5NojcdphoGc/p2I5a2PgWbxAxZ+fQT5oyPBOpO/Cs\n",
       "wX1S3dQn2Eln04E1b+M2lvHu/FOrYZXk0JyLPF0i+9pkPhSJoA+lHiAYfgMyPQEO2qQYHDaDsnER\n",
       "XiKqT5rX5IIkx8TF+HMVxwaR2w4TLeM5HdvZ5cSrRs9rxZ4vL1xxewzWWlyIo03NbpGXczSLYl07\n",
       "FHOgIS0M1exEMeb58gh9fampX4Fj4lN4YTTLsUHktsNEy3hOx3bUPNxbKXM5JjLvCAS2/XSpwK03\n",
       "5tWGT0siL+doFsSyEIo50C5EFkKXXYymYD4nejtEd8slOCb60QAgEufYIHLbYaJlPKdjO2rey9wS\n",
       "rdKyBP58RdRaRCcnR8oJsPO8lVzrHu21H+qMdeiysZ+BmzKlG5OGRo6JXkRyP88GkdsOEy3jOR3b\n",
       "UYuNcyPH67LttmIPVztAKF2KiVl+7nxscPCoYP4qcNuaO1vFczq2oxaZ4FwbpicP/d/sq3aIks17\n",
       "NMUzcQnAswI2CNyW7FY1URDhhel9kinNxEpjV92kCbhBTDonT2n8+jzPxDUQQH22b+bd4H9Fxwbi\n",
       "9r6RA88RypuvfpCEzeq787HhA+LFIm9ShZJYdtEwkUJxxvlFlarrv5z0vijIa9k2ldtDvpARJbWW\n",
       "Tzca1NcAQN0IuOYME/t4JobkCF7beQdguaxjA3X/BY3FEeWCZzqTgDrMmNr1LwFJzJWdRShfjmGX\n",
       "EkbXPuNdDOxpPAhLS+ctbXXlqpo2CpPaTFHhGym1UgMuE6vPRE+BzA5+CbGkng3UPVuGCPpYhBuF\n",
       "94CkifUp68+cLdagVgOPZ6QDBva0SZArnbe0RTNlVsMFYVKblyhtLCm1UgM3Wu885UwU9M6QasPJ\n",
       "S4GDDBuoe2MSPqfqBRta4TMQaSvA0Jn0QzKkHz8xtBTWzUWkQw7kj928DyCvQe3l8Xxk6YA+fJ8X\n",
       "GKLAnqe/UcgJYne37VcnqPuG+HmY5uwY/gT+6G0rdq9n+RUVzdfd9gPgkzrct2hOWmpaAyrION+A\n",
       "uqwysXS5MxbYixuv4PgXCiwbiLuhEEDX4znaIOQhAd+BhZGElFv/4WL0FXgLZkA/YAfyL0fzyEBK\n",
       "g5rF4+1pwAMA+vC96YfPpwmwJ3PwlhyfN/zvoHrd/5ju4IulOd+Vz+G7LFlcqz0V5CeGRR/CVceB\n",
       "uiSDmyFvQNNS0xpQW0s+u6u8N7MVJZnYKGDik9gZu7Kuj2UDcfsbcddE188DY8F4cAQe7EkHZNgy\n",
       "s4AubUNyLWwF5NiN/B13o8FhVoN6kMd7gqzg04fvx+NBCuzJSLEsn1dKoAD0eeciaAdfy2K2LNgJ\n",
       "IZzaCvhF43thNzxORrpSNpy5/xw70sQ+kMh9kECFoLgkacy5CDroXURLTWtAnb9wTKyy8r56JtL0\n",
       "10x5j27whICJdXg4FMrCUZYNxC3lL6LtnZ2dnahD7YyA9+U5d6xEHhmCI4go0dZY72lADuz37RgD\n",
       "T6MG9TMB3nZ6ddE5Bt5fogB7MuFcis8bTcYa4WnyYz6H4QxEoYcty+HiU4K/wZfIPgSbZXUu1Bce\n",
       "4edHSgrxnuKSpDHnYTx2XFgsNa0BlXdjxhrdNW2bLJGmv1bKe4CeHJi8FYYGgZqAUnszyzuGUX9B\n",
       "d1auIC+Eb5TJdCVP2sQTsF3eKBP/z1HTFMxqUIbemXSHE2RygR++e7PfDlBgTwbuL/B5e9Kh+TJg\n",
       "xoTHYWtXQHtQSqGw00MeTY3AS2iLu/J6WYVPGzpoEnKugnuR4tKkISfC3d4FqzYUlFLTGlBv90vG\n",
       "Gq228t4ChoOa/lop74VvQKhH0jpRucbEIHkNKkSh6/+Oe8I9oVy4MAaBxuAEXAhPwOkCdiD/LNxX\n",
       "5jWoYZ5dnlQinMMP37uhrrA5QoG9SYg18nmj6Y4HMGPQF/qDY/MBfo2T3cUNdnpm4dSAN4u230Vz\n",
       "XMzEbvAn0Vw8lNRlp761u/BRhPsjwkQ1iXIWUQnu5fkwfltWKXWQeRGM+21HfkDqqN7ZCoaDmv5a\n",
       "Ke8BZsdNmBjbcRBuv8IzkbYdAfrjlR7Ut0d6C3BoGBYfOoQaiJYEnJuziTiQf9bZ/fjZdxHqGUGb\n",
       "2JQOvoQfvrfHQ+m6uyjw5lX6JaFiXt/Cln04PvrC1z471ApSBifb08F+vFGc27Dvx8N4+9ici4SJ\n",
       "7fHAwjYZP6fRsiu+z+OjKm4xuQQnKWq/ghv8r1ws9YC+Av9lZEFqujJRqOmvmfKeyjAqeGe7u7OT\n",
       "X2oWTFABlmvdXFaM5yEP3+NmwIbYA+QL2A7GiklQU+F8XEnRLemdCXRELuiz03AfK6YIv2iS5Iyz\n",
       "uLH9A2lhqT9p2K+28t5EUm9NaC8U65tr+mupvIeZAM6pB4QiQinNp1i8Zfjhu8+04WZjbzkah2W0\n",
       "5iY/BCVJUOjHdllJkW3wnb2gQD86mddlV8LliymMqyRxTu10linnvk88dl9gOO9qK+/FknqLQntW\n",
       "rJ9hvbymv0rKe7EdcZKJa66IvMX18TtM8Frxw3cvWGMi+YIoaUxp+15BduKLfSrBHBUmr/HTxR0G\n",
       "glZbeY8l9Ty0RaG9XqzPCe05TX9NlfeBq04yUWxhNSFXhlc9RZXno/Yxaq28x5J6AbQM5SALhfa8\n",
       "pt9V3teKiU6Y1MczsZrKe9KJCaChPGSBV6Tpr53yvq7SXyMJns25TCSVO8b1ztVU3hNJvQgaykMW\n",
       "CO1Fmv6qKO/Fi9+FCpn4FGRdJhI7ye5WW3lPJPVcm2hRaK8X63NCe07TX1PlPZ35VcBEm3+GcwMx\n",
       "0TB5rrbynkjqOWiLQnu9WJ8T2nOa/poq7+mPk1TAxAGQXSbScRBbu9VW3hNJPQdtUWjPiPWNQntO\n",
       "019L5X3lv268fE6ry0RaeYZ3ZWuhvBdDl4lsIrSHKVHehxorZaI7dy7a99jdWijvhdDlIpsI7WFK\n",
       "lPfKOxIuE+1YO/vObg2U92JoZ4T2nNVGef8quEy0bTG2yqaN8v7hmkc0V967/5bmiBn+QXJ6KO9r\n",
       "ILTnzFx5/3WwysQTDv/bdzl4J673fxr3x2H62VQL7dkFB/oyd7hrTxb/0/gFNSkw95/GS5n7T+M2\n",
       "bRe9Kwz/NP5/W+Cbi+zcx1UAAAAASUVORK5CYII=\n",
       "\" style=\"display:inline;vertical-align:middle;\" /></a><br>(see <a class=\"ProveItLink\" href=\"../../../__pv_it/theorems/3546c6e95728a0db8f91f3dd8116b3597a17e7e80/dependencies.ipynb\">dependencies</a>)<br>"
      ],
      "text/plain": [
       "<IPython.core.display.HTML object>"
      ]
     },
     "metadata": {},
     "output_type": "display_data"
    },
    {
     "name": "stdout",
     "output_type": "stream",
     "text": [
      "rightward_permutation may now be readily provable (assuming required theorems are usable).  Simply execute \"%qed\".\n"
     ]
    }
   ],
   "source": [
    "%proving rightward_permutation"
   ]
  },
  {
   "cell_type": "code",
   "execution_count": null,
   "metadata": {},
   "outputs": [],
   "source": []
  }
 ],
 "metadata": {
  "kernelspec": {
   "display_name": "Python 3",
   "language": "python",
   "name": "python3"
  }
 },
 "nbformat": 4,
 "nbformat_minor": 0
}