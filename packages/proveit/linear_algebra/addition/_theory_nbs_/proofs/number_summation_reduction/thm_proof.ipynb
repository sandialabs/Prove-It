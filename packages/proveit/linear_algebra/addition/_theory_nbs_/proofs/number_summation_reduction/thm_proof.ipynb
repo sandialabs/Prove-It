{
 "cells": [
  {
   "cell_type": "markdown",
   "metadata": {},
   "source": [
    "Proof of <a class=\"ProveItLink\" href=\"../../../../../_theory_nbs_/theory.ipynb\">proveit</a>.<a class=\"ProveItLink\" href=\"../../../../_theory_nbs_/theory.ipynb\">linear_algebra</a>.<a class=\"ProveItLink\" href=\"../../theory.ipynb\">addition</a>.<a class=\"ProveItLink\" href=\"../../theorems.ipynb#number_summation_reduction\">number_summation_reduction</a> theorem\n",
    "========"
   ]
  },
  {
   "cell_type": "code",
   "execution_count": 1,
   "metadata": {},
   "outputs": [],
   "source": [
    "import proveit\n",
    "theory = proveit.Theory() # the theorem's theory"
   ]
  },
  {
   "cell_type": "code",
   "execution_count": 2,
   "metadata": {},
   "outputs": [
    {
     "data": {
      "text/html": [
       "With these <a href=\"allowed_presumptions.txt\">allowed</a>/<a href=\"disallowed_presumptions.txt\">disallowed</a> theorem/theory presumptions (e.g., to avoid circular dependencies), we begin our proof of<br><strong id=\"number_summation_reduction\">number_summation_reduction:</strong> <a class=\"ProveItLink\" href=\"../../../__pv_it/theorems/869a32975dbf88e96ff4a38341691eba4a934d2d0/expr.ipynb\"><img src=\"data:image/png;base64,iVBORw0KGgoAAAANSUhEUgAABF8AAABMBAMAAABJ+QVxAAAAMFBMVEX///8AAAAAAAAAAAAAAAAA\n",
       "AAAAAAAAAAAAAAAAAAAAAAAAAAAAAAAAAAAAAAAAAAAv3aB7AAAAD3RSTlMAq1RmmUTNIjK7EInv\n",
       "3XZ/CtNrAAAACXBIWXMAAA7EAAAOxAGVKw4bAAAO00lEQVR42u2dC4wbxRmAf3v9XD/uaGkLhHJO\n",
       "C1QFwpk6iSBtia8kDQTBuVC1IiBiCi0CCZ15FEQJjYsoomrIXQsoXITIolRUUVDOCRSpoRA3CCUC\n",
       "wV0fSO3BKQ5Q0QdcchcugVyS7c7MPmb3dn3r8do3Rh7p7Nnx/jP/P/vNc/ffA3AMEVmWO8F16Jfl\n",
       "CfAohHI1F89B2CfLBxtdM00JCaXqla/wqPlY/XIGZjqTydUAzHOZRV5p3FN78RyETOaCg42umaYE\n",
       "IZPpQt/bzcdasiMwR2oqpb/gmcL+12ovno+aPtjgmmlaWIo+4mnzsf7FGzDPptvA8ABM8EiLAPNF\n",
       "aAPDAzBwamsAE5lqA8MHMGtTLQFMKN8Ghg9goiMtAUx3rg0MH8BETrQEMLdBGxg+gIEnWwEYFes2\n",
       "MBwA051qAWB8R9vA8AJMR74FgBkaaAPDCzC+T1oAmKWpNjC8ABOcbgFgNkltYHgBBo7xD4x4HNrA\n",
       "cAPMpiL3wAjTbWD4AeZAiXtgfFNtYPgBpj/PPTDxg21g+AGm4yj3wAyNtIHhB5jQFPfAdA+0geEH\n",
       "mMAJ7oHpLbWB4QcY4VPugelLtYHhB5jIMe6BGS62geEHGFHmHhhZYik+JFOh0srA9FGGnJhzYEAu\n",
       "cg5MWGYq3i+rt8l+f/3pcrmVgelWL5H40/3Dx+YemH0pzoHxH2crvuu4Hv32ZCsD45P15yIF9WrN\n",
       "JTB9Fc6BSR5mKz5BuUle1tJzmH2Gm2RgYM6B6SpxDkzsU7biI/Iho57ZVQnXJecJMP2y4T+2gr0i\n",
       "C3XJ6WT0dnIOjG+CrXg4IBsKpJmLf5dRLljxDJikbFgusPfUrKPZ9WYyduUtwGCAvuoEjA9PK9Ju\n",
       "gXHOzHWIfswITNQY+1lC4EW0OvOXYMsbVKr45CyZ6me/592yetPxumrw8p3o81yL7iazqhmSTJuB\n",
       "GbEAsxx93+wETAB5fIQKboFxzsz9+pgVGHH443rK3b4ONclnlL+bTOpkZ5HTzg5JngHzrJytw5DY\n",
       "KbtRbeStut/k0hC41QTMgbIFmF+gAXjACZgI6jPudT0kOWfmfvI6zQgMrJbrWVPsvgZd8UuUP9Ma\n",
       "q2O2PLWzhaxnwATlepZ58bM2og4zbdV90qUhsNAEzNKDFmBQy4ilHOcwCLcdroFxzsy9vczAxOTX\n",
       "2IsNktv4ZT2mUSi5klPCa54BA7uOSeyWEI3jVt3NZlUzJC5VBUZQUAw5T3ozyl/eNTDOmbkH5gQr\n",
       "MNB3uI6OHA/V/rwW08JLruRQuNE7YEJynt0SovHZVt1jI24NCaVpYLqtwMAbY2OvOwMTHxt7p+R+\n",
       "leSYmXtgDjED86xcYi1VOP0vaEgJKBmEzthP9ZE3jH+u+rXVz97uHTDi8DRz/V3wxsl45mvV3WxW\n",
       "NUNindWBuRRgozMwgSJEJffAOGbmOnSwA6PfHmAptqI1rqFbRaNk8bA0VPVyk7MjSmwxBUxgDIdO\n",
       "1g0H7fYASzih9Xdm3U1mVTVEyNPArJ4BzO0QRoaJy/By6n/jK0zAKL/dTkNk7sZmAKNmVmP4T88H\n",
       "Ff3KTTIDA73sY/9afIUSSiPrluBN2KyOCf6jEK9s3X6a86VFZ0NCkT7Pux4GAuzTsTBpNH9VdRcX\n",
       "U4qKL54kzW6Iv0wD03/UCkxUiqG1c3QRqrIfFGCNZp64BH1uhD/QaxhC/v2X54Q/K3bRJW6WjMzc\n",
       "h/WnPg5bvgRf1wcTYYmp+NpWWOz3qbvJeKgo/12A6ci4OqIH8tBRysIVjnLobLVm0dWy3bHaXDvG\n",
       "+5jvU/sJs6+quq//iFI0AIGR2Q2JoBzu1JUnJqnH6MtfwdPUDrxvNULdvyBN/HzrnDeyfzDn79wJ\n",
       "Ky3A4HakZua+KSljGOysgKAD0zHF3sOE2Xe8XtKBeRuCk7giMIIlWJ2aUvsfu4DPxuE6D3sYWMu8\n",
       "CalOXl9VdYcFlKIdufAnsxsSnKWHgfzF6EqfvkPtmHWjyRULCZZWuwz1WhcHoGQHDMlsfMX7Wh1R\n",
       "USMYiWh/VLwwR935qGdISu5hBuY3oA1JkxA4qgPTkYJeaUkVYPDZ276jxBZ4OIeBD5nvs0Q7tSEJ\n",
       "664DgxQVJGdgDEOw7dWA2YG39i5CH+jlcrGy6YrFzla6noUXjuNdQyVDvHPsf+CHlVJs2RXLlluB\n",
       "QZklC6eG1Bk3FaWuq54oot7MfwddO/UAs5p9qvgmqW2lcXyC3smIKk1E2hTFV0j/M3NYQb+Ts7Nn\n",
       "qxXoVQ8TZJ+9x0n7fkrTHQEjaYqi/kecKSOZDBEGTMDMmPTCGszkMvSBlsShTtMVCytzFXHRK4Ab\n",
       "r5LhFjxQFneeZd/DoMwEeCoCYbxawtGr3jfPa3AiqRhEn2Aa4+tYVkfYN0jDU/qK8vPwGGllQ8pY\n",
       "7EtHlZYSGVWWHHjNBCRZj+CzRel5dSHrFTD97Jufa3PaIp/ovkDVFpsFj0hEbZMR+u/EELS3UG2V\n",
       "BD7cLh9FH6/Q5qlX7BSlOrflAfVMKMOrCTCB5IAtMCQzRfIB9TXSSrQsWutRY0G4ZXDwt5FfFj3a\n",
       "h2Ge8mpTxYjCydPPpwkwCcUCcR66WXCvQvQYovrvaNjKahFkIT4bb9q95eE+zJvs2xJk9g6PaLqj\n",
       "HgbpjhVFrRirbRiRpX/HhiRyswBDwl708Risgr/BzCvmqwTL6vJ+8eDgYMpfFEt5W2CIZDkMMKpH\n",
       "C5GypStQEhdefa4SwXNdZdJr9PgJdmBuYq/mgNqt/kMDCI3j52jdTzZcAP/MMekcugGERzzc6c2y\n",
       "W9JjWs4SYHTd74J7aLX15iLRLfl+cAOMeBTEEqy5c9tDaRtg4sVAVu06fk16GLiqYrcPg8OaWD6A\n",
       "gdmqRqM5lPlW8qEmnj+QAHWX774VENM7hxDzrYEo+13P+dpEayENjLZyu/fhByWzrSSUjAZA7vZ5\n",
       "Bcwge0/Z+SO1785SwGi6h594eCWl9sz9NNyyLzGR0V22B0Y5NbIbwj37TwvbALMWEg8Ut+Kz8L6v\n",
       "kINkp2O1BP718n8xMOtSJKqsnZXM1xUie5QPNdFXvBtdC4Sh+MLgpcZlZ775eIXRB9Q6BfjnM1rp\n",
       "xIjwC9MVEDWIh9H/ZNg2c+DQIUd1gW/pewNMYNQAoNadqI3aJsgG8nVf38uG7nH03zPEmQP3NtoQ\n",
       "8rSBcfNxxB4YRCTSLpjdZgPM9yD5nHL5UYbhJ9AIebP6sFSVahnVL1xMqtCmk8QEvLdKqfQ/Dj5u\n",
       "FvOxPg8jGGtqoVZgLta2t0Wql0qaTplZzcbv6I7CBu+A+ZZx/jdqNETQNzG2OOmenClVoQ0hbcZ4\n",
       "HiZvC0x0vtLUV6G2NTEKTlcshTPcOjiYc1Et619PQZC0+T70LNwqfclIEp+Gc223RQOsj2hSa+rz\n",
       "2KcAP2eQ+fE6tFXgGTDUmtpfZl/3VdgMgQ/MZOwasAUmNg7qk7C35ZyACUo4Q8el4MxqoZ9ITdsl\n",
       "2u1UMj4EHjbW1L+r69G72sOVK3XbvADGeF+72JudI0Ooh8CzDqskm22NI9bLT2XoyQa4bafK6Gai\n",
       "r6nD8+u4aV2v8h4AY6yp7+iq46Z1nUEnY1OFGZjZNpu8ASZ4jK34vp/gcNs7slzf0+BzDUzoMLFk\n",
       "TJlrH4c5B0Z9N8JnzlU2QPtWp1sZmF7KkENzD4z6bgSenfELrBt3cx8+e29v0N6NwDEw+3JtYPgB\n",
       "Jsz/+2G60m1g+AEmeJh7YA5k28DwA0xymntgVufbwPADjG+Se2CG2u/p5QiYBP/v6U0cYVpWm46+\n",
       "5k4oySMwWfrA71K00ihghsrcAxM7RBX/kH4z8CGbhxeotKj6jd1khJxLwWzTgIncolfrLTZVTaWp\n",
       "qiVfRvcRF1HqVxMMNAqY7k7ugQlOUMX79Ic3fDZejVSaCgxxk3nareC1zeth5umH82xOmWcFJngz\n",
       "hPeA2EmrX0UwWGoQMF0p7oGBYar4eFFLNWJGoNIIMKqbzHK3gvgdHc0BZq9+uNfmlL1WYNBzT5eh\n",
       "t61Q6lcTvLVBwAwD/8D0Fo3i+8c1p0MjRhVppBFgVDeZEbeCdb5popYh6cR+FU4jRlU1lYaBwe4g\n",
       "SyFBq19VcEdjgIlMtAAwq0tG8R9J76upRswIVBoBhrjJhPNuBf3ZZgGTHE2qZRkxavZNpWFgfGhv\n",
       "4U9wN61+VcEzGwNMcrIFgImXjeIfhcX4mX0cC56/3Hwm+hVWUsAQN5nggFvB4ECzgImmhTzxvEEx\n",
       "q+MNSoOAZAATR43mBriGNqSq4DWNASZUbgFgklNG8XuhJ7JAIoN1TxyGrAN4j7mHIW4y/k63gpGm\n",
       "ARMvBjqJ5w2KWR1vUJqph4mncQXMpw2pKvirxgDTX2oBYGDCKP4g7IYEri4lFgbLE3/o10yWAoa4\n",
       "ySAM3Ak2b0jqgHiKeN6gmNXxBqUJCylgotmglEgjDAxDqgo2aEjqkloBmF2SXvyoMICqSyzhGDwO\n",
       "mrOKWCJp4Z/lKWBUN5kRG0HDz4USTFaaBUxCukj1vMGxaI7ShqTd8ww96d2z5N83oiflNUNmExxv\n",
       "CDDiBLQCMEMlvfgHx1FdIycVFAsUkesKdlaJ7FHT1Pc+EGBUN5kNNoKGnwslGC00C5jIlRXV8wbH\n",
       "LqUM0dK+SS+r7zrjJKmA9FMNmU1wQ0OASR5pCWCSR03Fo+oiTio70V6+vhImab4cvXFH3GSutRM0\n",
       "/FwMwS3N27hDQfe8wY43xpKexL5AAwPwfbGi7cfhIamqoDjQEGDi2ZYABt6mi498uEN1UgmhZ1yD\n",
       "+l4EcVxJgAkY7CZDXh1vEdT9XCjBFU0FxvC8QY43hiFqbMQMzNovS6qC2JDqgoFCQ4A5ILUGMN0F\n",
       "a/HGU7qCOe3dM83AEDeZnTaC6ZmCQq65PYxJfUss+ZWsGZjQW7hHcSe4CBoBjHgIWgMY/BIsd8XP\n",
       "V6vZ/E8lRHeCIjQdGMfgP1mNmE+W3AlKDQHGN9AiwOA3SLSfh5nLgMm4TqoNGFmWa3glZr8sT3il\n",
       "7jqp5uI5CPuQr3uDa6YpISHL2NnnLfOxluwUxEwmU8MgvzmT8WwkDRZqLp6DoCicbnTNNKejVCxB\n",
       "AOTMx/jr/6N0J6y6l5S5AAAAAElFTkSuQmCC\n",
       "\" style=\"display:inline;vertical-align:middle;\" /></a><br>(see <a class=\"ProveItLink\" href=\"../../../__pv_it/theorems/f13d703673b3cbec7ce072472c872bdcbfed8f120/dependencies.ipynb\">dependencies</a>)<br>"
      ],
      "text/plain": [
       "<IPython.core.display.HTML object>"
      ]
     },
     "metadata": {},
     "output_type": "display_data"
    }
   ],
   "source": [
    "%proving number_summation_reduction"
   ]
  },
  {
   "cell_type": "code",
   "execution_count": null,
   "metadata": {},
   "outputs": [],
   "source": []
  }
 ],
 "metadata": {
  "kernelspec": {
   "display_name": "Python 3",
   "language": "python",
   "name": "python3"
  }
 },
 "nbformat": 4,
 "nbformat_minor": 0
}