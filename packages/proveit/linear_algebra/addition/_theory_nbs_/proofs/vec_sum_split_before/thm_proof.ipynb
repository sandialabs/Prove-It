{
 "cells": [
  {
   "cell_type": "markdown",
   "metadata": {},
   "source": [
    "Proof of <a class=\"ProveItLink\" href=\"../../../../../_theory_nbs_/theory.ipynb\">proveit</a>.<a class=\"ProveItLink\" href=\"../../../../_theory_nbs_/theory.ipynb\">linear_algebra</a>.<a class=\"ProveItLink\" href=\"../../theory.ipynb\">addition</a>.<a class=\"ProveItLink\" href=\"../../theorems.ipynb#vec_sum_split_before\">vec_sum_split_before</a> theorem\n",
    "========"
   ]
  },
  {
   "cell_type": "code",
   "execution_count": 1,
   "metadata": {},
   "outputs": [],
   "source": [
    "import proveit\n",
    "theory = proveit.Theory() # the theorem's theory"
   ]
  },
  {
   "cell_type": "code",
   "execution_count": 2,
   "metadata": {},
   "outputs": [
    {
     "data": {
      "text/html": [
       "With these <a href=\"allowed_presumptions.txt\">allowed</a>/<a href=\"disallowed_presumptions.txt\">disallowed</a> theorem/theory presumptions (e.g., to avoid circular dependencies), we begin our proof of<br><strong id=\"vec_sum_split_before\">vec_sum_split_before:</strong> <a class=\"ProveItLink\" href=\"../../../__pv_it/theorems/a00ef6ebc25e64c7385fec0c4ad9d7cf8f403ff20/expr.ipynb\"><img src=\"data:image/png;base64,iVBORw0KGgoAAAANSUhEUgAAAn8AAAA/BAMAAABjp7ONAAAAMFBMVEX///8AAAAAAAAAAAAAAAAA\n",
       "AAAAAAAAAAAAAAAAAAAAAAAAAAAAAAAAAAAAAAAAAAAv3aB7AAAAD3RSTlMAq1RmmUTNIjK7EInv\n",
       "3XZ/CtNrAAAACXBIWXMAAA7EAAAOxAGVKw4bAAALcklEQVR42sWcfYwUZx3Hf7c7+za7t7dE//Cl\n",
       "KdeYUBtp2ZQGQ1O5IyiWWHob9f7Ryh2p1tCkua0vidTqrVVITLB3ik1DMWVqbIuWcmvRGjQBRNsS\n",
       "lN7Z2JRiz1ssqaG05YACx8Hd+LzP8zw7s/ts2Bmf5OY3tzvzmWe+zzy/5/e87ADUpQHXnYAwklVj\n",
       "O3caHGzfGwVJgBqlpxwVJIBDrtvtc/xAf38lFAHfYjY/aHL0STPS5lEh1LLWSW+Z5CQ/qoG43dQ/\n",
       "4CsghJMSF/kFyiaHZ6pGpA5x2MPvtkwSoMZpuwbygLkoBdxVZE/KX4wOtw8akXJebbmxZRIHNct5\n",
       "twrygJEKuJr7HVGDs282ckGLHRPSyHsfaSZgMGm12Nu3okFOYoc1kABGKWB6hu2MiGfm1fSBBid0\n",
       "9pqQ3nVONBUwiCRA0Fna0ijv/9RAAhilgMkC21kvmsBRu1FrFbtoQtoKy5oKGEQSIFgDOxvlfUlZ\n",
       "BQlglALqmUBXLzU+Y4MJ6RCsTG9D6dEGAgaRlojW7IUmhT+qgTb8HwR8nVcDEXd0NWmNl1QMSNNw\n",
       "sOkTGER6Xew1aY1jMxqI2wgFTJ/ljktcM1mCaqNTcr0GpGPx0eYC+pMECOBrkG2Y+79qIGGjE7Bj\n",
       "mu0sFB+lVq1wGvZcpg1IP3qPf/7doX2tkTq8T7+19O2Gue/TQNxGKOAYKzP7ffPI+1y4pLFeY8BA\n",
       "UQVxG6GAPcxrxGfMz3kxXFKPeY81N6iBXoxcwB28OzRtfk5fOVTSjhbGQS5qIGYjFPASb3pHW4h8\n",
       "iqGSLpmfHzungZiNTsDEZU6vmp80XAiTJEAGKXVGAzEbnYDWeV4HSuYn5Q6ESRIgk/R3DcRsdAIm\n",
       "Z9nOEI5ckq6UggcUMrNhkihoSDp/voELd1QQs9EJ2MUHueeIS3FZC/r0umvc4AGF/NkwSRS0xKVt\n",
       "sf3t4+NXgvN/ulsFMRudgMPM46eo5144J7751Nlg1/1+mCQK6vDmL+JT3cGtUK8KYjY6AbUMdLqe\n",
       "V18T3P27FCaJgabOeF4xuF0fGVVBzEYn4Gnmn/LUz6Rdr29gKTFaWWxQtZoLk8RAI64X4nxWaXnF\n",
       "BvdaJlQQs9EJ2MeuZLFqdtr1blaO0fLkuHXsPzdMEgPlXW8oJi5//x8S67Di6prWQC4XkFSAj2kC\n",
       "dpA6UmyjgDtYtynDfH4mYOr0E+jvBOTZpaecEEkctGPO322iMDPfC2+yoTPejHMQtUjAz2D7dU1A\n",
       "C4dYyXIbBRxisCQrbnvcdyjAxn3OfwHcq54VCol/tMv1HVR4CstWhaSjXE2cRS0S8Ae4oo9qAqbx\n",
       "c7mxnVV4nBVcjpfkgO+ctMUemFvYw1FqOylR1EEJ17f1XsVqNVU3w6NuDqIWCYgVznbrPhCX23Pt\n",
       "FJC7DuFLsu5hvx4Dt/TmFna3nRSr6SDYf8XHUwAPKim8g4vMQdQiAeOoRJJ1jchS9DcYqoAwdMHn\n",
       "sEW8l1A0F7A1ko+ASdfnVmP8s7ubCAhHJif/VidgbnLyjWq4Au5ypQvYp4rwCrKfQ7sn0C1naXDX\n",
       "V2w7yUdAe1weVti9BzqRLBZi7sbV+LfUI/BgiYOoxQLeDvBYnYBWBTJOM1F6zfWzeW7HxG2LThip\n",
       "hrED8Gda3NkEqjzxQTm3aydx+kcbSJKAthfZ8O4cSdXFkCvQJ7d6F/p/WTMB74dUoU5A9NH94oPN\n",
       "aoB+zfY1vyM7etye3uBtAW6Q2z2bdzPHvP5qn+R6HrIGSdzxCt2FGD1sf/3wwNWSPAG9nq8ledF0\n",
       "92oSwaCnEO8CLKblwgcaOIhaLGDGyZbqA+nH4PfiA2/9Djz84UfgNfjj2z4C2gAfJTt0e0Ot2W13\n",
       "SqMnTq4GDwGZn8W7kJ5uRUBjkoU8E3JZBU1AmJqXbuNlpByZtMa7qKfSTMBYLenTE7lJakO89TvW\n",
       "7TjcT19frBcwtdKBQ2SPbJcXm952Sg5glzhQo7eNdyHR0hPYCsnvCYRhKRaPzUIe6Kx/DEdKdzUT\n",
       "EAZXoMschz8pAibj6AB7zylcD9n6nX0rWFhuWSAJ+MyKP+Anf0EZ0vPHUY7J9iRpo6TFQ/WuH/Iv\n",
       "Sbe9FsgcMXb/69GzHJsI8oFXR/JtRADekdyNNUHmiHFDkiw4fLa5gQ+E51DQt7vLuU4RMLsInfts\n",
       "eQST6fqdztIWm0r2yY9LAtqvpVGQnvg5OjB/DHV9yHYLbeulxUM+tz0geW74KcTwpR5HwPMo/2y2\n",
       "3KwVbonkJ2BCnt/LFOB6bNBxYyVUFMubCvggcgkP3OhNzRMBU7gl+zSQNUt0/c4a2EmjeLtWlQS0\n",
       "epFKie3Yi2eKuMnD2xj5X148VH/baSX+fx6+DzRmSE9/kwYRxnFgSyQ/AUfky2QHU/gQHP6MpIok\n",
       "HmocB0JHhXj+TepozIeIHzlOndpK6lTiG7Zt+xlks47tCAFzpXwB6BOXq1gFtiWKyouHxrk/9aI3\n",
       "xb9ZHyCF8xP0h/c6S4ECXiXJE3BcuNWXlQusXEpKBVX9Drz3alMBSXoBanXDWfZF2Pob4Ot3UEVN\n",
       "k9L8/A8h6wk4Vs7c6th7MaiL8Og2/cGysniID2KIUQ34ql+82Mke2e+pAyZyukqSJ6AYoEn6BrRH\n",
       "WQM1oYz9eGM4FVXAo6lS/XjgS+nzt9pVvH4HbfH6GxJxV3vhK14VzpVHvoBychIXtrMcniFbfOEF\n",
       "jrx4SB+Egozv6C/ruvOe/FS5+XBWiyRvMEFous039r9FGZTo5KMxHDRVVgX88lKfAdUv3nyqmD6I\n",
       "1++gLV5/sxFdM77g2r3rPQETq27aw+KW9J01VJnxlo7lyouH+BykmEtc68W+cj19lJ47qtUyeRy0\n",
       "XSQBOuaFMHJjQpXaqDmMccWajEjHpK29d9sj3jdqybOeR8C8zGlW8HnWmsW9yCMun/JrOfNwJUwS\n",
       "B93mPeY3ywHnqFQO0MXjiSuKNRHwS9JWTX5VJxHQg+5hlTl+uS7yWKzE4+Tx/a9PgNx2EgNJMUzs\n",
       "gPw9aczzZTXU5qCU+ZxIsW62oZGAdFbhx3jRreK/Blh/O0HnwFJe5PGr4FVqiTN+2WsXiYGGhQZ2\n",
       "X/DwiHZVbq9uUqmVIf8x1jO0L6iRR+o6N3iVWnw+TBIFeTHMNxa6lUBAT00FMRvdrFwnd8JTdAz0\n",
       "HpLue8Nt9MM8ayZMEgUlL1DA5LjrzgXnv6+igpiNcHGRssDOkle0BE/+JafDJFFQn3T+ueD8D2kg\n",
       "ZqMTMM4z19PCZGnXRJik+LkW8j+ngZiNTsAUd/DDLYxjj1TDJKXM11hD+rIGYjbCFapHeBe2hd8i\n",
       "n66ESjpifn5+RgMxG6GA+1mAmJ01P+cX4ZL2O8bnZw5oIGYjFHCYxQEp2v4/bXCKfSZc0nDNPAor\n",
       "qCBuIxQwycI3uIds95k0PDPhkhjINohn9Z9WcBuhgHEeffQYx9/JiXBJDJTlD+Lm4OWB92kgbiMU\n",
       "0Obt2JjxhP1wMVySrS3T7wjkpc5pIG6j/LXmHTx+xf54nZiKpnNS/q1F2KQ71H9zgT257LQG4jZK\n",
       "AcdYTbHn8bTKLKzBAw5FOifl/6TNh00ioMRxESx6bw9ocEUFGKWAeR4JvIOqxC+5UyJzUgG9v4mw\n",
       "SQS0u8uxcAlsld8eoKW1GkgAI33pxL95J75GJw1pDvCcVIDjKoVOwqAHxM+MpbcHaC7wvAYSwEgF\n",
       "5K+LwS9rGdvJKh6Zk/I/fkH4pAE2g0wTnX30SR0FDSSAkQqY5fHb8wCLLJ4DOiflF2QcDp+EQfZs\n",
       "hVVh6e0BarrNUUEeMFIBRVGjWvcEG2oXc1L16cFKBKTH8UpKPighvT1ArcGHNJAH9BcwrJePPcuu\n",
       "ax81OfruKEgIZF/L43Hv7QFaGF7UQNwGvHzsybBePpbi2O+YBN6lKEgpkzt9UgMJ4Kb+fud//DTa\n",
       "4GP3S+gAAAAASUVORK5CYII=\n",
       "\" style=\"display:inline;vertical-align:middle;\" /></a><br>(see <a class=\"ProveItLink\" href=\"../../../__pv_it/theorems/e29bfe5dd499621f0a657fd81fa8793344cc2e250/dependencies.ipynb\">dependencies</a>)<br>"
      ],
      "text/plain": [
       "<IPython.core.display.HTML object>"
      ]
     },
     "metadata": {},
     "output_type": "display_data"
    }
   ],
   "source": [
    "%proving vec_sum_split_before"
   ]
  },
  {
   "cell_type": "code",
   "execution_count": null,
   "metadata": {},
   "outputs": [],
   "source": []
  }
 ],
 "metadata": {
  "kernelspec": {
   "display_name": "Python 3",
   "language": "python",
   "name": "python3"
  }
 },
 "nbformat": 4,
 "nbformat_minor": 0
}