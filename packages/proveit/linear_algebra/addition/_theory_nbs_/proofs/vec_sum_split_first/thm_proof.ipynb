{
 "cells": [
  {
   "cell_type": "markdown",
   "metadata": {},
   "source": [
    "Proof of <a class=\"ProveItLink\" href=\"../../../../../_theory_nbs_/theory.ipynb\">proveit</a>.<a class=\"ProveItLink\" href=\"../../../../_theory_nbs_/theory.ipynb\">linear_algebra</a>.<a class=\"ProveItLink\" href=\"../../theory.ipynb\">addition</a>.<a class=\"ProveItLink\" href=\"../../theorems.ipynb#vec_sum_split_first\">vec_sum_split_first</a> theorem\n",
    "========"
   ]
  },
  {
   "cell_type": "code",
   "execution_count": 1,
   "metadata": {},
   "outputs": [],
   "source": [
    "import proveit\n",
    "theory = proveit.Theory() # the theorem's theory"
   ]
  },
  {
   "cell_type": "code",
   "execution_count": 2,
   "metadata": {},
   "outputs": [
    {
     "data": {
      "text/html": [
       "With these <a href=\"allowed_presumptions.txt\">allowed</a>/<a href=\"disallowed_presumptions.txt\">disallowed</a> theorem/theory presumptions (e.g., to avoid circular dependencies), we begin our proof of<br><strong id=\"vec_sum_split_first\">vec_sum_split_first:</strong> <a class=\"ProveItLink\" href=\"../../../__pv_it/theorems/400c32e645780e8bf81c2517ecc17707ce17720c0/expr.ipynb\"><img src=\"data:image/png;base64,iVBORw0KGgoAAAANSUhEUgAAAiYAAAA/BAMAAAAmph4PAAAAMFBMVEX///8AAAAAAAAAAAAAAAAA\n",
       "AAAAAAAAAAAAAAAAAAAAAAAAAAAAAAAAAAAAAAAAAAAv3aB7AAAAD3RSTlMAq1RmmUTNIjK7EInv\n",
       "3XZ/CtNrAAAACXBIWXMAAA7EAAAOxAGVKw4bAAAKl0lEQVR42rVcbWwcRxl+fV97374IiR8UNVch\n",
       "FRBOc9AqUipoLmqpqCDNScESgii+qlVRKlW+0j98FHJUwB8KthQEmCA4ELS0aX0HQXwUiVqGtmlo\n",
       "yYGKCIWQC0SEKrS5fLh2ncTLzO7M7ryzuzOTs/aV7Od2b+Z93nt2Pt6ZORsgYGnbvgLrs9QAo9Ly\n",
       "9xl40tudVxXhox1MzjFj2+dDiqeXJj+2Tk3+I+FXZlWlXzXwpLVyU7hQ8znFZyVyhtnJyVBNhutU\n",
       "BNLLGGGspyqe62k96W2qJVyo+Rw7IJH7QSzGosmTNYxQbCs7z6LWk74D/k68UvO5nquY3A8iHk1u\n",
       "lxBmXn+bqvxER+dJP4KJXUfHRy1xRCL3gohFk+wKRoDXOqdUFUp1jSe9zaCWoeFz7GWJ3AsiFk0y\n",
       "FYwA+2GL8pktazzp7S50peFzbHMLk3tBxKIJZ9vsDXuHYbuyxl6NJ61Jqur4HL1nJfK9cWryNwkB\n",
       "hrCoVrGt9qS1Ep58dXyOjCsSOcc4NMmex0jslaQ6YSjWlZ4MhpMqutTxOfZ7iZxjHJqMDTES+9Lr\n",
       "mlljqPSkt434Usfn2E6JnGMcmnTrGE2SvAtKT/rs5OIIcU7VMDnHODTZ1sZoYs8pPWktuTJCnMWm\n",
       "RP5cfJp8X0IT29lSedJabpSQU8sSOcM4NHlTQqPpu6bypLXx2RHiTFyQyBnGoEn6EkYj21dReDIY\n",
       "GnojBGqdk8gZxqBJagmjWd9eUHgy6HqNUSJ9USJnGIMmmVURM7Zg0ftDuVWFJ71Ne4tIQz53uOpg\n",
       "coYxaDLeFzFhsynhsT1vtxeit3jOKzzpzd8XNORz7GwVkzOMQZN9swg3+vF+IDotTVxUeNKPDMJg\n",
       "bMbnjql1TM4wBk04E8OS7Q+fd0SvB95UeNLPIIKiZnzugmAWkzOMQZOzA4RZ289RU2IWYjm/2Z38\n",
       "FYUnbi0EYs9bE9SN4vNJLZ4m9zE5wxg02VnFeNb2IxOzkH85v/ewK1vhiX9ydrknOEGJnSSKzydN\n",
       "M63HhxK5zTRxWto7ZE2Cd83T2DbGnB06VCZoSnEKyizsE51oT8zew7UJfNKcmNpH8Hmk5Tr8m3Uz\n",
       "Pq9xchcX4YMUPilrErxrbNMtjPmjoQu0R+mvvwPch0uHeWJ++PIEAudBGXFHKYLPIy31INPB1XDI\n",
       "i/BF2sFmZU2Cd43taAcjTNnVkGK3MryJtYlGtCfWQbzmwarALi/jQ4lMOJ9ImnQH7xzPCTm5i4uO\n",
       "ZoWqrEnwrrHZ8ghRsI+EFOO5Q9H94Bur0Z5YQf8V0+oGL5FBI2A4HyJ1C4zxYYiTu7gISSJ/JjDG\n",
       "Bu+OrglMvxHSs3lPyNQMNbne7yo1pSahfJj0brUm8NLx438IzjuBu+vQ5ElbWKLNH4ISoU6RW/lT\n",
       "5MMV3HRiZy3KE6sAH6bd+ZrTA69KpCaITyadp/3np25v5LM2J3eRaPIhgO8ENQncNbW8jVHMt6n1\n",
       "JqBYcZ91IU3acrIphrXjOLU/iR5YBefZ7m7RNQmr4mvSxZogPpm0t5tcb9Fo8gBYlaAmgbvIFAlm\n",
       "/jJGh+uyN1pmq7c7MyJ9bA/Tw7uE28efGUR44hXgz84BaKrvVRE0kRY2Ap9MSl8CTLgDD0/1OLmL\n",
       "RJNcp9AIaiLezfKTj7EXfn7AkUOekbJ7lZqU/BVqHv5I4iLjJPHeKZLb2aFaE14BnnV2kclM6lYh\n",
       "LepF3qJkTUrSilggpS9JVq/RJDHIhOSx6O419GOfnGuUWoX5TlCTvFsiWhNLyNwTq1AGVxPYTJyl\n",
       "Ne2EV6CaFGeh2/CqRLcTS14pCKQJOm/v1mgCzVsIzUn4Dc7t6V1uh8nPbSSpTMLDD0JAE2t7xykR\n",
       "OcZC+XkhzehDAdy+A3cRNRP9qPGEeWAVaN/pDmAbeFUix1jEJ5NmKuRBbNKMJ/AzkhfOj3euw5rQ\n",
       "u3Dwll/SJrJ2ssMS6npd0IS9u6HllFBoMiUk6bkKvJMCeST5JRIoO52KnndYBfge0aQKb020eJVo\n",
       "TabacvLvk3YbpPdt1WnyEBlMP7vJfRi+JvRu/q9Zmv6WXynXH3cTwE+1fU3cd9PfaLklojVBx3mF\n",
       "pkVbKJ1Ps8MH3flRmZ+wCnT+zA0SL6e8KpGaBI8PBdIZq+bO66r8BMbazpDxZawJvZuqZ2lPzdWS\n",
       "TTePnmfCOZo476YPdFgJLyOXkOQLaKzYfqMTN23/byHhlRqRmhwVK8DXyFO49lcP/Ner4mtSlPKT\n",
       "4Njkk47RV3/RaQLuCDYI7hUUG2U6IRfbqcqWubm5KvSehic8TZx3H3Hc0BIQusikdk/YnH2M4edD\n",
       "18Aha+WSV4JV8TUp4Y3beyITBUZq9fFyGi/lPU2OWY2gJt1W7mYS1zgUq1913nlXDZ72NHHezf+a\n",
       "ikJLRO0VQC50LXkTXpadaOn2CpJ1efm4K3SvIIJPJGXLyRJfF3PyEy2kySduDNlTKrZmdnUOQqmz\n",
       "leQrtD+mIN332wl9F+BV2gE6WwPnCt75wg7/cQsdJOfGwRffR/UnFN/i81zgM+NDj3A+kfQzUpfD\n",
       "3V29z5a+9YZDpHdk7xyA9W1y/d4NZ75Z8TRx3iW2tQa0hLfPVcOY9CfGpBBjflaMEi6H7T3iuehx\n",
       "/MHEuVc8go/gE0mZuuM8rbmM0GTv0XV8cG7Of2z4Sb0bBbmth1GYGCfEcl9wfp+OyLJED7x9MN1P\n",
       "BwomL4VPxBOBkg5pmcW7r4/JLeP92HTIrqBqt2mqgtDyJ8YfRW+Apc8pPGlNrG3Gh/zz6gwNNEnC\n",
       "1WnSbSL0JkbrOjv6GxHJNYUn/Vr8jZCJWMnntsMBJmc44r696qt3pSHC6Xsdu/8ftq3YPE6tKDzp\n",
       "7YSwoWTE547hbUzOMI4z9GURU+L5bfSXojNDhSeD8xPvIRnyufJJ5Axj0CR5AaORhR4Nm3vYVhsl\n",
       "0isSOcMYNLEuYjSymZ7Ck9721UcINHtJImcYx/eUXpLQxM62VZ60VuyPEGd5RSJnGIcmz3Qwmth3\n",
       "lZ60VlgdIc7cgkTOMA5N9g0QPmYymZ5TetL3V2cWzbeuKs5uBZNzjEOTTBPhb03G5RWlJ73d67SW\n",
       "EAnz0X+MwL9pysk5xqFJchmjiYx9pSeDiSesidCB9+uvRda5XyLnGIcm+UsYTbpbTenJoB/0orLt\n",
       "TZH97YJEzjGWv8v4iIh7vEWLu30bPphqPOkTxQVnn51reehMS6tJYSiRc4xFk+7Ax/xgFe6YI1Zj\n",
       "m7uh7WFN40nfNtecffYUZdoPT7Vm9Jpw35zcCyIWTcoLPlo/5EMF29wNfcp9jSe9/c/ZZ2d2Gzyi\n",
       "7zs7JHIviHj+RvKfAub4o2abu6HDSUPnSWulgXPa4dqzcBJIk3mBNJlITawlidwLIh5N+N/6Uuz+\n",
       "hPUdtrkbZhu0nvRbKMuQX227fSe/DPuf0LWTsYpE7gURjyaFpo/Xp3g7cbdvw6bcI1pPevsFJJp8\n",
       "1fN8dulmnSbv72ByP4h4NPFaMcEf8K1Cvn0btIfaek/6TH2Qv5Y3qo++70yNafK56fCc0ToskftB\n",
       "hGqy/v/h8FQbo9ruNvCkn3mOhecnUVliTSJnGPE/HPKT6/4fDlYbo/rTNAw86e3ToXlslP1YIueY\n",
       "nZz8+P8BwRMdsjT7NQIAAAAASUVORK5CYII=\n",
       "\" style=\"display:inline;vertical-align:middle;\" /></a><br>(see <a class=\"ProveItLink\" href=\"../../../__pv_it/theorems/5c24891a2f5751a1efac501711a418311281c9200/dependencies.ipynb\">dependencies</a>)<br>"
      ],
      "text/plain": [
       "<IPython.core.display.HTML object>"
      ]
     },
     "metadata": {},
     "output_type": "display_data"
    }
   ],
   "source": [
    "%proving vec_sum_split_first"
   ]
  },
  {
   "cell_type": "code",
   "execution_count": null,
   "metadata": {},
   "outputs": [],
   "source": []
  }
 ],
 "metadata": {
  "kernelspec": {
   "display_name": "Python 3",
   "language": "python",
   "name": "python3"
  }
 },
 "nbformat": 4,
 "nbformat_minor": 0
}