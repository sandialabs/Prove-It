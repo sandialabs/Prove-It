{
 "cells": [
  {
   "cell_type": "markdown",
   "metadata": {},
   "source": [
    "Proof of <a class=\"ProveItLink\" href=\"../../../../../_theory_nbs_/theory.ipynb\">proveit</a>.<a class=\"ProveItLink\" href=\"../../../../_theory_nbs_/theory.ipynb\">linear_algebra</a>.<a class=\"ProveItLink\" href=\"../../theory.ipynb\">addition</a>.<a class=\"ProveItLink\" href=\"../../theorems.ipynb#binary_permutation\">binary_permutation</a> theorem\n",
    "========"
   ]
  },
  {
   "cell_type": "code",
   "execution_count": 1,
   "metadata": {},
   "outputs": [],
   "source": [
    "import proveit\n",
    "theory = proveit.Theory() # the theorem's theory"
   ]
  },
  {
   "cell_type": "code",
   "execution_count": 2,
   "metadata": {},
   "outputs": [
    {
     "data": {
      "text/html": [
       "With these <a href=\"allowed_presumptions.txt\">allowed</a>/<a href=\"disallowed_presumptions.txt\">disallowed</a> theorem/theory presumptions (e.g., to avoid circular dependencies), we begin our proof of<br><strong id=\"binary_permutation\">binary_permutation:</strong> <a class=\"ProveItLink\" href=\"../../../__pv_it/theorems/753dfc83878a7201b14d9b82d2c56c6f2c50125f0/expr.ipynb\"><img src=\"data:image/png;base64,iVBORw0KGgoAAAANSUhEUgAAAcMAAAAzBAMAAAAZTX5AAAAAMFBMVEX///8AAAAAAAAAAAAAAAAA\n",
       "AAAAAAAAAAAAAAAAAAAAAAAAAAAAAAAAAAAAAAAAAAAv3aB7AAAAD3RSTlMAq1RmmUTNIjK7EInv\n",
       "3XZ/CtNrAAAACXBIWXMAAA7EAAAOxAGVKw4bAAAGJUlEQVRo3u2abWwURRjHn+7t3u7ey7aJiW8k\n",
       "cIkGE8V6sYryYjmtLyQEskr8QCB6iomBGLOET4jK6VeRO1+IHkZdvhgBwx20BC1IaqqJimg1GA1y\n",
       "cYsaFKQ0QINpE+o8M7PHvswljV4MHvsk/+vdzs7O/GaeeeaZTQFElti+3YZWsMYg6cnJXEsg6pOT\n",
       "pQaIJrSKxSLECDFCjBAjxAgxQowQI8QI8fJEPPXjlG6zuESmTvGa90FGrfCfIe6Z0l1GhkloihO+\n",
       "dqzRkx7hSpoUsQOvXRdGbMO/UrZJiMJWAnYTV8i2HSIfv4QuS1VWIhisLBNHvA+vPRlGlHEi41aT\n",
       "EIWtBA7oeSaBPYFdCZ3e3+MlAlvNxBFfQKcuhRE1HPh1zXJUYSt+k7NMHud0f53BsBF6DdHDS6gt\n",
       "9RXdxsQRcXSSGcFaxJHY3SxEYSt+S3F5PJGvP2UcP78MVhhwS9A6/c+yqThijAxVXBRuusjffLMQ\n",
       "ha34bSZXGDE5hJ8rg0sx75aEEeNZKo4Ih2q1gyLEVK12tNq0iCpqxW+LuNRpxx0/Ynz6MHGAXUHH\n",
       "rrolXkRWO9lB5SIuBNgiQpQLoNtNQxS14reVXCssfdyPWFmdOA8wG78urqF9684UK/EistqxPJWL\n",
       "uAZUwqzMuAfin3oRydU1/4Tnhnro9iKyVphpq9zMg7iJ9EWB/fiOKTEI8pAf8RYbvgaYFZyGjFvi\n",
       "QeS1pQEqF1G38Rv8CbDc9m39W7BrdxH3mvUmW/UzNoNWc7fgkZMviRMmUvXBcxl4Kgc5DyJvhdk0\n",
       "5Bwum7CfjKS7GD5jkkchjZdksk6Id+O43A8wAVAMhifTLcG5/YrNLa+tjVK5iJJD48ArYJj+7KYT\n",
       "o02SjMd68mPTNZshRSofd1dCAe4WIm7F+RsApZ8MmQeRt8Lsc6J7C2x+kuBHTJWgYvpn8SdQyOaw\n",
       "QoDISjyzyGsrA1QuIuS7sfCs2h9I4OIx0oREPJuQyQux56P0uxvi24SIuMnrHfCbd7fe47ayo3sv\n",
       "TuCFYduge94GE+5wK3JHrTiwIBBRz4BMenFzYC2io7ISDyKvLQ1R1RF34w6onZ/vBBCTM0kX1TGI\n",
       "WW76dBakAvSOgHHgqvi1oKpvd/fZai+BOjlsJbsdODYvC7iO2rPrka6+Ee7hrSR+0DA6GEeM3DZa\n",
       "0O6o9c3+HaZKBq6ULB/iX/ABuWtOYCx1xy3xIrLayEVUR3wW/d2YWD8QQFQ/wa8XYC3pG0tMFoMM\n",
       "8Yyc7YNF6s+HTShaRr6tmrKSObn6OPQoVdVRcSstrqVBQMp5ELEVOadhI3o2lmfZSLyj7qd0U9iF\n",
       "PZcOy/5ZvAJe5xuK13BjYCUeRF4bNxSiOmIbrgq9BAeDJ42r8eMx9E2eSm0wXySrXtlyHp4h4eIC\n",
       "bAQYUy09W7HU90dhmXbuRlDwiaf37qfxqeRBxFZSpoHDmSrIHbPL5XKGRL8T9TZfZkpM/3DN737E\n",
       "rX3Y/PcBRG3ILfFGVFYb+09UR2Quk4XTtugwtdggl2OryuVXcRyqML+r62GyJhMY4gjiIJw85TxK\n",
       "7hjsuh2WTZoSMpRpZAKtFDhMVSx9LnlaO6QyLBzHxi4mdekCUzi7YXv6UHDV+w6h/uzmOSY/YtFi\n",
       "3QohLngIO8uKlDEHY7c6TmNNms5iOquf2GCzMG3H8hTrLBjjQUelMcoqLrV3QNqew7MK7Zxnt8kF\n",
       "c20lG8jSIZRrgzgN72HyIRrv9sOsCRFikbbKM5OjNllICect2Nlukt28aBulip0e0asJ5zXYSZBK\n",
       "GG4wpqDXG04AUenp7IWNGW2JAyrba494+vUGl9jChx694UkPzzQo/yw2PPWn6XCvYx50PdG+EUge\n",
       "cOTl+6pQvPVXMHrufJpfk5bMs7CTf0zY0jdVTx/8p37mmzvK5cCrhW1cYgvDJxoezrBh1BQR+eM+\n",
       "Km8O37ZRUHW5v8/UPvYuG6VR4qs6TOKDvGDKnm+EeJzJOGr+63c3RdHJ9mJfHhBneP+nN3DqDNFh\n",
       "q9+brbbmS8ZE6Ev0qvhSQdw0r9URtQ691RH1Qss7atpOtDqi0tvV8uHmMoioEWKEeCkizm2Zf7nd\n",
       "2Qixlf7l9m9aDPDW3vgY9AAAAABJRU5ErkJggg==\n",
       "\" style=\"display:inline;vertical-align:middle;\" /></a><br>(see <a class=\"ProveItLink\" href=\"../../../__pv_it/theorems/7bd0aa88c697869d47bd523d9eca9d0f904b28e00/dependencies.ipynb\">dependencies</a>)<br>"
      ],
      "text/plain": [
       "<IPython.core.display.HTML object>"
      ]
     },
     "metadata": {},
     "output_type": "display_data"
    },
    {
     "name": "stdout",
     "output_type": "stream",
     "text": [
      "binary_permutation may now be readily provable (assuming required theorems are usable).  Simply execute \"%qed\".\n"
     ]
    }
   ],
   "source": [
    "%proving binary_permutation"
   ]
  },
  {
   "cell_type": "code",
   "execution_count": null,
   "metadata": {},
   "outputs": [],
   "source": []
  }
 ],
 "metadata": {
  "kernelspec": {
   "display_name": "Python 3",
   "language": "python",
   "name": "python3"
  }
 },
 "nbformat": 4,
 "nbformat_minor": 0
}