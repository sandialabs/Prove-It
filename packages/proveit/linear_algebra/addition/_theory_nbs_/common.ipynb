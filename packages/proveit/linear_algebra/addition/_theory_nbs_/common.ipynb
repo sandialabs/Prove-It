{
 "cells": [
  {
   "cell_type": "markdown",
   "metadata": {},
   "source": [
    "Common expressions for the theory of <a class=\"ProveItLink\" href=\"theory.ipynb\">proveit.linear_algebra.addition</a>\n",
    "========"
   ]
  },
  {
   "cell_type": "code",
   "execution_count": 1,
   "metadata": {},
   "outputs": [],
   "source": [
    "import proveit\n",
    "# Prepare this notebook for defining the common expressions of a theory:\n",
    "%common_expressions_notebook # Keep this at the top following 'import proveit'.\n",
    "\n",
    "from proveit import Function\n",
    "from proveit import f, Q\n",
    "from proveit.core_expr_types import b_1_to_j, f__b_1_to_j, Q__b_1_to_j\n",
    "from proveit.linear_algebra import VecSum"
   ]
  },
  {
   "cell_type": "code",
   "execution_count": 2,
   "metadata": {},
   "outputs": [
    {
     "name": "stdout",
     "output_type": "stream",
     "text": [
      "Defining common sub-expressions for theory 'proveit.linear_algebra.addition'\n",
      "Subsequent end-of-cell assignments will define common sub-expressions\n",
      "%end_common will finalize the definitions\n"
     ]
    }
   ],
   "source": [
    "%begin common"
   ]
  },
  {
   "cell_type": "code",
   "execution_count": 3,
   "metadata": {},
   "outputs": [
    {
     "data": {
      "text/html": [
       "<strong id=\"vec_summation_b1toj_fQ\">vec_summation_b1toj_fQ:</strong> <a class=\"ProveItLink\" href=\"../__pv_it/common/650c8aee4a66c5562ddfeae7da1cb7b6e9c3cc200/common_expr.ipynb\"><img src=\"data:image/png;base64,iVBORw0KGgoAAAANSUhEUgAAAVkAAAAyBAMAAAAEmLXFAAAAMFBMVEX///8AAAAAAAAAAAAAAAAA\n",
       "AAAAAAAAAAAAAAAAAAAAAAAAAAAAAAAAAAAAAAAAAAAv3aB7AAAAD3RSTlMAzXZUMhAiRKvv3WaZ\n",
       "u4mNgo6tAAAACXBIWXMAAA7EAAAOxAGVKw4bAAAEc0lEQVRo3u1Za2jTUBQ+fWRd27SdyERQWRGR\n",
       "KftR8YciokP9s4EYBUF/6CrCBBmu+PinrKigqMzhY8IEV9AhiGhFRAUfVVQE0Ym4gaBYFEFFdHMP\n",
       "fIDx3pubm2TJttw0loK70OTk3vPlfDm595xzGwDbrUrW2nco9bZUriVnYUt158+SZ1suZ1QxfDlR\n",
       "8nQv/2Ci+Lzk2a6Ss0x+5Pw2yeLgvPIwk8OOyXqdTqLtnPpvfxX0bp59wMclILzK6Ho3dIyNYtre\n",
       "LJ+59XKuALLR/cex8QoAj+E208fBMe1KPnsBeaAAtsEFPXh9Ig/FDJNhvHsy7VucBr/9lJyzbSHY\n",
       "IJNUFwzZwmEop3GPXOGc7WdynMckdYJkbOGwdc6JK3T+cUz2RscRstTQb+rMfToP7K0eO0ow7Wja\n",
       "YfZ10pTaYhp65n6pQQueDZXC8JgeUrSR3TDvixXlk07Jlg2S01kA3xAE48IV1QESHBO+Hhx1ThJt\n",
       "gHNIauPOvo6rL18fOZ1Cj1wBsfyyubT/HsAfEcRRZy/RJpK/j9dmc8YpW7qaENtQHloSsIj2X4LA\n",
       "QCxFPW/RFG0SPbh9O8dplodIWp0JKIB2S4ztAIhDYWl0tkRbqEGEfbyeCgw6Tw5xcnqB7NcKp4Gw\n",
       "xZN1ENZnFc+bpy7uIdqiD62wMG/ht8p5XducIqePqFDORnKErdCPOg7Da3Ssl5SrhgoYIRDttVGE\n",
       "EPOc8fZYAVsP5VSP7tL6BBTfXkDOW/cFubash16FcFFwEaiAexRtnBlCKc5cVkBV85guGjVgY7Y+\n",
       "9eU3QaPuSosjrCeG1stWTotvHHP1pSfTwjinYxtVY/HLFQ+1K10cYVId+j3hzA1dmnVOtqEeNRH1\n",
       "KqdtVe8A1qgrUJb7tCutaT3V6JE4F9lNLXxd5WQbrlGxG3S9cYNO3ITSelDCjiSdhi/+JKhl4Dg/\n",
       "xrMT2ZvNGYNY+BK6C9lE8Dexhruu1sLX5qMFlGJFap7+SaRd6JTlX6VOFrp1/4P9hok20Sba/94M\n",
       "CcFnMw3G3eXgn2GWrEYBaFHhfYdT/nWbQNFll7VaSFajlG1gCpS1g5C2CQzk3WV7wkKyGqVscVn6\n",
       "FMSUXWCluzPhe7U0UrIapWzJ3vQuhGwD37vK1tvlzY2UrEYp23JcVH+CTbaBi11lG8mqfy9pktUo\n",
       "ZRvE83Aq7LEN3OMq22CtmCY7TiLtqEmZRkGUdGzR3tM/DAttA1e6yjYGwcTyLlVqE/pMowbfRnIB\n",
       "KZTFHGwC3Z0JIek2ADK6kUhJfxsIeXRBDkpf+JZ+lbVfm4X2SCEr4EYdlAFnuhsT7seJ0boEkSIp\n",
       "8B+HuqS/HR2UvsbV+gjWtPeglMQ7OjMQSe0UqgF73U+q+IUqL+6BYfet9N0x5DLYLcRZ0DcCE2ag\n",
       "8PyfsA2QpRSVkJt2sU2usrwOGNk2H5LYt0gDMCCZgWLSdbLLziTox8Uq/OWZfYygHxwzRrae84Sd\n",
       "Gah9n9SA14tcennn09Bv9JJkDygVma3vSLGBo7e/RR9TMhH3h0IAAAAASUVORK5CYII=\n",
       "\" style=\"display:inline;vertical-align:middle;\" /></a><br>"
      ],
      "text/plain": [
       "<IPython.core.display.HTML object>"
      ]
     },
     "metadata": {},
     "output_type": "display_data"
    }
   ],
   "source": [
    "vec_summation_b1toj_fQ = VecSum(b_1_to_j, f__b_1_to_j, \n",
    "                                condition=Q__b_1_to_j)"
   ]
  },
  {
   "cell_type": "code",
   "execution_count": 4,
   "metadata": {},
   "outputs": [
    {
     "name": "stdout",
     "output_type": "stream",
     "text": [
      "These common expressions may now be imported from the theory package: proveit.linear_algebra.addition\n"
     ]
    }
   ],
   "source": [
    "%end common"
   ]
  },
  {
   "cell_type": "code",
   "execution_count": null,
   "metadata": {},
   "outputs": [],
   "source": []
  }
 ],
 "metadata": {
  "kernelspec": {
   "display_name": "Python 3",
   "language": "python",
   "name": "python3"
  }
 },
 "nbformat": 4,
 "nbformat_minor": 0
}