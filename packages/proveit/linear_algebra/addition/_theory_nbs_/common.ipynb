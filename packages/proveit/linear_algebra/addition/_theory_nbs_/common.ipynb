{
 "cells": [
  {
   "cell_type": "markdown",
   "metadata": {},
   "source": [
    "Common expressions for the theory of <a class=\"ProveItLink\" href=\"theory.ipynb\">proveit.linear_algebra.addition</a>\n",
    "========"
   ]
  },
  {
   "cell_type": "code",
   "execution_count": 1,
   "metadata": {},
   "outputs": [],
   "source": [
    "import proveit\n",
    "# Prepare this notebook for defining the common expressions of a theory:\n",
    "%common_expressions_notebook # Keep this at the top following 'import proveit'.\n",
    "\n",
    "from proveit import Function\n",
    "from proveit import f, Q\n",
    "from proveit.core_expr_types import b_1_to_j, f__b_1_to_j, Q__b_1_to_j\n",
    "from proveit.linear_algebra import VecSum"
   ]
  },
  {
   "cell_type": "code",
   "execution_count": 2,
   "metadata": {},
   "outputs": [
    {
     "name": "stdout",
     "output_type": "stream",
     "text": [
      "Defining common sub-expressions for theory 'proveit.linear_algebra.addition'\n",
      "Subsequent end-of-cell assignments will define common sub-expressions\n",
      "%end_common will finalize the definitions\n"
     ]
    }
   ],
   "source": [
    "%begin common"
   ]
  },
  {
   "cell_type": "code",
   "execution_count": 3,
   "metadata": {},
   "outputs": [
    {
     "data": {
      "text/html": [
       "<strong id=\"vec_summation_b1toj_fQ\">vec_summation_b1toj_fQ:</strong> <a class=\"ProveItLink\" href=\"../__pv_it/common/b92a763eae6cb7e3344c2f99aff3de95715e185e0/common_expr.ipynb\"><img src=\"data:image/png;base64,iVBORw0KGgoAAAANSUhEUgAAARIAAAAyBAMAAABiwkmSAAAAMFBMVEX///92dnZERERmZmaYmJgi\n",
       "IiIQEBBUVFS6urrc3Nzu7u7MzMyqqqqIiIgyMjIAAAAO+LikAAAAAXRSTlMAQObYZgAAAAlwSFlz\n",
       "AAAOxAAADsQBlSsOGwAABAlJREFUWMPtWFtIFGEUPrs7e5u9uD2Y0NM+FQnCGkQILm43iKCSIqqt\n",
       "h6AesgztIbu8tAnWQ5SbL1EPORUEBakUSC/WhJQQQYaYDyktXZAgMiiDtJzOP/dxdPb/G2VfPDD/\n",
       "HM458//ffzuXAXCmuGSiQSghRaVphbl3uUU6WEokcG5SZzf/KSkSv9Ss82tKiiQi/dR5X57tW3rz\n",
       "MI3Re8noMMMEJCZSm4ZoLoNXqmdfSd8yAeAZ8CudvzX0oxSd8k0/2JFU9IrAF9AJpIo4CU0fFyh6\n",
       "bZdEZiSNrQL4cC/Linyq67kURa8e6SgrkNAUNgEyiyJTNfRUY0zMsCLxkO2/gk95EUND/4mm37tS\n",
       "gg0I17IHF7saufGxWkdLQ1/B5PGpqWxQmSU/I3Q7ORVV34PsdqqO634JbEg6Sd8HcA5TCIqffxBZ\n",
       "D7Af2eeUHp8xCr8mzRF0KwXoTvQNz+92iF5hn9L54knG3SlXkaC7aBcdpqvoZbpA57YbGJGsIs1X\n",
       "PC8ZqBMckMh6fkik3p32HkYkx0lThSPl+MPKIPaDxoOq90XRGcMGqnDMmpeEp9V7Gcx4UzISnrik\n",
       "7oKJkRtZf99D/Guayp+wZo3R76Rtw3HTterC78ZF8ZMRd4HK+LOaPk5C/D6ajj8yR2I5ufJre0qQ\n",
       "RO3b81I/LehSwjQB35tkBDIQFy1BjSDx2M10x91LwNOkPmuN6dAF5Z1dynu18ro6gWfggf3E6ns+\n",
       "gk8HTRAxrjBHh2RbjfK+bZLZp8xZgl8l2xV+wXiFqJLN+CUsXjiKlDdsXOE7/5G8URzvIcqgpl/h\n",
       "8ABzSF5Ymvgm0+cmrEbrSwnEZ66LM7BES7REtGSpzaJOrjDm9q/EB2eZGog96SFEsQWezBGYNVnK\n",
       "JZQTzjJllNAXCDcA3wzBOYowTXbeJZJjzrKknmKsAV8OAnOktJqMqt532J2/I4KTLKknpjvAj2XJ\n",
       "2FlbF5rMI7pCEsvGUk4yGUmQpMDL4SbAsDBk60KTRd0dFO8gV3CSyUgCZIxxaCWlg7221GShpCsk\n",
       "gZyvOVxpl0Ewb0KCqUHkNwyQwm4ddMzaTiKDM2jhDkmZEBAfZ+0yy5p4UyHBn4GHAFPQGGmbhQRl\n",
       "C7E7fgGrL0RyC/iE1hAZt9F8Yhu2vsNsE09slkui2mSOLyLbhChi7v6mR9IJGUmvGGmA3jxpRCK7\n",
       "3mW+xdeqTgl58Obh0RuQkejmkUYiC9/Ag+XNg2vKWioIhVtv8bFwkc9AKKEuo9k8qmTqCWsu7wKJ\n",
       "UaSp3Gkrks6TKK7RkRjmSikXzAGscA+k75BoKj9Urt6KJL6X+C4yfuRtrblaUVJKPEJcblFCcOyV\n",
       "ehGsez+fPx/tV35DLAJFq5nM+xOuR/wHbGYpB+wFCrgAAAAASUVORK5CYII=\n",
       "\" style=\"display:inline;vertical-align:middle;\" /></a><br>"
      ],
      "text/plain": [
       "vec_summation_b1toj_fQ: Sum_{b_{1}, ..b_{_a}.., b_{j} | Q(b_{1}, ..b_{_a}.., b_{j})} f(b_{1}, ..b_{_a}.., b_{j})"
      ]
     },
     "execution_count": 3,
     "metadata": {},
     "output_type": "execute_result"
    }
   ],
   "source": [
    "vec_summation_b1toj_fQ = VecSum(b_1_to_j, f__b_1_to_j, \n",
    "                                condition=Q__b_1_to_j)"
   ]
  },
  {
   "cell_type": "code",
   "execution_count": 4,
   "metadata": {},
   "outputs": [
    {
     "name": "stdout",
     "output_type": "stream",
     "text": [
      "These common expressions may now be imported from the theory package: proveit.linear_algebra.addition\n"
     ]
    }
   ],
   "source": [
    "%end common"
   ]
  },
  {
   "cell_type": "code",
   "execution_count": null,
   "metadata": {},
   "outputs": [],
   "source": []
  }
 ],
 "metadata": {
  "kernelspec": {
   "display_name": "Python 3",
   "language": "python",
   "name": "python3"
  },
  "language_info": {
   "codemirror_mode": {
    "name": "ipython",
    "version": 3
   },
   "file_extension": ".py",
   "mimetype": "text/x-python",
   "name": "python",
   "nbconvert_exporter": "python",
   "pygments_lexer": "ipython3",
   "version": "3.7.4"
  }
 },
 "nbformat": 4,
 "nbformat_minor": 1
}
