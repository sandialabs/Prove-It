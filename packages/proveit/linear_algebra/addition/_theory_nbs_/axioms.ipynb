{
 "cells": [
  {
   "cell_type": "markdown",
   "metadata": {},
   "source": [
    "Axioms for the theory of <a class=\"ProveItLink\" href=\"theory.ipynb\">proveit.linear_algebra.addition</a>\n",
    "========"
   ]
  },
  {
   "cell_type": "code",
   "execution_count": 1,
   "metadata": {},
   "outputs": [],
   "source": [
    "import proveit\n",
    "# Prepare this notebook for defining the axioms of a theory:\n",
    "%axioms_notebook # Keep this at the top following 'import proveit'.\n",
    "\n",
    "from proveit.core_expr_types import a_1_to_i\n",
    "from proveit.logic import Forall, Equals\n",
    "from proveit.numbers import Add, Complex\n",
    "from proveit.linear_algebra import VecAdd"
   ]
  },
  {
   "cell_type": "code",
   "execution_count": 2,
   "metadata": {},
   "outputs": [
    {
     "name": "stdout",
     "output_type": "stream",
     "text": [
      "Defining axioms for theory 'proveit.linear_algebra.addition'\n",
      "Subsequent end-of-cell assignments will define axioms\n",
      "%end_axioms will finalize the definitions\n"
     ]
    }
   ],
   "source": [
    "%begin axioms"
   ]
  },
  {
   "cell_type": "markdown",
   "metadata": {},
   "source": [
    "Vector addition and number addition are the same when applied to complex numbers:"
   ]
  },
  {
   "cell_type": "code",
   "execution_count": 3,
   "metadata": {},
   "outputs": [
    {
     "data": {
      "text/html": [
       "<a class=\"ProveItLink\" href=\"../__pv_it/axioms/7aaaf6a3525260789d5fa0ad8a9ed233fc089e960/expr.ipynb\"><img src=\"data:image/png;base64,iVBORw0KGgoAAAANSUhEUgAAAZIAAAAWBAMAAAAY+gezAAAAMFBMVEX///+IiIgiIiIQEBB2dnbu\n",
       "7u5UVFTMzMzc3NwyMjK6urpmZmaYmJiqqqpEREQAAACk/Np2AAAAAXRSTlMAQObYZgAAAAlwSFlz\n",
       "AAAOxAAADsQBlSsOGwAAA6ZJREFUWMPVV01oE0EUfk2zbH5211RK9WAlRGuFIhR/oKiV9FC1oBL8\n",
       "qYq1SW6eJKUg0kvjXy/+EA+CB39SPYke0lKsaMFUECxFTUVRUSQeilo09mBAK4Iz8yZ/s6nd3Zx8\n",
       "8A2z82bezDfvzcxbAEsS5bA+WhSHZWuOSkZXpRAWZbBMW71lay4PIk0/3psc/JKjgo0QRPVbN1eP\n",
       "uE/rl80NlWIIy3JJ13KwAmvOAMMxGmVpc0PdSYQgd+Zzv67rpK7PmGFreoWSYKCE7CZDvppDkKl5\n",
       "uqsenYGA2NJs2FoZxQYGhWyY06Q7b3FYZuIUveSKVcLkCmKtz7feJJMRDsfIUo8ZJmfbTmDFHhLj\n",
       "1V+sNsakMPtWxCjAtEkmfA/gZlTLmmDiaoHvAZDIa6IwFwz7qKzKOQnVxpng7AdIbQIxAI6QkeUv\n",
       "v5t3wBqEtBncXpAmjDLZk4Rh4g/ypXqFLrZUTt0VM8gEZ4c2Un2B0AL2+AIkeo7OQPcR+JC78zci\n",
       "3Fmw+aFnMfANXsc3uDRufL4VJIDpZj0MwEpslGfFKyDO1XKN91/WihQ4O5N+hOpZ6MC7SQBCuwcU\n",
       "gUl1GoJx3BFDPtkC0hyPs+YyTFCdd9dCPuGzszjjiI2T4tD4dv0DOFbLMqRltP6ajIpwxVVE0A/P\n",
       "wTgT6Qcos+Cqg9xyi89JiquNM8HZB0OF6IKd5MWVGuWsbsjuSD89gRJ9N9XzRWnfR0QwBV/UqHEm\n",
       "f0CLvbEHiU1FfIo1D1ebYMJmb6fLfsZxitByJ+RmcAh32APopW8Ne6KVrqJrhd96To/SZNf7JBjj\n",
       "hfSrNLouwqOE/wzt7hZfGHotM7WOCTOSN1mkYLM7DtPuQxwaCZpF8aoQ9DWUmp+DOpYMXMtkvsl9\n",
       "kYLiBkIKbxtYomdiS+SKplImnbXHwxHmUJuY17u8ObXOJ00lJosostk1ans1B9vHqPY4AKVMpJ/w\n",
       "dZ9aAzI76OTEQ84ttggCxfCJR6tZMvCkrk9jvrPR6OIL30+eSC8CL4JoP0nMGkDyw9580SLPJdV3\n",
       "/OE8fa+QnvGUTWRiKINUY/5y+eKkjomxDPKtXUhoXWNTOygTuRV6o3ILLVrh9tPaJHwCuEC3X+rI\n",
       "jObHf+ZgFK8PmfojCEfL5d4ajzdHx2+PGXOdS8n6AFEkJLrUwubhxN44SLsyM6UduzksihbQE0xb\n",
       "NzcNYsLVsykFr/JfvBYOlPt1TiIsypMybecsW1OiCEGSZWr/h/wF7doR+3+r/aQAAAAASUVORK5C\n",
       "YII=\n",
       "\" style=\"display:inline;vertical-align:middle;\" /></a>"
      ],
      "text/plain": [
       "forall_{a_{1}, ..a_{_a}.., a_{i} in Complex} ((a_{1} + ..a_{_a}.. + a_{i}) = (a_{1} + ..a_{_a}.. + a_{i}))"
      ]
     },
     "execution_count": 3,
     "metadata": {},
     "output_type": "execute_result"
    }
   ],
   "source": [
    "Forall(a_1_to_i, Equals(VecAdd(a_1_to_i), Add(a_1_to_i)),\n",
    "       domain=Complex)"
   ]
  },
  {
   "cell_type": "code",
   "execution_count": 4,
   "metadata": {},
   "outputs": [
    {
     "name": "stdout",
     "output_type": "stream",
     "text": [
      "Theory proveit.linear_algebra.addition has no axioms\n"
     ]
    }
   ],
   "source": [
    "%end axioms"
   ]
  }
 ],
 "metadata": {
  "kernelspec": {
   "display_name": "Python 3",
   "language": "python",
   "name": "python3"
  },
  "language_info": {
   "codemirror_mode": {
    "name": "ipython",
    "version": 3
   },
   "file_extension": ".py",
   "mimetype": "text/x-python",
   "name": "python",
   "nbconvert_exporter": "python",
   "pygments_lexer": "ipython3",
   "version": "3.7.4"
  }
 },
 "nbformat": 4,
 "nbformat_minor": 1
}