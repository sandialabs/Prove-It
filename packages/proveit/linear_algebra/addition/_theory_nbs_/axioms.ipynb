{
 "cells": [
  {
   "cell_type": "markdown",
   "metadata": {},
   "source": [
    "Axioms for the theory of <a class=\"ProveItLink\" href=\"theory.ipynb\">proveit.linear_algebra.addition</a>\n",
    "========"
   ]
  },
  {
   "cell_type": "code",
   "execution_count": 1,
   "metadata": {},
   "outputs": [],
   "source": [
    "import proveit\n",
    "# Prepare this notebook for defining the axioms of a theory:\n",
    "%axioms_notebook # Keep this at the top following 'import proveit'.\n",
    "\n",
    "from proveit import a, b, i, j, f, v, x, Q, fa, fx, va, vb, vi\n",
    "from proveit.core_expr_types import (\n",
    "    a_1_to_i, b_1_to_j, f__b_1_to_j, Q__b_1_to_j)\n",
    "from proveit.logic import Implies, Forall, Equals, InSet\n",
    "from proveit.numbers import NaturalPos, Integer, Interval, Complex\n",
    "from proveit.numbers import one, Add, subtract, Less\n",
    "from proveit.numbers.summation import summation_b1toj_fQ\n",
    "from proveit.linear_algebra import VecAdd, VecSum\n",
    "from proveit.linear_algebra.addition import vec_summation_b1toj_fQ"
   ]
  },
  {
   "cell_type": "code",
   "execution_count": 2,
   "metadata": {},
   "outputs": [
    {
     "name": "stdout",
     "output_type": "stream",
     "text": [
      "Defining axioms for theory 'proveit.linear_algebra.addition'\n",
      "Subsequent end-of-cell assignments will define axioms\n",
      "%end_axioms will finalize the definitions\n"
     ]
    }
   ],
   "source": [
    "%begin axioms"
   ]
  },
  {
   "cell_type": "markdown",
   "metadata": {},
   "source": [
    "Vector addition and number addition are the same when applied to complex numbers:"
   ]
  },
  {
   "cell_type": "code",
   "execution_count": 3,
   "metadata": {},
   "outputs": [
    {
     "data": {
      "text/html": [
       "<strong id=\"scalar_add_extends_number_add\">scalar_add_extends_number_add:</strong> <a class=\"ProveItLink\" href=\"../__pv_it/axioms/9f1bbf0761e610b37821c4eeda6e1b938b9118d40/axiom_expr.ipynb\"><img src=\"data:image/png;base64,iVBORw0KGgoAAAANSUhEUgAAAk4AAAAXBAMAAAAPad3QAAAAMFBMVEX///8AAAAAAAAAAAAAAAAA\n",
       "AAAAAAAAAAAAAAAAAAAAAAAAAAAAAAAAAAAAAAAAAAAv3aB7AAAAD3RSTlMAq1RmmUTNIjK7EInv\n",
       "3XZ/CtNrAAAACXBIWXMAAA7EAAAOxAGVKw4bAAAFLElEQVRYw+1YXWgcVRQ+md3NzM42MU+CCmFF\n",
       "bQK6YZEacJU60AiBUlysD6KlLPRB2pdOHlM1rqJYMCZVW9pViNMW1LrabGzjz0NDqIRgq7hK/CEa\n",
       "mKgQJUSKEAsRjPdvZufeO7Mza3ZfxANn9+45597v7Df359wBCJG172GrYjJtqvgNqLYCRI1GwvSW\n",
       "wTrTVJsr+31sP7UCJGETFrrw79vq8RQWESZ3Mm2udGYlk1JpCcjPhIUH8e8n6vEUFhEieoFqs+WQ\n",
       "ZHmrNSDtFmbhWbwEj9XjKSwiROJZqoLs9Y8OMENCGmGHFLMrQq+6ILIDg8QMzAJmK5Wux1NYRIhs\n",
       "YypIn390gBkUWxrXEi2zEXrVBZEdBOQKZiGGKG+vu4+HRYTIdqbN5qldnCtKofk8EZAD5DT7Ymnp\n",
       "av3zLiQiRHYzVW9ZsX1SCjAH/uOhmRHaSHWJC7zidXO9IoLISRGQKcLCIMDr9XkKiQiRA0z3mckN\n",
       "n5QCzEE8JebhTbrgYmT67FnC8pXz7GturldEEDkpAtJPWBgCFZGm83VbxcsTjfi38jVV/VOIV+WU\n",
       "AsyBPL2XhT00W0XcjjrSjlvsFRVESOptBnIXYSFppfJogtER1YVpuB+RYnh5ohGNFR7Hu535P0c1\n",
       "fg06KqD3A5sFn9NZQM3lqZt5s7CilpZ+RIsfP6yHAH6g2WrXxD0377jPFvhekUCkpGCGgYwTFhTb\n",
       "2aTHbjoBt6asuCXwVIuIItpyKa+/Yipv8DxtOwaTeRhbEx4dNRvuLAibT5+Bvs5W4KwPT8St/V7l\n",
       "e0UF4ZNyQfbRW0lhJ3tqg7juto0UCDy5EZFkoIie93mA+/h1N2nDA6iVEVKi5nV4phiJJ/1viLF5\n",
       "pFSF/QmtO+ZWBJ6igvBJuSAZysIHqOhMLNP6HHrvGEnBxYGFgbyHJxwB5Z0fOcN5mrWy+8Kq6Zb6\n",
       "Z1+oXUonqE6m4UbFlHki5lxknv6AtkIPzhZiYumbtJlb5ikiCJ/U/i4Gci9l4Sn0+/wNlk5we1Nn\n",
       "HpfmE47Qv9OuO5TUmjV53xwnPJ3DHz09NccU1aStLMTl+cTMcEnItMA+9D/5dTcBGcNA2bIywCv4\n",
       "DCduiacAEDK2F4RLSrc3GMhuykIbYvlIhtX4vWD8JvGEI+KGNgsqqQ9I8+Ff+L19AEYRACv9c7ma\n",
       "42WqevfHQ7/KPDGztsibOwznY4Hn6fTqi93FI3iUDvFs0arMLfEUAELG9oJwSalnqgzkG89bkwmI\n",
       "HSyVXkU8ldslnugu2dkFzy26zVmdP2/mYJl895dKpfTRRz3HdZEqlYz/2TxsNVSP47X8tBTjviQS\n",
       "eYoKwjvQOiYgarXGgr5R1Cp0PiX6xPqJrgQzmbNg0W2aGnfe6NfhtXcVdJK+RJYA2sd15sHXyJgh\n",
       "8cRdOVVDNRu4B6Ns/W69OySeuF7hILxj8h0Kgi/x0+7dyKA19z3A5oU0n8zxvYSnMmsm86ipV8gH\n",
       "+prX1nPK7bjYwildNHH1QeUkU54nfjodfd5q4EjF2fq8wUiaIk9bAYHtcQoy7GFB7zZhGD0k7VsT\n",
       "2nx5SuzquwCYp9E0bQ7ipjYPo6Y2r12GR+5ezcIpRNEpciIePO4utXPO7o7kycMzfil9ubnZ0Cst\n",
       "lG1SfvGrM+rUD/+ytw4Cp1coyEnhra7+SemEHH2JezWM1x19xZKybKeJnyAdoYoM5VKJ32FVm2pz\n",
       "ZcXHNtIKkE7E1dpcY/3GrqYhQSfv4c2q00TyGNtfLfhfnH3Zr5n9r//rfwDARtwkSL1ZDwAAAABJ\n",
       "RU5ErkJggg==\n",
       "\" style=\"display:inline;vertical-align:middle;\" /></a><br>"
      ],
      "text/plain": [
       "<IPython.core.display.HTML object>"
      ]
     },
     "metadata": {},
     "output_type": "display_data"
    }
   ],
   "source": [
    "scalar_add_extends_number_add = Forall(\n",
    "    i, Forall(\n",
    "        a_1_to_i, Equals(VecAdd(a_1_to_i), Add(a_1_to_i)),\n",
    "        domain=Complex),\n",
    "    domain=NaturalPos)"
   ]
  },
  {
   "cell_type": "code",
   "execution_count": null,
   "metadata": {},
   "outputs": [],
   "source": []
  },
  {
   "cell_type": "markdown",
   "metadata": {},
   "source": [
    "### VecSum (vector summation) Axioms"
   ]
  },
  {
   "cell_type": "code",
   "execution_count": 4,
   "metadata": {},
   "outputs": [
    {
     "data": {
      "text/html": [
       "<strong id=\"scalar_sum_extends_number_sum\">scalar_sum_extends_number_sum:</strong> <a class=\"ProveItLink\" href=\"../__pv_it/axioms/d5d029bf371de67bc5d5abb23dcf4dd74c7ceef60/axiom_expr.ipynb\"><img src=\"data:image/png;base64,iVBORw0KGgoAAAANSUhEUgAABA0AAABABAMAAACD2pN/AAAAMFBMVEX///8AAAAAAAAAAAAAAAAA\n",
       "AAAAAAAAAAAAAAAAAAAAAAAAAAAAAAAAAAAAAAAAAAAv3aB7AAAAD3RSTlMAq1RmmUTNIjK7EInv\n",
       "3XZ/CtNrAAAACXBIWXMAAA7EAAAOxAGVKw4bAAAOkElEQVR42u2dC5AcRRmA/519zOzs4xZFpHi5\n",
       "UcAqBHIWIVUoxS0kPOSVKyAoYnELwUJixVtKSkAIt1JAaZGQ00BBgspEJRYh5JYUUkUQOAIYilcW\n",
       "DBQETjcYoqg5zsRwx4Vk7b+ne96zM7c7TC7rdVV2//Rjtv/ub7r/7un5DyDwcPhQCdosbB/Kw/97\n",
       "6KnXqx5ZYjXj/4pt2AjRzjZUaqWifvfW6z4w75k7t+yRZRvsYw5KLnKz1zAGsW05yPar37fN7fHD\n",
       "gWeO+Og+5iCbd5YnFC6zxciPv/mD6yvxWrtyAPdxIR0IB6s7LRxE8EsIr+m+Qj/PWafK8i+N89iD\n",
       "rzQuq+XO2uq75Vn43ccF+FvbcrA6HygHZ4CFg1g3+UqEZi3KdARKHbyeyYmCMfVKj9Ja7vlWq+f9\n",
       "CsBJBUgo7cqB8GKQHEhjVg6kHPm6ITR1YrST0kctZ3KHSasdHqW13DMsCbcmCQCRAkQL7coBbAqS\n",
       "g0TOygG9tdaGpk1arafC5R7FaLyMe+nHc6eZ8MHQEB1gDkni+EIAeNHMwfL24WB6KUAOppdsHJwQ\n",
       "qrl4NP18UpOfNCamvBa9Wu6E2tcX/5P9v/9aJswzc/Cz9uEg0R8gB2+DjYP00NC7ldC0OQc/vvrK\n",
       "gVy+fPgzBlWP2NJYSS13io5rIjcTxNwdTHrEzEG00jYcCGPBcSDtsHMQK0NSCU2befRzL5flj5QB\n",
       "fYgamC+PNjQy1dxl0r90BNPMW6lyIZNmcg5iQzT8t30GhOeC4yAyYudAzME1EzH0TP/7ss9NA016\n",
       "nd6+Y1wWxiFdk2fyWUuBV+UnDnClkuYGeItIg5QDbf+owHcUjrXYicIVbcPBnOA4GCjYOSC21B8A\n",
       "bu/nUbqkB0Nckn3/a/hM0uTd0tXgp6D2u8/TzhnhcqwIHZU7t+uL2t0xiLlaCTS3OgDQKyzCO57+\n",
       "Qv+NLMsS63ph5fPtwkFPZ2AcdJUdODgePyPaRBpxmFINcYyDi0twUwlWABwKfgpeauKA2YNEzlSg\n",
       "Jw/HscR3IL6jo1scc6u+mpuuLOh48KC+LuB4fsfCgfj9tnmQli4GxsH94MBBIkrG2rRGSLrsUIWy\n",
       "hQOB9GSsH04HeAH8FEwoxnkhmeNyRx7mKBoHOyA2HlXcOaC55a159fcJF1rKRdTE6Qa8lMk+eLN9\n",
       "nqfGRgPj4GMnDlJHkzZcMnwIH1k1SQ+GOJWDPrTVRqAK0t4tio+CKV75X1NValzuKMvP0s4DvMoY\n",
       "3fYmo4Vsrzqm09wxgVQ6SmeDbE1ro/dzdNqAk8zjQby/fexEYWdQHMR3O3EgPkM+titbWZQu6cEQ\n",
       "p3JwEPbtoFiE7OZswUdBoaCv6whF3VyOdCYLlAP5IxLxWbiLfC5WYADrhR80WhNo7lUpUiKmzje6\n",
       "EfjBlaXfbFLXokYOftQ+GID4n6A4iO1y4gAOJv+WkhXXDfTOJlL8+NPN2TAVzjZw8BKO9TlytyU7\n",
       "o0VxOXgV1O7LxXRdoMnyobNAHQ+GyI+veJR0IV4tsxlHfWRnExcwXc2Ne0gZlaQVd/PBSH584yac\n",
       "At4wc3BvG3EALwfFQWLckQMML8Cp0nEKk9IwYM5G4szjwbM45peEHDEAYrlbNoNXQYlzkEGD4VSD\n",
       "DIwDgffotXAdwDH2UVFbTXaQ/l7I5Et/NVQ03TNVMwdtddrqfiUgDjqqrhyMwHrIKEwSYZE5G6ae\n",
       "UDBwcBd8G/6MvduB9doMXgW1eSFaACF3hSbrHKR4T977UzJ+2JceKU3Cn5jlNuJ1tu1zJoAP8wFx\n",
       "0NfvysFmYnkRDuQKleBulB7SPkic+OOigYObfrjmdtLcVVKGWGaEA4+CukV3D2SWFzWZhht7nwJY\n",
       "w1cY9foIyDVb3ddo0hYCi5v5hw9O25aD6YWAOJhecOXg1mFADqT1VIqVUVpUkjbghxrHtupVDsRT\n",
       "txwiYkdK59coBx4Fk9oA/SBEt5Y0WQ815/1Hh/R5xstZwj3tzMGS/oA4+LDmygGdr8m8IFBpXZZL\n",
       "dGpWt4S6TfuJ8cIabXtoM3gV1HtcNNRBrE28MRLfGgT4u0tittTOHAxUGQd0++VLHhw0yDQn34gD\n",
       "6d9rgUz72Nb1PUyiQZUypv1EsoohvR+j9+WdL+W9Cp4Z3G7KVsUjR9ty0DHCOKCLsqs8OGiQ6X7b\n",
       "jt8C6/sLnW7Se0eaOYAFOD6s81cw2h1ea21/t105yIwzDn4CDUwkzkGDTL0tLKOmMdtCNMXK/grK\n",
       "MBVaD4lRxgHu0qfyHhw0yLTRaUg9jczj9fp+ew/F6nW7Vvu9QvJ8h5TkLsYBznwJLzuxQaa6088S\n",
       "e0LI7c+3SdqBg/1eocUOt2xkB18vvDI09JLnesE9kxMHM2GKg0moUDTXiIOzPE7gUg7cMzlwIL04\n",
       "xcGkVOgXDkP3Ts7BNXiKjHSeKTll4YBlkmfTKZKeG2JGnQMHicoUB5NSodVKAw6SSgpXYOwBzcJz\n",
       "uqPPmE4MUg5YpuSJmEs9N8Q4+MT+m9OVKQ4mpUIxuwqpvZwDocYtQGnLsm4htw6f6Vo5YJk6aA+r\n",
       "54bcOXgHpjiYlAqJow04gOIpLG42udmFU2L4YM7KgZpJOAxfUmLnhlw5kManOJikCt3XiIO1uK5c\n",
       "c5r6wq9wyzdrldTs82afbuaAZsITWvzckLudGOnnzdZLlhlD7250Wo1/+qElPwjOHCQ+weOJL9fr\n",
       "4/tAHxFaV+jkBvYB3ISgF45Wn9sI5XVHOY0HNBPMxg/13JA7Bx2dnIMe+hBDvrReC7/ZWvOD4MxB\n",
       "fA+VHnh67z7g4D1oXaG+fAMOImScl5VH4UKVgxi6ybBxEKFm5FL8UM8NuXOgpiEHKfbmz4pqmA3W\n",
       "nB8ELZ0Oiy7zwtMFdTI8PEx9Yk9Qq6xiUaEZhTIF9/0DFubBzGXLluWFslwpOnCgBnqgXD03xMNG\n",
       "WwW69Om0lz0L+nyIzdasHwQtfb47Bwl2GDMS5tm0RxZhL620qdCEQnj62oODUbhDHQ/ggpp9/4AZ\n",
       "heN4HoidG2Lhr7YWO0jnoI85WlgTpkXUpB8ELX2GOwfiJ2q8HOZEt/4S/NFZNhWaUChrfQcRkmNm\n",
       "DqRB9c3UaDdkzYaxgQOSSVrPzw2xYH/u/IzOQfTj8OfRJv0g6OnYZG7rha7w311gFRu0qtCMQoLt\n",
       "dZ7MqJkD0vkiHshefBU7deLEAR4CxfNA9NwQC3NsxwB2G5ZZXwjfQmzSD4KejmfY3TiIhG8hqhXD\n",
       "F23MKjSjkO3ddEiPmDnAvA8tW+ZwtkPnIDmtrJ4HoueGWPjQ9jB2p4GD1WNhN1uzfhD0dPSD4MaB\n",
       "vLEcsj7Rw15DMwdfsjGr0IxC8k7b4m7QxMF3F7mPszphw8DOAy3QeemyHgcXdxg4kPaEfv806QdB\n",
       "TcenLNGixsF59H3G1wwKLamGrU9Hjd+nZhWaUsg2nPVVTRycf7YPDpyTrdtskpEDvtIKcbulST8I\n",
       "mK4+ZUE/CK77ianQnWD00REok2dV/G2xFYV2O3dfAOeVB6xLkfguIweJ0ZCbrVk/CGdojYR+ENz3\n",
       "lXvDfp1JfWEv3a1WURqutqKQjeKuWkAcZEYajgepiY4HLfpGadoPAqYzkBuNB/AotKKQ4JOimtXu\n",
       "RQ5oFYVqKwrZOJhTDoiD2GhDDi5hsWH5RmnaDwKm41MW9Xmqq33AX671WS9doexT+KrNiYaChkuA\n",
       "Nc4Az8+Bzwu0ihoHTSlksw96ISAOolYTVDSuF0S+sAjLN0rTfhBoegGXm/gqnet4sJAn+KuXplD8\n",
       "KhA3gJwzFjzUoTlZXFwv/6p6lRqrInYqVaEphWzrhT1BcSBahxp5r6HZEnyZFZZvFH9+EGiM2Q8C\n",
       "puNTFnWJ5srB9/h//dVLUwhx/AZ1OKwXfMGhOXmcdrZY3KWt/agK2DLUJrMrZPbw4KSQaN0/kHYH\n",
       "xQHYHnc8Z2i2pYyN0Hyj+PSDQB3Kmvwg0HTqgg/9ILhxkGS7JYrPenGF6PDdha9h6QUNl9D7hcet\n",
       "tdi9UpVVETmgKtgVoro0VEiyOqvIjgXGwdNWZa7Wm437Nbk5NN8oLfpBQGNnIbhzwGog1nzWiysU\n",
       "wVv1j+hKRS9ouITeLzzuSM3+Yuvyt3g10D7QVJigQoJ1Lzo5GBgHfdat43P1ZrtYG+VC8o3Soh8E\n",
       "CZtlljsH8SKfhnzWiyuUxh+9HK1mvSBKF2w17+BiHMQU3b6elmBdNMPIQaVJhWx70QO5wDhIWDcQ\n",
       "uhTebNxKPLYYlm+UFv0g4CM2+v6eCwfMShT+5LdeGgdkjJZGYRoYCqI0KI9Y7Ap2/3Mnzm+v5JdR\n",
       "V5ziY7trugoTVShp3fRjTg+D4CBqXTgO5HmzZY5ZtWrVdbdtq3eG5RulRT8IuHtLG9yFg9eJPr+/\n",
       "/rLenX7rxRVKFuJKphN7Vy+IUkkaNG8ik7joDMO8cAp/Q0Dud1NhAgp1WB8GLYDAOJCte5XJAm+2\n",
       "OXUWlPB8o2h2dm3iW3f0KQv1g+DMQYzrM+63XpqduOFr/5hHX9fnBR9SpWS3oaAadx0OAcO2378Z\n",
       "Wleop+S4xg/G3/q51gFi0LCPxENovlFaCfpTFs/zyj7rpSl07REHKCWsJi+4KE+ls8BQkMV9XZ/W\n",
       "AlboMasdMRIgBwOWO0/e5cABnbyVEHyjBBP8nVv3rpdBoYvIPM63h7AgbfqUUjMWVLvjc+ZZIECF\n",
       "1rt0XSAcZActEY85N9v+4RtlAhz4qJdBob7DFV5PLBinv9CLfxtTK6jGQZUrHrRCtp46DwLkAP7i\n",
       "tJnm8trHfuIbxf97LL4VSrxB739t9nS4BI3LfrGAzyE+DYWs3S3uCpQDq/URLcLEX/+ZXL5RAnif\n",
       "yVkhxbOccKCvbM0otM36FCQXKAcp6w7CPJh6r20SKiRusESerATKgerw3BAeLk1xMAkVetg6LWgP\n",
       "unxx4P13vh8uW35g/pR/pEmo0FJLLPsDdT7/zvcD3n/nW7RmuB6mwqQLstWYfoB93zZ3rvI/wiaz\n",
       "FeJlKjcAAAAASUVORK5CYII=\n",
       "\" style=\"display:inline;vertical-align:middle;\" /></a><br>"
      ],
      "text/plain": [
       "<IPython.core.display.HTML object>"
      ]
     },
     "metadata": {},
     "output_type": "display_data"
    }
   ],
   "source": [
    "scalar_sum_extends_number_sum = Forall(\n",
    "    j, Forall(\n",
    "        (f, Q), \n",
    "        Implies(\n",
    "            Forall(b_1_to_j, InSet(f__b_1_to_j, Complex), \n",
    "                   condition=Q__b_1_to_j),\n",
    "            Equals(vec_summation_b1toj_fQ,\n",
    "                   summation_b1toj_fQ))\n",
    "        .with_wrap_after_operator()),\n",
    "    domain=NaturalPos)"
   ]
  },
  {
   "cell_type": "markdown",
   "metadata": {},
   "source": [
    "In the axioms below, we use the notation $v(i)$ to indicate a vector $v$ that is a function of $i$. For example, $v(k)$ might represent a vector like $e^{\\pi \\mathrm{i} \\varphi 2^{k}} |k\\rangle$. These axioms are largely analogous to the summation-related axioms found in the `numbers/summation` package."
   ]
  },
  {
   "cell_type": "code",
   "execution_count": 5,
   "metadata": {},
   "outputs": [
    {
     "data": {
      "text/html": [
       "<strong id=\"vec_sum_single\">vec_sum_single:</strong> <a class=\"ProveItLink\" href=\"../__pv_it/axioms/fb74076cfa3ac82511aceb41de389306235a5b2a0/axiom_expr.ipynb\"><img src=\"data:image/png;base64,iVBORw0KGgoAAAANSUhEUgAAATYAAAA/BAMAAACY6vnmAAAAMFBMVEX///8AAAAAAAAAAAAAAAAA\n",
       "AAAAAAAAAAAAAAAAAAAAAAAAAAAAAAAAAAAAAAAAAAAv3aB7AAAAD3RSTlMAq1RmmUTNIjK7EInv\n",
       "3XZ/CtNrAAAACXBIWXMAAA7EAAAOxAGVKw4bAAAG+klEQVRo3qWafWwURRTAX3sfe7f30SP+qZES\n",
       "EzQR7BkIiUZpDUokWHsJaWLU0BIMRhPSQ/5Rg7SSGP8wpveXemLoYRREKgdiJMEEGhQRFDmNRgwi\n",
       "hxKJwYTSWlsKdJ3ZebO7d/vRx80kvd3Ovd357cz7mrcH4GoRw7gBs7VwFU8eh9mb/jxQ246SOEYN\n",
       "Y8zj68hE9xOz3uMvPKZ7KSP+TWZLF8Qx1t3tyTY6+y0ik3jSk6eMGN9LhttqnR1pkG04i6v1JXbs\n",
       "XnogaFGPkNmGW1XZlku1wyXVf4lNBskvKFHZmk8ossWm8GRwABk7YiNBF6Q6yBP3kyJbNIMna/CY\n",
       "zKUzgbMxSWZry6uxyeutIcv5+P2By/YcmS1aUGP7VS6VvE8yP7gqkK1tgKxwU0psMel6BqVRRZbd\n",
       "sz/wkiRd4b5SYmuSEnPJA4ZHyaJdSmxlnAT9X/KAkXGyaE9Wha0dlSc0RR4QviZLJntV2IZkKKIv\n",
       "FHTlycs/qcJ2FY8tBTpbW5ZsqOMKbJFrUjPoIRz6M1RJ7YoCW3hCrlNOZFp2q/pr0Qj5Mb5TYItO\n",
       "40kfd7fNBlrEztW3Gf4A8Wky21CpcbaWCp6I9HiunSU/OOafNI6R2S63Ns7WjyagCZtIGbYqrfDX\n",
       "cLovbOtonA2vlcPFDNuvhms8Rd76YFJXA7S/5gCDhcbZLqPGp2fwf8MmcnqKtLk2qzGGBOyP/sCB\n",
       "8b7lCrKZ63FHPZu71+lGMcKHUYXiRsVT7m72dwHSiGv4L7d0RX+iPo8i2yP88Gw9m7vXaUcYsuJo\n",
       "oPopT13Seew5A4AbwHO+OdQOywEIkdQ0sr3KF7pQz+budbQ+XMKotdkyWr3cIE7Y4tqr3G2ZPAl1\n",
       "OO97xGRNtNazuXsd7RTOQFK6rIRxwsvbyqMQH8r5sdlOUdwmPoFsIfZ0UZctuHsdTWpOi2U0ff95\n",
       "iM2XKyXmb67fozbb2++1Ij0ck3Z68uzZb9126uoNZBs2HJF1z35IcY6VTOUuMK5ExocNBcP82g2H\n",
       "NrPPfXVsjwK862Zz9QayWXGLt70LIJkRk5CIsPUKiXnpEtPXeZa3HxyCfF4jx8xItUQo6rhk2wBa\n",
       "xs1W19t0/LOtMuPXJVvZdoRd1y0rjLUuF17hR4AtfG/dPOJkc+w6UJDP3XAWOvkWu44tXkrk3GyO\n",
       "3tj5Yi6VT+yRo+vXJZutxCk7A9HhezYsOzkKUEqy7ph4hMP1OYoUTObMPcIZHhGEac1ItuZq1CMu\n",
       "OHofZu4sBFs2QgCb5vD6zdOQBsEGbeyBIiPebFKQsx0HnRvn03Vs0LuUXX8evqiNWbzXrMCgX+/o\n",
       "CGJLH3P4tQokQKwprNEZQsXJ5tA3FGRrqs9AiI+6sJ7tU+a497SU5tWy8V6zArNLuMUXBgJsAXoc\n",
       "W+N4Bu7kx23sBhNs8FDBW9+kYLwK+hg09bLz++r0DTYxpX95oXhWm433mhWYVcLeE0F2GnMmZ4le\n",
       "zZyifVzVNqKP8GJDQe5jtsFCvjAr69ma+DPfCq/VsvFeswKzpFgstsLeg/BxgH+r0aWHFpmHN9nf\n",
       "LQwolfPzvUIwxtZ8+6XXb2cD/lzn30Q7ClV3jmRWYN4w++7KwkErZslgZAk+41nXwnV+BYLjApy2\n",
       "LKriyXZay7nZzApMnPuORBgiViIkM4qUjKdxz6wAI7cM5UO+1ZrFddkB5jcW21OLPHJLswKjvcPO\n",
       "7p1z6a2MX44EnXb645yct8VkIPg53zwkLr95CZ95kpz37i4Wa51zV652LxiyHUjIybarZuRT/tXg\n",
       "Qs3DSF1pLCdHi0uPuxzIgpptgKnCF/G/6/433Iz3w6doGWmcrR2TjpDY32u2A/nAfzOlzf4+xdrH\n",
       "VRpn60HNi1ypdSDaPMO/sITCpCJXpnG2MiaDusgo+9aZbf1vhuGzqTEneYbM1l5tnC0lBc6ZFuGs\n",
       "h/gXi8L0Wl3XgEKtZvKma2osg6TX6voUajUhuY9vz9LZWipk0RsKbJq0xn568RsGybW62DWVuuVJ\n",
       "GdPocwGXB6iS6SkVtsMYoxL0mhq8R5aMj6iw9aNH04Rf2EkYUKe7t3JGhS0qd7vrzM9DhAFvotwv\n",
       "3xA0xhaSTqSd7ESidNVcDypsuiyUl8nG1092N9q4Ehs8Jr0wV9vVVmIX8GL8MHnaEqNqbGU0BrZ3\n",
       "A706DSvYnqKYDXgxrtOjqbx3o2xpuTP9h63B+1KVAl6Mh+nq1glqbPC7DPtVc3+Jrtj/xXh/jqxu\n",
       "E6ps8mch/Hci5Y9wTQNejM8hT1tTRpUtIT3c5wDzw85tmbfTOUFme6CkysYLCiLAVGH7Ree2zLNt\n",
       "IgdT7RsIZKP8VuoTHE0/TRlxLT3NQz/o81spvZvwWylNzsSLlGBKtgT4UCZK3d1P/g+XAGP4eMN3\n",
       "DQAAAABJRU5ErkJggg==\n",
       "\" style=\"display:inline;vertical-align:middle;\" /></a><br>"
      ],
      "text/plain": [
       "<IPython.core.display.HTML object>"
      ]
     },
     "metadata": {},
     "output_type": "display_data"
    }
   ],
   "source": [
    "vec_sum_single = Forall(v,\n",
    "                   Forall(a,\n",
    "                          Equals(VecSum(i, vi, domain=Interval(a,a)), va),\n",
    "                          domain=Integer)\n",
    "                  )"
   ]
  },
  {
   "cell_type": "code",
   "execution_count": 6,
   "metadata": {},
   "outputs": [
    {
     "data": {
      "text/html": [
       "<strong id=\"vec_sum_split_last\">vec_sum_split_last:</strong> <a class=\"ProveItLink\" href=\"../__pv_it/axioms/4f0e1a75421eab044780ffdee57b15c2a9a939e00/axiom_expr.ipynb\"><img src=\"data:image/png;base64,iVBORw0KGgoAAAANSUhEUgAAAhIAAAA/BAMAAABHvjxNAAAAMFBMVEX///8AAAAAAAAAAAAAAAAA\n",
       "AAAAAAAAAAAAAAAAAAAAAAAAAAAAAAAAAAAAAAAAAAAv3aB7AAAAD3RSTlMAq1RmmUTNIjK7EInv\n",
       "3XZ/CtNrAAAACXBIWXMAAA7EAAAOxAGVKw4bAAAJVUlEQVR42r1bf4xcRR3/3v58+/bHLeEPEzR2\n",
       "iQma2LOrkCYQ5Y6AKNFym+AlIKZ3BAKhCekq/iGI3NKo/4jeaY31xOjDKFAKvcMSSGoC9RSoxdKV\n",
       "aKzA2T1pIKbCXVuOHtf2njNvZvbNr/c6r3dz32TvvZ2bz2dnPzPz/X5nZh+AYlnfPwsrs0yH3lxv\n",
       "UNndsiZMvD3iiYCc75/QVMsuDN24QiXeotfKCLl+fzyu9n/NmEISd+N5MPFWGRcBztCQVon5FeoA\n",
       "2VP0ZrhJrj1TcdULU0ZMIcmP3knOJNpDCmDaihJP1Gnf/YkWlFqxg3raiIkj6UvOJPHWZIAdJa5l\n",
       "k5xODhh796K4+us9EyaOpC85k2ipAzLAihLOIhOA9eI73tE4QHnAhIkj6UvMJNvfZYAVJXJVenML\n",
       "K9kOG2N76JQJE0fSl5hJtg1NCWBFCeVTYD9cFYu404QJkTgTyHbEKBHJpGg8LgGsKPEvNvK6YW8e\n",
       "4l3ZhpYBE0fSl5hJGTyLEsCGEg4LzWM1VvRaOjahgNKAARNH0peUSbU/SwAbSvQw/Lpu0XffPUdO\n",
       "Om/AFJJ8e+tzCZlUG5QANpSYpCq775mnYictM6k2XBcBNpTopzMvvWiOedEyk2YajYgAG0r8mmWy\n",
       "CXgGm3aZNNPolAiwocQH9No7niDw1u0yaYLHSRFgQYnsaTYTp8xBo1WrTBrLHxcBFpTILLBh1zAH\n",
       "lfZZZdLZX0WABSVyS/Rmq0f2QELrRC/Ml6wyaZ2QJwAsKNHbpjfBxlfKp37/0c0f8aO7q3LCKpPO\n",
       "5moCwIISo9S95Ym/WxfuBH4uupGp96wyaV3rgACwoIT0CWU/dGHXRWfoH1hl0tnYuACwoMQcncOV\n",
       "ZfJBfpj1ZYRY3+z+QVnkWatMdGxxf1EC2xYAFpQYpPMvQ0fwnB+2mo/1laDeZvrOt8pE7D/k61F9\n",
       "e+cFwDQEI+5jshJqqXmKSVPkAnVwBb+trfdJ9DoKFfqVjng2mcgkm4KdB9H1TbrSZ0GGAKbh8/hy\n",
       "h6yEWmpsW2nH5Wg66x7S+jAX5/2vA2wRUXaYAnsEvW7DdJ7ASgHT8ACeOuOyEmqpsR2ifVJimg/7\n",
       "NV3aRLvwMtr/jVVnykp599XohedZmjjiAsvbCGA6UKhYk5VQS42NzdPuPCz6B3S5ILuSr7uutupM\n",
       "KSn9QjlINtCUkPSwSEwA05BGyuUUj6mWnr8SsPV9TbVLWCJZN1ciGZOkRApNomLgaG7VKwEHZ2Ze\n",
       "VmOHUroCJZ7wuRWUe6wOr6Lrl9DtUdT2IkkSBuuJmXbvgXIthokpQetlEDT30Vl09xSZVCwmEwBS\n",
       "4osAv1CVUEpNzWXtn+y2v5snByM8tQ/+SDqmmEUDNj3Ct3/TDLa/GTFNrYdSNZIpVILWw0NmcouL\n",
       "/OTGCCW+DvmqqoRSKjqpGCXOsPaHa4PBM2Fk25YZCcLeq+QWUqTa852kTE7tWhwYo5moEqweHhcb\n",
       "PHgFYD3pkmVajwCQEgWv2FCV4EsddibQ85enHwocb0FuNXeOrWl/mVs7eqUObEPXF8gtOPNJlOCY\n",
       "XPSlnFoUU2Zm5g00w6thvVIjOFw8jfLsCCVSnZwmxxRKP4zlmJ1olJvF3Z5GCY87x9a1P89nwKhf\n",
       "OqT9+BayicYEz5RaggrEMLHZQethJV6HLPKTX4tQAkauRCyz8Acx28alzPaj1zUo4UvDtrtBVeKb\n",
       "F/Hn2Kqfg8pLXO1NaOaSMQ23uKid7Sg/cS6mTBuKEMkUKkHr4dlxAjJL7LRE9RPwe5Sc7e71LhaV\n",
       "wKWw68pn8XBYnvVoLjswwCnh7jmG07MHPiScY2vaP9zilPgxpDDqVwi/gFpIj3PMYofAVKjCxyGG\n",
       "iSlB6xXQ28XgZwiXRylxH5pM9/YRfUMlcKn7TwenpJXXKgM7g3+lv9HilHiyOYa+001fAOEcW22/\n",
       "I+wmPAP348tTeGLfTYKbcT4hMBVH8p04JqYErYeD7IXwUxJ2tfkE9LQCV/A9UQlcmhlw8Nwr1NMj\n",
       "N5DQTOUiSlwDDyIh9uJb7hz7EEv5wixA8AGZC4M++CF64btyI1KJczFddSnEMXUzK1LPQZPn4afx\n",
       "Z/8jSgkgbqejrspLjQoOpaVWprpxYmKiBlN74fFQiRdgFpxp6km6h+FsLdhd6wXLHsXKdJx/R1x3\n",
       "8rZCJjnbPsy8bltY4VJAV4nD+YaqxGSzcAVqTS+Uaj8I/vOJOuztKoGSlO2Pw66f4HvuHFteS0NB\n",
       "u5Kj66BgXYS/dfPcq/KETPIK7DJxxVZma9EjTUGJmy/V7NSUmmM3eLug7F2O8gs81TKQbYdj4iVn\n",
       "4QrkRbaDcI7NtuS7e/SbwrSKnwI7SAeNizNB2KlZNSaiI5XoHmnOHTLYs8pe/ak98GDNub4D+Z+j\n",
       "95++4NjPqqESX/nMMSxvertwGD5Hu6JCfXM6DHxpvv07head0e3erRoTCXXjvHDQy7KUM8a7d+RD\n",
       "d01MhKmomE+kdvDv+mmSlT6tBL71wq5iMI3f1uReq89E7H6iK1VstC0ADJTIanbDCjFLsGG6XsmS\n",
       "47Z8GPh+G70Bnz1ulcmgnQZKpCGZEpMjdDC+Lwa+/MV+9OF/etkqk876OwLgPPe28zH/KzP4EbK5\n",
       "cntgd73h+xEbsoFTXLTKpN2DbwkAGyfEwg8TMvxpZvSBfm7eKpN251kEWFAizfL5/ro5qLdtlUln\n",
       "Z0WABSXyzJuNDpiDxqasMmnMOS0CbPym5iDLy9rmmLmWXSbVKosiwIYSz9OwW1wyx/zSMpMm/O0T\n",
       "ATaUGKXhKU/C06Mm28DHLTNpQnRVBNhQIkfTALg9+PuciZddtMykSSdaIsCGEmkW/PqbxuK1LTOp\n",
       "dpcEsKGEy7zypPFP5kbrlpnUuHRSAlj5Lf+XWWaEndLm7rEJ2RTVu0brTLIV5yWAFSUmqaNzkaNz\n",
       "O0twHX4qo043RbV9v2ydKY7ZnhIVFqD+h0bhb9jEpZui2gS9bZ1Jtk0ywM4Tcf9mS6gO2Vwn6RHZ\n",
       "FNVO7oZ9JslNLMgAO0qwx0Tx056Tj9ExTTdFdXbBGjCJ1lOVAXaUKLI84BmAS9hpcrApqg+WB9aA\n",
       "SbTPejLAjhL4WIqktB14+G1GizdFtXZfay2YhMmxXwFolVj5E/ZP0g9wD5vUvnVNmIT8qy4CIp6w\n",
       "d4dW/IR9nkn9LZNMrLEmTLz9TgI4Q0Nf/T89qCRPosXDDQAAAABJRU5ErkJggg==\n",
       "\" style=\"display:inline;vertical-align:middle;\" /></a><br>"
      ],
      "text/plain": [
       "<IPython.core.display.HTML object>"
      ]
     },
     "metadata": {},
     "output_type": "display_data"
    }
   ],
   "source": [
    "vec_sum_split_last = (\n",
    "    Forall(v,\n",
    "           Forall((a, b),\n",
    "                  Equals(VecSum(i, vi, domain=Interval(a, b)),\n",
    "                         VecAdd(VecSum(i, vi, domain=Interval(a, subtract(b, one))), vb)),\n",
    "                  domain = Integer,\n",
    "                  conditions = [Less(a, b)])\n",
    "          ))"
   ]
  },
  {
   "cell_type": "code",
   "execution_count": 7,
   "metadata": {},
   "outputs": [
    {
     "name": "stdout",
     "output_type": "stream",
     "text": [
      "These axioms may now be imported from the theory package: proveit.linear_algebra.addition\n"
     ]
    }
   ],
   "source": [
    "%end axioms"
   ]
  }
 ],
 "metadata": {
  "kernelspec": {
   "display_name": "Python 3",
   "language": "python",
   "name": "python3"
  }
 },
 "nbformat": 4,
 "nbformat_minor": 0
}