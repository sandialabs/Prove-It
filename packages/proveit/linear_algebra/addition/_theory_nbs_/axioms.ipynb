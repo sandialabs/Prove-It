{
 "cells": [
  {
   "cell_type": "markdown",
   "metadata": {},
   "source": [
    "Axioms for the theory of <a class=\"ProveItLink\" href=\"theory.ipynb\">proveit.linear_algebra.addition</a>\n",
    "========"
   ]
  },
  {
   "cell_type": "code",
   "execution_count": null,
   "metadata": {},
   "outputs": [],
   "source": [
    "import proveit\n",
    "# Prepare this notebook for defining the axioms of a theory:\n",
    "%axioms_notebook # Keep this at the top following 'import proveit'.\n",
    "\n",
    "from proveit import a, b, i, j, f, v, x, Q, fa, fx, va, vb, vi\n",
    "from proveit.core_expr_types import (\n",
    "    a_1_to_i, b_1_to_j, f__b_1_to_j, Q__b_1_to_j)\n",
    "from proveit.logic import Implies, Forall, Equals, InSet\n",
    "from proveit.numbers import NaturalPos, Integer, Interval, Complex\n",
    "from proveit.numbers import one, Add, subtract, Less\n",
    "from proveit.numbers.summation import summation_b1toj_fQ\n",
    "from proveit.linear_algebra import VecAdd, VecSum\n",
    "from proveit.linear_algebra.addition import vec_summation_b1toj_fQ"
   ]
  },
  {
   "cell_type": "code",
   "execution_count": null,
   "metadata": {},
   "outputs": [],
   "source": [
    "%begin axioms"
   ]
  },
  {
   "cell_type": "markdown",
   "metadata": {},
   "source": [
    "Vector addition and number addition are the same when applied to complex numbers:"
   ]
  },
  {
   "cell_type": "code",
   "execution_count": null,
   "metadata": {},
   "outputs": [],
   "source": [
    "scalar_add_extends_number_add = Forall(\n",
    "    i, Forall(\n",
    "        a_1_to_i, Equals(VecAdd(a_1_to_i), Add(a_1_to_i)),\n",
    "        domain=Complex),\n",
    "    domain=NaturalPos)"
   ]
  },
  {
   "cell_type": "code",
   "execution_count": null,
   "metadata": {},
   "outputs": [],
   "source": []
  },
  {
   "cell_type": "markdown",
   "metadata": {},
   "source": [
    "### VecSum (vector summation) Axioms"
   ]
  },
  {
   "cell_type": "code",
   "execution_count": null,
   "metadata": {},
   "outputs": [],
   "source": [
    "scalar_sum_extends_number_sum = Forall(\n",
    "    j, Forall(\n",
    "        (f, Q), \n",
    "        Implies(\n",
    "            Forall(b_1_to_j, InSet(f__b_1_to_j, Complex), \n",
    "                   condition=Q__b_1_to_j),\n",
    "            Equals(vec_summation_b1toj_fQ,\n",
    "                   summation_b1toj_fQ))\n",
    "        .with_wrap_after_operator()),\n",
    "    domain=NaturalPos)"
   ]
  },
  {
   "cell_type": "markdown",
   "metadata": {},
   "source": [
    "In the axioms below, we use the notation $v(i)$ to indicate a vector $v$ that is a function of $i$. For example, $v(k)$ might represent a vector like $e^{\\pi \\mathrm{i} \\varphi 2^{k}} |k\\rangle$. These axioms are largely analogous to the summation-related axioms found in the `numbers/summation` package."
   ]
  },
  {
   "cell_type": "code",
   "execution_count": null,
   "metadata": {},
   "outputs": [],
   "source": [
    "vec_sum_single = Forall(v,\n",
    "                   Forall(a,\n",
    "                          Equals(VecSum(i, vi, domain=Interval(a,a)), va),\n",
    "                          domain=Integer)\n",
    "                  )"
   ]
  },
  {
   "cell_type": "code",
   "execution_count": null,
   "metadata": {},
   "outputs": [],
   "source": [
    "vec_sum_split_last = (\n",
    "    Forall(v,\n",
    "           Forall((a, b),\n",
    "                  Equals(VecSum(i, vi, domain=Interval(a, b)),\n",
    "                         VecAdd(VecSum(i, vi, domain=Interval(a, subtract(b, one))), vb)),\n",
    "                  domain = Integer,\n",
    "                  conditions = [Less(a, b)])\n",
    "          ))"
   ]
  },
  {
   "cell_type": "code",
   "execution_count": null,
   "metadata": {},
   "outputs": [],
   "source": [
    "%end axioms"
   ]
  }
 ],
 "metadata": {
  "kernelspec": {
   "display_name": "Python 3",
   "language": "python",
   "name": "python3"
  }
 },
 "nbformat": 4,
 "nbformat_minor": 0
}
