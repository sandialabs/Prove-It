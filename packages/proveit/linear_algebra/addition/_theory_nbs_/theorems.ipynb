{
 "cells": [
  {
   "cell_type": "markdown",
   "metadata": {},
   "source": [
    "Theorems (or conjectures) for the theory of <a class=\"ProveItLink\" href=\"theory.ipynb\">proveit.linear_algebra.addition</a>\n",
    "========"
   ]
  },
  {
   "cell_type": "code",
   "execution_count": null,
   "metadata": {},
   "outputs": [],
   "source": [
    "import proveit\n",
    "# Prepare this notebook for defining the theorems of a theory:\n",
    "%theorems_notebook # Keep this at the top following 'import proveit'.\n",
    "\n",
    "from proveit import (\n",
    "        a, b, c, f, i, j, k, n, x, y, K, Q, V, fx, v, va, vi,\n",
    "        Function)\n",
    "from proveit.core_expr_types import (\n",
    "    a_1_to_i, b_1_to_j, c_1_to_k, x_1_to_n,\n",
    "    f__b_1_to_j, Q__b_1_to_j)\n",
    "from proveit.logic import Implies, Forall, Equals, InSet\n",
    "from proveit.numbers import (\n",
    "    Natural, NaturalPos, Integer, Interval, Complex,\n",
    "    one, Add,  subtract, Less, LessEq)\n",
    "from proveit.numbers.summation import summation_b1toj_fQ\n",
    "from proveit.linear_algebra import ScalarMult, VecSpaces, VecAdd, VecSum\n",
    "from proveit.linear_algebra.addition import vec_summation_b1toj_fQ"
   ]
  },
  {
   "cell_type": "code",
   "execution_count": null,
   "metadata": {},
   "outputs": [],
   "source": [
    "%begin theorems"
   ]
  },
  {
   "cell_type": "markdown",
   "metadata": {},
   "source": [
    "### Closure of vector addition"
   ]
  },
  {
   "cell_type": "code",
   "execution_count": null,
   "metadata": {},
   "outputs": [],
   "source": [
    "binary_closure = Forall(\n",
    "    K, Forall(\n",
    "        V, Forall((x, y), InSet(VecAdd(x, y), V),\n",
    "                  domain=V),\n",
    "        domain=VecSpaces(K)))"
   ]
  },
  {
   "cell_type": "code",
   "execution_count": null,
   "metadata": {},
   "outputs": [],
   "source": [
    "closure = Forall(\n",
    "    n, Forall(\n",
    "        K, Forall(\n",
    "            V, Forall(x_1_to_n, InSet(VecAdd(x_1_to_n), V),\n",
    "                      domain=V),\n",
    "            domain=VecSpaces(K))),\n",
    "    domain=NaturalPos)"
   ]
  },
  {
   "cell_type": "code",
   "execution_count": null,
   "metadata": {},
   "outputs": [],
   "source": [
    "summation_closure = Forall(\n",
    "    j, Forall(\n",
    "        (K, f, Q), Forall(\n",
    "            V, Implies(\n",
    "                Forall(b_1_to_j, InSet(f__b_1_to_j, V), \n",
    "                       condition=Q__b_1_to_j),\n",
    "                InSet(vec_summation_b1toj_fQ, V))\n",
    "                .with_wrap_after_operator(),\n",
    "            domain=VecSpaces(K))),\n",
    "    domain=NaturalPos)"
   ]
  },
  {
   "cell_type": "markdown",
   "metadata": {},
   "source": [
    "### Asssociation and disassociation of vector addition for a vector space over a field $K$"
   ]
  },
  {
   "cell_type": "code",
   "execution_count": null,
   "metadata": {},
   "outputs": [],
   "source": [
    "association = \\\n",
    "    Forall(\n",
    "        K, Forall(\n",
    "            V, Forall((i,j,k), \n",
    "                      Forall((a_1_to_i,b_1_to_j,c_1_to_k), \n",
    "                             Equals(VecAdd(a_1_to_i, b_1_to_j, c_1_to_k),\n",
    "                                    VecAdd(a_1_to_i, VecAdd(b_1_to_j), c_1_to_k)) \\\n",
    "                             .with_wrapping_at(2),\n",
    "                             domain=V),\n",
    "                      domain=Natural),\n",
    "            domain=VecSpaces(K)))"
   ]
  },
  {
   "cell_type": "code",
   "execution_count": null,
   "metadata": {},
   "outputs": [],
   "source": [
    "disassociation = \\\n",
    "    Forall(\n",
    "        K, Forall(\n",
    "            V, Forall((i,j,k), \n",
    "                      Forall((a_1_to_i,b_1_to_j,c_1_to_k), \n",
    "                             Equals(VecAdd(a_1_to_i, VecAdd(b_1_to_j), c_1_to_k),\n",
    "                                    VecAdd(a_1_to_i, b_1_to_j, c_1_to_k)) \\\n",
    "                             .with_wrapping_at(2),\n",
    "                             domain=V),\n",
    "                      domain=Natural),\n",
    "            domain=VecSpaces(K)))"
   ]
  },
  {
   "cell_type": "markdown",
   "metadata": {},
   "source": [
    "***We should add commutation theorems, but we may want to revise naming conventions (e.g., permutation) first.***"
   ]
  },
  {
   "cell_type": "code",
   "execution_count": null,
   "metadata": {},
   "outputs": [],
   "source": [
    "# this may be problematic --- do we know that j, k \\in K?\n",
    "# would there be some other situation possible?\n",
    "# does this mean that Integer is a subset of K?\n",
    "vec_sum_of_constant_vec = (\n",
    "    Forall(K,\n",
    "    Forall((j, k),\n",
    "    Forall(V,\n",
    "    Forall(v,\n",
    "          Implies(InSet(v, V),\n",
    "                  Equals(VecSum(i, v, domain=Interval(j, k)),\n",
    "                         ScalarMult(Add(subtract(k, j), one), v))\n",
    "        )),\n",
    "    domain = VecSpaces(K)),\n",
    "    domain=Integer,\n",
    "    conditions=[LessEq(j, k)])))"
   ]
  },
  {
   "cell_type": "code",
   "execution_count": null,
   "metadata": {},
   "outputs": [],
   "source": [
    "number_add_reduction = Forall(\n",
    "    n, Forall(x_1_to_n, Equals(VecAdd(x_1_to_n), \n",
    "                               Add(x_1_to_n)),\n",
    "              domain=Complex),\n",
    "    domain=NaturalPos)"
   ]
  },
  {
   "cell_type": "code",
   "execution_count": null,
   "metadata": {},
   "outputs": [],
   "source": [
    "number_summation_reduction = Forall(\n",
    "    (f, Q), Forall((n, j), Forall(x_1_to_n, Equals(vec_summation_b1toj_fQ, \n",
    "                                                   summation_b1toj_fQ),\n",
    "                                  domain=Complex),\n",
    "                   domain=NaturalPos))"
   ]
  },
  {
   "cell_type": "code",
   "execution_count": null,
   "metadata": {},
   "outputs": [],
   "source": [
    "vec_sum_split_after = (\n",
    "    Forall(v,\n",
    "           Forall([a, b, c],\n",
    "                  Equals(VecSum(i, vi, domain=Interval(a, c)),\n",
    "                         VecAdd(VecSum(i, vi, domain=Interval(a, b)),\n",
    "                             VecSum(i, vi, domain=Interval(Add(b, one), c)))),\n",
    "                   domain=Integer, conditions=[LessEq(a, b), Less(b, c)])\n",
    "    ))"
   ]
  },
  {
   "cell_type": "code",
   "execution_count": null,
   "metadata": {},
   "outputs": [],
   "source": [
    "vec_sum_split_before = (\n",
    "    Forall(v,\n",
    "           Forall([a, b, c],\n",
    "                  Equals(VecSum(i, vi, domain=Interval(a, c)),\n",
    "                         VecAdd(VecSum(i, vi, domain=Interval(a, subtract(b, one))),\n",
    "                             VecSum(i, vi, domain=Interval(b, c)))),\n",
    "                   domain=Integer, conditions=[Less(a, b), LessEq(b, c)])\n",
    "    ))"
   ]
  },
  {
   "cell_type": "code",
   "execution_count": null,
   "metadata": {},
   "outputs": [],
   "source": [
    "vec_sum_split_first = (\n",
    "    Forall(v,\n",
    "           Forall([a, b],\n",
    "                  Equals(VecSum(i, vi, domain=Interval(a, b)),\n",
    "                         VecAdd(va,\n",
    "                             VecSum(i, vi, domain=Interval(Add(a, one), b)))),\n",
    "                   domain=Integer, conditions=[Less(a, b)])\n",
    "    ))"
   ]
  },
  {
   "cell_type": "code",
   "execution_count": null,
   "metadata": {},
   "outputs": [],
   "source": [
    "vec_sum_index_shift = (\n",
    "    Forall(v,\n",
    "           Forall((a, b, c),\n",
    "                  Equals(VecSum(i, Function(v, i), domain=Interval(a, b)),\n",
    "                         VecSum(i, Function(v, subtract(i, c)),\n",
    "                             domain=Interval(Add(a, c), Add(b, c)))),\n",
    "                  domain=Integer)\n",
    "    ))"
   ]
  },
  {
   "cell_type": "code",
   "execution_count": null,
   "metadata": {},
   "outputs": [],
   "source": [
    "%end theorems"
   ]
  }
 ],
 "metadata": {
  "kernelspec": {
   "display_name": "Python 3",
   "language": "python",
   "name": "python3"
  }
 },
 "nbformat": 4,
 "nbformat_minor": 0
}
