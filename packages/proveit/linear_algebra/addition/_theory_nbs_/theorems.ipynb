{
 "cells": [
  {
   "cell_type": "markdown",
   "metadata": {},
   "source": [
    "Theorems (or conjectures) for the theory of <a class=\"ProveItLink\" href=\"theory.ipynb\">proveit.linear_algebra.addition</a>\n",
    "========"
   ]
  },
  {
   "cell_type": "code",
   "execution_count": 1,
   "metadata": {},
   "outputs": [],
   "source": [
    "import proveit\n",
    "# Prepare this notebook for defining the theorems of a theory:\n",
    "%theorems_notebook # Keep this at the top following 'import proveit'.\n",
    "\n",
    "from proveit import (\n",
    "        a, b, c, f, i, j, k, n, x, y, K, Q, V, fx, v, va, vi,\n",
    "        Function)\n",
    "from proveit.core_expr_types import (\n",
    "    a_1_to_i, b_1_to_j, c_1_to_j, c_1_to_k, d_1_to_k, x_1_to_n,\n",
    "    f__b_1_to_j, Q__b_1_to_j)\n",
    "from proveit.logic import Implies, Forall, Equals, InSet\n",
    "from proveit.numbers import (\n",
    "    Natural, NaturalPos, Integer, Interval, Complex,\n",
    "    zero, one, Add,  subtract, Less, LessEq, sqrd, sqrt)\n",
    "from proveit.numbers.summation import summation_b1toj_fQ\n",
    "from proveit.linear_algebra import (\n",
    "    ScalarMult, VecSpaces, VecZero, VecAdd, VecSum, InnerProd, Norm)\n",
    "from proveit.linear_algebra.addition import vec_summation_b1toj_fQ"
   ]
  },
  {
   "cell_type": "code",
   "execution_count": 2,
   "metadata": {},
   "outputs": [
    {
     "name": "stdout",
     "output_type": "stream",
     "text": [
      "Defining theorems for theory 'proveit.linear_algebra.addition'\n",
      "Subsequent end-of-cell assignments will define theorems\n",
      "'%end theorems' will finalize the definitions\n"
     ]
    }
   ],
   "source": [
    "%begin theorems"
   ]
  },
  {
   "cell_type": "markdown",
   "metadata": {},
   "source": [
    "### A few basic properties of vector addition\n",
    "\n",
    "These derive from the definition of a vector space."
   ]
  },
  {
   "cell_type": "code",
   "execution_count": 3,
   "metadata": {},
   "outputs": [
    {
     "data": {
      "text/html": [
       "<strong id=\"vec_add_zero_right\"><a class=\"ProveItLink\" href=\"proofs/vec_add_zero_right/thm_proof.ipynb\">vec_add_zero_right</a> (conjecture without proof):<br></strong> <a class=\"ProveItLink\" href=\"../__pv_it/theorems/74902111ec9aa757fa08f2062f2cf3809daea8750/theorem_expr.ipynb\"><img src=\"data:image/png;base64,iVBORw0KGgoAAAANSUhEUgAAAegAAAAzBAMAAACu8IZnAAAAMFBMVEX///8AAAAAAAAAAAAAAAAA\n",
       "AAAAAAAAAAAAAAAAAAAAAAAAAAAAAAAAAAAAAAAAAAAv3aB7AAAAD3RSTlMAq1RmmUTNIjK7EInv\n",
       "3XZ/CtNrAAAACXBIWXMAAA7EAAAOxAGVKw4bAAAHZElEQVRo3u2aa4wTVRSAz06nnc60nd3EHwp/\n",
       "dozEHwalsoAPVqiiQkIgVeMPgnFr/GFEo0NISBB0q/8MjxZ0I4Uo80NNWMWtC2p4iPWRiCK6MRgN\n",
       "oWGWl/JwIcC6uBup9zHTO+3cwox2TbPuSXo6nTnbe797zj333LsF4InS3W3AGJXu7m7+g1iplBir\n",
       "0FtKf9aATsIYlrvGocehx6HHof3LlNLFa9qIGtOeRFnivQPvkhVYLJWM/w76Rg829zq0N1nrvZYI\n",
       "H6Lv0caCDqSY9iiBFu+2tzck9BqDaa+ywbuprDUi9DMOzROeV9/nD1ETLwF824DQwjDTXOni5T5+\n",
       "fMvJmimjsaBjeaZdsq1YLPIKZmnI7VFkeiTLse3UGw86YzDNE5Xr1M1c236u+/ONBz3BoblrDnVt\n",
       "+TPxG7RzbdOVpvQqUGg86IsOXVuOlq8epzGreTANmgT9ggOahM1NbmiSAoV43aC57TBHDjHNkd3H\n",
       "iWeFPJwsoXVq7V8JlfQslvBgCsfIg4MO6Afw9VNuaBE7O6TXDZrbDqszzjPtlpCm/EyKSZSo/sC+\n",
       "QyNIalAx5cU0RDLFgw7ol7Hrs27oMHbNivqFN7cdtrSmmGYStALtHoCd+H0Oen1nLcTTSHpzjRLP\n",
       "NEDi4ZwDGg9DROPMaTyUvfWD5rZTlmgL047F26Tv69GWBfcW56Ln0es3u/vC5eov4pkCKUympBl0\n",
       "AI1miJfI2tB7qn7Q3HbK0pxn2g19CS1maLwE3J1WHSRsFsJREL5Q/UU8U3iSLIeaI3sfKBb386Cj\n",
       "xeLhfB2zN68dBh0va2Vg4ureCmgFk6BHIu7OZ1aOjeCoUKrTPdcUPsSqJ+6AngewiQctpkE26gjN\n",
       "a4fVS1pZi9BvLqiAlkYQiWk5d3YcprP92BVajhaJtNQwhRlkRE0H9FKQkHWw9T4IfeWERneX/hNA\n",
       "wc74aiU0bYflaxRGwjdpuyDTyvoOmG1c54ZGrovhxx15GrICKTZGqgtTnilMLs8dG1o2Inh1Oguw\n",
       "2KgoTjbBRygbopCcvJHm0tYuCBetaQYDZ1bzodHgPnRJg2cTkKiAttoh63F/Lgl7wJpxWDqSZZ2m\n",
       "iwt23+EDxH0KIulA7Ubx454sDdnweWsKV4Y3zxQyBDrhgBbMEE17arKyIrsN57EIGtCV6MO6CV0Q\n",
       "RX381d7gpGscciiol2oBgrvQIFZAW+1guR87GCXZCCu9macBvucksimaRdLcR0M2WOBBc03hMRc0\n",
       "pGaRClDaVVWGhgIm3ewhVnGetSravonyt61Aihq5BU6AXRSUy1DSzsDc4zqtpjqTKJJ50MEh6K6E\n",
       "zqH5aVgxGxumXRD6eHOaawq3uuY09C4hFWC7WQUduRlZSIMQQJP0mFUaC2nYPgDq3utDE0GS3py1\n",
       "w5C2o1rrTL+O7x+dGYcYycIr8ZezZZlA43ZUfUJI20oTtimxIrczbmulq6lgD60N3U7rKRl/lK09\n",
       "ZiDLLdZ5pnSH0ezM3rAKj5A6srJQBS19TsdyGeoJLaUWoNQa0sT4DpgvHTmYhIyuppryUT2SEPPo\n",
       "/vS8ZMJy7LFlJEKFRAU0bicAb4XhEVowtrDohh7T1sLltwtBrRI6pin77FVKHLQiKl/eRVSsOxxT\n",
       "mF9eGsrQTXiGyVnYX73LugGrJ/CwW/VgZ/IVlBSCm4bgBZSMrsAagEFJl+M9umSg+xsv3QKwCFd8\n",
       "n+whcZqtgCbtANpTzMjlchqIfacdFVnC1spCc9LUqjmtzO/HfxvuK9eUVhfDg66UwjGFn8jcSbq2\n",
       "lsj55wze1nKBim4Hns7lNuCRyUN7W9ujaG4rOCci6C/hzO9mB46rtrbkolKS8OVIzoNw1r21DBck\n",
       "oGk/MOgoSkNZpt0VmS2/OK5fvPrxktNUItOfVKeV0BmddtQFPfth3FX6KDho4vQvDZMsFiOejsXl\n",
       "050GWRbCBqoYXiUzTR12hzcJ8UhKtGqesDPzigWm3RsOW6Y5rueQsqyvFrTTVCRf86nrEEHdsgsm\n",
       "j/CgM6TnVi112AA5rpib4YPmJKo2Moaa7TFiA3JeMdH9ownI4kSGt8V4rqimC1o8sfc0SHTdP+Qs\n",
       "VYaZvso5Ltvp0g2b3OLB1NorrvdxchIjbllBS6dJeJc+AJG9prh4dx4yU4+DOufO5/A99BIWztRx\n",
       "a6dGDOGHvLPhqpOT93K5qqMZ5QLTtUXJVkE1xz2YwhvsVMbXcZGyM8c5g13D+dMgmyRbfRwXve7Q\n",
       "teWl8hUtkjp0D6aqbq3+9Tkjy/BuzuVcXRu6/SoHfbXlY++mkVR9oKVW3tYzYi8CgaQP6J4k097l\n",
       "C++mUW1UT0NtaMXPaSh1RMTfqYVa8G57tgH/wwH7HNqf9/wEhT/odTNHGXqGQ3uVkz6CIuUfOtwi\n",
       "jzI0OeuwtEeRvvZuu0r3Dy2nRzu86XE11R5lm/foVn4E/9AxQ/k30F5+c7LcYNqbvObdVCYR5PM3\n",
       "J8HtbTDKIqWZ9uY9H9n2HeeH8Z9UjUOPQ/8/oO8eyz9yP1UDemz/yP1viK5M77F+Xm4AAAAASUVO\n",
       "RK5CYII=\n",
       "\" style=\"display:inline;vertical-align:middle;\" /></a><br>"
      ],
      "text/plain": [
       "<IPython.core.display.HTML object>"
      ]
     },
     "metadata": {},
     "output_type": "display_data"
    }
   ],
   "source": [
    "vec_add_zero_right = Forall(\n",
    "    K, Forall(V, Forall(x, Equals(VecAdd(x, VecZero(V)), \n",
    "                                  VecZero(V)),\n",
    "                        domain=V),\n",
    "              domain=VecSpaces(K)))"
   ]
  },
  {
   "cell_type": "code",
   "execution_count": 4,
   "metadata": {},
   "outputs": [
    {
     "data": {
      "text/html": [
       "<strong id=\"vec_add_zero_left\"><a class=\"ProveItLink\" href=\"proofs/vec_add_zero_left/thm_proof.ipynb\">vec_add_zero_left</a> (conjecture without proof):<br></strong> <a class=\"ProveItLink\" href=\"../__pv_it/theorems/94ed650375c664cd1d3675740b7ade5dbe5952230/theorem_expr.ipynb\"><img src=\"data:image/png;base64,iVBORw0KGgoAAAANSUhEUgAAAegAAAAzBAMAAACu8IZnAAAAMFBMVEX///8AAAAAAAAAAAAAAAAA\n",
       "AAAAAAAAAAAAAAAAAAAAAAAAAAAAAAAAAAAAAAAAAAAv3aB7AAAAD3RSTlMAq1RmmUTNIjK7EInv\n",
       "3XZ/CtNrAAAACXBIWXMAAA7EAAAOxAGVKw4bAAAHIUlEQVRo3u1aXYwTVRQ+20477bSd3TfFGLdG\n",
       "44NBqK7gDysUUSBBTNX4QDDZGh+MaHQICQlC3OqbirQQiRSjzIMaWRO2Asbw6/rzgIK6GozG0NBF\n",
       "UPlxIeyuhN1IvefOTOfv3mUGuqZZe5KeTu+cM+d+95577rmnA8AiqadHhUlKPT097BuJajU9WUFv\n",
       "qV7kgM7AJKZ7mqCboJugm6D90/Tq0GVlhKTJvdEHqk9RoVpV/zvQN3qQmWvh3ijyq2/ReGOBDmZN\n",
       "7pVu9y3aYKDXqib3StGkX9EGA/2shUOLt8dK3zCbW/iijQU6MGpyMi8e7bMjAFN7bgOCTpQMLpXL\n",
       "5aMFb8/tVlwzytPWRBsLdF41OcCA15VaYrUO8EUbC/QUCwfIIRNrN0VuyO9jtTK1NdHGAj1k4Tod\n",
       "q12FKhwt8Tz3gU5tTVQH3YbXN7lB0xAYSNUNNNOOmTxcMPme43T5BUrwe3UDwBv/pOE3nt5hVwtX\n",
       "+7AF9IN4/bQbtICTHVbqBpppx/TTczUeTko/08yRRKW/caLIcIV52/d8ZwNfe74F9Ms49QU36AhO\n",
       "zar6uTfTjrm1Zmv8PoBd+GMe+RzSd92gUcd5zKF31vkgvvZZC2gchliSsaaXke/t9QPNtFOjeFuN\n",
       "ryfnE+waBp4XyOdPvGNkIdOcJ5mco4GvTUV10EGybMOsQNZBvrP1A820U6PWUo0Pk52LDE4Abbcr\n",
       "INI7T3FA553DyNemokb0/rZcPsgCHS+Xj5TqGL1ZdkzQKYNL2G3yLaDtz/SACh87QG8b+HAPguh1\n",
       "RNpxtKmoAXohwGYWaCEHUbWOoFl2zHwpaXBxjHSbbDJh7OOcFMyg92c6QKflG4R+HCa6HQllSm3j\n",
       "alNRA/RyEIl0qP1+CH9lBU1al18JwIAR8WU7aM2OGa+JGwW+ztncNG+AJvOUwJaukuafMNUOOqgE\n",
       "R1tStWVh2bj52lTUAB1VY7g7nQFYqtqSk83wCYmGxCWnbtI2+faNECkbecLg6dfZoMngPjKchOfS\n",
       "kLaB1u3Q/XigmIG9oK84pK6MwSXS7S5iJI4tvQX9xJRHtrhcPlQu/4APAEELN61ph3vztamoATpQ\n",
       "CWthT87YM7JpGMdiJAyuJj/WTdkIcdLHP4ziTo5zxJHIdMp9ENpNBtEGWreD9ABOMAmyMUdAopys\n",
       "yulJvdut/Zp/whPOQBavMEGPo20DDdnZNAMUdzvS0HCwoh32CFZhIfrrOXqtGeUdejGpibbBCbCm\n",
       "FDQNpXYGFxxXZBp9ujNwFwt0kSxGVXfQxKhu7zYn6C5FUhlrehxt25qG7ctoBthZcYCO3UIkxBGy\n",
       "gEDP5IYgkIMdgyDvvyZ8HYjiO7N3quIOkmudHlCw/disFCRoFF6NDze3ZQoa7cjKlHByqzZJFdEM\n",
       "vd2pGu/Ukqcodid60VHA1EFvzVyvuUmrM0/ma7daozeswRGSx1b3OUCLn+PlJVhBfFZLpRaDQPI8\n",
       "IbUTFolHD2cgr8jZllJciaWFEmmfURIrsBJnbMV3NKSlbaDRThDejehpVbjN9G7ordR4IikdwBHD\n",
       "Xgkj+v1FdtDTX3sIHjWjvnXf4Wp3W/dpaMEVFi3AQecp61pkT6JHh7QB7c68QoJCaPMFeJEEo0uw\n",
       "FmBEVKKpXkVUSfum4VsBlmDG9+leGvkKNtDUDpAzxcxisZgEof+UJSNL17i0aAAFI/3W9PMnO+j3\n",
       "BgPztAXhPA7ytamo/WhJJv+syjpaLpZJc/CZYnEDjkwJOjs6HidrW8KYSEB/Caf/qnShX3V0ZJZU\n",
       "MxRfkcY8iBTcR8tInwha2A+OWGYpXDC5Tr9Yd6J+XhrKyyTc2lTUDjqvaB11gZ6DbhTRboVGKhj+\n",
       "xVEaxRJ0phOp6KlulW4LETWYhVfp2pdH3e5NXTyWFfScJzJsDX99JtfpTuvtFOfAsY+XLbi197mK\n",
       "CPKW3TB1jAU6T3uu51JHVIimpMrbsK01Q7KNvCoXetXEYLQkVUj7sTQUMJDhsRjXilxxgRZO7D8F\n",
       "orbvW0v1wVGTG/Udy7GWe9pbzy0kubTX+6icJOi0rNJSp5vxlD4Isf0VYemeEuTvOA7yvLufxzby\n",
       "CTw8S0FrJ8fUwPclq2FH5eSjYtGxFqXzJjeaLL7+1vgFF1a64NIe8l0uknYVNzIK9AzVkLlItvoo\n",
       "F71p4Tq9VLuSebWM0AXuA53ammgdamR5VuMCxtXlQXdauHeKZX2KXj1osZ119IwZATWY8QG6N2Ny\n",
       "7xRP+hSdsGqoAVryUw3VJsLHzFE641e0wf7LOmDhnukLv6L+QK+bNcGgZ9qKBd5IzvoV9QU60had\n",
       "YNC01qFzr7RG8SvqC3Q0N9HurZWrNe6RpB99i/oCnVClqwHt5Z2TlarJvVE05VPU5zsnoR0dMMEk\n",
       "5kzujd6/QtHmK1VN0E3Q/w/Q907ml9xPckBP7pfc/wWeX0I2mvcAYwAAAABJRU5ErkJggg==\n",
       "\" style=\"display:inline;vertical-align:middle;\" /></a><br>"
      ],
      "text/plain": [
       "<IPython.core.display.HTML object>"
      ]
     },
     "metadata": {},
     "output_type": "display_data"
    }
   ],
   "source": [
    "vec_add_zero_left = Forall(\n",
    "    K, Forall(V, Forall(x, Equals(VecAdd(VecZero(V), x), \n",
    "                                  VecZero(V)),\n",
    "                        domain=V),\n",
    "              domain=VecSpaces(K)))"
   ]
  },
  {
   "cell_type": "code",
   "execution_count": null,
   "metadata": {},
   "outputs": [],
   "source": []
  },
  {
   "cell_type": "code",
   "execution_count": 5,
   "metadata": {},
   "outputs": [
    {
     "data": {
      "text/html": [
       "<strong id=\"multi_vec_add_def\"><a class=\"ProveItLink\" href=\"proofs/multi_vec_add_def/thm_proof.ipynb\">multi_vec_add_def</a> (conjecture without proof):<br></strong> <a class=\"ProveItLink\" href=\"../__pv_it/theorems/9057a1b8fa606c44b484684646a8ccc5f4133dfa0/theorem_expr.ipynb\"><img src=\"data:image/png;base64,iVBORw0KGgoAAAANSUhEUgAAAz0AAAAzBAMAAABPpHurAAAAMFBMVEX///8AAAAAAAAAAAAAAAAA\n",
       "AAAAAAAAAAAAAAAAAAAAAAAAAAAAAAAAAAAAAAAAAAAv3aB7AAAAD3RSTlMAq1RmmUTNIjK7EInv\n",
       "3XZ/CtNrAAAACXBIWXMAAA7EAAAOxAGVKw4bAAAIn0lEQVR42u1cbYwbRxl+/HW73j07lviVBqVG\n",
       "OeCkXFOLfJSikpherkSUgJv71V6Uc+kPRP6wFRIopG3cCCHoR84BhdT8SDZtJZoLujophLaByGpB\n",
       "gYQGQ2KEol7Y0x1FIdX1pHBcexEcszO7tnd3NvUZr7mz9pVmPX48876777MzO/OczwDHRkdH0Upr\n",
       "0F+rwy5Lk0ZHVSMVrMqxvy78s6UxG/TX6rDL0qILC3ng6MIHZpVjlRbHrLS0WadbiJJyd63q8+Pz\n",
       "4/PTOfwk9MMan5+lys+Afviqz89S5edJUoS8z89S5aeLrPrlpM/PUuUnlCIc+euDpbt+e2t8/ILP\n",
       "z9LlZxvwY5+fpcvPoxASzcb6LBl5fc/5/HjJT1SVM83EObDyEOQSsNcfP57yE9SaWh6Et+l954Gi\n",
       "z4+n/CC7mRymPz+lGO/rqjWrB3clkMCkXhNmEVJ8frzl59RuIK6s7DI2QXXVmtWDkjYvliR2Mf/B\n",
       "N/z1gcf8PEaWByEcESHQdRyt7piyPpMoaJjwfDmej6Ro/eFlPr3Z+OGJkZUWa5QN+qvxE8jpxzlg\n",
       "/xUGkGpJmrG1n6tVA8WAFvpaofADYHtc7SR+eGJkpcUaZYP+bMNMLAnAlWpVEUvOzzcMrqX1WKY7\n",
       "J7Jxs2VHR+1/eGJkpcUaZYP+rPw8JmfDlJ8TRjWagVQk7+jBANflY9CBWG7Y3NOOpDuKH54YWWmx\n",
       "RtmgPys/4b+d/Qfl55kkq5LVs/gGnlHEc+RggIHcNyka7P8RsIfOijG1o/jhiZGVFmuUDfrjLSP0\n",
       "+Y3RKqsa2d1UP2BgDJMP6ehP8EMyjl4rHOo8fYcjRuqJaqVG2aA/Dj8HLiQRYQPi6wtl4CHzAwM8\n",
       "hrUpHV0dyaJTzMYPR4zUE9WsRvlJs6I15K/44cvwUF09xQMJOngdncoPEyMjt9+Lrl/XJYrCobeL\n",
       "CP6OTut44IMMnr1qbg6nX+XvMkIZ01XYmngXzTPt4barM/gxxMh3gSG1LlEM/iVZdREixIlCBhf0\n",
       "PbvRYhvCfIX5WNVVpGhJvE3zFC7/HPckfH4+nB9DjDyIeKY+UQy+U4VMXrbqQ+g90Dq1krHjdNhA\n",
       "zdVuOP0ZT5WVh/AxWQ2rPj8N6DtUjMQN4XVroii8L4O7yLCh0/6KFHohb9ZwfUJ5WIWy59L1L2Dv\n",
       "BkIFAQgeX/MKUK65OsXxx1bOus68RkvL+NnWy1szPH4Uo3hvAg/0Krzgjiqu/OhiJMS5ezRroii8\n",
       "QhMIN8dZWsvkbv8K+uV0uPj4vwdIF7yDVTgHHSD4EJ6AkK256nH6C/UfmALTmXs//oTs+vyJJ1lp\n",
       "g0U0J+ZZeF4wA93lyo8uRiJ+c2/JmigKdyX0JA4ymmfFpDiDB19WBBUHbtfEElZkvkU2HgR4ieAj\n",
       "95KHTr7m6kGnvxd2proVpjP3ys8PufKz1ijtsEkn5F34SVc0nnLjh4qR0TwuWBNF4XCZbNyxqVAo\n",
       "kNupICP05vqNwwRRIc4QfrpT8bNXQQAdjxydRTBRc/V9p79vv4MVKtOZe5G+5saPlGWlLdbl0Bs8\n",
       "DN+luqK73fiB8XB5T3XeyKFZfZg/zd4M7yKskGeSShcHZTp+LuGIuk+l+FPYBDFfc9XDGRirsRNM\n",
       "Z+7FiS63/U84xYp9HkjxL3rQbTZxaW/tEHLodR6GrwZznsKGW/IzoqC76MynSP8jJ8qYi50Hmc3G\n",
       "okVJmyW7GXEe16R5XNV0gOA9iNL1gelqmsPPb7FVZDpzLyLr3PSDbqPYLKjxE7HOJUFu7W0dzts/\n",
       "9jL8eddT6FZvwU/86Ovou8lZSFF9X2DfhwkSmuWzGs5MY+DMGYg31qUxtf67FCB4z+QvgMM1V4ed\n",
       "iRdm8JdepiNsBCbc+PmEUdrDzyP2j70M/4jrKXSlbjV+bi2EnSgUnF+osf89htpQbRbPO/1FErie\n",
       "ojqz+GcFAbew9xtlbOKlM0nnBUvTtz19ahEJsrc3O4z1QyIT9Ul7Py/Dn7R2kqZS+pZeR+VE8/xw\n",
       "TZzhgGHFWbP7c9OZK/W3k17S8dXhsvOCw5jQti8iQfb2ZodiH0LkGjbRNuPUEl6H32TtJAdL2MLQ\n",
       "ULbF/Dx6k4dWd7kbFy0MVJv9iZWQEpoPpPBC1nbBd2GL+hGcOHlbgwli7R0ZFZPbESAJ6LP38zJ8\n",
       "n7XTfnIDrGRosNRifvgmmRW1eX5+w4qIsL7dnS4bN/jbb7EbPIf76Mqc3pTbx8d/Pz7+R+dAtrc3\n",
       "rdpBwkV0kxyO2Lt6GX7E2kklJ3CRodXpaOl/f8dIEGj6ECw7HrjkkjCLfblGH9AXuU/0yDxGiIud\n",
       "Lvx4En6nbdANq+L7DI38D+NHnCy2kx9jgiFnr0gqJ0GROYziM40niLbf8OnptDU5ZHi8S17usD9/\n",
       "vAx/h42f+xAvMbQapwl+nkS+nfwcYeV45qO6Ym5PkHQoUKL72l819gBg7aWNb+KctUM0gYNmJurN\n",
       "y/B32zod1M+ColUumuDnufbObydZufOpL2KHM0HB918sRci6V7xivdaXs8ZB+henvTCWxbxt/CQi\n",
       "N4yltMW8DH+/jZ/PYTjF0HCxeX6uQG0nP8+y8uJ0sD/JuYG/pPV8irzuUa3XGkubh8u89gGtOsOb\n",
       "m49VU3O8s/MyfMXGz7GzX1YYGss0z8/Q+lQ7+YnlWDGus8zdkAtpQVnMBr47F07bnxgyud2Fsr2f\n",
       "h+GrwWqdThun8DiWzfpN1wtrsmU1QVbBcc/3vqMuRqDch9j+nKXDafw0yVNCPQxfDTZo3iDSG8Yp\n",
       "9C8ffqh0Z8p3wumbXOHrDwsLizqJBxB/xYpcxSo90c6m3oW3B4tpgSJDa1+uXQb8HIf5R1svbQ39\n",
       "j4jDzg+8C28PFtw8YKBRZRnxI2istMHinO8ZeBY+rriif0fj/Fxq8Q/lNejvkv/7fPqP8o3l9d/n\n",
       "u2ZWOeb/Pt//z2y/z/dfwHLRDp+v5esAAAAASUVORK5CYII=\n",
       "\" style=\"display:inline;vertical-align:middle;\" /></a><br>"
      ],
      "text/plain": [
       "<IPython.core.display.HTML object>"
      ]
     },
     "metadata": {},
     "output_type": "display_data"
    }
   ],
   "source": [
    "multi_vec_add_def = Forall(\n",
    "    K, Forall(\n",
    "        V, Forall(n, Forall((x_1_to_n, y),\n",
    "                            Equals(VecAdd(x_1_to_n, y),\n",
    "                                   VecAdd(VecAdd(x_1_to_n), y)),\n",
    "                            domain=V).with_wrapping(),\n",
    "                  domain=NaturalPos),\n",
    "              domain=VecSpaces(K)))"
   ]
  },
  {
   "cell_type": "markdown",
   "metadata": {},
   "source": [
    "### Closure of vector addition"
   ]
  },
  {
   "cell_type": "code",
   "execution_count": 6,
   "metadata": {},
   "outputs": [
    {
     "data": {
      "text/html": [
       "<strong id=\"binary_closure\"><a class=\"ProveItLink\" href=\"proofs/binary_closure/thm_proof.ipynb\">binary_closure</a> (conjecture without proof):<br></strong> <a class=\"ProveItLink\" href=\"../__pv_it/theorems/3f2b9315a2ccddd19f94c357da6d43c39bb03c120/theorem_expr.ipynb\"><img src=\"data:image/png;base64,iVBORw0KGgoAAAANSUhEUgAAAZkAAAAzBAMAAAC3e2jBAAAAMFBMVEX///8AAAAAAAAAAAAAAAAA\n",
       "AAAAAAAAAAAAAAAAAAAAAAAAAAAAAAAAAAAAAAAAAAAv3aB7AAAAD3RSTlMAq1RmmUTNIjK7EInv\n",
       "3XZ/CtNrAAAACXBIWXMAAA7EAAAOxAGVKw4bAAAFz0lEQVRo3u2aXWgcVRTHz37Mzscmk7xpVJoF\n",
       "SwWtdTEKamq6NWgLtXZbUagBu+qDKFKnFIQ2LV37qLG7VYIm0nYCPrQVkrVplSYaolUQqrVKlQpZ\n",
       "MtGU0sZuA2mITbDx3I+dnb07E4JuhcQ9cDIze2b3f3/3nnvunSEAbqYdPWrCAjPvNlfPzsYWGo06\n",
       "O5v2oInDArRAhaZCU6Gp0FRoKjQVmgpNheb/THPl/PzuM7h7R70Cejb5n9GcmN9teoS5hz0/VyAc\n",
       "pzS15PrOUhofOfqjZaJxVRHtHu5esEJj9NevR0AZPkcDnOZxEni5lCZIhidklInGVUV8eEww97RX\n",
       "hesecvNGFuA0b+KVnC6lUUh37ihXprmqCBaMMnfY00VXDwhfqBrEP7UswGlC+DAdjrjMG9ITx8pF\n",
       "46oiNo67w1YU38Ce+/UD2V/oSWgcL5IswGkC2BshtyrQgMdEuWhcVQRbxt2TJkQHTtqaf5nhmwJo\n",
       "5QFOA99ns6fdaKqy2aFM2Wqam4pg67h3jxzujxTRaKNR6MLBpbXkDfvNTHiSJRoJ5GnWAnS60QST\n",
       "oJplo3FTEewl7jF9SfBsEU3YPwirsLWJ4loSmIAAXUowkKfZBjICSvWPQehrJw1+uu2fNP0uu4I6\n",
       "aZiKaI/ieC3/gF/8xDxgBKZ90SKavUhXh+sFmfWO7JdmWKKRQJ5GNckZ/AHQYhatnp2kFQ49qb4d\n",
       "lKzFb8mNve2+vcCvbrwWgddiEHPQcBWH7atrh/Agz3xi3zBXIMgavD6b/S6b/RHPzCoLzmAEZz0o\n",
       "mLPZX1kCXmeJRgJ5Gr9Fp+d+0OPFe4EVpBvyekS7CqfRxXw5TcJqV5ouMiqDIPVh7zhouIqjHq8l\n",
       "nToNkBFocMZaYhXYYip/YneSsdEcdf4vlmgkkKeBRBP5ZELuE3Y2oYBl61FtfbygjaXU50pD1km1\n",
       "Fi6QHzAdOxuqklsziuuxNILf/Z0E5ElMLCjONGy7oZnFNE+QDgI/nU1nC1rDH7MjBmyaY2RlUaZW\n",
       "WgJNeJlp61FtmAB/EnpzoA/cEroNZPlA03FT7sX2j40Y4SYLfmuMUrGaaCtpjr3AnOAqulEXws+6\n",
       "a8w23sU3YLstepD5kfgdEBbGZj/pIL6rzBWaeShtb55tml0k+fSZ1kGBRv7S1uPa6yEIoUgwehzW\n",
       "ycPn4pAy9IQvU2WEY8HMi9AsZWRLJjmf2n6GdlnMQUNUAnBQwdOd98Ilic3zFwqJBp8wv++tJ2GT\n",
       "QLMatpCNAr03VFiEN/C5gQGbxkeWUzUNp8U99K22HtfeE98LKZA6p2AnKCM3oA1gUjbUaI8hHx6H\n",
       "zcq1u0Eiv3j1s89pOqcdNFQFpuj17bAk8EpHx7vYP3phEXiH+Uc5f3NEoOka2GDkW6XVPSdudTBg\n",
       "01CricJV0+2JgOpxbTWdgZUNDc/g/NFwBAjNKRi7Ym3BO041PAibZ+N+MtAdtGCAkhafCJRBmRx+\n",
       "hm8VNiarNjm6MMncdS/wKfpuXphP8p2NbbtBoEkZrAUlNFSPa0uTFjKAPE1LQDUdm+qoenmPSaun\n",
       "YgYSlGAC9Gkx04jtCieCgDP3vDTO19JUzFHbY8xLd53hhPYVHpq9lrhmgUY/1AfLZ9xomB5fx4dM\n",
       "UKOa9SFO5DguiClTT/eY1Tk1o1nvQTe2Pk2qgIL5RNJWtwSa4IWBy9AWgaUPJ2AHHYVq527jfe6l\n",
       "D4+WLzPHHpwEisfG89mT6TFtWIren4PwgBVs6c9A6v5R0Jsf2so/8z/VaJDmXJox/T+gvGq4PntG\n",
       "NJxqoJ3saBdUj3AvMX8TrfteD1skME8avu8r1UZrc/lqS3HrqH3hfC8gmT7rWfc+tph72MU5AvpQ\n",
       "/F+/F0i5PXMVenCN+9YHpKYy7c3L+s5GrndrVZ9zx7bg30BpJSeVt4M3l2Zf4yKiUWrVRUSjJhdT\n",
       "plWb2iKikXobFlMVWFw1rUJTobkpNI8sxP+26/aiWaD/bfc30gG/AjHbq44AAAAASUVORK5CYII=\n",
       "\" style=\"display:inline;vertical-align:middle;\" /></a><br>"
      ],
      "text/plain": [
       "<IPython.core.display.HTML object>"
      ]
     },
     "metadata": {},
     "output_type": "display_data"
    }
   ],
   "source": [
    "binary_closure = Forall(\n",
    "    K, Forall(\n",
    "        V, Forall((x, y), InSet(VecAdd(x, y), V),\n",
    "                  domain=V),\n",
    "        domain=VecSpaces(K)))"
   ]
  },
  {
   "cell_type": "code",
   "execution_count": 7,
   "metadata": {},
   "outputs": [
    {
     "data": {
      "text/html": [
       "<strong id=\"closure\"><a class=\"ProveItLink\" href=\"proofs/closure/thm_proof.ipynb\">closure</a> (conjecture without proof):<br></strong> <a class=\"ProveItLink\" href=\"../__pv_it/theorems/bbaf8cca5f815c61451a62c8322a9473bde4f1f30/theorem_expr.ipynb\"><img src=\"data:image/png;base64,iVBORw0KGgoAAAANSUhEUgAAAqQAAAAzBAMAAACzlAdIAAAAMFBMVEX///8AAAAAAAAAAAAAAAAA\n",
       "AAAAAAAAAAAAAAAAAAAAAAAAAAAAAAAAAAAAAAAAAAAv3aB7AAAAD3RSTlMAq1RmmUTNIjK7EInv\n",
       "3XZ/CtNrAAAACXBIWXMAAA7EAAAOxAGVKw4bAAAH10lEQVR42u2cfWwURRTAX+9r7/Y+WuMfCjH0\n",
       "DKiNQLlQwA8QTluFqJATogmWyMk/RmNkCUYD5aPyl5HSnphGrgZZlBgoSXsBGmOLtQYTNUWtsRpC\n",
       "uHCFAraV0oTWQomc87F7t7s319vKgZDMS2Z3bubNztxv37w3M5cWwIQ0NjYyy8XGRhm4aGFkQ2WU\n",
       "08lhZrk3mQxyloq4kskIwJ7kVVPav2cp94Y4SY1YI/j6GEfKkXKkHClHypFypBwpR8qRcqQcKUfK\n",
       "kXKkHClHetsjvXgiH08RlJR3kcap8MWrb0ukLXl5yhkl5V1eGa/CHUojLcK3qTmRMtUQ0gJ8twTy\n",
       "hNTMYHKIJUZT/sVn/JbnkzsBdvwTxBVapE/j22s5kTLVEFIbNlSHlCekZgaTQ75Q0k2QNwyfxb/R\n",
       "xV5EKrRI38OuJ5ITKVMNIXViw9qQr4lvZjA5pFxJBlnB1rZnm18s/TnGguMoFdAKLVKHjD77cyJl\n",
       "qmFfil/doXwhNTOYHNKhJIOUZnETiSyPYel7ZHrvi8fDJLMWpT9phRapFb0nR+7wxFTDSMvQPZwv\n",
       "pGYGk8OVhmm6GUgd1KRf6lcLiiUQYrRCixR+isc7TUR8lhpG6onHT8XyhdTMYMYXW4wmcXDy9kMM\n",
       "RE09+9v8E0Cq1XeT6CmkXeo3SnhGFTqkSwAaGM+MGZCy1DBSWzW45P/w3R9KBVIt0iyDMS/YknCy\n",
       "QU9iKQNR0DfF1jUBpFp9K7F+TSxeFIC5SoUO6ToQihjPDBqQUjV78VPg+E6LFJWuA3gC2daMXdTj\n",
       "F9eDM64OdXBgO3ungZq+MOyHN4PpnlqyDmb8TQuaJZYfq5Uh+Wl6BBbJd4M4z4DIKlnHCgJi212y\n",
       "OaRUX+VPfLTGMa2OkXmPK3RIXbJbu2IXultgQVEmUkXtL4BKWbfUb8Ao3Ki3KvShdlI9eFA3F9R5\n",
       "WA1PMoe8F9tnB9hb0fM0SA2DySnOnmgIjgJ1aSSEhGiqhmfwcC6SwqXx+PF4/FesD7YwNmFieTbk\n",
       "s5CnyXyHRn21syF8rYkjoauS5kiBWqFDakmkuWMi97tlm5yJVFH7EHwh/e6pFEcnyxhxFbYlmNRQ\n",
       "2m146CojU/AK1FUE54AuJlSk2sGYkQpsnLNQwAUDUoCf8WVmRrjxILssDAlXzIYnT1rDTqz0QFqp\n",
       "sGuuWqFDCuGFKd+OiUxNBN1wpKK7IqTfkFK1y0KrYUPqsKJOhRE0RwDOkuLLYKmGw4Pga7/HMRkE\n",
       "YffCI7JwGEEc6JHcCxNwZn4AsJUUBqowzdSqqUXtZXBxr+qwNNm0pArphmZrCM1z0E98sI9CIwvp\n",
       "akmUrbJ5pES/vLYXKxOn6tV8/zFqOqhCj/QQCmG0ESFS8sAWN8OXEjVwji5IGJC6H8RcrsN6FGbp\n",
       "fFiKZpbDbwscgeeE090hqJN84YKYR3IHbbE1UG6PCQkBT6e69cSSLEENUtyLT5rkUDBrspqdYaqQ\n",
       "WkxhQkit2F0JksT6gg48VYxID4TuIxbt7jKHlOp/virgkVRkvnQT19XUEZQe6SbkTEgjSqTE/Vkl\n",
       "CylWA9+1qg4DUuFbnH0VfwFlL7I1tA3qwN4wChuRs7sONQAjguQKNEvC/iFY6Rx+GOy4q0tfHiXT\n",
       "JqJBinuxwqdOEEjkJ9nlvXr/Sgo1exxHUWrek4UOSpYr+zrs/kyksz54Hpaj+w59eCJbS3JpDjP0\n",
       "N56HQpkuzpCsSa/YRlIrNz3SAuSPSCNKpASCfSykWA1cEeg0nkTdSyzTh/q0vh6N7sRKMVhQVvYi\n",
       "8qkiskWM9BgMXEysRhrHyubCymTIgt9PlEQycGqRkl5gFGDbSVqIsh3ikMGGRpX7vGg06kexpj8d\n",
       "QrpIEpclps1m+NJ9g5ZyRFpoMCyiutWLN8jSnwKr0gdve+tV528NpjjokRLBjSiREjjoYKxLFYcc\n",
       "gEsy63BvEX73TtrIPpJAIEEYI7HJS6zUG3D1b5VJ0HTK1jDBeBl8Y8aJT7l0CAAnU1nJadhh4sI5\n",
       "K6YD0AWadUTjG04oicpM9m7obXh3QrunH6ACzYvNyqfK3XH9/mwzsJDiRpRICdhLs56X1knUsjKQ\n",
       "1hEuyss/JYMrICY+gabCEFpq1sm+SLPsHXTFxMRH0IQQRnB4ciJb69Q6JxXpJnfYRpAeVLKuEMqK\n",
       "MfVCCksjXlA2Gc5hw9nGnEykumMQYdf7z07k2EQYghMlzNOY1FFNJlLaiBBB64KebEh9e1phxjUW\n",
       "Ui/5chvognsaSm2D4G5P2CrbYlA3uxd85Y++pZRZls2X4GOAvmuy5Rf0flySAantXHs/QVrjp9kl\n",
       "OOv8HmokfKGFBdXvYDakwUnNWPHTUk+sWtvOQuBJJocmslSzF8FAIPsRGa7IREobYSLOP6SMpaTp\n",
       "U33xq2h9ploNo2llOnuAfaqPOdEJ7ZYTahZShV44+zKy42jUMAYcY8UbOx/MIi5pnArGxB+HyA3/\n",
       "UFLHOt5Ij2+xmvla+9tTbacf7NRtr012qVn89mVl+zWdPWm3KCnvcmGcCt+p0K387UkoZp1UtWp3\n",
       "+9l276ysFW5X+b9/zhMzMne88N/x7xCktfM50vwidRa5ONL8InVV84mfZ6ReWeRI84vUfriMI+UR\n",
       "nyPlSDlSjvQWIf0ty9/tex/n/+IgvcNubIrgf3HQZ0qb/4sDE5L6Fwf/Atx/nae/dM6YAAAAAElF\n",
       "TkSuQmCC\n",
       "\" style=\"display:inline;vertical-align:middle;\" /></a><br>"
      ],
      "text/plain": [
       "<IPython.core.display.HTML object>"
      ]
     },
     "metadata": {},
     "output_type": "display_data"
    }
   ],
   "source": [
    "closure = Forall(\n",
    "    n, Forall(\n",
    "        K, Forall(\n",
    "            V, Forall(x_1_to_n, InSet(VecAdd(x_1_to_n), V),\n",
    "                      domain=V),\n",
    "            domain=VecSpaces(K))),\n",
    "    domain=NaturalPos)"
   ]
  },
  {
   "cell_type": "code",
   "execution_count": 8,
   "metadata": {},
   "outputs": [
    {
     "data": {
      "text/html": [
       "<strong id=\"summation_closure\"><a class=\"ProveItLink\" href=\"proofs/summation_closure/thm_proof.ipynb\">summation_closure</a> (conjecture without proof):<br></strong> <a class=\"ProveItLink\" href=\"../__pv_it/theorems/b3753c00cf7fa4889633cb64ee5494225dc4933d0/theorem_expr.ipynb\"><img src=\"data:image/png;base64,iVBORw0KGgoAAAANSUhEUgAAA1sAAABABAMAAAAe63DzAAAAMFBMVEX///8AAAAAAAAAAAAAAAAA\n",
       "AAAAAAAAAAAAAAAAAAAAAAAAAAAAAAAAAAAAAAAAAAAv3aB7AAAAD3RSTlMAq1RmmUTNIjK7EInv\n",
       "3XZ/CtNrAAAACXBIWXMAAA7EAAAOxAGVKw4bAAAOd0lEQVR42t2df3BcRR3Av7lf79275HKoowhK\n",
       "j1HQQaDnlNZBGHrQVrAoPcQg0BlygA5D0ekxMDDY1pyMMDr0R+THSCrC6x860kJzIv6YVNpQxFYQ\n",
       "mhEVjU17ZWqlQtPQNiRNSM/9+X7tvh9Njmtfdqbv9na/u/feft7ufve7+00BQhSaBt6A6RYODGTr\n",
       "Wl97rdYXRC5eq03U/WFiVeu3BEzDEM255WhLWGRprZblV19cbW3lQLiG266r+7PsgxOMq+QSn2wd\n",
       "YoY7LtjPPu9va8/yqy+ugDcVH6p/Y8VHTjCudFYeP65wo2eGB65khceas+b15MX1dM6Bqwl/RHIN\n",
       "w/U5cr2yh8a1x63TwlOvepc1pNPO+91Xewhg1USeZHjg0raGC9eXwIErVsAfpUbR0or4mjp1K4sn\n",
       "8tbcb/qUNqSXOKt9D7dXhmZ44IJz9TDhUkeduFT0jHBvwzpXjDRl81lrWbzV1l6HfEob0hc4c/6C\n",
       "1VyW4YWrJR8mXImMExd5H59tGK5m2gI6j7fr1gce82s5o2+wyP6BgSJV9dC/t1iGFddaRw2RkTDh\n",
       "mlkScM1CH8WG4TqbXJ834s9bM1N+6xtDOkGJXPs/njCjBEqFZVhx/chZxW1hwvUvEHA1DwzsrDQM\n",
       "15X48vlXP8LjNw1+yHI3Z+zxbj5DOkVGCcWcwrYUqNKEM6y4os5Hm1kODy71kIgrVoak3jBct5Dr\n",
       "MR7X3tO7zQ7fvUQb8dRTqDRq8CgZDywa0twczCZ4ihxXbICEI87ROB8eXE1DIi4lA3ccj65g+/aZ\n",
       "gIstI/ZX0itGeTwyBs1VbQ5/83V4Tdt0iuvLQ6QB/olivY5VY3uFjIUkw6ZqRG523P9QeHB150Vc\n",
       "aDb+DcADnTzJjJnBkpZkn28PXo4aphCwoPG7L5EmHOLxWBFaK6sPmKuM8RjEXGcwIk2HCVLDStx9\n",
       "6C90dzYZGXbN8Bcv2Rv1cHhwzS1LcJ2PNY0mY4xvkkxkljSG69oSLC/BuqAFF9twMZUCxVsq0J6F\n",
       "81jmvyF+qLWgjLpq4USaNA3pXU9ZVPy+2UaGDZdyu0O7+lN4cD0JElyJKBpgmg2QzWWJ+l124Iqg\n",
       "Bo91woKgBRO6dTBMZngcLaQW6QauQxAbi+ruuIi0tjdLfx/hs5Acqxg3Zpu7/uG0ACwqhQbXURmu\n",
       "1NmoLdcMnsaSzJgZLGkUVwee7oegL2jBFG+WJ0gjVXm8tay9CAQX5jlKbGS474nTF04h0rEI1ibI\n",
       "EJiumm8RezScYe1dcWGEnpkLC674uAyX8gK6HND3siQzZgZLGsX1UYygVykGLRjhk9evCOwCjzfl\n",
       "knmCi1iRPgyPoOsqnX7rLoIjQqTXp1CJGO1LphoRG2afFTuuu4Vb6siEBRd/JjsuOBX9exjmwL3k\n",
       "nUax+PkL7GI4FxZacL1CLCT41Q1W0HjJV5EX3Ihrp88D2rsGUB3rnkMNraxl34i96G/ccIRTqDRe\n",
       "CbdQ4Ose5d0wyt4HnGHF9Zg4PveGBVdiTIoLh+1wqXqezmLN0G0XQ2n23vUiHuhKkUzQgirH1YIn\n",
       "s0stcWC4Irzh74J7LN9MhdxIaUWTzwoWX/yzAbtFZoXDZijarpNjYcHV2ueKawi2QovOYgqstIvh\n",
       "3Fl5C65H4AZ4nUAIVtAYDFEviGRutvcIgivFNbnHfrjQ/GYxUBkx/BPz3B5xHnibeNGEdygsuDo6\n",
       "XXH1ozkatbpWITF4FGAD/oIvNE35btGCa/mdGx9AjdInKchK0QsvaCoFP4GWtUUjTsKypZsBNvKx\n",
       "qlYbMr+ZwUzZg5h2ujwhyfDGFTkSFlwz8664fjAIuNXVrSQWQ8PUyqy6DVaW1G0sjVnfKC7l0j2n\n",
       "KaS9hYIohkvhi1kwaQxKT0F0b8mIm6Fqu6+qcO9Vqx0r6bY/RzK8calHw4LrYNUVF5lL0JgWIbEe\n",
       "bDUynoSmNRVsVo14fqOx+rUXjIBY0ASjWO5BqU5i/r0OqQr/dcslGd64tAk7LqIofsoHl68QwxVE\n",
       "LnBYlPXCpb7zLKApCafiE1hxY26/ASxrUo5LebcfdaaSpOANIBa8vH7a7V5fe7Q3LqjZcRFd9lYf\n",
       "XL5CDFcQueBGDcHukHCeMzSfNGpPe/PTdlzwHdzbeiQFc2LBaAEaFw7s9Ma1W7fh+j54zIUcl68Q\n",
       "wxVELnBYOoUjGWeyeU+xjyzBCmpwEgXaCgYubB9LZX1w+QoxXEHkAocdsnEkloVIrZaDkIZYreYy\n",
       "OmpLXMaYgg0XHjoTfqqGrxDDFUQucKjJEtGaNZKBEIdmt8lslTxjRtauGb46MPCKr2boJ8Q1wwBy\n",
       "U8IVLU5bXNFMIFxXiAdwRFx+QhxXALkp4VqpT1tc8JBcP87Zcd2BN9SRfutiRKG4qFB8xmWQ+CMZ\n",
       "aeeTWtKbjUUkxcUqO+5gbMubG++aDNftMH1xPa0HwZXUU3g2YxbMFVcWoi/YzjgQXEzoHbTWJJUm\n",
       "Z2Px+K2gbLPhInLRnRWI/JnWd/XRAqzaxVkM/l5+igmrzlcfycK38+bGu/a+xCQzNo1xxaTPtaVq\n",
       "xxWpcuVA3dNViGR68BaCExcT+jGk6ZqklfwoNnZ+2YaLyv0ByDE6XB/evEjzHniFyy3hbXlI90K8\n",
       "x7LxLsPVUpnGuJSRILigeAnLmY86ROSSGFREXEzosEJXmpFP4JO0ZN97rt0IReRm6mQ0xfXBQcvI\n",
       "2svsHkLAy+tkBv4Dlo13Ga41+jTGBT8NhOtZrPFvvIw6SkTu+0a1kpr/1fkL7LiIkDpyMbObXUjM\n",
       "a0Xak6y4iFxHAb7AHS9ac/BZSF1Shbf3lG7SoXTv628vhGUXoE6KEnD6mxflsK0cCS7DT2Iu2yRz\n",
       "18eB4VqKVNCBnTtcVzEfaJiSn5cHrouDzF2wHL+t+bOpYTNS7jlL1ruIUHp8WS/riKQ0HppusuMi\n",
       "cq1VJccNpbE+NB3dDPNS+VhlxcQChBz2wemwDXACSo9XlCreloc1d75GbiDvgeswx9VO9sK0xbVq\n",
       "42lNzc/LA1dHNgiuJjRmafpzcA3FFUt3SnBhIUh2AltVPUxK53CHs+MicokMHv+uoSPysJpVh+D6\n",
       "7pKiw+oZVbUXWgv3oApQwi9RunrkHLrZfvB3pKOap0tEXPTHMK4UO+66rq+RoOrh5+XElV56NAvq\n",
       "buPYgN+6i4VbYE5XV1c2UtYqRQkuYAPbQfpr24l6mI/rLTk7Ltaj8OF9Uh9AVwqiL86ajavRQR1C\n",
       "uJpz6c27cL04Ha6vFchs1EV7q7HxDjtEBXKI44KlzAz7sQbSqoufl9C78FEcuJo0WzE4rhF4kPYu\n",
       "+FpVXHexmb6Em3QDuuUxvH+rbPviW7eABFd0GNf7ICt/Izms2qETPaOP9K7X4Qm9Qyfpqh4tEkSH\n",
       "IT1mGwx3C8MGmSwpro6XadLGRmoJ9fDzEnCRwzNEe0rLdgzpvoQTF2pF4iqAVkDpjGjVoP32yR44\n",
       "dxxWZrE0/rjrjFP0kgSXeoSu1ajy/TIeOzcmK1p1GC2i1THYj2jvquIElI7wdGJVAw90eKQ1N97F\n",
       "DZTmjIErerTxk1Zd/LwMXNzZK4HaLU0eNSI7Ybq7JMOFGCn42NSqW53KtribnKXHTHDZr2tVCS7o\n",
       "J7MWPYaFu0tqcxU2DcKCTZtAPXx+HvbOeoAkoPTIVReV8Lb8/nE9ssO28b5I2HaiR86pIj+j8UpG\n",
       "Xfy8OC7D2asJvafL6Fsu66Z0SnDiwjVt6OoquNgMbcZBPXlmme3fdnxSl+GiQVqf2iu5p8WWiduI\n",
       "HRS2SVpzJq6nRxtNqz5+XgyX6eyVGuYdRDssKfy+DNe3VnqbeG0TPqQGge3fJv4O7rikQZWJxcyl\n",
       "jLnxPrci13QpLnWi4b2rLn5eDJfp7BU9bGxfH5OYOiZkuK5aGByXSwiI645xWWqP1XrIf1iwXqyx\n",
       "4IIt+QbTqo+fF8dltts4GwsBJE0Tf1c6GEKjcLm8gUKEabj2WylYcCVGGoyrPn5eDJfp7KUdNZSF\n",
       "I2Lh6LGTEZcstAx59q7U8fauKXpS1snPi+GyHFqcMEYUCa7YaONwrb5oKrhiI564rmeJk/WkVG+D\n",
       "IAXNl6I+fl4Ml8XZa/cG++RoX2IPNQyXmklOBVdUUJQ6LJqh0s8V4cl6Up4OQQqaSquvn5fkBBXO\n",
       "t/t5MVwWZ68nO20mUQfrvobhSpanNrULY0N31cSV4JVP2pNyOwQpaGzo+Pt5kcnWz8+Lr7tMZy9j\n",
       "falI1l1rKg3D1aJP7cSeYDqlf7aA4nqYqyaT9aRUj+3RAxQ0N3R8/bxa+sHfz4vjMp29jD9BpA6L\n",
       "bXCw3DBc8V/PmhKuLU7dONFp4EqzOeV7k/akTPfzOoJ5Ugbw8zpH1CaNR+B+XoYRSnD2okcbHOFx\n",
       "CItmCB1OO1Os18B1LUtaMmlPymQuWlTWgl9BvqETxM9LnAJFPy+P/S6JNUt7Nzy4Es6FV3SM4+KK\n",
       "xrnFSXtSNpdjmfv6wa8g39AJ4OeliWZM0c/LA1dSPNUQHQ0PrqhTk9cOcVwt56xfv/6e+/fVcpP2\n",
       "pGzFT98PfgX5YBjAzystPoKZz/28PHC1imfJE33hwaUJRplHOK5FNRb0gA6RIHhStugXkq2DwJ6U\n",
       "hsZancRAYfh5eeBqFw+BdOTCgwu+4ky42LJM5iGYQyQInpTqVVWCK7An5ZSW/Iaflweu30q0LQgR\n",
       "rm7ne9xdAOnBNX+HSJB7UvZDcE/K+gQPXFvF8eVYmHCle526U1GKK4BDJEg9KVe/km2cJ6UfLuFp\n",
       "wbQbh+NPJ+9yJmwH12Ohng6RVlwn1pPSHZcERkchVLiEyXcOHP8p3pPLk9Id1z4x6RQIFa6Uc+WF\n",
       "TTnT9NC16RxirmReDhcu+ifPrH3ijWmL6xmRxfLyJHCdyP+y5pmyI+FufZr6JnObtTXwQ5zH81/W\n",
       "/Dzgf1mjtX0A/2WNUvZLmC5BK7gn3d/WptPr/wFBAVIvnvio8QAAAABJRU5ErkJggg==\n",
       "\" style=\"display:inline;vertical-align:middle;\" /></a><br>"
      ],
      "text/plain": [
       "<IPython.core.display.HTML object>"
      ]
     },
     "metadata": {},
     "output_type": "display_data"
    }
   ],
   "source": [
    "summation_closure = Forall(\n",
    "    j, Forall(\n",
    "        (K, f, Q), Forall(\n",
    "            V, Implies(\n",
    "                Forall(b_1_to_j, InSet(f__b_1_to_j, V), \n",
    "                       condition=Q__b_1_to_j),\n",
    "                InSet(vec_summation_b1toj_fQ, V))\n",
    "                .with_wrap_after_operator(),\n",
    "            domain=VecSpaces(K))),\n",
    "    domain=NaturalPos)"
   ]
  },
  {
   "cell_type": "markdown",
   "metadata": {},
   "source": [
    "### Association and disassociation of vector addition for a vector space over a field $K$"
   ]
  },
  {
   "cell_type": "code",
   "execution_count": 9,
   "metadata": {},
   "outputs": [
    {
     "data": {
      "text/html": [
       "<strong id=\"association\"><a class=\"ProveItLink\" href=\"proofs/association/thm_proof.ipynb\">association</a> (conjecture without proof):<br></strong> <a class=\"ProveItLink\" href=\"../__pv_it/theorems/9dc1ec3cf472602a09cd569b9b3576633fb738620/theorem_expr.ipynb\"><img src=\"data:image/png;base64,iVBORw0KGgoAAAANSUhEUgAABNkAAAAzBAMAAABYlsMjAAAAMFBMVEX///8AAAAAAAAAAAAAAAAA\n",
       "AAAAAAAAAAAAAAAAAAAAAAAAAAAAAAAAAAAAAAAAAAAv3aB7AAAAD3RSTlMAq1RmmUTNIjK7EInv\n",
       "3XZ/CtNrAAAACXBIWXMAAA7EAAAOxAGVKw4bAAANOklEQVR42u1df4wcVR3/3uzszeyP211F/YOa\n",
       "60aqGEPLhhakVduVtlpLkBWMCkW6iAkB/3BLTJoCbRdCELXl1lRDj2A71YQfd9hbWiOk1XqApBQE\n",
       "V0qVHBxOaWOFw+PScl65hp7vx87Ozrw3O2/nZmhr5/vH7pvPvPm8efM+835/dwE41tfXB35aO3x+\n",
       "px3aqbR4X59WL1Ma5Ng/p97zNc12+PxO2z/bHIpH3B6lyopNTVUAtk69bwQ5dsDnpA8EFPdDtY5c\n",
       "qCFxU4fqgQiR2HwzGKpNxGZYD5VQUchKjmdmh2qbhkWK1uM3Q6khu97xTCITqs273WF9jaVqsN2e\n",
       "F8VRxx76g7XAn0rKuXuxP1Sbd3vDevhQwMl9vw3UyTrzwT+WWxzPXKCFavPckA5ajxczMaL81/xq\n",
       "J0buiQbJUXfUlTmddb09PtrGPc9z03qoNg+WtLWcg0wMSedeOMeJkXvCIIlOuqOuzCs119vjo23c\n",
       "c1JzihudCNXm1d61PlWpGKzaEjV31JX5jxC82jqdO243hGrzan+zHsq4qlu1Zx2v4Kywa8kpM47o\n",
       "DEln98EsuKCuzDeMfpRze4nRSznonkPldtTWiG4MPTl2oRaqzZupx9lXOroXtmqc5s4Ku5bcdaUY\n",
       "aiAftpIM3BKfYKmtqBtz/L/aABpIl60cysvwNZZ5bVautHHPZnQ6MXTFMDbbGzmgh2rzZh22floX\n",
       "qmMey8EVAL8p2gqOwPHdH9EENfEMyKiB3GMlQfXCSyw1RsWZpUlIogtftXJ0VXnMr6Go/Y+fK6o2\n",
       "HD1CRunSoOMzi9VCtXkcJNgajGQB4Er81NVR8kzl4eHXXxwexrEILBMJ4Xf+L8w7D5YT8hgWANhI\n",
       "vgJwgqXGaBvMRUizzFcirTLMMh5+5PHLI8ZMRivPkkp/zHkYPxGqzZv15Fi17YP4OHq5a7ZqgsDp\n",
       "gnJcrJ5IVmCgwLRsr0H0KEuNUXFmJOKVWYZ5HzmwMSexDsZhfVn4nlGTTHQWda7b4sdCtXkckpaY\n",
       "ljR+EiJjbMFROKKJagL1bhYBXJ+xauIorj8YtWFUnDmdRRVZ/HDWfnsctZEu1gJhtZHokcq6qsHE\n",
       "7bfBU6HavNmD9j6JDvGj0FE8n1UbhRuzFa4ll4VPSLfpk1ZdHcfdP0ZtBBVmTpdxn9CYqzE4UIUT\n",
       "ZZjTiLZgTpm4MuPoHUc+t9dRQcR+FarNm+2zHeOB/xaYnc+zkqAwbNRsA0SsrKLxYZ6I6dIrsvLr\n",
       "mpXkHPgFp5EmqDBzRy6Wh75E3sqBBqRPMsxohJkom7uE3JhJ9OSbeLgrt1gv/hOrNlKFn8eUOA+e\n",
       "jtqE+fxO2xeL23d4qqi4to38uLvMSoLCygO2euIV3P7mjY+mIu1+ctW/cV1pJfldjqM2goozz1gM\n",
       "5vRrY4Z450KNZd49922ANZogM4m+fglud7sKzk9tUYFR21L8fRNT4jx4OmoT5vM7bX+m207akVcb\n",
       "vW97wVH7EawWnSkl7ekjHBI+dZvM6ZIos5JXSm0wz4/WUPS1rYZWOqO2O3E6FabEefB01CbM53fa\n",
       "vph01I7MYwrOssCtbL53OQ2JrXB/RuaQcKnbZd4Aosxr7r1ba4O5W61VebsTml6hPKO2TpRCIsuU\n",
       "OA+ejtqE+fxO2xeLHGemLuvVgPL7Ezpvfm5qaqydBLYdYTE+dbvMB0GU+a9TU+0Q3w/nlFtXCukM\n",
       "o7YIUncnW+I8eDpqE+bzO21fLDXB9OROq7q3hd0YKHus1EptFXZM+uLw8AuccSEHntaYVJTP77R9\n",
       "scQkA607I7TW+Z3BQPmPtDqZLLJqWwbwAKfEObCQnW8EdB5fnL4L5dZq85p2YCZPwplp8mHt1CXe\n",
       "VWPVtgoU1L5GZ14GnX9uKnECR16vgrSPauMb7xdgo7FfOjX6JH+iJVIwqGSrgmgyCb0xovuSIce1\n",
       "lxciT3HiCts9jVZNvZkznrzZU0+tKecAHWMQWvtqG2TVFtMSeF7kHYAVWlOJU/gPqEuJZKUe7C0A\n",
       "atxSRjO9DGS+HrY1qKJVi4LqyTTVs/gQE0uZXbC8ddzW1mGmNINzekbb8x04t/Wch2rzV22STnrk\n",
       "P4dUobnEKXyhBgn0tQS/5O8CCRMbrM/BMrbUpLoFWL4mWw91YmmhDNXWcVtb0myYn+Ocfq7dp0Ry\n",
       "W8/5Gd6Snlq1cVpSKC7EwWPKLkuJU3h9AT5v+HGlc/BZSCzUYeRg6QYNSmv2jyyH2+chYSEA4anz\n",
       "dgLUTKodLF+UjMfpSvF8ZYQSS3d9W69y0u5f+IQxANw5wo59TLBn1NiYpZ48yPRTmrDEIZ0JNQ0F\n",
       "6hjNLc25cWqCnUUIuKiU05rObiXRUQLswJWQOvFF3VriBE7rCnr2j9IXvAZ5+B4sTuTl6toPlqJL\n",
       "4F+omdoLGED4CjROU4om1SyWb3saFzxdKe6+9bESIZbKuz5dZePG/6EaZfzbUg+bHRP8j3bY6E4O\n",
       "pfLM7IWJHVAHmVBT71IdJDtSaW5pzg0OZr4tcO9ln/mjeqB3y/ViTmY4arsDg6kTtw9aS5zAnRnc\n",
       "nNApZGVczapjcM1ASdHgvpk6KrB0YTVsAgQ8gvCey1BnrWJSXcPy3Ub89elK8UtZlRJLZTlVYePK\n",
       "eZQAXRRcAhsgOmeprb3D0+QxHNoEl9TX+GK5SPGqw9Y+H8ZAJiqvxMuUEIfs8TAm5Ru5pTk3xgyM\n",
       "2gL2Xsb8/nowHwr0drlezOk8R20duJsSq8AL1hInsFx7G31e0tvbixq/3gREnpl78UqEaKCOITEk\n",
       "c6k9bwACMB7dOg5SxqT6CYdvCy1JvLj83rI6sVSOV4ts3GQhlYG7yLaEZ+EgJGHAmpdnG9Pkz8GX\n",
       "1dka7cHJmcH4mK1XZwxo8LiEEuIQEw9hcq6RW5pzo+zH7U8yaO9lzO+rB3NnsFMhPC/mgSo47DhC\n",
       "nTLTic3c9RMZx12sn9GDldeTjcHrNTJEqJG6bT9s0dZrBP8pqmLUiklla0nJqzZJOvR4pThS+a5C\n",
       "iaUyXKWzcQdKsQUaYHHEJ2BTn9JY8atTYVAi2/nH4GnoIjefhmS2ZGskMRaZZyRLCEmIiYewztWj\n",
       "Rm5pzo2+3zH7kwzaexnzC3gwR3Mu7A0P5ki+1RXtoCDqxcxZlTfOlJocdE21qWSrTYzqsOt53Gpt\n",
       "j1Xj+jgoGXUS3opPwhs6BhA+C7drNZNqlFWQVMzHq3iluB869I0JShwpQCrDxk2Weq7GakMX7FXH\n",
       "FwD8Egf7Gx8YlGbh0BDKBlZbP/pE2YoVmmJRbPVD+GxnAY19hxohFM+MRbH0rY8auVUtm4yY35Rj\n",
       "u32++pNifhEPZkl3YTc9mJ9vdUU7KIh6MV+YdVBbausuuOAEqzZaFSj0h/JwryaxR4fdo7B09270\n",
       "ws/Jw+G59xAA4bMOPYHXahtU93Pqtu6S+jReKd6QjZU6LqXEG29qnk5pxI0unrMTp48u+OZFIzmQ\n",
       "yzi4oaTuxR91cDPG7ka6xmrbkFW/rpOVCBTaW49KsS9gTFm8kFSW9RCKZxJSrOdcM7dDzQ/u7/Zy\n",
       "KAarNswv4sHsqgfTg/nGQNXG82Im2+s97N3t7+1lp1s5wzqAFWZTV+HzSSTjWSdiW9pD5AJsu1KN\n",
       "IBiheC1bD5GWlJAmNL1Bb2Dw8UZoyBJPssYbWfswP7eftB0H7b2M+UU8mF31YHowP267gu/FzEcd\n",
       "1dbSi3kmgH87xbnOXXKJDVn5rsUrxVHHPqs17fteyMK19ClPfQD1IGGhX1s0GlLf2QF10h9O1Zro\n",
       "66GaEcKEZjyTkGJfTVzEv6tFGvsqB+m9jPlFPJjd9NDkwXyJ9Qq+FzMfdbx3uxez1fb5qbZVJ3ho\n",
       "Y474Yge+HF4pjoCY2sgFvCAvFHEKpT6V5581L460zmtP1jZNng3Wexnzi3gwu+mhyYP5AlsKXC9m\n",
       "jIqzt/ZiVk76qTaHGR4joHnjC8ILRvrYdBk+bO9lzO/qwdyEOrKbHsw94O7FTNA22Ft6MYfey15N\n",
       "HmTVFqT3MuYX8WB2q32aPJivs98mcG8eQJy9tRdzh9dfZlAPVc9utUXHmZY0UO9l3JKKeDC76aHJ\n",
       "g3m2/TaBe/MA4uyMF7N1AlP3qLY7oXJ2q404uzVZ0N7L2ONPxIPZVW2mB/N86xVcL2aKirO39GKm\n",
       "IysPapvmH1P8H6jNNigN2nsZ84t4MBsSF/BgvtzKw/Vipqgwe2svZtpd9aC2IdDOcrXZfgk1aO9l\n",
       "wi/gwWygAh7MB2x65noxE1SYvaUXs/dfQl0xN3eWqy1i208ZtPfyqy3pG+xis/14CVjhtY5+sDt5\n",
       "MccyXtV21o9JAX5gPQzae3leK3qTXWzdHO9nkHOcK/xgd/Jirq/QhmrzYhus+zmD9l6u8/vnwbyG\n",
       "g/vC7uTF/DKEavNsKeujCtp72Vf+G6F5j0QQxnoxh/88NC2zuW4F7b3sHz/xYE6VAr1b1ov5WyCq\n",
       "tv0+/yNtO3z7T9d/w+3Mwplpp8SDWaWbeeN92yv433DfMoIcC/8Nl2fhv+G2YQ9Rhdv+Dfd/uhZf\n",
       "2ptzWcEAAAAASUVORK5CYII=\n",
       "\" style=\"display:inline;vertical-align:middle;\" /></a><br>"
      ],
      "text/plain": [
       "<IPython.core.display.HTML object>"
      ]
     },
     "metadata": {},
     "output_type": "display_data"
    }
   ],
   "source": [
    "association = \\\n",
    "    Forall(\n",
    "        K, Forall(\n",
    "            V, Forall((i,j,k), \n",
    "                      Forall((a_1_to_i,b_1_to_j,c_1_to_k), \n",
    "                             Equals(VecAdd(a_1_to_i, b_1_to_j, c_1_to_k),\n",
    "                                    VecAdd(a_1_to_i, VecAdd(b_1_to_j), c_1_to_k)) \\\n",
    "                             .with_wrapping_at(2),\n",
    "                             domain=V),\n",
    "                      domain=Natural),\n",
    "            domain=VecSpaces(K)))"
   ]
  },
  {
   "cell_type": "code",
   "execution_count": 10,
   "metadata": {},
   "outputs": [
    {
     "data": {
      "text/html": [
       "<strong id=\"disassociation\"><a class=\"ProveItLink\" href=\"proofs/disassociation/thm_proof.ipynb\">disassociation</a> (conjecture without proof):<br></strong> <a class=\"ProveItLink\" href=\"../__pv_it/theorems/49799a1ce26a11256b0331b09f685485a7e175c20/theorem_expr.ipynb\"><img src=\"data:image/png;base64,iVBORw0KGgoAAAANSUhEUgAABOkAAAAzBAMAAAAwZUEbAAAAMFBMVEX///8AAAAAAAAAAAAAAAAA\n",
       "AAAAAAAAAAAAAAAAAAAAAAAAAAAAAAAAAAAAAAAAAAAv3aB7AAAAD3RSTlMAq1RmmUTNIjK7EInv\n",
       "3XZ/CtNrAAAACXBIWXMAAA7EAAAOxAGVKw4bAAANdElEQVR42u1df4wcVR3/3v64mf3R3VXUP6i5\n",
       "bqSKMbS90FIp6nWlVBGCrmBUKLaLkBDqH26JSVOg7UIIol65NWjoEWynmhR6xd7SGmlaqQdISqnF\n",
       "lYI2B4d7tLHC4XEpnFeuoef7Mb/fm523czNA6XyT23vzmTef9968z7yf890F4FhfXx/4aa3w+Z12\n",
       "aB8GS/b1KWrd0iDH/jX1jq9ptsLnd9r+2cZQPK3bNqqwxNRUFWDz1LtakGMv+Zz0SwHFfV+trTPU\n",
       "UOsmD6qBKJHaIiMYqk7EZloPpYCTkz7UdHYrO56ZE6puGhYtWY9fCzg9n/njjUBzu9zxTCoXqs67\n",
       "3WF9nCO1YJND/NsOcQdKh1oaxT9UV0NHA81uxnn4cThUnXd71Xq4NeDkMP9N3DM3tcTTXtACSqD5\n",
       "Xel45gIlVJ3nDnbAeryE7cP4j/s1TozcEzoJ5j/BPXNCIFGDPZvXClBodkUrKDfvC9x0H6rOg6Vt\n",
       "PeoA2yfyR05znRi5J3QSxB+f5J3ho47sK/Qm7rlmV7SCcvOedmxK4xOh6rzaW9a7GikFqzrMn6rz\n",
       "zvBRR/YndOTGQFXX7jywuyFUnVf7u/Uwhpu+VfvW8arICruqTpp5vMGQYP72juE8S89HHdlvGP24\n",
       "GnrMdkVq9GIODx91VN2+oxXrVJVj85RQdd5MPsk+2vH9sFnhdIFW2FV115cTqNN82KYtxN+/MjnB\n",
       "0vNRJ/bk/5R+NPnG0lhovUJ6Ab7B8vBRx7yvzceq5oWlq4aw2Z7Q/kaoOm/WZhvHzUDtzaOdcBXA\n",
       "70q2KiJwcu/HFDHVJZ+GGOo091lJMD9qI55n6TFqsLvpIjIJaRTlCJ5L2lKo8dgxKs4OLyP2KJnd\n",
       "RwYc712iHqrO42TC1oGkiwDfwnddHiX3NDY09MqhoSEci8AxIiX87P+VefbBciI2hqsabCSY/2sA\n",
       "p1h6jKrsJtSRvQRZlb3Hlk2kLE7mEdoCO5nZPEM6gzHn6f9EqDpv1tPJqu4AJMfRQ163NRcEzhal\n",
       "k2JtXboK/UWmT8P8L0P8BEuPUYPdrTVCgl6hDgOvt2cTuJkHEGdPY/lIRG9x57Yu+XaoOo9T2DLT\n",
       "wyZPQ3SMrTgKRxVR1aFRz2KA5Tm2hz2B2xJGFxg12N10kc2j5it5DAtvjj2bwM08gDg7GbFFq+tq\n",
       "GhN3XAdPhqrzZg/ZxyoNSJ6AttL5bMVRWF/hcFVdHj4Vua0xaa1nxA8n8RCRUR1BdXZX1VXwuJGs\n",
       "8yyyXoEaoDjLTlBxdpSTYtvxL+x3VBKx34Sq82YHbMd4oWATzCkU2IqjMGxQbJNJrLCS9mGcSDQi\n",
       "L8ak39rqGfOfA7/i9IEE1dk1qTuxt3UmCtCXQvmBK608aKq6m2UnqDA7msCmKunX8BQ51mRf+s+s\n",
       "6kjTfh5T8zx4OqoT5vM7bV8saX/TVEbVtWXkpx0VtuIoLD1om+69iPvNgvZhkmPH7lX/IW2bmYTw\n",
       "/6GTozqC6uwa6sg+c4m6DqM9zrqud3UpLDtBhdlh7/w3YP1leF1mRtH57i0uMqpbiv/fzNQ8D56O\n",
       "6oT5/E7bn+W603bkiD7+r3MXt34CqwXX62g/+4iN5EhTep1dbPcgi0alEq/X9IN9UbyO6Nc2m4o1\n",
       "GNXdiachVabmefB0VCfM53favljkhB1ZwFScZatc2njvFTQktvv/uZiNZEEzeoNdbH++G/eGnZwr\n",
       "/GDvkOs13tsQpkeqwKgOvwGTyjM1z4OnozphPr/T9sWiJ5mlT3VSK/3xFK9BSE9NjbWSwJbjfH4+\n",
       "favsw+hvDQf3hf0BOKfSvJHI5hjVRZGe29ma58HTUZ0wn99p+2KZCWakF3Bb7Cv/jUQcQVqi3Ex1\n",
       "VXYOe2ho6CBnHsmBpzWHFeXzO21fLDXJQOsCTtI//vbvD6Dnphxobo83O5kusaq7HOBBTs1zYCE7\n",
       "Xws0eHxJWvhKc9V5TTswi03CmWuxY8oHm4EZdVZ1q0BC/W581qXQ/hdTzRM4+koNIgeoRr79bhE2\n",
       "aO9xZ0Z38xdookWNKmZVEk0m1dBnaF/RZLn2ymL0SU5cYbtH743kWzjzz1s8jeRMJQdoG4PQvKtu\n",
       "gFVdQknh9ZQ3AZYpppqn8J/QkBPJSx7uLcJBUzt9OcT4utiiU8VrFiWpyZjaXXyIiSO5PXBF87jN\n",
       "rc1IaSbn9MyW10lwadWSh6oLRnWRBhm5/xIyRXPNU3ieAin07zL80L8FJExsQF3LZWypQbUSWD6T\n",
       "rQeVONIVg1rzuM0tbXTYz3JOP9vqXSKlVUv+EehhP3jVcXpYKHXh4NvSHkvNU3h9Eb6o+Z1lO+Hz\n",
       "kOpqwMhw+QYFymsOj1wBty9AAkMAwjPn7QKoG1Q7Wb74MJmfkd3oRdIIJY7c9b1GjZP29q7HtQnd\n",
       "rhF2MGyAPaPnaq3U6WFmDGPCUkcbTMg0ZVAxWlpacu3UBLvqEKoJmnlfu8wmYCdulOSJLzesNU/g\n",
       "bENCdbCNPvB1KMAPYUmqEKutfW8pugT+jbqv/YABhC9D8y6pZFDNZvl2ZLEA6G50x62PlglxpLLn\n",
       "szU2bvKfslbXvy/3sMUzwP8qx7Th5mCmwKx6GNhL8gATMo0+5QHyZiwtLS25xsGs1wXuhX1m2HIh\n",
       "1eU4qrsDg5lTtw9Ya57A7TnczdClaGlczstjcG1/WVLgvlkNVHHZ4mq4HxDwCMJ7LkWDuapBdS3L\n",
       "dxt53YbuRj+flylxpBLLVNm4sQJKgG4JXgbdEJ+71NYP4iX3BA7dDwthDWnPEp3R0tXHrGNCjEGM\n",
       "qL2arFBCHLLHw1ikoJeWllybWzCqC9gL218P7OAsI/LlL9kCR3VteBiTqMJBa80TOFZ/A30u7O3t\n",
       "RZ1ibwqiT8+/aAVCFJDHkCjSnZl9rwICMB7fPA6RnEH1Mw7fJlqjeAP7nctV4kglWSuxcdPFTA7u\n",
       "Il/O8gwMQxr6rWV5hiy504HbV+U5Ch3hxXIDyTHbqE+b+OD5CyXEISZeUd02oqWlJdc0Nm6/k0F7\n",
       "YfvqgR2grRSI018Dhzed0KDNcL4z3jaKjuMh2C/owYrl5EXl9QqZStRJW3cYNinrFYL/HDU5ctWg\n",
       "svWw5PGbJAN/vBsdrf5AosSRClzdYOP2lxOXKIBFkpyA+/sksptoepIxGCHuBmPwFMwgmc9COl+2\n",
       "dZ4Yiy7QkiWEJMTEQ1j76lGttLTk2tjwbfudDNoLW8AD25U5m3fNHh9tIc8LBFTH2f3XzpRNjsaG\n",
       "6mTyik+C6nHGc7g325GoJRvjIOXkSXg9OQmvNjCA8Nm4v6sbVKOskiKlQrKGd6O3Q1tjQ4oSR4uQ\n",
       "ybFx0+Wea7Dq0AX75fFLAH6Ng9v1DwxGZuPQICoGVt129ImKlSiaYlFs9VZ8tr2I5sqDegjFM2JR\n",
       "LHvrNq20suXlJuY79dhhoa/+sCIe2K7MKxTX7PHRFvKcFliBnpd3UF1m8x644BSrOto0SPQLA/Go\n",
       "J7WvAXtHYenevagBmFuAY/PvIQDCZx99HG/36VQPcNq6jrL8FN6N7s4nym0XU+INN5uXYfS48SVz\n",
       "d+H00QXfuXCkE2IVHOwuy/vxhwpuxNjdSN9Ydd15+ZsNsrOBQvvVqBT7EsakJV2k8VRDKJ5BSLGe\n",
       "c43SDppv3D/stVUKVnUiHtiuzE9A8KprFxjYkdf/PbxLvL23l1225UwDAZYZXWCVzxchu9F5J2Jb\n",
       "2oPkAmx7MnoQtFCynldDpIclpCmlodNrGHxSDw1a4kWs8UbWPswv7adtx0F7YYt4YLsyGx7Y4Opn\n",
       "rbtTi6lOxPtat1kA/r3BznVGi5XZkJXvOrwbHXdsmK1p33cwD9fROz71HqhBwkL/bVJoSH5zJ6ik\n",
       "P56qm+jVUF0LYUIjnkFIsa+nLuTnarHCPuJBemGLeGC7etoaHtjg5mdtuFML5dnufd3cDvipulWn\n",
       "eKi+1nyRA18n3o2OgpjqyAW8IC8UdQplPlPgnzUujroMiPO25fZ8sF7YIh7YbswmD2xw877G7tTb\n",
       "HztXVHVC3tf6evppP1XnsEqkBRRvfEF460Q+MV2G99sL29UDW4TZ8MB2874mO34F/BCJMQt5X+sP\n",
       "dOiF7dFiA6zqgvTCFvHAdmM2eWCDi/c1caceh/UV4TwLeF9r1ub1Gyfko7WzW3XxcaaHDdQLW8QD\n",
       "243Z5IENLt7XxJ36EmHVMd7XTS3b8Ki6O6F6dquOOOeZLGgvbBEPbFfVGR7Y4OJ9TdypjaUWV2Yx\n",
       "72vLTMyD6qb5Ax8fAdXZJrFBe2GLeGC7MZs8sMHF+5q4Uxu/DeHGLOh9rRodInpQ3SAoZ7nqbN8Q\n",
       "G7QXtogHtiuz4YENbt7X2J1afYNCgFnQ+1odnHj+hthl8zvPctVFbe91Bu2F7UzdInO2LMosFaRy\n",
       "C8zu3tdqY57zqrqzfg4L8CPrYdBe2I7UrTJ3gyjzmnvvVlpgdve+pqbuBoeq82Ld1vdKg/bCBj89\n",
       "sMWY/zY11Qqxu/c1tRcgVJ1ny1hvVbIKZ4bdGCh7wvUV9vAXnaZlNlezdWeE5ogHdoB23DXGd0FU\n",
       "dYd9/mXgVvgOf1h/lbg9D2eefeAe2DJ92TjZt6OKf5X4dS3IsfBXiXkW/iqxB9tKVW/7VeL/A+t8\n",
       "X9qbHV8VAAAAAElFTkSuQmCC\n",
       "\" style=\"display:inline;vertical-align:middle;\" /></a><br>"
      ],
      "text/plain": [
       "<IPython.core.display.HTML object>"
      ]
     },
     "metadata": {},
     "output_type": "display_data"
    }
   ],
   "source": [
    "disassociation = \\\n",
    "    Forall(\n",
    "        K, Forall(\n",
    "            V, Forall((i,j,k), \n",
    "                      Forall((a_1_to_i,b_1_to_j,c_1_to_k), \n",
    "                             Equals(VecAdd(a_1_to_i, VecAdd(b_1_to_j), c_1_to_k),\n",
    "                                    VecAdd(a_1_to_i, b_1_to_j, c_1_to_k)) \\\n",
    "                             .with_wrapping_at(2),\n",
    "                             domain=V),\n",
    "                      domain=Natural),\n",
    "            domain=VecSpaces(K)))"
   ]
  },
  {
   "cell_type": "markdown",
   "metadata": {},
   "source": [
    "### Commutation (permutation) theorems"
   ]
  },
  {
   "cell_type": "code",
   "execution_count": 11,
   "metadata": {},
   "outputs": [
    {
     "data": {
      "text/html": [
       "<strong id=\"binary_permutation\"><a class=\"ProveItLink\" href=\"proofs/binary_permutation/thm_proof.ipynb\">binary_permutation</a> (conjecture without proof):<br></strong> <a class=\"ProveItLink\" href=\"../__pv_it/theorems/7bd0aa88c697869d47bd523d9eca9d0f904b28e00/theorem_expr.ipynb\"><img src=\"data:image/png;base64,iVBORw0KGgoAAAANSUhEUgAAAcMAAAAzBAMAAAAZTX5AAAAAMFBMVEX///8AAAAAAAAAAAAAAAAA\n",
       "AAAAAAAAAAAAAAAAAAAAAAAAAAAAAAAAAAAAAAAAAAAv3aB7AAAAD3RSTlMAq1RmmUTNIjK7EInv\n",
       "3XZ/CtNrAAAACXBIWXMAAA7EAAAOxAGVKw4bAAAGJUlEQVRo3u2abWwURRjHn+7t3u7ey7aJiW8k\n",
       "cIkGE8V6sYryYjmtLyQEskr8QCB6iomBGLOET4jK6VeRO1+IHkZdvhgBwx20BC1IaqqJimg1GA1y\n",
       "cYsaFKQ0QINpE+o8M7PHvswljV4MHvsk/+vdzs7O/GaeeeaZTQFElti+3YZWsMYg6cnJXEsg6pOT\n",
       "pQaIJrSKxSLECDFCjBAjxAgxQowQI8QI8fJEPPXjlG6zuESmTvGa90FGrfCfIe6Z0l1GhkloihO+\n",
       "dqzRkx7hSpoUsQOvXRdGbMO/UrZJiMJWAnYTV8i2HSIfv4QuS1VWIhisLBNHvA+vPRlGlHEi41aT\n",
       "EIWtBA7oeSaBPYFdCZ3e3+MlAlvNxBFfQKcuhRE1HPh1zXJUYSt+k7NMHud0f53BsBF6DdHDS6gt\n",
       "9RXdxsQRcXSSGcFaxJHY3SxEYSt+S3F5PJGvP2UcP78MVhhwS9A6/c+yqThijAxVXBRuusjffLMQ\n",
       "ha34bSZXGDE5hJ8rg0sx75aEEeNZKo4Ih2q1gyLEVK12tNq0iCpqxW+LuNRpxx0/Ynz6MHGAXUHH\n",
       "rrolXkRWO9lB5SIuBNgiQpQLoNtNQxS14reVXCssfdyPWFmdOA8wG78urqF9684UK/EistqxPJWL\n",
       "uAZUwqzMuAfin3oRydU1/4Tnhnro9iKyVphpq9zMg7iJ9EWB/fiOKTEI8pAf8RYbvgaYFZyGjFvi\n",
       "QeS1pQEqF1G38Rv8CbDc9m39W7BrdxH3mvUmW/UzNoNWc7fgkZMviRMmUvXBcxl4Kgc5DyJvhdk0\n",
       "5Bwum7CfjKS7GD5jkkchjZdksk6Id+O43A8wAVAMhifTLcG5/YrNLa+tjVK5iJJD48ArYJj+7KYT\n",
       "o02SjMd68mPTNZshRSofd1dCAe4WIm7F+RsApZ8MmQeRt8Lsc6J7C2x+kuBHTJWgYvpn8SdQyOaw\n",
       "QoDISjyzyGsrA1QuIuS7sfCs2h9I4OIx0oREPJuQyQux56P0uxvi24SIuMnrHfCbd7fe47ayo3sv\n",
       "TuCFYduge94GE+5wK3JHrTiwIBBRz4BMenFzYC2io7ISDyKvLQ1R1RF34w6onZ/vBBCTM0kX1TGI\n",
       "WW76dBakAvSOgHHgqvi1oKpvd/fZai+BOjlsJbsdODYvC7iO2rPrka6+Ee7hrSR+0DA6GEeM3DZa\n",
       "0O6o9c3+HaZKBq6ULB/iX/ABuWtOYCx1xy3xIrLayEVUR3wW/d2YWD8QQFQ/wa8XYC3pG0tMFoMM\n",
       "8Yyc7YNF6s+HTShaRr6tmrKSObn6OPQoVdVRcSstrqVBQMp5ELEVOadhI3o2lmfZSLyj7qd0U9iF\n",
       "PZcOy/5ZvAJe5xuK13BjYCUeRF4bNxSiOmIbrgq9BAeDJ42r8eMx9E2eSm0wXySrXtlyHp4h4eIC\n",
       "bAQYUy09W7HU90dhmXbuRlDwiaf37qfxqeRBxFZSpoHDmSrIHbPL5XKGRL8T9TZfZkpM/3DN737E\n",
       "rX3Y/PcBRG3ILfFGVFYb+09UR2Quk4XTtugwtdggl2OryuVXcRyqML+r62GyJhMY4gjiIJw85TxK\n",
       "7hjsuh2WTZoSMpRpZAKtFDhMVSx9LnlaO6QyLBzHxi4mdekCUzi7YXv6UHDV+w6h/uzmOSY/YtFi\n",
       "3QohLngIO8uKlDEHY7c6TmNNms5iOquf2GCzMG3H8hTrLBjjQUelMcoqLrV3QNqew7MK7Zxnt8kF\n",
       "c20lG8jSIZRrgzgN72HyIRrv9sOsCRFikbbKM5OjNllICect2Nlukt28aBulip0e0asJ5zXYSZBK\n",
       "GG4wpqDXG04AUenp7IWNGW2JAyrba494+vUGl9jChx694UkPzzQo/yw2PPWn6XCvYx50PdG+EUge\n",
       "cOTl+6pQvPVXMHrufJpfk5bMs7CTf0zY0jdVTx/8p37mmzvK5cCrhW1cYgvDJxoezrBh1BQR+eM+\n",
       "Km8O37ZRUHW5v8/UPvYuG6VR4qs6TOKDvGDKnm+EeJzJOGr+63c3RdHJ9mJfHhBneP+nN3DqDNFh\n",
       "q9+brbbmS8ZE6Ev0qvhSQdw0r9URtQ691RH1Qss7atpOtDqi0tvV8uHmMoioEWKEeCkizm2Zf7nd\n",
       "2Qixlf7l9m9aDPDW3vgY9AAAAABJRU5ErkJggg==\n",
       "\" style=\"display:inline;vertical-align:middle;\" /></a><br>"
      ],
      "text/plain": [
       "<IPython.core.display.HTML object>"
      ]
     },
     "metadata": {},
     "output_type": "display_data"
    }
   ],
   "source": [
    "binary_permutation = Forall(\n",
    "    K, Forall(\n",
    "        V, Forall((a, b), Equals(VecAdd(a, b), VecAdd(b, a)),\n",
    "                  domain=V),\n",
    "        domain=VecSpaces(K)))"
   ]
  },
  {
   "cell_type": "code",
   "execution_count": 12,
   "metadata": {},
   "outputs": [
    {
     "data": {
      "text/html": [
       "<strong id=\"leftward_permutation\"><a class=\"ProveItLink\" href=\"proofs/leftward_permutation/thm_proof.ipynb\">leftward_permutation</a> (conjecture without proof):<br></strong> <a class=\"ProveItLink\" href=\"../__pv_it/theorems/87895959994e7ce5e6519fc1ede146426fc4be870/theorem_expr.ipynb\"><img src=\"data:image/png;base64,iVBORw0KGgoAAAANSUhEUgAABREAAAAzBAMAAADycFK2AAAAMFBMVEX///8AAAAAAAAAAAAAAAAA\n",
       "AAAAAAAAAAAAAAAAAAAAAAAAAAAAAAAAAAAAAAAAAAAv3aB7AAAAD3RSTlMAq1RmmUTNIjK7EInv\n",
       "3XZ/CtNrAAAACXBIWXMAAA7EAAAOxAGVKw4bAAANBElEQVR42u1de3BUVx3+ZR/Zu7vJJlr1D9F0\n",
       "x6J1OkJ3hNaCGtYGOohTu7bOaIvCVp1hREcXxxmmD8i2OvgKzXZap4SpcNEZbJNKVnCEAYvpA1OK\n",
       "dFYB7aQEbwpTSlPTFIiBZEo8j3vu65ybezd7dwud+/tjc+7vnv3O67vneb8sgMC6u7vBSysHz+u0\n",
       "fbtcLdbdLavtTYMC+8/UeU/TLAfP67S9t00+iSpj4Gb6Nzo1VQDYOnWRBQV2zOO0j1Up7rtidSmf\n",
       "TJXZRtb/BQn9FuhBn4nl2CzzZcRnlo3l7G4ESj4TPbBg1nz9qk85G1the+ePPhM9sPvNj3qgWNXU\n",
       "njzs3ms7L3u85DLmhufLcduZ9P00+ZuwncY0pnwmVm4nzJfbq5zcd8rw2ll92m3Ms2W57awpSf+u\n",
       "th2eX/SZWPng3Ge+buNihMVdwR12iMIbGshZZ68jMmOGOHsGR3jC0e2mGCvVFcl8p+fLZ2IF1mAZ\n",
       "jfv4B14RfnGuHaLwBgMxksDO64jMmCHOnsERLzm63RTjaVZXsl3klTmfiZXaW+baDWSry8R4ydnr\n",
       "iPw0uGSicRi3cbspBps71NtOFOubfSZWav8wX4ZwF7lm/3pRy5rdjk0YmXVa4UDqW4aS4OB1RL57\n",
       "5P2C7MVHbrLmtzMpLEZnsqxivM7mDvFm24nihM/ECk26YHm40WMf7oetsmAINbsdm/AbuShqn9+b\n",
       "QXpXx8Z5aLPXCTn2P7kXjYZ5M0bkn/DF6fJbWTEo0ciAcesgNvMTHLvkM7FCq7PMCxtRd/FUCm4F\n",
       "+F3W0oTEHdv3PtklX56DEBp095tBrpfhJR4ae90jow6oAX3xZTNGYxEhW/J7i7gYt5RZjCwEyQ5D\n",
       "oM+2Hn/jM7HSBYtlwGnIANwG8ApII2TuFhocPH54cBDHIu4QoRfuF/5u7RcATDdCo5gcYAFB3Jjk\n",
       "obG3DOQsNPHIt8mi/HpVjANkABm1rcdFOZ+JlVlnimfiQYiNGY6wWGdC3E2ZyAV3nUlDAXoz3Nj4\n",
       "CoTP8tDY6x4ZMWNlkkM+CKL8elSMCOFg2L5P7E35TKxw6ZzjRmc05wmO8k1I3UHZbRP2KrAIYEWz\n",
       "mQdnITTBswN73SM3JVEHGDuVtGZPlF+PihEsrC8yLNE8UR1bfCbO3B63XEcViJ2Fuuy1fBNSt7bj\n",
       "4tiESfhQ4F5lwsy5C3iexjGReF0jN+Xx5I3tNzGMc6jPEuTXk2Lk6k5f12/LLlJvJZ+JldlByzXe\n",
       "qNgCc9Jpni7Urb0CpS1kcXNl2Yd+I6oEjoYivy2ZQa6CRwUjJvG6Rq5LRdPQHU+bMdDCeY8gv54U\n",
       "AxpexUv1kP2ZfHyUZyLpJq/h2CByV8JE13hep+2pxaxv8Uqo4bYN/6wlzzchdUc2W3Y5juIxPc0+\n",
       "DG3bsmfN67iPNYP8KSVgIvG6R57VBvo2s7Y7vqtVFuTXm2K0L8Z7Ro0Z24oMjvFMXIL/ruLYIHJX\n",
       "wkTXeF6n7e124iWr52VtumVtQmo/hrUuN+Lo4PaEAEQMXSZyU06UPc7hTTEWhEsouXVOFWlm4gN4\n",
       "l7PAsUHkroSJrvG8TttTC3BvpcznmtD0ikFk08+X0ZC7NyA+ERKACKHLRe4QZY93eFOMFqlUFL0d\n",
       "YhlczEysR310PMmxQeSuhImu8bxO21MLXuCm3mpXE/nzpCLaf5yaGi0ngW2neZ8YulzkIVexPCrG\n",
       "Y3BVfvrO5G2eiUHE/XqeDSJ3JUx0jed12p5aYpx7uC/Lvltg3655itHcNDcvCtbOhwcHDwnWrwJ3\n",
       "RWtnt3hep+2pxSc41/orgof1X++reZqnp7v5NwETlwJsFrBB4HZl17KAIsKL0eckPz0TZ5p21S00\n",
       "AVemhU7Jl1eGBgVMXAORZjRBvfpmqH/ewAbiDh4vQuAg5c1XLmZgI3t3PjGyR7xZFMwwqJCZXTSZ\n",
       "uKKtOD/PqLruS5ngM4K4rm2DNkJK3xUs03jfX/OioN7zGWaDxhoAqBsF3zyx4wImRuU43vd5E2C5\n",
       "bGADdf8FTWIR5aShrgygATPBhv6lEBJzZZsGFS6a2KUmY5gF40sMHGjeC8umjzu91ekpzRLc5n3t\n",
       "wqA+bVf5Rkqt1oDPxOozMaCQ1cHDkMgY2UDd18sQR38W407hLSBhYn3q/jNnS3So1cDjWemAgQOt\n",
       "IShOH3d6a9D7tRcEt3nfGWFQX5eofSwptVoDV/jofNmZaHSGbCsOnovsNbGButsz8BmmF2xKwSch\n",
       "3qrA8FDubhly9xwZXgb3zUekQw7kT1yzC6CkQ+3k8cJkL4Gexi+IDFPgwINfU4qCtHtad7MF6q5h\n",
       "fh2mOztHPsxG4ktD3HzI4IufVAjuD9g9Q9CA+xqdN9BS0xpgAON8B+qzysZy5a5YYCfuvKTxzylm\n",
       "NhB3kxJB7fEk7RBKkIZvQVs8HSque2cJ+gq8hoa+fsAO5F+O1pGRrA41m8fb0YRJQU/jW370VI4A\n",
       "B/J7P17k48b+LbF2/0Ouky+W7vyvfIr1ZgOJNNfD6b5jUh/BZfNAQ9CEmyevM9NS0xpgWHx0X3lv\n",
       "Zyumu/mMiIn343E2MXlfn5kNxF3fjIcmun8eGZOS0ijc2ZuLyPDQ1Qpq1qbMWngEkOMJ5O+8GU0O\n",
       "CzrUnTzevXNwiJ7Gv5SUKHAgH0oU+LihNEqAnncuhg4Iz11iLgt2QhSHHoEb4R7S70VTweztp8xz\n",
       "TOyDEHkCCrE8wR1VcUnQGn8xdNKniJaa1gBbv3BMrLLynrOqSvFrpbxHdl7ExDo8HYoW4JCZDcQd\n",
       "Kr2BPm/s6upCA2pXHILPzbthJfLIII0iojSkEvtPAHJgf3jrGASadahfCPC20NbFB/jnl6rAgXys\n",
       "mOXjNmQSzfDgAL48AEPQAL3mshzQjg1egC9Ic2Q6Yww198VGLbNItrgiaySMW1BxSdAa/wCeO7Zp\n",
       "paY1wHg3Zq3R7bXuaaoqxa+R8h49DJMiJoI6CdQFlPqbWcExjPorerFyBXkhvF0my5US6ROPwBa5\n",
       "XSb+X6KuSSroUJbRmWRggiwu8Gl8sPDNCAUO5OF2hY/bm4sulAEzJjYOj3RHtJNTFQo7A0T2MQrP\n",
       "QiPJfBM0JHOSeRMX+4LzWbIE9w2KS4OW+Ah3SzesWq+opaY1wB73c9YqrbbynovmQoofTjkkZSfF\n",
       "r5nyXvgGhGpozqWLynUmSqQXjVLoxhfxSLgjWowpYxBplibgTGwCTijYgfyz8VhZ0qFGeHYFsulY\n",
       "EZ/G90CdsjFOgYMZSDTzcRtynXdgxqAv9EtjCwF+jYM92gd2Bmbj0AAqBmZiD/pExYpmDLGob+12\n",
       "fLc+A8UejPsTwkQWjGYsuBcWwvh1BbXU0nluUDFaH1fJnuqduWhupPg2OXCW4tdMea++SiJiYmLr\n",
       "XvjUJM9E2ndE6D+vDKBOPb5fgX0jsGTfPtRBzE3DqXkbiAP5Z5/cjc++NajHBH1iS056Fp/GdySj\n",
       "ubqbKPDGVcYtIS1uuG3uLpw++sJXPz2cglAeBztyUj/+UJ2bsO+niPOYiR1J6csKOaFBoX41KvV9\n",
       "Fvsiba1yR5LhAgsu5XGlt2Wt1APGGvyXtUazNWaiGym+IxPtpPg1U96rB/gzeGe7p6uL32qW+gRf\n",
       "Xa4PcwUxXoCcxiftgC1pD5AvYNub0ILAQrFSUg2R0ZmAxmVFg2c++KAWSupPGA3i+FbcxO6BnLDU\n",
       "H7FcV1t5r+njWTQ3UnxHJoql+DVU3qtHBF6pB4QiwlCOD5nx7sKn8WHbjtuc9kOHknAXreypd0AN\n",
       "EhT6Z4tMQ9KbO0EF/eFUyQCvhkospF5jXDWI41txQ7ldSWHuFlnyXW3lvaaP13QiLqT4TkwUS/Gr\n",
       "pbwXH0YUvGTimkmRV9sfv8EGL4VP44PgjonkC6KgKBS0CyU+lmY+Q8LB6XGF1mkhaLWV95o+nkVz\n",
       "I8V3YqJYil9T5X274iUTbdbnLCDPDK8aiqrAB7xCqrXynurjDdEcpfgGr21SYim+r7yvPhO9s1Af\n",
       "z8RqKu8PWqO5keI79Yl2UvwaKu8/CjNkonSy6DORVO4YNzpXU3mv6+NZNDdSfCcm2knxq6O8F9qM\n",
       "/0PTA1DwmUjsqPmy2sp7TR/PormR4jsyUSTFr6nyPjjj/1pX4Y/hvIeYaFk8V1t5r+njWTQ3Unxt\n",
       "RZ01pgcOUvxaKu8bZ/yfPAdA9plI50Hm2q228l7Tx7NobqT42sI7bUwPHKT4tVTez/y/Gy+fl/KZ\n",
       "aBxXNKuF8p6L5iDFd9zZpmO0UIpfG+X9wzBTJvprZ82+Z76shfKei+YgxXd8A4KYWIpfE+U9Oyb3\n",
       "mViJdZjf2a2B8p6zKkrxa6O8b0z6TKzcEuYqu2KU95xVXYpvr7z3fy3NE7NIBddfmTysgRTftnsP\n",
       "Z10z8YjHv/ZdDt6Ry/2XxuuT8B6wd1OKv4EmHeveUcC/NH6GBQXm/9L4dOb/0nhlFlNVBZZfGv8/\n",
       "EbLEalo6H9IAAAAASUVORK5CYII=\n",
       "\" style=\"display:inline;vertical-align:middle;\" /></a><br>"
      ],
      "text/plain": [
       "<IPython.core.display.HTML object>"
      ]
     },
     "metadata": {},
     "output_type": "display_data"
    }
   ],
   "source": [
    "leftward_permutation = Forall(\n",
    "    K, Forall(\n",
    "        V, Forall((i, j, k),\n",
    "                  Forall((a_1_to_i, b_1_to_j, c, d_1_to_k),\n",
    "                         Equals(VecAdd(a_1_to_i, b_1_to_j, c, d_1_to_k),\n",
    "                                VecAdd(a_1_to_i, c, b_1_to_j, d_1_to_k))\n",
    "                         .with_wrap_after_operator(),\n",
    "                         domain=V),\n",
    "                  domain=Natural),\n",
    "        domain=VecSpaces(K)))"
   ]
  },
  {
   "cell_type": "code",
   "execution_count": 13,
   "metadata": {},
   "outputs": [
    {
     "data": {
      "text/html": [
       "<strong id=\"rightward_permutation\"><a class=\"ProveItLink\" href=\"proofs/rightward_permutation/thm_proof.ipynb\">rightward_permutation</a> (conjecture without proof):<br></strong> <a class=\"ProveItLink\" href=\"../__pv_it/theorems/3546c6e95728a0db8f91f3dd8116b3597a17e7e80/theorem_expr.ipynb\"><img src=\"data:image/png;base64,iVBORw0KGgoAAAANSUhEUgAABREAAAAzBAMAAADycFK2AAAAMFBMVEX///8AAAAAAAAAAAAAAAAA\n",
       "AAAAAAAAAAAAAAAAAAAAAAAAAAAAAAAAAAAAAAAAAAAv3aB7AAAAD3RSTlMAq1RmmUTNIjK7EInv\n",
       "3XZ/CtNrAAAACXBIWXMAAA7EAAAOxAGVKw4bAAANDUlEQVR42u1dfYwUZxl/bnf2e2/vTNU/xBwb\n",
       "S61pesdFaC2ox1qgoZjGtTVqQWFra0jQ2MU0IS0FttXg18GtQVOuURg0QXpXuQ0YIaDX6wc5ESFr\n",
       "AW2uPVwKKYVrr+fR8+iRcr4fMzvzzvvOMrszu8eRef6YfeeZd3/PvO/85v2a+e0CCKyrqwuctHLw\n",
       "nI7t2vVq4a4uWbneNCmw/0y+72jMcvCcju28bXNJZM+eo6wLTU5mAXZMfqAmBXbK4dCnqpR3Sqyu\n",
       "1eWSPQsOKAkvod88LekysRybwe4GXGaZWNr0SLPLRAfMm2L333QpZ2IrTI9EGl0m2rcn2Vvdk6vu\n",
       "kOpYTbvN7ydE7k2vVIQSMx/GnHCZaN9Os7u7qhzukZoWriEudI9WhrLaNMftsstE251zH7u/kMvh\n",
       "EzcFPrMW4oGS3tGS2cSgpqHEB3TIK2VRXt9EecVQUeaa1qI/4TLRrkUNvXEfl8NTEH7RxA3QUsqr\n",
       "kaDFOqhpKPEBHfJfhXkj+fKKoaJEZbNa9I27TLRr77G160lVl4kaCWrCxEeEef2J8oqhovjNB4oP\n",
       "uUy0a/9kdyXcRK7p3SC63CZus0sYmHG+wHn9TWfihivdezbDg0aG7yqHiXoM3Qm8PSosRke8rGIU\n",
       "UdQpssBmyy4Tbc4uLxsGPOi29/XDDpm/ViZu00v4rXQIdcV/YL09q8PjbLb1cSnLgQZehXvLYCLF\n",
       "yAhPwJli0CaPdBj3DWIz3ME9BZeJ9qzOMC6sR83F861wH8DvU4ZrRdzhQx+RrV3C8Msgoa64l/Wi\n",
       "tuM4e6Vfh2ghfKchVn0OjlsIpR7AGACv8SeQAg4aFeOeMouRAi9ZYfD0mdZjKO8y0eaExdDhRJMA\n",
       "X8GXNjhM6lYaHHzj2OAgzkXcEqGX3s0aajD+QRsMaQTzyei9B+AKmw03OFveNcZCPLlWKO2ANGF+\n",
       "Ajx0RcU4TDqQEfMliHGXifaso5Vn4hEIj6EGIG9oTIi7IRm4bK0xiWahJ8l5XwffqDEbaI/LtFhg\n",
       "JZRyIJotcQLNThQjQDjoM28Tw5dcJtqcOqe53jl8FbwjPBOp2ytbvYRo5LQAYEUj6x0tNmAt+gFW\n",
       "MxcLrIRSDhCM8Lm46AQE0BUUw5vdkFOrRDhOhBddJtqz3xjHOwUIj0Jd6laeidRdXIe55iWMw8c9\n",
       "TxQmWO9lPE7TOxrQbpJruFAL47MQSjlAMKTiApT+BNIcEyspRrru/G39puwi9luXifbsiGEfL1Rs\n",
       "h+ZEgu+dqRs2s0P98P/UTU+KuYShguekFPhdnr2wN8GvWAea9EYyHBPRxPkAF4pEYEIpBwhGVyQB\n",
       "/AnwvbO4GDw2gxJ9E8/MpRLP5F/gmUi6g5s5NojcdphoGc/p2I5a2PgWbxAxZ+fQT5oyPBOpO/Cs\n",
       "wX1S3dQn2Eln04E1b+M2lvHu/FOrYZXk0JyLPF0i+9pkPhSJoA+lHiAYfgMyPQEO2qQYHDaDsnER\n",
       "XiKqT5rX5IIkx8TF+HMVxwaR2w4TLeM5HdvZ5cSrRs9rxZ4vL1xxewzWWlyIo03NbpGXczSLYl07\n",
       "FHOgIS0M1exEMeb58gh9fampX4Fj4lN4YTTLsUHktsNEy3hOx3bUPNxbKXM5JjLvCAS2/XSpwK03\n",
       "5tWGT0siL+doFsSyEIo50C5EFkKXXYymYD4nejtEd8slOCb60QAgEufYIHLbYaJlPKdjO2rey9wS\n",
       "rdKyBP58RdRaRCcnR8oJsPO8lVzrHu21H+qMdeiysZ+BmzKlG5OGRo6JXkRyP88GkdsOEy3jOR3b\n",
       "UYuNcyPH67LttmIPVztAKF2KiVl+7nxscPCoYP4qcNuaO1vFczq2oxaZ4FwbpicP/d/sq3aIks17\n",
       "NMUzcQnAswI2CNyW7FY1URDhhel9kinNxEpjV92kCbhBTDonT2n8+jzPxDUQQH22b+bd4H9Fxwbi\n",
       "9r6RA88RypuvfpCEzeq787HhA+LFIm9ShZJYdtEwkUJxxvlFlarrv5z0vijIa9k2ldtDvpARJbWW\n",
       "Tzca1NcAQN0IuOYME/t4JobkCF7beQdguaxjA3X/BY3FEeWCZzqTgDrMmNr1LwFJzJWdRShfjmGX\n",
       "EkbXPuNdDOxpPAhLS+ctbXXlqpo2CpPaTFHhGym1UgMuE6vPRE+BzA5+CbGkng3UPVuGCPpYhBuF\n",
       "94CkifUp68+cLdagVgOPZ6QDBva0SZArnbe0RTNlVsMFYVKblyhtLCm1UgM3Wu885UwU9M6QasPJ\n",
       "S4GDDBuoe2MSPqfqBRta4TMQaSvA0Jn0QzKkHz8xtBTWzUWkQw7kj928DyCvQe3l8Xxk6YA+fJ8X\n",
       "GKLAnqe/UcgJYne37VcnqPuG+HmY5uwY/gT+6G0rdq9n+RUVzdfd9gPgkzrct2hOWmpaAyrION+A\n",
       "uqwysXS5MxbYixuv4PgXCiwbiLuhEEDX4znaIOQhAd+BhZGElFv/4WL0FXgLZkA/YAfyL0fzyEBK\n",
       "g5rF4+1pwAMA+vC96YfPpwmwJ3PwlhyfN/zvoHrd/5ju4IulOd+Vz+G7LFlcqz0V5CeGRR/CVceB\n",
       "uiSDmyFvQNNS0xpQW0s+u6u8N7MVJZnYKGDik9gZu7Kuj2UDcfsbcddE188DY8F4cAQe7EkHZNgy\n",
       "s4AubUNyLWwF5NiN/B13o8FhVoN6kMd7gqzg04fvx+NBCuzJSLEsn1dKoAD0eeciaAdfy2K2LNgJ\n",
       "IZzaCvhF43thNzxORrpSNpy5/xw70sQ+kMh9kECFoLgkacy5CDroXURLTWtAnb9wTKyy8r56JtL0\n",
       "10x5j27whICJdXg4FMrCUZYNxC3lL6LtnZ2dnahD7YyA9+U5d6xEHhmCI4go0dZY72lADuz37RgD\n",
       "T6MG9TMB3nZ6ddE5Bt5fogB7MuFcis8bTcYa4WnyYz6H4QxEoYcty+HiU4K/wZfIPgSbZXUu1Bce\n",
       "4edHSgrxnuKSpDHnYTx2XFgsNa0BlXdjxhrdNW2bLJGmv1bKe4CeHJi8FYYGgZqAUnszyzuGUX9B\n",
       "d1auIC+Eb5TJdCVP2sQTsF3eKBP/z1HTFMxqUIbemXSHE2RygR++e7PfDlBgTwbuL/B5e9Kh+TJg\n",
       "xoTHYWtXQHtQSqGw00MeTY3AS2iLu/J6WYVPGzpoEnKugnuR4tKkISfC3d4FqzYUlFLTGlBv90vG\n",
       "Gq228t4ChoOa/lop74VvQKhH0jpRucbEIHkNKkSh6/+Oe8I9oVy4MAaBxuAEXAhPwOkCdiD/LNxX\n",
       "5jWoYZ5dnlQinMMP37uhrrA5QoG9SYg18nmj6Y4HMGPQF/qDY/MBfo2T3cUNdnpm4dSAN4u230Vz\n",
       "XMzEbvAn0Vw8lNRlp761u/BRhPsjwkQ1iXIWUQnu5fkwfltWKXWQeRGM+21HfkDqqN7ZCoaDmv5a\n",
       "Ke8BZsdNmBjbcRBuv8IzkbYdAfrjlR7Ut0d6C3BoGBYfOoQaiJYEnJuziTiQf9bZ/fjZdxHqGUGb\n",
       "2JQOvoQfvrfHQ+m6uyjw5lX6JaFiXt/Cln04PvrC1z471ApSBifb08F+vFGc27Dvx8N4+9ici4SJ\n",
       "7fHAwjYZP6fRsiu+z+OjKm4xuQQnKWq/ghv8r1ws9YC+Av9lZEFqujJRqOmvmfKeyjAqeGe7u7OT\n",
       "X2oWTFABlmvdXFaM5yEP3+NmwIbYA+QL2A7GiklQU+F8XEnRLemdCXRELuiz03AfK6YIv2iS5Iyz\n",
       "uLH9A2lhqT9p2K+28t5EUm9NaC8U65tr+mupvIeZAM6pB4QiQinNp1i8Zfjhu8+04WZjbzkah2W0\n",
       "5iY/BCVJUOjHdllJkW3wnb2gQD86mddlV8LliymMqyRxTu10linnvk88dl9gOO9qK+/FknqLQntW\n",
       "rJ9hvbymv0rKe7EdcZKJa66IvMX18TtM8Frxw3cvWGMi+YIoaUxp+15BduKLfSrBHBUmr/HTxR0G\n",
       "glZbeY8l9Ty0RaG9XqzPCe05TX9NlfeBq04yUWxhNSFXhlc9RZXno/Yxaq28x5J6AbQM5SALhfa8\n",
       "pt9V3teKiU6Y1MczsZrKe9KJCaChPGSBV6Tpr53yvq7SXyMJns25TCSVO8b1ztVU3hNJvQgaykMW\n",
       "CO1Fmv6qKO/Fi9+FCpn4FGRdJhI7ye5WW3lPJPVcm2hRaK8X63NCe07TX1PlPZ35VcBEm3+GcwMx\n",
       "0TB5rrbynkjqOWiLQnu9WJ8T2nOa/poq7+mPk1TAxAGQXSbScRBbu9VW3hNJPQdtUWjPiPWNQntO\n",
       "019L5X3lv268fE6ry0RaeYZ3ZWuhvBdDl4lsIrSHKVHehxorZaI7dy7a99jdWijvhdDlIpsI7WFK\n",
       "lPfKOxIuE+1YO/vObg2U92JoZ4T2nNVGef8quEy0bTG2yqaN8v7hmkc0V967/5bmiBn+QXJ6KO9r\n",
       "ILTnzFx5/3WwysQTDv/bdzl4J673fxr3x2H62VQL7dkFB/oyd7hrTxb/0/gFNSkw95/GS5n7T+M2\n",
       "bRe9Kwz/NP5/W+Cbi+zcx1UAAAAASUVORK5CYII=\n",
       "\" style=\"display:inline;vertical-align:middle;\" /></a><br>"
      ],
      "text/plain": [
       "<IPython.core.display.HTML object>"
      ]
     },
     "metadata": {},
     "output_type": "display_data"
    }
   ],
   "source": [
    "rightward_permutation = Forall(\n",
    "    K, Forall(\n",
    "        V, Forall((i, j, k),\n",
    "                  Forall((a_1_to_i, b, c_1_to_j, d_1_to_k),\n",
    "                         Equals(VecAdd(a_1_to_i, b, c_1_to_j, d_1_to_k),\n",
    "                                VecAdd(a_1_to_i, c_1_to_j, b, d_1_to_k))\n",
    "                         .with_wrap_after_operator(),\n",
    "                         domain=V),\n",
    "                  domain=Natural),\n",
    "        domain=VecSpaces(K)))"
   ]
  },
  {
   "cell_type": "markdown",
   "metadata": {},
   "source": [
    "### Vector summations and number reductions"
   ]
  },
  {
   "cell_type": "code",
   "execution_count": 14,
   "metadata": {},
   "outputs": [
    {
     "data": {
      "text/html": [
       "<strong id=\"vec_sum_of_constant_vec\"><a class=\"ProveItLink\" href=\"proofs/vec_sum_of_constant_vec/thm_proof.ipynb\">vec_sum_of_constant_vec</a> (conjecture without proof):<br></strong> <a class=\"ProveItLink\" href=\"../__pv_it/theorems/8c078a4699d89be671663684f1f657531533a3bf0/theorem_expr.ipynb\"><img src=\"data:image/png;base64,iVBORw0KGgoAAAANSUhEUgAAAtwAAABMBAMAAACsfn0wAAAAMFBMVEX///8AAAAAAAAAAAAAAAAA\n",
       "AAAAAAAAAAAAAAAAAAAAAAAAAAAAAAAAAAAAAAAAAAAv3aB7AAAAD3RSTlMAq1RmmUTNIjK7EInv\n",
       "3XZ/CtNrAAAACXBIWXMAAA7EAAAOxAGVKw4bAAAL00lEQVR42uWde4xUVxnAv507jzt3nsT+YWPD\n",
       "jpa0Na4wZkorxpa1FUNVwlj/0AbLDqI1EpsdNI1BirutSZMqdLc2DR2awtVqFNvALdRHwZRtqGmE\n",
       "tjvSVEntwmzYaFoMuwWWxy70es59ncc9t7PMsId4Pcnhfpx79nzn/M653z2Pb2YABEE1TTMPrYcB\n",
       "03wPLmeYcYW+7RPYsEGH2Q+ekgyqNrocNc0JchG0brpUKreDe3dp4eXFPcMKRfO8wIVUXgJuT4lS\n",
       "KnWiS6n0qQlyEbTubHv6BqqXuQEzrVCXzgt82C8BN61ksc19gr6EBbe2nxd8oacqATelJMy4Oyq8\n",
       "4M8yKAE3pSTMuAfKvOALiZMScFNKwoz7Hp/gD0/JMN5P/T/gjkzyAtzS8NWtIQE3URJi3PE6L0Da\n",
       "Z1WSQxJwEyUhxu2NKTK4+vyPgAzjTZSEGHenzguwKHGcz3VGhvE+E37c2nleAJj7/Wf5unT2S8Dt\n",
       "KQkvbuUkLwC8XlB9axBDxkLHCD3u5BQvQOL0Ul+2nIx3packvLh31nkBlMG7E75eOSdjanIu9LgX\n",
       "G7wAHY1NKT5bdloCbk9JeHF3lnkBktWOT/vKkjE18ZSEF/ewTxAHU5fA21USWtzaRV4ICL1lCbhd\n",
       "JaHFHTnPCwFhuYxdE1dJaHFHp3kh6JUqY8vbVRJa3PGTvBBUOxkTb1dJaHGnz/FC0Px8QgJuV0lo\n",
       "ceemGCFuUoGx1jkZ6xxXSWhx900wQsR0GvybldeYjPnIyNiCdZWEFveCOit0kvngLQzg+PsScLtK\n",
       "Qot7vMIKGcrv6g46Y4eMVbyrJLS49w2ygmqeIpNEukJRoUNdlYoQlMEXEkEJrpLQ4u7Mc8K4SapR\n",
       "pDKmRJsm2QKJ4rBSlBhrBCS4SnjcVt2u9beuw3rfFFvGLSq3LdzNKrStmxOSZl2YMSVa5H+CxO2v\n",
       "CSqwBbI+1Zt0gGN84jFWCY97Cb5+x9+6KF70x6st4xaV2xbuZhXq7eYEbfi0MGP2gmDDpUIifEvw\n",
       "Nyh9DfcnV/Ui3HGdf0fqjBIe9wPY4Az6W6fi4bmudWMiKrct3M0qdNTghR5TaBkUU7ADUCQRAiaK\n",
       "NzrXr3ovZ0RW6eZL72aU8Lhxb6QKAlOJO3NX67hF5bZnu5tUaNjghZR5YKa401SMTQUsW52BPJ/G\n",
       "DT4VBz4Qt4L6My5qXQnFSuu4ReW2h7tJhYYbvAC9wpOEiAD3dVRMBeypxIsi3Kv5bKsZJb6ZyWsj\n",
       "IwdFrUuPjLxttI5bVG57uJtUaLjIC/CsSeXfsRsyhSDcX6JiPB95nrPIO0aBeMmzuJ8jxvx4EQ65\n",
       "CYG4lwJsEbUu2g9JvQ3cgnLbw92kQmaRF8hCHgejC9IWsJhDIjpihbw7JN24s/ix+7lZSHcaJSgV\n",
       "Ee6byIwnMgQvuQmxINxrIYE0xjpvg/jLdOtQ6lr8n35h46LOtT8Qt13upYfrXaHB4XYr5C3N0cPT\n",
       "9QTBXeAFgOUXvP5RC1+AiGGvf/yddoiKC+4rPMROgLLVHCozMiTC3eXlejBawfPILqCV+HAn9RSe\n",
       "Yv0HYIVbDe0z+N8t8Ht8OQy0I+k1T97xvDWpdf5/2Pr341XG1/RpXJBVroIe/8hf7T75yvkybDri\n",
       "tuDEn8SGQSm7XR+lJl10hXB45OrHLRu7nuQp6byAF/JerTR4HSG3pJJf61+o+GX7NFm71xr8/dbf\n",
       "LkBlqpjZspGRV0dG/kZwD2BpJx74eroBDzoJnpIf2GvNoneJNKw32qOQLbOLuPnkxWQ7kuI2/gP2\n",
       "vEvjtmk3WF9Ta3Tb5f4ZKUFc1dFaGQ7iceJkWRr0aaVfeF0fMyCoQlHsrRNBMwiqy8wyLyDV1IoG\n",
       "Zc9C0Oimcf/98/5Hdhm2D8LR/Q2rW63ZH+qThpMQPLqhcisWTyX2cK2LK97Q6PPaWFSvL/K4FxWB\n",
       "9TW1F/FWuagK2NPDasE4gOf1MeSsO31hCen6NaIKrcynDHvplpgEhXroRcYk+wpl/uqOdpcEbbsp\n",
       "Y6KdjPk3xP+J+6suwv1Jpk8MNyEY9641VoM+2+Bal7oO/YU2hitvOZLay9Oo/YzbuK2771jNo31N\n",
       "bdxWuX1luBmcBXCuCDdA6tYGHB+trtKhuu6N41+E9TcisigBpWev3Q1QJ12/S1AhrTEVyWv28ul9\n",
       "51ENxt1DjdNk3nktqIKZyVYSlSntZJbfeML++cqgCPcikutRiFTdBDXoVQn34/7NTq8f4lqXeAnT\n",
       "jeAHGDuSOm28+QYKN7670W4d7Wtq47bKzTWwwdrujq9u+CbcnuqOGhsuLsFq/gUfgVcAJ6D0FfBj\n",
       "SFRI188TVCjxyzoYMdsUrqJtiWgiqNLrw1Ql0WAmDXR4jsSOinaOd72yOEUNDve+qjN1dMIfUP3d\n",
       "hMCZCXTgIZAchIP8BtyHUfxdCpsl7Ehqt1FrGBRufDfypPXY0L6mNm6r3Hg+5a17E5NqAb1v7tpZ\n",
       "TejwSGdDHYJc+YfwGKCE36L0gduQwR4kXX+XqEIdhlpWvlur/Rw9vFm9ybyb2a/7nPP2EuHeRGKy\n",
       "AGPv8rvXeKhlyizuOcOrkKY3KXP1Iaz5zSa4wXnQx3XRfideS1mOpHYbUyld04ntxndjmDfja0pt\n",
       "wEbruOo31Wo19BDUUqDsLy3swa9x9KJHuNPF7ItHACXg9Ni2SYjkSdc/LNqATZezoNpdvvhOZs+k\n",
       "yAuivaYA3Jl+EkXrd9xvG4Ab3dYQ4ncdnYQmuBGhtCHCnas6jqR2G+/8CaQo3PguqFdVWV9TCrcy\n",
       "iW3NzxxTutKaTfXp1nuybo3uN2Cr3qdb6T9FSwR1kHT9PBHuTP997vppgNke6m3wQlK8QxYR7Aji\n",
       "jSU3+k9mCotxdW7nt6jcvS0QJEQufBDu7LY90DUtwr0RnnEcSa02Gt1wNzUz2Wj36Byd8TWlcKvW\n",
       "JqizGswcAGQ6diQNrTGJVi3qFLyjTcGRBk5A6fNwqXXS9SdEuGO7UXvWWYMww0zothm8sIzcp/fK\n",
       "FNF+92Yq+lZthUOB25vrAhKUi62d5oyid6HtSIrbqMyZ+8IqCveoe2TE+JrSpzlvWfftxV8EjZ3U\n",
       "iw3YewKW7N0L6qn53TBWeshKQOnzjv0Rt9fr+s2BpznaC7XHfac53ZygkFmgQuPOijautlPRt4Ie\n",
       "w1Y7Kdxq3xyQkD3TGu7V3tBg2pikt7+Ei3gmPFOr+R0hVdHW2wrCdDAQtygsz3MCNQvsYk5zRD6E\n",
       "eNbiRnH4t/CoohqQ4Cq5NNzxrw9BTLQvlHTvzgy3WI1IOznFpc5zWzkapj4p/SvmWCd6GmY/uEou\n",
       "DXd0TAcFgnDju/AwmnXUqq3gXiv0QPAWtwvhknAvrrCCNwtMfNRklolJGX4mycvrZ5JougHbatBc\n",
       "Qb803D1DrNB7jxXufds02TPiuAwvqnjYvag4p7Uo7SPIzNbSMnwE01fUR1A9Zsw27txZXgjKOCUB\n",
       "t6vkyuB+AAZnG3dmkheCHoMhCbhdJVcG9xOzb0w6TvFCkJGvSMDtKrkyuN8CfbZxZ0/zQkAYl/Ep\n",
       "bVfJlcG9olScbdyxM7wQEDoLEnC7SsL7QT+TEzRSC2af76guAberJLwfYz1aZYUUWY8fprvlggTa\n",
       "npLw4t5X5AVhiLwnAbenJLy4e/K8IJ7ByFhUekrCizs9wQixUe/JHiuIss3qonIi9Lij5xhhR06P\n",
       "4t2zx5zjba9yMr5111MSXtyxaUb4kecBYh9vezNiGfNAT0mIv2ntVVbY6t2I0+/O70mgTZSEGPd4\n",
       "mRa0qX7HmNgH2G5RMj7mR5SEGHcuTwuRimdCNtJzBhn7gURJiHGnpmhBm+vVYpTKtFPGm5IoCTFu\n",
       "bZoXnEAfYI/L+L50oiTMXyjt+YGN09si7AH2yzLelERJmHFnDF6wpuFjFPysDNNNKQkz7shZXvBb\n",
       "1aIE3JSSMOMm3+xwR1COq2XYEkpJqHFnirzArzwPSKBNK5kR7v/VX4VSD/AC3x8yvkPQUzLDX4XS\n",
       "Su39KtTTpcv8q1AzrtDXfAIbfi3DlnhKFFRtwD8HZR0d4st/AV1jGg+VbXrzAAAAAElFTkSuQmCC\n",
       "\" style=\"display:inline;vertical-align:middle;\" /></a><br>"
      ],
      "text/plain": [
       "<IPython.core.display.HTML object>"
      ]
     },
     "metadata": {},
     "output_type": "display_data"
    }
   ],
   "source": [
    "# this may be problematic --- do we know that j, k \\in K?\n",
    "# would there be some other situation possible?\n",
    "# does this mean that Integer is a subset of K?\n",
    "vec_sum_of_constant_vec = (\n",
    "    Forall(K,\n",
    "    Forall((j, k),\n",
    "    Forall(V,\n",
    "    Forall(v,\n",
    "          Equals(VecSum(i, v, domain=Interval(j, k)),\n",
    "                         ScalarMult(Add(subtract(k, j), one), v)\n",
    "        ),\n",
    "    domain = V),\n",
    "    domain = VecSpaces(K)),\n",
    "    domain=Integer,\n",
    "    conditions=[LessEq(j, k)])))"
   ]
  },
  {
   "cell_type": "code",
   "execution_count": 15,
   "metadata": {},
   "outputs": [
    {
     "data": {
      "text/html": [
       "<strong id=\"number_add_reduction\"><a class=\"ProveItLink\" href=\"proofs/number_add_reduction/thm_proof.ipynb\">number_add_reduction</a> (conjecture without proof):<br></strong> <a class=\"ProveItLink\" href=\"../__pv_it/theorems/1b6aa01f47a0b1b01dac38b9c93d537812a317760/theorem_expr.ipynb\"><img src=\"data:image/png;base64,iVBORw0KGgoAAAANSUhEUgAAAmUAAAAXBAMAAAC41CX3AAAAMFBMVEX///8AAAAAAAAAAAAAAAAA\n",
       "AAAAAAAAAAAAAAAAAAAAAAAAAAAAAAAAAAAAAAAAAAAv3aB7AAAAD3RSTlMAq1RmmUTNIjK7EInv\n",
       "3XZ/CtNrAAAACXBIWXMAAA7EAAAOxAGVKw4bAAAFEklEQVRYw+1YXWgcVRT+dmZ/Zmc3mxUfrCIl\n",
       "opaIJC41VR9EI0lsUFuCvtlSgz6IfXErgsTasD4Iom0pQtDkQQZTxFiwa7QBW5AoiIWqrBKkD13Y\n",
       "aDEENeRJiyLxnLkzOzP3TrLZnd0nvfDtnj1z9n5nvz33F2jYctUSoreig3a3sD5T6BBRcbtqZMba\n",
       "wJjrEWh7OxTi+wkdIjok5Mjz51u31izGb1ohCuOdDtrecmpaWrlTRAzSbIQ/P7u1ZnGutGSUkWWO\n",
       "C3SgHVY876NjRIdtzV7l8X9qa80MLsaJKHzxgoDUngiPTmxW0mEPBhTPECIThcUPCJBmSYveehrM\n",
       "ZyzxfBTNsg6k1h8erdWw/QdZS/YsRicKi2ciAsmhk9TJRmvA3fQWaWTtctABzZJyrWjjndGMiQi8\n",
       "JH5brV5qpFm2Wr0SaWJ91MFHyx9c6FFTk9wNNfPHZ/LyPECZmms3vTmP1onC4pmIwJqNAjONNIuX\n",
       "kLaiaPaMg8HcznhFTU1yN9TMH6/bZbWvyu17tx7iWK7tQ+tEYfFMRGDNjiCVD/lW2a8ZRRyJtOb8\n",
       "IKAX9b9iBSU12d1Is0C8Jk9fXVQY9+JB63q0ThQWz0QE1ixtBTatqaVzuJ9EHAzsaWdwrnmhVh9a\n",
       "cXP6SsBAnKti1i2Nb0RpCLd54Tqu5TjNAzRfqP+j98DpRjRjXZ6rKd8SHuYdzj1ohUiO9xERWA6t\n",
       "5i0BJ2+cwi0ZK27JmvU3uQRwR3M34I5yUDP6QaSisVaRp1p2x+EOg8ZrQNaLSCyGaAZ8x1n8jhaJ\n",
       "AvE+ooSoM4w/UP8nR/lMUBvMQNYsqdea2o5xR+dr0MvBsQk8VTQtaIpm7O4eS13brmZ2N46vIs1n\n",
       "PDaR+BMfAn1okSgQ7yMi2JrN0+5LHzp5FfiZH/XePpnBp8NLw2M+zTK76Ju5q5N73YOEZ/pOF3Un\n",
       "d2TeN+adoN8VmBu7GRkomgm3bm1XMyfezhm6vCFP12BOxRZ5RpY12zZRMN4jItiavUIjevZgIVs0\n",
       "bfbezHsHlDpLfUHGSuzU047PZ3qt7rQ70l7wHbY+FrjrjcfwuKqZ40ZGGjJnefL5wzF8D0S8nbPY\n",
       "WgTX+Ty0a6cXEz2qZpsQ2RwBokC8j4hgaxYrAS//gm5LnCR6MbiqaIYdhEK6VsKEXapsJvpHgsna\n",
       "z+tHEn3Wtzs5IXB6TRvqUTVz3DhhBTXr4iSWXMN7IOLtnOmZfO1iVGDur922G6pmmxEtQSIKxPuI\n",
       "CN6KuRMHoT83Pf0WaXYmqWpmt+4ijD7LNbM4K2Xb7VSW3ZHxmu+iqask4J+ClO12aqa5cwDnDBxT\n",
       "oi7XrT60SBSM94iO+eW4iGHDKIs6S/TL+zOnHaf5qctyzRS9BBs59ZHdZYiOaA2AW2r6oICkWfAo\n",
       "/CJeauqMzjmHncgHVM2aJQrGe0RDPjlS67jcK84De4Dl0DvH1OICVR9pZpaFiSkyccZ9sZ3aKirO\n",
       "weLoXmTq/+PbDoKaBf/9d15/pJnFWeQccieTLiqatYmIUdcskcevBUzQ6DF+LCIWfk+7/8CaxZoZ\n",
       "XwqTTlRkHi8aX/OL49yRommUO4K5MD1a72TOgZ3Dwt9hYyK7sbHezE8ROafVaz3TlfHo85+jrUQM\n",
       "6dra/Gx6KuS8GbgB57GpCfN8rm6iblVye6yQjlI1gba3lRDfJDpERMhdafqq3/htHnhS3I1s/OOa\n",
       "3IRl5rVP8H9TWyHMLPxnfv6/yK3QX2ypC3UAAAAASUVORK5CYII=\n",
       "\" style=\"display:inline;vertical-align:middle;\" /></a><br>"
      ],
      "text/plain": [
       "<IPython.core.display.HTML object>"
      ]
     },
     "metadata": {},
     "output_type": "display_data"
    }
   ],
   "source": [
    "number_add_reduction = Forall(\n",
    "    n, Forall(x_1_to_n, Equals(VecAdd(x_1_to_n), \n",
    "                               Add(x_1_to_n)),\n",
    "              domain=Complex),\n",
    "    domain=NaturalPos)"
   ]
  },
  {
   "cell_type": "code",
   "execution_count": 16,
   "metadata": {},
   "outputs": [
    {
     "data": {
      "text/html": [
       "<strong id=\"number_summation_reduction\"><a class=\"ProveItLink\" href=\"proofs/number_summation_reduction/thm_proof.ipynb\">number_summation_reduction</a> (conjecture without proof):<br></strong> <a class=\"ProveItLink\" href=\"../__pv_it/theorems/f13d703673b3cbec7ce072472c872bdcbfed8f120/theorem_expr.ipynb\"><img src=\"data:image/png;base64,iVBORw0KGgoAAAANSUhEUgAABF8AAABMBAMAAABJ+QVxAAAAMFBMVEX///8AAAAAAAAAAAAAAAAA\n",
       "AAAAAAAAAAAAAAAAAAAAAAAAAAAAAAAAAAAAAAAAAAAv3aB7AAAAD3RSTlMAq1RmmUTNIjK7EInv\n",
       "3XZ/CtNrAAAACXBIWXMAAA7EAAAOxAGVKw4bAAAO00lEQVR42u2dC4wbxRmAf3v9XD/uaGkLhHJO\n",
       "C1QFwpk6iSBtia8kDQTBuVC1IiBiCi0CCZ15FEQJjYsoomrIXQsoXITIolRUUVDOCRSpoRA3CCUC\n",
       "wV0fSO3BKQ5Q0QdcchcugVyS7c7MPmb3dn3r8do3Rh7p7Nnx/jP/P/vNc/ffA3AMEVmWO8F16Jfl\n",
       "CfAohHI1F89B2CfLBxtdM00JCaXqla/wqPlY/XIGZjqTydUAzHOZRV5p3FN78RyETOaCg42umaYE\n",
       "IZPpQt/bzcdasiMwR2oqpb/gmcL+12ovno+aPtjgmmlaWIo+4mnzsf7FGzDPptvA8ABM8EiLAPNF\n",
       "aAPDAzBwamsAE5lqA8MHMGtTLQFMKN8Ghg9goiMtAUx3rg0MH8BETrQEMLdBGxg+gIEnWwEYFes2\n",
       "MBwA051qAWB8R9vA8AJMR74FgBkaaAPDCzC+T1oAmKWpNjC8ABOcbgFgNkltYHgBBo7xD4x4HNrA\n",
       "cAPMpiL3wAjTbWD4AeZAiXtgfFNtYPgBpj/PPTDxg21g+AGm4yj3wAyNtIHhB5jQFPfAdA+0geEH\n",
       "mMAJ7oHpLbWB4QcY4VPugelLtYHhB5jIMe6BGS62geEHGFHmHhhZYik+JFOh0srA9FGGnJhzYEAu\n",
       "cg5MWGYq3i+rt8l+f/3pcrmVgelWL5H40/3Dx+YemH0pzoHxH2crvuu4Hv32ZCsD45P15yIF9WrN\n",
       "JTB9Fc6BSR5mKz5BuUle1tJzmH2Gm2RgYM6B6SpxDkzsU7biI/Iho57ZVQnXJecJMP2y4T+2gr0i\n",
       "C3XJ6WT0dnIOjG+CrXg4IBsKpJmLf5dRLljxDJikbFgusPfUrKPZ9WYyduUtwGCAvuoEjA9PK9Ju\n",
       "gXHOzHWIfswITNQY+1lC4EW0OvOXYMsbVKr45CyZ6me/592yetPxumrw8p3o81yL7iazqhmSTJuB\n",
       "GbEAsxx93+wETAB5fIQKboFxzsz9+pgVGHH443rK3b4ONclnlL+bTOpkZ5HTzg5JngHzrJytw5DY\n",
       "KbtRbeStut/k0hC41QTMgbIFmF+gAXjACZgI6jPudT0kOWfmfvI6zQgMrJbrWVPsvgZd8UuUP9Ma\n",
       "q2O2PLWzhaxnwATlepZ58bM2og4zbdV90qUhsNAEzNKDFmBQy4ilHOcwCLcdroFxzsy9vczAxOTX\n",
       "2IsNktv4ZT2mUSi5klPCa54BA7uOSeyWEI3jVt3NZlUzJC5VBUZQUAw5T3ozyl/eNTDOmbkH5gQr\n",
       "MNB3uI6OHA/V/rwW08JLruRQuNE7YEJynt0SovHZVt1jI24NCaVpYLqtwMAbY2OvOwMTHxt7p+R+\n",
       "leSYmXtgDjED86xcYi1VOP0vaEgJKBmEzthP9ZE3jH+u+rXVz97uHTDi8DRz/V3wxsl45mvV3WxW\n",
       "NUNindWBuRRgozMwgSJEJffAOGbmOnSwA6PfHmAptqI1rqFbRaNk8bA0VPVyk7MjSmwxBUxgDIdO\n",
       "1g0H7fYASzih9Xdm3U1mVTVEyNPArJ4BzO0QRoaJy/By6n/jK0zAKL/dTkNk7sZmAKNmVmP4T88H\n",
       "Ff3KTTIDA73sY/9afIUSSiPrluBN2KyOCf6jEK9s3X6a86VFZ0NCkT7Pux4GAuzTsTBpNH9VdRcX\n",
       "U4qKL54kzW6Iv0wD03/UCkxUiqG1c3QRqrIfFGCNZp64BH1uhD/QaxhC/v2X54Q/K3bRJW6WjMzc\n",
       "h/WnPg5bvgRf1wcTYYmp+NpWWOz3qbvJeKgo/12A6ci4OqIH8tBRysIVjnLobLVm0dWy3bHaXDvG\n",
       "+5jvU/sJs6+quq//iFI0AIGR2Q2JoBzu1JUnJqnH6MtfwdPUDrxvNULdvyBN/HzrnDeyfzDn79wJ\n",
       "Ky3A4HakZua+KSljGOysgKAD0zHF3sOE2Xe8XtKBeRuCk7giMIIlWJ2aUvsfu4DPxuE6D3sYWMu8\n",
       "CalOXl9VdYcFlKIdufAnsxsSnKWHgfzF6EqfvkPtmHWjyRULCZZWuwz1WhcHoGQHDMlsfMX7Wh1R\n",
       "USMYiWh/VLwwR935qGdISu5hBuY3oA1JkxA4qgPTkYJeaUkVYPDZ276jxBZ4OIeBD5nvs0Q7tSEJ\n",
       "664DgxQVJGdgDEOw7dWA2YG39i5CH+jlcrGy6YrFzla6noUXjuNdQyVDvHPsf+CHlVJs2RXLlluB\n",
       "QZklC6eG1Bk3FaWuq54oot7MfwddO/UAs5p9qvgmqW2lcXyC3smIKk1E2hTFV0j/M3NYQb+Ts7Nn\n",
       "qxXoVQ8TZJ+9x0n7fkrTHQEjaYqi/kecKSOZDBEGTMDMmPTCGszkMvSBlsShTtMVCytzFXHRK4Ab\n",
       "r5LhFjxQFneeZd/DoMwEeCoCYbxawtGr3jfPa3AiqRhEn2Aa4+tYVkfYN0jDU/qK8vPwGGllQ8pY\n",
       "7EtHlZYSGVWWHHjNBCRZj+CzRel5dSHrFTD97Jufa3PaIp/ovkDVFpsFj0hEbZMR+u/EELS3UG2V\n",
       "BD7cLh9FH6/Q5qlX7BSlOrflAfVMKMOrCTCB5IAtMCQzRfIB9TXSSrQsWutRY0G4ZXDwt5FfFj3a\n",
       "h2Ge8mpTxYjCydPPpwkwCcUCcR66WXCvQvQYovrvaNjKahFkIT4bb9q95eE+zJvs2xJk9g6PaLqj\n",
       "HgbpjhVFrRirbRiRpX/HhiRyswBDwl708Risgr/BzCvmqwTL6vJ+8eDgYMpfFEt5W2CIZDkMMKpH\n",
       "C5GypStQEhdefa4SwXNdZdJr9PgJdmBuYq/mgNqt/kMDCI3j52jdTzZcAP/MMekcugGERzzc6c2y\n",
       "W9JjWs4SYHTd74J7aLX15iLRLfl+cAOMeBTEEqy5c9tDaRtg4sVAVu06fk16GLiqYrcPg8OaWD6A\n",
       "gdmqRqM5lPlW8qEmnj+QAHWX774VENM7hxDzrYEo+13P+dpEayENjLZyu/fhByWzrSSUjAZA7vZ5\n",
       "Bcwge0/Z+SO1785SwGi6h594eCWl9sz9NNyyLzGR0V22B0Y5NbIbwj37TwvbALMWEg8Ut+Kz8L6v\n",
       "kINkp2O1BP718n8xMOtSJKqsnZXM1xUie5QPNdFXvBtdC4Sh+MLgpcZlZ775eIXRB9Q6BfjnM1rp\n",
       "xIjwC9MVEDWIh9H/ZNg2c+DQIUd1gW/pewNMYNQAoNadqI3aJsgG8nVf38uG7nH03zPEmQP3NtoQ\n",
       "8rSBcfNxxB4YRCTSLpjdZgPM9yD5nHL5UYbhJ9AIebP6sFSVahnVL1xMqtCmk8QEvLdKqfQ/Dj5u\n",
       "FvOxPg8jGGtqoVZgLta2t0Wql0qaTplZzcbv6I7CBu+A+ZZx/jdqNETQNzG2OOmenClVoQ0hbcZ4\n",
       "HiZvC0x0vtLUV6G2NTEKTlcshTPcOjiYc1Et619PQZC0+T70LNwqfclIEp+Gc223RQOsj2hSa+rz\n",
       "2KcAP2eQ+fE6tFXgGTDUmtpfZl/3VdgMgQ/MZOwasAUmNg7qk7C35ZyACUo4Q8el4MxqoZ9ITdsl\n",
       "2u1UMj4EHjbW1L+r69G72sOVK3XbvADGeF+72JudI0Ooh8CzDqskm22NI9bLT2XoyQa4bafK6Gai\n",
       "r6nD8+u4aV2v8h4AY6yp7+iq46Z1nUEnY1OFGZjZNpu8ASZ4jK34vp/gcNs7slzf0+BzDUzoMLFk\n",
       "TJlrH4c5B0Z9N8JnzlU2QPtWp1sZmF7KkENzD4z6bgSenfELrBt3cx8+e29v0N6NwDEw+3JtYPgB\n",
       "Jsz/+2G60m1g+AEmeJh7YA5k28DwA0xymntgVufbwPADjG+Se2CG2u/p5QiYBP/v6U0cYVpWm46+\n",
       "5k4oySMwWfrA71K00ihghsrcAxM7RBX/kH4z8CGbhxeotKj6jd1khJxLwWzTgIncolfrLTZVTaWp\n",
       "qiVfRvcRF1HqVxMMNAqY7k7ugQlOUMX79Ic3fDZejVSaCgxxk3nareC1zeth5umH82xOmWcFJngz\n",
       "hPeA2EmrX0UwWGoQMF0p7oGBYar4eFFLNWJGoNIIMKqbzHK3gvgdHc0BZq9+uNfmlL1WYNBzT5eh\n",
       "t61Q6lcTvLVBwAwD/8D0Fo3i+8c1p0MjRhVppBFgVDeZEbeCdb5popYh6cR+FU4jRlU1lYaBwe4g\n",
       "SyFBq19VcEdjgIlMtAAwq0tG8R9J76upRswIVBoBhrjJhPNuBf3ZZgGTHE2qZRkxavZNpWFgfGhv\n",
       "4U9wN61+VcEzGwNMcrIFgImXjeIfhcX4mX0cC56/3Hwm+hVWUsAQN5nggFvB4ECzgImmhTzxvEEx\n",
       "q+MNSoOAZAATR43mBriGNqSq4DWNASZUbgFgklNG8XuhJ7JAIoN1TxyGrAN4j7mHIW4y/k63gpGm\n",
       "ARMvBjqJ5w2KWR1vUJqph4mncQXMpw2pKvirxgDTX2oBYGDCKP4g7IYEri4lFgbLE3/o10yWAoa4\n",
       "ySAM3Ak2b0jqgHiKeN6gmNXxBqUJCylgotmglEgjDAxDqgo2aEjqkloBmF2SXvyoMICqSyzhGDwO\n",
       "mrOKWCJp4Z/lKWBUN5kRG0HDz4USTFaaBUxCukj1vMGxaI7ShqTd8ww96d2z5N83oiflNUNmExxv\n",
       "CDDiBLQCMEMlvfgHx1FdIycVFAsUkesKdlaJ7FHT1Pc+EGBUN5kNNoKGnwslGC00C5jIlRXV8wbH\n",
       "LqUM0dK+SS+r7zrjJKmA9FMNmU1wQ0OASR5pCWCSR03Fo+oiTio70V6+vhImab4cvXFH3GSutRM0\n",
       "/FwMwS3N27hDQfe8wY43xpKexL5AAwPwfbGi7cfhIamqoDjQEGDi2ZYABt6mi498uEN1UgmhZ1yD\n",
       "+l4EcVxJgAkY7CZDXh1vEdT9XCjBFU0FxvC8QY43hiFqbMQMzNovS6qC2JDqgoFCQ4A5ILUGMN0F\n",
       "a/HGU7qCOe3dM83AEDeZnTaC6ZmCQq65PYxJfUss+ZWsGZjQW7hHcSe4CBoBjHgIWgMY/BIsd8XP\n",
       "V6vZ/E8lRHeCIjQdGMfgP1mNmE+W3AlKDQHGN9AiwOA3SLSfh5nLgMm4TqoNGFmWa3glZr8sT3il\n",
       "7jqp5uI5CPuQr3uDa6YpISHL2NnnLfOxluwUxEwmU8MgvzmT8WwkDRZqLp6DoCicbnTNNKejVCxB\n",
       "AOTMx/jr/6N0J6y6l5S5AAAAAElFTkSuQmCC\n",
       "\" style=\"display:inline;vertical-align:middle;\" /></a><br>"
      ],
      "text/plain": [
       "<IPython.core.display.HTML object>"
      ]
     },
     "metadata": {},
     "output_type": "display_data"
    }
   ],
   "source": [
    "number_summation_reduction = Forall(\n",
    "    (f, Q), Forall((n, j), Forall(x_1_to_n, Equals(vec_summation_b1toj_fQ, \n",
    "                                                   summation_b1toj_fQ),\n",
    "                                  domain=Complex),\n",
    "                   domain=NaturalPos))"
   ]
  },
  {
   "cell_type": "code",
   "execution_count": 17,
   "metadata": {},
   "outputs": [
    {
     "data": {
      "text/html": [
       "<strong id=\"vec_sum_split_after\"><a class=\"ProveItLink\" href=\"proofs/vec_sum_split_after/thm_proof.ipynb\">vec_sum_split_after</a> (conjecture without proof):<br></strong> <a class=\"ProveItLink\" href=\"../__pv_it/theorems/270528449f715796c9d87277548d94bd942fcf0b0/theorem_expr.ipynb\"><img src=\"data:image/png;base64,iVBORw0KGgoAAAANSUhEUgAAApAAAABABAMAAABfOlplAAAAMFBMVEX///8AAAAAAAAAAAAAAAAA\n",
       "AAAAAAAAAAAAAAAAAAAAAAAAAAAAAAAAAAAAAAAAAAAv3aB7AAAAD3RSTlMAq1RmmUTNIjK7EInv\n",
       "3XZ/CtNrAAAACXBIWXMAAA7EAAAOxAGVKw4bAAAKf0lEQVR42u2cW2wcVxnHP+/O3sa76614QAqI\n",
       "bIWEQCTx0qBIrUqyVcpNKPFKwRK9iLgqBLVS5W0pEpQKbyLoCwEvRCKYomQeoNA6xIZWQQpSYwqh\n",
       "aSm1QVREEZbXhBdI2jh2E6dO4mHOzJwz5zYzZ9ad8QvnYf7OZOc33/5nzjnfudgAQsmY5k2Ipezm\n",
       "NLA8YyRB2h0lfgzCqj/saNY0FyUfz1wZ/EIsPpaHWA35dFudlH+oS5JaKDyIAP/j3n5wUGrkQjzv\n",
       "I+xtshpSno5Ael+XJMVQeBDWwiT+n5cSNFL/A6th5VhVnXSmO5JqKDwIq/7SehipDbEK0Hu+E/D5\n",
       "1KvKpPzqvNENSWNqdnA4NIgANxnrYORoi1WAN/JTQRf8XZlUPleud0PyQlEIhwZhLdXXwcgHOAWt\n",
       "rbeCLuhvqpIKtfRQN6QHmNczJBwahDW1nLyR+J7k3lBsBF+RbSuTWlqlC5IHUAmHBhHgQ8kbWWqz\n",
       "CtAX0mWmrimToFjtglRi/O1T6MExiAD7W4kbOVpl1XqsDZgMvOSPqqSScTt0QRpl3A8NhwZhLdYT\n",
       "N3IjpwC5nduNwEsGVEn53SH97UAgSDEcGoRVW0jaSP1tVpUy+FqspCgAHoQ1s5S0kelrrKqU4lCs\n",
       "pCgAHkSAf0rayMICq0op/HKspEIXXxSDCHCgmbCRfW1WlTKmpVhJUQA8iAD7awkbuXeSVZWSuxwr\n",
       "KQqABxHgSCVhIwcarCqV12IlRQLwIKzFqYSNHDZoHTa9sup/0VEjThIGoYlZr4QkUhiEtbCSsJE3\n",
       "Ge03nRGB/rX56Rv+F12qxkki6wAp0+2/f/HF95shExcYhLW8mKyRuXcY7TFnSBIy5z+666/HSMIg\n",
       "lJl7ayufWAyZtqizmno7WSPd+xGdu0zNuvgPK9sxklJePl4yvTmPz4aMdNus5t9J1sjyKqujpjfW\n",
       "+DTznpCDVSZm1kBqhpDKXpOaN730SBPmLqQhYdVvJmuktshq2fRS5DT9wX/ZIbgtft9C96RyNYSk\n",
       "UZX4kunZJ4wmpSERoOkaab/TH+SNFM+udWBzjVU4Kl/yTVm5XbkO590qt9I96aMQQipQI8SCOePf\n",
       "KklDIsA5wzHyk0i+whspnl1jyS6zCsfMuuxzz6AYJyFrsJ+OTtKHwkj0KX3afwJDHhK5erjpGLkf\n",
       "1f82b6R4do2luMIqZKRr6rDTraOON4UrXZO0mg9pDw9yRjmmb48vD4kAjzYcI5HRvVXeSPHsWofa\n",
       "fNMCp27Ism2cxTnLdD2LXZOK4EPawoPs0mv6rlnKQyLAjVXHyLT15LJCZyOefdeNzJqSqa0UPvdg\n",
       "BCOlpA+BD0luJAxf9Wsi5SEJRsJfZmf/LPbawtl33Uh9+jrVRl2owd9QhbQa9uOoLv3aqZ9LXZM+\n",
       "Bz4kHyOPmdwURkhIBDhQc438DMBPRCOFs7JmKIKREwusUoM7u2alpuD36OWyopq83/phGx2tNmuX\n",
       "ShQSen9EEm3kBGMkGSaqhSQx8lHIVUQj6bPcFqWeV1542m54C2wVOAxP2d3TU7JOamKKVRQK1Swd\n",
       "0IbsfKVUhXz1U9YPm5wvs9o1yXqZ5KQtPAgbwrW0ISER4KmOa2TB6G2IRjJnvS1K+fmxRqnZe9wQ\n",
       "jEwdsSy2a0ePW0eMkK8Pc55NRrEDB8BeW9bhdTReiWKkjHQaZKRds7Ovzc7+VWZkiZv3CQlJNDLV\n",
       "yUpGNsxZb4vS3S00fDjwVeCNTB9C97RrmHOExzeEff0RKgnuN6DjRA0plJbcH8lICek0+JD83sgc\n",
       "n9cHhyQaCUPbLfPm4XfsEBGdhfHtvwWyRan3fKfsJGf1OmWk/vyFJpR/aA9739pAjvvfax1e3O7f\n",
       "RQBcpEa1u8BeVLbqEWQr1t02+7aRiiTUT4gk/84Gyi9zRgaGJGkj4TcPW91Sn3ErayQ6q/8jj/J3\n",
       "d4vSG/mpZ52377EWZeSvmqPNvDNmf9P4Nz7eg+YPSo2DAUZm6Nb9B5BCZhSsxzvRsOK/PUKvLSUd\n",
       "AR+Sn5F7W9yNgkOSGPmk9aSf2Ay9rJHorFa392c5W5TQHiNnVHDc/ahj5N1gufWRk+jHQ3bPho73\n",
       "nHRmpH4Z8PWZfQ4n4Ft2hbHuOpqrOdmLah4pJaFkRUryMTIv3Co4JDGPhJ6W3Z98hzUSnS02yhXA\n",
       "W5RQW7FtbGysCpMn4TnPyNMwbx1t587AXc7RfUNPUwONBVat1/11JpV6j/1g81Zj17MVvf6+RiqS\n",
       "vgc+pC08yM0jhSWG4JAkRrrfuSNOo000C3cYeIsS2mP0Xfv/P1yDk8RIfRkOIVv3W3V5weah47jd\n",
       "ZlKzAsKkCWSlkxZn3ZZ/RpigiUgqtXxIW3iQU77kmwLLQ/Imn1qMkWdzDdHIYnN0jzFub1Eat/cY\n",
       "FexOR4PMjPdGvpy/cgfSRzfAuXRbn0RHq11FvfiXvfZCuD+MSaP+ODPlUFpWmEaTk9w5BpG0RzaN\n",
       "BgX/GRp5SAQ412SMvG+rZGI3s3PL83CwirYoHayiPUa5H1tnP3bLhR9VPCM/f9uFmjsj/e23wKrU\n",
       "1tHNhx7f+l9ST66wCto5LwWlv5DT/35DVvuikQ5DCEmjp5Z2eVkvP1cjD4kAp5VnyKvUcXxszMvT\n",
       "C9IxPjXSoZOLJVbhTi9juY0e4bZpF/qmJEsNiqRnIYRUplKCtJf7pHkj5SER4A1VIzOGd+QelczI\n",
       "e+X1I32dVSpjSTHf0e4py00x0Y5KynVCSOnr0txnk/BBaUhYc8prNmlxXUUwMm/15mOH5SseLvQy\n",
       "qyPkuesDdd/maW8lRlLGW37MednBz0L2+mEQVpeypsWvXITZH/0qo17G8thGs+V71Y5OjCT9qpj7\n",
       "5G41Q/b6YRDW9OrajYxU5hjNXt1nl9npwF98HGjFSZrzZnUdxiP/NM2AVTAGhFW7lrCR7j5CVweo\n",
       "zTZL/hcNx0rCINDovT+14O8xzGl2IWEjd9RYVSo3YyVFAvAgrH0zCRs5UmdVpeSvx0qKAuBBBDg6\n",
       "mbCRxRlWVUr5WqykKAAeRICXWgkb2bvCqkopTMVKigLgQQT4U0jYyNwqo7rKL0pPVGIl5Vajfw0M\n",
       "wqpfTtpI2Mdob0elg2rFS9qn/CAEEFb8KyYJGrmjyapCeSRmkg0gD8Jb/dS3hYKwZmcSN3JiklWF\n",
       "1mApZhILcFY/UU/+/TfDQAQ4UkvcSG2K0sw8efpo7cynf1qImaQxXZCz+mm/lpshBESApyBxI/VV\n",
       "So/3GRqa6Dhkr535vcOdmEkI4D0IZ/Uz2EgMwopDSfQvCFyk9AkSqr12Ji+7YiddpB+EswYabOQu\n",
       "TrWZdTCy1KH0CD7rrJ1J26MrsZMsgPcgnDXQQCMxiABHGutgZGbZU32l5bwHeO1MUnoqsZMQgDyI\n",
       "M3CXRXrFejd9jcQgArwF1sFIOOFpagiPc/HamVjuNOInnfAehLsGGvhGYhDW9KvrYmShQ1T/AO4X\n",
       "yNqZUI3OJEAqdLwHYa9+BhqJQQT4ZCvQyLj+yJx+ltXgkq0lQNLPeg/CWf1ERn5z+MVAEAE+6P5b\n",
       "/kfm9MGY/sgcfJ3TwPLzREgCoK0Awqq7XU1+cPBe+H9hS73L6/4HsZsbGJkgqh8AAAAASUVORK5C\n",
       "YII=\n",
       "\" style=\"display:inline;vertical-align:middle;\" /></a><br>"
      ],
      "text/plain": [
       "<IPython.core.display.HTML object>"
      ]
     },
     "metadata": {},
     "output_type": "display_data"
    }
   ],
   "source": [
    "vec_sum_split_after = (\n",
    "    Forall(v,\n",
    "           Forall([a, b, c],\n",
    "                  Equals(VecSum(i, vi, domain=Interval(a, c)),\n",
    "                         VecAdd(VecSum(i, vi, domain=Interval(a, b)),\n",
    "                             VecSum(i, vi, domain=Interval(Add(b, one), c)))),\n",
    "                   domain=Integer, conditions=[LessEq(a, b), Less(b, c)])\n",
    "    ))"
   ]
  },
  {
   "cell_type": "code",
   "execution_count": 18,
   "metadata": {},
   "outputs": [
    {
     "data": {
      "text/html": [
       "<strong id=\"vec_sum_split_before\"><a class=\"ProveItLink\" href=\"proofs/vec_sum_split_before/thm_proof.ipynb\">vec_sum_split_before</a> (conjecture without proof):<br></strong> <a class=\"ProveItLink\" href=\"../__pv_it/theorems/e29bfe5dd499621f0a657fd81fa8793344cc2e250/theorem_expr.ipynb\"><img src=\"data:image/png;base64,iVBORw0KGgoAAAANSUhEUgAAAn8AAAA/BAMAAABjp7ONAAAAMFBMVEX///8AAAAAAAAAAAAAAAAA\n",
       "AAAAAAAAAAAAAAAAAAAAAAAAAAAAAAAAAAAAAAAAAAAv3aB7AAAAD3RSTlMAq1RmmUTNIjK7EInv\n",
       "3XZ/CtNrAAAACXBIWXMAAA7EAAAOxAGVKw4bAAALcklEQVR42sWcfYwUZx3Hf7c7+za7t7dE//Cl\n",
       "KdeYUBtp2ZQGQ1O5IyiWWHob9f7Ryh2p1tCkua0vidTqrVVITLB3ik1DMWVqbIuWcmvRGjQBRNsS\n",
       "lN7Z2JRiz1ssqaG05YACx8Hd+LzP8zw7s/ts2Bmf5OY3tzvzmWe+zzy/5/e87ADUpQHXnYAwklVj\n",
       "O3caHGzfGwVJgBqlpxwVJIBDrtvtc/xAf38lFAHfYjY/aHL0STPS5lEh1LLWSW+Z5CQ/qoG43dQ/\n",
       "4CsghJMSF/kFyiaHZ6pGpA5x2MPvtkwSoMZpuwbygLkoBdxVZE/KX4wOtw8akXJebbmxZRIHNct5\n",
       "twrygJEKuJr7HVGDs282ckGLHRPSyHsfaSZgMGm12Nu3okFOYoc1kABGKWB6hu2MiGfm1fSBBid0\n",
       "9pqQ3nVONBUwiCRA0Fna0ijv/9RAAhilgMkC21kvmsBRu1FrFbtoQtoKy5oKGEQSIFgDOxvlfUlZ\n",
       "BQlglALqmUBXLzU+Y4MJ6RCsTG9D6dEGAgaRlojW7IUmhT+qgTb8HwR8nVcDEXd0NWmNl1QMSNNw\n",
       "sOkTGER6Xew1aY1jMxqI2wgFTJ/ljktcM1mCaqNTcr0GpGPx0eYC+pMECOBrkG2Y+79qIGGjE7Bj\n",
       "mu0sFB+lVq1wGvZcpg1IP3qPf/7doX2tkTq8T7+19O2Gue/TQNxGKOAYKzP7ffPI+1y4pLFeY8BA\n",
       "UQVxG6GAPcxrxGfMz3kxXFKPeY81N6iBXoxcwB28OzRtfk5fOVTSjhbGQS5qIGYjFPASb3pHW4h8\n",
       "iqGSLpmfHzungZiNTsDEZU6vmp80XAiTJEAGKXVGAzEbnYDWeV4HSuYn5Q6ESRIgk/R3DcRsdAIm\n",
       "Z9nOEI5ckq6UggcUMrNhkihoSDp/voELd1QQs9EJ2MUHueeIS3FZC/r0umvc4AGF/NkwSRS0xKVt\n",
       "sf3t4+NXgvN/ulsFMRudgMPM46eo5144J7751Nlg1/1+mCQK6vDmL+JT3cGtUK8KYjY6AbUMdLqe\n",
       "V18T3P27FCaJgabOeF4xuF0fGVVBzEYn4Gnmn/LUz6Rdr29gKTFaWWxQtZoLk8RAI64X4nxWaXnF\n",
       "BvdaJlQQs9EJ2MeuZLFqdtr1blaO0fLkuHXsPzdMEgPlXW8oJi5//x8S67Di6prWQC4XkFSAj2kC\n",
       "dpA6UmyjgDtYtynDfH4mYOr0E+jvBOTZpaecEEkctGPO322iMDPfC2+yoTPejHMQtUjAz2D7dU1A\n",
       "C4dYyXIbBRxisCQrbnvcdyjAxn3OfwHcq54VCol/tMv1HVR4CstWhaSjXE2cRS0S8Ae4oo9qAqbx\n",
       "c7mxnVV4nBVcjpfkgO+ctMUemFvYw1FqOylR1EEJ17f1XsVqNVU3w6NuDqIWCYgVznbrPhCX23Pt\n",
       "FJC7DuFLsu5hvx4Dt/TmFna3nRSr6SDYf8XHUwAPKim8g4vMQdQiAeOoRJJ1jchS9DcYqoAwdMHn\n",
       "sEW8l1A0F7A1ko+ASdfnVmP8s7ubCAhHJif/VidgbnLyjWq4Au5ypQvYp4rwCrKfQ7sn0C1naXDX\n",
       "V2w7yUdAe1weVti9BzqRLBZi7sbV+LfUI/BgiYOoxQLeDvBYnYBWBTJOM1F6zfWzeW7HxG2LThip\n",
       "hrED8Gda3NkEqjzxQTm3aydx+kcbSJKAthfZ8O4cSdXFkCvQJ7d6F/p/WTMB74dUoU5A9NH94oPN\n",
       "aoB+zfY1vyM7etye3uBtAW6Q2z2bdzPHvP5qn+R6HrIGSdzxCt2FGD1sf/3wwNWSPAG9nq8ledF0\n",
       "92oSwaCnEO8CLKblwgcaOIhaLGDGyZbqA+nH4PfiA2/9Djz84UfgNfjj2z4C2gAfJTt0e0Ot2W13\n",
       "SqMnTq4GDwGZn8W7kJ5uRUBjkoU8E3JZBU1AmJqXbuNlpByZtMa7qKfSTMBYLenTE7lJakO89TvW\n",
       "7TjcT19frBcwtdKBQ2SPbJcXm952Sg5glzhQo7eNdyHR0hPYCsnvCYRhKRaPzUIe6Kx/DEdKdzUT\n",
       "EAZXoMschz8pAibj6AB7zylcD9n6nX0rWFhuWSAJ+MyKP+Anf0EZ0vPHUY7J9iRpo6TFQ/WuH/Iv\n",
       "Sbe9FsgcMXb/69GzHJsI8oFXR/JtRADekdyNNUHmiHFDkiw4fLa5gQ+E51DQt7vLuU4RMLsInfts\n",
       "eQST6fqdztIWm0r2yY9LAtqvpVGQnvg5OjB/DHV9yHYLbeulxUM+tz0geW74KcTwpR5HwPMo/2y2\n",
       "3KwVbonkJ2BCnt/LFOB6bNBxYyVUFMubCvggcgkP3OhNzRMBU7gl+zSQNUt0/c4a2EmjeLtWlQS0\n",
       "epFKie3Yi2eKuMnD2xj5X148VH/baSX+fx6+DzRmSE9/kwYRxnFgSyQ/AUfky2QHU/gQHP6MpIok\n",
       "HmocB0JHhXj+TepozIeIHzlOndpK6lTiG7Zt+xlks47tCAFzpXwB6BOXq1gFtiWKyouHxrk/9aI3\n",
       "xb9ZHyCF8xP0h/c6S4ECXiXJE3BcuNWXlQusXEpKBVX9Drz3alMBSXoBanXDWfZF2Pob4Ot3UEVN\n",
       "k9L8/A8h6wk4Vs7c6th7MaiL8Og2/cGysniID2KIUQ34ql+82Mke2e+pAyZyukqSJ6AYoEn6BrRH\n",
       "WQM1oYz9eGM4FVXAo6lS/XjgS+nzt9pVvH4HbfH6GxJxV3vhK14VzpVHvoBychIXtrMcniFbfOEF\n",
       "jrx4SB+Egozv6C/ruvOe/FS5+XBWiyRvMEFous039r9FGZTo5KMxHDRVVgX88lKfAdUv3nyqmD6I\n",
       "1++gLV5/sxFdM77g2r3rPQETq27aw+KW9J01VJnxlo7lyouH+BykmEtc68W+cj19lJ47qtUyeRy0\n",
       "XSQBOuaFMHJjQpXaqDmMccWajEjHpK29d9sj3jdqybOeR8C8zGlW8HnWmsW9yCMun/JrOfNwJUwS\n",
       "B93mPeY3ywHnqFQO0MXjiSuKNRHwS9JWTX5VJxHQg+5hlTl+uS7yWKzE4+Tx/a9PgNx2EgNJMUzs\n",
       "gPw9aczzZTXU5qCU+ZxIsW62oZGAdFbhx3jRreK/Blh/O0HnwFJe5PGr4FVqiTN+2WsXiYGGhQZ2\n",
       "X/DwiHZVbq9uUqmVIf8x1jO0L6iRR+o6N3iVWnw+TBIFeTHMNxa6lUBAT00FMRvdrFwnd8JTdAz0\n",
       "HpLue8Nt9MM8ayZMEgUlL1DA5LjrzgXnv6+igpiNcHGRssDOkle0BE/+JafDJFFQn3T+ueD8D2kg\n",
       "ZqMTMM4z19PCZGnXRJik+LkW8j+ngZiNTsAUd/DDLYxjj1TDJKXM11hD+rIGYjbCFapHeBe2hd8i\n",
       "n66ESjpifn5+RgMxG6GA+1mAmJ01P+cX4ZL2O8bnZw5oIGYjFHCYxQEp2v4/bXCKfSZc0nDNPAor\n",
       "qCBuIxQwycI3uIds95k0PDPhkhjINohn9Z9WcBuhgHEeffQYx9/JiXBJDJTlD+Lm4OWB92kgbiMU\n",
       "0Obt2JjxhP1wMVySrS3T7wjkpc5pIG6j/LXmHTx+xf54nZiKpnNS/q1F2KQ71H9zgT257LQG4jZK\n",
       "AcdYTbHn8bTKLKzBAw5FOifl/6TNh00ioMRxESx6bw9ocEUFGKWAeR4JvIOqxC+5UyJzUgG9v4mw\n",
       "SQS0u8uxcAlsld8eoKW1GkgAI33pxL95J75GJw1pDvCcVIDjKoVOwqAHxM+MpbcHaC7wvAYSwEgF\n",
       "5K+LwS9rGdvJKh6Zk/I/fkH4pAE2g0wTnX30SR0FDSSAkQqY5fHb8wCLLJ4DOiflF2QcDp+EQfZs\n",
       "hVVh6e0BarrNUUEeMFIBRVGjWvcEG2oXc1L16cFKBKTH8UpKPighvT1ArcGHNJAH9BcwrJePPcuu\n",
       "ax81OfruKEgIZF/L43Hv7QFaGF7UQNwGvHzsybBePpbi2O+YBN6lKEgpkzt9UgMJ4Kb+fud//DTa\n",
       "4GP3S+gAAAAASUVORK5CYII=\n",
       "\" style=\"display:inline;vertical-align:middle;\" /></a><br>"
      ],
      "text/plain": [
       "<IPython.core.display.HTML object>"
      ]
     },
     "metadata": {},
     "output_type": "display_data"
    }
   ],
   "source": [
    "vec_sum_split_before = (\n",
    "    Forall(v,\n",
    "           Forall([a, b, c],\n",
    "                  Equals(VecSum(i, vi, domain=Interval(a, c)),\n",
    "                         VecAdd(VecSum(i, vi, domain=Interval(a, subtract(b, one))),\n",
    "                             VecSum(i, vi, domain=Interval(b, c)))),\n",
    "                   domain=Integer, conditions=[Less(a, b), LessEq(b, c)])\n",
    "    ))"
   ]
  },
  {
   "cell_type": "code",
   "execution_count": 19,
   "metadata": {},
   "outputs": [
    {
     "data": {
      "text/html": [
       "<strong id=\"vec_sum_split_first\"><a class=\"ProveItLink\" href=\"proofs/vec_sum_split_first/thm_proof.ipynb\">vec_sum_split_first</a> (conjecture without proof):<br></strong> <a class=\"ProveItLink\" href=\"../__pv_it/theorems/5c24891a2f5751a1efac501711a418311281c9200/theorem_expr.ipynb\"><img src=\"data:image/png;base64,iVBORw0KGgoAAAANSUhEUgAAAiYAAAA/BAMAAAAmph4PAAAAMFBMVEX///8AAAAAAAAAAAAAAAAA\n",
       "AAAAAAAAAAAAAAAAAAAAAAAAAAAAAAAAAAAAAAAAAAAv3aB7AAAAD3RSTlMAq1RmmUTNIjK7EInv\n",
       "3XZ/CtNrAAAACXBIWXMAAA7EAAAOxAGVKw4bAAAKl0lEQVR42rVcbWwcRxl+fV97374IiR8UNVch\n",
       "FRBOc9AqUipoLmqpqCDNScESgii+qlVRKlW+0j98FHJUwB8KthQEmCA4ELS0aX0HQXwUiVqGtmlo\n",
       "yYGKCIWQC0SEKrS5fLh2ncTLzO7M7ryzuzOTs/aV7Od2b+Z93nt2Pt6ZORsgYGnbvgLrs9QAo9Ly\n",
       "9xl40tudVxXhox1MzjFj2+dDiqeXJj+2Tk3+I+FXZlWlXzXwpLVyU7hQ8znFZyVyhtnJyVBNhutU\n",
       "BNLLGGGspyqe62k96W2qJVyo+Rw7IJH7QSzGosmTNYxQbCs7z6LWk74D/k68UvO5nquY3A8iHk1u\n",
       "lxBmXn+bqvxER+dJP4KJXUfHRy1xRCL3gohFk+wKRoDXOqdUFUp1jSe9zaCWoeFz7GWJ3AsiFk0y\n",
       "FYwA+2GL8pktazzp7S50peFzbHMLk3tBxKIJZ9vsDXuHYbuyxl6NJ61Jqur4HL1nJfK9cWryNwkB\n",
       "hrCoVrGt9qS1Ep58dXyOjCsSOcc4NMmex0jslaQ6YSjWlZ4MhpMqutTxOfZ7iZxjHJqMDTES+9Lr\n",
       "mlljqPSkt434Usfn2E6JnGMcmnTrGE2SvAtKT/rs5OIIcU7VMDnHODTZ1sZoYs8pPWktuTJCnMWm\n",
       "RP5cfJp8X0IT29lSedJabpSQU8sSOcM4NHlTQqPpu6bypLXx2RHiTFyQyBnGoEn6EkYj21dReDIY\n",
       "GnojBGqdk8gZxqBJagmjWd9eUHgy6HqNUSJ9USJnGIMmmVURM7Zg0ftDuVWFJ71Ne4tIQz53uOpg\n",
       "coYxaDLeFzFhsynhsT1vtxeit3jOKzzpzd8XNORz7GwVkzOMQZN9swg3+vF+IDotTVxUeNKPDMJg\n",
       "bMbnjql1TM4wBk04E8OS7Q+fd0SvB95UeNLPIIKiZnzugmAWkzOMQZOzA4RZ289RU2IWYjm/2Z38\n",
       "FYUnbi0EYs9bE9SN4vNJLZ4m9zE5wxg02VnFeNb2IxOzkH85v/ewK1vhiX9ydrknOEGJnSSKzydN\n",
       "M63HhxK5zTRxWto7ZE2Cd83T2DbGnB06VCZoSnEKyizsE51oT8zew7UJfNKcmNpH8Hmk5Tr8m3Uz\n",
       "Pq9xchcX4YMUPilrErxrbNMtjPmjoQu0R+mvvwPch0uHeWJ++PIEAudBGXFHKYLPIy31INPB1XDI\n",
       "i/BF2sFmZU2Cd43taAcjTNnVkGK3MryJtYlGtCfWQbzmwarALi/jQ4lMOJ9ImnQH7xzPCTm5i4uO\n",
       "ZoWqrEnwrrHZ8ghRsI+EFOO5Q9H94Bur0Z5YQf8V0+oGL5FBI2A4HyJ1C4zxYYiTu7gISSJ/JjDG\n",
       "Bu+OrglMvxHSs3lPyNQMNbne7yo1pSahfJj0brUm8NLx438IzjuBu+vQ5ElbWKLNH4ISoU6RW/lT\n",
       "5MMV3HRiZy3KE6sAH6bd+ZrTA69KpCaITyadp/3np25v5LM2J3eRaPIhgO8ENQncNbW8jVHMt6n1\n",
       "JqBYcZ91IU3acrIphrXjOLU/iR5YBefZ7m7RNQmr4mvSxZogPpm0t5tcb9Fo8gBYlaAmgbvIFAlm\n",
       "/jJGh+uyN1pmq7c7MyJ9bA/Tw7uE28efGUR44hXgz84BaKrvVRE0kRY2Ap9MSl8CTLgDD0/1OLmL\n",
       "RJNcp9AIaiLezfKTj7EXfn7AkUOekbJ7lZqU/BVqHv5I4iLjJPHeKZLb2aFaE14BnnV2kclM6lYh\n",
       "LepF3qJkTUrSilggpS9JVq/RJDHIhOSx6O419GOfnGuUWoX5TlCTvFsiWhNLyNwTq1AGVxPYTJyl\n",
       "Ne2EV6CaFGeh2/CqRLcTS14pCKQJOm/v1mgCzVsIzUn4Dc7t6V1uh8nPbSSpTMLDD0JAE2t7xykR\n",
       "OcZC+XkhzehDAdy+A3cRNRP9qPGEeWAVaN/pDmAbeFUix1jEJ5NmKuRBbNKMJ/AzkhfOj3euw5rQ\n",
       "u3Dwll/SJrJ2ssMS6npd0IS9u6HllFBoMiUk6bkKvJMCeST5JRIoO52KnndYBfge0aQKb020eJVo\n",
       "TabacvLvk3YbpPdt1WnyEBlMP7vJfRi+JvRu/q9Zmv6WXynXH3cTwE+1fU3cd9PfaLklojVBx3mF\n",
       "pkVbKJ1Ps8MH3flRmZ+wCnT+zA0SL6e8KpGaBI8PBdIZq+bO66r8BMbazpDxZawJvZuqZ2lPzdWS\n",
       "TTePnmfCOZo476YPdFgJLyOXkOQLaKzYfqMTN23/byHhlRqRmhwVK8DXyFO49lcP/Ner4mtSlPKT\n",
       "4Njkk47RV3/RaQLuCDYI7hUUG2U6IRfbqcqWubm5KvSehic8TZx3H3Hc0BIQusikdk/YnH2M4edD\n",
       "18Aha+WSV4JV8TUp4Y3beyITBUZq9fFyGi/lPU2OWY2gJt1W7mYS1zgUq1913nlXDZ72NHHezf+a\n",
       "ikJLRO0VQC50LXkTXpadaOn2CpJ1efm4K3SvIIJPJGXLyRJfF3PyEy2kySduDNlTKrZmdnUOQqmz\n",
       "leQrtD+mIN332wl9F+BV2gE6WwPnCt75wg7/cQsdJOfGwRffR/UnFN/i81zgM+NDj3A+kfQzUpfD\n",
       "3V29z5a+9YZDpHdk7xyA9W1y/d4NZ75Z8TRx3iW2tQa0hLfPVcOY9CfGpBBjflaMEi6H7T3iuehx\n",
       "/MHEuVc8go/gE0mZuuM8rbmM0GTv0XV8cG7Of2z4Sb0bBbmth1GYGCfEcl9wfp+OyLJED7x9MN1P\n",
       "BwomL4VPxBOBkg5pmcW7r4/JLeP92HTIrqBqt2mqgtDyJ8YfRW+Apc8pPGlNrG3Gh/zz6gwNNEnC\n",
       "1WnSbSL0JkbrOjv6GxHJNYUn/Vr8jZCJWMnntsMBJmc44r696qt3pSHC6Xsdu/8ftq3YPE6tKDzp\n",
       "7YSwoWTE547hbUzOMI4z9GURU+L5bfSXojNDhSeD8xPvIRnyufJJ5Axj0CR5AaORhR4Nm3vYVhsl\n",
       "0isSOcMYNLEuYjSymZ7Ck9721UcINHtJImcYx/eUXpLQxM62VZ60VuyPEGd5RSJnGIcmz3Qwmth3\n",
       "lZ60VlgdIc7cgkTOMA5N9g0QPmYymZ5TetL3V2cWzbeuKs5uBZNzjEOTTBPhb03G5RWlJ73d67SW\n",
       "EAnz0X+MwL9pysk5xqFJchmjiYx9pSeDiSesidCB9+uvRda5XyLnGIcm+UsYTbpbTenJoB/0orLt\n",
       "TZH97YJEzjGWv8v4iIh7vEWLu30bPphqPOkTxQVnn51reehMS6tJYSiRc4xFk+7Ax/xgFe6YI1Zj\n",
       "m7uh7WFN40nfNtecffYUZdoPT7Vm9Jpw35zcCyIWTcoLPlo/5EMF29wNfcp9jSe9/c/ZZ2d2Gzyi\n",
       "7zs7JHIviHj+RvKfAub4o2abu6HDSUPnSWulgXPa4dqzcBJIk3mBNJlITawlidwLIh5N+N/6Uuz+\n",
       "hPUdtrkbZhu0nvRbKMuQX227fSe/DPuf0LWTsYpE7gURjyaFpo/Xp3g7cbdvw6bcI1pPevsFJJp8\n",
       "1fN8dulmnSbv72ByP4h4NPFaMcEf8K1Cvn0btIfaek/6TH2Qv5Y3qo++70yNafK56fCc0ToskftB\n",
       "hGqy/v/h8FQbo9ruNvCkn3mOhecnUVliTSJnGPE/HPKT6/4fDlYbo/rTNAw86e3ToXlslP1YIueY\n",
       "nZz8+P8BwRMdsjT7NQIAAAAASUVORK5CYII=\n",
       "\" style=\"display:inline;vertical-align:middle;\" /></a><br>"
      ],
      "text/plain": [
       "<IPython.core.display.HTML object>"
      ]
     },
     "metadata": {},
     "output_type": "display_data"
    }
   ],
   "source": [
    "vec_sum_split_first = (\n",
    "    Forall(v,\n",
    "           Forall([a, b],\n",
    "                  Equals(VecSum(i, vi, domain=Interval(a, b)),\n",
    "                         VecAdd(va,\n",
    "                             VecSum(i, vi, domain=Interval(Add(a, one), b)))),\n",
    "                   domain=Integer, conditions=[Less(a, b)])\n",
    "    ))"
   ]
  },
  {
   "cell_type": "code",
   "execution_count": 20,
   "metadata": {},
   "outputs": [
    {
     "data": {
      "text/html": [
       "<strong id=\"vec_sum_index_shift\"><a class=\"ProveItLink\" href=\"proofs/vec_sum_index_shift/thm_proof.ipynb\">vec_sum_index_shift</a> (conjecture without proof):<br></strong> <a class=\"ProveItLink\" href=\"../__pv_it/theorems/d41b5168fe09078d589734d14e97226882f42a2a0/theorem_expr.ipynb\"><img src=\"data:image/png;base64,iVBORw0KGgoAAAANSUhEUgAAAcAAAAA/BAMAAACFuAU4AAAAMFBMVEX///8AAAAAAAAAAAAAAAAA\n",
       "AAAAAAAAAAAAAAAAAAAAAAAAAAAAAAAAAAAAAAAAAAAv3aB7AAAAD3RSTlMAq1RmmUTNIjK7EInv\n",
       "3XZ/CtNrAAAACXBIWXMAAA7EAAAOxAGVKw4bAAAIwUlEQVRo3q2baYgcRRTHa3fuczf4zQgZEVQw\n",
       "mpFIQMFkQjQYPDIgC6KSrESUCJLRfBEx7ijqFyO7IKijQUcRo0Yz64GCQhJW1KhoRkGMR8xGg+KZ\n",
       "NRpNNkdbx3vdXdXVNd1bU5B9k5ruX9e/u+q9V1U9hARKynFOkjglOQ0frolwcP62KKS5FWSjTTvO\n",
       "Yc1hqSMj18Xi/gS2PCrsQxOmo3/pTcqun6PCX2SbHRnRCpyJR039Bx/WNoQdmDQdnpvsTZrPH2d8\n",
       "gcj2rjHVB4GvVKFjvAcVxaaxH031JJHdvJVz6KNT6jX6IXAlDiDooWT8z9NNxy9s9yJlTx1og8DC\n",
       "j7GGJbLda/RBYPYo6sIH90f7oOmEUq0XqfxNuQYCv8zuitMYZLvX6IPA9DB8uAlrHiVLTCcM/teL\n",
       "lKsmRoXA5ES+GacxyHav0QeBixpqu3eT5cYz1vcg0UGcHF7V2tJqVYv1mKNwvWL7IPBr7B1ucJgh\n",
       "U+Zb0jSTyBApVsQTHGrEFIhstPYCsxhpxitY9U3CGAhJsWYmkVL7YvCi6TqZjCUQ2WjtBQ7g0Qvc\n",
       "qgf+7JH5zJhJJHvNNAjMrFjajpdVzcjWXmAHblX+n+iZwd9Gkhu155LLIButvcBl0NkTR6Of84GR\n",
       "5D6MOWVrH8jWXuAzeL9jnLW6YSLZFWSDtRd4DD3fRAxXVzWR7AqywVoLTB3HTDuGtxsbNpHsCrLB\n",
       "WgtMHsGuESMkF3eZSHYF2WCtBaZn4cOGtphheiU8S87NmkhRKWY2WGuBQ134wBcBBh3wpVvXnOGE\n",
       "Z8nlwyZSVIqZDdZa4Bj4loxwEQu8xY5LD4enxP8YSJEpZjZYa4GLahKv5Hj+Y1V4enfMQIpMMbPB\n",
       "Wgs8BGOkfEpgHS9LSUrRruH+oVnPSQPJSOGdRd8ShQ3WWuBqSLGT0JUOOV6D/NGuzI9bA/9zDCQT\n",
       "hZcf9C1R2Q4I5J3hLFVgsDYskYH8Kgd+Ied0tcedR/8dJGVo7f52OMlE4YOBBtyyZj6isoWdIpcz\n",
       "c6sqMFgbUjbArU7DdDe/R5t059l6zbeE3CafpSMZKLy8wAapLqtQ2MJOkftYr55QBQZrQ8oeuF9F\n",
       "jGJrnYouisPtvQieVj2cZKDwsiLsC4Ut7BRJU26hogoM1oYU7PFDOHALzse6/AKtULGgEk4yUHgJ\n",
       "DYwKW9gpkqD3Nh1wMsHaqALJhn81h52NSUo1mkA9hQ/B0dCkqqoVSD7dt++ToBcN1EYW+IrjGyDb\n",
       "3yAldqEr6bg6SBtQEAFudbWXQIniRyVp/fZAN93xY1NlC0sFXkHIk0GBgVp9yWOzOjOBRIuVyYWk\n",
       "yK67jmpL0c6VGPU34up9rHwukzQUP4o9p8kble82VZITCtsTeAfJDAcF+muVvZCBj958Ct10/gQK\n",
       "9IbG6hOuu8hWVnK3Tr4g5H628j0oDtsZTKFdUpAioehTZB/l8i0pTqtsYanAXLtQDwqUaud7lznQ\n",
       "qpcahe1tg8CSNwPIk89oc+iH9wlp0zaQ7ExUgSVlHoGoYp1/ZPGCP/+9zEdzF66wXYGD02lNJiPV\n",
       "7nY/XUajcYLcv5EYBGZ8idjgLCkTIZAsonclFfkJZtR0DlBsKXhQmW4VeUBLhTxBMrqUfnmAvCun\n",
       "aqyWbFv6NsG9ELYPAtlCrWZwMqT8oS/+dUmBiC5KbsrTpnXDxqCavvkpfhRzNOlhuft2uBaZ7Y1B\n",
       "8jpNAbYPtc+UBbLa/FdZlqCIvRC2D/KSWEC7s2kSuNafcw2Tc5h9msKO0PbBknBvLypR/KgcFdOp\n",
       "yy52iOLqKtsTeA/1JnefL+60J5DVJmt8b0fshbB9kGuFwy6YwkTWP4MrjGb43X2NDZGNwslHioPZ\n",
       "wDwQUCwYjGfkG0RdaKGpst04SAaa3I88KAtktcV6mblSthciOv+SVqtVIZPvkJfdBAuHgRcHpfG1\n",
       "fDE3j9B/p9FWleqhAvfIcTA4SgUqSzviwGLlq3cX/xpgewKJ8ALTwelSp5G7pI17IWwf5GH+/blV\n",
       "8g4egrl7yR33N+viZQk63KbgzEElGSi87A37QmEL6wrcm6kHBRYb49e2t/G9kG18HyTHnU2SpLph\n",
       "0yWS06boiZqUKe9vmKdLIRR/Th2ahSN7f0MSeMNizYQ3teKCN8jmCtsL2Vxh+yCZJ2jthfN+e8xN\n",
       "AnC10F30u9p7EP5++Ljw/RO67qhZdwyhcO0hO2oqe0/kGX3F93dbqyVnBYdguJdhkSHhefeEv2kv\n",
       "SY07oVuy8DmOMAoPmCEPV2WfiCow1fb+BssycNiJ4wHvvlC6v3yI/xwSxP0kE4WXe/UtUdiZyGsy\n",
       "Cd/fYFkLnTX1l8B63v358Ek5HKwnRaaY2WCtF506MD3L/yt798yZTvh+WuKUgRSZYmaDtRZYwoP3\n",
       "i3nqLbzc/p3jGNaNkkdNpKgUMxus/eYLvlvB9+OS/l2FauhJ6RkTKSrFzAZrLTCBS7TLYrRkqGsi\n",
       "2RVkg7UWmEEnMFaLftL4pIlkV5AN1n6H91PMemIMlkNNE8muIBusvcCdECALs9HP2WIk2ZUtsrUX\n",
       "OAYuPSPc8tYoK1V/GUhb7fQhG629wDSGr1vE+l0Ux3TUQNphJxDZaO0FJtC7L4v8Wlm6ayZJwSNu\n",
       "lOjK1l5gHl+O6ER+zWKsaiZJKXRMgchG24e3Da/Ce81WN9a4CaVYr9J7EwNJBcR97XenYvsgsAMX\n",
       "z1Mvk5+eJatatFRhvUr7pE6FkwKAmK/9Itu9Rh8ElvHiv1NX+hwOL1iv0mZ33XBSABDztV9ku9fo\n",
       "x0vp32O2PC0W9UTcF+tV2mFSN5BkQOzXfpHtXqMfAvHnEuxXD50XoYfBepWuzDORVEDM137nqdfo\n",
       "h8ACRsK3CDk76V+v0keDj00kFRDvtV9ke9foh0C2bC1c+jR59mf/epW23NM0kVRAvNd+ke1dQysw\n",
       "7o+zXgVcfm+Uo9dFIM01Dq6TbciPs/IjMX+clcFm3RXFkdejkOaWySAbbXZk5Pr/AfMgdnObSXu9\n",
       "AAAAAElFTkSuQmCC\n",
       "\" style=\"display:inline;vertical-align:middle;\" /></a><br>"
      ],
      "text/plain": [
       "<IPython.core.display.HTML object>"
      ]
     },
     "metadata": {},
     "output_type": "display_data"
    }
   ],
   "source": [
    "vec_sum_index_shift = (\n",
    "    Forall(v,\n",
    "           Forall((a, b, c),\n",
    "                  Equals(VecSum(i, Function(v, i), domain=Interval(a, b)),\n",
    "                         VecSum(i, Function(v, subtract(i, c)),\n",
    "                             domain=Interval(Add(a, c), Add(b, c)))),\n",
    "                  domain=Integer)\n",
    "    ))"
   ]
  },
  {
   "cell_type": "markdown",
   "metadata": {},
   "source": [
    "### Normalization of vector addition"
   ]
  },
  {
   "cell_type": "code",
   "execution_count": 21,
   "metadata": {},
   "outputs": [
    {
     "data": {
      "text/html": [
       "<strong id=\"norm_of_sum_of_orthogonal_pair\"><a class=\"ProveItLink\" href=\"proofs/norm_of_sum_of_orthogonal_pair/thm_proof.ipynb\">norm_of_sum_of_orthogonal_pair</a> (conjecture without proof):<br></strong> <a class=\"ProveItLink\" href=\"../__pv_it/theorems/80dfb10e53303acd1a40b092857d5971dadfac970/theorem_expr.ipynb\"><img src=\"data:image/png;base64,iVBORw0KGgoAAAANSUhEUgAAAosAAAA/BAMAAAB6AJ9uAAAAMFBMVEX///8AAAAAAAAAAAAAAAAA\n",
       "AAAAAAAAAAAAAAAAAAAAAAAAAAAAAAAAAAAAAAAAAAAv3aB7AAAAD3RSTlMAq1RmmUTNIjK7EInv\n",
       "3XZ/CtNrAAAACXBIWXMAAA7EAAAOxAGVKw4bAAAKI0lEQVR42t2cDWwb1R3A/7HPvvP5K2zSGFRq\n",
       "PBFtk+jaExmdVnWNoeuomCBmXaR1nXC6TZvaSetFk9iyMhKkwr5K7REQDSBy1TQQKyxeC4NRCKFl\n",
       "64B1eGISU2nai8rYWFgakrpJ3TXeu3f3znf28zV7d8ixX6S7i//37t793nv/r3c2AK0ESqWL4GVJ\n",
       "l0p5Ty8IN0PdirjdONhRKiXIloqx0P0VbzF2dw94esFYT/0wwrvG/q7udIJsqRinPb5x2usnSct1\n",
       "xBjKkaNIorxtQIzikTpSBPFwk2Dk6jmnAVYozYEx40LTtpXcFogmmwPjVhd1PXAZfHNNgdF8DIbC\n",
       "t3rQgG1NgTGaZa/rVz1owKqBZsCYSbDXbfHCgY0kmwFjm5uR7ImnMN0EGMWzLio/7kULArNNgNE/\n",
       "76Ly1Z404Y9NgDHkpnkb9FnJpF3NpAR0yY2PMe7CUIMe/1zHVvkeEr6skhofYzrnQq9ijH7GYNJP\n",
       "nM7+1sbH2JVyYRywq7JbqRLs/+2VjhV1+b3E4xlrfIw7FPa6YfzI36kWJOEmx4q6/Anj1qFi42N0\n",
       "k5kPahx8xWpBAfodHXNdzhmzOjbT8Bj582697yhFua65BEZdzhvRvO9sw2P0ufG+78TBJFUrvHCJ\n",
       "qlj+kH4snG94jLEFfVCiv5oDtqbstLa5QtvIYC5E4EPheM2LWORrDYN/seExcrpe2gK7ap5SW/aA\n",
       "ttFCuUBOSJLHxYd9Sq2LWOX9BrKSHSNWmVdRMFIFLjC24PkoeRHEzDuhevyYI0YtaSvMUTDySV6u\n",
       "xig+nLfLSeL7lGLDiGOjb1MwUgUuMHKasxf0YkEvOOc44r7phBEnbf3TFIx9P9mlUEZjMGmXk1Wg\n",
       "HbINo6Zy+SwFI1XgAqOgPUCfFxeLFGkYA2SgzzhhxEnblh4KxtdLJePfTVaM8YRdHjP03XDKhlHz\n",
       "o8IJCkaqwI1u1ML6A56E1NM0jD7VaHvRCSNO2kZaabrRLCutGNOKXe4zskttCRtGP+rEIM3EUAVu\n",
       "MHaYeYEPFGM474QRu43x3OIxvlAhF2aoGOHY+PhrVEtNE7jBGBkfP5HzHGPv6B12jMHlE4naGHHS\n",
       "Ni6ZbPhl/1QdMW6d+pBNLhoJ2y7JjnEjwINUjDSBG4zcAIQULy42YsEYOArDig3jyHZxjmDkxnGx\n",
       "rAVebTotOpuvySg6dsAonlNGZJt8gY6xF1uvQNv1EHzZhrGXbS3SZxpj1Y4RXa3X0R00Zo1kywfQ\n",
       "MI6VMT4hkYwCwbhKgb9QR+MPtA32PzImRvEIcHknjCj6jqg2+QV996JqxxhSwprReQ9VU2wYscCP\n",
       "5qHvFT3YvOV8Cu45SUKJqWfpM/Ras0+4Cvf7QXja/OBu4gN8DimOFXuxO2gYAdINwjaAa8qZmdEc\n",
       "DWMXwFv6sDtxTB92X9CelIbxu0CUczpFMHLTWnxtxXTT+Pifx8f/Sm6A/Jt4zobxLB2jT8WG5BcQ\n",
       "S9kntS54Hg0j9ADCxFAK0BPHyENuNJMdFWnRVrNPAjk7xpUWC9OiyfZccT+EEZOdYMG4zzxnmfkZ\n",
       "KutgMw3jKyAW7KPxLQjM0DD6z5sYy6MxkoWRlNNoRJDTicVghJ51OD7in6sMBrEAzZEw2n1eG5Bn\n",
       "AB/jMmbEOVVTM1Xuk+12jEHLSntESzptNHJWOSvGf5jn/AmdIpf/icvVJkZc0H1pC8YZ4Io03fjL\n",
       "E2bStoxxRIVOR0uN3MYuZTG6EQ5sx/HRWrUSIxb0p+AzaBBKhoX7JITXqTA5IW9VQO57Y/JG2Pnp\n",
       "FMRGL4eDUxC76qDuURh9csCOMfxxpDXEg5MajszUlXqWgC+AX7ZiRONl/7pntCYtTCg8aT5fLCcA\n",
       "rBhnkC/9CRvGeU1fUkZjost0hPtNSz2SgI/4ZCeMA0h92uQ1LDXcrnVW7MLOsUqMWBBXeYks7iJt\n",
       "nISvw/pwksv96OIGLTZ9B029o/AUfDGY4KQtcAfcZumTdjtG/iW0eVLOaNT+o7wtZo3e/R5YMKKo\n",
       "W3wTB72x47EkZIEbQmVQKEJUojg8j8Cnkkkbxg/DfXS/sRMbAqwVVIIxpPr+xjmNxhYplLTJ+Rp+\n",
       "o+7Yh7LwWiVGLAi2hs34iC8ICWEaNo/IvAJ72lRhDOKp78Mg8jB+mIFANnO9gjUY6ZPNFRmej2ra\n",
       "AXZrh4Ow2ojethpz2sCItlxS0KqHJH+PmRsRNItJFIIF477JHy8fsGHc95REx9ifI69M4FdHdEu9\n",
       "/Nnefzk6PMvWV7jfhRoYwZivZxRaoozL/xttV6MRgc4dCoP/SMe1GhQFhGn0tBEpNnpSO31tR0cq\n",
       "MFyAj1n65KeURNkfYEJXddf5tw0N3YtMY0yxYkRmLZKKtWL1iYzYz8uTOk4aGy06RTE10xbxHiNp\n",
       "C8Hs4qOYSjlZfxgeoGFEMy2So2H0F7RzjKdJ34rgoX5VsH3J49H4BjzyGLp0Bol/BqsxOtIn7dUY\n",
       "0cAd/DXaT8NhQb9f55fAihHZphE5tAZVj2vNu8GY1FYTQ0+UBaRLYAxOG0lb4MYcMW5ywhg2Xo88\n",
       "JVMwxoafgxUXaBgFbOCN8CP6qjYdfxPKiWoBudNopr0rFuGk+hD6TBLVdoQiaumTKcpoPCoU1og5\n",
       "OO7PGjFSJmnDiDRmRM5sUvZDVPksiGaKaQpuMSdIgSltG0b0L9eHRtERIzhhDBn+yev/Z/Ybp875\n",
       "vfqITmp+sAqHpmDDoUMgzK5Mwtsdd6vGZ+2nn4GQXO6TBygYv3zNpCQchl0IcR+eF1HFhhE9aWD9\n",
       "yoOwOyHcrFp82fDojeYiwiwTRt8sedNWnGHHGDcG/X+ZFhH2Dw1Vr7ELY5SqZdVQHkqViwg+Xf77\n",
       "ofutSW19R7RhwvJZhSOtT5s9httOKzSZeNbMn96nNV7lSVMth9SLWOXGN0l4D9diBNppN5Stk1wL\n",
       "41epawO2XQAP0luprXufLaVxzHzTdi17XuR3tjZ4grH3AuXDsGKJrmtglBwwGss1frylvg8inmMj\n",
       "0KYlmfRwkv3tFeMrMf4F7zDSi1J1sLiVQb66GtATa6fYGnYmRd60DTOnj2OGHuPmP2iMtfKN3pUu\n",
       "toWxtPqoJVxnXAdKlL0nBozC6dzSwdjJtkwbz5pv2q5mvfU75Fp5Jox3QnbpYOxPMlWLjpn5ziDj\n",
       "ejl/lIQrOSaMe5fSpI6wfdGKmzMzd+KbbHd+kgA7M8CE8TgoSwdjuMhUzT9btiy3sT3OIDl4GJgw\n",
       "bumQlg5GfoGt2rmyMuAHWK4gEkdJfJ8N45Ky1PAttmq1fsyAYWDPNwPGTjaPx83LzhXZonwzYBxh\n",
       "876e985XkJoBIzfGVK3dswa8CM2AUVyAuhbz/g3+7f736ouRyzcHxqhaV4z9qebAGJirK8bLoDkw\n",
       "kuxpfYr/1WbBGKrnrL59YJEYl/xPvYl/ryPGbxB3/hI/9SZ2e/xTb7/y+qfe9LcV6+TuEANzV3e3\n",
       "om//B8zZsRQYlgPwAAAAAElFTkSuQmCC\n",
       "\" style=\"display:inline;vertical-align:middle;\" /></a><br>"
      ],
      "text/plain": [
       "<IPython.core.display.HTML object>"
      ]
     },
     "metadata": {},
     "output_type": "display_data"
    }
   ],
   "source": [
    "norm_of_sum_of_orthogonal_pair = Forall(\n",
    "    K, Forall(V, Forall((a, b), Equals(Norm(VecAdd(a, b)),\n",
    "                                       sqrt(Add(sqrd(Norm(a)), sqrd(Norm(b))))),\n",
    "                        domain=V, condition=Equals(InnerProd(a, b), zero)),\n",
    "              domain=VecSpaces(K)))"
   ]
  },
  {
   "cell_type": "code",
   "execution_count": 22,
   "metadata": {},
   "outputs": [
    {
     "name": "stdout",
     "output_type": "stream",
     "text": [
      "These theorems may now be imported from the theory package: proveit.linear_algebra.addition\n"
     ]
    }
   ],
   "source": [
    "%end theorems"
   ]
  }
 ],
 "metadata": {
  "kernelspec": {
   "display_name": "Python 3",
   "language": "python",
   "name": "python3"
  }
 },
 "nbformat": 4,
 "nbformat_minor": 0
}