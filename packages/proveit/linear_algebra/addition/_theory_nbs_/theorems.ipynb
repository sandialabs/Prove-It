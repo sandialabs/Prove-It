{
 "cells": [
  {
   "cell_type": "markdown",
   "metadata": {},
   "source": [
    "Theorems (or conjectures) for the theory of <a class=\"ProveItLink\" href=\"theory.ipynb\">proveit.linear_algebra.addition</a>\n",
    "========"
   ]
  },
  {
   "cell_type": "code",
   "execution_count": null,
   "metadata": {},
   "outputs": [],
   "source": [
    "import proveit\n",
    "# Prepare this notebook for defining the theorems of a theory:\n",
    "%theorems_notebook # Keep this at the top following 'import proveit'.\n",
    "\n",
    "from proveit import f, i, j, k, n, x, y, K, S, V, fx\n",
    "from proveit.core_expr_types import a_1_to_i, b_1_to_j, c_1_to_k, x_1_to_n\n",
    "from proveit.logic import Implies, Forall, Equals, InSet\n",
    "from proveit.numbers import Natural, NaturalPos\n",
    "from proveit.linear_algebra import VecSpaces, VecAdd, VecSum"
   ]
  },
  {
   "cell_type": "code",
   "execution_count": null,
   "metadata": {},
   "outputs": [],
   "source": [
    "%begin theorems"
   ]
  },
  {
   "cell_type": "markdown",
   "metadata": {},
   "source": [
    "### Closure of vector addition"
   ]
  },
  {
   "cell_type": "code",
   "execution_count": null,
   "metadata": {},
   "outputs": [],
   "source": [
    "binary_closure = Forall(\n",
    "    K, Forall(\n",
    "        V, Forall((x, y), InSet(VecAdd(x, y), V),\n",
    "                  domain=V),\n",
    "        domain=VecSpaces(K)))"
   ]
  },
  {
   "cell_type": "code",
   "execution_count": null,
   "metadata": {},
   "outputs": [],
   "source": [
    "closure = Forall(\n",
    "    n, Forall(\n",
    "        K, Forall(\n",
    "            V, Forall(x_1_to_n, InSet(VecAdd(x_1_to_n), V),\n",
    "                      domain=V),\n",
    "            domain=VecSpaces(K))),\n",
    "    domain=NaturalPos)"
   ]
  },
  {
   "cell_type": "code",
   "execution_count": null,
   "metadata": {},
   "outputs": [],
   "source": [
    "summation_closure = Forall(\n",
    "    (K, f, S), Forall(\n",
    "        V, Implies(\n",
    "            Forall(x, InSet(fx, V), domain=S),\n",
    "            InSet(VecSum(x, fx, domain=S), V)),\n",
    "        domain=VecSpaces(K)))"
   ]
  },
  {
   "cell_type": "markdown",
   "metadata": {},
   "source": [
    "### Asssociation and disassociation of vector addition for a vector space over a field $K$"
   ]
  },
  {
   "cell_type": "code",
   "execution_count": null,
   "metadata": {},
   "outputs": [],
   "source": [
    "association = \\\n",
    "    Forall(\n",
    "        K, Forall(\n",
    "            V, Forall((i,j,k), \n",
    "                      Forall((a_1_to_i,b_1_to_j,c_1_to_k), \n",
    "                             Equals(VecAdd(a_1_to_i, b_1_to_j, c_1_to_k),\n",
    "                                    VecAdd(a_1_to_i, VecAdd(b_1_to_j), c_1_to_k)) \\\n",
    "                             .with_wrapping_at(2),\n",
    "                             domain=V),\n",
    "                      domain=Natural),\n",
    "            domain=VecSpaces(K)))"
   ]
  },
  {
   "cell_type": "code",
   "execution_count": null,
   "metadata": {},
   "outputs": [],
   "source": [
    "disassociation = \\\n",
    "    Forall(\n",
    "        K, Forall(\n",
    "            V, Forall((i,j,k), \n",
    "                      Forall((a_1_to_i,b_1_to_j,c_1_to_k), \n",
    "                             Equals(VecAdd(a_1_to_i, VecAdd(b_1_to_j), c_1_to_k),\n",
    "                                    VecAdd(a_1_to_i, b_1_to_j, c_1_to_k)) \\\n",
    "                             .with_wrapping_at(2),\n",
    "                             domain=V),\n",
    "                      domain=Natural),\n",
    "            domain=VecSpaces(K)))"
   ]
  },
  {
   "cell_type": "markdown",
   "metadata": {},
   "source": [
    "***We should add commutation theorems, but we may want to revise naming conventions (e.g., permutation) first.***"
   ]
  },
  {
   "cell_type": "code",
   "execution_count": null,
   "metadata": {},
   "outputs": [],
   "source": [
    "%end theorems"
   ]
  }
 ],
 "metadata": {
  "kernelspec": {
   "display_name": "Python 3",
   "language": "python",
   "name": "python3"
  }
 },
 "nbformat": 4,
 "nbformat_minor": 0
}
