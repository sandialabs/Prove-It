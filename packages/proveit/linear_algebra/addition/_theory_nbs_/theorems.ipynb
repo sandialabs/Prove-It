{
 "cells": [
  {
   "cell_type": "markdown",
   "metadata": {},
   "source": [
    "Theorems (or conjectures) for the theory of <a class=\"ProveItLink\" href=\"theory.ipynb\">proveit.linear_algebra.addition</a>\n",
    "========"
   ]
  },
  {
   "cell_type": "code",
   "execution_count": 1,
   "metadata": {},
   "outputs": [],
   "source": [
    "import proveit\n",
    "# Prepare this notebook for defining the theorems of a theory:\n",
    "%theorems_notebook # Keep this at the top following 'import proveit'.\n",
    "\n",
    "from proveit import f, i, j, k, n, x, y, K, Q, V, fx\n",
    "from proveit.core_expr_types import (\n",
    "    a_1_to_i, b_1_to_j, c_1_to_k, x_1_to_n,\n",
    "    f__b_1_to_j, Q__b_1_to_j)\n",
    "from proveit.logic import Implies, Forall, Equals, InSet\n",
    "from proveit.numbers import Natural, NaturalPos\n",
    "from proveit.linear_algebra import VecSpaces, VecAdd, VecSum\n",
    "from proveit.linear_algebra.addition import vec_summation_b1toj_fQ"
   ]
  },
  {
   "cell_type": "code",
   "execution_count": 2,
   "metadata": {},
   "outputs": [
    {
     "name": "stdout",
     "output_type": "stream",
     "text": [
      "Defining theorems for theory 'proveit.linear_algebra.addition'\n",
      "Subsequent end-of-cell assignments will define theorems\n",
      "'%end theorems' will finalize the definitions\n"
     ]
    }
   ],
   "source": [
    "%begin theorems"
   ]
  },
  {
   "cell_type": "markdown",
   "metadata": {},
   "source": [
    "### Closure of vector addition"
   ]
  },
  {
   "cell_type": "code",
   "execution_count": 3,
   "metadata": {},
   "outputs": [
    {
     "data": {
      "text/html": [
       "<strong id=\"binary_closure\"><a class=\"ProveItLink\" href=\"proofs/binary_closure/thm_proof.ipynb\">binary_closure</a> (conjecture without proof):<br></strong> <a class=\"ProveItLink\" href=\"../__pv_it/theorems/a0d4fe33527f09e5110e66e18a9cba020fd2d5170/theorem_expr.ipynb\"><img src=\"data:image/png;base64,iVBORw0KGgoAAAANSUhEUgAAAZkAAAAzBAMAAAC3e2jBAAAAMFBMVEX///+IiIgiIiIQEBB2dnbu\n",
       "7u5UVFTMzMzc3NwyMjK6urpmZmaYmJiqqqpEREQAAACk/Np2AAAAAXRSTlMAQObYZgAAAAlwSFlz\n",
       "AAAOxAAADsQBlSsOGwAABa1JREFUaN7tmm9oW1UUwM9LX/L+JHl9mbUIG7Nk4NChrToUdEIirei6\n",
       "jldw3Qdl7UDBL3YZVb9JHvsHgm5RUPzgXBz1w8TZMMc2R2GpqyizuoypKA5NxW5StO2kY6WW1fvv\n",
       "/bt5KUUzITEHTt97OS8993feueee+1oAPwlu2WJAlUn5MQcWF3PVRqMtLhbL0GShCiVSp6nT1Gnq\n",
       "NHWaOk2dpk5Tp/k/06xYu7z7TKblreUMQjz1n9FsXN5tQoFqGXlvKYOYJTSE51IpjYaP0XyFaHy9\n",
       "8PIN0yVgPdeHbhRAbV1HDIzmNDa8XUoTxo9HMStE4+uF3zxmqJaVN7nrXnzzd9TAaF5CV3KxlEbq\n",
       "Q8f9lco0Xy+chPNUXfKh5+pL7gsNbehHHzUwGgVtpsWCz7zBkeiqFI2vF35wTF1ywXsD3fcLv8Tv\n",
       "JCfKDLpIUQOjiaBoKH5VYAwdM5Wi8fXCyRGmZWkU8uDU162XGaE5gD3MwGjgvnh8vR9NQzy+JlGx\n",
       "mubnhZPjTLubt7YXPDTBlTr0oIeLswpesd/MiPM00bDBojkJMOFHE06BZlSMxs8LJ+8wzQnbwy0e\n",
       "GjHaBufRaDPeWhJZgAhZSpDBotkHMgJUp58H5WE3Dfp03z8Z+vd2BXXTUC+8fIqe18Ur7OJuqhFT\n",
       "mAvlPTSvhTPQj9YLwuhkvzpLEw0bLBrNwGdwC8Cg4Vk9J/AoXP7UHZMgxXV2S6zpBf/2ImtHJuei\n",
       "YV5csrN/EsQ2lvlYHqIqgUYHfCwevz8evwOdGQ063IssaNaDhHI2fg9NwBs00bDBoonqZHpeBiHr\n",
       "7QUu4DBY/rDvBjSNbrPKaQpO+NL0OJEZdNEwL656fBIH9RpAgqMBaNT5KjBkSNdROHFFDrrq/J80\n",
       "0bDBooHMCP5kQe7gOhslotv+iG9hxvGNSmnIl+a0ExnFcHU2xEvsVCdaj9Vm1GmswgZ5HiWW9c2D\n",
       "TGHIDBpemk9AaLMyrcXx1fok8JkGXXhlkebO6hyN+INh+yO+YQGiKdiUBCH5nPIsyPIbI52GvAmN\n",
       "v6nZFEd1WIW0xYmMvcBsZF4Es1/BXUijMcBCfBVetZ2OU92W3QEi92wug9ZndZUxZ5jTRbt5tml2\n",
       "4+QTZve0cTTyA7Y/5vsYhEEphPOdcFxuXZeFtClkQokGU8yFEwdhWE3IupxxIhPNuWiwlwiMS+h0\n",
       "72FYrdJ5/paTaPAY1Z9f/BiOcjQnYAg3CuS3Ks4ifIbNDWSwaTS8nGpFWM/30Fdsf8z3gezLkIbo\n",
       "xBzsBWn1VRgAmJdNLd9ryltn4Cfpr28NtehERi26aIgXuE6un4HtkXenpv5A8RGcReAw1adi0eEC\n",
       "R9OTPIMSJECSMtj/Pt/qIINNQ6QxD7cbfjsC4o/51ooJODs29gGaPzIgLkSzAZpW6EPojg1j5+Cj\n",
       "xWy0z4mMVOR3BNKMjA93wYMSfSbnj7pCmKLq2ws8gXQXK8ybWWdjyy7gaNImKVmlNMQf863O64gB\n",
       "5GukBATIs1Hy2q0HDFI9JSOSwQRWZDyZhmW3mBEBzdy16gxbS9OuP6xEclRLu85wJvgIOgyXW+KG\n",
       "ORrh0ONwcdaPhvpj6/gaA7R8MP8rdDdm0YKI5k2x1wjEtERQ/x2eRqMv4ipgRUbQOZqec8kOGCjA\n",
       "j19nYD95CgF3t/Eb09LNox5KLNGDY4P32ZTde1J/1DdJ1PYYiEk9PNiegPRXK0EY/nycfRZNjppo\n",
       "OHZkNNN371kIoqkGwc1Tk5zXbUxLJBrDdb9sn4UNy6RhfV+pbyQDPl8d9I6OyKPu9wJRI6Qf8Y9x\n",
       "nmoZ+WIJg7Am+6/fC6T99lzOdrXDv/WB6EiFevOKvrORp/3+ONrh6tiq/w1UsOSk/nbw5tLsHK0h\n",
       "GqlPqSEaLVVLmRYwgjVEo3ZdqqUqUFs1rU5Tp7kpNJ9V43/bdZejqdL/tvsb2NDQ3igkV1sAAAAA\n",
       "SUVORK5CYII=\n",
       "\" style=\"display:inline;vertical-align:middle;\" /></a><br>"
      ],
      "text/plain": [
       "binary_closure: forall_{K} [forall_{V in_c VecSpaces(K)} [forall_{x, y in V} ((x + y) in V)]]"
      ]
     },
     "execution_count": 3,
     "metadata": {},
     "output_type": "execute_result"
    }
   ],
   "source": [
    "binary_closure = Forall(\n",
    "    K, Forall(\n",
    "        V, Forall((x, y), InSet(VecAdd(x, y), V),\n",
    "                  domain=V),\n",
    "        domain=VecSpaces(K)))"
   ]
  },
  {
   "cell_type": "code",
   "execution_count": 4,
   "metadata": {},
   "outputs": [
    {
     "data": {
      "text/html": [
       "<strong id=\"closure\"><a class=\"ProveItLink\" href=\"proofs/closure/thm_proof.ipynb\">closure</a> (conjecture without proof):<br></strong> <a class=\"ProveItLink\" href=\"../__pv_it/theorems/5bd6ec1acbdef9477c568f08ef6dae6dec5a01e50/theorem_expr.ipynb\"><img src=\"data:image/png;base64,iVBORw0KGgoAAAANSUhEUgAAAl8AAAAzBAMAAABbOHAmAAAAMFBMVEX///+IiIgiIiIQEBB2dnbu\n",
       "7u5UVFTMzMzc3NwyMjK6urpmZmaYmJiqqqpEREQAAACk/Np2AAAAAXRSTlMAQObYZgAAAAlwSFlz\n",
       "AAAOxAAADsQBlSsOGwAAB1BJREFUaN7tm2tsFFUUgM+0u519P6BWEWyXGiIvtSoqQdAlVAQUHBJW\n",
       "foB0STT+QVgU+EkXrUQSUmoMxB8gK1QSE4EFMRgeyfqKWoq0glYFpZggSHBbCNVaCPXce2dnZ2bv\n",
       "dmZbI5DOSe7O7Dlz5t755txzH+0CGIs9EpG4hkgkAoNE6KPmBaGTot7eJNdwf+/VwQKso/c6gK+3\n",
       "t90UsEQew1gYRPIt+fBYwCxgFjALmAXMAmYBs4BZwCxgFjALmAXMAmYBG0TAhMpYv33jcum3OPoy\n",
       "DLnnpgRmS/SfdQsr/RdXoC/DLBUwiuyUETAfOXpTucBMuJsHxq/FhJyQywDkLt33Yb1/Amy7nKQG\n",
       "NbAD5PiOETA3efvOeC4wE+7mgfFrMRZ7AysDEadu89n+D3l5UWZQA1tF+mm7ETARPaGe0yVNuJsH\n",
       "xq/FWNwpVvS9KV+s8gwe/S78Q1hKZIMaGAFoazHMYRvxOJsDzIR7ATmMW4uxFMtFJ958eYlreFhO\n",
       "h79VjqEnW7HcLhvUwDxI22mc9Jvx2MABZsK9AGDcWozlA7kMCNhmFnxvZbrmsjg4wrJBDQwerKyc\n",
       "YAysuLLy7jBvlDR2LwAYtxZj2SeXuWXzq1sKAGYPvrhCCejp9HOdksqeTdAeSQ0aYPsBznJuGtYC\n",
       "c8fAJ/GA5XE3lB8zJwEVMG4txrJZLklhsTtUADA3lAX2ZpTfgHb8OpaCpoxBA2wtOKKcmya1wPCa\n",
       "tXi6668WeDupBkbdPRgX3sfZvHPH9QS8MjIzQQo+xY8YTwJcHS+D8zFsdRaYXIsJ+QzD+vg5+cu9\n",
       "rHjiQndJChY2mAX2NVTEl2SU39HPbELYHWY9khg0wHySZsYojpsFQ6M5wDCMiJdQBa4nNRHG3KcB\n",
       "7fBiWToB+ChCZmqwH9xRbpufwzIUoFECV1g1cWW1GMjypRfAVgVQl1FMYkUEHz6vGKRB5sbejeki\n",
       "t3aVIQZ/ZPW19OnRUnkf/V7TXqIYNMC8AaemKT/YJLeUC6yVwvdF4U5tl2TupyWw4eEgCbIKoOdU\n",
       "8LH4wMj87XcQyJ03qoC1msj57v2k2i5V1pCBAfhJ6HhD5pP+paxyO81q2RmSP9SkGDTAoOFTTVNO\n",
       "BZI2ePrguIMJDTCnh9TiT9VJuqURdd+QwPgGgc5v/CloA9sXASgti2+SIL5ufOnHUHcEb4IK1AvN\n",
       "UwHIQ11z0GCdrQJGaxGG132Su/pRlCPoEq8He2DGtkUusDtulwoB5uqGCBz5KphUumQ2BRZ1hYHb\n",
       "JWE2vmLPoeXD5aa0/bzGlpvDwPYTIVW7/gH9WpK446t1IKxFDHsInbfAIVvSHX7t8gEQu2EYvAAT\n",
       "gShQ3whrwEH6TvfntOEnVcBoLXeUtG/JeUhFKQfBJViv2M6wsiixjMS2aWD2CyWdGKZNk7FtMhAI\n",
       "Khf5rme3KbTAXsdO49meKo6zprTZnm/kAHM8Qk4rZkzTAyPu4IwSyB+y9X2P2CJ2wq81cYcEyzsC\n",
       "YhX4E2/CRUDFfNTXHo6AC6sSrtRVket3qYDRWlK+QAzqdaMlVaqm6ZtU4/h0Vk6v/Ah2coDVNMgr\n",
       "nZoGjcH794IqV4tjbgiwf8MetkJSpiXuHvlkjx6YDxvyxhDwS6wpbZAs5wADOiSloTisA0bcMapu\n",
       "IwNwOp3GCtM28ExubtpNt1zETgRWnBKmjgRUEL2ro4cu0nztQGdwq9W7FbQWfwzEbfrphV/e/PG8\n",
       "m07junivkL1gGysLgt5DLRxgReRZxmVOVBG2J3DyKK5/Ai7y4kYz3dL39Wul0XpgVBZjbmNNaYN5\n",
       "ztx5mCzXQOjibe94esibWSEPyO8hJsxrEs34IRphm+GMhAqiX4kzG7Gd5roKSdclM+NSHIr0wFDp\n",
       "PXw0DCJr2bGdqgbGWJFxFJD06cIq5g7HwCF7uebISyNlQyzEBfYo7BNZU9rA1ZpvPwzTEUzgARPp\n",
       "P4rJk84iXH1dhIW+sD3Qg1MrdCq3d8HIAFGg/iTZLMJW1MZZuAZ1wBxVM/F1ITB7GOZlPqjSW06G\n",
       "XTZPrk1qF87ZxbMCzOTiewMU7YzxFu/ZlX0uMEcnjG1jTcHBtCwfsGFX4t4nwrwNxFH0LueU9tum\n",
       "BqA6CAeqq0G81pqE4c2rqQL1J0bMADgPwtYZcPwKkFMtMPuSxlKJABOnwKtxcSL5mMKUL5HIrKex\n",
       "pInA86rbOGZeDRS0TtgBwjN9bJLUAw+YKwqlKdoU15gY2y7sz47rvHQ691qxiuPamN14aufuuBIg\n",
       "3mwnYoeQgK/TPid9QXe3RZAZovstZ/syzMqzRc1pyn+wRU3yVm6gK5MoWyZUbOo9fXHoYYDvla/s\n",
       "zB718jd/yJzGkRoIL0+8D8OQSf/rnn499x9hlQVWU37PFOfshsmN/iOIPXMiwa0h1t8lbwZg4oiw\n",
       "BawQYKugwQJWCLBzVpcsDNioWyaF3yTAGn9JWcCsUdICZgGzgN3iwL7M87vK8YPpB6bl5Aemc80B\n",
       "s35gmv2B6b+OhlmNe6C0NQAAAABJRU5ErkJggg==\n",
       "\" style=\"display:inline;vertical-align:middle;\" /></a><br>"
      ],
      "text/plain": [
       "closure: forall_{n in NaturalPos} [forall_{K} [forall_{V in_c VecSpaces(K)} [forall_{x_{1}, ..x_{_a}.., x_{n} in V} ((x_{1} + ..x_{_a}.. + x_{n}) in V)]]]"
      ]
     },
     "execution_count": 4,
     "metadata": {},
     "output_type": "execute_result"
    }
   ],
   "source": [
    "closure = Forall(\n",
    "    n, Forall(\n",
    "        K, Forall(\n",
    "            V, Forall(x_1_to_n, InSet(VecAdd(x_1_to_n), V),\n",
    "                      domain=V),\n",
    "            domain=VecSpaces(K))),\n",
    "    domain=NaturalPos)"
   ]
  },
  {
   "cell_type": "code",
   "execution_count": 5,
   "metadata": {},
   "outputs": [
    {
     "name": "stdout",
     "output_type": "stream",
     "text": [
      "repl_map {b: _b}\n",
      "repl_map {b: _b}\n",
      "repl_map {b: _b}\n",
      "repl_map {b: _b}\n",
      "repl_map {b: _b}\n",
      "repl_map {b: _b}\n"
     ]
    },
    {
     "data": {
      "text/html": [
       "<strong id=\"summation_closure\"><a class=\"ProveItLink\" href=\"proofs/summation_closure/thm_proof.ipynb\">summation_closure</a> (conjecture without proof):<br></strong> <a class=\"ProveItLink\" href=\"../__pv_it/theorems/159bedbff28a4ea0803aa6e9e4e8771a095b07f40/theorem_expr.ipynb\"><img src=\"data:image/png;base64,iVBORw0KGgoAAAANSUhEUgAAAxMAAABABAMAAACThjenAAAAMFBMVEX///+IiIgiIiIQEBB2dnbu\n",
       "7u5UVFTMzMzc3NwyMjK6urpmZmaYmJiqqqpEREQAAACk/Np2AAAAAXRSTlMAQObYZgAAAAlwSFlz\n",
       "AAAOxAAADsQBlSsOGwAADWNJREFUeNrVnAuMVNUZgP+Zndl757mzgBhCkWUJVlu1WyxKRMqoYJsa\n",
       "yqWCDcZ0J1X7SooLa5pIU3cqlEBi2KkRahp0pxS1bNQdrK+CyBBoUpDIaKuttS2LLdZUuqyUdddl\n",
       "YXpe93nOfewsd+GeZO+9+58zZ+4937n/f/5zzj8AAUr1zVcE6XZhQnPlvNbXU602eSkXr1ZPnfeH\n",
       "SWSM/8UgYClZts16SKHnrmq1oh5dUXR3t3lCMdz99Hl/loMwfihk/TJfy4cEGQ4oQr30vKa7p6Ie\n",
       "XVF4vKl4//lvHWnuOKKYpjeTd70SzzhlOKCAf6kXdRX9ePGiuL1sQZHGp1TZDxKpLNGIC5Hi+BNE\n",
       "/+mslPX8aZacKdX/Amw7VSIZTihurwQKxe/AgiJRxKe8HyhWkOOt7RWIFtB3lJxLa/kxxQLpU4w1\n",
       "RzOcUKTmBAmFNGhFIaFnhE2+6KdXyXH+cwokUAM2uLSMlp+0MrsWD/VYhhMK+HyQUMRyVhSwGZ0W\n",
       "+4KihTzEAG4V/NSKS6to+axzh95vvpIOidDfpSzDiOK4tYqj+QChOJrnUBxGp4IfJOKk1gg2ATvQ\n",
       "380uxfX8rfTjP1fZ3JcHOcsyjCge5Dpab4BQXAMcirrm5plZP1AkcK3Juy9HauUFdLWlcY9jcT3/\n",
       "VnLcqL0lS4pEP5EMI4qk9bZTg8FBIZ3lUSTaIK34gSJGWq0hQ7tz9FOl1WlwwPLbNNfnMS3rSBkO\n",
       "qT4RRZFoJumMtZJ5wUFR38+jkHOw3r2Hm/77i1NRzS0Ik6boxI17NeqxA4hK9KD98GeAUPssunyL\n",
       "CHSl2ZOl+glnmMx26nFLJXuDg6K1xKNA1u9rAA/08qUNsjQ739b4CmqOovSE4I17wkKtrkisEz7c\n",
       "gMQFaM2ummAPG+fTyw5S3WzU7ak+be2t1zLMI6gVN1hathwYFEfaBCjexB2wXmAuDDKGYkce1ubh\n",
       "DoB7BJUzWTxrQnEzQ4Hchp4K6/A2boU6U/FrorD0ftDQdEjLMKGQH7WovLpCYFCcBAGKWBIphjrB\n",
       "rJhBRlGk0Ggo0Qu7AK4XVK7KNqt1k6b4AB+QImkow17FAQXJj06taApKd87DA4zuWxZbcaXV+CSG\n",
       "AoPinAhF5F1ktTsa7+VKG2QUBdb7yX7USNLHkzlLr8lUJyVNrMYX8eEYaupi9EbayvwYIQosP5HC\n",
       "3foNImzU+4F622+Y34o4p1RTI0FBET8tQiFfhw4TlKlccYOMovg+BtciFyA0K8RNY2iy95gggt1J\n",
       "eZCNQuvL6RJBQeYxWgvsQvuP5C+P4Cp2Gl4q0teH2cVOM4qN3B3LnwQFhfZMJhTwb9JvD8ImS3/F\n",
       "MvieAcU84q+jzpjOJAuyxdnFMqhHKuM59faxikmRZ9iG2nznHqZ7mtHXhEvqPAU+hGep+WQATFez\n",
       "oiuftM6EXGFG8V3+Ca8NCorYgBAFNawvSdssKJDM/FZgZdORT+WQRU7k1syyWBYkMzvBeGBKZWHV\n",
       "6mAUKV5Dva1ZDIRSZlYi/nU28aH1+SYzCoGbclIJCIqGJlsUAzAfwpY2wrLDJQOKj+BJuAqkXmhQ\n",
       "0HNaUGBZ8nWDggL0zztUzWj9GqOI8DemDdXaMT27GT+c4TgdCDC9EhAUnb22KGYlezGKaBaWaQck\n",
       "k39WMKBY+/DSB8p4bBNWkAXFWkUrvozINqww2tt0Hq6hE+XwIT2t60LqfilvtjW3cDI4TBPjDBcU\n",
       "R0sBQXG0ZIvix5MAo5DmQ3temosP84mMzfNQFPLKyffKuF2lnVmCQi/eXiGyA3qzE9dg3yv08luG\n",
       "7+QbM2maCTxud/vH3VF09AYExfSMLQqi0ZGCSukDQ+rmFU3edjx3F8B29iKBsTh97h+YfLOHdTVf\n",
       "9mTLnm5BjW03U0UyXFC0NplQkFv5mwsK10IMhZdyntPeihMKaeIegwFlV2HzxIf8CQKQII21al7F\n",
       "UJzZYtQSkdrnFhNTXT/rgqKh34Ril3leUYzCtRBD4aWcd2ebc6lj1n1QZfPVtPfMKOAR/JYs4osT\n",
       "HRP6O9KAh8DHNGGmM4q6AROKH+He0+uCwrUQQ+GlnOfUlR/tJ95jYxuZ846Fs6svCJ3pcUyxIRMK\n",
       "vBoeqbigcC3EUHgp5zktUMRDxFS1WoaLMe2tDtjkrBATTw+bUGB1FnMz266FGAov5Tynqkj4Et1O\n",
       "cZGmOTZyabNQXH/WPIKa3dz8JdcRlFshdQTlodyYUCQLgUTB5gzdULzsMDbWULgVUlF4KDcmFO1K\n",
       "MFGkhZsIEyNmFOvxIiV6h0yFIhYUtFD85A8hRlZko7uJuo7snJo3oWCVjTppi54h3dqKUDwKwUQh\n",
       "D3lBkVYiRX0ObPULxdB1ptVhgoIVmog8JmKB6g/h4vHHQJ5rQkHKJWdmIfVlWt9T54qweobazo1f\n",
       "yYrH30UNs+ZiR/8nGPQMBBQFvCYSRj42o0hlVEMrTe4rpnKL4EUeBSv0AYSoP9uQV6fLXjOhoOVu\n",
       "AbIVCNcHyHSE1DfnZTb1yaU7dMzbnVCEs0FF0Zn3gAIK+1jObtSRU/sSeObRioIVGpGpv5S6Gy9+\n",
       "kYWWI+aJD1LuqEI0HK4Pphu0XQuAuBl36Zi1PagiFB1KUFGks15QLMYjraV7IITVf+onv8lkI7uf\n",
       "373LjIIUkob2ZwwjgvoCfQOMKEi5ziL8AWh9eBX4zxA5kIFJk/NbFMhvvGrSi7DuddTqSIDln0F/\n",
       "TTpm3S0R2IqVwFB04R0WMxdUq/66aN6dTNkFRbLFg62AtbiXld6l85GptkV/Fb0VpFDo9DpW427y\n",
       "aazXt5hRkHINGTyhRuc3E01I/T8Or0ZKiexDp3YhnDAF7oG5gAVIHs/KGbmgY06VHFCMqCh6yERa\n",
       "dPuCjJ8kRh1nYY9CPusFRRrpkahyGzxDUSRwPAyHAheCdC8wr4FsFK3L4BY0oyDlYjmsk56h9zAs\n",
       "VaR++EdrXlZg1cmM1AINxQ1wApDgm0gunXlbwSvwKmZ9NZ5HQb8Mo4iwrXaJJp8o1BZnYUWhBVvo\n",
       "+8ad/ApQG/dgX19fJdUWzRYEKIApm+lUI5CtK+lSXAmXzShYA12CjqQ+gL4IJG88fKiHvO9SP0JR\n",
       "Vw7dNAPXi+XwXLWIG1fFLGkoFvBveb+KArro8IEtZp//VFuchRWFFmzBhYrQ/i1GMQT307cCns3w\n",
       "fgWzmnmow4tgEEWDymVoIPv7S7eCAEVyGNd7P/v8rxAAZD8UYrObyFuxFY4pSIDlkpIs4OZXMesK\n",
       "6gucHSDGiT5aJ3vqpT6hqC3OglNQarAFGb7wKAZFKFALkW3BaIQfyvHeNlWdXV+FP54G1F/w9gh0\n",
       "Wn/sO0pegEI6Q30ROgBF93cC7kpno5lh5AAiJXMZIjkjgwVIjpq+F5ttihl9iab9T3JGsy6noUie\n",
       "89Ve1xhnoaK4rLmZLu1qwRZwVLCLLjwkQoHaX8bbWrb9gi0Aid4Kliq0C+DPPhUVKSi6pk/qo90l\n",
       "clMGFjbCroULQRp5swRTDz9IBEieuulAHj5UMZMlZnWis8h1wayGAu7z1WDXGGfBUOy4RBVqwRbQ\n",
       "IXi96vpFKPCWnmV9fUWbOSiTy6uk32ljK2Gd31ZEKGgS1ieJRnXb9Ut9XXlJmUNR1lHcPugjiVrj\n",
       "LCgKWZ+H1YItoLUs0G4tAhS/bHeeDjTdJ0Qaga2ExT4H9ijE88WiYgldF+lrbkc4r6izoqOQTvn5\n",
       "VtQYZ0FRGMI2tWALWqP1eZoEKHa+6B2F08yse9p0RiRdZJiN0r6Y86o7DChgSclHFDXGWTAUhsZT\n",
       "gy2YcrU0bU44ghovFDa9i7uge1Mtt1I0oIgN+YiixjgLiqId7xunBlcLtoAGQc85krkIUYhSuN/x\n",
       "rYh4eytqiUCqOc5ijsXc6cEWQhR728YNxaoDY3J4hxxRqPuOfYhAqjnOgqIIG7qTGmwBrQJb0QXj\n",
       "hULKjWmdOznCaXDDCEpWN8H6EIFUc5wFRaG7RnqwBbt3czo1bijSbWNSUDJn4GnPoihiauU+RCDV\n",
       "HGfB/Ao9/lEPTBD4FdLpcUMRVqJjYjGba+GSjuKE2jV9iECqOc6CobjjP4pxOsQw5DBP/A6OG4r4\n",
       "4rHt2VxibTQa/09QqHFEP/UjAqnmOAt14mP7+83W4d8R/vPplnFDMebBvdXSJVo0FDs0neJDBFLN\n",
       "cRb26xXwPC9qzQUGRczas5IDKgrVaK8u+BGBVHOchQOKywVuRVtgUCSto9noWRVF+O3ly5dveHZK\n",
       "texHBFLNcRb2KKIjvOwRCAyKKBei+pGKYm+VJcWXCCR1IFX29PLqcRb2KFL83IA8EhwU8FurYL/B\n",
       "xVOTHxFIo3NFp1p/G0o8Q2JNkf4AoeA81NYiCDffnPcIpBqTPQpBS6tPFwgUIevaRqQgRHHhI5Bc\n",
       "UUy0H1MF42ccZ4j8YpstaWXz1QWJQLJHMZ83FcOBQtGTtwgOgtfdgRckAskWRYg3FfW5QKGIWJ8g\n",
       "lgnmRs21eU60XwkUCjw5au7VVwQSRfRqXj9dD6NHcSF/Hv4b1mnXjUoQY/HS/A3HmGg0Pw9/p8ef\n",
       "h492+/Dz8HLRKmiDAKY77UVrursVevw/aJzy4r4dFVoAAAAASUVORK5CYII=\n",
       "\" style=\"display:inline;vertical-align:middle;\" /></a><br>"
      ],
      "text/plain": [
       "summation_closure: forall_{j in NaturalPos} [forall_{K, f, Q} [forall_{V in_c VecSpaces(K)} ([forall_{b_{1}, ..b_{_a}.., b_{j} | Q(b_{1}, ..b_{_a}.., b_{j})} (f(b_{1}, ..b_{_a}.., b_{j}) in V)] =>  \\\\ ([Sum_{b_{1}, ..b_{_a}.., b_{j} | Q(b_{1}, ..b_{_a}.., b_{j})} f(b_{1}, ..b_{_a}.., b_{j})] in V))]]"
      ]
     },
     "execution_count": 5,
     "metadata": {},
     "output_type": "execute_result"
    }
   ],
   "source": [
    "summation_closure = Forall(\n",
    "    j, Forall(\n",
    "        (K, f, Q), Forall(\n",
    "            V, Implies(\n",
    "                Forall(b_1_to_j, InSet(f__b_1_to_j, V), \n",
    "                       condition=Q__b_1_to_j),\n",
    "                InSet(vec_summation_b1toj_fQ, V))\n",
    "                .with_wrap_after_operator(),\n",
    "            domain=VecSpaces(K))),\n",
    "    domain=NaturalPos)"
   ]
  },
  {
   "cell_type": "markdown",
   "metadata": {},
   "source": [
    "### Asssociation and disassociation of vector addition for a vector space over a field $K$"
   ]
  },
  {
   "cell_type": "code",
   "execution_count": 6,
   "metadata": {
    "scrolled": false
   },
   "outputs": [
    {
     "name": "stdout",
     "output_type": "stream",
     "text": [
      "repl_map {a: _d, b: _c, c: _b}\n",
      "repl_map {a: _d, b: _c, c: _b}\n",
      "repl_map {a: _d, b: _c, c: _b}\n",
      "repl_map {a: _d, b: _c, c: _b}\n",
      "repl_map {a: _d, b: _c, c: _b}\n",
      "repl_map {a: _d, b: _c, c: _b}\n",
      "repl_map {a: _d, b: _c, c: _b}\n",
      "repl_map {a: _d, b: _c, c: _b}\n",
      "repl_map {a: _d, b: _c, c: _b}\n",
      "repl_map {a: _d, b: _c, c: _b}\n",
      "repl_map {a: _d, b: _c, c: _b}\n",
      "repl_map {a: _d, b: _c, c: _b}\n"
     ]
    },
    {
     "data": {
      "text/html": [
       "<strong id=\"association\"><a class=\"ProveItLink\" href=\"proofs/association/thm_proof.ipynb\">association</a> (conjecture without proof):<br></strong> <a class=\"ProveItLink\" href=\"../__pv_it/theorems/a07c2a07b9b10afff20eec0df068267ec5cf85b50/theorem_expr.ipynb\"><img src=\"data:image/png;base64,iVBORw0KGgoAAAANSUhEUgAABBUAAAAzBAMAAAA6FS0MAAAAMFBMVEX///+IiIgiIiIQEBB2dnbu\n",
       "7u5UVFTMzMzc3NwyMjK6urpmZmaYmJiqqqpEREQAAACk/Np2AAAAAXRSTlMAQObYZgAAAAlwSFlz\n",
       "AAAOxAAADsQBlSsOGwAAC8BJREFUeNrtXX2MFGcZf/brZr9mb649sM3RslxFkkLjidhc2kLmFAST\n",
       "toyWa23acHtRE/9Au4A2fsTegrSpaQvrH9DGUrsgsRqtt0Uqyke7RzWWcuWWUmIVlUWj1IoHGC5e\n",
       "Dyi+78zszr4fszs7916hxzzJ7b3zvPP+3pl5fu/zfs2zC8CR7u5uECmN4Imu2xN7CXV3a+YTN5Ic\n",
       "+ejFc0LrbARPdN3OpSl3xZBguWH3xMWLJYBTF98rJzlyo+Cqb5ygc8XKiivHIUgbzURcJ8BBK+lx\n",
       "QXcLKnmc+eCb3P4W3vC4UEv2kYe+4gefC1tsc2Ipjwv2Ev4fefymqK55bkOjub8nBd5TDT7P8bhg\n",
       "L36yiwhlRQE/3dDZkbzIm9pom3NY87hgK69QTrTAnPFzu6LcjGgZ4EJDGM1FHgYfuf51HKjHOY8L\n",
       "PJlHHgbYMw7ZFeVmyIppuZGGMPo1DgYf2cF1BDS7+qKjHhdsu9YR8vinorgQTDaE8UkQyYVIoU7X\n",
       "5XGBN1xIkcc78HByxzVKI3Z8rGsNa7FIb1uxAYxNLXs5Vg+2LG6EC12tabNcyvaGj2keF2ykL00e\n",
       "b0Z/P8okRhrgQrQTTmkQypAW69kYGnWOEXpX60EAaRIjfBO81AAX1hZjpl3j+gh4ezuWj5An9yge\n",
       "F2zkC9TxTcgut0EsCaH9Tu14VwG2o6aokBZD7e8M3J91iCGPQDMqOIvEQHOcj1kYdbnwYQgo8Rn6\n",
       "qfYz1ETS44KN3Ewd34KmEiPYCCuvArNtfZxpW2TGyxqygjkLaW+/YW57O/bQv4HQWakl6RAjloUe\n",
       "lcFAyGBiVGltMUbMG0CFTtvecHzU4wJfpPMsFwIl6MlZy7V12/QCCI2xnvxpiF6w2mc9DDTV6y8y\n",
       "GAuINl7PLwSwUcM6C6Id9qta5z0u8CU4SimeAdxAh8A5F0JnIX4aolMpi53H7dQxF5oLyAmEyqNN\n",
       "EwMhN8IF3bHES2vy5TLc8YLhCT0ucHpPugEdR8+0CP+SM865cAES2beCPRppsTE8jnDOhRwepchZ\n",
       "mk8Qdc4FxCfINV1zpNPWvrr8zeMCXwL0g/g08tdKfHaQ9Quhd3Hby5qJqozvw768+vAblMVWwL+B\n",
       "4UIFw/iwMpoKiTx0B/Mkxm6AxQwXdAwLyMKI5SGYDtyOJyMxxf6Wl7Jc0A/+zNiDpx4PFxzjia7b\n",
       "mfTQ2wBb0XPuXfzIhzh9xGw8ss+biaqMu1u/0ZvGDoWw433Y4TN+oYLhz5MkeWFv1RJRZb2qq0Vj\n",
       "/cJsAqgKfGHLFNiwG89L/Rn7Wx7KMVzYhf8/xdiDpx4PFxzjia7b4fIC3YD8lfUGx2NHw5gjaY4n\n",
       "d9xHmF4+UwvD0brjwWgSgaytd8skFx7Eg84SYw+eejxccIwnum5ncoze3Y3nGS442puSs+aUkNhB\n",
       "qtjR2f7WaqiF4WhvqldKogvZU88VklyIoLFOsMjYg6ceDxcc44mu25kMpWnN2+b/dc++0AhQqJfj\n",
       "lsOfOac0AjIVxo3xFKxI125QzSmGC3HEsghrD556PFxwjCe6bmcynbHgcrh0slnU7EirxYUSO4+Y\n",
       "294+jzOW56jHNY9wiie6bmeylHlq4cKlYkLkuQ5BSK/WnDplWS7sBPgHxx4ctSN5q5xQeHjmzk26\n",
       "Nhfc1u1eXtbgspFY2/tyMf4ky4VHIIx6juipr0Dk1ip76Or4DSrICwzL/fi9HKyaYZ7ha1mscmuI\n",
       "58pQMdK+RjXmzg3ee9lXJsuqHTnfzZxza8s3S850drIPeZ7DJ8pHD8AVJ/4OlgsJLYhnmlcDbNOq\n",
       "7GGoP4WcJTK6NHU4h9/88ZW71Z2VN2kpubsCFVUJ+5rVVPkofIiB5dQieLH2uRxpUp3peLLyq+9A\n",
       "ED2KdeBxgeCCrOjjtH+CL1dtD0N9TIMgXvjCrmE66GldEA6fC7ssqI3A4lXJBjCB5YEYqLXP5XV3\n",
       "aWc6nhPeCfrucFWtl1Mf8X5xgdNHQHYAJ8+HFxH2MNQbcngA4tPHUc0F+AMEf6tA69TMJg0y35vT\n",
       "+iKsO4DMjhRI7xvsAkhaUHeweMbOjbH3cjDcZgDL3/mJonLqvm9gCTtl29Nquqa+li+xyyeWrmuA\n",
       "vfvgNKNbmqaPDccgbk0elrIzwYyohx52W1DYFWScjh3hDtyApdFXFNIeurpZweNpY34VS0IenoE9\n",
       "wXxMXfvfXagIXAtfhE7ACqTfBmsgnLWgjrJ4xs6NsffS+8RdGR1YTi/6k8qeG5oljTA38Ll0n9mC\n",
       "r9LamFxL58+t5gxLpY4Y3kcwRhVn4PGqOSXjUcTFylzntuAWUVfABQqkOFz4Llb6zq7rIO2hqyOp\n",
       "YGVBKzwmFaXT8NeeTFiDlacUqQOac4/CSUCKe5C+b283REsW1C9YPGPnxth7mVeQDGA5HfOV2HNj\n",
       "eVRBmJpP7MZrcnoHchz2w3rKs2MdfBmnXoJ7mNxYKZSW85V1u01VXQRnrUlUrAzIqtt4GWF05AI1\n",
       "5zlcSODnkChVvRWu20NXx5JT0Of+4eFhBDcchPhtg6/1615HOo1MFSj4umYAUmB99NQYyCkL6iEO\n",
       "nrFzg/dewud2msByOqRm2XObc74UfGsmeQNjlTW5W+BX0lbK2khnpuYj90TnBopG2EP8h8PD/wHY\n",
       "7qvKP0aPVcXFytwLruNlNoq6Bh6Q+ZoDyQUwBwPTNcIexhRxDFPqa8ZB/xb9pakNmj5wTOp+YTMc\n",
       "15AC67+OWqVUsqCoPkJ/wsbODd57iZe2hg1gOQ3PK+y5PZnE7zQguRAahZPdcgtOjiB7+ylrY92g\n",
       "/iDxqyl0Lq418ugASIY/GHq+eqRBryyJi5XBewIu42UO0Fj8GupfDy9mhrM3Vc7JQEBluSCdq1rL\n",
       "9H8CUI9wf0INKWMQTqHxwvWhEZihYAXSH4WEPnYsQ7Ww9pWzakjFey/LoElZFTSA4znwpdhzA5k+\n",
       "dFMzARVYVvnolMYK8lGcmomuHVu7kmfowg9nseIHaMpD5KKPSA7U5ieWl9ex+vK0wyScCPvw3MVH\n",
       "4CmX23iZAPVejE0N9a+HFzOjb8fxuOB7dgkcPstywWiXYWNNBu/dBbsUWNgCuxYuBOn8oTy0DT6k\n",
       "K5D+zWlL8JZOBeptjl/ozUjz8d7L6mIk0/R7A3jrk+YrC+S50T2Hbsf1owKrM1In/pgPP3u9tQAn\n",
       "sO7brUbLX1008jpNXVzFuY8NTiFzUSq8Z0DrwxON9bpzItyGn+4ShMXKRLPu42Xo9xhcc4EXM6Nv\n",
       "wbh4r2nZ8DC7+CPxls23Wf68xMeT9b2Xoh0wVfdMvYBVFAMnc2ZKN2eRzMXfrsLLNVKtaz+PAO4c\n",
       "fodepaLvRVisTEx1Hy9TDnWZkJiZBwDEvePGfeE6VpnLBjU+3hG89yLbru2Qda+8tQhHrKLGv17N\n",
       "SElXo2dmIRm5/nKKyjVSvw6+zl86p6evwmJlcJN0Gy8Tp957HGfMDCkLRHJhPfeLlSorVq/Z4BXw\n",
       "3kscnHFBL1AzFSd11x21yY3X5vUFSiEsVsZfdB8vU359ZSJiZsJnRHLBZnZcTmju8Mb57utR1V25\n",
       "CYuVwdsubuNldM87QTEzXqyMrfyS5YKYWBnMBbfxMuVQl4mImWlKuuSCNE2d5Fzop4awwmJlIkX3\n",
       "8TJUHzHemBlytcVtbO2DkJ3kXPDn6eVsQbEyCcV9vEzZPBMRMzPkNub+xKTvI+iJhLBYGTydcxsv\n",
       "E6PGodyYGetaGoqZMYYsLrgwE7RJzgX6O3qExcpEk+7jZfzU/JQfM1O5lkZiZtx/R8+2vxQmOxeG\n",
       "SLaLi5WZVTZdshEcffdkLa83EBMzk0i55cLkn0dAhBwdi4uVOUDb0Hm8TDnUZQJiZvq97/SrsdrU\n",
       "SR4Li5VJGAoX8TLcUBdBMTPzweOCvVxLHgqLlQmVXBXbXCfUpRFhgZpSHhdqCPUStbhYmcfd9Fg4\n",
       "XuZVUVfAAv0RnHJhjuDf82gEb84l+y2Rk3D5yATHy5i/GRDq/mwJ/5bI9eUkR67M3xJJ5OBKkXu5\n",
       "vyXyf8Z1dmjnY5nVAAAAAElFTkSuQmCC\n",
       "\" style=\"display:inline;vertical-align:middle;\" /></a><br>"
      ],
      "text/plain": [
       "association: forall_{K} [forall_{V in_c VecSpaces(K)} [forall_{i, j, k in Natural} [forall_{a_{1}, ..a_{_a}.., a_{i}, b_{1}, ..b_{_a}.., b_{j}, c_{1}, ..c_{_a}.., c_{k} in V} ((a_{1} + ..a_{_a}.. + a_{i} + b_{1} + ..b_{_a}.. + b_{j} + c_{1} + ..c_{_a}.. + c_{k}) =  \\\\ (a_{1} + ..a_{_a}.. + a_{i} + (b_{1} + ..b_{_a}.. + b_{j}) + c_{1} + ..c_{_a}.. + c_{k}))]]]"
      ]
     },
     "execution_count": 6,
     "metadata": {},
     "output_type": "execute_result"
    }
   ],
   "source": [
    "association = \\\n",
    "    Forall(\n",
    "        K, Forall(\n",
    "            V, Forall((i,j,k), \n",
    "                      Forall((a_1_to_i,b_1_to_j,c_1_to_k), \n",
    "                             Equals(VecAdd(a_1_to_i, b_1_to_j, c_1_to_k),\n",
    "                                    VecAdd(a_1_to_i, VecAdd(b_1_to_j), c_1_to_k)) \\\n",
    "                             .with_wrapping_at(2),\n",
    "                             domain=V),\n",
    "                      domain=Natural),\n",
    "            domain=VecSpaces(K)))"
   ]
  },
  {
   "cell_type": "code",
   "execution_count": 7,
   "metadata": {},
   "outputs": [
    {
     "name": "stdout",
     "output_type": "stream",
     "text": [
      "repl_map {a: _d, b: _c, c: _b}\n",
      "repl_map {a: _d, b: _c, c: _b}\n",
      "repl_map {a: _d, b: _c, c: _b}\n",
      "repl_map {a: _d, b: _c, c: _b}\n",
      "repl_map {a: _d, b: _c, c: _b}\n",
      "repl_map {a: _d, b: _c, c: _b}\n",
      "repl_map {a: _d, b: _c, c: _b}\n",
      "repl_map {a: _d, b: _c, c: _b}\n",
      "repl_map {a: _d, b: _c, c: _b}\n",
      "repl_map {a: _d, b: _c, c: _b}\n",
      "repl_map {a: _d, b: _c, c: _b}\n",
      "repl_map {a: _d, b: _c, c: _b}\n"
     ]
    },
    {
     "data": {
      "text/html": [
       "<strong id=\"disassociation\"><a class=\"ProveItLink\" href=\"proofs/disassociation/thm_proof.ipynb\">disassociation</a> (conjecture without proof):<br></strong> <a class=\"ProveItLink\" href=\"../__pv_it/theorems/d1c5e3d251d84f028ef4e104eb21c08da37127f10/theorem_expr.ipynb\"><img src=\"data:image/png;base64,iVBORw0KGgoAAAANSUhEUgAABCUAAAAzBAMAAABS5q80AAAAMFBMVEX///+IiIgiIiIQEBB2dnbu\n",
       "7u5UVFTMzMzc3NwyMjK6urpmZmaYmJiqqqpEREQAAACk/Np2AAAAAXRSTlMAQObYZgAAAAlwSFlz\n",
       "AAAOxAAADsQBlSsOGwAAC+xJREFUeNrtXXuMVFcZ/+a1d153ZrZdsA20DFuRpNC4IjabtpC7CoJJ\n",
       "K1fLtjZt2NmoiX+gDqCNj9gdkDY1tTD+AW2E2ikSq9HKFKkoj3aWapRC2aGUWEVl0Ci14gKGjdsF\n",
       "iufcc2fmnseduXPnLKXLfMnOnvude37n3vv9znde95sBEEhvby/IlEbwZNfdkvoS6O3VzSdPkgL5\n",
       "4KXzUutsBE923c6lLXfVkWEZsX/s0qUSwOlL75STArlZctU3j9O5cmX51ecglA1mImoQ4VA12eKE\n",
       "4SY0+jgjCzjotqC0K7AHeq3FiVqyjz70FGUB3+C24DOyrsAeKJJqcaJGa/4fffy6LGBVg2VzGhrx\n",
       "/T0pmZY1gGa3OGEvXrrrCGRlAd+H/jY1VCKUNxMbZF2DPdARvcUJW3mZcaoF7oyf2RUVZoTLAHvQ\n",
       "38WGcOLlZn2AxRLXUP96DtTjX4sTIplLH/r4Mw7bFRVmqAkz0YWsN9IQzrbyCoFPZ7DENdS/Hp9u\n",
       "V2d4tMUJ2y53hD7+iSxOhFEn5E82hPPRSiMuSOJEqGB745tanLAdTqTo4x142LnjukQjtnysZzVv\n",
       "sQgap4T6pxQbwNnYvpck/CnG+v72RY1woqcjTQMJ5Lje4oSNDKTp483o74eZ2EgDnAh3w2kdAhna\n",
       "YriJ9m0IjDrHCbyt9yEQdEHRLI0VvAVebIATa4oR074EaHsnlg/QJ/clWpywkc8yx7cg29wBkSQE\n",
       "9ju15d0F2I6aZIK2mLdotMWz8EDWIY46AnFUeCZKJRksDT5UxanLifeDLxGdbpyatL3xWLLFCRu5\n",
       "lTm+DXn9EWyEFdeA2cY+zLUxOuMlHVnB7DA6O2+a09mJPbYvB/BrCJxT2pMOcSJZ6CMTY+UMjYVq\n",
       "ABPHorXFGTFvxAQSS3S0xQmxKBd4TvhK0JerLv/Wbd/zITDGe3bMiU0Qvlhtq/Vw0PRwGxl+hLto\n",
       "rPlUm6/nJ3zYuMEzViDRCtmFFifE4h9lFE8BbqxD4JwTgXMQPQPhyYzFQsi8F3CbdcyJeAE5hAAe\n",
       "lTJ9B6qhEU4YziZaWp0vlxGOJ4iHbHFC0KuyDekEeqZF+Jeacc6JixDLvuHvY9YUYuj/GB5rOOdE\n",
       "Do9k1GzVPGUs1KTDzjmBuAW5tuuOdtva2ZC/tTghFh/7ID6OWngiOsvP+4nA27gNZs2EJeN7sC+v\n",
       "PfwaYzE8DVwO/waOExUc8lHNaCvE8tDrR807woxXdwMs4jlRuRYGJ5IHf9p3J57ARBL2t76E54Rx\n",
       "8GfOLiJ1M5xwjCe7bmfSl2cUW9Bz7l/0yPsEfccsPAPImwlLxj0dX+tPYwdDr1khE95v7Qh4HG+e\n",
       "Jsvze805rJeZ1/p72nWeE5VrYXBgQfskWL8bT7LLQCIZynGc2IX/P8nZRaRuhhOO8WTX7XB5gm1I\n",
       "3sp6heMxJjHoSJrx7DPLJkw2ggNxZMY1ol7Ccd9hyKFw0gJke+s0Jx7Eg9MSZxeRuhlOOMaTXbcz\n",
       "Oc7uJkfzHCcc7YGpWc30DwVTc4C1pbO9tFVAts8oLArH0R5Yv5LUqkC2LpLmRAiNifxFzi4idTOc\n",
       "cIwnu25nMpRmNW+a/9c+/XwjQIF+1k3HiCL4ifOJRoAm27SLBnGehOXp2g0snuI4EUVsC/F2Eamb\n",
       "4YRjPNl1O5NpXIe7TBZ0wJ3H24zYpMuaVdUCipf4ececzs65grG/QN3UvMMpnuy6nckS7qkFC7Kw\n",
       "v+uiTOhZNDn+vawrqAnky/Kc2AnwD4FdBGpH8kY5kRDhmTtE6dqccFu3e3lJhytKIlMu2wV5kzwn\n",
       "HoEg6lHCp78IodstdjHU0Zs0UOcTC/7onRysnG6e4WlfpAlriObKUBHazqQac4cIj8X3lUmzckfO\n",
       "c6vg3Nry9ZIznZ3sQ57oyMny0ZfhqhVvF8+JmO7HM9RrAbbqFrsQ9ceQE0XGVyYP5/CbSJ5yt7uz\n",
       "8sYvI/dUoMIaZWezGovPwocYWE0thBdqnyuQNs2ZTiQrvvQW+NGjWAstTgg5oSaM8dw/wZOz2oWo\n",
       "j+vgxwto2FVMAyNtCMIRc2JXFWoD8HgWWQ8msDoYAa32uaJuMO1MJ3LMO8HYkbbUeqX1HZeTE4K+\n",
       "A7KDOHkhuJCyC1Gvz+EBiscYb8UL8Afw/yYBHZMzG3XIfGd2xwuw9gAyP1IgvedgD0CyCnUXj0d2\n",
       "iIz9HTgUnEKA1W/9OKEJ6r5/cDE/iN/TYbqqgfbP88svVV3PIH/3/qmku5pqjCHHIFqdbCzhF/oy\n",
       "731zO7oF0RgT7sINWhl9OUHbxVDHE3j8TeZlkSTk4SnY489HtDX/3YWKwPXwOegGrED6rbAagtkq\n",
       "1DEej+wQGfs70P/43RkDWE0v/JPGnxuYqYxwN/Dp9IDZoq/Rp3C5VZ03t0owfFW6ItnK5PCsdUIw\n",
       "jfMwnuJ7nxOOgoZ8KQEnvo2VnnNru2i7GOpQyl9ZGAuOKUXlDPy1LxPUYcXphNIF8dyjcAqQ4l6k\n",
       "H9jbC+FSFernPB7ZITL2d2BuQSHAajriKfHnRvKogiAz/9iN1/eMjuUE7Id1jMfHOvgCTr0I93K5\n",
       "kVIgreYr638bLV2HYM1KVsyPy3gfKeKI1/G8gBMx/DxiJcvb7IZdDHUkOQl97h8eHkbww36I3nHw\n",
       "lW2GV1LOIJP5Cp6e6YAUWB8+PQZqqgr1kACP7BDh/Z3g+Z0msJoOaFn+3HjOk4JvzKBvYAzK7yfc\n",
       "Br9UtjBWRzozNQ+5KzbXVyRhG9EfDA//B2C7x5J/nB3Tyov5cRnvI0WcBA2Zr1nQnABzsDBNp+xC\n",
       "ppZjmGpfIQfbnjFe4lqvGwPMpOEnNsMJHSmw/quolSqlKhTTdxhPmuwQ4f2daGlLkACraXguwZ/b\n",
       "l4n9VgeaE4FRONWrtuPkCLK7l7E61h00Hip+RYbNxbWGHh0EhfiHoeesIxF2hUpezI/LeB8KQ4xc\n",
       "/zoOOOCEYA+snJMBn8ZzQjlvWRv1fgRQT/FATAskxiCYQuOJGwMjMD2BFUh/DGLGGLMM1c7bWc1q\n",
       "AQ3v7yyFtsRKPwGO5sCT4s/1ZQbQTc4AVGBp5aNbGSuox3BqBrp2bPVKHtEFH85ixffRFInKRR+h\n",
       "HGjxx5eV18MG8qwDpZwK//Bcxne4jPexYoiRHVyHz8F0ytj+E3HC8/RiOHKO5wRpp0GytoP3Cv09\n",
       "CVjQDrsWLADlwuE8TDn4kKFA+tenLsZbRxWoNwV+oj+jzMP7O6uKoUzb7wjwlifMVyboc8N7Dt+J\n",
       "60cFVmWUbvwxD376akcBTmLdNzuIJ1hVJHndpi6q4dzHDk6ic1EquGdQH8ATk3WGs6LciJftKqTF\n",
       "/LiN95HCiRqxPtXhdQZcvWe1dHiYX0RSRC9+bq36+ZIYTzX2d4p2wEzdM4wC1aIYOJkzU4ZZi3Qu\n",
       "/rYZUS5Jdaz5DAL45PBb7GoXey/SYn7cxvtQ1h+HWB96uU7Wu3fCF8QjlTmxXxfjHcX7O6qtU6Pr\n",
       "XnF7EY5Wi5J//TpJKdei51dFIrnecorJJalf+V8VL8mz015pMT9u432sGE3G+tSW+TI5sU74xVOV\n",
       "la9XbPAKeH8nCs44YRSomYrSuhuO2eRGa/P7IqOQFvPjNt7HiuEdh1ifsgTPyuSEzQy7nNDd4TX5\n",
       "ju4xzV25cYv5cRvvM96xPpW20or5sZNf8JyQE/PjNt7HijEesT6VkVTSJSeUqdoE58Q2ZqgrLebH\n",
       "bbyPBaPZWJ/ay5huY4gfhOwE54Q3zy6TS4r5cRvvQ/NqHGJ9TBly+10DJyd838FOPKTF/LiN97Fi\n",
       "CGN9DIwmYn1MIcMbF5yYAfoE5wT73UXSYn7cxvtQ617CWJ9ZFBA0GutjTqBdf3fR1r8UJjonhmjW\n",
       "y4v5ocYCzuN97DEkxfoQiaXccmLizzsgRI+i5cX8UPZ0Hu9jjyEp1sccW7e+C7HGqlU3fSwt5gdc\n",
       "xfs0i1E/1ofIPGhxwl6upw+XwbsnmyXh1A8aaku1OFHr8dCdh7yYn4Z7sWe7JCHVDxr6IzjlxGzJ\n",
       "v6vSCN7sd+03XU7BlSGXMd7H/K2GQO+nSvg3XW4sJwVydf6mSywHV5vcJ/xNl/8DIF92aHtg4ScA\n",
       "AAAASUVORK5CYII=\n",
       "\" style=\"display:inline;vertical-align:middle;\" /></a><br>"
      ],
      "text/plain": [
       "disassociation: forall_{K} [forall_{V in_c VecSpaces(K)} [forall_{i, j, k in Natural} [forall_{a_{1}, ..a_{_a}.., a_{i}, b_{1}, ..b_{_a}.., b_{j}, c_{1}, ..c_{_a}.., c_{k} in V} ((a_{1} + ..a_{_a}.. + a_{i} + (b_{1} + ..b_{_a}.. + b_{j}) + c_{1} + ..c_{_a}.. + c_{k}) =  \\\\ (a_{1} + ..a_{_a}.. + a_{i} + b_{1} + ..b_{_a}.. + b_{j} + c_{1} + ..c_{_a}.. + c_{k}))]]]"
      ]
     },
     "execution_count": 7,
     "metadata": {},
     "output_type": "execute_result"
    }
   ],
   "source": [
    "disassociation = \\\n",
    "    Forall(\n",
    "        K, Forall(\n",
    "            V, Forall((i,j,k), \n",
    "                      Forall((a_1_to_i,b_1_to_j,c_1_to_k), \n",
    "                             Equals(VecAdd(a_1_to_i, VecAdd(b_1_to_j), c_1_to_k),\n",
    "                                    VecAdd(a_1_to_i, b_1_to_j, c_1_to_k)) \\\n",
    "                             .with_wrapping_at(2),\n",
    "                             domain=V),\n",
    "                      domain=Natural),\n",
    "            domain=VecSpaces(K)))"
   ]
  },
  {
   "cell_type": "markdown",
   "metadata": {},
   "source": [
    "***We should add commutation theorems, but we may want to revise naming conventions (e.g., permutation) first.***"
   ]
  },
  {
   "cell_type": "code",
   "execution_count": 8,
   "metadata": {},
   "outputs": [
    {
     "name": "stdout",
     "output_type": "stream",
     "text": [
      "These theorems may now be imported from the theory package: proveit.linear_algebra.addition\n"
     ]
    }
   ],
   "source": [
    "%end theorems"
   ]
  }
 ],
 "metadata": {
  "kernelspec": {
   "display_name": "Python 3",
   "language": "python",
   "name": "python3"
  },
  "language_info": {
   "codemirror_mode": {
    "name": "ipython",
    "version": 3
   },
   "file_extension": ".py",
   "mimetype": "text/x-python",
   "name": "python",
   "nbconvert_exporter": "python",
   "pygments_lexer": "ipython3",
   "version": "3.7.4"
  }
 },
 "nbformat": 4,
 "nbformat_minor": 1
}
