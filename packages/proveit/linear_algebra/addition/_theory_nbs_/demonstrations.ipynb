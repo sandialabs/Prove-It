{
 "cells": [
  {
   "cell_type": "markdown",
   "metadata": {},
   "source": [
    "Demonstrations for the theory of <a class=\"ProveItLink\" href=\"theory.ipynb\">proveit.linear_algebra.addition</a>\n",
    "========"
   ]
  },
  {
   "cell_type": "code",
   "execution_count": null,
   "metadata": {},
   "outputs": [],
   "source": [
    "import proveit\n",
    "from proveit import k, t, v, vi, vk, N, Variable\n",
    "from proveit.logic import InSet\n",
    "from proveit.linear_algebra import ScalarMult, VecAdd, VecSpaces, VecSum\n",
    "from proveit.numbers import (zero, one, two, eight, i, e, pi, Exp, Integer,\n",
    "                             Interval, Less, Mult, Neg, num)\n",
    "%begin demonstrations"
   ]
  },
  {
   "cell_type": "code",
   "execution_count": null,
   "metadata": {},
   "outputs": [],
   "source": [
    "i_var = Variable('i') # to distinguish from imaginary number i\n",
    "vec_sum_01, vec_sum_02, vec_sum_03, vec_sum_04, vec_sum_05 = (\n",
    "    VecSum(i_var, vi, domain=Interval(two, two)),\n",
    "    VecSum(i_var, vi, domain=Interval(one, eight)),\n",
    "    VecSum(k, vk, domain=Interval(zero, Exp(two, t))),\n",
    "    VecSum(k, ScalarMult(Exp(e, Mult(two, pi, i, k)), vk), domain=Interval(zero, N)),\n",
    "    VecSum(k, v, domain=Interval(one, eight)))"
   ]
  },
  {
   "cell_type": "markdown",
   "metadata": {},
   "source": [
    "#### `VecSum.shallow_simplification()`\n",
    "`VecSum.shallow_simplification()` will take a single-item vector summation and return the equality of that sum with the vector evaluated at the single index value."
   ]
  },
  {
   "cell_type": "code",
   "execution_count": null,
   "metadata": {},
   "outputs": [],
   "source": [
    "vec_sum_01"
   ]
  },
  {
   "cell_type": "code",
   "execution_count": null,
   "metadata": {},
   "outputs": [],
   "source": [
    "vec_sum_01.shallow_simplification()"
   ]
  },
  {
   "cell_type": "markdown",
   "metadata": {},
   "source": [
    "#### `VecSum.shifting()`"
   ]
  },
  {
   "cell_type": "code",
   "execution_count": null,
   "metadata": {},
   "outputs": [],
   "source": [
    "vec_sum_02.shifting(one)"
   ]
  },
  {
   "cell_type": "code",
   "execution_count": null,
   "metadata": {},
   "outputs": [],
   "source": [
    "vec_sum_02.shifting(two)"
   ]
  },
  {
   "cell_type": "code",
   "execution_count": null,
   "metadata": {},
   "outputs": [],
   "source": [
    "vec_sum_02.shifting(Neg(one))"
   ]
  },
  {
   "cell_type": "code",
   "execution_count": null,
   "metadata": {},
   "outputs": [],
   "source": [
    "# Here we temporarily set auto_simplify=False to see the underlying shift\n",
    "vec_sum_03.shifting(Neg(one), assumptions=[InSet(Exp(two, t), Integer)], auto_simplify=False)"
   ]
  },
  {
   "cell_type": "code",
   "execution_count": null,
   "metadata": {},
   "outputs": [],
   "source": [
    "# Then we allow auto_simplify to proceed as usual\n",
    "vec_sum_03.shifting(Neg(one), assumptions=[InSet(Exp(two, t), Integer)])"
   ]
  },
  {
   "cell_type": "markdown",
   "metadata": {},
   "source": [
    "#### `VecSum.partitioning()`"
   ]
  },
  {
   "cell_type": "code",
   "execution_count": null,
   "metadata": {},
   "outputs": [],
   "source": [
    "vec_sum_02.partitioning(split_index=num(5), side='after')"
   ]
  },
  {
   "cell_type": "code",
   "execution_count": null,
   "metadata": {},
   "outputs": [],
   "source": [
    "vec_sum_02.partitioning(split_index=num(5), side='before')"
   ]
  },
  {
   "cell_type": "markdown",
   "metadata": {},
   "source": [
    "#### `VecSum.partitioning_last()`"
   ]
  },
  {
   "cell_type": "code",
   "execution_count": null,
   "metadata": {},
   "outputs": [],
   "source": [
    "vec_sum_02.partitioning_last()"
   ]
  },
  {
   "cell_type": "code",
   "execution_count": null,
   "metadata": {},
   "outputs": [],
   "source": [
    "vec_sum_03.partitioning_last(\n",
    "        assumptions=[InSet(Exp(two, t), Integer), Less(zero, Exp(two, t))])"
   ]
  },
  {
   "cell_type": "markdown",
   "metadata": {},
   "source": [
    "#### `VecSum.partitioning_first()`"
   ]
  },
  {
   "cell_type": "code",
   "execution_count": null,
   "metadata": {},
   "outputs": [],
   "source": [
    "vec_sum_02.partitioning_first()"
   ]
  },
  {
   "cell_type": "code",
   "execution_count": null,
   "metadata": {},
   "outputs": [],
   "source": [
    "from proveit.logic import Forall, CartExp\n",
    "from proveit.numbers import Complex, Natural, NaturalPos\n",
    "from proveit import defaults, n\n",
    "Cn = CartExp(Complex, n)\n",
    "defaults.assumptions = [InSet(n, NaturalPos), InSet(N, NaturalPos), Forall(k, InSet(vk, Cn), domain=Natural)]"
   ]
  },
  {
   "cell_type": "code",
   "execution_count": null,
   "metadata": {},
   "outputs": [],
   "source": [
    "defaults.assumptions + vec_sum_04.domain_conditions()"
   ]
  },
  {
   "cell_type": "code",
   "execution_count": null,
   "metadata": {},
   "outputs": [],
   "source": [
    "defaults.assumptions[-1].instantiate({k:zero}, assumptions=defaults.assumptions)"
   ]
  },
  {
   "cell_type": "code",
   "execution_count": null,
   "metadata": {},
   "outputs": [],
   "source": [
    "vec_sum_04.partitioning_first()"
   ]
  },
  {
   "cell_type": "markdown",
   "metadata": {},
   "source": [
    "#### Testing re: `VecAdd.factorization()`"
   ]
  },
  {
   "cell_type": "code",
   "execution_count": null,
   "metadata": {},
   "outputs": [],
   "source": [
    "from proveit import defaults\n",
    "from proveit import a, b, c, i, u, v, w, x, y, z, alpha, beta, gamma, delta, fi\n",
    "from proveit.linear_algebra import TensorProd, VecZero\n",
    "from proveit.logic import CartExp, Forall, InSet, NotEquals\n",
    "from proveit.numbers import three, Complex, Natural, Real"
   ]
  },
  {
   "cell_type": "markdown",
   "metadata": {},
   "source": [
    "Let's set some defaults for convienience in our testing below."
   ]
  },
  {
   "cell_type": "code",
   "execution_count": null,
   "metadata": {},
   "outputs": [],
   "source": [
    "R3 = CartExp(Real, three)"
   ]
  },
  {
   "cell_type": "code",
   "execution_count": null,
   "metadata": {},
   "outputs": [],
   "source": [
    "C3 = CartExp(Complex, three)"
   ]
  },
  {
   "cell_type": "code",
   "execution_count": null,
   "metadata": {},
   "outputs": [],
   "source": [
    "defaults.assumptions = [\n",
    "    InSet(u, R3), InSet(v, R3), InSet(w, R3), \n",
    "    InSet(x, R3), InSet(y, R3), InSet(z, R3),\n",
    "    NotEquals(x, VecZero(R3)), NotEquals(z, VecZero(R3)),\n",
    "    InSet(a, Real), InSet(alpha, Complex), InSet(beta, Real),\n",
    "    InSet(gamma, Real), InSet (delta, Real),\n",
    "    Forall(i, InSet(fi, R3), domain=Natural)]"
   ]
  },
  {
   "cell_type": "code",
   "execution_count": null,
   "metadata": {},
   "outputs": [],
   "source": [
    "Mult(alpha, beta, gamma, delta).factorization(Mult(beta, gamma))"
   ]
  },
  {
   "cell_type": "code",
   "execution_count": null,
   "metadata": {},
   "outputs": [],
   "source": [
    "vec_add_01 = VecAdd(ScalarMult(a, x), ScalarMult(Mult(beta, a), y))"
   ]
  },
  {
   "cell_type": "code",
   "execution_count": null,
   "metadata": {},
   "outputs": [],
   "source": [
    "vec_add_02 = VecAdd(TensorProd(x, y), TensorProd(z, y))"
   ]
  },
  {
   "cell_type": "code",
   "execution_count": null,
   "metadata": {},
   "outputs": [],
   "source": [
    "vec_add_03 = VecAdd(TensorProd(x, y, z), TensorProd(x, y, w), TensorProd(x, y, v))"
   ]
  },
  {
   "cell_type": "code",
   "execution_count": null,
   "metadata": {},
   "outputs": [],
   "source": [
    "vec_add_01_factored = vec_add_01.factorization(a, pull='left')"
   ]
  },
  {
   "cell_type": "markdown",
   "metadata": {},
   "source": [
    "<p style=\"color:red\">Testing Begin Here! (Needs to be cleaned up and reorganized later.)</p>"
   ]
  },
  {
   "cell_type": "code",
   "execution_count": null,
   "metadata": {},
   "outputs": [],
   "source": [
    "supposed_vec_space_membership = TensorProd(x, y).deduce_in_vec_space(field=Real)"
   ]
  },
  {
   "cell_type": "code",
   "execution_count": null,
   "metadata": {},
   "outputs": [],
   "source": [
    "supposed_vec_space = supposed_vec_space_membership.domain"
   ]
  },
  {
   "cell_type": "code",
   "execution_count": null,
   "metadata": {},
   "outputs": [],
   "source": [
    "# perhaps this will help the experiment further below?\n",
    "from proveit.linear_algebra.vector_spaces import containing_vec_space\n",
    "containing_vec_space(TensorProd(y, z), field=Real)"
   ]
  },
  {
   "cell_type": "code",
   "execution_count": null,
   "metadata": {},
   "outputs": [],
   "source": [
    "vec_add_02_factored = vec_add_02.factorization(y, pull='right', field=Real)"
   ]
  },
  {
   "cell_type": "code",
   "execution_count": null,
   "metadata": {},
   "outputs": [],
   "source": [
    "vec_add_03"
   ]
  },
  {
   "cell_type": "markdown",
   "metadata": {},
   "source": [
    "Investigating error when Prove-It is trying to perform the following:\n",
    "\n",
    "return tensor_prod_is_in_tensor_prod_space.instantiate(\n",
    "{a: \\_a\\_sub, i: \\_i\\_sub, K: \\_K\\_sub,  V: vec\\_spaces})\n",
    "\n",
    "in tensor_prod_membership.py for the case of $x\\otimes((y\\otimes z) + (y\\otimes w) + (y\\otimes v))$"
   ]
  },
  {
   "cell_type": "code",
   "execution_count": null,
   "metadata": {},
   "outputs": [],
   "source": [
    "# reminder of assumptions:\n",
    "defaults.assumptions"
   ]
  },
  {
   "cell_type": "code",
   "execution_count": null,
   "metadata": {},
   "outputs": [],
   "source": [
    "# this one will work OK (see next cell)\n",
    "temp_factored_tensor_prod_01 = TensorProd(TensorProd(x, y), VecAdd(z, w, v))"
   ]
  },
  {
   "cell_type": "code",
   "execution_count": null,
   "metadata": {},
   "outputs": [],
   "source": [
    "InSet(temp_factored_tensor_prod_01, TensorProd(R3, R3, R3)).conclude()"
   ]
  },
  {
   "cell_type": "code",
   "execution_count": null,
   "metadata": {},
   "outputs": [],
   "source": [
    "temp_factored_tensor_prod_02 = TensorProd(x, VecAdd(TensorProd(y, z), TensorProd(y, w), TensorProd(y, v)))"
   ]
  },
  {
   "cell_type": "code",
   "execution_count": null,
   "metadata": {},
   "outputs": [],
   "source": [
    "deduction_as_vec_space = TensorProd(R3, R3, R3).deduce_as_vec_space()"
   ]
  },
  {
   "cell_type": "code",
   "execution_count": null,
   "metadata": {},
   "outputs": [],
   "source": [
    "deduced_field = deduction_as_vec_space.domain.field"
   ]
  },
  {
   "cell_type": "code",
   "execution_count": null,
   "metadata": {},
   "outputs": [],
   "source": [
    "temp_factored_tensor_prod_02.deduce_in_vec_space(field=None)"
   ]
  },
  {
   "cell_type": "code",
   "execution_count": null,
   "metadata": {},
   "outputs": [],
   "source": [
    "temp_factored_tensor_prod_02.deduce_in_vec_space(field=deduced_field)"
   ]
  },
  {
   "cell_type": "code",
   "execution_count": null,
   "metadata": {},
   "outputs": [],
   "source": [
    "# interestingly, we also can already do this:\n",
    "VecSpaces.known_vec_space(x, field=Real)"
   ]
  },
  {
   "cell_type": "code",
   "execution_count": null,
   "metadata": {},
   "outputs": [],
   "source": [
    "R3.deduce_as_vec_space()"
   ]
  },
  {
   "cell_type": "code",
   "execution_count": null,
   "metadata": {},
   "outputs": [],
   "source": [
    "TensorProd(x, TensorProd(y, z)).simplification()"
   ]
  },
  {
   "cell_type": "code",
   "execution_count": null,
   "metadata": {},
   "outputs": [],
   "source": [
    "from proveit.logic import Equals\n",
    "Equals(TensorProd(R3, TensorProd(R3, R3)), TensorProd(R3, R3, R3)).prove()"
   ]
  },
  {
   "cell_type": "code",
   "execution_count": null,
   "metadata": {},
   "outputs": [],
   "source": [
    "vec_add_03_factored_02 = vec_add_03.factorization(x, pull='left', field=Real)"
   ]
  },
  {
   "cell_type": "code",
   "execution_count": null,
   "metadata": {},
   "outputs": [],
   "source": [
    "TensorProd(x, TensorProd(y, z)).shallow_simplification()"
   ]
  },
  {
   "cell_type": "code",
   "execution_count": null,
   "metadata": {},
   "outputs": [],
   "source": [
    "# This will not yet work, since the factor is a vector and\n",
    "# appears in the scaled portion of each ScalarMult but is not a TensorProd factor\n",
    "try:\n",
    "    VecAdd(ScalarMult(two, x), ScalarMult(three, x)).factorization(x)\n",
    "except Exception as the_exception:\n",
    "    print(\"Exception: {}\".format(the_exception))"
   ]
  },
  {
   "cell_type": "markdown",
   "metadata": {},
   "source": [
    "### Automatically proving conjunctions are equal via permutation"
   ]
  },
  {
   "cell_type": "code",
   "execution_count": null,
   "metadata": {},
   "outputs": [],
   "source": [
    "defaults.assumptions = [InSet(w, R3), InSet(x, R3), InSet(y, R3), InSet(z, R3)]"
   ]
  },
  {
   "cell_type": "code",
   "execution_count": null,
   "metadata": {},
   "outputs": [],
   "source": [
    "Equals(VecAdd(w, x, y, z), VecAdd(z, y, w, x)).prove()"
   ]
  },
  {
   "cell_type": "code",
   "execution_count": null,
   "metadata": {},
   "outputs": [],
   "source": [
    "Equals(VecAdd(y, z, x, w), VecAdd(x, w, y, z)).prove()"
   ]
  },
  {
   "cell_type": "code",
   "execution_count": null,
   "metadata": {},
   "outputs": [],
   "source": [
    "%end demonstrations"
   ]
  },
  {
   "cell_type": "code",
   "execution_count": null,
   "metadata": {},
   "outputs": [],
   "source": []
  }
 ],
 "metadata": {
  "kernelspec": {
   "display_name": "Python 3",
   "language": "python",
   "name": "python3"
  }
 },
 "nbformat": 4,
 "nbformat_minor": 0
}
