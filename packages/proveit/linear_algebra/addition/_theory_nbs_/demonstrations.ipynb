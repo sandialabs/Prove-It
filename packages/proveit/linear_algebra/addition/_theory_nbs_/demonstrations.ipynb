{
 "cells": [
  {
   "cell_type": "markdown",
   "metadata": {},
   "source": [
    "Demonstrations for the theory of <a class=\"ProveItLink\" href=\"theory.ipynb\">proveit.linear_algebra.addition</a>\n",
    "========"
   ]
  },
  {
   "cell_type": "code",
   "execution_count": 1,
   "metadata": {},
   "outputs": [],
   "source": [
    "import proveit\n",
    "from proveit import k, t, v, vi, vk, N, Variable\n",
    "from proveit.logic import InSet\n",
    "from proveit.linear_algebra import ScalarMult, VecAdd, VecSpaces, VecSum\n",
    "from proveit.numbers import (zero, one, two, eight, i, e, pi, Exp, Integer,\n",
    "                             Interval, Less, Mult, Neg, num)\n",
    "%begin demonstrations"
   ]
  },
  {
   "cell_type": "code",
   "execution_count": 2,
   "metadata": {},
   "outputs": [
    {
     "data": {
      "text/html": [
       "<strong id=\"vec_sum_01\">vec_sum_01:</strong> <a class=\"ProveItLink\" href=\"../__pv_it/demonstrations/e76f139ee3ef9061497da90a9f3527fc675ef7270/expr.ipynb\"><img src=\"data:image/png;base64,iVBORw0KGgoAAAANSUhEUgAAAEQAAAA9BAMAAADmENKIAAAAMFBMVEX///8AAAAAAAAAAAAAAAAA\n",
       "AAAAAAAAAAAAAAAAAAAAAAAAAAAAAAAAAAAAAAAAAAAv3aB7AAAAD3RSTlMAEImrmd1EIjJmu+/N\n",
       "dlTbWELgAAAACXBIWXMAAA7EAAAOxAGVKw4bAAAB9UlEQVRIx2NgAAFGJWMBBvyAhYElgIAS/gT2\n",
       "HwSUcAoQVMLAwBRAUEkrIecysC8kaEgJQzkhQ1Z0OBJQwv3//weGEQTO/0eAv9iVvP/fAElVZZf3\n",
       "/8auhPk/PI454x9gVxP/GZH4FmBX0v9/ApztjhJxcIL3/3dE6kNWcg9EsF0Akeu/YjWdTwGo3YHh\n",
       "Jogt/d8BmxIZIGZVYOABJUe2//+wKfGE2g3Wr/8bW8LdAKU3ggie/wewOAUmdhIcsPs/IcnJajKw\n",
       "AoOQBehaWZBlyiiRAAYKrxm4DYBGA0NLIRvInwMJ1f8b4So4HviA/Qs0CcRkYHgNjQREHDMy7AXK\n",
       "AVN8ApgJDH2IeD1SduX7yMDLAFYCYjIwZEOEbxcgFSQBDEwMYIsYeAyAofEULMqGXCxwGTA8B1HA\n",
       "yJFPADpqFiSykdMJ0wF2UNQxAX3Vzw70lhPYhXtRAs15JthnQOcxg1hh4NDFGo0R0FQD9skqrIlh\n",
       "CtT1oATHEojwMLKzIb6sAhGzET6eh6SEEZKQl6P6mG8Dsk214GQL0l8P9zGjP1Z3I/m4zh45wpEA\n",
       "z58zYBC6//9/7OmcwR8pT/8cJuWUOGElurBApHHtl2tAqPZjvPCRwWsVEEzAWfuxywUQrP24LhCs\n",
       "/eQlYBbhrP3esBCs/YSvE6j9ADeWl1nTa+rNAAAAAElFTkSuQmCC\n",
       "\" style=\"display:inline;vertical-align:middle;\" /></a><br>"
      ],
      "text/plain": [
       "<IPython.core.display.HTML object>"
      ]
     },
     "metadata": {},
     "output_type": "display_data"
    },
    {
     "data": {
      "text/html": [
       "<strong id=\"vec_sum_02\">vec_sum_02:</strong> <a class=\"ProveItLink\" href=\"../__pv_it/demonstrations/c74922adc24e6eed7374d876b4c659adf1230b210/expr.ipynb\"><img src=\"data:image/png;base64,iVBORw0KGgoAAAANSUhEUgAAAEQAAAA9BAMAAADmENKIAAAAMFBMVEX///8AAAAAAAAAAAAAAAAA\n",
       "AAAAAAAAAAAAAAAAAAAAAAAAAAAAAAAAAAAAAAAAAAAv3aB7AAAAD3RSTlMAZnaJmSIQu0TNMqvv\n",
       "VN2i2+35AAAACXBIWXMAAA7EAAAOxAGVKw4bAAAB/0lEQVRIx91VO0sDQRCeJJdLjEaiCCIoRMVK\n",
       "xVNsRMQXImJhsNFGjAELX8RGUhqsLbS00n+QVBY2EQsLm9hYCEGvErFQNCj4XGf37nIb2Di9A7c7\n",
       "N/lu3jMBEFTfH4O/yRvTNwlIIA17lJaiJ0JAoKdIIUInuRECUgXBCwIyBzBEaYnDMQHxj7VTqftX\n",
       "dMhcelFDbtmRuPX5zvyXGlLNTIf1PF2qMU+fJVar0HoZ5nbTRFlVSoeXvZakHhnSzY9glJ/bP0rt\n",
       "YQM/H4FWzq8zZcet4FNr8D5BXexbBRm1bYvvh7/iCsipfZ+LnmOKIQo7sn2R2Lw8IoleqMUUauht\n",
       "ghsbLCuCIKMANVlUjdkydvG9ycoqO3dH6nJKxIuaOAtQsIvg1liHM/wNoCYtWMy+JV80JT/fwAsC\n",
       "wlmAXUvcJY2IZoIPhCGoymI2boQ0+CEvkixc8QuLk0yjU41WseU+8e35eel8GFXGj2GNCw/PypI2\n",
       "XSciQ/eqOXcvsqss44PdNSKSlLIZGmzvecNpd27AstsxZ68ANLsRt0gQe4dulUccPpUtzVrrlme2\n",
       "FLE+o154bsQLObng8g57PxD0mGdM3ecwI8308z/ZU8s0pM9hlqi/LQi1maS6cCXITpaC6NE3mEwh\n",
       "RSpC/BsmaSgQJSHJVcoQXGuklrUOx6uBYlQF+AWiS5MaIDURlQAAAABJRU5ErkJggg==\n",
       "\" style=\"display:inline;vertical-align:middle;\" /></a><br>"
      ],
      "text/plain": [
       "<IPython.core.display.HTML object>"
      ]
     },
     "metadata": {},
     "output_type": "display_data"
    },
    {
     "data": {
      "text/html": [
       "<strong id=\"vec_sum_03\">vec_sum_03:</strong> <a class=\"ProveItLink\" href=\"../__pv_it/demonstrations/3289e120aa6be55688d22f668ad74e259538ebbc0/expr.ipynb\"><img src=\"data:image/png;base64,iVBORw0KGgoAAAANSUhEUgAAAEgAAABABAMAAABLkCwZAAAAMFBMVEX///8AAAAAAAAAAAAAAAAA\n",
       "AAAAAAAAAAAAAAAAAAAAAAAAAAAAAAAAAAAAAAAAAAAv3aB7AAAAD3RSTlMAEImrmd1EIjJmu+92\n",
       "VM08Mj7RAAAACXBIWXMAAA7EAAAOxAGVKw4bAAACYUlEQVRIx2NggIISBiLAHCLU8IRcIEJVAAF5\n",
       "RiVjAcYHBBSxMLAE8DpMwK+IP4H9B7tnAX5FnALsP4hwNVMAEYpaBQirYV9IhEElDOWEDVrR4UhQ\n",
       "Eff//x8YRjB4/x8B/uBSdP9/AyTllR3e/xuXIub/8BTAGY8zncd/RiTRBSixhUT1/0ckXHdkRWch\n",
       "FNsBUGb6/x2RRpHU8CowMK4GOeUkiLf+K1ZnyAExnwOIAKVI6f8O2BR5grIIyCecIGm2/3+xKdoA\n",
       "xPngZL0RROj/xpLEeUG5VRvMfAki+P4jZ18ZTQZWoC0sCkD2Y4ZLwDSrDA7s/Z+QFCncZuA2AOoE\n",
       "BgzjT97rOxkY5qFEDQhwXPAD+R5sGu/3XI7nDAy3ISH9fyOi9GDYA1QITPgJQPGdYM390KhBin/e\n",
       "jww8DBBFrE88QCLZEIl6pGzOEsDAxACxTv5CPsioqxCJ00hFCpcBw3UQBYyy+QLyF4DULEgcIhcq\n",
       "TA/YQVHKBPShHYN8A9APTmDxfpR05DwT7EugC9Yy8PgAwzkM7KE92KIlAp6uwA7mwxrBU+A+Aae3\n",
       "VViTChfMM1VglYGIMEIuk2FpeTmImI3w/1xko2qg1UABqv95N+DKLfVw/zP6O+CqDuD+r7VHSgyo\n",
       "gO/fOzAI3f///1dctvkjlQU/h11JxxmDSG46CrhUbUOq0LNwVSyIGmMHAz+O6pNzQQ3UEvaPDNw4\n",
       "ykPm4xe3s6wCgpUcHxlYcdTW3GcZoNEKVMR9AEdKcYFFPdA6fhzWzWILKIBYh8fhNhwBsNA5w5CM\n",
       "IwiWM1g2wAMTRy0LAPZRr4QRj1qeAAAAAElFTkSuQmCC\n",
       "\" style=\"display:inline;vertical-align:middle;\" /></a><br>"
      ],
      "text/plain": [
       "<IPython.core.display.HTML object>"
      ]
     },
     "metadata": {},
     "output_type": "display_data"
    },
    {
     "data": {
      "text/html": [
       "<strong id=\"vec_sum_04\">vec_sum_04:</strong> <a class=\"ProveItLink\" href=\"../__pv_it/demonstrations/310153477104bce7209c717f948988a9e8272a7c0/expr.ipynb\"><img src=\"data:image/png;base64,iVBORw0KGgoAAAANSUhEUgAAAKIAAAA9BAMAAADc7K++AAAAMFBMVEX///8AAAAAAAAAAAAAAAAA\n",
       "AAAAAAAAAAAAAAAAAAAAAAAAAAAAAAAAAAAAAAAAAAAv3aB7AAAAD3RSTlMARLtmzXar7yKZEInd\n",
       "MlTDsdyLAAAACXBIWXMAAA7EAAAOxAGVKw4bAAADlklEQVRYw+1YS2gTURS9yeQzM/lURF2XitBd\n",
       "R0VFQSmoC93YjbWKSEDduLEuKqVUmhakRcQM+K+FhoI/umhAWhAEgyhKENOFUAS1AQWrglqqVmLb\n",
       "8d43M28mjW2S8pa5kPlkbs673/PuBADF06DBmr0gUppbwR8Xitg/AyGhgJAaEIwYyY3k3gtF9CeV\n",
       "9BGhiArI0ymhiBjDE2IRMYaJnNAwPhmHQBKqUpVK5YDhyK9l9KTxchG/G6aq2t3cNVvwZHjslOsu\n",
       "SE0lPSsDMWCkuRlZs3GkVeykw0CR9pkSaDodsr8dxqhlp8/m3TQkFnsq/yiB2EOHSUPjX9xg/jea\n",
       "NzsYopw1jD945yMtqfb8fxgl7pykJupq9gPLbzp4+QqP8HP/nsZAGGKg5Ut7MS1YJLOWDhk6NMwV\n",
       "avRyas/AMCT9FxBxGBHVFASPQXHKvwIMdRIyrdlM39w19AKNWzwoSZiIgzeCjyfiPi3SDombxYAs\n",
       "SPvoaj9+RojDPMZCgcq0nQZdptD0eGLc602edNEmrNADhrDdVoPHs25yjORtE9+9oe+velo54slI\n",
       "uigzQTKK/SaYtMvFZzS6A031eadThy7DMH3JcMR6OF7k9kfaVviifnaldv11lzzCq50fzpZqjdsP\n",
       "IJyzwu6LRR8mIRSzreWdyMSLdgfSkCi1TaQ+QZAivJvyoX3r1UBCWyLzZnCNDkfTh2o1mqsql5oa\n",
       "rkCUgvqKTOrOvY5DFD2WrbxmXawT1qmPDGOZ7XaEAgNtiGq1+vWdbBHsUdVCTKQLbZyc6utbxmta\n",
       "FKJ58Nvk8ZTVKRWFbHoNh+KLvG4qYxBJm9MXeq0ueAgoinZFzJb2zLtzjZlROnj/LyneGEzReQPS\n",
       "QV5d8BOP8FxPugcKqij1+cajpcwMNcpMZYwKTp1HexUMvWTWY5tbk62iZEsP0dc2s9NbNDcHh3G2\n",
       "CyNTK2bL6hXx9OI08Vq+yPu6Dv7PPeWJxO25bHOPkuFPo3SYqHA3rbe5ikhiK11tc7K6iyW7wsFv\n",
       "yE4+4bwoLJ1oq3ufKVdkqypa7H3GmUXVQd2m+ZVKT0HpXDptUZC1X6/oxYjS/XMPk5dIsHNC5p5B\n",
       "19wzUx0Dq1IZdThja2hUzMuhQ4dbYLUIQNfYeg5qRPxZ4Yytch6CIt5gaWxV6lDW41AW1gQgOmMr\n",
       "IgabBCA6Yyt6XSPCaxpbTa9FZcY1th6EdSKqxzW2hkb7BQD+AzneEzsAsPBJAAAAAElFTkSuQmCC\n",
       "\" style=\"display:inline;vertical-align:middle;\" /></a><br>"
      ],
      "text/plain": [
       "<IPython.core.display.HTML object>"
      ]
     },
     "metadata": {},
     "output_type": "display_data"
    },
    {
     "data": {
      "text/html": [
       "<strong id=\"vec_sum_05\">vec_sum_05:</strong> <a class=\"ProveItLink\" href=\"../__pv_it/demonstrations/0472092da6c57c637482759039800a7cbc401cb30/expr.ipynb\"><img src=\"data:image/png;base64,iVBORw0KGgoAAAANSUhEUgAAACsAAAA9BAMAAADG/I11AAAAMFBMVEX///8AAAAAAAAAAAAAAAAA\n",
       "AAAAAAAAAAAAAAAAAAAAAAAAAAAAAAAAAAAAAAAAAAAv3aB7AAAAD3RSTlMAZnaJmSIQu0TNMqvv\n",
       "VN2i2+35AAAACXBIWXMAAA7EAAAOxAGVKw4bAAABb0lEQVQ4y2NgAAMhkwAGTMAUwFaARZi9gWEC\n",
       "NtWfGQWwCDPof8YmyrVrvwMWYU4GjlNYhMMZGGyxqU5g2IZFmNVJGZt3BgXg/I8EFODCvP9/QRip\n",
       "TXv+H0Ao3/8PzpT7ixDm+78BznZHCtT/H+FsFqQg0P+P4CDFEfv/B9icyHb+C1an9/+/gE2Y+f8x\n",
       "rMrn/8QqnPPfAMFJMmTgu4AaACBgcIeBB+pB/z8JcN9d8GTgNYAFADzs2BgOAaWgMY8ILgbebwxM\n",
       "sKR5FCHM8oCBGeahBUhhsYHhKtSav8iem8AKtShHAdkX3oJQxhSsnmQvwCrsB/cLA1JQMiJcx4gk\n",
       "jOS6O0hpG+G6FKRogruO9TZyQM6fCQbz3gATGyKuWZDToMAgzCSMjxDsRKSy5gQipSshvMP6ASnS\n",
       "EcKMBUEGWIS5Va8dZXAvBwIBZGEeXYYFWFTHuyzAZrY4x4MALIZs4nqAzcpSho0wU1gtP8NiCgCc\n",
       "gX83cmTnfAAAAABJRU5ErkJggg==\n",
       "\" style=\"display:inline;vertical-align:middle;\" /></a><br>"
      ],
      "text/plain": [
       "<IPython.core.display.HTML object>"
      ]
     },
     "metadata": {},
     "output_type": "display_data"
    }
   ],
   "source": [
    "i_var = Variable('i') # to distinguish from imaginary number i\n",
    "vec_sum_01, vec_sum_02, vec_sum_03, vec_sum_04, vec_sum_05 = (\n",
    "    VecSum(i_var, vi, domain=Interval(two, two)),\n",
    "    VecSum(i_var, vi, domain=Interval(one, eight)),\n",
    "    VecSum(k, vk, domain=Interval(zero, Exp(two, t))),\n",
    "    VecSum(k, ScalarMult(Exp(e, Mult(two, pi, i, k)), vk), domain=Interval(zero, N)),\n",
    "    VecSum(k, v, domain=Interval(one, eight)))"
   ]
  },
  {
   "cell_type": "markdown",
   "metadata": {},
   "source": [
    "#### `VecSum.shallow_simplification()`\n",
    "`VecSum.shallow_simplification()` will take a single-item vector summation and return the equality of that sum with the vector evaluated at the single index value."
   ]
  },
  {
   "cell_type": "code",
   "execution_count": 3,
   "metadata": {},
   "outputs": [
    {
     "data": {
      "text/html": [
       "<a class=\"ProveItLink\" href=\"../__pv_it/demonstrations/e76f139ee3ef9061497da90a9f3527fc675ef7270/expr.ipynb\"><img src=\"data:image/png;base64,iVBORw0KGgoAAAANSUhEUgAAAEQAAAA9BAMAAADmENKIAAAAMFBMVEX///8AAAAAAAAAAAAAAAAA\n",
       "AAAAAAAAAAAAAAAAAAAAAAAAAAAAAAAAAAAAAAAAAAAv3aB7AAAAD3RSTlMAEImrmd1EIjJmu+/N\n",
       "dlTbWELgAAAACXBIWXMAAA7EAAAOxAGVKw4bAAAB9UlEQVRIx2NgAAFGJWMBBvyAhYElgIAS/gT2\n",
       "HwSUcAoQVMLAwBRAUEkrIecysC8kaEgJQzkhQ1Z0OBJQwv3//weGEQTO/0eAv9iVvP/fAElVZZf3\n",
       "/8auhPk/PI454x9gVxP/GZH4FmBX0v9/ApztjhJxcIL3/3dE6kNWcg9EsF0Akeu/YjWdTwGo3YHh\n",
       "Jogt/d8BmxIZIGZVYOABJUe2//+wKfGE2g3Wr/8bW8LdAKU3ggie/wewOAUmdhIcsPs/IcnJajKw\n",
       "AoOQBehaWZBlyiiRAAYKrxm4DYBGA0NLIRvInwMJ1f8b4So4HviA/Qs0CcRkYHgNjQREHDMy7AXK\n",
       "AVN8ApgJDH2IeD1SduX7yMDLAFYCYjIwZEOEbxcgFSQBDEwMYIsYeAyAofEULMqGXCxwGTA8B1HA\n",
       "yJFPADpqFiSykdMJ0wF2UNQxAX3Vzw70lhPYhXtRAs15JthnQOcxg1hh4NDFGo0R0FQD9skqrIlh\n",
       "CtT1oATHEojwMLKzIb6sAhGzET6eh6SEEZKQl6P6mG8Dsk214GQL0l8P9zGjP1Z3I/m4zh45wpEA\n",
       "z58zYBC6//9/7OmcwR8pT/8cJuWUOGElurBApHHtl2tAqPZjvPCRwWsVEEzAWfuxywUQrP24LhCs\n",
       "/eQlYBbhrP3esBCs/YSvE6j9ADeWl1nTa+rNAAAAAElFTkSuQmCC\n",
       "\" style=\"display:inline;vertical-align:middle;\" /></a>"
      ],
      "text/plain": [
       "Sum_{i=2}^{2} v(i)"
      ]
     },
     "metadata": {},
     "output_type": "display_data"
    }
   ],
   "source": [
    "vec_sum_01"
   ]
  },
  {
   "cell_type": "code",
   "execution_count": 4,
   "metadata": {},
   "outputs": [
    {
     "data": {
      "text/html": [
       "<span style=\"font-size:20px;\"> <a class=\"ProveItLink\" href=\"../__pv_it/demonstrations/887ef456a2846e9da889ea030f2137e28534cbb30/proof.ipynb\" style=\"text-decoration: none\">&nbsp;&#x22A2;&nbsp;&nbsp;</a><a class=\"ProveItLink\" href=\"../__pv_it/demonstrations/6fa4db2025d2f4fa0e211e0861ca15361ea679290/expr.ipynb\"><img src=\"data:image/png;base64,iVBORw0KGgoAAAANSUhEUgAAAKUAAAA/BAMAAABz+BXMAAAAMFBMVEX///8AAAAAAAAAAAAAAAAA\n",
       "AAAAAAAAAAAAAAAAAAAAAAAAAAAAAAAAAAAAAAAAAAAv3aB7AAAAD3RSTlMAmXbNRCIQ72Yyq1Td\n",
       "u4mXa1p+AAAACXBIWXMAAA7EAAAOxAGVKw4bAAAEJ0lEQVRYw5VYzWsTQRR/m2Y3CcmmqV5Eqm0P\n",
       "IijSSkFKsTT0H2jw4AdUGiviSVv8qIKHthfxIDQeRaFF8AMRWhApiLQ5KVUxRRC9iAUvUoRqW/td\n",
       "1/nanYnd2bwdSGaS/Oa3b9785s3LA6BtB3uHi3OPQNusIxCmRZp4n4HaANShUJydOd4vQXdBj7Jn\n",
       "Q1Ba18XgZiCndSMEp9HkDX8G4SbyeM4Rz7jE6yBcKoPnbPVGpwMtSf5BU0qomTFzQcg2NGdqxjPz\n",
       "7p1AQ6cKaHeOu6MBxwlExtAOHcML5BdWnb/RnNFVJDC+hlfIZSTO/oXnrMvhcNUzeM6pQWQACREa\n",
       "ukeR68mStypHafV6MfXhONupzJOO2KlzHY8d/UR7Gce5yUW66X1xe0MfvDdQlOYWP6COdNUefWjA\n",
       "aVnAEo7Us1GmmJz3RlBbAcZJeGSBjxsdyaQqJsKiQYc4c5t6zoO8o0hDuMh2ir7QSfJqgIh4jD7G\n",
       "JGfBrGkrMKQtNtwa8PWVRe+VDwDiIi5pY+FZEiohvcSQVW5E7nTG/UKRMHBICE97OHcBPAS4xpAx\n",
       "V3Jpp99P5W7PDfyW1XESUQ/kYSxHkdVeCGlf9IE+F30Vt3dsXOdO4qNn5PcCRUrO845y8nt+QIrO\n",
       "30tc2kD40qMaTgE0+NwSQ0pO73zSNjsBMUrTQkBRsq44zwHquLm172l7qwD5OhILDNkrw2fdirer\n",
       "ifGdVB0A7wDu0Zwi2adyyuYC2aIgNcqQvTJipGREsuASgZPBFYB8jHyd4I+e/z9mucBY1j3VBKlw\n",
       "msopSS5DBDgnTBHzo33+nC6Qccapt6JldkauKrosQhr42qHVIlOLKqfiTwFka58EknMQpNwj6FRS\n",
       "AnsUXtD+I1neEpkUn/H3pwu0qX9mIZKnSMmZUINjuslkJs1RB530tLKdUwCp1rpqamoZUtFnma92\n",
       "32LdffJ6QohSWZ3mOTBBfFNynEWGjHmch32TKeGPLgg+RzDtDggy5Z532/dOjme8EMHOuzYLG1KC\n",
       "iRvroFaGMdWYT1xm4oElbVyyxS8UaSwJg6SQ4irnhbIZA/q0a0ZyR1a3CWmi7JphO7dPfFrR3x3H\n",
       "eEeR8b98qhTSGf3laG7i8r/1ciGZL521SuCK6SePxO3NrB19Q3Kboj6vXMDlISV2atV8SZ+8Gchc\n",
       "FZtTshsEmasOD+I5q4vInDLEv7MRZK4aK+I5G5F/kNLLeM7PSJzJ9WEhtspaxz68mZvrij6ggIH/\n",
       "2zNcbmFAAaMK7fre8s0MKGB0o2Vn0JszegAqFzDm8eUQukk91XnjK2lfAgoY1gJeIfvJ6/grqFjA\n",
       "MEIoOVXPL/JKBYzuLJ4zSlJla7kg1q4vYDwNU7P6TnPSTKUCRrw/DCdJTKwHuUoFjBOFMJzWNAbV\n",
       "EqpeB6cwD0bv0D/8Oz40cBxx+AAAAABJRU5ErkJggg==\n",
       "\" style=\"display:inline;vertical-align:middle;\" /></a></span>"
      ],
      "text/plain": [
       "|- (Sum_{i=2}^{2} v(i)) = v(2)"
      ]
     },
     "metadata": {},
     "output_type": "display_data"
    }
   ],
   "source": [
    "vec_sum_01.shallow_simplification()"
   ]
  },
  {
   "cell_type": "markdown",
   "metadata": {},
   "source": [
    "#### `VecSum.shifting()`"
   ]
  },
  {
   "cell_type": "code",
   "execution_count": 5,
   "metadata": {},
   "outputs": [
    {
     "data": {
      "text/html": [
       "<span style=\"font-size:20px;\"> <a class=\"ProveItLink\" href=\"../__pv_it/demonstrations/d471a0252eb40149def27a08d1021b51038b9f9c0/proof.ipynb\" style=\"text-decoration: none\">&nbsp;&#x22A2;&nbsp;&nbsp;</a><a class=\"ProveItLink\" href=\"../__pv_it/demonstrations/27f1308c90e8b642607c867e3db57ecf271716810/expr.ipynb\"><img src=\"data:image/png;base64,iVBORw0KGgoAAAANSUhEUgAAAQcAAAA/BAMAAAAf2xDgAAAAMFBMVEX///8AAAAAAAAAAAAAAAAA\n",
       "AAAAAAAAAAAAAAAAAAAAAAAAAAAAAAAAAAAAAAAAAAAv3aB7AAAAD3RSTlMAmXbNRCIQ72Yyq1Td\n",
       "u4mXa1p+AAAACXBIWXMAAA7EAAAOxAGVKw4bAAAGS0lEQVRo3qVYW2hcRRj+z17O7mYvWQTBh2q2\n",
       "glSKNpFCqSGyoS/1QdlVRC0ad73mSTfebw8bKVjBS1YfBNvCrj6o9MEs+BAswaQgFWlxF1EsQk2o\n",
       "+FKEJG2SJjH2OHNm5pw5Z2ZOziQ/bM7kzJnvfOef///+mQHAdoP9F5L7bgS1PV0N6KQIkUvzoGHm\n",
       "AbcdGSDX2+D5gBGRbkAfRfgGTuuQgDvdZqlMrr9CNGjEn+ouhrAOtaoOiazjOPMN2uiffy9oxGhb\n",
       "6VaKEF+B3mGt+XibtYwB5lQrcEbTr6l6HIRXoDmuNR9TzHHNBm0cP74UOOKMqsNBuP+5ibYWiUye\n",
       "NgbZnQE43AgaMVNWdDgI5ne9ZS0S6RXvFeJdyAV+R7QbjATwKdwHenYP9YgDfQB6AmM7va7wqYNw\n",
       "Ae7WJDFDfN90vv6BW/8OHvGiIiQchHs/amiSSJCgmAw/ok9+exK2b8aiHUtL4UeUpPmngyBYbM0u\n",
       "GOsavhuQ3dVBEO1lWzkXNXy3ItXexZ2Q6MM53dvVyOo12V0dBEl64CkuaRTf+IY0UuZ3QqLSwu6w\n",
       "K07Rcu2KesTrUodihCgHYBV0cnQMv97WpxmLJLj50N76NfWIOZmY2Qhpi4bns4e+ssZ0qvkq+rNp\n",
       "N3usWSfYO2rt7pd1EYTJTefGB/9qkIigh+P/kXbHnW5DHWgzeUmgEISM1XJu3axTwpbIz5ZeyxUi\n",
       "z0qz7PzBT3XlKMhSlps6RllAELnTawp9Q+QKW9C4GpDkvWVPwCH6X21W4k+K0G+5bxsXEESppNFr\n",
       "omk02PzNbUqf/R79dkOEovZKdIkhZK3ZAASvnUSxfDttW2go09xRKy+rC1iof8ZVnkz8qiS8KYJZ\n",
       "l9YQhsDf+hwnVJRmWqcKUTYLMUsW0wZ1wTt0WSPRbedeyWoHIHizDBFI0o8uliHhfNvCNYkIJNiV\n",
       "9GWXJY8whJwlWwknQEEC6NNzw9wsRy1JjfyWdZLv6ZF4y0UoXgU1gkjiIF2NtDkIs36dm7Z943AO\n",
       "XW9Bzd2IQK4VgsQov2XwI4gkLktIONJtuzY9Bm8RtrkYUuEk8ZJBtMA4b1vLR8KRbhmCSOIoLT3j\n",
       "UHNJGNycnkD7GZxb50gT0mM8CY9xCH1cWPkRRBJTLgmOZMetn9VEAU7YWyq7CSnyppykwnIIGa5+\n",
       "+hHAHLLd13BINGlCFDwkKpzazFShQCBwE6hDtyAR5wXPhyB64rCUxB5O5XcBzBNnwqCJpmOWJ+GJ\n",
       "CQ4h8iooEUQS0w4JLjBj/IL1D0hjSr8gNy7nUGB2lTHBIZQaagSRxIdOTHAQTV7w/oIHgaRRavFR\n",
       "9Pb5ECRSngT2IXhsoUySVyBhvuRR26/t3D6JfriVGQ6jE4UABN5O1QfRnR8cnUi4iikrYBnq4MdB\n",
       "ScJFuAsCEMQFxaxDwq2LF6UbG8rsJm/F9LyFIWS7QQjKyjbXcGGNs+5aiXv0N3ZqQF64oi7lsMtN\n",
       "xLaAINoIU6cyGKwuHnPz833uUXKely37Xc99EUVIuvmZbAsIojFydZTaa0J+pnmljxfI4SINQsli\n",
       "niFw+TkFAoI4jH002mEkaemsOOTNvrx6uyRZwVGEuBuzT+ps07HKxjZ8+fnYpKU+6Ci1JCvWDW9+\n",
       "xk9bOtt0PNwkC5Ho1f22na9b1qZ6xITEtRShSACGfkTbwFkNEklcCTpEtrid5FrAPl7mpA5ZB3Cm\n",
       "c5ZprLPzgbBWVJ4wbNuiOOEmdGhLZ0oLQVR9PHeVfPgBqevSlMnvhEQTl8aERhRFpGGvgyBZeOMw\n",
       "y61qnCVIDx50EET73U5rslgyw0RXrSWVGw0EMcGJyuwnn8MUwDwaIBNyGfMhvHD5Sw2ZIDM84f2C\n",
       "T+5QjxhScPMi5PHyMnSGkoCq+Q7fptUyr5AxH8IyVMKfcFdIfhs42mJ7Q5DIKU5NfQjv6pBYoEGA\n",
       "4+qp3qpxEdmFIBI1xdGgHwH+CR+XbCOzB/0eng7hCeVU+xBSZ8NXDqYxmQLZHmxFIr6s6vEhjFTD\n",
       "h8Qwq+ho4WiuNracjp6Wck3gQYjn46El4xS3TYH0QH5LTxxTf6AHYeSzj8O6IumeA2QLYH7ByD9R\n",
       "vKSYjTcD9JxHQOuisI54xE0j86dQshJQscMhiHaQax8JM+CZoM4j2+JgkrD8H07RG5VJWXghAAAA\n",
       "AElFTkSuQmCC\n",
       "\" style=\"display:inline;vertical-align:middle;\" /></a></span>"
      ],
      "text/plain": [
       "|- (Sum_{i=1}^{8} v(i)) = (Sum_{i=2}^{9} v(i - 1))"
      ]
     },
     "metadata": {},
     "output_type": "display_data"
    }
   ],
   "source": [
    "vec_sum_02.shifting(one)"
   ]
  },
  {
   "cell_type": "code",
   "execution_count": 6,
   "metadata": {},
   "outputs": [
    {
     "data": {
      "text/html": [
       "<span style=\"font-size:20px;\"> <a class=\"ProveItLink\" href=\"../__pv_it/demonstrations/b53f6ee992bc7d970effca453b26d190077db0420/proof.ipynb\" style=\"text-decoration: none\">&nbsp;&#x22A2;&nbsp;&nbsp;</a><a class=\"ProveItLink\" href=\"../__pv_it/demonstrations/d0e1a08a72eca9cbbadbfea9edd1d56679f2c9f60/expr.ipynb\"><img src=\"data:image/png;base64,iVBORw0KGgoAAAANSUhEUgAAAQcAAAA/BAMAAAAf2xDgAAAAMFBMVEX///8AAAAAAAAAAAAAAAAA\n",
       "AAAAAAAAAAAAAAAAAAAAAAAAAAAAAAAAAAAAAAAAAAAv3aB7AAAAD3RSTlMAmXbNRCIQ72Yyq1Td\n",
       "u4mXa1p+AAAACXBIWXMAAA7EAAAOxAGVKw4bAAAGeUlEQVRo3qVZW2hcRRj+z17O3jdbRfEhmm1E\n",
       "K0WbSKGUEtnQl4IguxUvLV6y3siTJN6NPiSah4oXEnyzlWYRxMuDWfShIMFsQeqlxV2K4gVqQsWX\n",
       "IiRpk20SY48zZ2bOzDln5uRM8sPumT1z5jv//Jfvn5kFwHKd/Q3JPTeAWp6qBnTaCOY4QP7iPIQW\n",
       "cx9vR3rJ9TZ4NmBEpBXQZyO8fyfAm3BfeCXgLt4sV8j1Z4gGjfhT3UURZgBGoKMSXomcYzbzVdro\n",
       "mX8raMRgXWlWijAD8TYk6hr+eJ21jF5mVCvQn5mXVT0MYQZSbciOafjjFAu0qUnaOH58KXDEaVUH\n",
       "Q7CVSBQ1lMgWaOMAu9MLhyaDRsyqvM0QbHd0aLgDMivuK8RbkA8EiLaCkfQDE+AeahEHeh+kq4Fq\n",
       "ryls2uJKdMO9OjrALLH9lDP7w91/B494ThESFOHx0kVEVjdqKZEgQTEdfkSX/PY0bF2MRTtVl8KP\n",
       "KEuzTwfBJ7FVu2CsadiuV3ZXB8EvL9jMuahhuxUp9y5uR4kunEwdLY2sXpXd1UGQpAd2cVmj9MbX\n",
       "pZEyvx0lBmrYHP24WbK4XFaPeEVqUIwQFQAsHeJODOPX2/w0axHSMB/YPXpVPWJORmY2Qsai4fnM\n",
       "wU+sYQ0lcm30tWE301bDCfammrt7ZF0EYXrDufHuvxpKRNDD8f9Iu8ndbagDbbYgCRSCkLVqzq2b\n",
       "dUrYEvnY1GtxInKtNCvOF36qJUdBkrJ46hgVH4Jfd3pNoTlELrMFDeeApGgt2wEH6a+hhsSeFKHH\n",
       "4m8b8yH4qZJGr4ncaDD/zW1In/0GfXZChKJ2SHiJIeSsRgCCSw5f/zvAHfSHhYYyzh20CrK6gIn6\n",
       "J1zliePbkvCmCOaotIYwBNETLVjohyjNtGYVoswLMUsW0wY1wRt0WSPhbede2aoHIAiSrmB2SNJJ\n",
       "l9AvZ24LVyUkkGBX0pdbljzCEPKWbCWckI5II83p03P9gpejlqRGfsU6yXzSEmtxhNIVUCOIlmhA\n",
       "GvlwP12N1AUIc/Sa4Mk9Y3AWXW9BzZ1IgXwthBKD4pbBi+BZEaJBlyRKONRtmzYzDK+BrW0+hlg4\n",
       "SaxkEC4wztlS8yjhULcMwbMiRAk6TkvPGAxxJQzBpyfQfgbn1lnShMywqIRLBIQuIay8CG75EW98\n",
       "uBKCkk1eP6toC3MCXV8kTUiRN+UlFVZAyAr104sAZp9tvkmnMkzRhCi6lBgQ2Ga2CkUCgZtADbqJ\n",
       "EnGR8DwILnkbfx2SKrFLYPlOgHliTDhgInc0RCVcMSEgRF4CJYKr3MzDg/YuhSohBGZMXLD+ARms\n",
       "0nlkxuU8CsyWMiYEhPKkGkGUkwC3A7znxIQAMSUS3l9wP75cwuFwBL19PoQSKVcCexBE2j69Y0fD\n",
       "Tl6fEubzLrb91M7tD9EHt7L9YXiiGIAgkgRaAaJ8+dbhiQRnTFkBy1IDPwpKJTjC3RCA4F9QNBwl\n",
       "eF28IN3YUM1ucldM11sYQq4VhKCsbHOTHNY4w4NXePQXVnzJC1fUpRw6eSLWfQh+eYyxUwUMVheP\n",
       "8fx8R3iUnOflKl7TCzOiCEmen8m6D8EvTLlRlNqrvvzMiEwfL5LDRRqEksU8QxDy8xT4EPzD2KTR\n",
       "DiNJS+eAo7zZVVBvlyQrOIoQ5zH7hM42HbNsbN2Tn49MW+qDq3JNsmJdd+dn/GtLZ5uOh5tkIRK9\n",
       "steWc6OWtaEeMSExLUUoEYC+7xAJNDSUSOJK0CS0JewkVwP28TIjNck6QBCdk0xjjZ0PhJWS8oRh\n",
       "yxLFCTeho7bUU1oIftbHvhsohB+QuiZNmcJ2lJjCpTGhEUURadjrIEg2+jjM8m2NswTpwYMOgl9+\n",
       "tdOaLJbMMNE1VJPSjQaCP8EJy+wl02EMYI4H0IScxjwIR778TIMmiIcn3DPA/yGppE+hmxvhC9il\n",
       "kaEkoIY8h28zappX0JgH4QP4R+PwjuS3gaMttjuEEnnFqakXAb4Pr8QCDQIcV092VI0LSH4LUmJI\n",
       "cTToRbg1/BGiyTYy2IMPzYSwRKeqw4Ngng9fORjHZItke7CZEvFlVY8Hgf+rtnlI9LOKjhaOZnty\n",
       "U3eka8o1gYhgjrBoCyGfC9sUyPQWNrXEsaoSy4VwJuhJD0vwc4BcEcyPWK7j/5Dk3hgJ4HMR4WT3\n",
       "x2EN8TD3m/lDKFoJsHE4BL/sF9pHwwx4Oqjz6JZ0MElY/g+n6yeRbLUosAAAAABJRU5ErkJggg==\n",
       "\" style=\"display:inline;vertical-align:middle;\" /></a></span>"
      ],
      "text/plain": [
       "|- (Sum_{i=1}^{8} v(i)) = (Sum_{i=3}^{10} v(i - 2))"
      ]
     },
     "metadata": {},
     "output_type": "display_data"
    }
   ],
   "source": [
    "vec_sum_02.shifting(two)"
   ]
  },
  {
   "cell_type": "code",
   "execution_count": 7,
   "metadata": {},
   "outputs": [
    {
     "data": {
      "text/html": [
       "<span style=\"font-size:20px;\"> <a class=\"ProveItLink\" href=\"../__pv_it/demonstrations/a99d424ef0d6f4c53b264186d261a22e927fda4b0/proof.ipynb\" style=\"text-decoration: none\">&nbsp;&#x22A2;&nbsp;&nbsp;</a><a class=\"ProveItLink\" href=\"../__pv_it/demonstrations/ee9d38da466c3c5a1efbf197162691f348a78e3a0/expr.ipynb\"><img src=\"data:image/png;base64,iVBORw0KGgoAAAANSUhEUgAAAQcAAABABAMAAADlr6/0AAAAMFBMVEX///8AAAAAAAAAAAAAAAAA\n",
       "AAAAAAAAAAAAAAAAAAAAAAAAAAAAAAAAAAAAAAAAAAAv3aB7AAAAD3RSTlMAmXbNRCIQ72Yyq1Td\n",
       "u4mXa1p+AAAACXBIWXMAAA7EAAAOxAGVKw4bAAAGUklEQVRo3q1ZW2hcRRies5ezu9lLglDxITXb\n",
       "glSKNpFCkVDZ0JeCILuKqMXLrjfyJIn3VoWN9qGClwTfbAu7+qL0JQs+BCWYFcQiLe4iiiLUXSL6\n",
       "4EuSNtk2MXacOTNzZs45M7NnEge2Z3rm/N/5zj////0zEwD+11bahe0t5JI8tEfz0LOV/gh7v/x4\n",
       "zuC99hHej4yR6x3gBY1FpK0ZowgdCIdMvv5u3i1SL/4EojqL39VDDGEIWEZTkO26TjlJO6Pdd3UW\n",
       "kw2lW0+6MfGXEQn7TdazxphTYVdnkX5NNeIigPSEWTQusECrsVg6e3ZNa/GNasBF0AaVrGVYCI2z\n",
       "O2PguDa2l1QZ6CKADw1JpDe8VxBvg1xDZxFt65FQu9dUHe6jHnGhj4CBipb2psKnnNwNUxJLxPc1\n",
       "9+sf3P+n3uJFRUhw/31vSiJBgmI+vMWI/PY82HmzVp1UXQtvUZyRJvvaLkjEnAlMbhr4bkx21wQh\n",
       "2F52lHPVwHcbUu1d3Q2JEZz3g22DrJYGvwmCJD3wFBe74Q3iW9JI6e6GRLmO3eGofQHydlVt8brU\n",
       "oRghKgDAvEmOTuPXO/q0BIlo2A8frF5XW3RkYuYgpCENz+ePfQanTap5D/2z7XQHYNMN9pZau0dl\n",
       "QwRhftu98f4/BiQi6OH4v6Tf4tNtqQNtSbJuoggZWHdv7TUpYWvk50gv5EK0J7B2ZeWz1pajoJaC\n",
       "PHWsUv/Vb5xeU+gbIlfZgoZrQFL0ljMBx+j/ppoSf1KEUcjfNhNACEoljV4bTaPF5q+zLX32a/Tb\n",
       "ByIUdVCiSwwhC5saBG87j2L5TtqHyJRp7qR0nWxjof4BV3ky8T1JeFMEuyqtIQxBvPUJTqgozbRW\n",
       "BUTZLMSgLKYt6oK36bJGotvuvSJsaBCcd7D+KCKQpB9dKIGE+20r1yUikGBXMpZdlzzCEHJQthJO\n",
       "iDGcF0gA+nRnQpjlKJTUyC/YIPmGAYm3OELhGlAjBEnQpeB8Q4CwqzeFaTs0Ay6h6+2ouw8RyNVD\n",
       "kJgUtwx+hCCJvyUkXOl2XJueBm8QtrkYUuEk8ZJFtMC67LS6j4Qr3TKEIInTtPTMgClOwhLm9Bza\n",
       "z+DcukS6ID0tkvA0AWFECCs/QpDEAichFJsWr5+VRB6cQ9dXSBekyJtykgorIGSE+ulHwO67+BZ1\n",
       "n0OiRhMi7yFRFtRmqQLyBAJ3AXVoHxJxUfB8CEFPHJeSOCCo/DAAXeJMMG4j86ZIwhMTAkLkVaBE\n",
       "CJJYdEkIgRkTF6y/gTSm9COK7fUcCsy2MiYEhOKcGiFI4gM3JgSImih4f4CHAEmj1Opj6O3dECRS\n",
       "ngT2IXhIrJRI8gZI2C951PZzJ7fPox/uZSbC6ERegyCSuFAdR3e+dXUiwRVTVsAy1MFPACUJjnAP\n",
       "0CB4POFEcdMlweviFenGhjK7zVsxPW9hCNm2DsFTwMTK1pnjsNZ3nLDw6M/s1IC8cENdysEwV6pG\n",
       "ACHYnmTqVAIWq4tneH6+JzxKjl6yJb/rhS+iCEmen8lGACHYGLkqSu0bgfxMiyv2eJ4cLtIglCzm\n",
       "GYKQnwsggBA0Yx+NdhhJWjrLLnl7RH0UWZas4ChCnMfs0ybbdKyysS1ffj4+D9UHV8W6ZMW65c3P\n",
       "+FfQZJuOzW2yEIleO+y0y1UIt9UWsxLXUoQCATh6EW0DmwYkkrgStIhsCTtJzbnTiMxJLbIOENqM\n",
       "yVHNJjsfCNsKyhOGHbcoTrhZE9rSmTJCCKo+nruywbF86qY0ZYZ2Q6KGS2PCIIoi0rA3QZBs9HGY\n",
       "5XoGZwnSgwcThGD7xUlrsliyw0TXVF0qNwYIwQQnKnOYfA5TAPu0RibkMuZDyC0bHGLR88dZ7xd8\n",
       "dJfa4qiCmxfhHfCAQYaSgJry8V5Uy7xCxnwIp8Bg+Jkpk/y2cLTFDoYgkVOcmnoR4j2QaIQmsUKD\n",
       "AMfVM4MV6wpqv+pITCmOBr0IqR7IhJYvm21kDqDfI4shPDGsGvAgIBKJ0AeZFtOYTJ5sD/qRiK+r\n",
       "RjwIaDoGQ09HeYJVdLRwtHtzfadjoK5cE3gQTALzgrBNAemxob6eOFNRYnkQ9oP7Q6sEPwfI5oH9\n",
       "KSP/VGFZMRunNHouIuSWbw1L4lGufnaov1xFNSFvG//tizTxj4cnwhg8pxs8sSMONgnL/wD2bBlb\n",
       "XXhYZgAAAABJRU5ErkJggg==\n",
       "\" style=\"display:inline;vertical-align:middle;\" /></a></span>"
      ],
      "text/plain": [
       "|- (Sum_{i=1}^{8} v(i)) = (Sum_{i=0}^{7} v(i + 1))"
      ]
     },
     "metadata": {},
     "output_type": "display_data"
    }
   ],
   "source": [
    "vec_sum_02.shifting(Neg(one))"
   ]
  },
  {
   "cell_type": "code",
   "execution_count": 8,
   "metadata": {},
   "outputs": [
    {
     "data": {
      "text/html": [
       "<span style=\"font-size:20px;\"><a class=\"ProveItLink\" href=\"../__pv_it/demonstrations/9b2e5fd129f7f90ae1ffb439f5857d4051acef3d0/expr.ipynb\"><img src=\"data:image/png;base64,iVBORw0KGgoAAAANSUhEUgAAADgAAAAUBAMAAAAqxuNgAAAAMFBMVEX///8AAAAAAAAAAAAAAAAA\n",
       "AAAAAAAAAAAAAAAAAAAAAAAAAAAAAAAAAAAAAAAAAAAv3aB7AAAAD3RSTlMAIpnNuzKJRKvvEN12\n",
       "ZlQ4bmvwAAAACXBIWXMAAA7EAAAOxAGVKw4bAAABCElEQVQoz2NgAANDBtyA6wMeST4D3HKM2WYB\n",
       "uGWZH6CZZPnTZLfnBQZGJZMABv4FqJI8HgEMBswMDCIMbN8ZKtFMYlJg4LmQx8DQyMAwk+EEF6qd\n",
       "HAIMS7gcGBjmL2DoF9Bhg5p7ZPdukMO5GBhUOYDquxkY+gOCrkLkik/B9LI2BEEY++FesoIbzLLA\n",
       "C6LoD9xHAnDJZ7wHwDR3A1wS4SQDKFsFLhK5GwgcwB59kM7AAHQkL1wjwxIEi9EB7MtnDIwwq7jh\n",
       "kq1AnwKjijWBgQcWeDwHYB5RKAKGxAYGaSUlbbgGO7hHrBgY/RwY9v///xkuucIdYkil8xSX+VMS\n",
       "0EK8zHs3UrwDAGzGOOHznct8AAAAAElFTkSuQmCC\n",
       "\" style=\"display:inline;vertical-align:middle;\" /></a> <a class=\"ProveItLink\" href=\"../__pv_it/demonstrations/0830b2b3438f5f74e4f5f49a78f5961b45bfa8c70/proof.ipynb\" style=\"text-decoration: none\">&nbsp;&#x22A2;&nbsp;&nbsp;</a><a class=\"ProveItLink\" href=\"../__pv_it/demonstrations/b461e2b4bf19921e5cea1d247efd71398d7c999b0/expr.ipynb\"><img src=\"data:image/png;base64,iVBORw0KGgoAAAANSUhEUgAAAUoAAABLCAMAAAAh3D4mAAAANlBMVEX///8AAAAAAAAAAAAAAAAA\n",
       "AAAAAAAAAAAAAAAAAAAAAAAAAAAAAAAAAAAAAAAAAAAAAAAAAABHL6OuAAAAEXRSTlMAzUSZq1Tv\n",
       "EGYy3Xa7iSJQQBQRrlsAAAAJcEhZcwAADsQAAA7EAZUrDhsAAAdPSURBVHja1VzpuuwaEI0QhMS5\n",
       "3v9lb9LZrQ0lUcKXbr/2QKxV1IBiGFwh49CwGCVutG6LpVvJkKSsbTfrje+1xtKtgCQnLhp3w2Vt\n",
       "y/ZYuhWApICJG1rfy2hNXcMOWLoVgCQjYE2pb3TDlsp2HbB0KwnJ2YJ2Xis63TDKtqpxFyz9PE9M\n",
       "koQTQawrY7u9Ure6WaqaY7AISZ6WZURyiibCbpXoVkXcAzrbCp3EYJm1Vk+LMiJJIkA7G2PnYaKD\n",
       "vDVivGJSorBMj4syJJnMHikO+IZKc6eXCW8tkVi+QJQBSWaBOG5tAdKiLQQSyxeI0icpLBC1zKpF\n",
       "mMy26YSLKZFYvkGUHkkJqKFZmiw4RrviGlximZd3Md8iSo/kkurUvrIwpsXkRzoeLJZvEOWHpLAq\n",
       "nQfzPNMW83LBaTgay1eI0pGUqRJyu5cWvWichiOxmJXY9fn1pCPJbMfNwRnnw7ti6U+S2652xGLs\n",
       "RF8svUkC5qllIZh51hlLb5KTXXr2QjHr8M5YepOk2NAPGyguGEjrT4ryjySxXbcBZ0xk2RlLb5Ic\n",
       "u7bDrgQRnqQzlt4kAxdLbKbUB28WIZ6Mu++AqrkLn/f9KxvY/Yi5MKNmW5TMq3tR5UprMjO4A6rG\n",
       "5UVyCuMPZqF4RKp6I0bK586Ui4Xao2oeDel90UMi+VromJzm/bA5/XUTQ7FX1tmlER7VCaL6yuaU\n",
       "5BoFK/OmTNAhBM31oaOZMeo4wClOtVizgRMa1QnAG5UdN5Aki5nqDTUEMHPIMx1zTiz8rYJaRvIp\n",
       "XoWzvNSRqBKAHr7rysBQ/m0+O24QycXSZMsIsXz7nAMS9x0iwl6Kv5ZiqUQFASQUwyb4K6PkHVo4\n",
       "bgBJksAXm2sszimhbnQ+LkDScD4V+1ly0i8KFQSwxEVRmVUKEXEDSKrUK4ybMpXaF/5p9BmmIHtK\n",
       "lsfo6sxDYVABAMeSHSo+XInywy0lyQH46xaxlW2NTU4jVg8GkXWi5KfOvhwVBHDlGDZ5UTpuKUkO\n",
       "hX3b8iLzVaHX/RPqb35Qx52w3WgfBwdB1uGEEaU+1/8CD5YD6OPL6vd6LUrHLSXJoSBjN0zwZ9dh\n",
       "2oeXs2hoxPaZaTJHOl+QyBOLkiqvsEiUpw45j+oaYIAvO1byWpSOW0oSjteSpdo7KJgGSryg4T34\n",
       "WwMzTsNMjhNVHtq48pWsvFgNXS7ocwADfFlbPV2L0nFLSWZsOYUN0/Ynrg/Exzx6b5FTLmcvoA6j\n",
       "a1Esygu/Qi/NZQ5ggG+PejzVcP/4qwz88yNKxy0lae2/3FJNwzNj/6geIlEqQqmDNPoD9h9GlP8u\n",
       "ffzlih4GGODL2urxelY6binJ3EwwmYiYqsMihSohtq+MTvmCw+l4Vp7Yyutox1zH6SDAEN8tBVdZ\n",
       "kjn4msNmZdnZT+//LfodDIgX3ONXuYS9DK0UPIvqCmCIL9tUF7idJf7Bkcx4zewQrptRN67Ld0Sw\n",
       "p4+LrcmaBhUjJhi6WFKPBdvIIMAQX7Ypy8e0Jg6YUpIw/Dk/PyiT0lvm/43nXl1TfYydGvuIci5a\n",
       "7kAAQ3zZ7+e2Sxm3hMmQW0pSwXFl6XatAqaJUUOdKNVVXFlxAKHmppUdN4AkuMlNijcOJL3aFJgw\n",
       "2xnnq52a7QxJm1Z23ACSC7CAWBBH10viB0zYWmI22c5s2VKXbrCYhpUdN4gkS7euKJhkmzFTYrmA\n",
       "ozFbv/QsyEGgOgV4o7LjBpFMzwskGHDIHGgTKaU2sfMr5nJ2doFEdQLwRmXHDSSZMIUDjqn6nJSW\n",
       "79ieSL01qsblRVJG+gfephPUVt/VXMoPb2XWFjRH1bi8SI6hgwUCDjMxa+szUBB5QGPO2bdH1bi8\n",
       "SEYZEcQSvyh15C/fyHtE5AHlsjM6oGpcDpLBoSjNZefU38/DpP3CB7Q9UDUuB0nVN/3bYBJ71E+m\n",
       "ojuSrO/Yjpi8fvY986yGpO7rBlG3TbSlPynKP5Kj7Xo7nWEOrztj6U1S2K4XPBTmsklnLN1JKt9t\n",
       "SgUF1OuqK/PtBS6d1MeCgPLwuw+O5BrYeuioaH9LZazbl5ks6vWlAEsxlKfffXAkR5+tgTSMv+JP\n",
       "c8OKlBtLVgXl2VujH5L+bTi5DCbWIPOyBLwqWRl7086rj4HyrCg/oKm3tGPaTIKbgbob7HKYj1C+\n",
       "JuSbLfJ1NQ8LBsqjovRI+k8J8D2DeI6rvqZCzc0Ojc3j87BgoDwqSp8k5x8FApIYDq2quo1A0BuK\n",
       "Dss5lG9698Enqd3Sd7NPo9rz/32tqnc7M/7OosOCgvKkKEOSTtmZ3g+DY/56j0BqnpRkFv9oxBsL\n",
       "CsqTogxJru/fdnVhcgbi4pqXNIStkP8bCwLKo+8+RCRFn8vDusYoiB+7yByT1LbHO6ac1mETvyTK\n",
       "hKRae4xXnUzU+lOTUiTLSNO6E1G7j9sBS0dLmZKkzV+tYNVfpL/zggZIUjU+CxhvPCOtfuVcAiY5\n",
       "N35BW9048Zp/5TXvDMmxqYUSt84Ox9+wlgHJ/wEROlj4Jt5/ywAAAABJRU5ErkJggg==\n",
       "\" style=\"display:inline;vertical-align:middle;\" /></a></span>"
      ],
      "text/plain": [
       "{2^{t} in Integer} |- (Sum_{k=0}^{2^{t}} v(k)) = (Sum_{k=0 - 1}^{2^{t} - 1} v(k - (-1)))"
      ]
     },
     "metadata": {},
     "output_type": "display_data"
    }
   ],
   "source": [
    "# Here we temporarily set auto_simplify=False to see the underlying shift\n",
    "vec_sum_03.shifting(Neg(one), assumptions=[InSet(Exp(two, t), Integer)], auto_simplify=False)"
   ]
  },
  {
   "cell_type": "code",
   "execution_count": 9,
   "metadata": {},
   "outputs": [
    {
     "data": {
      "text/html": [
       "<span style=\"font-size:20px;\"><a class=\"ProveItLink\" href=\"../__pv_it/demonstrations/9b2e5fd129f7f90ae1ffb439f5857d4051acef3d0/expr.ipynb\"><img src=\"data:image/png;base64,iVBORw0KGgoAAAANSUhEUgAAADgAAAAUBAMAAAAqxuNgAAAAMFBMVEX///8AAAAAAAAAAAAAAAAA\n",
       "AAAAAAAAAAAAAAAAAAAAAAAAAAAAAAAAAAAAAAAAAAAv3aB7AAAAD3RSTlMAIpnNuzKJRKvvEN12\n",
       "ZlQ4bmvwAAAACXBIWXMAAA7EAAAOxAGVKw4bAAABCElEQVQoz2NgAANDBtyA6wMeST4D3HKM2WYB\n",
       "uGWZH6CZZPnTZLfnBQZGJZMABv4FqJI8HgEMBswMDCIMbN8ZKtFMYlJg4LmQx8DQyMAwk+EEF6qd\n",
       "HAIMS7gcGBjmL2DoF9Bhg5p7ZPdukMO5GBhUOYDquxkY+gOCrkLkik/B9LI2BEEY++FesoIbzLLA\n",
       "C6LoD9xHAnDJZ7wHwDR3A1wS4SQDKFsFLhK5GwgcwB59kM7AAHQkL1wjwxIEi9EB7MtnDIwwq7jh\n",
       "kq1AnwKjijWBgQcWeDwHYB5RKAKGxAYGaSUlbbgGO7hHrBgY/RwY9v///xkuucIdYkil8xSX+VMS\n",
       "0EK8zHs3UrwDAGzGOOHznct8AAAAAElFTkSuQmCC\n",
       "\" style=\"display:inline;vertical-align:middle;\" /></a> <a class=\"ProveItLink\" href=\"../__pv_it/demonstrations/2319d599e88f50608ddfa7acb74e6f1e9274aa6a0/proof.ipynb\" style=\"text-decoration: none\">&nbsp;&#x22A2;&nbsp;&nbsp;</a><a class=\"ProveItLink\" href=\"../__pv_it/demonstrations/76077b5a0813a3f89597401c82671ac71ac226f50/expr.ipynb\"><img src=\"data:image/png;base64,iVBORw0KGgoAAAANSUhEUgAAASEAAABLCAMAAAAI28GhAAAANlBMVEX///8AAAAAAAAAAAAAAAAA\n",
       "AAAAAAAAAAAAAAAAAAAAAAAAAAAAAAAAAAAAAAAAAAAAAAAAAABHL6OuAAAAEXRSTlMAzUSZq1Tv\n",
       "EGYy3Xa7iSJQQBQRrlsAAAAJcEhZcwAADsQAAA7EAZUrDhsAAAbzSURBVHjazZzboqMqDEBFroIw\n",
       "h///2aOltYKBEoTu+rZnqixDbiTgNB0Xmad+l9Pyxt1dUbrBU9Z1FHvjcZ1ROsFzIfuOIlTrnd1R\n",
       "usBL8IUcbR9k9q7tRgDlDkcveEagHypzYxS2Nt5H+nL0gV885BuNpvyGv/NNNwMo9zj6wJNo3qS1\n",
       "jO2+QN8aZW26/YRS5JCKjBRRAs/jedutnm6/kPcYFt9gHGeUEsdijB4poQSexIPtkM4vE6eTujUP\n",
       "okGFdC0HHyqhGD6dbCUDmaPK3RmE4z1RhFLmGCyhCJ75awJie4zv0WZ6QclzDJbQGV76a1xedI+s\n",
       "jW0KgMuFUpQCx2gJneDV1Rjc2iWtnb3F3ZCiRBzL+rrcNyR0gl8vRrbnsM710FSkr05QihyjJfSG\n",
       "l15fNGhZFtpDi1acmSUoZY7hEjrg1cUUhN+vHoMYnJklKCUOZ4m3YxcjBzzz46oxCy6ajUS5AS/8\n",
       "SFv2GGMditIMf3VDPS+C0YqxKM3w3K8DB6GYtdlYlGZ4is1ZkAnOiiGyPyWhJzzxI2svCyYjGovS\n",
       "DC+wKwPkMgLhfMeiNMOfow3xmas98fCItwYC3wAiLLw7TzL3yQtJNxu2JW6ieRBdbzkO0LcBRFh4\n",
       "HkVY5qGAq3S7gyD1s82hsfsTYeFNnPVq76FuGi1EJFf4a3/D6vhkwAS8gQgmqVDiCYK3cTheNq2G\n",
       "Kq80O56JJ3M2aQSvbqBaMDPAE4FcVfUOMwHwLHkDswFBY+cK1vyhInIVL1swKnnt6pUZg4WJJcpw\n",
       "FcP6s06XsAf41dN0zY/J/Y82BDkeQ2Q8SPXTLihNRFmu7E8ZJa8gGrMHeJJiyS1Q1DeB6Uvqb8+p\n",
       "aKwBot4vwuPiiLJcb2NSVzWVEHuA1xdPOm9aXW3D4rjpLf1oY4KqTxl1zqmjiPJchwGarIRi9gAv\n",
       "rlh2yzYqaxb8pcz2pClEtUlIZMMegqjAVSOhiP0lIQOoe869SmP3R+jXjNLXOxG2O8dQMY1233CM\n",
       "hEzeAD84/AQM5KqRULxziAcJKdDw4em0E98nRbBE5HJ7Cucu7GuJGuqphKg+XSyRUDY85YlgMJCr\n",
       "RkLxZoAHPJhsXHL9V1TkEyVHKD3NGfdu5tNCQptGxD6kfhWkCvl2cYGXgoFcNRKK2AM87AMpbPjb\n",
       "PwkTgJ7T/qwgUqGWU44XJ3yyWkK8VDsquaIUDOR6KbAQqQK/JRSxB3jv/8FxBXYK/PGs479eJJpQ\n",
       "eqDM53n4DyOhf8VIV1zhxWAgV40ORewBPjNxLpOkUR2sPrYyuT1kPqwgamSlOlTwQ+WQ7sppYwwG\n",
       "clVZmQZ0CMQyAl72rPtL8eP/VvOMivJB8/xrjQeZelhZlggEA7mqPHW6Ss0FkDnnFu3mD917hGdw\n",
       "3Lceyu0WG4dapKcuxLICEQgGcuUlZI+FX8Qe4EGsJT+blCl1XvKFKdt/bqgJM6Hn/hJaPibVERjI\n",
       "lZMQY8ITpq7sAV6D+VB11UtfZ9bpqU1CupQPIauuuqBxPP+smD3AQzVAUr9OVDS/aHzGGMTKNZ9T\n",
       "Y1euqnDDrD4veE/w6zVXXTF9vTX1ny6+W2GqH7m0ecV3GteWzT0Je4Bnl8ICBbd95dyAXMtoBlNB\n",
       "o7lIjiHKcLWI9QF/qZIqMKqqLI+LTcO4mtJqJm2GC7ZYIpCr5krZA3z6BnBU5c3NF1pf/MoIszcR\n",
       "Fl7FVgAeNZDUNx89Weu7QQo0yO5EWPg5ijVAVHWced/eLkb04mco7PUnwsLHjU7iyfna1sGhB9y+\n",
       "rwfRi4d6rgOI0PDnVgvNdcnbDy9gNqEBXZ8BRGh4PXTvoMM02PVPbWM84NnQ6ZgxWz3ZdzQDC2+G\n",
       "RgXUdmHj6U9J6Ak/+5En2Rim0TUWpRle+pFbdDVmt/BYlHZ4fYogSkP5nbWmcQumxO2E+oySPH7o\n",
       "Sc4D3p79owCiyX5SeW7bx8s96uMCH1Hia/BJzgN+Pr2Fg9RcPNImN9wNVaBcXkKPd0NTdFZArdua\n",
       "2KZZwW6NomlXHPYYwgeU70roDUPfCwNmHJfCTfQ47KamJSSWLanK4pFf8ABQIpZvSugEfzqMJ/a9\n",
       "bUv6y4cOtWzPNdhNLR9QviqhM7wQh0EBLcpgZU17Twm6iFNG+epJzjO8ea2HNtuf9ZRqdrOnXvDn\n",
       "NK4of2VlMfzL4pjZO03pa5k92rd8Eoh5/EnQMsoXJRTD2+dfu+oytQAZY8upV+kbxPoBJbb/gSc5\n",
       "E3g55NiSabFM+SMnqFJ44wd8NkrQNjT5CxK6wGs7YBbaXlXbn1AheVmDuO6G3FgO64/SB572PmLK\n",
       "mh9I//60Kwiv+1ZA5xsfxNN/XYyF4Ze+3/jTN4ryy19/bjADP/c0f3mrazH/rSeK4P8H6HhU51v/\n",
       "/msAAAAASUVORK5CYII=\n",
       "\" style=\"display:inline;vertical-align:middle;\" /></a></span>"
      ],
      "text/plain": [
       "{2^{t} in Integer} |- (Sum_{k=0}^{2^{t}} v(k)) = (Sum_{k=-1}^{2^{t} - 1} v(k + 1))"
      ]
     },
     "metadata": {},
     "output_type": "display_data"
    }
   ],
   "source": [
    "# Then we allow auto_simplify to proceed as usual\n",
    "vec_sum_03.shifting(Neg(one), assumptions=[InSet(Exp(two, t), Integer)])"
   ]
  },
  {
   "cell_type": "markdown",
   "metadata": {},
   "source": [
    "#### `VecSum.partitioning()`"
   ]
  },
  {
   "cell_type": "code",
   "execution_count": 10,
   "metadata": {},
   "outputs": [
    {
     "data": {
      "text/html": [
       "<span style=\"font-size:20px;\"> <a class=\"ProveItLink\" href=\"../__pv_it/demonstrations/dfd81b3221c42eb614399db7c85dbd04c9eed5080/proof.ipynb\" style=\"text-decoration: none\">&nbsp;&#x22A2;&nbsp;&nbsp;</a><a class=\"ProveItLink\" href=\"../__pv_it/demonstrations/9e4f42c37f8e309b66a4b56449a284a8c4798c380/expr.ipynb\"><img src=\"data:image/png;base64,iVBORw0KGgoAAAANSUhEUgAAAYUAAAA/BAMAAAD9K8ncAAAAMFBMVEX///8AAAAAAAAAAAAAAAAA\n",
       "AAAAAAAAAAAAAAAAAAAAAAAAAAAAAAAAAAAAAAAAAAAv3aB7AAAAD3RSTlMAmXbNRCIQ72Yyq1Td\n",
       "u4mXa1p+AAAACXBIWXMAAA7EAAAOxAGVKw4bAAAHkUlEQVRo3q2aX2gcRRzHf3t3u7nL/cnRohZp\n",
       "zbVSlKrJSaHUouQoSqg+5PShKmjvWilFbb3gn+KfQq/2RVDJ4WMr5PDBP/WhhaIBKc1RhFJqbSgW\n",
       "RZCcFcE/D0lrk6Zt2nNmdmZ3dm9md2c3C8l3srPzmf3Nn9/8ZjYA+FpGfkNy4A6QXsYGeR5oBZqg\n",
       "pG2PfxiOxEDv/172B/CgWNHUtbDH4z0f8si710UaXmyHI1FQrGxMBQBwoBFq808Q9yiYlb9WYs5F\n",
       "2gIQisRA2RIUAwBskPE2TQy2P/AoaLwnzdpVd5G2PFUNRWKg2O1kPQDABmnM5FjHawTAhPS9lrtJ\n",
       "T279OhSJgWDwNgQBWKDxBk0cOnTZq2AmL8lIXXeTUDIMyQKlvjqaDwKwQJtYThGGGx4F03OSjHjT\n",
       "TToGtVIIkgWKQ+IdCABwK+hTkDvmVfIxyf3JsvvVrkOlHILEQPAiwL8QBEA1Y3mxDdDrNRVhUtJL\n",
       "58BNuhPWQQjSOatDqvB5IADVcavtn17zp2fBHvEYTd1kc8AivTbQDkGyQKAvGygHAlA9CkEvbVZ4\n",
       "u5fdjkrqnVUGmGpcDlwwsSC8XaNtEplUyysDTE1eD1wQ3hDeHaNjMzJprKEOIJoN3oHQLxyk0ywC\n",
       "iEqaBnUA0b6p4AUnhQHALaqRSbdAHUB0pB28YKUpGposLIhKStwGdQDRfrygxjvcVZB7tFGRi7jK\n",
       "ujciyQQpAogO4WUt3aHzcefmLzqj8ph3XhQgsJtRSSZIEUB00XTti1buRzelBWOirL4WTUQlUZAa\n",
       "AKtuTqRMxx6gq+ShlmgFqNCpHJlEQWoArDSd6tirjubwe2XrF3pK5Dkm8w5qeBIFSQG69YsDYI1d\n",
       "oZuOjv047/diJAbaTFfiRYENg3TiRSYxkAzwAHFeBScAq0bHVbbTEvbZSfSzGmKU1RGtNjTSi0xi\n",
       "IAkgjVx3LA/3gxOANEu9gLFfGO0YeHf5Iw7LyXVeEJtP0wghMomBJICX8Fxp47DcAUAat44kOqL9\n",
       "j0ab7QB1n4IQgd0LSUrU3SAJYAWNyvLOp5H2MEed6+wVLSVMTaunBTvM/bRBQpLSBTdIAmBrBc1j\n",
       "AKR9VqA29J+g4HG2/pitdVTQQGxghiTZNthTRARIszOTjeAAILVr3sWfzBgDdTiL9B6UXI1qzTUV\n",
       "bFAiiWxwAHb8BRn0sIZu7cDj6R8PG6xFnnRnehTeNY3OJVAvJs1W6DcbUfuBXE2JDQoksQ0OQHsC\n",
       "eppm/7WH0d8HwQFAWrOD/v5rtq84rBWJMzxrJiE96qyZa2dWdUiSZYPBuVsOkDq2nLhV1Bc4CTDR\n",
       "bYMdVmW4MLHaU4DDSN80k5AyX3CmO5A0rjEbQpBQh57eRzvUAjkBBryOXh75ghJJWqdv7FWQcjXr\n",
       "/No5WYWCWTNOQmJUxQYVkt0PnA08ID0PMSA24CTAsJcNsbe4mlei0WeOANhkoNItviA/H0Q2BCdJ\n",
       "bOABWgtyQMYSxJuoEU502WDPRBjht+S/QhovIhcQ+ypCJKdk80Ewp5VIojntAGSb8A0W9FythFrj\n",
       "4675YNeccgTrf8AzYDqy1OxzpmcLbIMSSWSDA5Ar6vgR7JPH9Tpx0lIbdjnGuvYleeZT9INTmZLK\n",
       "+qBCEq4PDsDd5KtICo3BXpz6vmt96LFqflh4SE479QWQ2rCfBRHhSFysAZ6AM3S6t7psyLAoJys8\n",
       "WWER1gpnaMlfLIAMSbJjPiuUFQMOOGNHBkDKImZYaS9LfGNfZMf6ZjVl/9g7NMkySwzIltmxvgOA\n",
       "lJ2sJG1vluRr3sOX57qbW1NLzjOa0CQGkgDol9KLrpGHNLbQ5c0meDDxCbCW/nVNtBelnRuZxEAy\n",
       "AHFvsbILgDRpHq7ptjfbLj++1kX76TEaY0YmUZAaAGvihtOb6d915MfX9GHnNdJ0ZIYnUZAaAKth\n",
       "bjeG1pPr0dOdjmRLT5r6iuirAd2cRCZRkBqA6HkyH/lDzrq0oCZqlwxbF6KSTJAigGh/Ofhhc1z0\n",
       "hUGb8/w6EZykzYE6gOhYPXjBPlHfJtmxXFRScgHUAUQrwT+CwbjoC4POnEdUkn4Z1AFEe1rBCw4K\n",
       "P5jtYwFTVNI+UAcQzc0HL/iz8O4MDQ0ik2aq6gCiuumkjAAT0rghvF2hDj0yiYJ2QnAA1fVmI1pb\n",
       "woNynyxecuLs9CoqiYIuWbufNXU/ANUxZ7t98qDcn4kHfJL5xKikpMu5PpKa9QNQrblcxAlpzRVx\n",
       "sxjse2ZUkuH8MJrLQ8kPQFXD5xGJdQFqnpHcv4stUlFJBLS5yfzcE9/6AqgaeCru6Ktqv6HrF4+a\n",
       "jSuSjFphiUgYZBTmYRUG1Gt/b6/7ACzQfehn6wn/1tNk/j82ukQkDNJfbVnjxZjzAVigTME8/vGr\n",
       "uSIdnaeWinSKHiSZYUQDFnwAFgj/U6kx3/AdAUeko5P9W2tkEgbVXqZjKVOCqz6AI9wpFqSLeb/W\n",
       "S+6V2pArLhEJg45r1klIquUN4ECo94zPmG/fNnRJXPBZj/8uurBUJAR6hW25YWB11RvAgYwzQSKU\n",
       "jR55uxtLRNrdUAHwoOeDRCglj0y9sUQkvaEAoPo/HDd3A3zho0kAAAAASUVORK5CYII=\n",
       "\" style=\"display:inline;vertical-align:middle;\" /></a></span>"
      ],
      "text/plain": [
       "|- (Sum_{i=1}^{8} v(i)) = ((Sum_{i=1}^{5} v(i)) + (Sum_{i=6}^{8} v(i)))"
      ]
     },
     "metadata": {},
     "output_type": "display_data"
    }
   ],
   "source": [
    "vec_sum_02.partitioning(split_index=num(5), side='after')"
   ]
  },
  {
   "cell_type": "code",
   "execution_count": 11,
   "metadata": {},
   "outputs": [
    {
     "data": {
      "text/html": [
       "<span style=\"font-size:20px;\"> <a class=\"ProveItLink\" href=\"../__pv_it/demonstrations/54d2cfd4ccf206ba6fce2e235f5fe3929d1be4f60/proof.ipynb\" style=\"text-decoration: none\">&nbsp;&#x22A2;&nbsp;&nbsp;</a><a class=\"ProveItLink\" href=\"../__pv_it/demonstrations/313250a4991c917eba2f133ec3a9a0c7104432b30/expr.ipynb\"><img src=\"data:image/png;base64,iVBORw0KGgoAAAANSUhEUgAAAYUAAAA/BAMAAAD9K8ncAAAAMFBMVEX///8AAAAAAAAAAAAAAAAA\n",
       "AAAAAAAAAAAAAAAAAAAAAAAAAAAAAAAAAAAAAAAAAAAv3aB7AAAAD3RSTlMAmXbNRCIQ72Yyq1Td\n",
       "u4mXa1p+AAAACXBIWXMAAA7EAAAOxAGVKw4bAAAHjUlEQVRo3q2ae2gcRRzHf7t3u7nLPXK0iEVa\n",
       "c1Wq4qOJFEopSo7+U8E/cvqHD1BzVkqxtlzwUXwUcrX/iCg5xL9aIYfgq/80UGpAigmlUEptG4pF\n",
       "ESTXqiAKzaU26TvnzOzM7szdzN7O7i3cfSc7O5+53zx+89uZAOBrBfmGxPq7QHnZG9V5YORpYgW7\n",
       "MxiOxEAfXix2BvAgk1a4Dnb7/M7HfPLubyGB2QhHoiCzaM8GAHCgYWrzzxDzKZipK7Piiy0keLoR\n",
       "isRAmYJfR7oAD2S/SxMD9Y98CtofKLN2VFpI9gONUCQGMpcTlQAAD2S4A6BZ9ykIUyVVzso2kt0I\n",
       "RWIgGFiGIAAXNFGliQMHFvwKpnOKjOSNVtJRfxtUJBeU/O5wLgjABW32fMnWqk/B1KIiI1ZrIVkV\n",
       "fxtUJBcUg/h7QQCtCtYsZCf9Sj6puD9dbCElL19cDkNiIHgZ4F8IAqCadr3YRugt+RWcVvTSGWgl\n",
       "gbUEIUhn3A4pwdeBAFQn3BZ75r6/fAv2yMdo8habDl7bf7wwqU9yQWCtWF8M9FOoHoaglyEf5L3s\n",
       "dlRSb0Mb4Ki9ELhg/Lr0dpm2SWRSOacNcDRxI3BBeEt6d5yOzcik8ao+gGgmeAdCv3SQzrEIICpp\n",
       "DvQBRPtmgxeclgYAd6hGJt0BfQDR4XrwgiM12dBkYUFUUnwZ9AFE+wvYHze5K6/2aKMyF3GVdW9E\n",
       "kgPSBBAdwstaqknn4/Yt3zRH1TGvbOWKsZtRSQ5IE0D0tuPab7u5n9xSFjRlWX0zNBGVREF6AKyW\n",
       "M5HSTW+ArlGHWrIVYIRO5cgkCtIDYKXpZNNbdQzB7xXdL/SUzHNM5wRqeBIFKQGW+8UBsJpX6EtH\n",
       "03uc93smiXu20JX4tsSGATrxIpMYSAV4hDivvAjAatBxlWnOSPvsR/RZCyZlNWWrDY3uIpMYSAFI\n",
       "Iddt5uAhEAFIM9QL2GPSaMfGb5dncVhOrnOS2HyORgiRSQykALyG50odh+UCAGnM3ZJoyqJlgzbb\n",
       "Puo+JSECuxeSFK+0ghSAVTQqy4lPI+1hjjrb3CNbSpg6Vs8V2h8Zow0SkpTKt4IUALZW0DwGQNrn\n",
       "BmpD/0kKHmHrj9NahyUNxAZmSJJngzdFZIAU2zPZBAIAqVfzDn5nxl5fgdNI70XJtajWbE3DBi2S\n",
       "zAYBsO1vSKOHDXRrGx5P//jY4C7ypDtTo/C+Y3Q2jnox4bRCv9OIxk/kqils0CDJbRAA9SnoqTn9\n",
       "V9+K/t4PAgBp2Qv6+695vuKgMUic4WknCalRsWaunVnVIUmuDTbnbjlAcnIlcauoL3ASYKrdBi+s\n",
       "SnNhYqknDweRvu0kIen8wPn2QNK+xmwIQUIdenIv7VAXJAJseBP9eOQLCiQJMAHCT0HK1Wzxa+d0\n",
       "CfJOzTgJ8VEdG3RIXj9wNvCA1BKYQGzASYCtfjaY73A1r0ajzxkBsNlGpWf4gvx8kNkQnKSwgQcY\n",
       "M5AFMpYgVkONcKzNBm8mwjD/Sv4bpPAich6xryJEYlY1HyRzWoskm9MCIFODo1jQc+UCao1P2+aD\n",
       "V3NSCNb/gGfBcWTJxguOZwtsgxZJZoMAyA5a+BHskyesCnHSSht2CGPd+JY88wX64FS6oLM+6JCk\n",
       "64MAuIeciiTRGOzFqRNt60OPW/Pj0k1y2qkvgdKGMRZEhCNxsQb4Ak7R6T7TZkOaRTkZ6c4Ki7BW\n",
       "iaElf7EAMiTJi/ncUFYO2CfGjgyAlEXMsNpblvjGvsC29Z1qip1j79Ak1yw5IFNk2/oCACnbWUl4\n",
       "3izB17ybL891N7emFsQ9mtAkBlIA6EnphZaRh9S83ubNpngw8Qmwjv51TfYuSjs3MomBVADi3sxi\n",
       "CwBpwtlcszxv9qp6+9qSvU+P0xgzMomC9ABY4zdFb2b90FRvX9OHxWu4JmSGJ1GQHgCr7bxuDG0g\n",
       "1xMnm03FKz1p6iuyUwP6chKZREF6AKLnyHzkNzkryoKGrF3SbF2ISnJAmgCi/cXgm80x2QmDseh7\n",
       "OhGcZCyCPoDoeCV4wT5Z3ybYtlxUUuI66AOIjgQ/BIMJ2QmDxZxHVJK1APoAoj0zwQsOSA/M9rKA\n",
       "KSppL+gDiGaXghf8RXp3noYGkUnzJX0AUctxUnaACWnflN4eoQ49MomCtkNwANUNTiO6r4T71T5Z\n",
       "vuTE2O5VVBIFXWLz48+nJjsBqI6L7fbZo2p/Jh/wCeYTo5ISonONj53tCKBabnERx5QFR+TO02bn\n",
       "mVFJtngwGvc5cmcAqgbej4g/HKDmecX9u9kiFZVEQFtqzIbPv+8IoGrjqbitr2T8jq5ffWq2rygy\n",
       "yvkukTDIzi/BGgyoxL/aOdkB4IIeRJ/njnVuPUPl/83RLpEwyHrDy0w2OgBcUDrvbP90qnmkoMo5\n",
       "3i3ScbqR5OwWgH21A8AF4X8qtZeqHUfAIeXoZP/WGpmEQeXX6Vjqq1qLHQCHuF0sSA3mOrVeYo/S\n",
       "huxgl0gYdMRgA6Zk1vwBHAj1nv0l8+2vDF2SF3zex9Wd7xYJgXayV2770mXwB3Ag+1SQCGWTT96u\n",
       "apdIu6o6AB70YpAIpeCTaVW7RLKqGgCq/wPHE3uXiFrueQAAAABJRU5ErkJggg==\n",
       "\" style=\"display:inline;vertical-align:middle;\" /></a></span>"
      ],
      "text/plain": [
       "|- (Sum_{i=1}^{8} v(i)) = ((Sum_{i=1}^{4} v(i)) + (Sum_{i=5}^{8} v(i)))"
      ]
     },
     "metadata": {},
     "output_type": "display_data"
    }
   ],
   "source": [
    "vec_sum_02.partitioning(split_index=num(5), side='before')"
   ]
  },
  {
   "cell_type": "markdown",
   "metadata": {},
   "source": [
    "#### `VecSum.partitioning_last()`"
   ]
  },
  {
   "cell_type": "code",
   "execution_count": 12,
   "metadata": {},
   "outputs": [
    {
     "data": {
      "text/html": [
       "<span style=\"font-size:20px;\"> <a class=\"ProveItLink\" href=\"../__pv_it/demonstrations/51357f727c41452147074c64630172f03bb2a6130/proof.ipynb\" style=\"text-decoration: none\">&nbsp;&#x22A2;&nbsp;&nbsp;</a><a class=\"ProveItLink\" href=\"../__pv_it/demonstrations/0b74b249d7df56ff56576b7d5d3a621baf38ed8e0/expr.ipynb\"><img src=\"data:image/png;base64,iVBORw0KGgoAAAANSUhEUgAAAUUAAABABAMAAAB/4HhpAAAAMFBMVEX///8AAAAAAAAAAAAAAAAA\n",
       "AAAAAAAAAAAAAAAAAAAAAAAAAAAAAAAAAAAAAAAAAAAv3aB7AAAAD3RSTlMAmXbNRCIQ72Yyq1Td\n",
       "u4mXa1p+AAAACXBIWXMAAA7EAAAOxAGVKw4bAAAGMUlEQVRo3rVaW2hcRRj+z17O7mYviRZRpDGb\n",
       "SvFBNCuFIsWSJT74mNUXFYSNSqm3sMFLESxk61MfxOyrVcj6pOhDA0WCPriLL6Ua7VK8PJWslor0\n",
       "wSS1udTEHOecmXNm5mT+k3Pm6ED6JTPffPvPzD///DNdgP+l1P57yTspZB++C+eYRwMEjLKMw19+\n",
       "0NJTwoiJCsXDMB3Q46GAtvt9uGxZQ3pKGHGSLc2PkAzoUOyjTal1GWEIDD0ljGi+zX4Z658Nmvl3\n",
       "0KaTTRmJP/6up4QRjYq75lbgABensJYDPgTIV/WUMOK8697nzq0FdShgLpa7LSMp06ClhBKPuTUV\n",
       "eKIV0CG/jjQk2zKS8n7gR6NKGNHrkO5BaSGox3GkvlOTkZRHgz/7eNidzYiFnltxFAYCHaWDzPL3\n",
       "PiRlK/ijO62QNjLivDd3Tx66Htgho3aj3LaMdrkEOkoo8Xzo48hYVVYPrMqor4QRzbXQyin1CjaG\n",
       "ZNRXwojZ2+HP9TeUtXMtGfWVMGIx/ArBiDKfWfahvhJGHOyFV+40VbX/+FBfCSNO9sMr19sql9mV\n",
       "UV8JJY7YJ2vSEkoZjwQzqq13S8Q4Sihx3A7beYvtnBMTn1h49+KG6iTcEDGOEkrcoUFyx6t9bxvt\n",
       "kFA1DXYljKGEEdPU0wsWd5Bh/IhXxdJ6T8IYShiRkXMWj6pGbc/1idXkVFu3MyRhDCWW2kjXNpuY\n",
       "uMlycIvriXEh4ZzmEywv3lFojpV9qK1Ey4MUBKLBHKNodZU9viY/o5BgH2apouyCjPpKdHH7YP75\n",
       "a1UkFtk2NGeVHmLa94gf7LTNKZcVudtyS0Z9Jae8CPZ97XORmHQz3ElLld8abDRnKIwrjjC3zmuL\n",
       "ppTynTj3AJx1LOXEjBuoStYpVQh1kQ57WXGVmp2SMaJS3hfoSUy94djIiYNeSjH+l0L5ghuo6WjP\n",
       "K2bIAr+HRVLy2ZgnLtH52Z5NTuQ2nhRvri/8AQVb5T7iSKOEXGpHsDGSkmsj4xmk64A1uiASuY3e\n",
       "KWaX/iJk2vTuVEqR6c/SO/gIHdvBJbt8i9kYQYnbyHjO7I3s1ERig6ePI5veXsstHLCDAMB3AB/a\n",
       "bwT5GVlZ2K+WjFGVmI0uz57L/PXlbZHY4Od+gecpJrxOepFf3gSYypDqHB3Kyt5MxtyUMZKSsbR0\n",
       "8fTSUpvzMlV7R+fJIDlRsDEtxP78BiSAKkOHTEpqJoqNUZTctWY820YSFuoLAlGwMfGWEM26UAK6\n",
       "QnDMJApdUVn0R5WN4ZW4jYxH1tokEzjQFIh8z8CkcGcqtuELG6+QD79F+mZ7mD8q9kwkJddGxiuS\n",
       "P8kIizWByG0Ur/BQqqSdvjdsB3qGhoTQNkZScm1kPDviPD4F74pEIT5KvnYvfYr8iPx8SuQK1Sjx\n",
       "MYqSF8MpL0dWOPfxHVWRmPFsfET5uMZW7TlAbZz1YUQl/1novcJwYsE9r4vKO2x2yDvpxdxGLG4G\n",
       "42Uy0ZT8OcUZIblgRDc3g4M8WRIn6yf32Y/aUds/N9NXoiOsgZ/o3jyzPFxkReVpqeOsKsetyqiv\n",
       "RGNYD/zExNaecLEo3S4cdznM/tpU3RWaMuor0fIUBYGYpa8LaR4unsevbGnVLWSuL2EMJYyY+lsO\n",
       "F+mvLPwhjZHlMtmWMIYSRjRpPjp+xCmPXbQs5Mrk+NdN1fNjRcIYSijxsnNYiq80+JOWoZqYwqqI\n",
       "cZRQ4kiE/yNNqt4qjXUZ9ZVQ4lwzvPKgavGyWzLqK6HEevhXbJhXvVWm12TUV0KJmW545THli/dp\n",
       "H+orYcTSRnjlX5S1K1My6ithxDSNAidC8E11UKuXJYyhhBKPOP/+5ta+VMFjlTpgJCsSxlBCiXNS\n",
       "8Mkdwv0zqW7Krsuor4QSG/IWy+Pd6+owZe7KqK+EEg37ZjjRDqG8gtTfLWIsJYxokk1jljdg+Cop\n",
       "zQBlEztjG2WO8ZRQ4gNkc7/a3X/0BtaSmOEYTwklFsr0Wrufcr2KtXwjYDwljGh/K6fx8v4r9Bkq\n",
       "5X5ByMZ4SijxGsAFY9/RZ0+hUqUKx3hKKJEszyvu9SF9bbes7vB0wBF7hWNMJYxoXgrTIeirJq+1\n",
       "ZNRXQonPhgkDQX6ebsmor6Qg/gvam6tAEkPG/QAAAABJRU5ErkJggg==\n",
       "\" style=\"display:inline;vertical-align:middle;\" /></a></span>"
      ],
      "text/plain": [
       "|- (Sum_{i=1}^{8} v(i)) = ((Sum_{i=1}^{7} v(i)) + v(8))"
      ]
     },
     "metadata": {},
     "output_type": "display_data"
    }
   ],
   "source": [
    "vec_sum_02.partitioning_last()"
   ]
  },
  {
   "cell_type": "code",
   "execution_count": 13,
   "metadata": {},
   "outputs": [
    {
     "data": {
      "text/html": [
       "<span style=\"font-size:20px;\"><a class=\"ProveItLink\" href=\"../__pv_it/demonstrations/9b2e5fd129f7f90ae1ffb439f5857d4051acef3d0/expr.ipynb\"><img src=\"data:image/png;base64,iVBORw0KGgoAAAANSUhEUgAAADgAAAAUBAMAAAAqxuNgAAAAMFBMVEX///8AAAAAAAAAAAAAAAAA\n",
       "AAAAAAAAAAAAAAAAAAAAAAAAAAAAAAAAAAAAAAAAAAAv3aB7AAAAD3RSTlMAIpnNuzKJRKvvEN12\n",
       "ZlQ4bmvwAAAACXBIWXMAAA7EAAAOxAGVKw4bAAABCElEQVQoz2NgAANDBtyA6wMeST4D3HKM2WYB\n",
       "uGWZH6CZZPnTZLfnBQZGJZMABv4FqJI8HgEMBswMDCIMbN8ZKtFMYlJg4LmQx8DQyMAwk+EEF6qd\n",
       "HAIMS7gcGBjmL2DoF9Bhg5p7ZPdukMO5GBhUOYDquxkY+gOCrkLkik/B9LI2BEEY++FesoIbzLLA\n",
       "C6LoD9xHAnDJZ7wHwDR3A1wS4SQDKFsFLhK5GwgcwB59kM7AAHQkL1wjwxIEi9EB7MtnDIwwq7jh\n",
       "kq1AnwKjijWBgQcWeDwHYB5RKAKGxAYGaSUlbbgGO7hHrBgY/RwY9v///xkuucIdYkil8xSX+VMS\n",
       "0EK8zHs3UrwDAGzGOOHznct8AAAAAElFTkSuQmCC\n",
       "\" style=\"display:inline;vertical-align:middle;\" /></a>, <a class=\"ProveItLink\" href=\"../__pv_it/demonstrations/055817fa6e7f394931807eae91ca5b3d0f0e8ec50/expr.ipynb\"><img src=\"data:image/png;base64,iVBORw0KGgoAAAANSUhEUgAAADYAAAAVBAMAAAD/UwB2AAAAMFBMVEX///8AAAAAAAAAAAAAAAAA\n",
       "AAAAAAAAAAAAAAAAAAAAAAAAAAAAAAAAAAAAAAAAAAAv3aB7AAAAD3RSTlMAiXaZIs1UEN1mu6sy\n",
       "RO+L2jdBAAAACXBIWXMAAA7EAAAOxAGVKw4bAAAA70lEQVQoz2NgwAVYHXBKMdTjlmJIxS3l2CqD\n",
       "WzIMiBmFTNCFnU3XMDB8B8tXoLmIZQGD/AXeBwwMnA0MjAtQ5bgdGPgeMG2oYeDawMD2HeE4kBF8\n",
       "3xm4vzAriDPwGzDwfINJzTAH62tg4P7DY3mAoR4o9xMqpSEOU8TxAUT6CzDwfALz2SUU4GafV4DJ\n",
       "fQS7zmICwjndkGATYOAF69uagJBihrgc6Ba2b+hysyEU1wIGzu9oZrIJMLiAaM4HDMwBaG45yMCg\n",
       "Dma0MdQdgAixa0BEWJqNjRvArGKhPXB7ZoA9yPH///8AzIiZiichoAAAz34yUu43dNIAAAAASUVO\n",
       "RK5CYII=\n",
       "\" style=\"display:inline;vertical-align:middle;\" /></a> <a class=\"ProveItLink\" href=\"../__pv_it/demonstrations/5547699135a130702ab8981e2a27e24b0cc8cab10/proof.ipynb\" style=\"text-decoration: none\">&nbsp;&#x22A2;&nbsp;&nbsp;</a><a class=\"ProveItLink\" href=\"../__pv_it/demonstrations/fd9f1d0abceb777ae0b453f21485f6eaff27b61e0/expr.ipynb\"><img src=\"data:image/png;base64,iVBORw0KGgoAAAANSUhEUgAAAWcAAABLCAMAAACbf7ZGAAAANlBMVEX///8AAAAAAAAAAAAAAAAA\n",
       "AAAAAAAAAAAAAAAAAAAAAAAAAAAAAAAAAAAAAAAAAAAAAAAAAABHL6OuAAAAEXRSTlMAzUSZq1Tv\n",
       "EGYy3Xa7iSJQQBQRrlsAAAAJcEhZcwAADsQAAA7EAZUrDhsAAAhwSURBVHjazZ3ZgqQqDIZFdlBm\n",
       "eP+XHZcqGwguidDn1F1nyp/PCElYrBmG48PGod0nOP3iaojSFK4JI1Wei6atzC/kIEpjuAaMVHmp\n",
       "Gj9cZahXQpTmcK8ZqfK62mTg9EbGGGgXQpTC8oaqESNZXrDaF41/0YqYiNexG8srqjaMVHkba3nG\n",
       "Oy5f5IFIuhiiFJZ3VE0YyfIs6zF6noVYI6J71cpEupyxE8s1lTbs9xip8jLvMWv848s3NHvViI2E\n",
       "AS5Bd/5aLqms9+7XGMnyLGdcbyxEO0g+vErIkyJ0Z3dmuaGS7tcYqfLlQzV6v6PAzat8LPHRD/av\n",
       "w3JDRfSz7BuhM3kRYXk6twhcER14IEpmuaAi+pnASJXXEVY3tsmcVCzdD1c7A5TMckVF9TOakSxv\n",
       "4NAJU5MJ2Bhn3AUQJbXkVHb6fsIbP6MZyfITGKvrjCu0mCpFZJaBKInlmorqZzQjVV5HB3qztZa3\n",
       "6NETblBClMRyQ0X289Q3cBzyBgwcFddPi0Y8blBClMRySRVmFmf/G4xkeRHHbo1YXDaHKD3haIxk\n",
       "eRU7thIjJvxAlK5wJEaqPIyJLT8M0x8vw/P/hJEsL2PPtUGOWT+AKH3hKIxked41DRiMoyBKXzgK\n",
       "I1medZ3gW0x1ClH6wlEYyfKqa/moMfUhROkLR2Eky6fZlsWTDz2ARYSnYOIvLR0AkYxU+ZA+TBmL\n",
       "JnUYvVgmCPSB5Z6P/AD6FbB0AMQxXoa9cCEvs8pJxFohZV6AsOddTYK2oaU9II4xb3bM48Oeuuvy\n",
       "Pp8NuRhrpzv4RUYOF3+tjnlcMXgwMYMWCmBLxqwX5C6V7LMMM9Tk57yoscvArO0K8dN1Mp/3pNGX\n",
       "ldnjQz8zqK+ghQDYlDHtvyxfYHFs3kIaOPawyYuiDb/cRw35bKNQbl1BT+o7nL0pXPV49UCA2xUV\n",
       "B2AB2zImn2kTCZyzafMv+z7McjNik59iEVCmiJnrHg+VHTJM5408VgMoFQsasDFj0oHVESXmbWZ9\n",
       "lEZelH52a5AubkUv2fv5wSr+7Rk/icjwvPs9LgUASsWCBiQzjjdb/XwbJGIbWmq5flQ/CVEPQN6B\n",
       "HDAuA/Nx9lbHRT/a2aFD83wSAFFcNUGhAMmM8qYG2VeH1KYplki29GL9KTmZKSbecf3iDPNRfHo+\n",
       "U36H5Jz0iKwZhJ9VZcNhrifMiDhASmS88bPdH5pwex6xA/fDrKvFz8fPvjKAzxKD9vMK6GQ2eNZL\n",
       "xJpu9l2l7NyvxPjZ31ruANsxFn4uVbPjT2653nLznUF5VU6u1lsx1QhYryjnQa4aShTdQi8qUob9\n",
       "/Gx20q28B+6Sjyi8aoCf60HyHLAJY83PpWp6hrU83DPmAXqTr1ajYHr7FZQDZ0ehlDxeGcMoB7vP\n",
       "PKXKg+nzdQBza7kBbMiY+xmoTklsKPrL4nc7lPL1lMLrEXAxKb+3+ulwn5knV8YmzeTzCv3Yz/LW\n",
       "cgPYhHEfckqlQw6oMnE+Fw35Bs0mH+Ofeu6vh0a5ER3/9L0Hxzg/bmJM+8pfjJ//3FpuAZsxlnmw\n",
       "UHVHZWgEXAnN/Px397Osr53VS3fu9mCVj0m9iIzHYMlOUpT9+SI+Y/rzKWALxqqfC9WjP2+RJD++\n",
       "E/K4YS/87FV9vWBa5eXxb5P/VC56u4/PX1PeyNAhbpwCNmMs/Vyofv1sN897nTs2DKV8PaWPZ1lm\n",
       "XpJB+CH4lEdr8tXLJXNeSCHz4PN64wKwGWPp50L18+pJcHz9uKt6Yzz1sz3vR1yY5AK7NzCtX/f8\n",
       "81Td2N3P9nJC2IQRzFNy1U+N7PbtnOJFJTUAP7tq/fx43dvBbhXcQPMzRHGn9TNmYZ7GeDMfHC/S\n",
       "e/FW6SZf20tgz5dpDD9ftvmkacQ6kr+1oAHJjHfrSOr8cE2xvrHJT3BiNWGOM0xlOgrl5B6xLjrf\n",
       "WvCAbRnL9brqaCu6+iYvwBojrx6aP4uHerq+KY9Z5+e3FjxgW8Yk7J+O07Kg3uTBno2pFkzmvJDN\n",
       "h7YP5dra484Ht4+qG0pYwKaMaSc4a9HV5Ms26gWTJO/b8+dr8o/2B5sD4hjTUXIyCCr7g3wNHvl2\n",
       "Yq1g0jSQT4h9XBoYMHyhpT0gjjF7ttUIDfe7N/kxy7WVgilIEV8c2EGckBtB2oeW9oAD/RSfqZUc\n",
       "8M2OTT4/8sMiSz/O7S8rvDiFjDgh9+A8UgfAofspvl0+3aXnZ8fX6K8fYw7LwwMDpaUD4PBLB/pd\n",
       "19PsAXPyDaK4/q+nIBnJ8iL2/PGaEVOaQpS+cBRGsryPvGMjqJfGIEpfOAojWb7v0xSYVA5ROnc1\n",
       "AiNZvu9pdodJMRCl81F7AiNd3iU53bhaxT7PnjiyNC7FOFBwlJbWgHhGsvyc5praat86kRxpryRJ\n",
       "3InXGaQ9YGkMiGcky49JO6E2TNVWZocXsel5gBY3ltaAvxaeh+zdXjMNoRyCYYsvigSDfW349sXj\n",
       "1oBD91ebf+T5z7RT+CC1CgM/fkPEfE7sOUoha7FDkoMZcGFpDEhhJMsnP3mi1jcMbPnNrbtQlrQ8\n",
       "dkiOlVPCmaUxIIWRLq/UMQKTIzv5sCTRMHQmV+rS0hqQxEiW999VhCX6jW59HSkdlvQ0Y/ETLQ8W\n",
       "NDJLY0AaI13+G0OEX087lA37tWyiBDFBmADAaJlaGgMSGcny8+evdX9SGFuZBlB+LUlTMswM7ju1\n",
       "tAWkMpLldZfB4ylDGaLoniPb9/0F6FLe9xg9itPQ9K3lv2aky7u5w7OkuQeiuLlff9N9uzP4Bfzm\n",
       "40dTl+ghiuw1uHXfbYSaPG/92zX0n2SHKLzTD+v89s/GDy/mrWczuxf/RQREcV363ai6Ro26vG3b\n",
       "qHuxgQpRbBePuL6bvCfyY8sgqF/dAkQZO0Ro3dfNmfw/Hf5tDQ7msPkAAAAASUVORK5CYII=\n",
       "\" style=\"display:inline;vertical-align:middle;\" /></a></span>"
      ],
      "text/plain": [
       "{2^{t} in Integer, 0 < 2^{t}} |- (Sum_{k=0}^{2^{t}} v(k)) = ((Sum_{k=0}^{2^{t} - 1} v(k)) + v(2^{t}))"
      ]
     },
     "metadata": {},
     "output_type": "display_data"
    }
   ],
   "source": [
    "vec_sum_03.partitioning_last(\n",
    "        assumptions=[InSet(Exp(two, t), Integer), Less(zero, Exp(two, t))])"
   ]
  },
  {
   "cell_type": "markdown",
   "metadata": {},
   "source": [
    "#### `VecSum.partitioning_first()`"
   ]
  },
  {
   "cell_type": "code",
   "execution_count": 14,
   "metadata": {},
   "outputs": [
    {
     "data": {
      "text/html": [
       "<span style=\"font-size:20px;\"> <a class=\"ProveItLink\" href=\"../__pv_it/demonstrations/b510c184bdb0c2fac1e8ed828787a1a12ddf9db10/proof.ipynb\" style=\"text-decoration: none\">&nbsp;&#x22A2;&nbsp;&nbsp;</a><a class=\"ProveItLink\" href=\"../__pv_it/demonstrations/491a99bf448c349dadc94b0e044a4f3d4b08f3b60/expr.ipynb\"><img src=\"data:image/png;base64,iVBORw0KGgoAAAANSUhEUgAAAUUAAAA/BAMAAACFlMd9AAAAMFBMVEX///8AAAAAAAAAAAAAAAAA\n",
       "AAAAAAAAAAAAAAAAAAAAAAAAAAAAAAAAAAAAAAAAAAAv3aB7AAAAD3RSTlMAmXbNRCIQ72Yyq1Td\n",
       "u4mXa1p+AAAACXBIWXMAAA7EAAAOxAGVKw4bAAAGP0lEQVRo3p1aW2gcVRj+9zKzs91LgkUUSU1a\n",
       "KRVBs1IoJSgJealvWV+8gGXXQkm9JnipgkIigvigZH20FhJ9UOlLg0UCUswionhrQ1H0RbJYBAlC\n",
       "0hg3scaO5zYzZ3bOmfnnDOx+mznzzfedM+f85z9nAkCPm9g3OPfcDNrDPqIvg8wQII80UrJktsbx\n",
       "IDwTc/e7Y8ruwFpMJyVJTtQ5/gi5GGKloy3K/431mE4qkLRfFj+GO2/GEO1XtEWTs0iLKaUCyUzN\n",
       "exBuJ05gqakr2YttxrRSvuR8S/w4c+ZaHLHcryko/oP1mFbKlxzxSmpwrBVDLOl6XW4B6zGtVC+C\n",
       "tQLVxTiF+zXnl+tIi+mlBJZXvIIjsKcZR1zWVP0HbDOmlxI471fowQO/x0oU1B2y+C+6O6aWEnge\n",
       "0KNyQ3l6zwb2BumlONrX0MT8jvL0VD82OqaX4uigAwfA88qzcy0k3USKYWUDTxxUDuBVLN1EimHf\n",
       "Cp64rJzz/sPSTaQYTnTwxIYqWOdvoBMKAymGg2N0pnClQ58LFqZVQ3AL/fwMpBiO0lhackV3Pjn+\n",
       "kTut71Bd1UzYxXo0kWK4yyPXrl/6lj4kZ1VFfW2sRxMpihbv8WU36Gr79POtKsA1sCPBSIqi+F10\n",
       "g/icCUWYuv9FrlIN4eWeEM6vtbSy6aQoZjdFYuwGl8sRJsum2HExUewqPA6HOz4nQD46HIykKGbE\n",
       "c6+46m71Ofnsh6y4l6sarYsRwlkyOO6MBgAjKYIVMcrsGeVkatPk/hLNpdhxWZFQrbZ6CPb7dADn\n",
       "IpeaSRHMeWnnhKtKOjOiVq+J6KGYDMPnGGGY3N/xuukDfpAykiJY8KJb1T2tCqUe8lqtjkUvmWlG\n",
       "CNQjeLf7xC8ykiLY58/zo38piBe8NuCVPK9oADdKYB6P9no0kyIYECfl5eSJP6BML7qd9JP9hFRd\n",
       "SPAoEYTHNb3HNFIhj/4kRY/OEhQWeGNU82TGcvjCeJDXceB7enwre5QIwuPreo8ppChOBTnd4Lbf\n",
       "s4qLe6FE6/odwHt04V6aDhHl4ej2EoTHpV6PZlLUYzCtl4M0xIbnCJn8eAGgWSCni/z+69HIbG/3\n",
       "EoTHedHiL3ktbiZFUCJa0ixS6kIWhOQyUcxPx3sMEbjHY5F2NJIKe8y+KAWrNlRBPLoRm9yoLRPl\n",
       "/ig8ygTu8WKMR7wUxaAjw4Q0YVQW4FOKV4iJLXILZ0XXH8WYkQjC49v6MZNGimBADC3lqzWL1WON\n",
       "9o9HSGU7CR4lAql73YtCao9ppEIeJ0N97Ta+P3iWfD4mV5fHkmK4RDg3M0IoX8bExxRSBAs+8V7l\n",
       "Do14KI+B1uOMkgBWOzIXGkkRLHuTaEWZTnuZwa2qHEeVC/mphJciBDmFmRRBL2GCgUBKbqyfvL04\n",
       "7qeelJsJAsBx0OVm6aQIeitPJ4gGjkzk2/+Vuuq5SivSXkLgNbrITSdFMLsTiQZLoYUS694HxV/b\n",
       "qrVCeKxzAmSjLW4mRdDhuwxWEA0e1+9uWar1zBx298FIimL+ejgaWJ+5+t0tcXHPDgl2N9xIiqLN\n",
       "083Rw+y472vXdfVremdTtf1Yw24/mkgxvMy6s7wJM6vfXVXVu4zesTORYjiIfSlA03iVnQz6RZyJ\n",
       "FMO5WTxRubXj7GDpJlIMG/144rxqCFvoXW4TKYaFNp44rNz5fhVLN5FiWO3iiT8rz643kXQTKYYW\n",
       "H+QnMcHjuvoRDmE397iUXcdLCTzMvn/zSk/pw53m3UUOGyCFVNWr07NrHyZJCZwLVat4QN9pcuoi\n",
       "Bx18wlLQDwNJUgKnwoO1pPfYUMcOG/1ioUdqCxqtBCmBGbpcG19AeFzXnL8F65FJ5e/y/nxD73E9\n",
       "jDbpyfZQF/b9So7ZGI/2pq55sIOG3eFEXzNDpX4hv/9MkPIlD5ER91Q7uR0zupLsNLYhiRQ8dDHo\n",
       "/F8lSPmSZdIMlaFkj40xXckXWI9Uii/B+XqimSDlS9L/zpl6IvlZn9NKT2CTBSpld1viWVv9Vj1e\n",
       "KpC8CnAhk9iOzmn9BIKOkESqVPOm7ePvvtOMlZIkyYN+0ltGWFdvaEbAwzGvqa9gPRIp+wOv8WZc\n",
       "N15KkrS/wdz+aEzZ09jX7OmkZMlHMXcfi5uJsR5TSQn8H61Mq9Qp2eakAAAAAElFTkSuQmCC\n",
       "\" style=\"display:inline;vertical-align:middle;\" /></a></span>"
      ],
      "text/plain": [
       "|- (Sum_{i=1}^{8} v(i)) = (v(1) + (Sum_{i=2}^{8} v(i)))"
      ]
     },
     "metadata": {},
     "output_type": "display_data"
    }
   ],
   "source": [
    "vec_sum_02.partitioning_first()"
   ]
  },
  {
   "cell_type": "code",
   "execution_count": 15,
   "metadata": {},
   "outputs": [
    {
     "data": {
      "text/html": [
       "<strong id=\"defaults.assumptions\">defaults.assumptions:</strong> <a class=\"ProveItLink\" href=\"../__pv_it/demonstrations/e602570ea738fc705f8aef7e5621b89357a5dea70/expr.ipynb\"><img src=\"data:image/png;base64,iVBORw0KGgoAAAANSUhEUgAAAU8AAAAZBAMAAABDQ7GfAAAAMFBMVEX///8AAAAAAAAAAAAAAAAA\n",
       "AAAAAAAAAAAAAAAAAAAAAAAAAAAAAAAAAAAAAAAAAAAv3aB7AAAAD3RSTlMAZkRUmRDNuyLviTJ2\n",
       "3asqG0tJAAAACXBIWXMAAA7EAAAOxAGVKw4bAAAElElEQVRYw81XXYgbVRT+kslkJplJNt2KpSg0\n",
       "uFBw0W4U1NZtNYLWYhc7IrRQdpuIVvukcdua7kPtCGJB1m5WkPZBdFop4osEfBBLYSNFdwtVgtQ/\n",
       "NDSitiz1oRVbVkrFc+9kJrmZZGYElV6YmzOXb87fPX8BMAjflUfIFRr4j1eM71KAgFJYdqX/TFGV\n",
       "s96K/1VR1UuafaA33XImb4NuZduLvTDyufJOJN99M1B+aKCzTnnJOzyg7fufXTghD87iCKI1ek8Z\n",
       "ZFalJz8ltwYoiI7SD1wDVv+5NwCY5gGV6a2nZHWS8lSd8e3G6osZecsedbyIK8Cn7KBJgWr1ZJj+\n",
       "LplBArFy+XDZ9bnyF21fBwFjWdrife5zq0jGeYLs7AKNDQORPUjXouTFOHlTJoUHsr0VvQ+7kOoK\n",
       "vaEDJN4KAmpkPg72ufmHRHIgx4NRxGh5dmm/IFGN5auIMFueAuYMATTfaBS5/Fdqr3kUPT5iIZoL\n",
       "BDIHvddH0YpIjnDpCUPgmTYYqycwg9RHVeAtenkU+ELgs/ozx1HmRd3qVjSfqiBpBAKX0VPsE6JF\n",
       "kfyAk/GMwFNR7Yq5BvpR25s4DZxnaffr6/M1XjDcaEmbCiY9ikYut4qvLzDRaHxv9SnddD5+FKlc\n",
       "Kzmex/2PAMmmwPOQJnz9oe35Mv1YL9fkJQgpkDa1/MSE2HDo1q8jiUBgrArF6K0o8521DommTcqX\n",
       "pbWzlDhFgeeJqFAGbqZnrko2IZr9Fuo1jm3niInl0pQohW59S/Y2BALVJg6R9B+d17PHsLJp0+RK\n",
       "LbeRFynmVWlpSNtFPxWB56u8drprHT0zWZwlu+TfIV1hZ580aJVa8tPGoqflzpSOIxi4F8doZ00A\n",
       "Jy9M4oGkEWt5OJGFjLdJWU4iNlvlaX5J4KmowtXP0VPIMo9CuoQ09/62TkfJzYkujxKPJfuC/YHr\n",
       "WS6pTHpsM2131fJJuIoyn+gtMvXMZh5TFYGnYghN7nbmUX71TMuBDLM51SkfJxVR/hCx/MM21h8Y\n",
       "j9DdRUrTFm8rGL172lGUZ1GdBzojC7kR5lKpLvCM8joadV43MK+auMCMs/CgwTTQ3eBQiIH+sSua\n",
       "3xy79XN2f/AHJu+ln/TCPUdk7prR5JPDDpq+U5pY2yJXGYUct0nkOUZdGRudtxV21p+2Hft5hEfL\n",
       "065Tcp1Y+SrbmN2rWid+QKjvMOtPoWqn7yjy8070UFIli2qtRZ5HoWq5bdzlqb+0Sd7gFpHH6Flp\n",
       "94Y7gR3L+eGOSTvqtRcOC425YUBevEo6OZfsA6R1kVn/MLW/58rl3aTodiejNWbs48sccjf0Mfog\n",
       "lRV40vQ0dX2Ty/Ir9okd0x1reH+jV1ORPHUxELgiWjftyj2K6Hrn9Ic2tE2+4cdTrdvdqc/0BE/C\n",
       "h1tt4G9a3QIfCem/zpfuMNwxF/eaVHo0s4w9PWmVMPLHwyraBu7DT1UcpMjXvjHtGZVnU3v8c0nV\n",
       "d+Rmc1iE9Yufw8ivhVW0Cyi/X54UD0peUjH9OO5jlcsM8Z/pX17TXnLBD6+bzn8mycKNvlqxMXjD\n",
       "K8omhb8BEro6I9K8sg0AAAAASUVORK5CYII=\n",
       "\" style=\"display:inline;vertical-align:middle;\" /></a><br>"
      ],
      "text/plain": [
       "<IPython.core.display.HTML object>"
      ]
     },
     "metadata": {},
     "output_type": "display_data"
    }
   ],
   "source": [
    "from proveit.logic import Forall, CartExp\n",
    "from proveit.numbers import Complex, Natural, NaturalPos\n",
    "from proveit import defaults, n\n",
    "Cn = CartExp(Complex, n)\n",
    "defaults.assumptions = [InSet(n, NaturalPos), InSet(N, NaturalPos), Forall(k, InSet(vk, Cn), domain=Natural)]"
   ]
  },
  {
   "cell_type": "code",
   "execution_count": 16,
   "metadata": {},
   "outputs": [
    {
     "data": {
      "text/html": [
       "<a class=\"ProveItLink\" href=\"../__pv_it/demonstrations/f3faa81a3ce7e301b8fad84336fbb728fde4767a0/expr.ipynb\"><img src=\"data:image/png;base64,iVBORw0KGgoAAAANSUhEUgAAAdMAAAAZBAMAAACY1Nn4AAAAMFBMVEX///8AAAAAAAAAAAAAAAAA\n",
       "AAAAAAAAAAAAAAAAAAAAAAAAAAAAAAAAAAAAAAAAAAAv3aB7AAAAD3RSTlMAZkRUmRDNuyLviTJ2\n",
       "3asqG0tJAAAACXBIWXMAAA7EAAAOxAGVKw4bAAAF7ElEQVRYw+VYbWhbVRh+k5vbe3NvkmadOIbC\n",
       "gsOBRdsoqJ3dNILO4cqWqUwc7RI3p/shGrvVrD+6RZAVpK6pINsPP+4mYxTWEVAQx7CRoW1hStC6\n",
       "KRoWUVtK/bGqG9Vt4vm6Hyf3I/eHqOiB3Lz35rnneZ9z3vOe9wQAWsCzpcBn8w38B1qIXIUGLub8\n",
       "dpf7F0uViXNb4G+VKtvNggv0uhvOpqx4x/ZIohFhB77eiC8vOP0uXsjvBOXt1xoq8A3U2xm7easN\n",
       "tHXg6clTYssIHIZg2bO7yPZ0I8YP+9AlimBy0fF3KdkGkOEnK7L/CsCq3/oaAGNkWcSdeQXNaor9\n",
       "FdxvPTYyFxc37ZG7s3AJ4CNzWAmab/chCcqJ9U6DYHi7D9/V0ILVHF2KfaXEIQyhfP5Q3ph36Q90\n",
       "+bIRMIRDqsklKrfwZhNJFDvrQF2tAIE9ECsH0Tw0mdPWZE8rY+izA3qc2AxvMUZEg9bsHOuxu2EX\n",
       "ROuW4Mr9qEutEVBFAwiDLtF0P282J8mi5DFqCgfODxAuhVIlCJj6KLpeaqACitPiMbzFUuFJgHE+\n",
       "1ieq1SxR8FL5gE3qsXYNgowuMlA95wLEk/SOi9Qib7YT9nCaI4+lcVebYRii75YAXjfeaNd91cmJ\n",
       "DKkGwiUHKsNbIvUhgE+5n1d9rE9WYT6i1UtNRYugULrgs2lX4BL0ybos1SxvjtLAjHPkkkwnsg0i\n",
       "R+h8sDbKvg1yIqM5BeovTvu87i2ROgUwg1Pgj69MkEQnG6smVpCg1yY1sMA2YziQdgeGq9WvNZet\n",
       "HD3vPgLRJEsSz8E9D6K8UuPID6rc2ycNi6It5ERGBkldcJKqezvGIiKPvrR9ZXERuGQSK6ipnh6+\n",
       "CELRcA0Uau/yAIZKILlsAXj+tNUQrlFTXBA6RtBqy3Lkp4JcSr7eyMAUbSEHWAcwrIF61U5lejuF\n",
       "L+MlNFIQTJwH+QphM7NNAZYK/fzLKBo2JW6idtYDKNfgIPL/W/12+igsr1EbTaeaXEe2HDyzwuJK\n",
       "FfktFDnyl/m9dLUR8hRtXR3yCJX6u12q6e0wXrDDCZhGoyX+zBb2B1XUckxBLD1nKySHc8doknwT\n",
       "Ac+7AfvgKLrisgJOz/bCvUo6xGY5nAAR3kByiQmhkRLp7SJHLslcAI8b/BRtIZdnUCcZlH2uOpa9\n",
       "zFtxBtFlEnhWQbgIMTJSj1tnVaz11I0T8mKRhqmY8wKuweMuY/9DG9Dl9nJKAUMqHtUIM6NPbSCx\n",
       "VuTIpTS3d9yiGwxtIYf3+khaEhzSkumtsh3PKglgrLM5jsc9apUKp6W6jQo59Ssb8IoXsCmAIjCQ\n",
       "G9JoqdN5x5AuleSjCllC2Mwk2/FECaQ3gzxI9tWgfrtWNxjaQk4qISkHAYfNxvQWV1QwXoBZPMAa\n",
       "usVPI8YikVCnkfeN90j84Wi4wCqOs15A5S70FZu88zAd/07l0VYdXSb7YAczV6QzSTIqwJF3tdGE\n",
       "Q9syvV+GtpDTEqIIIYe9zfR2lGXgKTq5nwTIgO0wJiZpZRMv4wsezBXW312AIL+Fx+8MlGgq7YTU\n",
       "hB5VKD0pWbnMzBnIlDSjODXIIy+uF9caCf1hvV+GtpDTjeQLeKJkkGeYaou3ZLNZTiuQ2wC2LSVP\n",
       "t/XS/KE+f4grWKtpEOcuIwY9VMXZm92AqM3j8XsAFXXP5PO7kdStenZVsQMbl+jmboh0oReiCY4c\n",
       "nWz6r5kV/Od6vwxtkjMZj52YpzfTeBmwZGLxlkjdSLODpbUOVJ0KHcG2TwaP67WZC3BZsFKgtUAn\n",
       "BNfoT78xoab5qhe5XLE7YJKP+Tg36jWwy8nGns78NRP4k1rRgBz4WgA+M47blpO30xnAYdOIezng\n",
       "Vyo+2ahFPwq6/Uo1gXvhuxIMokWknivQMyzJS+ZxyzBlz0P9oKcDUz58wpkkgGuY7/0oKPuVWgcU\n",
       "j+d7+Qc5uykVvHrc6+nAcLKhSyIuJqMFH/8t/cVtyG5Oev6jUvD+52hjI63yyaT+35KgwX+/sTXS\n",
       "8j+QimvwPwFXVKhz5GrWDQAAAABJRU5ErkJggg==\n",
       "\" style=\"display:inline;vertical-align:middle;\" /></a>"
      ],
      "text/plain": [
       "(n in NaturalPos, N in NaturalPos, forall_{k in Natural} (v(k) in Complex^{n}), k in {0 .. N})"
      ]
     },
     "metadata": {},
     "output_type": "display_data"
    }
   ],
   "source": [
    "defaults.assumptions + vec_sum_04.domain_conditions()"
   ]
  },
  {
   "cell_type": "code",
   "execution_count": 17,
   "metadata": {},
   "outputs": [
    {
     "data": {
      "text/html": [
       "<span style=\"font-size:20px;\"><a class=\"ProveItLink\" href=\"../__pv_it/demonstrations/124d3aeb61e5b8df7c7a20e1fcfec96a1783f0d80/expr.ipynb\"><img src=\"data:image/png;base64,iVBORw0KGgoAAAANSUhEUgAAAKEAAAAVBAMAAADcJJPmAAAAMFBMVEX///8AAAAAAAAAAAAAAAAA\n",
       "AAAAAAAAAAAAAAAAAAAAAAAAAAAAAAAAAAAAAAAAAAAv3aB7AAAAD3RSTlMAq1RmmUTNIjK7EInv\n",
       "3XZ/CtNrAAAACXBIWXMAAA7EAAAOxAGVKw4bAAACw0lEQVQ4y4VVS2gTQRj+snlsNpvGgDcPJSiK\n",
       "oNIcpLQHS6AVxCosVvRgLUELhR4kFQUfrcYiXmq1HqSmoKyPS1Awigj21CKCKNUitXhZ2GJVai+l\n",
       "eKg9+f+zr2zzcGBnv5n59/sf880sULflKqBcwzLYfmvRZ1+9JVIVMGxuNIq9mT9zofS4Ox3PoYfG\n",
       "SZ7cVoNxlw8WZxh832i08BZP/mYu/cQmHYk0sJ8n+6oTxrJ+2MsoovuNQj9KQGsGjeimUT9wjWsz\n",
       "Vp0xlPbDVVGwjN/oukIuAhm8R0cU2Gu5VFPVGeN+GF4X8IM1s2QYIoUtCqeQllfwbSfZ6QiS80iN\n",
       "Mu7wQ3VKwNOiP/bbXhk7Z+1YEstMRc+MYXyswdhJzsnsiwURSUqvKKMXQkT9to2cHCn/RKWdPgBM\n",
       "1GCkaFRpCtN2YM/TWwcphGaxP47yoqUunyypEgPkBtjnyGyoUwtO25iCGw5lhYY4zqbzqRtEtFsw\n",
       "OhRypqeckQKAoqsaVVRjfwsFTUpO4qC9/A7Q4yaGLYhDLWL2Nnc3DWpCImOXyxmjK8Rqsr+rPOzI\n",
       "07AthJLHiCYdpg3neR1Cdii6HBNKOWOYdy/bRl2rvCwED2n4uFnyssZhCAcEY6vhNZ7dw12Dy3GU\n",
       "9QjNyXqWupe8bY1nn+WEXyk/ud1hfEDPHUg5CwbXY6sJdi6OuemdGdqGkHO6glyJQT7an1JRdFmM\n",
       "oYRzhFgnr3HFhoFsbE21hQSccoNc6s09mnP5OZoAVUf+QyJqLhQKKSkfKzkOR9lkc9qGSgqLLOuv\n",
       "Yu3hXd29ez7PubdYg+YGe1LGiBUjjjgZNeTdQDwoz1rvE/eNbKWEhxwQMEdViBIHNSSSjh/vUvBg\n",
       "2fVRpbU7QMkFWiDf4/T67DuT27hn6sKL9Qg33mJPCwXNN1GsAsfrMSr/+y3IZgVM1P3mF/APpSmp\n",
       "Faj8ozkAAAAASUVORK5CYII=\n",
       "\" style=\"display:inline;vertical-align:middle;\" /></a> <a class=\"ProveItLink\" href=\"../__pv_it/demonstrations/62cf8e50ccf92df0be39d719845fa32f8da21a8b0/proof.ipynb\" style=\"text-decoration: none\">&nbsp;&#x22A2;&nbsp;&nbsp;</a><a class=\"ProveItLink\" href=\"../__pv_it/demonstrations/a804012f431ac5d8b426f8a55683646a18787da90/expr.ipynb\"><img src=\"data:image/png;base64,iVBORw0KGgoAAAANSUhEUgAAAFwAAAAVBAMAAAA5lpTPAAAAMFBMVEX///8AAAAAAAAAAAAAAAAA\n",
       "AAAAAAAAAAAAAAAAAAAAAAAAAAAAAAAAAAAAAAAAAAAv3aB7AAAAD3RSTlMAEHaJZt1U76symc27\n",
       "IkSKjfYVAAAACXBIWXMAAA7EAAAOxAGVKw4bAAABtUlEQVQoz41Sv0vDUBD+YjUxbaIZREQdIoJI\n",
       "/UHA0Q5ZRBBBlwqtCAUnJx0cdLKKf4AoKLgYUBddooODUxwEB5GqOOhUVCjooOAmDt57SdNn66+D\n",
       "8OXd++7ue3cHhKb7kMP3Vr2zGhfPHT7cVxClxPjhrdVQsBUhlWwBffEcquxyeucsmj+cyy7UGyVn\n",
       "CxDLSBPAQRk72kuJhh0soSB4d4ABIAEMldE3NUpa62Aee2rJOwOcAdMGlKBkdzLpMlzUmH5bf0Vq\n",
       "qiSdrt6BrQxivvjntuDGu+NQl0W7DYm+MabQgsToNiJZ3tbiE/TsmqAsIs9gjpBy6m9EN1HNJcSK\n",
       "TVOtR4G+HnUxSViT8ekWKJ7Rw+k54iQMxcQ6oZKHRPQXE+or828kyTyu/VrsE/XC9OnsqdMZ1PHs\n",
       "rSHhRBPpu4Dli8E5MGJAHmXumpDwxPqOfHA6g8xepVGJQWCfdolLqDJLU6VWRd3g1I8r3qEsqyDN\n",
       "85YyOwrTdx/nGtNh8DIfi0oSpO3OFQry6zZdGOFGLqQr1jpV/LkJ8OE06eJHGxJ27R+mBfV07190\n",
       "yfsa9pdd+dDzG+cTO1degKiN6xYAAAAASUVORK5CYII=\n",
       "\" style=\"display:inline;vertical-align:middle;\" /></a></span>"
      ],
      "text/plain": [
       "{forall_{k in Natural} (v(k) in Complex^{n})} |- v(0) in Complex^{n}"
      ]
     },
     "metadata": {},
     "output_type": "display_data"
    }
   ],
   "source": [
    "defaults.assumptions[-1].instantiate({k:zero}, assumptions=defaults.assumptions)"
   ]
  },
  {
   "cell_type": "code",
   "execution_count": 18,
   "metadata": {},
   "outputs": [
    {
     "data": {
      "text/html": [
       "<span style=\"font-size:20px;\"><a class=\"ProveItLink\" href=\"../__pv_it/demonstrations/6a09797d4d208e470b8566e5b982e01c59f408340/expr.ipynb\"><img src=\"data:image/png;base64,iVBORw0KGgoAAAANSUhEUgAAAEcAAAATBAMAAAAwgQ3NAAAAMFBMVEX///8AAAAAAAAAAAAAAAAA\n",
       "AAAAAAAAAAAAAAAAAAAAAAAAAAAAAAAAAAAAAAAAAAAv3aB7AAAAD3RSTlMAdrsyRM3vEKvdVCKJ\n",
       "mWY5NCfAAAAACXBIWXMAAA7EAAAOxAGVKw4bAAABHElEQVQoz2NgIAB4GYgATBQqqvykWsBw7JsD\n",
       "XJHQfwMGlvikAhRVWiwNDOwfkEzSb2Bg4ERVw9C54RwDQwLDJSU1JaUHQD7Lot8MDDxo9nUpsG5g\n",
       "mIAwiafkDwODF1RSaObMABDd/ZA7AFkRL8M0BobjELarOFRxN4eBDKqi9w8YLoCZ3OEw67oZFJgc\n",
       "kBR5MfBPYDgAZgLdAVdkyz59AiLEjzPwfmFxgChiQCjiW7AoAeGRCwzcn3ggIWA2EwgUIIoY2jmQ\n",
       "FAFt0t8LYRYhmcRQwT4BzmVZwMDgfwfC5kRWxCygAOeCbOL8AmEzCsBElYFYGKGoEoj5PkA5UQxI\n",
       "DN4AGK8iH8SH6alQgfjA9BtQhD0ARxrx0ZyJKQUAO4w+XFsmA4IAAAAASUVORK5CYII=\n",
       "\" style=\"display:inline;vertical-align:middle;\" /></a>, <a class=\"ProveItLink\" href=\"../__pv_it/demonstrations/124d3aeb61e5b8df7c7a20e1fcfec96a1783f0d80/expr.ipynb\"><img src=\"data:image/png;base64,iVBORw0KGgoAAAANSUhEUgAAAKEAAAAVBAMAAADcJJPmAAAAMFBMVEX///8AAAAAAAAAAAAAAAAA\n",
       "AAAAAAAAAAAAAAAAAAAAAAAAAAAAAAAAAAAAAAAAAAAv3aB7AAAAD3RSTlMAq1RmmUTNIjK7EInv\n",
       "3XZ/CtNrAAAACXBIWXMAAA7EAAAOxAGVKw4bAAACw0lEQVQ4y4VVS2gTQRj+snlsNpvGgDcPJSiK\n",
       "oNIcpLQHS6AVxCosVvRgLUELhR4kFQUfrcYiXmq1HqSmoKyPS1Awigj21CKCKNUitXhZ2GJVai+l\n",
       "eKg9+f+zr2zzcGBnv5n59/sf880sULflKqBcwzLYfmvRZ1+9JVIVMGxuNIq9mT9zofS4Ox3PoYfG\n",
       "SZ7cVoNxlw8WZxh832i08BZP/mYu/cQmHYk0sJ8n+6oTxrJ+2MsoovuNQj9KQGsGjeimUT9wjWsz\n",
       "Vp0xlPbDVVGwjN/oukIuAhm8R0cU2Gu5VFPVGeN+GF4X8IM1s2QYIoUtCqeQllfwbSfZ6QiS80iN\n",
       "Mu7wQ3VKwNOiP/bbXhk7Z+1YEstMRc+MYXyswdhJzsnsiwURSUqvKKMXQkT9to2cHCn/RKWdPgBM\n",
       "1GCkaFRpCtN2YM/TWwcphGaxP47yoqUunyypEgPkBtjnyGyoUwtO25iCGw5lhYY4zqbzqRtEtFsw\n",
       "OhRypqeckQKAoqsaVVRjfwsFTUpO4qC9/A7Q4yaGLYhDLWL2Nnc3DWpCImOXyxmjK8Rqsr+rPOzI\n",
       "07AthJLHiCYdpg3neR1Cdii6HBNKOWOYdy/bRl2rvCwED2n4uFnyssZhCAcEY6vhNZ7dw12Dy3GU\n",
       "9QjNyXqWupe8bY1nn+WEXyk/ud1hfEDPHUg5CwbXY6sJdi6OuemdGdqGkHO6glyJQT7an1JRdFmM\n",
       "oYRzhFgnr3HFhoFsbE21hQSccoNc6s09mnP5OZoAVUf+QyJqLhQKKSkfKzkOR9lkc9qGSgqLLOuv\n",
       "Yu3hXd29ez7PubdYg+YGe1LGiBUjjjgZNeTdQDwoz1rvE/eNbKWEhxwQMEdViBIHNSSSjh/vUvBg\n",
       "2fVRpbU7QMkFWiDf4/T67DuT27hn6sKL9Qg33mJPCwXNN1GsAsfrMSr/+y3IZgVM1P3mF/APpSmp\n",
       "Faj8ozkAAAAASUVORK5CYII=\n",
       "\" style=\"display:inline;vertical-align:middle;\" /></a>, <a class=\"ProveItLink\" href=\"../../../numbers/number_sets/natural_numbers/__pv_it/theorems/132c57ec1224a4beaf274a23bd799047020206590/expr.ipynb\"><img src=\"data:image/png;base64,iVBORw0KGgoAAAANSUhEUgAAAEEAAAATBAMAAAA9n32KAAAAMFBMVEX///8AAAAAAAAAAAAAAAAA\n",
       "AAAAAAAAAAAAAAAAAAAAAAAAAAAAAAAAAAAAAAAAAAAv3aB7AAAAD3RSTlMARHarECKJu90yVM1m\n",
       "75kejotwAAAACXBIWXMAAA7EAAAOxAGVKw4bAAAA90lEQVQoz2NgwAf4GAgBdrJVeHyvdmDI/SuA\n",
       "x4wqRgMGlg/4bLEIyGFguMDwvLy2vPwAVhVWBdwBDA3YzFDv6NgAok0PsW7AqkJaBcowZZ6ghlDB\n",
       "qOyaVAQWZ90CU2rKUMAuAFfBxm7E4B8AYnEHIFTMY2lpgIWpIEcBQ/wEsAoGhAqeBcsvwHgO/gIM\n",
       "6x1ArLkdQFAAUcFgwgxXwbCegcEazHBHMoPBmaUBzgVK/2EBMTiQVXAqFMC51xi4vrCBGEwKMKFK\n",
       "INaEq2D9ycC04SSYuQsmBmLwbYDxGBsYWGwWgJnOhWAXM8z+C9TPsgFbfIhVdGCKAwDDkzTgOh63\n",
       "3AAAAABJRU5ErkJggg==\n",
       "\" style=\"display:inline;vertical-align:middle;\" /></a> <a class=\"ProveItLink\" href=\"../__pv_it/demonstrations/d5e6ced56f8dcec2993e082f9e6a804993e23e790/proof.ipynb\" style=\"text-decoration: none\">&nbsp;&#x22A2;&nbsp;&nbsp;</a><a class=\"ProveItLink\" href=\"../__pv_it/demonstrations/0e076a27eb945518b3d8172b45efe28a1a7948880/expr.ipynb\"><img src=\"data:image/png;base64,iVBORw0KGgoAAAANSUhEUgAAAgMAAAA/BAMAAACP0tabAAAAMFBMVEX///8AAAAAAAAAAAAAAAAA\n",
       "AAAAAAAAAAAAAAAAAAAAAAAAAAAAAAAAAAAAAAAAAAAv3aB7AAAAD3RSTlMAmXbNRCIQ72Yyq1Td\n",
       "u4mXa1p+AAAACXBIWXMAAA7EAAAOxAGVKw4bAAALNUlEQVRo3rVbf4wUVx3/zu7O7OzPO2kENdfe\n",
       "EgM1FOGQ2BBS5YJ/mPhrV1KKpsXdig2JadkTLV5b4i2WiD8gt9U/SAPJbUoiTbVhG4MYbcqiFiRt\n",
       "c5smta2msto/NEThOLjjjqOM7715b+bNzJvdd+TNS7jv3s699/nOZ74/3zwA8FgC6seOSpeL0oBa\n",
       "Qb1mxr1eiUdsiIjEhRp87lOqgGLtLteGZFf5uC2+PAeJ9crY+KRPolEs2XLVCMRKysj+R/iloixK\n",
       "YoZydhxghTLNch2vRAYxSj8snYO8Onvb2Qy1xFHpNWrUH6o16KjzhKe8Eq3PzLIzoJKCzJ5QB5f2\n",
       "gzuozGsthRTAqYpXwkTdlqlmtXlEYdg5E3aBAfYcqXn64YixkGqq0yzb75WwkQWpitZaqZCC02Ee\n",
       "v1F2hXiDflgJA7GKQgOdEUvQQL+m0Nog3u6uwCJI7IfyV1Tmxc94ZZZpiuLAMZUUZOZDzLAtu8Ib\n",
       "7EMH0p9VScHpukdOMCdDcaDcVAn0nZBQIAuSWmAfmqAvqNQs2e+RJ1goeKMO6YpKoEHx1ydk56en\n",
       "6IfV7wL8UqVm2hQvjSsQ1SjWhFlZGrDaH5VmiTlemvORUZAU5n95wPF6ZKp9l5e5qchwNGHolwe8\n",
       "EJlmMFjiZF87MpzMnOhbecAPoqPgdI2TxU5kOPoNYYSQBUzcio6CcoOTg8PRAX1faIOygNq16DRL\n",
       "jnByE86DcYsb3frynywK6IIox26STbzxWfLnnGbTXf7aXFTszM1y8ibxWouG6Uc2H7dGPCns0gu8\n",
       "yj/APw7Kbl6sFRVBN2XV7GsRb7XsezPuXzV23XN910W+Vkhi/zL/KLuhs+BK3Y45J1zFDtKr5rDd\n",
       "OGitgBX1MGXNCTqCxK5LB7kyiZtpy8E3Jyml+2njMBCY870eazKFMldcST9nrYbzZ3fa4iX7UQzr\n",
       "gTxe7hUGWcyfEAT/jHRlRAmcdIOqZq+XsS9cg7Lf+PVeCXc7K7k/cGXM9q+U5SYwjeRMw65rzAqh\n",
       "4CHkifjrDfi7Q/oawX1z4oesvGsJTHBaOE/QWK+1/W3CcovMD5OfO+xffkQo0CctC9cfcfxXZnuL\n",
       "IN+UXGFSHzZuulKjZr/WcpUgkDkGnEf3YSz9mr2fRCh47sGdQY3voZkMY2Rp+OgTPBRtQThvsyB1\n",
       "2GYfs9wKyyQ/32G//hf9e/iRGrlrQkF6xW8fD5Le5CDO0i8tV+aomecs3xPbxj4crRgdA1bsQkR0\n",
       "EAVI7m6mgvbdAeNtvMQnMCj1quysIBbP++fBpeUliAX7iQvUzC/4AqjO4nXqLNKmEnsALbELUYDU\n",
       "S94DwcTwCsBje7FWGGIV/XKy4sg4pdgY8/noXQzwr5BCzLafASw3wOGSfuWjwTvDxhnHPhpHaxv0\n",
       "1uOCCtn3HZoXbxqvAtwbzJ7U1HZa3qiqMVvfXkHaQC6FLh8uxWtIvfKHggwQj16HP2GIasW7OJJJ\n",
       "9qCKljeDsbrkq7CVRLgvOI5gtr+kB4A+gu0er2D2M39BT1xQ3CRn/fMOAvwPYB+rCR1zGKPaJiyv\n",
       "7/TRhKT36/g+ticajiMcSrQCLqrhC2SFfezPsGkNO9Jx17zl2fFNUU31d59ditcpfN6hIF04Gtxo\n",
       "xsZZJDrvcZNKWrDP4YsPaN7fUPCvQJLecMYpOpi7wuXrnmpqgv62/dln8KcliRGHgudSrUA4TGIW\n",
       "yd1gCJpU4ETTka5Gm656YggOgsfPQNKypoh52yEOU5ArpQNFYgZb278dlu6WpQDPu0I2ktjjEVAQ\n",
       "tzxd92r079t7+2HMsmzzPutQ8BY8H/CE3+Dn67AUG+lCwU6LJzCNUHe+dqDRK3l/8z+QbVL/3Aiv\n",
       "IIu56NgDaHNhFBhravCa7dd4C2WiBvlGKAXGmKdhOoa+2fu7J3tpxiBwUIs3Mv+sEIgEte7BmiOr\n",
       "DgVOkWy7MTKYX4M+2wuocwqSDZtgYy5zchTgaXDeFFAKtNfJsO/RBsxnRuBJ+8Ho6P4mCmAO+Sgw\n",
       "LLdIsvhn+x56QC0o92o1GAS2ymrtD9tqBIK9muApcDuCQd7l8Bb+HJeCw3Y4m3eQvIYtITPzxdSn\n",
       "AU7h+tEONnlBX2MDHtGGcLLC8wgFHciM+ClwOwLNE6c2IlOquXVL2GAQ2BJO39/8RYlA6DRCXy44\n",
       "kqMgy/eI2X5UMVpWl5bdwLHDgN14f5e0DdooeVYT+D57UVBJFvCONZ5nIIxiAVJTtr2c20vthaMA\n",
       "JvmFzuCK0bK6bDtUhzgI3DYsI8ELQxhdKdD5EgRZQWph69YHutBMXphlZiFGO6fsOlIv4NRBi/dw\n",
       "CnAOKNB5KBacbkKiixVAueW1gomTW7d2cQT7RRmFwBT8idQLGIJ1PBwFXICOPe6lAKZl9jVa5FUs\n",
       "doRqs4iBXsaWUAqNBRRwAMh7UjwP+fZ4BTKt0HCIMkzJ5wgy7TqFQI5gLCTwnWOI1EwgFnAUFPmY\n",
       "k0bhcFkF9J57Dw04iUUB30e1icQhmYyAioFMic47QN4gm+1wChKeovpFtPAeYWPlHRTiTbT2rLEQ\n",
       "syEEGcGlIOVJ4jh/Pjq6uecWRH5IxzrjfHMMqvWOnYQO9KwL3octQOdlm8YTbtkrosD7/gkVHca5\n",
       "/at7GgKFuIgzvDGftyHMYF2QdOsCz5qErYGrvQ3uYz8m/CEb+zvElqCn/2f8ZTgFFFB7vsbmGXet\n",
       "QvaXHfZTMOYE3t3e/Vdc5E32PhFEIY4iW2vC8pU2hNYIUOA2c+sWt//iG+edoNriegTBWxNf9+jM\n",
       "ewj8FLBmzm6/5Det/IB1HsLpEeqOdLTMtcWdouTYx3clrFPMzvRslvfxfZa3TWJa4ngp7BTlhtnP\n",
       "Q7BOcbLkSGenesBNMsRGDi+OglyJ25oyGx6j77Y1zubp7dDddu2s21IQ5xlZnGpv8ft5P/V5GZIx\n",
       "GrRNNyOahIL04t6zG20OMEvvq0+gbGxOOC8XDPBrqT0ccC/9jPz81eIoeIxn+1X6y3VXmrcCGfEU\n",
       "cHuH0mMLvcMSt3dYFuwdmreE8wRH6sY7/oxIi+gdi9NML7gQbO+QlYFYJuz9We4Ew8NXnP2m2xyO\n",
       "URcFjWbihuwydLZ77MMY7Hc2225zbPdpgaVx1ZsR9d+zhtEcvl0cjYWV8UJIayE1SKXPZcQHT7CG\n",
       "cf9tU7CU2eI0Jyft/ZL1ZNx3DvUfLVA1BkUvuSalsxkJpvGrtmqvj1nWTWWaafOcJG/YNf6dYk0Z\n",
       "0CYhL7Knb+3jCYOcZnPKNItPcXJc3R0HhvCpSQOac9Fp1tfiZDmyAz2QEu42SAPq0Z2Cwns0rky2\n",
       "IsOJCU8VyQPujY6CtXVO5mcjw8kJyzh5wMuVyFR7m5f6dGQ4VeH+szxguRCVZsYNj1wfGQUhh+ak\n",
       "AeNDUWnGDv5ROY6TFHdw5NIaVUD3hTAjmxVNnBW5gyPG08pyYssjqx1PD24WEoqO4ekhSa0qW98a\n",
       "t7wbFz9frYqCcs0jNRy03IMjyTrMqMHJhxz50KSb3WXgPTjysioKLnulgcOTe3CkXIGnFEXDkGhm\n",
       "TC9mBf7giCoKmAaOJvgdKD44cud7aNQmKvAXNUADYRfuli4sRuyDIxrW7B11FLATZM5JsmyBPziC\n",
       "KNitJhSEnpzMSic7FAr5gyOqKKDv+xyJ/zMgd3AEOYKa//2QboRdSUgHm2LJc3BEFQUv+CTecCcH\n",
       "R2xHUBYOD4TXdu9LR9QhcnBEsSOYe7wSF7IF7uBIrJBoKPGDJ7pUztKe8Kbn4IgiCrbVvRIHxvP8\n",
       "wZFLy5WU5vEuPbFxXnaVR+vcwZFvbPqXEgo2+CQeX4+gBv1Wt4vSgHoE/zHFGPbI/wN5kIRt5cSd\n",
       "MgAAAABJRU5ErkJggg==\n",
       "\" style=\"display:inline;vertical-align:middle;\" /></a></span>"
      ],
      "text/plain": [
       "{N in NaturalPos, forall_{k in Natural} (v(k) in Complex^{n}), n in NaturalPos} |- (Sum_{k=0}^{N} (e^{2 * pi * i * k} * v(k))) = (v(0) + (Sum_{k=1}^{N} (e^{2 * pi * i * k} * v(k))))"
      ]
     },
     "metadata": {},
     "output_type": "display_data"
    }
   ],
   "source": [
    "vec_sum_04.partitioning_first()"
   ]
  },
  {
   "cell_type": "markdown",
   "metadata": {},
   "source": [
    "#### Testing re: `VecAdd.factorization()`"
   ]
  },
  {
   "cell_type": "code",
   "execution_count": 19,
   "metadata": {},
   "outputs": [],
   "source": [
    "from proveit import defaults\n",
    "from proveit import a, b, c, i, u, v, w, x, y, z, alpha, beta, gamma, delta, fi\n",
    "from proveit.linear_algebra import TensorProd, VecZero\n",
    "from proveit.logic import CartExp, Forall, InSet, NotEquals\n",
    "from proveit.numbers import three, Complex, Natural, Real"
   ]
  },
  {
   "cell_type": "markdown",
   "metadata": {},
   "source": [
    "Let's set some defaults for convienience in our testing below."
   ]
  },
  {
   "cell_type": "code",
   "execution_count": 20,
   "metadata": {},
   "outputs": [
    {
     "data": {
      "text/html": [
       "<strong id=\"R3\">R3:</strong> <a class=\"ProveItLink\" href=\"../__pv_it/demonstrations/b09d232dc6c8bd1b305d141dd063505555f74fe50/expr.ipynb\"><img src=\"data:image/png;base64,iVBORw0KGgoAAAANSUhEUgAAABcAAAATBAMAAACJlYuFAAAAMFBMVEX///8AAAAAAAAAAAAAAAAA\n",
       "AAAAAAAAAAAAAAAAAAAAAAAAAAAAAAAAAAAAAAAAAAAv3aB7AAAAD3RSTlMAZs3vu90iq0QQiTKZ\n",
       "VHZ+Ip2vAAAACXBIWXMAAA7EAAAOxAGVKw4bAAAAk0lEQVQI12NggILEe9UMcFDF8BjB2c2wlAEJ\n",
       "BDIwCJn4q5oIANmPHgAJh3SGdpEJDAycfiBOFgMLdwGQsX8DmMOToMBpzZAvAOU4MEQyCE8Ac9hn\n",
       "FjDselcG0bPlUgLUeIdk1a8vYXY5ZAlOYkBwWCYKIDjcBzwRHIbTKUicKXwwdQ45DIwCHhA20NVu\n",
       "DC76F0BsAJSlJFWuLv4NAAAAAElFTkSuQmCC\n",
       "\" style=\"display:inline;vertical-align:middle;\" /></a><br>"
      ],
      "text/plain": [
       "<IPython.core.display.HTML object>"
      ]
     },
     "metadata": {},
     "output_type": "display_data"
    }
   ],
   "source": [
    "R3 = CartExp(Real, three)"
   ]
  },
  {
   "cell_type": "code",
   "execution_count": 21,
   "metadata": {},
   "outputs": [
    {
     "data": {
      "text/html": [
       "<strong id=\"C3\">C3:</strong> <a class=\"ProveItLink\" href=\"../__pv_it/demonstrations/9e85644bc34fce45bea978ae09f284f5f59dc67f0/expr.ipynb\"><img src=\"data:image/png;base64,iVBORw0KGgoAAAANSUhEUgAAABcAAAATBAMAAACJlYuFAAAAMFBMVEX///8AAAAAAAAAAAAAAAAA\n",
       "AAAAAAAAAAAAAAAAAAAAAAAAAAAAAAAAAAAAAAAAAAAv3aB7AAAAD3RSTlMAEIm73c12IjKr72aZ\n",
       "RFTgyeMAAAAACXBIWXMAAA7EAAAOxAGVKw4bAAAAlUlEQVQI12NggILqZzMY4GASQxaC08GgwoAE\n",
       "vEGEkEloehMDQ2oCkM02awPjeRsGBkYzIOfYJQYGbiCHob+BgeOAIZAxh3EFQ/0GBk4BAyBHmsGR\n",
       "YZcAAzP7AbBZTWnTGRgqORQQpjfxbkBwangTEBxmdiRlzGDToIAXbA8vlHfsJpA4CuWwmR5nfHIA\n",
       "plDI6stxCAsAopoeL0aObQ8AAAAASUVORK5CYII=\n",
       "\" style=\"display:inline;vertical-align:middle;\" /></a><br>"
      ],
      "text/plain": [
       "<IPython.core.display.HTML object>"
      ]
     },
     "metadata": {},
     "output_type": "display_data"
    }
   ],
   "source": [
    "C3 = CartExp(Complex, three)"
   ]
  },
  {
   "cell_type": "code",
   "execution_count": 22,
   "metadata": {},
   "outputs": [
    {
     "data": {
      "text/html": [
       "<strong id=\"defaults.assumptions\">defaults.assumptions:</strong> <a class=\"ProveItLink\" href=\"../__pv_it/demonstrations/d99af59c4d8a2a1e3ee3edd34a6751c2dabae9e00/expr.ipynb\"><img src=\"data:image/png;base64,iVBORw0KGgoAAAANSUhEUgAABGYAAAAmCAMAAACxgG2+AAAAPFBMVEX///8AAAAAAAAAAAAAAAAA\n",
       "AAAAAAAAAAAAAAAAAAAAAAAAAAAAAAAAAAAAAAAAAAAAAAAAAAAAAAAAAAAo1xBWAAAAE3RSTlMA\n",
       "mVSrZs0y7xCJ3bsiRHbn9enzTwiUqQAAAAlwSFlzAAAOxAAADsQBlSsOGwAACpFJREFUeNrtXemi\n",
       "pCoOlkUEWWbx/d91WFyCohaIdat7yI9eTh2+hCRASKLVdYEQ7ho1atSoIvGeR/9HpOmkUaNGdYmN\n",
       "cJ+hfdNIo0aNahMF8QsbeFNIo0aNqpPcsjG9aOpo1KhRfeJrCIOnFsz8zUT+Ul6N/gRa075jeTCj\n",
       "KDaEPZWkDkpFpB+aVgUQqb+j/G/zavRblLaumpT/mz0IZojdoczw+AisglIR6Yem9QCEj4Emuf6I\n",
       "6nMG6FFs/EVejSoQ1fUj2bR1ZYhiiCxHZnbzEuNT+eqgVET6oWk9BzHbRQajCwZKPtf/N3k1ekD4\n",
       "bKNXiX/lumpsXRoOyYlm7IH9IOXUj4PcBo00V546KBWRfmhaT0HQITTdwljeXzKgJvfa/UVeV/rJ\n",
       "jbyEHPveKCa+y/xqtEL2Q/XmrGMVnHWwmK0wpE2xq0bWVRP2d6asbUt2yp5YmlAZfMz0JQ5TB6Ui\n",
       "0g9N6xEIgweJEAZB487ucMpgzLs9f5PXhX7yI67BysbRJA8nurKTQPw95uejhfsxzx4Kgses/Qfu\n",
       "VkiIFRLPO69xqjG02FUj644OjE65mhL+LzZPkcuypVQBpSLSD03rEYgEKbgeu5wJiIKHGwYmr070\n",
       "TV5X+skMwYwOa4kethnmRKPkPebnowkvGorWDEufEywokOwThA14H+SEqlDPS101si5yqKQv0ZQ9\n",
       "uZZxbGKl+n6IUhHph6b1BAT6IPUZHSHBsXXDgGcVA77J61o/WSEY6pZ4gKD9ZcrfFcb3mJ+Pvt11\n",
       "00NXG+QluxC4Lg5YrwESiuMXikpdNbKucYHMcD1BI10BoU8gS9d7w9zd6za42oOUodSTp5JA76CU\n",
       "68aOBWea9IYFTVGTvmPQ50TeX+J1reTs4TZsWIbxnQThII4e73vGPGM0n3CGV4Aocta4yHr0edrK\n",
       "TBpuCPuK5u7pgAx/h9bFbuuZrhJhujc8uYERzsl8B6N3jyocQUpQ6slTSaC3UEp148DgEplQOF7w\n",
       "etDwOwYo40z8Dq9bJRdo9+yM9tsMBmmFZ8zzRssourvzii3gmJdzVmwFW1hgFRPvUaKjIMvfoXW9\n",
       "W6wnJTchZgLXRHW8nQVkJrG/DDJhDIlvhdwIBzPiC5CPUWyICw1fIo+FMoQzIZ4K5LWzGbkIpWPj\n",
       "yDpFu7ozSl3Q+bL0F2ZmvGWQbNDZi/wmL0WEUSATda/kKI8qRNwedhyuSHdWYNJMSdL3vIg5Hid/\n",
       "9dC8SHRMMOg4uvcKEHD4dqUhq2i2WqejZBi3u+N8l1o2Ape3yTHFmXW5dQu1nkCiw8MuJZzIK1nk\n",
       "oR+n0ZwdsDPMdhdLJac+RXE9PXrST+RxzUKGmA6NNQTatFOEwnsjJDRenRmh0Bv3r3+7P2d0FcJU\n",
       "Ni2rdk3CnTPQiYTJXuQ3eelBxed6jpLVqF3krjqFz4fbPUbTMwvb2ECPrIQ5HZDwyjBFors3JJDr\n",
       "aZ8NRV7evLoXTMdO5hC8WBUNm1xl/h5Z1/JYA12Gg99CGfp01ofS07q7h3EfYnEB8hGKE2Yw0QQL\n",
       "5OmocpsD7witIdDWy1iC0imnfMEfaTgxo5QnrEt/MYSUtwxSueaDyO/x4q7SDHbPPCV7X+kk6jan\n",
       "Pw63N6azfpCl/lTAPCRgJfMdavmi+358PLESr3AV5fCHU+Bn5SYpAWtghXADWVawW8RDmSl21rVu\n",
       "scYKfDbUsFmBDXML+SjjOElyepbAW2AYvgD5FCUIi57I4zvGUJSdfyDQpp0ilFDP4F1Xd0bLCYLi\n",
       "pGIonKzHVU9uGahJ34r8Ii/kQ0XwiF2OksNgpxhxq93kJM18DBcwDxubRTBFovuzCyzMLK9wgYyY\n",
       "VSlMHN4h9wE9FHl60G4D21kGDV3dy1S6aiLr2iv1lrYLgQ7c3rg8qWGBquCRQr3BXIF8ihJueOaZ\n",
       "PPHWWSyQ187mC4UonYo8oc6M0mFtyJfg1b4jumXAk9uM+havQe5+nqPkIfyuGLY9MaldflIj0myX\n",
       "VMi3sNiua1mjfUoLLOksr8DmEGkwQ6R7hhUTH4YeGg5HlMwAz9sMqBjqoXTV8PNtxkerBm5v4wmy\n",
       "vRGeF+pD0CuuQD5BcarzdVKmn8njdgi7KDivIBDIbJWh+MQA7yrPyOdL/vPfcNqQKDSm6yU5jjCS\n",
       "DFSqQWcn8nu8uA+G6I0DnkDyOZISsDI8JkO+dVHo451pLs2XWTgKJnJEZ7s8SJZX9PsnNxCaNYvt\n",
       "BwguxWM0I2Gks5Rt7Od8Tmx3hdqIrGtNA3oyPEvrMHT1KWNOkO3etm9F5hEM3k67BMgpCo/n7+Nn\n",
       "oKUCebjd1skQwTwQCFilCAV7Q5LaMwrOsc8rDl10u9ot/QQD+ODJuciv8Qq9I6QHzvOBknmcyxSw\n",
       "gJUajsxSivfi7vI4bMhy3FgNQtzwPhPdLcke53gFYCzwbA0devw2TWOGtQ1Fr7aZKCqeW3hdJHJI\n",
       "VGX5++4RJrvF8C3V7BqT2CCgWD1OIPtHFOju1SJ8WnxM9Ls4+whyhrKB+I5S7W6VWndP5MET48i6\n",
       "nsYPBXLa0bBPrgCFSSGNGFn1GXWpZ27d4eR7pkAG4IoBrA9cifwaL+fm2Eb0KEPJ6+DQqUHR1LHL\n",
       "4Z2RPVIdx/7qsA7nvoirR92VMJ99NtLS56NdFIRJl+EVkLGacy/cdE6l4HaDmb00YX3YZrY6Rpwg\n",
       "m+uJ9vo29y/AbuEMf99Vmnwxe1iNyokwWBEDlMWJ1PG7yd1Dma7/U8o+blwc1/YWROKc0B7kAmUD\n",
       "saGfMJwgcQl1Lw9HdhvGiOKnAjntILhHF6AIl7zvdf0ZdakHULjVIOgjmS98FwyWZ/ZvRH6NFydG\n",
       "sGsHPEKuFhKCUsPt0jAXw0NGWw7TOD/ouQzHTBsTp1BzmAeXLR0tLOsuyysg41nvivs7DqjX223G\n",
       "ymQON5rt6h9lgDs2X4zW9Rttuhn+HlnXblsWpr/uxtRCxg3Gp4T5uyA1oQpRRP87suw/u23Q0vdP\n",
       "EcFG+wtm3+R1r55rl/l0uKjAnFQU/W5saqi/9NBeesJhm+HiWIrerLP74qRd0KrGUk+NrevYoSqv\n",
       "rTs11D8BUhNKgB2GD/gnZElRf9+gNdy+MA02l4vf4PW6bsUjFBGtwi+KnhjKJ8462OTsthl7tzYn\n",
       "1rH3tN1FaPesJCp/uU1k3TEqDzwjbn4FpCbUijKa8BbCX5AlQfQD0dDd78Dnai+YfZPX67qdhxei\n",
       "RMOE/p7oqaG499e2rbocXsSZePg7WGeUh8a66M1aD15xGD2h7esmh2dDC8n8DEhNqBUFU4P0j8iS\n",
       "oE/eEsXu4lb4qhXzG7xe1+08XLPnzOUXRU8N5cQovzuwJdUSupvIiXVo/CIyDyHP9pw8il7aE+om\n",
       "sr3/+c+nj1YJuTlQRvVzvP4k+pUZceFyM7rIOqBEbB7MB1pXh7oJHdoq/f8gfp29o+YP5dWosnWe\n",
       "UmTduW6S7jBv9BfSZYmo8rcNfJNXo6rWeRzWRdZd6iaib2r/P6Grb+dB/M/l1aimdZ5SZN2tSWdo\n",
       "XwTYqFGjN2hrAqEtnGnUqNELZODrq2jTR6NGjWqTGuDjOX9hebFRo0b/MPExqpyrvuXkGjVqVJf2\n",
       "38WrWha4UaNGdYOZpZz1P0Flm80DwqeJAAAAAElFTkSuQmCC\n",
       "\" style=\"display:inline;vertical-align:middle;\" /></a><br>"
      ],
      "text/plain": [
       "<IPython.core.display.HTML object>"
      ]
     },
     "metadata": {},
     "output_type": "display_data"
    }
   ],
   "source": [
    "defaults.assumptions = [\n",
    "    InSet(u, R3), InSet(v, R3), InSet(w, R3), \n",
    "    InSet(x, R3), InSet(y, R3), InSet(z, R3),\n",
    "    NotEquals(x, VecZero(R3)), NotEquals(z, VecZero(R3)),\n",
    "    InSet(a, Real), InSet(alpha, Complex), InSet(beta, Real),\n",
    "    InSet(gamma, Real), InSet (delta, Real),\n",
    "    Forall(i, InSet(fi, R3), domain=Natural)]"
   ]
  },
  {
   "cell_type": "code",
   "execution_count": 23,
   "metadata": {},
   "outputs": [
    {
     "data": {
      "text/html": [
       "<span style=\"font-size:20px;\"><a class=\"ProveItLink\" href=\"../__pv_it/demonstrations/209baac38918ef8b1210d5267967da66f42b39310/expr.ipynb\"><img src=\"data:image/png;base64,iVBORw0KGgoAAAANSUhEUgAAADYAAAAQBAMAAACvnpHFAAAAMFBMVEX///8AAAAAAAAAAAAAAAAA\n",
       "AAAAAAAAAAAAAAAAAAAAAAAAAAAAAAAAAAAAAAAAAAAv3aB7AAAAD3RSTlMAiasyIt1EEO9UdruZ\n",
       "zWZ7xlX5AAAACXBIWXMAAA7EAAAOxAGVKw4bAAAA10lEQVQY02NgwAbYpWNvOQtglWJY1MdQ8/sA\n",
       "VimeZUA9r7HL2XAXMDAwocqtDg29AKLVuUF2PkCWyl0OZWzwgQkJChmAaZbrUAEWBUMoyzWBvYVl\n",
       "ApDB6wAVYRbIg7K6GBj2cBWA5GAGsRzIgrr3AwPDWUYQyyIUCDaA7XOEyHEAeRLiIFY13FHbuSF0\n",
       "/QIGBnmQdQyscLkckP8YEhj4gXISYBGuBYhwUQASFxh4NjDwnWcGC91EBMIdh8oYkPfeLeeRAosU\n",
       "bSuAx0N/jANqOCZuhYQZFAAANPAuqY517tAAAAAASUVORK5CYII=\n",
       "\" style=\"display:inline;vertical-align:middle;\" /></a>, <a class=\"ProveItLink\" href=\"../__pv_it/demonstrations/867240f288a0a475f332ba3bfce26b090616c3760/expr.ipynb\"><img src=\"data:image/png;base64,iVBORw0KGgoAAAANSUhEUgAAADUAAAATBAMAAADCPVhoAAAAMFBMVEX///8AAAAAAAAAAAAAAAAA\n",
       "AAAAAAAAAAAAAAAAAAAAAAAAAAAAAAAAAAAAAAAAAAAv3aB7AAAAD3RSTlMAIol2mRAyZqtE3VS7\n",
       "ze8XF9CTAAAACXBIWXMAAA7EAAAOxAGVKw4bAAAA8klEQVQoz2NgwAS1b87felMAYQuZuKJKHpBg\n",
       "mFETAGKxGTBUoMkJMfCwNYBYQQwMszDkWAQugFgGDAweEDGbVasuwOUOQOS4l4Kl5poi9HGEgszk\n",
       "TDxxF2wv41UkM3P2CgAZTAzlsxJAIrwCcDm5W7/AZjAxMLCDzeZFckt5LJgRDDT2A4iRtwoIDkDk\n",
       "eMLBfp/GwMD8AMSIQdLH5nAUxFBgYOAB+5ML2X9uMiAG0Ed5YFcwGyDJxTADDWV1Z+BcCRG6DZcT\n",
       "YWAvOMnAwJ1prAwVijgZAIuHgwxn7m8AeQEOJp2ChBkMMDHgBsF45KbhlgIANts+wHWj7lUAAAAA\n",
       "SUVORK5CYII=\n",
       "\" style=\"display:inline;vertical-align:middle;\" /></a>, <a class=\"ProveItLink\" href=\"../__pv_it/demonstrations/540b401960ef46fff82dcf879c164a159d6831c80/expr.ipynb\"><img src=\"data:image/png;base64,iVBORw0KGgoAAAANSUhEUgAAADQAAAAUBAMAAAAw+gPuAAAAMFBMVEX///8AAAAAAAAAAAAAAAAA\n",
       "AAAAAAAAAAAAAAAAAAAAAAAAAAAAAAAAAAAAAAAAAAAv3aB7AAAAD3RSTlMAVN27EERm75mJq3Yi\n",
       "Ms2Hvvv4AAAACXBIWXMAAA7EAAAOxAGVKw4bAAAAz0lEQVQoz2NgwABsz43/qZsxYAXMPAtYl5ng\n",
       "kJrAYHALp1QPH4rQZiWlB3ApZmSZuC1IupZ4ARlCnx0YQoA0zxMkA3kN3wCdWjFpAcMGoADfAYRU\n",
       "nb62AwPDYQYGW94LICkkZ0xLAVkKtMCbGyRwXQkIDKAGmqRBVHEeBJHOyI6/wewAkQJZxcCELMVx\n",
       "xwAiNQFEcm9AkmIx2AaRugCmHiKkGhjSmANATA6IiJepAyzkPx9gtvsIYnNBVUcaQQIKCUQy4ART\n",
       "cUsZ4JY6gF0YALx8MDIMa593AAAAAElFTkSuQmCC\n",
       "\" style=\"display:inline;vertical-align:middle;\" /></a>, <a class=\"ProveItLink\" href=\"../__pv_it/demonstrations/db349fdaaa27475f5b64b7b11c49cf6e2d58cfa30/expr.ipynb\"><img src=\"data:image/png;base64,iVBORw0KGgoAAAANSUhEUgAAADIAAAAQBAMAAACmdTG/AAAAMFBMVEX///8AAAAAAAAAAAAAAAAA\n",
       "AAAAAAAAAAAAAAAAAAAAAAAAAAAAAAAAAAAAAAAAAAAv3aB7AAAAD3RSTlMAIpnN77uJRKsQdlRm\n",
       "Mt3eazepAAAACXBIWXMAAA7EAAAOxAGVKw4bAAAA20lEQVQY02NgYBAyCWRAAjwmoZ+fxICZCeyd\n",
       "yDIMrIwN7D2RIBaqOEgmgSHgBoi1AouMIjOINX8DRGTpu3cGcBlWMOsnWKJ4JZKezhlABnf3VxCf\n",
       "0RLJNN5oQyDjMEP/BCDFLICQcX7/CijE+JFh/wWQDJILck6CLOQIYLgPkrnyDggCoKZFngHS/AcY\n",
       "7oP4U5FdfYkVaNr8C0CbgIAPWYbpIlA3/wUGaxCfawGSDGfAGgYGtgXcDWABa4SMAsMZ1gIGhqxl\n",
       "EIEZ4RNgYf1VgDX4N1J4lcVBQgcKAGWeOknpTuCxAAAAAElFTkSuQmCC\n",
       "\" style=\"display:inline;vertical-align:middle;\" /></a> <a class=\"ProveItLink\" href=\"../__pv_it/demonstrations/335e49aadc86beeb09ccd25f2b13d1fcc685810e0/proof.ipynb\" style=\"text-decoration: none\">&nbsp;&#x22A2;&nbsp;&nbsp;</a><a class=\"ProveItLink\" href=\"../__pv_it/demonstrations/9ba509acb2bf053c431dedea7d62ba10228001860/expr.ipynb\"><img src=\"data:image/png;base64,iVBORw0KGgoAAAANSUhEUgAAAPIAAAAVBAMAAACOB66tAAAAMFBMVEX///8AAAAAAAAAAAAAAAAA\n",
       "AAAAAAAAAAAAAAAAAAAAAAAAAAAAAAAAAAAAAAAAAAAv3aB7AAAAD3RSTlMAInZUiRDNmWbv3US7\n",
       "qzJazP2FAAAACXBIWXMAAA7EAAAOxAGVKw4bAAADAUlEQVRIx5VWTWgTQRT+8rP52yYNVhBKwbW2\n",
       "qAehBxEs1C6hglWKSxFFEBKQFr3lEGsRpcGDLaiQiuLBHgIigsESSj1YsKZePFULUk+i0Zt6aLRU\n",
       "PJTge9HsJjO7bTKwL/PmvW++N2/ezARAFM01O39Xk3NU/N09zSDGZqJzNuN7m6HddWlJ1ej3kGza\n",
       "ue+yA8iLl4Y7LQ17dI4qdsVoiFlXV7EfUBKSJaLhjgMozHOPSMNnWHxFYKUh5lX6fAb88gpOAwsO\n",
       "IDfPPSkNj9On6FCzDTEfpC+QRFC20B5cdwAp6ySCUlIzHBTgb2zNca6s+zhsx+x57IR6R6w+MU2e\n",
       "xD/m3sb2uWWDxEWkuD8wVLQM6pflUWuK3k0Dz02tr79AZSYuzc8FttjxYcQB5R34VBvn+02SQ8QN\n",
       "tOeVaVePVb9TC2YggQcnVjj9/7VEeIMl968+5faMu5Uk6IFbs/YoVw7nom0m8018Nlg+ov5d4I3b\n",
       "sJgRKFSVDuBtxIxjd9RTpqAzwppDHDWt+7Y9KqihJdltxvET/WQ6goeUrBIw5uX6+c2mYUp4qaoR\n",
       "YNhtmj4iQsyRksAczJMDLfGViEKc0zNBFAm9qoULWCPmNWYO0goHj7HjExaLVC0ZU6MctJnKnwqr\n",
       "mrFhVmm2AxIqlCQxQ9o9o6q1pokVeMHZjlO4p6w7lKJrqa0hr7lhSrmyx56ssM+cbc7Zsj3qF2nr\n",
       "1pkq0h5TDeI1RUFOgxaG5v5W+yp4dbNbhq+ntgqqx4Qm8NEuTNujmNlKU2sRF8A1MUSbUEBgImKG\n",
       "OA41V3dXWycuhr7qIarzoBSdTWMhb4+6RtdeqWglw8MZTeE7H+epbn/MPG4/OmP1p7Vmuk4mDeXF\n",
       "i57Sf3SuS3NCHb9hpCxjrItlDqGi9ByJr4Q40C7dSrOV6tgaJTy3Wb66t2Get3sf6tukzDy/NTM/\n",
       "VEvC2LDodFIMtyDfxFFF2wYlNLprcF4YWxSdpEqW/w4pBbW4DUpovF6X1uT/rj02Pjsa+rdW885H\n",
       "8RdLnqurwzAJBgAAAABJRU5ErkJggg==\n",
       "\" style=\"display:inline;vertical-align:middle;\" /></a></span>"
      ],
      "text/plain": [
       "{alpha in Complex, beta in Real, gamma in Real, delta in Real} |- (alpha * beta * gamma * delta) = (beta * gamma * alpha * delta)"
      ]
     },
     "metadata": {},
     "output_type": "display_data"
    }
   ],
   "source": [
    "Mult(alpha, beta, gamma, delta).factorization(Mult(beta, gamma))"
   ]
  },
  {
   "cell_type": "code",
   "execution_count": 24,
   "metadata": {},
   "outputs": [
    {
     "data": {
      "text/html": [
       "<strong id=\"vec_add_01\">vec_add_01:</strong> <a class=\"ProveItLink\" href=\"../__pv_it/demonstrations/80d9f1aa00d6bbe2e48afadf3b8927ec6b4d65a90/expr.ipynb\"><img src=\"data:image/png;base64,iVBORw0KGgoAAAANSUhEUgAAAKwAAAAVBAMAAAAp2hhWAAAAMFBMVEX///8AAAAAAAAAAAAAAAAA\n",
       "AAAAAAAAAAAAAAAAAAAAAAAAAAAAAAAAAAAAAAAAAAAv3aB7AAAAD3RSTlMAInZUiRDNmWbv3US7\n",
       "qzJazP2FAAAACXBIWXMAAA7EAAAOxAGVKw4bAAACaklEQVQ4y4VVP2gTURz+kvRyl1wSQucWTi1U\n",
       "ByWCSJtBjyJuSnCwFKq5RXDMUDB28SYdDNgKgqhDUKEYoQSd6mBjd/EIoeB2Ci4urUpEcPH93nt3\n",
       "uUueycGXhO99v+/9/rx7AVDE6JNQUwpaQXIiWVJITWuEOiYxWcuJMyopjg8TKVsAiaVblQlaRmiO\n",
       "0jY9FIqrEvgKw5ugZYTuKm2NmiwoWK5LaDbMplobJTJQP49k7UHjNiSSgO6ptVHi7H9sb8ZtU44A\n",
       "2ZYram2UWKMp9I4Mpnnl5PUL7HBcitvqtgDez+zfGMTPLk0j1FJwHZpHBO20U8z1w5Vasquz5t2N\n",
       "26ZdAdjG/e3BUdrEp0qopdVFGIdEvGBTeAw9nIJRNPp5Fr8Yt82WBMAyboQuKy7WEWqBQmkd+Q4R\n",
       "T1lxh8hSfVXqXQE6P3IHVHmr9epJq0UTyrQFNLbNLh2I3yS6A7yUWk5oeIiMRQSzzXRQbVNG4qBk\n",
       "eII78WwDW9MHThCxRR/PoP0NtJww+zjwiWBNqFp4EBnjblFj/SqrmzDFfn8MlNpP3slAS/U5fNMy\n",
       "9phtCfup4MJZbX/msY24bc4SSLM2bYa2v5B3TkebnfP4pg06HDkrtaUHC+e/3cZb9r0Wt53yBJZd\n",
       "vGuHLnso12qhlrL1zD88+DvbtHt59lSwsHw0VaeJv47bFpoC597MRS6sa3Nfun6opfx78z94cNZX\n",
       "vmSJ5tDLuy1gj9GKshxOjNwTshp36Kq5J2CP0bLnIlZKgvigtJ0ZJnJFgmaN1z5HTxKrStuRzbQO\n",
       "wfTHaxfm25JIqBJIjv7BTUtM1jLiH56Wi8YlaA0PAAAAAElFTkSuQmCC\n",
       "\" style=\"display:inline;vertical-align:middle;\" /></a><br>"
      ],
      "text/plain": [
       "<IPython.core.display.HTML object>"
      ]
     },
     "metadata": {},
     "output_type": "display_data"
    }
   ],
   "source": [
    "vec_add_01 = VecAdd(ScalarMult(a, x), ScalarMult(Mult(beta, a), y))"
   ]
  },
  {
   "cell_type": "code",
   "execution_count": 25,
   "metadata": {},
   "outputs": [
    {
     "data": {
      "text/html": [
       "<strong id=\"vec_add_02\">vec_add_02:</strong> <a class=\"ProveItLink\" href=\"../__pv_it/demonstrations/08e0838d41e343df9ba75f35e3d8e398dc3850db0/expr.ipynb\"><img src=\"data:image/png;base64,iVBORw0KGgoAAAANSUhEUgAAAIIAAAAVBAMAAAB4Tis1AAAAMFBMVEX///8AAAAAAAAAAAAAAAAA\n",
       "AAAAAAAAAAAAAAAAAAAAAAAAAAAAAAAAAAAAAAAAAAAv3aB7AAAAD3RSTlMAInZUiRDNmWbv3US7\n",
       "qzJazP2FAAAACXBIWXMAAA7EAAAOxAGVKw4bAAACfklEQVQ4y42UT2jTUBzHv0kT0z9rCDJRxEP3\n",
       "RzopSphTrBez0XkQHKGKQ7CyiyB4yWFInYhlB70IiuJBdil6qwjFedBTu7GbDIrMg+AhbnoZwvQw\n",
       "8CR+X9pmS5qBhb78fu998n3v93u/XwAYiPgZ/zUFSQyyGaXwtmcmkktlOIxFCUCuhGeiuRFAnYlc\n",
       "wY2Qvwe3z4a2s5lcKBz1nYed5/vOcxc3XJiwu3bcQcJf0Pl6sd71Eh1otOv73LoNNed7z3Hat38y\n",
       "2epH/3iVoILP6Uscrvk73cQsx+Lx6wUTzjgwrdhqtoISoLSCCoLTa+4haIoB1ZlEsQyVzEVqAI78\n",
       "SavKhmKojmopsSd4zABnggqCuzK80sIAxjGNy7DyiP8CHuAVYSO+na6kgamDQGtDq+IrQJ2AAjkc\n",
       "gGKjBeWbg7RuziHdBPJY4OGgcUOF+eapLDuRwVNOUh9ztdqLWu2NUFjwrnSSAHCPtEqIJLbaK8LU\n",
       "gP4pRoSGrf9ltYXO4HH7RciQCi7p1Da2XOCDdzo0DNXWIFlyncBtyHw7Vu2NIlWBTaAfOSrw3Mc4\n",
       "dxbL4mq+MAbd/A7kUiZW0cdo4s2gAjmcZJqwoVuQ64sCWuXcI94Gzv24g0W+zQjlMRFlg7WgWUEF\n",
       "cvrK8gUX8jt6QxaTlvrj3fImi2AwVmbj9YmK+gyUJu7TStaDCpsi1/lbtERFlViXa9nftF4j6fpF\n",
       "Oe/qI55xnv/DCCrscPETWPcKVuENSlXRGn77jQ7ZYl59Rqcc6qxd3KXBU942V812wy2F+jWZSTMF\n",
       "UjPcx2HuJdY4HhFNElqJzd9FOynBX5g7k613dKVM1JdjoPeTGMXJBv4B6+GIwiaWOO0AAAAASUVO\n",
       "RK5CYII=\n",
       "\" style=\"display:inline;vertical-align:middle;\" /></a><br>"
      ],
      "text/plain": [
       "<IPython.core.display.HTML object>"
      ]
     },
     "metadata": {},
     "output_type": "display_data"
    }
   ],
   "source": [
    "vec_add_02 = VecAdd(TensorProd(x, y), TensorProd(z, y))"
   ]
  },
  {
   "cell_type": "code",
   "execution_count": 26,
   "metadata": {},
   "outputs": [
    {
     "data": {
      "text/html": [
       "<strong id=\"vec_add_03\">vec_add_03:</strong> <a class=\"ProveItLink\" href=\"../__pv_it/demonstrations/d64cb2716a8815db535b3f6eef4be62a7cb93d790/expr.ipynb\"><img src=\"data:image/png;base64,iVBORw0KGgoAAAANSUhEUgAAASkAAAAVBAMAAADoeAXTAAAAMFBMVEX///8AAAAAAAAAAAAAAAAA\n",
       "AAAAAAAAAAAAAAAAAAAAAAAAAAAAAAAAAAAAAAAAAAAv3aB7AAAAD3RSTlMAInZUiRDNmWbv3US7\n",
       "qzJazP2FAAAACXBIWXMAAA7EAAAOxAGVKw4bAAADYUlEQVRIx62WXUhTYRjH/+ecvZ59uDFECKKL\n",
       "4xcWYgyxD73xaEu6MDmYJUHGCIIuR4isRbQM6iZwGAURwai7RTKyC72adRvCCCWDLpYWgQnqhdCV\n",
       "9Lxze7dzNnA7di523vOc//+357xfzwvAj4MuqarQ//Ll8pEDB+o8WlmopZqs7Pne85/uKvDHrQFF\n",
       "ryYrez45BrBQFfQ6wxK4UlVSNn03ATVWTDIYbCu+aw0OCKYznG/M5++RyjoLwqbvMeASDz6Kj6QK\n",
       "T2sGWId49yx/78rf46ioMyPs+lwGTgvdJk1+9rmg+0g/14TwlpmuiGE360wI2766GCboNtJ5PRhA\n",
       "uB8YcxisPYZxqA4/WPg8sDEr0RhfNNNVmrSseeXnOaEbiYBlBKI1ht/oNez43gCOTO5rwvIXNSH7\n",
       "HX4WZrpDiWMaTejHGEbBbgxx8iMznb4GKjq1qNDpPXBulyK+I52y43tFszHEc3P6nbvemBcYPgJk\n",
       "1tUEITNw/AjDC8kAdRh6zHQ37XEPMG2sFnS+QBTexVLEDOr8tftCfKOi3F7SGIOe4KDPyAC64dII\n",
       "SV19LxfDKF8pW5wZTSZfJJPv+Hykbshiklp5HSOLSytB+PaoU2z4sE75bPOsSK3xnkXjMI0m0gYh\n",
       "w5CCWR6TcvvzgvmbXblpOsMHP6/z7GIrKxB9hhyHbMcH+jtPnI8gkPYzQ4Wkyyl6NQlChtGIDp7V\n",
       "PBgJestHAp4dXBY66u0TKEHUZ/Cndl8014lKAp/4Av1GY+UL/AQ6PAEsceS6T4ecmoMSoMkFPDHT\n",
       "6zVayN44IQo6siyVItw659fuU2gyOhf52u37dQdzFCaM3M3HOx2D/IGXUh2bQ62z1Jow02ntKntj\n",
       "ceIUdGrG87eIGMJCxpOq3TeIhv39Y4N2imYlQl1bz7eyFWB84D61+C43bkBXnnP6WzPdlwC7rZ15\n",
       "CKFjy+07RYQ60fb1Amz4Vnn9c6fgzoqNeCrr2y/yg7yEncSaKJFSwlI5ZoulrqBzhEoRh/EdLSmg\n",
       "lG1Xi8FV7Cl/utR8SrwRJXy+WEAL175uEFcDAnFIXyTflaWXW/OWHYKOWQP11gPsayxXOJPY8kmL\n",
       "vERaD2ZTd8vo1szBFi2Bs+2pClnZ8uUyl7SDT4flR/uGao5v9nxNwD/b3C3/fokkZQAAAABJRU5E\n",
       "rkJggg==\n",
       "\" style=\"display:inline;vertical-align:middle;\" /></a><br>"
      ],
      "text/plain": [
       "<IPython.core.display.HTML object>"
      ]
     },
     "metadata": {},
     "output_type": "display_data"
    }
   ],
   "source": [
    "vec_add_03 = VecAdd(TensorProd(x, y, z), TensorProd(x, y, w), TensorProd(x, y, v))"
   ]
  },
  {
   "cell_type": "code",
   "execution_count": 27,
   "metadata": {},
   "outputs": [
    {
     "data": {
      "text/html": [
       "<strong id=\"vec_add_01_factored\">vec_add_01_factored:</strong> <span style=\"font-size:20px;\"><a class=\"ProveItLink\" href=\"../__pv_it/demonstrations/24b47934df390430c4ddb4660bfa2c456cc746cd0/expr.ipynb\"><img src=\"data:image/png;base64,iVBORw0KGgoAAAANSUhEUgAAADwAAAAXBAMAAACluTG0AAAAMFBMVEX///8AAAAAAAAAAAAAAAAA\n",
       "AAAAAAAAAAAAAAAAAAAAAAAAAAAAAAAAAAAAAAAAAAAv3aB7AAAAD3RSTlMAEHaZZquJVO8y3btE\n",
       "zSKD2s2pAAAACXBIWXMAAA7EAAAOxAGVKw4bAAABD0lEQVQoz2NgwAn43FUn4JZlYE1gasAjzTmB\n",
       "bQEDPsDlgEWQ5cbuvyu2ABlMl7Bq4uYL4AnZCGRIK2CXTmDYMBVk+09c0na8DBIT+L4gC2uvWnUB\n",
       "Ls3NwCXA0ogke1YRSXegKANnkuoDBkZlBwZRcCBdRDKcc/s9CJuNvYHBH8TgfYCQ7l2/SADCns68\n",
       "gCEaLI3ktBTHC1C2AIcCQxOIMWMVEGyAGr7RBab2vADEe9LIHpvMDTWcwZYBEjFcyNLM8zZAOVsZ\n",
       "uANANJMCkjTjBhUox5ThPCRiriOkDRhcuA9AOKJJ9hAvie4RgMXY7wfce7/DVOdC6WO7Vl1AD3+2\n",
       "C4zt+FKEAmsCHml2Jxs8sgAiPz/Axk/J1wAAAABJRU5ErkJggg==\n",
       "\" style=\"display:inline;vertical-align:middle;\" /></a>, <a class=\"ProveItLink\" href=\"../../../numbers/ordering/__pv_it/theorems/4aa8d696b1f407d6126de9f51a052e8d90e0848c0/expr.ipynb\"><img src=\"data:image/png;base64,iVBORw0KGgoAAAANSUhEUgAAADMAAAAQBAMAAABJt1qBAAAAMFBMVEX///8AAAAAAAAAAAAAAAAA\n",
       "AAAAAAAAAAAAAAAAAAAAAAAAAAAAAAAAAAAAAAAAAAAv3aB7AAAAD3RSTlMAIquJdkTvuxBmmd1U\n",
       "zTKBpmoTAAAACXBIWXMAAA7EAAAOxAGVKw4bAAAAzElEQVQY02NgwABz0+tvp09gwAoKhBiCpjdg\n",
       "lxJmYOdTwCXFJXABRch99+4LcKkCZJlYD4Qupg6QgYzKjg4gAcYbSAY+PysAZIQJsP8ACfAKwKXE\n",
       "bv8GmcCRycC1ASyF5IyZvSCa6wMDtwGI8Ww3EBRApNg7QV5mK2DoDwAJtCPp4ltQAaT7HRjmgwW4\n",
       "kf21ThwkdYBBlwfkAhYHJKl2FqCJ7A48u7jAInfgUlIMnBNKgS5UsRPyA4s0lTbAQr6Qofz+AeTg\n",
       "CK7ejRxyAISENKeL/c93AAAAAElFTkSuQmCC\n",
       "\" style=\"display:inline;vertical-align:middle;\" /></a>, <a class=\"ProveItLink\" href=\"../__pv_it/demonstrations/867240f288a0a475f332ba3bfce26b090616c3760/expr.ipynb\"><img src=\"data:image/png;base64,iVBORw0KGgoAAAANSUhEUgAAADUAAAATBAMAAADCPVhoAAAAMFBMVEX///8AAAAAAAAAAAAAAAAA\n",
       "AAAAAAAAAAAAAAAAAAAAAAAAAAAAAAAAAAAAAAAAAAAv3aB7AAAAD3RSTlMAIol2mRAyZqtE3VS7\n",
       "ze8XF9CTAAAACXBIWXMAAA7EAAAOxAGVKw4bAAAA8klEQVQoz2NgwAS1b87felMAYQuZuKJKHpBg\n",
       "mFETAGKxGTBUoMkJMfCwNYBYQQwMszDkWAQugFgGDAweEDGbVasuwOUOQOS4l4Kl5poi9HGEgszk\n",
       "TDxxF2wv41UkM3P2CgAZTAzlsxJAIrwCcDm5W7/AZjAxMLCDzeZFckt5LJgRDDT2A4iRtwoIDkDk\n",
       "eMLBfp/GwMD8AMSIQdLH5nAUxFBgYOAB+5ML2X9uMiAG0Ed5YFcwGyDJxTADDWV1Z+BcCRG6DZcT\n",
       "YWAvOMnAwJ1prAwVijgZAIuHgwxn7m8AeQEOJp2ChBkMMDHgBsF45KbhlgIANts+wHWj7lUAAAAA\n",
       "SUVORK5CYII=\n",
       "\" style=\"display:inline;vertical-align:middle;\" /></a>, <a class=\"ProveItLink\" href=\"../__pv_it/demonstrations/69b818e5ab2a8afc180d22a4e2534dbd4afed1660/expr.ipynb\"><img src=\"data:image/png;base64,iVBORw0KGgoAAAANSUhEUgAAADwAAAAUBAMAAAAjLUMaAAAAMFBMVEX///8AAAAAAAAAAAAAAAAA\n",
       "AAAAAAAAAAAAAAAAAAAAAAAAAAAAAAAAAAAAAAAAAAAv3aB7AAAAD3RSTlMAEHarMolUmd1mIs3v\n",
       "RLtmgJDEAAAACXBIWXMAAA7EAAAOxAGVKw4bAAAA/UlEQVQoz2NgwAm4pik74JZlYA5gOoBHmsWB\n",
       "tYEBH+CYgEWQc8+73z0vgQymTVg18XEZ8Fo+BDLkFLBLBzA8cAbZ/gWXdBU3g4wD109kYaYXHd1w\n",
       "aT4GDgHOg0iyvJsEELoNhRlYgpQXMDAIKYuEJoBEVwsgDGd5tgvKKWAyYgd7fxfC7tP9TVC1nAs4\n",
       "PzKDvb8BIR05EcZhYWCHMFlOdHR09EENfzgT7iQeiOcZHyB5zJ0P5hCG+wsYwewGJGl2L6hiuQs2\n",
       "DKxglhKSNOMDTQg737GG4RqYxZ0Aly5gmMl3AcwWV2KrhIgz2l2Exdi/BXyvv6GHNW8cJFCRAABM\n",
       "3zydJQQu6AAAAABJRU5ErkJggg==\n",
       "\" style=\"display:inline;vertical-align:middle;\" /></a> <a class=\"ProveItLink\" href=\"../__pv_it/demonstrations/2af05fa5eb630c863d2882e210edf77e30c1a86a0/proof.ipynb\" style=\"text-decoration: none\">&nbsp;&#x22A2;&nbsp;&nbsp;</a><a class=\"ProveItLink\" href=\"../__pv_it/demonstrations/7e738dfab1063cf7549df6446adafedffb271cf10/expr.ipynb\"><img src=\"data:image/png;base64,iVBORw0KGgoAAAANSUhEUgAAAW8AAAAVBAMAAAB73HI0AAAAMFBMVEX///8AAAAAAAAAAAAAAAAA\n",
       "AAAAAAAAAAAAAAAAAAAAAAAAAAAAAAAAAAAAAAAAAAAv3aB7AAAAD3RSTlMAInZUiRDNmWbv3US7\n",
       "qzJazP2FAAAACXBIWXMAAA7EAAAOxAGVKw4bAAADk0lEQVRIx42XTUhUURTHzzQzjc6oDNJKEJ4W\n",
       "uCosxKCVGLQzhuiDQHE2hcshTMQIp1rUJpxsU9hCsBCKRFyVC7+2IYVUtGih1CbbWFGbQDrn3vM+\n",
       "7rn3venBmcf7z//+f9f7zntzBYAiAKTAcRTdUvG/vHHOVF0hFh6Gqi8PdOPHYZdtyVLIq/z1vUvO\n",
       "AAfJiU6gBME9WOk+5+CqVHq44FDX9TpeEuwAm+RGJ1D8ypZRuOi+XVfENXmVv8WD+3W8SrBEm+RG\n",
       "J1G4crQq4+6J3+XzKz6TV/nPAyzHeA3BEm2SKURJcRSuRrquuSfeWNLnE/41F3gAN2O8hmCJNskU\n",
       "oqQ4Clcv9VnZPfGDVTOulwsj089ivIZgiRZJCFFSHIVrlG4MPSDt/a1hi3V++HoaIPPOjBvlKuxs\n",
       "Xg3XMvW+wwu9OLirCkNaCEW/BSSJBKZJkkERoVgj/HcUHsDbwJaDo94EQEPZjBvhysC95e2A/brY\n",
       "9Dv04rfpGkxpQYsTz+l4CS4SCUyTJIMiQrHmUM3jS/NyFSaCudyCqdInvI81M26OK4Mj14K1eAS5\n",
       "2dAL8AUvP2shLVvaIpHANEkyKCIUa4ZafhFgEuApTeMP2bZhjE4te3q9HvN6zXCdw2Wjr4ZpQXN7\n",
       "kO9jrxJKjR5Ma0GJxsMlSSQwTZIMigjF8if+BLJ/aci8JkzTR0GsuD/xFfwJoK/yFRq8BsOL7FUC\n",
       "rJZa9rVQqDkmbpBIYJokGRQRisWtkv0JDZHlKfyAC3hDZt2tggvcFDx2wx41X+DFY0wBSdBipMct\n",
       "ErUK0yTJoIhQrA0UmzzI/oLm8nG/bd8012ic32J+3AYX3rtvwSZouBs+pouRdoRNBSQhIupDkpTA\n",
       "NEkyKCIUawD0C2YDTlUq/st1/1Kt0M0vr0jcgK7sOBReROaSns+FXqBfjdWqFnJyIyJJJPg0QTIp\n",
       "IhRrlx5CXPyhIztb/ssne807eYfu46IZt6sr/b2zP7Kt2Drbfiz04jHUP1nUQkTUhySR4NMEyaSI\n",
       "UKw8ZSy4fznbRBx5sTJJXnWcYaHNsi0kCxGSRYmGYjVUnJshYwPkb33Ii5VJ8uLdL2cfsjAeu2+L\n",
       "ESIkkyJCqdapT53/b6Tko6W86/SCTfLmveY+LdgBNsmNtihmqAoepD5dcw22MwdVrSR707dvsOCY\n",
       "lEVyoy2KGaqCU7hDglbX4A57XT321/d2OAMcJCc6gcL1D+W0MeMpOU/RAAAAAElFTkSuQmCC\n",
       "\" style=\"display:inline;vertical-align:middle;\" /></a></span><br>"
      ],
      "text/plain": [
       "<IPython.core.display.HTML object>"
      ]
     },
     "metadata": {},
     "output_type": "display_data"
    }
   ],
   "source": [
    "vec_add_01_factored = vec_add_01.factorization(a, pull='left')"
   ]
  },
  {
   "cell_type": "markdown",
   "metadata": {},
   "source": [
    "<p style=\"color:red\">Testing Begin Here! (Needs to be cleaned up and reorganized later.)</p>"
   ]
  },
  {
   "cell_type": "code",
   "execution_count": 28,
   "metadata": {},
   "outputs": [
    {
     "data": {
      "text/html": [
       "<strong id=\"supposed_vec_space_membership\">supposed_vec_space_membership:</strong> <span style=\"font-size:20px;\"><a class=\"ProveItLink\" href=\"../__pv_it/demonstrations/69b818e5ab2a8afc180d22a4e2534dbd4afed1660/expr.ipynb\"><img src=\"data:image/png;base64,iVBORw0KGgoAAAANSUhEUgAAADwAAAAUBAMAAAAjLUMaAAAAMFBMVEX///8AAAAAAAAAAAAAAAAA\n",
       "AAAAAAAAAAAAAAAAAAAAAAAAAAAAAAAAAAAAAAAAAAAv3aB7AAAAD3RSTlMAEHarMolUmd1mIs3v\n",
       "RLtmgJDEAAAACXBIWXMAAA7EAAAOxAGVKw4bAAAA/UlEQVQoz2NgwAm4pik74JZlYA5gOoBHmsWB\n",
       "tYEBH+CYgEWQc8+73z0vgQymTVg18XEZ8Fo+BDLkFLBLBzA8cAbZ/gWXdBU3g4wD109kYaYXHd1w\n",
       "aT4GDgHOg0iyvJsEELoNhRlYgpQXMDAIKYuEJoBEVwsgDGd5tgvKKWAyYgd7fxfC7tP9TVC1nAs4\n",
       "PzKDvb8BIR05EcZhYWCHMFlOdHR09EENfzgT7iQeiOcZHyB5zJ0P5hCG+wsYwewGJGl2L6hiuQs2\n",
       "DKxglhKSNOMDTQg737GG4RqYxZ0Aly5gmMl3AcwWV2KrhIgz2l2Exdi/BXyvv6GHNW8cJFCRAABM\n",
       "3zydJQQu6AAAAABJRU5ErkJggg==\n",
       "\" style=\"display:inline;vertical-align:middle;\" /></a>, <a class=\"ProveItLink\" href=\"../__pv_it/demonstrations/24b47934df390430c4ddb4660bfa2c456cc746cd0/expr.ipynb\"><img src=\"data:image/png;base64,iVBORw0KGgoAAAANSUhEUgAAADwAAAAXBAMAAACluTG0AAAAMFBMVEX///8AAAAAAAAAAAAAAAAA\n",
       "AAAAAAAAAAAAAAAAAAAAAAAAAAAAAAAAAAAAAAAAAAAv3aB7AAAAD3RSTlMAEHaZZquJVO8y3btE\n",
       "zSKD2s2pAAAACXBIWXMAAA7EAAAOxAGVKw4bAAABD0lEQVQoz2NgwAn43FUn4JZlYE1gasAjzTmB\n",
       "bQEDPsDlgEWQ5cbuvyu2ABlMl7Bq4uYL4AnZCGRIK2CXTmDYMBVk+09c0na8DBIT+L4gC2uvWnUB\n",
       "Ls3NwCXA0ogke1YRSXegKANnkuoDBkZlBwZRcCBdRDKcc/s9CJuNvYHBH8TgfYCQ7l2/SADCns68\n",
       "gCEaLI3ktBTHC1C2AIcCQxOIMWMVEGyAGr7RBab2vADEe9LIHpvMDTWcwZYBEjFcyNLM8zZAOVsZ\n",
       "uANANJMCkjTjBhUox5ThPCRiriOkDRhcuA9AOKJJ9hAvie4RgMXY7wfce7/DVOdC6WO7Vl1AD3+2\n",
       "C4zt+FKEAmsCHml2Jxs8sgAiPz/Axk/J1wAAAABJRU5ErkJggg==\n",
       "\" style=\"display:inline;vertical-align:middle;\" /></a> <a class=\"ProveItLink\" href=\"../__pv_it/demonstrations/854ac141fecc5abadda2aa38e11c456dc8b672810/proof.ipynb\" style=\"text-decoration: none\">&nbsp;&#x22A2;&nbsp;&nbsp;</a><a class=\"ProveItLink\" href=\"../__pv_it/demonstrations/d6428d0d13979c47ea16621432b61ba8fe025f6d0/expr.ipynb\"><img src=\"data:image/png;base64,iVBORw0KGgoAAAANSUhEUgAAAJ8AAAAaBAMAAABbSJO4AAAAMFBMVEX///8AAAAAAAAAAAAAAAAA\n",
       "AAAAAAAAAAAAAAAAAAAAAAAAAAAAAAAAAAAAAAAAAAAv3aB7AAAAD3RSTlMAInZUiRDNmWbv3US7\n",
       "qzJazP2FAAAACXBIWXMAAA7EAAAOxAGVKw4bAAAC40lEQVRIx51VS2gTQRj+ssl20yQb9lCsFaWx\n",
       "4gsRQin1aJTiQbQsBR+HVGNBkF7MQaTia8lBLQiK3rRIQBQJHoLiUboVvPjAKHoQihSsB6Wol1wU\n",
       "xH9mZ2dnN6ltHQiZ+eb7v/3nf8wA/zFW939aFrbESNb92XtsbdllmLEywR1y9h17W3YZFnP51Gpn\n",
       "3QrqJWXxoI0JYRX2r+XbCT5qQTIOLk29GZ9yaL4pJ+EQlrJpMtD2fJoTRXro567D06tkpD8LcBXT\n",
       "GpGTKON4FDjFjLuQyZIRfswFggqmNwEjcEUbGtooF5ejgr89Y8Mq6XfQ60h6CDsBdEqLLG2PyNLo\n",
       "tL2PvKjd93abvrGLe5i0JV3FcA4YlIILlFn9pb/q4J6nx2zf/aonaB5oYL7vbUBXMVafLDQj248M\n",
       "5VHeBRxK2PpmB6NAgoUFq3w9mCVPcGFQVJSghzBM2+zUKGvvjKpmJSy9rBcS8eu4Rn3Bk3UsqBpW\n",
       "tG7P+C8RZp+uYjwxd8nWSjZNxwSGu4HGZ6OKWYBkaQQl0NHgHl456Hss6CoG9NZxm+INgwwTlHEy\n",
       "KtidOdwg8CfLxK1arfaQU1NlLpg5LKrCp6sYcJQLUkqpyqmzu4bp+BSH7B9KB/NQd6MeZsvPvbWk\n",
       "Kxh5yI9MsbR020CsoNWJcRoaicVZVlGNCuLCWl9Q0BWMYmiBGqZY/0gnyObngW3pPF4jQ8ZJ7lyf\n",
       "FDRdT7AomlLSFYxneT+w88sZPKbdAuWOOvs8pmnfKHC/5M3BvIbbjaQjStWnqxgmgW9UTX3xCTLM\n",
       "sEr9AIzuvkizFO8ZffaJoKab/GaZwauT3kcEPYSRM0gFbV6Zy27hkz30WyN09onW87KnDklXBlV1\n",
       "shxcof0bqDESJf0mLSba3TbhG5fTwxBr+JkImMqZFJ2YG7X/upxnh5VCMQLGK2dFhMLDzC8tmGJW\n",
       "sVy7rfX/flMWGZUVvXoDSzJa47TMd3mxYVCS/gLm2tN3qAJm2gAAAABJRU5ErkJggg==\n",
       "\" style=\"display:inline;vertical-align:middle;\" /></a></span><br>"
      ],
      "text/plain": [
       "<IPython.core.display.HTML object>"
      ]
     },
     "metadata": {},
     "output_type": "display_data"
    }
   ],
   "source": [
    "supposed_vec_space_membership = TensorProd(x, y).deduce_in_vec_space(field=Real)"
   ]
  },
  {
   "cell_type": "code",
   "execution_count": 29,
   "metadata": {},
   "outputs": [
    {
     "data": {
      "text/html": [
       "<strong id=\"supposed_vec_space\">supposed_vec_space:</strong> <a class=\"ProveItLink\" href=\"../__pv_it/demonstrations/18163741c468fc7d4a66a44b56632f712ef431b20/expr.ipynb\"><img src=\"data:image/png;base64,iVBORw0KGgoAAAANSUhEUgAAAEAAAAAVBAMAAAAEBPWpAAAAMFBMVEX///8AAAAAAAAAAAAAAAAA\n",
       "AAAAAAAAAAAAAAAAAAAAAAAAAAAAAAAAAAAAAAAAAAAv3aB7AAAAD3RSTlMAZs3vu90iq0QQiTKZ\n",
       "VHZ+Ip2vAAAACXBIWXMAAA7EAAAOxAGVKw4bAAABgklEQVQoz2NggILEe9UM6IBN9vkGOKeK4TGG\n",
       "AvYFfAZwzm6GpRgKuDdwBSBxAxkwAasAg5CJv6qJAJD96AFcmFHZ5VOwI5DBpwckHNIZ2kUmMDBw\n",
       "+iE0srAVcBR6AhlTgLocshhYuAuAnP0bkBQsYHDYDnLFb7ACngQFTmuGfJBFr1atmwBRcIyJYfIG\n",
       "to9QBQ4MkQzCQJl9Exg4X0AVsDCwTmC0BCtgn1nAsOtdGdBEN5C9DWAFldMZuNc9TwAr2HIpAWI3\n",
       "D1cCA+eBlSAF3L5qUAc5JKt+fQllP2NYxjCHYRZQgVF83ASYgizBSTDXFzBwbTvAwA5UsFBSgQGu\n",
       "gGWiAJS9gIHhOAMDF8gKT0GEAu4DnlD2AQa2VRsYeEAK9rAgrGA4nQJXkMXwAqKAZ5sDQsEUPqgd\n",
       "e7kXMPA19IIUcDo8hCnIYWAU8ICw+bqAxNsFQAUHGARZGsBiwNh0Y3DRvwBRAQqo6ROAsfklgcXp\n",
       "L5b4Z3zNsE+AAR+Y++4mqgAAo0BkviVg9IYAAAAASUVORK5CYII=\n",
       "\" style=\"display:inline;vertical-align:middle;\" /></a><br>"
      ],
      "text/plain": [
       "<IPython.core.display.HTML object>"
      ]
     },
     "metadata": {},
     "output_type": "display_data"
    }
   ],
   "source": [
    "supposed_vec_space = supposed_vec_space_membership.domain"
   ]
  },
  {
   "cell_type": "code",
   "execution_count": 30,
   "metadata": {},
   "outputs": [
    {
     "data": {
      "text/html": [
       "<a class=\"ProveItLink\" href=\"../__pv_it/demonstrations/18163741c468fc7d4a66a44b56632f712ef431b20/expr.ipynb\"><img src=\"data:image/png;base64,iVBORw0KGgoAAAANSUhEUgAAAEAAAAAVBAMAAAAEBPWpAAAAMFBMVEX///8AAAAAAAAAAAAAAAAA\n",
       "AAAAAAAAAAAAAAAAAAAAAAAAAAAAAAAAAAAAAAAAAAAv3aB7AAAAD3RSTlMAZs3vu90iq0QQiTKZ\n",
       "VHZ+Ip2vAAAACXBIWXMAAA7EAAAOxAGVKw4bAAABgklEQVQoz2NggILEe9UM6IBN9vkGOKeK4TGG\n",
       "AvYFfAZwzm6GpRgKuDdwBSBxAxkwAasAg5CJv6qJAJD96AFcmFHZ5VOwI5DBpwckHNIZ2kUmMDBw\n",
       "+iE0srAVcBR6AhlTgLocshhYuAuAnP0bkBQsYHDYDnLFb7ACngQFTmuGfJBFr1atmwBRcIyJYfIG\n",
       "to9QBQ4MkQzCQJl9Exg4X0AVsDCwTmC0BCtgn1nAsOtdGdBEN5C9DWAFldMZuNc9TwAr2HIpAWI3\n",
       "D1cCA+eBlSAF3L5qUAc5JKt+fQllP2NYxjCHYRZQgVF83ASYgizBSTDXFzBwbTvAwA5UsFBSgQGu\n",
       "gGWiAJS9gIHhOAMDF8gKT0GEAu4DnlD2AQa2VRsYeEAK9rAgrGA4nQJXkMXwAqKAZ5sDQsEUPqgd\n",
       "e7kXMPA19IIUcDo8hCnIYWAU8ICw+bqAxNsFQAUHGARZGsBiwNh0Y3DRvwBRAQqo6ROAsfklgcXp\n",
       "L5b4Z3zNsE+AAR+Y++4mqgAAo0BkviVg9IYAAAAASUVORK5CYII=\n",
       "\" style=\"display:inline;vertical-align:middle;\" /></a>"
      ],
      "text/plain": [
       "Real^{3} otimes Real^{3}"
      ]
     },
     "metadata": {},
     "output_type": "display_data"
    }
   ],
   "source": [
    "# perhaps this will help the experiment further below?\n",
    "from proveit.linear_algebra.vector_spaces import containing_vec_space\n",
    "containing_vec_space(TensorProd(y, z), field=Real)"
   ]
  },
  {
   "cell_type": "code",
   "execution_count": 31,
   "metadata": {},
   "outputs": [
    {
     "data": {
      "text/html": [
       "<strong id=\"vec_add_02_factored\">vec_add_02_factored:</strong> <span style=\"font-size:20px;\"><a class=\"ProveItLink\" href=\"../__pv_it/demonstrations/69b818e5ab2a8afc180d22a4e2534dbd4afed1660/expr.ipynb\"><img src=\"data:image/png;base64,iVBORw0KGgoAAAANSUhEUgAAADwAAAAUBAMAAAAjLUMaAAAAMFBMVEX///8AAAAAAAAAAAAAAAAA\n",
       "AAAAAAAAAAAAAAAAAAAAAAAAAAAAAAAAAAAAAAAAAAAv3aB7AAAAD3RSTlMAEHarMolUmd1mIs3v\n",
       "RLtmgJDEAAAACXBIWXMAAA7EAAAOxAGVKw4bAAAA/UlEQVQoz2NgwAm4pik74JZlYA5gOoBHmsWB\n",
       "tYEBH+CYgEWQc8+73z0vgQymTVg18XEZ8Fo+BDLkFLBLBzA8cAbZ/gWXdBU3g4wD109kYaYXHd1w\n",
       "aT4GDgHOg0iyvJsEELoNhRlYgpQXMDAIKYuEJoBEVwsgDGd5tgvKKWAyYgd7fxfC7tP9TVC1nAs4\n",
       "PzKDvb8BIR05EcZhYWCHMFlOdHR09EENfzgT7iQeiOcZHyB5zJ0P5hCG+wsYwewGJGl2L6hiuQs2\n",
       "DKxglhKSNOMDTQg737GG4RqYxZ0Aly5gmMl3AcwWV2KrhIgz2l2Exdi/BXyvv6GHNW8cJFCRAABM\n",
       "3zydJQQu6AAAAABJRU5ErkJggg==\n",
       "\" style=\"display:inline;vertical-align:middle;\" /></a>, <a class=\"ProveItLink\" href=\"../__pv_it/demonstrations/24b47934df390430c4ddb4660bfa2c456cc746cd0/expr.ipynb\"><img src=\"data:image/png;base64,iVBORw0KGgoAAAANSUhEUgAAADwAAAAXBAMAAACluTG0AAAAMFBMVEX///8AAAAAAAAAAAAAAAAA\n",
       "AAAAAAAAAAAAAAAAAAAAAAAAAAAAAAAAAAAAAAAAAAAv3aB7AAAAD3RSTlMAEHaZZquJVO8y3btE\n",
       "zSKD2s2pAAAACXBIWXMAAA7EAAAOxAGVKw4bAAABD0lEQVQoz2NgwAn43FUn4JZlYE1gasAjzTmB\n",
       "bQEDPsDlgEWQ5cbuvyu2ABlMl7Bq4uYL4AnZCGRIK2CXTmDYMBVk+09c0na8DBIT+L4gC2uvWnUB\n",
       "Ls3NwCXA0ogke1YRSXegKANnkuoDBkZlBwZRcCBdRDKcc/s9CJuNvYHBH8TgfYCQ7l2/SADCns68\n",
       "gCEaLI3ktBTHC1C2AIcCQxOIMWMVEGyAGr7RBab2vADEe9LIHpvMDTWcwZYBEjFcyNLM8zZAOVsZ\n",
       "uANANJMCkjTjBhUox5ThPCRiriOkDRhcuA9AOKJJ9hAvie4RgMXY7wfce7/DVOdC6WO7Vl1AD3+2\n",
       "C4zt+FKEAmsCHml2Jxs8sgAiPz/Axk/J1wAAAABJRU5ErkJggg==\n",
       "\" style=\"display:inline;vertical-align:middle;\" /></a>, <a class=\"ProveItLink\" href=\"../__pv_it/demonstrations/1dbd259366c79f56151b83d19180b4a05e73ca7b0/expr.ipynb\"><img src=\"data:image/png;base64,iVBORw0KGgoAAAANSUhEUgAAADsAAAAUBAMAAADB8VhjAAAAMFBMVEX///8AAAAAAAAAAAAAAAAA\n",
       "AAAAAAAAAAAAAAAAAAAAAAAAAAAAAAAAAAAAAAAAAAAv3aB7AAAAD3RSTlMAMt0iZhDNdom7q0RU\n",
       "75mOI7qcAAAACXBIWXMAAA7EAAAOxAGVKw4bAAAA8klEQVQoz2NgwAlMji9kwANWMNTikxZkaGLA\n",
       "C1SwCbrdnJ900wHIKCvAqmmCFcMuzwAGBtbp2KUtGDgZFwAZ8gI4pPkMElgvMtg7IImyT1JSQ0hP\n",
       "YFBl8A1AyHKnByB0c4UuYJAoXwzkMCoJmIAEzQKQDJc8ZgDlhFXMADmDIRlht23Sp1IYx5SBA6wv\n",
       "AclpLmEIS1lbQSTjJSUlJU2oNGcIws3mEEUTkHQzPpgKd7EDA9hwBWR/P7SEcc4wMICdVo4sHckO\n",
       "NZ1xxvQmcNixHYBL2zGwOMyGsDkYzmZDLF+5FR5jkxlm5h9AC2ruTmigIgEAMh83w5p6p7MAAAAA\n",
       "SUVORK5CYII=\n",
       "\" style=\"display:inline;vertical-align:middle;\" /></a> <a class=\"ProveItLink\" href=\"../__pv_it/demonstrations/6162c66b983499e815054cffe89d9d73d80ce3cb0/proof.ipynb\" style=\"text-decoration: none\">&nbsp;&#x22A2;&nbsp;&nbsp;</a><a class=\"ProveItLink\" href=\"../__pv_it/demonstrations/396c0d0b50ae0872c02c24bbac0d8f3fb54575b40/expr.ipynb\"><img src=\"data:image/png;base64,iVBORw0KGgoAAAANSUhEUgAAAKkAAAAuBAMAAAChTiR8AAAAMFBMVEX///8AAAAAAAAAAAAAAAAA\n",
       "AAAAAAAAAAAAAAAAAAAAAAAAAAAAAAAAAAAAAAAAAAAv3aB7AAAAD3RSTlMAInZUiRDNmWbv3US7\n",
       "qzJazP2FAAAACXBIWXMAAA7EAAAOxAGVKw4bAAADs0lEQVRIx+2XT0gUURzHvzs7066uOyxhFOHB\n",
       "f2EhxWIW2aVV1g6hMpgkQYYEgdBlDxFmRIuHugRFYVBdpE5tJEt20JN/8BbCEnYIOmxaFxGsg9Ap\n",
       "+s2+tzvz5r2d2VOnPvBdZ95+9zczv5n35iuABJgkEjUNIcQloCWZZN5D5ZWINTMJdHPJaFkovDJH\n",
       "uVwY40wqrkP2KthnMbmIZJnK55dOH6nsPOB/F1xeTnu6r1InmmFyUcfFMKnkcL7yHf9hl8vL2LRg\n",
       "dFb2ZrgcTnMxdugmGx8rl5YVq1Z85gp9XKkcfYLL4SbX8PGr6SQyvcCobhkdWYwBekGsavvMXPEQ\n",
       "InoCRqYfw5MwyDMIJofycTLap8isltATRsZI6eHHeETNGher2r5L7WsFtKAXoxhBqgfRn8B9MCGS\n",
       "K1HAa9ohRRPRvXg2DgwdBApbkVl8Bai2UNX2HoBuoQD9WwZxMzmF+DLQAyaHl0wmInRiOh2Orihl\n",
       "1TXjCQ3SeWAql3uey70re2H0kwG4S26DTOTELpikqih9HQEah6gbWLLMPzRjPOda8u2324VQukju\n",
       "2B52i8AimBx4B4ClhGFFEEppefrRLWhUMTwrdyCWhUWGRnRSVbq+YzR2lsvp6yrtrNqPyRe6fjP5\n",
       "HeiMJbGOBupEdFmsantPUtuxZaag5edt0zqNPeRy4E/FuR+3MU8VqWNat921JXvOpcSq5DPXVi8U\n",
       "oX2gvbYU3YTYb9fT6bDNNNoanqQFqcGeBZ+Bsb57tFWfF6tu2/ez5wZt2bNgjObXRscv2nrL5VBf\n",
       "ZOJMF022/JwnHYZY1fFFT2CzNPF0enJCs0wuPEuD0dVm2V7jKe1MelYXl+9i66nSoS8npQWqxAqX\n",
       "cAHNcWppaNm75nl9r7BBn01cbq5wuQlP3wFrsux1c6YjX+W8Qs1MMi3yK0rl0xJM//kXVE0ZUMUH\n",
       "5RBQe8ooR4jgIZnqKaMSIYKHgNpTRjlCBA95kSdxLOtdJxSpIgAxZZSmq9i3GXWq8EdMGYqqE+pU\n",
       "4Y+YMoSq23OhLHtZKFKFP0LKEKoa1wYGeXxQpAp/hJQhVA1Z6OfxQZEq/BFSRund++aF/e61GbF4\n",
       "fFCkipqqspQh9pWtpovqVFFTB1jKEKsuwODxQZEq/BFShlA1nEScxwdFqvBHTBnuqjsD7XP8sVOk\n",
       "Cn/ElOGumgo/y5fjg5wq/PGkDGlusfggpYoA5H9AxNWFrzzeVBGE6m3uokmdKoJQpYxqccVJFUFU\n",
       "TxnlCBE85OUv0kEKkdcUvYkAAAAASUVORK5CYII=\n",
       "\" style=\"display:inline;vertical-align:middle;\" /></a></span><br>"
      ],
      "text/plain": [
       "<IPython.core.display.HTML object>"
      ]
     },
     "metadata": {},
     "output_type": "display_data"
    }
   ],
   "source": [
    "vec_add_02_factored = vec_add_02.factorization(y, pull='right', field=Real)"
   ]
  },
  {
   "cell_type": "code",
   "execution_count": 32,
   "metadata": {},
   "outputs": [
    {
     "data": {
      "text/html": [
       "<a class=\"ProveItLink\" href=\"../__pv_it/demonstrations/d64cb2716a8815db535b3f6eef4be62a7cb93d790/expr.ipynb\"><img src=\"data:image/png;base64,iVBORw0KGgoAAAANSUhEUgAAASkAAAAVBAMAAADoeAXTAAAAMFBMVEX///8AAAAAAAAAAAAAAAAA\n",
       "AAAAAAAAAAAAAAAAAAAAAAAAAAAAAAAAAAAAAAAAAAAv3aB7AAAAD3RSTlMAInZUiRDNmWbv3US7\n",
       "qzJazP2FAAAACXBIWXMAAA7EAAAOxAGVKw4bAAADYUlEQVRIx62WXUhTYRjH/+ecvZ59uDFECKKL\n",
       "4xcWYgyxD73xaEu6MDmYJUHGCIIuR4isRbQM6iZwGAURwai7RTKyC72adRvCCCWDLpYWgQnqhdCV\n",
       "9Lxze7dzNnA7di523vOc//+357xfzwvAj4MuqarQ//Ll8pEDB+o8WlmopZqs7Pne85/uKvDHrQFF\n",
       "ryYrez45BrBQFfQ6wxK4UlVSNn03ATVWTDIYbCu+aw0OCKYznG/M5++RyjoLwqbvMeASDz6Kj6QK\n",
       "T2sGWId49yx/78rf46ioMyPs+lwGTgvdJk1+9rmg+0g/14TwlpmuiGE360wI2766GCboNtJ5PRhA\n",
       "uB8YcxisPYZxqA4/WPg8sDEr0RhfNNNVmrSseeXnOaEbiYBlBKI1ht/oNez43gCOTO5rwvIXNSH7\n",
       "HX4WZrpDiWMaTejHGEbBbgxx8iMznb4GKjq1qNDpPXBulyK+I52y43tFszHEc3P6nbvemBcYPgJk\n",
       "1tUEITNw/AjDC8kAdRh6zHQ37XEPMG2sFnS+QBTexVLEDOr8tftCfKOi3F7SGIOe4KDPyAC64dII\n",
       "SV19LxfDKF8pW5wZTSZfJJPv+Hykbshiklp5HSOLSytB+PaoU2z4sE75bPOsSK3xnkXjMI0m0gYh\n",
       "w5CCWR6TcvvzgvmbXblpOsMHP6/z7GIrKxB9hhyHbMcH+jtPnI8gkPYzQ4Wkyyl6NQlChtGIDp7V\n",
       "PBgJestHAp4dXBY66u0TKEHUZ/Cndl8014lKAp/4Av1GY+UL/AQ6PAEsceS6T4ecmoMSoMkFPDHT\n",
       "6zVayN44IQo6siyVItw659fuU2gyOhf52u37dQdzFCaM3M3HOx2D/IGXUh2bQ62z1Jow02ntKntj\n",
       "ceIUdGrG87eIGMJCxpOq3TeIhv39Y4N2imYlQl1bz7eyFWB84D61+C43bkBXnnP6WzPdlwC7rZ15\n",
       "CKFjy+07RYQ60fb1Amz4Vnn9c6fgzoqNeCrr2y/yg7yEncSaKJFSwlI5ZoulrqBzhEoRh/EdLSmg\n",
       "lG1Xi8FV7Cl/utR8SrwRJXy+WEAL175uEFcDAnFIXyTflaWXW/OWHYKOWQP11gPsayxXOJPY8kmL\n",
       "vERaD2ZTd8vo1szBFi2Bs+2pClnZ8uUyl7SDT4flR/uGao5v9nxNwD/b3C3/fokkZQAAAABJRU5E\n",
       "rkJggg==\n",
       "\" style=\"display:inline;vertical-align:middle;\" /></a>"
      ],
      "text/plain": [
       "(x otimes y otimes z) + (x otimes y otimes w) + (x otimes y otimes v)"
      ]
     },
     "metadata": {},
     "output_type": "display_data"
    }
   ],
   "source": [
    "vec_add_03"
   ]
  },
  {
   "cell_type": "markdown",
   "metadata": {},
   "source": [
    "Investigating error when Prove-It is trying to perform the following:\n",
    "\n",
    "return tensor_prod_is_in_tensor_prod_space.instantiate(\n",
    "{a: \\_a\\_sub, i: \\_i\\_sub, K: \\_K\\_sub,  V: vec\\_spaces})\n",
    "\n",
    "in tensor_prod_membership.py for the case of $x\\otimes((y\\otimes z) + (y\\otimes w) + (y\\otimes v))$"
   ]
  },
  {
   "cell_type": "code",
   "execution_count": 33,
   "metadata": {},
   "outputs": [
    {
     "data": {
      "text/html": [
       "<a class=\"ProveItLink\" href=\"../__pv_it/demonstrations/d99af59c4d8a2a1e3ee3edd34a6751c2dabae9e00/expr.ipynb\"><img src=\"data:image/png;base64,iVBORw0KGgoAAAANSUhEUgAABGYAAAAmCAMAAACxgG2+AAAAPFBMVEX///8AAAAAAAAAAAAAAAAA\n",
       "AAAAAAAAAAAAAAAAAAAAAAAAAAAAAAAAAAAAAAAAAAAAAAAAAAAAAAAAAAAo1xBWAAAAE3RSTlMA\n",
       "mVSrZs0y7xCJ3bsiRHbn9enzTwiUqQAAAAlwSFlzAAAOxAAADsQBlSsOGwAACpFJREFUeNrtXemi\n",
       "pCoOlkUEWWbx/d91WFyCohaIdat7yI9eTh2+hCRASKLVdYEQ7ho1atSoIvGeR/9HpOmkUaNGdYmN\n",
       "cJ+hfdNIo0aNahMF8QsbeFNIo0aNqpPcsjG9aOpo1KhRfeJrCIOnFsz8zUT+Ul6N/gRa075jeTCj\n",
       "KDaEPZWkDkpFpB+aVgUQqb+j/G/zavRblLaumpT/mz0IZojdoczw+AisglIR6Yem9QCEj4Emuf6I\n",
       "6nMG6FFs/EVejSoQ1fUj2bR1ZYhiiCxHZnbzEuNT+eqgVET6oWk9BzHbRQajCwZKPtf/N3k1ekD4\n",
       "bKNXiX/lumpsXRoOyYlm7IH9IOXUj4PcBo00V546KBWRfmhaT0HQITTdwljeXzKgJvfa/UVeV/rJ\n",
       "jbyEHPveKCa+y/xqtEL2Q/XmrGMVnHWwmK0wpE2xq0bWVRP2d6asbUt2yp5YmlAZfMz0JQ5TB6Ui\n",
       "0g9N6xEIgweJEAZB487ucMpgzLs9f5PXhX7yI67BysbRJA8nurKTQPw95uejhfsxzx4Kgses/Qfu\n",
       "VkiIFRLPO69xqjG02FUj644OjE65mhL+LzZPkcuypVQBpSLSD03rEYgEKbgeu5wJiIKHGwYmr070\n",
       "TV5X+skMwYwOa4kethnmRKPkPebnowkvGorWDEufEywokOwThA14H+SEqlDPS101si5yqKQv0ZQ9\n",
       "uZZxbGKl+n6IUhHph6b1BAT6IPUZHSHBsXXDgGcVA77J61o/WSEY6pZ4gKD9ZcrfFcb3mJ+Pvt11\n",
       "00NXG+QluxC4Lg5YrwESiuMXikpdNbKucYHMcD1BI10BoU8gS9d7w9zd6za42oOUodSTp5JA76CU\n",
       "68aOBWea9IYFTVGTvmPQ50TeX+J1reTs4TZsWIbxnQThII4e73vGPGM0n3CGV4Aocta4yHr0edrK\n",
       "TBpuCPuK5u7pgAx/h9bFbuuZrhJhujc8uYERzsl8B6N3jyocQUpQ6slTSaC3UEp148DgEplQOF7w\n",
       "etDwOwYo40z8Dq9bJRdo9+yM9tsMBmmFZ8zzRssourvzii3gmJdzVmwFW1hgFRPvUaKjIMvfoXW9\n",
       "W6wnJTchZgLXRHW8nQVkJrG/DDJhDIlvhdwIBzPiC5CPUWyICw1fIo+FMoQzIZ4K5LWzGbkIpWPj\n",
       "yDpFu7ozSl3Q+bL0F2ZmvGWQbNDZi/wmL0WEUSATda/kKI8qRNwedhyuSHdWYNJMSdL3vIg5Hid/\n",
       "9dC8SHRMMOg4uvcKEHD4dqUhq2i2WqejZBi3u+N8l1o2Ape3yTHFmXW5dQu1nkCiw8MuJZzIK1nk\n",
       "oR+n0ZwdsDPMdhdLJac+RXE9PXrST+RxzUKGmA6NNQTatFOEwnsjJDRenRmh0Bv3r3+7P2d0FcJU\n",
       "Ni2rdk3CnTPQiYTJXuQ3eelBxed6jpLVqF3krjqFz4fbPUbTMwvb2ECPrIQ5HZDwyjBFors3JJDr\n",
       "aZ8NRV7evLoXTMdO5hC8WBUNm1xl/h5Z1/JYA12Gg99CGfp01ofS07q7h3EfYnEB8hGKE2Yw0QQL\n",
       "5OmocpsD7witIdDWy1iC0imnfMEfaTgxo5QnrEt/MYSUtwxSueaDyO/x4q7SDHbPPCV7X+kk6jan\n",
       "Pw63N6azfpCl/lTAPCRgJfMdavmi+358PLESr3AV5fCHU+Bn5SYpAWtghXADWVawW8RDmSl21rVu\n",
       "scYKfDbUsFmBDXML+SjjOElyepbAW2AYvgD5FCUIi57I4zvGUJSdfyDQpp0ilFDP4F1Xd0bLCYLi\n",
       "pGIonKzHVU9uGahJ34r8Ii/kQ0XwiF2OksNgpxhxq93kJM18DBcwDxubRTBFovuzCyzMLK9wgYyY\n",
       "VSlMHN4h9wE9FHl60G4D21kGDV3dy1S6aiLr2iv1lrYLgQ7c3rg8qWGBquCRQr3BXIF8ihJueOaZ\n",
       "PPHWWSyQ187mC4UonYo8oc6M0mFtyJfg1b4jumXAk9uM+havQe5+nqPkIfyuGLY9MaldflIj0myX\n",
       "VMi3sNiua1mjfUoLLOksr8DmEGkwQ6R7hhUTH4YeGg5HlMwAz9sMqBjqoXTV8PNtxkerBm5v4wmy\n",
       "vRGeF+pD0CuuQD5BcarzdVKmn8njdgi7KDivIBDIbJWh+MQA7yrPyOdL/vPfcNqQKDSm6yU5jjCS\n",
       "DFSqQWcn8nu8uA+G6I0DnkDyOZISsDI8JkO+dVHo451pLs2XWTgKJnJEZ7s8SJZX9PsnNxCaNYvt\n",
       "BwguxWM0I2Gks5Rt7Od8Tmx3hdqIrGtNA3oyPEvrMHT1KWNOkO3etm9F5hEM3k67BMgpCo/n7+Nn\n",
       "oKUCebjd1skQwTwQCFilCAV7Q5LaMwrOsc8rDl10u9ot/QQD+ODJuciv8Qq9I6QHzvOBknmcyxSw\n",
       "gJUajsxSivfi7vI4bMhy3FgNQtzwPhPdLcke53gFYCzwbA0devw2TWOGtQ1Fr7aZKCqeW3hdJHJI\n",
       "VGX5++4RJrvF8C3V7BqT2CCgWD1OIPtHFOju1SJ8WnxM9Ls4+whyhrKB+I5S7W6VWndP5MET48i6\n",
       "nsYPBXLa0bBPrgCFSSGNGFn1GXWpZ27d4eR7pkAG4IoBrA9cifwaL+fm2Eb0KEPJ6+DQqUHR1LHL\n",
       "4Z2RPVIdx/7qsA7nvoirR92VMJ99NtLS56NdFIRJl+EVkLGacy/cdE6l4HaDmb00YX3YZrY6Rpwg\n",
       "m+uJ9vo29y/AbuEMf99Vmnwxe1iNyokwWBEDlMWJ1PG7yd1Dma7/U8o+blwc1/YWROKc0B7kAmUD\n",
       "saGfMJwgcQl1Lw9HdhvGiOKnAjntILhHF6AIl7zvdf0ZdakHULjVIOgjmS98FwyWZ/ZvRH6NFydG\n",
       "sGsHPEKuFhKCUsPt0jAXw0NGWw7TOD/ouQzHTBsTp1BzmAeXLR0tLOsuyysg41nvivs7DqjX223G\n",
       "ymQON5rt6h9lgDs2X4zW9Rttuhn+HlnXblsWpr/uxtRCxg3Gp4T5uyA1oQpRRP87suw/u23Q0vdP\n",
       "EcFG+wtm3+R1r55rl/l0uKjAnFQU/W5saqi/9NBeesJhm+HiWIrerLP74qRd0KrGUk+NrevYoSqv\n",
       "rTs11D8BUhNKgB2GD/gnZElRf9+gNdy+MA02l4vf4PW6bsUjFBGtwi+KnhjKJ8462OTsthl7tzYn\n",
       "1rH3tN1FaPesJCp/uU1k3TEqDzwjbn4FpCbUijKa8BbCX5AlQfQD0dDd78Dnai+YfZPX67qdhxei\n",
       "RMOE/p7oqaG499e2rbocXsSZePg7WGeUh8a66M1aD15xGD2h7esmh2dDC8n8DEhNqBUFU4P0j8iS\n",
       "oE/eEsXu4lb4qhXzG7xe1+08XLPnzOUXRU8N5cQovzuwJdUSupvIiXVo/CIyDyHP9pw8il7aE+om\n",
       "sr3/+c+nj1YJuTlQRvVzvP4k+pUZceFyM7rIOqBEbB7MB1pXh7oJHdoq/f8gfp29o+YP5dWosnWe\n",
       "UmTduW6S7jBv9BfSZYmo8rcNfJNXo6rWeRzWRdZd6iaib2r/P6Grb+dB/M/l1aimdZ5SZN2tSWdo\n",
       "XwTYqFGjN2hrAqEtnGnUqNELZODrq2jTR6NGjWqTGuDjOX9hebFRo0b/MPExqpyrvuXkGjVqVJf2\n",
       "38WrWha4UaNGdYOZpZz1P0Flm80DwqeJAAAAAElFTkSuQmCC\n",
       "\" style=\"display:inline;vertical-align:middle;\" /></a>"
      ],
      "text/plain": [
       "(u in Real^{3}, v in Real^{3}, w in Real^{3}, x in Real^{3}, y in Real^{3}, z in Real^{3}, x != 0(Real^{3}), z != 0(Real^{3}), a in Real, alpha in Complex, beta in Real, gamma in Real, delta in Real, forall_{i in Natural} (f(i) in Real^{3}))"
      ]
     },
     "metadata": {},
     "output_type": "display_data"
    }
   ],
   "source": [
    "# reminder of assumptions:\n",
    "defaults.assumptions"
   ]
  },
  {
   "cell_type": "code",
   "execution_count": 34,
   "metadata": {},
   "outputs": [
    {
     "data": {
      "text/html": [
       "<strong id=\"temp_factored_tensor_prod_01\">temp_factored_tensor_prod_01:</strong> <a class=\"ProveItLink\" href=\"../__pv_it/demonstrations/602e0184111d6f37eb13b0ab60738136c80100020/expr.ipynb\"><img src=\"data:image/png;base64,iVBORw0KGgoAAAANSUhEUgAAALIAAAAVBAMAAAAQvakNAAAAMFBMVEX///8AAAAAAAAAAAAAAAAA\n",
       "AAAAAAAAAAAAAAAAAAAAAAAAAAAAAAAAAAAAAAAAAAAv3aB7AAAAD3RSTlMAInZUiRDNmWbv3US7\n",
       "qzJazP2FAAAACXBIWXMAAA7EAAAOxAGVKw4bAAACmklEQVQ4y5VVTWgTQRT+drPbzU+zLKIo4mHV\n",
       "FgsixFoK6aVRohTRsuSgl1R6EQQvOZRSlWLoQT0IBsWD9hLw5IoQ9GJPaUtvUgiCiOAhoCKooJde\n",
       "xW82yWZn3Uh3YCfzvvnex7w3b14AWIgY1i6Q/wxFTGouautVGIimDRoZm9NE5JZaDQETiDXGAH0+\n",
       "euuqbA6iDRpDDoz+4dRicdQ37sqQIcXwJioBEiNZQco3TGqUGj0r5UhQSlIZj1BO2JL5GJP++idv\n",
       "X3/rh1OVoMm4ytewwLl04koxh8pp4LLm6MeqmAO0Fje6EFeCZrrtA5KyPlLFN0w5knJpBmnW0UVq\n",
       "U0B9Z9RVS7P0il7QEjU8YKJ4ZT3IOwJwaWSrJSkL6ic0G5JyIY8UaXfwjCJWcidbzQKz+4HWZ6NO\n",
       "OuiEHkQ+adgHzZGUBfUhhqygsplbRIJnyWOVBgweUGMBUKPgpGzSYf7uQ3RY9aI/K+abrvvEdV9y\n",
       "Rar5B4YoHdd9/tR1SdbpbDIbvzouFBOEvbPMDJoO6cjUAlBXeU/4BqcdtQZVvsHEjoeseWGiaemO\n",
       "AaWgNiizCNKRqAvlLtTJBitWzgapwy38kJWZIcaKKWwC5cZHGmbuC3A8k8O2oCO5jj4EQcOpTsoD\n",
       "yttIF7xkBZTpfJI/91kdmP56A68pQYrK9rCMJmvZEA49SBQRzK3N821Z+QLWWpmGrKzNK7ZXpt9Z\n",
       "sUcSSzzXsHgW74G5M7e5SguHHgRB05C/HsqzsTD6YSb8UpbvifkF0m3/2ay0zTFvcY7fQRkK0Hb1\n",
       "BpW6aB1+Pxs/6oho9Ec0lgJQp8PE6kiig22EGGk7y+wq6yF4I14XPcSvHI5q5VY3w9Iox1MWB1Hs\n",
       "qJ3D//yz2XGEVQt/AferlVmNp+8WAAAAAElFTkSuQmCC\n",
       "\" style=\"display:inline;vertical-align:middle;\" /></a><br>"
      ],
      "text/plain": [
       "<IPython.core.display.HTML object>"
      ]
     },
     "metadata": {},
     "output_type": "display_data"
    }
   ],
   "source": [
    "# this one will work OK (see next cell)\n",
    "temp_factored_tensor_prod_01 = TensorProd(TensorProd(x, y), VecAdd(z, w, v))"
   ]
  },
  {
   "cell_type": "code",
   "execution_count": 35,
   "metadata": {},
   "outputs": [
    {
     "data": {
      "text/html": [
       "<span style=\"font-size:20px;\"><a class=\"ProveItLink\" href=\"../__pv_it/demonstrations/69b818e5ab2a8afc180d22a4e2534dbd4afed1660/expr.ipynb\"><img src=\"data:image/png;base64,iVBORw0KGgoAAAANSUhEUgAAADwAAAAUBAMAAAAjLUMaAAAAMFBMVEX///8AAAAAAAAAAAAAAAAA\n",
       "AAAAAAAAAAAAAAAAAAAAAAAAAAAAAAAAAAAAAAAAAAAv3aB7AAAAD3RSTlMAEHarMolUmd1mIs3v\n",
       "RLtmgJDEAAAACXBIWXMAAA7EAAAOxAGVKw4bAAAA/UlEQVQoz2NgwAm4pik74JZlYA5gOoBHmsWB\n",
       "tYEBH+CYgEWQc8+73z0vgQymTVg18XEZ8Fo+BDLkFLBLBzA8cAbZ/gWXdBU3g4wD109kYaYXHd1w\n",
       "aT4GDgHOg0iyvJsEELoNhRlYgpQXMDAIKYuEJoBEVwsgDGd5tgvKKWAyYgd7fxfC7tP9TVC1nAs4\n",
       "PzKDvb8BIR05EcZhYWCHMFlOdHR09EENfzgT7iQeiOcZHyB5zJ0P5hCG+wsYwewGJGl2L6hiuQs2\n",
       "DKxglhKSNOMDTQg737GG4RqYxZ0Aly5gmMl3AcwWV2KrhIgz2l2Exdi/BXyvv6GHNW8cJFCRAABM\n",
       "3zydJQQu6AAAAABJRU5ErkJggg==\n",
       "\" style=\"display:inline;vertical-align:middle;\" /></a>, <a class=\"ProveItLink\" href=\"../__pv_it/demonstrations/24b47934df390430c4ddb4660bfa2c456cc746cd0/expr.ipynb\"><img src=\"data:image/png;base64,iVBORw0KGgoAAAANSUhEUgAAADwAAAAXBAMAAACluTG0AAAAMFBMVEX///8AAAAAAAAAAAAAAAAA\n",
       "AAAAAAAAAAAAAAAAAAAAAAAAAAAAAAAAAAAAAAAAAAAv3aB7AAAAD3RSTlMAEHaZZquJVO8y3btE\n",
       "zSKD2s2pAAAACXBIWXMAAA7EAAAOxAGVKw4bAAABD0lEQVQoz2NgwAn43FUn4JZlYE1gasAjzTmB\n",
       "bQEDPsDlgEWQ5cbuvyu2ABlMl7Bq4uYL4AnZCGRIK2CXTmDYMBVk+09c0na8DBIT+L4gC2uvWnUB\n",
       "Ls3NwCXA0ogke1YRSXegKANnkuoDBkZlBwZRcCBdRDKcc/s9CJuNvYHBH8TgfYCQ7l2/SADCns68\n",
       "gCEaLI3ktBTHC1C2AIcCQxOIMWMVEGyAGr7RBab2vADEe9LIHpvMDTWcwZYBEjFcyNLM8zZAOVsZ\n",
       "uANANJMCkjTjBhUox5ThPCRiriOkDRhcuA9AOKJJ9hAvie4RgMXY7wfce7/DVOdC6WO7Vl1AD3+2\n",
       "C4zt+FKEAmsCHml2Jxs8sgAiPz/Axk/J1wAAAABJRU5ErkJggg==\n",
       "\" style=\"display:inline;vertical-align:middle;\" /></a>, <a class=\"ProveItLink\" href=\"../__pv_it/demonstrations/1dbd259366c79f56151b83d19180b4a05e73ca7b0/expr.ipynb\"><img src=\"data:image/png;base64,iVBORw0KGgoAAAANSUhEUgAAADsAAAAUBAMAAADB8VhjAAAAMFBMVEX///8AAAAAAAAAAAAAAAAA\n",
       "AAAAAAAAAAAAAAAAAAAAAAAAAAAAAAAAAAAAAAAAAAAv3aB7AAAAD3RSTlMAMt0iZhDNdom7q0RU\n",
       "75mOI7qcAAAACXBIWXMAAA7EAAAOxAGVKw4bAAAA8klEQVQoz2NgwAlMji9kwANWMNTikxZkaGLA\n",
       "C1SwCbrdnJ900wHIKCvAqmmCFcMuzwAGBtbp2KUtGDgZFwAZ8gI4pPkMElgvMtg7IImyT1JSQ0hP\n",
       "YFBl8A1AyHKnByB0c4UuYJAoXwzkMCoJmIAEzQKQDJc8ZgDlhFXMADmDIRlht23Sp1IYx5SBA6wv\n",
       "AclpLmEIS1lbQSTjJSUlJU2oNGcIws3mEEUTkHQzPpgKd7EDA9hwBWR/P7SEcc4wMICdVo4sHckO\n",
       "NZ1xxvQmcNixHYBL2zGwOMyGsDkYzmZDLF+5FR5jkxlm5h9AC2ruTmigIgEAMh83w5p6p7MAAAAA\n",
       "SUVORK5CYII=\n",
       "\" style=\"display:inline;vertical-align:middle;\" /></a>, <a class=\"ProveItLink\" href=\"../__pv_it/demonstrations/640ab420e6d48668ece9f7f5061ad805bab7a17e0/expr.ipynb\"><img src=\"data:image/png;base64,iVBORw0KGgoAAAANSUhEUgAAAEAAAAAUBAMAAADPWCYMAAAAMFBMVEX///8AAAAAAAAAAAAAAAAA\n",
       "AAAAAAAAAAAAAAAAAAAAAAAAAAAAAAAAAAAAAAAAAAAv3aB7AAAAD3RSTlMAEHaJZjKZVN3vq7tE\n",
       "zSL5cm/iAAAACXBIWXMAAA7EAAAOxAGVKw4bAAABEUlEQVQoz2NgwAP43LUC8MkzcBkwTcCrgDWA\n",
       "uYEBP+BwwCrMcnP3384tQAbTJRwaufkW8CzZCGRIK+BSYMCwIQrkiq+4FeTxMkgG8H1BldDu6LgA\n",
       "V8DNwCHAMhFF/qwikgkLpRhYjbQeMDAqOzCEMVQIgALuIpIVrNvvQdjM7BMYVjOcPwBk8j5AKJjb\n",
       "3yQAYYezNTBMgsjxIjnSxPEClC3AqQD0CxuIGdkBBBugVmx0gamuFwDGCBOIJY3szTBuqBUMuQzc\n",
       "CxhiwAGPrIAtbgOUs4uBw4DBAMRiUkBSwLhBBcqxZji5gOcAmHkdoSCBwYUbIsjAlqy4zATClNoj\n",
       "AIvN3w+4937HjIPDOzouoAkBAERFPjTBQdmsAAAAAElFTkSuQmCC\n",
       "\" style=\"display:inline;vertical-align:middle;\" /></a>, <a class=\"ProveItLink\" href=\"../__pv_it/demonstrations/c8e167f722c9b5d57e8e82cabbb6679414a00d9f0/expr.ipynb\"><img src=\"data:image/png;base64,iVBORw0KGgoAAAANSUhEUgAAADwAAAAUBAMAAAAjLUMaAAAAMFBMVEX///8AAAAAAAAAAAAAAAAA\n",
       "AAAAAAAAAAAAAAAAAAAAAAAAAAAAAAAAAAAAAAAAAAAv3aB7AAAAD3RSTlMAEHaJZt1U76symc27\n",
       "IkSKjfYVAAAACXBIWXMAAA7EAAAOxAGVKw4bAAAA+0lEQVQoz2NgwAl43TQm4JZl4DBgKsAjzTmB\n",
       "OYABH2B1wCLIsv3M7/AjQAbTJqyaeHgb+FoOAhkyCtilDRgOzADZ/hOX9FpuBvEJvF+QhXVCQzfA\n",
       "pXkYWAVYCpFkXysi6W6UYOA00rjAwKjswBAGDqSNSIZzHtsLYTOzFTBUgBjcFxDS1fFBAhD2NK4N\n",
       "DMlgaSSnmThugLIF2BUYpoEY00OB4ADU8IMuMLX5Agxg38sge2wWD9RwhqUMDAbgAEaW5pp7AMo5\n",
       "wcAGdhSTApI04wEVKMea4RKEsQ0hvYDBhecBhMPVAo02iXMCsBj7c4Hn9Df0sH58NHQDmhAADeo3\n",
       "fql85rkAAAAASUVORK5CYII=\n",
       "\" style=\"display:inline;vertical-align:middle;\" /></a> <a class=\"ProveItLink\" href=\"../__pv_it/demonstrations/a7d9d70a5d51a1b08f335b130796cdac266aedfb0/proof.ipynb\" style=\"text-decoration: none\">&nbsp;&#x22A2;&nbsp;&nbsp;</a><a class=\"ProveItLink\" href=\"../__pv_it/demonstrations/e547e3ff524a7fc0dad5d523a81884260883fa710/expr.ipynb\"><img src=\"data:image/png;base64,iVBORw0KGgoAAAANSUhEUgAAAVcAAAAaBAMAAADxrgItAAAAMFBMVEX///8AAAAAAAAAAAAAAAAA\n",
       "AAAAAAAAAAAAAAAAAAAAAAAAAAAAAAAAAAAAAAAAAAAv3aB7AAAAD3RSTlMAInZUiRDNmWbv3US7\n",
       "qzJazP2FAAAACXBIWXMAAA7EAAAOxAGVKw4bAAAFK0lEQVRYw8WYa2gcVRTH/7s7k9lsdqeDRFul\n",
       "0m2aqjFEYoyF9EunIUootQyxNgqJpgWhVsQVSqmP6hKxplgwKBXUIovFR7eKiw+wHyST2kjRFNdH\n",
       "fUCQ7UMKWo0gERERz5175+7c2UnJ5ksO/DMzZ86c+c295z42wNJZ7OmOykJ8WNH101IxPuefZOz4\n",
       "ePhmlA/fog3GkrAmcv6ZWdEK4btRPvyOTYi53qklVGPWAjyX62WhkG0LnKfytfejfHgbGGXHeCdX\n",
       "rb0fdkSHzWdNWa6QnULygem/jp5i+XZIb5QP+w9/ueswY7+O0qQcOukWqrV4+Bu76+vwG4TU9qaS\n",
       "TMfKTT9M0cVQ9VuifHCvxScHCVI/QTRlOo5wRdn96uV8YfNZg8OlmGEzMBvub6xC/wvA1vrgNiNt\n",
       "EiRmK9Dn6OE8l9+afX1r5cWz/NDa1+u90lBa+uOonlcikjkuxZaVONgjDbinEvtbpld9AoNgDWtE\n",
       "fw2rKPFOoBFcYjBSyEDJv2r0GM850NuhhDHrihrpaokeEmJv/7z4pncy64OlqQqTh2R6xedjeLAu\n",
       "3sABeuoJYB24uF2i8a5/IfuRNZQ5yQqppIQtEHanEDX5Dr8cbhRdfmYYZm+HJdMHfRKDYDN3lXGh\n",
       "5SsKagN2g2ug496+TuQ2AoOao1+fxzCgsXIxNAt67jYRZhYrKxRYvTWPi1jvKLAD/UjRzHEHuICr\n",
       "ZOl+x2HNT7eLGhbpgz4fg8FeWufPlxOO/Ppc/GujELc0S8/ptpYYx/NUcGxErcZGDGKrCNvWerKs\n",
       "wLLQGUyUFFi7B40Uth9cwHbZ2tMe7EvvvS7w/fRBn48B9+pd/8ghRIPsCB1ISSs5l8lngC3LgfJ5\n",
       "o0AESLCVrwztbA4ZHoYroTkKLAt9AQ1WENbs3IMEjfoecAHVeeQhD7b/Gd/jpw/6fAxq2bHqGrKq\n",
       "hFfpQDJhUKhG3UItYjuNWSKA+QdrJWCfd8cLhc4KAo8Viy8Xi+/SGYXSZMNWbqNYPPpKscimQ3rY\n",
       "pDKYBRdM8hff8V75Fi+DqTGB4KcP+nwMgk3fLSeY+yQsjXVqFXpn8xYqCaoPNt01sZbNIdZX8Wi8\n",
       "sCvCA2yDQ1uPuDrAEnOe57gQdDfUsvbFtOggP33QJzHcZjM3JVtWlgHVr6U7BmJ2vERRe8A2P4mC\n",
       "l60Z7R7sET6TqmVAoekyflVhqTRYV6wXAgphWOOs68Py9EGfxKAB9uRKWbMWaCFjGir9SPnNzgtA\n",
       "e1MnTjMCJNnD500b8dIHPAy3sFJSYE8jZbPODMLSwzfT4aAQ0CJhZzis7oqF2E8f9EkMgh2Siz7N\n",
       "BmJ62fDzoyCgdnprvJuV0USeL42If0h/1tg8zDx5YlNFhd2M4+WmkgqrjcSyqE6LNGPLLVCbB5vD\n",
       "WJo/46cP+iSGuxzJvD/tHwB+gafBlsReSphms/EZYLj3KTpLec+yWXvY4WEaeh4M1ayxe+33/eFF\n",
       "YZ83Vo4JUc6Zj6rtQzusf630Z39yB0+v+gQG7bomMf2w+FAah6kKl7DRisn74nbSNXyJvwnnvK5I\n",
       "VepbwWIFLm8J2yyW28ZS6BmZPmgSQ10PQ7sNvWuNw7pRf5Eu9nLfnS23yo1JPRuZ0B6puutSzU+v\n",
       "bPA8DNU1J7phMrxbz2YoZ8wNuSfr2yKuFFJ/t4wv8udQkg3sISGlO0cfF5Wj2FB96Scjv++bRcKm\n",
       "GA0bt7Fs1O3VNbv8bD3Z4xbXZX6D1WOjS/Lr1l7cPxncpf2/QV1m0ID7H42dcZOJfYG5AAAAAElF\n",
       "TkSuQmCC\n",
       "\" style=\"display:inline;vertical-align:middle;\" /></a></span>"
      ],
      "text/plain": [
       "{x in Real^{3}, y in Real^{3}, z in Real^{3}, w in Real^{3}, v in Real^{3}} |- ((x otimes y) otimes (z + w + v)) in (Real^{3} otimes Real^{3} otimes Real^{3})"
      ]
     },
     "metadata": {},
     "output_type": "display_data"
    }
   ],
   "source": [
    "InSet(temp_factored_tensor_prod_01, TensorProd(R3, R3, R3)).conclude()"
   ]
  },
  {
   "cell_type": "code",
   "execution_count": 36,
   "metadata": {},
   "outputs": [
    {
     "data": {
      "text/html": [
       "<strong id=\"temp_factored_tensor_prod_02\">temp_factored_tensor_prod_02:</strong> <a class=\"ProveItLink\" href=\"../__pv_it/demonstrations/1555d505bb7a8e8396a3fc87f9fa275fea7837570/expr.ipynb\"><img src=\"data:image/png;base64,iVBORw0KGgoAAAANSUhEUgAAAQcAAAAVBAMAAAC57DawAAAAMFBMVEX///8AAAAAAAAAAAAAAAAA\n",
       "AAAAAAAAAAAAAAAAAAAAAAAAAAAAAAAAAAAAAAAAAAAv3aB7AAAAD3RSTlMAEHarMolUmd1mIs3v\n",
       "RLtmgJDEAAAACXBIWXMAAA7EAAAOxAGVKw4bAAADRklEQVRIx5VWUUgUURQ9M7s7szvuyqCZH4Ws\n",
       "lkqSsAUSQcQmZBKkm7ofGcgWBEaCCyIoFklI7EfB4o8fQS2C1Fds/fVnBRFEMAQJgeCSf0Gg0E99\n",
       "de+8N7POzgqzF447c9851/vue/PuA/xWkqg1I5CrEeZh/wlQcwI+SyR9rp76SQRlfpPw2x0Jv52q\n",
       "dWiZ+kkEZapFAZ8pZYE61mTWOI4dkkNg5hsJJ6lsttN+0IsC0rqzY27AWF5W2xle9MsbY65JCAvT\n",
       "QIvFT3EJYYMmlH737b2srbPkm355Y8y4KSBshDap8puf7kkIyS/60+Fq3nlDa2W/vDFmU1Gg5cSR\n",
       "bA75SaA9wjnNCyi9RbRCj5Sg5K8DwysGcce9oXXabS2LUFKOXOku4gqmzWDMx0AkJZBXz+rLailS\n",
       "UvJKRs6BENE28QJ9mEQ72qC8neKwz7yheQ6ZGcT2HDmLLmLHCsb8SHunbCNWiu2HiiFg4iVAOXF+\n",
       "jCF9meKlELmaRwiGCSoHZryhozmEcwsIVRw5iz6gqRSEWeZzgFJhhEGviFDFKAOuxFcBM56keOSY\n",
       "s0fRxks1ypUtFJ58LhQ437gFhUjxpCMnUfgP9GBMDNGe2xOgEbBuY4KWppoEdkyKl4eRTfOoYU9p\n",
       "2zs/Co3EPkbTrnzWVDehBmOCxhKbAtgpKaYOI6NadhJyObAEipfHBvo5iR80E2DaV2Su42m48iU0\n",
       "p3AtCHPBrru2bKPDukDlDucuA/0J7hg/JXY53lA4A9XagpajjQE894Zupl8i7Vblu4hm7EUNwNRo\n",
       "68QqNmYv3ccW+Ump2h1jXGIOO0Wo37n3ZDAy1b0iP98Dofnj0lOJv1X5FLZTCSsI8ybW5adLaO/S\n",
       "FqkAzXyGnGH+sETr2EPy8WHVaiKjfeHQT72hw1RMZaD3X1Wuz3eeu4FAzPN8okctAWmr6bBofdG0\n",
       "ACdLtTqJQbeRGMs1h/GKPcvyQXljzFcSTvO83WO6vYcQKSuf+PVo1y2X4/Q1ty2tcabHcwfljTEX\n",
       "Pb3tgP2yEU2GfFeA17UOqu0jDNSJEZBpVAT81mFDW31QNz3v3aOCu73WIRMJwOQN0lz3fsfnkpGs\n",
       "dw/y09fr31WCMvsE/gNXUP2ONbQr5QAAAABJRU5ErkJggg==\n",
       "\" style=\"display:inline;vertical-align:middle;\" /></a><br>"
      ],
      "text/plain": [
       "<IPython.core.display.HTML object>"
      ]
     },
     "metadata": {},
     "output_type": "display_data"
    }
   ],
   "source": [
    "temp_factored_tensor_prod_02 = TensorProd(x, VecAdd(TensorProd(y, z), TensorProd(y, w), TensorProd(y, v)))"
   ]
  },
  {
   "cell_type": "code",
   "execution_count": 37,
   "metadata": {},
   "outputs": [
    {
     "data": {
      "text/html": [
       "<strong id=\"deduction_as_vec_space\">deduction_as_vec_space:</strong> <span style=\"font-size:20px;\"> <a class=\"ProveItLink\" href=\"../__pv_it/demonstrations/205b1bca8bffd83bc43de31f5483057610a464800/proof.ipynb\" style=\"text-decoration: none\">&nbsp;&#x22A2;&nbsp;&nbsp;</a><a class=\"ProveItLink\" href=\"../__pv_it/demonstrations/615ee8da6af2733832ee09b8de7f59c57c8119100/expr.ipynb\"><img src=\"data:image/png;base64,iVBORw0KGgoAAAANSUhEUgAAARAAAAAgBAMAAAAoKTo/AAAAMFBMVEX///8AAAAAAAAAAAAAAAAA\n",
       "AAAAAAAAAAAAAAAAAAAAAAAAAAAAAAAAAAAAAAAAAAAv3aB7AAAAD3RSTlMAZkRUmRDNuyLviTJ2\n",
       "3asqG0tJAAAACXBIWXMAAA7EAAAOxAGVKw4bAAAE7ElEQVRYw+1WbWhbVRh+kuYmt7k3XTJ1Y1gw\n",
       "MBHWHxoUxcpG76CgzFIyrCsO28WJww3nskptxUmvWJAGcXVSWyiMOz+gZN0IKKydpUlbWrcaRx1O\n",
       "EC1Nlfn5w7nWrazW+p77lXvTtK5dhf7wQJt7n3PO+zz3fZ/zAWQbf9uFBHJaPgyvb/0N/0FbbzwU\n",
       "KWJrbmc+DL/iPFyrrqNAMp6EhHcstzcfhk9xCnx0tYXssjz7/Av782H4Eii+dWre9nAYjv0N1745\n",
       "TI/iC+aYfBg2tDcdbGe6RlIkMHzLQoYMFifF48kCHj7jnKynnuqUOSgfhujbuHcjCeCOkMKMPaqj\n",
       "aS4DfqLd1MeVl4ekJU2hmCwDgEthpAqi/cwRsxYhCzFEY/AITEAyAe7PnLiuP1ghg+Z7TQLbIv9i\n",
       "CoPFHca6oPb6mBtPJXgWazTeHc7FxHh8WBPikiNcJ45SgZ7Jrfg1pib7/iFlaUkh200WOCQkDVIP\n",
       "Vd3RBvSFwQ3mYAKpeDqoC4niEjbRrEf1eJ+Nj2t8TbJlLwAOMOVLCWk1WYA2fKGX4XIthO4LMoRG\n",
       "5ougDcMZ+uPqVCFFT2ZwNv0zDTqvhbtn2AhcRo6wGOcVmuRfyiIRk5ml90dNiPDS83qlvTI46SMb\n",
       "BqkLqPKGmZAzD8k6eJ9qS/45M3JhK4QU+AqqSVX8A5TdoBw6958on6TUp+OU6B3xEJpHJfQVj8B0\n",
       "p8ZyGg2qkPcmvtPdfg5dqMJuGybKXpmTOPJVy8E5MwFJde93y6YQ7xRcYfTKYoR/F1sS4vz8XlJ3\n",
       "DDUSSmVXBC0hZ6fQgREuCh+b6bcwb8CLqpATdxi2ysDbI6HIhhUBJ5tZVzQWyO5/R9UF4ra5lUZ+\n",
       "BUy5I0SNnb/M++HOoOAqvTlnsA8FHT4J6+5vg8gWWMjCXMrmsQTVB/RolK9K+jgb5qU8ZlhXNObZ\n",
       "aZZ9jyqkd5ya7slD8noItMgO7FE0oPcK3BK4aXJYyQx3g6WRpCkTR1gaC4MW5qSeEeUTj14GCXw8\n",
       "QavQitGajJ1kXdGYINWbGVFLU22xX5lCnz8dCNyZZJsgKXZeZUJwHVzlAzPCX2zI9kAgsXtiOitE\n",
       "Y9liCHH1RA0hMQxqQkzMBV4Rg6oQPP6m6RHVHT6LkMLOFIQplixJX7qzekZKg8IMSwySVA8+jLsS\n",
       "Rml0lm34SRPCRQe0YB8LCsTgZhsmhM4Cg84QE1It+m2rRrScAK45go5TIsgjCF0kyiuqR2YxDedM\n",
       "zz5asoVU4s0pFDGjpizMG9XdwMNLCHi0zVksYaeRYsMwSDUXH6GPbIbDX6fTbtJ+nrW49W/miyC6\n",
       "+Hfglb8OYRc5ogM1CgkRZx9u8aNLOAbvG23wUDa9GQvzDvZddAZelz0vT2nR2IZWG7ZjbB53mZ2+\n",
       "jWg4FNLASu2nti57DO9laspHZVRVnEPm7tPf06qaTNP//qHhUymuPC2juaLL2Z1+n+V5zMJ8UbWM\n",
       "/RT9HH0LNsTihDCQixlnTclr40scKe7FD+BvLbkcU/c3e3si/eCCOdzWodzrx4LTd9lCbre4yw+h\n",
       "dYW3Gkfmpob5Fh/myW7KbCn+sEIhPvlmRjl/P77oOC57Njfm3FmX01bhzvqW8SDK2oVtRRffVb/F\n",
       "W+8yy2iuMP5vizRhQFkbQvoRXRtCXl0rpbmENeLbkoB/FaL8A/iih7HusdxtAAAAAElFTkSuQmCC\n",
       "\" style=\"display:inline;vertical-align:middle;\" /></a></span><br>"
      ],
      "text/plain": [
       "<IPython.core.display.HTML object>"
      ]
     },
     "metadata": {},
     "output_type": "display_data"
    }
   ],
   "source": [
    "deduction_as_vec_space = TensorProd(R3, R3, R3).deduce_as_vec_space()"
   ]
  },
  {
   "cell_type": "code",
   "execution_count": 38,
   "metadata": {},
   "outputs": [
    {
     "data": {
      "text/html": [
       "<strong id=\"deduced_field\">deduced_field:</strong> <a class=\"ProveItLink\" href=\"../../../numbers/number_sets/real_numbers/__pv_it/common/93cac87a1a47e613f7a83b23ef7891599a1a4cca0/expr.ipynb\"><img src=\"data:image/png;base64,iVBORw0KGgoAAAANSUhEUgAAAA8AAAAPBAMAAADJ+Ih5AAAAMFBMVEX///8AAAAAAAAAAAAAAAAA\n",
       "AAAAAAAAAAAAAAAAAAAAAAAAAAAAAAAAAAAAAAAAAAAv3aB7AAAAD3RSTlMAZs3vu90iq0QQiTKZ\n",
       "VHZ+Ip2vAAAACXBIWXMAAA7EAAAOxAGVKw4bAAAAX0lEQVQI12MQMvFXNRFgAAKHdIZ2kQkgRhYD\n",
       "C3cBhMGToABjOEAY7DOhUlsuJYAYyapfX4K1ZwlOYoAwWCZCDMziPuAJYTCcToEypvCB5BxyGBgF\n",
       "PBgYgLa7MbjoXwAAK2IYKL6KYFkAAAAASUVORK5CYII=\n",
       "\" style=\"display:inline;vertical-align:middle;\" /></a><br>"
      ],
      "text/plain": [
       "<IPython.core.display.HTML object>"
      ]
     },
     "metadata": {},
     "output_type": "display_data"
    }
   ],
   "source": [
    "deduced_field = deduction_as_vec_space.domain.field"
   ]
  },
  {
   "cell_type": "code",
   "execution_count": 39,
   "metadata": {},
   "outputs": [
    {
     "data": {
      "text/html": [
       "<span style=\"font-size:20px;\"><a class=\"ProveItLink\" href=\"../__pv_it/demonstrations/69b818e5ab2a8afc180d22a4e2534dbd4afed1660/expr.ipynb\"><img src=\"data:image/png;base64,iVBORw0KGgoAAAANSUhEUgAAADwAAAAUBAMAAAAjLUMaAAAAMFBMVEX///8AAAAAAAAAAAAAAAAA\n",
       "AAAAAAAAAAAAAAAAAAAAAAAAAAAAAAAAAAAAAAAAAAAv3aB7AAAAD3RSTlMAEHarMolUmd1mIs3v\n",
       "RLtmgJDEAAAACXBIWXMAAA7EAAAOxAGVKw4bAAAA/UlEQVQoz2NgwAm4pik74JZlYA5gOoBHmsWB\n",
       "tYEBH+CYgEWQc8+73z0vgQymTVg18XEZ8Fo+BDLkFLBLBzA8cAbZ/gWXdBU3g4wD109kYaYXHd1w\n",
       "aT4GDgHOg0iyvJsEELoNhRlYgpQXMDAIKYuEJoBEVwsgDGd5tgvKKWAyYgd7fxfC7tP9TVC1nAs4\n",
       "PzKDvb8BIR05EcZhYWCHMFlOdHR09EENfzgT7iQeiOcZHyB5zJ0P5hCG+wsYwewGJGl2L6hiuQs2\n",
       "DKxglhKSNOMDTQg737GG4RqYxZ0Aly5gmMl3AcwWV2KrhIgz2l2Exdi/BXyvv6GHNW8cJFCRAABM\n",
       "3zydJQQu6AAAAABJRU5ErkJggg==\n",
       "\" style=\"display:inline;vertical-align:middle;\" /></a>, <a class=\"ProveItLink\" href=\"../__pv_it/demonstrations/24b47934df390430c4ddb4660bfa2c456cc746cd0/expr.ipynb\"><img src=\"data:image/png;base64,iVBORw0KGgoAAAANSUhEUgAAADwAAAAXBAMAAACluTG0AAAAMFBMVEX///8AAAAAAAAAAAAAAAAA\n",
       "AAAAAAAAAAAAAAAAAAAAAAAAAAAAAAAAAAAAAAAAAAAv3aB7AAAAD3RSTlMAEHaZZquJVO8y3btE\n",
       "zSKD2s2pAAAACXBIWXMAAA7EAAAOxAGVKw4bAAABD0lEQVQoz2NgwAn43FUn4JZlYE1gasAjzTmB\n",
       "bQEDPsDlgEWQ5cbuvyu2ABlMl7Bq4uYL4AnZCGRIK2CXTmDYMBVk+09c0na8DBIT+L4gC2uvWnUB\n",
       "Ls3NwCXA0ogke1YRSXegKANnkuoDBkZlBwZRcCBdRDKcc/s9CJuNvYHBH8TgfYCQ7l2/SADCns68\n",
       "gCEaLI3ktBTHC1C2AIcCQxOIMWMVEGyAGr7RBab2vADEe9LIHpvMDTWcwZYBEjFcyNLM8zZAOVsZ\n",
       "uANANJMCkjTjBhUox5ThPCRiriOkDRhcuA9AOKJJ9hAvie4RgMXY7wfce7/DVOdC6WO7Vl1AD3+2\n",
       "C4zt+FKEAmsCHml2Jxs8sgAiPz/Axk/J1wAAAABJRU5ErkJggg==\n",
       "\" style=\"display:inline;vertical-align:middle;\" /></a>, <a class=\"ProveItLink\" href=\"../__pv_it/demonstrations/1dbd259366c79f56151b83d19180b4a05e73ca7b0/expr.ipynb\"><img src=\"data:image/png;base64,iVBORw0KGgoAAAANSUhEUgAAADsAAAAUBAMAAADB8VhjAAAAMFBMVEX///8AAAAAAAAAAAAAAAAA\n",
       "AAAAAAAAAAAAAAAAAAAAAAAAAAAAAAAAAAAAAAAAAAAv3aB7AAAAD3RSTlMAMt0iZhDNdom7q0RU\n",
       "75mOI7qcAAAACXBIWXMAAA7EAAAOxAGVKw4bAAAA8klEQVQoz2NgwAlMji9kwANWMNTikxZkaGLA\n",
       "C1SwCbrdnJ900wHIKCvAqmmCFcMuzwAGBtbp2KUtGDgZFwAZ8gI4pPkMElgvMtg7IImyT1JSQ0hP\n",
       "YFBl8A1AyHKnByB0c4UuYJAoXwzkMCoJmIAEzQKQDJc8ZgDlhFXMADmDIRlht23Sp1IYx5SBA6wv\n",
       "AclpLmEIS1lbQSTjJSUlJU2oNGcIws3mEEUTkHQzPpgKd7EDA9hwBWR/P7SEcc4wMICdVo4sHckO\n",
       "NZ1xxvQmcNixHYBL2zGwOMyGsDkYzmZDLF+5FR5jkxlm5h9AC2ruTmigIgEAMh83w5p6p7MAAAAA\n",
       "SUVORK5CYII=\n",
       "\" style=\"display:inline;vertical-align:middle;\" /></a>, <a class=\"ProveItLink\" href=\"../__pv_it/demonstrations/640ab420e6d48668ece9f7f5061ad805bab7a17e0/expr.ipynb\"><img src=\"data:image/png;base64,iVBORw0KGgoAAAANSUhEUgAAAEAAAAAUBAMAAADPWCYMAAAAMFBMVEX///8AAAAAAAAAAAAAAAAA\n",
       "AAAAAAAAAAAAAAAAAAAAAAAAAAAAAAAAAAAAAAAAAAAv3aB7AAAAD3RSTlMAEHaJZjKZVN3vq7tE\n",
       "zSL5cm/iAAAACXBIWXMAAA7EAAAOxAGVKw4bAAABEUlEQVQoz2NgwAP43LUC8MkzcBkwTcCrgDWA\n",
       "uYEBP+BwwCrMcnP3384tQAbTJRwaufkW8CzZCGRIK+BSYMCwIQrkiq+4FeTxMkgG8H1BldDu6LgA\n",
       "V8DNwCHAMhFF/qwikgkLpRhYjbQeMDAqOzCEMVQIgALuIpIVrNvvQdjM7BMYVjOcPwBk8j5AKJjb\n",
       "3yQAYYezNTBMgsjxIjnSxPEClC3AqQD0CxuIGdkBBBugVmx0gamuFwDGCBOIJY3szTBuqBUMuQzc\n",
       "CxhiwAGPrIAtbgOUs4uBw4DBAMRiUkBSwLhBBcqxZji5gOcAmHkdoSCBwYUbIsjAlqy4zATClNoj\n",
       "AIvN3w+4937HjIPDOzouoAkBAERFPjTBQdmsAAAAAElFTkSuQmCC\n",
       "\" style=\"display:inline;vertical-align:middle;\" /></a>, <a class=\"ProveItLink\" href=\"../__pv_it/demonstrations/c8e167f722c9b5d57e8e82cabbb6679414a00d9f0/expr.ipynb\"><img src=\"data:image/png;base64,iVBORw0KGgoAAAANSUhEUgAAADwAAAAUBAMAAAAjLUMaAAAAMFBMVEX///8AAAAAAAAAAAAAAAAA\n",
       "AAAAAAAAAAAAAAAAAAAAAAAAAAAAAAAAAAAAAAAAAAAv3aB7AAAAD3RSTlMAEHaJZt1U76symc27\n",
       "IkSKjfYVAAAACXBIWXMAAA7EAAAOxAGVKw4bAAAA+0lEQVQoz2NgwAl43TQm4JZl4DBgKsAjzTmB\n",
       "OYABH2B1wCLIsv3M7/AjQAbTJqyaeHgb+FoOAhkyCtilDRgOzADZ/hOX9FpuBvEJvF+QhXVCQzfA\n",
       "pXkYWAVYCpFkXysi6W6UYOA00rjAwKjswBAGDqSNSIZzHtsLYTOzFTBUgBjcFxDS1fFBAhD2NK4N\n",
       "DMlgaSSnmThugLIF2BUYpoEY00OB4ADU8IMuMLX5Agxg38sge2wWD9RwhqUMDAbgAEaW5pp7AMo5\n",
       "wcAGdhSTApI04wEVKMea4RKEsQ0hvYDBhecBhMPVAo02iXMCsBj7c4Hn9Df0sH58NHQDmhAADeo3\n",
       "fql85rkAAAAASUVORK5CYII=\n",
       "\" style=\"display:inline;vertical-align:middle;\" /></a> <a class=\"ProveItLink\" href=\"../__pv_it/demonstrations/4c709275d63ce192862ae023beb0b0c44930e7820/proof.ipynb\" style=\"text-decoration: none\">&nbsp;&#x22A2;&nbsp;&nbsp;</a><a class=\"ProveItLink\" href=\"../__pv_it/demonstrations/c93611d1ab2027ecb93a924bba6c07d84fb4e44b0/expr.ipynb\"><img src=\"data:image/png;base64,iVBORw0KGgoAAAANSUhEUgAAAaoAAAAaBAMAAAAUHAUEAAAAMFBMVEX///8AAAAAAAAAAAAAAAAA\n",
       "AAAAAAAAAAAAAAAAAAAAAAAAAAAAAAAAAAAAAAAAAAAv3aB7AAAAD3RSTlMAInZUiRDNmWbv3US7\n",
       "qzJazP2FAAAACXBIWXMAAA7EAAAOxAGVKw4bAAAFdElEQVRYw9VYbWhbZRR+7k3u8h3DKEykatZ1\n",
       "1tlVypjT9Y/ZrEOkG5etWgctlooff4Ss1FEqY3EDhzhZUCbiUKtDqxFK2IpuP6RZYX5sDiK2bsKQ\n",
       "uBaGddj1hyAqw3Pe3I/3Jjfxrr+6A0/y5rnn3vc57znvxw1wK9jtG36p4pSDbSUv3LKz183GNNZV\n",
       "XYyl1Kwrl17eQfksfX/g8aqr8ZJ/1JVrFM2EywMTNXjFE3UznonavT0ptT91uTWcceWCSfpW26uv\n",
       "MefGI5Ksota4R+XV84SECvuW0H3uudVzwD3y07SuTwbuSkEdqMF9TNjo0tXGGjxwb1WZpGrUj0dP\n",
       "NWOjIrU0bdSfM9r+b0j0lHSh7R30/EvV2Zt059rIv7+6J+bceLIVep0yWZLnsxIcFqBRGJwAghQV\n",
       "Fuy1LdBKFw5TBPEb7tzTOgLSGDV3bhVSmJN4k2YLGjM4Yl4etke9s3OtJMqr5yEJDrstj3j6LDUu\n",
       "au/j7owl5GqUPmLp3SXlL3duRQYh+zFXdGit3AgZqKCFHTXKycy+tbrGSejOvKTKo2dIt8G2Ppcr\n",
       "l8mCjpheoMZTNFNe0y0hM1Eup0xYDx515wIFbLKXxTP00cu9bTJQQQt7wanVZxXqNVrFtPNSVB49\n",
       "aWQtkH1hZfE+IKqUEz7X9IMtpLCqrGtrW8KVA+1ZQxxk08zcIwj4E9DSj9LvoTK0lgz6bHp+XKGO\n",
       "tzu1cvHvHIZWRHoL0OPXteYMrqJD9+Z5HPAXbdASYU+vn4A749IKYwhRinP1OUT+FCMaQFtyBKux\n",
       "BT3oNkaZ4PdlccSitYEu1vmqUyuPcGozgtfVhD+hpbUU33QZk3lvnu/R/Ou3QV72vvU95SgizXpD\n",
       "SDx1qj7HKwaNFl7BEf0SivD/mkaMfh8vYzYwSgJNWtHBedzs1BpuR7x9BLEC3beDyqDIN70pxP2/\n",
       "Zz9vHxSbBYrKFvcisEre9QwhSvpEfQ7KPzhGXyXspU9K9j5KELWOlaGHkiTQprt5Pi9wbnO5z97N\n",
       "5bhkQnlo5BRKkkOAiBTdRGMV8OaJWRrZ6zaA33JkBSFujOeVVIGmkEJDfQ5aOSpQb6BTodJZEnqM\n",
       "qDCpk0CLVsS4nXZmgLRyHS+UyKFhBz/kYZ1mq+rNE3QtkrVBM9+Rq6hesH+bQs5G63NQyhWIyCKe\n",
       "II8GtIqojAqkDIojsEGforEGOqrqClRJ68hBSal58t6LaBG/e/EcEWPtG7VBXo6oImK/ipgRlIV8\n",
       "yXsT8jU5xBcxxatsLEvPn6UFR82fJHrKwAUWaNK+djHnDju1RumbnC7QnKFlqDXSTs1witV68fTR\n",
       "9AsWbNCqbE+ky4TBr8TgCjOFBFqLYnxqcVwRtK75bvRkqRN1gk+grGe7gX2YzFj0ta7mcWPVl7Ty\n",
       "ehwoRmhH5zOLSrO/C6eLkbwXz21Yaaz4JsiesaLiVyr16z1ah3FIsfStfz6xa6w2h2AW85SrweSD\n",
       "B+kX72h9nMl5A31b9ycsOuV7m7V+7tQap7rRplsWKQ+8t86QuqG1Fx+DJ89LvG6H8za4p/Pm6WyS\n",
       "G93f/b3HDNPUp3V9MJaow9FaFLaPjcH7cUXsD8yV+W0yLWbiaMU5aFzkgXN/oBSXz+lePe+QwDZx\n",
       "zjgxhfIVB0OHkDoc7YxB6YV4V9MD1sGU4O/X3pJp8+DrOLMe4tB387uYtmGNfEz36jksoerM7jRZ\n",
       "SB2Ozuwih5V2RiCcjFU9uLGSoHL6CNMuz/DoqRRsVLyuZ5f4z8Abzh3Csl4B34GXXeN1vosV8FBL\n",
       "vsbIePDkSWaiwn5cYlQfwtxcKwYw6c5Dre57pfujvXquluD1hbS+BZPL+z+m1JJua7xV/g+8KXsJ\n",
       "+A8mXsmltSpVpwAAAABJRU5ErkJggg==\n",
       "\" style=\"display:inline;vertical-align:middle;\" /></a></span>"
      ],
      "text/plain": [
       "{x in Real^{3}, y in Real^{3}, z in Real^{3}, w in Real^{3}, v in Real^{3}} |- (x otimes ((y otimes z) + (y otimes w) + (y otimes v))) in (Complex^{3} otimes Complex^{3} otimes Complex^{3})"
      ]
     },
     "metadata": {},
     "output_type": "display_data"
    }
   ],
   "source": [
    "temp_factored_tensor_prod_02.deduce_in_vec_space(field=None)"
   ]
  },
  {
   "cell_type": "code",
   "execution_count": 40,
   "metadata": {},
   "outputs": [
    {
     "data": {
      "text/html": [
       "<span style=\"font-size:20px;\"><a class=\"ProveItLink\" href=\"../__pv_it/demonstrations/69b818e5ab2a8afc180d22a4e2534dbd4afed1660/expr.ipynb\"><img src=\"data:image/png;base64,iVBORw0KGgoAAAANSUhEUgAAADwAAAAUBAMAAAAjLUMaAAAAMFBMVEX///8AAAAAAAAAAAAAAAAA\n",
       "AAAAAAAAAAAAAAAAAAAAAAAAAAAAAAAAAAAAAAAAAAAv3aB7AAAAD3RSTlMAEHarMolUmd1mIs3v\n",
       "RLtmgJDEAAAACXBIWXMAAA7EAAAOxAGVKw4bAAAA/UlEQVQoz2NgwAm4pik74JZlYA5gOoBHmsWB\n",
       "tYEBH+CYgEWQc8+73z0vgQymTVg18XEZ8Fo+BDLkFLBLBzA8cAbZ/gWXdBU3g4wD109kYaYXHd1w\n",
       "aT4GDgHOg0iyvJsEELoNhRlYgpQXMDAIKYuEJoBEVwsgDGd5tgvKKWAyYgd7fxfC7tP9TVC1nAs4\n",
       "PzKDvb8BIR05EcZhYWCHMFlOdHR09EENfzgT7iQeiOcZHyB5zJ0P5hCG+wsYwewGJGl2L6hiuQs2\n",
       "DKxglhKSNOMDTQg737GG4RqYxZ0Aly5gmMl3AcwWV2KrhIgz2l2Exdi/BXyvv6GHNW8cJFCRAABM\n",
       "3zydJQQu6AAAAABJRU5ErkJggg==\n",
       "\" style=\"display:inline;vertical-align:middle;\" /></a>, <a class=\"ProveItLink\" href=\"../__pv_it/demonstrations/24b47934df390430c4ddb4660bfa2c456cc746cd0/expr.ipynb\"><img src=\"data:image/png;base64,iVBORw0KGgoAAAANSUhEUgAAADwAAAAXBAMAAACluTG0AAAAMFBMVEX///8AAAAAAAAAAAAAAAAA\n",
       "AAAAAAAAAAAAAAAAAAAAAAAAAAAAAAAAAAAAAAAAAAAv3aB7AAAAD3RSTlMAEHaZZquJVO8y3btE\n",
       "zSKD2s2pAAAACXBIWXMAAA7EAAAOxAGVKw4bAAABD0lEQVQoz2NgwAn43FUn4JZlYE1gasAjzTmB\n",
       "bQEDPsDlgEWQ5cbuvyu2ABlMl7Bq4uYL4AnZCGRIK2CXTmDYMBVk+09c0na8DBIT+L4gC2uvWnUB\n",
       "Ls3NwCXA0ogke1YRSXegKANnkuoDBkZlBwZRcCBdRDKcc/s9CJuNvYHBH8TgfYCQ7l2/SADCns68\n",
       "gCEaLI3ktBTHC1C2AIcCQxOIMWMVEGyAGr7RBab2vADEe9LIHpvMDTWcwZYBEjFcyNLM8zZAOVsZ\n",
       "uANANJMCkjTjBhUox5ThPCRiriOkDRhcuA9AOKJJ9hAvie4RgMXY7wfce7/DVOdC6WO7Vl1AD3+2\n",
       "C4zt+FKEAmsCHml2Jxs8sgAiPz/Axk/J1wAAAABJRU5ErkJggg==\n",
       "\" style=\"display:inline;vertical-align:middle;\" /></a>, <a class=\"ProveItLink\" href=\"../__pv_it/demonstrations/1dbd259366c79f56151b83d19180b4a05e73ca7b0/expr.ipynb\"><img src=\"data:image/png;base64,iVBORw0KGgoAAAANSUhEUgAAADsAAAAUBAMAAADB8VhjAAAAMFBMVEX///8AAAAAAAAAAAAAAAAA\n",
       "AAAAAAAAAAAAAAAAAAAAAAAAAAAAAAAAAAAAAAAAAAAv3aB7AAAAD3RSTlMAMt0iZhDNdom7q0RU\n",
       "75mOI7qcAAAACXBIWXMAAA7EAAAOxAGVKw4bAAAA8klEQVQoz2NgwAlMji9kwANWMNTikxZkaGLA\n",
       "C1SwCbrdnJ900wHIKCvAqmmCFcMuzwAGBtbp2KUtGDgZFwAZ8gI4pPkMElgvMtg7IImyT1JSQ0hP\n",
       "YFBl8A1AyHKnByB0c4UuYJAoXwzkMCoJmIAEzQKQDJc8ZgDlhFXMADmDIRlht23Sp1IYx5SBA6wv\n",
       "AclpLmEIS1lbQSTjJSUlJU2oNGcIws3mEEUTkHQzPpgKd7EDA9hwBWR/P7SEcc4wMICdVo4sHckO\n",
       "NZ1xxvQmcNixHYBL2zGwOMyGsDkYzmZDLF+5FR5jkxlm5h9AC2ruTmigIgEAMh83w5p6p7MAAAAA\n",
       "SUVORK5CYII=\n",
       "\" style=\"display:inline;vertical-align:middle;\" /></a>, <a class=\"ProveItLink\" href=\"../__pv_it/demonstrations/640ab420e6d48668ece9f7f5061ad805bab7a17e0/expr.ipynb\"><img src=\"data:image/png;base64,iVBORw0KGgoAAAANSUhEUgAAAEAAAAAUBAMAAADPWCYMAAAAMFBMVEX///8AAAAAAAAAAAAAAAAA\n",
       "AAAAAAAAAAAAAAAAAAAAAAAAAAAAAAAAAAAAAAAAAAAv3aB7AAAAD3RSTlMAEHaJZjKZVN3vq7tE\n",
       "zSL5cm/iAAAACXBIWXMAAA7EAAAOxAGVKw4bAAABEUlEQVQoz2NgwAP43LUC8MkzcBkwTcCrgDWA\n",
       "uYEBP+BwwCrMcnP3384tQAbTJRwaufkW8CzZCGRIK+BSYMCwIQrkiq+4FeTxMkgG8H1BldDu6LgA\n",
       "V8DNwCHAMhFF/qwikgkLpRhYjbQeMDAqOzCEMVQIgALuIpIVrNvvQdjM7BMYVjOcPwBk8j5AKJjb\n",
       "3yQAYYezNTBMgsjxIjnSxPEClC3AqQD0CxuIGdkBBBugVmx0gamuFwDGCBOIJY3szTBuqBUMuQzc\n",
       "CxhiwAGPrIAtbgOUs4uBw4DBAMRiUkBSwLhBBcqxZji5gOcAmHkdoSCBwYUbIsjAlqy4zATClNoj\n",
       "AIvN3w+4937HjIPDOzouoAkBAERFPjTBQdmsAAAAAElFTkSuQmCC\n",
       "\" style=\"display:inline;vertical-align:middle;\" /></a>, <a class=\"ProveItLink\" href=\"../__pv_it/demonstrations/c8e167f722c9b5d57e8e82cabbb6679414a00d9f0/expr.ipynb\"><img src=\"data:image/png;base64,iVBORw0KGgoAAAANSUhEUgAAADwAAAAUBAMAAAAjLUMaAAAAMFBMVEX///8AAAAAAAAAAAAAAAAA\n",
       "AAAAAAAAAAAAAAAAAAAAAAAAAAAAAAAAAAAAAAAAAAAv3aB7AAAAD3RSTlMAEHaJZt1U76symc27\n",
       "IkSKjfYVAAAACXBIWXMAAA7EAAAOxAGVKw4bAAAA+0lEQVQoz2NgwAl43TQm4JZl4DBgKsAjzTmB\n",
       "OYABH2B1wCLIsv3M7/AjQAbTJqyaeHgb+FoOAhkyCtilDRgOzADZ/hOX9FpuBvEJvF+QhXVCQzfA\n",
       "pXkYWAVYCpFkXysi6W6UYOA00rjAwKjswBAGDqSNSIZzHtsLYTOzFTBUgBjcFxDS1fFBAhD2NK4N\n",
       "DMlgaSSnmThugLIF2BUYpoEY00OB4ADU8IMuMLX5Agxg38sge2wWD9RwhqUMDAbgAEaW5pp7AMo5\n",
       "wcAGdhSTApI04wEVKMea4RKEsQ0hvYDBhecBhMPVAo02iXMCsBj7c4Hn9Df0sH58NHQDmhAADeo3\n",
       "fql85rkAAAAASUVORK5CYII=\n",
       "\" style=\"display:inline;vertical-align:middle;\" /></a> <a class=\"ProveItLink\" href=\"../__pv_it/demonstrations/796291f374a26727ce107ef7fb2ba68b42f6d4120/proof.ipynb\" style=\"text-decoration: none\">&nbsp;&#x22A2;&nbsp;&nbsp;</a><a class=\"ProveItLink\" href=\"../__pv_it/demonstrations/8bc6dc3dd5d53425a2e9b61542d7909f459c2c3a0/expr.ipynb\"><img src=\"data:image/png;base64,iVBORw0KGgoAAAANSUhEUgAAAaoAAAAaBAMAAAAUHAUEAAAAMFBMVEX///8AAAAAAAAAAAAAAAAA\n",
       "AAAAAAAAAAAAAAAAAAAAAAAAAAAAAAAAAAAAAAAAAAAv3aB7AAAAD3RSTlMAInZUiRDNmWbv3US7\n",
       "qzJazP2FAAAACXBIWXMAAA7EAAAOxAGVKw4bAAAFg0lEQVRYw9VYbYhUZRR+7szcne9pkAUrNhp1\n",
       "TW3bWMQs/dNom0iscjHNhF2ajKCEaIpNlg1rUlIjw6HQH2mxKVGOsA0lkT9i7xobkitNtFv7Q2L8\n",
       "AGnbWpcookI65537PfdO1/21Hjg79z733Pd9zsf7vucucDPIrct/qsOkPe1VP9ickzf1izEsq3uY\n",
       "zAaKrlh+bjsVNPj9hkfqnqaqoQFXrEVcpl0GTHvgki/oRizT3rM9Zrn+2OXVWMEVi2ToN9BR/4wx\n",
       "NxzxTB20yN0rv5afWtQhZ7H36Lc7jjL3u8zRIs+O/nniLJPc7oF9SLrCZaoVHjiwtK5Msh7149My\n",
       "UDDVkVpaNuod+PKAAshnTDwhVeITI3TRnXHH2sk+Vz8TY244SZPSoExmZfm0RW0SpiiozUikKnQz\n",
       "XbV4kIX6K6+i6+7YEwrClhi1dq4VVBiz4Doscq2t4Lj+uM+MemfnYgspv5b7LGqTW8rCq3A6J7+P\n",
       "OwsGEfbghSZsq0p/uWNNBUTNYS4pkNv4IqqpAxZySCsnPfvG7poiopvKFlY+LaOKqSz3lEq1MplW\n",
       "NK9UWilvKAYR4UECMSVyyB0Lq1hpbovDXJc820pNHbCQZ+xcg0ahTtEuJp+zeOXTkiJrKMnnRhbv\n",
       "hvAquaWCKwu/M4mwB+M9SK1tT7tioDOrl9fRwvErDyEcSkPOP0z3vTWVlxTQY8KTgxJNvMHOlYt/\n",
       "Ux/kCvJrgK0hRW4t4CpWK/4sjwOhiqm0RZjL64eaV1MrtU1fJ0IepL560htD/A8R0TDaM/1YgDXY\n",
       "is1alElDwSIOGrC8vYt57rVz5QhnVyFyLZAOpeW8nOWXLmCo7M/yPVp/OVPJyjy3Rtmr23b8rSdP\n",
       "J5KQDn9yTPHGeMegaOE1HFQmUEHoYh5Juj9e08vhASKow5ICzuMqO9dYB1Id/Uiq9N7G+UCFX3pb\n",
       "kPt/yxwfH+SboeSVWcHPiVztN7ZOnUhCWv96rgEG6R8coZ8qdtJfqpBdlCC6OlJTJZohgia8mYMx\n",
       "zbktlU68WypxyUTLkMkomiGDMAFZeoliFfZnicsU2WumAj+XSFRB7iPhVeJxfQ/ViVC1jexvgEGu\n",
       "eQWaDdQVSp1VwUfzCkMKETRgSQT9tD0DxJXreLpKBs0beZAHFVqtAX+WoGfxoqm08p25SuVHtHud\n",
       "CHlwNaF4Y5BqFYj4DLaQRTPahFdaBVIGRQuswV9QrIHVdXUFqqRlZCBlA2Wy3olEBb/4sewXsQ4O\n",
       "mEpWTq/wSovhVY0IeRC+qHpjSM3gDO+yySKNfzmVRaD8GcFnND3PBHU42CHW3AE71wT9ktF5WjNX\n",
       "gLZ4B13GsszWj2WQll9ENZV2ZbMLulDzqlvvpXQi5IGsLvXGuCJoXwte31qkSQKnuANlPhs03YWh\n",
       "ggFPdbUOaru+hSvvx+FKnE70NnozQKu/C6cr8bIfy3WYp+34upI8ZXjFn1TqfEQK2tGmE0lIeexP\n",
       "lD0xRIqYpFy9mLl/D93xidbDxTmpac/aV9MGnA0e5rdO2rmmqG7ksSUzlAc+W8eJXe/iH9fDl+UE\n",
       "ZyFWNpVnOqcvjyGFe/ZhjD6vfT3UiFB//m868fXv3hjtRTGzbYzci0si24zV8HVWWKzEAUcfNCjy\n",
       "wLvq7mrK2qf7tbzdoiynvtE6pmjZ0RjaiDTA6GSMWD6IH114n9GYkoZy8jtWWG98bT3rPnZ9G0dT\n",
       "Xr7I2qb7teyzaF3PbhcrkQYY9ewih04ZFhrLJOsGbnECVE7HMOYyhk9LSTXV8blenOV/Bt6ynxCG\n",
       "dAsN7n7Z1V/7t5iKB5aUPSLjw5IXma4O+X6WXn0A/XB1BDDjjiNQP/c896H9Wi6wqN8P0sYSyczt\n",
       "/zFlZ/Vay83y/8AbkpeA/wCmQuD37fVxswAAAABJRU5ErkJggg==\n",
       "\" style=\"display:inline;vertical-align:middle;\" /></a></span>"
      ],
      "text/plain": [
       "{x in Real^{3}, y in Real^{3}, z in Real^{3}, w in Real^{3}, v in Real^{3}} |- (x otimes ((y otimes z) + (y otimes w) + (y otimes v))) in (Real^{3} otimes Real^{3} otimes Real^{3})"
      ]
     },
     "metadata": {},
     "output_type": "display_data"
    }
   ],
   "source": [
    "temp_factored_tensor_prod_02.deduce_in_vec_space(field=deduced_field)"
   ]
  },
  {
   "cell_type": "code",
   "execution_count": 41,
   "metadata": {},
   "outputs": [
    {
     "data": {
      "text/html": [
       "<a class=\"ProveItLink\" href=\"../__pv_it/demonstrations/b09d232dc6c8bd1b305d141dd063505555f74fe50/expr.ipynb\"><img src=\"data:image/png;base64,iVBORw0KGgoAAAANSUhEUgAAABcAAAATBAMAAACJlYuFAAAAMFBMVEX///8AAAAAAAAAAAAAAAAA\n",
       "AAAAAAAAAAAAAAAAAAAAAAAAAAAAAAAAAAAAAAAAAAAv3aB7AAAAD3RSTlMAZs3vu90iq0QQiTKZ\n",
       "VHZ+Ip2vAAAACXBIWXMAAA7EAAAOxAGVKw4bAAAAk0lEQVQI12NggILEe9UMcFDF8BjB2c2wlAEJ\n",
       "BDIwCJn4q5oIANmPHgAJh3SGdpEJDAycfiBOFgMLdwGQsX8DmMOToMBpzZAvAOU4MEQyCE8Ac9hn\n",
       "FjDselcG0bPlUgLUeIdk1a8vYXY5ZAlOYkBwWCYKIDjcBzwRHIbTKUicKXwwdQ45DIwCHhA20NVu\n",
       "DC76F0BsAJSlJFWuLv4NAAAAAElFTkSuQmCC\n",
       "\" style=\"display:inline;vertical-align:middle;\" /></a>"
      ],
      "text/plain": [
       "Real^{3}"
      ]
     },
     "metadata": {},
     "output_type": "display_data"
    }
   ],
   "source": [
    "# interestingly, we also can already do this:\n",
    "VecSpaces.known_vec_space(x, field=Real)"
   ]
  },
  {
   "cell_type": "code",
   "execution_count": 42,
   "metadata": {},
   "outputs": [
    {
     "data": {
      "text/html": [
       "<span style=\"font-size:20px;\"> <a class=\"ProveItLink\" href=\"../__pv_it/demonstrations/86fdea85cef0f9ac83f62507f642df23d8e64c1c0/proof.ipynb\" style=\"text-decoration: none\">&nbsp;&#x22A2;&nbsp;&nbsp;</a><a class=\"ProveItLink\" href=\"../__pv_it/demonstrations/f63aa3e65b3c5f3bc9733df071332d100e61133b0/expr.ipynb\"><img src=\"data:image/png;base64,iVBORw0KGgoAAAANSUhEUgAAAK8AAAAgBAMAAACWWjVLAAAAMFBMVEX///8AAAAAAAAAAAAAAAAA\n",
       "AAAAAAAAAAAAAAAAAAAAAAAAAAAAAAAAAAAAAAAAAAAv3aB7AAAAD3RSTlMAZs3vu90iq0QQiTKZ\n",
       "VHZ+Ip2vAAAACXBIWXMAAA7EAAAOxAGVKw4bAAADHklEQVRIx+2VX0hTURzHv5vb3PVubjMhKJFl\n",
       "lBT2D80kCe9DSb2YRcMsi5tmUQkuCIOiGPkg9ZC38KFC0CAtpXBgvSS52UtkZhd960HNwGgPs7J8\n",
       "MG397u68ZyM2EN1b5+l3zu93Pud3f99zfheIjFNjV5GUcQWfkwPuQweSNA4tmyBGGxkFBzcU2MmY\n",
       "nFguN11ehN1WpsJZNGVKAFcWG5YZqgBqZw5oC61D7y0JwR81WLqSqXAeBt5Nhs8bG/dB8R7Vptxx\n",
       "WA8n4nJOBtukgi2ikytGvT02sJ4C4demaWRmJAJb7IswIGsRLKASqyS1UvtcamKGWUDn0fbp22kp\n",
       "ETiFwZAihe3U+268DDaE3eatUiTQOg+ksn2GQjonEXgEGgx6NfvnI9pFQbWkmflAP1AX8IMb7Jat\n",
       "oSe0dmN31hvalB3oIjW7n8E0/BT8p6BStUEwWBrBhZoNv76yczcys0fGW/CFmESNbC7GdOgHFSbf\n",
       "w1XBWojXMO1Bo7dXTHe2AOUUvg4MpgsL6bgb9UHOGPXcMPphk3MUFLe65DuQC4x7aNYs6p0YFauA\n",
       "hUYJyhs4AQazbldswx12H/idLpfrSESuWdLOZ4e+ay7iLAHygDa6H/d6xDZSk6ejNht/TineIjAY\n",
       "/02xeT97BZzAMrbOkXbjAw5H3x+owjV7FLBNQOu1cdE3oQjscKzlOkJ+DazCzOGM8e40o5VHlSWf\n",
       "tPPJdNo81Ktm86oZW4vgE5XE+QVaPQfdb60UKsxaHrZb0lktgtFvr5JuJOnryaFQIylXr9bYa/Oj\n",
       "+UI1ySHvouzGgIsUXQYG09GHC3XQ2fezdyBHqUdQvghpYo0dncYt4Ej49SJ3DASefnVmB3l6Pegc\n",
       "lVBK0Y/BYJZ2pbuVYu82DcdduskOUd5d3XAnuKGgmGoevEzz3OwvHvDXxx6cROvwFExDAfFWMKAE\n",
       "vgCDGT3/PiDzI1eiXpMX12OMamK1S2+68cE61rAwsHRwRXxXqWaZhCVzm2Ya4vpaWMMSV/SnadJ+\n",
       "blP4PxKO/jXJ4fJuQ3LABm+SKmGUuOSAzQ8dK4H5C1Su32Lf0xUBAAAAAElFTkSuQmCC\n",
       "\" style=\"display:inline;vertical-align:middle;\" /></a></span>"
      ],
      "text/plain": [
       "|- Real^{3} in_c VecSpaces(Real)"
      ]
     },
     "metadata": {},
     "output_type": "display_data"
    }
   ],
   "source": [
    "R3.deduce_as_vec_space()"
   ]
  },
  {
   "cell_type": "code",
   "execution_count": 43,
   "metadata": {},
   "outputs": [
    {
     "data": {
      "text/html": [
       "<span style=\"font-size:20px;\"><a class=\"ProveItLink\" href=\"../__pv_it/demonstrations/69b818e5ab2a8afc180d22a4e2534dbd4afed1660/expr.ipynb\"><img src=\"data:image/png;base64,iVBORw0KGgoAAAANSUhEUgAAADwAAAAUBAMAAAAjLUMaAAAAMFBMVEX///8AAAAAAAAAAAAAAAAA\n",
       "AAAAAAAAAAAAAAAAAAAAAAAAAAAAAAAAAAAAAAAAAAAv3aB7AAAAD3RSTlMAEHarMolUmd1mIs3v\n",
       "RLtmgJDEAAAACXBIWXMAAA7EAAAOxAGVKw4bAAAA/UlEQVQoz2NgwAm4pik74JZlYA5gOoBHmsWB\n",
       "tYEBH+CYgEWQc8+73z0vgQymTVg18XEZ8Fo+BDLkFLBLBzA8cAbZ/gWXdBU3g4wD109kYaYXHd1w\n",
       "aT4GDgHOg0iyvJsEELoNhRlYgpQXMDAIKYuEJoBEVwsgDGd5tgvKKWAyYgd7fxfC7tP9TVC1nAs4\n",
       "PzKDvb8BIR05EcZhYWCHMFlOdHR09EENfzgT7iQeiOcZHyB5zJ0P5hCG+wsYwewGJGl2L6hiuQs2\n",
       "DKxglhKSNOMDTQg737GG4RqYxZ0Aly5gmMl3AcwWV2KrhIgz2l2Exdi/BXyvv6GHNW8cJFCRAABM\n",
       "3zydJQQu6AAAAABJRU5ErkJggg==\n",
       "\" style=\"display:inline;vertical-align:middle;\" /></a>, <a class=\"ProveItLink\" href=\"../__pv_it/demonstrations/24b47934df390430c4ddb4660bfa2c456cc746cd0/expr.ipynb\"><img src=\"data:image/png;base64,iVBORw0KGgoAAAANSUhEUgAAADwAAAAXBAMAAACluTG0AAAAMFBMVEX///8AAAAAAAAAAAAAAAAA\n",
       "AAAAAAAAAAAAAAAAAAAAAAAAAAAAAAAAAAAAAAAAAAAv3aB7AAAAD3RSTlMAEHaZZquJVO8y3btE\n",
       "zSKD2s2pAAAACXBIWXMAAA7EAAAOxAGVKw4bAAABD0lEQVQoz2NgwAn43FUn4JZlYE1gasAjzTmB\n",
       "bQEDPsDlgEWQ5cbuvyu2ABlMl7Bq4uYL4AnZCGRIK2CXTmDYMBVk+09c0na8DBIT+L4gC2uvWnUB\n",
       "Ls3NwCXA0ogke1YRSXegKANnkuoDBkZlBwZRcCBdRDKcc/s9CJuNvYHBH8TgfYCQ7l2/SADCns68\n",
       "gCEaLI3ktBTHC1C2AIcCQxOIMWMVEGyAGr7RBab2vADEe9LIHpvMDTWcwZYBEjFcyNLM8zZAOVsZ\n",
       "uANANJMCkjTjBhUox5ThPCRiriOkDRhcuA9AOKJJ9hAvie4RgMXY7wfce7/DVOdC6WO7Vl1AD3+2\n",
       "C4zt+FKEAmsCHml2Jxs8sgAiPz/Axk/J1wAAAABJRU5ErkJggg==\n",
       "\" style=\"display:inline;vertical-align:middle;\" /></a>, <a class=\"ProveItLink\" href=\"../__pv_it/demonstrations/1dbd259366c79f56151b83d19180b4a05e73ca7b0/expr.ipynb\"><img src=\"data:image/png;base64,iVBORw0KGgoAAAANSUhEUgAAADsAAAAUBAMAAADB8VhjAAAAMFBMVEX///8AAAAAAAAAAAAAAAAA\n",
       "AAAAAAAAAAAAAAAAAAAAAAAAAAAAAAAAAAAAAAAAAAAv3aB7AAAAD3RSTlMAMt0iZhDNdom7q0RU\n",
       "75mOI7qcAAAACXBIWXMAAA7EAAAOxAGVKw4bAAAA8klEQVQoz2NgwAlMji9kwANWMNTikxZkaGLA\n",
       "C1SwCbrdnJ900wHIKCvAqmmCFcMuzwAGBtbp2KUtGDgZFwAZ8gI4pPkMElgvMtg7IImyT1JSQ0hP\n",
       "YFBl8A1AyHKnByB0c4UuYJAoXwzkMCoJmIAEzQKQDJc8ZgDlhFXMADmDIRlht23Sp1IYx5SBA6wv\n",
       "AclpLmEIS1lbQSTjJSUlJU2oNGcIws3mEEUTkHQzPpgKd7EDA9hwBWR/P7SEcc4wMICdVo4sHckO\n",
       "NZ1xxvQmcNixHYBL2zGwOMyGsDkYzmZDLF+5FR5jkxlm5h9AC2ruTmigIgEAMh83w5p6p7MAAAAA\n",
       "SUVORK5CYII=\n",
       "\" style=\"display:inline;vertical-align:middle;\" /></a> <a class=\"ProveItLink\" href=\"../__pv_it/demonstrations/75bc6ce527d4b68102b46d8aef85456f1eff4a7d0/proof.ipynb\" style=\"text-decoration: none\">&nbsp;&#x22A2;&nbsp;&nbsp;</a><a class=\"ProveItLink\" href=\"../__pv_it/demonstrations/527820f7a360dba56fb09c1b08e1e35d2e17a5f40/expr.ipynb\"><img src=\"data:image/png;base64,iVBORw0KGgoAAAANSUhEUgAAAM8AAAAVBAMAAAATCqclAAAAMFBMVEX///8AAAAAAAAAAAAAAAAA\n",
       "AAAAAAAAAAAAAAAAAAAAAAAAAAAAAAAAAAAAAAAAAAAv3aB7AAAAD3RSTlMAInZUiRDNmWbv3US7\n",
       "qzJazP2FAAAACXBIWXMAAA7EAAAOxAGVKw4bAAADRklEQVRIx41VTWgTQRT+stlxk6ZZQqko4iH9\n",
       "kSqlErT+1ItpjT1ILUutLUIrQRAEL0Gk1EoxVtCL0KDoxUvQW8USrAc9NS29SSFICwoeoq2XUmh7\n",
       "KHgqvre7md1NFuoHL5n59s33Zt68fQsghlr4cQHb/Ph9YMopidoHfhwiccuq0bJ/oI/80+nzoNPX\n",
       "/bhtXgST+wdSsoBI1/J+HOGAYZkXQ/gP3Aa0rBM3lTpmDlxca6pHSocylnkxDl9nR43xDAjLiU78\n",
       "QIFHDvfbgGiXs1e2eZDzd3bUTEUDZ6XfJtWG+MojyekL9DMi3e/Y5rmitL+zo2ZmPYv79DfQcTOV\n",
       "QKYbGFb57MSJtixGoakxiMxlYGM2QOm8Csvc0KgWRPPq+iXpPDAOUZJq+kz5MKCWzB1mlG9aXomp\n",
       "MZERSWvXajCHaTShG8MYhLjVxwGe2oaJGcYHe6/Q0BGfkM7JLoS2pdpQ61KJrjaNd/QbC+1Gs1Gg\n",
       "/xBALHNrWh4/aaL+yiCKgAE6Frpsc6OOXrnHmDa+V5z1xASiRal2EJwk2vYbSi40SrRKO6MofCLi\n",
       "jHAcL3gyaT7BIKd0yzY3wnQpZYwBFWdB68JxR03wFvVtFiXvOJ8fjf2URisQ5g19jyaBVJmfBMyO\n",
       "8MW26kAgbUjnyC62yo5ag9lVcpwmUo0JQ0MgqRTMQMyNQcnRpBHtHOgzBHEXbHPfEacOkR1cl86U\n",
       "nhOQapEsOHV5LHJJ/qD06Il1oD3C64jDMupLWNOTUApzCCboooDntrlRH6cqjuYoSRVnWrfsqJ02\n",
       "rz1U5HK9+OcB5oimhCpml+MKm8R8FsonbppJbPa1zlplb5obVLjBveEcSVactVLkr1TTlxavlM2X\n",
       "YIPKvTk4Tgep51dslRcTh9GeRzTnd3DUQDL4mq/ivW1u6HmIe/FzTyCdxUrbjlRT0XWXE1xAXVmu\n",
       "mSrrVnO2uF5ubyfxWza+QN4yL2blSDqrabca44inS4pTLUale6pp8ZKH15rPOE0g6+m3Tr+swHLu\n",
       "xY2EW63SeRd8uvoC6uLRmu/MUduqqqH6a/wWKzUf4SK3QZ9AIwhOPfQJ77ctUawizrcVfDcT8Pk6\n",
       "+3FQYpZVo2H/714T8A9IJdRn6luBnAAAAABJRU5ErkJggg==\n",
       "\" style=\"display:inline;vertical-align:middle;\" /></a></span>"
      ],
      "text/plain": [
       "{x in Real^{3}, y in Real^{3}, z in Real^{3}} |- (x otimes (y otimes z)) = (x otimes y otimes z)"
      ]
     },
     "metadata": {},
     "output_type": "display_data"
    }
   ],
   "source": [
    "TensorProd(x, TensorProd(y, z)).simplification()"
   ]
  },
  {
   "cell_type": "code",
   "execution_count": 44,
   "metadata": {},
   "outputs": [
    {
     "data": {
      "text/html": [
       "<span style=\"font-size:20px;\"> <a class=\"ProveItLink\" href=\"../__pv_it/demonstrations/69b638db3e8791e5fb1bbe1a71aead7e1bcef9ce0/proof.ipynb\" style=\"text-decoration: none\">&nbsp;&#x22A2;&nbsp;&nbsp;</a><a class=\"ProveItLink\" href=\"../__pv_it/demonstrations/f7dc3a2a3171ebaa97e7d5c2fc765e6b53ef8b620/expr.ipynb\"><img src=\"data:image/png;base64,iVBORw0KGgoAAAANSUhEUgAAASUAAAAaBAMAAAADEleIAAAAMFBMVEX///8AAAAAAAAAAAAAAAAA\n",
       "AAAAAAAAAAAAAAAAAAAAAAAAAAAAAAAAAAAAAAAAAAAv3aB7AAAAD3RSTlMAZkRUmRDNuyLviTJ2\n",
       "3asqG0tJAAAACXBIWXMAAA7EAAAOxAGVKw4bAAAD9UlEQVRIx51XT2gUVxj/bTKT2e5M4ibFloDI\n",
       "grceNAfrQTzMRSwVyopRqYjGWwsmnVjSeBA6BSGYgwmF1kMv00NBYgoLClErmkQUtRoUFBQUt4h/\n",
       "sKemRAuh4Pve25l93+ybdc0H+fL4/X77e9+++d6bt0A98h8uVGCOH7b83YA1kb9bZzLUsJ540BV5\n",
       "k1yVUK9wo8FCyn0a+aZScqVM2wxDwiw5ak8c3UrhDhPVqT/we4OFlI/RaMxU08ZM2yxDwvIBjXZr\n",
       "aGeRiXTqrmFaIc/N0pLMNnL2QKZttqHA1tD/YeS+Hn39cFgMvUNcMoyPTn4/eJIcr9Wn5fL7iBMP\n",
       "p2i0NRkyrLMsOlA8aydfbftrRIB72BcmKjiB9R8LmX1Um06XLxCy0FjT8Qxbk6GOeVXAiujDEYJL\n",
       "9OiXdVuignE4rpDhckWrSZMfEF4q8fg8w9ZkqGP2ErCqpD78WQe+rOT/EcTNqWk1BVFCboUD9i+Y\n",
       "KCYUk3cQ3tHYMItpW29q6ipShibsoCgtnsQRjzL3E3CxDHte2hIl5YFomN5yQjG5RRtFJr4pl1I6\n",
       "V0y+r8QNTRi2AbdrD+PZfrjTCyHcI9QA8my5rb5C164qLtx6iYTS5ZBnT+MB5N3htpgRf/ZhbmjC\n",
       "6Nx6rmpyv/2q1kSFELb/Gw2fq5pmNoWc0uVoW4oTP1AHuC38U0B/ocwMTRg2lDEqa/r5yaNam17H\n",
       "KfRjLw2JCo4P/n8VnNLlqn9VE1uPZVTlPgi4rRcWQtu3I93QhMk+H5I1/bo6PuKqKJzz0UXDIblO\n",
       "3cnJGVO6HPnFOLHoqHJbYXj6GFlohiYMmCjhnnp2I901SOz/L4ACDe/JmpwdxRSly2Evxokf8T63\n",
       "FYZWlSw0QxMmzpVSbZ2is05tkX3kpyrqVajWyfVHwCldjvxynAzrVNcJw/HTZKEZmjCxTvGzi6xz\n",
       "QTzxOOb1mrB9DJzS5XD/ixPrp1pNic5CPvJKcv7E0ISJfgrxQtVkB3MKOuNG8ErraPhC1bTHK3JK\n",
       "l2fuu4Dbun0XgPm2Pt3QhMl9d0PW5KPbUfcd7xORrkRQJwWCY8gVD4NRuhy5yTjx82mS22JeWHqb\n",
       "uaEJQ68sS7zA34TOd/8qjA7G/eVaxeKVfQSj3/TpFJdTl6rEQqwc1zl0Pj7jhiaMttEHpfT98E9c\n",
       "VOvYhNKaOeN992MaWFNx51rBDqqXP4+dtz6t3wsyqHo0uRekLnlbrpRbwOhe4E5mXu6bUPVYmyQe\n",
       "57GyyFEbPM3mn7bg8SBJqY3Xt7KaOsPUpTsVu1v4Wq3cx98n5H28Pcrkm1BxZP9u2byiktTvlvqP\n",
       "uMboeafH1iRl/r57r7BEz78FjLy25LtYrSgAAAAASUVORK5CYII=\n",
       "\" style=\"display:inline;vertical-align:middle;\" /></a></span>"
      ],
      "text/plain": [
       "|- (Real^{3} otimes (Real^{3} otimes Real^{3})) = (Real^{3} otimes Real^{3} otimes Real^{3})"
      ]
     },
     "metadata": {},
     "output_type": "display_data"
    }
   ],
   "source": [
    "from proveit.logic import Equals\n",
    "Equals(TensorProd(R3, TensorProd(R3, R3)), TensorProd(R3, R3, R3)).prove()"
   ]
  },
  {
   "cell_type": "code",
   "execution_count": 45,
   "metadata": {},
   "outputs": [
    {
     "data": {
      "text/html": [
       "<strong id=\"vec_add_03_factored_02\">vec_add_03_factored_02:</strong> <span style=\"font-size:20px;\"><a class=\"ProveItLink\" href=\"../__pv_it/demonstrations/69b818e5ab2a8afc180d22a4e2534dbd4afed1660/expr.ipynb\"><img src=\"data:image/png;base64,iVBORw0KGgoAAAANSUhEUgAAADwAAAAUBAMAAAAjLUMaAAAAMFBMVEX///8AAAAAAAAAAAAAAAAA\n",
       "AAAAAAAAAAAAAAAAAAAAAAAAAAAAAAAAAAAAAAAAAAAv3aB7AAAAD3RSTlMAEHarMolUmd1mIs3v\n",
       "RLtmgJDEAAAACXBIWXMAAA7EAAAOxAGVKw4bAAAA/UlEQVQoz2NgwAm4pik74JZlYA5gOoBHmsWB\n",
       "tYEBH+CYgEWQc8+73z0vgQymTVg18XEZ8Fo+BDLkFLBLBzA8cAbZ/gWXdBU3g4wD109kYaYXHd1w\n",
       "aT4GDgHOg0iyvJsEELoNhRlYgpQXMDAIKYuEJoBEVwsgDGd5tgvKKWAyYgd7fxfC7tP9TVC1nAs4\n",
       "PzKDvb8BIR05EcZhYWCHMFlOdHR09EENfzgT7iQeiOcZHyB5zJ0P5hCG+wsYwewGJGl2L6hiuQs2\n",
       "DKxglhKSNOMDTQg737GG4RqYxZ0Aly5gmMl3AcwWV2KrhIgz2l2Exdi/BXyvv6GHNW8cJFCRAABM\n",
       "3zydJQQu6AAAAABJRU5ErkJggg==\n",
       "\" style=\"display:inline;vertical-align:middle;\" /></a>, <a class=\"ProveItLink\" href=\"../__pv_it/demonstrations/24b47934df390430c4ddb4660bfa2c456cc746cd0/expr.ipynb\"><img src=\"data:image/png;base64,iVBORw0KGgoAAAANSUhEUgAAADwAAAAXBAMAAACluTG0AAAAMFBMVEX///8AAAAAAAAAAAAAAAAA\n",
       "AAAAAAAAAAAAAAAAAAAAAAAAAAAAAAAAAAAAAAAAAAAv3aB7AAAAD3RSTlMAEHaZZquJVO8y3btE\n",
       "zSKD2s2pAAAACXBIWXMAAA7EAAAOxAGVKw4bAAABD0lEQVQoz2NgwAn43FUn4JZlYE1gasAjzTmB\n",
       "bQEDPsDlgEWQ5cbuvyu2ABlMl7Bq4uYL4AnZCGRIK2CXTmDYMBVk+09c0na8DBIT+L4gC2uvWnUB\n",
       "Ls3NwCXA0ogke1YRSXegKANnkuoDBkZlBwZRcCBdRDKcc/s9CJuNvYHBH8TgfYCQ7l2/SADCns68\n",
       "gCEaLI3ktBTHC1C2AIcCQxOIMWMVEGyAGr7RBab2vADEe9LIHpvMDTWcwZYBEjFcyNLM8zZAOVsZ\n",
       "uANANJMCkjTjBhUox5ThPCRiriOkDRhcuA9AOKJJ9hAvie4RgMXY7wfce7/DVOdC6WO7Vl1AD3+2\n",
       "C4zt+FKEAmsCHml2Jxs8sgAiPz/Axk/J1wAAAABJRU5ErkJggg==\n",
       "\" style=\"display:inline;vertical-align:middle;\" /></a>, <a class=\"ProveItLink\" href=\"../__pv_it/demonstrations/1dbd259366c79f56151b83d19180b4a05e73ca7b0/expr.ipynb\"><img src=\"data:image/png;base64,iVBORw0KGgoAAAANSUhEUgAAADsAAAAUBAMAAADB8VhjAAAAMFBMVEX///8AAAAAAAAAAAAAAAAA\n",
       "AAAAAAAAAAAAAAAAAAAAAAAAAAAAAAAAAAAAAAAAAAAv3aB7AAAAD3RSTlMAMt0iZhDNdom7q0RU\n",
       "75mOI7qcAAAACXBIWXMAAA7EAAAOxAGVKw4bAAAA8klEQVQoz2NgwAlMji9kwANWMNTikxZkaGLA\n",
       "C1SwCbrdnJ900wHIKCvAqmmCFcMuzwAGBtbp2KUtGDgZFwAZ8gI4pPkMElgvMtg7IImyT1JSQ0hP\n",
       "YFBl8A1AyHKnByB0c4UuYJAoXwzkMCoJmIAEzQKQDJc8ZgDlhFXMADmDIRlht23Sp1IYx5SBA6wv\n",
       "AclpLmEIS1lbQSTjJSUlJU2oNGcIws3mEEUTkHQzPpgKd7EDA9hwBWR/P7SEcc4wMICdVo4sHckO\n",
       "NZ1xxvQmcNixHYBL2zGwOMyGsDkYzmZDLF+5FR5jkxlm5h9AC2ruTmigIgEAMh83w5p6p7MAAAAA\n",
       "SUVORK5CYII=\n",
       "\" style=\"display:inline;vertical-align:middle;\" /></a>, <a class=\"ProveItLink\" href=\"../__pv_it/demonstrations/640ab420e6d48668ece9f7f5061ad805bab7a17e0/expr.ipynb\"><img src=\"data:image/png;base64,iVBORw0KGgoAAAANSUhEUgAAAEAAAAAUBAMAAADPWCYMAAAAMFBMVEX///8AAAAAAAAAAAAAAAAA\n",
       "AAAAAAAAAAAAAAAAAAAAAAAAAAAAAAAAAAAAAAAAAAAv3aB7AAAAD3RSTlMAEHaJZjKZVN3vq7tE\n",
       "zSL5cm/iAAAACXBIWXMAAA7EAAAOxAGVKw4bAAABEUlEQVQoz2NgwAP43LUC8MkzcBkwTcCrgDWA\n",
       "uYEBP+BwwCrMcnP3384tQAbTJRwaufkW8CzZCGRIK+BSYMCwIQrkiq+4FeTxMkgG8H1BldDu6LgA\n",
       "V8DNwCHAMhFF/qwikgkLpRhYjbQeMDAqOzCEMVQIgALuIpIVrNvvQdjM7BMYVjOcPwBk8j5AKJjb\n",
       "3yQAYYezNTBMgsjxIjnSxPEClC3AqQD0CxuIGdkBBBugVmx0gamuFwDGCBOIJY3szTBuqBUMuQzc\n",
       "CxhiwAGPrIAtbgOUs4uBw4DBAMRiUkBSwLhBBcqxZji5gOcAmHkdoSCBwYUbIsjAlqy4zATClNoj\n",
       "AIvN3w+4937HjIPDOzouoAkBAERFPjTBQdmsAAAAAElFTkSuQmCC\n",
       "\" style=\"display:inline;vertical-align:middle;\" /></a>, <a class=\"ProveItLink\" href=\"../__pv_it/demonstrations/c8e167f722c9b5d57e8e82cabbb6679414a00d9f0/expr.ipynb\"><img src=\"data:image/png;base64,iVBORw0KGgoAAAANSUhEUgAAADwAAAAUBAMAAAAjLUMaAAAAMFBMVEX///8AAAAAAAAAAAAAAAAA\n",
       "AAAAAAAAAAAAAAAAAAAAAAAAAAAAAAAAAAAAAAAAAAAv3aB7AAAAD3RSTlMAEHaJZt1U76symc27\n",
       "IkSKjfYVAAAACXBIWXMAAA7EAAAOxAGVKw4bAAAA+0lEQVQoz2NgwAl43TQm4JZl4DBgKsAjzTmB\n",
       "OYABH2B1wCLIsv3M7/AjQAbTJqyaeHgb+FoOAhkyCtilDRgOzADZ/hOX9FpuBvEJvF+QhXVCQzfA\n",
       "pXkYWAVYCpFkXysi6W6UYOA00rjAwKjswBAGDqSNSIZzHtsLYTOzFTBUgBjcFxDS1fFBAhD2NK4N\n",
       "DMlgaSSnmThugLIF2BUYpoEY00OB4ADU8IMuMLX5Agxg38sge2wWD9RwhqUMDAbgAEaW5pp7AMo5\n",
       "wcAGdhSTApI04wEVKMea4RKEsQ0hvYDBhecBhMPVAo02iXMCsBj7c4Hn9Df0sH58NHQDmhAADeo3\n",
       "fql85rkAAAAASUVORK5CYII=\n",
       "\" style=\"display:inline;vertical-align:middle;\" /></a> <a class=\"ProveItLink\" href=\"../__pv_it/demonstrations/ccaab6f7f9952cd37be7e92e237f648d941548980/proof.ipynb\" style=\"text-decoration: none\">&nbsp;&#x22A2;&nbsp;&nbsp;</a><a class=\"ProveItLink\" href=\"../__pv_it/demonstrations/d6597358d41aea75742c6588166e88d9453332820/expr.ipynb\"><img src=\"data:image/png;base64,iVBORw0KGgoAAAANSUhEUgAAAm4AAAAVBAMAAAAN/H8LAAAAMFBMVEX///8AAAAAAAAAAAAAAAAA\n",
       "AAAAAAAAAAAAAAAAAAAAAAAAAAAAAAAAAAAAAAAAAAAv3aB7AAAAD3RSTlMAInZUiRDNmWbv3US7\n",
       "qzJazP2FAAAACXBIWXMAAA7EAAAOxAGVKw4bAAAFZklEQVRYw61YXWgcVRT+dmanm81mh6UUBPFh\n",
       "m6bEEiprqdXkpdsYQx/SMsRqEBqJgtDHRUKMkeJaofWh0CVSQaWw+PNgimFRHxp8SNpXKSzSYgUf\n",
       "YlMRaiHtQ0AQiufMzL07d2dm92bSC2eymfm+c75z5sydewdAAZ51HimtU0+KF6cptTNsamcaRST3\n",
       "olHyrMvIFUOn9unULRnvB980qLH69SPrIoUqF3/Yt27j2fYTZlmnbsl4RtUzDWq8fv3ImkipivDW\n",
       "jGddxy6n7cTrWmVLyHvHt67UDvr1I+sihSrCZ6h+mdadNcbG9rdwA2Oj0mNPxW9qAZ6PxrW5SMi7\n",
       "4Js6Iqht+qMU41qIHqOxG1KoInyW/mTlBZswkw3x310H1pC8dtlvYTEZ1BCJU10k5WUdz9QRQVX1\n",
       "RyrGoXZ6nMZuSKnqMo7Q8YjkP6DXhfWL4Fynw2lJOqPmb8qHQ8UpLhLzdlU9U2edCKqiP1qxqEaL\n",
       "HqexG1KqOoNZOrJNHnxzrITKMWAq7ViDVUwjky7AqrwC3F9OEfiEmn+Gpk6r//a9lyVuch5WU7oY\n",
       "qOJvjDhJeF8D6aZnyghTIfR3Uiyq4dJdnB8Lk8dhV8xv9ZC9pZaqE26l2SrGr5m6UUgXrIpVTps1\n",
       "XMJeHMMUTsF6e4L9nlfz57pncLC4IHHlYfQ8DLr4A6uNJLwrNIPMeAYsLPH4PpoKob+TYlENprs4\n",
       "EYsj59dy/+khs82WqvN8b9l6Cj1b+WoeOPkU0NzI1CnpJtJ/VpBHygHf2WE1fyo/PsIl547A2aUF\n",
       "UhF0sYhdhe3zZnhZQaJdU0aI6mln66RYVIPpLk7E4sjZIt7SQc7x2kSqGsaXdCSzQXqRpvtJbVh2\n",
       "yNsiqFnPuudwiufCTW7gpaXvvlha4lbNUiutY45++TiLKNliwIX9mLojAQ8bpOehZ8oIUT3tbLGK\n",
       "uV8/9/qV6S5OxOLIm+uo6CHtUkvVpogLLjynueckPbNYdSjpClJj63wu5bbKito3WXf6XeRH3Mfl\n",
       "tkiFdHHUMWowkvBAyFzNs1DdVKqsWyfFootcOuNkLHMLB8DhdJBGQNWK6HOCFSwng1TZaBBsDpR0\n",
       "BXswxCquwSLASPh5Q+4RXpM46tgDCLjoa+Kf7fMW3G4y654p81uYKp/TToqDT5+Lk7Eo8k3YDR1k\n",
       "ndtYqhrBDTre4Jf373TBLt0DhnIl8kZJb9hlGI0fYZbcmeSimn9fkV7Q+RolKXBEuRl00VvmCmyf\n",
       "Z9Kk2LPmmTLCVAj9nRSLavQVfZyMRZRv3MdaB/l8QNVF9w1MdvSv90EyhihR4zDPEqtVGD/xBreM\n",
       "BxMDy/4bP5A/vY/Nx1M18ilwmWbu35aLCaw0c43t88ax218JZNo3iWEqhP5OikU13BWEixOx0mu5\n",
       "K/hZCznDj75UNYv7dCSb6jfnqTn7eJl3G5ge/ZB+8Spy2kHZ/Izzv6rmb9dhvVt88WNInHVr8FHL\n",
       "RWZ2/2/HkYB3hxeWvQ3PlBGmQujvpFhUw64LnIiF90anZ6tayLOfBFVdRe86XPPHuXXb+zgwztuw\n",
       "53BXrtlT9bb90nJreydw6Zmgi53wnvZNHRHUlv5YxXL3tCwzi9HYDSlUEZ63tHJbS7U9tM/hPKxP\n",
       "+b9X+19oLdarbfvzwLbbw43jjZJ0sUPevLqLj6NC6O+kWO7WL8jMYjR2QwpVjL/ud72ywCzmQx+g\n",
       "nmk/0df+kfUr3Ir49pKIl1rzrBsVQr+u4iicNlKqYvxp35QN9LkPIvWpX77a83ppsAE8GR4XKKJI\n",
       "VriUvn5dxVE4baRUxXh+T6SK3b/AhrPYrfMBMhlvr28a1Fj9+pF1kUIV4f8H31Zbgw2CeBcAAAAA\n",
       "SUVORK5CYII=\n",
       "\" style=\"display:inline;vertical-align:middle;\" /></a></span><br>"
      ],
      "text/plain": [
       "<IPython.core.display.HTML object>"
      ]
     },
     "metadata": {},
     "output_type": "display_data"
    }
   ],
   "source": [
    "vec_add_03_factored_02 = vec_add_03.factorization(x, pull='left', field=Real)"
   ]
  },
  {
   "cell_type": "code",
   "execution_count": 46,
   "metadata": {},
   "outputs": [
    {
     "data": {
      "text/html": [
       "<span style=\"font-size:20px;\"><a class=\"ProveItLink\" href=\"../__pv_it/demonstrations/69b818e5ab2a8afc180d22a4e2534dbd4afed1660/expr.ipynb\"><img src=\"data:image/png;base64,iVBORw0KGgoAAAANSUhEUgAAADwAAAAUBAMAAAAjLUMaAAAAMFBMVEX///8AAAAAAAAAAAAAAAAA\n",
       "AAAAAAAAAAAAAAAAAAAAAAAAAAAAAAAAAAAAAAAAAAAv3aB7AAAAD3RSTlMAEHarMolUmd1mIs3v\n",
       "RLtmgJDEAAAACXBIWXMAAA7EAAAOxAGVKw4bAAAA/UlEQVQoz2NgwAm4pik74JZlYA5gOoBHmsWB\n",
       "tYEBH+CYgEWQc8+73z0vgQymTVg18XEZ8Fo+BDLkFLBLBzA8cAbZ/gWXdBU3g4wD109kYaYXHd1w\n",
       "aT4GDgHOg0iyvJsEELoNhRlYgpQXMDAIKYuEJoBEVwsgDGd5tgvKKWAyYgd7fxfC7tP9TVC1nAs4\n",
       "PzKDvb8BIR05EcZhYWCHMFlOdHR09EENfzgT7iQeiOcZHyB5zJ0P5hCG+wsYwewGJGl2L6hiuQs2\n",
       "DKxglhKSNOMDTQg737GG4RqYxZ0Aly5gmMl3AcwWV2KrhIgz2l2Exdi/BXyvv6GHNW8cJFCRAABM\n",
       "3zydJQQu6AAAAABJRU5ErkJggg==\n",
       "\" style=\"display:inline;vertical-align:middle;\" /></a>, <a class=\"ProveItLink\" href=\"../__pv_it/demonstrations/24b47934df390430c4ddb4660bfa2c456cc746cd0/expr.ipynb\"><img src=\"data:image/png;base64,iVBORw0KGgoAAAANSUhEUgAAADwAAAAXBAMAAACluTG0AAAAMFBMVEX///8AAAAAAAAAAAAAAAAA\n",
       "AAAAAAAAAAAAAAAAAAAAAAAAAAAAAAAAAAAAAAAAAAAv3aB7AAAAD3RSTlMAEHaZZquJVO8y3btE\n",
       "zSKD2s2pAAAACXBIWXMAAA7EAAAOxAGVKw4bAAABD0lEQVQoz2NgwAn43FUn4JZlYE1gasAjzTmB\n",
       "bQEDPsDlgEWQ5cbuvyu2ABlMl7Bq4uYL4AnZCGRIK2CXTmDYMBVk+09c0na8DBIT+L4gC2uvWnUB\n",
       "Ls3NwCXA0ogke1YRSXegKANnkuoDBkZlBwZRcCBdRDKcc/s9CJuNvYHBH8TgfYCQ7l2/SADCns68\n",
       "gCEaLI3ktBTHC1C2AIcCQxOIMWMVEGyAGr7RBab2vADEe9LIHpvMDTWcwZYBEjFcyNLM8zZAOVsZ\n",
       "uANANJMCkjTjBhUox5ThPCRiriOkDRhcuA9AOKJJ9hAvie4RgMXY7wfce7/DVOdC6WO7Vl1AD3+2\n",
       "C4zt+FKEAmsCHml2Jxs8sgAiPz/Axk/J1wAAAABJRU5ErkJggg==\n",
       "\" style=\"display:inline;vertical-align:middle;\" /></a>, <a class=\"ProveItLink\" href=\"../__pv_it/demonstrations/1dbd259366c79f56151b83d19180b4a05e73ca7b0/expr.ipynb\"><img src=\"data:image/png;base64,iVBORw0KGgoAAAANSUhEUgAAADsAAAAUBAMAAADB8VhjAAAAMFBMVEX///8AAAAAAAAAAAAAAAAA\n",
       "AAAAAAAAAAAAAAAAAAAAAAAAAAAAAAAAAAAAAAAAAAAv3aB7AAAAD3RSTlMAMt0iZhDNdom7q0RU\n",
       "75mOI7qcAAAACXBIWXMAAA7EAAAOxAGVKw4bAAAA8klEQVQoz2NgwAlMji9kwANWMNTikxZkaGLA\n",
       "C1SwCbrdnJ900wHIKCvAqmmCFcMuzwAGBtbp2KUtGDgZFwAZ8gI4pPkMElgvMtg7IImyT1JSQ0hP\n",
       "YFBl8A1AyHKnByB0c4UuYJAoXwzkMCoJmIAEzQKQDJc8ZgDlhFXMADmDIRlht23Sp1IYx5SBA6wv\n",
       "AclpLmEIS1lbQSTjJSUlJU2oNGcIws3mEEUTkHQzPpgKd7EDA9hwBWR/P7SEcc4wMICdVo4sHckO\n",
       "NZ1xxvQmcNixHYBL2zGwOMyGsDkYzmZDLF+5FR5jkxlm5h9AC2ruTmigIgEAMh83w5p6p7MAAAAA\n",
       "SUVORK5CYII=\n",
       "\" style=\"display:inline;vertical-align:middle;\" /></a> <a class=\"ProveItLink\" href=\"../__pv_it/demonstrations/1a76ef3ebc0df7c17de8142386e3b87736b1a18c0/proof.ipynb\" style=\"text-decoration: none\">&nbsp;&#x22A2;&nbsp;&nbsp;</a><a class=\"ProveItLink\" href=\"../__pv_it/demonstrations/527820f7a360dba56fb09c1b08e1e35d2e17a5f40/expr.ipynb\"><img src=\"data:image/png;base64,iVBORw0KGgoAAAANSUhEUgAAAM8AAAAVBAMAAAATCqclAAAAMFBMVEX///8AAAAAAAAAAAAAAAAA\n",
       "AAAAAAAAAAAAAAAAAAAAAAAAAAAAAAAAAAAAAAAAAAAv3aB7AAAAD3RSTlMAInZUiRDNmWbv3US7\n",
       "qzJazP2FAAAACXBIWXMAAA7EAAAOxAGVKw4bAAADRklEQVRIx41VTWgTQRT+stlxk6ZZQqko4iH9\n",
       "kSqlErT+1ItpjT1ILUutLUIrQRAEL0Gk1EoxVtCL0KDoxUvQW8USrAc9NS29SSFICwoeoq2XUmh7\n",
       "KHgqvre7md1NFuoHL5n59s33Zt68fQsghlr4cQHb/Ph9YMopidoHfhwiccuq0bJ/oI/80+nzoNPX\n",
       "/bhtXgST+wdSsoBI1/J+HOGAYZkXQ/gP3Aa0rBM3lTpmDlxca6pHSocylnkxDl9nR43xDAjLiU78\n",
       "QIFHDvfbgGiXs1e2eZDzd3bUTEUDZ6XfJtWG+MojyekL9DMi3e/Y5rmitL+zo2ZmPYv79DfQcTOV\n",
       "QKYbGFb57MSJtixGoakxiMxlYGM2QOm8Csvc0KgWRPPq+iXpPDAOUZJq+kz5MKCWzB1mlG9aXomp\n",
       "MZERSWvXajCHaTShG8MYhLjVxwGe2oaJGcYHe6/Q0BGfkM7JLoS2pdpQ61KJrjaNd/QbC+1Gs1Gg\n",
       "/xBALHNrWh4/aaL+yiCKgAE6Frpsc6OOXrnHmDa+V5z1xASiRal2EJwk2vYbSi40SrRKO6MofCLi\n",
       "jHAcL3gyaT7BIKd0yzY3wnQpZYwBFWdB68JxR03wFvVtFiXvOJ8fjf2URisQ5g19jyaBVJmfBMyO\n",
       "8MW26kAgbUjnyC62yo5ag9lVcpwmUo0JQ0MgqRTMQMyNQcnRpBHtHOgzBHEXbHPfEacOkR1cl86U\n",
       "nhOQapEsOHV5LHJJ/qD06Il1oD3C64jDMupLWNOTUApzCCboooDntrlRH6cqjuYoSRVnWrfsqJ02\n",
       "rz1U5HK9+OcB5oimhCpml+MKm8R8FsonbppJbPa1zlplb5obVLjBveEcSVactVLkr1TTlxavlM2X\n",
       "YIPKvTk4Tgep51dslRcTh9GeRzTnd3DUQDL4mq/ivW1u6HmIe/FzTyCdxUrbjlRT0XWXE1xAXVmu\n",
       "mSrrVnO2uF5ubyfxWza+QN4yL2blSDqrabca44inS4pTLUale6pp8ZKH15rPOE0g6+m3Tr+swHLu\n",
       "xY2EW63SeRd8uvoC6uLRmu/MUduqqqH6a/wWKzUf4SK3QZ9AIwhOPfQJ77ctUawizrcVfDcT8Pk6\n",
       "+3FQYpZVo2H/714T8A9IJdRn6luBnAAAAABJRU5ErkJggg==\n",
       "\" style=\"display:inline;vertical-align:middle;\" /></a></span>"
      ],
      "text/plain": [
       "{x in Real^{3}, y in Real^{3}, z in Real^{3}} |- (x otimes (y otimes z)) = (x otimes y otimes z)"
      ]
     },
     "metadata": {},
     "output_type": "display_data"
    }
   ],
   "source": [
    "TensorProd(x, TensorProd(y, z)).shallow_simplification()"
   ]
  },
  {
   "cell_type": "code",
   "execution_count": 47,
   "metadata": {},
   "outputs": [
    {
     "name": "stdout",
     "output_type": "stream",
     "text": [
      "Exception: factorization() missing 1 required keyword-only argument: 'pull'\n"
     ]
    }
   ],
   "source": [
    "# This will not yet work, since the factor is a vector and\n",
    "# appears in the scaled portion of each ScalarMult but is not a TensorProd factor\n",
    "try:\n",
    "    VecAdd(ScalarMult(two, x), ScalarMult(three, x)).factorization(x)\n",
    "except Exception as the_exception:\n",
    "    print(\"Exception: {}\".format(the_exception))"
   ]
  },
  {
   "cell_type": "markdown",
   "metadata": {},
   "source": [
    "### Automatically proving conjunctions are equal via permutation"
   ]
  },
  {
   "cell_type": "code",
   "execution_count": 48,
   "metadata": {},
   "outputs": [
    {
     "data": {
      "text/html": [
       "<strong id=\"defaults.assumptions\">defaults.assumptions:</strong> <a class=\"ProveItLink\" href=\"../__pv_it/demonstrations/e8eb13e398a4cb969943404f2f197626739db6700/expr.ipynb\"><img src=\"data:image/png;base64,iVBORw0KGgoAAAANSUhEUgAAASAAAAAaBAMAAADlO5zMAAAAMFBMVEX///8AAAAAAAAAAAAAAAAA\n",
       "AAAAAAAAAAAAAAAAAAAAAAAAAAAAAAAAAAAAAAAAAAAv3aB7AAAAD3RSTlMAZkRUmRDNuyLviTJ2\n",
       "3asqG0tJAAAACXBIWXMAAA7EAAAOxAGVKw4bAAADZUlEQVRIx82XTWgTQRTH/0l2k002jami4kUi\n",
       "oqAHGw8KgtL0oPiBsIJaqqUGRFBoda3UerA1glj0oLnYHlRIDxoQlaCV+oE2QqtYaqjgJ20w4ke1\n",
       "erCV1oIIzuy2zWzt7rSNFB+ETGZ/O/83b96+twGsTZqVSnAQHF/9NXeEEZppxfli3ihPrRdPckc0\n",
       "oRAdOUJWnJzwdPLU7uFa7ogmVEdH2zlknh9ce/YvECJkS5Lvg+Nete2rHnxDL3nLTVeY03CsooG6\n",
       "+yg5dcQo9IIkk0mKuKSM/V0VGRSbqkE9g2VzFUA8mgNiEEoBQsyMi0F9QA/3l7naabjkDBm0JKaO\n",
       "GIR2KZgRMOfWO1GSkPqsHBIiYfE8zvqnjhiEnH60KMbrj9Pp8CjnQp5iOzd2CW9N+mVWTSUHP0+Z\n",
       "PDKukKDiqRFb3MY4/rEM8tVUZMxK9nIlu33ftgzudnyePDK+EKlFn0jCtfvRhDV0DWkPE0n50F5m\n",
       "hdLUzitBOjipMOfRvJLxt7QIYsYawf0uyW8uZB9ANeBxRNGDAppMzkiWq3/bzYY55P0maDUy66V6\n",
       "quJ3G4PEVsH23RoRy+PXYS5EEns/cJMIXdARJ5NrjbPDbL2I2AZ8WmKGmYzNZ8uqHNwMn2qJQFJw\n",
       "CeZCUj+eA4o7STwT6MSdNDF1OJJV+awaBP02+SJBXg2rubYwD49ItuVOWiLEdigWQmI/jRAKFZJM\n",
       "XjpRzD6NTS7Dk+HWK6SoMtuXQ1VsLg/o5cYCgaSvYiIkaUeGdXBlcEPrJywn3FbZpQoionZfJ1tk\n",
       "NtUxBImh3tTNESwggTQXkodINgO1yItBq9jeJMOJ6sORsyBbCnyBR/vVwaoVe4cPhPpKtlXLQRxB\n",
       "+MyFaIzpluJYkrHrFXt3lgsh36VP7iLZU3hrAxZqv5zBUbUTsPkrdZ8HaYQy9j4O0hxv7zIXgi2K\n",
       "AuK3sLHtQ6M+U1apjDThnxHX4R/6iwFpwls7HEW6jNizaLSVH0H1AX02TTtob+sQB4k56gPmQmRL\n",
       "cI/pZUtr0uG/+s0KYx2OD/cF1hza+p4wF7EUIr3MrNsbbAIMza/LKAlyEI6Rbi9H+ZiY5DOl5NNN\n",
       "3p05CMfmk897PuadQBCpz8tbAzyEY68n8E49naa9Uzti/49Ddfz/ZdNra4E/TZxE15FpiygAAAAA\n",
       "SUVORK5CYII=\n",
       "\" style=\"display:inline;vertical-align:middle;\" /></a><br>"
      ],
      "text/plain": [
       "<IPython.core.display.HTML object>"
      ]
     },
     "metadata": {},
     "output_type": "display_data"
    }
   ],
   "source": [
    "defaults.assumptions = [InSet(w, R3), InSet(x, R3), InSet(y, R3), InSet(z, R3)]"
   ]
  },
  {
   "cell_type": "code",
   "execution_count": 49,
   "metadata": {},
   "outputs": [
    {
     "data": {
      "text/html": [
       "<span style=\"font-size:20px;\"><a class=\"ProveItLink\" href=\"../__pv_it/demonstrations/640ab420e6d48668ece9f7f5061ad805bab7a17e0/expr.ipynb\"><img src=\"data:image/png;base64,iVBORw0KGgoAAAANSUhEUgAAAEAAAAAUBAMAAADPWCYMAAAAMFBMVEX///8AAAAAAAAAAAAAAAAA\n",
       "AAAAAAAAAAAAAAAAAAAAAAAAAAAAAAAAAAAAAAAAAAAv3aB7AAAAD3RSTlMAEHaJZjKZVN3vq7tE\n",
       "zSL5cm/iAAAACXBIWXMAAA7EAAAOxAGVKw4bAAABEUlEQVQoz2NgwAP43LUC8MkzcBkwTcCrgDWA\n",
       "uYEBP+BwwCrMcnP3384tQAbTJRwaufkW8CzZCGRIK+BSYMCwIQrkiq+4FeTxMkgG8H1BldDu6LgA\n",
       "V8DNwCHAMhFF/qwikgkLpRhYjbQeMDAqOzCEMVQIgALuIpIVrNvvQdjM7BMYVjOcPwBk8j5AKJjb\n",
       "3yQAYYezNTBMgsjxIjnSxPEClC3AqQD0CxuIGdkBBBugVmx0gamuFwDGCBOIJY3szTBuqBUMuQzc\n",
       "CxhiwAGPrIAtbgOUs4uBw4DBAMRiUkBSwLhBBcqxZji5gOcAmHkdoSCBwYUbIsjAlqy4zATClNoj\n",
       "AIvN3w+4937HjIPDOzouoAkBAERFPjTBQdmsAAAAAElFTkSuQmCC\n",
       "\" style=\"display:inline;vertical-align:middle;\" /></a>, <a class=\"ProveItLink\" href=\"../__pv_it/demonstrations/69b818e5ab2a8afc180d22a4e2534dbd4afed1660/expr.ipynb\"><img src=\"data:image/png;base64,iVBORw0KGgoAAAANSUhEUgAAADwAAAAUBAMAAAAjLUMaAAAAMFBMVEX///8AAAAAAAAAAAAAAAAA\n",
       "AAAAAAAAAAAAAAAAAAAAAAAAAAAAAAAAAAAAAAAAAAAv3aB7AAAAD3RSTlMAEHarMolUmd1mIs3v\n",
       "RLtmgJDEAAAACXBIWXMAAA7EAAAOxAGVKw4bAAAA/UlEQVQoz2NgwAm4pik74JZlYA5gOoBHmsWB\n",
       "tYEBH+CYgEWQc8+73z0vgQymTVg18XEZ8Fo+BDLkFLBLBzA8cAbZ/gWXdBU3g4wD109kYaYXHd1w\n",
       "aT4GDgHOg0iyvJsEELoNhRlYgpQXMDAIKYuEJoBEVwsgDGd5tgvKKWAyYgd7fxfC7tP9TVC1nAs4\n",
       "PzKDvb8BIR05EcZhYWCHMFlOdHR09EENfzgT7iQeiOcZHyB5zJ0P5hCG+wsYwewGJGl2L6hiuQs2\n",
       "DKxglhKSNOMDTQg737GG4RqYxZ0Aly5gmMl3AcwWV2KrhIgz2l2Exdi/BXyvv6GHNW8cJFCRAABM\n",
       "3zydJQQu6AAAAABJRU5ErkJggg==\n",
       "\" style=\"display:inline;vertical-align:middle;\" /></a>, <a class=\"ProveItLink\" href=\"../__pv_it/demonstrations/24b47934df390430c4ddb4660bfa2c456cc746cd0/expr.ipynb\"><img src=\"data:image/png;base64,iVBORw0KGgoAAAANSUhEUgAAADwAAAAXBAMAAACluTG0AAAAMFBMVEX///8AAAAAAAAAAAAAAAAA\n",
       "AAAAAAAAAAAAAAAAAAAAAAAAAAAAAAAAAAAAAAAAAAAv3aB7AAAAD3RSTlMAEHaZZquJVO8y3btE\n",
       "zSKD2s2pAAAACXBIWXMAAA7EAAAOxAGVKw4bAAABD0lEQVQoz2NgwAn43FUn4JZlYE1gasAjzTmB\n",
       "bQEDPsDlgEWQ5cbuvyu2ABlMl7Bq4uYL4AnZCGRIK2CXTmDYMBVk+09c0na8DBIT+L4gC2uvWnUB\n",
       "Ls3NwCXA0ogke1YRSXegKANnkuoDBkZlBwZRcCBdRDKcc/s9CJuNvYHBH8TgfYCQ7l2/SADCns68\n",
       "gCEaLI3ktBTHC1C2AIcCQxOIMWMVEGyAGr7RBab2vADEe9LIHpvMDTWcwZYBEjFcyNLM8zZAOVsZ\n",
       "uANANJMCkjTjBhUox5ThPCRiriOkDRhcuA9AOKJJ9hAvie4RgMXY7wfce7/DVOdC6WO7Vl1AD3+2\n",
       "C4zt+FKEAmsCHml2Jxs8sgAiPz/Axk/J1wAAAABJRU5ErkJggg==\n",
       "\" style=\"display:inline;vertical-align:middle;\" /></a>, <a class=\"ProveItLink\" href=\"../__pv_it/demonstrations/1dbd259366c79f56151b83d19180b4a05e73ca7b0/expr.ipynb\"><img src=\"data:image/png;base64,iVBORw0KGgoAAAANSUhEUgAAADsAAAAUBAMAAADB8VhjAAAAMFBMVEX///8AAAAAAAAAAAAAAAAA\n",
       "AAAAAAAAAAAAAAAAAAAAAAAAAAAAAAAAAAAAAAAAAAAv3aB7AAAAD3RSTlMAMt0iZhDNdom7q0RU\n",
       "75mOI7qcAAAACXBIWXMAAA7EAAAOxAGVKw4bAAAA8klEQVQoz2NgwAlMji9kwANWMNTikxZkaGLA\n",
       "C1SwCbrdnJ900wHIKCvAqmmCFcMuzwAGBtbp2KUtGDgZFwAZ8gI4pPkMElgvMtg7IImyT1JSQ0hP\n",
       "YFBl8A1AyHKnByB0c4UuYJAoXwzkMCoJmIAEzQKQDJc8ZgDlhFXMADmDIRlht23Sp1IYx5SBA6wv\n",
       "AclpLmEIS1lbQSTjJSUlJU2oNGcIws3mEEUTkHQzPpgKd7EDA9hwBWR/P7SEcc4wMICdVo4sHckO\n",
       "NZ1xxvQmcNixHYBL2zGwOMyGsDkYzmZDLF+5FR5jkxlm5h9AC2ruTmigIgEAMh83w5p6p7MAAAAA\n",
       "SUVORK5CYII=\n",
       "\" style=\"display:inline;vertical-align:middle;\" /></a> <a class=\"ProveItLink\" href=\"../__pv_it/demonstrations/edb440700e03075b28fa9f65e14dea438f873e200/proof.ipynb\" style=\"text-decoration: none\">&nbsp;&#x22A2;&nbsp;&nbsp;</a><a class=\"ProveItLink\" href=\"../__pv_it/demonstrations/7e50741f68b4c515b682d3b7a61fc56cdc055c360/expr.ipynb\"><img src=\"data:image/png;base64,iVBORw0KGgoAAAANSUhEUgAAATIAAAAVBAMAAAA3Nn/MAAAAMFBMVEX///8AAAAAAAAAAAAAAAAA\n",
       "AAAAAAAAAAAAAAAAAAAAAAAAAAAAAAAAAAAAAAAAAAAv3aB7AAAAD3RSTlMAInZUiRDNmWbv3US7\n",
       "qzJazP2FAAAACXBIWXMAAA7EAAAOxAGVKw4bAAADG0lEQVRIx6VWTWgTQRh9yWabn22WUBBEPKy1\n",
       "UnsoBBW1vTRULUVaWIq2CFaiIAhegoQaK2JUsBehS0VBRSj+HIxYgl4sHpKW3iQQpKJCDwEVoQpt\n",
       "DwVBKH4TW8g3O9To7iEJL/PevHnz7TcDIAZvj4rv86hZ5fvjHlVeKrCdHjUNiz72eRSBP+uCtIRX\n",
       "0d2AnvQqgrMuZNCzZoONoLRiw53A678gY67/M5srKuaQNUMphOWNsFycPX9Bwrb8v7O5omIO1yx3\n",
       "sN+7swY5Ai3p3dk5pKnUWrL4hk6bsfTm918OMY7emsUwVzFzla1AoCxNEhQvwOKUL8sUBzLQyxzp\n",
       "hZnSnnLNgfZTh6ld9JM3BDQHCyjkGSuIdmuUccSwca4y2DJHc4WqEY3mxPNiI0T9TF8/TyjRgdCy\n",
       "jESLxi+umfK/C04CN/EY+Ey/JtAQY6xrGLc/Mo4YtsBVtiBASWuOlFmE1uyzcYQ5M+Oj5ENGwhZO\n",
       "M81QLLQapZV14AFghy1zjUKioHK5Z/dzOZF5BSNYj+LenyhoGC2gFqFkxOzmsuQsXI3/mM0UdSKT\n",
       "goQsVZBimiaC1S1YEs7QZfsd+OXqnJBrs2DTAni1NlWbgKNy5rOkejdWhY9aRFtFG2BJmuEqMC12\n",
       "k9JpLOO75MxYwXHOGYHf4Qg1JrGbk1Kdid2k/qRzRcqizYWUYOYlZ4WYTqKdmKXfJUQSSDCW/jbq\n",
       "bEAbnJJYAEP2AuINKEqZNZKGFkeU+yByyYU8QYDvzMn8pyp0C+IF6sN02cgzlrY25Bhx7uMKClmG\n",
       "mHOzRyvrTaL2EW3kR1/LlJRQ2fjJkUDReIg33FnX10t4Rd9pLApOeteHXl4V+gXrwA2pzoa7r8Z4\n",
       "H0HHebF5ecmZSdub0O7ytUKfb12RKuZi93A6y2cZatYyIpHniFT+4QzoUfbrbS7GlFoxkKz7DPBN\n",
       "iqOzzhM9kNRvK0/fjIsxplLswYl43Se6uGjM1HsxiVhR5bXLV3RBjap77iPM138L2i5ehnoHa9cv\n",
       "K3GFDb2oGHewNV+/s5najvi/zw4F1uT1nhzDbyI1zYNwyKVxAAAAAElFTkSuQmCC\n",
       "\" style=\"display:inline;vertical-align:middle;\" /></a></span>"
      ],
      "text/plain": [
       "{w in Real^{3}, x in Real^{3}, y in Real^{3}, z in Real^{3}} |- (w + x + y + z) = (z + y + w + x)"
      ]
     },
     "metadata": {},
     "output_type": "display_data"
    }
   ],
   "source": [
    "Equals(VecAdd(w, x, y, z), VecAdd(z, y, w, x)).prove()"
   ]
  },
  {
   "cell_type": "code",
   "execution_count": 50,
   "metadata": {},
   "outputs": [
    {
     "data": {
      "text/html": [
       "<span style=\"font-size:20px;\"><a class=\"ProveItLink\" href=\"../__pv_it/demonstrations/24b47934df390430c4ddb4660bfa2c456cc746cd0/expr.ipynb\"><img src=\"data:image/png;base64,iVBORw0KGgoAAAANSUhEUgAAADwAAAAXBAMAAACluTG0AAAAMFBMVEX///8AAAAAAAAAAAAAAAAA\n",
       "AAAAAAAAAAAAAAAAAAAAAAAAAAAAAAAAAAAAAAAAAAAv3aB7AAAAD3RSTlMAEHaZZquJVO8y3btE\n",
       "zSKD2s2pAAAACXBIWXMAAA7EAAAOxAGVKw4bAAABD0lEQVQoz2NgwAn43FUn4JZlYE1gasAjzTmB\n",
       "bQEDPsDlgEWQ5cbuvyu2ABlMl7Bq4uYL4AnZCGRIK2CXTmDYMBVk+09c0na8DBIT+L4gC2uvWnUB\n",
       "Ls3NwCXA0ogke1YRSXegKANnkuoDBkZlBwZRcCBdRDKcc/s9CJuNvYHBH8TgfYCQ7l2/SADCns68\n",
       "gCEaLI3ktBTHC1C2AIcCQxOIMWMVEGyAGr7RBab2vADEe9LIHpvMDTWcwZYBEjFcyNLM8zZAOVsZ\n",
       "uANANJMCkjTjBhUox5ThPCRiriOkDRhcuA9AOKJJ9hAvie4RgMXY7wfce7/DVOdC6WO7Vl1AD3+2\n",
       "C4zt+FKEAmsCHml2Jxs8sgAiPz/Axk/J1wAAAABJRU5ErkJggg==\n",
       "\" style=\"display:inline;vertical-align:middle;\" /></a>, <a class=\"ProveItLink\" href=\"../__pv_it/demonstrations/1dbd259366c79f56151b83d19180b4a05e73ca7b0/expr.ipynb\"><img src=\"data:image/png;base64,iVBORw0KGgoAAAANSUhEUgAAADsAAAAUBAMAAADB8VhjAAAAMFBMVEX///8AAAAAAAAAAAAAAAAA\n",
       "AAAAAAAAAAAAAAAAAAAAAAAAAAAAAAAAAAAAAAAAAAAv3aB7AAAAD3RSTlMAMt0iZhDNdom7q0RU\n",
       "75mOI7qcAAAACXBIWXMAAA7EAAAOxAGVKw4bAAAA8klEQVQoz2NgwAlMji9kwANWMNTikxZkaGLA\n",
       "C1SwCbrdnJ900wHIKCvAqmmCFcMuzwAGBtbp2KUtGDgZFwAZ8gI4pPkMElgvMtg7IImyT1JSQ0hP\n",
       "YFBl8A1AyHKnByB0c4UuYJAoXwzkMCoJmIAEzQKQDJc8ZgDlhFXMADmDIRlht23Sp1IYx5SBA6wv\n",
       "AclpLmEIS1lbQSTjJSUlJU2oNGcIws3mEEUTkHQzPpgKd7EDA9hwBWR/P7SEcc4wMICdVo4sHckO\n",
       "NZ1xxvQmcNixHYBL2zGwOMyGsDkYzmZDLF+5FR5jkxlm5h9AC2ruTmigIgEAMh83w5p6p7MAAAAA\n",
       "SUVORK5CYII=\n",
       "\" style=\"display:inline;vertical-align:middle;\" /></a>, <a class=\"ProveItLink\" href=\"../__pv_it/demonstrations/69b818e5ab2a8afc180d22a4e2534dbd4afed1660/expr.ipynb\"><img src=\"data:image/png;base64,iVBORw0KGgoAAAANSUhEUgAAADwAAAAUBAMAAAAjLUMaAAAAMFBMVEX///8AAAAAAAAAAAAAAAAA\n",
       "AAAAAAAAAAAAAAAAAAAAAAAAAAAAAAAAAAAAAAAAAAAv3aB7AAAAD3RSTlMAEHarMolUmd1mIs3v\n",
       "RLtmgJDEAAAACXBIWXMAAA7EAAAOxAGVKw4bAAAA/UlEQVQoz2NgwAm4pik74JZlYA5gOoBHmsWB\n",
       "tYEBH+CYgEWQc8+73z0vgQymTVg18XEZ8Fo+BDLkFLBLBzA8cAbZ/gWXdBU3g4wD109kYaYXHd1w\n",
       "aT4GDgHOg0iyvJsEELoNhRlYgpQXMDAIKYuEJoBEVwsgDGd5tgvKKWAyYgd7fxfC7tP9TVC1nAs4\n",
       "PzKDvb8BIR05EcZhYWCHMFlOdHR09EENfzgT7iQeiOcZHyB5zJ0P5hCG+wsYwewGJGl2L6hiuQs2\n",
       "DKxglhKSNOMDTQg737GG4RqYxZ0Aly5gmMl3AcwWV2KrhIgz2l2Exdi/BXyvv6GHNW8cJFCRAABM\n",
       "3zydJQQu6AAAAABJRU5ErkJggg==\n",
       "\" style=\"display:inline;vertical-align:middle;\" /></a>, <a class=\"ProveItLink\" href=\"../__pv_it/demonstrations/640ab420e6d48668ece9f7f5061ad805bab7a17e0/expr.ipynb\"><img src=\"data:image/png;base64,iVBORw0KGgoAAAANSUhEUgAAAEAAAAAUBAMAAADPWCYMAAAAMFBMVEX///8AAAAAAAAAAAAAAAAA\n",
       "AAAAAAAAAAAAAAAAAAAAAAAAAAAAAAAAAAAAAAAAAAAv3aB7AAAAD3RSTlMAEHaJZjKZVN3vq7tE\n",
       "zSL5cm/iAAAACXBIWXMAAA7EAAAOxAGVKw4bAAABEUlEQVQoz2NgwAP43LUC8MkzcBkwTcCrgDWA\n",
       "uYEBP+BwwCrMcnP3384tQAbTJRwaufkW8CzZCGRIK+BSYMCwIQrkiq+4FeTxMkgG8H1BldDu6LgA\n",
       "V8DNwCHAMhFF/qwikgkLpRhYjbQeMDAqOzCEMVQIgALuIpIVrNvvQdjM7BMYVjOcPwBk8j5AKJjb\n",
       "3yQAYYezNTBMgsjxIjnSxPEClC3AqQD0CxuIGdkBBBugVmx0gamuFwDGCBOIJY3szTBuqBUMuQzc\n",
       "CxhiwAGPrIAtbgOUs4uBw4DBAMRiUkBSwLhBBcqxZji5gOcAmHkdoSCBwYUbIsjAlqy4zATClNoj\n",
       "AIvN3w+4937HjIPDOzouoAkBAERFPjTBQdmsAAAAAElFTkSuQmCC\n",
       "\" style=\"display:inline;vertical-align:middle;\" /></a> <a class=\"ProveItLink\" href=\"../__pv_it/demonstrations/14892e1fe54a14318d3572a3f02b8564fb99c0570/proof.ipynb\" style=\"text-decoration: none\">&nbsp;&#x22A2;&nbsp;&nbsp;</a><a class=\"ProveItLink\" href=\"../__pv_it/demonstrations/85eb936680e6237776d175ad6c2a9531bd4db3750/expr.ipynb\"><img src=\"data:image/png;base64,iVBORw0KGgoAAAANSUhEUgAAATEAAAAVBAMAAADcAcTPAAAAMFBMVEX///8AAAAAAAAAAAAAAAAA\n",
       "AAAAAAAAAAAAAAAAAAAAAAAAAAAAAAAAAAAAAAAAAAAv3aB7AAAAD3RSTlMAInZUiRDNmWbv3US7\n",
       "qzJazP2FAAAACXBIWXMAAA7EAAAOxAGVKw4bAAADBElEQVRIx62WTUgUYRjH/7uzr/sx7rAIQXSa\n",
       "zBAPwlJR2cXFUiQMBikl0LAgCLosIbYZ0VYHjw4GQUUgfRxaSJa6GB12E2+xMIRRgYeFisCC9CAE\n",
       "gfS8o4bPO+NHzM5p9j/P+3v+77PP+wEghWCP3/hQLZjhdEDKSx9tXy2YhwJCEM57JC1TA6YYCuoM\n",
       "Fz1KXy2YUTbjaU+IV/FIY56I3HYI6PmtFWLG2ecDHoRX8UhxS42wt0NAM7dWiHk4uLM6df7aUGBn\n",
       "xBymVmvOY5BDjEJ1N1d6W8+dSDOptxtGVnsGRBwlSZQWgGj88PU4ixdNeXzHMYv56M1BONzZwlQo\n",
       "L5mXiKzZGOc++ppmHa5kw++jk0zKtCFZ1v8AMbdEowX5vFgvYhSt5iiLl2nmUSoyHwSJLTJFXOg5\n",
       "5TKfAF8o5Tz3sQsRiymxVGw5md8oGelRxE2cJ6at1CxBxb2FcesTQ8g0E6hLbfQhIckycxay0Oky\n",
       "HwIWJZhYnfX9tVlDdIIpBqKrzfNPEjTmVxVZ+raoLgmqSxUjPF6mMVaollTPQuH5g0LBWYVQ9g0K\n",
       "Pactl0nOULJoCG/WBk/7xk1F0pbRApCq2z7O4E6WIdqtsI0w73d9WU6P9VlIvhCT/k2aXdjmENpc\n",
       "LMVZKSW4REWswCAT2qTSZ/LfhL6EMxwxgnoHP7gzgrQoa3OaKimZM/RekUMY5CDAlYHiZ0R4DWjM\n",
       "U1eLlZWa1ZsQ75I2MhxaQSKzrq37IEiFK1oaSZdJ6wA3UGLNDWN25mSVKe3fruEVdxYp64/wZm2T\n",
       "YA8teW2l39b5LoMevHb0olIzR//NlZ89TVMuc4F+DHbcTPGkaLvMbfQ3arm00jdXOwaH5YwSRcWZ\n",
       "MQlxxTxyR4mPDu//2K3sq2KueYkrGe1e0WUm3Np0BTkD9ngipv7jDIgM+Z0BxIxl6Zu4G+REz3ki\n",
       "xnZ8onfhbNrvRJfMt0iYySD3qVDZI9Xv+J78GHObMgeg3b4e5CrlY0OUdzr4aHNxU2bIDHjJ2+uj\n",
       "NQRn/gX1Ac/MVU+SygAAAABJRU5ErkJggg==\n",
       "\" style=\"display:inline;vertical-align:middle;\" /></a></span>"
      ],
      "text/plain": [
       "{y in Real^{3}, z in Real^{3}, x in Real^{3}, w in Real^{3}} |- (y + z + x + w) = (x + w + y + z)"
      ]
     },
     "metadata": {},
     "output_type": "display_data"
    }
   ],
   "source": [
    "Equals(VecAdd(y, z, x, w), VecAdd(x, w, y, z)).prove()"
   ]
  },
  {
   "cell_type": "code",
   "execution_count": 51,
   "metadata": {},
   "outputs": [],
   "source": [
    "%end demonstrations"
   ]
  },
  {
   "cell_type": "code",
   "execution_count": null,
   "metadata": {},
   "outputs": [],
   "source": []
  }
 ],
 "metadata": {
  "kernelspec": {
   "display_name": "Python 3",
   "language": "python",
   "name": "python3"
  }
 },
 "nbformat": 4,
 "nbformat_minor": 0
}