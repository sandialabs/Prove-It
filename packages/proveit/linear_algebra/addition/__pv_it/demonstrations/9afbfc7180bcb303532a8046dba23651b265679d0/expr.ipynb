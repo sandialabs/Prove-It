{
 "cells": [
  {
   "cell_type": "markdown",
   "metadata": {},
   "source": [
    "Expression of type <a class=\"ProveItLink\" href=\"../../../../../../../doc/html/api/proveit.logic.Equals.html\">Equals</a>\n",
    "=======================\n",
    "# from the theory of <a class=\"ProveItLink\" href=\"../../../_theory_nbs_/theory.ipynb\">proveit.linear_algebra.addition</a>"
   ]
  },
  {
   "cell_type": "code",
   "execution_count": 1,
   "metadata": {},
   "outputs": [],
   "source": [
    "import proveit\n",
    "# Automation is not needed when building an expression:\n",
    "proveit.defaults.automation = False # This will speed things up.\n",
    "proveit.defaults.inline_pngs = False # Makes files smaller.\n",
    "%load_expr # Load the stored expression as 'stored_expr'\n",
    "# import Expression classes needed to build the expression\n",
    "from proveit import v, w, x, y, z\n",
    "from proveit.linear_algebra import TensorProd, VecAdd\n",
    "from proveit.logic import Equals"
   ]
  },
  {
   "cell_type": "code",
   "execution_count": 2,
   "metadata": {},
   "outputs": [
    {
     "data": {
      "text/html": [
       "<strong id=\"expr\">expr:</strong> <a class=\"ProveItLink\" href=\"expr.ipynb\"><img src=\"expr.png\" style=\"display:inline;vertical-align:middle;\" /></a><br>"
      ],
      "text/plain": [
       "<IPython.core.display.HTML object>"
      ]
     },
     "metadata": {},
     "output_type": "display_data"
    }
   ],
   "source": [
    "# build up the expression from sub-expressions\n",
    "sub_expr1 = TensorProd(x, y, v)\n",
    "sub_expr2 = TensorProd(x, TensorProd(y, z))\n",
    "expr = Equals(VecAdd(sub_expr2, TensorProd(x, y, w), sub_expr1), VecAdd(sub_expr2, TensorProd(x, TensorProd(y, w)), sub_expr1))"
   ]
  },
  {
   "cell_type": "code",
   "execution_count": 3,
   "metadata": {},
   "outputs": [
    {
     "name": "stdout",
     "output_type": "stream",
     "text": [
      "Passed sanity check: expr matches stored_expr\n"
     ]
    }
   ],
   "source": [
    "# check that the built expression is the same as the stored expression\n",
    "assert expr == stored_expr\n",
    "assert expr._style_id == stored_expr._style_id\n",
    "print(\"Passed sanity check: expr matches stored_expr\")"
   ]
  },
  {
   "cell_type": "code",
   "execution_count": 4,
   "metadata": {},
   "outputs": [
    {
     "name": "stdout",
     "output_type": "stream",
     "text": [
      "\\left(\\left(x {\\otimes} \\left(y {\\otimes} z\\right)\\right) + \\left(x {\\otimes} y {\\otimes} w\\right) + \\left(x {\\otimes} y {\\otimes} v\\right)\\right) = \\left(\\left(x {\\otimes} \\left(y {\\otimes} z\\right)\\right) + \\left(x {\\otimes} \\left(y {\\otimes} w\\right)\\right) + \\left(x {\\otimes} y {\\otimes} v\\right)\\right)\n"
     ]
    }
   ],
   "source": [
    "# Show the LaTeX representation of the expression for convenience if you need it.\n",
    "print(stored_expr.latex())"
   ]
  },
  {
   "cell_type": "code",
   "execution_count": 5,
   "metadata": {},
   "outputs": [
    {
     "data": {
      "text/html": [
       "<table>\n",
       "<tr><th>name</th><th>description</th><th>default</th><th>current value</th><th>related methods</th></tr><tr><td>operation</td><td>'infix' or 'function' style formatting</td><td>infix</td><td>infix</td><td></td></tr>\n",
       "<tr><td>wrap_positions</td><td>position(s) at which wrapping is to occur; '2 n - 1' is after the nth operand, '2 n' is after the nth operation.</td><td>()</td><td>()</td><td>('with_wrapping_at', 'with_wrap_before_operator', 'with_wrap_after_operator', 'without_wrapping', 'wrap_positions')</td></tr>\n",
       "<tr><td>justification</td><td>if any wrap positions are set, justify to the 'left', 'center', or 'right'</td><td>center</td><td>center</td><td>('with_justification',)</td></tr>\n",
       "<tr><td>direction</td><td>Direction of the relation (normal or reversed)</td><td>normal</td><td>normal</td><td>('with_direction_reversed', 'is_reversed')</td></tr>\n",
       "</table>\n"
      ],
      "text/plain": [
       "style name: operation\n",
       "description: 'infix' or 'function' style formatting\n",
       "default: infix\n",
       "current value: infix\n",
       "related methods: ()\n",
       "style name: wrap_positions\n",
       "description: position(s) at which wrapping is to occur; '2 n - 1' is after the nth operand, '2 n' is after the nth operation.\n",
       "default: ()\n",
       "current value: ()\n",
       "related methods: ('with_wrapping_at', 'with_wrap_before_operator', 'with_wrap_after_operator', 'without_wrapping', 'wrap_positions')\n",
       "style name: justification\n",
       "description: if any wrap positions are set, justify to the 'left', 'center', or 'right'\n",
       "default: center\n",
       "current value: center\n",
       "related methods: ('with_justification',)\n",
       "style name: direction\n",
       "description: Direction of the relation (normal or reversed)\n",
       "default: normal\n",
       "current value: normal\n",
       "related methods: ('with_direction_reversed', 'is_reversed')"
      ]
     },
     "metadata": {},
     "output_type": "display_data"
    }
   ],
   "source": [
    "stored_expr.style_options()"
   ]
  },
  {
   "cell_type": "code",
   "execution_count": 6,
   "metadata": {},
   "outputs": [
    {
     "data": {
      "text/html": [
       "<table><tr><th>&nbsp;</th><th>core type</th><th>sub-expressions</th><th>expression</th></tr>\n",
       "<tr><td>0</td><td>Operation</td><td>operator:&nbsp;1<br>operands:&nbsp;2<br></td><td><a class=\"ProveItLink\" href=\"expr.ipynb\"><img src=\"expr.png\" style=\"display:inline;vertical-align:middle;\" /></a></td></tr>\n",
       "<tr><td>1</td><td>Literal</td><td></td><td><a class=\"ProveItLink\" href=\"../../../../../logic/equality/__pv_it/common/fb96dc12b2aa8801dda64d0132b396c63d1502bb0/expr.ipynb\"><img src=\"../../../../../logic/equality/__pv_it/common/fb96dc12b2aa8801dda64d0132b396c63d1502bb0/expr.png\" style=\"display:inline;vertical-align:middle;\" /></a></td></tr>\n",
       "<tr><td>2</td><td>ExprTuple</td><td>3, 4</td><td><a class=\"ProveItLink\" href=\"../e7ee3b395443bf014b303557facb29b2803475660/expr.ipynb\"><img src=\"../e7ee3b395443bf014b303557facb29b2803475660/expr.png\" style=\"display:inline;vertical-align:middle;\" /></a></td></tr>\n",
       "<tr><td>3</td><td>Operation</td><td>operator:&nbsp;6<br>operands:&nbsp;5<br></td><td><a class=\"ProveItLink\" href=\"../60ba94f565e79f5b69f878c23a07b39f04424de50/expr.ipynb\"><img src=\"../60ba94f565e79f5b69f878c23a07b39f04424de50/expr.png\" style=\"display:inline;vertical-align:middle;\" /></a></td></tr>\n",
       "<tr><td>4</td><td>Operation</td><td>operator:&nbsp;6<br>operands:&nbsp;7<br></td><td><a class=\"ProveItLink\" href=\"../f58738cd4efc056c4f71272226806bb715a6243b0/expr.ipynb\"><img src=\"../f58738cd4efc056c4f71272226806bb715a6243b0/expr.png\" style=\"display:inline;vertical-align:middle;\" /></a></td></tr>\n",
       "<tr><td>5</td><td>ExprTuple</td><td>9, 8, 11</td><td><a class=\"ProveItLink\" href=\"../2bf9771f40aa28d46bc043bdf21e1377583135750/expr.ipynb\"><img src=\"../2bf9771f40aa28d46bc043bdf21e1377583135750/expr.png\" style=\"display:inline;vertical-align:middle;\" /></a></td></tr>\n",
       "<tr><td>6</td><td>Literal</td><td></td><td><a class=\"ProveItLink\" href=\"../../common/ac3c140c9094f065c7f7db15c94558731443639c0/expr.ipynb\"><img src=\"../../common/ac3c140c9094f065c7f7db15c94558731443639c0/expr.png\" style=\"display:inline;vertical-align:middle;\" /></a></td></tr>\n",
       "<tr><td>7</td><td>ExprTuple</td><td>9, 10, 11</td><td><a class=\"ProveItLink\" href=\"../70764d0ab40b71eea08ee294c6704c4f816795840/expr.ipynb\"><img src=\"../70764d0ab40b71eea08ee294c6704c4f816795840/expr.png\" style=\"display:inline;vertical-align:middle;\" /></a></td></tr>\n",
       "<tr><td>8</td><td>Operation</td><td>operator:&nbsp;21<br>operands:&nbsp;12<br></td><td><a class=\"ProveItLink\" href=\"../bada30d8e0c9af7713d555170bf545df33d4e1c70/expr.ipynb\"><img src=\"../bada30d8e0c9af7713d555170bf545df33d4e1c70/expr.png\" style=\"display:inline;vertical-align:middle;\" /></a></td></tr>\n",
       "<tr><td>9</td><td>Operation</td><td>operator:&nbsp;21<br>operands:&nbsp;13<br></td><td><a class=\"ProveItLink\" href=\"../c3e35d98cf46d43a0fceb36158bfb5e592d492e60/expr.ipynb\"><img src=\"../c3e35d98cf46d43a0fceb36158bfb5e592d492e60/expr.png\" style=\"display:inline;vertical-align:middle;\" /></a></td></tr>\n",
       "<tr><td>10</td><td>Operation</td><td>operator:&nbsp;21<br>operands:&nbsp;14<br></td><td><a class=\"ProveItLink\" href=\"../3d8b6c3f0cdf1ba46445397540661e5cd85662cc0/expr.ipynb\"><img src=\"../3d8b6c3f0cdf1ba46445397540661e5cd85662cc0/expr.png\" style=\"display:inline;vertical-align:middle;\" /></a></td></tr>\n",
       "<tr><td>11</td><td>Operation</td><td>operator:&nbsp;21<br>operands:&nbsp;15<br></td><td><a class=\"ProveItLink\" href=\"../1eba8015dbf4cf7f938de886eeb4d8ae1a6cfddd0/expr.ipynb\"><img src=\"../1eba8015dbf4cf7f938de886eeb4d8ae1a6cfddd0/expr.png\" style=\"display:inline;vertical-align:middle;\" /></a></td></tr>\n",
       "<tr><td>12</td><td>ExprTuple</td><td>18, 24, 25</td><td><a class=\"ProveItLink\" href=\"../679fc8f0eb8a5ec38f82ec440cd6f6274a9afcc90/expr.ipynb\"><img src=\"../679fc8f0eb8a5ec38f82ec440cd6f6274a9afcc90/expr.png\" style=\"display:inline;vertical-align:middle;\" /></a></td></tr>\n",
       "<tr><td>13</td><td>ExprTuple</td><td>18, 16</td><td><a class=\"ProveItLink\" href=\"../c53d9a931821dbe6ba2b8b8283c394a9c2c568d50/expr.ipynb\"><img src=\"../c53d9a931821dbe6ba2b8b8283c394a9c2c568d50/expr.png\" style=\"display:inline;vertical-align:middle;\" /></a></td></tr>\n",
       "<tr><td>14</td><td>ExprTuple</td><td>18, 17</td><td><a class=\"ProveItLink\" href=\"../73ee14ca3dee79a236654146db086faab3be973d0/expr.ipynb\"><img src=\"../73ee14ca3dee79a236654146db086faab3be973d0/expr.png\" style=\"display:inline;vertical-align:middle;\" /></a></td></tr>\n",
       "<tr><td>15</td><td>ExprTuple</td><td>18, 24, 19</td><td><a class=\"ProveItLink\" href=\"../24529a2f5344a94de2b208b0f2c10391932bb03a0/expr.ipynb\"><img src=\"../24529a2f5344a94de2b208b0f2c10391932bb03a0/expr.png\" style=\"display:inline;vertical-align:middle;\" /></a></td></tr>\n",
       "<tr><td>16</td><td>Operation</td><td>operator:&nbsp;21<br>operands:&nbsp;20<br></td><td><a class=\"ProveItLink\" href=\"../49617e905fdb11e349799e522474e9a4a5938f710/expr.ipynb\"><img src=\"../49617e905fdb11e349799e522474e9a4a5938f710/expr.png\" style=\"display:inline;vertical-align:middle;\" /></a></td></tr>\n",
       "<tr><td>17</td><td>Operation</td><td>operator:&nbsp;21<br>operands:&nbsp;22<br></td><td><a class=\"ProveItLink\" href=\"../69c23a4b4d3386e1e6092c482c5e3a1d4b41c33f0/expr.ipynb\"><img src=\"../69c23a4b4d3386e1e6092c482c5e3a1d4b41c33f0/expr.png\" style=\"display:inline;vertical-align:middle;\" /></a></td></tr>\n",
       "<tr><td>18</td><td>Variable</td><td></td><td><a class=\"ProveItLink\" href=\"../../../../../__pv_it/common/a0d9d672aa5e272d907247690c152cc2c6daafb70/expr.ipynb\"><img src=\"../../../../../__pv_it/common/a0d9d672aa5e272d907247690c152cc2c6daafb70/expr.png\" style=\"display:inline;vertical-align:middle;\" /></a></td></tr>\n",
       "<tr><td>19</td><td>Variable</td><td></td><td><a class=\"ProveItLink\" href=\"../../../../../__pv_it/common/a4b9661da9b52dcebf59c5559fec8901f4df10750/expr.ipynb\"><img src=\"../../../../../__pv_it/common/a4b9661da9b52dcebf59c5559fec8901f4df10750/expr.png\" style=\"display:inline;vertical-align:middle;\" /></a></td></tr>\n",
       "<tr><td>20</td><td>ExprTuple</td><td>24, 23</td><td><a class=\"ProveItLink\" href=\"../../../../../numbers/ordering/__pv_it/theorems/e069a458aad4ee5753d8c0683702408c3e7d03f30/expr.ipynb\"><img src=\"../../../../../numbers/ordering/__pv_it/theorems/e069a458aad4ee5753d8c0683702408c3e7d03f30/expr.png\" style=\"display:inline;vertical-align:middle;\" /></a></td></tr>\n",
       "<tr><td>21</td><td>Literal</td><td></td><td><a class=\"ProveItLink\" href=\"../../../../tensors/__pv_it/common/7fa25b05174babb4710be62d63ebd43f68aa2fec0/expr.ipynb\"><img src=\"../../../../tensors/__pv_it/common/7fa25b05174babb4710be62d63ebd43f68aa2fec0/expr.png\" style=\"display:inline;vertical-align:middle;\" /></a></td></tr>\n",
       "<tr><td>22</td><td>ExprTuple</td><td>24, 25</td><td><a class=\"ProveItLink\" href=\"../8d472e8045cdb4e0fc6a77cc917ad6b7d42703120/expr.ipynb\"><img src=\"../8d472e8045cdb4e0fc6a77cc917ad6b7d42703120/expr.png\" style=\"display:inline;vertical-align:middle;\" /></a></td></tr>\n",
       "<tr><td>23</td><td>Variable</td><td></td><td><a class=\"ProveItLink\" href=\"../../../../../__pv_it/common/95a8f6b9b9f29b83f192ad7fd05708d6be097a3f0/expr.ipynb\"><img src=\"../../../../../__pv_it/common/95a8f6b9b9f29b83f192ad7fd05708d6be097a3f0/expr.png\" style=\"display:inline;vertical-align:middle;\" /></a></td></tr>\n",
       "<tr><td>24</td><td>Variable</td><td></td><td><a class=\"ProveItLink\" href=\"../../../../../__pv_it/common/ff7dba4ef0bbe791ab573bf2d9c220a304399ac80/expr.ipynb\"><img src=\"../../../../../__pv_it/common/ff7dba4ef0bbe791ab573bf2d9c220a304399ac80/expr.png\" style=\"display:inline;vertical-align:middle;\" /></a></td></tr>\n",
       "<tr><td>25</td><td>Variable</td><td></td><td><a class=\"ProveItLink\" href=\"../../../../../__pv_it/common/d365663894822dede40e6e04c77860068334d0820/expr.ipynb\"><img src=\"../../../../../__pv_it/common/d365663894822dede40e6e04c77860068334d0820/expr.png\" style=\"display:inline;vertical-align:middle;\" /></a></td></tr>\n",
       "</table>\n"
      ],
      "text/plain": [
       "0. ((x otimes (y otimes z)) + (x otimes y otimes w) + (x otimes y otimes v)) = ((x otimes (y otimes z)) + (x otimes (y otimes w)) + (x otimes y otimes v))\n",
       "   core type: Operation\n",
       "   operator: 1\n",
       "   operands: 2\n",
       "1. =\n",
       "   core type: Literal\n",
       "   sub-expressions: \n",
       "2. ((x otimes (y otimes z)) + (x otimes y otimes w) + (x otimes y otimes v), (x otimes (y otimes z)) + (x otimes (y otimes w)) + (x otimes y otimes v))\n",
       "   core type: ExprTuple\n",
       "   sub-expressions: 3, 4\n",
       "3. (x otimes (y otimes z)) + (x otimes y otimes w) + (x otimes y otimes v)\n",
       "   core type: Operation\n",
       "   operator: 6\n",
       "   operands: 5\n",
       "4. (x otimes (y otimes z)) + (x otimes (y otimes w)) + (x otimes y otimes v)\n",
       "   core type: Operation\n",
       "   operator: 6\n",
       "   operands: 7\n",
       "5. (x otimes (y otimes z), x otimes y otimes w, x otimes y otimes v)\n",
       "   core type: ExprTuple\n",
       "   sub-expressions: 9, 8, 11\n",
       "6. +\n",
       "   core type: Literal\n",
       "   sub-expressions: \n",
       "7. (x otimes (y otimes z), x otimes (y otimes w), x otimes y otimes v)\n",
       "   core type: ExprTuple\n",
       "   sub-expressions: 9, 10, 11\n",
       "8. x otimes y otimes w\n",
       "   core type: Operation\n",
       "   operator: 21\n",
       "   operands: 12\n",
       "9. x otimes (y otimes z)\n",
       "   core type: Operation\n",
       "   operator: 21\n",
       "   operands: 13\n",
       "10. x otimes (y otimes w)\n",
       "    core type: Operation\n",
       "    operator: 21\n",
       "    operands: 14\n",
       "11. x otimes y otimes v\n",
       "    core type: Operation\n",
       "    operator: 21\n",
       "    operands: 15\n",
       "12. (x, y, w)\n",
       "    core type: ExprTuple\n",
       "    sub-expressions: 18, 24, 25\n",
       "13. (x, y otimes z)\n",
       "    core type: ExprTuple\n",
       "    sub-expressions: 18, 16\n",
       "14. (x, y otimes w)\n",
       "    core type: ExprTuple\n",
       "    sub-expressions: 18, 17\n",
       "15. (x, y, v)\n",
       "    core type: ExprTuple\n",
       "    sub-expressions: 18, 24, 19\n",
       "16. y otimes z\n",
       "    core type: Operation\n",
       "    operator: 21\n",
       "    operands: 20\n",
       "17. y otimes w\n",
       "    core type: Operation\n",
       "    operator: 21\n",
       "    operands: 22\n",
       "18. x\n",
       "    core type: Variable\n",
       "    sub-expressions: \n",
       "19. v\n",
       "    core type: Variable\n",
       "    sub-expressions: \n",
       "20. (y, z)\n",
       "    core type: ExprTuple\n",
       "    sub-expressions: 24, 23\n",
       "21. otimes\n",
       "    core type: Literal\n",
       "    sub-expressions: \n",
       "22. (y, w)\n",
       "    core type: ExprTuple\n",
       "    sub-expressions: 24, 25\n",
       "23. z\n",
       "    core type: Variable\n",
       "    sub-expressions: \n",
       "24. y\n",
       "    core type: Variable\n",
       "    sub-expressions: \n",
       "25. w\n",
       "    core type: Variable\n",
       "    sub-expressions: "
      ]
     },
     "metadata": {},
     "output_type": "display_data"
    }
   ],
   "source": [
    "# display the expression information\n",
    "stored_expr.expr_info()"
   ]
  },
  {
   "cell_type": "code",
   "execution_count": null,
   "metadata": {},
   "outputs": [],
   "source": []
  }
 ],
 "metadata": {
  "kernelspec": {
   "display_name": "Python 3",
   "language": "python",
   "name": "python3"
  }
 },
 "nbformat": 4,
 "nbformat_minor": 0
}