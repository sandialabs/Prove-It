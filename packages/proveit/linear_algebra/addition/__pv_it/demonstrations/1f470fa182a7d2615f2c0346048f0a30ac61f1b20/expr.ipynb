{
 "cells": [
  {
   "cell_type": "markdown",
   "metadata": {},
   "source": [
    "Expression of type <a class=\"ProveItLink\" href=\"../../../../../../../doc/html/api/proveit.ExprTuple.html\">ExprTuple</a>\n",
    "=======================\n",
    "# from the theory of <a class=\"ProveItLink\" href=\"../../../_theory_nbs_/theory.ipynb\">proveit.linear_algebra.addition</a>"
   ]
  },
  {
   "cell_type": "code",
   "execution_count": 1,
   "metadata": {},
   "outputs": [],
   "source": [
    "import proveit\n",
    "# Automation is not needed when building an expression:\n",
    "proveit.defaults.automation = False # This will speed things up.\n",
    "proveit.defaults.inline_pngs = False # Makes files smaller.\n",
    "%load_expr # Load the stored expression as 'stored_expr'\n",
    "# import Expression classes needed to build the expression\n",
    "from proveit import Conditional, ExprTuple, Lambda, k, n, vk\n",
    "from proveit.logic import CartExp, InSet\n",
    "from proveit.numbers import Complex, Natural"
   ]
  },
  {
   "cell_type": "code",
   "execution_count": 2,
   "metadata": {},
   "outputs": [
    {
     "data": {
      "text/html": [
       "<strong id=\"expr\">expr:</strong> <a class=\"ProveItLink\" href=\"expr.ipynb\"><img src=\"expr.png\" style=\"display:inline;vertical-align:middle;\" /></a><br>"
      ],
      "text/plain": [
       "<IPython.core.display.HTML object>"
      ]
     },
     "metadata": {},
     "output_type": "display_data"
    }
   ],
   "source": [
    "# build up the expression from sub-expressions\n",
    "expr = ExprTuple(Lambda(k, Conditional(InSet(vk, CartExp(Complex, n)), InSet(k, Natural))))"
   ]
  },
  {
   "cell_type": "code",
   "execution_count": 3,
   "metadata": {},
   "outputs": [
    {
     "name": "stdout",
     "output_type": "stream",
     "text": [
      "Passed sanity check: expr matches stored_expr\n"
     ]
    }
   ],
   "source": [
    "# check that the built expression is the same as the stored expression\n",
    "assert expr == stored_expr\n",
    "assert expr._style_id == stored_expr._style_id\n",
    "print(\"Passed sanity check: expr matches stored_expr\")"
   ]
  },
  {
   "cell_type": "code",
   "execution_count": 4,
   "metadata": {},
   "outputs": [
    {
     "name": "stdout",
     "output_type": "stream",
     "text": [
      "\\left(k \\mapsto \\left\\{v\\left(k\\right) \\in \\mathbb{C}^{n} \\textrm{ if } k \\in \\mathbb{N}\\right..\\right)\n"
     ]
    }
   ],
   "source": [
    "# Show the LaTeX representation of the expression for convenience if you need it.\n",
    "print(stored_expr.latex())"
   ]
  },
  {
   "cell_type": "code",
   "execution_count": 5,
   "metadata": {},
   "outputs": [
    {
     "data": {
      "text/html": [
       "no style options"
      ],
      "text/plain": [
       "no style options"
      ]
     },
     "metadata": {},
     "output_type": "display_data"
    }
   ],
   "source": [
    "stored_expr.style_options()"
   ]
  },
  {
   "cell_type": "code",
   "execution_count": 6,
   "metadata": {},
   "outputs": [
    {
     "data": {
      "text/html": [
       "<table><tr><th>&nbsp;</th><th>core type</th><th>sub-expressions</th><th>expression</th></tr>\n",
       "<tr><td>0</td><td>ExprTuple</td><td>1</td><td><a class=\"ProveItLink\" href=\"expr.ipynb\"><img src=\"expr.png\" style=\"display:inline;vertical-align:middle;\" /></a></td></tr>\n",
       "<tr><td>1</td><td>Lambda</td><td>parameter:&nbsp;15<br>body:&nbsp;2<br></td><td><a class=\"ProveItLink\" href=\"../7f9156eeca833d7e1b91146e3a2f0469203524680/expr.ipynb\"><img src=\"../7f9156eeca833d7e1b91146e3a2f0469203524680/expr.png\" style=\"display:inline;vertical-align:middle;\" /></a></td></tr>\n",
       "<tr><td>2</td><td>Conditional</td><td>value:&nbsp;3<br>condition:&nbsp;4<br></td><td><a class=\"ProveItLink\" href=\"../b075f9bd0d5cca54cac116cacbb58bb7eb464c740/expr.ipynb\"><img src=\"../b075f9bd0d5cca54cac116cacbb58bb7eb464c740/expr.png\" style=\"display:inline;vertical-align:middle;\" /></a></td></tr>\n",
       "<tr><td>3</td><td>Operation</td><td>operator:&nbsp;6<br>operands:&nbsp;5<br></td><td><a class=\"ProveItLink\" href=\"../043056cf7578cbeb8677590412e54099072525350/expr.ipynb\"><img src=\"../043056cf7578cbeb8677590412e54099072525350/expr.png\" style=\"display:inline;vertical-align:middle;\" /></a></td></tr>\n",
       "<tr><td>4</td><td>Operation</td><td>operator:&nbsp;6<br>operands:&nbsp;7<br></td><td><a class=\"ProveItLink\" href=\"../../../../../numbers/addition/__pv_it/theorems/bdb040860ba8b035aec6ab4a51daa2ad1ea247650/expr.ipynb\"><img src=\"../../../../../numbers/addition/__pv_it/theorems/bdb040860ba8b035aec6ab4a51daa2ad1ea247650/expr.png\" style=\"display:inline;vertical-align:middle;\" /></a></td></tr>\n",
       "<tr><td>5</td><td>ExprTuple</td><td>8, 9</td><td><a class=\"ProveItLink\" href=\"../e31ebf3d0868fd73beae4653fd62c476f0f5f0cb0/expr.ipynb\"><img src=\"../e31ebf3d0868fd73beae4653fd62c476f0f5f0cb0/expr.png\" style=\"display:inline;vertical-align:middle;\" /></a></td></tr>\n",
       "<tr><td>6</td><td>Literal</td><td></td><td><a class=\"ProveItLink\" href=\"../../../../../logic/sets/membership/__pv_it/common/477487d8796864d23d5810f83761435f25167f690/expr.ipynb\"><img src=\"../../../../../logic/sets/membership/__pv_it/common/477487d8796864d23d5810f83761435f25167f690/expr.png\" style=\"display:inline;vertical-align:middle;\" /></a></td></tr>\n",
       "<tr><td>7</td><td>ExprTuple</td><td>15, 10</td><td><a class=\"ProveItLink\" href=\"../../../../../numbers/addition/__pv_it/theorems/84c31ccee39a6ceabf0fdfaea6d8e427b084a02b0/expr.ipynb\"><img src=\"../../../../../numbers/addition/__pv_it/theorems/84c31ccee39a6ceabf0fdfaea6d8e427b084a02b0/expr.png\" style=\"display:inline;vertical-align:middle;\" /></a></td></tr>\n",
       "<tr><td>8</td><td>Operation</td><td>operator:&nbsp;11<br>operand:&nbsp;15<br></td><td><a class=\"ProveItLink\" href=\"../../../../../__pv_it/common/a6c8cdfc20753355349e3546933532a8b12e10850/expr.ipynb\"><img src=\"../../../../../__pv_it/common/a6c8cdfc20753355349e3546933532a8b12e10850/expr.png\" style=\"display:inline;vertical-align:middle;\" /></a></td></tr>\n",
       "<tr><td>9</td><td>Operation</td><td>operator:&nbsp;13<br>operands:&nbsp;14<br></td><td><a class=\"ProveItLink\" href=\"../b3b1dc9164355afa8ebd60560f26e7668c8607c60/expr.ipynb\"><img src=\"../b3b1dc9164355afa8ebd60560f26e7668c8607c60/expr.png\" style=\"display:inline;vertical-align:middle;\" /></a></td></tr>\n",
       "<tr><td>10</td><td>Literal</td><td></td><td><a class=\"ProveItLink\" href=\"../../../../../numbers/number_sets/natural_numbers/__pv_it/common/8b7c321957f52ed3b05b36af612eeae4fa4783bc0/expr.ipynb\"><img src=\"../../../../../numbers/number_sets/natural_numbers/__pv_it/common/8b7c321957f52ed3b05b36af612eeae4fa4783bc0/expr.png\" style=\"display:inline;vertical-align:middle;\" /></a></td></tr>\n",
       "<tr><td>11</td><td>Variable</td><td></td><td><a class=\"ProveItLink\" href=\"../../../../../__pv_it/common/a4b9661da9b52dcebf59c5559fec8901f4df10750/expr.ipynb\"><img src=\"../../../../../__pv_it/common/a4b9661da9b52dcebf59c5559fec8901f4df10750/expr.png\" style=\"display:inline;vertical-align:middle;\" /></a></td></tr>\n",
       "<tr><td>12</td><td>ExprTuple</td><td>15</td><td><a class=\"ProveItLink\" href=\"../../../../../__pv_it/common/688b115fcd711144fb0bdcf2138b0bd26487dd890/expr.ipynb\"><img src=\"../../../../../__pv_it/common/688b115fcd711144fb0bdcf2138b0bd26487dd890/expr.png\" style=\"display:inline;vertical-align:middle;\" /></a></td></tr>\n",
       "<tr><td>13</td><td>Literal</td><td></td><td><a class=\"ProveItLink\" href=\"../../../../../logic/sets/cartesian_products/__pv_it/common/7d20d67ddfbd94ad12efc9670c0d16a295b8ec1a0/expr.ipynb\"><img src=\"../../../../../logic/sets/cartesian_products/__pv_it/common/7d20d67ddfbd94ad12efc9670c0d16a295b8ec1a0/expr.png\" style=\"display:inline;vertical-align:middle;\" /></a></td></tr>\n",
       "<tr><td>14</td><td>ExprTuple</td><td>16, 17</td><td><a class=\"ProveItLink\" href=\"../4a1d4147e84733db6066067180d99772107b7bda0/expr.ipynb\"><img src=\"../4a1d4147e84733db6066067180d99772107b7bda0/expr.png\" style=\"display:inline;vertical-align:middle;\" /></a></td></tr>\n",
       "<tr><td>15</td><td>Variable</td><td></td><td><a class=\"ProveItLink\" href=\"../../../../../__pv_it/common/63b7c64bf9ec7a04ecc396c7a1670f3f12fb59490/expr.ipynb\"><img src=\"../../../../../__pv_it/common/63b7c64bf9ec7a04ecc396c7a1670f3f12fb59490/expr.png\" style=\"display:inline;vertical-align:middle;\" /></a></td></tr>\n",
       "<tr><td>16</td><td>Literal</td><td></td><td><a class=\"ProveItLink\" href=\"../../../../../numbers/number_sets/complex_numbers/__pv_it/common/d18a028138f659eda00de597c28a3447fe87eb100/expr.ipynb\"><img src=\"../../../../../numbers/number_sets/complex_numbers/__pv_it/common/d18a028138f659eda00de597c28a3447fe87eb100/expr.png\" style=\"display:inline;vertical-align:middle;\" /></a></td></tr>\n",
       "<tr><td>17</td><td>Variable</td><td></td><td><a class=\"ProveItLink\" href=\"../../../../../__pv_it/common/8968bb04eb3f7dfa02353397ce929b025bbd79c20/expr.ipynb\"><img src=\"../../../../../__pv_it/common/8968bb04eb3f7dfa02353397ce929b025bbd79c20/expr.png\" style=\"display:inline;vertical-align:middle;\" /></a></td></tr>\n",
       "</table>\n"
      ],
      "text/plain": [
       "0. (k -> {v(k) in Complex^{n} if k in Natural.)\n",
       "   core type: ExprTuple\n",
       "   sub-expressions: 1\n",
       "1. k -> {v(k) in Complex^{n} if k in Natural.\n",
       "   core type: Lambda\n",
       "   parameter: 15\n",
       "   body: 2\n",
       "2. {v(k) in Complex^{n} if k in Natural.\n",
       "   core type: Conditional\n",
       "   value: 3\n",
       "   condition: 4\n",
       "3. v(k) in Complex^{n}\n",
       "   core type: Operation\n",
       "   operator: 6\n",
       "   operands: 5\n",
       "4. k in Natural\n",
       "   core type: Operation\n",
       "   operator: 6\n",
       "   operands: 7\n",
       "5. (v(k), Complex^{n})\n",
       "   core type: ExprTuple\n",
       "   sub-expressions: 8, 9\n",
       "6. in\n",
       "   core type: Literal\n",
       "   sub-expressions: \n",
       "7. (k, Natural)\n",
       "   core type: ExprTuple\n",
       "   sub-expressions: 15, 10\n",
       "8. v(k)\n",
       "   core type: Operation\n",
       "   operator: 11\n",
       "   operand: 15\n",
       "9. Complex^{n}\n",
       "   core type: Operation\n",
       "   operator: 13\n",
       "   operands: 14\n",
       "10. Natural\n",
       "    core type: Literal\n",
       "    sub-expressions: \n",
       "11. v\n",
       "    core type: Variable\n",
       "    sub-expressions: \n",
       "12. (k)\n",
       "    core type: ExprTuple\n",
       "    sub-expressions: 15\n",
       "13. CartExp\n",
       "    core type: Literal\n",
       "    sub-expressions: \n",
       "14. (Complex, n)\n",
       "    core type: ExprTuple\n",
       "    sub-expressions: 16, 17\n",
       "15. k\n",
       "    core type: Variable\n",
       "    sub-expressions: \n",
       "16. Complex\n",
       "    core type: Literal\n",
       "    sub-expressions: \n",
       "17. n\n",
       "    core type: Variable\n",
       "    sub-expressions: "
      ]
     },
     "metadata": {},
     "output_type": "display_data"
    }
   ],
   "source": [
    "# display the expression information\n",
    "stored_expr.expr_info()"
   ]
  },
  {
   "cell_type": "code",
   "execution_count": null,
   "metadata": {},
   "outputs": [],
   "source": []
  }
 ],
 "metadata": {
  "kernelspec": {
   "display_name": "Python 3",
   "language": "python",
   "name": "python3"
  }
 },
 "nbformat": 4,
 "nbformat_minor": 0
}