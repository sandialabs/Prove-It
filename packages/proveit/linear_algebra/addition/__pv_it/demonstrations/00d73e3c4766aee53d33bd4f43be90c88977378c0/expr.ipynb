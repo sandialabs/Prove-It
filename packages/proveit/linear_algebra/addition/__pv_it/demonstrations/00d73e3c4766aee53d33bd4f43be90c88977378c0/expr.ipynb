{
 "cells": [
  {
   "cell_type": "markdown",
   "metadata": {},
   "source": [
    "Expression of type <a class=\"ProveItLink\" href=\"../../../../../../../doc/html/api/proveit.linear_algebra.VecSum.html\">VecSum</a>\n",
    "=======================\n",
    "# from the theory of <a class=\"ProveItLink\" href=\"../../../_theory_nbs_/theory.ipynb\">proveit.linear_algebra.addition</a>"
   ]
  },
  {
   "cell_type": "code",
   "execution_count": 1,
   "metadata": {},
   "outputs": [],
   "source": [
    "import proveit\n",
    "# Automation is not needed when building an expression:\n",
    "proveit.defaults.automation = False # This will speed things up.\n",
    "proveit.defaults.inline_pngs = False # Makes files smaller.\n",
    "%load_expr # Load the stored expression as 'stored_expr'\n",
    "# import Expression classes needed to build the expression\n",
    "from proveit import i, vi\n",
    "from proveit.linear_algebra import VecSum\n",
    "from proveit.numbers import Interval, eight, six"
   ]
  },
  {
   "cell_type": "code",
   "execution_count": 2,
   "metadata": {},
   "outputs": [
    {
     "data": {
      "text/html": [
       "<strong id=\"expr\">expr:</strong> <a class=\"ProveItLink\" href=\"expr.ipynb\"><img src=\"expr.png\" style=\"display:inline;vertical-align:middle;\" /></a><br>"
      ],
      "text/plain": [
       "<IPython.core.display.HTML object>"
      ]
     },
     "metadata": {},
     "output_type": "display_data"
    }
   ],
   "source": [
    "# build up the expression from sub-expressions\n",
    "expr = VecSum(index_or_indices = [i], summand = vi, domain = Interval(six, eight))"
   ]
  },
  {
   "cell_type": "code",
   "execution_count": 3,
   "metadata": {},
   "outputs": [
    {
     "name": "stdout",
     "output_type": "stream",
     "text": [
      "Passed sanity check: expr matches stored_expr\n"
     ]
    }
   ],
   "source": [
    "# check that the built expression is the same as the stored expression\n",
    "assert expr == stored_expr\n",
    "assert expr._style_id == stored_expr._style_id\n",
    "print(\"Passed sanity check: expr matches stored_expr\")"
   ]
  },
  {
   "cell_type": "code",
   "execution_count": 4,
   "metadata": {},
   "outputs": [
    {
     "name": "stdout",
     "output_type": "stream",
     "text": [
      "\\sum_{i=6}^{8} v\\left(i\\right)\n"
     ]
    }
   ],
   "source": [
    "# Show the LaTeX representation of the expression for convenience if you need it.\n",
    "print(stored_expr.latex())"
   ]
  },
  {
   "cell_type": "code",
   "execution_count": 5,
   "metadata": {},
   "outputs": [
    {
     "data": {
      "text/html": [
       "<table>\n",
       "<tr><th>name</th><th>description</th><th>default</th><th>current value</th><th>related methods</th></tr><tr><td>with_wrapping</td><td>If 'True', wrap the Expression after the parameters</td><td>None</td><td>None/False</td><td>('with_wrapping',)</td></tr>\n",
       "<tr><td>condition_wrapping</td><td>Wrap 'before' or 'after' the condition (or None).</td><td>None</td><td>None/False</td><td>('with_wrap_after_condition', 'with_wrap_before_condition')</td></tr>\n",
       "<tr><td>wrap_params</td><td>If 'True', wraps every two parameters AND wraps the Expression after the parameters</td><td>None</td><td>None/False</td><td>('with_params',)</td></tr>\n",
       "<tr><td>justification</td><td>justify to the 'left', 'center', or 'right' in the array cells</td><td>center</td><td>center</td><td>('with_justification',)</td></tr>\n",
       "</table>\n"
      ],
      "text/plain": [
       "style name: with_wrapping\n",
       "description: If 'True', wrap the Expression after the parameters\n",
       "default: None\n",
       "current value: None/False\n",
       "related methods: ('with_wrapping',)\n",
       "style name: condition_wrapping\n",
       "description: Wrap 'before' or 'after' the condition (or None).\n",
       "default: None\n",
       "current value: None/False\n",
       "related methods: ('with_wrap_after_condition', 'with_wrap_before_condition')\n",
       "style name: wrap_params\n",
       "description: If 'True', wraps every two parameters AND wraps the Expression after the parameters\n",
       "default: None\n",
       "current value: None/False\n",
       "related methods: ('with_params',)\n",
       "style name: justification\n",
       "description: justify to the 'left', 'center', or 'right' in the array cells\n",
       "default: center\n",
       "current value: center\n",
       "related methods: ('with_justification',)"
      ]
     },
     "metadata": {},
     "output_type": "display_data"
    }
   ],
   "source": [
    "stored_expr.style_options()"
   ]
  },
  {
   "cell_type": "code",
   "execution_count": 6,
   "metadata": {},
   "outputs": [
    {
     "data": {
      "text/html": [
       "<table><tr><th>&nbsp;</th><th>core type</th><th>sub-expressions</th><th>expression</th></tr>\n",
       "<tr><td>0</td><td>Operation</td><td>operator:&nbsp;1<br>operand:&nbsp;3<br></td><td><a class=\"ProveItLink\" href=\"expr.ipynb\"><img src=\"expr.png\" style=\"display:inline;vertical-align:middle;\" /></a></td></tr>\n",
       "<tr><td>1</td><td>Literal</td><td></td><td><a class=\"ProveItLink\" href=\"../../common/62f73c830c62efb87627ede5678f282081cd0ce20/expr.ipynb\"><img src=\"../../common/62f73c830c62efb87627ede5678f282081cd0ce20/expr.png\" style=\"display:inline;vertical-align:middle;\" /></a></td></tr>\n",
       "<tr><td>2</td><td>ExprTuple</td><td>3</td><td><a class=\"ProveItLink\" href=\"../8d2b5cc659e4fe97460a4cc150a81328f74e312f0/expr.ipynb\"><img src=\"../8d2b5cc659e4fe97460a4cc150a81328f74e312f0/expr.png\" style=\"display:inline;vertical-align:middle;\" /></a></td></tr>\n",
       "<tr><td>3</td><td>Lambda</td><td>parameter:&nbsp;11<br>body:&nbsp;4<br></td><td><a class=\"ProveItLink\" href=\"../ad8e23b390c427ed2503888c6a7aad0e2eb223940/expr.ipynb\"><img src=\"../ad8e23b390c427ed2503888c6a7aad0e2eb223940/expr.png\" style=\"display:inline;vertical-align:middle;\" /></a></td></tr>\n",
       "<tr><td>4</td><td>Conditional</td><td>value:&nbsp;5<br>condition:&nbsp;6<br></td><td><a class=\"ProveItLink\" href=\"../a6cad4e8b86c6e290d52fcb5a51a3813ed143e810/expr.ipynb\"><img src=\"../a6cad4e8b86c6e290d52fcb5a51a3813ed143e810/expr.png\" style=\"display:inline;vertical-align:middle;\" /></a></td></tr>\n",
       "<tr><td>5</td><td>Operation</td><td>operator:&nbsp;7<br>operand:&nbsp;11<br></td><td><a class=\"ProveItLink\" href=\"../../../../../__pv_it/common/f63b93109c631afbf6471ab6c2dc0807d57b8b890/expr.ipynb\"><img src=\"../../../../../__pv_it/common/f63b93109c631afbf6471ab6c2dc0807d57b8b890/expr.png\" style=\"display:inline;vertical-align:middle;\" /></a></td></tr>\n",
       "<tr><td>6</td><td>Operation</td><td>operator:&nbsp;9<br>operands:&nbsp;10<br></td><td><a class=\"ProveItLink\" href=\"../c28273ad0eaf300a7939f97e6fdcfe24d6cf64360/expr.ipynb\"><img src=\"../c28273ad0eaf300a7939f97e6fdcfe24d6cf64360/expr.png\" style=\"display:inline;vertical-align:middle;\" /></a></td></tr>\n",
       "<tr><td>7</td><td>Variable</td><td></td><td><a class=\"ProveItLink\" href=\"../../../../../__pv_it/common/a4b9661da9b52dcebf59c5559fec8901f4df10750/expr.ipynb\"><img src=\"../../../../../__pv_it/common/a4b9661da9b52dcebf59c5559fec8901f4df10750/expr.png\" style=\"display:inline;vertical-align:middle;\" /></a></td></tr>\n",
       "<tr><td>8</td><td>ExprTuple</td><td>11</td><td><a class=\"ProveItLink\" href=\"../../../../../__pv_it/common/3b7d7ace2ced0a8261ea4d18d03aaf49e434d69d0/expr.ipynb\"><img src=\"../../../../../__pv_it/common/3b7d7ace2ced0a8261ea4d18d03aaf49e434d69d0/expr.png\" style=\"display:inline;vertical-align:middle;\" /></a></td></tr>\n",
       "<tr><td>9</td><td>Literal</td><td></td><td><a class=\"ProveItLink\" href=\"../../../../../logic/sets/membership/__pv_it/common/477487d8796864d23d5810f83761435f25167f690/expr.ipynb\"><img src=\"../../../../../logic/sets/membership/__pv_it/common/477487d8796864d23d5810f83761435f25167f690/expr.png\" style=\"display:inline;vertical-align:middle;\" /></a></td></tr>\n",
       "<tr><td>10</td><td>ExprTuple</td><td>11, 12</td><td><a class=\"ProveItLink\" href=\"../86d2358d567126ffcac9eba6f4c569094eb296310/expr.ipynb\"><img src=\"../86d2358d567126ffcac9eba6f4c569094eb296310/expr.png\" style=\"display:inline;vertical-align:middle;\" /></a></td></tr>\n",
       "<tr><td>11</td><td>Variable</td><td></td><td><a class=\"ProveItLink\" href=\"../../../../../__pv_it/common/ae955345c83abf786c3aff8681cd5465beae262d0/expr.ipynb\"><img src=\"../../../../../__pv_it/common/ae955345c83abf786c3aff8681cd5465beae262d0/expr.png\" style=\"display:inline;vertical-align:middle;\" /></a></td></tr>\n",
       "<tr><td>12</td><td>Operation</td><td>operator:&nbsp;13<br>operands:&nbsp;14<br></td><td><a class=\"ProveItLink\" href=\"../3682a8a278203e82be4bbbb2dba84573728053520/expr.ipynb\"><img src=\"../3682a8a278203e82be4bbbb2dba84573728053520/expr.png\" style=\"display:inline;vertical-align:middle;\" /></a></td></tr>\n",
       "<tr><td>13</td><td>Literal</td><td></td><td><a class=\"ProveItLink\" href=\"../../../../../numbers/number_sets/integers/__pv_it/common/92f3a0a77e3c3ea8e4a5c8674edadc54e4f57d550/expr.ipynb\"><img src=\"../../../../../numbers/number_sets/integers/__pv_it/common/92f3a0a77e3c3ea8e4a5c8674edadc54e4f57d550/expr.png\" style=\"display:inline;vertical-align:middle;\" /></a></td></tr>\n",
       "<tr><td>14</td><td>ExprTuple</td><td>15, 16</td><td><a class=\"ProveItLink\" href=\"../e18685a441cae8c28f92c45899b70e0c7b5a01790/expr.ipynb\"><img src=\"../e18685a441cae8c28f92c45899b70e0c7b5a01790/expr.png\" style=\"display:inline;vertical-align:middle;\" /></a></td></tr>\n",
       "<tr><td>15</td><td>Literal</td><td></td><td><a class=\"ProveItLink\" href=\"../../../../../numbers/numerals/__pv_it/common/3376a962e50366e1ce3b003524f11b59146ac6970/expr.ipynb\"><img src=\"../../../../../numbers/numerals/__pv_it/common/3376a962e50366e1ce3b003524f11b59146ac6970/expr.png\" style=\"display:inline;vertical-align:middle;\" /></a></td></tr>\n",
       "<tr><td>16</td><td>Literal</td><td></td><td><a class=\"ProveItLink\" href=\"../../../../../numbers/numerals/__pv_it/common/ceed6b354935ad1d236d250dc51c3b98bca3a8960/expr.ipynb\"><img src=\"../../../../../numbers/numerals/__pv_it/common/ceed6b354935ad1d236d250dc51c3b98bca3a8960/expr.png\" style=\"display:inline;vertical-align:middle;\" /></a></td></tr>\n",
       "</table>\n"
      ],
      "text/plain": [
       "0. Sum_{i=6}^{8} v(i)\n",
       "   core type: Operation\n",
       "   operator: 1\n",
       "   operand: 3\n",
       "1. Sum\n",
       "   core type: Literal\n",
       "   sub-expressions: \n",
       "2. (i -> {v(i) if i in {6 .. 8}.)\n",
       "   core type: ExprTuple\n",
       "   sub-expressions: 3\n",
       "3. i -> {v(i) if i in {6 .. 8}.\n",
       "   core type: Lambda\n",
       "   parameter: 11\n",
       "   body: 4\n",
       "4. {v(i) if i in {6 .. 8}.\n",
       "   core type: Conditional\n",
       "   value: 5\n",
       "   condition: 6\n",
       "5. v(i)\n",
       "   core type: Operation\n",
       "   operator: 7\n",
       "   operand: 11\n",
       "6. i in {6 .. 8}\n",
       "   core type: Operation\n",
       "   operator: 9\n",
       "   operands: 10\n",
       "7. v\n",
       "   core type: Variable\n",
       "   sub-expressions: \n",
       "8. (i)\n",
       "   core type: ExprTuple\n",
       "   sub-expressions: 11\n",
       "9. in\n",
       "   core type: Literal\n",
       "   sub-expressions: \n",
       "10. (i, {6 .. 8})\n",
       "    core type: ExprTuple\n",
       "    sub-expressions: 11, 12\n",
       "11. i\n",
       "    core type: Variable\n",
       "    sub-expressions: \n",
       "12. {6 .. 8}\n",
       "    core type: Operation\n",
       "    operator: 13\n",
       "    operands: 14\n",
       "13. Interval\n",
       "    core type: Literal\n",
       "    sub-expressions: \n",
       "14. (6, 8)\n",
       "    core type: ExprTuple\n",
       "    sub-expressions: 15, 16\n",
       "15. 6\n",
       "    core type: Literal\n",
       "    sub-expressions: \n",
       "16. 8\n",
       "    core type: Literal\n",
       "    sub-expressions: "
      ]
     },
     "metadata": {},
     "output_type": "display_data"
    }
   ],
   "source": [
    "# display the expression information\n",
    "stored_expr.expr_info()"
   ]
  },
  {
   "cell_type": "code",
   "execution_count": null,
   "metadata": {},
   "outputs": [],
   "source": []
  }
 ],
 "metadata": {
  "kernelspec": {
   "display_name": "Python 3",
   "language": "python",
   "name": "python3"
  }
 },
 "nbformat": 4,
 "nbformat_minor": 0
}