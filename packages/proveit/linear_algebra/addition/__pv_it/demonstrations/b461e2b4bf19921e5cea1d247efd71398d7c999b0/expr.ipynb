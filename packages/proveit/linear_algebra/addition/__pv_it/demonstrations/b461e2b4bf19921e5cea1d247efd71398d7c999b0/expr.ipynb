{
 "cells": [
  {
   "cell_type": "markdown",
   "metadata": {},
   "source": [
    "Expression of type <a class=\"ProveItLink\" href=\"../../../../../../../doc/html/api/proveit.logic.Equals.html\">Equals</a>\n",
    "=======================\n",
    "# from the theory of <a class=\"ProveItLink\" href=\"../../../_theory_nbs_/theory.ipynb\">proveit.linear_algebra.addition</a>"
   ]
  },
  {
   "cell_type": "code",
   "execution_count": 1,
   "metadata": {},
   "outputs": [],
   "source": [
    "import proveit\n",
    "# Automation is not needed when building an expression:\n",
    "proveit.defaults.automation = False # This will speed things up.\n",
    "proveit.defaults.inline_pngs = False # Makes files smaller.\n",
    "%load_expr # Load the stored expression as 'stored_expr'\n",
    "# import Expression classes needed to build the expression\n",
    "from proveit import Function, k, t, v, vk\n",
    "from proveit.linear_algebra import VecSum\n",
    "from proveit.logic import Equals\n",
    "from proveit.numbers import Exp, Interval, Neg, one, subtract, two, zero"
   ]
  },
  {
   "cell_type": "code",
   "execution_count": 2,
   "metadata": {},
   "outputs": [
    {
     "data": {
      "text/html": [
       "<strong id=\"expr\">expr:</strong> <a class=\"ProveItLink\" href=\"expr.ipynb\"><img src=\"expr.png\" style=\"display:inline;vertical-align:middle;\" /></a><br>"
      ],
      "text/plain": [
       "<IPython.core.display.HTML object>"
      ]
     },
     "metadata": {},
     "output_type": "display_data"
    }
   ],
   "source": [
    "# build up the expression from sub-expressions\n",
    "sub_expr1 = [k]\n",
    "sub_expr2 = Exp(two, t)\n",
    "expr = Equals(VecSum(index_or_indices = sub_expr1, summand = vk, domain = Interval(zero, sub_expr2)), VecSum(index_or_indices = sub_expr1, summand = Function(v, [subtract(k, Neg(one))]), domain = Interval(subtract(zero, one), subtract(sub_expr2, one))))"
   ]
  },
  {
   "cell_type": "code",
   "execution_count": 3,
   "metadata": {},
   "outputs": [
    {
     "name": "stdout",
     "output_type": "stream",
     "text": [
      "Passed sanity check: expr matches stored_expr\n"
     ]
    }
   ],
   "source": [
    "# check that the built expression is the same as the stored expression\n",
    "assert expr == stored_expr\n",
    "assert expr._style_id == stored_expr._style_id\n",
    "print(\"Passed sanity check: expr matches stored_expr\")"
   ]
  },
  {
   "cell_type": "code",
   "execution_count": 4,
   "metadata": {},
   "outputs": [
    {
     "name": "stdout",
     "output_type": "stream",
     "text": [
      "\\left(\\sum_{k=0}^{2^{t}} v\\left(k\\right)\\right) = \\left(\\sum_{k=0 - 1}^{2^{t} - 1} v\\left(k - \\left(-1\\right)\\right)\\right)\n"
     ]
    }
   ],
   "source": [
    "# Show the LaTeX representation of the expression for convenience if you need it.\n",
    "print(stored_expr.latex())"
   ]
  },
  {
   "cell_type": "code",
   "execution_count": 5,
   "metadata": {},
   "outputs": [
    {
     "data": {
      "text/html": [
       "<table>\n",
       "<tr><th>name</th><th>description</th><th>default</th><th>current value</th><th>related methods</th></tr><tr><td>operation</td><td>'infix' or 'function' style formatting</td><td>infix</td><td>infix</td><td></td></tr>\n",
       "<tr><td>wrap_positions</td><td>position(s) at which wrapping is to occur; '2 n - 1' is after the nth operand, '2 n' is after the nth operation.</td><td>()</td><td>()</td><td>('with_wrapping_at', 'with_wrap_before_operator', 'with_wrap_after_operator', 'without_wrapping', 'wrap_positions')</td></tr>\n",
       "<tr><td>justification</td><td>if any wrap positions are set, justify to the 'left', 'center', or 'right'</td><td>center</td><td>center</td><td>('with_justification',)</td></tr>\n",
       "<tr><td>direction</td><td>Direction of the relation (normal or reversed)</td><td>normal</td><td>normal</td><td>('with_direction_reversed', 'is_reversed')</td></tr>\n",
       "</table>\n"
      ],
      "text/plain": [
       "style name: operation\n",
       "description: 'infix' or 'function' style formatting\n",
       "default: infix\n",
       "current value: infix\n",
       "related methods: ()\n",
       "style name: wrap_positions\n",
       "description: position(s) at which wrapping is to occur; '2 n - 1' is after the nth operand, '2 n' is after the nth operation.\n",
       "default: ()\n",
       "current value: ()\n",
       "related methods: ('with_wrapping_at', 'with_wrap_before_operator', 'with_wrap_after_operator', 'without_wrapping', 'wrap_positions')\n",
       "style name: justification\n",
       "description: if any wrap positions are set, justify to the 'left', 'center', or 'right'\n",
       "default: center\n",
       "current value: center\n",
       "related methods: ('with_justification',)\n",
       "style name: direction\n",
       "description: Direction of the relation (normal or reversed)\n",
       "default: normal\n",
       "current value: normal\n",
       "related methods: ('with_direction_reversed', 'is_reversed')"
      ]
     },
     "metadata": {},
     "output_type": "display_data"
    }
   ],
   "source": [
    "stored_expr.style_options()"
   ]
  },
  {
   "cell_type": "code",
   "execution_count": 6,
   "metadata": {},
   "outputs": [
    {
     "data": {
      "text/html": [
       "<table><tr><th>&nbsp;</th><th>core type</th><th>sub-expressions</th><th>expression</th></tr>\n",
       "<tr><td>0</td><td>Operation</td><td>operator:&nbsp;1<br>operands:&nbsp;2<br></td><td><a class=\"ProveItLink\" href=\"expr.ipynb\"><img src=\"expr.png\" style=\"display:inline;vertical-align:middle;\" /></a></td></tr>\n",
       "<tr><td>1</td><td>Literal</td><td></td><td><a class=\"ProveItLink\" href=\"../../../../../logic/equality/__pv_it/common/fb96dc12b2aa8801dda64d0132b396c63d1502bb0/expr.ipynb\"><img src=\"../../../../../logic/equality/__pv_it/common/fb96dc12b2aa8801dda64d0132b396c63d1502bb0/expr.png\" style=\"display:inline;vertical-align:middle;\" /></a></td></tr>\n",
       "<tr><td>2</td><td>ExprTuple</td><td>3, 4</td><td><a class=\"ProveItLink\" href=\"../48a69c10310bff7fc782f9a667be807c911f52e40/expr.ipynb\"><img src=\"../48a69c10310bff7fc782f9a667be807c911f52e40/expr.png\" style=\"display:inline;vertical-align:middle;\" /></a></td></tr>\n",
       "<tr><td>3</td><td>Operation</td><td>operator:&nbsp;6<br>operand:&nbsp;8<br></td><td><a class=\"ProveItLink\" href=\"../3289e120aa6be55688d22f668ad74e259538ebbc0/expr.ipynb\"><img src=\"../3289e120aa6be55688d22f668ad74e259538ebbc0/expr.png\" style=\"display:inline;vertical-align:middle;\" /></a></td></tr>\n",
       "<tr><td>4</td><td>Operation</td><td>operator:&nbsp;6<br>operand:&nbsp;9<br></td><td><a class=\"ProveItLink\" href=\"../2e58bc2988bea2c55ab96041d05d6c8611edd2c40/expr.ipynb\"><img src=\"../2e58bc2988bea2c55ab96041d05d6c8611edd2c40/expr.png\" style=\"display:inline;vertical-align:middle;\" /></a></td></tr>\n",
       "<tr><td>5</td><td>ExprTuple</td><td>8</td><td><a class=\"ProveItLink\" href=\"../2b7ff59cbcc36332a5ad4decc9bd8d76c35e9ad00/expr.ipynb\"><img src=\"../2b7ff59cbcc36332a5ad4decc9bd8d76c35e9ad00/expr.png\" style=\"display:inline;vertical-align:middle;\" /></a></td></tr>\n",
       "<tr><td>6</td><td>Literal</td><td></td><td><a class=\"ProveItLink\" href=\"../../common/62f73c830c62efb87627ede5678f282081cd0ce20/expr.ipynb\"><img src=\"../../common/62f73c830c62efb87627ede5678f282081cd0ce20/expr.png\" style=\"display:inline;vertical-align:middle;\" /></a></td></tr>\n",
       "<tr><td>7</td><td>ExprTuple</td><td>9</td><td><a class=\"ProveItLink\" href=\"../89a12b7c2f45586ef821f204a60693432dfe3f040/expr.ipynb\"><img src=\"../89a12b7c2f45586ef821f204a60693432dfe3f040/expr.png\" style=\"display:inline;vertical-align:middle;\" /></a></td></tr>\n",
       "<tr><td>8</td><td>Lambda</td><td>parameter:&nbsp;29<br>body:&nbsp;10<br></td><td><a class=\"ProveItLink\" href=\"../cfa5d2293b6416d8f178d04f38ff77b64a4e24190/expr.ipynb\"><img src=\"../cfa5d2293b6416d8f178d04f38ff77b64a4e24190/expr.png\" style=\"display:inline;vertical-align:middle;\" /></a></td></tr>\n",
       "<tr><td>9</td><td>Lambda</td><td>parameter:&nbsp;29<br>body:&nbsp;11<br></td><td><a class=\"ProveItLink\" href=\"../f080cd59cec5f69c2384795436bc53abe5e6f9f70/expr.ipynb\"><img src=\"../f080cd59cec5f69c2384795436bc53abe5e6f9f70/expr.png\" style=\"display:inline;vertical-align:middle;\" /></a></td></tr>\n",
       "<tr><td>10</td><td>Conditional</td><td>value:&nbsp;12<br>condition:&nbsp;13<br></td><td><a class=\"ProveItLink\" href=\"../76c4cb28bc5c2340bd87f3657f6c0b231dafea4b0/expr.ipynb\"><img src=\"../76c4cb28bc5c2340bd87f3657f6c0b231dafea4b0/expr.png\" style=\"display:inline;vertical-align:middle;\" /></a></td></tr>\n",
       "<tr><td>11</td><td>Conditional</td><td>value:&nbsp;14<br>condition:&nbsp;15<br></td><td><a class=\"ProveItLink\" href=\"../78668acf2585628572920bf456cc8a2f103be4080/expr.ipynb\"><img src=\"../78668acf2585628572920bf456cc8a2f103be4080/expr.png\" style=\"display:inline;vertical-align:middle;\" /></a></td></tr>\n",
       "<tr><td>12</td><td>Operation</td><td>operator:&nbsp;18<br>operand:&nbsp;29<br></td><td><a class=\"ProveItLink\" href=\"../../../../../__pv_it/common/a6c8cdfc20753355349e3546933532a8b12e10850/expr.ipynb\"><img src=\"../../../../../__pv_it/common/a6c8cdfc20753355349e3546933532a8b12e10850/expr.png\" style=\"display:inline;vertical-align:middle;\" /></a></td></tr>\n",
       "<tr><td>13</td><td>Operation</td><td>operator:&nbsp;20<br>operands:&nbsp;17<br></td><td><a class=\"ProveItLink\" href=\"../d4225e8c9bc30229640011dac111bc4a7b33a3070/expr.ipynb\"><img src=\"../d4225e8c9bc30229640011dac111bc4a7b33a3070/expr.png\" style=\"display:inline;vertical-align:middle;\" /></a></td></tr>\n",
       "<tr><td>14</td><td>Operation</td><td>operator:&nbsp;18<br>operand:&nbsp;23<br></td><td><a class=\"ProveItLink\" href=\"../5711798c47034e62240262bdcf71e8d60154e3500/expr.ipynb\"><img src=\"../5711798c47034e62240262bdcf71e8d60154e3500/expr.png\" style=\"display:inline;vertical-align:middle;\" /></a></td></tr>\n",
       "<tr><td>15</td><td>Operation</td><td>operator:&nbsp;20<br>operands:&nbsp;21<br></td><td><a class=\"ProveItLink\" href=\"../e096fa3e1f3e4aec105d50d2c00609f20185cef30/expr.ipynb\"><img src=\"../e096fa3e1f3e4aec105d50d2c00609f20185cef30/expr.png\" style=\"display:inline;vertical-align:middle;\" /></a></td></tr>\n",
       "<tr><td>16</td><td>ExprTuple</td><td>29</td><td><a class=\"ProveItLink\" href=\"../../../../../__pv_it/common/688b115fcd711144fb0bdcf2138b0bd26487dd890/expr.ipynb\"><img src=\"../../../../../__pv_it/common/688b115fcd711144fb0bdcf2138b0bd26487dd890/expr.png\" style=\"display:inline;vertical-align:middle;\" /></a></td></tr>\n",
       "<tr><td>17</td><td>ExprTuple</td><td>29, 22</td><td><a class=\"ProveItLink\" href=\"../1dd4426ca7f6bfa4e0dd84c607304f295eaf9c3a0/expr.ipynb\"><img src=\"../1dd4426ca7f6bfa4e0dd84c607304f295eaf9c3a0/expr.png\" style=\"display:inline;vertical-align:middle;\" /></a></td></tr>\n",
       "<tr><td>18</td><td>Variable</td><td></td><td><a class=\"ProveItLink\" href=\"../../../../../__pv_it/common/a4b9661da9b52dcebf59c5559fec8901f4df10750/expr.ipynb\"><img src=\"../../../../../__pv_it/common/a4b9661da9b52dcebf59c5559fec8901f4df10750/expr.png\" style=\"display:inline;vertical-align:middle;\" /></a></td></tr>\n",
       "<tr><td>19</td><td>ExprTuple</td><td>23</td><td><a class=\"ProveItLink\" href=\"../d78f5c7453a6e51bcffbd1825e86eb137bc8938a0/expr.ipynb\"><img src=\"../d78f5c7453a6e51bcffbd1825e86eb137bc8938a0/expr.png\" style=\"display:inline;vertical-align:middle;\" /></a></td></tr>\n",
       "<tr><td>20</td><td>Literal</td><td></td><td><a class=\"ProveItLink\" href=\"../../../../../logic/sets/membership/__pv_it/common/477487d8796864d23d5810f83761435f25167f690/expr.ipynb\"><img src=\"../../../../../logic/sets/membership/__pv_it/common/477487d8796864d23d5810f83761435f25167f690/expr.png\" style=\"display:inline;vertical-align:middle;\" /></a></td></tr>\n",
       "<tr><td>21</td><td>ExprTuple</td><td>29, 24</td><td><a class=\"ProveItLink\" href=\"../a85d278388bc8a4ddf03c5fd12f2ad31f8205da60/expr.ipynb\"><img src=\"../a85d278388bc8a4ddf03c5fd12f2ad31f8205da60/expr.png\" style=\"display:inline;vertical-align:middle;\" /></a></td></tr>\n",
       "<tr><td>22</td><td>Operation</td><td>operator:&nbsp;27<br>operands:&nbsp;25<br></td><td><a class=\"ProveItLink\" href=\"../251091a4ddf068e0afee87b1ecdbbba184e42cc00/expr.ipynb\"><img src=\"../251091a4ddf068e0afee87b1ecdbbba184e42cc00/expr.png\" style=\"display:inline;vertical-align:middle;\" /></a></td></tr>\n",
       "<tr><td>23</td><td>Operation</td><td>operator:&nbsp;35<br>operands:&nbsp;26<br></td><td><a class=\"ProveItLink\" href=\"../8929186e1332d6a66247e616452ec9386edfad4a0/expr.ipynb\"><img src=\"../8929186e1332d6a66247e616452ec9386edfad4a0/expr.png\" style=\"display:inline;vertical-align:middle;\" /></a></td></tr>\n",
       "<tr><td>24</td><td>Operation</td><td>operator:&nbsp;27<br>operands:&nbsp;28<br></td><td><a class=\"ProveItLink\" href=\"../88962ddcff92d3d4d9f0c4a8727f2cea7a735c450/expr.ipynb\"><img src=\"../88962ddcff92d3d4d9f0c4a8727f2cea7a735c450/expr.png\" style=\"display:inline;vertical-align:middle;\" /></a></td></tr>\n",
       "<tr><td>25</td><td>ExprTuple</td><td>37, 38</td><td><a class=\"ProveItLink\" href=\"../f15ce5db253e9163b0e9b251f01422da92cf73020/expr.ipynb\"><img src=\"../f15ce5db253e9163b0e9b251f01422da92cf73020/expr.png\" style=\"display:inline;vertical-align:middle;\" /></a></td></tr>\n",
       "<tr><td>26</td><td>ExprTuple</td><td>29, 30</td><td><a class=\"ProveItLink\" href=\"../dfe9e6560f02f286f67208727ffdd1309369d3390/expr.ipynb\"><img src=\"../dfe9e6560f02f286f67208727ffdd1309369d3390/expr.png\" style=\"display:inline;vertical-align:middle;\" /></a></td></tr>\n",
       "<tr><td>27</td><td>Literal</td><td></td><td><a class=\"ProveItLink\" href=\"../../../../../numbers/number_sets/integers/__pv_it/common/92f3a0a77e3c3ea8e4a5c8674edadc54e4f57d550/expr.ipynb\"><img src=\"../../../../../numbers/number_sets/integers/__pv_it/common/92f3a0a77e3c3ea8e4a5c8674edadc54e4f57d550/expr.png\" style=\"display:inline;vertical-align:middle;\" /></a></td></tr>\n",
       "<tr><td>28</td><td>ExprTuple</td><td>31, 32</td><td><a class=\"ProveItLink\" href=\"../b53dbc901645696cc0405251743b2f65bc2e7d100/expr.ipynb\"><img src=\"../b53dbc901645696cc0405251743b2f65bc2e7d100/expr.png\" style=\"display:inline;vertical-align:middle;\" /></a></td></tr>\n",
       "<tr><td>29</td><td>Variable</td><td></td><td><a class=\"ProveItLink\" href=\"../../../../../__pv_it/common/63b7c64bf9ec7a04ecc396c7a1670f3f12fb59490/expr.ipynb\"><img src=\"../../../../../__pv_it/common/63b7c64bf9ec7a04ecc396c7a1670f3f12fb59490/expr.png\" style=\"display:inline;vertical-align:middle;\" /></a></td></tr>\n",
       "<tr><td>30</td><td>Operation</td><td>operator:&nbsp;42<br>operand:&nbsp;39<br></td><td><a class=\"ProveItLink\" href=\"../9dcb1fc9ecd8fe1317c4482cd62c335fea4cdb630/expr.ipynb\"><img src=\"../9dcb1fc9ecd8fe1317c4482cd62c335fea4cdb630/expr.png\" style=\"display:inline;vertical-align:middle;\" /></a></td></tr>\n",
       "<tr><td>31</td><td>Operation</td><td>operator:&nbsp;35<br>operands:&nbsp;34<br></td><td><a class=\"ProveItLink\" href=\"../7cd59732e9ae3070865de76868561967cb9d5f0b0/expr.ipynb\"><img src=\"../7cd59732e9ae3070865de76868561967cb9d5f0b0/expr.png\" style=\"display:inline;vertical-align:middle;\" /></a></td></tr>\n",
       "<tr><td>32</td><td>Operation</td><td>operator:&nbsp;35<br>operands:&nbsp;36<br></td><td><a class=\"ProveItLink\" href=\"../f06b65ffbe0b8d4f06b51477aaec651016e5b2b70/expr.ipynb\"><img src=\"../f06b65ffbe0b8d4f06b51477aaec651016e5b2b70/expr.png\" style=\"display:inline;vertical-align:middle;\" /></a></td></tr>\n",
       "<tr><td>33</td><td>ExprTuple</td><td>39</td><td><a class=\"ProveItLink\" href=\"../163fe5bb4aa40058705a48c77a20fbcebbf1b8df0/expr.ipynb\"><img src=\"../163fe5bb4aa40058705a48c77a20fbcebbf1b8df0/expr.png\" style=\"display:inline;vertical-align:middle;\" /></a></td></tr>\n",
       "<tr><td>34</td><td>ExprTuple</td><td>37, 39</td><td><a class=\"ProveItLink\" href=\"../1314721a827440ff3016212492cd9f708501f8da0/expr.ipynb\"><img src=\"../1314721a827440ff3016212492cd9f708501f8da0/expr.png\" style=\"display:inline;vertical-align:middle;\" /></a></td></tr>\n",
       "<tr><td>35</td><td>Literal</td><td></td><td><a class=\"ProveItLink\" href=\"../../../../../numbers/addition/__pv_it/common/4b7effaab3619a1c2c38fe2dee8601df8ec714590/expr.ipynb\"><img src=\"../../../../../numbers/addition/__pv_it/common/4b7effaab3619a1c2c38fe2dee8601df8ec714590/expr.png\" style=\"display:inline;vertical-align:middle;\" /></a></td></tr>\n",
       "<tr><td>36</td><td>ExprTuple</td><td>38, 39</td><td><a class=\"ProveItLink\" href=\"../a93e2ba31a0e9b4b168bd2454f5d9cd32cb68f620/expr.ipynb\"><img src=\"../a93e2ba31a0e9b4b168bd2454f5d9cd32cb68f620/expr.png\" style=\"display:inline;vertical-align:middle;\" /></a></td></tr>\n",
       "<tr><td>37</td><td>Literal</td><td></td><td><a class=\"ProveItLink\" href=\"../../../../../numbers/numerals/__pv_it/common/dd4e19e8b134dfb293470ea55fe3589b0ab9f8040/expr.ipynb\"><img src=\"../../../../../numbers/numerals/__pv_it/common/dd4e19e8b134dfb293470ea55fe3589b0ab9f8040/expr.png\" style=\"display:inline;vertical-align:middle;\" /></a></td></tr>\n",
       "<tr><td>38</td><td>Operation</td><td>operator:&nbsp;40<br>operands:&nbsp;41<br></td><td><a class=\"ProveItLink\" href=\"../a014d9681ed5f22f1d322e1e6f8f6a29a72641620/expr.ipynb\"><img src=\"../a014d9681ed5f22f1d322e1e6f8f6a29a72641620/expr.png\" style=\"display:inline;vertical-align:middle;\" /></a></td></tr>\n",
       "<tr><td>39</td><td>Operation</td><td>operator:&nbsp;42<br>operand:&nbsp;46<br></td><td><a class=\"ProveItLink\" href=\"../../../../../numbers/addition/subtraction/__pv_it/theorems/bf4beda21975fe8a0a5007615b5bcc943da59bb20/expr.ipynb\"><img src=\"../../../../../numbers/addition/subtraction/__pv_it/theorems/bf4beda21975fe8a0a5007615b5bcc943da59bb20/expr.png\" style=\"display:inline;vertical-align:middle;\" /></a></td></tr>\n",
       "<tr><td>40</td><td>Literal</td><td></td><td><a class=\"ProveItLink\" href=\"../../../../../numbers/exponentiation/__pv_it/common/0ac37aca1e54c35c5cda09672df32d4f69f1f3020/expr.ipynb\"><img src=\"../../../../../numbers/exponentiation/__pv_it/common/0ac37aca1e54c35c5cda09672df32d4f69f1f3020/expr.png\" style=\"display:inline;vertical-align:middle;\" /></a></td></tr>\n",
       "<tr><td>41</td><td>ExprTuple</td><td>44, 45</td><td><a class=\"ProveItLink\" href=\"../620247c38a794b8e2a0fe6158f0aa55d8c4a68c60/expr.ipynb\"><img src=\"../620247c38a794b8e2a0fe6158f0aa55d8c4a68c60/expr.png\" style=\"display:inline;vertical-align:middle;\" /></a></td></tr>\n",
       "<tr><td>42</td><td>Literal</td><td></td><td><a class=\"ProveItLink\" href=\"../../../../../numbers/negation/__pv_it/common/221b3c4d1770ee9051b7c044c3f9ec61196fc34b0/expr.ipynb\"><img src=\"../../../../../numbers/negation/__pv_it/common/221b3c4d1770ee9051b7c044c3f9ec61196fc34b0/expr.png\" style=\"display:inline;vertical-align:middle;\" /></a></td></tr>\n",
       "<tr><td>43</td><td>ExprTuple</td><td>46</td><td><a class=\"ProveItLink\" href=\"../../../../../numbers/addition/subtraction/__pv_it/theorems/b9e4f0dffece176bbe2f36127440684a20e0468e0/expr.ipynb\"><img src=\"../../../../../numbers/addition/subtraction/__pv_it/theorems/b9e4f0dffece176bbe2f36127440684a20e0468e0/expr.png\" style=\"display:inline;vertical-align:middle;\" /></a></td></tr>\n",
       "<tr><td>44</td><td>Literal</td><td></td><td><a class=\"ProveItLink\" href=\"../../../../../numbers/numerals/__pv_it/common/af4aab8a07465db063742696e006d04670f30cf10/expr.ipynb\"><img src=\"../../../../../numbers/numerals/__pv_it/common/af4aab8a07465db063742696e006d04670f30cf10/expr.png\" style=\"display:inline;vertical-align:middle;\" /></a></td></tr>\n",
       "<tr><td>45</td><td>Variable</td><td></td><td><a class=\"ProveItLink\" href=\"../../../../../__pv_it/common/36861eae73a44b53d5b3b017ac6a3a9dae53bfba0/expr.ipynb\"><img src=\"../../../../../__pv_it/common/36861eae73a44b53d5b3b017ac6a3a9dae53bfba0/expr.png\" style=\"display:inline;vertical-align:middle;\" /></a></td></tr>\n",
       "<tr><td>46</td><td>Literal</td><td></td><td><a class=\"ProveItLink\" href=\"../../../../../numbers/numerals/__pv_it/common/682157d4892d216d9e5626ed533aff9b56b9506e0/expr.ipynb\"><img src=\"../../../../../numbers/numerals/__pv_it/common/682157d4892d216d9e5626ed533aff9b56b9506e0/expr.png\" style=\"display:inline;vertical-align:middle;\" /></a></td></tr>\n",
       "</table>\n"
      ],
      "text/plain": [
       "0. (Sum_{k=0}^{2^{t}} v(k)) = (Sum_{k=0 - 1}^{2^{t} - 1} v(k - (-1)))\n",
       "   core type: Operation\n",
       "   operator: 1\n",
       "   operands: 2\n",
       "1. =\n",
       "   core type: Literal\n",
       "   sub-expressions: \n",
       "2. (Sum_{k=0}^{2^{t}} v(k), Sum_{k=0 - 1}^{2^{t} - 1} v(k - (-1)))\n",
       "   core type: ExprTuple\n",
       "   sub-expressions: 3, 4\n",
       "3. Sum_{k=0}^{2^{t}} v(k)\n",
       "   core type: Operation\n",
       "   operator: 6\n",
       "   operand: 8\n",
       "4. Sum_{k=0 - 1}^{2^{t} - 1} v(k - (-1))\n",
       "   core type: Operation\n",
       "   operator: 6\n",
       "   operand: 9\n",
       "5. (k -> {v(k) if k in {0 .. 2^{t}}.)\n",
       "   core type: ExprTuple\n",
       "   sub-expressions: 8\n",
       "6. Sum\n",
       "   core type: Literal\n",
       "   sub-expressions: \n",
       "7. (k -> {v(k - (-1)) if k in {0 - 1 .. 2^{t} - 1}.)\n",
       "   core type: ExprTuple\n",
       "   sub-expressions: 9\n",
       "8. k -> {v(k) if k in {0 .. 2^{t}}.\n",
       "   core type: Lambda\n",
       "   parameter: 29\n",
       "   body: 10\n",
       "9. k -> {v(k - (-1)) if k in {0 - 1 .. 2^{t} - 1}.\n",
       "   core type: Lambda\n",
       "   parameter: 29\n",
       "   body: 11\n",
       "10. {v(k) if k in {0 .. 2^{t}}.\n",
       "    core type: Conditional\n",
       "    value: 12\n",
       "    condition: 13\n",
       "11. {v(k - (-1)) if k in {0 - 1 .. 2^{t} - 1}.\n",
       "    core type: Conditional\n",
       "    value: 14\n",
       "    condition: 15\n",
       "12. v(k)\n",
       "    core type: Operation\n",
       "    operator: 18\n",
       "    operand: 29\n",
       "13. k in {0 .. 2^{t}}\n",
       "    core type: Operation\n",
       "    operator: 20\n",
       "    operands: 17\n",
       "14. v(k - (-1))\n",
       "    core type: Operation\n",
       "    operator: 18\n",
       "    operand: 23\n",
       "15. k in {0 - 1 .. 2^{t} - 1}\n",
       "    core type: Operation\n",
       "    operator: 20\n",
       "    operands: 21\n",
       "16. (k)\n",
       "    core type: ExprTuple\n",
       "    sub-expressions: 29\n",
       "17. (k, {0 .. 2^{t}})\n",
       "    core type: ExprTuple\n",
       "    sub-expressions: 29, 22\n",
       "18. v\n",
       "    core type: Variable\n",
       "    sub-expressions: \n",
       "19. (k - (-1))\n",
       "    core type: ExprTuple\n",
       "    sub-expressions: 23\n",
       "20. in\n",
       "    core type: Literal\n",
       "    sub-expressions: \n",
       "21. (k, {0 - 1 .. 2^{t} - 1})\n",
       "    core type: ExprTuple\n",
       "    sub-expressions: 29, 24\n",
       "22. {0 .. 2^{t}}\n",
       "    core type: Operation\n",
       "    operator: 27\n",
       "    operands: 25\n",
       "23. k - (-1)\n",
       "    core type: Operation\n",
       "    operator: 35\n",
       "    operands: 26\n",
       "24. {0 - 1 .. 2^{t} - 1}\n",
       "    core type: Operation\n",
       "    operator: 27\n",
       "    operands: 28\n",
       "25. (0, 2^{t})\n",
       "    core type: ExprTuple\n",
       "    sub-expressions: 37, 38\n",
       "26. (k, -(-1))\n",
       "    core type: ExprTuple\n",
       "    sub-expressions: 29, 30\n",
       "27. Interval\n",
       "    core type: Literal\n",
       "    sub-expressions: \n",
       "28. (0 - 1, 2^{t} - 1)\n",
       "    core type: ExprTuple\n",
       "    sub-expressions: 31, 32\n",
       "29. k\n",
       "    core type: Variable\n",
       "    sub-expressions: \n",
       "30. -(-1)\n",
       "    core type: Operation\n",
       "    operator: 42\n",
       "    operand: 39\n",
       "31. 0 - 1\n",
       "    core type: Operation\n",
       "    operator: 35\n",
       "    operands: 34\n",
       "32. 2^{t} - 1\n",
       "    core type: Operation\n",
       "    operator: 35\n",
       "    operands: 36\n",
       "33. (-1)\n",
       "    core type: ExprTuple\n",
       "    sub-expressions: 39\n",
       "34. (0, -1)\n",
       "    core type: ExprTuple\n",
       "    sub-expressions: 37, 39\n",
       "35. +\n",
       "    core type: Literal\n",
       "    sub-expressions: \n",
       "36. (2^{t}, -1)\n",
       "    core type: ExprTuple\n",
       "    sub-expressions: 38, 39\n",
       "37. 0\n",
       "    core type: Literal\n",
       "    sub-expressions: \n",
       "38. 2^{t}\n",
       "    core type: Operation\n",
       "    operator: 40\n",
       "    operands: 41\n",
       "39. -1\n",
       "    core type: Operation\n",
       "    operator: 42\n",
       "    operand: 46\n",
       "40. Exp\n",
       "    core type: Literal\n",
       "    sub-expressions: \n",
       "41. (2, t)\n",
       "    core type: ExprTuple\n",
       "    sub-expressions: 44, 45\n",
       "42. -\n",
       "    core type: Literal\n",
       "    sub-expressions: \n",
       "43. (1)\n",
       "    core type: ExprTuple\n",
       "    sub-expressions: 46\n",
       "44. 2\n",
       "    core type: Literal\n",
       "    sub-expressions: \n",
       "45. t\n",
       "    core type: Variable\n",
       "    sub-expressions: \n",
       "46. 1\n",
       "    core type: Literal\n",
       "    sub-expressions: "
      ]
     },
     "metadata": {},
     "output_type": "display_data"
    }
   ],
   "source": [
    "# display the expression information\n",
    "stored_expr.expr_info()"
   ]
  },
  {
   "cell_type": "code",
   "execution_count": null,
   "metadata": {},
   "outputs": [],
   "source": []
  }
 ],
 "metadata": {
  "kernelspec": {
   "display_name": "Python 3",
   "language": "python",
   "name": "python3"
  }
 },
 "nbformat": 4,
 "nbformat_minor": 0
}