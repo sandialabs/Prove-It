{
 "cells": [
  {
   "cell_type": "markdown",
   "metadata": {},
   "source": [
    "Show the Proof\n",
    "========"
   ]
  },
  {
   "cell_type": "code",
   "execution_count": 1,
   "metadata": {},
   "outputs": [
    {
     "data": {
      "text/html": [
       "<table><tr><th>&nbsp;</th><th>step type</th><th>requirements</th><th>statement</th></tr>\n",
       "<tr><td><a name=\"proveit.linear_algebra.addition.demonstrations.62cf8e50ccf92df0be39d719845fa32f8da21a8b0_step0\">0</a></td><td>instantiation</td><td><a href=\"#proveit.linear_algebra.addition.demonstrations.62cf8e50ccf92df0be39d719845fa32f8da21a8b0_step1\">1</a>, <a href=\"#proveit.linear_algebra.addition.demonstrations.62cf8e50ccf92df0be39d719845fa32f8da21a8b0_step2\">2</a></td><td><span style=\"font-size:20px;\"><a class=\"ProveItLink\" href=\"../124d3aeb61e5b8df7c7a20e1fcfec96a1783f0d80/expr.ipynb\"><img src=\"../124d3aeb61e5b8df7c7a20e1fcfec96a1783f0d80/expr.png\" style=\"display:inline;vertical-align:middle;\" /></a> <a class=\"ProveItLink\" href=\"proof.ipynb\" style=\"text-decoration: none\">&nbsp;&#x22A2;&nbsp;&nbsp;</a><a class=\"ProveItLink\" href=\"../a804012f431ac5d8b426f8a55683646a18787da90/expr.ipynb\"><img src=\"../a804012f431ac5d8b426f8a55683646a18787da90/expr.png\" style=\"display:inline;vertical-align:middle;\" /></a></span></td></tr>\n",
       "<tr><td>&nbsp;</td><td colspan=4 style=\"text-align:left\"><span style=\"font-size:20px;\"><a class=\"ProveItLink\" href=\"../../../../../__pv_it/common/63b7c64bf9ec7a04ecc396c7a1670f3f12fb59490/expr.ipynb\"><img src=\"../../../../../__pv_it/common/63b7c64bf9ec7a04ecc396c7a1670f3f12fb59490/expr.png\" style=\"display:inline;vertical-align:middle;\" /></a> : <a class=\"ProveItLink\" href=\"../../../../../numbers/numerals/__pv_it/common/dd4e19e8b134dfb293470ea55fe3589b0ab9f8040/expr.ipynb\"><img src=\"../../../../../numbers/numerals/__pv_it/common/dd4e19e8b134dfb293470ea55fe3589b0ab9f8040/expr.png\" style=\"display:inline;vertical-align:middle;\" /></a></span></td></tr><tr><td><a name=\"proveit.linear_algebra.addition.demonstrations.62cf8e50ccf92df0be39d719845fa32f8da21a8b0_step1\">1</a></td><td>assumption</td><td></td><td><span style=\"font-size:20px;\"><a class=\"ProveItLink\" href=\"../124d3aeb61e5b8df7c7a20e1fcfec96a1783f0d80/expr.ipynb\"><img src=\"../124d3aeb61e5b8df7c7a20e1fcfec96a1783f0d80/expr.png\" style=\"display:inline;vertical-align:middle;\" /></a> <a class=\"ProveItLink\" href=\"../3f2bd6f58e850ba30a65edc61f9da399c3e3f0360/proof.ipynb\" style=\"text-decoration: none\">&nbsp;&#x22A2;&nbsp;&nbsp;</a><a class=\"ProveItLink\" href=\"../124d3aeb61e5b8df7c7a20e1fcfec96a1783f0d80/expr.ipynb\"><img src=\"../124d3aeb61e5b8df7c7a20e1fcfec96a1783f0d80/expr.png\" style=\"display:inline;vertical-align:middle;\" /></a></span></td></tr>\n",
       "<tr><td><a name=\"proveit.linear_algebra.addition.demonstrations.62cf8e50ccf92df0be39d719845fa32f8da21a8b0_step2\">2</a></td><td>axiom</td><td></td><td><span style=\"font-size:20px;\"> <a class=\"ProveItLink\" href=\"../../../../../numbers/number_sets/natural_numbers/_theory_nbs_/axioms.ipynb#zero_in_nats\" style=\"text-decoration: none\">&nbsp;&#x22A2;&nbsp;&nbsp;</a><a class=\"ProveItLink\" href=\"../../../../../numbers/number_sets/natural_numbers/__pv_it/axioms/6bc27fa16ea1c04bf3d4c776d5c721085150bfa20/expr.ipynb\"><img src=\"../../../../../numbers/number_sets/natural_numbers/__pv_it/axioms/6bc27fa16ea1c04bf3d4c776d5c721085150bfa20/expr.png\" style=\"display:inline;vertical-align:middle;\" /></a></span></td></tr>\n",
       "<tr><td>&nbsp;</td><td colspan=4 style-\"text-align:left\"><a class=\"ProveItLink\" href=\"../../../../../numbers/number_sets/natural_numbers/_theory_nbs_/axioms.ipynb#zero_in_nats\">proveit.numbers.number_sets.natural_numbers.zero_in_nats</a></td></tr></table>"
      ],
      "text/plain": [
       "<proveit._core_.proof._ShowProof at 0x7fdcd69ee7b8>"
      ]
     },
     "execution_count": 1,
     "metadata": {},
     "output_type": "execute_result"
    }
   ],
   "source": [
    "import proveit\n",
    "# Automation is not needed when only showing a stored proof:\n",
    "proveit.defaults.automation = False # This will speed things up.\n",
    "proveit.defaults.inline_pngs = False # Makes files smaller.\n",
    "%show_proof"
   ]
  },
  {
   "cell_type": "code",
   "execution_count": null,
   "metadata": {},
   "outputs": [],
   "source": []
  }
 ],
 "metadata": {
  "kernelspec": {
   "display_name": "Python 3",
   "language": "python",
   "name": "python3"
  }
 },
 "nbformat": 4,
 "nbformat_minor": 0
}