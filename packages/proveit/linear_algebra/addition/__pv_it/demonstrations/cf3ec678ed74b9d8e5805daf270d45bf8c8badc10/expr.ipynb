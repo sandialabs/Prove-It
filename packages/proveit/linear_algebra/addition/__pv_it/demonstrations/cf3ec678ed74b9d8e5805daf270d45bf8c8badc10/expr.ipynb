{
 "cells": [
  {
   "cell_type": "markdown",
   "metadata": {},
   "source": [
    "Expression of type <a class=\"ProveItLink\" href=\"../../../../../../../doc/html/api/proveit.ExprTuple.html\">ExprTuple</a>\n",
    "=======================\n",
    "# from the theory of <a class=\"ProveItLink\" href=\"../../../_theory_nbs_/theory.ipynb\">proveit.linear_algebra.addition</a>"
   ]
  },
  {
   "cell_type": "code",
   "execution_count": 1,
   "metadata": {},
   "outputs": [],
   "source": [
    "import proveit\n",
    "# Automation is not needed when building an expression:\n",
    "proveit.defaults.automation = False # This will speed things up.\n",
    "proveit.defaults.inline_pngs = False # Makes files smaller.\n",
    "%load_expr # Load the stored expression as 'stored_expr'\n",
    "# import Expression classes needed to build the expression\n",
    "from proveit import ExprTuple, Function, N, k, v, vk\n",
    "from proveit.linear_algebra import ScalarMult, VecAdd, VecSum\n",
    "from proveit.numbers import Exp, Interval, Mult, e, i, one, pi, two, zero"
   ]
  },
  {
   "cell_type": "code",
   "execution_count": 2,
   "metadata": {},
   "outputs": [
    {
     "data": {
      "text/html": [
       "<strong id=\"expr\">expr:</strong> <a class=\"ProveItLink\" href=\"expr.ipynb\"><img src=\"expr.png\" style=\"display:inline;vertical-align:middle;\" /></a><br>"
      ],
      "text/plain": [
       "<IPython.core.display.HTML object>"
      ]
     },
     "metadata": {},
     "output_type": "display_data"
    }
   ],
   "source": [
    "# build up the expression from sub-expressions\n",
    "sub_expr1 = [k]\n",
    "sub_expr2 = ScalarMult(Exp(e, Mult(two, pi, i, k)), vk)\n",
    "expr = ExprTuple(VecSum(index_or_indices = sub_expr1, summand = sub_expr2, domain = Interval(zero, N)), VecAdd(Function(v, [zero]), VecSum(index_or_indices = sub_expr1, summand = sub_expr2, domain = Interval(one, N))))"
   ]
  },
  {
   "cell_type": "code",
   "execution_count": 3,
   "metadata": {},
   "outputs": [
    {
     "name": "stdout",
     "output_type": "stream",
     "text": [
      "Passed sanity check: expr matches stored_expr\n"
     ]
    }
   ],
   "source": [
    "# check that the built expression is the same as the stored expression\n",
    "assert expr == stored_expr\n",
    "assert expr._style_id == stored_expr._style_id\n",
    "print(\"Passed sanity check: expr matches stored_expr\")"
   ]
  },
  {
   "cell_type": "code",
   "execution_count": 4,
   "metadata": {},
   "outputs": [
    {
     "name": "stdout",
     "output_type": "stream",
     "text": [
      "\\left(\\sum_{k=0}^{N} \\left(\\mathsf{e}^{2 \\cdot \\pi \\cdot \\mathsf{i} \\cdot k} \\cdot v\\left(k\\right)\\right), v\\left(0\\right) + \\left(\\sum_{k=1}^{N} \\left(\\mathsf{e}^{2 \\cdot \\pi \\cdot \\mathsf{i} \\cdot k} \\cdot v\\left(k\\right)\\right)\\right)\\right)\n"
     ]
    }
   ],
   "source": [
    "# Show the LaTeX representation of the expression for convenience if you need it.\n",
    "print(stored_expr.latex())"
   ]
  },
  {
   "cell_type": "code",
   "execution_count": 5,
   "metadata": {},
   "outputs": [
    {
     "data": {
      "text/html": [
       "<table>\n",
       "<tr><th>name</th><th>description</th><th>default</th><th>current value</th><th>related methods</th></tr><tr><td>wrap_positions</td><td>position(s) at which wrapping is to occur; 'n' is after the nth comma.</td><td>()</td><td>()</td><td>('with_wrapping_at',)</td></tr>\n",
       "<tr><td>justification</td><td>if any wrap positions are set, justify to the 'left', 'center', or 'right'</td><td>left</td><td>left</td><td>('with_justification',)</td></tr>\n",
       "</table>\n"
      ],
      "text/plain": [
       "style name: wrap_positions\n",
       "description: position(s) at which wrapping is to occur; 'n' is after the nth comma.\n",
       "default: ()\n",
       "current value: ()\n",
       "related methods: ('with_wrapping_at',)\n",
       "style name: justification\n",
       "description: if any wrap positions are set, justify to the 'left', 'center', or 'right'\n",
       "default: left\n",
       "current value: left\n",
       "related methods: ('with_justification',)"
      ]
     },
     "metadata": {},
     "output_type": "display_data"
    }
   ],
   "source": [
    "stored_expr.style_options()"
   ]
  },
  {
   "cell_type": "code",
   "execution_count": 6,
   "metadata": {},
   "outputs": [
    {
     "data": {
      "text/html": [
       "<table><tr><th>&nbsp;</th><th>core type</th><th>sub-expressions</th><th>expression</th></tr>\n",
       "<tr><td>0</td><td>ExprTuple</td><td>1, 2</td><td><a class=\"ProveItLink\" href=\"expr.ipynb\"><img src=\"expr.png\" style=\"display:inline;vertical-align:middle;\" /></a></td></tr>\n",
       "<tr><td>1</td><td>Operation</td><td>operator:&nbsp;11<br>operand:&nbsp;6<br></td><td><a class=\"ProveItLink\" href=\"../310153477104bce7209c717f948988a9e8272a7c0/expr.ipynb\"><img src=\"../310153477104bce7209c717f948988a9e8272a7c0/expr.png\" style=\"display:inline;vertical-align:middle;\" /></a></td></tr>\n",
       "<tr><td>2</td><td>Operation</td><td>operator:&nbsp;4<br>operands:&nbsp;5<br></td><td><a class=\"ProveItLink\" href=\"../95008a9e597f021e54bcfc34c8a9285a92f306990/expr.ipynb\"><img src=\"../95008a9e597f021e54bcfc34c8a9285a92f306990/expr.png\" style=\"display:inline;vertical-align:middle;\" /></a></td></tr>\n",
       "<tr><td>3</td><td>ExprTuple</td><td>6</td><td><a class=\"ProveItLink\" href=\"../4d47ee9c6c6e2a6a9334fc925fc3b83a7bfd79a40/expr.ipynb\"><img src=\"../4d47ee9c6c6e2a6a9334fc925fc3b83a7bfd79a40/expr.png\" style=\"display:inline;vertical-align:middle;\" /></a></td></tr>\n",
       "<tr><td>4</td><td>Literal</td><td></td><td><a class=\"ProveItLink\" href=\"../../common/ac3c140c9094f065c7f7db15c94558731443639c0/expr.ipynb\"><img src=\"../../common/ac3c140c9094f065c7f7db15c94558731443639c0/expr.png\" style=\"display:inline;vertical-align:middle;\" /></a></td></tr>\n",
       "<tr><td>5</td><td>ExprTuple</td><td>7, 8</td><td><a class=\"ProveItLink\" href=\"../ae18813b4779be98d5dc98443636ab0c5434e4dd0/expr.ipynb\"><img src=\"../ae18813b4779be98d5dc98443636ab0c5434e4dd0/expr.png\" style=\"display:inline;vertical-align:middle;\" /></a></td></tr>\n",
       "<tr><td>6</td><td>Lambda</td><td>parameter:&nbsp;44<br>body:&nbsp;9<br></td><td><a class=\"ProveItLink\" href=\"../404303396c3341e62130d94d4eeaaa2cac6efeae0/expr.ipynb\"><img src=\"../404303396c3341e62130d94d4eeaaa2cac6efeae0/expr.png\" style=\"display:inline;vertical-align:middle;\" /></a></td></tr>\n",
       "<tr><td>7</td><td>Operation</td><td>operator:&nbsp;31<br>operand:&nbsp;25<br></td><td><a class=\"ProveItLink\" href=\"../80f53c144b92daff7621bf4da449e4ed45a120de0/expr.ipynb\"><img src=\"../80f53c144b92daff7621bf4da449e4ed45a120de0/expr.png\" style=\"display:inline;vertical-align:middle;\" /></a></td></tr>\n",
       "<tr><td>8</td><td>Operation</td><td>operator:&nbsp;11<br>operand:&nbsp;14<br></td><td><a class=\"ProveItLink\" href=\"../dc92271d5a89dd73244245c15cbf0974a5e5dfdb0/expr.ipynb\"><img src=\"../dc92271d5a89dd73244245c15cbf0974a5e5dfdb0/expr.png\" style=\"display:inline;vertical-align:middle;\" /></a></td></tr>\n",
       "<tr><td>9</td><td>Conditional</td><td>value:&nbsp;18<br>condition:&nbsp;13<br></td><td><a class=\"ProveItLink\" href=\"../725aa61f770b27a70fc6c55b7f5993bc8be2ea7f0/expr.ipynb\"><img src=\"../725aa61f770b27a70fc6c55b7f5993bc8be2ea7f0/expr.png\" style=\"display:inline;vertical-align:middle;\" /></a></td></tr>\n",
       "<tr><td>10</td><td>ExprTuple</td><td>25</td><td><a class=\"ProveItLink\" href=\"../../../../../numbers/number_sets/natural_numbers/__pv_it/common/2048ac4936a0fdafec65dc88dd04b24596ab2f8b0/expr.ipynb\"><img src=\"../../../../../numbers/number_sets/natural_numbers/__pv_it/common/2048ac4936a0fdafec65dc88dd04b24596ab2f8b0/expr.png\" style=\"display:inline;vertical-align:middle;\" /></a></td></tr>\n",
       "<tr><td>11</td><td>Literal</td><td></td><td><a class=\"ProveItLink\" href=\"../../common/62f73c830c62efb87627ede5678f282081cd0ce20/expr.ipynb\"><img src=\"../../common/62f73c830c62efb87627ede5678f282081cd0ce20/expr.png\" style=\"display:inline;vertical-align:middle;\" /></a></td></tr>\n",
       "<tr><td>12</td><td>ExprTuple</td><td>14</td><td><a class=\"ProveItLink\" href=\"../bc53b50ba08a407849f9fe744475a4e2cd6a570a0/expr.ipynb\"><img src=\"../bc53b50ba08a407849f9fe744475a4e2cd6a570a0/expr.png\" style=\"display:inline;vertical-align:middle;\" /></a></td></tr>\n",
       "<tr><td>13</td><td>Operation</td><td>operator:&nbsp;23<br>operands:&nbsp;15<br></td><td><a class=\"ProveItLink\" href=\"../d170e31ffdfe2593f18149091ccc59dcaee331ad0/expr.ipynb\"><img src=\"../d170e31ffdfe2593f18149091ccc59dcaee331ad0/expr.png\" style=\"display:inline;vertical-align:middle;\" /></a></td></tr>\n",
       "<tr><td>14</td><td>Lambda</td><td>parameter:&nbsp;44<br>body:&nbsp;16<br></td><td><a class=\"ProveItLink\" href=\"../e8b2be1b1e3fb3e9b32e046f33e59739e6bdb26f0/expr.ipynb\"><img src=\"../e8b2be1b1e3fb3e9b32e046f33e59739e6bdb26f0/expr.png\" style=\"display:inline;vertical-align:middle;\" /></a></td></tr>\n",
       "<tr><td>15</td><td>ExprTuple</td><td>44, 17</td><td><a class=\"ProveItLink\" href=\"../47b34cff402a68dd0a8d52cfa3fa984e5c4231610/expr.ipynb\"><img src=\"../47b34cff402a68dd0a8d52cfa3fa984e5c4231610/expr.png\" style=\"display:inline;vertical-align:middle;\" /></a></td></tr>\n",
       "<tr><td>16</td><td>Conditional</td><td>value:&nbsp;18<br>condition:&nbsp;19<br></td><td><a class=\"ProveItLink\" href=\"../634e68e629ae7bdbc64dd64ce91ec56d59b81d7f0/expr.ipynb\"><img src=\"../634e68e629ae7bdbc64dd64ce91ec56d59b81d7f0/expr.png\" style=\"display:inline;vertical-align:middle;\" /></a></td></tr>\n",
       "<tr><td>17</td><td>Operation</td><td>operator:&nbsp;33<br>operands:&nbsp;20<br></td><td><a class=\"ProveItLink\" href=\"../bca361d9a7b7f64f6a547ce391051b293f1e27b20/expr.ipynb\"><img src=\"../bca361d9a7b7f64f6a547ce391051b293f1e27b20/expr.png\" style=\"display:inline;vertical-align:middle;\" /></a></td></tr>\n",
       "<tr><td>18</td><td>Operation</td><td>operator:&nbsp;21<br>operands:&nbsp;22<br></td><td><a class=\"ProveItLink\" href=\"../500b91966aba3bdd8237c22702be9702fcc6623f0/expr.ipynb\"><img src=\"../500b91966aba3bdd8237c22702be9702fcc6623f0/expr.png\" style=\"display:inline;vertical-align:middle;\" /></a></td></tr>\n",
       "<tr><td>19</td><td>Operation</td><td>operator:&nbsp;23<br>operands:&nbsp;24<br></td><td><a class=\"ProveItLink\" href=\"../b735e114e3a5ebd1d0444cd00c80ba3816752ad50/expr.ipynb\"><img src=\"../b735e114e3a5ebd1d0444cd00c80ba3816752ad50/expr.png\" style=\"display:inline;vertical-align:middle;\" /></a></td></tr>\n",
       "<tr><td>20</td><td>ExprTuple</td><td>25, 38</td><td><a class=\"ProveItLink\" href=\"../03c08b357cc2112164cdb9f2bcf477a1a53975d10/expr.ipynb\"><img src=\"../03c08b357cc2112164cdb9f2bcf477a1a53975d10/expr.png\" style=\"display:inline;vertical-align:middle;\" /></a></td></tr>\n",
       "<tr><td>21</td><td>Literal</td><td></td><td><a class=\"ProveItLink\" href=\"../../../../scalar_multiplication/__pv_it/common/1e364bd471e6a29fcd358dd2d9cd990a1e6fedd40/expr.ipynb\"><img src=\"../../../../scalar_multiplication/__pv_it/common/1e364bd471e6a29fcd358dd2d9cd990a1e6fedd40/expr.png\" style=\"display:inline;vertical-align:middle;\" /></a></td></tr>\n",
       "<tr><td>22</td><td>ExprTuple</td><td>26, 27</td><td><a class=\"ProveItLink\" href=\"../feaf42a3eadd499548fb9d948a51e07fbc0b1b620/expr.ipynb\"><img src=\"../feaf42a3eadd499548fb9d948a51e07fbc0b1b620/expr.png\" style=\"display:inline;vertical-align:middle;\" /></a></td></tr>\n",
       "<tr><td>23</td><td>Literal</td><td></td><td><a class=\"ProveItLink\" href=\"../../../../../logic/sets/membership/__pv_it/common/477487d8796864d23d5810f83761435f25167f690/expr.ipynb\"><img src=\"../../../../../logic/sets/membership/__pv_it/common/477487d8796864d23d5810f83761435f25167f690/expr.png\" style=\"display:inline;vertical-align:middle;\" /></a></td></tr>\n",
       "<tr><td>24</td><td>ExprTuple</td><td>44, 28</td><td><a class=\"ProveItLink\" href=\"../1f715a241127d2ed9988d8c6fcc5bfb8b7d2be3f0/expr.ipynb\"><img src=\"../1f715a241127d2ed9988d8c6fcc5bfb8b7d2be3f0/expr.png\" style=\"display:inline;vertical-align:middle;\" /></a></td></tr>\n",
       "<tr><td>25</td><td>Literal</td><td></td><td><a class=\"ProveItLink\" href=\"../../../../../numbers/numerals/__pv_it/common/dd4e19e8b134dfb293470ea55fe3589b0ab9f8040/expr.ipynb\"><img src=\"../../../../../numbers/numerals/__pv_it/common/dd4e19e8b134dfb293470ea55fe3589b0ab9f8040/expr.png\" style=\"display:inline;vertical-align:middle;\" /></a></td></tr>\n",
       "<tr><td>26</td><td>Operation</td><td>operator:&nbsp;29<br>operands:&nbsp;30<br></td><td><a class=\"ProveItLink\" href=\"../eab1954220a74d66d3820afb8b83d0bba5e1d8360/expr.ipynb\"><img src=\"../eab1954220a74d66d3820afb8b83d0bba5e1d8360/expr.png\" style=\"display:inline;vertical-align:middle;\" /></a></td></tr>\n",
       "<tr><td>27</td><td>Operation</td><td>operator:&nbsp;31<br>operand:&nbsp;44<br></td><td><a class=\"ProveItLink\" href=\"../../../../../__pv_it/common/a6c8cdfc20753355349e3546933532a8b12e10850/expr.ipynb\"><img src=\"../../../../../__pv_it/common/a6c8cdfc20753355349e3546933532a8b12e10850/expr.png\" style=\"display:inline;vertical-align:middle;\" /></a></td></tr>\n",
       "<tr><td>28</td><td>Operation</td><td>operator:&nbsp;33<br>operands:&nbsp;34<br></td><td><a class=\"ProveItLink\" href=\"../11e60f11595a75c015f44c3c75c6e354741671230/expr.ipynb\"><img src=\"../11e60f11595a75c015f44c3c75c6e354741671230/expr.png\" style=\"display:inline;vertical-align:middle;\" /></a></td></tr>\n",
       "<tr><td>29</td><td>Literal</td><td></td><td><a class=\"ProveItLink\" href=\"../../../../../numbers/exponentiation/__pv_it/common/0ac37aca1e54c35c5cda09672df32d4f69f1f3020/expr.ipynb\"><img src=\"../../../../../numbers/exponentiation/__pv_it/common/0ac37aca1e54c35c5cda09672df32d4f69f1f3020/expr.png\" style=\"display:inline;vertical-align:middle;\" /></a></td></tr>\n",
       "<tr><td>30</td><td>ExprTuple</td><td>35, 36</td><td><a class=\"ProveItLink\" href=\"../6fadbd577ac88b79cbd5a0369318160dda418b110/expr.ipynb\"><img src=\"../6fadbd577ac88b79cbd5a0369318160dda418b110/expr.png\" style=\"display:inline;vertical-align:middle;\" /></a></td></tr>\n",
       "<tr><td>31</td><td>Variable</td><td></td><td><a class=\"ProveItLink\" href=\"../../../../../__pv_it/common/a4b9661da9b52dcebf59c5559fec8901f4df10750/expr.ipynb\"><img src=\"../../../../../__pv_it/common/a4b9661da9b52dcebf59c5559fec8901f4df10750/expr.png\" style=\"display:inline;vertical-align:middle;\" /></a></td></tr>\n",
       "<tr><td>32</td><td>ExprTuple</td><td>44</td><td><a class=\"ProveItLink\" href=\"../../../../../__pv_it/common/688b115fcd711144fb0bdcf2138b0bd26487dd890/expr.ipynb\"><img src=\"../../../../../__pv_it/common/688b115fcd711144fb0bdcf2138b0bd26487dd890/expr.png\" style=\"display:inline;vertical-align:middle;\" /></a></td></tr>\n",
       "<tr><td>33</td><td>Literal</td><td></td><td><a class=\"ProveItLink\" href=\"../../../../../numbers/number_sets/integers/__pv_it/common/92f3a0a77e3c3ea8e4a5c8674edadc54e4f57d550/expr.ipynb\"><img src=\"../../../../../numbers/number_sets/integers/__pv_it/common/92f3a0a77e3c3ea8e4a5c8674edadc54e4f57d550/expr.png\" style=\"display:inline;vertical-align:middle;\" /></a></td></tr>\n",
       "<tr><td>34</td><td>ExprTuple</td><td>37, 38</td><td><a class=\"ProveItLink\" href=\"../25b73763d8afdbd58821c3fadaaf9e26cba54a990/expr.ipynb\"><img src=\"../25b73763d8afdbd58821c3fadaaf9e26cba54a990/expr.png\" style=\"display:inline;vertical-align:middle;\" /></a></td></tr>\n",
       "<tr><td>35</td><td>Literal</td><td></td><td><a class=\"ProveItLink\" href=\"../../../../../numbers/number_sets/real_numbers/__pv_it/common/e531ffa54fd897084533764a4a14f19f590674f80/expr.ipynb\"><img src=\"../../../../../numbers/number_sets/real_numbers/__pv_it/common/e531ffa54fd897084533764a4a14f19f590674f80/expr.png\" style=\"display:inline;vertical-align:middle;\" /></a></td></tr>\n",
       "<tr><td>36</td><td>Operation</td><td>operator:&nbsp;39<br>operands:&nbsp;40<br></td><td><a class=\"ProveItLink\" href=\"../ab1a1cd07154b1505e36822d7b9aed8d158a5afe0/expr.ipynb\"><img src=\"../ab1a1cd07154b1505e36822d7b9aed8d158a5afe0/expr.png\" style=\"display:inline;vertical-align:middle;\" /></a></td></tr>\n",
       "<tr><td>37</td><td>Literal</td><td></td><td><a class=\"ProveItLink\" href=\"../../../../../numbers/numerals/__pv_it/common/682157d4892d216d9e5626ed533aff9b56b9506e0/expr.ipynb\"><img src=\"../../../../../numbers/numerals/__pv_it/common/682157d4892d216d9e5626ed533aff9b56b9506e0/expr.png\" style=\"display:inline;vertical-align:middle;\" /></a></td></tr>\n",
       "<tr><td>38</td><td>Variable</td><td></td><td><a class=\"ProveItLink\" href=\"../../../../../__pv_it/common/ec2f9d003f907f9688d46f19f6df289e52cc63ce0/expr.ipynb\"><img src=\"../../../../../__pv_it/common/ec2f9d003f907f9688d46f19f6df289e52cc63ce0/expr.png\" style=\"display:inline;vertical-align:middle;\" /></a></td></tr>\n",
       "<tr><td>39</td><td>Literal</td><td></td><td><a class=\"ProveItLink\" href=\"../../../../../numbers/multiplication/__pv_it/common/ed719cef37831779c16481533a4d380a2f95ab270/expr.ipynb\"><img src=\"../../../../../numbers/multiplication/__pv_it/common/ed719cef37831779c16481533a4d380a2f95ab270/expr.png\" style=\"display:inline;vertical-align:middle;\" /></a></td></tr>\n",
       "<tr><td>40</td><td>ExprTuple</td><td>41, 42, 43, 44</td><td><a class=\"ProveItLink\" href=\"../484f2e8a5960dc0ea813e60925bcc838d05be5a40/expr.ipynb\"><img src=\"../484f2e8a5960dc0ea813e60925bcc838d05be5a40/expr.png\" style=\"display:inline;vertical-align:middle;\" /></a></td></tr>\n",
       "<tr><td>41</td><td>Literal</td><td></td><td><a class=\"ProveItLink\" href=\"../../../../../numbers/numerals/__pv_it/common/af4aab8a07465db063742696e006d04670f30cf10/expr.ipynb\"><img src=\"../../../../../numbers/numerals/__pv_it/common/af4aab8a07465db063742696e006d04670f30cf10/expr.png\" style=\"display:inline;vertical-align:middle;\" /></a></td></tr>\n",
       "<tr><td>42</td><td>Literal</td><td></td><td><a class=\"ProveItLink\" href=\"../../../../../numbers/number_sets/real_numbers/__pv_it/common/246c206266ac5b48800e508d580f91767b24c2df0/expr.ipynb\"><img src=\"../../../../../numbers/number_sets/real_numbers/__pv_it/common/246c206266ac5b48800e508d580f91767b24c2df0/expr.png\" style=\"display:inline;vertical-align:middle;\" /></a></td></tr>\n",
       "<tr><td>43</td><td>Literal</td><td></td><td><a class=\"ProveItLink\" href=\"../../../../../numbers/number_sets/complex_numbers/__pv_it/common/6c9cc69d472f352324c298b2318df233e9a7e0250/expr.ipynb\"><img src=\"../../../../../numbers/number_sets/complex_numbers/__pv_it/common/6c9cc69d472f352324c298b2318df233e9a7e0250/expr.png\" style=\"display:inline;vertical-align:middle;\" /></a></td></tr>\n",
       "<tr><td>44</td><td>Variable</td><td></td><td><a class=\"ProveItLink\" href=\"../../../../../__pv_it/common/63b7c64bf9ec7a04ecc396c7a1670f3f12fb59490/expr.ipynb\"><img src=\"../../../../../__pv_it/common/63b7c64bf9ec7a04ecc396c7a1670f3f12fb59490/expr.png\" style=\"display:inline;vertical-align:middle;\" /></a></td></tr>\n",
       "</table>\n"
      ],
      "text/plain": [
       "0. (Sum_{k=0}^{N} (e^{2 * pi * i * k} * v(k)), v(0) + (Sum_{k=1}^{N} (e^{2 * pi * i * k} * v(k))))\n",
       "   core type: ExprTuple\n",
       "   sub-expressions: 1, 2\n",
       "1. Sum_{k=0}^{N} (e^{2 * pi * i * k} * v(k))\n",
       "   core type: Operation\n",
       "   operator: 11\n",
       "   operand: 6\n",
       "2. v(0) + (Sum_{k=1}^{N} (e^{2 * pi * i * k} * v(k)))\n",
       "   core type: Operation\n",
       "   operator: 4\n",
       "   operands: 5\n",
       "3. (k -> {e^{2 * pi * i * k} * v(k) if k in {0 .. N}.)\n",
       "   core type: ExprTuple\n",
       "   sub-expressions: 6\n",
       "4. +\n",
       "   core type: Literal\n",
       "   sub-expressions: \n",
       "5. (v(0), Sum_{k=1}^{N} (e^{2 * pi * i * k} * v(k)))\n",
       "   core type: ExprTuple\n",
       "   sub-expressions: 7, 8\n",
       "6. k -> {e^{2 * pi * i * k} * v(k) if k in {0 .. N}.\n",
       "   core type: Lambda\n",
       "   parameter: 44\n",
       "   body: 9\n",
       "7. v(0)\n",
       "   core type: Operation\n",
       "   operator: 31\n",
       "   operand: 25\n",
       "8. Sum_{k=1}^{N} (e^{2 * pi * i * k} * v(k))\n",
       "   core type: Operation\n",
       "   operator: 11\n",
       "   operand: 14\n",
       "9. {e^{2 * pi * i * k} * v(k) if k in {0 .. N}.\n",
       "   core type: Conditional\n",
       "   value: 18\n",
       "   condition: 13\n",
       "10. (0)\n",
       "    core type: ExprTuple\n",
       "    sub-expressions: 25\n",
       "11. Sum\n",
       "    core type: Literal\n",
       "    sub-expressions: \n",
       "12. (k -> {e^{2 * pi * i * k} * v(k) if k in {1 .. N}.)\n",
       "    core type: ExprTuple\n",
       "    sub-expressions: 14\n",
       "13. k in {0 .. N}\n",
       "    core type: Operation\n",
       "    operator: 23\n",
       "    operands: 15\n",
       "14. k -> {e^{2 * pi * i * k} * v(k) if k in {1 .. N}.\n",
       "    core type: Lambda\n",
       "    parameter: 44\n",
       "    body: 16\n",
       "15. (k, {0 .. N})\n",
       "    core type: ExprTuple\n",
       "    sub-expressions: 44, 17\n",
       "16. {e^{2 * pi * i * k} * v(k) if k in {1 .. N}.\n",
       "    core type: Conditional\n",
       "    value: 18\n",
       "    condition: 19\n",
       "17. {0 .. N}\n",
       "    core type: Operation\n",
       "    operator: 33\n",
       "    operands: 20\n",
       "18. e^{2 * pi * i * k} * v(k)\n",
       "    core type: Operation\n",
       "    operator: 21\n",
       "    operands: 22\n",
       "19. k in {1 .. N}\n",
       "    core type: Operation\n",
       "    operator: 23\n",
       "    operands: 24\n",
       "20. (0, N)\n",
       "    core type: ExprTuple\n",
       "    sub-expressions: 25, 38\n",
       "21. *\n",
       "    core type: Literal\n",
       "    sub-expressions: \n",
       "22. (e^{2 * pi * i * k}, v(k))\n",
       "    core type: ExprTuple\n",
       "    sub-expressions: 26, 27\n",
       "23. in\n",
       "    core type: Literal\n",
       "    sub-expressions: \n",
       "24. (k, {1 .. N})\n",
       "    core type: ExprTuple\n",
       "    sub-expressions: 44, 28\n",
       "25. 0\n",
       "    core type: Literal\n",
       "    sub-expressions: \n",
       "26. e^{2 * pi * i * k}\n",
       "    core type: Operation\n",
       "    operator: 29\n",
       "    operands: 30\n",
       "27. v(k)\n",
       "    core type: Operation\n",
       "    operator: 31\n",
       "    operand: 44\n",
       "28. {1 .. N}\n",
       "    core type: Operation\n",
       "    operator: 33\n",
       "    operands: 34\n",
       "29. Exp\n",
       "    core type: Literal\n",
       "    sub-expressions: \n",
       "30. (e, 2 * pi * i * k)\n",
       "    core type: ExprTuple\n",
       "    sub-expressions: 35, 36\n",
       "31. v\n",
       "    core type: Variable\n",
       "    sub-expressions: \n",
       "32. (k)\n",
       "    core type: ExprTuple\n",
       "    sub-expressions: 44\n",
       "33. Interval\n",
       "    core type: Literal\n",
       "    sub-expressions: \n",
       "34. (1, N)\n",
       "    core type: ExprTuple\n",
       "    sub-expressions: 37, 38\n",
       "35. e\n",
       "    core type: Literal\n",
       "    sub-expressions: \n",
       "36. 2 * pi * i * k\n",
       "    core type: Operation\n",
       "    operator: 39\n",
       "    operands: 40\n",
       "37. 1\n",
       "    core type: Literal\n",
       "    sub-expressions: \n",
       "38. N\n",
       "    core type: Variable\n",
       "    sub-expressions: \n",
       "39. *\n",
       "    core type: Literal\n",
       "    sub-expressions: \n",
       "40. (2, pi, i, k)\n",
       "    core type: ExprTuple\n",
       "    sub-expressions: 41, 42, 43, 44\n",
       "41. 2\n",
       "    core type: Literal\n",
       "    sub-expressions: \n",
       "42. pi\n",
       "    core type: Literal\n",
       "    sub-expressions: \n",
       "43. i\n",
       "    core type: Literal\n",
       "    sub-expressions: \n",
       "44. k\n",
       "    core type: Variable\n",
       "    sub-expressions: "
      ]
     },
     "metadata": {},
     "output_type": "display_data"
    }
   ],
   "source": [
    "# display the expression information\n",
    "stored_expr.expr_info()"
   ]
  },
  {
   "cell_type": "code",
   "execution_count": null,
   "metadata": {},
   "outputs": [],
   "source": []
  }
 ],
 "metadata": {
  "kernelspec": {
   "display_name": "Python 3",
   "language": "python",
   "name": "python3"
  }
 },
 "nbformat": 4,
 "nbformat_minor": 0
}