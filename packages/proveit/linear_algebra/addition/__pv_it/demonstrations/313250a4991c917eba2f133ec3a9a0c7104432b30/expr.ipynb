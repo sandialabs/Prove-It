{
 "cells": [
  {
   "cell_type": "markdown",
   "metadata": {},
   "source": [
    "Expression of type <a class=\"ProveItLink\" href=\"../../../../../../../doc/html/api/proveit.logic.Equals.html\">Equals</a>\n",
    "=======================\n",
    "# from the theory of <a class=\"ProveItLink\" href=\"../../../_theory_nbs_/theory.ipynb\">proveit.linear_algebra.addition</a>"
   ]
  },
  {
   "cell_type": "code",
   "execution_count": 1,
   "metadata": {},
   "outputs": [],
   "source": [
    "import proveit\n",
    "# Automation is not needed when building an expression:\n",
    "proveit.defaults.automation = False # This will speed things up.\n",
    "proveit.defaults.inline_pngs = False # Makes files smaller.\n",
    "%load_expr # Load the stored expression as 'stored_expr'\n",
    "# import Expression classes needed to build the expression\n",
    "from proveit import i, vi\n",
    "from proveit.linear_algebra import VecAdd, VecSum\n",
    "from proveit.logic import Equals\n",
    "from proveit.numbers import Interval, eight, five, four, one"
   ]
  },
  {
   "cell_type": "code",
   "execution_count": 2,
   "metadata": {},
   "outputs": [
    {
     "data": {
      "text/html": [
       "<strong id=\"expr\">expr:</strong> <a class=\"ProveItLink\" href=\"expr.ipynb\"><img src=\"expr.png\" style=\"display:inline;vertical-align:middle;\" /></a><br>"
      ],
      "text/plain": [
       "<IPython.core.display.HTML object>"
      ]
     },
     "metadata": {},
     "output_type": "display_data"
    }
   ],
   "source": [
    "# build up the expression from sub-expressions\n",
    "sub_expr1 = [i]\n",
    "expr = Equals(VecSum(index_or_indices = sub_expr1, summand = vi, domain = Interval(one, eight)), VecAdd(VecSum(index_or_indices = sub_expr1, summand = vi, domain = Interval(one, four)), VecSum(index_or_indices = sub_expr1, summand = vi, domain = Interval(five, eight))))"
   ]
  },
  {
   "cell_type": "code",
   "execution_count": 3,
   "metadata": {},
   "outputs": [
    {
     "name": "stdout",
     "output_type": "stream",
     "text": [
      "Passed sanity check: expr matches stored_expr\n"
     ]
    }
   ],
   "source": [
    "# check that the built expression is the same as the stored expression\n",
    "assert expr == stored_expr\n",
    "assert expr._style_id == stored_expr._style_id\n",
    "print(\"Passed sanity check: expr matches stored_expr\")"
   ]
  },
  {
   "cell_type": "code",
   "execution_count": 4,
   "metadata": {},
   "outputs": [
    {
     "name": "stdout",
     "output_type": "stream",
     "text": [
      "\\left(\\sum_{i=1}^{8} v\\left(i\\right)\\right) = \\left(\\left(\\sum_{i=1}^{4} v\\left(i\\right)\\right) + \\left(\\sum_{i=5}^{8} v\\left(i\\right)\\right)\\right)\n"
     ]
    }
   ],
   "source": [
    "# Show the LaTeX representation of the expression for convenience if you need it.\n",
    "print(stored_expr.latex())"
   ]
  },
  {
   "cell_type": "code",
   "execution_count": 5,
   "metadata": {},
   "outputs": [
    {
     "data": {
      "text/html": [
       "<table>\n",
       "<tr><th>name</th><th>description</th><th>default</th><th>current value</th><th>related methods</th></tr><tr><td>operation</td><td>'infix' or 'function' style formatting</td><td>infix</td><td>infix</td><td></td></tr>\n",
       "<tr><td>wrap_positions</td><td>position(s) at which wrapping is to occur; '2 n - 1' is after the nth operand, '2 n' is after the nth operation.</td><td>()</td><td>()</td><td>('with_wrapping_at', 'with_wrap_before_operator', 'with_wrap_after_operator', 'without_wrapping', 'wrap_positions')</td></tr>\n",
       "<tr><td>justification</td><td>if any wrap positions are set, justify to the 'left', 'center', or 'right'</td><td>center</td><td>center</td><td>('with_justification',)</td></tr>\n",
       "<tr><td>direction</td><td>Direction of the relation (normal or reversed)</td><td>normal</td><td>normal</td><td>('with_direction_reversed', 'is_reversed')</td></tr>\n",
       "</table>\n"
      ],
      "text/plain": [
       "style name: operation\n",
       "description: 'infix' or 'function' style formatting\n",
       "default: infix\n",
       "current value: infix\n",
       "related methods: ()\n",
       "style name: wrap_positions\n",
       "description: position(s) at which wrapping is to occur; '2 n - 1' is after the nth operand, '2 n' is after the nth operation.\n",
       "default: ()\n",
       "current value: ()\n",
       "related methods: ('with_wrapping_at', 'with_wrap_before_operator', 'with_wrap_after_operator', 'without_wrapping', 'wrap_positions')\n",
       "style name: justification\n",
       "description: if any wrap positions are set, justify to the 'left', 'center', or 'right'\n",
       "default: center\n",
       "current value: center\n",
       "related methods: ('with_justification',)\n",
       "style name: direction\n",
       "description: Direction of the relation (normal or reversed)\n",
       "default: normal\n",
       "current value: normal\n",
       "related methods: ('with_direction_reversed', 'is_reversed')"
      ]
     },
     "metadata": {},
     "output_type": "display_data"
    }
   ],
   "source": [
    "stored_expr.style_options()"
   ]
  },
  {
   "cell_type": "code",
   "execution_count": 6,
   "metadata": {},
   "outputs": [
    {
     "data": {
      "text/html": [
       "<table><tr><th>&nbsp;</th><th>core type</th><th>sub-expressions</th><th>expression</th></tr>\n",
       "<tr><td>0</td><td>Operation</td><td>operator:&nbsp;1<br>operands:&nbsp;2<br></td><td><a class=\"ProveItLink\" href=\"expr.ipynb\"><img src=\"expr.png\" style=\"display:inline;vertical-align:middle;\" /></a></td></tr>\n",
       "<tr><td>1</td><td>Literal</td><td></td><td><a class=\"ProveItLink\" href=\"../../../../../logic/equality/__pv_it/common/fb96dc12b2aa8801dda64d0132b396c63d1502bb0/expr.ipynb\"><img src=\"../../../../../logic/equality/__pv_it/common/fb96dc12b2aa8801dda64d0132b396c63d1502bb0/expr.png\" style=\"display:inline;vertical-align:middle;\" /></a></td></tr>\n",
       "<tr><td>2</td><td>ExprTuple</td><td>3, 4</td><td><a class=\"ProveItLink\" href=\"../6c0b8f402c497bfc196caf13419c84e4954a51010/expr.ipynb\"><img src=\"../6c0b8f402c497bfc196caf13419c84e4954a51010/expr.png\" style=\"display:inline;vertical-align:middle;\" /></a></td></tr>\n",
       "<tr><td>3</td><td>Operation</td><td>operator:&nbsp;13<br>operand:&nbsp;8<br></td><td><a class=\"ProveItLink\" href=\"../c74922adc24e6eed7374d876b4c659adf1230b210/expr.ipynb\"><img src=\"../c74922adc24e6eed7374d876b4c659adf1230b210/expr.png\" style=\"display:inline;vertical-align:middle;\" /></a></td></tr>\n",
       "<tr><td>4</td><td>Operation</td><td>operator:&nbsp;6<br>operands:&nbsp;7<br></td><td><a class=\"ProveItLink\" href=\"../b8315ff30420684b7bbc1d7381cd29d9ce4793b50/expr.ipynb\"><img src=\"../b8315ff30420684b7bbc1d7381cd29d9ce4793b50/expr.png\" style=\"display:inline;vertical-align:middle;\" /></a></td></tr>\n",
       "<tr><td>5</td><td>ExprTuple</td><td>8</td><td><a class=\"ProveItLink\" href=\"../15d24c32710693aa2759f0256d8d0dbf5020f6970/expr.ipynb\"><img src=\"../15d24c32710693aa2759f0256d8d0dbf5020f6970/expr.png\" style=\"display:inline;vertical-align:middle;\" /></a></td></tr>\n",
       "<tr><td>6</td><td>Literal</td><td></td><td><a class=\"ProveItLink\" href=\"../../common/ac3c140c9094f065c7f7db15c94558731443639c0/expr.ipynb\"><img src=\"../../common/ac3c140c9094f065c7f7db15c94558731443639c0/expr.png\" style=\"display:inline;vertical-align:middle;\" /></a></td></tr>\n",
       "<tr><td>7</td><td>ExprTuple</td><td>9, 10</td><td><a class=\"ProveItLink\" href=\"../5c0bef88d8b4fcdcd1aa78801b77e74be10ec4d30/expr.ipynb\"><img src=\"../5c0bef88d8b4fcdcd1aa78801b77e74be10ec4d30/expr.png\" style=\"display:inline;vertical-align:middle;\" /></a></td></tr>\n",
       "<tr><td>8</td><td>Lambda</td><td>parameter:&nbsp;32<br>body:&nbsp;11<br></td><td><a class=\"ProveItLink\" href=\"../b90c743940b22fa9bc1bd2ba78bc64f3f7bb4cbd0/expr.ipynb\"><img src=\"../b90c743940b22fa9bc1bd2ba78bc64f3f7bb4cbd0/expr.png\" style=\"display:inline;vertical-align:middle;\" /></a></td></tr>\n",
       "<tr><td>9</td><td>Operation</td><td>operator:&nbsp;13<br>operand:&nbsp;16<br></td><td><a class=\"ProveItLink\" href=\"../973b44b44b17f943f64e27c74b2bd866bcb4b4680/expr.ipynb\"><img src=\"../973b44b44b17f943f64e27c74b2bd866bcb4b4680/expr.png\" style=\"display:inline;vertical-align:middle;\" /></a></td></tr>\n",
       "<tr><td>10</td><td>Operation</td><td>operator:&nbsp;13<br>operand:&nbsp;17<br></td><td><a class=\"ProveItLink\" href=\"../3316cac7bad510741b60839177863eef69c473c30/expr.ipynb\"><img src=\"../3316cac7bad510741b60839177863eef69c473c30/expr.png\" style=\"display:inline;vertical-align:middle;\" /></a></td></tr>\n",
       "<tr><td>11</td><td>Conditional</td><td>value:&nbsp;23<br>condition:&nbsp;15<br></td><td><a class=\"ProveItLink\" href=\"../96217f12c76158275e13bebf4b34b202415dc85d0/expr.ipynb\"><img src=\"../96217f12c76158275e13bebf4b34b202415dc85d0/expr.png\" style=\"display:inline;vertical-align:middle;\" /></a></td></tr>\n",
       "<tr><td>12</td><td>ExprTuple</td><td>16</td><td><a class=\"ProveItLink\" href=\"../5d71dc0f1843751b5d3c042314bb26de28fa7f960/expr.ipynb\"><img src=\"../5d71dc0f1843751b5d3c042314bb26de28fa7f960/expr.png\" style=\"display:inline;vertical-align:middle;\" /></a></td></tr>\n",
       "<tr><td>13</td><td>Literal</td><td></td><td><a class=\"ProveItLink\" href=\"../../common/62f73c830c62efb87627ede5678f282081cd0ce20/expr.ipynb\"><img src=\"../../common/62f73c830c62efb87627ede5678f282081cd0ce20/expr.png\" style=\"display:inline;vertical-align:middle;\" /></a></td></tr>\n",
       "<tr><td>14</td><td>ExprTuple</td><td>17</td><td><a class=\"ProveItLink\" href=\"../dcc0bee377b4ef758a753d3529f11c13ff576bc20/expr.ipynb\"><img src=\"../dcc0bee377b4ef758a753d3529f11c13ff576bc20/expr.png\" style=\"display:inline;vertical-align:middle;\" /></a></td></tr>\n",
       "<tr><td>15</td><td>Operation</td><td>operator:&nbsp;29<br>operands:&nbsp;18<br></td><td><a class=\"ProveItLink\" href=\"../24704331743fd73e1d21aa0ede10002ba4ffbb220/expr.ipynb\"><img src=\"../24704331743fd73e1d21aa0ede10002ba4ffbb220/expr.png\" style=\"display:inline;vertical-align:middle;\" /></a></td></tr>\n",
       "<tr><td>16</td><td>Lambda</td><td>parameter:&nbsp;32<br>body:&nbsp;19<br></td><td><a class=\"ProveItLink\" href=\"../15c8d6f1b808c73fe1bdf1425a7656295a3e7da50/expr.ipynb\"><img src=\"../15c8d6f1b808c73fe1bdf1425a7656295a3e7da50/expr.png\" style=\"display:inline;vertical-align:middle;\" /></a></td></tr>\n",
       "<tr><td>17</td><td>Lambda</td><td>parameter:&nbsp;32<br>body:&nbsp;20<br></td><td><a class=\"ProveItLink\" href=\"../6e8918b875d28a30f51a41b069da6895c481f5320/expr.ipynb\"><img src=\"../6e8918b875d28a30f51a41b069da6895c481f5320/expr.png\" style=\"display:inline;vertical-align:middle;\" /></a></td></tr>\n",
       "<tr><td>18</td><td>ExprTuple</td><td>32, 21</td><td><a class=\"ProveItLink\" href=\"../f1e5899f1f7d9119b84b9a365508e2e57a169a7a0/expr.ipynb\"><img src=\"../f1e5899f1f7d9119b84b9a365508e2e57a169a7a0/expr.png\" style=\"display:inline;vertical-align:middle;\" /></a></td></tr>\n",
       "<tr><td>19</td><td>Conditional</td><td>value:&nbsp;23<br>condition:&nbsp;22<br></td><td><a class=\"ProveItLink\" href=\"../0e8c6119d3b6ad405897bb49e6ef2e70ef3104470/expr.ipynb\"><img src=\"../0e8c6119d3b6ad405897bb49e6ef2e70ef3104470/expr.png\" style=\"display:inline;vertical-align:middle;\" /></a></td></tr>\n",
       "<tr><td>20</td><td>Conditional</td><td>value:&nbsp;23<br>condition:&nbsp;24<br></td><td><a class=\"ProveItLink\" href=\"../780bfca88450a8aab339b15ccb021bf4a465c4ce0/expr.ipynb\"><img src=\"../780bfca88450a8aab339b15ccb021bf4a465c4ce0/expr.png\" style=\"display:inline;vertical-align:middle;\" /></a></td></tr>\n",
       "<tr><td>21</td><td>Operation</td><td>operator:&nbsp;35<br>operands:&nbsp;25<br></td><td><a class=\"ProveItLink\" href=\"../0ca0d204f6f883c287ae6179a1726d32aedadb700/expr.ipynb\"><img src=\"../0ca0d204f6f883c287ae6179a1726d32aedadb700/expr.png\" style=\"display:inline;vertical-align:middle;\" /></a></td></tr>\n",
       "<tr><td>22</td><td>Operation</td><td>operator:&nbsp;29<br>operands:&nbsp;26<br></td><td><a class=\"ProveItLink\" href=\"../10510cecc9cd4feeb6bf7d83ec0f11100a4043280/expr.ipynb\"><img src=\"../10510cecc9cd4feeb6bf7d83ec0f11100a4043280/expr.png\" style=\"display:inline;vertical-align:middle;\" /></a></td></tr>\n",
       "<tr><td>23</td><td>Operation</td><td>operator:&nbsp;27<br>operand:&nbsp;32<br></td><td><a class=\"ProveItLink\" href=\"../../../../../__pv_it/common/f63b93109c631afbf6471ab6c2dc0807d57b8b890/expr.ipynb\"><img src=\"../../../../../__pv_it/common/f63b93109c631afbf6471ab6c2dc0807d57b8b890/expr.png\" style=\"display:inline;vertical-align:middle;\" /></a></td></tr>\n",
       "<tr><td>24</td><td>Operation</td><td>operator:&nbsp;29<br>operands:&nbsp;30<br></td><td><a class=\"ProveItLink\" href=\"../484d53acb2d420ac64ff5f0c3caed0e989036d600/expr.ipynb\"><img src=\"../484d53acb2d420ac64ff5f0c3caed0e989036d600/expr.png\" style=\"display:inline;vertical-align:middle;\" /></a></td></tr>\n",
       "<tr><td>25</td><td>ExprTuple</td><td>37, 40</td><td><a class=\"ProveItLink\" href=\"../9426e578af553a53a4d3fcedbeec82718cfd21f50/expr.ipynb\"><img src=\"../9426e578af553a53a4d3fcedbeec82718cfd21f50/expr.png\" style=\"display:inline;vertical-align:middle;\" /></a></td></tr>\n",
       "<tr><td>26</td><td>ExprTuple</td><td>32, 31</td><td><a class=\"ProveItLink\" href=\"../3d5d50fdb7787bb97e97ce8fb6839e1dc9b718220/expr.ipynb\"><img src=\"../3d5d50fdb7787bb97e97ce8fb6839e1dc9b718220/expr.png\" style=\"display:inline;vertical-align:middle;\" /></a></td></tr>\n",
       "<tr><td>27</td><td>Variable</td><td></td><td><a class=\"ProveItLink\" href=\"../../../../../__pv_it/common/a4b9661da9b52dcebf59c5559fec8901f4df10750/expr.ipynb\"><img src=\"../../../../../__pv_it/common/a4b9661da9b52dcebf59c5559fec8901f4df10750/expr.png\" style=\"display:inline;vertical-align:middle;\" /></a></td></tr>\n",
       "<tr><td>28</td><td>ExprTuple</td><td>32</td><td><a class=\"ProveItLink\" href=\"../../../../../__pv_it/common/3b7d7ace2ced0a8261ea4d18d03aaf49e434d69d0/expr.ipynb\"><img src=\"../../../../../__pv_it/common/3b7d7ace2ced0a8261ea4d18d03aaf49e434d69d0/expr.png\" style=\"display:inline;vertical-align:middle;\" /></a></td></tr>\n",
       "<tr><td>29</td><td>Literal</td><td></td><td><a class=\"ProveItLink\" href=\"../../../../../logic/sets/membership/__pv_it/common/477487d8796864d23d5810f83761435f25167f690/expr.ipynb\"><img src=\"../../../../../logic/sets/membership/__pv_it/common/477487d8796864d23d5810f83761435f25167f690/expr.png\" style=\"display:inline;vertical-align:middle;\" /></a></td></tr>\n",
       "<tr><td>30</td><td>ExprTuple</td><td>32, 33</td><td><a class=\"ProveItLink\" href=\"../1666f6a6b382f35aef853416c64c87ade29163810/expr.ipynb\"><img src=\"../1666f6a6b382f35aef853416c64c87ade29163810/expr.png\" style=\"display:inline;vertical-align:middle;\" /></a></td></tr>\n",
       "<tr><td>31</td><td>Operation</td><td>operator:&nbsp;35<br>operands:&nbsp;34<br></td><td><a class=\"ProveItLink\" href=\"../1a63794e3ea2d930c4b564980a9b9e16024bfce50/expr.ipynb\"><img src=\"../1a63794e3ea2d930c4b564980a9b9e16024bfce50/expr.png\" style=\"display:inline;vertical-align:middle;\" /></a></td></tr>\n",
       "<tr><td>32</td><td>Variable</td><td></td><td><a class=\"ProveItLink\" href=\"../../../../../__pv_it/common/ae955345c83abf786c3aff8681cd5465beae262d0/expr.ipynb\"><img src=\"../../../../../__pv_it/common/ae955345c83abf786c3aff8681cd5465beae262d0/expr.png\" style=\"display:inline;vertical-align:middle;\" /></a></td></tr>\n",
       "<tr><td>33</td><td>Operation</td><td>operator:&nbsp;35<br>operands:&nbsp;36<br></td><td><a class=\"ProveItLink\" href=\"../75172e98a55502482f8b7daa8aaf5f0bf75efbc50/expr.ipynb\"><img src=\"../75172e98a55502482f8b7daa8aaf5f0bf75efbc50/expr.png\" style=\"display:inline;vertical-align:middle;\" /></a></td></tr>\n",
       "<tr><td>34</td><td>ExprTuple</td><td>37, 38</td><td><a class=\"ProveItLink\" href=\"../a43a308fb817d05559dafcdbb8017249ab78981a0/expr.ipynb\"><img src=\"../a43a308fb817d05559dafcdbb8017249ab78981a0/expr.png\" style=\"display:inline;vertical-align:middle;\" /></a></td></tr>\n",
       "<tr><td>35</td><td>Literal</td><td></td><td><a class=\"ProveItLink\" href=\"../../../../../numbers/number_sets/integers/__pv_it/common/92f3a0a77e3c3ea8e4a5c8674edadc54e4f57d550/expr.ipynb\"><img src=\"../../../../../numbers/number_sets/integers/__pv_it/common/92f3a0a77e3c3ea8e4a5c8674edadc54e4f57d550/expr.png\" style=\"display:inline;vertical-align:middle;\" /></a></td></tr>\n",
       "<tr><td>36</td><td>ExprTuple</td><td>39, 40</td><td><a class=\"ProveItLink\" href=\"../6323c68858e32926406cb03264c673ff925edadb0/expr.ipynb\"><img src=\"../6323c68858e32926406cb03264c673ff925edadb0/expr.png\" style=\"display:inline;vertical-align:middle;\" /></a></td></tr>\n",
       "<tr><td>37</td><td>Literal</td><td></td><td><a class=\"ProveItLink\" href=\"../../../../../numbers/numerals/__pv_it/common/682157d4892d216d9e5626ed533aff9b56b9506e0/expr.ipynb\"><img src=\"../../../../../numbers/numerals/__pv_it/common/682157d4892d216d9e5626ed533aff9b56b9506e0/expr.png\" style=\"display:inline;vertical-align:middle;\" /></a></td></tr>\n",
       "<tr><td>38</td><td>Literal</td><td></td><td><a class=\"ProveItLink\" href=\"../../../../../numbers/numerals/__pv_it/common/48a1d915c1e9490b9a94e5c77a208938d3ee20ce0/expr.ipynb\"><img src=\"../../../../../numbers/numerals/__pv_it/common/48a1d915c1e9490b9a94e5c77a208938d3ee20ce0/expr.png\" style=\"display:inline;vertical-align:middle;\" /></a></td></tr>\n",
       "<tr><td>39</td><td>Literal</td><td></td><td><a class=\"ProveItLink\" href=\"../../../../../numbers/numerals/__pv_it/common/16e9923976ab933f6783588485130530d25dafab0/expr.ipynb\"><img src=\"../../../../../numbers/numerals/__pv_it/common/16e9923976ab933f6783588485130530d25dafab0/expr.png\" style=\"display:inline;vertical-align:middle;\" /></a></td></tr>\n",
       "<tr><td>40</td><td>Literal</td><td></td><td><a class=\"ProveItLink\" href=\"../../../../../numbers/numerals/__pv_it/common/ceed6b354935ad1d236d250dc51c3b98bca3a8960/expr.ipynb\"><img src=\"../../../../../numbers/numerals/__pv_it/common/ceed6b354935ad1d236d250dc51c3b98bca3a8960/expr.png\" style=\"display:inline;vertical-align:middle;\" /></a></td></tr>\n",
       "</table>\n"
      ],
      "text/plain": [
       "0. (Sum_{i=1}^{8} v(i)) = ((Sum_{i=1}^{4} v(i)) + (Sum_{i=5}^{8} v(i)))\n",
       "   core type: Operation\n",
       "   operator: 1\n",
       "   operands: 2\n",
       "1. =\n",
       "   core type: Literal\n",
       "   sub-expressions: \n",
       "2. (Sum_{i=1}^{8} v(i), (Sum_{i=1}^{4} v(i)) + (Sum_{i=5}^{8} v(i)))\n",
       "   core type: ExprTuple\n",
       "   sub-expressions: 3, 4\n",
       "3. Sum_{i=1}^{8} v(i)\n",
       "   core type: Operation\n",
       "   operator: 13\n",
       "   operand: 8\n",
       "4. (Sum_{i=1}^{4} v(i)) + (Sum_{i=5}^{8} v(i))\n",
       "   core type: Operation\n",
       "   operator: 6\n",
       "   operands: 7\n",
       "5. (i -> {v(i) if i in {1 .. 8}.)\n",
       "   core type: ExprTuple\n",
       "   sub-expressions: 8\n",
       "6. +\n",
       "   core type: Literal\n",
       "   sub-expressions: \n",
       "7. (Sum_{i=1}^{4} v(i), Sum_{i=5}^{8} v(i))\n",
       "   core type: ExprTuple\n",
       "   sub-expressions: 9, 10\n",
       "8. i -> {v(i) if i in {1 .. 8}.\n",
       "   core type: Lambda\n",
       "   parameter: 32\n",
       "   body: 11\n",
       "9. Sum_{i=1}^{4} v(i)\n",
       "   core type: Operation\n",
       "   operator: 13\n",
       "   operand: 16\n",
       "10. Sum_{i=5}^{8} v(i)\n",
       "    core type: Operation\n",
       "    operator: 13\n",
       "    operand: 17\n",
       "11. {v(i) if i in {1 .. 8}.\n",
       "    core type: Conditional\n",
       "    value: 23\n",
       "    condition: 15\n",
       "12. (i -> {v(i) if i in {1 .. 4}.)\n",
       "    core type: ExprTuple\n",
       "    sub-expressions: 16\n",
       "13. Sum\n",
       "    core type: Literal\n",
       "    sub-expressions: \n",
       "14. (i -> {v(i) if i in {5 .. 8}.)\n",
       "    core type: ExprTuple\n",
       "    sub-expressions: 17\n",
       "15. i in {1 .. 8}\n",
       "    core type: Operation\n",
       "    operator: 29\n",
       "    operands: 18\n",
       "16. i -> {v(i) if i in {1 .. 4}.\n",
       "    core type: Lambda\n",
       "    parameter: 32\n",
       "    body: 19\n",
       "17. i -> {v(i) if i in {5 .. 8}.\n",
       "    core type: Lambda\n",
       "    parameter: 32\n",
       "    body: 20\n",
       "18. (i, {1 .. 8})\n",
       "    core type: ExprTuple\n",
       "    sub-expressions: 32, 21\n",
       "19. {v(i) if i in {1 .. 4}.\n",
       "    core type: Conditional\n",
       "    value: 23\n",
       "    condition: 22\n",
       "20. {v(i) if i in {5 .. 8}.\n",
       "    core type: Conditional\n",
       "    value: 23\n",
       "    condition: 24\n",
       "21. {1 .. 8}\n",
       "    core type: Operation\n",
       "    operator: 35\n",
       "    operands: 25\n",
       "22. i in {1 .. 4}\n",
       "    core type: Operation\n",
       "    operator: 29\n",
       "    operands: 26\n",
       "23. v(i)\n",
       "    core type: Operation\n",
       "    operator: 27\n",
       "    operand: 32\n",
       "24. i in {5 .. 8}\n",
       "    core type: Operation\n",
       "    operator: 29\n",
       "    operands: 30\n",
       "25. (1, 8)\n",
       "    core type: ExprTuple\n",
       "    sub-expressions: 37, 40\n",
       "26. (i, {1 .. 4})\n",
       "    core type: ExprTuple\n",
       "    sub-expressions: 32, 31\n",
       "27. v\n",
       "    core type: Variable\n",
       "    sub-expressions: \n",
       "28. (i)\n",
       "    core type: ExprTuple\n",
       "    sub-expressions: 32\n",
       "29. in\n",
       "    core type: Literal\n",
       "    sub-expressions: \n",
       "30. (i, {5 .. 8})\n",
       "    core type: ExprTuple\n",
       "    sub-expressions: 32, 33\n",
       "31. {1 .. 4}\n",
       "    core type: Operation\n",
       "    operator: 35\n",
       "    operands: 34\n",
       "32. i\n",
       "    core type: Variable\n",
       "    sub-expressions: \n",
       "33. {5 .. 8}\n",
       "    core type: Operation\n",
       "    operator: 35\n",
       "    operands: 36\n",
       "34. (1, 4)\n",
       "    core type: ExprTuple\n",
       "    sub-expressions: 37, 38\n",
       "35. Interval\n",
       "    core type: Literal\n",
       "    sub-expressions: \n",
       "36. (5, 8)\n",
       "    core type: ExprTuple\n",
       "    sub-expressions: 39, 40\n",
       "37. 1\n",
       "    core type: Literal\n",
       "    sub-expressions: \n",
       "38. 4\n",
       "    core type: Literal\n",
       "    sub-expressions: \n",
       "39. 5\n",
       "    core type: Literal\n",
       "    sub-expressions: \n",
       "40. 8\n",
       "    core type: Literal\n",
       "    sub-expressions: "
      ]
     },
     "metadata": {},
     "output_type": "display_data"
    }
   ],
   "source": [
    "# display the expression information\n",
    "stored_expr.expr_info()"
   ]
  },
  {
   "cell_type": "code",
   "execution_count": null,
   "metadata": {},
   "outputs": [],
   "source": []
  }
 ],
 "metadata": {
  "kernelspec": {
   "display_name": "Python 3",
   "language": "python",
   "name": "python3"
  }
 },
 "nbformat": 4,
 "nbformat_minor": 0
}