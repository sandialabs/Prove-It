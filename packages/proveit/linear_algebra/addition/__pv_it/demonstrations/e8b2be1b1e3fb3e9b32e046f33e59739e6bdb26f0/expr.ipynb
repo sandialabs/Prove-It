{
 "cells": [
  {
   "cell_type": "markdown",
   "metadata": {},
   "source": [
    "Expression of type <a class=\"ProveItLink\" href=\"../../../../../../../doc/html/api/proveit.Lambda.html\">Lambda</a>\n",
    "=======================\n",
    "# from the theory of <a class=\"ProveItLink\" href=\"../../../_theory_nbs_/theory.ipynb\">proveit.linear_algebra.addition</a>"
   ]
  },
  {
   "cell_type": "code",
   "execution_count": 1,
   "metadata": {},
   "outputs": [],
   "source": [
    "import proveit\n",
    "# Automation is not needed when building an expression:\n",
    "proveit.defaults.automation = False # This will speed things up.\n",
    "proveit.defaults.inline_pngs = False # Makes files smaller.\n",
    "%load_expr # Load the stored expression as 'stored_expr'\n",
    "# import Expression classes needed to build the expression\n",
    "from proveit import Conditional, Lambda, N, k, vk\n",
    "from proveit.linear_algebra import ScalarMult\n",
    "from proveit.logic import InSet\n",
    "from proveit.numbers import Exp, Interval, Mult, e, i, one, pi, two"
   ]
  },
  {
   "cell_type": "code",
   "execution_count": 2,
   "metadata": {},
   "outputs": [
    {
     "data": {
      "text/html": [
       "<strong id=\"expr\">expr:</strong> <a class=\"ProveItLink\" href=\"expr.ipynb\"><img src=\"expr.png\" style=\"display:inline;vertical-align:middle;\" /></a><br>"
      ],
      "text/plain": [
       "<IPython.core.display.HTML object>"
      ]
     },
     "metadata": {},
     "output_type": "display_data"
    }
   ],
   "source": [
    "# build up the expression from sub-expressions\n",
    "expr = Lambda(k, Conditional(ScalarMult(Exp(e, Mult(two, pi, i, k)), vk), InSet(k, Interval(one, N))))"
   ]
  },
  {
   "cell_type": "code",
   "execution_count": 3,
   "metadata": {},
   "outputs": [
    {
     "name": "stdout",
     "output_type": "stream",
     "text": [
      "Passed sanity check: expr matches stored_expr\n"
     ]
    }
   ],
   "source": [
    "# check that the built expression is the same as the stored expression\n",
    "assert expr == stored_expr\n",
    "assert expr._style_id == stored_expr._style_id\n",
    "print(\"Passed sanity check: expr matches stored_expr\")"
   ]
  },
  {
   "cell_type": "code",
   "execution_count": 4,
   "metadata": {},
   "outputs": [
    {
     "name": "stdout",
     "output_type": "stream",
     "text": [
      "k \\mapsto \\left\\{\\mathsf{e}^{2 \\cdot \\pi \\cdot \\mathsf{i} \\cdot k} \\cdot v\\left(k\\right) \\textrm{ if } k \\in \\{1~\\ldotp \\ldotp~N\\}\\right..\n"
     ]
    }
   ],
   "source": [
    "# Show the LaTeX representation of the expression for convenience if you need it.\n",
    "print(stored_expr.latex())"
   ]
  },
  {
   "cell_type": "code",
   "execution_count": 5,
   "metadata": {},
   "outputs": [
    {
     "data": {
      "text/html": [
       "no style options"
      ],
      "text/plain": [
       "no style options"
      ]
     },
     "metadata": {},
     "output_type": "display_data"
    }
   ],
   "source": [
    "stored_expr.style_options()"
   ]
  },
  {
   "cell_type": "code",
   "execution_count": 6,
   "metadata": {},
   "outputs": [
    {
     "data": {
      "text/html": [
       "<table><tr><th>&nbsp;</th><th>core type</th><th>sub-expressions</th><th>expression</th></tr>\n",
       "<tr><td>0</td><td>Lambda</td><td>parameter:&nbsp;26<br>body:&nbsp;1<br></td><td><a class=\"ProveItLink\" href=\"expr.ipynb\"><img src=\"expr.png\" style=\"display:inline;vertical-align:middle;\" /></a></td></tr>\n",
       "<tr><td>1</td><td>Conditional</td><td>value:&nbsp;2<br>condition:&nbsp;3<br></td><td><a class=\"ProveItLink\" href=\"../634e68e629ae7bdbc64dd64ce91ec56d59b81d7f0/expr.ipynb\"><img src=\"../634e68e629ae7bdbc64dd64ce91ec56d59b81d7f0/expr.png\" style=\"display:inline;vertical-align:middle;\" /></a></td></tr>\n",
       "<tr><td>2</td><td>Operation</td><td>operator:&nbsp;4<br>operands:&nbsp;5<br></td><td><a class=\"ProveItLink\" href=\"../500b91966aba3bdd8237c22702be9702fcc6623f0/expr.ipynb\"><img src=\"../500b91966aba3bdd8237c22702be9702fcc6623f0/expr.png\" style=\"display:inline;vertical-align:middle;\" /></a></td></tr>\n",
       "<tr><td>3</td><td>Operation</td><td>operator:&nbsp;6<br>operands:&nbsp;7<br></td><td><a class=\"ProveItLink\" href=\"../b735e114e3a5ebd1d0444cd00c80ba3816752ad50/expr.ipynb\"><img src=\"../b735e114e3a5ebd1d0444cd00c80ba3816752ad50/expr.png\" style=\"display:inline;vertical-align:middle;\" /></a></td></tr>\n",
       "<tr><td>4</td><td>Literal</td><td></td><td><a class=\"ProveItLink\" href=\"../../../../scalar_multiplication/__pv_it/common/1e364bd471e6a29fcd358dd2d9cd990a1e6fedd40/expr.ipynb\"><img src=\"../../../../scalar_multiplication/__pv_it/common/1e364bd471e6a29fcd358dd2d9cd990a1e6fedd40/expr.png\" style=\"display:inline;vertical-align:middle;\" /></a></td></tr>\n",
       "<tr><td>5</td><td>ExprTuple</td><td>8, 9</td><td><a class=\"ProveItLink\" href=\"../feaf42a3eadd499548fb9d948a51e07fbc0b1b620/expr.ipynb\"><img src=\"../feaf42a3eadd499548fb9d948a51e07fbc0b1b620/expr.png\" style=\"display:inline;vertical-align:middle;\" /></a></td></tr>\n",
       "<tr><td>6</td><td>Literal</td><td></td><td><a class=\"ProveItLink\" href=\"../../../../../logic/sets/membership/__pv_it/common/477487d8796864d23d5810f83761435f25167f690/expr.ipynb\"><img src=\"../../../../../logic/sets/membership/__pv_it/common/477487d8796864d23d5810f83761435f25167f690/expr.png\" style=\"display:inline;vertical-align:middle;\" /></a></td></tr>\n",
       "<tr><td>7</td><td>ExprTuple</td><td>26, 10</td><td><a class=\"ProveItLink\" href=\"../1f715a241127d2ed9988d8c6fcc5bfb8b7d2be3f0/expr.ipynb\"><img src=\"../1f715a241127d2ed9988d8c6fcc5bfb8b7d2be3f0/expr.png\" style=\"display:inline;vertical-align:middle;\" /></a></td></tr>\n",
       "<tr><td>8</td><td>Operation</td><td>operator:&nbsp;11<br>operands:&nbsp;12<br></td><td><a class=\"ProveItLink\" href=\"../eab1954220a74d66d3820afb8b83d0bba5e1d8360/expr.ipynb\"><img src=\"../eab1954220a74d66d3820afb8b83d0bba5e1d8360/expr.png\" style=\"display:inline;vertical-align:middle;\" /></a></td></tr>\n",
       "<tr><td>9</td><td>Operation</td><td>operator:&nbsp;13<br>operand:&nbsp;26<br></td><td><a class=\"ProveItLink\" href=\"../../../../../__pv_it/common/a6c8cdfc20753355349e3546933532a8b12e10850/expr.ipynb\"><img src=\"../../../../../__pv_it/common/a6c8cdfc20753355349e3546933532a8b12e10850/expr.png\" style=\"display:inline;vertical-align:middle;\" /></a></td></tr>\n",
       "<tr><td>10</td><td>Operation</td><td>operator:&nbsp;15<br>operands:&nbsp;16<br></td><td><a class=\"ProveItLink\" href=\"../11e60f11595a75c015f44c3c75c6e354741671230/expr.ipynb\"><img src=\"../11e60f11595a75c015f44c3c75c6e354741671230/expr.png\" style=\"display:inline;vertical-align:middle;\" /></a></td></tr>\n",
       "<tr><td>11</td><td>Literal</td><td></td><td><a class=\"ProveItLink\" href=\"../../../../../numbers/exponentiation/__pv_it/common/0ac37aca1e54c35c5cda09672df32d4f69f1f3020/expr.ipynb\"><img src=\"../../../../../numbers/exponentiation/__pv_it/common/0ac37aca1e54c35c5cda09672df32d4f69f1f3020/expr.png\" style=\"display:inline;vertical-align:middle;\" /></a></td></tr>\n",
       "<tr><td>12</td><td>ExprTuple</td><td>17, 18</td><td><a class=\"ProveItLink\" href=\"../6fadbd577ac88b79cbd5a0369318160dda418b110/expr.ipynb\"><img src=\"../6fadbd577ac88b79cbd5a0369318160dda418b110/expr.png\" style=\"display:inline;vertical-align:middle;\" /></a></td></tr>\n",
       "<tr><td>13</td><td>Variable</td><td></td><td><a class=\"ProveItLink\" href=\"../../../../../__pv_it/common/a4b9661da9b52dcebf59c5559fec8901f4df10750/expr.ipynb\"><img src=\"../../../../../__pv_it/common/a4b9661da9b52dcebf59c5559fec8901f4df10750/expr.png\" style=\"display:inline;vertical-align:middle;\" /></a></td></tr>\n",
       "<tr><td>14</td><td>ExprTuple</td><td>26</td><td><a class=\"ProveItLink\" href=\"../../../../../__pv_it/common/688b115fcd711144fb0bdcf2138b0bd26487dd890/expr.ipynb\"><img src=\"../../../../../__pv_it/common/688b115fcd711144fb0bdcf2138b0bd26487dd890/expr.png\" style=\"display:inline;vertical-align:middle;\" /></a></td></tr>\n",
       "<tr><td>15</td><td>Literal</td><td></td><td><a class=\"ProveItLink\" href=\"../../../../../numbers/number_sets/integers/__pv_it/common/92f3a0a77e3c3ea8e4a5c8674edadc54e4f57d550/expr.ipynb\"><img src=\"../../../../../numbers/number_sets/integers/__pv_it/common/92f3a0a77e3c3ea8e4a5c8674edadc54e4f57d550/expr.png\" style=\"display:inline;vertical-align:middle;\" /></a></td></tr>\n",
       "<tr><td>16</td><td>ExprTuple</td><td>19, 20</td><td><a class=\"ProveItLink\" href=\"../25b73763d8afdbd58821c3fadaaf9e26cba54a990/expr.ipynb\"><img src=\"../25b73763d8afdbd58821c3fadaaf9e26cba54a990/expr.png\" style=\"display:inline;vertical-align:middle;\" /></a></td></tr>\n",
       "<tr><td>17</td><td>Literal</td><td></td><td><a class=\"ProveItLink\" href=\"../../../../../numbers/number_sets/real_numbers/__pv_it/common/e531ffa54fd897084533764a4a14f19f590674f80/expr.ipynb\"><img src=\"../../../../../numbers/number_sets/real_numbers/__pv_it/common/e531ffa54fd897084533764a4a14f19f590674f80/expr.png\" style=\"display:inline;vertical-align:middle;\" /></a></td></tr>\n",
       "<tr><td>18</td><td>Operation</td><td>operator:&nbsp;21<br>operands:&nbsp;22<br></td><td><a class=\"ProveItLink\" href=\"../ab1a1cd07154b1505e36822d7b9aed8d158a5afe0/expr.ipynb\"><img src=\"../ab1a1cd07154b1505e36822d7b9aed8d158a5afe0/expr.png\" style=\"display:inline;vertical-align:middle;\" /></a></td></tr>\n",
       "<tr><td>19</td><td>Literal</td><td></td><td><a class=\"ProveItLink\" href=\"../../../../../numbers/numerals/__pv_it/common/682157d4892d216d9e5626ed533aff9b56b9506e0/expr.ipynb\"><img src=\"../../../../../numbers/numerals/__pv_it/common/682157d4892d216d9e5626ed533aff9b56b9506e0/expr.png\" style=\"display:inline;vertical-align:middle;\" /></a></td></tr>\n",
       "<tr><td>20</td><td>Variable</td><td></td><td><a class=\"ProveItLink\" href=\"../../../../../__pv_it/common/ec2f9d003f907f9688d46f19f6df289e52cc63ce0/expr.ipynb\"><img src=\"../../../../../__pv_it/common/ec2f9d003f907f9688d46f19f6df289e52cc63ce0/expr.png\" style=\"display:inline;vertical-align:middle;\" /></a></td></tr>\n",
       "<tr><td>21</td><td>Literal</td><td></td><td><a class=\"ProveItLink\" href=\"../../../../../numbers/multiplication/__pv_it/common/ed719cef37831779c16481533a4d380a2f95ab270/expr.ipynb\"><img src=\"../../../../../numbers/multiplication/__pv_it/common/ed719cef37831779c16481533a4d380a2f95ab270/expr.png\" style=\"display:inline;vertical-align:middle;\" /></a></td></tr>\n",
       "<tr><td>22</td><td>ExprTuple</td><td>23, 24, 25, 26</td><td><a class=\"ProveItLink\" href=\"../484f2e8a5960dc0ea813e60925bcc838d05be5a40/expr.ipynb\"><img src=\"../484f2e8a5960dc0ea813e60925bcc838d05be5a40/expr.png\" style=\"display:inline;vertical-align:middle;\" /></a></td></tr>\n",
       "<tr><td>23</td><td>Literal</td><td></td><td><a class=\"ProveItLink\" href=\"../../../../../numbers/numerals/__pv_it/common/af4aab8a07465db063742696e006d04670f30cf10/expr.ipynb\"><img src=\"../../../../../numbers/numerals/__pv_it/common/af4aab8a07465db063742696e006d04670f30cf10/expr.png\" style=\"display:inline;vertical-align:middle;\" /></a></td></tr>\n",
       "<tr><td>24</td><td>Literal</td><td></td><td><a class=\"ProveItLink\" href=\"../../../../../numbers/number_sets/real_numbers/__pv_it/common/246c206266ac5b48800e508d580f91767b24c2df0/expr.ipynb\"><img src=\"../../../../../numbers/number_sets/real_numbers/__pv_it/common/246c206266ac5b48800e508d580f91767b24c2df0/expr.png\" style=\"display:inline;vertical-align:middle;\" /></a></td></tr>\n",
       "<tr><td>25</td><td>Literal</td><td></td><td><a class=\"ProveItLink\" href=\"../../../../../numbers/number_sets/complex_numbers/__pv_it/common/6c9cc69d472f352324c298b2318df233e9a7e0250/expr.ipynb\"><img src=\"../../../../../numbers/number_sets/complex_numbers/__pv_it/common/6c9cc69d472f352324c298b2318df233e9a7e0250/expr.png\" style=\"display:inline;vertical-align:middle;\" /></a></td></tr>\n",
       "<tr><td>26</td><td>Variable</td><td></td><td><a class=\"ProveItLink\" href=\"../../../../../__pv_it/common/63b7c64bf9ec7a04ecc396c7a1670f3f12fb59490/expr.ipynb\"><img src=\"../../../../../__pv_it/common/63b7c64bf9ec7a04ecc396c7a1670f3f12fb59490/expr.png\" style=\"display:inline;vertical-align:middle;\" /></a></td></tr>\n",
       "</table>\n"
      ],
      "text/plain": [
       "0. k -> {e^{2 * pi * i * k} * v(k) if k in {1 .. N}.\n",
       "   core type: Lambda\n",
       "   parameter: 26\n",
       "   body: 1\n",
       "1. {e^{2 * pi * i * k} * v(k) if k in {1 .. N}.\n",
       "   core type: Conditional\n",
       "   value: 2\n",
       "   condition: 3\n",
       "2. e^{2 * pi * i * k} * v(k)\n",
       "   core type: Operation\n",
       "   operator: 4\n",
       "   operands: 5\n",
       "3. k in {1 .. N}\n",
       "   core type: Operation\n",
       "   operator: 6\n",
       "   operands: 7\n",
       "4. *\n",
       "   core type: Literal\n",
       "   sub-expressions: \n",
       "5. (e^{2 * pi * i * k}, v(k))\n",
       "   core type: ExprTuple\n",
       "   sub-expressions: 8, 9\n",
       "6. in\n",
       "   core type: Literal\n",
       "   sub-expressions: \n",
       "7. (k, {1 .. N})\n",
       "   core type: ExprTuple\n",
       "   sub-expressions: 26, 10\n",
       "8. e^{2 * pi * i * k}\n",
       "   core type: Operation\n",
       "   operator: 11\n",
       "   operands: 12\n",
       "9. v(k)\n",
       "   core type: Operation\n",
       "   operator: 13\n",
       "   operand: 26\n",
       "10. {1 .. N}\n",
       "    core type: Operation\n",
       "    operator: 15\n",
       "    operands: 16\n",
       "11. Exp\n",
       "    core type: Literal\n",
       "    sub-expressions: \n",
       "12. (e, 2 * pi * i * k)\n",
       "    core type: ExprTuple\n",
       "    sub-expressions: 17, 18\n",
       "13. v\n",
       "    core type: Variable\n",
       "    sub-expressions: \n",
       "14. (k)\n",
       "    core type: ExprTuple\n",
       "    sub-expressions: 26\n",
       "15. Interval\n",
       "    core type: Literal\n",
       "    sub-expressions: \n",
       "16. (1, N)\n",
       "    core type: ExprTuple\n",
       "    sub-expressions: 19, 20\n",
       "17. e\n",
       "    core type: Literal\n",
       "    sub-expressions: \n",
       "18. 2 * pi * i * k\n",
       "    core type: Operation\n",
       "    operator: 21\n",
       "    operands: 22\n",
       "19. 1\n",
       "    core type: Literal\n",
       "    sub-expressions: \n",
       "20. N\n",
       "    core type: Variable\n",
       "    sub-expressions: \n",
       "21. *\n",
       "    core type: Literal\n",
       "    sub-expressions: \n",
       "22. (2, pi, i, k)\n",
       "    core type: ExprTuple\n",
       "    sub-expressions: 23, 24, 25, 26\n",
       "23. 2\n",
       "    core type: Literal\n",
       "    sub-expressions: \n",
       "24. pi\n",
       "    core type: Literal\n",
       "    sub-expressions: \n",
       "25. i\n",
       "    core type: Literal\n",
       "    sub-expressions: \n",
       "26. k\n",
       "    core type: Variable\n",
       "    sub-expressions: "
      ]
     },
     "metadata": {},
     "output_type": "display_data"
    }
   ],
   "source": [
    "# display the expression information\n",
    "stored_expr.expr_info()"
   ]
  },
  {
   "cell_type": "code",
   "execution_count": null,
   "metadata": {},
   "outputs": [],
   "source": []
  }
 ],
 "metadata": {
  "kernelspec": {
   "display_name": "Python 3",
   "language": "python",
   "name": "python3"
  }
 },
 "nbformat": 4,
 "nbformat_minor": 0
}