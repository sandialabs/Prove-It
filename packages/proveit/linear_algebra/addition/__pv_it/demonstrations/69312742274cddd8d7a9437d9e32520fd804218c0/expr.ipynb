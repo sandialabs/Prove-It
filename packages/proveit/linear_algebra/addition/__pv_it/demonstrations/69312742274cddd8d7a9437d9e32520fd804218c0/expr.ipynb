{
 "cells": [
  {
   "cell_type": "markdown",
   "metadata": {},
   "source": [
    "Expression of type <a class=\"ProveItLink\" href=\"../../../../../../../doc/html/api/proveit.ExprTuple.html\">ExprTuple</a>\n",
    "=======================\n",
    "# from the theory of <a class=\"ProveItLink\" href=\"../../../_theory_nbs_/theory.ipynb\">proveit.linear_algebra.addition</a>"
   ]
  },
  {
   "cell_type": "code",
   "execution_count": 1,
   "metadata": {},
   "outputs": [],
   "source": [
    "import proveit\n",
    "# Automation is not needed when building an expression:\n",
    "proveit.defaults.automation = False # This will speed things up.\n",
    "proveit.defaults.inline_pngs = False # Makes files smaller.\n",
    "%load_expr # Load the stored expression as 'stored_expr'\n",
    "# import Expression classes needed to build the expression\n",
    "from proveit import ExprTuple, i, vi\n",
    "from proveit.linear_algebra import VecAdd, VecSum\n",
    "from proveit.numbers import Interval, eight, five, one, six"
   ]
  },
  {
   "cell_type": "code",
   "execution_count": 2,
   "metadata": {},
   "outputs": [
    {
     "data": {
      "text/html": [
       "<strong id=\"expr\">expr:</strong> <a class=\"ProveItLink\" href=\"expr.ipynb\"><img src=\"expr.png\" style=\"display:inline;vertical-align:middle;\" /></a><br>"
      ],
      "text/plain": [
       "<IPython.core.display.HTML object>"
      ]
     },
     "metadata": {},
     "output_type": "display_data"
    }
   ],
   "source": [
    "# build up the expression from sub-expressions\n",
    "sub_expr1 = [i]\n",
    "expr = ExprTuple(VecSum(index_or_indices = sub_expr1, summand = vi, domain = Interval(one, eight)), VecAdd(VecSum(index_or_indices = sub_expr1, summand = vi, domain = Interval(one, five)), VecSum(index_or_indices = sub_expr1, summand = vi, domain = Interval(six, eight))))"
   ]
  },
  {
   "cell_type": "code",
   "execution_count": 3,
   "metadata": {},
   "outputs": [
    {
     "name": "stdout",
     "output_type": "stream",
     "text": [
      "Passed sanity check: expr matches stored_expr\n"
     ]
    }
   ],
   "source": [
    "# check that the built expression is the same as the stored expression\n",
    "assert expr == stored_expr\n",
    "assert expr._style_id == stored_expr._style_id\n",
    "print(\"Passed sanity check: expr matches stored_expr\")"
   ]
  },
  {
   "cell_type": "code",
   "execution_count": 4,
   "metadata": {},
   "outputs": [
    {
     "name": "stdout",
     "output_type": "stream",
     "text": [
      "\\left(\\sum_{i=1}^{8} v\\left(i\\right), \\left(\\sum_{i=1}^{5} v\\left(i\\right)\\right) + \\left(\\sum_{i=6}^{8} v\\left(i\\right)\\right)\\right)\n"
     ]
    }
   ],
   "source": [
    "# Show the LaTeX representation of the expression for convenience if you need it.\n",
    "print(stored_expr.latex())"
   ]
  },
  {
   "cell_type": "code",
   "execution_count": 5,
   "metadata": {},
   "outputs": [
    {
     "data": {
      "text/html": [
       "<table>\n",
       "<tr><th>name</th><th>description</th><th>default</th><th>current value</th><th>related methods</th></tr><tr><td>wrap_positions</td><td>position(s) at which wrapping is to occur; 'n' is after the nth comma.</td><td>()</td><td>()</td><td>('with_wrapping_at',)</td></tr>\n",
       "<tr><td>justification</td><td>if any wrap positions are set, justify to the 'left', 'center', or 'right'</td><td>left</td><td>left</td><td>('with_justification',)</td></tr>\n",
       "</table>\n"
      ],
      "text/plain": [
       "style name: wrap_positions\n",
       "description: position(s) at which wrapping is to occur; 'n' is after the nth comma.\n",
       "default: ()\n",
       "current value: ()\n",
       "related methods: ('with_wrapping_at',)\n",
       "style name: justification\n",
       "description: if any wrap positions are set, justify to the 'left', 'center', or 'right'\n",
       "default: left\n",
       "current value: left\n",
       "related methods: ('with_justification',)"
      ]
     },
     "metadata": {},
     "output_type": "display_data"
    }
   ],
   "source": [
    "stored_expr.style_options()"
   ]
  },
  {
   "cell_type": "code",
   "execution_count": 6,
   "metadata": {},
   "outputs": [
    {
     "data": {
      "text/html": [
       "<table><tr><th>&nbsp;</th><th>core type</th><th>sub-expressions</th><th>expression</th></tr>\n",
       "<tr><td>0</td><td>ExprTuple</td><td>1, 2</td><td><a class=\"ProveItLink\" href=\"expr.ipynb\"><img src=\"expr.png\" style=\"display:inline;vertical-align:middle;\" /></a></td></tr>\n",
       "<tr><td>1</td><td>Operation</td><td>operator:&nbsp;11<br>operand:&nbsp;6<br></td><td><a class=\"ProveItLink\" href=\"../c74922adc24e6eed7374d876b4c659adf1230b210/expr.ipynb\"><img src=\"../c74922adc24e6eed7374d876b4c659adf1230b210/expr.png\" style=\"display:inline;vertical-align:middle;\" /></a></td></tr>\n",
       "<tr><td>2</td><td>Operation</td><td>operator:&nbsp;4<br>operands:&nbsp;5<br></td><td><a class=\"ProveItLink\" href=\"../5db148f36654b987d6cd8ff362e959519ac6ff970/expr.ipynb\"><img src=\"../5db148f36654b987d6cd8ff362e959519ac6ff970/expr.png\" style=\"display:inline;vertical-align:middle;\" /></a></td></tr>\n",
       "<tr><td>3</td><td>ExprTuple</td><td>6</td><td><a class=\"ProveItLink\" href=\"../15d24c32710693aa2759f0256d8d0dbf5020f6970/expr.ipynb\"><img src=\"../15d24c32710693aa2759f0256d8d0dbf5020f6970/expr.png\" style=\"display:inline;vertical-align:middle;\" /></a></td></tr>\n",
       "<tr><td>4</td><td>Literal</td><td></td><td><a class=\"ProveItLink\" href=\"../../common/ac3c140c9094f065c7f7db15c94558731443639c0/expr.ipynb\"><img src=\"../../common/ac3c140c9094f065c7f7db15c94558731443639c0/expr.png\" style=\"display:inline;vertical-align:middle;\" /></a></td></tr>\n",
       "<tr><td>5</td><td>ExprTuple</td><td>7, 8</td><td><a class=\"ProveItLink\" href=\"../37dcb7a81824322474761d88d2bae7e448da6eed0/expr.ipynb\"><img src=\"../37dcb7a81824322474761d88d2bae7e448da6eed0/expr.png\" style=\"display:inline;vertical-align:middle;\" /></a></td></tr>\n",
       "<tr><td>6</td><td>Lambda</td><td>parameter:&nbsp;30<br>body:&nbsp;9<br></td><td><a class=\"ProveItLink\" href=\"../b90c743940b22fa9bc1bd2ba78bc64f3f7bb4cbd0/expr.ipynb\"><img src=\"../b90c743940b22fa9bc1bd2ba78bc64f3f7bb4cbd0/expr.png\" style=\"display:inline;vertical-align:middle;\" /></a></td></tr>\n",
       "<tr><td>7</td><td>Operation</td><td>operator:&nbsp;11<br>operand:&nbsp;14<br></td><td><a class=\"ProveItLink\" href=\"../ae6f055cd70604c96e027153f06069c43d53d90a0/expr.ipynb\"><img src=\"../ae6f055cd70604c96e027153f06069c43d53d90a0/expr.png\" style=\"display:inline;vertical-align:middle;\" /></a></td></tr>\n",
       "<tr><td>8</td><td>Operation</td><td>operator:&nbsp;11<br>operand:&nbsp;15<br></td><td><a class=\"ProveItLink\" href=\"../00d73e3c4766aee53d33bd4f43be90c88977378c0/expr.ipynb\"><img src=\"../00d73e3c4766aee53d33bd4f43be90c88977378c0/expr.png\" style=\"display:inline;vertical-align:middle;\" /></a></td></tr>\n",
       "<tr><td>9</td><td>Conditional</td><td>value:&nbsp;21<br>condition:&nbsp;13<br></td><td><a class=\"ProveItLink\" href=\"../96217f12c76158275e13bebf4b34b202415dc85d0/expr.ipynb\"><img src=\"../96217f12c76158275e13bebf4b34b202415dc85d0/expr.png\" style=\"display:inline;vertical-align:middle;\" /></a></td></tr>\n",
       "<tr><td>10</td><td>ExprTuple</td><td>14</td><td><a class=\"ProveItLink\" href=\"../e93d9cb633dd6ca793bdc24c804b90bbe27271930/expr.ipynb\"><img src=\"../e93d9cb633dd6ca793bdc24c804b90bbe27271930/expr.png\" style=\"display:inline;vertical-align:middle;\" /></a></td></tr>\n",
       "<tr><td>11</td><td>Literal</td><td></td><td><a class=\"ProveItLink\" href=\"../../common/62f73c830c62efb87627ede5678f282081cd0ce20/expr.ipynb\"><img src=\"../../common/62f73c830c62efb87627ede5678f282081cd0ce20/expr.png\" style=\"display:inline;vertical-align:middle;\" /></a></td></tr>\n",
       "<tr><td>12</td><td>ExprTuple</td><td>15</td><td><a class=\"ProveItLink\" href=\"../8d2b5cc659e4fe97460a4cc150a81328f74e312f0/expr.ipynb\"><img src=\"../8d2b5cc659e4fe97460a4cc150a81328f74e312f0/expr.png\" style=\"display:inline;vertical-align:middle;\" /></a></td></tr>\n",
       "<tr><td>13</td><td>Operation</td><td>operator:&nbsp;27<br>operands:&nbsp;16<br></td><td><a class=\"ProveItLink\" href=\"../24704331743fd73e1d21aa0ede10002ba4ffbb220/expr.ipynb\"><img src=\"../24704331743fd73e1d21aa0ede10002ba4ffbb220/expr.png\" style=\"display:inline;vertical-align:middle;\" /></a></td></tr>\n",
       "<tr><td>14</td><td>Lambda</td><td>parameter:&nbsp;30<br>body:&nbsp;17<br></td><td><a class=\"ProveItLink\" href=\"../cb087497999bd1eb47d13477138c2a3d77db74630/expr.ipynb\"><img src=\"../cb087497999bd1eb47d13477138c2a3d77db74630/expr.png\" style=\"display:inline;vertical-align:middle;\" /></a></td></tr>\n",
       "<tr><td>15</td><td>Lambda</td><td>parameter:&nbsp;30<br>body:&nbsp;18<br></td><td><a class=\"ProveItLink\" href=\"../ad8e23b390c427ed2503888c6a7aad0e2eb223940/expr.ipynb\"><img src=\"../ad8e23b390c427ed2503888c6a7aad0e2eb223940/expr.png\" style=\"display:inline;vertical-align:middle;\" /></a></td></tr>\n",
       "<tr><td>16</td><td>ExprTuple</td><td>30, 19</td><td><a class=\"ProveItLink\" href=\"../f1e5899f1f7d9119b84b9a365508e2e57a169a7a0/expr.ipynb\"><img src=\"../f1e5899f1f7d9119b84b9a365508e2e57a169a7a0/expr.png\" style=\"display:inline;vertical-align:middle;\" /></a></td></tr>\n",
       "<tr><td>17</td><td>Conditional</td><td>value:&nbsp;21<br>condition:&nbsp;20<br></td><td><a class=\"ProveItLink\" href=\"../80b08360b3d883fb6428cf8a18ebe4d843e10dfb0/expr.ipynb\"><img src=\"../80b08360b3d883fb6428cf8a18ebe4d843e10dfb0/expr.png\" style=\"display:inline;vertical-align:middle;\" /></a></td></tr>\n",
       "<tr><td>18</td><td>Conditional</td><td>value:&nbsp;21<br>condition:&nbsp;22<br></td><td><a class=\"ProveItLink\" href=\"../a6cad4e8b86c6e290d52fcb5a51a3813ed143e810/expr.ipynb\"><img src=\"../a6cad4e8b86c6e290d52fcb5a51a3813ed143e810/expr.png\" style=\"display:inline;vertical-align:middle;\" /></a></td></tr>\n",
       "<tr><td>19</td><td>Operation</td><td>operator:&nbsp;33<br>operands:&nbsp;23<br></td><td><a class=\"ProveItLink\" href=\"../0ca0d204f6f883c287ae6179a1726d32aedadb700/expr.ipynb\"><img src=\"../0ca0d204f6f883c287ae6179a1726d32aedadb700/expr.png\" style=\"display:inline;vertical-align:middle;\" /></a></td></tr>\n",
       "<tr><td>20</td><td>Operation</td><td>operator:&nbsp;27<br>operands:&nbsp;24<br></td><td><a class=\"ProveItLink\" href=\"../6d7a90d7f9390e3e6ded7fe73051976837c64f670/expr.ipynb\"><img src=\"../6d7a90d7f9390e3e6ded7fe73051976837c64f670/expr.png\" style=\"display:inline;vertical-align:middle;\" /></a></td></tr>\n",
       "<tr><td>21</td><td>Operation</td><td>operator:&nbsp;25<br>operand:&nbsp;30<br></td><td><a class=\"ProveItLink\" href=\"../../../../../__pv_it/common/f63b93109c631afbf6471ab6c2dc0807d57b8b890/expr.ipynb\"><img src=\"../../../../../__pv_it/common/f63b93109c631afbf6471ab6c2dc0807d57b8b890/expr.png\" style=\"display:inline;vertical-align:middle;\" /></a></td></tr>\n",
       "<tr><td>22</td><td>Operation</td><td>operator:&nbsp;27<br>operands:&nbsp;28<br></td><td><a class=\"ProveItLink\" href=\"../c28273ad0eaf300a7939f97e6fdcfe24d6cf64360/expr.ipynb\"><img src=\"../c28273ad0eaf300a7939f97e6fdcfe24d6cf64360/expr.png\" style=\"display:inline;vertical-align:middle;\" /></a></td></tr>\n",
       "<tr><td>23</td><td>ExprTuple</td><td>35, 38</td><td><a class=\"ProveItLink\" href=\"../9426e578af553a53a4d3fcedbeec82718cfd21f50/expr.ipynb\"><img src=\"../9426e578af553a53a4d3fcedbeec82718cfd21f50/expr.png\" style=\"display:inline;vertical-align:middle;\" /></a></td></tr>\n",
       "<tr><td>24</td><td>ExprTuple</td><td>30, 29</td><td><a class=\"ProveItLink\" href=\"../a0d5a9fd9ea9913c576fa36ffde478810939a1ee0/expr.ipynb\"><img src=\"../a0d5a9fd9ea9913c576fa36ffde478810939a1ee0/expr.png\" style=\"display:inline;vertical-align:middle;\" /></a></td></tr>\n",
       "<tr><td>25</td><td>Variable</td><td></td><td><a class=\"ProveItLink\" href=\"../../../../../__pv_it/common/a4b9661da9b52dcebf59c5559fec8901f4df10750/expr.ipynb\"><img src=\"../../../../../__pv_it/common/a4b9661da9b52dcebf59c5559fec8901f4df10750/expr.png\" style=\"display:inline;vertical-align:middle;\" /></a></td></tr>\n",
       "<tr><td>26</td><td>ExprTuple</td><td>30</td><td><a class=\"ProveItLink\" href=\"../../../../../__pv_it/common/3b7d7ace2ced0a8261ea4d18d03aaf49e434d69d0/expr.ipynb\"><img src=\"../../../../../__pv_it/common/3b7d7ace2ced0a8261ea4d18d03aaf49e434d69d0/expr.png\" style=\"display:inline;vertical-align:middle;\" /></a></td></tr>\n",
       "<tr><td>27</td><td>Literal</td><td></td><td><a class=\"ProveItLink\" href=\"../../../../../logic/sets/membership/__pv_it/common/477487d8796864d23d5810f83761435f25167f690/expr.ipynb\"><img src=\"../../../../../logic/sets/membership/__pv_it/common/477487d8796864d23d5810f83761435f25167f690/expr.png\" style=\"display:inline;vertical-align:middle;\" /></a></td></tr>\n",
       "<tr><td>28</td><td>ExprTuple</td><td>30, 31</td><td><a class=\"ProveItLink\" href=\"../86d2358d567126ffcac9eba6f4c569094eb296310/expr.ipynb\"><img src=\"../86d2358d567126ffcac9eba6f4c569094eb296310/expr.png\" style=\"display:inline;vertical-align:middle;\" /></a></td></tr>\n",
       "<tr><td>29</td><td>Operation</td><td>operator:&nbsp;33<br>operands:&nbsp;32<br></td><td><a class=\"ProveItLink\" href=\"../ee2f7135663237cfbd1886315776e68db7b1647a0/expr.ipynb\"><img src=\"../ee2f7135663237cfbd1886315776e68db7b1647a0/expr.png\" style=\"display:inline;vertical-align:middle;\" /></a></td></tr>\n",
       "<tr><td>30</td><td>Variable</td><td></td><td><a class=\"ProveItLink\" href=\"../../../../../__pv_it/common/ae955345c83abf786c3aff8681cd5465beae262d0/expr.ipynb\"><img src=\"../../../../../__pv_it/common/ae955345c83abf786c3aff8681cd5465beae262d0/expr.png\" style=\"display:inline;vertical-align:middle;\" /></a></td></tr>\n",
       "<tr><td>31</td><td>Operation</td><td>operator:&nbsp;33<br>operands:&nbsp;34<br></td><td><a class=\"ProveItLink\" href=\"../3682a8a278203e82be4bbbb2dba84573728053520/expr.ipynb\"><img src=\"../3682a8a278203e82be4bbbb2dba84573728053520/expr.png\" style=\"display:inline;vertical-align:middle;\" /></a></td></tr>\n",
       "<tr><td>32</td><td>ExprTuple</td><td>35, 36</td><td><a class=\"ProveItLink\" href=\"../fe74b2da44e678d08ddb2a49361dab2016e075350/expr.ipynb\"><img src=\"../fe74b2da44e678d08ddb2a49361dab2016e075350/expr.png\" style=\"display:inline;vertical-align:middle;\" /></a></td></tr>\n",
       "<tr><td>33</td><td>Literal</td><td></td><td><a class=\"ProveItLink\" href=\"../../../../../numbers/number_sets/integers/__pv_it/common/92f3a0a77e3c3ea8e4a5c8674edadc54e4f57d550/expr.ipynb\"><img src=\"../../../../../numbers/number_sets/integers/__pv_it/common/92f3a0a77e3c3ea8e4a5c8674edadc54e4f57d550/expr.png\" style=\"display:inline;vertical-align:middle;\" /></a></td></tr>\n",
       "<tr><td>34</td><td>ExprTuple</td><td>37, 38</td><td><a class=\"ProveItLink\" href=\"../e18685a441cae8c28f92c45899b70e0c7b5a01790/expr.ipynb\"><img src=\"../e18685a441cae8c28f92c45899b70e0c7b5a01790/expr.png\" style=\"display:inline;vertical-align:middle;\" /></a></td></tr>\n",
       "<tr><td>35</td><td>Literal</td><td></td><td><a class=\"ProveItLink\" href=\"../../../../../numbers/numerals/__pv_it/common/682157d4892d216d9e5626ed533aff9b56b9506e0/expr.ipynb\"><img src=\"../../../../../numbers/numerals/__pv_it/common/682157d4892d216d9e5626ed533aff9b56b9506e0/expr.png\" style=\"display:inline;vertical-align:middle;\" /></a></td></tr>\n",
       "<tr><td>36</td><td>Literal</td><td></td><td><a class=\"ProveItLink\" href=\"../../../../../numbers/numerals/__pv_it/common/16e9923976ab933f6783588485130530d25dafab0/expr.ipynb\"><img src=\"../../../../../numbers/numerals/__pv_it/common/16e9923976ab933f6783588485130530d25dafab0/expr.png\" style=\"display:inline;vertical-align:middle;\" /></a></td></tr>\n",
       "<tr><td>37</td><td>Literal</td><td></td><td><a class=\"ProveItLink\" href=\"../../../../../numbers/numerals/__pv_it/common/3376a962e50366e1ce3b003524f11b59146ac6970/expr.ipynb\"><img src=\"../../../../../numbers/numerals/__pv_it/common/3376a962e50366e1ce3b003524f11b59146ac6970/expr.png\" style=\"display:inline;vertical-align:middle;\" /></a></td></tr>\n",
       "<tr><td>38</td><td>Literal</td><td></td><td><a class=\"ProveItLink\" href=\"../../../../../numbers/numerals/__pv_it/common/ceed6b354935ad1d236d250dc51c3b98bca3a8960/expr.ipynb\"><img src=\"../../../../../numbers/numerals/__pv_it/common/ceed6b354935ad1d236d250dc51c3b98bca3a8960/expr.png\" style=\"display:inline;vertical-align:middle;\" /></a></td></tr>\n",
       "</table>\n"
      ],
      "text/plain": [
       "0. (Sum_{i=1}^{8} v(i), (Sum_{i=1}^{5} v(i)) + (Sum_{i=6}^{8} v(i)))\n",
       "   core type: ExprTuple\n",
       "   sub-expressions: 1, 2\n",
       "1. Sum_{i=1}^{8} v(i)\n",
       "   core type: Operation\n",
       "   operator: 11\n",
       "   operand: 6\n",
       "2. (Sum_{i=1}^{5} v(i)) + (Sum_{i=6}^{8} v(i))\n",
       "   core type: Operation\n",
       "   operator: 4\n",
       "   operands: 5\n",
       "3. (i -> {v(i) if i in {1 .. 8}.)\n",
       "   core type: ExprTuple\n",
       "   sub-expressions: 6\n",
       "4. +\n",
       "   core type: Literal\n",
       "   sub-expressions: \n",
       "5. (Sum_{i=1}^{5} v(i), Sum_{i=6}^{8} v(i))\n",
       "   core type: ExprTuple\n",
       "   sub-expressions: 7, 8\n",
       "6. i -> {v(i) if i in {1 .. 8}.\n",
       "   core type: Lambda\n",
       "   parameter: 30\n",
       "   body: 9\n",
       "7. Sum_{i=1}^{5} v(i)\n",
       "   core type: Operation\n",
       "   operator: 11\n",
       "   operand: 14\n",
       "8. Sum_{i=6}^{8} v(i)\n",
       "   core type: Operation\n",
       "   operator: 11\n",
       "   operand: 15\n",
       "9. {v(i) if i in {1 .. 8}.\n",
       "   core type: Conditional\n",
       "   value: 21\n",
       "   condition: 13\n",
       "10. (i -> {v(i) if i in {1 .. 5}.)\n",
       "    core type: ExprTuple\n",
       "    sub-expressions: 14\n",
       "11. Sum\n",
       "    core type: Literal\n",
       "    sub-expressions: \n",
       "12. (i -> {v(i) if i in {6 .. 8}.)\n",
       "    core type: ExprTuple\n",
       "    sub-expressions: 15\n",
       "13. i in {1 .. 8}\n",
       "    core type: Operation\n",
       "    operator: 27\n",
       "    operands: 16\n",
       "14. i -> {v(i) if i in {1 .. 5}.\n",
       "    core type: Lambda\n",
       "    parameter: 30\n",
       "    body: 17\n",
       "15. i -> {v(i) if i in {6 .. 8}.\n",
       "    core type: Lambda\n",
       "    parameter: 30\n",
       "    body: 18\n",
       "16. (i, {1 .. 8})\n",
       "    core type: ExprTuple\n",
       "    sub-expressions: 30, 19\n",
       "17. {v(i) if i in {1 .. 5}.\n",
       "    core type: Conditional\n",
       "    value: 21\n",
       "    condition: 20\n",
       "18. {v(i) if i in {6 .. 8}.\n",
       "    core type: Conditional\n",
       "    value: 21\n",
       "    condition: 22\n",
       "19. {1 .. 8}\n",
       "    core type: Operation\n",
       "    operator: 33\n",
       "    operands: 23\n",
       "20. i in {1 .. 5}\n",
       "    core type: Operation\n",
       "    operator: 27\n",
       "    operands: 24\n",
       "21. v(i)\n",
       "    core type: Operation\n",
       "    operator: 25\n",
       "    operand: 30\n",
       "22. i in {6 .. 8}\n",
       "    core type: Operation\n",
       "    operator: 27\n",
       "    operands: 28\n",
       "23. (1, 8)\n",
       "    core type: ExprTuple\n",
       "    sub-expressions: 35, 38\n",
       "24. (i, {1 .. 5})\n",
       "    core type: ExprTuple\n",
       "    sub-expressions: 30, 29\n",
       "25. v\n",
       "    core type: Variable\n",
       "    sub-expressions: \n",
       "26. (i)\n",
       "    core type: ExprTuple\n",
       "    sub-expressions: 30\n",
       "27. in\n",
       "    core type: Literal\n",
       "    sub-expressions: \n",
       "28. (i, {6 .. 8})\n",
       "    core type: ExprTuple\n",
       "    sub-expressions: 30, 31\n",
       "29. {1 .. 5}\n",
       "    core type: Operation\n",
       "    operator: 33\n",
       "    operands: 32\n",
       "30. i\n",
       "    core type: Variable\n",
       "    sub-expressions: \n",
       "31. {6 .. 8}\n",
       "    core type: Operation\n",
       "    operator: 33\n",
       "    operands: 34\n",
       "32. (1, 5)\n",
       "    core type: ExprTuple\n",
       "    sub-expressions: 35, 36\n",
       "33. Interval\n",
       "    core type: Literal\n",
       "    sub-expressions: \n",
       "34. (6, 8)\n",
       "    core type: ExprTuple\n",
       "    sub-expressions: 37, 38\n",
       "35. 1\n",
       "    core type: Literal\n",
       "    sub-expressions: \n",
       "36. 5\n",
       "    core type: Literal\n",
       "    sub-expressions: \n",
       "37. 6\n",
       "    core type: Literal\n",
       "    sub-expressions: \n",
       "38. 8\n",
       "    core type: Literal\n",
       "    sub-expressions: "
      ]
     },
     "metadata": {},
     "output_type": "display_data"
    }
   ],
   "source": [
    "# display the expression information\n",
    "stored_expr.expr_info()"
   ]
  },
  {
   "cell_type": "code",
   "execution_count": null,
   "metadata": {},
   "outputs": [],
   "source": []
  }
 ],
 "metadata": {
  "kernelspec": {
   "display_name": "Python 3",
   "language": "python",
   "name": "python3"
  }
 },
 "nbformat": 4,
 "nbformat_minor": 0
}