{
 "cells": [
  {
   "cell_type": "markdown",
   "metadata": {},
   "source": [
    "Show the Proof\n",
    "========"
   ]
  },
  {
   "cell_type": "code",
   "execution_count": 1,
   "metadata": {},
   "outputs": [
    {
     "data": {
      "text/html": [
       "<table><tr><th>&nbsp;</th><th>step type</th><th>requirements</th><th>statement</th></tr>\n",
       "<tr><td><a name=\"proveit.linear_algebra.addition.demonstrations.5547699135a130702ab8981e2a27e24b0cc8cab10_step0\">0</a></td><td>instantiation</td><td><a href=\"#proveit.linear_algebra.addition.demonstrations.5547699135a130702ab8981e2a27e24b0cc8cab10_step1\">1</a>, <a href=\"#proveit.linear_algebra.addition.demonstrations.5547699135a130702ab8981e2a27e24b0cc8cab10_step2\">2</a>, <a href=\"#proveit.linear_algebra.addition.demonstrations.5547699135a130702ab8981e2a27e24b0cc8cab10_step3\">3</a>, <a href=\"#proveit.linear_algebra.addition.demonstrations.5547699135a130702ab8981e2a27e24b0cc8cab10_step4\">4</a></td><td><span style=\"font-size:20px;\"><a class=\"ProveItLink\" href=\"../9b2e5fd129f7f90ae1ffb439f5857d4051acef3d0/expr.ipynb\"><img src=\"../9b2e5fd129f7f90ae1ffb439f5857d4051acef3d0/expr.png\" style=\"display:inline;vertical-align:middle;\" /></a>, <a class=\"ProveItLink\" href=\"../055817fa6e7f394931807eae91ca5b3d0f0e8ec50/expr.ipynb\"><img src=\"../055817fa6e7f394931807eae91ca5b3d0f0e8ec50/expr.png\" style=\"display:inline;vertical-align:middle;\" /></a> <a class=\"ProveItLink\" href=\"proof.ipynb\" style=\"text-decoration: none\">&nbsp;&#x22A2;&nbsp;&nbsp;</a><a class=\"ProveItLink\" href=\"../fd9f1d0abceb777ae0b453f21485f6eaff27b61e0/expr.ipynb\"><img src=\"../fd9f1d0abceb777ae0b453f21485f6eaff27b61e0/expr.png\" style=\"display:inline;vertical-align:middle;\" /></a></span></td></tr>\n",
       "<tr><td>&nbsp;</td><td colspan=4 style=\"text-align:left\"><span style=\"font-size:20px;\"><a class=\"ProveItLink\" href=\"../../../../../__pv_it/common/a6c8cdfc20753355349e3546933532a8b12e10850/expr.ipynb\"><img src=\"../../../../../__pv_it/common/a6c8cdfc20753355349e3546933532a8b12e10850/expr.png\" style=\"display:inline;vertical-align:middle;\" /></a> : <a class=\"ProveItLink\" href=\"../../../../../__pv_it/common/a6c8cdfc20753355349e3546933532a8b12e10850/expr.ipynb\"><img src=\"../../../../../__pv_it/common/a6c8cdfc20753355349e3546933532a8b12e10850/expr.png\" style=\"display:inline;vertical-align:middle;\" /></a>, <a class=\"ProveItLink\" href=\"../../../../../__pv_it/common/c06c606ec12678c58933ac85412ecadc2ae28be60/expr.ipynb\"><img src=\"../../../../../__pv_it/common/c06c606ec12678c58933ac85412ecadc2ae28be60/expr.png\" style=\"display:inline;vertical-align:middle;\" /></a> : <a class=\"ProveItLink\" href=\"../../../../../numbers/numerals/__pv_it/common/dd4e19e8b134dfb293470ea55fe3589b0ab9f8040/expr.ipynb\"><img src=\"../../../../../numbers/numerals/__pv_it/common/dd4e19e8b134dfb293470ea55fe3589b0ab9f8040/expr.png\" style=\"display:inline;vertical-align:middle;\" /></a>, <a class=\"ProveItLink\" href=\"../../../../../__pv_it/common/195236b98c6c564a75b5dbada74b173bc52d5c3e0/expr.ipynb\"><img src=\"../../../../../__pv_it/common/195236b98c6c564a75b5dbada74b173bc52d5c3e0/expr.png\" style=\"display:inline;vertical-align:middle;\" /></a> : <a class=\"ProveItLink\" href=\"../a014d9681ed5f22f1d322e1e6f8f6a29a72641620/expr.ipynb\"><img src=\"../a014d9681ed5f22f1d322e1e6f8f6a29a72641620/expr.png\" style=\"display:inline;vertical-align:middle;\" /></a>, <a class=\"ProveItLink\" href=\"../../../../../__pv_it/common/ae955345c83abf786c3aff8681cd5465beae262d0/expr.ipynb\"><img src=\"../../../../../__pv_it/common/ae955345c83abf786c3aff8681cd5465beae262d0/expr.png\" style=\"display:inline;vertical-align:middle;\" /></a> : <a class=\"ProveItLink\" href=\"../../../../../__pv_it/common/63b7c64bf9ec7a04ecc396c7a1670f3f12fb59490/expr.ipynb\"><img src=\"../../../../../__pv_it/common/63b7c64bf9ec7a04ecc396c7a1670f3f12fb59490/expr.png\" style=\"display:inline;vertical-align:middle;\" /></a></span></td></tr><tr><td><a name=\"proveit.linear_algebra.addition.demonstrations.5547699135a130702ab8981e2a27e24b0cc8cab10_step1\">1</a></td><td>axiom</td><td></td><td><span style=\"font-size:20px;\"> <a class=\"ProveItLink\" href=\"../../../_theory_nbs_/axioms.ipynb#vec_sum_split_last\" style=\"text-decoration: none\">&nbsp;&#x22A2;&nbsp;&nbsp;</a><a class=\"ProveItLink\" href=\"../../axioms/74ec50df03185dc3d54e824409d3fe91e9926fd50/expr.ipynb\"><img src=\"../../axioms/74ec50df03185dc3d54e824409d3fe91e9926fd50/expr.png\" style=\"display:inline;vertical-align:middle;\" /></a></span></td></tr>\n",
       "<tr><td>&nbsp;</td><td colspan=4 style-\"text-align:left\"><a class=\"ProveItLink\" href=\"../../../_theory_nbs_/axioms.ipynb#vec_sum_split_last\">proveit.linear_algebra.addition.vec_sum_split_last</a></td></tr><tr><td><a name=\"proveit.linear_algebra.addition.demonstrations.5547699135a130702ab8981e2a27e24b0cc8cab10_step2\">2</a></td><td>theorem</td><td></td><td><span style=\"font-size:20px;\"> <a class=\"ProveItLink\" href=\"../../../../../numbers/number_sets/integers/_theory_nbs_/proofs/zero_is_int/thm_proof.ipynb\" style=\"text-decoration: none\">&nbsp;&#x22A2;&nbsp;&nbsp;</a><a class=\"ProveItLink\" href=\"../../../../../numbers/number_sets/integers/__pv_it/theorems/7a0531a87eb0043c40640cc230399af7b8adc75c0/expr.ipynb\"><img src=\"../../../../../numbers/number_sets/integers/__pv_it/theorems/7a0531a87eb0043c40640cc230399af7b8adc75c0/expr.png\" style=\"display:inline;vertical-align:middle;\" /></a></span></td></tr>\n",
       "<tr><td>&nbsp;</td><td colspan=4 style-\"text-align:left\"><a class=\"ProveItLink\" href=\"../../../../../numbers/number_sets/integers/_theory_nbs_/proofs/zero_is_int/thm_proof.ipynb\">proveit.numbers.number_sets.integers.zero_is_int</a></td></tr><tr><td><a name=\"proveit.linear_algebra.addition.demonstrations.5547699135a130702ab8981e2a27e24b0cc8cab10_step3\">3</a></td><td>assumption</td><td></td><td><span style=\"font-size:20px;\"><a class=\"ProveItLink\" href=\"../9b2e5fd129f7f90ae1ffb439f5857d4051acef3d0/expr.ipynb\"><img src=\"../9b2e5fd129f7f90ae1ffb439f5857d4051acef3d0/expr.png\" style=\"display:inline;vertical-align:middle;\" /></a> <a class=\"ProveItLink\" href=\"../114170d2d0db503d5c101e9e1ddfc2b6a64f9a7a0/proof.ipynb\" style=\"text-decoration: none\">&nbsp;&#x22A2;&nbsp;&nbsp;</a><a class=\"ProveItLink\" href=\"../9b2e5fd129f7f90ae1ffb439f5857d4051acef3d0/expr.ipynb\"><img src=\"../9b2e5fd129f7f90ae1ffb439f5857d4051acef3d0/expr.png\" style=\"display:inline;vertical-align:middle;\" /></a></span></td></tr>\n",
       "<tr><td><a name=\"proveit.linear_algebra.addition.demonstrations.5547699135a130702ab8981e2a27e24b0cc8cab10_step4\">4</a></td><td>assumption</td><td></td><td><span style=\"font-size:20px;\"><a class=\"ProveItLink\" href=\"../055817fa6e7f394931807eae91ca5b3d0f0e8ec50/expr.ipynb\"><img src=\"../055817fa6e7f394931807eae91ca5b3d0f0e8ec50/expr.png\" style=\"display:inline;vertical-align:middle;\" /></a> <a class=\"ProveItLink\" href=\"../a773dc11846f6d58572682b98eb154b579b158750/proof.ipynb\" style=\"text-decoration: none\">&nbsp;&#x22A2;&nbsp;&nbsp;</a><a class=\"ProveItLink\" href=\"../055817fa6e7f394931807eae91ca5b3d0f0e8ec50/expr.ipynb\"><img src=\"../055817fa6e7f394931807eae91ca5b3d0f0e8ec50/expr.png\" style=\"display:inline;vertical-align:middle;\" /></a></span></td></tr>\n",
       "</table>"
      ],
      "text/plain": [
       "<proveit._core_.proof._ShowProof at 0x7f6e7abb1cc0>"
      ]
     },
     "execution_count": 1,
     "metadata": {},
     "output_type": "execute_result"
    }
   ],
   "source": [
    "import proveit\n",
    "# Automation is not needed when only showing a stored proof:\n",
    "proveit.defaults.automation = False # This will speed things up.\n",
    "proveit.defaults.inline_pngs = False # Makes files smaller.\n",
    "%show_proof"
   ]
  },
  {
   "cell_type": "code",
   "execution_count": null,
   "metadata": {},
   "outputs": [],
   "source": []
  }
 ],
 "metadata": {
  "kernelspec": {
   "display_name": "Python 3",
   "language": "python",
   "name": "python3"
  }
 },
 "nbformat": 4,
 "nbformat_minor": 0
}