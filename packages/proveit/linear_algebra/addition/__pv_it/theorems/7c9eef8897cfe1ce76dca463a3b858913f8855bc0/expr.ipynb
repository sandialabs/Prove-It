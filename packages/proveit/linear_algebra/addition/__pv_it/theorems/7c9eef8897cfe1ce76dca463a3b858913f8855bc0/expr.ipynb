{
 "cells": [
  {
   "cell_type": "markdown",
   "metadata": {},
   "source": [
    "Expression of type <a class=\"ProveItLink\" href=\"../../../../../../../doc/html/api/proveit.Lambda.html\">Lambda</a>\n",
    "=======================\n",
    "# from the theory of <a class=\"ProveItLink\" href=\"../../../_theory_nbs_/theory.ipynb\">proveit.linear_algebra.addition</a>"
   ]
  },
  {
   "cell_type": "code",
   "execution_count": 1,
   "metadata": {},
   "outputs": [],
   "source": [
    "import proveit\n",
    "# Automation is not needed when building an expression:\n",
    "proveit.defaults.automation = False # This will speed things up.\n",
    "proveit.defaults.inline_pngs = False # Makes files smaller.\n",
    "%load_expr # Load the stored expression as 'stored_expr'\n",
    "# import Expression classes needed to build the expression\n",
    "from proveit import Conditional, ExprRange, IndexedVar, Lambda, V, Variable, a, b, c, i, j, k\n",
    "from proveit.core_expr_types import a_1_to_i, b_1_to_j, c_1_to_k\n",
    "from proveit.linear_algebra import VecAdd\n",
    "from proveit.logic import And, Equals, InSet\n",
    "from proveit.numbers import one"
   ]
  },
  {
   "cell_type": "code",
   "execution_count": 2,
   "metadata": {},
   "outputs": [
    {
     "data": {
      "text/html": [
       "<strong id=\"expr\">expr:</strong> <a class=\"ProveItLink\" href=\"expr.ipynb\"><img src=\"expr.png\" style=\"display:inline;vertical-align:middle;\" /></a><br>"
      ],
      "text/plain": [
       "<IPython.core.display.HTML object>"
      ]
     },
     "metadata": {},
     "output_type": "display_data"
    }
   ],
   "source": [
    "# build up the expression from sub-expressions\n",
    "sub_expr1 = Variable(\"_a\", latex_format = r\"{_{-}a}\")\n",
    "expr = Lambda([a_1_to_i, b_1_to_j, c_1_to_k], Conditional(Equals(VecAdd(a_1_to_i, VecAdd(b_1_to_j), c_1_to_k), VecAdd(a_1_to_i, b_1_to_j, c_1_to_k)).with_wrapping_at(2), And(ExprRange(sub_expr1, InSet(IndexedVar(a, sub_expr1), V), one, i), ExprRange(sub_expr1, InSet(IndexedVar(b, sub_expr1), V), one, j), ExprRange(sub_expr1, InSet(IndexedVar(c, sub_expr1), V), one, k))))"
   ]
  },
  {
   "cell_type": "code",
   "execution_count": 3,
   "metadata": {},
   "outputs": [
    {
     "name": "stdout",
     "output_type": "stream",
     "text": [
      "Passed sanity check: expr matches stored_expr\n"
     ]
    }
   ],
   "source": [
    "# check that the built expression is the same as the stored expression\n",
    "assert expr == stored_expr\n",
    "assert expr._style_id == stored_expr._style_id\n",
    "print(\"Passed sanity check: expr matches stored_expr\")"
   ]
  },
  {
   "cell_type": "code",
   "execution_count": 4,
   "metadata": {},
   "outputs": [
    {
     "name": "stdout",
     "output_type": "stream",
     "text": [
      "\\left(a_{1}, a_{2}, \\ldots, a_{i}, b_{1}, b_{2}, \\ldots, b_{j}, c_{1}, c_{2}, \\ldots, c_{k}\\right) \\mapsto \\left\\{\\begin{array}{c} \\begin{array}{l} \\left(a_{1} +  a_{2} +  \\ldots +  a_{i} + \\left(b_{1} +  b_{2} +  \\ldots +  b_{j}\\right)+ c_{1} +  c_{2} +  \\ldots +  c_{k}\\right) =  \\\\ \\left(a_{1} +  a_{2} +  \\ldots +  a_{i}+ b_{1} +  b_{2} +  \\ldots +  b_{j}+ c_{1} +  c_{2} +  \\ldots +  c_{k}\\right) \\end{array} \\end{array} \\textrm{ if } \\left(a_{1} \\in V\\right) ,  \\left(a_{2} \\in V\\right) ,  \\ldots ,  \\left(a_{i} \\in V\\right), \\left(b_{1} \\in V\\right) ,  \\left(b_{2} \\in V\\right) ,  \\ldots ,  \\left(b_{j} \\in V\\right), \\left(c_{1} \\in V\\right) ,  \\left(c_{2} \\in V\\right) ,  \\ldots ,  \\left(c_{k} \\in V\\right)\\right..\n"
     ]
    }
   ],
   "source": [
    "# Show the LaTeX representation of the expression for convenience if you need it.\n",
    "print(stored_expr.latex())"
   ]
  },
  {
   "cell_type": "code",
   "execution_count": 5,
   "metadata": {},
   "outputs": [
    {
     "data": {
      "text/html": [
       "no style options"
      ],
      "text/plain": [
       "no style options"
      ]
     },
     "metadata": {},
     "output_type": "display_data"
    }
   ],
   "source": [
    "stored_expr.style_options()"
   ]
  },
  {
   "cell_type": "code",
   "execution_count": 6,
   "metadata": {},
   "outputs": [
    {
     "data": {
      "text/html": [
       "<table><tr><th>&nbsp;</th><th>core type</th><th>sub-expressions</th><th>expression</th></tr>\n",
       "<tr><td>0</td><td>Lambda</td><td>parameters:&nbsp;14<br>body:&nbsp;1<br></td><td><a class=\"ProveItLink\" href=\"expr.ipynb\"><img src=\"expr.png\" style=\"display:inline;vertical-align:middle;\" /></a></td></tr>\n",
       "<tr><td>1</td><td>Conditional</td><td>value:&nbsp;2<br>condition:&nbsp;3<br></td><td><a class=\"ProveItLink\" href=\"../9bf4725e13bfb0f6ee97d4aece4431b986e82f850/expr.ipynb\"><img src=\"../9bf4725e13bfb0f6ee97d4aece4431b986e82f850/expr.png\" style=\"display:inline;vertical-align:middle;\" /></a></td></tr>\n",
       "<tr><td>2</td><td>Operation</td><td>operator:&nbsp;4<br>operands:&nbsp;5<br></td><td><a class=\"ProveItLink\" href=\"../adac3d11b1c579ca450987b51d72fb1c64caba380/expr.ipynb\"><img src=\"../adac3d11b1c579ca450987b51d72fb1c64caba380/expr.png\" style=\"display:inline;vertical-align:middle;\" /></a></td></tr>\n",
       "<tr><td>3</td><td>Operation</td><td>operator:&nbsp;6<br>operands:&nbsp;7<br></td><td><a class=\"ProveItLink\" href=\"../338d5539153410f381c2c83962cceefe9639eef80/expr.ipynb\"><img src=\"../338d5539153410f381c2c83962cceefe9639eef80/expr.png\" style=\"display:inline;vertical-align:middle;\" /></a></td></tr>\n",
       "<tr><td>4</td><td>Literal</td><td></td><td><a class=\"ProveItLink\" href=\"../../../../../logic/equality/__pv_it/common/fb96dc12b2aa8801dda64d0132b396c63d1502bb0/expr.ipynb\"><img src=\"../../../../../logic/equality/__pv_it/common/fb96dc12b2aa8801dda64d0132b396c63d1502bb0/expr.png\" style=\"display:inline;vertical-align:middle;\" /></a></td></tr>\n",
       "<tr><td>5</td><td>ExprTuple</td><td>8, 9</td><td><a class=\"ProveItLink\" href=\"../e1c3c7041924580e500f282a5682f76bda9882020/expr.ipynb\"><img src=\"../e1c3c7041924580e500f282a5682f76bda9882020/expr.png\" style=\"display:inline;vertical-align:middle;\" /></a></td></tr>\n",
       "<tr><td>6</td><td>Literal</td><td></td><td><a class=\"ProveItLink\" href=\"../../../../../logic/booleans/conjunction/__pv_it/common/42118ff318bd65d98b1393f64ce7c2269feef76e0/expr.ipynb\"><img src=\"../../../../../logic/booleans/conjunction/__pv_it/common/42118ff318bd65d98b1393f64ce7c2269feef76e0/expr.png\" style=\"display:inline;vertical-align:middle;\" /></a></td></tr>\n",
       "<tr><td>7</td><td>ExprTuple</td><td>10, 11, 12</td><td><a class=\"ProveItLink\" href=\"../22472e95025f820fd667f6c9e79d68d477a7412a0/expr.ipynb\"><img src=\"../22472e95025f820fd667f6c9e79d68d477a7412a0/expr.png\" style=\"display:inline;vertical-align:middle;\" /></a></td></tr>\n",
       "<tr><td>8</td><td>Operation</td><td>operator:&nbsp;24<br>operands:&nbsp;13<br></td><td><a class=\"ProveItLink\" href=\"../aa7f785ad4033c2862592d301a87eadc6090e2190/expr.ipynb\"><img src=\"../aa7f785ad4033c2862592d301a87eadc6090e2190/expr.png\" style=\"display:inline;vertical-align:middle;\" /></a></td></tr>\n",
       "<tr><td>9</td><td>Operation</td><td>operator:&nbsp;24<br>operands:&nbsp;14<br></td><td><a class=\"ProveItLink\" href=\"../ca8376c64cd74dadae2889e04221f6534efb02010/expr.ipynb\"><img src=\"../ca8376c64cd74dadae2889e04221f6534efb02010/expr.png\" style=\"display:inline;vertical-align:middle;\" /></a></td></tr>\n",
       "<tr><td>10</td><td>ExprRange</td><td>lambda_map:&nbsp;15<br>start_index:&nbsp;39<br>end_index:&nbsp;27<br></td><td><a class=\"ProveItLink\" href=\"../f55642caab6dcf33dcd519e4e8743c129250c00f0/expr.ipynb\"><img src=\"../f55642caab6dcf33dcd519e4e8743c129250c00f0/expr.png\" style=\"display:inline;vertical-align:middle;\" /></a></td></tr>\n",
       "<tr><td>11</td><td>ExprRange</td><td>lambda_map:&nbsp;16<br>start_index:&nbsp;39<br>end_index:&nbsp;40<br></td><td><a class=\"ProveItLink\" href=\"../55f1fb4826570826857cee6b70ddbdb6b9cdd9880/expr.ipynb\"><img src=\"../55f1fb4826570826857cee6b70ddbdb6b9cdd9880/expr.png\" style=\"display:inline;vertical-align:middle;\" /></a></td></tr>\n",
       "<tr><td>12</td><td>ExprRange</td><td>lambda_map:&nbsp;17<br>start_index:&nbsp;39<br>end_index:&nbsp;29<br></td><td><a class=\"ProveItLink\" href=\"../c38d3b623e082af367caa4132595012986453f310/expr.ipynb\"><img src=\"../c38d3b623e082af367caa4132595012986453f310/expr.png\" style=\"display:inline;vertical-align:middle;\" /></a></td></tr>\n",
       "<tr><td>13</td><td>ExprTuple</td><td>19, 18, 20</td><td><a class=\"ProveItLink\" href=\"../8f005c9fb52e84dca474051017b85522e05f80890/expr.ipynb\"><img src=\"../8f005c9fb52e84dca474051017b85522e05f80890/expr.png\" style=\"display:inline;vertical-align:middle;\" /></a></td></tr>\n",
       "<tr><td>14</td><td>ExprTuple</td><td>19, 34, 20</td><td><a class=\"ProveItLink\" href=\"../262e49ab7c5ef0e7432bee3e87adaa93dae86ca60/expr.ipynb\"><img src=\"../262e49ab7c5ef0e7432bee3e87adaa93dae86ca60/expr.png\" style=\"display:inline;vertical-align:middle;\" /></a></td></tr>\n",
       "<tr><td>15</td><td>Lambda</td><td>parameter:&nbsp;46<br>body:&nbsp;21<br></td><td><a class=\"ProveItLink\" href=\"../fff488f39ce83a56d12c1d6afc671d737442f6790/expr.ipynb\"><img src=\"../fff488f39ce83a56d12c1d6afc671d737442f6790/expr.png\" style=\"display:inline;vertical-align:middle;\" /></a></td></tr>\n",
       "<tr><td>16</td><td>Lambda</td><td>parameter:&nbsp;46<br>body:&nbsp;22<br></td><td><a class=\"ProveItLink\" href=\"../f7a6083a456d99b8af72edac56bac1472915014e0/expr.ipynb\"><img src=\"../f7a6083a456d99b8af72edac56bac1472915014e0/expr.png\" style=\"display:inline;vertical-align:middle;\" /></a></td></tr>\n",
       "<tr><td>17</td><td>Lambda</td><td>parameter:&nbsp;46<br>body:&nbsp;23<br></td><td><a class=\"ProveItLink\" href=\"../ad82c3ab43e67854915baf84c346e26fb442c7bb0/expr.ipynb\"><img src=\"../ad82c3ab43e67854915baf84c346e26fb442c7bb0/expr.png\" style=\"display:inline;vertical-align:middle;\" /></a></td></tr>\n",
       "<tr><td>18</td><td>Operation</td><td>operator:&nbsp;24<br>operands:&nbsp;25<br></td><td><a class=\"ProveItLink\" href=\"../929b1a838e0179213025033975e1ed7cad6edb0e0/expr.ipynb\"><img src=\"../929b1a838e0179213025033975e1ed7cad6edb0e0/expr.png\" style=\"display:inline;vertical-align:middle;\" /></a></td></tr>\n",
       "<tr><td>19</td><td>ExprRange</td><td>lambda_map:&nbsp;26<br>start_index:&nbsp;39<br>end_index:&nbsp;27<br></td><td><a class=\"ProveItLink\" href=\"../../../../../core_expr_types/__pv_it/common/7230c683fcd56948c826ac1be71b01b6fb2913950/expr.ipynb\"><img src=\"../../../../../core_expr_types/__pv_it/common/7230c683fcd56948c826ac1be71b01b6fb2913950/expr.png\" style=\"display:inline;vertical-align:middle;\" /></a></td></tr>\n",
       "<tr><td>20</td><td>ExprRange</td><td>lambda_map:&nbsp;28<br>start_index:&nbsp;39<br>end_index:&nbsp;29<br></td><td><a class=\"ProveItLink\" href=\"../../../../../core_expr_types/__pv_it/common/847fd9e18bcb1cd068c4b44622f3fd12a6ad6a150/expr.ipynb\"><img src=\"../../../../../core_expr_types/__pv_it/common/847fd9e18bcb1cd068c4b44622f3fd12a6ad6a150/expr.png\" style=\"display:inline;vertical-align:middle;\" /></a></td></tr>\n",
       "<tr><td>21</td><td>Operation</td><td>operator:&nbsp;32<br>operands:&nbsp;30<br></td><td><a class=\"ProveItLink\" href=\"../5541fd9ecf06361743e9f5cdadaef856edd705660/expr.ipynb\"><img src=\"../5541fd9ecf06361743e9f5cdadaef856edd705660/expr.png\" style=\"display:inline;vertical-align:middle;\" /></a></td></tr>\n",
       "<tr><td>22</td><td>Operation</td><td>operator:&nbsp;32<br>operands:&nbsp;31<br></td><td><a class=\"ProveItLink\" href=\"../befdae32eaf9992e3e06024fd27edb018acc91510/expr.ipynb\"><img src=\"../befdae32eaf9992e3e06024fd27edb018acc91510/expr.png\" style=\"display:inline;vertical-align:middle;\" /></a></td></tr>\n",
       "<tr><td>23</td><td>Operation</td><td>operator:&nbsp;32<br>operands:&nbsp;33<br></td><td><a class=\"ProveItLink\" href=\"../91c565963fbc1be6a3c10ad7c0d753149731c0a10/expr.ipynb\"><img src=\"../91c565963fbc1be6a3c10ad7c0d753149731c0a10/expr.png\" style=\"display:inline;vertical-align:middle;\" /></a></td></tr>\n",
       "<tr><td>24</td><td>Literal</td><td></td><td><a class=\"ProveItLink\" href=\"../../common/ac3c140c9094f065c7f7db15c94558731443639c0/expr.ipynb\"><img src=\"../../common/ac3c140c9094f065c7f7db15c94558731443639c0/expr.png\" style=\"display:inline;vertical-align:middle;\" /></a></td></tr>\n",
       "<tr><td>25</td><td>ExprTuple</td><td>34</td><td><a class=\"ProveItLink\" href=\"../../../../../core_expr_types/__pv_it/common/55246c75782800bb2a6180a2cbd1b56cd87bef540/expr.ipynb\"><img src=\"../../../../../core_expr_types/__pv_it/common/55246c75782800bb2a6180a2cbd1b56cd87bef540/expr.png\" style=\"display:inline;vertical-align:middle;\" /></a></td></tr>\n",
       "<tr><td>26</td><td>Lambda</td><td>parameter:&nbsp;46<br>body:&nbsp;35<br></td><td><a class=\"ProveItLink\" href=\"../../../../../core_expr_types/__pv_it/common/1527ad383e12f9c6ed6b371c9a7dd1892d80da1b0/expr.ipynb\"><img src=\"../../../../../core_expr_types/__pv_it/common/1527ad383e12f9c6ed6b371c9a7dd1892d80da1b0/expr.png\" style=\"display:inline;vertical-align:middle;\" /></a></td></tr>\n",
       "<tr><td>27</td><td>Variable</td><td></td><td><a class=\"ProveItLink\" href=\"../../../../../__pv_it/common/ae955345c83abf786c3aff8681cd5465beae262d0/expr.ipynb\"><img src=\"../../../../../__pv_it/common/ae955345c83abf786c3aff8681cd5465beae262d0/expr.png\" style=\"display:inline;vertical-align:middle;\" /></a></td></tr>\n",
       "<tr><td>28</td><td>Lambda</td><td>parameter:&nbsp;46<br>body:&nbsp;36<br></td><td><a class=\"ProveItLink\" href=\"../../../../../core_expr_types/__pv_it/common/89a29b5b02ce6c37577f6352274a3d503dcdde3e0/expr.ipynb\"><img src=\"../../../../../core_expr_types/__pv_it/common/89a29b5b02ce6c37577f6352274a3d503dcdde3e0/expr.png\" style=\"display:inline;vertical-align:middle;\" /></a></td></tr>\n",
       "<tr><td>29</td><td>Variable</td><td></td><td><a class=\"ProveItLink\" href=\"../../../../../__pv_it/common/63b7c64bf9ec7a04ecc396c7a1670f3f12fb59490/expr.ipynb\"><img src=\"../../../../../__pv_it/common/63b7c64bf9ec7a04ecc396c7a1670f3f12fb59490/expr.png\" style=\"display:inline;vertical-align:middle;\" /></a></td></tr>\n",
       "<tr><td>30</td><td>ExprTuple</td><td>35, 37</td><td><a class=\"ProveItLink\" href=\"../a6cc5380b76f99d33dd4bee69928b90878088cce0/expr.ipynb\"><img src=\"../a6cc5380b76f99d33dd4bee69928b90878088cce0/expr.png\" style=\"display:inline;vertical-align:middle;\" /></a></td></tr>\n",
       "<tr><td>31</td><td>ExprTuple</td><td>43, 37</td><td><a class=\"ProveItLink\" href=\"../b134a781a36138a6e21834ae4e48eac6496cec1f0/expr.ipynb\"><img src=\"../b134a781a36138a6e21834ae4e48eac6496cec1f0/expr.png\" style=\"display:inline;vertical-align:middle;\" /></a></td></tr>\n",
       "<tr><td>32</td><td>Literal</td><td></td><td><a class=\"ProveItLink\" href=\"../../../../../logic/sets/membership/__pv_it/common/477487d8796864d23d5810f83761435f25167f690/expr.ipynb\"><img src=\"../../../../../logic/sets/membership/__pv_it/common/477487d8796864d23d5810f83761435f25167f690/expr.png\" style=\"display:inline;vertical-align:middle;\" /></a></td></tr>\n",
       "<tr><td>33</td><td>ExprTuple</td><td>36, 37</td><td><a class=\"ProveItLink\" href=\"../0ecaee9793fa5492091b97446bc647e8dd39f5050/expr.ipynb\"><img src=\"../0ecaee9793fa5492091b97446bc647e8dd39f5050/expr.png\" style=\"display:inline;vertical-align:middle;\" /></a></td></tr>\n",
       "<tr><td>34</td><td>ExprRange</td><td>lambda_map:&nbsp;38<br>start_index:&nbsp;39<br>end_index:&nbsp;40<br></td><td><a class=\"ProveItLink\" href=\"../../../../../core_expr_types/__pv_it/common/d0e70829681f7e0560cecc174fdf76cb311d43400/expr.ipynb\"><img src=\"../../../../../core_expr_types/__pv_it/common/d0e70829681f7e0560cecc174fdf76cb311d43400/expr.png\" style=\"display:inline;vertical-align:middle;\" /></a></td></tr>\n",
       "<tr><td>35</td><td>IndexedVar</td><td>variable:&nbsp;41<br>index:&nbsp;46<br></td><td><a class=\"ProveItLink\" href=\"../../../../../core_expr_types/__pv_it/common/3a62c13e156d62d52fe585fa37cc2172fcf685260/expr.ipynb\"><img src=\"../../../../../core_expr_types/__pv_it/common/3a62c13e156d62d52fe585fa37cc2172fcf685260/expr.png\" style=\"display:inline;vertical-align:middle;\" /></a></td></tr>\n",
       "<tr><td>36</td><td>IndexedVar</td><td>variable:&nbsp;42<br>index:&nbsp;46<br></td><td><a class=\"ProveItLink\" href=\"../../../../../core_expr_types/__pv_it/common/8ffbefe913f7c934b2e3a2a12315d5900822d9d00/expr.ipynb\"><img src=\"../../../../../core_expr_types/__pv_it/common/8ffbefe913f7c934b2e3a2a12315d5900822d9d00/expr.png\" style=\"display:inline;vertical-align:middle;\" /></a></td></tr>\n",
       "<tr><td>37</td><td>Variable</td><td></td><td><a class=\"ProveItLink\" href=\"../../../../../__pv_it/common/6d80eb1398b2335bf9ec427954b851b7094dced50/expr.ipynb\"><img src=\"../../../../../__pv_it/common/6d80eb1398b2335bf9ec427954b851b7094dced50/expr.png\" style=\"display:inline;vertical-align:middle;\" /></a></td></tr>\n",
       "<tr><td>38</td><td>Lambda</td><td>parameter:&nbsp;46<br>body:&nbsp;43<br></td><td><a class=\"ProveItLink\" href=\"../../../../../core_expr_types/__pv_it/common/d763764ede9c88a33f4b750791da02d1a21cb6820/expr.ipynb\"><img src=\"../../../../../core_expr_types/__pv_it/common/d763764ede9c88a33f4b750791da02d1a21cb6820/expr.png\" style=\"display:inline;vertical-align:middle;\" /></a></td></tr>\n",
       "<tr><td>39</td><td>Literal</td><td></td><td><a class=\"ProveItLink\" href=\"../../../../../numbers/numerals/__pv_it/common/682157d4892d216d9e5626ed533aff9b56b9506e0/expr.ipynb\"><img src=\"../../../../../numbers/numerals/__pv_it/common/682157d4892d216d9e5626ed533aff9b56b9506e0/expr.png\" style=\"display:inline;vertical-align:middle;\" /></a></td></tr>\n",
       "<tr><td>40</td><td>Variable</td><td></td><td><a class=\"ProveItLink\" href=\"../../../../../__pv_it/common/1ed21df18baca2f42b561a7ffbf30a2743d594650/expr.ipynb\"><img src=\"../../../../../__pv_it/common/1ed21df18baca2f42b561a7ffbf30a2743d594650/expr.png\" style=\"display:inline;vertical-align:middle;\" /></a></td></tr>\n",
       "<tr><td>41</td><td>Variable</td><td></td><td><a class=\"ProveItLink\" href=\"../../../../../__pv_it/common/c06c606ec12678c58933ac85412ecadc2ae28be60/expr.ipynb\"><img src=\"../../../../../__pv_it/common/c06c606ec12678c58933ac85412ecadc2ae28be60/expr.png\" style=\"display:inline;vertical-align:middle;\" /></a></td></tr>\n",
       "<tr><td>42</td><td>Variable</td><td></td><td><a class=\"ProveItLink\" href=\"../../../../../__pv_it/common/ceef4280a2f1cc604b455b54e735507244cc62cd0/expr.ipynb\"><img src=\"../../../../../__pv_it/common/ceef4280a2f1cc604b455b54e735507244cc62cd0/expr.png\" style=\"display:inline;vertical-align:middle;\" /></a></td></tr>\n",
       "<tr><td>43</td><td>IndexedVar</td><td>variable:&nbsp;44<br>index:&nbsp;46<br></td><td><a class=\"ProveItLink\" href=\"../../../../../core_expr_types/__pv_it/common/8542342c36565a593724a99f9c08d995c1c21af20/expr.ipynb\"><img src=\"../../../../../core_expr_types/__pv_it/common/8542342c36565a593724a99f9c08d995c1c21af20/expr.png\" style=\"display:inline;vertical-align:middle;\" /></a></td></tr>\n",
       "<tr><td>44</td><td>Variable</td><td></td><td><a class=\"ProveItLink\" href=\"../../../../../__pv_it/common/195236b98c6c564a75b5dbada74b173bc52d5c3e0/expr.ipynb\"><img src=\"../../../../../__pv_it/common/195236b98c6c564a75b5dbada74b173bc52d5c3e0/expr.png\" style=\"display:inline;vertical-align:middle;\" /></a></td></tr>\n",
       "<tr><td>45</td><td>ExprTuple</td><td>46</td><td><a class=\"ProveItLink\" href=\"../../../../../core_expr_types/__pv_it/common/4b0dd6be36d76552eda6a95d5b4a27f5a5b62f900/expr.ipynb\"><img src=\"../../../../../core_expr_types/__pv_it/common/4b0dd6be36d76552eda6a95d5b4a27f5a5b62f900/expr.png\" style=\"display:inline;vertical-align:middle;\" /></a></td></tr>\n",
       "<tr><td>46</td><td>Variable</td><td></td><td><a class=\"ProveItLink\" href=\"../../../../../core_expr_types/__pv_it/common/006c465e50948aa2b52285e2de47974f741255cc0/expr.ipynb\"><img src=\"../../../../../core_expr_types/__pv_it/common/006c465e50948aa2b52285e2de47974f741255cc0/expr.png\" style=\"display:inline;vertical-align:middle;\" /></a></td></tr>\n",
       "</table>\n"
      ],
      "text/plain": [
       "0. (a_{1}, a_{2}, ..., a_{i}, b_{1}, b_{2}, ..., b_{j}, c_{1}, c_{2}, ..., c_{k}) -> {(a_{1} +  a_{2} +  ... +  a_{i} + (b_{1} +  b_{2} +  ... +  b_{j})+ c_{1} +  c_{2} +  ... +  c_{k}) =  \\\\ (a_{1} +  a_{2} +  ... +  a_{i}+ b_{1} +  b_{2} +  ... +  b_{j}+ c_{1} +  c_{2} +  ... +  c_{k}) if (a_{1} in V) ,  (a_{2} in V) ,  ... ,  (a_{i} in V), (b_{1} in V) ,  (b_{2} in V) ,  ... ,  (b_{j} in V), (c_{1} in V) ,  (c_{2} in V) ,  ... ,  (c_{k} in V).\n",
       "   core type: Lambda\n",
       "   parameters: 14\\n   body: 1\n",
       "1. {(a_{1} +  a_{2} +  ... +  a_{i} + (b_{1} +  b_{2} +  ... +  b_{j})+ c_{1} +  c_{2} +  ... +  c_{k}) =  \\\\ (a_{1} +  a_{2} +  ... +  a_{i}+ b_{1} +  b_{2} +  ... +  b_{j}+ c_{1} +  c_{2} +  ... +  c_{k}) if (a_{1} in V) ,  (a_{2} in V) ,  ... ,  (a_{i} in V), (b_{1} in V) ,  (b_{2} in V) ,  ... ,  (b_{j} in V), (c_{1} in V) ,  (c_{2} in V) ,  ... ,  (c_{k} in V).\n",
       "   core type: Conditional\n",
       "   value: 2\n",
       "   condition: 3\n",
       "2. (a_{1} +  a_{2} +  ... +  a_{i} + (b_{1} +  b_{2} +  ... +  b_{j})+ c_{1} +  c_{2} +  ... +  c_{k}) =  \\\\ (a_{1} +  a_{2} +  ... +  a_{i}+ b_{1} +  b_{2} +  ... +  b_{j}+ c_{1} +  c_{2} +  ... +  c_{k})\n",
       "   core type: Operation\n",
       "   operator: 4\n",
       "   operands: 5\n",
       "3. (a_{1} in V) and  (a_{2} in V) and  ... and  (a_{i} in V)and (b_{1} in V) and  (b_{2} in V) and  ... and  (b_{j} in V)and (c_{1} in V) and  (c_{2} in V) and  ... and  (c_{k} in V)\n",
       "   core type: Operation\n",
       "   operator: 6\n",
       "   operands: 7\n",
       "4. =\n",
       "   core type: Literal\n",
       "   sub-expressions: \n",
       "5. (a_{1} +  a_{2} +  ... +  a_{i} + (b_{1} +  b_{2} +  ... +  b_{j})+ c_{1} +  c_{2} +  ... +  c_{k}, a_{1} +  a_{2} +  ... +  a_{i}+ b_{1} +  b_{2} +  ... +  b_{j}+ c_{1} +  c_{2} +  ... +  c_{k})\n",
       "   core type: ExprTuple\n",
       "   sub-expressions: 8, 9\n",
       "6. and\n",
       "   core type: Literal\n",
       "   sub-expressions: \n",
       "7. ((a_{1} in V), (a_{2} in V), ..., (a_{i} in V),(b_{1} in V), (b_{2} in V), ..., (b_{j} in V),(c_{1} in V), (c_{2} in V), ..., (c_{k} in V))\n",
       "   core type: ExprTuple\n",
       "   sub-expressions: 10, 11, 12\n",
       "8. a_{1} +  a_{2} +  ... +  a_{i} + (b_{1} +  b_{2} +  ... +  b_{j})+ c_{1} +  c_{2} +  ... +  c_{k}\n",
       "   core type: Operation\n",
       "   operator: 24\n",
       "   operands: 13\n",
       "9. a_{1} +  a_{2} +  ... +  a_{i}+ b_{1} +  b_{2} +  ... +  b_{j}+ c_{1} +  c_{2} +  ... +  c_{k}\n",
       "   core type: Operation\n",
       "   operator: 24\n",
       "   operands: 14\n",
       "10. (a_{1} in V), (a_{2} in V), ..., (a_{i} in V)\n",
       "    core type: ExprRange\n",
       "    lambda_map: 15\n",
       "    start_index: 39\n",
       "    end_index: 27\n",
       "11. (b_{1} in V), (b_{2} in V), ..., (b_{j} in V)\n",
       "    core type: ExprRange\n",
       "    lambda_map: 16\n",
       "    start_index: 39\n",
       "    end_index: 40\n",
       "12. (c_{1} in V), (c_{2} in V), ..., (c_{k} in V)\n",
       "    core type: ExprRange\n",
       "    lambda_map: 17\n",
       "    start_index: 39\n",
       "    end_index: 29\n",
       "13. (a_{1}, a_{2}, ..., a_{i}, b_{1} +  b_{2} +  ... +  b_{j},c_{1}, c_{2}, ..., c_{k})\n",
       "    core type: ExprTuple\n",
       "    sub-expressions: 19, 18, 20\n",
       "14. (a_{1}, a_{2}, ..., a_{i},b_{1}, b_{2}, ..., b_{j},c_{1}, c_{2}, ..., c_{k})\n",
       "    core type: ExprTuple\n",
       "    sub-expressions: 19, 34, 20\n",
       "15. _a -> (a_{_a} in V)\n",
       "    core type: Lambda\n",
       "    parameter: 46\n",
       "    body: 21\n",
       "16. _a -> (b_{_a} in V)\n",
       "    core type: Lambda\n",
       "    parameter: 46\n",
       "    body: 22\n",
       "17. _a -> (c_{_a} in V)\n",
       "    core type: Lambda\n",
       "    parameter: 46\n",
       "    body: 23\n",
       "18. b_{1} +  b_{2} +  ... +  b_{j}\n",
       "    core type: Operation\n",
       "    operator: 24\n",
       "    operands: 25\n",
       "19. a_{1}, a_{2}, ..., a_{i}\n",
       "    core type: ExprRange\n",
       "    lambda_map: 26\n",
       "    start_index: 39\n",
       "    end_index: 27\n",
       "20. c_{1}, c_{2}, ..., c_{k}\n",
       "    core type: ExprRange\n",
       "    lambda_map: 28\n",
       "    start_index: 39\n",
       "    end_index: 29\n",
       "21. a_{_a} in V\n",
       "    core type: Operation\n",
       "    operator: 32\n",
       "    operands: 30\n",
       "22. b_{_a} in V\n",
       "    core type: Operation\n",
       "    operator: 32\n",
       "    operands: 31\n",
       "23. c_{_a} in V\n",
       "    core type: Operation\n",
       "    operator: 32\n",
       "    operands: 33\n",
       "24. +\n",
       "    core type: Literal\n",
       "    sub-expressions: \n",
       "25. (b_{1}, b_{2}, ..., b_{j})\n",
       "    core type: ExprTuple\n",
       "    sub-expressions: 34\n",
       "26. _a -> a_{_a}\n",
       "    core type: Lambda\n",
       "    parameter: 46\n",
       "    body: 35\n",
       "27. i\n",
       "    core type: Variable\n",
       "    sub-expressions: \n",
       "28. _a -> c_{_a}\n",
       "    core type: Lambda\n",
       "    parameter: 46\n",
       "    body: 36\n",
       "29. k\n",
       "    core type: Variable\n",
       "    sub-expressions: \n",
       "30. (a_{_a}, V)\n",
       "    core type: ExprTuple\n",
       "    sub-expressions: 35, 37\n",
       "31. (b_{_a}, V)\n",
       "    core type: ExprTuple\n",
       "    sub-expressions: 43, 37\n",
       "32. in\n",
       "    core type: Literal\n",
       "    sub-expressions: \n",
       "33. (c_{_a}, V)\n",
       "    core type: ExprTuple\n",
       "    sub-expressions: 36, 37\n",
       "34. b_{1}, b_{2}, ..., b_{j}\n",
       "    core type: ExprRange\n",
       "    lambda_map: 38\n",
       "    start_index: 39\n",
       "    end_index: 40\n",
       "35. a_{_a}\n",
       "    core type: IndexedVar\n",
       "variable: 41\n",
       "index: 46\n",
       "36. c_{_a}\n",
       "    core type: IndexedVar\n",
       "variable: 42\n",
       "index: 46\n",
       "37. V\n",
       "    core type: Variable\n",
       "    sub-expressions: \n",
       "38. _a -> b_{_a}\n",
       "    core type: Lambda\n",
       "    parameter: 46\n",
       "    body: 43\n",
       "39. 1\n",
       "    core type: Literal\n",
       "    sub-expressions: \n",
       "40. j\n",
       "    core type: Variable\n",
       "    sub-expressions: \n",
       "41. a\n",
       "    core type: Variable\n",
       "    sub-expressions: \n",
       "42. c\n",
       "    core type: Variable\n",
       "    sub-expressions: \n",
       "43. b_{_a}\n",
       "    core type: IndexedVar\n",
       "variable: 44\n",
       "index: 46\n",
       "44. b\n",
       "    core type: Variable\n",
       "    sub-expressions: \n",
       "45. (_a)\n",
       "    core type: ExprTuple\n",
       "    sub-expressions: 46\n",
       "46. _a\n",
       "    core type: Variable\n",
       "    sub-expressions: "
      ]
     },
     "metadata": {},
     "output_type": "display_data"
    }
   ],
   "source": [
    "# display the expression information\n",
    "stored_expr.expr_info()"
   ]
  },
  {
   "cell_type": "code",
   "execution_count": null,
   "metadata": {},
   "outputs": [],
   "source": []
  }
 ],
 "metadata": {
  "kernelspec": {
   "display_name": "Python 3",
   "language": "python",
   "name": "python3"
  }
 },
 "nbformat": 4,
 "nbformat_minor": 0
}