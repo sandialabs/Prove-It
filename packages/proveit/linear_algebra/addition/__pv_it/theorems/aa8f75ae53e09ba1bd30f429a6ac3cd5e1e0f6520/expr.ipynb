{
 "cells": [
  {
   "cell_type": "markdown",
   "metadata": {},
   "source": [
    "Expression of type <a class=\"ProveItLink\" href=\"../../../../../../../doc/html/api/proveit.Conditional.html\">Conditional</a>\n",
    "=======================\n",
    "# from the theory of <a class=\"ProveItLink\" href=\"../../../_theory_nbs_/theory.ipynb\">proveit.linear_algebra.addition</a>"
   ]
  },
  {
   "cell_type": "code",
   "execution_count": 1,
   "metadata": {},
   "outputs": [],
   "source": [
    "import proveit\n",
    "# Automation is not needed when building an expression:\n",
    "proveit.defaults.automation = False # This will speed things up.\n",
    "proveit.defaults.inline_pngs = False # Makes files smaller.\n",
    "%load_expr # Load the stored expression as 'stored_expr'\n",
    "# import Expression classes needed to build the expression\n",
    "from proveit import Conditional, V, i, j, k, v\n",
    "from proveit.linear_algebra import ScalarMult, VecSum\n",
    "from proveit.logic import Equals, InSet\n",
    "from proveit.numbers import Add, Interval, one, subtract"
   ]
  },
  {
   "cell_type": "code",
   "execution_count": 2,
   "metadata": {},
   "outputs": [
    {
     "data": {
      "text/html": [
       "<strong id=\"expr\">expr:</strong> <a class=\"ProveItLink\" href=\"expr.ipynb\"><img src=\"expr.png\" style=\"display:inline;vertical-align:middle;\" /></a><br>"
      ],
      "text/plain": [
       "<IPython.core.display.HTML object>"
      ]
     },
     "metadata": {},
     "output_type": "display_data"
    }
   ],
   "source": [
    "# build up the expression from sub-expressions\n",
    "expr = Conditional(Equals(VecSum(index_or_indices = [i], summand = v, domain = Interval(j, k)), ScalarMult(Add(subtract(k, j), one), v)), InSet(v, V))"
   ]
  },
  {
   "cell_type": "code",
   "execution_count": 3,
   "metadata": {},
   "outputs": [
    {
     "name": "stdout",
     "output_type": "stream",
     "text": [
      "Passed sanity check: expr matches stored_expr\n"
     ]
    }
   ],
   "source": [
    "# check that the built expression is the same as the stored expression\n",
    "assert expr == stored_expr\n",
    "assert expr._style_id == stored_expr._style_id\n",
    "print(\"Passed sanity check: expr matches stored_expr\")"
   ]
  },
  {
   "cell_type": "code",
   "execution_count": 4,
   "metadata": {},
   "outputs": [
    {
     "name": "stdout",
     "output_type": "stream",
     "text": [
      "\\left\\{\\left(\\sum_{i=j}^{k} v\\right) = \\left(\\left(\\left(k - j\\right) + 1\\right) \\cdot v\\right) \\textrm{ if } v \\in V\\right..\n"
     ]
    }
   ],
   "source": [
    "# Show the LaTeX representation of the expression for convenience if you need it.\n",
    "print(stored_expr.latex())"
   ]
  },
  {
   "cell_type": "code",
   "execution_count": 5,
   "metadata": {},
   "outputs": [
    {
     "data": {
      "text/html": [
       "<table>\n",
       "<tr><th>name</th><th>description</th><th>default</th><th>current value</th><th>related methods</th></tr><tr><td>condition_delimiter</td><td>'comma' or 'and'</td><td>comma</td><td>comma</td><td>('with_comma_delimiter', 'with_conjunction_delimiter')</td></tr>\n",
       "</table>\n"
      ],
      "text/plain": [
       "style name: condition_delimiter\n",
       "description: 'comma' or 'and'\n",
       "default: comma\n",
       "current value: comma\n",
       "related methods: ('with_comma_delimiter', 'with_conjunction_delimiter')"
      ]
     },
     "metadata": {},
     "output_type": "display_data"
    }
   ],
   "source": [
    "stored_expr.style_options()"
   ]
  },
  {
   "cell_type": "code",
   "execution_count": 6,
   "metadata": {},
   "outputs": [
    {
     "data": {
      "text/html": [
       "<table><tr><th>&nbsp;</th><th>core type</th><th>sub-expressions</th><th>expression</th></tr>\n",
       "<tr><td>0</td><td>Conditional</td><td>value:&nbsp;1<br>condition:&nbsp;2<br></td><td><a class=\"ProveItLink\" href=\"expr.ipynb\"><img src=\"expr.png\" style=\"display:inline;vertical-align:middle;\" /></a></td></tr>\n",
       "<tr><td>1</td><td>Operation</td><td>operator:&nbsp;3<br>operands:&nbsp;4<br></td><td><a class=\"ProveItLink\" href=\"../a84eccb90253861a3d28a50017b2e98f7c6351650/expr.ipynb\"><img src=\"../a84eccb90253861a3d28a50017b2e98f7c6351650/expr.png\" style=\"display:inline;vertical-align:middle;\" /></a></td></tr>\n",
       "<tr><td>2</td><td>Operation</td><td>operator:&nbsp;22<br>operands:&nbsp;5<br></td><td><a class=\"ProveItLink\" href=\"../cb54d96b24fc3f59d4e803235a6602263db471040/expr.ipynb\"><img src=\"../cb54d96b24fc3f59d4e803235a6602263db471040/expr.png\" style=\"display:inline;vertical-align:middle;\" /></a></td></tr>\n",
       "<tr><td>3</td><td>Literal</td><td></td><td><a class=\"ProveItLink\" href=\"../../../../../logic/equality/__pv_it/common/fb96dc12b2aa8801dda64d0132b396c63d1502bb0/expr.ipynb\"><img src=\"../../../../../logic/equality/__pv_it/common/fb96dc12b2aa8801dda64d0132b396c63d1502bb0/expr.png\" style=\"display:inline;vertical-align:middle;\" /></a></td></tr>\n",
       "<tr><td>4</td><td>ExprTuple</td><td>6, 7</td><td><a class=\"ProveItLink\" href=\"../2e4fd159191dabdcfed9e6286c11225fce9dee9e0/expr.ipynb\"><img src=\"../2e4fd159191dabdcfed9e6286c11225fce9dee9e0/expr.png\" style=\"display:inline;vertical-align:middle;\" /></a></td></tr>\n",
       "<tr><td>5</td><td>ExprTuple</td><td>18, 8</td><td><a class=\"ProveItLink\" href=\"../fe91924ad72f2e130ae61bf42112798be82f3eca0/expr.ipynb\"><img src=\"../fe91924ad72f2e130ae61bf42112798be82f3eca0/expr.png\" style=\"display:inline;vertical-align:middle;\" /></a></td></tr>\n",
       "<tr><td>6</td><td>Operation</td><td>operator:&nbsp;9<br>operand:&nbsp;13<br></td><td><a class=\"ProveItLink\" href=\"../292ba8494509459cbcd1779ab85e1e8466d203c80/expr.ipynb\"><img src=\"../292ba8494509459cbcd1779ab85e1e8466d203c80/expr.png\" style=\"display:inline;vertical-align:middle;\" /></a></td></tr>\n",
       "<tr><td>7</td><td>Operation</td><td>operator:&nbsp;11<br>operands:&nbsp;12<br></td><td><a class=\"ProveItLink\" href=\"../e6b49f3be318de390437089d454ba50497070c000/expr.ipynb\"><img src=\"../e6b49f3be318de390437089d454ba50497070c000/expr.png\" style=\"display:inline;vertical-align:middle;\" /></a></td></tr>\n",
       "<tr><td>8</td><td>Variable</td><td></td><td><a class=\"ProveItLink\" href=\"../../../../../__pv_it/common/6d80eb1398b2335bf9ec427954b851b7094dced50/expr.ipynb\"><img src=\"../../../../../__pv_it/common/6d80eb1398b2335bf9ec427954b851b7094dced50/expr.png\" style=\"display:inline;vertical-align:middle;\" /></a></td></tr>\n",
       "<tr><td>9</td><td>Literal</td><td></td><td><a class=\"ProveItLink\" href=\"../../common/62f73c830c62efb87627ede5678f282081cd0ce20/expr.ipynb\"><img src=\"../../common/62f73c830c62efb87627ede5678f282081cd0ce20/expr.png\" style=\"display:inline;vertical-align:middle;\" /></a></td></tr>\n",
       "<tr><td>10</td><td>ExprTuple</td><td>13</td><td><a class=\"ProveItLink\" href=\"../dd1a9b1192c633fb80e97a8cadaedf1ec4eaaf390/expr.ipynb\"><img src=\"../dd1a9b1192c633fb80e97a8cadaedf1ec4eaaf390/expr.png\" style=\"display:inline;vertical-align:middle;\" /></a></td></tr>\n",
       "<tr><td>11</td><td>Literal</td><td></td><td><a class=\"ProveItLink\" href=\"../../../../scalar_multiplication/__pv_it/common/1e364bd471e6a29fcd358dd2d9cd990a1e6fedd40/expr.ipynb\"><img src=\"../../../../scalar_multiplication/__pv_it/common/1e364bd471e6a29fcd358dd2d9cd990a1e6fedd40/expr.png\" style=\"display:inline;vertical-align:middle;\" /></a></td></tr>\n",
       "<tr><td>12</td><td>ExprTuple</td><td>14, 18</td><td><a class=\"ProveItLink\" href=\"../f6218adfe59ae8633d376ea99338b3f6d0345b420/expr.ipynb\"><img src=\"../f6218adfe59ae8633d376ea99338b3f6d0345b420/expr.png\" style=\"display:inline;vertical-align:middle;\" /></a></td></tr>\n",
       "<tr><td>13</td><td>Lambda</td><td>parameter:&nbsp;26<br>body:&nbsp;16<br></td><td><a class=\"ProveItLink\" href=\"../0dfa3aa393254fa267e85b0f49c0ee6efc76ddd00/expr.ipynb\"><img src=\"../0dfa3aa393254fa267e85b0f49c0ee6efc76ddd00/expr.png\" style=\"display:inline;vertical-align:middle;\" /></a></td></tr>\n",
       "<tr><td>14</td><td>Operation</td><td>operator:&nbsp;24<br>operands:&nbsp;17<br></td><td><a class=\"ProveItLink\" href=\"../22bc16ba49835c4af0628e05911c2956527a32e60/expr.ipynb\"><img src=\"../22bc16ba49835c4af0628e05911c2956527a32e60/expr.png\" style=\"display:inline;vertical-align:middle;\" /></a></td></tr>\n",
       "<tr><td>15</td><td>ExprTuple</td><td>26</td><td><a class=\"ProveItLink\" href=\"../../../../../__pv_it/common/3b7d7ace2ced0a8261ea4d18d03aaf49e434d69d0/expr.ipynb\"><img src=\"../../../../../__pv_it/common/3b7d7ace2ced0a8261ea4d18d03aaf49e434d69d0/expr.png\" style=\"display:inline;vertical-align:middle;\" /></a></td></tr>\n",
       "<tr><td>16</td><td>Conditional</td><td>value:&nbsp;18<br>condition:&nbsp;19<br></td><td><a class=\"ProveItLink\" href=\"../90c233d293a243d44dd994ff63fb7df4fb7068150/expr.ipynb\"><img src=\"../90c233d293a243d44dd994ff63fb7df4fb7068150/expr.png\" style=\"display:inline;vertical-align:middle;\" /></a></td></tr>\n",
       "<tr><td>17</td><td>ExprTuple</td><td>20, 21</td><td><a class=\"ProveItLink\" href=\"../c0304637062632c213668c523edb5c118fc88c690/expr.ipynb\"><img src=\"../c0304637062632c213668c523edb5c118fc88c690/expr.png\" style=\"display:inline;vertical-align:middle;\" /></a></td></tr>\n",
       "<tr><td>18</td><td>Variable</td><td></td><td><a class=\"ProveItLink\" href=\"../../../../../__pv_it/common/a4b9661da9b52dcebf59c5559fec8901f4df10750/expr.ipynb\"><img src=\"../../../../../__pv_it/common/a4b9661da9b52dcebf59c5559fec8901f4df10750/expr.png\" style=\"display:inline;vertical-align:middle;\" /></a></td></tr>\n",
       "<tr><td>19</td><td>Operation</td><td>operator:&nbsp;22<br>operands:&nbsp;23<br></td><td><a class=\"ProveItLink\" href=\"../b46003eff3b3e69b803c0685e24287b75b0f379f0/expr.ipynb\"><img src=\"../b46003eff3b3e69b803c0685e24287b75b0f379f0/expr.png\" style=\"display:inline;vertical-align:middle;\" /></a></td></tr>\n",
       "<tr><td>20</td><td>Operation</td><td>operator:&nbsp;24<br>operands:&nbsp;25<br></td><td><a class=\"ProveItLink\" href=\"../c984d4d1cdc793cb183aa71774c8dccf718d74fb0/expr.ipynb\"><img src=\"../c984d4d1cdc793cb183aa71774c8dccf718d74fb0/expr.png\" style=\"display:inline;vertical-align:middle;\" /></a></td></tr>\n",
       "<tr><td>21</td><td>Literal</td><td></td><td><a class=\"ProveItLink\" href=\"../../../../../numbers/numerals/__pv_it/common/682157d4892d216d9e5626ed533aff9b56b9506e0/expr.ipynb\"><img src=\"../../../../../numbers/numerals/__pv_it/common/682157d4892d216d9e5626ed533aff9b56b9506e0/expr.png\" style=\"display:inline;vertical-align:middle;\" /></a></td></tr>\n",
       "<tr><td>22</td><td>Literal</td><td></td><td><a class=\"ProveItLink\" href=\"../../../../../logic/sets/membership/__pv_it/common/477487d8796864d23d5810f83761435f25167f690/expr.ipynb\"><img src=\"../../../../../logic/sets/membership/__pv_it/common/477487d8796864d23d5810f83761435f25167f690/expr.png\" style=\"display:inline;vertical-align:middle;\" /></a></td></tr>\n",
       "<tr><td>23</td><td>ExprTuple</td><td>26, 27</td><td><a class=\"ProveItLink\" href=\"../93bcf45989c2cfbcb086778b312df7a50a431fa00/expr.ipynb\"><img src=\"../93bcf45989c2cfbcb086778b312df7a50a431fa00/expr.png\" style=\"display:inline;vertical-align:middle;\" /></a></td></tr>\n",
       "<tr><td>24</td><td>Literal</td><td></td><td><a class=\"ProveItLink\" href=\"../../../../../numbers/addition/__pv_it/common/4b7effaab3619a1c2c38fe2dee8601df8ec714590/expr.ipynb\"><img src=\"../../../../../numbers/addition/__pv_it/common/4b7effaab3619a1c2c38fe2dee8601df8ec714590/expr.png\" style=\"display:inline;vertical-align:middle;\" /></a></td></tr>\n",
       "<tr><td>25</td><td>ExprTuple</td><td>33, 28</td><td><a class=\"ProveItLink\" href=\"../0aa2e92c4d3dc56d7c3c434942cb665c815afeaf0/expr.ipynb\"><img src=\"../0aa2e92c4d3dc56d7c3c434942cb665c815afeaf0/expr.png\" style=\"display:inline;vertical-align:middle;\" /></a></td></tr>\n",
       "<tr><td>26</td><td>Variable</td><td></td><td><a class=\"ProveItLink\" href=\"../../../../../__pv_it/common/ae955345c83abf786c3aff8681cd5465beae262d0/expr.ipynb\"><img src=\"../../../../../__pv_it/common/ae955345c83abf786c3aff8681cd5465beae262d0/expr.png\" style=\"display:inline;vertical-align:middle;\" /></a></td></tr>\n",
       "<tr><td>27</td><td>Operation</td><td>operator:&nbsp;29<br>operands:&nbsp;30<br></td><td><a class=\"ProveItLink\" href=\"../08cc612914bc85783c411f566962d3c17fc0cf420/expr.ipynb\"><img src=\"../08cc612914bc85783c411f566962d3c17fc0cf420/expr.png\" style=\"display:inline;vertical-align:middle;\" /></a></td></tr>\n",
       "<tr><td>28</td><td>Operation</td><td>operator:&nbsp;31<br>operand:&nbsp;34<br></td><td><a class=\"ProveItLink\" href=\"../24f853fddbdbdadc19a8f07ec76ee6ccec6bd1460/expr.ipynb\"><img src=\"../24f853fddbdbdadc19a8f07ec76ee6ccec6bd1460/expr.png\" style=\"display:inline;vertical-align:middle;\" /></a></td></tr>\n",
       "<tr><td>29</td><td>Literal</td><td></td><td><a class=\"ProveItLink\" href=\"../../../../../numbers/number_sets/integers/__pv_it/common/92f3a0a77e3c3ea8e4a5c8674edadc54e4f57d550/expr.ipynb\"><img src=\"../../../../../numbers/number_sets/integers/__pv_it/common/92f3a0a77e3c3ea8e4a5c8674edadc54e4f57d550/expr.png\" style=\"display:inline;vertical-align:middle;\" /></a></td></tr>\n",
       "<tr><td>30</td><td>ExprTuple</td><td>34, 33</td><td><a class=\"ProveItLink\" href=\"../5d5621289915e24a2f6376aefc32142d7a51e9880/expr.ipynb\"><img src=\"../5d5621289915e24a2f6376aefc32142d7a51e9880/expr.png\" style=\"display:inline;vertical-align:middle;\" /></a></td></tr>\n",
       "<tr><td>31</td><td>Literal</td><td></td><td><a class=\"ProveItLink\" href=\"../../../../../numbers/negation/__pv_it/common/221b3c4d1770ee9051b7c044c3f9ec61196fc34b0/expr.ipynb\"><img src=\"../../../../../numbers/negation/__pv_it/common/221b3c4d1770ee9051b7c044c3f9ec61196fc34b0/expr.png\" style=\"display:inline;vertical-align:middle;\" /></a></td></tr>\n",
       "<tr><td>32</td><td>ExprTuple</td><td>34</td><td><a class=\"ProveItLink\" href=\"../e53e75ee8364373a10f420a7f9184b4cb67637be0/expr.ipynb\"><img src=\"../e53e75ee8364373a10f420a7f9184b4cb67637be0/expr.png\" style=\"display:inline;vertical-align:middle;\" /></a></td></tr>\n",
       "<tr><td>33</td><td>Variable</td><td></td><td><a class=\"ProveItLink\" href=\"../../../../../__pv_it/common/63b7c64bf9ec7a04ecc396c7a1670f3f12fb59490/expr.ipynb\"><img src=\"../../../../../__pv_it/common/63b7c64bf9ec7a04ecc396c7a1670f3f12fb59490/expr.png\" style=\"display:inline;vertical-align:middle;\" /></a></td></tr>\n",
       "<tr><td>34</td><td>Variable</td><td></td><td><a class=\"ProveItLink\" href=\"../../../../../__pv_it/common/1ed21df18baca2f42b561a7ffbf30a2743d594650/expr.ipynb\"><img src=\"../../../../../__pv_it/common/1ed21df18baca2f42b561a7ffbf30a2743d594650/expr.png\" style=\"display:inline;vertical-align:middle;\" /></a></td></tr>\n",
       "</table>\n"
      ],
      "text/plain": [
       "0. {(Sum_{i=j}^{k} v) = (((k - j) + 1) * v) if v in V.\n",
       "   core type: Conditional\n",
       "   value: 1\n",
       "   condition: 2\n",
       "1. (Sum_{i=j}^{k} v) = (((k - j) + 1) * v)\n",
       "   core type: Operation\n",
       "   operator: 3\n",
       "   operands: 4\n",
       "2. v in V\n",
       "   core type: Operation\n",
       "   operator: 22\n",
       "   operands: 5\n",
       "3. =\n",
       "   core type: Literal\n",
       "   sub-expressions: \n",
       "4. (Sum_{i=j}^{k} v, ((k - j) + 1) * v)\n",
       "   core type: ExprTuple\n",
       "   sub-expressions: 6, 7\n",
       "5. (v, V)\n",
       "   core type: ExprTuple\n",
       "   sub-expressions: 18, 8\n",
       "6. Sum_{i=j}^{k} v\n",
       "   core type: Operation\n",
       "   operator: 9\n",
       "   operand: 13\n",
       "7. ((k - j) + 1) * v\n",
       "   core type: Operation\n",
       "   operator: 11\n",
       "   operands: 12\n",
       "8. V\n",
       "   core type: Variable\n",
       "   sub-expressions: \n",
       "9. Sum\n",
       "   core type: Literal\n",
       "   sub-expressions: \n",
       "10. (i -> {v if i in {j .. k}.)\n",
       "    core type: ExprTuple\n",
       "    sub-expressions: 13\n",
       "11. *\n",
       "    core type: Literal\n",
       "    sub-expressions: \n",
       "12. ((k - j) + 1, v)\n",
       "    core type: ExprTuple\n",
       "    sub-expressions: 14, 18\n",
       "13. i -> {v if i in {j .. k}.\n",
       "    core type: Lambda\n",
       "    parameter: 26\n",
       "    body: 16\n",
       "14. (k - j) + 1\n",
       "    core type: Operation\n",
       "    operator: 24\n",
       "    operands: 17\n",
       "15. (i)\n",
       "    core type: ExprTuple\n",
       "    sub-expressions: 26\n",
       "16. {v if i in {j .. k}.\n",
       "    core type: Conditional\n",
       "    value: 18\n",
       "    condition: 19\n",
       "17. (k - j, 1)\n",
       "    core type: ExprTuple\n",
       "    sub-expressions: 20, 21\n",
       "18. v\n",
       "    core type: Variable\n",
       "    sub-expressions: \n",
       "19. i in {j .. k}\n",
       "    core type: Operation\n",
       "    operator: 22\n",
       "    operands: 23\n",
       "20. k - j\n",
       "    core type: Operation\n",
       "    operator: 24\n",
       "    operands: 25\n",
       "21. 1\n",
       "    core type: Literal\n",
       "    sub-expressions: \n",
       "22. in\n",
       "    core type: Literal\n",
       "    sub-expressions: \n",
       "23. (i, {j .. k})\n",
       "    core type: ExprTuple\n",
       "    sub-expressions: 26, 27\n",
       "24. +\n",
       "    core type: Literal\n",
       "    sub-expressions: \n",
       "25. (k, -j)\n",
       "    core type: ExprTuple\n",
       "    sub-expressions: 33, 28\n",
       "26. i\n",
       "    core type: Variable\n",
       "    sub-expressions: \n",
       "27. {j .. k}\n",
       "    core type: Operation\n",
       "    operator: 29\n",
       "    operands: 30\n",
       "28. -j\n",
       "    core type: Operation\n",
       "    operator: 31\n",
       "    operand: 34\n",
       "29. Interval\n",
       "    core type: Literal\n",
       "    sub-expressions: \n",
       "30. (j, k)\n",
       "    core type: ExprTuple\n",
       "    sub-expressions: 34, 33\n",
       "31. -\n",
       "    core type: Literal\n",
       "    sub-expressions: \n",
       "32. (j)\n",
       "    core type: ExprTuple\n",
       "    sub-expressions: 34\n",
       "33. k\n",
       "    core type: Variable\n",
       "    sub-expressions: \n",
       "34. j\n",
       "    core type: Variable\n",
       "    sub-expressions: "
      ]
     },
     "metadata": {},
     "output_type": "display_data"
    }
   ],
   "source": [
    "# display the expression information\n",
    "stored_expr.expr_info()"
   ]
  },
  {
   "cell_type": "code",
   "execution_count": null,
   "metadata": {},
   "outputs": [],
   "source": []
  }
 ],
 "metadata": {
  "kernelspec": {
   "display_name": "Python 3",
   "language": "python",
   "name": "python3"
  }
 },
 "nbformat": 4,
 "nbformat_minor": 0
}