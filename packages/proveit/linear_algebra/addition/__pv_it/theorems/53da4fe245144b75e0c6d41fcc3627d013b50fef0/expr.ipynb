{
 "cells": [
  {
   "cell_type": "markdown",
   "metadata": {},
   "source": [
    "Expression of type <a class=\"ProveItLink\" href=\"../../../../../../../doc/html/api/proveit.Lambda.html\">Lambda</a>\n",
    "=======================\n",
    "# from the theory of <a class=\"ProveItLink\" href=\"../../../_theory_nbs_/theory.ipynb\">proveit.linear_algebra.addition</a>"
   ]
  },
  {
   "cell_type": "code",
   "execution_count": 1,
   "metadata": {},
   "outputs": [],
   "source": [
    "import proveit\n",
    "# Automation is not needed when building an expression:\n",
    "proveit.defaults.automation = False # This will speed things up.\n",
    "proveit.defaults.inline_pngs = False # Makes files smaller.\n",
    "%load_expr # Load the stored expression as 'stored_expr'\n",
    "# import Expression classes needed to build the expression\n",
    "from proveit import Conditional, ExprRange, IndexedVar, Lambda, V, Variable, a, b, c, d, i, j, k\n",
    "from proveit.core_expr_types import a_1_to_i, c_1_to_j, d_1_to_k\n",
    "from proveit.linear_algebra import VecAdd\n",
    "from proveit.logic import And, Equals, InSet\n",
    "from proveit.numbers import one"
   ]
  },
  {
   "cell_type": "code",
   "execution_count": 2,
   "metadata": {},
   "outputs": [
    {
     "data": {
      "text/html": [
       "<strong id=\"expr\">expr:</strong> <a class=\"ProveItLink\" href=\"expr.ipynb\"><img src=\"expr.png\" style=\"display:inline;vertical-align:middle;\" /></a><br>"
      ],
      "text/plain": [
       "<IPython.core.display.HTML object>"
      ]
     },
     "metadata": {},
     "output_type": "display_data"
    }
   ],
   "source": [
    "# build up the expression from sub-expressions\n",
    "sub_expr1 = Variable(\"_a\", latex_format = r\"{_{-}a}\")\n",
    "expr = Lambda([a_1_to_i, b, c_1_to_j, d_1_to_k], Conditional(Equals(VecAdd(a_1_to_i, b, c_1_to_j, d_1_to_k), VecAdd(a_1_to_i, c_1_to_j, b, d_1_to_k)).with_wrapping_at(2), And(ExprRange(sub_expr1, InSet(IndexedVar(a, sub_expr1), V), one, i), InSet(b, V), ExprRange(sub_expr1, InSet(IndexedVar(c, sub_expr1), V), one, j), ExprRange(sub_expr1, InSet(IndexedVar(d, sub_expr1), V), one, k))))"
   ]
  },
  {
   "cell_type": "code",
   "execution_count": 3,
   "metadata": {},
   "outputs": [
    {
     "name": "stdout",
     "output_type": "stream",
     "text": [
      "Passed sanity check: expr matches stored_expr\n"
     ]
    }
   ],
   "source": [
    "# check that the built expression is the same as the stored expression\n",
    "assert expr == stored_expr\n",
    "assert expr._style_id == stored_expr._style_id\n",
    "print(\"Passed sanity check: expr matches stored_expr\")"
   ]
  },
  {
   "cell_type": "code",
   "execution_count": 4,
   "metadata": {},
   "outputs": [
    {
     "name": "stdout",
     "output_type": "stream",
     "text": [
      "\\left(a_{1}, a_{2}, \\ldots, a_{i}, b, c_{1}, c_{2}, \\ldots, c_{j}, d_{1}, d_{2}, \\ldots, d_{k}\\right) \\mapsto \\left\\{\\begin{array}{c} \\begin{array}{l} \\left(a_{1} +  a_{2} +  \\ldots +  a_{i} + b+ c_{1} +  c_{2} +  \\ldots +  c_{j}+ d_{1} +  d_{2} +  \\ldots +  d_{k}\\right) =  \\\\ \\left(a_{1} +  a_{2} +  \\ldots +  a_{i}+ c_{1} +  c_{2} +  \\ldots +  c_{j} + b+ d_{1} +  d_{2} +  \\ldots +  d_{k}\\right) \\end{array} \\end{array} \\textrm{ if } \\left(a_{1} \\in V\\right) ,  \\left(a_{2} \\in V\\right) ,  \\ldots ,  \\left(a_{i} \\in V\\right) ,  b \\in V, \\left(c_{1} \\in V\\right) ,  \\left(c_{2} \\in V\\right) ,  \\ldots ,  \\left(c_{j} \\in V\\right), \\left(d_{1} \\in V\\right) ,  \\left(d_{2} \\in V\\right) ,  \\ldots ,  \\left(d_{k} \\in V\\right)\\right..\n"
     ]
    }
   ],
   "source": [
    "# Show the LaTeX representation of the expression for convenience if you need it.\n",
    "print(stored_expr.latex())"
   ]
  },
  {
   "cell_type": "code",
   "execution_count": 5,
   "metadata": {},
   "outputs": [
    {
     "data": {
      "text/html": [
       "no style options"
      ],
      "text/plain": [
       "no style options"
      ]
     },
     "metadata": {},
     "output_type": "display_data"
    }
   ],
   "source": [
    "stored_expr.style_options()"
   ]
  },
  {
   "cell_type": "code",
   "execution_count": 6,
   "metadata": {},
   "outputs": [
    {
     "data": {
      "text/html": [
       "<table><tr><th>&nbsp;</th><th>core type</th><th>sub-expressions</th><th>expression</th></tr>\n",
       "<tr><td>0</td><td>Lambda</td><td>parameters:&nbsp;14<br>body:&nbsp;1<br></td><td><a class=\"ProveItLink\" href=\"expr.ipynb\"><img src=\"expr.png\" style=\"display:inline;vertical-align:middle;\" /></a></td></tr>\n",
       "<tr><td>1</td><td>Conditional</td><td>value:&nbsp;2<br>condition:&nbsp;3<br></td><td><a class=\"ProveItLink\" href=\"../7d1faf7bc5efeaead5405304d75ede3069d1a1d00/expr.ipynb\"><img src=\"../7d1faf7bc5efeaead5405304d75ede3069d1a1d00/expr.png\" style=\"display:inline;vertical-align:middle;\" /></a></td></tr>\n",
       "<tr><td>2</td><td>Operation</td><td>operator:&nbsp;4<br>operands:&nbsp;5<br></td><td><a class=\"ProveItLink\" href=\"../57f2c12149a5b049151465c4768ae0d48418b64e0/expr.ipynb\"><img src=\"../57f2c12149a5b049151465c4768ae0d48418b64e0/expr.png\" style=\"display:inline;vertical-align:middle;\" /></a></td></tr>\n",
       "<tr><td>3</td><td>Operation</td><td>operator:&nbsp;6<br>operands:&nbsp;7<br></td><td><a class=\"ProveItLink\" href=\"../83218326eeb758e6ee881970576650323c387c1c0/expr.ipynb\"><img src=\"../83218326eeb758e6ee881970576650323c387c1c0/expr.png\" style=\"display:inline;vertical-align:middle;\" /></a></td></tr>\n",
       "<tr><td>4</td><td>Literal</td><td></td><td><a class=\"ProveItLink\" href=\"../../../../../logic/equality/__pv_it/common/fb96dc12b2aa8801dda64d0132b396c63d1502bb0/expr.ipynb\"><img src=\"../../../../../logic/equality/__pv_it/common/fb96dc12b2aa8801dda64d0132b396c63d1502bb0/expr.png\" style=\"display:inline;vertical-align:middle;\" /></a></td></tr>\n",
       "<tr><td>5</td><td>ExprTuple</td><td>8, 9</td><td><a class=\"ProveItLink\" href=\"../5c7797b48e51cd70170d8c4e28e02eb9c9467e610/expr.ipynb\"><img src=\"../5c7797b48e51cd70170d8c4e28e02eb9c9467e610/expr.png\" style=\"display:inline;vertical-align:middle;\" /></a></td></tr>\n",
       "<tr><td>6</td><td>Literal</td><td></td><td><a class=\"ProveItLink\" href=\"../../../../../logic/booleans/conjunction/__pv_it/common/42118ff318bd65d98b1393f64ce7c2269feef76e0/expr.ipynb\"><img src=\"../../../../../logic/booleans/conjunction/__pv_it/common/42118ff318bd65d98b1393f64ce7c2269feef76e0/expr.png\" style=\"display:inline;vertical-align:middle;\" /></a></td></tr>\n",
       "<tr><td>7</td><td>ExprTuple</td><td>10, 11, 12, 13</td><td><a class=\"ProveItLink\" href=\"../e911f171ac0d82bc7f25321707af27c5e0b0bd080/expr.ipynb\"><img src=\"../e911f171ac0d82bc7f25321707af27c5e0b0bd080/expr.png\" style=\"display:inline;vertical-align:middle;\" /></a></td></tr>\n",
       "<tr><td>8</td><td>Operation</td><td>operator:&nbsp;15<br>operands:&nbsp;14<br></td><td><a class=\"ProveItLink\" href=\"../5f411542694742c2a73dcd9f8204df2ed59273800/expr.ipynb\"><img src=\"../5f411542694742c2a73dcd9f8204df2ed59273800/expr.png\" style=\"display:inline;vertical-align:middle;\" /></a></td></tr>\n",
       "<tr><td>9</td><td>Operation</td><td>operator:&nbsp;15<br>operands:&nbsp;16<br></td><td><a class=\"ProveItLink\" href=\"../5ca3d16afe75934c7c6737ba7e6e75cafccf75640/expr.ipynb\"><img src=\"../5ca3d16afe75934c7c6737ba7e6e75cafccf75640/expr.png\" style=\"display:inline;vertical-align:middle;\" /></a></td></tr>\n",
       "<tr><td>10</td><td>ExprRange</td><td>lambda_map:&nbsp;17<br>start_index:&nbsp;33<br>end_index:&nbsp;29<br></td><td><a class=\"ProveItLink\" href=\"../f55642caab6dcf33dcd519e4e8743c129250c00f0/expr.ipynb\"><img src=\"../f55642caab6dcf33dcd519e4e8743c129250c00f0/expr.png\" style=\"display:inline;vertical-align:middle;\" /></a></td></tr>\n",
       "<tr><td>11</td><td>Operation</td><td>operator:&nbsp;37<br>operands:&nbsp;18<br></td><td><a class=\"ProveItLink\" href=\"../7d91466113017aab1ce6336115e473231f283f9c0/expr.ipynb\"><img src=\"../7d91466113017aab1ce6336115e473231f283f9c0/expr.png\" style=\"display:inline;vertical-align:middle;\" /></a></td></tr>\n",
       "<tr><td>12</td><td>ExprRange</td><td>lambda_map:&nbsp;19<br>start_index:&nbsp;33<br>end_index:&nbsp;31<br></td><td><a class=\"ProveItLink\" href=\"../ac739f2f3f89e0ad2996e9f9c4ee9b838648b9650/expr.ipynb\"><img src=\"../ac739f2f3f89e0ad2996e9f9c4ee9b838648b9650/expr.png\" style=\"display:inline;vertical-align:middle;\" /></a></td></tr>\n",
       "<tr><td>13</td><td>ExprRange</td><td>lambda_map:&nbsp;20<br>start_index:&nbsp;33<br>end_index:&nbsp;34<br></td><td><a class=\"ProveItLink\" href=\"../7a6c8547c63be9f149c275e1973d2c8357ba91390/expr.ipynb\"><img src=\"../7a6c8547c63be9f149c275e1973d2c8357ba91390/expr.png\" style=\"display:inline;vertical-align:middle;\" /></a></td></tr>\n",
       "<tr><td>14</td><td>ExprTuple</td><td>21, 25, 22, 23</td><td><a class=\"ProveItLink\" href=\"../810ffc2bdb62c7451da32800130883ad64fb1a2f0/expr.ipynb\"><img src=\"../810ffc2bdb62c7451da32800130883ad64fb1a2f0/expr.png\" style=\"display:inline;vertical-align:middle;\" /></a></td></tr>\n",
       "<tr><td>15</td><td>Literal</td><td></td><td><a class=\"ProveItLink\" href=\"../../common/ac3c140c9094f065c7f7db15c94558731443639c0/expr.ipynb\"><img src=\"../../common/ac3c140c9094f065c7f7db15c94558731443639c0/expr.png\" style=\"display:inline;vertical-align:middle;\" /></a></td></tr>\n",
       "<tr><td>16</td><td>ExprTuple</td><td>21, 22, 25, 23</td><td><a class=\"ProveItLink\" href=\"../8cf6f4f022af3b0f8b404fba5cbeda1b7b1577fd0/expr.ipynb\"><img src=\"../8cf6f4f022af3b0f8b404fba5cbeda1b7b1577fd0/expr.png\" style=\"display:inline;vertical-align:middle;\" /></a></td></tr>\n",
       "<tr><td>17</td><td>Lambda</td><td>parameter:&nbsp;47<br>body:&nbsp;24<br></td><td><a class=\"ProveItLink\" href=\"../fff488f39ce83a56d12c1d6afc671d737442f6790/expr.ipynb\"><img src=\"../fff488f39ce83a56d12c1d6afc671d737442f6790/expr.png\" style=\"display:inline;vertical-align:middle;\" /></a></td></tr>\n",
       "<tr><td>18</td><td>ExprTuple</td><td>25, 42</td><td><a class=\"ProveItLink\" href=\"../a4ae5040c083f3a026f1804e79b3416eb651a3ef0/expr.ipynb\"><img src=\"../a4ae5040c083f3a026f1804e79b3416eb651a3ef0/expr.png\" style=\"display:inline;vertical-align:middle;\" /></a></td></tr>\n",
       "<tr><td>19</td><td>Lambda</td><td>parameter:&nbsp;47<br>body:&nbsp;26<br></td><td><a class=\"ProveItLink\" href=\"../ad82c3ab43e67854915baf84c346e26fb442c7bb0/expr.ipynb\"><img src=\"../ad82c3ab43e67854915baf84c346e26fb442c7bb0/expr.png\" style=\"display:inline;vertical-align:middle;\" /></a></td></tr>\n",
       "<tr><td>20</td><td>Lambda</td><td>parameter:&nbsp;47<br>body:&nbsp;27<br></td><td><a class=\"ProveItLink\" href=\"../7d5ad5896c9e7b3b495bc31a5b0e5f03c2c3dfc80/expr.ipynb\"><img src=\"../7d5ad5896c9e7b3b495bc31a5b0e5f03c2c3dfc80/expr.png\" style=\"display:inline;vertical-align:middle;\" /></a></td></tr>\n",
       "<tr><td>21</td><td>ExprRange</td><td>lambda_map:&nbsp;28<br>start_index:&nbsp;33<br>end_index:&nbsp;29<br></td><td><a class=\"ProveItLink\" href=\"../../../../../core_expr_types/__pv_it/common/7230c683fcd56948c826ac1be71b01b6fb2913950/expr.ipynb\"><img src=\"../../../../../core_expr_types/__pv_it/common/7230c683fcd56948c826ac1be71b01b6fb2913950/expr.png\" style=\"display:inline;vertical-align:middle;\" /></a></td></tr>\n",
       "<tr><td>22</td><td>ExprRange</td><td>lambda_map:&nbsp;30<br>start_index:&nbsp;33<br>end_index:&nbsp;31<br></td><td><a class=\"ProveItLink\" href=\"../../../../../core_expr_types/__pv_it/common/197f625500e1374c769a9a88f526b5b80f714d350/expr.ipynb\"><img src=\"../../../../../core_expr_types/__pv_it/common/197f625500e1374c769a9a88f526b5b80f714d350/expr.png\" style=\"display:inline;vertical-align:middle;\" /></a></td></tr>\n",
       "<tr><td>23</td><td>ExprRange</td><td>lambda_map:&nbsp;32<br>start_index:&nbsp;33<br>end_index:&nbsp;34<br></td><td><a class=\"ProveItLink\" href=\"../../../../../core_expr_types/__pv_it/common/3f945ad94f1b3a31f48f04379e4e37f4de0c613b0/expr.ipynb\"><img src=\"../../../../../core_expr_types/__pv_it/common/3f945ad94f1b3a31f48f04379e4e37f4de0c613b0/expr.png\" style=\"display:inline;vertical-align:middle;\" /></a></td></tr>\n",
       "<tr><td>24</td><td>Operation</td><td>operator:&nbsp;37<br>operands:&nbsp;35<br></td><td><a class=\"ProveItLink\" href=\"../5541fd9ecf06361743e9f5cdadaef856edd705660/expr.ipynb\"><img src=\"../5541fd9ecf06361743e9f5cdadaef856edd705660/expr.png\" style=\"display:inline;vertical-align:middle;\" /></a></td></tr>\n",
       "<tr><td>25</td><td>Variable</td><td></td><td><a class=\"ProveItLink\" href=\"../../../../../__pv_it/common/195236b98c6c564a75b5dbada74b173bc52d5c3e0/expr.ipynb\"><img src=\"../../../../../__pv_it/common/195236b98c6c564a75b5dbada74b173bc52d5c3e0/expr.png\" style=\"display:inline;vertical-align:middle;\" /></a></td></tr>\n",
       "<tr><td>26</td><td>Operation</td><td>operator:&nbsp;37<br>operands:&nbsp;36<br></td><td><a class=\"ProveItLink\" href=\"../91c565963fbc1be6a3c10ad7c0d753149731c0a10/expr.ipynb\"><img src=\"../91c565963fbc1be6a3c10ad7c0d753149731c0a10/expr.png\" style=\"display:inline;vertical-align:middle;\" /></a></td></tr>\n",
       "<tr><td>27</td><td>Operation</td><td>operator:&nbsp;37<br>operands:&nbsp;38<br></td><td><a class=\"ProveItLink\" href=\"../d4a6cbd8e66425a5a795bfdace67db80fe6ae3e40/expr.ipynb\"><img src=\"../d4a6cbd8e66425a5a795bfdace67db80fe6ae3e40/expr.png\" style=\"display:inline;vertical-align:middle;\" /></a></td></tr>\n",
       "<tr><td>28</td><td>Lambda</td><td>parameter:&nbsp;47<br>body:&nbsp;39<br></td><td><a class=\"ProveItLink\" href=\"../../../../../core_expr_types/__pv_it/common/1527ad383e12f9c6ed6b371c9a7dd1892d80da1b0/expr.ipynb\"><img src=\"../../../../../core_expr_types/__pv_it/common/1527ad383e12f9c6ed6b371c9a7dd1892d80da1b0/expr.png\" style=\"display:inline;vertical-align:middle;\" /></a></td></tr>\n",
       "<tr><td>29</td><td>Variable</td><td></td><td><a class=\"ProveItLink\" href=\"../../../../../__pv_it/common/ae955345c83abf786c3aff8681cd5465beae262d0/expr.ipynb\"><img src=\"../../../../../__pv_it/common/ae955345c83abf786c3aff8681cd5465beae262d0/expr.png\" style=\"display:inline;vertical-align:middle;\" /></a></td></tr>\n",
       "<tr><td>30</td><td>Lambda</td><td>parameter:&nbsp;47<br>body:&nbsp;40<br></td><td><a class=\"ProveItLink\" href=\"../../../../../core_expr_types/__pv_it/common/89a29b5b02ce6c37577f6352274a3d503dcdde3e0/expr.ipynb\"><img src=\"../../../../../core_expr_types/__pv_it/common/89a29b5b02ce6c37577f6352274a3d503dcdde3e0/expr.png\" style=\"display:inline;vertical-align:middle;\" /></a></td></tr>\n",
       "<tr><td>31</td><td>Variable</td><td></td><td><a class=\"ProveItLink\" href=\"../../../../../__pv_it/common/1ed21df18baca2f42b561a7ffbf30a2743d594650/expr.ipynb\"><img src=\"../../../../../__pv_it/common/1ed21df18baca2f42b561a7ffbf30a2743d594650/expr.png\" style=\"display:inline;vertical-align:middle;\" /></a></td></tr>\n",
       "<tr><td>32</td><td>Lambda</td><td>parameter:&nbsp;47<br>body:&nbsp;41<br></td><td><a class=\"ProveItLink\" href=\"../../../../../core_expr_types/__pv_it/common/d3ace47f4a0b55b1c2a23933ff859e7281a4d6050/expr.ipynb\"><img src=\"../../../../../core_expr_types/__pv_it/common/d3ace47f4a0b55b1c2a23933ff859e7281a4d6050/expr.png\" style=\"display:inline;vertical-align:middle;\" /></a></td></tr>\n",
       "<tr><td>33</td><td>Literal</td><td></td><td><a class=\"ProveItLink\" href=\"../../../../../numbers/numerals/__pv_it/common/682157d4892d216d9e5626ed533aff9b56b9506e0/expr.ipynb\"><img src=\"../../../../../numbers/numerals/__pv_it/common/682157d4892d216d9e5626ed533aff9b56b9506e0/expr.png\" style=\"display:inline;vertical-align:middle;\" /></a></td></tr>\n",
       "<tr><td>34</td><td>Variable</td><td></td><td><a class=\"ProveItLink\" href=\"../../../../../__pv_it/common/63b7c64bf9ec7a04ecc396c7a1670f3f12fb59490/expr.ipynb\"><img src=\"../../../../../__pv_it/common/63b7c64bf9ec7a04ecc396c7a1670f3f12fb59490/expr.png\" style=\"display:inline;vertical-align:middle;\" /></a></td></tr>\n",
       "<tr><td>35</td><td>ExprTuple</td><td>39, 42</td><td><a class=\"ProveItLink\" href=\"../a6cc5380b76f99d33dd4bee69928b90878088cce0/expr.ipynb\"><img src=\"../a6cc5380b76f99d33dd4bee69928b90878088cce0/expr.png\" style=\"display:inline;vertical-align:middle;\" /></a></td></tr>\n",
       "<tr><td>36</td><td>ExprTuple</td><td>40, 42</td><td><a class=\"ProveItLink\" href=\"../0ecaee9793fa5492091b97446bc647e8dd39f5050/expr.ipynb\"><img src=\"../0ecaee9793fa5492091b97446bc647e8dd39f5050/expr.png\" style=\"display:inline;vertical-align:middle;\" /></a></td></tr>\n",
       "<tr><td>37</td><td>Literal</td><td></td><td><a class=\"ProveItLink\" href=\"../../../../../logic/sets/membership/__pv_it/common/477487d8796864d23d5810f83761435f25167f690/expr.ipynb\"><img src=\"../../../../../logic/sets/membership/__pv_it/common/477487d8796864d23d5810f83761435f25167f690/expr.png\" style=\"display:inline;vertical-align:middle;\" /></a></td></tr>\n",
       "<tr><td>38</td><td>ExprTuple</td><td>41, 42</td><td><a class=\"ProveItLink\" href=\"../0687947593189b4a057bc583818fb56de1a9a8560/expr.ipynb\"><img src=\"../0687947593189b4a057bc583818fb56de1a9a8560/expr.png\" style=\"display:inline;vertical-align:middle;\" /></a></td></tr>\n",
       "<tr><td>39</td><td>IndexedVar</td><td>variable:&nbsp;43<br>index:&nbsp;47<br></td><td><a class=\"ProveItLink\" href=\"../../../../../core_expr_types/__pv_it/common/3a62c13e156d62d52fe585fa37cc2172fcf685260/expr.ipynb\"><img src=\"../../../../../core_expr_types/__pv_it/common/3a62c13e156d62d52fe585fa37cc2172fcf685260/expr.png\" style=\"display:inline;vertical-align:middle;\" /></a></td></tr>\n",
       "<tr><td>40</td><td>IndexedVar</td><td>variable:&nbsp;44<br>index:&nbsp;47<br></td><td><a class=\"ProveItLink\" href=\"../../../../../core_expr_types/__pv_it/common/8ffbefe913f7c934b2e3a2a12315d5900822d9d00/expr.ipynb\"><img src=\"../../../../../core_expr_types/__pv_it/common/8ffbefe913f7c934b2e3a2a12315d5900822d9d00/expr.png\" style=\"display:inline;vertical-align:middle;\" /></a></td></tr>\n",
       "<tr><td>41</td><td>IndexedVar</td><td>variable:&nbsp;45<br>index:&nbsp;47<br></td><td><a class=\"ProveItLink\" href=\"../../../../../core_expr_types/__pv_it/common/5bf4b29ec6330e454e20c2d5b902497b0b859a880/expr.ipynb\"><img src=\"../../../../../core_expr_types/__pv_it/common/5bf4b29ec6330e454e20c2d5b902497b0b859a880/expr.png\" style=\"display:inline;vertical-align:middle;\" /></a></td></tr>\n",
       "<tr><td>42</td><td>Variable</td><td></td><td><a class=\"ProveItLink\" href=\"../../../../../__pv_it/common/6d80eb1398b2335bf9ec427954b851b7094dced50/expr.ipynb\"><img src=\"../../../../../__pv_it/common/6d80eb1398b2335bf9ec427954b851b7094dced50/expr.png\" style=\"display:inline;vertical-align:middle;\" /></a></td></tr>\n",
       "<tr><td>43</td><td>Variable</td><td></td><td><a class=\"ProveItLink\" href=\"../../../../../__pv_it/common/c06c606ec12678c58933ac85412ecadc2ae28be60/expr.ipynb\"><img src=\"../../../../../__pv_it/common/c06c606ec12678c58933ac85412ecadc2ae28be60/expr.png\" style=\"display:inline;vertical-align:middle;\" /></a></td></tr>\n",
       "<tr><td>44</td><td>Variable</td><td></td><td><a class=\"ProveItLink\" href=\"../../../../../__pv_it/common/ceef4280a2f1cc604b455b54e735507244cc62cd0/expr.ipynb\"><img src=\"../../../../../__pv_it/common/ceef4280a2f1cc604b455b54e735507244cc62cd0/expr.png\" style=\"display:inline;vertical-align:middle;\" /></a></td></tr>\n",
       "<tr><td>45</td><td>Variable</td><td></td><td><a class=\"ProveItLink\" href=\"../../../../../__pv_it/common/4f5c524ffda87296de1c79b96880123fe2efedd50/expr.ipynb\"><img src=\"../../../../../__pv_it/common/4f5c524ffda87296de1c79b96880123fe2efedd50/expr.png\" style=\"display:inline;vertical-align:middle;\" /></a></td></tr>\n",
       "<tr><td>46</td><td>ExprTuple</td><td>47</td><td><a class=\"ProveItLink\" href=\"../../../../../core_expr_types/__pv_it/common/4b0dd6be36d76552eda6a95d5b4a27f5a5b62f900/expr.ipynb\"><img src=\"../../../../../core_expr_types/__pv_it/common/4b0dd6be36d76552eda6a95d5b4a27f5a5b62f900/expr.png\" style=\"display:inline;vertical-align:middle;\" /></a></td></tr>\n",
       "<tr><td>47</td><td>Variable</td><td></td><td><a class=\"ProveItLink\" href=\"../../../../../core_expr_types/__pv_it/common/006c465e50948aa2b52285e2de47974f741255cc0/expr.ipynb\"><img src=\"../../../../../core_expr_types/__pv_it/common/006c465e50948aa2b52285e2de47974f741255cc0/expr.png\" style=\"display:inline;vertical-align:middle;\" /></a></td></tr>\n",
       "</table>\n"
      ],
      "text/plain": [
       "0. (a_{1}, a_{2}, ..., a_{i}, b, c_{1}, c_{2}, ..., c_{j}, d_{1}, d_{2}, ..., d_{k}) -> {(a_{1} +  a_{2} +  ... +  a_{i} + b+ c_{1} +  c_{2} +  ... +  c_{j}+ d_{1} +  d_{2} +  ... +  d_{k}) =  \\\\ (a_{1} +  a_{2} +  ... +  a_{i}+ c_{1} +  c_{2} +  ... +  c_{j} + b+ d_{1} +  d_{2} +  ... +  d_{k}) if (a_{1} in V) ,  (a_{2} in V) ,  ... ,  (a_{i} in V) ,  b in V, (c_{1} in V) ,  (c_{2} in V) ,  ... ,  (c_{j} in V), (d_{1} in V) ,  (d_{2} in V) ,  ... ,  (d_{k} in V).\n",
       "   core type: Lambda\n",
       "   parameters: 14\\n   body: 1\n",
       "1. {(a_{1} +  a_{2} +  ... +  a_{i} + b+ c_{1} +  c_{2} +  ... +  c_{j}+ d_{1} +  d_{2} +  ... +  d_{k}) =  \\\\ (a_{1} +  a_{2} +  ... +  a_{i}+ c_{1} +  c_{2} +  ... +  c_{j} + b+ d_{1} +  d_{2} +  ... +  d_{k}) if (a_{1} in V) ,  (a_{2} in V) ,  ... ,  (a_{i} in V) ,  b in V, (c_{1} in V) ,  (c_{2} in V) ,  ... ,  (c_{j} in V), (d_{1} in V) ,  (d_{2} in V) ,  ... ,  (d_{k} in V).\n",
       "   core type: Conditional\n",
       "   value: 2\n",
       "   condition: 3\n",
       "2. (a_{1} +  a_{2} +  ... +  a_{i} + b+ c_{1} +  c_{2} +  ... +  c_{j}+ d_{1} +  d_{2} +  ... +  d_{k}) =  \\\\ (a_{1} +  a_{2} +  ... +  a_{i}+ c_{1} +  c_{2} +  ... +  c_{j} + b+ d_{1} +  d_{2} +  ... +  d_{k})\n",
       "   core type: Operation\n",
       "   operator: 4\n",
       "   operands: 5\n",
       "3. (a_{1} in V) and  (a_{2} in V) and  ... and  (a_{i} in V) and (b in V)and (c_{1} in V) and  (c_{2} in V) and  ... and  (c_{j} in V)and (d_{1} in V) and  (d_{2} in V) and  ... and  (d_{k} in V)\n",
       "   core type: Operation\n",
       "   operator: 6\n",
       "   operands: 7\n",
       "4. =\n",
       "   core type: Literal\n",
       "   sub-expressions: \n",
       "5. (a_{1} +  a_{2} +  ... +  a_{i} + b+ c_{1} +  c_{2} +  ... +  c_{j}+ d_{1} +  d_{2} +  ... +  d_{k}, a_{1} +  a_{2} +  ... +  a_{i}+ c_{1} +  c_{2} +  ... +  c_{j} + b+ d_{1} +  d_{2} +  ... +  d_{k})\n",
       "   core type: ExprTuple\n",
       "   sub-expressions: 8, 9\n",
       "6. and\n",
       "   core type: Literal\n",
       "   sub-expressions: \n",
       "7. ((a_{1} in V), (a_{2} in V), ..., (a_{i} in V), b in V,(c_{1} in V), (c_{2} in V), ..., (c_{j} in V),(d_{1} in V), (d_{2} in V), ..., (d_{k} in V))\n",
       "   core type: ExprTuple\n",
       "   sub-expressions: 10, 11, 12, 13\n",
       "8. a_{1} +  a_{2} +  ... +  a_{i} + b+ c_{1} +  c_{2} +  ... +  c_{j}+ d_{1} +  d_{2} +  ... +  d_{k}\n",
       "   core type: Operation\n",
       "   operator: 15\n",
       "   operands: 14\n",
       "9. a_{1} +  a_{2} +  ... +  a_{i}+ c_{1} +  c_{2} +  ... +  c_{j} + b+ d_{1} +  d_{2} +  ... +  d_{k}\n",
       "   core type: Operation\n",
       "   operator: 15\n",
       "   operands: 16\n",
       "10. (a_{1} in V), (a_{2} in V), ..., (a_{i} in V)\n",
       "    core type: ExprRange\n",
       "    lambda_map: 17\n",
       "    start_index: 33\n",
       "    end_index: 29\n",
       "11. b in V\n",
       "    core type: Operation\n",
       "    operator: 37\n",
       "    operands: 18\n",
       "12. (c_{1} in V), (c_{2} in V), ..., (c_{j} in V)\n",
       "    core type: ExprRange\n",
       "    lambda_map: 19\n",
       "    start_index: 33\n",
       "    end_index: 31\n",
       "13. (d_{1} in V), (d_{2} in V), ..., (d_{k} in V)\n",
       "    core type: ExprRange\n",
       "    lambda_map: 20\n",
       "    start_index: 33\n",
       "    end_index: 34\n",
       "14. (a_{1}, a_{2}, ..., a_{i}, b,c_{1}, c_{2}, ..., c_{j},d_{1}, d_{2}, ..., d_{k})\n",
       "    core type: ExprTuple\n",
       "    sub-expressions: 21, 25, 22, 23\n",
       "15. +\n",
       "    core type: Literal\n",
       "    sub-expressions: \n",
       "16. (a_{1}, a_{2}, ..., a_{i},c_{1}, c_{2}, ..., c_{j}, b,d_{1}, d_{2}, ..., d_{k})\n",
       "    core type: ExprTuple\n",
       "    sub-expressions: 21, 22, 25, 23\n",
       "17. _a -> (a_{_a} in V)\n",
       "    core type: Lambda\n",
       "    parameter: 47\n",
       "    body: 24\n",
       "18. (b, V)\n",
       "    core type: ExprTuple\n",
       "    sub-expressions: 25, 42\n",
       "19. _a -> (c_{_a} in V)\n",
       "    core type: Lambda\n",
       "    parameter: 47\n",
       "    body: 26\n",
       "20. _a -> (d_{_a} in V)\n",
       "    core type: Lambda\n",
       "    parameter: 47\n",
       "    body: 27\n",
       "21. a_{1}, a_{2}, ..., a_{i}\n",
       "    core type: ExprRange\n",
       "    lambda_map: 28\n",
       "    start_index: 33\n",
       "    end_index: 29\n",
       "22. c_{1}, c_{2}, ..., c_{j}\n",
       "    core type: ExprRange\n",
       "    lambda_map: 30\n",
       "    start_index: 33\n",
       "    end_index: 31\n",
       "23. d_{1}, d_{2}, ..., d_{k}\n",
       "    core type: ExprRange\n",
       "    lambda_map: 32\n",
       "    start_index: 33\n",
       "    end_index: 34\n",
       "24. a_{_a} in V\n",
       "    core type: Operation\n",
       "    operator: 37\n",
       "    operands: 35\n",
       "25. b\n",
       "    core type: Variable\n",
       "    sub-expressions: \n",
       "26. c_{_a} in V\n",
       "    core type: Operation\n",
       "    operator: 37\n",
       "    operands: 36\n",
       "27. d_{_a} in V\n",
       "    core type: Operation\n",
       "    operator: 37\n",
       "    operands: 38\n",
       "28. _a -> a_{_a}\n",
       "    core type: Lambda\n",
       "    parameter: 47\n",
       "    body: 39\n",
       "29. i\n",
       "    core type: Variable\n",
       "    sub-expressions: \n",
       "30. _a -> c_{_a}\n",
       "    core type: Lambda\n",
       "    parameter: 47\n",
       "    body: 40\n",
       "31. j\n",
       "    core type: Variable\n",
       "    sub-expressions: \n",
       "32. _a -> d_{_a}\n",
       "    core type: Lambda\n",
       "    parameter: 47\n",
       "    body: 41\n",
       "33. 1\n",
       "    core type: Literal\n",
       "    sub-expressions: \n",
       "34. k\n",
       "    core type: Variable\n",
       "    sub-expressions: \n",
       "35. (a_{_a}, V)\n",
       "    core type: ExprTuple\n",
       "    sub-expressions: 39, 42\n",
       "36. (c_{_a}, V)\n",
       "    core type: ExprTuple\n",
       "    sub-expressions: 40, 42\n",
       "37. in\n",
       "    core type: Literal\n",
       "    sub-expressions: \n",
       "38. (d_{_a}, V)\n",
       "    core type: ExprTuple\n",
       "    sub-expressions: 41, 42\n",
       "39. a_{_a}\n",
       "    core type: IndexedVar\n",
       "variable: 43\n",
       "index: 47\n",
       "40. c_{_a}\n",
       "    core type: IndexedVar\n",
       "variable: 44\n",
       "index: 47\n",
       "41. d_{_a}\n",
       "    core type: IndexedVar\n",
       "variable: 45\n",
       "index: 47\n",
       "42. V\n",
       "    core type: Variable\n",
       "    sub-expressions: \n",
       "43. a\n",
       "    core type: Variable\n",
       "    sub-expressions: \n",
       "44. c\n",
       "    core type: Variable\n",
       "    sub-expressions: \n",
       "45. d\n",
       "    core type: Variable\n",
       "    sub-expressions: \n",
       "46. (_a)\n",
       "    core type: ExprTuple\n",
       "    sub-expressions: 47\n",
       "47. _a\n",
       "    core type: Variable\n",
       "    sub-expressions: "
      ]
     },
     "metadata": {},
     "output_type": "display_data"
    }
   ],
   "source": [
    "# display the expression information\n",
    "stored_expr.expr_info()"
   ]
  },
  {
   "cell_type": "code",
   "execution_count": null,
   "metadata": {},
   "outputs": [],
   "source": []
  }
 ],
 "metadata": {
  "kernelspec": {
   "display_name": "Python 3",
   "language": "python",
   "name": "python3"
  }
 },
 "nbformat": 4,
 "nbformat_minor": 0
}