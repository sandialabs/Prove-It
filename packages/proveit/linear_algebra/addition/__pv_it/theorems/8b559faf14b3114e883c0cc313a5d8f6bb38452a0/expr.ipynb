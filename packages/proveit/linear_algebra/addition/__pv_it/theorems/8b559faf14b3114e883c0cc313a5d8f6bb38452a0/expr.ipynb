{
 "cells": [
  {
   "cell_type": "markdown",
   "metadata": {},
   "source": [
    "Expression of type <a class=\"ProveItLink\" href=\"../../../../../../../doc/html/api/proveit.ExprTuple.html\">ExprTuple</a>\n",
    "=======================\n",
    "# from the theory of <a class=\"ProveItLink\" href=\"../../../_theory_nbs_/theory.ipynb\">proveit.linear_algebra.addition</a>"
   ]
  },
  {
   "cell_type": "code",
   "execution_count": 1,
   "metadata": {},
   "outputs": [],
   "source": [
    "import proveit\n",
    "# Automation is not needed when building an expression:\n",
    "proveit.defaults.automation = False # This will speed things up.\n",
    "proveit.defaults.inline_pngs = False # Makes files smaller.\n",
    "%load_expr # Load the stored expression as 'stored_expr'\n",
    "# import Expression classes needed to build the expression\n",
    "from proveit import Conditional, ExprTuple, Lambda, a, b, i, va, vi\n",
    "from proveit.linear_algebra import VecAdd, VecSum\n",
    "from proveit.logic import And, Equals, InSet\n",
    "from proveit.numbers import Add, Integer, Interval, Less, one"
   ]
  },
  {
   "cell_type": "code",
   "execution_count": 2,
   "metadata": {},
   "outputs": [
    {
     "data": {
      "text/html": [
       "<strong id=\"expr\">expr:</strong> <a class=\"ProveItLink\" href=\"expr.ipynb\"><img src=\"expr.png\" style=\"display:inline;vertical-align:middle;\" /></a><br>"
      ],
      "text/plain": [
       "<IPython.core.display.HTML object>"
      ]
     },
     "metadata": {},
     "output_type": "display_data"
    }
   ],
   "source": [
    "# build up the expression from sub-expressions\n",
    "sub_expr1 = [i]\n",
    "expr = ExprTuple(Lambda([a, b], Conditional(Equals(VecSum(index_or_indices = sub_expr1, summand = vi, domain = Interval(a, b)), VecAdd(va, VecSum(index_or_indices = sub_expr1, summand = vi, domain = Interval(Add(a, one), b)))), And(InSet(a, Integer), InSet(b, Integer), Less(a, b)))))"
   ]
  },
  {
   "cell_type": "code",
   "execution_count": 3,
   "metadata": {},
   "outputs": [
    {
     "name": "stdout",
     "output_type": "stream",
     "text": [
      "Passed sanity check: expr matches stored_expr\n"
     ]
    }
   ],
   "source": [
    "# check that the built expression is the same as the stored expression\n",
    "assert expr == stored_expr\n",
    "assert expr._style_id == stored_expr._style_id\n",
    "print(\"Passed sanity check: expr matches stored_expr\")"
   ]
  },
  {
   "cell_type": "code",
   "execution_count": 4,
   "metadata": {},
   "outputs": [
    {
     "name": "stdout",
     "output_type": "stream",
     "text": [
      "\\left(\\left(a, b\\right) \\mapsto \\left\\{\\left(\\sum_{i=a}^{b} v\\left(i\\right)\\right) = \\left(v\\left(a\\right) + \\left(\\sum_{i=a + 1}^{b} v\\left(i\\right)\\right)\\right) \\textrm{ if } a \\in \\mathbb{Z} ,  b \\in \\mathbb{Z} ,  a < b\\right..\\right)\n"
     ]
    }
   ],
   "source": [
    "# Show the LaTeX representation of the expression for convenience if you need it.\n",
    "print(stored_expr.latex())"
   ]
  },
  {
   "cell_type": "code",
   "execution_count": 5,
   "metadata": {},
   "outputs": [
    {
     "data": {
      "text/html": [
       "no style options"
      ],
      "text/plain": [
       "no style options"
      ]
     },
     "metadata": {},
     "output_type": "display_data"
    }
   ],
   "source": [
    "stored_expr.style_options()"
   ]
  },
  {
   "cell_type": "code",
   "execution_count": 6,
   "metadata": {},
   "outputs": [
    {
     "data": {
      "text/html": [
       "<table><tr><th>&nbsp;</th><th>core type</th><th>sub-expressions</th><th>expression</th></tr>\n",
       "<tr><td>0</td><td>ExprTuple</td><td>1</td><td><a class=\"ProveItLink\" href=\"expr.ipynb\"><img src=\"expr.png\" style=\"display:inline;vertical-align:middle;\" /></a></td></tr>\n",
       "<tr><td>1</td><td>Lambda</td><td>parameters:&nbsp;35<br>body:&nbsp;2<br></td><td><a class=\"ProveItLink\" href=\"../564cae0ab7a663664a4c3de7abd06ec290b140470/expr.ipynb\"><img src=\"../564cae0ab7a663664a4c3de7abd06ec290b140470/expr.png\" style=\"display:inline;vertical-align:middle;\" /></a></td></tr>\n",
       "<tr><td>2</td><td>Conditional</td><td>value:&nbsp;3<br>condition:&nbsp;4<br></td><td><a class=\"ProveItLink\" href=\"../ea80f9e585383c0d9a951cbd206df46fd2b816bc0/expr.ipynb\"><img src=\"../ea80f9e585383c0d9a951cbd206df46fd2b816bc0/expr.png\" style=\"display:inline;vertical-align:middle;\" /></a></td></tr>\n",
       "<tr><td>3</td><td>Operation</td><td>operator:&nbsp;5<br>operands:&nbsp;6<br></td><td><a class=\"ProveItLink\" href=\"../bad384775035c048e91bd05e4bdaedca6563a8b70/expr.ipynb\"><img src=\"../bad384775035c048e91bd05e4bdaedca6563a8b70/expr.png\" style=\"display:inline;vertical-align:middle;\" /></a></td></tr>\n",
       "<tr><td>4</td><td>Operation</td><td>operator:&nbsp;7<br>operands:&nbsp;8<br></td><td><a class=\"ProveItLink\" href=\"../3d65df9db1b2ae63dd17636a64e91dca0dde13020/expr.ipynb\"><img src=\"../3d65df9db1b2ae63dd17636a64e91dca0dde13020/expr.png\" style=\"display:inline;vertical-align:middle;\" /></a></td></tr>\n",
       "<tr><td>5</td><td>Literal</td><td></td><td><a class=\"ProveItLink\" href=\"../../../../../logic/equality/__pv_it/common/fb96dc12b2aa8801dda64d0132b396c63d1502bb0/expr.ipynb\"><img src=\"../../../../../logic/equality/__pv_it/common/fb96dc12b2aa8801dda64d0132b396c63d1502bb0/expr.png\" style=\"display:inline;vertical-align:middle;\" /></a></td></tr>\n",
       "<tr><td>6</td><td>ExprTuple</td><td>9, 10</td><td><a class=\"ProveItLink\" href=\"../4e167ed8c97b40ead014d821dd7b7a7fcda813c60/expr.ipynb\"><img src=\"../4e167ed8c97b40ead014d821dd7b7a7fcda813c60/expr.png\" style=\"display:inline;vertical-align:middle;\" /></a></td></tr>\n",
       "<tr><td>7</td><td>Literal</td><td></td><td><a class=\"ProveItLink\" href=\"../../../../../logic/booleans/conjunction/__pv_it/common/42118ff318bd65d98b1393f64ce7c2269feef76e0/expr.ipynb\"><img src=\"../../../../../logic/booleans/conjunction/__pv_it/common/42118ff318bd65d98b1393f64ce7c2269feef76e0/expr.png\" style=\"display:inline;vertical-align:middle;\" /></a></td></tr>\n",
       "<tr><td>8</td><td>ExprTuple</td><td>11, 12, 13</td><td><a class=\"ProveItLink\" href=\"../5cf999002fe9b23cd7433b8f79f081580cc7bce10/expr.ipynb\"><img src=\"../5cf999002fe9b23cd7433b8f79f081580cc7bce10/expr.png\" style=\"display:inline;vertical-align:middle;\" /></a></td></tr>\n",
       "<tr><td>9</td><td>Operation</td><td>operator:&nbsp;26<br>operand:&nbsp;20<br></td><td><a class=\"ProveItLink\" href=\"../2ce0468711d2f26bf2b7b7f668c8070a437475130/expr.ipynb\"><img src=\"../2ce0468711d2f26bf2b7b7f668c8070a437475130/expr.png\" style=\"display:inline;vertical-align:middle;\" /></a></td></tr>\n",
       "<tr><td>10</td><td>Operation</td><td>operator:&nbsp;15<br>operands:&nbsp;16<br></td><td><a class=\"ProveItLink\" href=\"../0c02fe1459025f617acdc22aa3a52a1586a010750/expr.ipynb\"><img src=\"../0c02fe1459025f617acdc22aa3a52a1586a010750/expr.png\" style=\"display:inline;vertical-align:middle;\" /></a></td></tr>\n",
       "<tr><td>11</td><td>Operation</td><td>operator:&nbsp;38<br>operands:&nbsp;17<br></td><td><a class=\"ProveItLink\" href=\"../d8d02d2a77383d238ed10b8fda7965dfafa87db90/expr.ipynb\"><img src=\"../d8d02d2a77383d238ed10b8fda7965dfafa87db90/expr.png\" style=\"display:inline;vertical-align:middle;\" /></a></td></tr>\n",
       "<tr><td>12</td><td>Operation</td><td>operator:&nbsp;38<br>operands:&nbsp;18<br></td><td><a class=\"ProveItLink\" href=\"../035e0ae7bd8c0fe127ee5d2062443d6c874adcdd0/expr.ipynb\"><img src=\"../035e0ae7bd8c0fe127ee5d2062443d6c874adcdd0/expr.png\" style=\"display:inline;vertical-align:middle;\" /></a></td></tr>\n",
       "<tr><td>13</td><td>Operation</td><td>operator:&nbsp;19<br>operands:&nbsp;35<br></td><td><a class=\"ProveItLink\" href=\"../3b3bab3cd8d8551dd21bf1f81e14445c3cb711db0/expr.ipynb\"><img src=\"../3b3bab3cd8d8551dd21bf1f81e14445c3cb711db0/expr.png\" style=\"display:inline;vertical-align:middle;\" /></a></td></tr>\n",
       "<tr><td>14</td><td>ExprTuple</td><td>20</td><td><a class=\"ProveItLink\" href=\"../65862bae3c0569f88aafe29ae916b807b6c609400/expr.ipynb\"><img src=\"../65862bae3c0569f88aafe29ae916b807b6c609400/expr.png\" style=\"display:inline;vertical-align:middle;\" /></a></td></tr>\n",
       "<tr><td>15</td><td>Literal</td><td></td><td><a class=\"ProveItLink\" href=\"../../common/ac3c140c9094f065c7f7db15c94558731443639c0/expr.ipynb\"><img src=\"../../common/ac3c140c9094f065c7f7db15c94558731443639c0/expr.png\" style=\"display:inline;vertical-align:middle;\" /></a></td></tr>\n",
       "<tr><td>16</td><td>ExprTuple</td><td>21, 22</td><td><a class=\"ProveItLink\" href=\"../778cbf87d0f51ae7949d5c1d4b31f41bb5ce76bb0/expr.ipynb\"><img src=\"../778cbf87d0f51ae7949d5c1d4b31f41bb5ce76bb0/expr.png\" style=\"display:inline;vertical-align:middle;\" /></a></td></tr>\n",
       "<tr><td>17</td><td>ExprTuple</td><td>48, 23</td><td><a class=\"ProveItLink\" href=\"../6381f047505cef51bfb3432d8df76f1cfff47cae0/expr.ipynb\"><img src=\"../6381f047505cef51bfb3432d8df76f1cfff47cae0/expr.png\" style=\"display:inline;vertical-align:middle;\" /></a></td></tr>\n",
       "<tr><td>18</td><td>ExprTuple</td><td>45, 23</td><td><a class=\"ProveItLink\" href=\"../7a5273c178c04cb3ce78308074ba517705b130f80/expr.ipynb\"><img src=\"../7a5273c178c04cb3ce78308074ba517705b130f80/expr.png\" style=\"display:inline;vertical-align:middle;\" /></a></td></tr>\n",
       "<tr><td>19</td><td>Literal</td><td></td><td><a class=\"ProveItLink\" href=\"../../../../../numbers/ordering/__pv_it/common/fa503ed52033522c609eef1cf3e1b45796489da50/expr.ipynb\"><img src=\"../../../../../numbers/ordering/__pv_it/common/fa503ed52033522c609eef1cf3e1b45796489da50/expr.png\" style=\"display:inline;vertical-align:middle;\" /></a></td></tr>\n",
       "<tr><td>20</td><td>Lambda</td><td>parameter:&nbsp;40<br>body:&nbsp;24<br></td><td><a class=\"ProveItLink\" href=\"../545331b0ef11f87a0ed045f48046d6573665a7bd0/expr.ipynb\"><img src=\"../545331b0ef11f87a0ed045f48046d6573665a7bd0/expr.png\" style=\"display:inline;vertical-align:middle;\" /></a></td></tr>\n",
       "<tr><td>21</td><td>Operation</td><td>operator:&nbsp;36<br>operand:&nbsp;48<br></td><td><a class=\"ProveItLink\" href=\"../../../../../__pv_it/common/0c6443cf8bf0dd80730a8b234949dc23ad10b9500/expr.ipynb\"><img src=\"../../../../../__pv_it/common/0c6443cf8bf0dd80730a8b234949dc23ad10b9500/expr.png\" style=\"display:inline;vertical-align:middle;\" /></a></td></tr>\n",
       "<tr><td>22</td><td>Operation</td><td>operator:&nbsp;26<br>operand:&nbsp;29<br></td><td><a class=\"ProveItLink\" href=\"../e5baeec9931feaf496b9fdd3dd9d0cf7b15878220/expr.ipynb\"><img src=\"../e5baeec9931feaf496b9fdd3dd9d0cf7b15878220/expr.png\" style=\"display:inline;vertical-align:middle;\" /></a></td></tr>\n",
       "<tr><td>23</td><td>Literal</td><td></td><td><a class=\"ProveItLink\" href=\"../../../../../numbers/number_sets/integers/__pv_it/common/e6b4e90f9467053e055a4fd2f735c0bb79cb79300/expr.ipynb\"><img src=\"../../../../../numbers/number_sets/integers/__pv_it/common/e6b4e90f9467053e055a4fd2f735c0bb79cb79300/expr.png\" style=\"display:inline;vertical-align:middle;\" /></a></td></tr>\n",
       "<tr><td>24</td><td>Conditional</td><td>value:&nbsp;33<br>condition:&nbsp;28<br></td><td><a class=\"ProveItLink\" href=\"../e881cf68f92a1f457767e708427eef6920dc7a1d0/expr.ipynb\"><img src=\"../e881cf68f92a1f457767e708427eef6920dc7a1d0/expr.png\" style=\"display:inline;vertical-align:middle;\" /></a></td></tr>\n",
       "<tr><td>25</td><td>ExprTuple</td><td>48</td><td><a class=\"ProveItLink\" href=\"../../../../../__pv_it/common/4dfbea54d9ab139e516c3d361fb9092516f9e2710/expr.ipynb\"><img src=\"../../../../../__pv_it/common/4dfbea54d9ab139e516c3d361fb9092516f9e2710/expr.png\" style=\"display:inline;vertical-align:middle;\" /></a></td></tr>\n",
       "<tr><td>26</td><td>Literal</td><td></td><td><a class=\"ProveItLink\" href=\"../../common/62f73c830c62efb87627ede5678f282081cd0ce20/expr.ipynb\"><img src=\"../../common/62f73c830c62efb87627ede5678f282081cd0ce20/expr.png\" style=\"display:inline;vertical-align:middle;\" /></a></td></tr>\n",
       "<tr><td>27</td><td>ExprTuple</td><td>29</td><td><a class=\"ProveItLink\" href=\"../67f2b710725440566b76ef7120e582d518ebed970/expr.ipynb\"><img src=\"../67f2b710725440566b76ef7120e582d518ebed970/expr.png\" style=\"display:inline;vertical-align:middle;\" /></a></td></tr>\n",
       "<tr><td>28</td><td>Operation</td><td>operator:&nbsp;38<br>operands:&nbsp;30<br></td><td><a class=\"ProveItLink\" href=\"../649e25044b70f4a7cf1e60bd1fdec4b99a4a799e0/expr.ipynb\"><img src=\"../649e25044b70f4a7cf1e60bd1fdec4b99a4a799e0/expr.png\" style=\"display:inline;vertical-align:middle;\" /></a></td></tr>\n",
       "<tr><td>29</td><td>Lambda</td><td>parameter:&nbsp;40<br>body:&nbsp;31<br></td><td><a class=\"ProveItLink\" href=\"../7c145ca281bfafc19df88881686e81925401a34b0/expr.ipynb\"><img src=\"../7c145ca281bfafc19df88881686e81925401a34b0/expr.png\" style=\"display:inline;vertical-align:middle;\" /></a></td></tr>\n",
       "<tr><td>30</td><td>ExprTuple</td><td>40, 32</td><td><a class=\"ProveItLink\" href=\"../555befaf31fe5fb4efb2e4d1e9d76182e9a1f2e10/expr.ipynb\"><img src=\"../555befaf31fe5fb4efb2e4d1e9d76182e9a1f2e10/expr.png\" style=\"display:inline;vertical-align:middle;\" /></a></td></tr>\n",
       "<tr><td>31</td><td>Conditional</td><td>value:&nbsp;33<br>condition:&nbsp;34<br></td><td><a class=\"ProveItLink\" href=\"../7025e56bc90ad5d5cff359d59da1b5b7166467fe0/expr.ipynb\"><img src=\"../7025e56bc90ad5d5cff359d59da1b5b7166467fe0/expr.png\" style=\"display:inline;vertical-align:middle;\" /></a></td></tr>\n",
       "<tr><td>32</td><td>Operation</td><td>operator:&nbsp;42<br>operands:&nbsp;35<br></td><td><a class=\"ProveItLink\" href=\"../498872fecc183ccfbbe24c2b7a9ae11a74603e9a0/expr.ipynb\"><img src=\"../498872fecc183ccfbbe24c2b7a9ae11a74603e9a0/expr.png\" style=\"display:inline;vertical-align:middle;\" /></a></td></tr>\n",
       "<tr><td>33</td><td>Operation</td><td>operator:&nbsp;36<br>operand:&nbsp;40<br></td><td><a class=\"ProveItLink\" href=\"../../../../../__pv_it/common/f63b93109c631afbf6471ab6c2dc0807d57b8b890/expr.ipynb\"><img src=\"../../../../../__pv_it/common/f63b93109c631afbf6471ab6c2dc0807d57b8b890/expr.png\" style=\"display:inline;vertical-align:middle;\" /></a></td></tr>\n",
       "<tr><td>34</td><td>Operation</td><td>operator:&nbsp;38<br>operands:&nbsp;39<br></td><td><a class=\"ProveItLink\" href=\"../dc14431a943ff060cd78d23990900a5823cc9a7d0/expr.ipynb\"><img src=\"../dc14431a943ff060cd78d23990900a5823cc9a7d0/expr.png\" style=\"display:inline;vertical-align:middle;\" /></a></td></tr>\n",
       "<tr><td>35</td><td>ExprTuple</td><td>48, 45</td><td><a class=\"ProveItLink\" href=\"../3dcd5ceea6334d8cb48fe14fdae236293aa9a6050/expr.ipynb\"><img src=\"../3dcd5ceea6334d8cb48fe14fdae236293aa9a6050/expr.png\" style=\"display:inline;vertical-align:middle;\" /></a></td></tr>\n",
       "<tr><td>36</td><td>Variable</td><td></td><td><a class=\"ProveItLink\" href=\"../../../../../__pv_it/common/a4b9661da9b52dcebf59c5559fec8901f4df10750/expr.ipynb\"><img src=\"../../../../../__pv_it/common/a4b9661da9b52dcebf59c5559fec8901f4df10750/expr.png\" style=\"display:inline;vertical-align:middle;\" /></a></td></tr>\n",
       "<tr><td>37</td><td>ExprTuple</td><td>40</td><td><a class=\"ProveItLink\" href=\"../../../../../__pv_it/common/3b7d7ace2ced0a8261ea4d18d03aaf49e434d69d0/expr.ipynb\"><img src=\"../../../../../__pv_it/common/3b7d7ace2ced0a8261ea4d18d03aaf49e434d69d0/expr.png\" style=\"display:inline;vertical-align:middle;\" /></a></td></tr>\n",
       "<tr><td>38</td><td>Literal</td><td></td><td><a class=\"ProveItLink\" href=\"../../../../../logic/sets/membership/__pv_it/common/477487d8796864d23d5810f83761435f25167f690/expr.ipynb\"><img src=\"../../../../../logic/sets/membership/__pv_it/common/477487d8796864d23d5810f83761435f25167f690/expr.png\" style=\"display:inline;vertical-align:middle;\" /></a></td></tr>\n",
       "<tr><td>39</td><td>ExprTuple</td><td>40, 41</td><td><a class=\"ProveItLink\" href=\"../04677a25bd32563a1456a37c94555fd7bd01680f0/expr.ipynb\"><img src=\"../04677a25bd32563a1456a37c94555fd7bd01680f0/expr.png\" style=\"display:inline;vertical-align:middle;\" /></a></td></tr>\n",
       "<tr><td>40</td><td>Variable</td><td></td><td><a class=\"ProveItLink\" href=\"../../../../../__pv_it/common/ae955345c83abf786c3aff8681cd5465beae262d0/expr.ipynb\"><img src=\"../../../../../__pv_it/common/ae955345c83abf786c3aff8681cd5465beae262d0/expr.png\" style=\"display:inline;vertical-align:middle;\" /></a></td></tr>\n",
       "<tr><td>41</td><td>Operation</td><td>operator:&nbsp;42<br>operands:&nbsp;43<br></td><td><a class=\"ProveItLink\" href=\"../12602a5a5a446233107dcba0be487f5fad3bbf520/expr.ipynb\"><img src=\"../12602a5a5a446233107dcba0be487f5fad3bbf520/expr.png\" style=\"display:inline;vertical-align:middle;\" /></a></td></tr>\n",
       "<tr><td>42</td><td>Literal</td><td></td><td><a class=\"ProveItLink\" href=\"../../../../../numbers/number_sets/integers/__pv_it/common/92f3a0a77e3c3ea8e4a5c8674edadc54e4f57d550/expr.ipynb\"><img src=\"../../../../../numbers/number_sets/integers/__pv_it/common/92f3a0a77e3c3ea8e4a5c8674edadc54e4f57d550/expr.png\" style=\"display:inline;vertical-align:middle;\" /></a></td></tr>\n",
       "<tr><td>43</td><td>ExprTuple</td><td>44, 45</td><td><a class=\"ProveItLink\" href=\"../08fce4442d52dd38863ab2f1aa8d654d58e4f3ff0/expr.ipynb\"><img src=\"../08fce4442d52dd38863ab2f1aa8d654d58e4f3ff0/expr.png\" style=\"display:inline;vertical-align:middle;\" /></a></td></tr>\n",
       "<tr><td>44</td><td>Operation</td><td>operator:&nbsp;46<br>operands:&nbsp;47<br></td><td><a class=\"ProveItLink\" href=\"../610178af94cac79e06bcd941f9999fed6497de100/expr.ipynb\"><img src=\"../610178af94cac79e06bcd941f9999fed6497de100/expr.png\" style=\"display:inline;vertical-align:middle;\" /></a></td></tr>\n",
       "<tr><td>45</td><td>Variable</td><td></td><td><a class=\"ProveItLink\" href=\"../../../../../__pv_it/common/195236b98c6c564a75b5dbada74b173bc52d5c3e0/expr.ipynb\"><img src=\"../../../../../__pv_it/common/195236b98c6c564a75b5dbada74b173bc52d5c3e0/expr.png\" style=\"display:inline;vertical-align:middle;\" /></a></td></tr>\n",
       "<tr><td>46</td><td>Literal</td><td></td><td><a class=\"ProveItLink\" href=\"../../../../../numbers/addition/__pv_it/common/4b7effaab3619a1c2c38fe2dee8601df8ec714590/expr.ipynb\"><img src=\"../../../../../numbers/addition/__pv_it/common/4b7effaab3619a1c2c38fe2dee8601df8ec714590/expr.png\" style=\"display:inline;vertical-align:middle;\" /></a></td></tr>\n",
       "<tr><td>47</td><td>ExprTuple</td><td>48, 49</td><td><a class=\"ProveItLink\" href=\"../017eacf4fbcd5ccb1afa72357dfba07ebe7b0eca0/expr.ipynb\"><img src=\"../017eacf4fbcd5ccb1afa72357dfba07ebe7b0eca0/expr.png\" style=\"display:inline;vertical-align:middle;\" /></a></td></tr>\n",
       "<tr><td>48</td><td>Variable</td><td></td><td><a class=\"ProveItLink\" href=\"../../../../../__pv_it/common/c06c606ec12678c58933ac85412ecadc2ae28be60/expr.ipynb\"><img src=\"../../../../../__pv_it/common/c06c606ec12678c58933ac85412ecadc2ae28be60/expr.png\" style=\"display:inline;vertical-align:middle;\" /></a></td></tr>\n",
       "<tr><td>49</td><td>Literal</td><td></td><td><a class=\"ProveItLink\" href=\"../../../../../numbers/numerals/__pv_it/common/682157d4892d216d9e5626ed533aff9b56b9506e0/expr.ipynb\"><img src=\"../../../../../numbers/numerals/__pv_it/common/682157d4892d216d9e5626ed533aff9b56b9506e0/expr.png\" style=\"display:inline;vertical-align:middle;\" /></a></td></tr>\n",
       "</table>\n"
      ],
      "text/plain": [
       "0. ((a, b) -> {(Sum_{i=a}^{b} v(i)) = (v(a) + (Sum_{i=a + 1}^{b} v(i))) if a in Integer ,  b in Integer ,  a < b.)\n",
       "   core type: ExprTuple\n",
       "   sub-expressions: 1\n",
       "1. (a, b) -> {(Sum_{i=a}^{b} v(i)) = (v(a) + (Sum_{i=a + 1}^{b} v(i))) if a in Integer ,  b in Integer ,  a < b.\n",
       "   core type: Lambda\n",
       "   parameters: 35\\n   body: 2\n",
       "2. {(Sum_{i=a}^{b} v(i)) = (v(a) + (Sum_{i=a + 1}^{b} v(i))) if a in Integer ,  b in Integer ,  a < b.\n",
       "   core type: Conditional\n",
       "   value: 3\n",
       "   condition: 4\n",
       "3. (Sum_{i=a}^{b} v(i)) = (v(a) + (Sum_{i=a + 1}^{b} v(i)))\n",
       "   core type: Operation\n",
       "   operator: 5\n",
       "   operands: 6\n",
       "4. (a in Integer) and (b in Integer) and (a < b)\n",
       "   core type: Operation\n",
       "   operator: 7\n",
       "   operands: 8\n",
       "5. =\n",
       "   core type: Literal\n",
       "   sub-expressions: \n",
       "6. (Sum_{i=a}^{b} v(i), v(a) + (Sum_{i=a + 1}^{b} v(i)))\n",
       "   core type: ExprTuple\n",
       "   sub-expressions: 9, 10\n",
       "7. and\n",
       "   core type: Literal\n",
       "   sub-expressions: \n",
       "8. (a in Integer, b in Integer, a < b)\n",
       "   core type: ExprTuple\n",
       "   sub-expressions: 11, 12, 13\n",
       "9. Sum_{i=a}^{b} v(i)\n",
       "   core type: Operation\n",
       "   operator: 26\n",
       "   operand: 20\n",
       "10. v(a) + (Sum_{i=a + 1}^{b} v(i))\n",
       "    core type: Operation\n",
       "    operator: 15\n",
       "    operands: 16\n",
       "11. a in Integer\n",
       "    core type: Operation\n",
       "    operator: 38\n",
       "    operands: 17\n",
       "12. b in Integer\n",
       "    core type: Operation\n",
       "    operator: 38\n",
       "    operands: 18\n",
       "13. a < b\n",
       "    core type: Operation\n",
       "    operator: 19\n",
       "    operands: 35\n",
       "14. (i -> {v(i) if i in {a .. b}.)\n",
       "    core type: ExprTuple\n",
       "    sub-expressions: 20\n",
       "15. +\n",
       "    core type: Literal\n",
       "    sub-expressions: \n",
       "16. (v(a), Sum_{i=a + 1}^{b} v(i))\n",
       "    core type: ExprTuple\n",
       "    sub-expressions: 21, 22\n",
       "17. (a, Integer)\n",
       "    core type: ExprTuple\n",
       "    sub-expressions: 48, 23\n",
       "18. (b, Integer)\n",
       "    core type: ExprTuple\n",
       "    sub-expressions: 45, 23\n",
       "19. <\n",
       "    core type: Literal\n",
       "    sub-expressions: \n",
       "20. i -> {v(i) if i in {a .. b}.\n",
       "    core type: Lambda\n",
       "    parameter: 40\n",
       "    body: 24\n",
       "21. v(a)\n",
       "    core type: Operation\n",
       "    operator: 36\n",
       "    operand: 48\n",
       "22. Sum_{i=a + 1}^{b} v(i)\n",
       "    core type: Operation\n",
       "    operator: 26\n",
       "    operand: 29\n",
       "23. Integer\n",
       "    core type: Literal\n",
       "    sub-expressions: \n",
       "24. {v(i) if i in {a .. b}.\n",
       "    core type: Conditional\n",
       "    value: 33\n",
       "    condition: 28\n",
       "25. (a)\n",
       "    core type: ExprTuple\n",
       "    sub-expressions: 48\n",
       "26. Sum\n",
       "    core type: Literal\n",
       "    sub-expressions: \n",
       "27. (i -> {v(i) if i in {a + 1 .. b}.)\n",
       "    core type: ExprTuple\n",
       "    sub-expressions: 29\n",
       "28. i in {a .. b}\n",
       "    core type: Operation\n",
       "    operator: 38\n",
       "    operands: 30\n",
       "29. i -> {v(i) if i in {a + 1 .. b}.\n",
       "    core type: Lambda\n",
       "    parameter: 40\n",
       "    body: 31\n",
       "30. (i, {a .. b})\n",
       "    core type: ExprTuple\n",
       "    sub-expressions: 40, 32\n",
       "31. {v(i) if i in {a + 1 .. b}.\n",
       "    core type: Conditional\n",
       "    value: 33\n",
       "    condition: 34\n",
       "32. {a .. b}\n",
       "    core type: Operation\n",
       "    operator: 42\n",
       "    operands: 35\n",
       "33. v(i)\n",
       "    core type: Operation\n",
       "    operator: 36\n",
       "    operand: 40\n",
       "34. i in {a + 1 .. b}\n",
       "    core type: Operation\n",
       "    operator: 38\n",
       "    operands: 39\n",
       "35. (a, b)\n",
       "    core type: ExprTuple\n",
       "    sub-expressions: 48, 45\n",
       "36. v\n",
       "    core type: Variable\n",
       "    sub-expressions: \n",
       "37. (i)\n",
       "    core type: ExprTuple\n",
       "    sub-expressions: 40\n",
       "38. in\n",
       "    core type: Literal\n",
       "    sub-expressions: \n",
       "39. (i, {a + 1 .. b})\n",
       "    core type: ExprTuple\n",
       "    sub-expressions: 40, 41\n",
       "40. i\n",
       "    core type: Variable\n",
       "    sub-expressions: \n",
       "41. {a + 1 .. b}\n",
       "    core type: Operation\n",
       "    operator: 42\n",
       "    operands: 43\n",
       "42. Interval\n",
       "    core type: Literal\n",
       "    sub-expressions: \n",
       "43. (a + 1, b)\n",
       "    core type: ExprTuple\n",
       "    sub-expressions: 44, 45\n",
       "44. a + 1\n",
       "    core type: Operation\n",
       "    operator: 46\n",
       "    operands: 47\n",
       "45. b\n",
       "    core type: Variable\n",
       "    sub-expressions: \n",
       "46. +\n",
       "    core type: Literal\n",
       "    sub-expressions: \n",
       "47. (a, 1)\n",
       "    core type: ExprTuple\n",
       "    sub-expressions: 48, 49\n",
       "48. a\n",
       "    core type: Variable\n",
       "    sub-expressions: \n",
       "49. 1\n",
       "    core type: Literal\n",
       "    sub-expressions: "
      ]
     },
     "metadata": {},
     "output_type": "display_data"
    }
   ],
   "source": [
    "# display the expression information\n",
    "stored_expr.expr_info()"
   ]
  },
  {
   "cell_type": "code",
   "execution_count": null,
   "metadata": {},
   "outputs": [],
   "source": []
  }
 ],
 "metadata": {
  "kernelspec": {
   "display_name": "Python 3",
   "language": "python",
   "name": "python3"
  }
 },
 "nbformat": 4,
 "nbformat_minor": 0
}