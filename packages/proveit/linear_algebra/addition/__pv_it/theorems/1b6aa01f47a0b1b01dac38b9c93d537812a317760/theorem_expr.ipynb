{
 "cells": [
  {
   "cell_type": "markdown",
   "metadata": {},
   "source": [
    "Theorem <a class=\"ProveItLink\" href=\"../../../_theorems_.ipynb#number_add_reduction\">number_add_reduction</a> of type <a class=\"ProveItLink\" href=\"../../../../../../../doc/html/api/proveit.logic.Forall.html\">Forall</a>\n",
    "=======================\n",
    "# from the theory of <a class=\"ProveItLink\" href=\"../../../_theory_nbs_/theory.ipynb\">proveit.linear_algebra.addition</a>\n",
    "*** see <a class=\"ProveItLink\" href=\"dependencies.ipynb\">dependencies</a> ***"
   ]
  },
  {
   "cell_type": "code",
   "execution_count": 1,
   "metadata": {},
   "outputs": [],
   "source": [
    "import proveit\n",
    "# Automation is not needed when only building an expression:\n",
    "proveit.defaults.automation = False # This will speed things up.\n",
    "proveit.defaults.inline_pngs = False # Makes files smaller.\n",
    "%load_theorem_expr # Load the stored theorem expression as 'stored_expr'\n",
    "# import the special expression\n",
    "from proveit.linear_algebra.addition import number_add_reduction"
   ]
  },
  {
   "cell_type": "code",
   "execution_count": 2,
   "metadata": {},
   "outputs": [
    {
     "name": "stdout",
     "output_type": "stream",
     "text": [
      "Passed sanity check: number_add_reduction matches stored_expr\n"
     ]
    }
   ],
   "source": [
    "# check that the built expression is the same as the stored expression\n",
    "assert number_add_reduction.expr == stored_expr\n",
    "assert number_add_reduction.expr._style_id == stored_expr._style_id\n",
    "print(\"Passed sanity check: number_add_reduction matches stored_expr\")"
   ]
  },
  {
   "cell_type": "code",
   "execution_count": 3,
   "metadata": {},
   "outputs": [
    {
     "name": "stdout",
     "output_type": "stream",
     "text": [
      "\\forall_{n \\in \\mathbb{N}^+}~\\left[\\forall_{x_{1}, x_{2}, \\ldots, x_{n} \\in \\mathbb{C}}~\\left(\\left(x_{1} +  x_{2} +  \\ldots +  x_{n}\\right) = \\left(x_{1} +  x_{2} +  \\ldots +  x_{n}\\right)\\right)\\right]\n"
     ]
    }
   ],
   "source": [
    "# Show the LaTeX representation of the expression for convenience if you need it.\n",
    "print(stored_expr.latex())"
   ]
  },
  {
   "cell_type": "code",
   "execution_count": 4,
   "metadata": {},
   "outputs": [
    {
     "data": {
      "text/html": [
       "<table>\n",
       "<tr><th>name</th><th>description</th><th>default</th><th>current value</th><th>related methods</th></tr><tr><td>with_wrapping</td><td>If 'True', wrap the Expression after the parameters</td><td>None</td><td>None/False</td><td>('with_wrapping',)</td></tr>\n",
       "<tr><td>condition_wrapping</td><td>Wrap 'before' or 'after' the condition (or None).</td><td>None</td><td>None/False</td><td>('with_wrap_after_condition', 'with_wrap_before_condition')</td></tr>\n",
       "<tr><td>wrap_params</td><td>If 'True', wraps every two parameters AND wraps the Expression after the parameters</td><td>None</td><td>None/False</td><td>('with_params',)</td></tr>\n",
       "<tr><td>justification</td><td>justify to the 'left', 'center', or 'right' in the array cells</td><td>center</td><td>center</td><td>('with_justification',)</td></tr>\n",
       "</table>\n"
      ],
      "text/plain": [
       "style name: with_wrapping\n",
       "description: If 'True', wrap the Expression after the parameters\n",
       "default: None\n",
       "current value: None/False\n",
       "related methods: ('with_wrapping',)\n",
       "style name: condition_wrapping\n",
       "description: Wrap 'before' or 'after' the condition (or None).\n",
       "default: None\n",
       "current value: None/False\n",
       "related methods: ('with_wrap_after_condition', 'with_wrap_before_condition')\n",
       "style name: wrap_params\n",
       "description: If 'True', wraps every two parameters AND wraps the Expression after the parameters\n",
       "default: None\n",
       "current value: None/False\n",
       "related methods: ('with_params',)\n",
       "style name: justification\n",
       "description: justify to the 'left', 'center', or 'right' in the array cells\n",
       "default: center\n",
       "current value: center\n",
       "related methods: ('with_justification',)"
      ]
     },
     "metadata": {},
     "output_type": "display_data"
    }
   ],
   "source": [
    "stored_expr.style_options()"
   ]
  },
  {
   "cell_type": "code",
   "execution_count": 5,
   "metadata": {},
   "outputs": [
    {
     "data": {
      "text/html": [
       "<table><tr><th>&nbsp;</th><th>core type</th><th>sub-expressions</th><th>expression</th></tr>\n",
       "<tr><td>0</td><td>Operation</td><td>operator:&nbsp;7<br>operand:&nbsp;2<br></td><td><a class=\"ProveItLink\" href=\"../ab099936ff5f9d0c8301bbe2e0da270acb90387c0/expr.ipynb\"><img src=\"../ab099936ff5f9d0c8301bbe2e0da270acb90387c0/expr.png\" style=\"display:inline;vertical-align:middle;\" /></a></td></tr>\n",
       "<tr><td>1</td><td>ExprTuple</td><td>2</td><td><a class=\"ProveItLink\" href=\"../00c095ffbd71079b14f5a28dbc3a32f027967c130/expr.ipynb\"><img src=\"../00c095ffbd71079b14f5a28dbc3a32f027967c130/expr.png\" style=\"display:inline;vertical-align:middle;\" /></a></td></tr>\n",
       "<tr><td>2</td><td>Lambda</td><td>parameter:&nbsp;30<br>body:&nbsp;4<br></td><td><a class=\"ProveItLink\" href=\"../335f2c7131619daee10f0700bfb96348da9e75410/expr.ipynb\"><img src=\"../335f2c7131619daee10f0700bfb96348da9e75410/expr.png\" style=\"display:inline;vertical-align:middle;\" /></a></td></tr>\n",
       "<tr><td>3</td><td>ExprTuple</td><td>30</td><td><a class=\"ProveItLink\" href=\"../ca565dff2751ea9a3b48fe855133b9e0c2eca83f0/expr.ipynb\"><img src=\"../ca565dff2751ea9a3b48fe855133b9e0c2eca83f0/expr.png\" style=\"display:inline;vertical-align:middle;\" /></a></td></tr>\n",
       "<tr><td>4</td><td>Conditional</td><td>value:&nbsp;5<br>condition:&nbsp;6<br></td><td><a class=\"ProveItLink\" href=\"../dc3840e7580d88b4d7fdb17440f179f418c1f3030/expr.ipynb\"><img src=\"../dc3840e7580d88b4d7fdb17440f179f418c1f3030/expr.png\" style=\"display:inline;vertical-align:middle;\" /></a></td></tr>\n",
       "<tr><td>5</td><td>Operation</td><td>operator:&nbsp;7<br>operand:&nbsp;10<br></td><td><a class=\"ProveItLink\" href=\"../2dac1a61c4c9dda7c1f839f4df987207a4f02e3c0/expr.ipynb\"><img src=\"../2dac1a61c4c9dda7c1f839f4df987207a4f02e3c0/expr.png\" style=\"display:inline;vertical-align:middle;\" /></a></td></tr>\n",
       "<tr><td>6</td><td>Operation</td><td>operator:&nbsp;31<br>operands:&nbsp;9<br></td><td><a class=\"ProveItLink\" href=\"../c3c0a0522590e024022c8052cabac138164190560/expr.ipynb\"><img src=\"../c3c0a0522590e024022c8052cabac138164190560/expr.png\" style=\"display:inline;vertical-align:middle;\" /></a></td></tr>\n",
       "<tr><td>7</td><td>Literal</td><td></td><td><a class=\"ProveItLink\" href=\"../../../../../logic/booleans/quantification/universality/__pv_it/common/083d2baa0b8ecab1d230f9ec29a15aa1355809fb0/expr.ipynb\"><img src=\"../../../../../logic/booleans/quantification/universality/__pv_it/common/083d2baa0b8ecab1d230f9ec29a15aa1355809fb0/expr.png\" style=\"display:inline;vertical-align:middle;\" /></a></td></tr>\n",
       "<tr><td>8</td><td>ExprTuple</td><td>10</td><td><a class=\"ProveItLink\" href=\"../22786a26628358f9f0586d3e6460e57e47df2d9d0/expr.ipynb\"><img src=\"../22786a26628358f9f0586d3e6460e57e47df2d9d0/expr.png\" style=\"display:inline;vertical-align:middle;\" /></a></td></tr>\n",
       "<tr><td>9</td><td>ExprTuple</td><td>30, 11</td><td><a class=\"ProveItLink\" href=\"../4459dda147b56e10026c83203ced1bc32b9704ab0/expr.ipynb\"><img src=\"../4459dda147b56e10026c83203ced1bc32b9704ab0/expr.png\" style=\"display:inline;vertical-align:middle;\" /></a></td></tr>\n",
       "<tr><td>10</td><td>Lambda</td><td>parameters:&nbsp;24<br>body:&nbsp;12<br></td><td><a class=\"ProveItLink\" href=\"../4997e6fbb04ed0b97c957a2a2a46c7f83c02b4610/expr.ipynb\"><img src=\"../4997e6fbb04ed0b97c957a2a2a46c7f83c02b4610/expr.png\" style=\"display:inline;vertical-align:middle;\" /></a></td></tr>\n",
       "<tr><td>11</td><td>Literal</td><td></td><td><a class=\"ProveItLink\" href=\"../../../../../numbers/number_sets/natural_numbers/__pv_it/common/6111329435c43892c831c4793de96afbf80bdb3e0/expr.ipynb\"><img src=\"../../../../../numbers/number_sets/natural_numbers/__pv_it/common/6111329435c43892c831c4793de96afbf80bdb3e0/expr.png\" style=\"display:inline;vertical-align:middle;\" /></a></td></tr>\n",
       "<tr><td>12</td><td>Conditional</td><td>value:&nbsp;13<br>condition:&nbsp;14<br></td><td><a class=\"ProveItLink\" href=\"../cc2d10378e5fbc1e66825d1fb05f1e2863a86d370/expr.ipynb\"><img src=\"../cc2d10378e5fbc1e66825d1fb05f1e2863a86d370/expr.png\" style=\"display:inline;vertical-align:middle;\" /></a></td></tr>\n",
       "<tr><td>13</td><td>Operation</td><td>operator:&nbsp;15<br>operands:&nbsp;16<br></td><td><a class=\"ProveItLink\" href=\"../176f58f9c8834246ec418e161bf5a138a4b78fa30/expr.ipynb\"><img src=\"../176f58f9c8834246ec418e161bf5a138a4b78fa30/expr.png\" style=\"display:inline;vertical-align:middle;\" /></a></td></tr>\n",
       "<tr><td>14</td><td>Operation</td><td>operator:&nbsp;17<br>operands:&nbsp;18<br></td><td><a class=\"ProveItLink\" href=\"../36a9f7cde0c96549106bc52c5a8313bd6910cf7e0/expr.ipynb\"><img src=\"../36a9f7cde0c96549106bc52c5a8313bd6910cf7e0/expr.png\" style=\"display:inline;vertical-align:middle;\" /></a></td></tr>\n",
       "<tr><td>15</td><td>Literal</td><td></td><td><a class=\"ProveItLink\" href=\"../../../../../logic/equality/__pv_it/common/fb96dc12b2aa8801dda64d0132b396c63d1502bb0/expr.ipynb\"><img src=\"../../../../../logic/equality/__pv_it/common/fb96dc12b2aa8801dda64d0132b396c63d1502bb0/expr.png\" style=\"display:inline;vertical-align:middle;\" /></a></td></tr>\n",
       "<tr><td>16</td><td>ExprTuple</td><td>19, 20</td><td><a class=\"ProveItLink\" href=\"../0669d0c808bf39101f0d9de7ee0c8e330f28fd380/expr.ipynb\"><img src=\"../0669d0c808bf39101f0d9de7ee0c8e330f28fd380/expr.png\" style=\"display:inline;vertical-align:middle;\" /></a></td></tr>\n",
       "<tr><td>17</td><td>Literal</td><td></td><td><a class=\"ProveItLink\" href=\"../../../../../logic/booleans/conjunction/__pv_it/common/42118ff318bd65d98b1393f64ce7c2269feef76e0/expr.ipynb\"><img src=\"../../../../../logic/booleans/conjunction/__pv_it/common/42118ff318bd65d98b1393f64ce7c2269feef76e0/expr.png\" style=\"display:inline;vertical-align:middle;\" /></a></td></tr>\n",
       "<tr><td>18</td><td>ExprTuple</td><td>21</td><td><a class=\"ProveItLink\" href=\"../6acab1405dac3e7550296c66f24888b7c48eadf80/expr.ipynb\"><img src=\"../6acab1405dac3e7550296c66f24888b7c48eadf80/expr.png\" style=\"display:inline;vertical-align:middle;\" /></a></td></tr>\n",
       "<tr><td>19</td><td>Operation</td><td>operator:&nbsp;22<br>operands:&nbsp;24<br></td><td><a class=\"ProveItLink\" href=\"../d0f1db3461e708fd35d21dbca8f0794f34c9c9390/expr.ipynb\"><img src=\"../d0f1db3461e708fd35d21dbca8f0794f34c9c9390/expr.png\" style=\"display:inline;vertical-align:middle;\" /></a></td></tr>\n",
       "<tr><td>20</td><td>Operation</td><td>operator:&nbsp;23<br>operands:&nbsp;24<br></td><td><a class=\"ProveItLink\" href=\"../ed7c4c030739d9d34c3d12f7ff851cc6c34ae4c80/expr.ipynb\"><img src=\"../ed7c4c030739d9d34c3d12f7ff851cc6c34ae4c80/expr.png\" style=\"display:inline;vertical-align:middle;\" /></a></td></tr>\n",
       "<tr><td>21</td><td>ExprRange</td><td>lambda_map:&nbsp;25<br>start_index:&nbsp;29<br>end_index:&nbsp;30<br></td><td><a class=\"ProveItLink\" href=\"../2de9369b45a908c70ce51ac54a63f9ba591079430/expr.ipynb\"><img src=\"../2de9369b45a908c70ce51ac54a63f9ba591079430/expr.png\" style=\"display:inline;vertical-align:middle;\" /></a></td></tr>\n",
       "<tr><td>22</td><td>Literal</td><td></td><td><a class=\"ProveItLink\" href=\"../../common/ac3c140c9094f065c7f7db15c94558731443639c0/expr.ipynb\"><img src=\"../../common/ac3c140c9094f065c7f7db15c94558731443639c0/expr.png\" style=\"display:inline;vertical-align:middle;\" /></a></td></tr>\n",
       "<tr><td>23</td><td>Literal</td><td></td><td><a class=\"ProveItLink\" href=\"../../../../../numbers/addition/__pv_it/common/4b7effaab3619a1c2c38fe2dee8601df8ec714590/expr.ipynb\"><img src=\"../../../../../numbers/addition/__pv_it/common/4b7effaab3619a1c2c38fe2dee8601df8ec714590/expr.png\" style=\"display:inline;vertical-align:middle;\" /></a></td></tr>\n",
       "<tr><td>24</td><td>ExprTuple</td><td>26</td><td><a class=\"ProveItLink\" href=\"../e29d2811b42e43e69e77c1c44413b65518ecad320/expr.ipynb\"><img src=\"../e29d2811b42e43e69e77c1c44413b65518ecad320/expr.png\" style=\"display:inline;vertical-align:middle;\" /></a></td></tr>\n",
       "<tr><td>25</td><td>Lambda</td><td>parameter:&nbsp;37<br>body:&nbsp;27<br></td><td><a class=\"ProveItLink\" href=\"../ab4411f29e7ed51e7ebbb4f3e0900ecb60f90bdd0/expr.ipynb\"><img src=\"../ab4411f29e7ed51e7ebbb4f3e0900ecb60f90bdd0/expr.png\" style=\"display:inline;vertical-align:middle;\" /></a></td></tr>\n",
       "<tr><td>26</td><td>ExprRange</td><td>lambda_map:&nbsp;28<br>start_index:&nbsp;29<br>end_index:&nbsp;30<br></td><td><a class=\"ProveItLink\" href=\"../../../../../core_expr_types/__pv_it/common/d50f819f834d55ea1b9fad150926a94bf07ad8fc0/expr.ipynb\"><img src=\"../../../../../core_expr_types/__pv_it/common/d50f819f834d55ea1b9fad150926a94bf07ad8fc0/expr.png\" style=\"display:inline;vertical-align:middle;\" /></a></td></tr>\n",
       "<tr><td>27</td><td>Operation</td><td>operator:&nbsp;31<br>operands:&nbsp;32<br></td><td><a class=\"ProveItLink\" href=\"../d611efc6fe9c76d0f56638c84ffa73d0055fd2030/expr.ipynb\"><img src=\"../d611efc6fe9c76d0f56638c84ffa73d0055fd2030/expr.png\" style=\"display:inline;vertical-align:middle;\" /></a></td></tr>\n",
       "<tr><td>28</td><td>Lambda</td><td>parameter:&nbsp;37<br>body:&nbsp;33<br></td><td><a class=\"ProveItLink\" href=\"../../../../../core_expr_types/__pv_it/common/f8f30fee5e5b4e37951ff8886b574795bf35d80c0/expr.ipynb\"><img src=\"../../../../../core_expr_types/__pv_it/common/f8f30fee5e5b4e37951ff8886b574795bf35d80c0/expr.png\" style=\"display:inline;vertical-align:middle;\" /></a></td></tr>\n",
       "<tr><td>29</td><td>Literal</td><td></td><td><a class=\"ProveItLink\" href=\"../../../../../numbers/numerals/__pv_it/common/682157d4892d216d9e5626ed533aff9b56b9506e0/expr.ipynb\"><img src=\"../../../../../numbers/numerals/__pv_it/common/682157d4892d216d9e5626ed533aff9b56b9506e0/expr.png\" style=\"display:inline;vertical-align:middle;\" /></a></td></tr>\n",
       "<tr><td>30</td><td>Variable</td><td></td><td><a class=\"ProveItLink\" href=\"../../../../../__pv_it/common/8968bb04eb3f7dfa02353397ce929b025bbd79c20/expr.ipynb\"><img src=\"../../../../../__pv_it/common/8968bb04eb3f7dfa02353397ce929b025bbd79c20/expr.png\" style=\"display:inline;vertical-align:middle;\" /></a></td></tr>\n",
       "<tr><td>31</td><td>Literal</td><td></td><td><a class=\"ProveItLink\" href=\"../../../../../logic/sets/membership/__pv_it/common/477487d8796864d23d5810f83761435f25167f690/expr.ipynb\"><img src=\"../../../../../logic/sets/membership/__pv_it/common/477487d8796864d23d5810f83761435f25167f690/expr.png\" style=\"display:inline;vertical-align:middle;\" /></a></td></tr>\n",
       "<tr><td>32</td><td>ExprTuple</td><td>33, 34</td><td><a class=\"ProveItLink\" href=\"../03742928b5d35a45febd8f0078a10fe1844f10720/expr.ipynb\"><img src=\"../03742928b5d35a45febd8f0078a10fe1844f10720/expr.png\" style=\"display:inline;vertical-align:middle;\" /></a></td></tr>\n",
       "<tr><td>33</td><td>IndexedVar</td><td>variable:&nbsp;35<br>index:&nbsp;37<br></td><td><a class=\"ProveItLink\" href=\"../../../../../core_expr_types/__pv_it/common/b7a46615d4e67a28ab963909b818c72af8e8e7c60/expr.ipynb\"><img src=\"../../../../../core_expr_types/__pv_it/common/b7a46615d4e67a28ab963909b818c72af8e8e7c60/expr.png\" style=\"display:inline;vertical-align:middle;\" /></a></td></tr>\n",
       "<tr><td>34</td><td>Literal</td><td></td><td><a class=\"ProveItLink\" href=\"../../../../../numbers/number_sets/complex_numbers/__pv_it/common/d18a028138f659eda00de597c28a3447fe87eb100/expr.ipynb\"><img src=\"../../../../../numbers/number_sets/complex_numbers/__pv_it/common/d18a028138f659eda00de597c28a3447fe87eb100/expr.png\" style=\"display:inline;vertical-align:middle;\" /></a></td></tr>\n",
       "<tr><td>35</td><td>Variable</td><td></td><td><a class=\"ProveItLink\" href=\"../../../../../__pv_it/common/a0d9d672aa5e272d907247690c152cc2c6daafb70/expr.ipynb\"><img src=\"../../../../../__pv_it/common/a0d9d672aa5e272d907247690c152cc2c6daafb70/expr.png\" style=\"display:inline;vertical-align:middle;\" /></a></td></tr>\n",
       "<tr><td>36</td><td>ExprTuple</td><td>37</td><td><a class=\"ProveItLink\" href=\"../../../../../core_expr_types/__pv_it/common/4b0dd6be36d76552eda6a95d5b4a27f5a5b62f900/expr.ipynb\"><img src=\"../../../../../core_expr_types/__pv_it/common/4b0dd6be36d76552eda6a95d5b4a27f5a5b62f900/expr.png\" style=\"display:inline;vertical-align:middle;\" /></a></td></tr>\n",
       "<tr><td>37</td><td>Variable</td><td></td><td><a class=\"ProveItLink\" href=\"../../../../../core_expr_types/__pv_it/common/006c465e50948aa2b52285e2de47974f741255cc0/expr.ipynb\"><img src=\"../../../../../core_expr_types/__pv_it/common/006c465e50948aa2b52285e2de47974f741255cc0/expr.png\" style=\"display:inline;vertical-align:middle;\" /></a></td></tr>\n",
       "</table>\n"
      ],
      "text/plain": [
       "0. forall_{n in NaturalPos} [forall_{x_{1}, x_{2}, ..., x_{n} in Complex} ((x_{1} +  x_{2} +  ... +  x_{n}) = (x_{1} +  x_{2} +  ... +  x_{n}))]\n",
       "   core type: Operation\n",
       "   operator: 7\n",
       "   operand: 2\n",
       "1. (n -> {forall_{x_{1}, x_{2}, ..., x_{n} in Complex} ((x_{1} +  x_{2} +  ... +  x_{n}) = (x_{1} +  x_{2} +  ... +  x_{n})) if n in NaturalPos.)\n",
       "   core type: ExprTuple\n",
       "   sub-expressions: 2\n",
       "2. n -> {forall_{x_{1}, x_{2}, ..., x_{n} in Complex} ((x_{1} +  x_{2} +  ... +  x_{n}) = (x_{1} +  x_{2} +  ... +  x_{n})) if n in NaturalPos.\n",
       "   core type: Lambda\n",
       "   parameter: 30\n",
       "   body: 4\n",
       "3. (n)\n",
       "   core type: ExprTuple\n",
       "   sub-expressions: 30\n",
       "4. {forall_{x_{1}, x_{2}, ..., x_{n} in Complex} ((x_{1} +  x_{2} +  ... +  x_{n}) = (x_{1} +  x_{2} +  ... +  x_{n})) if n in NaturalPos.\n",
       "   core type: Conditional\n",
       "   value: 5\n",
       "   condition: 6\n",
       "5. forall_{x_{1}, x_{2}, ..., x_{n} in Complex} ((x_{1} +  x_{2} +  ... +  x_{n}) = (x_{1} +  x_{2} +  ... +  x_{n}))\n",
       "   core type: Operation\n",
       "   operator: 7\n",
       "   operand: 10\n",
       "6. n in NaturalPos\n",
       "   core type: Operation\n",
       "   operator: 31\n",
       "   operands: 9\n",
       "7. forall\n",
       "   core type: Literal\n",
       "   sub-expressions: \n",
       "8. ((x_{1}, x_{2}, ..., x_{n}) -> {(x_{1} +  x_{2} +  ... +  x_{n}) = (x_{1} +  x_{2} +  ... +  x_{n}) if (x_{1} in Complex) and  (x_{2} in Complex) and  ... and  (x_{n} in Complex).)\n",
       "   core type: ExprTuple\n",
       "   sub-expressions: 10\n",
       "9. (n, NaturalPos)\n",
       "   core type: ExprTuple\n",
       "   sub-expressions: 30, 11\n",
       "10. (x_{1}, x_{2}, ..., x_{n}) -> {(x_{1} +  x_{2} +  ... +  x_{n}) = (x_{1} +  x_{2} +  ... +  x_{n}) if (x_{1} in Complex) and  (x_{2} in Complex) and  ... and  (x_{n} in Complex).\n",
       "    core type: Lambda\n",
       "    parameters: 24\\n    body: 12\n",
       "11. NaturalPos\n",
       "    core type: Literal\n",
       "    sub-expressions: \n",
       "12. {(x_{1} +  x_{2} +  ... +  x_{n}) = (x_{1} +  x_{2} +  ... +  x_{n}) if (x_{1} in Complex) and  (x_{2} in Complex) and  ... and  (x_{n} in Complex).\n",
       "    core type: Conditional\n",
       "    value: 13\n",
       "    condition: 14\n",
       "13. (x_{1} +  x_{2} +  ... +  x_{n}) = (x_{1} +  x_{2} +  ... +  x_{n})\n",
       "    core type: Operation\n",
       "    operator: 15\n",
       "    operands: 16\n",
       "14. (x_{1} in Complex) and  (x_{2} in Complex) and  ... and  (x_{n} in Complex)\n",
       "    core type: Operation\n",
       "    operator: 17\n",
       "    operands: 18\n",
       "15. =\n",
       "    core type: Literal\n",
       "    sub-expressions: \n",
       "16. (x_{1} +  x_{2} +  ... +  x_{n}, x_{1} +  x_{2} +  ... +  x_{n})\n",
       "    core type: ExprTuple\n",
       "    sub-expressions: 19, 20\n",
       "17. and\n",
       "    core type: Literal\n",
       "    sub-expressions: \n",
       "18. ((x_{1} in Complex), (x_{2} in Complex), ..., (x_{n} in Complex))\n",
       "    core type: ExprTuple\n",
       "    sub-expressions: 21\n",
       "19. x_{1} +  x_{2} +  ... +  x_{n}\n",
       "    core type: Operation\n",
       "    operator: 22\n",
       "    operands: 24\n",
       "20. x_{1} +  x_{2} +  ... +  x_{n}\n",
       "    core type: Operation\n",
       "    operator: 23\n",
       "    operands: 24\n",
       "21. (x_{1} in Complex), (x_{2} in Complex), ..., (x_{n} in Complex)\n",
       "    core type: ExprRange\n",
       "    lambda_map: 25\n",
       "    start_index: 29\n",
       "    end_index: 30\n",
       "22. +\n",
       "    core type: Literal\n",
       "    sub-expressions: \n",
       "23. +\n",
       "    core type: Literal\n",
       "    sub-expressions: \n",
       "24. (x_{1}, x_{2}, ..., x_{n})\n",
       "    core type: ExprTuple\n",
       "    sub-expressions: 26\n",
       "25. _a -> (x_{_a} in Complex)\n",
       "    core type: Lambda\n",
       "    parameter: 37\n",
       "    body: 27\n",
       "26. x_{1}, x_{2}, ..., x_{n}\n",
       "    core type: ExprRange\n",
       "    lambda_map: 28\n",
       "    start_index: 29\n",
       "    end_index: 30\n",
       "27. x_{_a} in Complex\n",
       "    core type: Operation\n",
       "    operator: 31\n",
       "    operands: 32\n",
       "28. _a -> x_{_a}\n",
       "    core type: Lambda\n",
       "    parameter: 37\n",
       "    body: 33\n",
       "29. 1\n",
       "    core type: Literal\n",
       "    sub-expressions: \n",
       "30. n\n",
       "    core type: Variable\n",
       "    sub-expressions: \n",
       "31. in\n",
       "    core type: Literal\n",
       "    sub-expressions: \n",
       "32. (x_{_a}, Complex)\n",
       "    core type: ExprTuple\n",
       "    sub-expressions: 33, 34\n",
       "33. x_{_a}\n",
       "    core type: IndexedVar\n",
       "variable: 35\n",
       "index: 37\n",
       "34. Complex\n",
       "    core type: Literal\n",
       "    sub-expressions: \n",
       "35. x\n",
       "    core type: Variable\n",
       "    sub-expressions: \n",
       "36. (_a)\n",
       "    core type: ExprTuple\n",
       "    sub-expressions: 37\n",
       "37. _a\n",
       "    core type: Variable\n",
       "    sub-expressions: "
      ]
     },
     "metadata": {},
     "output_type": "display_data"
    }
   ],
   "source": [
    "# display the expression information\n",
    "stored_expr.expr_info()"
   ]
  },
  {
   "cell_type": "code",
   "execution_count": null,
   "metadata": {},
   "outputs": [],
   "source": []
  }
 ],
 "metadata": {
  "kernelspec": {
   "display_name": "Python 3",
   "language": "python",
   "name": "python3"
  }
 },
 "nbformat": 4,
 "nbformat_minor": 0
}