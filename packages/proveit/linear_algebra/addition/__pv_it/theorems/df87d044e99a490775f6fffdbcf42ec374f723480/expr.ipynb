{
 "cells": [
  {
   "cell_type": "markdown",
   "metadata": {},
   "source": [
    "Expression of type <a class=\"ProveItLink\" href=\"../../../../../../../doc/html/api/proveit.Lambda.html\">Lambda</a>\n",
    "=======================\n",
    "# from the theory of <a class=\"ProveItLink\" href=\"../../../_theory_nbs_/theory.ipynb\">proveit.linear_algebra.addition</a>"
   ]
  },
  {
   "cell_type": "code",
   "execution_count": 1,
   "metadata": {},
   "outputs": [],
   "source": [
    "import proveit\n",
    "# Automation is not needed when building an expression:\n",
    "proveit.defaults.automation = False # This will speed things up.\n",
    "proveit.defaults.inline_pngs = False # Makes files smaller.\n",
    "%load_expr # Load the stored expression as 'stored_expr'\n",
    "# import Expression classes needed to build the expression\n",
    "from proveit import Conditional, Lambda, j, n\n",
    "from proveit.core_expr_types import x_1_to_n\n",
    "from proveit.linear_algebra.addition import vec_summation_b1toj_fQ\n",
    "from proveit.logic import And, Equals, Forall, InSet\n",
    "from proveit.numbers import Complex, NaturalPos\n",
    "from proveit.numbers.summation import summation_b1toj_fQ"
   ]
  },
  {
   "cell_type": "code",
   "execution_count": 2,
   "metadata": {},
   "outputs": [
    {
     "data": {
      "text/html": [
       "<strong id=\"expr\">expr:</strong> <a class=\"ProveItLink\" href=\"expr.ipynb\"><img src=\"expr.png\" style=\"display:inline;vertical-align:middle;\" /></a><br>"
      ],
      "text/plain": [
       "<IPython.core.display.HTML object>"
      ]
     },
     "metadata": {},
     "output_type": "display_data"
    }
   ],
   "source": [
    "# build up the expression from sub-expressions\n",
    "expr = Lambda([n, j], Conditional(Forall(instance_param_or_params = [x_1_to_n], instance_expr = Equals(vec_summation_b1toj_fQ, summation_b1toj_fQ), domain = Complex), And(InSet(n, NaturalPos), InSet(j, NaturalPos))))"
   ]
  },
  {
   "cell_type": "code",
   "execution_count": 3,
   "metadata": {},
   "outputs": [
    {
     "name": "stdout",
     "output_type": "stream",
     "text": [
      "Passed sanity check: expr matches stored_expr\n"
     ]
    }
   ],
   "source": [
    "# check that the built expression is the same as the stored expression\n",
    "assert expr == stored_expr\n",
    "assert expr._style_id == stored_expr._style_id\n",
    "print(\"Passed sanity check: expr matches stored_expr\")"
   ]
  },
  {
   "cell_type": "code",
   "execution_count": 4,
   "metadata": {},
   "outputs": [
    {
     "name": "stdout",
     "output_type": "stream",
     "text": [
      "\\left(n, j\\right) \\mapsto \\left\\{\\forall_{x_{1}, x_{2}, \\ldots, x_{n} \\in \\mathbb{C}}~\\left(\\left[\\sum_{b_{1}, b_{2}, \\ldots, b_{j}~|~Q\\left(b_{1}, b_{2}, \\ldots, b_{j}\\right)}~f\\left(b_{1}, b_{2}, \\ldots, b_{j}\\right)\\right] = \\left[\\sum_{b_{1}, b_{2}, \\ldots, b_{j}~|~Q\\left(b_{1}, b_{2}, \\ldots, b_{j}\\right)}~f\\left(b_{1}, b_{2}, \\ldots, b_{j}\\right)\\right]\\right) \\textrm{ if } n \\in \\mathbb{N}^+ ,  j \\in \\mathbb{N}^+\\right..\n"
     ]
    }
   ],
   "source": [
    "# Show the LaTeX representation of the expression for convenience if you need it.\n",
    "print(stored_expr.latex())"
   ]
  },
  {
   "cell_type": "code",
   "execution_count": 5,
   "metadata": {},
   "outputs": [
    {
     "data": {
      "text/html": [
       "no style options"
      ],
      "text/plain": [
       "no style options"
      ]
     },
     "metadata": {},
     "output_type": "display_data"
    }
   ],
   "source": [
    "stored_expr.style_options()"
   ]
  },
  {
   "cell_type": "code",
   "execution_count": 6,
   "metadata": {},
   "outputs": [
    {
     "data": {
      "text/html": [
       "<table><tr><th>&nbsp;</th><th>core type</th><th>sub-expressions</th><th>expression</th></tr>\n",
       "<tr><td>0</td><td>Lambda</td><td>parameters:&nbsp;1<br>body:&nbsp;2<br></td><td><a class=\"ProveItLink\" href=\"expr.ipynb\"><img src=\"expr.png\" style=\"display:inline;vertical-align:middle;\" /></a></td></tr>\n",
       "<tr><td>1</td><td>ExprTuple</td><td>31, 48</td><td><a class=\"ProveItLink\" href=\"../b2fbe69938b5d6115a098720f101f8913eafae6c0/expr.ipynb\"><img src=\"../b2fbe69938b5d6115a098720f101f8913eafae6c0/expr.png\" style=\"display:inline;vertical-align:middle;\" /></a></td></tr>\n",
       "<tr><td>2</td><td>Conditional</td><td>value:&nbsp;3<br>condition:&nbsp;4<br></td><td><a class=\"ProveItLink\" href=\"../126e9906b67a659023f10e1955e96456b9026e5f0/expr.ipynb\"><img src=\"../126e9906b67a659023f10e1955e96456b9026e5f0/expr.png\" style=\"display:inline;vertical-align:middle;\" /></a></td></tr>\n",
       "<tr><td>3</td><td>Operation</td><td>operator:&nbsp;5<br>operand:&nbsp;8<br></td><td><a class=\"ProveItLink\" href=\"../1ec9171676ed81cca6008ffa5e5388623f900ea30/expr.ipynb\"><img src=\"../1ec9171676ed81cca6008ffa5e5388623f900ea30/expr.png\" style=\"display:inline;vertical-align:middle;\" /></a></td></tr>\n",
       "<tr><td>4</td><td>Operation</td><td>operator:&nbsp;22<br>operands:&nbsp;7<br></td><td><a class=\"ProveItLink\" href=\"../2e75209f04d7471cf48f723ade97f12b39044c3d0/expr.ipynb\"><img src=\"../2e75209f04d7471cf48f723ade97f12b39044c3d0/expr.png\" style=\"display:inline;vertical-align:middle;\" /></a></td></tr>\n",
       "<tr><td>5</td><td>Literal</td><td></td><td><a class=\"ProveItLink\" href=\"../../../../../logic/booleans/quantification/universality/__pv_it/common/083d2baa0b8ecab1d230f9ec29a15aa1355809fb0/expr.ipynb\"><img src=\"../../../../../logic/booleans/quantification/universality/__pv_it/common/083d2baa0b8ecab1d230f9ec29a15aa1355809fb0/expr.png\" style=\"display:inline;vertical-align:middle;\" /></a></td></tr>\n",
       "<tr><td>6</td><td>ExprTuple</td><td>8</td><td><a class=\"ProveItLink\" href=\"../23df1b6ecd674cd37b9674af8bc271ed7c910fdb0/expr.ipynb\"><img src=\"../23df1b6ecd674cd37b9674af8bc271ed7c910fdb0/expr.png\" style=\"display:inline;vertical-align:middle;\" /></a></td></tr>\n",
       "<tr><td>7</td><td>ExprTuple</td><td>9, 10</td><td><a class=\"ProveItLink\" href=\"../1eac3debbd5cec66289fb568abca8ac7d76e5baf0/expr.ipynb\"><img src=\"../1eac3debbd5cec66289fb568abca8ac7d76e5baf0/expr.png\" style=\"display:inline;vertical-align:middle;\" /></a></td></tr>\n",
       "<tr><td>8</td><td>Lambda</td><td>parameters:&nbsp;11<br>body:&nbsp;12<br></td><td><a class=\"ProveItLink\" href=\"../ef21da3df71ef6048292f3ae5ed393100b8db18f0/expr.ipynb\"><img src=\"../ef21da3df71ef6048292f3ae5ed393100b8db18f0/expr.png\" style=\"display:inline;vertical-align:middle;\" /></a></td></tr>\n",
       "<tr><td>9</td><td>Operation</td><td>operator:&nbsp;35<br>operands:&nbsp;13<br></td><td><a class=\"ProveItLink\" href=\"../c3c0a0522590e024022c8052cabac138164190560/expr.ipynb\"><img src=\"../c3c0a0522590e024022c8052cabac138164190560/expr.png\" style=\"display:inline;vertical-align:middle;\" /></a></td></tr>\n",
       "<tr><td>10</td><td>Operation</td><td>operator:&nbsp;35<br>operands:&nbsp;14<br></td><td><a class=\"ProveItLink\" href=\"../649ae346ef247b1d190476e522e54e82e6fe76a10/expr.ipynb\"><img src=\"../649ae346ef247b1d190476e522e54e82e6fe76a10/expr.png\" style=\"display:inline;vertical-align:middle;\" /></a></td></tr>\n",
       "<tr><td>11</td><td>ExprTuple</td><td>15</td><td><a class=\"ProveItLink\" href=\"../e29d2811b42e43e69e77c1c44413b65518ecad320/expr.ipynb\"><img src=\"../e29d2811b42e43e69e77c1c44413b65518ecad320/expr.png\" style=\"display:inline;vertical-align:middle;\" /></a></td></tr>\n",
       "<tr><td>12</td><td>Conditional</td><td>value:&nbsp;16<br>condition:&nbsp;17<br></td><td><a class=\"ProveItLink\" href=\"../8a447ec680515bf29fad1dca4e0a7e289c5880bb0/expr.ipynb\"><img src=\"../8a447ec680515bf29fad1dca4e0a7e289c5880bb0/expr.png\" style=\"display:inline;vertical-align:middle;\" /></a></td></tr>\n",
       "<tr><td>13</td><td>ExprTuple</td><td>31, 18</td><td><a class=\"ProveItLink\" href=\"../4459dda147b56e10026c83203ced1bc32b9704ab0/expr.ipynb\"><img src=\"../4459dda147b56e10026c83203ced1bc32b9704ab0/expr.png\" style=\"display:inline;vertical-align:middle;\" /></a></td></tr>\n",
       "<tr><td>14</td><td>ExprTuple</td><td>48, 18</td><td><a class=\"ProveItLink\" href=\"../fbb106d39245a485d62fb5665749b156e8eb3ca70/expr.ipynb\"><img src=\"../fbb106d39245a485d62fb5665749b156e8eb3ca70/expr.png\" style=\"display:inline;vertical-align:middle;\" /></a></td></tr>\n",
       "<tr><td>15</td><td>ExprRange</td><td>lambda_map:&nbsp;19<br>start_index:&nbsp;47<br>end_index:&nbsp;31<br></td><td><a class=\"ProveItLink\" href=\"../../../../../core_expr_types/__pv_it/common/d50f819f834d55ea1b9fad150926a94bf07ad8fc0/expr.ipynb\"><img src=\"../../../../../core_expr_types/__pv_it/common/d50f819f834d55ea1b9fad150926a94bf07ad8fc0/expr.png\" style=\"display:inline;vertical-align:middle;\" /></a></td></tr>\n",
       "<tr><td>16</td><td>Operation</td><td>operator:&nbsp;20<br>operands:&nbsp;21<br></td><td><a class=\"ProveItLink\" href=\"../5d9d90fbeb98fdb14ad3c1330d8df5ca4a0eaadc0/expr.ipynb\"><img src=\"../5d9d90fbeb98fdb14ad3c1330d8df5ca4a0eaadc0/expr.png\" style=\"display:inline;vertical-align:middle;\" /></a></td></tr>\n",
       "<tr><td>17</td><td>Operation</td><td>operator:&nbsp;22<br>operands:&nbsp;23<br></td><td><a class=\"ProveItLink\" href=\"../36a9f7cde0c96549106bc52c5a8313bd6910cf7e0/expr.ipynb\"><img src=\"../36a9f7cde0c96549106bc52c5a8313bd6910cf7e0/expr.png\" style=\"display:inline;vertical-align:middle;\" /></a></td></tr>\n",
       "<tr><td>18</td><td>Literal</td><td></td><td><a class=\"ProveItLink\" href=\"../../../../../numbers/number_sets/natural_numbers/__pv_it/common/6111329435c43892c831c4793de96afbf80bdb3e0/expr.ipynb\"><img src=\"../../../../../numbers/number_sets/natural_numbers/__pv_it/common/6111329435c43892c831c4793de96afbf80bdb3e0/expr.png\" style=\"display:inline;vertical-align:middle;\" /></a></td></tr>\n",
       "<tr><td>19</td><td>Lambda</td><td>parameter:&nbsp;52<br>body:&nbsp;39<br></td><td><a class=\"ProveItLink\" href=\"../../../../../core_expr_types/__pv_it/common/f8f30fee5e5b4e37951ff8886b574795bf35d80c0/expr.ipynb\"><img src=\"../../../../../core_expr_types/__pv_it/common/f8f30fee5e5b4e37951ff8886b574795bf35d80c0/expr.png\" style=\"display:inline;vertical-align:middle;\" /></a></td></tr>\n",
       "<tr><td>20</td><td>Literal</td><td></td><td><a class=\"ProveItLink\" href=\"../../../../../logic/equality/__pv_it/common/fb96dc12b2aa8801dda64d0132b396c63d1502bb0/expr.ipynb\"><img src=\"../../../../../logic/equality/__pv_it/common/fb96dc12b2aa8801dda64d0132b396c63d1502bb0/expr.png\" style=\"display:inline;vertical-align:middle;\" /></a></td></tr>\n",
       "<tr><td>21</td><td>ExprTuple</td><td>24, 25</td><td><a class=\"ProveItLink\" href=\"../796857b9b775e53af7e164bbfae33b462308d6430/expr.ipynb\"><img src=\"../796857b9b775e53af7e164bbfae33b462308d6430/expr.png\" style=\"display:inline;vertical-align:middle;\" /></a></td></tr>\n",
       "<tr><td>22</td><td>Literal</td><td></td><td><a class=\"ProveItLink\" href=\"../../../../../logic/booleans/conjunction/__pv_it/common/42118ff318bd65d98b1393f64ce7c2269feef76e0/expr.ipynb\"><img src=\"../../../../../logic/booleans/conjunction/__pv_it/common/42118ff318bd65d98b1393f64ce7c2269feef76e0/expr.png\" style=\"display:inline;vertical-align:middle;\" /></a></td></tr>\n",
       "<tr><td>23</td><td>ExprTuple</td><td>26</td><td><a class=\"ProveItLink\" href=\"../6acab1405dac3e7550296c66f24888b7c48eadf80/expr.ipynb\"><img src=\"../6acab1405dac3e7550296c66f24888b7c48eadf80/expr.png\" style=\"display:inline;vertical-align:middle;\" /></a></td></tr>\n",
       "<tr><td>24</td><td>Operation</td><td>operator:&nbsp;27<br>operand:&nbsp;32<br></td><td><a class=\"ProveItLink\" href=\"../../common/650c8aee4a66c5562ddfeae7da1cb7b6e9c3cc200/expr.ipynb\"><img src=\"../../common/650c8aee4a66c5562ddfeae7da1cb7b6e9c3cc200/expr.png\" style=\"display:inline;vertical-align:middle;\" /></a></td></tr>\n",
       "<tr><td>25</td><td>Operation</td><td>operator:&nbsp;28<br>operand:&nbsp;32<br></td><td><a class=\"ProveItLink\" href=\"../../../../../numbers/summation/__pv_it/common/d71f6d5f5f5c8fd11cced29abc8bd46cc924bc1c0/expr.ipynb\"><img src=\"../../../../../numbers/summation/__pv_it/common/d71f6d5f5f5c8fd11cced29abc8bd46cc924bc1c0/expr.png\" style=\"display:inline;vertical-align:middle;\" /></a></td></tr>\n",
       "<tr><td>26</td><td>ExprRange</td><td>lambda_map:&nbsp;30<br>start_index:&nbsp;47<br>end_index:&nbsp;31<br></td><td><a class=\"ProveItLink\" href=\"../2de9369b45a908c70ce51ac54a63f9ba591079430/expr.ipynb\"><img src=\"../2de9369b45a908c70ce51ac54a63f9ba591079430/expr.png\" style=\"display:inline;vertical-align:middle;\" /></a></td></tr>\n",
       "<tr><td>27</td><td>Literal</td><td></td><td><a class=\"ProveItLink\" href=\"../../common/62f73c830c62efb87627ede5678f282081cd0ce20/expr.ipynb\"><img src=\"../../common/62f73c830c62efb87627ede5678f282081cd0ce20/expr.png\" style=\"display:inline;vertical-align:middle;\" /></a></td></tr>\n",
       "<tr><td>28</td><td>Literal</td><td></td><td><a class=\"ProveItLink\" href=\"../../../../../numbers/summation/__pv_it/common/14fe61cccc388f91dfd83d3ca31cf27448cc070a0/expr.ipynb\"><img src=\"../../../../../numbers/summation/__pv_it/common/14fe61cccc388f91dfd83d3ca31cf27448cc070a0/expr.png\" style=\"display:inline;vertical-align:middle;\" /></a></td></tr>\n",
       "<tr><td>29</td><td>ExprTuple</td><td>32</td><td><a class=\"ProveItLink\" href=\"../../../../../numbers/summation/__pv_it/common/45946bd1ebd7886673df310b46237fd3b329b69f0/expr.ipynb\"><img src=\"../../../../../numbers/summation/__pv_it/common/45946bd1ebd7886673df310b46237fd3b329b69f0/expr.png\" style=\"display:inline;vertical-align:middle;\" /></a></td></tr>\n",
       "<tr><td>30</td><td>Lambda</td><td>parameter:&nbsp;52<br>body:&nbsp;33<br></td><td><a class=\"ProveItLink\" href=\"../ab4411f29e7ed51e7ebbb4f3e0900ecb60f90bdd0/expr.ipynb\"><img src=\"../ab4411f29e7ed51e7ebbb4f3e0900ecb60f90bdd0/expr.png\" style=\"display:inline;vertical-align:middle;\" /></a></td></tr>\n",
       "<tr><td>31</td><td>Variable</td><td></td><td><a class=\"ProveItLink\" href=\"../../../../../__pv_it/common/8968bb04eb3f7dfa02353397ce929b025bbd79c20/expr.ipynb\"><img src=\"../../../../../__pv_it/common/8968bb04eb3f7dfa02353397ce929b025bbd79c20/expr.png\" style=\"display:inline;vertical-align:middle;\" /></a></td></tr>\n",
       "<tr><td>32</td><td>Lambda</td><td>parameters:&nbsp;43<br>body:&nbsp;34<br></td><td><a class=\"ProveItLink\" href=\"../../../../../numbers/summation/__pv_it/common/16792c0186c8a40d7593bf77b8f3c413c0d71b7c0/expr.ipynb\"><img src=\"../../../../../numbers/summation/__pv_it/common/16792c0186c8a40d7593bf77b8f3c413c0d71b7c0/expr.png\" style=\"display:inline;vertical-align:middle;\" /></a></td></tr>\n",
       "<tr><td>33</td><td>Operation</td><td>operator:&nbsp;35<br>operands:&nbsp;36<br></td><td><a class=\"ProveItLink\" href=\"../d611efc6fe9c76d0f56638c84ffa73d0055fd2030/expr.ipynb\"><img src=\"../d611efc6fe9c76d0f56638c84ffa73d0055fd2030/expr.png\" style=\"display:inline;vertical-align:middle;\" /></a></td></tr>\n",
       "<tr><td>34</td><td>Conditional</td><td>value:&nbsp;37<br>condition:&nbsp;38<br></td><td><a class=\"ProveItLink\" href=\"../../../../../numbers/summation/__pv_it/common/30465670dddf17542ab6365d127631de40aa4f200/expr.ipynb\"><img src=\"../../../../../numbers/summation/__pv_it/common/30465670dddf17542ab6365d127631de40aa4f200/expr.png\" style=\"display:inline;vertical-align:middle;\" /></a></td></tr>\n",
       "<tr><td>35</td><td>Literal</td><td></td><td><a class=\"ProveItLink\" href=\"../../../../../logic/sets/membership/__pv_it/common/477487d8796864d23d5810f83761435f25167f690/expr.ipynb\"><img src=\"../../../../../logic/sets/membership/__pv_it/common/477487d8796864d23d5810f83761435f25167f690/expr.png\" style=\"display:inline;vertical-align:middle;\" /></a></td></tr>\n",
       "<tr><td>36</td><td>ExprTuple</td><td>39, 40</td><td><a class=\"ProveItLink\" href=\"../03742928b5d35a45febd8f0078a10fe1844f10720/expr.ipynb\"><img src=\"../03742928b5d35a45febd8f0078a10fe1844f10720/expr.png\" style=\"display:inline;vertical-align:middle;\" /></a></td></tr>\n",
       "<tr><td>37</td><td>Operation</td><td>operator:&nbsp;41<br>operands:&nbsp;43<br></td><td><a class=\"ProveItLink\" href=\"../../../../../numbers/summation/__pv_it/common/7bcf8af6554fa7d4e5743914f31215556feaa98c0/expr.ipynb\"><img src=\"../../../../../numbers/summation/__pv_it/common/7bcf8af6554fa7d4e5743914f31215556feaa98c0/expr.png\" style=\"display:inline;vertical-align:middle;\" /></a></td></tr>\n",
       "<tr><td>38</td><td>Operation</td><td>operator:&nbsp;42<br>operands:&nbsp;43<br></td><td><a class=\"ProveItLink\" href=\"../../../../../numbers/summation/__pv_it/common/b7a05d15a57d1e4b084e994131dfb32cfe0fdac30/expr.ipynb\"><img src=\"../../../../../numbers/summation/__pv_it/common/b7a05d15a57d1e4b084e994131dfb32cfe0fdac30/expr.png\" style=\"display:inline;vertical-align:middle;\" /></a></td></tr>\n",
       "<tr><td>39</td><td>IndexedVar</td><td>variable:&nbsp;44<br>index:&nbsp;52<br></td><td><a class=\"ProveItLink\" href=\"../../../../../core_expr_types/__pv_it/common/b7a46615d4e67a28ab963909b818c72af8e8e7c60/expr.ipynb\"><img src=\"../../../../../core_expr_types/__pv_it/common/b7a46615d4e67a28ab963909b818c72af8e8e7c60/expr.png\" style=\"display:inline;vertical-align:middle;\" /></a></td></tr>\n",
       "<tr><td>40</td><td>Literal</td><td></td><td><a class=\"ProveItLink\" href=\"../../../../../numbers/number_sets/complex_numbers/__pv_it/common/d18a028138f659eda00de597c28a3447fe87eb100/expr.ipynb\"><img src=\"../../../../../numbers/number_sets/complex_numbers/__pv_it/common/d18a028138f659eda00de597c28a3447fe87eb100/expr.png\" style=\"display:inline;vertical-align:middle;\" /></a></td></tr>\n",
       "<tr><td>41</td><td>Variable</td><td></td><td><a class=\"ProveItLink\" href=\"../../../../../__pv_it/common/01b6dbb444a31fc38af4c2379badef6c75b363710/expr.ipynb\"><img src=\"../../../../../__pv_it/common/01b6dbb444a31fc38af4c2379badef6c75b363710/expr.png\" style=\"display:inline;vertical-align:middle;\" /></a></td></tr>\n",
       "<tr><td>42</td><td>Variable</td><td></td><td><a class=\"ProveItLink\" href=\"../../../../../__pv_it/common/d72bb8b07403efe79afab564c36a28e21330e5f90/expr.ipynb\"><img src=\"../../../../../__pv_it/common/d72bb8b07403efe79afab564c36a28e21330e5f90/expr.png\" style=\"display:inline;vertical-align:middle;\" /></a></td></tr>\n",
       "<tr><td>43</td><td>ExprTuple</td><td>45</td><td><a class=\"ProveItLink\" href=\"../../../../../numbers/summation/__pv_it/common/012c9f5d21ff973afec8993018a8748215a3332a0/expr.ipynb\"><img src=\"../../../../../numbers/summation/__pv_it/common/012c9f5d21ff973afec8993018a8748215a3332a0/expr.png\" style=\"display:inline;vertical-align:middle;\" /></a></td></tr>\n",
       "<tr><td>44</td><td>Variable</td><td></td><td><a class=\"ProveItLink\" href=\"../../../../../__pv_it/common/a0d9d672aa5e272d907247690c152cc2c6daafb70/expr.ipynb\"><img src=\"../../../../../__pv_it/common/a0d9d672aa5e272d907247690c152cc2c6daafb70/expr.png\" style=\"display:inline;vertical-align:middle;\" /></a></td></tr>\n",
       "<tr><td>45</td><td>ExprRange</td><td>lambda_map:&nbsp;46<br>start_index:&nbsp;47<br>end_index:&nbsp;48<br></td><td><a class=\"ProveItLink\" href=\"../../../../../core_expr_types/__pv_it/common/d0e70829681f7e0560cecc174fdf76cb311d43400/expr.ipynb\"><img src=\"../../../../../core_expr_types/__pv_it/common/d0e70829681f7e0560cecc174fdf76cb311d43400/expr.png\" style=\"display:inline;vertical-align:middle;\" /></a></td></tr>\n",
       "<tr><td>46</td><td>Lambda</td><td>parameter:&nbsp;52<br>body:&nbsp;49<br></td><td><a class=\"ProveItLink\" href=\"../../../../../core_expr_types/__pv_it/common/d763764ede9c88a33f4b750791da02d1a21cb6820/expr.ipynb\"><img src=\"../../../../../core_expr_types/__pv_it/common/d763764ede9c88a33f4b750791da02d1a21cb6820/expr.png\" style=\"display:inline;vertical-align:middle;\" /></a></td></tr>\n",
       "<tr><td>47</td><td>Literal</td><td></td><td><a class=\"ProveItLink\" href=\"../../../../../numbers/numerals/__pv_it/common/682157d4892d216d9e5626ed533aff9b56b9506e0/expr.ipynb\"><img src=\"../../../../../numbers/numerals/__pv_it/common/682157d4892d216d9e5626ed533aff9b56b9506e0/expr.png\" style=\"display:inline;vertical-align:middle;\" /></a></td></tr>\n",
       "<tr><td>48</td><td>Variable</td><td></td><td><a class=\"ProveItLink\" href=\"../../../../../__pv_it/common/1ed21df18baca2f42b561a7ffbf30a2743d594650/expr.ipynb\"><img src=\"../../../../../__pv_it/common/1ed21df18baca2f42b561a7ffbf30a2743d594650/expr.png\" style=\"display:inline;vertical-align:middle;\" /></a></td></tr>\n",
       "<tr><td>49</td><td>IndexedVar</td><td>variable:&nbsp;50<br>index:&nbsp;52<br></td><td><a class=\"ProveItLink\" href=\"../../../../../core_expr_types/__pv_it/common/8542342c36565a593724a99f9c08d995c1c21af20/expr.ipynb\"><img src=\"../../../../../core_expr_types/__pv_it/common/8542342c36565a593724a99f9c08d995c1c21af20/expr.png\" style=\"display:inline;vertical-align:middle;\" /></a></td></tr>\n",
       "<tr><td>50</td><td>Variable</td><td></td><td><a class=\"ProveItLink\" href=\"../../../../../__pv_it/common/195236b98c6c564a75b5dbada74b173bc52d5c3e0/expr.ipynb\"><img src=\"../../../../../__pv_it/common/195236b98c6c564a75b5dbada74b173bc52d5c3e0/expr.png\" style=\"display:inline;vertical-align:middle;\" /></a></td></tr>\n",
       "<tr><td>51</td><td>ExprTuple</td><td>52</td><td><a class=\"ProveItLink\" href=\"../../../../../core_expr_types/__pv_it/common/4b0dd6be36d76552eda6a95d5b4a27f5a5b62f900/expr.ipynb\"><img src=\"../../../../../core_expr_types/__pv_it/common/4b0dd6be36d76552eda6a95d5b4a27f5a5b62f900/expr.png\" style=\"display:inline;vertical-align:middle;\" /></a></td></tr>\n",
       "<tr><td>52</td><td>Variable</td><td></td><td><a class=\"ProveItLink\" href=\"../../../../../core_expr_types/__pv_it/common/006c465e50948aa2b52285e2de47974f741255cc0/expr.ipynb\"><img src=\"../../../../../core_expr_types/__pv_it/common/006c465e50948aa2b52285e2de47974f741255cc0/expr.png\" style=\"display:inline;vertical-align:middle;\" /></a></td></tr>\n",
       "</table>\n"
      ],
      "text/plain": [
       "0. (n, j) -> {forall_{x_{1}, x_{2}, ..., x_{n} in Complex} ([Sum_{b_{1}, b_{2}, ..., b_{j} | Q(b_{1}, b_{2}, ..., b_{j})} f(b_{1}, b_{2}, ..., b_{j})] = [Sum_{b_{1}, b_{2}, ..., b_{j} | Q(b_{1}, b_{2}, ..., b_{j})} f(b_{1}, b_{2}, ..., b_{j})]) if n in NaturalPos ,  j in NaturalPos.\n",
       "   core type: Lambda\n",
       "   parameters: 1\\n   body: 2\n",
       "1. (n, j)\n",
       "   core type: ExprTuple\n",
       "   sub-expressions: 31, 48\n",
       "2. {forall_{x_{1}, x_{2}, ..., x_{n} in Complex} ([Sum_{b_{1}, b_{2}, ..., b_{j} | Q(b_{1}, b_{2}, ..., b_{j})} f(b_{1}, b_{2}, ..., b_{j})] = [Sum_{b_{1}, b_{2}, ..., b_{j} | Q(b_{1}, b_{2}, ..., b_{j})} f(b_{1}, b_{2}, ..., b_{j})]) if n in NaturalPos ,  j in NaturalPos.\n",
       "   core type: Conditional\n",
       "   value: 3\n",
       "   condition: 4\n",
       "3. forall_{x_{1}, x_{2}, ..., x_{n} in Complex} ([Sum_{b_{1}, b_{2}, ..., b_{j} | Q(b_{1}, b_{2}, ..., b_{j})} f(b_{1}, b_{2}, ..., b_{j})] = [Sum_{b_{1}, b_{2}, ..., b_{j} | Q(b_{1}, b_{2}, ..., b_{j})} f(b_{1}, b_{2}, ..., b_{j})])\n",
       "   core type: Operation\n",
       "   operator: 5\n",
       "   operand: 8\n",
       "4. (n in NaturalPos) and (j in NaturalPos)\n",
       "   core type: Operation\n",
       "   operator: 22\n",
       "   operands: 7\n",
       "5. forall\n",
       "   core type: Literal\n",
       "   sub-expressions: \n",
       "6. ((x_{1}, x_{2}, ..., x_{n}) -> {[Sum_{b_{1}, b_{2}, ..., b_{j} | Q(b_{1}, b_{2}, ..., b_{j})} f(b_{1}, b_{2}, ..., b_{j})] = [Sum_{b_{1}, b_{2}, ..., b_{j} | Q(b_{1}, b_{2}, ..., b_{j})} f(b_{1}, b_{2}, ..., b_{j})] if (x_{1} in Complex) and  (x_{2} in Complex) and  ... and  (x_{n} in Complex).)\n",
       "   core type: ExprTuple\n",
       "   sub-expressions: 8\n",
       "7. (n in NaturalPos, j in NaturalPos)\n",
       "   core type: ExprTuple\n",
       "   sub-expressions: 9, 10\n",
       "8. (x_{1}, x_{2}, ..., x_{n}) -> {[Sum_{b_{1}, b_{2}, ..., b_{j} | Q(b_{1}, b_{2}, ..., b_{j})} f(b_{1}, b_{2}, ..., b_{j})] = [Sum_{b_{1}, b_{2}, ..., b_{j} | Q(b_{1}, b_{2}, ..., b_{j})} f(b_{1}, b_{2}, ..., b_{j})] if (x_{1} in Complex) and  (x_{2} in Complex) and  ... and  (x_{n} in Complex).\n",
       "   core type: Lambda\n",
       "   parameters: 11\\n   body: 12\n",
       "9. n in NaturalPos\n",
       "   core type: Operation\n",
       "   operator: 35\n",
       "   operands: 13\n",
       "10. j in NaturalPos\n",
       "    core type: Operation\n",
       "    operator: 35\n",
       "    operands: 14\n",
       "11. (x_{1}, x_{2}, ..., x_{n})\n",
       "    core type: ExprTuple\n",
       "    sub-expressions: 15\n",
       "12. {[Sum_{b_{1}, b_{2}, ..., b_{j} | Q(b_{1}, b_{2}, ..., b_{j})} f(b_{1}, b_{2}, ..., b_{j})] = [Sum_{b_{1}, b_{2}, ..., b_{j} | Q(b_{1}, b_{2}, ..., b_{j})} f(b_{1}, b_{2}, ..., b_{j})] if (x_{1} in Complex) and  (x_{2} in Complex) and  ... and  (x_{n} in Complex).\n",
       "    core type: Conditional\n",
       "    value: 16\n",
       "    condition: 17\n",
       "13. (n, NaturalPos)\n",
       "    core type: ExprTuple\n",
       "    sub-expressions: 31, 18\n",
       "14. (j, NaturalPos)\n",
       "    core type: ExprTuple\n",
       "    sub-expressions: 48, 18\n",
       "15. x_{1}, x_{2}, ..., x_{n}\n",
       "    core type: ExprRange\n",
       "    lambda_map: 19\n",
       "    start_index: 47\n",
       "    end_index: 31\n",
       "16. [Sum_{b_{1}, b_{2}, ..., b_{j} | Q(b_{1}, b_{2}, ..., b_{j})} f(b_{1}, b_{2}, ..., b_{j})] = [Sum_{b_{1}, b_{2}, ..., b_{j} | Q(b_{1}, b_{2}, ..., b_{j})} f(b_{1}, b_{2}, ..., b_{j})]\n",
       "    core type: Operation\n",
       "    operator: 20\n",
       "    operands: 21\n",
       "17. (x_{1} in Complex) and  (x_{2} in Complex) and  ... and  (x_{n} in Complex)\n",
       "    core type: Operation\n",
       "    operator: 22\n",
       "    operands: 23\n",
       "18. NaturalPos\n",
       "    core type: Literal\n",
       "    sub-expressions: \n",
       "19. _a -> x_{_a}\n",
       "    core type: Lambda\n",
       "    parameter: 52\n",
       "    body: 39\n",
       "20. =\n",
       "    core type: Literal\n",
       "    sub-expressions: \n",
       "21. (Sum_{b_{1}, b_{2}, ..., b_{j} | Q(b_{1}, b_{2}, ..., b_{j})} f(b_{1}, b_{2}, ..., b_{j}), Sum_{b_{1}, b_{2}, ..., b_{j} | Q(b_{1}, b_{2}, ..., b_{j})} f(b_{1}, b_{2}, ..., b_{j}))\n",
       "    core type: ExprTuple\n",
       "    sub-expressions: 24, 25\n",
       "22. and\n",
       "    core type: Literal\n",
       "    sub-expressions: \n",
       "23. ((x_{1} in Complex), (x_{2} in Complex), ..., (x_{n} in Complex))\n",
       "    core type: ExprTuple\n",
       "    sub-expressions: 26\n",
       "24. Sum_{b_{1}, b_{2}, ..., b_{j} | Q(b_{1}, b_{2}, ..., b_{j})} f(b_{1}, b_{2}, ..., b_{j})\n",
       "    core type: Operation\n",
       "    operator: 27\n",
       "    operand: 32\n",
       "25. Sum_{b_{1}, b_{2}, ..., b_{j} | Q(b_{1}, b_{2}, ..., b_{j})} f(b_{1}, b_{2}, ..., b_{j})\n",
       "    core type: Operation\n",
       "    operator: 28\n",
       "    operand: 32\n",
       "26. (x_{1} in Complex), (x_{2} in Complex), ..., (x_{n} in Complex)\n",
       "    core type: ExprRange\n",
       "    lambda_map: 30\n",
       "    start_index: 47\n",
       "    end_index: 31\n",
       "27. Sum\n",
       "    core type: Literal\n",
       "    sub-expressions: \n",
       "28. Sum\n",
       "    core type: Literal\n",
       "    sub-expressions: \n",
       "29. ((b_{1}, b_{2}, ..., b_{j}) -> {f(b_{1}, b_{2}, ..., b_{j}) if Q(b_{1}, b_{2}, ..., b_{j}).)\n",
       "    core type: ExprTuple\n",
       "    sub-expressions: 32\n",
       "30. _a -> (x_{_a} in Complex)\n",
       "    core type: Lambda\n",
       "    parameter: 52\n",
       "    body: 33\n",
       "31. n\n",
       "    core type: Variable\n",
       "    sub-expressions: \n",
       "32. (b_{1}, b_{2}, ..., b_{j}) -> {f(b_{1}, b_{2}, ..., b_{j}) if Q(b_{1}, b_{2}, ..., b_{j}).\n",
       "    core type: Lambda\n",
       "    parameters: 43\\n    body: 34\n",
       "33. x_{_a} in Complex\n",
       "    core type: Operation\n",
       "    operator: 35\n",
       "    operands: 36\n",
       "34. {f(b_{1}, b_{2}, ..., b_{j}) if Q(b_{1}, b_{2}, ..., b_{j}).\n",
       "    core type: Conditional\n",
       "    value: 37\n",
       "    condition: 38\n",
       "35. in\n",
       "    core type: Literal\n",
       "    sub-expressions: \n",
       "36. (x_{_a}, Complex)\n",
       "    core type: ExprTuple\n",
       "    sub-expressions: 39, 40\n",
       "37. f(b_{1}, b_{2}, ..., b_{j})\n",
       "    core type: Operation\n",
       "    operator: 41\n",
       "    operands: 43\n",
       "38. Q(b_{1}, b_{2}, ..., b_{j})\n",
       "    core type: Operation\n",
       "    operator: 42\n",
       "    operands: 43\n",
       "39. x_{_a}\n",
       "    core type: IndexedVar\n",
       "variable: 44\n",
       "index: 52\n",
       "40. Complex\n",
       "    core type: Literal\n",
       "    sub-expressions: \n",
       "41. f\n",
       "    core type: Variable\n",
       "    sub-expressions: \n",
       "42. Q\n",
       "    core type: Variable\n",
       "    sub-expressions: \n",
       "43. (b_{1}, b_{2}, ..., b_{j})\n",
       "    core type: ExprTuple\n",
       "    sub-expressions: 45\n",
       "44. x\n",
       "    core type: Variable\n",
       "    sub-expressions: \n",
       "45. b_{1}, b_{2}, ..., b_{j}\n",
       "    core type: ExprRange\n",
       "    lambda_map: 46\n",
       "    start_index: 47\n",
       "    end_index: 48\n",
       "46. _a -> b_{_a}\n",
       "    core type: Lambda\n",
       "    parameter: 52\n",
       "    body: 49\n",
       "47. 1\n",
       "    core type: Literal\n",
       "    sub-expressions: \n",
       "48. j\n",
       "    core type: Variable\n",
       "    sub-expressions: \n",
       "49. b_{_a}\n",
       "    core type: IndexedVar\n",
       "variable: 50\n",
       "index: 52\n",
       "50. b\n",
       "    core type: Variable\n",
       "    sub-expressions: \n",
       "51. (_a)\n",
       "    core type: ExprTuple\n",
       "    sub-expressions: 52\n",
       "52. _a\n",
       "    core type: Variable\n",
       "    sub-expressions: "
      ]
     },
     "metadata": {},
     "output_type": "display_data"
    }
   ],
   "source": [
    "# display the expression information\n",
    "stored_expr.expr_info()"
   ]
  },
  {
   "cell_type": "code",
   "execution_count": null,
   "metadata": {},
   "outputs": [],
   "source": []
  }
 ],
 "metadata": {
  "kernelspec": {
   "display_name": "Python 3",
   "language": "python",
   "name": "python3"
  }
 },
 "nbformat": 4,
 "nbformat_minor": 0
}