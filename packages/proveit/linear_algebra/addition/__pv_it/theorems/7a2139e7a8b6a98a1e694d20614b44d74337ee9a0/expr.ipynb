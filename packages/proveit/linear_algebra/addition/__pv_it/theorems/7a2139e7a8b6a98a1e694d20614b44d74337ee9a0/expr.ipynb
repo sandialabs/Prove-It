{
 "cells": [
  {
   "cell_type": "markdown",
   "metadata": {},
   "source": [
    "Expression of type <a class=\"ProveItLink\" href=\"../../../../../../../doc/html/api/proveit.Conditional.html\">Conditional</a>\n",
    "=======================\n",
    "# from the theory of <a class=\"ProveItLink\" href=\"../../../_theory_nbs_/theory.ipynb\">proveit.linear_algebra.addition</a>"
   ]
  },
  {
   "cell_type": "code",
   "execution_count": 1,
   "metadata": {},
   "outputs": [],
   "source": [
    "import proveit\n",
    "# Automation is not needed when building an expression:\n",
    "proveit.defaults.automation = False # This will speed things up.\n",
    "proveit.defaults.inline_pngs = False # Makes files smaller.\n",
    "%load_expr # Load the stored expression as 'stored_expr'\n",
    "# import Expression classes needed to build the expression\n",
    "from proveit import Conditional, ExprRange, IndexedVar, V, Variable, n, x, y\n",
    "from proveit.core_expr_types import x_1_to_n\n",
    "from proveit.linear_algebra import VecAdd\n",
    "from proveit.logic import And, Equals, InSet\n",
    "from proveit.numbers import one"
   ]
  },
  {
   "cell_type": "code",
   "execution_count": 2,
   "metadata": {},
   "outputs": [
    {
     "data": {
      "text/html": [
       "<strong id=\"expr\">expr:</strong> <a class=\"ProveItLink\" href=\"expr.ipynb\"><img src=\"expr.png\" style=\"display:inline;vertical-align:middle;\" /></a><br>"
      ],
      "text/plain": [
       "<IPython.core.display.HTML object>"
      ]
     },
     "metadata": {},
     "output_type": "display_data"
    }
   ],
   "source": [
    "# build up the expression from sub-expressions\n",
    "sub_expr1 = Variable(\"_a\", latex_format = r\"{_{-}a}\")\n",
    "expr = Conditional(Equals(VecAdd(x_1_to_n, y), VecAdd(VecAdd(x_1_to_n), y)), And(ExprRange(sub_expr1, InSet(IndexedVar(x, sub_expr1), V), one, n), InSet(y, V)))"
   ]
  },
  {
   "cell_type": "code",
   "execution_count": 3,
   "metadata": {},
   "outputs": [
    {
     "name": "stdout",
     "output_type": "stream",
     "text": [
      "Passed sanity check: expr matches stored_expr\n"
     ]
    }
   ],
   "source": [
    "# check that the built expression is the same as the stored expression\n",
    "assert expr == stored_expr\n",
    "assert expr._style_id == stored_expr._style_id\n",
    "print(\"Passed sanity check: expr matches stored_expr\")"
   ]
  },
  {
   "cell_type": "code",
   "execution_count": 4,
   "metadata": {},
   "outputs": [
    {
     "name": "stdout",
     "output_type": "stream",
     "text": [
      "\\left\\{\\left(x_{1} +  x_{2} +  \\ldots +  x_{n} + y\\right) = \\left(\\left(x_{1} +  x_{2} +  \\ldots +  x_{n}\\right) + y\\right) \\textrm{ if } \\left(x_{1} \\in V\\right) ,  \\left(x_{2} \\in V\\right) ,  \\ldots ,  \\left(x_{n} \\in V\\right) ,  y \\in V\\right..\n"
     ]
    }
   ],
   "source": [
    "# Show the LaTeX representation of the expression for convenience if you need it.\n",
    "print(stored_expr.latex())"
   ]
  },
  {
   "cell_type": "code",
   "execution_count": 5,
   "metadata": {},
   "outputs": [
    {
     "data": {
      "text/html": [
       "<table>\n",
       "<tr><th>name</th><th>description</th><th>default</th><th>current value</th><th>related methods</th></tr><tr><td>condition_delimiter</td><td>'comma' or 'and'</td><td>comma</td><td>comma</td><td>('with_comma_delimiter', 'with_conjunction_delimiter')</td></tr>\n",
       "</table>\n"
      ],
      "text/plain": [
       "style name: condition_delimiter\n",
       "description: 'comma' or 'and'\n",
       "default: comma\n",
       "current value: comma\n",
       "related methods: ('with_comma_delimiter', 'with_conjunction_delimiter')"
      ]
     },
     "metadata": {},
     "output_type": "display_data"
    }
   ],
   "source": [
    "stored_expr.style_options()"
   ]
  },
  {
   "cell_type": "code",
   "execution_count": 6,
   "metadata": {},
   "outputs": [
    {
     "data": {
      "text/html": [
       "<table><tr><th>&nbsp;</th><th>core type</th><th>sub-expressions</th><th>expression</th></tr>\n",
       "<tr><td>0</td><td>Conditional</td><td>value:&nbsp;1<br>condition:&nbsp;2<br></td><td><a class=\"ProveItLink\" href=\"expr.ipynb\"><img src=\"expr.png\" style=\"display:inline;vertical-align:middle;\" /></a></td></tr>\n",
       "<tr><td>1</td><td>Operation</td><td>operator:&nbsp;3<br>operands:&nbsp;4<br></td><td><a class=\"ProveItLink\" href=\"../232e9067055fd24ca2951884ef02219dcd811e700/expr.ipynb\"><img src=\"../232e9067055fd24ca2951884ef02219dcd811e700/expr.png\" style=\"display:inline;vertical-align:middle;\" /></a></td></tr>\n",
       "<tr><td>2</td><td>Operation</td><td>operator:&nbsp;5<br>operands:&nbsp;6<br></td><td><a class=\"ProveItLink\" href=\"../40d2396a8d83d98d9e66625cf43b8e41ef4f27a10/expr.ipynb\"><img src=\"../40d2396a8d83d98d9e66625cf43b8e41ef4f27a10/expr.png\" style=\"display:inline;vertical-align:middle;\" /></a></td></tr>\n",
       "<tr><td>3</td><td>Literal</td><td></td><td><a class=\"ProveItLink\" href=\"../../../../../logic/equality/__pv_it/common/fb96dc12b2aa8801dda64d0132b396c63d1502bb0/expr.ipynb\"><img src=\"../../../../../logic/equality/__pv_it/common/fb96dc12b2aa8801dda64d0132b396c63d1502bb0/expr.png\" style=\"display:inline;vertical-align:middle;\" /></a></td></tr>\n",
       "<tr><td>4</td><td>ExprTuple</td><td>7, 8</td><td><a class=\"ProveItLink\" href=\"../e06990aad2a01f2a8edcb6eb6db946cfd45aafc20/expr.ipynb\"><img src=\"../e06990aad2a01f2a8edcb6eb6db946cfd45aafc20/expr.png\" style=\"display:inline;vertical-align:middle;\" /></a></td></tr>\n",
       "<tr><td>5</td><td>Literal</td><td></td><td><a class=\"ProveItLink\" href=\"../../../../../logic/booleans/conjunction/__pv_it/common/42118ff318bd65d98b1393f64ce7c2269feef76e0/expr.ipynb\"><img src=\"../../../../../logic/booleans/conjunction/__pv_it/common/42118ff318bd65d98b1393f64ce7c2269feef76e0/expr.png\" style=\"display:inline;vertical-align:middle;\" /></a></td></tr>\n",
       "<tr><td>6</td><td>ExprTuple</td><td>9, 10</td><td><a class=\"ProveItLink\" href=\"../970dea6b6228a42852ed299ec622ec8984a5420b0/expr.ipynb\"><img src=\"../970dea6b6228a42852ed299ec622ec8984a5420b0/expr.png\" style=\"display:inline;vertical-align:middle;\" /></a></td></tr>\n",
       "<tr><td>7</td><td>Operation</td><td>operator:&nbsp;18<br>operands:&nbsp;11<br></td><td><a class=\"ProveItLink\" href=\"../2474a5932b51d289a39e61b6e5a7e11cd678bd0a0/expr.ipynb\"><img src=\"../2474a5932b51d289a39e61b6e5a7e11cd678bd0a0/expr.png\" style=\"display:inline;vertical-align:middle;\" /></a></td></tr>\n",
       "<tr><td>8</td><td>Operation</td><td>operator:&nbsp;18<br>operands:&nbsp;12<br></td><td><a class=\"ProveItLink\" href=\"../2142f5a4320e05f21ba9bd42965f6f76c760099d0/expr.ipynb\"><img src=\"../2142f5a4320e05f21ba9bd42965f6f76c760099d0/expr.png\" style=\"display:inline;vertical-align:middle;\" /></a></td></tr>\n",
       "<tr><td>9</td><td>ExprRange</td><td>lambda_map:&nbsp;13<br>start_index:&nbsp;25<br>end_index:&nbsp;26<br></td><td><a class=\"ProveItLink\" href=\"../a197b4832199fbc9b1832f0fe5a5a543c7fffd920/expr.ipynb\"><img src=\"../a197b4832199fbc9b1832f0fe5a5a543c7fffd920/expr.png\" style=\"display:inline;vertical-align:middle;\" /></a></td></tr>\n",
       "<tr><td>10</td><td>Operation</td><td>operator:&nbsp;20<br>operands:&nbsp;14<br></td><td><a class=\"ProveItLink\" href=\"../ad9cf04a62955f8eac3407ae73b2d52ae5a9f9ec0/expr.ipynb\"><img src=\"../ad9cf04a62955f8eac3407ae73b2d52ae5a9f9ec0/expr.png\" style=\"display:inline;vertical-align:middle;\" /></a></td></tr>\n",
       "<tr><td>11</td><td>ExprTuple</td><td>22, 17</td><td><a class=\"ProveItLink\" href=\"../2aa30a788dd244628d71a4955b1085997186c6030/expr.ipynb\"><img src=\"../2aa30a788dd244628d71a4955b1085997186c6030/expr.png\" style=\"display:inline;vertical-align:middle;\" /></a></td></tr>\n",
       "<tr><td>12</td><td>ExprTuple</td><td>15, 17</td><td><a class=\"ProveItLink\" href=\"../2c912abf786646e30ac5b6a388481558e60812350/expr.ipynb\"><img src=\"../2c912abf786646e30ac5b6a388481558e60812350/expr.png\" style=\"display:inline;vertical-align:middle;\" /></a></td></tr>\n",
       "<tr><td>13</td><td>Lambda</td><td>parameter:&nbsp;30<br>body:&nbsp;16<br></td><td><a class=\"ProveItLink\" href=\"../944b3cf10cf54768fa11a115dc999b1b120c109a0/expr.ipynb\"><img src=\"../944b3cf10cf54768fa11a115dc999b1b120c109a0/expr.png\" style=\"display:inline;vertical-align:middle;\" /></a></td></tr>\n",
       "<tr><td>14</td><td>ExprTuple</td><td>17, 23</td><td><a class=\"ProveItLink\" href=\"../53b0168b4a7bb54f75fa4665499212655989d2840/expr.ipynb\"><img src=\"../53b0168b4a7bb54f75fa4665499212655989d2840/expr.png\" style=\"display:inline;vertical-align:middle;\" /></a></td></tr>\n",
       "<tr><td>15</td><td>Operation</td><td>operator:&nbsp;18<br>operands:&nbsp;19<br></td><td><a class=\"ProveItLink\" href=\"../d0f1db3461e708fd35d21dbca8f0794f34c9c9390/expr.ipynb\"><img src=\"../d0f1db3461e708fd35d21dbca8f0794f34c9c9390/expr.png\" style=\"display:inline;vertical-align:middle;\" /></a></td></tr>\n",
       "<tr><td>16</td><td>Operation</td><td>operator:&nbsp;20<br>operands:&nbsp;21<br></td><td><a class=\"ProveItLink\" href=\"../8953e19f3f675e8ad9d422fd6d08dae73d4b5cdf0/expr.ipynb\"><img src=\"../8953e19f3f675e8ad9d422fd6d08dae73d4b5cdf0/expr.png\" style=\"display:inline;vertical-align:middle;\" /></a></td></tr>\n",
       "<tr><td>17</td><td>Variable</td><td></td><td><a class=\"ProveItLink\" href=\"../../../../../__pv_it/common/ff7dba4ef0bbe791ab573bf2d9c220a304399ac80/expr.ipynb\"><img src=\"../../../../../__pv_it/common/ff7dba4ef0bbe791ab573bf2d9c220a304399ac80/expr.png\" style=\"display:inline;vertical-align:middle;\" /></a></td></tr>\n",
       "<tr><td>18</td><td>Literal</td><td></td><td><a class=\"ProveItLink\" href=\"../../common/ac3c140c9094f065c7f7db15c94558731443639c0/expr.ipynb\"><img src=\"../../common/ac3c140c9094f065c7f7db15c94558731443639c0/expr.png\" style=\"display:inline;vertical-align:middle;\" /></a></td></tr>\n",
       "<tr><td>19</td><td>ExprTuple</td><td>22</td><td><a class=\"ProveItLink\" href=\"../e29d2811b42e43e69e77c1c44413b65518ecad320/expr.ipynb\"><img src=\"../e29d2811b42e43e69e77c1c44413b65518ecad320/expr.png\" style=\"display:inline;vertical-align:middle;\" /></a></td></tr>\n",
       "<tr><td>20</td><td>Literal</td><td></td><td><a class=\"ProveItLink\" href=\"../../../../../logic/sets/membership/__pv_it/common/477487d8796864d23d5810f83761435f25167f690/expr.ipynb\"><img src=\"../../../../../logic/sets/membership/__pv_it/common/477487d8796864d23d5810f83761435f25167f690/expr.png\" style=\"display:inline;vertical-align:middle;\" /></a></td></tr>\n",
       "<tr><td>21</td><td>ExprTuple</td><td>27, 23</td><td><a class=\"ProveItLink\" href=\"../59bb6a4405200695227d7b61f898fd96e8fa89450/expr.ipynb\"><img src=\"../59bb6a4405200695227d7b61f898fd96e8fa89450/expr.png\" style=\"display:inline;vertical-align:middle;\" /></a></td></tr>\n",
       "<tr><td>22</td><td>ExprRange</td><td>lambda_map:&nbsp;24<br>start_index:&nbsp;25<br>end_index:&nbsp;26<br></td><td><a class=\"ProveItLink\" href=\"../../../../../core_expr_types/__pv_it/common/d50f819f834d55ea1b9fad150926a94bf07ad8fc0/expr.ipynb\"><img src=\"../../../../../core_expr_types/__pv_it/common/d50f819f834d55ea1b9fad150926a94bf07ad8fc0/expr.png\" style=\"display:inline;vertical-align:middle;\" /></a></td></tr>\n",
       "<tr><td>23</td><td>Variable</td><td></td><td><a class=\"ProveItLink\" href=\"../../../../../__pv_it/common/6d80eb1398b2335bf9ec427954b851b7094dced50/expr.ipynb\"><img src=\"../../../../../__pv_it/common/6d80eb1398b2335bf9ec427954b851b7094dced50/expr.png\" style=\"display:inline;vertical-align:middle;\" /></a></td></tr>\n",
       "<tr><td>24</td><td>Lambda</td><td>parameter:&nbsp;30<br>body:&nbsp;27<br></td><td><a class=\"ProveItLink\" href=\"../../../../../core_expr_types/__pv_it/common/f8f30fee5e5b4e37951ff8886b574795bf35d80c0/expr.ipynb\"><img src=\"../../../../../core_expr_types/__pv_it/common/f8f30fee5e5b4e37951ff8886b574795bf35d80c0/expr.png\" style=\"display:inline;vertical-align:middle;\" /></a></td></tr>\n",
       "<tr><td>25</td><td>Literal</td><td></td><td><a class=\"ProveItLink\" href=\"../../../../../numbers/numerals/__pv_it/common/682157d4892d216d9e5626ed533aff9b56b9506e0/expr.ipynb\"><img src=\"../../../../../numbers/numerals/__pv_it/common/682157d4892d216d9e5626ed533aff9b56b9506e0/expr.png\" style=\"display:inline;vertical-align:middle;\" /></a></td></tr>\n",
       "<tr><td>26</td><td>Variable</td><td></td><td><a class=\"ProveItLink\" href=\"../../../../../__pv_it/common/8968bb04eb3f7dfa02353397ce929b025bbd79c20/expr.ipynb\"><img src=\"../../../../../__pv_it/common/8968bb04eb3f7dfa02353397ce929b025bbd79c20/expr.png\" style=\"display:inline;vertical-align:middle;\" /></a></td></tr>\n",
       "<tr><td>27</td><td>IndexedVar</td><td>variable:&nbsp;28<br>index:&nbsp;30<br></td><td><a class=\"ProveItLink\" href=\"../../../../../core_expr_types/__pv_it/common/b7a46615d4e67a28ab963909b818c72af8e8e7c60/expr.ipynb\"><img src=\"../../../../../core_expr_types/__pv_it/common/b7a46615d4e67a28ab963909b818c72af8e8e7c60/expr.png\" style=\"display:inline;vertical-align:middle;\" /></a></td></tr>\n",
       "<tr><td>28</td><td>Variable</td><td></td><td><a class=\"ProveItLink\" href=\"../../../../../__pv_it/common/a0d9d672aa5e272d907247690c152cc2c6daafb70/expr.ipynb\"><img src=\"../../../../../__pv_it/common/a0d9d672aa5e272d907247690c152cc2c6daafb70/expr.png\" style=\"display:inline;vertical-align:middle;\" /></a></td></tr>\n",
       "<tr><td>29</td><td>ExprTuple</td><td>30</td><td><a class=\"ProveItLink\" href=\"../../../../../core_expr_types/__pv_it/common/4b0dd6be36d76552eda6a95d5b4a27f5a5b62f900/expr.ipynb\"><img src=\"../../../../../core_expr_types/__pv_it/common/4b0dd6be36d76552eda6a95d5b4a27f5a5b62f900/expr.png\" style=\"display:inline;vertical-align:middle;\" /></a></td></tr>\n",
       "<tr><td>30</td><td>Variable</td><td></td><td><a class=\"ProveItLink\" href=\"../../../../../core_expr_types/__pv_it/common/006c465e50948aa2b52285e2de47974f741255cc0/expr.ipynb\"><img src=\"../../../../../core_expr_types/__pv_it/common/006c465e50948aa2b52285e2de47974f741255cc0/expr.png\" style=\"display:inline;vertical-align:middle;\" /></a></td></tr>\n",
       "</table>\n"
      ],
      "text/plain": [
       "0. {(x_{1} +  x_{2} +  ... +  x_{n} + y) = ((x_{1} +  x_{2} +  ... +  x_{n}) + y) if (x_{1} in V) ,  (x_{2} in V) ,  ... ,  (x_{n} in V) ,  y in V.\n",
       "   core type: Conditional\n",
       "   value: 1\n",
       "   condition: 2\n",
       "1. (x_{1} +  x_{2} +  ... +  x_{n} + y) = ((x_{1} +  x_{2} +  ... +  x_{n}) + y)\n",
       "   core type: Operation\n",
       "   operator: 3\n",
       "   operands: 4\n",
       "2. (x_{1} in V) and  (x_{2} in V) and  ... and  (x_{n} in V) and (y in V)\n",
       "   core type: Operation\n",
       "   operator: 5\n",
       "   operands: 6\n",
       "3. =\n",
       "   core type: Literal\n",
       "   sub-expressions: \n",
       "4. (x_{1} +  x_{2} +  ... +  x_{n} + y, (x_{1} +  x_{2} +  ... +  x_{n}) + y)\n",
       "   core type: ExprTuple\n",
       "   sub-expressions: 7, 8\n",
       "5. and\n",
       "   core type: Literal\n",
       "   sub-expressions: \n",
       "6. ((x_{1} in V), (x_{2} in V), ..., (x_{n} in V), y in V)\n",
       "   core type: ExprTuple\n",
       "   sub-expressions: 9, 10\n",
       "7. x_{1} +  x_{2} +  ... +  x_{n} + y\n",
       "   core type: Operation\n",
       "   operator: 18\n",
       "   operands: 11\n",
       "8. (x_{1} +  x_{2} +  ... +  x_{n}) + y\n",
       "   core type: Operation\n",
       "   operator: 18\n",
       "   operands: 12\n",
       "9. (x_{1} in V), (x_{2} in V), ..., (x_{n} in V)\n",
       "   core type: ExprRange\n",
       "   lambda_map: 13\n",
       "   start_index: 25\n",
       "   end_index: 26\n",
       "10. y in V\n",
       "    core type: Operation\n",
       "    operator: 20\n",
       "    operands: 14\n",
       "11. (x_{1}, x_{2}, ..., x_{n}, y)\n",
       "    core type: ExprTuple\n",
       "    sub-expressions: 22, 17\n",
       "12. (x_{1} +  x_{2} +  ... +  x_{n}, y)\n",
       "    core type: ExprTuple\n",
       "    sub-expressions: 15, 17\n",
       "13. _a -> (x_{_a} in V)\n",
       "    core type: Lambda\n",
       "    parameter: 30\n",
       "    body: 16\n",
       "14. (y, V)\n",
       "    core type: ExprTuple\n",
       "    sub-expressions: 17, 23\n",
       "15. x_{1} +  x_{2} +  ... +  x_{n}\n",
       "    core type: Operation\n",
       "    operator: 18\n",
       "    operands: 19\n",
       "16. x_{_a} in V\n",
       "    core type: Operation\n",
       "    operator: 20\n",
       "    operands: 21\n",
       "17. y\n",
       "    core type: Variable\n",
       "    sub-expressions: \n",
       "18. +\n",
       "    core type: Literal\n",
       "    sub-expressions: \n",
       "19. (x_{1}, x_{2}, ..., x_{n})\n",
       "    core type: ExprTuple\n",
       "    sub-expressions: 22\n",
       "20. in\n",
       "    core type: Literal\n",
       "    sub-expressions: \n",
       "21. (x_{_a}, V)\n",
       "    core type: ExprTuple\n",
       "    sub-expressions: 27, 23\n",
       "22. x_{1}, x_{2}, ..., x_{n}\n",
       "    core type: ExprRange\n",
       "    lambda_map: 24\n",
       "    start_index: 25\n",
       "    end_index: 26\n",
       "23. V\n",
       "    core type: Variable\n",
       "    sub-expressions: \n",
       "24. _a -> x_{_a}\n",
       "    core type: Lambda\n",
       "    parameter: 30\n",
       "    body: 27\n",
       "25. 1\n",
       "    core type: Literal\n",
       "    sub-expressions: \n",
       "26. n\n",
       "    core type: Variable\n",
       "    sub-expressions: \n",
       "27. x_{_a}\n",
       "    core type: IndexedVar\n",
       "variable: 28\n",
       "index: 30\n",
       "28. x\n",
       "    core type: Variable\n",
       "    sub-expressions: \n",
       "29. (_a)\n",
       "    core type: ExprTuple\n",
       "    sub-expressions: 30\n",
       "30. _a\n",
       "    core type: Variable\n",
       "    sub-expressions: "
      ]
     },
     "metadata": {},
     "output_type": "display_data"
    }
   ],
   "source": [
    "# display the expression information\n",
    "stored_expr.expr_info()"
   ]
  },
  {
   "cell_type": "code",
   "execution_count": null,
   "metadata": {},
   "outputs": [],
   "source": []
  }
 ],
 "metadata": {
  "kernelspec": {
   "display_name": "Python 3",
   "language": "python",
   "name": "python3"
  }
 },
 "nbformat": 4,
 "nbformat_minor": 0
}