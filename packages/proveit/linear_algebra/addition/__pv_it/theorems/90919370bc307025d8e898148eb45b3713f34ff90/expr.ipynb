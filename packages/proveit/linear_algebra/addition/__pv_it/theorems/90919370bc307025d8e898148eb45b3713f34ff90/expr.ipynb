{
 "cells": [
  {
   "cell_type": "markdown",
   "metadata": {},
   "source": [
    "Expression of type <a class=\"ProveItLink\" href=\"../../../../../../../doc/html/api/proveit.Conditional.html\">Conditional</a>\n",
    "=======================\n",
    "# from the theory of <a class=\"ProveItLink\" href=\"../../../_theory_nbs_/theory.ipynb\">proveit.linear_algebra.addition</a>"
   ]
  },
  {
   "cell_type": "code",
   "execution_count": 1,
   "metadata": {},
   "outputs": [],
   "source": [
    "import proveit\n",
    "# Automation is not needed when building an expression:\n",
    "proveit.defaults.automation = False # This will speed things up.\n",
    "proveit.defaults.inline_pngs = False # Makes files smaller.\n",
    "%load_expr # Load the stored expression as 'stored_expr'\n",
    "# import Expression classes needed to build the expression\n",
    "from proveit import Conditional, Function, a, b, c, i, v, vi\n",
    "from proveit.linear_algebra import VecSum\n",
    "from proveit.logic import And, Equals, InSet\n",
    "from proveit.numbers import Add, Integer, Interval, subtract"
   ]
  },
  {
   "cell_type": "code",
   "execution_count": 2,
   "metadata": {},
   "outputs": [
    {
     "data": {
      "text/html": [
       "<strong id=\"expr\">expr:</strong> <a class=\"ProveItLink\" href=\"expr.ipynb\"><img src=\"expr.png\" style=\"display:inline;vertical-align:middle;\" /></a><br>"
      ],
      "text/plain": [
       "<IPython.core.display.HTML object>"
      ]
     },
     "metadata": {},
     "output_type": "display_data"
    }
   ],
   "source": [
    "# build up the expression from sub-expressions\n",
    "sub_expr1 = [i]\n",
    "expr = Conditional(Equals(VecSum(index_or_indices = sub_expr1, summand = vi, domain = Interval(a, b)), VecSum(index_or_indices = sub_expr1, summand = Function(v, [subtract(i, c)]), domain = Interval(Add(a, c), Add(b, c)))), And(InSet(a, Integer), InSet(b, Integer), InSet(c, Integer)))"
   ]
  },
  {
   "cell_type": "code",
   "execution_count": 3,
   "metadata": {},
   "outputs": [
    {
     "name": "stdout",
     "output_type": "stream",
     "text": [
      "Passed sanity check: expr matches stored_expr\n"
     ]
    }
   ],
   "source": [
    "# check that the built expression is the same as the stored expression\n",
    "assert expr == stored_expr\n",
    "assert expr._style_id == stored_expr._style_id\n",
    "print(\"Passed sanity check: expr matches stored_expr\")"
   ]
  },
  {
   "cell_type": "code",
   "execution_count": 4,
   "metadata": {},
   "outputs": [
    {
     "name": "stdout",
     "output_type": "stream",
     "text": [
      "\\left\\{\\left(\\sum_{i=a}^{b} v\\left(i\\right)\\right) = \\left(\\sum_{i=a + c}^{b + c} v\\left(i - c\\right)\\right) \\textrm{ if } a \\in \\mathbb{Z} ,  b \\in \\mathbb{Z} ,  c \\in \\mathbb{Z}\\right..\n"
     ]
    }
   ],
   "source": [
    "# Show the LaTeX representation of the expression for convenience if you need it.\n",
    "print(stored_expr.latex())"
   ]
  },
  {
   "cell_type": "code",
   "execution_count": 5,
   "metadata": {},
   "outputs": [
    {
     "data": {
      "text/html": [
       "<table>\n",
       "<tr><th>name</th><th>description</th><th>default</th><th>current value</th><th>related methods</th></tr><tr><td>condition_delimiter</td><td>'comma' or 'and'</td><td>comma</td><td>comma</td><td>('with_comma_delimiter', 'with_conjunction_delimiter')</td></tr>\n",
       "</table>\n"
      ],
      "text/plain": [
       "style name: condition_delimiter\n",
       "description: 'comma' or 'and'\n",
       "default: comma\n",
       "current value: comma\n",
       "related methods: ('with_comma_delimiter', 'with_conjunction_delimiter')"
      ]
     },
     "metadata": {},
     "output_type": "display_data"
    }
   ],
   "source": [
    "stored_expr.style_options()"
   ]
  },
  {
   "cell_type": "code",
   "execution_count": 6,
   "metadata": {},
   "outputs": [
    {
     "data": {
      "text/html": [
       "<table><tr><th>&nbsp;</th><th>core type</th><th>sub-expressions</th><th>expression</th></tr>\n",
       "<tr><td>0</td><td>Conditional</td><td>value:&nbsp;1<br>condition:&nbsp;2<br></td><td><a class=\"ProveItLink\" href=\"expr.ipynb\"><img src=\"expr.png\" style=\"display:inline;vertical-align:middle;\" /></a></td></tr>\n",
       "<tr><td>1</td><td>Operation</td><td>operator:&nbsp;3<br>operands:&nbsp;4<br></td><td><a class=\"ProveItLink\" href=\"../0b70b0728179039dd919c8bb7a17836a8b9459f30/expr.ipynb\"><img src=\"../0b70b0728179039dd919c8bb7a17836a8b9459f30/expr.png\" style=\"display:inline;vertical-align:middle;\" /></a></td></tr>\n",
       "<tr><td>2</td><td>Operation</td><td>operator:&nbsp;5<br>operands:&nbsp;6<br></td><td><a class=\"ProveItLink\" href=\"../243a98107f8c1ff9f8accc4200979c89bd5fc7cc0/expr.ipynb\"><img src=\"../243a98107f8c1ff9f8accc4200979c89bd5fc7cc0/expr.png\" style=\"display:inline;vertical-align:middle;\" /></a></td></tr>\n",
       "<tr><td>3</td><td>Literal</td><td></td><td><a class=\"ProveItLink\" href=\"../../../../../logic/equality/__pv_it/common/fb96dc12b2aa8801dda64d0132b396c63d1502bb0/expr.ipynb\"><img src=\"../../../../../logic/equality/__pv_it/common/fb96dc12b2aa8801dda64d0132b396c63d1502bb0/expr.png\" style=\"display:inline;vertical-align:middle;\" /></a></td></tr>\n",
       "<tr><td>4</td><td>ExprTuple</td><td>7, 8</td><td><a class=\"ProveItLink\" href=\"../c5696379f188ea5c018cc0a0a288f5ed4ba3ded80/expr.ipynb\"><img src=\"../c5696379f188ea5c018cc0a0a288f5ed4ba3ded80/expr.png\" style=\"display:inline;vertical-align:middle;\" /></a></td></tr>\n",
       "<tr><td>5</td><td>Literal</td><td></td><td><a class=\"ProveItLink\" href=\"../../../../../logic/booleans/conjunction/__pv_it/common/42118ff318bd65d98b1393f64ce7c2269feef76e0/expr.ipynb\"><img src=\"../../../../../logic/booleans/conjunction/__pv_it/common/42118ff318bd65d98b1393f64ce7c2269feef76e0/expr.png\" style=\"display:inline;vertical-align:middle;\" /></a></td></tr>\n",
       "<tr><td>6</td><td>ExprTuple</td><td>9, 10, 11</td><td><a class=\"ProveItLink\" href=\"../a151ca65e4774d2f2cf87fa0c2e00ef90559f7880/expr.ipynb\"><img src=\"../a151ca65e4774d2f2cf87fa0c2e00ef90559f7880/expr.png\" style=\"display:inline;vertical-align:middle;\" /></a></td></tr>\n",
       "<tr><td>7</td><td>Operation</td><td>operator:&nbsp;13<br>operand:&nbsp;18<br></td><td><a class=\"ProveItLink\" href=\"../2ce0468711d2f26bf2b7b7f668c8070a437475130/expr.ipynb\"><img src=\"../2ce0468711d2f26bf2b7b7f668c8070a437475130/expr.png\" style=\"display:inline;vertical-align:middle;\" /></a></td></tr>\n",
       "<tr><td>8</td><td>Operation</td><td>operator:&nbsp;13<br>operand:&nbsp;19<br></td><td><a class=\"ProveItLink\" href=\"../c91ece0c49f0a4be1d99c784973a2d4aa78442450/expr.ipynb\"><img src=\"../c91ece0c49f0a4be1d99c784973a2d4aa78442450/expr.png\" style=\"display:inline;vertical-align:middle;\" /></a></td></tr>\n",
       "<tr><td>9</td><td>Operation</td><td>operator:&nbsp;31<br>operands:&nbsp;15<br></td><td><a class=\"ProveItLink\" href=\"../d8d02d2a77383d238ed10b8fda7965dfafa87db90/expr.ipynb\"><img src=\"../d8d02d2a77383d238ed10b8fda7965dfafa87db90/expr.png\" style=\"display:inline;vertical-align:middle;\" /></a></td></tr>\n",
       "<tr><td>10</td><td>Operation</td><td>operator:&nbsp;31<br>operands:&nbsp;16<br></td><td><a class=\"ProveItLink\" href=\"../035e0ae7bd8c0fe127ee5d2062443d6c874adcdd0/expr.ipynb\"><img src=\"../035e0ae7bd8c0fe127ee5d2062443d6c874adcdd0/expr.png\" style=\"display:inline;vertical-align:middle;\" /></a></td></tr>\n",
       "<tr><td>11</td><td>Operation</td><td>operator:&nbsp;31<br>operands:&nbsp;17<br></td><td><a class=\"ProveItLink\" href=\"../ab9efd361cdf04a40e51b5b0d3fd587cd7505e5a0/expr.ipynb\"><img src=\"../ab9efd361cdf04a40e51b5b0d3fd587cd7505e5a0/expr.png\" style=\"display:inline;vertical-align:middle;\" /></a></td></tr>\n",
       "<tr><td>12</td><td>ExprTuple</td><td>18</td><td><a class=\"ProveItLink\" href=\"../65862bae3c0569f88aafe29ae916b807b6c609400/expr.ipynb\"><img src=\"../65862bae3c0569f88aafe29ae916b807b6c609400/expr.png\" style=\"display:inline;vertical-align:middle;\" /></a></td></tr>\n",
       "<tr><td>13</td><td>Literal</td><td></td><td><a class=\"ProveItLink\" href=\"../../common/62f73c830c62efb87627ede5678f282081cd0ce20/expr.ipynb\"><img src=\"../../common/62f73c830c62efb87627ede5678f282081cd0ce20/expr.png\" style=\"display:inline;vertical-align:middle;\" /></a></td></tr>\n",
       "<tr><td>14</td><td>ExprTuple</td><td>19</td><td><a class=\"ProveItLink\" href=\"../faa4c5b4d32d671df4e13e55de915c89f5b59dd90/expr.ipynb\"><img src=\"../faa4c5b4d32d671df4e13e55de915c89f5b59dd90/expr.png\" style=\"display:inline;vertical-align:middle;\" /></a></td></tr>\n",
       "<tr><td>15</td><td>ExprTuple</td><td>49, 20</td><td><a class=\"ProveItLink\" href=\"../6381f047505cef51bfb3432d8df76f1cfff47cae0/expr.ipynb\"><img src=\"../6381f047505cef51bfb3432d8df76f1cfff47cae0/expr.png\" style=\"display:inline;vertical-align:middle;\" /></a></td></tr>\n",
       "<tr><td>16</td><td>ExprTuple</td><td>50, 20</td><td><a class=\"ProveItLink\" href=\"../7a5273c178c04cb3ce78308074ba517705b130f80/expr.ipynb\"><img src=\"../7a5273c178c04cb3ce78308074ba517705b130f80/expr.png\" style=\"display:inline;vertical-align:middle;\" /></a></td></tr>\n",
       "<tr><td>17</td><td>ExprTuple</td><td>51, 20</td><td><a class=\"ProveItLink\" href=\"../91f20416e9a6ab1a27769f4eed666e1a275fd1b40/expr.ipynb\"><img src=\"../91f20416e9a6ab1a27769f4eed666e1a275fd1b40/expr.png\" style=\"display:inline;vertical-align:middle;\" /></a></td></tr>\n",
       "<tr><td>18</td><td>Lambda</td><td>parameter:&nbsp;40<br>body:&nbsp;21<br></td><td><a class=\"ProveItLink\" href=\"../545331b0ef11f87a0ed045f48046d6573665a7bd0/expr.ipynb\"><img src=\"../545331b0ef11f87a0ed045f48046d6573665a7bd0/expr.png\" style=\"display:inline;vertical-align:middle;\" /></a></td></tr>\n",
       "<tr><td>19</td><td>Lambda</td><td>parameter:&nbsp;40<br>body:&nbsp;22<br></td><td><a class=\"ProveItLink\" href=\"../9e93a14f16b4e16e88bc2b582e09d05812b415e70/expr.ipynb\"><img src=\"../9e93a14f16b4e16e88bc2b582e09d05812b415e70/expr.png\" style=\"display:inline;vertical-align:middle;\" /></a></td></tr>\n",
       "<tr><td>20</td><td>Literal</td><td></td><td><a class=\"ProveItLink\" href=\"../../../../../numbers/number_sets/integers/__pv_it/common/e6b4e90f9467053e055a4fd2f735c0bb79cb79300/expr.ipynb\"><img src=\"../../../../../numbers/number_sets/integers/__pv_it/common/e6b4e90f9467053e055a4fd2f735c0bb79cb79300/expr.png\" style=\"display:inline;vertical-align:middle;\" /></a></td></tr>\n",
       "<tr><td>21</td><td>Conditional</td><td>value:&nbsp;23<br>condition:&nbsp;24<br></td><td><a class=\"ProveItLink\" href=\"../e881cf68f92a1f457767e708427eef6920dc7a1d0/expr.ipynb\"><img src=\"../e881cf68f92a1f457767e708427eef6920dc7a1d0/expr.png\" style=\"display:inline;vertical-align:middle;\" /></a></td></tr>\n",
       "<tr><td>22</td><td>Conditional</td><td>value:&nbsp;25<br>condition:&nbsp;26<br></td><td><a class=\"ProveItLink\" href=\"../f78010e84ff2c04282a0145452f1d98a33a352970/expr.ipynb\"><img src=\"../f78010e84ff2c04282a0145452f1d98a33a352970/expr.png\" style=\"display:inline;vertical-align:middle;\" /></a></td></tr>\n",
       "<tr><td>23</td><td>Operation</td><td>operator:&nbsp;29<br>operand:&nbsp;40<br></td><td><a class=\"ProveItLink\" href=\"../../../../../__pv_it/common/f63b93109c631afbf6471ab6c2dc0807d57b8b890/expr.ipynb\"><img src=\"../../../../../__pv_it/common/f63b93109c631afbf6471ab6c2dc0807d57b8b890/expr.png\" style=\"display:inline;vertical-align:middle;\" /></a></td></tr>\n",
       "<tr><td>24</td><td>Operation</td><td>operator:&nbsp;31<br>operands:&nbsp;28<br></td><td><a class=\"ProveItLink\" href=\"../649e25044b70f4a7cf1e60bd1fdec4b99a4a799e0/expr.ipynb\"><img src=\"../649e25044b70f4a7cf1e60bd1fdec4b99a4a799e0/expr.png\" style=\"display:inline;vertical-align:middle;\" /></a></td></tr>\n",
       "<tr><td>25</td><td>Operation</td><td>operator:&nbsp;29<br>operand:&nbsp;34<br></td><td><a class=\"ProveItLink\" href=\"../7f7f6d8c517c63f0bb57c98af1f94775e65cddbc0/expr.ipynb\"><img src=\"../7f7f6d8c517c63f0bb57c98af1f94775e65cddbc0/expr.png\" style=\"display:inline;vertical-align:middle;\" /></a></td></tr>\n",
       "<tr><td>26</td><td>Operation</td><td>operator:&nbsp;31<br>operands:&nbsp;32<br></td><td><a class=\"ProveItLink\" href=\"../e7dab994dd323b8931ff80fa3e68d083f07cca5b0/expr.ipynb\"><img src=\"../e7dab994dd323b8931ff80fa3e68d083f07cca5b0/expr.png\" style=\"display:inline;vertical-align:middle;\" /></a></td></tr>\n",
       "<tr><td>27</td><td>ExprTuple</td><td>40</td><td><a class=\"ProveItLink\" href=\"../../../../../__pv_it/common/3b7d7ace2ced0a8261ea4d18d03aaf49e434d69d0/expr.ipynb\"><img src=\"../../../../../__pv_it/common/3b7d7ace2ced0a8261ea4d18d03aaf49e434d69d0/expr.png\" style=\"display:inline;vertical-align:middle;\" /></a></td></tr>\n",
       "<tr><td>28</td><td>ExprTuple</td><td>40, 33</td><td><a class=\"ProveItLink\" href=\"../555befaf31fe5fb4efb2e4d1e9d76182e9a1f2e10/expr.ipynb\"><img src=\"../555befaf31fe5fb4efb2e4d1e9d76182e9a1f2e10/expr.png\" style=\"display:inline;vertical-align:middle;\" /></a></td></tr>\n",
       "<tr><td>29</td><td>Variable</td><td></td><td><a class=\"ProveItLink\" href=\"../../../../../__pv_it/common/a4b9661da9b52dcebf59c5559fec8901f4df10750/expr.ipynb\"><img src=\"../../../../../__pv_it/common/a4b9661da9b52dcebf59c5559fec8901f4df10750/expr.png\" style=\"display:inline;vertical-align:middle;\" /></a></td></tr>\n",
       "<tr><td>30</td><td>ExprTuple</td><td>34</td><td><a class=\"ProveItLink\" href=\"../2cfbe6fd1cd6b57a5a49253770e4db3b88c640570/expr.ipynb\"><img src=\"../2cfbe6fd1cd6b57a5a49253770e4db3b88c640570/expr.png\" style=\"display:inline;vertical-align:middle;\" /></a></td></tr>\n",
       "<tr><td>31</td><td>Literal</td><td></td><td><a class=\"ProveItLink\" href=\"../../../../../logic/sets/membership/__pv_it/common/477487d8796864d23d5810f83761435f25167f690/expr.ipynb\"><img src=\"../../../../../logic/sets/membership/__pv_it/common/477487d8796864d23d5810f83761435f25167f690/expr.png\" style=\"display:inline;vertical-align:middle;\" /></a></td></tr>\n",
       "<tr><td>32</td><td>ExprTuple</td><td>40, 35</td><td><a class=\"ProveItLink\" href=\"../2647d40ba827087f73c5314468ff30dac9b102180/expr.ipynb\"><img src=\"../2647d40ba827087f73c5314468ff30dac9b102180/expr.png\" style=\"display:inline;vertical-align:middle;\" /></a></td></tr>\n",
       "<tr><td>33</td><td>Operation</td><td>operator:&nbsp;38<br>operands:&nbsp;36<br></td><td><a class=\"ProveItLink\" href=\"../498872fecc183ccfbbe24c2b7a9ae11a74603e9a0/expr.ipynb\"><img src=\"../498872fecc183ccfbbe24c2b7a9ae11a74603e9a0/expr.png\" style=\"display:inline;vertical-align:middle;\" /></a></td></tr>\n",
       "<tr><td>34</td><td>Operation</td><td>operator:&nbsp;47<br>operands:&nbsp;37<br></td><td><a class=\"ProveItLink\" href=\"../ce175f3e558ab334aeeae079de469b47e6038b850/expr.ipynb\"><img src=\"../ce175f3e558ab334aeeae079de469b47e6038b850/expr.png\" style=\"display:inline;vertical-align:middle;\" /></a></td></tr>\n",
       "<tr><td>35</td><td>Operation</td><td>operator:&nbsp;38<br>operands:&nbsp;39<br></td><td><a class=\"ProveItLink\" href=\"../c7c3605f228837af4eb874a652e4e9058f833af10/expr.ipynb\"><img src=\"../c7c3605f228837af4eb874a652e4e9058f833af10/expr.png\" style=\"display:inline;vertical-align:middle;\" /></a></td></tr>\n",
       "<tr><td>36</td><td>ExprTuple</td><td>49, 50</td><td><a class=\"ProveItLink\" href=\"../3dcd5ceea6334d8cb48fe14fdae236293aa9a6050/expr.ipynb\"><img src=\"../3dcd5ceea6334d8cb48fe14fdae236293aa9a6050/expr.png\" style=\"display:inline;vertical-align:middle;\" /></a></td></tr>\n",
       "<tr><td>37</td><td>ExprTuple</td><td>40, 41</td><td><a class=\"ProveItLink\" href=\"../863328f797de255fb2f5b16ebf26608c01624a4e0/expr.ipynb\"><img src=\"../863328f797de255fb2f5b16ebf26608c01624a4e0/expr.png\" style=\"display:inline;vertical-align:middle;\" /></a></td></tr>\n",
       "<tr><td>38</td><td>Literal</td><td></td><td><a class=\"ProveItLink\" href=\"../../../../../numbers/number_sets/integers/__pv_it/common/92f3a0a77e3c3ea8e4a5c8674edadc54e4f57d550/expr.ipynb\"><img src=\"../../../../../numbers/number_sets/integers/__pv_it/common/92f3a0a77e3c3ea8e4a5c8674edadc54e4f57d550/expr.png\" style=\"display:inline;vertical-align:middle;\" /></a></td></tr>\n",
       "<tr><td>39</td><td>ExprTuple</td><td>42, 43</td><td><a class=\"ProveItLink\" href=\"../3e11e1c9b5e94e53c9f4c62ea081093176ad2dd10/expr.ipynb\"><img src=\"../3e11e1c9b5e94e53c9f4c62ea081093176ad2dd10/expr.png\" style=\"display:inline;vertical-align:middle;\" /></a></td></tr>\n",
       "<tr><td>40</td><td>Variable</td><td></td><td><a class=\"ProveItLink\" href=\"../../../../../__pv_it/common/ae955345c83abf786c3aff8681cd5465beae262d0/expr.ipynb\"><img src=\"../../../../../__pv_it/common/ae955345c83abf786c3aff8681cd5465beae262d0/expr.png\" style=\"display:inline;vertical-align:middle;\" /></a></td></tr>\n",
       "<tr><td>41</td><td>Operation</td><td>operator:&nbsp;44<br>operand:&nbsp;51<br></td><td><a class=\"ProveItLink\" href=\"../cfca012e53a60bdf4c271dc7f264e6cb68dcd3450/expr.ipynb\"><img src=\"../cfca012e53a60bdf4c271dc7f264e6cb68dcd3450/expr.png\" style=\"display:inline;vertical-align:middle;\" /></a></td></tr>\n",
       "<tr><td>42</td><td>Operation</td><td>operator:&nbsp;47<br>operands:&nbsp;46<br></td><td><a class=\"ProveItLink\" href=\"../715135534997db1774a7c35f8eb1610395eb55950/expr.ipynb\"><img src=\"../715135534997db1774a7c35f8eb1610395eb55950/expr.png\" style=\"display:inline;vertical-align:middle;\" /></a></td></tr>\n",
       "<tr><td>43</td><td>Operation</td><td>operator:&nbsp;47<br>operands:&nbsp;48<br></td><td><a class=\"ProveItLink\" href=\"../6f7a71b76f96db850679b58d8cba55b317f1ed940/expr.ipynb\"><img src=\"../6f7a71b76f96db850679b58d8cba55b317f1ed940/expr.png\" style=\"display:inline;vertical-align:middle;\" /></a></td></tr>\n",
       "<tr><td>44</td><td>Literal</td><td></td><td><a class=\"ProveItLink\" href=\"../../../../../numbers/negation/__pv_it/common/221b3c4d1770ee9051b7c044c3f9ec61196fc34b0/expr.ipynb\"><img src=\"../../../../../numbers/negation/__pv_it/common/221b3c4d1770ee9051b7c044c3f9ec61196fc34b0/expr.png\" style=\"display:inline;vertical-align:middle;\" /></a></td></tr>\n",
       "<tr><td>45</td><td>ExprTuple</td><td>51</td><td><a class=\"ProveItLink\" href=\"../25c776cc10fb7df90a1cddbf8213d6561f6b7bd20/expr.ipynb\"><img src=\"../25c776cc10fb7df90a1cddbf8213d6561f6b7bd20/expr.png\" style=\"display:inline;vertical-align:middle;\" /></a></td></tr>\n",
       "<tr><td>46</td><td>ExprTuple</td><td>49, 51</td><td><a class=\"ProveItLink\" href=\"../2dab7ef3d42b086d5539e852b622c82cd6dc0dac0/expr.ipynb\"><img src=\"../2dab7ef3d42b086d5539e852b622c82cd6dc0dac0/expr.png\" style=\"display:inline;vertical-align:middle;\" /></a></td></tr>\n",
       "<tr><td>47</td><td>Literal</td><td></td><td><a class=\"ProveItLink\" href=\"../../../../../numbers/addition/__pv_it/common/4b7effaab3619a1c2c38fe2dee8601df8ec714590/expr.ipynb\"><img src=\"../../../../../numbers/addition/__pv_it/common/4b7effaab3619a1c2c38fe2dee8601df8ec714590/expr.png\" style=\"display:inline;vertical-align:middle;\" /></a></td></tr>\n",
       "<tr><td>48</td><td>ExprTuple</td><td>50, 51</td><td><a class=\"ProveItLink\" href=\"../ef9fe67d2e3b5fce9f5216666a772f97f5d95ff50/expr.ipynb\"><img src=\"../ef9fe67d2e3b5fce9f5216666a772f97f5d95ff50/expr.png\" style=\"display:inline;vertical-align:middle;\" /></a></td></tr>\n",
       "<tr><td>49</td><td>Variable</td><td></td><td><a class=\"ProveItLink\" href=\"../../../../../__pv_it/common/c06c606ec12678c58933ac85412ecadc2ae28be60/expr.ipynb\"><img src=\"../../../../../__pv_it/common/c06c606ec12678c58933ac85412ecadc2ae28be60/expr.png\" style=\"display:inline;vertical-align:middle;\" /></a></td></tr>\n",
       "<tr><td>50</td><td>Variable</td><td></td><td><a class=\"ProveItLink\" href=\"../../../../../__pv_it/common/195236b98c6c564a75b5dbada74b173bc52d5c3e0/expr.ipynb\"><img src=\"../../../../../__pv_it/common/195236b98c6c564a75b5dbada74b173bc52d5c3e0/expr.png\" style=\"display:inline;vertical-align:middle;\" /></a></td></tr>\n",
       "<tr><td>51</td><td>Variable</td><td></td><td><a class=\"ProveItLink\" href=\"../../../../../__pv_it/common/ceef4280a2f1cc604b455b54e735507244cc62cd0/expr.ipynb\"><img src=\"../../../../../__pv_it/common/ceef4280a2f1cc604b455b54e735507244cc62cd0/expr.png\" style=\"display:inline;vertical-align:middle;\" /></a></td></tr>\n",
       "</table>\n"
      ],
      "text/plain": [
       "0. {(Sum_{i=a}^{b} v(i)) = (Sum_{i=a + c}^{b + c} v(i - c)) if a in Integer ,  b in Integer ,  c in Integer.\n",
       "   core type: Conditional\n",
       "   value: 1\n",
       "   condition: 2\n",
       "1. (Sum_{i=a}^{b} v(i)) = (Sum_{i=a + c}^{b + c} v(i - c))\n",
       "   core type: Operation\n",
       "   operator: 3\n",
       "   operands: 4\n",
       "2. (a in Integer) and (b in Integer) and (c in Integer)\n",
       "   core type: Operation\n",
       "   operator: 5\n",
       "   operands: 6\n",
       "3. =\n",
       "   core type: Literal\n",
       "   sub-expressions: \n",
       "4. (Sum_{i=a}^{b} v(i), Sum_{i=a + c}^{b + c} v(i - c))\n",
       "   core type: ExprTuple\n",
       "   sub-expressions: 7, 8\n",
       "5. and\n",
       "   core type: Literal\n",
       "   sub-expressions: \n",
       "6. (a in Integer, b in Integer, c in Integer)\n",
       "   core type: ExprTuple\n",
       "   sub-expressions: 9, 10, 11\n",
       "7. Sum_{i=a}^{b} v(i)\n",
       "   core type: Operation\n",
       "   operator: 13\n",
       "   operand: 18\n",
       "8. Sum_{i=a + c}^{b + c} v(i - c)\n",
       "   core type: Operation\n",
       "   operator: 13\n",
       "   operand: 19\n",
       "9. a in Integer\n",
       "   core type: Operation\n",
       "   operator: 31\n",
       "   operands: 15\n",
       "10. b in Integer\n",
       "    core type: Operation\n",
       "    operator: 31\n",
       "    operands: 16\n",
       "11. c in Integer\n",
       "    core type: Operation\n",
       "    operator: 31\n",
       "    operands: 17\n",
       "12. (i -> {v(i) if i in {a .. b}.)\n",
       "    core type: ExprTuple\n",
       "    sub-expressions: 18\n",
       "13. Sum\n",
       "    core type: Literal\n",
       "    sub-expressions: \n",
       "14. (i -> {v(i - c) if i in {a + c .. b + c}.)\n",
       "    core type: ExprTuple\n",
       "    sub-expressions: 19\n",
       "15. (a, Integer)\n",
       "    core type: ExprTuple\n",
       "    sub-expressions: 49, 20\n",
       "16. (b, Integer)\n",
       "    core type: ExprTuple\n",
       "    sub-expressions: 50, 20\n",
       "17. (c, Integer)\n",
       "    core type: ExprTuple\n",
       "    sub-expressions: 51, 20\n",
       "18. i -> {v(i) if i in {a .. b}.\n",
       "    core type: Lambda\n",
       "    parameter: 40\n",
       "    body: 21\n",
       "19. i -> {v(i - c) if i in {a + c .. b + c}.\n",
       "    core type: Lambda\n",
       "    parameter: 40\n",
       "    body: 22\n",
       "20. Integer\n",
       "    core type: Literal\n",
       "    sub-expressions: \n",
       "21. {v(i) if i in {a .. b}.\n",
       "    core type: Conditional\n",
       "    value: 23\n",
       "    condition: 24\n",
       "22. {v(i - c) if i in {a + c .. b + c}.\n",
       "    core type: Conditional\n",
       "    value: 25\n",
       "    condition: 26\n",
       "23. v(i)\n",
       "    core type: Operation\n",
       "    operator: 29\n",
       "    operand: 40\n",
       "24. i in {a .. b}\n",
       "    core type: Operation\n",
       "    operator: 31\n",
       "    operands: 28\n",
       "25. v(i - c)\n",
       "    core type: Operation\n",
       "    operator: 29\n",
       "    operand: 34\n",
       "26. i in {a + c .. b + c}\n",
       "    core type: Operation\n",
       "    operator: 31\n",
       "    operands: 32\n",
       "27. (i)\n",
       "    core type: ExprTuple\n",
       "    sub-expressions: 40\n",
       "28. (i, {a .. b})\n",
       "    core type: ExprTuple\n",
       "    sub-expressions: 40, 33\n",
       "29. v\n",
       "    core type: Variable\n",
       "    sub-expressions: \n",
       "30. (i - c)\n",
       "    core type: ExprTuple\n",
       "    sub-expressions: 34\n",
       "31. in\n",
       "    core type: Literal\n",
       "    sub-expressions: \n",
       "32. (i, {a + c .. b + c})\n",
       "    core type: ExprTuple\n",
       "    sub-expressions: 40, 35\n",
       "33. {a .. b}\n",
       "    core type: Operation\n",
       "    operator: 38\n",
       "    operands: 36\n",
       "34. i - c\n",
       "    core type: Operation\n",
       "    operator: 47\n",
       "    operands: 37\n",
       "35. {a + c .. b + c}\n",
       "    core type: Operation\n",
       "    operator: 38\n",
       "    operands: 39\n",
       "36. (a, b)\n",
       "    core type: ExprTuple\n",
       "    sub-expressions: 49, 50\n",
       "37. (i, -c)\n",
       "    core type: ExprTuple\n",
       "    sub-expressions: 40, 41\n",
       "38. Interval\n",
       "    core type: Literal\n",
       "    sub-expressions: \n",
       "39. (a + c, b + c)\n",
       "    core type: ExprTuple\n",
       "    sub-expressions: 42, 43\n",
       "40. i\n",
       "    core type: Variable\n",
       "    sub-expressions: \n",
       "41. -c\n",
       "    core type: Operation\n",
       "    operator: 44\n",
       "    operand: 51\n",
       "42. a + c\n",
       "    core type: Operation\n",
       "    operator: 47\n",
       "    operands: 46\n",
       "43. b + c\n",
       "    core type: Operation\n",
       "    operator: 47\n",
       "    operands: 48\n",
       "44. -\n",
       "    core type: Literal\n",
       "    sub-expressions: \n",
       "45. (c)\n",
       "    core type: ExprTuple\n",
       "    sub-expressions: 51\n",
       "46. (a, c)\n",
       "    core type: ExprTuple\n",
       "    sub-expressions: 49, 51\n",
       "47. +\n",
       "    core type: Literal\n",
       "    sub-expressions: \n",
       "48. (b, c)\n",
       "    core type: ExprTuple\n",
       "    sub-expressions: 50, 51\n",
       "49. a\n",
       "    core type: Variable\n",
       "    sub-expressions: \n",
       "50. b\n",
       "    core type: Variable\n",
       "    sub-expressions: \n",
       "51. c\n",
       "    core type: Variable\n",
       "    sub-expressions: "
      ]
     },
     "metadata": {},
     "output_type": "display_data"
    }
   ],
   "source": [
    "# display the expression information\n",
    "stored_expr.expr_info()"
   ]
  },
  {
   "cell_type": "code",
   "execution_count": null,
   "metadata": {},
   "outputs": [],
   "source": []
  }
 ],
 "metadata": {
  "kernelspec": {
   "display_name": "Python 3",
   "language": "python",
   "name": "python3"
  }
 },
 "nbformat": 4,
 "nbformat_minor": 0
}