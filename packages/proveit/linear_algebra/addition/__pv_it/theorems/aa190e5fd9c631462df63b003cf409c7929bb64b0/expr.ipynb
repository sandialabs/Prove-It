{
 "cells": [
  {
   "cell_type": "markdown",
   "metadata": {},
   "source": [
    "Expression of type <a class=\"ProveItLink\" href=\"../../../../../../../doc/html/api/proveit.ExprTuple.html\">ExprTuple</a>\n",
    "=======================\n",
    "# from the theory of <a class=\"ProveItLink\" href=\"../../../_theory_nbs_/theory.ipynb\">proveit.linear_algebra.addition</a>"
   ]
  },
  {
   "cell_type": "code",
   "execution_count": 1,
   "metadata": {},
   "outputs": [],
   "source": [
    "import proveit\n",
    "# Automation is not needed when building an expression:\n",
    "proveit.defaults.automation = False # This will speed things up.\n",
    "proveit.defaults.inline_pngs = False # Makes files smaller.\n",
    "%load_expr # Load the stored expression as 'stored_expr'\n",
    "# import Expression classes needed to build the expression\n",
    "from proveit import Conditional, ExprTuple, K, Lambda, V, n, y\n",
    "from proveit.core_expr_types import x_1_to_n\n",
    "from proveit.linear_algebra import VecAdd, VecSpaces\n",
    "from proveit.logic import Equals, Forall, InClass\n",
    "from proveit.numbers import NaturalPos"
   ]
  },
  {
   "cell_type": "code",
   "execution_count": 2,
   "metadata": {},
   "outputs": [
    {
     "data": {
      "text/html": [
       "<strong id=\"expr\">expr:</strong> <a class=\"ProveItLink\" href=\"expr.ipynb\"><img src=\"expr.png\" style=\"display:inline;vertical-align:middle;\" /></a><br>"
      ],
      "text/plain": [
       "<IPython.core.display.HTML object>"
      ]
     },
     "metadata": {},
     "output_type": "display_data"
    }
   ],
   "source": [
    "# build up the expression from sub-expressions\n",
    "expr = ExprTuple(Lambda(V, Conditional(Forall(instance_param_or_params = [n], instance_expr = Forall(instance_param_or_params = [x_1_to_n, y], instance_expr = Equals(VecAdd(x_1_to_n, y), VecAdd(VecAdd(x_1_to_n), y)), domain = V).with_wrapping(), domain = NaturalPos), InClass(V, VecSpaces(K)))))"
   ]
  },
  {
   "cell_type": "code",
   "execution_count": 3,
   "metadata": {},
   "outputs": [
    {
     "name": "stdout",
     "output_type": "stream",
     "text": [
      "Passed sanity check: expr matches stored_expr\n"
     ]
    }
   ],
   "source": [
    "# check that the built expression is the same as the stored expression\n",
    "assert expr == stored_expr\n",
    "assert expr._style_id == stored_expr._style_id\n",
    "print(\"Passed sanity check: expr matches stored_expr\")"
   ]
  },
  {
   "cell_type": "code",
   "execution_count": 4,
   "metadata": {},
   "outputs": [
    {
     "name": "stdout",
     "output_type": "stream",
     "text": [
      "\\left(V \\mapsto \\left\\{\\forall_{n \\in \\mathbb{N}^+}~\\left[\\begin{array}{l}\\forall_{x_{1}, x_{2}, \\ldots, x_{n}, y \\in V}~\\\\\n",
      "\\left(\\left(x_{1} +  x_{2} +  \\ldots +  x_{n} + y\\right) = \\left(\\left(x_{1} +  x_{2} +  \\ldots +  x_{n}\\right) + y\\right)\\right)\\end{array}\\right] \\textrm{ if } V \\underset{{\\scriptscriptstyle c}}{\\in} \\textrm{VecSpaces}\\left(K\\right)\\right..\\right)\n"
     ]
    }
   ],
   "source": [
    "# Show the LaTeX representation of the expression for convenience if you need it.\n",
    "print(stored_expr.latex())"
   ]
  },
  {
   "cell_type": "code",
   "execution_count": 5,
   "metadata": {},
   "outputs": [
    {
     "data": {
      "text/html": [
       "no style options"
      ],
      "text/plain": [
       "no style options"
      ]
     },
     "metadata": {},
     "output_type": "display_data"
    }
   ],
   "source": [
    "stored_expr.style_options()"
   ]
  },
  {
   "cell_type": "code",
   "execution_count": 6,
   "metadata": {},
   "outputs": [
    {
     "data": {
      "text/html": [
       "<table><tr><th>&nbsp;</th><th>core type</th><th>sub-expressions</th><th>expression</th></tr>\n",
       "<tr><td>0</td><td>ExprTuple</td><td>1</td><td><a class=\"ProveItLink\" href=\"expr.ipynb\"><img src=\"expr.png\" style=\"display:inline;vertical-align:middle;\" /></a></td></tr>\n",
       "<tr><td>1</td><td>Lambda</td><td>parameter:&nbsp;46<br>body:&nbsp;3<br></td><td><a class=\"ProveItLink\" href=\"../2b3559a4062f964aadc328bcde8288ab8b9c21280/expr.ipynb\"><img src=\"../2b3559a4062f964aadc328bcde8288ab8b9c21280/expr.png\" style=\"display:inline;vertical-align:middle;\" /></a></td></tr>\n",
       "<tr><td>2</td><td>ExprTuple</td><td>46</td><td><a class=\"ProveItLink\" href=\"../55d848f1bfb69b7cca09982fc21e7069eabfffad0/expr.ipynb\"><img src=\"../55d848f1bfb69b7cca09982fc21e7069eabfffad0/expr.png\" style=\"display:inline;vertical-align:middle;\" /></a></td></tr>\n",
       "<tr><td>3</td><td>Conditional</td><td>value:&nbsp;4<br>condition:&nbsp;5<br></td><td><a class=\"ProveItLink\" href=\"../67e4a22eaa6c42a4a35a0981f938d6e39afb9dd50/expr.ipynb\"><img src=\"../67e4a22eaa6c42a4a35a0981f938d6e39afb9dd50/expr.png\" style=\"display:inline;vertical-align:middle;\" /></a></td></tr>\n",
       "<tr><td>4</td><td>Operation</td><td>operator:&nbsp;18<br>operand:&nbsp;9<br></td><td><a class=\"ProveItLink\" href=\"../a42411ea98ca71c0cbf8a83f2aecd53de1fa3c360/expr.ipynb\"><img src=\"../a42411ea98ca71c0cbf8a83f2aecd53de1fa3c360/expr.png\" style=\"display:inline;vertical-align:middle;\" /></a></td></tr>\n",
       "<tr><td>5</td><td>Operation</td><td>operator:&nbsp;7<br>operands:&nbsp;8<br></td><td><a class=\"ProveItLink\" href=\"../fdcef8bdda7eadc951141827185574260418b5040/expr.ipynb\"><img src=\"../fdcef8bdda7eadc951141827185574260418b5040/expr.png\" style=\"display:inline;vertical-align:middle;\" /></a></td></tr>\n",
       "<tr><td>6</td><td>ExprTuple</td><td>9</td><td><a class=\"ProveItLink\" href=\"../45b3b416d053c4d7b851e123c6a60aef21ff38280/expr.ipynb\"><img src=\"../45b3b416d053c4d7b851e123c6a60aef21ff38280/expr.png\" style=\"display:inline;vertical-align:middle;\" /></a></td></tr>\n",
       "<tr><td>7</td><td>Literal</td><td></td><td><a class=\"ProveItLink\" href=\"../../../../../logic/classes/membership/__pv_it/common/e3b437d28fbe17f0a50c9789c7c9b47a1270f1420/expr.ipynb\"><img src=\"../../../../../logic/classes/membership/__pv_it/common/e3b437d28fbe17f0a50c9789c7c9b47a1270f1420/expr.png\" style=\"display:inline;vertical-align:middle;\" /></a></td></tr>\n",
       "<tr><td>8</td><td>ExprTuple</td><td>46, 10</td><td><a class=\"ProveItLink\" href=\"../e9269a3a12a2f9c88a561318d0d55d8d11da1e5f0/expr.ipynb\"><img src=\"../e9269a3a12a2f9c88a561318d0d55d8d11da1e5f0/expr.png\" style=\"display:inline;vertical-align:middle;\" /></a></td></tr>\n",
       "<tr><td>9</td><td>Lambda</td><td>parameter:&nbsp;49<br>body:&nbsp;12<br></td><td><a class=\"ProveItLink\" href=\"../69578e9a29b2664bb70e89db0a944e6e56f408400/expr.ipynb\"><img src=\"../69578e9a29b2664bb70e89db0a944e6e56f408400/expr.png\" style=\"display:inline;vertical-align:middle;\" /></a></td></tr>\n",
       "<tr><td>10</td><td>Operation</td><td>operator:&nbsp;13<br>operand:&nbsp;17<br></td><td><a class=\"ProveItLink\" href=\"../bfe4d11fbcd28c79c0e2a9c152d66f0991be7cc30/expr.ipynb\"><img src=\"../bfe4d11fbcd28c79c0e2a9c152d66f0991be7cc30/expr.png\" style=\"display:inline;vertical-align:middle;\" /></a></td></tr>\n",
       "<tr><td>11</td><td>ExprTuple</td><td>49</td><td><a class=\"ProveItLink\" href=\"../ca565dff2751ea9a3b48fe855133b9e0c2eca83f0/expr.ipynb\"><img src=\"../ca565dff2751ea9a3b48fe855133b9e0c2eca83f0/expr.png\" style=\"display:inline;vertical-align:middle;\" /></a></td></tr>\n",
       "<tr><td>12</td><td>Conditional</td><td>value:&nbsp;15<br>condition:&nbsp;16<br></td><td><a class=\"ProveItLink\" href=\"../e5a87053f7940191d9ec072dc29220f9df98a9b20/expr.ipynb\"><img src=\"../e5a87053f7940191d9ec072dc29220f9df98a9b20/expr.png\" style=\"display:inline;vertical-align:middle;\" /></a></td></tr>\n",
       "<tr><td>13</td><td>Literal</td><td></td><td><a class=\"ProveItLink\" href=\"../../../../__pv_it/common/191fa3a3f5c54c22d4b0a7e4fd1b2f7738e981550/expr.ipynb\"><img src=\"../../../../__pv_it/common/191fa3a3f5c54c22d4b0a7e4fd1b2f7738e981550/expr.png\" style=\"display:inline;vertical-align:middle;\" /></a></td></tr>\n",
       "<tr><td>14</td><td>ExprTuple</td><td>17</td><td><a class=\"ProveItLink\" href=\"../dfa81a569aedd40943c42f533e78bc2f073711130/expr.ipynb\"><img src=\"../dfa81a569aedd40943c42f533e78bc2f073711130/expr.png\" style=\"display:inline;vertical-align:middle;\" /></a></td></tr>\n",
       "<tr><td>15</td><td>Operation</td><td>operator:&nbsp;18<br>operand:&nbsp;21<br></td><td><a class=\"ProveItLink\" href=\"../cda4034a282aca5ae1ea206797665525d53fd20e0/expr.ipynb\"><img src=\"../cda4034a282aca5ae1ea206797665525d53fd20e0/expr.png\" style=\"display:inline;vertical-align:middle;\" /></a></td></tr>\n",
       "<tr><td>16</td><td>Operation</td><td>operator:&nbsp;43<br>operands:&nbsp;20<br></td><td><a class=\"ProveItLink\" href=\"../c3c0a0522590e024022c8052cabac138164190560/expr.ipynb\"><img src=\"../c3c0a0522590e024022c8052cabac138164190560/expr.png\" style=\"display:inline;vertical-align:middle;\" /></a></td></tr>\n",
       "<tr><td>17</td><td>Variable</td><td></td><td><a class=\"ProveItLink\" href=\"../../../../../__pv_it/common/1f2ffac7a1dc7c1a4f1fc7348356ae64ea992c790/expr.ipynb\"><img src=\"../../../../../__pv_it/common/1f2ffac7a1dc7c1a4f1fc7348356ae64ea992c790/expr.png\" style=\"display:inline;vertical-align:middle;\" /></a></td></tr>\n",
       "<tr><td>18</td><td>Literal</td><td></td><td><a class=\"ProveItLink\" href=\"../../../../../logic/booleans/quantification/universality/__pv_it/common/083d2baa0b8ecab1d230f9ec29a15aa1355809fb0/expr.ipynb\"><img src=\"../../../../../logic/booleans/quantification/universality/__pv_it/common/083d2baa0b8ecab1d230f9ec29a15aa1355809fb0/expr.png\" style=\"display:inline;vertical-align:middle;\" /></a></td></tr>\n",
       "<tr><td>19</td><td>ExprTuple</td><td>21</td><td><a class=\"ProveItLink\" href=\"../8e280439740f89b3b5f2876d294452bf4530138d0/expr.ipynb\"><img src=\"../8e280439740f89b3b5f2876d294452bf4530138d0/expr.png\" style=\"display:inline;vertical-align:middle;\" /></a></td></tr>\n",
       "<tr><td>20</td><td>ExprTuple</td><td>49, 22</td><td><a class=\"ProveItLink\" href=\"../4459dda147b56e10026c83203ced1bc32b9704ab0/expr.ipynb\"><img src=\"../4459dda147b56e10026c83203ced1bc32b9704ab0/expr.png\" style=\"display:inline;vertical-align:middle;\" /></a></td></tr>\n",
       "<tr><td>21</td><td>Lambda</td><td>parameters:&nbsp;34<br>body:&nbsp;23<br></td><td><a class=\"ProveItLink\" href=\"../01fe2c5b17a5e7ca18f6707e3c58e30187a4517e0/expr.ipynb\"><img src=\"../01fe2c5b17a5e7ca18f6707e3c58e30187a4517e0/expr.png\" style=\"display:inline;vertical-align:middle;\" /></a></td></tr>\n",
       "<tr><td>22</td><td>Literal</td><td></td><td><a class=\"ProveItLink\" href=\"../../../../../numbers/number_sets/natural_numbers/__pv_it/common/6111329435c43892c831c4793de96afbf80bdb3e0/expr.ipynb\"><img src=\"../../../../../numbers/number_sets/natural_numbers/__pv_it/common/6111329435c43892c831c4793de96afbf80bdb3e0/expr.png\" style=\"display:inline;vertical-align:middle;\" /></a></td></tr>\n",
       "<tr><td>23</td><td>Conditional</td><td>value:&nbsp;24<br>condition:&nbsp;25<br></td><td><a class=\"ProveItLink\" href=\"../7a2139e7a8b6a98a1e694d20614b44d74337ee9a0/expr.ipynb\"><img src=\"../7a2139e7a8b6a98a1e694d20614b44d74337ee9a0/expr.png\" style=\"display:inline;vertical-align:middle;\" /></a></td></tr>\n",
       "<tr><td>24</td><td>Operation</td><td>operator:&nbsp;26<br>operands:&nbsp;27<br></td><td><a class=\"ProveItLink\" href=\"../232e9067055fd24ca2951884ef02219dcd811e700/expr.ipynb\"><img src=\"../232e9067055fd24ca2951884ef02219dcd811e700/expr.png\" style=\"display:inline;vertical-align:middle;\" /></a></td></tr>\n",
       "<tr><td>25</td><td>Operation</td><td>operator:&nbsp;28<br>operands:&nbsp;29<br></td><td><a class=\"ProveItLink\" href=\"../40d2396a8d83d98d9e66625cf43b8e41ef4f27a10/expr.ipynb\"><img src=\"../40d2396a8d83d98d9e66625cf43b8e41ef4f27a10/expr.png\" style=\"display:inline;vertical-align:middle;\" /></a></td></tr>\n",
       "<tr><td>26</td><td>Literal</td><td></td><td><a class=\"ProveItLink\" href=\"../../../../../logic/equality/__pv_it/common/fb96dc12b2aa8801dda64d0132b396c63d1502bb0/expr.ipynb\"><img src=\"../../../../../logic/equality/__pv_it/common/fb96dc12b2aa8801dda64d0132b396c63d1502bb0/expr.png\" style=\"display:inline;vertical-align:middle;\" /></a></td></tr>\n",
       "<tr><td>27</td><td>ExprTuple</td><td>30, 31</td><td><a class=\"ProveItLink\" href=\"../e06990aad2a01f2a8edcb6eb6db946cfd45aafc20/expr.ipynb\"><img src=\"../e06990aad2a01f2a8edcb6eb6db946cfd45aafc20/expr.png\" style=\"display:inline;vertical-align:middle;\" /></a></td></tr>\n",
       "<tr><td>28</td><td>Literal</td><td></td><td><a class=\"ProveItLink\" href=\"../../../../../logic/booleans/conjunction/__pv_it/common/42118ff318bd65d98b1393f64ce7c2269feef76e0/expr.ipynb\"><img src=\"../../../../../logic/booleans/conjunction/__pv_it/common/42118ff318bd65d98b1393f64ce7c2269feef76e0/expr.png\" style=\"display:inline;vertical-align:middle;\" /></a></td></tr>\n",
       "<tr><td>29</td><td>ExprTuple</td><td>32, 33</td><td><a class=\"ProveItLink\" href=\"../970dea6b6228a42852ed299ec622ec8984a5420b0/expr.ipynb\"><img src=\"../970dea6b6228a42852ed299ec622ec8984a5420b0/expr.png\" style=\"display:inline;vertical-align:middle;\" /></a></td></tr>\n",
       "<tr><td>30</td><td>Operation</td><td>operator:&nbsp;41<br>operands:&nbsp;34<br></td><td><a class=\"ProveItLink\" href=\"../2474a5932b51d289a39e61b6e5a7e11cd678bd0a0/expr.ipynb\"><img src=\"../2474a5932b51d289a39e61b6e5a7e11cd678bd0a0/expr.png\" style=\"display:inline;vertical-align:middle;\" /></a></td></tr>\n",
       "<tr><td>31</td><td>Operation</td><td>operator:&nbsp;41<br>operands:&nbsp;35<br></td><td><a class=\"ProveItLink\" href=\"../2142f5a4320e05f21ba9bd42965f6f76c760099d0/expr.ipynb\"><img src=\"../2142f5a4320e05f21ba9bd42965f6f76c760099d0/expr.png\" style=\"display:inline;vertical-align:middle;\" /></a></td></tr>\n",
       "<tr><td>32</td><td>ExprRange</td><td>lambda_map:&nbsp;36<br>start_index:&nbsp;48<br>end_index:&nbsp;49<br></td><td><a class=\"ProveItLink\" href=\"../a197b4832199fbc9b1832f0fe5a5a543c7fffd920/expr.ipynb\"><img src=\"../a197b4832199fbc9b1832f0fe5a5a543c7fffd920/expr.png\" style=\"display:inline;vertical-align:middle;\" /></a></td></tr>\n",
       "<tr><td>33</td><td>Operation</td><td>operator:&nbsp;43<br>operands:&nbsp;37<br></td><td><a class=\"ProveItLink\" href=\"../ad9cf04a62955f8eac3407ae73b2d52ae5a9f9ec0/expr.ipynb\"><img src=\"../ad9cf04a62955f8eac3407ae73b2d52ae5a9f9ec0/expr.png\" style=\"display:inline;vertical-align:middle;\" /></a></td></tr>\n",
       "<tr><td>34</td><td>ExprTuple</td><td>45, 40</td><td><a class=\"ProveItLink\" href=\"../2aa30a788dd244628d71a4955b1085997186c6030/expr.ipynb\"><img src=\"../2aa30a788dd244628d71a4955b1085997186c6030/expr.png\" style=\"display:inline;vertical-align:middle;\" /></a></td></tr>\n",
       "<tr><td>35</td><td>ExprTuple</td><td>38, 40</td><td><a class=\"ProveItLink\" href=\"../2c912abf786646e30ac5b6a388481558e60812350/expr.ipynb\"><img src=\"../2c912abf786646e30ac5b6a388481558e60812350/expr.png\" style=\"display:inline;vertical-align:middle;\" /></a></td></tr>\n",
       "<tr><td>36</td><td>Lambda</td><td>parameter:&nbsp;53<br>body:&nbsp;39<br></td><td><a class=\"ProveItLink\" href=\"../944b3cf10cf54768fa11a115dc999b1b120c109a0/expr.ipynb\"><img src=\"../944b3cf10cf54768fa11a115dc999b1b120c109a0/expr.png\" style=\"display:inline;vertical-align:middle;\" /></a></td></tr>\n",
       "<tr><td>37</td><td>ExprTuple</td><td>40, 46</td><td><a class=\"ProveItLink\" href=\"../53b0168b4a7bb54f75fa4665499212655989d2840/expr.ipynb\"><img src=\"../53b0168b4a7bb54f75fa4665499212655989d2840/expr.png\" style=\"display:inline;vertical-align:middle;\" /></a></td></tr>\n",
       "<tr><td>38</td><td>Operation</td><td>operator:&nbsp;41<br>operands:&nbsp;42<br></td><td><a class=\"ProveItLink\" href=\"../d0f1db3461e708fd35d21dbca8f0794f34c9c9390/expr.ipynb\"><img src=\"../d0f1db3461e708fd35d21dbca8f0794f34c9c9390/expr.png\" style=\"display:inline;vertical-align:middle;\" /></a></td></tr>\n",
       "<tr><td>39</td><td>Operation</td><td>operator:&nbsp;43<br>operands:&nbsp;44<br></td><td><a class=\"ProveItLink\" href=\"../8953e19f3f675e8ad9d422fd6d08dae73d4b5cdf0/expr.ipynb\"><img src=\"../8953e19f3f675e8ad9d422fd6d08dae73d4b5cdf0/expr.png\" style=\"display:inline;vertical-align:middle;\" /></a></td></tr>\n",
       "<tr><td>40</td><td>Variable</td><td></td><td><a class=\"ProveItLink\" href=\"../../../../../__pv_it/common/ff7dba4ef0bbe791ab573bf2d9c220a304399ac80/expr.ipynb\"><img src=\"../../../../../__pv_it/common/ff7dba4ef0bbe791ab573bf2d9c220a304399ac80/expr.png\" style=\"display:inline;vertical-align:middle;\" /></a></td></tr>\n",
       "<tr><td>41</td><td>Literal</td><td></td><td><a class=\"ProveItLink\" href=\"../../common/ac3c140c9094f065c7f7db15c94558731443639c0/expr.ipynb\"><img src=\"../../common/ac3c140c9094f065c7f7db15c94558731443639c0/expr.png\" style=\"display:inline;vertical-align:middle;\" /></a></td></tr>\n",
       "<tr><td>42</td><td>ExprTuple</td><td>45</td><td><a class=\"ProveItLink\" href=\"../e29d2811b42e43e69e77c1c44413b65518ecad320/expr.ipynb\"><img src=\"../e29d2811b42e43e69e77c1c44413b65518ecad320/expr.png\" style=\"display:inline;vertical-align:middle;\" /></a></td></tr>\n",
       "<tr><td>43</td><td>Literal</td><td></td><td><a class=\"ProveItLink\" href=\"../../../../../logic/sets/membership/__pv_it/common/477487d8796864d23d5810f83761435f25167f690/expr.ipynb\"><img src=\"../../../../../logic/sets/membership/__pv_it/common/477487d8796864d23d5810f83761435f25167f690/expr.png\" style=\"display:inline;vertical-align:middle;\" /></a></td></tr>\n",
       "<tr><td>44</td><td>ExprTuple</td><td>50, 46</td><td><a class=\"ProveItLink\" href=\"../59bb6a4405200695227d7b61f898fd96e8fa89450/expr.ipynb\"><img src=\"../59bb6a4405200695227d7b61f898fd96e8fa89450/expr.png\" style=\"display:inline;vertical-align:middle;\" /></a></td></tr>\n",
       "<tr><td>45</td><td>ExprRange</td><td>lambda_map:&nbsp;47<br>start_index:&nbsp;48<br>end_index:&nbsp;49<br></td><td><a class=\"ProveItLink\" href=\"../../../../../core_expr_types/__pv_it/common/d50f819f834d55ea1b9fad150926a94bf07ad8fc0/expr.ipynb\"><img src=\"../../../../../core_expr_types/__pv_it/common/d50f819f834d55ea1b9fad150926a94bf07ad8fc0/expr.png\" style=\"display:inline;vertical-align:middle;\" /></a></td></tr>\n",
       "<tr><td>46</td><td>Variable</td><td></td><td><a class=\"ProveItLink\" href=\"../../../../../__pv_it/common/6d80eb1398b2335bf9ec427954b851b7094dced50/expr.ipynb\"><img src=\"../../../../../__pv_it/common/6d80eb1398b2335bf9ec427954b851b7094dced50/expr.png\" style=\"display:inline;vertical-align:middle;\" /></a></td></tr>\n",
       "<tr><td>47</td><td>Lambda</td><td>parameter:&nbsp;53<br>body:&nbsp;50<br></td><td><a class=\"ProveItLink\" href=\"../../../../../core_expr_types/__pv_it/common/f8f30fee5e5b4e37951ff8886b574795bf35d80c0/expr.ipynb\"><img src=\"../../../../../core_expr_types/__pv_it/common/f8f30fee5e5b4e37951ff8886b574795bf35d80c0/expr.png\" style=\"display:inline;vertical-align:middle;\" /></a></td></tr>\n",
       "<tr><td>48</td><td>Literal</td><td></td><td><a class=\"ProveItLink\" href=\"../../../../../numbers/numerals/__pv_it/common/682157d4892d216d9e5626ed533aff9b56b9506e0/expr.ipynb\"><img src=\"../../../../../numbers/numerals/__pv_it/common/682157d4892d216d9e5626ed533aff9b56b9506e0/expr.png\" style=\"display:inline;vertical-align:middle;\" /></a></td></tr>\n",
       "<tr><td>49</td><td>Variable</td><td></td><td><a class=\"ProveItLink\" href=\"../../../../../__pv_it/common/8968bb04eb3f7dfa02353397ce929b025bbd79c20/expr.ipynb\"><img src=\"../../../../../__pv_it/common/8968bb04eb3f7dfa02353397ce929b025bbd79c20/expr.png\" style=\"display:inline;vertical-align:middle;\" /></a></td></tr>\n",
       "<tr><td>50</td><td>IndexedVar</td><td>variable:&nbsp;51<br>index:&nbsp;53<br></td><td><a class=\"ProveItLink\" href=\"../../../../../core_expr_types/__pv_it/common/b7a46615d4e67a28ab963909b818c72af8e8e7c60/expr.ipynb\"><img src=\"../../../../../core_expr_types/__pv_it/common/b7a46615d4e67a28ab963909b818c72af8e8e7c60/expr.png\" style=\"display:inline;vertical-align:middle;\" /></a></td></tr>\n",
       "<tr><td>51</td><td>Variable</td><td></td><td><a class=\"ProveItLink\" href=\"../../../../../__pv_it/common/a0d9d672aa5e272d907247690c152cc2c6daafb70/expr.ipynb\"><img src=\"../../../../../__pv_it/common/a0d9d672aa5e272d907247690c152cc2c6daafb70/expr.png\" style=\"display:inline;vertical-align:middle;\" /></a></td></tr>\n",
       "<tr><td>52</td><td>ExprTuple</td><td>53</td><td><a class=\"ProveItLink\" href=\"../../../../../core_expr_types/__pv_it/common/4b0dd6be36d76552eda6a95d5b4a27f5a5b62f900/expr.ipynb\"><img src=\"../../../../../core_expr_types/__pv_it/common/4b0dd6be36d76552eda6a95d5b4a27f5a5b62f900/expr.png\" style=\"display:inline;vertical-align:middle;\" /></a></td></tr>\n",
       "<tr><td>53</td><td>Variable</td><td></td><td><a class=\"ProveItLink\" href=\"../../../../../core_expr_types/__pv_it/common/006c465e50948aa2b52285e2de47974f741255cc0/expr.ipynb\"><img src=\"../../../../../core_expr_types/__pv_it/common/006c465e50948aa2b52285e2de47974f741255cc0/expr.png\" style=\"display:inline;vertical-align:middle;\" /></a></td></tr>\n",
       "</table>\n"
      ],
      "text/plain": [
       "0. (V -> {forall_{n in NaturalPos} [forall_{x_{1}, x_{2}, ..., x_{n}, y in V} ((x_{1} +  x_{2} +  ... +  x_{n} + y) = ((x_{1} +  x_{2} +  ... +  x_{n}) + y))] if V in_c VecSpaces(K).)\n",
       "   core type: ExprTuple\n",
       "   sub-expressions: 1\n",
       "1. V -> {forall_{n in NaturalPos} [forall_{x_{1}, x_{2}, ..., x_{n}, y in V} ((x_{1} +  x_{2} +  ... +  x_{n} + y) = ((x_{1} +  x_{2} +  ... +  x_{n}) + y))] if V in_c VecSpaces(K).\n",
       "   core type: Lambda\n",
       "   parameter: 46\n",
       "   body: 3\n",
       "2. (V)\n",
       "   core type: ExprTuple\n",
       "   sub-expressions: 46\n",
       "3. {forall_{n in NaturalPos} [forall_{x_{1}, x_{2}, ..., x_{n}, y in V} ((x_{1} +  x_{2} +  ... +  x_{n} + y) = ((x_{1} +  x_{2} +  ... +  x_{n}) + y))] if V in_c VecSpaces(K).\n",
       "   core type: Conditional\n",
       "   value: 4\n",
       "   condition: 5\n",
       "4. forall_{n in NaturalPos} [forall_{x_{1}, x_{2}, ..., x_{n}, y in V} ((x_{1} +  x_{2} +  ... +  x_{n} + y) = ((x_{1} +  x_{2} +  ... +  x_{n}) + y))]\n",
       "   core type: Operation\n",
       "   operator: 18\n",
       "   operand: 9\n",
       "5. V in_c VecSpaces(K)\n",
       "   core type: Operation\n",
       "   operator: 7\n",
       "   operands: 8\n",
       "6. (n -> {forall_{x_{1}, x_{2}, ..., x_{n}, y in V} ((x_{1} +  x_{2} +  ... +  x_{n} + y) = ((x_{1} +  x_{2} +  ... +  x_{n}) + y)) if n in NaturalPos.)\n",
       "   core type: ExprTuple\n",
       "   sub-expressions: 9\n",
       "7. in_c\n",
       "   core type: Literal\n",
       "   sub-expressions: \n",
       "8. (V, VecSpaces(K))\n",
       "   core type: ExprTuple\n",
       "   sub-expressions: 46, 10\n",
       "9. n -> {forall_{x_{1}, x_{2}, ..., x_{n}, y in V} ((x_{1} +  x_{2} +  ... +  x_{n} + y) = ((x_{1} +  x_{2} +  ... +  x_{n}) + y)) if n in NaturalPos.\n",
       "   core type: Lambda\n",
       "   parameter: 49\n",
       "   body: 12\n",
       "10. VecSpaces(K)\n",
       "    core type: Operation\n",
       "    operator: 13\n",
       "    operand: 17\n",
       "11. (n)\n",
       "    core type: ExprTuple\n",
       "    sub-expressions: 49\n",
       "12. {forall_{x_{1}, x_{2}, ..., x_{n}, y in V} ((x_{1} +  x_{2} +  ... +  x_{n} + y) = ((x_{1} +  x_{2} +  ... +  x_{n}) + y)) if n in NaturalPos.\n",
       "    core type: Conditional\n",
       "    value: 15\n",
       "    condition: 16\n",
       "13. VecSpaces\n",
       "    core type: Literal\n",
       "    sub-expressions: \n",
       "14. (K)\n",
       "    core type: ExprTuple\n",
       "    sub-expressions: 17\n",
       "15. forall_{x_{1}, x_{2}, ..., x_{n}, y in V} ((x_{1} +  x_{2} +  ... +  x_{n} + y) = ((x_{1} +  x_{2} +  ... +  x_{n}) + y))\n",
       "    core type: Operation\n",
       "    operator: 18\n",
       "    operand: 21\n",
       "16. n in NaturalPos\n",
       "    core type: Operation\n",
       "    operator: 43\n",
       "    operands: 20\n",
       "17. K\n",
       "    core type: Variable\n",
       "    sub-expressions: \n",
       "18. forall\n",
       "    core type: Literal\n",
       "    sub-expressions: \n",
       "19. ((x_{1}, x_{2}, ..., x_{n}, y) -> {(x_{1} +  x_{2} +  ... +  x_{n} + y) = ((x_{1} +  x_{2} +  ... +  x_{n}) + y) if (x_{1} in V) ,  (x_{2} in V) ,  ... ,  (x_{n} in V) ,  y in V.)\n",
       "    core type: ExprTuple\n",
       "    sub-expressions: 21\n",
       "20. (n, NaturalPos)\n",
       "    core type: ExprTuple\n",
       "    sub-expressions: 49, 22\n",
       "21. (x_{1}, x_{2}, ..., x_{n}, y) -> {(x_{1} +  x_{2} +  ... +  x_{n} + y) = ((x_{1} +  x_{2} +  ... +  x_{n}) + y) if (x_{1} in V) ,  (x_{2} in V) ,  ... ,  (x_{n} in V) ,  y in V.\n",
       "    core type: Lambda\n",
       "    parameters: 34\\n    body: 23\n",
       "22. NaturalPos\n",
       "    core type: Literal\n",
       "    sub-expressions: \n",
       "23. {(x_{1} +  x_{2} +  ... +  x_{n} + y) = ((x_{1} +  x_{2} +  ... +  x_{n}) + y) if (x_{1} in V) ,  (x_{2} in V) ,  ... ,  (x_{n} in V) ,  y in V.\n",
       "    core type: Conditional\n",
       "    value: 24\n",
       "    condition: 25\n",
       "24. (x_{1} +  x_{2} +  ... +  x_{n} + y) = ((x_{1} +  x_{2} +  ... +  x_{n}) + y)\n",
       "    core type: Operation\n",
       "    operator: 26\n",
       "    operands: 27\n",
       "25. (x_{1} in V) and  (x_{2} in V) and  ... and  (x_{n} in V) and (y in V)\n",
       "    core type: Operation\n",
       "    operator: 28\n",
       "    operands: 29\n",
       "26. =\n",
       "    core type: Literal\n",
       "    sub-expressions: \n",
       "27. (x_{1} +  x_{2} +  ... +  x_{n} + y, (x_{1} +  x_{2} +  ... +  x_{n}) + y)\n",
       "    core type: ExprTuple\n",
       "    sub-expressions: 30, 31\n",
       "28. and\n",
       "    core type: Literal\n",
       "    sub-expressions: \n",
       "29. ((x_{1} in V), (x_{2} in V), ..., (x_{n} in V), y in V)\n",
       "    core type: ExprTuple\n",
       "    sub-expressions: 32, 33\n",
       "30. x_{1} +  x_{2} +  ... +  x_{n} + y\n",
       "    core type: Operation\n",
       "    operator: 41\n",
       "    operands: 34\n",
       "31. (x_{1} +  x_{2} +  ... +  x_{n}) + y\n",
       "    core type: Operation\n",
       "    operator: 41\n",
       "    operands: 35\n",
       "32. (x_{1} in V), (x_{2} in V), ..., (x_{n} in V)\n",
       "    core type: ExprRange\n",
       "    lambda_map: 36\n",
       "    start_index: 48\n",
       "    end_index: 49\n",
       "33. y in V\n",
       "    core type: Operation\n",
       "    operator: 43\n",
       "    operands: 37\n",
       "34. (x_{1}, x_{2}, ..., x_{n}, y)\n",
       "    core type: ExprTuple\n",
       "    sub-expressions: 45, 40\n",
       "35. (x_{1} +  x_{2} +  ... +  x_{n}, y)\n",
       "    core type: ExprTuple\n",
       "    sub-expressions: 38, 40\n",
       "36. _a -> (x_{_a} in V)\n",
       "    core type: Lambda\n",
       "    parameter: 53\n",
       "    body: 39\n",
       "37. (y, V)\n",
       "    core type: ExprTuple\n",
       "    sub-expressions: 40, 46\n",
       "38. x_{1} +  x_{2} +  ... +  x_{n}\n",
       "    core type: Operation\n",
       "    operator: 41\n",
       "    operands: 42\n",
       "39. x_{_a} in V\n",
       "    core type: Operation\n",
       "    operator: 43\n",
       "    operands: 44\n",
       "40. y\n",
       "    core type: Variable\n",
       "    sub-expressions: \n",
       "41. +\n",
       "    core type: Literal\n",
       "    sub-expressions: \n",
       "42. (x_{1}, x_{2}, ..., x_{n})\n",
       "    core type: ExprTuple\n",
       "    sub-expressions: 45\n",
       "43. in\n",
       "    core type: Literal\n",
       "    sub-expressions: \n",
       "44. (x_{_a}, V)\n",
       "    core type: ExprTuple\n",
       "    sub-expressions: 50, 46\n",
       "45. x_{1}, x_{2}, ..., x_{n}\n",
       "    core type: ExprRange\n",
       "    lambda_map: 47\n",
       "    start_index: 48\n",
       "    end_index: 49\n",
       "46. V\n",
       "    core type: Variable\n",
       "    sub-expressions: \n",
       "47. _a -> x_{_a}\n",
       "    core type: Lambda\n",
       "    parameter: 53\n",
       "    body: 50\n",
       "48. 1\n",
       "    core type: Literal\n",
       "    sub-expressions: \n",
       "49. n\n",
       "    core type: Variable\n",
       "    sub-expressions: \n",
       "50. x_{_a}\n",
       "    core type: IndexedVar\n",
       "variable: 51\n",
       "index: 53\n",
       "51. x\n",
       "    core type: Variable\n",
       "    sub-expressions: \n",
       "52. (_a)\n",
       "    core type: ExprTuple\n",
       "    sub-expressions: 53\n",
       "53. _a\n",
       "    core type: Variable\n",
       "    sub-expressions: "
      ]
     },
     "metadata": {},
     "output_type": "display_data"
    }
   ],
   "source": [
    "# display the expression information\n",
    "stored_expr.expr_info()"
   ]
  },
  {
   "cell_type": "code",
   "execution_count": null,
   "metadata": {},
   "outputs": [],
   "source": []
  }
 ],
 "metadata": {
  "kernelspec": {
   "display_name": "Python 3",
   "language": "python",
   "name": "python3"
  }
 },
 "nbformat": 4,
 "nbformat_minor": 0
}