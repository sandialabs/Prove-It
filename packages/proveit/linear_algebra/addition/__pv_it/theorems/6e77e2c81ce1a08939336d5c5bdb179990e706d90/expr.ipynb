{
 "cells": [
  {
   "cell_type": "markdown",
   "metadata": {},
   "source": [
    "Expression of type <a class=\"ProveItLink\" href=\"../../../../../../../doc/html/api/proveit.Conditional.html\">Conditional</a>\n",
    "=======================\n",
    "# from the theory of <a class=\"ProveItLink\" href=\"../../../_theory_nbs_/theory.ipynb\">proveit.linear_algebra.addition</a>"
   ]
  },
  {
   "cell_type": "code",
   "execution_count": 1,
   "metadata": {},
   "outputs": [],
   "source": [
    "import proveit\n",
    "# Automation is not needed when building an expression:\n",
    "proveit.defaults.automation = False # This will speed things up.\n",
    "proveit.defaults.inline_pngs = False # Makes files smaller.\n",
    "%load_expr # Load the stored expression as 'stored_expr'\n",
    "# import Expression classes needed to build the expression\n",
    "from proveit import Conditional, K, V, i, j, k, v\n",
    "from proveit.linear_algebra import ScalarMult, VecSpaces, VecSum\n",
    "from proveit.logic import Equals, Forall, InClass\n",
    "from proveit.numbers import Add, Interval, one, subtract"
   ]
  },
  {
   "cell_type": "code",
   "execution_count": 2,
   "metadata": {},
   "outputs": [
    {
     "data": {
      "text/html": [
       "<strong id=\"expr\">expr:</strong> <a class=\"ProveItLink\" href=\"expr.ipynb\"><img src=\"expr.png\" style=\"display:inline;vertical-align:middle;\" /></a><br>"
      ],
      "text/plain": [
       "<IPython.core.display.HTML object>"
      ]
     },
     "metadata": {},
     "output_type": "display_data"
    }
   ],
   "source": [
    "# build up the expression from sub-expressions\n",
    "expr = Conditional(Forall(instance_param_or_params = [v], instance_expr = Equals(VecSum(index_or_indices = [i], summand = v, domain = Interval(j, k)), ScalarMult(Add(subtract(k, j), one), v)), domain = V), InClass(V, VecSpaces(K)))"
   ]
  },
  {
   "cell_type": "code",
   "execution_count": 3,
   "metadata": {},
   "outputs": [
    {
     "name": "stdout",
     "output_type": "stream",
     "text": [
      "Passed sanity check: expr matches stored_expr\n"
     ]
    }
   ],
   "source": [
    "# check that the built expression is the same as the stored expression\n",
    "assert expr == stored_expr\n",
    "assert expr._style_id == stored_expr._style_id\n",
    "print(\"Passed sanity check: expr matches stored_expr\")"
   ]
  },
  {
   "cell_type": "code",
   "execution_count": 4,
   "metadata": {},
   "outputs": [
    {
     "name": "stdout",
     "output_type": "stream",
     "text": [
      "\\left\\{\\forall_{v \\in V}~\\left(\\left(\\sum_{i=j}^{k} v\\right) = \\left(\\left(\\left(k - j\\right) + 1\\right) \\cdot v\\right)\\right) \\textrm{ if } V \\underset{{\\scriptscriptstyle c}}{\\in} \\textrm{VecSpaces}\\left(K\\right)\\right..\n"
     ]
    }
   ],
   "source": [
    "# Show the LaTeX representation of the expression for convenience if you need it.\n",
    "print(stored_expr.latex())"
   ]
  },
  {
   "cell_type": "code",
   "execution_count": 5,
   "metadata": {},
   "outputs": [
    {
     "data": {
      "text/html": [
       "<table>\n",
       "<tr><th>name</th><th>description</th><th>default</th><th>current value</th><th>related methods</th></tr><tr><td>condition_delimiter</td><td>'comma' or 'and'</td><td>comma</td><td>comma</td><td>('with_comma_delimiter', 'with_conjunction_delimiter')</td></tr>\n",
       "</table>\n"
      ],
      "text/plain": [
       "style name: condition_delimiter\n",
       "description: 'comma' or 'and'\n",
       "default: comma\n",
       "current value: comma\n",
       "related methods: ('with_comma_delimiter', 'with_conjunction_delimiter')"
      ]
     },
     "metadata": {},
     "output_type": "display_data"
    }
   ],
   "source": [
    "stored_expr.style_options()"
   ]
  },
  {
   "cell_type": "code",
   "execution_count": 6,
   "metadata": {},
   "outputs": [
    {
     "data": {
      "text/html": [
       "<table><tr><th>&nbsp;</th><th>core type</th><th>sub-expressions</th><th>expression</th></tr>\n",
       "<tr><td>0</td><td>Conditional</td><td>value:&nbsp;1<br>condition:&nbsp;2<br></td><td><a class=\"ProveItLink\" href=\"expr.ipynb\"><img src=\"expr.png\" style=\"display:inline;vertical-align:middle;\" /></a></td></tr>\n",
       "<tr><td>1</td><td>Operation</td><td>operator:&nbsp;3<br>operand:&nbsp;7<br></td><td><a class=\"ProveItLink\" href=\"../fae68bed49c2e6416ea8cb53f220cb6ea312bce00/expr.ipynb\"><img src=\"../fae68bed49c2e6416ea8cb53f220cb6ea312bce00/expr.png\" style=\"display:inline;vertical-align:middle;\" /></a></td></tr>\n",
       "<tr><td>2</td><td>Operation</td><td>operator:&nbsp;5<br>operands:&nbsp;6<br></td><td><a class=\"ProveItLink\" href=\"../fdcef8bdda7eadc951141827185574260418b5040/expr.ipynb\"><img src=\"../fdcef8bdda7eadc951141827185574260418b5040/expr.png\" style=\"display:inline;vertical-align:middle;\" /></a></td></tr>\n",
       "<tr><td>3</td><td>Literal</td><td></td><td><a class=\"ProveItLink\" href=\"../../../../../logic/booleans/quantification/universality/__pv_it/common/083d2baa0b8ecab1d230f9ec29a15aa1355809fb0/expr.ipynb\"><img src=\"../../../../../logic/booleans/quantification/universality/__pv_it/common/083d2baa0b8ecab1d230f9ec29a15aa1355809fb0/expr.png\" style=\"display:inline;vertical-align:middle;\" /></a></td></tr>\n",
       "<tr><td>4</td><td>ExprTuple</td><td>7</td><td><a class=\"ProveItLink\" href=\"../0a74e66d9897d13b2c5c5eaca488314d101624a60/expr.ipynb\"><img src=\"../0a74e66d9897d13b2c5c5eaca488314d101624a60/expr.png\" style=\"display:inline;vertical-align:middle;\" /></a></td></tr>\n",
       "<tr><td>5</td><td>Literal</td><td></td><td><a class=\"ProveItLink\" href=\"../../../../../logic/classes/membership/__pv_it/common/e3b437d28fbe17f0a50c9789c7c9b47a1270f1420/expr.ipynb\"><img src=\"../../../../../logic/classes/membership/__pv_it/common/e3b437d28fbe17f0a50c9789c7c9b47a1270f1420/expr.png\" style=\"display:inline;vertical-align:middle;\" /></a></td></tr>\n",
       "<tr><td>6</td><td>ExprTuple</td><td>21, 8</td><td><a class=\"ProveItLink\" href=\"../e9269a3a12a2f9c88a561318d0d55d8d11da1e5f0/expr.ipynb\"><img src=\"../e9269a3a12a2f9c88a561318d0d55d8d11da1e5f0/expr.png\" style=\"display:inline;vertical-align:middle;\" /></a></td></tr>\n",
       "<tr><td>7</td><td>Lambda</td><td>parameter:&nbsp;31<br>body:&nbsp;10<br></td><td><a class=\"ProveItLink\" href=\"../d2da694aaa2098a8dfe397055514fcebacb223ac0/expr.ipynb\"><img src=\"../d2da694aaa2098a8dfe397055514fcebacb223ac0/expr.png\" style=\"display:inline;vertical-align:middle;\" /></a></td></tr>\n",
       "<tr><td>8</td><td>Operation</td><td>operator:&nbsp;11<br>operand:&nbsp;15<br></td><td><a class=\"ProveItLink\" href=\"../bfe4d11fbcd28c79c0e2a9c152d66f0991be7cc30/expr.ipynb\"><img src=\"../bfe4d11fbcd28c79c0e2a9c152d66f0991be7cc30/expr.png\" style=\"display:inline;vertical-align:middle;\" /></a></td></tr>\n",
       "<tr><td>9</td><td>ExprTuple</td><td>31</td><td><a class=\"ProveItLink\" href=\"../e1c6cd363607da77d3d48a5bdedf3c17cc448af00/expr.ipynb\"><img src=\"../e1c6cd363607da77d3d48a5bdedf3c17cc448af00/expr.png\" style=\"display:inline;vertical-align:middle;\" /></a></td></tr>\n",
       "<tr><td>10</td><td>Conditional</td><td>value:&nbsp;13<br>condition:&nbsp;14<br></td><td><a class=\"ProveItLink\" href=\"../aa8f75ae53e09ba1bd30f429a6ac3cd5e1e0f6520/expr.ipynb\"><img src=\"../aa8f75ae53e09ba1bd30f429a6ac3cd5e1e0f6520/expr.png\" style=\"display:inline;vertical-align:middle;\" /></a></td></tr>\n",
       "<tr><td>11</td><td>Literal</td><td></td><td><a class=\"ProveItLink\" href=\"../../../../__pv_it/common/191fa3a3f5c54c22d4b0a7e4fd1b2f7738e981550/expr.ipynb\"><img src=\"../../../../__pv_it/common/191fa3a3f5c54c22d4b0a7e4fd1b2f7738e981550/expr.png\" style=\"display:inline;vertical-align:middle;\" /></a></td></tr>\n",
       "<tr><td>12</td><td>ExprTuple</td><td>15</td><td><a class=\"ProveItLink\" href=\"../dfa81a569aedd40943c42f533e78bc2f073711130/expr.ipynb\"><img src=\"../dfa81a569aedd40943c42f533e78bc2f073711130/expr.png\" style=\"display:inline;vertical-align:middle;\" /></a></td></tr>\n",
       "<tr><td>13</td><td>Operation</td><td>operator:&nbsp;16<br>operands:&nbsp;17<br></td><td><a class=\"ProveItLink\" href=\"../a84eccb90253861a3d28a50017b2e98f7c6351650/expr.ipynb\"><img src=\"../a84eccb90253861a3d28a50017b2e98f7c6351650/expr.png\" style=\"display:inline;vertical-align:middle;\" /></a></td></tr>\n",
       "<tr><td>14</td><td>Operation</td><td>operator:&nbsp;35<br>operands:&nbsp;18<br></td><td><a class=\"ProveItLink\" href=\"../cb54d96b24fc3f59d4e803235a6602263db471040/expr.ipynb\"><img src=\"../cb54d96b24fc3f59d4e803235a6602263db471040/expr.png\" style=\"display:inline;vertical-align:middle;\" /></a></td></tr>\n",
       "<tr><td>15</td><td>Variable</td><td></td><td><a class=\"ProveItLink\" href=\"../../../../../__pv_it/common/1f2ffac7a1dc7c1a4f1fc7348356ae64ea992c790/expr.ipynb\"><img src=\"../../../../../__pv_it/common/1f2ffac7a1dc7c1a4f1fc7348356ae64ea992c790/expr.png\" style=\"display:inline;vertical-align:middle;\" /></a></td></tr>\n",
       "<tr><td>16</td><td>Literal</td><td></td><td><a class=\"ProveItLink\" href=\"../../../../../logic/equality/__pv_it/common/fb96dc12b2aa8801dda64d0132b396c63d1502bb0/expr.ipynb\"><img src=\"../../../../../logic/equality/__pv_it/common/fb96dc12b2aa8801dda64d0132b396c63d1502bb0/expr.png\" style=\"display:inline;vertical-align:middle;\" /></a></td></tr>\n",
       "<tr><td>17</td><td>ExprTuple</td><td>19, 20</td><td><a class=\"ProveItLink\" href=\"../2e4fd159191dabdcfed9e6286c11225fce9dee9e0/expr.ipynb\"><img src=\"../2e4fd159191dabdcfed9e6286c11225fce9dee9e0/expr.png\" style=\"display:inline;vertical-align:middle;\" /></a></td></tr>\n",
       "<tr><td>18</td><td>ExprTuple</td><td>31, 21</td><td><a class=\"ProveItLink\" href=\"../fe91924ad72f2e130ae61bf42112798be82f3eca0/expr.ipynb\"><img src=\"../fe91924ad72f2e130ae61bf42112798be82f3eca0/expr.png\" style=\"display:inline;vertical-align:middle;\" /></a></td></tr>\n",
       "<tr><td>19</td><td>Operation</td><td>operator:&nbsp;22<br>operand:&nbsp;26<br></td><td><a class=\"ProveItLink\" href=\"../292ba8494509459cbcd1779ab85e1e8466d203c80/expr.ipynb\"><img src=\"../292ba8494509459cbcd1779ab85e1e8466d203c80/expr.png\" style=\"display:inline;vertical-align:middle;\" /></a></td></tr>\n",
       "<tr><td>20</td><td>Operation</td><td>operator:&nbsp;24<br>operands:&nbsp;25<br></td><td><a class=\"ProveItLink\" href=\"../e6b49f3be318de390437089d454ba50497070c000/expr.ipynb\"><img src=\"../e6b49f3be318de390437089d454ba50497070c000/expr.png\" style=\"display:inline;vertical-align:middle;\" /></a></td></tr>\n",
       "<tr><td>21</td><td>Variable</td><td></td><td><a class=\"ProveItLink\" href=\"../../../../../__pv_it/common/6d80eb1398b2335bf9ec427954b851b7094dced50/expr.ipynb\"><img src=\"../../../../../__pv_it/common/6d80eb1398b2335bf9ec427954b851b7094dced50/expr.png\" style=\"display:inline;vertical-align:middle;\" /></a></td></tr>\n",
       "<tr><td>22</td><td>Literal</td><td></td><td><a class=\"ProveItLink\" href=\"../../common/62f73c830c62efb87627ede5678f282081cd0ce20/expr.ipynb\"><img src=\"../../common/62f73c830c62efb87627ede5678f282081cd0ce20/expr.png\" style=\"display:inline;vertical-align:middle;\" /></a></td></tr>\n",
       "<tr><td>23</td><td>ExprTuple</td><td>26</td><td><a class=\"ProveItLink\" href=\"../dd1a9b1192c633fb80e97a8cadaedf1ec4eaaf390/expr.ipynb\"><img src=\"../dd1a9b1192c633fb80e97a8cadaedf1ec4eaaf390/expr.png\" style=\"display:inline;vertical-align:middle;\" /></a></td></tr>\n",
       "<tr><td>24</td><td>Literal</td><td></td><td><a class=\"ProveItLink\" href=\"../../../../scalar_multiplication/__pv_it/common/1e364bd471e6a29fcd358dd2d9cd990a1e6fedd40/expr.ipynb\"><img src=\"../../../../scalar_multiplication/__pv_it/common/1e364bd471e6a29fcd358dd2d9cd990a1e6fedd40/expr.png\" style=\"display:inline;vertical-align:middle;\" /></a></td></tr>\n",
       "<tr><td>25</td><td>ExprTuple</td><td>27, 31</td><td><a class=\"ProveItLink\" href=\"../f6218adfe59ae8633d376ea99338b3f6d0345b420/expr.ipynb\"><img src=\"../f6218adfe59ae8633d376ea99338b3f6d0345b420/expr.png\" style=\"display:inline;vertical-align:middle;\" /></a></td></tr>\n",
       "<tr><td>26</td><td>Lambda</td><td>parameter:&nbsp;39<br>body:&nbsp;29<br></td><td><a class=\"ProveItLink\" href=\"../0dfa3aa393254fa267e85b0f49c0ee6efc76ddd00/expr.ipynb\"><img src=\"../0dfa3aa393254fa267e85b0f49c0ee6efc76ddd00/expr.png\" style=\"display:inline;vertical-align:middle;\" /></a></td></tr>\n",
       "<tr><td>27</td><td>Operation</td><td>operator:&nbsp;37<br>operands:&nbsp;30<br></td><td><a class=\"ProveItLink\" href=\"../22bc16ba49835c4af0628e05911c2956527a32e60/expr.ipynb\"><img src=\"../22bc16ba49835c4af0628e05911c2956527a32e60/expr.png\" style=\"display:inline;vertical-align:middle;\" /></a></td></tr>\n",
       "<tr><td>28</td><td>ExprTuple</td><td>39</td><td><a class=\"ProveItLink\" href=\"../../../../../__pv_it/common/3b7d7ace2ced0a8261ea4d18d03aaf49e434d69d0/expr.ipynb\"><img src=\"../../../../../__pv_it/common/3b7d7ace2ced0a8261ea4d18d03aaf49e434d69d0/expr.png\" style=\"display:inline;vertical-align:middle;\" /></a></td></tr>\n",
       "<tr><td>29</td><td>Conditional</td><td>value:&nbsp;31<br>condition:&nbsp;32<br></td><td><a class=\"ProveItLink\" href=\"../90c233d293a243d44dd994ff63fb7df4fb7068150/expr.ipynb\"><img src=\"../90c233d293a243d44dd994ff63fb7df4fb7068150/expr.png\" style=\"display:inline;vertical-align:middle;\" /></a></td></tr>\n",
       "<tr><td>30</td><td>ExprTuple</td><td>33, 34</td><td><a class=\"ProveItLink\" href=\"../c0304637062632c213668c523edb5c118fc88c690/expr.ipynb\"><img src=\"../c0304637062632c213668c523edb5c118fc88c690/expr.png\" style=\"display:inline;vertical-align:middle;\" /></a></td></tr>\n",
       "<tr><td>31</td><td>Variable</td><td></td><td><a class=\"ProveItLink\" href=\"../../../../../__pv_it/common/a4b9661da9b52dcebf59c5559fec8901f4df10750/expr.ipynb\"><img src=\"../../../../../__pv_it/common/a4b9661da9b52dcebf59c5559fec8901f4df10750/expr.png\" style=\"display:inline;vertical-align:middle;\" /></a></td></tr>\n",
       "<tr><td>32</td><td>Operation</td><td>operator:&nbsp;35<br>operands:&nbsp;36<br></td><td><a class=\"ProveItLink\" href=\"../b46003eff3b3e69b803c0685e24287b75b0f379f0/expr.ipynb\"><img src=\"../b46003eff3b3e69b803c0685e24287b75b0f379f0/expr.png\" style=\"display:inline;vertical-align:middle;\" /></a></td></tr>\n",
       "<tr><td>33</td><td>Operation</td><td>operator:&nbsp;37<br>operands:&nbsp;38<br></td><td><a class=\"ProveItLink\" href=\"../c984d4d1cdc793cb183aa71774c8dccf718d74fb0/expr.ipynb\"><img src=\"../c984d4d1cdc793cb183aa71774c8dccf718d74fb0/expr.png\" style=\"display:inline;vertical-align:middle;\" /></a></td></tr>\n",
       "<tr><td>34</td><td>Literal</td><td></td><td><a class=\"ProveItLink\" href=\"../../../../../numbers/numerals/__pv_it/common/682157d4892d216d9e5626ed533aff9b56b9506e0/expr.ipynb\"><img src=\"../../../../../numbers/numerals/__pv_it/common/682157d4892d216d9e5626ed533aff9b56b9506e0/expr.png\" style=\"display:inline;vertical-align:middle;\" /></a></td></tr>\n",
       "<tr><td>35</td><td>Literal</td><td></td><td><a class=\"ProveItLink\" href=\"../../../../../logic/sets/membership/__pv_it/common/477487d8796864d23d5810f83761435f25167f690/expr.ipynb\"><img src=\"../../../../../logic/sets/membership/__pv_it/common/477487d8796864d23d5810f83761435f25167f690/expr.png\" style=\"display:inline;vertical-align:middle;\" /></a></td></tr>\n",
       "<tr><td>36</td><td>ExprTuple</td><td>39, 40</td><td><a class=\"ProveItLink\" href=\"../93bcf45989c2cfbcb086778b312df7a50a431fa00/expr.ipynb\"><img src=\"../93bcf45989c2cfbcb086778b312df7a50a431fa00/expr.png\" style=\"display:inline;vertical-align:middle;\" /></a></td></tr>\n",
       "<tr><td>37</td><td>Literal</td><td></td><td><a class=\"ProveItLink\" href=\"../../../../../numbers/addition/__pv_it/common/4b7effaab3619a1c2c38fe2dee8601df8ec714590/expr.ipynb\"><img src=\"../../../../../numbers/addition/__pv_it/common/4b7effaab3619a1c2c38fe2dee8601df8ec714590/expr.png\" style=\"display:inline;vertical-align:middle;\" /></a></td></tr>\n",
       "<tr><td>38</td><td>ExprTuple</td><td>46, 41</td><td><a class=\"ProveItLink\" href=\"../0aa2e92c4d3dc56d7c3c434942cb665c815afeaf0/expr.ipynb\"><img src=\"../0aa2e92c4d3dc56d7c3c434942cb665c815afeaf0/expr.png\" style=\"display:inline;vertical-align:middle;\" /></a></td></tr>\n",
       "<tr><td>39</td><td>Variable</td><td></td><td><a class=\"ProveItLink\" href=\"../../../../../__pv_it/common/ae955345c83abf786c3aff8681cd5465beae262d0/expr.ipynb\"><img src=\"../../../../../__pv_it/common/ae955345c83abf786c3aff8681cd5465beae262d0/expr.png\" style=\"display:inline;vertical-align:middle;\" /></a></td></tr>\n",
       "<tr><td>40</td><td>Operation</td><td>operator:&nbsp;42<br>operands:&nbsp;43<br></td><td><a class=\"ProveItLink\" href=\"../08cc612914bc85783c411f566962d3c17fc0cf420/expr.ipynb\"><img src=\"../08cc612914bc85783c411f566962d3c17fc0cf420/expr.png\" style=\"display:inline;vertical-align:middle;\" /></a></td></tr>\n",
       "<tr><td>41</td><td>Operation</td><td>operator:&nbsp;44<br>operand:&nbsp;47<br></td><td><a class=\"ProveItLink\" href=\"../24f853fddbdbdadc19a8f07ec76ee6ccec6bd1460/expr.ipynb\"><img src=\"../24f853fddbdbdadc19a8f07ec76ee6ccec6bd1460/expr.png\" style=\"display:inline;vertical-align:middle;\" /></a></td></tr>\n",
       "<tr><td>42</td><td>Literal</td><td></td><td><a class=\"ProveItLink\" href=\"../../../../../numbers/number_sets/integers/__pv_it/common/92f3a0a77e3c3ea8e4a5c8674edadc54e4f57d550/expr.ipynb\"><img src=\"../../../../../numbers/number_sets/integers/__pv_it/common/92f3a0a77e3c3ea8e4a5c8674edadc54e4f57d550/expr.png\" style=\"display:inline;vertical-align:middle;\" /></a></td></tr>\n",
       "<tr><td>43</td><td>ExprTuple</td><td>47, 46</td><td><a class=\"ProveItLink\" href=\"../5d5621289915e24a2f6376aefc32142d7a51e9880/expr.ipynb\"><img src=\"../5d5621289915e24a2f6376aefc32142d7a51e9880/expr.png\" style=\"display:inline;vertical-align:middle;\" /></a></td></tr>\n",
       "<tr><td>44</td><td>Literal</td><td></td><td><a class=\"ProveItLink\" href=\"../../../../../numbers/negation/__pv_it/common/221b3c4d1770ee9051b7c044c3f9ec61196fc34b0/expr.ipynb\"><img src=\"../../../../../numbers/negation/__pv_it/common/221b3c4d1770ee9051b7c044c3f9ec61196fc34b0/expr.png\" style=\"display:inline;vertical-align:middle;\" /></a></td></tr>\n",
       "<tr><td>45</td><td>ExprTuple</td><td>47</td><td><a class=\"ProveItLink\" href=\"../e53e75ee8364373a10f420a7f9184b4cb67637be0/expr.ipynb\"><img src=\"../e53e75ee8364373a10f420a7f9184b4cb67637be0/expr.png\" style=\"display:inline;vertical-align:middle;\" /></a></td></tr>\n",
       "<tr><td>46</td><td>Variable</td><td></td><td><a class=\"ProveItLink\" href=\"../../../../../__pv_it/common/63b7c64bf9ec7a04ecc396c7a1670f3f12fb59490/expr.ipynb\"><img src=\"../../../../../__pv_it/common/63b7c64bf9ec7a04ecc396c7a1670f3f12fb59490/expr.png\" style=\"display:inline;vertical-align:middle;\" /></a></td></tr>\n",
       "<tr><td>47</td><td>Variable</td><td></td><td><a class=\"ProveItLink\" href=\"../../../../../__pv_it/common/1ed21df18baca2f42b561a7ffbf30a2743d594650/expr.ipynb\"><img src=\"../../../../../__pv_it/common/1ed21df18baca2f42b561a7ffbf30a2743d594650/expr.png\" style=\"display:inline;vertical-align:middle;\" /></a></td></tr>\n",
       "</table>\n"
      ],
      "text/plain": [
       "0. {forall_{v in V} ((Sum_{i=j}^{k} v) = (((k - j) + 1) * v)) if V in_c VecSpaces(K).\n",
       "   core type: Conditional\n",
       "   value: 1\n",
       "   condition: 2\n",
       "1. forall_{v in V} ((Sum_{i=j}^{k} v) = (((k - j) + 1) * v))\n",
       "   core type: Operation\n",
       "   operator: 3\n",
       "   operand: 7\n",
       "2. V in_c VecSpaces(K)\n",
       "   core type: Operation\n",
       "   operator: 5\n",
       "   operands: 6\n",
       "3. forall\n",
       "   core type: Literal\n",
       "   sub-expressions: \n",
       "4. (v -> {(Sum_{i=j}^{k} v) = (((k - j) + 1) * v) if v in V.)\n",
       "   core type: ExprTuple\n",
       "   sub-expressions: 7\n",
       "5. in_c\n",
       "   core type: Literal\n",
       "   sub-expressions: \n",
       "6. (V, VecSpaces(K))\n",
       "   core type: ExprTuple\n",
       "   sub-expressions: 21, 8\n",
       "7. v -> {(Sum_{i=j}^{k} v) = (((k - j) + 1) * v) if v in V.\n",
       "   core type: Lambda\n",
       "   parameter: 31\n",
       "   body: 10\n",
       "8. VecSpaces(K)\n",
       "   core type: Operation\n",
       "   operator: 11\n",
       "   operand: 15\n",
       "9. (v)\n",
       "   core type: ExprTuple\n",
       "   sub-expressions: 31\n",
       "10. {(Sum_{i=j}^{k} v) = (((k - j) + 1) * v) if v in V.\n",
       "    core type: Conditional\n",
       "    value: 13\n",
       "    condition: 14\n",
       "11. VecSpaces\n",
       "    core type: Literal\n",
       "    sub-expressions: \n",
       "12. (K)\n",
       "    core type: ExprTuple\n",
       "    sub-expressions: 15\n",
       "13. (Sum_{i=j}^{k} v) = (((k - j) + 1) * v)\n",
       "    core type: Operation\n",
       "    operator: 16\n",
       "    operands: 17\n",
       "14. v in V\n",
       "    core type: Operation\n",
       "    operator: 35\n",
       "    operands: 18\n",
       "15. K\n",
       "    core type: Variable\n",
       "    sub-expressions: \n",
       "16. =\n",
       "    core type: Literal\n",
       "    sub-expressions: \n",
       "17. (Sum_{i=j}^{k} v, ((k - j) + 1) * v)\n",
       "    core type: ExprTuple\n",
       "    sub-expressions: 19, 20\n",
       "18. (v, V)\n",
       "    core type: ExprTuple\n",
       "    sub-expressions: 31, 21\n",
       "19. Sum_{i=j}^{k} v\n",
       "    core type: Operation\n",
       "    operator: 22\n",
       "    operand: 26\n",
       "20. ((k - j) + 1) * v\n",
       "    core type: Operation\n",
       "    operator: 24\n",
       "    operands: 25\n",
       "21. V\n",
       "    core type: Variable\n",
       "    sub-expressions: \n",
       "22. Sum\n",
       "    core type: Literal\n",
       "    sub-expressions: \n",
       "23. (i -> {v if i in {j .. k}.)\n",
       "    core type: ExprTuple\n",
       "    sub-expressions: 26\n",
       "24. *\n",
       "    core type: Literal\n",
       "    sub-expressions: \n",
       "25. ((k - j) + 1, v)\n",
       "    core type: ExprTuple\n",
       "    sub-expressions: 27, 31\n",
       "26. i -> {v if i in {j .. k}.\n",
       "    core type: Lambda\n",
       "    parameter: 39\n",
       "    body: 29\n",
       "27. (k - j) + 1\n",
       "    core type: Operation\n",
       "    operator: 37\n",
       "    operands: 30\n",
       "28. (i)\n",
       "    core type: ExprTuple\n",
       "    sub-expressions: 39\n",
       "29. {v if i in {j .. k}.\n",
       "    core type: Conditional\n",
       "    value: 31\n",
       "    condition: 32\n",
       "30. (k - j, 1)\n",
       "    core type: ExprTuple\n",
       "    sub-expressions: 33, 34\n",
       "31. v\n",
       "    core type: Variable\n",
       "    sub-expressions: \n",
       "32. i in {j .. k}\n",
       "    core type: Operation\n",
       "    operator: 35\n",
       "    operands: 36\n",
       "33. k - j\n",
       "    core type: Operation\n",
       "    operator: 37\n",
       "    operands: 38\n",
       "34. 1\n",
       "    core type: Literal\n",
       "    sub-expressions: \n",
       "35. in\n",
       "    core type: Literal\n",
       "    sub-expressions: \n",
       "36. (i, {j .. k})\n",
       "    core type: ExprTuple\n",
       "    sub-expressions: 39, 40\n",
       "37. +\n",
       "    core type: Literal\n",
       "    sub-expressions: \n",
       "38. (k, -j)\n",
       "    core type: ExprTuple\n",
       "    sub-expressions: 46, 41\n",
       "39. i\n",
       "    core type: Variable\n",
       "    sub-expressions: \n",
       "40. {j .. k}\n",
       "    core type: Operation\n",
       "    operator: 42\n",
       "    operands: 43\n",
       "41. -j\n",
       "    core type: Operation\n",
       "    operator: 44\n",
       "    operand: 47\n",
       "42. Interval\n",
       "    core type: Literal\n",
       "    sub-expressions: \n",
       "43. (j, k)\n",
       "    core type: ExprTuple\n",
       "    sub-expressions: 47, 46\n",
       "44. -\n",
       "    core type: Literal\n",
       "    sub-expressions: \n",
       "45. (j)\n",
       "    core type: ExprTuple\n",
       "    sub-expressions: 47\n",
       "46. k\n",
       "    core type: Variable\n",
       "    sub-expressions: \n",
       "47. j\n",
       "    core type: Variable\n",
       "    sub-expressions: "
      ]
     },
     "metadata": {},
     "output_type": "display_data"
    }
   ],
   "source": [
    "# display the expression information\n",
    "stored_expr.expr_info()"
   ]
  },
  {
   "cell_type": "code",
   "execution_count": null,
   "metadata": {},
   "outputs": [],
   "source": []
  }
 ],
 "metadata": {
  "kernelspec": {
   "display_name": "Python 3",
   "language": "python",
   "name": "python3"
  }
 },
 "nbformat": 4,
 "nbformat_minor": 0
}