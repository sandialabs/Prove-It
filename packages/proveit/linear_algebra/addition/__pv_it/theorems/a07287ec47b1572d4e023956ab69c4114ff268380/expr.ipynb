{
 "cells": [
  {
   "cell_type": "markdown",
   "metadata": {},
   "source": [
    "Expression of type <a class=\"ProveItLink\" href=\"../../../../../../../doc/html/api/proveit.Lambda.html\">Lambda</a>\n",
    "=======================\n",
    "# from the theory of <a class=\"ProveItLink\" href=\"../../../_theory_nbs_/theory.ipynb\">proveit.linear_algebra.addition</a>"
   ]
  },
  {
   "cell_type": "code",
   "execution_count": 1,
   "metadata": {},
   "outputs": [],
   "source": [
    "import proveit\n",
    "# Automation is not needed when building an expression:\n",
    "proveit.defaults.automation = False # This will speed things up.\n",
    "proveit.defaults.inline_pngs = False # Makes files smaller.\n",
    "%load_expr # Load the stored expression as 'stored_expr'\n",
    "# import Expression classes needed to build the expression\n",
    "from proveit import Lambda, Q, f, j, n\n",
    "from proveit.core_expr_types import x_1_to_n\n",
    "from proveit.linear_algebra.addition import vec_summation_b1toj_fQ\n",
    "from proveit.logic import Equals, Forall\n",
    "from proveit.numbers import Complex, NaturalPos\n",
    "from proveit.numbers.summation import summation_b1toj_fQ"
   ]
  },
  {
   "cell_type": "code",
   "execution_count": 2,
   "metadata": {},
   "outputs": [
    {
     "data": {
      "text/html": [
       "<strong id=\"expr\">expr:</strong> <a class=\"ProveItLink\" href=\"expr.ipynb\"><img src=\"expr.png\" style=\"display:inline;vertical-align:middle;\" /></a><br>"
      ],
      "text/plain": [
       "<IPython.core.display.HTML object>"
      ]
     },
     "metadata": {},
     "output_type": "display_data"
    }
   ],
   "source": [
    "# build up the expression from sub-expressions\n",
    "expr = Lambda([f, Q], Forall(instance_param_or_params = [n, j], instance_expr = Forall(instance_param_or_params = [x_1_to_n], instance_expr = Equals(vec_summation_b1toj_fQ, summation_b1toj_fQ), domain = Complex), domain = NaturalPos))"
   ]
  },
  {
   "cell_type": "code",
   "execution_count": 3,
   "metadata": {},
   "outputs": [
    {
     "name": "stdout",
     "output_type": "stream",
     "text": [
      "Passed sanity check: expr matches stored_expr\n"
     ]
    }
   ],
   "source": [
    "# check that the built expression is the same as the stored expression\n",
    "assert expr == stored_expr\n",
    "assert expr._style_id == stored_expr._style_id\n",
    "print(\"Passed sanity check: expr matches stored_expr\")"
   ]
  },
  {
   "cell_type": "code",
   "execution_count": 4,
   "metadata": {},
   "outputs": [
    {
     "name": "stdout",
     "output_type": "stream",
     "text": [
      "\\left(f, Q\\right) \\mapsto \\left[\\forall_{n, j \\in \\mathbb{N}^+}~\\left[\\forall_{x_{1}, x_{2}, \\ldots, x_{n} \\in \\mathbb{C}}~\\left(\\left[\\sum_{b_{1}, b_{2}, \\ldots, b_{j}~|~Q\\left(b_{1}, b_{2}, \\ldots, b_{j}\\right)}~f\\left(b_{1}, b_{2}, \\ldots, b_{j}\\right)\\right] = \\left[\\sum_{b_{1}, b_{2}, \\ldots, b_{j}~|~Q\\left(b_{1}, b_{2}, \\ldots, b_{j}\\right)}~f\\left(b_{1}, b_{2}, \\ldots, b_{j}\\right)\\right]\\right)\\right]\\right]\n"
     ]
    }
   ],
   "source": [
    "# Show the LaTeX representation of the expression for convenience if you need it.\n",
    "print(stored_expr.latex())"
   ]
  },
  {
   "cell_type": "code",
   "execution_count": 5,
   "metadata": {},
   "outputs": [
    {
     "data": {
      "text/html": [
       "no style options"
      ],
      "text/plain": [
       "no style options"
      ]
     },
     "metadata": {},
     "output_type": "display_data"
    }
   ],
   "source": [
    "stored_expr.style_options()"
   ]
  },
  {
   "cell_type": "code",
   "execution_count": 6,
   "metadata": {},
   "outputs": [
    {
     "data": {
      "text/html": [
       "<table><tr><th>&nbsp;</th><th>core type</th><th>sub-expressions</th><th>expression</th></tr>\n",
       "<tr><td>0</td><td>Lambda</td><td>parameters:&nbsp;1<br>body:&nbsp;2<br></td><td><a class=\"ProveItLink\" href=\"expr.ipynb\"><img src=\"expr.png\" style=\"display:inline;vertical-align:middle;\" /></a></td></tr>\n",
       "<tr><td>1</td><td>ExprTuple</td><td>45, 46</td><td><a class=\"ProveItLink\" href=\"../42ffd7119124539dcdb26e42caccd5f59f0381a30/expr.ipynb\"><img src=\"../42ffd7119124539dcdb26e42caccd5f59f0381a30/expr.png\" style=\"display:inline;vertical-align:middle;\" /></a></td></tr>\n",
       "<tr><td>2</td><td>Operation</td><td>operator:&nbsp;9<br>operand:&nbsp;4<br></td><td><a class=\"ProveItLink\" href=\"../f70e0fa1a4486899805fba42e109a2e1506a19740/expr.ipynb\"><img src=\"../f70e0fa1a4486899805fba42e109a2e1506a19740/expr.png\" style=\"display:inline;vertical-align:middle;\" /></a></td></tr>\n",
       "<tr><td>3</td><td>ExprTuple</td><td>4</td><td><a class=\"ProveItLink\" href=\"../c573b151659e2629488d73689a6f4657666833d10/expr.ipynb\"><img src=\"../c573b151659e2629488d73689a6f4657666833d10/expr.png\" style=\"display:inline;vertical-align:middle;\" /></a></td></tr>\n",
       "<tr><td>4</td><td>Lambda</td><td>parameters:&nbsp;5<br>body:&nbsp;6<br></td><td><a class=\"ProveItLink\" href=\"../df87d044e99a490775f6fffdbcf42ec374f723480/expr.ipynb\"><img src=\"../df87d044e99a490775f6fffdbcf42ec374f723480/expr.png\" style=\"display:inline;vertical-align:middle;\" /></a></td></tr>\n",
       "<tr><td>5</td><td>ExprTuple</td><td>35, 52</td><td><a class=\"ProveItLink\" href=\"../b2fbe69938b5d6115a098720f101f8913eafae6c0/expr.ipynb\"><img src=\"../b2fbe69938b5d6115a098720f101f8913eafae6c0/expr.png\" style=\"display:inline;vertical-align:middle;\" /></a></td></tr>\n",
       "<tr><td>6</td><td>Conditional</td><td>value:&nbsp;7<br>condition:&nbsp;8<br></td><td><a class=\"ProveItLink\" href=\"../126e9906b67a659023f10e1955e96456b9026e5f0/expr.ipynb\"><img src=\"../126e9906b67a659023f10e1955e96456b9026e5f0/expr.png\" style=\"display:inline;vertical-align:middle;\" /></a></td></tr>\n",
       "<tr><td>7</td><td>Operation</td><td>operator:&nbsp;9<br>operand:&nbsp;12<br></td><td><a class=\"ProveItLink\" href=\"../1ec9171676ed81cca6008ffa5e5388623f900ea30/expr.ipynb\"><img src=\"../1ec9171676ed81cca6008ffa5e5388623f900ea30/expr.png\" style=\"display:inline;vertical-align:middle;\" /></a></td></tr>\n",
       "<tr><td>8</td><td>Operation</td><td>operator:&nbsp;26<br>operands:&nbsp;11<br></td><td><a class=\"ProveItLink\" href=\"../2e75209f04d7471cf48f723ade97f12b39044c3d0/expr.ipynb\"><img src=\"../2e75209f04d7471cf48f723ade97f12b39044c3d0/expr.png\" style=\"display:inline;vertical-align:middle;\" /></a></td></tr>\n",
       "<tr><td>9</td><td>Literal</td><td></td><td><a class=\"ProveItLink\" href=\"../../../../../logic/booleans/quantification/universality/__pv_it/common/083d2baa0b8ecab1d230f9ec29a15aa1355809fb0/expr.ipynb\"><img src=\"../../../../../logic/booleans/quantification/universality/__pv_it/common/083d2baa0b8ecab1d230f9ec29a15aa1355809fb0/expr.png\" style=\"display:inline;vertical-align:middle;\" /></a></td></tr>\n",
       "<tr><td>10</td><td>ExprTuple</td><td>12</td><td><a class=\"ProveItLink\" href=\"../23df1b6ecd674cd37b9674af8bc271ed7c910fdb0/expr.ipynb\"><img src=\"../23df1b6ecd674cd37b9674af8bc271ed7c910fdb0/expr.png\" style=\"display:inline;vertical-align:middle;\" /></a></td></tr>\n",
       "<tr><td>11</td><td>ExprTuple</td><td>13, 14</td><td><a class=\"ProveItLink\" href=\"../1eac3debbd5cec66289fb568abca8ac7d76e5baf0/expr.ipynb\"><img src=\"../1eac3debbd5cec66289fb568abca8ac7d76e5baf0/expr.png\" style=\"display:inline;vertical-align:middle;\" /></a></td></tr>\n",
       "<tr><td>12</td><td>Lambda</td><td>parameters:&nbsp;15<br>body:&nbsp;16<br></td><td><a class=\"ProveItLink\" href=\"../ef21da3df71ef6048292f3ae5ed393100b8db18f0/expr.ipynb\"><img src=\"../ef21da3df71ef6048292f3ae5ed393100b8db18f0/expr.png\" style=\"display:inline;vertical-align:middle;\" /></a></td></tr>\n",
       "<tr><td>13</td><td>Operation</td><td>operator:&nbsp;39<br>operands:&nbsp;17<br></td><td><a class=\"ProveItLink\" href=\"../c3c0a0522590e024022c8052cabac138164190560/expr.ipynb\"><img src=\"../c3c0a0522590e024022c8052cabac138164190560/expr.png\" style=\"display:inline;vertical-align:middle;\" /></a></td></tr>\n",
       "<tr><td>14</td><td>Operation</td><td>operator:&nbsp;39<br>operands:&nbsp;18<br></td><td><a class=\"ProveItLink\" href=\"../649ae346ef247b1d190476e522e54e82e6fe76a10/expr.ipynb\"><img src=\"../649ae346ef247b1d190476e522e54e82e6fe76a10/expr.png\" style=\"display:inline;vertical-align:middle;\" /></a></td></tr>\n",
       "<tr><td>15</td><td>ExprTuple</td><td>19</td><td><a class=\"ProveItLink\" href=\"../e29d2811b42e43e69e77c1c44413b65518ecad320/expr.ipynb\"><img src=\"../e29d2811b42e43e69e77c1c44413b65518ecad320/expr.png\" style=\"display:inline;vertical-align:middle;\" /></a></td></tr>\n",
       "<tr><td>16</td><td>Conditional</td><td>value:&nbsp;20<br>condition:&nbsp;21<br></td><td><a class=\"ProveItLink\" href=\"../8a447ec680515bf29fad1dca4e0a7e289c5880bb0/expr.ipynb\"><img src=\"../8a447ec680515bf29fad1dca4e0a7e289c5880bb0/expr.png\" style=\"display:inline;vertical-align:middle;\" /></a></td></tr>\n",
       "<tr><td>17</td><td>ExprTuple</td><td>35, 22</td><td><a class=\"ProveItLink\" href=\"../4459dda147b56e10026c83203ced1bc32b9704ab0/expr.ipynb\"><img src=\"../4459dda147b56e10026c83203ced1bc32b9704ab0/expr.png\" style=\"display:inline;vertical-align:middle;\" /></a></td></tr>\n",
       "<tr><td>18</td><td>ExprTuple</td><td>52, 22</td><td><a class=\"ProveItLink\" href=\"../fbb106d39245a485d62fb5665749b156e8eb3ca70/expr.ipynb\"><img src=\"../fbb106d39245a485d62fb5665749b156e8eb3ca70/expr.png\" style=\"display:inline;vertical-align:middle;\" /></a></td></tr>\n",
       "<tr><td>19</td><td>ExprRange</td><td>lambda_map:&nbsp;23<br>start_index:&nbsp;51<br>end_index:&nbsp;35<br></td><td><a class=\"ProveItLink\" href=\"../../../../../core_expr_types/__pv_it/common/d50f819f834d55ea1b9fad150926a94bf07ad8fc0/expr.ipynb\"><img src=\"../../../../../core_expr_types/__pv_it/common/d50f819f834d55ea1b9fad150926a94bf07ad8fc0/expr.png\" style=\"display:inline;vertical-align:middle;\" /></a></td></tr>\n",
       "<tr><td>20</td><td>Operation</td><td>operator:&nbsp;24<br>operands:&nbsp;25<br></td><td><a class=\"ProveItLink\" href=\"../5d9d90fbeb98fdb14ad3c1330d8df5ca4a0eaadc0/expr.ipynb\"><img src=\"../5d9d90fbeb98fdb14ad3c1330d8df5ca4a0eaadc0/expr.png\" style=\"display:inline;vertical-align:middle;\" /></a></td></tr>\n",
       "<tr><td>21</td><td>Operation</td><td>operator:&nbsp;26<br>operands:&nbsp;27<br></td><td><a class=\"ProveItLink\" href=\"../36a9f7cde0c96549106bc52c5a8313bd6910cf7e0/expr.ipynb\"><img src=\"../36a9f7cde0c96549106bc52c5a8313bd6910cf7e0/expr.png\" style=\"display:inline;vertical-align:middle;\" /></a></td></tr>\n",
       "<tr><td>22</td><td>Literal</td><td></td><td><a class=\"ProveItLink\" href=\"../../../../../numbers/number_sets/natural_numbers/__pv_it/common/6111329435c43892c831c4793de96afbf80bdb3e0/expr.ipynb\"><img src=\"../../../../../numbers/number_sets/natural_numbers/__pv_it/common/6111329435c43892c831c4793de96afbf80bdb3e0/expr.png\" style=\"display:inline;vertical-align:middle;\" /></a></td></tr>\n",
       "<tr><td>23</td><td>Lambda</td><td>parameter:&nbsp;56<br>body:&nbsp;43<br></td><td><a class=\"ProveItLink\" href=\"../../../../../core_expr_types/__pv_it/common/f8f30fee5e5b4e37951ff8886b574795bf35d80c0/expr.ipynb\"><img src=\"../../../../../core_expr_types/__pv_it/common/f8f30fee5e5b4e37951ff8886b574795bf35d80c0/expr.png\" style=\"display:inline;vertical-align:middle;\" /></a></td></tr>\n",
       "<tr><td>24</td><td>Literal</td><td></td><td><a class=\"ProveItLink\" href=\"../../../../../logic/equality/__pv_it/common/fb96dc12b2aa8801dda64d0132b396c63d1502bb0/expr.ipynb\"><img src=\"../../../../../logic/equality/__pv_it/common/fb96dc12b2aa8801dda64d0132b396c63d1502bb0/expr.png\" style=\"display:inline;vertical-align:middle;\" /></a></td></tr>\n",
       "<tr><td>25</td><td>ExprTuple</td><td>28, 29</td><td><a class=\"ProveItLink\" href=\"../796857b9b775e53af7e164bbfae33b462308d6430/expr.ipynb\"><img src=\"../796857b9b775e53af7e164bbfae33b462308d6430/expr.png\" style=\"display:inline;vertical-align:middle;\" /></a></td></tr>\n",
       "<tr><td>26</td><td>Literal</td><td></td><td><a class=\"ProveItLink\" href=\"../../../../../logic/booleans/conjunction/__pv_it/common/42118ff318bd65d98b1393f64ce7c2269feef76e0/expr.ipynb\"><img src=\"../../../../../logic/booleans/conjunction/__pv_it/common/42118ff318bd65d98b1393f64ce7c2269feef76e0/expr.png\" style=\"display:inline;vertical-align:middle;\" /></a></td></tr>\n",
       "<tr><td>27</td><td>ExprTuple</td><td>30</td><td><a class=\"ProveItLink\" href=\"../6acab1405dac3e7550296c66f24888b7c48eadf80/expr.ipynb\"><img src=\"../6acab1405dac3e7550296c66f24888b7c48eadf80/expr.png\" style=\"display:inline;vertical-align:middle;\" /></a></td></tr>\n",
       "<tr><td>28</td><td>Operation</td><td>operator:&nbsp;31<br>operand:&nbsp;36<br></td><td><a class=\"ProveItLink\" href=\"../../common/650c8aee4a66c5562ddfeae7da1cb7b6e9c3cc200/expr.ipynb\"><img src=\"../../common/650c8aee4a66c5562ddfeae7da1cb7b6e9c3cc200/expr.png\" style=\"display:inline;vertical-align:middle;\" /></a></td></tr>\n",
       "<tr><td>29</td><td>Operation</td><td>operator:&nbsp;32<br>operand:&nbsp;36<br></td><td><a class=\"ProveItLink\" href=\"../../../../../numbers/summation/__pv_it/common/d71f6d5f5f5c8fd11cced29abc8bd46cc924bc1c0/expr.ipynb\"><img src=\"../../../../../numbers/summation/__pv_it/common/d71f6d5f5f5c8fd11cced29abc8bd46cc924bc1c0/expr.png\" style=\"display:inline;vertical-align:middle;\" /></a></td></tr>\n",
       "<tr><td>30</td><td>ExprRange</td><td>lambda_map:&nbsp;34<br>start_index:&nbsp;51<br>end_index:&nbsp;35<br></td><td><a class=\"ProveItLink\" href=\"../2de9369b45a908c70ce51ac54a63f9ba591079430/expr.ipynb\"><img src=\"../2de9369b45a908c70ce51ac54a63f9ba591079430/expr.png\" style=\"display:inline;vertical-align:middle;\" /></a></td></tr>\n",
       "<tr><td>31</td><td>Literal</td><td></td><td><a class=\"ProveItLink\" href=\"../../common/62f73c830c62efb87627ede5678f282081cd0ce20/expr.ipynb\"><img src=\"../../common/62f73c830c62efb87627ede5678f282081cd0ce20/expr.png\" style=\"display:inline;vertical-align:middle;\" /></a></td></tr>\n",
       "<tr><td>32</td><td>Literal</td><td></td><td><a class=\"ProveItLink\" href=\"../../../../../numbers/summation/__pv_it/common/14fe61cccc388f91dfd83d3ca31cf27448cc070a0/expr.ipynb\"><img src=\"../../../../../numbers/summation/__pv_it/common/14fe61cccc388f91dfd83d3ca31cf27448cc070a0/expr.png\" style=\"display:inline;vertical-align:middle;\" /></a></td></tr>\n",
       "<tr><td>33</td><td>ExprTuple</td><td>36</td><td><a class=\"ProveItLink\" href=\"../../../../../numbers/summation/__pv_it/common/45946bd1ebd7886673df310b46237fd3b329b69f0/expr.ipynb\"><img src=\"../../../../../numbers/summation/__pv_it/common/45946bd1ebd7886673df310b46237fd3b329b69f0/expr.png\" style=\"display:inline;vertical-align:middle;\" /></a></td></tr>\n",
       "<tr><td>34</td><td>Lambda</td><td>parameter:&nbsp;56<br>body:&nbsp;37<br></td><td><a class=\"ProveItLink\" href=\"../ab4411f29e7ed51e7ebbb4f3e0900ecb60f90bdd0/expr.ipynb\"><img src=\"../ab4411f29e7ed51e7ebbb4f3e0900ecb60f90bdd0/expr.png\" style=\"display:inline;vertical-align:middle;\" /></a></td></tr>\n",
       "<tr><td>35</td><td>Variable</td><td></td><td><a class=\"ProveItLink\" href=\"../../../../../__pv_it/common/8968bb04eb3f7dfa02353397ce929b025bbd79c20/expr.ipynb\"><img src=\"../../../../../__pv_it/common/8968bb04eb3f7dfa02353397ce929b025bbd79c20/expr.png\" style=\"display:inline;vertical-align:middle;\" /></a></td></tr>\n",
       "<tr><td>36</td><td>Lambda</td><td>parameters:&nbsp;47<br>body:&nbsp;38<br></td><td><a class=\"ProveItLink\" href=\"../../../../../numbers/summation/__pv_it/common/16792c0186c8a40d7593bf77b8f3c413c0d71b7c0/expr.ipynb\"><img src=\"../../../../../numbers/summation/__pv_it/common/16792c0186c8a40d7593bf77b8f3c413c0d71b7c0/expr.png\" style=\"display:inline;vertical-align:middle;\" /></a></td></tr>\n",
       "<tr><td>37</td><td>Operation</td><td>operator:&nbsp;39<br>operands:&nbsp;40<br></td><td><a class=\"ProveItLink\" href=\"../d611efc6fe9c76d0f56638c84ffa73d0055fd2030/expr.ipynb\"><img src=\"../d611efc6fe9c76d0f56638c84ffa73d0055fd2030/expr.png\" style=\"display:inline;vertical-align:middle;\" /></a></td></tr>\n",
       "<tr><td>38</td><td>Conditional</td><td>value:&nbsp;41<br>condition:&nbsp;42<br></td><td><a class=\"ProveItLink\" href=\"../../../../../numbers/summation/__pv_it/common/30465670dddf17542ab6365d127631de40aa4f200/expr.ipynb\"><img src=\"../../../../../numbers/summation/__pv_it/common/30465670dddf17542ab6365d127631de40aa4f200/expr.png\" style=\"display:inline;vertical-align:middle;\" /></a></td></tr>\n",
       "<tr><td>39</td><td>Literal</td><td></td><td><a class=\"ProveItLink\" href=\"../../../../../logic/sets/membership/__pv_it/common/477487d8796864d23d5810f83761435f25167f690/expr.ipynb\"><img src=\"../../../../../logic/sets/membership/__pv_it/common/477487d8796864d23d5810f83761435f25167f690/expr.png\" style=\"display:inline;vertical-align:middle;\" /></a></td></tr>\n",
       "<tr><td>40</td><td>ExprTuple</td><td>43, 44</td><td><a class=\"ProveItLink\" href=\"../03742928b5d35a45febd8f0078a10fe1844f10720/expr.ipynb\"><img src=\"../03742928b5d35a45febd8f0078a10fe1844f10720/expr.png\" style=\"display:inline;vertical-align:middle;\" /></a></td></tr>\n",
       "<tr><td>41</td><td>Operation</td><td>operator:&nbsp;45<br>operands:&nbsp;47<br></td><td><a class=\"ProveItLink\" href=\"../../../../../numbers/summation/__pv_it/common/7bcf8af6554fa7d4e5743914f31215556feaa98c0/expr.ipynb\"><img src=\"../../../../../numbers/summation/__pv_it/common/7bcf8af6554fa7d4e5743914f31215556feaa98c0/expr.png\" style=\"display:inline;vertical-align:middle;\" /></a></td></tr>\n",
       "<tr><td>42</td><td>Operation</td><td>operator:&nbsp;46<br>operands:&nbsp;47<br></td><td><a class=\"ProveItLink\" href=\"../../../../../numbers/summation/__pv_it/common/b7a05d15a57d1e4b084e994131dfb32cfe0fdac30/expr.ipynb\"><img src=\"../../../../../numbers/summation/__pv_it/common/b7a05d15a57d1e4b084e994131dfb32cfe0fdac30/expr.png\" style=\"display:inline;vertical-align:middle;\" /></a></td></tr>\n",
       "<tr><td>43</td><td>IndexedVar</td><td>variable:&nbsp;48<br>index:&nbsp;56<br></td><td><a class=\"ProveItLink\" href=\"../../../../../core_expr_types/__pv_it/common/b7a46615d4e67a28ab963909b818c72af8e8e7c60/expr.ipynb\"><img src=\"../../../../../core_expr_types/__pv_it/common/b7a46615d4e67a28ab963909b818c72af8e8e7c60/expr.png\" style=\"display:inline;vertical-align:middle;\" /></a></td></tr>\n",
       "<tr><td>44</td><td>Literal</td><td></td><td><a class=\"ProveItLink\" href=\"../../../../../numbers/number_sets/complex_numbers/__pv_it/common/d18a028138f659eda00de597c28a3447fe87eb100/expr.ipynb\"><img src=\"../../../../../numbers/number_sets/complex_numbers/__pv_it/common/d18a028138f659eda00de597c28a3447fe87eb100/expr.png\" style=\"display:inline;vertical-align:middle;\" /></a></td></tr>\n",
       "<tr><td>45</td><td>Variable</td><td></td><td><a class=\"ProveItLink\" href=\"../../../../../__pv_it/common/01b6dbb444a31fc38af4c2379badef6c75b363710/expr.ipynb\"><img src=\"../../../../../__pv_it/common/01b6dbb444a31fc38af4c2379badef6c75b363710/expr.png\" style=\"display:inline;vertical-align:middle;\" /></a></td></tr>\n",
       "<tr><td>46</td><td>Variable</td><td></td><td><a class=\"ProveItLink\" href=\"../../../../../__pv_it/common/d72bb8b07403efe79afab564c36a28e21330e5f90/expr.ipynb\"><img src=\"../../../../../__pv_it/common/d72bb8b07403efe79afab564c36a28e21330e5f90/expr.png\" style=\"display:inline;vertical-align:middle;\" /></a></td></tr>\n",
       "<tr><td>47</td><td>ExprTuple</td><td>49</td><td><a class=\"ProveItLink\" href=\"../../../../../numbers/summation/__pv_it/common/012c9f5d21ff973afec8993018a8748215a3332a0/expr.ipynb\"><img src=\"../../../../../numbers/summation/__pv_it/common/012c9f5d21ff973afec8993018a8748215a3332a0/expr.png\" style=\"display:inline;vertical-align:middle;\" /></a></td></tr>\n",
       "<tr><td>48</td><td>Variable</td><td></td><td><a class=\"ProveItLink\" href=\"../../../../../__pv_it/common/a0d9d672aa5e272d907247690c152cc2c6daafb70/expr.ipynb\"><img src=\"../../../../../__pv_it/common/a0d9d672aa5e272d907247690c152cc2c6daafb70/expr.png\" style=\"display:inline;vertical-align:middle;\" /></a></td></tr>\n",
       "<tr><td>49</td><td>ExprRange</td><td>lambda_map:&nbsp;50<br>start_index:&nbsp;51<br>end_index:&nbsp;52<br></td><td><a class=\"ProveItLink\" href=\"../../../../../core_expr_types/__pv_it/common/d0e70829681f7e0560cecc174fdf76cb311d43400/expr.ipynb\"><img src=\"../../../../../core_expr_types/__pv_it/common/d0e70829681f7e0560cecc174fdf76cb311d43400/expr.png\" style=\"display:inline;vertical-align:middle;\" /></a></td></tr>\n",
       "<tr><td>50</td><td>Lambda</td><td>parameter:&nbsp;56<br>body:&nbsp;53<br></td><td><a class=\"ProveItLink\" href=\"../../../../../core_expr_types/__pv_it/common/d763764ede9c88a33f4b750791da02d1a21cb6820/expr.ipynb\"><img src=\"../../../../../core_expr_types/__pv_it/common/d763764ede9c88a33f4b750791da02d1a21cb6820/expr.png\" style=\"display:inline;vertical-align:middle;\" /></a></td></tr>\n",
       "<tr><td>51</td><td>Literal</td><td></td><td><a class=\"ProveItLink\" href=\"../../../../../numbers/numerals/__pv_it/common/682157d4892d216d9e5626ed533aff9b56b9506e0/expr.ipynb\"><img src=\"../../../../../numbers/numerals/__pv_it/common/682157d4892d216d9e5626ed533aff9b56b9506e0/expr.png\" style=\"display:inline;vertical-align:middle;\" /></a></td></tr>\n",
       "<tr><td>52</td><td>Variable</td><td></td><td><a class=\"ProveItLink\" href=\"../../../../../__pv_it/common/1ed21df18baca2f42b561a7ffbf30a2743d594650/expr.ipynb\"><img src=\"../../../../../__pv_it/common/1ed21df18baca2f42b561a7ffbf30a2743d594650/expr.png\" style=\"display:inline;vertical-align:middle;\" /></a></td></tr>\n",
       "<tr><td>53</td><td>IndexedVar</td><td>variable:&nbsp;54<br>index:&nbsp;56<br></td><td><a class=\"ProveItLink\" href=\"../../../../../core_expr_types/__pv_it/common/8542342c36565a593724a99f9c08d995c1c21af20/expr.ipynb\"><img src=\"../../../../../core_expr_types/__pv_it/common/8542342c36565a593724a99f9c08d995c1c21af20/expr.png\" style=\"display:inline;vertical-align:middle;\" /></a></td></tr>\n",
       "<tr><td>54</td><td>Variable</td><td></td><td><a class=\"ProveItLink\" href=\"../../../../../__pv_it/common/195236b98c6c564a75b5dbada74b173bc52d5c3e0/expr.ipynb\"><img src=\"../../../../../__pv_it/common/195236b98c6c564a75b5dbada74b173bc52d5c3e0/expr.png\" style=\"display:inline;vertical-align:middle;\" /></a></td></tr>\n",
       "<tr><td>55</td><td>ExprTuple</td><td>56</td><td><a class=\"ProveItLink\" href=\"../../../../../core_expr_types/__pv_it/common/4b0dd6be36d76552eda6a95d5b4a27f5a5b62f900/expr.ipynb\"><img src=\"../../../../../core_expr_types/__pv_it/common/4b0dd6be36d76552eda6a95d5b4a27f5a5b62f900/expr.png\" style=\"display:inline;vertical-align:middle;\" /></a></td></tr>\n",
       "<tr><td>56</td><td>Variable</td><td></td><td><a class=\"ProveItLink\" href=\"../../../../../core_expr_types/__pv_it/common/006c465e50948aa2b52285e2de47974f741255cc0/expr.ipynb\"><img src=\"../../../../../core_expr_types/__pv_it/common/006c465e50948aa2b52285e2de47974f741255cc0/expr.png\" style=\"display:inline;vertical-align:middle;\" /></a></td></tr>\n",
       "</table>\n"
      ],
      "text/plain": [
       "0. (f, Q) -> [forall_{n, j in NaturalPos} [forall_{x_{1}, x_{2}, ..., x_{n} in Complex} ([Sum_{b_{1}, b_{2}, ..., b_{j} | Q(b_{1}, b_{2}, ..., b_{j})} f(b_{1}, b_{2}, ..., b_{j})] = [Sum_{b_{1}, b_{2}, ..., b_{j} | Q(b_{1}, b_{2}, ..., b_{j})} f(b_{1}, b_{2}, ..., b_{j})])]]\n",
       "   core type: Lambda\n",
       "   parameters: 1\\n   body: 2\n",
       "1. (f, Q)\n",
       "   core type: ExprTuple\n",
       "   sub-expressions: 45, 46\n",
       "2. forall_{n, j in NaturalPos} [forall_{x_{1}, x_{2}, ..., x_{n} in Complex} ([Sum_{b_{1}, b_{2}, ..., b_{j} | Q(b_{1}, b_{2}, ..., b_{j})} f(b_{1}, b_{2}, ..., b_{j})] = [Sum_{b_{1}, b_{2}, ..., b_{j} | Q(b_{1}, b_{2}, ..., b_{j})} f(b_{1}, b_{2}, ..., b_{j})])]\n",
       "   core type: Operation\n",
       "   operator: 9\n",
       "   operand: 4\n",
       "3. ((n, j) -> {forall_{x_{1}, x_{2}, ..., x_{n} in Complex} ([Sum_{b_{1}, b_{2}, ..., b_{j} | Q(b_{1}, b_{2}, ..., b_{j})} f(b_{1}, b_{2}, ..., b_{j})] = [Sum_{b_{1}, b_{2}, ..., b_{j} | Q(b_{1}, b_{2}, ..., b_{j})} f(b_{1}, b_{2}, ..., b_{j})]) if n in NaturalPos ,  j in NaturalPos.)\n",
       "   core type: ExprTuple\n",
       "   sub-expressions: 4\n",
       "4. (n, j) -> {forall_{x_{1}, x_{2}, ..., x_{n} in Complex} ([Sum_{b_{1}, b_{2}, ..., b_{j} | Q(b_{1}, b_{2}, ..., b_{j})} f(b_{1}, b_{2}, ..., b_{j})] = [Sum_{b_{1}, b_{2}, ..., b_{j} | Q(b_{1}, b_{2}, ..., b_{j})} f(b_{1}, b_{2}, ..., b_{j})]) if n in NaturalPos ,  j in NaturalPos.\n",
       "   core type: Lambda\n",
       "   parameters: 5\\n   body: 6\n",
       "5. (n, j)\n",
       "   core type: ExprTuple\n",
       "   sub-expressions: 35, 52\n",
       "6. {forall_{x_{1}, x_{2}, ..., x_{n} in Complex} ([Sum_{b_{1}, b_{2}, ..., b_{j} | Q(b_{1}, b_{2}, ..., b_{j})} f(b_{1}, b_{2}, ..., b_{j})] = [Sum_{b_{1}, b_{2}, ..., b_{j} | Q(b_{1}, b_{2}, ..., b_{j})} f(b_{1}, b_{2}, ..., b_{j})]) if n in NaturalPos ,  j in NaturalPos.\n",
       "   core type: Conditional\n",
       "   value: 7\n",
       "   condition: 8\n",
       "7. forall_{x_{1}, x_{2}, ..., x_{n} in Complex} ([Sum_{b_{1}, b_{2}, ..., b_{j} | Q(b_{1}, b_{2}, ..., b_{j})} f(b_{1}, b_{2}, ..., b_{j})] = [Sum_{b_{1}, b_{2}, ..., b_{j} | Q(b_{1}, b_{2}, ..., b_{j})} f(b_{1}, b_{2}, ..., b_{j})])\n",
       "   core type: Operation\n",
       "   operator: 9\n",
       "   operand: 12\n",
       "8. (n in NaturalPos) and (j in NaturalPos)\n",
       "   core type: Operation\n",
       "   operator: 26\n",
       "   operands: 11\n",
       "9. forall\n",
       "   core type: Literal\n",
       "   sub-expressions: \n",
       "10. ((x_{1}, x_{2}, ..., x_{n}) -> {[Sum_{b_{1}, b_{2}, ..., b_{j} | Q(b_{1}, b_{2}, ..., b_{j})} f(b_{1}, b_{2}, ..., b_{j})] = [Sum_{b_{1}, b_{2}, ..., b_{j} | Q(b_{1}, b_{2}, ..., b_{j})} f(b_{1}, b_{2}, ..., b_{j})] if (x_{1} in Complex) and  (x_{2} in Complex) and  ... and  (x_{n} in Complex).)\n",
       "    core type: ExprTuple\n",
       "    sub-expressions: 12\n",
       "11. (n in NaturalPos, j in NaturalPos)\n",
       "    core type: ExprTuple\n",
       "    sub-expressions: 13, 14\n",
       "12. (x_{1}, x_{2}, ..., x_{n}) -> {[Sum_{b_{1}, b_{2}, ..., b_{j} | Q(b_{1}, b_{2}, ..., b_{j})} f(b_{1}, b_{2}, ..., b_{j})] = [Sum_{b_{1}, b_{2}, ..., b_{j} | Q(b_{1}, b_{2}, ..., b_{j})} f(b_{1}, b_{2}, ..., b_{j})] if (x_{1} in Complex) and  (x_{2} in Complex) and  ... and  (x_{n} in Complex).\n",
       "    core type: Lambda\n",
       "    parameters: 15\\n    body: 16\n",
       "13. n in NaturalPos\n",
       "    core type: Operation\n",
       "    operator: 39\n",
       "    operands: 17\n",
       "14. j in NaturalPos\n",
       "    core type: Operation\n",
       "    operator: 39\n",
       "    operands: 18\n",
       "15. (x_{1}, x_{2}, ..., x_{n})\n",
       "    core type: ExprTuple\n",
       "    sub-expressions: 19\n",
       "16. {[Sum_{b_{1}, b_{2}, ..., b_{j} | Q(b_{1}, b_{2}, ..., b_{j})} f(b_{1}, b_{2}, ..., b_{j})] = [Sum_{b_{1}, b_{2}, ..., b_{j} | Q(b_{1}, b_{2}, ..., b_{j})} f(b_{1}, b_{2}, ..., b_{j})] if (x_{1} in Complex) and  (x_{2} in Complex) and  ... and  (x_{n} in Complex).\n",
       "    core type: Conditional\n",
       "    value: 20\n",
       "    condition: 21\n",
       "17. (n, NaturalPos)\n",
       "    core type: ExprTuple\n",
       "    sub-expressions: 35, 22\n",
       "18. (j, NaturalPos)\n",
       "    core type: ExprTuple\n",
       "    sub-expressions: 52, 22\n",
       "19. x_{1}, x_{2}, ..., x_{n}\n",
       "    core type: ExprRange\n",
       "    lambda_map: 23\n",
       "    start_index: 51\n",
       "    end_index: 35\n",
       "20. [Sum_{b_{1}, b_{2}, ..., b_{j} | Q(b_{1}, b_{2}, ..., b_{j})} f(b_{1}, b_{2}, ..., b_{j})] = [Sum_{b_{1}, b_{2}, ..., b_{j} | Q(b_{1}, b_{2}, ..., b_{j})} f(b_{1}, b_{2}, ..., b_{j})]\n",
       "    core type: Operation\n",
       "    operator: 24\n",
       "    operands: 25\n",
       "21. (x_{1} in Complex) and  (x_{2} in Complex) and  ... and  (x_{n} in Complex)\n",
       "    core type: Operation\n",
       "    operator: 26\n",
       "    operands: 27\n",
       "22. NaturalPos\n",
       "    core type: Literal\n",
       "    sub-expressions: \n",
       "23. _a -> x_{_a}\n",
       "    core type: Lambda\n",
       "    parameter: 56\n",
       "    body: 43\n",
       "24. =\n",
       "    core type: Literal\n",
       "    sub-expressions: \n",
       "25. (Sum_{b_{1}, b_{2}, ..., b_{j} | Q(b_{1}, b_{2}, ..., b_{j})} f(b_{1}, b_{2}, ..., b_{j}), Sum_{b_{1}, b_{2}, ..., b_{j} | Q(b_{1}, b_{2}, ..., b_{j})} f(b_{1}, b_{2}, ..., b_{j}))\n",
       "    core type: ExprTuple\n",
       "    sub-expressions: 28, 29\n",
       "26. and\n",
       "    core type: Literal\n",
       "    sub-expressions: \n",
       "27. ((x_{1} in Complex), (x_{2} in Complex), ..., (x_{n} in Complex))\n",
       "    core type: ExprTuple\n",
       "    sub-expressions: 30\n",
       "28. Sum_{b_{1}, b_{2}, ..., b_{j} | Q(b_{1}, b_{2}, ..., b_{j})} f(b_{1}, b_{2}, ..., b_{j})\n",
       "    core type: Operation\n",
       "    operator: 31\n",
       "    operand: 36\n",
       "29. Sum_{b_{1}, b_{2}, ..., b_{j} | Q(b_{1}, b_{2}, ..., b_{j})} f(b_{1}, b_{2}, ..., b_{j})\n",
       "    core type: Operation\n",
       "    operator: 32\n",
       "    operand: 36\n",
       "30. (x_{1} in Complex), (x_{2} in Complex), ..., (x_{n} in Complex)\n",
       "    core type: ExprRange\n",
       "    lambda_map: 34\n",
       "    start_index: 51\n",
       "    end_index: 35\n",
       "31. Sum\n",
       "    core type: Literal\n",
       "    sub-expressions: \n",
       "32. Sum\n",
       "    core type: Literal\n",
       "    sub-expressions: \n",
       "33. ((b_{1}, b_{2}, ..., b_{j}) -> {f(b_{1}, b_{2}, ..., b_{j}) if Q(b_{1}, b_{2}, ..., b_{j}).)\n",
       "    core type: ExprTuple\n",
       "    sub-expressions: 36\n",
       "34. _a -> (x_{_a} in Complex)\n",
       "    core type: Lambda\n",
       "    parameter: 56\n",
       "    body: 37\n",
       "35. n\n",
       "    core type: Variable\n",
       "    sub-expressions: \n",
       "36. (b_{1}, b_{2}, ..., b_{j}) -> {f(b_{1}, b_{2}, ..., b_{j}) if Q(b_{1}, b_{2}, ..., b_{j}).\n",
       "    core type: Lambda\n",
       "    parameters: 47\\n    body: 38\n",
       "37. x_{_a} in Complex\n",
       "    core type: Operation\n",
       "    operator: 39\n",
       "    operands: 40\n",
       "38. {f(b_{1}, b_{2}, ..., b_{j}) if Q(b_{1}, b_{2}, ..., b_{j}).\n",
       "    core type: Conditional\n",
       "    value: 41\n",
       "    condition: 42\n",
       "39. in\n",
       "    core type: Literal\n",
       "    sub-expressions: \n",
       "40. (x_{_a}, Complex)\n",
       "    core type: ExprTuple\n",
       "    sub-expressions: 43, 44\n",
       "41. f(b_{1}, b_{2}, ..., b_{j})\n",
       "    core type: Operation\n",
       "    operator: 45\n",
       "    operands: 47\n",
       "42. Q(b_{1}, b_{2}, ..., b_{j})\n",
       "    core type: Operation\n",
       "    operator: 46\n",
       "    operands: 47\n",
       "43. x_{_a}\n",
       "    core type: IndexedVar\n",
       "variable: 48\n",
       "index: 56\n",
       "44. Complex\n",
       "    core type: Literal\n",
       "    sub-expressions: \n",
       "45. f\n",
       "    core type: Variable\n",
       "    sub-expressions: \n",
       "46. Q\n",
       "    core type: Variable\n",
       "    sub-expressions: \n",
       "47. (b_{1}, b_{2}, ..., b_{j})\n",
       "    core type: ExprTuple\n",
       "    sub-expressions: 49\n",
       "48. x\n",
       "    core type: Variable\n",
       "    sub-expressions: \n",
       "49. b_{1}, b_{2}, ..., b_{j}\n",
       "    core type: ExprRange\n",
       "    lambda_map: 50\n",
       "    start_index: 51\n",
       "    end_index: 52\n",
       "50. _a -> b_{_a}\n",
       "    core type: Lambda\n",
       "    parameter: 56\n",
       "    body: 53\n",
       "51. 1\n",
       "    core type: Literal\n",
       "    sub-expressions: \n",
       "52. j\n",
       "    core type: Variable\n",
       "    sub-expressions: \n",
       "53. b_{_a}\n",
       "    core type: IndexedVar\n",
       "variable: 54\n",
       "index: 56\n",
       "54. b\n",
       "    core type: Variable\n",
       "    sub-expressions: \n",
       "55. (_a)\n",
       "    core type: ExprTuple\n",
       "    sub-expressions: 56\n",
       "56. _a\n",
       "    core type: Variable\n",
       "    sub-expressions: "
      ]
     },
     "metadata": {},
     "output_type": "display_data"
    }
   ],
   "source": [
    "# display the expression information\n",
    "stored_expr.expr_info()"
   ]
  },
  {
   "cell_type": "code",
   "execution_count": null,
   "metadata": {},
   "outputs": [],
   "source": []
  }
 ],
 "metadata": {
  "kernelspec": {
   "display_name": "Python 3",
   "language": "python",
   "name": "python3"
  }
 },
 "nbformat": 4,
 "nbformat_minor": 0
}