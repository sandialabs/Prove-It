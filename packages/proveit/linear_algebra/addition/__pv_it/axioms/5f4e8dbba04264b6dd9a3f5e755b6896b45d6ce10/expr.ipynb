{
 "cells": [
  {
   "cell_type": "markdown",
   "metadata": {},
   "source": [
    "Expression of type <a class=\"ProveItLink\" href=\"../../../../../../../doc/html/api/proveit.Lambda.html\">Lambda</a>\n",
    "=======================\n",
    "# from the theory of <a class=\"ProveItLink\" href=\"../../../_theory_nbs_/theory.ipynb\">proveit.linear_algebra.addition</a>"
   ]
  },
  {
   "cell_type": "code",
   "execution_count": 1,
   "metadata": {},
   "outputs": [],
   "source": [
    "import proveit\n",
    "# Automation is not needed when building an expression:\n",
    "proveit.defaults.automation = False # This will speed things up.\n",
    "proveit.defaults.inline_pngs = False # Makes files smaller.\n",
    "%load_expr # Load the stored expression as 'stored_expr'\n",
    "# import Expression classes needed to build the expression\n",
    "from proveit import Lambda, a, b, i, v, vb, vi\n",
    "from proveit.linear_algebra import VecAdd, VecSum\n",
    "from proveit.logic import Equals, Forall\n",
    "from proveit.numbers import Integer, Interval, Less, one, subtract"
   ]
  },
  {
   "cell_type": "code",
   "execution_count": 2,
   "metadata": {},
   "outputs": [
    {
     "data": {
      "text/html": [
       "<strong id=\"expr\">expr:</strong> <a class=\"ProveItLink\" href=\"expr.ipynb\"><img src=\"expr.png\" style=\"display:inline;vertical-align:middle;\" /></a><br>"
      ],
      "text/plain": [
       "<IPython.core.display.HTML object>"
      ]
     },
     "metadata": {},
     "output_type": "display_data"
    }
   ],
   "source": [
    "# build up the expression from sub-expressions\n",
    "sub_expr1 = [i]\n",
    "expr = Lambda(v, Forall(instance_param_or_params = [a, b], instance_expr = Equals(VecSum(index_or_indices = sub_expr1, summand = vi, domain = Interval(a, b)), VecAdd(VecSum(index_or_indices = sub_expr1, summand = vi, domain = Interval(a, subtract(b, one))), vb)), domain = Integer, condition = Less(a, b)))"
   ]
  },
  {
   "cell_type": "code",
   "execution_count": 3,
   "metadata": {},
   "outputs": [
    {
     "name": "stdout",
     "output_type": "stream",
     "text": [
      "Passed sanity check: expr matches stored_expr\n"
     ]
    }
   ],
   "source": [
    "# check that the built expression is the same as the stored expression\n",
    "assert expr == stored_expr\n",
    "assert expr._style_id == stored_expr._style_id\n",
    "print(\"Passed sanity check: expr matches stored_expr\")"
   ]
  },
  {
   "cell_type": "code",
   "execution_count": 4,
   "metadata": {},
   "outputs": [
    {
     "name": "stdout",
     "output_type": "stream",
     "text": [
      "v \\mapsto \\left[\\forall_{a, b \\in \\mathbb{Z}~|~a < b}~\\left(\\left(\\sum_{i=a}^{b} v\\left(i\\right)\\right) = \\left(\\left(\\sum_{i=a}^{b - 1} v\\left(i\\right)\\right) + v\\left(b\\right)\\right)\\right)\\right]\n"
     ]
    }
   ],
   "source": [
    "# Show the LaTeX representation of the expression for convenience if you need it.\n",
    "print(stored_expr.latex())"
   ]
  },
  {
   "cell_type": "code",
   "execution_count": 5,
   "metadata": {},
   "outputs": [
    {
     "data": {
      "text/html": [
       "no style options"
      ],
      "text/plain": [
       "no style options"
      ]
     },
     "metadata": {},
     "output_type": "display_data"
    }
   ],
   "source": [
    "stored_expr.style_options()"
   ]
  },
  {
   "cell_type": "code",
   "execution_count": 6,
   "metadata": {},
   "outputs": [
    {
     "data": {
      "text/html": [
       "<table><tr><th>&nbsp;</th><th>core type</th><th>sub-expressions</th><th>expression</th></tr>\n",
       "<tr><td>0</td><td>Lambda</td><td>parameter:&nbsp;40<br>body:&nbsp;2<br></td><td><a class=\"ProveItLink\" href=\"expr.ipynb\"><img src=\"expr.png\" style=\"display:inline;vertical-align:middle;\" /></a></td></tr>\n",
       "<tr><td>1</td><td>ExprTuple</td><td>40</td><td><a class=\"ProveItLink\" href=\"../e1c6cd363607da77d3d48a5bdedf3c17cc448af00/expr.ipynb\"><img src=\"../e1c6cd363607da77d3d48a5bdedf3c17cc448af00/expr.png\" style=\"display:inline;vertical-align:middle;\" /></a></td></tr>\n",
       "<tr><td>2</td><td>Operation</td><td>operator:&nbsp;3<br>operand:&nbsp;5<br></td><td><a class=\"ProveItLink\" href=\"../6a1524423685392631634469e7351c0f25262a820/expr.ipynb\"><img src=\"../6a1524423685392631634469e7351c0f25262a820/expr.png\" style=\"display:inline;vertical-align:middle;\" /></a></td></tr>\n",
       "<tr><td>3</td><td>Literal</td><td></td><td><a class=\"ProveItLink\" href=\"../../../../../logic/booleans/quantification/universality/__pv_it/common/083d2baa0b8ecab1d230f9ec29a15aa1355809fb0/expr.ipynb\"><img src=\"../../../../../logic/booleans/quantification/universality/__pv_it/common/083d2baa0b8ecab1d230f9ec29a15aa1355809fb0/expr.png\" style=\"display:inline;vertical-align:middle;\" /></a></td></tr>\n",
       "<tr><td>4</td><td>ExprTuple</td><td>5</td><td><a class=\"ProveItLink\" href=\"../4a4f6a65646824851de4774ae10b8180b45e20610/expr.ipynb\"><img src=\"../4a4f6a65646824851de4774ae10b8180b45e20610/expr.png\" style=\"display:inline;vertical-align:middle;\" /></a></td></tr>\n",
       "<tr><td>5</td><td>Lambda</td><td>parameters:&nbsp;39<br>body:&nbsp;6<br></td><td><a class=\"ProveItLink\" href=\"../54dd15b2c3b656689e46e3a0321aabb2dbcbdb2c0/expr.ipynb\"><img src=\"../54dd15b2c3b656689e46e3a0321aabb2dbcbdb2c0/expr.png\" style=\"display:inline;vertical-align:middle;\" /></a></td></tr>\n",
       "<tr><td>6</td><td>Conditional</td><td>value:&nbsp;7<br>condition:&nbsp;8<br></td><td><a class=\"ProveItLink\" href=\"../7b687f600dce227244d7cb2287ce743be2c322590/expr.ipynb\"><img src=\"../7b687f600dce227244d7cb2287ce743be2c322590/expr.png\" style=\"display:inline;vertical-align:middle;\" /></a></td></tr>\n",
       "<tr><td>7</td><td>Operation</td><td>operator:&nbsp;9<br>operands:&nbsp;10<br></td><td><a class=\"ProveItLink\" href=\"../fe5da9d56b1ac1966d1b5e4c1639628feb3db4010/expr.ipynb\"><img src=\"../fe5da9d56b1ac1966d1b5e4c1639628feb3db4010/expr.png\" style=\"display:inline;vertical-align:middle;\" /></a></td></tr>\n",
       "<tr><td>8</td><td>Operation</td><td>operator:&nbsp;11<br>operands:&nbsp;12<br></td><td><a class=\"ProveItLink\" href=\"../3d65df9db1b2ae63dd17636a64e91dca0dde13020/expr.ipynb\"><img src=\"../3d65df9db1b2ae63dd17636a64e91dca0dde13020/expr.png\" style=\"display:inline;vertical-align:middle;\" /></a></td></tr>\n",
       "<tr><td>9</td><td>Literal</td><td></td><td><a class=\"ProveItLink\" href=\"../../../../../logic/equality/__pv_it/common/fb96dc12b2aa8801dda64d0132b396c63d1502bb0/expr.ipynb\"><img src=\"../../../../../logic/equality/__pv_it/common/fb96dc12b2aa8801dda64d0132b396c63d1502bb0/expr.png\" style=\"display:inline;vertical-align:middle;\" /></a></td></tr>\n",
       "<tr><td>10</td><td>ExprTuple</td><td>13, 14</td><td><a class=\"ProveItLink\" href=\"../79e102b73c60c4771b792dee4d09115067979d230/expr.ipynb\"><img src=\"../79e102b73c60c4771b792dee4d09115067979d230/expr.png\" style=\"display:inline;vertical-align:middle;\" /></a></td></tr>\n",
       "<tr><td>11</td><td>Literal</td><td></td><td><a class=\"ProveItLink\" href=\"../../../../../logic/booleans/conjunction/__pv_it/common/42118ff318bd65d98b1393f64ce7c2269feef76e0/expr.ipynb\"><img src=\"../../../../../logic/booleans/conjunction/__pv_it/common/42118ff318bd65d98b1393f64ce7c2269feef76e0/expr.png\" style=\"display:inline;vertical-align:middle;\" /></a></td></tr>\n",
       "<tr><td>12</td><td>ExprTuple</td><td>15, 16, 17</td><td><a class=\"ProveItLink\" href=\"../5cf999002fe9b23cd7433b8f79f081580cc7bce10/expr.ipynb\"><img src=\"../5cf999002fe9b23cd7433b8f79f081580cc7bce10/expr.png\" style=\"display:inline;vertical-align:middle;\" /></a></td></tr>\n",
       "<tr><td>13</td><td>Operation</td><td>operator:&nbsp;29<br>operand:&nbsp;24<br></td><td><a class=\"ProveItLink\" href=\"../2ce0468711d2f26bf2b7b7f668c8070a437475130/expr.ipynb\"><img src=\"../2ce0468711d2f26bf2b7b7f668c8070a437475130/expr.png\" style=\"display:inline;vertical-align:middle;\" /></a></td></tr>\n",
       "<tr><td>14</td><td>Operation</td><td>operator:&nbsp;19<br>operands:&nbsp;20<br></td><td><a class=\"ProveItLink\" href=\"../d4ee7fdcd2e446140902f50fc1eec715ec4d4bcf0/expr.ipynb\"><img src=\"../d4ee7fdcd2e446140902f50fc1eec715ec4d4bcf0/expr.png\" style=\"display:inline;vertical-align:middle;\" /></a></td></tr>\n",
       "<tr><td>15</td><td>Operation</td><td>operator:&nbsp;42<br>operands:&nbsp;21<br></td><td><a class=\"ProveItLink\" href=\"../d8d02d2a77383d238ed10b8fda7965dfafa87db90/expr.ipynb\"><img src=\"../d8d02d2a77383d238ed10b8fda7965dfafa87db90/expr.png\" style=\"display:inline;vertical-align:middle;\" /></a></td></tr>\n",
       "<tr><td>16</td><td>Operation</td><td>operator:&nbsp;42<br>operands:&nbsp;22<br></td><td><a class=\"ProveItLink\" href=\"../035e0ae7bd8c0fe127ee5d2062443d6c874adcdd0/expr.ipynb\"><img src=\"../035e0ae7bd8c0fe127ee5d2062443d6c874adcdd0/expr.png\" style=\"display:inline;vertical-align:middle;\" /></a></td></tr>\n",
       "<tr><td>17</td><td>Operation</td><td>operator:&nbsp;23<br>operands:&nbsp;39<br></td><td><a class=\"ProveItLink\" href=\"../3b3bab3cd8d8551dd21bf1f81e14445c3cb711db0/expr.ipynb\"><img src=\"../3b3bab3cd8d8551dd21bf1f81e14445c3cb711db0/expr.png\" style=\"display:inline;vertical-align:middle;\" /></a></td></tr>\n",
       "<tr><td>18</td><td>ExprTuple</td><td>24</td><td><a class=\"ProveItLink\" href=\"../65862bae3c0569f88aafe29ae916b807b6c609400/expr.ipynb\"><img src=\"../65862bae3c0569f88aafe29ae916b807b6c609400/expr.png\" style=\"display:inline;vertical-align:middle;\" /></a></td></tr>\n",
       "<tr><td>19</td><td>Literal</td><td></td><td><a class=\"ProveItLink\" href=\"../../common/ac3c140c9094f065c7f7db15c94558731443639c0/expr.ipynb\"><img src=\"../../common/ac3c140c9094f065c7f7db15c94558731443639c0/expr.png\" style=\"display:inline;vertical-align:middle;\" /></a></td></tr>\n",
       "<tr><td>20</td><td>ExprTuple</td><td>25, 26</td><td><a class=\"ProveItLink\" href=\"../b5cc0114c4e36f551ddd205ec5be9a44ce84d4fb0/expr.ipynb\"><img src=\"../b5cc0114c4e36f551ddd205ec5be9a44ce84d4fb0/expr.png\" style=\"display:inline;vertical-align:middle;\" /></a></td></tr>\n",
       "<tr><td>21</td><td>ExprTuple</td><td>48, 27</td><td><a class=\"ProveItLink\" href=\"../6381f047505cef51bfb3432d8df76f1cfff47cae0/expr.ipynb\"><img src=\"../6381f047505cef51bfb3432d8df76f1cfff47cae0/expr.png\" style=\"display:inline;vertical-align:middle;\" /></a></td></tr>\n",
       "<tr><td>22</td><td>ExprTuple</td><td>52, 27</td><td><a class=\"ProveItLink\" href=\"../7a5273c178c04cb3ce78308074ba517705b130f80/expr.ipynb\"><img src=\"../7a5273c178c04cb3ce78308074ba517705b130f80/expr.png\" style=\"display:inline;vertical-align:middle;\" /></a></td></tr>\n",
       "<tr><td>23</td><td>Literal</td><td></td><td><a class=\"ProveItLink\" href=\"../../../../../numbers/ordering/__pv_it/common/fa503ed52033522c609eef1cf3e1b45796489da50/expr.ipynb\"><img src=\"../../../../../numbers/ordering/__pv_it/common/fa503ed52033522c609eef1cf3e1b45796489da50/expr.png\" style=\"display:inline;vertical-align:middle;\" /></a></td></tr>\n",
       "<tr><td>24</td><td>Lambda</td><td>parameter:&nbsp;44<br>body:&nbsp;28<br></td><td><a class=\"ProveItLink\" href=\"../545331b0ef11f87a0ed045f48046d6573665a7bd0/expr.ipynb\"><img src=\"../545331b0ef11f87a0ed045f48046d6573665a7bd0/expr.png\" style=\"display:inline;vertical-align:middle;\" /></a></td></tr>\n",
       "<tr><td>25</td><td>Operation</td><td>operator:&nbsp;29<br>operand:&nbsp;33<br></td><td><a class=\"ProveItLink\" href=\"../c44eeed35a2d4d275e46b186b000f0b816494bcd0/expr.ipynb\"><img src=\"../c44eeed35a2d4d275e46b186b000f0b816494bcd0/expr.png\" style=\"display:inline;vertical-align:middle;\" /></a></td></tr>\n",
       "<tr><td>26</td><td>Operation</td><td>operator:&nbsp;40<br>operand:&nbsp;52<br></td><td><a class=\"ProveItLink\" href=\"../../../../../__pv_it/common/13e8cceaa9c68c27f0dbeabe8976df3c93c218510/expr.ipynb\"><img src=\"../../../../../__pv_it/common/13e8cceaa9c68c27f0dbeabe8976df3c93c218510/expr.png\" style=\"display:inline;vertical-align:middle;\" /></a></td></tr>\n",
       "<tr><td>27</td><td>Literal</td><td></td><td><a class=\"ProveItLink\" href=\"../../../../../numbers/number_sets/integers/__pv_it/common/e6b4e90f9467053e055a4fd2f735c0bb79cb79300/expr.ipynb\"><img src=\"../../../../../numbers/number_sets/integers/__pv_it/common/e6b4e90f9467053e055a4fd2f735c0bb79cb79300/expr.png\" style=\"display:inline;vertical-align:middle;\" /></a></td></tr>\n",
       "<tr><td>28</td><td>Conditional</td><td>value:&nbsp;37<br>condition:&nbsp;32<br></td><td><a class=\"ProveItLink\" href=\"../e881cf68f92a1f457767e708427eef6920dc7a1d0/expr.ipynb\"><img src=\"../e881cf68f92a1f457767e708427eef6920dc7a1d0/expr.png\" style=\"display:inline;vertical-align:middle;\" /></a></td></tr>\n",
       "<tr><td>29</td><td>Literal</td><td></td><td><a class=\"ProveItLink\" href=\"../../common/62f73c830c62efb87627ede5678f282081cd0ce20/expr.ipynb\"><img src=\"../../common/62f73c830c62efb87627ede5678f282081cd0ce20/expr.png\" style=\"display:inline;vertical-align:middle;\" /></a></td></tr>\n",
       "<tr><td>30</td><td>ExprTuple</td><td>33</td><td><a class=\"ProveItLink\" href=\"../822b0dad763c2751b37c6de8d9c7bc55ea0912b80/expr.ipynb\"><img src=\"../822b0dad763c2751b37c6de8d9c7bc55ea0912b80/expr.png\" style=\"display:inline;vertical-align:middle;\" /></a></td></tr>\n",
       "<tr><td>31</td><td>ExprTuple</td><td>52</td><td><a class=\"ProveItLink\" href=\"../../../../../__pv_it/common/aa9afb286c61bdccbd2125a13442930aa7bfad490/expr.ipynb\"><img src=\"../../../../../__pv_it/common/aa9afb286c61bdccbd2125a13442930aa7bfad490/expr.png\" style=\"display:inline;vertical-align:middle;\" /></a></td></tr>\n",
       "<tr><td>32</td><td>Operation</td><td>operator:&nbsp;42<br>operands:&nbsp;34<br></td><td><a class=\"ProveItLink\" href=\"../649e25044b70f4a7cf1e60bd1fdec4b99a4a799e0/expr.ipynb\"><img src=\"../649e25044b70f4a7cf1e60bd1fdec4b99a4a799e0/expr.png\" style=\"display:inline;vertical-align:middle;\" /></a></td></tr>\n",
       "<tr><td>33</td><td>Lambda</td><td>parameter:&nbsp;44<br>body:&nbsp;35<br></td><td><a class=\"ProveItLink\" href=\"../e106d8d7b556ed1bdce247267c644df10816d3820/expr.ipynb\"><img src=\"../e106d8d7b556ed1bdce247267c644df10816d3820/expr.png\" style=\"display:inline;vertical-align:middle;\" /></a></td></tr>\n",
       "<tr><td>34</td><td>ExprTuple</td><td>44, 36</td><td><a class=\"ProveItLink\" href=\"../555befaf31fe5fb4efb2e4d1e9d76182e9a1f2e10/expr.ipynb\"><img src=\"../555befaf31fe5fb4efb2e4d1e9d76182e9a1f2e10/expr.png\" style=\"display:inline;vertical-align:middle;\" /></a></td></tr>\n",
       "<tr><td>35</td><td>Conditional</td><td>value:&nbsp;37<br>condition:&nbsp;38<br></td><td><a class=\"ProveItLink\" href=\"../db381c32eb866de180686d126cf3fcf2a482bc370/expr.ipynb\"><img src=\"../db381c32eb866de180686d126cf3fcf2a482bc370/expr.png\" style=\"display:inline;vertical-align:middle;\" /></a></td></tr>\n",
       "<tr><td>36</td><td>Operation</td><td>operator:&nbsp;46<br>operands:&nbsp;39<br></td><td><a class=\"ProveItLink\" href=\"../498872fecc183ccfbbe24c2b7a9ae11a74603e9a0/expr.ipynb\"><img src=\"../498872fecc183ccfbbe24c2b7a9ae11a74603e9a0/expr.png\" style=\"display:inline;vertical-align:middle;\" /></a></td></tr>\n",
       "<tr><td>37</td><td>Operation</td><td>operator:&nbsp;40<br>operand:&nbsp;44<br></td><td><a class=\"ProveItLink\" href=\"../../../../../__pv_it/common/f63b93109c631afbf6471ab6c2dc0807d57b8b890/expr.ipynb\"><img src=\"../../../../../__pv_it/common/f63b93109c631afbf6471ab6c2dc0807d57b8b890/expr.png\" style=\"display:inline;vertical-align:middle;\" /></a></td></tr>\n",
       "<tr><td>38</td><td>Operation</td><td>operator:&nbsp;42<br>operands:&nbsp;43<br></td><td><a class=\"ProveItLink\" href=\"../0a553b35eeb157d89bf19b4e98a5a8f4f5d2a4b90/expr.ipynb\"><img src=\"../0a553b35eeb157d89bf19b4e98a5a8f4f5d2a4b90/expr.png\" style=\"display:inline;vertical-align:middle;\" /></a></td></tr>\n",
       "<tr><td>39</td><td>ExprTuple</td><td>48, 52</td><td><a class=\"ProveItLink\" href=\"../3dcd5ceea6334d8cb48fe14fdae236293aa9a6050/expr.ipynb\"><img src=\"../3dcd5ceea6334d8cb48fe14fdae236293aa9a6050/expr.png\" style=\"display:inline;vertical-align:middle;\" /></a></td></tr>\n",
       "<tr><td>40</td><td>Variable</td><td></td><td><a class=\"ProveItLink\" href=\"../../../../../__pv_it/common/a4b9661da9b52dcebf59c5559fec8901f4df10750/expr.ipynb\"><img src=\"../../../../../__pv_it/common/a4b9661da9b52dcebf59c5559fec8901f4df10750/expr.png\" style=\"display:inline;vertical-align:middle;\" /></a></td></tr>\n",
       "<tr><td>41</td><td>ExprTuple</td><td>44</td><td><a class=\"ProveItLink\" href=\"../../../../../__pv_it/common/3b7d7ace2ced0a8261ea4d18d03aaf49e434d69d0/expr.ipynb\"><img src=\"../../../../../__pv_it/common/3b7d7ace2ced0a8261ea4d18d03aaf49e434d69d0/expr.png\" style=\"display:inline;vertical-align:middle;\" /></a></td></tr>\n",
       "<tr><td>42</td><td>Literal</td><td></td><td><a class=\"ProveItLink\" href=\"../../../../../logic/sets/membership/__pv_it/common/477487d8796864d23d5810f83761435f25167f690/expr.ipynb\"><img src=\"../../../../../logic/sets/membership/__pv_it/common/477487d8796864d23d5810f83761435f25167f690/expr.png\" style=\"display:inline;vertical-align:middle;\" /></a></td></tr>\n",
       "<tr><td>43</td><td>ExprTuple</td><td>44, 45</td><td><a class=\"ProveItLink\" href=\"../5aa4d594c42b84f5dfa917ff4a59c1a9cf5d0a6d0/expr.ipynb\"><img src=\"../5aa4d594c42b84f5dfa917ff4a59c1a9cf5d0a6d0/expr.png\" style=\"display:inline;vertical-align:middle;\" /></a></td></tr>\n",
       "<tr><td>44</td><td>Variable</td><td></td><td><a class=\"ProveItLink\" href=\"../../../../../__pv_it/common/ae955345c83abf786c3aff8681cd5465beae262d0/expr.ipynb\"><img src=\"../../../../../__pv_it/common/ae955345c83abf786c3aff8681cd5465beae262d0/expr.png\" style=\"display:inline;vertical-align:middle;\" /></a></td></tr>\n",
       "<tr><td>45</td><td>Operation</td><td>operator:&nbsp;46<br>operands:&nbsp;47<br></td><td><a class=\"ProveItLink\" href=\"../991a6c6a0f29aa348cee01e40f8be0b6c4ea51c80/expr.ipynb\"><img src=\"../991a6c6a0f29aa348cee01e40f8be0b6c4ea51c80/expr.png\" style=\"display:inline;vertical-align:middle;\" /></a></td></tr>\n",
       "<tr><td>46</td><td>Literal</td><td></td><td><a class=\"ProveItLink\" href=\"../../../../../numbers/number_sets/integers/__pv_it/common/92f3a0a77e3c3ea8e4a5c8674edadc54e4f57d550/expr.ipynb\"><img src=\"../../../../../numbers/number_sets/integers/__pv_it/common/92f3a0a77e3c3ea8e4a5c8674edadc54e4f57d550/expr.png\" style=\"display:inline;vertical-align:middle;\" /></a></td></tr>\n",
       "<tr><td>47</td><td>ExprTuple</td><td>48, 49</td><td><a class=\"ProveItLink\" href=\"../a47c0f4d9445040c0704ff299ad0a2415d41384e0/expr.ipynb\"><img src=\"../a47c0f4d9445040c0704ff299ad0a2415d41384e0/expr.png\" style=\"display:inline;vertical-align:middle;\" /></a></td></tr>\n",
       "<tr><td>48</td><td>Variable</td><td></td><td><a class=\"ProveItLink\" href=\"../../../../../__pv_it/common/c06c606ec12678c58933ac85412ecadc2ae28be60/expr.ipynb\"><img src=\"../../../../../__pv_it/common/c06c606ec12678c58933ac85412ecadc2ae28be60/expr.png\" style=\"display:inline;vertical-align:middle;\" /></a></td></tr>\n",
       "<tr><td>49</td><td>Operation</td><td>operator:&nbsp;50<br>operands:&nbsp;51<br></td><td><a class=\"ProveItLink\" href=\"../dd19a868e42df65e76971323c8242698753b17220/expr.ipynb\"><img src=\"../dd19a868e42df65e76971323c8242698753b17220/expr.png\" style=\"display:inline;vertical-align:middle;\" /></a></td></tr>\n",
       "<tr><td>50</td><td>Literal</td><td></td><td><a class=\"ProveItLink\" href=\"../../../../../numbers/addition/__pv_it/common/4b7effaab3619a1c2c38fe2dee8601df8ec714590/expr.ipynb\"><img src=\"../../../../../numbers/addition/__pv_it/common/4b7effaab3619a1c2c38fe2dee8601df8ec714590/expr.png\" style=\"display:inline;vertical-align:middle;\" /></a></td></tr>\n",
       "<tr><td>51</td><td>ExprTuple</td><td>52, 53</td><td><a class=\"ProveItLink\" href=\"../8a0d75b277078973bb4484d5b50816048c5b71a70/expr.ipynb\"><img src=\"../8a0d75b277078973bb4484d5b50816048c5b71a70/expr.png\" style=\"display:inline;vertical-align:middle;\" /></a></td></tr>\n",
       "<tr><td>52</td><td>Variable</td><td></td><td><a class=\"ProveItLink\" href=\"../../../../../__pv_it/common/195236b98c6c564a75b5dbada74b173bc52d5c3e0/expr.ipynb\"><img src=\"../../../../../__pv_it/common/195236b98c6c564a75b5dbada74b173bc52d5c3e0/expr.png\" style=\"display:inline;vertical-align:middle;\" /></a></td></tr>\n",
       "<tr><td>53</td><td>Operation</td><td>operator:&nbsp;54<br>operand:&nbsp;56<br></td><td><a class=\"ProveItLink\" href=\"../bf4beda21975fe8a0a5007615b5bcc943da59bb20/expr.ipynb\"><img src=\"../bf4beda21975fe8a0a5007615b5bcc943da59bb20/expr.png\" style=\"display:inline;vertical-align:middle;\" /></a></td></tr>\n",
       "<tr><td>54</td><td>Literal</td><td></td><td><a class=\"ProveItLink\" href=\"../../../../../numbers/negation/__pv_it/common/221b3c4d1770ee9051b7c044c3f9ec61196fc34b0/expr.ipynb\"><img src=\"../../../../../numbers/negation/__pv_it/common/221b3c4d1770ee9051b7c044c3f9ec61196fc34b0/expr.png\" style=\"display:inline;vertical-align:middle;\" /></a></td></tr>\n",
       "<tr><td>55</td><td>ExprTuple</td><td>56</td><td><a class=\"ProveItLink\" href=\"../b9e4f0dffece176bbe2f36127440684a20e0468e0/expr.ipynb\"><img src=\"../b9e4f0dffece176bbe2f36127440684a20e0468e0/expr.png\" style=\"display:inline;vertical-align:middle;\" /></a></td></tr>\n",
       "<tr><td>56</td><td>Literal</td><td></td><td><a class=\"ProveItLink\" href=\"../../../../../numbers/numerals/__pv_it/common/682157d4892d216d9e5626ed533aff9b56b9506e0/expr.ipynb\"><img src=\"../../../../../numbers/numerals/__pv_it/common/682157d4892d216d9e5626ed533aff9b56b9506e0/expr.png\" style=\"display:inline;vertical-align:middle;\" /></a></td></tr>\n",
       "</table>\n"
      ],
      "text/plain": [
       "0. v -> [forall_{a, b in Integer | a < b} ((Sum_{i=a}^{b} v(i)) = ((Sum_{i=a}^{b - 1} v(i)) + v(b)))]\n",
       "   core type: Lambda\n",
       "   parameter: 40\n",
       "   body: 2\n",
       "1. (v)\n",
       "   core type: ExprTuple\n",
       "   sub-expressions: 40\n",
       "2. forall_{a, b in Integer | a < b} ((Sum_{i=a}^{b} v(i)) = ((Sum_{i=a}^{b - 1} v(i)) + v(b)))\n",
       "   core type: Operation\n",
       "   operator: 3\n",
       "   operand: 5\n",
       "3. forall\n",
       "   core type: Literal\n",
       "   sub-expressions: \n",
       "4. ((a, b) -> {(Sum_{i=a}^{b} v(i)) = ((Sum_{i=a}^{b - 1} v(i)) + v(b)) if a in Integer ,  b in Integer ,  a < b.)\n",
       "   core type: ExprTuple\n",
       "   sub-expressions: 5\n",
       "5. (a, b) -> {(Sum_{i=a}^{b} v(i)) = ((Sum_{i=a}^{b - 1} v(i)) + v(b)) if a in Integer ,  b in Integer ,  a < b.\n",
       "   core type: Lambda\n",
       "   parameters: 39\\n   body: 6\n",
       "6. {(Sum_{i=a}^{b} v(i)) = ((Sum_{i=a}^{b - 1} v(i)) + v(b)) if a in Integer ,  b in Integer ,  a < b.\n",
       "   core type: Conditional\n",
       "   value: 7\n",
       "   condition: 8\n",
       "7. (Sum_{i=a}^{b} v(i)) = ((Sum_{i=a}^{b - 1} v(i)) + v(b))\n",
       "   core type: Operation\n",
       "   operator: 9\n",
       "   operands: 10\n",
       "8. (a in Integer) and (b in Integer) and (a < b)\n",
       "   core type: Operation\n",
       "   operator: 11\n",
       "   operands: 12\n",
       "9. =\n",
       "   core type: Literal\n",
       "   sub-expressions: \n",
       "10. (Sum_{i=a}^{b} v(i), (Sum_{i=a}^{b - 1} v(i)) + v(b))\n",
       "    core type: ExprTuple\n",
       "    sub-expressions: 13, 14\n",
       "11. and\n",
       "    core type: Literal\n",
       "    sub-expressions: \n",
       "12. (a in Integer, b in Integer, a < b)\n",
       "    core type: ExprTuple\n",
       "    sub-expressions: 15, 16, 17\n",
       "13. Sum_{i=a}^{b} v(i)\n",
       "    core type: Operation\n",
       "    operator: 29\n",
       "    operand: 24\n",
       "14. (Sum_{i=a}^{b - 1} v(i)) + v(b)\n",
       "    core type: Operation\n",
       "    operator: 19\n",
       "    operands: 20\n",
       "15. a in Integer\n",
       "    core type: Operation\n",
       "    operator: 42\n",
       "    operands: 21\n",
       "16. b in Integer\n",
       "    core type: Operation\n",
       "    operator: 42\n",
       "    operands: 22\n",
       "17. a < b\n",
       "    core type: Operation\n",
       "    operator: 23\n",
       "    operands: 39\n",
       "18. (i -> {v(i) if i in {a .. b}.)\n",
       "    core type: ExprTuple\n",
       "    sub-expressions: 24\n",
       "19. +\n",
       "    core type: Literal\n",
       "    sub-expressions: \n",
       "20. (Sum_{i=a}^{b - 1} v(i), v(b))\n",
       "    core type: ExprTuple\n",
       "    sub-expressions: 25, 26\n",
       "21. (a, Integer)\n",
       "    core type: ExprTuple\n",
       "    sub-expressions: 48, 27\n",
       "22. (b, Integer)\n",
       "    core type: ExprTuple\n",
       "    sub-expressions: 52, 27\n",
       "23. <\n",
       "    core type: Literal\n",
       "    sub-expressions: \n",
       "24. i -> {v(i) if i in {a .. b}.\n",
       "    core type: Lambda\n",
       "    parameter: 44\n",
       "    body: 28\n",
       "25. Sum_{i=a}^{b - 1} v(i)\n",
       "    core type: Operation\n",
       "    operator: 29\n",
       "    operand: 33\n",
       "26. v(b)\n",
       "    core type: Operation\n",
       "    operator: 40\n",
       "    operand: 52\n",
       "27. Integer\n",
       "    core type: Literal\n",
       "    sub-expressions: \n",
       "28. {v(i) if i in {a .. b}.\n",
       "    core type: Conditional\n",
       "    value: 37\n",
       "    condition: 32\n",
       "29. Sum\n",
       "    core type: Literal\n",
       "    sub-expressions: \n",
       "30. (i -> {v(i) if i in {a .. b - 1}.)\n",
       "    core type: ExprTuple\n",
       "    sub-expressions: 33\n",
       "31. (b)\n",
       "    core type: ExprTuple\n",
       "    sub-expressions: 52\n",
       "32. i in {a .. b}\n",
       "    core type: Operation\n",
       "    operator: 42\n",
       "    operands: 34\n",
       "33. i -> {v(i) if i in {a .. b - 1}.\n",
       "    core type: Lambda\n",
       "    parameter: 44\n",
       "    body: 35\n",
       "34. (i, {a .. b})\n",
       "    core type: ExprTuple\n",
       "    sub-expressions: 44, 36\n",
       "35. {v(i) if i in {a .. b - 1}.\n",
       "    core type: Conditional\n",
       "    value: 37\n",
       "    condition: 38\n",
       "36. {a .. b}\n",
       "    core type: Operation\n",
       "    operator: 46\n",
       "    operands: 39\n",
       "37. v(i)\n",
       "    core type: Operation\n",
       "    operator: 40\n",
       "    operand: 44\n",
       "38. i in {a .. b - 1}\n",
       "    core type: Operation\n",
       "    operator: 42\n",
       "    operands: 43\n",
       "39. (a, b)\n",
       "    core type: ExprTuple\n",
       "    sub-expressions: 48, 52\n",
       "40. v\n",
       "    core type: Variable\n",
       "    sub-expressions: \n",
       "41. (i)\n",
       "    core type: ExprTuple\n",
       "    sub-expressions: 44\n",
       "42. in\n",
       "    core type: Literal\n",
       "    sub-expressions: \n",
       "43. (i, {a .. b - 1})\n",
       "    core type: ExprTuple\n",
       "    sub-expressions: 44, 45\n",
       "44. i\n",
       "    core type: Variable\n",
       "    sub-expressions: \n",
       "45. {a .. b - 1}\n",
       "    core type: Operation\n",
       "    operator: 46\n",
       "    operands: 47\n",
       "46. Interval\n",
       "    core type: Literal\n",
       "    sub-expressions: \n",
       "47. (a, b - 1)\n",
       "    core type: ExprTuple\n",
       "    sub-expressions: 48, 49\n",
       "48. a\n",
       "    core type: Variable\n",
       "    sub-expressions: \n",
       "49. b - 1\n",
       "    core type: Operation\n",
       "    operator: 50\n",
       "    operands: 51\n",
       "50. +\n",
       "    core type: Literal\n",
       "    sub-expressions: \n",
       "51. (b, -1)\n",
       "    core type: ExprTuple\n",
       "    sub-expressions: 52, 53\n",
       "52. b\n",
       "    core type: Variable\n",
       "    sub-expressions: \n",
       "53. -1\n",
       "    core type: Operation\n",
       "    operator: 54\n",
       "    operand: 56\n",
       "54. -\n",
       "    core type: Literal\n",
       "    sub-expressions: \n",
       "55. (1)\n",
       "    core type: ExprTuple\n",
       "    sub-expressions: 56\n",
       "56. 1\n",
       "    core type: Literal\n",
       "    sub-expressions: "
      ]
     },
     "metadata": {},
     "output_type": "display_data"
    }
   ],
   "source": [
    "# display the expression information\n",
    "stored_expr.expr_info()"
   ]
  },
  {
   "cell_type": "code",
   "execution_count": null,
   "metadata": {},
   "outputs": [],
   "source": []
  }
 ],
 "metadata": {
  "kernelspec": {
   "display_name": "Python 3",
   "language": "python",
   "name": "python3"
  }
 },
 "nbformat": 4,
 "nbformat_minor": 0
}