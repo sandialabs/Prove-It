{
 "cells": [
  {
   "cell_type": "markdown",
   "metadata": {},
   "source": [
    "Expression of type <a class=\"ProveItLink\" href=\"../../../../../../doc/html/api/proveit.logic.Forall.html\">Forall</a>\n",
    "=======================\n",
    "# from the theory of <a class=\"ProveItLink\" href=\"../../../_theory_nbs_/theory.ipynb\">proveit.linear_algebra</a>"
   ]
  },
  {
   "cell_type": "code",
   "execution_count": 1,
   "metadata": {},
   "outputs": [],
   "source": [
    "import proveit\n",
    "# Automation is not needed when building an expression:\n",
    "proveit.defaults.automation = False # This will speed things up.\n",
    "proveit.defaults.inline_pngs = False # Makes files smaller.\n",
    "%load_expr # Load the stored expression as 'stored_expr'\n",
    "# import Expression classes needed to build the expression\n",
    "from proveit import Function, S, T, V, W, v\n",
    "from proveit.linear_algebra import LinMap, LinMapAdd\n",
    "from proveit.logic import Equals, Forall\n",
    "from proveit.numbers import Add"
   ]
  },
  {
   "cell_type": "code",
   "execution_count": 2,
   "metadata": {},
   "outputs": [
    {
     "data": {
      "text/html": [
       "<strong id=\"expr\">expr:</strong> <a class=\"ProveItLink\" href=\"expr.ipynb\"><img src=\"expr.png\" style=\"display:inline;vertical-align:middle;\" /></a><br>"
      ],
      "text/plain": [
       "<IPython.core.display.HTML object>"
      ]
     },
     "metadata": {},
     "output_type": "display_data"
    }
   ],
   "source": [
    "# build up the expression from sub-expressions\n",
    "sub_expr1 = [v]\n",
    "expr = Forall(instance_param_or_params = [V, W], instance_expr = Forall(instance_param_or_params = [S, T], instance_expr = Forall(instance_param_or_params = sub_expr1, instance_expr = Equals(Function(LinMapAdd(S, T), sub_expr1), Add(Function(S, sub_expr1), Function(T, sub_expr1))), domain = V), domain = LinMap(V, W)))"
   ]
  },
  {
   "cell_type": "code",
   "execution_count": 3,
   "metadata": {},
   "outputs": [
    {
     "name": "stdout",
     "output_type": "stream",
     "text": [
      "Passed sanity check: expr matches stored_expr\n"
     ]
    }
   ],
   "source": [
    "# check that the built expression is the same as the stored expression\n",
    "assert expr == stored_expr\n",
    "assert expr._style_id == stored_expr._style_id\n",
    "print(\"Passed sanity check: expr matches stored_expr\")"
   ]
  },
  {
   "cell_type": "code",
   "execution_count": 4,
   "metadata": {},
   "outputs": [
    {
     "name": "stdout",
     "output_type": "stream",
     "text": [
      "\\forall_{V, W}~\\left[\\forall_{S, T \\in \\mathcal{L}\\left(V, W\\right)}~\\left[\\forall_{v \\in V}~\\left(\\left(S + T\\right)\\left(v\\right) = \\left(S\\left(v\\right) + T\\left(v\\right)\\right)\\right)\\right]\\right]\n"
     ]
    }
   ],
   "source": [
    "# Show the LaTeX representation of the expression for convenience if you need it.\n",
    "print(stored_expr.latex())"
   ]
  },
  {
   "cell_type": "code",
   "execution_count": 5,
   "metadata": {},
   "outputs": [
    {
     "data": {
      "text/html": [
       "<table>\n",
       "<tr><th>name</th><th>description</th><th>default</th><th>current value</th><th>related methods</th></tr><tr><td>with_wrapping</td><td>If 'True', wrap the Expression after the parameters</td><td>None</td><td>None/False</td><td>('with_wrapping',)</td></tr>\n",
       "<tr><td>condition_wrapping</td><td>Wrap 'before' or 'after' the condition (or None).</td><td>None</td><td>None/False</td><td>('with_wrap_after_condition', 'with_wrap_before_condition')</td></tr>\n",
       "<tr><td>wrap_params</td><td>If 'True', wraps every two parameters AND wraps the Expression after the parameters</td><td>None</td><td>None/False</td><td>('with_params',)</td></tr>\n",
       "<tr><td>justification</td><td>justify to the 'left', 'center', or 'right' in the array cells</td><td>center</td><td>center</td><td>('with_justification',)</td></tr>\n",
       "</table>\n"
      ],
      "text/plain": [
       "style name: with_wrapping\n",
       "description: If 'True', wrap the Expression after the parameters\n",
       "default: None\n",
       "current value: None/False\n",
       "related methods: ('with_wrapping',)\n",
       "style name: condition_wrapping\n",
       "description: Wrap 'before' or 'after' the condition (or None).\n",
       "default: None\n",
       "current value: None/False\n",
       "related methods: ('with_wrap_after_condition', 'with_wrap_before_condition')\n",
       "style name: wrap_params\n",
       "description: If 'True', wraps every two parameters AND wraps the Expression after the parameters\n",
       "default: None\n",
       "current value: None/False\n",
       "related methods: ('with_params',)\n",
       "style name: justification\n",
       "description: justify to the 'left', 'center', or 'right' in the array cells\n",
       "default: center\n",
       "current value: center\n",
       "related methods: ('with_justification',)"
      ]
     },
     "metadata": {},
     "output_type": "display_data"
    }
   ],
   "source": [
    "stored_expr.style_options()"
   ]
  },
  {
   "cell_type": "code",
   "execution_count": 6,
   "metadata": {},
   "outputs": [
    {
     "data": {
      "text/html": [
       "<table><tr><th>&nbsp;</th><th>core type</th><th>sub-expressions</th><th>expression</th></tr>\n",
       "<tr><td>0</td><td>Operation</td><td>operator:&nbsp;9<br>operand:&nbsp;2<br></td><td><a class=\"ProveItLink\" href=\"expr.ipynb\"><img src=\"expr.png\" style=\"display:inline;vertical-align:middle;\" /></a></td></tr>\n",
       "<tr><td>1</td><td>ExprTuple</td><td>2</td><td><a class=\"ProveItLink\" href=\"../056d4ffa6fba83d8284b2e96df8b4171fe017c1e0/expr.ipynb\"><img src=\"../056d4ffa6fba83d8284b2e96df8b4171fe017c1e0/expr.png\" style=\"display:inline;vertical-align:middle;\" /></a></td></tr>\n",
       "<tr><td>2</td><td>Lambda</td><td>parameters:&nbsp;27<br>body:&nbsp;3<br></td><td><a class=\"ProveItLink\" href=\"../4d8af5611b1017ea28c3446ea374b9b40e354f950/expr.ipynb\"><img src=\"../4d8af5611b1017ea28c3446ea374b9b40e354f950/expr.png\" style=\"display:inline;vertical-align:middle;\" /></a></td></tr>\n",
       "<tr><td>3</td><td>Operation</td><td>operator:&nbsp;9<br>operand:&nbsp;5<br></td><td><a class=\"ProveItLink\" href=\"../5cdd4b5446a2b41a9421ce6054a13889929513cb0/expr.ipynb\"><img src=\"../5cdd4b5446a2b41a9421ce6054a13889929513cb0/expr.png\" style=\"display:inline;vertical-align:middle;\" /></a></td></tr>\n",
       "<tr><td>4</td><td>ExprTuple</td><td>5</td><td><a class=\"ProveItLink\" href=\"../cdbb12c48dc640d5504ad62e4b24ae227fb25d790/expr.ipynb\"><img src=\"../cdbb12c48dc640d5504ad62e4b24ae227fb25d790/expr.png\" style=\"display:inline;vertical-align:middle;\" /></a></td></tr>\n",
       "<tr><td>5</td><td>Lambda</td><td>parameters:&nbsp;36<br>body:&nbsp;6<br></td><td><a class=\"ProveItLink\" href=\"../84c6976098d3eb818c6aed47b587148bb6f5321e0/expr.ipynb\"><img src=\"../84c6976098d3eb818c6aed47b587148bb6f5321e0/expr.png\" style=\"display:inline;vertical-align:middle;\" /></a></td></tr>\n",
       "<tr><td>6</td><td>Conditional</td><td>value:&nbsp;7<br>condition:&nbsp;8<br></td><td><a class=\"ProveItLink\" href=\"../3f28009d8b6a158cb742eff220b6ef4476591d140/expr.ipynb\"><img src=\"../3f28009d8b6a158cb742eff220b6ef4476591d140/expr.png\" style=\"display:inline;vertical-align:middle;\" /></a></td></tr>\n",
       "<tr><td>7</td><td>Operation</td><td>operator:&nbsp;9<br>operand:&nbsp;13<br></td><td><a class=\"ProveItLink\" href=\"../ddbffa005cbd157c8fd5342c6890c08cbe3e030e0/expr.ipynb\"><img src=\"../ddbffa005cbd157c8fd5342c6890c08cbe3e030e0/expr.png\" style=\"display:inline;vertical-align:middle;\" /></a></td></tr>\n",
       "<tr><td>8</td><td>Operation</td><td>operator:&nbsp;11<br>operands:&nbsp;12<br></td><td><a class=\"ProveItLink\" href=\"../959eb45509e1e687b15fe77f0de9a7e803a731630/expr.ipynb\"><img src=\"../959eb45509e1e687b15fe77f0de9a7e803a731630/expr.png\" style=\"display:inline;vertical-align:middle;\" /></a></td></tr>\n",
       "<tr><td>9</td><td>Literal</td><td></td><td><a class=\"ProveItLink\" href=\"../../../../logic/booleans/quantification/universality/__pv_it/common/083d2baa0b8ecab1d230f9ec29a15aa1355809fb0/expr.ipynb\"><img src=\"../../../../logic/booleans/quantification/universality/__pv_it/common/083d2baa0b8ecab1d230f9ec29a15aa1355809fb0/expr.png\" style=\"display:inline;vertical-align:middle;\" /></a></td></tr>\n",
       "<tr><td>10</td><td>ExprTuple</td><td>13</td><td><a class=\"ProveItLink\" href=\"../66e237913ecd3a164acc73b991919e720b077a920/expr.ipynb\"><img src=\"../66e237913ecd3a164acc73b991919e720b077a920/expr.png\" style=\"display:inline;vertical-align:middle;\" /></a></td></tr>\n",
       "<tr><td>11</td><td>Literal</td><td></td><td><a class=\"ProveItLink\" href=\"../../../../logic/booleans/conjunction/__pv_it/common/42118ff318bd65d98b1393f64ce7c2269feef76e0/expr.ipynb\"><img src=\"../../../../logic/booleans/conjunction/__pv_it/common/42118ff318bd65d98b1393f64ce7c2269feef76e0/expr.png\" style=\"display:inline;vertical-align:middle;\" /></a></td></tr>\n",
       "<tr><td>12</td><td>ExprTuple</td><td>14, 15</td><td><a class=\"ProveItLink\" href=\"../fdd98e6d592bcb85b6e194be862f7a8677a890d80/expr.ipynb\"><img src=\"../fdd98e6d592bcb85b6e194be862f7a8677a890d80/expr.png\" style=\"display:inline;vertical-align:middle;\" /></a></td></tr>\n",
       "<tr><td>13</td><td>Lambda</td><td>parameter:&nbsp;42<br>body:&nbsp;16<br></td><td><a class=\"ProveItLink\" href=\"../c42a1cd8aeebf0d656df9f67e3a8a5e10dfdaa950/expr.ipynb\"><img src=\"../c42a1cd8aeebf0d656df9f67e3a8a5e10dfdaa950/expr.png\" style=\"display:inline;vertical-align:middle;\" /></a></td></tr>\n",
       "<tr><td>14</td><td>Operation</td><td>operator:&nbsp;24<br>operands:&nbsp;17<br></td><td><a class=\"ProveItLink\" href=\"../c6ed6425dca292ea907e3c984d8f2a80d85da9ec0/expr.ipynb\"><img src=\"../c6ed6425dca292ea907e3c984d8f2a80d85da9ec0/expr.png\" style=\"display:inline;vertical-align:middle;\" /></a></td></tr>\n",
       "<tr><td>15</td><td>Operation</td><td>operator:&nbsp;24<br>operands:&nbsp;18<br></td><td><a class=\"ProveItLink\" href=\"../7ae6fe646c19cbf5652a4a9909526cdbfa33f0720/expr.ipynb\"><img src=\"../7ae6fe646c19cbf5652a4a9909526cdbfa33f0720/expr.png\" style=\"display:inline;vertical-align:middle;\" /></a></td></tr>\n",
       "<tr><td>16</td><td>Conditional</td><td>value:&nbsp;19<br>condition:&nbsp;20<br></td><td><a class=\"ProveItLink\" href=\"../4c323de15da0ddae0d72045d5c6885c89c0d9f8b0/expr.ipynb\"><img src=\"../4c323de15da0ddae0d72045d5c6885c89c0d9f8b0/expr.png\" style=\"display:inline;vertical-align:middle;\" /></a></td></tr>\n",
       "<tr><td>17</td><td>ExprTuple</td><td>39, 21</td><td><a class=\"ProveItLink\" href=\"../4b58dc23ecf546b28bde0af6da446d87ce29486d0/expr.ipynb\"><img src=\"../4b58dc23ecf546b28bde0af6da446d87ce29486d0/expr.png\" style=\"display:inline;vertical-align:middle;\" /></a></td></tr>\n",
       "<tr><td>18</td><td>ExprTuple</td><td>40, 21</td><td><a class=\"ProveItLink\" href=\"../aa158ea7dc282429e426c3ea8aeb72a74304d4940/expr.ipynb\"><img src=\"../aa158ea7dc282429e426c3ea8aeb72a74304d4940/expr.png\" style=\"display:inline;vertical-align:middle;\" /></a></td></tr>\n",
       "<tr><td>19</td><td>Operation</td><td>operator:&nbsp;22<br>operands:&nbsp;23<br></td><td><a class=\"ProveItLink\" href=\"../132b21d0311fabb36958380bd5775016bacce25c0/expr.ipynb\"><img src=\"../132b21d0311fabb36958380bd5775016bacce25c0/expr.png\" style=\"display:inline;vertical-align:middle;\" /></a></td></tr>\n",
       "<tr><td>20</td><td>Operation</td><td>operator:&nbsp;24<br>operands:&nbsp;25<br></td><td><a class=\"ProveItLink\" href=\"../cb54d96b24fc3f59d4e803235a6602263db471040/expr.ipynb\"><img src=\"../cb54d96b24fc3f59d4e803235a6602263db471040/expr.png\" style=\"display:inline;vertical-align:middle;\" /></a></td></tr>\n",
       "<tr><td>21</td><td>Operation</td><td>operator:&nbsp;26<br>operands:&nbsp;27<br></td><td><a class=\"ProveItLink\" href=\"../ef68050fc2ab0ac62ed2b4e7fce607485a4437700/expr.ipynb\"><img src=\"../ef68050fc2ab0ac62ed2b4e7fce607485a4437700/expr.png\" style=\"display:inline;vertical-align:middle;\" /></a></td></tr>\n",
       "<tr><td>22</td><td>Literal</td><td></td><td><a class=\"ProveItLink\" href=\"../../../../logic/equality/__pv_it/common/fb96dc12b2aa8801dda64d0132b396c63d1502bb0/expr.ipynb\"><img src=\"../../../../logic/equality/__pv_it/common/fb96dc12b2aa8801dda64d0132b396c63d1502bb0/expr.png\" style=\"display:inline;vertical-align:middle;\" /></a></td></tr>\n",
       "<tr><td>23</td><td>ExprTuple</td><td>28, 29</td><td><a class=\"ProveItLink\" href=\"../ad17c77178624883107c58cf5f77d9889c04dd1b0/expr.ipynb\"><img src=\"../ad17c77178624883107c58cf5f77d9889c04dd1b0/expr.png\" style=\"display:inline;vertical-align:middle;\" /></a></td></tr>\n",
       "<tr><td>24</td><td>Literal</td><td></td><td><a class=\"ProveItLink\" href=\"../../../../logic/sets/membership/__pv_it/common/477487d8796864d23d5810f83761435f25167f690/expr.ipynb\"><img src=\"../../../../logic/sets/membership/__pv_it/common/477487d8796864d23d5810f83761435f25167f690/expr.png\" style=\"display:inline;vertical-align:middle;\" /></a></td></tr>\n",
       "<tr><td>25</td><td>ExprTuple</td><td>42, 30</td><td><a class=\"ProveItLink\" href=\"../fe91924ad72f2e130ae61bf42112798be82f3eca0/expr.ipynb\"><img src=\"../fe91924ad72f2e130ae61bf42112798be82f3eca0/expr.png\" style=\"display:inline;vertical-align:middle;\" /></a></td></tr>\n",
       "<tr><td>26</td><td>Literal</td><td></td><td><a class=\"ProveItLink\" href=\"../../../linear_maps/__pv_it/common/d323a251b3f504c3443ff8de393dbf12697838a10/expr.ipynb\"><img src=\"../../../linear_maps/__pv_it/common/d323a251b3f504c3443ff8de393dbf12697838a10/expr.png\" style=\"display:inline;vertical-align:middle;\" /></a></td></tr>\n",
       "<tr><td>27</td><td>ExprTuple</td><td>30, 31</td><td><a class=\"ProveItLink\" href=\"../17f47d0c62e96b84adf1cf942f7788a19249d4cd0/expr.ipynb\"><img src=\"../17f47d0c62e96b84adf1cf942f7788a19249d4cd0/expr.png\" style=\"display:inline;vertical-align:middle;\" /></a></td></tr>\n",
       "<tr><td>28</td><td>Operation</td><td>operator:&nbsp;32<br>operand:&nbsp;42<br></td><td><a class=\"ProveItLink\" href=\"../a48f4bad01b9d6d5d22686ce1f48c53832938ece0/expr.ipynb\"><img src=\"../a48f4bad01b9d6d5d22686ce1f48c53832938ece0/expr.png\" style=\"display:inline;vertical-align:middle;\" /></a></td></tr>\n",
       "<tr><td>29</td><td>Operation</td><td>operator:&nbsp;33<br>operands:&nbsp;34<br></td><td><a class=\"ProveItLink\" href=\"../1fee83371a6cd6a5d6c9bc4c1a031fdb2bdec3470/expr.ipynb\"><img src=\"../1fee83371a6cd6a5d6c9bc4c1a031fdb2bdec3470/expr.png\" style=\"display:inline;vertical-align:middle;\" /></a></td></tr>\n",
       "<tr><td>30</td><td>Variable</td><td></td><td><a class=\"ProveItLink\" href=\"../../../../__pv_it/common/6d80eb1398b2335bf9ec427954b851b7094dced50/expr.ipynb\"><img src=\"../../../../__pv_it/common/6d80eb1398b2335bf9ec427954b851b7094dced50/expr.png\" style=\"display:inline;vertical-align:middle;\" /></a></td></tr>\n",
       "<tr><td>31</td><td>Variable</td><td></td><td><a class=\"ProveItLink\" href=\"../../../../__pv_it/common/be2a62cde606eb0642ab6f06c6e4aa2c50ff45540/expr.ipynb\"><img src=\"../../../../__pv_it/common/be2a62cde606eb0642ab6f06c6e4aa2c50ff45540/expr.png\" style=\"display:inline;vertical-align:middle;\" /></a></td></tr>\n",
       "<tr><td>32</td><td>Operation</td><td>operator:&nbsp;35<br>operands:&nbsp;36<br></td><td><a class=\"ProveItLink\" href=\"../2529661fcf1c52344abc22d0c442a5792bc7a90a0/expr.ipynb\"><img src=\"../2529661fcf1c52344abc22d0c442a5792bc7a90a0/expr.png\" style=\"display:inline;vertical-align:middle;\" /></a></td></tr>\n",
       "<tr><td>33</td><td>Literal</td><td></td><td><a class=\"ProveItLink\" href=\"../../../../numbers/addition/__pv_it/common/4b7effaab3619a1c2c38fe2dee8601df8ec714590/expr.ipynb\"><img src=\"../../../../numbers/addition/__pv_it/common/4b7effaab3619a1c2c38fe2dee8601df8ec714590/expr.png\" style=\"display:inline;vertical-align:middle;\" /></a></td></tr>\n",
       "<tr><td>34</td><td>ExprTuple</td><td>37, 38</td><td><a class=\"ProveItLink\" href=\"../85eaf8f5877e21baa5d686fcd9aa3447ace56b9a0/expr.ipynb\"><img src=\"../85eaf8f5877e21baa5d686fcd9aa3447ace56b9a0/expr.png\" style=\"display:inline;vertical-align:middle;\" /></a></td></tr>\n",
       "<tr><td>35</td><td>Literal</td><td></td><td><a class=\"ProveItLink\" href=\"../../../linear_maps/__pv_it/common/22170c15c0f7fac32eaa0d026ec5ad206a97f9660/expr.ipynb\"><img src=\"../../../linear_maps/__pv_it/common/22170c15c0f7fac32eaa0d026ec5ad206a97f9660/expr.png\" style=\"display:inline;vertical-align:middle;\" /></a></td></tr>\n",
       "<tr><td>36</td><td>ExprTuple</td><td>39, 40</td><td><a class=\"ProveItLink\" href=\"../d08154e2a0686abe721893274a9e9b4b684286fb0/expr.ipynb\"><img src=\"../d08154e2a0686abe721893274a9e9b4b684286fb0/expr.png\" style=\"display:inline;vertical-align:middle;\" /></a></td></tr>\n",
       "<tr><td>37</td><td>Operation</td><td>operator:&nbsp;39<br>operand:&nbsp;42<br></td><td><a class=\"ProveItLink\" href=\"../7b5355a6f84ab09856b3b7ef7b2d161fb80b46340/expr.ipynb\"><img src=\"../7b5355a6f84ab09856b3b7ef7b2d161fb80b46340/expr.png\" style=\"display:inline;vertical-align:middle;\" /></a></td></tr>\n",
       "<tr><td>38</td><td>Operation</td><td>operator:&nbsp;40<br>operand:&nbsp;42<br></td><td><a class=\"ProveItLink\" href=\"../36fef6526f6cbda591a92168bb48fc7eba1f34960/expr.ipynb\"><img src=\"../36fef6526f6cbda591a92168bb48fc7eba1f34960/expr.png\" style=\"display:inline;vertical-align:middle;\" /></a></td></tr>\n",
       "<tr><td>39</td><td>Variable</td><td></td><td><a class=\"ProveItLink\" href=\"../../../../__pv_it/common/38f47c5670ea8c5b56253448e95d8afb56bc09b40/expr.ipynb\"><img src=\"../../../../__pv_it/common/38f47c5670ea8c5b56253448e95d8afb56bc09b40/expr.png\" style=\"display:inline;vertical-align:middle;\" /></a></td></tr>\n",
       "<tr><td>40</td><td>Variable</td><td></td><td><a class=\"ProveItLink\" href=\"../../../../__pv_it/common/69c70dfa5f18cd09af12f2dcafa9764efe6f8cbd0/expr.ipynb\"><img src=\"../../../../__pv_it/common/69c70dfa5f18cd09af12f2dcafa9764efe6f8cbd0/expr.png\" style=\"display:inline;vertical-align:middle;\" /></a></td></tr>\n",
       "<tr><td>41</td><td>ExprTuple</td><td>42</td><td><a class=\"ProveItLink\" href=\"../e1c6cd363607da77d3d48a5bdedf3c17cc448af00/expr.ipynb\"><img src=\"../e1c6cd363607da77d3d48a5bdedf3c17cc448af00/expr.png\" style=\"display:inline;vertical-align:middle;\" /></a></td></tr>\n",
       "<tr><td>42</td><td>Variable</td><td></td><td><a class=\"ProveItLink\" href=\"../../../../__pv_it/common/a4b9661da9b52dcebf59c5559fec8901f4df10750/expr.ipynb\"><img src=\"../../../../__pv_it/common/a4b9661da9b52dcebf59c5559fec8901f4df10750/expr.png\" style=\"display:inline;vertical-align:middle;\" /></a></td></tr>\n",
       "</table>\n"
      ],
      "text/plain": [
       "0. forall_{V, W} [forall_{S, T in LINMAP(V, W)} [forall_{v in V} ((S + T)(v) = (S(v) + T(v)))]]\n",
       "   core type: Operation\n",
       "   operator: 9\n",
       "   operand: 2\n",
       "1. ((V, W) -> [forall_{S, T in LINMAP(V, W)} [forall_{v in V} ((S + T)(v) = (S(v) + T(v)))]])\n",
       "   core type: ExprTuple\n",
       "   sub-expressions: 2\n",
       "2. (V, W) -> [forall_{S, T in LINMAP(V, W)} [forall_{v in V} ((S + T)(v) = (S(v) + T(v)))]]\n",
       "   core type: Lambda\n",
       "   parameters: 27\\n   body: 3\n",
       "3. forall_{S, T in LINMAP(V, W)} [forall_{v in V} ((S + T)(v) = (S(v) + T(v)))]\n",
       "   core type: Operation\n",
       "   operator: 9\n",
       "   operand: 5\n",
       "4. ((S, T) -> {forall_{v in V} ((S + T)(v) = (S(v) + T(v))) if S in LINMAP(V, W) ,  T in LINMAP(V, W).)\n",
       "   core type: ExprTuple\n",
       "   sub-expressions: 5\n",
       "5. (S, T) -> {forall_{v in V} ((S + T)(v) = (S(v) + T(v))) if S in LINMAP(V, W) ,  T in LINMAP(V, W).\n",
       "   core type: Lambda\n",
       "   parameters: 36\\n   body: 6\n",
       "6. {forall_{v in V} ((S + T)(v) = (S(v) + T(v))) if S in LINMAP(V, W) ,  T in LINMAP(V, W).\n",
       "   core type: Conditional\n",
       "   value: 7\n",
       "   condition: 8\n",
       "7. forall_{v in V} ((S + T)(v) = (S(v) + T(v)))\n",
       "   core type: Operation\n",
       "   operator: 9\n",
       "   operand: 13\n",
       "8. (S in LINMAP(V, W)) and (T in LINMAP(V, W))\n",
       "   core type: Operation\n",
       "   operator: 11\n",
       "   operands: 12\n",
       "9. forall\n",
       "   core type: Literal\n",
       "   sub-expressions: \n",
       "10. (v -> {(S + T)(v) = (S(v) + T(v)) if v in V.)\n",
       "    core type: ExprTuple\n",
       "    sub-expressions: 13\n",
       "11. and\n",
       "    core type: Literal\n",
       "    sub-expressions: \n",
       "12. (S in LINMAP(V, W), T in LINMAP(V, W))\n",
       "    core type: ExprTuple\n",
       "    sub-expressions: 14, 15\n",
       "13. v -> {(S + T)(v) = (S(v) + T(v)) if v in V.\n",
       "    core type: Lambda\n",
       "    parameter: 42\n",
       "    body: 16\n",
       "14. S in LINMAP(V, W)\n",
       "    core type: Operation\n",
       "    operator: 24\n",
       "    operands: 17\n",
       "15. T in LINMAP(V, W)\n",
       "    core type: Operation\n",
       "    operator: 24\n",
       "    operands: 18\n",
       "16. {(S + T)(v) = (S(v) + T(v)) if v in V.\n",
       "    core type: Conditional\n",
       "    value: 19\n",
       "    condition: 20\n",
       "17. (S, LINMAP(V, W))\n",
       "    core type: ExprTuple\n",
       "    sub-expressions: 39, 21\n",
       "18. (T, LINMAP(V, W))\n",
       "    core type: ExprTuple\n",
       "    sub-expressions: 40, 21\n",
       "19. (S + T)(v) = (S(v) + T(v))\n",
       "    core type: Operation\n",
       "    operator: 22\n",
       "    operands: 23\n",
       "20. v in V\n",
       "    core type: Operation\n",
       "    operator: 24\n",
       "    operands: 25\n",
       "21. LINMAP(V, W)\n",
       "    core type: Operation\n",
       "    operator: 26\n",
       "    operands: 27\n",
       "22. =\n",
       "    core type: Literal\n",
       "    sub-expressions: \n",
       "23. ((S + T)(v), S(v) + T(v))\n",
       "    core type: ExprTuple\n",
       "    sub-expressions: 28, 29\n",
       "24. in\n",
       "    core type: Literal\n",
       "    sub-expressions: \n",
       "25. (v, V)\n",
       "    core type: ExprTuple\n",
       "    sub-expressions: 42, 30\n",
       "26. LINMAP\n",
       "    core type: Literal\n",
       "    sub-expressions: \n",
       "27. (V, W)\n",
       "    core type: ExprTuple\n",
       "    sub-expressions: 30, 31\n",
       "28. (S + T)(v)\n",
       "    core type: Operation\n",
       "    operator: 32\n",
       "    operand: 42\n",
       "29. S(v) + T(v)\n",
       "    core type: Operation\n",
       "    operator: 33\n",
       "    operands: 34\n",
       "30. V\n",
       "    core type: Variable\n",
       "    sub-expressions: \n",
       "31. W\n",
       "    core type: Variable\n",
       "    sub-expressions: \n",
       "32. S + T\n",
       "    core type: Operation\n",
       "    operator: 35\n",
       "    operands: 36\n",
       "33. +\n",
       "    core type: Literal\n",
       "    sub-expressions: \n",
       "34. (S(v), T(v))\n",
       "    core type: ExprTuple\n",
       "    sub-expressions: 37, 38\n",
       "35. +\n",
       "    core type: Literal\n",
       "    sub-expressions: \n",
       "36. (S, T)\n",
       "    core type: ExprTuple\n",
       "    sub-expressions: 39, 40\n",
       "37. S(v)\n",
       "    core type: Operation\n",
       "    operator: 39\n",
       "    operand: 42\n",
       "38. T(v)\n",
       "    core type: Operation\n",
       "    operator: 40\n",
       "    operand: 42\n",
       "39. S\n",
       "    core type: Variable\n",
       "    sub-expressions: \n",
       "40. T\n",
       "    core type: Variable\n",
       "    sub-expressions: \n",
       "41. (v)\n",
       "    core type: ExprTuple\n",
       "    sub-expressions: 42\n",
       "42. v\n",
       "    core type: Variable\n",
       "    sub-expressions: "
      ]
     },
     "metadata": {},
     "output_type": "display_data"
    }
   ],
   "source": [
    "# display the expression information\n",
    "stored_expr.expr_info()"
   ]
  },
  {
   "cell_type": "code",
   "execution_count": null,
   "metadata": {},
   "outputs": [],
   "source": []
  }
 ],
 "metadata": {
  "kernelspec": {
   "display_name": "Python 3",
   "language": "python",
   "name": "python3"
  }
 },
 "nbformat": 4,
 "nbformat_minor": 0
}