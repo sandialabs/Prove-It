{
 "cells": [
  {
   "cell_type": "markdown",
   "metadata": {},
   "source": [
    "Expression of type <a class=\"ProveItLink\" href=\"../../../../../../doc/html/api/proveit.Lambda.html\">Lambda</a>\n",
    "=======================\n",
    "# from the theory of <a class=\"ProveItLink\" href=\"../../../_theory_nbs_/theory.ipynb\">proveit.linear_algebra</a>"
   ]
  },
  {
   "cell_type": "code",
   "execution_count": 1,
   "metadata": {},
   "outputs": [],
   "source": [
    "import proveit\n",
    "# Automation is not needed when building an expression:\n",
    "proveit.defaults.automation = False # This will speed things up.\n",
    "proveit.defaults.inline_pngs = False # Makes files smaller.\n",
    "%load_expr # Load the stored expression as 'stored_expr'\n",
    "# import Expression classes needed to build the expression\n",
    "from proveit import Conditional, Function, Lambda, S, T, V, v\n",
    "from proveit.linear_algebra import LinMapAdd\n",
    "from proveit.logic import Equals, InSet\n",
    "from proveit.numbers import Add"
   ]
  },
  {
   "cell_type": "code",
   "execution_count": 2,
   "metadata": {},
   "outputs": [
    {
     "data": {
      "text/html": [
       "<strong id=\"expr\">expr:</strong> <a class=\"ProveItLink\" href=\"expr.ipynb\"><img src=\"expr.png\" style=\"display:inline;vertical-align:middle;\" /></a><br>"
      ],
      "text/plain": [
       "<IPython.core.display.HTML object>"
      ]
     },
     "metadata": {},
     "output_type": "display_data"
    }
   ],
   "source": [
    "# build up the expression from sub-expressions\n",
    "sub_expr1 = [v]\n",
    "expr = Lambda(v, Conditional(Equals(Function(LinMapAdd(S, T), sub_expr1), Add(Function(S, sub_expr1), Function(T, sub_expr1))), InSet(v, V)))"
   ]
  },
  {
   "cell_type": "code",
   "execution_count": 3,
   "metadata": {},
   "outputs": [
    {
     "name": "stdout",
     "output_type": "stream",
     "text": [
      "Passed sanity check: expr matches stored_expr\n"
     ]
    }
   ],
   "source": [
    "# check that the built expression is the same as the stored expression\n",
    "assert expr == stored_expr\n",
    "assert expr._style_id == stored_expr._style_id\n",
    "print(\"Passed sanity check: expr matches stored_expr\")"
   ]
  },
  {
   "cell_type": "code",
   "execution_count": 4,
   "metadata": {},
   "outputs": [
    {
     "name": "stdout",
     "output_type": "stream",
     "text": [
      "v \\mapsto \\left\\{\\left(S + T\\right)\\left(v\\right) = \\left(S\\left(v\\right) + T\\left(v\\right)\\right) \\textrm{ if } v \\in V\\right..\n"
     ]
    }
   ],
   "source": [
    "# Show the LaTeX representation of the expression for convenience if you need it.\n",
    "print(stored_expr.latex())"
   ]
  },
  {
   "cell_type": "code",
   "execution_count": 5,
   "metadata": {},
   "outputs": [
    {
     "data": {
      "text/html": [
       "no style options"
      ],
      "text/plain": [
       "no style options"
      ]
     },
     "metadata": {},
     "output_type": "display_data"
    }
   ],
   "source": [
    "stored_expr.style_options()"
   ]
  },
  {
   "cell_type": "code",
   "execution_count": 6,
   "metadata": {},
   "outputs": [
    {
     "data": {
      "text/html": [
       "<table><tr><th>&nbsp;</th><th>core type</th><th>sub-expressions</th><th>expression</th></tr>\n",
       "<tr><td>0</td><td>Lambda</td><td>parameter:&nbsp;21<br>body:&nbsp;1<br></td><td><a class=\"ProveItLink\" href=\"expr.ipynb\"><img src=\"expr.png\" style=\"display:inline;vertical-align:middle;\" /></a></td></tr>\n",
       "<tr><td>1</td><td>Conditional</td><td>value:&nbsp;2<br>condition:&nbsp;3<br></td><td><a class=\"ProveItLink\" href=\"../4c323de15da0ddae0d72045d5c6885c89c0d9f8b0/expr.ipynb\"><img src=\"../4c323de15da0ddae0d72045d5c6885c89c0d9f8b0/expr.png\" style=\"display:inline;vertical-align:middle;\" /></a></td></tr>\n",
       "<tr><td>2</td><td>Operation</td><td>operator:&nbsp;4<br>operands:&nbsp;5<br></td><td><a class=\"ProveItLink\" href=\"../132b21d0311fabb36958380bd5775016bacce25c0/expr.ipynb\"><img src=\"../132b21d0311fabb36958380bd5775016bacce25c0/expr.png\" style=\"display:inline;vertical-align:middle;\" /></a></td></tr>\n",
       "<tr><td>3</td><td>Operation</td><td>operator:&nbsp;6<br>operands:&nbsp;7<br></td><td><a class=\"ProveItLink\" href=\"../cb54d96b24fc3f59d4e803235a6602263db471040/expr.ipynb\"><img src=\"../cb54d96b24fc3f59d4e803235a6602263db471040/expr.png\" style=\"display:inline;vertical-align:middle;\" /></a></td></tr>\n",
       "<tr><td>4</td><td>Literal</td><td></td><td><a class=\"ProveItLink\" href=\"../../../../logic/equality/__pv_it/common/fb96dc12b2aa8801dda64d0132b396c63d1502bb0/expr.ipynb\"><img src=\"../../../../logic/equality/__pv_it/common/fb96dc12b2aa8801dda64d0132b396c63d1502bb0/expr.png\" style=\"display:inline;vertical-align:middle;\" /></a></td></tr>\n",
       "<tr><td>5</td><td>ExprTuple</td><td>8, 9</td><td><a class=\"ProveItLink\" href=\"../ad17c77178624883107c58cf5f77d9889c04dd1b0/expr.ipynb\"><img src=\"../ad17c77178624883107c58cf5f77d9889c04dd1b0/expr.png\" style=\"display:inline;vertical-align:middle;\" /></a></td></tr>\n",
       "<tr><td>6</td><td>Literal</td><td></td><td><a class=\"ProveItLink\" href=\"../../../../logic/sets/membership/__pv_it/common/477487d8796864d23d5810f83761435f25167f690/expr.ipynb\"><img src=\"../../../../logic/sets/membership/__pv_it/common/477487d8796864d23d5810f83761435f25167f690/expr.png\" style=\"display:inline;vertical-align:middle;\" /></a></td></tr>\n",
       "<tr><td>7</td><td>ExprTuple</td><td>21, 10</td><td><a class=\"ProveItLink\" href=\"../fe91924ad72f2e130ae61bf42112798be82f3eca0/expr.ipynb\"><img src=\"../fe91924ad72f2e130ae61bf42112798be82f3eca0/expr.png\" style=\"display:inline;vertical-align:middle;\" /></a></td></tr>\n",
       "<tr><td>8</td><td>Operation</td><td>operator:&nbsp;11<br>operand:&nbsp;21<br></td><td><a class=\"ProveItLink\" href=\"../a48f4bad01b9d6d5d22686ce1f48c53832938ece0/expr.ipynb\"><img src=\"../a48f4bad01b9d6d5d22686ce1f48c53832938ece0/expr.png\" style=\"display:inline;vertical-align:middle;\" /></a></td></tr>\n",
       "<tr><td>9</td><td>Operation</td><td>operator:&nbsp;12<br>operands:&nbsp;13<br></td><td><a class=\"ProveItLink\" href=\"../1fee83371a6cd6a5d6c9bc4c1a031fdb2bdec3470/expr.ipynb\"><img src=\"../1fee83371a6cd6a5d6c9bc4c1a031fdb2bdec3470/expr.png\" style=\"display:inline;vertical-align:middle;\" /></a></td></tr>\n",
       "<tr><td>10</td><td>Variable</td><td></td><td><a class=\"ProveItLink\" href=\"../../../../__pv_it/common/6d80eb1398b2335bf9ec427954b851b7094dced50/expr.ipynb\"><img src=\"../../../../__pv_it/common/6d80eb1398b2335bf9ec427954b851b7094dced50/expr.png\" style=\"display:inline;vertical-align:middle;\" /></a></td></tr>\n",
       "<tr><td>11</td><td>Operation</td><td>operator:&nbsp;14<br>operands:&nbsp;15<br></td><td><a class=\"ProveItLink\" href=\"../2529661fcf1c52344abc22d0c442a5792bc7a90a0/expr.ipynb\"><img src=\"../2529661fcf1c52344abc22d0c442a5792bc7a90a0/expr.png\" style=\"display:inline;vertical-align:middle;\" /></a></td></tr>\n",
       "<tr><td>12</td><td>Literal</td><td></td><td><a class=\"ProveItLink\" href=\"../../../../numbers/addition/__pv_it/common/4b7effaab3619a1c2c38fe2dee8601df8ec714590/expr.ipynb\"><img src=\"../../../../numbers/addition/__pv_it/common/4b7effaab3619a1c2c38fe2dee8601df8ec714590/expr.png\" style=\"display:inline;vertical-align:middle;\" /></a></td></tr>\n",
       "<tr><td>13</td><td>ExprTuple</td><td>16, 17</td><td><a class=\"ProveItLink\" href=\"../85eaf8f5877e21baa5d686fcd9aa3447ace56b9a0/expr.ipynb\"><img src=\"../85eaf8f5877e21baa5d686fcd9aa3447ace56b9a0/expr.png\" style=\"display:inline;vertical-align:middle;\" /></a></td></tr>\n",
       "<tr><td>14</td><td>Literal</td><td></td><td><a class=\"ProveItLink\" href=\"../../../linear_maps/__pv_it/common/22170c15c0f7fac32eaa0d026ec5ad206a97f9660/expr.ipynb\"><img src=\"../../../linear_maps/__pv_it/common/22170c15c0f7fac32eaa0d026ec5ad206a97f9660/expr.png\" style=\"display:inline;vertical-align:middle;\" /></a></td></tr>\n",
       "<tr><td>15</td><td>ExprTuple</td><td>18, 19</td><td><a class=\"ProveItLink\" href=\"../d08154e2a0686abe721893274a9e9b4b684286fb0/expr.ipynb\"><img src=\"../d08154e2a0686abe721893274a9e9b4b684286fb0/expr.png\" style=\"display:inline;vertical-align:middle;\" /></a></td></tr>\n",
       "<tr><td>16</td><td>Operation</td><td>operator:&nbsp;18<br>operand:&nbsp;21<br></td><td><a class=\"ProveItLink\" href=\"../7b5355a6f84ab09856b3b7ef7b2d161fb80b46340/expr.ipynb\"><img src=\"../7b5355a6f84ab09856b3b7ef7b2d161fb80b46340/expr.png\" style=\"display:inline;vertical-align:middle;\" /></a></td></tr>\n",
       "<tr><td>17</td><td>Operation</td><td>operator:&nbsp;19<br>operand:&nbsp;21<br></td><td><a class=\"ProveItLink\" href=\"../36fef6526f6cbda591a92168bb48fc7eba1f34960/expr.ipynb\"><img src=\"../36fef6526f6cbda591a92168bb48fc7eba1f34960/expr.png\" style=\"display:inline;vertical-align:middle;\" /></a></td></tr>\n",
       "<tr><td>18</td><td>Variable</td><td></td><td><a class=\"ProveItLink\" href=\"../../../../__pv_it/common/38f47c5670ea8c5b56253448e95d8afb56bc09b40/expr.ipynb\"><img src=\"../../../../__pv_it/common/38f47c5670ea8c5b56253448e95d8afb56bc09b40/expr.png\" style=\"display:inline;vertical-align:middle;\" /></a></td></tr>\n",
       "<tr><td>19</td><td>Variable</td><td></td><td><a class=\"ProveItLink\" href=\"../../../../__pv_it/common/69c70dfa5f18cd09af12f2dcafa9764efe6f8cbd0/expr.ipynb\"><img src=\"../../../../__pv_it/common/69c70dfa5f18cd09af12f2dcafa9764efe6f8cbd0/expr.png\" style=\"display:inline;vertical-align:middle;\" /></a></td></tr>\n",
       "<tr><td>20</td><td>ExprTuple</td><td>21</td><td><a class=\"ProveItLink\" href=\"../e1c6cd363607da77d3d48a5bdedf3c17cc448af00/expr.ipynb\"><img src=\"../e1c6cd363607da77d3d48a5bdedf3c17cc448af00/expr.png\" style=\"display:inline;vertical-align:middle;\" /></a></td></tr>\n",
       "<tr><td>21</td><td>Variable</td><td></td><td><a class=\"ProveItLink\" href=\"../../../../__pv_it/common/a4b9661da9b52dcebf59c5559fec8901f4df10750/expr.ipynb\"><img src=\"../../../../__pv_it/common/a4b9661da9b52dcebf59c5559fec8901f4df10750/expr.png\" style=\"display:inline;vertical-align:middle;\" /></a></td></tr>\n",
       "</table>\n"
      ],
      "text/plain": [
       "0. v -> {(S + T)(v) = (S(v) + T(v)) if v in V.\n",
       "   core type: Lambda\n",
       "   parameter: 21\n",
       "   body: 1\n",
       "1. {(S + T)(v) = (S(v) + T(v)) if v in V.\n",
       "   core type: Conditional\n",
       "   value: 2\n",
       "   condition: 3\n",
       "2. (S + T)(v) = (S(v) + T(v))\n",
       "   core type: Operation\n",
       "   operator: 4\n",
       "   operands: 5\n",
       "3. v in V\n",
       "   core type: Operation\n",
       "   operator: 6\n",
       "   operands: 7\n",
       "4. =\n",
       "   core type: Literal\n",
       "   sub-expressions: \n",
       "5. ((S + T)(v), S(v) + T(v))\n",
       "   core type: ExprTuple\n",
       "   sub-expressions: 8, 9\n",
       "6. in\n",
       "   core type: Literal\n",
       "   sub-expressions: \n",
       "7. (v, V)\n",
       "   core type: ExprTuple\n",
       "   sub-expressions: 21, 10\n",
       "8. (S + T)(v)\n",
       "   core type: Operation\n",
       "   operator: 11\n",
       "   operand: 21\n",
       "9. S(v) + T(v)\n",
       "   core type: Operation\n",
       "   operator: 12\n",
       "   operands: 13\n",
       "10. V\n",
       "    core type: Variable\n",
       "    sub-expressions: \n",
       "11. S + T\n",
       "    core type: Operation\n",
       "    operator: 14\n",
       "    operands: 15\n",
       "12. +\n",
       "    core type: Literal\n",
       "    sub-expressions: \n",
       "13. (S(v), T(v))\n",
       "    core type: ExprTuple\n",
       "    sub-expressions: 16, 17\n",
       "14. +\n",
       "    core type: Literal\n",
       "    sub-expressions: \n",
       "15. (S, T)\n",
       "    core type: ExprTuple\n",
       "    sub-expressions: 18, 19\n",
       "16. S(v)\n",
       "    core type: Operation\n",
       "    operator: 18\n",
       "    operand: 21\n",
       "17. T(v)\n",
       "    core type: Operation\n",
       "    operator: 19\n",
       "    operand: 21\n",
       "18. S\n",
       "    core type: Variable\n",
       "    sub-expressions: \n",
       "19. T\n",
       "    core type: Variable\n",
       "    sub-expressions: \n",
       "20. (v)\n",
       "    core type: ExprTuple\n",
       "    sub-expressions: 21\n",
       "21. v\n",
       "    core type: Variable\n",
       "    sub-expressions: "
      ]
     },
     "metadata": {},
     "output_type": "display_data"
    }
   ],
   "source": [
    "# display the expression information\n",
    "stored_expr.expr_info()"
   ]
  },
  {
   "cell_type": "code",
   "execution_count": null,
   "metadata": {},
   "outputs": [],
   "source": []
  }
 ],
 "metadata": {
  "kernelspec": {
   "display_name": "Python 3",
   "language": "python",
   "name": "python3"
  }
 },
 "nbformat": 4,
 "nbformat_minor": 0
}