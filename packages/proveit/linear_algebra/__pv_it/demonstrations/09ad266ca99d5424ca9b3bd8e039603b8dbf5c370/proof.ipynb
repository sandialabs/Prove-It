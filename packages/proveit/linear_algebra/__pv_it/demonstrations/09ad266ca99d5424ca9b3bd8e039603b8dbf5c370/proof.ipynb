{
 "cells": [
  {
   "cell_type": "markdown",
   "metadata": {},
   "source": [
    "Show the Proof\n",
    "========"
   ]
  },
  {
   "cell_type": "code",
   "execution_count": 1,
   "metadata": {},
   "outputs": [
    {
     "data": {
      "text/html": [
       "<table><tr><th>&nbsp;</th><th>step type</th><th>requirements</th><th>statement</th></tr>\n",
       "<tr><td><a name=\"proveit.linear_algebra.demonstrations.09ad266ca99d5424ca9b3bd8e039603b8dbf5c370_step0\">0</a></td><td>instantiation</td><td><a href=\"#proveit.linear_algebra.demonstrations.09ad266ca99d5424ca9b3bd8e039603b8dbf5c370_step1\">1</a>, <a href=\"#proveit.linear_algebra.demonstrations.09ad266ca99d5424ca9b3bd8e039603b8dbf5c370_step2\">2</a>, <a href=\"#proveit.linear_algebra.demonstrations.09ad266ca99d5424ca9b3bd8e039603b8dbf5c370_step3\">3</a>, <a href=\"#proveit.linear_algebra.demonstrations.09ad266ca99d5424ca9b3bd8e039603b8dbf5c370_step4\">4</a></td><td><span style=\"font-size:20px;\"><a class=\"ProveItLink\" href=\"../../../../numbers/ordering/__pv_it/theorems/4aa8d696b1f407d6126de9f51a052e8d90e0848c0/expr.ipynb\"><img src=\"../../../../numbers/ordering/__pv_it/theorems/4aa8d696b1f407d6126de9f51a052e8d90e0848c0/expr.png\" style=\"display:inline;vertical-align:middle;\" /></a>, <a class=\"ProveItLink\" href=\"../35b7d5ffd6c70530348c726f949f4fc11dcba3530/expr.ipynb\"><img src=\"../35b7d5ffd6c70530348c726f949f4fc11dcba3530/expr.png\" style=\"display:inline;vertical-align:middle;\" /></a> <a class=\"ProveItLink\" href=\"proof.ipynb\" style=\"text-decoration: none\">&nbsp;&#x22A2;&nbsp;&nbsp;</a><a class=\"ProveItLink\" href=\"../53ad7fbcc8eedc00250580b1386dc64851f67a1f0/expr.ipynb\"><img src=\"../53ad7fbcc8eedc00250580b1386dc64851f67a1f0/expr.png\" style=\"display:inline;vertical-align:middle;\" /></a></span></td></tr>\n",
       "<tr><td>&nbsp;</td><td colspan=4 style=\"text-align:left\"><span style=\"font-size:20px;\"><a class=\"ProveItLink\" href=\"../../../../__pv_it/common/1f2ffac7a1dc7c1a4f1fc7348356ae64ea992c790/expr.ipynb\"><img src=\"../../../../__pv_it/common/1f2ffac7a1dc7c1a4f1fc7348356ae64ea992c790/expr.png\" style=\"display:inline;vertical-align:middle;\" /></a> : <a class=\"ProveItLink\" href=\"../../../../numbers/number_sets/real_numbers/__pv_it/common/93cac87a1a47e613f7a83b23ef7891599a1a4cca0/expr.ipynb\"><img src=\"../../../../numbers/number_sets/real_numbers/__pv_it/common/93cac87a1a47e613f7a83b23ef7891599a1a4cca0/expr.png\" style=\"display:inline;vertical-align:middle;\" /></a>, <a class=\"ProveItLink\" href=\"../../../../__pv_it/common/6d80eb1398b2335bf9ec427954b851b7094dced50/expr.ipynb\"><img src=\"../../../../__pv_it/common/6d80eb1398b2335bf9ec427954b851b7094dced50/expr.png\" style=\"display:inline;vertical-align:middle;\" /></a> : <a class=\"ProveItLink\" href=\"../b09d232dc6c8bd1b305d141dd063505555f74fe50/expr.ipynb\"><img src=\"../b09d232dc6c8bd1b305d141dd063505555f74fe50/expr.png\" style=\"display:inline;vertical-align:middle;\" /></a>, <a class=\"ProveItLink\" href=\"../../../../__pv_it/common/c06c606ec12678c58933ac85412ecadc2ae28be60/expr.ipynb\"><img src=\"../../../../__pv_it/common/c06c606ec12678c58933ac85412ecadc2ae28be60/expr.png\" style=\"display:inline;vertical-align:middle;\" /></a> : <a class=\"ProveItLink\" href=\"../../../../__pv_it/common/c06c606ec12678c58933ac85412ecadc2ae28be60/expr.ipynb\"><img src=\"../../../../__pv_it/common/c06c606ec12678c58933ac85412ecadc2ae28be60/expr.png\" style=\"display:inline;vertical-align:middle;\" /></a>, <a class=\"ProveItLink\" href=\"../../../../__pv_it/common/a0d9d672aa5e272d907247690c152cc2c6daafb70/expr.ipynb\"><img src=\"../../../../__pv_it/common/a0d9d672aa5e272d907247690c152cc2c6daafb70/expr.png\" style=\"display:inline;vertical-align:middle;\" /></a> : <a class=\"ProveItLink\" href=\"../../../../__pv_it/common/f1ca094affb79f5011ff4d63eb4e121bfbde7f330/expr.ipynb\"><img src=\"../../../../__pv_it/common/f1ca094affb79f5011ff4d63eb4e121bfbde7f330/expr.png\" style=\"display:inline;vertical-align:middle;\" /></a></span></td></tr><tr><td><a name=\"proveit.linear_algebra.demonstrations.09ad266ca99d5424ca9b3bd8e039603b8dbf5c370_step1\">1</a></td><td>theorem</td><td></td><td><span style=\"font-size:20px;\"> <a class=\"ProveItLink\" href=\"../../../scalar_multiplication/_theory_nbs_/proofs/scalar_mult_closure/thm_proof.ipynb\" style=\"text-decoration: none\">&nbsp;&#x22A2;&nbsp;&nbsp;</a><a class=\"ProveItLink\" href=\"../../../scalar_multiplication/__pv_it/theorems/94ae2d0bfeb4459a12af4268d0b733786881d4240/expr.ipynb\"><img src=\"../../../scalar_multiplication/__pv_it/theorems/94ae2d0bfeb4459a12af4268d0b733786881d4240/expr.png\" style=\"display:inline;vertical-align:middle;\" /></a></span></td></tr>\n",
       "<tr><td>&nbsp;</td><td colspan=4 style-\"text-align:left\"><a class=\"ProveItLink\" href=\"../../../scalar_multiplication/_theory_nbs_/proofs/scalar_mult_closure/thm_proof.ipynb\">proveit.linear_algebra.scalar_multiplication.scalar_mult_closure</a></td></tr><tr><td><a name=\"proveit.linear_algebra.demonstrations.09ad266ca99d5424ca9b3bd8e039603b8dbf5c370_step2\">2</a></td><td>instantiation</td><td><a href=\"#proveit.linear_algebra.demonstrations.09ad266ca99d5424ca9b3bd8e039603b8dbf5c370_step5\">5</a>, <a href=\"#proveit.linear_algebra.demonstrations.09ad266ca99d5424ca9b3bd8e039603b8dbf5c370_step6\">6</a></td><td><span style=\"font-size:20px;\"> <a class=\"ProveItLink\" href=\"../801a39f297b2db8aabbe9baa414302759b5ff8e30/proof.ipynb\" style=\"text-decoration: none\">&nbsp;&#x22A2;&nbsp;&nbsp;</a><a class=\"ProveItLink\" href=\"../dc32e72d30e8b371121086e4024df7139fa0686e0/expr.ipynb\"><img src=\"../dc32e72d30e8b371121086e4024df7139fa0686e0/expr.png\" style=\"display:inline;vertical-align:middle;\" /></a></span></td></tr>\n",
       "<tr><td>&nbsp;</td><td colspan=4 style=\"text-align:left\"><span style=\"font-size:20px;\"><a class=\"ProveItLink\" href=\"../../../../__pv_it/common/8968bb04eb3f7dfa02353397ce929b025bbd79c20/expr.ipynb\"><img src=\"../../../../__pv_it/common/8968bb04eb3f7dfa02353397ce929b025bbd79c20/expr.png\" style=\"display:inline;vertical-align:middle;\" /></a> : <a class=\"ProveItLink\" href=\"../../../../numbers/numerals/__pv_it/common/1943b60945420e340d305780feff5c1aff2740ff0/expr.ipynb\"><img src=\"../../../../numbers/numerals/__pv_it/common/1943b60945420e340d305780feff5c1aff2740ff0/expr.png\" style=\"display:inline;vertical-align:middle;\" /></a></span></td></tr><tr><td><a name=\"proveit.linear_algebra.demonstrations.09ad266ca99d5424ca9b3bd8e039603b8dbf5c370_step3\">3</a></td><td>assumption</td><td></td><td><span style=\"font-size:20px;\"><a class=\"ProveItLink\" href=\"../../../../numbers/ordering/__pv_it/theorems/4aa8d696b1f407d6126de9f51a052e8d90e0848c0/expr.ipynb\"><img src=\"../../../../numbers/ordering/__pv_it/theorems/4aa8d696b1f407d6126de9f51a052e8d90e0848c0/expr.png\" style=\"display:inline;vertical-align:middle;\" /></a> <a class=\"ProveItLink\" href=\"../7ab45d80ecd751818418da4189b000ff07fbb4340/proof.ipynb\" style=\"text-decoration: none\">&nbsp;&#x22A2;&nbsp;&nbsp;</a><a class=\"ProveItLink\" href=\"../../../../numbers/ordering/__pv_it/theorems/4aa8d696b1f407d6126de9f51a052e8d90e0848c0/expr.ipynb\"><img src=\"../../../../numbers/ordering/__pv_it/theorems/4aa8d696b1f407d6126de9f51a052e8d90e0848c0/expr.png\" style=\"display:inline;vertical-align:middle;\" /></a></span></td></tr>\n",
       "<tr><td><a name=\"proveit.linear_algebra.demonstrations.09ad266ca99d5424ca9b3bd8e039603b8dbf5c370_step4\">4</a></td><td>assumption</td><td></td><td><span style=\"font-size:20px;\"><a class=\"ProveItLink\" href=\"../35b7d5ffd6c70530348c726f949f4fc11dcba3530/expr.ipynb\"><img src=\"../35b7d5ffd6c70530348c726f949f4fc11dcba3530/expr.png\" style=\"display:inline;vertical-align:middle;\" /></a> <a class=\"ProveItLink\" href=\"../fb1f45448bf70b2d2f978ad513a3ec8c67c081be0/proof.ipynb\" style=\"text-decoration: none\">&nbsp;&#x22A2;&nbsp;&nbsp;</a><a class=\"ProveItLink\" href=\"../35b7d5ffd6c70530348c726f949f4fc11dcba3530/expr.ipynb\"><img src=\"../35b7d5ffd6c70530348c726f949f4fc11dcba3530/expr.png\" style=\"display:inline;vertical-align:middle;\" /></a></span></td></tr>\n",
       "<tr><td><a name=\"proveit.linear_algebra.demonstrations.09ad266ca99d5424ca9b3bd8e039603b8dbf5c370_step5\">5</a></td><td>theorem</td><td></td><td><span style=\"font-size:20px;\"> <a class=\"ProveItLink\" href=\"../../../_theory_nbs_/proofs/real_vec_set_is_vec_space/thm_proof.ipynb\" style=\"text-decoration: none\">&nbsp;&#x22A2;&nbsp;&nbsp;</a><a class=\"ProveItLink\" href=\"../../theorems/b1db82986f388e356d93ec2dfb6a4b4c9b37fbd60/expr.ipynb\"><img src=\"../../theorems/b1db82986f388e356d93ec2dfb6a4b4c9b37fbd60/expr.png\" style=\"display:inline;vertical-align:middle;\" /></a></span></td></tr>\n",
       "<tr><td>&nbsp;</td><td colspan=4 style-\"text-align:left\"><a class=\"ProveItLink\" href=\"../../../_theory_nbs_/proofs/real_vec_set_is_vec_space/thm_proof.ipynb\">proveit.linear_algebra.real_vec_set_is_vec_space</a></td></tr><tr><td><a name=\"proveit.linear_algebra.demonstrations.09ad266ca99d5424ca9b3bd8e039603b8dbf5c370_step6\">6</a></td><td>theorem</td><td></td><td><span style=\"font-size:20px;\"> <a class=\"ProveItLink\" href=\"../../../../numbers/numerals/decimals/_theory_nbs_/proofs/posnat3/thm_proof.ipynb\" style=\"text-decoration: none\">&nbsp;&#x22A2;&nbsp;&nbsp;</a><a class=\"ProveItLink\" href=\"../../../../numbers/numerals/decimals/__pv_it/theorems/7a4601a478f57bc7cfab499ee985add193b1e1cf0/expr.ipynb\"><img src=\"../../../../numbers/numerals/decimals/__pv_it/theorems/7a4601a478f57bc7cfab499ee985add193b1e1cf0/expr.png\" style=\"display:inline;vertical-align:middle;\" /></a></span></td></tr>\n",
       "<tr><td>&nbsp;</td><td colspan=4 style-\"text-align:left\"><a class=\"ProveItLink\" href=\"../../../../numbers/numerals/decimals/_theory_nbs_/proofs/posnat3/thm_proof.ipynb\">proveit.numbers.numerals.decimals.posnat3</a></td></tr></table>"
      ],
      "text/plain": [
       "<proveit._core_.proof._ShowProof at 0x7f92f5aebac8>"
      ]
     },
     "execution_count": 1,
     "metadata": {},
     "output_type": "execute_result"
    }
   ],
   "source": [
    "import proveit\n",
    "# Automation is not needed when only showing a stored proof:\n",
    "proveit.defaults.automation = False # This will speed things up.\n",
    "proveit.defaults.inline_pngs = False # Makes files smaller.\n",
    "%show_proof"
   ]
  },
  {
   "cell_type": "code",
   "execution_count": null,
   "metadata": {},
   "outputs": [],
   "source": []
  }
 ],
 "metadata": {
  "kernelspec": {
   "display_name": "Python 3",
   "language": "python",
   "name": "python3"
  }
 },
 "nbformat": 4,
 "nbformat_minor": 0
}