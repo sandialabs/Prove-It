{
 "cells": [
  {
   "cell_type": "markdown",
   "metadata": {},
   "source": [
    "Expression of type <a class=\"ProveItLink\" href=\"../../../../../../doc/html/api/proveit.ExprTuple.html\">ExprTuple</a>\n",
    "=======================\n",
    "# from the theory of <a class=\"ProveItLink\" href=\"../../../_theory_nbs_/theory.ipynb\">proveit.linear_algebra</a>"
   ]
  },
  {
   "cell_type": "code",
   "execution_count": 1,
   "metadata": {},
   "outputs": [],
   "source": [
    "import proveit\n",
    "# Automation is not needed when building an expression:\n",
    "proveit.defaults.automation = False # This will speed things up.\n",
    "proveit.defaults.inline_pngs = False # Makes files smaller.\n",
    "%load_expr # Load the stored expression as 'stored_expr'\n",
    "# import Expression classes needed to build the expression\n",
    "from proveit import ExprTuple, a, b, c, u, v, w, x, y, z\n",
    "from proveit.logic import CartExp, InSet\n",
    "from proveit.numbers import Real, three"
   ]
  },
  {
   "cell_type": "code",
   "execution_count": 2,
   "metadata": {},
   "outputs": [
    {
     "data": {
      "text/html": [
       "<strong id=\"expr\">expr:</strong> <a class=\"ProveItLink\" href=\"expr.ipynb\"><img src=\"expr.png\" style=\"display:inline;vertical-align:middle;\" /></a><br>"
      ],
      "text/plain": [
       "<IPython.core.display.HTML object>"
      ]
     },
     "metadata": {},
     "output_type": "display_data"
    }
   ],
   "source": [
    "# build up the expression from sub-expressions\n",
    "sub_expr1 = CartExp(Real, three)\n",
    "expr = ExprTuple(InSet(a, Real), InSet(b, Real), InSet(c, Real), InSet(u, sub_expr1), InSet(v, sub_expr1), InSet(w, sub_expr1), InSet(x, sub_expr1), InSet(y, sub_expr1), InSet(z, sub_expr1))"
   ]
  },
  {
   "cell_type": "code",
   "execution_count": 3,
   "metadata": {},
   "outputs": [
    {
     "name": "stdout",
     "output_type": "stream",
     "text": [
      "Passed sanity check: expr matches stored_expr\n"
     ]
    }
   ],
   "source": [
    "# check that the built expression is the same as the stored expression\n",
    "assert expr == stored_expr\n",
    "assert expr._style_id == stored_expr._style_id\n",
    "print(\"Passed sanity check: expr matches stored_expr\")"
   ]
  },
  {
   "cell_type": "code",
   "execution_count": 4,
   "metadata": {},
   "outputs": [
    {
     "name": "stdout",
     "output_type": "stream",
     "text": [
      "\\left(a \\in \\mathbb{R}, b \\in \\mathbb{R}, c \\in \\mathbb{R}, u \\in \\mathbb{R}^{3}, v \\in \\mathbb{R}^{3}, w \\in \\mathbb{R}^{3}, x \\in \\mathbb{R}^{3}, y \\in \\mathbb{R}^{3}, z \\in \\mathbb{R}^{3}\\right)\n"
     ]
    }
   ],
   "source": [
    "# Show the LaTeX representation of the expression for convenience if you need it.\n",
    "print(stored_expr.latex())"
   ]
  },
  {
   "cell_type": "code",
   "execution_count": 5,
   "metadata": {},
   "outputs": [
    {
     "data": {
      "text/html": [
       "<table>\n",
       "<tr><th>name</th><th>description</th><th>default</th><th>current value</th><th>related methods</th></tr><tr><td>wrap_positions</td><td>position(s) at which wrapping is to occur; 'n' is after the nth comma.</td><td>()</td><td>()</td><td>('with_wrapping_at',)</td></tr>\n",
       "<tr><td>justification</td><td>if any wrap positions are set, justify to the 'left', 'center', or 'right'</td><td>left</td><td>left</td><td>('with_justification',)</td></tr>\n",
       "</table>\n"
      ],
      "text/plain": [
       "style name: wrap_positions\n",
       "description: position(s) at which wrapping is to occur; 'n' is after the nth comma.\n",
       "default: ()\n",
       "current value: ()\n",
       "related methods: ('with_wrapping_at',)\n",
       "style name: justification\n",
       "description: if any wrap positions are set, justify to the 'left', 'center', or 'right'\n",
       "default: left\n",
       "current value: left\n",
       "related methods: ('with_justification',)"
      ]
     },
     "metadata": {},
     "output_type": "display_data"
    }
   ],
   "source": [
    "stored_expr.style_options()"
   ]
  },
  {
   "cell_type": "code",
   "execution_count": 6,
   "metadata": {},
   "outputs": [
    {
     "data": {
      "text/html": [
       "<table><tr><th>&nbsp;</th><th>core type</th><th>sub-expressions</th><th>expression</th></tr>\n",
       "<tr><td>0</td><td>ExprTuple</td><td>1, 2, 3, 4, 5, 6, 7, 8, 9</td><td><a class=\"ProveItLink\" href=\"expr.ipynb\"><img src=\"expr.png\" style=\"display:inline;vertical-align:middle;\" /></a></td></tr>\n",
       "<tr><td>1</td><td>Operation</td><td>operator:&nbsp;18<br>operands:&nbsp;10<br></td><td><a class=\"ProveItLink\" href=\"../../../../numbers/ordering/__pv_it/theorems/4aa8d696b1f407d6126de9f51a052e8d90e0848c0/expr.ipynb\"><img src=\"../../../../numbers/ordering/__pv_it/theorems/4aa8d696b1f407d6126de9f51a052e8d90e0848c0/expr.png\" style=\"display:inline;vertical-align:middle;\" /></a></td></tr>\n",
       "<tr><td>2</td><td>Operation</td><td>operator:&nbsp;18<br>operands:&nbsp;11<br></td><td><a class=\"ProveItLink\" href=\"../../../../numbers/ordering/__pv_it/theorems/6e5cad5b2984ed0d75bd47bd0c542ec447a4f3570/expr.ipynb\"><img src=\"../../../../numbers/ordering/__pv_it/theorems/6e5cad5b2984ed0d75bd47bd0c542ec447a4f3570/expr.png\" style=\"display:inline;vertical-align:middle;\" /></a></td></tr>\n",
       "<tr><td>3</td><td>Operation</td><td>operator:&nbsp;18<br>operands:&nbsp;12<br></td><td><a class=\"ProveItLink\" href=\"../d550e8309ef79ca46e4c9fb5617a392ea678789b0/expr.ipynb\"><img src=\"../d550e8309ef79ca46e4c9fb5617a392ea678789b0/expr.png\" style=\"display:inline;vertical-align:middle;\" /></a></td></tr>\n",
       "<tr><td>4</td><td>Operation</td><td>operator:&nbsp;18<br>operands:&nbsp;13<br></td><td><a class=\"ProveItLink\" href=\"../2ae8d5911ca7c05512234de177abe0c55ba84c7c0/expr.ipynb\"><img src=\"../2ae8d5911ca7c05512234de177abe0c55ba84c7c0/expr.png\" style=\"display:inline;vertical-align:middle;\" /></a></td></tr>\n",
       "<tr><td>5</td><td>Operation</td><td>operator:&nbsp;18<br>operands:&nbsp;14<br></td><td><a class=\"ProveItLink\" href=\"../c8e167f722c9b5d57e8e82cabbb6679414a00d9f0/expr.ipynb\"><img src=\"../c8e167f722c9b5d57e8e82cabbb6679414a00d9f0/expr.png\" style=\"display:inline;vertical-align:middle;\" /></a></td></tr>\n",
       "<tr><td>6</td><td>Operation</td><td>operator:&nbsp;18<br>operands:&nbsp;15<br></td><td><a class=\"ProveItLink\" href=\"../640ab420e6d48668ece9f7f5061ad805bab7a17e0/expr.ipynb\"><img src=\"../640ab420e6d48668ece9f7f5061ad805bab7a17e0/expr.png\" style=\"display:inline;vertical-align:middle;\" /></a></td></tr>\n",
       "<tr><td>7</td><td>Operation</td><td>operator:&nbsp;18<br>operands:&nbsp;16<br></td><td><a class=\"ProveItLink\" href=\"../69b818e5ab2a8afc180d22a4e2534dbd4afed1660/expr.ipynb\"><img src=\"../69b818e5ab2a8afc180d22a4e2534dbd4afed1660/expr.png\" style=\"display:inline;vertical-align:middle;\" /></a></td></tr>\n",
       "<tr><td>8</td><td>Operation</td><td>operator:&nbsp;18<br>operands:&nbsp;17<br></td><td><a class=\"ProveItLink\" href=\"../24b47934df390430c4ddb4660bfa2c456cc746cd0/expr.ipynb\"><img src=\"../24b47934df390430c4ddb4660bfa2c456cc746cd0/expr.png\" style=\"display:inline;vertical-align:middle;\" /></a></td></tr>\n",
       "<tr><td>9</td><td>Operation</td><td>operator:&nbsp;18<br>operands:&nbsp;19<br></td><td><a class=\"ProveItLink\" href=\"../1dbd259366c79f56151b83d19180b4a05e73ca7b0/expr.ipynb\"><img src=\"../1dbd259366c79f56151b83d19180b4a05e73ca7b0/expr.png\" style=\"display:inline;vertical-align:middle;\" /></a></td></tr>\n",
       "<tr><td>10</td><td>ExprTuple</td><td>20, 32</td><td><a class=\"ProveItLink\" href=\"../../../../numbers/ordering/__pv_it/theorems/4b81e64da1c6f03396560fe07bd4a5be1d27e6ab0/expr.ipynb\"><img src=\"../../../../numbers/ordering/__pv_it/theorems/4b81e64da1c6f03396560fe07bd4a5be1d27e6ab0/expr.png\" style=\"display:inline;vertical-align:middle;\" /></a></td></tr>\n",
       "<tr><td>11</td><td>ExprTuple</td><td>21, 32</td><td><a class=\"ProveItLink\" href=\"../../../../numbers/ordering/__pv_it/theorems/3cf9b209cada40f4dbeb74780e8d7cfa407b10aa0/expr.ipynb\"><img src=\"../../../../numbers/ordering/__pv_it/theorems/3cf9b209cada40f4dbeb74780e8d7cfa407b10aa0/expr.png\" style=\"display:inline;vertical-align:middle;\" /></a></td></tr>\n",
       "<tr><td>12</td><td>ExprTuple</td><td>22, 32</td><td><a class=\"ProveItLink\" href=\"../54ad27fbcacfe9ab74eb88f77e3e29beb7c0d0f20/expr.ipynb\"><img src=\"../54ad27fbcacfe9ab74eb88f77e3e29beb7c0d0f20/expr.png\" style=\"display:inline;vertical-align:middle;\" /></a></td></tr>\n",
       "<tr><td>13</td><td>ExprTuple</td><td>23, 29</td><td><a class=\"ProveItLink\" href=\"../6f692bbeb4a854b7d21eab2a477a05149e6edc3a0/expr.ipynb\"><img src=\"../6f692bbeb4a854b7d21eab2a477a05149e6edc3a0/expr.png\" style=\"display:inline;vertical-align:middle;\" /></a></td></tr>\n",
       "<tr><td>14</td><td>ExprTuple</td><td>24, 29</td><td><a class=\"ProveItLink\" href=\"../bc15df8c06ef0b3b48770375243fb8c2c5ee98c40/expr.ipynb\"><img src=\"../bc15df8c06ef0b3b48770375243fb8c2c5ee98c40/expr.png\" style=\"display:inline;vertical-align:middle;\" /></a></td></tr>\n",
       "<tr><td>15</td><td>ExprTuple</td><td>25, 29</td><td><a class=\"ProveItLink\" href=\"../18a67f60ccac8d6aa098ab3f96315df5d76b337a0/expr.ipynb\"><img src=\"../18a67f60ccac8d6aa098ab3f96315df5d76b337a0/expr.png\" style=\"display:inline;vertical-align:middle;\" /></a></td></tr>\n",
       "<tr><td>16</td><td>ExprTuple</td><td>26, 29</td><td><a class=\"ProveItLink\" href=\"../217eee6e9465dee6355b0b4752b35c08ff9a3d9a0/expr.ipynb\"><img src=\"../217eee6e9465dee6355b0b4752b35c08ff9a3d9a0/expr.png\" style=\"display:inline;vertical-align:middle;\" /></a></td></tr>\n",
       "<tr><td>17</td><td>ExprTuple</td><td>27, 29</td><td><a class=\"ProveItLink\" href=\"../e506d58183c36540a967f313d68a7fa501a075e90/expr.ipynb\"><img src=\"../e506d58183c36540a967f313d68a7fa501a075e90/expr.png\" style=\"display:inline;vertical-align:middle;\" /></a></td></tr>\n",
       "<tr><td>18</td><td>Literal</td><td></td><td><a class=\"ProveItLink\" href=\"../../../../logic/sets/membership/__pv_it/common/477487d8796864d23d5810f83761435f25167f690/expr.ipynb\"><img src=\"../../../../logic/sets/membership/__pv_it/common/477487d8796864d23d5810f83761435f25167f690/expr.png\" style=\"display:inline;vertical-align:middle;\" /></a></td></tr>\n",
       "<tr><td>19</td><td>ExprTuple</td><td>28, 29</td><td><a class=\"ProveItLink\" href=\"../d2e8e5cfe2f343345a174d2e56df4543a1c706de0/expr.ipynb\"><img src=\"../d2e8e5cfe2f343345a174d2e56df4543a1c706de0/expr.png\" style=\"display:inline;vertical-align:middle;\" /></a></td></tr>\n",
       "<tr><td>20</td><td>Variable</td><td></td><td><a class=\"ProveItLink\" href=\"../../../../__pv_it/common/c06c606ec12678c58933ac85412ecadc2ae28be60/expr.ipynb\"><img src=\"../../../../__pv_it/common/c06c606ec12678c58933ac85412ecadc2ae28be60/expr.png\" style=\"display:inline;vertical-align:middle;\" /></a></td></tr>\n",
       "<tr><td>21</td><td>Variable</td><td></td><td><a class=\"ProveItLink\" href=\"../../../../__pv_it/common/195236b98c6c564a75b5dbada74b173bc52d5c3e0/expr.ipynb\"><img src=\"../../../../__pv_it/common/195236b98c6c564a75b5dbada74b173bc52d5c3e0/expr.png\" style=\"display:inline;vertical-align:middle;\" /></a></td></tr>\n",
       "<tr><td>22</td><td>Variable</td><td></td><td><a class=\"ProveItLink\" href=\"../../../../__pv_it/common/ceef4280a2f1cc604b455b54e735507244cc62cd0/expr.ipynb\"><img src=\"../../../../__pv_it/common/ceef4280a2f1cc604b455b54e735507244cc62cd0/expr.png\" style=\"display:inline;vertical-align:middle;\" /></a></td></tr>\n",
       "<tr><td>23</td><td>Variable</td><td></td><td><a class=\"ProveItLink\" href=\"../../../../__pv_it/common/0d656bb6691dcf7801631ede213504e1b012f3d50/expr.ipynb\"><img src=\"../../../../__pv_it/common/0d656bb6691dcf7801631ede213504e1b012f3d50/expr.png\" style=\"display:inline;vertical-align:middle;\" /></a></td></tr>\n",
       "<tr><td>24</td><td>Variable</td><td></td><td><a class=\"ProveItLink\" href=\"../../../../__pv_it/common/a4b9661da9b52dcebf59c5559fec8901f4df10750/expr.ipynb\"><img src=\"../../../../__pv_it/common/a4b9661da9b52dcebf59c5559fec8901f4df10750/expr.png\" style=\"display:inline;vertical-align:middle;\" /></a></td></tr>\n",
       "<tr><td>25</td><td>Variable</td><td></td><td><a class=\"ProveItLink\" href=\"../../../../__pv_it/common/d365663894822dede40e6e04c77860068334d0820/expr.ipynb\"><img src=\"../../../../__pv_it/common/d365663894822dede40e6e04c77860068334d0820/expr.png\" style=\"display:inline;vertical-align:middle;\" /></a></td></tr>\n",
       "<tr><td>26</td><td>Variable</td><td></td><td><a class=\"ProveItLink\" href=\"../../../../__pv_it/common/a0d9d672aa5e272d907247690c152cc2c6daafb70/expr.ipynb\"><img src=\"../../../../__pv_it/common/a0d9d672aa5e272d907247690c152cc2c6daafb70/expr.png\" style=\"display:inline;vertical-align:middle;\" /></a></td></tr>\n",
       "<tr><td>27</td><td>Variable</td><td></td><td><a class=\"ProveItLink\" href=\"../../../../__pv_it/common/ff7dba4ef0bbe791ab573bf2d9c220a304399ac80/expr.ipynb\"><img src=\"../../../../__pv_it/common/ff7dba4ef0bbe791ab573bf2d9c220a304399ac80/expr.png\" style=\"display:inline;vertical-align:middle;\" /></a></td></tr>\n",
       "<tr><td>28</td><td>Variable</td><td></td><td><a class=\"ProveItLink\" href=\"../../../../__pv_it/common/95a8f6b9b9f29b83f192ad7fd05708d6be097a3f0/expr.ipynb\"><img src=\"../../../../__pv_it/common/95a8f6b9b9f29b83f192ad7fd05708d6be097a3f0/expr.png\" style=\"display:inline;vertical-align:middle;\" /></a></td></tr>\n",
       "<tr><td>29</td><td>Operation</td><td>operator:&nbsp;30<br>operands:&nbsp;31<br></td><td><a class=\"ProveItLink\" href=\"../b09d232dc6c8bd1b305d141dd063505555f74fe50/expr.ipynb\"><img src=\"../b09d232dc6c8bd1b305d141dd063505555f74fe50/expr.png\" style=\"display:inline;vertical-align:middle;\" /></a></td></tr>\n",
       "<tr><td>30</td><td>Literal</td><td></td><td><a class=\"ProveItLink\" href=\"../../../../logic/sets/cartesian_products/__pv_it/common/7d20d67ddfbd94ad12efc9670c0d16a295b8ec1a0/expr.ipynb\"><img src=\"../../../../logic/sets/cartesian_products/__pv_it/common/7d20d67ddfbd94ad12efc9670c0d16a295b8ec1a0/expr.png\" style=\"display:inline;vertical-align:middle;\" /></a></td></tr>\n",
       "<tr><td>31</td><td>ExprTuple</td><td>32, 33</td><td><a class=\"ProveItLink\" href=\"../7153ff9c6d56816696f64f5d4ee2610a6f3959e70/expr.ipynb\"><img src=\"../7153ff9c6d56816696f64f5d4ee2610a6f3959e70/expr.png\" style=\"display:inline;vertical-align:middle;\" /></a></td></tr>\n",
       "<tr><td>32</td><td>Literal</td><td></td><td><a class=\"ProveItLink\" href=\"../../../../numbers/number_sets/real_numbers/__pv_it/common/93cac87a1a47e613f7a83b23ef7891599a1a4cca0/expr.ipynb\"><img src=\"../../../../numbers/number_sets/real_numbers/__pv_it/common/93cac87a1a47e613f7a83b23ef7891599a1a4cca0/expr.png\" style=\"display:inline;vertical-align:middle;\" /></a></td></tr>\n",
       "<tr><td>33</td><td>Literal</td><td></td><td><a class=\"ProveItLink\" href=\"../../../../numbers/numerals/__pv_it/common/1943b60945420e340d305780feff5c1aff2740ff0/expr.ipynb\"><img src=\"../../../../numbers/numerals/__pv_it/common/1943b60945420e340d305780feff5c1aff2740ff0/expr.png\" style=\"display:inline;vertical-align:middle;\" /></a></td></tr>\n",
       "</table>\n"
      ],
      "text/plain": [
       "0. (a in Real, b in Real, c in Real, u in Real^{3}, v in Real^{3}, w in Real^{3}, x in Real^{3}, y in Real^{3}, z in Real^{3})\n",
       "   core type: ExprTuple\n",
       "   sub-expressions: 1, 2, 3, 4, 5, 6, 7, 8, 9\n",
       "1. a in Real\n",
       "   core type: Operation\n",
       "   operator: 18\n",
       "   operands: 10\n",
       "2. b in Real\n",
       "   core type: Operation\n",
       "   operator: 18\n",
       "   operands: 11\n",
       "3. c in Real\n",
       "   core type: Operation\n",
       "   operator: 18\n",
       "   operands: 12\n",
       "4. u in Real^{3}\n",
       "   core type: Operation\n",
       "   operator: 18\n",
       "   operands: 13\n",
       "5. v in Real^{3}\n",
       "   core type: Operation\n",
       "   operator: 18\n",
       "   operands: 14\n",
       "6. w in Real^{3}\n",
       "   core type: Operation\n",
       "   operator: 18\n",
       "   operands: 15\n",
       "7. x in Real^{3}\n",
       "   core type: Operation\n",
       "   operator: 18\n",
       "   operands: 16\n",
       "8. y in Real^{3}\n",
       "   core type: Operation\n",
       "   operator: 18\n",
       "   operands: 17\n",
       "9. z in Real^{3}\n",
       "   core type: Operation\n",
       "   operator: 18\n",
       "   operands: 19\n",
       "10. (a, Real)\n",
       "    core type: ExprTuple\n",
       "    sub-expressions: 20, 32\n",
       "11. (b, Real)\n",
       "    core type: ExprTuple\n",
       "    sub-expressions: 21, 32\n",
       "12. (c, Real)\n",
       "    core type: ExprTuple\n",
       "    sub-expressions: 22, 32\n",
       "13. (u, Real^{3})\n",
       "    core type: ExprTuple\n",
       "    sub-expressions: 23, 29\n",
       "14. (v, Real^{3})\n",
       "    core type: ExprTuple\n",
       "    sub-expressions: 24, 29\n",
       "15. (w, Real^{3})\n",
       "    core type: ExprTuple\n",
       "    sub-expressions: 25, 29\n",
       "16. (x, Real^{3})\n",
       "    core type: ExprTuple\n",
       "    sub-expressions: 26, 29\n",
       "17. (y, Real^{3})\n",
       "    core type: ExprTuple\n",
       "    sub-expressions: 27, 29\n",
       "18. in\n",
       "    core type: Literal\n",
       "    sub-expressions: \n",
       "19. (z, Real^{3})\n",
       "    core type: ExprTuple\n",
       "    sub-expressions: 28, 29\n",
       "20. a\n",
       "    core type: Variable\n",
       "    sub-expressions: \n",
       "21. b\n",
       "    core type: Variable\n",
       "    sub-expressions: \n",
       "22. c\n",
       "    core type: Variable\n",
       "    sub-expressions: \n",
       "23. u\n",
       "    core type: Variable\n",
       "    sub-expressions: \n",
       "24. v\n",
       "    core type: Variable\n",
       "    sub-expressions: \n",
       "25. w\n",
       "    core type: Variable\n",
       "    sub-expressions: \n",
       "26. x\n",
       "    core type: Variable\n",
       "    sub-expressions: \n",
       "27. y\n",
       "    core type: Variable\n",
       "    sub-expressions: \n",
       "28. z\n",
       "    core type: Variable\n",
       "    sub-expressions: \n",
       "29. Real^{3}\n",
       "    core type: Operation\n",
       "    operator: 30\n",
       "    operands: 31\n",
       "30. CartExp\n",
       "    core type: Literal\n",
       "    sub-expressions: \n",
       "31. (Real, 3)\n",
       "    core type: ExprTuple\n",
       "    sub-expressions: 32, 33\n",
       "32. Real\n",
       "    core type: Literal\n",
       "    sub-expressions: \n",
       "33. 3\n",
       "    core type: Literal\n",
       "    sub-expressions: "
      ]
     },
     "metadata": {},
     "output_type": "display_data"
    }
   ],
   "source": [
    "# display the expression information\n",
    "stored_expr.expr_info()"
   ]
  },
  {
   "cell_type": "code",
   "execution_count": null,
   "metadata": {},
   "outputs": [],
   "source": []
  }
 ],
 "metadata": {
  "kernelspec": {
   "display_name": "Python 3",
   "language": "python",
   "name": "python3"
  }
 },
 "nbformat": 4,
 "nbformat_minor": 0
}