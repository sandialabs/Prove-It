{
 "cells": [
  {
   "cell_type": "markdown",
   "metadata": {},
   "source": [
    "Expression of type <a class=\"ProveItLink\" href=\"../../../../../../../../doc/html/api/proveit.logic.Forall.html\">Forall</a>\n",
    "=======================\n",
    "# from the theory of <a class=\"ProveItLink\" href=\"../../../_theory_nbs_/theory.ipynb\">proveit.linear_algebra.matrices.exponentiation</a>"
   ]
  },
  {
   "cell_type": "code",
   "execution_count": 1,
   "metadata": {},
   "outputs": [],
   "source": [
    "import proveit\n",
    "# Automation is not needed when building an expression:\n",
    "proveit.defaults.automation = False # This will speed things up.\n",
    "proveit.defaults.inline_pngs = False # Makes files smaller.\n",
    "%load_expr # Load the stored expression as 'stored_expr'\n",
    "# import Expression classes needed to build the expression\n",
    "from proveit import A, b, m, x\n",
    "from proveit.linear_algebra import MatrixExp, MatrixMult, ScalarMult\n",
    "from proveit.logic import Equals, Forall\n",
    "from proveit.numbers import Complex, Exp, NaturalPos"
   ]
  },
  {
   "cell_type": "code",
   "execution_count": 2,
   "metadata": {},
   "outputs": [
    {
     "data": {
      "text/html": [
       "<strong id=\"expr\">expr:</strong> <a class=\"ProveItLink\" href=\"expr.ipynb\"><img src=\"expr.png\" style=\"display:inline;vertical-align:middle;\" /></a><br>"
      ],
      "text/plain": [
       "<IPython.core.display.HTML object>"
      ]
     },
     "metadata": {},
     "output_type": "display_data"
    }
   ],
   "source": [
    "# build up the expression from sub-expressions\n",
    "expr = Forall(instance_param_or_params = [m], instance_expr = Forall(instance_param_or_params = [b], instance_expr = Forall(instance_param_or_params = [A, x], instance_expr = Equals(MatrixMult(MatrixExp(A, m), x), MatrixMult(Exp(b, m), x)), condition = Equals(MatrixMult(A, x), ScalarMult(b, x))), domain = Complex), domain = NaturalPos)"
   ]
  },
  {
   "cell_type": "code",
   "execution_count": 3,
   "metadata": {},
   "outputs": [
    {
     "name": "stdout",
     "output_type": "stream",
     "text": [
      "Passed sanity check: expr matches stored_expr\n"
     ]
    }
   ],
   "source": [
    "# check that the built expression is the same as the stored expression\n",
    "assert expr == stored_expr\n",
    "assert expr._style_id == stored_expr._style_id\n",
    "print(\"Passed sanity check: expr matches stored_expr\")"
   ]
  },
  {
   "cell_type": "code",
   "execution_count": 4,
   "metadata": {},
   "outputs": [
    {
     "name": "stdout",
     "output_type": "stream",
     "text": [
      "\\forall_{m \\in \\mathbb{N}^+}~\\left[\\forall_{b \\in \\mathbb{C}}~\\left[\\forall_{A, x~|~\\left(A \\thinspace x\\right) = \\left(b \\cdot x\\right)}~\\left(\\left(A^{m} \\thinspace x\\right) = \\left(b^{m} \\thinspace x\\right)\\right)\\right]\\right]\n"
     ]
    }
   ],
   "source": [
    "# Show the LaTeX representation of the expression for convenience if you need it.\n",
    "print(stored_expr.latex())"
   ]
  },
  {
   "cell_type": "code",
   "execution_count": 5,
   "metadata": {},
   "outputs": [
    {
     "data": {
      "text/html": [
       "<table>\n",
       "<tr><th>name</th><th>description</th><th>default</th><th>current value</th><th>related methods</th></tr><tr><td>with_wrapping</td><td>If 'True', wrap the Expression after the parameters</td><td>None</td><td>None/False</td><td>('with_wrapping',)</td></tr>\n",
       "<tr><td>condition_wrapping</td><td>Wrap 'before' or 'after' the condition (or None).</td><td>None</td><td>None/False</td><td>('with_wrap_after_condition', 'with_wrap_before_condition')</td></tr>\n",
       "<tr><td>wrap_params</td><td>If 'True', wraps every two parameters AND wraps the Expression after the parameters</td><td>None</td><td>None/False</td><td>('with_params',)</td></tr>\n",
       "<tr><td>justification</td><td>justify to the 'left', 'center', or 'right' in the array cells</td><td>center</td><td>center</td><td>('with_justification',)</td></tr>\n",
       "</table>\n"
      ],
      "text/plain": [
       "style name: with_wrapping\n",
       "description: If 'True', wrap the Expression after the parameters\n",
       "default: None\n",
       "current value: None/False\n",
       "related methods: ('with_wrapping',)\n",
       "style name: condition_wrapping\n",
       "description: Wrap 'before' or 'after' the condition (or None).\n",
       "default: None\n",
       "current value: None/False\n",
       "related methods: ('with_wrap_after_condition', 'with_wrap_before_condition')\n",
       "style name: wrap_params\n",
       "description: If 'True', wraps every two parameters AND wraps the Expression after the parameters\n",
       "default: None\n",
       "current value: None/False\n",
       "related methods: ('with_params',)\n",
       "style name: justification\n",
       "description: justify to the 'left', 'center', or 'right' in the array cells\n",
       "default: center\n",
       "current value: center\n",
       "related methods: ('with_justification',)"
      ]
     },
     "metadata": {},
     "output_type": "display_data"
    }
   ],
   "source": [
    "stored_expr.style_options()"
   ]
  },
  {
   "cell_type": "code",
   "execution_count": 6,
   "metadata": {},
   "outputs": [
    {
     "data": {
      "text/html": [
       "<table><tr><th>&nbsp;</th><th>core type</th><th>sub-expressions</th><th>expression</th></tr>\n",
       "<tr><td>0</td><td>Operation</td><td>operator:&nbsp;15<br>operand:&nbsp;2<br></td><td><a class=\"ProveItLink\" href=\"expr.ipynb\"><img src=\"expr.png\" style=\"display:inline;vertical-align:middle;\" /></a></td></tr>\n",
       "<tr><td>1</td><td>ExprTuple</td><td>2</td><td><a class=\"ProveItLink\" href=\"../2a9e28c8bcfd84731274d703dceaefdda79463060/expr.ipynb\"><img src=\"../2a9e28c8bcfd84731274d703dceaefdda79463060/expr.png\" style=\"display:inline;vertical-align:middle;\" /></a></td></tr>\n",
       "<tr><td>2</td><td>Lambda</td><td>parameter:&nbsp;46<br>body:&nbsp;4<br></td><td><a class=\"ProveItLink\" href=\"../bceb0ddb6744923a34f84db0743122e951626d230/expr.ipynb\"><img src=\"../bceb0ddb6744923a34f84db0743122e951626d230/expr.png\" style=\"display:inline;vertical-align:middle;\" /></a></td></tr>\n",
       "<tr><td>3</td><td>ExprTuple</td><td>46</td><td><a class=\"ProveItLink\" href=\"../2ed45ad9602ac89076225577ef477d88f8c5a1790/expr.ipynb\"><img src=\"../2ed45ad9602ac89076225577ef477d88f8c5a1790/expr.png\" style=\"display:inline;vertical-align:middle;\" /></a></td></tr>\n",
       "<tr><td>4</td><td>Conditional</td><td>value:&nbsp;5<br>condition:&nbsp;6<br></td><td><a class=\"ProveItLink\" href=\"../248dcc04bc1f460d4627dc02570e18cdfc751c6a0/expr.ipynb\"><img src=\"../248dcc04bc1f460d4627dc02570e18cdfc751c6a0/expr.png\" style=\"display:inline;vertical-align:middle;\" /></a></td></tr>\n",
       "<tr><td>5</td><td>Operation</td><td>operator:&nbsp;15<br>operand:&nbsp;9<br></td><td><a class=\"ProveItLink\" href=\"../0041e44ea991d143c27ae8ef67fccdd757704e2d0/expr.ipynb\"><img src=\"../0041e44ea991d143c27ae8ef67fccdd757704e2d0/expr.png\" style=\"display:inline;vertical-align:middle;\" /></a></td></tr>\n",
       "<tr><td>6</td><td>Operation</td><td>operator:&nbsp;17<br>operands:&nbsp;8<br></td><td><a class=\"ProveItLink\" href=\"../79a768603778550c651661670153c27ee0a505870/expr.ipynb\"><img src=\"../79a768603778550c651661670153c27ee0a505870/expr.png\" style=\"display:inline;vertical-align:middle;\" /></a></td></tr>\n",
       "<tr><td>7</td><td>ExprTuple</td><td>9</td><td><a class=\"ProveItLink\" href=\"../73d26010d6c2b30a104f79c957bac632815c1e910/expr.ipynb\"><img src=\"../73d26010d6c2b30a104f79c957bac632815c1e910/expr.png\" style=\"display:inline;vertical-align:middle;\" /></a></td></tr>\n",
       "<tr><td>8</td><td>ExprTuple</td><td>46, 10</td><td><a class=\"ProveItLink\" href=\"../0aafde61e876ad81c8138546f58d9459d893af050/expr.ipynb\"><img src=\"../0aafde61e876ad81c8138546f58d9459d893af050/expr.png\" style=\"display:inline;vertical-align:middle;\" /></a></td></tr>\n",
       "<tr><td>9</td><td>Lambda</td><td>parameter:&nbsp;45<br>body:&nbsp;12<br></td><td><a class=\"ProveItLink\" href=\"../e0b4a78fc14eb30be861171c00231848c9628cd90/expr.ipynb\"><img src=\"../e0b4a78fc14eb30be861171c00231848c9628cd90/expr.png\" style=\"display:inline;vertical-align:middle;\" /></a></td></tr>\n",
       "<tr><td>10</td><td>Literal</td><td></td><td><a class=\"ProveItLink\" href=\"../../../../../../numbers/number_sets/natural_numbers/__pv_it/common/6111329435c43892c831c4793de96afbf80bdb3e0/expr.ipynb\"><img src=\"../../../../../../numbers/number_sets/natural_numbers/__pv_it/common/6111329435c43892c831c4793de96afbf80bdb3e0/expr.png\" style=\"display:inline;vertical-align:middle;\" /></a></td></tr>\n",
       "<tr><td>11</td><td>ExprTuple</td><td>45</td><td><a class=\"ProveItLink\" href=\"../2172b6b5a562721cf67ce94593b8be1eb7f26c660/expr.ipynb\"><img src=\"../2172b6b5a562721cf67ce94593b8be1eb7f26c660/expr.png\" style=\"display:inline;vertical-align:middle;\" /></a></td></tr>\n",
       "<tr><td>12</td><td>Conditional</td><td>value:&nbsp;13<br>condition:&nbsp;14<br></td><td><a class=\"ProveItLink\" href=\"../b2d9167e0b735604368eaf53db7ff2a46a4d05290/expr.ipynb\"><img src=\"../b2d9167e0b735604368eaf53db7ff2a46a4d05290/expr.png\" style=\"display:inline;vertical-align:middle;\" /></a></td></tr>\n",
       "<tr><td>13</td><td>Operation</td><td>operator:&nbsp;15<br>operand:&nbsp;19<br></td><td><a class=\"ProveItLink\" href=\"../932bd70c39f491fbb2f2919fd575902eba87d13d0/expr.ipynb\"><img src=\"../932bd70c39f491fbb2f2919fd575902eba87d13d0/expr.png\" style=\"display:inline;vertical-align:middle;\" /></a></td></tr>\n",
       "<tr><td>14</td><td>Operation</td><td>operator:&nbsp;17<br>operands:&nbsp;18<br></td><td><a class=\"ProveItLink\" href=\"../a259ec76dfb0a5be60b7c83d797520fa82c1dba60/expr.ipynb\"><img src=\"../a259ec76dfb0a5be60b7c83d797520fa82c1dba60/expr.png\" style=\"display:inline;vertical-align:middle;\" /></a></td></tr>\n",
       "<tr><td>15</td><td>Literal</td><td></td><td><a class=\"ProveItLink\" href=\"../../../../../../logic/booleans/quantification/universality/__pv_it/common/083d2baa0b8ecab1d230f9ec29a15aa1355809fb0/expr.ipynb\"><img src=\"../../../../../../logic/booleans/quantification/universality/__pv_it/common/083d2baa0b8ecab1d230f9ec29a15aa1355809fb0/expr.png\" style=\"display:inline;vertical-align:middle;\" /></a></td></tr>\n",
       "<tr><td>16</td><td>ExprTuple</td><td>19</td><td><a class=\"ProveItLink\" href=\"../add99cd19523b2356bb6205e929ddd670e48e0470/expr.ipynb\"><img src=\"../add99cd19523b2356bb6205e929ddd670e48e0470/expr.png\" style=\"display:inline;vertical-align:middle;\" /></a></td></tr>\n",
       "<tr><td>17</td><td>Literal</td><td></td><td><a class=\"ProveItLink\" href=\"../../../../../../logic/sets/membership/__pv_it/common/477487d8796864d23d5810f83761435f25167f690/expr.ipynb\"><img src=\"../../../../../../logic/sets/membership/__pv_it/common/477487d8796864d23d5810f83761435f25167f690/expr.png\" style=\"display:inline;vertical-align:middle;\" /></a></td></tr>\n",
       "<tr><td>18</td><td>ExprTuple</td><td>45, 20</td><td><a class=\"ProveItLink\" href=\"../4a72a986c458b001a667c5069838c28cc69c8d280/expr.ipynb\"><img src=\"../4a72a986c458b001a667c5069838c28cc69c8d280/expr.png\" style=\"display:inline;vertical-align:middle;\" /></a></td></tr>\n",
       "<tr><td>19</td><td>Lambda</td><td>parameters:&nbsp;34<br>body:&nbsp;21<br></td><td><a class=\"ProveItLink\" href=\"../261c9a29c838341fb91b07d962a45e7d5825d5410/expr.ipynb\"><img src=\"../261c9a29c838341fb91b07d962a45e7d5825d5410/expr.png\" style=\"display:inline;vertical-align:middle;\" /></a></td></tr>\n",
       "<tr><td>20</td><td>Literal</td><td></td><td><a class=\"ProveItLink\" href=\"../../../../../../numbers/number_sets/complex_numbers/__pv_it/common/d18a028138f659eda00de597c28a3447fe87eb100/expr.ipynb\"><img src=\"../../../../../../numbers/number_sets/complex_numbers/__pv_it/common/d18a028138f659eda00de597c28a3447fe87eb100/expr.png\" style=\"display:inline;vertical-align:middle;\" /></a></td></tr>\n",
       "<tr><td>21</td><td>Conditional</td><td>value:&nbsp;22<br>condition:&nbsp;23<br></td><td><a class=\"ProveItLink\" href=\"../221a3395ca0ea7a66e627b4bf1d37a5e3bc895f60/expr.ipynb\"><img src=\"../221a3395ca0ea7a66e627b4bf1d37a5e3bc895f60/expr.png\" style=\"display:inline;vertical-align:middle;\" /></a></td></tr>\n",
       "<tr><td>22</td><td>Operation</td><td>operator:&nbsp;25<br>operands:&nbsp;24<br></td><td><a class=\"ProveItLink\" href=\"../31baf4212a6a5af64265be52f7b97d8a627a76400/expr.ipynb\"><img src=\"../31baf4212a6a5af64265be52f7b97d8a627a76400/expr.png\" style=\"display:inline;vertical-align:middle;\" /></a></td></tr>\n",
       "<tr><td>23</td><td>Operation</td><td>operator:&nbsp;25<br>operands:&nbsp;26<br></td><td><a class=\"ProveItLink\" href=\"../9378241d54368ff2e93a8d5566f7becc9102ad170/expr.ipynb\"><img src=\"../9378241d54368ff2e93a8d5566f7becc9102ad170/expr.png\" style=\"display:inline;vertical-align:middle;\" /></a></td></tr>\n",
       "<tr><td>24</td><td>ExprTuple</td><td>27, 28</td><td><a class=\"ProveItLink\" href=\"../524e9394b5ef6e69c2fd8902ab9306f860bdcddc0/expr.ipynb\"><img src=\"../524e9394b5ef6e69c2fd8902ab9306f860bdcddc0/expr.png\" style=\"display:inline;vertical-align:middle;\" /></a></td></tr>\n",
       "<tr><td>25</td><td>Literal</td><td></td><td><a class=\"ProveItLink\" href=\"../../../../../../logic/equality/__pv_it/common/fb96dc12b2aa8801dda64d0132b396c63d1502bb0/expr.ipynb\"><img src=\"../../../../../../logic/equality/__pv_it/common/fb96dc12b2aa8801dda64d0132b396c63d1502bb0/expr.png\" style=\"display:inline;vertical-align:middle;\" /></a></td></tr>\n",
       "<tr><td>26</td><td>ExprTuple</td><td>29, 30</td><td><a class=\"ProveItLink\" href=\"../e2b0dcb10a185b4354778b0dc1e44db9e3149ab60/expr.ipynb\"><img src=\"../e2b0dcb10a185b4354778b0dc1e44db9e3149ab60/expr.png\" style=\"display:inline;vertical-align:middle;\" /></a></td></tr>\n",
       "<tr><td>27</td><td>Operation</td><td>operator:&nbsp;33<br>operands:&nbsp;31<br></td><td><a class=\"ProveItLink\" href=\"../3c66ce318fb6fbb69a9acb715bf6a4c4d3d5e6ef0/expr.ipynb\"><img src=\"../3c66ce318fb6fbb69a9acb715bf6a4c4d3d5e6ef0/expr.png\" style=\"display:inline;vertical-align:middle;\" /></a></td></tr>\n",
       "<tr><td>28</td><td>Operation</td><td>operator:&nbsp;33<br>operands:&nbsp;32<br></td><td><a class=\"ProveItLink\" href=\"../ab73f78c19c54cc957b584289d014b7dae39a4740/expr.ipynb\"><img src=\"../ab73f78c19c54cc957b584289d014b7dae39a4740/expr.png\" style=\"display:inline;vertical-align:middle;\" /></a></td></tr>\n",
       "<tr><td>29</td><td>Operation</td><td>operator:&nbsp;33<br>operands:&nbsp;34<br></td><td><a class=\"ProveItLink\" href=\"../d685fe882cf4b0a4043cf46fe54cf753e57242680/expr.ipynb\"><img src=\"../d685fe882cf4b0a4043cf46fe54cf753e57242680/expr.png\" style=\"display:inline;vertical-align:middle;\" /></a></td></tr>\n",
       "<tr><td>30</td><td>Operation</td><td>operator:&nbsp;35<br>operands:&nbsp;36<br></td><td><a class=\"ProveItLink\" href=\"../7a77d51cdde850bf5ca77d16ba9f1d4ebf2fedc50/expr.ipynb\"><img src=\"../7a77d51cdde850bf5ca77d16ba9f1d4ebf2fedc50/expr.png\" style=\"display:inline;vertical-align:middle;\" /></a></td></tr>\n",
       "<tr><td>31</td><td>ExprTuple</td><td>37, 39</td><td><a class=\"ProveItLink\" href=\"../1f5274ab36797ba56124df567e90a02e5071423b0/expr.ipynb\"><img src=\"../1f5274ab36797ba56124df567e90a02e5071423b0/expr.png\" style=\"display:inline;vertical-align:middle;\" /></a></td></tr>\n",
       "<tr><td>32</td><td>ExprTuple</td><td>38, 39</td><td><a class=\"ProveItLink\" href=\"../26ab0aa984a0d543fad34e7c9d58b8178fba90f10/expr.ipynb\"><img src=\"../26ab0aa984a0d543fad34e7c9d58b8178fba90f10/expr.png\" style=\"display:inline;vertical-align:middle;\" /></a></td></tr>\n",
       "<tr><td>33</td><td>Literal</td><td></td><td><a class=\"ProveItLink\" href=\"../../../../multiplication/__pv_it/common/a56cf42f971ea8b70c320fc0b98f33dc6dac5b610/expr.ipynb\"><img src=\"../../../../multiplication/__pv_it/common/a56cf42f971ea8b70c320fc0b98f33dc6dac5b610/expr.png\" style=\"display:inline;vertical-align:middle;\" /></a></td></tr>\n",
       "<tr><td>34</td><td>ExprTuple</td><td>44, 39</td><td><a class=\"ProveItLink\" href=\"../8fe66913ebe1c7961100c4e0925c8533a57298310/expr.ipynb\"><img src=\"../8fe66913ebe1c7961100c4e0925c8533a57298310/expr.png\" style=\"display:inline;vertical-align:middle;\" /></a></td></tr>\n",
       "<tr><td>35</td><td>Literal</td><td></td><td><a class=\"ProveItLink\" href=\"../../../../../scalar_multiplication/__pv_it/common/1e364bd471e6a29fcd358dd2d9cd990a1e6fedd40/expr.ipynb\"><img src=\"../../../../../scalar_multiplication/__pv_it/common/1e364bd471e6a29fcd358dd2d9cd990a1e6fedd40/expr.png\" style=\"display:inline;vertical-align:middle;\" /></a></td></tr>\n",
       "<tr><td>36</td><td>ExprTuple</td><td>45, 39</td><td><a class=\"ProveItLink\" href=\"../c38b378836b1ef8aced823d37aa3888c7c80002c0/expr.ipynb\"><img src=\"../c38b378836b1ef8aced823d37aa3888c7c80002c0/expr.png\" style=\"display:inline;vertical-align:middle;\" /></a></td></tr>\n",
       "<tr><td>37</td><td>Operation</td><td>operator:&nbsp;40<br>operands:&nbsp;41<br></td><td><a class=\"ProveItLink\" href=\"../61173320f992a6613ed0bc0a00ecd5e7078ae5af0/expr.ipynb\"><img src=\"../61173320f992a6613ed0bc0a00ecd5e7078ae5af0/expr.png\" style=\"display:inline;vertical-align:middle;\" /></a></td></tr>\n",
       "<tr><td>38</td><td>Operation</td><td>operator:&nbsp;42<br>operands:&nbsp;43<br></td><td><a class=\"ProveItLink\" href=\"../ab29a4dcbe1f980ca2fb42de1119cfdf6f5998c20/expr.ipynb\"><img src=\"../ab29a4dcbe1f980ca2fb42de1119cfdf6f5998c20/expr.png\" style=\"display:inline;vertical-align:middle;\" /></a></td></tr>\n",
       "<tr><td>39</td><td>Variable</td><td></td><td><a class=\"ProveItLink\" href=\"../../../../../../__pv_it/common/a0d9d672aa5e272d907247690c152cc2c6daafb70/expr.ipynb\"><img src=\"../../../../../../__pv_it/common/a0d9d672aa5e272d907247690c152cc2c6daafb70/expr.png\" style=\"display:inline;vertical-align:middle;\" /></a></td></tr>\n",
       "<tr><td>40</td><td>Literal</td><td></td><td><a class=\"ProveItLink\" href=\"../../common/7d2841d26e131e75e1bb8532fff3e362feab15050/expr.ipynb\"><img src=\"../../common/7d2841d26e131e75e1bb8532fff3e362feab15050/expr.png\" style=\"display:inline;vertical-align:middle;\" /></a></td></tr>\n",
       "<tr><td>41</td><td>ExprTuple</td><td>44, 46</td><td><a class=\"ProveItLink\" href=\"../cbedccc4332639cb9ead1d90241e8e3ae7f04d5a0/expr.ipynb\"><img src=\"../cbedccc4332639cb9ead1d90241e8e3ae7f04d5a0/expr.png\" style=\"display:inline;vertical-align:middle;\" /></a></td></tr>\n",
       "<tr><td>42</td><td>Literal</td><td></td><td><a class=\"ProveItLink\" href=\"../../../../../../numbers/exponentiation/__pv_it/common/0ac37aca1e54c35c5cda09672df32d4f69f1f3020/expr.ipynb\"><img src=\"../../../../../../numbers/exponentiation/__pv_it/common/0ac37aca1e54c35c5cda09672df32d4f69f1f3020/expr.png\" style=\"display:inline;vertical-align:middle;\" /></a></td></tr>\n",
       "<tr><td>43</td><td>ExprTuple</td><td>45, 46</td><td><a class=\"ProveItLink\" href=\"../80f58bf9caaf6c423b59bdb5121e690168e875ce0/expr.ipynb\"><img src=\"../80f58bf9caaf6c423b59bdb5121e690168e875ce0/expr.png\" style=\"display:inline;vertical-align:middle;\" /></a></td></tr>\n",
       "<tr><td>44</td><td>Variable</td><td></td><td><a class=\"ProveItLink\" href=\"../../../../../../__pv_it/common/09585084922504426caf1db2ff588a23a0932a960/expr.ipynb\"><img src=\"../../../../../../__pv_it/common/09585084922504426caf1db2ff588a23a0932a960/expr.png\" style=\"display:inline;vertical-align:middle;\" /></a></td></tr>\n",
       "<tr><td>45</td><td>Variable</td><td></td><td><a class=\"ProveItLink\" href=\"../../../../../../__pv_it/common/195236b98c6c564a75b5dbada74b173bc52d5c3e0/expr.ipynb\"><img src=\"../../../../../../__pv_it/common/195236b98c6c564a75b5dbada74b173bc52d5c3e0/expr.png\" style=\"display:inline;vertical-align:middle;\" /></a></td></tr>\n",
       "<tr><td>46</td><td>Variable</td><td></td><td><a class=\"ProveItLink\" href=\"../../../../../../__pv_it/common/674a03b9c3ca221b3aabd5636837b31528ff33830/expr.ipynb\"><img src=\"../../../../../../__pv_it/common/674a03b9c3ca221b3aabd5636837b31528ff33830/expr.png\" style=\"display:inline;vertical-align:middle;\" /></a></td></tr>\n",
       "</table>\n"
      ],
      "text/plain": [
       "0. forall_{m in NaturalPos} [forall_{b in Complex} [forall_{A, x | (A . x) = (b * x)} ((A^{m} . x) = (b^{m} . x))]]\n",
       "   core type: Operation\n",
       "   operator: 15\n",
       "   operand: 2\n",
       "1. (m -> {forall_{b in Complex} [forall_{A, x | (A . x) = (b * x)} ((A^{m} . x) = (b^{m} . x))] if m in NaturalPos.)\n",
       "   core type: ExprTuple\n",
       "   sub-expressions: 2\n",
       "2. m -> {forall_{b in Complex} [forall_{A, x | (A . x) = (b * x)} ((A^{m} . x) = (b^{m} . x))] if m in NaturalPos.\n",
       "   core type: Lambda\n",
       "   parameter: 46\n",
       "   body: 4\n",
       "3. (m)\n",
       "   core type: ExprTuple\n",
       "   sub-expressions: 46\n",
       "4. {forall_{b in Complex} [forall_{A, x | (A . x) = (b * x)} ((A^{m} . x) = (b^{m} . x))] if m in NaturalPos.\n",
       "   core type: Conditional\n",
       "   value: 5\n",
       "   condition: 6\n",
       "5. forall_{b in Complex} [forall_{A, x | (A . x) = (b * x)} ((A^{m} . x) = (b^{m} . x))]\n",
       "   core type: Operation\n",
       "   operator: 15\n",
       "   operand: 9\n",
       "6. m in NaturalPos\n",
       "   core type: Operation\n",
       "   operator: 17\n",
       "   operands: 8\n",
       "7. (b -> {forall_{A, x | (A . x) = (b * x)} ((A^{m} . x) = (b^{m} . x)) if b in Complex.)\n",
       "   core type: ExprTuple\n",
       "   sub-expressions: 9\n",
       "8. (m, NaturalPos)\n",
       "   core type: ExprTuple\n",
       "   sub-expressions: 46, 10\n",
       "9. b -> {forall_{A, x | (A . x) = (b * x)} ((A^{m} . x) = (b^{m} . x)) if b in Complex.\n",
       "   core type: Lambda\n",
       "   parameter: 45\n",
       "   body: 12\n",
       "10. NaturalPos\n",
       "    core type: Literal\n",
       "    sub-expressions: \n",
       "11. (b)\n",
       "    core type: ExprTuple\n",
       "    sub-expressions: 45\n",
       "12. {forall_{A, x | (A . x) = (b * x)} ((A^{m} . x) = (b^{m} . x)) if b in Complex.\n",
       "    core type: Conditional\n",
       "    value: 13\n",
       "    condition: 14\n",
       "13. forall_{A, x | (A . x) = (b * x)} ((A^{m} . x) = (b^{m} . x))\n",
       "    core type: Operation\n",
       "    operator: 15\n",
       "    operand: 19\n",
       "14. b in Complex\n",
       "    core type: Operation\n",
       "    operator: 17\n",
       "    operands: 18\n",
       "15. forall\n",
       "    core type: Literal\n",
       "    sub-expressions: \n",
       "16. ((A, x) -> {(A^{m} . x) = (b^{m} . x) if (A . x) = (b * x).)\n",
       "    core type: ExprTuple\n",
       "    sub-expressions: 19\n",
       "17. in\n",
       "    core type: Literal\n",
       "    sub-expressions: \n",
       "18. (b, Complex)\n",
       "    core type: ExprTuple\n",
       "    sub-expressions: 45, 20\n",
       "19. (A, x) -> {(A^{m} . x) = (b^{m} . x) if (A . x) = (b * x).\n",
       "    core type: Lambda\n",
       "    parameters: 34\\n    body: 21\n",
       "20. Complex\n",
       "    core type: Literal\n",
       "    sub-expressions: \n",
       "21. {(A^{m} . x) = (b^{m} . x) if (A . x) = (b * x).\n",
       "    core type: Conditional\n",
       "    value: 22\n",
       "    condition: 23\n",
       "22. (A^{m} . x) = (b^{m} . x)\n",
       "    core type: Operation\n",
       "    operator: 25\n",
       "    operands: 24\n",
       "23. (A . x) = (b * x)\n",
       "    core type: Operation\n",
       "    operator: 25\n",
       "    operands: 26\n",
       "24. (A^{m} . x, b^{m} . x)\n",
       "    core type: ExprTuple\n",
       "    sub-expressions: 27, 28\n",
       "25. =\n",
       "    core type: Literal\n",
       "    sub-expressions: \n",
       "26. (A . x, b * x)\n",
       "    core type: ExprTuple\n",
       "    sub-expressions: 29, 30\n",
       "27. A^{m} . x\n",
       "    core type: Operation\n",
       "    operator: 33\n",
       "    operands: 31\n",
       "28. b^{m} . x\n",
       "    core type: Operation\n",
       "    operator: 33\n",
       "    operands: 32\n",
       "29. A . x\n",
       "    core type: Operation\n",
       "    operator: 33\n",
       "    operands: 34\n",
       "30. b * x\n",
       "    core type: Operation\n",
       "    operator: 35\n",
       "    operands: 36\n",
       "31. (A^{m}, x)\n",
       "    core type: ExprTuple\n",
       "    sub-expressions: 37, 39\n",
       "32. (b^{m}, x)\n",
       "    core type: ExprTuple\n",
       "    sub-expressions: 38, 39\n",
       "33. .\n",
       "    core type: Literal\n",
       "    sub-expressions: \n",
       "34. (A, x)\n",
       "    core type: ExprTuple\n",
       "    sub-expressions: 44, 39\n",
       "35. *\n",
       "    core type: Literal\n",
       "    sub-expressions: \n",
       "36. (b, x)\n",
       "    core type: ExprTuple\n",
       "    sub-expressions: 45, 39\n",
       "37. A^{m}\n",
       "    core type: Operation\n",
       "    operator: 40\n",
       "    operands: 41\n",
       "38. b^{m}\n",
       "    core type: Operation\n",
       "    operator: 42\n",
       "    operands: 43\n",
       "39. x\n",
       "    core type: Variable\n",
       "    sub-expressions: \n",
       "40. ExpM\n",
       "    core type: Literal\n",
       "    sub-expressions: \n",
       "41. (A, m)\n",
       "    core type: ExprTuple\n",
       "    sub-expressions: 44, 46\n",
       "42. Exp\n",
       "    core type: Literal\n",
       "    sub-expressions: \n",
       "43. (b, m)\n",
       "    core type: ExprTuple\n",
       "    sub-expressions: 45, 46\n",
       "44. A\n",
       "    core type: Variable\n",
       "    sub-expressions: \n",
       "45. b\n",
       "    core type: Variable\n",
       "    sub-expressions: \n",
       "46. m\n",
       "    core type: Variable\n",
       "    sub-expressions: "
      ]
     },
     "metadata": {},
     "output_type": "display_data"
    }
   ],
   "source": [
    "# display the expression information\n",
    "stored_expr.expr_info()"
   ]
  },
  {
   "cell_type": "code",
   "execution_count": null,
   "metadata": {},
   "outputs": [],
   "source": []
  }
 ],
 "metadata": {
  "kernelspec": {
   "display_name": "Python 3",
   "language": "python",
   "name": "python3"
  }
 },
 "nbformat": 4,
 "nbformat_minor": 0
}