{
 "cells": [
  {
   "cell_type": "markdown",
   "metadata": {},
   "source": [
    "Expression of type <a class=\"ProveItLink\" href=\"../../../../../../../../doc/html/api/proveit.ExprTuple.html\">ExprTuple</a>\n",
    "=======================\n",
    "# from the theory of <a class=\"ProveItLink\" href=\"../../../_theory_nbs_/theory.ipynb\">proveit.linear_algebra.matrices.exponentiation</a>"
   ]
  },
  {
   "cell_type": "code",
   "execution_count": 1,
   "metadata": {},
   "outputs": [],
   "source": [
    "import proveit\n",
    "# Automation is not needed when building an expression:\n",
    "proveit.defaults.automation = False # This will speed things up.\n",
    "proveit.defaults.inline_pngs = False # Makes files smaller.\n",
    "%load_expr # Load the stored expression as 'stored_expr'\n",
    "# import Expression classes needed to build the expression\n",
    "from proveit import A, Conditional, ExprTuple, Lambda, m, rho, x\n",
    "from proveit.linear_algebra import MatrixExp, MatrixMult, ScalarMult\n",
    "from proveit.logic import Equals, Forall, InSet\n",
    "from proveit.numbers import Exp, Mult, Real, e, i, pi, two"
   ]
  },
  {
   "cell_type": "code",
   "execution_count": 2,
   "metadata": {},
   "outputs": [
    {
     "data": {
      "text/html": [
       "<strong id=\"expr\">expr:</strong> <a class=\"ProveItLink\" href=\"expr.ipynb\"><img src=\"expr.png\" style=\"display:inline;vertical-align:middle;\" /></a><br>"
      ],
      "text/plain": [
       "<IPython.core.display.HTML object>"
      ]
     },
     "metadata": {},
     "output_type": "display_data"
    }
   ],
   "source": [
    "# build up the expression from sub-expressions\n",
    "expr = ExprTuple(Lambda(rho, Conditional(Forall(instance_param_or_params = [A, x], instance_expr = Equals(MatrixMult(MatrixExp(A, m), x), ScalarMult(Exp(e, Mult(two, pi, i, Mult(m, rho))), x)), condition = Equals(MatrixMult(A, x), ScalarMult(Exp(e, Mult(two, pi, i, rho)), x))), InSet(rho, Real))))"
   ]
  },
  {
   "cell_type": "code",
   "execution_count": 3,
   "metadata": {},
   "outputs": [
    {
     "name": "stdout",
     "output_type": "stream",
     "text": [
      "Passed sanity check: expr matches stored_expr\n"
     ]
    }
   ],
   "source": [
    "# check that the built expression is the same as the stored expression\n",
    "assert expr == stored_expr\n",
    "assert expr._style_id == stored_expr._style_id\n",
    "print(\"Passed sanity check: expr matches stored_expr\")"
   ]
  },
  {
   "cell_type": "code",
   "execution_count": 4,
   "metadata": {},
   "outputs": [
    {
     "name": "stdout",
     "output_type": "stream",
     "text": [
      "\\left(\\rho \\mapsto \\left\\{\\forall_{A, x~|~\\left(A \\thinspace x\\right) = \\left(\\mathsf{e}^{2 \\cdot \\pi \\cdot \\mathsf{i} \\cdot \\rho} \\cdot x\\right)}~\\left(\\left(A^{m} \\thinspace x\\right) = \\left(\\mathsf{e}^{2 \\cdot \\pi \\cdot \\mathsf{i} \\cdot \\left(m \\cdot \\rho\\right)} \\cdot x\\right)\\right) \\textrm{ if } \\rho \\in \\mathbb{R}\\right..\\right)\n"
     ]
    }
   ],
   "source": [
    "# Show the LaTeX representation of the expression for convenience if you need it.\n",
    "print(stored_expr.latex())"
   ]
  },
  {
   "cell_type": "code",
   "execution_count": 5,
   "metadata": {},
   "outputs": [
    {
     "data": {
      "text/html": [
       "no style options"
      ],
      "text/plain": [
       "no style options"
      ]
     },
     "metadata": {},
     "output_type": "display_data"
    }
   ],
   "source": [
    "stored_expr.style_options()"
   ]
  },
  {
   "cell_type": "code",
   "execution_count": 6,
   "metadata": {},
   "outputs": [
    {
     "data": {
      "text/html": [
       "<table><tr><th>&nbsp;</th><th>core type</th><th>sub-expressions</th><th>expression</th></tr>\n",
       "<tr><td>0</td><td>ExprTuple</td><td>1</td><td><a class=\"ProveItLink\" href=\"expr.ipynb\"><img src=\"expr.png\" style=\"display:inline;vertical-align:middle;\" /></a></td></tr>\n",
       "<tr><td>1</td><td>Lambda</td><td>parameter:&nbsp;50<br>body:&nbsp;3<br></td><td><a class=\"ProveItLink\" href=\"../8c066f0400551744e7c88fa9773448bcadacf6b30/expr.ipynb\"><img src=\"../8c066f0400551744e7c88fa9773448bcadacf6b30/expr.png\" style=\"display:inline;vertical-align:middle;\" /></a></td></tr>\n",
       "<tr><td>2</td><td>ExprTuple</td><td>50</td><td><a class=\"ProveItLink\" href=\"../66ff9afbe9c7590d7573095b16506b9aad05d3b30/expr.ipynb\"><img src=\"../66ff9afbe9c7590d7573095b16506b9aad05d3b30/expr.png\" style=\"display:inline;vertical-align:middle;\" /></a></td></tr>\n",
       "<tr><td>3</td><td>Conditional</td><td>value:&nbsp;4<br>condition:&nbsp;5<br></td><td><a class=\"ProveItLink\" href=\"../cf2ce4a0485f5d2fcfb8c75f8b83c711e1cb95130/expr.ipynb\"><img src=\"../cf2ce4a0485f5d2fcfb8c75f8b83c711e1cb95130/expr.png\" style=\"display:inline;vertical-align:middle;\" /></a></td></tr>\n",
       "<tr><td>4</td><td>Operation</td><td>operator:&nbsp;6<br>operand:&nbsp;10<br></td><td><a class=\"ProveItLink\" href=\"../b15b33ff9d57a96d7e271190b8c09076929906830/expr.ipynb\"><img src=\"../b15b33ff9d57a96d7e271190b8c09076929906830/expr.png\" style=\"display:inline;vertical-align:middle;\" /></a></td></tr>\n",
       "<tr><td>5</td><td>Operation</td><td>operator:&nbsp;8<br>operands:&nbsp;9<br></td><td><a class=\"ProveItLink\" href=\"../2e6e9d16fa4e1a6872a5baa243decb59495fb11e0/expr.ipynb\"><img src=\"../2e6e9d16fa4e1a6872a5baa243decb59495fb11e0/expr.png\" style=\"display:inline;vertical-align:middle;\" /></a></td></tr>\n",
       "<tr><td>6</td><td>Literal</td><td></td><td><a class=\"ProveItLink\" href=\"../../../../../../logic/booleans/quantification/universality/__pv_it/common/083d2baa0b8ecab1d230f9ec29a15aa1355809fb0/expr.ipynb\"><img src=\"../../../../../../logic/booleans/quantification/universality/__pv_it/common/083d2baa0b8ecab1d230f9ec29a15aa1355809fb0/expr.png\" style=\"display:inline;vertical-align:middle;\" /></a></td></tr>\n",
       "<tr><td>7</td><td>ExprTuple</td><td>10</td><td><a class=\"ProveItLink\" href=\"../44adc1355202fabee774aae72d3e83c8eb7fb7db0/expr.ipynb\"><img src=\"../44adc1355202fabee774aae72d3e83c8eb7fb7db0/expr.png\" style=\"display:inline;vertical-align:middle;\" /></a></td></tr>\n",
       "<tr><td>8</td><td>Literal</td><td></td><td><a class=\"ProveItLink\" href=\"../../../../../../logic/sets/membership/__pv_it/common/477487d8796864d23d5810f83761435f25167f690/expr.ipynb\"><img src=\"../../../../../../logic/sets/membership/__pv_it/common/477487d8796864d23d5810f83761435f25167f690/expr.png\" style=\"display:inline;vertical-align:middle;\" /></a></td></tr>\n",
       "<tr><td>9</td><td>ExprTuple</td><td>50, 11</td><td><a class=\"ProveItLink\" href=\"../d901d5249bd9405c7d32e787fd2f9af996e8753d0/expr.ipynb\"><img src=\"../d901d5249bd9405c7d32e787fd2f9af996e8753d0/expr.png\" style=\"display:inline;vertical-align:middle;\" /></a></td></tr>\n",
       "<tr><td>10</td><td>Lambda</td><td>parameters:&nbsp;25<br>body:&nbsp;12<br></td><td><a class=\"ProveItLink\" href=\"../7966c2804558bbf784cc4cda0273cc5042db98c80/expr.ipynb\"><img src=\"../7966c2804558bbf784cc4cda0273cc5042db98c80/expr.png\" style=\"display:inline;vertical-align:middle;\" /></a></td></tr>\n",
       "<tr><td>11</td><td>Literal</td><td></td><td><a class=\"ProveItLink\" href=\"../../../../../../numbers/number_sets/real_numbers/__pv_it/common/93cac87a1a47e613f7a83b23ef7891599a1a4cca0/expr.ipynb\"><img src=\"../../../../../../numbers/number_sets/real_numbers/__pv_it/common/93cac87a1a47e613f7a83b23ef7891599a1a4cca0/expr.png\" style=\"display:inline;vertical-align:middle;\" /></a></td></tr>\n",
       "<tr><td>12</td><td>Conditional</td><td>value:&nbsp;13<br>condition:&nbsp;14<br></td><td><a class=\"ProveItLink\" href=\"../a31b44365408d833351af0370aa9c963935306820/expr.ipynb\"><img src=\"../a31b44365408d833351af0370aa9c963935306820/expr.png\" style=\"display:inline;vertical-align:middle;\" /></a></td></tr>\n",
       "<tr><td>13</td><td>Operation</td><td>operator:&nbsp;16<br>operands:&nbsp;15<br></td><td><a class=\"ProveItLink\" href=\"../5373c7ef02fcc28784f45b66ca789f5ef7d2deae0/expr.ipynb\"><img src=\"../5373c7ef02fcc28784f45b66ca789f5ef7d2deae0/expr.png\" style=\"display:inline;vertical-align:middle;\" /></a></td></tr>\n",
       "<tr><td>14</td><td>Operation</td><td>operator:&nbsp;16<br>operands:&nbsp;17<br></td><td><a class=\"ProveItLink\" href=\"../3014cbfaaaf68e236e6457377a733f493ebce6350/expr.ipynb\"><img src=\"../3014cbfaaaf68e236e6457377a733f493ebce6350/expr.png\" style=\"display:inline;vertical-align:middle;\" /></a></td></tr>\n",
       "<tr><td>15</td><td>ExprTuple</td><td>18, 19</td><td><a class=\"ProveItLink\" href=\"../1cfe5d5aaa29ab0a9e394477082798eeacfe9e130/expr.ipynb\"><img src=\"../1cfe5d5aaa29ab0a9e394477082798eeacfe9e130/expr.png\" style=\"display:inline;vertical-align:middle;\" /></a></td></tr>\n",
       "<tr><td>16</td><td>Literal</td><td></td><td><a class=\"ProveItLink\" href=\"../../../../../../logic/equality/__pv_it/common/fb96dc12b2aa8801dda64d0132b396c63d1502bb0/expr.ipynb\"><img src=\"../../../../../../logic/equality/__pv_it/common/fb96dc12b2aa8801dda64d0132b396c63d1502bb0/expr.png\" style=\"display:inline;vertical-align:middle;\" /></a></td></tr>\n",
       "<tr><td>17</td><td>ExprTuple</td><td>20, 21</td><td><a class=\"ProveItLink\" href=\"../9d06ce5ca9233fcdc8b069b8fdf502aedc5cdc700/expr.ipynb\"><img src=\"../9d06ce5ca9233fcdc8b069b8fdf502aedc5cdc700/expr.png\" style=\"display:inline;vertical-align:middle;\" /></a></td></tr>\n",
       "<tr><td>18</td><td>Operation</td><td>operator:&nbsp;24<br>operands:&nbsp;22<br></td><td><a class=\"ProveItLink\" href=\"../3c66ce318fb6fbb69a9acb715bf6a4c4d3d5e6ef0/expr.ipynb\"><img src=\"../3c66ce318fb6fbb69a9acb715bf6a4c4d3d5e6ef0/expr.png\" style=\"display:inline;vertical-align:middle;\" /></a></td></tr>\n",
       "<tr><td>19</td><td>Operation</td><td>operator:&nbsp;26<br>operands:&nbsp;23<br></td><td><a class=\"ProveItLink\" href=\"../6ba31cd4bcf9eae060d5b37f429be971b75d705e0/expr.ipynb\"><img src=\"../6ba31cd4bcf9eae060d5b37f429be971b75d705e0/expr.png\" style=\"display:inline;vertical-align:middle;\" /></a></td></tr>\n",
       "<tr><td>20</td><td>Operation</td><td>operator:&nbsp;24<br>operands:&nbsp;25<br></td><td><a class=\"ProveItLink\" href=\"../d685fe882cf4b0a4043cf46fe54cf753e57242680/expr.ipynb\"><img src=\"../d685fe882cf4b0a4043cf46fe54cf753e57242680/expr.png\" style=\"display:inline;vertical-align:middle;\" /></a></td></tr>\n",
       "<tr><td>21</td><td>Operation</td><td>operator:&nbsp;26<br>operands:&nbsp;27<br></td><td><a class=\"ProveItLink\" href=\"../6005e56936fcaa645b19de54a866e38aec2ed10c0/expr.ipynb\"><img src=\"../6005e56936fcaa645b19de54a866e38aec2ed10c0/expr.png\" style=\"display:inline;vertical-align:middle;\" /></a></td></tr>\n",
       "<tr><td>22</td><td>ExprTuple</td><td>28, 31</td><td><a class=\"ProveItLink\" href=\"../1f5274ab36797ba56124df567e90a02e5071423b0/expr.ipynb\"><img src=\"../1f5274ab36797ba56124df567e90a02e5071423b0/expr.png\" style=\"display:inline;vertical-align:middle;\" /></a></td></tr>\n",
       "<tr><td>23</td><td>ExprTuple</td><td>29, 31</td><td><a class=\"ProveItLink\" href=\"../266be2e35e5f264348c6432ead335929026717980/expr.ipynb\"><img src=\"../266be2e35e5f264348c6432ead335929026717980/expr.png\" style=\"display:inline;vertical-align:middle;\" /></a></td></tr>\n",
       "<tr><td>24</td><td>Literal</td><td></td><td><a class=\"ProveItLink\" href=\"../../../../multiplication/__pv_it/common/a56cf42f971ea8b70c320fc0b98f33dc6dac5b610/expr.ipynb\"><img src=\"../../../../multiplication/__pv_it/common/a56cf42f971ea8b70c320fc0b98f33dc6dac5b610/expr.png\" style=\"display:inline;vertical-align:middle;\" /></a></td></tr>\n",
       "<tr><td>25</td><td>ExprTuple</td><td>37, 31</td><td><a class=\"ProveItLink\" href=\"../8fe66913ebe1c7961100c4e0925c8533a57298310/expr.ipynb\"><img src=\"../8fe66913ebe1c7961100c4e0925c8533a57298310/expr.png\" style=\"display:inline;vertical-align:middle;\" /></a></td></tr>\n",
       "<tr><td>26</td><td>Literal</td><td></td><td><a class=\"ProveItLink\" href=\"../../../../../scalar_multiplication/__pv_it/common/1e364bd471e6a29fcd358dd2d9cd990a1e6fedd40/expr.ipynb\"><img src=\"../../../../../scalar_multiplication/__pv_it/common/1e364bd471e6a29fcd358dd2d9cd990a1e6fedd40/expr.png\" style=\"display:inline;vertical-align:middle;\" /></a></td></tr>\n",
       "<tr><td>27</td><td>ExprTuple</td><td>30, 31</td><td><a class=\"ProveItLink\" href=\"../df91ad7d7fa66a8c0461da76aa63b922437652720/expr.ipynb\"><img src=\"../df91ad7d7fa66a8c0461da76aa63b922437652720/expr.png\" style=\"display:inline;vertical-align:middle;\" /></a></td></tr>\n",
       "<tr><td>28</td><td>Operation</td><td>operator:&nbsp;32<br>operands:&nbsp;33<br></td><td><a class=\"ProveItLink\" href=\"../61173320f992a6613ed0bc0a00ecd5e7078ae5af0/expr.ipynb\"><img src=\"../61173320f992a6613ed0bc0a00ecd5e7078ae5af0/expr.png\" style=\"display:inline;vertical-align:middle;\" /></a></td></tr>\n",
       "<tr><td>29</td><td>Operation</td><td>operator:&nbsp;35<br>operands:&nbsp;34<br></td><td><a class=\"ProveItLink\" href=\"../bf387f5f6949a45134a77374f6e08648c87a7d920/expr.ipynb\"><img src=\"../bf387f5f6949a45134a77374f6e08648c87a7d920/expr.png\" style=\"display:inline;vertical-align:middle;\" /></a></td></tr>\n",
       "<tr><td>30</td><td>Operation</td><td>operator:&nbsp;35<br>operands:&nbsp;36<br></td><td><a class=\"ProveItLink\" href=\"../538b0c989fad243e0179b42e279d76cce3eb8e2e0/expr.ipynb\"><img src=\"../538b0c989fad243e0179b42e279d76cce3eb8e2e0/expr.png\" style=\"display:inline;vertical-align:middle;\" /></a></td></tr>\n",
       "<tr><td>31</td><td>Variable</td><td></td><td><a class=\"ProveItLink\" href=\"../../../../../../__pv_it/common/a0d9d672aa5e272d907247690c152cc2c6daafb70/expr.ipynb\"><img src=\"../../../../../../__pv_it/common/a0d9d672aa5e272d907247690c152cc2c6daafb70/expr.png\" style=\"display:inline;vertical-align:middle;\" /></a></td></tr>\n",
       "<tr><td>32</td><td>Literal</td><td></td><td><a class=\"ProveItLink\" href=\"../../common/7d2841d26e131e75e1bb8532fff3e362feab15050/expr.ipynb\"><img src=\"../../common/7d2841d26e131e75e1bb8532fff3e362feab15050/expr.png\" style=\"display:inline;vertical-align:middle;\" /></a></td></tr>\n",
       "<tr><td>33</td><td>ExprTuple</td><td>37, 49</td><td><a class=\"ProveItLink\" href=\"../cbedccc4332639cb9ead1d90241e8e3ae7f04d5a0/expr.ipynb\"><img src=\"../cbedccc4332639cb9ead1d90241e8e3ae7f04d5a0/expr.png\" style=\"display:inline;vertical-align:middle;\" /></a></td></tr>\n",
       "<tr><td>34</td><td>ExprTuple</td><td>39, 38</td><td><a class=\"ProveItLink\" href=\"../3672839dc40f2202b1812959923e92b2926a458a0/expr.ipynb\"><img src=\"../3672839dc40f2202b1812959923e92b2926a458a0/expr.png\" style=\"display:inline;vertical-align:middle;\" /></a></td></tr>\n",
       "<tr><td>35</td><td>Literal</td><td></td><td><a class=\"ProveItLink\" href=\"../../../../../../numbers/exponentiation/__pv_it/common/0ac37aca1e54c35c5cda09672df32d4f69f1f3020/expr.ipynb\"><img src=\"../../../../../../numbers/exponentiation/__pv_it/common/0ac37aca1e54c35c5cda09672df32d4f69f1f3020/expr.png\" style=\"display:inline;vertical-align:middle;\" /></a></td></tr>\n",
       "<tr><td>36</td><td>ExprTuple</td><td>39, 40</td><td><a class=\"ProveItLink\" href=\"../46f45788bbae2b9b8503a2caf3aa354d8fa2a4d80/expr.ipynb\"><img src=\"../46f45788bbae2b9b8503a2caf3aa354d8fa2a4d80/expr.png\" style=\"display:inline;vertical-align:middle;\" /></a></td></tr>\n",
       "<tr><td>37</td><td>Variable</td><td></td><td><a class=\"ProveItLink\" href=\"../../../../../../__pv_it/common/09585084922504426caf1db2ff588a23a0932a960/expr.ipynb\"><img src=\"../../../../../../__pv_it/common/09585084922504426caf1db2ff588a23a0932a960/expr.png\" style=\"display:inline;vertical-align:middle;\" /></a></td></tr>\n",
       "<tr><td>38</td><td>Operation</td><td>operator:&nbsp;47<br>operands:&nbsp;41<br></td><td><a class=\"ProveItLink\" href=\"../342a2baed24a3bf7470375804708bca8b29a9a740/expr.ipynb\"><img src=\"../342a2baed24a3bf7470375804708bca8b29a9a740/expr.png\" style=\"display:inline;vertical-align:middle;\" /></a></td></tr>\n",
       "<tr><td>39</td><td>Literal</td><td></td><td><a class=\"ProveItLink\" href=\"../../../../../../numbers/number_sets/real_numbers/__pv_it/common/e531ffa54fd897084533764a4a14f19f590674f80/expr.ipynb\"><img src=\"../../../../../../numbers/number_sets/real_numbers/__pv_it/common/e531ffa54fd897084533764a4a14f19f590674f80/expr.png\" style=\"display:inline;vertical-align:middle;\" /></a></td></tr>\n",
       "<tr><td>40</td><td>Operation</td><td>operator:&nbsp;47<br>operands:&nbsp;42<br></td><td><a class=\"ProveItLink\" href=\"../b284b0587c4bc3db0883a58718255a893999493d0/expr.ipynb\"><img src=\"../b284b0587c4bc3db0883a58718255a893999493d0/expr.png\" style=\"display:inline;vertical-align:middle;\" /></a></td></tr>\n",
       "<tr><td>41</td><td>ExprTuple</td><td>44, 45, 46, 43</td><td><a class=\"ProveItLink\" href=\"../7432d02bb0639d416dbd29445763a9b7b0dd229d0/expr.ipynb\"><img src=\"../7432d02bb0639d416dbd29445763a9b7b0dd229d0/expr.png\" style=\"display:inline;vertical-align:middle;\" /></a></td></tr>\n",
       "<tr><td>42</td><td>ExprTuple</td><td>44, 45, 46, 50</td><td><a class=\"ProveItLink\" href=\"../d55103f82898a89d7f77b83d93f23656d96bd6f80/expr.ipynb\"><img src=\"../d55103f82898a89d7f77b83d93f23656d96bd6f80/expr.png\" style=\"display:inline;vertical-align:middle;\" /></a></td></tr>\n",
       "<tr><td>43</td><td>Operation</td><td>operator:&nbsp;47<br>operands:&nbsp;48<br></td><td><a class=\"ProveItLink\" href=\"../d7d21b55fb2a807e104ceae651cedeea60675c160/expr.ipynb\"><img src=\"../d7d21b55fb2a807e104ceae651cedeea60675c160/expr.png\" style=\"display:inline;vertical-align:middle;\" /></a></td></tr>\n",
       "<tr><td>44</td><td>Literal</td><td></td><td><a class=\"ProveItLink\" href=\"../../../../../../numbers/numerals/__pv_it/common/af4aab8a07465db063742696e006d04670f30cf10/expr.ipynb\"><img src=\"../../../../../../numbers/numerals/__pv_it/common/af4aab8a07465db063742696e006d04670f30cf10/expr.png\" style=\"display:inline;vertical-align:middle;\" /></a></td></tr>\n",
       "<tr><td>45</td><td>Literal</td><td></td><td><a class=\"ProveItLink\" href=\"../../../../../../numbers/number_sets/real_numbers/__pv_it/common/246c206266ac5b48800e508d580f91767b24c2df0/expr.ipynb\"><img src=\"../../../../../../numbers/number_sets/real_numbers/__pv_it/common/246c206266ac5b48800e508d580f91767b24c2df0/expr.png\" style=\"display:inline;vertical-align:middle;\" /></a></td></tr>\n",
       "<tr><td>46</td><td>Literal</td><td></td><td><a class=\"ProveItLink\" href=\"../../../../../../numbers/number_sets/complex_numbers/__pv_it/common/6c9cc69d472f352324c298b2318df233e9a7e0250/expr.ipynb\"><img src=\"../../../../../../numbers/number_sets/complex_numbers/__pv_it/common/6c9cc69d472f352324c298b2318df233e9a7e0250/expr.png\" style=\"display:inline;vertical-align:middle;\" /></a></td></tr>\n",
       "<tr><td>47</td><td>Literal</td><td></td><td><a class=\"ProveItLink\" href=\"../../../../../../numbers/multiplication/__pv_it/common/ed719cef37831779c16481533a4d380a2f95ab270/expr.ipynb\"><img src=\"../../../../../../numbers/multiplication/__pv_it/common/ed719cef37831779c16481533a4d380a2f95ab270/expr.png\" style=\"display:inline;vertical-align:middle;\" /></a></td></tr>\n",
       "<tr><td>48</td><td>ExprTuple</td><td>49, 50</td><td><a class=\"ProveItLink\" href=\"../fee2fcc1208f727d16a7f0928134034830f676890/expr.ipynb\"><img src=\"../fee2fcc1208f727d16a7f0928134034830f676890/expr.png\" style=\"display:inline;vertical-align:middle;\" /></a></td></tr>\n",
       "<tr><td>49</td><td>Variable</td><td></td><td><a class=\"ProveItLink\" href=\"../../../../../../__pv_it/common/674a03b9c3ca221b3aabd5636837b31528ff33830/expr.ipynb\"><img src=\"../../../../../../__pv_it/common/674a03b9c3ca221b3aabd5636837b31528ff33830/expr.png\" style=\"display:inline;vertical-align:middle;\" /></a></td></tr>\n",
       "<tr><td>50</td><td>Variable</td><td></td><td><a class=\"ProveItLink\" href=\"../../../../../../__pv_it/common/9528518515ad3a418953b148d1d0eb3372f91f130/expr.ipynb\"><img src=\"../../../../../../__pv_it/common/9528518515ad3a418953b148d1d0eb3372f91f130/expr.png\" style=\"display:inline;vertical-align:middle;\" /></a></td></tr>\n",
       "</table>\n"
      ],
      "text/plain": [
       "0. (rho -> {forall_{A, x | (A . x) = (e^{2 * pi * i * rho} * x)} ((A^{m} . x) = (e^{2 * pi * i * (m * rho)} * x)) if rho in Real.)\n",
       "   core type: ExprTuple\n",
       "   sub-expressions: 1\n",
       "1. rho -> {forall_{A, x | (A . x) = (e^{2 * pi * i * rho} * x)} ((A^{m} . x) = (e^{2 * pi * i * (m * rho)} * x)) if rho in Real.\n",
       "   core type: Lambda\n",
       "   parameter: 50\n",
       "   body: 3\n",
       "2. (rho)\n",
       "   core type: ExprTuple\n",
       "   sub-expressions: 50\n",
       "3. {forall_{A, x | (A . x) = (e^{2 * pi * i * rho} * x)} ((A^{m} . x) = (e^{2 * pi * i * (m * rho)} * x)) if rho in Real.\n",
       "   core type: Conditional\n",
       "   value: 4\n",
       "   condition: 5\n",
       "4. forall_{A, x | (A . x) = (e^{2 * pi * i * rho} * x)} ((A^{m} . x) = (e^{2 * pi * i * (m * rho)} * x))\n",
       "   core type: Operation\n",
       "   operator: 6\n",
       "   operand: 10\n",
       "5. rho in Real\n",
       "   core type: Operation\n",
       "   operator: 8\n",
       "   operands: 9\n",
       "6. forall\n",
       "   core type: Literal\n",
       "   sub-expressions: \n",
       "7. ((A, x) -> {(A^{m} . x) = (e^{2 * pi * i * (m * rho)} * x) if (A . x) = (e^{2 * pi * i * rho} * x).)\n",
       "   core type: ExprTuple\n",
       "   sub-expressions: 10\n",
       "8. in\n",
       "   core type: Literal\n",
       "   sub-expressions: \n",
       "9. (rho, Real)\n",
       "   core type: ExprTuple\n",
       "   sub-expressions: 50, 11\n",
       "10. (A, x) -> {(A^{m} . x) = (e^{2 * pi * i * (m * rho)} * x) if (A . x) = (e^{2 * pi * i * rho} * x).\n",
       "    core type: Lambda\n",
       "    parameters: 25\\n    body: 12\n",
       "11. Real\n",
       "    core type: Literal\n",
       "    sub-expressions: \n",
       "12. {(A^{m} . x) = (e^{2 * pi * i * (m * rho)} * x) if (A . x) = (e^{2 * pi * i * rho} * x).\n",
       "    core type: Conditional\n",
       "    value: 13\n",
       "    condition: 14\n",
       "13. (A^{m} . x) = (e^{2 * pi * i * (m * rho)} * x)\n",
       "    core type: Operation\n",
       "    operator: 16\n",
       "    operands: 15\n",
       "14. (A . x) = (e^{2 * pi * i * rho} * x)\n",
       "    core type: Operation\n",
       "    operator: 16\n",
       "    operands: 17\n",
       "15. (A^{m} . x, e^{2 * pi * i * (m * rho)} * x)\n",
       "    core type: ExprTuple\n",
       "    sub-expressions: 18, 19\n",
       "16. =\n",
       "    core type: Literal\n",
       "    sub-expressions: \n",
       "17. (A . x, e^{2 * pi * i * rho} * x)\n",
       "    core type: ExprTuple\n",
       "    sub-expressions: 20, 21\n",
       "18. A^{m} . x\n",
       "    core type: Operation\n",
       "    operator: 24\n",
       "    operands: 22\n",
       "19. e^{2 * pi * i * (m * rho)} * x\n",
       "    core type: Operation\n",
       "    operator: 26\n",
       "    operands: 23\n",
       "20. A . x\n",
       "    core type: Operation\n",
       "    operator: 24\n",
       "    operands: 25\n",
       "21. e^{2 * pi * i * rho} * x\n",
       "    core type: Operation\n",
       "    operator: 26\n",
       "    operands: 27\n",
       "22. (A^{m}, x)\n",
       "    core type: ExprTuple\n",
       "    sub-expressions: 28, 31\n",
       "23. (e^{2 * pi * i * (m * rho)}, x)\n",
       "    core type: ExprTuple\n",
       "    sub-expressions: 29, 31\n",
       "24. .\n",
       "    core type: Literal\n",
       "    sub-expressions: \n",
       "25. (A, x)\n",
       "    core type: ExprTuple\n",
       "    sub-expressions: 37, 31\n",
       "26. *\n",
       "    core type: Literal\n",
       "    sub-expressions: \n",
       "27. (e^{2 * pi * i * rho}, x)\n",
       "    core type: ExprTuple\n",
       "    sub-expressions: 30, 31\n",
       "28. A^{m}\n",
       "    core type: Operation\n",
       "    operator: 32\n",
       "    operands: 33\n",
       "29. e^{2 * pi * i * (m * rho)}\n",
       "    core type: Operation\n",
       "    operator: 35\n",
       "    operands: 34\n",
       "30. e^{2 * pi * i * rho}\n",
       "    core type: Operation\n",
       "    operator: 35\n",
       "    operands: 36\n",
       "31. x\n",
       "    core type: Variable\n",
       "    sub-expressions: \n",
       "32. ExpM\n",
       "    core type: Literal\n",
       "    sub-expressions: \n",
       "33. (A, m)\n",
       "    core type: ExprTuple\n",
       "    sub-expressions: 37, 49\n",
       "34. (e, 2 * pi * i * (m * rho))\n",
       "    core type: ExprTuple\n",
       "    sub-expressions: 39, 38\n",
       "35. Exp\n",
       "    core type: Literal\n",
       "    sub-expressions: \n",
       "36. (e, 2 * pi * i * rho)\n",
       "    core type: ExprTuple\n",
       "    sub-expressions: 39, 40\n",
       "37. A\n",
       "    core type: Variable\n",
       "    sub-expressions: \n",
       "38. 2 * pi * i * (m * rho)\n",
       "    core type: Operation\n",
       "    operator: 47\n",
       "    operands: 41\n",
       "39. e\n",
       "    core type: Literal\n",
       "    sub-expressions: \n",
       "40. 2 * pi * i * rho\n",
       "    core type: Operation\n",
       "    operator: 47\n",
       "    operands: 42\n",
       "41. (2, pi, i, m * rho)\n",
       "    core type: ExprTuple\n",
       "    sub-expressions: 44, 45, 46, 43\n",
       "42. (2, pi, i, rho)\n",
       "    core type: ExprTuple\n",
       "    sub-expressions: 44, 45, 46, 50\n",
       "43. m * rho\n",
       "    core type: Operation\n",
       "    operator: 47\n",
       "    operands: 48\n",
       "44. 2\n",
       "    core type: Literal\n",
       "    sub-expressions: \n",
       "45. pi\n",
       "    core type: Literal\n",
       "    sub-expressions: \n",
       "46. i\n",
       "    core type: Literal\n",
       "    sub-expressions: \n",
       "47. *\n",
       "    core type: Literal\n",
       "    sub-expressions: \n",
       "48. (m, rho)\n",
       "    core type: ExprTuple\n",
       "    sub-expressions: 49, 50\n",
       "49. m\n",
       "    core type: Variable\n",
       "    sub-expressions: \n",
       "50. rho\n",
       "    core type: Variable\n",
       "    sub-expressions: "
      ]
     },
     "metadata": {},
     "output_type": "display_data"
    }
   ],
   "source": [
    "# display the expression information\n",
    "stored_expr.expr_info()"
   ]
  },
  {
   "cell_type": "code",
   "execution_count": null,
   "metadata": {},
   "outputs": [],
   "source": []
  }
 ],
 "metadata": {
  "kernelspec": {
   "display_name": "Python 3",
   "language": "python",
   "name": "python3"
  }
 },
 "nbformat": 4,
 "nbformat_minor": 0
}