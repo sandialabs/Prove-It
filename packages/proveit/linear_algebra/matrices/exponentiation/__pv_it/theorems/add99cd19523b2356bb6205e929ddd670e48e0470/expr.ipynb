{
 "cells": [
  {
   "cell_type": "markdown",
   "metadata": {},
   "source": [
    "Expression of type <a class=\"ProveItLink\" href=\"../../../../../../../../doc/html/api/proveit.ExprTuple.html\">ExprTuple</a>\n",
    "=======================\n",
    "# from the theory of <a class=\"ProveItLink\" href=\"../../../_theory_nbs_/theory.ipynb\">proveit.linear_algebra.matrices.exponentiation</a>"
   ]
  },
  {
   "cell_type": "code",
   "execution_count": 1,
   "metadata": {},
   "outputs": [],
   "source": [
    "import proveit\n",
    "# Automation is not needed when building an expression:\n",
    "proveit.defaults.automation = False # This will speed things up.\n",
    "proveit.defaults.inline_pngs = False # Makes files smaller.\n",
    "%load_expr # Load the stored expression as 'stored_expr'\n",
    "# import Expression classes needed to build the expression\n",
    "from proveit import A, Conditional, ExprTuple, Lambda, b, m, x\n",
    "from proveit.linear_algebra import MatrixExp, MatrixMult, ScalarMult\n",
    "from proveit.logic import Equals\n",
    "from proveit.numbers import Exp"
   ]
  },
  {
   "cell_type": "code",
   "execution_count": 2,
   "metadata": {},
   "outputs": [
    {
     "data": {
      "text/html": [
       "<strong id=\"expr\">expr:</strong> <a class=\"ProveItLink\" href=\"expr.ipynb\"><img src=\"expr.png\" style=\"display:inline;vertical-align:middle;\" /></a><br>"
      ],
      "text/plain": [
       "<IPython.core.display.HTML object>"
      ]
     },
     "metadata": {},
     "output_type": "display_data"
    }
   ],
   "source": [
    "# build up the expression from sub-expressions\n",
    "expr = ExprTuple(Lambda([A, x], Conditional(Equals(MatrixMult(MatrixExp(A, m), x), MatrixMult(Exp(b, m), x)), Equals(MatrixMult(A, x), ScalarMult(b, x)))))"
   ]
  },
  {
   "cell_type": "code",
   "execution_count": 3,
   "metadata": {},
   "outputs": [
    {
     "name": "stdout",
     "output_type": "stream",
     "text": [
      "Passed sanity check: expr matches stored_expr\n"
     ]
    }
   ],
   "source": [
    "# check that the built expression is the same as the stored expression\n",
    "assert expr == stored_expr\n",
    "assert expr._style_id == stored_expr._style_id\n",
    "print(\"Passed sanity check: expr matches stored_expr\")"
   ]
  },
  {
   "cell_type": "code",
   "execution_count": 4,
   "metadata": {},
   "outputs": [
    {
     "name": "stdout",
     "output_type": "stream",
     "text": [
      "\\left(\\left(A, x\\right) \\mapsto \\left\\{\\left(A^{m} \\thinspace x\\right) = \\left(b^{m} \\thinspace x\\right) \\textrm{ if } \\left(A \\thinspace x\\right) = \\left(b \\cdot x\\right)\\right..\\right)\n"
     ]
    }
   ],
   "source": [
    "# Show the LaTeX representation of the expression for convenience if you need it.\n",
    "print(stored_expr.latex())"
   ]
  },
  {
   "cell_type": "code",
   "execution_count": 5,
   "metadata": {},
   "outputs": [
    {
     "data": {
      "text/html": [
       "no style options"
      ],
      "text/plain": [
       "no style options"
      ]
     },
     "metadata": {},
     "output_type": "display_data"
    }
   ],
   "source": [
    "stored_expr.style_options()"
   ]
  },
  {
   "cell_type": "code",
   "execution_count": 6,
   "metadata": {},
   "outputs": [
    {
     "data": {
      "text/html": [
       "<table><tr><th>&nbsp;</th><th>core type</th><th>sub-expressions</th><th>expression</th></tr>\n",
       "<tr><td>0</td><td>ExprTuple</td><td>1</td><td><a class=\"ProveItLink\" href=\"expr.ipynb\"><img src=\"expr.png\" style=\"display:inline;vertical-align:middle;\" /></a></td></tr>\n",
       "<tr><td>1</td><td>Lambda</td><td>parameters:&nbsp;15<br>body:&nbsp;2<br></td><td><a class=\"ProveItLink\" href=\"../261c9a29c838341fb91b07d962a45e7d5825d5410/expr.ipynb\"><img src=\"../261c9a29c838341fb91b07d962a45e7d5825d5410/expr.png\" style=\"display:inline;vertical-align:middle;\" /></a></td></tr>\n",
       "<tr><td>2</td><td>Conditional</td><td>value:&nbsp;3<br>condition:&nbsp;4<br></td><td><a class=\"ProveItLink\" href=\"../221a3395ca0ea7a66e627b4bf1d37a5e3bc895f60/expr.ipynb\"><img src=\"../221a3395ca0ea7a66e627b4bf1d37a5e3bc895f60/expr.png\" style=\"display:inline;vertical-align:middle;\" /></a></td></tr>\n",
       "<tr><td>3</td><td>Operation</td><td>operator:&nbsp;6<br>operands:&nbsp;5<br></td><td><a class=\"ProveItLink\" href=\"../31baf4212a6a5af64265be52f7b97d8a627a76400/expr.ipynb\"><img src=\"../31baf4212a6a5af64265be52f7b97d8a627a76400/expr.png\" style=\"display:inline;vertical-align:middle;\" /></a></td></tr>\n",
       "<tr><td>4</td><td>Operation</td><td>operator:&nbsp;6<br>operands:&nbsp;7<br></td><td><a class=\"ProveItLink\" href=\"../9378241d54368ff2e93a8d5566f7becc9102ad170/expr.ipynb\"><img src=\"../9378241d54368ff2e93a8d5566f7becc9102ad170/expr.png\" style=\"display:inline;vertical-align:middle;\" /></a></td></tr>\n",
       "<tr><td>5</td><td>ExprTuple</td><td>8, 9</td><td><a class=\"ProveItLink\" href=\"../524e9394b5ef6e69c2fd8902ab9306f860bdcddc0/expr.ipynb\"><img src=\"../524e9394b5ef6e69c2fd8902ab9306f860bdcddc0/expr.png\" style=\"display:inline;vertical-align:middle;\" /></a></td></tr>\n",
       "<tr><td>6</td><td>Literal</td><td></td><td><a class=\"ProveItLink\" href=\"../../../../../../logic/equality/__pv_it/common/fb96dc12b2aa8801dda64d0132b396c63d1502bb0/expr.ipynb\"><img src=\"../../../../../../logic/equality/__pv_it/common/fb96dc12b2aa8801dda64d0132b396c63d1502bb0/expr.png\" style=\"display:inline;vertical-align:middle;\" /></a></td></tr>\n",
       "<tr><td>7</td><td>ExprTuple</td><td>10, 11</td><td><a class=\"ProveItLink\" href=\"../e2b0dcb10a185b4354778b0dc1e44db9e3149ab60/expr.ipynb\"><img src=\"../e2b0dcb10a185b4354778b0dc1e44db9e3149ab60/expr.png\" style=\"display:inline;vertical-align:middle;\" /></a></td></tr>\n",
       "<tr><td>8</td><td>Operation</td><td>operator:&nbsp;14<br>operands:&nbsp;12<br></td><td><a class=\"ProveItLink\" href=\"../3c66ce318fb6fbb69a9acb715bf6a4c4d3d5e6ef0/expr.ipynb\"><img src=\"../3c66ce318fb6fbb69a9acb715bf6a4c4d3d5e6ef0/expr.png\" style=\"display:inline;vertical-align:middle;\" /></a></td></tr>\n",
       "<tr><td>9</td><td>Operation</td><td>operator:&nbsp;14<br>operands:&nbsp;13<br></td><td><a class=\"ProveItLink\" href=\"../ab73f78c19c54cc957b584289d014b7dae39a4740/expr.ipynb\"><img src=\"../ab73f78c19c54cc957b584289d014b7dae39a4740/expr.png\" style=\"display:inline;vertical-align:middle;\" /></a></td></tr>\n",
       "<tr><td>10</td><td>Operation</td><td>operator:&nbsp;14<br>operands:&nbsp;15<br></td><td><a class=\"ProveItLink\" href=\"../d685fe882cf4b0a4043cf46fe54cf753e57242680/expr.ipynb\"><img src=\"../d685fe882cf4b0a4043cf46fe54cf753e57242680/expr.png\" style=\"display:inline;vertical-align:middle;\" /></a></td></tr>\n",
       "<tr><td>11</td><td>Operation</td><td>operator:&nbsp;16<br>operands:&nbsp;17<br></td><td><a class=\"ProveItLink\" href=\"../7a77d51cdde850bf5ca77d16ba9f1d4ebf2fedc50/expr.ipynb\"><img src=\"../7a77d51cdde850bf5ca77d16ba9f1d4ebf2fedc50/expr.png\" style=\"display:inline;vertical-align:middle;\" /></a></td></tr>\n",
       "<tr><td>12</td><td>ExprTuple</td><td>18, 20</td><td><a class=\"ProveItLink\" href=\"../1f5274ab36797ba56124df567e90a02e5071423b0/expr.ipynb\"><img src=\"../1f5274ab36797ba56124df567e90a02e5071423b0/expr.png\" style=\"display:inline;vertical-align:middle;\" /></a></td></tr>\n",
       "<tr><td>13</td><td>ExprTuple</td><td>19, 20</td><td><a class=\"ProveItLink\" href=\"../26ab0aa984a0d543fad34e7c9d58b8178fba90f10/expr.ipynb\"><img src=\"../26ab0aa984a0d543fad34e7c9d58b8178fba90f10/expr.png\" style=\"display:inline;vertical-align:middle;\" /></a></td></tr>\n",
       "<tr><td>14</td><td>Literal</td><td></td><td><a class=\"ProveItLink\" href=\"../../../../multiplication/__pv_it/common/a56cf42f971ea8b70c320fc0b98f33dc6dac5b610/expr.ipynb\"><img src=\"../../../../multiplication/__pv_it/common/a56cf42f971ea8b70c320fc0b98f33dc6dac5b610/expr.png\" style=\"display:inline;vertical-align:middle;\" /></a></td></tr>\n",
       "<tr><td>15</td><td>ExprTuple</td><td>25, 20</td><td><a class=\"ProveItLink\" href=\"../8fe66913ebe1c7961100c4e0925c8533a57298310/expr.ipynb\"><img src=\"../8fe66913ebe1c7961100c4e0925c8533a57298310/expr.png\" style=\"display:inline;vertical-align:middle;\" /></a></td></tr>\n",
       "<tr><td>16</td><td>Literal</td><td></td><td><a class=\"ProveItLink\" href=\"../../../../../scalar_multiplication/__pv_it/common/1e364bd471e6a29fcd358dd2d9cd990a1e6fedd40/expr.ipynb\"><img src=\"../../../../../scalar_multiplication/__pv_it/common/1e364bd471e6a29fcd358dd2d9cd990a1e6fedd40/expr.png\" style=\"display:inline;vertical-align:middle;\" /></a></td></tr>\n",
       "<tr><td>17</td><td>ExprTuple</td><td>26, 20</td><td><a class=\"ProveItLink\" href=\"../c38b378836b1ef8aced823d37aa3888c7c80002c0/expr.ipynb\"><img src=\"../c38b378836b1ef8aced823d37aa3888c7c80002c0/expr.png\" style=\"display:inline;vertical-align:middle;\" /></a></td></tr>\n",
       "<tr><td>18</td><td>Operation</td><td>operator:&nbsp;21<br>operands:&nbsp;22<br></td><td><a class=\"ProveItLink\" href=\"../61173320f992a6613ed0bc0a00ecd5e7078ae5af0/expr.ipynb\"><img src=\"../61173320f992a6613ed0bc0a00ecd5e7078ae5af0/expr.png\" style=\"display:inline;vertical-align:middle;\" /></a></td></tr>\n",
       "<tr><td>19</td><td>Operation</td><td>operator:&nbsp;23<br>operands:&nbsp;24<br></td><td><a class=\"ProveItLink\" href=\"../ab29a4dcbe1f980ca2fb42de1119cfdf6f5998c20/expr.ipynb\"><img src=\"../ab29a4dcbe1f980ca2fb42de1119cfdf6f5998c20/expr.png\" style=\"display:inline;vertical-align:middle;\" /></a></td></tr>\n",
       "<tr><td>20</td><td>Variable</td><td></td><td><a class=\"ProveItLink\" href=\"../../../../../../__pv_it/common/a0d9d672aa5e272d907247690c152cc2c6daafb70/expr.ipynb\"><img src=\"../../../../../../__pv_it/common/a0d9d672aa5e272d907247690c152cc2c6daafb70/expr.png\" style=\"display:inline;vertical-align:middle;\" /></a></td></tr>\n",
       "<tr><td>21</td><td>Literal</td><td></td><td><a class=\"ProveItLink\" href=\"../../common/7d2841d26e131e75e1bb8532fff3e362feab15050/expr.ipynb\"><img src=\"../../common/7d2841d26e131e75e1bb8532fff3e362feab15050/expr.png\" style=\"display:inline;vertical-align:middle;\" /></a></td></tr>\n",
       "<tr><td>22</td><td>ExprTuple</td><td>25, 27</td><td><a class=\"ProveItLink\" href=\"../cbedccc4332639cb9ead1d90241e8e3ae7f04d5a0/expr.ipynb\"><img src=\"../cbedccc4332639cb9ead1d90241e8e3ae7f04d5a0/expr.png\" style=\"display:inline;vertical-align:middle;\" /></a></td></tr>\n",
       "<tr><td>23</td><td>Literal</td><td></td><td><a class=\"ProveItLink\" href=\"../../../../../../numbers/exponentiation/__pv_it/common/0ac37aca1e54c35c5cda09672df32d4f69f1f3020/expr.ipynb\"><img src=\"../../../../../../numbers/exponentiation/__pv_it/common/0ac37aca1e54c35c5cda09672df32d4f69f1f3020/expr.png\" style=\"display:inline;vertical-align:middle;\" /></a></td></tr>\n",
       "<tr><td>24</td><td>ExprTuple</td><td>26, 27</td><td><a class=\"ProveItLink\" href=\"../80f58bf9caaf6c423b59bdb5121e690168e875ce0/expr.ipynb\"><img src=\"../80f58bf9caaf6c423b59bdb5121e690168e875ce0/expr.png\" style=\"display:inline;vertical-align:middle;\" /></a></td></tr>\n",
       "<tr><td>25</td><td>Variable</td><td></td><td><a class=\"ProveItLink\" href=\"../../../../../../__pv_it/common/09585084922504426caf1db2ff588a23a0932a960/expr.ipynb\"><img src=\"../../../../../../__pv_it/common/09585084922504426caf1db2ff588a23a0932a960/expr.png\" style=\"display:inline;vertical-align:middle;\" /></a></td></tr>\n",
       "<tr><td>26</td><td>Variable</td><td></td><td><a class=\"ProveItLink\" href=\"../../../../../../__pv_it/common/195236b98c6c564a75b5dbada74b173bc52d5c3e0/expr.ipynb\"><img src=\"../../../../../../__pv_it/common/195236b98c6c564a75b5dbada74b173bc52d5c3e0/expr.png\" style=\"display:inline;vertical-align:middle;\" /></a></td></tr>\n",
       "<tr><td>27</td><td>Variable</td><td></td><td><a class=\"ProveItLink\" href=\"../../../../../../__pv_it/common/674a03b9c3ca221b3aabd5636837b31528ff33830/expr.ipynb\"><img src=\"../../../../../../__pv_it/common/674a03b9c3ca221b3aabd5636837b31528ff33830/expr.png\" style=\"display:inline;vertical-align:middle;\" /></a></td></tr>\n",
       "</table>\n"
      ],
      "text/plain": [
       "0. ((A, x) -> {(A^{m} . x) = (b^{m} . x) if (A . x) = (b * x).)\n",
       "   core type: ExprTuple\n",
       "   sub-expressions: 1\n",
       "1. (A, x) -> {(A^{m} . x) = (b^{m} . x) if (A . x) = (b * x).\n",
       "   core type: Lambda\n",
       "   parameters: 15\\n   body: 2\n",
       "2. {(A^{m} . x) = (b^{m} . x) if (A . x) = (b * x).\n",
       "   core type: Conditional\n",
       "   value: 3\n",
       "   condition: 4\n",
       "3. (A^{m} . x) = (b^{m} . x)\n",
       "   core type: Operation\n",
       "   operator: 6\n",
       "   operands: 5\n",
       "4. (A . x) = (b * x)\n",
       "   core type: Operation\n",
       "   operator: 6\n",
       "   operands: 7\n",
       "5. (A^{m} . x, b^{m} . x)\n",
       "   core type: ExprTuple\n",
       "   sub-expressions: 8, 9\n",
       "6. =\n",
       "   core type: Literal\n",
       "   sub-expressions: \n",
       "7. (A . x, b * x)\n",
       "   core type: ExprTuple\n",
       "   sub-expressions: 10, 11\n",
       "8. A^{m} . x\n",
       "   core type: Operation\n",
       "   operator: 14\n",
       "   operands: 12\n",
       "9. b^{m} . x\n",
       "   core type: Operation\n",
       "   operator: 14\n",
       "   operands: 13\n",
       "10. A . x\n",
       "    core type: Operation\n",
       "    operator: 14\n",
       "    operands: 15\n",
       "11. b * x\n",
       "    core type: Operation\n",
       "    operator: 16\n",
       "    operands: 17\n",
       "12. (A^{m}, x)\n",
       "    core type: ExprTuple\n",
       "    sub-expressions: 18, 20\n",
       "13. (b^{m}, x)\n",
       "    core type: ExprTuple\n",
       "    sub-expressions: 19, 20\n",
       "14. .\n",
       "    core type: Literal\n",
       "    sub-expressions: \n",
       "15. (A, x)\n",
       "    core type: ExprTuple\n",
       "    sub-expressions: 25, 20\n",
       "16. *\n",
       "    core type: Literal\n",
       "    sub-expressions: \n",
       "17. (b, x)\n",
       "    core type: ExprTuple\n",
       "    sub-expressions: 26, 20\n",
       "18. A^{m}\n",
       "    core type: Operation\n",
       "    operator: 21\n",
       "    operands: 22\n",
       "19. b^{m}\n",
       "    core type: Operation\n",
       "    operator: 23\n",
       "    operands: 24\n",
       "20. x\n",
       "    core type: Variable\n",
       "    sub-expressions: \n",
       "21. ExpM\n",
       "    core type: Literal\n",
       "    sub-expressions: \n",
       "22. (A, m)\n",
       "    core type: ExprTuple\n",
       "    sub-expressions: 25, 27\n",
       "23. Exp\n",
       "    core type: Literal\n",
       "    sub-expressions: \n",
       "24. (b, m)\n",
       "    core type: ExprTuple\n",
       "    sub-expressions: 26, 27\n",
       "25. A\n",
       "    core type: Variable\n",
       "    sub-expressions: \n",
       "26. b\n",
       "    core type: Variable\n",
       "    sub-expressions: \n",
       "27. m\n",
       "    core type: Variable\n",
       "    sub-expressions: "
      ]
     },
     "metadata": {},
     "output_type": "display_data"
    }
   ],
   "source": [
    "# display the expression information\n",
    "stored_expr.expr_info()"
   ]
  },
  {
   "cell_type": "code",
   "execution_count": null,
   "metadata": {},
   "outputs": [],
   "source": []
  }
 ],
 "metadata": {
  "kernelspec": {
   "display_name": "Python 3",
   "language": "python",
   "name": "python3"
  }
 },
 "nbformat": 4,
 "nbformat_minor": 0
}