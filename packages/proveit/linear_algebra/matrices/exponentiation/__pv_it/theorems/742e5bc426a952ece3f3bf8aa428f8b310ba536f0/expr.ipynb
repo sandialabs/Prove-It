{
 "cells": [
  {
   "cell_type": "markdown",
   "metadata": {},
   "source": [
    "Expression of type <a class=\"ProveItLink\" href=\"../../../../../../../../doc/html/api/proveit.logic.Forall.html\">Forall</a>\n",
    "=======================\n",
    "# from the theory of <a class=\"ProveItLink\" href=\"../../../_theory_nbs_/theory.ipynb\">proveit.linear_algebra.matrices.exponentiation</a>"
   ]
  },
  {
   "cell_type": "code",
   "execution_count": 1,
   "metadata": {},
   "outputs": [],
   "source": [
    "import proveit\n",
    "# Automation is not needed when building an expression:\n",
    "proveit.defaults.automation = False # This will speed things up.\n",
    "proveit.defaults.inline_pngs = False # Makes files smaller.\n",
    "%load_expr # Load the stored expression as 'stored_expr'\n",
    "# import Expression classes needed to build the expression\n",
    "from proveit import A, m, theta, x\n",
    "from proveit.linear_algebra import MatrixExp, MatrixMult, ScalarMult\n",
    "from proveit.logic import Equals, Forall\n",
    "from proveit.numbers import Exp, Mult, Real, e, i"
   ]
  },
  {
   "cell_type": "code",
   "execution_count": 2,
   "metadata": {},
   "outputs": [
    {
     "data": {
      "text/html": [
       "<strong id=\"expr\">expr:</strong> <a class=\"ProveItLink\" href=\"expr.ipynb\"><img src=\"expr.png\" style=\"display:inline;vertical-align:middle;\" /></a><br>"
      ],
      "text/plain": [
       "<IPython.core.display.HTML object>"
      ]
     },
     "metadata": {},
     "output_type": "display_data"
    }
   ],
   "source": [
    "# build up the expression from sub-expressions\n",
    "expr = Forall(instance_param_or_params = [theta], instance_expr = Forall(instance_param_or_params = [A, x], instance_expr = Equals(MatrixMult(MatrixExp(A, m), x), ScalarMult(Exp(e, Mult(i, Mult(m, theta))), x)), condition = Equals(MatrixMult(A, x), ScalarMult(Exp(e, Mult(i, theta)), x))), domain = Real)"
   ]
  },
  {
   "cell_type": "code",
   "execution_count": 3,
   "metadata": {},
   "outputs": [
    {
     "name": "stdout",
     "output_type": "stream",
     "text": [
      "Passed sanity check: expr matches stored_expr\n"
     ]
    }
   ],
   "source": [
    "# check that the built expression is the same as the stored expression\n",
    "assert expr == stored_expr\n",
    "assert expr._style_id == stored_expr._style_id\n",
    "print(\"Passed sanity check: expr matches stored_expr\")"
   ]
  },
  {
   "cell_type": "code",
   "execution_count": 4,
   "metadata": {},
   "outputs": [
    {
     "name": "stdout",
     "output_type": "stream",
     "text": [
      "\\forall_{\\theta \\in \\mathbb{R}}~\\left[\\forall_{A, x~|~\\left(A \\thinspace x\\right) = \\left(\\mathsf{e}^{\\mathsf{i} \\cdot \\theta} \\cdot x\\right)}~\\left(\\left(A^{m} \\thinspace x\\right) = \\left(\\mathsf{e}^{\\mathsf{i} \\cdot \\left(m \\cdot \\theta\\right)} \\cdot x\\right)\\right)\\right]\n"
     ]
    }
   ],
   "source": [
    "# Show the LaTeX representation of the expression for convenience if you need it.\n",
    "print(stored_expr.latex())"
   ]
  },
  {
   "cell_type": "code",
   "execution_count": 5,
   "metadata": {},
   "outputs": [
    {
     "data": {
      "text/html": [
       "<table>\n",
       "<tr><th>name</th><th>description</th><th>default</th><th>current value</th><th>related methods</th></tr><tr><td>with_wrapping</td><td>If 'True', wrap the Expression after the parameters</td><td>None</td><td>None/False</td><td>('with_wrapping',)</td></tr>\n",
       "<tr><td>condition_wrapping</td><td>Wrap 'before' or 'after' the condition (or None).</td><td>None</td><td>None/False</td><td>('with_wrap_after_condition', 'with_wrap_before_condition')</td></tr>\n",
       "<tr><td>wrap_params</td><td>If 'True', wraps every two parameters AND wraps the Expression after the parameters</td><td>None</td><td>None/False</td><td>('with_params',)</td></tr>\n",
       "<tr><td>justification</td><td>justify to the 'left', 'center', or 'right' in the array cells</td><td>center</td><td>center</td><td>('with_justification',)</td></tr>\n",
       "</table>\n"
      ],
      "text/plain": [
       "style name: with_wrapping\n",
       "description: If 'True', wrap the Expression after the parameters\n",
       "default: None\n",
       "current value: None/False\n",
       "related methods: ('with_wrapping',)\n",
       "style name: condition_wrapping\n",
       "description: Wrap 'before' or 'after' the condition (or None).\n",
       "default: None\n",
       "current value: None/False\n",
       "related methods: ('with_wrap_after_condition', 'with_wrap_before_condition')\n",
       "style name: wrap_params\n",
       "description: If 'True', wraps every two parameters AND wraps the Expression after the parameters\n",
       "default: None\n",
       "current value: None/False\n",
       "related methods: ('with_params',)\n",
       "style name: justification\n",
       "description: justify to the 'left', 'center', or 'right' in the array cells\n",
       "default: center\n",
       "current value: center\n",
       "related methods: ('with_justification',)"
      ]
     },
     "metadata": {},
     "output_type": "display_data"
    }
   ],
   "source": [
    "stored_expr.style_options()"
   ]
  },
  {
   "cell_type": "code",
   "execution_count": 6,
   "metadata": {},
   "outputs": [
    {
     "data": {
      "text/html": [
       "<table><tr><th>&nbsp;</th><th>core type</th><th>sub-expressions</th><th>expression</th></tr>\n",
       "<tr><td>0</td><td>Operation</td><td>operator:&nbsp;7<br>operand:&nbsp;2<br></td><td><a class=\"ProveItLink\" href=\"expr.ipynb\"><img src=\"expr.png\" style=\"display:inline;vertical-align:middle;\" /></a></td></tr>\n",
       "<tr><td>1</td><td>ExprTuple</td><td>2</td><td><a class=\"ProveItLink\" href=\"../e4a0362eee5e9d96d892b0ca4c7b3cef9a93c01d0/expr.ipynb\"><img src=\"../e4a0362eee5e9d96d892b0ca4c7b3cef9a93c01d0/expr.png\" style=\"display:inline;vertical-align:middle;\" /></a></td></tr>\n",
       "<tr><td>2</td><td>Lambda</td><td>parameter:&nbsp;49<br>body:&nbsp;4<br></td><td><a class=\"ProveItLink\" href=\"../7a36f3483c709abe4c18bbcc4ebae650d5b2c0ff0/expr.ipynb\"><img src=\"../7a36f3483c709abe4c18bbcc4ebae650d5b2c0ff0/expr.png\" style=\"display:inline;vertical-align:middle;\" /></a></td></tr>\n",
       "<tr><td>3</td><td>ExprTuple</td><td>49</td><td><a class=\"ProveItLink\" href=\"../b552db72f8405cd45673f8b4dbbabc4eec4feb090/expr.ipynb\"><img src=\"../b552db72f8405cd45673f8b4dbbabc4eec4feb090/expr.png\" style=\"display:inline;vertical-align:middle;\" /></a></td></tr>\n",
       "<tr><td>4</td><td>Conditional</td><td>value:&nbsp;5<br>condition:&nbsp;6<br></td><td><a class=\"ProveItLink\" href=\"../ca8c1e6d6fcfb99fe32224985f8767d579ca4f4d0/expr.ipynb\"><img src=\"../ca8c1e6d6fcfb99fe32224985f8767d579ca4f4d0/expr.png\" style=\"display:inline;vertical-align:middle;\" /></a></td></tr>\n",
       "<tr><td>5</td><td>Operation</td><td>operator:&nbsp;7<br>operand:&nbsp;11<br></td><td><a class=\"ProveItLink\" href=\"../98cd5872b2c321b1532f11c2b5b28085396c9bc10/expr.ipynb\"><img src=\"../98cd5872b2c321b1532f11c2b5b28085396c9bc10/expr.png\" style=\"display:inline;vertical-align:middle;\" /></a></td></tr>\n",
       "<tr><td>6</td><td>Operation</td><td>operator:&nbsp;9<br>operands:&nbsp;10<br></td><td><a class=\"ProveItLink\" href=\"../5c9b98ec381ed1eef8437437430dde6add03b8720/expr.ipynb\"><img src=\"../5c9b98ec381ed1eef8437437430dde6add03b8720/expr.png\" style=\"display:inline;vertical-align:middle;\" /></a></td></tr>\n",
       "<tr><td>7</td><td>Literal</td><td></td><td><a class=\"ProveItLink\" href=\"../../../../../../logic/booleans/quantification/universality/__pv_it/common/083d2baa0b8ecab1d230f9ec29a15aa1355809fb0/expr.ipynb\"><img src=\"../../../../../../logic/booleans/quantification/universality/__pv_it/common/083d2baa0b8ecab1d230f9ec29a15aa1355809fb0/expr.png\" style=\"display:inline;vertical-align:middle;\" /></a></td></tr>\n",
       "<tr><td>8</td><td>ExprTuple</td><td>11</td><td><a class=\"ProveItLink\" href=\"../a18cd4558548f61431474b63bd716af827d3e68a0/expr.ipynb\"><img src=\"../a18cd4558548f61431474b63bd716af827d3e68a0/expr.png\" style=\"display:inline;vertical-align:middle;\" /></a></td></tr>\n",
       "<tr><td>9</td><td>Literal</td><td></td><td><a class=\"ProveItLink\" href=\"../../../../../../logic/sets/membership/__pv_it/common/477487d8796864d23d5810f83761435f25167f690/expr.ipynb\"><img src=\"../../../../../../logic/sets/membership/__pv_it/common/477487d8796864d23d5810f83761435f25167f690/expr.png\" style=\"display:inline;vertical-align:middle;\" /></a></td></tr>\n",
       "<tr><td>10</td><td>ExprTuple</td><td>49, 12</td><td><a class=\"ProveItLink\" href=\"../5c4abc96ac87b79206a25f7f1bdb45eb8f47d6180/expr.ipynb\"><img src=\"../5c4abc96ac87b79206a25f7f1bdb45eb8f47d6180/expr.png\" style=\"display:inline;vertical-align:middle;\" /></a></td></tr>\n",
       "<tr><td>11</td><td>Lambda</td><td>parameters:&nbsp;26<br>body:&nbsp;13<br></td><td><a class=\"ProveItLink\" href=\"../ea05583071176dc5eb4c692e9fdffb1d54e568290/expr.ipynb\"><img src=\"../ea05583071176dc5eb4c692e9fdffb1d54e568290/expr.png\" style=\"display:inline;vertical-align:middle;\" /></a></td></tr>\n",
       "<tr><td>12</td><td>Literal</td><td></td><td><a class=\"ProveItLink\" href=\"../../../../../../numbers/number_sets/real_numbers/__pv_it/common/93cac87a1a47e613f7a83b23ef7891599a1a4cca0/expr.ipynb\"><img src=\"../../../../../../numbers/number_sets/real_numbers/__pv_it/common/93cac87a1a47e613f7a83b23ef7891599a1a4cca0/expr.png\" style=\"display:inline;vertical-align:middle;\" /></a></td></tr>\n",
       "<tr><td>13</td><td>Conditional</td><td>value:&nbsp;14<br>condition:&nbsp;15<br></td><td><a class=\"ProveItLink\" href=\"../5b8472ebb14510d4142ec56fb15c1e4bc237aa680/expr.ipynb\"><img src=\"../5b8472ebb14510d4142ec56fb15c1e4bc237aa680/expr.png\" style=\"display:inline;vertical-align:middle;\" /></a></td></tr>\n",
       "<tr><td>14</td><td>Operation</td><td>operator:&nbsp;17<br>operands:&nbsp;16<br></td><td><a class=\"ProveItLink\" href=\"../f448fc7f120f9177941bb6764ad49f62c75fd8cf0/expr.ipynb\"><img src=\"../f448fc7f120f9177941bb6764ad49f62c75fd8cf0/expr.png\" style=\"display:inline;vertical-align:middle;\" /></a></td></tr>\n",
       "<tr><td>15</td><td>Operation</td><td>operator:&nbsp;17<br>operands:&nbsp;18<br></td><td><a class=\"ProveItLink\" href=\"../b174b8e812241439296ca714d449a093e4ad68990/expr.ipynb\"><img src=\"../b174b8e812241439296ca714d449a093e4ad68990/expr.png\" style=\"display:inline;vertical-align:middle;\" /></a></td></tr>\n",
       "<tr><td>16</td><td>ExprTuple</td><td>19, 20</td><td><a class=\"ProveItLink\" href=\"../f8f3ee459576ea52c36cb07a8b03c83bb7b9f0c00/expr.ipynb\"><img src=\"../f8f3ee459576ea52c36cb07a8b03c83bb7b9f0c00/expr.png\" style=\"display:inline;vertical-align:middle;\" /></a></td></tr>\n",
       "<tr><td>17</td><td>Literal</td><td></td><td><a class=\"ProveItLink\" href=\"../../../../../../logic/equality/__pv_it/common/fb96dc12b2aa8801dda64d0132b396c63d1502bb0/expr.ipynb\"><img src=\"../../../../../../logic/equality/__pv_it/common/fb96dc12b2aa8801dda64d0132b396c63d1502bb0/expr.png\" style=\"display:inline;vertical-align:middle;\" /></a></td></tr>\n",
       "<tr><td>18</td><td>ExprTuple</td><td>21, 22</td><td><a class=\"ProveItLink\" href=\"../44e5f3def574650e9f5fba02100bbede23b833b10/expr.ipynb\"><img src=\"../44e5f3def574650e9f5fba02100bbede23b833b10/expr.png\" style=\"display:inline;vertical-align:middle;\" /></a></td></tr>\n",
       "<tr><td>19</td><td>Operation</td><td>operator:&nbsp;25<br>operands:&nbsp;23<br></td><td><a class=\"ProveItLink\" href=\"../3c66ce318fb6fbb69a9acb715bf6a4c4d3d5e6ef0/expr.ipynb\"><img src=\"../3c66ce318fb6fbb69a9acb715bf6a4c4d3d5e6ef0/expr.png\" style=\"display:inline;vertical-align:middle;\" /></a></td></tr>\n",
       "<tr><td>20</td><td>Operation</td><td>operator:&nbsp;27<br>operands:&nbsp;24<br></td><td><a class=\"ProveItLink\" href=\"../fd5aeb23e7ce370999308ce3d8646fc3192e3c5d0/expr.ipynb\"><img src=\"../fd5aeb23e7ce370999308ce3d8646fc3192e3c5d0/expr.png\" style=\"display:inline;vertical-align:middle;\" /></a></td></tr>\n",
       "<tr><td>21</td><td>Operation</td><td>operator:&nbsp;25<br>operands:&nbsp;26<br></td><td><a class=\"ProveItLink\" href=\"../d685fe882cf4b0a4043cf46fe54cf753e57242680/expr.ipynb\"><img src=\"../d685fe882cf4b0a4043cf46fe54cf753e57242680/expr.png\" style=\"display:inline;vertical-align:middle;\" /></a></td></tr>\n",
       "<tr><td>22</td><td>Operation</td><td>operator:&nbsp;27<br>operands:&nbsp;28<br></td><td><a class=\"ProveItLink\" href=\"../17347c429df47c780a2c80cc02d192e8e3449da10/expr.ipynb\"><img src=\"../17347c429df47c780a2c80cc02d192e8e3449da10/expr.png\" style=\"display:inline;vertical-align:middle;\" /></a></td></tr>\n",
       "<tr><td>23</td><td>ExprTuple</td><td>29, 32</td><td><a class=\"ProveItLink\" href=\"../1f5274ab36797ba56124df567e90a02e5071423b0/expr.ipynb\"><img src=\"../1f5274ab36797ba56124df567e90a02e5071423b0/expr.png\" style=\"display:inline;vertical-align:middle;\" /></a></td></tr>\n",
       "<tr><td>24</td><td>ExprTuple</td><td>30, 32</td><td><a class=\"ProveItLink\" href=\"../55f57a35043e588a48f1b2528811f41aceb3d1fd0/expr.ipynb\"><img src=\"../55f57a35043e588a48f1b2528811f41aceb3d1fd0/expr.png\" style=\"display:inline;vertical-align:middle;\" /></a></td></tr>\n",
       "<tr><td>25</td><td>Literal</td><td></td><td><a class=\"ProveItLink\" href=\"../../../../multiplication/__pv_it/common/a56cf42f971ea8b70c320fc0b98f33dc6dac5b610/expr.ipynb\"><img src=\"../../../../multiplication/__pv_it/common/a56cf42f971ea8b70c320fc0b98f33dc6dac5b610/expr.png\" style=\"display:inline;vertical-align:middle;\" /></a></td></tr>\n",
       "<tr><td>26</td><td>ExprTuple</td><td>38, 32</td><td><a class=\"ProveItLink\" href=\"../8fe66913ebe1c7961100c4e0925c8533a57298310/expr.ipynb\"><img src=\"../8fe66913ebe1c7961100c4e0925c8533a57298310/expr.png\" style=\"display:inline;vertical-align:middle;\" /></a></td></tr>\n",
       "<tr><td>27</td><td>Literal</td><td></td><td><a class=\"ProveItLink\" href=\"../../../../../scalar_multiplication/__pv_it/common/1e364bd471e6a29fcd358dd2d9cd990a1e6fedd40/expr.ipynb\"><img src=\"../../../../../scalar_multiplication/__pv_it/common/1e364bd471e6a29fcd358dd2d9cd990a1e6fedd40/expr.png\" style=\"display:inline;vertical-align:middle;\" /></a></td></tr>\n",
       "<tr><td>28</td><td>ExprTuple</td><td>31, 32</td><td><a class=\"ProveItLink\" href=\"../66ba183f9162d73846e6cf6bdd04959f2d29ba1c0/expr.ipynb\"><img src=\"../66ba183f9162d73846e6cf6bdd04959f2d29ba1c0/expr.png\" style=\"display:inline;vertical-align:middle;\" /></a></td></tr>\n",
       "<tr><td>29</td><td>Operation</td><td>operator:&nbsp;33<br>operands:&nbsp;34<br></td><td><a class=\"ProveItLink\" href=\"../61173320f992a6613ed0bc0a00ecd5e7078ae5af0/expr.ipynb\"><img src=\"../61173320f992a6613ed0bc0a00ecd5e7078ae5af0/expr.png\" style=\"display:inline;vertical-align:middle;\" /></a></td></tr>\n",
       "<tr><td>30</td><td>Operation</td><td>operator:&nbsp;36<br>operands:&nbsp;35<br></td><td><a class=\"ProveItLink\" href=\"../4c485a84f3e0d6574081fbbcf545ce4182d3d0010/expr.ipynb\"><img src=\"../4c485a84f3e0d6574081fbbcf545ce4182d3d0010/expr.png\" style=\"display:inline;vertical-align:middle;\" /></a></td></tr>\n",
       "<tr><td>31</td><td>Operation</td><td>operator:&nbsp;36<br>operands:&nbsp;37<br></td><td><a class=\"ProveItLink\" href=\"../574ca95b6c331904670eca8f7dedfd14c5b1e5d80/expr.ipynb\"><img src=\"../574ca95b6c331904670eca8f7dedfd14c5b1e5d80/expr.png\" style=\"display:inline;vertical-align:middle;\" /></a></td></tr>\n",
       "<tr><td>32</td><td>Variable</td><td></td><td><a class=\"ProveItLink\" href=\"../../../../../../__pv_it/common/a0d9d672aa5e272d907247690c152cc2c6daafb70/expr.ipynb\"><img src=\"../../../../../../__pv_it/common/a0d9d672aa5e272d907247690c152cc2c6daafb70/expr.png\" style=\"display:inline;vertical-align:middle;\" /></a></td></tr>\n",
       "<tr><td>33</td><td>Literal</td><td></td><td><a class=\"ProveItLink\" href=\"../../common/7d2841d26e131e75e1bb8532fff3e362feab15050/expr.ipynb\"><img src=\"../../common/7d2841d26e131e75e1bb8532fff3e362feab15050/expr.png\" style=\"display:inline;vertical-align:middle;\" /></a></td></tr>\n",
       "<tr><td>34</td><td>ExprTuple</td><td>38, 48</td><td><a class=\"ProveItLink\" href=\"../cbedccc4332639cb9ead1d90241e8e3ae7f04d5a0/expr.ipynb\"><img src=\"../cbedccc4332639cb9ead1d90241e8e3ae7f04d5a0/expr.png\" style=\"display:inline;vertical-align:middle;\" /></a></td></tr>\n",
       "<tr><td>35</td><td>ExprTuple</td><td>40, 39</td><td><a class=\"ProveItLink\" href=\"../79fb80c67bb6ea14e619ae1dc2dd64a96d3b70140/expr.ipynb\"><img src=\"../79fb80c67bb6ea14e619ae1dc2dd64a96d3b70140/expr.png\" style=\"display:inline;vertical-align:middle;\" /></a></td></tr>\n",
       "<tr><td>36</td><td>Literal</td><td></td><td><a class=\"ProveItLink\" href=\"../../../../../../numbers/exponentiation/__pv_it/common/0ac37aca1e54c35c5cda09672df32d4f69f1f3020/expr.ipynb\"><img src=\"../../../../../../numbers/exponentiation/__pv_it/common/0ac37aca1e54c35c5cda09672df32d4f69f1f3020/expr.png\" style=\"display:inline;vertical-align:middle;\" /></a></td></tr>\n",
       "<tr><td>37</td><td>ExprTuple</td><td>40, 41</td><td><a class=\"ProveItLink\" href=\"../54907ab4a9e623bfeb680a9d52eaedc752704d580/expr.ipynb\"><img src=\"../54907ab4a9e623bfeb680a9d52eaedc752704d580/expr.png\" style=\"display:inline;vertical-align:middle;\" /></a></td></tr>\n",
       "<tr><td>38</td><td>Variable</td><td></td><td><a class=\"ProveItLink\" href=\"../../../../../../__pv_it/common/09585084922504426caf1db2ff588a23a0932a960/expr.ipynb\"><img src=\"../../../../../../__pv_it/common/09585084922504426caf1db2ff588a23a0932a960/expr.png\" style=\"display:inline;vertical-align:middle;\" /></a></td></tr>\n",
       "<tr><td>39</td><td>Operation</td><td>operator:&nbsp;46<br>operands:&nbsp;42<br></td><td><a class=\"ProveItLink\" href=\"../29c5a14ba14fcb15254452144e8ffe082af918410/expr.ipynb\"><img src=\"../29c5a14ba14fcb15254452144e8ffe082af918410/expr.png\" style=\"display:inline;vertical-align:middle;\" /></a></td></tr>\n",
       "<tr><td>40</td><td>Literal</td><td></td><td><a class=\"ProveItLink\" href=\"../../../../../../numbers/number_sets/real_numbers/__pv_it/common/e531ffa54fd897084533764a4a14f19f590674f80/expr.ipynb\"><img src=\"../../../../../../numbers/number_sets/real_numbers/__pv_it/common/e531ffa54fd897084533764a4a14f19f590674f80/expr.png\" style=\"display:inline;vertical-align:middle;\" /></a></td></tr>\n",
       "<tr><td>41</td><td>Operation</td><td>operator:&nbsp;46<br>operands:&nbsp;43<br></td><td><a class=\"ProveItLink\" href=\"../8028f34ad96732676585e6f7ac7d1e29b64b74510/expr.ipynb\"><img src=\"../8028f34ad96732676585e6f7ac7d1e29b64b74510/expr.png\" style=\"display:inline;vertical-align:middle;\" /></a></td></tr>\n",
       "<tr><td>42</td><td>ExprTuple</td><td>45, 44</td><td><a class=\"ProveItLink\" href=\"../ebf678a6cc33e07b5a4c8457bc16f024a9bd2ec30/expr.ipynb\"><img src=\"../ebf678a6cc33e07b5a4c8457bc16f024a9bd2ec30/expr.png\" style=\"display:inline;vertical-align:middle;\" /></a></td></tr>\n",
       "<tr><td>43</td><td>ExprTuple</td><td>45, 49</td><td><a class=\"ProveItLink\" href=\"../015b6fe30657349abbb162d3f4e69e0546a5a3580/expr.ipynb\"><img src=\"../015b6fe30657349abbb162d3f4e69e0546a5a3580/expr.png\" style=\"display:inline;vertical-align:middle;\" /></a></td></tr>\n",
       "<tr><td>44</td><td>Operation</td><td>operator:&nbsp;46<br>operands:&nbsp;47<br></td><td><a class=\"ProveItLink\" href=\"../3ba8ad3b4c1938ba0f9bcfda138e4755a26ec40c0/expr.ipynb\"><img src=\"../3ba8ad3b4c1938ba0f9bcfda138e4755a26ec40c0/expr.png\" style=\"display:inline;vertical-align:middle;\" /></a></td></tr>\n",
       "<tr><td>45</td><td>Literal</td><td></td><td><a class=\"ProveItLink\" href=\"../../../../../../numbers/number_sets/complex_numbers/__pv_it/common/6c9cc69d472f352324c298b2318df233e9a7e0250/expr.ipynb\"><img src=\"../../../../../../numbers/number_sets/complex_numbers/__pv_it/common/6c9cc69d472f352324c298b2318df233e9a7e0250/expr.png\" style=\"display:inline;vertical-align:middle;\" /></a></td></tr>\n",
       "<tr><td>46</td><td>Literal</td><td></td><td><a class=\"ProveItLink\" href=\"../../../../../../numbers/multiplication/__pv_it/common/ed719cef37831779c16481533a4d380a2f95ab270/expr.ipynb\"><img src=\"../../../../../../numbers/multiplication/__pv_it/common/ed719cef37831779c16481533a4d380a2f95ab270/expr.png\" style=\"display:inline;vertical-align:middle;\" /></a></td></tr>\n",
       "<tr><td>47</td><td>ExprTuple</td><td>48, 49</td><td><a class=\"ProveItLink\" href=\"../b89d140f0cfd2733dbada6f6aa289c5f653e11af0/expr.ipynb\"><img src=\"../b89d140f0cfd2733dbada6f6aa289c5f653e11af0/expr.png\" style=\"display:inline;vertical-align:middle;\" /></a></td></tr>\n",
       "<tr><td>48</td><td>Variable</td><td></td><td><a class=\"ProveItLink\" href=\"../../../../../../__pv_it/common/674a03b9c3ca221b3aabd5636837b31528ff33830/expr.ipynb\"><img src=\"../../../../../../__pv_it/common/674a03b9c3ca221b3aabd5636837b31528ff33830/expr.png\" style=\"display:inline;vertical-align:middle;\" /></a></td></tr>\n",
       "<tr><td>49</td><td>Variable</td><td></td><td><a class=\"ProveItLink\" href=\"../../../../../../__pv_it/common/b011a4fec64a1c824cf176959ebc716edbf098a10/expr.ipynb\"><img src=\"../../../../../../__pv_it/common/b011a4fec64a1c824cf176959ebc716edbf098a10/expr.png\" style=\"display:inline;vertical-align:middle;\" /></a></td></tr>\n",
       "</table>\n"
      ],
      "text/plain": [
       "0. forall_{theta in Real} [forall_{A, x | (A . x) = (e^{i * theta} * x)} ((A^{m} . x) = (e^{i * (m * theta)} * x))]\n",
       "   core type: Operation\n",
       "   operator: 7\n",
       "   operand: 2\n",
       "1. (theta -> {forall_{A, x | (A . x) = (e^{i * theta} * x)} ((A^{m} . x) = (e^{i * (m * theta)} * x)) if theta in Real.)\n",
       "   core type: ExprTuple\n",
       "   sub-expressions: 2\n",
       "2. theta -> {forall_{A, x | (A . x) = (e^{i * theta} * x)} ((A^{m} . x) = (e^{i * (m * theta)} * x)) if theta in Real.\n",
       "   core type: Lambda\n",
       "   parameter: 49\n",
       "   body: 4\n",
       "3. (theta)\n",
       "   core type: ExprTuple\n",
       "   sub-expressions: 49\n",
       "4. {forall_{A, x | (A . x) = (e^{i * theta} * x)} ((A^{m} . x) = (e^{i * (m * theta)} * x)) if theta in Real.\n",
       "   core type: Conditional\n",
       "   value: 5\n",
       "   condition: 6\n",
       "5. forall_{A, x | (A . x) = (e^{i * theta} * x)} ((A^{m} . x) = (e^{i * (m * theta)} * x))\n",
       "   core type: Operation\n",
       "   operator: 7\n",
       "   operand: 11\n",
       "6. theta in Real\n",
       "   core type: Operation\n",
       "   operator: 9\n",
       "   operands: 10\n",
       "7. forall\n",
       "   core type: Literal\n",
       "   sub-expressions: \n",
       "8. ((A, x) -> {(A^{m} . x) = (e^{i * (m * theta)} * x) if (A . x) = (e^{i * theta} * x).)\n",
       "   core type: ExprTuple\n",
       "   sub-expressions: 11\n",
       "9. in\n",
       "   core type: Literal\n",
       "   sub-expressions: \n",
       "10. (theta, Real)\n",
       "    core type: ExprTuple\n",
       "    sub-expressions: 49, 12\n",
       "11. (A, x) -> {(A^{m} . x) = (e^{i * (m * theta)} * x) if (A . x) = (e^{i * theta} * x).\n",
       "    core type: Lambda\n",
       "    parameters: 26\\n    body: 13\n",
       "12. Real\n",
       "    core type: Literal\n",
       "    sub-expressions: \n",
       "13. {(A^{m} . x) = (e^{i * (m * theta)} * x) if (A . x) = (e^{i * theta} * x).\n",
       "    core type: Conditional\n",
       "    value: 14\n",
       "    condition: 15\n",
       "14. (A^{m} . x) = (e^{i * (m * theta)} * x)\n",
       "    core type: Operation\n",
       "    operator: 17\n",
       "    operands: 16\n",
       "15. (A . x) = (e^{i * theta} * x)\n",
       "    core type: Operation\n",
       "    operator: 17\n",
       "    operands: 18\n",
       "16. (A^{m} . x, e^{i * (m * theta)} * x)\n",
       "    core type: ExprTuple\n",
       "    sub-expressions: 19, 20\n",
       "17. =\n",
       "    core type: Literal\n",
       "    sub-expressions: \n",
       "18. (A . x, e^{i * theta} * x)\n",
       "    core type: ExprTuple\n",
       "    sub-expressions: 21, 22\n",
       "19. A^{m} . x\n",
       "    core type: Operation\n",
       "    operator: 25\n",
       "    operands: 23\n",
       "20. e^{i * (m * theta)} * x\n",
       "    core type: Operation\n",
       "    operator: 27\n",
       "    operands: 24\n",
       "21. A . x\n",
       "    core type: Operation\n",
       "    operator: 25\n",
       "    operands: 26\n",
       "22. e^{i * theta} * x\n",
       "    core type: Operation\n",
       "    operator: 27\n",
       "    operands: 28\n",
       "23. (A^{m}, x)\n",
       "    core type: ExprTuple\n",
       "    sub-expressions: 29, 32\n",
       "24. (e^{i * (m * theta)}, x)\n",
       "    core type: ExprTuple\n",
       "    sub-expressions: 30, 32\n",
       "25. .\n",
       "    core type: Literal\n",
       "    sub-expressions: \n",
       "26. (A, x)\n",
       "    core type: ExprTuple\n",
       "    sub-expressions: 38, 32\n",
       "27. *\n",
       "    core type: Literal\n",
       "    sub-expressions: \n",
       "28. (e^{i * theta}, x)\n",
       "    core type: ExprTuple\n",
       "    sub-expressions: 31, 32\n",
       "29. A^{m}\n",
       "    core type: Operation\n",
       "    operator: 33\n",
       "    operands: 34\n",
       "30. e^{i * (m * theta)}\n",
       "    core type: Operation\n",
       "    operator: 36\n",
       "    operands: 35\n",
       "31. e^{i * theta}\n",
       "    core type: Operation\n",
       "    operator: 36\n",
       "    operands: 37\n",
       "32. x\n",
       "    core type: Variable\n",
       "    sub-expressions: \n",
       "33. ExpM\n",
       "    core type: Literal\n",
       "    sub-expressions: \n",
       "34. (A, m)\n",
       "    core type: ExprTuple\n",
       "    sub-expressions: 38, 48\n",
       "35. (e, i * (m * theta))\n",
       "    core type: ExprTuple\n",
       "    sub-expressions: 40, 39\n",
       "36. Exp\n",
       "    core type: Literal\n",
       "    sub-expressions: \n",
       "37. (e, i * theta)\n",
       "    core type: ExprTuple\n",
       "    sub-expressions: 40, 41\n",
       "38. A\n",
       "    core type: Variable\n",
       "    sub-expressions: \n",
       "39. i * (m * theta)\n",
       "    core type: Operation\n",
       "    operator: 46\n",
       "    operands: 42\n",
       "40. e\n",
       "    core type: Literal\n",
       "    sub-expressions: \n",
       "41. i * theta\n",
       "    core type: Operation\n",
       "    operator: 46\n",
       "    operands: 43\n",
       "42. (i, m * theta)\n",
       "    core type: ExprTuple\n",
       "    sub-expressions: 45, 44\n",
       "43. (i, theta)\n",
       "    core type: ExprTuple\n",
       "    sub-expressions: 45, 49\n",
       "44. m * theta\n",
       "    core type: Operation\n",
       "    operator: 46\n",
       "    operands: 47\n",
       "45. i\n",
       "    core type: Literal\n",
       "    sub-expressions: \n",
       "46. *\n",
       "    core type: Literal\n",
       "    sub-expressions: \n",
       "47. (m, theta)\n",
       "    core type: ExprTuple\n",
       "    sub-expressions: 48, 49\n",
       "48. m\n",
       "    core type: Variable\n",
       "    sub-expressions: \n",
       "49. theta\n",
       "    core type: Variable\n",
       "    sub-expressions: "
      ]
     },
     "metadata": {},
     "output_type": "display_data"
    }
   ],
   "source": [
    "# display the expression information\n",
    "stored_expr.expr_info()"
   ]
  },
  {
   "cell_type": "code",
   "execution_count": null,
   "metadata": {},
   "outputs": [],
   "source": []
  }
 ],
 "metadata": {
  "kernelspec": {
   "display_name": "Python 3",
   "language": "python",
   "name": "python3"
  }
 },
 "nbformat": 4,
 "nbformat_minor": 0
}