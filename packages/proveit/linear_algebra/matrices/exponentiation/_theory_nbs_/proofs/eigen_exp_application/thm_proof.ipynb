{
 "cells": [
  {
   "cell_type": "markdown",
   "metadata": {},
   "source": [
    "Proof of <a class=\"ProveItLink\" href=\"../../../../../../_theory_nbs_/theory.ipynb\">proveit</a>.<a class=\"ProveItLink\" href=\"../../../../../_theory_nbs_/theory.ipynb\">linear_algebra</a>.<a class=\"ProveItLink\" href=\"../../../../_theory_nbs_/theory.ipynb\">matrices</a>.<a class=\"ProveItLink\" href=\"../../theory.ipynb\">exponentiation</a>.<a class=\"ProveItLink\" href=\"../../theorems.ipynb#eigen_exp_application\">eigen_exp_application</a> theorem\n",
    "========"
   ]
  },
  {
   "cell_type": "code",
   "execution_count": 1,
   "metadata": {},
   "outputs": [],
   "source": [
    "import proveit\n",
    "theory = proveit.Theory() # the theorem's theory"
   ]
  },
  {
   "cell_type": "code",
   "execution_count": 2,
   "metadata": {},
   "outputs": [
    {
     "data": {
      "text/html": [
       "With these <a href=\"allowed_presumptions.txt\">allowed</a>/<a href=\"disallowed_presumptions.txt\">disallowed</a> theorem/theory presumptions (e.g., to avoid circular dependencies), we begin our proof of<br><strong id=\"eigen_exp_application\">eigen_exp_application:</strong> <a class=\"ProveItLink\" href=\"../../../__pv_it/theorems/ee04fe7ccce58444881f4b6890c39aa3448d79910/expr.ipynb\"><img src=\"data:image/png;base64,iVBORw0KGgoAAAANSUhEUgAAAdYAAAAZBAMAAAB+/RK8AAAAMFBMVEX///8AAAAAAAAAAAAAAAAA\n",
       "AAAAAAAAAAAAAAAAAAAAAAAAAAAAAAAAAAAAAAAAAAAv3aB7AAAAD3RSTlMAq1RmmUTNIjK7EInv\n",
       "3XZ/CtNrAAAACXBIWXMAAA7EAAAOxAGVKw4bAAAF6klEQVRYw81YXYwURRCunZndmZ3dm5vogwIG\n",
       "1ogY4w8bBeRe8Mgdgp7ACg+iEG/RGMK9uOcDCXp4o1ET5O+iEl1jcA08cJLgSiLGI+oCMSEazeUS\n",
       "Y0LYZC6gF4isFx+A8CBWd89M9/zdTSQkV0nt7HRV1/TXXV1V3QBJKNX8/X9LZwBdbhbAaI4lU87c\n",
       "hHQmkFzEn0dnKNaKw2ykXXvHjQ7LJ4zqALBoacs8/7HXqDo8o7EaBcZI2wAObirmTcP0pC9EdwDQ\n",
       "F5+GkzDutaZtxi5WauKeabGmyEMqxmFNZCU5PeAw0isAr/0J7ZZS58CKER30T0dBPVqGa9DDm887\n",
       "7GBdQdq2TItVKZFHJQ5rIiuJSS8zJtN7A3/mwm5oK3B5X1SHTCdGSVtrgBCDMjXGDtY3iU8PTYtV\n",
       "Iyu3PdaHE1lJTEqRMfk7D+f3DFyEQY3LF0V1aMfJyFvGkDrJd7bc6TDDSmDnCtPvVzKXx2Kliawk\n",
       "przDSN/8YIE6iSvboQjyWkSHXmwcxJWVhzq54CfGDlbyyCSITSSKlWOliawkpgUOo6/YfxcgbeL2\n",
       "6L8kfLAY0eE75Gdwm6lzhZl4ibEbh39pNn9OgDXfbJ6rx8fhJFYSU4/D6JywUMSlt2bvQufKmREd\n",
       "NrduE1qOjh8+gX72FVB2sa4C+CTyizkfGsWCbC0eq2fFp+P4nVQRJYagcJ/w3w6uBtI62Ff32Ru3\n",
       "V+PQiYMpTUqm00G/UvtSCJ2dxlxlFGAJUHax9oNqRkcIHxpU6gd414s/F5dP2AJW14p+RjSRZY/F\n",
       "fgnfT3JJ2xrxvTGHieqgOLjH4PHa7Th3jcBQUVm6Dnk+W3JFvp5CgA8CZRdrtpYr+Xvu6CnJJ4NY\n",
       "cdm+xqBOZnnvrP0wfAfcXxekrpXcP2GsuumXbPTknwPM4ZnfW8EfHQbjw+55YnS34Any0CYDWFFZ\n",
       "KUM7dwGNvCPtY+xilWwxqGjj1ZJkjsBTIawPk9CUx3iuoL/CiA2yiNW1suHXMFaamwVJxvPzFSSf\n",
       "hNOmh/UoppJRHypqJN0IY22rQ6+YCNgib2Ls1YjlZYJKN4KRlilQz3Wv7l4hYs3I2HtfazYtRPSl\n",
       "JV6XUpSOFXszXY8Lb6zkWNu4hAp4choF7d9xgry18kKFpzTPh9Hb23y40lfhCxzgaGC/jtH0ulaM\n",
       "Fb0VHV8fAsoe1mN9vLym5Zf01rN2PbSuuQXY93Ltgk6cSnq1EqiHj/WxuEOdbCI19CLHuo1LqEDq\n",
       "hCerSEW1DMZZAwEZlVmZAsx3DR5wOE0ymeCv+v5UA3BkcrBqQeV2Sz/NG4ZLd9HY2sHYwzpg8vJ6\n",
       "mIZNa+TeMFYVtzB8AEvIAEA+WAtgHaATvAH+Io9i1rY41ue4hArS7lDxT7Yol4+ADAc0Rw/AyxQw\n",
       "QExc5R+Srh1qpNEplGDyQ+VUMSvUEAvfexpjuJe9PKwpi5fX6xlWxRgKYYU7geyu5fLWavV97R0r\n",
       "IE3Rhp4T8+gktFeE/Xq3ICECzcUqmRgAFHM3thFEO12DexgP3+gD6bMrHJi+xp7/CNkUgWBKlPU5\n",
       "XULDoZbURXbKb4z9ZzqnvF6CrlWQLL1eDuZXRpNwSqPfxtjkJUwe2zB1DlLMu9lmZlh3ChIi8HwY\n",
       "QbdDnoxJa+A50/PhNotxHO0INsQpq6OM/Vid8noXW1dYZ0efUM/iVqE1w+sYYuwQ1vUkRuh1tXGc\n",
       "JVEem6gEmMCweWxqq5EtNZAroxe1giV7HHWF7h06pz5E+LC65TUtjeQSGGY01rdxPNvJJOrHq6tC\n",
       "UuUk6Gtf1k7Bmo2tGsearTgSYIKsF9c+Am0NAa788f0l8sbbxbfQaoUPVDHK2x32YXXLa5VcYOzZ\n",
       "4hy+o28e9G+r+6e8l5AC+TUdCCXDEK4qiN0hn8ZwLNZs+Bgdo+zOWfQdzJFqtXSzdzDPB2vElX45\n",
       "f1XEUQsvqs04miYiljpS2agwvoX3TcUg1pzvQCALkzkitC+eIfeIU94Ax0tV5+nDqsf8r926++Fz\n",
       "RTCap/8DjbSRqtmTkFYAAAAASUVORK5CYII=\n",
       "\" style=\"display:inline;vertical-align:middle;\" /></a><br>(see <a class=\"ProveItLink\" href=\"../../../__pv_it/theorems/d32d8665acd2c48b5dfc48af04af5fc120a78fe20/dependencies.ipynb\">dependencies</a>)<br>"
      ],
      "text/plain": [
       "<IPython.core.display.HTML object>"
      ]
     },
     "metadata": {},
     "output_type": "display_data"
    }
   ],
   "source": [
    "%proving eigen_exp_application"
   ]
  },
  {
   "cell_type": "code",
   "execution_count": null,
   "metadata": {},
   "outputs": [],
   "source": []
  }
 ],
 "metadata": {
  "kernelspec": {
   "display_name": "Python 3",
   "language": "python",
   "name": "python3"
  }
 },
 "nbformat": 4,
 "nbformat_minor": 0
}