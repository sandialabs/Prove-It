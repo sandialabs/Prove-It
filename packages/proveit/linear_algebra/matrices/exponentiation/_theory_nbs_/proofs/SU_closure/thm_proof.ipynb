{
 "cells": [
  {
   "cell_type": "markdown",
   "metadata": {},
   "source": [
    "Proof of <a class=\"ProveItLink\" href=\"../../../../../../_theory_nbs_/theory.ipynb\">proveit</a>.<a class=\"ProveItLink\" href=\"../../../../../_theory_nbs_/theory.ipynb\">linear_algebra</a>.<a class=\"ProveItLink\" href=\"../../../../_theory_nbs_/theory.ipynb\">matrices</a>.<a class=\"ProveItLink\" href=\"../../theory.ipynb\">exponentiation</a>.<a class=\"ProveItLink\" href=\"../../theorems.ipynb#SU_closure\">SU_closure</a> theorem\n",
    "========"
   ]
  },
  {
   "cell_type": "code",
   "execution_count": 1,
   "metadata": {},
   "outputs": [],
   "source": [
    "import proveit\n",
    "theory = proveit.Theory() # the theorem's theory"
   ]
  },
  {
   "cell_type": "code",
   "execution_count": 2,
   "metadata": {},
   "outputs": [
    {
     "data": {
      "text/html": [
       "With these <a href=\"allowed_presumptions.txt\">allowed</a>/<a href=\"disallowed_presumptions.txt\">disallowed</a> theorem/theory presumptions (e.g., to avoid circular dependencies), we begin our proof of<br><strong id=\"SU_closure\">SU_closure:</strong> <a class=\"ProveItLink\" href=\"../../../__pv_it/theorems/577c604c6d4bd5190e0e0249551d36286a675d430/expr.ipynb\"><img src=\"data:image/png;base64,iVBORw0KGgoAAAANSUhEUgAAAUMAAAAZBAMAAABZf1ERAAAAMFBMVEX///8AAAAAAAAAAAAAAAAA\n",
       "AAAAAAAAAAAAAAAAAAAAAAAAAAAAAAAAAAAAAAAAAAAv3aB7AAAAD3RSTlMAq1RmmUTNIjK7EInv\n",
       "3XZ/CtNrAAAACXBIWXMAAA7EAAAOxAGVKw4bAAAEvElEQVRIx72Xf2gcRRTHv3e3e7u3l2wPxNJW\n",
       "OU7EGNE2B9rSgOgFr1iof1xR/zH546BI0YIm/whRaU78s7EeQoknalcrSojapLRgjdgEUYqtGEKM\n",
       "v3J4oSLEYogt1qRF43szu7e7uUu7V2kG3s3c7puZz755780M0EgJlb/H2pY/yqnGOkSx5iWSvuGI\n",
       "3dXWfdvnE+deD6iv2bIGiKZcJy0PY+sXGMdsMH2oFSmMmOAHtwdGDHEVDv5ld9sdF6B9nMcidvlf\n",
       "G9lsKqOvP3sLYt9OefSBc7YQ4g7+vzcwopLjqjsooZGXddsCxVpFH8Ok//1HBWzOQ1/iplef5rCk\n",
       "EOJLvAzFwIg6W703sBEV294dfwNNBbOoLRR8748TQx7an5wtvPr0OGNLWpDGU8F98WmqjgVGbJJV\n",
       "/IVFoI/sGClmpMu9VZ7meh9J0YPY5Hb9WgohcsREGwiXe6nKB0ZskdV+8wKwmxxES1oiGJ6x5Is3\n",
       "yWXSHsQWt+seKcz3Tbl8pgHEpnJ5Zjgwoh0dmfBF3+PnbEK0XWHfdhFJX5394PO3qTkihRF3Am9c\n",
       "dZphH6JSQExMYNTTvVMuo88UNGtKv+JTq4anubz8pBeR9OOxJI6ScbdBCCP2QEtcFTHjQyTlHtH+\n",
       "0HH8+fMHjM9+tpTxAiK5FV1kACsSwi2upxy5ddm70KT/eHMRfTT2PRDCiDErnquLpk2dwP2JlYhk\n",
       "8hOifYpiTJ8t5cisHYhJvXdsvU6nw5fidy7bseQdWSfnKv9o/+lf8CCSvnU0hzZap1chhBHDlXrR\n",
       "cnDjIdwWtxSrBnGLtIHaT7k/WxBBGBKI5BA7PEnNRTRI8x9ftqwmOZpf/QvGkgcRbcB6qrqkiA0w\n",
       "/0CdfLaT95xKJo7j2alszosYjVSEF0UTMLl7dBNtpjbiBCIPHfzVk8Um5ToDM77hJ5wGs1I++oqq\n",
       "lx194rtIjr4ZQgTiMUp1NPKs2c7eJefgrQetd+yP1/gi4i3CRBUlj0HhD79M5WxE2omPdKWbuhF2\n",
       "+nBo4lGSZ32I807jO+pPG8+DNPMmR/8Mwpdp3nYIEYgv0vA8csLksBFzyJVojb/bWYuojYt1Lphj\n",
       "Ym52yH9tRLWI53/DOosbsnDm0Mbo57Bvz4w6Vp5O4X1iUH6CkrL1tUWY+e0yX+2yEUP0CTxyQeH0\n",
       "IuZQxT7UisxcLSI2iMUbHbmMbaVSKWWwV4eKjBgm0CQ7kO4gvkKOd/iShbuW9/mcceMTspF4bORm\n",
       "rnd3bHD01QkYN6WEgVncw1gS/WhOyVYXIk+VSq8R4lC0Ji/apcJfewDSzZthTrAek51GVncXurlQ\n",
       "P5GpJ+UGuLK4+tqEFBfxNObQp8tWVteHpRXVLaucF9nMF2QOX5fjRDkJs8BhQJ71QyvMiucw0NAZ\n",
       "O+M9gLBUEWnkJNoVDNlziP1mK1aeQKuIjyTw3qWcxmdopXOUPmho9BNqD0BN4HwasarnDTR4BK7q\n",
       "99pSRaSR96Lnd/Sn5By9ZBJ9ulsmq9VP3UOlki/tOyl7sPpksEHEQS/rQN2LgR1qxsnSoeu4GCi2\n",
       "9R52t6hKY4iOvtktpRZRtf7f3eVT6VG5G3gDjFzjMHate7SBVQ9B13mPnkn/B0B8MOw0A+SjAAAA\n",
       "AElFTkSuQmCC\n",
       "\" style=\"display:inline;vertical-align:middle;\" /></a><br>(see <a class=\"ProveItLink\" href=\"../../../__pv_it/theorems/16248ed8eb025a6a7e1c4a59db8a4b2cd255f2350/dependencies.ipynb\">dependencies</a>)<br>"
      ],
      "text/plain": [
       "<IPython.core.display.HTML object>"
      ]
     },
     "metadata": {},
     "output_type": "display_data"
    },
    {
     "name": "stdout",
     "output_type": "stream",
     "text": [
      "SU_closure may now be readily provable (assuming required theorems are usable).  Simply execute \"%qed\".\n"
     ]
    }
   ],
   "source": [
    "%proving SU_closure"
   ]
  },
  {
   "cell_type": "code",
   "execution_count": null,
   "metadata": {},
   "outputs": [],
   "source": []
  }
 ],
 "metadata": {
  "kernelspec": {
   "display_name": "Python 3",
   "language": "python",
   "name": "python3"
  }
 },
 "nbformat": 4,
 "nbformat_minor": 0
}