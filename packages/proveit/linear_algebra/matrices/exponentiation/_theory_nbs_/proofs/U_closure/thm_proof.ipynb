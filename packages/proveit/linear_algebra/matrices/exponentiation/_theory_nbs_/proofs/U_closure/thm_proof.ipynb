{
 "cells": [
  {
   "cell_type": "markdown",
   "metadata": {},
   "source": [
    "Proof of <a class=\"ProveItLink\" href=\"../../../../../../_theory_nbs_/theory.ipynb\">proveit</a>.<a class=\"ProveItLink\" href=\"../../../../../_theory_nbs_/theory.ipynb\">linear_algebra</a>.<a class=\"ProveItLink\" href=\"../../../../_theory_nbs_/theory.ipynb\">matrices</a>.<a class=\"ProveItLink\" href=\"../../theory.ipynb\">exponentiation</a>.<a class=\"ProveItLink\" href=\"../../theorems.ipynb#U_closure\">U_closure</a> theorem\n",
    "========"
   ]
  },
  {
   "cell_type": "code",
   "execution_count": 1,
   "metadata": {},
   "outputs": [],
   "source": [
    "import proveit\n",
    "theory = proveit.Theory() # the theorem's theory"
   ]
  },
  {
   "cell_type": "code",
   "execution_count": 2,
   "metadata": {},
   "outputs": [
    {
     "data": {
      "text/html": [
       "With these <a href=\"allowed_presumptions.txt\">allowed</a>/<a href=\"disallowed_presumptions.txt\">disallowed</a> theorem/theory presumptions (e.g., to avoid circular dependencies), we begin our proof of<br><strong id=\"U_closure\">U_closure:</strong> <a class=\"ProveItLink\" href=\"../../../__pv_it/theorems/a2387de5902ba1861fef381cf28ad3ff9a5c8a6d0/expr.ipynb\"><img src=\"data:image/png;base64,iVBORw0KGgoAAAANSUhEUgAAAS4AAAAZBAMAAAB9Zt7RAAAAMFBMVEX///8AAAAAAAAAAAAAAAAA\n",
       "AAAAAAAAAAAAAAAAAAAAAAAAAAAAAAAAAAAAAAAAAAAv3aB7AAAAD3RSTlMAq1RmmUTNIjK7EInv\n",
       "3XZ/CtNrAAAACXBIWXMAAA7EAAAOxAGVKw4bAAAEYklEQVRIx72XXYgbVRTH/zsfmckkTfNUuhWX\n",
       "iFhXhDaYViyIZtmIBfswxTdbS8CHRUXNvghtdTfio2tJhVJH0I4fCMuqpMU+tPtgSlEKWlxkKa00\n",
       "kLVSXcWStli7FdFz7p1MMpnsOilsL5zMncyZc3/3nHPPvQP00+6ul3AHWqr+Q38vFHGHWm41uQy/\n",
       "t+WRK+lL7y6vWeq4llad6ydJV4S19TROYWH5uGW8zh5PiCvNl3sjcw3wRclGUVaq4hJrwviiiJt4\n",
       "KvDUXPfdXYh/P8/9B33ArBTieoLvxyJzaTYPFSn7P5WXzU1goGHW0JXL5hL9fM49qx2GFzzJ4Q12\n",
       "dSUyl8n+3RtJeVReRv4CkuVUxWiWg9l3lX6E+7W2+7d4kkPMBRKZ6PnFszkWSbkmfhP7bwKT5DG1\n",
       "kpexer9+LsiVbL+TdKXkoBJsrI+8z0VNf0VqTaSuATsp9MaQy/f6y263vza2X4plpdAoZ+v1b/vg\n",
       "StbrF6tRdDWplVeuB/5+1Q3FkRfEng37Fxvk3bQU4toOvLfiANUAl1ZGXJi2utTul1EKTJ3ckzH/\n",
       "DqiNhfPrOR7kYMOiRFSLUohrHEZ6Ra58gIuUx0X/My+NZ86exI71UO0u7TUiaTU5fo8S2Oaiharb\n",
       "F2BQIio1KcQVdxN273I9fxyPpru5yLnHRf8rGtdccGwc5NHxoaeyy09hYXWxMLIUqA6UNvULQa6v\n",
       "yfnWn1Bu0eOmFOJSGr3S/sDgIdyTcDU3xLVJTlmfonQosM+IKwFZBzl8bieXRUr/dNq1/JJkLXVw\n",
       "QWligOzqNSlidT3WI2m38y7QyCfwZWG+YHdyxdSGSKRYWpZmj2sO6uiBnztqjogjORIXA5bn/N43\n",
       "JG96cWSotVkXCj1mYa5jVJLI5kJqG89eWr/E+sP3TSRC+YXERuGRhlbENHwu2gU/3p1NlqC01OOM\n",
       "/zTJKwGuK37vcRpuA3c+YO9WsdmtQiV3sjDXa5RDbDOd4vwX1qW3hxMf7QpzGadEGMupmhjV49Ir\n",
       "2HcZa13uyMbL3eDaeiSwa8X8Gq79CE3cHCWZLOOyWhbFhYW5BoibbZZFxRHWdRGgYeQXw1xYL4zO\n",
       "Hr2Fhx3HyWCQuRSiGMJuytoWlzkH68gNFw/8+2IgwQafaXV3jghTeJvkWVo5D1HwbSn+OWcIU97K\n",
       "Zuvq847zDnHNxEL1y2sNXtZvie4fzMU4Z1Aw23HE+d5lRz8h96F2W9PeOF/3xOc6g0VMmrJXMM2q\n",
       "9Je+aZnzFzv0mldgaTq/cj4bTZwfRqrRuQdHamo+sNePdnCRzSFs0zDjWRc7wFZ0n+V8rh1pfHLD\n",
       "NsQR1JqdpQkfhp7G71nE/WyKR/4WOOyXzIp3uGlxkc0xjP+GqYy0vpdGMs+VZH1Z/rw64zh2Vz2d\n",
       "7lGq/q9Nd05FTCd0jvZWi3XCOdTfOVrzvPNk+6+JyB8Crdj/4kmIS3dv+3x/UuaKvSrfQ+rK6i+t\n",
       "8P1oodcp4za/H0//B/58GqASftR2AAAAAElFTkSuQmCC\n",
       "\" style=\"display:inline;vertical-align:middle;\" /></a><br>(see <a class=\"ProveItLink\" href=\"../../../__pv_it/theorems/6a320dcb16e854288ff43af0a07e363e0f452ec70/dependencies.ipynb\">dependencies</a>)<br>"
      ],
      "text/plain": [
       "<IPython.core.display.HTML object>"
      ]
     },
     "metadata": {},
     "output_type": "display_data"
    },
    {
     "name": "stdout",
     "output_type": "stream",
     "text": [
      "U_closure may now be readily provable (assuming required theorems are usable).  Simply execute \"%qed\".\n"
     ]
    }
   ],
   "source": [
    "%proving U_closure"
   ]
  },
  {
   "cell_type": "code",
   "execution_count": null,
   "metadata": {},
   "outputs": [],
   "source": []
  }
 ],
 "metadata": {
  "kernelspec": {
   "display_name": "Python 3",
   "language": "python",
   "name": "python3"
  }
 },
 "nbformat": 4,
 "nbformat_minor": 0
}