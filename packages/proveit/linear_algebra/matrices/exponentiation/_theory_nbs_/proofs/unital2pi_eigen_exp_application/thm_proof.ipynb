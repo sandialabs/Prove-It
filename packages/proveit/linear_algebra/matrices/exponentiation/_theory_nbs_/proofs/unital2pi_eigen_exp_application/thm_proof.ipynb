{
 "cells": [
  {
   "cell_type": "markdown",
   "metadata": {},
   "source": [
    "Proof of <a class=\"ProveItLink\" href=\"../../../../../../_theory_nbs_/theory.ipynb\">proveit</a>.<a class=\"ProveItLink\" href=\"../../../../../_theory_nbs_/theory.ipynb\">linear_algebra</a>.<a class=\"ProveItLink\" href=\"../../../../_theory_nbs_/theory.ipynb\">matrices</a>.<a class=\"ProveItLink\" href=\"../../theory.ipynb\">exponentiation</a>.<a class=\"ProveItLink\" href=\"../../theorems.ipynb#unital2pi_eigen_exp_application\">unital2pi_eigen_exp_application</a> theorem\n",
    "========"
   ]
  },
  {
   "cell_type": "code",
   "execution_count": 1,
   "metadata": {},
   "outputs": [],
   "source": [
    "import proveit\n",
    "theory = proveit.Theory() # the theorem's theory"
   ]
  },
  {
   "cell_type": "code",
   "execution_count": 2,
   "metadata": {},
   "outputs": [
    {
     "data": {
      "text/html": [
       "With these <a href=\"allowed_presumptions.txt\">allowed</a>/<a href=\"disallowed_presumptions.txt\">disallowed</a> theorem/theory presumptions (e.g., to avoid circular dependencies), we begin our proof of<br><strong id=\"unital2pi_eigen_exp_application\">unital2pi_eigen_exp_application:</strong> <a class=\"ProveItLink\" href=\"../../../__pv_it/theorems/f26599426647e321e4847468d7f54446fc0f36730/expr.ipynb\"><img src=\"data:image/png;base64,iVBORw0KGgoAAAANSUhEUgAAAmIAAAAmBAMAAACVLuqGAAAAMFBMVEX///8AAAAAAAAAAAAAAAAA\n",
       "AAAAAAAAAAAAAAAAAAAAAAAAAAAAAAAAAAAAAAAAAAAv3aB7AAAAD3RSTlMAq1RmmUTNIjK7EInv\n",
       "3XZ/CtNrAAAACXBIWXMAAA7EAAAOxAGVKw4bAAAIMElEQVRo3tVafWxTVRQ/ff147evWNTExQAjW\n",
       "gBKNyqKAoARLGALyVSEqCIYqGhASKP9Axteq8Q+RwRqE4PAPHnFR55AVEkgYUTtMYIGA04RokIU3\n",
       "RzAYnXUKzBKt9+O93vu+tnbFhp5k5729e8997/7eub9zzn0FyEeEbLZ6oPZx2T+hJOIKlcJEE2k1\n",
       "07Agm1FVXogFB26/H0ok00pikpOdMtMAZ3OqfBBzRkthwhkHmS5PxOrlUphwspvTZYnYmpKYcHJI\n",
       "ZrocERMyd8pkEtFjDVcVc9gIMl2OiFUmh27ScmQEd/kc4aeIER+TuXiL6XJErEEeukkY5hnbDhov\n",
       "uM1v5ENOlyFiw+l7t2sWbU2Q3IC6uKFthqn3atOVKZwuQ8RomvwThQdlDeMn9QZ7PmAuotiZIHmK\n",
       "ICZeyWbxEluBL3WCc/qu7sBkgqT05TCAoyb7uhDTKmIEi9GDI+Ygx2pbxPIapzjxEjoR6NLxpEGa\n",
       "8DW0Qzfr0GNjQuUL9Nf0STUxX0Ex/2hZdUUwQB7dE68HGGPmwTDTKmLENVcOjpgL06QnZotYXuMU\n",
       "mb+msf5YLczSIB6OQj/MYR08srUJBe8StIAc2JQEKYkQawF3AjZdg6q4K4n+gavQKsMSc7CMMq0i\n",
       "9hZGOzE4Yl78JmrtV2Ve4xQnDvLc09XiB3mPQ/Gm4DsOn7C1CZFaGepj4POGwXsGIVYfw1QzCuqh\n",
       "MoQbLsJygO2mewbSTKuI4ffiD+XBY5gVj9ojltc4xUkFWT4pcu7f3I8uxAMJMc0R+llrE8J7YREv\n",
       "kFp3UFuVXvR+O+A61HkxjWVwAWpelUI/0ypiTkRNnnyY/wl0jNojltc4xUkVpiCBPsO2QB8iZORl\n",
       "zgTnWCssTeDg+TDUvvsOXrPz3SlgzC+mkZdNxmmYkBYvAfSaibCPaS1Wnu/qOpcPYhVdXZeTA8TK\n",
       "fMYpEjEcd1z0GcICioLPI2IVR2EgDnd/ehI5+BFLE+n86Hb4Jpul+cOlHGL7ADncSlj/Cx521NMy\n",
       "vpLb6OkdsQOvKIkEW6o1xGYB7M8HMVccfPIAiOUzTnFCYryHhGt3yHubbwoHRrk6ASbi83ldWL5l\n",
       "Jo5OqLN68qXcuQd3lBJc+t+tkJT3X8hpDbH1IFpnW349YqjX+oHyMdtx8pCFV1nB4rXdnmnAs6oM\n",
       "0QmJf/AhMebMOBCUj1iaIEfzWaVFLi7yV8n6C0/CM/I9+IS+mNs8Yj7Zb6ivts6JONt1VRbJYPfD\n",
       "Md7tfnz9XoVHLDeObFGqCfhZpFwA4jqQajglpe1g4voux+NXkJtcr5n2N882avxvMFoTk4ZsNmvJ\n",
       "J23slGQBE8hpKx4qDs/Shr+Y1hATFJ6wvd2NESHYBs+ZEXuMEf+u4XtBSfo384hp40gd/EP56IE8\n",
       "y6FcVGNkTavhmBfz8YunT4e1FKVnlrkvcRiCmITe1T/6oEje3jJLH2sYu3GjJZ9Ihv9lLmmFC7aI\n",
       "QXQqZ1SDZiVMdUHSjJjHqfmUC09HUZyHdVWSOo6/z4yYRNbrVyEzg6jVsC8CMYgk0V1jCLEY+CPb\n",
       "zX3ZqsSPdlnvTDEJzfdRI4/RVakMgSjct+AzGx6DoyjT0gqsAF7vwtsvIQeqmVczQ4eY/0H8Dlq6\n",
       "47QaUZRAkw6xo7SOXXzBjBgpGNz1ijk5V28xC8ROlIsn0EFMoNNKVqqyvnX44Xx4kEXobx13l+bI\n",
       "SEK7k03BgoRXNMtYYXhJex0pSLLCVBcrYQuCQyuwmgk+8bYHLHxMbMenq7wpGlKUZG2PDrEtlPiV\n",
       "Vwn9XN02kyFWSS55gloDS3URTiNXgV/GOPgjl7TCYQkMM/dtJZ1wEMJr+AAHwrj35sJCdJxjnDkx\n",
       "kS5P+K1ANxP6m1JufGORrBhRl4+BAy1ErcBaRBFzBRJmxOgkwlLGTQKPMvuEfu/CEadMTSjzZ0fi\n",
       "NYbYBmJA2Jk0CGGY3YikGlXDnuQrsC7bie8CD2uIdU+NcH01rsJnXoTxgZsyPJTl9qObeoXpeH4X\n",
       "TTk/MXZdWVvgmpTmK2MeJ7x+g2n9bo9aYE1E0wgJcSkZtUCMeEvEnXa+2di4G63KYyGL3Z7F8Cs+\n",
       "VPuUOEMMV7jueCClNbi1xAedLFOh1glKJVG9rO8LHnL2g/08xU7jFU+xlS7d9aZaj5haYO2gPgYL\n",
       "FVM+prq57Ap6k5THXmizQGzOyfsI8VTFOB7D7a6TRzJagzfBBv69qytielA0dVQv6/uCixQ44+2n\n",
       "5zJlXdSkCPF3Mq1DTCuwSFaPIn4gaLOjOA62yjS3R8GhyYwYSp/oXmc9JVuK2Hby2UHs1xpyqxLB\n",
       "8aDVg6psr/bVMhGCuM+exM1bK85MkYj5gkzrENMKLBHvaO5cqW4QWiA2rQc5Vi3CxL12jVQTNSGG\n",
       "iLAqJCXF1HGaSOWYH5NfHyZt3BBQmDNVKoINBsa+EuFfyX6h7TPzUd+dqGVVbb1r3dLYGBlo15rQ\n",
       "uXSica/1rrWrHaQFb3hPwfylvTJDDPnF3CA03URDkwbmJ/tQrGy3K1cNfWEP3bawLQ8skN9TJGLL\n",
       "Y0wPbZ8/k9c+v2DIx4wfaZotq2FraTZ+pihIphSJ2HFODwkxm11WI2IvG6ukmfr2mZbVsLVwpq2R\n",
       "gmc8BBOdnOL0//ktqdqImF+38PhPq22Dbe5zff3RwmNdtCjASEKk6hJ9fRP1wc9cAUuD5ZL8Px2F\n",
       "z7mjKMQqQkyX5S9VJpbEhJNrnC5LxDzVpTDhVsgZpssTMen7Upgw+TzEdIGI3S2/g90gl8IkJ+9z\n",
       "urDfwd41IsZLYZLzzwjTOfkP7mlvuFLYMd8AAAAASUVORK5CYII=\n",
       "\" style=\"display:inline;vertical-align:middle;\" /></a><br>(see <a class=\"ProveItLink\" href=\"../../../__pv_it/theorems/8dee1bfd5d1657d0feabd1a4544d21304ed67f250/dependencies.ipynb\">dependencies</a>)<br>"
      ],
      "text/plain": [
       "<IPython.core.display.HTML object>"
      ]
     },
     "metadata": {},
     "output_type": "display_data"
    },
    {
     "name": "stdout",
     "output_type": "stream",
     "text": [
      "unital2pi_eigen_exp_application may now be readily provable (assuming required theorems are usable).  Simply execute \"%qed\".\n"
     ]
    }
   ],
   "source": [
    "%proving unital2pi_eigen_exp_application"
   ]
  },
  {
   "cell_type": "code",
   "execution_count": null,
   "metadata": {},
   "outputs": [],
   "source": []
  }
 ],
 "metadata": {
  "kernelspec": {
   "display_name": "Python 3",
   "language": "python",
   "name": "python3"
  }
 },
 "nbformat": 4,
 "nbformat_minor": 0
}