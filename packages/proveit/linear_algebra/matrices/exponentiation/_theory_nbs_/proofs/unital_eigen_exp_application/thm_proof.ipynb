{
 "cells": [
  {
   "cell_type": "markdown",
   "metadata": {},
   "source": [
    "Proof of <a class=\"ProveItLink\" href=\"../../../../../../_theory_nbs_/theory.ipynb\">proveit</a>.<a class=\"ProveItLink\" href=\"../../../../../_theory_nbs_/theory.ipynb\">linear_algebra</a>.<a class=\"ProveItLink\" href=\"../../../../_theory_nbs_/theory.ipynb\">matrices</a>.<a class=\"ProveItLink\" href=\"../../theory.ipynb\">exponentiation</a>.<a class=\"ProveItLink\" href=\"../../theorems.ipynb#unital_eigen_exp_application\">unital_eigen_exp_application</a> theorem\n",
    "========"
   ]
  },
  {
   "cell_type": "code",
   "execution_count": 1,
   "metadata": {},
   "outputs": [],
   "source": [
    "import proveit\n",
    "theory = proveit.Theory() # the theorem's theory"
   ]
  },
  {
   "cell_type": "code",
   "execution_count": 2,
   "metadata": {},
   "outputs": [
    {
     "data": {
      "text/html": [
       "With these <a href=\"allowed_presumptions.txt\">allowed</a>/<a href=\"disallowed_presumptions.txt\">disallowed</a> theorem/theory presumptions (e.g., to avoid circular dependencies), we begin our proof of<br><strong id=\"unital_eigen_exp_application\">unital_eigen_exp_application:</strong> <a class=\"ProveItLink\" href=\"../../../__pv_it/theorems/d670b702f69c654a86442eaf63e97203cec86bee0/expr.ipynb\"><img src=\"data:image/png;base64,iVBORw0KGgoAAAANSUhEUgAAAisAAAAmBAMAAAD3gcbsAAAAMFBMVEX///8AAAAAAAAAAAAAAAAA\n",
       "AAAAAAAAAAAAAAAAAAAAAAAAAAAAAAAAAAAAAAAAAAAv3aB7AAAAD3RSTlMAq1RmmUTNIjK7EInv\n",
       "3XZ/CtNrAAAACXBIWXMAAA7EAAAOxAGVKw4bAAAH4UlEQVRo3tVafYhUVRQ/8+bNvJn3dt8OBJEh\n",
       "OqEpQeZQrh8hOuaqmV+bQllrOClhbWAjhGaZO/VPmasOWZgKOpFEZukoZbALNWuBoihLEH25NJtm\n",
       "KLVtlropNd2P9969b+57u3MXzObCnPdxP947v3fO75xzdwEqaUqplOivf2zpD7heTY3Lz7lPYqze\n",
       "zCQsKF0FtVTKVTZVifXffxtcvzZtEEjGZEZvyjEJcBz9av7/sART8nPGyz0hxmTVwNKak54SOS43\n",
       "/nVOVgssT8tPCefpcSKRo92dpjj+gxyTVQKLclV+zlhLqxPEORq5Hm1+EZI+VGQRUnXAUpuXn/M9\n",
       "f/E2f7E31wxNwnjtCpNVAsuWQVCLy8Bm8BdbEYOExRV3crI6YBlCv6dzPW5iT+zMW+xDe0wJZK2T\n",
       "5Vh0QnD65m5zUgaP7oVlYIh50GROVgcsNE38kWKQAr3+c+iAbqc7VBSn1CU4WNCcd5YkamIm1kDN\n",
       "Qh8oIrm0xJm0YCEKjxgYlgA5JnxhqWgdeYcgDq9Qggn3grY/hTSbwwac8fC7tAPLPghl4flzUJdR\n",
       "8+iidufBXnxHILAkkxYsxPdWDAyLihk9nPaFpaJ15JO5XizftSIMuggUIwX4kgvGor1PBQeW1jS2\n",
       "82HQCrVxdFGXVpMQEWFRU0xasLyELS07MCwRbA5r/Z2oonWkW4C86nSrDECmU5Mxs1pvhuEmusTN\n",
       "wDkRBuEYnIeWCHYvqEl7OZHZy6QFC4bbiFfALbiWOuQPS0XrSLca4psFcm680IcIANlLMMtpJma0\n",
       "HeCmXES0w2CSSkwL1ZCmSEdKH5MWLEFEF+FKKPcedEz5w1LROtKtDrOKQh+73rwI8CByZG0Y5znL\n",
       "hTnXSLpyMkm7tkEohpx71QVM0O3ou0VFIohcZNKORCe7uk5UAktNV9fpfD+RqJJ15GHBHK/SxyYV\n",
       "1+7F/u73sJYHPYOXfnKEZTRC9raX21PouXUjdgCdLEylDcv9ADs8X8lww6JmIJrrBxbfdSptZzyC\n",
       "LQmaYRL/QvHINb4raQ5TO61qWe0ijXichj96oBNa6Muq5cYxi6Na6C7Owyf/gCNtWFaB5p2VqG5Y\n",
       "0KhV6PTZHnprzOFpK12wOOvkPBZR8MvpXuUaruQi2EuMjPMaDJ8tGJbaOF1J+52PUeng1QDC605P\n",
       "j0BWFrWSibay2MbVSBNgau4mx++otGGJ5oxG98wX5zQGOwRYkC18jFTbgbg10r290TTgkzwPi72O\n",
       "foxfK0oP9aRGdQJI0uMt18It4gdZirtryJjzDdP+4rW3AuqWclhCl/DdUqlkvZ1ethlHDwfw5AzM\n",
       "pFd/MmnDohR5psQaK7E2eECE5S7MuNFENA4NSD/ThHuLPCz2OsZFERadGMJnTqBqcldyJLB/9Op3\n",
       "jmZ5l7UQWHT0sL/dUYo8fomntWwZvWZNvxk8zd3glC8skJrCDccaK1NUyBsN8xpmuGAJB4s4QIbj\n",
       "JjZPBMuFpCv5t9ZZfEqEheSCodaimITNsGBJw9aFBWdWs+hE+COddmm2NK2jZcaUcwt1omJFdBa6\n",
       "Au/7cAscQi9hl1NEY+Xlh4t50VqMUWj0bJRIEy43DW1XwgXLIapM8XHSfXb9LAZLLbkVjtkdLMHp\n",
       "BH3ok1pW64TOIFGlZ9bZNMuPWvAjorhjEfo9wweUxqEkKEwStglwQFGRdumBQNHfDBQgzyovVySC\n",
       "deht7XKKaKxk2m73gEXDIe/b9uHkDcFUd2bdpeK6GKVT4q8/B7LLGCyrCV6EDEgHyjRnb0ctgSq5\n",
       "cP4x4kRZEufM9JBwHEbaCx/AiBiY8LEp7eY0HfvaXFiIjnMEZfFH10/X/zqgwSh9ewqhuB28LOnA\n",
       "EkB+Y5dTiygsqpkVYSGUeAUaYDxSKG6axkI3LAHCqIvhF3xIRIsZBssj2GAzZsHucMo1dLIEAq/g\n",
       "y80TAFVzQdgVoeMpf2A/jSCT2n05B3eUuB3MPT3KdKzSV4K2XxC3+mHlgC6kzy+OvJv43SUm3RsL\n",
       "VjlFNFYyej4l5C209cJR2Eiswgw15Tw2Fua0Dye369Ict+B+tf3gVbvDKdfQwr91dTnRqDWNgQfY\n",
       "4JAQGfiNv2rI+8rbU4PcGaXSDYtVTm2k1gILiz77Lc1qnGZ1KEC3JUVYUErSQsyklfo2hWUDSUa0\n",
       "PrvDcSKEz6iyQFLQgDmRSmh4nL9GqrjVMVcaFqOTSRcsdjlFNEa5hBnzgaUJsaGGd8ceOpffM1OE\n",
       "BXlhXVzPa4XDNDlxKDeE3v8i5gjcwcq1TqgtKhxlrDNSyHl7nLSGfMGoP3t61PRTpfc5ozEmXbDY\n",
       "5RTReNMKa1fJb3du3/btjd67c2oH6AueiByB+U09OQYL0mtuDPZcRrNIB9NzG4pEHZwe6k+fXsB3\n",
       "bfcnNKj7b1hsE28dkK7j6X4eld6bloLGg9q0VMryllDer1xr8uRCBsMbtHj2e7DpYUfRpCwsS9NM\n",
       "Xs+93EfLk/9ZfuWa6uUf3M3Jg9jRK8jOOMzJ6wlLohwWI+dXrrV5LFfPeUSjNCz6JdkZRzj53+z8\n",
       "23+xyHmUa16VXPlgIyVvLoclx5N8ypLV8jfoY4PY6cxIjo8zWS2wjB8EuUha2DlOVgss4YT8nOVS\n",
       "o7WjTFYNLPrX8nM+TEuNjjMpCcsN/N+51dJJK2jNMqO3clLuf+duZNMy8nOekzHHRiad9i/3eThD\n",
       "aZtcyQAAAABJRU5ErkJggg==\n",
       "\" style=\"display:inline;vertical-align:middle;\" /></a><br>(see <a class=\"ProveItLink\" href=\"../../../__pv_it/theorems/ba89eac04854e6947a3cec26d1023a74e1cb07db0/dependencies.ipynb\">dependencies</a>)<br>"
      ],
      "text/plain": [
       "<IPython.core.display.HTML object>"
      ]
     },
     "metadata": {},
     "output_type": "display_data"
    }
   ],
   "source": [
    "%proving unital_eigen_exp_application"
   ]
  },
  {
   "cell_type": "code",
   "execution_count": null,
   "metadata": {},
   "outputs": [],
   "source": []
  }
 ],
 "metadata": {
  "kernelspec": {
   "display_name": "Python 3",
   "language": "python",
   "name": "python3"
  }
 },
 "nbformat": 4,
 "nbformat_minor": 0
}