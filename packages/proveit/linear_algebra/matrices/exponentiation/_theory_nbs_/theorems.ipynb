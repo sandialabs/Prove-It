{
 "cells": [
  {
   "cell_type": "markdown",
   "metadata": {},
   "source": [
    "Theorems (or conjectures) for the theory of <a class=\"ProveItLink\" href=\"theory.ipynb\">proveit.linear_algebra.matrices.exponentiation</a>\n",
    "========"
   ]
  },
  {
   "cell_type": "code",
   "execution_count": null,
   "metadata": {},
   "outputs": [],
   "source": [
    "import proveit\n",
    "# Prepare this notebook for defining the theorems of a theory:\n",
    "%theorems_notebook # Keep this at the top following 'import proveit'.\n",
    "\n",
    "from proveit import b, m, n, x, A, theta, rho\n",
    "from proveit.logic import Forall, Equals, InSet\n",
    "from proveit.numbers import NaturalPos, Real, Complex, Mult, Exp, i, exp, exp2pi_i\n",
    "from proveit.linear_algebra import SU, MatrixMult, ScalarMult, MatrixExp"
   ]
  },
  {
   "cell_type": "code",
   "execution_count": null,
   "metadata": {},
   "outputs": [],
   "source": [
    "%begin theorems"
   ]
  },
  {
   "cell_type": "code",
   "execution_count": null,
   "metadata": {},
   "outputs": [],
   "source": [
    "SU_closure = Forall((m, n), Forall(A, InSet(MatrixExp(A, m), SU(n)),\n",
    "                                   domain=SU(n)),\n",
    "                    domain=NaturalPos)"
   ]
  },
  {
   "cell_type": "code",
   "execution_count": null,
   "metadata": {},
   "outputs": [],
   "source": [
    "eigen_exp_application = Forall(\n",
    "    m, Forall(\n",
    "        b, Forall((A, x), Equals(MatrixMult(MatrixExp(A, m), x), MatrixMult(Exp(b, m), x)),\n",
    "                  condition=Equals(MatrixMult(A, x), ScalarMult(b, x))),\n",
    "        domain=Complex),\n",
    "    domain=NaturalPos)"
   ]
  },
  {
   "cell_type": "code",
   "execution_count": null,
   "metadata": {},
   "outputs": [],
   "source": [
    "unital_eigen_exp_application = Forall(\n",
    "    m, Forall(\n",
    "        theta, Forall((A, x), Equals(MatrixMult(MatrixExp(A, m), x), ScalarMult(exp(Mult(i, Mult(m, theta))), x)),\n",
    "                  condition=Equals(MatrixMult(A, x), ScalarMult(exp(Mult(i, theta)), x))),\n",
    "        domain=Real),\n",
    "    domain=NaturalPos)"
   ]
  },
  {
   "cell_type": "code",
   "execution_count": null,
   "metadata": {},
   "outputs": [],
   "source": [
    "unital2pi_eigen_exp_application = Forall(\n",
    "    m, Forall(\n",
    "        rho, Forall((A, x), Equals(MatrixMult(MatrixExp(A, m), x), ScalarMult(exp2pi_i(Mult(m, rho)), x)),\n",
    "                  condition=Equals(MatrixMult(A, x), ScalarMult(exp2pi_i(rho), x))),\n",
    "        domain=Real),\n",
    "    domain=NaturalPos)"
   ]
  },
  {
   "cell_type": "code",
   "execution_count": null,
   "metadata": {},
   "outputs": [],
   "source": [
    "%end theorems"
   ]
  }
 ],
 "metadata": {
  "kernelspec": {
   "display_name": "Python 3",
   "language": "python",
   "name": "python3"
  }
 },
 "nbformat": 4,
 "nbformat_minor": 0
}
