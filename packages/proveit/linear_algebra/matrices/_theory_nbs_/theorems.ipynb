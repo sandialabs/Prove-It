{
 "cells": [
  {
   "cell_type": "markdown",
   "metadata": {},
   "source": [
    "Theorems (or conjectures) for the theory of <a class=\"ProveItLink\" href=\"theory.ipynb\">proveit.linear_algebra.matrices</a>\n",
    "========"
   ]
  },
  {
   "cell_type": "code",
   "execution_count": 1,
   "metadata": {},
   "outputs": [],
   "source": [
    "import proveit\n",
    "# Prepare this notebook for defining the theorems of a theory:\n",
    "%theorems_notebook # Keep this at the top following 'import proveit'.\n",
    "\n",
    "from proveit import (a, b, b_of_j, b_of_k, c, d, f, g, i, j, k, m, n, t,\n",
    "                     x, y, z, fj, gj, fy, A, P, U, V, W, S, alpha, beta)\n",
    "from proveit import Function, ExprRange, IndexedVar\n",
    "from proveit.core_expr_types import (bj, a_1_to_m, x_1_to_i, x_1_to_m,\n",
    "                                     y_1_to_j, z_1_to_k, z_1_to_n)\n",
    "from proveit.core_expr_types import (\n",
    "    a_1_to_i, b_1_to_j, c_1_to_j, c_1_to_k, d_1_to_k)\n",
    "from proveit.logic import Equals, Forall, Iff, InSet, InClass, Implies\n",
    "from proveit.numbers import Add, Mult, Exp, Sum\n",
    "from proveit.numbers import one\n",
    "from proveit.numbers import (Integer, Interval, Natural, NaturalPos,\n",
    "                             Rational, Real, Complex)\n",
    "from proveit.linear_algebra import (\n",
    "    VecSpaces, LinMap, ScalarMult, MatrixSpace,\n",
    "    TensorProd, MatrixMult, SU)"
   ]
  },
  {
   "cell_type": "code",
   "execution_count": 2,
   "metadata": {},
   "outputs": [
    {
     "name": "stdout",
     "output_type": "stream",
     "text": [
      "Defining theorems for theory 'proveit.linear_algebra.matrices'\n",
      "Subsequent end-of-cell assignments will define theorems\n",
      "'%end theorems' will finalize the definitions\n"
     ]
    }
   ],
   "source": [
    "%begin theorems"
   ]
  },
  {
   "cell_type": "markdown",
   "metadata": {},
   "source": [
    "### Matrix spaces on number fields are vector spaces"
   ]
  },
  {
   "cell_type": "code",
   "execution_count": 3,
   "metadata": {},
   "outputs": [
    {
     "data": {
      "text/html": [
       "<strong id=\"rational_matrix_space_is_vec_space\"><a class=\"ProveItLink\" href=\"proofs/rational_matrix_space_is_vec_space/thm_proof.ipynb\">rational_matrix_space_is_vec_space</a> (conjecture without proof):<br></strong> <a class=\"ProveItLink\" href=\"../__pv_it/theorems/8cb88d0c52f11bdfe3a0a29c06290c8874c8e6470/theorem_expr.ipynb\"><img src=\"data:image/png;base64,iVBORw0KGgoAAAANSUhEUgAAATgAAAAmBAMAAACi+poGAAAAMFBMVEX///+IiIgiIiIQEBB2dnbu\n",
       "7u5UVFTMzMzc3NwyMjK6urpmZmaYmJiqqqpEREQAAACk/Np2AAAAAXRSTlMAQObYZgAAAAlwSFlz\n",
       "AAAOxAAADsQBlSsOGwAABapJREFUWMO9WGtsFFUU/nZ3hpmdfTBV2gQFQtYHgSbSGGobFLImjba8\n",
       "smmwkah0wR9EqGSamkZ/mK4U64+qrBESSyIsoX+MQNZYIdImLtEoQpVVDE0IhKKiseK2ELXbFsRz\n",
       "70z3UTrbnVJ2ku7Mnd5z73fO+c7jDmDx6kFBLnHPNIRcwcKAw2sB6zLfFggb3P2WRaTyQoHDZcsS\n",
       "Tn/BwO0KWZW4FCgYOJdlvz5YMGyQk1Yp988k78jTx+4Gul8tzp+VYWp3T2OJ7WsNmANXjI3uv1NT\n",
       "pZ50tn1pUX52jP3uTCTIVO6DMUfQRmnPpj6pj0J3Bm4+4VuX+JPUPaBHRBzcFhfylG9h+7te1ORH\n",
       "gnjzHsyOuFj01qjgo+xgcQ9eD0JeOpJ6K3Z3x6Pma3toqaMV2PEbqRtnL+xRHGf3D/IEd4b9NKwC\n",
       "2o8Am9AEO1umhtlzEw5ODLcbbIdIalyr4cew+dobiDVfRSAfJ3Px2uUKo5l5O9+ofYlrSDt43Soq\n",
       "sAC7JNLTz+ptBbqkCRwaYTukx6vJmuGcRfsnJ937TwCn2QvbEJxkdiGeJ7jH6M/7DPFM0MLyEFnr\n",
       "e4EHRBw0WtKnT1rg8+kYBokEp9LCu9nO5muXAVfq6P40IXQwLniG4SafOPPl7N/0t1Eiinnix5Qg\n",
       "saGtmKeSLaDRHB4t+Kg4lbGJYRl9wi+0Y8x0aSUMsb+RHi66NDjZPOkm8KjPtyxfcIxFrygkqcS+\n",
       "M0sI6V7HUQZSRP6EcsxzVWtxaRnxT3lgTXcD+beoKgCxqyqO9qIoGk/MBYWW5D9EUofccQhMJ/EG\n",
       "T6BXciJKl1OZdMEBEqZNzQLcmU4owk24AmgK2cLyChzUbLdu7SXEy1EbxdkQ0b01rlRIlZgr9sPO\n",
       "jKWoTONGT8zg5jWgDXLuHi0d/szQ2OnhlrvPDFxWRMwCSoGbzjDBwfObb8XgDMIzSiMliQ54Kilf\n",
       "zD5fDoHFvexnGh+yReBZaJDIGxAik9eq0lW4N5gJThllAaFz7jMTcE0+ugze7w+dgkTO2V1vWL+J\n",
       "AjAKcYx81pkUGYNbCK5/6eUQHATC4FwA0hCbTdM86mTx0Lh9AOeEAE2caDnvs3q0moDbmNnD+MlM\n",
       "Y72937SQPiwYSDsCh/8gHr2YlK6xKT29vdr6/WMc3JU2I1qVMgMcwicm6VdYKb+gRgWs7i7tjmSC\n",
       "U/Q8Z5Z97BnPjgpVl6mPGmlk2LDc2YiUZAZEC60jB8QzmpMeOnmeI+Jxt4oM/No9GVXcqODz2Np9\n",
       "598Qsjgn3+DZkipE2xEzhtrUDBWvB3huVIhziC8By4aMc8N4HEry1Q5C4SA3HFYxK+YlORerEFv7\n",
       "jR6d79YazKjiegUXOWn6hBc6s8BxXSBs1uSHzYvkhxkR8S/jWQTV8hMQQovj2EAMq0StnzxmGz7Z\n",
       "GkO1tBzCO+Xwhnj2eGoRdmxjWqkpEmnIqOK8gis8WfYhuiALHCnMrvaR/TkauLqBdAOwlyHcVhVC\n",
       "XVc1gh8f3UrR3FBEv83zi2tUkf2nrataWVO0CgrzpPxFxxhznz00Hn78SlVxXsHd+xKJvwjcemdW\n",
       "nsM+/bbFreZIPZ0/+3KUUKeZzRfxhlHjAbCDtzWpzna8iusVXPLrllN+yF7gU6PnVEv68i3HeYM7\n",
       "rRvJ9vLrxsndtXCcHUYVX29UcF4zqGiXTGiZDI+d+2NlbJrg7GYZ38tLi2f7+1eNLik1c7yKN8X1\n",
       "Cv4ueV5ZrMGbvUD9dO2VzuODK00aZjHdsXi5Depv09/YXVyXGJhMu+hdPG69nXo6qafwiVp4cp9L\n",
       "3WWFOxri89t2n+Lbz2gBwa2wKlBTOGw2y15yaHmcvOfNyAcVh+Xgy3VCGb+aEZ4JcHOti7w39ZTf\n",
       "Z+ZTSaV1mdqpj/UPYSY+RdVOI6XKU3+r7bwYmwFwV6cj9FZhYlVkDe7/3imXln4N/gEAAAAASUVO\n",
       "RK5CYII=\n",
       "\" style=\"display:inline;vertical-align:middle;\" /></a><br>"
      ],
      "text/plain": [
       "rational_matrix_space_is_vec_space: forall_{m, n in NaturalPos} (Rational^{m x n} in_c VecSpaces(Rational))"
      ]
     },
     "execution_count": 3,
     "metadata": {},
     "output_type": "execute_result"
    }
   ],
   "source": [
    "rational_matrix_space_is_vec_space = Forall(\n",
    "    (m, n), InClass(MatrixSpace(Rational, m, n),\n",
    "                    VecSpaces(Rational)),\n",
    "    domain=NaturalPos)"
   ]
  },
  {
   "cell_type": "code",
   "execution_count": 4,
   "metadata": {},
   "outputs": [
    {
     "data": {
      "text/html": [
       "<strong id=\"real_matrix_space_is_vec_space\"><a class=\"ProveItLink\" href=\"proofs/real_matrix_space_is_vec_space/thm_proof.ipynb\">real_matrix_space_is_vec_space</a> (conjecture without proof):<br></strong> <a class=\"ProveItLink\" href=\"../__pv_it/theorems/8dd0a697871c964ffd18e34d774f80551f5bc5d40/theorem_expr.ipynb\"><img src=\"data:image/png;base64,iVBORw0KGgoAAAANSUhEUgAAATYAAAAmBAMAAAC8M6q1AAAAMFBMVEX///+IiIgiIiIQEBB2dnbu\n",
       "7u5UVFTMzMzc3NwyMjK6urpmZmaYmJiqqqpEREQAAACk/Np2AAAAAXRSTlMAQObYZgAAAAlwSFlz\n",
       "AAAOxAAADsQBlSsOGwAABWdJREFUWMO9WF1sFFUU/nZ3pjO7O/tTLY2EBpoGMdCgjUVoKmAfigG0\n",
       "sJJKomC7fdH4R7ap0ZgYO1IoEhO6RSUQAQeKJD5o11httCW2akBpU5dgbDQkrUaThmgtUgMWaz13\n",
       "Zrczu+xsd9qy92H33rn3nPvNued859wBLLZuZKPxb89CyB3MCja8HLAu8212oEEatiwi3JclbPjZ\n",
       "soSzIlvYWmSrEkOBbGFzWz7UpdmCBvG6VXf7++ZnL9A7hm4BuF8trs8xGLrvXG6w4CnAVsE4j0aR\n",
       "OYKREztfWRT39QBfrv/z4Hr6P78Wq5FPD3M5vzoqmxs0WzSu+YQWDFGolriUoXwje6VwM04PBMRH\n",
       "CjGBDhpzreQdNEo674GpZcDuKZ3gd3SdcafR/X1cM6FkY3sEn7P/wxli+479DO+BVwgixy+UYCXD\n",
       "dpSdtt9VkrT4CzIBVuhp6C54lqfJUuFpzVDfxx3GiywmMo3Xp2PY3HIYjpBtWByjKMhzEwhHyF2R\n",
       "FBEttBt0J+QiabMKUxLTjD71jMfgJMbiohliWz2NbRgtZCtpuILFwhkCAvsHGjbbL0WaebzEApKS\n",
       "QNtec9UOXTMcjEU91yARXmem/joew5bzaBCn4ZTFugDjkJwQjWwPq0tcrXF69tygGV3WS+lOMlf9\n",
       "vq4ZTuYNwiRwb1HRqkyx/RvD9uqPphllv545SoF64A0iF76jMuq5upmenVzV9ynt3Ju3gYKjsgri\n",
       "R4sgFOSG1aiKa+ZYscPTZp3Ab2kB6SlUnFSxNR38a4HpakNYbY3iEwhlWIimqGsNlkz9QydcqvDF\n",
       "8JThM4jr0BZqkG3hGqAQRw2aJeapuAI0Q0xfk+nuLGjY9vQ/Zr46nBAMQUYFvugRhoY/ew+Z4hAl\n",
       "ZYVG7bIzjItyMTDZFqD3X2nQ7CmMOZA3wCmpE1TxZtweNGJzTWjYvDv9plmNXKTo7pj3X6dQaOyB\n",
       "c8N4bPIB4B2gljQ+vlWupQMRCO1b9v/uAMoNmoUxtprc1eNPFQr1uy7jBy7gDqSymxAxJUTeQEee\n",
       "cQqFoe7+/peuQIuDdoVh8w1jx/NDcqOfxUt//zl+01Qkhk3TrFHlDXYKvSnYppNlC3+Ew0NdxV1K\n",
       "EjZ0HjA900JDv5RCoZH4iWfbMP7whTS7ecopxTDzqRr3Yuc1HDNoVs+UZy9URTQsddfn284ygqLe\n",
       "IqCAqR786TUuwd/EeJzWMOZJ3XKNmeFO4iryCuUI7WdXGAuq/hZyRNC+bz+5ZpQY03UBeE6tc+Oa\n",
       "1YJc3ayJpKW2HkfQxmKC9WTtZAa5J04lYFNfBeHtRIrPmFbGBh5vIYVCOTi5qQcb7cfAUzC+KfNL\n",
       "4YtgySuvr6WZBgUbLwYwggcNmt3++CF5yVx7b4NPcTO2YL2ASzXLICKLE7Dhfqh1yGGMvmuWSvhd\n",
       "7+k4mTM0d2wE/2ylnOPqepLGh3rzFQh1F6pbsZ1mRJo51Zun4KRBs12eDjzW6tAAe1TrtUE6Pjr6\n",
       "B2GrdibwG45nwM+uLUVpUjrzt5TNbsjGu9Wb1nRdswaL0SJovQ5BqNDsxlzB2D6eezlrhk2KJN3P\n",
       "3fGoEsfIXgMcqllvxaCWKc5DrR2NNdLcrzLLzCZG9JBTvd0ezwiuICWb5gVoiFIvrwcHyMKu5aHk\n",
       "wqE2OldoH14dMZmp0asC1QK1N1FBbHN+y+jlFPLeCG5ZE6exfKNdN5PLCU/6Q5NKsnYHpGIgefMZ\n",
       "Pu9MZA/bOqsCm7IGzWb5iBwZ3JLrv54PbA7LYSeFZ777B53zgW2hdZHWGVd45+UDhDiLm/i2GT89\n",
       "2QP8PGDbNgsmFWf8EOuqujQP2H6fjdC+rEQpzyqY/wEjUZgYaW2cygAAAABJRU5ErkJggg==\n",
       "\" style=\"display:inline;vertical-align:middle;\" /></a><br>"
      ],
      "text/plain": [
       "real_matrix_space_is_vec_space: forall_{m, n in NaturalPos} (Real^{m x n} in_c VecSpaces(Real))"
      ]
     },
     "execution_count": 4,
     "metadata": {},
     "output_type": "execute_result"
    }
   ],
   "source": [
    "real_matrix_space_is_vec_space = Forall(\n",
    "    (m, n), InClass(MatrixSpace(Real, m, n),\n",
    "                    VecSpaces(Real)),\n",
    "    domain=NaturalPos)"
   ]
  },
  {
   "cell_type": "code",
   "execution_count": 5,
   "metadata": {},
   "outputs": [
    {
     "data": {
      "text/html": [
       "<strong id=\"complex_matrix_space_is_vec_space\"><a class=\"ProveItLink\" href=\"proofs/complex_matrix_space_is_vec_space/thm_proof.ipynb\">complex_matrix_space_is_vec_space</a> (conjecture without proof):<br></strong> <a class=\"ProveItLink\" href=\"../__pv_it/theorems/6d6a2b06812216e58b2b0e333af7ad06719f5c8b0/theorem_expr.ipynb\"><img src=\"data:image/png;base64,iVBORw0KGgoAAAANSUhEUgAAATYAAAAmBAMAAAC8M6q1AAAAMFBMVEX///+IiIgiIiIQEBB2dnbu\n",
       "7u5UVFTMzMzc3NwyMjK6urpmZmaYmJiqqqpEREQAAACk/Np2AAAAAXRSTlMAQObYZgAAAAlwSFlz\n",
       "AAAOxAAADsQBlSsOGwAABWBJREFUWMO9WF1sFFUU/nZ3pjM7O/tTrQ2EBpoGMdCgjUVoKsQ+tKag\n",
       "hYU0PojS7YvGVMk2JRoTkw4UioTEbqMSG4GMtJr4oF1iBbUlbKMBpQ0uwdhoSFpBkga1KVIDFmo9\n",
       "d6bbmd12tztt2Ul29t65c8797rnnfOfcASxePcjExb8/DyFXICPY8KbfuswPmYEGeciyiPBEhrDh\n",
       "N8sSzrJMYWtRrEoM+jOFzWV5U1dmChrEO1bd7Z+Zz/bQGoP3AdzvFt/PMhm673x2IO9lwFbGOI96\n",
       "4QWCUeIb31oU90bYff/VtiV7cGEj1iOXutmcD6xXsjBotmhM80d6MEShWeJKmvKNbEnctQh/tk7c\n",
       "no9xdLF+K3kH9RL2++LkKmDfpEHwO7vPuFLo/immWUMJ2MP4hv1/kCa2H9ntZAdR4x/I8glFWMuw\n",
       "HWW77ZOKEl4+y4y8xkhDj8C9OkWWCk1rhrYeVwivs5hIN15fYfEQvk73OjiCtiFxlKIgx0UgHEFX\n",
       "WUJEtNBsMJyQC6fMKqQkphl92h6PwkmMxUXTxLaefh4/W8letJCt5KEyFgtnCAjsn+nYbFcLdPN4\n",
       "iAVkNY62PclVOwzNcDAWdd+GTIt2puuvY2xKUbfFJ3AqYq2fcUhWkHq2Z7XHUmuMnt13acSQ9VC6\n",
       "k5Or/tTQDCfzBmECeLygYF262O7Rr1lImbcOGZmjGKgHDhO58F3lUfetLfTsxLq+UzRzb04FBUd5\n",
       "FcSTyyDkZYdYVE1r5lixw9Nkp4HrKQEZUMQJxrVSJNXbprDaFsWXEEqwFE1RaQNWTP5LO1ys8oVw\n",
       "l+BriJvQHmxQbKFdQD6OmjTLzFNxk9BCTF2TGe7MzIzDki/V26G4YAgwKvBG2xga/txjZIojlJRV\n",
       "6nUqzhAuK4XARLuf1r/WpNmdP+VAHj+nzp6gCrfgwYAZmzSu+VuqPRXIRQoenXKbOxQKjRE4K8am\n",
       "Bp8CPgRqSOPz25Qa0iMQ2vfs/y0BSk2ahVF2J3d1+2YLhfrdN/Az53f5Z9hNj6akNGUadI9RKAz2\n",
       "9Pe/cRN6HHSqDJt3CDtfG1QafSxe+vvP85snwxq2mGadKu+yXeidhW1Os2zhC3N4pruwWzVjkzQW\n",
       "kpKByze1iykUGomfeDYN4w9vULebu5RSDDOfpvEAXriNYybN2p7ybEFVRMNyT32u7RwjKGotA/KY\n",
       "6oFf93Jx/ibei+UFLE+GLducGR4mriKvUNtoPrvKWFDzt6AjjM6Dh8g1o8SY0iXgVa3OjWnWCnJt\n",
       "siaSltsjjoCNxQRrKfrODHAvdsRh05YCrq2C/yVp0eE08XgLKRRKwSlNEVTaj4GnYHxX4VfCG8aK\n",
       "t97eSCMNKiov+zGMp02aXb5pByJzHXgAXtXFXJG1/HowDyC8PA4bntTu+6/9/VVyh9v9sYGTOUNz\n",
       "VyX4unIlS+p+ifpHenNVCLWXqlvxHI2INNLRm6PihEmzXYkFnnbVogH2qN5qh3x8ZOQvwlbtjOM3\n",
       "HE+Dn6WtBSlSOvO3WS+7KRvv00huuq7ZQPvcIuitLkEn6AHNFczXFwsvZ5Nhk8MJ53NXLKrEUbLX\n",
       "RQ7VrLVmQM8UF6DVjuYaaeFHmVXJBoaNkNO83R7LCFKAkk3zQ2iIUisngnfIwtLqYGLhUBNdKLTP\n",
       "bw0nGdllVAWaBWpmpMapyfmtIzdmkfeEcd8ucRrL9/pxM/GA6k69aXJRxs6AVAwkTj7H553xzGHb\n",
       "ZFVgc8ag2SxvkSONU3L9d4uBzWE57OTQ3Gf/gHMxsC21LtI65xueRfkAIc7jJL5jzk9Pdj+/CNh2\n",
       "zINJxTk/xEpVVxYB25/zETqYkSjlWQXzPztHd/6zf0FiAAAAAElFTkSuQmCC\n",
       "\" style=\"display:inline;vertical-align:middle;\" /></a><br>"
      ],
      "text/plain": [
       "complex_matrix_space_is_vec_space: forall_{m, n in NaturalPos} (Complex^{m x n} in_c VecSpaces(Complex))"
      ]
     },
     "execution_count": 5,
     "metadata": {},
     "output_type": "execute_result"
    }
   ],
   "source": [
    "complex_matrix_space_is_vec_space = Forall(\n",
    "    (m, n), InClass(MatrixSpace(Complex, m, n),\n",
    "                    VecSpaces(Complex)),\n",
    "    domain=NaturalPos)"
   ]
  },
  {
   "cell_type": "code",
   "execution_count": 6,
   "metadata": {},
   "outputs": [
    {
     "data": {
      "text/html": [
       "<strong id=\"int_pow_s_uclosure\"><a class=\"ProveItLink\" href=\"proofs/int_pow_s_uclosure/thm_proof.ipynb\">int_pow_s_uclosure</a> (conjecture without proof):<br></strong> <a class=\"ProveItLink\" href=\"../__pv_it/theorems/b3f73efe27fd8aaa99b0f9f3dfceae138fe6d2930/theorem_expr.ipynb\"><img src=\"data:image/png;base64,iVBORw0KGgoAAAANSUhEUgAAAVcAAAAaBAMAAADxrgItAAAAMFBMVEX///+IiIgiIiIQEBB2dnbu\n",
       "7u5UVFTMzMzc3NwyMjK6urpmZmaYmJiqqqpEREQAAACk/Np2AAAAAXRSTlMAQObYZgAAAAlwSFlz\n",
       "AAAOxAAADsQBlSsOGwAABQdJREFUWMO9mF1oHFUUx89+TGb2M5O0iqCWdavQGtQgFUUUtqBBtB9T\n",
       "KIIPNRPoQ0VbpyhFfLAbxKAv2X2p+GB1taFQwXaV0qopdPriR4QYS5uFWsi2IkiIaUWlKtJ4zr13\n",
       "7tzpzIbpPuTCzk5m/3fu75577jnnBmBFW/6uFRqop7yuy54X/NtHu3pBBT/95Zmb6JHpdpaFprw1\n",
       "rnb1hjfYqrgrAfuc4gbt0Wbwx0TZiX5QFdNj3cwVg11QXOm2848Ef0w3bpTzJwmx6FnihHs4bJvu\n",
       "L8aEjS9WmjEIMPbA/S78/I+Z2gROBFph8ol8w9Nw2HOe4E663Mphv6L792LCxhcrLUfbYysSJCpQ\n",
       "m3Si7HgJtCtSw55odTmshZdhi8Huo7m3Y8LGFyutlwb/kKgtmM6WqmHYHPrxd1LDYHPSQfPk5BmX\n",
       "wRJ4eiYmbHyx0vaTaa6TwwKM6KUKf7qmXK57sL1o7o+khsGm/P4PEXubwdIey8TdYPHFSuunbfI7\n",
       "XraTC73E/eDILYplj+FrX5MaBnvE7/8+bbdBPviD5fKG2NEgtlhpLxDSNbxMKZvugOoGtT8dRcNg\n",
       "j+MEh97eOIK3QzTZvzjsSYBfls8dCmxInPpV/Wvaxp3NndKUDxfxk0TLgBJhM1UVNrG0tMvXMFg0\n",
       "Z7p4CYarzJtBv8Zhx8CwO8M2g7BMrL+8AOMDInDiZ6LvjLPvumtcboIt7ZeT/d6l3UxD2FExm6GN\n",
       "XvnD17An9wG8nmpDDU1+llbiXw5btJS4LAsNfeBpWGWHYLl4DtcFv/bumSfYggn7oYB59BMaSxNI\n",
       "WbkmNK05HMjwjQ2vlLG1laRwuiE17AnWENZwA36gDUqRTMAWTHXLsEKDKGbTFoaRG2G5+Et8I9ru\n",
       "JLdsiq65OnMZG3LezA+olt2KFkorQet51bIFMv2M1HiwZJM9+HWILCvcAOpnIFhoMIqLZjMNz0wO\n",
       "TDYCS8fEdzPYO4Qb9LqYwJMVAZsE+P6bPpzj5gCs8BivJVVY+qFmSQ2DPch35n8adwP9bwG7GW2Q\n",
       "P7X3dlloMIrWhdF02GeZmNZkG2htAZtYwuSPS6aZBPsOeu1jgAXAT14/ss4cLtIutVoxFdiP+e73\n",
       "NCKnAWxA50KGaSUawJvoZflDbqoqCg1O0UrvmIiAJTH5ZwuyrrfBdpy2ackKDsEeBWNbCfDdR71+\n",
       "q6hvE8YCifagAvs5pljb1zDYIbb06fq3AJ+REUWchSIq3uqHXko0VGhwihY010TAkpj7Z/6DxcXf\n",
       "CNYC/apwY4SdxQmY2UFRg1I7Ri/e8qIZiDLPzlsStnn4xG7wNQwWrZ0tgbGA6ZJK/pytlogjzI9Z\n",
       "ocEpWrA9E46zPCrZtOR6hVs2O0PlwgnyDIJFxpSTqzi+G6QaUTFx4rKfbiNKm6RcB6Pk1waiPQzH\n",
       "dYrqWGhwClznHzvUszhlzIo8O/QQek8VLaFVQGywGiQ/daAvUHV1bB1g83JJWUkjqi4ZBe5t4XCs\n",
       "0GAUU7yIjCy+ZzdSv3GHw766+il02J1sW9pQrMJhSGwCkKlNH+wC1u8+Tpev1ZNC1obVrv44LzSI\n",
       "IrvegeLyJwVty+J8IB4xWC8ZaH4lubsbWBmJmenWhY81BYUi5rEmBAtfiCGtqDNYBGzoDLaWwRoC\n",
       "LV/tcAY7f/NnsDCsoJyKPN122cYjTrfLHx8zUf83KAarLrIAh7Wi/2/QXXuSyuK17v8OcWoonbG6\n",
       "UgAAAABJRU5ErkJggg==\n",
       "\" style=\"display:inline;vertical-align:middle;\" /></a><br>"
      ],
      "text/plain": [
       "int_pow_s_uclosure: forall_{n, k in NaturalPos} [forall_{U in [SU](n)} (U^{k} in [SU](n))]"
      ]
     },
     "execution_count": 6,
     "metadata": {},
     "output_type": "execute_result"
    }
   ],
   "source": [
    "int_pow_s_uclosure = (\n",
    "    Forall((n, k),\n",
    "           Forall(U, InSet(Exp(U, k), SU(n)), domain=SU(n)), \n",
    "           domain=NaturalPos))"
   ]
  },
  {
   "cell_type": "code",
   "execution_count": 7,
   "metadata": {},
   "outputs": [
    {
     "data": {
      "text/html": [
       "<strong id=\"eigen_pow\"><a class=\"ProveItLink\" href=\"proofs/eigen_pow/thm_proof.ipynb\">eigen_pow</a> (conjecture without proof):<br></strong> <a class=\"ProveItLink\" href=\"../__pv_it/theorems/784ffb97a7fb4d6831627de6ada7861e896dd3810/theorem_expr.ipynb\"><img src=\"data:image/png;base64,iVBORw0KGgoAAAANSUhEUgAAAjQAAAAaBAMAAABSnNtfAAAAMFBMVEX///+IiIgiIiIQEBB2dnbu\n",
       "7u5UVFTMzMzc3NwyMjK6urpmZmaYmJiqqqpEREQAAACk/Np2AAAAAXRSTlMAQObYZgAAAAlwSFlz\n",
       "AAAOxAAADsQBlSsOGwAABxlJREFUWMPdWX+IVEUc/+7dvn376+29MzgCCa8VywjhELE4/GMLT6IS\n",
       "V7RCju72oojAdPGsIKh7KghCeUt0Fvij1X8qUDy1sjyrtdIsSzYoMA1cKftlbAqJpyY233kz782b\n",
       "mX2rkRYNzNy+mc93vjOf+c7M9zsH8P9JH9lXhkvf/E9pjGWnhjU/knVCWq3yNeTiaFBBq6ArFzaY\n",
       "brkh6olgMSFbhUh22hUMIBHeXAptPXYNmbFGgwqGhbbnQwYTPy03mDUuQot0hRRfXGNqDNrqsBxI\n",
       "OluLa+qcBliARZ4CNx2OT/Q3jd1oMKSttmJUatrHRdzielCTQSWRqptJWuM3bdbAb9LUbW6ABfiN\n",
       "K2AdD7y4wOdwSoPB4Alx4zd3Sk0teS4yxacGTQm+a0JNGKgEGWrdFV3jKiy+Zpmk1/wmRlZgh+Sg\n",
       "b7pcKRArmVgXV8A6nlEx/dYO7WCM7zvJmXQ/FGUlBS7S4VOzB79fbUJNGKgEKTzdElqjf4vZMbNl\n",
       "67LQNqLdIeuV2hEtFiCVYwpYx/GLu4XW/rx2MAmylYbHispeO8tFsGDUPI3815pQEwYqgYmUr9U2\n",
       "XsApVNyMP5cKBB5S0HtJvqTUHtJiAdrKTAHrOF3bIpxViYp2MG3E/g4nO5V13MBFsGDUJAhL0WoT\n",
       "asJAJXdN5+raTFyMVpZJumeesF6tyrqSHZI8q3SCOAF7kv8YyjMFrOOYvSwq2FRNO5jtRGjA7FTu\n",
       "9g+4CBaMGvyTaHYMh4FK7mGuPY0jZGfDmywTw7MnVUPWNUn6iHaq+isBrHctT+AKWMcJJ/apoLpL\n",
       "O5i76cmwWNlRN3ARLPgNNT2bndH0hgoBkfm0ZrOTtT5WrMS2uHskpOA4KjXaH1tOjCxa0BweiYGJ\n",
       "HnsCTsCmuaYnuAKvY1FKNT+KXdf+frB2fsdDs6uuNVERLDg1uwUblfxDnxo9iFOTKkKGWrwhX5c1\n",
       "to030M9tMJSjE+mwd5IB0GntzGK6hZtH/4gx7lHl4yg2RaHZi6y5zhV4HYtS5jnwRQp8MMb5fH/w\n",
       "nBmNDKSIOQ0VmQgWnJrVEC9ojv8gNRRkbvJs89TACoEa0raa/l4gGWoCe57GMhkGDGPFQZjkLCa3\n",
       "irx3WsjqHc/DGf4t4ESstdH9u44r8DoWpeIXFOsnEOsstAWcwbQTGY8RJobLTAQLTk0mHy0Lodmy\n",
       "t8qRmQo1LuhRZLWjXjZ+dKwfRJfvJNxLf8+TjuqWURaxdLuEji3FVS7CL/RYlP11jIHeA+MPXFwI\n",
       "4gLYRW4MdDtX4HUMgpShUIPYVAn6uX3148hNyFDj7S8zEUOgxrITPDTDaVuFHnhbocYF3UEy+gTR\n",
       "+QCfiNR85Z7CyUFbYzUeNUSqzV19ahjJLg016yF5iU1bxInY+MuOZDV+x75U/JzOaohbs70qrhsw\n",
       "KxouMpG4sKGgtI+HZjhta18KctGxnWN7AoECgswzHfkISj38LNItUJNwQ5aIO9L2d+9zBGo2skzM\n",
       "HlroFJPj8ADfJOJZQwb9J6T889PHUSw7OG5z5A3ldSxImePyWYPYtgp8KPkM2x2D1Aw5TAQLj5q5\n",
       "Iyw0o9O2nnvDzilWQ0GRKZHRPvw4ckSKoaLfUn12Cj8izpIEW5kYmvkJlpN4CZONYfwaO43Bf1r2\n",
       "PDI2umUL+F0j4gRskv9cwhXwjgNSmhuqhm6iMStQ2VdeSq8c7Q0FqwosNKPTtoo9RzXUIChjp0tb\n",
       "8WP/foma+Ew66CL1DNJwwhSdizksY7iTIWtinevtShLuUnJwjDf0YjjlHbcCTsCuUVwR3nFAKq36\n",
       "NaQmVskEg+7jT+0i9xvAx8BE0oJfA5kiC822utSkIjWVGgS1llOFz+r1evWZ1+XI+ydqvbPnuEvl\n",
       "bXO6Dlvc3Hd5BKzfz+fA2GEf+xL3uuytJ8mu6RXcGgEnYB/3dgJbaK/jgFRKuXYRa+yQ3Jredmsv\n",
       "anyHi2AReJSgoRmdtlU0ciXFr3EPrHxrdTld3vmCC+O7wTY7+8zTXiyDx29L0c1yWqnU3Kp1nFYG\n",
       "sU7gUa+7oaOqxlDdIX6tLobirzskNFvuWg1ss/XvNS35w65rFyfH7FyFGtzyl2AhrIqWomKwmx51\n",
       "sy6YVANJPW5vk8hbTQ0i70ZPbrrImx1RGJrRaafL7uOFhhpzRw7idOss3HSqqFCzqwC956uD1Qc/\n",
       "v6uH1w1i8TPL0nOLGslntC9/tQZRv9nFFejSAbVqMOQlvcBFDsivfDQ0o9Pe8gp7uWrwyrewXi+H\n",
       "vvIFvL4YfvWxLPGgLquhYwBxGixJT3IFuqR56o81fmCgZ9lULqd5AFWm/TceQK288hwbr7g5mA5q\n",
       "+npBU3ewAVZ9Gw6YQcjbsCZdl7fh9L/3HwUxrb2qf2/QDbvWk7tyasL/D/XSf+b/UGLquarBRPNc\n",
       "BIsJkysQyc76Cwc7OTf2/VcaAAAAAElFTkSuQmCC\n",
       "\" style=\"display:inline;vertical-align:middle;\" /></a><br>"
      ],
      "text/plain": [
       "eigen_pow: forall_{k in NaturalPos} [forall_{b in Complex} [forall_{A, x} (((A . x) = (b * x)) => ((A^{k} . x) = (b^{k} * x)))]]"
      ]
     },
     "execution_count": 7,
     "metadata": {},
     "output_type": "execute_result"
    }
   ],
   "source": [
    "eigen_pow = (\n",
    "    Forall(k,\n",
    "    Forall(b,\n",
    "    Forall((A, x), \n",
    "        Implies(Equals(MatrixMult(A, x), ScalarMult(b, x)), \n",
    "                Equals(MatrixMult(Exp(A, k), x), ScalarMult(Exp(b, k), x)))),\n",
    "    domain=Complex), domain=NaturalPos))"
   ]
  },
  {
   "cell_type": "code",
   "execution_count": 8,
   "metadata": {},
   "outputs": [
    {
     "name": "stdout",
     "output_type": "stream",
     "text": [
      "These theorems may now be imported from the theory package: proveit.linear_algebra.matrices\n"
     ]
    }
   ],
   "source": [
    "%end theorems"
   ]
  }
 ],
 "metadata": {
  "kernelspec": {
   "display_name": "Python 3",
   "language": "python",
   "name": "python3"
  },
  "language_info": {
   "codemirror_mode": {
    "name": "ipython",
    "version": 3
   },
   "file_extension": ".py",
   "mimetype": "text/x-python",
   "name": "python",
   "nbconvert_exporter": "python",
   "pygments_lexer": "ipython3",
   "version": "3.7.4"
  }
 },
 "nbformat": 4,
 "nbformat_minor": 1
}