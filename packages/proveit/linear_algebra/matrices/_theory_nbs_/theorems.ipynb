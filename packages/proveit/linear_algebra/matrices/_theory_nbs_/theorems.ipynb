{
 "cells": [
  {
   "cell_type": "markdown",
   "metadata": {},
   "source": [
    "Theorems (or conjectures) for the theory of <a class=\"ProveItLink\" href=\"theory.ipynb\">proveit.linear_algebra.matrices</a>\n",
    "========"
   ]
  },
  {
   "cell_type": "code",
   "execution_count": 1,
   "metadata": {},
   "outputs": [],
   "source": [
    "import proveit\n",
    "# Prepare this notebook for defining the theorems of a theory:\n",
    "%theorems_notebook # Keep this at the top following 'import proveit'.\n",
    "\n",
    "from proveit import (a, b, b_of_j, b_of_k, c, d, f, g, i, j, k, m, n, t,\n",
    "                     x, y, z, fj, gj, fy, A, P, U, V, W, S, alpha, beta)\n",
    "from proveit import Function, ExprRange, IndexedVar\n",
    "from proveit.core_expr_types import (bj, a_1_to_m, x_1_to_i, x_1_to_m,\n",
    "                                     y_1_to_j, z_1_to_k, z_1_to_n)\n",
    "from proveit.core_expr_types import (\n",
    "    a_1_to_i, b_1_to_j, c_1_to_j, c_1_to_k, d_1_to_k)\n",
    "from proveit.logic import Equals, Forall, Implies, Iff, InSet, InClass, SubsetEq\n",
    "from proveit.numbers import Add, Mult, Exp, Sum\n",
    "from proveit.numbers import one\n",
    "from proveit.numbers import (Integer, Interval, Natural, NaturalPos,\n",
    "                             Rational, Real, Complex)\n",
    "from proveit.linear_algebra import (\n",
    "    VecSpaces, LinMap, ScalarMult, MatrixSpace,\n",
    "    TensorProd, MatrixMult, Unitary, SpecialUnitary)"
   ]
  },
  {
   "cell_type": "code",
   "execution_count": 2,
   "metadata": {},
   "outputs": [
    {
     "name": "stdout",
     "output_type": "stream",
     "text": [
      "Defining theorems for theory 'proveit.linear_algebra.matrices'\n",
      "Subsequent end-of-cell assignments will define theorems\n",
      "'%end theorems' will finalize the definitions\n"
     ]
    }
   ],
   "source": [
    "%begin theorems"
   ]
  },
  {
   "cell_type": "markdown",
   "metadata": {},
   "source": [
    "### Matrix spaces on number fields are vector spaces"
   ]
  },
  {
   "cell_type": "code",
   "execution_count": 3,
   "metadata": {},
   "outputs": [
    {
     "data": {
      "text/html": [
       "<strong id=\"rational_matrix_space_is_vec_space\"><a class=\"ProveItLink\" href=\"proofs/rational_matrix_space_is_vec_space/thm_proof.ipynb\">rational_matrix_space_is_vec_space</a> (conjecture without proof):<br></strong> <a class=\"ProveItLink\" href=\"../__pv_it/theorems/2aaf813d53885a545d0e26825697f03612f471990/theorem_expr.ipynb\"><img src=\"data:image/png;base64,iVBORw0KGgoAAAANSUhEUgAAATwAAAAmBAMAAACrETp8AAAAMFBMVEX///8AAAAAAAAAAAAAAAAA\n",
       "AAAAAAAAAAAAAAAAAAAAAAAAAAAAAAAAAAAAAAAAAAAv3aB7AAAAD3RSTlMAq1RmmUTNIjK7EInv\n",
       "3XZ/CtNrAAAACXBIWXMAAA7EAAAOxAGVKw4bAAAFh0lEQVRYw71YbWxTVRh++nF77+7t7hoRE6LB\n",
       "iiHuB0rDNgORjOpKQoKZQ4x/tmijYQYhemf4oWawi4nxh3NrUBKGHxQhJAYn5ctpFk0Hks0Zk8Ug\n",
       "IZpmHZiRsWSZY3NTAvie09v2drR37TZ6fpyec3vOe573fZ/3PR9AgeUZFKnIr89jktNTLHj4KFz4\n",
       "nCeLhg6Owi0h9RcPHvYVPMMVKSK8rwv27upwEeEVzvM/i4gO4nSh1Psvy8cPSU/tnuD7tMDxtpCp\n",
       "U7l2zHP1AKBGUMN7/gWbK9VKqLu+wPllPp4wv+/4RINcdR49GKL+mBLnvd6FwruSlI2XeL/FC06/\n",
       "R/Oc3861GurD7gchfhPEDDZTX3kDvJfpecehWx6Igz+ngkkOBLyWBrZHkrKhcjuU+rGR/b6WJ7wN\n",
       "rFKe8kHYGIItLkXxmwGPekJ0VuDdYCvUpfqdOh4PWkk/lpYNvqM5g9jLfB7KE94DPBRcVIWq4dbV\n",
       "kDiuA6NO0tWtO/16JpP+YSuk+2fIopbwatKyUck+qONwkfEVb57welh18DBV37nQQhZzhPxGaLSg\n",
       "9L0EvJFYLIHiEFGhKj15B1vZSno0LRtuxgn7DBykuStf7t5kFAq1Ub3CqW+BSxOXh1lisWnYAvU0\n",
       "H/Pi9VQOJ6aZMutnhNZnRb1gWjZcbKQ0Afwai/2SLzzGJimyleqtjhwWF9PnIHcUUhxiLXn1aPcp\n",
       "rL5JPBR2ng4sIS+PdYchb+72YteoH23Vw4wHEZNshekl03qbyKSWmNLbrEjaQIivobrNnsMQrnSG\n",
       "VibgDKNVU4PiOTTo6p072wjzBXT6sUoj2jd7hT6pF8NyCKVsps8kO8HS20ATROu9LZ0MmLEhRlga\n",
       "2qrW5YCXERs24CIw4QoSIBx56I4PLg/sU9QTptEIey/ljrKV/VBZkHtNsu1Rg0wlYSX7SuLFs1jv\n",
       "McMTplht8CPH4aA1RsWIgDe1KkjkoB0nDA+0Uij6IU+S3+qnZcbkdgIcGfyCmdxdZ5ItjbPxNNAe\n",
       "zxYZbcv24xElzEDMsh4ONhnRlbV8ZT7fRMhUkxUVa9vj4GFB+hE8/Av56RXT0m02pKaiQj8+OGnA\n",
       "S8lOJFH2OVid5Syzie0lcb+CM4GLgboMePU8N63JAa/U1Hb3xRNzTviNpDJjWG9VnTTNjIh2ijAx\n",
       "jA06d25atn3A4B5OUaw5atqG1HUsb1HrL+Aq+7N85R4lg3viDQ6dZfaluTKYGjcpeSvMc6VA3IP3\n",
       "dxIwzrk3Q2YRpj9oJBRuYs/zcdjItCVxk2xHKJkpmmnEkQaf26OyEGEtTeZ/litf1mfAk2/zn5O0\n",
       "L96fM5JeMbH3b8a3OnSJ56Fol7w4RkzrRWeE4KkzjzX70CVdgPJWP0qIfDyXJGU7I8lMYSOjvTuM\n",
       "Mp1/Yq2wwLNGOfwjGfDwU2LV5xon9ZzwDu9PB802NjowquFo7TV4Xji5lCJ7yRjVe69c/yEuB8Y0\n",
       "7KrtEn4cO8uoM2CSzfdqaSopaDlaufNZqwGO7R0d+wjecVdG3sN249inV1skovrPYxZbqyv3oeWy\n",
       "SfZuvo+kzkB9GEGLlGgFJCmSsJ7wRKaAZ5PKqPe9P88znQW8SpPsGp7XB5IsGSerrXPiOGtdLk/s\n",
       "I7SdD806UBl+sy/b+fE84ZXm3gNKtJTsxBmqJDlW8NCZr+k6Wr3UGvXhHfK/dEljWd9cTnixwCI8\n",
       "3JPzXiKHZiEtu2vjNNanM/X+bPot+DphWfakWtd4/fJsTQTre6wjWsyLJL69a/05Xo2migrv3IL1\n",
       "uZdFLdhXbj2Pu/rVRXqIcRcciNZ3mUTZi9DiwBsufMqrcw85sFhPLPO41nfO/ZryBxbnGatzHklW\n",
       "nPvFt77Ctyjw5rUvvV2suJXZmeV/zrh+9QiaExkAAAAASUVORK5CYII=\n",
       "\" style=\"display:inline;vertical-align:middle;\" /></a><br>"
      ],
      "text/plain": [
       "<IPython.core.display.HTML object>"
      ]
     },
     "metadata": {},
     "output_type": "display_data"
    }
   ],
   "source": [
    "rational_matrix_space_is_vec_space = Forall(\n",
    "    (m, n), InClass(MatrixSpace(Rational, m, n),\n",
    "                    VecSpaces(Rational)),\n",
    "    domain=NaturalPos)"
   ]
  },
  {
   "cell_type": "code",
   "execution_count": 4,
   "metadata": {},
   "outputs": [
    {
     "data": {
      "text/html": [
       "<strong id=\"real_matrix_space_is_vec_space\"><a class=\"ProveItLink\" href=\"proofs/real_matrix_space_is_vec_space/thm_proof.ipynb\">real_matrix_space_is_vec_space</a> (conjecture without proof):<br></strong> <a class=\"ProveItLink\" href=\"../__pv_it/theorems/da79bfc216e96a1caadd86222013182d66dbfcc70/theorem_expr.ipynb\"><img src=\"data:image/png;base64,iVBORw0KGgoAAAANSUhEUgAAAToAAAAmBAMAAACmD0o7AAAAMFBMVEX///8AAAAAAAAAAAAAAAAA\n",
       "AAAAAAAAAAAAAAAAAAAAAAAAAAAAAAAAAAAAAAAAAAAv3aB7AAAAD3RSTlMAq1RmmUTNIjK7EInv\n",
       "3XZ/CtNrAAAACXBIWXMAAA7EAAAOxAGVKw4bAAAFcElEQVRYw72Ya0wcVRiGX/Y6M8suq01s6o9m\n",
       "jbEhsSmYrY1og2tBS8Tg9o8/LJGtbWpaWx0SUttKZWtM1ITChgYJGO1q0QSxAXsjbaPFKlIsptRg\n",
       "U61UCIamJaEEpRep4HfmsjuLzO4Ol50/O2fmnDnPnO/9vvfMAgaPNUjNIWydxSCLO0V02Bc2PmZV\n",
       "quBgNr4O3I8po0ON4RG21tTRfWk4tFnh1NEZl/jl1MHBfsuo7P6Z4RoFe+2C4H1osH9aSJNTeVUD\n",
       "rpwgMAxLNmv9OWccMfZktcHhGdlEta3+5u/7gYPF2eluF2nD1f+N3BLnCOfyrOo6sL2L5nhJald4\n",
       "IEnvwSTHVzMA3u62LmrA7iFkBC0sh4/3Q2rFZkzO1AVgz92GyIXG/DWWuE9/GAiVYl1OGK5s1nb6\n",
       "8DT7fSVJuich0bUitBdYiko4PQodtYqndX6eTfFL1JouwXQxrncFiO5N8BwtmGRjlgD2suwIJUl3\n",
       "n0q31gacxTVUcBSQ1jywVj4X27mCZoMv0nT4EjgNqZfRWUQat1KK9ChsFA+HJ0m6byN0POyjtF45\n",
       "FiUrqHUpU1bPR33yEvFUEcz+mELOx3t4OhQ6Wqt0phLTbZiJ2JasbidUuvs/gdVNgii9LlWUxaw1\n",
       "LInF+poqP9PflOTRsXwnwcZ7+DKZLu0LiqyNPYsbA37q6zuXLN1fCh1Xo6vUHdHc6AaqgLJhH4TC\n",
       "Ux7T1DG69sK5lU/RzLnDJylNTh2GvegouMERJoJCme79ZZR6DpasAk1XADTERYpaq31Mpvvhjyu6\n",
       "jqbBPu3Bs+A6MYRyj/UsbkzdpDh3+4VemDrxDOxnUBysFF2BJqCHum9kdOXb/73OiinDxSRQCnt8\n",
       "Q4sKm1Pojjwe0O0diEkLNysLGZ7NjEd45DwtxgYyaz+1SkRbAMvFXmCsOAyW9T9La+f9XFJFuyIk\n",
       "Puzwz+xzvcew2q2ls44rkW3w6nodCaXvVyUPblFSVGfDdnJCuXke2AS00BM/Oy22UFA44n3Veecq\n",
       "u9sh0fEHJcmNsiskXFP/TElRtaQWDzjClvBMa9f6Dq8XWUFTnEwTlBRZeV7ve5OQM6LEz+gyQmi8\n",
       "N0us7meZ4/U+Jnw95YvQcT6mM2u7QodA7gy1p4A5SL/PgaP5vfn+6XSWd3UrZI/mvJuSopqqlcCm\n",
       "YdUkIyivnamDbIctofTE3TDfjkQWBbvYi/UousPhrRpLV+x8kN3MfOgtR4zu7GrOCqFBPboRrVv8\n",
       "RpWLtOHfTPM56R0rZN0FM3wo2bmDJOqhCmpdASyi3h/LdE3MxswhtUSUuzWWLtu5HJ9Mx6frY+iE\n",
       "SZnOBy/v19s9ayp7BT2Q64BDLM9Gm/NlCJSW20ThMojuxttvfEd3Kv1oWx5GHfX+itGVUQGupdi1\n",
       "qiUiLQiNpUt2bpUKayZ812Lo8D2kPcodkf9gTE94S16MkrJXKCtqg5A/IqZZC++h9obcAT+4pSua\n",
       "r6Cx6Crs+cPi+pFh1nEfOV3XgTrUv+4BW2hw4+qDIpYu2bl5S319DdE122LqHbYkUbGtJ/rimf0m\n",
       "3TvOYPR8j5RVkb2uaumynXOt8toxSWiP5+a+4dWnM2uClCftG9QMUy29WbFzyT0eBQam7aDm/tFz\n",
       "Qf9WXTT9JN3zqkuoll7pke18F60yd1HUujg7WjxzhVt3d7HuvabojkFUd+KxhzK9cKK+dobxvG9B\n",
       "P8L61TPJO8jspks6fujM7Sn8YsTx/02f4I+h8VTSnZnz6yzg4TIcqPRg4j5VT8wPXbrhFDQHEv9f\n",
       "4Obnh27I+JCNCXvwwXnK4E7jYw4l/OB3hoV5oTs0i9pqT/h3rvWId17o9s9m0M4UZazAdin/AUDL\n",
       "dyDnLrdWAAAAAElFTkSuQmCC\n",
       "\" style=\"display:inline;vertical-align:middle;\" /></a><br>"
      ],
      "text/plain": [
       "<IPython.core.display.HTML object>"
      ]
     },
     "metadata": {},
     "output_type": "display_data"
    }
   ],
   "source": [
    "real_matrix_space_is_vec_space = Forall(\n",
    "    (m, n), InClass(MatrixSpace(Real, m, n),\n",
    "                    VecSpaces(Real)),\n",
    "    domain=NaturalPos)"
   ]
  },
  {
   "cell_type": "code",
   "execution_count": 5,
   "metadata": {},
   "outputs": [
    {
     "data": {
      "text/html": [
       "<strong id=\"complex_matrix_space_is_vec_space\"><a class=\"ProveItLink\" href=\"proofs/complex_matrix_space_is_vec_space/thm_proof.ipynb\">complex_matrix_space_is_vec_space</a> (conjecture without proof):<br></strong> <a class=\"ProveItLink\" href=\"../__pv_it/theorems/35769edcb1c2bd03a124a541258c12c34cadf1300/theorem_expr.ipynb\"><img src=\"data:image/png;base64,iVBORw0KGgoAAAANSUhEUgAAAToAAAAmBAMAAACmD0o7AAAAMFBMVEX///8AAAAAAAAAAAAAAAAA\n",
       "AAAAAAAAAAAAAAAAAAAAAAAAAAAAAAAAAAAAAAAAAAAv3aB7AAAAD3RSTlMAq1RmmUTNIjK7EInv\n",
       "3XZ/CtNrAAAACXBIWXMAAA7EAAAOxAGVKw4bAAAFdklEQVRYw71Yb2wTZRx+1vba63Xt6p9IMIbU\n",
       "GM0SkdUMjYtknqwCETNKNH5wCyuyzICGHMmCE4erxg8mjG1BkGyKaWB+IINsIrAMokxw2SIzAzMX\n",
       "lMx0QbfMJmMBEXC4+Xvfu67tWK+9bfRNdrv33n/P/d7n+T3vFTBYViIzRdoyh0EWd4bQYXfI+Jhn\n",
       "MwUOZuNxEH/MGDrsMTzC2pY5dEcMb21eKHPojFP8cubAwXbTKO3+neUZbfbqewLvc4P9sxriNFVU\n",
       "N+QqCAIRWLys9se84SiJNysMDs/x8kTZMbC1qu1QqTfb7SJuuMLfAaymzBOcywO0HKgY2YUNvF7j\n",
       "AafeY2mOr+cAhs6h+ba8Yxg5QQvT8MkwwGqJiimYugjsvNM0/aDZt9KiO/uTBPARr7RuL1w8Ck4Z\n",
       "L7H/b6WJ7gWupT8JUoGMJaiF06Oho1rpjM7r2BK/xKzpEkwDut4VAIpLiDJ7AW5jlgA+ZOpoSBPd\n",
       "Q+zysZ2ClCWjB6OoEel924roaQ98YmLnGloN8nTVIadwGmKvKLNQPwgs5zs9Dist5fCkie57dnnY\n",
       "zl7UaxuneBVYNFVQ7VKuyp4Dg2qI7JQRzP6ERG7Xmzyb3jnE4nSI7hlLTLdgpvhb0+XtBLs0VPJ7\n",
       "wU2E2PYXzyiLWC3CySJsjdLP9DctFxtr7yawepM/QX1sWqytbC7xGvDT4OD5dNFdZzRw79Lrsj2m\n",
       "jV6gDqiMyJDWnvaYpk7Qs9fPL3+RVi6MnCKZnD4GW/FxiFfGGAnWAttEzSkdTKwSLbcGaNKFFLNW\n",
       "2zWefV/V6x0nsDMevAyxG8Oo9gg9uDr1D+1zr1/qh6kbq2A7i9JgreIKHAYuUPdNwC7BqyVTBheT\n",
       "hJeioYsuRmwWatjkDXq9AwmycLO0kOOpYHikp/soGBvJrP1UK1OsASxV+oFrpSEw1f9McRbCGis6\n",
       "NSLZQw7/7D7XfwIr3PHohBucd+/reR0RZfBXjTw3SRT1XlhPTWiNfUA50EozfnVGaaVNEQnv287b\n",
       "I6y1i/FO2yhxnF2JuKbwbKKoW7wPjzpCltBdsUOTnvKkuORkmiBR5BXl538yCVURZX6GLqcBzffn\n",
       "KfVhppz8/Oekb6dkDV1IGy50augQKJwl96xhDhKWHTju6/f5E9C9xvId/EngXYi77yVR1FO2ktgy\n",
       "7J1ygmrsTF1kOyyEfMYdMN9Sd1bg+U4g1Bc03uHYljhL1+z8CmvMffwDRwLvbNdVr3DzPD57GYt3\n",
       "i98oc1FnfwWt56T3qVF5F8yRUVa1nabwUAYVlgEPUO8v6a94PV1WEYqGaIqodqsmzi1dtXN1f3Id\n",
       "B0sS0EmT/N9ouXKwP+npOS6z19CEYhccSrUX7c43IZEs31GkyyB0Vz969xy11PrRvjSE/dT7a5bK\n",
       "P1stPUULcv/mKSIrqJq4aunczlVh50IeTUCHH1SQHX39Sc8j0uI3YkjZ9lcWt0PyjSlZwtr7qL6x\n",
       "cMgPccmylt/RXDwCmy+ilIxFWMfdbEjLF/+xwyILNMQb0YmmLZ3buXlzY+MeQtdiTch32JxGxhY6\n",
       "BvXMvjxpizMYu9/JVTV91o1aumrnasrO5ZSIL6/M/8CbHJ05bpOKuGFEFRa19BbNzrl7PENHuRkn\n",
       "qPl/9FxM3rQ/Jj/Oe3vUJaKWXutR7fw9irI4oMS7OCutnvmCW39nUdK2w7ETgxI7iccXbXmpo3Hf\n",
       "LOPt8j39CAtH77h3kNnNpLT+1pk7M/jFiJN3LZ/ih6EbmUR3dt6vcw+Ly/BGZQdT96l7fmHQZRuW\n",
       "oDmQ+vcCt31h0A0bH7IpZQ97cIEU3G18zNGUH/zOkLQg6I7OIbfaUv6cK3yTvyDoPp3LoKoMKVZi\n",
       "p5T/AdcIZnVP9ohAAAAAAElFTkSuQmCC\n",
       "\" style=\"display:inline;vertical-align:middle;\" /></a><br>"
      ],
      "text/plain": [
       "<IPython.core.display.HTML object>"
      ]
     },
     "metadata": {},
     "output_type": "display_data"
    }
   ],
   "source": [
    "complex_matrix_space_is_vec_space = Forall(\n",
    "    (m, n), InClass(MatrixSpace(Complex, m, n),\n",
    "                    VecSpaces(Complex)),\n",
    "    domain=NaturalPos)"
   ]
  },
  {
   "cell_type": "code",
   "execution_count": 6,
   "metadata": {},
   "outputs": [
    {
     "data": {
      "text/html": [
       "<strong id=\"eigen_pow\"><a class=\"ProveItLink\" href=\"proofs/eigen_pow/thm_proof.ipynb\">eigen_pow</a> (conjecture without proof):<br></strong> <a class=\"ProveItLink\" href=\"../__pv_it/theorems/98c78f9ddef8f3b4a7d445cd39ded59e596fc9990/theorem_expr.ipynb\"><img src=\"data:image/png;base64,iVBORw0KGgoAAAANSUhEUgAAAjQAAAAaBAMAAABSnNtfAAAAMFBMVEX///8AAAAAAAAAAAAAAAAA\n",
       "AAAAAAAAAAAAAAAAAAAAAAAAAAAAAAAAAAAAAAAAAAAv3aB7AAAAD3RSTlMAq1RmmUTNIjK7EInv\n",
       "3XZ/CtNrAAAACXBIWXMAAA7EAAAOxAGVKw4bAAAHFUlEQVRYw91ZfYhUVRQ/8+brzZuPHRQis9aB\n",
       "TCEhx7IPrWxj1zK/GvSP+icdMxA3omd/CIG6UxBUruxERq2FTSTSprijGIGSjshSEMomkWFOzEgh\n",
       "VG6x+LFskN1z373v3ffufW9MWoku3Dvv3fs799x77rnnnXMG4P9THm5cGy7847/FMVQ/HTR8W90M\n",
       "WkZhAmVxr5tBSuDVEbSYIe9AxCbB5kI9B5n6qWtYQCx4uBg4On0CJaN1uBn0CGMvBywm/od3IF7m\n",
       "JLQJ50lzzwSLxqCjJquuotK1uKLP9MEC7LYZWGVe/FdHQRp+iyFj5S1Vz9ACTmI1N0I0CWSSyVmV\n",
       "lI3O0CoF/Jyib5UPFuBtzoBN3P7SXkeGZ3wWgxbi/J1feobSFU5yxhFNFt9vbyGaIFARQlS786rB\n",
       "TdjMYpWUF52hjEygVWHghLcTcRnV5PEaZ8AmPpnTndGmcjHGB8PEJp2DkpdJlpM0HdEsxPd1LUQT\n",
       "BCpCBK1bTKn0S5geM13Wrgpj3cob8pzU263EEttZZQzYxPGLi4TRwYpyMTFin3q6StJdG+ck2DDR\n",
       "vMKtUJBogkBF0LN+dg8u4RbyVsXHaYIA50roTlJHpd65SixAW4ExYBOHy88ItiqWVy6mjVzsedFh\n",
       "6RzXchJsmGhiRErJXAvRBIGK1pkeUI3peBgpVkn5/KhwXinpXMkNiY5LkyBOwO7gD30VxoBNHGps\n",
       "Swo6VVYuZjUhateHvWYYnuAk2DDR4E+slRkOAhUtY660xhlys2EGq0TxGr/nAs5VI3Mkh2X+eRf2\n",
       "Df5wgTNgEyfM0AMC65pyMV+Q+i5Mlm7Ub5wEG/6FOlGvf93yCxUAIvtJ1etnq0pvsciu+BLmWc1G\n",
       "psbILVuJkiWzCuMRa2/a0hNwAjbMOd3EGdgTi1Sy+lHsmpFJ7t59zU8O5yxtoiTYcNEsEnTUKUm3\n",
       "aNQgLppICRJU4w3v57LMrvFa+roC+qp0I83GMrIAuq1ldSzfcPUY7DauOD6qjaPYCIXWL7Lhfs7A\n",
       "nlik0sfAIcnyxRiXK4NuO9ORaY8QdeorMRJsuGg2QDyrMP9u0VCQvt7Wze3tWwTRkLEN9HmvR1Fj\n",
       "OPMpVtEL78GO++GRymRyf7wqnyanN7sCJ/m7gBOx2rPW7xrOwJ5YpIpfkrSfQLRxSLmcwbAZHg8R\n",
       "SfQUGAk2XDSJSrIghGablxTCxyTRWKCpKNVmf8F4y9TeF12+HfAZfT7qMdXpDhaxDFkC7ZqGp1yC\n",
       "x6hZ9PrrGAORkT/xcMGNc2F3WzHQt5yBPTEIVIYkGsRGitDG9WsQV65jF74UGIkhiEZrxHhohtvW\n",
       "sodgsSQaC/QVqegTJPcBPCiK5i7LCkd7GwqtsUVDqNoss0kVI1pTiOYHiI6ybYs4ERt/3vRojTOx\n",
       "QxUfU2lNugqrc+K5AdOinhIjiQsXCooLeGiG29YWRKCa7FrWtdAVKCBI/6tZoX7px68J4Q4KJWaF\n",
       "LBlrpSOP/2SqLhRZSppuMXoFPiWchj22Bi/UKEQc++ngKJYZju9M74WyJxao9CteW4NY4tY86fEZ\n",
       "VpsG6ekzGQk2tmgOdLPQjG5be/WpRlXSGgrKnMl0DODLzJmeGCo5g/JrUOXMmFNi7GRCqOY7WY3i\n",
       "R5hcDOOdUA2qGOV5jTaR7xjs5d8aESdgo/xxCmfAJ3ZRKb5QBNtWMo67OgcKt9JPjvILBZuyLDSj\n",
       "29ZKh+5QiAZBiXy4uBJf5s/3iCZ+jC66RD2DMOzURediP6sY7iTImWhju2rRHHP0XV9FwmMybLfN\n",
       "rYATsBslV4RP7KIKy34N6QnlE+5Mzuw3l5LvG8BDwEjCgl8DoRILzVZaoolkyrJoEJQqRbL39ff3\n",
       "515/2ht530y19/B+66jszy89h21WHbjaDdqHl6tgLG9MvxvvjzfLpZNb89FBx0ERcAL2PfsmsIO2\n",
       "J3ZRRaTPLmKNqZ3uzl0jWieq+KOcBBtXUoKGZnTbWsmoFiW/xgpaIJXbSo93n+DCOG5wg9k+vWYb\n",
       "IjS/6ZJVvWWz1PO90nHa7MaarqTekK+jKsdQQwF+rSqG4tkdEppttbQGVjTU+Zp0ZZ7l2sUPmnBE\n",
       "Eg1e+VHYA5uSxYgY7IY7rKoKJuVAUo3rbBF5y8Un8vZLuakib2aiMDSj2w4XrOSFQjT6cqIXVJ/3\n",
       "rN9ekkSzNAu7Lhd6c5Gfj/zC+3qBxixWVSQdPXZYmfkr+0T9eo0zUJU5cldvQAo7y0nmeLN8NDSj\n",
       "2962jmWufLJ8e/r7C4FZPpfXF8K3AVZbysFQSQBxSpnBJM5AVRSp/pB/giFtcpLT6gSotO3rSIBG\n",
       "K1I6Nt6wqrucV8y1RdF33gcr54ZdahCQG1aUG5IbDrtfZ03kPwpVfwbKzJrvYq77H4Xg/6Fe+M/8\n",
       "DyWWxf9oMZEKJ8Hmwtk8ZOrH/waUmhzIhavWUgAAAABJRU5ErkJggg==\n",
       "\" style=\"display:inline;vertical-align:middle;\" /></a><br>"
      ],
      "text/plain": [
       "<IPython.core.display.HTML object>"
      ]
     },
     "metadata": {},
     "output_type": "display_data"
    }
   ],
   "source": [
    "eigen_pow = (\n",
    "    Forall(k,\n",
    "    Forall(b,\n",
    "    Forall((A, x), \n",
    "        Implies(Equals(MatrixMult(A, x), ScalarMult(b, x)), \n",
    "                Equals(MatrixMult(Exp(A, k), x), ScalarMult(Exp(b, k), x)))),\n",
    "    domain=Complex), domain=NaturalPos))"
   ]
  },
  {
   "cell_type": "code",
   "execution_count": 7,
   "metadata": {},
   "outputs": [
    {
     "data": {
      "text/html": [
       "<strong id=\"unitaries_are_matrices\"><a class=\"ProveItLink\" href=\"proofs/unitaries_are_matrices/thm_proof.ipynb\">unitaries_are_matrices</a> (conjecture without proof):<br></strong> <a class=\"ProveItLink\" href=\"../__pv_it/theorems/18b063fb399b24f38946a57bd9ccf7708b0d299c0/theorem_expr.ipynb\"><img src=\"data:image/png;base64,iVBORw0KGgoAAAANSUhEUgAAANAAAAAZBAMAAACybb07AAAAMFBMVEX///8AAAAAAAAAAAAAAAAA\n",
       "AAAAAAAAAAAAAAAAAAAAAAAAAAAAAAAAAAAAAAAAAAAv3aB7AAAAD3RSTlMAq1RmmUTNIjK7EInv\n",
       "3XZ/CtNrAAAACXBIWXMAAA7EAAAOxAGVKw4bAAADSElEQVRIx6VWa0hUQRT+9nG969113V6WFWJE\n",
       "sVDmBhkGURtaSpGtP/qTQkZQ1I/YoD9G5FY/JZXSYiXjklCE2Gov8I8I0YMsktgeCAsrRRFWFBGp\n",
       "EHRm7mPvdR9ecmBn58ycme/MOd85dwArrQLza0GLevbgfxzuGgBq1HGzxT03zWJY+ROz6m+q/E6m\n",
       "TcIZgKOq7SPgSFoDumySvKXKv5Bhd1/Pkc+tUsUjPCW95DDQ2xjwkGHjgI+tr86JI47AVfRiBfJf\n",
       "xZm4Tpv/kKbpXRmQ9nWKd5owQ9JDsuT0JxTKwASwkykczQnkJG+7pmnQzySpSZvPk9XjexKJRISN\n",
       "6hrITZ2wJYURFQglaKQ+JuMcM7kjJ1BhiFR+0sDGYQPavEPhiOtEWIt/sJv6xfBEnMEIvANVJD1D\n",
       "tYtsCnCz3KU5gdplI5AntfCc9/0aDmwys7gXLSg4H1HIIP7Aez9Z1wEHGZiXmwvfYARam1o4zPsl\n",
       "upwvKnesh/cep/dSCD5MEoKXXPkykRjNDVRkAtpDfJu4NXydhoN8WY8ZTrLDMzaByFELdGdYMmyJ\n",
       "moDoGu78EsTIYZt5YHy6YqsQyJa9U2QGRF/uqnHIBPQa2F/QgRai2XpO/tTuU0K2xBR/k2Nld8g4\n",
       "FX+ArT4TUNwE9BiQYyGUE0Pa+fKYIUbZXCcRkD2Z4kJbcRdWuWWnnHYjadoAhHIlcI18uSoFJGfL\n",
       "E3GKBXObnpm1rEokg27cr45Xh4xAeEK/C6rrGMovCShT8lZXFHgeCZli9Ie6u8eh1j5eU/xrzrrN\n",
       "MSpm3XaKyXI2YHQbhX2GlLYobllwQNOsq6duVxbW4YxPrX0Sv7jffaPBDPSV33YcTp7Xg9wR3qZK\n",
       "znR+ypBWgrxXaqSyTN8UBytJtoha+xRy+hH8YgY6yGta/Y5lXLpIJ49BWkSob9Kr97W/NRnLpU5N\n",
       "Vvscx6LRSwTUl2fOI4+RlSiI6BEes/wVzNMTjNU+Ja/9EDakV2+DF/S7OgOWgWKyZhyvfd3q+2Bi\n",
       "FmVGTOJVmD/QexMJLUZZ20adFbz2NZO2621YyRdDW2iSbqchzt3ezcrfoWjX3G8GUa0z3rBlHKtv\n",
       "BvvAPJ9bVl9B837X7Qb+AU7wx9KVFNmOAAAAAElFTkSuQmCC\n",
       "\" style=\"display:inline;vertical-align:middle;\" /></a><br>"
      ],
      "text/plain": [
       "<IPython.core.display.HTML object>"
      ]
     },
     "metadata": {},
     "output_type": "display_data"
    }
   ],
   "source": [
    "unitaries_are_matrices = Forall(\n",
    "    n, SubsetEq(Unitary(n), MatrixSpace(Complex, n, n)),\n",
    "    domain=NaturalPos)"
   ]
  },
  {
   "cell_type": "code",
   "execution_count": 8,
   "metadata": {},
   "outputs": [
    {
     "data": {
      "text/html": [
       "<strong id=\"special_unitaries_are_matrices\"><a class=\"ProveItLink\" href=\"proofs/special_unitaries_are_matrices/thm_proof.ipynb\">special_unitaries_are_matrices</a> (conjecture without proof):<br></strong> <a class=\"ProveItLink\" href=\"../__pv_it/theorems/64acc506bc2906463464baee99b9029937d7b9990/theorem_expr.ipynb\"><img src=\"data:image/png;base64,iVBORw0KGgoAAAANSUhEUgAAANsAAAAZBAMAAABKjUbMAAAAMFBMVEX///8AAAAAAAAAAAAAAAAA\n",
       "AAAAAAAAAAAAAAAAAAAAAAAAAAAAAAAAAAAAAAAAAAAv3aB7AAAAD3RSTlMAq1RmmUTNIjK7EInv\n",
       "3XZ/CtNrAAAACXBIWXMAAA7EAAAOxAGVKw4bAAADkUlEQVRIx61WbUhTURh+tt193N1tKn1A/RCj\n",
       "DwZ9uCBDQeKmBoYEi+qXUiOLKEIm9CNLmkb0x3IjkFAqlgkRQa4Pf/QniogiCSXM/DOYlIUYFkhh\n",
       "Qth77tnu3cfdvJQH7u7ZPe85z3ue9z3PewADzeLHMjTBqOGGf8foIpgg79ojxqY4AzofU2vkp6S2\n",
       "+zPgiaEW2FE5KwO7jMGJvtxvnjL+tiZ03Hs63nI2dqfJ5yKfZqUEnBUv8RpwR4FiZrC+IFw7PQN1\n",
       "NQI6T7+I4cYfchSbU4Ofcu0nX2Lgt3zuC4pofamFKHgQwAK5SFh7mMGJgnAN5PAEzONAmOh3jmbw\n",
       "a4smO9PxeHxCSYmpGFAloxRN4HAwJazPaRJBdi4dxJ80iXa0EwgxLtgjqPxaZP6+/DX15ZJIHphk\n",
       "vEGdA5hhpq4OQe4Amrl3UlkhNAc5ZSOHxTQ4lzb8lsfro/phrcj+++w/MOFNpkoI7osEt5e8I3Bb\n",
       "wc15iD2RIm1Jg9ukDTcrvybtaEbO8CQqxoyPHQRTEPvheUyfvtHzLh4fLghnojiZF4dYV4WjcFon\n",
       "7z67Rd2HPISqub24K99KR4jJeqBPZyimnQMW2e+Lv/xpcLQlSSzFYFAJKXgKJLmPHcgHFyZCW8kf\n",
       "nSFZ7dnYsHP7yFwa3HvgkDuCEM3fohi1aruTD+eDC5HHYlRKl0T72BCqi9Ph3LzrGEmDewVEB/0o\n",
       "J3bC3EhbIXI+HxzNgDmh8d69pgfrpKgQzd6dhTHvx2BEg0M5sJpeTVx/NeXpE/PujshAQNUyoZ4p\n",
       "TEKW8KRurM6fBsdWKOqAi7LG4eNkMqw5J7CVWx1XFz3Izh30ikiYCe2jUyk9VQTJu/GClBE7E23J\n",
       "zfKEzObpL1uMpeQwzAtkWcWtbq9KyYswRf4JgTyZiXYaVfTUqYiLV+pvzIDzkP64j8LJDti+KGrA\n",
       "s98+D0+gUjkTSmu8mRQxTB8L9o/pkVmteE+MKnpqVfj3Qp7OgLOSqpisDSWMHuvKEsY/rlJ3FM4V\n",
       "JEcfdCrCyFhQD2632mN6ajnZ23uN4O7bMs6dkhdZzd2hZvKo8VrbrPaYnjpifHfWbTkVIad2qpsX\n",
       "fIbRWEVI+qjoqaIuFVSwMs2u6Ey9nuq0JVHj8VQByl/fVTnhetpGFDnGgzBliaZOwbiXg7t0cwez\n",
       "Y9zbY/CuYk9eGjxB43AG7yraTeG/mtGb2HLdM+mQ/wUSG9ZuZQJIYwAAAABJRU5ErkJggg==\n",
       "\" style=\"display:inline;vertical-align:middle;\" /></a><br>"
      ],
      "text/plain": [
       "<IPython.core.display.HTML object>"
      ]
     },
     "metadata": {},
     "output_type": "display_data"
    }
   ],
   "source": [
    "special_unitaries_are_matrices = Forall(\n",
    "    n, SubsetEq(SpecialUnitary(n), MatrixSpace(Complex, n, n)),\n",
    "    domain=NaturalPos)"
   ]
  },
  {
   "cell_type": "code",
   "execution_count": 9,
   "metadata": {},
   "outputs": [
    {
     "name": "stdout",
     "output_type": "stream",
     "text": [
      "These theorems may now be imported from the theory package: proveit.linear_algebra.matrices\n"
     ]
    }
   ],
   "source": [
    "%end theorems"
   ]
  }
 ],
 "metadata": {
  "kernelspec": {
   "display_name": "Python 3",
   "language": "python",
   "name": "python3"
  }
 },
 "nbformat": 4,
 "nbformat_minor": 0
}