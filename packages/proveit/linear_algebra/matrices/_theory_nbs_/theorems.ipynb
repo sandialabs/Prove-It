{
 "cells": [
  {
   "cell_type": "markdown",
   "metadata": {},
   "source": [
    "Theorems (or conjectures) for the theory of <a class=\"ProveItLink\" href=\"theory.ipynb\">proveit.linear_algebra.matrices</a>\n",
    "========"
   ]
  },
  {
   "cell_type": "code",
   "execution_count": null,
   "metadata": {},
   "outputs": [],
   "source": [
    "import proveit\n",
    "# Prepare this notebook for defining the theorems of a theory:\n",
    "%theorems_notebook # Keep this at the top following 'import proveit'.\n",
    "\n",
    "from proveit import (a, b, b_of_j, b_of_k, c, d, f, g, i, j, k, m, n, t,\n",
    "                     x, y, z, fj, gj, fy, A, P, U, V, W, S, alpha, beta)\n",
    "from proveit import Function, ExprRange, IndexedVar\n",
    "from proveit.core_expr_types import (bj, a_1_to_m, x_1_to_i, x_1_to_m,\n",
    "                                     y_1_to_j, z_1_to_k, z_1_to_n)\n",
    "from proveit.core_expr_types import (\n",
    "    a_1_to_i, b_1_to_j, c_1_to_j, c_1_to_k, d_1_to_k)\n",
    "from proveit.logic import Equals, Forall, Implies, Iff, InSet, InClass, SubsetEq\n",
    "from proveit.numbers import Add, Mult, Exp, Sum\n",
    "from proveit.numbers import one\n",
    "from proveit.numbers import (Integer, Interval, Natural, NaturalPos,\n",
    "                             Rational, Real, Complex)\n",
    "from proveit.linear_algebra import (\n",
    "    VecSpaces, LinMap, ScalarMult, MatrixSpace,\n",
    "    TensorProd, MatrixMult, SU)"
   ]
  },
  {
   "cell_type": "code",
   "execution_count": null,
   "metadata": {},
   "outputs": [],
   "source": [
    "%begin theorems"
   ]
  },
  {
   "cell_type": "markdown",
   "metadata": {},
   "source": [
    "### Matrix spaces on number fields are vector spaces"
   ]
  },
  {
   "cell_type": "code",
   "execution_count": null,
   "metadata": {},
   "outputs": [],
   "source": [
    "rational_matrix_space_is_vec_space = Forall(\n",
    "    (m, n), InClass(MatrixSpace(Rational, m, n),\n",
    "                    VecSpaces(Rational)),\n",
    "    domain=NaturalPos)"
   ]
  },
  {
   "cell_type": "code",
   "execution_count": null,
   "metadata": {},
   "outputs": [],
   "source": [
    "real_matrix_space_is_vec_space = Forall(\n",
    "    (m, n), InClass(MatrixSpace(Real, m, n),\n",
    "                    VecSpaces(Real)),\n",
    "    domain=NaturalPos)"
   ]
  },
  {
   "cell_type": "code",
   "execution_count": null,
   "metadata": {},
   "outputs": [],
   "source": [
    "complex_matrix_space_is_vec_space = Forall(\n",
    "    (m, n), InClass(MatrixSpace(Complex, m, n),\n",
    "                    VecSpaces(Complex)),\n",
    "    domain=NaturalPos)"
   ]
  },
  {
   "cell_type": "code",
   "execution_count": null,
   "metadata": {},
   "outputs": [],
   "source": [
    "int_pow_s_uclosure = (\n",
    "    Forall((n, k),\n",
    "           Forall(U, InSet(Exp(U, k), SU(n)), domain=SU(n)), \n",
    "           domain=NaturalPos))"
   ]
  },
  {
   "cell_type": "code",
   "execution_count": null,
   "metadata": {},
   "outputs": [],
   "source": [
    "eigen_pow = (\n",
    "    Forall(k,\n",
    "    Forall(b,\n",
    "    Forall((A, x), \n",
    "        Implies(Equals(MatrixMult(A, x), ScalarMult(b, x)), \n",
    "                Equals(MatrixMult(Exp(A, k), x), ScalarMult(Exp(b, k), x)))),\n",
    "    domain=Complex), domain=NaturalPos))"
   ]
  },
  {
   "cell_type": "code",
   "execution_count": null,
   "metadata": {},
   "outputs": [],
   "source": [
    "special_unitaries_are_matrices = Forall(\n",
    "    n, SubsetEq(SU(n), MatrixSpace(Complex, n, n)),\n",
    "    domain=NaturalPos)"
   ]
  },
  {
   "cell_type": "code",
   "execution_count": null,
   "metadata": {},
   "outputs": [],
   "source": [
    "%end theorems"
   ]
  }
 ],
 "metadata": {
  "kernelspec": {
   "display_name": "Python 3",
   "language": "python",
   "name": "python3"
  }
 },
 "nbformat": 4,
 "nbformat_minor": 0
}
