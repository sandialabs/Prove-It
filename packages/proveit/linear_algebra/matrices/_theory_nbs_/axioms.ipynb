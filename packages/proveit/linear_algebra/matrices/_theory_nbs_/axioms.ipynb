{
 "cells": [
  {
   "cell_type": "markdown",
   "metadata": {},
   "source": [
    "Axioms for the theory of <a class=\"ProveItLink\" href=\"theory.ipynb\">proveit.linear_algebra.matrices</a>\n",
    "========"
   ]
  },
  {
   "cell_type": "code",
   "execution_count": null,
   "metadata": {},
   "outputs": [],
   "source": [
    "import proveit\n",
    "# Prepare this notebook for defining the axioms of a theory:\n",
    "%axioms_notebook # Keep this at the top following 'import proveit'.\n",
    "\n",
    "# from ... import ...\n",
    "from proveit import Function, Lambda, Conditional, Composition\n",
    "from proveit.logic import And, Iff, Forall, Equals, InSet\n",
    "from proveit import n,c, x, y, A, B, K, P, V, W, Px, Py,N,C\n",
    "from proveit.linear_algebra import (\n",
    "    VecSpaces, LinMap, VecAdd, vec_subtract, ScalarMult,Identity,VecZero, Commutator, AntiCommutator,MatrixSpace)\n",
    "from proveit.numbers import zero, one, Add, Natural, NaturalPos, greater\n",
    "from proveit.linear_algebra.matrices import Identity\n",
    "from proveit.linear_algebra.inner_products import HilbertSpaces\n",
    "from proveit.numbers import one, i, Real, Complex, Add, subtract, Neg, Mult, Conjugate \n"
   ]
  },
  {
   "cell_type": "code",
   "execution_count": null,
   "metadata": {},
   "outputs": [],
   "source": [
    "%begin axioms"
   ]
  },
  {
   "cell_type": "code",
   "execution_count": null,
   "metadata": {},
   "outputs": [],
   "source": [
    "identity_def = Forall(n, Equals(Identity(n),proveit.linear_algebra.Identity(MatrixSpace(Complex,n,n))),domain=NaturalPos)"
   ]
  },
  {
   "cell_type": "code",
   "execution_count": null,
   "metadata": {},
   "outputs": [],
   "source": [
    "%end axioms"
   ]
  },
  {
   "cell_type": "code",
   "execution_count": null,
   "metadata": {},
   "outputs": [],
   "source": []
  }
 ],
 "metadata": {
  "kernelspec": {
   "display_name": "Python 3 (ipykernel)",
   "language": "python",
   "name": "python3"
  }
 },
 "nbformat": 4,
 "nbformat_minor": 0
}
