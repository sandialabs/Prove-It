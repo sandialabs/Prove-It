{
 "cells": [
  {
   "cell_type": "markdown",
   "metadata": {},
   "source": [
    "Proof of <a class=\"ProveItLink\" href=\"../../../../../_theory_nbs_/theory.ipynb\">proveit</a>.<a class=\"ProveItLink\" href=\"../../../../_theory_nbs_/theory.ipynb\">linear_algebra</a>.<a class=\"ProveItLink\" href=\"../../theory.ipynb\">matrices</a>.<a class=\"ProveItLink\" href=\"../../theorems.ipynb#special_unitaries_are_matrices\">special_unitaries_are_matrices</a> theorem\n",
    "========"
   ]
  },
  {
   "cell_type": "code",
   "execution_count": 1,
   "metadata": {},
   "outputs": [],
   "source": [
    "import proveit\n",
    "theory = proveit.Theory() # the theorem's theory"
   ]
  },
  {
   "cell_type": "code",
   "execution_count": 2,
   "metadata": {},
   "outputs": [
    {
     "data": {
      "text/html": [
       "With these <a href=\"allowed_presumptions.txt\">allowed</a>/<a href=\"disallowed_presumptions.txt\">disallowed</a> theorem/theory presumptions (e.g., to avoid circular dependencies), we begin our proof of<br><strong id=\"special_unitaries_are_matrices\">special_unitaries_are_matrices:</strong> <a class=\"ProveItLink\" href=\"../../../__pv_it/theorems/880df892ff15149754538d0818ae9ef75d4444240/expr.ipynb\"><img src=\"data:image/png;base64,iVBORw0KGgoAAAANSUhEUgAAANsAAAAZBAMAAABKjUbMAAAAMFBMVEX///8AAAAAAAAAAAAAAAAA\n",
       "AAAAAAAAAAAAAAAAAAAAAAAAAAAAAAAAAAAAAAAAAAAv3aB7AAAAD3RSTlMAq1RmmUTNIjK7EInv\n",
       "3XZ/CtNrAAAACXBIWXMAAA7EAAAOxAGVKw4bAAADkUlEQVRIx61WbUhTURh+tt193N1tKn1A/RCj\n",
       "DwZ9uCBDQeKmBoYEi+qXUiOLKEIm9CNLmkb0x3IjkFAqlgkRQa4Pf/QniogiCSXM/DOYlIUYFkhh\n",
       "Qth77tnu3cfdvJQH7u7ZPe85z3ue9z3PewADzeLHMjTBqOGGf8foIpgg79ojxqY4AzofU2vkp6S2\n",
       "+zPgiaEW2FE5KwO7jMGJvtxvnjL+tiZ03Hs63nI2dqfJ5yKfZqUEnBUv8RpwR4FiZrC+IFw7PQN1\n",
       "NQI6T7+I4cYfchSbU4Ofcu0nX2Lgt3zuC4pofamFKHgQwAK5SFh7mMGJgnAN5PAEzONAmOh3jmbw\n",
       "a4smO9PxeHxCSYmpGFAloxRN4HAwJazPaRJBdi4dxJ80iXa0EwgxLtgjqPxaZP6+/DX15ZJIHphk\n",
       "vEGdA5hhpq4OQe4Amrl3UlkhNAc5ZSOHxTQ4lzb8lsfro/phrcj+++w/MOFNpkoI7osEt5e8I3Bb\n",
       "wc15iD2RIm1Jg9ukDTcrvybtaEbO8CQqxoyPHQRTEPvheUyfvtHzLh4fLghnojiZF4dYV4WjcFon\n",
       "7z67Rd2HPISqub24K99KR4jJeqBPZyimnQMW2e+Lv/xpcLQlSSzFYFAJKXgKJLmPHcgHFyZCW8kf\n",
       "nSFZ7dnYsHP7yFwa3HvgkDuCEM3fohi1aruTD+eDC5HHYlRKl0T72BCqi9Ph3LzrGEmDewVEB/0o\n",
       "J3bC3EhbIXI+HxzNgDmh8d69pgfrpKgQzd6dhTHvx2BEg0M5sJpeTVx/NeXpE/PujshAQNUyoZ4p\n",
       "TEKW8KRurM6fBsdWKOqAi7LG4eNkMqw5J7CVWx1XFz3Izh30ikiYCe2jUyk9VQTJu/GClBE7E23J\n",
       "zfKEzObpL1uMpeQwzAtkWcWtbq9KyYswRf4JgTyZiXYaVfTUqYiLV+pvzIDzkP64j8LJDti+KGrA\n",
       "s98+D0+gUjkTSmu8mRQxTB8L9o/pkVmteE+MKnpqVfj3Qp7OgLOSqpisDSWMHuvKEsY/rlJ3FM4V\n",
       "JEcfdCrCyFhQD2632mN6ajnZ23uN4O7bMs6dkhdZzd2hZvKo8VrbrPaYnjpifHfWbTkVIad2qpsX\n",
       "fIbRWEVI+qjoqaIuFVSwMs2u6Ey9nuq0JVHj8VQByl/fVTnhetpGFDnGgzBliaZOwbiXg7t0cwez\n",
       "Y9zbY/CuYk9eGjxB43AG7yraTeG/mtGb2HLdM+mQ/wUSG9ZuZQJIYwAAAABJRU5ErkJggg==\n",
       "\" style=\"display:inline;vertical-align:middle;\" /></a><br>(see <a class=\"ProveItLink\" href=\"../../../__pv_it/theorems/64acc506bc2906463464baee99b9029937d7b9990/dependencies.ipynb\">dependencies</a>)<br>"
      ],
      "text/plain": [
       "<IPython.core.display.HTML object>"
      ]
     },
     "metadata": {},
     "output_type": "display_data"
    }
   ],
   "source": [
    "%proving special_unitaries_are_matrices"
   ]
  },
  {
   "cell_type": "code",
   "execution_count": null,
   "metadata": {},
   "outputs": [],
   "source": []
  }
 ],
 "metadata": {
  "kernelspec": {
   "display_name": "Python 3",
   "language": "python",
   "name": "python3"
  }
 },
 "nbformat": 4,
 "nbformat_minor": 0
}