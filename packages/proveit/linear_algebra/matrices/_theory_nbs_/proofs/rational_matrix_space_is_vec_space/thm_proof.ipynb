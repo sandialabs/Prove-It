{
 "cells": [
  {
   "cell_type": "markdown",
   "metadata": {},
   "source": [
    "Proof of <a class=\"ProveItLink\" href=\"../../../../../_theory_nbs_/theory.ipynb\">proveit</a>.<a class=\"ProveItLink\" href=\"../../../../_theory_nbs_/theory.ipynb\">linear_algebra</a>.<a class=\"ProveItLink\" href=\"../../theory.ipynb\">matrices</a>.<a class=\"ProveItLink\" href=\"../../theorems.ipynb#rational_matrix_space_is_vec_space\">rational_matrix_space_is_vec_space</a> theorem\n",
    "========"
   ]
  },
  {
   "cell_type": "code",
   "execution_count": 1,
   "metadata": {},
   "outputs": [],
   "source": [
    "import proveit\n",
    "theory = proveit.Theory() # the theorem's theory"
   ]
  },
  {
   "cell_type": "code",
   "execution_count": 2,
   "metadata": {},
   "outputs": [
    {
     "data": {
      "text/html": [
       "With these <a href=\"allowed_presumptions.txt\">allowed</a>/<a href=\"disallowed_presumptions.txt\">disallowed</a> theorem/theory presumptions (e.g., to avoid circular dependencies), we begin our proof of<br><strong id=\"rational_matrix_space_is_vec_space\">rational_matrix_space_is_vec_space:</strong> <a class=\"ProveItLink\" href=\"../../../__pv_it/theorems/cc811da568e7164c714f847790bbabfb6bca249b0/expr.ipynb\"><img src=\"data:image/png;base64,iVBORw0KGgoAAAANSUhEUgAAATwAAAAmBAMAAACrETp8AAAAMFBMVEX///8AAAAAAAAAAAAAAAAA\n",
       "AAAAAAAAAAAAAAAAAAAAAAAAAAAAAAAAAAAAAAAAAAAv3aB7AAAAD3RSTlMAq1RmmUTNIjK7EInv\n",
       "3XZ/CtNrAAAACXBIWXMAAA7EAAAOxAGVKw4bAAAFh0lEQVRYw71YbWxTVRh++nF77+7t7hoRE6LB\n",
       "iiHuB0rDNgORjOpKQoKZQ4x/tmijYQYhemf4oWawi4nxh3NrUBKGHxQhJAYn5ctpFk0Hks0Zk8Ug\n",
       "IZpmHZiRsWSZY3NTAvie09v2drR37TZ6fpyec3vOe573fZ/3PR9AgeUZFKnIr89jktNTLHj4KFz4\n",
       "nCeLhg6Owi0h9RcPHvYVPMMVKSK8rwv27upwEeEVzvM/i4gO4nSh1Psvy8cPSU/tnuD7tMDxtpCp\n",
       "U7l2zHP1AKBGUMN7/gWbK9VKqLu+wPllPp4wv+/4RINcdR49GKL+mBLnvd6FwruSlI2XeL/FC06/\n",
       "R/Oc3861GurD7gchfhPEDDZTX3kDvJfpecehWx6Igz+ngkkOBLyWBrZHkrKhcjuU+rGR/b6WJ7wN\n",
       "rFKe8kHYGIItLkXxmwGPekJ0VuDdYCvUpfqdOh4PWkk/lpYNvqM5g9jLfB7KE94DPBRcVIWq4dbV\n",
       "kDiuA6NO0tWtO/16JpP+YSuk+2fIopbwatKyUck+qONwkfEVb57welh18DBV37nQQhZzhPxGaLSg\n",
       "9L0EvJFYLIHiEFGhKj15B1vZSno0LRtuxgn7DBykuStf7t5kFAq1Ub3CqW+BSxOXh1lisWnYAvU0\n",
       "H/Pi9VQOJ6aZMutnhNZnRb1gWjZcbKQ0Afwai/2SLzzGJimyleqtjhwWF9PnIHcUUhxiLXn1aPcp\n",
       "rL5JPBR2ng4sIS+PdYchb+72YteoH23Vw4wHEZNshekl03qbyKSWmNLbrEjaQIivobrNnsMQrnSG\n",
       "VibgDKNVU4PiOTTo6p072wjzBXT6sUoj2jd7hT6pF8NyCKVsps8kO8HS20ATROu9LZ0MmLEhRlga\n",
       "2qrW5YCXERs24CIw4QoSIBx56I4PLg/sU9QTptEIey/ljrKV/VBZkHtNsu1Rg0wlYSX7SuLFs1jv\n",
       "McMTplht8CPH4aA1RsWIgDe1KkjkoB0nDA+0Uij6IU+S3+qnZcbkdgIcGfyCmdxdZ5ItjbPxNNAe\n",
       "zxYZbcv24xElzEDMsh4ONhnRlbV8ZT7fRMhUkxUVa9vj4GFB+hE8/Av56RXT0m02pKaiQj8+OGnA\n",
       "S8lOJFH2OVid5Syzie0lcb+CM4GLgboMePU8N63JAa/U1Hb3xRNzTviNpDJjWG9VnTTNjIh2ijAx\n",
       "jA06d25atn3A4B5OUaw5atqG1HUsb1HrL+Aq+7N85R4lg3viDQ6dZfaluTKYGjcpeSvMc6VA3IP3\n",
       "dxIwzrk3Q2YRpj9oJBRuYs/zcdjItCVxk2xHKJkpmmnEkQaf26OyEGEtTeZ/litf1mfAk2/zn5O0\n",
       "L96fM5JeMbH3b8a3OnSJ56Fol7w4RkzrRWeE4KkzjzX70CVdgPJWP0qIfDyXJGU7I8lMYSOjvTuM\n",
       "Mp1/Yq2wwLNGOfwjGfDwU2LV5xon9ZzwDu9PB802NjowquFo7TV4Xji5lCJ7yRjVe69c/yEuB8Y0\n",
       "7KrtEn4cO8uoM2CSzfdqaSopaDlaufNZqwGO7R0d+wjecVdG3sN249inV1skovrPYxZbqyv3oeWy\n",
       "SfZuvo+kzkB9GEGLlGgFJCmSsJ7wRKaAZ5PKqPe9P88znQW8SpPsGp7XB5IsGSerrXPiOGtdLk/s\n",
       "I7SdD806UBl+sy/b+fE84ZXm3gNKtJTsxBmqJDlW8NCZr+k6Wr3UGvXhHfK/dEljWd9cTnixwCI8\n",
       "3JPzXiKHZiEtu2vjNNanM/X+bPot+DphWfakWtd4/fJsTQTre6wjWsyLJL69a/05Xo2migrv3IL1\n",
       "uZdFLdhXbj2Pu/rVRXqIcRcciNZ3mUTZi9DiwBsufMqrcw85sFhPLPO41nfO/ZryBxbnGatzHklW\n",
       "nPvFt77Ctyjw5rUvvV2suJXZmeV/zrh+9QiaExkAAAAASUVORK5CYII=\n",
       "\" style=\"display:inline;vertical-align:middle;\" /></a><br>(see <a class=\"ProveItLink\" href=\"../../../__pv_it/theorems/2aaf813d53885a545d0e26825697f03612f471990/dependencies.ipynb\">dependencies</a>)<br>"
      ],
      "text/plain": [
       "<IPython.core.display.HTML object>"
      ]
     },
     "metadata": {},
     "output_type": "display_data"
    }
   ],
   "source": [
    "%proving rational_matrix_space_is_vec_space"
   ]
  },
  {
   "cell_type": "code",
   "execution_count": null,
   "metadata": {},
   "outputs": [],
   "source": []
  }
 ],
 "metadata": {
  "kernelspec": {
   "display_name": "Python 3",
   "language": "python",
   "name": "python3"
  }
 },
 "nbformat": 4,
 "nbformat_minor": 0
}