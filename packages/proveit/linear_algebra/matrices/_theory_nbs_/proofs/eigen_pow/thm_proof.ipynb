{
 "cells": [
  {
   "cell_type": "markdown",
   "metadata": {},
   "source": [
    "Proof of <a class=\"ProveItLink\" href=\"../../../../../_theory_nbs_/theory.ipynb\">proveit</a>.<a class=\"ProveItLink\" href=\"../../../../_theory_nbs_/theory.ipynb\">linear_algebra</a>.<a class=\"ProveItLink\" href=\"../../theory.ipynb\">matrices</a>.<a class=\"ProveItLink\" href=\"../../theorems.ipynb#eigen_pow\">eigen_pow</a> theorem\n",
    "========"
   ]
  },
  {
   "cell_type": "code",
   "execution_count": 1,
   "metadata": {},
   "outputs": [],
   "source": [
    "import proveit\n",
    "theory = proveit.Theory() # the theorem's theory"
   ]
  },
  {
   "cell_type": "code",
   "execution_count": 2,
   "metadata": {},
   "outputs": [
    {
     "data": {
      "text/html": [
       "With these <a href=\"allowed_presumptions.txt\">allowed</a>/<a href=\"disallowed_presumptions.txt\">disallowed</a> theorem/theory presumptions (e.g., to avoid circular dependencies), we begin our proof of<br><strong id=\"eigen_pow\">eigen_pow:</strong> <a class=\"ProveItLink\" href=\"../../../__pv_it/theorems/c70b65e2e3484a93ea1eeda6240dbb45e8da19a00/expr.ipynb\"><img src=\"data:image/png;base64,iVBORw0KGgoAAAANSUhEUgAAAjQAAAAaBAMAAABSnNtfAAAAMFBMVEX///8AAAAAAAAAAAAAAAAA\n",
       "AAAAAAAAAAAAAAAAAAAAAAAAAAAAAAAAAAAAAAAAAAAv3aB7AAAAD3RSTlMAq1RmmUTNIjK7EInv\n",
       "3XZ/CtNrAAAACXBIWXMAAA7EAAAOxAGVKw4bAAAHFUlEQVRYw91ZfYhUVRQ/8+brzZuPHRQis9aB\n",
       "TCEhx7IPrWxj1zK/GvSP+icdMxA3omd/CIG6UxBUruxERq2FTSTSprijGIGSjshSEMomkWFOzEgh\n",
       "VG6x+LFskN1z373v3ffufW9MWoku3Dvv3fs799x77rnnnXMG4P9THm5cGy7847/FMVQ/HTR8W90M\n",
       "WkZhAmVxr5tBSuDVEbSYIe9AxCbB5kI9B5n6qWtYQCx4uBg4On0CJaN1uBn0CGMvBywm/od3IF7m\n",
       "JLQJ50lzzwSLxqCjJquuotK1uKLP9MEC7LYZWGVe/FdHQRp+iyFj5S1Vz9ACTmI1N0I0CWSSyVmV\n",
       "lI3O0CoF/Jyib5UPFuBtzoBN3P7SXkeGZ3wWgxbi/J1feobSFU5yxhFNFt9vbyGaIFARQlS786rB\n",
       "TdjMYpWUF52hjEygVWHghLcTcRnV5PEaZ8AmPpnTndGmcjHGB8PEJp2DkpdJlpM0HdEsxPd1LUQT\n",
       "BCpCBK1bTKn0S5geM13Wrgpj3cob8pzU263EEttZZQzYxPGLi4TRwYpyMTFin3q6StJdG+ck2DDR\n",
       "vMKtUJBogkBF0LN+dg8u4RbyVsXHaYIA50roTlJHpd65SixAW4ExYBOHy88ItiqWVy6mjVzsedFh\n",
       "6RzXchJsmGhiRErJXAvRBIGK1pkeUI3peBgpVkn5/KhwXinpXMkNiY5LkyBOwO7gD30VxoBNHGps\n",
       "Swo6VVYuZjUhateHvWYYnuAk2DDR4E+slRkOAhUtY660xhlys2EGq0TxGr/nAs5VI3Mkh2X+eRf2\n",
       "Df5wgTNgEyfM0AMC65pyMV+Q+i5Mlm7Ub5wEG/6FOlGvf93yCxUAIvtJ1etnq0pvsciu+BLmWc1G\n",
       "psbILVuJkiWzCuMRa2/a0hNwAjbMOd3EGdgTi1Sy+lHsmpFJ7t59zU8O5yxtoiTYcNEsEnTUKUm3\n",
       "aNQgLppICRJU4w3v57LMrvFa+roC+qp0I83GMrIAuq1ldSzfcPUY7DauOD6qjaPYCIXWL7Lhfs7A\n",
       "nlik0sfAIcnyxRiXK4NuO9ORaY8QdeorMRJsuGg2QDyrMP9u0VCQvt7Wze3tWwTRkLEN9HmvR1Fj\n",
       "OPMpVtEL78GO++GRymRyf7wqnyanN7sCJ/m7gBOx2rPW7xrOwJ5YpIpfkrSfQLRxSLmcwbAZHg8R\n",
       "SfQUGAk2XDSJSrIghGablxTCxyTRWKCpKNVmf8F4y9TeF12+HfAZfT7qMdXpDhaxDFkC7ZqGp1yC\n",
       "x6hZ9PrrGAORkT/xcMGNc2F3WzHQt5yBPTEIVIYkGsRGitDG9WsQV65jF74UGIkhiEZrxHhohtvW\n",
       "sodgsSQaC/QVqegTJPcBPCiK5i7LCkd7GwqtsUVDqNoss0kVI1pTiOYHiI6ybYs4ERt/3vRojTOx\n",
       "QxUfU2lNugqrc+K5AdOinhIjiQsXCooLeGiG29YWRKCa7FrWtdAVKCBI/6tZoX7px68J4Q4KJWaF\n",
       "LBlrpSOP/2SqLhRZSppuMXoFPiWchj22Bi/UKEQc++ngKJYZju9M74WyJxao9CteW4NY4tY86fEZ\n",
       "VpsG6ekzGQk2tmgOdLPQjG5be/WpRlXSGgrKnMl0DODLzJmeGCo5g/JrUOXMmFNi7GRCqOY7WY3i\n",
       "R5hcDOOdUA2qGOV5jTaR7xjs5d8aESdgo/xxCmfAJ3ZRKb5QBNtWMo67OgcKt9JPjvILBZuyLDSj\n",
       "29ZKh+5QiAZBiXy4uBJf5s/3iCZ+jC66RD2DMOzURediP6sY7iTImWhju2rRHHP0XV9FwmMybLfN\n",
       "rYATsBslV4RP7KIKy34N6QnlE+5Mzuw3l5LvG8BDwEjCgl8DoRILzVZaoolkyrJoEJQqRbL39ff3\n",
       "515/2ht530y19/B+66jszy89h21WHbjaDdqHl6tgLG9MvxvvjzfLpZNb89FBx0ERcAL2PfsmsIO2\n",
       "J3ZRRaTPLmKNqZ3uzl0jWieq+KOcBBtXUoKGZnTbWsmoFiW/xgpaIJXbSo93n+DCOG5wg9k+vWYb\n",
       "IjS/6ZJVvWWz1PO90nHa7MaarqTekK+jKsdQQwF+rSqG4tkdEppttbQGVjTU+Zp0ZZ7l2sUPmnBE\n",
       "Eg1e+VHYA5uSxYgY7IY7rKoKJuVAUo3rbBF5y8Un8vZLuakib2aiMDSj2w4XrOSFQjT6cqIXVJ/3\n",
       "rN9ekkSzNAu7Lhd6c5Gfj/zC+3qBxixWVSQdPXZYmfkr+0T9eo0zUJU5cldvQAo7y0nmeLN8NDSj\n",
       "2962jmWufLJ8e/r7C4FZPpfXF8K3AVZbysFQSQBxSpnBJM5AVRSp/pB/giFtcpLT6gSotO3rSIBG\n",
       "K1I6Nt6wqrucV8y1RdF33gcr54ZdahCQG1aUG5IbDrtfZ03kPwpVfwbKzJrvYq77H4Xg/6Fe+M/8\n",
       "DyWWxf9oMZEKJ8Hmwtk8ZOrH/waUmhzIhavWUgAAAABJRU5ErkJggg==\n",
       "\" style=\"display:inline;vertical-align:middle;\" /></a><br>(see <a class=\"ProveItLink\" href=\"../../../__pv_it/theorems/98c78f9ddef8f3b4a7d445cd39ded59e596fc9990/dependencies.ipynb\">dependencies</a>)<br>"
      ],
      "text/plain": [
       "<IPython.core.display.HTML object>"
      ]
     },
     "metadata": {},
     "output_type": "display_data"
    }
   ],
   "source": [
    "%proving eigen_pow"
   ]
  },
  {
   "cell_type": "code",
   "execution_count": null,
   "metadata": {},
   "outputs": [],
   "source": []
  }
 ],
 "metadata": {
  "kernelspec": {
   "display_name": "Python 3",
   "language": "python",
   "name": "python3"
  }
 },
 "nbformat": 4,
 "nbformat_minor": 0
}