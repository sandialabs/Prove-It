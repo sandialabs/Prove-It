{
 "cells": [
  {
   "cell_type": "markdown",
   "metadata": {},
   "source": [
    "Proof of <a class=\"ProveItLink\" href=\"../../../../../_theory_nbs_/theory.ipynb\">proveit</a>.<a class=\"ProveItLink\" href=\"../../../../_theory_nbs_/theory.ipynb\">linear_algebra</a>.<a class=\"ProveItLink\" href=\"../../theory.ipynb\">matrices</a>.<a class=\"ProveItLink\" href=\"../../theorems.ipynb#complex_matrix_space_is_vec_space\">complex_matrix_space_is_vec_space</a> theorem\n",
    "========"
   ]
  },
  {
   "cell_type": "code",
   "execution_count": 1,
   "metadata": {},
   "outputs": [],
   "source": [
    "import proveit\n",
    "theory = proveit.Theory() # the theorem's theory"
   ]
  },
  {
   "cell_type": "code",
   "execution_count": 2,
   "metadata": {},
   "outputs": [
    {
     "data": {
      "text/html": [
       "With these <a href=\"allowed_presumptions.txt\">allowed</a>/<a href=\"disallowed_presumptions.txt\">disallowed</a> theorem/theory presumptions (e.g., to avoid circular dependencies), we begin our proof of<br><strong id=\"complex_matrix_space_is_vec_space\">complex_matrix_space_is_vec_space:</strong> <a class=\"ProveItLink\" href=\"../../../__pv_it/theorems/ddc831b48db5057c6400ae19c663383cb2ecb6710/expr.ipynb\"><img src=\"data:image/png;base64,iVBORw0KGgoAAAANSUhEUgAAAToAAAAmBAMAAACmD0o7AAAAMFBMVEX///8AAAAAAAAAAAAAAAAA\n",
       "AAAAAAAAAAAAAAAAAAAAAAAAAAAAAAAAAAAAAAAAAAAv3aB7AAAAD3RSTlMAq1RmmUTNIjK7EInv\n",
       "3XZ/CtNrAAAACXBIWXMAAA7EAAAOxAGVKw4bAAAFdklEQVRYw71Yb2wTZRx+1vba63Xt6p9IMIbU\n",
       "GM0SkdUMjYtknqwCETNKNH5wCyuyzICGHMmCE4erxg8mjG1BkGyKaWB+IINsIrAMokxw2SIzAzMX\n",
       "lMx0QbfMJmMBEXC4+Xvfu67tWK+9bfRNdrv33n/P/d7n+T3vFTBYViIzRdoyh0EWd4bQYXfI+Jhn\n",
       "MwUOZuNxEH/MGDrsMTzC2pY5dEcMb21eKHPojFP8cubAwXbTKO3+neUZbfbqewLvc4P9sxriNFVU\n",
       "N+QqCAIRWLys9se84SiJNysMDs/x8kTZMbC1qu1QqTfb7SJuuMLfAaymzBOcywO0HKgY2YUNvF7j\n",
       "AafeY2mOr+cAhs6h+ba8Yxg5QQvT8MkwwGqJiimYugjsvNM0/aDZt9KiO/uTBPARr7RuL1w8Ck4Z\n",
       "L7H/b6WJ7gWupT8JUoGMJaiF06Oho1rpjM7r2BK/xKzpEkwDut4VAIpLiDJ7AW5jlgA+ZOpoSBPd\n",
       "Q+zysZ2ClCWjB6OoEel924roaQ98YmLnGloN8nTVIadwGmKvKLNQPwgs5zs9Dist5fCkie57dnnY\n",
       "zl7UaxuneBVYNFVQ7VKuyp4Dg2qI7JQRzP6ERG7Xmzyb3jnE4nSI7hlLTLdgpvhb0+XtBLs0VPJ7\n",
       "wU2E2PYXzyiLWC3CySJsjdLP9DctFxtr7yawepM/QX1sWqytbC7xGvDT4OD5dNFdZzRw79Lrsj2m\n",
       "jV6gDqiMyJDWnvaYpk7Qs9fPL3+RVi6MnCKZnD4GW/FxiFfGGAnWAttEzSkdTKwSLbcGaNKFFLNW\n",
       "2zWefV/V6x0nsDMevAyxG8Oo9gg9uDr1D+1zr1/qh6kbq2A7i9JgreIKHAYuUPdNwC7BqyVTBheT\n",
       "hJeioYsuRmwWatjkDXq9AwmycLO0kOOpYHikp/soGBvJrP1UK1OsASxV+oFrpSEw1f9McRbCGis6\n",
       "NSLZQw7/7D7XfwIr3PHohBucd+/reR0RZfBXjTw3SRT1XlhPTWiNfUA50EozfnVGaaVNEQnv287b\n",
       "I6y1i/FO2yhxnF2JuKbwbKKoW7wPjzpCltBdsUOTnvKkuORkmiBR5BXl538yCVURZX6GLqcBzffn\n",
       "KfVhppz8/Oekb6dkDV1IGy50augQKJwl96xhDhKWHTju6/f5E9C9xvId/EngXYi77yVR1FO2ktgy\n",
       "7J1ygmrsTF1kOyyEfMYdMN9Sd1bg+U4g1Bc03uHYljhL1+z8CmvMffwDRwLvbNdVr3DzPD57GYt3\n",
       "i98oc1FnfwWt56T3qVF5F8yRUVa1nabwUAYVlgEPUO8v6a94PV1WEYqGaIqodqsmzi1dtXN1f3Id\n",
       "B0sS0EmT/N9ouXKwP+npOS6z19CEYhccSrUX7c43IZEs31GkyyB0Vz969xy11PrRvjSE/dT7a5bK\n",
       "P1stPUULcv/mKSIrqJq4aunczlVh50IeTUCHH1SQHX39Sc8j0uI3YkjZ9lcWt0PyjSlZwtr7qL6x\n",
       "cMgPccmylt/RXDwCmy+ilIxFWMfdbEjLF/+xwyILNMQb0YmmLZ3buXlzY+MeQtdiTch32JxGxhY6\n",
       "BvXMvjxpizMYu9/JVTV91o1aumrnasrO5ZSIL6/M/8CbHJ05bpOKuGFEFRa19BbNzrl7PENHuRkn\n",
       "qPl/9FxM3rQ/Jj/Oe3vUJaKWXutR7fw9irI4oMS7OCutnvmCW39nUdK2w7ETgxI7iccXbXmpo3Hf\n",
       "LOPt8j39CAtH77h3kNnNpLT+1pk7M/jFiJN3LZ/ih6EbmUR3dt6vcw+Ly/BGZQdT96l7fmHQZRuW\n",
       "oDmQ+vcCt31h0A0bH7IpZQ97cIEU3G18zNGUH/zOkLQg6I7OIbfaUv6cK3yTvyDoPp3LoKoMKVZi\n",
       "p5T/AdcIZnVP9ohAAAAAAElFTkSuQmCC\n",
       "\" style=\"display:inline;vertical-align:middle;\" /></a><br>(see <a class=\"ProveItLink\" href=\"../../../__pv_it/theorems/35769edcb1c2bd03a124a541258c12c34cadf1300/dependencies.ipynb\">dependencies</a>)<br>"
      ],
      "text/plain": [
       "<IPython.core.display.HTML object>"
      ]
     },
     "metadata": {},
     "output_type": "display_data"
    }
   ],
   "source": [
    "%proving complex_matrix_space_is_vec_space"
   ]
  },
  {
   "cell_type": "code",
   "execution_count": null,
   "metadata": {},
   "outputs": [],
   "source": []
  }
 ],
 "metadata": {
  "kernelspec": {
   "display_name": "Python 3",
   "language": "python",
   "name": "python3"
  }
 },
 "nbformat": 4,
 "nbformat_minor": 0
}