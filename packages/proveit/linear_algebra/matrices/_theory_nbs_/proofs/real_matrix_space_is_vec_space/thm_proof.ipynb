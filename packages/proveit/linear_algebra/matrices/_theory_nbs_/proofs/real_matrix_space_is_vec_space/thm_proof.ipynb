{
 "cells": [
  {
   "cell_type": "markdown",
   "metadata": {},
   "source": [
    "Proof of <a class=\"ProveItLink\" href=\"../../../../../_theory_nbs_/theory.ipynb\">proveit</a>.<a class=\"ProveItLink\" href=\"../../../../_theory_nbs_/theory.ipynb\">linear_algebra</a>.<a class=\"ProveItLink\" href=\"../../theory.ipynb\">matrices</a>.<a class=\"ProveItLink\" href=\"../../theorems.ipynb#real_matrix_space_is_vec_space\">real_matrix_space_is_vec_space</a> theorem\n",
    "========"
   ]
  },
  {
   "cell_type": "code",
   "execution_count": 1,
   "metadata": {},
   "outputs": [],
   "source": [
    "import proveit\n",
    "theory = proveit.Theory() # the theorem's theory"
   ]
  },
  {
   "cell_type": "code",
   "execution_count": 2,
   "metadata": {},
   "outputs": [
    {
     "data": {
      "text/html": [
       "With these <a href=\"allowed_presumptions.txt\">allowed</a>/<a href=\"disallowed_presumptions.txt\">disallowed</a> theorem/theory presumptions (e.g., to avoid circular dependencies), we begin our proof of<br><strong id=\"real_matrix_space_is_vec_space\">real_matrix_space_is_vec_space:</strong> <a class=\"ProveItLink\" href=\"../../../__pv_it/theorems/179bf09127c3ee90262100df26ee9679448c91090/expr.ipynb\"><img src=\"data:image/png;base64,iVBORw0KGgoAAAANSUhEUgAAAToAAAAmBAMAAACmD0o7AAAAMFBMVEX///8AAAAAAAAAAAAAAAAA\n",
       "AAAAAAAAAAAAAAAAAAAAAAAAAAAAAAAAAAAAAAAAAAAv3aB7AAAAD3RSTlMAq1RmmUTNIjK7EInv\n",
       "3XZ/CtNrAAAACXBIWXMAAA7EAAAOxAGVKw4bAAAFcElEQVRYw72Ya0wcVRiGX/Y6M8suq01s6o9m\n",
       "jbEhsSmYrY1og2tBS8Tg9o8/LJGtbWpaWx0SUttKZWtM1ITChgYJGO1q0QSxAXsjbaPFKlIsptRg\n",
       "U61UCIamJaEEpRep4HfmsjuLzO4Ol50/O2fmnDnPnO/9vvfMAgaPNUjNIWydxSCLO0V02Bc2PmZV\n",
       "quBgNr4O3I8po0ON4RG21tTRfWk4tFnh1NEZl/jl1MHBfsuo7P6Z4RoFe+2C4H1osH9aSJNTeVUD\n",
       "rpwgMAxLNmv9OWccMfZktcHhGdlEta3+5u/7gYPF2eluF2nD1f+N3BLnCOfyrOo6sL2L5nhJald4\n",
       "IEnvwSTHVzMA3u62LmrA7iFkBC0sh4/3Q2rFZkzO1AVgz92GyIXG/DWWuE9/GAiVYl1OGK5s1nb6\n",
       "8DT7fSVJuich0bUitBdYiko4PQodtYqndX6eTfFL1JouwXQxrncFiO5N8BwtmGRjlgD2suwIJUl3\n",
       "n0q31gacxTVUcBSQ1jywVj4X27mCZoMv0nT4EjgNqZfRWUQat1KK9ChsFA+HJ0m6byN0POyjtF45\n",
       "FiUrqHUpU1bPR33yEvFUEcz+mELOx3t4OhQ6Wqt0phLTbZiJ2JasbidUuvs/gdVNgii9LlWUxaw1\n",
       "LInF+poqP9PflOTRsXwnwcZ7+DKZLu0LiqyNPYsbA37q6zuXLN1fCh1Xo6vUHdHc6AaqgLJhH4TC\n",
       "Ux7T1DG69sK5lU/RzLnDJylNTh2GvegouMERJoJCme79ZZR6DpasAk1XADTERYpaq31Mpvvhjyu6\n",
       "jqbBPu3Bs+A6MYRyj/UsbkzdpDh3+4VemDrxDOxnUBysFF2BJqCHum9kdOXb/73OiinDxSRQCnt8\n",
       "Q4sKm1Pojjwe0O0diEkLNysLGZ7NjEd45DwtxgYyaz+1SkRbAMvFXmCsOAyW9T9La+f9XFJFuyIk\n",
       "Puzwz+xzvcew2q2ls44rkW3w6nodCaXvVyUPblFSVGfDdnJCuXke2AS00BM/Oy22UFA44n3Veecq\n",
       "u9sh0fEHJcmNsiskXFP/TElRtaQWDzjClvBMa9f6Dq8XWUFTnEwTlBRZeV7ve5OQM6LEz+gyQmi8\n",
       "N0us7meZ4/U+Jnw95YvQcT6mM2u7QodA7gy1p4A5SL/PgaP5vfn+6XSWd3UrZI/mvJuSopqqlcCm\n",
       "YdUkIyivnamDbIctofTE3TDfjkQWBbvYi/UousPhrRpLV+x8kN3MfOgtR4zu7GrOCqFBPboRrVv8\n",
       "RpWLtOHfTPM56R0rZN0FM3wo2bmDJOqhCmpdASyi3h/LdE3MxswhtUSUuzWWLtu5HJ9Mx6frY+iE\n",
       "SZnOBy/v19s9ayp7BT2Q64BDLM9Gm/NlCJSW20ThMojuxttvfEd3Kv1oWx5GHfX+itGVUQGupdi1\n",
       "qiUiLQiNpUt2bpUKayZ812Lo8D2kPcodkf9gTE94S16MkrJXKCtqg5A/IqZZC++h9obcAT+4pSua\n",
       "r6Cx6Crs+cPi+pFh1nEfOV3XgTrUv+4BW2hw4+qDIpYu2bl5S319DdE122LqHbYkUbGtJ/rimf0m\n",
       "3TvOYPR8j5RVkb2uaumynXOt8toxSWiP5+a+4dWnM2uClCftG9QMUy29WbFzyT0eBQam7aDm/tFz\n",
       "Qf9WXTT9JN3zqkuoll7pke18F60yd1HUujg7WjxzhVt3d7HuvabojkFUd+KxhzK9cKK+dobxvG9B\n",
       "P8L61TPJO8jspks6fujM7Sn8YsTx/02f4I+h8VTSnZnz6yzg4TIcqPRg4j5VT8wPXbrhFDQHEv9f\n",
       "4Obnh27I+JCNCXvwwXnK4E7jYw4l/OB3hoV5oTs0i9pqT/h3rvWId17o9s9m0M4UZazAdin/AUDL\n",
       "dyDnLrdWAAAAAElFTkSuQmCC\n",
       "\" style=\"display:inline;vertical-align:middle;\" /></a><br>(see <a class=\"ProveItLink\" href=\"../../../__pv_it/theorems/da79bfc216e96a1caadd86222013182d66dbfcc70/dependencies.ipynb\">dependencies</a>)<br>"
      ],
      "text/plain": [
       "<IPython.core.display.HTML object>"
      ]
     },
     "metadata": {},
     "output_type": "display_data"
    }
   ],
   "source": [
    "%proving real_matrix_space_is_vec_space"
   ]
  },
  {
   "cell_type": "code",
   "execution_count": null,
   "metadata": {},
   "outputs": [],
   "source": []
  }
 ],
 "metadata": {
  "kernelspec": {
   "display_name": "Python 3",
   "language": "python",
   "name": "python3"
  }
 },
 "nbformat": 4,
 "nbformat_minor": 0
}