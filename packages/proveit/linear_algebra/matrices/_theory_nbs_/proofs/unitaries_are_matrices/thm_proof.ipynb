{
 "cells": [
  {
   "cell_type": "markdown",
   "metadata": {},
   "source": [
    "Proof of <a class=\"ProveItLink\" href=\"../../../../../_theory_nbs_/theory.ipynb\">proveit</a>.<a class=\"ProveItLink\" href=\"../../../../_theory_nbs_/theory.ipynb\">linear_algebra</a>.<a class=\"ProveItLink\" href=\"../../theory.ipynb\">matrices</a>.<a class=\"ProveItLink\" href=\"../../theorems.ipynb#unitaries_are_matrices\">unitaries_are_matrices</a> theorem\n",
    "========"
   ]
  },
  {
   "cell_type": "code",
   "execution_count": 1,
   "metadata": {},
   "outputs": [],
   "source": [
    "import proveit\n",
    "theory = proveit.Theory() # the theorem's theory"
   ]
  },
  {
   "cell_type": "code",
   "execution_count": 2,
   "metadata": {},
   "outputs": [
    {
     "data": {
      "text/html": [
       "With these <a href=\"allowed_presumptions.txt\">allowed</a>/<a href=\"disallowed_presumptions.txt\">disallowed</a> theorem/theory presumptions (e.g., to avoid circular dependencies), we begin our proof of<br><strong id=\"unitaries_are_matrices\">unitaries_are_matrices:</strong> <a class=\"ProveItLink\" href=\"../../../__pv_it/theorems/c143ed1df1a08ca14d6bbdb90e8ff717df5774080/expr.ipynb\"><img src=\"data:image/png;base64,iVBORw0KGgoAAAANSUhEUgAAANAAAAAZBAMAAACybb07AAAAMFBMVEX///8AAAAAAAAAAAAAAAAA\n",
       "AAAAAAAAAAAAAAAAAAAAAAAAAAAAAAAAAAAAAAAAAAAv3aB7AAAAD3RSTlMAq1RmmUTNIjK7EInv\n",
       "3XZ/CtNrAAAACXBIWXMAAA7EAAAOxAGVKw4bAAADSElEQVRIx6VWa0hUQRT+9nG969113V6WFWJE\n",
       "sVDmBhkGURtaSpGtP/qTQkZQ1I/YoD9G5FY/JZXSYiXjklCE2Gov8I8I0YMsktgeCAsrRRFWFBGp\n",
       "EHRm7mPvdR9ecmBn58ycme/MOd85dwArrQLza0GLevbgfxzuGgBq1HGzxT03zWJY+ROz6m+q/E6m\n",
       "TcIZgKOq7SPgSFoDumySvKXKv5Bhd1/Pkc+tUsUjPCW95DDQ2xjwkGHjgI+tr86JI47AVfRiBfJf\n",
       "xZm4Tpv/kKbpXRmQ9nWKd5owQ9JDsuT0JxTKwASwkykczQnkJG+7pmnQzySpSZvPk9XjexKJRISN\n",
       "6hrITZ2wJYURFQglaKQ+JuMcM7kjJ1BhiFR+0sDGYQPavEPhiOtEWIt/sJv6xfBEnMEIvANVJD1D\n",
       "tYtsCnCz3KU5gdplI5AntfCc9/0aDmwys7gXLSg4H1HIIP7Aez9Z1wEHGZiXmwvfYARam1o4zPsl\n",
       "upwvKnesh/cep/dSCD5MEoKXXPkykRjNDVRkAtpDfJu4NXydhoN8WY8ZTrLDMzaByFELdGdYMmyJ\n",
       "moDoGu78EsTIYZt5YHy6YqsQyJa9U2QGRF/uqnHIBPQa2F/QgRai2XpO/tTuU0K2xBR/k2Nld8g4\n",
       "FX+ArT4TUNwE9BiQYyGUE0Pa+fKYIUbZXCcRkD2Z4kJbcRdWuWWnnHYjadoAhHIlcI18uSoFJGfL\n",
       "E3GKBXObnpm1rEokg27cr45Xh4xAeEK/C6rrGMovCShT8lZXFHgeCZli9Ie6u8eh1j5eU/xrzrrN\n",
       "MSpm3XaKyXI2YHQbhX2GlLYobllwQNOsq6duVxbW4YxPrX0Sv7jffaPBDPSV33YcTp7Xg9wR3qZK\n",
       "znR+ypBWgrxXaqSyTN8UBytJtoha+xRy+hH8YgY6yGta/Y5lXLpIJ49BWkSob9Kr97W/NRnLpU5N\n",
       "Vvscx6LRSwTUl2fOI4+RlSiI6BEes/wVzNMTjNU+Ja/9EDakV2+DF/S7OgOWgWKyZhyvfd3q+2Bi\n",
       "FmVGTOJVmD/QexMJLUZZ20adFbz2NZO2621YyRdDW2iSbqchzt3ezcrfoWjX3G8GUa0z3rBlHKtv\n",
       "BvvAPJ9bVl9B837X7Qb+AU7wx9KVFNmOAAAAAElFTkSuQmCC\n",
       "\" style=\"display:inline;vertical-align:middle;\" /></a><br>(see <a class=\"ProveItLink\" href=\"../../../__pv_it/theorems/18b063fb399b24f38946a57bd9ccf7708b0d299c0/dependencies.ipynb\">dependencies</a>)<br>"
      ],
      "text/plain": [
       "<IPython.core.display.HTML object>"
      ]
     },
     "metadata": {},
     "output_type": "display_data"
    }
   ],
   "source": [
    "%proving unitaries_are_matrices"
   ]
  },
  {
   "cell_type": "code",
   "execution_count": null,
   "metadata": {},
   "outputs": [],
   "source": []
  }
 ],
 "metadata": {
  "kernelspec": {
   "display_name": "Python 3",
   "language": "python",
   "name": "python3"
  }
 },
 "nbformat": 4,
 "nbformat_minor": 0
}