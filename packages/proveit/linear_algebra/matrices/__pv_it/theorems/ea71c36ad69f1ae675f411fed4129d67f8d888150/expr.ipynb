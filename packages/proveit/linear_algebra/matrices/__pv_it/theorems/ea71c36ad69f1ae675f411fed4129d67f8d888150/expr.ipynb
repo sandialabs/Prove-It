{
 "cells": [
  {
   "cell_type": "markdown",
   "metadata": {},
   "source": [
    "Expression of type <a class=\"ProveItLink\" href=\"../../../../../../../doc/html/api/proveit.ExprTuple.html\">ExprTuple</a>\n",
    "=======================\n",
    "# from the theory of <a class=\"ProveItLink\" href=\"../../../_theory_nbs_/theory.ipynb\">proveit.linear_algebra.matrices</a>"
   ]
  },
  {
   "cell_type": "code",
   "execution_count": 1,
   "metadata": {},
   "outputs": [],
   "source": [
    "import proveit\n",
    "# Automation is not needed when building an expression:\n",
    "proveit.defaults.automation = False # This will speed things up.\n",
    "proveit.defaults.inline_pngs = False # Makes files smaller.\n",
    "%load_expr # Load the stored expression as 'stored_expr'\n",
    "# import Expression classes needed to build the expression\n",
    "from proveit import A, ExprTuple, Lambda, b, k, x\n",
    "from proveit.linear_algebra import MatrixMult, ScalarMult\n",
    "from proveit.logic import Equals, Implies\n",
    "from proveit.numbers import Exp"
   ]
  },
  {
   "cell_type": "code",
   "execution_count": 2,
   "metadata": {},
   "outputs": [
    {
     "data": {
      "text/html": [
       "<strong id=\"expr\">expr:</strong> <a class=\"ProveItLink\" href=\"expr.ipynb\"><img src=\"expr.png\" style=\"display:inline;vertical-align:middle;\" /></a><br>"
      ],
      "text/plain": [
       "<IPython.core.display.HTML object>"
      ]
     },
     "metadata": {},
     "output_type": "display_data"
    }
   ],
   "source": [
    "# build up the expression from sub-expressions\n",
    "expr = ExprTuple(Lambda([A, x], Implies(Equals(MatrixMult(A, x), ScalarMult(b, x)), Equals(MatrixMult(Exp(A, k), x), ScalarMult(Exp(b, k), x)))))"
   ]
  },
  {
   "cell_type": "code",
   "execution_count": 3,
   "metadata": {},
   "outputs": [
    {
     "name": "stdout",
     "output_type": "stream",
     "text": [
      "Passed sanity check: expr matches stored_expr\n"
     ]
    }
   ],
   "source": [
    "# check that the built expression is the same as the stored expression\n",
    "assert expr == stored_expr\n",
    "assert expr._style_id == stored_expr._style_id\n",
    "print(\"Passed sanity check: expr matches stored_expr\")"
   ]
  },
  {
   "cell_type": "code",
   "execution_count": 4,
   "metadata": {},
   "outputs": [
    {
     "name": "stdout",
     "output_type": "stream",
     "text": [
      "\\left(\\left(A, x\\right) \\mapsto \\left(\\left(\\left(A \\thinspace x\\right) = \\left(b \\cdot x\\right)\\right) \\Rightarrow \\left(\\left(A^{k} \\thinspace x\\right) = \\left(b^{k} \\cdot x\\right)\\right)\\right)\\right)\n"
     ]
    }
   ],
   "source": [
    "# Show the LaTeX representation of the expression for convenience if you need it.\n",
    "print(stored_expr.latex())"
   ]
  },
  {
   "cell_type": "code",
   "execution_count": 5,
   "metadata": {},
   "outputs": [
    {
     "data": {
      "text/html": [
       "no style options"
      ],
      "text/plain": [
       "no style options"
      ]
     },
     "metadata": {},
     "output_type": "display_data"
    }
   ],
   "source": [
    "stored_expr.style_options()"
   ]
  },
  {
   "cell_type": "code",
   "execution_count": 6,
   "metadata": {},
   "outputs": [
    {
     "data": {
      "text/html": [
       "<table><tr><th>&nbsp;</th><th>core type</th><th>sub-expressions</th><th>expression</th></tr>\n",
       "<tr><td>0</td><td>ExprTuple</td><td>1</td><td><a class=\"ProveItLink\" href=\"expr.ipynb\"><img src=\"expr.png\" style=\"display:inline;vertical-align:middle;\" /></a></td></tr>\n",
       "<tr><td>1</td><td>Lambda</td><td>parameters:&nbsp;14<br>body:&nbsp;2<br></td><td><a class=\"ProveItLink\" href=\"../e9b27d00eb552d0e12b57088d81d1c238231d8230/expr.ipynb\"><img src=\"../e9b27d00eb552d0e12b57088d81d1c238231d8230/expr.png\" style=\"display:inline;vertical-align:middle;\" /></a></td></tr>\n",
       "<tr><td>2</td><td>Operation</td><td>operator:&nbsp;3<br>operands:&nbsp;4<br></td><td><a class=\"ProveItLink\" href=\"../8767f1b76576d392516e30482bb3b8a2208c474e0/expr.ipynb\"><img src=\"../8767f1b76576d392516e30482bb3b8a2208c474e0/expr.png\" style=\"display:inline;vertical-align:middle;\" /></a></td></tr>\n",
       "<tr><td>3</td><td>Literal</td><td></td><td><a class=\"ProveItLink\" href=\"../../../../../logic/booleans/implication/__pv_it/common/02bdb382575728da8cdbaed545b9096ea7a1bd5b0/expr.ipynb\"><img src=\"../../../../../logic/booleans/implication/__pv_it/common/02bdb382575728da8cdbaed545b9096ea7a1bd5b0/expr.png\" style=\"display:inline;vertical-align:middle;\" /></a></td></tr>\n",
       "<tr><td>4</td><td>ExprTuple</td><td>5, 6</td><td><a class=\"ProveItLink\" href=\"../f36d2a2f1e7740353cf323366353b9886d22b0ca0/expr.ipynb\"><img src=\"../f36d2a2f1e7740353cf323366353b9886d22b0ca0/expr.png\" style=\"display:inline;vertical-align:middle;\" /></a></td></tr>\n",
       "<tr><td>5</td><td>Operation</td><td>operator:&nbsp;8<br>operands:&nbsp;7<br></td><td><a class=\"ProveItLink\" href=\"../9378241d54368ff2e93a8d5566f7becc9102ad170/expr.ipynb\"><img src=\"../9378241d54368ff2e93a8d5566f7becc9102ad170/expr.png\" style=\"display:inline;vertical-align:middle;\" /></a></td></tr>\n",
       "<tr><td>6</td><td>Operation</td><td>operator:&nbsp;8<br>operands:&nbsp;9<br></td><td><a class=\"ProveItLink\" href=\"../df0e6cf3dad7d46420045ed45444beb7ba2c6b2f0/expr.ipynb\"><img src=\"../df0e6cf3dad7d46420045ed45444beb7ba2c6b2f0/expr.png\" style=\"display:inline;vertical-align:middle;\" /></a></td></tr>\n",
       "<tr><td>7</td><td>ExprTuple</td><td>10, 11</td><td><a class=\"ProveItLink\" href=\"../e2b0dcb10a185b4354778b0dc1e44db9e3149ab60/expr.ipynb\"><img src=\"../e2b0dcb10a185b4354778b0dc1e44db9e3149ab60/expr.png\" style=\"display:inline;vertical-align:middle;\" /></a></td></tr>\n",
       "<tr><td>8</td><td>Literal</td><td></td><td><a class=\"ProveItLink\" href=\"../../../../../logic/equality/__pv_it/common/fb96dc12b2aa8801dda64d0132b396c63d1502bb0/expr.ipynb\"><img src=\"../../../../../logic/equality/__pv_it/common/fb96dc12b2aa8801dda64d0132b396c63d1502bb0/expr.png\" style=\"display:inline;vertical-align:middle;\" /></a></td></tr>\n",
       "<tr><td>9</td><td>ExprTuple</td><td>12, 13</td><td><a class=\"ProveItLink\" href=\"../52dd7bb07339c72b254145e8cf6073c174abc3900/expr.ipynb\"><img src=\"../52dd7bb07339c72b254145e8cf6073c174abc3900/expr.png\" style=\"display:inline;vertical-align:middle;\" /></a></td></tr>\n",
       "<tr><td>10</td><td>Operation</td><td>operator:&nbsp;16<br>operands:&nbsp;14<br></td><td><a class=\"ProveItLink\" href=\"../d685fe882cf4b0a4043cf46fe54cf753e57242680/expr.ipynb\"><img src=\"../d685fe882cf4b0a4043cf46fe54cf753e57242680/expr.png\" style=\"display:inline;vertical-align:middle;\" /></a></td></tr>\n",
       "<tr><td>11</td><td>Operation</td><td>operator:&nbsp;18<br>operands:&nbsp;15<br></td><td><a class=\"ProveItLink\" href=\"../7a77d51cdde850bf5ca77d16ba9f1d4ebf2fedc50/expr.ipynb\"><img src=\"../7a77d51cdde850bf5ca77d16ba9f1d4ebf2fedc50/expr.png\" style=\"display:inline;vertical-align:middle;\" /></a></td></tr>\n",
       "<tr><td>12</td><td>Operation</td><td>operator:&nbsp;16<br>operands:&nbsp;17<br></td><td><a class=\"ProveItLink\" href=\"../4573e153b76d0cc10a257a95d45ea62082e23dd10/expr.ipynb\"><img src=\"../4573e153b76d0cc10a257a95d45ea62082e23dd10/expr.png\" style=\"display:inline;vertical-align:middle;\" /></a></td></tr>\n",
       "<tr><td>13</td><td>Operation</td><td>operator:&nbsp;18<br>operands:&nbsp;19<br></td><td><a class=\"ProveItLink\" href=\"../51f4148914f329c6b8add32b6b91d220c8d582110/expr.ipynb\"><img src=\"../51f4148914f329c6b8add32b6b91d220c8d582110/expr.png\" style=\"display:inline;vertical-align:middle;\" /></a></td></tr>\n",
       "<tr><td>14</td><td>ExprTuple</td><td>26, 22</td><td><a class=\"ProveItLink\" href=\"../8fe66913ebe1c7961100c4e0925c8533a57298310/expr.ipynb\"><img src=\"../8fe66913ebe1c7961100c4e0925c8533a57298310/expr.png\" style=\"display:inline;vertical-align:middle;\" /></a></td></tr>\n",
       "<tr><td>15</td><td>ExprTuple</td><td>27, 22</td><td><a class=\"ProveItLink\" href=\"../c38b378836b1ef8aced823d37aa3888c7c80002c0/expr.ipynb\"><img src=\"../c38b378836b1ef8aced823d37aa3888c7c80002c0/expr.png\" style=\"display:inline;vertical-align:middle;\" /></a></td></tr>\n",
       "<tr><td>16</td><td>Literal</td><td></td><td><a class=\"ProveItLink\" href=\"../../../multiplication/__pv_it/common/a56cf42f971ea8b70c320fc0b98f33dc6dac5b610/expr.ipynb\"><img src=\"../../../multiplication/__pv_it/common/a56cf42f971ea8b70c320fc0b98f33dc6dac5b610/expr.png\" style=\"display:inline;vertical-align:middle;\" /></a></td></tr>\n",
       "<tr><td>17</td><td>ExprTuple</td><td>20, 22</td><td><a class=\"ProveItLink\" href=\"../5ac880e7af27f384e562a4610a8fa75dd9c0a3910/expr.ipynb\"><img src=\"../5ac880e7af27f384e562a4610a8fa75dd9c0a3910/expr.png\" style=\"display:inline;vertical-align:middle;\" /></a></td></tr>\n",
       "<tr><td>18</td><td>Literal</td><td></td><td><a class=\"ProveItLink\" href=\"../../../../scalar_multiplication/__pv_it/common/1e364bd471e6a29fcd358dd2d9cd990a1e6fedd40/expr.ipynb\"><img src=\"../../../../scalar_multiplication/__pv_it/common/1e364bd471e6a29fcd358dd2d9cd990a1e6fedd40/expr.png\" style=\"display:inline;vertical-align:middle;\" /></a></td></tr>\n",
       "<tr><td>19</td><td>ExprTuple</td><td>21, 22</td><td><a class=\"ProveItLink\" href=\"../48d78aa9a4086cbaacb325801acee63e2b931e140/expr.ipynb\"><img src=\"../48d78aa9a4086cbaacb325801acee63e2b931e140/expr.png\" style=\"display:inline;vertical-align:middle;\" /></a></td></tr>\n",
       "<tr><td>20</td><td>Operation</td><td>operator:&nbsp;24<br>operands:&nbsp;23<br></td><td><a class=\"ProveItLink\" href=\"../4a48d69137af1f0ec51d9a77ce4781e578191cd40/expr.ipynb\"><img src=\"../4a48d69137af1f0ec51d9a77ce4781e578191cd40/expr.png\" style=\"display:inline;vertical-align:middle;\" /></a></td></tr>\n",
       "<tr><td>21</td><td>Operation</td><td>operator:&nbsp;24<br>operands:&nbsp;25<br></td><td><a class=\"ProveItLink\" href=\"../7250d99e139e68d191d802c386012b9d3b1fc9e50/expr.ipynb\"><img src=\"../7250d99e139e68d191d802c386012b9d3b1fc9e50/expr.png\" style=\"display:inline;vertical-align:middle;\" /></a></td></tr>\n",
       "<tr><td>22</td><td>Variable</td><td></td><td><a class=\"ProveItLink\" href=\"../../../../../__pv_it/common/a0d9d672aa5e272d907247690c152cc2c6daafb70/expr.ipynb\"><img src=\"../../../../../__pv_it/common/a0d9d672aa5e272d907247690c152cc2c6daafb70/expr.png\" style=\"display:inline;vertical-align:middle;\" /></a></td></tr>\n",
       "<tr><td>23</td><td>ExprTuple</td><td>26, 28</td><td><a class=\"ProveItLink\" href=\"../85a1771f27e8d5db1b146caf29141ad9e44e3da90/expr.ipynb\"><img src=\"../85a1771f27e8d5db1b146caf29141ad9e44e3da90/expr.png\" style=\"display:inline;vertical-align:middle;\" /></a></td></tr>\n",
       "<tr><td>24</td><td>Literal</td><td></td><td><a class=\"ProveItLink\" href=\"../../../../../numbers/exponentiation/__pv_it/common/0ac37aca1e54c35c5cda09672df32d4f69f1f3020/expr.ipynb\"><img src=\"../../../../../numbers/exponentiation/__pv_it/common/0ac37aca1e54c35c5cda09672df32d4f69f1f3020/expr.png\" style=\"display:inline;vertical-align:middle;\" /></a></td></tr>\n",
       "<tr><td>25</td><td>ExprTuple</td><td>27, 28</td><td><a class=\"ProveItLink\" href=\"../7295f76bebef6ae7a4d7022b3de0f863aad35a0c0/expr.ipynb\"><img src=\"../7295f76bebef6ae7a4d7022b3de0f863aad35a0c0/expr.png\" style=\"display:inline;vertical-align:middle;\" /></a></td></tr>\n",
       "<tr><td>26</td><td>Variable</td><td></td><td><a class=\"ProveItLink\" href=\"../../../../../__pv_it/common/09585084922504426caf1db2ff588a23a0932a960/expr.ipynb\"><img src=\"../../../../../__pv_it/common/09585084922504426caf1db2ff588a23a0932a960/expr.png\" style=\"display:inline;vertical-align:middle;\" /></a></td></tr>\n",
       "<tr><td>27</td><td>Variable</td><td></td><td><a class=\"ProveItLink\" href=\"../../../../../__pv_it/common/195236b98c6c564a75b5dbada74b173bc52d5c3e0/expr.ipynb\"><img src=\"../../../../../__pv_it/common/195236b98c6c564a75b5dbada74b173bc52d5c3e0/expr.png\" style=\"display:inline;vertical-align:middle;\" /></a></td></tr>\n",
       "<tr><td>28</td><td>Variable</td><td></td><td><a class=\"ProveItLink\" href=\"../../../../../__pv_it/common/63b7c64bf9ec7a04ecc396c7a1670f3f12fb59490/expr.ipynb\"><img src=\"../../../../../__pv_it/common/63b7c64bf9ec7a04ecc396c7a1670f3f12fb59490/expr.png\" style=\"display:inline;vertical-align:middle;\" /></a></td></tr>\n",
       "</table>\n"
      ],
      "text/plain": [
       "0. ((A, x) -> (((A . x) = (b * x)) => ((A^{k} . x) = (b^{k} * x))))\n",
       "   core type: ExprTuple\n",
       "   sub-expressions: 1\n",
       "1. (A, x) -> (((A . x) = (b * x)) => ((A^{k} . x) = (b^{k} * x)))\n",
       "   core type: Lambda\n",
       "   parameters: 14\\n   body: 2\n",
       "2. ((A . x) = (b * x)) => ((A^{k} . x) = (b^{k} * x))\n",
       "   core type: Operation\n",
       "   operator: 3\n",
       "   operands: 4\n",
       "3. =>\n",
       "   core type: Literal\n",
       "   sub-expressions: \n",
       "4. ((A . x) = (b * x), (A^{k} . x) = (b^{k} * x))\n",
       "   core type: ExprTuple\n",
       "   sub-expressions: 5, 6\n",
       "5. (A . x) = (b * x)\n",
       "   core type: Operation\n",
       "   operator: 8\n",
       "   operands: 7\n",
       "6. (A^{k} . x) = (b^{k} * x)\n",
       "   core type: Operation\n",
       "   operator: 8\n",
       "   operands: 9\n",
       "7. (A . x, b * x)\n",
       "   core type: ExprTuple\n",
       "   sub-expressions: 10, 11\n",
       "8. =\n",
       "   core type: Literal\n",
       "   sub-expressions: \n",
       "9. (A^{k} . x, b^{k} * x)\n",
       "   core type: ExprTuple\n",
       "   sub-expressions: 12, 13\n",
       "10. A . x\n",
       "    core type: Operation\n",
       "    operator: 16\n",
       "    operands: 14\n",
       "11. b * x\n",
       "    core type: Operation\n",
       "    operator: 18\n",
       "    operands: 15\n",
       "12. A^{k} . x\n",
       "    core type: Operation\n",
       "    operator: 16\n",
       "    operands: 17\n",
       "13. b^{k} * x\n",
       "    core type: Operation\n",
       "    operator: 18\n",
       "    operands: 19\n",
       "14. (A, x)\n",
       "    core type: ExprTuple\n",
       "    sub-expressions: 26, 22\n",
       "15. (b, x)\n",
       "    core type: ExprTuple\n",
       "    sub-expressions: 27, 22\n",
       "16. .\n",
       "    core type: Literal\n",
       "    sub-expressions: \n",
       "17. (A^{k}, x)\n",
       "    core type: ExprTuple\n",
       "    sub-expressions: 20, 22\n",
       "18. *\n",
       "    core type: Literal\n",
       "    sub-expressions: \n",
       "19. (b^{k}, x)\n",
       "    core type: ExprTuple\n",
       "    sub-expressions: 21, 22\n",
       "20. A^{k}\n",
       "    core type: Operation\n",
       "    operator: 24\n",
       "    operands: 23\n",
       "21. b^{k}\n",
       "    core type: Operation\n",
       "    operator: 24\n",
       "    operands: 25\n",
       "22. x\n",
       "    core type: Variable\n",
       "    sub-expressions: \n",
       "23. (A, k)\n",
       "    core type: ExprTuple\n",
       "    sub-expressions: 26, 28\n",
       "24. Exp\n",
       "    core type: Literal\n",
       "    sub-expressions: \n",
       "25. (b, k)\n",
       "    core type: ExprTuple\n",
       "    sub-expressions: 27, 28\n",
       "26. A\n",
       "    core type: Variable\n",
       "    sub-expressions: \n",
       "27. b\n",
       "    core type: Variable\n",
       "    sub-expressions: \n",
       "28. k\n",
       "    core type: Variable\n",
       "    sub-expressions: "
      ]
     },
     "metadata": {},
     "output_type": "display_data"
    }
   ],
   "source": [
    "# display the expression information\n",
    "stored_expr.expr_info()"
   ]
  },
  {
   "cell_type": "code",
   "execution_count": null,
   "metadata": {},
   "outputs": [],
   "source": []
  }
 ],
 "metadata": {
  "kernelspec": {
   "display_name": "Python 3",
   "language": "python",
   "name": "python3"
  }
 },
 "nbformat": 4,
 "nbformat_minor": 0
}