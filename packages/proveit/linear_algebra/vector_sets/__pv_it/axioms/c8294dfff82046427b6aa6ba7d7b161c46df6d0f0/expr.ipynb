{
 "cells": [
  {
   "cell_type": "markdown",
   "metadata": {},
   "source": [
    "Expression of type <a class=\"ProveItLink\" href=\"../../../../../../../doc/html/api/proveit.ExprTuple.html\">ExprTuple</a>\n",
    "=======================\n",
    "# from the theory of <a class=\"ProveItLink\" href=\"../../../_theory_nbs_/theory.ipynb\">proveit.linear_algebra.vector_sets</a>"
   ]
  },
  {
   "cell_type": "code",
   "execution_count": 1,
   "metadata": {},
   "outputs": [],
   "source": [
    "import proveit\n",
    "# Automation is not needed when building an expression:\n",
    "proveit.defaults.automation = False # This will speed things up.\n",
    "proveit.defaults.inline_pngs = False # Makes files smaller.\n",
    "%load_expr # Load the stored expression as 'stored_expr'\n",
    "# import Expression classes needed to build the expression\n",
    "from proveit import Conditional, ExprTuple, Lambda, V, n\n",
    "from proveit.core_expr_types import x_1_to_n\n",
    "from proveit.linear_algebra import Bases, Dim\n",
    "from proveit.logic import Equals, Forall, InSet, Set\n",
    "from proveit.numbers import NaturalPos"
   ]
  },
  {
   "cell_type": "code",
   "execution_count": 2,
   "metadata": {},
   "outputs": [
    {
     "data": {
      "text/html": [
       "<strong id=\"expr\">expr:</strong> <a class=\"ProveItLink\" href=\"expr.ipynb\"><img src=\"expr.png\" style=\"display:inline;vertical-align:middle;\" /></a><br>"
      ],
      "text/plain": [
       "<IPython.core.display.HTML object>"
      ]
     },
     "metadata": {},
     "output_type": "display_data"
    }
   ],
   "source": [
    "# build up the expression from sub-expressions\n",
    "expr = ExprTuple(Lambda(n, Conditional(Forall(instance_param_or_params = [x_1_to_n], instance_expr = Equals(Dim(V), n), condition = InSet(Set(x_1_to_n), Bases(V))), InSet(n, NaturalPos))))"
   ]
  },
  {
   "cell_type": "code",
   "execution_count": 3,
   "metadata": {},
   "outputs": [
    {
     "name": "stdout",
     "output_type": "stream",
     "text": [
      "Passed sanity check: expr matches stored_expr\n"
     ]
    }
   ],
   "source": [
    "# check that the built expression is the same as the stored expression\n",
    "assert expr == stored_expr\n",
    "assert expr._style_id == stored_expr._style_id\n",
    "print(\"Passed sanity check: expr matches stored_expr\")"
   ]
  },
  {
   "cell_type": "code",
   "execution_count": 4,
   "metadata": {},
   "outputs": [
    {
     "name": "stdout",
     "output_type": "stream",
     "text": [
      "\\left(n \\mapsto \\left\\{\\forall_{x_{1}, x_{2}, \\ldots, x_{n}~|~\\left\\{x_{1}, x_{2}, \\ldots, x_{n}\\right\\} \\in \\textrm{Bases}\\left(V\\right)}~\\left(\\textrm{Dim}\\left(V\\right) = n\\right) \\textrm{ if } n \\in \\mathbb{N}^+\\right..\\right)\n"
     ]
    }
   ],
   "source": [
    "# Show the LaTeX representation of the expression for convenience if you need it.\n",
    "print(stored_expr.latex())"
   ]
  },
  {
   "cell_type": "code",
   "execution_count": 5,
   "metadata": {},
   "outputs": [
    {
     "data": {
      "text/html": [
       "no style options"
      ],
      "text/plain": [
       "no style options"
      ]
     },
     "metadata": {},
     "output_type": "display_data"
    }
   ],
   "source": [
    "stored_expr.style_options()"
   ]
  },
  {
   "cell_type": "code",
   "execution_count": 6,
   "metadata": {},
   "outputs": [
    {
     "data": {
      "text/html": [
       "<table><tr><th>&nbsp;</th><th>core type</th><th>sub-expressions</th><th>expression</th></tr>\n",
       "<tr><td>0</td><td>ExprTuple</td><td>1</td><td><a class=\"ProveItLink\" href=\"expr.ipynb\"><img src=\"expr.png\" style=\"display:inline;vertical-align:middle;\" /></a></td></tr>\n",
       "<tr><td>1</td><td>Lambda</td><td>parameter:&nbsp;30<br>body:&nbsp;3<br></td><td><a class=\"ProveItLink\" href=\"../e2346fe20dee434b547e8c50a16ccf1818f17a630/expr.ipynb\"><img src=\"../e2346fe20dee434b547e8c50a16ccf1818f17a630/expr.png\" style=\"display:inline;vertical-align:middle;\" /></a></td></tr>\n",
       "<tr><td>2</td><td>ExprTuple</td><td>30</td><td><a class=\"ProveItLink\" href=\"../ca565dff2751ea9a3b48fe855133b9e0c2eca83f0/expr.ipynb\"><img src=\"../ca565dff2751ea9a3b48fe855133b9e0c2eca83f0/expr.png\" style=\"display:inline;vertical-align:middle;\" /></a></td></tr>\n",
       "<tr><td>3</td><td>Conditional</td><td>value:&nbsp;4<br>condition:&nbsp;5<br></td><td><a class=\"ProveItLink\" href=\"../e7988a11df6b65edb7839ea644c379bcdfee93790/expr.ipynb\"><img src=\"../e7988a11df6b65edb7839ea644c379bcdfee93790/expr.png\" style=\"display:inline;vertical-align:middle;\" /></a></td></tr>\n",
       "<tr><td>4</td><td>Operation</td><td>operator:&nbsp;6<br>operand:&nbsp;9<br></td><td><a class=\"ProveItLink\" href=\"../645ed8aada4892fae54d66bfb511fd3b404ee5d30/expr.ipynb\"><img src=\"../645ed8aada4892fae54d66bfb511fd3b404ee5d30/expr.png\" style=\"display:inline;vertical-align:middle;\" /></a></td></tr>\n",
       "<tr><td>5</td><td>Operation</td><td>operator:&nbsp;16<br>operands:&nbsp;8<br></td><td><a class=\"ProveItLink\" href=\"../c3c0a0522590e024022c8052cabac138164190560/expr.ipynb\"><img src=\"../c3c0a0522590e024022c8052cabac138164190560/expr.png\" style=\"display:inline;vertical-align:middle;\" /></a></td></tr>\n",
       "<tr><td>6</td><td>Literal</td><td></td><td><a class=\"ProveItLink\" href=\"../../../../../logic/booleans/quantification/universality/__pv_it/common/083d2baa0b8ecab1d230f9ec29a15aa1355809fb0/expr.ipynb\"><img src=\"../../../../../logic/booleans/quantification/universality/__pv_it/common/083d2baa0b8ecab1d230f9ec29a15aa1355809fb0/expr.png\" style=\"display:inline;vertical-align:middle;\" /></a></td></tr>\n",
       "<tr><td>7</td><td>ExprTuple</td><td>9</td><td><a class=\"ProveItLink\" href=\"../2d912eed166001e3796cd228f475a33341ed63560/expr.ipynb\"><img src=\"../2d912eed166001e3796cd228f475a33341ed63560/expr.png\" style=\"display:inline;vertical-align:middle;\" /></a></td></tr>\n",
       "<tr><td>8</td><td>ExprTuple</td><td>30, 10</td><td><a class=\"ProveItLink\" href=\"../4459dda147b56e10026c83203ced1bc32b9704ab0/expr.ipynb\"><img src=\"../4459dda147b56e10026c83203ced1bc32b9704ab0/expr.png\" style=\"display:inline;vertical-align:middle;\" /></a></td></tr>\n",
       "<tr><td>9</td><td>Lambda</td><td>parameters:&nbsp;23<br>body:&nbsp;11<br></td><td><a class=\"ProveItLink\" href=\"../765dae52c6621a8754cadade8615e2e89aed6a3d0/expr.ipynb\"><img src=\"../765dae52c6621a8754cadade8615e2e89aed6a3d0/expr.png\" style=\"display:inline;vertical-align:middle;\" /></a></td></tr>\n",
       "<tr><td>10</td><td>Literal</td><td></td><td><a class=\"ProveItLink\" href=\"../../../../../numbers/number_sets/natural_numbers/__pv_it/common/6111329435c43892c831c4793de96afbf80bdb3e0/expr.ipynb\"><img src=\"../../../../../numbers/number_sets/natural_numbers/__pv_it/common/6111329435c43892c831c4793de96afbf80bdb3e0/expr.png\" style=\"display:inline;vertical-align:middle;\" /></a></td></tr>\n",
       "<tr><td>11</td><td>Conditional</td><td>value:&nbsp;12<br>condition:&nbsp;13<br></td><td><a class=\"ProveItLink\" href=\"../d864b10819d95490000a53efeee0a20c5298f5330/expr.ipynb\"><img src=\"../d864b10819d95490000a53efeee0a20c5298f5330/expr.png\" style=\"display:inline;vertical-align:middle;\" /></a></td></tr>\n",
       "<tr><td>12</td><td>Operation</td><td>operator:&nbsp;14<br>operands:&nbsp;15<br></td><td><a class=\"ProveItLink\" href=\"../09cf118d3e1ffeb17883fa0b31c7e8d9ae60c86b0/expr.ipynb\"><img src=\"../09cf118d3e1ffeb17883fa0b31c7e8d9ae60c86b0/expr.png\" style=\"display:inline;vertical-align:middle;\" /></a></td></tr>\n",
       "<tr><td>13</td><td>Operation</td><td>operator:&nbsp;16<br>operands:&nbsp;17<br></td><td><a class=\"ProveItLink\" href=\"../63af9634b66f367f3269e7420854ff2a4519d0440/expr.ipynb\"><img src=\"../63af9634b66f367f3269e7420854ff2a4519d0440/expr.png\" style=\"display:inline;vertical-align:middle;\" /></a></td></tr>\n",
       "<tr><td>14</td><td>Literal</td><td></td><td><a class=\"ProveItLink\" href=\"../../../../../logic/equality/__pv_it/common/fb96dc12b2aa8801dda64d0132b396c63d1502bb0/expr.ipynb\"><img src=\"../../../../../logic/equality/__pv_it/common/fb96dc12b2aa8801dda64d0132b396c63d1502bb0/expr.png\" style=\"display:inline;vertical-align:middle;\" /></a></td></tr>\n",
       "<tr><td>15</td><td>ExprTuple</td><td>18, 30</td><td><a class=\"ProveItLink\" href=\"../19f0913ddd66bfc4585b8a9c2b8c86fb169679fa0/expr.ipynb\"><img src=\"../19f0913ddd66bfc4585b8a9c2b8c86fb169679fa0/expr.png\" style=\"display:inline;vertical-align:middle;\" /></a></td></tr>\n",
       "<tr><td>16</td><td>Literal</td><td></td><td><a class=\"ProveItLink\" href=\"../../../../../logic/sets/membership/__pv_it/common/477487d8796864d23d5810f83761435f25167f690/expr.ipynb\"><img src=\"../../../../../logic/sets/membership/__pv_it/common/477487d8796864d23d5810f83761435f25167f690/expr.png\" style=\"display:inline;vertical-align:middle;\" /></a></td></tr>\n",
       "<tr><td>17</td><td>ExprTuple</td><td>19, 20</td><td><a class=\"ProveItLink\" href=\"../34d17f28179d26d163f975a635448eec71695f370/expr.ipynb\"><img src=\"../34d17f28179d26d163f975a635448eec71695f370/expr.png\" style=\"display:inline;vertical-align:middle;\" /></a></td></tr>\n",
       "<tr><td>18</td><td>Operation</td><td>operator:&nbsp;21<br>operand:&nbsp;27<br></td><td><a class=\"ProveItLink\" href=\"../b3c793a98ef585d371e0140006ebfafcaccf19d00/expr.ipynb\"><img src=\"../b3c793a98ef585d371e0140006ebfafcaccf19d00/expr.png\" style=\"display:inline;vertical-align:middle;\" /></a></td></tr>\n",
       "<tr><td>19</td><td>Operation</td><td>operator:&nbsp;22<br>operands:&nbsp;23<br></td><td><a class=\"ProveItLink\" href=\"../2703a4a8ca936763f004192f18715656078f90610/expr.ipynb\"><img src=\"../2703a4a8ca936763f004192f18715656078f90610/expr.png\" style=\"display:inline;vertical-align:middle;\" /></a></td></tr>\n",
       "<tr><td>20</td><td>Operation</td><td>operator:&nbsp;24<br>operand:&nbsp;27<br></td><td><a class=\"ProveItLink\" href=\"../063177e8f4aa0b9ea4d06e29019439652725d9e30/expr.ipynb\"><img src=\"../063177e8f4aa0b9ea4d06e29019439652725d9e30/expr.png\" style=\"display:inline;vertical-align:middle;\" /></a></td></tr>\n",
       "<tr><td>21</td><td>Literal</td><td></td><td><a class=\"ProveItLink\" href=\"../../common/94267eee6eefd1df6c3738d53798579e6aa57a550/expr.ipynb\"><img src=\"../../common/94267eee6eefd1df6c3738d53798579e6aa57a550/expr.png\" style=\"display:inline;vertical-align:middle;\" /></a></td></tr>\n",
       "<tr><td>22</td><td>Literal</td><td></td><td><a class=\"ProveItLink\" href=\"../../../../../logic/sets/enumeration/__pv_it/common/0ead90ccbf4f17bc585a51f8aa904bb77916ae6e0/expr.ipynb\"><img src=\"../../../../../logic/sets/enumeration/__pv_it/common/0ead90ccbf4f17bc585a51f8aa904bb77916ae6e0/expr.png\" style=\"display:inline;vertical-align:middle;\" /></a></td></tr>\n",
       "<tr><td>23</td><td>ExprTuple</td><td>26</td><td><a class=\"ProveItLink\" href=\"../e29d2811b42e43e69e77c1c44413b65518ecad320/expr.ipynb\"><img src=\"../e29d2811b42e43e69e77c1c44413b65518ecad320/expr.png\" style=\"display:inline;vertical-align:middle;\" /></a></td></tr>\n",
       "<tr><td>24</td><td>Literal</td><td></td><td><a class=\"ProveItLink\" href=\"../../common/1942a7a268ff58135abbc1364d71e10e4fbb81b70/expr.ipynb\"><img src=\"../../common/1942a7a268ff58135abbc1364d71e10e4fbb81b70/expr.png\" style=\"display:inline;vertical-align:middle;\" /></a></td></tr>\n",
       "<tr><td>25</td><td>ExprTuple</td><td>27</td><td><a class=\"ProveItLink\" href=\"../55d848f1bfb69b7cca09982fc21e7069eabfffad0/expr.ipynb\"><img src=\"../55d848f1bfb69b7cca09982fc21e7069eabfffad0/expr.png\" style=\"display:inline;vertical-align:middle;\" /></a></td></tr>\n",
       "<tr><td>26</td><td>ExprRange</td><td>lambda_map:&nbsp;28<br>start_index:&nbsp;29<br>end_index:&nbsp;30<br></td><td><a class=\"ProveItLink\" href=\"../../../../../core_expr_types/__pv_it/common/d50f819f834d55ea1b9fad150926a94bf07ad8fc0/expr.ipynb\"><img src=\"../../../../../core_expr_types/__pv_it/common/d50f819f834d55ea1b9fad150926a94bf07ad8fc0/expr.png\" style=\"display:inline;vertical-align:middle;\" /></a></td></tr>\n",
       "<tr><td>27</td><td>Variable</td><td></td><td><a class=\"ProveItLink\" href=\"../../../../../__pv_it/common/6d80eb1398b2335bf9ec427954b851b7094dced50/expr.ipynb\"><img src=\"../../../../../__pv_it/common/6d80eb1398b2335bf9ec427954b851b7094dced50/expr.png\" style=\"display:inline;vertical-align:middle;\" /></a></td></tr>\n",
       "<tr><td>28</td><td>Lambda</td><td>parameter:&nbsp;34<br>body:&nbsp;31<br></td><td><a class=\"ProveItLink\" href=\"../../../../../core_expr_types/__pv_it/common/f8f30fee5e5b4e37951ff8886b574795bf35d80c0/expr.ipynb\"><img src=\"../../../../../core_expr_types/__pv_it/common/f8f30fee5e5b4e37951ff8886b574795bf35d80c0/expr.png\" style=\"display:inline;vertical-align:middle;\" /></a></td></tr>\n",
       "<tr><td>29</td><td>Literal</td><td></td><td><a class=\"ProveItLink\" href=\"../../../../../numbers/numerals/__pv_it/common/682157d4892d216d9e5626ed533aff9b56b9506e0/expr.ipynb\"><img src=\"../../../../../numbers/numerals/__pv_it/common/682157d4892d216d9e5626ed533aff9b56b9506e0/expr.png\" style=\"display:inline;vertical-align:middle;\" /></a></td></tr>\n",
       "<tr><td>30</td><td>Variable</td><td></td><td><a class=\"ProveItLink\" href=\"../../../../../__pv_it/common/8968bb04eb3f7dfa02353397ce929b025bbd79c20/expr.ipynb\"><img src=\"../../../../../__pv_it/common/8968bb04eb3f7dfa02353397ce929b025bbd79c20/expr.png\" style=\"display:inline;vertical-align:middle;\" /></a></td></tr>\n",
       "<tr><td>31</td><td>IndexedVar</td><td>variable:&nbsp;32<br>index:&nbsp;34<br></td><td><a class=\"ProveItLink\" href=\"../../../../../core_expr_types/__pv_it/common/b7a46615d4e67a28ab963909b818c72af8e8e7c60/expr.ipynb\"><img src=\"../../../../../core_expr_types/__pv_it/common/b7a46615d4e67a28ab963909b818c72af8e8e7c60/expr.png\" style=\"display:inline;vertical-align:middle;\" /></a></td></tr>\n",
       "<tr><td>32</td><td>Variable</td><td></td><td><a class=\"ProveItLink\" href=\"../../../../../__pv_it/common/a0d9d672aa5e272d907247690c152cc2c6daafb70/expr.ipynb\"><img src=\"../../../../../__pv_it/common/a0d9d672aa5e272d907247690c152cc2c6daafb70/expr.png\" style=\"display:inline;vertical-align:middle;\" /></a></td></tr>\n",
       "<tr><td>33</td><td>ExprTuple</td><td>34</td><td><a class=\"ProveItLink\" href=\"../../../../../core_expr_types/__pv_it/common/4b0dd6be36d76552eda6a95d5b4a27f5a5b62f900/expr.ipynb\"><img src=\"../../../../../core_expr_types/__pv_it/common/4b0dd6be36d76552eda6a95d5b4a27f5a5b62f900/expr.png\" style=\"display:inline;vertical-align:middle;\" /></a></td></tr>\n",
       "<tr><td>34</td><td>Variable</td><td></td><td><a class=\"ProveItLink\" href=\"../../../../../core_expr_types/__pv_it/common/006c465e50948aa2b52285e2de47974f741255cc0/expr.ipynb\"><img src=\"../../../../../core_expr_types/__pv_it/common/006c465e50948aa2b52285e2de47974f741255cc0/expr.png\" style=\"display:inline;vertical-align:middle;\" /></a></td></tr>\n",
       "</table>\n"
      ],
      "text/plain": [
       "0. (n -> {forall_{x_{1}, x_{2}, ..., x_{n} | {x_{1}, x_{2}, ..., x_{n}} in Bases(V)} (Dim(V) = n) if n in NaturalPos.)\n",
       "   core type: ExprTuple\n",
       "   sub-expressions: 1\n",
       "1. n -> {forall_{x_{1}, x_{2}, ..., x_{n} | {x_{1}, x_{2}, ..., x_{n}} in Bases(V)} (Dim(V) = n) if n in NaturalPos.\n",
       "   core type: Lambda\n",
       "   parameter: 30\n",
       "   body: 3\n",
       "2. (n)\n",
       "   core type: ExprTuple\n",
       "   sub-expressions: 30\n",
       "3. {forall_{x_{1}, x_{2}, ..., x_{n} | {x_{1}, x_{2}, ..., x_{n}} in Bases(V)} (Dim(V) = n) if n in NaturalPos.\n",
       "   core type: Conditional\n",
       "   value: 4\n",
       "   condition: 5\n",
       "4. forall_{x_{1}, x_{2}, ..., x_{n} | {x_{1}, x_{2}, ..., x_{n}} in Bases(V)} (Dim(V) = n)\n",
       "   core type: Operation\n",
       "   operator: 6\n",
       "   operand: 9\n",
       "5. n in NaturalPos\n",
       "   core type: Operation\n",
       "   operator: 16\n",
       "   operands: 8\n",
       "6. forall\n",
       "   core type: Literal\n",
       "   sub-expressions: \n",
       "7. ((x_{1}, x_{2}, ..., x_{n}) -> {Dim(V) = n if {x_{1}, x_{2}, ..., x_{n}} in Bases(V).)\n",
       "   core type: ExprTuple\n",
       "   sub-expressions: 9\n",
       "8. (n, NaturalPos)\n",
       "   core type: ExprTuple\n",
       "   sub-expressions: 30, 10\n",
       "9. (x_{1}, x_{2}, ..., x_{n}) -> {Dim(V) = n if {x_{1}, x_{2}, ..., x_{n}} in Bases(V).\n",
       "   core type: Lambda\n",
       "   parameters: 23\\n   body: 11\n",
       "10. NaturalPos\n",
       "    core type: Literal\n",
       "    sub-expressions: \n",
       "11. {Dim(V) = n if {x_{1}, x_{2}, ..., x_{n}} in Bases(V).\n",
       "    core type: Conditional\n",
       "    value: 12\n",
       "    condition: 13\n",
       "12. Dim(V) = n\n",
       "    core type: Operation\n",
       "    operator: 14\n",
       "    operands: 15\n",
       "13. {x_{1}, x_{2}, ..., x_{n}} in Bases(V)\n",
       "    core type: Operation\n",
       "    operator: 16\n",
       "    operands: 17\n",
       "14. =\n",
       "    core type: Literal\n",
       "    sub-expressions: \n",
       "15. (Dim(V), n)\n",
       "    core type: ExprTuple\n",
       "    sub-expressions: 18, 30\n",
       "16. in\n",
       "    core type: Literal\n",
       "    sub-expressions: \n",
       "17. ({x_{1}, x_{2}, ..., x_{n}}, Bases(V))\n",
       "    core type: ExprTuple\n",
       "    sub-expressions: 19, 20\n",
       "18. Dim(V)\n",
       "    core type: Operation\n",
       "    operator: 21\n",
       "    operand: 27\n",
       "19. {x_{1}, x_{2}, ..., x_{n}}\n",
       "    core type: Operation\n",
       "    operator: 22\n",
       "    operands: 23\n",
       "20. Bases(V)\n",
       "    core type: Operation\n",
       "    operator: 24\n",
       "    operand: 27\n",
       "21. Dim\n",
       "    core type: Literal\n",
       "    sub-expressions: \n",
       "22. Set\n",
       "    core type: Literal\n",
       "    sub-expressions: \n",
       "23. (x_{1}, x_{2}, ..., x_{n})\n",
       "    core type: ExprTuple\n",
       "    sub-expressions: 26\n",
       "24. Bases\n",
       "    core type: Literal\n",
       "    sub-expressions: \n",
       "25. (V)\n",
       "    core type: ExprTuple\n",
       "    sub-expressions: 27\n",
       "26. x_{1}, x_{2}, ..., x_{n}\n",
       "    core type: ExprRange\n",
       "    lambda_map: 28\n",
       "    start_index: 29\n",
       "    end_index: 30\n",
       "27. V\n",
       "    core type: Variable\n",
       "    sub-expressions: \n",
       "28. _a -> x_{_a}\n",
       "    core type: Lambda\n",
       "    parameter: 34\n",
       "    body: 31\n",
       "29. 1\n",
       "    core type: Literal\n",
       "    sub-expressions: \n",
       "30. n\n",
       "    core type: Variable\n",
       "    sub-expressions: \n",
       "31. x_{_a}\n",
       "    core type: IndexedVar\n",
       "variable: 32\n",
       "index: 34\n",
       "32. x\n",
       "    core type: Variable\n",
       "    sub-expressions: \n",
       "33. (_a)\n",
       "    core type: ExprTuple\n",
       "    sub-expressions: 34\n",
       "34. _a\n",
       "    core type: Variable\n",
       "    sub-expressions: "
      ]
     },
     "metadata": {},
     "output_type": "display_data"
    }
   ],
   "source": [
    "# display the expression information\n",
    "stored_expr.expr_info()"
   ]
  },
  {
   "cell_type": "code",
   "execution_count": null,
   "metadata": {},
   "outputs": [],
   "source": []
  }
 ],
 "metadata": {
  "kernelspec": {
   "display_name": "Python 3",
   "language": "python",
   "name": "python3"
  }
 },
 "nbformat": 4,
 "nbformat_minor": 0
}