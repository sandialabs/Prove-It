{
 "cells": [
  {
   "cell_type": "markdown",
   "metadata": {},
   "source": [
    "Expression of type <a class=\"ProveItLink\" href=\"../../../../../../../doc/html/api/proveit.Conditional.html\">Conditional</a>\n",
    "=======================\n",
    "# from the theory of <a class=\"ProveItLink\" href=\"../../../_theory_nbs_/theory.ipynb\">proveit.linear_algebra.vector_sets</a>"
   ]
  },
  {
   "cell_type": "code",
   "execution_count": 1,
   "metadata": {},
   "outputs": [],
   "source": [
    "import proveit\n",
    "# Automation is not needed when building an expression:\n",
    "proveit.defaults.automation = False # This will speed things up.\n",
    "proveit.defaults.inline_pngs = False # Makes files smaller.\n",
    "%load_expr # Load the stored expression as 'stored_expr'\n",
    "# import Expression classes needed to build the expression\n",
    "from proveit import Conditional, ExprRange, IndexedVar, V, Variable, n, x\n",
    "from proveit.core_expr_types import x_1_to_n\n",
    "from proveit.linear_algebra import Bases, LinDepSets, SpanningSets\n",
    "from proveit.logic import And, Equals, InSet, NotInSet, Set\n",
    "from proveit.numbers import one"
   ]
  },
  {
   "cell_type": "code",
   "execution_count": 2,
   "metadata": {},
   "outputs": [
    {
     "data": {
      "text/html": [
       "<strong id=\"expr\">expr:</strong> <a class=\"ProveItLink\" href=\"expr.ipynb\"><img src=\"expr.png\" style=\"display:inline;vertical-align:middle;\" /></a><br>"
      ],
      "text/plain": [
       "<IPython.core.display.HTML object>"
      ]
     },
     "metadata": {},
     "output_type": "display_data"
    }
   ],
   "source": [
    "# build up the expression from sub-expressions\n",
    "sub_expr1 = Variable(\"_a\", latex_format = r\"{_{-}a}\")\n",
    "sub_expr2 = Set(x_1_to_n)\n",
    "expr = Conditional(Equals(InSet(sub_expr2, Bases(V)), And(InSet(sub_expr2, SpanningSets(V)), NotInSet(sub_expr2, LinDepSets(V))).with_wrapping_at(2)).with_wrapping_at(2), And(ExprRange(sub_expr1, InSet(IndexedVar(x, sub_expr1), V), one, n)))"
   ]
  },
  {
   "cell_type": "code",
   "execution_count": 3,
   "metadata": {},
   "outputs": [
    {
     "name": "stdout",
     "output_type": "stream",
     "text": [
      "Passed sanity check: expr matches stored_expr\n"
     ]
    }
   ],
   "source": [
    "# check that the built expression is the same as the stored expression\n",
    "assert expr == stored_expr\n",
    "assert expr._style_id == stored_expr._style_id\n",
    "print(\"Passed sanity check: expr matches stored_expr\")"
   ]
  },
  {
   "cell_type": "code",
   "execution_count": 4,
   "metadata": {},
   "outputs": [
    {
     "name": "stdout",
     "output_type": "stream",
     "text": [
      "\\left\\{\\begin{array}{c} \\begin{array}{l} \\left(\\left\\{x_{1}, x_{2}, \\ldots, x_{n}\\right\\} \\in \\textrm{Bases}\\left(V\\right)\\right) =  \\\\ \\left(\\begin{array}{c} \\left(\\left\\{x_{1}, x_{2}, \\ldots, x_{n}\\right\\} \\in \\textrm{SpanningSets}\\left(V\\right)\\right) \\land  \\\\ \\left(\\left\\{x_{1}, x_{2}, \\ldots, x_{n}\\right\\} \\notin \\textrm{LinDepSets}\\left(V\\right)\\right) \\end{array}\\right) \\end{array} \\end{array} \\textrm{ if } \\left(x_{1} \\in V\\right) \\land  \\left(x_{2} \\in V\\right) \\land  \\ldots \\land  \\left(x_{n} \\in V\\right)\\right..\n"
     ]
    }
   ],
   "source": [
    "# Show the LaTeX representation of the expression for convenience if you need it.\n",
    "print(stored_expr.latex())"
   ]
  },
  {
   "cell_type": "code",
   "execution_count": 5,
   "metadata": {},
   "outputs": [
    {
     "data": {
      "text/html": [
       "<table>\n",
       "<tr><th>name</th><th>description</th><th>default</th><th>current value</th><th>related methods</th></tr><tr><td>condition_delimiter</td><td>'comma' or 'and'</td><td>comma</td><td>comma</td><td>('with_comma_delimiter', 'with_conjunction_delimiter')</td></tr>\n",
       "</table>\n"
      ],
      "text/plain": [
       "style name: condition_delimiter\n",
       "description: 'comma' or 'and'\n",
       "default: comma\n",
       "current value: comma\n",
       "related methods: ('with_comma_delimiter', 'with_conjunction_delimiter')"
      ]
     },
     "metadata": {},
     "output_type": "display_data"
    }
   ],
   "source": [
    "stored_expr.style_options()"
   ]
  },
  {
   "cell_type": "code",
   "execution_count": 6,
   "metadata": {},
   "outputs": [
    {
     "data": {
      "text/html": [
       "<table><tr><th>&nbsp;</th><th>core type</th><th>sub-expressions</th><th>expression</th></tr>\n",
       "<tr><td>0</td><td>Conditional</td><td>value:&nbsp;1<br>condition:&nbsp;2<br></td><td><a class=\"ProveItLink\" href=\"expr.ipynb\"><img src=\"expr.png\" style=\"display:inline;vertical-align:middle;\" /></a></td></tr>\n",
       "<tr><td>1</td><td>Operation</td><td>operator:&nbsp;3<br>operands:&nbsp;4<br></td><td><a class=\"ProveItLink\" href=\"../a4a06a936a70d6423f5d612d1f5c23565757071e0/expr.ipynb\"><img src=\"../a4a06a936a70d6423f5d612d1f5c23565757071e0/expr.png\" style=\"display:inline;vertical-align:middle;\" /></a></td></tr>\n",
       "<tr><td>2</td><td>Operation</td><td>operator:&nbsp;10<br>operands:&nbsp;5<br></td><td><a class=\"ProveItLink\" href=\"../c159e4f0572bab79530c9297486def0937c103e10/expr.ipynb\"><img src=\"../c159e4f0572bab79530c9297486def0937c103e10/expr.png\" style=\"display:inline;vertical-align:middle;\" /></a></td></tr>\n",
       "<tr><td>3</td><td>Literal</td><td></td><td><a class=\"ProveItLink\" href=\"../../../../../logic/equality/__pv_it/common/fb96dc12b2aa8801dda64d0132b396c63d1502bb0/expr.ipynb\"><img src=\"../../../../../logic/equality/__pv_it/common/fb96dc12b2aa8801dda64d0132b396c63d1502bb0/expr.png\" style=\"display:inline;vertical-align:middle;\" /></a></td></tr>\n",
       "<tr><td>4</td><td>ExprTuple</td><td>6, 7</td><td><a class=\"ProveItLink\" href=\"../5cbfead1e5ae8348282dec7c1c254d41f08eacd50/expr.ipynb\"><img src=\"../5cbfead1e5ae8348282dec7c1c254d41f08eacd50/expr.png\" style=\"display:inline;vertical-align:middle;\" /></a></td></tr>\n",
       "<tr><td>5</td><td>ExprTuple</td><td>8</td><td><a class=\"ProveItLink\" href=\"../bda27d7e6401cc0d559e86001d7ef54de88509cf0/expr.ipynb\"><img src=\"../bda27d7e6401cc0d559e86001d7ef54de88509cf0/expr.png\" style=\"display:inline;vertical-align:middle;\" /></a></td></tr>\n",
       "<tr><td>6</td><td>Operation</td><td>operator:&nbsp;21<br>operands:&nbsp;9<br></td><td><a class=\"ProveItLink\" href=\"../63af9634b66f367f3269e7420854ff2a4519d0440/expr.ipynb\"><img src=\"../63af9634b66f367f3269e7420854ff2a4519d0440/expr.png\" style=\"display:inline;vertical-align:middle;\" /></a></td></tr>\n",
       "<tr><td>7</td><td>Operation</td><td>operator:&nbsp;10<br>operands:&nbsp;11<br></td><td><a class=\"ProveItLink\" href=\"../0316025a64580352e68d07982ff96f5a3f37b7fe0/expr.ipynb\"><img src=\"../0316025a64580352e68d07982ff96f5a3f37b7fe0/expr.png\" style=\"display:inline;vertical-align:middle;\" /></a></td></tr>\n",
       "<tr><td>8</td><td>ExprRange</td><td>lambda_map:&nbsp;12<br>start_index:&nbsp;34<br>end_index:&nbsp;35<br></td><td><a class=\"ProveItLink\" href=\"../a197b4832199fbc9b1832f0fe5a5a543c7fffd920/expr.ipynb\"><img src=\"../a197b4832199fbc9b1832f0fe5a5a543c7fffd920/expr.png\" style=\"display:inline;vertical-align:middle;\" /></a></td></tr>\n",
       "<tr><td>9</td><td>ExprTuple</td><td>24, 13</td><td><a class=\"ProveItLink\" href=\"../34d17f28179d26d163f975a635448eec71695f370/expr.ipynb\"><img src=\"../34d17f28179d26d163f975a635448eec71695f370/expr.png\" style=\"display:inline;vertical-align:middle;\" /></a></td></tr>\n",
       "<tr><td>10</td><td>Literal</td><td></td><td><a class=\"ProveItLink\" href=\"../../../../../logic/booleans/conjunction/__pv_it/common/42118ff318bd65d98b1393f64ce7c2269feef76e0/expr.ipynb\"><img src=\"../../../../../logic/booleans/conjunction/__pv_it/common/42118ff318bd65d98b1393f64ce7c2269feef76e0/expr.png\" style=\"display:inline;vertical-align:middle;\" /></a></td></tr>\n",
       "<tr><td>11</td><td>ExprTuple</td><td>14, 15</td><td><a class=\"ProveItLink\" href=\"../743e6f19202df42e4eb56b5e72acf202376ffb1c0/expr.ipynb\"><img src=\"../743e6f19202df42e4eb56b5e72acf202376ffb1c0/expr.png\" style=\"display:inline;vertical-align:middle;\" /></a></td></tr>\n",
       "<tr><td>12</td><td>Lambda</td><td>parameter:&nbsp;39<br>body:&nbsp;16<br></td><td><a class=\"ProveItLink\" href=\"../944b3cf10cf54768fa11a115dc999b1b120c109a0/expr.ipynb\"><img src=\"../944b3cf10cf54768fa11a115dc999b1b120c109a0/expr.png\" style=\"display:inline;vertical-align:middle;\" /></a></td></tr>\n",
       "<tr><td>13</td><td>Operation</td><td>operator:&nbsp;17<br>operand:&nbsp;32<br></td><td><a class=\"ProveItLink\" href=\"../063177e8f4aa0b9ea4d06e29019439652725d9e30/expr.ipynb\"><img src=\"../063177e8f4aa0b9ea4d06e29019439652725d9e30/expr.png\" style=\"display:inline;vertical-align:middle;\" /></a></td></tr>\n",
       "<tr><td>14</td><td>Operation</td><td>operator:&nbsp;21<br>operands:&nbsp;18<br></td><td><a class=\"ProveItLink\" href=\"../89ba7cadfc62fa0e51c5ebabc4ccaf07edc753350/expr.ipynb\"><img src=\"../89ba7cadfc62fa0e51c5ebabc4ccaf07edc753350/expr.png\" style=\"display:inline;vertical-align:middle;\" /></a></td></tr>\n",
       "<tr><td>15</td><td>Operation</td><td>operator:&nbsp;19<br>operands:&nbsp;20<br></td><td><a class=\"ProveItLink\" href=\"../ca9c6dfd838e85f13f157ebee0f38ff23e6608050/expr.ipynb\"><img src=\"../ca9c6dfd838e85f13f157ebee0f38ff23e6608050/expr.png\" style=\"display:inline;vertical-align:middle;\" /></a></td></tr>\n",
       "<tr><td>16</td><td>Operation</td><td>operator:&nbsp;21<br>operands:&nbsp;22<br></td><td><a class=\"ProveItLink\" href=\"../8953e19f3f675e8ad9d422fd6d08dae73d4b5cdf0/expr.ipynb\"><img src=\"../8953e19f3f675e8ad9d422fd6d08dae73d4b5cdf0/expr.png\" style=\"display:inline;vertical-align:middle;\" /></a></td></tr>\n",
       "<tr><td>17</td><td>Literal</td><td></td><td><a class=\"ProveItLink\" href=\"../../common/1942a7a268ff58135abbc1364d71e10e4fbb81b70/expr.ipynb\"><img src=\"../../common/1942a7a268ff58135abbc1364d71e10e4fbb81b70/expr.png\" style=\"display:inline;vertical-align:middle;\" /></a></td></tr>\n",
       "<tr><td>18</td><td>ExprTuple</td><td>24, 23</td><td><a class=\"ProveItLink\" href=\"../a370d73e41d1df9f577363566392aa8c74f52fd50/expr.ipynb\"><img src=\"../a370d73e41d1df9f577363566392aa8c74f52fd50/expr.png\" style=\"display:inline;vertical-align:middle;\" /></a></td></tr>\n",
       "<tr><td>19</td><td>Literal</td><td></td><td><a class=\"ProveItLink\" href=\"../../../../../logic/sets/membership/__pv_it/common/f4affea88ec78899b0259567586c16d1e6a484950/expr.ipynb\"><img src=\"../../../../../logic/sets/membership/__pv_it/common/f4affea88ec78899b0259567586c16d1e6a484950/expr.png\" style=\"display:inline;vertical-align:middle;\" /></a></td></tr>\n",
       "<tr><td>20</td><td>ExprTuple</td><td>24, 25</td><td><a class=\"ProveItLink\" href=\"../4bd3fa86abf9def8f472f994cd5b89bdd28bc9480/expr.ipynb\"><img src=\"../4bd3fa86abf9def8f472f994cd5b89bdd28bc9480/expr.png\" style=\"display:inline;vertical-align:middle;\" /></a></td></tr>\n",
       "<tr><td>21</td><td>Literal</td><td></td><td><a class=\"ProveItLink\" href=\"../../../../../logic/sets/membership/__pv_it/common/477487d8796864d23d5810f83761435f25167f690/expr.ipynb\"><img src=\"../../../../../logic/sets/membership/__pv_it/common/477487d8796864d23d5810f83761435f25167f690/expr.png\" style=\"display:inline;vertical-align:middle;\" /></a></td></tr>\n",
       "<tr><td>22</td><td>ExprTuple</td><td>36, 32</td><td><a class=\"ProveItLink\" href=\"../59bb6a4405200695227d7b61f898fd96e8fa89450/expr.ipynb\"><img src=\"../59bb6a4405200695227d7b61f898fd96e8fa89450/expr.png\" style=\"display:inline;vertical-align:middle;\" /></a></td></tr>\n",
       "<tr><td>23</td><td>Operation</td><td>operator:&nbsp;26<br>operand:&nbsp;32<br></td><td><a class=\"ProveItLink\" href=\"../7c22e3fc0ae0d6ecab7d555a950c4457838453520/expr.ipynb\"><img src=\"../7c22e3fc0ae0d6ecab7d555a950c4457838453520/expr.png\" style=\"display:inline;vertical-align:middle;\" /></a></td></tr>\n",
       "<tr><td>24</td><td>Operation</td><td>operator:&nbsp;27<br>operands:&nbsp;28<br></td><td><a class=\"ProveItLink\" href=\"../2703a4a8ca936763f004192f18715656078f90610/expr.ipynb\"><img src=\"../2703a4a8ca936763f004192f18715656078f90610/expr.png\" style=\"display:inline;vertical-align:middle;\" /></a></td></tr>\n",
       "<tr><td>25</td><td>Operation</td><td>operator:&nbsp;29<br>operand:&nbsp;32<br></td><td><a class=\"ProveItLink\" href=\"../d88af72266f552eec9b6ce6d5e303cbe0bfcd6220/expr.ipynb\"><img src=\"../d88af72266f552eec9b6ce6d5e303cbe0bfcd6220/expr.png\" style=\"display:inline;vertical-align:middle;\" /></a></td></tr>\n",
       "<tr><td>26</td><td>Literal</td><td></td><td><a class=\"ProveItLink\" href=\"../../common/b689002979d1daa229f473d9b51b68d33aabe51e0/expr.ipynb\"><img src=\"../../common/b689002979d1daa229f473d9b51b68d33aabe51e0/expr.png\" style=\"display:inline;vertical-align:middle;\" /></a></td></tr>\n",
       "<tr><td>27</td><td>Literal</td><td></td><td><a class=\"ProveItLink\" href=\"../../../../../logic/sets/enumeration/__pv_it/common/0ead90ccbf4f17bc585a51f8aa904bb77916ae6e0/expr.ipynb\"><img src=\"../../../../../logic/sets/enumeration/__pv_it/common/0ead90ccbf4f17bc585a51f8aa904bb77916ae6e0/expr.png\" style=\"display:inline;vertical-align:middle;\" /></a></td></tr>\n",
       "<tr><td>28</td><td>ExprTuple</td><td>31</td><td><a class=\"ProveItLink\" href=\"../e29d2811b42e43e69e77c1c44413b65518ecad320/expr.ipynb\"><img src=\"../e29d2811b42e43e69e77c1c44413b65518ecad320/expr.png\" style=\"display:inline;vertical-align:middle;\" /></a></td></tr>\n",
       "<tr><td>29</td><td>Literal</td><td></td><td><a class=\"ProveItLink\" href=\"../../common/7c69d44c8fc9868e256edd294e429e98fbadec370/expr.ipynb\"><img src=\"../../common/7c69d44c8fc9868e256edd294e429e98fbadec370/expr.png\" style=\"display:inline;vertical-align:middle;\" /></a></td></tr>\n",
       "<tr><td>30</td><td>ExprTuple</td><td>32</td><td><a class=\"ProveItLink\" href=\"../55d848f1bfb69b7cca09982fc21e7069eabfffad0/expr.ipynb\"><img src=\"../55d848f1bfb69b7cca09982fc21e7069eabfffad0/expr.png\" style=\"display:inline;vertical-align:middle;\" /></a></td></tr>\n",
       "<tr><td>31</td><td>ExprRange</td><td>lambda_map:&nbsp;33<br>start_index:&nbsp;34<br>end_index:&nbsp;35<br></td><td><a class=\"ProveItLink\" href=\"../../../../../core_expr_types/__pv_it/common/d50f819f834d55ea1b9fad150926a94bf07ad8fc0/expr.ipynb\"><img src=\"../../../../../core_expr_types/__pv_it/common/d50f819f834d55ea1b9fad150926a94bf07ad8fc0/expr.png\" style=\"display:inline;vertical-align:middle;\" /></a></td></tr>\n",
       "<tr><td>32</td><td>Variable</td><td></td><td><a class=\"ProveItLink\" href=\"../../../../../__pv_it/common/6d80eb1398b2335bf9ec427954b851b7094dced50/expr.ipynb\"><img src=\"../../../../../__pv_it/common/6d80eb1398b2335bf9ec427954b851b7094dced50/expr.png\" style=\"display:inline;vertical-align:middle;\" /></a></td></tr>\n",
       "<tr><td>33</td><td>Lambda</td><td>parameter:&nbsp;39<br>body:&nbsp;36<br></td><td><a class=\"ProveItLink\" href=\"../../../../../core_expr_types/__pv_it/common/f8f30fee5e5b4e37951ff8886b574795bf35d80c0/expr.ipynb\"><img src=\"../../../../../core_expr_types/__pv_it/common/f8f30fee5e5b4e37951ff8886b574795bf35d80c0/expr.png\" style=\"display:inline;vertical-align:middle;\" /></a></td></tr>\n",
       "<tr><td>34</td><td>Literal</td><td></td><td><a class=\"ProveItLink\" href=\"../../../../../numbers/numerals/__pv_it/common/682157d4892d216d9e5626ed533aff9b56b9506e0/expr.ipynb\"><img src=\"../../../../../numbers/numerals/__pv_it/common/682157d4892d216d9e5626ed533aff9b56b9506e0/expr.png\" style=\"display:inline;vertical-align:middle;\" /></a></td></tr>\n",
       "<tr><td>35</td><td>Variable</td><td></td><td><a class=\"ProveItLink\" href=\"../../../../../__pv_it/common/8968bb04eb3f7dfa02353397ce929b025bbd79c20/expr.ipynb\"><img src=\"../../../../../__pv_it/common/8968bb04eb3f7dfa02353397ce929b025bbd79c20/expr.png\" style=\"display:inline;vertical-align:middle;\" /></a></td></tr>\n",
       "<tr><td>36</td><td>IndexedVar</td><td>variable:&nbsp;37<br>index:&nbsp;39<br></td><td><a class=\"ProveItLink\" href=\"../../../../../core_expr_types/__pv_it/common/b7a46615d4e67a28ab963909b818c72af8e8e7c60/expr.ipynb\"><img src=\"../../../../../core_expr_types/__pv_it/common/b7a46615d4e67a28ab963909b818c72af8e8e7c60/expr.png\" style=\"display:inline;vertical-align:middle;\" /></a></td></tr>\n",
       "<tr><td>37</td><td>Variable</td><td></td><td><a class=\"ProveItLink\" href=\"../../../../../__pv_it/common/a0d9d672aa5e272d907247690c152cc2c6daafb70/expr.ipynb\"><img src=\"../../../../../__pv_it/common/a0d9d672aa5e272d907247690c152cc2c6daafb70/expr.png\" style=\"display:inline;vertical-align:middle;\" /></a></td></tr>\n",
       "<tr><td>38</td><td>ExprTuple</td><td>39</td><td><a class=\"ProveItLink\" href=\"../../../../../core_expr_types/__pv_it/common/4b0dd6be36d76552eda6a95d5b4a27f5a5b62f900/expr.ipynb\"><img src=\"../../../../../core_expr_types/__pv_it/common/4b0dd6be36d76552eda6a95d5b4a27f5a5b62f900/expr.png\" style=\"display:inline;vertical-align:middle;\" /></a></td></tr>\n",
       "<tr><td>39</td><td>Variable</td><td></td><td><a class=\"ProveItLink\" href=\"../../../../../core_expr_types/__pv_it/common/006c465e50948aa2b52285e2de47974f741255cc0/expr.ipynb\"><img src=\"../../../../../core_expr_types/__pv_it/common/006c465e50948aa2b52285e2de47974f741255cc0/expr.png\" style=\"display:inline;vertical-align:middle;\" /></a></td></tr>\n",
       "</table>\n"
      ],
      "text/plain": [
       "0. {({x_{1}, x_{2}, ..., x_{n}} in Bases(V)) =  \\\\ (({x_{1}, x_{2}, ..., x_{n}} in SpanningSets(V)) and  \\\\ ({x_{1}, x_{2}, ..., x_{n}} not-in LinDepSets(V))) if (x_{1} in V) and  (x_{2} in V) and  ... and  (x_{n} in V).\n",
       "   core type: Conditional\n",
       "   value: 1\n",
       "   condition: 2\n",
       "1. ({x_{1}, x_{2}, ..., x_{n}} in Bases(V)) =  \\\\ (({x_{1}, x_{2}, ..., x_{n}} in SpanningSets(V)) and  \\\\ ({x_{1}, x_{2}, ..., x_{n}} not-in LinDepSets(V)))\n",
       "   core type: Operation\n",
       "   operator: 3\n",
       "   operands: 4\n",
       "2. (x_{1} in V) and  (x_{2} in V) and  ... and  (x_{n} in V)\n",
       "   core type: Operation\n",
       "   operator: 10\n",
       "   operands: 5\n",
       "3. =\n",
       "   core type: Literal\n",
       "   sub-expressions: \n",
       "4. ({x_{1}, x_{2}, ..., x_{n}} in Bases(V), ({x_{1}, x_{2}, ..., x_{n}} in SpanningSets(V)) and  \\\\ ({x_{1}, x_{2}, ..., x_{n}} not-in LinDepSets(V)))\n",
       "   core type: ExprTuple\n",
       "   sub-expressions: 6, 7\n",
       "5. ((x_{1} in V), (x_{2} in V), ..., (x_{n} in V))\n",
       "   core type: ExprTuple\n",
       "   sub-expressions: 8\n",
       "6. {x_{1}, x_{2}, ..., x_{n}} in Bases(V)\n",
       "   core type: Operation\n",
       "   operator: 21\n",
       "   operands: 9\n",
       "7. ({x_{1}, x_{2}, ..., x_{n}} in SpanningSets(V)) and  \\\\ ({x_{1}, x_{2}, ..., x_{n}} not-in LinDepSets(V))\n",
       "   core type: Operation\n",
       "   operator: 10\n",
       "   operands: 11\n",
       "8. (x_{1} in V), (x_{2} in V), ..., (x_{n} in V)\n",
       "   core type: ExprRange\n",
       "   lambda_map: 12\n",
       "   start_index: 34\n",
       "   end_index: 35\n",
       "9. ({x_{1}, x_{2}, ..., x_{n}}, Bases(V))\n",
       "   core type: ExprTuple\n",
       "   sub-expressions: 24, 13\n",
       "10. and\n",
       "    core type: Literal\n",
       "    sub-expressions: \n",
       "11. ({x_{1}, x_{2}, ..., x_{n}} in SpanningSets(V), {x_{1}, x_{2}, ..., x_{n}} not-in LinDepSets(V))\n",
       "    core type: ExprTuple\n",
       "    sub-expressions: 14, 15\n",
       "12. _a -> (x_{_a} in V)\n",
       "    core type: Lambda\n",
       "    parameter: 39\n",
       "    body: 16\n",
       "13. Bases(V)\n",
       "    core type: Operation\n",
       "    operator: 17\n",
       "    operand: 32\n",
       "14. {x_{1}, x_{2}, ..., x_{n}} in SpanningSets(V)\n",
       "    core type: Operation\n",
       "    operator: 21\n",
       "    operands: 18\n",
       "15. {x_{1}, x_{2}, ..., x_{n}} not-in LinDepSets(V)\n",
       "    core type: Operation\n",
       "    operator: 19\n",
       "    operands: 20\n",
       "16. x_{_a} in V\n",
       "    core type: Operation\n",
       "    operator: 21\n",
       "    operands: 22\n",
       "17. Bases\n",
       "    core type: Literal\n",
       "    sub-expressions: \n",
       "18. ({x_{1}, x_{2}, ..., x_{n}}, SpanningSets(V))\n",
       "    core type: ExprTuple\n",
       "    sub-expressions: 24, 23\n",
       "19. not-in\n",
       "    core type: Literal\n",
       "    sub-expressions: \n",
       "20. ({x_{1}, x_{2}, ..., x_{n}}, LinDepSets(V))\n",
       "    core type: ExprTuple\n",
       "    sub-expressions: 24, 25\n",
       "21. in\n",
       "    core type: Literal\n",
       "    sub-expressions: \n",
       "22. (x_{_a}, V)\n",
       "    core type: ExprTuple\n",
       "    sub-expressions: 36, 32\n",
       "23. SpanningSets(V)\n",
       "    core type: Operation\n",
       "    operator: 26\n",
       "    operand: 32\n",
       "24. {x_{1}, x_{2}, ..., x_{n}}\n",
       "    core type: Operation\n",
       "    operator: 27\n",
       "    operands: 28\n",
       "25. LinDepSets(V)\n",
       "    core type: Operation\n",
       "    operator: 29\n",
       "    operand: 32\n",
       "26. SpanningSets\n",
       "    core type: Literal\n",
       "    sub-expressions: \n",
       "27. Set\n",
       "    core type: Literal\n",
       "    sub-expressions: \n",
       "28. (x_{1}, x_{2}, ..., x_{n})\n",
       "    core type: ExprTuple\n",
       "    sub-expressions: 31\n",
       "29. LinDepSets\n",
       "    core type: Literal\n",
       "    sub-expressions: \n",
       "30. (V)\n",
       "    core type: ExprTuple\n",
       "    sub-expressions: 32\n",
       "31. x_{1}, x_{2}, ..., x_{n}\n",
       "    core type: ExprRange\n",
       "    lambda_map: 33\n",
       "    start_index: 34\n",
       "    end_index: 35\n",
       "32. V\n",
       "    core type: Variable\n",
       "    sub-expressions: \n",
       "33. _a -> x_{_a}\n",
       "    core type: Lambda\n",
       "    parameter: 39\n",
       "    body: 36\n",
       "34. 1\n",
       "    core type: Literal\n",
       "    sub-expressions: \n",
       "35. n\n",
       "    core type: Variable\n",
       "    sub-expressions: \n",
       "36. x_{_a}\n",
       "    core type: IndexedVar\n",
       "variable: 37\n",
       "index: 39\n",
       "37. x\n",
       "    core type: Variable\n",
       "    sub-expressions: \n",
       "38. (_a)\n",
       "    core type: ExprTuple\n",
       "    sub-expressions: 39\n",
       "39. _a\n",
       "    core type: Variable\n",
       "    sub-expressions: "
      ]
     },
     "metadata": {},
     "output_type": "display_data"
    }
   ],
   "source": [
    "# display the expression information\n",
    "stored_expr.expr_info()"
   ]
  },
  {
   "cell_type": "code",
   "execution_count": null,
   "metadata": {},
   "outputs": [],
   "source": []
  }
 ],
 "metadata": {
  "kernelspec": {
   "display_name": "Python 3",
   "language": "python",
   "name": "python3"
  }
 },
 "nbformat": 4,
 "nbformat_minor": 0
}