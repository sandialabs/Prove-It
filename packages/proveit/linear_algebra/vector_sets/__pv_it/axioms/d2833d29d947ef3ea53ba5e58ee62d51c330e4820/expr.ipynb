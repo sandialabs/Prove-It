{
 "cells": [
  {
   "cell_type": "markdown",
   "metadata": {},
   "source": [
    "Expression of type <a class=\"ProveItLink\" href=\"../../../../../../../doc/html/api/proveit.Lambda.html\">Lambda</a>\n",
    "=======================\n",
    "# from the theory of <a class=\"ProveItLink\" href=\"../../../_theory_nbs_/theory.ipynb\">proveit.linear_algebra.vector_sets</a>"
   ]
  },
  {
   "cell_type": "code",
   "execution_count": 1,
   "metadata": {},
   "outputs": [],
   "source": [
    "import proveit\n",
    "# Automation is not needed when building an expression:\n",
    "proveit.defaults.automation = False # This will speed things up.\n",
    "proveit.defaults.inline_pngs = False # Makes files smaller.\n",
    "%load_expr # Load the stored expression as 'stored_expr'\n",
    "# import Expression classes needed to build the expression\n",
    "from proveit import Conditional, ExprRange, IndexedVar, K, Lambda, V, Variable, a, n\n",
    "from proveit.core_expr_types import a_1_to_n\n",
    "from proveit.linear_algebra import VecZero, lin_comb_axn, some_nonzero_a\n",
    "from proveit.logic import And, Equals, InSet\n",
    "from proveit.numbers import one"
   ]
  },
  {
   "cell_type": "code",
   "execution_count": 2,
   "metadata": {},
   "outputs": [
    {
     "data": {
      "text/html": [
       "<strong id=\"expr\">expr:</strong> <a class=\"ProveItLink\" href=\"expr.ipynb\"><img src=\"expr.png\" style=\"display:inline;vertical-align:middle;\" /></a><br>"
      ],
      "text/plain": [
       "<IPython.core.display.HTML object>"
      ]
     },
     "metadata": {},
     "output_type": "display_data"
    }
   ],
   "source": [
    "# build up the expression from sub-expressions\n",
    "sub_expr1 = Variable(\"_a\", latex_format = r\"{_{-}a}\")\n",
    "expr = Lambda([a_1_to_n], Conditional(Equals(lin_comb_axn, VecZero(V)), And(ExprRange(sub_expr1, InSet(IndexedVar(a, sub_expr1), K), one, n), some_nonzero_a)))"
   ]
  },
  {
   "cell_type": "code",
   "execution_count": 3,
   "metadata": {},
   "outputs": [
    {
     "name": "stdout",
     "output_type": "stream",
     "text": [
      "Passed sanity check: expr matches stored_expr\n"
     ]
    }
   ],
   "source": [
    "# check that the built expression is the same as the stored expression\n",
    "assert expr == stored_expr\n",
    "assert expr._style_id == stored_expr._style_id\n",
    "print(\"Passed sanity check: expr matches stored_expr\")"
   ]
  },
  {
   "cell_type": "code",
   "execution_count": 4,
   "metadata": {},
   "outputs": [
    {
     "name": "stdout",
     "output_type": "stream",
     "text": [
      "\\left(a_{1}, a_{2}, \\ldots, a_{n}\\right) \\mapsto \\left\\{\\left(\\left(a_{1} \\cdot x_{1}\\right) +  \\left(a_{2} \\cdot x_{2}\\right) +  \\ldots +  \\left(a_{n} \\cdot x_{n}\\right)\\right) = \\vec{0}\\left(V\\right) \\textrm{ if } \\left(a_{1} \\in K\\right) ,  \\left(a_{2} \\in K\\right) ,  \\ldots ,  \\left(a_{n} \\in K\\right) ,  \\left(a_{1} \\neq 0\\right) \\lor  \\left(a_{2} \\neq 0\\right) \\lor  \\ldots \\lor  \\left(a_{n} \\neq 0\\right)\\right..\n"
     ]
    }
   ],
   "source": [
    "# Show the LaTeX representation of the expression for convenience if you need it.\n",
    "print(stored_expr.latex())"
   ]
  },
  {
   "cell_type": "code",
   "execution_count": 5,
   "metadata": {},
   "outputs": [
    {
     "data": {
      "text/html": [
       "no style options"
      ],
      "text/plain": [
       "no style options"
      ]
     },
     "metadata": {},
     "output_type": "display_data"
    }
   ],
   "source": [
    "stored_expr.style_options()"
   ]
  },
  {
   "cell_type": "code",
   "execution_count": 6,
   "metadata": {},
   "outputs": [
    {
     "data": {
      "text/html": [
       "<table><tr><th>&nbsp;</th><th>core type</th><th>sub-expressions</th><th>expression</th></tr>\n",
       "<tr><td>0</td><td>Lambda</td><td>parameters:&nbsp;1<br>body:&nbsp;2<br></td><td><a class=\"ProveItLink\" href=\"expr.ipynb\"><img src=\"expr.png\" style=\"display:inline;vertical-align:middle;\" /></a></td></tr>\n",
       "<tr><td>1</td><td>ExprTuple</td><td>3</td><td><a class=\"ProveItLink\" href=\"../7b420e2a84f53537bd285f3baa95d83c0ea120860/expr.ipynb\"><img src=\"../7b420e2a84f53537bd285f3baa95d83c0ea120860/expr.png\" style=\"display:inline;vertical-align:middle;\" /></a></td></tr>\n",
       "<tr><td>2</td><td>Conditional</td><td>value:&nbsp;4<br>condition:&nbsp;5<br></td><td><a class=\"ProveItLink\" href=\"../4059a495468f4c533c674acf1e062b3fd64863540/expr.ipynb\"><img src=\"../4059a495468f4c533c674acf1e062b3fd64863540/expr.png\" style=\"display:inline;vertical-align:middle;\" /></a></td></tr>\n",
       "<tr><td>3</td><td>ExprRange</td><td>lambda_map:&nbsp;6<br>start_index:&nbsp;30<br>end_index:&nbsp;31<br></td><td><a class=\"ProveItLink\" href=\"../../../../../core_expr_types/__pv_it/common/7ee2dd28754734e63298daa7955625a3d904698e0/expr.ipynb\"><img src=\"../../../../../core_expr_types/__pv_it/common/7ee2dd28754734e63298daa7955625a3d904698e0/expr.png\" style=\"display:inline;vertical-align:middle;\" /></a></td></tr>\n",
       "<tr><td>4</td><td>Operation</td><td>operator:&nbsp;7<br>operands:&nbsp;8<br></td><td><a class=\"ProveItLink\" href=\"../a7a0ed382764b065067343fd59a328cb322d317b0/expr.ipynb\"><img src=\"../a7a0ed382764b065067343fd59a328cb322d317b0/expr.png\" style=\"display:inline;vertical-align:middle;\" /></a></td></tr>\n",
       "<tr><td>5</td><td>Operation</td><td>operator:&nbsp;9<br>operands:&nbsp;10<br></td><td><a class=\"ProveItLink\" href=\"../af9c91e2c4f30b385b93a87c50d8c1aaf3661a700/expr.ipynb\"><img src=\"../af9c91e2c4f30b385b93a87c50d8c1aaf3661a700/expr.png\" style=\"display:inline;vertical-align:middle;\" /></a></td></tr>\n",
       "<tr><td>6</td><td>Lambda</td><td>parameter:&nbsp;45<br>body:&nbsp;40<br></td><td><a class=\"ProveItLink\" href=\"../../../../../core_expr_types/__pv_it/common/1527ad383e12f9c6ed6b371c9a7dd1892d80da1b0/expr.ipynb\"><img src=\"../../../../../core_expr_types/__pv_it/common/1527ad383e12f9c6ed6b371c9a7dd1892d80da1b0/expr.png\" style=\"display:inline;vertical-align:middle;\" /></a></td></tr>\n",
       "<tr><td>7</td><td>Literal</td><td></td><td><a class=\"ProveItLink\" href=\"../../../../../logic/equality/__pv_it/common/fb96dc12b2aa8801dda64d0132b396c63d1502bb0/expr.ipynb\"><img src=\"../../../../../logic/equality/__pv_it/common/fb96dc12b2aa8801dda64d0132b396c63d1502bb0/expr.png\" style=\"display:inline;vertical-align:middle;\" /></a></td></tr>\n",
       "<tr><td>8</td><td>ExprTuple</td><td>11, 12</td><td><a class=\"ProveItLink\" href=\"../41128f4cd70969bbf8684425a8efb6a8e5960f6f0/expr.ipynb\"><img src=\"../41128f4cd70969bbf8684425a8efb6a8e5960f6f0/expr.png\" style=\"display:inline;vertical-align:middle;\" /></a></td></tr>\n",
       "<tr><td>9</td><td>Literal</td><td></td><td><a class=\"ProveItLink\" href=\"../../../../../logic/booleans/conjunction/__pv_it/common/42118ff318bd65d98b1393f64ce7c2269feef76e0/expr.ipynb\"><img src=\"../../../../../logic/booleans/conjunction/__pv_it/common/42118ff318bd65d98b1393f64ce7c2269feef76e0/expr.png\" style=\"display:inline;vertical-align:middle;\" /></a></td></tr>\n",
       "<tr><td>10</td><td>ExprTuple</td><td>13, 14</td><td><a class=\"ProveItLink\" href=\"../c6bf25d3dfdfa1c8ad66d79a5ad47eaf266ae7ff0/expr.ipynb\"><img src=\"../c6bf25d3dfdfa1c8ad66d79a5ad47eaf266ae7ff0/expr.png\" style=\"display:inline;vertical-align:middle;\" /></a></td></tr>\n",
       "<tr><td>11</td><td>Operation</td><td>operator:&nbsp;15<br>operands:&nbsp;16<br></td><td><a class=\"ProveItLink\" href=\"../../../../__pv_it/common/e4c52b5bbc528977a8b120ace2be632ef4ed7eeb0/expr.ipynb\"><img src=\"../../../../__pv_it/common/e4c52b5bbc528977a8b120ace2be632ef4ed7eeb0/expr.png\" style=\"display:inline;vertical-align:middle;\" /></a></td></tr>\n",
       "<tr><td>12</td><td>Operation</td><td>operator:&nbsp;17<br>operand:&nbsp;23<br></td><td><a class=\"ProveItLink\" href=\"../7bc07a2f317a219966a065e972cbc10bb60d32c80/expr.ipynb\"><img src=\"../7bc07a2f317a219966a065e972cbc10bb60d32c80/expr.png\" style=\"display:inline;vertical-align:middle;\" /></a></td></tr>\n",
       "<tr><td>13</td><td>ExprRange</td><td>lambda_map:&nbsp;19<br>start_index:&nbsp;30<br>end_index:&nbsp;31<br></td><td><a class=\"ProveItLink\" href=\"../bb2fce3812eb3d8646c25498413b7e148e6a39040/expr.ipynb\"><img src=\"../bb2fce3812eb3d8646c25498413b7e148e6a39040/expr.png\" style=\"display:inline;vertical-align:middle;\" /></a></td></tr>\n",
       "<tr><td>14</td><td>Operation</td><td>operator:&nbsp;20<br>operands:&nbsp;21<br></td><td><a class=\"ProveItLink\" href=\"../../../../__pv_it/common/5bf0bcd975d7f9a543bad5ccabe6cd951075043d0/expr.ipynb\"><img src=\"../../../../__pv_it/common/5bf0bcd975d7f9a543bad5ccabe6cd951075043d0/expr.png\" style=\"display:inline;vertical-align:middle;\" /></a></td></tr>\n",
       "<tr><td>15</td><td>Literal</td><td></td><td><a class=\"ProveItLink\" href=\"../../../../addition/__pv_it/common/ac3c140c9094f065c7f7db15c94558731443639c0/expr.ipynb\"><img src=\"../../../../addition/__pv_it/common/ac3c140c9094f065c7f7db15c94558731443639c0/expr.png\" style=\"display:inline;vertical-align:middle;\" /></a></td></tr>\n",
       "<tr><td>16</td><td>ExprTuple</td><td>22</td><td><a class=\"ProveItLink\" href=\"../../../../__pv_it/common/15490442071f8fafc2ed7dc6e4789001441283210/expr.ipynb\"><img src=\"../../../../__pv_it/common/15490442071f8fafc2ed7dc6e4789001441283210/expr.png\" style=\"display:inline;vertical-align:middle;\" /></a></td></tr>\n",
       "<tr><td>17</td><td>Literal</td><td></td><td><a class=\"ProveItLink\" href=\"../../../../addition/__pv_it/common/d2e82c0e4e3b7cfc7524ea34ed47cbb7e27196bd0/expr.ipynb\"><img src=\"../../../../addition/__pv_it/common/d2e82c0e4e3b7cfc7524ea34ed47cbb7e27196bd0/expr.png\" style=\"display:inline;vertical-align:middle;\" /></a></td></tr>\n",
       "<tr><td>18</td><td>ExprTuple</td><td>23</td><td><a class=\"ProveItLink\" href=\"../55d848f1bfb69b7cca09982fc21e7069eabfffad0/expr.ipynb\"><img src=\"../55d848f1bfb69b7cca09982fc21e7069eabfffad0/expr.png\" style=\"display:inline;vertical-align:middle;\" /></a></td></tr>\n",
       "<tr><td>19</td><td>Lambda</td><td>parameter:&nbsp;45<br>body:&nbsp;24<br></td><td><a class=\"ProveItLink\" href=\"../26429ccaf9929a1e9b214814fde39f45958e8d150/expr.ipynb\"><img src=\"../26429ccaf9929a1e9b214814fde39f45958e8d150/expr.png\" style=\"display:inline;vertical-align:middle;\" /></a></td></tr>\n",
       "<tr><td>20</td><td>Literal</td><td></td><td><a class=\"ProveItLink\" href=\"../../../../../logic/booleans/disjunction/__pv_it/common/ef8e59262ff8e0133aa1ca984dd6b3a41bf69d5b0/expr.ipynb\"><img src=\"../../../../../logic/booleans/disjunction/__pv_it/common/ef8e59262ff8e0133aa1ca984dd6b3a41bf69d5b0/expr.png\" style=\"display:inline;vertical-align:middle;\" /></a></td></tr>\n",
       "<tr><td>21</td><td>ExprTuple</td><td>25</td><td><a class=\"ProveItLink\" href=\"../../../../__pv_it/common/b7df74aea527bdc7410c94788e444c876581965b0/expr.ipynb\"><img src=\"../../../../__pv_it/common/b7df74aea527bdc7410c94788e444c876581965b0/expr.png\" style=\"display:inline;vertical-align:middle;\" /></a></td></tr>\n",
       "<tr><td>22</td><td>ExprRange</td><td>lambda_map:&nbsp;26<br>start_index:&nbsp;30<br>end_index:&nbsp;31<br></td><td><a class=\"ProveItLink\" href=\"../../../../__pv_it/common/959e8dc869c28a1e3d44a32ce474e4055c26baf20/expr.ipynb\"><img src=\"../../../../__pv_it/common/959e8dc869c28a1e3d44a32ce474e4055c26baf20/expr.png\" style=\"display:inline;vertical-align:middle;\" /></a></td></tr>\n",
       "<tr><td>23</td><td>Variable</td><td></td><td><a class=\"ProveItLink\" href=\"../../../../../__pv_it/common/6d80eb1398b2335bf9ec427954b851b7094dced50/expr.ipynb\"><img src=\"../../../../../__pv_it/common/6d80eb1398b2335bf9ec427954b851b7094dced50/expr.png\" style=\"display:inline;vertical-align:middle;\" /></a></td></tr>\n",
       "<tr><td>24</td><td>Operation</td><td>operator:&nbsp;27<br>operands:&nbsp;28<br></td><td><a class=\"ProveItLink\" href=\"../9ab34d76036f29137c305aef0e931d27f02dd1180/expr.ipynb\"><img src=\"../9ab34d76036f29137c305aef0e931d27f02dd1180/expr.png\" style=\"display:inline;vertical-align:middle;\" /></a></td></tr>\n",
       "<tr><td>25</td><td>ExprRange</td><td>lambda_map:&nbsp;29<br>start_index:&nbsp;30<br>end_index:&nbsp;31<br></td><td><a class=\"ProveItLink\" href=\"../../../../__pv_it/common/6be597875d9a50b9f3811a96c5e0a51823ec87c10/expr.ipynb\"><img src=\"../../../../__pv_it/common/6be597875d9a50b9f3811a96c5e0a51823ec87c10/expr.png\" style=\"display:inline;vertical-align:middle;\" /></a></td></tr>\n",
       "<tr><td>26</td><td>Lambda</td><td>parameter:&nbsp;45<br>body:&nbsp;32<br></td><td><a class=\"ProveItLink\" href=\"../../../../__pv_it/common/03ae777fb2cd2740c588d1b81b3510f20b2c94a00/expr.ipynb\"><img src=\"../../../../__pv_it/common/03ae777fb2cd2740c588d1b81b3510f20b2c94a00/expr.png\" style=\"display:inline;vertical-align:middle;\" /></a></td></tr>\n",
       "<tr><td>27</td><td>Literal</td><td></td><td><a class=\"ProveItLink\" href=\"../../../../../logic/sets/membership/__pv_it/common/477487d8796864d23d5810f83761435f25167f690/expr.ipynb\"><img src=\"../../../../../logic/sets/membership/__pv_it/common/477487d8796864d23d5810f83761435f25167f690/expr.png\" style=\"display:inline;vertical-align:middle;\" /></a></td></tr>\n",
       "<tr><td>28</td><td>ExprTuple</td><td>40, 33</td><td><a class=\"ProveItLink\" href=\"../b96a67f4d6f975833fb72a7da7416f63dc53da8d0/expr.ipynb\"><img src=\"../b96a67f4d6f975833fb72a7da7416f63dc53da8d0/expr.png\" style=\"display:inline;vertical-align:middle;\" /></a></td></tr>\n",
       "<tr><td>29</td><td>Lambda</td><td>parameter:&nbsp;45<br>body:&nbsp;34<br></td><td><a class=\"ProveItLink\" href=\"../../../../__pv_it/common/18f13a3bf38680180415ea80d1873bbef0da15760/expr.ipynb\"><img src=\"../../../../__pv_it/common/18f13a3bf38680180415ea80d1873bbef0da15760/expr.png\" style=\"display:inline;vertical-align:middle;\" /></a></td></tr>\n",
       "<tr><td>30</td><td>Literal</td><td></td><td><a class=\"ProveItLink\" href=\"../../../../../numbers/numerals/__pv_it/common/682157d4892d216d9e5626ed533aff9b56b9506e0/expr.ipynb\"><img src=\"../../../../../numbers/numerals/__pv_it/common/682157d4892d216d9e5626ed533aff9b56b9506e0/expr.png\" style=\"display:inline;vertical-align:middle;\" /></a></td></tr>\n",
       "<tr><td>31</td><td>Variable</td><td></td><td><a class=\"ProveItLink\" href=\"../../../../../__pv_it/common/8968bb04eb3f7dfa02353397ce929b025bbd79c20/expr.ipynb\"><img src=\"../../../../../__pv_it/common/8968bb04eb3f7dfa02353397ce929b025bbd79c20/expr.png\" style=\"display:inline;vertical-align:middle;\" /></a></td></tr>\n",
       "<tr><td>32</td><td>Operation</td><td>operator:&nbsp;35<br>operands:&nbsp;36<br></td><td><a class=\"ProveItLink\" href=\"../../../../__pv_it/common/0b73c8d397ce16721da6185622d603085337874a0/expr.ipynb\"><img src=\"../../../../__pv_it/common/0b73c8d397ce16721da6185622d603085337874a0/expr.png\" style=\"display:inline;vertical-align:middle;\" /></a></td></tr>\n",
       "<tr><td>33</td><td>Variable</td><td></td><td><a class=\"ProveItLink\" href=\"../../../../../__pv_it/common/1f2ffac7a1dc7c1a4f1fc7348356ae64ea992c790/expr.ipynb\"><img src=\"../../../../../__pv_it/common/1f2ffac7a1dc7c1a4f1fc7348356ae64ea992c790/expr.png\" style=\"display:inline;vertical-align:middle;\" /></a></td></tr>\n",
       "<tr><td>34</td><td>Operation</td><td>operator:&nbsp;37<br>operands:&nbsp;38<br></td><td><a class=\"ProveItLink\" href=\"../../../../__pv_it/common/5f9081bb6578c47c2bf6e4cf30883993c604c5320/expr.ipynb\"><img src=\"../../../../__pv_it/common/5f9081bb6578c47c2bf6e4cf30883993c604c5320/expr.png\" style=\"display:inline;vertical-align:middle;\" /></a></td></tr>\n",
       "<tr><td>35</td><td>Literal</td><td></td><td><a class=\"ProveItLink\" href=\"../../../../scalar_multiplication/__pv_it/common/1e364bd471e6a29fcd358dd2d9cd990a1e6fedd40/expr.ipynb\"><img src=\"../../../../scalar_multiplication/__pv_it/common/1e364bd471e6a29fcd358dd2d9cd990a1e6fedd40/expr.png\" style=\"display:inline;vertical-align:middle;\" /></a></td></tr>\n",
       "<tr><td>36</td><td>ExprTuple</td><td>40, 39</td><td><a class=\"ProveItLink\" href=\"../../../../__pv_it/common/d622ce5f2d9a846b1d431d070f87f12dbc8dd6e10/expr.ipynb\"><img src=\"../../../../__pv_it/common/d622ce5f2d9a846b1d431d070f87f12dbc8dd6e10/expr.png\" style=\"display:inline;vertical-align:middle;\" /></a></td></tr>\n",
       "<tr><td>37</td><td>Literal</td><td></td><td><a class=\"ProveItLink\" href=\"../../../../../logic/equality/__pv_it/common/d96270bc9bb1bad54f773b1c04bfb343a739642c0/expr.ipynb\"><img src=\"../../../../../logic/equality/__pv_it/common/d96270bc9bb1bad54f773b1c04bfb343a739642c0/expr.png\" style=\"display:inline;vertical-align:middle;\" /></a></td></tr>\n",
       "<tr><td>38</td><td>ExprTuple</td><td>40, 41</td><td><a class=\"ProveItLink\" href=\"../../../../__pv_it/common/0c54635249a14351da7a793cba8de41cc7de89ba0/expr.ipynb\"><img src=\"../../../../__pv_it/common/0c54635249a14351da7a793cba8de41cc7de89ba0/expr.png\" style=\"display:inline;vertical-align:middle;\" /></a></td></tr>\n",
       "<tr><td>39</td><td>IndexedVar</td><td>variable:&nbsp;42<br>index:&nbsp;45<br></td><td><a class=\"ProveItLink\" href=\"../../../../__pv_it/common/b7a46615d4e67a28ab963909b818c72af8e8e7c60/expr.ipynb\"><img src=\"../../../../__pv_it/common/b7a46615d4e67a28ab963909b818c72af8e8e7c60/expr.png\" style=\"display:inline;vertical-align:middle;\" /></a></td></tr>\n",
       "<tr><td>40</td><td>IndexedVar</td><td>variable:&nbsp;43<br>index:&nbsp;45<br></td><td><a class=\"ProveItLink\" href=\"../../../../__pv_it/common/3a62c13e156d62d52fe585fa37cc2172fcf685260/expr.ipynb\"><img src=\"../../../../__pv_it/common/3a62c13e156d62d52fe585fa37cc2172fcf685260/expr.png\" style=\"display:inline;vertical-align:middle;\" /></a></td></tr>\n",
       "<tr><td>41</td><td>Literal</td><td></td><td><a class=\"ProveItLink\" href=\"../../../../../numbers/numerals/__pv_it/common/dd4e19e8b134dfb293470ea55fe3589b0ab9f8040/expr.ipynb\"><img src=\"../../../../../numbers/numerals/__pv_it/common/dd4e19e8b134dfb293470ea55fe3589b0ab9f8040/expr.png\" style=\"display:inline;vertical-align:middle;\" /></a></td></tr>\n",
       "<tr><td>42</td><td>Variable</td><td></td><td><a class=\"ProveItLink\" href=\"../../../../../__pv_it/common/a0d9d672aa5e272d907247690c152cc2c6daafb70/expr.ipynb\"><img src=\"../../../../../__pv_it/common/a0d9d672aa5e272d907247690c152cc2c6daafb70/expr.png\" style=\"display:inline;vertical-align:middle;\" /></a></td></tr>\n",
       "<tr><td>43</td><td>Variable</td><td></td><td><a class=\"ProveItLink\" href=\"../../../../../__pv_it/common/c06c606ec12678c58933ac85412ecadc2ae28be60/expr.ipynb\"><img src=\"../../../../../__pv_it/common/c06c606ec12678c58933ac85412ecadc2ae28be60/expr.png\" style=\"display:inline;vertical-align:middle;\" /></a></td></tr>\n",
       "<tr><td>44</td><td>ExprTuple</td><td>45</td><td><a class=\"ProveItLink\" href=\"../../../../__pv_it/common/4b0dd6be36d76552eda6a95d5b4a27f5a5b62f900/expr.ipynb\"><img src=\"../../../../__pv_it/common/4b0dd6be36d76552eda6a95d5b4a27f5a5b62f900/expr.png\" style=\"display:inline;vertical-align:middle;\" /></a></td></tr>\n",
       "<tr><td>45</td><td>Variable</td><td></td><td><a class=\"ProveItLink\" href=\"../../../../__pv_it/common/006c465e50948aa2b52285e2de47974f741255cc0/expr.ipynb\"><img src=\"../../../../__pv_it/common/006c465e50948aa2b52285e2de47974f741255cc0/expr.png\" style=\"display:inline;vertical-align:middle;\" /></a></td></tr>\n",
       "</table>\n"
      ],
      "text/plain": [
       "0. (a_{1}, a_{2}, ..., a_{n}) -> {((a_{1} * x_{1}) +  (a_{2} * x_{2}) +  ... +  (a_{n} * x_{n})) = 0(V) if (a_{1} in K) ,  (a_{2} in K) ,  ... ,  (a_{n} in K) ,  (a_{1} != 0) or  (a_{2} != 0) or  ... or  (a_{n} != 0).\n",
       "   core type: Lambda\n",
       "   parameters: 1\\n   body: 2\n",
       "1. (a_{1}, a_{2}, ..., a_{n})\n",
       "   core type: ExprTuple\n",
       "   sub-expressions: 3\n",
       "2. {((a_{1} * x_{1}) +  (a_{2} * x_{2}) +  ... +  (a_{n} * x_{n})) = 0(V) if (a_{1} in K) ,  (a_{2} in K) ,  ... ,  (a_{n} in K) ,  (a_{1} != 0) or  (a_{2} != 0) or  ... or  (a_{n} != 0).\n",
       "   core type: Conditional\n",
       "   value: 4\n",
       "   condition: 5\n",
       "3. a_{1}, a_{2}, ..., a_{n}\n",
       "   core type: ExprRange\n",
       "   lambda_map: 6\n",
       "   start_index: 30\n",
       "   end_index: 31\n",
       "4. ((a_{1} * x_{1}) +  (a_{2} * x_{2}) +  ... +  (a_{n} * x_{n})) = 0(V)\n",
       "   core type: Operation\n",
       "   operator: 7\n",
       "   operands: 8\n",
       "5. (a_{1} in K) and  (a_{2} in K) and  ... and  (a_{n} in K) and ((a_{1} != 0) or  (a_{2} != 0) or  ... or  (a_{n} != 0))\n",
       "   core type: Operation\n",
       "   operator: 9\n",
       "   operands: 10\n",
       "6. _a -> a_{_a}\n",
       "   core type: Lambda\n",
       "   parameter: 45\n",
       "   body: 40\n",
       "7. =\n",
       "   core type: Literal\n",
       "   sub-expressions: \n",
       "8. ((a_{1} * x_{1}) +  (a_{2} * x_{2}) +  ... +  (a_{n} * x_{n}), 0(V))\n",
       "   core type: ExprTuple\n",
       "   sub-expressions: 11, 12\n",
       "9. and\n",
       "   core type: Literal\n",
       "   sub-expressions: \n",
       "10. ((a_{1} in K), (a_{2} in K), ..., (a_{n} in K), (a_{1} != 0) or  (a_{2} != 0) or  ... or  (a_{n} != 0))\n",
       "    core type: ExprTuple\n",
       "    sub-expressions: 13, 14\n",
       "11. (a_{1} * x_{1}) +  (a_{2} * x_{2}) +  ... +  (a_{n} * x_{n})\n",
       "    core type: Operation\n",
       "    operator: 15\n",
       "    operands: 16\n",
       "12. 0(V)\n",
       "    core type: Operation\n",
       "    operator: 17\n",
       "    operand: 23\n",
       "13. (a_{1} in K), (a_{2} in K), ..., (a_{n} in K)\n",
       "    core type: ExprRange\n",
       "    lambda_map: 19\n",
       "    start_index: 30\n",
       "    end_index: 31\n",
       "14. (a_{1} != 0) or  (a_{2} != 0) or  ... or  (a_{n} != 0)\n",
       "    core type: Operation\n",
       "    operator: 20\n",
       "    operands: 21\n",
       "15. +\n",
       "    core type: Literal\n",
       "    sub-expressions: \n",
       "16. ((a_{1} * x_{1}), (a_{2} * x_{2}), ..., (a_{n} * x_{n}))\n",
       "    core type: ExprTuple\n",
       "    sub-expressions: 22\n",
       "17. 0\n",
       "    core type: Literal\n",
       "    sub-expressions: \n",
       "18. (V)\n",
       "    core type: ExprTuple\n",
       "    sub-expressions: 23\n",
       "19. _a -> (a_{_a} in K)\n",
       "    core type: Lambda\n",
       "    parameter: 45\n",
       "    body: 24\n",
       "20. or\n",
       "    core type: Literal\n",
       "    sub-expressions: \n",
       "21. ((a_{1} != 0), (a_{2} != 0), ..., (a_{n} != 0))\n",
       "    core type: ExprTuple\n",
       "    sub-expressions: 25\n",
       "22. (a_{1} * x_{1}), (a_{2} * x_{2}), ..., (a_{n} * x_{n})\n",
       "    core type: ExprRange\n",
       "    lambda_map: 26\n",
       "    start_index: 30\n",
       "    end_index: 31\n",
       "23. V\n",
       "    core type: Variable\n",
       "    sub-expressions: \n",
       "24. a_{_a} in K\n",
       "    core type: Operation\n",
       "    operator: 27\n",
       "    operands: 28\n",
       "25. (a_{1} != 0), (a_{2} != 0), ..., (a_{n} != 0)\n",
       "    core type: ExprRange\n",
       "    lambda_map: 29\n",
       "    start_index: 30\n",
       "    end_index: 31\n",
       "26. _a -> (a_{_a} * x_{_a})\n",
       "    core type: Lambda\n",
       "    parameter: 45\n",
       "    body: 32\n",
       "27. in\n",
       "    core type: Literal\n",
       "    sub-expressions: \n",
       "28. (a_{_a}, K)\n",
       "    core type: ExprTuple\n",
       "    sub-expressions: 40, 33\n",
       "29. _a -> (a_{_a} != 0)\n",
       "    core type: Lambda\n",
       "    parameter: 45\n",
       "    body: 34\n",
       "30. 1\n",
       "    core type: Literal\n",
       "    sub-expressions: \n",
       "31. n\n",
       "    core type: Variable\n",
       "    sub-expressions: \n",
       "32. a_{_a} * x_{_a}\n",
       "    core type: Operation\n",
       "    operator: 35\n",
       "    operands: 36\n",
       "33. K\n",
       "    core type: Variable\n",
       "    sub-expressions: \n",
       "34. a_{_a} != 0\n",
       "    core type: Operation\n",
       "    operator: 37\n",
       "    operands: 38\n",
       "35. *\n",
       "    core type: Literal\n",
       "    sub-expressions: \n",
       "36. (a_{_a}, x_{_a})\n",
       "    core type: ExprTuple\n",
       "    sub-expressions: 40, 39\n",
       "37. !=\n",
       "    core type: Literal\n",
       "    sub-expressions: \n",
       "38. (a_{_a}, 0)\n",
       "    core type: ExprTuple\n",
       "    sub-expressions: 40, 41\n",
       "39. x_{_a}\n",
       "    core type: IndexedVar\n",
       "variable: 42\n",
       "index: 45\n",
       "40. a_{_a}\n",
       "    core type: IndexedVar\n",
       "variable: 43\n",
       "index: 45\n",
       "41. 0\n",
       "    core type: Literal\n",
       "    sub-expressions: \n",
       "42. x\n",
       "    core type: Variable\n",
       "    sub-expressions: \n",
       "43. a\n",
       "    core type: Variable\n",
       "    sub-expressions: \n",
       "44. (_a)\n",
       "    core type: ExprTuple\n",
       "    sub-expressions: 45\n",
       "45. _a\n",
       "    core type: Variable\n",
       "    sub-expressions: "
      ]
     },
     "metadata": {},
     "output_type": "display_data"
    }
   ],
   "source": [
    "# display the expression information\n",
    "stored_expr.expr_info()"
   ]
  },
  {
   "cell_type": "code",
   "execution_count": null,
   "metadata": {},
   "outputs": [],
   "source": []
  }
 ],
 "metadata": {
  "kernelspec": {
   "display_name": "Python 3",
   "language": "python",
   "name": "python3"
  }
 },
 "nbformat": 4,
 "nbformat_minor": 0
}