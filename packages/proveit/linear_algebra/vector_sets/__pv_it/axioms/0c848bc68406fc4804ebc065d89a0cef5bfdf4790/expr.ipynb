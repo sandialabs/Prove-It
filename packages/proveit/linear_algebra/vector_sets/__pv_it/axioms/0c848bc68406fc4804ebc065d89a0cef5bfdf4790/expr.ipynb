{
 "cells": [
  {
   "cell_type": "markdown",
   "metadata": {},
   "source": [
    "Expression of type <a class=\"ProveItLink\" href=\"../../../../../../../doc/html/api/proveit.ExprTuple.html\">ExprTuple</a>\n",
    "=======================\n",
    "# from the theory of <a class=\"ProveItLink\" href=\"../../../_theory_nbs_/theory.ipynb\">proveit.linear_algebra.vector_sets</a>"
   ]
  },
  {
   "cell_type": "code",
   "execution_count": 1,
   "metadata": {},
   "outputs": [],
   "source": [
    "import proveit\n",
    "# Automation is not needed when building an expression:\n",
    "proveit.defaults.automation = False # This will speed things up.\n",
    "proveit.defaults.inline_pngs = False # Makes files smaller.\n",
    "%load_expr # Load the stored expression as 'stored_expr'\n",
    "# import Expression classes needed to build the expression\n",
    "from proveit import Conditional, ExprTuple, Lambda, V, n\n",
    "from proveit.core_expr_types import x_1_to_n\n",
    "from proveit.linear_algebra import Span, SpanningSets\n",
    "from proveit.logic import Equals, Forall, InSet, Set\n",
    "from proveit.numbers import NaturalPos"
   ]
  },
  {
   "cell_type": "code",
   "execution_count": 2,
   "metadata": {},
   "outputs": [
    {
     "data": {
      "text/html": [
       "<strong id=\"expr\">expr:</strong> <a class=\"ProveItLink\" href=\"expr.ipynb\"><img src=\"expr.png\" style=\"display:inline;vertical-align:middle;\" /></a><br>"
      ],
      "text/plain": [
       "<IPython.core.display.HTML object>"
      ]
     },
     "metadata": {},
     "output_type": "display_data"
    }
   ],
   "source": [
    "# build up the expression from sub-expressions\n",
    "sub_expr1 = Set(x_1_to_n)\n",
    "expr = ExprTuple(Lambda(n, Conditional(Forall(instance_param_or_params = [x_1_to_n], instance_expr = Equals(InSet(sub_expr1, SpanningSets(V)), Equals(V, Span(sub_expr1))), domain = V).with_wrapping(), InSet(n, NaturalPos))))"
   ]
  },
  {
   "cell_type": "code",
   "execution_count": 3,
   "metadata": {},
   "outputs": [
    {
     "name": "stdout",
     "output_type": "stream",
     "text": [
      "Passed sanity check: expr matches stored_expr\n"
     ]
    }
   ],
   "source": [
    "# check that the built expression is the same as the stored expression\n",
    "assert expr == stored_expr\n",
    "assert expr._style_id == stored_expr._style_id\n",
    "print(\"Passed sanity check: expr matches stored_expr\")"
   ]
  },
  {
   "cell_type": "code",
   "execution_count": 4,
   "metadata": {},
   "outputs": [
    {
     "name": "stdout",
     "output_type": "stream",
     "text": [
      "\\left(n \\mapsto \\left\\{\\begin{array}{l}\\forall_{x_{1}, x_{2}, \\ldots, x_{n} \\in V}~\\\\\n",
      "\\left(\\left(\\left\\{x_{1}, x_{2}, \\ldots, x_{n}\\right\\} \\in \\textrm{SpanningSets}\\left(V\\right)\\right) = \\left(V = \\textrm{Span}\\left(\\left\\{x_{1}, x_{2}, \\ldots, x_{n}\\right\\}\\right)\\right)\\right)\\end{array} \\textrm{ if } n \\in \\mathbb{N}^+\\right..\\right)\n"
     ]
    }
   ],
   "source": [
    "# Show the LaTeX representation of the expression for convenience if you need it.\n",
    "print(stored_expr.latex())"
   ]
  },
  {
   "cell_type": "code",
   "execution_count": 5,
   "metadata": {},
   "outputs": [
    {
     "data": {
      "text/html": [
       "no style options"
      ],
      "text/plain": [
       "no style options"
      ]
     },
     "metadata": {},
     "output_type": "display_data"
    }
   ],
   "source": [
    "stored_expr.style_options()"
   ]
  },
  {
   "cell_type": "code",
   "execution_count": 6,
   "metadata": {},
   "outputs": [
    {
     "data": {
      "text/html": [
       "<table><tr><th>&nbsp;</th><th>core type</th><th>sub-expressions</th><th>expression</th></tr>\n",
       "<tr><td>0</td><td>ExprTuple</td><td>1</td><td><a class=\"ProveItLink\" href=\"expr.ipynb\"><img src=\"expr.png\" style=\"display:inline;vertical-align:middle;\" /></a></td></tr>\n",
       "<tr><td>1</td><td>Lambda</td><td>parameter:&nbsp;40<br>body:&nbsp;3<br></td><td><a class=\"ProveItLink\" href=\"../239cb8541ac8fe96ae85866592af09dadc7ac68f0/expr.ipynb\"><img src=\"../239cb8541ac8fe96ae85866592af09dadc7ac68f0/expr.png\" style=\"display:inline;vertical-align:middle;\" /></a></td></tr>\n",
       "<tr><td>2</td><td>ExprTuple</td><td>40</td><td><a class=\"ProveItLink\" href=\"../ca565dff2751ea9a3b48fe855133b9e0c2eca83f0/expr.ipynb\"><img src=\"../ca565dff2751ea9a3b48fe855133b9e0c2eca83f0/expr.png\" style=\"display:inline;vertical-align:middle;\" /></a></td></tr>\n",
       "<tr><td>3</td><td>Conditional</td><td>value:&nbsp;4<br>condition:&nbsp;5<br></td><td><a class=\"ProveItLink\" href=\"../a9be82e27b3d579925260f56f02f9f10a4f7dc270/expr.ipynb\"><img src=\"../a9be82e27b3d579925260f56f02f9f10a4f7dc270/expr.png\" style=\"display:inline;vertical-align:middle;\" /></a></td></tr>\n",
       "<tr><td>4</td><td>Operation</td><td>operator:&nbsp;6<br>operand:&nbsp;9<br></td><td><a class=\"ProveItLink\" href=\"../b96a2e650f5024d90db5e6492822733aa1ab55600/expr.ipynb\"><img src=\"../b96a2e650f5024d90db5e6492822733aa1ab55600/expr.png\" style=\"display:inline;vertical-align:middle;\" /></a></td></tr>\n",
       "<tr><td>5</td><td>Operation</td><td>operator:&nbsp;31<br>operands:&nbsp;8<br></td><td><a class=\"ProveItLink\" href=\"../c3c0a0522590e024022c8052cabac138164190560/expr.ipynb\"><img src=\"../c3c0a0522590e024022c8052cabac138164190560/expr.png\" style=\"display:inline;vertical-align:middle;\" /></a></td></tr>\n",
       "<tr><td>6</td><td>Literal</td><td></td><td><a class=\"ProveItLink\" href=\"../../../../../logic/booleans/quantification/universality/__pv_it/common/083d2baa0b8ecab1d230f9ec29a15aa1355809fb0/expr.ipynb\"><img src=\"../../../../../logic/booleans/quantification/universality/__pv_it/common/083d2baa0b8ecab1d230f9ec29a15aa1355809fb0/expr.png\" style=\"display:inline;vertical-align:middle;\" /></a></td></tr>\n",
       "<tr><td>7</td><td>ExprTuple</td><td>9</td><td><a class=\"ProveItLink\" href=\"../45d8e65b9da723c819be74a4a20db47c0f5ba6780/expr.ipynb\"><img src=\"../45d8e65b9da723c819be74a4a20db47c0f5ba6780/expr.png\" style=\"display:inline;vertical-align:middle;\" /></a></td></tr>\n",
       "<tr><td>8</td><td>ExprTuple</td><td>40, 10</td><td><a class=\"ProveItLink\" href=\"../4459dda147b56e10026c83203ced1bc32b9704ab0/expr.ipynb\"><img src=\"../4459dda147b56e10026c83203ced1bc32b9704ab0/expr.png\" style=\"display:inline;vertical-align:middle;\" /></a></td></tr>\n",
       "<tr><td>9</td><td>Lambda</td><td>parameters:&nbsp;36<br>body:&nbsp;11<br></td><td><a class=\"ProveItLink\" href=\"../4e4e491c7f01b2b53823f373ac10541b6234641e0/expr.ipynb\"><img src=\"../4e4e491c7f01b2b53823f373ac10541b6234641e0/expr.png\" style=\"display:inline;vertical-align:middle;\" /></a></td></tr>\n",
       "<tr><td>10</td><td>Literal</td><td></td><td><a class=\"ProveItLink\" href=\"../../../../../numbers/number_sets/natural_numbers/__pv_it/common/6111329435c43892c831c4793de96afbf80bdb3e0/expr.ipynb\"><img src=\"../../../../../numbers/number_sets/natural_numbers/__pv_it/common/6111329435c43892c831c4793de96afbf80bdb3e0/expr.png\" style=\"display:inline;vertical-align:middle;\" /></a></td></tr>\n",
       "<tr><td>11</td><td>Conditional</td><td>value:&nbsp;12<br>condition:&nbsp;13<br></td><td><a class=\"ProveItLink\" href=\"../e90ef3102c7168c5fa4c2eaf4b77a694561801f70/expr.ipynb\"><img src=\"../e90ef3102c7168c5fa4c2eaf4b77a694561801f70/expr.png\" style=\"display:inline;vertical-align:middle;\" /></a></td></tr>\n",
       "<tr><td>12</td><td>Operation</td><td>operator:&nbsp;21<br>operands:&nbsp;14<br></td><td><a class=\"ProveItLink\" href=\"../2da6f7e21d42074872ba40318cd1442142a574aa0/expr.ipynb\"><img src=\"../2da6f7e21d42074872ba40318cd1442142a574aa0/expr.png\" style=\"display:inline;vertical-align:middle;\" /></a></td></tr>\n",
       "<tr><td>13</td><td>Operation</td><td>operator:&nbsp;15<br>operands:&nbsp;16<br></td><td><a class=\"ProveItLink\" href=\"../c159e4f0572bab79530c9297486def0937c103e10/expr.ipynb\"><img src=\"../c159e4f0572bab79530c9297486def0937c103e10/expr.png\" style=\"display:inline;vertical-align:middle;\" /></a></td></tr>\n",
       "<tr><td>14</td><td>ExprTuple</td><td>17, 18</td><td><a class=\"ProveItLink\" href=\"../2100873561bc1aea380b7d63d7c2fade24c9751c0/expr.ipynb\"><img src=\"../2100873561bc1aea380b7d63d7c2fade24c9751c0/expr.png\" style=\"display:inline;vertical-align:middle;\" /></a></td></tr>\n",
       "<tr><td>15</td><td>Literal</td><td></td><td><a class=\"ProveItLink\" href=\"../../../../../logic/booleans/conjunction/__pv_it/common/42118ff318bd65d98b1393f64ce7c2269feef76e0/expr.ipynb\"><img src=\"../../../../../logic/booleans/conjunction/__pv_it/common/42118ff318bd65d98b1393f64ce7c2269feef76e0/expr.png\" style=\"display:inline;vertical-align:middle;\" /></a></td></tr>\n",
       "<tr><td>16</td><td>ExprTuple</td><td>19</td><td><a class=\"ProveItLink\" href=\"../bda27d7e6401cc0d559e86001d7ef54de88509cf0/expr.ipynb\"><img src=\"../bda27d7e6401cc0d559e86001d7ef54de88509cf0/expr.png\" style=\"display:inline;vertical-align:middle;\" /></a></td></tr>\n",
       "<tr><td>17</td><td>Operation</td><td>operator:&nbsp;31<br>operands:&nbsp;20<br></td><td><a class=\"ProveItLink\" href=\"../89ba7cadfc62fa0e51c5ebabc4ccaf07edc753350/expr.ipynb\"><img src=\"../89ba7cadfc62fa0e51c5ebabc4ccaf07edc753350/expr.png\" style=\"display:inline;vertical-align:middle;\" /></a></td></tr>\n",
       "<tr><td>18</td><td>Operation</td><td>operator:&nbsp;21<br>operands:&nbsp;22<br></td><td><a class=\"ProveItLink\" href=\"../e7886c82ca3feac31232ba8f5e04da36914861440/expr.ipynb\"><img src=\"../e7886c82ca3feac31232ba8f5e04da36914861440/expr.png\" style=\"display:inline;vertical-align:middle;\" /></a></td></tr>\n",
       "<tr><td>19</td><td>ExprRange</td><td>lambda_map:&nbsp;23<br>start_index:&nbsp;39<br>end_index:&nbsp;40<br></td><td><a class=\"ProveItLink\" href=\"../a197b4832199fbc9b1832f0fe5a5a543c7fffd920/expr.ipynb\"><img src=\"../a197b4832199fbc9b1832f0fe5a5a543c7fffd920/expr.png\" style=\"display:inline;vertical-align:middle;\" /></a></td></tr>\n",
       "<tr><td>20</td><td>ExprTuple</td><td>33, 24</td><td><a class=\"ProveItLink\" href=\"../a370d73e41d1df9f577363566392aa8c74f52fd50/expr.ipynb\"><img src=\"../a370d73e41d1df9f577363566392aa8c74f52fd50/expr.png\" style=\"display:inline;vertical-align:middle;\" /></a></td></tr>\n",
       "<tr><td>21</td><td>Literal</td><td></td><td><a class=\"ProveItLink\" href=\"../../../../../logic/equality/__pv_it/common/fb96dc12b2aa8801dda64d0132b396c63d1502bb0/expr.ipynb\"><img src=\"../../../../../logic/equality/__pv_it/common/fb96dc12b2aa8801dda64d0132b396c63d1502bb0/expr.png\" style=\"display:inline;vertical-align:middle;\" /></a></td></tr>\n",
       "<tr><td>22</td><td>ExprTuple</td><td>34, 25</td><td><a class=\"ProveItLink\" href=\"../c7a8c0084dda0489393f67905a555598bac7e4d30/expr.ipynb\"><img src=\"../c7a8c0084dda0489393f67905a555598bac7e4d30/expr.png\" style=\"display:inline;vertical-align:middle;\" /></a></td></tr>\n",
       "<tr><td>23</td><td>Lambda</td><td>parameter:&nbsp;44<br>body:&nbsp;26<br></td><td><a class=\"ProveItLink\" href=\"../944b3cf10cf54768fa11a115dc999b1b120c109a0/expr.ipynb\"><img src=\"../944b3cf10cf54768fa11a115dc999b1b120c109a0/expr.png\" style=\"display:inline;vertical-align:middle;\" /></a></td></tr>\n",
       "<tr><td>24</td><td>Operation</td><td>operator:&nbsp;27<br>operand:&nbsp;34<br></td><td><a class=\"ProveItLink\" href=\"../7c22e3fc0ae0d6ecab7d555a950c4457838453520/expr.ipynb\"><img src=\"../7c22e3fc0ae0d6ecab7d555a950c4457838453520/expr.png\" style=\"display:inline;vertical-align:middle;\" /></a></td></tr>\n",
       "<tr><td>25</td><td>Operation</td><td>operator:&nbsp;29<br>operand:&nbsp;33<br></td><td><a class=\"ProveItLink\" href=\"../0d1f0a5019a76494c01a08fa32c080f212d28d470/expr.ipynb\"><img src=\"../0d1f0a5019a76494c01a08fa32c080f212d28d470/expr.png\" style=\"display:inline;vertical-align:middle;\" /></a></td></tr>\n",
       "<tr><td>26</td><td>Operation</td><td>operator:&nbsp;31<br>operands:&nbsp;32<br></td><td><a class=\"ProveItLink\" href=\"../8953e19f3f675e8ad9d422fd6d08dae73d4b5cdf0/expr.ipynb\"><img src=\"../8953e19f3f675e8ad9d422fd6d08dae73d4b5cdf0/expr.png\" style=\"display:inline;vertical-align:middle;\" /></a></td></tr>\n",
       "<tr><td>27</td><td>Literal</td><td></td><td><a class=\"ProveItLink\" href=\"../../common/b689002979d1daa229f473d9b51b68d33aabe51e0/expr.ipynb\"><img src=\"../../common/b689002979d1daa229f473d9b51b68d33aabe51e0/expr.png\" style=\"display:inline;vertical-align:middle;\" /></a></td></tr>\n",
       "<tr><td>28</td><td>ExprTuple</td><td>34</td><td><a class=\"ProveItLink\" href=\"../55d848f1bfb69b7cca09982fc21e7069eabfffad0/expr.ipynb\"><img src=\"../55d848f1bfb69b7cca09982fc21e7069eabfffad0/expr.png\" style=\"display:inline;vertical-align:middle;\" /></a></td></tr>\n",
       "<tr><td>29</td><td>Literal</td><td></td><td><a class=\"ProveItLink\" href=\"../../common/246c624af5f84483a747d50fe1718027e337367b0/expr.ipynb\"><img src=\"../../common/246c624af5f84483a747d50fe1718027e337367b0/expr.png\" style=\"display:inline;vertical-align:middle;\" /></a></td></tr>\n",
       "<tr><td>30</td><td>ExprTuple</td><td>33</td><td><a class=\"ProveItLink\" href=\"../bd70b3c67e267659ef939f45bd82f6dc1fccc5d60/expr.ipynb\"><img src=\"../bd70b3c67e267659ef939f45bd82f6dc1fccc5d60/expr.png\" style=\"display:inline;vertical-align:middle;\" /></a></td></tr>\n",
       "<tr><td>31</td><td>Literal</td><td></td><td><a class=\"ProveItLink\" href=\"../../../../../logic/sets/membership/__pv_it/common/477487d8796864d23d5810f83761435f25167f690/expr.ipynb\"><img src=\"../../../../../logic/sets/membership/__pv_it/common/477487d8796864d23d5810f83761435f25167f690/expr.png\" style=\"display:inline;vertical-align:middle;\" /></a></td></tr>\n",
       "<tr><td>32</td><td>ExprTuple</td><td>41, 34</td><td><a class=\"ProveItLink\" href=\"../59bb6a4405200695227d7b61f898fd96e8fa89450/expr.ipynb\"><img src=\"../59bb6a4405200695227d7b61f898fd96e8fa89450/expr.png\" style=\"display:inline;vertical-align:middle;\" /></a></td></tr>\n",
       "<tr><td>33</td><td>Operation</td><td>operator:&nbsp;35<br>operands:&nbsp;36<br></td><td><a class=\"ProveItLink\" href=\"../2703a4a8ca936763f004192f18715656078f90610/expr.ipynb\"><img src=\"../2703a4a8ca936763f004192f18715656078f90610/expr.png\" style=\"display:inline;vertical-align:middle;\" /></a></td></tr>\n",
       "<tr><td>34</td><td>Variable</td><td></td><td><a class=\"ProveItLink\" href=\"../../../../../__pv_it/common/6d80eb1398b2335bf9ec427954b851b7094dced50/expr.ipynb\"><img src=\"../../../../../__pv_it/common/6d80eb1398b2335bf9ec427954b851b7094dced50/expr.png\" style=\"display:inline;vertical-align:middle;\" /></a></td></tr>\n",
       "<tr><td>35</td><td>Literal</td><td></td><td><a class=\"ProveItLink\" href=\"../../../../../logic/sets/enumeration/__pv_it/common/0ead90ccbf4f17bc585a51f8aa904bb77916ae6e0/expr.ipynb\"><img src=\"../../../../../logic/sets/enumeration/__pv_it/common/0ead90ccbf4f17bc585a51f8aa904bb77916ae6e0/expr.png\" style=\"display:inline;vertical-align:middle;\" /></a></td></tr>\n",
       "<tr><td>36</td><td>ExprTuple</td><td>37</td><td><a class=\"ProveItLink\" href=\"../e29d2811b42e43e69e77c1c44413b65518ecad320/expr.ipynb\"><img src=\"../e29d2811b42e43e69e77c1c44413b65518ecad320/expr.png\" style=\"display:inline;vertical-align:middle;\" /></a></td></tr>\n",
       "<tr><td>37</td><td>ExprRange</td><td>lambda_map:&nbsp;38<br>start_index:&nbsp;39<br>end_index:&nbsp;40<br></td><td><a class=\"ProveItLink\" href=\"../../../../../core_expr_types/__pv_it/common/d50f819f834d55ea1b9fad150926a94bf07ad8fc0/expr.ipynb\"><img src=\"../../../../../core_expr_types/__pv_it/common/d50f819f834d55ea1b9fad150926a94bf07ad8fc0/expr.png\" style=\"display:inline;vertical-align:middle;\" /></a></td></tr>\n",
       "<tr><td>38</td><td>Lambda</td><td>parameter:&nbsp;44<br>body:&nbsp;41<br></td><td><a class=\"ProveItLink\" href=\"../../../../../core_expr_types/__pv_it/common/f8f30fee5e5b4e37951ff8886b574795bf35d80c0/expr.ipynb\"><img src=\"../../../../../core_expr_types/__pv_it/common/f8f30fee5e5b4e37951ff8886b574795bf35d80c0/expr.png\" style=\"display:inline;vertical-align:middle;\" /></a></td></tr>\n",
       "<tr><td>39</td><td>Literal</td><td></td><td><a class=\"ProveItLink\" href=\"../../../../../numbers/numerals/__pv_it/common/682157d4892d216d9e5626ed533aff9b56b9506e0/expr.ipynb\"><img src=\"../../../../../numbers/numerals/__pv_it/common/682157d4892d216d9e5626ed533aff9b56b9506e0/expr.png\" style=\"display:inline;vertical-align:middle;\" /></a></td></tr>\n",
       "<tr><td>40</td><td>Variable</td><td></td><td><a class=\"ProveItLink\" href=\"../../../../../__pv_it/common/8968bb04eb3f7dfa02353397ce929b025bbd79c20/expr.ipynb\"><img src=\"../../../../../__pv_it/common/8968bb04eb3f7dfa02353397ce929b025bbd79c20/expr.png\" style=\"display:inline;vertical-align:middle;\" /></a></td></tr>\n",
       "<tr><td>41</td><td>IndexedVar</td><td>variable:&nbsp;42<br>index:&nbsp;44<br></td><td><a class=\"ProveItLink\" href=\"../../../../../core_expr_types/__pv_it/common/b7a46615d4e67a28ab963909b818c72af8e8e7c60/expr.ipynb\"><img src=\"../../../../../core_expr_types/__pv_it/common/b7a46615d4e67a28ab963909b818c72af8e8e7c60/expr.png\" style=\"display:inline;vertical-align:middle;\" /></a></td></tr>\n",
       "<tr><td>42</td><td>Variable</td><td></td><td><a class=\"ProveItLink\" href=\"../../../../../__pv_it/common/a0d9d672aa5e272d907247690c152cc2c6daafb70/expr.ipynb\"><img src=\"../../../../../__pv_it/common/a0d9d672aa5e272d907247690c152cc2c6daafb70/expr.png\" style=\"display:inline;vertical-align:middle;\" /></a></td></tr>\n",
       "<tr><td>43</td><td>ExprTuple</td><td>44</td><td><a class=\"ProveItLink\" href=\"../../../../../core_expr_types/__pv_it/common/4b0dd6be36d76552eda6a95d5b4a27f5a5b62f900/expr.ipynb\"><img src=\"../../../../../core_expr_types/__pv_it/common/4b0dd6be36d76552eda6a95d5b4a27f5a5b62f900/expr.png\" style=\"display:inline;vertical-align:middle;\" /></a></td></tr>\n",
       "<tr><td>44</td><td>Variable</td><td></td><td><a class=\"ProveItLink\" href=\"../../../../../core_expr_types/__pv_it/common/006c465e50948aa2b52285e2de47974f741255cc0/expr.ipynb\"><img src=\"../../../../../core_expr_types/__pv_it/common/006c465e50948aa2b52285e2de47974f741255cc0/expr.png\" style=\"display:inline;vertical-align:middle;\" /></a></td></tr>\n",
       "</table>\n"
      ],
      "text/plain": [
       "0. (n -> {forall_{x_{1}, x_{2}, ..., x_{n} in V} (({x_{1}, x_{2}, ..., x_{n}} in SpanningSets(V)) = (V = Span({x_{1}, x_{2}, ..., x_{n}}))) if n in NaturalPos.)\n",
       "   core type: ExprTuple\n",
       "   sub-expressions: 1\n",
       "1. n -> {forall_{x_{1}, x_{2}, ..., x_{n} in V} (({x_{1}, x_{2}, ..., x_{n}} in SpanningSets(V)) = (V = Span({x_{1}, x_{2}, ..., x_{n}}))) if n in NaturalPos.\n",
       "   core type: Lambda\n",
       "   parameter: 40\n",
       "   body: 3\n",
       "2. (n)\n",
       "   core type: ExprTuple\n",
       "   sub-expressions: 40\n",
       "3. {forall_{x_{1}, x_{2}, ..., x_{n} in V} (({x_{1}, x_{2}, ..., x_{n}} in SpanningSets(V)) = (V = Span({x_{1}, x_{2}, ..., x_{n}}))) if n in NaturalPos.\n",
       "   core type: Conditional\n",
       "   value: 4\n",
       "   condition: 5\n",
       "4. forall_{x_{1}, x_{2}, ..., x_{n} in V} (({x_{1}, x_{2}, ..., x_{n}} in SpanningSets(V)) = (V = Span({x_{1}, x_{2}, ..., x_{n}})))\n",
       "   core type: Operation\n",
       "   operator: 6\n",
       "   operand: 9\n",
       "5. n in NaturalPos\n",
       "   core type: Operation\n",
       "   operator: 31\n",
       "   operands: 8\n",
       "6. forall\n",
       "   core type: Literal\n",
       "   sub-expressions: \n",
       "7. ((x_{1}, x_{2}, ..., x_{n}) -> {({x_{1}, x_{2}, ..., x_{n}} in SpanningSets(V)) = (V = Span({x_{1}, x_{2}, ..., x_{n}})) if (x_{1} in V) and  (x_{2} in V) and  ... and  (x_{n} in V).)\n",
       "   core type: ExprTuple\n",
       "   sub-expressions: 9\n",
       "8. (n, NaturalPos)\n",
       "   core type: ExprTuple\n",
       "   sub-expressions: 40, 10\n",
       "9. (x_{1}, x_{2}, ..., x_{n}) -> {({x_{1}, x_{2}, ..., x_{n}} in SpanningSets(V)) = (V = Span({x_{1}, x_{2}, ..., x_{n}})) if (x_{1} in V) and  (x_{2} in V) and  ... and  (x_{n} in V).\n",
       "   core type: Lambda\n",
       "   parameters: 36\\n   body: 11\n",
       "10. NaturalPos\n",
       "    core type: Literal\n",
       "    sub-expressions: \n",
       "11. {({x_{1}, x_{2}, ..., x_{n}} in SpanningSets(V)) = (V = Span({x_{1}, x_{2}, ..., x_{n}})) if (x_{1} in V) and  (x_{2} in V) and  ... and  (x_{n} in V).\n",
       "    core type: Conditional\n",
       "    value: 12\n",
       "    condition: 13\n",
       "12. ({x_{1}, x_{2}, ..., x_{n}} in SpanningSets(V)) = (V = Span({x_{1}, x_{2}, ..., x_{n}}))\n",
       "    core type: Operation\n",
       "    operator: 21\n",
       "    operands: 14\n",
       "13. (x_{1} in V) and  (x_{2} in V) and  ... and  (x_{n} in V)\n",
       "    core type: Operation\n",
       "    operator: 15\n",
       "    operands: 16\n",
       "14. ({x_{1}, x_{2}, ..., x_{n}} in SpanningSets(V), V = Span({x_{1}, x_{2}, ..., x_{n}}))\n",
       "    core type: ExprTuple\n",
       "    sub-expressions: 17, 18\n",
       "15. and\n",
       "    core type: Literal\n",
       "    sub-expressions: \n",
       "16. ((x_{1} in V), (x_{2} in V), ..., (x_{n} in V))\n",
       "    core type: ExprTuple\n",
       "    sub-expressions: 19\n",
       "17. {x_{1}, x_{2}, ..., x_{n}} in SpanningSets(V)\n",
       "    core type: Operation\n",
       "    operator: 31\n",
       "    operands: 20\n",
       "18. V = Span({x_{1}, x_{2}, ..., x_{n}})\n",
       "    core type: Operation\n",
       "    operator: 21\n",
       "    operands: 22\n",
       "19. (x_{1} in V), (x_{2} in V), ..., (x_{n} in V)\n",
       "    core type: ExprRange\n",
       "    lambda_map: 23\n",
       "    start_index: 39\n",
       "    end_index: 40\n",
       "20. ({x_{1}, x_{2}, ..., x_{n}}, SpanningSets(V))\n",
       "    core type: ExprTuple\n",
       "    sub-expressions: 33, 24\n",
       "21. =\n",
       "    core type: Literal\n",
       "    sub-expressions: \n",
       "22. (V, Span({x_{1}, x_{2}, ..., x_{n}}))\n",
       "    core type: ExprTuple\n",
       "    sub-expressions: 34, 25\n",
       "23. _a -> (x_{_a} in V)\n",
       "    core type: Lambda\n",
       "    parameter: 44\n",
       "    body: 26\n",
       "24. SpanningSets(V)\n",
       "    core type: Operation\n",
       "    operator: 27\n",
       "    operand: 34\n",
       "25. Span({x_{1}, x_{2}, ..., x_{n}})\n",
       "    core type: Operation\n",
       "    operator: 29\n",
       "    operand: 33\n",
       "26. x_{_a} in V\n",
       "    core type: Operation\n",
       "    operator: 31\n",
       "    operands: 32\n",
       "27. SpanningSets\n",
       "    core type: Literal\n",
       "    sub-expressions: \n",
       "28. (V)\n",
       "    core type: ExprTuple\n",
       "    sub-expressions: 34\n",
       "29. Span\n",
       "    core type: Literal\n",
       "    sub-expressions: \n",
       "30. ({x_{1}, x_{2}, ..., x_{n}})\n",
       "    core type: ExprTuple\n",
       "    sub-expressions: 33\n",
       "31. in\n",
       "    core type: Literal\n",
       "    sub-expressions: \n",
       "32. (x_{_a}, V)\n",
       "    core type: ExprTuple\n",
       "    sub-expressions: 41, 34\n",
       "33. {x_{1}, x_{2}, ..., x_{n}}\n",
       "    core type: Operation\n",
       "    operator: 35\n",
       "    operands: 36\n",
       "34. V\n",
       "    core type: Variable\n",
       "    sub-expressions: \n",
       "35. Set\n",
       "    core type: Literal\n",
       "    sub-expressions: \n",
       "36. (x_{1}, x_{2}, ..., x_{n})\n",
       "    core type: ExprTuple\n",
       "    sub-expressions: 37\n",
       "37. x_{1}, x_{2}, ..., x_{n}\n",
       "    core type: ExprRange\n",
       "    lambda_map: 38\n",
       "    start_index: 39\n",
       "    end_index: 40\n",
       "38. _a -> x_{_a}\n",
       "    core type: Lambda\n",
       "    parameter: 44\n",
       "    body: 41\n",
       "39. 1\n",
       "    core type: Literal\n",
       "    sub-expressions: \n",
       "40. n\n",
       "    core type: Variable\n",
       "    sub-expressions: \n",
       "41. x_{_a}\n",
       "    core type: IndexedVar\n",
       "variable: 42\n",
       "index: 44\n",
       "42. x\n",
       "    core type: Variable\n",
       "    sub-expressions: \n",
       "43. (_a)\n",
       "    core type: ExprTuple\n",
       "    sub-expressions: 44\n",
       "44. _a\n",
       "    core type: Variable\n",
       "    sub-expressions: "
      ]
     },
     "metadata": {},
     "output_type": "display_data"
    }
   ],
   "source": [
    "# display the expression information\n",
    "stored_expr.expr_info()"
   ]
  },
  {
   "cell_type": "code",
   "execution_count": null,
   "metadata": {},
   "outputs": [],
   "source": []
  }
 ],
 "metadata": {
  "kernelspec": {
   "display_name": "Python 3",
   "language": "python",
   "name": "python3"
  }
 },
 "nbformat": 4,
 "nbformat_minor": 0
}