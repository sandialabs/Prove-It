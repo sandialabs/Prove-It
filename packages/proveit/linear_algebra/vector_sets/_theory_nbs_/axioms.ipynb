{
 "cells": [
  {
   "cell_type": "markdown",
   "metadata": {},
   "source": [
    "Axioms for the theory of <a class=\"ProveItLink\" href=\"theory.ipynb\">proveit.linear_algebra.vector_sets</a>\n",
    "========"
   ]
  },
  {
   "cell_type": "code",
   "execution_count": null,
   "metadata": {},
   "outputs": [],
   "source": [
    "import proveit\n",
    "# Prepare this notebook for defining the axioms of a theory:\n",
    "%axioms_notebook # Keep this at the top following 'import proveit'.\n",
    "\n",
    "from proveit import n, v, w, K, H, V\n",
    "from proveit.core_expr_types import a_1_to_n, x_1_to_n\n",
    "from proveit.logic import And, Forall, Exists, Equals, Set, InSet, NotInSet, SetOfAll\n",
    "from proveit.numbers import NaturalPos, Complex, KroneckerDelta\n",
    "from proveit.linear_algebra import lin_comb_axn, some_nonzero_a\n",
    "from proveit.linear_algebra import (\n",
    "    VecSpaces, VecZero, InnerProd, InnerProdSpaces,\n",
    "    SpanningSets, LinDepSets, Bases, Span, Dim)"
   ]
  },
  {
   "cell_type": "code",
   "execution_count": null,
   "metadata": {},
   "outputs": [],
   "source": [
    "%begin axioms"
   ]
  },
  {
   "cell_type": "code",
   "execution_count": null,
   "metadata": {},
   "outputs": [],
   "source": [
    "span_def = Forall(K, Forall(\n",
    "    V, Forall(\n",
    "        n, Forall(x_1_to_n,\n",
    "                  Equals(Span(Set(x_1_to_n)),\n",
    "                         SetOfAll(a_1_to_n, lin_comb_axn,\n",
    "                                  domain=K)).with_wrap_after_operator(),\n",
    "                  domain=V).with_wrapping(),\n",
    "        domain=NaturalPos),\n",
    "    domain=VecSpaces(K)))"
   ]
  },
  {
   "cell_type": "code",
   "execution_count": null,
   "metadata": {},
   "outputs": [],
   "source": [
    "spanning_set_def = Forall(K, Forall(\n",
    "    V, Forall(\n",
    "        n, Forall((x_1_to_n), \n",
    "                  Equals(InSet(Set(x_1_to_n), SpanningSets(V)),\n",
    "                         Equals(V, Span(Set(x_1_to_n)))),\n",
    "                  domain=V).with_wrapping(),\n",
    "        domain=NaturalPos),\n",
    "    domain=VecSpaces(K)))"
   ]
  },
  {
   "cell_type": "code",
   "execution_count": null,
   "metadata": {},
   "outputs": [],
   "source": [
    "lindep_set_def = Forall(K, Forall(\n",
    "    V, Forall(\n",
    "        n, Forall((x_1_to_n), \n",
    "                  Equals(InSet(Set(x_1_to_n), LinDepSets(V)),\n",
    "                         Exists(a_1_to_n,\n",
    "                                Equals(lin_comb_axn, VecZero(V)),\n",
    "                                domain=K,\n",
    "                                condition=some_nonzero_a)\n",
    "                         .with_wrapping())\n",
    "                  .with_wrap_after_operator(),\n",
    "                  domain=V).with_wrapping(),\n",
    "        domain=NaturalPos),\n",
    "    domain=VecSpaces(K)))"
   ]
  },
  {
   "cell_type": "code",
   "execution_count": null,
   "metadata": {},
   "outputs": [],
   "source": [
    "bases_def = Forall(K, Forall(\n",
    "    V, Forall(\n",
    "        n, Forall(x_1_to_n, \n",
    "                  Equals(InSet(Set(x_1_to_n), Bases(V)),\n",
    "                         And(InSet(Set(x_1_to_n), SpanningSets(V)),\n",
    "                             NotInSet(Set(x_1_to_n), LinDepSets(V)))\n",
    "                         .with_wrap_after_operator()) \n",
    "                  .with_wrap_after_operator(),\n",
    "                  domain=V).with_wrapping(),\n",
    "        domain=NaturalPos),\n",
    "    domain=VecSpaces(K)))"
   ]
  },
  {
   "cell_type": "code",
   "execution_count": null,
   "metadata": {},
   "outputs": [],
   "source": [
    "# Every basis of a finite basis set has the same number of vectors,\n",
    "# so we define Dim(V) as the number of vectors in any basis of V.\n",
    "dim_def = Forall(K, Forall(\n",
    "    V, Forall(\n",
    "        n, Forall(x_1_to_n, \n",
    "                  Equals(Dim(V), n),\n",
    "                  condition=InSet(Set(x_1_to_n), Bases(V))),\n",
    "        domain=NaturalPos),\n",
    "    domain=VecSpaces(K)))"
   ]
  },
  {
   "cell_type": "code",
   "execution_count": null,
   "metadata": {},
   "outputs": [],
   "source": [
    "%end axioms"
   ]
  },
  {
   "cell_type": "code",
   "execution_count": null,
   "metadata": {},
   "outputs": [],
   "source": []
  }
 ],
 "metadata": {
  "kernelspec": {
   "display_name": "Python 3",
   "language": "python",
   "name": "python3"
  }
 },
 "nbformat": 4,
 "nbformat_minor": 0
}
