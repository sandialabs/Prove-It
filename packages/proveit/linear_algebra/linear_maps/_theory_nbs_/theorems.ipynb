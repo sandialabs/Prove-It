{
 "cells": [
  {
   "cell_type": "markdown",
   "metadata": {},
   "source": [
    "Theorems (or conjectures) for the theory of <a class=\"ProveItLink\" href=\"theory.ipynb\">proveit.linear_algebra.linear_maps</a>\n",
    "========"
   ]
  },
  {
   "cell_type": "code",
   "execution_count": null,
   "metadata": {},
   "outputs": [],
   "source": [
    "import proveit\n",
    "# Prepare this notebook for defining the theorems of a theory:\n",
    "%theorems_notebook # Keep this at the top following 'import proveit'.\n",
    "\n",
    "from proveit import Function\n",
    "from proveit import x, y, K, P, V, W\n",
    "from proveit.logic import Forall, InSet, InClass, Equals\n",
    "from proveit.linear_algebra import (\n",
    "    VecSpaces, LinMap, VecAdd, LinMapAdd)"
   ]
  },
  {
   "cell_type": "code",
   "execution_count": null,
   "metadata": {},
   "outputs": [],
   "source": [
    "%begin theorems"
   ]
  },
  {
   "cell_type": "markdown",
   "metadata": {},
   "source": [
    "A linear map from $V$ to $W$ will map an element of $V$ to an element of $W$.  We don't place a restriction on $V$ or $W$, but they should be proper vector spaces for $P \\in \\mathcal{L}(V, W)$ to be provable."
   ]
  },
  {
   "cell_type": "code",
   "execution_count": null,
   "metadata": {},
   "outputs": [],
   "source": [
    "lin_map_domains = Forall(\n",
    "    (V, W), Forall(P, Forall(x, InSet(Function(P, x), W),\n",
    "                             domain=V),\n",
    "                   domain=LinMap(V, W)))"
   ]
  },
  {
   "cell_type": "code",
   "execution_count": null,
   "metadata": {},
   "outputs": [],
   "source": [
    "lin_map_linearity = Forall(\n",
    "    (V, W), Forall(P, Forall((x, y), \n",
    "                             Equals(Function(P, VecAdd(x, y)),\n",
    "                                    VecAdd(Function(P, x),\n",
    "                                           Function(P, y))),\n",
    "                             domain=V),\n",
    "                   domain=LinMap(V, W)))"
   ]
  },
  {
   "cell_type": "markdown",
   "metadata": {},
   "source": [
    "### Linear map sets are vector spaces"
   ]
  },
  {
   "cell_type": "code",
   "execution_count": null,
   "metadata": {},
   "outputs": [],
   "source": [
    "lin_map_is_vec_space = Forall(\n",
    "    K, Forall(\n",
    "        (V, W), InClass(LinMap(V, W), VecSpaces(K)),\n",
    "        domain=VecSpaces(K)))"
   ]
  },
  {
   "cell_type": "code",
   "execution_count": null,
   "metadata": {},
   "outputs": [],
   "source": [
    "%end theorems"
   ]
  }
 ],
 "metadata": {
  "kernelspec": {
   "display_name": "Python 3",
   "language": "python",
   "name": "python3"
  }
 },
 "nbformat": 4,
 "nbformat_minor": 0
}
