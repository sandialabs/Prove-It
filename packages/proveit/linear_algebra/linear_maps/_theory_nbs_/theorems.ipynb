{
 "cells": [
  {
   "cell_type": "markdown",
   "metadata": {},
   "source": [
    "Theorems (or conjectures) for the theory of <a class=\"ProveItLink\" href=\"theory.ipynb\">proveit.linear_algebra.linear_maps</a>\n",
    "========"
   ]
  },
  {
   "cell_type": "code",
   "execution_count": 1,
   "metadata": {},
   "outputs": [],
   "source": [
    "import proveit\n",
    "# Prepare this notebook for defining the theorems of a theory:\n",
    "%theorems_notebook # Keep this at the top following 'import proveit'.\n",
    "\n",
    "from proveit import Function\n",
    "from proveit import x, y, K, P, V, W\n",
    "from proveit.logic import Forall, InSet, InClass, Equals\n",
    "from proveit.linear_algebra import (\n",
    "    VecSpaces, LinMap, VecAdd, LinMapAdd)"
   ]
  },
  {
   "cell_type": "code",
   "execution_count": 2,
   "metadata": {},
   "outputs": [
    {
     "name": "stdout",
     "output_type": "stream",
     "text": [
      "Defining theorems for theory 'proveit.linear_algebra.linear_maps'\n",
      "Subsequent end-of-cell assignments will define theorems\n",
      "'%end theorems' will finalize the definitions\n"
     ]
    }
   ],
   "source": [
    "%begin theorems"
   ]
  },
  {
   "cell_type": "markdown",
   "metadata": {},
   "source": [
    "A linear map from $V$ to $W$ will map an element of $V$ to an element of $W$.  We don't place a restriction on $V$ or $W$, but they should be proper vector spaces for $P \\in \\mathcal{L}(V, W)$ to be provable."
   ]
  },
  {
   "cell_type": "code",
   "execution_count": 3,
   "metadata": {},
   "outputs": [
    {
     "data": {
      "text/html": [
       "<strong id=\"lin_map_domains\"><a class=\"ProveItLink\" href=\"proofs/lin_map_domains/thm_proof.ipynb\">lin_map_domains</a> (conjecture without proof):<br></strong> <a class=\"ProveItLink\" href=\"../__pv_it/theorems/2dbd50268fdabbea3aff0d05ddbee2cc7033fd670/theorem_expr.ipynb\"><img src=\"data:image/png;base64,iVBORw0KGgoAAAANSUhEUgAAAWAAAAAZBAMAAAD9FenCAAAAMFBMVEX///+IiIgiIiIQEBB2dnbu\n",
       "7u5UVFTMzMzc3NwyMjK6urpmZmaYmJiqqqpEREQAAACk/Np2AAAAAXRSTlMAQObYZgAAAAlwSFlz\n",
       "AAAOxAAADsQBlSsOGwAABOpJREFUWMPNWF1oHFUU/ibZzc7uzO5OlPatzTJBRFASNAhCjGttX9JW\n",
       "R6kFKSSLYLBUZKHFh75kaaFPahZB8EXcQn1Qil0F8a9CtIjRVro+lCoWs7WU2j5sN2BMaGr0nnPv\n",
       "/CWTiVss9sLeOTPnZ757/u6dBWLH83YFd9DQ7AfWkajiDhtnbhPgu+5dR0CPoOOCWSH3lm8f4NH1\n",
       "BDZF0Edj5ImXqBHgJt1eWBtwji7Z6Y4Bx9vNFoXHri9PXP1Y0jJDG2GhxMAjtZ7HRhxz4H7mScCf\n",
       "E+uttQEbQgrpSseA4+0+R1NexO+SI2keb66QOiGW8pR4/yuSJwHTjd5cG3CqJC6vd54S8XZP0jRp\n",
       "AbOWpHmcXiE1VZeAi5InAacdQTVicpiWvbNzwPF2B2nqE0XUV5Q0j25HXjfbNhfPuHDWO9PI1CRP\n",
       "AjZFeqbjiu7MrdTeaLzdDBu8Tr9yxjeelqXy3gZ1L3JGO2shoXgSMB607aE4wN223V+8hS4RZ9dg\n",
       "g8sC+RzTyd4XDogoJkrc5bxU7i7gtckiZrgCSy7gT4DLcYCNMnJOFO+n1RtREHCcXXZlag76lgbT\n",
       "BjZaHwEmO9uv8K5BFKfqSYtowVOAj0AvwRROzI6UcWoIXw9hbCgAWHCPCOqDpe0TnqVf/xAWaq6S\n",
       "+VBRkMlLRdQDgNmuP1xhiYSSW/tz646apGfQV3lJNLgCA/bX1c6Wx5sJ2QgLLuCcQ8QTApmITa6J\n",
       "nirMcnDjuMzbgCkUCkhtbAlh45wN7PaU0AL2At8CxwKApV0erOUKc6yJk2t7dBlXWY6f7LfF4P6S\n",
       "m9dEHr8PxVOAsxYtadbh3DaqeGYQT4d2uh957qlDa+MLXspWnAc1WqWEz5DsB0Uu7fiApV0erOUK\n",
       "e4DzVZ/GHNciN4wxP9UXN4g8lqsUPAUY1a+o5dU4t7VB7GjDCgFOm3Tf3UBXXeMy1udpLnhKuBuJ\n",
       "s5zAXh8bde32frq9IrVcYY41yU0WfTqziGfdlOjyt7qb4qXDzoqUwE6qyrylk9lsO3twPlULAU78\n",
       "TCpTjr5PLT5B8dKrnhJmcf6Ec5DU6wHAZFervJxuSC1XmGNNLuiruXTyWk+bdgeTE0Hz/KWJPpK+\n",
       "qWqg6QE+TLWRLnG8UouavqCFDz/6w0Sd6t3k4LgMIr040/SUMFmxpsqWeugBJrsmLqaUliusepTY\n",
       "Ejw6u7BnMCMcbUiob3uFuijWU1DpYXmAc5RhRoG7dfKGhb++WXFau0LTBE3ftVqtBibJ49mSp4Tx\n",
       "o8hfoIepIGC2iwVXyxXmhBQo9v590aWTH1q//EDJINvQ7muqFDLC64YKt+C5gOVibsj0W2pgaTrq\n",
       "eDlM0wEm94lfmbC5SvkvkecTQSglVHHrSssV5hE8Lvv0IXU99pu9am89hDDg1JJwr1jQCHBf1HlY\n",
       "X+R8o6XryyffzdWo6EgJu0SONNFVDaWfC/hwoppQ+w4LRx1zToePRGsfl0KAcY8w+SjwO/BiFODN\n",
       "SxQunbLDOP7kwBWWJCXsbyBXQQ9HM1dZAXj3949vk1pS2Ku6SgS99uFO8sKAOaLrfnHsarXcFuJt\n",
       "EoFIj0V/cQS01Eg2I+joE4DPWw34XCefSIZyTDbwmm0usWW9b7pXI+iZGHnB0/pXAZ7u6JtOoTMD\n",
       "54Xa//7V/EbM/xLJf/HkP/9fYvgfz6VrKx9eSCEAAAAASUVORK5CYII=\n",
       "\" style=\"display:inline;vertical-align:middle;\" /></a><br>"
      ],
      "text/plain": [
       "lin_map_domains: forall_{V, W} [forall_{P in LINMAP(V, W)} [forall_{x in V} (P(x) in W)]]"
      ]
     },
     "execution_count": 3,
     "metadata": {},
     "output_type": "execute_result"
    }
   ],
   "source": [
    "lin_map_domains = Forall(\n",
    "    (V, W), Forall(P, Forall(x, InSet(Function(P, x), W),\n",
    "                             domain=V),\n",
    "                   domain=LinMap(V, W)))"
   ]
  },
  {
   "cell_type": "code",
   "execution_count": 4,
   "metadata": {},
   "outputs": [
    {
     "data": {
      "text/html": [
       "<strong id=\"lin_map_linearity\"><a class=\"ProveItLink\" href=\"proofs/lin_map_linearity/thm_proof.ipynb\">lin_map_linearity</a> (conjecture without proof):<br></strong> <a class=\"ProveItLink\" href=\"../__pv_it/theorems/3ce23e57de7ca7bfeec4ef8d412931025494832e0/theorem_expr.ipynb\"><img src=\"data:image/png;base64,iVBORw0KGgoAAAANSUhEUgAAAf4AAAAZBAMAAAAid1GYAAAAMFBMVEX///+IiIgiIiIQEBB2dnbu\n",
       "7u5UVFTMzMzc3NwyMjK6urpmZmaYmJiqqqpEREQAAACk/Np2AAAAAXRSTlMAQObYZgAAAAlwSFlz\n",
       "AAAOxAAADsQBlSsOGwAABiZJREFUWMPdWG+ME0UUf9vettvudm9PkZgg0CxR4gdildMPBklVNOEU\n",
       "UgziH5KzGCUaCNaIfuDLNUj4pNCYYEz8Vwx+MAHvBCOCZ6wS4ykYelGCRiI1hj8Srb2Eyx13EZ03\n",
       "O7Mzu90trQmJMsmbvm7f77f97byZebMALdvjdhGu3KbYCy4RUYIrux25TPqvmt9eXDHED48KuqZd\n",
       "koH/VBSm2IXLp7+vzQSsBvu+trM1EmaHx/nCd0rWVUb9Nbx8Ily/iR+pSqf624N9T2zO36c3vJ5z\n",
       "/DYeUwAylQ2N85NjBDdH/0G8/Fq4fp1EQaLTVbCvLZhK0+sCgHkr80PajlZIeCQ8rol8hzBH/ws4\n",
       "f2rh+uN58rGt4/xvC6ZjfsTHyAiOOb5ouz3fDrdCwnBTnItuIj8szNGfINnRVW0x//FpLet8/rcD\n",
       "i9KUnCB23vFFG/UG5logIdMU56KbyDGCmaPfII8m0Wr9O/JvlsG+tmDvYWc2iE04fpj+RKUFMllq\n",
       "inPRTeQYwczRD7fYdm8r/VHbnpftXH87sA+x6yaTb9Ci/oqZDy2pehSosyxYRRI03wKpk9uoPU9u\n",
       "XCbiXP2CXGJixvTvBzjVSr9eADMX9NsPzeu0pD8UJrU3sBuwYMsCxx9S1uhpj4KuVAaOAhg4xLpN\n",
       "W96PxOHUYaa1l8XJ+gW5xMSM6d8KWh4MMlapxQU41Atf9EJ/r6Sf/LqVeO9P37fWXc5/JrPOKHOQ\n",
       "sTBLXPXXLAwJ/Qzmb4QdvjvDvtDqc+4TS75xfKOoTMa8GfyyXoINZAlL+2hkZISkzAjMLa4Xca5+\n",
       "QS4xMWP6zRw6dxOhJI/MGsRKYBTk+ucUrWYMAkhDfGadBOvHbMBkYiCoAzwN8BXALqn+OdVUBD27\n",
       "4Rx0kcVqC79wO3Z/un4cTGf89tr2Qtu+gXi5qAU3k18aPioZGSX/qAC/0eW+4UHL5BITM6Y/ZeHy\n",
       "d5Ksh5hjJXggAys89d8o7WNDoDTgE/pklsBxwMKBgeAAqPNAtYBuJlz/qH/50/djSTQOkPWouCD5\n",
       "3ZZ//RvMxckSnswE6b8g9AOMYcfjRqXtn4cLJmZMP5Q+J932MskhMoMzcH8DLI/+hIHfo1WIDCk0\n",
       "O7Vx7NMuCK6GrqN08rsbaR+DKbO2fIzlZp7UmddR7BRJc87+Jg7ZeeHDYFH17WAH8C85eS3PfxmZ\n",
       "wJsmJ+HB5vyXyQWTN/9h2Q765DXUlmqkNo3Hyx79XT/if9qe09ZBv7MoYbmklVwQnITjg7lNCB8S\n",
       "+ins2lgN750dj2dUp8gag5dc9l/wiU+5fn/5GSefJAWnwSSCDX+BJiNNC9RzsQamFY/jaIlcYmLG\n",
       "9b+ITzSRp3eOTyrahOI9/2i3oXeoZ3aO1VVRFJ2suSAYKFrbCxa7yPVTWMW0yIzRHk0rtaSzsr0q\n",
       "0h/uxRs3XP/k8/tgj0//RzCIy7vl0y8jyVaWmlidSVZFHEdL5BITM67fxDmtp6+h++2UBX996Tv/\n",
       "0eV6LXZf1+v1KgxgPqTyLgge2wndJ/BiXNLvwLrpghHLxizjrXr9D7I6KWJXfIf88vZFi/ure1LD\n",
       "VZ/+VXd+RqZLxH+QkJHJNKgfWD99CyKOoWVyiYkZ10+bMeXceboK05Wg8+8i7DZSdx2xAkrloO5P\n",
       "oZsW4XL+sw2YHrcj5Wgh7oz70T2CPVII9j3131Jim/3bqCdavGvYHFg98nDOxMyjPz5NBp/8w8UA\n",
       "Nwad/7VJOtVw7LSLw++aZVz/EAQryYSoQYRGKpZXv5ZZCllCGykM8iprYEiwGyG+OMHoJfUOkE84\n",
       "QdHidDQceHqi4RITM49+uJ7IIQFnAZ4K0j9nGsdRw5zWdy+/6QyNRBA8VwWzCDGaeWbRq19dv2tG\n",
       "jtCmhsn2vI0OQkQuCs+G+GLgrFg28HwqR7t3DT/HnpWYuHn10/S95PuflfU63xzcWkc6PPYHvv9J\n",
       "wcPwO3kYy+vnfHT9Ib6A9hzkaReOVLns8IK7X2Li1qz/WCfvv3T21FPSTe/hzl3zPbRrksFEWiXY\n",
       "97WR1kh3Rx0JZeDhI8KUeU36Kx29/2NiDWmalQMDK3Bixv/0/e8rLd7/q21c+a+//1/0DwNCCZcY\n",
       "K+PvAAAAAElFTkSuQmCC\n",
       "\" style=\"display:inline;vertical-align:middle;\" /></a><br>"
      ],
      "text/plain": [
       "lin_map_linearity: forall_{V, W} [forall_{P in LINMAP(V, W)} [forall_{x, y in V} (P(x + y) = (P(x) + P(y)))]]"
      ]
     },
     "execution_count": 4,
     "metadata": {},
     "output_type": "execute_result"
    }
   ],
   "source": [
    "lin_map_linearity = Forall(\n",
    "    (V, W), Forall(P, Forall((x, y), \n",
    "                             Equals(Function(P, VecAdd(x, y)),\n",
    "                                    VecAdd(Function(P, x),\n",
    "                                           Function(P, y))),\n",
    "                             domain=V),\n",
    "                   domain=LinMap(V, W)))"
   ]
  },
  {
   "cell_type": "markdown",
   "metadata": {},
   "source": [
    "### Linear map sets are vector spaces"
   ]
  },
  {
   "cell_type": "code",
   "execution_count": 5,
   "metadata": {},
   "outputs": [
    {
     "data": {
      "text/html": [
       "<strong id=\"lin_map_is_vec_space\"><a class=\"ProveItLink\" href=\"proofs/lin_map_is_vec_space/thm_proof.ipynb\">lin_map_is_vec_space</a> (conjecture without proof):<br></strong> <a class=\"ProveItLink\" href=\"../__pv_it/theorems/b8ee9134c43472e19b6b71ed78fd762ce6096bdb0/theorem_expr.ipynb\"><img src=\"data:image/png;base64,iVBORw0KGgoAAAANSUhEUgAAAd0AAAAzBAMAAAAgKs8bAAAAMFBMVEX///+IiIgiIiIQEBB2dnbu\n",
       "7u5UVFTMzMzc3NwyMjK6urpmZmaYmJiqqqpEREQAAACk/Np2AAAAAXRSTlMAQObYZgAAAAlwSFlz\n",
       "AAAOxAAADsQBlSsOGwAACEZJREFUaN7tmn1sG2cdx7+273Ln80surJ2Y1q1RwnirplRdS6uum66Q\n",
       "oYy22rXqigYDBxDSBkPzlKlCSCiGjvEHLzGwSqyixGMR0l4g3hYVsWb0yjq1KxmxVqCANupulE4T\n",
       "StIkXZ2kjfk9z53vzs45beLQEyGP5PP5yfme+/zef48DeA3x7rt1LLpRnSpYLGYXH2+8WMxX4c1g\n",
       "UY7oEu8S7xLvEu9cRv/V57xH94830n71eaW9/vG+6och/9E3XmmdL6WG6hdvWPODVy74xXvKn8L8\n",
       "d37xfsCfTNSV8odXOu9Tr6D5w1tXtmKqylWpmv218jS62h/eesP1IZCrctUTtS5zg3Oq8NAsX7J4\n",
       "OfEbM3k952sfnZbqfnkLifRPCHRP56C0rGJTHx/bhy+NncHvR41KQUSHR9sht0zYsU48eDA3S4ce\n",
       "I+sNPDjRjrqxsxb7Kov3Rfb+05m8nvO1j0GryHqpOw8xDSTohb+YihgHhElycSrA9lYWZRfLrW5H\n",
       "Eq+nZ6kfuSk1Evg7lAG5lH5r8e5mys7P5PWcr33cb779C715RMi2Q8yvzApTnjJ5BTr/Q6U/TjBo\n",
       "5/MWevb0ZUr0TlLyawySG8JKi5fRC7mZvJ7ztY+PmY57Ht/SEWLlxwh9Spo2+h59JD0+Techy3Jv\n",
       "bGoysYbJD447t3mMXrMogwenlRns5N7DK7pTSZM3SkIOe8Qrz/naxzg/hrjIn2LxmgqfR6y/kQ5X\n",
       "nANY5gibYe2p5XaZki2ZAR9vkzyMqosoXEbdkMxa7mdc2zkrPq9palrrFZ+95msfF2GJnkYfTAMu\n",
       "cayBfHIcUaYTgc/JjhuT3Usq5OeuBz7bug2n1tIdlOatBx8giIZWHWJfaw7fa8jiocPXIaKZ4rO8\n",
       "4pPskDAs3t8AZ7x4veZrr2N5WsBPbLlHLyJaCkPNEMiHt3NH4xoKO3lYuISIjo5UIC3fhieTgWJx\n",
       "HwlhI3ZkcSIVSWNPTlkvbcB1Yh5B0zqU8cCoqyOrVy3eRyGTMJXhryF8q5vXnK9l/NXOs055dakU\n",
       "mWjcbAblkjmTAZ4Up7k5I9bIecsCVh1PKpfCaSLEvV8sGgi3IzZJn5QCHkdsQzCL+r+vo3gXZLYr\n",
       "nNMOmfHndc6rWbxxXWACvgbo0d28fD7arCF2exLRWzQ6Fd82HUJ58F1ITap1ccOyh703TzK2FO1U\n",
       "qUxyfn7ERhakph23HNZVTChc29IIO3Y00bDCUnfqOCTyhscSVoPVMYJwFiKJTuwpiCwudJIEtJbT\n",
       "KYTYPSj0dZmxrpPzZi3emBo2M0QgU2bP5vwnSLRsgSGeSo7Sk1w7lEGIpt5fSo1JHPDk3eVIsadc\n",
       "v+HVNi9GbXPGIYrZawRTLvyKz7v7Ko2UOTUwcLSTydngoiNeTEM88GZBOscu6R8YSO7snjJ56/OI\n",
       "X+BffbKMF+nDPJDId1TUk3ye2jfBTNdiM0Ra6iCL64ERM4zySAJmaR7jRUeKYb2Mt4v5l4j97Lxl\n",
       "p/2FuyhbNr8Cx56DrruF1qvmtxNZKxddsPR7IiMVmJp5CJZ1cTAZZnbcq0J5z7HnRMl/sY1FQanw\n",
       "slrBy+e7MjgGrihhkPlhwLDCbCyJrZsR2Hxf+MuQ5R8f3qLLW4lw2bUp4YiKFfRqdKRoJ3KZx+cX\n",
       "TtKC63GaGzG3Vy6PlXTabbga1YDrkSKjOs/eCvkvch+lW41w/72AW6EUvv44yShEnvErFXUG3824\n",
       "ixTTotubOV2l+Iw9zIEC44+sruDl8/WqzJ/gFE726t+wTex5KnbCuYixBX1yy6oMlcWBdJ0WSgnZ\n",
       "iLYf/Yomq3LakWKs5MAisztlrDja/7ecmScOsaXECV5rUjh+y6IzSfe7AhbTVUcGbfImCKmP5HAP\n",
       "eesG7NAwhcCFY3sMtEkbIfxgHeIpns1amAS5ET5Xln8RZxYaz2NtBS+fD7cLVp2vdiXpIZ612ufM\n",
       "NykMxM4U8B1IN55DBzApp+JGIiV/egT/kKb+rCt5R4qKXQuxFLAr9bnnx+4DfgG7cmxiiuixnIA9\n",
       "gJmJdr3r7IbsY9BfbU1hV18b2p858BV6uAca6Lj7huV3qiL7y6N9bcrWhk9BaYR4f/ELEFqm2X0+\n",
       "zL7emynrB6lPW6l79IORRrPESTyB+jfogleHhoZyTDwaXh4YeHqE95edjHcTlr1P7aV7bho4jl8X\n",
       "M7F2R4qSvc7P3Vk+6TQ0Fbs837bee95qmqVMDldrkT5UlvN5LBjUy3ipTwtpHrzRSdP16l9CPavC\n",
       "Hy7lFZWFefk8D1ZBrt+wEV/epfNUIunRNGMsSdG2Z7zgTljO4wrz2pOvylvWbkQM0wPdvIHuNpwY\n",
       "9+CVWOCjEBqiuoVJOm4pollH3BCNf2J7fYZKE/LffEIPNsQ1Uf037iW+PItXJSk6gWfQrch37LPt\n",
       "FWXYlTVmwWoFUdy9QfJDfvzgFe5v3MTCRI7doY7dRD7rSLC1AcJmNdLTqqHztesR6D962pqLbT6S\n",
       "Ihpbis76CXfL5eTXito/fkWbmMrw7VU2fkQ3F6+KxYtz2c9xPeTOoSGPzZ4Oj5v0eIHF3SYoV2tx\n",
       "jtVap3/f5TVcJrHCHHhjlxV3p8dcxBG+U8pEV/uzPxlJz4E3etm2Z9grctzhqqRtS5v0hzeU++/v\n",
       "T4ozTmjc6Q/vNX79vhBKzml7foW2MMveNm/eh47UtPBs22wzx26kFwQ3kJ4vr9Re467Wj+Zy8dkF\n",
       "sqo9qfnyxpM1Lr1jLj+W3IQF+TlRvBnz5Q3qYo1bWHvncHHPm8ZC8MaNefMq22r9keW7Vz86fwbz\n",
       "5v2fHku8S7z/F7yvLM7/995ejXfR/r/3fwBMgIYne5mHiAAAAABJRU5ErkJggg==\n",
       "\" style=\"display:inline;vertical-align:middle;\" /></a><br>"
      ],
      "text/plain": [
       "lin_map_is_vec_space: forall_{K} [forall_{V, W in_c VecSpaces(K)} (LINMAP(V, W) in_c VecSpaces(K))]"
      ]
     },
     "execution_count": 5,
     "metadata": {},
     "output_type": "execute_result"
    }
   ],
   "source": [
    "lin_map_is_vec_space = Forall(\n",
    "    K, Forall(\n",
    "        (V, W), InClass(LinMap(V, W), VecSpaces(K)),\n",
    "        domain=VecSpaces(K)))"
   ]
  },
  {
   "cell_type": "code",
   "execution_count": 6,
   "metadata": {},
   "outputs": [
    {
     "name": "stdout",
     "output_type": "stream",
     "text": [
      "These theorems may now be imported from the theory package: proveit.linear_algebra.linear_maps\n"
     ]
    }
   ],
   "source": [
    "%end theorems"
   ]
  }
 ],
 "metadata": {
  "kernelspec": {
   "display_name": "Python 3",
   "language": "python",
   "name": "python3"
  },
  "language_info": {
   "codemirror_mode": {
    "name": "ipython",
    "version": 3
   },
   "file_extension": ".py",
   "mimetype": "text/x-python",
   "name": "python",
   "nbconvert_exporter": "python",
   "pygments_lexer": "ipython3",
   "version": "3.7.4"
  }
 },
 "nbformat": 4,
 "nbformat_minor": 1
}