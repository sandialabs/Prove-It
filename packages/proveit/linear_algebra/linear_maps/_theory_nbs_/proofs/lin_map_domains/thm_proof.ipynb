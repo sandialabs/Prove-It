{
 "cells": [
  {
   "cell_type": "markdown",
   "metadata": {},
   "source": [
    "Proof of <a class=\"ProveItLink\" href=\"../../../../../_theory_nbs_/theory.ipynb\">proveit</a>.<a class=\"ProveItLink\" href=\"../../../../_theory_nbs_/theory.ipynb\">linear_algebra</a>.<a class=\"ProveItLink\" href=\"../../theory.ipynb\">linear_maps</a>.<a class=\"ProveItLink\" href=\"../../theorems.ipynb#lin_map_domains\">lin_map_domains</a> theorem\n",
    "========"
   ]
  },
  {
   "cell_type": "code",
   "execution_count": 1,
   "metadata": {},
   "outputs": [],
   "source": [
    "import proveit\n",
    "theory = proveit.Theory() # the theorem's theory"
   ]
  },
  {
   "cell_type": "code",
   "execution_count": 2,
   "metadata": {},
   "outputs": [
    {
     "data": {
      "text/html": [
       "With these <a href=\"allowed_presumptions.txt\">allowed</a>/<a href=\"disallowed_presumptions.txt\">disallowed</a> theorem/theory presumptions (e.g., to avoid circular dependencies), we begin our proof of<br><strong id=\"lin_map_domains\">lin_map_domains:</strong> <a class=\"ProveItLink\" href=\"../../../__pv_it/theorems/0af76ddea06706e1de0d254ee3fdfe413761811d0/expr.ipynb\"><img src=\"data:image/png;base64,iVBORw0KGgoAAAANSUhEUgAAAWMAAAAZBAMAAAAWIlLBAAAAMFBMVEX///8AAAAAAAAAAAAAAAAA\n",
       "AAAAAAAAAAAAAAAAAAAAAAAAAAAAAAAAAAAAAAAAAAAv3aB7AAAAD3RSTlMAq1RmmUTNIjK7EInv\n",
       "3XZ/CtNrAAAACXBIWXMAAA7EAAAOxAGVKw4bAAAFGklEQVRYw82YXWgcVRSAz87M7s7OZGc3KGp8\n",
       "WqmIYDVBqy1STWjtj0JlVPrQCu36JIqYrYJQbM360AepmEWMdEt/5kGEWGqH1j4EbV3NU4g/64t/\n",
       "ZHFaFTHYdLUJ20SonnPuzOxMdjNhhUouOz9nzp1zvnvuuT+zAJElVvsOVlS5VMstUyMBK63IfdcJ\n",
       "+dL3y1RItpUKEW+gzqgVrx/y2eUqXGwr7Yp4g3S6SchZElctjRyji9TXMXK0XcnGmB2f7373MU/i\n",
       "Yizyow9OmLGvv7Gkn8ZZJ5A3kerZpZEVky6FjpGj7b5Pp0we4IjlSVyeX1RvNzbmUyR4QugE8uuU\n",
       "SqWlkVUK197OEyPa7kY6DTsAvY4ncVmzqN7QgEC2hU4gJ7CZei4il6nhpztHjrZbodPlIh62J3Hp\n",
       "skSCHK19yzenMGCDfRA3hU4g0whMRA2/+/CS7xw50q7EBo/TUfQk4Y+TOf6i5cqYO0a/A7qrE8jw\n",
       "Za02GYXcVatN2f9hxoiyq7DBeQD1mitpM7cexL7UedS+YvlRr8JLwzas5bGY9ZC3AhyOQlaKkLLa\n",
       "hqplTBpB5Ci7HEzETZ7LuZICF5xtuFDkw6M2XQF7aEBzeBHJe8h7IJkFGQMpTeBE/YUtTdnaEbuJ\n",
       "jNo9eLdj9qNun1F6AY3cDw9hGFcfAlg/CXdPwugkDASQ2W5g1XI9CBIiNf78+IzpSWuh37oBDXNa\n",
       "BxKlLhVPlXThtOIhpyy8gU+QjTjLADcBrAsuJYd5YZCroFcB3uoZQWHDySpo2E/o4FUUUyWI5UEu\n",
       "wtMBZGGXi3qhbPoeuL9Jk6oHpCJs5pr0TMWcqv3AqtSCgfm8HVydiyw5xNVriRzfDNoUiI7wkO/h\n",
       "VscGwKiDspWzypaKNGFLC2L6UfJwsgIfAk8THrKwy+WRYsCDj5zJByX4igceRVlrzo1KYxrzWbQ0\n",
       "7kcZ8g/TBGiKHP8D9P5ATpLXhEwt6MpBOgs/i9mSyNIYtTmQKVmMCpypgxOY1c56dme2/FIQa5rn\n",
       "wU+MYTsoxRvwAbazSg+qzeXvCrodF4FAnYd8mmbejJNkw71w527rQAhZv8NizOSNXvvHeFjjcQ1e\n",
       "ZmN16cCCirGSBgLIZNco9CRyo2K+cj1wf1MQLptNSRuJVajDZHYw0xzQOKskrrijoeQj76NRksiK\n",
       "XhsuOENFJ4Sc/Izu1s9ctCAunI7TaQcez3BegNowklepa+KlADLZleGYCk8JU1m9GTxyORiQpKvv\n",
       "VeI5b/ZL+EuQ3MAWVf2Z0UOOUaYp1Wmx3OyCzCorvJO7hU7dbOG5cvltUBfo/jY8thlcVZtz4K8H\n",
       "iT2IzHYBfT5QLpdzvgduI1I8+s+xpqQ97tx+L+UIR17r2emq4jav0iJ/TB9ZNGdOtCyzATIb220+\n",
       "ObIqB0HB7lfhDbzrf1IoZ3MwS6ZCiSFwKkk4GPLAJbydbkr7XdIxd8EOlv0QRlZn8XQCR1kJ0vk2\n",
       "yMkGX3hxGHpnHYzQ8INhRNSwGRMA7MJwFiHv0/OKuxKxh/bbnzXh7dLSW6kQMvyIx5s5iBXo14r8\n",
       "+9/sdy92trbprqPzuCRitTQ+VD8HuJl/wM9CyMqv56checj34I+/0MrpS0tv/YQujMwlt9xXiTZW\n",
       "HgmkmZh8murR9l8lJ8plc5GdUlspFbEvJ10rctzq5ENqi3vd2foIzi337fdaW+m3iDdQZ0y1IMsd\n",
       "ffvpbgObNmRzJXxhR/2P0dIn2v/wP8ZU378uPmOLl0HoYwAAAABJRU5ErkJggg==\n",
       "\" style=\"display:inline;vertical-align:middle;\" /></a><br>(see <a class=\"ProveItLink\" href=\"../../../__pv_it/theorems/263b40884e9d167c175ce67a56611f63f71187700/dependencies.ipynb\">dependencies</a>)<br>"
      ],
      "text/plain": [
       "<IPython.core.display.HTML object>"
      ]
     },
     "metadata": {},
     "output_type": "display_data"
    }
   ],
   "source": [
    "%proving lin_map_domains"
   ]
  },
  {
   "cell_type": "code",
   "execution_count": null,
   "metadata": {},
   "outputs": [],
   "source": []
  }
 ],
 "metadata": {
  "kernelspec": {
   "display_name": "Python 3",
   "language": "python",
   "name": "python3"
  }
 },
 "nbformat": 4,
 "nbformat_minor": 0
}