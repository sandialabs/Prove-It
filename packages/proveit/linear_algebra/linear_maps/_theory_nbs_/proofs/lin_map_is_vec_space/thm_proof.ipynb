{
 "cells": [
  {
   "cell_type": "markdown",
   "metadata": {},
   "source": [
    "Proof of <a class=\"ProveItLink\" href=\"../../../../../_theory_nbs_/theory.ipynb\">proveit</a>.<a class=\"ProveItLink\" href=\"../../../../_theory_nbs_/theory.ipynb\">linear_algebra</a>.<a class=\"ProveItLink\" href=\"../../theory.ipynb\">linear_maps</a>.<a class=\"ProveItLink\" href=\"../../theorems.ipynb#lin_map_is_vec_space\">lin_map_is_vec_space</a> theorem\n",
    "========"
   ]
  },
  {
   "cell_type": "code",
   "execution_count": 1,
   "metadata": {},
   "outputs": [],
   "source": [
    "import proveit\n",
    "theory = proveit.Theory() # the theorem's theory"
   ]
  },
  {
   "cell_type": "code",
   "execution_count": 2,
   "metadata": {},
   "outputs": [
    {
     "data": {
      "text/html": [
       "With these <a href=\"allowed_presumptions.txt\">allowed</a>/<a href=\"disallowed_presumptions.txt\">disallowed</a> theorem/theory presumptions (e.g., to avoid circular dependencies), we begin our proof of<br><strong id=\"lin_map_is_vec_space\">lin_map_is_vec_space:</strong> <a class=\"ProveItLink\" href=\"../../../__pv_it/theorems/1f1ed5570be0d0827a197923a448051b5ad138370/expr.ipynb\"><img src=\"data:image/png;base64,iVBORw0KGgoAAAANSUhEUgAAAeQAAAAzBAMAAAC0zGbpAAAAMFBMVEX///8AAAAAAAAAAAAAAAAA\n",
       "AAAAAAAAAAAAAAAAAAAAAAAAAAAAAAAAAAAAAAAAAAAv3aB7AAAAD3RSTlMAq1RmmUTNIjK7EInv\n",
       "3XZ/CtNrAAAACXBIWXMAAA7EAAAOxAGVKw4bAAAIjElEQVRo3u2aD2wT1x3Hv7F9vvOdfY5U7U9R\n",
       "tXhrx9AWhkfGREtHXMi6SrTgVuukLlXxhtqpLRruWk3bYI2ZNE3TMuJOigoUmpvWVloQ5Aq0aM1K\n",
       "Ay2igzFQRaepi5UrbEUQlqQkIYSQZL/33vlv7EAST6dlOWG/u+e7e+/z+/9eAIodamurgVl5tLa2\n",
       "Fv8hMD4emZ3ILePDJZCjmLXH7XPIc8hzyHPI0zxWOIP6iuEYsqfSGWTlA8eQv+aURX/FKWTlmFPI\n",
       "vpBDyF7TKWT1mEPIi5wr3u9yCPkfzqWnhrgjyMpV55B9piPIFcn863iJ++IzH0ouPHV3OIIcDOdd\n",
       "6qES9z0y86HOZE8li4NfEsi8MLh1InIFa13hciM32eqTdhxhzZegbxgOQek6za5ev9aMW0bnYeG1\n",
       "sF4wsrtltBJy158zwU+tqwtNuqZ3kRnrVcOVqLi2FWd512mB/A3WfH8isocp2hsvN3Kt3dbNZ0t1\n",
       "NQa00Qf3CzmMANogtaSHJwqLtv5869udwMLYpAUmN6pTxD6PQLio7hbIm5nGkxORFab+n5TdsD9p\n",
       "R5JKiSF7SJd+5mGiCJUHBLJG518t9MzL7P7s9X7S/KTIK7lRkaoXMyPhBtErkBm/Firiy0zMe8uO\n",
       "fEg0vYb8BjV+Zkl9ZIAJYawf0yVp80H2k23C51MpQdZCFrck+6In6ZOcbCQeq3qj2MUtlZchixIc\n",
       "2U2C9hYLXzXUxsqOPCKad0Qzn8XwIWCj/Stp8uwYwJKJVzjzty9kaphI2hj4sYNIJos0Lj73DVBE\n",
       "tbeO6zwkIvaJVOp4MWR/KtVZ/uKwXwTqQXG1CsKS0ygnIC8YgZvpReN9ctalyQEUC/JqsuiX2vdi\n",
       "0QjNUVq/r+4mMtuedgPqqvYQnumOYMvyj5gPmEKGtoO8yr7awgL5HmB7MWRPAr6yF4ciTyDQgYzs\n",
       "3f1wp6NSJzTy5z08RHMt5cRP7RI8Bhrjekw+jIcT+vj4oySHI9gdQXXcE8OmkPSuchQfqUkE0lYi\n",
       "jeijOeu3oCWQn4JMApWqVsD7Ti4y9T41Mz5Xer56tvgSyA12enlPhOm0XZMdLlCHuV3DxaXizYtf\n",
       "FTzPXPLGCBK/v2U8DG8lXIN0JQ3hMbiOBiIIfv4YHy/AjFgbM9eIOFXNkU2B7DM0JuSLQL2RV4ps\n",
       "x2vA18noq7fC/RfT1WmqO4SlS1XNUFKWfXNP96+LI1OwuX8ghPURZBKoJCy611Yry83EmHHRFsPC\n",
       "ZYn/qPSx78YUHXaU2hBfAoUc48k2298a++CNQKUwr9YPqSxKNJEQzK4Xmaj9PMn2o0HEoyaOHBHI\n",
       "LouL8jno0fzq68ssemkdIrhs4/llKZ1tubkZfhr0XDphJuwlyoTFGpHoHZAoNNcXaHk9ssgYzdg1\n",
       "1jxr4IQmhMO1/IfcNZhJKh2oqVnaxIQd5vIjZAxDvetzQ8oYu2VlTU1iV9dAGjmYhO8Kf/jhXGTE\n",
       "lvO4wrNGLrLXTa92XRUB9G6onVCpw3MPs9Q+0QuRaCqK7/hEWf7Fv5CuBDLIMg9ihjBsdO3KPPIW\n",
       "5dDOO4RXnOITyXmf/11LPN8WsRPUFVvL1VFliCmbh2TZQG3CNuy1FqSP+cMLc30Ze1lUVIbutAqQ\n",
       "tfk0KXlQBNCL0Gq5j5y1A68rgX090A9+yjsPsrxz+X5D3keVXPeHcdZ/ZlmYTzcY3shoM4lfwHoO\n",
       "f4fMksZ4kVtz0hYAGTydbhCpx8179ZxJeUYNntcl8mWE3qeX9XFfvoIBSEO/fIzE5CfDesBCBb3C\n",
       "x558i9i7jMxiImhHbGxirqSPbOwoQJZ52TCGp7lVYcFa4xdkrcKx7qNCyBvyhPdjldx1Okqlsx6r\n",
       "MP1xLeIxqX+JKVv4ERP703/lKks7s8rMD2tPjp9evC6dOtawwdTLvBwl6e60AYUVfS8nfjF9kaAO\n",
       "yG9Di/8thFfIc49it0nI+pUvbArjgHIE2g+PwRe3k1wXE6OZTodosPMyKlhN4kvieOFK6tPs67vC\n",
       "gpviVkOCBCcJHTREf04RQdo+hJ9C+XAMjcCgHPeF2+KyQf1bB74IPMTGO/An7piZOoklBfl59bau\n",
       "Q2zU3yBTWqaYMpjPv5a3mPtdczZRPsqereuO46XV51D5rVc/QR5zUw99bz5z4U1LreuJ45nVB6SD\n",
       "PewVyimoN49/BtrJYWal73OIaO7ikXTeaxRbPN6n8+62RxC8lc7cj2/b9lsmIRN31tQ8SD6tsnBI\n",
       "yG+j+9/WWrqV+qMPjUfxWR71WKSDkkF+PD//J7IZraAG+Jnd1u9MTVIDeksvpv6eVw+cymxC3Z6z\n",
       "qPObxZBrHxAiWYEgK9Tt+k0atFjcl6/y2BXgWg6EfRcaDJ4PFIMqiV9xn9ev5ho27s1fEmZnrBVb\n",
       "FVx/87A0ct66xMON883cLQK95Q1UjxRDbqKXUkj1U03DpW1Xap0GfGHVegF7glEqWZoMPdlmBHp8\n",
       "pmpR/5kIeA2kUP18PC8K1eYr8/nM2Z6CMi15Q8iB0n8H8OUufMWS8Lkb2xUJ0BwbQ6iIs3/sYWGL\n",
       "t9GnvQfaQctT326iafE/oa9c+gPWRx/X6mVxNub5EcN10swdvi1/0ZbNu9YkEy55SFWHSt6nJieI\n",
       "tn8KG0E581T/uK154gONxeZjFiHz5VuibJWY8LmZ1/PP5uw3ccFQVXrDyNJ1lxdNxTq/WeTM3eHc\n",
       "DqcWu3Fk93UXSFXFlplaWlLZihLqoHPI/tB/f4czjazm9L3uHPJFh/5a4U9Mca//bNn2KQ5PF3nL\n",
       "shmN657i5tJmJMtErMemiaxU+mY28rqp3b61bPa1KT5NZF9ihiPvntre+Aco026U+h6miRww1Blu\n",
       "fz0xpdvra8r0FxNfeLrI0r6aGY79Y2fi9cuYLvL//DGHPIf8f4V8x+z9L+jnSyDP5v+C/h8dm1zM\n",
       "n9WX7gAAAABJRU5ErkJggg==\n",
       "\" style=\"display:inline;vertical-align:middle;\" /></a><br>(see <a class=\"ProveItLink\" href=\"../../../__pv_it/theorems/87eb5aa6d03a53adac6d5c1007f77b432fa957fb0/dependencies.ipynb\">dependencies</a>)<br>"
      ],
      "text/plain": [
       "<IPython.core.display.HTML object>"
      ]
     },
     "metadata": {},
     "output_type": "display_data"
    }
   ],
   "source": [
    "%proving lin_map_is_vec_space"
   ]
  },
  {
   "cell_type": "code",
   "execution_count": null,
   "metadata": {},
   "outputs": [],
   "source": []
  }
 ],
 "metadata": {
  "kernelspec": {
   "display_name": "Python 3",
   "language": "python",
   "name": "python3"
  }
 },
 "nbformat": 4,
 "nbformat_minor": 0
}