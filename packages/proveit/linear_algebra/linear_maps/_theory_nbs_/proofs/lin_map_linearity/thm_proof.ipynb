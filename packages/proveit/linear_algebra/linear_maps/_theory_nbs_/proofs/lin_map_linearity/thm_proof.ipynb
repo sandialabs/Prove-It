{
 "cells": [
  {
   "cell_type": "markdown",
   "metadata": {},
   "source": [
    "Proof of <a class=\"ProveItLink\" href=\"../../../../../_theory_nbs_/theory.ipynb\">proveit</a>.<a class=\"ProveItLink\" href=\"../../../../_theory_nbs_/theory.ipynb\">linear_algebra</a>.<a class=\"ProveItLink\" href=\"../../theory.ipynb\">linear_maps</a>.<a class=\"ProveItLink\" href=\"../../theorems.ipynb#lin_map_linearity\">lin_map_linearity</a> theorem\n",
    "========"
   ]
  },
  {
   "cell_type": "code",
   "execution_count": 1,
   "metadata": {},
   "outputs": [],
   "source": [
    "import proveit\n",
    "theory = proveit.Theory() # the theorem's theory"
   ]
  },
  {
   "cell_type": "code",
   "execution_count": 2,
   "metadata": {},
   "outputs": [
    {
     "data": {
      "text/html": [
       "With these <a href=\"allowed_presumptions.txt\">allowed</a>/<a href=\"disallowed_presumptions.txt\">disallowed</a> theorem/theory presumptions (e.g., to avoid circular dependencies), we begin our proof of<br><strong id=\"lin_map_linearity\">lin_map_linearity:</strong> <a class=\"ProveItLink\" href=\"../../../__pv_it/theorems/f0f623f8ae4df6cadd77a7348bc3ed512d1ea51e0/expr.ipynb\"><img src=\"data:image/png;base64,iVBORw0KGgoAAAANSUhEUgAAAgkAAAAZBAMAAABJBaB5AAAAMFBMVEX///8AAAAAAAAAAAAAAAAA\n",
       "AAAAAAAAAAAAAAAAAAAAAAAAAAAAAAAAAAAAAAAAAAAv3aB7AAAAD3RSTlMAq1RmmUTNIjK7EInv\n",
       "3XZ/CtNrAAAACXBIWXMAAA7EAAAOxAGVKw4bAAAG0klEQVRYw+VZfYhUVRQ/82ZmZ/bN7sxKUW2G\n",
       "TCgS+LFLqWmYu7n5UbY1KARW6IRBJEEjQWB+7BT4R2ntGm06YvoEiTZzmzQFMWUqhHQtNsFaYife\n",
       "6kYouk61634I2jn33ffm3jdv3jiB0Mdh75t33jvnd9/53XPPu/ctgKt4sj/Bf10uZ6MlLCrgfyDe\n",
       "+lvEwuWem7MLuGiiJEr6JkpB5G8GzFP0CWeTt46FQzdpd85FE2VFKd8wz2q/Xro3smF2hBqKEQs1\n",
       "dH1icRY89KPUl82COy4XJY3Pv3t03AePm1oRCdeX8J1iXj5fYHjhxtbaFzQR/zxvhGqwsIAuv1ic\n",
       "BV+MfhJls+COy+UjOkTiADs1Uysiq9191bj1xFqB5VWAylMiPtkwu9UmC2/QJGkrzkKQBnVt+TPC\n",
       "HZdLEx1aMTnrdFOzZJmkzXD39Vm54m20+wevYxpcF/HJhtnNMFkgTkJRl7pAo3CgfBbccblk6HAl\n",
       "iS1tapZMl7QqzdW3Kn/9lN0/PILtmoR/ijdENVigAlnhVh0fwJ94+Sy44/KpzXB3U0uaWhEWKupd\n",
       "fSfnb6yy+1fmsI1I+Kt4Q1SDBfgum+1yY6Eqm+1N/413hCuuIT6GO2okLdPUgbs3H5CiUPvrYQ+m\n",
       "VY2r7xJsnX0fH8Xk+9zOQqTNmDnk0dkEao1hQw1ROQuLAXa4seBLQqXmOJIFJTMssuCKKwwwRhE4\n",
       "FuWaD/r0ZimKkJKBBpzGbCCbsyQ/FPrSwDaGJ/i6AWbZWUAG1p3hHump4M0ZNtQQlbOwBgI14MXh\n",
       "Vk7iAuJ0WulNqzvTeRbw7ho8Wz74xTgrbOVl5HYmPIyDPXU7wNwumNYFHV3QKLDAcAvXabwjJtUU\n",
       "QPj3owdjpvYgNGi3SVG8iZHVYo8ZG5Dsi1F6E94xD8Yz1c7ClfFHZ3KPYLQZPG2GDTVE5SxUangC\n",
       "X2K4FHoK4A6A2eKqaQdbA3m7IYRMv1vbjsr8/d2UWSF8tHU089rAEwdvEp4VWDBwRQn2pWJWR6zk\n",
       "xfi0tbQkLAQ+6KeNQdeqdPgefXM2FmTfE2gBPpYvrbK/UTu4h4pQiMdsqCEqZ0HRKdQ6rJZkuhDU\n",
       "XlB1kYXprDh6GiGcA99ilqVpJUkLCWUMc4zmaBz2Z6BTeFkfMnFFeTQpdGRFEomLGkUsj+VKLYil\n",
       "zZ9xYsHyPcEuscd+zp4LVwUP/xi0Jg0ban4rFyA+Dw8tMcxGlEsQahDmNwVS4SX0qihU1/CVWQsF\n",
       "W42DOoR5SImZgYM50IVX4yETd2BRP1r4+3ANaqz/zI6srG5Ni5p/GD6Ro1hI8KB02+qC7HuG8ZVQ\n",
       "8cGm2VgIXhPwcbwugWFDDVFNFg7QiiCiB9hD1sF9K7VNEguhyRqLPHA7qMYy6AgdXsN2HV5lZSKn\n",
       "bBoLItVKo8AC4YYTtRXYeWdE2wIdRsXmHbF3GNF7JZbX1HZPBtJyFFuhEuuL174Ak313AXTE7mFZ\n",
       "NsfGQnhI8ECordyGGqKaLKynIlZRY+Rpa0JvSeoSC4Gv6GzuwDkN/EYA39BhObbnjUcODocDI5RA\n",
       "/jaBBcL1wq4gnr4+DS7wxZzZEQB//b0iaMrI3ow/KkfxCKysN1+Mgsi++Nqre/sJWMpfmqJ/RU7w\n",
       "8NX4/+Q2S4zXrcmCh6arr/siM/1sBUQmavKe8i46jGMV/qVU6j0IjtH5vZShYWaqDunwx0NEh8gC\n",
       "w4Vhpo+HCTArlUpFrY4Ye5jmj93YldfUJ/VJ99ui2HP8KZxT1bZKa/N9B2DvgNJEBJ6V/X27R/W8\n",
       "hzq+f5jbUENUkwXjDTZkDEFkPkSanHbWbPyDbER8jVSR38KzhqXGzcEoDBKUNCOMrjNsJ38WvoXN\n",
       "UkdM5K8QPUXWjoexbSh450rW1UnrG0K349rT8gjFDRtmtwFkFoKDeNiHRbANquMOLASMMWXroJb3\n",
       "Z0M7VUdoxahVZOYkwI9sDuo2FtaH4j6C7fHn+NqLdeS8R5rhtJsKxdWvC3ZaBdbWHiq/r1rm5HEY\n",
       "Po0aNsyuycYC/IxtSxQ8CforZOHCNRbDWuRcXTDlw1FcUFKe4sUgPuSd7A/YNYkF36/HLxLspDlx\n",
       "CGy3OrJKnLT8rHTav1frnrTj7lS23maeuGx/0eMXnJuGzVq+55VZYBIt9a1JPZJq56d+s14p+dsd\n",
       "zt+aomqiEnval0rZZrfaVlwz0ectcCZItu4ooAOcPCb2x7jNNo5ayIJfK+eL2yL++0zhJTjWI8F6\n",
       "9KedMTa6aKL8Vso3wOdi2O170Ma8DbND1HBvAQvesr47hjhneQxvzPkbL/jnlb0r/Ud9g3b7f0RB\n",
       "5qj/zv9H9Nb/Ba3B96ZTh06zAAAAAElFTkSuQmCC\n",
       "\" style=\"display:inline;vertical-align:middle;\" /></a><br>(see <a class=\"ProveItLink\" href=\"../../../__pv_it/theorems/897b9279a0a8f79e8ec5d82c558fb83ff8ccd12d0/dependencies.ipynb\">dependencies</a>)<br>"
      ],
      "text/plain": [
       "<IPython.core.display.HTML object>"
      ]
     },
     "metadata": {},
     "output_type": "display_data"
    }
   ],
   "source": [
    "%proving lin_map_linearity"
   ]
  },
  {
   "cell_type": "code",
   "execution_count": null,
   "metadata": {},
   "outputs": [],
   "source": []
  }
 ],
 "metadata": {
  "kernelspec": {
   "display_name": "Python 3",
   "language": "python",
   "name": "python3"
  }
 },
 "nbformat": 4,
 "nbformat_minor": 0
}