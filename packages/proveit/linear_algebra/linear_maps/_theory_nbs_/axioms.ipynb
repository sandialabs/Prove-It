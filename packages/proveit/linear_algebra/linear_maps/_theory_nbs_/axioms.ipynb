{
 "cells": [
  {
   "cell_type": "markdown",
   "metadata": {},
   "source": [
    "Axioms for the theory of <a class=\"ProveItLink\" href=\"theory.ipynb\">proveit.linear_algebra.linear_maps</a>\n",
    "========"
   ]
  },
  {
   "cell_type": "code",
   "execution_count": null,
   "metadata": {},
   "outputs": [],
   "source": [
    "import proveit\n",
    "# Prepare this notebook for defining the axioms of a theory:\n",
    "%axioms_notebook # Keep this at the top following 'import proveit'.\n",
    "\n",
    "from proveit import Function, Lambda, Conditional\n",
    "from proveit import c, x, A, B, P, V, W\n",
    "from proveit.logic import Forall, Equals, InSet\n",
    "from proveit.linear_algebra import (\n",
    "    VecSpaces, LinMap, VecAdd, ScalarMult)"
   ]
  },
  {
   "cell_type": "code",
   "execution_count": null,
   "metadata": {},
   "outputs": [],
   "source": [
    "%begin axioms"
   ]
  },
  {
   "cell_type": "code",
   "execution_count": null,
   "metadata": {},
   "outputs": [],
   "source": []
  },
  {
   "cell_type": "code",
   "execution_count": null,
   "metadata": {},
   "outputs": [],
   "source": []
  },
  {
   "cell_type": "markdown",
   "metadata": {},
   "source": [
    "### Define vector addition and scalar multiplication on LinMaps"
   ]
  },
  {
   "cell_type": "code",
   "execution_count": null,
   "metadata": {},
   "outputs": [],
   "source": [
    "vec_add_lin_map = Forall(\n",
    "    (V, W), Forall(\n",
    "        (A, B), Equals(VecAdd(A, B),\n",
    "                       Lambda(x, Conditional(\n",
    "                           VecAdd(Function(A, x), \n",
    "                                  Function(B, x)),\n",
    "                           InSet(x, V)))),\n",
    "        domain=LinMap(V, W)))"
   ]
  },
  {
   "cell_type": "code",
   "execution_count": null,
   "metadata": {},
   "outputs": [],
   "source": [
    "scalar_mult_lin_map = Forall(\n",
    "    (V, W), Forall(\n",
    "        (c, P), Equals(ScalarMult(c, P),\n",
    "                       Lambda(x, Conditional(\n",
    "                           ScalarMult(c, Function(P, x)),\n",
    "                           InSet(x, V)))),\n",
    "        domain=LinMap(V, W)))"
   ]
  },
  {
   "cell_type": "code",
   "execution_count": null,
   "metadata": {},
   "outputs": [],
   "source": [
    "%end axioms"
   ]
  }
 ],
 "metadata": {
  "kernelspec": {
   "display_name": "Python 3",
   "language": "python",
   "name": "python3"
  }
 },
 "nbformat": 4,
 "nbformat_minor": 0
}
