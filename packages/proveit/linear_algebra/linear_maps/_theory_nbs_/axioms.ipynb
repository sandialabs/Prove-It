{
 "cells": [
  {
   "cell_type": "markdown",
   "metadata": {},
   "source": [
    "Axioms for the theory of <a class=\"ProveItLink\" href=\"theory.ipynb\">proveit.linear_algebra.linear_maps</a>\n",
    "========"
   ]
  },
  {
   "cell_type": "code",
   "execution_count": null,
   "metadata": {},
   "outputs": [],
   "source": [
    "import proveit\n",
    "# Prepare this notebook for defining the axioms of a theory:\n",
    "%axioms_notebook # Keep this at the top following 'import proveit'.\n",
    "\n",
    "from proveit import Function, Lambda, Conditional, Composition\n",
    "from proveit import c, x, y, A, B, K, P, V, W, Px, Py\n",
    "from proveit.logic import And, Iff, Forall, Equals, InSet\n",
    "from proveit.linear_algebra import (\n",
    "    VecSpaces, LinMap, VecAdd, vec_subtract, ScalarMult, VecZero, Identity, Commutator, AntiCommutator)"
   ]
  },
  {
   "cell_type": "code",
   "execution_count": null,
   "metadata": {},
   "outputs": [],
   "source": [
    "%begin axioms"
   ]
  },
  {
   "cell_type": "markdown",
   "metadata": {},
   "source": [
    "### A linear map is a map with linear properties"
   ]
  },
  {
   "cell_type": "code",
   "execution_count": null,
   "metadata": {},
   "outputs": [],
   "source": [
    "lin_map_def = Forall(\n",
    "    K, Forall(\n",
    "        (V, W), Forall(\n",
    "            P, Iff(InSet(P, LinMap(V, W)),\n",
    "                   And(Forall(x, InSet(Px, W), domain=V),\n",
    "                       Forall((x, y), Equals(Function(P, VecAdd(x, y)),\n",
    "                                             VecAdd(Px, Py)),\n",
    "                              domain=V),\n",
    "                       Forall(c, Forall(x, Equals(Function(P, ScalarMult(c, x)),\n",
    "                                                  ScalarMult(c, Px)),\n",
    "                                        domain=V),\n",
    "                              domain=K)).with_wrapping_at(2, 4)).with_wrap_after_operator()),\n",
    "        domain=VecSpaces(K)))"
   ]
  },
  {
   "cell_type": "markdown",
   "metadata": {},
   "source": [
    "### A linear map is, itself, a vector space\n",
    "\n",
    "by defining vector addition and scalar addition on a linear map in the following manner."
   ]
  },
  {
   "cell_type": "code",
   "execution_count": null,
   "metadata": {},
   "outputs": [],
   "source": [
    "vec_add_lin_map = Forall(\n",
    "    K, Forall(\n",
    "        (V, W), Forall(\n",
    "            (A, B), Equals(VecAdd(A, B),\n",
    "                           Lambda(x, Conditional(\n",
    "                               VecAdd(Function(A, x), \n",
    "                                      Function(B, x)),\n",
    "                               InSet(x, V)))),\n",
    "            domain=LinMap(V, W)),\n",
    "        domain=VecSpaces(K)))"
   ]
  },
  {
   "cell_type": "code",
   "execution_count": null,
   "metadata": {},
   "outputs": [],
   "source": [
    "scalar_mult_lin_map = Forall(\n",
    "    K, Forall(\n",
    "        (V, W), Forall(\n",
    "            c, Forall(\n",
    "                P, Equals(ScalarMult(c, P),\n",
    "                          Lambda(x, Conditional(ScalarMult(c, Function(P, x)),\n",
    "                                                InSet(x, V)))),\n",
    "                domain=LinMap(V, W)),\n",
    "            domain=K),\n",
    "        domain=VecSpaces(K)))"
   ]
  },
  {
   "cell_type": "code",
   "execution_count": null,
   "metadata": {},
   "outputs": [],
   "source": [
    "identity_def = Forall(V, Equals(Identity(V), Lambda(x, Conditional(x, InSet(x, V)))))"
   ]
  },
  {
   "cell_type": "markdown",
   "metadata": {},
   "source": [
    "### Commutator and Anti-commutator"
   ]
  },
  {
   "cell_type": "code",
   "execution_count": null,
   "metadata": {},
   "outputs": [],
   "source": [
    "commutator_def = Forall(\n",
    "    K, Forall(\n",
    "        V, Forall((A, B), Equals(Commutator(A, B), vec_subtract(Composition(A, B), Composition(B, A))),\n",
    "                  domain=V),\n",
    "        domain=VecSpaces(K)))"
   ]
  },
  {
   "cell_type": "code",
   "execution_count": null,
   "metadata": {},
   "outputs": [],
   "source": [
    "anti_commutator_def = Forall(\n",
    "    K, Forall(\n",
    "        V, Forall((A, B), Equals(AntiCommutator(A, B), VecAdd(Composition(A, B), Composition(B, A))),\n",
    "                  domain=V),\n",
    "        domain=VecSpaces(K)))"
   ]
  },
  {
   "cell_type": "code",
   "execution_count": null,
   "metadata": {},
   "outputs": [],
   "source": [
    "%end axioms"
   ]
  },
  {
   "cell_type": "code",
   "execution_count": null,
   "metadata": {},
   "outputs": [],
   "source": []
  }
 ],
 "metadata": {
  "kernelspec": {
   "display_name": "Python 3",
   "language": "python",
   "name": "python3"
  }
 },
 "nbformat": 4,
 "nbformat_minor": 0
}
