{
 "cells": [
  {
   "cell_type": "markdown",
   "metadata": {},
   "source": [
    "Theory of <a class=\"ProveItLink\" href=\"../../../_theory_nbs_/theory.ipynb\">proveit</a>.<a class=\"ProveItLink\" href=\"../../_theory_nbs_/theory.ipynb\">linear_algebra</a>.linear_maps\n",
    "========\n",
    "\n",
    "Provide description here."
   ]
  },
  {
   "cell_type": "code",
   "execution_count": 1,
   "metadata": {},
   "outputs": [
    {
     "data": {
      "text/html": [
       "<h3>Local content of this theory</h3>"
      ],
      "text/plain": [
       "<IPython.core.display.HTML object>"
      ]
     },
     "metadata": {},
     "output_type": "display_data"
    },
    {
     "data": {
      "text/html": [
       "<table><tr>\n",
       "<th><a class=\"ProveItLink\" href=\"common.ipynb\">common expressions</a></th>\n",
       "<th><a class=\"ProveItLink\" href=\"axioms.ipynb\">axioms</a></th>\n",
       "<th><a class=\"ProveItLink\" href=\"theorems.ipynb\">theorems</a></th>\n",
       "<th><a class=\"ProveItLink\" href=\"demonstrations.ipynb\">demonstrations</a></th>\n",
       "</tr></table>\n",
       "<h3>Sub-theories</h3>\n"
      ],
      "text/plain": [
       "<IPython.core.display.HTML object>"
      ]
     },
     "metadata": {},
     "output_type": "display_data"
    },
    {
     "data": {
      "text/html": [
       "<h3>All axioms contained within this theory</h3>"
      ],
      "text/plain": [
       "<IPython.core.display.HTML object>"
      ]
     },
     "metadata": {},
     "output_type": "display_data"
    },
    {
     "data": {
      "text/html": [
       "<dt><a class=\"ProveItLink\" href=\"axioms.ipynb#vec_add_lin_map\">proveit.linear_algebra.linear_maps.vec_add_lin_map</a></dt><dd><a class=\"ProveItLink\" href=\"../__pv_it/axioms/4696792b84cb225b2fdcff5fa980da0f02b6eb030/expr.ipynb\"><img src=\"data:image/png;base64,iVBORw0KGgoAAAANSUhEUgAAAkYAAAAZCAMAAADjRBFVAAAANlBMVEX///8WFhYNDQ2IiIgiIiIQ\n",
       "EBB2dnbu7u5UVFTMzMzc3NwyMjK6urpmZmaYmJiqqqpEREQAAACBdEgOAAAAAXRSTlMAQObYZgAA\n",
       "AAlwSFlzAAAOxAAADsQBlSsOGwAABsNJREFUaN7tW+ma3CYQVMJ9w/u/bBCHxCXBSON18sX8WDy7\n",
       "muqiKZqmkbftRaMQQr79af/rBrwIzCsE8a8YB2/6VyATh7HPkYmUi0b5N5jzHxEOqyxp/d+XETB1\n",
       "H535KTUJ5s9g+YSeMGQbMwPmcw6Xw5+BaCC/5/PgidOSl5E9/mb0Ixm9AfhCM7juEzM3/aK2zllK\n",
       "qbBsNB1fkpFxpPGZa5lfS2LOegrCUZwUYZiTn8nfGwpQEjqoRp44LHkZqQNc8EcyegPwvhFR93ny\n",
       "3MJ3UVwB1IUZEeRXyAjDVlZuGzFOHiQfsp6CSBcUoOHGKfnMsy5jG3rhiWzJy4jlZ7h9tqm9AXjf\n",
       "lK779Im6RtKyj5TcgcrT6idkdDJTg9jdcpiynoPEmab0c+oI5ZPUlSeypT03ypLC5pmM3gC8b6jp\n",
       "IxOOXZMMmz5l0OkZnSYGkS/ICPBbGRXM0HA45DPWKyBBCdM1Aqw/cUEx2H4Bu/REsrTLKKfZD/Jl\n",
       "UeXpvyPhlqLu44IFG3BmKiOa3CRQnHqhn8momjSj7mRUMJNDdzUcZqyXQFZkJAUgvaXgF46vPZEs\n",
       "BQWgXYYQ4ccntecA7/c0XPfxw56C6KmMYpJBaD7FY7okIwIAJQyfsbeON/BORgWzzLiGazjMWE9B\n",
       "uEB0zzsQKra1bgT+sUEkxjEnpzcLKlkKMlLBjZY8ltFzgNctL7xyAUrvHubwTEbMWeD9eX5TH0tb\n",
       "waLRxnleCoAC/8xYOKbOEFUZL0pm2W4Np8VHrBdAIv8qN+pGMD4c6SB4LW9kpIv9iNP846GMeoCP\n",
       "FWWWyn/9r3L9tKyjqpCI0pmMQIzZBmUdGbgSjTSPX6X6Iv6Acj3xKiqWzBLjBq7hMGO9AGI7GfUj\n",
       "GOcjchc8x3fbe7IU05p93PEPOm1NBoWyhEb7x/hLYvtdK1s/AZKKUJGVSesUxsoOCsDGpqW5S76x\n",
       "PTLeb/BI1n2YRqX8ecjWoQWhJrRsFuXYzfJCX5HR/rCt3P73X7Bq7ijQMAplJbCCWWLcwB0c1lhP\n",
       "QMYy6kfAUOZuqxO/HW9p52QnS1FGu+YTLI4sswZtgKXhj5pdRaMSII2xTHB1kCyIyAxQaxMJZQiE\n",
       "cacf2B4Yl3guIxIXsIOzaJTjVT6obRKtptgO3GRDUpzSIapIOmpmhfALuIbDjPUCSC+jfgRkXKrx\n",
       "TLW89USylA5ZYtOgKrricmcnEJ1OGMqoAAjgDIHulKCDcJU6xYi9FcPOCmZje2S8ywSFqfsjYkE0\n",
       "kRHL2w11st3UbnOjPdr7bYGQsYxYzdHSbczsZFzCzTa1hvUCyFBGzQi28XYOHcH3C6ra1DZs8ti5\n",
       "y/v/doQQHBQAthsZnQAxhxEla2SCHHZTQJdpQzMRje2R8a40ZUHdHwW79jakm5CUZPiJyaPQdiEa\n",
       "ER9Kw5kbX8xBk62eJ7WGWWTcwjUcZqwXQDoZDUawgeFFnHV2EpeTpSQjjmgZ7bg+S/d7wJB+wpm8\n",
       "k1EBEOa8PJ9wB7RWlLXBE9vzuDmyPTLeVmWOs23uOTpcwO8nRKAUlo8FoMCCjIxjRKF46Mr6qNb5\n",
       "Vd2oZRYZt3ANhxnrBZCYGtji5rMfQRnWyhNBfwuXbkiyjJKlXDk88989juAihnKvCu7TObDdyagA\n",
       "8FvakQidqREJO1tV2z9OSD4JH9keGZft8pCw7Il1LvjX7P/ANxNChXM03HCe/pu+OhWikfIr1yh9\n",
       "VbFXbCijnlli3MDBW/F3rKcgzCJkif/pjng9HAGhVpLZ1UzAVqWMkqX+RREFt6KeSVx4G8AZTe5l\n",
       "VFUEMabFvXZMjcKOpYUNzQSRHI/kq7/a9sg466Jsrh3O3gQy05cw+Oy8/5U7tZ75HYcp6xWQxfsA\n",
       "bJvLkLknsqVeRtpVwc4pE37qbVVGIIqG1amRT+r8bxjuy/PsFEdje2C829TO28FZtX/6EovSPyuj\n",
       "EeOWw5T1CsgvaMkT2VIvIxavu7eUo8fS+5VIxeV07Sf+CBEzaRKD4VmZ484q7eNoOPzD2va18UEq\n",
       "aHndP20L7yc8kRG4riL0jB+8I/EVkIcyOiwN3n6EJFWkzMmS8lUZqZBrE+V8zhYggHB4Lz6aNMQc\n",
       "pZTUPoq6+Dn7Itm+Nj7QSk7byUvvLdzlPJERQZfvPfSMH9wnfQXkoYwOS3cv0S689jHbSXsIgvfc\n",
       "SHb78prxoVTy2Y6/iuV6IZjhJ+9ic0WvPNky1k8C6ldAPoywENWlmRsZGfJaRmZ5XSi+9E38O25/\n",
       "/7T5GryW0cransjog/DQCGT8TS3/zNh/TUYrTXzv/6mRLz3zp/10AxAi/Q/tEFBqFPFNYAAAAABJ\n",
       "RU5ErkJggg==\n",
       "\" style=\"display:inline;vertical-align:middle;\" /></a></dd>"
      ],
      "text/plain": [
       "<IPython.core.display.HTML object>"
      ]
     },
     "metadata": {},
     "output_type": "display_data"
    },
    {
     "data": {
      "text/html": [
       "<dt><a class=\"ProveItLink\" href=\"axioms.ipynb#scalar_mult_lin_map\">proveit.linear_algebra.linear_maps.scalar_mult_lin_map</a></dt><dd><a class=\"ProveItLink\" href=\"../__pv_it/axioms/f3bd2fd067614061947788e6d1e0b86a37fae1fe0/expr.ipynb\"><img src=\"data:image/png;base64,iVBORw0KGgoAAAANSUhEUgAAAgIAAAAZCAMAAAB0FbaPAAAANlBMVEX///8WFhYNDQ2IiIgiIiIQ\n",
       "EBB2dnbu7u5UVFTMzMzc3NwyMjK6urpmZmaYmJiqqqpEREQAAACBdEgOAAAAAXRSTlMAQObYZgAA\n",
       "AAlwSFlzAAAOxAAADsQBlSsOGwAABfdJREFUaN7tW9mSpSgUdAZZZf3/n20WEQ6gF7WqZyqieCji\n",
       "2kImkJwF7GV5U9i6rmL5LT+1IL9+5l0X2+8s/vSi9c+WgGjqG00+7Q5+nw2V8iH/+8N4se85APrh\n",
       "EkAG1jNFoomXiHzCZjP0Gf9P3DSSXzdpYWwVkJeAPX4Y/UgCrzp4VQyB9elMW+csY3ZTdFIvTyRg\n",
       "3CcBQB4j3pCbwGlCN8OdvKVFjxN7kqtb1WhsBchLQB2db+KRBF518KbQDdYXxaVXLA5zv9FvkQBZ\n",
       "l3s8RrwBN+ni8ul1EeyWfaEud23YydgOIC8Bnl8S9pkjeNXBm6I0rM8Ld2jfqKHW6r+SAOQx4g25\n",
       "pWVi7DYXjHPKdja2AyjEAlkPxDyTwKsO3hTc1BeW0fG9jqYX0y+QABL3JQB5DHkPuLGPkkXWJ3dr\n",
       "ZVQ2t/8DPx1bBgoSyCHhk9Buq2PKvxwbyg3WF8W6XMcp2fQzCYDVMeq+BACPMe8Bt08SkBtqdcNc\n",
       "FKgg52PLQHH1cJDQisnjjOBFB2/8AIG1HxxCZJjLObv71mSHCZuSAEWIUU6KcYNrvJ5KYI5H5g1h\n",
       "Km5iwyz4WYwrV9CR8q/1hoOk8JFdyDsDRQmoSNfSxxJ40UHYTjNBJDrfL7kW4ZxL2VMXLEg+CNNl\n",
       "/6m1KgxOk998iCH/ynjRTQOltns8Mm8Io2vbkBiBWKAjNQzCtQuda3khgQwUJSBY/uODz7SXDbZh\n",
       "WTUOP9NDagfbPHVTddCYKOsUUYwNSBqb/HLk2cCOcHtjmBf0qKN/RUMXzAghZULMOmMFtAgtxcL0\n",
       "yb5HQPTC6Xs8dt4NDOBmOwn0pIb+V4bJFeTKyWWg5MbDULJ5SDFKbm2jmFly+fz0aKjqoFHjWplI\n",
       "jpi1+1vK0DU+pWwAO8CV3XiwBLWq0/KSFdUuuOzGGQkEWAvm999/VlBcydY5W/PIZnnsvBsYwK2X\n",
       "QE+K40zH1rj2xA0cC5WBkgQMOhZzP98gtXGjK45O6Px0sOpgFMmgiKZU0RDxACb+TKcKDewIt/N4\n",
       "jQQwML3gQMQ13CSekUBsiS68v9wq1VO1E5zmgUvrCgZw6yXQk6LDVNytJ27gGFsG2oP5bdEomzO5\n",
       "m5tkusJ7RLuxNy7rXjrwsZAur2JzzAPStdGkcFob2BFul3Jupq6pI+fZePNPlbG9igWCPfWMKB1L\n",
       "gDeiTOs1z2MzxWwXmA+OoCe1DL3a6ii5ljd0BH56j+EEiQldDj3DbpV+xbi8kkDpwNtDjsFSi2gK\n",
       "gFiJLeHsCHaE2yVhFoF6d8Vy5IKbh9pOWAHqfRZztWlqJrsNw3Z3N80j8W5hALdOAgNSC0LD9NN+\n",
       "sHAZaJeAwAfKxur+uVcc8ivJx0bgkMDRQYiE6WHwNUYIpbsTWee7WJeAcQQ7wpXtmHJWs9cqSmSU\n",
       "jG2t61doQgLGcaq8mGWxPmAF5cm5wDSPxLuFAdxSSGSrW5ieVG1OqiEOLhX2wGSXQAbKpzqWF8u4\n",
       "VAcN1MU7JWc0vZTA0QEGdCr96s3GYuICH73lM2wIO8LlrQTkCmvi03E0OFsLdyZwzT9/5RKsgPLb\n",
       "yyh9duSp+Mm5wCyPxLuFqbhxi7Gl/m9pNyRFmZX08qAZBCa7BDJQf1msHVCYUyb+1cu1BI73weyW\n",
       "3b5w0h938bKwDewAt3MES77Sv3u1Lz4f433XNdGQ/01uoxyQWHhA/HlsB1AvAZ5up5Y9mkjx7Wnv\n",
       "3fMYJJO9tagFUZJo4azSXrcxQVwh7Dlu7/Ky0ieufeD+1f8PCYx4q++/b09jO4AGn4ysdE834660\n",
       "cRGZmJWAUFp7KxhbI+tUaSgOZ6Ok9qp16bcVAPYc1/Yc8iN765J65kLziQQQvtui5/03Llvj2ArQ\n",
       "1VdDM/d+243WlIRYQHY2bA53lP7mZ/TWxM0cZD+RAMV3b0p73k8P2W9LoABdSGDqI6jtVetkE8RU\n",
       "SzJ6nNNIccN86hmTQZ58OygUuymClrf+/m9u0IolALqQwNSsbq9aDxd33FLL5bd8S3n9+ehX/D8C\n",
       "+kXv/JYHNmHF+g9quEHKzqSK7AAAAABJRU5ErkJggg==\n",
       "\" style=\"display:inline;vertical-align:middle;\" /></a></dd>"
      ],
      "text/plain": [
       "<IPython.core.display.HTML object>"
      ]
     },
     "metadata": {},
     "output_type": "display_data"
    }
   ],
   "source": [
    "import proveit\n",
    "%theory # toggles between interactive and static modes"
   ]
  },
  {
   "cell_type": "code",
   "execution_count": null,
   "metadata": {},
   "outputs": [],
   "source": []
  }
 ],
 "metadata": {
  "kernelspec": {
   "display_name": "Python 3",
   "language": "python",
   "name": "python3"
  },
  "language_info": {
   "codemirror_mode": {
    "name": "ipython",
    "version": 3
   },
   "file_extension": ".py",
   "mimetype": "text/x-python",
   "name": "python",
   "nbconvert_exporter": "python",
   "pygments_lexer": "ipython3",
   "version": "3.7.4"
  }
 },
 "nbformat": 4,
 "nbformat_minor": 1
}