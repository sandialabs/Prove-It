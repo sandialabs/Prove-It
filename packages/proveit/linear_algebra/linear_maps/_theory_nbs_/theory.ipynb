{
 "cells": [
  {
   "cell_type": "markdown",
   "metadata": {},
   "source": [
    "Theory of <a class=\"ProveItLink\" href=\"../../../_theory_nbs_/theory.ipynb\">proveit</a>.<a class=\"ProveItLink\" href=\"../../_theory_nbs_/theory.ipynb\">linear_algebra</a>.linear_maps\n",
    "========\n",
    "\n",
    "Provide description here."
   ]
  },
  {
   "cell_type": "code",
   "execution_count": 1,
   "metadata": {},
   "outputs": [
    {
     "data": {
      "text/html": [
       "<h3>Local content of this theory</h3>"
      ],
      "text/plain": [
       "<IPython.core.display.HTML object>"
      ]
     },
     "metadata": {},
     "output_type": "display_data"
    },
    {
     "data": {
      "text/html": [
       "<table><tr>\n",
       "<th><a class=\"ProveItLink\" href=\"common.ipynb\">common expressions</a></th>\n",
       "<th><a class=\"ProveItLink\" href=\"axioms.ipynb\">axioms</a></th>\n",
       "<th><a class=\"ProveItLink\" href=\"theorems.ipynb\">theorems</a></th>\n",
       "<th><a class=\"ProveItLink\" href=\"demonstrations.ipynb\">demonstrations</a></th>\n",
       "</tr></table>\n",
       "<h3>Sub-theories</h3>\n"
      ],
      "text/plain": [
       "<IPython.core.display.HTML object>"
      ]
     },
     "metadata": {},
     "output_type": "display_data"
    },
    {
     "data": {
      "text/html": [
       "<h3>All axioms contained within this theory</h3>"
      ],
      "text/plain": [
       "<IPython.core.display.HTML object>"
      ]
     },
     "metadata": {},
     "output_type": "display_data"
    },
    {
     "data": {
      "text/html": [
       "<dt><a class=\"ProveItLink\" href=\"axioms.ipynb#lin_map_def\">proveit.linear_algebra.linear_maps.lin_map_def</a></dt><dd><a class=\"ProveItLink\" href=\"../__pv_it/axioms/32b9d20d9ae6ac799d803063543d26c05059b7360/expr.ipynb\"><img src=\"data:image/png;base64,iVBORw0KGgoAAAANSUhEUgAAAxQAAABlCAMAAADjy1VaAAAASFBMVEX///8AAAAAAAAAAAAAAAAA\n",
       "AAAAAAAAAAAAAAAAAAAAAAAAAAAAAAAAAAAAAAAAAAAAAAAAAAAAAAAAAAAAAAAAAAAAAAAAAACC\n",
       "gUnDAAAAF3RSTlMAq1RmmUTNIjK7EInv3XYgpUAwucNsfIllMuQAAAAJcEhZcwAADsQAAA7EAZUr\n",
       "DhsAABN/SURBVHja7V2Llq0mElXxichNMpnh//90FPAB8tiox3M7gZUVbrdQVEttKKDYFgWaeiFT\n",
       "WfysdEfttily+gelbqLWbyZlHc6fMOsayZyaHweKy2rXZbajf1Ya7R5dTIOUwvkTZl3dT3wP19Wu\n",
       "GA0OOw+MXBfLd9m8LyZGHL8kwv9TBoWRqPMFbolXt1VLFtFwM88pNTUua8iggFPZBqeRURv2IMRQ\n",
       "lkNbU6BLBsYaUwRv5/oSHP0kpnqb51vBhrloycRUzpKrSSwY5RqnnGT7vtirQwbFdbV7EVqG0B0x\n",
       "Qv1zYFFU1HXVisESQcUqqimNIU2hbtRq6IetbqSl2b6veayiyqC4rHYbnChqsstXvkwlYj7NUC62\n",
       "PtgiGFsHMbPzagMUemIitZnnlJqGKYPiqtpVcKIo2L4wEL3Ox+NyYZjmZOCKi3l070Zqi2h1J/De\n",
       "mIr0JnIrJHaaVZt1PrLnJd1UnzfMovbAMyguqt1OQcjs5j6INd+Numn52b1htVtEqRTsRrO48qo4\n",
       "UX24PWyJmRfWImPos91HpgqWQXFN7T7sDNW7BWt/6Fihc3n83Jp6NhHaQbKHeLagsqt6OQGR7W9Y\n",
       "d9rNHff+sFLJq42YD1BlUFxSuxRB22qtJUU3Toc33bpanJhHBJEO0ul0UZYf1dqC7oAjrZkrJRib\n",
       "1sQyKiJJtBkUV9SmYgg+3yHARTmOo2nSrXPXo/aIkPtMtvOklhpVrzQ5PKyYmasFDDVmjSobfnjA\n",
       "6zMoLqhNRNiw9tOG4fwK+23YHvze0y5Cmv15fTzMcxVX41rTHP8cM18OGa3Kp1/kZKRGjBkUF9Qe\n",
       "wt7TARTiPC1Q1yzTMr+IqXCEZtWik6v1eW1x7MOGmfkyCZVGJ3ftmA0/7D+xDIp0tamYCsx96oXD\n",
       "AieX97StQqjtgU2COoSMglRqbUGOAK0mM1f9OB1T3n+KDnl9BsUF7yky2A7c5xXJX553rmpWNVT5\n",
       "Vo0lYu6jfWqhB39r0GsLY/OVDGauf6rDq/ycjP6xujeDAluKRSLNtw3R1vkG2+rkxjIhxFSTatt0\n",
       "2vdU6721PeZj7hult3UCu+7k1ma/lquIOl8BAUyizaBIrsNi76VXllov0YCOAw1aDs3R5+mGrqBV\n",
       "PQlW9pYIc5gvpu0aTKOtfjStfGrMfG2xXVvKNg8sKswlYwbFE0uK2SYjjnszDnaYByaiCq/wu8nM\n",
       "9wcn/ysnb2pNTyCDAkiViI63DwTkuUVEFjNrFGGdY8dvpNqMV8iggN5ZfFNzuP8yXCJoONR29Y6y\n",
       "l3RvPDJHvQwKaHaNnwnT+2bpEsExHA15i+meTbAMiuR1NrDV392/EposgndmntPF4UiIDIp7mxM5\n",
       "/eOSMIa9DApgAE9i/snpB6bJcJAzKOKpiu/IWmuQfGD25XRmOYutGnkGRZrnLtqk8pkz7ftpTOuD\n",
       "0thfzKAAXrBI2lmq2MdXIPx+lF+HP+vuNcG/EpLIkg5uaoNGNYMCGUZShh3KPn+ONt72z0K8a/az\n",
       "q1RrW73xC+5kk9TNo+EMZFDE0yBSjqvLtngFFDtQq3QUhqjbqtNJZYxqzcPUttX7BiicLGcBUEwZ\n",
       "FImrsDpFfPMOKPbw1/Tg8BB1G3WAOnbN28PUttYzQDG+dDm2EwkNceP0LoMiniaRcHWtfWGikFa2\n",
       "MTpdCPEIUbe5oqhikV0epra13hEUdGpf6ughYc+QGLvuGRTAmi0BFNUbE4WysnX4vjD0hqjbmLOC\n",
       "MVWcmN18TG263hEUnJTNWx3NMyg+CAr87bZT8RYoyEqDlr6iCFC3VU5xR6o1F7Obh6lN1zuCYjpw\n",
       "Un16qmAJY1kGRSooCC6cvwaKQpGEsHRaghB12/qMcl7SftTT0GHb38ns5mFq0/VGk1n9rQuyFb6q\n",
       "yKBIVVvgoCjfiZJSVlbLwX1IbzFE3bY+m1cDvORFrWa+A9Wan9ntzNSm6x1AsdSu3iKDxg9dmwyK\n",
       "ZFCgIw4V77gGysq6cv2f20/Wk0jFbD7ZEHWbfraM9mRGeKkwcqBac7tXbqY2XW8HhdodmF6KryxF\n",
       "DxvFcTS7AYpff/z6iaBIV/s/f/8Fr9eqF0EhJ4nzGUDPy2E5NShGZclnssEQdZt+tlhT3R6MZvuX\n",
       "i9nNx9Sm6+06qivp/KUPLzXwDsmvv/8+/PTnH4X3pzxTpM4Uw0sx5trKKu4YuOu63xxlai57z6A4\n",
       "OxiHLyux3XZ3qjX3ZSoPU5uut4Fi/S7N9FJfCwYbxUMzRQbF2Xt6qbdXK2sLog2X87qb/zNOnzu5\n",
       "PUzOf26Ium13rWSgBFW2cqBac/6JHqY2XW8Dxbp7XL90gDeg/lMGxcdAQcT4LijGSm8F8W4Ja2gr\n",
       "cyBfVtGdY5MgRN2mntHZ/yrZPs0cqNacvo+HqU3X20AxbTtY77wnjnZIBsXHQFGK5l1QdCt1MpHW\n",
       "PA+LzdEo29LNBhKiblPPKtHTegZFsw7tBzFt5RoOnExtut6qLtlJEPuX+rp9BhRwoNlqXbci074H\n",
       "ClxtGBTsrRt629C7c6kV6s8i7SCT1LieCu5a5ISo29QzWs8TQlWT9Q8/Uq3ZzG7S1XIztel6629L\n",
       "um8GvLSoABd5MVDAgWardd2JTPsiKHC1UVC8tqRwhZ32TF5g6M3LMo1b89AFB9czi2oNYHYz6o1f\n",
       "u4nYgnN3DBRwoNlqXXci074IClxtFBSVGL4Eio4VYysP3IyzvN4X3hsK8HM9u0q1put9DxQ1GGEQ\n",
       "XVOggWabc34jMu2bawpYbRQU9Vvr7LOV1bwZuXSVuqO77j0lC/FEnZ9dHe3Wet8DBQHHqSgo0ECz\n",
       "zbquR6Z9FRSw2igoWlF9CxRHJ25c1hQRMwxRt52fXaVaW+t9DxQ9eFIR330CA832bZzLkWnf3X1C\n",
       "1UZBwcRbd5HH29eeQ7xr9rOrVGu6Hp/Y10BBQXaiOCjAQLPdui5Hpj2YqlPP8afURkGROdN+vySw\n",
       "gSoOCiPQrCmFPH9smb0A+1OsIUGHClYUGmHLj5X8JR3MQXmWLGf5fpps++Wcj33SxKNi2kxl3atJ\n",
       "p9pz1UHUY12WnevF/hcafDNn2u+XJmxA+9MAxf+MjtQ/GYFmXHplzUj9Q+6xghWFNkgHVV3mJxq0\n",
       "W8SaBslpepZDeBJ7Ei0dyjZjeKYw/06iIhKmyzNF9dqObE5warHtJ+BE2wg0GxZ7403Qug4VrCg0\n",
       "GWlJZbj9Gme/R6xx1dw5ilP+PwUU66GDqazzvr1b7bm5+qDSFVCkcqbl9EIqsR1BJMyjPZzICzIP\n",
       "+xHrOlSwotDk0D1KuWvo2mHPW0bKVL0sImNq+MhnB6aVR59d0Q0T4ePCvtKNRNu9KqHL84qMUtzk\n",
       "VNa52epWe0aiimgrL4PCx5n2OBlYd/HZ3Sod/Kh76G/rPDn+SmuMswsBxRZoJm2IMB7xQ44VzCi0\n",
       "St4+aeYme2XUxoafvNe1jNBLPE1NirGW4TLdJCaJAdkEnwfg5cvQbGlOl1DlF/9IbpWsAWaWss4r\n",
       "Xh61u+WtdGV9faHt40x7ekMyhccMSSjXWUD2U/RptqBVjp3jL3XEpm8EFFugmQw07EYWA8WhghmF\n",
       "thTis8X160RhRKwt00pf6bsozUAXiR1Vy44FXL1seC7UzQ8GsmyxyRK6fD8vq9XqYXAq2wy42jOY\n",
       "OHd/YA4EhY8z7TZzmbV0SeIxgyyR3Gw3nT4NFbTKsfMEUExPgeIQaCZXys69fCPcdK9gRqFRIdEt\n",
       "qjXO3ohYW6TLq+6MzKlpdPPqA9NiBcXCNjd7TcselS6hyy9bRtJbq0qnsv2Aq12WgW09CBRtABTP\n",
       "xYel8phBmtNb7V6hT0MFrXLsHOVX49jpXWLouHT7uWsH3hODbUWhqT1SsUXPmDutjcKMvu3Y6WaU\n",
       "fU6HmWKSsdF0LaHL91RfjV+t31I26j4dF/fkLih8nGl3mcssJzmRx2x704FnyFcsA+1C9GmO9hFB\n",
       "qxw7R/nVCLZPngYKbUKuqcJjXWsUGlVVmLSCg9rmYdmkRgnpGvFiGGUmR//lAKFfVOXDPN/M+bQs\n",
       "rXUJVV4a/bAvtG1lnfdh3Gp3gVsWIChYABTPxYcl85gddtr8Qumddhki0tE+JGiVY+Uov9onQDH7\n",
       "fctmTuXqcN9tHR2F1qvtHHUadjgTMyLWtsF8HKUFq6xuxjnJJkjFlxK8JqRvuVWwqjkZpWQZZXNS\n",
       "1hmz41RbV70JCu4HxVPxYek8ZggoWnKj3Th9mqd9SNAqx8pRfrXqEzNFUFDEPfaYEhSxpptAL547\n",
       "z+ncUW8fu3nn40y7yVxmeTHJPGZuo6Rc+ir60DP+iZNAu1H6NB8oPILcqlk5yq/2u4GiuR8J1MP6\n",
       "1B32uw+CQgRB8VB8WDqPmdsoR0XJpDv8wHVWT4dUIu1G6dM8oPAJcqtm5Si/WvObgeL+3dSuxG8o\n",
       "nL0f0hQvg6IKgCLCXGap/iCPmdMo+0oZr/6IQxWdkQPtRunTPKDwCPKoZuUov1qPRWk+BorfLNHo\n",
       "Ly5jEzs9JYQGQOFhLrP65gM8ZnrsZ+w49lPN6qRPOuMzcqDdGH2aq/2AII9qVo7yq1GCjc39Q0EH\n",
       "/yI2j+ZOsRBzmeXvfYLHzDNSL0EG87tQDTYMB8Wp3Rh9mm+m8ApyqmblKL/a2zPFZVD0nIw/CxQP\n",
       "uE9O5jLZy3wZPWUg40d4zDxGKQd1vvokU2xNEWg3Sp/mBoVfkFM1K0f51X4KKBYncPgXguLMXKb2\n",
       "WoolMIwVn+Ix8xiljCceVtqoaH8E2o3Sp7lB4RPkUc3KUX61Hl5oF18FxdAX30wf+z5FeEvWxVwm\n",
       "f0uXsY8PH+Mx880U5TKyk9OGq28fw99unD7NCQqfII9qVo7yq4G7T1+n4l82Cui/EBRn5jL967mb\n",
       "S/4xHjOPUdJy5PWqxhRdNAXajdOnOdr3C/KoZuUov9pPAUUzEkJ+EigmDBRTDBQHHdjh5sDSzaz/\n",
       "FI+Zf6FbSK4oOVsBkaQB2QB9WuRE/SzIVs3O0SjZnwKKH7f7BF5pbENhHkd72ZjLVHjYbAoq+Pcj\n",
       "PGZbt5MTHihbXR0A9AHZEH1aA7fhVM3OUVBUWJRslT8ZnLoIwo4Qh1BAoGEwK3OZCg+bfY5Bjouf\n",
       "4DHzDspc+W2qXejP6xIeXQwGloJcqtk5DAqC3acg+ePyiTVK7OPyZeA+hXeEmgdFfX+q+AiPmbdh\n",
       "wrc7HhiUArIfo0+Tglyq2TkMCvDivFksgyKewHu+vmIB5rIlPGxeYzdJsbMpPGaQQXS3232KPs0W\n",
       "tMo55TC/2ojxZprFMig+9GKxyV0623wscvpQqrFZ3iyWQYE4nO2DxXJ6Mw3YJolZLIMinhpsB6OB\n",
       "PzuY02upRe/XVxkUaY4uttedaTN/wwSSXpvFMiiAJLAqQLF7xGgP0Ko9QKTWFc+WC9TxkKGp9wC9\n",
       "DZD02iyWQQGkCYsdB4rdI0a7T6v2BJEayHR2hZfNR6p2IkMbG+x9dJhLaxXLoABSicV5AMXuEaPd\n",
       "plV7hkgNIk+LicNU8JGhoaBosM0Pq1gGBWIF2L4eUOweMdpdWrWniNQApjNAHKSChwwNBQX4IW2r\n",
       "WAZF+kByo9g9YrS7tGpXidTsBJCnxcVhKnjI0FBQlCgNcJVBkTrCYvtKQLF7xGh3adWuEqmdBVG8\n",
       "Kf/oDKngJkNDQTFh62yrWAYF9tK6Z4rdI0a7Sat2mUjt7NQQvClfAlVwk6GBoKDYOtsulkEBWSO2\n",
       "0o4Xu0eMdpNWDSFSmxvhnJy3OsNMZ6Gm3PJgLjc3GRoIigqLWrOLZVBgq4XymWL3iNFu0qohRGrd\n",
       "8qv6vFzxMp25iQ62pnzyYC43NxkaCIprS4oMCtCJFs8Ug4jRvN/ehGrfIlIrpqXumSAnwnR2diS3\n",
       "W6lueTiXm5sMDQTFxW7LoMA8DyxaIFosQIy2EaH5v70ZpFV7hEitPq446b6b5mU685lZUwTl4Vxu\n",
       "bjI0DBQ9+m2vMoPigtoNtt8dLeYnRtuJ0Pzf3gzRqj1DpMYMR2cyZqoA05m3Kb88lMvNTYaGgYKj\n",
       "X/CsMiiuqM3YI8XOxGjzQnT5p3FK7Pv2ZoBW7RkiNRoItPYwnbnXFLopvzyYy81NhoaBosU67VQs\n",
       "gwJLHAt/ihU7EaMtXB49My90er+96adVe4hIrdDbZ/bjGNOZtymPvAQuNzcZGgSKHv1c8JhBcU1t\n",
       "zD2NFTsRoy0bM7Q3uS68397006o9RKSm94lGe2UUYzrzNuWRl8Dl5iZDg0BRYid352IZFGAasTcc\n",
       "KXYiRtOOtEGE5v32pp9W7SEiteULUYScK8eYznxN+eQlcLm5ydAQUFBsHHMUy6AAE8Xm4kixUzdq\n",
       "ZQwiNO+3N/20ap8lUrMTQJ525eJHiFTNyhFQcKyjHcUyKPBVBb1f7NSNbaPc58NZnP/bm35atc8S\n",
       "qZ0G+vj5foq4UB0PGRoCCoap4CiWQYEPZOP9Yqdu7GrlXuxEaIFvb/pp1V4lUoPic68wP/lJ1ewc\n",
       "AMWNQSyDAk4VVjFYzN+NCBFayAheJFKD7J1e4Aj0k6rZeRwUFAtXcxbLoEjwGobbxcZbt6zH23e0\n",
       "nyBSA5nOrvCy+UjVrFxxoYUZ0Uqss5zFMihSHCjyZLGcPpgaRq8XuwUKmcofB4rLavfYmwaL5fTB\n",
       "NDXXik3KOpw/Qe4Ykan5Ya/rjtpN92SxnD7Xyc3FYso4iPXT/wE7hRZP3WIUjgAAAABJRU5ErkJg\n",
       "gg==\n",
       "\" style=\"display:inline;vertical-align:middle;\" /></a></dd>"
      ],
      "text/plain": [
       "<IPython.core.display.HTML object>"
      ]
     },
     "metadata": {},
     "output_type": "display_data"
    },
    {
     "data": {
      "text/html": [
       "<dt><a class=\"ProveItLink\" href=\"axioms.ipynb#vec_add_lin_map\">proveit.linear_algebra.linear_maps.vec_add_lin_map</a></dt><dd><a class=\"ProveItLink\" href=\"../__pv_it/axioms/ed1816b775c6861b0a6a8a447d2eebfb39da58e20/expr.ipynb\"><img src=\"data:image/png;base64,iVBORw0KGgoAAAANSUhEUgAAAvkAAAAzCAMAAAA6juexAAAANlBMVEX///8AAAAAAAAAAAAAAAAA\n",
       "AAAAAAAAAAAAAAAAAAAAAAAAAAAAAAAAAAAAAAAAAAAAAAAAAABHL6OuAAAAEXRSTlMAq1RmmUTN\n",
       "IjK7EInv3Xbz6T5NtFUAAAAJcEhZcwAADsQAAA7EAZUrDhsAAAlcSURBVHja7VxZYsMoDDWbWc0M\n",
       "97/ssNpstnHadJmij7pJVfEEDyEEybIMivCyTJny2+UhlTdjBc9um/LrhTsq83Hmk9llU/43gibz\n",
       "p0zmT+ZPmcyfzJ8ymT+ZP2Uyf8qUyfwpUybzp0yZzJ8yZTJ/ypTJ/ClTJvOnTJnMf5uAbdvoHOQp\n",
       "QbSlA/wbzF/naE8pIz2azP86odXzQ0ZuYhp7blkQMt4u/SwHvmgpDl1CJ/O/ZY2F5TMM/FNoRN/r\n",
       "yFdGSK+k+IxGiawAPQjjshdGDCH9iVRznXI0VjAf7EoQ3TN/VPvnMP+bEUNZPiMyM7AFMwZYWbkP\n",
       "5Bq9hfnQVJ9NKpCVoAdhVMCHDVEV3lohM+TR3DWG+4nFNrPhXqfsjRXMx3srK71n/qj2z2H+9yIW\n",
       "a/lMfDMD/6vCggyMZ9Aq3sF8udUzwbTgiz4VT4GPGiLhE39oWyh49KlXYZJ5Ak46JTVWMJ8lbcoH\n",
       "sp1R7Z/D/O9FjFH5jK+AqWYhaWMpNbpgBP4K5hfIcCfA1zDugQ8asgwO8wU8dkKp+As465TUWJnn\n",
       "p/kg4UieP6j9g/L8b0WsqmdAQqWp9qKwzXtR1EGRSEp8AvM1vWR+iUx1PRJPgY8ZSgLuZrjmm5W1\n",
       "k6FpdtopsbGS+enVOrTDHdT+Qcz/TsRwLZ8hJupFG3jLfBDHc1WBrSt6jfkFwSC+Yn6JDHZ7rIIx\n",
       "AHzM0CDzyapF26BviMrzTomNVbUd5ebQpuRYbWdM+yfVdr4RMZblM7xw6TS6ZX7IlgVIpUoJhpgv\n",
       "tAaCyWOFK6P6dsX8ElkCXVqsYAwAHzNEVwVcbqpUlu80ztDePkMacpLr7MyPjVXMxx4hF2PMH9N+\n",
       "cyht9qr6gvktYvHxBnvL8Hlcy+MbscPIjLxjPjNc23E//hPtkRNvmYBqkC17NdBWp891WO52cB6O\n",
       "K2Sp6dIiWp8CHzNk1UCT5zfOdKsUyM9WRC6Yj9Ye8ylIP/z22GDolyrcZ36mjWIghcoXsJByL6F/\n",
       "U/AyxlqznPjC01Z3le0myR4F5OhjARWfM7/wzxNfZQkh4wZLiTnr5SpK7w1Wzva8bTGk0/INFqNp\n",
       "N4Hgjvk6LOFQpcGCaiTmI+qYIBaATqK8zkMAVWg5RRZBVxYrGAPAxwzZ2NQwv3WmmzcRN1upvEoB\n",
       "Y2P1SZbriz1J1F6HSHES83NtGeylRrm3Bjw6FJnENOCe83Em1FusEJHxkw29AB2oRJ4yv/TPr455\n",
       "lo22w9YB14GCYtuOBitnO962GBQpn555GGNwfNFRCOBKVQF84SqBTT1pRpjP6kC+/PPvVojZq+UU\n",
       "rKSYEyWyCLqyuMMYBn5n6Jz5jTNMJS94UdbkJ7nOPu6xsZr5bt6uRfudU7Sd+Zl2PAeR+dIpNuUT\n",
       "tPgWZnsoWHLdqoDwhPl7hb6A2kkA1xaxJyhTutlSIVPCtUhdSGdHg5WzPW8bDC3zo6rZ7mJ+ir17\n",
       "hYQMxXzfmr7I7EnGdoazBaBBlk3XzCJRT4GPGeoxv3FG9CvTFjMil51C+jHf0gLt9m3ORKU4z/Nz\n",
       "bWrSAnvEYOk5FBXykzqfjHkqSaTd37XUgNrszjVGF8o3pCUWLqqiSO6gEfU1RBIVQ1lA7RQt1xZx\n",
       "yMfXvHcV9AxGFVx6nG5uPWc73rYY2mwnZkSbumE+SztNkEI03IbyfLf4U/fdkX3ms3J2crCcIjtA\n",
       "5xbh9hT4mKET5l86s79rhLwOB7GxhvkS7v3BDEVKL1fMz7TdtKa7NWgctYmlDCPtFPXbFNe9K/Rn\n",
       "GxL7XT91R84ktOyOoq3v1gtfEIsaQd+lElQv2c2SEirE58zPEHua5isoNRohDFgNV/KjntBztvW2\n",
       "g4Hr8rkf/NTXFxoCxWzZOrmWY3Ud84VN1YAq1taSLNUW8ajttMgC6NpiBWMA+JihDvM7zuhuKYOf\n",
       "f0tm2uHyPvOpAgdwSaW6ZH6m7YKnzKY7tbyiNr/TZW/uMZPBmHIRLlwPURFya0cq5lu1StT+gSOX\n",
       "vnmNqM/sdtbTl/AuVMLPmZ8htrnOntQfab7wKU8B99igJculs623HQypcpeeVO1jRa8JtKq4Su9z\n",
       "FssB5kPDBFahTJNADdXzO8gC6NpiBWMA+JihtHHiPIstjTM+DLb5b+eiT7zTEJkfG2vvagJWNN+r\n",
       "fWd3NQ9tG8ezgwVh/K04A1G6JrFyLzCZlr4ogqwQYrIKo2N3YL4jnE1yXAUoakR9S6uwN4OgC5Vd\n",
       "MD9DbPtASpDd0wppvk9lcrjsUEkNls623nYwsC1/CuuB5wN0v8gLAoH91hfsDcBFzMc2KkKMzs6r\n",
       "Jesyv4ssgq4sVjAGgI8Z8pV8YX8akEz2nBGAkyYX797sCJfXIvOrc9jeCuqzNG3EFfPzSmo+H5dQ\n",
       "ZTT7NY2yWEkCVeI2O+XRIC3Je8x3KTe3HIsaUZ+JWJXd6VVCvcp26qI7zY/oYcDGSrgY7+WF1GDl\n",
       "bONtD0M6zbm7OQ9vr//SbRlg/lORV1Z7oOn2FPigoWEhkle3F+47JTV2wXwW1rpO0O8yn8VLSXGD\n",
       "EU7vMlTlgdcWbk/4TEYvXPqHj+Ou2u6jrOY2ltrn5hK6qBH0Pat4lrhWUDsZYKd3YkLjypoBc5he\n",
       "IgSIAy41HLtSpa9wbqWzp952MOxXpW5uo5Db278YfTnze6BrGGTk6veIoTdJPN5Dd8zX3LhiCVRG\n",
       "DjF/2USss/poCOjxMxCoOCBKIVFKT5HwwMSmHzIUBaB2GhojxFZdKUKskfSWOe1B5XSA+dgn/AKb\n",
       "lQTMaDXSnWPBEq7ABNrQYsLrZDo6e+ptD0N6i3/wivTATdNXmK8vS6Ut6BcvvH6aodeYvzf2js9k\n",
       "nSSWQrrEeWhImBpE0ju06lZ671ZEOAi3bbDvbQ9Dek98cKQHZs4rzKfm6gZrC/rFCfxphl5j/t7Y\n",
       "G5hPPn6Ph5lRTUzH3rth/jjm2vjJf/YwhEps9nxN9ABR5Cufw6UYXHC/Bq1f5eunGXrYbZs7RTsa\n",
       "ewPzP560UWCGL++0J23dI7wb5j/AXDXY/080v5Hop8vv/wS6uH3DM//zvm9HfJLOlO8TvW3qj3z3\n",
       "wpQpp9H/7cxnGsnZz1P+HPPd57/57Ocpf475nM1OnvIXme8Of+bOb8rfYz6RCKHZz1P+3g53ypTJ\n",
       "/ClTJvOnTJnMnzLlJzMfCSFmmWbK7xdHZP2A+cYKnt025dcLd1Tm/wHE/F3L7kJnhgAAAABJRU5E\n",
       "rkJggg==\n",
       "\" style=\"display:inline;vertical-align:middle;\" /></a></dd>"
      ],
      "text/plain": [
       "<IPython.core.display.HTML object>"
      ]
     },
     "metadata": {},
     "output_type": "display_data"
    },
    {
     "data": {
      "text/html": [
       "<dt><a class=\"ProveItLink\" href=\"axioms.ipynb#scalar_mult_lin_map\">proveit.linear_algebra.linear_maps.scalar_mult_lin_map</a></dt><dd><a class=\"ProveItLink\" href=\"../__pv_it/axioms/de07bf52e411cdc7abcbf4028b381b0e77fa764d0/expr.ipynb\"><img src=\"data:image/png;base64,iVBORw0KGgoAAAANSUhEUgAAAu4AAAAzCAMAAAD//H0gAAAANlBMVEX///8AAAAAAAAAAAAAAAAA\n",
       "AAAAAAAAAAAAAAAAAAAAAAAAAAAAAAAAAAAAAAAAAAAAAAAAAABHL6OuAAAAEXRSTlMAq1RmmUTN\n",
       "IjK7EInv3Xbz6T5NtFUAAAAJcEhZcwAADsQAAA7EAZUrDhsAAAjwSURBVHja7VzrYrSqDh0E5abs\n",
       "w/u/7OEqF0FxpjNtvyY/ytSmZAWXIQScx2NQhJMHCMivlJv83bQRAsMG8juFW/7ycbrPMGQgv1sw\n",
       "0B0E6A50BwG6g4AA3UFAgO4gIEB3EBCgOwgI0B0EBOgOAgJ0BwEBuoOA/Pt0R9u20W/uAeR7RJk7\n",
       "NxUf/nm6Lz+gB5Dvi+X48AHo/tPoTqv2xr9chTt2H42Y5xd8uO/Ka/GcFcaA7j+f7moq2xGZ1YCS\n",
       "fOb+qWUWz/swgA+rL6SVczEZa9Id7doTvqb7qPbPoftLiJdPuzzJsu0yimvNEeILsXRU+D10n/QV\n",
       "2UscPewHfHT1V5aJ6fne82fsuaeJbXojLRcVPqM72c0t9Jruo9o/h+4vIV4+7LJYyvZEtFfhq+XZ\n",
       "It5Cd7k97uHoYa/xzf69OLw9KLo3fQgdu59Rx8VorEl3Fv+L8oFkZlT759D9JcTLh10muGz7wrQK\n",
       "Adi2mHwX3UscPewHfJ6RCN3HtK7hA+q5GI21c/f4MMhpJHcf1P5BufsriJcPu7xW7cmsrlloXeqw\n",
       "iq+gu6K36V7h6GFv40OXT6nim5F8vlh0+AvruhiMtekef1mGlqqD2j+I7q8gXj7r8rSU7YlwHVt3\n",
       "2xf8JN0LGk7kNt0rHD3sbXxXdJ8XdXhMkHbPJJV9F4OxTmVmtQ/QtsqxysyY9k+qzLyAePmsy0SW\n",
       "rbmDSuFm/TC8VB9zCYnG6C6UQoLJNFGVhN56dB/FkbCXlkp8dFmRzRLXNUtnDtCMWmNOkHpupzKJ\n",
       "7sFYh+7E+cHFGN3HtN8cBQ9rRnVC9xcQL092MA0salU/BsaW2v1AwrspM5VxwxCnmEq2TFDFBRNO\n",
       "FVJGp03wqbRFlrs4EvbSEq5i/oIOufsBWrs0gLU1gOcTuuPljO4UxR9uvauJhb6spE33TBuHiDet\n",
       "3BICr/bXyV0UvAyGpls+u/LRVt9mpZRktyJn8LWASvp0L/xrzJg9j/ceygHimkiCEG3lIqvaAV4P\n",
       "ztFcJM3eWrVVNVNmJKVMN31ah6I7ppYv4oFwJ56r/KGO5cIbOHbslaUaHz/Q/QitnT3OdpFA5Vm+\n",
       "Foz1tpmsi3tqp5zuLEUnuufa0vcbjXPXG/IJb5j6mELcET3Qv14N+dBJ7izRBWpAnWWX7qV/jwpX\n",
       "3+PUQ9EB3rJ5PuvmQSaxbQng5eAcIa9z0ZKi7J1KcFnKnKLsEN1ZFrK9/Pe/rRC918EpWqJj4zh2\n",
       "7JWlGt+R7kdobI2geGGet1OZdIuCsR7dJ5U9SQ5IY69rp3umHbYhZD73iW11iVi4RNgeBx65blWM\n",
       "uEP3vRBeQG3kecsR8d4HYY8rj1MPRQd+feXdybuRNnqzBPB6cA6QK7qvZfqQ76royp95LLo/DlF6\n",
       "qxeHaRwYCaH+Bo7kQ2lpvozuR2iiXfjVWzuVSS7O59Hd3Eq8GzKpEW0FunSIIGlTHWfIFCYl1ikx\n",
       "zbfTXM7l+CCxsn9XUpmUYHH7DPRB+YaVtJtzVOLAaK8R9NWEJS7uUAG1USZcjojNmst+LLb5eh5n\n",
       "PeQDtDpDLivOu6EpBG5jg3OEXCYzQqt+tbsKG9M2lrvbZIDaL0xs052VT6An5R0cyYfS0rQN0L2C\n",
       "9mjXhTYt5PkTHYx16S6n3U2mKW5maYnumbYdCLrf80lbPs/mvrP5+Hy6NYgNDMvk9iIkcct4ajeD\n",
       "Z2/ZbhKbQTDerJYlQcPr26mfunXR0oQ6kT7dE2LjBVtLXF2Psx4ylx2tqQvxRTeSp4LC0OA0IHNV\n",
       "tNr/89xKmauL14efLBeEybvQWsyxJaWqxWHI2G7giNhrSzW+A90b0B5KtUuf/GICC8a6dKcrSg5I\n",
       "KtdTumfadoEtc+KYyEU1i/FrzoOojXZsCpnVzIVlNxU+/7XMYM6qUaLmDxzbqOI0gj4zC0rh14pN\n",
       "qDPv031HbKsLgpW4uh5nPWQum0dDqYAk72bFNZKLwWlAjuW60PpaiGwUABfdKWGe033STBDj6pym\n",
       "lXmg7n4DR8ReW6rx+ZUMTwPQgOYD4zGXPT5iYTkR6R6M9U9EIlbgaJWYsxORSdtE7GwjQGh3HE1P\n",
       "OJ5aWLiTKXYtHV+wkXnW2T6HpbSnu2WNyWFs/SZoBH1bEnGOTqgJlZ3QfUccEssCV9fjvIfkchaR\n",
       "8m5YymUiwIvBaUBmW9lKifFxo8XQT2uuenfnLLoTEzAngnvbwzWj5W0cEXttqcTnKu7C/NQo/nsT\n",
       "mkD8eCKzdWDCLyci3asd0bMDwG7iUo2TcM0Bxbp4Gn1FT++nJsr64uxveFg3x1wXxTl1j+4btlOi\n",
       "iBpBn4lQUN1JUkI9S2YSQHrE1fW4XQpLUbzohpC9wBABXgxOC3I8kn73aDq93v581xGxR8+Hm/g6\n",
       "VWLJq0ME1y5GYwN0Z54QjWDXpDsL3/geFg9+CZ+hK7dmNn+YwSUq6sGla1zEtkVtFx8VN2HQtJvN\n",
       "24KG13fc4Fm6WUFtJHrHUXJ1B1ng6nvc7IHqLL1N3VDNiS0vuqLkNjY4Dcj76aabX6R/faTsc3Rv\n",
       "YScfOS0eXIzGrumuuLY1imltrLibw7WJUCJ1cczvvWQ7MJSzRmoopbvRviGzlLaGZ9iBJ2U1FMGY\n",
       "LapSnIjC0vXMaQsqpyNkJX5WTrhOPG71ENRr9wSZJxOHtP89QrkYnBbkeInfOms8clbzGbqr9RnW\n",
       "HbF/6Pisd3E39s63mTrpoJA2uR0aaTY6tq0dpWaR9mQOHMR1NYu2uzkAbA9OC3K8JvhrBPsaulP9\n",
       "zCHQI3ZOP0j33dgb6T6/fobmemNwnxrp2LVve3mvAtMZnBZkX2vN2qEgPMIm+cy7qpSgJwhfY1cf\n",
       "YbvaXCEiGXsj3V/PzSjSwwdnjptCzX2273tXtQTYHhwMX9zzXvl3Xs0WlxccWV/+lpinexBfogLy\n",
       "QqzffA1t//CAbxED+Vvx/u10ZwpLGGeQv0F3+14zh3EG+Rt05wwGGeTP0N3utMCaDOSP0H2WGGMY\n",
       "Z5A/slQFAQG6g4AA3UFAgO4gIJ+mOxZCQJEF5JeKZa+6QXdthMCwgfxO4Za//P9BeFnlnF33BgAA\n",
       "AABJRU5ErkJggg==\n",
       "\" style=\"display:inline;vertical-align:middle;\" /></a></dd>"
      ],
      "text/plain": [
       "<IPython.core.display.HTML object>"
      ]
     },
     "metadata": {},
     "output_type": "display_data"
    },
    {
     "data": {
      "text/html": [
       "<dt><a class=\"ProveItLink\" href=\"axioms.ipynb#identity_def\">proveit.linear_algebra.linear_maps.identity_def</a></dt><dd><a class=\"ProveItLink\" href=\"../__pv_it/axioms/1e08937b2a8a3d85d471cb87364faff60f60fbfc0/expr.ipynb\"><img src=\"data:image/png;base64,iVBORw0KGgoAAAANSUhEUgAAAQ8AAAAVCAMAAABvy5tFAAAANlBMVEX///8AAAAAAAAAAAAAAAAA\n",
       "AAAAAAAAAAAAAAAAAAAAAAAAAAAAAAAAAAAAAAAAAAAAAAAAAABHL6OuAAAAEXRSTlMAq1RmmUTN\n",
       "IjK7EInv3Xbz6T5NtFUAAAAJcEhZcwAADsQAAA7EAZUrDhsAAAL2SURBVFjDzVjbkqQgDDXc77P8\n",
       "/88uKIpKoNXt7lkeLEsSkpyEQ3CaLg85PRvBe3Vfy3A+fWssHt6ML5CH1uyTwILgZixBwxsByz7y\n",
       "kN9g+0boSIPYoqlj1GA+jAeJPQvSLW4KoiK/BXDye06p8tEzzMeQV2bbomJUMEZsr9F/vj5s1waP\n",
       "cyzUT/JWViYT1xA4dHwUaUG1Tko9Wo1txaOi/U08pgUEgNtrOldeoOcjZQWU+dOQH1wtvMjfjkeQ\n",
       "1/EoMbFXS2qfhth9EbHMqK6PLmFBS+bFcD/XWR3fwqeHWifszXhwEZrNBHFGXdq+jyJj4TKQ3g13\n",
       "AauzUTzBw4QARtlahMeAfQePRk0KB3mTO7fbMYgUQi12KWwY5MzmSTbXjx6Sk6CVz0IXNL8bcLSV\n",
       "0hkgJBEcAXIiL1ZAb9SSK9DwRyOFHg005iAoH+BBs1kJ6yOx9lImxOnjJvOkoqxGgh1bVGZ/zAS0\n",
       "UxHhkI/1UG3VUuIaPFopgZ9MtrNbNjyIW0tjLZiFNxstx0+s1BPs2FK7nC/j548/jFhpWoIo760a\n",
       "hkcjpdy6qj4cuLqzW7bw1RwcCRuipQ9qoqx4RD0UHPCpCwPG4GJXx4rtqsWFV3g0UgZvHVLjRPnQ\n",
       "R+5KedGynJyzRJvtt+2XlT4wwRF/ZM0kbAyOhzoRoIZa5Qe1Dh7Dxbev0dhxzogvrcfmTg5Xto27\n",
       "Dgf66AvitozmE7hDPR1dPhPgcr4gaggeiFRAOV9H/aKGqS70BXv2RkC0sGE8FsRtkagMSy7z2vPx\n",
       "C/0Hopai0vU59aQE1lwypJMsXXzBY20rQNWanwJy8qolX5Auc2BHgp36YCljhNFeC2wVigeiNnce\n",
       "Jj0jrDWALZ48be/HFOvhlqtdwcPz9pDmqNPNL4ye4MfvLxcHt/rUr7/2UbZWVcQb4QbbnuD/gseT\n",
       "OwVD+NB3NoGWFwXfgkdwv4DH+IZ/Jh79b9jfGzKS7+Ohb/0xlOGprSf/TyWD7yESfO43558OfwGo\n",
       "DBv/HIyuqgAAAABJRU5ErkJggg==\n",
       "\" style=\"display:inline;vertical-align:middle;\" /></a></dd>"
      ],
      "text/plain": [
       "<IPython.core.display.HTML object>"
      ]
     },
     "metadata": {},
     "output_type": "display_data"
    },
    {
     "data": {
      "text/html": [
       "<dt><a class=\"ProveItLink\" href=\"axioms.ipynb#commutator_def\">proveit.linear_algebra.linear_maps.commutator_def</a></dt><dd><a class=\"ProveItLink\" href=\"../__pv_it/axioms/25471d9587401d4c05cbfcde7516b091cd9aef0e0/expr.ipynb\"><img src=\"data:image/png;base64,iVBORw0KGgoAAAANSUhEUgAAAlwAAAAzBAMAAACwD8slAAAAMFBMVEX///8AAAAAAAAAAAAAAAAA\n",
       "AAAAAAAAAAAAAAAAAAAAAAAAAAAAAAAAAAAAAAAAAAAv3aB7AAAAD3RSTlMAq1RmmUTNIjK7EInv\n",
       "3XZ/CtNrAAAACXBIWXMAAA7EAAAOxAGVKw4bAAAIAklEQVRo3u2be4hUVRjAv73zuDN3du6uEL0g\n",
       "ZqIQKq0hLTIrx+zJYm1FYA9qTCIyqYkgMKud+iOIstki81G5t/4QXMjGTCS3hz3sJdUmRQY7dLUi\n",
       "zFytfKRLTt937jln7pl7ZlxrC5L7wcfce+53vu+e3z3nO49lAXRi9fc7EEqD9Pf36x+ka7V8iKdR\n",
       "+moHmuDqDuHoZEqIK8QV4gpxhbhCXKGEuEJcIa4QV4grxBXiCnH9f3Dt3DJ622ITa7taCpSZXJv7\n",
       "OkxRsXVl0xeDvdV/g2vt6E3trLC+v+FJKvhO27higwo6Z7fo3De983+HAqscc+vKXmsKdNLjU4K4\n",
       "2ujXyI0RLm0UnZwh4d4jiiJ9v447dokGl1HxFCW+Wx00tXHj7iyBndO4b7jjpqqQO6r8PdTVw3Up\n",
       "Pb4jiCtKbxcvjhEubRSNWAWBy6jJwvZegEwpiGsFV5SzVFzwCUDbHwBzNe4b77ipIswdVo47dfVw\n",
       "PUJ9rzeIK0EdYv5YDUZtFI1EcwJXNCM/VQ+OhVvzQVwzuKJM368OpkM4gvYATOb3sVzdvRpMmirC\n",
       "3GHlSL6uHi4Cl8pqchd9mdfGCpc2ikbaZaZb944cIdPwapobxLWBK7peoPaPCN5GkEO7w4etW3ev\n",
       "BpOmSppk7qjypyDVwxVBxHFdqp+Ev4WxwqWNopHxApfp7pJ0M6jzigFcRsFTlIft35RHbTiY4h+h\n",
       "5lRc4wPBpKlfPHdUeQ5I9XDBZ9XqJh2u9mp1qDJmM6Muika6BK4onJXzJaKXtgRTfbTiKUre+J39\n",
       "zvy2JLKddRJepjpVXF2BYNIUfVWX8AeeO6q8GqRyXFcALNPhipYg6fwNNobIObYfl4zS2uUcgeta\n",
       "KItvlTgwvHWOWEjMrJJ8Cfzre90nlk2MsJJs4nZWpbx8+Fh6EimouOYEgklTgNvgMe+LcHdU+VyQ\n",
       "ynHdCyZijGUuhvgHflxYei/AhdgnJnjUY5lFkKjywDC84wl9i88BuGZPFublIe/D5UXB2ehjVvL4\n",
       "noEreW7yRQDYLHDloadTYMe8OyEX7F3prKfUFc1f6XeNmCl3FcF4nzBtUHFtVhxs9ptCKicmTu6O\n",
       "Kk8AqRxX0mEv8gvATY6yTF1GFimsswBvnjphEbTj9/5JjIQSTNcvBbCV9gaIrUd/Plw8CqS8JBMZ\n",
       "JCPmVURgspHjsp+9JCMm0iQapP4I4mrv9hRg+yXT2R9MC8AHxAuoNFUkdrNBVh3CXNDJ3a9g/XML\n",
       "v5OmLLV6A4C7o8plkMpxGS7LwU+D3a2u6s+k8MZBAMoRV1AbdrNrMau06ZcCWDXZCT+Ct1oRuHgU\n",
       "mPW5l4vzENnteeURVFyrADoGeVlHJ5u7muOysO/8CfWVEgB1jmm0HG/oXRsVBxv9pqwmW6cJd1T5\n",
       "ZpDKcUHhIjL63VzfsAmKR7CeuRciRW9ZizZglGDNMNhvHxc/EUzzxYted8w1uATdsbVI5dum5iBN\n",
       "DcwtoLeWK4e1Mgq4s72mZuGVnOeVR1AHI47jNG8qlDG1tO0N5i45GKOoQyxB8K1TgjJ1Bu2NwcMN\n",
       "RmkKtsu3UsIdVZ4IUgWu14hpYv8FbgOu1Hhq8yG4D4F7A2Mmuopno7nXocv87qtuKBftQlulvZjK\n",
       "RytYfk7FdNn7lu9jfcjI+3CxKJj+L/NWnt9PPl54ZRG4LPesaVlJGxGHZxcoF4K9K+l6CteJLVNy\n",
       "3cvfiGyX2EdjvlfFtVxxsNxvCvD8AxPZZxPuqPIUkCpwPUij2h5ZsKEBl/kuXc6mkcJXxT3dj+Io\n",
       "ji3bDw9AYusheBJgr1lM5l4tmg6WL9lzOsAN1MB1b7K5odeHi0WBWZQjKb+DdYzwOrs+FtmkjdYP\n",
       "Utv3g8XaMQ89fegEcdFET2rSi/exlk65iwGO0zCaC3KdIXGtVhys9psinufY+JLuqHIXSBW42ijR\n",
       "JXthU+OJxPGsR9n4BpE7ly59howqcMGkSdfjd7co/SGu92HHTvdWtMPy7htq3XAyXi9lswIk/LhY\n",
       "FOgayLAGHUPsuVcWgctCZr2yNheMvn0VqOKTE2gPnNWcSCQGmVp9+xw4rXaXb5FKe/Jn/CcrAtdC\n",
       "xcFCv6mcqqQ7qvw1SF3rP8DpyMEuR3eAM+1aejPvK8X2ujRHmAdZnk+z3pXOJX/ucdjckXBwqfI4\n",
       "y3H2wcbBKJZiPQzbe7gLLHGvLIIIXFKOewyn1QHOFq7N5SFQcaWVo4d06XCVzcG6KrjKRa9HBHCV\n",
       "WZv5QnbIgWTOcp+HVR3duJQqO3bvq056OFmxXCzflodeSvUJzAebvOTZgAvTQkfWqhBw6yvhtZz3\n",
       "bfbyCq5Uy/OuyVDfROtlRsMWO5JXdpb5w1WmTbhQPy67bz1MGNHhSrMPPN/7EKeiDgxD6m03etNA\n",
       "Bcpn/wD2jPPupjJU46qpRUgWYfuIY3yB7JPFBlzRd8G6+vbEe3DuyMCVWeE17V/oL1ZwrWqJi/wn\n",
       "Wx0xBc9AFre401SeD3VdewSnqdYbSxcFzZ7UVI3V++jKJqepRguvKxVrtyUumlmtVqdCQZYrW9xp\n",
       "Ki+Guh4JLr2UdYWXB6/eUjPMja2+qdtoLfr/UPCdHubaTH7SuW96F6xsF+u6c+M/xWVmdCcWKTG2\n",
       "Is2cjM2J9tHylyCBy4KjTsK/M/47uJ6aGsIaPa5EZzKENXpcyVLI6ghwpR0rhDV6XLE1k0JY4cwY\n",
       "4gpxhbiOLlznh//+GZT+/u1NcIX//qmRvtqBvwB5KZElKNBRJgAAAABJRU5ErkJggg==\n",
       "\" style=\"display:inline;vertical-align:middle;\" /></a></dd>"
      ],
      "text/plain": [
       "<IPython.core.display.HTML object>"
      ]
     },
     "metadata": {},
     "output_type": "display_data"
    },
    {
     "data": {
      "text/html": [
       "<dt><a class=\"ProveItLink\" href=\"axioms.ipynb#anti_commutator_def\">proveit.linear_algebra.linear_maps.anti_commutator_def</a></dt><dd><a class=\"ProveItLink\" href=\"../__pv_it/axioms/1ccff941f344b2be2f6b4c3bf28ec2b7cd6603ec0/expr.ipynb\"><img src=\"data:image/png;base64,iVBORw0KGgoAAAANSUhEUgAAAkIAAAAzBAMAAACJaHp+AAAAMFBMVEX///8AAAAAAAAAAAAAAAAA\n",
       "AAAAAAAAAAAAAAAAAAAAAAAAAAAAAAAAAAAAAAAAAAAv3aB7AAAAD3RSTlMAq1RmmUTNIjK7EInv\n",
       "3XZ/CtNrAAAACXBIWXMAAA7EAAAOxAGVKw4bAAAHRElEQVRo3u2be4hUVRjAv53Xnbmzc3cF2SyI\n",
       "nUg2UtOhVcl8zaaZsliDEmhKrcgSrlAjQWBaO0b/SOqMkqxutXsJClxIR1eR3DQfLT2s2MTogUuT\n",
       "BmLmuuZj06WdzvOec++cGbWWqLgffOy953yPe3/nfYcFUIne0WGCKwAdHR3qikg+H3fxIGnPXy9C\n",
       "KOHCYTLFJeQScgm5hFxCLiGXkEvIJeQScgm5hFxCLiGXEFz47tZtk0jfVafX7ivmkLxJwJsXWTkk\n",
       "JY/9zxDad+umRhRpo0mftsFRua61iENUbU/kaaWLUl4E8OeEkueeApW46t5CQmX4ryc2TISUWVQy\n",
       "FukECggC/VZXz48YsSIFsFntMNZpLzsZMZULj2iT55GekZQSehRXPVtIyIe7USA5TISUWRSi425w\n",
       "kN1MEG/8GUDZ76LG7qA3FNjLTk2qHLxSFk8ev7IplBJah7tnppBQEDf76uEaZcosCvHFJEJ1A9bs\n",
       "MIT6/RUVIezgizntbU4T2f1COQevtMWqRh3CGxdKCWFW4ahiHsLo9wwXIWUWhZSDIBReY7WxF115\n",
       "h1SEyrmTzd7mVM4G7Xg5B6+UZf9HeNh9LpQS8iKiAdVMXYv+NgwXIWUWhdRIhF4xfuPFZWj8BD5R\n",
       "EarhTjZ7m1MgZidUI1fKfS53EbfhcqGUEHzZ23tcRai8t/dUdtjWMlUWhdRLhOKey1ZPyYB+d0pF\n",
       "qJ47Cfv536dsTuFKO6F6uVKYgw8mYJa7hTJCcwFaVYR8KQiZfwGHx5rdcxIhK0vpkLjxYA659EeD\n",
       "g7w43dZXhZ/+V3o7vxfL1yC1uLAPRIONNidvg53QcrlSmMMCSOMeMVkoI7QKNATZX/0IBD6WCaHS\n",
       "VQDTUcuP20YfoXorBHv5a/edf139kpOsYD6JEM2CFpJPScn6K13zWNNJGQBO4N5+jDWpdokHuJgE\n",
       "Dy5tLpjKTjAV9p0A79mcPIfthE7IlcIc4tCMH3GcUEYoZIYTtHmWmLYdYyu2CKPwa9DNpju3QjlC\n",
       "fJbP+ymoU6/XlVYwf1YQYlkgTOcKbw8Yh2lUnoFINwJURber52bXWb/mvYUUT6N6lRNRN1Nh3wCs\n",
       "73OnYD/tdl+wbtctVwpz443Z1Xi1TQtlhDw5MoVuBiNh31OPx96eGwDoRX1zcYx+cs0XhDL1ep0Q\n",
       "wZoEIZYFFn1FZ9E4ePtpVJZBvPBrZDjqqLP+wYtx55iJCsKNUIyQZd9E9zLCye/oQ91ypTDfCVDR\n",
       "g/4uFcoIQcMMbHBZO+A4dQS8KIJ2FbxJusNENuBJQWcfGIfuCNwFmvb2jL2m1ol2g6gAl5+eGoOI\n",
       "FGyPdOqgWSC3jAKOwvsxGpVlkEbAZjpoAE6x0iCegqsT1m5bmoesUWbZ95HTg+Tk6SkcZValZY4G\n",
       "GUQwyweEckJ7cFMHB6blHITCNfh5huAF1EB0szcfPUcg6ovthXrtx5MJSCeNhrJseRJQASqflNVy\n",
       "JB0PNloiRLKAwabh5jMTR/GoJAOTNmstW0hPATrxQlvB4DV08WFBl23jTswejZn973xrc/Jm7ITa\n",
       "5ErL3B9jx5YpQjmhtXjmMAbXHHYQ0o7gy2V4CPjplqI58Soanv7WAXgJgj8NwQaAq1oyFNNRASrf\n",
       "dmUMwGIp2GKJEMkCi9hyNB30kTzqMjHIyDJLCGk4QHsSduGFKIBuljaBarXnazO3x++0kvQ0y8mX\n",
       "tRPaLVda5msxrQFp/1AvCJXhCSuUgePOs/0o0m8MFMC7Yvv2LdgoC9Nqa5/sJ22bxoSOwfkLOT8q\n",
       "QOWJxfkE3CMFWy8RIlmgvquaPM9IjJtFJRmYbGSE9PZrJtyfXwmRH5Br+6URVVtASWgjVcte7Bct\n",
       "J/6hYrxwEZVcduSbwNN+DcH8BizdJ3/9qIjBRVP19WPmAjxsaDP4r+bwFK/dINN0hPShSCz0Cy5A\n",
       "5UETbT3WS8FGO79+GAgMIXUU4JkUi0oy8MQpJ4cx8k0hIewQSZXcY70MdkKlzbUeoTZC6SRZzAsJ\n",
       "peMA1p7ylAloTOXehJ0VCbTFSZtGZpcZ6QNUgMpPxyFDZmoerM9JCE0WFVE9ixnrJ3lUmoGdpeJO\n",
       "DtnShPghs4TMcpxcS5vzozBWmZDRfgDGDaoIRUjPWk25407R1QfhQznfkq4spB/8GYxZDz2HC1C5\n",
       "5/GpSQglRbAWByHfEdCfaAwehcmDXfOiPGpE3ma3iJ0z8EVcyJzCN2qR8qg7RUblUlRWS7rvNr4x\n",
       "6h9s31potkHh6heNrmfU3xg9JaLucOycDdtTHCvMt4NpUQklVS5FpUXS2yGklrSq8DHRYfmzHbR/\n",
       "p36qVIvjPVid+juJtjtaxCFXIuJZpUvRr8BJoRe6/y4hrVp19g+b0glNKcPzafc//FuHWXDh/hr0\n",
       "f5ZbJrRpqkuoJKFgZcglVJJQKOWOstKEIqbuEipJyN9Z6xJy1zKXkEvIJfSvIvSw+x94RDo6zhUh\n",
       "5P4HHpX2/PU/AdTUcX2icKjPAAAAAElFTkSuQmCC\n",
       "\" style=\"display:inline;vertical-align:middle;\" /></a></dd>"
      ],
      "text/plain": [
       "<IPython.core.display.HTML object>"
      ]
     },
     "metadata": {},
     "output_type": "display_data"
    }
   ],
   "source": [
    "import proveit\n",
    "%theory # toggles between interactive and static modes"
   ]
  },
  {
   "cell_type": "code",
   "execution_count": null,
   "metadata": {},
   "outputs": [],
   "source": []
  }
 ],
 "metadata": {
  "kernelspec": {
   "display_name": "Python 3",
   "language": "python",
   "name": "python3"
  }
 },
 "nbformat": 4,
 "nbformat_minor": 0
}