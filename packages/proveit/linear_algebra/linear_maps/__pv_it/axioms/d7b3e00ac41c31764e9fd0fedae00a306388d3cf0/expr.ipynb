{
 "cells": [
  {
   "cell_type": "markdown",
   "metadata": {},
   "source": [
    "Expression of type <a class=\"ProveItLink\" href=\"../../../../../../../doc/html/api/proveit.ExprTuple.html\">ExprTuple</a>\n",
    "=======================\n",
    "# from the theory of <a class=\"ProveItLink\" href=\"../../../_theory_nbs_/theory.ipynb\">proveit.linear_algebra.linear_maps</a>"
   ]
  },
  {
   "cell_type": "code",
   "execution_count": 1,
   "metadata": {},
   "outputs": [],
   "source": [
    "import proveit\n",
    "# Automation is not needed when building an expression:\n",
    "proveit.defaults.automation = False # This will speed things up.\n",
    "proveit.defaults.inline_pngs = False # Makes files smaller.\n",
    "%load_expr # Load the stored expression as 'stored_expr'\n",
    "# import Expression classes needed to build the expression\n",
    "from proveit import A, B, Conditional, ExprTuple, Function, K, Lambda, V, W, x\n",
    "from proveit.linear_algebra import LinMap, VecAdd, VecSpaces\n",
    "from proveit.logic import And, Equals, Forall, InClass, InSet"
   ]
  },
  {
   "cell_type": "code",
   "execution_count": 2,
   "metadata": {},
   "outputs": [
    {
     "data": {
      "text/html": [
       "<strong id=\"expr\">expr:</strong> <a class=\"ProveItLink\" href=\"expr.ipynb\"><img src=\"expr.png\" style=\"display:inline;vertical-align:middle;\" /></a><br>"
      ],
      "text/plain": [
       "<IPython.core.display.HTML object>"
      ]
     },
     "metadata": {},
     "output_type": "display_data"
    }
   ],
   "source": [
    "# build up the expression from sub-expressions\n",
    "sub_expr1 = [x]\n",
    "sub_expr2 = VecSpaces(K)\n",
    "expr = ExprTuple(Lambda([V, W], Conditional(Forall(instance_param_or_params = [A, B], instance_expr = Equals(VecAdd(A, B), Lambda(x, Conditional(VecAdd(Function(A, sub_expr1), Function(B, sub_expr1)), InSet(x, V)))), domain = LinMap(V, W)), And(InClass(V, sub_expr2), InClass(W, sub_expr2)))))"
   ]
  },
  {
   "cell_type": "code",
   "execution_count": 3,
   "metadata": {},
   "outputs": [
    {
     "name": "stdout",
     "output_type": "stream",
     "text": [
      "Passed sanity check: expr matches stored_expr\n"
     ]
    }
   ],
   "source": [
    "# check that the built expression is the same as the stored expression\n",
    "assert expr == stored_expr\n",
    "assert expr._style_id == stored_expr._style_id\n",
    "print(\"Passed sanity check: expr matches stored_expr\")"
   ]
  },
  {
   "cell_type": "code",
   "execution_count": 4,
   "metadata": {},
   "outputs": [
    {
     "name": "stdout",
     "output_type": "stream",
     "text": [
      "\\left(\\left(V, W\\right) \\mapsto \\left\\{\\forall_{A, B \\in \\mathcal{L}\\left(V, W\\right)}~\\left(\\left(A + B\\right) = \\left[x \\mapsto \\left\\{A\\left(x\\right) + B\\left(x\\right) \\textrm{ if } x \\in V\\right..\\right]\\right) \\textrm{ if } V \\underset{{\\scriptscriptstyle c}}{\\in} \\textrm{VecSpaces}\\left(K\\right) ,  W \\underset{{\\scriptscriptstyle c}}{\\in} \\textrm{VecSpaces}\\left(K\\right)\\right..\\right)\n"
     ]
    }
   ],
   "source": [
    "# Show the LaTeX representation of the expression for convenience if you need it.\n",
    "print(stored_expr.latex())"
   ]
  },
  {
   "cell_type": "code",
   "execution_count": 5,
   "metadata": {},
   "outputs": [
    {
     "data": {
      "text/html": [
       "no style options"
      ],
      "text/plain": [
       "no style options"
      ]
     },
     "metadata": {},
     "output_type": "display_data"
    }
   ],
   "source": [
    "stored_expr.style_options()"
   ]
  },
  {
   "cell_type": "code",
   "execution_count": 6,
   "metadata": {},
   "outputs": [
    {
     "data": {
      "text/html": [
       "<table><tr><th>&nbsp;</th><th>core type</th><th>sub-expressions</th><th>expression</th></tr>\n",
       "<tr><td>0</td><td>ExprTuple</td><td>1</td><td><a class=\"ProveItLink\" href=\"expr.ipynb\"><img src=\"expr.png\" style=\"display:inline;vertical-align:middle;\" /></a></td></tr>\n",
       "<tr><td>1</td><td>Lambda</td><td>parameters:&nbsp;41<br>body:&nbsp;2<br></td><td><a class=\"ProveItLink\" href=\"../f16642c3c2feba949e3c27a2ad4fa612ef5194f80/expr.ipynb\"><img src=\"../f16642c3c2feba949e3c27a2ad4fa612ef5194f80/expr.png\" style=\"display:inline;vertical-align:middle;\" /></a></td></tr>\n",
       "<tr><td>2</td><td>Conditional</td><td>value:&nbsp;3<br>condition:&nbsp;4<br></td><td><a class=\"ProveItLink\" href=\"../fff1996551cb48e9c8e53a7f455da18b41ad4b140/expr.ipynb\"><img src=\"../fff1996551cb48e9c8e53a7f455da18b41ad4b140/expr.png\" style=\"display:inline;vertical-align:middle;\" /></a></td></tr>\n",
       "<tr><td>3</td><td>Operation</td><td>operator:&nbsp;5<br>operand:&nbsp;8<br></td><td><a class=\"ProveItLink\" href=\"../ea13c51f56e6dc29ab989c46ff7e4fe19d0ab6530/expr.ipynb\"><img src=\"../ea13c51f56e6dc29ab989c46ff7e4fe19d0ab6530/expr.png\" style=\"display:inline;vertical-align:middle;\" /></a></td></tr>\n",
       "<tr><td>4</td><td>Operation</td><td>operator:&nbsp;20<br>operands:&nbsp;7<br></td><td><a class=\"ProveItLink\" href=\"../53e306fb248a6336a445da3de314c91808e0807c0/expr.ipynb\"><img src=\"../53e306fb248a6336a445da3de314c91808e0807c0/expr.png\" style=\"display:inline;vertical-align:middle;\" /></a></td></tr>\n",
       "<tr><td>5</td><td>Literal</td><td></td><td><a class=\"ProveItLink\" href=\"../../../../../logic/booleans/quantification/universality/__pv_it/common/083d2baa0b8ecab1d230f9ec29a15aa1355809fb0/expr.ipynb\"><img src=\"../../../../../logic/booleans/quantification/universality/__pv_it/common/083d2baa0b8ecab1d230f9ec29a15aa1355809fb0/expr.png\" style=\"display:inline;vertical-align:middle;\" /></a></td></tr>\n",
       "<tr><td>6</td><td>ExprTuple</td><td>8</td><td><a class=\"ProveItLink\" href=\"../ebdf03a3368c94ee7f6b2cdebe7e84a0dcfe34170/expr.ipynb\"><img src=\"../ebdf03a3368c94ee7f6b2cdebe7e84a0dcfe34170/expr.png\" style=\"display:inline;vertical-align:middle;\" /></a></td></tr>\n",
       "<tr><td>7</td><td>ExprTuple</td><td>9, 10</td><td><a class=\"ProveItLink\" href=\"../37f0fdaa91ea81a706d40f85eb20e89f5cbc88880/expr.ipynb\"><img src=\"../37f0fdaa91ea81a706d40f85eb20e89f5cbc88880/expr.png\" style=\"display:inline;vertical-align:middle;\" /></a></td></tr>\n",
       "<tr><td>8</td><td>Lambda</td><td>parameters:&nbsp;29<br>body:&nbsp;11<br></td><td><a class=\"ProveItLink\" href=\"../859e1bf190ad7d87dfbd3ce7c3a31b44a2c461ac0/expr.ipynb\"><img src=\"../859e1bf190ad7d87dfbd3ce7c3a31b44a2c461ac0/expr.png\" style=\"display:inline;vertical-align:middle;\" /></a></td></tr>\n",
       "<tr><td>9</td><td>Operation</td><td>operator:&nbsp;13<br>operands:&nbsp;12<br></td><td><a class=\"ProveItLink\" href=\"../fdcef8bdda7eadc951141827185574260418b5040/expr.ipynb\"><img src=\"../fdcef8bdda7eadc951141827185574260418b5040/expr.png\" style=\"display:inline;vertical-align:middle;\" /></a></td></tr>\n",
       "<tr><td>10</td><td>Operation</td><td>operator:&nbsp;13<br>operands:&nbsp;14<br></td><td><a class=\"ProveItLink\" href=\"../eb6830e9a9a6cc656e9f166b29d2a451b6c3367f0/expr.ipynb\"><img src=\"../eb6830e9a9a6cc656e9f166b29d2a451b6c3367f0/expr.png\" style=\"display:inline;vertical-align:middle;\" /></a></td></tr>\n",
       "<tr><td>11</td><td>Conditional</td><td>value:&nbsp;15<br>condition:&nbsp;16<br></td><td><a class=\"ProveItLink\" href=\"../3338fd2563f6e566111897062a70d9f548516cfa0/expr.ipynb\"><img src=\"../3338fd2563f6e566111897062a70d9f548516cfa0/expr.png\" style=\"display:inline;vertical-align:middle;\" /></a></td></tr>\n",
       "<tr><td>12</td><td>ExprTuple</td><td>44, 17</td><td><a class=\"ProveItLink\" href=\"../e9269a3a12a2f9c88a561318d0d55d8d11da1e5f0/expr.ipynb\"><img src=\"../e9269a3a12a2f9c88a561318d0d55d8d11da1e5f0/expr.png\" style=\"display:inline;vertical-align:middle;\" /></a></td></tr>\n",
       "<tr><td>13</td><td>Literal</td><td></td><td><a class=\"ProveItLink\" href=\"../../../../../logic/classes/membership/__pv_it/common/e3b437d28fbe17f0a50c9789c7c9b47a1270f1420/expr.ipynb\"><img src=\"../../../../../logic/classes/membership/__pv_it/common/e3b437d28fbe17f0a50c9789c7c9b47a1270f1420/expr.png\" style=\"display:inline;vertical-align:middle;\" /></a></td></tr>\n",
       "<tr><td>14</td><td>ExprTuple</td><td>45, 17</td><td><a class=\"ProveItLink\" href=\"../fb8104d0f93fdb3646b1875ab7337ccc1a7b13e50/expr.ipynb\"><img src=\"../fb8104d0f93fdb3646b1875ab7337ccc1a7b13e50/expr.png\" style=\"display:inline;vertical-align:middle;\" /></a></td></tr>\n",
       "<tr><td>15</td><td>Operation</td><td>operator:&nbsp;18<br>operands:&nbsp;19<br></td><td><a class=\"ProveItLink\" href=\"../d4cbe842251cf087c70094bc1bb27d74b97cf40c0/expr.ipynb\"><img src=\"../d4cbe842251cf087c70094bc1bb27d74b97cf40c0/expr.png\" style=\"display:inline;vertical-align:middle;\" /></a></td></tr>\n",
       "<tr><td>16</td><td>Operation</td><td>operator:&nbsp;20<br>operands:&nbsp;21<br></td><td><a class=\"ProveItLink\" href=\"../34f4bc45f9159f588016f995c331f6d420bf421c0/expr.ipynb\"><img src=\"../34f4bc45f9159f588016f995c331f6d420bf421c0/expr.png\" style=\"display:inline;vertical-align:middle;\" /></a></td></tr>\n",
       "<tr><td>17</td><td>Operation</td><td>operator:&nbsp;22<br>operand:&nbsp;28<br></td><td><a class=\"ProveItLink\" href=\"../bfe4d11fbcd28c79c0e2a9c152d66f0991be7cc30/expr.ipynb\"><img src=\"../bfe4d11fbcd28c79c0e2a9c152d66f0991be7cc30/expr.png\" style=\"display:inline;vertical-align:middle;\" /></a></td></tr>\n",
       "<tr><td>18</td><td>Literal</td><td></td><td><a class=\"ProveItLink\" href=\"../../../../../logic/equality/__pv_it/common/fb96dc12b2aa8801dda64d0132b396c63d1502bb0/expr.ipynb\"><img src=\"../../../../../logic/equality/__pv_it/common/fb96dc12b2aa8801dda64d0132b396c63d1502bb0/expr.png\" style=\"display:inline;vertical-align:middle;\" /></a></td></tr>\n",
       "<tr><td>19</td><td>ExprTuple</td><td>24, 25</td><td><a class=\"ProveItLink\" href=\"../7d02d445a13f731164e2d38dab0c2799c71dc9200/expr.ipynb\"><img src=\"../7d02d445a13f731164e2d38dab0c2799c71dc9200/expr.png\" style=\"display:inline;vertical-align:middle;\" /></a></td></tr>\n",
       "<tr><td>20</td><td>Literal</td><td></td><td><a class=\"ProveItLink\" href=\"../../../../../logic/booleans/conjunction/__pv_it/common/42118ff318bd65d98b1393f64ce7c2269feef76e0/expr.ipynb\"><img src=\"../../../../../logic/booleans/conjunction/__pv_it/common/42118ff318bd65d98b1393f64ce7c2269feef76e0/expr.png\" style=\"display:inline;vertical-align:middle;\" /></a></td></tr>\n",
       "<tr><td>21</td><td>ExprTuple</td><td>26, 27</td><td><a class=\"ProveItLink\" href=\"../b8278a93d0332458ad0ca2491bebf0918366f0c40/expr.ipynb\"><img src=\"../b8278a93d0332458ad0ca2491bebf0918366f0c40/expr.png\" style=\"display:inline;vertical-align:middle;\" /></a></td></tr>\n",
       "<tr><td>22</td><td>Literal</td><td></td><td><a class=\"ProveItLink\" href=\"../../../../__pv_it/common/191fa3a3f5c54c22d4b0a7e4fd1b2f7738e981550/expr.ipynb\"><img src=\"../../../../__pv_it/common/191fa3a3f5c54c22d4b0a7e4fd1b2f7738e981550/expr.png\" style=\"display:inline;vertical-align:middle;\" /></a></td></tr>\n",
       "<tr><td>23</td><td>ExprTuple</td><td>28</td><td><a class=\"ProveItLink\" href=\"../dfa81a569aedd40943c42f533e78bc2f073711130/expr.ipynb\"><img src=\"../dfa81a569aedd40943c42f533e78bc2f073711130/expr.png\" style=\"display:inline;vertical-align:middle;\" /></a></td></tr>\n",
       "<tr><td>24</td><td>Operation</td><td>operator:&nbsp;36<br>operands:&nbsp;29<br></td><td><a class=\"ProveItLink\" href=\"../42ace150ce196dfd449fd2f749490aad40d2a97c0/expr.ipynb\"><img src=\"../42ace150ce196dfd449fd2f749490aad40d2a97c0/expr.png\" style=\"display:inline;vertical-align:middle;\" /></a></td></tr>\n",
       "<tr><td>25</td><td>Lambda</td><td>parameter:&nbsp;49<br>body:&nbsp;30<br></td><td><a class=\"ProveItLink\" href=\"../8a97b4191002ad00a0bb11e2a64e1a02ab30f12c0/expr.ipynb\"><img src=\"../8a97b4191002ad00a0bb11e2a64e1a02ab30f12c0/expr.png\" style=\"display:inline;vertical-align:middle;\" /></a></td></tr>\n",
       "<tr><td>26</td><td>Operation</td><td>operator:&nbsp;38<br>operands:&nbsp;31<br></td><td><a class=\"ProveItLink\" href=\"../c0cf5184f8fd27502fe309e538eef559d511e2750/expr.ipynb\"><img src=\"../c0cf5184f8fd27502fe309e538eef559d511e2750/expr.png\" style=\"display:inline;vertical-align:middle;\" /></a></td></tr>\n",
       "<tr><td>27</td><td>Operation</td><td>operator:&nbsp;38<br>operands:&nbsp;32<br></td><td><a class=\"ProveItLink\" href=\"../763dfa2e098ac908541723fd717a108a700692310/expr.ipynb\"><img src=\"../763dfa2e098ac908541723fd717a108a700692310/expr.png\" style=\"display:inline;vertical-align:middle;\" /></a></td></tr>\n",
       "<tr><td>28</td><td>Variable</td><td></td><td><a class=\"ProveItLink\" href=\"../../../../../__pv_it/common/1f2ffac7a1dc7c1a4f1fc7348356ae64ea992c790/expr.ipynb\"><img src=\"../../../../../__pv_it/common/1f2ffac7a1dc7c1a4f1fc7348356ae64ea992c790/expr.png\" style=\"display:inline;vertical-align:middle;\" /></a></td></tr>\n",
       "<tr><td>29</td><td>ExprTuple</td><td>46, 47</td><td><a class=\"ProveItLink\" href=\"../e791ee87807ed43d7ac6262f8f70c4ffc8f24c940/expr.ipynb\"><img src=\"../e791ee87807ed43d7ac6262f8f70c4ffc8f24c940/expr.png\" style=\"display:inline;vertical-align:middle;\" /></a></td></tr>\n",
       "<tr><td>30</td><td>Conditional</td><td>value:&nbsp;33<br>condition:&nbsp;34<br></td><td><a class=\"ProveItLink\" href=\"../2d25f0cdf3a021793b80d851a91f6bb780ce627f0/expr.ipynb\"><img src=\"../2d25f0cdf3a021793b80d851a91f6bb780ce627f0/expr.png\" style=\"display:inline;vertical-align:middle;\" /></a></td></tr>\n",
       "<tr><td>31</td><td>ExprTuple</td><td>46, 35</td><td><a class=\"ProveItLink\" href=\"../cc1e6e966cd7ee247e0c229a4778531ba3f78e330/expr.ipynb\"><img src=\"../cc1e6e966cd7ee247e0c229a4778531ba3f78e330/expr.png\" style=\"display:inline;vertical-align:middle;\" /></a></td></tr>\n",
       "<tr><td>32</td><td>ExprTuple</td><td>47, 35</td><td><a class=\"ProveItLink\" href=\"../f89d832171f5028e715f21ac2deffd7cbd64d9a00/expr.ipynb\"><img src=\"../f89d832171f5028e715f21ac2deffd7cbd64d9a00/expr.png\" style=\"display:inline;vertical-align:middle;\" /></a></td></tr>\n",
       "<tr><td>33</td><td>Operation</td><td>operator:&nbsp;36<br>operands:&nbsp;37<br></td><td><a class=\"ProveItLink\" href=\"../eefe5fb698ab2744911227fbdcf81a59eb9073350/expr.ipynb\"><img src=\"../eefe5fb698ab2744911227fbdcf81a59eb9073350/expr.png\" style=\"display:inline;vertical-align:middle;\" /></a></td></tr>\n",
       "<tr><td>34</td><td>Operation</td><td>operator:&nbsp;38<br>operands:&nbsp;39<br></td><td><a class=\"ProveItLink\" href=\"../d337f0b055e02f46d6189c73579f8b7a8042cd6e0/expr.ipynb\"><img src=\"../d337f0b055e02f46d6189c73579f8b7a8042cd6e0/expr.png\" style=\"display:inline;vertical-align:middle;\" /></a></td></tr>\n",
       "<tr><td>35</td><td>Operation</td><td>operator:&nbsp;40<br>operands:&nbsp;41<br></td><td><a class=\"ProveItLink\" href=\"../f16d328640dc8e4cd55919b1db35946291e4c24e0/expr.ipynb\"><img src=\"../f16d328640dc8e4cd55919b1db35946291e4c24e0/expr.png\" style=\"display:inline;vertical-align:middle;\" /></a></td></tr>\n",
       "<tr><td>36</td><td>Literal</td><td></td><td><a class=\"ProveItLink\" href=\"../../../../addition/__pv_it/common/ac3c140c9094f065c7f7db15c94558731443639c0/expr.ipynb\"><img src=\"../../../../addition/__pv_it/common/ac3c140c9094f065c7f7db15c94558731443639c0/expr.png\" style=\"display:inline;vertical-align:middle;\" /></a></td></tr>\n",
       "<tr><td>37</td><td>ExprTuple</td><td>42, 43</td><td><a class=\"ProveItLink\" href=\"../bb32261a24bcde49d3797e07e669d99517eb5b8a0/expr.ipynb\"><img src=\"../bb32261a24bcde49d3797e07e669d99517eb5b8a0/expr.png\" style=\"display:inline;vertical-align:middle;\" /></a></td></tr>\n",
       "<tr><td>38</td><td>Literal</td><td></td><td><a class=\"ProveItLink\" href=\"../../../../../logic/sets/membership/__pv_it/common/477487d8796864d23d5810f83761435f25167f690/expr.ipynb\"><img src=\"../../../../../logic/sets/membership/__pv_it/common/477487d8796864d23d5810f83761435f25167f690/expr.png\" style=\"display:inline;vertical-align:middle;\" /></a></td></tr>\n",
       "<tr><td>39</td><td>ExprTuple</td><td>49, 44</td><td><a class=\"ProveItLink\" href=\"../47bf9f4d3e7ec24c1683239333a8d6506646efab0/expr.ipynb\"><img src=\"../47bf9f4d3e7ec24c1683239333a8d6506646efab0/expr.png\" style=\"display:inline;vertical-align:middle;\" /></a></td></tr>\n",
       "<tr><td>40</td><td>Literal</td><td></td><td><a class=\"ProveItLink\" href=\"../../common/d323a251b3f504c3443ff8de393dbf12697838a10/expr.ipynb\"><img src=\"../../common/d323a251b3f504c3443ff8de393dbf12697838a10/expr.png\" style=\"display:inline;vertical-align:middle;\" /></a></td></tr>\n",
       "<tr><td>41</td><td>ExprTuple</td><td>44, 45</td><td><a class=\"ProveItLink\" href=\"../17f47d0c62e96b84adf1cf942f7788a19249d4cd0/expr.ipynb\"><img src=\"../17f47d0c62e96b84adf1cf942f7788a19249d4cd0/expr.png\" style=\"display:inline;vertical-align:middle;\" /></a></td></tr>\n",
       "<tr><td>42</td><td>Operation</td><td>operator:&nbsp;46<br>operand:&nbsp;49<br></td><td><a class=\"ProveItLink\" href=\"../c75fc037c48bfece137153aa1b0792bc1b823db50/expr.ipynb\"><img src=\"../c75fc037c48bfece137153aa1b0792bc1b823db50/expr.png\" style=\"display:inline;vertical-align:middle;\" /></a></td></tr>\n",
       "<tr><td>43</td><td>Operation</td><td>operator:&nbsp;47<br>operand:&nbsp;49<br></td><td><a class=\"ProveItLink\" href=\"../d87c707eef016e5efb766dba820418e16e96f2940/expr.ipynb\"><img src=\"../d87c707eef016e5efb766dba820418e16e96f2940/expr.png\" style=\"display:inline;vertical-align:middle;\" /></a></td></tr>\n",
       "<tr><td>44</td><td>Variable</td><td></td><td><a class=\"ProveItLink\" href=\"../../../../../__pv_it/common/6d80eb1398b2335bf9ec427954b851b7094dced50/expr.ipynb\"><img src=\"../../../../../__pv_it/common/6d80eb1398b2335bf9ec427954b851b7094dced50/expr.png\" style=\"display:inline;vertical-align:middle;\" /></a></td></tr>\n",
       "<tr><td>45</td><td>Variable</td><td></td><td><a class=\"ProveItLink\" href=\"../../../../../__pv_it/common/be2a62cde606eb0642ab6f06c6e4aa2c50ff45540/expr.ipynb\"><img src=\"../../../../../__pv_it/common/be2a62cde606eb0642ab6f06c6e4aa2c50ff45540/expr.png\" style=\"display:inline;vertical-align:middle;\" /></a></td></tr>\n",
       "<tr><td>46</td><td>Variable</td><td></td><td><a class=\"ProveItLink\" href=\"../../../../../__pv_it/common/09585084922504426caf1db2ff588a23a0932a960/expr.ipynb\"><img src=\"../../../../../__pv_it/common/09585084922504426caf1db2ff588a23a0932a960/expr.png\" style=\"display:inline;vertical-align:middle;\" /></a></td></tr>\n",
       "<tr><td>47</td><td>Variable</td><td></td><td><a class=\"ProveItLink\" href=\"../../../../../__pv_it/common/a9162d1c3cc0470c02e5daf414500903a7a419230/expr.ipynb\"><img src=\"../../../../../__pv_it/common/a9162d1c3cc0470c02e5daf414500903a7a419230/expr.png\" style=\"display:inline;vertical-align:middle;\" /></a></td></tr>\n",
       "<tr><td>48</td><td>ExprTuple</td><td>49</td><td><a class=\"ProveItLink\" href=\"../../../../../__pv_it/common/eacfeccc0521684fcb20fe8f5180ac50fca471f20/expr.ipynb\"><img src=\"../../../../../__pv_it/common/eacfeccc0521684fcb20fe8f5180ac50fca471f20/expr.png\" style=\"display:inline;vertical-align:middle;\" /></a></td></tr>\n",
       "<tr><td>49</td><td>Variable</td><td></td><td><a class=\"ProveItLink\" href=\"../../../../../__pv_it/common/a0d9d672aa5e272d907247690c152cc2c6daafb70/expr.ipynb\"><img src=\"../../../../../__pv_it/common/a0d9d672aa5e272d907247690c152cc2c6daafb70/expr.png\" style=\"display:inline;vertical-align:middle;\" /></a></td></tr>\n",
       "</table>\n"
      ],
      "text/plain": [
       "0. ((V, W) -> {forall_{A, B in LINMAP(V, W)} ((A + B) = [x -> {A(x) + B(x) if x in V.]) if V in_c VecSpaces(K) ,  W in_c VecSpaces(K).)\n",
       "   core type: ExprTuple\n",
       "   sub-expressions: 1\n",
       "1. (V, W) -> {forall_{A, B in LINMAP(V, W)} ((A + B) = [x -> {A(x) + B(x) if x in V.]) if V in_c VecSpaces(K) ,  W in_c VecSpaces(K).\n",
       "   core type: Lambda\n",
       "   parameters: 41\\n   body: 2\n",
       "2. {forall_{A, B in LINMAP(V, W)} ((A + B) = [x -> {A(x) + B(x) if x in V.]) if V in_c VecSpaces(K) ,  W in_c VecSpaces(K).\n",
       "   core type: Conditional\n",
       "   value: 3\n",
       "   condition: 4\n",
       "3. forall_{A, B in LINMAP(V, W)} ((A + B) = [x -> {A(x) + B(x) if x in V.])\n",
       "   core type: Operation\n",
       "   operator: 5\n",
       "   operand: 8\n",
       "4. (V in_c VecSpaces(K)) and (W in_c VecSpaces(K))\n",
       "   core type: Operation\n",
       "   operator: 20\n",
       "   operands: 7\n",
       "5. forall\n",
       "   core type: Literal\n",
       "   sub-expressions: \n",
       "6. ((A, B) -> {(A + B) = [x -> {A(x) + B(x) if x in V.] if A in LINMAP(V, W) ,  B in LINMAP(V, W).)\n",
       "   core type: ExprTuple\n",
       "   sub-expressions: 8\n",
       "7. (V in_c VecSpaces(K), W in_c VecSpaces(K))\n",
       "   core type: ExprTuple\n",
       "   sub-expressions: 9, 10\n",
       "8. (A, B) -> {(A + B) = [x -> {A(x) + B(x) if x in V.] if A in LINMAP(V, W) ,  B in LINMAP(V, W).\n",
       "   core type: Lambda\n",
       "   parameters: 29\\n   body: 11\n",
       "9. V in_c VecSpaces(K)\n",
       "   core type: Operation\n",
       "   operator: 13\n",
       "   operands: 12\n",
       "10. W in_c VecSpaces(K)\n",
       "    core type: Operation\n",
       "    operator: 13\n",
       "    operands: 14\n",
       "11. {(A + B) = [x -> {A(x) + B(x) if x in V.] if A in LINMAP(V, W) ,  B in LINMAP(V, W).\n",
       "    core type: Conditional\n",
       "    value: 15\n",
       "    condition: 16\n",
       "12. (V, VecSpaces(K))\n",
       "    core type: ExprTuple\n",
       "    sub-expressions: 44, 17\n",
       "13. in_c\n",
       "    core type: Literal\n",
       "    sub-expressions: \n",
       "14. (W, VecSpaces(K))\n",
       "    core type: ExprTuple\n",
       "    sub-expressions: 45, 17\n",
       "15. (A + B) = [x -> {A(x) + B(x) if x in V.]\n",
       "    core type: Operation\n",
       "    operator: 18\n",
       "    operands: 19\n",
       "16. (A in LINMAP(V, W)) and (B in LINMAP(V, W))\n",
       "    core type: Operation\n",
       "    operator: 20\n",
       "    operands: 21\n",
       "17. VecSpaces(K)\n",
       "    core type: Operation\n",
       "    operator: 22\n",
       "    operand: 28\n",
       "18. =\n",
       "    core type: Literal\n",
       "    sub-expressions: \n",
       "19. (A + B, x -> {A(x) + B(x) if x in V.)\n",
       "    core type: ExprTuple\n",
       "    sub-expressions: 24, 25\n",
       "20. and\n",
       "    core type: Literal\n",
       "    sub-expressions: \n",
       "21. (A in LINMAP(V, W), B in LINMAP(V, W))\n",
       "    core type: ExprTuple\n",
       "    sub-expressions: 26, 27\n",
       "22. VecSpaces\n",
       "    core type: Literal\n",
       "    sub-expressions: \n",
       "23. (K)\n",
       "    core type: ExprTuple\n",
       "    sub-expressions: 28\n",
       "24. A + B\n",
       "    core type: Operation\n",
       "    operator: 36\n",
       "    operands: 29\n",
       "25. x -> {A(x) + B(x) if x in V.\n",
       "    core type: Lambda\n",
       "    parameter: 49\n",
       "    body: 30\n",
       "26. A in LINMAP(V, W)\n",
       "    core type: Operation\n",
       "    operator: 38\n",
       "    operands: 31\n",
       "27. B in LINMAP(V, W)\n",
       "    core type: Operation\n",
       "    operator: 38\n",
       "    operands: 32\n",
       "28. K\n",
       "    core type: Variable\n",
       "    sub-expressions: \n",
       "29. (A, B)\n",
       "    core type: ExprTuple\n",
       "    sub-expressions: 46, 47\n",
       "30. {A(x) + B(x) if x in V.\n",
       "    core type: Conditional\n",
       "    value: 33\n",
       "    condition: 34\n",
       "31. (A, LINMAP(V, W))\n",
       "    core type: ExprTuple\n",
       "    sub-expressions: 46, 35\n",
       "32. (B, LINMAP(V, W))\n",
       "    core type: ExprTuple\n",
       "    sub-expressions: 47, 35\n",
       "33. A(x) + B(x)\n",
       "    core type: Operation\n",
       "    operator: 36\n",
       "    operands: 37\n",
       "34. x in V\n",
       "    core type: Operation\n",
       "    operator: 38\n",
       "    operands: 39\n",
       "35. LINMAP(V, W)\n",
       "    core type: Operation\n",
       "    operator: 40\n",
       "    operands: 41\n",
       "36. +\n",
       "    core type: Literal\n",
       "    sub-expressions: \n",
       "37. (A(x), B(x))\n",
       "    core type: ExprTuple\n",
       "    sub-expressions: 42, 43\n",
       "38. in\n",
       "    core type: Literal\n",
       "    sub-expressions: \n",
       "39. (x, V)\n",
       "    core type: ExprTuple\n",
       "    sub-expressions: 49, 44\n",
       "40. LINMAP\n",
       "    core type: Literal\n",
       "    sub-expressions: \n",
       "41. (V, W)\n",
       "    core type: ExprTuple\n",
       "    sub-expressions: 44, 45\n",
       "42. A(x)\n",
       "    core type: Operation\n",
       "    operator: 46\n",
       "    operand: 49\n",
       "43. B(x)\n",
       "    core type: Operation\n",
       "    operator: 47\n",
       "    operand: 49\n",
       "44. V\n",
       "    core type: Variable\n",
       "    sub-expressions: \n",
       "45. W\n",
       "    core type: Variable\n",
       "    sub-expressions: \n",
       "46. A\n",
       "    core type: Variable\n",
       "    sub-expressions: \n",
       "47. B\n",
       "    core type: Variable\n",
       "    sub-expressions: \n",
       "48. (x)\n",
       "    core type: ExprTuple\n",
       "    sub-expressions: 49\n",
       "49. x\n",
       "    core type: Variable\n",
       "    sub-expressions: "
      ]
     },
     "metadata": {},
     "output_type": "display_data"
    }
   ],
   "source": [
    "# display the expression information\n",
    "stored_expr.expr_info()"
   ]
  },
  {
   "cell_type": "code",
   "execution_count": null,
   "metadata": {},
   "outputs": [],
   "source": []
  }
 ],
 "metadata": {
  "kernelspec": {
   "display_name": "Python 3",
   "language": "python",
   "name": "python3"
  }
 },
 "nbformat": 4,
 "nbformat_minor": 0
}