{
 "cells": [
  {
   "cell_type": "markdown",
   "metadata": {},
   "source": [
    "Expression of type <a class=\"ProveItLink\" href=\"../../../../../../../doc/html/api/proveit.Lambda.html\">Lambda</a>\n",
    "=======================\n",
    "# from the theory of <a class=\"ProveItLink\" href=\"../../../_theory_nbs_/theory.ipynb\">proveit.linear_algebra.linear_maps</a>"
   ]
  },
  {
   "cell_type": "code",
   "execution_count": 1,
   "metadata": {},
   "outputs": [],
   "source": [
    "import proveit\n",
    "# Automation is not needed when building an expression:\n",
    "proveit.defaults.automation = False # This will speed things up.\n",
    "proveit.defaults.inline_pngs = False # Makes files smaller.\n",
    "%load_expr # Load the stored expression as 'stored_expr'\n",
    "# import Expression classes needed to build the expression\n",
    "from proveit import Conditional, K, Lambda, P, Px, V, W, c, x\n",
    "from proveit.linear_algebra import LinMap, ScalarMult, VecSpaces\n",
    "from proveit.logic import Equals, Forall, InSet"
   ]
  },
  {
   "cell_type": "code",
   "execution_count": 2,
   "metadata": {},
   "outputs": [
    {
     "data": {
      "text/html": [
       "<strong id=\"expr\">expr:</strong> <a class=\"ProveItLink\" href=\"expr.ipynb\"><img src=\"expr.png\" style=\"display:inline;vertical-align:middle;\" /></a><br>"
      ],
      "text/plain": [
       "<IPython.core.display.HTML object>"
      ]
     },
     "metadata": {},
     "output_type": "display_data"
    }
   ],
   "source": [
    "# build up the expression from sub-expressions\n",
    "expr = Lambda(K, Forall(instance_param_or_params = [V, W], instance_expr = Forall(instance_param_or_params = [c], instance_expr = Forall(instance_param_or_params = [P], instance_expr = Equals(ScalarMult(c, P), Lambda(x, Conditional(ScalarMult(c, Px), InSet(x, V)))), domain = LinMap(V, W)), domain = K), domain = VecSpaces(K)))"
   ]
  },
  {
   "cell_type": "code",
   "execution_count": 3,
   "metadata": {},
   "outputs": [
    {
     "name": "stdout",
     "output_type": "stream",
     "text": [
      "Passed sanity check: expr matches stored_expr\n"
     ]
    }
   ],
   "source": [
    "# check that the built expression is the same as the stored expression\n",
    "assert expr == stored_expr\n",
    "assert expr._style_id == stored_expr._style_id\n",
    "print(\"Passed sanity check: expr matches stored_expr\")"
   ]
  },
  {
   "cell_type": "code",
   "execution_count": 4,
   "metadata": {},
   "outputs": [
    {
     "name": "stdout",
     "output_type": "stream",
     "text": [
      "K \\mapsto \\left[\\forall_{V, W \\underset{{\\scriptscriptstyle c}}{\\in} \\textrm{VecSpaces}\\left(K\\right)}~\\left[\\forall_{c \\in K}~\\left[\\forall_{P \\in \\mathcal{L}\\left(V, W\\right)}~\\left(\\left(c \\cdot P\\right) = \\left[x \\mapsto \\left\\{c \\cdot P\\left(x\\right) \\textrm{ if } x \\in V\\right..\\right]\\right)\\right]\\right]\\right]\n"
     ]
    }
   ],
   "source": [
    "# Show the LaTeX representation of the expression for convenience if you need it.\n",
    "print(stored_expr.latex())"
   ]
  },
  {
   "cell_type": "code",
   "execution_count": 5,
   "metadata": {},
   "outputs": [
    {
     "data": {
      "text/html": [
       "no style options"
      ],
      "text/plain": [
       "no style options"
      ]
     },
     "metadata": {},
     "output_type": "display_data"
    }
   ],
   "source": [
    "stored_expr.style_options()"
   ]
  },
  {
   "cell_type": "code",
   "execution_count": 6,
   "metadata": {},
   "outputs": [
    {
     "data": {
      "text/html": [
       "<table><tr><th>&nbsp;</th><th>core type</th><th>sub-expressions</th><th>expression</th></tr>\n",
       "<tr><td>0</td><td>Lambda</td><td>parameter:&nbsp;27<br>body:&nbsp;1<br></td><td><a class=\"ProveItLink\" href=\"expr.ipynb\"><img src=\"expr.png\" style=\"display:inline;vertical-align:middle;\" /></a></td></tr>\n",
       "<tr><td>1</td><td>Operation</td><td>operator:&nbsp;21<br>operand:&nbsp;3<br></td><td><a class=\"ProveItLink\" href=\"../f566de8e2036acab6037a4c34e9bad701bdbba130/expr.ipynb\"><img src=\"../f566de8e2036acab6037a4c34e9bad701bdbba130/expr.png\" style=\"display:inline;vertical-align:middle;\" /></a></td></tr>\n",
       "<tr><td>2</td><td>ExprTuple</td><td>3</td><td><a class=\"ProveItLink\" href=\"../8a1b0e920ea13b4aba7091d27f0b0c5610adfa0a0/expr.ipynb\"><img src=\"../8a1b0e920ea13b4aba7091d27f0b0c5610adfa0a0/expr.png\" style=\"display:inline;vertical-align:middle;\" /></a></td></tr>\n",
       "<tr><td>3</td><td>Lambda</td><td>parameters:&nbsp;41<br>body:&nbsp;4<br></td><td><a class=\"ProveItLink\" href=\"../a3a9fc764c4b9fd2917ea6bf8e1e6170b5be527e0/expr.ipynb\"><img src=\"../a3a9fc764c4b9fd2917ea6bf8e1e6170b5be527e0/expr.png\" style=\"display:inline;vertical-align:middle;\" /></a></td></tr>\n",
       "<tr><td>4</td><td>Conditional</td><td>value:&nbsp;5<br>condition:&nbsp;6<br></td><td><a class=\"ProveItLink\" href=\"../772259dec5f6fff3a4f648b07dcbf43b98f9c1f70/expr.ipynb\"><img src=\"../772259dec5f6fff3a4f648b07dcbf43b98f9c1f70/expr.png\" style=\"display:inline;vertical-align:middle;\" /></a></td></tr>\n",
       "<tr><td>5</td><td>Operation</td><td>operator:&nbsp;21<br>operand:&nbsp;10<br></td><td><a class=\"ProveItLink\" href=\"../0a141415fdcba761acac13aa04a9d6e45eae915a0/expr.ipynb\"><img src=\"../0a141415fdcba761acac13aa04a9d6e45eae915a0/expr.png\" style=\"display:inline;vertical-align:middle;\" /></a></td></tr>\n",
       "<tr><td>6</td><td>Operation</td><td>operator:&nbsp;8<br>operands:&nbsp;9<br></td><td><a class=\"ProveItLink\" href=\"../53e306fb248a6336a445da3de314c91808e0807c0/expr.ipynb\"><img src=\"../53e306fb248a6336a445da3de314c91808e0807c0/expr.png\" style=\"display:inline;vertical-align:middle;\" /></a></td></tr>\n",
       "<tr><td>7</td><td>ExprTuple</td><td>10</td><td><a class=\"ProveItLink\" href=\"../58b4c42a1d5514125a224358917c565f12ff0b150/expr.ipynb\"><img src=\"../58b4c42a1d5514125a224358917c565f12ff0b150/expr.png\" style=\"display:inline;vertical-align:middle;\" /></a></td></tr>\n",
       "<tr><td>8</td><td>Literal</td><td></td><td><a class=\"ProveItLink\" href=\"../../../../../logic/booleans/conjunction/__pv_it/common/42118ff318bd65d98b1393f64ce7c2269feef76e0/expr.ipynb\"><img src=\"../../../../../logic/booleans/conjunction/__pv_it/common/42118ff318bd65d98b1393f64ce7c2269feef76e0/expr.png\" style=\"display:inline;vertical-align:middle;\" /></a></td></tr>\n",
       "<tr><td>9</td><td>ExprTuple</td><td>11, 12</td><td><a class=\"ProveItLink\" href=\"../37f0fdaa91ea81a706d40f85eb20e89f5cbc88880/expr.ipynb\"><img src=\"../37f0fdaa91ea81a706d40f85eb20e89f5cbc88880/expr.png\" style=\"display:inline;vertical-align:middle;\" /></a></td></tr>\n",
       "<tr><td>10</td><td>Lambda</td><td>parameter:&nbsp;49<br>body:&nbsp;14<br></td><td><a class=\"ProveItLink\" href=\"../7b4027fc0d2b10299a345d623592a0c76918d0c30/expr.ipynb\"><img src=\"../7b4027fc0d2b10299a345d623592a0c76918d0c30/expr.png\" style=\"display:inline;vertical-align:middle;\" /></a></td></tr>\n",
       "<tr><td>11</td><td>Operation</td><td>operator:&nbsp;16<br>operands:&nbsp;15<br></td><td><a class=\"ProveItLink\" href=\"../fdcef8bdda7eadc951141827185574260418b5040/expr.ipynb\"><img src=\"../fdcef8bdda7eadc951141827185574260418b5040/expr.png\" style=\"display:inline;vertical-align:middle;\" /></a></td></tr>\n",
       "<tr><td>12</td><td>Operation</td><td>operator:&nbsp;16<br>operands:&nbsp;17<br></td><td><a class=\"ProveItLink\" href=\"../eb6830e9a9a6cc656e9f166b29d2a451b6c3367f0/expr.ipynb\"><img src=\"../eb6830e9a9a6cc656e9f166b29d2a451b6c3367f0/expr.png\" style=\"display:inline;vertical-align:middle;\" /></a></td></tr>\n",
       "<tr><td>13</td><td>ExprTuple</td><td>49</td><td><a class=\"ProveItLink\" href=\"../25c776cc10fb7df90a1cddbf8213d6561f6b7bd20/expr.ipynb\"><img src=\"../25c776cc10fb7df90a1cddbf8213d6561f6b7bd20/expr.png\" style=\"display:inline;vertical-align:middle;\" /></a></td></tr>\n",
       "<tr><td>14</td><td>Conditional</td><td>value:&nbsp;18<br>condition:&nbsp;19<br></td><td><a class=\"ProveItLink\" href=\"../1f110758f72db1168ec33fbc314d8b88557fd0820/expr.ipynb\"><img src=\"../1f110758f72db1168ec33fbc314d8b88557fd0820/expr.png\" style=\"display:inline;vertical-align:middle;\" /></a></td></tr>\n",
       "<tr><td>15</td><td>ExprTuple</td><td>51, 20</td><td><a class=\"ProveItLink\" href=\"../e9269a3a12a2f9c88a561318d0d55d8d11da1e5f0/expr.ipynb\"><img src=\"../e9269a3a12a2f9c88a561318d0d55d8d11da1e5f0/expr.png\" style=\"display:inline;vertical-align:middle;\" /></a></td></tr>\n",
       "<tr><td>16</td><td>Literal</td><td></td><td><a class=\"ProveItLink\" href=\"../../../../../logic/classes/membership/__pv_it/common/e3b437d28fbe17f0a50c9789c7c9b47a1270f1420/expr.ipynb\"><img src=\"../../../../../logic/classes/membership/__pv_it/common/e3b437d28fbe17f0a50c9789c7c9b47a1270f1420/expr.png\" style=\"display:inline;vertical-align:middle;\" /></a></td></tr>\n",
       "<tr><td>17</td><td>ExprTuple</td><td>44, 20</td><td><a class=\"ProveItLink\" href=\"../fb8104d0f93fdb3646b1875ab7337ccc1a7b13e50/expr.ipynb\"><img src=\"../fb8104d0f93fdb3646b1875ab7337ccc1a7b13e50/expr.png\" style=\"display:inline;vertical-align:middle;\" /></a></td></tr>\n",
       "<tr><td>18</td><td>Operation</td><td>operator:&nbsp;21<br>operand:&nbsp;26<br></td><td><a class=\"ProveItLink\" href=\"../95d86a6dce217d50754a7035de00200356b017560/expr.ipynb\"><img src=\"../95d86a6dce217d50754a7035de00200356b017560/expr.png\" style=\"display:inline;vertical-align:middle;\" /></a></td></tr>\n",
       "<tr><td>19</td><td>Operation</td><td>operator:&nbsp;47<br>operands:&nbsp;23<br></td><td><a class=\"ProveItLink\" href=\"../cd8c2fba6b53cd881af416558992b7dac09d89060/expr.ipynb\"><img src=\"../cd8c2fba6b53cd881af416558992b7dac09d89060/expr.png\" style=\"display:inline;vertical-align:middle;\" /></a></td></tr>\n",
       "<tr><td>20</td><td>Operation</td><td>operator:&nbsp;24<br>operand:&nbsp;27<br></td><td><a class=\"ProveItLink\" href=\"../bfe4d11fbcd28c79c0e2a9c152d66f0991be7cc30/expr.ipynb\"><img src=\"../bfe4d11fbcd28c79c0e2a9c152d66f0991be7cc30/expr.png\" style=\"display:inline;vertical-align:middle;\" /></a></td></tr>\n",
       "<tr><td>21</td><td>Literal</td><td></td><td><a class=\"ProveItLink\" href=\"../../../../../logic/booleans/quantification/universality/__pv_it/common/083d2baa0b8ecab1d230f9ec29a15aa1355809fb0/expr.ipynb\"><img src=\"../../../../../logic/booleans/quantification/universality/__pv_it/common/083d2baa0b8ecab1d230f9ec29a15aa1355809fb0/expr.png\" style=\"display:inline;vertical-align:middle;\" /></a></td></tr>\n",
       "<tr><td>22</td><td>ExprTuple</td><td>26</td><td><a class=\"ProveItLink\" href=\"../2cd5fbe27342e19014f83304eb2748548fac420f0/expr.ipynb\"><img src=\"../2cd5fbe27342e19014f83304eb2748548fac420f0/expr.png\" style=\"display:inline;vertical-align:middle;\" /></a></td></tr>\n",
       "<tr><td>23</td><td>ExprTuple</td><td>49, 27</td><td><a class=\"ProveItLink\" href=\"../5db19c722129b7a9502eb9a9bd292a4dc05b97340/expr.ipynb\"><img src=\"../5db19c722129b7a9502eb9a9bd292a4dc05b97340/expr.png\" style=\"display:inline;vertical-align:middle;\" /></a></td></tr>\n",
       "<tr><td>24</td><td>Literal</td><td></td><td><a class=\"ProveItLink\" href=\"../../../../__pv_it/common/191fa3a3f5c54c22d4b0a7e4fd1b2f7738e981550/expr.ipynb\"><img src=\"../../../../__pv_it/common/191fa3a3f5c54c22d4b0a7e4fd1b2f7738e981550/expr.png\" style=\"display:inline;vertical-align:middle;\" /></a></td></tr>\n",
       "<tr><td>25</td><td>ExprTuple</td><td>27</td><td><a class=\"ProveItLink\" href=\"../dfa81a569aedd40943c42f533e78bc2f073711130/expr.ipynb\"><img src=\"../dfa81a569aedd40943c42f533e78bc2f073711130/expr.png\" style=\"display:inline;vertical-align:middle;\" /></a></td></tr>\n",
       "<tr><td>26</td><td>Lambda</td><td>parameter:&nbsp;52<br>body:&nbsp;29<br></td><td><a class=\"ProveItLink\" href=\"../cbc697bd8beb8b3129a1b35be8e824808df6ca5b0/expr.ipynb\"><img src=\"../cbc697bd8beb8b3129a1b35be8e824808df6ca5b0/expr.png\" style=\"display:inline;vertical-align:middle;\" /></a></td></tr>\n",
       "<tr><td>27</td><td>Variable</td><td></td><td><a class=\"ProveItLink\" href=\"../../../../../__pv_it/common/1f2ffac7a1dc7c1a4f1fc7348356ae64ea992c790/expr.ipynb\"><img src=\"../../../../../__pv_it/common/1f2ffac7a1dc7c1a4f1fc7348356ae64ea992c790/expr.png\" style=\"display:inline;vertical-align:middle;\" /></a></td></tr>\n",
       "<tr><td>28</td><td>ExprTuple</td><td>52</td><td><a class=\"ProveItLink\" href=\"../56f816491122851137106e952ad7383c0a593aaf0/expr.ipynb\"><img src=\"../56f816491122851137106e952ad7383c0a593aaf0/expr.png\" style=\"display:inline;vertical-align:middle;\" /></a></td></tr>\n",
       "<tr><td>29</td><td>Conditional</td><td>value:&nbsp;30<br>condition:&nbsp;31<br></td><td><a class=\"ProveItLink\" href=\"../c21b7c7f9212becb7ba3b0013c95d1da305537d30/expr.ipynb\"><img src=\"../c21b7c7f9212becb7ba3b0013c95d1da305537d30/expr.png\" style=\"display:inline;vertical-align:middle;\" /></a></td></tr>\n",
       "<tr><td>30</td><td>Operation</td><td>operator:&nbsp;32<br>operands:&nbsp;33<br></td><td><a class=\"ProveItLink\" href=\"../e6b0b6e6571c3a77433bcfe44129a0babbdac46b0/expr.ipynb\"><img src=\"../e6b0b6e6571c3a77433bcfe44129a0babbdac46b0/expr.png\" style=\"display:inline;vertical-align:middle;\" /></a></td></tr>\n",
       "<tr><td>31</td><td>Operation</td><td>operator:&nbsp;47<br>operands:&nbsp;34<br></td><td><a class=\"ProveItLink\" href=\"../49a473a498b8f44fc2721388792319856ba1e6390/expr.ipynb\"><img src=\"../49a473a498b8f44fc2721388792319856ba1e6390/expr.png\" style=\"display:inline;vertical-align:middle;\" /></a></td></tr>\n",
       "<tr><td>32</td><td>Literal</td><td></td><td><a class=\"ProveItLink\" href=\"../../../../../logic/equality/__pv_it/common/fb96dc12b2aa8801dda64d0132b396c63d1502bb0/expr.ipynb\"><img src=\"../../../../../logic/equality/__pv_it/common/fb96dc12b2aa8801dda64d0132b396c63d1502bb0/expr.png\" style=\"display:inline;vertical-align:middle;\" /></a></td></tr>\n",
       "<tr><td>33</td><td>ExprTuple</td><td>35, 36</td><td><a class=\"ProveItLink\" href=\"../1702b85d91a22fce0c9fabeb1c18ef8e0e955fbe0/expr.ipynb\"><img src=\"../1702b85d91a22fce0c9fabeb1c18ef8e0e955fbe0/expr.png\" style=\"display:inline;vertical-align:middle;\" /></a></td></tr>\n",
       "<tr><td>34</td><td>ExprTuple</td><td>52, 37</td><td><a class=\"ProveItLink\" href=\"../2f36b16f7b3bd7fa8c34bc8fba5c79efd17df0ae0/expr.ipynb\"><img src=\"../2f36b16f7b3bd7fa8c34bc8fba5c79efd17df0ae0/expr.png\" style=\"display:inline;vertical-align:middle;\" /></a></td></tr>\n",
       "<tr><td>35</td><td>Operation</td><td>operator:&nbsp;45<br>operands:&nbsp;38<br></td><td><a class=\"ProveItLink\" href=\"../a8a9a10173d1f90bccdac2a084a1e1d12be987d70/expr.ipynb\"><img src=\"../a8a9a10173d1f90bccdac2a084a1e1d12be987d70/expr.png\" style=\"display:inline;vertical-align:middle;\" /></a></td></tr>\n",
       "<tr><td>36</td><td>Lambda</td><td>parameter:&nbsp;54<br>body:&nbsp;39<br></td><td><a class=\"ProveItLink\" href=\"../8c55ea8d6e70dd57a51f6b5d45d0613a2517dc260/expr.ipynb\"><img src=\"../8c55ea8d6e70dd57a51f6b5d45d0613a2517dc260/expr.png\" style=\"display:inline;vertical-align:middle;\" /></a></td></tr>\n",
       "<tr><td>37</td><td>Operation</td><td>operator:&nbsp;40<br>operands:&nbsp;41<br></td><td><a class=\"ProveItLink\" href=\"../f16d328640dc8e4cd55919b1db35946291e4c24e0/expr.ipynb\"><img src=\"../f16d328640dc8e4cd55919b1db35946291e4c24e0/expr.png\" style=\"display:inline;vertical-align:middle;\" /></a></td></tr>\n",
       "<tr><td>38</td><td>ExprTuple</td><td>49, 52</td><td><a class=\"ProveItLink\" href=\"../58dbf1fa00cb513cdf30d33da8ad90569f4e70000/expr.ipynb\"><img src=\"../58dbf1fa00cb513cdf30d33da8ad90569f4e70000/expr.png\" style=\"display:inline;vertical-align:middle;\" /></a></td></tr>\n",
       "<tr><td>39</td><td>Conditional</td><td>value:&nbsp;42<br>condition:&nbsp;43<br></td><td><a class=\"ProveItLink\" href=\"../91535474468268e0586da4afc0afd37244d6881c0/expr.ipynb\"><img src=\"../91535474468268e0586da4afc0afd37244d6881c0/expr.png\" style=\"display:inline;vertical-align:middle;\" /></a></td></tr>\n",
       "<tr><td>40</td><td>Literal</td><td></td><td><a class=\"ProveItLink\" href=\"../../common/d323a251b3f504c3443ff8de393dbf12697838a10/expr.ipynb\"><img src=\"../../common/d323a251b3f504c3443ff8de393dbf12697838a10/expr.png\" style=\"display:inline;vertical-align:middle;\" /></a></td></tr>\n",
       "<tr><td>41</td><td>ExprTuple</td><td>51, 44</td><td><a class=\"ProveItLink\" href=\"../17f47d0c62e96b84adf1cf942f7788a19249d4cd0/expr.ipynb\"><img src=\"../17f47d0c62e96b84adf1cf942f7788a19249d4cd0/expr.png\" style=\"display:inline;vertical-align:middle;\" /></a></td></tr>\n",
       "<tr><td>42</td><td>Operation</td><td>operator:&nbsp;45<br>operands:&nbsp;46<br></td><td><a class=\"ProveItLink\" href=\"../4a33b8edad7ca182b6ea29bad13ccbd4c051b7e50/expr.ipynb\"><img src=\"../4a33b8edad7ca182b6ea29bad13ccbd4c051b7e50/expr.png\" style=\"display:inline;vertical-align:middle;\" /></a></td></tr>\n",
       "<tr><td>43</td><td>Operation</td><td>operator:&nbsp;47<br>operands:&nbsp;48<br></td><td><a class=\"ProveItLink\" href=\"../d337f0b055e02f46d6189c73579f8b7a8042cd6e0/expr.ipynb\"><img src=\"../d337f0b055e02f46d6189c73579f8b7a8042cd6e0/expr.png\" style=\"display:inline;vertical-align:middle;\" /></a></td></tr>\n",
       "<tr><td>44</td><td>Variable</td><td></td><td><a class=\"ProveItLink\" href=\"../../../../../__pv_it/common/be2a62cde606eb0642ab6f06c6e4aa2c50ff45540/expr.ipynb\"><img src=\"../../../../../__pv_it/common/be2a62cde606eb0642ab6f06c6e4aa2c50ff45540/expr.png\" style=\"display:inline;vertical-align:middle;\" /></a></td></tr>\n",
       "<tr><td>45</td><td>Literal</td><td></td><td><a class=\"ProveItLink\" href=\"../../../../scalar_multiplication/__pv_it/common/1e364bd471e6a29fcd358dd2d9cd990a1e6fedd40/expr.ipynb\"><img src=\"../../../../scalar_multiplication/__pv_it/common/1e364bd471e6a29fcd358dd2d9cd990a1e6fedd40/expr.png\" style=\"display:inline;vertical-align:middle;\" /></a></td></tr>\n",
       "<tr><td>46</td><td>ExprTuple</td><td>49, 50</td><td><a class=\"ProveItLink\" href=\"../05b8c5f20a54beddec55bc9e69000b7380f2e1d60/expr.ipynb\"><img src=\"../05b8c5f20a54beddec55bc9e69000b7380f2e1d60/expr.png\" style=\"display:inline;vertical-align:middle;\" /></a></td></tr>\n",
       "<tr><td>47</td><td>Literal</td><td></td><td><a class=\"ProveItLink\" href=\"../../../../../logic/sets/membership/__pv_it/common/477487d8796864d23d5810f83761435f25167f690/expr.ipynb\"><img src=\"../../../../../logic/sets/membership/__pv_it/common/477487d8796864d23d5810f83761435f25167f690/expr.png\" style=\"display:inline;vertical-align:middle;\" /></a></td></tr>\n",
       "<tr><td>48</td><td>ExprTuple</td><td>54, 51</td><td><a class=\"ProveItLink\" href=\"../47bf9f4d3e7ec24c1683239333a8d6506646efab0/expr.ipynb\"><img src=\"../47bf9f4d3e7ec24c1683239333a8d6506646efab0/expr.png\" style=\"display:inline;vertical-align:middle;\" /></a></td></tr>\n",
       "<tr><td>49</td><td>Variable</td><td></td><td><a class=\"ProveItLink\" href=\"../../../../../__pv_it/common/ceef4280a2f1cc604b455b54e735507244cc62cd0/expr.ipynb\"><img src=\"../../../../../__pv_it/common/ceef4280a2f1cc604b455b54e735507244cc62cd0/expr.png\" style=\"display:inline;vertical-align:middle;\" /></a></td></tr>\n",
       "<tr><td>50</td><td>Operation</td><td>operator:&nbsp;52<br>operand:&nbsp;54<br></td><td><a class=\"ProveItLink\" href=\"../../../../../__pv_it/common/32fc7f13c9e7e89074583aa5bfc208d125f839970/expr.ipynb\"><img src=\"../../../../../__pv_it/common/32fc7f13c9e7e89074583aa5bfc208d125f839970/expr.png\" style=\"display:inline;vertical-align:middle;\" /></a></td></tr>\n",
       "<tr><td>51</td><td>Variable</td><td></td><td><a class=\"ProveItLink\" href=\"../../../../../__pv_it/common/6d80eb1398b2335bf9ec427954b851b7094dced50/expr.ipynb\"><img src=\"../../../../../__pv_it/common/6d80eb1398b2335bf9ec427954b851b7094dced50/expr.png\" style=\"display:inline;vertical-align:middle;\" /></a></td></tr>\n",
       "<tr><td>52</td><td>Variable</td><td></td><td><a class=\"ProveItLink\" href=\"../../../../../__pv_it/common/de55da274ba0f49c86925fbf3828021c04d27faf0/expr.ipynb\"><img src=\"../../../../../__pv_it/common/de55da274ba0f49c86925fbf3828021c04d27faf0/expr.png\" style=\"display:inline;vertical-align:middle;\" /></a></td></tr>\n",
       "<tr><td>53</td><td>ExprTuple</td><td>54</td><td><a class=\"ProveItLink\" href=\"../../../../../__pv_it/common/eacfeccc0521684fcb20fe8f5180ac50fca471f20/expr.ipynb\"><img src=\"../../../../../__pv_it/common/eacfeccc0521684fcb20fe8f5180ac50fca471f20/expr.png\" style=\"display:inline;vertical-align:middle;\" /></a></td></tr>\n",
       "<tr><td>54</td><td>Variable</td><td></td><td><a class=\"ProveItLink\" href=\"../../../../../__pv_it/common/a0d9d672aa5e272d907247690c152cc2c6daafb70/expr.ipynb\"><img src=\"../../../../../__pv_it/common/a0d9d672aa5e272d907247690c152cc2c6daafb70/expr.png\" style=\"display:inline;vertical-align:middle;\" /></a></td></tr>\n",
       "</table>\n"
      ],
      "text/plain": [
       "0. K -> [forall_{V, W in_c VecSpaces(K)} [forall_{c in K} [forall_{P in LINMAP(V, W)} ((c * P) = [x -> {c * P(x) if x in V.])]]]\n",
       "   core type: Lambda\n",
       "   parameter: 27\n",
       "   body: 1\n",
       "1. forall_{V, W in_c VecSpaces(K)} [forall_{c in K} [forall_{P in LINMAP(V, W)} ((c * P) = [x -> {c * P(x) if x in V.])]]\n",
       "   core type: Operation\n",
       "   operator: 21\n",
       "   operand: 3\n",
       "2. ((V, W) -> {forall_{c in K} [forall_{P in LINMAP(V, W)} ((c * P) = [x -> {c * P(x) if x in V.])] if V in_c VecSpaces(K) ,  W in_c VecSpaces(K).)\n",
       "   core type: ExprTuple\n",
       "   sub-expressions: 3\n",
       "3. (V, W) -> {forall_{c in K} [forall_{P in LINMAP(V, W)} ((c * P) = [x -> {c * P(x) if x in V.])] if V in_c VecSpaces(K) ,  W in_c VecSpaces(K).\n",
       "   core type: Lambda\n",
       "   parameters: 41\\n   body: 4\n",
       "4. {forall_{c in K} [forall_{P in LINMAP(V, W)} ((c * P) = [x -> {c * P(x) if x in V.])] if V in_c VecSpaces(K) ,  W in_c VecSpaces(K).\n",
       "   core type: Conditional\n",
       "   value: 5\n",
       "   condition: 6\n",
       "5. forall_{c in K} [forall_{P in LINMAP(V, W)} ((c * P) = [x -> {c * P(x) if x in V.])]\n",
       "   core type: Operation\n",
       "   operator: 21\n",
       "   operand: 10\n",
       "6. (V in_c VecSpaces(K)) and (W in_c VecSpaces(K))\n",
       "   core type: Operation\n",
       "   operator: 8\n",
       "   operands: 9\n",
       "7. (c -> {forall_{P in LINMAP(V, W)} ((c * P) = [x -> {c * P(x) if x in V.]) if c in K.)\n",
       "   core type: ExprTuple\n",
       "   sub-expressions: 10\n",
       "8. and\n",
       "   core type: Literal\n",
       "   sub-expressions: \n",
       "9. (V in_c VecSpaces(K), W in_c VecSpaces(K))\n",
       "   core type: ExprTuple\n",
       "   sub-expressions: 11, 12\n",
       "10. c -> {forall_{P in LINMAP(V, W)} ((c * P) = [x -> {c * P(x) if x in V.]) if c in K.\n",
       "    core type: Lambda\n",
       "    parameter: 49\n",
       "    body: 14\n",
       "11. V in_c VecSpaces(K)\n",
       "    core type: Operation\n",
       "    operator: 16\n",
       "    operands: 15\n",
       "12. W in_c VecSpaces(K)\n",
       "    core type: Operation\n",
       "    operator: 16\n",
       "    operands: 17\n",
       "13. (c)\n",
       "    core type: ExprTuple\n",
       "    sub-expressions: 49\n",
       "14. {forall_{P in LINMAP(V, W)} ((c * P) = [x -> {c * P(x) if x in V.]) if c in K.\n",
       "    core type: Conditional\n",
       "    value: 18\n",
       "    condition: 19\n",
       "15. (V, VecSpaces(K))\n",
       "    core type: ExprTuple\n",
       "    sub-expressions: 51, 20\n",
       "16. in_c\n",
       "    core type: Literal\n",
       "    sub-expressions: \n",
       "17. (W, VecSpaces(K))\n",
       "    core type: ExprTuple\n",
       "    sub-expressions: 44, 20\n",
       "18. forall_{P in LINMAP(V, W)} ((c * P) = [x -> {c * P(x) if x in V.])\n",
       "    core type: Operation\n",
       "    operator: 21\n",
       "    operand: 26\n",
       "19. c in K\n",
       "    core type: Operation\n",
       "    operator: 47\n",
       "    operands: 23\n",
       "20. VecSpaces(K)\n",
       "    core type: Operation\n",
       "    operator: 24\n",
       "    operand: 27\n",
       "21. forall\n",
       "    core type: Literal\n",
       "    sub-expressions: \n",
       "22. (P -> {(c * P) = [x -> {c * P(x) if x in V.] if P in LINMAP(V, W).)\n",
       "    core type: ExprTuple\n",
       "    sub-expressions: 26\n",
       "23. (c, K)\n",
       "    core type: ExprTuple\n",
       "    sub-expressions: 49, 27\n",
       "24. VecSpaces\n",
       "    core type: Literal\n",
       "    sub-expressions: \n",
       "25. (K)\n",
       "    core type: ExprTuple\n",
       "    sub-expressions: 27\n",
       "26. P -> {(c * P) = [x -> {c * P(x) if x in V.] if P in LINMAP(V, W).\n",
       "    core type: Lambda\n",
       "    parameter: 52\n",
       "    body: 29\n",
       "27. K\n",
       "    core type: Variable\n",
       "    sub-expressions: \n",
       "28. (P)\n",
       "    core type: ExprTuple\n",
       "    sub-expressions: 52\n",
       "29. {(c * P) = [x -> {c * P(x) if x in V.] if P in LINMAP(V, W).\n",
       "    core type: Conditional\n",
       "    value: 30\n",
       "    condition: 31\n",
       "30. (c * P) = [x -> {c * P(x) if x in V.]\n",
       "    core type: Operation\n",
       "    operator: 32\n",
       "    operands: 33\n",
       "31. P in LINMAP(V, W)\n",
       "    core type: Operation\n",
       "    operator: 47\n",
       "    operands: 34\n",
       "32. =\n",
       "    core type: Literal\n",
       "    sub-expressions: \n",
       "33. (c * P, x -> {c * P(x) if x in V.)\n",
       "    core type: ExprTuple\n",
       "    sub-expressions: 35, 36\n",
       "34. (P, LINMAP(V, W))\n",
       "    core type: ExprTuple\n",
       "    sub-expressions: 52, 37\n",
       "35. c * P\n",
       "    core type: Operation\n",
       "    operator: 45\n",
       "    operands: 38\n",
       "36. x -> {c * P(x) if x in V.\n",
       "    core type: Lambda\n",
       "    parameter: 54\n",
       "    body: 39\n",
       "37. LINMAP(V, W)\n",
       "    core type: Operation\n",
       "    operator: 40\n",
       "    operands: 41\n",
       "38. (c, P)\n",
       "    core type: ExprTuple\n",
       "    sub-expressions: 49, 52\n",
       "39. {c * P(x) if x in V.\n",
       "    core type: Conditional\n",
       "    value: 42\n",
       "    condition: 43\n",
       "40. LINMAP\n",
       "    core type: Literal\n",
       "    sub-expressions: \n",
       "41. (V, W)\n",
       "    core type: ExprTuple\n",
       "    sub-expressions: 51, 44\n",
       "42. c * P(x)\n",
       "    core type: Operation\n",
       "    operator: 45\n",
       "    operands: 46\n",
       "43. x in V\n",
       "    core type: Operation\n",
       "    operator: 47\n",
       "    operands: 48\n",
       "44. W\n",
       "    core type: Variable\n",
       "    sub-expressions: \n",
       "45. *\n",
       "    core type: Literal\n",
       "    sub-expressions: \n",
       "46. (c, P(x))\n",
       "    core type: ExprTuple\n",
       "    sub-expressions: 49, 50\n",
       "47. in\n",
       "    core type: Literal\n",
       "    sub-expressions: \n",
       "48. (x, V)\n",
       "    core type: ExprTuple\n",
       "    sub-expressions: 54, 51\n",
       "49. c\n",
       "    core type: Variable\n",
       "    sub-expressions: \n",
       "50. P(x)\n",
       "    core type: Operation\n",
       "    operator: 52\n",
       "    operand: 54\n",
       "51. V\n",
       "    core type: Variable\n",
       "    sub-expressions: \n",
       "52. P\n",
       "    core type: Variable\n",
       "    sub-expressions: \n",
       "53. (x)\n",
       "    core type: ExprTuple\n",
       "    sub-expressions: 54\n",
       "54. x\n",
       "    core type: Variable\n",
       "    sub-expressions: "
      ]
     },
     "metadata": {},
     "output_type": "display_data"
    }
   ],
   "source": [
    "# display the expression information\n",
    "stored_expr.expr_info()"
   ]
  },
  {
   "cell_type": "code",
   "execution_count": null,
   "metadata": {},
   "outputs": [],
   "source": []
  }
 ],
 "metadata": {
  "kernelspec": {
   "display_name": "Python 3",
   "language": "python",
   "name": "python3"
  }
 },
 "nbformat": 4,
 "nbformat_minor": 0
}