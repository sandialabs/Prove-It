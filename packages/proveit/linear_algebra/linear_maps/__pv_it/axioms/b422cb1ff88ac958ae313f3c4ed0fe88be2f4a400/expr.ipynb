{
 "cells": [
  {
   "cell_type": "markdown",
   "metadata": {},
   "source": [
    "Expression of type <a class=\"ProveItLink\" href=\"../../../../../../../doc/html/api/proveit.ExprTuple.html\">ExprTuple</a>\n",
    "=======================\n",
    "# from the theory of <a class=\"ProveItLink\" href=\"../../../_theory_nbs_/theory.ipynb\">proveit.linear_algebra.linear_maps</a>"
   ]
  },
  {
   "cell_type": "code",
   "execution_count": 1,
   "metadata": {},
   "outputs": [],
   "source": [
    "import proveit\n",
    "# Automation is not needed when building an expression:\n",
    "proveit.defaults.automation = False # This will speed things up.\n",
    "proveit.defaults.inline_pngs = False # Makes files smaller.\n",
    "%load_expr # Load the stored expression as 'stored_expr'\n",
    "# import Expression classes needed to build the expression\n",
    "from proveit import A, B, Composition, Conditional, ExprTuple, K, Lambda, V\n",
    "from proveit.linear_algebra import AntiCommutator, VecAdd, VecSpaces\n",
    "from proveit.logic import Equals, Forall, InClass"
   ]
  },
  {
   "cell_type": "code",
   "execution_count": 2,
   "metadata": {},
   "outputs": [
    {
     "data": {
      "text/html": [
       "<strong id=\"expr\">expr:</strong> <a class=\"ProveItLink\" href=\"expr.ipynb\"><img src=\"expr.png\" style=\"display:inline;vertical-align:middle;\" /></a><br>"
      ],
      "text/plain": [
       "<IPython.core.display.HTML object>"
      ]
     },
     "metadata": {},
     "output_type": "display_data"
    }
   ],
   "source": [
    "# build up the expression from sub-expressions\n",
    "expr = ExprTuple(Lambda(V, Conditional(Forall(instance_param_or_params = [A, B], instance_expr = Equals(AntiCommutator(A, B), VecAdd(Composition(A, B), Composition(B, A))), domain = V), InClass(V, VecSpaces(K)))))"
   ]
  },
  {
   "cell_type": "code",
   "execution_count": 3,
   "metadata": {},
   "outputs": [
    {
     "name": "stdout",
     "output_type": "stream",
     "text": [
      "Passed sanity check: expr matches stored_expr\n"
     ]
    }
   ],
   "source": [
    "# check that the built expression is the same as the stored expression\n",
    "assert expr == stored_expr\n",
    "assert expr._style_id == stored_expr._style_id\n",
    "print(\"Passed sanity check: expr matches stored_expr\")"
   ]
  },
  {
   "cell_type": "code",
   "execution_count": 4,
   "metadata": {},
   "outputs": [
    {
     "name": "stdout",
     "output_type": "stream",
     "text": [
      "\\left(V \\mapsto \\left\\{\\forall_{A, B \\in V}~\\left(\\left\\{A, B\\right\\} = \\left(\\left(A \\circ B\\right) + \\left(B \\circ A\\right)\\right)\\right) \\textrm{ if } V \\underset{{\\scriptscriptstyle c}}{\\in} \\textrm{VecSpaces}\\left(K\\right)\\right..\\right)\n"
     ]
    }
   ],
   "source": [
    "# Show the LaTeX representation of the expression for convenience if you need it.\n",
    "print(stored_expr.latex())"
   ]
  },
  {
   "cell_type": "code",
   "execution_count": 5,
   "metadata": {},
   "outputs": [
    {
     "data": {
      "text/html": [
       "no style options"
      ],
      "text/plain": [
       "no style options"
      ]
     },
     "metadata": {},
     "output_type": "display_data"
    }
   ],
   "source": [
    "stored_expr.style_options()"
   ]
  },
  {
   "cell_type": "code",
   "execution_count": 6,
   "metadata": {},
   "outputs": [
    {
     "data": {
      "text/html": [
       "<table><tr><th>&nbsp;</th><th>core type</th><th>sub-expressions</th><th>expression</th></tr>\n",
       "<tr><td>0</td><td>ExprTuple</td><td>1</td><td><a class=\"ProveItLink\" href=\"expr.ipynb\"><img src=\"expr.png\" style=\"display:inline;vertical-align:middle;\" /></a></td></tr>\n",
       "<tr><td>1</td><td>Lambda</td><td>parameter:&nbsp;34<br>body:&nbsp;3<br></td><td><a class=\"ProveItLink\" href=\"../6b1745c4467dcf7831a22685a9f1c76c03d52af80/expr.ipynb\"><img src=\"../6b1745c4467dcf7831a22685a9f1c76c03d52af80/expr.png\" style=\"display:inline;vertical-align:middle;\" /></a></td></tr>\n",
       "<tr><td>2</td><td>ExprTuple</td><td>34</td><td><a class=\"ProveItLink\" href=\"../55d848f1bfb69b7cca09982fc21e7069eabfffad0/expr.ipynb\"><img src=\"../55d848f1bfb69b7cca09982fc21e7069eabfffad0/expr.png\" style=\"display:inline;vertical-align:middle;\" /></a></td></tr>\n",
       "<tr><td>3</td><td>Conditional</td><td>value:&nbsp;4<br>condition:&nbsp;5<br></td><td><a class=\"ProveItLink\" href=\"../84f06e9f28cfe8155a64216fe89894ca66cdc6e80/expr.ipynb\"><img src=\"../84f06e9f28cfe8155a64216fe89894ca66cdc6e80/expr.png\" style=\"display:inline;vertical-align:middle;\" /></a></td></tr>\n",
       "<tr><td>4</td><td>Operation</td><td>operator:&nbsp;6<br>operand:&nbsp;10<br></td><td><a class=\"ProveItLink\" href=\"../584c984f2baa19c0c660fcebb473d77b019ec85e0/expr.ipynb\"><img src=\"../584c984f2baa19c0c660fcebb473d77b019ec85e0/expr.png\" style=\"display:inline;vertical-align:middle;\" /></a></td></tr>\n",
       "<tr><td>5</td><td>Operation</td><td>operator:&nbsp;8<br>operands:&nbsp;9<br></td><td><a class=\"ProveItLink\" href=\"../fdcef8bdda7eadc951141827185574260418b5040/expr.ipynb\"><img src=\"../fdcef8bdda7eadc951141827185574260418b5040/expr.png\" style=\"display:inline;vertical-align:middle;\" /></a></td></tr>\n",
       "<tr><td>6</td><td>Literal</td><td></td><td><a class=\"ProveItLink\" href=\"../../../../../logic/booleans/quantification/universality/__pv_it/common/083d2baa0b8ecab1d230f9ec29a15aa1355809fb0/expr.ipynb\"><img src=\"../../../../../logic/booleans/quantification/universality/__pv_it/common/083d2baa0b8ecab1d230f9ec29a15aa1355809fb0/expr.png\" style=\"display:inline;vertical-align:middle;\" /></a></td></tr>\n",
       "<tr><td>7</td><td>ExprTuple</td><td>10</td><td><a class=\"ProveItLink\" href=\"../ac26ba5061fcc6ab3ae8c72ab091f836fbe818230/expr.ipynb\"><img src=\"../ac26ba5061fcc6ab3ae8c72ab091f836fbe818230/expr.png\" style=\"display:inline;vertical-align:middle;\" /></a></td></tr>\n",
       "<tr><td>8</td><td>Literal</td><td></td><td><a class=\"ProveItLink\" href=\"../../../../../logic/classes/membership/__pv_it/common/e3b437d28fbe17f0a50c9789c7c9b47a1270f1420/expr.ipynb\"><img src=\"../../../../../logic/classes/membership/__pv_it/common/e3b437d28fbe17f0a50c9789c7c9b47a1270f1420/expr.png\" style=\"display:inline;vertical-align:middle;\" /></a></td></tr>\n",
       "<tr><td>9</td><td>ExprTuple</td><td>34, 11</td><td><a class=\"ProveItLink\" href=\"../e9269a3a12a2f9c88a561318d0d55d8d11da1e5f0/expr.ipynb\"><img src=\"../e9269a3a12a2f9c88a561318d0d55d8d11da1e5f0/expr.png\" style=\"display:inline;vertical-align:middle;\" /></a></td></tr>\n",
       "<tr><td>10</td><td>Lambda</td><td>parameters:&nbsp;35<br>body:&nbsp;12<br></td><td><a class=\"ProveItLink\" href=\"../88f27bc4b51cfe4ae169cee8295ca5a757add88a0/expr.ipynb\"><img src=\"../88f27bc4b51cfe4ae169cee8295ca5a757add88a0/expr.png\" style=\"display:inline;vertical-align:middle;\" /></a></td></tr>\n",
       "<tr><td>11</td><td>Operation</td><td>operator:&nbsp;13<br>operand:&nbsp;17<br></td><td><a class=\"ProveItLink\" href=\"../bfe4d11fbcd28c79c0e2a9c152d66f0991be7cc30/expr.ipynb\"><img src=\"../bfe4d11fbcd28c79c0e2a9c152d66f0991be7cc30/expr.png\" style=\"display:inline;vertical-align:middle;\" /></a></td></tr>\n",
       "<tr><td>12</td><td>Conditional</td><td>value:&nbsp;15<br>condition:&nbsp;16<br></td><td><a class=\"ProveItLink\" href=\"../2e3e4f5ac55265eb4b213ed8add399b896a0cb4e0/expr.ipynb\"><img src=\"../2e3e4f5ac55265eb4b213ed8add399b896a0cb4e0/expr.png\" style=\"display:inline;vertical-align:middle;\" /></a></td></tr>\n",
       "<tr><td>13</td><td>Literal</td><td></td><td><a class=\"ProveItLink\" href=\"../../../../__pv_it/common/191fa3a3f5c54c22d4b0a7e4fd1b2f7738e981550/expr.ipynb\"><img src=\"../../../../__pv_it/common/191fa3a3f5c54c22d4b0a7e4fd1b2f7738e981550/expr.png\" style=\"display:inline;vertical-align:middle;\" /></a></td></tr>\n",
       "<tr><td>14</td><td>ExprTuple</td><td>17</td><td><a class=\"ProveItLink\" href=\"../dfa81a569aedd40943c42f533e78bc2f073711130/expr.ipynb\"><img src=\"../dfa81a569aedd40943c42f533e78bc2f073711130/expr.png\" style=\"display:inline;vertical-align:middle;\" /></a></td></tr>\n",
       "<tr><td>15</td><td>Operation</td><td>operator:&nbsp;18<br>operands:&nbsp;19<br></td><td><a class=\"ProveItLink\" href=\"../3eb3d87549801a0a225684c8f1341683187a9e7d0/expr.ipynb\"><img src=\"../3eb3d87549801a0a225684c8f1341683187a9e7d0/expr.png\" style=\"display:inline;vertical-align:middle;\" /></a></td></tr>\n",
       "<tr><td>16</td><td>Operation</td><td>operator:&nbsp;20<br>operands:&nbsp;21<br></td><td><a class=\"ProveItLink\" href=\"../8ec36e8040728ca62b1f524a09f41d99379de6360/expr.ipynb\"><img src=\"../8ec36e8040728ca62b1f524a09f41d99379de6360/expr.png\" style=\"display:inline;vertical-align:middle;\" /></a></td></tr>\n",
       "<tr><td>17</td><td>Variable</td><td></td><td><a class=\"ProveItLink\" href=\"../../../../../__pv_it/common/1f2ffac7a1dc7c1a4f1fc7348356ae64ea992c790/expr.ipynb\"><img src=\"../../../../../__pv_it/common/1f2ffac7a1dc7c1a4f1fc7348356ae64ea992c790/expr.png\" style=\"display:inline;vertical-align:middle;\" /></a></td></tr>\n",
       "<tr><td>18</td><td>Literal</td><td></td><td><a class=\"ProveItLink\" href=\"../../../../../logic/equality/__pv_it/common/fb96dc12b2aa8801dda64d0132b396c63d1502bb0/expr.ipynb\"><img src=\"../../../../../logic/equality/__pv_it/common/fb96dc12b2aa8801dda64d0132b396c63d1502bb0/expr.png\" style=\"display:inline;vertical-align:middle;\" /></a></td></tr>\n",
       "<tr><td>19</td><td>ExprTuple</td><td>22, 23</td><td><a class=\"ProveItLink\" href=\"../6200a9950f69cbff9b1a5ecf7e0b151040c79fa30/expr.ipynb\"><img src=\"../6200a9950f69cbff9b1a5ecf7e0b151040c79fa30/expr.png\" style=\"display:inline;vertical-align:middle;\" /></a></td></tr>\n",
       "<tr><td>20</td><td>Literal</td><td></td><td><a class=\"ProveItLink\" href=\"../../../../../logic/booleans/conjunction/__pv_it/common/42118ff318bd65d98b1393f64ce7c2269feef76e0/expr.ipynb\"><img src=\"../../../../../logic/booleans/conjunction/__pv_it/common/42118ff318bd65d98b1393f64ce7c2269feef76e0/expr.png\" style=\"display:inline;vertical-align:middle;\" /></a></td></tr>\n",
       "<tr><td>21</td><td>ExprTuple</td><td>24, 25</td><td><a class=\"ProveItLink\" href=\"../443b4766a0b939b85cfdb97fedff0bbf668c534d0/expr.ipynb\"><img src=\"../443b4766a0b939b85cfdb97fedff0bbf668c534d0/expr.png\" style=\"display:inline;vertical-align:middle;\" /></a></td></tr>\n",
       "<tr><td>22</td><td>Operation</td><td>operator:&nbsp;26<br>operands:&nbsp;35<br></td><td><a class=\"ProveItLink\" href=\"../47d0bfce8ddc15d574bd918be25fd17c85f902710/expr.ipynb\"><img src=\"../47d0bfce8ddc15d574bd918be25fd17c85f902710/expr.png\" style=\"display:inline;vertical-align:middle;\" /></a></td></tr>\n",
       "<tr><td>23</td><td>Operation</td><td>operator:&nbsp;27<br>operands:&nbsp;28<br></td><td><a class=\"ProveItLink\" href=\"../0956d98a118c713281f978fe75a1ad659e78738b0/expr.ipynb\"><img src=\"../0956d98a118c713281f978fe75a1ad659e78738b0/expr.png\" style=\"display:inline;vertical-align:middle;\" /></a></td></tr>\n",
       "<tr><td>24</td><td>Operation</td><td>operator:&nbsp;30<br>operands:&nbsp;29<br></td><td><a class=\"ProveItLink\" href=\"../85c5a329c764e0b70cb4a1a99c8964bae9b3c04a0/expr.ipynb\"><img src=\"../85c5a329c764e0b70cb4a1a99c8964bae9b3c04a0/expr.png\" style=\"display:inline;vertical-align:middle;\" /></a></td></tr>\n",
       "<tr><td>25</td><td>Operation</td><td>operator:&nbsp;30<br>operands:&nbsp;31<br></td><td><a class=\"ProveItLink\" href=\"../eb28204b818995f50b62be75da3700139153ee2f0/expr.ipynb\"><img src=\"../eb28204b818995f50b62be75da3700139153ee2f0/expr.png\" style=\"display:inline;vertical-align:middle;\" /></a></td></tr>\n",
       "<tr><td>26</td><td>Literal</td><td></td><td><a class=\"ProveItLink\" href=\"../../common/bbfcb627b24d014444db018e80b7a794772185c30/expr.ipynb\"><img src=\"../../common/bbfcb627b24d014444db018e80b7a794772185c30/expr.png\" style=\"display:inline;vertical-align:middle;\" /></a></td></tr>\n",
       "<tr><td>27</td><td>Literal</td><td></td><td><a class=\"ProveItLink\" href=\"../../../../addition/__pv_it/common/ac3c140c9094f065c7f7db15c94558731443639c0/expr.ipynb\"><img src=\"../../../../addition/__pv_it/common/ac3c140c9094f065c7f7db15c94558731443639c0/expr.png\" style=\"display:inline;vertical-align:middle;\" /></a></td></tr>\n",
       "<tr><td>28</td><td>ExprTuple</td><td>32, 33</td><td><a class=\"ProveItLink\" href=\"../d8f45a2adc49297844cc87cf7838edc95bf0f5bd0/expr.ipynb\"><img src=\"../d8f45a2adc49297844cc87cf7838edc95bf0f5bd0/expr.png\" style=\"display:inline;vertical-align:middle;\" /></a></td></tr>\n",
       "<tr><td>29</td><td>ExprTuple</td><td>39, 34</td><td><a class=\"ProveItLink\" href=\"../ab959fbb46839909291742c55ddebf755017a3570/expr.ipynb\"><img src=\"../ab959fbb46839909291742c55ddebf755017a3570/expr.png\" style=\"display:inline;vertical-align:middle;\" /></a></td></tr>\n",
       "<tr><td>30</td><td>Literal</td><td></td><td><a class=\"ProveItLink\" href=\"../../../../../logic/sets/membership/__pv_it/common/477487d8796864d23d5810f83761435f25167f690/expr.ipynb\"><img src=\"../../../../../logic/sets/membership/__pv_it/common/477487d8796864d23d5810f83761435f25167f690/expr.png\" style=\"display:inline;vertical-align:middle;\" /></a></td></tr>\n",
       "<tr><td>31</td><td>ExprTuple</td><td>38, 34</td><td><a class=\"ProveItLink\" href=\"../c595fbdf0356f3637737134326a5d6ddb7ba34dd0/expr.ipynb\"><img src=\"../c595fbdf0356f3637737134326a5d6ddb7ba34dd0/expr.png\" style=\"display:inline;vertical-align:middle;\" /></a></td></tr>\n",
       "<tr><td>32</td><td>Operation</td><td>operator:&nbsp;36<br>operands:&nbsp;35<br></td><td><a class=\"ProveItLink\" href=\"../20f2c53fd978db413ba9e9974264f828323a2ee50/expr.ipynb\"><img src=\"../20f2c53fd978db413ba9e9974264f828323a2ee50/expr.png\" style=\"display:inline;vertical-align:middle;\" /></a></td></tr>\n",
       "<tr><td>33</td><td>Operation</td><td>operator:&nbsp;36<br>operands:&nbsp;37<br></td><td><a class=\"ProveItLink\" href=\"../b21822e790f14ab93d5e713d50897f155e9a43600/expr.ipynb\"><img src=\"../b21822e790f14ab93d5e713d50897f155e9a43600/expr.png\" style=\"display:inline;vertical-align:middle;\" /></a></td></tr>\n",
       "<tr><td>34</td><td>Variable</td><td></td><td><a class=\"ProveItLink\" href=\"../../../../../__pv_it/common/6d80eb1398b2335bf9ec427954b851b7094dced50/expr.ipynb\"><img src=\"../../../../../__pv_it/common/6d80eb1398b2335bf9ec427954b851b7094dced50/expr.png\" style=\"display:inline;vertical-align:middle;\" /></a></td></tr>\n",
       "<tr><td>35</td><td>ExprTuple</td><td>39, 38</td><td><a class=\"ProveItLink\" href=\"../e791ee87807ed43d7ac6262f8f70c4ffc8f24c940/expr.ipynb\"><img src=\"../e791ee87807ed43d7ac6262f8f70c4ffc8f24c940/expr.png\" style=\"display:inline;vertical-align:middle;\" /></a></td></tr>\n",
       "<tr><td>36</td><td>Literal</td><td></td><td><a class=\"ProveItLink\" href=\"../937c3fce6fae0f7bf212b2afb24ffa2312fdb2b40/expr.ipynb\"><img src=\"../../../../../_core_/expression/lambda_expr/__pv_it/common/937c3fce6fae0f7bf212b2afb24ffa2312fdb2b40/expr.png\" style=\"display:inline;vertical-align:middle;\" /></a></td></tr>\n",
       "<tr><td>37</td><td>ExprTuple</td><td>38, 39</td><td><a class=\"ProveItLink\" href=\"../eea868dfdc76ebd2b3c14c306a89babeb4ac740d0/expr.ipynb\"><img src=\"../eea868dfdc76ebd2b3c14c306a89babeb4ac740d0/expr.png\" style=\"display:inline;vertical-align:middle;\" /></a></td></tr>\n",
       "<tr><td>38</td><td>Variable</td><td></td><td><a class=\"ProveItLink\" href=\"../../../../../__pv_it/common/a9162d1c3cc0470c02e5daf414500903a7a419230/expr.ipynb\"><img src=\"../../../../../__pv_it/common/a9162d1c3cc0470c02e5daf414500903a7a419230/expr.png\" style=\"display:inline;vertical-align:middle;\" /></a></td></tr>\n",
       "<tr><td>39</td><td>Variable</td><td></td><td><a class=\"ProveItLink\" href=\"../../../../../__pv_it/common/09585084922504426caf1db2ff588a23a0932a960/expr.ipynb\"><img src=\"../../../../../__pv_it/common/09585084922504426caf1db2ff588a23a0932a960/expr.png\" style=\"display:inline;vertical-align:middle;\" /></a></td></tr>\n",
       "</table>\n"
      ],
      "text/plain": [
       "0. (V -> {forall_{A, B in V} ({A, B'} = ((A o B) + (B o A))) if V in_c VecSpaces(K).)\n",
       "   core type: ExprTuple\n",
       "   sub-expressions: 1\n",
       "1. V -> {forall_{A, B in V} ({A, B'} = ((A o B) + (B o A))) if V in_c VecSpaces(K).\n",
       "   core type: Lambda\n",
       "   parameter: 34\n",
       "   body: 3\n",
       "2. (V)\n",
       "   core type: ExprTuple\n",
       "   sub-expressions: 34\n",
       "3. {forall_{A, B in V} ({A, B'} = ((A o B) + (B o A))) if V in_c VecSpaces(K).\n",
       "   core type: Conditional\n",
       "   value: 4\n",
       "   condition: 5\n",
       "4. forall_{A, B in V} ({A, B'} = ((A o B) + (B o A)))\n",
       "   core type: Operation\n",
       "   operator: 6\n",
       "   operand: 10\n",
       "5. V in_c VecSpaces(K)\n",
       "   core type: Operation\n",
       "   operator: 8\n",
       "   operands: 9\n",
       "6. forall\n",
       "   core type: Literal\n",
       "   sub-expressions: \n",
       "7. ((A, B) -> {{A, B'} = ((A o B) + (B o A)) if A in V ,  B in V.)\n",
       "   core type: ExprTuple\n",
       "   sub-expressions: 10\n",
       "8. in_c\n",
       "   core type: Literal\n",
       "   sub-expressions: \n",
       "9. (V, VecSpaces(K))\n",
       "   core type: ExprTuple\n",
       "   sub-expressions: 34, 11\n",
       "10. (A, B) -> {{A, B'} = ((A o B) + (B o A)) if A in V ,  B in V.\n",
       "    core type: Lambda\n",
       "    parameters: 35\\n    body: 12\n",
       "11. VecSpaces(K)\n",
       "    core type: Operation\n",
       "    operator: 13\n",
       "    operand: 17\n",
       "12. {{A, B'} = ((A o B) + (B o A)) if A in V ,  B in V.\n",
       "    core type: Conditional\n",
       "    value: 15\n",
       "    condition: 16\n",
       "13. VecSpaces\n",
       "    core type: Literal\n",
       "    sub-expressions: \n",
       "14. (K)\n",
       "    core type: ExprTuple\n",
       "    sub-expressions: 17\n",
       "15. {A, B'} = ((A o B) + (B o A))\n",
       "    core type: Operation\n",
       "    operator: 18\n",
       "    operands: 19\n",
       "16. (A in V) and (B in V)\n",
       "    core type: Operation\n",
       "    operator: 20\n",
       "    operands: 21\n",
       "17. K\n",
       "    core type: Variable\n",
       "    sub-expressions: \n",
       "18. =\n",
       "    core type: Literal\n",
       "    sub-expressions: \n",
       "19. ({A, B'}, (A o B) + (B o A))\n",
       "    core type: ExprTuple\n",
       "    sub-expressions: 22, 23\n",
       "20. and\n",
       "    core type: Literal\n",
       "    sub-expressions: \n",
       "21. (A in V, B in V)\n",
       "    core type: ExprTuple\n",
       "    sub-expressions: 24, 25\n",
       "22. {A, B'}\n",
       "    core type: Operation\n",
       "    operator: 26\n",
       "    operands: 35\n",
       "23. (A o B) + (B o A)\n",
       "    core type: Operation\n",
       "    operator: 27\n",
       "    operands: 28\n",
       "24. A in V\n",
       "    core type: Operation\n",
       "    operator: 30\n",
       "    operands: 29\n",
       "25. B in V\n",
       "    core type: Operation\n",
       "    operator: 30\n",
       "    operands: 31\n",
       "26. commutator\n",
       "    core type: Literal\n",
       "    sub-expressions: \n",
       "27. +\n",
       "    core type: Literal\n",
       "    sub-expressions: \n",
       "28. (A o B, B o A)\n",
       "    core type: ExprTuple\n",
       "    sub-expressions: 32, 33\n",
       "29. (A, V)\n",
       "    core type: ExprTuple\n",
       "    sub-expressions: 39, 34\n",
       "30. in\n",
       "    core type: Literal\n",
       "    sub-expressions: \n",
       "31. (B, V)\n",
       "    core type: ExprTuple\n",
       "    sub-expressions: 38, 34\n",
       "32. A o B\n",
       "    core type: Operation\n",
       "    operator: 36\n",
       "    operands: 35\n",
       "33. B o A\n",
       "    core type: Operation\n",
       "    operator: 36\n",
       "    operands: 37\n",
       "34. V\n",
       "    core type: Variable\n",
       "    sub-expressions: \n",
       "35. (A, B)\n",
       "    core type: ExprTuple\n",
       "    sub-expressions: 39, 38\n",
       "36. o\n",
       "    core type: Literal\n",
       "    sub-expressions: \n",
       "37. (B, A)\n",
       "    core type: ExprTuple\n",
       "    sub-expressions: 38, 39\n",
       "38. B\n",
       "    core type: Variable\n",
       "    sub-expressions: \n",
       "39. A\n",
       "    core type: Variable\n",
       "    sub-expressions: "
      ]
     },
     "metadata": {},
     "output_type": "display_data"
    }
   ],
   "source": [
    "# display the expression information\n",
    "stored_expr.expr_info()"
   ]
  },
  {
   "cell_type": "code",
   "execution_count": null,
   "metadata": {},
   "outputs": [],
   "source": []
  }
 ],
 "metadata": {
  "kernelspec": {
   "display_name": "Python 3",
   "language": "python",
   "name": "python3"
  }
 },
 "nbformat": 4,
 "nbformat_minor": 0
}