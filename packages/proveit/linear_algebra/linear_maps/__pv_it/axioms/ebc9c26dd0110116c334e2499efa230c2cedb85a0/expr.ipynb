{
 "cells": [
  {
   "cell_type": "markdown",
   "metadata": {},
   "source": [
    "Expression of type <a class=\"ProveItLink\" href=\"../../../../../../../doc/html/api/proveit.ExprTuple.html\">ExprTuple</a>\n",
    "=======================\n",
    "# from the theory of <a class=\"ProveItLink\" href=\"../../../_theory_nbs_/theory.ipynb\">proveit.linear_algebra.linear_maps</a>"
   ]
  },
  {
   "cell_type": "code",
   "execution_count": 1,
   "metadata": {},
   "outputs": [],
   "source": [
    "import proveit\n",
    "# Automation is not needed when building an expression:\n",
    "proveit.defaults.automation = False # This will speed things up.\n",
    "proveit.defaults.inline_pngs = False # Makes files smaller.\n",
    "%load_expr # Load the stored expression as 'stored_expr'\n",
    "# import Expression classes needed to build the expression\n",
    "from proveit import A, B, Composition, ExprTuple, K, Lambda, V\n",
    "from proveit.linear_algebra import Commutator, VecAdd, VecNeg, VecSpaces\n",
    "from proveit.logic import Equals, Forall"
   ]
  },
  {
   "cell_type": "code",
   "execution_count": 2,
   "metadata": {},
   "outputs": [
    {
     "data": {
      "text/html": [
       "<strong id=\"expr\">expr:</strong> <a class=\"ProveItLink\" href=\"expr.ipynb\"><img src=\"expr.png\" style=\"display:inline;vertical-align:middle;\" /></a><br>"
      ],
      "text/plain": [
       "<IPython.core.display.HTML object>"
      ]
     },
     "metadata": {},
     "output_type": "display_data"
    }
   ],
   "source": [
    "# build up the expression from sub-expressions\n",
    "expr = ExprTuple(Lambda(K, Forall(instance_param_or_params = [V], instance_expr = Forall(instance_param_or_params = [A, B], instance_expr = Equals(Commutator(A, B), VecAdd(Composition(A, B), VecNeg(Composition(B, A)))), domain = V), domain = VecSpaces(K))))"
   ]
  },
  {
   "cell_type": "code",
   "execution_count": 3,
   "metadata": {},
   "outputs": [
    {
     "name": "stdout",
     "output_type": "stream",
     "text": [
      "Passed sanity check: expr matches stored_expr\n"
     ]
    }
   ],
   "source": [
    "# check that the built expression is the same as the stored expression\n",
    "assert expr == stored_expr\n",
    "assert expr._style_id == stored_expr._style_id\n",
    "print(\"Passed sanity check: expr matches stored_expr\")"
   ]
  },
  {
   "cell_type": "code",
   "execution_count": 4,
   "metadata": {},
   "outputs": [
    {
     "name": "stdout",
     "output_type": "stream",
     "text": [
      "\\left(K \\mapsto \\left[\\forall_{V \\underset{{\\scriptscriptstyle c}}{\\in} \\textrm{VecSpaces}\\left(K\\right)}~\\left[\\forall_{A, B \\in V}~\\left(\\left[A, B\\right] = \\left(\\left(A \\circ B\\right) + \\left(-\\left(B \\circ A\\right)\\right)\\right)\\right)\\right]\\right]\\right)\n"
     ]
    }
   ],
   "source": [
    "# Show the LaTeX representation of the expression for convenience if you need it.\n",
    "print(stored_expr.latex())"
   ]
  },
  {
   "cell_type": "code",
   "execution_count": 5,
   "metadata": {},
   "outputs": [
    {
     "data": {
      "text/html": [
       "no style options"
      ],
      "text/plain": [
       "no style options"
      ]
     },
     "metadata": {},
     "output_type": "display_data"
    }
   ],
   "source": [
    "stored_expr.style_options()"
   ]
  },
  {
   "cell_type": "code",
   "execution_count": 6,
   "metadata": {},
   "outputs": [
    {
     "data": {
      "text/html": [
       "<table><tr><th>&nbsp;</th><th>core type</th><th>sub-expressions</th><th>expression</th></tr>\n",
       "<tr><td>0</td><td>ExprTuple</td><td>1</td><td><a class=\"ProveItLink\" href=\"expr.ipynb\"><img src=\"expr.png\" style=\"display:inline;vertical-align:middle;\" /></a></td></tr>\n",
       "<tr><td>1</td><td>Lambda</td><td>parameter:&nbsp;20<br>body:&nbsp;2<br></td><td><a class=\"ProveItLink\" href=\"../3eff2b0f81d6fb4fbc77294ac5566a53f1cd8f690/expr.ipynb\"><img src=\"../3eff2b0f81d6fb4fbc77294ac5566a53f1cd8f690/expr.png\" style=\"display:inline;vertical-align:middle;\" /></a></td></tr>\n",
       "<tr><td>2</td><td>Operation</td><td>operator:&nbsp;9<br>operand:&nbsp;4<br></td><td><a class=\"ProveItLink\" href=\"../0424c61fe29c72d5691aa5ef1ce804cdf052a3090/expr.ipynb\"><img src=\"../0424c61fe29c72d5691aa5ef1ce804cdf052a3090/expr.png\" style=\"display:inline;vertical-align:middle;\" /></a></td></tr>\n",
       "<tr><td>3</td><td>ExprTuple</td><td>4</td><td><a class=\"ProveItLink\" href=\"../3cb267dee352ecb14ec13eb4c57aa393cfcae6080/expr.ipynb\"><img src=\"../3cb267dee352ecb14ec13eb4c57aa393cfcae6080/expr.png\" style=\"display:inline;vertical-align:middle;\" /></a></td></tr>\n",
       "<tr><td>4</td><td>Lambda</td><td>parameter:&nbsp;37<br>body:&nbsp;6<br></td><td><a class=\"ProveItLink\" href=\"../99fbc50c299800f23d17e9128deb5cf8ecd1cd3d0/expr.ipynb\"><img src=\"../99fbc50c299800f23d17e9128deb5cf8ecd1cd3d0/expr.png\" style=\"display:inline;vertical-align:middle;\" /></a></td></tr>\n",
       "<tr><td>5</td><td>ExprTuple</td><td>37</td><td><a class=\"ProveItLink\" href=\"../55d848f1bfb69b7cca09982fc21e7069eabfffad0/expr.ipynb\"><img src=\"../55d848f1bfb69b7cca09982fc21e7069eabfffad0/expr.png\" style=\"display:inline;vertical-align:middle;\" /></a></td></tr>\n",
       "<tr><td>6</td><td>Conditional</td><td>value:&nbsp;7<br>condition:&nbsp;8<br></td><td><a class=\"ProveItLink\" href=\"../cf4ac96432422a692d3df0072bd8ab40845a0adf0/expr.ipynb\"><img src=\"../cf4ac96432422a692d3df0072bd8ab40845a0adf0/expr.png\" style=\"display:inline;vertical-align:middle;\" /></a></td></tr>\n",
       "<tr><td>7</td><td>Operation</td><td>operator:&nbsp;9<br>operand:&nbsp;13<br></td><td><a class=\"ProveItLink\" href=\"../e7b7c7978ac98c3d0845c603fb585f1228bd17460/expr.ipynb\"><img src=\"../e7b7c7978ac98c3d0845c603fb585f1228bd17460/expr.png\" style=\"display:inline;vertical-align:middle;\" /></a></td></tr>\n",
       "<tr><td>8</td><td>Operation</td><td>operator:&nbsp;11<br>operands:&nbsp;12<br></td><td><a class=\"ProveItLink\" href=\"../fdcef8bdda7eadc951141827185574260418b5040/expr.ipynb\"><img src=\"../fdcef8bdda7eadc951141827185574260418b5040/expr.png\" style=\"display:inline;vertical-align:middle;\" /></a></td></tr>\n",
       "<tr><td>9</td><td>Literal</td><td></td><td><a class=\"ProveItLink\" href=\"../../../../../logic/booleans/quantification/universality/__pv_it/common/083d2baa0b8ecab1d230f9ec29a15aa1355809fb0/expr.ipynb\"><img src=\"../../../../../logic/booleans/quantification/universality/__pv_it/common/083d2baa0b8ecab1d230f9ec29a15aa1355809fb0/expr.png\" style=\"display:inline;vertical-align:middle;\" /></a></td></tr>\n",
       "<tr><td>10</td><td>ExprTuple</td><td>13</td><td><a class=\"ProveItLink\" href=\"../edbc0f45ec9c12a5fb80bf2a5b5dc881f085107b0/expr.ipynb\"><img src=\"../edbc0f45ec9c12a5fb80bf2a5b5dc881f085107b0/expr.png\" style=\"display:inline;vertical-align:middle;\" /></a></td></tr>\n",
       "<tr><td>11</td><td>Literal</td><td></td><td><a class=\"ProveItLink\" href=\"../../../../../logic/classes/membership/__pv_it/common/e3b437d28fbe17f0a50c9789c7c9b47a1270f1420/expr.ipynb\"><img src=\"../../../../../logic/classes/membership/__pv_it/common/e3b437d28fbe17f0a50c9789c7c9b47a1270f1420/expr.png\" style=\"display:inline;vertical-align:middle;\" /></a></td></tr>\n",
       "<tr><td>12</td><td>ExprTuple</td><td>37, 14</td><td><a class=\"ProveItLink\" href=\"../e9269a3a12a2f9c88a561318d0d55d8d11da1e5f0/expr.ipynb\"><img src=\"../e9269a3a12a2f9c88a561318d0d55d8d11da1e5f0/expr.png\" style=\"display:inline;vertical-align:middle;\" /></a></td></tr>\n",
       "<tr><td>13</td><td>Lambda</td><td>parameters:&nbsp;38<br>body:&nbsp;15<br></td><td><a class=\"ProveItLink\" href=\"../1fe392606f19b838be58e8991c7400eb6b7bc5ac0/expr.ipynb\"><img src=\"../1fe392606f19b838be58e8991c7400eb6b7bc5ac0/expr.png\" style=\"display:inline;vertical-align:middle;\" /></a></td></tr>\n",
       "<tr><td>14</td><td>Operation</td><td>operator:&nbsp;16<br>operand:&nbsp;20<br></td><td><a class=\"ProveItLink\" href=\"../bfe4d11fbcd28c79c0e2a9c152d66f0991be7cc30/expr.ipynb\"><img src=\"../bfe4d11fbcd28c79c0e2a9c152d66f0991be7cc30/expr.png\" style=\"display:inline;vertical-align:middle;\" /></a></td></tr>\n",
       "<tr><td>15</td><td>Conditional</td><td>value:&nbsp;18<br>condition:&nbsp;19<br></td><td><a class=\"ProveItLink\" href=\"../12cc0bbca0d97a86994c4524ae8377106e3a16450/expr.ipynb\"><img src=\"../12cc0bbca0d97a86994c4524ae8377106e3a16450/expr.png\" style=\"display:inline;vertical-align:middle;\" /></a></td></tr>\n",
       "<tr><td>16</td><td>Literal</td><td></td><td><a class=\"ProveItLink\" href=\"../../../../__pv_it/common/191fa3a3f5c54c22d4b0a7e4fd1b2f7738e981550/expr.ipynb\"><img src=\"../../../../__pv_it/common/191fa3a3f5c54c22d4b0a7e4fd1b2f7738e981550/expr.png\" style=\"display:inline;vertical-align:middle;\" /></a></td></tr>\n",
       "<tr><td>17</td><td>ExprTuple</td><td>20</td><td><a class=\"ProveItLink\" href=\"../dfa81a569aedd40943c42f533e78bc2f073711130/expr.ipynb\"><img src=\"../dfa81a569aedd40943c42f533e78bc2f073711130/expr.png\" style=\"display:inline;vertical-align:middle;\" /></a></td></tr>\n",
       "<tr><td>18</td><td>Operation</td><td>operator:&nbsp;21<br>operands:&nbsp;22<br></td><td><a class=\"ProveItLink\" href=\"../3ff8df58dcf2af24b733e8d59b01603a5f91439e0/expr.ipynb\"><img src=\"../3ff8df58dcf2af24b733e8d59b01603a5f91439e0/expr.png\" style=\"display:inline;vertical-align:middle;\" /></a></td></tr>\n",
       "<tr><td>19</td><td>Operation</td><td>operator:&nbsp;23<br>operands:&nbsp;24<br></td><td><a class=\"ProveItLink\" href=\"../8ec36e8040728ca62b1f524a09f41d99379de6360/expr.ipynb\"><img src=\"../8ec36e8040728ca62b1f524a09f41d99379de6360/expr.png\" style=\"display:inline;vertical-align:middle;\" /></a></td></tr>\n",
       "<tr><td>20</td><td>Variable</td><td></td><td><a class=\"ProveItLink\" href=\"../../../../../__pv_it/common/1f2ffac7a1dc7c1a4f1fc7348356ae64ea992c790/expr.ipynb\"><img src=\"../../../../../__pv_it/common/1f2ffac7a1dc7c1a4f1fc7348356ae64ea992c790/expr.png\" style=\"display:inline;vertical-align:middle;\" /></a></td></tr>\n",
       "<tr><td>21</td><td>Literal</td><td></td><td><a class=\"ProveItLink\" href=\"../../../../../logic/equality/__pv_it/common/fb96dc12b2aa8801dda64d0132b396c63d1502bb0/expr.ipynb\"><img src=\"../../../../../logic/equality/__pv_it/common/fb96dc12b2aa8801dda64d0132b396c63d1502bb0/expr.png\" style=\"display:inline;vertical-align:middle;\" /></a></td></tr>\n",
       "<tr><td>22</td><td>ExprTuple</td><td>25, 26</td><td><a class=\"ProveItLink\" href=\"../18611217ec6d3fe555e009354f3e1ad9dc07fafe0/expr.ipynb\"><img src=\"../18611217ec6d3fe555e009354f3e1ad9dc07fafe0/expr.png\" style=\"display:inline;vertical-align:middle;\" /></a></td></tr>\n",
       "<tr><td>23</td><td>Literal</td><td></td><td><a class=\"ProveItLink\" href=\"../../../../../logic/booleans/conjunction/__pv_it/common/42118ff318bd65d98b1393f64ce7c2269feef76e0/expr.ipynb\"><img src=\"../../../../../logic/booleans/conjunction/__pv_it/common/42118ff318bd65d98b1393f64ce7c2269feef76e0/expr.png\" style=\"display:inline;vertical-align:middle;\" /></a></td></tr>\n",
       "<tr><td>24</td><td>ExprTuple</td><td>27, 28</td><td><a class=\"ProveItLink\" href=\"../443b4766a0b939b85cfdb97fedff0bbf668c534d0/expr.ipynb\"><img src=\"../443b4766a0b939b85cfdb97fedff0bbf668c534d0/expr.png\" style=\"display:inline;vertical-align:middle;\" /></a></td></tr>\n",
       "<tr><td>25</td><td>Operation</td><td>operator:&nbsp;29<br>operands:&nbsp;38<br></td><td><a class=\"ProveItLink\" href=\"../61de356ef98ffc8a42847b25b2c84ef1cd5165d90/expr.ipynb\"><img src=\"../61de356ef98ffc8a42847b25b2c84ef1cd5165d90/expr.png\" style=\"display:inline;vertical-align:middle;\" /></a></td></tr>\n",
       "<tr><td>26</td><td>Operation</td><td>operator:&nbsp;30<br>operands:&nbsp;31<br></td><td><a class=\"ProveItLink\" href=\"../832ee2f97069f6e42e4802b652629c33306de4c60/expr.ipynb\"><img src=\"../832ee2f97069f6e42e4802b652629c33306de4c60/expr.png\" style=\"display:inline;vertical-align:middle;\" /></a></td></tr>\n",
       "<tr><td>27</td><td>Operation</td><td>operator:&nbsp;33<br>operands:&nbsp;32<br></td><td><a class=\"ProveItLink\" href=\"../85c5a329c764e0b70cb4a1a99c8964bae9b3c04a0/expr.ipynb\"><img src=\"../85c5a329c764e0b70cb4a1a99c8964bae9b3c04a0/expr.png\" style=\"display:inline;vertical-align:middle;\" /></a></td></tr>\n",
       "<tr><td>28</td><td>Operation</td><td>operator:&nbsp;33<br>operands:&nbsp;34<br></td><td><a class=\"ProveItLink\" href=\"../eb28204b818995f50b62be75da3700139153ee2f0/expr.ipynb\"><img src=\"../eb28204b818995f50b62be75da3700139153ee2f0/expr.png\" style=\"display:inline;vertical-align:middle;\" /></a></td></tr>\n",
       "<tr><td>29</td><td>Literal</td><td></td><td><a class=\"ProveItLink\" href=\"../../common/bbfcb627b24d014444db018e80b7a794772185c30/expr.ipynb\"><img src=\"../../common/bbfcb627b24d014444db018e80b7a794772185c30/expr.png\" style=\"display:inline;vertical-align:middle;\" /></a></td></tr>\n",
       "<tr><td>30</td><td>Literal</td><td></td><td><a class=\"ProveItLink\" href=\"../../../../addition/__pv_it/common/ac3c140c9094f065c7f7db15c94558731443639c0/expr.ipynb\"><img src=\"../../../../addition/__pv_it/common/ac3c140c9094f065c7f7db15c94558731443639c0/expr.png\" style=\"display:inline;vertical-align:middle;\" /></a></td></tr>\n",
       "<tr><td>31</td><td>ExprTuple</td><td>35, 36</td><td><a class=\"ProveItLink\" href=\"../166155e15086516cb1c1ca10a3b6ea36742e28f00/expr.ipynb\"><img src=\"../166155e15086516cb1c1ca10a3b6ea36742e28f00/expr.png\" style=\"display:inline;vertical-align:middle;\" /></a></td></tr>\n",
       "<tr><td>32</td><td>ExprTuple</td><td>45, 37</td><td><a class=\"ProveItLink\" href=\"../ab959fbb46839909291742c55ddebf755017a3570/expr.ipynb\"><img src=\"../ab959fbb46839909291742c55ddebf755017a3570/expr.png\" style=\"display:inline;vertical-align:middle;\" /></a></td></tr>\n",
       "<tr><td>33</td><td>Literal</td><td></td><td><a class=\"ProveItLink\" href=\"../../../../../logic/sets/membership/__pv_it/common/477487d8796864d23d5810f83761435f25167f690/expr.ipynb\"><img src=\"../../../../../logic/sets/membership/__pv_it/common/477487d8796864d23d5810f83761435f25167f690/expr.png\" style=\"display:inline;vertical-align:middle;\" /></a></td></tr>\n",
       "<tr><td>34</td><td>ExprTuple</td><td>44, 37</td><td><a class=\"ProveItLink\" href=\"../c595fbdf0356f3637737134326a5d6ddb7ba34dd0/expr.ipynb\"><img src=\"../c595fbdf0356f3637737134326a5d6ddb7ba34dd0/expr.png\" style=\"display:inline;vertical-align:middle;\" /></a></td></tr>\n",
       "<tr><td>35</td><td>Operation</td><td>operator:&nbsp;42<br>operands:&nbsp;38<br></td><td><a class=\"ProveItLink\" href=\"../20f2c53fd978db413ba9e9974264f828323a2ee50/expr.ipynb\"><img src=\"../20f2c53fd978db413ba9e9974264f828323a2ee50/expr.png\" style=\"display:inline;vertical-align:middle;\" /></a></td></tr>\n",
       "<tr><td>36</td><td>Operation</td><td>operator:&nbsp;39<br>operand:&nbsp;41<br></td><td><a class=\"ProveItLink\" href=\"../9a55d6321fa4c35a2d27ba376990a281f64d14600/expr.ipynb\"><img src=\"../9a55d6321fa4c35a2d27ba376990a281f64d14600/expr.png\" style=\"display:inline;vertical-align:middle;\" /></a></td></tr>\n",
       "<tr><td>37</td><td>Variable</td><td></td><td><a class=\"ProveItLink\" href=\"../../../../../__pv_it/common/6d80eb1398b2335bf9ec427954b851b7094dced50/expr.ipynb\"><img src=\"../../../../../__pv_it/common/6d80eb1398b2335bf9ec427954b851b7094dced50/expr.png\" style=\"display:inline;vertical-align:middle;\" /></a></td></tr>\n",
       "<tr><td>38</td><td>ExprTuple</td><td>45, 44</td><td><a class=\"ProveItLink\" href=\"../e791ee87807ed43d7ac6262f8f70c4ffc8f24c940/expr.ipynb\"><img src=\"../e791ee87807ed43d7ac6262f8f70c4ffc8f24c940/expr.png\" style=\"display:inline;vertical-align:middle;\" /></a></td></tr>\n",
       "<tr><td>39</td><td>Literal</td><td></td><td><a class=\"ProveItLink\" href=\"../../../../negation/__pv_it/common/9589e1291fb4547121eb901abf011085308b68420/expr.ipynb\"><img src=\"../../../../negation/__pv_it/common/9589e1291fb4547121eb901abf011085308b68420/expr.png\" style=\"display:inline;vertical-align:middle;\" /></a></td></tr>\n",
       "<tr><td>40</td><td>ExprTuple</td><td>41</td><td><a class=\"ProveItLink\" href=\"../de293dcf55f245f7e9e82fb1ce5ba8eda4f19f5f0/expr.ipynb\"><img src=\"../de293dcf55f245f7e9e82fb1ce5ba8eda4f19f5f0/expr.png\" style=\"display:inline;vertical-align:middle;\" /></a></td></tr>\n",
       "<tr><td>41</td><td>Operation</td><td>operator:&nbsp;42<br>operands:&nbsp;43<br></td><td><a class=\"ProveItLink\" href=\"../b21822e790f14ab93d5e713d50897f155e9a43600/expr.ipynb\"><img src=\"../b21822e790f14ab93d5e713d50897f155e9a43600/expr.png\" style=\"display:inline;vertical-align:middle;\" /></a></td></tr>\n",
       "<tr><td>42</td><td>Literal</td><td></td><td><a class=\"ProveItLink\" href=\"../937c3fce6fae0f7bf212b2afb24ffa2312fdb2b40/expr.ipynb\"><img src=\"../../../../../_core_/expression/lambda_expr/__pv_it/common/937c3fce6fae0f7bf212b2afb24ffa2312fdb2b40/expr.png\" style=\"display:inline;vertical-align:middle;\" /></a></td></tr>\n",
       "<tr><td>43</td><td>ExprTuple</td><td>44, 45</td><td><a class=\"ProveItLink\" href=\"../eea868dfdc76ebd2b3c14c306a89babeb4ac740d0/expr.ipynb\"><img src=\"../eea868dfdc76ebd2b3c14c306a89babeb4ac740d0/expr.png\" style=\"display:inline;vertical-align:middle;\" /></a></td></tr>\n",
       "<tr><td>44</td><td>Variable</td><td></td><td><a class=\"ProveItLink\" href=\"../../../../../__pv_it/common/a9162d1c3cc0470c02e5daf414500903a7a419230/expr.ipynb\"><img src=\"../../../../../__pv_it/common/a9162d1c3cc0470c02e5daf414500903a7a419230/expr.png\" style=\"display:inline;vertical-align:middle;\" /></a></td></tr>\n",
       "<tr><td>45</td><td>Variable</td><td></td><td><a class=\"ProveItLink\" href=\"../../../../../__pv_it/common/09585084922504426caf1db2ff588a23a0932a960/expr.ipynb\"><img src=\"../../../../../__pv_it/common/09585084922504426caf1db2ff588a23a0932a960/expr.png\" style=\"display:inline;vertical-align:middle;\" /></a></td></tr>\n",
       "</table>\n"
      ],
      "text/plain": [
       "0. (K -> [forall_{V in_c VecSpaces(K)} [forall_{A, B in V} ([A, B] = ((A o B) + (-(B o A))))]])\n",
       "   core type: ExprTuple\n",
       "   sub-expressions: 1\n",
       "1. K -> [forall_{V in_c VecSpaces(K)} [forall_{A, B in V} ([A, B] = ((A o B) + (-(B o A))))]]\n",
       "   core type: Lambda\n",
       "   parameter: 20\n",
       "   body: 2\n",
       "2. forall_{V in_c VecSpaces(K)} [forall_{A, B in V} ([A, B] = ((A o B) + (-(B o A))))]\n",
       "   core type: Operation\n",
       "   operator: 9\n",
       "   operand: 4\n",
       "3. (V -> {forall_{A, B in V} ([A, B] = ((A o B) + (-(B o A)))) if V in_c VecSpaces(K).)\n",
       "   core type: ExprTuple\n",
       "   sub-expressions: 4\n",
       "4. V -> {forall_{A, B in V} ([A, B] = ((A o B) + (-(B o A)))) if V in_c VecSpaces(K).\n",
       "   core type: Lambda\n",
       "   parameter: 37\n",
       "   body: 6\n",
       "5. (V)\n",
       "   core type: ExprTuple\n",
       "   sub-expressions: 37\n",
       "6. {forall_{A, B in V} ([A, B] = ((A o B) + (-(B o A)))) if V in_c VecSpaces(K).\n",
       "   core type: Conditional\n",
       "   value: 7\n",
       "   condition: 8\n",
       "7. forall_{A, B in V} ([A, B] = ((A o B) + (-(B o A))))\n",
       "   core type: Operation\n",
       "   operator: 9\n",
       "   operand: 13\n",
       "8. V in_c VecSpaces(K)\n",
       "   core type: Operation\n",
       "   operator: 11\n",
       "   operands: 12\n",
       "9. forall\n",
       "   core type: Literal\n",
       "   sub-expressions: \n",
       "10. ((A, B) -> {[A, B] = ((A o B) + (-(B o A))) if A in V ,  B in V.)\n",
       "    core type: ExprTuple\n",
       "    sub-expressions: 13\n",
       "11. in_c\n",
       "    core type: Literal\n",
       "    sub-expressions: \n",
       "12. (V, VecSpaces(K))\n",
       "    core type: ExprTuple\n",
       "    sub-expressions: 37, 14\n",
       "13. (A, B) -> {[A, B] = ((A o B) + (-(B o A))) if A in V ,  B in V.\n",
       "    core type: Lambda\n",
       "    parameters: 38\\n    body: 15\n",
       "14. VecSpaces(K)\n",
       "    core type: Operation\n",
       "    operator: 16\n",
       "    operand: 20\n",
       "15. {[A, B] = ((A o B) + (-(B o A))) if A in V ,  B in V.\n",
       "    core type: Conditional\n",
       "    value: 18\n",
       "    condition: 19\n",
       "16. VecSpaces\n",
       "    core type: Literal\n",
       "    sub-expressions: \n",
       "17. (K)\n",
       "    core type: ExprTuple\n",
       "    sub-expressions: 20\n",
       "18. [A, B] = ((A o B) + (-(B o A)))\n",
       "    core type: Operation\n",
       "    operator: 21\n",
       "    operands: 22\n",
       "19. (A in V) and (B in V)\n",
       "    core type: Operation\n",
       "    operator: 23\n",
       "    operands: 24\n",
       "20. K\n",
       "    core type: Variable\n",
       "    sub-expressions: \n",
       "21. =\n",
       "    core type: Literal\n",
       "    sub-expressions: \n",
       "22. ([A, B], (A o B) + (-(B o A)))\n",
       "    core type: ExprTuple\n",
       "    sub-expressions: 25, 26\n",
       "23. and\n",
       "    core type: Literal\n",
       "    sub-expressions: \n",
       "24. (A in V, B in V)\n",
       "    core type: ExprTuple\n",
       "    sub-expressions: 27, 28\n",
       "25. [A, B]\n",
       "    core type: Operation\n",
       "    operator: 29\n",
       "    operands: 38\n",
       "26. (A o B) + (-(B o A))\n",
       "    core type: Operation\n",
       "    operator: 30\n",
       "    operands: 31\n",
       "27. A in V\n",
       "    core type: Operation\n",
       "    operator: 33\n",
       "    operands: 32\n",
       "28. B in V\n",
       "    core type: Operation\n",
       "    operator: 33\n",
       "    operands: 34\n",
       "29. commutator\n",
       "    core type: Literal\n",
       "    sub-expressions: \n",
       "30. +\n",
       "    core type: Literal\n",
       "    sub-expressions: \n",
       "31. (A o B, -(B o A))\n",
       "    core type: ExprTuple\n",
       "    sub-expressions: 35, 36\n",
       "32. (A, V)\n",
       "    core type: ExprTuple\n",
       "    sub-expressions: 45, 37\n",
       "33. in\n",
       "    core type: Literal\n",
       "    sub-expressions: \n",
       "34. (B, V)\n",
       "    core type: ExprTuple\n",
       "    sub-expressions: 44, 37\n",
       "35. A o B\n",
       "    core type: Operation\n",
       "    operator: 42\n",
       "    operands: 38\n",
       "36. -(B o A)\n",
       "    core type: Operation\n",
       "    operator: 39\n",
       "    operand: 41\n",
       "37. V\n",
       "    core type: Variable\n",
       "    sub-expressions: \n",
       "38. (A, B)\n",
       "    core type: ExprTuple\n",
       "    sub-expressions: 45, 44\n",
       "39. -\n",
       "    core type: Literal\n",
       "    sub-expressions: \n",
       "40. (B o A)\n",
       "    core type: ExprTuple\n",
       "    sub-expressions: 41\n",
       "41. B o A\n",
       "    core type: Operation\n",
       "    operator: 42\n",
       "    operands: 43\n",
       "42. o\n",
       "    core type: Literal\n",
       "    sub-expressions: \n",
       "43. (B, A)\n",
       "    core type: ExprTuple\n",
       "    sub-expressions: 44, 45\n",
       "44. B\n",
       "    core type: Variable\n",
       "    sub-expressions: \n",
       "45. A\n",
       "    core type: Variable\n",
       "    sub-expressions: "
      ]
     },
     "metadata": {},
     "output_type": "display_data"
    }
   ],
   "source": [
    "# display the expression information\n",
    "stored_expr.expr_info()"
   ]
  },
  {
   "cell_type": "code",
   "execution_count": null,
   "metadata": {},
   "outputs": [],
   "source": []
  }
 ],
 "metadata": {
  "kernelspec": {
   "display_name": "Python 3",
   "language": "python",
   "name": "python3"
  }
 },
 "nbformat": 4,
 "nbformat_minor": 0
}