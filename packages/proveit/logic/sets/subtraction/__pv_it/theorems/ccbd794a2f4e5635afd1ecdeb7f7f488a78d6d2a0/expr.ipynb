{
 "cells": [
  {
   "cell_type": "markdown",
   "metadata": {},
   "source": [
    "Expression of type <a class=\"ProveItLink\" href=\"../../../../../../../../doc/html/api/proveit.ExprTuple.html\">ExprTuple</a>\n",
    "=======================\n",
    "# from the theory of <a class=\"ProveItLink\" href=\"../../../_theory_nbs_/theory.ipynb\">proveit.logic.sets.subtraction</a>"
   ]
  },
  {
   "cell_type": "code",
   "execution_count": 1,
   "metadata": {},
   "outputs": [],
   "source": [
    "import proveit\n",
    "# Automation is not needed when building an expression:\n",
    "proveit.defaults.automation = False # This will speed things up.\n",
    "proveit.defaults.inline_pngs = False # Makes files smaller.\n",
    "%load_expr # Load the stored expression as 'stored_expr'\n",
    "# import Expression classes needed to build the expression\n",
    "from proveit import Conditional, ExprTuple, Lambda, S, x, y\n",
    "from proveit.logic import And, Difference, InSet, NotEquals, Set"
   ]
  },
  {
   "cell_type": "code",
   "execution_count": 2,
   "metadata": {},
   "outputs": [
    {
     "data": {
      "text/html": [
       "<strong id=\"expr\">expr:</strong> <a class=\"ProveItLink\" href=\"expr.ipynb\"><img src=\"expr.png\" style=\"display:inline;vertical-align:middle;\" /></a><br>"
      ],
      "text/plain": [
       "<IPython.core.display.HTML object>"
      ]
     },
     "metadata": {},
     "output_type": "display_data"
    }
   ],
   "source": [
    "# build up the expression from sub-expressions\n",
    "expr = ExprTuple(Lambda(x, Conditional(And(InSet(x, S), NotEquals(x, y)), InSet(x, Difference(S, Set(y))))))"
   ]
  },
  {
   "cell_type": "code",
   "execution_count": 3,
   "metadata": {},
   "outputs": [
    {
     "name": "stdout",
     "output_type": "stream",
     "text": [
      "Passed sanity check: expr matches stored_expr\n"
     ]
    }
   ],
   "source": [
    "# check that the built expression is the same as the stored expression\n",
    "assert expr == stored_expr\n",
    "assert expr._style_id == stored_expr._style_id\n",
    "print(\"Passed sanity check: expr matches stored_expr\")"
   ]
  },
  {
   "cell_type": "code",
   "execution_count": 4,
   "metadata": {},
   "outputs": [
    {
     "name": "stdout",
     "output_type": "stream",
     "text": [
      "\\left(x \\mapsto \\left\\{\\left(x \\in S\\right) \\land \\left(x \\neq y\\right) \\textrm{ if } x \\in \\left(S - \\left\\{y\\right\\}\\right)\\right..\\right)\n"
     ]
    }
   ],
   "source": [
    "# Show the LaTeX representation of the expression for convenience if you need it.\n",
    "print(stored_expr.latex())"
   ]
  },
  {
   "cell_type": "code",
   "execution_count": 5,
   "metadata": {},
   "outputs": [
    {
     "data": {
      "text/html": [
       "no style options"
      ],
      "text/plain": [
       "no style options"
      ]
     },
     "metadata": {},
     "output_type": "display_data"
    }
   ],
   "source": [
    "stored_expr.style_options()"
   ]
  },
  {
   "cell_type": "code",
   "execution_count": 6,
   "metadata": {},
   "outputs": [
    {
     "data": {
      "text/html": [
       "<table><tr><th>&nbsp;</th><th>core type</th><th>sub-expressions</th><th>expression</th></tr>\n",
       "<tr><td>0</td><td>ExprTuple</td><td>1</td><td><a class=\"ProveItLink\" href=\"expr.ipynb\"><img src=\"expr.png\" style=\"display:inline;vertical-align:middle;\" /></a></td></tr>\n",
       "<tr><td>1</td><td>Lambda</td><td>parameter:&nbsp;18<br>body:&nbsp;3<br></td><td><a class=\"ProveItLink\" href=\"../4b03354df6aae1749848cf5ef99d80c7b28aef840/expr.ipynb\"><img src=\"../4b03354df6aae1749848cf5ef99d80c7b28aef840/expr.png\" style=\"display:inline;vertical-align:middle;\" /></a></td></tr>\n",
       "<tr><td>2</td><td>ExprTuple</td><td>18</td><td><a class=\"ProveItLink\" href=\"../../../../../../__pv_it/common/eacfeccc0521684fcb20fe8f5180ac50fca471f20/expr.ipynb\"><img src=\"../../../../../../__pv_it/common/eacfeccc0521684fcb20fe8f5180ac50fca471f20/expr.png\" style=\"display:inline;vertical-align:middle;\" /></a></td></tr>\n",
       "<tr><td>3</td><td>Conditional</td><td>value:&nbsp;4<br>condition:&nbsp;5<br></td><td><a class=\"ProveItLink\" href=\"../f5da2201fdee06e3726fb01b9a7dd3331072b7210/expr.ipynb\"><img src=\"../f5da2201fdee06e3726fb01b9a7dd3331072b7210/expr.png\" style=\"display:inline;vertical-align:middle;\" /></a></td></tr>\n",
       "<tr><td>4</td><td>Operation</td><td>operator:&nbsp;6<br>operands:&nbsp;7<br></td><td><a class=\"ProveItLink\" href=\"../3c80960cfd3815abe7338559ae7ccbb04a71e3f60/expr.ipynb\"><img src=\"../3c80960cfd3815abe7338559ae7ccbb04a71e3f60/expr.png\" style=\"display:inline;vertical-align:middle;\" /></a></td></tr>\n",
       "<tr><td>5</td><td>Operation</td><td>operator:&nbsp;12<br>operands:&nbsp;8<br></td><td><a class=\"ProveItLink\" href=\"../c62b2b2b6fbef76e59dcc22607af68c8394436e80/expr.ipynb\"><img src=\"../c62b2b2b6fbef76e59dcc22607af68c8394436e80/expr.png\" style=\"display:inline;vertical-align:middle;\" /></a></td></tr>\n",
       "<tr><td>6</td><td>Literal</td><td></td><td><a class=\"ProveItLink\" href=\"../../../../../booleans/conjunction/__pv_it/common/42118ff318bd65d98b1393f64ce7c2269feef76e0/expr.ipynb\"><img src=\"../../../../../booleans/conjunction/__pv_it/common/42118ff318bd65d98b1393f64ce7c2269feef76e0/expr.png\" style=\"display:inline;vertical-align:middle;\" /></a></td></tr>\n",
       "<tr><td>7</td><td>ExprTuple</td><td>9, 10</td><td><a class=\"ProveItLink\" href=\"../3b4a647fcdace2f66d1e93c5ba6840f471698ed80/expr.ipynb\"><img src=\"../3b4a647fcdace2f66d1e93c5ba6840f471698ed80/expr.png\" style=\"display:inline;vertical-align:middle;\" /></a></td></tr>\n",
       "<tr><td>8</td><td>ExprTuple</td><td>18, 11</td><td><a class=\"ProveItLink\" href=\"../4af16fe6f3fbfaa41ee2552a0a67c5cc1befa0f80/expr.ipynb\"><img src=\"../4af16fe6f3fbfaa41ee2552a0a67c5cc1befa0f80/expr.png\" style=\"display:inline;vertical-align:middle;\" /></a></td></tr>\n",
       "<tr><td>9</td><td>Operation</td><td>operator:&nbsp;12<br>operands:&nbsp;13<br></td><td><a class=\"ProveItLink\" href=\"../e15daefd530e6af1913a3a751ea70ed093591b3d0/expr.ipynb\"><img src=\"../e15daefd530e6af1913a3a751ea70ed093591b3d0/expr.png\" style=\"display:inline;vertical-align:middle;\" /></a></td></tr>\n",
       "<tr><td>10</td><td>Operation</td><td>operator:&nbsp;14<br>operands:&nbsp;15<br></td><td><a class=\"ProveItLink\" href=\"../9aa017d91adf68d05723ae7ce3aae01306229f580/expr.ipynb\"><img src=\"../9aa017d91adf68d05723ae7ce3aae01306229f580/expr.png\" style=\"display:inline;vertical-align:middle;\" /></a></td></tr>\n",
       "<tr><td>11</td><td>Operation</td><td>operator:&nbsp;16<br>operands:&nbsp;17<br></td><td><a class=\"ProveItLink\" href=\"../ddb36bbcc32442adbb0adddaeb77ce6d601d8b490/expr.ipynb\"><img src=\"../ddb36bbcc32442adbb0adddaeb77ce6d601d8b490/expr.png\" style=\"display:inline;vertical-align:middle;\" /></a></td></tr>\n",
       "<tr><td>12</td><td>Literal</td><td></td><td><a class=\"ProveItLink\" href=\"../../../../membership/__pv_it/common/477487d8796864d23d5810f83761435f25167f690/expr.ipynb\"><img src=\"../../../../membership/__pv_it/common/477487d8796864d23d5810f83761435f25167f690/expr.png\" style=\"display:inline;vertical-align:middle;\" /></a></td></tr>\n",
       "<tr><td>13</td><td>ExprTuple</td><td>18, 19</td><td><a class=\"ProveItLink\" href=\"../c7c06b26a27420fe15bf7758f31a7b4d4d978d0b0/expr.ipynb\"><img src=\"../c7c06b26a27420fe15bf7758f31a7b4d4d978d0b0/expr.png\" style=\"display:inline;vertical-align:middle;\" /></a></td></tr>\n",
       "<tr><td>14</td><td>Literal</td><td></td><td><a class=\"ProveItLink\" href=\"../../../../../equality/__pv_it/common/d96270bc9bb1bad54f773b1c04bfb343a739642c0/expr.ipynb\"><img src=\"../../../../../equality/__pv_it/common/d96270bc9bb1bad54f773b1c04bfb343a739642c0/expr.png\" style=\"display:inline;vertical-align:middle;\" /></a></td></tr>\n",
       "<tr><td>15</td><td>ExprTuple</td><td>18, 23</td><td><a class=\"ProveItLink\" href=\"../bbaa48af4605eceb7fbc4af345a1eb6de480e1c50/expr.ipynb\"><img src=\"../bbaa48af4605eceb7fbc4af345a1eb6de480e1c50/expr.png\" style=\"display:inline;vertical-align:middle;\" /></a></td></tr>\n",
       "<tr><td>16</td><td>Literal</td><td></td><td><a class=\"ProveItLink\" href=\"../../common/d9e1054b3adbded49b41c35ae8486f4f2c89b6ef0/expr.ipynb\"><img src=\"../../common/d9e1054b3adbded49b41c35ae8486f4f2c89b6ef0/expr.png\" style=\"display:inline;vertical-align:middle;\" /></a></td></tr>\n",
       "<tr><td>17</td><td>ExprTuple</td><td>19, 20</td><td><a class=\"ProveItLink\" href=\"../7b98bf480b4295d4d7cf4707db34ee9c60f3f6e30/expr.ipynb\"><img src=\"../7b98bf480b4295d4d7cf4707db34ee9c60f3f6e30/expr.png\" style=\"display:inline;vertical-align:middle;\" /></a></td></tr>\n",
       "<tr><td>18</td><td>Variable</td><td></td><td><a class=\"ProveItLink\" href=\"../../../../../../__pv_it/common/a0d9d672aa5e272d907247690c152cc2c6daafb70/expr.ipynb\"><img src=\"../../../../../../__pv_it/common/a0d9d672aa5e272d907247690c152cc2c6daafb70/expr.png\" style=\"display:inline;vertical-align:middle;\" /></a></td></tr>\n",
       "<tr><td>19</td><td>Variable</td><td></td><td><a class=\"ProveItLink\" href=\"../../../../../../__pv_it/common/38f47c5670ea8c5b56253448e95d8afb56bc09b40/expr.ipynb\"><img src=\"../../../../../../__pv_it/common/38f47c5670ea8c5b56253448e95d8afb56bc09b40/expr.png\" style=\"display:inline;vertical-align:middle;\" /></a></td></tr>\n",
       "<tr><td>20</td><td>Operation</td><td>operator:&nbsp;21<br>operand:&nbsp;23<br></td><td><a class=\"ProveItLink\" href=\"../a37e416059380a27d580811a6e8bb5b5329205f10/expr.ipynb\"><img src=\"../a37e416059380a27d580811a6e8bb5b5329205f10/expr.png\" style=\"display:inline;vertical-align:middle;\" /></a></td></tr>\n",
       "<tr><td>21</td><td>Literal</td><td></td><td><a class=\"ProveItLink\" href=\"../../../../enumeration/__pv_it/common/0ead90ccbf4f17bc585a51f8aa904bb77916ae6e0/expr.ipynb\"><img src=\"../../../../enumeration/__pv_it/common/0ead90ccbf4f17bc585a51f8aa904bb77916ae6e0/expr.png\" style=\"display:inline;vertical-align:middle;\" /></a></td></tr>\n",
       "<tr><td>22</td><td>ExprTuple</td><td>23</td><td><a class=\"ProveItLink\" href=\"../c60c4da4d0e362e1aae93eaa5e9af5fbed84db960/expr.ipynb\"><img src=\"../c60c4da4d0e362e1aae93eaa5e9af5fbed84db960/expr.png\" style=\"display:inline;vertical-align:middle;\" /></a></td></tr>\n",
       "<tr><td>23</td><td>Variable</td><td></td><td><a class=\"ProveItLink\" href=\"../../../../../../__pv_it/common/ff7dba4ef0bbe791ab573bf2d9c220a304399ac80/expr.ipynb\"><img src=\"../../../../../../__pv_it/common/ff7dba4ef0bbe791ab573bf2d9c220a304399ac80/expr.png\" style=\"display:inline;vertical-align:middle;\" /></a></td></tr>\n",
       "</table>\n"
      ],
      "text/plain": [
       "0. (x -> {(x in S) and (x != y) if x in (S - {y}).)\n",
       "   core type: ExprTuple\n",
       "   sub-expressions: 1\n",
       "1. x -> {(x in S) and (x != y) if x in (S - {y}).\n",
       "   core type: Lambda\n",
       "   parameter: 18\n",
       "   body: 3\n",
       "2. (x)\n",
       "   core type: ExprTuple\n",
       "   sub-expressions: 18\n",
       "3. {(x in S) and (x != y) if x in (S - {y}).\n",
       "   core type: Conditional\n",
       "   value: 4\n",
       "   condition: 5\n",
       "4. (x in S) and (x != y)\n",
       "   core type: Operation\n",
       "   operator: 6\n",
       "   operands: 7\n",
       "5. x in (S - {y})\n",
       "   core type: Operation\n",
       "   operator: 12\n",
       "   operands: 8\n",
       "6. and\n",
       "   core type: Literal\n",
       "   sub-expressions: \n",
       "7. (x in S, x != y)\n",
       "   core type: ExprTuple\n",
       "   sub-expressions: 9, 10\n",
       "8. (x, S - {y})\n",
       "   core type: ExprTuple\n",
       "   sub-expressions: 18, 11\n",
       "9. x in S\n",
       "   core type: Operation\n",
       "   operator: 12\n",
       "   operands: 13\n",
       "10. x != y\n",
       "    core type: Operation\n",
       "    operator: 14\n",
       "    operands: 15\n",
       "11. S - {y}\n",
       "    core type: Operation\n",
       "    operator: 16\n",
       "    operands: 17\n",
       "12. in\n",
       "    core type: Literal\n",
       "    sub-expressions: \n",
       "13. (x, S)\n",
       "    core type: ExprTuple\n",
       "    sub-expressions: 18, 19\n",
       "14. !=\n",
       "    core type: Literal\n",
       "    sub-expressions: \n",
       "15. (x, y)\n",
       "    core type: ExprTuple\n",
       "    sub-expressions: 18, 23\n",
       "16. -\n",
       "    core type: Literal\n",
       "    sub-expressions: \n",
       "17. (S, {y})\n",
       "    core type: ExprTuple\n",
       "    sub-expressions: 19, 20\n",
       "18. x\n",
       "    core type: Variable\n",
       "    sub-expressions: \n",
       "19. S\n",
       "    core type: Variable\n",
       "    sub-expressions: \n",
       "20. {y}\n",
       "    core type: Operation\n",
       "    operator: 21\n",
       "    operand: 23\n",
       "21. Set\n",
       "    core type: Literal\n",
       "    sub-expressions: \n",
       "22. (y)\n",
       "    core type: ExprTuple\n",
       "    sub-expressions: 23\n",
       "23. y\n",
       "    core type: Variable\n",
       "    sub-expressions: "
      ]
     },
     "metadata": {},
     "output_type": "display_data"
    }
   ],
   "source": [
    "# display the expression information\n",
    "stored_expr.expr_info()"
   ]
  },
  {
   "cell_type": "code",
   "execution_count": null,
   "metadata": {},
   "outputs": [],
   "source": []
  }
 ],
 "metadata": {
  "kernelspec": {
   "display_name": "Python 3",
   "language": "python",
   "name": "python3"
  }
 },
 "nbformat": 4,
 "nbformat_minor": 0
}