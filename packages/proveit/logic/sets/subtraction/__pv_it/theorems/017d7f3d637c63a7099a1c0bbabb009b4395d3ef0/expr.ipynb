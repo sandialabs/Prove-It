{
 "cells": [
  {
   "cell_type": "markdown",
   "metadata": {},
   "source": [
    "Expression of type <a class=\"ProveItLink\" href=\"../../../../../../../../doc/html/api/proveit.logic.Forall.html\">Forall</a>\n",
    "=======================\n",
    "# from the theory of <a class=\"ProveItLink\" href=\"../../../_theory_nbs_/theory.ipynb\">proveit.logic.sets.subtraction</a>"
   ]
  },
  {
   "cell_type": "code",
   "execution_count": 1,
   "metadata": {},
   "outputs": [],
   "source": [
    "import proveit\n",
    "# Automation is not needed when building an expression:\n",
    "proveit.defaults.automation = False # This will speed things up.\n",
    "proveit.defaults.inline_pngs = False # Makes files smaller.\n",
    "%load_expr # Load the stored expression as 'stored_expr'\n",
    "# import Expression classes needed to build the expression\n",
    "from proveit import S, x, y\n",
    "from proveit.logic import And, Difference, Forall, InSet, NotEquals, Set"
   ]
  },
  {
   "cell_type": "code",
   "execution_count": 2,
   "metadata": {},
   "outputs": [
    {
     "data": {
      "text/html": [
       "<strong id=\"expr\">expr:</strong> <a class=\"ProveItLink\" href=\"expr.ipynb\"><img src=\"expr.png\" style=\"display:inline;vertical-align:middle;\" /></a><br>"
      ],
      "text/plain": [
       "<IPython.core.display.HTML object>"
      ]
     },
     "metadata": {},
     "output_type": "display_data"
    }
   ],
   "source": [
    "# build up the expression from sub-expressions\n",
    "expr = Forall(instance_param_or_params = [S, y], instance_expr = Forall(instance_param_or_params = [x], instance_expr = And(InSet(x, S), NotEquals(x, y)), domain = Difference(S, Set(y))))"
   ]
  },
  {
   "cell_type": "code",
   "execution_count": 3,
   "metadata": {},
   "outputs": [
    {
     "name": "stdout",
     "output_type": "stream",
     "text": [
      "Passed sanity check: expr matches stored_expr\n"
     ]
    }
   ],
   "source": [
    "# check that the built expression is the same as the stored expression\n",
    "assert expr == stored_expr\n",
    "assert expr._style_id == stored_expr._style_id\n",
    "print(\"Passed sanity check: expr matches stored_expr\")"
   ]
  },
  {
   "cell_type": "code",
   "execution_count": 4,
   "metadata": {},
   "outputs": [
    {
     "name": "stdout",
     "output_type": "stream",
     "text": [
      "\\forall_{S, y}~\\left[\\forall_{x \\in S - \\left\\{y\\right\\}}~\\left(\\left(x \\in S\\right) \\land \\left(x \\neq y\\right)\\right)\\right]\n"
     ]
    }
   ],
   "source": [
    "# Show the LaTeX representation of the expression for convenience if you need it.\n",
    "print(stored_expr.latex())"
   ]
  },
  {
   "cell_type": "code",
   "execution_count": 5,
   "metadata": {},
   "outputs": [
    {
     "data": {
      "text/html": [
       "<table>\n",
       "<tr><th>name</th><th>description</th><th>default</th><th>current value</th><th>related methods</th></tr><tr><td>with_wrapping</td><td>If 'True', wrap the Expression after the parameters</td><td>None</td><td>None/False</td><td>('with_wrapping',)</td></tr>\n",
       "<tr><td>condition_wrapping</td><td>Wrap 'before' or 'after' the condition (or None).</td><td>None</td><td>None/False</td><td>('with_wrap_after_condition', 'with_wrap_before_condition')</td></tr>\n",
       "<tr><td>wrap_params</td><td>If 'True', wraps every two parameters AND wraps the Expression after the parameters</td><td>None</td><td>None/False</td><td>('with_params',)</td></tr>\n",
       "<tr><td>justification</td><td>justify to the 'left', 'center', or 'right' in the array cells</td><td>center</td><td>center</td><td>('with_justification',)</td></tr>\n",
       "</table>\n"
      ],
      "text/plain": [
       "style name: with_wrapping\n",
       "description: If 'True', wrap the Expression after the parameters\n",
       "default: None\n",
       "current value: None/False\n",
       "related methods: ('with_wrapping',)\n",
       "style name: condition_wrapping\n",
       "description: Wrap 'before' or 'after' the condition (or None).\n",
       "default: None\n",
       "current value: None/False\n",
       "related methods: ('with_wrap_after_condition', 'with_wrap_before_condition')\n",
       "style name: wrap_params\n",
       "description: If 'True', wraps every two parameters AND wraps the Expression after the parameters\n",
       "default: None\n",
       "current value: None/False\n",
       "related methods: ('with_params',)\n",
       "style name: justification\n",
       "description: justify to the 'left', 'center', or 'right' in the array cells\n",
       "default: center\n",
       "current value: center\n",
       "related methods: ('with_justification',)"
      ]
     },
     "metadata": {},
     "output_type": "display_data"
    }
   ],
   "source": [
    "stored_expr.style_options()"
   ]
  },
  {
   "cell_type": "code",
   "execution_count": 6,
   "metadata": {},
   "outputs": [
    {
     "data": {
      "text/html": [
       "<table><tr><th>&nbsp;</th><th>core type</th><th>sub-expressions</th><th>expression</th></tr>\n",
       "<tr><td>0</td><td>Operation</td><td>operator:&nbsp;5<br>operand:&nbsp;2<br></td><td><a class=\"ProveItLink\" href=\"expr.ipynb\"><img src=\"expr.png\" style=\"display:inline;vertical-align:middle;\" /></a></td></tr>\n",
       "<tr><td>1</td><td>ExprTuple</td><td>2</td><td><a class=\"ProveItLink\" href=\"../1ad1a56ebe8e1362d961abc3b6172db76501c3f80/expr.ipynb\"><img src=\"../1ad1a56ebe8e1362d961abc3b6172db76501c3f80/expr.png\" style=\"display:inline;vertical-align:middle;\" /></a></td></tr>\n",
       "<tr><td>2</td><td>Lambda</td><td>parameters:&nbsp;3<br>body:&nbsp;4<br></td><td><a class=\"ProveItLink\" href=\"../80d47d7217569b7c4f260f4cd54780635f4984c90/expr.ipynb\"><img src=\"../80d47d7217569b7c4f260f4cd54780635f4984c90/expr.png\" style=\"display:inline;vertical-align:middle;\" /></a></td></tr>\n",
       "<tr><td>3</td><td>ExprTuple</td><td>25, 29</td><td><a class=\"ProveItLink\" href=\"../ab9d3a72dabf094b056c4662126fe8de38c0a3c50/expr.ipynb\"><img src=\"../ab9d3a72dabf094b056c4662126fe8de38c0a3c50/expr.png\" style=\"display:inline;vertical-align:middle;\" /></a></td></tr>\n",
       "<tr><td>4</td><td>Operation</td><td>operator:&nbsp;5<br>operand:&nbsp;7<br></td><td><a class=\"ProveItLink\" href=\"../281298e27071e29e949dcc5f37478d5a989163980/expr.ipynb\"><img src=\"../281298e27071e29e949dcc5f37478d5a989163980/expr.png\" style=\"display:inline;vertical-align:middle;\" /></a></td></tr>\n",
       "<tr><td>5</td><td>Literal</td><td></td><td><a class=\"ProveItLink\" href=\"../../../../../booleans/quantification/universality/__pv_it/common/083d2baa0b8ecab1d230f9ec29a15aa1355809fb0/expr.ipynb\"><img src=\"../../../../../booleans/quantification/universality/__pv_it/common/083d2baa0b8ecab1d230f9ec29a15aa1355809fb0/expr.png\" style=\"display:inline;vertical-align:middle;\" /></a></td></tr>\n",
       "<tr><td>6</td><td>ExprTuple</td><td>7</td><td><a class=\"ProveItLink\" href=\"../ccbd794a2f4e5635afd1ecdeb7f7f488a78d6d2a0/expr.ipynb\"><img src=\"../ccbd794a2f4e5635afd1ecdeb7f7f488a78d6d2a0/expr.png\" style=\"display:inline;vertical-align:middle;\" /></a></td></tr>\n",
       "<tr><td>7</td><td>Lambda</td><td>parameter:&nbsp;24<br>body:&nbsp;9<br></td><td><a class=\"ProveItLink\" href=\"../4b03354df6aae1749848cf5ef99d80c7b28aef840/expr.ipynb\"><img src=\"../4b03354df6aae1749848cf5ef99d80c7b28aef840/expr.png\" style=\"display:inline;vertical-align:middle;\" /></a></td></tr>\n",
       "<tr><td>8</td><td>ExprTuple</td><td>24</td><td><a class=\"ProveItLink\" href=\"../../../../../../__pv_it/common/eacfeccc0521684fcb20fe8f5180ac50fca471f20/expr.ipynb\"><img src=\"../../../../../../__pv_it/common/eacfeccc0521684fcb20fe8f5180ac50fca471f20/expr.png\" style=\"display:inline;vertical-align:middle;\" /></a></td></tr>\n",
       "<tr><td>9</td><td>Conditional</td><td>value:&nbsp;10<br>condition:&nbsp;11<br></td><td><a class=\"ProveItLink\" href=\"../f5da2201fdee06e3726fb01b9a7dd3331072b7210/expr.ipynb\"><img src=\"../f5da2201fdee06e3726fb01b9a7dd3331072b7210/expr.png\" style=\"display:inline;vertical-align:middle;\" /></a></td></tr>\n",
       "<tr><td>10</td><td>Operation</td><td>operator:&nbsp;12<br>operands:&nbsp;13<br></td><td><a class=\"ProveItLink\" href=\"../3c80960cfd3815abe7338559ae7ccbb04a71e3f60/expr.ipynb\"><img src=\"../3c80960cfd3815abe7338559ae7ccbb04a71e3f60/expr.png\" style=\"display:inline;vertical-align:middle;\" /></a></td></tr>\n",
       "<tr><td>11</td><td>Operation</td><td>operator:&nbsp;18<br>operands:&nbsp;14<br></td><td><a class=\"ProveItLink\" href=\"../c62b2b2b6fbef76e59dcc22607af68c8394436e80/expr.ipynb\"><img src=\"../c62b2b2b6fbef76e59dcc22607af68c8394436e80/expr.png\" style=\"display:inline;vertical-align:middle;\" /></a></td></tr>\n",
       "<tr><td>12</td><td>Literal</td><td></td><td><a class=\"ProveItLink\" href=\"../../../../../booleans/conjunction/__pv_it/common/42118ff318bd65d98b1393f64ce7c2269feef76e0/expr.ipynb\"><img src=\"../../../../../booleans/conjunction/__pv_it/common/42118ff318bd65d98b1393f64ce7c2269feef76e0/expr.png\" style=\"display:inline;vertical-align:middle;\" /></a></td></tr>\n",
       "<tr><td>13</td><td>ExprTuple</td><td>15, 16</td><td><a class=\"ProveItLink\" href=\"../3b4a647fcdace2f66d1e93c5ba6840f471698ed80/expr.ipynb\"><img src=\"../3b4a647fcdace2f66d1e93c5ba6840f471698ed80/expr.png\" style=\"display:inline;vertical-align:middle;\" /></a></td></tr>\n",
       "<tr><td>14</td><td>ExprTuple</td><td>24, 17</td><td><a class=\"ProveItLink\" href=\"../4af16fe6f3fbfaa41ee2552a0a67c5cc1befa0f80/expr.ipynb\"><img src=\"../4af16fe6f3fbfaa41ee2552a0a67c5cc1befa0f80/expr.png\" style=\"display:inline;vertical-align:middle;\" /></a></td></tr>\n",
       "<tr><td>15</td><td>Operation</td><td>operator:&nbsp;18<br>operands:&nbsp;19<br></td><td><a class=\"ProveItLink\" href=\"../e15daefd530e6af1913a3a751ea70ed093591b3d0/expr.ipynb\"><img src=\"../e15daefd530e6af1913a3a751ea70ed093591b3d0/expr.png\" style=\"display:inline;vertical-align:middle;\" /></a></td></tr>\n",
       "<tr><td>16</td><td>Operation</td><td>operator:&nbsp;20<br>operands:&nbsp;21<br></td><td><a class=\"ProveItLink\" href=\"../9aa017d91adf68d05723ae7ce3aae01306229f580/expr.ipynb\"><img src=\"../9aa017d91adf68d05723ae7ce3aae01306229f580/expr.png\" style=\"display:inline;vertical-align:middle;\" /></a></td></tr>\n",
       "<tr><td>17</td><td>Operation</td><td>operator:&nbsp;22<br>operands:&nbsp;23<br></td><td><a class=\"ProveItLink\" href=\"../ddb36bbcc32442adbb0adddaeb77ce6d601d8b490/expr.ipynb\"><img src=\"../ddb36bbcc32442adbb0adddaeb77ce6d601d8b490/expr.png\" style=\"display:inline;vertical-align:middle;\" /></a></td></tr>\n",
       "<tr><td>18</td><td>Literal</td><td></td><td><a class=\"ProveItLink\" href=\"../../../../membership/__pv_it/common/477487d8796864d23d5810f83761435f25167f690/expr.ipynb\"><img src=\"../../../../membership/__pv_it/common/477487d8796864d23d5810f83761435f25167f690/expr.png\" style=\"display:inline;vertical-align:middle;\" /></a></td></tr>\n",
       "<tr><td>19</td><td>ExprTuple</td><td>24, 25</td><td><a class=\"ProveItLink\" href=\"../c7c06b26a27420fe15bf7758f31a7b4d4d978d0b0/expr.ipynb\"><img src=\"../c7c06b26a27420fe15bf7758f31a7b4d4d978d0b0/expr.png\" style=\"display:inline;vertical-align:middle;\" /></a></td></tr>\n",
       "<tr><td>20</td><td>Literal</td><td></td><td><a class=\"ProveItLink\" href=\"../../../../../equality/__pv_it/common/d96270bc9bb1bad54f773b1c04bfb343a739642c0/expr.ipynb\"><img src=\"../../../../../equality/__pv_it/common/d96270bc9bb1bad54f773b1c04bfb343a739642c0/expr.png\" style=\"display:inline;vertical-align:middle;\" /></a></td></tr>\n",
       "<tr><td>21</td><td>ExprTuple</td><td>24, 29</td><td><a class=\"ProveItLink\" href=\"../bbaa48af4605eceb7fbc4af345a1eb6de480e1c50/expr.ipynb\"><img src=\"../bbaa48af4605eceb7fbc4af345a1eb6de480e1c50/expr.png\" style=\"display:inline;vertical-align:middle;\" /></a></td></tr>\n",
       "<tr><td>22</td><td>Literal</td><td></td><td><a class=\"ProveItLink\" href=\"../../common/d9e1054b3adbded49b41c35ae8486f4f2c89b6ef0/expr.ipynb\"><img src=\"../../common/d9e1054b3adbded49b41c35ae8486f4f2c89b6ef0/expr.png\" style=\"display:inline;vertical-align:middle;\" /></a></td></tr>\n",
       "<tr><td>23</td><td>ExprTuple</td><td>25, 26</td><td><a class=\"ProveItLink\" href=\"../7b98bf480b4295d4d7cf4707db34ee9c60f3f6e30/expr.ipynb\"><img src=\"../7b98bf480b4295d4d7cf4707db34ee9c60f3f6e30/expr.png\" style=\"display:inline;vertical-align:middle;\" /></a></td></tr>\n",
       "<tr><td>24</td><td>Variable</td><td></td><td><a class=\"ProveItLink\" href=\"../../../../../../__pv_it/common/a0d9d672aa5e272d907247690c152cc2c6daafb70/expr.ipynb\"><img src=\"../../../../../../__pv_it/common/a0d9d672aa5e272d907247690c152cc2c6daafb70/expr.png\" style=\"display:inline;vertical-align:middle;\" /></a></td></tr>\n",
       "<tr><td>25</td><td>Variable</td><td></td><td><a class=\"ProveItLink\" href=\"../../../../../../__pv_it/common/38f47c5670ea8c5b56253448e95d8afb56bc09b40/expr.ipynb\"><img src=\"../../../../../../__pv_it/common/38f47c5670ea8c5b56253448e95d8afb56bc09b40/expr.png\" style=\"display:inline;vertical-align:middle;\" /></a></td></tr>\n",
       "<tr><td>26</td><td>Operation</td><td>operator:&nbsp;27<br>operand:&nbsp;29<br></td><td><a class=\"ProveItLink\" href=\"../a37e416059380a27d580811a6e8bb5b5329205f10/expr.ipynb\"><img src=\"../a37e416059380a27d580811a6e8bb5b5329205f10/expr.png\" style=\"display:inline;vertical-align:middle;\" /></a></td></tr>\n",
       "<tr><td>27</td><td>Literal</td><td></td><td><a class=\"ProveItLink\" href=\"../../../../enumeration/__pv_it/common/0ead90ccbf4f17bc585a51f8aa904bb77916ae6e0/expr.ipynb\"><img src=\"../../../../enumeration/__pv_it/common/0ead90ccbf4f17bc585a51f8aa904bb77916ae6e0/expr.png\" style=\"display:inline;vertical-align:middle;\" /></a></td></tr>\n",
       "<tr><td>28</td><td>ExprTuple</td><td>29</td><td><a class=\"ProveItLink\" href=\"../c60c4da4d0e362e1aae93eaa5e9af5fbed84db960/expr.ipynb\"><img src=\"../c60c4da4d0e362e1aae93eaa5e9af5fbed84db960/expr.png\" style=\"display:inline;vertical-align:middle;\" /></a></td></tr>\n",
       "<tr><td>29</td><td>Variable</td><td></td><td><a class=\"ProveItLink\" href=\"../../../../../../__pv_it/common/ff7dba4ef0bbe791ab573bf2d9c220a304399ac80/expr.ipynb\"><img src=\"../../../../../../__pv_it/common/ff7dba4ef0bbe791ab573bf2d9c220a304399ac80/expr.png\" style=\"display:inline;vertical-align:middle;\" /></a></td></tr>\n",
       "</table>\n"
      ],
      "text/plain": [
       "0. forall_{S, y} [forall_{x in S - {y}} ((x in S) and (x != y))]\n",
       "   core type: Operation\n",
       "   operator: 5\n",
       "   operand: 2\n",
       "1. ((S, y) -> [forall_{x in S - {y}} ((x in S) and (x != y))])\n",
       "   core type: ExprTuple\n",
       "   sub-expressions: 2\n",
       "2. (S, y) -> [forall_{x in S - {y}} ((x in S) and (x != y))]\n",
       "   core type: Lambda\n",
       "   parameters: 3\\n   body: 4\n",
       "3. (S, y)\n",
       "   core type: ExprTuple\n",
       "   sub-expressions: 25, 29\n",
       "4. forall_{x in S - {y}} ((x in S) and (x != y))\n",
       "   core type: Operation\n",
       "   operator: 5\n",
       "   operand: 7\n",
       "5. forall\n",
       "   core type: Literal\n",
       "   sub-expressions: \n",
       "6. (x -> {(x in S) and (x != y) if x in (S - {y}).)\n",
       "   core type: ExprTuple\n",
       "   sub-expressions: 7\n",
       "7. x -> {(x in S) and (x != y) if x in (S - {y}).\n",
       "   core type: Lambda\n",
       "   parameter: 24\n",
       "   body: 9\n",
       "8. (x)\n",
       "   core type: ExprTuple\n",
       "   sub-expressions: 24\n",
       "9. {(x in S) and (x != y) if x in (S - {y}).\n",
       "   core type: Conditional\n",
       "   value: 10\n",
       "   condition: 11\n",
       "10. (x in S) and (x != y)\n",
       "    core type: Operation\n",
       "    operator: 12\n",
       "    operands: 13\n",
       "11. x in (S - {y})\n",
       "    core type: Operation\n",
       "    operator: 18\n",
       "    operands: 14\n",
       "12. and\n",
       "    core type: Literal\n",
       "    sub-expressions: \n",
       "13. (x in S, x != y)\n",
       "    core type: ExprTuple\n",
       "    sub-expressions: 15, 16\n",
       "14. (x, S - {y})\n",
       "    core type: ExprTuple\n",
       "    sub-expressions: 24, 17\n",
       "15. x in S\n",
       "    core type: Operation\n",
       "    operator: 18\n",
       "    operands: 19\n",
       "16. x != y\n",
       "    core type: Operation\n",
       "    operator: 20\n",
       "    operands: 21\n",
       "17. S - {y}\n",
       "    core type: Operation\n",
       "    operator: 22\n",
       "    operands: 23\n",
       "18. in\n",
       "    core type: Literal\n",
       "    sub-expressions: \n",
       "19. (x, S)\n",
       "    core type: ExprTuple\n",
       "    sub-expressions: 24, 25\n",
       "20. !=\n",
       "    core type: Literal\n",
       "    sub-expressions: \n",
       "21. (x, y)\n",
       "    core type: ExprTuple\n",
       "    sub-expressions: 24, 29\n",
       "22. -\n",
       "    core type: Literal\n",
       "    sub-expressions: \n",
       "23. (S, {y})\n",
       "    core type: ExprTuple\n",
       "    sub-expressions: 25, 26\n",
       "24. x\n",
       "    core type: Variable\n",
       "    sub-expressions: \n",
       "25. S\n",
       "    core type: Variable\n",
       "    sub-expressions: \n",
       "26. {y}\n",
       "    core type: Operation\n",
       "    operator: 27\n",
       "    operand: 29\n",
       "27. Set\n",
       "    core type: Literal\n",
       "    sub-expressions: \n",
       "28. (y)\n",
       "    core type: ExprTuple\n",
       "    sub-expressions: 29\n",
       "29. y\n",
       "    core type: Variable\n",
       "    sub-expressions: "
      ]
     },
     "metadata": {},
     "output_type": "display_data"
    }
   ],
   "source": [
    "# display the expression information\n",
    "stored_expr.expr_info()"
   ]
  },
  {
   "cell_type": "code",
   "execution_count": null,
   "metadata": {},
   "outputs": [],
   "source": []
  }
 ],
 "metadata": {
  "kernelspec": {
   "display_name": "Python 3",
   "language": "python",
   "name": "python3"
  }
 },
 "nbformat": 4,
 "nbformat_minor": 0
}