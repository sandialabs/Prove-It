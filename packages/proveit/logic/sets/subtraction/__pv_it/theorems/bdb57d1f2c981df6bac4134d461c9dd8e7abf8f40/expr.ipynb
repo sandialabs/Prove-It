{
 "cells": [
  {
   "cell_type": "markdown",
   "metadata": {},
   "source": [
    "Expression of type <a class=\"ProveItLink\" href=\"../../../../../../../../doc/html/api/proveit.ExprTuple.html\">ExprTuple</a>\n",
    "=======================\n",
    "# from the theory of <a class=\"ProveItLink\" href=\"../../../_theory_nbs_/theory.ipynb\">proveit.logic.sets.subtraction</a>"
   ]
  },
  {
   "cell_type": "code",
   "execution_count": 1,
   "metadata": {},
   "outputs": [],
   "source": [
    "import proveit\n",
    "# Automation is not needed when building an expression:\n",
    "proveit.defaults.automation = False # This will speed things up.\n",
    "proveit.defaults.inline_pngs = False # Makes files smaller.\n",
    "%load_expr # Load the stored expression as 'stored_expr'\n",
    "# import Expression classes needed to build the expression\n",
    "from proveit import ExprTuple, Lambda, S, x, y\n",
    "from proveit.logic import Difference, Equals, Forall, NotInSet, Or, Set"
   ]
  },
  {
   "cell_type": "code",
   "execution_count": 2,
   "metadata": {},
   "outputs": [
    {
     "data": {
      "text/html": [
       "<strong id=\"expr\">expr:</strong> <a class=\"ProveItLink\" href=\"expr.ipynb\"><img src=\"expr.png\" style=\"display:inline;vertical-align:middle;\" /></a><br>"
      ],
      "text/plain": [
       "<IPython.core.display.HTML object>"
      ]
     },
     "metadata": {},
     "output_type": "display_data"
    }
   ],
   "source": [
    "# build up the expression from sub-expressions\n",
    "expr = ExprTuple(Lambda([S, y], Forall(instance_param_or_params = [x], instance_expr = NotInSet(x, Difference(S, Set(y))), condition = Or(NotInSet(x, S), Equals(x, y)))))"
   ]
  },
  {
   "cell_type": "code",
   "execution_count": 3,
   "metadata": {},
   "outputs": [
    {
     "name": "stdout",
     "output_type": "stream",
     "text": [
      "Passed sanity check: expr matches stored_expr\n"
     ]
    }
   ],
   "source": [
    "# check that the built expression is the same as the stored expression\n",
    "assert expr == stored_expr\n",
    "assert expr._style_id == stored_expr._style_id\n",
    "print(\"Passed sanity check: expr matches stored_expr\")"
   ]
  },
  {
   "cell_type": "code",
   "execution_count": 4,
   "metadata": {},
   "outputs": [
    {
     "name": "stdout",
     "output_type": "stream",
     "text": [
      "\\left(\\left(S, y\\right) \\mapsto \\left[\\forall_{x~|~\\left(x \\notin S\\right) \\lor \\left(x = y\\right)}~\\left(x \\notin \\left(S - \\left\\{y\\right\\}\\right)\\right)\\right]\\right)\n"
     ]
    }
   ],
   "source": [
    "# Show the LaTeX representation of the expression for convenience if you need it.\n",
    "print(stored_expr.latex())"
   ]
  },
  {
   "cell_type": "code",
   "execution_count": 5,
   "metadata": {},
   "outputs": [
    {
     "data": {
      "text/html": [
       "no style options"
      ],
      "text/plain": [
       "no style options"
      ]
     },
     "metadata": {},
     "output_type": "display_data"
    }
   ],
   "source": [
    "stored_expr.style_options()"
   ]
  },
  {
   "cell_type": "code",
   "execution_count": 6,
   "metadata": {},
   "outputs": [
    {
     "data": {
      "text/html": [
       "<table><tr><th>&nbsp;</th><th>core type</th><th>sub-expressions</th><th>expression</th></tr>\n",
       "<tr><td>0</td><td>ExprTuple</td><td>1</td><td><a class=\"ProveItLink\" href=\"expr.ipynb\"><img src=\"expr.png\" style=\"display:inline;vertical-align:middle;\" /></a></td></tr>\n",
       "<tr><td>1</td><td>Lambda</td><td>parameters:&nbsp;2<br>body:&nbsp;3<br></td><td><a class=\"ProveItLink\" href=\"../5e7a3743134bbb695d79f8533df63638e8b87da80/expr.ipynb\"><img src=\"../5e7a3743134bbb695d79f8533df63638e8b87da80/expr.png\" style=\"display:inline;vertical-align:middle;\" /></a></td></tr>\n",
       "<tr><td>2</td><td>ExprTuple</td><td>24, 28</td><td><a class=\"ProveItLink\" href=\"../ab9d3a72dabf094b056c4662126fe8de38c0a3c50/expr.ipynb\"><img src=\"../ab9d3a72dabf094b056c4662126fe8de38c0a3c50/expr.png\" style=\"display:inline;vertical-align:middle;\" /></a></td></tr>\n",
       "<tr><td>3</td><td>Operation</td><td>operator:&nbsp;4<br>operand:&nbsp;6<br></td><td><a class=\"ProveItLink\" href=\"../65ae0aa6e44acb3dc867587cfa8b16cabd1a1ad00/expr.ipynb\"><img src=\"../65ae0aa6e44acb3dc867587cfa8b16cabd1a1ad00/expr.png\" style=\"display:inline;vertical-align:middle;\" /></a></td></tr>\n",
       "<tr><td>4</td><td>Literal</td><td></td><td><a class=\"ProveItLink\" href=\"../../../../../booleans/quantification/universality/__pv_it/common/083d2baa0b8ecab1d230f9ec29a15aa1355809fb0/expr.ipynb\"><img src=\"../../../../../booleans/quantification/universality/__pv_it/common/083d2baa0b8ecab1d230f9ec29a15aa1355809fb0/expr.png\" style=\"display:inline;vertical-align:middle;\" /></a></td></tr>\n",
       "<tr><td>5</td><td>ExprTuple</td><td>6</td><td><a class=\"ProveItLink\" href=\"../5a07009a0f395f3a2366e51ba9363116adfc32ac0/expr.ipynb\"><img src=\"../5a07009a0f395f3a2366e51ba9363116adfc32ac0/expr.png\" style=\"display:inline;vertical-align:middle;\" /></a></td></tr>\n",
       "<tr><td>6</td><td>Lambda</td><td>parameter:&nbsp;25<br>body:&nbsp;8<br></td><td><a class=\"ProveItLink\" href=\"../3eef5957e612fe39603259e73c9b2135736a65020/expr.ipynb\"><img src=\"../3eef5957e612fe39603259e73c9b2135736a65020/expr.png\" style=\"display:inline;vertical-align:middle;\" /></a></td></tr>\n",
       "<tr><td>7</td><td>ExprTuple</td><td>25</td><td><a class=\"ProveItLink\" href=\"../../../../../../__pv_it/common/eacfeccc0521684fcb20fe8f5180ac50fca471f20/expr.ipynb\"><img src=\"../../../../../../__pv_it/common/eacfeccc0521684fcb20fe8f5180ac50fca471f20/expr.png\" style=\"display:inline;vertical-align:middle;\" /></a></td></tr>\n",
       "<tr><td>8</td><td>Conditional</td><td>value:&nbsp;9<br>condition:&nbsp;10<br></td><td><a class=\"ProveItLink\" href=\"../f028129d69585bd82d7fc232c6bc4666456154870/expr.ipynb\"><img src=\"../f028129d69585bd82d7fc232c6bc4666456154870/expr.png\" style=\"display:inline;vertical-align:middle;\" /></a></td></tr>\n",
       "<tr><td>9</td><td>Operation</td><td>operator:&nbsp;19<br>operands:&nbsp;11<br></td><td><a class=\"ProveItLink\" href=\"../0380d22545e91baad17b85da7a1baf0ff6333f230/expr.ipynb\"><img src=\"../0380d22545e91baad17b85da7a1baf0ff6333f230/expr.png\" style=\"display:inline;vertical-align:middle;\" /></a></td></tr>\n",
       "<tr><td>10</td><td>Operation</td><td>operator:&nbsp;12<br>operands:&nbsp;13<br></td><td><a class=\"ProveItLink\" href=\"../96ef01b0d960908ca74ab0b20c87be7dab8952ce0/expr.ipynb\"><img src=\"../96ef01b0d960908ca74ab0b20c87be7dab8952ce0/expr.png\" style=\"display:inline;vertical-align:middle;\" /></a></td></tr>\n",
       "<tr><td>11</td><td>ExprTuple</td><td>25, 14</td><td><a class=\"ProveItLink\" href=\"../4af16fe6f3fbfaa41ee2552a0a67c5cc1befa0f80/expr.ipynb\"><img src=\"../4af16fe6f3fbfaa41ee2552a0a67c5cc1befa0f80/expr.png\" style=\"display:inline;vertical-align:middle;\" /></a></td></tr>\n",
       "<tr><td>12</td><td>Literal</td><td></td><td><a class=\"ProveItLink\" href=\"../../../../../booleans/disjunction/__pv_it/common/ef8e59262ff8e0133aa1ca984dd6b3a41bf69d5b0/expr.ipynb\"><img src=\"../../../../../booleans/disjunction/__pv_it/common/ef8e59262ff8e0133aa1ca984dd6b3a41bf69d5b0/expr.png\" style=\"display:inline;vertical-align:middle;\" /></a></td></tr>\n",
       "<tr><td>13</td><td>ExprTuple</td><td>15, 16</td><td><a class=\"ProveItLink\" href=\"../c2d1a7c95719f5813b9c3fd57fdcfcfc614b42e10/expr.ipynb\"><img src=\"../c2d1a7c95719f5813b9c3fd57fdcfcfc614b42e10/expr.png\" style=\"display:inline;vertical-align:middle;\" /></a></td></tr>\n",
       "<tr><td>14</td><td>Operation</td><td>operator:&nbsp;17<br>operands:&nbsp;18<br></td><td><a class=\"ProveItLink\" href=\"../ddb36bbcc32442adbb0adddaeb77ce6d601d8b490/expr.ipynb\"><img src=\"../ddb36bbcc32442adbb0adddaeb77ce6d601d8b490/expr.png\" style=\"display:inline;vertical-align:middle;\" /></a></td></tr>\n",
       "<tr><td>15</td><td>Operation</td><td>operator:&nbsp;19<br>operands:&nbsp;20<br></td><td><a class=\"ProveItLink\" href=\"../2e8161a43946970c0c43dfb46abce1c0992ef1460/expr.ipynb\"><img src=\"../2e8161a43946970c0c43dfb46abce1c0992ef1460/expr.png\" style=\"display:inline;vertical-align:middle;\" /></a></td></tr>\n",
       "<tr><td>16</td><td>Operation</td><td>operator:&nbsp;21<br>operands:&nbsp;22<br></td><td><a class=\"ProveItLink\" href=\"../680522f9aa82e4bb4cad5aa4dcd4f7121ab952350/expr.ipynb\"><img src=\"../680522f9aa82e4bb4cad5aa4dcd4f7121ab952350/expr.png\" style=\"display:inline;vertical-align:middle;\" /></a></td></tr>\n",
       "<tr><td>17</td><td>Literal</td><td></td><td><a class=\"ProveItLink\" href=\"../../common/d9e1054b3adbded49b41c35ae8486f4f2c89b6ef0/expr.ipynb\"><img src=\"../../common/d9e1054b3adbded49b41c35ae8486f4f2c89b6ef0/expr.png\" style=\"display:inline;vertical-align:middle;\" /></a></td></tr>\n",
       "<tr><td>18</td><td>ExprTuple</td><td>24, 23</td><td><a class=\"ProveItLink\" href=\"../7b98bf480b4295d4d7cf4707db34ee9c60f3f6e30/expr.ipynb\"><img src=\"../7b98bf480b4295d4d7cf4707db34ee9c60f3f6e30/expr.png\" style=\"display:inline;vertical-align:middle;\" /></a></td></tr>\n",
       "<tr><td>19</td><td>Literal</td><td></td><td><a class=\"ProveItLink\" href=\"../../../../membership/__pv_it/common/f4affea88ec78899b0259567586c16d1e6a484950/expr.ipynb\"><img src=\"../../../../membership/__pv_it/common/f4affea88ec78899b0259567586c16d1e6a484950/expr.png\" style=\"display:inline;vertical-align:middle;\" /></a></td></tr>\n",
       "<tr><td>20</td><td>ExprTuple</td><td>25, 24</td><td><a class=\"ProveItLink\" href=\"../c7c06b26a27420fe15bf7758f31a7b4d4d978d0b0/expr.ipynb\"><img src=\"../c7c06b26a27420fe15bf7758f31a7b4d4d978d0b0/expr.png\" style=\"display:inline;vertical-align:middle;\" /></a></td></tr>\n",
       "<tr><td>21</td><td>Literal</td><td></td><td><a class=\"ProveItLink\" href=\"../../../../../equality/__pv_it/common/fb96dc12b2aa8801dda64d0132b396c63d1502bb0/expr.ipynb\"><img src=\"../../../../../equality/__pv_it/common/fb96dc12b2aa8801dda64d0132b396c63d1502bb0/expr.png\" style=\"display:inline;vertical-align:middle;\" /></a></td></tr>\n",
       "<tr><td>22</td><td>ExprTuple</td><td>25, 28</td><td><a class=\"ProveItLink\" href=\"../bbaa48af4605eceb7fbc4af345a1eb6de480e1c50/expr.ipynb\"><img src=\"../bbaa48af4605eceb7fbc4af345a1eb6de480e1c50/expr.png\" style=\"display:inline;vertical-align:middle;\" /></a></td></tr>\n",
       "<tr><td>23</td><td>Operation</td><td>operator:&nbsp;26<br>operand:&nbsp;28<br></td><td><a class=\"ProveItLink\" href=\"../a37e416059380a27d580811a6e8bb5b5329205f10/expr.ipynb\"><img src=\"../a37e416059380a27d580811a6e8bb5b5329205f10/expr.png\" style=\"display:inline;vertical-align:middle;\" /></a></td></tr>\n",
       "<tr><td>24</td><td>Variable</td><td></td><td><a class=\"ProveItLink\" href=\"../../../../../../__pv_it/common/38f47c5670ea8c5b56253448e95d8afb56bc09b40/expr.ipynb\"><img src=\"../../../../../../__pv_it/common/38f47c5670ea8c5b56253448e95d8afb56bc09b40/expr.png\" style=\"display:inline;vertical-align:middle;\" /></a></td></tr>\n",
       "<tr><td>25</td><td>Variable</td><td></td><td><a class=\"ProveItLink\" href=\"../../../../../../__pv_it/common/a0d9d672aa5e272d907247690c152cc2c6daafb70/expr.ipynb\"><img src=\"../../../../../../__pv_it/common/a0d9d672aa5e272d907247690c152cc2c6daafb70/expr.png\" style=\"display:inline;vertical-align:middle;\" /></a></td></tr>\n",
       "<tr><td>26</td><td>Literal</td><td></td><td><a class=\"ProveItLink\" href=\"../../../../enumeration/__pv_it/common/0ead90ccbf4f17bc585a51f8aa904bb77916ae6e0/expr.ipynb\"><img src=\"../../../../enumeration/__pv_it/common/0ead90ccbf4f17bc585a51f8aa904bb77916ae6e0/expr.png\" style=\"display:inline;vertical-align:middle;\" /></a></td></tr>\n",
       "<tr><td>27</td><td>ExprTuple</td><td>28</td><td><a class=\"ProveItLink\" href=\"../c60c4da4d0e362e1aae93eaa5e9af5fbed84db960/expr.ipynb\"><img src=\"../c60c4da4d0e362e1aae93eaa5e9af5fbed84db960/expr.png\" style=\"display:inline;vertical-align:middle;\" /></a></td></tr>\n",
       "<tr><td>28</td><td>Variable</td><td></td><td><a class=\"ProveItLink\" href=\"../../../../../../__pv_it/common/ff7dba4ef0bbe791ab573bf2d9c220a304399ac80/expr.ipynb\"><img src=\"../../../../../../__pv_it/common/ff7dba4ef0bbe791ab573bf2d9c220a304399ac80/expr.png\" style=\"display:inline;vertical-align:middle;\" /></a></td></tr>\n",
       "</table>\n"
      ],
      "text/plain": [
       "0. ((S, y) -> [forall_{x | (x not-in S) or (x = y)} (x not-in (S - {y}))])\n",
       "   core type: ExprTuple\n",
       "   sub-expressions: 1\n",
       "1. (S, y) -> [forall_{x | (x not-in S) or (x = y)} (x not-in (S - {y}))]\n",
       "   core type: Lambda\n",
       "   parameters: 2\\n   body: 3\n",
       "2. (S, y)\n",
       "   core type: ExprTuple\n",
       "   sub-expressions: 24, 28\n",
       "3. forall_{x | (x not-in S) or (x = y)} (x not-in (S - {y}))\n",
       "   core type: Operation\n",
       "   operator: 4\n",
       "   operand: 6\n",
       "4. forall\n",
       "   core type: Literal\n",
       "   sub-expressions: \n",
       "5. (x -> {x not-in (S - {y}) if (x not-in S) or (x = y).)\n",
       "   core type: ExprTuple\n",
       "   sub-expressions: 6\n",
       "6. x -> {x not-in (S - {y}) if (x not-in S) or (x = y).\n",
       "   core type: Lambda\n",
       "   parameter: 25\n",
       "   body: 8\n",
       "7. (x)\n",
       "   core type: ExprTuple\n",
       "   sub-expressions: 25\n",
       "8. {x not-in (S - {y}) if (x not-in S) or (x = y).\n",
       "   core type: Conditional\n",
       "   value: 9\n",
       "   condition: 10\n",
       "9. x not-in (S - {y})\n",
       "   core type: Operation\n",
       "   operator: 19\n",
       "   operands: 11\n",
       "10. (x not-in S) or (x = y)\n",
       "    core type: Operation\n",
       "    operator: 12\n",
       "    operands: 13\n",
       "11. (x, S - {y})\n",
       "    core type: ExprTuple\n",
       "    sub-expressions: 25, 14\n",
       "12. or\n",
       "    core type: Literal\n",
       "    sub-expressions: \n",
       "13. (x not-in S, x = y)\n",
       "    core type: ExprTuple\n",
       "    sub-expressions: 15, 16\n",
       "14. S - {y}\n",
       "    core type: Operation\n",
       "    operator: 17\n",
       "    operands: 18\n",
       "15. x not-in S\n",
       "    core type: Operation\n",
       "    operator: 19\n",
       "    operands: 20\n",
       "16. x = y\n",
       "    core type: Operation\n",
       "    operator: 21\n",
       "    operands: 22\n",
       "17. -\n",
       "    core type: Literal\n",
       "    sub-expressions: \n",
       "18. (S, {y})\n",
       "    core type: ExprTuple\n",
       "    sub-expressions: 24, 23\n",
       "19. not-in\n",
       "    core type: Literal\n",
       "    sub-expressions: \n",
       "20. (x, S)\n",
       "    core type: ExprTuple\n",
       "    sub-expressions: 25, 24\n",
       "21. =\n",
       "    core type: Literal\n",
       "    sub-expressions: \n",
       "22. (x, y)\n",
       "    core type: ExprTuple\n",
       "    sub-expressions: 25, 28\n",
       "23. {y}\n",
       "    core type: Operation\n",
       "    operator: 26\n",
       "    operand: 28\n",
       "24. S\n",
       "    core type: Variable\n",
       "    sub-expressions: \n",
       "25. x\n",
       "    core type: Variable\n",
       "    sub-expressions: \n",
       "26. Set\n",
       "    core type: Literal\n",
       "    sub-expressions: \n",
       "27. (y)\n",
       "    core type: ExprTuple\n",
       "    sub-expressions: 28\n",
       "28. y\n",
       "    core type: Variable\n",
       "    sub-expressions: "
      ]
     },
     "metadata": {},
     "output_type": "display_data"
    }
   ],
   "source": [
    "# display the expression information\n",
    "stored_expr.expr_info()"
   ]
  },
  {
   "cell_type": "code",
   "execution_count": null,
   "metadata": {},
   "outputs": [],
   "source": []
  }
 ],
 "metadata": {
  "kernelspec": {
   "display_name": "Python 3",
   "language": "python",
   "name": "python3"
  }
 },
 "nbformat": 4,
 "nbformat_minor": 0
}