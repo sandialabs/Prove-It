{
 "cells": [
  {
   "cell_type": "markdown",
   "metadata": {},
   "source": [
    "Expression of type <a class=\"ProveItLink\" href=\"../../../../../../../../doc/html/api/proveit.ExprTuple.html\">ExprTuple</a>\n",
    "=======================\n",
    "# from the theory of <a class=\"ProveItLink\" href=\"../../../_theory_nbs_/theory.ipynb\">proveit.logic.sets.subtraction</a>"
   ]
  },
  {
   "cell_type": "code",
   "execution_count": 1,
   "metadata": {},
   "outputs": [],
   "source": [
    "import proveit\n",
    "# Automation is not needed when building an expression:\n",
    "proveit.defaults.automation = False # This will speed things up.\n",
    "proveit.defaults.inline_pngs = False # Makes files smaller.\n",
    "%load_expr # Load the stored expression as 'stored_expr'\n",
    "# import Expression classes needed to build the expression\n",
    "from proveit import ExprTuple\n",
    "from proveit.logic import Difference, Set\n",
    "from proveit.numbers import Add, five, four, one, three, two"
   ]
  },
  {
   "cell_type": "code",
   "execution_count": 2,
   "metadata": {},
   "outputs": [
    {
     "data": {
      "text/html": [
       "<strong id=\"expr\">expr:</strong> <a class=\"ProveItLink\" href=\"expr.ipynb\"><img src=\"expr.png\" style=\"display:inline;vertical-align:middle;\" /></a><br>"
      ],
      "text/plain": [
       "<IPython.core.display.HTML object>"
      ]
     },
     "metadata": {},
     "output_type": "display_data"
    }
   ],
   "source": [
    "# build up the expression from sub-expressions\n",
    "sub_expr1 = Set(one, two, three, four, five)\n",
    "expr = ExprTuple(Difference(sub_expr1, Set(one, three)), Difference(sub_expr1, Set(one, Add(one, two))))"
   ]
  },
  {
   "cell_type": "code",
   "execution_count": 3,
   "metadata": {},
   "outputs": [
    {
     "name": "stdout",
     "output_type": "stream",
     "text": [
      "Passed sanity check: expr matches stored_expr\n"
     ]
    }
   ],
   "source": [
    "# check that the built expression is the same as the stored expression\n",
    "assert expr == stored_expr\n",
    "assert expr._style_id == stored_expr._style_id\n",
    "print(\"Passed sanity check: expr matches stored_expr\")"
   ]
  },
  {
   "cell_type": "code",
   "execution_count": 4,
   "metadata": {},
   "outputs": [
    {
     "name": "stdout",
     "output_type": "stream",
     "text": [
      "\\left(\\left\\{1, 2, 3, 4, 5\\right\\} - \\left\\{1, 3\\right\\}, \\left\\{1, 2, 3, 4, 5\\right\\} - \\left\\{1, 1 + 2\\right\\}\\right)\n"
     ]
    }
   ],
   "source": [
    "# Show the LaTeX representation of the expression for convenience if you need it.\n",
    "print(stored_expr.latex())"
   ]
  },
  {
   "cell_type": "code",
   "execution_count": 5,
   "metadata": {},
   "outputs": [
    {
     "data": {
      "text/html": [
       "<table>\n",
       "<tr><th>name</th><th>description</th><th>default</th><th>current value</th><th>related methods</th></tr><tr><td>wrap_positions</td><td>position(s) at which wrapping is to occur; 'n' is after the nth comma.</td><td>()</td><td>()</td><td>('with_wrapping_at',)</td></tr>\n",
       "<tr><td>justification</td><td>if any wrap positions are set, justify to the 'left', 'center', or 'right'</td><td>left</td><td>left</td><td>('with_justification',)</td></tr>\n",
       "</table>\n"
      ],
      "text/plain": [
       "style name: wrap_positions\n",
       "description: position(s) at which wrapping is to occur; 'n' is after the nth comma.\n",
       "default: ()\n",
       "current value: ()\n",
       "related methods: ('with_wrapping_at',)\n",
       "style name: justification\n",
       "description: if any wrap positions are set, justify to the 'left', 'center', or 'right'\n",
       "default: left\n",
       "current value: left\n",
       "related methods: ('with_justification',)"
      ]
     },
     "metadata": {},
     "output_type": "display_data"
    }
   ],
   "source": [
    "stored_expr.style_options()"
   ]
  },
  {
   "cell_type": "code",
   "execution_count": 6,
   "metadata": {},
   "outputs": [
    {
     "data": {
      "text/html": [
       "<table><tr><th>&nbsp;</th><th>core type</th><th>sub-expressions</th><th>expression</th></tr>\n",
       "<tr><td>0</td><td>ExprTuple</td><td>1, 2</td><td><a class=\"ProveItLink\" href=\"expr.ipynb\"><img src=\"expr.png\" style=\"display:inline;vertical-align:middle;\" /></a></td></tr>\n",
       "<tr><td>1</td><td>Operation</td><td>operator:&nbsp;4<br>operands:&nbsp;3<br></td><td><a class=\"ProveItLink\" href=\"../9edc7807c0fbe5f2369f2ff00f96fdc77ee1dad50/expr.ipynb\"><img src=\"../9edc7807c0fbe5f2369f2ff00f96fdc77ee1dad50/expr.png\" style=\"display:inline;vertical-align:middle;\" /></a></td></tr>\n",
       "<tr><td>2</td><td>Operation</td><td>operator:&nbsp;4<br>operands:&nbsp;5<br></td><td><a class=\"ProveItLink\" href=\"../9e1bd5eaa58b5da0a3d153b52bf04540f33c49c90/expr.ipynb\"><img src=\"../9e1bd5eaa58b5da0a3d153b52bf04540f33c49c90/expr.png\" style=\"display:inline;vertical-align:middle;\" /></a></td></tr>\n",
       "<tr><td>3</td><td>ExprTuple</td><td>7, 6</td><td><a class=\"ProveItLink\" href=\"../f682fbc0f7b75f7c9e3f152d48348ac8bc8bd15a0/expr.ipynb\"><img src=\"../f682fbc0f7b75f7c9e3f152d48348ac8bc8bd15a0/expr.png\" style=\"display:inline;vertical-align:middle;\" /></a></td></tr>\n",
       "<tr><td>4</td><td>Literal</td><td></td><td><a class=\"ProveItLink\" href=\"../../common/d9e1054b3adbded49b41c35ae8486f4f2c89b6ef0/expr.ipynb\"><img src=\"../../common/d9e1054b3adbded49b41c35ae8486f4f2c89b6ef0/expr.png\" style=\"display:inline;vertical-align:middle;\" /></a></td></tr>\n",
       "<tr><td>5</td><td>ExprTuple</td><td>7, 8</td><td><a class=\"ProveItLink\" href=\"../d5069eb264cb89c8142e5da993914cce523c735a0/expr.ipynb\"><img src=\"../d5069eb264cb89c8142e5da993914cce523c735a0/expr.png\" style=\"display:inline;vertical-align:middle;\" /></a></td></tr>\n",
       "<tr><td>6</td><td>Operation</td><td>operator:&nbsp;11<br>operands:&nbsp;9<br></td><td><a class=\"ProveItLink\" href=\"../3f79a4677e328d739f84461e4954de52d087969a0/expr.ipynb\"><img src=\"../3f79a4677e328d739f84461e4954de52d087969a0/expr.png\" style=\"display:inline;vertical-align:middle;\" /></a></td></tr>\n",
       "<tr><td>7</td><td>Operation</td><td>operator:&nbsp;11<br>operands:&nbsp;10<br></td><td><a class=\"ProveItLink\" href=\"../12dc3bbdd186bc7f3c4f78b4ed0f0166715fdfe40/expr.ipynb\"><img src=\"../12dc3bbdd186bc7f3c4f78b4ed0f0166715fdfe40/expr.png\" style=\"display:inline;vertical-align:middle;\" /></a></td></tr>\n",
       "<tr><td>8</td><td>Operation</td><td>operator:&nbsp;11<br>operands:&nbsp;12<br></td><td><a class=\"ProveItLink\" href=\"../52a3e87885264d1502bea9a1973cc72d7f5c2fe60/expr.ipynb\"><img src=\"../52a3e87885264d1502bea9a1973cc72d7f5c2fe60/expr.png\" style=\"display:inline;vertical-align:middle;\" /></a></td></tr>\n",
       "<tr><td>9</td><td>ExprTuple</td><td>19, 13</td><td><a class=\"ProveItLink\" href=\"../7818a612e3a13034f9173d608653609e4f92ad0f0/expr.ipynb\"><img src=\"../7818a612e3a13034f9173d608653609e4f92ad0f0/expr.png\" style=\"display:inline;vertical-align:middle;\" /></a></td></tr>\n",
       "<tr><td>10</td><td>ExprTuple</td><td>19, 20, 13, 14, 15</td><td><a class=\"ProveItLink\" href=\"../6c2413de4348900803604c72e69661f94c01f7220/expr.ipynb\"><img src=\"../6c2413de4348900803604c72e69661f94c01f7220/expr.png\" style=\"display:inline;vertical-align:middle;\" /></a></td></tr>\n",
       "<tr><td>11</td><td>Literal</td><td></td><td><a class=\"ProveItLink\" href=\"../../../../enumeration/__pv_it/common/0ead90ccbf4f17bc585a51f8aa904bb77916ae6e0/expr.ipynb\"><img src=\"../../../../enumeration/__pv_it/common/0ead90ccbf4f17bc585a51f8aa904bb77916ae6e0/expr.png\" style=\"display:inline;vertical-align:middle;\" /></a></td></tr>\n",
       "<tr><td>12</td><td>ExprTuple</td><td>19, 16</td><td><a class=\"ProveItLink\" href=\"../351bf7b2e3345996661c2344115a94363950cf870/expr.ipynb\"><img src=\"../351bf7b2e3345996661c2344115a94363950cf870/expr.png\" style=\"display:inline;vertical-align:middle;\" /></a></td></tr>\n",
       "<tr><td>13</td><td>Literal</td><td></td><td><a class=\"ProveItLink\" href=\"../../../../../../numbers/numerals/__pv_it/common/1943b60945420e340d305780feff5c1aff2740ff0/expr.ipynb\"><img src=\"../../../../../../numbers/numerals/__pv_it/common/1943b60945420e340d305780feff5c1aff2740ff0/expr.png\" style=\"display:inline;vertical-align:middle;\" /></a></td></tr>\n",
       "<tr><td>14</td><td>Literal</td><td></td><td><a class=\"ProveItLink\" href=\"../../../../../../numbers/numerals/__pv_it/common/48a1d915c1e9490b9a94e5c77a208938d3ee20ce0/expr.ipynb\"><img src=\"../../../../../../numbers/numerals/__pv_it/common/48a1d915c1e9490b9a94e5c77a208938d3ee20ce0/expr.png\" style=\"display:inline;vertical-align:middle;\" /></a></td></tr>\n",
       "<tr><td>15</td><td>Literal</td><td></td><td><a class=\"ProveItLink\" href=\"../../../../../../numbers/numerals/__pv_it/common/16e9923976ab933f6783588485130530d25dafab0/expr.ipynb\"><img src=\"../../../../../../numbers/numerals/__pv_it/common/16e9923976ab933f6783588485130530d25dafab0/expr.png\" style=\"display:inline;vertical-align:middle;\" /></a></td></tr>\n",
       "<tr><td>16</td><td>Operation</td><td>operator:&nbsp;17<br>operands:&nbsp;18<br></td><td><a class=\"ProveItLink\" href=\"../bdee42688e41f35fb33e084a13258b338e0811f90/expr.ipynb\"><img src=\"../bdee42688e41f35fb33e084a13258b338e0811f90/expr.png\" style=\"display:inline;vertical-align:middle;\" /></a></td></tr>\n",
       "<tr><td>17</td><td>Literal</td><td></td><td><a class=\"ProveItLink\" href=\"../../../../../../numbers/addition/__pv_it/common/4b7effaab3619a1c2c38fe2dee8601df8ec714590/expr.ipynb\"><img src=\"../../../../../../numbers/addition/__pv_it/common/4b7effaab3619a1c2c38fe2dee8601df8ec714590/expr.png\" style=\"display:inline;vertical-align:middle;\" /></a></td></tr>\n",
       "<tr><td>18</td><td>ExprTuple</td><td>19, 20</td><td><a class=\"ProveItLink\" href=\"../../../../../../numbers/numerals/decimals/__pv_it/theorems/df23a04353373623cccbfda09b61e0f594aa791a0/expr.ipynb\"><img src=\"../../../../../../numbers/numerals/decimals/__pv_it/theorems/df23a04353373623cccbfda09b61e0f594aa791a0/expr.png\" style=\"display:inline;vertical-align:middle;\" /></a></td></tr>\n",
       "<tr><td>19</td><td>Literal</td><td></td><td><a class=\"ProveItLink\" href=\"../../../../../../numbers/numerals/__pv_it/common/682157d4892d216d9e5626ed533aff9b56b9506e0/expr.ipynb\"><img src=\"../../../../../../numbers/numerals/__pv_it/common/682157d4892d216d9e5626ed533aff9b56b9506e0/expr.png\" style=\"display:inline;vertical-align:middle;\" /></a></td></tr>\n",
       "<tr><td>20</td><td>Literal</td><td></td><td><a class=\"ProveItLink\" href=\"../../../../../../numbers/numerals/__pv_it/common/af4aab8a07465db063742696e006d04670f30cf10/expr.ipynb\"><img src=\"../../../../../../numbers/numerals/__pv_it/common/af4aab8a07465db063742696e006d04670f30cf10/expr.png\" style=\"display:inline;vertical-align:middle;\" /></a></td></tr>\n",
       "</table>\n"
      ],
      "text/plain": [
       "0. ({1, 2, 3, 4, 5} - {1, 3}, {1, 2, 3, 4, 5} - {1, 1 + 2})\n",
       "   core type: ExprTuple\n",
       "   sub-expressions: 1, 2\n",
       "1. {1, 2, 3, 4, 5} - {1, 3}\n",
       "   core type: Operation\n",
       "   operator: 4\n",
       "   operands: 3\n",
       "2. {1, 2, 3, 4, 5} - {1, 1 + 2}\n",
       "   core type: Operation\n",
       "   operator: 4\n",
       "   operands: 5\n",
       "3. ({1, 2, 3, 4, 5}, {1, 3})\n",
       "   core type: ExprTuple\n",
       "   sub-expressions: 7, 6\n",
       "4. -\n",
       "   core type: Literal\n",
       "   sub-expressions: \n",
       "5. ({1, 2, 3, 4, 5}, {1, 1 + 2})\n",
       "   core type: ExprTuple\n",
       "   sub-expressions: 7, 8\n",
       "6. {1, 3}\n",
       "   core type: Operation\n",
       "   operator: 11\n",
       "   operands: 9\n",
       "7. {1, 2, 3, 4, 5}\n",
       "   core type: Operation\n",
       "   operator: 11\n",
       "   operands: 10\n",
       "8. {1, 1 + 2}\n",
       "   core type: Operation\n",
       "   operator: 11\n",
       "   operands: 12\n",
       "9. (1, 3)\n",
       "   core type: ExprTuple\n",
       "   sub-expressions: 19, 13\n",
       "10. (1, 2, 3, 4, 5)\n",
       "    core type: ExprTuple\n",
       "    sub-expressions: 19, 20, 13, 14, 15\n",
       "11. Set\n",
       "    core type: Literal\n",
       "    sub-expressions: \n",
       "12. (1, 1 + 2)\n",
       "    core type: ExprTuple\n",
       "    sub-expressions: 19, 16\n",
       "13. 3\n",
       "    core type: Literal\n",
       "    sub-expressions: \n",
       "14. 4\n",
       "    core type: Literal\n",
       "    sub-expressions: \n",
       "15. 5\n",
       "    core type: Literal\n",
       "    sub-expressions: \n",
       "16. 1 + 2\n",
       "    core type: Operation\n",
       "    operator: 17\n",
       "    operands: 18\n",
       "17. +\n",
       "    core type: Literal\n",
       "    sub-expressions: \n",
       "18. (1, 2)\n",
       "    core type: ExprTuple\n",
       "    sub-expressions: 19, 20\n",
       "19. 1\n",
       "    core type: Literal\n",
       "    sub-expressions: \n",
       "20. 2\n",
       "    core type: Literal\n",
       "    sub-expressions: "
      ]
     },
     "metadata": {},
     "output_type": "display_data"
    }
   ],
   "source": [
    "# display the expression information\n",
    "stored_expr.expr_info()"
   ]
  },
  {
   "cell_type": "code",
   "execution_count": null,
   "metadata": {},
   "outputs": [],
   "source": []
  }
 ],
 "metadata": {
  "kernelspec": {
   "display_name": "Python 3",
   "language": "python",
   "name": "python3"
  }
 },
 "nbformat": 4,
 "nbformat_minor": 0
}