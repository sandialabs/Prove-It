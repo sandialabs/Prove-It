{
 "cells": [
  {
   "cell_type": "markdown",
   "metadata": {},
   "source": [
    "Proof of <a class=\"ProveItLink\" href=\"../../../../../../_theory_nbs_/theory.ipynb\">proveit</a>.<a class=\"ProveItLink\" href=\"../../../../../_theory_nbs_/theory.ipynb\">logic</a>.<a class=\"ProveItLink\" href=\"../../../../_theory_nbs_/theory.ipynb\">sets</a>.<a class=\"ProveItLink\" href=\"../../theory.ipynb\">subtraction</a>.<a class=\"ProveItLink\" href=\"../../theorems.ipynb#membership_unfolding\">membership_unfolding</a> theorem\n",
    "========\n",
    "*** see <a href=\"../__pv_it/9bceb393aee24cba97a1db82cc1f39fc094c33800/dependencies.ipynb\" class=\"ProveItLink\">dependencies</a> ***"
   ]
  },
  {
   "cell_type": "code",
   "execution_count": 1,
   "metadata": {},
   "outputs": [
    {
     "data": {
      "text/html": [
       "With these <a href=\"allowed_presumptions.txt\">allowed</a>/<a href=\"disallowed_presumptions.txt\">disallowed</a> theorem/theory presumptions (e.g., to avoid circular dependencies), we begin our proof of<br><strong id=\"membership_unfolding\">membership_unfolding:</strong> <a class=\"ProveItLink\" href=\"../../../__pv_it/theorems/3602f64cf082407d95590efb07a10d7cb60a79a10/expr.ipynb\"><img src=\"data:image/png;base64,iVBORw0KGgoAAAANSUhEUgAAAU8AAAAXCAMAAAC8uT3uAAAAP1BMVEX///8AAAAAAAAAAAAAAAAA\n",
       "AAAAAAAAAAAAAAAAAAAAAAAAAAAAAAAAAAAAAAAAAAAAAAAAAAAAAAAAAAAAAADFBd4eAAAAFHRS\n",
       "TlMAq1RmmUTNIjK7EInv3Xbp8+P3nXbhrUQAAAAJcEhZcwAADsQAAA7EAZUrDhsAAAQdSURBVFjD\n",
       "5ViJktUgEAz3jbry/98qR0gYjiTvWVrPkrJ2djE00Mz0DGzbv9BEZ98d//434s8t7u83j6F9gUie\n",
       "DfOP51g0rpf/VcGLRUc/Jh9KJzbQvtB42NkiD+dYNInav4gKAcXGlWzBs6XsmPtDHVZzaF85iRAW\n",
       "/mXwdI5VO1kqzapsUJAteLIH80J9qHtSAu0rQ1HYnYRQyJ/j0zlWzXUyEkqMs0Bb8GwruQZ/KJ+2\n",
       "s1P1Uy623smMMMWB0mjgoJ4gNptjgf3tO8QmOyzZea3gyZL9aPiH0ok5tLOMwP0sXQi/+VC9hBPo\n",
       "b1JN5lhhIwk70S4j3AoAnq1NR+us+dRwN9Bq75GWpgknsUi+NAlopdGgLvu06eIGe1DXIp8aOQnB\n",
       "s6W5Uy0LAn234VsPE4+xJnUNOPsynUd+o6ekLRIpi6zIUN2EtJykEZiOcyywSbcsGZSPzJ8uX8Gz\n",
       "Faj+mNNpG2eXKlBjqGr9/y6PETbHmmKOh+MwsEQk2YoheMYvX5+zCHVf2PbVj9P9HCvs3v99yXLY\n",
       "kg682OSahq3oMKFNVCQfnbe3fEqPlGI5KlZYM0w2yI5lwCbWKWBQFsGKTcE0QmnM7+rwqUb+Stno\n",
       "+zkW2D++Omxl63YkBC8W+4tsxKRtvR2VAiHc8UmpHEu3DmuKOWhhx2f+FaDo6QJ0+SbU0GW2Lza1\n",
       "G+aYYw+VT3X6mt4P8N3yQyG8pyL+A4rGWymwOK+EzPk8hjf3EbfEmmIOi+/iPVd9cQatV8UhUHVX\n",
       "acRuqOUp7ueYY/f4siY5FBgE363Bu1d4sSG1cQwSRBsBsZAlhMLy4eTzGN64jOArrDkm7hVU+dbq\n",
       "qCEocWTaU5yEFYEXznhHHPg/l3aJzfoV7fIZeeUd+G6FrQ6coWUb7VAss9RpROd8HsPZ6Z5MrbDm\n",
       "mKyPXlCLxAJIampL8j6TxqDKos6j6gWJHiSd2fpIq5fYffEZq849uA9t6mu6ZkgQsPgzBgXdSZ0I\n",
       "bKWfZTjhKre4MIwGLKlqEyOm7PmUrrWaRo/BlAAGNVJMA9ULIe8Vp1/KHt2xZKTPnLk9wP4C2DEC\n",
       "62PI+V0Fd0NWl7Z9yPNlpxJKXRSZVb20D5emqYZWWHPMId63WjQ7ua7JmFGT+2brsO76fr7GJj/v\n",
       "sA/wfpIYJYZnKdemEaFU5JQOkV1Vu3m8n8Pb24EDgjYWTB3mKIbgteF3H1VWpNF3Xj5vX2yoZ8an\n",
       "u7BMTkOzrGoaOCsdhAeTKm/IiRqHb+Ks+EtQt1hwJx2mGi87tUu9/6B4+3i2xH7w7FY/ufwU33Zc\n",
       "1p/aJH1k0wr98rFTrfv0+y+Kt0exxH7w7PbkvJm+63h836SvuNX0Y+Ghfbn5+yWssNFj8MtJyG3H\n",
       "Yz43ox9vnLDtv2/3Z/+cT/2vk/ELnWIl+7AEJiEAAAAASUVORK5CYII=\n",
       "\" style=\"display:inline;vertical-align:middle;\" /></a><br>(see <a class=\"ProveItLink\" href=\"../../../__pv_it/theorems/88d724e37dff4750638115a7bfb1f39bbfd5f11c0/dependencies.ipynb\">dependencies</a>)<br>"
      ],
      "text/plain": [
       "<IPython.core.display.HTML object>"
      ]
     },
     "metadata": {},
     "output_type": "display_data"
    }
   ],
   "source": [
    "import proveit\n",
    "%proving membership_unfolding"
   ]
  },
  {
   "cell_type": "code",
   "execution_count": null,
   "metadata": {},
   "outputs": [],
   "source": []
  }
 ],
 "metadata": {
  "kernelspec": {
   "display_name": "Python 3",
   "language": "python",
   "name": "python3"
  }
 },
 "nbformat": 4,
 "nbformat_minor": 0
}