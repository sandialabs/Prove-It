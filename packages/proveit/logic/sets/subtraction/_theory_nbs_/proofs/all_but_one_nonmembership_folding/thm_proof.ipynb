{
 "cells": [
  {
   "cell_type": "markdown",
   "metadata": {},
   "source": [
    "Proof of <a class=\"ProveItLink\" href=\"../../../../../../_theory_nbs_/theory.ipynb\">proveit</a>.<a class=\"ProveItLink\" href=\"../../../../../_theory_nbs_/theory.ipynb\">logic</a>.<a class=\"ProveItLink\" href=\"../../../../_theory_nbs_/theory.ipynb\">sets</a>.<a class=\"ProveItLink\" href=\"../../theory.ipynb\">subtraction</a>.<a class=\"ProveItLink\" href=\"../../theorems.ipynb#all_but_one_nonmembership_folding\">all_but_one_nonmembership_folding</a> theorem\n",
    "========"
   ]
  },
  {
   "cell_type": "code",
   "execution_count": 1,
   "metadata": {},
   "outputs": [],
   "source": [
    "import proveit\n",
    "theory = proveit.Theory() # the theorem's theory"
   ]
  },
  {
   "cell_type": "code",
   "execution_count": 2,
   "metadata": {},
   "outputs": [
    {
     "data": {
      "text/html": [
       "With these <a href=\"allowed_presumptions.txt\">allowed</a>/<a href=\"disallowed_presumptions.txt\">disallowed</a> theorem/theory presumptions (e.g., to avoid circular dependencies), we begin our proof of<br><strong id=\"all_but_one_nonmembership_folding\">all_but_one_nonmembership_folding:</strong> <a class=\"ProveItLink\" href=\"../../../__pv_it/theorems/0073f5e74045251fb4917765e991e075734b06390/expr.ipynb\"><img src=\"data:image/png;base64,iVBORw0KGgoAAAANSUhEUgAAAWAAAAAZCAMAAAA45QTDAAAAS1BMVEX///8AAAAAAAAAAAAAAAAA\n",
       "AAAAAAAAAAAAAAAAAAAAAAAAAAAAAAAAAAAAAAAAAAAAAAAAAAAAAAAAAAAAAAAAAAAAAAAAAAAA\n",
       "AADXrLZzAAAAGHRSTlMAq1RmmUTNIjK7EInv3XbP4duh6fPj951y2Qx9AAAACXBIWXMAAA7EAAAO\n",
       "xAGVKw4bAAAE1UlEQVRo3u1ah44cIQyl9yE94f+/NPShTduTNlEUdFprZ2xsHsaFPQCeD7htGwf/\n",
       "x9WwHif0iiD7j93dgfE/CTB/9PbhYVSU9uKIjzPxfxxge34umXrCPU3OaC8PBJT5CbU9jQDDyojw\n",
       "A4BfEHvXQPr0tYAH3IgQrQGm55M7NT+UZUqLexoAJnVCxh8A/ILYm4a6OGCErrllcDsl3bm03k4f\n",
       "ltNRqAe4biiXT0LEC2JvGuTiRG1rbkISIuxDAGMyULyDrdETgF8Qe9MwZwFUbt++b2zF7cQQPl8C\n",
       "GBjV0QBwSXT3Uxdr8+PflvHQsUGUWQWgWHJTl9YjxMcAZrijESWzhWH0wyrisdibIkQ2SFkLldDN\n",
       "AePh0A0RunAD5ZwWN6bPWCobY4uCI8AadjQCTOLEUj0E+EyM9E61SIO4X83yYKLL9LkQKy7kTbDQ\n",
       "AtI4V5gO2yW3f+H8gJcaSVq8BshEoWTGHpZKDM80Asxh+YhnRVuLrbgGuBcb6pYOS3rMUbWRxR7Q\n",
       "G/4657DkspiH5fuIgNepo+dOTimdM1ctjInzCZR2DqZlcFenQaajKZAGL9R5NSjssHB3Go1W7ARg\n",
       "Ne2BsPDTZ9pro7rFCy7lVmF1ilAmWSR2bytaQ0z78dN/yIm77pejtXzb9lHcjUOW3vuVm2C6sWWN\n",
       "LENcoMs0ARyWybqsCu8A3IqdAEzGPSA+uEA1aouulZuWCBuht8KVWgMMmuVnEOSi5incuETi85pI\n",
       "kNq0hYZD5NIDaFa0UtPRXAqwPTSlZMpLywdXaLNKi5i1hPu/JcDbwBK6nOKdjba0dFnPRpYbZx7t\n",
       "mqrE/dBT58WU6gzZ1tzFHu6uMlFp2uLpKLG3ae/Q1tEMsEbVEaxzEteoBLykMEcAVzHLQzRiaAUw\n",
       "Zz1LdCRLJ22I1L47OnCSq2JEloE7u9AYhWND5rVQAE3MRntGtICuuSss5LImKgVDBLqgrZskJzua\n",
       "AeZm91KFiCv7qYJiK48ArmI4WiqWIYLKnoXi9v2uLfPJ4sDp+zTzaBcdrUv1EXJCEb9s2jo4Q1As\n",
       "uX3G0m2NdQNgAvfauS3TyhZlWrqFqlils1XYoWeD9vA2rbHX8YMYjGDPgpmUn75IiQZtom55SlxV\n",
       "zi1Kp90uMQIs4mIV8f6KCO4CiII/p5uwLRcjFBIIbzSlBUsFtSXFtAbgjXZ0vK5MG75fLwQ2I25c\n",
       "V4bzypcAVwQyiwjYqFlbOessl9ZFLou1IaK1awoRYDsuMfEvLX1RwO5xX3Zymk0P+dbTEWAS3SaU\n",
       "20pn9dRd3gdzE3URcJzkGhapSkrZtaUImUyCepebZ66wZLvsdL4wuV9ynHKfARysUgZNAJe7o0In\n",
       "gEW4E+XRcVD0DyzZ9YU7saFhUGuAJe9ZuPwqRm2VrUEhPphmLhmx2CXnACKP2rHlxZ98dtuaC4fN\n",
       "pjjVtXe7hqrp7BcND7DyyiUGN0LESR089QLqczjpQ5Wr5HUPsTNXu9QCM3V0gbq8+FPPrltz04aw\n",
       "3et0ZfCwW3XXTgAO6cDnEcrABwEGYxW7/AmE8DuPSo6rdi15+MGV47pG4PYZwmTIhVzXB5b39BTg\n",
       "WJBiq8GHAQa6P+JQ3bx30EdVf7ULU/B3jxd/9Lz8v4jhrTr5dvzs6OkThj867LYZ/Btkqih8AU5O\n",
       "GgAAAABJRU5ErkJggg==\n",
       "\" style=\"display:inline;vertical-align:middle;\" /></a><br>(see <a class=\"ProveItLink\" href=\"../../../__pv_it/theorems/aab1341558b90f702c32baf9300f41109cbcfa3d0/dependencies.ipynb\">dependencies</a>)<br>"
      ],
      "text/plain": [
       "<IPython.core.display.HTML object>"
      ]
     },
     "metadata": {},
     "output_type": "display_data"
    }
   ],
   "source": [
    "%proving all_but_one_nonmembership_folding"
   ]
  },
  {
   "cell_type": "code",
   "execution_count": null,
   "metadata": {},
   "outputs": [],
   "source": []
  }
 ],
 "metadata": {
  "kernelspec": {
   "display_name": "Python 3",
   "language": "python",
   "name": "python3"
  }
 },
 "nbformat": 4,
 "nbformat_minor": 0
}