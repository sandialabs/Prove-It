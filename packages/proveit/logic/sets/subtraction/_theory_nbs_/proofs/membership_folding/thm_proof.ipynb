{
 "cells": [
  {
   "cell_type": "markdown",
   "metadata": {},
   "source": [
    "Proof of <a class=\"ProveItLink\" href=\"../../../../../../_theory_nbs_/theory.ipynb\">proveit</a>.<a class=\"ProveItLink\" href=\"../../../../../_theory_nbs_/theory.ipynb\">logic</a>.<a class=\"ProveItLink\" href=\"../../../../_theory_nbs_/theory.ipynb\">sets</a>.<a class=\"ProveItLink\" href=\"../../theory.ipynb\">subtraction</a>.<a class=\"ProveItLink\" href=\"../../theorems.ipynb#membership_folding\">membership_folding</a> theorem\n",
    "========\n",
    "*** see <a href=\"../__pv_it/20cc5e063b108349a91332c1a63324af257d5c2e0/dependencies.ipynb\" class=\"ProveItLink\">dependencies</a> ***"
   ]
  },
  {
   "cell_type": "code",
   "execution_count": 1,
   "metadata": {},
   "outputs": [
    {
     "data": {
      "text/html": [
       "With these <a href=\"allowed_presumptions.txt\">allowed</a>/<a href=\"disallowed_presumptions.txt\">disallowed</a> theorem/theory presumptions (e.g., to avoid circular dependencies), we begin our proof of<br><strong id=\"membership_folding\">membership_folding:</strong> <a class=\"ProveItLink\" href=\"../../../__pv_it/theorems/522fd4a625c6393d5b4e687ff899bc07e18b86810/expr.ipynb\"><img src=\"data:image/png;base64,iVBORw0KGgoAAAANSUhEUgAAARwAAAAXCAMAAADumgClAAAAPFBMVEX///8AAAAAAAAAAAAAAAAA\n",
       "AAAAAAAAAAAAAAAAAAAAAAAAAAAAAAAAAAAAAAAAAAAAAAAAAAAAAAAAAAAo1xBWAAAAE3RSTlMA\n",
       "q1RmmUTNIjK7EInv3XbP4duhPeprPQAAAAlwSFlzAAAOxAAADsQBlSsOGwAAA4dJREFUWMPdWAly\n",
       "3CAQ5L7Bdvj/X8Mt0ILQ7laq1qFSzhgPDZrpaQ4AfkHj/9B7MZaDX9Icetmbs+emom4wYPsDwp8Z\n",
       "G6Rf92Z+OwBL72FoTIoY2hqEZBDagD6TSoq97o28vzHGyPQf9DE6TNVwBENU6nD5mcQh+HVvAv0+\n",
       "49znWqKeRCKRyijShUqjzwyOudIXaUNjK2/NdWLDpq6KD85BMpU60cAl1uxDFWe9LsqcuvLmDji/\n",
       "TzkspcdMYhmr3EuGidG3Rn9oVZV1KeegErrjN2dq6Z1/iaKDb0qOgjYTSFedSQZJnVItNW6z+ntC\n",
       "eUHrS+bXRIZpHHSAWHC1gbAuFjTEUfhtzoWXLgS+jcSsNzisP+afZbrFC+mJ1kR2Xbd0fAA5NbmE\n",
       "js1mqmAeRUEBeHz9rN4sGrPGPdyei7JmI1OQUZWtbETSaLoarIeyxSlzzmyDIxyUks5BBq+vb7qC\n",
       "TqTPf40hI0M4RJaD0OSDdxZrQsJuJY9N3h6tT66pSxSFSY1SKUTuQo6pMK5XL5KFfRccQsQaZPCC\n",
       "agl9+twRQ80mPrxVdvZ2x5zKLVx39JqdYjCAy7zOER7+9awDrGemiQxQFs+D04a7UQcHkGOO6KXg\n",
       "GnosFBr5rw7xspdlVaTQmq3k4Lpp5cCiilsMjYrwOw6gBAz1nzWwORyYMCZQgGlw2vBTVgeQY47k\n",
       "5egaOsG7TBMKYPxO3Wdiol/tboRv3h+K5IQgsXqdAIPBTaVWghd9PYwqkHRBQTIPThtO8ViZPcgx\n",
       "R/KSF9DHzoq8UMTkHehQ5Ecdq/swr9PJ3RGZmVJD9WDQTgPV6PI1goX9Q0OvTpLDPV1pTh6OmUwN\n",
       "TUHqHNHr66d6TaBTRhO5FQk8QQQP4VBQUjX1DnfJ9K0oGlebOWy3zoZs6dno9oD+LcPl9YpRckL1\n",
       "r7byMlzosahGkDpH9GpyPIPOa7w4BlEtT9cHu78ubG5a9myARkbNkpYp3RVu3IZzB0/5V3ZeVsfw\n",
       "/kh5AumcgtchxzPo4wJ4uz3nfXVzfbjwEke1ixcWEfNIkhQp4hnNHZh5Hc9pCMw1pw0PV/yawQeQ\n",
       "wyl4/RHtODqBLhM89ZQi33t4aW8Tl48UaNtxec5ROmoO3YCo76nXyemptxT13stLi+1VkM9K99jx\n",
       "1PVhAXLv8ZG7p3Lv3oiN42djWrvbjleCcwaBCvzf7Z0a//DY/AVULR9tzkCTOQAAAABJRU5ErkJg\n",
       "gg==\n",
       "\" style=\"display:inline;vertical-align:middle;\" /></a><br>(see <a class=\"ProveItLink\" href=\"../../../__pv_it/theorems/b352dcc136afbd0c929f64081fc9c068cf33dafc0/dependencies.ipynb\">dependencies</a>)<br>"
      ],
      "text/plain": [
       "<IPython.core.display.HTML object>"
      ]
     },
     "metadata": {},
     "output_type": "display_data"
    },
    {
     "name": "stdout",
     "output_type": "stream",
     "text": [
      "membership_folding may now be readily provable (assuming required theorems are usable).  Simply execute \"%qed\".\n"
     ]
    }
   ],
   "source": [
    "import proveit\n",
    "%proving membership_folding"
   ]
  },
  {
   "cell_type": "code",
   "execution_count": null,
   "metadata": {},
   "outputs": [],
   "source": []
  }
 ],
 "metadata": {
  "kernelspec": {
   "display_name": "Python 3",
   "language": "python",
   "name": "python3"
  }
 },
 "nbformat": 4,
 "nbformat_minor": 0
}