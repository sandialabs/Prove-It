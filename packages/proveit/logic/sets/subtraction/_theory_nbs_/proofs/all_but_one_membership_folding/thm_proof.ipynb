{
 "cells": [
  {
   "cell_type": "markdown",
   "metadata": {},
   "source": [
    "Proof of <a class=\"ProveItLink\" href=\"../../../../../../_theory_nbs_/theory.ipynb\">proveit</a>.<a class=\"ProveItLink\" href=\"../../../../../_theory_nbs_/theory.ipynb\">logic</a>.<a class=\"ProveItLink\" href=\"../../../../_theory_nbs_/theory.ipynb\">sets</a>.<a class=\"ProveItLink\" href=\"../../theory.ipynb\">subtraction</a>.<a class=\"ProveItLink\" href=\"../../theorems.ipynb#all_but_one_membership_folding\">all_but_one_membership_folding</a> theorem\n",
    "========"
   ]
  },
  {
   "cell_type": "code",
   "execution_count": 1,
   "metadata": {},
   "outputs": [],
   "source": [
    "import proveit\n",
    "theory = proveit.Theory() # the theorem's theory"
   ]
  },
  {
   "cell_type": "code",
   "execution_count": 2,
   "metadata": {},
   "outputs": [
    {
     "data": {
      "text/html": [
       "With these <a href=\"allowed_presumptions.txt\">allowed</a>/<a href=\"disallowed_presumptions.txt\">disallowed</a> theorem/theory presumptions (e.g., to avoid circular dependencies), we begin our proof of<br><strong id=\"all_but_one_membership_folding\">all_but_one_membership_folding:</strong> <a class=\"ProveItLink\" href=\"../../../__pv_it/theorems/087517547928a3581e92711b7a016a413b2dfb1d0/expr.ipynb\"><img src=\"data:image/png;base64,iVBORw0KGgoAAAANSUhEUgAAATIAAAAZCAMAAACFBFK2AAAAOVBMVEX///8AAAAAAAAAAAAAAAAA\n",
       "AAAAAAAAAAAAAAAAAAAAAAAAAAAAAAAAAAAAAAAAAAAAAAAAAAAAAAACXHtMAAAAEnRSTlMAq1Rm\n",
       "mUTNIjK7EInv3Xbt5cmRiLwgAAAACXBIWXMAAA7EAAAOxAGVKw4bAAAEEUlEQVRYw+VZh27cMAzV\n",
       "3lZb/f/HVnud5bOcHtAgQhIQDof0zCUagP0Fj+Pg4Ccu60+Onggy8IMXxt8EMv4xZr8UpaM84rMm\n",
       "/u0gs+hTzIGfUTU+EVCmJ9TmJ5UIkMHKiPAOZA/kHi+kHzEjQrQGmL7hd+r1oczHs+VslfCQkaqR\n",
       "8R3IHsg9XYo9YpbBM5R0bwT0cfWQqYnwkIniLlxuBeYDuaeL4CfMhKQjsi9BhslEhFxW4NNoL5ft\n",
       "yz1d5ioRSV/3D3bC7MSUhR5BBowaiQBZKQH3vZ8NpePjxQCtLVBm1YKZurQ/Ib4GGcMjEY9twns6\n",
       "jN6EbF/uaVxmC8paqITuvJoztWIGyjkt7qjP6CgbQ1rBCTINRyJCRqJmqXYh25YD5DJvL83hKm2h\n",
       "BaR5xUnhqU4BsPMLvi9NJB1HA2SiVIr3Gt81F+IuuDgsf6JDa2uxFTcgG+VO42bSdVUo9LIXyFcU\n",
       "zMOBFID4qkHs7jPKSufM277XRH0CpXcB0x65K3qQGYmUj4KjlB2jkC2Fu9XK9nJdH2ihlPRU1wVk\n",
       "F9CbZEI0jyiWUmrwS87M1YUcbd3H0ZaoZhktPm7Cdk2uFgqyBFrdfyYSZOFobCg48BZkvVzbJBFg\n",
       "pesCsosI6lAwQ/lTcs2MS0Z7U88FKZmFhpZW5DoLdIYS0OJltPcyf25c9pLqDC/XBHiGH2tEkbOW\n",
       "cP/TdcmzrhmyKpFDeG2wxRp1nl+1pHcsAzNncR9gb1NtafSjB5cc1q4E6BiJDJlGtfRY5ySuyQB4\n",
       "SWGWkFU5y0MS8K48vPhe1wxZlSAyrF/+Fy8Mxi7ea6YAmpinO9hfAbDDQcn7el6KY4Su4Kdb+pcj\n",
       "kSHjpr1YhYgrr0gFy1YuIatyOO7V+zQdIOp0zZBVif4Gd24wVXfkhCL+ILSPNPYSdrkVIIceOoQb\n",
       "kBHYmrmuyaigZ6K0o1D0lZ7WjA09G7TrSQZs1dDxVImj00j0qusllzn+mpTODIq4fUW8TyGCB5AU\n",
       "lNMUIjH7hoRCAuGdi0lBR0FtSdlTg+ygIzEPf9IrbLfGwGbEneFPiCZvTuilrhmyLBEC8/cfGQNz\n",
       "YfAQV32MHC9Mx63+ddH9azY/5DMxQ0ZgqV5KZ/vUvZ+XcRONkaGzbbpOIOskuhv+wiAmO1NT8gyy\n",
       "sB1l0AxZu+XjBWQijJh49AEUJ05YshsjRmJD16qiV4kXXWde1iSGC8S5QbkzXpKbs6hcJA+b0sJw\n",
       "JWhBUomrqayHTHnrEu9NZZUOQXbeyp/3ZajlroVBtTNfUpvDqNzoI2zbCFAZPOFfiQvIQlr1iZiy\n",
       "fzjIlpedMVgaBNzuYGA3MSNTmeC6PLAcTMQVZOE/FFsNPg0Z6jxyYfB/Wg8/lzz9jvntP37a4zD4\n",
       "L7N+IX5bLtHQAAAAAElFTkSuQmCC\n",
       "\" style=\"display:inline;vertical-align:middle;\" /></a><br>(see <a class=\"ProveItLink\" href=\"../../../__pv_it/theorems/576e52fb2675a334d648112f8cd7b766f9a674fd0/dependencies.ipynb\">dependencies</a>)<br>"
      ],
      "text/plain": [
       "<IPython.core.display.HTML object>"
      ]
     },
     "metadata": {},
     "output_type": "display_data"
    },
    {
     "name": "stdout",
     "output_type": "stream",
     "text": [
      "all_but_one_membership_folding may now be readily provable (assuming required theorems are usable).  Simply execute \"%qed\".\n"
     ]
    }
   ],
   "source": [
    "%proving all_but_one_membership_folding"
   ]
  },
  {
   "cell_type": "code",
   "execution_count": null,
   "metadata": {},
   "outputs": [],
   "source": []
  }
 ],
 "metadata": {
  "kernelspec": {
   "display_name": "Python 3",
   "language": "python",
   "name": "python3"
  }
 },
 "nbformat": 4,
 "nbformat_minor": 0
}