{
 "cells": [
  {
   "cell_type": "markdown",
   "metadata": {},
   "source": [
    "Proof of <a class=\"ProveItLink\" href=\"../../../../../../_theory_nbs_/theory.ipynb\">proveit</a>.<a class=\"ProveItLink\" href=\"../../../../../_theory_nbs_/theory.ipynb\">logic</a>.<a class=\"ProveItLink\" href=\"../../../../_theory_nbs_/theory.ipynb\">sets</a>.<a class=\"ProveItLink\" href=\"../../theory.ipynb\">subtraction</a>.<a class=\"ProveItLink\" href=\"../../theorems.ipynb#all_but_one_membership_unfolding\">all_but_one_membership_unfolding</a> theorem\n",
    "========"
   ]
  },
  {
   "cell_type": "code",
   "execution_count": 1,
   "metadata": {},
   "outputs": [],
   "source": [
    "import proveit\n",
    "theory = proveit.Theory() # the theorem's theory"
   ]
  },
  {
   "cell_type": "code",
   "execution_count": 2,
   "metadata": {},
   "outputs": [
    {
     "data": {
      "text/html": [
       "With these <a href=\"allowed_presumptions.txt\">allowed</a>/<a href=\"disallowed_presumptions.txt\">disallowed</a> theorem/theory presumptions (e.g., to avoid circular dependencies), we begin our proof of<br><strong id=\"all_but_one_membership_unfolding\">all_but_one_membership_unfolding:</strong> <a class=\"ProveItLink\" href=\"../../../__pv_it/theorems/017d7f3d637c63a7099a1c0bbabb009b4395d3ef0/expr.ipynb\"><img src=\"data:image/png;base64,iVBORw0KGgoAAAANSUhEUgAAAUcAAAAZCAMAAACVZBxqAAAAPFBMVEX///8AAAAAAAAAAAAAAAAA\n",
       "AAAAAAAAAAAAAAAAAAAAAAAAAAAAAAAAAAAAAAAAAAAAAAAAAAAAAAAAAAAo1xBWAAAAE3RSTlMA\n",
       "q1RmmUTNIjK7EInv3Xbn9enzK1aD6QAAAAlwSFlzAAAOxAAADsQBlSsOGwAABGRJREFUaN7tWQmP\n",
       "3CwMDfcV+A7+/38tEAiYI5Nku1Ur1VqNV5r4OTyMbTzb9lyQtVZsfyWLC3TgN4b8L3edEPI78yg6\n",
       "/dL8q8/ceK/fmkeHoX4qzN12sRKqr4Crg8AjOr/G5AmPL+yeCTZQ37aj1JiNsMASueliJVIt6CdQ\n",
       "Rx4pO+kRT3h8YfdINIf6rqgYJFr59GYwnAyeu1hjyRUDGurAoyyBJdSjc/3C7pFQAvVdM3osLL0j\n",
       "oYA2y+culuGIlnWFdppUTg1+xOMLu0eyd3p6vlRoOSA7Xrapa9fgNCI2dbEMx/VBK8BZRx5Lrbl/\n",
       "fjioUd9TdTCHepbuuRvKAPPHW8mDTt5GnO3yHf7w5gxdUECATlzscVPtbh7y+Nzu0fk0UGvnkJam\n",
       "CX7BJ8VUe2+apGYQLCogla+hZ3lfu5QGNALAWSceaXKs9FMeH9vV9GLaOJFm0l50G76FROSQ26jd\n",
       "rssb8UFQ+YpwSAumExc9NE3xYf/5N36eG2E2vCd8AEyasylQ+UjRbJwjTt7gEdpNT8YcS/aJyYwg\n",
       "5aaVNRFxCXpD5FMXq53yvjjAe1c0rB5cTKAn+yTxQTRSADjrI8fFkDI5BeOYoKW/1Ye3do1Hh5Ri\n",
       "V1hDYppkqp0BHfeCcrgZNsvYL1CfrRvnKG2nc4OLEfqIAQq3JzwfbXcHgLM+eIzr5aCGoVs8tnZN\n",
       "4yG3D1gveNzqEsrCZu0WKVkyRzPbu15R29HFAD1PGyzEbOBNAmDWxmMggxSgo96JcvFBMyJ4/afY\n",
       "OUdF+IN3CIA10NaAT3jsznVaR0DSuim/45nOryp8fgzbvgeneHDRQ6f8+N//R7DXxaeYdTsEzjrz\n",
       "aPBZ+5z3ipypZgsvNGSzyuNp50RMHBzDKGmxQNTwDpzZ+bXk1DokCrSnbF/RxxgqqyuVeCOqZ13w\n",
       "zsUMerwKxcdR+WiAs848ir3SrjH1ZVt1fDGnljyediS9VQh5BnhrsNrMxmUPPnaCsLHAXmoaFsva\n",
       "3oQPFwBqDSxblVA33vUuoGFhz1iotqd9W1Z6aSRrOo1Pn8k5PIbcet6Dai324gg1lQQDLKmKiFg4\n",
       "ke7BMe+dSNtqTUP0YUowPMWKQfpp6J0pQs3RLSkQ6VoGoYsp9CQcgzvjqBcQOOt+bnZsSr0xx8d2\n",
       "eWduFg9oJMkssZoTiTpwMbmhWQn1vK9S/b0QDgrtZb1cQ68GQYZD4KJ7HmlaYWxjtcmemP88fww8\n",
       "RA8UtOUVa1GvK/jshtaPAr4y6/gwbVjPczoK9Y7nQ5SBRxmHdyLFF05pgih+Y45LXWy5dYo/OWAt\n",
       "eKzg05tumRKo12O5j5OoFTSZhKN1RyZqgU8HV/PwwKMOfiYV9/J+r03Mg+zzDKIBn/JYSr9+PZf7\n",
       "uAMraDu562LizpHrsMUXPMYUHqoA49szHm/I0eY04PPJi3BQPxX3OZAX0PIecHVwwWP8hhFntp/P\n",
       "45aqcwWX/HtGmL9OXv7O9eXfr2VLnJB/NonO2p38AN+2JAfYk3qDAAAAAElFTkSuQmCC\n",
       "\" style=\"display:inline;vertical-align:middle;\" /></a><br>(see <a class=\"ProveItLink\" href=\"../../../__pv_it/theorems/245de79383f49ac2fbf6937c930276b932ff5d880/dependencies.ipynb\">dependencies</a>)<br>"
      ],
      "text/plain": [
       "<IPython.core.display.HTML object>"
      ]
     },
     "metadata": {},
     "output_type": "display_data"
    }
   ],
   "source": [
    "%proving all_but_one_membership_unfolding"
   ]
  },
  {
   "cell_type": "code",
   "execution_count": null,
   "metadata": {},
   "outputs": [],
   "source": []
  }
 ],
 "metadata": {
  "kernelspec": {
   "display_name": "Python 3",
   "language": "python",
   "name": "python3"
  }
 },
 "nbformat": 4,
 "nbformat_minor": 0
}