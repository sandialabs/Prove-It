{
 "cells": [
  {
   "cell_type": "markdown",
   "metadata": {},
   "source": [
    "Proof of <a class=\"ProveItLink\" href=\"../../../../../../_theory_nbs_/theory.ipynb\">proveit</a>.<a class=\"ProveItLink\" href=\"../../../../../_theory_nbs_/theory.ipynb\">logic</a>.<a class=\"ProveItLink\" href=\"../../../../_theory_nbs_/theory.ipynb\">sets</a>.<a class=\"ProveItLink\" href=\"../../theory.ipynb\">subtraction</a>.<a class=\"ProveItLink\" href=\"../../theorems.ipynb#nonmembership_unfolding\">nonmembership_unfolding</a> theorem\n",
    "========"
   ]
  },
  {
   "cell_type": "code",
   "execution_count": 1,
   "metadata": {},
   "outputs": [],
   "source": [
    "import proveit\n",
    "theory = proveit.Theory() # the theorem's theory"
   ]
  },
  {
   "cell_type": "code",
   "execution_count": 2,
   "metadata": {},
   "outputs": [
    {
     "data": {
      "text/html": [
       "With these <a href=\"allowed_presumptions.txt\">allowed</a>/<a href=\"disallowed_presumptions.txt\">disallowed</a> theorem/theory presumptions (e.g., to avoid circular dependencies), we begin our proof of<br><strong id=\"nonmembership_unfolding\">nonmembership_unfolding:</strong> <a class=\"ProveItLink\" href=\"../../../__pv_it/theorems/1bd09ae1da7920ba911baf5933656a184be5e5710/expr.ipynb\"><img src=\"data:image/png;base64,iVBORw0KGgoAAAANSUhEUgAAAU8AAAAXCAMAAAC8uT3uAAAAS1BMVEX///8AAAAAAAAAAAAAAAAA\n",
       "AAAAAAAAAAAAAAAAAAAAAAAAAAAAAAAAAAAAAAAAAAAAAAAAAAAAAAAAAAAAAAAAAAAAAAAAAAAA\n",
       "AADXrLZzAAAAGHRSTlMAq1RmmUTNIjK7EInv3XbPqdvt6fPj953wOx8yAAAACXBIWXMAAA7EAAAO\n",
       "xAGVKw4bAAAES0lEQVRYw+VYia7jKBA0982cO8v/f+lwGJvmMHn7tFJGg6J0REy1KbqLhuP4E5ro\n",
       "7PNTH/nnY8984uXeqXkM7aJxPc6VZ8P8yz4+3ip4sejqx+RN6cQG2kWTaEJxONkiL/p4qREVAoqN\n",
       "K9mCZ0vZ5ftNA1ZzaFftnsnNUghj7KLrp/S9j1ebVQUqyBY82WtVhXrT8KQE2lVzk6EonEFC6B1d\n",
       "F4slvF7B7mUkFAwWaAuebSXX4Dfl03Z2qn7K/fjp+iAzwoRKmdUD8YIPPhbYsQFscsKSk9cKniw5\n",
       "l4a/KZ2YQzvbEbjXB5JDFPnDhxol/I7AGjkU9z5W2H1Dp4xwKwB4tjbR76x513Q30GrvkZamSSeR\n",
       "UmyigDQJaKXRoH7TbwRig72QT42chODZ0typ9HI/2E34YSMs/rB4FWtS14C1L+488ge92cgbKRmG\n",
       "ssiKDDVMSMN3CWXvBx8L7KGSCMpH5u+Qr+DZClS/5nTaJpGkCtQYqtrcetjHyl+ETbGmmOPiOAws\n",
       "EUm2Ynrf+cvnxSfNG0edF7Z9ZeV072OFPax62eWwJR14sSk0DVtxYkK7UZG8dN5u+ZQeqS9fS1os\n",
       "sGaYbJAdy4BNrFMwS5kE659f8UvBbYTSuL+rK6bamI98YDr4WGDn1mIrW6cjIXix2D/sRkzaNpNQ\n",
       "KRDCjk+aVKRUendd2GFNMYc46/jMPwGKVrPqRJdnQk1dZrvqvc3kZ+yh1aCv2/sFflp+qY/3VMQP\n",
       "UDTeSoFN760dmfN5Dc9HhTMw3QprijkQ0+V7rvqiBw3rH7dQdVdpxA7WqlJNfMyxR/kkdZtnEPy0\n",
       "Bp9R4cWB1MEx2CDaDIiFLCEUlib3i13Dy7J6Bqs832fTDBP3Cqp8a7ViB0ocmXYVD9aPYgQeOOMZ\n",
       "EYgBQWzwscBeyWfklXfgpxW2BnCGlm22Q7HMUqcRnfN5DS+zKX8wtcCaY7I+w0AtEgsgqaktm/ct\n",
       "h7gvPkX1o+oBiQJh1rA+f8QeKw57JvelTX1N17xOELD4MwYF3UmdCGyln2U44UqpL99UeheMeiyp\n",
       "ahMjpuz5lK61msaIwZSAWWr0i2mgeiHkueL0o8zRwQ2X4tHHAlsB7JiB9TLkfq6Cu2FXl7a9yPNl\n",
       "phJKXRSZVb10DpfmvneoBA1Yc8wh349aNDu5rnP/Nao/E3YB657P/vLhPm6HfYH3TmKWGJ6lXJtG\n",
       "hFKRUzpEDlXt5vl+D08l2FUmuaPD6uUTYI6CBW4bXr75XFyqrBaE/i83NtQz49N5VaagoVlWNQ2c\n",
       "lQ7Cg0mVNz7m+nkNP4SSpi55zuoWC86kw1TjgaR2qdWF4v5qbPuE+sRlZQV/dIK3HY/1pzbfoz6y\n",
       "eYn+dNmp1n169b77q7EtXfoTt5Xb9U4k6F3H5nzU3PbTD6z99FnhoR0OBDtUv38D4f8rnRX80QnZ\n",
       "dmz4RA3/Rr/6boQdf30T+1upl/nUfzoZvwGD9CfMWlUeTAAAAABJRU5ErkJggg==\n",
       "\" style=\"display:inline;vertical-align:middle;\" /></a><br>(see <a class=\"ProveItLink\" href=\"../../../__pv_it/theorems/4e721b739bc7093b072056e596ca482cf87bdabb0/dependencies.ipynb\">dependencies</a>)<br>"
      ],
      "text/plain": [
       "<IPython.core.display.HTML object>"
      ]
     },
     "metadata": {},
     "output_type": "display_data"
    }
   ],
   "source": [
    "%proving nonmembership_unfolding"
   ]
  },
  {
   "cell_type": "code",
   "execution_count": null,
   "metadata": {},
   "outputs": [],
   "source": []
  }
 ],
 "metadata": {
  "kernelspec": {
   "display_name": "Python 3",
   "language": "python",
   "name": "python3"
  }
 },
 "nbformat": 4,
 "nbformat_minor": 0
}