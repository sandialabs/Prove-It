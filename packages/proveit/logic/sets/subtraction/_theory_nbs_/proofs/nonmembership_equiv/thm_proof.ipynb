{
 "cells": [
  {
   "cell_type": "markdown",
   "metadata": {},
   "source": [
    "Proof of <a class=\"ProveItLink\" href=\"../../../../../../_theory_nbs_/theory.ipynb\">proveit</a>.<a class=\"ProveItLink\" href=\"../../../../../_theory_nbs_/theory.ipynb\">logic</a>.<a class=\"ProveItLink\" href=\"../../../../_theory_nbs_/theory.ipynb\">sets</a>.<a class=\"ProveItLink\" href=\"../../theory.ipynb\">subtraction</a>.<a class=\"ProveItLink\" href=\"../../theorems.ipynb#nonmembership_equiv\">nonmembership_equiv</a> theorem\n",
    "========\n",
    "*** see <a href=\"../__pv_it/535084f5575f2896033e67a90d0a117da06a03c70/dependencies.ipynb\" class=\"ProveItLink\">dependencies</a> ***"
   ]
  },
  {
   "cell_type": "code",
   "execution_count": 1,
   "metadata": {},
   "outputs": [
    {
     "data": {
      "text/html": [
       "With these <a href=\"allowed_presumptions.txt\">allowed</a>/<a href=\"disallowed_presumptions.txt\">disallowed</a> theorem/theory presumptions (e.g., to avoid circular dependencies), we begin our proof of<br><strong id=\"nonmembership_equiv\">nonmembership_equiv:</strong> <a class=\"ProveItLink\" href=\"../../../__pv_it/theorems/e26938d0b04e259356ee401229ee4c200a4a0c910/expr.ipynb\"><img src=\"data:image/png;base64,iVBORw0KGgoAAAANSUhEUgAAAZ8AAAAWCAMAAAAo9GECAAAAP1BMVEX///8AAAAAAAAAAAAAAAAA\n",
       "AAAAAAAAAAAAAAAAAAAAAAAAAAAAAAAAAAAAAAAAAAAAAAAAAAAAAAAAAAAAAADFBd4eAAAAFHRS\n",
       "TlMAq1RmmUTNIjK7EInv3Xbp8+P3nXbhrUQAAAAJcEhZcwAADsQAAA7EAZUrDhsAAAROSURBVGje\n",
       "7VlXltwgEBRBiOzE/c9qkjS0AKE0/jJv39Z4VlDV0El4ml4byw6Pnzr18CuMTyVeVLu8Zc0yvTos\n",
       "htgZTLYmJUHsIuVsIX5FYintBNFg7QvWJETb3zF5cjxYQewMjlqT8r64IQsRziE/mOBxM7JkS74m\n",
       "EUobEg3WvmRNRDpvGp4ElGQQe+NDVz2MnTtBpEUE5Hjp6g2Xf0fiXlpBhLaP3LYtempNwM1bFvEk\n",
       "fCiB2BumNSn/C7mxhywu7cXsaPRAmj2RfkniXlpBRLZTSe5/Zu1r1kRcD0vhJ+ejd9hMzcL8+GlY\n",
       "PSnxL8rxcUrIz5Bsmc7qtfyOxEpaQWTqujlY2w92xZqAJB85e3I8mEFslT9m5YR4Y1Iy0k7WjV0E\n",
       "5UTDdHJotqonX5FYSyuIVo+muGlRY+2r1kTU4ViNVo/Sm4IorUWSqyImlxCnMD3TkpKGLD/ODilh\n",
       "S2TyLioE8WWJtbSCaI0bU3F01r5sTUQa/yi6CeJE6a0O3ptkkZ3oR3rsPohtTYru5U3hbugj3Anr\n",
       "bf/MJAxi4DbFQM8k1tIKohxq1lYcnbUvWxNxQeuv9vHoIuC5cFQpKvY5wGCAZAk51eeKzwmwus0y\n",
       "GPior5bDILCpTmO9Low1xIOyf0diLa0kSr2VkXuO3tqXrUkYQkfNPbsUqAokuoTd74aeAYbjo0AS\n",
       "D1n012//S1STYu2k1DdJomiGiyD4eIPQqyi+uiDEg8x4R2ItDRCFqMC04uisHUe59tCahNgedAcz\n",
       "12XEo9QIumPj40eQKKSoW8TPwzI968xok1c3XhueadYQT5/POYm1NEAU3kbLzHW89nVrMrIt61pL\n",
       "F/9Tus/Eyqyjg35pyHHyiC29X0XCZtS0J6UUEr7Qw/JD1sYn7wQ2EPv155bEWho28F2Ji6ZFrbWv\n",
       "W5NR4Zx17TIhMTFcHg+IVP9CRQitW1BhS5RinlAwqKj3vorOtD1pmsnJC56csL1lbLsigdgftyTW\n",
       "0iCRJWiuODpr37Am46LXQIsUvMxusNjE8iNR9bYOG0PsuKQ6dT6fXI33x7pOWlYCMbpAYDqH/VbF\n",
       "911zf9ySWEuDRBK+bx6ufcOaFQtZcIt8s6aQk7vys7h9N8FNiZJ6d8GUAEkS/Z5lY5IUzkWBOHw4\n",
       "2ma0XSd+FjYzxIPceF1iS9qOiOKGRe21BTT/jDW1VVyX//Fg02lwWH58cq0S3Npjmf4VDfmjBLzg\n",
       "MOP7nNEFloF42GDfkdgjHHA0O63R2pU1ezIfzYrFkihVkXxDg52+WGIoSVPfRp64qKzfLM7car5z\n",
       "53lbYo9wwPGONRUZtbOy4Z6Ih0ChsSxJ6ticviDMqfB22romEwvE2jlEf9Lt8BFX7t5vSbz4xBOL\n",
       "9tYckuHhF7v3BHHU6Xfux6V4dj7DHX8u8eL2P7Fob80R2SxHXzRueQFW1f1o0r1hF4jTNyS2CE9w\n",
       "PLfmkIwMv/g//sX4CwgyMZOeOwZKAAAAAElFTkSuQmCC\n",
       "\" style=\"display:inline;vertical-align:middle;\" /></a><br>(see <a class=\"ProveItLink\" href=\"../../../__pv_it/theorems/d7e309683ee315d9aa0a2d0d82be894f09e36af80/dependencies.ipynb\">dependencies</a>)<br>"
      ],
      "text/plain": [
       "<IPython.core.display.HTML object>"
      ]
     },
     "metadata": {},
     "output_type": "display_data"
    }
   ],
   "source": [
    "import proveit\n",
    "%proving nonmembership_equiv"
   ]
  },
  {
   "cell_type": "code",
   "execution_count": null,
   "metadata": {},
   "outputs": [],
   "source": []
  }
 ],
 "metadata": {
  "kernelspec": {
   "display_name": "Python 3",
   "language": "python",
   "name": "python3"
  }
 },
 "nbformat": 4,
 "nbformat_minor": 0
}