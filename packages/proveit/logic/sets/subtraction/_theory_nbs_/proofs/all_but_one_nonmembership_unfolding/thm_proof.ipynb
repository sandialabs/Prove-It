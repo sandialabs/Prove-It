{
 "cells": [
  {
   "cell_type": "markdown",
   "metadata": {},
   "source": [
    "Proof of <a class=\"ProveItLink\" href=\"../../../../../../_theory_nbs_/theory.ipynb\">proveit</a>.<a class=\"ProveItLink\" href=\"../../../../../_theory_nbs_/theory.ipynb\">logic</a>.<a class=\"ProveItLink\" href=\"../../../../_theory_nbs_/theory.ipynb\">sets</a>.<a class=\"ProveItLink\" href=\"../../theory.ipynb\">subtraction</a>.<a class=\"ProveItLink\" href=\"../../theorems.ipynb#all_but_one_nonmembership_unfolding\">all_but_one_nonmembership_unfolding</a> theorem\n",
    "========"
   ]
  },
  {
   "cell_type": "code",
   "execution_count": 1,
   "metadata": {},
   "outputs": [],
   "source": [
    "import proveit\n",
    "theory = proveit.Theory() # the theorem's theory"
   ]
  },
  {
   "cell_type": "code",
   "execution_count": 2,
   "metadata": {},
   "outputs": [
    {
     "data": {
      "text/html": [
       "With these <a href=\"allowed_presumptions.txt\">allowed</a>/<a href=\"disallowed_presumptions.txt\">disallowed</a> theorem/theory presumptions (e.g., to avoid circular dependencies), we begin our proof of<br><strong id=\"all_but_one_nonmembership_unfolding\">all_but_one_nonmembership_unfolding:</strong> <a class=\"ProveItLink\" href=\"../../../__pv_it/theorems/211f05bb855f3c857d08f08ff06f5b8768bf3b090/expr.ipynb\"><img src=\"data:image/png;base64,iVBORw0KGgoAAAANSUhEUgAAAXAAAAAZCAMAAAAfS4UrAAAAS1BMVEX///8AAAAAAAAAAAAAAAAA\n",
       "AAAAAAAAAAAAAAAAAAAAAAAAAAAAAAAAAAAAAAAAAAAAAAAAAAAAAAAAAAAAAAAAAAAAAAAAAAAA\n",
       "AADXrLZzAAAAGHRSTlMAq1RmmUTNIjK7EInv3XbP4duh6fPj951y2Qx9AAAACXBIWXMAAA7EAAAO\n",
       "xAGVKw4bAAAE6klEQVRo3u1aCZPdJgw2l7lsJW3S1P//lxYwYMTha/KmbSaanaddYx18CCH0dpqe\n",
       "E1nXVU6/6SmBw42+EZx/Y/eWGPslAJcVP3/r7vOn79zx69cAHCjmI7dN/7mA2xYeUtJ8WHCAkzxM\n",
       "2QPAX4h9iqjFfECKVGKcWzsx4eBkNy08DwWGuQeci4yjfAD4C7EPkZkxH9HhcSDto87orYp9kn9V\n",
       "UFt4kwwM5g7wvPBSP0kpL8Q+RJxhPqIVS/EdgIAl40eSzTBrVVt4c0jyirMDfEufAP5C7EO0VLy7\n",
       "tfX67ftaBuqmyuy6mGZd5NxYeOWdQdwDng7O+/tmLs/bf/sEpTPmvbNrBjMRhR5tu/tqfzofMZwC\n",
       "iNPawrucwhAPqC2rp8U+A/y52IcyisXcABCjbLHxpN+MVR4222aLFbCkeLvOQGPN/TMFQgoyBGmO\n",
       "PADOg2VtHgJ+JsZPslqcJz09a5lFeVNZHuzAZQh500Bg4gdg4VRnlSjbHJHkAyuWY98KAI2FRjNf\n",
       "C8pLZie6BANIc+QBcEnSR9hsFoCBugYci2E6OUjjEBNn1lSTNmOEtCuZLsuRM+nn6jII6x85RSDq\n",
       "bUtm6FKXj6upLXQ0d6tPui8J0Uhz5Hsi9lFqY9FE/cqq7c7FpxS7B7gC8uVrkIgbbmStTZvxiWgy\n",
       "2CIQ92vHZ7x4Lv7++uE+Gq/4FoWRC35HUN5YaDX3M4oT8LNaAGmOfAfcT3tGJzK5A3gpdgtw7rJQ\n",
       "rHNjUTyyNgS8jdQK8OmYa0JAt7UUS5k8PhZLdc0pLxdDzaMz2m0DB7BCmkUZ4Q62nOL201vGmol0\n",
       "4ZgzT2IAXLqfLuB5zF+3YmSnI6m01ovnw4EEeHNkVSklTNgpNLjQw0V48kJu8S264opd6Y6FRnM/\n",
       "h+/bABasOfIIuKU5cGDbdFp/mJxDbTrNgGcxkD5lzbQHeB4LkQYClQKFNRyBc+2ASI7XWVxDyY0W\n",
       "E1nC0VWs+CSwVEIh1R8T0/hCTkRjoad5sL1J+ig0Rx4Bl8uxPobybf9LGu8Y6CHgWYwFr1Q3peQx\n",
       "wY4BoRtrKO3OqnHA19KlZF3R7ZxuynAHiyg3wkxxEe5C0+JikCMUDboinWnuZ05y1Pl11ZpuL9mh\n",
       "fVLpCCHuLQLjbmExj02Oc/g+xmatv/yhtXeYksqa0omkrxNSR6NwgM6BqxpwtZbccBfPlDOKM8gP\n",
       "YXDVKggn5HhpxWc/p62Frub+sUks8IRH0hx53Z7dly+3R/xbi7rTnvX7Xg4Aj2PKHq2hHbbKWrmp\n",
       "Se2AXAYpZVoV5r0M9bfVLs0OSwy5nndh1OPrmJ2x5sRrwHmYqLsPGBstie26H+7A8AZ4D/BiTBtD\n",
       "UMciWxtWKYcD6QnAVX/oQSf8ZnfqRPMAa7PQfmetAVz5JrEPxyDhdpCerwGfOPgLjOlG+DEm9Z85\n",
       "VHzmOKyNGyTZgfREt6+nR3r4lc5FQ/Oy4amfdKBX2FNhqTlbOPnGxwFunJ1eEXFd/fdnYL76JC36\n",
       "F5ge4IUD6UlHc3pmRrhddT8u8TRPWtCUQW69N7EwBtyfMu64EvP08wAvvxvip5OMRWDhQAS8KyYB\n",
       "85rOr3G+cL0iCdMbSpoPC2PA/YBgYKefCDgpU6k9zat7SXI4oPYin4np/00vv0S+/L8UOWozDP/q\n",
       "9IBKfeqOzH+dYF0X9g/Ddyi6FLfnIAAAAABJRU5ErkJggg==\n",
       "\" style=\"display:inline;vertical-align:middle;\" /></a><br>(see <a class=\"ProveItLink\" href=\"../../../__pv_it/theorems/74ef3af14bbf0fafe12b340c622247579e418be20/dependencies.ipynb\">dependencies</a>)<br>"
      ],
      "text/plain": [
       "<IPython.core.display.HTML object>"
      ]
     },
     "metadata": {},
     "output_type": "display_data"
    }
   ],
   "source": [
    "%proving all_but_one_nonmembership_unfolding"
   ]
  },
  {
   "cell_type": "code",
   "execution_count": null,
   "metadata": {},
   "outputs": [],
   "source": []
  }
 ],
 "metadata": {
  "kernelspec": {
   "display_name": "Python 3",
   "language": "python",
   "name": "python3"
  }
 },
 "nbformat": 4,
 "nbformat_minor": 0
}