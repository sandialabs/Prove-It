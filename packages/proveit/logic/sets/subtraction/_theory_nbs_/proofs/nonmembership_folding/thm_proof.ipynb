{
 "cells": [
  {
   "cell_type": "markdown",
   "metadata": {},
   "source": [
    "Proof of <a class=\"ProveItLink\" href=\"../../../../../../_theory_nbs_/theory.ipynb\">proveit</a>.<a class=\"ProveItLink\" href=\"../../../../../_theory_nbs_/theory.ipynb\">logic</a>.<a class=\"ProveItLink\" href=\"../../../../_theory_nbs_/theory.ipynb\">sets</a>.<a class=\"ProveItLink\" href=\"../../theory.ipynb\">subtraction</a>.<a class=\"ProveItLink\" href=\"../../theorems.ipynb#nonmembership_folding\">nonmembership_folding</a> theorem\n",
    "========\n",
    "*** see <a href=\"../__pv_it/0452ef6f32e5f09e4d3cbe4c2789cce71d6948f90/dependencies.ipynb\" class=\"ProveItLink\">dependencies</a> ***"
   ]
  },
  {
   "cell_type": "code",
   "execution_count": 1,
   "metadata": {},
   "outputs": [
    {
     "data": {
      "text/html": [
       "With these <a href=\"allowed_presumptions.txt\">allowed</a>/<a href=\"disallowed_presumptions.txt\">disallowed</a> theorem/theory presumptions (e.g., to avoid circular dependencies), we begin our proof of<br><strong id=\"nonmembership_folding\">nonmembership_folding:</strong> <a class=\"ProveItLink\" href=\"../../../__pv_it/theorems/1f399450c253a4bf247e52ffa296a737a9a1ac420/expr.ipynb\"><img src=\"data:image/png;base64,iVBORw0KGgoAAAANSUhEUgAAATwAAAAXCAMAAAChxwN1AAAAS1BMVEX///8AAAAAAAAAAAAAAAAA\n",
       "AAAAAAAAAAAAAAAAAAAAAAAAAAAAAAAAAAAAAAAAAAAAAAAAAAAAAAAAAAAAAAAAAAAAAAAAAAAA\n",
       "AADXrLZzAAAAGHRSTlMAq1RmmUTNIjK7EInv3XbPqdvt6fPj953wOx8yAAAACXBIWXMAAA7EAAAO\n",
       "xAGVKw4bAAAEK0lEQVRYw91Y53IeIQykd3Cqw/s/aY56wOmKx/mRzzcZ42AkYFmtBAh9gU9+6K/y\n",
       "X0wl0Rf5Arn8szDno6X44Fw8jC3u/YS+JnbEXv5Z4YvRIt66pzpGvH1Cq4x9RSm3jHdHr0lFc0Oe\n",
       "fYPH0STGBzM4nRsc1Ujk1PaDkfo1icduAsZfjGY43jNGxhKqPLLMRFYZyQYkLXlN8NyVGmr/85cX\n",
       "Z6OttIVN13Fbx9AKoquApZbWsxCviR05XzcXwSCsTkfLgEK8pwyuoS1cYalogKXW+fQ5+6JR29Zt\n",
       "QsBG2T2AZIqpRRHZuEuWRO8+SxbJM9jXY7B4aFnu1OZUkW9WPxMB0BCqZl8BZNCjdHU0bTxI6wg4\n",
       "IOanBEgDPDoRc4NZxVvOqKjDdi67JRVDK3H7AWPnBuIrHZm1TA9dU56hHPCgV18MAJifr36c82Dq\n",
       "K9OoTKq0hWnfpACKPE/mU5cR355XySnENcfEjW0inT1dvJ1kgeaDDQ4Gz6xLUQHrt2+rL25HHDBk\n",
       "mC01P8zJV6a4uvAELRtjVCU5+v2+/dDH0TmZMLZlW70XMX7/RnK4tnbVqDi2JFykC67cyHxc0nWE\n",
       "wWPLEbAkCdgcfGU+1KI8w7EaFktozoVKIxxoWqnRQAmxjzZlbPR3zGvcbMkWcTe1oktDCExu/yaV\n",
       "ESMrXFqN8RQGz89OchU+kKr7KnsqlllsPQIswTlXOIZA5CnAjBkX49HZ6Mp7724lj7akW4Enfmot\n",
       "qecZJMIaCTIp9BgMW8FIKZvSv15vit1JPnsU+NEXYf0+mIlXr5iLJTgnWVRPh8ozjnACYg/rEBBf\n",
       "JVI3bnL68H5WJW8DUfT72tRK16iZ3asxaGeBy/JjMIPB43pyUhaoAV9cd9NMvPr/xRKcky8XoVo4\n",
       "kKgMcyWF9oxB8FoCtzJDtj3puyuGqCt2XS9audPaYZLZ2ZbmLI5mkR8ZOQgewZMTKrTWb981OfhS\n",
       "FSxaE0A3HC23jxznVAt4qgSPYRvRCKNkSl/v3ECjzXbXL7KbfrkqVnB/Fdgdez63Y44a36pCWbaa\n",
       "5WcTF7hUaRurTlRaVk8Xo68We6KWlx2R0RKecw1b5M8vWPSP1VvqFM9GP33R83Pb+x2yImupsYMw\n",
       "pPqidMhMHONPwjbr8+4kIdPTxeAry1HZHbZDppktd8mb5gxrnUzZ05e8m9EffIg4PEiwwG0I6a0l\n",
       "HTfLUmhYFLx0UBFtKlcJOgFPy9EJklrZetKjrzpu3F7pmCx7PT/PqQ8apc9UC3wn0p98eGtOLx+h\n",
       "yG0HAN5awhr7Q7dSdy3B5mpyFR5jNWQJmEJdF+9E5pMvbw38q0NYlfbYAV7P2OISfp1m8kkXemia\n",
       "XkdgtYepEz6DXZBzC2vtbQcIHrIzxhiCHLzHWvNk7RdX4Jf85NUbjHn+TPMIPPNfbf0vCDQlRvdv\n",
       "cMYAAAAASUVORK5CYII=\n",
       "\" style=\"display:inline;vertical-align:middle;\" /></a><br>(see <a class=\"ProveItLink\" href=\"../../../__pv_it/theorems/c5b75ea094f5e8d8df9934589d7dc9426f0e164a0/dependencies.ipynb\">dependencies</a>)<br>"
      ],
      "text/plain": [
       "<IPython.core.display.HTML object>"
      ]
     },
     "metadata": {},
     "output_type": "display_data"
    }
   ],
   "source": [
    "import proveit\n",
    "%proving nonmembership_folding"
   ]
  },
  {
   "cell_type": "code",
   "execution_count": null,
   "metadata": {},
   "outputs": [],
   "source": []
  }
 ],
 "metadata": {
  "kernelspec": {
   "display_name": "Python 3",
   "language": "python",
   "name": "python3"
  }
 },
 "nbformat": 4,
 "nbformat_minor": 0
}