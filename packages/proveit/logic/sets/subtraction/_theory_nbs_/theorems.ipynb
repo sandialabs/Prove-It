{
 "cells": [
  {
   "cell_type": "markdown",
   "metadata": {},
   "source": [
    "Theorems (or conjectures) for the theory of <a class=\"ProveItLink\" href=\"theory.ipynb\">proveit.logic.sets.subtraction</a>\n",
    "========"
   ]
  },
  {
   "cell_type": "code",
   "execution_count": 1,
   "metadata": {},
   "outputs": [
    {
     "name": "stdout",
     "output_type": "stream",
     "text": [
      "Defining theorems for theory 'proveit.logic.sets.subtraction'\n",
      "Subsequent end-of-cell assignments will define theorems\n",
      "'%end theorems' will finalize the definitions\n"
     ]
    }
   ],
   "source": [
    "import proveit\n",
    "# Prepare this notebook for defining the theorems of a theory:\n",
    "%theorems_notebook # Keep this at the top following 'import proveit'.\n",
    "from proveit.logic import Forall, Iff, InSet, NotInSet, Set, Difference, And, Or, Equals, NotEquals\n",
    "from proveit import x, y, S, A, B\n",
    "%begin theorems"
   ]
  },
  {
   "cell_type": "code",
   "execution_count": 2,
   "metadata": {},
   "outputs": [
    {
     "data": {
      "text/html": [
       "<strong id=\"membership_unfolding\"><a class=\"ProveItLink\" href=\"proofs/membership_unfolding/thm_proof.ipynb\">membership_unfolding</a> (conjecture without proof):<br></strong> <a class=\"ProveItLink\" href=\"../__pv_it/theorems/88d724e37dff4750638115a7bfb1f39bbfd5f11c0/theorem_expr.ipynb\"><img src=\"data:image/png;base64,iVBORw0KGgoAAAANSUhEUgAAAU8AAAAXCAMAAAC8uT3uAAAAP1BMVEX///8AAAAAAAAAAAAAAAAA\n",
       "AAAAAAAAAAAAAAAAAAAAAAAAAAAAAAAAAAAAAAAAAAAAAAAAAAAAAAAAAAAAAADFBd4eAAAAFHRS\n",
       "TlMAq1RmmUTNIjK7EInv3Xbp8+P3nXbhrUQAAAAJcEhZcwAADsQAAA7EAZUrDhsAAAQdSURBVFjD\n",
       "5ViJktUgEAz3jbry/98qR0gYjiTvWVrPkrJ2djE00Mz0DGzbv9BEZ98d//434s8t7u83j6F9gUie\n",
       "DfOP51g0rpf/VcGLRUc/Jh9KJzbQvtB42NkiD+dYNInav4gKAcXGlWzBs6XsmPtDHVZzaF85iRAW\n",
       "/mXwdI5VO1kqzapsUJAteLIH80J9qHtSAu0rQ1HYnYRQyJ/j0zlWzXUyEkqMs0Bb8GwruQZ/KJ+2\n",
       "s1P1Uy623smMMMWB0mjgoJ4gNptjgf3tO8QmOyzZea3gyZL9aPiH0ok5tLOMwP0sXQi/+VC9hBPo\n",
       "b1JN5lhhIwk70S4j3AoAnq1NR+us+dRwN9Bq75GWpgknsUi+NAlopdGgLvu06eIGe1DXIp8aOQnB\n",
       "s6W5Uy0LAn234VsPE4+xJnUNOPsynUd+o6ekLRIpi6zIUN2EtJykEZiOcyywSbcsGZSPzJ8uX8Gz\n",
       "Faj+mNNpG2eXKlBjqGr9/y6PETbHmmKOh+MwsEQk2YoheMYvX5+zCHVf2PbVj9P9HCvs3v99yXLY\n",
       "kg682OSahq3oMKFNVCQfnbe3fEqPlGI5KlZYM0w2yI5lwCbWKWBQFsGKTcE0QmnM7+rwqUb+Stno\n",
       "+zkW2D++Omxl63YkBC8W+4tsxKRtvR2VAiHc8UmpHEu3DmuKOWhhx2f+FaDo6QJ0+SbU0GW2Lza1\n",
       "G+aYYw+VT3X6mt4P8N3yQyG8pyL+A4rGWymwOK+EzPk8hjf3EbfEmmIOi+/iPVd9cQatV8UhUHVX\n",
       "acRuqOUp7ueYY/f4siY5FBgE363Bu1d4sSG1cQwSRBsBsZAlhMLy4eTzGN64jOArrDkm7hVU+dbq\n",
       "qCEocWTaU5yEFYEXznhHHPg/l3aJzfoV7fIZeeUd+G6FrQ6coWUb7VAss9RpROd8HsPZ6Z5MrbDm\n",
       "mKyPXlCLxAJIampL8j6TxqDKos6j6gWJHiSd2fpIq5fYffEZq849uA9t6mu6ZkgQsPgzBgXdSZ0I\n",
       "bKWfZTjhKre4MIwGLKlqEyOm7PmUrrWaRo/BlAAGNVJMA9ULIe8Vp1/KHt2xZKTPnLk9wP4C2DEC\n",
       "62PI+V0Fd0NWl7Z9yPNlpxJKXRSZVb20D5emqYZWWHPMId63WjQ7ua7JmFGT+2brsO76fr7GJj/v\n",
       "sA/wfpIYJYZnKdemEaFU5JQOkV1Vu3m8n8Pb24EDgjYWTB3mKIbgteF3H1VWpNF3Xj5vX2yoZ8an\n",
       "u7BMTkOzrGoaOCsdhAeTKm/IiRqHb+Ks+EtQt1hwJx2mGi87tUu9/6B4+3i2xH7w7FY/ufwU33Zc\n",
       "1p/aJH1k0wr98rFTrfv0+y+Kt0exxH7w7PbkvJm+63h836SvuNX0Y+Ghfbn5+yWssNFj8MtJyG3H\n",
       "Yz43ox9vnLDtv2/3Z/+cT/2vk/ELnWIl+7AEJiEAAAAASUVORK5CYII=\n",
       "\" style=\"display:inline;vertical-align:middle;\" /></a><br>"
      ],
      "text/plain": [
       "<IPython.core.display.HTML object>"
      ]
     },
     "metadata": {},
     "output_type": "display_data"
    }
   ],
   "source": [
    "membership_unfolding = Forall((x, A, B), And(InSet(x, A), NotInSet(x, B)), \n",
    "                             conditions=[InSet(x, Difference(A, B))])"
   ]
  },
  {
   "cell_type": "code",
   "execution_count": 3,
   "metadata": {},
   "outputs": [
    {
     "data": {
      "text/html": [
       "<strong id=\"membership_folding\"><a class=\"ProveItLink\" href=\"proofs/membership_folding/thm_proof.ipynb\">membership_folding</a> (conjecture without proof):<br></strong> <a class=\"ProveItLink\" href=\"../__pv_it/theorems/b352dcc136afbd0c929f64081fc9c068cf33dafc0/theorem_expr.ipynb\"><img src=\"data:image/png;base64,iVBORw0KGgoAAAANSUhEUgAAARwAAAAXCAMAAADumgClAAAAPFBMVEX///8AAAAAAAAAAAAAAAAA\n",
       "AAAAAAAAAAAAAAAAAAAAAAAAAAAAAAAAAAAAAAAAAAAAAAAAAAAAAAAAAAAo1xBWAAAAE3RSTlMA\n",
       "q1RmmUTNIjK7EInv3XbP4duhPeprPQAAAAlwSFlzAAAOxAAADsQBlSsOGwAAA4dJREFUWMPdWAly\n",
       "3CAQ5L7Bdvj/X8Mt0ILQ7laq1qFSzhgPDZrpaQ4AfkHj/9B7MZaDX9Icetmbs+emom4wYPsDwp8Z\n",
       "G6Rf92Z+OwBL72FoTIoY2hqEZBDagD6TSoq97o28vzHGyPQf9DE6TNVwBENU6nD5mcQh+HVvAv0+\n",
       "49znWqKeRCKRyijShUqjzwyOudIXaUNjK2/NdWLDpq6KD85BMpU60cAl1uxDFWe9LsqcuvLmDji/\n",
       "TzkspcdMYhmr3EuGidG3Rn9oVZV1KeegErrjN2dq6Z1/iaKDb0qOgjYTSFedSQZJnVItNW6z+ntC\n",
       "eUHrS+bXRIZpHHSAWHC1gbAuFjTEUfhtzoWXLgS+jcSsNzisP+afZbrFC+mJ1kR2Xbd0fAA5NbmE\n",
       "js1mqmAeRUEBeHz9rN4sGrPGPdyei7JmI1OQUZWtbETSaLoarIeyxSlzzmyDIxyUks5BBq+vb7qC\n",
       "TqTPf40hI0M4RJaD0OSDdxZrQsJuJY9N3h6tT66pSxSFSY1SKUTuQo6pMK5XL5KFfRccQsQaZPCC\n",
       "agl9+twRQ80mPrxVdvZ2x5zKLVx39JqdYjCAy7zOER7+9awDrGemiQxQFs+D04a7UQcHkGOO6KXg\n",
       "GnosFBr5rw7xspdlVaTQmq3k4Lpp5cCiilsMjYrwOw6gBAz1nzWwORyYMCZQgGlw2vBTVgeQY47k\n",
       "5egaOsG7TBMKYPxO3Wdiol/tboRv3h+K5IQgsXqdAIPBTaVWghd9PYwqkHRBQTIPThtO8ViZPcgx\n",
       "R/KSF9DHzoq8UMTkHehQ5Ecdq/swr9PJ3RGZmVJD9WDQTgPV6PI1goX9Q0OvTpLDPV1pTh6OmUwN\n",
       "TUHqHNHr66d6TaBTRhO5FQk8QQQP4VBQUjX1DnfJ9K0oGlebOWy3zoZs6dno9oD+LcPl9YpRckL1\n",
       "r7byMlzosahGkDpH9GpyPIPOa7w4BlEtT9cHu78ubG5a9myARkbNkpYp3RVu3IZzB0/5V3ZeVsfw\n",
       "/kh5AumcgtchxzPo4wJ4uz3nfXVzfbjwEke1ixcWEfNIkhQp4hnNHZh5Hc9pCMw1pw0PV/yawQeQ\n",
       "wyl4/RHtODqBLhM89ZQi33t4aW8Tl48UaNtxec5ROmoO3YCo76nXyemptxT13stLi+1VkM9K99jx\n",
       "1PVhAXLv8ZG7p3Lv3oiN42djWrvbjleCcwaBCvzf7Z0a//DY/AVULR9tzkCTOQAAAABJRU5ErkJg\n",
       "gg==\n",
       "\" style=\"display:inline;vertical-align:middle;\" /></a><br>"
      ],
      "text/plain": [
       "<IPython.core.display.HTML object>"
      ]
     },
     "metadata": {},
     "output_type": "display_data"
    }
   ],
   "source": [
    "membership_folding = Forall((x, A, B), InSet(x, Difference(A, B)), \n",
    "                           conditions=[InSet(x, A), NotInSet(x, B)])"
   ]
  },
  {
   "cell_type": "code",
   "execution_count": 4,
   "metadata": {},
   "outputs": [
    {
     "data": {
      "text/html": [
       "<strong id=\"nonmembership_equiv\"><a class=\"ProveItLink\" href=\"proofs/nonmembership_equiv/thm_proof.ipynb\">nonmembership_equiv</a> (conjecture without proof):<br></strong> <a class=\"ProveItLink\" href=\"../__pv_it/theorems/d7e309683ee315d9aa0a2d0d82be894f09e36af80/theorem_expr.ipynb\"><img src=\"data:image/png;base64,iVBORw0KGgoAAAANSUhEUgAAAZ8AAAAWCAMAAAAo9GECAAAAP1BMVEX///8AAAAAAAAAAAAAAAAA\n",
       "AAAAAAAAAAAAAAAAAAAAAAAAAAAAAAAAAAAAAAAAAAAAAAAAAAAAAAAAAAAAAADFBd4eAAAAFHRS\n",
       "TlMAq1RmmUTNIjK7EInv3Xbp8+P3nXbhrUQAAAAJcEhZcwAADsQAAA7EAZUrDhsAAAROSURBVGje\n",
       "7VlXltwgEBRBiOzE/c9qkjS0AKE0/jJv39Z4VlDV0El4ml4byw6Pnzr18CuMTyVeVLu8Zc0yvTos\n",
       "htgZTLYmJUHsIuVsIX5FYintBNFg7QvWJETb3zF5cjxYQewMjlqT8r64IQsRziE/mOBxM7JkS74m\n",
       "EUobEg3WvmRNRDpvGp4ElGQQe+NDVz2MnTtBpEUE5Hjp6g2Xf0fiXlpBhLaP3LYtempNwM1bFvEk\n",
       "fCiB2BumNSn/C7mxhywu7cXsaPRAmj2RfkniXlpBRLZTSe5/Zu1r1kRcD0vhJ+ejd9hMzcL8+GlY\n",
       "PSnxL8rxcUrIz5Bsmc7qtfyOxEpaQWTqujlY2w92xZqAJB85e3I8mEFslT9m5YR4Y1Iy0k7WjV0E\n",
       "5UTDdHJotqonX5FYSyuIVo+muGlRY+2r1kTU4ViNVo/Sm4IorUWSqyImlxCnMD3TkpKGLD/ODilh\n",
       "S2TyLioE8WWJtbSCaI0bU3F01r5sTUQa/yi6CeJE6a0O3ptkkZ3oR3rsPohtTYru5U3hbugj3Anr\n",
       "bf/MJAxi4DbFQM8k1tIKohxq1lYcnbUvWxNxQeuv9vHoIuC5cFQpKvY5wGCAZAk51eeKzwmwus0y\n",
       "GPior5bDILCpTmO9Low1xIOyf0diLa0kSr2VkXuO3tqXrUkYQkfNPbsUqAokuoTd74aeAYbjo0AS\n",
       "D1n012//S1STYu2k1DdJomiGiyD4eIPQqyi+uiDEg8x4R2ItDRCFqMC04uisHUe59tCahNgedAcz\n",
       "12XEo9QIumPj40eQKKSoW8TPwzI968xok1c3XhueadYQT5/POYm1NEAU3kbLzHW89nVrMrIt61pL\n",
       "F/9Tus/Eyqyjg35pyHHyiC29X0XCZtS0J6UUEr7Qw/JD1sYn7wQ2EPv155bEWho28F2Ji6ZFrbWv\n",
       "W5NR4Zx17TIhMTFcHg+IVP9CRQitW1BhS5RinlAwqKj3vorOtD1pmsnJC56csL1lbLsigdgftyTW\n",
       "0iCRJWiuODpr37Am46LXQIsUvMxusNjE8iNR9bYOG0PsuKQ6dT6fXI33x7pOWlYCMbpAYDqH/VbF\n",
       "911zf9ySWEuDRBK+bx6ufcOaFQtZcIt8s6aQk7vys7h9N8FNiZJ6d8GUAEkS/Z5lY5IUzkWBOHw4\n",
       "2ma0XSd+FjYzxIPceF1iS9qOiOKGRe21BTT/jDW1VVyX//Fg02lwWH58cq0S3Npjmf4VDfmjBLzg\n",
       "MOP7nNEFloF42GDfkdgjHHA0O63R2pU1ezIfzYrFkihVkXxDg52+WGIoSVPfRp64qKzfLM7car5z\n",
       "53lbYo9wwPGONRUZtbOy4Z6Ih0ChsSxJ6ticviDMqfB22romEwvE2jlEf9Lt8BFX7t5vSbz4xBOL\n",
       "9tYckuHhF7v3BHHU6Xfux6V4dj7DHX8u8eL2P7Fob80R2SxHXzRueQFW1f1o0r1hF4jTNyS2CE9w\n",
       "PLfmkIwMv/g//sX4CwgyMZOeOwZKAAAAAElFTkSuQmCC\n",
       "\" style=\"display:inline;vertical-align:middle;\" /></a><br>"
      ],
      "text/plain": [
       "<IPython.core.display.HTML object>"
      ]
     },
     "metadata": {},
     "output_type": "display_data"
    }
   ],
   "source": [
    "nonmembership_equiv = Forall((x, A, B), Equals(NotInSet(x, Difference(A, B)), \n",
    "                                              Or(NotInSet(x, A), InSet(x, B))))"
   ]
  },
  {
   "cell_type": "code",
   "execution_count": 5,
   "metadata": {},
   "outputs": [
    {
     "data": {
      "text/html": [
       "<strong id=\"nonmembership_folding\"><a class=\"ProveItLink\" href=\"proofs/nonmembership_folding/thm_proof.ipynb\">nonmembership_folding</a> (conjecture without proof):<br></strong> <a class=\"ProveItLink\" href=\"../__pv_it/theorems/c5b75ea094f5e8d8df9934589d7dc9426f0e164a0/theorem_expr.ipynb\"><img src=\"data:image/png;base64,iVBORw0KGgoAAAANSUhEUgAAATwAAAAXCAMAAAChxwN1AAAAS1BMVEX///8AAAAAAAAAAAAAAAAA\n",
       "AAAAAAAAAAAAAAAAAAAAAAAAAAAAAAAAAAAAAAAAAAAAAAAAAAAAAAAAAAAAAAAAAAAAAAAAAAAA\n",
       "AADXrLZzAAAAGHRSTlMAq1RmmUTNIjK7EInv3XbPqdvt6fPj953wOx8yAAAACXBIWXMAAA7EAAAO\n",
       "xAGVKw4bAAAEK0lEQVRYw91Y53IeIQykd3Cqw/s/aY56wOmKx/mRzzcZ42AkYFmtBAh9gU9+6K/y\n",
       "X0wl0Rf5Arn8szDno6X44Fw8jC3u/YS+JnbEXv5Z4YvRIt66pzpGvH1Cq4x9RSm3jHdHr0lFc0Oe\n",
       "fYPH0STGBzM4nRsc1Ujk1PaDkfo1icduAsZfjGY43jNGxhKqPLLMRFYZyQYkLXlN8NyVGmr/85cX\n",
       "Z6OttIVN13Fbx9AKoquApZbWsxCviR05XzcXwSCsTkfLgEK8pwyuoS1cYalogKXW+fQ5+6JR29Zt\n",
       "QsBG2T2AZIqpRRHZuEuWRO8+SxbJM9jXY7B4aFnu1OZUkW9WPxMB0BCqZl8BZNCjdHU0bTxI6wg4\n",
       "IOanBEgDPDoRc4NZxVvOqKjDdi67JRVDK3H7AWPnBuIrHZm1TA9dU56hHPCgV18MAJifr36c82Dq\n",
       "K9OoTKq0hWnfpACKPE/mU5cR355XySnENcfEjW0inT1dvJ1kgeaDDQ4Gz6xLUQHrt2+rL25HHDBk\n",
       "mC01P8zJV6a4uvAELRtjVCU5+v2+/dDH0TmZMLZlW70XMX7/RnK4tnbVqDi2JFykC67cyHxc0nWE\n",
       "wWPLEbAkCdgcfGU+1KI8w7EaFktozoVKIxxoWqnRQAmxjzZlbPR3zGvcbMkWcTe1oktDCExu/yaV\n",
       "ESMrXFqN8RQGz89OchU+kKr7KnsqlllsPQIswTlXOIZA5CnAjBkX49HZ6Mp7724lj7akW4Enfmot\n",
       "qecZJMIaCTIp9BgMW8FIKZvSv15vit1JPnsU+NEXYf0+mIlXr5iLJTgnWVRPh8ozjnACYg/rEBBf\n",
       "JVI3bnL68H5WJW8DUfT72tRK16iZ3asxaGeBy/JjMIPB43pyUhaoAV9cd9NMvPr/xRKcky8XoVo4\n",
       "kKgMcyWF9oxB8FoCtzJDtj3puyuGqCt2XS9audPaYZLZ2ZbmLI5mkR8ZOQgewZMTKrTWb981OfhS\n",
       "FSxaE0A3HC23jxznVAt4qgSPYRvRCKNkSl/v3ECjzXbXL7KbfrkqVnB/Fdgdez63Y44a36pCWbaa\n",
       "5WcTF7hUaRurTlRaVk8Xo68We6KWlx2R0RKecw1b5M8vWPSP1VvqFM9GP33R83Pb+x2yImupsYMw\n",
       "pPqidMhMHONPwjbr8+4kIdPTxeAry1HZHbZDppktd8mb5gxrnUzZ05e8m9EffIg4PEiwwG0I6a0l\n",
       "HTfLUmhYFLx0UBFtKlcJOgFPy9EJklrZetKjrzpu3F7pmCx7PT/PqQ8apc9UC3wn0p98eGtOLx+h\n",
       "yG0HAN5awhr7Q7dSdy3B5mpyFR5jNWQJmEJdF+9E5pMvbw38q0NYlfbYAV7P2OISfp1m8kkXemia\n",
       "XkdgtYepEz6DXZBzC2vtbQcIHrIzxhiCHLzHWvNk7RdX4Jf85NUbjHn+TPMIPPNfbf0vCDQlRvdv\n",
       "cMYAAAAASUVORK5CYII=\n",
       "\" style=\"display:inline;vertical-align:middle;\" /></a><br>"
      ],
      "text/plain": [
       "<IPython.core.display.HTML object>"
      ]
     },
     "metadata": {},
     "output_type": "display_data"
    }
   ],
   "source": [
    "nonmembership_folding = Forall((x, A, B), NotInSet(x, Difference(A, B)), \n",
    "                              conditions=[Or(NotInSet(x, A), InSet(x, B))])"
   ]
  },
  {
   "cell_type": "code",
   "execution_count": 6,
   "metadata": {},
   "outputs": [
    {
     "data": {
      "text/html": [
       "<strong id=\"nonmembership_unfolding\"><a class=\"ProveItLink\" href=\"proofs/nonmembership_unfolding/thm_proof.ipynb\">nonmembership_unfolding</a> (conjecture without proof):<br></strong> <a class=\"ProveItLink\" href=\"../__pv_it/theorems/4e721b739bc7093b072056e596ca482cf87bdabb0/theorem_expr.ipynb\"><img src=\"data:image/png;base64,iVBORw0KGgoAAAANSUhEUgAAAU8AAAAXCAMAAAC8uT3uAAAAS1BMVEX///8AAAAAAAAAAAAAAAAA\n",
       "AAAAAAAAAAAAAAAAAAAAAAAAAAAAAAAAAAAAAAAAAAAAAAAAAAAAAAAAAAAAAAAAAAAAAAAAAAAA\n",
       "AADXrLZzAAAAGHRSTlMAq1RmmUTNIjK7EInv3XbPqdvt6fPj953wOx8yAAAACXBIWXMAAA7EAAAO\n",
       "xAGVKw4bAAAES0lEQVRYw+VYia7jKBA0982cO8v/f+lwGJvmMHn7tFJGg6J0REy1KbqLhuP4E5ro\n",
       "7PNTH/nnY8984uXeqXkM7aJxPc6VZ8P8yz4+3ip4sejqx+RN6cQG2kWTaEJxONkiL/p4qREVAoqN\n",
       "K9mCZ0vZ5ftNA1ZzaFftnsnNUghj7KLrp/S9j1ebVQUqyBY82WtVhXrT8KQE2lVzk6EonEFC6B1d\n",
       "F4slvF7B7mUkFAwWaAuebSXX4Dfl03Z2qn7K/fjp+iAzwoRKmdUD8YIPPhbYsQFscsKSk9cKniw5\n",
       "l4a/KZ2YQzvbEbjXB5JDFPnDhxol/I7AGjkU9z5W2H1Dp4xwKwB4tjbR76x513Q30GrvkZamSSeR\n",
       "UmyigDQJaKXRoH7TbwRig72QT42chODZ0typ9HI/2E34YSMs/rB4FWtS14C1L+488ge92cgbKRmG\n",
       "ssiKDDVMSMN3CWXvBx8L7KGSCMpH5u+Qr+DZClS/5nTaJpGkCtQYqtrcetjHyl+ETbGmmOPiOAws\n",
       "EUm2Ynrf+cvnxSfNG0edF7Z9ZeV072OFPax62eWwJR14sSk0DVtxYkK7UZG8dN5u+ZQeqS9fS1os\n",
       "sGaYbJAdy4BNrFMwS5kE659f8UvBbYTSuL+rK6bamI98YDr4WGDn1mIrW6cjIXix2D/sRkzaNpNQ\n",
       "KRDCjk+aVKRUendd2GFNMYc46/jMPwGKVrPqRJdnQk1dZrvqvc3kZ+yh1aCv2/sFflp+qY/3VMQP\n",
       "UDTeSoFN760dmfN5Dc9HhTMw3QprijkQ0+V7rvqiBw3rH7dQdVdpxA7WqlJNfMyxR/kkdZtnEPy0\n",
       "Bp9R4cWB1MEx2CDaDIiFLCEUlib3i13Dy7J6Bqs832fTDBP3Cqp8a7ViB0ocmXYVD9aPYgQeOOMZ\n",
       "EYgBQWzwscBeyWfklXfgpxW2BnCGlm22Q7HMUqcRnfN5DS+zKX8wtcCaY7I+w0AtEgsgqaktm/ct\n",
       "h7gvPkX1o+oBiQJh1rA+f8QeKw57JvelTX1N17xOELD4MwYF3UmdCGyln2U44UqpL99UeheMeiyp\n",
       "ahMjpuz5lK61msaIwZSAWWr0i2mgeiHkueL0o8zRwQ2X4tHHAlsB7JiB9TLkfq6Cu2FXl7a9yPNl\n",
       "phJKXRSZVb10DpfmvneoBA1Yc8wh349aNDu5rnP/Nao/E3YB657P/vLhPm6HfYH3TmKWGJ6lXJtG\n",
       "hFKRUzpEDlXt5vl+D08l2FUmuaPD6uUTYI6CBW4bXr75XFyqrBaE/i83NtQz49N5VaagoVlWNQ2c\n",
       "lQ7Cg0mVNz7m+nkNP4SSpi55zuoWC86kw1TjgaR2qdWF4v5qbPuE+sRlZQV/dIK3HY/1pzbfoz6y\n",
       "eYn+dNmp1n169b77q7EtXfoTt5Xb9U4k6F3H5nzU3PbTD6z99FnhoR0OBDtUv38D4f8rnRX80QnZ\n",
       "dmz4RA3/Rr/6boQdf30T+1upl/nUfzoZvwGD9CfMWlUeTAAAAABJRU5ErkJggg==\n",
       "\" style=\"display:inline;vertical-align:middle;\" /></a><br>"
      ],
      "text/plain": [
       "<IPython.core.display.HTML object>"
      ]
     },
     "metadata": {},
     "output_type": "display_data"
    }
   ],
   "source": [
    "nonmembership_unfolding = Forall((x, A, B), Or(NotInSet(x, A), InSet(x, B)),\n",
    "                                 condition=NotInSet(x, Difference(A, B)))"
   ]
  },
  {
   "cell_type": "code",
   "execution_count": 7,
   "metadata": {},
   "outputs": [
    {
     "data": {
      "text/html": [
       "<strong id=\"all_but_one_membership_unfolding\"><a class=\"ProveItLink\" href=\"proofs/all_but_one_membership_unfolding/thm_proof.ipynb\">all_but_one_membership_unfolding</a> (conjecture without proof):<br></strong> <a class=\"ProveItLink\" href=\"../__pv_it/theorems/245de79383f49ac2fbf6937c930276b932ff5d880/theorem_expr.ipynb\"><img src=\"data:image/png;base64,iVBORw0KGgoAAAANSUhEUgAAAUcAAAAZCAMAAACVZBxqAAAAPFBMVEX///8AAAAAAAAAAAAAAAAA\n",
       "AAAAAAAAAAAAAAAAAAAAAAAAAAAAAAAAAAAAAAAAAAAAAAAAAAAAAAAAAAAo1xBWAAAAE3RSTlMA\n",
       "q1RmmUTNIjK7EInv3Xbn9enzK1aD6QAAAAlwSFlzAAAOxAAADsQBlSsOGwAABGRJREFUaN7tWQmP\n",
       "3CwMDfcV+A7+/38tEAiYI5Nku1Ur1VqNV5r4OTyMbTzb9lyQtVZsfyWLC3TgN4b8L3edEPI78yg6\n",
       "/dL8q8/ceK/fmkeHoX4qzN12sRKqr4Crg8AjOr/G5AmPL+yeCTZQ37aj1JiNsMASueliJVIt6CdQ\n",
       "Rx4pO+kRT3h8YfdINIf6rqgYJFr59GYwnAyeu1hjyRUDGurAoyyBJdSjc/3C7pFQAvVdM3osLL0j\n",
       "oYA2y+culuGIlnWFdppUTg1+xOMLu0eyd3p6vlRoOSA7Xrapa9fgNCI2dbEMx/VBK8BZRx5Lrbl/\n",
       "fjioUd9TdTCHepbuuRvKAPPHW8mDTt5GnO3yHf7w5gxdUECATlzscVPtbh7y+Nzu0fk0UGvnkJam\n",
       "CX7BJ8VUe2+apGYQLCogla+hZ3lfu5QGNALAWSceaXKs9FMeH9vV9GLaOJFm0l50G76FROSQ26jd\n",
       "rssb8UFQ+YpwSAumExc9NE3xYf/5N36eG2E2vCd8AEyasylQ+UjRbJwjTt7gEdpNT8YcS/aJyYwg\n",
       "5aaVNRFxCXpD5FMXq53yvjjAe1c0rB5cTKAn+yTxQTRSADjrI8fFkDI5BeOYoKW/1Ye3do1Hh5Ri\n",
       "V1hDYppkqp0BHfeCcrgZNsvYL1CfrRvnKG2nc4OLEfqIAQq3JzwfbXcHgLM+eIzr5aCGoVs8tnZN\n",
       "4yG3D1gveNzqEsrCZu0WKVkyRzPbu15R29HFAD1PGyzEbOBNAmDWxmMggxSgo96JcvFBMyJ4/afY\n",
       "OUdF+IN3CIA10NaAT3jsznVaR0DSuim/45nOryp8fgzbvgeneHDRQ6f8+N//R7DXxaeYdTsEzjrz\n",
       "aPBZ+5z3ipypZgsvNGSzyuNp50RMHBzDKGmxQNTwDpzZ+bXk1DokCrSnbF/RxxgqqyuVeCOqZ13w\n",
       "zsUMerwKxcdR+WiAs848ir3SrjH1ZVt1fDGnljyediS9VQh5BnhrsNrMxmUPPnaCsLHAXmoaFsva\n",
       "3oQPFwBqDSxblVA33vUuoGFhz1iotqd9W1Z6aSRrOo1Pn8k5PIbcet6Dai324gg1lQQDLKmKiFg4\n",
       "ke7BMe+dSNtqTUP0YUowPMWKQfpp6J0pQs3RLSkQ6VoGoYsp9CQcgzvjqBcQOOt+bnZsSr0xx8d2\n",
       "eWduFg9oJMkssZoTiTpwMbmhWQn1vK9S/b0QDgrtZb1cQ68GQYZD4KJ7HmlaYWxjtcmemP88fww8\n",
       "RA8UtOUVa1GvK/jshtaPAr4y6/gwbVjPczoK9Y7nQ5SBRxmHdyLFF05pgih+Y45LXWy5dYo/OWAt\n",
       "eKzg05tumRKo12O5j5OoFTSZhKN1RyZqgU8HV/PwwKMOfiYV9/J+r03Mg+zzDKIBn/JYSr9+PZf7\n",
       "uAMraDu562LizpHrsMUXPMYUHqoA49szHm/I0eY04PPJi3BQPxX3OZAX0PIecHVwwWP8hhFntp/P\n",
       "45aqcwWX/HtGmL9OXv7O9eXfr2VLnJB/NonO2p38AN+2JAfYk3qDAAAAAElFTkSuQmCC\n",
       "\" style=\"display:inline;vertical-align:middle;\" /></a><br>"
      ],
      "text/plain": [
       "<IPython.core.display.HTML object>"
      ]
     },
     "metadata": {},
     "output_type": "display_data"
    }
   ],
   "source": [
    "all_but_one_membership_unfolding = Forall((S, y), Forall(x, And(InSet(x, S), NotEquals(x, y)), \n",
    "                                                         domain=Difference(S, Set(y))))"
   ]
  },
  {
   "cell_type": "code",
   "execution_count": 8,
   "metadata": {},
   "outputs": [
    {
     "data": {
      "text/html": [
       "<strong id=\"all_but_one_membership_folding\"><a class=\"ProveItLink\" href=\"proofs/all_but_one_membership_folding/thm_proof.ipynb\">all_but_one_membership_folding</a> (conjecture without proof):<br></strong> <a class=\"ProveItLink\" href=\"../__pv_it/theorems/576e52fb2675a334d648112f8cd7b766f9a674fd0/theorem_expr.ipynb\"><img src=\"data:image/png;base64,iVBORw0KGgoAAAANSUhEUgAAATIAAAAZCAMAAACFBFK2AAAAOVBMVEX///8AAAAAAAAAAAAAAAAA\n",
       "AAAAAAAAAAAAAAAAAAAAAAAAAAAAAAAAAAAAAAAAAAAAAAAAAAAAAAACXHtMAAAAEnRSTlMAq1Rm\n",
       "mUTNIjK7EInv3Xbt5cmRiLwgAAAACXBIWXMAAA7EAAAOxAGVKw4bAAAEEUlEQVRYw+VZh27cMAzV\n",
       "3lZb/f/HVnud5bOcHtAgQhIQDof0zCUagP0Fj+Pg4Ccu60+Onggy8IMXxt8EMv4xZr8UpaM84rMm\n",
       "/u0gs+hTzIGfUTU+EVCmJ9TmJ5UIkMHKiPAOZA/kHi+kHzEjQrQGmL7hd+r1oczHs+VslfCQkaqR\n",
       "8R3IHsg9XYo9YpbBM5R0bwT0cfWQqYnwkIniLlxuBeYDuaeL4CfMhKQjsi9BhslEhFxW4NNoL5ft\n",
       "yz1d5ioRSV/3D3bC7MSUhR5BBowaiQBZKQH3vZ8NpePjxQCtLVBm1YKZurQ/Ib4GGcMjEY9twns6\n",
       "jN6EbF/uaVxmC8paqITuvJoztWIGyjkt7qjP6CgbQ1rBCTINRyJCRqJmqXYh25YD5DJvL83hKm2h\n",
       "BaR5xUnhqU4BsPMLvi9NJB1HA2SiVIr3Gt81F+IuuDgsf6JDa2uxFTcgG+VO42bSdVUo9LIXyFcU\n",
       "zMOBFID4qkHs7jPKSufM277XRH0CpXcB0x65K3qQGYmUj4KjlB2jkC2Fu9XK9nJdH2ihlPRU1wVk\n",
       "F9CbZEI0jyiWUmrwS87M1YUcbd3H0ZaoZhktPm7Cdk2uFgqyBFrdfyYSZOFobCg48BZkvVzbJBFg\n",
       "pesCsosI6lAwQ/lTcs2MS0Z7U88FKZmFhpZW5DoLdIYS0OJltPcyf25c9pLqDC/XBHiGH2tEkbOW\n",
       "cP/TdcmzrhmyKpFDeG2wxRp1nl+1pHcsAzNncR9gb1NtafSjB5cc1q4E6BiJDJlGtfRY5ySuyQB4\n",
       "SWGWkFU5y0MS8K48vPhe1wxZlSAyrF/+Fy8Mxi7ea6YAmpinO9hfAbDDQcn7el6KY4Su4Kdb+pcj\n",
       "kSHjpr1YhYgrr0gFy1YuIatyOO7V+zQdIOp0zZBVif4Gd24wVXfkhCL+ILSPNPYSdrkVIIceOoQb\n",
       "kBHYmrmuyaigZ6K0o1D0lZ7WjA09G7TrSQZs1dDxVImj00j0qusllzn+mpTODIq4fUW8TyGCB5AU\n",
       "lNMUIjH7hoRCAuGdi0lBR0FtSdlTg+ygIzEPf9IrbLfGwGbEneFPiCZvTuilrhmyLBEC8/cfGQNz\n",
       "YfAQV32MHC9Mx63+ddH9azY/5DMxQ0ZgqV5KZ/vUvZ+XcRONkaGzbbpOIOskuhv+wiAmO1NT8gyy\n",
       "sB1l0AxZu+XjBWQijJh49AEUJ05YshsjRmJD16qiV4kXXWde1iSGC8S5QbkzXpKbs6hcJA+b0sJw\n",
       "JWhBUomrqayHTHnrEu9NZZUOQXbeyp/3ZajlroVBtTNfUpvDqNzoI2zbCFAZPOFfiQvIQlr1iZiy\n",
       "fzjIlpedMVgaBNzuYGA3MSNTmeC6PLAcTMQVZOE/FFsNPg0Z6jxyYfB/Wg8/lzz9jvntP37a4zD4\n",
       "L7N+IX5bLtHQAAAAAElFTkSuQmCC\n",
       "\" style=\"display:inline;vertical-align:middle;\" /></a><br>"
      ],
      "text/plain": [
       "<IPython.core.display.HTML object>"
      ]
     },
     "metadata": {},
     "output_type": "display_data"
    }
   ],
   "source": [
    "all_but_one_membership_folding = Forall((S, y), Forall(x, InSet(x, Difference(S, Set(y))),\n",
    "                                                       domain=S, condition=NotEquals(x, y)))"
   ]
  },
  {
   "cell_type": "code",
   "execution_count": 9,
   "metadata": {},
   "outputs": [
    {
     "data": {
      "text/html": [
       "<strong id=\"all_but_one_nonmembership_unfolding\"><a class=\"ProveItLink\" href=\"proofs/all_but_one_nonmembership_unfolding/thm_proof.ipynb\">all_but_one_nonmembership_unfolding</a> (conjecture without proof):<br></strong> <a class=\"ProveItLink\" href=\"../__pv_it/theorems/74ef3af14bbf0fafe12b340c622247579e418be20/theorem_expr.ipynb\"><img src=\"data:image/png;base64,iVBORw0KGgoAAAANSUhEUgAAAXAAAAAZCAMAAAAfS4UrAAAAS1BMVEX///8AAAAAAAAAAAAAAAAA\n",
       "AAAAAAAAAAAAAAAAAAAAAAAAAAAAAAAAAAAAAAAAAAAAAAAAAAAAAAAAAAAAAAAAAAAAAAAAAAAA\n",
       "AADXrLZzAAAAGHRSTlMAq1RmmUTNIjK7EInv3XbP4duh6fPj951y2Qx9AAAACXBIWXMAAA7EAAAO\n",
       "xAGVKw4bAAAE6klEQVRo3u1aCZPdJgw2l7lsJW3S1P//lxYwYMTha/KmbSaanaddYx18CCH0dpqe\n",
       "E1nXVU6/6SmBw42+EZx/Y/eWGPslAJcVP3/r7vOn79zx69cAHCjmI7dN/7mA2xYeUtJ8WHCAkzxM\n",
       "2QPAX4h9iqjFfECKVGKcWzsx4eBkNy08DwWGuQeci4yjfAD4C7EPkZkxH9HhcSDto87orYp9kn9V\n",
       "UFt4kwwM5g7wvPBSP0kpL8Q+RJxhPqIVS/EdgIAl40eSzTBrVVt4c0jyirMDfEufAP5C7EO0VLy7\n",
       "tfX67ftaBuqmyuy6mGZd5NxYeOWdQdwDng7O+/tmLs/bf/sEpTPmvbNrBjMRhR5tu/tqfzofMZwC\n",
       "iNPawrucwhAPqC2rp8U+A/y52IcyisXcABCjbLHxpN+MVR4222aLFbCkeLvOQGPN/TMFQgoyBGmO\n",
       "PADOg2VtHgJ+JsZPslqcJz09a5lFeVNZHuzAZQh500Bg4gdg4VRnlSjbHJHkAyuWY98KAI2FRjNf\n",
       "C8pLZie6BANIc+QBcEnSR9hsFoCBugYci2E6OUjjEBNn1lSTNmOEtCuZLsuRM+nn6jII6x85RSDq\n",
       "bUtm6FKXj6upLXQ0d6tPui8J0Uhz5Hsi9lFqY9FE/cqq7c7FpxS7B7gC8uVrkIgbbmStTZvxiWgy\n",
       "2CIQ92vHZ7x4Lv7++uE+Gq/4FoWRC35HUN5YaDX3M4oT8LNaAGmOfAfcT3tGJzK5A3gpdgtw7rJQ\n",
       "rHNjUTyyNgS8jdQK8OmYa0JAt7UUS5k8PhZLdc0pLxdDzaMz2m0DB7BCmkUZ4Q62nOL201vGmol0\n",
       "4ZgzT2IAXLqfLuB5zF+3YmSnI6m01ovnw4EEeHNkVSklTNgpNLjQw0V48kJu8S264opd6Y6FRnM/\n",
       "h+/bABasOfIIuKU5cGDbdFp/mJxDbTrNgGcxkD5lzbQHeB4LkQYClQKFNRyBc+2ASI7XWVxDyY0W\n",
       "E1nC0VWs+CSwVEIh1R8T0/hCTkRjoad5sL1J+ig0Rx4Bl8uxPobybf9LGu8Y6CHgWYwFr1Q3peQx\n",
       "wY4BoRtrKO3OqnHA19KlZF3R7ZxuynAHiyg3wkxxEe5C0+JikCMUDboinWnuZ05y1Pl11ZpuL9mh\n",
       "fVLpCCHuLQLjbmExj02Oc/g+xmatv/yhtXeYksqa0omkrxNSR6NwgM6BqxpwtZbccBfPlDOKM8gP\n",
       "YXDVKggn5HhpxWc/p62Frub+sUks8IRH0hx53Z7dly+3R/xbi7rTnvX7Xg4Aj2PKHq2hHbbKWrmp\n",
       "Se2AXAYpZVoV5r0M9bfVLs0OSwy5nndh1OPrmJ2x5sRrwHmYqLsPGBstie26H+7A8AZ4D/BiTBtD\n",
       "UMciWxtWKYcD6QnAVX/oQSf8ZnfqRPMAa7PQfmetAVz5JrEPxyDhdpCerwGfOPgLjOlG+DEm9Z85\n",
       "VHzmOKyNGyTZgfREt6+nR3r4lc5FQ/Oy4amfdKBX2FNhqTlbOPnGxwFunJ1eEXFd/fdnYL76JC36\n",
       "F5ge4IUD6UlHc3pmRrhddT8u8TRPWtCUQW69N7EwBtyfMu64EvP08wAvvxvip5OMRWDhQAS8KyYB\n",
       "85rOr3G+cL0iCdMbSpoPC2PA/YBgYKefCDgpU6k9zat7SXI4oPYin4np/00vv0S+/L8UOWozDP/q\n",
       "9IBKfeqOzH+dYF0X9g/Ddyi6FLfnIAAAAABJRU5ErkJggg==\n",
       "\" style=\"display:inline;vertical-align:middle;\" /></a><br>"
      ],
      "text/plain": [
       "<IPython.core.display.HTML object>"
      ]
     },
     "metadata": {},
     "output_type": "display_data"
    }
   ],
   "source": [
    "all_but_one_nonmembership_unfolding = Forall((S, y), Forall(x, Or(NotInSet(x, S), Equals(x, y)), \n",
    "                                                            condition=NotInSet(x, Difference(S, Set(y)))))"
   ]
  },
  {
   "cell_type": "code",
   "execution_count": 10,
   "metadata": {},
   "outputs": [
    {
     "data": {
      "text/html": [
       "<strong id=\"all_but_one_nonmembership_folding\"><a class=\"ProveItLink\" href=\"proofs/all_but_one_nonmembership_folding/thm_proof.ipynb\">all_but_one_nonmembership_folding</a> (conjecture without proof):<br></strong> <a class=\"ProveItLink\" href=\"../__pv_it/theorems/aab1341558b90f702c32baf9300f41109cbcfa3d0/theorem_expr.ipynb\"><img src=\"data:image/png;base64,iVBORw0KGgoAAAANSUhEUgAAAWAAAAAZCAMAAAA45QTDAAAAS1BMVEX///8AAAAAAAAAAAAAAAAA\n",
       "AAAAAAAAAAAAAAAAAAAAAAAAAAAAAAAAAAAAAAAAAAAAAAAAAAAAAAAAAAAAAAAAAAAAAAAAAAAA\n",
       "AADXrLZzAAAAGHRSTlMAq1RmmUTNIjK7EInv3XbP4duh6fPj951y2Qx9AAAACXBIWXMAAA7EAAAO\n",
       "xAGVKw4bAAAE1UlEQVRo3u1ah44cIQyl9yE94f+/NPShTduTNlEUdFprZ2xsHsaFPQCeD7htGwf/\n",
       "x9WwHif0iiD7j93dgfE/CTB/9PbhYVSU9uKIjzPxfxxge34umXrCPU3OaC8PBJT5CbU9jQDDyojw\n",
       "A4BfEHvXQPr0tYAH3IgQrQGm55M7NT+UZUqLexoAJnVCxh8A/ILYm4a6OGCErrllcDsl3bm03k4f\n",
       "ltNRqAe4biiXT0LEC2JvGuTiRG1rbkISIuxDAGMyULyDrdETgF8Qe9MwZwFUbt++b2zF7cQQPl8C\n",
       "GBjV0QBwSXT3Uxdr8+PflvHQsUGUWQWgWHJTl9YjxMcAZrijESWzhWH0wyrisdibIkQ2SFkLldDN\n",
       "AePh0A0RunAD5ZwWN6bPWCobY4uCI8AadjQCTOLEUj0E+EyM9E61SIO4X83yYKLL9LkQKy7kTbDQ\n",
       "AtI4V5gO2yW3f+H8gJcaSVq8BshEoWTGHpZKDM80Asxh+YhnRVuLrbgGuBcb6pYOS3rMUbWRxR7Q\n",
       "G/4657DkspiH5fuIgNepo+dOTimdM1ctjInzCZR2DqZlcFenQaajKZAGL9R5NSjssHB3Go1W7ARg\n",
       "Ne2BsPDTZ9pro7rFCy7lVmF1ilAmWSR2bytaQ0z78dN/yIm77pejtXzb9lHcjUOW3vuVm2C6sWWN\n",
       "LENcoMs0ARyWybqsCu8A3IqdAEzGPSA+uEA1aouulZuWCBuht8KVWgMMmuVnEOSi5incuETi85pI\n",
       "kNq0hYZD5NIDaFa0UtPRXAqwPTSlZMpLywdXaLNKi5i1hPu/JcDbwBK6nOKdjba0dFnPRpYbZx7t\n",
       "mqrE/dBT58WU6gzZ1tzFHu6uMlFp2uLpKLG3ae/Q1tEMsEbVEaxzEteoBLykMEcAVzHLQzRiaAUw\n",
       "Zz1LdCRLJ22I1L47OnCSq2JEloE7u9AYhWND5rVQAE3MRntGtICuuSss5LImKgVDBLqgrZskJzua\n",
       "AeZm91KFiCv7qYJiK48ArmI4WiqWIYLKnoXi9v2uLfPJ4sDp+zTzaBcdrUv1EXJCEb9s2jo4Q1As\n",
       "uX3G0m2NdQNgAvfauS3TyhZlWrqFqlils1XYoWeD9vA2rbHX8YMYjGDPgpmUn75IiQZtom55SlxV\n",
       "zi1Kp90uMQIs4mIV8f6KCO4CiII/p5uwLRcjFBIIbzSlBUsFtSXFtAbgjXZ0vK5MG75fLwQ2I25c\n",
       "V4bzypcAVwQyiwjYqFlbOessl9ZFLou1IaK1awoRYDsuMfEvLX1RwO5xX3Zymk0P+dbTEWAS3SaU\n",
       "20pn9dRd3gdzE3URcJzkGhapSkrZtaUImUyCepebZ66wZLvsdL4wuV9ynHKfARysUgZNAJe7o0In\n",
       "gEW4E+XRcVD0DyzZ9YU7saFhUGuAJe9ZuPwqRm2VrUEhPphmLhmx2CXnACKP2rHlxZ98dtuaC4fN\n",
       "pjjVtXe7hqrp7BcND7DyyiUGN0LESR089QLqczjpQ5Wr5HUPsTNXu9QCM3V0gbq8+FPPrltz04aw\n",
       "3et0ZfCwW3XXTgAO6cDnEcrABwEGYxW7/AmE8DuPSo6rdi15+MGV47pG4PYZwmTIhVzXB5b39BTg\n",
       "WJBiq8GHAQa6P+JQ3bx30EdVf7ULU/B3jxd/9Lz8v4jhrTr5dvzs6OkThj867LYZ/Btkqih8AU5O\n",
       "GgAAAABJRU5ErkJggg==\n",
       "\" style=\"display:inline;vertical-align:middle;\" /></a><br>"
      ],
      "text/plain": [
       "<IPython.core.display.HTML object>"
      ]
     },
     "metadata": {},
     "output_type": "display_data"
    }
   ],
   "source": [
    "all_but_one_nonmembership_folding = Forall((S, y), Forall(x, NotInSet(x, Difference(S, Set(y))),\n",
    "                                                          conditions=Or(NotInSet(x, S), Equals(x, y))))"
   ]
  },
  {
   "cell_type": "code",
   "execution_count": 11,
   "metadata": {},
   "outputs": [
    {
     "name": "stdout",
     "output_type": "stream",
     "text": [
      "These theorems may now be imported from the theory package: proveit.logic.sets.subtraction\n"
     ]
    }
   ],
   "source": [
    "%end theorems"
   ]
  }
 ],
 "metadata": {
  "kernelspec": {
   "display_name": "Python 3",
   "language": "python",
   "name": "python3"
  }
 },
 "nbformat": 4,
 "nbformat_minor": 0
}