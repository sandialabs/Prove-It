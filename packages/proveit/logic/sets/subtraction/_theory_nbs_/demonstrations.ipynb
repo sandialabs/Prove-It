{
 "cells": [
  {
   "cell_type": "markdown",
   "metadata": {},
   "source": [
    "Demonstrations for the theory of <a class=\"ProveItLink\" href=\"theory.ipynb\">proveit.logic.sets.subtraction</a>\n",
    "========"
   ]
  },
  {
   "cell_type": "code",
   "execution_count": 1,
   "metadata": {},
   "outputs": [],
   "source": [
    "import proveit\n",
    "from proveit import a, b, c, d, e, f, x, y, A, B, S, InstantiationFailure\n",
    "from proveit.logic import Or, Equals, NotEquals, Set, InSet, NotInSet, Difference\n",
    "from proveit.numbers import (one, two, three, four, five, six, seven, Add,\n",
    "                             Integer, Natural, NaturalPos, Neg)\n",
    "%begin demonstrations"
   ]
  },
  {
   "cell_type": "code",
   "execution_count": 2,
   "metadata": {},
   "outputs": [
    {
     "data": {
      "text/html": [
       "<span style=\"font-size:20px;\"> <a class=\"ProveItLink\" href=\"../__pv_it/demonstrations/c09ad430f9159396fe904f533a36411ad9c137a20/proof.ipynb\" style=\"text-decoration: none\">&nbsp;&#x22A2;&nbsp;&nbsp;</a><a class=\"ProveItLink\" href=\"../__pv_it/axioms/514d95749f8fd893edf697247665cc5abfc6e8950/expr.ipynb\"><img src=\"data:image/png;base64,iVBORw0KGgoAAAANSUhEUgAAAUkAAAAVCAMAAAD8b+yiAAAAP1BMVEX///8AAAAAAAAAAAAAAAAA\n",
       "AAAAAAAAAAAAAAAAAAAAAAAAAAAAAAAAAAAAAAAAAAAAAAAAAAAAAAAAAAAAAADFBd4eAAAAFHRS\n",
       "TlMAInZUiRDNmWbv3US7qzLp8+P3ndw5NuIAAAAJcEhZcwAADsQAAA7EAZUrDhsAAANVSURBVFjD\n",
       "tVhZltwgDDRg9iXJhPufNXYbt5ExIHW/8KN5PVhVBaJYlmVrbCE0Uufex+y/ffABW/bpfxtyXBCo\n",
       "gc5MEYV5DiMWjUSxpoYAmuRWEq1GrASCsLPK0w9MyDluTYX0om0KfUNBI1GE1KZAk9wpotVISl3B\n",
       "ziJnxDc2vELMqZ7iwVQ3aFKRB/KidgdaxUBR27RHq9GGQBB21jHPfYjlo/Z91q9Z1WV2NR6NRPFO\n",
       "7QYknRooapvDq7EjCwluaxU06Lyy9ZiZ8fIufUzhYMs02nlR2ifUGcWGGgTiJvonjE7uX79h7oEa\n",
       "0a9ur/hNLejM+MLzfCeIZZkpexSJKkWgpoV2opEottQgkFtS6Cl6yB0TWo0uhis5jzKtlYuw1sp0\n",
       "7c56dyODtEkZXeG0RhgHK3SFEUWxpQaA9v1FsRajk7tx0YGac1A3cB75oi9fUK0H1tPrN9CUp5tq\n",
       "yoFvLK8vjYJxx3ZViw0aiWJLzdSjsX8hdKuok9twvBp3zIJh+9rfqvkaq4e6dwLM++a/08Lih/ML\n",
       "eyYWFsaB2QsQcRRbajXQcaZx8o7Ry32v+ZEae/jvXqwaEEv2rJLLV6yv3FjrbYMM1XGiKqzLXUKB\n",
       "eu8AKcM48AUPIo5iS60GOmyP8ztGJ/efn1vukZpqcCwoZRn62nZfeYXsZsNxlsa52S3ewogeSRzF\n",
       "lloFVGxPuqfaeMi9CoKaa8H6vXKl7J2k4OouVuPs1CbNuekVzsLB2PfJ2+rGUWypVUDnyGjRKnrK\n",
       "7ShqAj9mwC9xh652EN5eWcP5kzfI62Ixlo2Del+4YOy3E41EsaVWAbnmvWCY22uKmmMbFzlJbY9d\n",
       "7/Lc5rB47vnsnO8wu+QoW4r/7d33s02/wfMSkmJL7QK6duKQFkTu+2FyrCa95knqbQqENoCYjMHD\n",
       "vat03q7xr1Ri/2M0IPF94b8SOw/jwBkcQMVQfKJ2AcV318QXRO4fKH+mxg0ufH4N8Crm5rfD2TXc\n",
       "wTg8BqU5akOxBzjBeLrn/p3lhmowTwlXcv3tSFJeJSivHchHF4oixHMVVBMo79GBfVmSAUYc2heo\n",
       "U6BubgTFmxoZCMRInb8emxPtC9QpUDf3KshqGKfMMf9mIDmDEYv2MSoCqJc70tT8A+hwJZzg0hLT\n",
       "AAAAAElFTkSuQmCC\n",
       "\" style=\"display:inline;vertical-align:middle;\" /></a></span>"
      ],
      "text/plain": [
       "|- (x in (A - B)) = ((x in A) and (x not-in B))"
      ]
     },
     "metadata": {},
     "output_type": "display_data"
    }
   ],
   "source": [
    "InSet(x, Difference(A, B)).definition()"
   ]
  },
  {
   "cell_type": "code",
   "execution_count": 3,
   "metadata": {},
   "outputs": [
    {
     "data": {
      "text/html": [
       "<span style=\"font-size:20px;\"><a class=\"ProveItLink\" href=\"../../inclusion/__pv_it/theorems/bffc8f58d953dcb8331468867a32979a833e73840/expr.ipynb\"><img src=\"data:image/png;base64,iVBORw0KGgoAAAANSUhEUgAAADUAAAAQBAMAAABEqSrGAAAAMFBMVEX///8AAAAAAAAAAAAAAAAA\n",
       "AAAAAAAAAAAAAAAAAAAAAAAAAAAAAAAAAAAAAAAAAAAv3aB7AAAAD3RSTlMAEHarMolUmd1mIs3v\n",
       "RLtmgJDEAAAACXBIWXMAAA7EAAAOxAGVKw4bAAAAzklEQVQY02NgwAFWM+AG+3FLsf3HLcduvwCF\n",
       "z/SioxvGjop3QJbi3SQAZ3Mp6CcAKSFlkdAEsMsEkIxkyJ8ApAqYjNgbQPxdSGZcY/APYGDgXMD5\n",
       "kRmkhmEDklwBw3oDBgYWBnaIIMuJjo6OPqirnpfbPwAxeBTAfMYHCG1CDAz8YHvuL2AEu6IB2UgG\n",
       "jgMMDHIXbBhYwQJKCN8A7ef+wMCQ71gDdBUIcCfA5NYAMd8vBgZxJbZKiCCj3UWIlNz/jQxs738H\n",
       "oARMHCLMQAAAARYsAl5K88AAAAAASUVORK5CYII=\n",
       "\" style=\"display:inline;vertical-align:middle;\" /></a>, <a class=\"ProveItLink\" href=\"../__pv_it/axioms/c131b0a858a9d2c11085a39aa736d5d310ae540d0/expr.ipynb\"><img src=\"data:image/png;base64,iVBORw0KGgoAAAANSUhEUgAAADUAAAAVCAMAAADRlFZ0AAAARVBMVEX///8AAAAAAAAAAAAAAAAA\n",
       "AAAAAAAAAAAAAAAAAAAAAAAAAAAAAAAAAAAAAAAAAAAAAAAAAAAAAAAAAAAAAAAAAAAAAAAeYafp\n",
       "AAAAFnRSTlMAEHarMolUmd1mIs3vRLvp8+P355HBTpz+0gAAAAlwSFlzAAAOxAAADsQBlSsOGwAA\n",
       "AQRJREFUOMu9U9lywyAMRIjTHGnSVv//qRGYEKCJM+OH6kWDzUq7KyHEQWziTAQ4AVI4nnwmQo6Q\n",
       "1SHKpvkcc01IhzC3qCRZcyL7BiCzc5evMH3zrYdv6DVSkOwDLkSQmkexeAtSIiitTadSvYMgXskC\n",
       "dLUas5Qohe0yQp2TX3goypLrB7/T3ApVEOg76uWwJNViJtZ7pZ8d2ajoOK435/KIynHPuhsfRzZQ\n",
       "Lz9ltiAUs4WpNAeY5uTWRSH/sDKVyklgaa6fCrhYWifZZDG6qDGkwDIqDYyC+TMsntJOK+5jsVza\n",
       "WD/KAMzfs4PYV9ccrODPL6+UC//xsrZ85hFrcwaFH/7fAWEDB6dzulZ3AAAAAElFTkSuQmCC\n",
       "\" style=\"display:inline;vertical-align:middle;\" /></a> <a class=\"ProveItLink\" href=\"../__pv_it/demonstrations/00960c96e646328b301a05f44cedaa6d88f183640/proof.ipynb\" style=\"text-decoration: none\">&nbsp;&#x22A2;&nbsp;&nbsp;</a><a class=\"ProveItLink\" href=\"../__pv_it/axioms/863e32e680bd2723f00aafb2cf95d6458ac2fcdc0/expr.ipynb\"><img src=\"data:image/png;base64,iVBORw0KGgoAAAANSUhEUgAAAG0AAAAVBAMAAAC+p33JAAAAMFBMVEX///8AAAAAAAAAAAAAAAAA\n",
       "AAAAAAAAAAAAAAAAAAAAAAAAAAAAAAAAAAAAAAAAAAAv3aB7AAAAD3RSTlMAEHarMolUmd1mIs3v\n",
       "RLtmgJDEAAAACXBIWXMAAA7EAAAOxAGVKw4bAAABsUlEQVQ4y2NgwAa4GPCCBbgk1CC6N+CQvoRD\n",
       "nC0ATHF/QJeY99/YeJ8DA9ME7PqkIVQ+hj6GcwwMzF8YGDZi11cJoYp/Yfj7EwMD73cGhukookwv\n",
       "OrrBjANgknXpF3R9nEARTqBeHgEkQd5NUB4bJDwWMX1D18cMdDn3KSAGelBIWSQ0ASS4GmYIOyRY\n",
       "Cth+ouvjecDAaOEAdIoBUJrJiL0BJLgLJssNDi7eBJav6Pr8HylZgyQ5NzBwLuD8yAxWCI8tDrD1\n",
       "7Axcn9H16S9gYDsJ8skBBhYGdogGlhMdHR19YNdcAJF65cX/QDTjjg4QcACx3wBxPJDFAoohHgWw\n",
       "PsYHcF+A9DECRX+g2wdywHygBC8oxO8vYASHSAOKO9mBuAdNGwsooOyBprI1MMhdsGFgBYsqwaT5\n",
       "QA64CcT70fQxARMCy29QuDxgyHesYbgGCcYEqDQolLlALnmPlvC5gYJ3NkJiSlyJrRKigdHuItQ5\n",
       "DQyM738LMOT934oa6+8/G1s/A/vkArI4bxw0nbUwEAArsAtPJ6SvErsw3wL82rgeYBdnfIBfH05z\n",
       "F+HXp8XAAAArBWY041phXAAAAABJRU5ErkJggg==\n",
       "\" style=\"display:inline;vertical-align:middle;\" /></a></span>"
      ],
      "text/plain": [
       "{x in A, x not-in B} |- x in (A - B)"
      ]
     },
     "metadata": {},
     "output_type": "display_data"
    }
   ],
   "source": [
    "InSet(x, Difference(A, B)).prove(assumptions=[InSet(x, A), NotInSet(x, B)])"
   ]
  },
  {
   "cell_type": "code",
   "execution_count": 4,
   "metadata": {},
   "outputs": [
    {
     "data": {
      "text/html": [
       "<span style=\"font-size:20px;\"><a class=\"ProveItLink\" href=\"../../inclusion/__pv_it/theorems/bffc8f58d953dcb8331468867a32979a833e73840/expr.ipynb\"><img src=\"data:image/png;base64,iVBORw0KGgoAAAANSUhEUgAAADUAAAAQBAMAAABEqSrGAAAAMFBMVEX///8AAAAAAAAAAAAAAAAA\n",
       "AAAAAAAAAAAAAAAAAAAAAAAAAAAAAAAAAAAAAAAAAAAv3aB7AAAAD3RSTlMAEHarMolUmd1mIs3v\n",
       "RLtmgJDEAAAACXBIWXMAAA7EAAAOxAGVKw4bAAAAzklEQVQY02NgwAFWM+AG+3FLsf3HLcduvwCF\n",
       "z/SioxvGjop3QJbi3SQAZ3Mp6CcAKSFlkdAEsMsEkIxkyJ8ApAqYjNgbQPxdSGZcY/APYGDgXMD5\n",
       "kRmkhmEDklwBw3oDBgYWBnaIIMuJjo6OPqirnpfbPwAxeBTAfMYHCG1CDAz8YHvuL2AEu6IB2UgG\n",
       "jgMMDHIXbBhYwQJKCN8A7ef+wMCQ71gDdBUIcCfA5NYAMd8vBgZxJbZKiCCj3UWIlNz/jQxs738H\n",
       "oARMHCLMQAAAARYsAl5K88AAAAAASUVORK5CYII=\n",
       "\" style=\"display:inline;vertical-align:middle;\" /></a>, <a class=\"ProveItLink\" href=\"../../../equality/__pv_it/theorems/73829d3be05f2b12292db7642d7f9d4a94d650a00/expr.ipynb\"><img src=\"data:image/png;base64,iVBORw0KGgoAAAANSUhEUgAAADMAAAAUCAMAAAAX1vWWAAAAPFBMVEX///8AAAAAAAAAAAAAAAAA\n",
       "AAAAAAAAAAAAAAAAAAAAAAAAAAAAAAAAAAAAAAAAAAAAAAAAAAAAAAAAAAAo1xBWAAAAE3RSTlMA\n",
       "EHarMolUmd1mIs3vRLvn9enz6YVhIgAAAAlwSFlzAAAOxAAADsQBlSsOGwAAANVJREFUOMudU1kW\n",
       "wyAIZFHQbF1y/7tWTNPWRtNn+UATgWFGBDg1Reg1t3SnwOL6YfgPmKE7ZW7DIBGj816+D8ahDNNo\n",
       "Sy6kAMQEGl4Ch2yXq/kXlgeZ0hJXc4NtEDiewjjZqrLJb3LqWGGjJQOAieDp4HPThLEiqRlwq9u/\n",
       "0jliwed231i9tcvNkHHCZQaeMscS5jBpC+9OVoeacuZSatHjvLJ1lPVWohQR5RdMuhlPurZHQ3z9\n",
       "vx/bY1OBsXCcpJkSKzAh3Qf7NkyoPE+JpPPZwzmd9wfDxQU5d0E62gAAAABJRU5ErkJggg==\n",
       "\" style=\"display:inline;vertical-align:middle;\" /></a> <a class=\"ProveItLink\" href=\"../__pv_it/demonstrations/fe5c079e5fe64066aadfa820ca8e1906db13143e0/proof.ipynb\" style=\"text-decoration: none\">&nbsp;&#x22A2;&nbsp;&nbsp;</a><a class=\"ProveItLink\" href=\"../__pv_it/demonstrations/0e939f403102670bb5514ac8a5a800d88d4ae08a0/expr.ipynb\"><img src=\"data:image/png;base64,iVBORw0KGgoAAAANSUhEUgAAAHwAAAAVBAMAAAB2y5cfAAAAMFBMVEX///8AAAAAAAAAAAAAAAAA\n",
       "AAAAAAAAAAAAAAAAAAAAAAAAAAAAAAAAAAAAAAAAAAAv3aB7AAAAD3RSTlMAEHarMolUmd1mIs3v\n",
       "RLtmgJDEAAAACXBIWXMAAA7EAAAOxAGVKw4bAAAB6ElEQVQ4y2NgwAa4GHAA2QsQetkCfKrUIIZs\n",
       "QBdn2isAYbDYARm8Cth1swWAKe4P6BL5AjAWnwGQ0MSuXRqqGEN7BJzF2gAyXwCr9koIVfyLgHbO\n",
       "AmRJvY4OiG8PQFQs/UJAO8NBJLnbijCvQwxZxPSNkPadDAxCyiKhCaBw3giTYoeEXAHbTyzaGdUn\n",
       "MAjDtAcDVTEZsYPDYQFMEfcEEMmbwPIVXXs1UB/bAYb5wCgEe3A2A+cCzo/MIPXccEUcCWA3MHB9\n",
       "Rk9NJxkY3IB22QGZYI/lMLAwsEO86tMBBA9ALB5w0tIrL/4HjkWQeEcLSLc1UEKAR4HhEJAjvA1I\n",
       "+INUQxKPHNwSsHZGoOgPNNvdHwKJ+wIsoBiJBim6A+IvYARFPweq49mBuAfd74/B/gf5m+0jiJ/B\n",
       "IHfBhoEVnJ7hKZgPxLoJxPuxRdxjcIJlBQfdPIZ8xxqGa2C5bfA4BUpzgaTfL8CivZjh/gRYxJUy\n",
       "iCuxVYJDmkH4LSw7NTAwvv8twJD3fysW7cJB9Qtg2nuRJa++gCbaFlwZGZLqomGpjqsBq6rpeLSz\n",
       "bmA8BtPOPgGrKr4FOLTrAKNFgRmUpsGJZR12VYwPcGhfn8DANqkWxJIBWfwKh7JFOMS5iiGhzLDU\n",
       "DBTVCxgAjE9wugXJNewAAAAASUVORK5CYII=\n",
       "\" style=\"display:inline;vertical-align:middle;\" /></a></span>"
      ],
      "text/plain": [
       "{x in A, x != y} |- x in (A - {y})"
      ]
     },
     "metadata": {},
     "output_type": "display_data"
    }
   ],
   "source": [
    "InSet(x, Difference(A, Set(y))).prove(assumptions=[InSet(x, A), NotEquals(x, y)])"
   ]
  },
  {
   "cell_type": "code",
   "execution_count": 5,
   "metadata": {},
   "outputs": [
    {
     "data": {
      "text/html": [
       "<span style=\"font-size:20px;\"><a class=\"ProveItLink\" href=\"../__pv_it/axioms/863e32e680bd2723f00aafb2cf95d6458ac2fcdc0/expr.ipynb\"><img src=\"data:image/png;base64,iVBORw0KGgoAAAANSUhEUgAAAG0AAAAVBAMAAAC+p33JAAAAMFBMVEX///8AAAAAAAAAAAAAAAAA\n",
       "AAAAAAAAAAAAAAAAAAAAAAAAAAAAAAAAAAAAAAAAAAAv3aB7AAAAD3RSTlMAEHarMolUmd1mIs3v\n",
       "RLtmgJDEAAAACXBIWXMAAA7EAAAOxAGVKw4bAAABsUlEQVQ4y2NgwAa4GPCCBbgk1CC6N+CQvoRD\n",
       "nC0ATHF/QJeY99/YeJ8DA9ME7PqkIVQ+hj6GcwwMzF8YGDZi11cJoYp/Yfj7EwMD73cGhukookwv\n",
       "OrrBjANgknXpF3R9nEARTqBeHgEkQd5NUB4bJDwWMX1D18cMdDn3KSAGelBIWSQ0ASS4GmYIOyRY\n",
       "Cth+ouvjecDAaOEAdIoBUJrJiL0BJLgLJssNDi7eBJav6Pr8HylZgyQ5NzBwLuD8yAxWCI8tDrD1\n",
       "7Axcn9H16S9gYDsJ8skBBhYGdogGlhMdHR19YNdcAJF65cX/QDTjjg4QcACx3wBxPJDFAoohHgWw\n",
       "PsYHcF+A9DECRX+g2wdywHygBC8oxO8vYASHSAOKO9mBuAdNGwsooOyBprI1MMhdsGFgBYsqwaT5\n",
       "QA64CcT70fQxARMCy29QuDxgyHesYbgGCcYEqDQolLlALnmPlvC5gYJ3NkJiSlyJrRKigdHuItQ5\n",
       "DQyM738LMOT934oa6+8/G1s/A/vkArI4bxw0nbUwEAArsAtPJ6SvErsw3wL82rgeYBdnfIBfH05z\n",
       "F+HXp8XAAAArBWY041phXAAAAABJRU5ErkJggg==\n",
       "\" style=\"display:inline;vertical-align:middle;\" /></a> <a class=\"ProveItLink\" href=\"../__pv_it/demonstrations/6c5357d171a2544529330fff1151b168922478240/proof.ipynb\" style=\"text-decoration: none\">&nbsp;&#x22A2;&nbsp;&nbsp;</a><a class=\"ProveItLink\" href=\"../../inclusion/__pv_it/theorems/bffc8f58d953dcb8331468867a32979a833e73840/expr.ipynb\"><img src=\"data:image/png;base64,iVBORw0KGgoAAAANSUhEUgAAADUAAAAQBAMAAABEqSrGAAAAMFBMVEX///8AAAAAAAAAAAAAAAAA\n",
       "AAAAAAAAAAAAAAAAAAAAAAAAAAAAAAAAAAAAAAAAAAAv3aB7AAAAD3RSTlMAEHarMolUmd1mIs3v\n",
       "RLtmgJDEAAAACXBIWXMAAA7EAAAOxAGVKw4bAAAAzklEQVQY02NgwAFWM+AG+3FLsf3HLcduvwCF\n",
       "z/SioxvGjop3QJbi3SQAZ3Mp6CcAKSFlkdAEsMsEkIxkyJ8ApAqYjNgbQPxdSGZcY/APYGDgXMD5\n",
       "kRmkhmEDklwBw3oDBgYWBnaIIMuJjo6OPqirnpfbPwAxeBTAfMYHCG1CDAz8YHvuL2AEu6IB2UgG\n",
       "jgMMDHIXbBhYwQJKCN8A7ef+wMCQ71gDdBUIcCfA5NYAMd8vBgZxJbZKiCCj3UWIlNz/jQxs738H\n",
       "oARMHCLMQAAAARYsAl5K88AAAAAASUVORK5CYII=\n",
       "\" style=\"display:inline;vertical-align:middle;\" /></a></span>"
      ],
      "text/plain": [
       "{x in (A - B)} |- x in A"
      ]
     },
     "metadata": {},
     "output_type": "display_data"
    }
   ],
   "source": [
    "InSet(x, A).prove(assumptions=[InSet(x, Difference(A, B))])"
   ]
  },
  {
   "cell_type": "code",
   "execution_count": 6,
   "metadata": {},
   "outputs": [
    {
     "data": {
      "text/html": [
       "<span style=\"font-size:20px;\"><a class=\"ProveItLink\" href=\"../__pv_it/axioms/863e32e680bd2723f00aafb2cf95d6458ac2fcdc0/expr.ipynb\"><img src=\"data:image/png;base64,iVBORw0KGgoAAAANSUhEUgAAAG0AAAAVBAMAAAC+p33JAAAAMFBMVEX///8AAAAAAAAAAAAAAAAA\n",
       "AAAAAAAAAAAAAAAAAAAAAAAAAAAAAAAAAAAAAAAAAAAv3aB7AAAAD3RSTlMAEHarMolUmd1mIs3v\n",
       "RLtmgJDEAAAACXBIWXMAAA7EAAAOxAGVKw4bAAABsUlEQVQ4y2NgwAa4GPCCBbgk1CC6N+CQvoRD\n",
       "nC0ATHF/QJeY99/YeJ8DA9ME7PqkIVQ+hj6GcwwMzF8YGDZi11cJoYp/Yfj7EwMD73cGhukookwv\n",
       "OrrBjANgknXpF3R9nEARTqBeHgEkQd5NUB4bJDwWMX1D18cMdDn3KSAGelBIWSQ0ASS4GmYIOyRY\n",
       "Cth+ouvjecDAaOEAdIoBUJrJiL0BJLgLJssNDi7eBJav6Pr8HylZgyQ5NzBwLuD8yAxWCI8tDrD1\n",
       "7Axcn9H16S9gYDsJ8skBBhYGdogGlhMdHR19YNdcAJF65cX/QDTjjg4QcACx3wBxPJDFAoohHgWw\n",
       "PsYHcF+A9DECRX+g2wdywHygBC8oxO8vYASHSAOKO9mBuAdNGwsooOyBprI1MMhdsGFgBYsqwaT5\n",
       "QA64CcT70fQxARMCy29QuDxgyHesYbgGCcYEqDQolLlALnmPlvC5gYJ3NkJiSlyJrRKigdHuItQ5\n",
       "DQyM738LMOT934oa6+8/G1s/A/vkArI4bxw0nbUwEAArsAtPJ6SvErsw3wL82rgeYBdnfIBfH05z\n",
       "F+HXp8XAAAArBWY041phXAAAAABJRU5ErkJggg==\n",
       "\" style=\"display:inline;vertical-align:middle;\" /></a> <a class=\"ProveItLink\" href=\"../__pv_it/demonstrations/caa9b5a376e6a27c23d8c83cb883def6e7ed70eb0/proof.ipynb\" style=\"text-decoration: none\">&nbsp;&#x22A2;&nbsp;&nbsp;</a><a class=\"ProveItLink\" href=\"../__pv_it/axioms/c131b0a858a9d2c11085a39aa736d5d310ae540d0/expr.ipynb\"><img src=\"data:image/png;base64,iVBORw0KGgoAAAANSUhEUgAAADUAAAAVCAMAAADRlFZ0AAAARVBMVEX///8AAAAAAAAAAAAAAAAA\n",
       "AAAAAAAAAAAAAAAAAAAAAAAAAAAAAAAAAAAAAAAAAAAAAAAAAAAAAAAAAAAAAAAAAAAAAAAeYafp\n",
       "AAAAFnRSTlMAEHarMolUmd1mIs3vRLvp8+P355HBTpz+0gAAAAlwSFlzAAAOxAAADsQBlSsOGwAA\n",
       "AQRJREFUOMu9U9lywyAMRIjTHGnSVv//qRGYEKCJM+OH6kWDzUq7KyHEQWziTAQ4AVI4nnwmQo6Q\n",
       "1SHKpvkcc01IhzC3qCRZcyL7BiCzc5evMH3zrYdv6DVSkOwDLkSQmkexeAtSIiitTadSvYMgXskC\n",
       "dLUas5Qohe0yQp2TX3goypLrB7/T3ApVEOg76uWwJNViJtZ7pZ8d2ajoOK435/KIynHPuhsfRzZQ\n",
       "Lz9ltiAUs4WpNAeY5uTWRSH/sDKVyklgaa6fCrhYWifZZDG6qDGkwDIqDYyC+TMsntJOK+5jsVza\n",
       "WD/KAMzfs4PYV9ccrODPL6+UC//xsrZ85hFrcwaFH/7fAWEDB6dzulZ3AAAAAElFTkSuQmCC\n",
       "\" style=\"display:inline;vertical-align:middle;\" /></a></span>"
      ],
      "text/plain": [
       "{x in (A - B)} |- x not-in B"
      ]
     },
     "metadata": {},
     "output_type": "display_data"
    }
   ],
   "source": [
    "NotInSet(x, B).prove(assumptions=[InSet(x, Difference(A, B))])"
   ]
  },
  {
   "cell_type": "code",
   "execution_count": 7,
   "metadata": {},
   "outputs": [
    {
     "data": {
      "text/html": [
       "<span style=\"font-size:20px;\"><a class=\"ProveItLink\" href=\"../__pv_it/demonstrations/0e939f403102670bb5514ac8a5a800d88d4ae08a0/expr.ipynb\"><img src=\"data:image/png;base64,iVBORw0KGgoAAAANSUhEUgAAAHwAAAAVBAMAAAB2y5cfAAAAMFBMVEX///8AAAAAAAAAAAAAAAAA\n",
       "AAAAAAAAAAAAAAAAAAAAAAAAAAAAAAAAAAAAAAAAAAAv3aB7AAAAD3RSTlMAEHarMolUmd1mIs3v\n",
       "RLtmgJDEAAAACXBIWXMAAA7EAAAOxAGVKw4bAAAB6ElEQVQ4y2NgwAa4GHAA2QsQetkCfKrUIIZs\n",
       "QBdn2isAYbDYARm8Cth1swWAKe4P6BL5AjAWnwGQ0MSuXRqqGEN7BJzF2gAyXwCr9koIVfyLgHbO\n",
       "AmRJvY4OiG8PQFQs/UJAO8NBJLnbijCvQwxZxPSNkPadDAxCyiKhCaBw3giTYoeEXAHbTyzaGdUn\n",
       "MAjDtAcDVTEZsYPDYQFMEfcEEMmbwPIVXXs1UB/bAYb5wCgEe3A2A+cCzo/MIPXccEUcCWA3MHB9\n",
       "Rk9NJxkY3IB22QGZYI/lMLAwsEO86tMBBA9ALB5w0tIrL/4HjkWQeEcLSLc1UEKAR4HhEJAjvA1I\n",
       "+INUQxKPHNwSsHZGoOgPNNvdHwKJ+wIsoBiJBim6A+IvYARFPweq49mBuAfd74/B/gf5m+0jiJ/B\n",
       "IHfBhoEVnJ7hKZgPxLoJxPuxRdxjcIJlBQfdPIZ8xxqGa2C5bfA4BUpzgaTfL8CivZjh/gRYxJUy\n",
       "iCuxVYJDmkH4LSw7NTAwvv8twJD3fysW7cJB9Qtg2nuRJa++gCbaFlwZGZLqomGpjqsBq6rpeLSz\n",
       "bmA8BtPOPgGrKr4FOLTrAKNFgRmUpsGJZR12VYwPcGhfn8DANqkWxJIBWfwKh7JFOMS5iiGhzLDU\n",
       "DBTVCxgAjE9wugXJNewAAAAASUVORK5CYII=\n",
       "\" style=\"display:inline;vertical-align:middle;\" /></a> <a class=\"ProveItLink\" href=\"../__pv_it/demonstrations/c76069fe3e1a7ff2fd75aa576b6e16bd50cf76d70/proof.ipynb\" style=\"text-decoration: none\">&nbsp;&#x22A2;&nbsp;&nbsp;</a><a class=\"ProveItLink\" href=\"../../../equality/__pv_it/theorems/73829d3be05f2b12292db7642d7f9d4a94d650a00/expr.ipynb\"><img src=\"data:image/png;base64,iVBORw0KGgoAAAANSUhEUgAAADMAAAAUCAMAAAAX1vWWAAAAPFBMVEX///8AAAAAAAAAAAAAAAAA\n",
       "AAAAAAAAAAAAAAAAAAAAAAAAAAAAAAAAAAAAAAAAAAAAAAAAAAAAAAAAAAAo1xBWAAAAE3RSTlMA\n",
       "EHarMolUmd1mIs3vRLvn9enz6YVhIgAAAAlwSFlzAAAOxAAADsQBlSsOGwAAANVJREFUOMudU1kW\n",
       "wyAIZFHQbF1y/7tWTNPWRtNn+UATgWFGBDg1Reg1t3SnwOL6YfgPmKE7ZW7DIBGj816+D8ahDNNo\n",
       "Sy6kAMQEGl4Ch2yXq/kXlgeZ0hJXc4NtEDiewjjZqrLJb3LqWGGjJQOAieDp4HPThLEiqRlwq9u/\n",
       "0jliwed231i9tcvNkHHCZQaeMscS5jBpC+9OVoeacuZSatHjvLJ1lPVWohQR5RdMuhlPurZHQ3z9\n",
       "vx/bY1OBsXCcpJkSKzAh3Qf7NkyoPE+JpPPZwzmd9wfDxQU5d0E62gAAAABJRU5ErkJggg==\n",
       "\" style=\"display:inline;vertical-align:middle;\" /></a></span>"
      ],
      "text/plain": [
       "{x in (A - {y})} |- x != y"
      ]
     },
     "metadata": {},
     "output_type": "display_data"
    }
   ],
   "source": [
    "NotEquals(x, y).prove(assumptions=[InSet(x, Difference(A, Set(y)))])"
   ]
  },
  {
   "cell_type": "code",
   "execution_count": 8,
   "metadata": {},
   "outputs": [
    {
     "data": {
      "text/html": [
       "<span style=\"font-size:20px;\"> <a class=\"ProveItLink\" href=\"../__pv_it/demonstrations/44e9057371123c2a3aab7e5720b1af0b545bed4b0/proof.ipynb\" style=\"text-decoration: none\">&nbsp;&#x22A2;&nbsp;&nbsp;</a><a class=\"ProveItLink\" href=\"../__pv_it/theorems/06b4d2a5405f1f22bbb66830faa9613029c52c2c0/expr.ipynb\"><img src=\"data:image/png;base64,iVBORw0KGgoAAAANSUhEUgAAAUkAAAAVCAMAAAD8b+yiAAAAP1BMVEX///8AAAAAAAAAAAAAAAAA\n",
       "AAAAAAAAAAAAAAAAAAAAAAAAAAAAAAAAAAAAAAAAAAAAAAAAAAAAAAAAAAAAAADFBd4eAAAAFHRS\n",
       "TlMAInZUiRDNmWbv3US7qzLp8+P3ndw5NuIAAAAJcEhZcwAADsQAAA7EAZUrDhsAAANnSURBVFjD\n",
       "rVjbAuQQDC2Kuu7N/3/r6pSp1CVs18NkOqM55xAJti02so0aGT6uNbLqZO4F8g///AdFFTnKhv0F\n",
       "L59AZyIWsQ2FFmsZbYliSW0CCPG9oIbtw+7elU+wswgo2mFDcLEJ6z+0j0T/mKGa0ZYoQmooEOJ7\n",
       "QQ1H4kqa4gF2ZiFMoCv7MS74MnwaYVS1jLZE8UmtAHLfr562Fb1SI5FJ04Az6CxdwHMMCRdrE+Rn\n",
       "VmWaXYmzzmhLFJ/UCqDjO35XSM34XlCjRinE6h8/dTFroPNO9uDxBZH6HImDStOo8KBULVSMYkWt\n",
       "ANJ1fkd8xyYm1bB+dBtB+ebKsQKdCd1owLO1S8tMqCtIRAoCgQZDRluiWFMrgPb0m2RNRQ3fC2pk\n",
       "SricUsf9vrOi+vFnGpFldpZnNjomEwt3OundHbSDxb1DO0WxplYA5VjUFUbH94qaPKgRnDq6yRtE\n",
       "EJBannFkIqgPaOHzwdLI8n7zENCe2LporkJbolhTK4BS+FJaYXR8r6jR1ywc5Fz7caXcYyXqEqsZ\n",
       "mPeYf9HAolfmZyo7ZgraQSFhwM5RrKmVQNd+SfMnRs/3ihp17SDOuZLgZa9igPz6HT/sHdumyMZS\n",
       "xgJpiy1LEVh35rIJ6lsBfIB2kBcMsHMUa2oA6Iw0JiuMju9PK32P1BSDo8Ay4bZI0dVI8qtv0Nhw\n",
       "5NDIxW4zCtrpkZyjWFMDQOc+vFy3Y99Lau4Fa87I5XDLoNvr7VpA5w8KTZNHLnqJM9PQ9vPkY3XP\n",
       "UaypMQ33nt42FbV8L6mx9JoBs7kTuqggMS+bx/bZ5mkzx+RxMSWWyEF8D1zQ9ltGW6JYU4NA9HCm\n",
       "wuj4XlNzlXEWPJfqqnp3TmHPnVqu+STPt8UOOUKl4P/Whefept/gfmmSYk0NAnG40x76XlPjP+HJ\n",
       "ZZwCJg/wMne/DayLqXM8xn9csfPLaEDc98B/O9YG2kFm0AB1hmKL2gNIsoaitm8L5WNqdP/Ad/zZ\n",
       "LTwuafx0iB1cNbTDbZBHUWuKPUAEo3nKwXxDNYOrhHqnNnPv8H9uJSZvO/ArJQTonSKoxvZSHWnU\n",
       "BEtehqTt++6jLVFc7PFG0UMN72HtjesJbt+NJDo2TbQliosD9UbRUw3p3NA3T4KEvhlISqBFJ53+\n",
       "A8UW4ATGSzV/AendJq5E7DLAAAAAAElFTkSuQmCC\n",
       "\" style=\"display:inline;vertical-align:middle;\" /></a></span>"
      ],
      "text/plain": [
       "|- (x not-in (A - B)) = ((x not-in A) or (x in B))"
      ]
     },
     "metadata": {},
     "output_type": "display_data"
    }
   ],
   "source": [
    "NotInSet(x, Difference(A, B)).definition()"
   ]
  },
  {
   "cell_type": "code",
   "execution_count": 9,
   "metadata": {},
   "outputs": [
    {
     "data": {
      "text/html": [
       "<span style=\"font-size:20px;\"><a class=\"ProveItLink\" href=\"../__pv_it/theorems/7f5898a5f5b1e60924e57a01bca6fa590a50f3560/expr.ipynb\"><img src=\"data:image/png;base64,iVBORw0KGgoAAAANSUhEUgAAAJ4AAAAVCAMAAACALKdSAAAARVBMVEX///8AAAAAAAAAAAAAAAAA\n",
       "AAAAAAAAAAAAAAAAAAAAAAAAAAAAAAAAAAAAAAAAAAAAAAAAAAAAAAAAAAAAAAAAAAAAAAAeYafp\n",
       "AAAAFnRSTlMAInZUiRDNmWbv3US7qzLp8+P355HBP3RuygAAAAlwSFlzAAAOxAAADsQBlSsOGwAA\n",
       "AkxJREFUSMedlkmWGyEMQAsoEHMnnYT7HzVQzGCgbW3sZ8PXLHFdXtC1E/TBP++d2V/EZHuO0fkq\n",
       "ez4UPio5sDeS4eTeHrPmhcUuKecHHQd2L1w7Z7wwbSucsv0lULNS56bImvLN1pie2KMIHVnOFjgc\n",
       "IiBfWGxcqgwOxfViVPQ9HuTvlZuLEOWgwMWmcLSUX7+mCNzodtkEQUc3UHP+wJayZ/OE5clMDyfL\n",
       "+CuGvW5jJx/xhV2ueFbic6efoDbDiT2KSTXDBMpwSMVLMTbU3jep3UlfVw+E4stW3Wbo5rYYDuxF\n",
       "6VEjbYFn971SbPAFhc5QX1LFca/EutyRvJof44ybCwf2NCOcxt6RmhAPl9EljkLK6WXKf2wx9OCp\n",
       "4Rw0IoYJJJsLB/ZUjrHhiOAVLuLcCJ5De8uKULq/v6XUQ0kD+M7VxeMmWJ5OoE3Wlh2kY+vkamk8\n",
       "Dxd1rIk2kVS39V5/jmdczpMS/Qzu0rZnT5JTkhs3wGUxQIXY0n5QyFepDb9nq4jsRqTtFO/Zc+nx\n",
       "3MCqwDWO/qjLBJV1CYUaVzD2Be+3ml9EbeK56VbMlr0qPW8mq/A4GYizFERsy1JKZBp6KAdN57UB\n",
       "7VKlw5jdsudFLlJGSzt6uH0CTcE7RIC3t6jRf7q+pX5lP1dJ+BLtkl24oNe6Zat+JpjyHqjnAlza\n",
       "5eL5+09Pi2cIp9zv6zVb3Sd2hHN456U3dsp+52/YP5AI16sHLdLHJ8bphEafW5fgdKXjPr50j9qp\n",
       "/ty8DEeLN7k5vtTPsUH4U+se+H9n0hP0jo+lTgAAAABJRU5ErkJggg==\n",
       "\" style=\"display:inline;vertical-align:middle;\" /></a> <a class=\"ProveItLink\" href=\"../__pv_it/demonstrations/924f7e9ab29b6390fc1db2d1a59bbaa5112077a70/proof.ipynb\" style=\"text-decoration: none\">&nbsp;&#x22A2;&nbsp;&nbsp;</a><a class=\"ProveItLink\" href=\"../__pv_it/theorems/7cff88a72d74b46848d0810692c8c2e6f96cf5830/expr.ipynb\"><img src=\"data:image/png;base64,iVBORw0KGgoAAAANSUhEUgAAAG0AAAAVCAMAAAB7V5DIAAAAP1BMVEX///8AAAAAAAAAAAAAAAAA\n",
       "AAAAAAAAAAAAAAAAAAAAAAAAAAAAAAAAAAAAAAAAAAAAAAAAAAAAAAAAAAAAAADFBd4eAAAAFHRS\n",
       "TlMAEHarMolUmd1mIs3vRLvp8+P3nXqVZZ4AAAAJcEhZcwAADsQAAA7EAZUrDhsAAAG9SURBVEjH\n",
       "pVXpmoMgDIRwhXN3u7z/s25QLKBV3M/8aEslx0wmkbELc5fH/9nc2fP+BLp39v/MFmFyQYr+pNVQ\n",
       "SJ7GtylnQeaTXIq119dN7A58AKNzvoEnpOVLZHlk6mA4pB5KMyLPG+Hyyl7MZsFqTm9Cwq9v7PCE\n",
       "/qlyaq33msp6x9as4QRc9MCZ6OPpnkgHDLKeZhOVbR9WHnyhhwMILpXSneD4vlGm14gpjbM328YF\n",
       "1rKVWH1BADOtTb7UYgfJ+i54pLpkVrNkMicgIM3TUv3WFWaJuBbPHyWEeoBGChCzbLAKSYctsKbe\n",
       "F5hmYE0GRPx50UdqrMROQMaQJlM3HNisNTtVYb0FJWsfw8AaL4HUqIKWja93M86wbeg3SbIY6kAQ\n",
       "Zs6HQdsFa0zWqcEwbZvdpFkr1UhAIhPFs+s6AIu7UUwb+mhvrq7aNsrq36uMpCy5CavQmky02A2v\n",
       "qrS4DVKaLRNfeQtvudEUcUNItLFDm7h4xXHwJa4dzXlx1uXH1QyI90pugTGeLZ1flUhgnVRRsofm\n",
       "8N6bbbJTb5o52z4uHf9L7iG0dPZEfVi5PD3Ldl7tx63k4EkyKMn+ACiNDV4Dhz6zAAAAAElFTkSu\n",
       "QmCC\n",
       "\" style=\"display:inline;vertical-align:middle;\" /></a></span>"
      ],
      "text/plain": [
       "{(x not-in A) or (x in B)} |- x not-in (A - B)"
      ]
     },
     "metadata": {},
     "output_type": "display_data"
    }
   ],
   "source": [
    "NotInSet(x, Difference(A, B)).prove(assumptions=[Or(NotInSet(x, A), InSet(x, B))])"
   ]
  },
  {
   "cell_type": "code",
   "execution_count": 10,
   "metadata": {},
   "outputs": [
    {
     "data": {
      "text/html": [
       "<span style=\"font-size:20px;\"><a class=\"ProveItLink\" href=\"../__pv_it/theorems/7cff88a72d74b46848d0810692c8c2e6f96cf5830/expr.ipynb\"><img src=\"data:image/png;base64,iVBORw0KGgoAAAANSUhEUgAAAG0AAAAVCAMAAAB7V5DIAAAAP1BMVEX///8AAAAAAAAAAAAAAAAA\n",
       "AAAAAAAAAAAAAAAAAAAAAAAAAAAAAAAAAAAAAAAAAAAAAAAAAAAAAAAAAAAAAADFBd4eAAAAFHRS\n",
       "TlMAEHarMolUmd1mIs3vRLvp8+P3nXqVZZ4AAAAJcEhZcwAADsQAAA7EAZUrDhsAAAG9SURBVEjH\n",
       "pVXpmoMgDIRwhXN3u7z/s25QLKBV3M/8aEslx0wmkbELc5fH/9nc2fP+BLp39v/MFmFyQYr+pNVQ\n",
       "SJ7GtylnQeaTXIq119dN7A58AKNzvoEnpOVLZHlk6mA4pB5KMyLPG+Hyyl7MZsFqTm9Cwq9v7PCE\n",
       "/qlyaq33msp6x9as4QRc9MCZ6OPpnkgHDLKeZhOVbR9WHnyhhwMILpXSneD4vlGm14gpjbM328YF\n",
       "1rKVWH1BADOtTb7UYgfJ+i54pLpkVrNkMicgIM3TUv3WFWaJuBbPHyWEeoBGChCzbLAKSYctsKbe\n",
       "F5hmYE0GRPx50UdqrMROQMaQJlM3HNisNTtVYb0FJWsfw8AaL4HUqIKWja93M86wbeg3SbIY6kAQ\n",
       "Zs6HQdsFa0zWqcEwbZvdpFkr1UhAIhPFs+s6AIu7UUwb+mhvrq7aNsrq36uMpCy5CavQmky02A2v\n",
       "qrS4DVKaLRNfeQtvudEUcUNItLFDm7h4xXHwJa4dzXlx1uXH1QyI90pugTGeLZ1flUhgnVRRsofm\n",
       "8N6bbbJTb5o52z4uHf9L7iG0dPZEfVi5PD3Ldl7tx63k4EkyKMn+ACiNDV4Dhz6zAAAAAElFTkSu\n",
       "QmCC\n",
       "\" style=\"display:inline;vertical-align:middle;\" /></a> <a class=\"ProveItLink\" href=\"../__pv_it/demonstrations/7bc1412e0a0cca662ce3f6385a1040ffb51d734f0/proof.ipynb\" style=\"text-decoration: none\">&nbsp;&#x22A2;&nbsp;&nbsp;</a><a class=\"ProveItLink\" href=\"../__pv_it/theorems/7f5898a5f5b1e60924e57a01bca6fa590a50f3560/expr.ipynb\"><img src=\"data:image/png;base64,iVBORw0KGgoAAAANSUhEUgAAAJ4AAAAVCAMAAACALKdSAAAARVBMVEX///8AAAAAAAAAAAAAAAAA\n",
       "AAAAAAAAAAAAAAAAAAAAAAAAAAAAAAAAAAAAAAAAAAAAAAAAAAAAAAAAAAAAAAAAAAAAAAAeYafp\n",
       "AAAAFnRSTlMAInZUiRDNmWbv3US7qzLp8+P355HBP3RuygAAAAlwSFlzAAAOxAAADsQBlSsOGwAA\n",
       "AkxJREFUSMedlkmWGyEMQAsoEHMnnYT7HzVQzGCgbW3sZ8PXLHFdXtC1E/TBP++d2V/EZHuO0fkq\n",
       "ez4UPio5sDeS4eTeHrPmhcUuKecHHQd2L1w7Z7wwbSucsv0lULNS56bImvLN1pie2KMIHVnOFjgc\n",
       "IiBfWGxcqgwOxfViVPQ9HuTvlZuLEOWgwMWmcLSUX7+mCNzodtkEQUc3UHP+wJayZ/OE5clMDyfL\n",
       "+CuGvW5jJx/xhV2ueFbic6efoDbDiT2KSTXDBMpwSMVLMTbU3jep3UlfVw+E4stW3Wbo5rYYDuxF\n",
       "6VEjbYFn971SbPAFhc5QX1LFca/EutyRvJof44ybCwf2NCOcxt6RmhAPl9EljkLK6WXKf2wx9OCp\n",
       "4Rw0IoYJJJsLB/ZUjrHhiOAVLuLcCJ5De8uKULq/v6XUQ0kD+M7VxeMmWJ5OoE3Wlh2kY+vkamk8\n",
       "Dxd1rIk2kVS39V5/jmdczpMS/Qzu0rZnT5JTkhs3wGUxQIXY0n5QyFepDb9nq4jsRqTtFO/Zc+nx\n",
       "3MCqwDWO/qjLBJV1CYUaVzD2Be+3ml9EbeK56VbMlr0qPW8mq/A4GYizFERsy1JKZBp6KAdN57UB\n",
       "7VKlw5jdsudFLlJGSzt6uH0CTcE7RIC3t6jRf7q+pX5lP1dJ+BLtkl24oNe6Zat+JpjyHqjnAlza\n",
       "5eL5+09Pi2cIp9zv6zVb3Sd2hHN456U3dsp+52/YP5AI16sHLdLHJ8bphEafW5fgdKXjPr50j9qp\n",
       "/ty8DEeLN7k5vtTPsUH4U+se+H9n0hP0jo+lTgAAAABJRU5ErkJggg==\n",
       "\" style=\"display:inline;vertical-align:middle;\" /></a></span>"
      ],
      "text/plain": [
       "{x not-in (A - B)} |- (x not-in A) or (x in B)"
      ]
     },
     "metadata": {},
     "output_type": "display_data"
    }
   ],
   "source": [
    "Or(NotInSet(x, A), InSet(x, B)).prove(assumptions=[NotInSet(x, Difference(A, B))])"
   ]
  },
  {
   "cell_type": "markdown",
   "metadata": {},
   "source": [
    "## Miscellaneous Testing\n",
    "<font size=3>The material below was developed to test various intersection-related methods. Some of this material could be integrated into the `_demonstrations_` page eventually and/or deleted as development continues.</font>"
   ]
  },
  {
   "cell_type": "markdown",
   "metadata": {},
   "source": [
    "### Some Example `Sets` For Testing"
   ]
  },
  {
   "cell_type": "code",
   "execution_count": 11,
   "metadata": {},
   "outputs": [
    {
     "data": {
      "text/html": [
       "<strong id=\"set_123\">set_123:</strong> <a class=\"ProveItLink\" href=\"../__pv_it/demonstrations/b525e1a908ac39fd855a42ae46345dbfae68e6350/expr.ipynb\"><img src=\"data:image/png;base64,iVBORw0KGgoAAAANSUhEUgAAAEMAAAAVBAMAAADvM06qAAAAMFBMVEX///8AAAAAAAAAAAAAAAAA\n",
       "AAAAAAAAAAAAAAAAAAAAAAAAAAAAAAAAAAAAAAAAAAAv3aB7AAAAD3RSTlMAEER2zVSJ3Zki72ar\n",
       "MruaaVGaAAAACXBIWXMAAA7EAAAOxAGVKw4bAAABMUlEQVQoz2NgYGBUYsAFOCMhtIkiTiUMdx6C\n",
       "SNaPQIK3EKavw+8ChDUt4xGQfANishUwMMi0fIQqmcfA9gnMYGxgiA9gYEiHKWFghik5ycCwCsxg\n",
       "/sog74BVyXoBhvMTQAymRQz82JUcZ2A4D3UMQ/wGrEqAoB5KM1UzQJVwOKAq4f0MpW3OAkkrEHPW\n",
       "BlQl7AdgLJCP5gPxHCcGVCV9cBYXUJDxSAADb58AihJuqCG8Fxj4vgJdCjKB7wCKkjAGTrCn+T+C\n",
       "lcQLIPuIEaw5gYFZAMTiOgC2KAvuabafDODAZJje0dEOZnFvQA0XnlNfTjOwg6Ky/v//LxCWRscj\n",
       "BuSgA4NABkwWmpIEBkwWWAnzAiiP0YABg8XQAk5EX6E8Zrg4gsW4GkzNOIo77eYAwx8AI6NSKCFw\n",
       "CrwAAAAASUVORK5CYII=\n",
       "\" style=\"display:inline;vertical-align:middle;\" /></a><br>"
      ],
      "text/plain": [
       "<IPython.core.display.HTML object>"
      ]
     },
     "metadata": {},
     "output_type": "display_data"
    },
    {
     "data": {
      "text/html": [
       "<strong id=\"set_12345\">set_12345:</strong> <a class=\"ProveItLink\" href=\"../__pv_it/demonstrations/12dc3bbdd186bc7f3c4f78b4ed0f0166715fdfe40/expr.ipynb\"><img src=\"data:image/png;base64,iVBORw0KGgoAAAANSUhEUgAAAGsAAAAVBAMAAACzuQ2OAAAAMFBMVEX///8AAAAAAAAAAAAAAAAA\n",
       "AAAAAAAAAAAAAAAAAAAAAAAAAAAAAAAAAAAAAAAAAAAv3aB7AAAAD3RSTlMAEER2zVSJ3Zki72ar\n",
       "MruaaVGaAAAACXBIWXMAAA7EAAAOxAGVKw4bAAABuklEQVQ4y5WUPUjDQBTH/zGkH/aDgIuDYHUR\n",
       "xMFBHLpYxFGkLoKTcVEQhzoJIlShYAcJBQeLinVWod1dCn6hrbTgIqhgd0GrFVHRene5Sxsprb3h\n",
       "7pdrfrnX914CQOpGM8M5aawDXf9W8pBiuCtQVIpk8iyIZ0XH8pxmdJ+4/YavyZFFFXikaAsBHZEi\n",
       "/2EXtheD2qG8CW2Zr0vv02SeFRpkoV0A+wYNBaUS35SFlmZzDS2pIhdj1OuD0G5HG2nnQI7/OShf\n",
       "HLSGGhlhAT0pHmNMaJnBK6E5AlbN88rhOsuP3YbQCkiQ7PopbqWsmj0tSGRSMzXAS2JLBIGdYVg1\n",
       "vRIuyQ8ZrliV5vggbXUShEdXLZpLHHYPPAUpbEBo3gAc3yQb9CRv2qJNwGkUoKxyrS+b/TxjW60h\n",
       "uJ+BKbU6kxJLiAZZZXRIg5SMZxFmtxLzAZgzC2AjIXfSlG5Go2sGHdG6MQJ+wDrGuQK/WlU392Up\n",
       "Aztt53C5XDKoJUpamRH08jFoDyO+vmopNxvjqEOKau790TTUIRusmrzHr6R+1KG2ihZhr6N4q2Rz\n",
       "vxaZPqQDtsRPm/uWzJNq/gLZnXhEcFX4LQAAAABJRU5ErkJggg==\n",
       "\" style=\"display:inline;vertical-align:middle;\" /></a><br>"
      ],
      "text/plain": [
       "<IPython.core.display.HTML object>"
      ]
     },
     "metadata": {},
     "output_type": "display_data"
    },
    {
     "data": {
      "text/html": [
       "<strong id=\"set_1234567\">set_1234567:</strong> <a class=\"ProveItLink\" href=\"../__pv_it/demonstrations/8184586d12c4f1c673080ccd41f7c4b8fabdb56c0/expr.ipynb\"><img src=\"data:image/png;base64,iVBORw0KGgoAAAANSUhEUgAAAJIAAAAVBAMAAABf4KrdAAAAMFBMVEX///8AAAAAAAAAAAAAAAAA\n",
       "AAAAAAAAAAAAAAAAAAAAAAAAAAAAAAAAAAAAAAAAAAAv3aB7AAAAD3RSTlMAEER2zVSJ3Zki72ar\n",
       "MruaaVGaAAAACXBIWXMAAA7EAAAOxAGVKw4bAAACR0lEQVQ4y6WUP2gTURzHv2eay13SiwcuUoRE\n",
       "F8HFDKLo0qB28t+5uPZEyajnJLi0dvEGCRn8E9pS01UKyeAiLocgKqYm4OAkxMW1VSsiKud7v/fe\n",
       "vVwIQeiD3Pvy8r3P3e/fATAOYbfrYYO2Ywf/+44+jMbI0YrLLs57fs1+5QcfXfGHHV7sS1Wrl5Xd\n",
       "WRR7++xt6UOtJnzzcRy3UIyYNAMW4JtL0rEG85tQ+5H9oUi5SOx3fl6VJw/K0wGJG2F4zyOIuGBW\n",
       "kt4CT4Wa9YwdRTohSVES1BkUByR8oIlxpLaLnkjFkTIUyXk2ShIp4cuj0zGk10Cvr+y/pTCnRknF\n",
       "ls652R9LYmtBicMdKU4q0rvjm0LkL1xbUrY1BbGqaZLzXYoPXVXFjiJ9xhNRz73nkPek7yX7Zfg7\n",
       "LnfSpJxOhqydiSkdlqhYaRvWunwOh9jMunoaaVJdZ6AtDp8PkaxfghSgILvFpJgOzMGpuylSQd30\n",
       "CdiiAOyKIhWrsP6K6KooyHrkqBuus6ipPTXpCmzRBbErSXu63d6GT3kOML2tglTvVIpUV+ja0QT5\n",
       "yLgGP9ng0RmyVBEMShjyA7JlWZ5apHCUT5LZSkg3G6CWfsyaHyUe+gveT6RYMANS9iJOuaLzv2BG\n",
       "zsC8j+F+6rbPd8CncyGOd5C7xYMK2QSTgrX1p0Kqef8uyAYz3JRq2UuRRNWT+l3GBKVtWo2QzOQu\n",
       "f5LStiEVqPaktU8JozJJJbYhRYNiJ1+hxJvBJFUZo2ZoUJqvdv0df8QQ/wCKEJuaCVDOXQAAAABJ\n",
       "RU5ErkJggg==\n",
       "\" style=\"display:inline;vertical-align:middle;\" /></a><br>"
      ],
      "text/plain": [
       "<IPython.core.display.HTML object>"
      ]
     },
     "metadata": {},
     "output_type": "display_data"
    }
   ],
   "source": [
    "# define some enumerated Sets for use in testing, containing numeric literals\n",
    "set_123, set_12345, set_1234567 = (\n",
    "        Set(one, two , three),\n",
    "        Set(one, two , three, four, five),\n",
    "        Set(one, two , three, four, five, six, seven))"
   ]
  },
  {
   "cell_type": "code",
   "execution_count": 12,
   "metadata": {},
   "outputs": [
    {
     "data": {
      "text/html": [
       "<strong id=\"set_abc\">set_abc:</strong> <a class=\"ProveItLink\" href=\"../__pv_it/demonstrations/24cc6dec3949f6988f6c60d9934a7935e093b7fe0/expr.ipynb\"><img src=\"data:image/png;base64,iVBORw0KGgoAAAANSUhEUgAAAEEAAAAVBAMAAADrxp6XAAAAMFBMVEX///8AAAAAAAAAAAAAAAAA\n",
       "AAAAAAAAAAAAAAAAAAAAAAAAAAAAAAAAAAAAAAAAAAAv3aB7AAAAD3RSTlMAEER2zVSJ3Zki72ar\n",
       "MruaaVGaAAAACXBIWXMAAA7EAAAOxAGVKw4bAAABJklEQVQoz2NgYGBUYsABOCMhtIkiLhUMdx6C\n",
       "SNaPyGJyy1GUvAERbAUoYh4ovHQsKr4SUsH0kZAKNBMRKuYkT4YIsRy2CYCqNd4LVcHhADR7JcN7\n",
       "AbC4vCPjT0hYlDL0MTBYgZizNjAwSG1gaIfojBdgWAxmsCeAGPOBBs5xAnL7GRjKICpaGBi+gRn9\n",
       "YDMZjwQw8PYBmesYGD9BVJQxMEH8uw7iGJB+vgMMjJ8ZuD/AgoMD7F+gENRSsF8YvzLwOEQygHh/\n",
       "QW4CMX4D3c/AkAXz7WOG8IYGxi9A3mmGFwxgBtAjuUjhIWN28/AFhnKgXpkMoNdADLbszQIYYcoq\n",
       "gM5AV8GGwYCoYF4A4wpjMEDBAwxeeHwbYDAYV4OpGUdxptMcYKADAC/PRZ++VkhWAAAAAElFTkSu\n",
       "QmCC\n",
       "\" style=\"display:inline;vertical-align:middle;\" /></a><br>"
      ],
      "text/plain": [
       "<IPython.core.display.HTML object>"
      ]
     },
     "metadata": {},
     "output_type": "display_data"
    },
    {
     "data": {
      "text/html": [
       "<strong id=\"set_abcde\">set_abcde:</strong> <a class=\"ProveItLink\" href=\"../__pv_it/demonstrations/79184629a2e14906fcd14d7156a50559efda0ab70/expr.ipynb\"><img src=\"data:image/png;base64,iVBORw0KGgoAAAANSUhEUgAAAGkAAAAVBAMAAAC3TN2zAAAAMFBMVEX///8AAAAAAAAAAAAAAAAA\n",
       "AAAAAAAAAAAAAAAAAAAAAAAAAAAAAAAAAAAAAAAAAAAv3aB7AAAAD3RSTlMAEER2zVSJ3Zki72ar\n",
       "MruaaVGaAAAACXBIWXMAAA7EAAAOxAGVKw4bAAABi0lEQVQ4y2NgYGBUYiABcEZCaBNFUnQx3HkI\n",
       "Ilk/IosxvirAVMjr1YDEewMi2FCVsTRgMZ8/AImTjkUXigIY0BcgoAtFAYpCfLrSsYWAB3ZdnMcs\n",
       "DSBiPsZHobLJ1hcgYX3M9is0qJItBKC6OByAhNYEPkhQMn4RkJ8AZk0P4HgAZsDlGNQv8CYwMFiB\n",
       "mLM2ANWuZuCAOBQYD1wQW8ugDJCcA8TS3wzMCgwM84HhNccJZN8HBvYEBqjN/GAWBywaEXJ8n42T\n",
       "QMYcCWDg7QM6lesBg7wCWAaoQB8c9lwPoLoQcvwHwBQbyB4+IFvegGE/PLr6wWEvDw0dZDmIULwA\n",
       "NAzlAxiOsE5gBMlcAPoDzAB6VwHEQMiBHAp0RxYs5PkMWCs4GOSBnubZwNcAZgADkO0CiIGQ43Zg\n",
       "kJiAFF+Mh3Pn2DKwFwJZx7oZwAyGtN2GEBG4HIPZbgMsaSMQNwOJha4rATcDiQXWxbwAnrcMcDKQ\n",
       "WAwt4Bj/CuMy42YgsYBhDAIzjpJUbuQAAx8Afpdbo4F0xkoAAAAASUVORK5CYII=\n",
       "\" style=\"display:inline;vertical-align:middle;\" /></a><br>"
      ],
      "text/plain": [
       "<IPython.core.display.HTML object>"
      ]
     },
     "metadata": {},
     "output_type": "display_data"
    }
   ],
   "source": [
    "# define some enumerated Sets for use in testing, containing variables\n",
    "set_abc, set_abcde = (\n",
    "        Set(a, b, c),\n",
    "        Set(a, b, c, d, e))"
   ]
  },
  {
   "cell_type": "markdown",
   "metadata": {},
   "source": [
    "### Testing the `DifferenceMembership` class methods\n",
    "<br/>\n",
    "The `DifferenceMembership` class currently has the following class methods:<br/>\n",
    "    <div style=\"width: 75%; border: 1px solid green; padding: 5px; margin: 20px; background-color: gainsboro; font-family:courier\">conclude(self, **defaults_config)<br/>\n",
    "    conclude_as_folded(self, **defaults_config)<br/>\n",
    "    definition(self, **defaults_config)<br/>\n",
    "    unfold(self, **defaults_config)</div>\n",
    "</font>"
   ]
  },
  {
   "cell_type": "markdown",
   "metadata": {},
   "source": [
    "A few `DifferenceMembership` objects for convenience:"
   ]
  },
  {
   "cell_type": "code",
   "execution_count": 13,
   "metadata": {},
   "outputs": [
    {
     "data": {
      "text/html": [
       "<a class=\"ProveItLink\" href=\"../__pv_it/demonstrations/a317ab80cd44dfafd4d70afb1e9c805a43afb23e0/expr.ipynb\"><img src=\"data:image/png;base64,iVBORw0KGgoAAAANSUhEUgAAAPsAAAAVBAMAAAByEoVnAAAAMFBMVEX///8AAAAAAAAAAAAAAAAA\n",
       "AAAAAAAAAAAAAAAAAAAAAAAAAAAAAAAAAAAAAAAAAAAv3aB7AAAAD3RSTlMAMs3vmVREEIndIqt2\n",
       "u2aBbGR5AAAACXBIWXMAAA7EAAAOxAGVKw4bAAADPklEQVRIx5VWS2gTURS9aT5vOk2aoDtdGNC2\n",
       "iJss3ChWgjsXbbMTuzEo+AGhg7qrZVIVsRikgqLZBVSwRLAUCl1UmfqhRasEFEUUrNCl1FioFSnF\n",
       "+z4z8958UvJgwpl77ue9++69E4CgpeNDTkMLSx/0y5p4eFTFn2oY+xqfF2daCQ87P/tETTxEnhkA\n",
       "5wXenVfJeAmfdVkyciDAx7b98ttXL616IB/G5dfUJEByieN0QTW8gI+maMOeoDOsyS9jXtbjoS3v\n",
       "I3s4HjJUw36/8VpA9MR6K+HVMzJyWbF8V6lkGcj5jNVIgf63Cq+ekZFRQ8rsyXn70rI+Y4+roHRu\n",
       "FX7MT7bh5eszcyyzeo9NxUo2Xys/EZFm34rcaYs/OKiVdwkRKb8ywsI7HmDf4rRA5fcZTmpYf6eq\n",
       "KZbZNqcN6aYghilIHITvPD9mD/nH+/su9PHrcDg4l4nghl96w6seyKph8ggThVgdkvSCO7NADjM9\n",
       "DOrYtdNTPcA9XFyCo1x0woBDnCsJgNwRMXE2IVkEeOppH48HbMOoxdB9CnSa8XgOYg3qEtf2Cq46\n",
       "RVF0VutGMEB12cJIfxkYsAvI5VIbi9fp8aYwPtlLvVQy4POAZ0yzODFexcNdOHAaEK2DWWSTxdk2\n",
       "DR/pwzi9QP6A2HGCt16vreRy6Ul+1d2ewaZ6wDMOsfxE2RHhCgZJ5MC04Bfn1eTjWCIb0Nmw255v\n",
       "GkWi3Fwubdn3oy7VA7Y9z5xpOSMxPg5mAabitCaSlmNn8bola9CRHQRq9JveIgWbuGcKJI7eHW74\n",
       "akDlS1rpDFYZoQBLoggaK706xorfiTH1LsduUrTNNziez5NVfHsOH4EBLPtRBlwO6/dSNaTxXK2O\n",
       "pVQeTCxyLHtNNB52OJkdrc3xYvgk0hcZF8bDCztmM1BB8fA13DMF2q2fBpc4HCysWGFjx9UiMzjK\n",
       "2++h/MbKvBgK7UVZ/+wXMXRvKzMrboQCCTWbeq7WMYWcCP4aLyvGWjiQULPwrlZJIfuDw6fwKtlY\n",
       "YutyOJCQPYTcFeCBWPJI1OvB4QnKdecTa4UDCWFde/9/+T0kHRIbiZ0ycNHPxMPplv7r3Sz4ZE08\n",
       "PKbUG4D/n8n9vgAoQcUAAAAASUVORK5CYII=\n",
       "\" style=\"display:inline;vertical-align:middle;\" /></a>"
      ],
      "text/plain": [
       "d in ({a, b, c, d, e} - {a, b, c})"
      ]
     },
     "metadata": {},
     "output_type": "display_data"
    }
   ],
   "source": [
    "# a DifferenceMembership object that is clearly True\n",
    "diff_mem_01 = Difference(set_abcde, set_abc).membership_object(d)\n",
    "diff_mem_01.expr"
   ]
  },
  {
   "cell_type": "code",
   "execution_count": 14,
   "metadata": {},
   "outputs": [
    {
     "data": {
      "text/html": [
       "<a class=\"ProveItLink\" href=\"../__pv_it/demonstrations/2df236663a8b5f5c3c7c599dc1e17967952a9def0/expr.ipynb\"><img src=\"data:image/png;base64,iVBORw0KGgoAAAANSUhEUgAAAP4AAAAVBAMAAACUO04jAAAAMFBMVEX///8AAAAAAAAAAAAAAAAA\n",
       "AAAAAAAAAAAAAAAAAAAAAAAAAAAAAAAAAAAAAAAAAAAv3aB7AAAAD3RSTlMAIpnNuzKJRKvvEN12\n",
       "ZlQ4bmvwAAAACXBIWXMAAA7EAAAOxAGVKw4bAAADbElEQVRIx5WWTWgTQRTH3ybNNt2kZS1FFKst\n",
       "aZCiCAGFFsEaD2KpB0tBUVQMCFL10ICgVi/VqkS0H0cVSoIVrCA0CMVqDg0oQgtqUA9eCvEiqAcr\n",
       "VcT6Ed+8ndnd2d1oM7C7j9n/vN+8mTdvF8CjKXhpZ6CSprzz6LybLKtfp3OOV3uB15Nzy2Z3g6bD\n",
       "/i5Xf7gtU3ZM4BK+q87jHCJbuh3v6hJ4LTHRYxGdKVKORc2gevgzvTmHzjpdjM8Mf1DMob5lp91F\n",
       "1QCazwEaQP3uGDeOl5oFmGhZ4j2W6DbU/RG6af589PME3k+6+NijXdzO+Uoc+pI2FwwA/gxcALjp\n",
       "GLeJ8yEs+JboZVFbFMsr+AOC5ubjAM4P6lAzanNBgNpmSGdgRKf+p7lcjIxRF98S9SdB8A+3V8Kv\n",
       "WYLgF5sLAsAtuAYwQnt7ak5sf8zFN0Xs9W9uJCriB7MQ/GZzYfC3sdsM7c9WMcyXcPGFiLXzBb78\n",
       "uuAPPbv8fz620ILNhcHvZVn+i1l+Xcj8DOCLyXxDhO1Qii/EWhD8LmjCzJp18Vsc/CN5m4swJcNr\n",
       "Ni1aP781zSLeVhdkviGixeP5nzD5eJgwmKaisySNOfjTdhcKufmAV5T6DuSwxSlTMJhVbSDzo5bf\n",
       "NHms1W18H2aWNsgmMM7c5KYYfjAp831xycVEB1sSdGREdsd8yfiBaEbi14rw9wLsoUAbQfCrYuDD\n",
       "zFLbHPH3dMn8t7KLo2x6/QDvQWFbH5LXn8qTxecigFKG88+mUj+uGPPFzF7g1U5qnRIfq+oKmwsq\n",
       "sPAJAgkIU6x5czPz9vzXKPuYiKwbbPE0Q4g2G6niFHBpj5fPf5rCPoA5ssgFqJR/b2BNJLKR1B1i\n",
       "mDog+Cpu6yQ7CCQia54d3kmjTn0FqoVKM8xmyp6/Pp2rHkQiWbLmbed/PcyUSkZBm9jFVyqQ5fzg\n",
       "1cUhCLFvEInIqo7gx4MsiJauA/vwQH3rhrLnP5VuL5AqVCqVYmSRC85/aJOf3s3r75SIn9pH+IdV\n",
       "l5GjdccvqyyLAErW69v8SuIn4B+WCsvhWyqbxQC+ghe/Shflif0HmXnpZd13VDupzbpVlkUFtsHz\n",
       "30SLi/LEzoD1O+Nh5a1BYy4/ZkXMe+jvsdB3eP8cNbKkGq7s/6+36O5rLZbVrxymTxj8BcTjExLK\n",
       "e3gTAAAAAElFTkSuQmCC\n",
       "\" style=\"display:inline;vertical-align:middle;\" /></a>"
      ],
      "text/plain": [
       "2 in ({1, 2, 3, 4, 5} - {1, 2, 3})"
      ]
     },
     "metadata": {},
     "output_type": "display_data"
    }
   ],
   "source": [
    "# a DifferenceMembership object that is clearly False\n",
    "diff_mem_02 = Difference(set_12345, set_123).membership_object(two)\n",
    "diff_mem_02.expr"
   ]
  },
  {
   "cell_type": "code",
   "execution_count": 15,
   "metadata": {},
   "outputs": [
    {
     "data": {
      "text/html": [
       "<a class=\"ProveItLink\" href=\"../__pv_it/demonstrations/8d310dbf7c39f4aa7b2bba4e0407c934eb318fb90/expr.ipynb\"><img src=\"data:image/png;base64,iVBORw0KGgoAAAANSUhEUgAAAP4AAAAVBAMAAACUO04jAAAAMFBMVEX///8AAAAAAAAAAAAAAAAA\n",
       "AAAAAAAAAAAAAAAAAAAAAAAAAAAAAAAAAAAAAAAAAAAv3aB7AAAAD3RSTlMAiXZmMiLdVJm77xBE\n",
       "zatgdeJyAAAACXBIWXMAAA7EAAAOxAGVKw4bAAADfUlEQVRIx5WWX0jTURTHz+Z+c+6fs4foJR1I\n",
       "QUn5I+mhB2NFSPTifMi0h5oEKyhyvvSQhPYS88GSSF+yHARBKTqCoCJ0vURYwSBQIimhP1rQjP7g\n",
       "w1rr3HvP726/P3N64bcd7vne87m/e8899wdg0cL4PE3BRtqxsLnP86qMXrH22WP4LCTXi3YAPATH\n",
       "V7N+18s1BjG9N2jp68Gnj4VznKWejsEbZLVtGZUh+sW/OzeHuqpFY5jKLPttoXkp8bchsmoGUqSv\n",
       "t8J70vizGZ/pwSyNGII6sR2efuiLkc5JROdUFzJsEWMc1uNZ/kD8TrD9FdYjqFwlvc9qkV0q8cFO\n",
       "fH8Y3AmxNaswkybdduL7Jc3MB2gkxGeA+8JqjHly5K3oL9LviEZ5aDcY+e4s+P9wyzsB1cR3NG+I\n",
       "P5WEFZGjsynQ+DBekL9uIOOSie+PgP+3putTKbxvQ/wvACshLTN+ad43+GyqZ/3KO23cZROfbfIP\n",
       "MrynyNgm+XtqQ+X52Lo147mqeWsB2mOuIZYK8gCzOcGggd9KR8Wx+xPlpKrxq5IKZpY9YcqjtJ7v\n",
       "+EnGwUxI0zcDdIGbxfbJcadZ9DsG/nlpUf7bwFc4cSM4YtXIP67q+U6pZ/kv9BfBRYwjUWxsIWAC\n",
       "nd9Tej5fIpmMrO0t5l/DxZueZ+dzjoWJsg09sQB6/kBhapiMQt8Kbor8WDqRD4dv6vn7tTUMQRWf\n",
       "uBKU/FvIR+BWQ8F2DCR1/AptuocAxmKkn4UZ2linbv3hto5fGYCj3KjOEt+byaxMBnjfXcxsrdoV\n",
       "N1ERJb8HFJFi+STjC/0FqMZdYjOxy1p8XZf/HmYcAGgAFsi9yNZfhESbO3EW9zAfEqXzn9fyANiT\n",
       "XD/J11/o97GdtfFzOa+Nq5V8GxYdVu6UM/F4hBUtqFDx/HML12JI1MIOsI+XPn91YeD69nj8itA3\n",
       "FZ1/POs1TaLwTI/SSrVofP+33Edw4t3izOfzaYgy/4s43j/cco39CzIn3izLJes/ZKbeq1zfnc/n\n",
       "eDDwxtn9I/TnivTPRkT9dYa09+etV56apNnqNbyt+f3X1CsRi/uHXwoFfkCOALMVWBe/pN6lWl3A\n",
       "w/jslLexzMsHYLIKTqp2us+YRFl9p+X3BysFJ7Vb3i67g2ar4IQnplcpVMSS+mFLPtYWUK7GNvT9\n",
       "17Zk7utYKqO3h+E/fkMECbQ99QsAAAAASUVORK5CYII=\n",
       "\" style=\"display:inline;vertical-align:middle;\" /></a>"
      ],
      "text/plain": [
       "c in ({1, 2, 3, 4, 5} - {1, 2, 3})"
      ]
     },
     "metadata": {},
     "output_type": "display_data"
    }
   ],
   "source": [
    "# a DifferenceMembership object that is not clearly True or False\n",
    "diff_mem_03 = Difference(set_12345, set_123).membership_object(c)\n",
    "diff_mem_03.expr"
   ]
  },
  {
   "cell_type": "markdown",
   "metadata": {},
   "source": [
    "###  `DifferenceMembership.conclude()`"
   ]
  },
  {
   "cell_type": "code",
   "execution_count": 16,
   "metadata": {},
   "outputs": [
    {
     "data": {
      "text/html": [
       "<a class=\"ProveItLink\" href=\"../__pv_it/demonstrations/a317ab80cd44dfafd4d70afb1e9c805a43afb23e0/expr.ipynb\"><img src=\"data:image/png;base64,iVBORw0KGgoAAAANSUhEUgAAAPsAAAAVBAMAAAByEoVnAAAAMFBMVEX///8AAAAAAAAAAAAAAAAA\n",
       "AAAAAAAAAAAAAAAAAAAAAAAAAAAAAAAAAAAAAAAAAAAv3aB7AAAAD3RSTlMAMs3vmVREEIndIqt2\n",
       "u2aBbGR5AAAACXBIWXMAAA7EAAAOxAGVKw4bAAADPklEQVRIx5VWS2gTURS9aT5vOk2aoDtdGNC2\n",
       "iJss3ChWgjsXbbMTuzEo+AGhg7qrZVIVsRikgqLZBVSwRLAUCl1UmfqhRasEFEUUrNCl1FioFSnF\n",
       "+z4z8958UvJgwpl77ue9++69E4CgpeNDTkMLSx/0y5p4eFTFn2oY+xqfF2daCQ87P/tETTxEnhkA\n",
       "5wXenVfJeAmfdVkyciDAx7b98ttXL616IB/G5dfUJEByieN0QTW8gI+maMOeoDOsyS9jXtbjoS3v\n",
       "I3s4HjJUw36/8VpA9MR6K+HVMzJyWbF8V6lkGcj5jNVIgf63Cq+ekZFRQ8rsyXn70rI+Y4+roHRu\n",
       "FX7MT7bh5eszcyyzeo9NxUo2Xys/EZFm34rcaYs/OKiVdwkRKb8ywsI7HmDf4rRA5fcZTmpYf6eq\n",
       "KZbZNqcN6aYghilIHITvPD9mD/nH+/su9PHrcDg4l4nghl96w6seyKph8ggThVgdkvSCO7NADjM9\n",
       "DOrYtdNTPcA9XFyCo1x0woBDnCsJgNwRMXE2IVkEeOppH48HbMOoxdB9CnSa8XgOYg3qEtf2Cq46\n",
       "RVF0VutGMEB12cJIfxkYsAvI5VIbi9fp8aYwPtlLvVQy4POAZ0yzODFexcNdOHAaEK2DWWSTxdk2\n",
       "DR/pwzi9QP6A2HGCt16vreRy6Ul+1d2ewaZ6wDMOsfxE2RHhCgZJ5MC04Bfn1eTjWCIb0Nmw255v\n",
       "GkWi3Fwubdn3oy7VA7Y9z5xpOSMxPg5mAabitCaSlmNn8bola9CRHQRq9JveIgWbuGcKJI7eHW74\n",
       "akDlS1rpDFYZoQBLoggaK706xorfiTH1LsduUrTNNziez5NVfHsOH4EBLPtRBlwO6/dSNaTxXK2O\n",
       "pVQeTCxyLHtNNB52OJkdrc3xYvgk0hcZF8bDCztmM1BB8fA13DMF2q2fBpc4HCysWGFjx9UiMzjK\n",
       "2++h/MbKvBgK7UVZ/+wXMXRvKzMrboQCCTWbeq7WMYWcCP4aLyvGWjiQULPwrlZJIfuDw6fwKtlY\n",
       "YutyOJCQPYTcFeCBWPJI1OvB4QnKdecTa4UDCWFde/9/+T0kHRIbiZ0ycNHPxMPplv7r3Sz4ZE08\n",
       "PKbUG4D/n8n9vgAoQcUAAAAASUVORK5CYII=\n",
       "\" style=\"display:inline;vertical-align:middle;\" /></a>"
      ],
      "text/plain": [
       "d in ({a, b, c, d, e} - {a, b, c})"
      ]
     },
     "metadata": {},
     "output_type": "display_data"
    }
   ],
   "source": [
    "diff_mem_01.expr"
   ]
  },
  {
   "cell_type": "code",
   "execution_count": 17,
   "metadata": {},
   "outputs": [
    {
     "data": {
      "text/html": [
       "<span style=\"font-size:20px;\"><a class=\"ProveItLink\" href=\"../__pv_it/demonstrations/3f876de628b73f4a5d605811b37b8a18f7b239a10/expr.ipynb\"><img src=\"data:image/png;base64,iVBORw0KGgoAAAANSUhEUgAAAI4AAAAVBAMAAABicsu7AAAAMFBMVEX///8AAAAAAAAAAAAAAAAA\n",
       "AAAAAAAAAAAAAAAAAAAAAAAAAAAAAAAAAAAAAAAAAAAv3aB7AAAAD3RSTlMAMs3vmVREEIndIqt2\n",
       "u2aBbGR5AAAACXBIWXMAAA7EAAAOxAGVKw4bAAACAUlEQVQ4y2NgwAbKEhhIAEsX4JDgUSsgxRzG\n",
       "vRDljMoOqBLxKMbUWmLRK2SCxOHdAKH5A1AVdaJyVbA54isSm2MChM4vwGvOVyzGsH3HYg5U39mZ\n",
       "MxWwmIOiBV0rCgfi8KTj2N2DogUGmBzQVXDtOAh2OJc6qr9W96yBatlzGhp+HGceQhire+ShQhVn\n",
       "3KHmJC/gBTucCZEKnEC+sWK4Dwm2enX2X2AG11QGX4hP4XJsExkkgOnEgIGB3Y6BBRwqTHBjuOyA\n",
       "RPEDBk94KrABMzgboAygnBNEbv0DhmNADUAPsXwAyQOB8EwguAAyZhMoNfszMMyAu+4HmOEPi1aE\n",
       "3P0zJ0CKq1UZmC8w1INzQS3cPSLXgYQtA/s3CHcGAxsk5m1hChByvyFUUwJD/QGG9xBXI8L/NtC7\n",
       "fxj4PsCSDws4AIFCEIAkBxFiBcrXBzBsYgUFMc8B5Phi/8rArRDFAPLJR1B4gBj/gOEKYiDJAb3H\n",
       "CowvYDjzHmCdwgLWrYoS73cYIh0c2D8BWfsYrjCAGcDIagQzEHKPGNi9IPHOvqdx9UGw7uprBUjm\n",
       "VJ+Q2iPAMBMoVN3ygAHM4Oh7UwARgcvx9L3BTKkZNzHyBWsBTgYSC2uKRzGHAzcDmYXDnMNwVg1u\n",
       "BhILkpAxwXp4eXQANwOJBYxPrIDLO4CUcnXFVgYGAC9GlP3SF1gvAAAAAElFTkSuQmCC\n",
       "\" style=\"display:inline;vertical-align:middle;\" /></a>, <a class=\"ProveItLink\" href=\"../__pv_it/demonstrations/5ed6ff1f275a688706bb98fe6a95af8aa7fbe06c0/expr.ipynb\"><img src=\"data:image/png;base64,iVBORw0KGgoAAAANSUhEUgAAAGYAAAAVCAMAAACDt2s/AAAAP1BMVEX///8AAAAAAAAAAAAAAAAA\n",
       "AAAAAAAAAAAAAAAAAAAAAAAAAAAAAAAAAAAAAAAAAAAAAAAAAAAAAAAAAAAAAADFBd4eAAAAFHRS\n",
       "TlMAMs3vmVREEIndIqt2u2bp8+P3nSoBZCQAAAAJcEhZcwAADsQAAA7EAZUrDhsAAAGgSURBVEjH\n",
       "lVZZsoQgDGSTEAi+jfuf9aG4BAR1+JgqQpOmoRNHiOHwzRysFZ8OP/kniIJqSsrCxzRChsh3SaVN\n",
       "C6imUxqSQNQ4Jop1njTVy6a+Iod3ws14rd5o29OieE/THnG8sZpRxK9vVG9pbIK3NEy3VQQiyPdq\n",
       "bpUeiz44kqduv1gM1B3aU/00gSg09+aIZsk3Wp29HU/darH6TA2NUX304rSUDwaJV4jHzGri+gC6\n",
       "gPTMsiw0naIRfkUdaLx6XfODoTsivtyTSUe81ItGxJ/f/BNPkqA2e7foU2hiMcPVQlCZSMdVtz2L\n",
       "bbnQ5qal2Yq5RR+klptaR/5KyxEhLdLmVBcMDor5it6rhgsoqOpKYQUFJY4mRySsGfiyQu95k9zf\n",
       "7IiUh1w1u2KBmJknNOLMrKa2aE5fMnQ2WFkKOWk0gkWKxxw3NARy0geS7M1+r824g0aELeZMOf4e\n",
       "Ec7NM8FD7c5/LmanPTabCZ4jNzQK3jUU9yIypvGxE9yKufrO0HOkKvyGv9fW/bXZX3N2WGBrH9cR\n",
       "+hpNmD7/L+DKpn/k6g6GrNrkbwAAAABJRU5ErkJggg==\n",
       "\" style=\"display:inline;vertical-align:middle;\" /></a> <a class=\"ProveItLink\" href=\"../__pv_it/demonstrations/371903694371cb10f51d15b88eeed0077c1cdece0/proof.ipynb\" style=\"text-decoration: none\">&nbsp;&#x22A2;&nbsp;&nbsp;</a><a class=\"ProveItLink\" href=\"../__pv_it/demonstrations/a317ab80cd44dfafd4d70afb1e9c805a43afb23e0/expr.ipynb\"><img src=\"data:image/png;base64,iVBORw0KGgoAAAANSUhEUgAAAPsAAAAVBAMAAAByEoVnAAAAMFBMVEX///8AAAAAAAAAAAAAAAAA\n",
       "AAAAAAAAAAAAAAAAAAAAAAAAAAAAAAAAAAAAAAAAAAAv3aB7AAAAD3RSTlMAMs3vmVREEIndIqt2\n",
       "u2aBbGR5AAAACXBIWXMAAA7EAAAOxAGVKw4bAAADPklEQVRIx5VWS2gTURS9aT5vOk2aoDtdGNC2\n",
       "iJss3ChWgjsXbbMTuzEo+AGhg7qrZVIVsRikgqLZBVSwRLAUCl1UmfqhRasEFEUUrNCl1FioFSnF\n",
       "+z4z8958UvJgwpl77ue9++69E4CgpeNDTkMLSx/0y5p4eFTFn2oY+xqfF2daCQ87P/tETTxEnhkA\n",
       "5wXenVfJeAmfdVkyciDAx7b98ttXL616IB/G5dfUJEByieN0QTW8gI+maMOeoDOsyS9jXtbjoS3v\n",
       "I3s4HjJUw36/8VpA9MR6K+HVMzJyWbF8V6lkGcj5jNVIgf63Cq+ekZFRQ8rsyXn70rI+Y4+roHRu\n",
       "FX7MT7bh5eszcyyzeo9NxUo2Xys/EZFm34rcaYs/OKiVdwkRKb8ywsI7HmDf4rRA5fcZTmpYf6eq\n",
       "KZbZNqcN6aYghilIHITvPD9mD/nH+/su9PHrcDg4l4nghl96w6seyKph8ggThVgdkvSCO7NADjM9\n",
       "DOrYtdNTPcA9XFyCo1x0woBDnCsJgNwRMXE2IVkEeOppH48HbMOoxdB9CnSa8XgOYg3qEtf2Cq46\n",
       "RVF0VutGMEB12cJIfxkYsAvI5VIbi9fp8aYwPtlLvVQy4POAZ0yzODFexcNdOHAaEK2DWWSTxdk2\n",
       "DR/pwzi9QP6A2HGCt16vreRy6Ul+1d2ewaZ6wDMOsfxE2RHhCgZJ5MC04Bfn1eTjWCIb0Nmw255v\n",
       "GkWi3Fwubdn3oy7VA7Y9z5xpOSMxPg5mAabitCaSlmNn8bola9CRHQRq9JveIgWbuGcKJI7eHW74\n",
       "akDlS1rpDFYZoQBLoggaK706xorfiTH1LsduUrTNNziez5NVfHsOH4EBLPtRBlwO6/dSNaTxXK2O\n",
       "pVQeTCxyLHtNNB52OJkdrc3xYvgk0hcZF8bDCztmM1BB8fA13DMF2q2fBpc4HCysWGFjx9UiMzjK\n",
       "2++h/MbKvBgK7UVZ/+wXMXRvKzMrboQCCTWbeq7WMYWcCP4aLyvGWjiQULPwrlZJIfuDw6fwKtlY\n",
       "YutyOJCQPYTcFeCBWPJI1OvB4QnKdecTa4UDCWFde/9/+T0kHRIbiZ0ycNHPxMPplv7r3Sz4ZE08\n",
       "PKbUG4D/n8n9vgAoQcUAAAAASUVORK5CYII=\n",
       "\" style=\"display:inline;vertical-align:middle;\" /></a></span>"
      ],
      "text/plain": [
       "{d in {a, b, c, d, e}, d not-in {a, b, c}} |- d in ({a, b, c, d, e} - {a, b, c})"
      ]
     },
     "metadata": {},
     "output_type": "display_data"
    }
   ],
   "source": [
    "# using explicit assumptions about set membership and set non-membership\n",
    "diff_mem_01.conclude(assumptions=[InSet(d, set_abcde), NotInSet(d, set_abc)])"
   ]
  },
  {
   "cell_type": "code",
   "execution_count": 18,
   "metadata": {},
   "outputs": [
    {
     "data": {
      "text/html": [
       "<span style=\"font-size:20px;\"><a class=\"ProveItLink\" href=\"../__pv_it/demonstrations/31febd52234b043aa6524a8d3a32fcca3e2bead20/expr.ipynb\"><img src=\"data:image/png;base64,iVBORw0KGgoAAAANSUhEUgAAADEAAAAUCAMAAAATIyWrAAAAPFBMVEX///8AAAAAAAAAAAAAAAAA\n",
       "AAAAAAAAAAAAAAAAAAAAAAAAAAAAAAAAAAAAAAAAAAAAAAAAAAAAAAAAAAAo1xBWAAAAE3RSTlMA\n",
       "Ms3vmVREEIndIqt2u2bn9enzePXnUgAAAAlwSFlzAAAOxAAADsQBlSsOGwAAALZJREFUKM+Vk9kS\n",
       "wyAIRRUX3NPW///XxiTTYpgwIw8+yIXLkVEpKSw+5zQYyy+r2K87dlW1VOA7m0Bn0SJEbpHECmAY\n",
       "/tki5VA0x4DEVKmcvcyeqn8MG4/YXuP8+RAVmjZkIFtcqgPW9nHGcKeYuajKjDVh9zIFUWEfNK2T\n",
       "dmP+9+ekuTioCo9HyqDc1BTmfU6qule7aNU0t7tvh6owl6BTLlqweFBRi6AWA3CxoC1bxFULJX6k\n",
       "Lzl9BivjC10/AAAAAElFTkSuQmCC\n",
       "\" style=\"display:inline;vertical-align:middle;\" /></a>, <a class=\"ProveItLink\" href=\"../__pv_it/demonstrations/cbb871ed1e68cd311943cffb45d90655c4ca25770/expr.ipynb\"><img src=\"data:image/png;base64,iVBORw0KGgoAAAANSUhEUgAAAC8AAAAUCAMAAAAqRJTwAAAAPFBMVEX///8AAAAAAAAAAAAAAAAA\n",
       "AAAAAAAAAAAAAAAAAAAAAAAAAAAAAAAAAAAAAAAAAAAAAAAAAAAAAAAAAAAo1xBWAAAAE3RSTlMA\n",
       "Ms3vmVREEIndIqt2u2bn9enzePXnUgAAAAlwSFlzAAAOxAAADsQBlSsOGwAAAM5JREFUKM+VkusO\n",
       "BBEMhalLUWYvff933TLZ3TFCoj9E9eQ7LZRahcVZRYOx42H5bbGY2BfZDfqiLwn0PM+Dt6YFL8QR\n",
       "nxY8GNr3NOElClmP7UPqMsqZmsYbKZS/nY0tHs+6fj2QAWURJZqjimCNd41nsii55jHcu+/nOXks\n",
       "KlOanV/iT56XIZHFQx18QdW+X+9zCrrevuU6Q90RKNdfx+31WH8nLcJ30aquX3d/DRJpaYdIOehE\n",
       "Wa/wogr2mP5jF9RWAG7Jj0183MMrPS99AMD5BlzD4w3dAAAAAElFTkSuQmCC\n",
       "\" style=\"display:inline;vertical-align:middle;\" /></a>, <a class=\"ProveItLink\" href=\"../__pv_it/demonstrations/e0983d269696d2d341411d64e235d13f5e86a7bc0/expr.ipynb\"><img src=\"data:image/png;base64,iVBORw0KGgoAAAANSUhEUgAAAC8AAAAUCAMAAAAqRJTwAAAAPFBMVEX///8AAAAAAAAAAAAAAAAA\n",
       "AAAAAAAAAAAAAAAAAAAAAAAAAAAAAAAAAAAAAAAAAAAAAAAAAAAAAAAAAAAo1xBWAAAAE3RSTlMA\n",
       "Ms3vmVREEIndIqt2u2bn9enzePXnUgAAAAlwSFlzAAAOxAAADsQBlSsOGwAAAMdJREFUKM+Vk+sS\n",
       "hCAIhb2LSuzF93/XxZptM0d25IdTevo4QColhYuzE22sGzc3gVX9sLXpuTzUIbcuAh7SiM+C3gz2\n",
       "wwyfC6Ae7ZsbHhCpFRQsH2w/+y7t8Xi29cyREwMdNyxaaiLzB5+AF4usrOdr576vx535bRtKrEHG\n",
       "2+/oYuUciuoF1Xy/3kcV5ao6nlpjilG+A5rb9CodLrkz/KVPTnV+/X0abvcD3M9YEHQuqCU8S4EI\n",
       "Z7+rB7UUJi7JaRGf1vBKuCYfp60Fh+4wLn8AAAAASUVORK5CYII=\n",
       "\" style=\"display:inline;vertical-align:middle;\" /></a> <a class=\"ProveItLink\" href=\"../__pv_it/demonstrations/ad9cbace71e3c497db828a7971f57570bf00df500/proof.ipynb\" style=\"text-decoration: none\">&nbsp;&#x22A2;&nbsp;&nbsp;</a><a class=\"ProveItLink\" href=\"../__pv_it/demonstrations/a317ab80cd44dfafd4d70afb1e9c805a43afb23e0/expr.ipynb\"><img src=\"data:image/png;base64,iVBORw0KGgoAAAANSUhEUgAAAPsAAAAVBAMAAAByEoVnAAAAMFBMVEX///8AAAAAAAAAAAAAAAAA\n",
       "AAAAAAAAAAAAAAAAAAAAAAAAAAAAAAAAAAAAAAAAAAAv3aB7AAAAD3RSTlMAMs3vmVREEIndIqt2\n",
       "u2aBbGR5AAAACXBIWXMAAA7EAAAOxAGVKw4bAAADPklEQVRIx5VWS2gTURS9aT5vOk2aoDtdGNC2\n",
       "iJss3ChWgjsXbbMTuzEo+AGhg7qrZVIVsRikgqLZBVSwRLAUCl1UmfqhRasEFEUUrNCl1FioFSnF\n",
       "+z4z8958UvJgwpl77ue9++69E4CgpeNDTkMLSx/0y5p4eFTFn2oY+xqfF2daCQ87P/tETTxEnhkA\n",
       "5wXenVfJeAmfdVkyciDAx7b98ttXL616IB/G5dfUJEByieN0QTW8gI+maMOeoDOsyS9jXtbjoS3v\n",
       "I3s4HjJUw36/8VpA9MR6K+HVMzJyWbF8V6lkGcj5jNVIgf63Cq+ekZFRQ8rsyXn70rI+Y4+roHRu\n",
       "FX7MT7bh5eszcyyzeo9NxUo2Xys/EZFm34rcaYs/OKiVdwkRKb8ywsI7HmDf4rRA5fcZTmpYf6eq\n",
       "KZbZNqcN6aYghilIHITvPD9mD/nH+/su9PHrcDg4l4nghl96w6seyKph8ggThVgdkvSCO7NADjM9\n",
       "DOrYtdNTPcA9XFyCo1x0woBDnCsJgNwRMXE2IVkEeOppH48HbMOoxdB9CnSa8XgOYg3qEtf2Cq46\n",
       "RVF0VutGMEB12cJIfxkYsAvI5VIbi9fp8aYwPtlLvVQy4POAZ0yzODFexcNdOHAaEK2DWWSTxdk2\n",
       "DR/pwzi9QP6A2HGCt16vreRy6Ul+1d2ewaZ6wDMOsfxE2RHhCgZJ5MC04Bfn1eTjWCIb0Nmw255v\n",
       "GkWi3Fwubdn3oy7VA7Y9z5xpOSMxPg5mAabitCaSlmNn8bola9CRHQRq9JveIgWbuGcKJI7eHW74\n",
       "akDlS1rpDFYZoQBLoggaK706xorfiTH1LsduUrTNNziez5NVfHsOH4EBLPtRBlwO6/dSNaTxXK2O\n",
       "pVQeTCxyLHtNNB52OJkdrc3xYvgk0hcZF8bDCztmM1BB8fA13DMF2q2fBpc4HCysWGFjx9UiMzjK\n",
       "2++h/MbKvBgK7UVZ/+wXMXRvKzMrboQCCTWbeq7WMYWcCP4aLyvGWjiQULPwrlZJIfuDw6fwKtlY\n",
       "YutyOJCQPYTcFeCBWPJI1OvB4QnKdecTa4UDCWFde/9/+T0kHRIbiZ0ycNHPxMPplv7r3Sz4ZE08\n",
       "PKbUG4D/n8n9vgAoQcUAAAAASUVORK5CYII=\n",
       "\" style=\"display:inline;vertical-align:middle;\" /></a></span>"
      ],
      "text/plain": [
       "{d != a, d != b, d != c} |- d in ({a, b, c, d, e} - {a, b, c})"
      ]
     },
     "metadata": {},
     "output_type": "display_data"
    }
   ],
   "source": [
    "# using less explicit assumptions about set membership/nonmembership\n",
    "diff_mem_01.conclude(assumptions=[NotEquals(d, a), NotEquals(d, b), NotEquals(d, c)])"
   ]
  },
  {
   "cell_type": "code",
   "execution_count": 19,
   "metadata": {},
   "outputs": [
    {
     "data": {
      "text/html": [
       "<a class=\"ProveItLink\" href=\"../__pv_it/demonstrations/2df236663a8b5f5c3c7c599dc1e17967952a9def0/expr.ipynb\"><img src=\"data:image/png;base64,iVBORw0KGgoAAAANSUhEUgAAAP4AAAAVBAMAAACUO04jAAAAMFBMVEX///8AAAAAAAAAAAAAAAAA\n",
       "AAAAAAAAAAAAAAAAAAAAAAAAAAAAAAAAAAAAAAAAAAAv3aB7AAAAD3RSTlMAIpnNuzKJRKvvEN12\n",
       "ZlQ4bmvwAAAACXBIWXMAAA7EAAAOxAGVKw4bAAADbElEQVRIx5WWTWgTQRTH3ybNNt2kZS1FFKst\n",
       "aZCiCAGFFsEaD2KpB0tBUVQMCFL10ICgVi/VqkS0H0cVSoIVrCA0CMVqDg0oQgtqUA9eCvEiqAcr\n",
       "VcT6Ed+8ndnd2d1oM7C7j9n/vN+8mTdvF8CjKXhpZ6CSprzz6LybLKtfp3OOV3uB15Nzy2Z3g6bD\n",
       "/i5Xf7gtU3ZM4BK+q87jHCJbuh3v6hJ4LTHRYxGdKVKORc2gevgzvTmHzjpdjM8Mf1DMob5lp91F\n",
       "1QCazwEaQP3uGDeOl5oFmGhZ4j2W6DbU/RG6af589PME3k+6+NijXdzO+Uoc+pI2FwwA/gxcALjp\n",
       "GLeJ8yEs+JboZVFbFMsr+AOC5ubjAM4P6lAzanNBgNpmSGdgRKf+p7lcjIxRF98S9SdB8A+3V8Kv\n",
       "WYLgF5sLAsAtuAYwQnt7ak5sf8zFN0Xs9W9uJCriB7MQ/GZzYfC3sdsM7c9WMcyXcPGFiLXzBb78\n",
       "uuAPPbv8fz620ILNhcHvZVn+i1l+Xcj8DOCLyXxDhO1Qii/EWhD8LmjCzJp18Vsc/CN5m4swJcNr\n",
       "Ni1aP781zSLeVhdkviGixeP5nzD5eJgwmKaisySNOfjTdhcKufmAV5T6DuSwxSlTMJhVbSDzo5bf\n",
       "NHms1W18H2aWNsgmMM7c5KYYfjAp831xycVEB1sSdGREdsd8yfiBaEbi14rw9wLsoUAbQfCrYuDD\n",
       "zFLbHPH3dMn8t7KLo2x6/QDvQWFbH5LXn8qTxecigFKG88+mUj+uGPPFzF7g1U5qnRIfq+oKmwsq\n",
       "sPAJAgkIU6x5czPz9vzXKPuYiKwbbPE0Q4g2G6niFHBpj5fPf5rCPoA5ssgFqJR/b2BNJLKR1B1i\n",
       "mDog+Cpu6yQ7CCQia54d3kmjTn0FqoVKM8xmyp6/Pp2rHkQiWbLmbed/PcyUSkZBm9jFVyqQ5fzg\n",
       "1cUhCLFvEInIqo7gx4MsiJauA/vwQH3rhrLnP5VuL5AqVCqVYmSRC85/aJOf3s3r75SIn9pH+IdV\n",
       "l5GjdccvqyyLAErW69v8SuIn4B+WCsvhWyqbxQC+ghe/Shflif0HmXnpZd13VDupzbpVlkUFtsHz\n",
       "30SLi/LEzoD1O+Nh5a1BYy4/ZkXMe+jvsdB3eP8cNbKkGq7s/6+36O5rLZbVrxymTxj8BcTjExLK\n",
       "e3gTAAAAAElFTkSuQmCC\n",
       "\" style=\"display:inline;vertical-align:middle;\" /></a>"
      ],
      "text/plain": [
       "2 in ({1, 2, 3, 4, 5} - {1, 2, 3})"
      ]
     },
     "metadata": {},
     "output_type": "display_data"
    }
   ],
   "source": [
    "# Recall the False IntersectMembership object:\n",
    "diff_mem_02.expr"
   ]
  },
  {
   "cell_type": "code",
   "execution_count": 20,
   "metadata": {},
   "outputs": [
    {
     "name": "stdout",
     "output_type": "stream",
     "text": [
      "ProofFailure (InstantiationFailure): Proof step failed:\n",
      "Attempting to instantiate |- forall_{x, A, B | x in A, x not-in B} (x in (A - B)) with {x: 2, A: {1, 2, 3, 4, 5}, B: {1, 2, 3}}:\n",
      "Unsatisfied condition: 2 not-in {1, 2, 3}. For debugging purposes, this is accessible via Instantiation.unsatisfied_condition with applicable assumptions in Instantiation.condition_assumptions.\n"
     ]
    }
   ],
   "source": [
    "# We should not be able to conclude() such a False IntersectMembership object:\n",
    "try:\n",
    "    diff_mem_02.conclude()\n",
    "    assert False, \"Expecting a ProofFailure (InstantiationFailure); should not get this far!\"\n",
    "except InstantiationFailure as the_error:\n",
    "    print(\"ProofFailure (InstantiationFailure): {}\".format(the_error))"
   ]
  },
  {
   "cell_type": "code",
   "execution_count": 21,
   "metadata": {},
   "outputs": [
    {
     "data": {
      "text/html": [
       "<a class=\"ProveItLink\" href=\"../__pv_it/demonstrations/8d310dbf7c39f4aa7b2bba4e0407c934eb318fb90/expr.ipynb\"><img src=\"data:image/png;base64,iVBORw0KGgoAAAANSUhEUgAAAP4AAAAVBAMAAACUO04jAAAAMFBMVEX///8AAAAAAAAAAAAAAAAA\n",
       "AAAAAAAAAAAAAAAAAAAAAAAAAAAAAAAAAAAAAAAAAAAv3aB7AAAAD3RSTlMAiXZmMiLdVJm77xBE\n",
       "zatgdeJyAAAACXBIWXMAAA7EAAAOxAGVKw4bAAADfUlEQVRIx5WWX0jTURTHz+Z+c+6fs4foJR1I\n",
       "QUn5I+mhB2NFSPTifMi0h5oEKyhyvvSQhPYS88GSSF+yHARBKTqCoCJ0vURYwSBQIimhP1rQjP7g\n",
       "w1rr3HvP726/P3N64bcd7vne87m/e8899wdg0cL4PE3BRtqxsLnP86qMXrH22WP4LCTXi3YAPATH\n",
       "V7N+18s1BjG9N2jp68Gnj4VznKWejsEbZLVtGZUh+sW/OzeHuqpFY5jKLPttoXkp8bchsmoGUqSv\n",
       "t8J70vizGZ/pwSyNGII6sR2efuiLkc5JROdUFzJsEWMc1uNZ/kD8TrD9FdYjqFwlvc9qkV0q8cFO\n",
       "fH8Y3AmxNaswkybdduL7Jc3MB2gkxGeA+8JqjHly5K3oL9LviEZ5aDcY+e4s+P9wyzsB1cR3NG+I\n",
       "P5WEFZGjsynQ+DBekL9uIOOSie+PgP+3putTKbxvQ/wvACshLTN+ad43+GyqZ/3KO23cZROfbfIP\n",
       "MrynyNgm+XtqQ+X52Lo147mqeWsB2mOuIZYK8gCzOcGggd9KR8Wx+xPlpKrxq5IKZpY9YcqjtJ7v\n",
       "+EnGwUxI0zcDdIGbxfbJcadZ9DsG/nlpUf7bwFc4cSM4YtXIP67q+U6pZ/kv9BfBRYwjUWxsIWAC\n",
       "nd9Tej5fIpmMrO0t5l/DxZueZ+dzjoWJsg09sQB6/kBhapiMQt8Kbor8WDqRD4dv6vn7tTUMQRWf\n",
       "uBKU/FvIR+BWQ8F2DCR1/AptuocAxmKkn4UZ2linbv3hto5fGYCj3KjOEt+byaxMBnjfXcxsrdoV\n",
       "N1ERJb8HFJFi+STjC/0FqMZdYjOxy1p8XZf/HmYcAGgAFsi9yNZfhESbO3EW9zAfEqXzn9fyANiT\n",
       "XD/J11/o97GdtfFzOa+Nq5V8GxYdVu6UM/F4hBUtqFDx/HML12JI1MIOsI+XPn91YeD69nj8itA3\n",
       "FZ1/POs1TaLwTI/SSrVofP+33Edw4t3izOfzaYgy/4s43j/cco39CzIn3izLJes/ZKbeq1zfnc/n\n",
       "eDDwxtn9I/TnivTPRkT9dYa09+etV56apNnqNbyt+f3X1CsRi/uHXwoFfkCOALMVWBe/pN6lWl3A\n",
       "w/jslLexzMsHYLIKTqp2us+YRFl9p+X3BysFJ7Vb3i67g2ar4IQnplcpVMSS+mFLPtYWUK7GNvT9\n",
       "17Zk7utYKqO3h+E/fkMECbQ99QsAAAAASUVORK5CYII=\n",
       "\" style=\"display:inline;vertical-align:middle;\" /></a>"
      ],
      "text/plain": [
       "c in ({1, 2, 3, 4, 5} - {1, 2, 3})"
      ]
     },
     "metadata": {},
     "output_type": "display_data"
    }
   ],
   "source": [
    "# Recall this IntersectMembership object of unknown verity (where 'c' is an unassigned variable):\n",
    "diff_mem_03.expr"
   ]
  },
  {
   "cell_type": "code",
   "execution_count": 22,
   "metadata": {},
   "outputs": [
    {
     "name": "stdout",
     "output_type": "stream",
     "text": [
      "ProofFailure (InstantiationFailure): Proof step failed:\n",
      "Attempting to instantiate |- forall_{x, A, B | x in A, x not-in B} (x in (A - B)) with {x: c, A: {1, 2, 3, 4, 5}, B: {1, 2, 3}}:\n",
      "Unsatisfied condition: c in {1, 2, 3, 4, 5}. For debugging purposes, this is accessible via Instantiation.unsatisfied_condition with applicable assumptions in Instantiation.condition_assumptions.\n"
     ]
    }
   ],
   "source": [
    "# We should not be able to conclude() such an DifferenceMembership object:\n",
    "try:\n",
    "    diff_mem_03.conclude()\n",
    "    assert False, \"Expecting a ProofFailure (InstantiationFailure); should not get this far!\"\n",
    "except InstantiationFailure as the_error:\n",
    "    print(\"ProofFailure (InstantiationFailure): {}\".format(the_error))"
   ]
  },
  {
   "cell_type": "code",
   "execution_count": 23,
   "metadata": {},
   "outputs": [
    {
     "data": {
      "text/html": [
       "<span style=\"font-size:20px;\"><a class=\"ProveItLink\" href=\"../__pv_it/demonstrations/571e8de982b54f3e33967257ad8dc83039497b7c0/expr.ipynb\"><img src=\"data:image/png;base64,iVBORw0KGgoAAAANSUhEUgAAAC8AAAAOBAMAAABN+VgMAAAAMFBMVEX///8AAAAAAAAAAAAAAAAA\n",
       "AAAAAAAAAAAAAAAAAAAAAAAAAAAAAAAAAAAAAAAAAAAv3aB7AAAAD3RSTlMAiXZmMiLdVJm77xBE\n",
       "q833A+o+AAAACXBIWXMAAA7EAAAOxAGVKw4bAAAAeklEQVQY02NgwAZYGhiwA7YLOCTUcEiw2OGQ\n",
       "YOQDSwgpO6BJqIIlwgo4JgCptjQQyAWJsxqAJRIZuBTQTGIASXD8xrDCFCzBNQFdnFUBLLEfag7C\n",
       "Dp67d++vFWDgN2BgOICuiQtkxwQGRnTnMvCDzBc01kYX55j/VwEAei0c7zYp7ZsAAAAASUVORK5C\n",
       "YII=\n",
       "\" style=\"display:inline;vertical-align:middle;\" /></a> <a class=\"ProveItLink\" href=\"../__pv_it/demonstrations/a89e63a5c03bc5ff0656f262fa0c070c36ee37c10/proof.ipynb\" style=\"text-decoration: none\">&nbsp;&#x22A2;&nbsp;&nbsp;</a><a class=\"ProveItLink\" href=\"../__pv_it/demonstrations/8d310dbf7c39f4aa7b2bba4e0407c934eb318fb90/expr.ipynb\"><img src=\"data:image/png;base64,iVBORw0KGgoAAAANSUhEUgAAAP4AAAAVBAMAAACUO04jAAAAMFBMVEX///8AAAAAAAAAAAAAAAAA\n",
       "AAAAAAAAAAAAAAAAAAAAAAAAAAAAAAAAAAAAAAAAAAAv3aB7AAAAD3RSTlMAiXZmMiLdVJm77xBE\n",
       "zatgdeJyAAAACXBIWXMAAA7EAAAOxAGVKw4bAAADfUlEQVRIx5WWX0jTURTHz+Z+c+6fs4foJR1I\n",
       "QUn5I+mhB2NFSPTifMi0h5oEKyhyvvSQhPYS88GSSF+yHARBKTqCoCJ0vURYwSBQIimhP1rQjP7g\n",
       "w1rr3HvP726/P3N64bcd7vne87m/e8899wdg0cL4PE3BRtqxsLnP86qMXrH22WP4LCTXi3YAPATH\n",
       "V7N+18s1BjG9N2jp68Gnj4VznKWejsEbZLVtGZUh+sW/OzeHuqpFY5jKLPttoXkp8bchsmoGUqSv\n",
       "t8J70vizGZ/pwSyNGII6sR2efuiLkc5JROdUFzJsEWMc1uNZ/kD8TrD9FdYjqFwlvc9qkV0q8cFO\n",
       "fH8Y3AmxNaswkybdduL7Jc3MB2gkxGeA+8JqjHly5K3oL9LviEZ5aDcY+e4s+P9wyzsB1cR3NG+I\n",
       "P5WEFZGjsynQ+DBekL9uIOOSie+PgP+3putTKbxvQ/wvACshLTN+ad43+GyqZ/3KO23cZROfbfIP\n",
       "MrynyNgm+XtqQ+X52Lo147mqeWsB2mOuIZYK8gCzOcGggd9KR8Wx+xPlpKrxq5IKZpY9YcqjtJ7v\n",
       "+EnGwUxI0zcDdIGbxfbJcadZ9DsG/nlpUf7bwFc4cSM4YtXIP67q+U6pZ/kv9BfBRYwjUWxsIWAC\n",
       "nd9Tej5fIpmMrO0t5l/DxZueZ+dzjoWJsg09sQB6/kBhapiMQt8Kbor8WDqRD4dv6vn7tTUMQRWf\n",
       "uBKU/FvIR+BWQ8F2DCR1/AptuocAxmKkn4UZ2linbv3hto5fGYCj3KjOEt+byaxMBnjfXcxsrdoV\n",
       "N1ERJb8HFJFi+STjC/0FqMZdYjOxy1p8XZf/HmYcAGgAFsi9yNZfhESbO3EW9zAfEqXzn9fyANiT\n",
       "XD/J11/o97GdtfFzOa+Nq5V8GxYdVu6UM/F4hBUtqFDx/HML12JI1MIOsI+XPn91YeD69nj8itA3\n",
       "FZ1/POs1TaLwTI/SSrVofP+33Edw4t3izOfzaYgy/4s43j/cco39CzIn3izLJes/ZKbeq1zfnc/n\n",
       "eDDwxtn9I/TnivTPRkT9dYa09+etV56apNnqNbyt+f3X1CsRi/uHXwoFfkCOALMVWBe/pN6lWl3A\n",
       "w/jslLexzMsHYLIKTqp2us+YRFl9p+X3BysFJ7Vb3i67g2ar4IQnplcpVMSS+mFLPtYWUK7GNvT9\n",
       "17Zk7utYKqO3h+E/fkMECbQ99QsAAAAASUVORK5CYII=\n",
       "\" style=\"display:inline;vertical-align:middle;\" /></a></span>"
      ],
      "text/plain": [
       "{c = 4} |- c in ({1, 2, 3, 4, 5} - {1, 2, 3})"
      ]
     },
     "metadata": {},
     "output_type": "display_data"
    }
   ],
   "source": [
    "# But if we supply some extra information about 'c', we can conclude:\n",
    "diff_mem_03.conclude(assumptions=[Equals(c, four)],\n",
    "                     simplify_with_known_evaluations=True)"
   ]
  },
  {
   "cell_type": "code",
   "execution_count": 24,
   "metadata": {},
   "outputs": [
    {
     "data": {
      "text/html": [
       "<a class=\"ProveItLink\" href=\"../__pv_it/demonstrations/aa7d54b7aa70cd36e803cd0edc302c085df61a790/expr.ipynb\"><img src=\"data:image/png;base64,iVBORw0KGgoAAAANSUhEUgAAAPsAAAAVBAMAAAByEoVnAAAAMFBMVEX///8AAAAAAAAAAAAAAAAA\n",
       "AAAAAAAAAAAAAAAAAAAAAAAAAAAAAAAAAAAAAAAAAAAv3aB7AAAAD3RSTlMAIquJdkTvuxBmmd1U\n",
       "zTKBpmoTAAAACXBIWXMAAA7EAAAOxAGVKw4bAAADJ0lEQVRIx5VWTWgTURD+4qbJNs0fVTxYwUIL\n",
       "IlgIWgUtlq0tWkVLwB8EESsIpXgJoiB6MISiIEh68NIetLdSRFrwIkYkvRU8mEulaA/Rg+eKCilU\n",
       "cd683df9eZvagQ2zM/PNN5k3bxJAJxF6zEvYhkQWg7YmGfZm6SMb5j1Hz/kr26HHt3sBU5MM6f1F\n",
       "4GKIM5mjp+G2PL6ly/FpxvV2O5Cl0QQX7wSik3r6p/QYCx7TZ11cpup66fN7OUMYjp0revq5IP2G\n",
       "Lu56cUv6MBw7pz3W05VKjZXRAH1LQ5emD1vRh+I4fcxd/rVh59BqAXpfL3QnoqUPxbEjRYcf6Rqw\n",
       "+Oqok0jkHML23l3SlOo+aZ+zMfTcvmpdI3Znzd6zxRD6TRx6z9RdOE5v0Pxdzsa5Qyl1DUVRSFAL\n",
       "Wm7goexPecX8IcHvMCujHBxwtZ6mgk/56UUGhUNHNVFw4aLigFtrMMeR4A6lFK5NFLybang0iZfS\n",
       "9LGIm9KXsxWBk5MSWUc0D+yr+uhFBoXDa8QsFy4iOpccRWJNpCT5XiHhAmOUrH2ZlHmBYnkF/GRl\n",
       "3pkWhUP819ARkbeH+M0vIktFtJkzKFyi4cOVVmkBrCFWQDnPm0WVLejTs8QzBvO3U3uLPOgxFeTg\n",
       "kOmUR73sWy4ig8LFCj7cCfpoGUXZwgvZVm/zaS2Zv9C65lx7WT6ZbFE4ZCznfLwiFpuDE+EeHC/V\n",
       "5ALKVfQkxdRFLYWz5NyaG9hRW4RI+1fMgVDWqWZWJM6U4wAq+Khu8hUuQ4OQNxUOBo9egbiSbxMc\n",
       "vqpwnTb4Dj7MzJh/6O0A7oMVGvt+ViSuXOP5fZINuXgKR2Nv1EW0zccXj2642d3fPsLhpbt2+9IL\n",
       "Nrg0+LW7jgqZS8epeqEYx54VWZG4tjcUOjhlha0dhcPhqWGOtvmYvi3vjr/wwF667z17LlkMVYCl\n",
       "LXa+N3zJ6+zQ/+RMe+iNcAXI/Qe9oYlm55yePp611xLLRLgCU82ruOJeURkmNNG8egp6erNgryUW\n",
       "K1xBdBMzHvj/teEP34wWF4K/pVbED82eg9v6r3eoGrA1ybBTuAaAfyB+72dFlD4nAAAAAElFTkSu\n",
       "QmCC\n",
       "\" style=\"display:inline;vertical-align:middle;\" /></a>"
      ],
      "text/plain": [
       "a in ({a, b, c, d, e} - {b, c, d})"
      ]
     },
     "metadata": {},
     "output_type": "display_data"
    }
   ],
   "source": [
    "# Consider a more general DifferenceMembership object\n",
    "Difference(Set(a, b, c, d, e), Set(b, c, d)).membership_object(a).expr"
   ]
  },
  {
   "cell_type": "code",
   "execution_count": 25,
   "metadata": {},
   "outputs": [
    {
     "name": "stdout",
     "output_type": "stream",
     "text": [
      "ProofFailure (InstantiationFailure): Proof step failed:\n",
      "Attempting to instantiate |- forall_{x, A, B | x in A, x not-in B} (x in (A - B)) with {x: a, A: {a, b, c, d, e}, B: {b, c, d}}:\n",
      "Unsatisfied condition: a not-in {b, c, d}. For debugging purposes, this is accessible via Instantiation.unsatisfied_condition with applicable assumptions in Instantiation.condition_assumptions.\n"
     ]
    }
   ],
   "source": [
    "# We should not be able to conclude() such an DifferenceMembership object,\n",
    "# without knowing the value of a:\n",
    "try:\n",
    "    Difference(Set(a, b, c, d, e), Set(b, c, d)).membership_object(a).conclude()\n",
    "    assert False, \"Expecting a ProofFailure (InstantiationFailure); should not get this far!\"\n",
    "except InstantiationFailure as the_error:\n",
    "    print(\"ProofFailure (InstantiationFailure): {}\".format(the_error))"
   ]
  },
  {
   "cell_type": "code",
   "execution_count": 26,
   "metadata": {},
   "outputs": [
    {
     "data": {
      "text/html": [
       "<a class=\"ProveItLink\" href=\"../__pv_it/demonstrations/dd36e31d017eb71eb46419f24a3127c441bff5210/expr.ipynb\"><img src=\"data:image/png;base64,iVBORw0KGgoAAAANSUhEUgAAAOcAAAAVBAMAAABPgOQBAAAAMFBMVEX///8AAAAAAAAAAAAAAAAA\n",
       "AAAAAAAAAAAAAAAAAAAAAAAAAAAAAAAAAAAAAAAAAAAv3aB7AAAAD3RSTlMAiXZmMiLdVJm77xBE\n",
       "zatgdeJyAAAACXBIWXMAAA7EAAAOxAGVKw4bAAACqUlEQVRIx51WPYgTQRR+u9nd7E/ORAsRCwmI\n",
       "iCdKwObKlGIhahHUQiPKFlpcLKwsIhxIrjjZyubCETiwEMFtBb07rQQVUiliigX/QDhOBEkRj/PN\n",
       "7M7O7M5uVu/BJG/fvG++mTdv3gxAhujYnLeQJ/qdDOPzDSiSEHcup/cothNv8tFnlyWTOvILSUPc\n",
       "q+y+cg3bBBXtFptj72Mz1M4f6OPvioTp+qJ/LLGF49RGJukLbEobYG1pElkugfKHKs496HYA9ksY\n",
       "YuH+TGKLiPuUSboQkYLKBvkK8DiM4hjWh3mk3L/CVsMsIm5OxB1z3SFVBhLpUx+2aAJUnkD1H0jL\n",
       "9RSpiLOF3X93nCGGEuk3gK0m273GLkhF3AwJw77DZDw9DrVZk0hR5lnkrsOuSDlOCQBaHdMj/PH5\n",
       "oTMxh0lS7Vf0f/IL/s5KpEsFpAKuhENfA5u4zMR4A9MMLjeSpEYQhwm7r3bS5361OLwMVx6AGZnP\n",
       "uCge3WisLVdGKchirNlodDYJ2nlPMC5ujr65wf1N1735yHWD1AgxTvsJthfanvFeHEBb9BOQUrRQ\n",
       "rQnWGLdllFrp6eXpKxVxlQGsR/1GMrxWkCC9DTrd8+qEgrtSzVuZTiriym2o4uaR2KjMD6y6mL0O\n",
       "nWgNVJ9odkDDdPB/sjeNK3mAqavQI/iB4UlKh6TKb6CFBFq93n2qlRrTzinxT5KyEUQcOZJ7T4VV\n",
       "Ya0fxUxrR6R7fmx/BoOU7Pmdne1Qe93r555T6p8g5SMIOEO8BF8+jMrgDbZSKndB1nJWyu+puviV\n",
       "wrUyC/5cgrQGslZEWklcXyncQiaphYmqDqIPJ54018L6k5DZ/Ks7hdO9bC8062OWf/xxwB1WJYxU\n",
       "oyAPZ+W8Vy5gu/g9/61zSGbQH3SK30gUdwTgLxHEz8ZiyHGQAAAAAElFTkSuQmCC\n",
       "\" style=\"display:inline;vertical-align:middle;\" /></a>"
      ],
      "text/plain": [
       "c in ({1, 2, 3} - {1 + 1, 3})"
      ]
     },
     "metadata": {},
     "output_type": "display_data"
    }
   ],
   "source": [
    "# define a Difference with an unsimplified element (1+1)\n",
    "diff_mem_04 = Difference(Set(one, two, three), Set(Add(one, one), three)).membership_object(c)\n",
    "diff_mem_04.expr"
   ]
  },
  {
   "cell_type": "code",
   "execution_count": 27,
   "metadata": {},
   "outputs": [
    {
     "data": {
      "text/html": [
       "<span style=\"font-size:20px;\"><a class=\"ProveItLink\" href=\"../__pv_it/demonstrations/d4325283cd91a4ef1f313b825f749640890d52d50/expr.ipynb\"><img src=\"data:image/png;base64,iVBORw0KGgoAAAANSUhEUgAAAC4AAAAOBAMAAACiOzMyAAAAMFBMVEX///8AAAAAAAAAAAAAAAAA\n",
       "AAAAAAAAAAAAAAAAAAAAAAAAAAAAAAAAAAAAAAAAAAAv3aB7AAAAD3RSTlMAiXZmMiLdVJm77xBE\n",
       "q833A+o+AAAACXBIWXMAAA7EAAAOxAGVKw4bAAAAWklEQVQY02NgwAJYsrGJMuzt+41VnIGJLHEh\n",
       "ZQds4mEFHBOAVFsaCOQixBMZuBSwqOf4jd18rgnYxfdDDUE3n9+AgeEANvMnMDCiu5PxK5AQNNZG\n",
       "E+a99e8yALkKHUkTzEViAAAAAElFTkSuQmCC\n",
       "\" style=\"display:inline;vertical-align:middle;\" /></a> <a class=\"ProveItLink\" href=\"../__pv_it/demonstrations/2a55dd1afe628ed2145434517a2ec18b515fc60c0/proof.ipynb\" style=\"text-decoration: none\">&nbsp;&#x22A2;&nbsp;&nbsp;</a><a class=\"ProveItLink\" href=\"../__pv_it/demonstrations/dd36e31d017eb71eb46419f24a3127c441bff5210/expr.ipynb\"><img src=\"data:image/png;base64,iVBORw0KGgoAAAANSUhEUgAAAOcAAAAVBAMAAABPgOQBAAAAMFBMVEX///8AAAAAAAAAAAAAAAAA\n",
       "AAAAAAAAAAAAAAAAAAAAAAAAAAAAAAAAAAAAAAAAAAAv3aB7AAAAD3RSTlMAiXZmMiLdVJm77xBE\n",
       "zatgdeJyAAAACXBIWXMAAA7EAAAOxAGVKw4bAAACqUlEQVRIx51WPYgTQRR+u9nd7E/ORAsRCwmI\n",
       "iCdKwObKlGIhahHUQiPKFlpcLKwsIhxIrjjZyubCETiwEMFtBb07rQQVUiliigX/QDhOBEkRj/PN\n",
       "7M7O7M5uVu/BJG/fvG++mTdv3gxAhujYnLeQJ/qdDOPzDSiSEHcup/cothNv8tFnlyWTOvILSUPc\n",
       "q+y+cg3bBBXtFptj72Mz1M4f6OPvioTp+qJ/LLGF49RGJukLbEobYG1pElkugfKHKs496HYA9ksY\n",
       "YuH+TGKLiPuUSboQkYLKBvkK8DiM4hjWh3mk3L/CVsMsIm5OxB1z3SFVBhLpUx+2aAJUnkD1H0jL\n",
       "9RSpiLOF3X93nCGGEuk3gK0m273GLkhF3AwJw77DZDw9DrVZk0hR5lnkrsOuSDlOCQBaHdMj/PH5\n",
       "oTMxh0lS7Vf0f/IL/s5KpEsFpAKuhENfA5u4zMR4A9MMLjeSpEYQhwm7r3bS5361OLwMVx6AGZnP\n",
       "uCge3WisLVdGKchirNlodDYJ2nlPMC5ujr65wf1N1735yHWD1AgxTvsJthfanvFeHEBb9BOQUrRQ\n",
       "rQnWGLdllFrp6eXpKxVxlQGsR/1GMrxWkCC9DTrd8+qEgrtSzVuZTiriym2o4uaR2KjMD6y6mL0O\n",
       "nWgNVJ9odkDDdPB/sjeNK3mAqavQI/iB4UlKh6TKb6CFBFq93n2qlRrTzinxT5KyEUQcOZJ7T4VV\n",
       "Ya0fxUxrR6R7fmx/BoOU7Pmdne1Qe93r555T6p8g5SMIOEO8BF8+jMrgDbZSKndB1nJWyu+puviV\n",
       "wrUyC/5cgrQGslZEWklcXyncQiaphYmqDqIPJ54018L6k5DZ/Ks7hdO9bC8062OWf/xxwB1WJYxU\n",
       "oyAPZ+W8Vy5gu/g9/61zSGbQH3SK30gUdwTgLxHEz8ZiyHGQAAAAAElFTkSuQmCC\n",
       "\" style=\"display:inline;vertical-align:middle;\" /></a></span>"
      ],
      "text/plain": [
       "{c = 1} |- c in ({1, 2, 3} - {1 + 1, 3})"
      ]
     },
     "metadata": {},
     "output_type": "display_data"
    }
   ],
   "source": [
    "diff_mem_04.conclude(assumptions=[Equals(c, one)],\n",
    "                     simplify_with_known_evaluations=True)"
   ]
  },
  {
   "cell_type": "code",
   "execution_count": 28,
   "metadata": {},
   "outputs": [
    {
     "data": {
      "text/html": [
       "<a class=\"ProveItLink\" href=\"../__pv_it/demonstrations/487778cc14823ec1062bdd1227061893513e3f9d0/expr.ipynb\"><img src=\"data:image/png;base64,iVBORw0KGgoAAAANSUhEUgAAAGkAAAAVBAMAAAC3TN2zAAAAMFBMVEX///8AAAAAAAAAAAAAAAAA\n",
       "AAAAAAAAAAAAAAAAAAAAAAAAAAAAAAAAAAAAAAAAAAAv3aB7AAAAD3RSTlMAEHarMolUmd1mIs3v\n",
       "RLtmgJDEAAAACXBIWXMAAA7EAAAOxAGVKw4bAAABvUlEQVQ4y32SP0jDUBDGv9ekqWlNCSooCCr+\n",
       "Ax1ERUREpOLQwcXFQRBxF2o3KThEcAgIIi6uwUkQpDqIiIOjImh0cDUFlYIidS/ivddGmjTNQZKX\n",
       "7+539+7eA4IsjhCzGjkGsf54X9y784gdv586Vsr2cwNIWcTIBBLIe+UPbRSshMh+MNUJbAJD0TWv\n",
       "PGUtAzfAWTCVA6bBnC6fPOkkLBjAoUeNFM1dsaB8OmKpCR81fRDPc6pZrxG18+qfIvqZl7N+SkoN\n",
       "cCpBjbX0tS2JBk7cFLFF/i4kdT8FJ2kTFR0FspHxmMHFK9fLc9EcD1BHpdk2hap5qJb6I4lZ/s+5\n",
       "iZeumzun1LUM9azcQEas4pZvTdPc46tmmx901AajL7s0uaUEhTGJKLnEg3oExRw3J6eYcwpIlq8W\n",
       "WhntUCMSrxYTfRu1O5RSFNPt3yHkHsqtGOiyZxAVYq/rTVLxtEZzn/JSb/T0E6U62JjbwktldO4F\n",
       "4pMtJHScZrzUBT+VvDiZ9l4lVwlns08Vr2xAe7j+/iq/e6CFMtVhRDXZtbK2Wr1ROwi142D5MJzK\n",
       "BctJKwyKO8E6c8KohjmPwqhh4A+jMWbjVQ79BAAAAABJRU5ErkJggg==\n",
       "\" style=\"display:inline;vertical-align:middle;\" /></a>"
      ],
      "text/plain": [
       "x in (Integer - Natural)"
      ]
     },
     "metadata": {},
     "output_type": "display_data"
    }
   ],
   "source": [
    "# a DifferenceMembership object involving general sets\n",
    "diff_mem_05 = Difference(Integer, Natural).membership_object(x)\n",
    "diff_mem_05.expr"
   ]
  },
  {
   "cell_type": "code",
   "execution_count": 29,
   "metadata": {},
   "outputs": [
    {
     "data": {
      "text/html": [
       "<span style=\"font-size:20px;\"><a class=\"ProveItLink\" href=\"../__pv_it/demonstrations/e7ea3ade6561bbbb858c02aa3be91f7305b5ebb50/expr.ipynb\"><img src=\"data:image/png;base64,iVBORw0KGgoAAAANSUhEUgAAADMAAAAQBAMAAABJt1qBAAAAMFBMVEX///8AAAAAAAAAAAAAAAAA\n",
       "AAAAAAAAAAAAAAAAAAAAAAAAAAAAAAAAAAAAAAAAAAAv3aB7AAAAD3RSTlMAEHarMolUmd1mIs3v\n",
       "RLtmgJDEAAAACXBIWXMAAA7EAAAOxAGVKw4bAAAA3UlEQVQY02NgwATZ50+/6DvJgA3omTBwM2zA\n",
       "KlXOwKDJmoBVyoqB8YEcqhDTi45uEC3AwO5ggiLDu0kAxnRmKQBRQsoioWCDV8NlGB7ygdkFTEbs\n",
       "DSDGLrgMW8AkEMW5gPMj8wQQC+FcqNNZGNghYiwnOjo6+sBMNdYLDIwgBo8CmM/4AKaJ8cE6Bgbm\n",
       "BUDW/QWMYEsbYFLMDlYMDPIMDHIXbBhYwSJKMCl3XqDTLRgY8h1rGK5BLIeFzUNuAYZ1eQwM4kps\n",
       "lRAxRruLEK+f2/PuzZ+nqMERBwkoKAAA5a8vMuYfrScAAAAASUVORK5CYII=\n",
       "\" style=\"display:inline;vertical-align:middle;\" /></a>, <a class=\"ProveItLink\" href=\"../__pv_it/demonstrations/708b831dbae9f1c71ee46eb55ae372e06f5017b20/expr.ipynb\"><img src=\"data:image/png;base64,iVBORw0KGgoAAAANSUhEUgAAADQAAAAVCAMAAAA+Vj1KAAAARVBMVEX///8AAAAAAAAAAAAAAAAA\n",
       "AAAAAAAAAAAAAAAAAAAAAAAAAAAAAAAAAAAAAAAAAAAAAAAAAAAAAAAAAAAAAAAAAAAAAAAeYafp\n",
       "AAAAFnRSTlMAEHarMolUmd1mIs3vRLvp8+P355HBTpz+0gAAAAlwSFlzAAAOxAAADsQBlSsOGwAA\n",
       "AQ1JREFUOMudk0mWxSAIRUHsG6p3/0stNPmJOvBUhZEaLzweBmATER5EwnOBvjL3nck1lx2j6V6z\n",
       "hdK3WPeF3JCSfAQT2irvIT+sybLIjcvpHIq9f3tPAxSDgpg2UElKmiY9Voptr8wLQqUItTH2crr7\n",
       "hAlmCEQglxNyooYUuKtulw4iZ4G0E++xXwuyDRWBwgXNQ7ogCBYsd/eacjdK0dlLfHx6zwsEJLkv\n",
       "y/MoBfvdu8UBQgJ8dVGqHCFO81mcPSDQqtkhectR0txDkrrFzRCf/ivdIFs1OoHKICfZeUjH0fm2\n",
       "WvvoJLF1YWwBib8m73Sq+XRlHt8U3z/yjnx6+Cf9IyI/+GWXIf0taP/5F1xKBvdntSrFAAAAAElF\n",
       "TkSuQmCC\n",
       "\" style=\"display:inline;vertical-align:middle;\" /></a> <a class=\"ProveItLink\" href=\"../__pv_it/demonstrations/148d92006a3cb24cd52396e12a89f2fb0264fdad0/proof.ipynb\" style=\"text-decoration: none\">&nbsp;&#x22A2;&nbsp;&nbsp;</a><a class=\"ProveItLink\" href=\"../__pv_it/demonstrations/487778cc14823ec1062bdd1227061893513e3f9d0/expr.ipynb\"><img src=\"data:image/png;base64,iVBORw0KGgoAAAANSUhEUgAAAGkAAAAVBAMAAAC3TN2zAAAAMFBMVEX///8AAAAAAAAAAAAAAAAA\n",
       "AAAAAAAAAAAAAAAAAAAAAAAAAAAAAAAAAAAAAAAAAAAv3aB7AAAAD3RSTlMAEHarMolUmd1mIs3v\n",
       "RLtmgJDEAAAACXBIWXMAAA7EAAAOxAGVKw4bAAABvUlEQVQ4y32SP0jDUBDGv9ekqWlNCSooCCr+\n",
       "Ax1ERUREpOLQwcXFQRBxF2o3KThEcAgIIi6uwUkQpDqIiIOjImh0cDUFlYIidS/ivddGmjTNQZKX\n",
       "7+539+7eA4IsjhCzGjkGsf54X9y784gdv586Vsr2cwNIWcTIBBLIe+UPbRSshMh+MNUJbAJD0TWv\n",
       "PGUtAzfAWTCVA6bBnC6fPOkkLBjAoUeNFM1dsaB8OmKpCR81fRDPc6pZrxG18+qfIvqZl7N+SkoN\n",
       "cCpBjbX0tS2JBk7cFLFF/i4kdT8FJ2kTFR0FspHxmMHFK9fLc9EcD1BHpdk2hap5qJb6I4lZ/s+5\n",
       "iZeumzun1LUM9azcQEas4pZvTdPc46tmmx901AajL7s0uaUEhTGJKLnEg3oExRw3J6eYcwpIlq8W\n",
       "WhntUCMSrxYTfRu1O5RSFNPt3yHkHsqtGOiyZxAVYq/rTVLxtEZzn/JSb/T0E6U62JjbwktldO4F\n",
       "4pMtJHScZrzUBT+VvDiZ9l4lVwlns08Vr2xAe7j+/iq/e6CFMtVhRDXZtbK2Wr1ROwi142D5MJzK\n",
       "BctJKwyKO8E6c8KohjmPwqhh4A+jMWbjVQ79BAAAAABJRU5ErkJggg==\n",
       "\" style=\"display:inline;vertical-align:middle;\" /></a></span>"
      ],
      "text/plain": [
       "{x in Integer, x not-in Natural} |- x in (Integer - Natural)"
      ]
     },
     "metadata": {},
     "output_type": "display_data"
    }
   ],
   "source": [
    "diff_mem_05.conclude(assumptions=[InSet(x, Integer), NotInSet(x, Natural)])"
   ]
  },
  {
   "cell_type": "markdown",
   "metadata": {},
   "source": [
    "###  `DifferenceMembership.conclude_as_folded()`\n",
    "\n",
    "Currently, DifferenceMembership.conclude() simply calls DifferenceMembership.conclude_as_folded(), so the examples that work for conclude() should all work for conclude_as_folded()."
   ]
  },
  {
   "cell_type": "code",
   "execution_count": 30,
   "metadata": {},
   "outputs": [
    {
     "data": {
      "text/html": [
       "<a class=\"ProveItLink\" href=\"../__pv_it/demonstrations/a317ab80cd44dfafd4d70afb1e9c805a43afb23e0/expr.ipynb\"><img src=\"data:image/png;base64,iVBORw0KGgoAAAANSUhEUgAAAPsAAAAVBAMAAAByEoVnAAAAMFBMVEX///8AAAAAAAAAAAAAAAAA\n",
       "AAAAAAAAAAAAAAAAAAAAAAAAAAAAAAAAAAAAAAAAAAAv3aB7AAAAD3RSTlMAMs3vmVREEIndIqt2\n",
       "u2aBbGR5AAAACXBIWXMAAA7EAAAOxAGVKw4bAAADPklEQVRIx5VWS2gTURS9aT5vOk2aoDtdGNC2\n",
       "iJss3ChWgjsXbbMTuzEo+AGhg7qrZVIVsRikgqLZBVSwRLAUCl1UmfqhRasEFEUUrNCl1FioFSnF\n",
       "+z4z8958UvJgwpl77ue9++69E4CgpeNDTkMLSx/0y5p4eFTFn2oY+xqfF2daCQ87P/tETTxEnhkA\n",
       "5wXenVfJeAmfdVkyciDAx7b98ttXL616IB/G5dfUJEByieN0QTW8gI+maMOeoDOsyS9jXtbjoS3v\n",
       "I3s4HjJUw36/8VpA9MR6K+HVMzJyWbF8V6lkGcj5jNVIgf63Cq+ekZFRQ8rsyXn70rI+Y4+roHRu\n",
       "FX7MT7bh5eszcyyzeo9NxUo2Xys/EZFm34rcaYs/OKiVdwkRKb8ywsI7HmDf4rRA5fcZTmpYf6eq\n",
       "KZbZNqcN6aYghilIHITvPD9mD/nH+/su9PHrcDg4l4nghl96w6seyKph8ggThVgdkvSCO7NADjM9\n",
       "DOrYtdNTPcA9XFyCo1x0woBDnCsJgNwRMXE2IVkEeOppH48HbMOoxdB9CnSa8XgOYg3qEtf2Cq46\n",
       "RVF0VutGMEB12cJIfxkYsAvI5VIbi9fp8aYwPtlLvVQy4POAZ0yzODFexcNdOHAaEK2DWWSTxdk2\n",
       "DR/pwzi9QP6A2HGCt16vreRy6Ul+1d2ewaZ6wDMOsfxE2RHhCgZJ5MC04Bfn1eTjWCIb0Nmw255v\n",
       "GkWi3Fwubdn3oy7VA7Y9z5xpOSMxPg5mAabitCaSlmNn8bola9CRHQRq9JveIgWbuGcKJI7eHW74\n",
       "akDlS1rpDFYZoQBLoggaK706xorfiTH1LsduUrTNNziez5NVfHsOH4EBLPtRBlwO6/dSNaTxXK2O\n",
       "pVQeTCxyLHtNNB52OJkdrc3xYvgk0hcZF8bDCztmM1BB8fA13DMF2q2fBpc4HCysWGFjx9UiMzjK\n",
       "2++h/MbKvBgK7UVZ/+wXMXRvKzMrboQCCTWbeq7WMYWcCP4aLyvGWjiQULPwrlZJIfuDw6fwKtlY\n",
       "YutyOJCQPYTcFeCBWPJI1OvB4QnKdecTa4UDCWFde/9/+T0kHRIbiZ0ycNHPxMPplv7r3Sz4ZE08\n",
       "PKbUG4D/n8n9vgAoQcUAAAAASUVORK5CYII=\n",
       "\" style=\"display:inline;vertical-align:middle;\" /></a>"
      ],
      "text/plain": [
       "d in ({a, b, c, d, e} - {a, b, c})"
      ]
     },
     "metadata": {},
     "output_type": "display_data"
    }
   ],
   "source": [
    "diff_mem_01.expr"
   ]
  },
  {
   "cell_type": "code",
   "execution_count": 31,
   "metadata": {},
   "outputs": [
    {
     "data": {
      "text/html": [
       "<span style=\"font-size:20px;\"><a class=\"ProveItLink\" href=\"../__pv_it/demonstrations/3f876de628b73f4a5d605811b37b8a18f7b239a10/expr.ipynb\"><img src=\"data:image/png;base64,iVBORw0KGgoAAAANSUhEUgAAAI4AAAAVBAMAAABicsu7AAAAMFBMVEX///8AAAAAAAAAAAAAAAAA\n",
       "AAAAAAAAAAAAAAAAAAAAAAAAAAAAAAAAAAAAAAAAAAAv3aB7AAAAD3RSTlMAMs3vmVREEIndIqt2\n",
       "u2aBbGR5AAAACXBIWXMAAA7EAAAOxAGVKw4bAAACAUlEQVQ4y2NgwAbKEhhIAEsX4JDgUSsgxRzG\n",
       "vRDljMoOqBLxKMbUWmLRK2SCxOHdAKH5A1AVdaJyVbA54isSm2MChM4vwGvOVyzGsH3HYg5U39mZ\n",
       "MxWwmIOiBV0rCgfi8KTj2N2DogUGmBzQVXDtOAh2OJc6qr9W96yBatlzGhp+HGceQhire+ShQhVn\n",
       "3KHmJC/gBTucCZEKnEC+sWK4Dwm2enX2X2AG11QGX4hP4XJsExkkgOnEgIGB3Y6BBRwqTHBjuOyA\n",
       "RPEDBk94KrABMzgboAygnBNEbv0DhmNADUAPsXwAyQOB8EwguAAyZhMoNfszMMyAu+4HmOEPi1aE\n",
       "3P0zJ0CKq1UZmC8w1INzQS3cPSLXgYQtA/s3CHcGAxsk5m1hChByvyFUUwJD/QGG9xBXI8L/NtC7\n",
       "fxj4PsCSDws4AIFCEIAkBxFiBcrXBzBsYgUFMc8B5Phi/8rArRDFAPLJR1B4gBj/gOEKYiDJAb3H\n",
       "CowvYDjzHmCdwgLWrYoS73cYIh0c2D8BWfsYrjCAGcDIagQzEHKPGNi9IPHOvqdx9UGw7uprBUjm\n",
       "VJ+Q2iPAMBMoVN3ygAHM4Oh7UwARgcvx9L3BTKkZNzHyBWsBTgYSC2uKRzGHAzcDmYXDnMNwVg1u\n",
       "BhILkpAxwXp4eXQANwOJBYxPrIDLO4CUcnXFVgYGAC9GlP3SF1gvAAAAAElFTkSuQmCC\n",
       "\" style=\"display:inline;vertical-align:middle;\" /></a>, <a class=\"ProveItLink\" href=\"../__pv_it/demonstrations/5ed6ff1f275a688706bb98fe6a95af8aa7fbe06c0/expr.ipynb\"><img src=\"data:image/png;base64,iVBORw0KGgoAAAANSUhEUgAAAGYAAAAVCAMAAACDt2s/AAAAP1BMVEX///8AAAAAAAAAAAAAAAAA\n",
       "AAAAAAAAAAAAAAAAAAAAAAAAAAAAAAAAAAAAAAAAAAAAAAAAAAAAAAAAAAAAAADFBd4eAAAAFHRS\n",
       "TlMAMs3vmVREEIndIqt2u2bp8+P3nSoBZCQAAAAJcEhZcwAADsQAAA7EAZUrDhsAAAGgSURBVEjH\n",
       "lVZZsoQgDGSTEAi+jfuf9aG4BAR1+JgqQpOmoRNHiOHwzRysFZ8OP/kniIJqSsrCxzRChsh3SaVN\n",
       "C6imUxqSQNQ4Jop1njTVy6a+Iod3ws14rd5o29OieE/THnG8sZpRxK9vVG9pbIK3NEy3VQQiyPdq\n",
       "bpUeiz44kqduv1gM1B3aU/00gSg09+aIZsk3Wp29HU/darH6TA2NUX304rSUDwaJV4jHzGri+gC6\n",
       "gPTMsiw0naIRfkUdaLx6XfODoTsivtyTSUe81ItGxJ/f/BNPkqA2e7foU2hiMcPVQlCZSMdVtz2L\n",
       "bbnQ5qal2Yq5RR+klptaR/5KyxEhLdLmVBcMDor5it6rhgsoqOpKYQUFJY4mRySsGfiyQu95k9zf\n",
       "7IiUh1w1u2KBmJknNOLMrKa2aE5fMnQ2WFkKOWk0gkWKxxw3NARy0geS7M1+r824g0aELeZMOf4e\n",
       "Ec7NM8FD7c5/LmanPTabCZ4jNzQK3jUU9yIypvGxE9yKufrO0HOkKvyGv9fW/bXZX3N2WGBrH9cR\n",
       "+hpNmD7/L+DKpn/k6g6GrNrkbwAAAABJRU5ErkJggg==\n",
       "\" style=\"display:inline;vertical-align:middle;\" /></a> <a class=\"ProveItLink\" href=\"../__pv_it/demonstrations/371903694371cb10f51d15b88eeed0077c1cdece0/proof.ipynb\" style=\"text-decoration: none\">&nbsp;&#x22A2;&nbsp;&nbsp;</a><a class=\"ProveItLink\" href=\"../__pv_it/demonstrations/a317ab80cd44dfafd4d70afb1e9c805a43afb23e0/expr.ipynb\"><img src=\"data:image/png;base64,iVBORw0KGgoAAAANSUhEUgAAAPsAAAAVBAMAAAByEoVnAAAAMFBMVEX///8AAAAAAAAAAAAAAAAA\n",
       "AAAAAAAAAAAAAAAAAAAAAAAAAAAAAAAAAAAAAAAAAAAv3aB7AAAAD3RSTlMAMs3vmVREEIndIqt2\n",
       "u2aBbGR5AAAACXBIWXMAAA7EAAAOxAGVKw4bAAADPklEQVRIx5VWS2gTURS9aT5vOk2aoDtdGNC2\n",
       "iJss3ChWgjsXbbMTuzEo+AGhg7qrZVIVsRikgqLZBVSwRLAUCl1UmfqhRasEFEUUrNCl1FioFSnF\n",
       "+z4z8958UvJgwpl77ue9++69E4CgpeNDTkMLSx/0y5p4eFTFn2oY+xqfF2daCQ87P/tETTxEnhkA\n",
       "5wXenVfJeAmfdVkyciDAx7b98ttXL616IB/G5dfUJEByieN0QTW8gI+maMOeoDOsyS9jXtbjoS3v\n",
       "I3s4HjJUw36/8VpA9MR6K+HVMzJyWbF8V6lkGcj5jNVIgf63Cq+ekZFRQ8rsyXn70rI+Y4+roHRu\n",
       "FX7MT7bh5eszcyyzeo9NxUo2Xys/EZFm34rcaYs/OKiVdwkRKb8ywsI7HmDf4rRA5fcZTmpYf6eq\n",
       "KZbZNqcN6aYghilIHITvPD9mD/nH+/su9PHrcDg4l4nghl96w6seyKph8ggThVgdkvSCO7NADjM9\n",
       "DOrYtdNTPcA9XFyCo1x0woBDnCsJgNwRMXE2IVkEeOppH48HbMOoxdB9CnSa8XgOYg3qEtf2Cq46\n",
       "RVF0VutGMEB12cJIfxkYsAvI5VIbi9fp8aYwPtlLvVQy4POAZ0yzODFexcNdOHAaEK2DWWSTxdk2\n",
       "DR/pwzi9QP6A2HGCt16vreRy6Ul+1d2ewaZ6wDMOsfxE2RHhCgZJ5MC04Bfn1eTjWCIb0Nmw255v\n",
       "GkWi3Fwubdn3oy7VA7Y9z5xpOSMxPg5mAabitCaSlmNn8bola9CRHQRq9JveIgWbuGcKJI7eHW74\n",
       "akDlS1rpDFYZoQBLoggaK706xorfiTH1LsduUrTNNziez5NVfHsOH4EBLPtRBlwO6/dSNaTxXK2O\n",
       "pVQeTCxyLHtNNB52OJkdrc3xYvgk0hcZF8bDCztmM1BB8fA13DMF2q2fBpc4HCysWGFjx9UiMzjK\n",
       "2++h/MbKvBgK7UVZ/+wXMXRvKzMrboQCCTWbeq7WMYWcCP4aLyvGWjiQULPwrlZJIfuDw6fwKtlY\n",
       "YutyOJCQPYTcFeCBWPJI1OvB4QnKdecTa4UDCWFde/9/+T0kHRIbiZ0ycNHPxMPplv7r3Sz4ZE08\n",
       "PKbUG4D/n8n9vgAoQcUAAAAASUVORK5CYII=\n",
       "\" style=\"display:inline;vertical-align:middle;\" /></a></span>"
      ],
      "text/plain": [
       "{d in {a, b, c, d, e}, d not-in {a, b, c}} |- d in ({a, b, c, d, e} - {a, b, c})"
      ]
     },
     "metadata": {},
     "output_type": "display_data"
    }
   ],
   "source": [
    "# using explicit assumptions about set membership and set non-membership\n",
    "diff_mem_01.conclude_as_folded(assumptions=[InSet(d, set_abcde), NotInSet(d, set_abc)])"
   ]
  },
  {
   "cell_type": "code",
   "execution_count": 32,
   "metadata": {},
   "outputs": [
    {
     "data": {
      "text/html": [
       "<span style=\"font-size:20px;\"><a class=\"ProveItLink\" href=\"../__pv_it/demonstrations/31febd52234b043aa6524a8d3a32fcca3e2bead20/expr.ipynb\"><img src=\"data:image/png;base64,iVBORw0KGgoAAAANSUhEUgAAADEAAAAUCAMAAAATIyWrAAAAPFBMVEX///8AAAAAAAAAAAAAAAAA\n",
       "AAAAAAAAAAAAAAAAAAAAAAAAAAAAAAAAAAAAAAAAAAAAAAAAAAAAAAAAAAAo1xBWAAAAE3RSTlMA\n",
       "Ms3vmVREEIndIqt2u2bn9enzePXnUgAAAAlwSFlzAAAOxAAADsQBlSsOGwAAALZJREFUKM+Vk9kS\n",
       "wyAIRRUX3NPW///XxiTTYpgwIw8+yIXLkVEpKSw+5zQYyy+r2K87dlW1VOA7m0Bn0SJEbpHECmAY\n",
       "/tki5VA0x4DEVKmcvcyeqn8MG4/YXuP8+RAVmjZkIFtcqgPW9nHGcKeYuajKjDVh9zIFUWEfNK2T\n",
       "dmP+9+ekuTioCo9HyqDc1BTmfU6qule7aNU0t7tvh6owl6BTLlqweFBRi6AWA3CxoC1bxFULJX6k\n",
       "Lzl9BivjC10/AAAAAElFTkSuQmCC\n",
       "\" style=\"display:inline;vertical-align:middle;\" /></a>, <a class=\"ProveItLink\" href=\"../__pv_it/demonstrations/cbb871ed1e68cd311943cffb45d90655c4ca25770/expr.ipynb\"><img src=\"data:image/png;base64,iVBORw0KGgoAAAANSUhEUgAAAC8AAAAUCAMAAAAqRJTwAAAAPFBMVEX///8AAAAAAAAAAAAAAAAA\n",
       "AAAAAAAAAAAAAAAAAAAAAAAAAAAAAAAAAAAAAAAAAAAAAAAAAAAAAAAAAAAo1xBWAAAAE3RSTlMA\n",
       "Ms3vmVREEIndIqt2u2bn9enzePXnUgAAAAlwSFlzAAAOxAAADsQBlSsOGwAAAM5JREFUKM+VkusO\n",
       "BBEMhalLUWYvff933TLZ3TFCoj9E9eQ7LZRahcVZRYOx42H5bbGY2BfZDfqiLwn0PM+Dt6YFL8QR\n",
       "nxY8GNr3NOElClmP7UPqMsqZmsYbKZS/nY0tHs+6fj2QAWURJZqjimCNd41nsii55jHcu+/nOXks\n",
       "KlOanV/iT56XIZHFQx18QdW+X+9zCrrevuU6Q90RKNdfx+31WH8nLcJ30aquX3d/DRJpaYdIOehE\n",
       "Wa/wogr2mP5jF9RWAG7Jj0183MMrPS99AMD5BlzD4w3dAAAAAElFTkSuQmCC\n",
       "\" style=\"display:inline;vertical-align:middle;\" /></a>, <a class=\"ProveItLink\" href=\"../__pv_it/demonstrations/e0983d269696d2d341411d64e235d13f5e86a7bc0/expr.ipynb\"><img src=\"data:image/png;base64,iVBORw0KGgoAAAANSUhEUgAAAC8AAAAUCAMAAAAqRJTwAAAAPFBMVEX///8AAAAAAAAAAAAAAAAA\n",
       "AAAAAAAAAAAAAAAAAAAAAAAAAAAAAAAAAAAAAAAAAAAAAAAAAAAAAAAAAAAo1xBWAAAAE3RSTlMA\n",
       "Ms3vmVREEIndIqt2u2bn9enzePXnUgAAAAlwSFlzAAAOxAAADsQBlSsOGwAAAMdJREFUKM+Vk+sS\n",
       "hCAIhb2LSuzF93/XxZptM0d25IdTevo4QColhYuzE22sGzc3gVX9sLXpuTzUIbcuAh7SiM+C3gz2\n",
       "wwyfC6Ae7ZsbHhCpFRQsH2w/+y7t8Xi29cyREwMdNyxaaiLzB5+AF4usrOdr576vx535bRtKrEHG\n",
       "2+/oYuUciuoF1Xy/3kcV5ao6nlpjilG+A5rb9CodLrkz/KVPTnV+/X0abvcD3M9YEHQuqCU8S4EI\n",
       "Z7+rB7UUJi7JaRGf1vBKuCYfp60Fh+4wLn8AAAAASUVORK5CYII=\n",
       "\" style=\"display:inline;vertical-align:middle;\" /></a> <a class=\"ProveItLink\" href=\"../__pv_it/demonstrations/ad9cbace71e3c497db828a7971f57570bf00df500/proof.ipynb\" style=\"text-decoration: none\">&nbsp;&#x22A2;&nbsp;&nbsp;</a><a class=\"ProveItLink\" href=\"../__pv_it/demonstrations/a317ab80cd44dfafd4d70afb1e9c805a43afb23e0/expr.ipynb\"><img src=\"data:image/png;base64,iVBORw0KGgoAAAANSUhEUgAAAPsAAAAVBAMAAAByEoVnAAAAMFBMVEX///8AAAAAAAAAAAAAAAAA\n",
       "AAAAAAAAAAAAAAAAAAAAAAAAAAAAAAAAAAAAAAAAAAAv3aB7AAAAD3RSTlMAMs3vmVREEIndIqt2\n",
       "u2aBbGR5AAAACXBIWXMAAA7EAAAOxAGVKw4bAAADPklEQVRIx5VWS2gTURS9aT5vOk2aoDtdGNC2\n",
       "iJss3ChWgjsXbbMTuzEo+AGhg7qrZVIVsRikgqLZBVSwRLAUCl1UmfqhRasEFEUUrNCl1FioFSnF\n",
       "+z4z8958UvJgwpl77ue9++69E4CgpeNDTkMLSx/0y5p4eFTFn2oY+xqfF2daCQ87P/tETTxEnhkA\n",
       "5wXenVfJeAmfdVkyciDAx7b98ttXL616IB/G5dfUJEByieN0QTW8gI+maMOeoDOsyS9jXtbjoS3v\n",
       "I3s4HjJUw36/8VpA9MR6K+HVMzJyWbF8V6lkGcj5jNVIgf63Cq+ekZFRQ8rsyXn70rI+Y4+roHRu\n",
       "FX7MT7bh5eszcyyzeo9NxUo2Xys/EZFm34rcaYs/OKiVdwkRKb8ywsI7HmDf4rRA5fcZTmpYf6eq\n",
       "KZbZNqcN6aYghilIHITvPD9mD/nH+/su9PHrcDg4l4nghl96w6seyKph8ggThVgdkvSCO7NADjM9\n",
       "DOrYtdNTPcA9XFyCo1x0woBDnCsJgNwRMXE2IVkEeOppH48HbMOoxdB9CnSa8XgOYg3qEtf2Cq46\n",
       "RVF0VutGMEB12cJIfxkYsAvI5VIbi9fp8aYwPtlLvVQy4POAZ0yzODFexcNdOHAaEK2DWWSTxdk2\n",
       "DR/pwzi9QP6A2HGCt16vreRy6Ul+1d2ewaZ6wDMOsfxE2RHhCgZJ5MC04Bfn1eTjWCIb0Nmw255v\n",
       "GkWi3Fwubdn3oy7VA7Y9z5xpOSMxPg5mAabitCaSlmNn8bola9CRHQRq9JveIgWbuGcKJI7eHW74\n",
       "akDlS1rpDFYZoQBLoggaK706xorfiTH1LsduUrTNNziez5NVfHsOH4EBLPtRBlwO6/dSNaTxXK2O\n",
       "pVQeTCxyLHtNNB52OJkdrc3xYvgk0hcZF8bDCztmM1BB8fA13DMF2q2fBpc4HCysWGFjx9UiMzjK\n",
       "2++h/MbKvBgK7UVZ/+wXMXRvKzMrboQCCTWbeq7WMYWcCP4aLyvGWjiQULPwrlZJIfuDw6fwKtlY\n",
       "YutyOJCQPYTcFeCBWPJI1OvB4QnKdecTa4UDCWFde/9/+T0kHRIbiZ0ycNHPxMPplv7r3Sz4ZE08\n",
       "PKbUG4D/n8n9vgAoQcUAAAAASUVORK5CYII=\n",
       "\" style=\"display:inline;vertical-align:middle;\" /></a></span>"
      ],
      "text/plain": [
       "{d != a, d != b, d != c} |- d in ({a, b, c, d, e} - {a, b, c})"
      ]
     },
     "metadata": {},
     "output_type": "display_data"
    }
   ],
   "source": [
    "# using less explicit assumptions about set membership/nonmembership\n",
    "diff_mem_01.conclude_as_folded(assumptions=[NotEquals(d, a), NotEquals(d, b), NotEquals(d, c)])"
   ]
  },
  {
   "cell_type": "code",
   "execution_count": 33,
   "metadata": {},
   "outputs": [
    {
     "data": {
      "text/html": [
       "<a class=\"ProveItLink\" href=\"../__pv_it/demonstrations/2df236663a8b5f5c3c7c599dc1e17967952a9def0/expr.ipynb\"><img src=\"data:image/png;base64,iVBORw0KGgoAAAANSUhEUgAAAP4AAAAVBAMAAACUO04jAAAAMFBMVEX///8AAAAAAAAAAAAAAAAA\n",
       "AAAAAAAAAAAAAAAAAAAAAAAAAAAAAAAAAAAAAAAAAAAv3aB7AAAAD3RSTlMAIpnNuzKJRKvvEN12\n",
       "ZlQ4bmvwAAAACXBIWXMAAA7EAAAOxAGVKw4bAAADbElEQVRIx5WWTWgTQRTH3ybNNt2kZS1FFKst\n",
       "aZCiCAGFFsEaD2KpB0tBUVQMCFL10ICgVi/VqkS0H0cVSoIVrCA0CMVqDg0oQgtqUA9eCvEiqAcr\n",
       "VcT6Ed+8ndnd2d1oM7C7j9n/vN+8mTdvF8CjKXhpZ6CSprzz6LybLKtfp3OOV3uB15Nzy2Z3g6bD\n",
       "/i5Xf7gtU3ZM4BK+q87jHCJbuh3v6hJ4LTHRYxGdKVKORc2gevgzvTmHzjpdjM8Mf1DMob5lp91F\n",
       "1QCazwEaQP3uGDeOl5oFmGhZ4j2W6DbU/RG6af589PME3k+6+NijXdzO+Uoc+pI2FwwA/gxcALjp\n",
       "GLeJ8yEs+JboZVFbFMsr+AOC5ubjAM4P6lAzanNBgNpmSGdgRKf+p7lcjIxRF98S9SdB8A+3V8Kv\n",
       "WYLgF5sLAsAtuAYwQnt7ak5sf8zFN0Xs9W9uJCriB7MQ/GZzYfC3sdsM7c9WMcyXcPGFiLXzBb78\n",
       "uuAPPbv8fz620ILNhcHvZVn+i1l+Xcj8DOCLyXxDhO1Qii/EWhD8LmjCzJp18Vsc/CN5m4swJcNr\n",
       "Ni1aP781zSLeVhdkviGixeP5nzD5eJgwmKaisySNOfjTdhcKufmAV5T6DuSwxSlTMJhVbSDzo5bf\n",
       "NHms1W18H2aWNsgmMM7c5KYYfjAp831xycVEB1sSdGREdsd8yfiBaEbi14rw9wLsoUAbQfCrYuDD\n",
       "zFLbHPH3dMn8t7KLo2x6/QDvQWFbH5LXn8qTxecigFKG88+mUj+uGPPFzF7g1U5qnRIfq+oKmwsq\n",
       "sPAJAgkIU6x5czPz9vzXKPuYiKwbbPE0Q4g2G6niFHBpj5fPf5rCPoA5ssgFqJR/b2BNJLKR1B1i\n",
       "mDog+Cpu6yQ7CCQia54d3kmjTn0FqoVKM8xmyp6/Pp2rHkQiWbLmbed/PcyUSkZBm9jFVyqQ5fzg\n",
       "1cUhCLFvEInIqo7gx4MsiJauA/vwQH3rhrLnP5VuL5AqVCqVYmSRC85/aJOf3s3r75SIn9pH+IdV\n",
       "l5GjdccvqyyLAErW69v8SuIn4B+WCsvhWyqbxQC+ghe/Shflif0HmXnpZd13VDupzbpVlkUFtsHz\n",
       "30SLi/LEzoD1O+Nh5a1BYy4/ZkXMe+jvsdB3eP8cNbKkGq7s/6+36O5rLZbVrxymTxj8BcTjExLK\n",
       "e3gTAAAAAElFTkSuQmCC\n",
       "\" style=\"display:inline;vertical-align:middle;\" /></a>"
      ],
      "text/plain": [
       "2 in ({1, 2, 3, 4, 5} - {1, 2, 3})"
      ]
     },
     "metadata": {},
     "output_type": "display_data"
    }
   ],
   "source": [
    "# Recall the False IntersectMembership object:\n",
    "diff_mem_02.expr"
   ]
  },
  {
   "cell_type": "code",
   "execution_count": 34,
   "metadata": {},
   "outputs": [
    {
     "name": "stdout",
     "output_type": "stream",
     "text": [
      "ProofFailure (InstantiationFailure): Proof step failed:\n",
      "Attempting to instantiate |- forall_{x, A, B | x in A, x not-in B} (x in (A - B)) with {x: 2, A: {1, 2, 3, 4, 5}, B: {1, 2, 3}}:\n",
      "Unsatisfied condition: 2 not-in {1, 2, 3}. For debugging purposes, this is accessible via Instantiation.unsatisfied_condition with applicable assumptions in Instantiation.condition_assumptions.\n"
     ]
    }
   ],
   "source": [
    "# We should not be able to conclude() such a False IntersectMembership object:\n",
    "try:\n",
    "    diff_mem_02.conclude_as_folded()\n",
    "    assert False, \"Expecting a ProofFailure (InstantiationFailure); should not get this far!\"\n",
    "except InstantiationFailure as the_error:\n",
    "    print(\"ProofFailure (InstantiationFailure): {}\".format(the_error))"
   ]
  },
  {
   "cell_type": "code",
   "execution_count": 35,
   "metadata": {},
   "outputs": [
    {
     "data": {
      "text/html": [
       "<a class=\"ProveItLink\" href=\"../__pv_it/demonstrations/8d310dbf7c39f4aa7b2bba4e0407c934eb318fb90/expr.ipynb\"><img src=\"data:image/png;base64,iVBORw0KGgoAAAANSUhEUgAAAP4AAAAVBAMAAACUO04jAAAAMFBMVEX///8AAAAAAAAAAAAAAAAA\n",
       "AAAAAAAAAAAAAAAAAAAAAAAAAAAAAAAAAAAAAAAAAAAv3aB7AAAAD3RSTlMAiXZmMiLdVJm77xBE\n",
       "zatgdeJyAAAACXBIWXMAAA7EAAAOxAGVKw4bAAADfUlEQVRIx5WWX0jTURTHz+Z+c+6fs4foJR1I\n",
       "QUn5I+mhB2NFSPTifMi0h5oEKyhyvvSQhPYS88GSSF+yHARBKTqCoCJ0vURYwSBQIimhP1rQjP7g\n",
       "w1rr3HvP726/P3N64bcd7vne87m/e8899wdg0cL4PE3BRtqxsLnP86qMXrH22WP4LCTXi3YAPATH\n",
       "V7N+18s1BjG9N2jp68Gnj4VznKWejsEbZLVtGZUh+sW/OzeHuqpFY5jKLPttoXkp8bchsmoGUqSv\n",
       "t8J70vizGZ/pwSyNGII6sR2efuiLkc5JROdUFzJsEWMc1uNZ/kD8TrD9FdYjqFwlvc9qkV0q8cFO\n",
       "fH8Y3AmxNaswkybdduL7Jc3MB2gkxGeA+8JqjHly5K3oL9LviEZ5aDcY+e4s+P9wyzsB1cR3NG+I\n",
       "P5WEFZGjsynQ+DBekL9uIOOSie+PgP+3putTKbxvQ/wvACshLTN+ad43+GyqZ/3KO23cZROfbfIP\n",
       "MrynyNgm+XtqQ+X52Lo147mqeWsB2mOuIZYK8gCzOcGggd9KR8Wx+xPlpKrxq5IKZpY9YcqjtJ7v\n",
       "+EnGwUxI0zcDdIGbxfbJcadZ9DsG/nlpUf7bwFc4cSM4YtXIP67q+U6pZ/kv9BfBRYwjUWxsIWAC\n",
       "nd9Tej5fIpmMrO0t5l/DxZueZ+dzjoWJsg09sQB6/kBhapiMQt8Kbor8WDqRD4dv6vn7tTUMQRWf\n",
       "uBKU/FvIR+BWQ8F2DCR1/AptuocAxmKkn4UZ2linbv3hto5fGYCj3KjOEt+byaxMBnjfXcxsrdoV\n",
       "N1ERJb8HFJFi+STjC/0FqMZdYjOxy1p8XZf/HmYcAGgAFsi9yNZfhESbO3EW9zAfEqXzn9fyANiT\n",
       "XD/J11/o97GdtfFzOa+Nq5V8GxYdVu6UM/F4hBUtqFDx/HML12JI1MIOsI+XPn91YeD69nj8itA3\n",
       "FZ1/POs1TaLwTI/SSrVofP+33Edw4t3izOfzaYgy/4s43j/cco39CzIn3izLJes/ZKbeq1zfnc/n\n",
       "eDDwxtn9I/TnivTPRkT9dYa09+etV56apNnqNbyt+f3X1CsRi/uHXwoFfkCOALMVWBe/pN6lWl3A\n",
       "w/jslLexzMsHYLIKTqp2us+YRFl9p+X3BysFJ7Vb3i67g2ar4IQnplcpVMSS+mFLPtYWUK7GNvT9\n",
       "17Zk7utYKqO3h+E/fkMECbQ99QsAAAAASUVORK5CYII=\n",
       "\" style=\"display:inline;vertical-align:middle;\" /></a>"
      ],
      "text/plain": [
       "c in ({1, 2, 3, 4, 5} - {1, 2, 3})"
      ]
     },
     "metadata": {},
     "output_type": "display_data"
    }
   ],
   "source": [
    "# Recall this IntersectMembership object of unknown verity (where 'c' is an unassigned variable):\n",
    "diff_mem_03.expr"
   ]
  },
  {
   "cell_type": "code",
   "execution_count": 36,
   "metadata": {},
   "outputs": [
    {
     "name": "stdout",
     "output_type": "stream",
     "text": [
      "ProofFailure (InstantiationFailure): Proof step failed:\n",
      "Attempting to instantiate |- forall_{x, A, B | x in A, x not-in B} (x in (A - B)) with {x: c, A: {1, 2, 3, 4, 5}, B: {1, 2, 3}}:\n",
      "Unsatisfied condition: c in {1, 2, 3, 4, 5}. For debugging purposes, this is accessible via Instantiation.unsatisfied_condition with applicable assumptions in Instantiation.condition_assumptions.\n"
     ]
    }
   ],
   "source": [
    "# We should not be able to conclude() such an IntersectMembership object:\n",
    "try:\n",
    "    diff_mem_03.conclude_as_folded()\n",
    "    assert False, \"Expecting a ProofFailure (InstantiationFailure); should not get this far!\"\n",
    "except InstantiationFailure as the_error:\n",
    "    print(\"ProofFailure (InstantiationFailure): {}\".format(the_error))"
   ]
  },
  {
   "cell_type": "code",
   "execution_count": 37,
   "metadata": {},
   "outputs": [
    {
     "data": {
      "text/html": [
       "<span style=\"font-size:20px;\"><a class=\"ProveItLink\" href=\"../__pv_it/demonstrations/571e8de982b54f3e33967257ad8dc83039497b7c0/expr.ipynb\"><img src=\"data:image/png;base64,iVBORw0KGgoAAAANSUhEUgAAAC8AAAAOBAMAAABN+VgMAAAAMFBMVEX///8AAAAAAAAAAAAAAAAA\n",
       "AAAAAAAAAAAAAAAAAAAAAAAAAAAAAAAAAAAAAAAAAAAv3aB7AAAAD3RSTlMAiXZmMiLdVJm77xBE\n",
       "q833A+o+AAAACXBIWXMAAA7EAAAOxAGVKw4bAAAAeklEQVQY02NgwAZYGhiwA7YLOCTUcEiw2OGQ\n",
       "YOQDSwgpO6BJqIIlwgo4JgCptjQQyAWJsxqAJRIZuBTQTGIASXD8xrDCFCzBNQFdnFUBLLEfag7C\n",
       "Dp67d++vFWDgN2BgOICuiQtkxwQGRnTnMvCDzBc01kYX55j/VwEAei0c7zYp7ZsAAAAASUVORK5C\n",
       "YII=\n",
       "\" style=\"display:inline;vertical-align:middle;\" /></a> <a class=\"ProveItLink\" href=\"../__pv_it/demonstrations/a89e63a5c03bc5ff0656f262fa0c070c36ee37c10/proof.ipynb\" style=\"text-decoration: none\">&nbsp;&#x22A2;&nbsp;&nbsp;</a><a class=\"ProveItLink\" href=\"../__pv_it/demonstrations/8d310dbf7c39f4aa7b2bba4e0407c934eb318fb90/expr.ipynb\"><img src=\"data:image/png;base64,iVBORw0KGgoAAAANSUhEUgAAAP4AAAAVBAMAAACUO04jAAAAMFBMVEX///8AAAAAAAAAAAAAAAAA\n",
       "AAAAAAAAAAAAAAAAAAAAAAAAAAAAAAAAAAAAAAAAAAAv3aB7AAAAD3RSTlMAiXZmMiLdVJm77xBE\n",
       "zatgdeJyAAAACXBIWXMAAA7EAAAOxAGVKw4bAAADfUlEQVRIx5WWX0jTURTHz+Z+c+6fs4foJR1I\n",
       "QUn5I+mhB2NFSPTifMi0h5oEKyhyvvSQhPYS88GSSF+yHARBKTqCoCJ0vURYwSBQIimhP1rQjP7g\n",
       "w1rr3HvP726/P3N64bcd7vne87m/e8899wdg0cL4PE3BRtqxsLnP86qMXrH22WP4LCTXi3YAPATH\n",
       "V7N+18s1BjG9N2jp68Gnj4VznKWejsEbZLVtGZUh+sW/OzeHuqpFY5jKLPttoXkp8bchsmoGUqSv\n",
       "t8J70vizGZ/pwSyNGII6sR2efuiLkc5JROdUFzJsEWMc1uNZ/kD8TrD9FdYjqFwlvc9qkV0q8cFO\n",
       "fH8Y3AmxNaswkybdduL7Jc3MB2gkxGeA+8JqjHly5K3oL9LviEZ5aDcY+e4s+P9wyzsB1cR3NG+I\n",
       "P5WEFZGjsynQ+DBekL9uIOOSie+PgP+3putTKbxvQ/wvACshLTN+ad43+GyqZ/3KO23cZROfbfIP\n",
       "MrynyNgm+XtqQ+X52Lo147mqeWsB2mOuIZYK8gCzOcGggd9KR8Wx+xPlpKrxq5IKZpY9YcqjtJ7v\n",
       "+EnGwUxI0zcDdIGbxfbJcadZ9DsG/nlpUf7bwFc4cSM4YtXIP67q+U6pZ/kv9BfBRYwjUWxsIWAC\n",
       "nd9Tej5fIpmMrO0t5l/DxZueZ+dzjoWJsg09sQB6/kBhapiMQt8Kbor8WDqRD4dv6vn7tTUMQRWf\n",
       "uBKU/FvIR+BWQ8F2DCR1/AptuocAxmKkn4UZ2linbv3hto5fGYCj3KjOEt+byaxMBnjfXcxsrdoV\n",
       "N1ERJb8HFJFi+STjC/0FqMZdYjOxy1p8XZf/HmYcAGgAFsi9yNZfhESbO3EW9zAfEqXzn9fyANiT\n",
       "XD/J11/o97GdtfFzOa+Nq5V8GxYdVu6UM/F4hBUtqFDx/HML12JI1MIOsI+XPn91YeD69nj8itA3\n",
       "FZ1/POs1TaLwTI/SSrVofP+33Edw4t3izOfzaYgy/4s43j/cco39CzIn3izLJes/ZKbeq1zfnc/n\n",
       "eDDwxtn9I/TnivTPRkT9dYa09+etV56apNnqNbyt+f3X1CsRi/uHXwoFfkCOALMVWBe/pN6lWl3A\n",
       "w/jslLexzMsHYLIKTqp2us+YRFl9p+X3BysFJ7Vb3i67g2ar4IQnplcpVMSS+mFLPtYWUK7GNvT9\n",
       "17Zk7utYKqO3h+E/fkMECbQ99QsAAAAASUVORK5CYII=\n",
       "\" style=\"display:inline;vertical-align:middle;\" /></a></span>"
      ],
      "text/plain": [
       "{c = 4} |- c in ({1, 2, 3, 4, 5} - {1, 2, 3})"
      ]
     },
     "metadata": {},
     "output_type": "display_data"
    }
   ],
   "source": [
    "# But if we supply some extra information about 'c', we can conclude:\n",
    "diff_mem_03.conclude_as_folded(assumptions=[Equals(c, four)])"
   ]
  },
  {
   "cell_type": "code",
   "execution_count": 38,
   "metadata": {},
   "outputs": [
    {
     "data": {
      "text/html": [
       "<a class=\"ProveItLink\" href=\"../__pv_it/demonstrations/74ccb6a1ee2663a1cbe243e966223065edb8a8f40/expr.ipynb\"><img src=\"data:image/png;base64,iVBORw0KGgoAAAANSUhEUgAAAOcAAAAVBAMAAABPgOQBAAAAMFBMVEX///8AAAAAAAAAAAAAAAAA\n",
       "AAAAAAAAAAAAAAAAAAAAAAAAAAAAAAAAAAAAAAAAAAAv3aB7AAAAD3RSTlMAiXZmMiLdVJm77xBE\n",
       "zatgdeJyAAAACXBIWXMAAA7EAAAOxAGVKw4bAAAC8ElEQVRIx4WWT2gTQRTGv2yy2yTbJtFDEQ+2\n",
       "ICK2qAEvPUm9iHjQKBjUg0aURRDaKHjyUKFQ0kMlB/HSUgK9FaF7FbSt9iKokJMiFg34F6G2iNJD\n",
       "LHFmdnayk5lpBzZ5zHzf/nbezLxdQNNscrmvYWr2XU3n02Xs1AJfwTB6kFyHX5ndZ6aVLmvV3xEa\n",
       "+F7ox7py5GqSIHErfMbK++EgOrdnhvzOKp4xP6q6OPWwU3DS5z4rr4U+I1esBCxONXnPJcT+scC9\n",
       "j7Ey0Kt4eqMqu4o+Odvuj08+V+GDFjrOobBC6FdgPsjiJpbqJqhQZQpI14L+lVBwVECHor5Dnldn\n",
       "QU2BLvhYZxug+zGyRqhQpZvI/A3676jQdGT13wyGS1pXoN+A9eFw9fImqFBlSsj8MUJ76KLu3k+V\n",
       "tkh1MqdASRvl/93XYYJGVHA2jNBYAyiWk1XKF+eHPUmyLkMTv/n/kS/kd0CBTkkq4Gy/Dsp8cXLr\n",
       "a0hTQY/wO2R74nJehjoNcTjI8NVy57mf61CNQAdlvq4akvzGpz3SqmyhyW6/sgoZOikiskvgrlG3\n",
       "+5Z6PLI49tqyrGLJw4TnzXveSBvKfIkNpKuB7En7ruQGiUlfgsb5FBLDSG2SZVntmOmp6agKOA7t\n",
       "TJmvu4YlnnxHTm+qIUFvw2Zrnm0y6JhS82ajKlrTLuigzNdVQpYsHs2N1R8Op/qju9dlE8zB8mmU\n",
       "brD07tXuXqHCCWBQB2W+eJVmP8YO17twmG7pABojJ5wWIBQrlQkWxfPbnFOhsm9WKqUOaF8hPDL0\n",
       "SO46FjzU4gzPWaLEoZmfW5/h0KI/2mptBdHLyozxnAqV02q16jL018LH8GGdaFl+/oiXwRvhTFm7\n",
       "BzUyFgdJJc20rSpqC/6QBM1BjbaD5qT+FVU1roWmSPqtWvhSEhusHfH6E20DGhW0dcuuaodc0m1v\n",
       "hp8E7Y+DtmBO8YgaZW3DZL6U4XvlPH35fzd/6+wrq30Pyjt/IzHfAeA/Ee7T1VLEKEQAAAAASUVO\n",
       "RK5CYII=\n",
       "\" style=\"display:inline;vertical-align:middle;\" /></a>"
      ],
      "text/plain": [
       "c in ({1, 2, 3} - {2, 2 + 1})"
      ]
     },
     "metadata": {},
     "output_type": "display_data"
    }
   ],
   "source": [
    "# define a Difference with an unsimplified element (1+1)\n",
    "diff_mem_06 = Difference(Set(one, two, three), Set(two, Add(two, one))).membership_object(c)\n",
    "diff_mem_06.expr"
   ]
  },
  {
   "cell_type": "code",
   "execution_count": 39,
   "metadata": {},
   "outputs": [
    {
     "data": {
      "text/html": [
       "<span style=\"font-size:20px;\"><a class=\"ProveItLink\" href=\"../__pv_it/demonstrations/d4325283cd91a4ef1f313b825f749640890d52d50/expr.ipynb\"><img src=\"data:image/png;base64,iVBORw0KGgoAAAANSUhEUgAAAC4AAAAOBAMAAACiOzMyAAAAMFBMVEX///8AAAAAAAAAAAAAAAAA\n",
       "AAAAAAAAAAAAAAAAAAAAAAAAAAAAAAAAAAAAAAAAAAAv3aB7AAAAD3RSTlMAiXZmMiLdVJm77xBE\n",
       "q833A+o+AAAACXBIWXMAAA7EAAAOxAGVKw4bAAAAWklEQVQY02NgwAJYsrGJMuzt+41VnIGJLHEh\n",
       "ZQds4mEFHBOAVFsaCOQixBMZuBSwqOf4jd18rgnYxfdDDUE3n9+AgeEANvMnMDCiu5PxK5AQNNZG\n",
       "E+a99e8yALkKHUkTzEViAAAAAElFTkSuQmCC\n",
       "\" style=\"display:inline;vertical-align:middle;\" /></a> <a class=\"ProveItLink\" href=\"../__pv_it/demonstrations/595d86ebb33deeee76a027c14d55262f9afc2eb60/proof.ipynb\" style=\"text-decoration: none\">&nbsp;&#x22A2;&nbsp;&nbsp;</a><a class=\"ProveItLink\" href=\"../__pv_it/demonstrations/74ccb6a1ee2663a1cbe243e966223065edb8a8f40/expr.ipynb\"><img src=\"data:image/png;base64,iVBORw0KGgoAAAANSUhEUgAAAOcAAAAVBAMAAABPgOQBAAAAMFBMVEX///8AAAAAAAAAAAAAAAAA\n",
       "AAAAAAAAAAAAAAAAAAAAAAAAAAAAAAAAAAAAAAAAAAAv3aB7AAAAD3RSTlMAiXZmMiLdVJm77xBE\n",
       "zatgdeJyAAAACXBIWXMAAA7EAAAOxAGVKw4bAAAC8ElEQVRIx4WWT2gTQRTGv2yy2yTbJtFDEQ+2\n",
       "ICK2qAEvPUm9iHjQKBjUg0aURRDaKHjyUKFQ0kMlB/HSUgK9FaF7FbSt9iKokJMiFg34F6G2iNJD\n",
       "LHFmdnayk5lpBzZ5zHzf/nbezLxdQNNscrmvYWr2XU3n02Xs1AJfwTB6kFyHX5ndZ6aVLmvV3xEa\n",
       "+F7ox7py5GqSIHErfMbK++EgOrdnhvzOKp4xP6q6OPWwU3DS5z4rr4U+I1esBCxONXnPJcT+scC9\n",
       "j7Ey0Kt4eqMqu4o+Odvuj08+V+GDFjrOobBC6FdgPsjiJpbqJqhQZQpI14L+lVBwVECHor5Dnldn\n",
       "QU2BLvhYZxug+zGyRqhQpZvI/A3676jQdGT13wyGS1pXoN+A9eFw9fImqFBlSsj8MUJ76KLu3k+V\n",
       "tkh1MqdASRvl/93XYYJGVHA2jNBYAyiWk1XKF+eHPUmyLkMTv/n/kS/kd0CBTkkq4Gy/Dsp8cXLr\n",
       "a0hTQY/wO2R74nJehjoNcTjI8NVy57mf61CNQAdlvq4akvzGpz3SqmyhyW6/sgoZOikiskvgrlG3\n",
       "+5Z6PLI49tqyrGLJw4TnzXveSBvKfIkNpKuB7En7ruQGiUlfgsb5FBLDSG2SZVntmOmp6agKOA7t\n",
       "TJmvu4YlnnxHTm+qIUFvw2Zrnm0y6JhS82ajKlrTLuigzNdVQpYsHs2N1R8Op/qju9dlE8zB8mmU\n",
       "brD07tXuXqHCCWBQB2W+eJVmP8YO17twmG7pABojJ5wWIBQrlQkWxfPbnFOhsm9WKqUOaF8hPDL0\n",
       "SO46FjzU4gzPWaLEoZmfW5/h0KI/2mptBdHLyozxnAqV02q16jL018LH8GGdaFl+/oiXwRvhTFm7\n",
       "BzUyFgdJJc20rSpqC/6QBM1BjbaD5qT+FVU1roWmSPqtWvhSEhusHfH6E20DGhW0dcuuaodc0m1v\n",
       "hp8E7Y+DtmBO8YgaZW3DZL6U4XvlPH35fzd/6+wrq30Pyjt/IzHfAeA/Ee7T1VLEKEQAAAAASUVO\n",
       "RK5CYII=\n",
       "\" style=\"display:inline;vertical-align:middle;\" /></a></span>"
      ],
      "text/plain": [
       "{c = 1} |- c in ({1, 2, 3} - {2, 2 + 1})"
      ]
     },
     "metadata": {},
     "output_type": "display_data"
    }
   ],
   "source": [
    "diff_mem_06.conclude_as_folded(assumptions=[Equals(c, one)],\n",
    "                               simplify_with_known_evaluations=True)"
   ]
  },
  {
   "cell_type": "code",
   "execution_count": 40,
   "metadata": {},
   "outputs": [
    {
     "data": {
      "text/html": [
       "<a class=\"ProveItLink\" href=\"../__pv_it/demonstrations/f086e756a3ca723c11d5611fe88a20fe5b9aba360/expr.ipynb\"><img src=\"data:image/png;base64,iVBORw0KGgoAAAANSUhEUgAAAHsAAAAZBAMAAADj1UwdAAAAMFBMVEX///8AAAAAAAAAAAAAAAAA\n",
       "AAAAAAAAAAAAAAAAAAAAAAAAAAAAAAAAAAAAAAAAAAAv3aB7AAAAD3RSTlMAEHarMolUmd1mIs3v\n",
       "RLtmgJDEAAAACXBIWXMAAA7EAAAOxAGVKw4bAAABuElEQVQ4y2NgwArmMuAHBUDMjlOWrYCA9gdA\n",
       "zPUAl6w0AxHaGSbhkn3JwNj/biMD6/mzyKJIYmDtHALYdXMdYGDgS7jMwCCPKo4QA2tnMsCunT2A\n",
       "gYG5i3UCAw+qOFSM/d27c+9eAl3zEbt2/gtApXkMuxg40LTDxSChthNFlulFRzeY4Q/0FPNKhdUY\n",
       "2uFiEO11yJK8m2BBoQFSusCEKQBdO1wMol0HiIWURUITQJzV8IC0BivlY3iLoR0mBtF+H6ijgMmI\n",
       "vQHE2QVX9g6slKVAQgJdO0wMkqz8HRg4F3B+ZJ4A4myAK9sMVsowje0NunZUsfUXGFgY2CH6WE50\n",
       "dHT0gZntEKXMAjagxLKjAwQckMWgQB4YQww8CpA09QDddkYDDMejiq0HmXl/ASM40BrQtTM48WFo\n",
       "RxHzX8Agd8GGgRXMUYIL24ESKNBkJj+0RIsmBgz5fMcahmtgDncCTFgHxqtG1Y4uNoeBQVyJrRKi\n",
       "j9HuIsJUlv3nMDIuhlgxijRvHDTR8lxgIArsxJ3jiAC4chzLAaK0c+LI7wxmRGnnWEBuWceAt6xj\n",
       "I8bzuEtaguU8OICBaRUA489vQHi0ypsAAAAASUVORK5CYII=\n",
       "\" style=\"display:inline;vertical-align:middle;\" /></a>"
      ],
      "text/plain": [
       "x in (Natural - NaturalPos)"
      ]
     },
     "metadata": {},
     "output_type": "display_data"
    }
   ],
   "source": [
    "# a DifferenceMembership object involving general sets\n",
    "diff_mem_07 = Difference(Natural, NaturalPos).membership_object(x)\n",
    "diff_mem_07.expr"
   ]
  },
  {
   "cell_type": "code",
   "execution_count": 41,
   "metadata": {},
   "outputs": [
    {
     "data": {
      "text/html": [
       "<span style=\"font-size:20px;\"><a class=\"ProveItLink\" href=\"../__pv_it/demonstrations/b7153c0033e407b6f25af7375428bbdcf12a6b600/expr.ipynb\"><img src=\"data:image/png;base64,iVBORw0KGgoAAAANSUhEUgAAADQAAAAQBAMAAACra0H4AAAAMFBMVEX///8AAAAAAAAAAAAAAAAA\n",
       "AAAAAAAAAAAAAAAAAAAAAAAAAAAAAAAAAAAAAAAAAAAv3aB7AAAAD3RSTlMAEHarMolUmd1mIs3v\n",
       "RLtmgJDEAAAACXBIWXMAAA7EAAAOxAGVKw4bAAAA3klEQVQY02NgwACM/e82MrCeP8uABfAlXGZg\n",
       "kMcmw8DcxTqBgQe7VB7DLgYOFCG9jo4NYKmVCqtRpW4rwnQtMGEKAEkJKYuEJgBpro1wAxfwMbwF\n",
       "SRUwGbE3AGnuBQgplgIJCQYGzgWcH5kngKQQzljAMI3tDQMDCwM72G4Gnw4geACVYhawAbF4FMBS\n",
       "csi6GA0kQKz7CxgFgBQHshSDEx9Q8QUbBlaQAJMCPKAcgDw/BoZ8xxqGa2CRbTApbpBfqhkYxJXY\n",
       "KhPAIsJvBcA0y/5zQFIaJaCuvoAEFBQAAFKNLSS7ExREAAAAAElFTkSuQmCC\n",
       "\" style=\"display:inline;vertical-align:middle;\" /></a>, <a class=\"ProveItLink\" href=\"../__pv_it/demonstrations/37642c3534b1425f9d232b9cfb919513efbdd1590/expr.ipynb\"><img src=\"data:image/png;base64,iVBORw0KGgoAAAANSUhEUgAAAEAAAAAXCAMAAACMPLmjAAAARVBMVEX///8AAAAAAAAAAAAAAAAA\n",
       "AAAAAAAAAAAAAAAAAAAAAAAAAAAAAAAAAAAAAAAAAAAAAAAAAAAAAAAAAAAAAAAAAAAAAAAeYafp\n",
       "AAAAFnRSTlMAEHarMolUmd1mIs3vRLvp8+P355HBTpz+0gAAAAlwSFlzAAAOxAAADsQBlSsOGwAA\n",
       "AShJREFUOMulVNmSwyAMs7nBQPfk/z91Dc0kQDNd2vghAxhkISsAvB0WLkb+f0u4CkC4DdCVnNtM\n",
       "xxLTKoCSXTkDqU2xrDOw6RhLF0D7Ooo1kzli/fhnAK4bS8MFKfSrTxmI7NztgzqA4AUEWgRIJFgw\n",
       "qXoGoc6FPgNAISQqrc3evaY3EowA9UROJwDsKCEF2D3TrgpMeQJQlvuJbnai55QvCHIXlEYT7ADg\n",
       "DZgcH7pdwXq6KjqOzy/n8gQAkuvEM9ViTxfbuUOSDgAloDtTvXAacej/tO8OAEo8dA9Z2EZLHyZg\n",
       "Pmn6WfPWU6FmAFMUWgZIHWUyownuS5v2NDOwXNBY318ZZf4eeqCoxK0y0tJj8fPLXnb0/mszmuD1\n",
       "CPniczeZ4PWQ61v/AMJ0CAER01qDAAAAAElFTkSuQmCC\n",
       "\" style=\"display:inline;vertical-align:middle;\" /></a> <a class=\"ProveItLink\" href=\"../__pv_it/demonstrations/e29f72cd4f93427b0c1229157fd82ed27bd08dbc0/proof.ipynb\" style=\"text-decoration: none\">&nbsp;&#x22A2;&nbsp;&nbsp;</a><a class=\"ProveItLink\" href=\"../__pv_it/demonstrations/f086e756a3ca723c11d5611fe88a20fe5b9aba360/expr.ipynb\"><img src=\"data:image/png;base64,iVBORw0KGgoAAAANSUhEUgAAAHsAAAAZBAMAAADj1UwdAAAAMFBMVEX///8AAAAAAAAAAAAAAAAA\n",
       "AAAAAAAAAAAAAAAAAAAAAAAAAAAAAAAAAAAAAAAAAAAv3aB7AAAAD3RSTlMAEHarMolUmd1mIs3v\n",
       "RLtmgJDEAAAACXBIWXMAAA7EAAAOxAGVKw4bAAABuElEQVQ4y2NgwArmMuAHBUDMjlOWrYCA9gdA\n",
       "zPUAl6w0AxHaGSbhkn3JwNj/biMD6/mzyKJIYmDtHALYdXMdYGDgS7jMwCCPKo4QA2tnMsCunT2A\n",
       "gYG5i3UCAw+qOFSM/d27c+9eAl3zEbt2/gtApXkMuxg40LTDxSChthNFlulFRzeY4Q/0FPNKhdUY\n",
       "2uFiEO11yJK8m2BBoQFSusCEKQBdO1wMol0HiIWURUITQJzV8IC0BivlY3iLoR0mBtF+H6ijgMmI\n",
       "vQHE2QVX9g6slKVAQgJdO0wMkqz8HRg4F3B+ZJ4A4myAK9sMVsowje0NunZUsfUXGFgY2CH6WE50\n",
       "dHT0gZntEKXMAjagxLKjAwQckMWgQB4YQww8CpA09QDddkYDDMejiq0HmXl/ASM40BrQtTM48WFo\n",
       "RxHzX8Agd8GGgRXMUYIL24ESKNBkJj+0RIsmBgz5fMcahmtgDncCTFgHxqtG1Y4uNoeBQVyJrRKi\n",
       "j9HuIsJUlv3nMDIuhlgxijRvHDTR8lxgIArsxJ3jiAC4chzLAaK0c+LI7wxmRGnnWEBuWceAt6xj\n",
       "I8bzuEtaguU8OICBaRUA489vQHi0ypsAAAAASUVORK5CYII=\n",
       "\" style=\"display:inline;vertical-align:middle;\" /></a></span>"
      ],
      "text/plain": [
       "{x in Natural, x not-in NaturalPos} |- x in (Natural - NaturalPos)"
      ]
     },
     "metadata": {},
     "output_type": "display_data"
    }
   ],
   "source": [
    "diff_mem_07.conclude_as_folded(assumptions=[InSet(x, Natural), NotInSet(x, NaturalPos)])"
   ]
  },
  {
   "cell_type": "markdown",
   "metadata": {},
   "source": [
    "###  `DifferenceMembership.definition()`\n",
    "\n",
    "Deduce and return something of the form $[x \\in (A - B)] = [(x \\in A) \\land (x \\notin B)$."
   ]
  },
  {
   "cell_type": "code",
   "execution_count": 42,
   "metadata": {},
   "outputs": [
    {
     "data": {
      "text/html": [
       "<a class=\"ProveItLink\" href=\"../__pv_it/demonstrations/a317ab80cd44dfafd4d70afb1e9c805a43afb23e0/expr.ipynb\"><img src=\"data:image/png;base64,iVBORw0KGgoAAAANSUhEUgAAAPsAAAAVBAMAAAByEoVnAAAAMFBMVEX///8AAAAAAAAAAAAAAAAA\n",
       "AAAAAAAAAAAAAAAAAAAAAAAAAAAAAAAAAAAAAAAAAAAv3aB7AAAAD3RSTlMAMs3vmVREEIndIqt2\n",
       "u2aBbGR5AAAACXBIWXMAAA7EAAAOxAGVKw4bAAADPklEQVRIx5VWS2gTURS9aT5vOk2aoDtdGNC2\n",
       "iJss3ChWgjsXbbMTuzEo+AGhg7qrZVIVsRikgqLZBVSwRLAUCl1UmfqhRasEFEUUrNCl1FioFSnF\n",
       "+z4z8958UvJgwpl77ue9++69E4CgpeNDTkMLSx/0y5p4eFTFn2oY+xqfF2daCQ87P/tETTxEnhkA\n",
       "5wXenVfJeAmfdVkyciDAx7b98ttXL616IB/G5dfUJEByieN0QTW8gI+maMOeoDOsyS9jXtbjoS3v\n",
       "I3s4HjJUw36/8VpA9MR6K+HVMzJyWbF8V6lkGcj5jNVIgf63Cq+ekZFRQ8rsyXn70rI+Y4+roHRu\n",
       "FX7MT7bh5eszcyyzeo9NxUo2Xys/EZFm34rcaYs/OKiVdwkRKb8ywsI7HmDf4rRA5fcZTmpYf6eq\n",
       "KZbZNqcN6aYghilIHITvPD9mD/nH+/su9PHrcDg4l4nghl96w6seyKph8ggThVgdkvSCO7NADjM9\n",
       "DOrYtdNTPcA9XFyCo1x0woBDnCsJgNwRMXE2IVkEeOppH48HbMOoxdB9CnSa8XgOYg3qEtf2Cq46\n",
       "RVF0VutGMEB12cJIfxkYsAvI5VIbi9fp8aYwPtlLvVQy4POAZ0yzODFexcNdOHAaEK2DWWSTxdk2\n",
       "DR/pwzi9QP6A2HGCt16vreRy6Ul+1d2ewaZ6wDMOsfxE2RHhCgZJ5MC04Bfn1eTjWCIb0Nmw255v\n",
       "GkWi3Fwubdn3oy7VA7Y9z5xpOSMxPg5mAabitCaSlmNn8bola9CRHQRq9JveIgWbuGcKJI7eHW74\n",
       "akDlS1rpDFYZoQBLoggaK706xorfiTH1LsduUrTNNziez5NVfHsOH4EBLPtRBlwO6/dSNaTxXK2O\n",
       "pVQeTCxyLHtNNB52OJkdrc3xYvgk0hcZF8bDCztmM1BB8fA13DMF2q2fBpc4HCysWGFjx9UiMzjK\n",
       "2++h/MbKvBgK7UVZ/+wXMXRvKzMrboQCCTWbeq7WMYWcCP4aLyvGWjiQULPwrlZJIfuDw6fwKtlY\n",
       "YutyOJCQPYTcFeCBWPJI1OvB4QnKdecTa4UDCWFde/9/+T0kHRIbiZ0ycNHPxMPplv7r3Sz4ZE08\n",
       "PKbUG4D/n8n9vgAoQcUAAAAASUVORK5CYII=\n",
       "\" style=\"display:inline;vertical-align:middle;\" /></a>"
      ],
      "text/plain": [
       "d in ({a, b, c, d, e} - {a, b, c})"
      ]
     },
     "metadata": {},
     "output_type": "display_data"
    }
   ],
   "source": [
    "diff_mem_01.expr"
   ]
  },
  {
   "cell_type": "code",
   "execution_count": 43,
   "metadata": {},
   "outputs": [
    {
     "data": {
      "text/html": [
       "<span style=\"font-size:20px;\"> <a class=\"ProveItLink\" href=\"../__pv_it/demonstrations/420cb218587d27453f2f04bfa88e76c5ca162d4c0/proof.ipynb\" style=\"text-decoration: none\">&nbsp;&#x22A2;&nbsp;&nbsp;</a><a class=\"ProveItLink\" href=\"../__pv_it/demonstrations/65dbd046a299b1a08367ef84957fcb2d2b25928f0/expr.ipynb\"><img src=\"data:image/png;base64,iVBORw0KGgoAAAANSUhEUgAAAmMAAAAVCAMAAAA98hm6AAAAP1BMVEX///8AAAAAAAAAAAAAAAAA\n",
       "AAAAAAAAAAAAAAAAAAAAAAAAAAAAAAAAAAAAAAAAAAAAAAAAAAAAAAAAAAAAAADFBd4eAAAAFHRS\n",
       "TlMAInZUiRDNmWbv3US7qzLp8+P3ndw5NuIAAAAJcEhZcwAADsQAAA7EAZUrDhsAAAUtSURBVGje\n",
       "vZrrlp0gDIUFARUvbae+/7MWj6IJBAwwHf9klZLwZQc5gNN17hEd//F99Tx3/+sRPZOoBgIEF4Fl\n",
       "J18i2M8IJQroOf9ZRR3j3FFlzw/j+0oz6/8mXbetCyd6HcQTfJbYspMvEexnhGKkkKc2+huoIxxv\n",
       "e/X0MdOQDeL79nsaQS+TZSKlh1vWd/cMRJ7hDi5HbDte8iWC1TKWCvWaQp56W5nUTGmxstrAPnt2\n",
       "st99VVYdM3AnfnI4xZA/2yfH8Dj6t9cw3lqffIlg9YzFQoUpqJ4uHR1umPnqs6RFyg7wBZj3rNh3\n",
       "3zzEzv0tSQ/XPMdyDI/jOGDLSb5EsHrGYqGCFLQ1dOnocLZAfZa0SNkpHVwu1j2AdWJBvOnOyaV1\n",
       "jmUZgOOksc08UyhCxBDp1cBYLhROQY7rTNHTZf71G2HXlzfGcbY3qWVwNjII9vTNQijuNiOz6rbO\n",
       "MS6gGbHN7GdMKEKQQaxXC2O5UDgF220LWTqyzOtWpR4Hx9nBbwXFquQGlkER71HuviDU4Sbwocas\n",
       "Uq7BeqqkHFEe4XCf9d31GnT5HCtlAMHVim3mp1IFIgQZCHJPV8rYIBRK4djhG0GUjiwz3qy1lDfG\n",
       "cdZPt3lyRAtYBk18nfK8KYOHitwc8O6w9Q7dhXVMA3yvCL9utg5zO8WQE2ODZCoZQPDRYHuEteBZ\n",
       "kyteOKoR7YxNQo1wohw0/RCXji7zKGnqFmmBsvackXoaYexj8Fgw62evmC7ky83GB98JYlsVtMTD\n",
       "uaD70Sbn6x+v+2EPUc4AgvcTtunHJ58SzHwDY5NQMIXzKsLqkD5R5mAJbihvjOPsdKIO+935opz8\n",
       "q/y8VVdfsRq/nYzc7gx20DZEu0TKb9mllMpH1qvp72M3WFi2exH3EBUMT/Btxzaz5Z+RDUel9Cpl\n",
       "bBMKpnDur6QM6eky//mC2G3ljXCcvQafls8yOIOrtrTM2+BvyiM3jzTDdWiKYlF+O9oSKfPyMeOG\n",
       "qGB4gs8Ttuw5Fo5K6VXK2CYUSOHaX2kb0tNlDq7Smsob4Th7LqJ6P6b8uCdvTPBvpb/OJdyu6xM4\n",
       "t89eaM9K+knmTTOGqGAAwXuLbXo/hn8r41FtM2OjUCAFP2mGHtMnymwTt/VN0gJlF3n2OzxX0z0f\n",
       "jGX8BWyRwcEDufng++Z/yO+W8+d9vltIv2tJPmVRjD3/CVHMgIKPC7aZGS2hjQWTspmxTSiQwn2Y\n",
       "NZieLvM8JE7DTdICZa8j5sHQ26GDR5Fo1/2cjv0RFbi588a1F3BDLkMHWs4jh9qeFsrvcxDRgyi9\n",
       "uyhkwMGjG4n0aPiWIxbM9K2MbUI9KTzHxGXrXqgddnA5Vl9eEsfZ7Zqyq1SbWOUGd29L8PF9syEE\n",
       "dLPXMUav6vpw4Vs6pcbxc0H59In9Onn0Kr+DLWVAwe2MbWb/Z5GNBYv1KmZsEupJYb0xNtm9ULum\n",
       "rwi7trwUzmHtlv5qoBb8beTuS06BXte00G219/ysEcEVo8U2e3mxBSK869XAWCzUSwpp6vFvhF1d\n",
       "3hjnY0f+x/+nLwmhqloSbZVzjDUiWNCp79wvyZcI1sBYKtRLCmlqw/wCViYtVnYp+KtO35e6htey\n",
       "poVuC24d6YeA4I14BxcLtrzkSwSrZSwW6jWFFDXlWFveGOeyeuFL5vtS1/CyqoVu0xNjYSEgWCM+\n",
       "wctmjU++RLBaxmKhXlNIUaueRV0obaiskAWaXX3FsBb8wXHhIxQveBUECC4FtuzkSwT7GaEYKSSo\n",
       "1++jjnE+9h+U8UTCVfSPPQAAAABJRU5ErkJggg==\n",
       "\" style=\"display:inline;vertical-align:middle;\" /></a></span>"
      ],
      "text/plain": [
       "|- (d in ({a, b, c, d, e} - {a, b, c})) = ((d in {a, b, c, d, e}) and (d not-in {a, b, c}))"
      ]
     },
     "metadata": {},
     "output_type": "display_data"
    }
   ],
   "source": [
    "diff_mem_01.definition()"
   ]
  },
  {
   "cell_type": "code",
   "execution_count": 44,
   "metadata": {},
   "outputs": [
    {
     "data": {
      "text/html": [
       "<a class=\"ProveItLink\" href=\"../__pv_it/demonstrations/2df236663a8b5f5c3c7c599dc1e17967952a9def0/expr.ipynb\"><img src=\"data:image/png;base64,iVBORw0KGgoAAAANSUhEUgAAAP4AAAAVBAMAAACUO04jAAAAMFBMVEX///8AAAAAAAAAAAAAAAAA\n",
       "AAAAAAAAAAAAAAAAAAAAAAAAAAAAAAAAAAAAAAAAAAAv3aB7AAAAD3RSTlMAIpnNuzKJRKvvEN12\n",
       "ZlQ4bmvwAAAACXBIWXMAAA7EAAAOxAGVKw4bAAADbElEQVRIx5WWTWgTQRTH3ybNNt2kZS1FFKst\n",
       "aZCiCAGFFsEaD2KpB0tBUVQMCFL10ICgVi/VqkS0H0cVSoIVrCA0CMVqDg0oQgtqUA9eCvEiqAcr\n",
       "VcT6Ed+8ndnd2d1oM7C7j9n/vN+8mTdvF8CjKXhpZ6CSprzz6LybLKtfp3OOV3uB15Nzy2Z3g6bD\n",
       "/i5Xf7gtU3ZM4BK+q87jHCJbuh3v6hJ4LTHRYxGdKVKORc2gevgzvTmHzjpdjM8Mf1DMob5lp91F\n",
       "1QCazwEaQP3uGDeOl5oFmGhZ4j2W6DbU/RG6af589PME3k+6+NijXdzO+Uoc+pI2FwwA/gxcALjp\n",
       "GLeJ8yEs+JboZVFbFMsr+AOC5ubjAM4P6lAzanNBgNpmSGdgRKf+p7lcjIxRF98S9SdB8A+3V8Kv\n",
       "WYLgF5sLAsAtuAYwQnt7ak5sf8zFN0Xs9W9uJCriB7MQ/GZzYfC3sdsM7c9WMcyXcPGFiLXzBb78\n",
       "uuAPPbv8fz620ILNhcHvZVn+i1l+Xcj8DOCLyXxDhO1Qii/EWhD8LmjCzJp18Vsc/CN5m4swJcNr\n",
       "Ni1aP781zSLeVhdkviGixeP5nzD5eJgwmKaisySNOfjTdhcKufmAV5T6DuSwxSlTMJhVbSDzo5bf\n",
       "NHms1W18H2aWNsgmMM7c5KYYfjAp831xycVEB1sSdGREdsd8yfiBaEbi14rw9wLsoUAbQfCrYuDD\n",
       "zFLbHPH3dMn8t7KLo2x6/QDvQWFbH5LXn8qTxecigFKG88+mUj+uGPPFzF7g1U5qnRIfq+oKmwsq\n",
       "sPAJAgkIU6x5czPz9vzXKPuYiKwbbPE0Q4g2G6niFHBpj5fPf5rCPoA5ssgFqJR/b2BNJLKR1B1i\n",
       "mDog+Cpu6yQ7CCQia54d3kmjTn0FqoVKM8xmyp6/Pp2rHkQiWbLmbed/PcyUSkZBm9jFVyqQ5fzg\n",
       "1cUhCLFvEInIqo7gx4MsiJauA/vwQH3rhrLnP5VuL5AqVCqVYmSRC85/aJOf3s3r75SIn9pH+IdV\n",
       "l5GjdccvqyyLAErW69v8SuIn4B+WCsvhWyqbxQC+ghe/Shflif0HmXnpZd13VDupzbpVlkUFtsHz\n",
       "30SLi/LEzoD1O+Nh5a1BYy4/ZkXMe+jvsdB3eP8cNbKkGq7s/6+36O5rLZbVrxymTxj8BcTjExLK\n",
       "e3gTAAAAAElFTkSuQmCC\n",
       "\" style=\"display:inline;vertical-align:middle;\" /></a>"
      ],
      "text/plain": [
       "2 in ({1, 2, 3, 4, 5} - {1, 2, 3})"
      ]
     },
     "metadata": {},
     "output_type": "display_data"
    }
   ],
   "source": [
    "diff_mem_02.expr"
   ]
  },
  {
   "cell_type": "code",
   "execution_count": 45,
   "metadata": {},
   "outputs": [
    {
     "data": {
      "text/html": [
       "<span style=\"font-size:20px;\"> <a class=\"ProveItLink\" href=\"../__pv_it/demonstrations/80bb69ee4031b6410376a057695730b8f1acd68e0/proof.ipynb\" style=\"text-decoration: none\">&nbsp;&#x22A2;&nbsp;&nbsp;</a><a class=\"ProveItLink\" href=\"../__pv_it/demonstrations/8e26b1a11a4b09d467422111d5c5d324d5162db70/expr.ipynb\"><img src=\"data:image/png;base64,iVBORw0KGgoAAAANSUhEUgAAAmwAAAAVCAMAAADM+UI3AAAAP1BMVEX///8AAAAAAAAAAAAAAAAA\n",
       "AAAAAAAAAAAAAAAAAAAAAAAAAAAAAAAAAAAAAAAAAAAAAAAAAAAAAAAAAAAAAADFBd4eAAAAFHRS\n",
       "TlMAInZUiRDNmWbv3US7qzLp8+P3ndw5NuIAAAAJcEhZcwAADsQAAA7EAZUrDhsAAAV4SURBVGje\n",
       "vZpho60aEIajIqJz77n9/996S8Vg1Ki9+bBZbb098y6JaXXdVlhHL1ffcZ67XyuspyK9wwD6LKnJ\n",
       "BtSY1sosVsFP+edL7kCUk/GernP15WIef9y2xQW4cy3WkOTfYgT9mcc12YAa01qZRQjinluMP8Lt\n",
       "iTzQ1egHN/SkFGZ5Ujn6bvV6USw65UGU2DBIg9wki4w+qlUIfeoZSwjqA4bX51NcEw2oMa2dWY9B\n",
       "3HMvFufOwTEFzF4PdDRG4Tqa7c+wPsyaR9+9pz4+WynWFCNXGqVDz+8pHY8orVY9jNEV7ssHjKB/\n",
       "3c2CcBdfBtSY1tSsNIihR/iL3HJGuDFwTAG31wO5hnRDzrqHqlL3tsmpS6PjqX+IEt8JxlVkU3ri\n",
       "n0UipXyNbzDCqZOMa4oBNaY1NSsJYtQC4S9y6wJ3Bo4p4PZ6INdQ56S8q9kVrhC50VuBtIrgH6I0\n",
       "q/0WyPxbJvF7g+0JA+irMa5viopqmmltzYqD4JOdc36Mewf/808EfjPYMIWCvR5oa/THP637p13D\n",
       "Y3gWPDW/F5SbNVO6VgDpemLofnGwPWEAfTHF9c2KR0Q1ybTGZsVB6G4xOT9yVQduF/LMVuBG7PVA\n",
       "W0MOkG0NT2VkCRP63viXKZ3R6NQ+zjL/Jj5cAX8dbE8YQH+wcX3zFB1SI55Na2xWFMS+HRAM+wKT\n",
       "qzrwUXTUwVbgxuz1QFsD3gnLGrbOAsnHhL5S3GNAJfeZW5vuXTaxxL99v8zOVSdXhMH2AQPoTyKu\n",
       "d2ENir2dA59Ma2zWBEfMztPLDp32oqs68ImXuHHwlBu31wNtDd3j+x2BjeSrL1PTw5i3SAKgT54L\n",
       "mX+Hicc9wdbnRNYXDKDfq7gul8uAGtMamwWDODIZIGtR4j7Ak2kZcOPgCDdirwfaGiosICV4vC/q\n",
       "uq/BwbMvs2K+x4BKyaLSD3hW8E+eq87Rij7s2MFEc930HzGC/rLG9c3+YI5rgmmtzYJBHNMM5xl/\n",
       "elUH/u9fCB5xo+Aod26vB9oa4foTDGY0N14vMuT3MYwpsWVxQRt4tzLnQOyfEYd/x2gaxFP+6htG\n",
       "0J9VXNcMtmfTGpsFgjjXYKNGBlt8VQeepOQgNwaecpfs9UBbw8+sLrfMGJ5ySWfhkN9HMBKlbTvs\n",
       "+kT+zXYvq7JgyarOLU6avi6XDxhAv9dxXV6zZY9RgmmNzQJBXKNH9tkXmF5VY/DgJU4OnnGX7PVA\n",
       "W8Ock+ziAgkbd468ZjO8vMEKMEHJZ1isn2CTdI2Fpx5WqmN6GCgbhNcYkf5k4vpmcPO4ppjW2CwQ\n",
       "hPZbzZQ/5d7BZ1nmzsFz7pK9HmhrnDtTpuVewOgW+QI9bKvBzvZYNYSUd1Dyx6bpysAkmfHVwFOZ\n",
       "dNuY8U3qow4j1kcTGvj14iQJybTGZoUgwubSv8Qscm/gdrkZbCk4wl2y1wNtjUWfKRNXQHSjNek7\n",
       "/0WnHNaqVdhd/3onDJX8sXkDO17RarA3kmZdLQfHmJRWvng3Wo8R6es5rm9WiTqqSaY1NisEYcM0\n",
       "xLsH7g38bwbuVXNwjLtgrwfaG7r4q4V5MMmbF98XGQo9ssZCjhG71c5sH/SZjuvb3MeSGEEwralZ\n",
       "D0GUuaf/MnDsKyBChnNZ1KC8f/ZEssyBPYOG7m2314OtXj9+uU4zoMa0pmY9BFHmFiPpKyBChnM9\n",
       "0NEwFb85vfrm+f0RWRsjx4jdovR1ubzGAPrMxDXNgBrTGpr1GESJGzsReYlDhAxEXvdsjIbu29U3\n",
       "z+9jl+SkQ+ixUVF+y/gaA+jXDZ/LgBrTGpr1GESJe+gp3FTIQOSBrgbjFcbxa3lqK34XXVvYQFR/\n",
       "iQH0OYtrsgE1prUyixBEgdv+JHcg8kCu8T/9nU5VJ+mBswAAAABJRU5ErkJggg==\n",
       "\" style=\"display:inline;vertical-align:middle;\" /></a></span>"
      ],
      "text/plain": [
       "|- (2 in ({1, 2, 3, 4, 5} - {1, 2, 3})) = ((2 in {1, 2, 3, 4, 5}) and (2 not-in {1, 2, 3}))"
      ]
     },
     "metadata": {},
     "output_type": "display_data"
    }
   ],
   "source": [
    "diff_mem_02.definition()"
   ]
  },
  {
   "cell_type": "code",
   "execution_count": 46,
   "metadata": {},
   "outputs": [
    {
     "data": {
      "text/html": [
       "<a class=\"ProveItLink\" href=\"../__pv_it/demonstrations/8d310dbf7c39f4aa7b2bba4e0407c934eb318fb90/expr.ipynb\"><img src=\"data:image/png;base64,iVBORw0KGgoAAAANSUhEUgAAAP4AAAAVBAMAAACUO04jAAAAMFBMVEX///8AAAAAAAAAAAAAAAAA\n",
       "AAAAAAAAAAAAAAAAAAAAAAAAAAAAAAAAAAAAAAAAAAAv3aB7AAAAD3RSTlMAiXZmMiLdVJm77xBE\n",
       "zatgdeJyAAAACXBIWXMAAA7EAAAOxAGVKw4bAAADfUlEQVRIx5WWX0jTURTHz+Z+c+6fs4foJR1I\n",
       "QUn5I+mhB2NFSPTifMi0h5oEKyhyvvSQhPYS88GSSF+yHARBKTqCoCJ0vURYwSBQIimhP1rQjP7g\n",
       "w1rr3HvP726/P3N64bcd7vne87m/e8899wdg0cL4PE3BRtqxsLnP86qMXrH22WP4LCTXi3YAPATH\n",
       "V7N+18s1BjG9N2jp68Gnj4VznKWejsEbZLVtGZUh+sW/OzeHuqpFY5jKLPttoXkp8bchsmoGUqSv\n",
       "t8J70vizGZ/pwSyNGII6sR2efuiLkc5JROdUFzJsEWMc1uNZ/kD8TrD9FdYjqFwlvc9qkV0q8cFO\n",
       "fH8Y3AmxNaswkybdduL7Jc3MB2gkxGeA+8JqjHly5K3oL9LviEZ5aDcY+e4s+P9wyzsB1cR3NG+I\n",
       "P5WEFZGjsynQ+DBekL9uIOOSie+PgP+3putTKbxvQ/wvACshLTN+ad43+GyqZ/3KO23cZROfbfIP\n",
       "MrynyNgm+XtqQ+X52Lo147mqeWsB2mOuIZYK8gCzOcGggd9KR8Wx+xPlpKrxq5IKZpY9YcqjtJ7v\n",
       "+EnGwUxI0zcDdIGbxfbJcadZ9DsG/nlpUf7bwFc4cSM4YtXIP67q+U6pZ/kv9BfBRYwjUWxsIWAC\n",
       "nd9Tej5fIpmMrO0t5l/DxZueZ+dzjoWJsg09sQB6/kBhapiMQt8Kbor8WDqRD4dv6vn7tTUMQRWf\n",
       "uBKU/FvIR+BWQ8F2DCR1/AptuocAxmKkn4UZ2linbv3hto5fGYCj3KjOEt+byaxMBnjfXcxsrdoV\n",
       "N1ERJb8HFJFi+STjC/0FqMZdYjOxy1p8XZf/HmYcAGgAFsi9yNZfhESbO3EW9zAfEqXzn9fyANiT\n",
       "XD/J11/o97GdtfFzOa+Nq5V8GxYdVu6UM/F4hBUtqFDx/HML12JI1MIOsI+XPn91YeD69nj8itA3\n",
       "FZ1/POs1TaLwTI/SSrVofP+33Edw4t3izOfzaYgy/4s43j/cco39CzIn3izLJes/ZKbeq1zfnc/n\n",
       "eDDwxtn9I/TnivTPRkT9dYa09+etV56apNnqNbyt+f3X1CsRi/uHXwoFfkCOALMVWBe/pN6lWl3A\n",
       "w/jslLexzMsHYLIKTqp2us+YRFl9p+X3BysFJ7Vb3i67g2ar4IQnplcpVMSS+mFLPtYWUK7GNvT9\n",
       "17Zk7utYKqO3h+E/fkMECbQ99QsAAAAASUVORK5CYII=\n",
       "\" style=\"display:inline;vertical-align:middle;\" /></a>"
      ],
      "text/plain": [
       "c in ({1, 2, 3, 4, 5} - {1, 2, 3})"
      ]
     },
     "metadata": {},
     "output_type": "display_data"
    }
   ],
   "source": [
    "diff_mem_03.expr"
   ]
  },
  {
   "cell_type": "code",
   "execution_count": 47,
   "metadata": {},
   "outputs": [
    {
     "data": {
      "text/html": [
       "<span style=\"font-size:20px;\"> <a class=\"ProveItLink\" href=\"../__pv_it/demonstrations/bf2d147413af688cd9860688b2f69cb48eb83b720/proof.ipynb\" style=\"text-decoration: none\">&nbsp;&#x22A2;&nbsp;&nbsp;</a><a class=\"ProveItLink\" href=\"../__pv_it/demonstrations/c428b96788c1b57bee4374dc8ca6b45f447f4eae0/expr.ipynb\"><img src=\"data:image/png;base64,iVBORw0KGgoAAAANSUhEUgAAAmcAAAAVCAMAAAA0GbnAAAAARVBMVEX///8AAAAAAAAAAAAAAAAA\n",
       "AAAAAAAAAAAAAAAAAAAAAAAAAAAAAAAAAAAAAAAAAAAAAAAAAAAAAAAAAAAAAAAAAAAAAAAeYafp\n",
       "AAAAFnRSTlMAInZUiRDNmWbv3US7qzLp8+P355HBP3RuygAAAAlwSFlzAAAOxAAADsQBlSsOGwAA\n",
       "BYdJREFUaN69mlmChCoMAAVZBIG3e/+jPncJCRqXGX7S4yhdKRABu2nGIhpu2c7Ufd/8XBEtk+gh\n",
       "Rla/KCJXwA1nv+VK3OK//Ndrt4hLttxKtjOl6fX3ytKc3oSVYuDU/xjjqL+XMDIF3HH2W644KZxh\n",
       "G/2t21Jtq7hVbGe2w46QfEEjrDUhFceUsoG4O5IFf7rBGL/WFyID5wXGXr/sYGQJuONsh0SMd1wV\n",
       "qkhX1ymcYaf4FXbJs0Rt2A+A7Uzl1wPRmgFSiDD9fwCitJ3B8a3kYWfybvBKw684K28wjvq329ho\n",
       "vgC+s+2LCMZbrgpVtKsyBdVW+Kli+6+wEc8cbcdVtp+ZdQJZUMT5aewcGIKn79cDSlIW8iLRhzj9\n",
       "7AnGcW1nYeQI4DvLvqhkvOOqVEW7KlLQ3lT4qeI/w0Y8c3TVZ3nwY8lQHaOB3fx3HPJJZe+mvo/c\n",
       "pc78WD+7xMiudRrGenHow5Wy0wbju0KqKq5gCrKLPc1PYP/x52fYmGeMbWUs7Y0s6j/OPBtI5n/F\n",
       "IeF5Snkzqebn+tklRnat6WCsz24MMnGh7GJgYLtCqiquYAq+SYFuQAI7ps+wMc8Y7T41VFJ2+7UC\n",
       "T1eyM+sNvGY4oGR82YpSoH7WSbWl+7KfXWJk16oIY/2xqbCJzJkgZ3gnDcZ2hVVVXIEUpkm/EXQD\n",
       "Iuxy6vYGG/OMcetywo9PWLv3f4M3Wo6bxZrzBk5DscROMsZygTLWVsib1sNinV9Kx5gvvsDI6u8M\n",
       "jFPNPisRCaCdGXEOSTcYwxWhquKqy3vLxNNaogEp7E5+h415xujXNYmfOrvbLyaG2O3MRrjuvIF9\n",
       "pNb3bfEowPJmgcvNIIbLDapXGFn9rYOxPlNuiw/QmbmArIy5165qqrCrPIVlnyLflDjDLsbiV9iY\n",
       "Z4xuuScsrC257W4+nvDrmSKavjltYBvISTQ4sxMVeXadX+po2mM9ng0v603zFuOoPw0w1pcBPfwA\n",
       "nVHKACTZYAxXVVXYVZ7CMrpIifgp7L/+/hIb8Yxx/XIHL9ShrjnZbLOeoOhKJWnOOOQ3qZjTh/KC\n",
       "WSwsHUmZi9ceLzGO+nsHI7ufQWeUMgBJNRjDFaWq5ipLYZ1waY/4Kexip+0lNuIZ4zKY6vJx608e\n",
       "G/lmPaaY95xFPlcZ5nNAP+vjVAYXsw1qt65jyr3+anmDkdXfehir87PiuVk68xeQRINxXFGqaq6y\n",
       "FLaeY9uiAUls/yU25hljWL51XZLuY4jEL8uCPFnoHW+AZh3TSnk/5OI+qBa7XDG/VOV3m2KsA55j\n",
       "gPq7AGO9X0v4oXAmJW+f9nBwwxVUVXOVpeD35WTJT2D39jtsimeM69JzeeCqY6Fj0Dz8WDTnmwLL\n",
       "FGHfwRbeTsXnm9pdt22uFBvdQwCX2nmtop/sa9zDgNduy3179c5yF1BxZtpTyJLxliuoqubqSOFY\n",
       "Px5vIuvYMX2GTfKMMa0Hleq6fJtRx1C8sE8eQcToBhOn2rd3un6Yi8kOTbeLXV+y+mz9Y8MwRJkd\n",
       "E9ZG++D95n0MUL/vYazPCH3xoXCGlWVfhBlvuEKqKq6OFOIxssvmEvufD7Epnin6VNHaqwBfouxn\n",
       "Up2g1ZxD7GM3x7O7GNm1wsN4trGRyg9XykjIF17Oc7lKoYb9739fYmOeOTLeH2+Doz1pYMU6xD/2\n",
       "sJ8xMfKxvYORI4DvjIJ84eU8l6sUathGf4mNeZYY2D8N3c4kNuu15BxiH8v3+qvlOUZWvwgwsgTc\n",
       "cIYhX3g5z+U6BRqbuu45NuZZow5cZ9uZxGY98YUUA/eYdoxf3jzHyOrf1LN6zq6K7wxDvvBynst1\n",
       "CjS2ar/ExjxbFJItTW6z0Mj+3fKDIhSv+qcYWf1SwMgUcMfZb7nipEBix59xC9T+D5OeTAKeqiK9\n",
       "AAAAAElFTkSuQmCC\n",
       "\" style=\"display:inline;vertical-align:middle;\" /></a></span>"
      ],
      "text/plain": [
       "|- (c in ({1, 2, 3, 4, 5} - {1, 2, 3})) = ((c in {1, 2, 3, 4, 5}) and (c not-in {1, 2, 3}))"
      ]
     },
     "metadata": {},
     "output_type": "display_data"
    }
   ],
   "source": [
    "diff_mem_03.definition()"
   ]
  },
  {
   "cell_type": "code",
   "execution_count": 48,
   "metadata": {},
   "outputs": [
    {
     "data": {
      "text/html": [
       "<a class=\"ProveItLink\" href=\"../__pv_it/demonstrations/dd36e31d017eb71eb46419f24a3127c441bff5210/expr.ipynb\"><img src=\"data:image/png;base64,iVBORw0KGgoAAAANSUhEUgAAAOcAAAAVBAMAAABPgOQBAAAAMFBMVEX///8AAAAAAAAAAAAAAAAA\n",
       "AAAAAAAAAAAAAAAAAAAAAAAAAAAAAAAAAAAAAAAAAAAv3aB7AAAAD3RSTlMAiXZmMiLdVJm77xBE\n",
       "zatgdeJyAAAACXBIWXMAAA7EAAAOxAGVKw4bAAACqUlEQVRIx51WPYgTQRR+u9nd7E/ORAsRCwmI\n",
       "iCdKwObKlGIhahHUQiPKFlpcLKwsIhxIrjjZyubCETiwEMFtBb07rQQVUiliigX/QDhOBEkRj/PN\n",
       "7M7O7M5uVu/BJG/fvG++mTdv3gxAhujYnLeQJ/qdDOPzDSiSEHcup/cothNv8tFnlyWTOvILSUPc\n",
       "q+y+cg3bBBXtFptj72Mz1M4f6OPvioTp+qJ/LLGF49RGJukLbEobYG1pElkugfKHKs496HYA9ksY\n",
       "YuH+TGKLiPuUSboQkYLKBvkK8DiM4hjWh3mk3L/CVsMsIm5OxB1z3SFVBhLpUx+2aAJUnkD1H0jL\n",
       "9RSpiLOF3X93nCGGEuk3gK0m273GLkhF3AwJw77DZDw9DrVZk0hR5lnkrsOuSDlOCQBaHdMj/PH5\n",
       "oTMxh0lS7Vf0f/IL/s5KpEsFpAKuhENfA5u4zMR4A9MMLjeSpEYQhwm7r3bS5361OLwMVx6AGZnP\n",
       "uCge3WisLVdGKchirNlodDYJ2nlPMC5ujr65wf1N1735yHWD1AgxTvsJthfanvFeHEBb9BOQUrRQ\n",
       "rQnWGLdllFrp6eXpKxVxlQGsR/1GMrxWkCC9DTrd8+qEgrtSzVuZTiriym2o4uaR2KjMD6y6mL0O\n",
       "nWgNVJ9odkDDdPB/sjeNK3mAqavQI/iB4UlKh6TKb6CFBFq93n2qlRrTzinxT5KyEUQcOZJ7T4VV\n",
       "Ya0fxUxrR6R7fmx/BoOU7Pmdne1Qe93r555T6p8g5SMIOEO8BF8+jMrgDbZSKndB1nJWyu+puviV\n",
       "wrUyC/5cgrQGslZEWklcXyncQiaphYmqDqIPJ54018L6k5DZ/Ks7hdO9bC8062OWf/xxwB1WJYxU\n",
       "oyAPZ+W8Vy5gu/g9/61zSGbQH3SK30gUdwTgLxHEz8ZiyHGQAAAAAElFTkSuQmCC\n",
       "\" style=\"display:inline;vertical-align:middle;\" /></a>"
      ],
      "text/plain": [
       "c in ({1, 2, 3} - {1 + 1, 3})"
      ]
     },
     "metadata": {},
     "output_type": "display_data"
    }
   ],
   "source": [
    "diff_mem_04.expr"
   ]
  },
  {
   "cell_type": "code",
   "execution_count": 49,
   "metadata": {},
   "outputs": [
    {
     "data": {
      "text/html": [
       "<span style=\"font-size:20px;\"> <a class=\"ProveItLink\" href=\"../__pv_it/demonstrations/f1c29bbdcfdccc90248471a26329f85b68c2bcb80/proof.ipynb\" style=\"text-decoration: none\">&nbsp;&#x22A2;&nbsp;&nbsp;</a><a class=\"ProveItLink\" href=\"../__pv_it/demonstrations/16f17b783e0fbb6481139b7a92f07c66a4e260a60/expr.ipynb\"><img src=\"data:image/png;base64,iVBORw0KGgoAAAANSUhEUgAAAjkAAAAVCAMAAACTxA87AAAARVBMVEX///8AAAAAAAAAAAAAAAAA\n",
       "AAAAAAAAAAAAAAAAAAAAAAAAAAAAAAAAAAAAAAAAAAAAAAAAAAAAAAAAAAAAAAAAAAAAAAAeYafp\n",
       "AAAAFnRSTlMAInZUiRDNmWbv3US7qzLp8+P355HBP3RuygAAAAlwSFlzAAAOxAAADsQBlSsOGwAA\n",
       "BRpJREFUaN69mtuCpSgMRQUFBMXume7x/z91vKEEEgjWqeIlloVksYnh4um6rYiOW0JNNU3diyJ6\n",
       "pquX7Rf8icRye9ogzpdFES1c9f99XMSMU/bcRkJNqSf1imLxM+fB1+3T/iYJLbOnLeJ8WRQGWxFH\n",
       "q+8VMdWwH7hNhJr9eiMtLqETxuh5Se4Ng5mv+J89w0+hfaRjWRXUnxyhZfW0RZwbGgFiilJlK+Is\n",
       "nsvzVkSoodLsbBxqDu664Y1eoUcx7/9fQZpU5uhID54tlUL7GRNShfAX3kit+D3lixMcYUB8UVK2\n",
       "oce50GImJs97EYGGZuRqc9eMRl8mHv0xB1oL0ubuX626OXKQ9rdUmfJmVQh/o4GW01O+OJGjDIgv\n",
       "SsKmnMa50OK4PLmGXBGBhpacUme3lQjdMkbWHn/7NV6sTXZ/GT4VOb2sdZryZxW0dLHZRU2b4kg1\n",
       "iALZ5OgnlAvj+fWby5NryBYx0rAnEuCkZdLWU7OUc45/+XXJlwHjT0UO5U+P0NKrCZ11uaJNJefw\n",
       "RYFsrltmdAQwHr90H4ycCt9mzb3mGqQcb+ciXw1ENV3Fo1uzzrmx+8nIwfwNHlp6shryLkfiCHSl\n",
       "VBopviiAbV8Pa4GOQD5W6RroA5FT4NtsCCLhtnnN3BGu83OD53UwuuxxWROyRfrwRkjLWFDpL0YO\n",
       "7m/U0O6eXFR81lNcHC3K0Hjk8EQZ4/HfHfUmHwF0rEbJ52FFTpFvs+5avbs9nu3dIpIXQ81O2LEc\n",
       "Oc5jie98XKzVA5Jy++zZKvPXW2jppWafXEBxdAWayMMsUWK2c5cdbZeLY5UkwiIPf7ai+DZrzyWY\n",
       "gU8uNryIzzx71RReT2WPZkZXnVdN5XV/bzKjN/6eC8j2zwRhLUwQ1OSQ+1tWaOkF8gQvoDiYNgAa\n",
       "BWKKErOdb7yUKRc6Vv/8y+IhNGSLGGl40VjYMTXTei4mOgdGPI7py7UcCszhbEBXzsQr7ddzDuVv\n",
       "stCyIweKg2kDoLFR4IoSsV0LF+VSLnSskpOfMg8j51T4NntmQJVOwq6Qw+NzYIRqT6UiXgqsR50L\n",
       "ol/rB3Hl9quRQ/nrHbTkOieZrVJxXAUaiRy2KBFbiAXTd0Wck8e18DAip8K32fls5Np+3elA5p9Q\n",
       "ZlnY+zyfC471/75LvG9ZHyW+gbFCfre3qvobZ2jpyJXwIhFHSt5J4EPOFyVic/fWqSviHDyTadnr\n",
       "0ZHD5dvstc06p+HhORLQ2UL22TDGO93zeCscNm7LfrMXF93qxvH9ec6wilqvUwTSX9jUmtq3qLun\n",
       "hDi6L0JnQA2iPGzPXun+4lUYK79UeYqRwxUx0nC5bg7DOMbnW8rPyafWxWVQ3ttV+711d20B3HoU\n",
       "Hd3aXwhzfzxripynfbLXOQLpz03Q0istl1wk4uTaRI4QoAZRHjb/pHFZxtl5/jB46Mjhixhr6BZC\n",
       "v2mY4Qn7XRMb/V5xbjXnHMQR+VOEij/hoC1ty5f0oqYNCo0BlSErbORY/f2Pw8PQkMl3WMYHwJDA\n",
       "TAFqYN36QORM5LeDir/wuZDxFfPuKV8cDHpohqywkThaNYlIa8jkO+3M/tVbqImcAyvJuQXPh8nC\n",
       "OWfuWv2JGVpWTxvEyaExoDJklY3AwZ77DhETDdXMbjY8mJ8DIw5RBmUZv1tgnDN3zf6C6KxYuDXh\n",
       "i5NDy2bIKhuBM/Q/I2KqoZBsda6awvg3WJ0YeM+9bb/gTwpomT1tEefLojDYcBz/MyICDf8HLG9C\n",
       "VF0YC6QAAAAASUVORK5CYII=\n",
       "\" style=\"display:inline;vertical-align:middle;\" /></a></span>"
      ],
      "text/plain": [
       "|- (c in ({1, 2, 3} - {1 + 1, 3})) = ((c in {1, 2, 3}) and (c not-in {1 + 1, 3}))"
      ]
     },
     "metadata": {},
     "output_type": "display_data"
    }
   ],
   "source": [
    "diff_mem_04.definition()"
   ]
  },
  {
   "cell_type": "markdown",
   "metadata": {},
   "source": [
    "###  `DifferenceMembership.unfold()`\n",
    "\n",
    "From something proven or assumed of the form $[x \\in (A - B)]$, derive and return $[(x \\in A) \\land (x \\notin B)]$, or, for the special case of $x \\in (S - {y})$, derive and return $[(x \\in A) \\land (x \\notin y)]$ (if that theorem is usable)."
   ]
  },
  {
   "cell_type": "code",
   "execution_count": 50,
   "metadata": {},
   "outputs": [
    {
     "data": {
      "text/html": [
       "<a class=\"ProveItLink\" href=\"../__pv_it/demonstrations/a317ab80cd44dfafd4d70afb1e9c805a43afb23e0/expr.ipynb\"><img src=\"data:image/png;base64,iVBORw0KGgoAAAANSUhEUgAAAPsAAAAVBAMAAAByEoVnAAAAMFBMVEX///8AAAAAAAAAAAAAAAAA\n",
       "AAAAAAAAAAAAAAAAAAAAAAAAAAAAAAAAAAAAAAAAAAAv3aB7AAAAD3RSTlMAMs3vmVREEIndIqt2\n",
       "u2aBbGR5AAAACXBIWXMAAA7EAAAOxAGVKw4bAAADPklEQVRIx5VWS2gTURS9aT5vOk2aoDtdGNC2\n",
       "iJss3ChWgjsXbbMTuzEo+AGhg7qrZVIVsRikgqLZBVSwRLAUCl1UmfqhRasEFEUUrNCl1FioFSnF\n",
       "+z4z8958UvJgwpl77ue9++69E4CgpeNDTkMLSx/0y5p4eFTFn2oY+xqfF2daCQ87P/tETTxEnhkA\n",
       "5wXenVfJeAmfdVkyciDAx7b98ttXL616IB/G5dfUJEByieN0QTW8gI+maMOeoDOsyS9jXtbjoS3v\n",
       "I3s4HjJUw36/8VpA9MR6K+HVMzJyWbF8V6lkGcj5jNVIgf63Cq+ekZFRQ8rsyXn70rI+Y4+roHRu\n",
       "FX7MT7bh5eszcyyzeo9NxUo2Xys/EZFm34rcaYs/OKiVdwkRKb8ywsI7HmDf4rRA5fcZTmpYf6eq\n",
       "KZbZNqcN6aYghilIHITvPD9mD/nH+/su9PHrcDg4l4nghl96w6seyKph8ggThVgdkvSCO7NADjM9\n",
       "DOrYtdNTPcA9XFyCo1x0woBDnCsJgNwRMXE2IVkEeOppH48HbMOoxdB9CnSa8XgOYg3qEtf2Cq46\n",
       "RVF0VutGMEB12cJIfxkYsAvI5VIbi9fp8aYwPtlLvVQy4POAZ0yzODFexcNdOHAaEK2DWWSTxdk2\n",
       "DR/pwzi9QP6A2HGCt16vreRy6Ul+1d2ewaZ6wDMOsfxE2RHhCgZJ5MC04Bfn1eTjWCIb0Nmw255v\n",
       "GkWi3Fwubdn3oy7VA7Y9z5xpOSMxPg5mAabitCaSlmNn8bola9CRHQRq9JveIgWbuGcKJI7eHW74\n",
       "akDlS1rpDFYZoQBLoggaK706xorfiTH1LsduUrTNNziez5NVfHsOH4EBLPtRBlwO6/dSNaTxXK2O\n",
       "pVQeTCxyLHtNNB52OJkdrc3xYvgk0hcZF8bDCztmM1BB8fA13DMF2q2fBpc4HCysWGFjx9UiMzjK\n",
       "2++h/MbKvBgK7UVZ/+wXMXRvKzMrboQCCTWbeq7WMYWcCP4aLyvGWjiQULPwrlZJIfuDw6fwKtlY\n",
       "YutyOJCQPYTcFeCBWPJI1OvB4QnKdecTa4UDCWFde/9/+T0kHRIbiZ0ycNHPxMPplv7r3Sz4ZE08\n",
       "PKbUG4D/n8n9vgAoQcUAAAAASUVORK5CYII=\n",
       "\" style=\"display:inline;vertical-align:middle;\" /></a>"
      ],
      "text/plain": [
       "d in ({a, b, c, d, e} - {a, b, c})"
      ]
     },
     "metadata": {},
     "output_type": "display_data"
    }
   ],
   "source": [
    "diff_mem_01.expr"
   ]
  },
  {
   "cell_type": "code",
   "execution_count": 51,
   "metadata": {},
   "outputs": [
    {
     "data": {
      "text/html": [
       "<span style=\"font-size:20px;\"><a class=\"ProveItLink\" href=\"../__pv_it/demonstrations/a317ab80cd44dfafd4d70afb1e9c805a43afb23e0/expr.ipynb\"><img src=\"data:image/png;base64,iVBORw0KGgoAAAANSUhEUgAAAPsAAAAVBAMAAAByEoVnAAAAMFBMVEX///8AAAAAAAAAAAAAAAAA\n",
       "AAAAAAAAAAAAAAAAAAAAAAAAAAAAAAAAAAAAAAAAAAAv3aB7AAAAD3RSTlMAMs3vmVREEIndIqt2\n",
       "u2aBbGR5AAAACXBIWXMAAA7EAAAOxAGVKw4bAAADPklEQVRIx5VWS2gTURS9aT5vOk2aoDtdGNC2\n",
       "iJss3ChWgjsXbbMTuzEo+AGhg7qrZVIVsRikgqLZBVSwRLAUCl1UmfqhRasEFEUUrNCl1FioFSnF\n",
       "+z4z8958UvJgwpl77ue9++69E4CgpeNDTkMLSx/0y5p4eFTFn2oY+xqfF2daCQ87P/tETTxEnhkA\n",
       "5wXenVfJeAmfdVkyciDAx7b98ttXL616IB/G5dfUJEByieN0QTW8gI+maMOeoDOsyS9jXtbjoS3v\n",
       "I3s4HjJUw36/8VpA9MR6K+HVMzJyWbF8V6lkGcj5jNVIgf63Cq+ekZFRQ8rsyXn70rI+Y4+roHRu\n",
       "FX7MT7bh5eszcyyzeo9NxUo2Xys/EZFm34rcaYs/OKiVdwkRKb8ywsI7HmDf4rRA5fcZTmpYf6eq\n",
       "KZbZNqcN6aYghilIHITvPD9mD/nH+/su9PHrcDg4l4nghl96w6seyKph8ggThVgdkvSCO7NADjM9\n",
       "DOrYtdNTPcA9XFyCo1x0woBDnCsJgNwRMXE2IVkEeOppH48HbMOoxdB9CnSa8XgOYg3qEtf2Cq46\n",
       "RVF0VutGMEB12cJIfxkYsAvI5VIbi9fp8aYwPtlLvVQy4POAZ0yzODFexcNdOHAaEK2DWWSTxdk2\n",
       "DR/pwzi9QP6A2HGCt16vreRy6Ul+1d2ewaZ6wDMOsfxE2RHhCgZJ5MC04Bfn1eTjWCIb0Nmw255v\n",
       "GkWi3Fwubdn3oy7VA7Y9z5xpOSMxPg5mAabitCaSlmNn8bola9CRHQRq9JveIgWbuGcKJI7eHW74\n",
       "akDlS1rpDFYZoQBLoggaK706xorfiTH1LsduUrTNNziez5NVfHsOH4EBLPtRBlwO6/dSNaTxXK2O\n",
       "pVQeTCxyLHtNNB52OJkdrc3xYvgk0hcZF8bDCztmM1BB8fA13DMF2q2fBpc4HCysWGFjx9UiMzjK\n",
       "2++h/MbKvBgK7UVZ/+wXMXRvKzMrboQCCTWbeq7WMYWcCP4aLyvGWjiQULPwrlZJIfuDw6fwKtlY\n",
       "YutyOJCQPYTcFeCBWPJI1OvB4QnKdecTa4UDCWFde/9/+T0kHRIbiZ0ycNHPxMPplv7r3Sz4ZE08\n",
       "PKbUG4D/n8n9vgAoQcUAAAAASUVORK5CYII=\n",
       "\" style=\"display:inline;vertical-align:middle;\" /></a> <a class=\"ProveItLink\" href=\"../__pv_it/demonstrations/51216695d204e3f2128574358086405a93b387110/proof.ipynb\" style=\"text-decoration: none\">&nbsp;&#x22A2;&nbsp;&nbsp;</a><a class=\"ProveItLink\" href=\"../__pv_it/demonstrations/ce2ab7e81e58e5eb23d2153e7fac85ccb3a7ab4e0/expr.ipynb\"><img src=\"data:image/png;base64,iVBORw0KGgoAAAANSUhEUgAAASsAAAAVCAMAAAApfTjvAAAARVBMVEX///8AAAAAAAAAAAAAAAAA\n",
       "AAAAAAAAAAAAAAAAAAAAAAAAAAAAAAAAAAAAAAAAAAAAAAAAAAAAAAAAAAAAAAAAAAAAAAAeYafp\n",
       "AAAAFnRSTlMAInZUiRDNmWbv3US7qzLp8+P355HBP3RuygAAAAlwSFlzAAAOxAAADsQBlSsOGwAA\n",
       "A1VJREFUWMO1mFeCoCAMQKVLna3c/6iLA2ioojvjnzHlASFEti08aHvwMK2373oQySgrSOjBx1fU\n",
       "HRxMHthjrtm3zdXmrIneNb4nmWJz9gXUDQ6h1zcuxdya+GFMZqRaRJiEMTaNbr9xMsd2dpH6BrvE\n",
       "YRx+8zc5RmfTwcXqgo3DnAHKxNhoZXGDLfQy9RS7xBFwAbVn/zFXfnUzT8KcAfZiBEzxajLm2Gqd\n",
       "eopd4sixU2xUePhq1NuJXvFyfZLQG95tWZzH2Af1x49l6jl2gUP4KB01x+xRXlG1ugUnWX854XuR\n",
       "J84UFWiEHamtWydb/BhwRC6RyFLsQDoizma2hzoqDytuMbZVPlOM94K7DhN3WFATrIKjtizkHLYB\n",
       "I+xIzfg69Ry7wMmrp2VAMSAdebd9EXygHgB94GQemiEVGARMiI5dEKrA5eLo8bm5djDgA4bAZBxh\n",
       "R+odL1PfYBc4Ks4okzvw+Rm1253JHaqr9mCWEFPRStKGOZz6Q4h1eslLTGTVASgwxhE2752hM+ob\n",
       "7AJHRkThT6WEJ1V6DNg/PBXYRv0k9kAmmqrZswsLjTGmuXQzyyOe86dGLD8YjGeAHal//lqnvsOG\n",
       "OCmoNJ/pqEGL1msiRepjG/XMoGEpko2Pnt3mi76R5pFpWfVSTDVzVfuL1FUvNqW+w4Y4MZmZP9Zs\n",
       "98MOpexjO+qpTYFrErXK2tCx2wq1q8Umqu5DBan2YOtPddEn1DfYBY7B8fthYflGrr9EPD5DC/Xs\n",
       "zLtcEU5JLBP6lHTt8qaIE0GvYmrqZUNXXRphH9RaPKCeYlc46WQ+YhMlNhCGk3HPANTDOZKKSghh\n",
       "xAYk8Sih7pL07OKBxwSqeoazLbhONeOqhqLFDtRVczWnnmHXOE6lEoapQxY7WNVM+3NOW3WVzidm\n",
       "afrxyJKN0n3/bGgvndYuJMOh1jR/KtcVe1K4c9aG2IH69xPqKXaNo9y4+6dm5R+HsDeSvgy0jfO/\n",
       "gDH2n78vqXuiEmdfvhwYRaWvJH3ZFUDML2XG2Jy9pO6KShzz5FoUy/YCCL+R9GVXX4nMDckIu2e4\n",
       "RN0FqnCYeTBXqL3AaCOsSPqydCKtrOAIm5KX1D1Rg4Pwk8kS9smV88MLbpqd4/tkH2Dbr6OucP4B\n",
       "2MckPPTXCGoAAAAASUVORK5CYII=\n",
       "\" style=\"display:inline;vertical-align:middle;\" /></a></span>"
      ],
      "text/plain": [
       "{d in ({a, b, c, d, e} - {a, b, c})} |- (d in {a, b, c, d, e}) and (d not-in {a, b, c})"
      ]
     },
     "metadata": {},
     "output_type": "display_data"
    }
   ],
   "source": [
    "diff_mem_01.unfold(assumptions=[diff_mem_01.expr])"
   ]
  },
  {
   "cell_type": "code",
   "execution_count": 52,
   "metadata": {},
   "outputs": [
    {
     "data": {
      "text/html": [
       "<a class=\"ProveItLink\" href=\"../__pv_it/demonstrations/2df236663a8b5f5c3c7c599dc1e17967952a9def0/expr.ipynb\"><img src=\"data:image/png;base64,iVBORw0KGgoAAAANSUhEUgAAAP4AAAAVBAMAAACUO04jAAAAMFBMVEX///8AAAAAAAAAAAAAAAAA\n",
       "AAAAAAAAAAAAAAAAAAAAAAAAAAAAAAAAAAAAAAAAAAAv3aB7AAAAD3RSTlMAIpnNuzKJRKvvEN12\n",
       "ZlQ4bmvwAAAACXBIWXMAAA7EAAAOxAGVKw4bAAADbElEQVRIx5WWTWgTQRTH3ybNNt2kZS1FFKst\n",
       "aZCiCAGFFsEaD2KpB0tBUVQMCFL10ICgVi/VqkS0H0cVSoIVrCA0CMVqDg0oQgtqUA9eCvEiqAcr\n",
       "VcT6Ed+8ndnd2d1oM7C7j9n/vN+8mTdvF8CjKXhpZ6CSprzz6LybLKtfp3OOV3uB15Nzy2Z3g6bD\n",
       "/i5Xf7gtU3ZM4BK+q87jHCJbuh3v6hJ4LTHRYxGdKVKORc2gevgzvTmHzjpdjM8Mf1DMob5lp91F\n",
       "1QCazwEaQP3uGDeOl5oFmGhZ4j2W6DbU/RG6af589PME3k+6+NijXdzO+Uoc+pI2FwwA/gxcALjp\n",
       "GLeJ8yEs+JboZVFbFMsr+AOC5ubjAM4P6lAzanNBgNpmSGdgRKf+p7lcjIxRF98S9SdB8A+3V8Kv\n",
       "WYLgF5sLAsAtuAYwQnt7ak5sf8zFN0Xs9W9uJCriB7MQ/GZzYfC3sdsM7c9WMcyXcPGFiLXzBb78\n",
       "uuAPPbv8fz620ILNhcHvZVn+i1l+Xcj8DOCLyXxDhO1Qii/EWhD8LmjCzJp18Vsc/CN5m4swJcNr\n",
       "Ni1aP781zSLeVhdkviGixeP5nzD5eJgwmKaisySNOfjTdhcKufmAV5T6DuSwxSlTMJhVbSDzo5bf\n",
       "NHms1W18H2aWNsgmMM7c5KYYfjAp831xycVEB1sSdGREdsd8yfiBaEbi14rw9wLsoUAbQfCrYuDD\n",
       "zFLbHPH3dMn8t7KLo2x6/QDvQWFbH5LXn8qTxecigFKG88+mUj+uGPPFzF7g1U5qnRIfq+oKmwsq\n",
       "sPAJAgkIU6x5czPz9vzXKPuYiKwbbPE0Q4g2G6niFHBpj5fPf5rCPoA5ssgFqJR/b2BNJLKR1B1i\n",
       "mDog+Cpu6yQ7CCQia54d3kmjTn0FqoVKM8xmyp6/Pp2rHkQiWbLmbed/PcyUSkZBm9jFVyqQ5fzg\n",
       "1cUhCLFvEInIqo7gx4MsiJauA/vwQH3rhrLnP5VuL5AqVCqVYmSRC85/aJOf3s3r75SIn9pH+IdV\n",
       "l5GjdccvqyyLAErW69v8SuIn4B+WCsvhWyqbxQC+ghe/Shflif0HmXnpZd13VDupzbpVlkUFtsHz\n",
       "30SLi/LEzoD1O+Nh5a1BYy4/ZkXMe+jvsdB3eP8cNbKkGq7s/6+36O5rLZbVrxymTxj8BcTjExLK\n",
       "e3gTAAAAAElFTkSuQmCC\n",
       "\" style=\"display:inline;vertical-align:middle;\" /></a>"
      ],
      "text/plain": [
       "2 in ({1, 2, 3, 4, 5} - {1, 2, 3})"
      ]
     },
     "metadata": {},
     "output_type": "display_data"
    }
   ],
   "source": [
    "diff_mem_02.expr"
   ]
  },
  {
   "cell_type": "code",
   "execution_count": 53,
   "metadata": {},
   "outputs": [
    {
     "name": "stdout",
     "output_type": "stream",
     "text": [
      "ProofFailure (InstantiationFailure): Proof step failed:\n",
      "Attempting to instantiate |- forall_{x, A, B | x in (A - B)} ((x in A) and (x not-in B)) with {x: 2, A: {1, 2, 3, 4, 5}, B: {1, 2, 3}}:\n",
      "Unsatisfied condition: 2 in ({1, 2, 3, 4, 5} - {1, 2, 3}). For debugging purposes, this is accessible via Instantiation.unsatisfied_condition with applicable assumptions in Instantiation.condition_assumptions.\n"
     ]
    }
   ],
   "source": [
    "# This should fail, since 2 has been subtracted out\n",
    "try:\n",
    "    diff_mem_02.unfold()\n",
    "    assert False, \"Expecting a ProofFailure (InstantiationFailure); should not get this far!\"\n",
    "except InstantiationFailure as the_error:\n",
    "    print(\"ProofFailure (InstantiationFailure): {}\".format(the_error))"
   ]
  },
  {
   "cell_type": "code",
   "execution_count": 54,
   "metadata": {},
   "outputs": [
    {
     "data": {
      "text/html": [
       "<a class=\"ProveItLink\" href=\"../__pv_it/demonstrations/ab685e240a666cc11301e38ce7174f7ddaf2d59e0/expr.ipynb\"><img src=\"data:image/png;base64,iVBORw0KGgoAAAANSUhEUgAAAOoAAAAVBAMAAAC6fm+xAAAAMFBMVEX///8AAAAAAAAAAAAAAAAA\n",
       "AAAAAAAAAAAAAAAAAAAAAAAAAAAAAAAAAAAAAAAAAAAv3aB7AAAAD3RSTlMAIpnNuzKJRKvvEN12\n",
       "ZlQ4bmvwAAAACXBIWXMAAA7EAAAOxAGVKw4bAAADEklEQVRIx5WWy2sTURTGz+QxbSZpO0gRxUpD\n",
       "GqQoQkChRfC1aqmb0pUiYnBVdWFR8LWKlkpFa7vzASUDFexCMJviY5AGFLGCGtQ/IG4EdVGlilgl\n",
       "8dxzH8nMnUhz4SZfznzn/ubee+ZmAAKagd06B80042NA8N5YkMtoMMQb7M8urpk4DJYNB4e0eKLP\n",
       "8YeYq6WI5NTOYd+l9iz2VRTRJ/IelWn9sQHlGxHf+R0uDj+oUZcZ9LAk80zmeg3QCeYvn3sOu1kA\n",
       "mO9ZFRFlspKwXJa+R+L78Z8T+HlSo2LEurxXUEUmc4UduARw2+feLqiQkFRlSlTgQUYuoKTmJEOn\n",
       "ArwVVJHJYm1JyDswbVP8uevyAWc0qjK13IQOST3S3wxVZFLsDlwDmKY9O/NKbmtGoyoT262SENmm\n",
       "qCKTYrvZxyIVzC55MZTVqNLE7vmpXGBbUqdeTKyFSpkUG2WV+pepsC2vhtlkQhkvlZvw++WEiGwG\n",
       "SR2CbnwwlzRqj4fKM8n1HnucViiszHFWpBtLXio30TqJGs4qKkAEV6a77D8SZv0rXBauz9jTFDrk\n",
       "YtvHVAxvfEMfeKlppWI82GbXUUPf8dEYZwPOsWHcBQYdH/NRWSa5jmI6n8Xd2kV0R9OOhypMEB2G\n",
       "SIVUF0hqJAOhn1gJfb65jgzVU0UmuS4AfAKDbWncu8KRnIcqTNCxKqnnJyd/X+F3WYDWb+Ik8rTB\n",
       "eqrIJNdXiGYhQfMqqk0q1tewRTfKTEzFcmydxEC3gJSJYdya441r2FGZ3PUBNqVS28izR5rNnKSa\n",
       "uF10FJGJqbYSPnXWCjf+AFJGEpachk/OKZu7KFPEtsBitcoHmR+QO1AQ1NarK1MQZ/8AZCJ1OoVn\n",
       "uEvOdPU6V+t6tzZ8Xifz/SXuokzuelhnOntAnIgLcq7UvoCm2h1dNZprgMsoBP1fvvNQs6ApE3T1\n",
       "P6rPFSoFUSNYrokZ8cNSVVZT90FX/CTytKUGrs7AdwMLK9KoyOO29mqgVDFAWbPaOOq08rn2B7+S\n",
       "dLESudHce9NoWY/1loNcCRv+AaOZ+cWrulFoAAAAAElFTkSuQmCC\n",
       "\" style=\"display:inline;vertical-align:middle;\" /></a>"
      ],
      "text/plain": [
       "2 in ({1, 2, 3, 4, 5} - {1, 3})"
      ]
     },
     "metadata": {},
     "output_type": "display_data"
    }
   ],
   "source": [
    "Difference(set_12345, Set(one, three)).membership_object(two).expr"
   ]
  },
  {
   "cell_type": "code",
   "execution_count": 55,
   "metadata": {},
   "outputs": [
    {
     "data": {
      "text/html": [
       "<span style=\"font-size:20px;\"> <a class=\"ProveItLink\" href=\"../__pv_it/demonstrations/0942b481e922342efa956e35e7e9c68f06aa478e0/proof.ipynb\" style=\"text-decoration: none\">&nbsp;&#x22A2;&nbsp;&nbsp;</a><a class=\"ProveItLink\" href=\"../__pv_it/demonstrations/ad98b3ed68f44011a9e5d23c89d8e1187a61263d0/expr.ipynb\"><img src=\"data:image/png;base64,iVBORw0KGgoAAAANSUhEUgAAARsAAAAVCAMAAABBjrrXAAAAP1BMVEX///8AAAAAAAAAAAAAAAAA\n",
       "AAAAAAAAAAAAAAAAAAAAAAAAAAAAAAAAAAAAAAAAAAAAAAAAAAAAAAAAAAAAAADFBd4eAAAAFHRS\n",
       "TlMAInZUiRDNmWbv3US7qzLp8+P3ndw5NuIAAAAJcEhZcwAADsQAAA7EAZUrDhsAAAOLSURBVFjD\n",
       "tZjplqYoDIZlXyR0T7X3f62juAAhIM7p4Ued81Ga9yGEJLgs+2DL/FDruvx/g4mHZQaKzf9vgpsS\n",
       "52IenutV/X2XxER/AEUIl/2Vv8OMwLX6zN2KC5k8ZYwO8e1tsd0K0WMtygKT0oR2w6Kpf7tNa38Z\n",
       "DHAvx77BjMAj0NwteMmIxJVOD4T9j9ze4k76M0DB6A1LEBaUSVzN9npAv93mpaokmp1fJDIzBjcr\n",
       "wU2BV4xI3CQPQTphzs355nAs9g1lgR+SatP4LGDfAClhq+hSHpkZg/sOdwNeMSJxd0X18QZsZQbj\n",
       "we9DT/qGsrC6Y/ewb6LVU75ZXCnBLdTBMQT/9bsCH/imYqzFxTkJaRK2fHBXzdWnuGksPGcdJQ65\n",
       "TPpG2yoQYqjMDsEhzsZNxViLG1nqbzl9aPXtTDUWblSPXMNZ6xvL5b2aAk9CnXh1GRxDcKWXL755\n",
       "GGvxcm/iluumJnsHo8e+KS2cExzQFrJdEPvmKJ3syqc8pw5brPDgEWUCGoJb3uMmwAvGWtwLunxo\n",
       "sjtyduwbnGSXtk4d262Jx5Zw7hnLjwuHSnJZfofgKOgL7t6ZEoS4ywnOFOc5On+NPMlAr2MJEyiP\n",
       "uvJRy3q+MVc+VaDFHQ751KWN5UU4jMD/+SnBK+7Opt6MlXiWsCWwolYZTVAjCYuXHNOKQhE4LK0O\n",
       "+Sbo0zdnYMtnJaure5m9jlO+acFRK1RyN+A1YyX+hGbqMhmj+4NnFTDwDbJwVMb0UOmbFY6xOSgz\n",
       "qbtqDW5hhcd9nxHtmSLAfZ+7Aa8Ya/FwhWlMsLlscz7X+2WhbOGZc/DEawV0zqsyBe2TZ6jKIh0G\n",
       "vFMsp8EB+Gr63A14wYjFrzrJvDlG4XAthr6RZ3bITW+2kOesvXuHujneQv2qSSVC4WU8ZTqXnXxz\n",
       "GoBDHPgGg2fGRjz6q0FIo1iAgtBeXe93AfbrIRz27itiaeGZ23fQXPe4PLenzm0DXk7t90UwzX1q\n",
       "8ffZh3xT5PnO2AX/acAfowR4ZmzEfffyvcrQvzPkLEOVxLk5MW4vmR/e7brg9k8DTnCT6kjcmg8f\n",
       "WggNST02NyfHEmb8kaILrtUMNw2JxMOHz368ue8qImdPzik+bL1ZeIHpgFPvtdy0OhZXYd43rPkW\n",
       "QylMzpGuUU8L+7pnHXApZrhJ9Vac8Q/OMfDhC+r378XyMc/fw5kGh//KjcX/BWD7JaMdlecIAAAA\n",
       "AElFTkSuQmCC\n",
       "\" style=\"display:inline;vertical-align:middle;\" /></a></span>"
      ],
      "text/plain": [
       "|- (2 in {1, 2, 3, 4, 5}) and (2 not-in {1, 3})"
      ]
     },
     "metadata": {},
     "output_type": "display_data"
    }
   ],
   "source": [
    "# Notice here we don't need any explicit assumptions\n",
    "Difference(set_12345, Set(one, three)).membership_object(two).unfold()"
   ]
  },
  {
   "cell_type": "code",
   "execution_count": 56,
   "metadata": {},
   "outputs": [
    {
     "data": {
      "text/html": [
       "<a class=\"ProveItLink\" href=\"../__pv_it/demonstrations/45d25c818551362762531bf0b0516ba05d5879680/expr.ipynb\"><img src=\"data:image/png;base64,iVBORw0KGgoAAAANSUhEUgAAAQ4AAAAVBAMAAABF+R16AAAAMFBMVEX///8AAAAAAAAAAAAAAAAA\n",
       "AAAAAAAAAAAAAAAAAAAAAAAAAAAAAAAAAAAAAAAAAAAv3aB7AAAAD3RSTlMAIpnNuzKJRKvvEN12\n",
       "ZlQ4bmvwAAAACXBIWXMAAA7EAAAOxAGVKw4bAAADZElEQVRIx6WWXUgUURTHz+zHuDu75iQSRYay\n",
       "LiFJsFCgBJU9hGIv4kMUEi49WT0oBX2BsCWGUaZvZSAOGORD0BJIH0O4UEQK1VI99Li9BH2AhkW0\n",
       "hdu5n7uzd9ZVuzB7z577P3N/c8+5dwbApWl4GedgLU376OK827+6OK3E4Gu8nl1cNUMnGCYc6VD8\n",
       "4WarfDCJq0ghS2R3Z9HQhjheWTT8TwS1FG063iZ1Xbyf3GXjhO3KFAsEo1uydBdTVTccBBb3CqAG\n",
       "9F9F41N46UmA6YYs90iRUQ8LGaF7xPvHf07i7ymFAz3G5f189rwlU9IKff0szmvBJYDxovidnAPC\n",
       "gkOKwstwPyaWXXAkxKwqB8AbObu0BlgXMCE4xlSV9TBpwahJ/c9tm00xpnBIUcVNqBIcx1rWyfGN\n",
       "dcEsBL5z1W24BjBKc39mXpRHTOGQIpL1NDfi/8kRSELgJ1ftJT+zNFt7hN4TVziEiKzIU5EWU3CM\n",
       "vBhaDwe20CJX9ZJd8ZdYXlMMeskDe2JODibC/uUQ92wDwdEBdVhvcwpHQ1mOnhSPe0eg6Lp685Bk\n",
       "Q2xJOzmYiOaF75e45ADw4erVZYqPqImyHKTSadxnvKLUddTG1krrBx9uczM4OaLSCjJnpVnA4cF6\n",
       "MwbJDafIbewZgjHY78bRZNvjts22mofMR+N68IbsSe/kJ8J4f9RycHAR+DvBt0ytWhAcvhh4sN70\n",
       "5qL16Oootx4fyA+NuwDwCTRSGiFnXnwJBwcXQVVWcJwfHv59hXFj3S/y09PR2stw4Lm9kcd9BX8c\n",
       "wvTZUzLZqcL9YtBlICJiBRMkL/yGt4BaOrpxgU+U3i+WO8dhgHke9x62RiJN1LtPhOsJwaFj2unx\n",
       "SUXEqkzj+WEsMeEPoJZWD3NWyX3bZwLX95lODu1BJJLkqu0wm8sx2XQb5/UnOUfg6tIIhMi7joqo\n",
       "dTqC7zmbKqO568yqbtxR8vwYnmxJMxW1CjlCuVwuxuMeFoSdPcTP9RmxHrR9AcXaYKlWqfUoUjn3\n",
       "rVBpSbdPgrcOjjgolg6qtRKH7vQPKCpP2o3Dh4kMj/E/hqzfvHUPVIudno4256IC11O3xnXEwOrX\n",
       "lsVrJP95Ja2Ui2VMKPeRJ2xqBQwad8B9rJYU3421fZ/2ZlRfY2Z1cWET/gHnNRigug90tQAAAABJ\n",
       "RU5ErkJggg==\n",
       "\" style=\"display:inline;vertical-align:middle;\" /></a>"
      ],
      "text/plain": [
       "2 in ({1, 2, 3, 4, 5} - {1, 1 + 2})"
      ]
     },
     "metadata": {},
     "output_type": "display_data"
    }
   ],
   "source": [
    "diff_mem_08 = Difference(set_12345, Set(one, Add(one, two))).membership_object(two)\n",
    "diff_mem_08.expr"
   ]
  },
  {
   "cell_type": "code",
   "execution_count": 57,
   "metadata": {},
   "outputs": [
    {
     "data": {
      "text/html": [
       "<span style=\"font-size:20px;\"> <a class=\"ProveItLink\" href=\"../__pv_it/demonstrations/d1f4d770883a64dd02c6d4a562c2983667d5e4de0/proof.ipynb\" style=\"text-decoration: none\">&nbsp;&#x22A2;&nbsp;&nbsp;</a><a class=\"ProveItLink\" href=\"../__pv_it/demonstrations/7770eb22004f8084957500b067c690a40413a4d20/expr.ipynb\"><img src=\"data:image/png;base64,iVBORw0KGgoAAAANSUhEUgAAAT8AAAAVCAMAAAAHOBl9AAAAP1BMVEX///8AAAAAAAAAAAAAAAAA\n",
       "AAAAAAAAAAAAAAAAAAAAAAAAAAAAAAAAAAAAAAAAAAAAAAAAAAAAAAAAAAAAAADFBd4eAAAAFHRS\n",
       "TlMAInZUiRDNmWbv3US7qzLp8+P3ndw5NuIAAAAJcEhZcwAADsQAAA7EAZUrDhsAAAOhSURBVFjD\n",
       "tZjZdt0gDEWZJwNtU///t9bGAyAExmkuD1nrKljaOkwCQrZGyXyTy0I+1yi/WWag6Iv//Qw4Bsj4\n",
       "/PdMLfLnZYspwR0oBn/6X9gzzAhcyY+At4BcJDW1Vj4+fc3XCyI6iIN5oEJo34571PVvuyrlToc+\n",
       "XBmbJ5gReAzT4LitmxsAlCp18NsfsT5NceGOtRC0WkFIzIPUCb2ZJi6A33Z1QlYh2hkkgJsxuF5m\n",
       "wTEbGeQGAHVSMaTVbO2cfrv4MCTmge3SyVXBdQf1C2gIU81S6YCbMbibBkdti+nmBgDtuYJ2D2Et\n",
       "d13m3dbUJAbmYbH7kEH9olFT+hFbhmAm1FNqCP7r9zQ4auOsm1sNyI8wIRnDmjeSRTH5av41Hu6t\n",
       "B2xkgkzqp0w1oaKv3A7BQ/y/+VfrVwWpAbUoGde85JV8t34bD1c6DsjHaKufYeLKuMAToT4sVDnJ\n",
       "huBSkZ/UrwpSA5ZjHNf8lUJrK63G+pUeDgMLYCrQLSDUby8J6Lk9s7yVmUKFnYeXG+IQ3LBX4FP6\n",
       "XUFqQMfxY1Gh55A1Y/3gwUDa83efNgrpRvwxrjR35xaUI2WZMQSHi+cBfEq/K0gNaPOmrIv9JVp3\n",
       "tmykQS1kqJ/2mOq27GpoTz99ngEyKH6NeF7haRKzIqsR+J+vd+ClTaes7ZF/wHKrADOGKZOSmBJR\n",
       "eznCMFCWmLL2xQSkSQGgn1eHfsdCF3eyi61rva2GwfRrwWGp+AQ+Mf+KIBXgvQxSNU9pp34ioPbG\n",
       "MICHvXJJnUr9lrC31YZy97fn8QZuCoQ7WDtr3q5fBNy9A5/QrwhSA/qzY0wJ5ZKFsbn6OQfOHm6b\n",
       "Dff6rQAPuyy3xM14THlRbM8ejibN2/IAfNGvwCf0K4PUgGeNQJ3eWzFwig/1E8dulS8X2UO2GXPV\n",
       "f/UlZPX1pzodaxKWB3eJko/TfNMdgIf4BjzbuvpVQWrA6M7aJjVVXgt9+2JxfRvCduUPuzrXtb/0\n",
       "cNu2maDP94Ns23bidQ2sNG3X86Cb+y9x1z4TZK6H8p2/C/71Cryw9fSrggBA1310WYTv399yJOQc\n",
       "nrTxcYlO3fAu3gU3f78NPqyfcUCjX7x+IRgC6zZnE+MQevyA1QXHbk6T4J33gyGgf/H8zJp3DokM\n",
       "1KRNsuEVh/oHmA44+t0c+FSDgNLPf0ubtzyMYtKGJiDvm8LjuHbABf82+ExrAekLV1QHTj7XqLjd\n",
       "s+dlgYOHT4JDwH/MTSgpE1J2SAAAAABJRU5ErkJggg==\n",
       "\" style=\"display:inline;vertical-align:middle;\" /></a></span>"
      ],
      "text/plain": [
       "|- (2 in {1, 2, 3, 4, 5}) and (2 not-in {1, 1 + 2})"
      ]
     },
     "metadata": {},
     "output_type": "display_data"
    }
   ],
   "source": [
    "diff_mem_08.unfold()"
   ]
  },
  {
   "cell_type": "markdown",
   "metadata": {},
   "source": [
    "### Testing the `DifferenceNonmembership` class methods\n",
    "<br/>\n",
    "The `DifferenceNonmembership` class includes the following class methods:<br/>\n",
    "    <div style=\"width: 75%; border: 1px solid green; padding: 5px; margin: 20px; background-color: gainsboro; font-family:courier\">conclude(self, **defaults_config)<br/>\n",
    "    conclude_as_folded(self, **defaults_config)<br/>\n",
    "    definition(self, **defaults_config)<br/>\n",
    "    unfold(self, **defaults_config)</div>\n",
    "</font>"
   ]
  },
  {
   "cell_type": "markdown",
   "metadata": {},
   "source": [
    "A few `DifferenceNonmembership` objects for convenience:"
   ]
  },
  {
   "cell_type": "code",
   "execution_count": 58,
   "metadata": {},
   "outputs": [
    {
     "data": {
      "text/html": [
       "<a class=\"ProveItLink\" href=\"../__pv_it/demonstrations/83b01c83bae2063e9bbc88e6e11eac614e8751480/expr.ipynb\"><img src=\"data:image/png;base64,iVBORw0KGgoAAAANSUhEUgAAAPkAAAAVCAMAAACzF7hbAAAAP1BMVEX///8AAAAAAAAAAAAAAAAA\n",
       "AAAAAAAAAAAAAAAAAAAAAAAAAAAAAAAAAAAAAAAAAAAAAAAAAAAAAAAAAAAAAADFBd4eAAAAFHRS\n",
       "TlMAELvv3c2ZVESJq3YiMmbp8+P3nWKd8BMAAAAJcEhZcwAADsQAAA7EAZUrDhsAAAL5SURBVFjD\n",
       "tVjrmp0gDOQuEKHtlvd/1srKVQNy3K/+2LNGMkxizEQJGR374JxqTf7XsW/70rpXHCr4wyaSdqew\n",
       "pV+p6X+LnDjLFtBfcijgGs78MS7QZd3pZtJvGO45AEI5SK4Gl5h99J5weCCRwcGnu4uxUF09UZn+\n",
       "MbPgpFrOf9gGF8xz9uZLZiSKZypolEWPrvzKrsNwboce3rYfRz4jUTy9wlkAE79+C9lY+MquOiw/\n",
       "fWOYn0Y+JVE9OUWAtARKrOueLLmyqxHLxT4uyZ9GvnhRxiKWFsDWEtnjM0BlX+zm5rtbAzv04fRA\n",
       "53oA73pxORzdpSTpsUzRjyNHOMxJVHBz9DoajlBpKBon43/+EpMvOUgp0fxYxrrKugJFauLgoFhX\n",
       "UXdHosXBy53ZBf4Y+YTDA4kK7mXWCF5ClYiYi5zEnZ85oN+/StzFhrc5E+ZqSY5dSe0h2kCnk6c2\n",
       "OePwQKKCbzyzCLmeHRdC/Pk6/jS3iidWViatU6FgXm5FaGzq3m0wRxYAwGQVpVZuWUpFPVyp8BmH\n",
       "JxIF3IXkqksyaAzYXPKeIidOpSmIs+/K6jT/ApRXXZAQx9ANL0bOJ9MphycSBVzzpH9NYsRNzJtq\n",
       "T1MQDbF4fLgLaZvhc1XfylBHWBzQnjk8kKjg2xFicPmRSWIORF81h0HfV+n3BlaS+BKQwSpQsZyo\n",
       "ulpQx1SwZ3YNX+ztKNSURAvuj0qwxxXWhiq3XsyTBnSKElOxCUXUdzc9LxWgYjkbqnHVgjrGPkuo\n",
       "2j9UNQxqRqIDjzpNrVG+q0j7dX0VcuKyK7Vg3G4h4glBky0DZQsxxnugrQVzJBCXfTzJoFAzEi24\n",
       "QJuJ/2vY0U1b5SmtFSO20TeWgfHlDIdAIaY6A4mVN/M64Q92Na8sA+PLyM2aSVzfwPpJgWH9NE1F\n",
       "yIhF4Y1lZOyHHPzDxAoHFD2DoyHexbzKPD5i3XdYsQyMrcoMh7gVDpipgDP8exT+USS/GezKLr+F\n",
       "f/6pzCyBv+NQwSEG/g9JmxzDdX2hYQAAAABJRU5ErkJggg==\n",
       "\" style=\"display:inline;vertical-align:middle;\" /></a>"
      ],
      "text/plain": [
       "b not-in ({a, b, c, d, e} - {a, b, c})"
      ]
     },
     "metadata": {},
     "output_type": "display_data"
    }
   ],
   "source": [
    "# a DifferenceMembership object that is clearly True\n",
    "diff_nonmem_01 = Difference(set_abcde, set_abc).nonmembership_object(b)\n",
    "diff_nonmem_01.expr"
   ]
  },
  {
   "cell_type": "code",
   "execution_count": 59,
   "metadata": {},
   "outputs": [
    {
     "data": {
      "text/html": [
       "<a class=\"ProveItLink\" href=\"../__pv_it/demonstrations/3e01adc67d7bc0753192a717ccb7862b02a3e0cc0/expr.ipynb\"><img src=\"data:image/png;base64,iVBORw0KGgoAAAANSUhEUgAAAP8AAAAVCAMAAAC+CcgcAAAARVBMVEX///8AAAAAAAAAAAAAAAAA\n",
       "AAAAAAAAAAAAAAAAAAAAAAAAAAAAAAAAAAAAAAAAAAAAAAAAAAAAAAAAAAAAAAAAAAAAAAAeYafp\n",
       "AAAAFnRSTlMAMpndq3ZmzYkiRO+7EFTp8+P355HBbXmEaQAAAAlwSFlzAAAOxAAADsQBlSsOGwAA\n",
       "AyZJREFUWMO1mNmCpCAMRdkXAXtW/v9TBxEkRKxCp5qXblOYe8ISgoRcNzt+DMtCvq/Z1c51fIYB\n",
       "3L/V0QE+ybX81Uv4fNg0h7QhUeFn/D/FaO4XCaxs1BM+rab8jVWWcgxgGdOeIpsxzJ9nCgu6qDUv\n",
       "Dr14H8ZNDEhxuJfq+J0PJBmkDrr8Y/j+LJiOSNj67ffYBRtYhl2xcyzIXeQmdBIv2z2MjqK5Pxa4\n",
       "HMXfUTBFMJzEwiLvKOe6ZbqJhqjx6sWC4hzbTPyTGB1Fe1WVRUiV7nGk5/zrB4R2E8IuG0SEiWVx\n",
       "2zzg+E+Cn4x/gNFRAPduf9WQDmfRMtkF3EGrnhn4/JOI9LxZFaIn3xj/FUalAO51tkjb4di8LUI3\n",
       "ZcxMCJdtE7Fl4Sh8JJhxlTR1xP8z/guMgwK4NxuFTXaIo/PCUbI7Co8ImH4tTKNEBikESsZIMCfl\n",
       "5MuWnCXd+/jvYgAK4F7pvBhR/IPDn9cEbp16LTzKpCj/Y8E2CPvM2PNxcSpjHmBUCuB+TUOhbI9D\n",
       "HU/t5y/OPcgp+8xYoRfyUpj5Ea6DXbEgeLnkrCD0epy7vLW6jB5iVIrmnkZi8zoBOCG/avopKPGn\n",
       "sqUVZyNhhcOimdmDGT0J5g56j3+P0Og3pe1djJ6iuV8cWcTWohOmO/dRCjrWPyjOBsK5SLTw/Iu5\n",
       "E4z/LLiNb8nZqLa7bvcwOgrgfq1hOjBgMk3QgspTL68Tb5OnOaTt8Dxsu+O88jrM3R5gSkjGfdUa\n",
       "9yT/v8IAFJ17VbdJhPsl7Q6UsfeDAgmbfbe24s5ytjUObUrVk7cvArMgeJXlxBwenH8zGI2id1+O\n",
       "deZjFO28CML/RmuKciwsRLqyiM1jvbakIzc3DW1pJbFy82i2Q7CZ0p1FsPv1/yxGo+jc84s88+dv\n",
       "KoA5nK8j9w7g1sF2nbSNut2c/9sY7VXLp27+8KowEjYjvjmbIZ+LfxqDny51ZHCDxAnXkoviLMjB\n",
       "x5k526gbrO1efP54jNHcW381uIP6K5TO5+JspDFpG4YfnJr4jvUYo7n3V1/Aht9frKyZSqzk+5o1\n",
       "c+4fYgD3cgv/H2AQIoMzty32AAAAAElFTkSuQmCC\n",
       "\" style=\"display:inline;vertical-align:middle;\" /></a>"
      ],
      "text/plain": [
       "4 not-in ({1, 2, 3, 4, 5} - {1, 2, 3})"
      ]
     },
     "metadata": {},
     "output_type": "display_data"
    }
   ],
   "source": [
    "# a DifferenceNonmembership object that is clearly False\n",
    "diff_nonmem_02 = Difference(set_12345, set_123).nonmembership_object(four)\n",
    "diff_nonmem_02.expr"
   ]
  },
  {
   "cell_type": "code",
   "execution_count": 60,
   "metadata": {},
   "outputs": [
    {
     "data": {
      "text/html": [
       "<a class=\"ProveItLink\" href=\"../__pv_it/demonstrations/6cd32d0ed08ba9043ceb1200a52de1a0631cd0ad0/expr.ipynb\"><img src=\"data:image/png;base64,iVBORw0KGgoAAAANSUhEUgAAAP4AAAAVCAMAAABRy6MiAAAAP1BMVEX///8AAAAAAAAAAAAAAAAA\n",
       "AAAAAAAAAAAAAAAAAAAAAAAAAAAAAAAAAAAAAAAAAAAAAAAAAAAAAAAAAAAAAADFBd4eAAAAFHRS\n",
       "TlMAiXZmMiLdVJm77xBEzavp8+P3ncFx5oAAAAAJcEhZcwAADsQAAA7EAZUrDhsAAAMHSURBVFjD\n",
       "tVjZopsgEJV9E9re8v/fWkDEYVGJNjwkkcDMOcyKy3I22PjRrOvyvcEEm1v4EAaQf6PIGviERf62\n",
       "q/n/rGliFAFRp2bkP4ZxyF/x9Tr4JFD+9kUr5Q0AJqVVtJlDSKreTlTWz9pby7M85e5JvIFR5GNy\n",
       "oUFC0MbmH4jnCSetr/UyFf/3FVcjE1bRCucNRa49R6ZWcTXewDjk2wsHqkBIsnTYcKPXpWDSuvLR\n",
       "qNJ427puS98NqM3QfwLj2EvkSWQp/us3B6D1hF6dnp2HKWXV0QotfUrs9+jfwgB79cj8q8VmcTB6\n",
       "hJ059vSX87QP1CbI0PJF+rcwwF6bZzAmZTmLIWEqg0k0oTfHjO9OkzfsMevpE4z2A39J/xYG2Isi\n",
       "DMZDZEhVjiS6Damqgi0EpL3WS31TTih2rjYEC8Ja+rEYsZyusL6n/wYGkE+iGB5tq8t62ydFvqdu\n",
       "psm1Xu5GVUrUrt/T385gMwvrC0XXvLyBAeSLcBKy3k815/zPT/hQR4rY7MKcXZdLvYcP9dloP3F2\n",
       "Rl/mdGWcFaXg8mPsTvQWxiGfhhDR9VqT6mZtgEw/dCugJRvoJS0rmiArYE+WvKyhr+xGfyOI7E0/\n",
       "+xLGIX/VoRzivuA32ac4P2zJer2pNWSw4vi0BtJfXRxeOwSPN2frtqM7HW9gAPki6M31oJw4xsva\n",
       "9AMKX6Tco/1MjLABU9oVr6tAbvMGpoPihkg/yvyTMCr5RO2Bgo70bEWTq7cC0VWNLVRLT8e4jIPD\n",
       "No+QveDWrZ9XcGdo01NGNk8K32cw6r2poCNECAbGMe6nuU5R3ul1LlxTXBS4X1W4T8OCqeBTAcl2\n",
       "1zjmwoF77zCcCtcUJx/0/J/DqOTzYZIhf5EKmRaYq2TdETZhZqZml31q/RfyGZ+46VeXg5FeNDU1\n",
       "u+wx/c/ly+GNlw2qpmLLWUtm8MzU7LKqozt/26H/g3ymxkc76LpMXjpoyQY6Rmonly1Gk4l3Vo9h\n",
       "APlq/Lpr+LaF4T1JObF8bzA0J/4pDCAfR/b/ALoKIYBR7pJWAAAAAElFTkSuQmCC\n",
       "\" style=\"display:inline;vertical-align:middle;\" /></a>"
      ],
      "text/plain": [
       "c not-in ({1, 2, 3, 4, 5} - {1, 2, 3})"
      ]
     },
     "metadata": {},
     "output_type": "display_data"
    }
   ],
   "source": [
    "# a DifferenceMembership object that is not clearly True or False\n",
    "diff_nonmem_03 = Difference(set_12345, set_123).nonmembership_object(c)\n",
    "diff_nonmem_03.expr"
   ]
  },
  {
   "cell_type": "markdown",
   "metadata": {},
   "source": [
    "###  `DifferenceNonmembership.conclude()`\n",
    "\n",
    "Prove something of the form $x \\notin (A - B)$ via $(x \\notin A) \\lor (x \\in B)$. The special case of $x \\notin (S - \\{y\\})$ may be concluded via $(x \\notin S) \\lor (x = y)$ as long as that theorem is usable."
   ]
  },
  {
   "cell_type": "code",
   "execution_count": 61,
   "metadata": {},
   "outputs": [
    {
     "data": {
      "text/html": [
       "<a class=\"ProveItLink\" href=\"../__pv_it/demonstrations/83b01c83bae2063e9bbc88e6e11eac614e8751480/expr.ipynb\"><img src=\"data:image/png;base64,iVBORw0KGgoAAAANSUhEUgAAAPkAAAAVCAMAAACzF7hbAAAAP1BMVEX///8AAAAAAAAAAAAAAAAA\n",
       "AAAAAAAAAAAAAAAAAAAAAAAAAAAAAAAAAAAAAAAAAAAAAAAAAAAAAAAAAAAAAADFBd4eAAAAFHRS\n",
       "TlMAELvv3c2ZVESJq3YiMmbp8+P3nWKd8BMAAAAJcEhZcwAADsQAAA7EAZUrDhsAAAL5SURBVFjD\n",
       "tVjrmp0gDOQuEKHtlvd/1srKVQNy3K/+2LNGMkxizEQJGR374JxqTf7XsW/70rpXHCr4wyaSdqew\n",
       "pV+p6X+LnDjLFtBfcijgGs78MS7QZd3pZtJvGO45AEI5SK4Gl5h99J5weCCRwcGnu4uxUF09UZn+\n",
       "MbPgpFrOf9gGF8xz9uZLZiSKZypolEWPrvzKrsNwboce3rYfRz4jUTy9wlkAE79+C9lY+MquOiw/\n",
       "fWOYn0Y+JVE9OUWAtARKrOueLLmyqxHLxT4uyZ9GvnhRxiKWFsDWEtnjM0BlX+zm5rtbAzv04fRA\n",
       "53oA73pxORzdpSTpsUzRjyNHOMxJVHBz9DoajlBpKBon43/+EpMvOUgp0fxYxrrKugJFauLgoFhX\n",
       "UXdHosXBy53ZBf4Y+YTDA4kK7mXWCF5ClYiYi5zEnZ85oN+/StzFhrc5E+ZqSY5dSe0h2kCnk6c2\n",
       "OePwQKKCbzyzCLmeHRdC/Pk6/jS3iidWViatU6FgXm5FaGzq3m0wRxYAwGQVpVZuWUpFPVyp8BmH\n",
       "JxIF3IXkqksyaAzYXPKeIidOpSmIs+/K6jT/ApRXXZAQx9ANL0bOJ9MphycSBVzzpH9NYsRNzJtq\n",
       "T1MQDbF4fLgLaZvhc1XfylBHWBzQnjk8kKjg2xFicPmRSWIORF81h0HfV+n3BlaS+BKQwSpQsZyo\n",
       "ulpQx1SwZ3YNX+ztKNSURAvuj0qwxxXWhiq3XsyTBnSKElOxCUXUdzc9LxWgYjkbqnHVgjrGPkuo\n",
       "2j9UNQxqRqIDjzpNrVG+q0j7dX0VcuKyK7Vg3G4h4glBky0DZQsxxnugrQVzJBCXfTzJoFAzEi24\n",
       "QJuJ/2vY0U1b5SmtFSO20TeWgfHlDIdAIaY6A4mVN/M64Q92Na8sA+PLyM2aSVzfwPpJgWH9NE1F\n",
       "yIhF4Y1lZOyHHPzDxAoHFD2DoyHexbzKPD5i3XdYsQyMrcoMh7gVDpipgDP8exT+USS/GezKLr+F\n",
       "f/6pzCyBv+NQwSEG/g9JmxzDdX2hYQAAAABJRU5ErkJggg==\n",
       "\" style=\"display:inline;vertical-align:middle;\" /></a>"
      ],
      "text/plain": [
       "b not-in ({a, b, c, d, e} - {a, b, c})"
      ]
     },
     "metadata": {},
     "output_type": "display_data"
    }
   ],
   "source": [
    "diff_nonmem_01.expr"
   ]
  },
  {
   "cell_type": "code",
   "execution_count": 62,
   "metadata": {},
   "outputs": [
    {
     "data": {
      "text/html": [
       "<span style=\"font-size:20px;\"> <a class=\"ProveItLink\" href=\"../__pv_it/demonstrations/a1cf9d58c30d48dc9872eea0f4d1ab5b60f0f7570/proof.ipynb\" style=\"text-decoration: none\">&nbsp;&#x22A2;&nbsp;&nbsp;</a><a class=\"ProveItLink\" href=\"../__pv_it/demonstrations/83b01c83bae2063e9bbc88e6e11eac614e8751480/expr.ipynb\"><img src=\"data:image/png;base64,iVBORw0KGgoAAAANSUhEUgAAAPkAAAAVCAMAAACzF7hbAAAAP1BMVEX///8AAAAAAAAAAAAAAAAA\n",
       "AAAAAAAAAAAAAAAAAAAAAAAAAAAAAAAAAAAAAAAAAAAAAAAAAAAAAAAAAAAAAADFBd4eAAAAFHRS\n",
       "TlMAELvv3c2ZVESJq3YiMmbp8+P3nWKd8BMAAAAJcEhZcwAADsQAAA7EAZUrDhsAAAL5SURBVFjD\n",
       "tVjrmp0gDOQuEKHtlvd/1srKVQNy3K/+2LNGMkxizEQJGR374JxqTf7XsW/70rpXHCr4wyaSdqew\n",
       "pV+p6X+LnDjLFtBfcijgGs78MS7QZd3pZtJvGO45AEI5SK4Gl5h99J5weCCRwcGnu4uxUF09UZn+\n",
       "MbPgpFrOf9gGF8xz9uZLZiSKZypolEWPrvzKrsNwboce3rYfRz4jUTy9wlkAE79+C9lY+MquOiw/\n",
       "fWOYn0Y+JVE9OUWAtARKrOueLLmyqxHLxT4uyZ9GvnhRxiKWFsDWEtnjM0BlX+zm5rtbAzv04fRA\n",
       "53oA73pxORzdpSTpsUzRjyNHOMxJVHBz9DoajlBpKBon43/+EpMvOUgp0fxYxrrKugJFauLgoFhX\n",
       "UXdHosXBy53ZBf4Y+YTDA4kK7mXWCF5ClYiYi5zEnZ85oN+/StzFhrc5E+ZqSY5dSe0h2kCnk6c2\n",
       "OePwQKKCbzyzCLmeHRdC/Pk6/jS3iidWViatU6FgXm5FaGzq3m0wRxYAwGQVpVZuWUpFPVyp8BmH\n",
       "JxIF3IXkqksyaAzYXPKeIidOpSmIs+/K6jT/ApRXXZAQx9ANL0bOJ9MphycSBVzzpH9NYsRNzJtq\n",
       "T1MQDbF4fLgLaZvhc1XfylBHWBzQnjk8kKjg2xFicPmRSWIORF81h0HfV+n3BlaS+BKQwSpQsZyo\n",
       "ulpQx1SwZ3YNX+ztKNSURAvuj0qwxxXWhiq3XsyTBnSKElOxCUXUdzc9LxWgYjkbqnHVgjrGPkuo\n",
       "2j9UNQxqRqIDjzpNrVG+q0j7dX0VcuKyK7Vg3G4h4glBky0DZQsxxnugrQVzJBCXfTzJoFAzEi24\n",
       "QJuJ/2vY0U1b5SmtFSO20TeWgfHlDIdAIaY6A4mVN/M64Q92Na8sA+PLyM2aSVzfwPpJgWH9NE1F\n",
       "yIhF4Y1lZOyHHPzDxAoHFD2DoyHexbzKPD5i3XdYsQyMrcoMh7gVDpipgDP8exT+USS/GezKLr+F\n",
       "f/6pzCyBv+NQwSEG/g9JmxzDdX2hYQAAAABJRU5ErkJggg==\n",
       "\" style=\"display:inline;vertical-align:middle;\" /></a></span>"
      ],
      "text/plain": [
       "|- b not-in ({a, b, c, d, e} - {a, b, c})"
      ]
     },
     "metadata": {},
     "output_type": "display_data"
    }
   ],
   "source": [
    "# At first, this seems a bit odd … what if we have something like b=d?\n",
    "# But in such a case, the subtraction of {a, b, c} would have removed the\n",
    "# value for d as well, so it seems to be correct.\n",
    "diff_nonmem_01.conclude()"
   ]
  },
  {
   "cell_type": "code",
   "execution_count": 63,
   "metadata": {},
   "outputs": [
    {
     "data": {
      "text/html": [
       "<span style=\"font-size:20px;\"> <a class=\"ProveItLink\" href=\"../__pv_it/demonstrations/a1cf9d58c30d48dc9872eea0f4d1ab5b60f0f7570/proof.ipynb\" style=\"text-decoration: none\">&nbsp;&#x22A2;&nbsp;&nbsp;</a><a class=\"ProveItLink\" href=\"../__pv_it/demonstrations/83b01c83bae2063e9bbc88e6e11eac614e8751480/expr.ipynb\"><img src=\"data:image/png;base64,iVBORw0KGgoAAAANSUhEUgAAAPkAAAAVCAMAAACzF7hbAAAAP1BMVEX///8AAAAAAAAAAAAAAAAA\n",
       "AAAAAAAAAAAAAAAAAAAAAAAAAAAAAAAAAAAAAAAAAAAAAAAAAAAAAAAAAAAAAADFBd4eAAAAFHRS\n",
       "TlMAELvv3c2ZVESJq3YiMmbp8+P3nWKd8BMAAAAJcEhZcwAADsQAAA7EAZUrDhsAAAL5SURBVFjD\n",
       "tVjrmp0gDOQuEKHtlvd/1srKVQNy3K/+2LNGMkxizEQJGR374JxqTf7XsW/70rpXHCr4wyaSdqew\n",
       "pV+p6X+LnDjLFtBfcijgGs78MS7QZd3pZtJvGO45AEI5SK4Gl5h99J5weCCRwcGnu4uxUF09UZn+\n",
       "MbPgpFrOf9gGF8xz9uZLZiSKZypolEWPrvzKrsNwboce3rYfRz4jUTy9wlkAE79+C9lY+MquOiw/\n",
       "fWOYn0Y+JVE9OUWAtARKrOueLLmyqxHLxT4uyZ9GvnhRxiKWFsDWEtnjM0BlX+zm5rtbAzv04fRA\n",
       "53oA73pxORzdpSTpsUzRjyNHOMxJVHBz9DoajlBpKBon43/+EpMvOUgp0fxYxrrKugJFauLgoFhX\n",
       "UXdHosXBy53ZBf4Y+YTDA4kK7mXWCF5ClYiYi5zEnZ85oN+/StzFhrc5E+ZqSY5dSe0h2kCnk6c2\n",
       "OePwQKKCbzyzCLmeHRdC/Pk6/jS3iidWViatU6FgXm5FaGzq3m0wRxYAwGQVpVZuWUpFPVyp8BmH\n",
       "JxIF3IXkqksyaAzYXPKeIidOpSmIs+/K6jT/ApRXXZAQx9ANL0bOJ9MphycSBVzzpH9NYsRNzJtq\n",
       "T1MQDbF4fLgLaZvhc1XfylBHWBzQnjk8kKjg2xFicPmRSWIORF81h0HfV+n3BlaS+BKQwSpQsZyo\n",
       "ulpQx1SwZ3YNX+ztKNSURAvuj0qwxxXWhiq3XsyTBnSKElOxCUXUdzc9LxWgYjkbqnHVgjrGPkuo\n",
       "2j9UNQxqRqIDjzpNrVG+q0j7dX0VcuKyK7Vg3G4h4glBky0DZQsxxnugrQVzJBCXfTzJoFAzEi24\n",
       "QJuJ/2vY0U1b5SmtFSO20TeWgfHlDIdAIaY6A4mVN/M64Q92Na8sA+PLyM2aSVzfwPpJgWH9NE1F\n",
       "yIhF4Y1lZOyHHPzDxAoHFD2DoyHexbzKPD5i3XdYsQyMrcoMh7gVDpipgDP8exT+USS/GezKLr+F\n",
       "f/6pzCyBv+NQwSEG/g9JmxzDdX2hYQAAAABJRU5ErkJggg==\n",
       "\" style=\"display:inline;vertical-align:middle;\" /></a></span>"
      ],
      "text/plain": [
       "|- b not-in ({a, b, c, d, e} - {a, b, c})"
      ]
     },
     "metadata": {},
     "output_type": "display_data"
    }
   ],
   "source": [
    "# Notice that it doesn't matter what b actually is …\n",
    "# The conclusion is independent of the assumption(s) about the value of b\n",
    "diff_nonmem_01.conclude(assumptions=[Equals(b, d)])"
   ]
  },
  {
   "cell_type": "code",
   "execution_count": 64,
   "metadata": {},
   "outputs": [
    {
     "data": {
      "text/html": [
       "<a class=\"ProveItLink\" href=\"../__pv_it/demonstrations/3e01adc67d7bc0753192a717ccb7862b02a3e0cc0/expr.ipynb\"><img src=\"data:image/png;base64,iVBORw0KGgoAAAANSUhEUgAAAP8AAAAVCAMAAAC+CcgcAAAARVBMVEX///8AAAAAAAAAAAAAAAAA\n",
       "AAAAAAAAAAAAAAAAAAAAAAAAAAAAAAAAAAAAAAAAAAAAAAAAAAAAAAAAAAAAAAAAAAAAAAAeYafp\n",
       "AAAAFnRSTlMAMpndq3ZmzYkiRO+7EFTp8+P355HBbXmEaQAAAAlwSFlzAAAOxAAADsQBlSsOGwAA\n",
       "AyZJREFUWMO1mNmCpCAMRdkXAXtW/v9TBxEkRKxCp5qXblOYe8ISgoRcNzt+DMtCvq/Z1c51fIYB\n",
       "3L/V0QE+ybX81Uv4fNg0h7QhUeFn/D/FaO4XCaxs1BM+rab8jVWWcgxgGdOeIpsxzJ9nCgu6qDUv\n",
       "Dr14H8ZNDEhxuJfq+J0PJBmkDrr8Y/j+LJiOSNj67ffYBRtYhl2xcyzIXeQmdBIv2z2MjqK5Pxa4\n",
       "HMXfUTBFMJzEwiLvKOe6ZbqJhqjx6sWC4hzbTPyTGB1Fe1WVRUiV7nGk5/zrB4R2E8IuG0SEiWVx\n",
       "2zzg+E+Cn4x/gNFRAPduf9WQDmfRMtkF3EGrnhn4/JOI9LxZFaIn3xj/FUalAO51tkjb4di8LUI3\n",
       "ZcxMCJdtE7Fl4Sh8JJhxlTR1xP8z/guMgwK4NxuFTXaIo/PCUbI7Co8ImH4tTKNEBikESsZIMCfl\n",
       "5MuWnCXd+/jvYgAK4F7pvBhR/IPDn9cEbp16LTzKpCj/Y8E2CPvM2PNxcSpjHmBUCuB+TUOhbI9D\n",
       "HU/t5y/OPcgp+8xYoRfyUpj5Ea6DXbEgeLnkrCD0epy7vLW6jB5iVIrmnkZi8zoBOCG/avopKPGn\n",
       "sqUVZyNhhcOimdmDGT0J5g56j3+P0Og3pe1djJ6iuV8cWcTWohOmO/dRCjrWPyjOBsK5SLTw/Iu5\n",
       "E4z/LLiNb8nZqLa7bvcwOgrgfq1hOjBgMk3QgspTL68Tb5OnOaTt8Dxsu+O88jrM3R5gSkjGfdUa\n",
       "9yT/v8IAFJ17VbdJhPsl7Q6UsfeDAgmbfbe24s5ytjUObUrVk7cvArMgeJXlxBwenH8zGI2id1+O\n",
       "deZjFO28CML/RmuKciwsRLqyiM1jvbakIzc3DW1pJbFy82i2Q7CZ0p1FsPv1/yxGo+jc84s88+dv\n",
       "KoA5nK8j9w7g1sF2nbSNut2c/9sY7VXLp27+8KowEjYjvjmbIZ+LfxqDny51ZHCDxAnXkoviLMjB\n",
       "x5k526gbrO1efP54jNHcW381uIP6K5TO5+JspDFpG4YfnJr4jvUYo7n3V1/Aht9frKyZSqzk+5o1\n",
       "c+4fYgD3cgv/H2AQIoMzty32AAAAAElFTkSuQmCC\n",
       "\" style=\"display:inline;vertical-align:middle;\" /></a>"
      ],
      "text/plain": [
       "4 not-in ({1, 2, 3, 4, 5} - {1, 2, 3})"
      ]
     },
     "metadata": {},
     "output_type": "display_data"
    }
   ],
   "source": [
    "diff_nonmem_02.expr"
   ]
  },
  {
   "cell_type": "code",
   "execution_count": 65,
   "metadata": {},
   "outputs": [
    {
     "name": "stdout",
     "output_type": "stream",
     "text": [
      "ProofFailure (InstantiationFailure): Proof step failed:\n",
      "Attempting to instantiate |- forall_{x, A, B | (x not-in A) or (x in B)} (x not-in (A - B)) with {x: 4, A: {1, 2, 3, 4, 5}, B: {1, 2, 3}}:\n",
      "Unsatisfied condition: (4 not-in {1, 2, 3, 4, 5}) or (4 in {1, 2, 3}). For debugging purposes, this is accessible via Instantiation.unsatisfied_condition with applicable assumptions in Instantiation.condition_assumptions.\n"
     ]
    }
   ],
   "source": [
    "# We should not be able to conclude() the False non-membership:\n",
    "try:\n",
    "    diff_nonmem_02.conclude()\n",
    "    assert False, \"Expecting a ProofFailure (InstantiationFailure); should not get this far!\"\n",
    "except InstantiationFailure as the_error:\n",
    "    print(\"ProofFailure (InstantiationFailure): {}\".format(the_error))"
   ]
  },
  {
   "cell_type": "code",
   "execution_count": 66,
   "metadata": {},
   "outputs": [
    {
     "data": {
      "text/html": [
       "<span style=\"font-size:20px;\"><a class=\"ProveItLink\" href=\"../__pv_it/demonstrations/0f4184527c441151ea7dd23695d2b706e47f20e80/expr.ipynb\"><img src=\"data:image/png;base64,iVBORw0KGgoAAAANSUhEUgAAAJAAAAAVCAMAAACe5ZfhAAAARVBMVEX///8AAAAAAAAAAAAAAAAA\n",
       "AAAAAAAAAAAAAAAAAAAAAAAAAAAAAAAAAAAAAAAAAAAAAAAAAAAAAAAAAAAAAAAAAAAAAAAeYafp\n",
       "AAAAFnRSTlMAMpndq3ZmzYkiRO+7EFTp8+P355HBbXmEaQAAAAlwSFlzAAAOxAAADsQBlSsOGwAA\n",
       "Ai5JREFUSMe1VtuW2CAI9ILxnm23rf//qVVMThBNNqen61twZEYQiBD3y4+fOQTxfcvv/kuMzfTL\n",
       "2JD/vw6JV21aJCTiX6oFFujXXk641FyYV8omOZqcU2kRUU4Ui7X6cJgIoYb5rBr8Od3zBsoWJsin\n",
       "tl8oPCu8wz455UQ6Fu3yQIHpWAnSYiGogbkgwOzHSPPbtORiuc+JCJYUcrMjziStP37Yl4IiGqCQ\n",
       "Vxlii9ckaCK6EeTEgAvWVAaQryOEW1Ako9/LxiyM6E6Q8QPOY3VldrsHQUeGCzMEzfUwIhS0GXde\n",
       "/aTw9RzFWQz9ZtgTt8+CZBkPSAMsxhMRVlb15Y96MPGMIxO0aELCx+1Z0KIseJVxoktVD43v+M2P\n",
       "OBl1XT8/tU6XHLBBPApSaUEUByQnIoePeshgd+Ex0gSX0bXbWT+72uhK0MZ4JGYr0RBNRIiwXVBP\n",
       "rmvXDtBWieCG/qOnsMKDoL0d9qTsC2IGQTNRi+FRoGwY1A0i3NSrhGmUzFV2nZbI0XpFHvxhykb1\n",
       "fSPTZ1WNPd+OtNZCn0BNJC+QoWv1jF992GvVlia2bTv7EGvXSESOKqyuzChUKgWuqs2QfuU7QQB1\n",
       "HkLjO2di7UC4LLWFqrAPV01m8Ul02epcBjXPMr5+/6mzQ9+MjuvlLKptYXsJexRk8xu0WzkV/wp7\n",
       "EuQXTcVEbslmRi1sL2HDMJik7guR08/Nyql5ZVraRI7bnSBYhk3B/p3/1K67/wuP8hQMX7IelQAA\n",
       "AABJRU5ErkJggg==\n",
       "\" style=\"display:inline;vertical-align:middle;\" /></a> <a class=\"ProveItLink\" href=\"../__pv_it/demonstrations/a2ae7e2e39349ad2656c265f2c65a820e9fe63bf0/proof.ipynb\" style=\"text-decoration: none\">&nbsp;&#x22A2;&nbsp;&nbsp;</a><a class=\"ProveItLink\" href=\"../__pv_it/demonstrations/3e01adc67d7bc0753192a717ccb7862b02a3e0cc0/expr.ipynb\"><img src=\"data:image/png;base64,iVBORw0KGgoAAAANSUhEUgAAAP8AAAAVCAMAAAC+CcgcAAAARVBMVEX///8AAAAAAAAAAAAAAAAA\n",
       "AAAAAAAAAAAAAAAAAAAAAAAAAAAAAAAAAAAAAAAAAAAAAAAAAAAAAAAAAAAAAAAAAAAAAAAeYafp\n",
       "AAAAFnRSTlMAMpndq3ZmzYkiRO+7EFTp8+P355HBbXmEaQAAAAlwSFlzAAAOxAAADsQBlSsOGwAA\n",
       "AyZJREFUWMO1mNmCpCAMRdkXAXtW/v9TBxEkRKxCp5qXblOYe8ISgoRcNzt+DMtCvq/Z1c51fIYB\n",
       "3L/V0QE+ybX81Uv4fNg0h7QhUeFn/D/FaO4XCaxs1BM+rab8jVWWcgxgGdOeIpsxzJ9nCgu6qDUv\n",
       "Dr14H8ZNDEhxuJfq+J0PJBmkDrr8Y/j+LJiOSNj67ffYBRtYhl2xcyzIXeQmdBIv2z2MjqK5Pxa4\n",
       "HMXfUTBFMJzEwiLvKOe6ZbqJhqjx6sWC4hzbTPyTGB1Fe1WVRUiV7nGk5/zrB4R2E8IuG0SEiWVx\n",
       "2zzg+E+Cn4x/gNFRAPduf9WQDmfRMtkF3EGrnhn4/JOI9LxZFaIn3xj/FUalAO51tkjb4di8LUI3\n",
       "ZcxMCJdtE7Fl4Sh8JJhxlTR1xP8z/guMgwK4NxuFTXaIo/PCUbI7Co8ImH4tTKNEBikESsZIMCfl\n",
       "5MuWnCXd+/jvYgAK4F7pvBhR/IPDn9cEbp16LTzKpCj/Y8E2CPvM2PNxcSpjHmBUCuB+TUOhbI9D\n",
       "HU/t5y/OPcgp+8xYoRfyUpj5Ea6DXbEgeLnkrCD0epy7vLW6jB5iVIrmnkZi8zoBOCG/avopKPGn\n",
       "sqUVZyNhhcOimdmDGT0J5g56j3+P0Og3pe1djJ6iuV8cWcTWohOmO/dRCjrWPyjOBsK5SLTw/Iu5\n",
       "E4z/LLiNb8nZqLa7bvcwOgrgfq1hOjBgMk3QgspTL68Tb5OnOaTt8Dxsu+O88jrM3R5gSkjGfdUa\n",
       "9yT/v8IAFJ17VbdJhPsl7Q6UsfeDAgmbfbe24s5ytjUObUrVk7cvArMgeJXlxBwenH8zGI2id1+O\n",
       "deZjFO28CML/RmuKciwsRLqyiM1jvbakIzc3DW1pJbFy82i2Q7CZ0p1FsPv1/yxGo+jc84s88+dv\n",
       "KoA5nK8j9w7g1sF2nbSNut2c/9sY7VXLp27+8KowEjYjvjmbIZ+LfxqDny51ZHCDxAnXkoviLMjB\n",
       "x5k526gbrO1efP54jNHcW381uIP6K5TO5+JspDFpG4YfnJr4jvUYo7n3V1/Aht9frKyZSqzk+5o1\n",
       "c+4fYgD3cgv/H2AQIoMzty32AAAAAElFTkSuQmCC\n",
       "\" style=\"display:inline;vertical-align:middle;\" /></a></span>"
      ],
      "text/plain": [
       "{4 not-in {1, 2, 3, 4, 5}} |- 4 not-in ({1, 2, 3, 4, 5} - {1, 2, 3})"
      ]
     },
     "metadata": {},
     "output_type": "display_data"
    }
   ],
   "source": [
    "# Interestingly, we can assume an obviously False premise and conclude():\n",
    "diff_nonmem_02.conclude(assumptions=[NotInSet(four, set_12345)])"
   ]
  },
  {
   "cell_type": "code",
   "execution_count": 67,
   "metadata": {},
   "outputs": [
    {
     "data": {
      "text/html": [
       "<a class=\"ProveItLink\" href=\"../__pv_it/demonstrations/6cd32d0ed08ba9043ceb1200a52de1a0631cd0ad0/expr.ipynb\"><img src=\"data:image/png;base64,iVBORw0KGgoAAAANSUhEUgAAAP4AAAAVCAMAAABRy6MiAAAAP1BMVEX///8AAAAAAAAAAAAAAAAA\n",
       "AAAAAAAAAAAAAAAAAAAAAAAAAAAAAAAAAAAAAAAAAAAAAAAAAAAAAAAAAAAAAADFBd4eAAAAFHRS\n",
       "TlMAiXZmMiLdVJm77xBEzavp8+P3ncFx5oAAAAAJcEhZcwAADsQAAA7EAZUrDhsAAAMHSURBVFjD\n",
       "tVjZopsgEJV9E9re8v/fWkDEYVGJNjwkkcDMOcyKy3I22PjRrOvyvcEEm1v4EAaQf6PIGviERf62\n",
       "q/n/rGliFAFRp2bkP4ZxyF/x9Tr4JFD+9kUr5Q0AJqVVtJlDSKreTlTWz9pby7M85e5JvIFR5GNy\n",
       "oUFC0MbmH4jnCSetr/UyFf/3FVcjE1bRCucNRa49R6ZWcTXewDjk2wsHqkBIsnTYcKPXpWDSuvLR\n",
       "qNJ427puS98NqM3QfwLj2EvkSWQp/us3B6D1hF6dnp2HKWXV0QotfUrs9+jfwgB79cj8q8VmcTB6\n",
       "hJ059vSX87QP1CbI0PJF+rcwwF6bZzAmZTmLIWEqg0k0oTfHjO9OkzfsMevpE4z2A39J/xYG2Isi\n",
       "DMZDZEhVjiS6Damqgi0EpL3WS31TTih2rjYEC8Ja+rEYsZyusL6n/wYGkE+iGB5tq8t62ydFvqdu\n",
       "psm1Xu5GVUrUrt/T385gMwvrC0XXvLyBAeSLcBKy3k815/zPT/hQR4rY7MKcXZdLvYcP9dloP3F2\n",
       "Rl/mdGWcFaXg8mPsTvQWxiGfhhDR9VqT6mZtgEw/dCugJRvoJS0rmiArYE+WvKyhr+xGfyOI7E0/\n",
       "+xLGIX/VoRzivuA32ac4P2zJer2pNWSw4vi0BtJfXRxeOwSPN2frtqM7HW9gAPki6M31oJw4xsva\n",
       "9AMKX6Tco/1MjLABU9oVr6tAbvMGpoPihkg/yvyTMCr5RO2Bgo70bEWTq7cC0VWNLVRLT8e4jIPD\n",
       "No+QveDWrZ9XcGdo01NGNk8K32cw6r2poCNECAbGMe6nuU5R3ul1LlxTXBS4X1W4T8OCqeBTAcl2\n",
       "1zjmwoF77zCcCtcUJx/0/J/DqOTzYZIhf5EKmRaYq2TdETZhZqZml31q/RfyGZ+46VeXg5FeNDU1\n",
       "u+wx/c/ly+GNlw2qpmLLWUtm8MzU7LKqozt/26H/g3ymxkc76LpMXjpoyQY6Rmonly1Gk4l3Vo9h\n",
       "APlq/Lpr+LaF4T1JObF8bzA0J/4pDCAfR/b/ALoKIYBR7pJWAAAAAElFTkSuQmCC\n",
       "\" style=\"display:inline;vertical-align:middle;\" /></a>"
      ],
      "text/plain": [
       "c not-in ({1, 2, 3, 4, 5} - {1, 2, 3})"
      ]
     },
     "metadata": {},
     "output_type": "display_data"
    }
   ],
   "source": [
    "diff_nonmem_03.expr"
   ]
  },
  {
   "cell_type": "code",
   "execution_count": 68,
   "metadata": {},
   "outputs": [
    {
     "name": "stdout",
     "output_type": "stream",
     "text": [
      "ProofFailure (InstantiationFailure): Proof step failed:\n",
      "Attempting to instantiate |- forall_{x, A, B | (x not-in A) or (x in B)} (x not-in (A - B)) with {x: c, A: {1, 2, 3, 4, 5}, B: {1, 2, 3}}:\n",
      "Unsatisfied condition: (c not-in {1, 2, 3, 4, 5}) or (c in {1, 2, 3}). For debugging purposes, this is accessible via Instantiation.unsatisfied_condition with applicable assumptions in Instantiation.condition_assumptions.\n"
     ]
    }
   ],
   "source": [
    "# We should not be able to conclude() the non-membership of unknown verity:\n",
    "try:\n",
    "    diff_nonmem_03.conclude()\n",
    "    assert False, \"Expecting a ProofFailure (InstantiationFailure); should not get this far!\"\n",
    "except InstantiationFailure as the_error:\n",
    "    print(\"ProofFailure (InstantiationFailure): {}\".format(the_error))"
   ]
  },
  {
   "cell_type": "code",
   "execution_count": 69,
   "metadata": {},
   "outputs": [
    {
     "data": {
      "text/html": [
       "<span style=\"font-size:20px;\"><a class=\"ProveItLink\" href=\"../__pv_it/demonstrations/b626ce183f9460e2361ba896299be33d4a7b89190/expr.ipynb\"><img src=\"data:image/png;base64,iVBORw0KGgoAAAANSUhEUgAAAC8AAAAOBAMAAABN+VgMAAAAMFBMVEX///8AAAAAAAAAAAAAAAAA\n",
       "AAAAAAAAAAAAAAAAAAAAAAAAAAAAAAAAAAAAAAAAAAAv3aB7AAAAD3RSTlMAiXZmMiLdVJm77xBE\n",
       "q833A+o+AAAACXBIWXMAAA7EAAAOxAGVKw4bAAAAiklEQVQY02NgwASsHS8dGLCBSAbGP1glrjIw\n",
       "rMIqsX4Dw/0AbBLXGBjugywRUsa0Kh+Iwwo4JgCptjQQyIWIs3wCEokMXAroGtguMDBw/MZiSycQ\n",
       "c03AFGcGamDYDzUH2Y5CBtYABn4DBoYDqBpYBBiYNjAAncSI5tywjo42ICVorI3uif///zEAABd+\n",
       "IIwth7XSAAAAAElFTkSuQmCC\n",
       "\" style=\"display:inline;vertical-align:middle;\" /></a> <a class=\"ProveItLink\" href=\"../__pv_it/demonstrations/87442bdd45407865ee94a4b676038d9fdb7958040/proof.ipynb\" style=\"text-decoration: none\">&nbsp;&#x22A2;&nbsp;&nbsp;</a><a class=\"ProveItLink\" href=\"../__pv_it/demonstrations/6cd32d0ed08ba9043ceb1200a52de1a0631cd0ad0/expr.ipynb\"><img src=\"data:image/png;base64,iVBORw0KGgoAAAANSUhEUgAAAP4AAAAVCAMAAABRy6MiAAAAP1BMVEX///8AAAAAAAAAAAAAAAAA\n",
       "AAAAAAAAAAAAAAAAAAAAAAAAAAAAAAAAAAAAAAAAAAAAAAAAAAAAAAAAAAAAAADFBd4eAAAAFHRS\n",
       "TlMAiXZmMiLdVJm77xBEzavp8+P3ncFx5oAAAAAJcEhZcwAADsQAAA7EAZUrDhsAAAMHSURBVFjD\n",
       "tVjZopsgEJV9E9re8v/fWkDEYVGJNjwkkcDMOcyKy3I22PjRrOvyvcEEm1v4EAaQf6PIGviERf62\n",
       "q/n/rGliFAFRp2bkP4ZxyF/x9Tr4JFD+9kUr5Q0AJqVVtJlDSKreTlTWz9pby7M85e5JvIFR5GNy\n",
       "oUFC0MbmH4jnCSetr/UyFf/3FVcjE1bRCucNRa49R6ZWcTXewDjk2wsHqkBIsnTYcKPXpWDSuvLR\n",
       "qNJ427puS98NqM3QfwLj2EvkSWQp/us3B6D1hF6dnp2HKWXV0QotfUrs9+jfwgB79cj8q8VmcTB6\n",
       "hJ059vSX87QP1CbI0PJF+rcwwF6bZzAmZTmLIWEqg0k0oTfHjO9OkzfsMevpE4z2A39J/xYG2Isi\n",
       "DMZDZEhVjiS6Damqgi0EpL3WS31TTih2rjYEC8Ja+rEYsZyusL6n/wYGkE+iGB5tq8t62ydFvqdu\n",
       "psm1Xu5GVUrUrt/T385gMwvrC0XXvLyBAeSLcBKy3k815/zPT/hQR4rY7MKcXZdLvYcP9dloP3F2\n",
       "Rl/mdGWcFaXg8mPsTvQWxiGfhhDR9VqT6mZtgEw/dCugJRvoJS0rmiArYE+WvKyhr+xGfyOI7E0/\n",
       "+xLGIX/VoRzivuA32ac4P2zJer2pNWSw4vi0BtJfXRxeOwSPN2frtqM7HW9gAPki6M31oJw4xsva\n",
       "9AMKX6Tco/1MjLABU9oVr6tAbvMGpoPihkg/yvyTMCr5RO2Bgo70bEWTq7cC0VWNLVRLT8e4jIPD\n",
       "No+QveDWrZ9XcGdo01NGNk8K32cw6r2poCNECAbGMe6nuU5R3ul1LlxTXBS4X1W4T8OCqeBTAcl2\n",
       "1zjmwoF77zCcCtcUJx/0/J/DqOTzYZIhf5EKmRaYq2TdETZhZqZml31q/RfyGZ+46VeXg5FeNDU1\n",
       "u+wx/c/ly+GNlw2qpmLLWUtm8MzU7LKqozt/26H/g3ymxkc76LpMXjpoyQY6Rmonly1Gk4l3Vo9h\n",
       "APlq/Lpr+LaF4T1JObF8bzA0J/4pDCAfR/b/ALoKIYBR7pJWAAAAAElFTkSuQmCC\n",
       "\" style=\"display:inline;vertical-align:middle;\" /></a></span>"
      ],
      "text/plain": [
       "{c = 2} |- c not-in ({1, 2, 3, 4, 5} - {1, 2, 3})"
      ]
     },
     "metadata": {},
     "output_type": "display_data"
    }
   ],
   "source": [
    "# but given some information about the value of c, we can conclude():\n",
    "diff_nonmem_03.conclude(assumptions=[Equals(c, two)])"
   ]
  },
  {
   "cell_type": "code",
   "execution_count": null,
   "metadata": {},
   "outputs": [],
   "source": []
  },
  {
   "cell_type": "markdown",
   "metadata": {},
   "source": [
    "###  `DifferenceNonmembership.conclude_as_folded()`\n",
    "\n",
    "Because `DifferenceNonmembership.conclude()` simply calls `DifferenceNonmembership.conclude_as_folded()`, the work above for the `conclude()` method also demonstrates the functionality of the `conclude_as_folded()` method."
   ]
  },
  {
   "cell_type": "markdown",
   "metadata": {},
   "source": [
    "###  `DifferenceNonmembership.definition()`\n",
    "\n",
    "Deduce and return something of the form $[x \\notin (A - B)] = [(x \\notin A) or (x \\in B)]$."
   ]
  },
  {
   "cell_type": "code",
   "execution_count": 70,
   "metadata": {},
   "outputs": [
    {
     "data": {
      "text/html": [
       "<a class=\"ProveItLink\" href=\"../__pv_it/demonstrations/83b01c83bae2063e9bbc88e6e11eac614e8751480/expr.ipynb\"><img src=\"data:image/png;base64,iVBORw0KGgoAAAANSUhEUgAAAPkAAAAVCAMAAACzF7hbAAAAP1BMVEX///8AAAAAAAAAAAAAAAAA\n",
       "AAAAAAAAAAAAAAAAAAAAAAAAAAAAAAAAAAAAAAAAAAAAAAAAAAAAAAAAAAAAAADFBd4eAAAAFHRS\n",
       "TlMAELvv3c2ZVESJq3YiMmbp8+P3nWKd8BMAAAAJcEhZcwAADsQAAA7EAZUrDhsAAAL5SURBVFjD\n",
       "tVjrmp0gDOQuEKHtlvd/1srKVQNy3K/+2LNGMkxizEQJGR374JxqTf7XsW/70rpXHCr4wyaSdqew\n",
       "pV+p6X+LnDjLFtBfcijgGs78MS7QZd3pZtJvGO45AEI5SK4Gl5h99J5weCCRwcGnu4uxUF09UZn+\n",
       "MbPgpFrOf9gGF8xz9uZLZiSKZypolEWPrvzKrsNwboce3rYfRz4jUTy9wlkAE79+C9lY+MquOiw/\n",
       "fWOYn0Y+JVE9OUWAtARKrOueLLmyqxHLxT4uyZ9GvnhRxiKWFsDWEtnjM0BlX+zm5rtbAzv04fRA\n",
       "53oA73pxORzdpSTpsUzRjyNHOMxJVHBz9DoajlBpKBon43/+EpMvOUgp0fxYxrrKugJFauLgoFhX\n",
       "UXdHosXBy53ZBf4Y+YTDA4kK7mXWCF5ClYiYi5zEnZ85oN+/StzFhrc5E+ZqSY5dSe0h2kCnk6c2\n",
       "OePwQKKCbzyzCLmeHRdC/Pk6/jS3iidWViatU6FgXm5FaGzq3m0wRxYAwGQVpVZuWUpFPVyp8BmH\n",
       "JxIF3IXkqksyaAzYXPKeIidOpSmIs+/K6jT/ApRXXZAQx9ANL0bOJ9MphycSBVzzpH9NYsRNzJtq\n",
       "T1MQDbF4fLgLaZvhc1XfylBHWBzQnjk8kKjg2xFicPmRSWIORF81h0HfV+n3BlaS+BKQwSpQsZyo\n",
       "ulpQx1SwZ3YNX+ztKNSURAvuj0qwxxXWhiq3XsyTBnSKElOxCUXUdzc9LxWgYjkbqnHVgjrGPkuo\n",
       "2j9UNQxqRqIDjzpNrVG+q0j7dX0VcuKyK7Vg3G4h4glBky0DZQsxxnugrQVzJBCXfTzJoFAzEi24\n",
       "QJuJ/2vY0U1b5SmtFSO20TeWgfHlDIdAIaY6A4mVN/M64Q92Na8sA+PLyM2aSVzfwPpJgWH9NE1F\n",
       "yIhF4Y1lZOyHHPzDxAoHFD2DoyHexbzKPD5i3XdYsQyMrcoMh7gVDpipgDP8exT+USS/GezKLr+F\n",
       "f/6pzCyBv+NQwSEG/g9JmxzDdX2hYQAAAABJRU5ErkJggg==\n",
       "\" style=\"display:inline;vertical-align:middle;\" /></a>"
      ],
      "text/plain": [
       "b not-in ({a, b, c, d, e} - {a, b, c})"
      ]
     },
     "metadata": {},
     "output_type": "display_data"
    }
   ],
   "source": [
    "diff_nonmem_01.expr"
   ]
  },
  {
   "cell_type": "code",
   "execution_count": 71,
   "metadata": {},
   "outputs": [
    {
     "data": {
      "text/html": [
       "<span style=\"font-size:20px;\"> <a class=\"ProveItLink\" href=\"../__pv_it/demonstrations/d5b97c350c86df6b9f3846735185471c9f49f2a30/proof.ipynb\" style=\"text-decoration: none\">&nbsp;&#x22A2;&nbsp;&nbsp;</a><a class=\"ProveItLink\" href=\"../__pv_it/demonstrations/6296fde13678bcc2f8d0fda39081b464600e4a960/expr.ipynb\"><img src=\"data:image/png;base64,iVBORw0KGgoAAAANSUhEUgAAAl0AAAAVCAMAAABLyKsxAAAASFBMVEX///8AAAAAAAAAAAAAAAAA\n",
       "AAAAAAAAAAAAAAAAAAAAAAAAAAAAAAAAAAAAAAAAAAAAAAAAAAAAAAAAAAAAAAAAAAAAAAAAAACC\n",
       "gUnDAAAAF3RSTlMAInZUiRDNmWbv3US7qzLp8+P3neeRwauqSyUAAAAJcEhZcwAADsQAAA7EAZUr\n",
       "DhsAAAV7SURBVGjevZppg5woEIYBOZTDZLO78f//06gtWMWhHJnxw5TNQPHWAyJUNyH7RUnxovmP\n",
       "whjyVRedaF3FHhHAOc2H+I6iHtf3YKIt4r+EakZM6JBN5WZSwE++JpNGfBk2sjpb471PxO3cMGzf\n",
       "upvacX0PpooAnjT/DaqpGG8nfsxYu+hsI/jprHnYrSyg4CjnWy6q8C/r3ps/iHjWEJyzGdvn7jhp\n",
       "xtWrsBXTawBPmqupVmLFVIW8HrtcDAqukr4m4Y8qpaqd8FvpieIV6B/rPGm4G/qVRr4/rSH2elz9\n",
       "CpsxgQBcuF0ZqdHcQr4KK6Kq5ocYUF++5ouErXYVNsXnZHh2PWm4G84K24crxF6Pq19hMyYQwBzm\n",
       "lF1JjeYW8lVYEdWlFAOz+sdPLe+CpUqC2Wrf22U3o7PrUQNouAhsy9cS3SQ97LR2XPKvKGzHBALw\n",
       "ZVSSN82naA2HeGBoUzG7nWTerZFMELfCV7KsksBrNxQP6+zo7KoVKGdsy9sRGd1EPZy0MK4Bhe2Y\n",
       "QAD8Wl/URJ41X6L7yNWI2a26dqvSMebuhY8eb02BHkVfEzqijjOKjyyRo08DxmZE/mi3Ruus2Gsp\n",
       "0T67WjUA59xhW34x8ugG93DSinC1KxzABALwa5ZOxOeGuDxH+rECqtdEE9vel9hClkJS9A7Hz4fy\n",
       "GM2yV7NovYwdHTr1rkhZ+NSk7YjRu8j1A4It77PLi2jWAJzPEtvDrQaXS2LP4zppRbhaFQ5hAgFc\n",
       "Kyhj8cBlh7hEdQQroKoncBJdgiSZnqW0n7V0uViL80bp9Ei7QNCaRyVXO/So0+0oY+b68Lr/9CLa\n",
       "NQDn04Jt8Qqx53HJ3NGzUeEQJhjAJy2iRSw+O8QFqkNYAdXFgDm7+RfAuuxP7j+/9j/3s3TVpE76\n",
       "c7faQg/R5N9AmUr2grl2dmOMce9ZODmF4zRYTNawbHsRHRpu5+uGbXlTb/AN7uGkdeKy4KXWpnAM\n",
       "EwrgWJQmlYjPDfF52VTzEFZA9er69GPC9BMW7A8jwqvy2e7FnuulSZ5AA9eexSZjlWm3oa0Ply9f\n",
       "RwQRHRpu52bBtnp24R5OWjGuRoVjmFAAR+4UvvYehrhEdQgroHotm2cbMBV1kr253w4+LSu2Y0mc\n",
       "tzQlAuf0pxbal2bbscqMMRbRoQE4nzS2xX1X/GaMetBpsqtR4SCmSeO022rTgcsNcSnjPoQVULWf\n",
       "Ctvq37VXJoQRE52ELYsOFuLszklyfIXpXd+OQsnHqwkl2XbXIvwBwSt29R8RzRqQ89liW57KDN9E\n",
       "uI4ttFFDCscw4QDY7EwqPjPExTPjEFZA9To+ur2ehXzkFGVvwKnXHz4P2ZNWRJ3nCYIdhZLPkYKv\n",
       "d0mu3XnQEIq2ZiQaNWDn/qyu+FtnDt/EuPYdR4yrUeEYJhyA0DIjPjPE5YzECFZAdb0mq+MKpRSF\n",
       "+xV9Wb7qWIJwjK/UscO7vg4ptyNfQjif5zNvd9dJ2xF21GrPprZqQM61wba8zdP4JsYlnP1PjCkc\n",
       "whQFoKaM+MwQ2+T3EL1DmxNzWL3mgc7/cou/Jgg1s4M/iZ6SfFlvrr6qR5Aw1Ng+pSTW+Ca6/v8d\n",
       "0RpQ2IzpJYCSZmLiIe4f2lTMaUtf4aaZ3FAzK4F3lRTKOmdXVY9gCZ+xfbhC7PW4BhS2YnoJYK7/\n",
       "PUb30KZiPtZmf7dIMxtdXzOXShespyRfFmUQ81dGRF2PwbkPkdoK7IFSPa5ehc2YXgOw1T9N7R3a\n",
       "VMxlRVYbz2z5fM1cKp11leTL4MmmnKxPRVT1eDv3zKvYB0r1uHoVNmN6DUDY2tnVO7SpGG9pTnr2\n",
       "e11fkypX/fOk5ovyOuddIoBzRrF9a8lIM67vwVQRAGXVbrs0p2JO+wdhxkc8vI+qmAAAAABJRU5E\n",
       "rkJggg==\n",
       "\" style=\"display:inline;vertical-align:middle;\" /></a></span>"
      ],
      "text/plain": [
       "|- (b not-in ({a, b, c, d, e} - {a, b, c})) = ((b not-in {a, b, c, d, e}) or (b in {a, b, c}))"
      ]
     },
     "metadata": {},
     "output_type": "display_data"
    }
   ],
   "source": [
    "diff_nonmem_01.definition()"
   ]
  },
  {
   "cell_type": "code",
   "execution_count": 72,
   "metadata": {},
   "outputs": [
    {
     "data": {
      "text/html": [
       "<a class=\"ProveItLink\" href=\"../__pv_it/demonstrations/3e01adc67d7bc0753192a717ccb7862b02a3e0cc0/expr.ipynb\"><img src=\"data:image/png;base64,iVBORw0KGgoAAAANSUhEUgAAAP8AAAAVCAMAAAC+CcgcAAAARVBMVEX///8AAAAAAAAAAAAAAAAA\n",
       "AAAAAAAAAAAAAAAAAAAAAAAAAAAAAAAAAAAAAAAAAAAAAAAAAAAAAAAAAAAAAAAAAAAAAAAeYafp\n",
       "AAAAFnRSTlMAMpndq3ZmzYkiRO+7EFTp8+P355HBbXmEaQAAAAlwSFlzAAAOxAAADsQBlSsOGwAA\n",
       "AyZJREFUWMO1mNmCpCAMRdkXAXtW/v9TBxEkRKxCp5qXblOYe8ISgoRcNzt+DMtCvq/Z1c51fIYB\n",
       "3L/V0QE+ybX81Uv4fNg0h7QhUeFn/D/FaO4XCaxs1BM+rab8jVWWcgxgGdOeIpsxzJ9nCgu6qDUv\n",
       "Dr14H8ZNDEhxuJfq+J0PJBmkDrr8Y/j+LJiOSNj67ffYBRtYhl2xcyzIXeQmdBIv2z2MjqK5Pxa4\n",
       "HMXfUTBFMJzEwiLvKOe6ZbqJhqjx6sWC4hzbTPyTGB1Fe1WVRUiV7nGk5/zrB4R2E8IuG0SEiWVx\n",
       "2zzg+E+Cn4x/gNFRAPduf9WQDmfRMtkF3EGrnhn4/JOI9LxZFaIn3xj/FUalAO51tkjb4di8LUI3\n",
       "ZcxMCJdtE7Fl4Sh8JJhxlTR1xP8z/guMgwK4NxuFTXaIo/PCUbI7Co8ImH4tTKNEBikESsZIMCfl\n",
       "5MuWnCXd+/jvYgAK4F7pvBhR/IPDn9cEbp16LTzKpCj/Y8E2CPvM2PNxcSpjHmBUCuB+TUOhbI9D\n",
       "HU/t5y/OPcgp+8xYoRfyUpj5Ea6DXbEgeLnkrCD0epy7vLW6jB5iVIrmnkZi8zoBOCG/avopKPGn\n",
       "sqUVZyNhhcOimdmDGT0J5g56j3+P0Og3pe1djJ6iuV8cWcTWohOmO/dRCjrWPyjOBsK5SLTw/Iu5\n",
       "E4z/LLiNb8nZqLa7bvcwOgrgfq1hOjBgMk3QgspTL68Tb5OnOaTt8Dxsu+O88jrM3R5gSkjGfdUa\n",
       "9yT/v8IAFJ17VbdJhPsl7Q6UsfeDAgmbfbe24s5ytjUObUrVk7cvArMgeJXlxBwenH8zGI2id1+O\n",
       "deZjFO28CML/RmuKciwsRLqyiM1jvbakIzc3DW1pJbFy82i2Q7CZ0p1FsPv1/yxGo+jc84s88+dv\n",
       "KoA5nK8j9w7g1sF2nbSNut2c/9sY7VXLp27+8KowEjYjvjmbIZ+LfxqDny51ZHCDxAnXkoviLMjB\n",
       "x5k526gbrO1efP54jNHcW381uIP6K5TO5+JspDFpG4YfnJr4jvUYo7n3V1/Aht9frKyZSqzk+5o1\n",
       "c+4fYgD3cgv/H2AQIoMzty32AAAAAElFTkSuQmCC\n",
       "\" style=\"display:inline;vertical-align:middle;\" /></a>"
      ],
      "text/plain": [
       "4 not-in ({1, 2, 3, 4, 5} - {1, 2, 3})"
      ]
     },
     "metadata": {},
     "output_type": "display_data"
    }
   ],
   "source": [
    "diff_nonmem_02.expr"
   ]
  },
  {
   "cell_type": "code",
   "execution_count": 73,
   "metadata": {},
   "outputs": [
    {
     "data": {
      "text/html": [
       "<span style=\"font-size:20px;\"> <a class=\"ProveItLink\" href=\"../__pv_it/demonstrations/2f30cd411feb9f8861974f24784e3bd1669411440/proof.ipynb\" style=\"text-decoration: none\">&nbsp;&#x22A2;&nbsp;&nbsp;</a><a class=\"ProveItLink\" href=\"../__pv_it/demonstrations/e8b6e15095174585ab60bcc35dd959efabc4da710/expr.ipynb\"><img src=\"data:image/png;base64,iVBORw0KGgoAAAANSUhEUgAAAmwAAAAVCAMAAADM+UI3AAAAP1BMVEX///8AAAAAAAAAAAAAAAAA\n",
       "AAAAAAAAAAAAAAAAAAAAAAAAAAAAAAAAAAAAAAAAAAAAAAAAAAAAAAAAAAAAAADFBd4eAAAAFHRS\n",
       "TlMAInZUiRDNmWbv3US7qzLp8+P3ndw5NuIAAAAJcEhZcwAADsQAAA7EAZUrDhsAAAWdSURBVGje\n",
       "vZrbopwqDIYFBRTB7t36/s9a1AESCAedVbkoDI3hy89BwDUMLrGhnFjht1jX4Z8lNrJOy2cYwD8r\n",
       "xNkU5I5ob4nFbvD/O3UBUU7Gx8qDUqCf3pbLVfy4bNsZ4MG1WdPl/ilG9L9ynDdbHB+I9pZYHUFU\n",
       "uX9I3UgUgHxhnIKNIh5DP73tuHuKTac8TClpNlw1TcoQkyRpcNml1B9/xnYE9QVG8M9nnDdanB6I\n",
       "9p5YzSCq3EV1c3CCm5Q3AF0FIYO1zjtYoaiD7aSv31bJPcUwx//v8DmhTvR8TiUN6mXXk0At1NMX\n",
       "GNG/X4Zkxyz2AtwR7VWxQBA2DhWedSDJTatLgRPcBXkD0FlQYTJwon3c5cE2RsdT/ez5el4WuBwf\n",
       "BGKX2TKdNGiJSLvkeIARH50VzmvJC3BHtFfFAkHMYYjFJajOXVQ3Aye4C/IGoLMQHthmidvnRv/6\n",
       "T8Oolw79lrPC7mAjui7HFMj0yxr8ycHWwgD+F4HzSlpSITpEe1csEISvZDLvwMzdAe6S7BtsBHdJ\n",
       "3gDkCmNwPw2o/VVyMVj0Wga2lcl6/pfdt2wHkO4nkgZ/eGVrYAD/csZ5ZRcjMyGaor0sFghi+ryK\n",
       "1Uh0YOLuBL+xshW4CXkDkCsov2PkDLXPjneswPMr2Nb0+8yqPalYdSpf0uABP/PJ99S3g62FAfxP\n",
       "FueVt+iUCNEh2stigSD8iqbzDkzdMWrDWhlsBW5K3gDkCn7gMZfD9iVDr/1k1ihZx9h2/OTGbTrf\n",
       "0waPvYVzxT67Tr50DLYvMID/WeL8cKxBssU1sEe0l8UCQXyWWM4z/sydZFV1afCUm5Y3ALmCHv26\n",
       "muhGHNC87cCWuTHmLXGQHpP3QqbfJeI1J9jevhD6BgP4Hxecl5MX4I5oL4sFg7iuYMCtRYl7kHV1\n",
       "aXDqiJHLG4BcYbnmxsxw+9vipvT/v90/BmwLL1tm5VrHUIbaXCPLtMH47GfXKawc44kdLDR+0n+J\n",
       "Ef1vO84r54MV5T2ivS0WCuJYsEaV8WfuTvAzGZKbBCe5c3kDkCtc7bNzQQTtCwN2mKnWm4r3+xTG\n",
       "nMiynePDwNmaNXgYyEu/azRNsvWp5DuM6H9dcN472PpEe1ksFMRxhQvfkAXuC7yiLgWecpfkDUCu\n",
       "cK2sqz3SvtgJnpt14S0C7/cJjPOWmoEY99MG6Zc36KT4HHHS6+ty+gID+B81zst7Nvwa7RPtZbFG\n",
       "jW/8NpN1IOFO19UlwDPukrwByBUM2OQtYLC6beWa3nJG2/yAFWG2M4bjJC2Q33OBTa5rLHz0in25\n",
       "1Jl6DgiPMZD/2eC8Mrh5KkRbtJfFwkHw2a5kB2JueIionkZFmbskbwByBXje3yGoHNMjEbAFJ9tr\n",
       "1xCvvJlWR9Kgbp79DUxyM342GOqYOo8x4snVxz0M7D+70Ci3R1yStER7WSwchEiul0vcgxyrgy0F\n",
       "J7hL8gYgV9hirdl3G0e4sL/Tb/7R1vuydtmlPfz7b8KD3s8kYd3qwK5PtBqcjXyDoY4pZdWDb6P3\n",
       "MZB/veK8skvUqRBt0V4WKwlCjXQHJtwO3GTgwWsOTnEX5A1AR0FvBWXnP5NJPmAEW2IojMQei6jr\n",
       "NLu7sn3hn2mcV+8+tkSIDtFeFasRRJHbDZUMnOqCTsj4LEOF4vdn4lI52BIc1DtoGp6aPR5s9/3n\n",
       "H9fLqfnRXoqfpHweTIO/K1Fd0AkZnw1AV8HQf7vJqO2yt83v9wWxxSTqOs3Q9XU5PcYA/n2czPR0\n",
       "gBfgjmgvitUMwtz4Q13iI04nZCQKQJ+CoAEn6gbf2+b3+1STvKuKrBNLz98yPsYA/hvDpyDAHdFe\n",
       "FKsZhDD9g434iNMJGYkCkC8w0p7+Ku1tmbI3/r74bmJTp/eHGMA/ZzhvPsofiPaWWB1BMH7D80Pu\n",
       "SBSAzsJf6J5OEdmBGQsAAAAASUVORK5CYII=\n",
       "\" style=\"display:inline;vertical-align:middle;\" /></a></span>"
      ],
      "text/plain": [
       "|- (4 not-in ({1, 2, 3, 4, 5} - {1, 2, 3})) = ((4 not-in {1, 2, 3, 4, 5}) or (4 in {1, 2, 3}))"
      ]
     },
     "metadata": {},
     "output_type": "display_data"
    }
   ],
   "source": [
    "# Notice the definition is returned even for False non-membership claims\n",
    "diff_nonmem_02.definition()"
   ]
  },
  {
   "cell_type": "code",
   "execution_count": 74,
   "metadata": {},
   "outputs": [
    {
     "data": {
      "text/html": [
       "<a class=\"ProveItLink\" href=\"../__pv_it/demonstrations/6cd32d0ed08ba9043ceb1200a52de1a0631cd0ad0/expr.ipynb\"><img src=\"data:image/png;base64,iVBORw0KGgoAAAANSUhEUgAAAP4AAAAVCAMAAABRy6MiAAAAP1BMVEX///8AAAAAAAAAAAAAAAAA\n",
       "AAAAAAAAAAAAAAAAAAAAAAAAAAAAAAAAAAAAAAAAAAAAAAAAAAAAAAAAAAAAAADFBd4eAAAAFHRS\n",
       "TlMAiXZmMiLdVJm77xBEzavp8+P3ncFx5oAAAAAJcEhZcwAADsQAAA7EAZUrDhsAAAMHSURBVFjD\n",
       "tVjZopsgEJV9E9re8v/fWkDEYVGJNjwkkcDMOcyKy3I22PjRrOvyvcEEm1v4EAaQf6PIGviERf62\n",
       "q/n/rGliFAFRp2bkP4ZxyF/x9Tr4JFD+9kUr5Q0AJqVVtJlDSKreTlTWz9pby7M85e5JvIFR5GNy\n",
       "oUFC0MbmH4jnCSetr/UyFf/3FVcjE1bRCucNRa49R6ZWcTXewDjk2wsHqkBIsnTYcKPXpWDSuvLR\n",
       "qNJ427puS98NqM3QfwLj2EvkSWQp/us3B6D1hF6dnp2HKWXV0QotfUrs9+jfwgB79cj8q8VmcTB6\n",
       "hJ059vSX87QP1CbI0PJF+rcwwF6bZzAmZTmLIWEqg0k0oTfHjO9OkzfsMevpE4z2A39J/xYG2Isi\n",
       "DMZDZEhVjiS6Damqgi0EpL3WS31TTih2rjYEC8Ja+rEYsZyusL6n/wYGkE+iGB5tq8t62ydFvqdu\n",
       "psm1Xu5GVUrUrt/T385gMwvrC0XXvLyBAeSLcBKy3k815/zPT/hQR4rY7MKcXZdLvYcP9dloP3F2\n",
       "Rl/mdGWcFaXg8mPsTvQWxiGfhhDR9VqT6mZtgEw/dCugJRvoJS0rmiArYE+WvKyhr+xGfyOI7E0/\n",
       "+xLGIX/VoRzivuA32ac4P2zJer2pNWSw4vi0BtJfXRxeOwSPN2frtqM7HW9gAPki6M31oJw4xsva\n",
       "9AMKX6Tco/1MjLABU9oVr6tAbvMGpoPihkg/yvyTMCr5RO2Bgo70bEWTq7cC0VWNLVRLT8e4jIPD\n",
       "No+QveDWrZ9XcGdo01NGNk8K32cw6r2poCNECAbGMe6nuU5R3ul1LlxTXBS4X1W4T8OCqeBTAcl2\n",
       "1zjmwoF77zCcCtcUJx/0/J/DqOTzYZIhf5EKmRaYq2TdETZhZqZml31q/RfyGZ+46VeXg5FeNDU1\n",
       "u+wx/c/ly+GNlw2qpmLLWUtm8MzU7LKqozt/26H/g3ymxkc76LpMXjpoyQY6Rmonly1Gk4l3Vo9h\n",
       "APlq/Lpr+LaF4T1JObF8bzA0J/4pDCAfR/b/ALoKIYBR7pJWAAAAAElFTkSuQmCC\n",
       "\" style=\"display:inline;vertical-align:middle;\" /></a>"
      ],
      "text/plain": [
       "c not-in ({1, 2, 3, 4, 5} - {1, 2, 3})"
      ]
     },
     "metadata": {},
     "output_type": "display_data"
    }
   ],
   "source": [
    "diff_nonmem_03.expr"
   ]
  },
  {
   "cell_type": "code",
   "execution_count": 75,
   "metadata": {},
   "outputs": [
    {
     "data": {
      "text/html": [
       "<span style=\"font-size:20px;\"> <a class=\"ProveItLink\" href=\"../__pv_it/demonstrations/73dcc9cc13469e998f3dc5158f93dc4f27060dc10/proof.ipynb\" style=\"text-decoration: none\">&nbsp;&#x22A2;&nbsp;&nbsp;</a><a class=\"ProveItLink\" href=\"../__pv_it/demonstrations/611d4b209b18db4af08abe97efcc9ddbc2d8d3c30/expr.ipynb\"><img src=\"data:image/png;base64,iVBORw0KGgoAAAANSUhEUgAAAmcAAAAVCAMAAAA0GbnAAAAASFBMVEX///8AAAAAAAAAAAAAAAAA\n",
       "AAAAAAAAAAAAAAAAAAAAAAAAAAAAAAAAAAAAAAAAAAAAAAAAAAAAAAAAAAAAAAAAAAAAAAAAAACC\n",
       "gUnDAAAAF3RSTlMAInZUiRDNmWbv3US7qzLp8+P3neeRwauqSyUAAAAJcEhZcwAADsQAAA7EAZUr\n",
       "DhsAAAXXSURBVGjevZrZgqwoDIYLRBAEZ+bM4vu/6bhiQgKCVh8uOlU04J+PPdbnsyTxySbBf+3H\n",
       "8fNzSXSiruBDGaB9wft5z6Oe2e9iJZr0/zxbokt2+Wq6h9/OklKP/feRTZt7q6wp+Jr2H8u42h8l\n",
       "tndP7NqZ/S5WNS6UZH+bbYq2U6VK8NtZspujhMklaoQx2k9JnlLGM7NjMuirnbV2R3s+3Hv0RkZs\n",
       "Xw7Ylp+oPs3MokiisYVVgoplde9CSXaObbvsVM9ue114nIEex5LKHRnB6BmrEH79/4xA9WYTTqeS\n",
       "w4PJ2dmpHj+ilN7IuNo/Vx99P30jgHpm54MYjU2sElQ8K+BCuKagpPqr2T6STfRs1pRmAertWBIM\n",
       "ApmoCNtubC1agtfn9zNxUibwAjOGasbZExlX3cFgWxpBQ/rhlhl4UKqxhVWKimcFXBji6AIrjxla\n",
       "x9kj2UTPZm12h/bujz8d8NhWdLDdvocZnjdHu459wm4a9I+Ns1sZoK7tsc0nSz5QZAszXdlh9awI\n",
       "qgwr4MKZJ7gOZGQ79zXZVM9iu8xaOmrZfwLcha+SpYVk+1eYJ7rhp5NJfX5unN3KAHX1gG3+zKIJ\n",
       "CYoMMysvDNWsCKoMK+CCOrZe0zEdyMhuWM/q2QK0Jh4NlZRDrCvWPRXv56BkvoOPyTQTZ1zai1KQ\n",
       "cTZIdfbSy3F2KwPUVQHb/LapKAnAbENGzkCFDqtmRVFlWAEXznXMsR1IZDeMswa2AO055IRbBr7x\n",
       "cSQKtMnjyWJ0uYOnObliTzKE9IKytJbAW+/D4jhfSns/zt7IAO0PGtu1ZQdSIAB4ZhuyhBkUyXdY\n",
       "BSsGVYYVcOFYV6WkHcjJzrNtl031LNYd66pbB7uNlTW9gp0lP8IO5Q52gbsod8lWQOFtAPfJIObb\n",
       "SM8rGaD9zmKbP+B3yQfMTHPXViAys+bes8qhoqygC3t4BQYlSrLzbNtlUz2LtfucMLi1yS4T+a9f\n",
       "yx9/nf/2kiLo8VPs4GtVpMfHONJFBp45zpd90N11HwfLyzFp3sq42p9mbPPXgBF/wMw2ZBuz67lI\n",
       "JNthFayyqCgr5MK6UHWG6udkO/dN2UTPYo+HW1yx9+AomWCeDAjWMyqGFMm0DQ0PJ6nYZhOG5/VO\n",
       "YR9ISt+89ngp42p/tNhWjzPMbEOWMoMiuQ6rYMWhyrFCLqxBWbQpFmQX2D6QTfQsdl9M+3S7dSQQ\n",
       "dG0bMFhPVWwxZwH9m7cyaJyNYU2zDSBAbY97TBrrz6Y3MkD7ncM2ez5L9s2UmaPBMySS6bAaVhyq\n",
       "HKvOYUGTpx3Iyv58UzbVs1i/P/W4ksY1ZDk/jkng0svCRe8KP2841ptyzLIhLqpJlCvAqgrONlVx\n",
       "D3guA7U/eGzz41riDwmz9cg9mvuL28WggRVGlWOFXZBDGBn9jOya+2atbE7PYo+r577hquuio7v0\n",
       "hnhdmmFQYD8ixAi2cGZNDga1h+EMriSB7tmjqma7q/RP4hptMnDd87pv7l7+RQAZZsuhJEx5kanG\n",
       "JlYYVY4VdqHHodeC7BLbRtmsnsVOR6ZSwwDjdX34lbywnxwREYKddVhbP9/punlLGmSts9wcL1kd\n",
       "uP8YP89BgjxhTDAP3m+2y0DtuxHb/InQJR8SZn3w//Q5kVRjAyuCKsMqccF0rH4qe/yibE7Pat3E\n",
       "Ux3+Vh6/jYgluUHQ9TVZ1XmN61mrDFBXOGxLgY0p/ZCkf//z+Rc43+BS9uXOhZzsUX1TNtWz2dz7\n",
       "YxomjiW5DlZVWfV5D8dZpQy4tg/YFlIEUM+ME/mCS9mXOxcqfirwBdlUz249GxAWzKn4LMkE63tZ\n",
       "k1WdB2P92fRcBmj/9FP4CvoRVT0zKvIFl7Iv9y746p/TPpdN9RyWjaCkgSBUkgnWMw/kNNTm9bbi\n",
       "JyzPZYD2T/RVXRBR1TOjIl9wKfty70Lva8fZc9lUz2kFV5x9qXyWFCZU/wD4QRKqrvmnMkD7UmB7\n",
       "V1N+mpn9LlY1LghZ3e5rtgjt//pBTe3YTqO7AAAAAElFTkSuQmCC\n",
       "\" style=\"display:inline;vertical-align:middle;\" /></a></span>"
      ],
      "text/plain": [
       "|- (c not-in ({1, 2, 3, 4, 5} - {1, 2, 3})) = ((c not-in {1, 2, 3, 4, 5}) or (c in {1, 2, 3}))"
      ]
     },
     "metadata": {},
     "output_type": "display_data"
    }
   ],
   "source": [
    "# Notice the definition is returned even non-membership claims of unknown verity\n",
    "diff_nonmem_03.definition()"
   ]
  },
  {
   "cell_type": "code",
   "execution_count": 76,
   "metadata": {},
   "outputs": [
    {
     "data": {
      "text/html": [
       "<a class=\"ProveItLink\" href=\"../__pv_it/demonstrations/7945ee01eb1580e76bc6596968990c22dcad7b060/expr.ipynb\"><img src=\"data:image/png;base64,iVBORw0KGgoAAAANSUhEUgAAAXkAAAAVCAMAAACUnG6aAAAAP1BMVEX///8AAAAAAAAAAAAAAAAA\n",
       "AAAAAAAAAAAAAAAAAAAAAAAAAAAAAAAAAAAAAAAAAAAAAAAAAAAAAAAAAAAAAADFBd4eAAAAFHRS\n",
       "TlMAiXZmMiLdVJm77xBEzavp8+P3ncFx5oAAAAAJcEhZcwAADsQAAA7EAZUrDhsAAAOFSURBVFjD\n",
       "zZnpduMgDIXZd5iZDu//rGOc2OxLaDotP9qEI+SPa1mWCAC9QTtftTHgRw3K6Zrh95InmBNeq9Nv\n",
       "iF8frNE/S3lAnFxB+m7yiGnQ2C79xuH1wV/0hNX7aM1NTSiEQubRSIWwkkxiKLGRbr7xSL6JucDU\n",
       "cU1EgYnwwIVItdD2+gTZY8IJ64trtObA3ESLUxaeblKGK/lhbshsnlTDcdlsYq4w9VwzBwpMOwDI\n",
       "9iJwyX/ct8Y16jmDZyYoiK69TabcmQiVGnnKbF5RfhNzhamnSq08Fp2MKNmv3yzRQoFd5TmamRgV\n",
       "4ihTXp02ztOBp8zm08rPMVeY2qoQbCvlgWoFvbFIA5dmNG6/UPlnEk6jx50XcZ4MPGU2/0H5Fab2\n",
       "9iBoKG8f+4UI4dsjDTlI2yzZwC9W3rDGK4f5safE5j8ov8hUr0O0pTwMU5QdiVbI+26E5wlnLm3U\n",
       "Rdj3K0+Qc3XRQDyaKn/ZIDVXPpLvKz9nqtbRQ7tL+QQTBxoWIlrdPmz97mV34UEV/qJsw3sFwUj5\n",
       "y4bWy6taKJLvY86ZqnVBXFtj8uMmiNyWKMbYn4/jj4yvg2ctRZ01YFV5wcJQ6vznZo+xKqfjQ9jz\n",
       "lNpoZ3ksgVkcpEG+jbnAVK7DNFE+wSRH2lIyr0nPujUPoUv5oyWI3eK7Yp6c4sgianHVG9XxldhA\n",
       "OzkYSMl3Y36FqVhHT4Nb+Yhp1FFJo7qQL15YMdsk3eK7lPfnRKH82TPTcQWX2HA/PxeQ7pPKrzCV\n",
       "64wLwysHC0x+SPys5+6YQQiYos6XaFDb6D3lb0Pl7mwT2/sTFOmRp9QGLrxh92obDV5haqvy3GKG\n",
       "ieWVvGAsLiwvKw3oGvzw0VRk3Sf0dLalahnGVz1/z1EmwmAjT5nNi1XlDuYKU0cV4GWFcBbqEGKc\n",
       "3krtPopDPcIqfueUty6Ixu4zojjX738ay8yxoceJ2TXH/DnsyFNm85Lye5grTM3tHaHtvUMFJmu+\n",
       "l/BfKI83dnIRRhqRc19+lGN590C0tWzkiqOleN6zeQ1zham1LiLQNkx9kBYPeBr8cLRf0z0PhYtz\n",
       "c09vUP41zBUmOEQQuHv+WhYGV2Ksu0WNwM5oLdt0lfWn3bHS574PqbnuxmxJXBfzscpvd4ubaGhx\n",
       "bmmbCs+NFvrcNyKhIaZs/x7Y/H2HXq6ocBz8qEHhGtE3kyeYKAj/D/wlKrODzoQPAAAAAElFTkSu\n",
       "QmCC\n",
       "\" style=\"display:inline;vertical-align:middle;\" /></a>"
      ],
      "text/plain": [
       "c not-in ({1, 1 + 1, 3, 2 + 2} - {1 + 1, 2 + 1, 4})"
      ]
     },
     "metadata": {},
     "output_type": "display_data"
    }
   ],
   "source": [
    "diff_nonmem_complicated = Difference(Set(one, Add(one, one), three, Add(two, two)), Set(Add(one, one), Add(two, one), four)).nonmembership_object(c)\n",
    "diff_nonmem_complicated.expr"
   ]
  },
  {
   "cell_type": "code",
   "execution_count": 77,
   "metadata": {},
   "outputs": [
    {
     "data": {
      "text/html": [
       "<span style=\"font-size:20px;\"> <a class=\"ProveItLink\" href=\"../__pv_it/demonstrations/952c4f368901e9905e7ba03f35ac7b33f1ae47070/proof.ipynb\" style=\"text-decoration: none\">&nbsp;&#x22A2;&nbsp;&nbsp;</a><a class=\"ProveItLink\" href=\"../__pv_it/demonstrations/19eac07038ca7a42cb1c5e6daf2e65f499b9cef90/expr.ipynb\"><img src=\"data:image/png;base64,iVBORw0KGgoAAAANSUhEUgAAA14AAAAVCAMAAABhcc/yAAAARVBMVEX///8AAAAAAAAAAAAAAAAA\n",
       "AAAAAAAAAAAAAAAAAAAAAAAAAAAAAAAAAAAAAAAAAAAAAAAAAAAAAAAAAAAAAAAAAAAAAAAeYafp\n",
       "AAAAFnRSTlMAInZUiRDNmWbv3US7qzLp8+P355HBP3RuygAAAAlwSFlzAAAOxAAADsQBlSsOGwAA\n",
       "Be1JREFUeNrVm9uWpCgQRQUVBcG5dI///6mTaqIEBEFopanNC6tcAXkOWy4CVVWvJKpsEvif7TBU\n",
       "z0qiFrzAe6UHMgXexGUWfFyPxiQOWP6Tsco6X0614V8+UqqhfRi3anSWo+lu6bvMQcK8qLw+jOvR\n",
       "mBi+Kat/Cta6oUqFf/nIetqsjCZxhTyqijGiaTobjT+i65QdC8NGEGNduRl26adksjRlqh67SKbs\n",
       "YV5Q3hzGRXq9H1PRN2X1Bqx43QWsrSIq7MKm3CIb837gOjXBX0QepfM4Uqxb2ggMVsLOPzWRcz6I\n",
       "8bKo9I45KZOjKVu1cVUk0881ijHw+sbn46K8PgPT7tvt47VM37cnYM3WXcDaUWMIeGG3yOA9lukv\n",
       "po+GvhQjZ2TtBNrTLatXramqQMyB7nVSJksT2iivhymHvoM5lXzj83GRXh+Baffdb50qmEO6/mj3\n",
       "uhYr3owFrDq3mrXG/PV32JK6Otm9almKGfQ8ckBueolxkyCqAjE/7V5lmSxNOIaxVwmHSrcwJ5KO\n",
       "IRRxHe5e38e0+/bPhELeN8SqMerrWLFmLGGt8Rl4UPIV48Ll6B75+e71XkCD8cItv+KmkagKxHyh\n",
       "e3E04e6aCuGgepgTHxcqhlDCdUX3+jSm3XfzXnB2NfK+IVbvwIo1Rwlrt30+NlL24zaItMniN4i8\n",
       "pHsNBnvJzFSoao/5QvfiacIaRWAcGgdzYm3YJBAKuK7qXp/EtPv2s5ZB37fE6i1YkXJFrL6nCfMa\n",
       "Nzrr+5+AK2I41HTq891rlM4hWzfjJIvcfIzUjE8Y9XMORU1pMfFqO88hkNkrmM8CTZBcdp4r46K9\n",
       "PgNT4HutVcr0fcOs3oI1LVfGat6zsZnHCu1rVMiOlo+shO4vWhzW2X0ZipuPEVPxmCSQfp5DUVNa\n",
       "bG5clcqsNcyJTYs6you4aK/PwBT4Xs8Uwp1vyuotWNNyZax63Y3sQMlRz2PnP/8aY4PvvzVSODVU\n",
       "3O61jsVaR2NxxqBOnna2WFUQ0zpVb5u6wSSwLSxC6adlljUlxXoRcAhkjhPMiZ2NAeRlXFmvT8IU\n",
       "+p6npbpLLWNW58Sw+mGsSTkG1rcJbcEevw0/NyPCYxdcj/jQ7DUuPcDG42KffJOkVQUxjSpcjAml\n",
       "nx3mGJriYmIJ2DjsMgcNc3b3YuCivT4DU+h7PkMGKz/C6j1Y43IcrOsU3EbrThN9ZoLFYXg94kPd\n",
       "a1r+jrktp/aC3i0NYuqpvL+9Sz/JgaMp2c92c5q0ayKZtYF5/tsLLg45uGivz8BUG2BitOn7hlq9\n",
       "B2tcjoPVrpW8N1t9/5s/MYfosNNKYuewPcfNR2q3rTr2wuMiG27DxlWFMQ1ja+PcFtMxTVijbB6B\n",
       "zN7CnBgWJMgZuDCvbfUsTMC37N2AWEas3oQV50pjfW8irivPZtsUei0j4x2ifRc13INcj+LCk/xm\n",
       "EkWDcbG+r94HKntNwnRzMlRVIObYxvwZmSxNaKPM74lNWi/dbs/qhlv4DFyIVyDoCZiA7xaeFBNW\n",
       "b8KKc6Wxju+nTdP3Qe9tnf0VDQOjScw4pyfl5jY3fs9nf5QXihQbXu7Wu6LbIzMtSVFVgZgj3euk\n",
       "TI4mpNjylkyTk5FMM8Cc+Go0MC/jwrzugp6BCfruatRyanVob8CKcy1iNZmLwr//s9HVky0Se49r\n",
       "4runzv/rAVKMqomq6uDs9VOZnHI1fQQqDMzJnfkxglDEhXk927bXYCr4zlkdGo7VC7Gi5TJYc/dJ\n",
       "09PxLRIzQy1vhvydn+ZYTVRVP+5ex2RyyjW0BNY13ajx+bgwr2fb9hpMBd+cm863YEXL5bBa9Bxc\n",
       "IF/bPhK5HtHK6kxCip2sqQKXSbKJc7OjutBdKNM3sbCcynzj83GlXs+27TWYir4t+5+Vv4oVL5fD\n",
       "ih4lxKcoIBK5HnFSqGQ9YprWjEmAcbOj+pgmScukO0yu8fm4Uq9n2/YaTEXfreVW+lWsaLk8VoGF\n",
       "o5dMfaToXF09K4mGJ+lm6YFMKWBeLCoP43o0JoZvwe4AD8X6PxM1XkasHzt0AAAAAElFTkSuQmCC\n",
       "\" style=\"display:inline;vertical-align:middle;\" /></a></span>"
      ],
      "text/plain": [
       "|- (c not-in ({1, 1 + 1, 3, 2 + 2} - {1 + 1, 2 + 1, 4})) = ((c not-in {1, 1 + 1, 3, 2 + 2}) or (c in {1 + 1, 2 + 1, 4}))"
      ]
     },
     "metadata": {},
     "output_type": "display_data"
    }
   ],
   "source": [
    "diff_nonmem_complicated.definition()"
   ]
  },
  {
   "cell_type": "markdown",
   "metadata": {},
   "source": [
    "###  `DifferenceNonmembership.unfold()`\n",
    "\n",
    "From something proven or assumed of the form $[x \\notin (A - B)]$, derive and return $[(x \\notin A) \\lor (x \\in B)]$, or, for the special case of $x \\notin (S - {y})$, derive and return $[(x \\notin A) \\lor (x = y)]$ (if that theorem is usable)."
   ]
  },
  {
   "cell_type": "code",
   "execution_count": 78,
   "metadata": {},
   "outputs": [
    {
     "data": {
      "text/html": [
       "<a class=\"ProveItLink\" href=\"../__pv_it/demonstrations/83b01c83bae2063e9bbc88e6e11eac614e8751480/expr.ipynb\"><img src=\"data:image/png;base64,iVBORw0KGgoAAAANSUhEUgAAAPkAAAAVCAMAAACzF7hbAAAAP1BMVEX///8AAAAAAAAAAAAAAAAA\n",
       "AAAAAAAAAAAAAAAAAAAAAAAAAAAAAAAAAAAAAAAAAAAAAAAAAAAAAAAAAAAAAADFBd4eAAAAFHRS\n",
       "TlMAELvv3c2ZVESJq3YiMmbp8+P3nWKd8BMAAAAJcEhZcwAADsQAAA7EAZUrDhsAAAL5SURBVFjD\n",
       "tVjrmp0gDOQuEKHtlvd/1srKVQNy3K/+2LNGMkxizEQJGR374JxqTf7XsW/70rpXHCr4wyaSdqew\n",
       "pV+p6X+LnDjLFtBfcijgGs78MS7QZd3pZtJvGO45AEI5SK4Gl5h99J5weCCRwcGnu4uxUF09UZn+\n",
       "MbPgpFrOf9gGF8xz9uZLZiSKZypolEWPrvzKrsNwboce3rYfRz4jUTy9wlkAE79+C9lY+MquOiw/\n",
       "fWOYn0Y+JVE9OUWAtARKrOueLLmyqxHLxT4uyZ9GvnhRxiKWFsDWEtnjM0BlX+zm5rtbAzv04fRA\n",
       "53oA73pxORzdpSTpsUzRjyNHOMxJVHBz9DoajlBpKBon43/+EpMvOUgp0fxYxrrKugJFauLgoFhX\n",
       "UXdHosXBy53ZBf4Y+YTDA4kK7mXWCF5ClYiYi5zEnZ85oN+/StzFhrc5E+ZqSY5dSe0h2kCnk6c2\n",
       "OePwQKKCbzyzCLmeHRdC/Pk6/jS3iidWViatU6FgXm5FaGzq3m0wRxYAwGQVpVZuWUpFPVyp8BmH\n",
       "JxIF3IXkqksyaAzYXPKeIidOpSmIs+/K6jT/ApRXXZAQx9ANL0bOJ9MphycSBVzzpH9NYsRNzJtq\n",
       "T1MQDbF4fLgLaZvhc1XfylBHWBzQnjk8kKjg2xFicPmRSWIORF81h0HfV+n3BlaS+BKQwSpQsZyo\n",
       "ulpQx1SwZ3YNX+ztKNSURAvuj0qwxxXWhiq3XsyTBnSKElOxCUXUdzc9LxWgYjkbqnHVgjrGPkuo\n",
       "2j9UNQxqRqIDjzpNrVG+q0j7dX0VcuKyK7Vg3G4h4glBky0DZQsxxnugrQVzJBCXfTzJoFAzEi24\n",
       "QJuJ/2vY0U1b5SmtFSO20TeWgfHlDIdAIaY6A4mVN/M64Q92Na8sA+PLyM2aSVzfwPpJgWH9NE1F\n",
       "yIhF4Y1lZOyHHPzDxAoHFD2DoyHexbzKPD5i3XdYsQyMrcoMh7gVDpipgDP8exT+USS/GezKLr+F\n",
       "f/6pzCyBv+NQwSEG/g9JmxzDdX2hYQAAAABJRU5ErkJggg==\n",
       "\" style=\"display:inline;vertical-align:middle;\" /></a>"
      ],
      "text/plain": [
       "b not-in ({a, b, c, d, e} - {a, b, c})"
      ]
     },
     "metadata": {},
     "output_type": "display_data"
    }
   ],
   "source": [
    "diff_nonmem_01.expr"
   ]
  },
  {
   "cell_type": "code",
   "execution_count": 79,
   "metadata": {},
   "outputs": [
    {
     "data": {
      "text/html": [
       "<span style=\"font-size:20px;\"> <a class=\"ProveItLink\" href=\"../__pv_it/demonstrations/4c410b7b763ca7311923de3cb7bbc9faf3c565d80/proof.ipynb\" style=\"text-decoration: none\">&nbsp;&#x22A2;&nbsp;&nbsp;</a><a class=\"ProveItLink\" href=\"../__pv_it/demonstrations/cc99af530b3c514da239e26045f467efd646affa0/expr.ipynb\"><img src=\"data:image/png;base64,iVBORw0KGgoAAAANSUhEUgAAAScAAAAVCAMAAAAzQdhhAAAAP1BMVEX///8AAAAAAAAAAAAAAAAA\n",
       "AAAAAAAAAAAAAAAAAAAAAAAAAAAAAAAAAAAAAAAAAAAAAAAAAAAAAAAAAAAAAADFBd4eAAAAFHRS\n",
       "TlMAInZUiRDNmWbv3US7qzLp8+P3ndw5NuIAAAAJcEhZcwAADsQAAA7EAZUrDhsAAAN+SURBVFjD\n",
       "tZjrdqUgDIUBucjNmenw/s9aVASCATmu1h/tMULymUTYSkg8KOke7SVhLfmtgy60E3WGrH+8YkZg\n",
       "2NIfLgU4ZdKKX8sT2bw7vVv2OHYETX6C+Qaz8D3nTht0MDhdQjdixwHmU2rVu+ZSPLY+OBlBk1nm\n",
       "BwcQRsjUORi8gh3LR1hSzZYqdHshByh97POvrXTZEJrMMw8dQBi1DuDNBzHD7JNg+xXOAdbMv+bs\n",
       "uK3Ub52OOc7TyAGE0T145syfv0bOxhzc/Tx5uaRFWytaofSgI3M8ppnH0ABmkbg7K5kgfpuvDTez\n",
       "j92g14sTmVconkquSuk70AfzR1yTFyOM4umnZ8wXEro/k0L2ZlLPGYWbUuPgHM/YClK9z9vaXhdx\n",
       "mBINGvek6aPqlnBoKsXobhHmMTSASXUTIQYRIWsFScHScPElZKvjZQd6tnWwg5lIoFxd8Pu8aDSR\n",
       "ajvvnOm8LJUanV3NKhgcWqKSasD8AA1gzFLtnjqzSEQ8EaoT3/Ffmfv2q+vMGt5Y0jzYpTTsRmbT\n",
       "yVXcRTfixFQwOLRE9eKA+QEawGhbZT3wC03H5fDfV/zjqmdGJpWgQvbYlC1UNnVbI7F5scSMMX7p\n",
       "D+HlCbeFqn1iwZd6UUOhD+bjmGV+gq5hUsjDgc0JFK5aQHNdVVKo2h09C7RV4+AaBQ5sHglAyvLr\n",
       "vqyGohI8VCi0cJioHTE/QdcwqYWPsVUyzV08ZYUqwt6Wa7gLkboa5yi4GiDzCBhWxPNigIzbQBJw\n",
       "aDNQ1Z3YQ2gA484LYbse4SREGLGqs3eIw72XZH9VvFwVB9lyerPZgs67HoXzznlZOuvEsNWDRsCh\n",
       "Gevv7njsEXQDk/ZfH6+7OjFyacVT2Sl3zMUooo4dg0AH2XJuGnwrFmzeubEJRRtdoOqVREDp2IOW\n",
       "S18XoLEH0C3MZtKSxRV49xT+6/6aza/BjG/Us92bSftQcXBZCOfregi/MuY+L7bBPuwm7QxoIAUz\n",
       "0IEW3n3EPIRuYcyGq9H1P3cz7wCLeGPBbZUoHKv7HrR9y4yZIMyqpr48dWPyVxbcVgKo8YeVdfrb\n",
       "xCQzaoIwDpWxFNtlmb5/wmFvLLitaFA0OljJpz9nTjGjOA0Mqjtu4qmRywWDvLHgtrJ5PaZBuNk8\n",
       "TTFjphsMxZg9HlT56e+tn3+S5pdz9twtlE27fcXcwHwDgYcjHD2X1zgAAAAASUVORK5CYII=\n",
       "\" style=\"display:inline;vertical-align:middle;\" /></a></span>"
      ],
      "text/plain": [
       "|- (b not-in {a, b, c, d, e}) or (b in {a, b, c})"
      ]
     },
     "metadata": {},
     "output_type": "display_data"
    }
   ],
   "source": [
    "diff_nonmem_01.unfold()"
   ]
  },
  {
   "cell_type": "code",
   "execution_count": 80,
   "metadata": {},
   "outputs": [
    {
     "data": {
      "text/html": [
       "<a class=\"ProveItLink\" href=\"../__pv_it/demonstrations/3e01adc67d7bc0753192a717ccb7862b02a3e0cc0/expr.ipynb\"><img src=\"data:image/png;base64,iVBORw0KGgoAAAANSUhEUgAAAP8AAAAVCAMAAAC+CcgcAAAARVBMVEX///8AAAAAAAAAAAAAAAAA\n",
       "AAAAAAAAAAAAAAAAAAAAAAAAAAAAAAAAAAAAAAAAAAAAAAAAAAAAAAAAAAAAAAAAAAAAAAAeYafp\n",
       "AAAAFnRSTlMAMpndq3ZmzYkiRO+7EFTp8+P355HBbXmEaQAAAAlwSFlzAAAOxAAADsQBlSsOGwAA\n",
       "AyZJREFUWMO1mNmCpCAMRdkXAXtW/v9TBxEkRKxCp5qXblOYe8ISgoRcNzt+DMtCvq/Z1c51fIYB\n",
       "3L/V0QE+ybX81Uv4fNg0h7QhUeFn/D/FaO4XCaxs1BM+rab8jVWWcgxgGdOeIpsxzJ9nCgu6qDUv\n",
       "Dr14H8ZNDEhxuJfq+J0PJBmkDrr8Y/j+LJiOSNj67ffYBRtYhl2xcyzIXeQmdBIv2z2MjqK5Pxa4\n",
       "HMXfUTBFMJzEwiLvKOe6ZbqJhqjx6sWC4hzbTPyTGB1Fe1WVRUiV7nGk5/zrB4R2E8IuG0SEiWVx\n",
       "2zzg+E+Cn4x/gNFRAPduf9WQDmfRMtkF3EGrnhn4/JOI9LxZFaIn3xj/FUalAO51tkjb4di8LUI3\n",
       "ZcxMCJdtE7Fl4Sh8JJhxlTR1xP8z/guMgwK4NxuFTXaIo/PCUbI7Co8ImH4tTKNEBikESsZIMCfl\n",
       "5MuWnCXd+/jvYgAK4F7pvBhR/IPDn9cEbp16LTzKpCj/Y8E2CPvM2PNxcSpjHmBUCuB+TUOhbI9D\n",
       "HU/t5y/OPcgp+8xYoRfyUpj5Ea6DXbEgeLnkrCD0epy7vLW6jB5iVIrmnkZi8zoBOCG/avopKPGn\n",
       "sqUVZyNhhcOimdmDGT0J5g56j3+P0Og3pe1djJ6iuV8cWcTWohOmO/dRCjrWPyjOBsK5SLTw/Iu5\n",
       "E4z/LLiNb8nZqLa7bvcwOgrgfq1hOjBgMk3QgspTL68Tb5OnOaTt8Dxsu+O88jrM3R5gSkjGfdUa\n",
       "9yT/v8IAFJ17VbdJhPsl7Q6UsfeDAgmbfbe24s5ytjUObUrVk7cvArMgeJXlxBwenH8zGI2id1+O\n",
       "deZjFO28CML/RmuKciwsRLqyiM1jvbakIzc3DW1pJbFy82i2Q7CZ0p1FsPv1/yxGo+jc84s88+dv\n",
       "KoA5nK8j9w7g1sF2nbSNut2c/9sY7VXLp27+8KowEjYjvjmbIZ+LfxqDny51ZHCDxAnXkoviLMjB\n",
       "x5k526gbrO1efP54jNHcW381uIP6K5TO5+JspDFpG4YfnJr4jvUYo7n3V1/Aht9frKyZSqzk+5o1\n",
       "c+4fYgD3cgv/H2AQIoMzty32AAAAAElFTkSuQmCC\n",
       "\" style=\"display:inline;vertical-align:middle;\" /></a>"
      ],
      "text/plain": [
       "4 not-in ({1, 2, 3, 4, 5} - {1, 2, 3})"
      ]
     },
     "metadata": {},
     "output_type": "display_data"
    }
   ],
   "source": [
    "diff_nonmem_02.expr"
   ]
  },
  {
   "cell_type": "code",
   "execution_count": 81,
   "metadata": {},
   "outputs": [
    {
     "name": "stdout",
     "output_type": "stream",
     "text": [
      "ProofFailure (InstantiationFailure): Proof step failed:\n",
      "Attempting to instantiate |- forall_{x, A, B | x not-in (A - B)} ((x not-in A) or (x in B)) with {x: 4, A: {1, 2, 3, 4, 5}, B: {1, 2, 3}}:\n",
      "Unsatisfied condition: 4 not-in ({1, 2, 3, 4, 5} - {1, 2, 3}). For debugging purposes, this is accessible via Instantiation.unsatisfied_condition with applicable assumptions in Instantiation.condition_assumptions.\n"
     ]
    }
   ],
   "source": [
    "# This should fail, since 4 has not been subtracted out\n",
    "try:\n",
    "    diff_nonmem_02.unfold()\n",
    "    assert False, \"Expecting a ProofFailure (InstantiationFailure); should not get this far!\"\n",
    "except InstantiationFailure as the_error:\n",
    "    print(\"ProofFailure (InstantiationFailure): {}\".format(the_error))"
   ]
  },
  {
   "cell_type": "code",
   "execution_count": 82,
   "metadata": {},
   "outputs": [
    {
     "data": {
      "text/html": [
       "<a class=\"ProveItLink\" href=\"../__pv_it/demonstrations/d02a98bf8cd7ade32588a6fa482005593491abbc0/expr.ipynb\"><img src=\"data:image/png;base64,iVBORw0KGgoAAAANSUhEUgAAAOsAAAAVCAMAAACQTOmOAAAAP1BMVEX///8AAAAAAAAAAAAAAAAA\n",
       "AAAAAAAAAAAAAAAAAAAAAAAAAAAAAAAAAAAAAAAAAAAAAAAAAAAAAAAAAAAAAADFBd4eAAAAFHRS\n",
       "TlMAIomZu0QQVHbN72bdMqvp8+P3ncdxcugAAAAJcEhZcwAADsQAAA7EAZUrDhsAAAMPSURBVFjD\n",
       "tVhpe6QgDOYSuaS7Xf7/b11ABRKjQ+fp8KFTEd+DI4kydtv4zbVeFva5xlc+N3BCRsd6hWk1uDTr\n",
       "8WsX/fsWtyq/SNqimsGfktGwFnN4FkKqhRgHLldx/KaTYguYjEtp1Qa7aHC2SXjtkrXhAFTxtdVH\n",
       "GQPniWV8nUxZH10xmgQKtT3+EWG/jtImRMJVuZ/G5+7AWUB+gktBaEDx2B5kAM6GVXepKb062Ysa\n",
       "6NwzLMRgklhPhXPjTrsBN9hrvPqY8UrJAJxtnC8zsLiyEFCOUeHrTxi73ASJqx0xDYGAAi/7ztvP\n",
       "eQWcfZzTbfv7YbA1mkVw7lY7QRLrrZi2y9nyWCn7oFfA2cfZQ8QSBjW8bG0Nl0KKWRIWEuoA4PuT\n",
       "/OrVG3FO7y94bZx9nKiMm4njKtqyB72B+afJlfbZ65bgkwi8TmYGw15LbuBHWDPutddHGQNnx/K2\n",
       "LXkPlZZIruG8zZ1/9hoisZ9WtIOvXnfD+yJwIm7jtPJKxsnZsVYH40qdFBdC+Pud/6gh7OwzzqNd\n",
       "2COJVASxAyM9v/Mqj7Cmo11brgu9nfvjtYzO2bC2fLa2iqCaf12zJJrZw2suAXpRQ5F4ZAGDF6F1\n",
       "jyOvyu5edzfCvij/HmVAzoa15HVNdewgJ1yS67CHh6KG8FqLKz7knAt45oylJRfFOJdHCEc10X17\n",
       "kAE4O9aaKVxE28wYtkgMbe4DYKfaqnyje98ADhXtN/R4hHPnfgCEeycOa3blHLF8Bvcep0C74sh5\n",
       "BGwUxPfT1asiHmRpYejr4Kh4Sgo+KmvM1G/knIsMYKiPq2lzyfpAea7jN36H2AImiTGX67EAniV7\n",
       "zqy12bGvg4ehRpcqpWjGvvzaEOXP62FKBjDUsQIdA/w/oXLYGxeixUBCyEocL6JvcthP13USi4ep\n",
       "N9dWOt+QCIqDvTvsba/PWNLTiZrKkYqzm6JGG+KjgWFvDgM10cOruvsZFumJSK497ZJFDcVhprrI\n",
       "Pqadn/hUMyWjY6mbrzD0ZwF+fsaQcWWfa1zMwc/I6FimWP0POGIgVi/t0hMAAAAASUVORK5CYII=\n",
       "\" style=\"display:inline;vertical-align:middle;\" /></a>"
      ],
      "text/plain": [
       "3 not-in ({1, 2, 3, 4, 5} - {1, 3})"
      ]
     },
     "metadata": {},
     "output_type": "display_data"
    }
   ],
   "source": [
    "Difference(set_12345, Set(one, three)).nonmembership_object(three).expr"
   ]
  },
  {
   "cell_type": "code",
   "execution_count": 83,
   "metadata": {},
   "outputs": [
    {
     "data": {
      "text/html": [
       "<span style=\"font-size:20px;\"> <a class=\"ProveItLink\" href=\"../__pv_it/demonstrations/abbcdaea05c4c95e7cdde40df516f1e111e4be1b0/proof.ipynb\" style=\"text-decoration: none\">&nbsp;&#x22A2;&nbsp;&nbsp;</a><a class=\"ProveItLink\" href=\"../__pv_it/demonstrations/7e161fd7e1b95e3b09cc0b26dc9994715cdcf7230/expr.ipynb\"><img src=\"data:image/png;base64,iVBORw0KGgoAAAANSUhEUgAAARsAAAAVCAMAAABBjrrXAAAARVBMVEX///8AAAAAAAAAAAAAAAAA\n",
       "AAAAAAAAAAAAAAAAAAAAAAAAAAAAAAAAAAAAAAAAAAAAAAAAAAAAAAAAAAAAAAAAAAAAAAAeYafp\n",
       "AAAAFnRSTlMAInZUiRDNmWbv3US7qzLp8+P355HBP3RuygAAAAlwSFlzAAAOxAAADsQBlSsOGwAA\n",
       "A6BJREFUWMO1WNsSnSAMBOQiCPbO/39qBT2ahIC00/pwZuTI7iYkISDE8UgxeMifZtvE/3vkIju8\n",
       "M9pGz4RujlwtoxnWwDdlN/PvXbJX9UXQnuKFv6nXaWPh4o91t+SLrp7S2sWN+x6+LfnDsAfKJZ2z\n",
       "cSdjPOru8LvP1oYLMH4I1fpiyli44HW3wiEAITe2/rqK0C6EQ7Q6nAGanM2UIpb/M/q8hxoSefc5\n",
       "aIMoUMSmx7Inml6EC0Y3JxwBEHJXPaTKnybbBjWwHGUC8U2qOeo9imQeVVHfJJZivaNrvT0CAvNF\n",
       "eEd3IxwBEPLTmM2XBccUKobw5aud9I2vAynD+sihHmu/2infCG/oCkkANRYegp3zDQLA5IuFWQlS\n",
       "fLPqAEn7dNzUv1Le21wnhUOLSd/Ye6K+csY9ufMifDpuEAAmd/oBDYBB1oQzVsz65lrgTEcQap0p\n",
       "W9+sSn9WAcjTSZB4ARk+Fv5nvrkBMPm9NrtKMEisxIl+CbJj3+yZTCCoRftBSH1Ttk55lXH1VKz1\n",
       "WZkTRAH0sXDR080IBwCYPCwwsp4XyzQ3Qvp17BtaZEW7iZTltsxnIp5rJp/PF09aCbj9joWLnu5e\n",
       "Ti0Mud+aelq1+FLOvn0PIT4MyW5jChe5PPPw01X2fOOuMm6SXT5RiMNhgW3RUHh5Iqu7s6gfAER+\n",
       "Uew1qOLtNhNhCbxbtmhGFCs1maIeOmtWEN9Ee/rmDGx9W7J53OihdBkKF13djXAMgMiv0Mx1BrAi\n",
       "tM0N7Bs539Q+VUL9DarYUnmyTxqaeW1xtIVdAmq0dmT2UHhfdyMcAWDyeJY3n0j0l7K3uX69/1A8\n",
       "RHs1t+yf9xhARYLOcQNL0DF4mq5BOYTOUGtCPfdI+Mw+ZVqNlPzaJ9eVtglH3qW9z6HP6vB0pDK4\n",
       "8gQ49qDizjVHPNXVLcJQMxwMLhNwlR0JH/mGCkcAmHy/3rbDLnRkMyn+6PZQKR3Hw1TwPkfEo7Op\n",
       "j4VjAPUZOyp2zknBoeOYmlxznhIBBYojxW8gvDlz36CMcAhAyMPeO4T8/BVJ6w3n3nnJbYlzY9xn\n",
       "gEKG4RmpL3zTsX9mGLIT8tXN3dz0ODRn39yYHh8L3fiSoi9czOjmRRLy2Lk9k8xuqHxzn8aUvskx\n",
       "w95e3S2sjC8Gx/lrv1Y3z07JTUeDZmqabC5KOIbJMdY15m5hX003cdo3rW6WvSWX/O1jYklcmr+I\n",
       "/Iv7Yn3Dq/eokGoeeEI3Jf8NmA0m7UvxjbUAAAAASUVORK5CYII=\n",
       "\" style=\"display:inline;vertical-align:middle;\" /></a></span>"
      ],
      "text/plain": [
       "|- (3 not-in {1, 2, 3, 4, 5}) or (3 in {1, 3})"
      ]
     },
     "metadata": {},
     "output_type": "display_data"
    }
   ],
   "source": [
    "# Notice here we don't need any explicit assumptions\n",
    "Difference(set_12345, Set(one, three)).nonmembership_object(three).unfold()"
   ]
  },
  {
   "cell_type": "code",
   "execution_count": 84,
   "metadata": {},
   "outputs": [
    {
     "data": {
      "text/html": [
       "<a class=\"ProveItLink\" href=\"../__pv_it/demonstrations/a58c05e7ae4aa3574fb78eeb856b0280c17414a40/expr.ipynb\"><img src=\"data:image/png;base64,iVBORw0KGgoAAAANSUhEUgAAAQ8AAAAVCAMAAABvy5tFAAAARVBMVEX///8AAAAAAAAAAAAAAAAA\n",
       "AAAAAAAAAAAAAAAAAAAAAAAAAAAAAAAAAAAAAAAAAAAAAAAAAAAAAAAAAAAAAAAAAAAAAAAeYafp\n",
       "AAAAFnRSTlMAIomZu0QQVHbN72bdMqvp8+P355HBtCoYgQAAAAlwSFlzAAAOxAAADsQBlSsOGwAA\n",
       "A1FJREFUWMPFmFeW5CAMRU00yfRE9r/UARwQWGC6TnUPP1WWsXR5JMGy9AvBH6UQy9cVspK5im/C\n",
       "KPEe42oJn9R6/Goh3y/DlpuYkDbPZ/y/DeOKJ9ShC6WMC6wifFrp8RtOjM21QIQxzbfa1HPO6mcT\n",
       "tHaHQ+6fWzHCwG191DOesrlTWHa/3j5hsBlSH3+o258906EJSnh6H6rPes5d02ZngqOyCjEsAwzM\n",
       "dpMDol7x8oRQiVYGfUeuxLFLC6vaoD7PQGPgqO44V60e/t7WGT0wDNQmbB/18mVT7wmTVKqRFXfu\n",
       "4wc0mQkQkw0+gIUJc57Gs9XfrMeq+qjFl5HXdAT6Ca2i3cOFYNUTID6/8mG7zXXbtmb5z3pUqMWX\n",
       "PkCFA8QkTyNZ9SmjcyBpmoV2qLpWDkXuelhFzx74Bj0q1OKLZqpNeTgYdB5EtnKgryYxPdZjC3Xk\n",
       "xnkWPDpr9Uh7HjnWN2We9RhjzOlxopZ4Vl9DumwBGkk+3PmaGDvWw3lkb1yb2XLXYxdl7yiC7Eft\n",
       "/jDGmNPjRC3xVlMvMFk142L5+cs5DtafveeI12IZ6sE4Qm+qmpb09GDHUiy9Xq993pVyjrNHDGhj\n",
       "+VOTW1V1VkG94m1xAm05Cr80krkarbvo0COmUSV5xEBs08zWeWpM7qlGD653PfYWU/2Qij9hzIwP\n",
       "gHrFE3F8hPwtQHa35APMF5A8IiA5iSVgv705jzF9KsF4CvU+1vsm9+yXIcaMHgC1xFsjhvHNkFbx\n",
       "U9Gk01z1F/YSestNTJv1aQPOa8L9hYRLSjTuI5iaV/YX+Sk9CiqMZyOAtW2KECdTuyVQfweh+2wv\n",
       "2SdxLBUHbMV5k6QGXn/K8jovX9hvbxjF1tejoFa+cloh4ovqyCU9/y3bA1IL4n08gvnU3PMYFrfz\n",
       "XDS0FecOnLEYD8EraIvnK88+f37BMICtqwdAhfFcZ9368zcm7A526LW2I7ArMt0R22S1z46Psa9h\n",
       "Ptb6Im7q5uM66nRAKBZjebXay3rQUX1hJ3wxOzgNtwv6MSPvyaNEpEdsk9Wq3HNwHWTmfM2UMx7W\n",
       "7AVJPkBagiWPGIeaMqG2RRo7cc03hTF38XjG470bQ/R+ipzXacyvy9cVQufcvwujxFNJjn8EXiSJ\n",
       "OW7K0AAAAABJRU5ErkJggg==\n",
       "\" style=\"display:inline;vertical-align:middle;\" /></a>"
      ],
      "text/plain": [
       "3 not-in ({1, 2, 3, 4, 5} - {1, 1 + 2})"
      ]
     },
     "metadata": {},
     "output_type": "display_data"
    }
   ],
   "source": [
    "# Consider an interesting example involving literals and an addition element\n",
    "Difference(set_12345, Set(one, Add(one, two))).nonmembership_object(three).expr"
   ]
  },
  {
   "cell_type": "code",
   "execution_count": 85,
   "metadata": {},
   "outputs": [
    {
     "data": {
      "text/html": [
       "<span style=\"font-size:20px;\"> <a class=\"ProveItLink\" href=\"../__pv_it/demonstrations/e9c349e24d15ce0350c3266cb9c0c454165e85880/proof.ipynb\" style=\"text-decoration: none\">&nbsp;&#x22A2;&nbsp;&nbsp;</a><a class=\"ProveItLink\" href=\"../__pv_it/demonstrations/dd02cbda07ffa6e87d95f3e280375f0e022598cb0/expr.ipynb\"><img src=\"data:image/png;base64,iVBORw0KGgoAAAANSUhEUgAAAT8AAAAVCAMAAAAHOBl9AAAARVBMVEX///8AAAAAAAAAAAAAAAAA\n",
       "AAAAAAAAAAAAAAAAAAAAAAAAAAAAAAAAAAAAAAAAAAAAAAAAAAAAAAAAAAAAAAAAAAAAAAAeYafp\n",
       "AAAAFnRSTlMAInZUiRDNmWbv3US7qzLp8+P355HBP3RuygAAAAlwSFlzAAAOxAAADsQBlSsOGwAA\n",
       "A75JREFUWMO1mem6nCAMhgFZZO3u/V9qFR1NAkamZ8qPPjUj4c0HhOARYm1SMI38aGIU/6/JSd6M\n",
       "O8LGts+A9wDVxPWwBj4pG83nZSs1wA2o5HT4j+qxGw9O3v0QeAs46aqm1i7F3vvwaVpeECVQHOmc\n",
       "TYXY+l6Lw89+sTYcDtNrQDU/hMKDk3cZ8L7tNjYCaGz919VB2gl1CE2HfS9kZxcypEzb7wt6/c5r\n",
       "yOTZL0EbNARa+fn8X7lW5QM4bgx4zyaY2AigqyqqjcAstukaehi1Axky13zgPdo0fa+K6pe7Q8zn\n",
       "Kp1P1cACfwAXo+BdW5xvYyOAuzH6TVyMoVII377bQQxfDXmBOb3ndV1Dsx3ST3hDZ1ECVzx4CPYr\n",
       "+k3qNjYMOFmYJIDq0aq1Uy7D66/+lJfSph6SyLQY1M+eHfWxP921Tx/Av7j+sH4oNgzo9DVwABSy\n",
       "bm5j38HYFspCLchr7Slb/WalXzMF8HQWZN2BbMKDf1Y/FBsGPOe4qAwXm5U48RzQltevLKQD8brF\n",
       "tw5I9dtKAnmkZ3Vl0Pmavd2JAt558OYYtF/W7xUbBgwT3AbXg+0Uf0L6mdePHgyiPRy3ZWM7r4m0\n",
       "z6u8Xp88KaNgmcGD0wOUBx/S7xUbBvSxyZOV128p+MfPENIFkW0UrH4u9eA9fHWWd/q54+gx2U6v\n",
       "GcfLaoJlIwu+tTfAoc3Vzn53k3uxIcADo9QdkE5pTYJp+yx7k+EwZioL9bqGUueV6Jfsrt++C/UZ\n",
       "bPS4WEZbkwVv6nUefGD9gdgQ4LENluoBRBra4g/W3j2Meh+QMMbGq4h5a4vPGkpxHG/kpiCmgArR\n",
       "gqRhwcVb4AP6gdgwYNpf9JnstC1VR/d8jF0DlyrJVjucNuAVAe52A1Piatzl0SA9Q8HUnNHdhgMf\n",
       "OX/NO/pdsVHAo0aYZ1pGrXs8l3sMvWerq/KXwW0tQNvlFd8QloS7unqsGVoeOLhIDS6IWXBOvwb8\n",
       "st3qd8XWAJbjKa6/o2u4yemXucPIeb3y5w36de1fq6PaLLQBr5dtzcTLkhU0rdfz7Jr7rwhowTmS\n",
       "jBnw+A44sN3pB2JrAEO5uzP+/pPur0HXSJ1zeNA28ZWuDOyV9h486n8FZ+vnPuDsxr783WHo3hBj\n",
       "Ns3jOf4D1j0465Ufvf/9gAVMkvloQw8q33zW7UzUoM0o9qYg04Mm6Y3Pz2PgQ40CmhtO3cnDsvnQ\n",
       "1qMYtHUDMOdN4VEek8aDHgMf+jtAAyj7rnL/Q2yexP9rUp/u1fPqkm9o8CFwCvgXS0Mpi1keDiQA\n",
       "AAAASUVORK5CYII=\n",
       "\" style=\"display:inline;vertical-align:middle;\" /></a></span>"
      ],
      "text/plain": [
       "|- (3 not-in {1, 2, 3, 4, 5}) or (3 in {1, 1 + 2})"
      ]
     },
     "metadata": {},
     "output_type": "display_data"
    }
   ],
   "source": [
    "# We can unfold that with no extra assumptions (clearly the 2nd disjunct is True):\n",
    "Difference(set_12345, Set(one, Add(one, two))).nonmembership_object(three).unfold()"
   ]
  },
  {
   "cell_type": "code",
   "execution_count": 86,
   "metadata": {},
   "outputs": [],
   "source": [
    "%end demonstrations"
   ]
  },
  {
   "cell_type": "code",
   "execution_count": null,
   "metadata": {},
   "outputs": [],
   "source": []
  }
 ],
 "metadata": {
  "kernelspec": {
   "display_name": "Python 3",
   "language": "python",
   "name": "python3"
  }
 },
 "nbformat": 4,
 "nbformat_minor": 0
}