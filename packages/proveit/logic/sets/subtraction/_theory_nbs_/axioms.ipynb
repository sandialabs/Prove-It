{
 "cells": [
  {
   "cell_type": "markdown",
   "metadata": {},
   "source": [
    "Axioms for the theory of <a class=\"ProveItLink\" href=\"theory.ipynb\">proveit.logic.sets.subtraction</a>\n",
    "========"
   ]
  },
  {
   "cell_type": "code",
   "execution_count": 1,
   "metadata": {},
   "outputs": [
    {
     "name": "stdout",
     "output_type": "stream",
     "text": [
      "Defining axioms for theory 'proveit.logic.sets.subtraction'\n",
      "Subsequent end-of-cell assignments will define axioms\n",
      "%end_axioms will finalize the definitions\n"
     ]
    }
   ],
   "source": [
    "import proveit\n",
    "# Prepare this notebook for defining the axioms of a theory:\n",
    "%axioms_notebook # Keep this at the top following 'import proveit'.\n",
    "from proveit.logic import Forall, Equals, And, InSet, NotInSet, Difference\n",
    "from proveit import A, B, x\n",
    "%begin axioms"
   ]
  },
  {
   "cell_type": "markdown",
   "metadata": {},
   "source": [
    "** The difference of two sets includes all of the members of the minuend (first operand) *except* those contained in the subtrahend (second operand):**"
   ]
  },
  {
   "cell_type": "code",
   "execution_count": 2,
   "metadata": {},
   "outputs": [
    {
     "data": {
      "text/html": [
       "<strong id=\"difference_def\">difference_def:</strong> <a class=\"ProveItLink\" href=\"../__pv_it/axioms/d5cbab0e3659132e18c7b3f232fde2d4ee6bae290/axiom_expr.ipynb\"><img src=\"data:image/png;base64,iVBORw0KGgoAAAANSUhEUgAAAZ8AAAAWCAMAAAAo9GECAAAAP1BMVEX///8AAAAAAAAAAAAAAAAA\n",
       "AAAAAAAAAAAAAAAAAAAAAAAAAAAAAAAAAAAAAAAAAAAAAAAAAAAAAAAAAAAAAADFBd4eAAAAFHRS\n",
       "TlMAq1RmmUTNIjK7EInv3Xbp8+P3nXbhrUQAAAAJcEhZcwAADsQAAA7EAZUrDhsAAARRSURBVGje\n",
       "7VnbluQmDDT3O0k2/P+3xsa4jQCDsafnKZw5W7OeBlWBkGT1svzYEAVOTfodi+KlVfH6M+I+ObH8\n",
       "6PAY4tSknRCfNMk8xK9QzKndMDRYm+vbanZEn79j8uZ4sIE4NSlxD8MJRIWA1sGVjJuRKHvyNYqQ\n",
       "2tDQYG2JJtREpOzD4c2F0hzi1KQkLYQbc6yKgILM3bHjlu8oltRKQwZ3FNXj3O07ajb8nKhQb64P\n",
       "JRCnJqX/oTD2EBH2288CjR5IkyfSL1EsqRWGtOMdRfVwU2oiHodl8JvzsQU2Q7Ny6+D1pN2+MLsX\n",
       "9QNc+gxJymxib/V3KFbUoCFPEGvZuFj7r7/h2iM1G5J05PzN8WAOsZX+uNftSbsr+cWHsYugFGi4\n",
       "3R2aH+zJVyjW1KAht0h1paixNpJzaiLazWWcNa/Cm4GovUdamuxOijpF0Nwk3aL8OPLsAVsjl5Qa\n",
       "BPGHKdbUgKGtGsjT9mDtKjuN1ESk8Y/qMkDcSL3Vwa+SPPILPeNto/rIXZGtUmQY+ogMyq/az5mE\n",
       "Q9xsu2ygdxRraiTf420GprWii7WJn1QTUaDjn/bx2OxSShWoMVSVicJhgERsMXW9z+cJNG6+w8BH\n",
       "12w5vAR+z9PYHgtjC7GTmp9QrKnlhvbayunSxtXa5f0cqtlxuzqGXekyICuQ6BK+3A3LAG7HR4Fc\n",
       "aQ+PVtWkmDspXYsklRWq2SU4vUHZg5Q8XBBiJzI+oVhTyw3t6cT70sbF2v/8KdYeqtkR+051wKTN\n",
       "byXaC8HQFx9/BZdZq+sd2+J1hOBGm3y48VHwLMxCvH0+9yjW1DJDKZ1o1/K4xtpVhTxUk5B/IqP3\n",
       "VKw/ufssPI86FkdGpB88Ykm/rqL1VeUPP5xCuLPD9EOOwiftBHYQr/PPI4o1tczQsd8U14paa7tp\n",
       "NQkNTpHRiwWpheP8eMBNXV+oCKGoek9RPket2II2QVm+93Xr6pi0MHKzwZMC9qqMf1okEK/HI4o1\n",
       "tcyQq/qG3bUZnVaTUNjjokUTMo9uMNnE9KNR9bYOC0McpKZ2r3zODImvJonDgBo1ELhN1/6Tacuq\n",
       "+Xo8olhTOw2d1dinXOquXXn1WM2B2VS4RWuxZlDQRfoRoawmpMtR09VdMCVArkaK6cYkrUKIBPH2\n",
       "S2+b0aedeC7sGMRObJyn2KJ2GkKfj0q/3Fj7D5R/R02tStr8iwe/n4aE6WcNrlWAO2os12nRMKNg\n",
       "88SN+zmjdpyD2C2wn1C8Mjiw0epM/Ttau1JTGltvs+ExJWqTBd+twN4fiHiVtKu7kTONymrS77Rl\n",
       "H1Hst3RnFN1osZdqKmPUM+O3HpTcLgqNaUnTwNn+gPBgtrfTVptMCYi3hnr5HeHRc7/Xe39EsW1w\n",
       "XtENiqWa7hQ8fFC8J6jeW8Rg0tMxt+OPKE461OXaN74eKNX0jDE9etDo8gK854/+zfF4AXH5BsWW\n",
       "wQeK0LSarjEyfPD/+I3xHysTMLUPLRTJAAAAAElFTkSuQmCC\n",
       "\" style=\"display:inline;vertical-align:middle;\" /></a><br>"
      ],
      "text/plain": [
       "<IPython.core.display.HTML object>"
      ]
     },
     "metadata": {},
     "output_type": "display_data"
    }
   ],
   "source": [
    "difference_def = Forall((x, A, B), Equals(InSet(x, Difference(A, B)),\n",
    "                                         And(InSet(x, A), NotInSet(x, B))))"
   ]
  },
  {
   "cell_type": "code",
   "execution_count": 3,
   "metadata": {},
   "outputs": [
    {
     "name": "stdout",
     "output_type": "stream",
     "text": [
      "These axioms may now be imported from the theory package: proveit.logic.sets.subtraction\n"
     ]
    }
   ],
   "source": [
    "%end axioms"
   ]
  },
  {
   "cell_type": "code",
   "execution_count": null,
   "metadata": {},
   "outputs": [],
   "source": []
  }
 ],
 "metadata": {
  "kernelspec": {
   "display_name": "Python 3",
   "language": "python",
   "name": "python3"
  }
 },
 "nbformat": 4,
 "nbformat_minor": 0
}