{
 "cells": [
  {
   "cell_type": "markdown",
   "metadata": {},
   "source": [
    "Proof of <a class=\"ProveItLink\" href=\"../../../../../../_theory_nbs_/theory.ipynb\">proveit</a>.<a class=\"ProveItLink\" href=\"../../../../../_theory_nbs_/theory.ipynb\">logic</a>.<a class=\"ProveItLink\" href=\"../../../../_theory_nbs_/theory.ipynb\">sets</a>.<a class=\"ProveItLink\" href=\"../../theory.ipynb\">cardinality</a>.<a class=\"ProveItLink\" href=\"../../theorems.ipynb#distinct_pair_existence\">distinct_pair_existence</a> theorem\n",
    "========"
   ]
  },
  {
   "cell_type": "code",
   "execution_count": 1,
   "metadata": {},
   "outputs": [],
   "source": [
    "import proveit\n",
    "theory = proveit.Theory() # the theorem's theory"
   ]
  },
  {
   "cell_type": "code",
   "execution_count": 2,
   "metadata": {},
   "outputs": [
    {
     "data": {
      "text/html": [
       "With these <a href=\"allowed_presumptions.txt\">allowed</a>/<a href=\"disallowed_presumptions.txt\">disallowed</a> theorem/theory presumptions (e.g., to avoid circular dependencies), we begin our proof of<br><strong id=\"distinct_pair_existence\">distinct_pair_existence:</strong> <a class=\"ProveItLink\" href=\"../../../__pv_it/theorems/7ad886b8fbfd67c97d3cd6fa3e7f93327cf3cb330/expr.ipynb\"><img src=\"data:image/png;base64,iVBORw0KGgoAAAANSUhEUgAAAOoAAAAXCAMAAAAyRiO7AAAAPFBMVEX///8AAAAAAAAAAAAAAAAA\n",
       "AAAAAAAAAAAAAAAAAAAAAAAAAAAAAAAAAAAAAAAAAAAAAAAAAAAAAAAAAAAo1xBWAAAAE3RSTlMA\n",
       "q1RmmUTNIjK7EInv3Xbn9enzK1aD6QAAAAlwSFlzAAAOxAAADsQBlSsOGwAAAyBJREFUWMPNWIeS\n",
       "2yAQFU2wtEvC//9rKKIIELLv7MTM2IPECt7bCmzbm5s1RrxqLv7tT16J4rIp9jqt4fU4leM7ZisO\n",
       "VN5i8jaq1KSmf8Ibq/W4gNqXoM2hH1Jw0LL6zt9u1Tu7rJrcbwTg5KI7zR2ZcYhsVg7bR1OlN04n\n",
       "0OnR5aUILTgO1pvCn01V3xn15JTMlcDVMuMgh7b27aOp4ht87GxUZaork4JDp4yhPpsqzfg4Upbb\n",
       "YbzLNDuyFqXVFKrpMYYzyPkKF/3Z81up7ofzMe05QXXPI7l//Qr/xbLS+biULtIne8HBUf6LUylr\n",
       "iS3JrM1V0ElAzPANFakUQnJCFediM1AV+yQbdhhiM+lTqUnkd2NUHHWho/GxrioPBs3Kx2FUuO2a\n",
       "apWARA9wa+YexZ1VUXZMYREkvfUYUnJJ89D42vTRxjoPo9GSLoqlmVSZej/lObSgWiXymIXDuZyf\n",
       "jjvxFFV9iFMqtgsMLVUN0T3Z2qhJFywVHNZY1fMkOc4dOW82R6pVoo4RiN8T+QhVqYhVeQXhfPqQ\n",
       "dVMzw9A4sHRhIdJYPMbq7z8pQNCpqtIU0dg0OBTOxXWzzgEZ47PpV4l2jGg+ZPk5VWm4J8jLaUBu\n",
       "lvqNXCvVYUiL2UQ1cED7hk+a2PucGvSdwjrYocHBdfUWialDK6pVApp8lLOTMPKGKvVhJcp+IHDy\n",
       "KZKdqHUYmpIRGWNDz9kfD7UA+fmAtmUq40DZ6WTaaSyoNhJ5jNPyPR9q1rDdDz+L2lClyLOF2PAM\n",
       "w6HDBBBZJTg6p+fBqF5MlY2kYbMTFsP9brin2krAUdILUU/a//jyEBeLHRB5oAuMfAkSaoHhQCy+\n",
       "d+ThZoqDRm0jfk21lYjJENEqzUEI0Z0ah/OqDqHKfAaTAaH39xhL1RtGDKdt+2x3IR84JgxUBaVK\n",
       "8UVaaiUi1XYZ7UK7OZozSrBVJASst5+g1h5ausQw3c83OlgbFR69IoCL/uz56VuItsr6zAYAKzzy\n",
       "Yj0jHznw/Auq17c6TD55T2TnB9XlJQ0/apr+MVUBuT1/h/GWC57XXNLxn1/g/c/2F0uFHEn5abh8\n",
       "AAAAAElFTkSuQmCC\n",
       "\" style=\"display:inline;vertical-align:middle;\" /></a><br>(see <a class=\"ProveItLink\" href=\"../../../__pv_it/theorems/31f7407c3cb500f9e18ca49999a6afba59480a0b0/dependencies.ipynb\">dependencies</a>)<br>"
      ],
      "text/plain": [
       "<IPython.core.display.HTML object>"
      ]
     },
     "metadata": {},
     "output_type": "display_data"
    }
   ],
   "source": [
    "%proving distinct_pair_existence"
   ]
  },
  {
   "cell_type": "code",
   "execution_count": null,
   "metadata": {},
   "outputs": [],
   "source": []
  }
 ],
 "metadata": {
  "kernelspec": {
   "display_name": "Python 3",
   "language": "python",
   "name": "python3"
  }
 },
 "nbformat": 4,
 "nbformat_minor": 0
}