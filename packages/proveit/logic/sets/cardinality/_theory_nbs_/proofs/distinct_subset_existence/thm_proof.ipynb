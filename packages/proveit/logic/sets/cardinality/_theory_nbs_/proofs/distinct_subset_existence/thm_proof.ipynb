{
 "cells": [
  {
   "cell_type": "markdown",
   "metadata": {},
   "source": [
    "Proof of <a class=\"ProveItLink\" href=\"../../../../../../_theory_nbs_/theory.ipynb\">proveit</a>.<a class=\"ProveItLink\" href=\"../../../../../_theory_nbs_/theory.ipynb\">logic</a>.<a class=\"ProveItLink\" href=\"../../../../_theory_nbs_/theory.ipynb\">sets</a>.<a class=\"ProveItLink\" href=\"../../theory.ipynb\">cardinality</a>.<a class=\"ProveItLink\" href=\"../../theorems.ipynb#distinct_subset_existence\">distinct_subset_existence</a> theorem\n",
    "========"
   ]
  },
  {
   "cell_type": "code",
   "execution_count": 1,
   "metadata": {},
   "outputs": [],
   "source": [
    "import proveit\n",
    "theory = proveit.Theory() # the theorem's theory"
   ]
  },
  {
   "cell_type": "code",
   "execution_count": 2,
   "metadata": {},
   "outputs": [
    {
     "data": {
      "text/html": [
       "With these <a href=\"allowed_presumptions.txt\">allowed</a>/<a href=\"disallowed_presumptions.txt\">disallowed</a> theorem/theory presumptions (e.g., to avoid circular dependencies), we begin our proof of<br><strong id=\"distinct_subset_existence\">distinct_subset_existence:</strong> <a class=\"ProveItLink\" href=\"../../../__pv_it/theorems/2ce9eff5a9ee58ddea0e55fd00df026984c118930/expr.ipynb\"><img src=\"data:image/png;base64,iVBORw0KGgoAAAANSUhEUgAAAsEAAAAZBAMAAAAibe4sAAAAMFBMVEX///8AAAAAAAAAAAAAAAAA\n",
       "AAAAAAAAAAAAAAAAAAAAAAAAAAAAAAAAAAAAAAAAAAAv3aB7AAAAD3RSTlMAq1RmmUTNIjK7EInv\n",
       "3XZ/CtNrAAAACXBIWXMAAA7EAAAOxAGVKw4bAAAHMElEQVRo3u2aa2wUVRSAzz5mZ3a2u13QqCCB\n",
       "IWJsRJoNAXzEwBKKJTbFFRMTKQmNGgxKZEyMCdrA2vDDxKbdQCrWHzDgI2oNXVAgQKyL/oBAxJKg\n",
       "YsOGRSoIpmvlIT6C9T5m79w7O9ttO/5gE0/S23vvnnPm3K/nnrkzW4Dy4sl+D27ErX2FymBWIz+j\n",
       "kIDLSwUqkY/s3toXoz//E3aUH11ZSzmLcBRP3FWO0Ci0RrT3Z7PZ04mbhV4EhdJiJVeLQ5550+4u\n",
       "cc4ivBiPnytHaBRaZXM4ot00CbohASvjtItIFrpUQqT9wO2+NRjh13HVSJUjNAqtSiJcnQDVLJiI\n",
       "rip89jJpF7m8gi/OCGPYIa0coVFoVRjhQsGI2z8bIG3G7SWOMsL4V6AsoVFoVSbhDjth5Sopw81u\n",
       "L/GMdZb4Ops9Vp5Qea3KIXww35GQ10Shff5577QTE1FXWVOfn4rKRcNBbfqNCShOPyrPan7ym7st\n",
       "K9vQQQSNXRbhJQDvlCdUXqtiCH+iwRcJCETVFIQhjHI4EIXwROjQoUWTjsBJEjIC44ezuUbLzDZ0\n",
       "EEFjnkX4JZCjDuppkVAJLYhzLbpEKcJefFobP2E/a+8Zw5msRERvkbNEMCodRSqYcDAKwQxUx2AV\n",
       "eA9TwmEU6/2wwLjFMrMNHUTQuM8iHDRC/EFVPrkHHo4yaAXCplZTfn4Snae3xeDJF8lnqUIr9Z77\n",
       "OQhKJzV56gpIq3Kucxg7xb+DYLa+sZyp4wVDISL1H4AeTBjObNUZ4RRU59S/sSIhXIWuk4RHsPo8\n",
       "0wEddu+aXPJ6VKNQ4C3C3px1C2uf1AnTQ4bfKCJMtbw5bAlwNgMRXSRcC8oQWk/3JkpzCsAFV1UC\n",
       "h0KcCoS3j8VFE0+YRaQwwt1nrgqE8SccYYDjOI5B5uI4+auNVCmOW90V3FNz83y2GZfgJ7dcPARF\n",
       "hKlWFYAHDx69Yh7MLcLoeBPF64lsJp56YladGQ9hEgpxKhBePMZTv0WYRcRyWDZgQTKMFsty+Col\n",
       "nKZVAqTr8DHALLah8PAabEiW3nLEgMosjvDu51FnUfsAfdSDmrvXh+CzupN1CYEQ1sK1irzTSDcW\n",
       "Eb4CoJP1+LbiByN/nxPhfP2Abk5yXUusSRIKcSoQ7hMMIwPr64vLL5tEB3iLsBXRarMOow3piQU4\n",
       "wqgOgxeexWrBHKidngzuYsJoT5vDhzBho/gYAUxjzgN5nJ0PcoRbUJq8uyJWpasEV01oR5NDDmMt\n",
       "iAyTDFW0Hq3VRvjXP2PmenyHAVrVy4pWRDiiTwqYs1yXg8MmaSjEKU9YbhYML3hSTxct1pr0xpGJ\n",
       "vwvJZj6ilgRMQ7GmvEchqIeaQxhvgBBuicE+2IuxhqLg/eO9jKQRwurvwIbwORnSpqeZ61ANde5X\n",
       "gABAA0fYg9L+1fNQbUhkOTUQv+hA2EM2x47HCGjD33fJRlid8RsFoe5HyX8JGiNG0ZsfH2xVQCan\n",
       "PtJdNiDeuMgk3W+ULHbKE5ZSwPmAWDCXlGptlQNPmk5SXA5bEakN+Y4TypRD7/fm9wBMOIC6H047\n",
       "1LrtEKh1eR08dyI1pQ/UpbkZs+l2h6zBhko/GdJ6jas47aBZqiHvbIa/0My39reXU1Fp9q3u6tqE\n",
       "CHcHHAgTMUAaImcg+VpaJIy2yUqyHnlhklhvaHJ6e3kdJVM/62bUIVsCXi+wJqEQpzxhb1T0Ua2j\n",
       "W0OP/YGtUEQUnrAQUXk5BVxBBa9VF9YZwrAg97KeJyeh24fcZyd8BOoUJU1zWKotPg/TpNDo6x9U\n",
       "g2+zEV6Gro3XI09I0tO05wUHwkoGlfF+1tUV2+M/npzzxEzUIe6JU54wYsb7gDbQZdSIgiZ9i2en\n",
       "bVVCiKi8zBEIh6zDbFzWuaHD40NV0h9Pgj9mIywPwaka+tQ2Fx3GSrxB90fBo3ejFEL3Ck0kvBDg\n",
       "drQe9VadFmqQLxfbt4Sa/YROt9kNJkBNoxFpzMnaVBjMB0ji1HanYz7UtJzZi7daJ+fDnPRexPfE\n",
       "SM7KYTGi8hLUecI7rRR+Y6PBDdmdLme9GYVwa5JkhkBYisIvMViH8k/5TqcnMifCGxv2QZsW+SEJ\n",
       "HkMkvKTuoI4J0+nBtwEmO9j/1HuJ0GnTaBcdyZQvoU1XDqPGnPQkX8ErwVuBOBUIb7F8IMOlTXkD\n",
       "/EnOR2HyDnRPxJQYYTGi8qIWXtW+trYXwOL3zfAwP+SfH015HCKf4kAdv0VS93d1ln6vUBDhCJDi\n",
       "Wq7qjWTfz3yEjBw+H4mOw3BuuT0URriJ82EaHojwPsxeX2SuAR+VjGgUst7dtyg6jP97OslwR7j9\n",
       "mFbwsXYY7eXlNsfbYWZRVIywX2c+TMPA8A3Oh9lTo16UR/VuCP8HMl7CPhiBsILvK1tGzmGbj5iz\n",
       "Y2fCcMDBkO9yk/gdRqUQHuH/HXSuLfUNeMD1/0vIrFXHUErB7Xfy7mTwdAz//AsbKC5Gpl1sWwAA\n",
       "AABJRU5ErkJggg==\n",
       "\" style=\"display:inline;vertical-align:middle;\" /></a><br>(see <a class=\"ProveItLink\" href=\"../../../__pv_it/theorems/4ee8186af64ece65a1b038a685f2b4362d81d0260/dependencies.ipynb\">dependencies</a>)<br>"
      ],
      "text/plain": [
       "<IPython.core.display.HTML object>"
      ]
     },
     "metadata": {},
     "output_type": "display_data"
    }
   ],
   "source": [
    "%proving distinct_subset_existence"
   ]
  },
  {
   "cell_type": "code",
   "execution_count": null,
   "metadata": {},
   "outputs": [],
   "source": []
  }
 ],
 "metadata": {
  "kernelspec": {
   "display_name": "Python 3",
   "language": "python",
   "name": "python3"
  }
 },
 "nbformat": 4,
 "nbformat_minor": 0
}