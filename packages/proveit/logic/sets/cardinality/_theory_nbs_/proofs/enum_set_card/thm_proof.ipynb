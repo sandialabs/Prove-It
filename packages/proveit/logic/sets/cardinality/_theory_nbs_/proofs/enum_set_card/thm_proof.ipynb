{
 "cells": [
  {
   "cell_type": "markdown",
   "metadata": {},
   "source": [
    "Proof of <a class=\"ProveItLink\" href=\"../../../../../../_theory_nbs_/theory.ipynb\">proveit</a>.<a class=\"ProveItLink\" href=\"../../../../../_theory_nbs_/theory.ipynb\">logic</a>.<a class=\"ProveItLink\" href=\"../../../../_theory_nbs_/theory.ipynb\">sets</a>.<a class=\"ProveItLink\" href=\"../../theory.ipynb\">cardinality</a>.<a class=\"ProveItLink\" href=\"../../theorems.ipynb#enum_set_card\">enum_set_card</a> theorem\n",
    "========"
   ]
  },
  {
   "cell_type": "code",
   "execution_count": 1,
   "metadata": {},
   "outputs": [],
   "source": [
    "import proveit\n",
    "theory = proveit.Theory() # the theorem's theory"
   ]
  },
  {
   "cell_type": "code",
   "execution_count": 2,
   "metadata": {},
   "outputs": [
    {
     "data": {
      "text/html": [
       "With these <a href=\"allowed_presumptions.txt\">allowed</a>/<a href=\"disallowed_presumptions.txt\">disallowed</a> theorem/theory presumptions (e.g., to avoid circular dependencies), we begin our proof of<br><strong id=\"enum_set_card\">enum_set_card:</strong> <a class=\"ProveItLink\" href=\"../../../__pv_it/theorems/9843dee71c0ce851a6233b892c2eeddab3c55bd60/expr.ipynb\"><img src=\"data:image/png;base64,iVBORw0KGgoAAAANSUhEUgAAAssAAAAZBAMAAAA1T37lAAAAMFBMVEX///8AAAAAAAAAAAAAAAAA\n",
       "AAAAAAAAAAAAAAAAAAAAAAAAAAAAAAAAAAAAAAAAAAAv3aB7AAAAD3RSTlMAq1RmmUTNIjK7EInv\n",
       "3XZ/CtNrAAAACXBIWXMAAA7EAAAOxAGVKw4bAAAGuklEQVRo3u2ae4hUVRzHf3Pnztw7dx47JYRG\n",
       "6Y3KFnN1MLVEqQk1JUvG/isFB0V6QHSNIkxxJ+kPqVW3YDGF5JoWrYY7rg/IJZmSMJRkCA1ZHLjr\n",
       "mmXuDkNIihLbed7XvO44IGP0g5n5nTPnfPeczz33d37nzgLUtQcLGvxvTdhoQfXQKt1io9aAXfYv\n",
       "U03pvE1lpHL9itUNmcSliONP3H2YYyococ4avSkheQLpH3ZfLKp+sSntgMGkiIMwx3Hx4dqYffhD\n",
       "SLQG5sc5iOl6k0qheHXMQrY57WEuNUwxL8TFV2tjFvFIgq0RoZU0x/xds1LhfHXMXzWpHdSZFHYQ\n",
       "5g9wJOmujVnGl31dayxmMXFHMM9vUtufZFLYQZgx7bBaJza/gT76WwNzBO4I5lyz4qe41CmCGe+C\n",
       "wXpb4BOtsxNOviOYhaZnu5pLraaZxs+Fwul6mCOFwoVsa2Be4sB8YOjrAdut6CpWMHuLGphFNFul\n",
       "eP/H/dCAuKPDQS51kGJeDLCzHmYxAyG9NTCvNjE/h17J2EQxb33pKlYwe4tYzsQsFojFOZsgAiPC\n",
       "kPEiNCDu6DCbS82mmNeCFK/QJ2vHjFqsbXSrqt/ksQaSZdP7hWOWTqDxa/6bPivRdBUr7Uz2FtJf\n",
       "VVdzFC3bJ+EZfRw0IO7oMJVLTaWYQ7rjD0lnj8A8xD3pOJ7sZCuogaSUfY6ofroEkuDPOy6Cv5FD\n",
       "nDmcH9nopftQdxlEPLo9LJLSojJwT9U7j3VgtntVNcwRVJkh94syG7yK0w7MtnGpbRSzYFg74NYJ\n",
       "PfBQWBd1N+ZpDe+AHHNQlemJKA/MwRbFk2xEbrkbM3xIQl0EacpF8/rhogi17u2INQg4mqqFGeAM\n",
       "RjIK3sXPWO4KLrWCHbbTT5trbDE+ERrJMLgxB/3GbWIOqfZAyG0EvRY2nu7bgwZ8gt9WaooOgjlz\n",
       "XGxLSTeqC5EO1ISbVWMzDhoQuA77ADrAszjtQK2DS3UwzP0oK/bP33qJnRDbH90YhsMLzi5I2TCH\n",
       "J6OxxS5tXMRjpeXaAqi9kmKODV9We0twcW5i2a1jvSXl801DAFeH3p00oKPlDcVFlzRvimZqv8ue\n",
       "afSmHgC0JjBmBXjRr2MS5be2brUgs4VwrmpsDhmg9PhyeIfCvFziClQSZx1mPlXES3QOl5rDMG9A\n",
       "13DPikREU8hhsD38xfKy1Sx9j95+93WvYnU21zJHZYilXxFVKgWykiHnQCpBpxpUw0kx24Uk0xDT\n",
       "JgRVb4pC0pYomZinf/QCvEQx96XNIs7UlL+B1jkd2oLMtmZCF46DcGNvLqBSzC5xh65Zoh2UWSfg\n",
       "JEs8idQShtmXAXj/MrTpAbKPtkPyShlmGI9eiZCRgXVkmWA3MM1125PvHZilmyg2KyX52hRAmBWE\n",
       "WQ8ZfZqkI8yBbvDDLhmkneBBMcCfB2yxY95bFOarFHN00CzCFjTGAnpF8STOAnNwDW1BZlsTs4wu\n",
       "1FLjkRns7neJ46Kly8VpB+lAGnAwOselztkfhE5Eodr/+o4dnyLM+4PlmIm1aSB36NyNQJ9rgG2a\n",
       "KzYHSgQzvDyWYpjBZ6xEXyDMAg6E1wE2DYIHRZljjmbKT4EkNk+xkiV84YSyqGGrmUh2qFqH7fPg\n",
       "CLIu8SlQXdxnBFAwkvJMCjsW5p9ggSxn6WoOTHPnzcy6QIOozl0Jw3IYqvQvnJEtX826Py3n9jDM\n",
       "nUihS0lgcHJOAhgED4pm0MCPYipitgb8DrwHOGS7z9aWi2dbG/NMJ2aXeLaGeCQjJjPkCReRwo6J\n",
       "GYXN8+30NDgLYKjiY30pdxStcYRZyVIXepAL+/kbqRSuQN4Wm8fBBoQZMepWSpsJ5pARyipGn5xB\n",
       "7TaE0yLBXF8xZmY62znmEQdmxWwgfbb5eXQ0Lj9nWyuSzJal0JUxhzQ7Zpe4YtQQ74Topgx7nnmE\n",
       "Ptg0MQficDUB69ANKf+q0cf45at56fKijjHLP1AXHcGR26XJJ/EbqxwvpW2Yw8Ojr+2+Jiydq8Hh\n",
       "7O5ryqTkvDUwUITwEsxL/O34nwRzfUVr2r0ccyffPaWjtwzbOTEyNlYCKCdh1dDZwjeJ6pgVHqTW\n",
       "v3Uc3OIxqCG+DGKHyGKgUtuh7Ecq5dsdPRWfadgMBw2Busdipguml4/N0u15c/0TxyB4UOy1lqIB\n",
       "f1DnWbWppyPr76VJY8ZVT9U3NqUd05gUcRr/LVAe6Qd4hZ4Yxv7hLjbqKXHhEHjDLNKhbD2telBc\n",
       "BHex3eZProlKbqLyKbCGHfOu6E/95zG/eVv/p+HhB3jFu5pyN1MevZD4F4JpYFIgidumAAAAAElF\n",
       "TkSuQmCC\n",
       "\" style=\"display:inline;vertical-align:middle;\" /></a><br>(see <a class=\"ProveItLink\" href=\"../../../__pv_it/theorems/3a47e5b4f11881794b612f9f1c722f04f1212ce70/dependencies.ipynb\">dependencies</a>)<br>"
      ],
      "text/plain": [
       "<IPython.core.display.HTML object>"
      ]
     },
     "metadata": {},
     "output_type": "display_data"
    }
   ],
   "source": [
    "%proving enum_set_card"
   ]
  },
  {
   "cell_type": "code",
   "execution_count": null,
   "metadata": {},
   "outputs": [],
   "source": []
  }
 ],
 "metadata": {
  "kernelspec": {
   "display_name": "Python 3",
   "language": "python",
   "name": "python3"
  }
 },
 "nbformat": 4,
 "nbformat_minor": 0
}