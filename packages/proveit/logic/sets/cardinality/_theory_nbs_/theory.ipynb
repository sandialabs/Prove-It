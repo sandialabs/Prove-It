{
 "cells": [
  {
   "cell_type": "markdown",
   "metadata": {},
   "source": [
    "Theory of <a class=\"ProveItLink\" href=\"../../../../_theory_nbs_/theory.ipynb\">proveit</a>.<a class=\"ProveItLink\" href=\"../../../_theory_nbs_/theory.ipynb\">logic</a>.<a class=\"ProveItLink\" href=\"../../_theory_nbs_/theory.ipynb\">sets</a>.cardinality\n",
    "========\n",
    "\n",
    "The cardinality of set $S$, $|S|$, is the number of unique elements of $S$ if $S$ is a finite set. The cardinality of infinite sets are specially defined quantities such as $\\aleph_0$ that are appropriately defined where these infinite sets are defined (see `proveit.numberss.sets`)."
   ]
  },
  {
   "cell_type": "code",
   "execution_count": 1,
   "metadata": {},
   "outputs": [
    {
     "data": {
      "text/html": [
       "<h3>Local content of this theory</h3>"
      ],
      "text/plain": [
       "<IPython.core.display.HTML object>"
      ]
     },
     "metadata": {},
     "output_type": "display_data"
    },
    {
     "data": {
      "text/html": [
       "<table><tr>\n",
       "<th><a class=\"ProveItLink\" href=\"common.ipynb\">common expressions</a></th>\n",
       "<th><a class=\"ProveItLink\" href=\"axioms.ipynb\">axioms</a></th>\n",
       "<th><a class=\"ProveItLink\" href=\"theorems.ipynb\">theorems</a></th>\n",
       "<th><a class=\"ProveItLink\" href=\"demonstrations.ipynb\">demonstrations</a></th>\n",
       "</tr></table>\n",
       "<h3>Sub-theories</h3>\n"
      ],
      "text/plain": [
       "<IPython.core.display.HTML object>"
      ]
     },
     "metadata": {},
     "output_type": "display_data"
    },
    {
     "data": {
      "text/html": [
       "<h3>All axioms contained within this theory</h3>"
      ],
      "text/plain": [
       "<IPython.core.display.HTML object>"
      ]
     },
     "metadata": {},
     "output_type": "display_data"
    },
    {
     "data": {
      "text/html": [
       "<dt><a class=\"ProveItLink\" href=\"axioms.ipynb#empty_card\">proveit.logic.sets.cardinality.empty_card</a></dt><dd><a class=\"ProveItLink\" href=\"../__pv_it/axioms/c8461ef3c312a771af56f5c8e024224fedeb55c20/expr.ipynb\"><img src=\"data:image/png;base64,iVBORw0KGgoAAAANSUhEUgAAADkAAAAWBAMAAACIzClVAAAAMFBMVEX///8AAAAAAAAAAAAAAAAA\n",
       "AAAAAAAAAAAAAAAAAAAAAAAAAAAAAAAAAAAAAAAAAAAv3aB7AAAAD3RSTlMAIolEdjJUZt27EJmr\n",
       "782vM/RyAAAACXBIWXMAAA7EAAAOxAGVKw4bAAAA4UlEQVQoz2NgAAFWBhxAAIjTIyA0JlBmYIiU\n",
       "2gOmsct2MewNwJRV8hYAybJNYGifgCHLl8DVCJLlVmCc+AFDtoKBQRMky1HAUvURQ3YOA0P+AqAo\n",
       "bwHfqs8Ysr8ZGOITgKL8CRwM39BluUCyBWDZJJjsjg4Q6AGyGD8BZR1AsgWbuTBMBssqgO1tYMSQ\n",
       "5QLK2oP08rkeYP2FzVX5IFcxbSlgvoBuL8NMBoZ6kI9Y+xYwKWDorWVg2AcO5x0MKxZgyHIkcF0F\n",
       "y9a57MKMI65NPgFgUUVoXGGPQQbayLqi0SgAAHw4PCSS1A3HAAAAAElFTkSuQmCC\n",
       "\" style=\"display:inline;vertical-align:middle;\" /></a></dd>"
      ],
      "text/plain": [
       "<IPython.core.display.HTML object>"
      ]
     },
     "metadata": {},
     "output_type": "display_data"
    },
    {
     "data": {
      "text/html": [
       "<dt><a class=\"ProveItLink\" href=\"axioms.ipynb#card_induction\">proveit.logic.sets.cardinality.card_induction</a></dt><dd><a class=\"ProveItLink\" href=\"../__pv_it/axioms/30e1e12878a55096e65f4f6ac2b61f2c91236c0a0/expr.ipynb\"><img src=\"data:image/png;base64,iVBORw0KGgoAAAANSUhEUgAAAV4AAAAXCAMAAAB01dc4AAAAPFBMVEX///8AAAAAAAAAAAAAAAAA\n",
       "AAAAAAAAAAAAAAAAAAAAAAAAAAAAAAAAAAAAAAAAAAAAAAAAAAAAAAAAAAAo1xBWAAAAE3RSTlMA\n",
       "q1RmmUTNIjK7EInv3XbPqdvtPAm6/gAAAAlwSFlzAAAOxAAADsQBlSsOGwAABAxJREFUWMPtWYmO\n",
       "3CAMxdxX6MH//2sDBAKEMGG0bUdq0e7KSYwfPIyxWYQ+tInjd6FpxjobWPQm38YVC+Ne6vBXmsP7\n",
       "H8OWunCmu1cSVPXqiblb3KdjYa4RoHzA5HPYxaadEqbUGERmU8ReD94qWGLoHvdlZ7klfJdpjAIt\n",
       "3fjnuLPmLR8qeIJW/ng69WhF3jayVL99Te8Ed95ZA+V5eXle5iDIvLxCfY7zUtJMkyYWSZo8OhkT\n",
       "8LX0TnC7zuyy1V2ml+Q1j0Im2+DPode2fHjZhLXfR+8Et+uM3S29yNYCOdaBf1Dk5c00mU9DlPI3\n",
       "0zvDXaCXk1qwW2jWfFBsMM00tfdGVp/n9GrnQEtzbMYleme4C/QaqAUaTSj9aOJDcfj8ohF5/y0v\n",
       "f54S8XsDMaeX8jIOBw7RpOXsiF66VQ0e4S7Qm8+IJMQx1gOtI7hxjriTier4U51GezKKjYYBEQs3\n",
       "FKoxQOIPd3xop7y3U3qFTdwQEWjRCNKj8Pi5985wF+jFthGC446hoxHp0T29p8bxSTpQajeGAZnd\n",
       "Lh1siqDy7fsYIB0JbMAH9eyeXgH8+CorR04pE8dP6Z3hlnfJ863tPL+it8wnCWGOfHKSwoTeU0Md\n",
       "uYzMRYoL+3QQ0aMK6DHAYJrHjtXFD7eqKisSraKbrVzLcIbeo7fFXfBeZluBI3JoO0fF/pO7pKNT\n",
       "TOg9NVRTsiAsMRPupLdYjioabgCumzSrijJ8VfSJG9VnzO8KWl9quZexd4a7Ehy2VjD4SH6dQKBQ\n",
       "2U17F6/IIGKe4qmhYoFz4ss9OGCW6S2Wk4pjNwBnsZSnlAdLy0qxjCK47jMHvQcmCE6TkwC7kDnM\n",
       "cFeONtUKIh9AJEJUB43G1MOM3lNDtbXMTu8eHFxBypaTiroDaDKbOCW6mSbbiflpcABNNnnJcLGX\n",
       "mu6UMvxG3jvDfUmv8aLL74oA5zh9tVN12moTeisNFTMRFRtO9GpTx/RkOap8+6HwGOC4HamniRhQ\n",
       "gKamFIZvnDt9LSA0dQ5hSvA7ZcUM9wW9ANbzI1vZyhl8AZT2DIXJA5q7iI7eWiP8kabx3v276y1H\n",
       "leNgGwAc45JLl4BfVhRPcF96b5WT9kLJHfeDNibmOpBA474AcU9vraHa4iRdHjpItk7LQSWfGgOA\n",
       "5lbkj9M7wX15pdPfC1VC+eJCmh/u0SwO5Vy47RSTo63WUMkTZd5n6X4Tsq1sOajkUnMA0CQHS/TW\n",
       "9dm1lnto7h738VjKZpxeQeJZrdWJ1bM2IfaymS1tfl5V+vtTtUxvXZ+ddixZYuge9/FYStqoJvfn\n",
       "TL9H7xNbT/4tIkJsc3LlFkNQ6AgWpnnzxNwt7tOxONELwyiEvo7e3hZo9L+NF3coDp8nO/Df4esX\n",
       "JUMprPG62NsAAAAASUVORK5CYII=\n",
       "\" style=\"display:inline;vertical-align:middle;\" /></a></dd>"
      ],
      "text/plain": [
       "<IPython.core.display.HTML object>"
      ]
     },
     "metadata": {},
     "output_type": "display_data"
    }
   ],
   "source": [
    "import proveit\n",
    "%theory"
   ]
  },
  {
   "cell_type": "code",
   "execution_count": null,
   "metadata": {},
   "outputs": [],
   "source": []
  }
 ],
 "metadata": {
  "kernelspec": {
   "display_name": "Python 3",
   "language": "python",
   "name": "python3"
  }
 },
 "nbformat": 4,
 "nbformat_minor": 0
}