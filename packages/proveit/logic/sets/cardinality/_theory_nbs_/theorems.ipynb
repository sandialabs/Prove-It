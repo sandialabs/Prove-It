{
 "cells": [
  {
   "cell_type": "markdown",
   "metadata": {},
   "source": [
    "Theorems (or conjectures) for the theory of <a class=\"ProveItLink\" href=\"theory.ipynb\">proveit.logic.sets.cardinality</a>\n",
    "========"
   ]
  },
  {
   "cell_type": "code",
   "execution_count": 1,
   "metadata": {},
   "outputs": [
    {
     "name": "stdout",
     "output_type": "stream",
     "text": [
      "Defining theorems for theory 'proveit.logic.sets.cardinality'\n",
      "Subsequent end-of-cell assignments will define theorems\n",
      "'%end theorems' will finalize the definitions\n"
     ]
    }
   ],
   "source": [
    "import proveit\n",
    "# Prepare this notebook for defining the theorems of a theory:\n",
    "%theorems_notebook # Keep this at the top following 'import proveit'.\n",
    "from proveit.logic import Forall, Exists, Implies, Equals, NotEquals, Card, Set, Distinct\n",
    "from proveit.numbers import greater_eq, num\n",
    "from proveit import a, b, n, N, S\n",
    "from proveit.core_expr_types import Len\n",
    "from proveit.core_expr_types import x_1_to_n\n",
    "from proveit.numbers import NaturalPos\n",
    "%begin theorems"
   ]
  },
  {
   "cell_type": "markdown",
   "metadata": {},
   "source": [
    "**The cardinality of an enumerated set of unique elements is the number of these unique elements:**"
   ]
  },
  {
   "cell_type": "code",
   "execution_count": 2,
   "metadata": {},
   "outputs": [
    {
     "data": {
      "text/html": [
       "<strong id=\"enum_set_card\"><a class=\"ProveItLink\" href=\"proofs/enum_set_card/thm_proof.ipynb\">enum_set_card</a> (conjecture without proof):<br></strong> <a class=\"ProveItLink\" href=\"../__pv_it/theorems/3a47e5b4f11881794b612f9f1c722f04f1212ce70/theorem_expr.ipynb\"><img src=\"data:image/png;base64,iVBORw0KGgoAAAANSUhEUgAAAssAAAAZBAMAAAA1T37lAAAAMFBMVEX///8AAAAAAAAAAAAAAAAA\n",
       "AAAAAAAAAAAAAAAAAAAAAAAAAAAAAAAAAAAAAAAAAAAv3aB7AAAAD3RSTlMAq1RmmUTNIjK7EInv\n",
       "3XZ/CtNrAAAACXBIWXMAAA7EAAAOxAGVKw4bAAAGuklEQVRo3u2ae4hUVRzHf3Pnztw7dx47JYRG\n",
       "6Y3KFnN1MLVEqQk1JUvG/isFB0V6QHSNIkxxJ+kPqVW3YDGF5JoWrYY7rg/IJZmSMJRkCA1ZHLjr\n",
       "mmXuDkNIihLbed7XvO44IGP0g5n5nTPnfPeczz33d37nzgLUtQcLGvxvTdhoQfXQKt1io9aAXfYv\n",
       "U03pvE1lpHL9itUNmcSliONP3H2YYyococ4avSkheQLpH3ZfLKp+sSntgMGkiIMwx3Hx4dqYffhD\n",
       "SLQG5sc5iOl6k0qheHXMQrY57WEuNUwxL8TFV2tjFvFIgq0RoZU0x/xds1LhfHXMXzWpHdSZFHYQ\n",
       "5g9wJOmujVnGl31dayxmMXFHMM9vUtufZFLYQZgx7bBaJza/gT76WwNzBO4I5lyz4qe41CmCGe+C\n",
       "wXpb4BOtsxNOviOYhaZnu5pLraaZxs+Fwul6mCOFwoVsa2Be4sB8YOjrAdut6CpWMHuLGphFNFul\n",
       "eP/H/dCAuKPDQS51kGJeDLCzHmYxAyG9NTCvNjE/h17J2EQxb33pKlYwe4tYzsQsFojFOZsgAiPC\n",
       "kPEiNCDu6DCbS82mmNeCFK/QJ2vHjFqsbXSrqt/ksQaSZdP7hWOWTqDxa/6bPivRdBUr7Uz2FtJf\n",
       "VVdzFC3bJ+EZfRw0IO7oMJVLTaWYQ7rjD0lnj8A8xD3pOJ7sZCuogaSUfY6ofroEkuDPOy6Cv5FD\n",
       "nDmcH9nopftQdxlEPLo9LJLSojJwT9U7j3VgtntVNcwRVJkh94syG7yK0w7MtnGpbRSzYFg74NYJ\n",
       "PfBQWBd1N+ZpDe+AHHNQlemJKA/MwRbFk2xEbrkbM3xIQl0EacpF8/rhogi17u2INQg4mqqFGeAM\n",
       "RjIK3sXPWO4KLrWCHbbTT5trbDE+ERrJMLgxB/3GbWIOqfZAyG0EvRY2nu7bgwZ8gt9WaooOgjlz\n",
       "XGxLSTeqC5EO1ISbVWMzDhoQuA77ADrAszjtQK2DS3UwzP0oK/bP33qJnRDbH90YhsMLzi5I2TCH\n",
       "J6OxxS5tXMRjpeXaAqi9kmKODV9We0twcW5i2a1jvSXl801DAFeH3p00oKPlDcVFlzRvimZqv8ue\n",
       "afSmHgC0JjBmBXjRr2MS5be2brUgs4VwrmpsDhmg9PhyeIfCvFziClQSZx1mPlXES3QOl5rDMG9A\n",
       "13DPikREU8hhsD38xfKy1Sx9j95+93WvYnU21zJHZYilXxFVKgWykiHnQCpBpxpUw0kx24Uk0xDT\n",
       "JgRVb4pC0pYomZinf/QCvEQx96XNIs7UlL+B1jkd2oLMtmZCF46DcGNvLqBSzC5xh65Zoh2UWSfg\n",
       "JEs8idQShtmXAXj/MrTpAbKPtkPyShlmGI9eiZCRgXVkmWA3MM1125PvHZilmyg2KyX52hRAmBWE\n",
       "WQ8ZfZqkI8yBbvDDLhmkneBBMcCfB2yxY95bFOarFHN00CzCFjTGAnpF8STOAnNwDW1BZlsTs4wu\n",
       "1FLjkRns7neJ46Kly8VpB+lAGnAwOselztkfhE5Eodr/+o4dnyLM+4PlmIm1aSB36NyNQJ9rgG2a\n",
       "KzYHSgQzvDyWYpjBZ6xEXyDMAg6E1wE2DYIHRZljjmbKT4EkNk+xkiV84YSyqGGrmUh2qFqH7fPg\n",
       "CLIu8SlQXdxnBFAwkvJMCjsW5p9ggSxn6WoOTHPnzcy6QIOozl0Jw3IYqvQvnJEtX826Py3n9jDM\n",
       "nUihS0lgcHJOAhgED4pm0MCPYipitgb8DrwHOGS7z9aWi2dbG/NMJ2aXeLaGeCQjJjPkCReRwo6J\n",
       "GYXN8+30NDgLYKjiY30pdxStcYRZyVIXepAL+/kbqRSuQN4Wm8fBBoQZMepWSpsJ5pARyipGn5xB\n",
       "7TaE0yLBXF8xZmY62znmEQdmxWwgfbb5eXQ0Lj9nWyuSzJal0JUxhzQ7Zpe4YtQQ74Topgx7nnmE\n",
       "Ptg0MQficDUB69ANKf+q0cf45at56fKijjHLP1AXHcGR26XJJ/EbqxwvpW2Yw8Ojr+2+Jiydq8Hh\n",
       "7O5ryqTkvDUwUITwEsxL/O34nwRzfUVr2r0ccyffPaWjtwzbOTEyNlYCKCdh1dDZwjeJ6pgVHqTW\n",
       "v3Uc3OIxqCG+DGKHyGKgUtuh7Ecq5dsdPRWfadgMBw2Busdipguml4/N0u15c/0TxyB4UOy1lqIB\n",
       "f1DnWbWppyPr76VJY8ZVT9U3NqUd05gUcRr/LVAe6Qd4hZ4Yxv7hLjbqKXHhEHjDLNKhbD2telBc\n",
       "BHex3eZProlKbqLyKbCGHfOu6E/95zG/eVv/p+HhB3jFu5pyN1MevZD4F4JpYFIgidumAAAAAElF\n",
       "TkSuQmCC\n",
       "\" style=\"display:inline;vertical-align:middle;\" /></a><br>"
      ],
      "text/plain": [
       "<IPython.core.display.HTML object>"
      ]
     },
     "metadata": {},
     "output_type": "display_data"
    }
   ],
   "source": [
    "enum_set_card = Forall(n, Forall(x_1_to_n, Equals(Card(Set(x_1_to_n)), Len(x_1_to_n)), \n",
    "                               conditions=[Distinct(x_1_to_n)]),\n",
    "                    domain=NaturalPos)"
   ]
  },
  {
   "cell_type": "markdown",
   "metadata": {},
   "source": [
    "**If there are two or more elements in a set, there exists a pair of elements in the set that are not the same:**"
   ]
  },
  {
   "cell_type": "code",
   "execution_count": 3,
   "metadata": {},
   "outputs": [
    {
     "data": {
      "text/html": [
       "<strong id=\"distinct_subset_existence\"><a class=\"ProveItLink\" href=\"proofs/distinct_subset_existence/thm_proof.ipynb\">distinct_subset_existence</a> (conjecture without proof):<br></strong> <a class=\"ProveItLink\" href=\"../__pv_it/theorems/4ee8186af64ece65a1b038a685f2b4362d81d0260/theorem_expr.ipynb\"><img src=\"data:image/png;base64,iVBORw0KGgoAAAANSUhEUgAAAsEAAAAZBAMAAAAibe4sAAAAMFBMVEX///8AAAAAAAAAAAAAAAAA\n",
       "AAAAAAAAAAAAAAAAAAAAAAAAAAAAAAAAAAAAAAAAAAAv3aB7AAAAD3RSTlMAq1RmmUTNIjK7EInv\n",
       "3XZ/CtNrAAAACXBIWXMAAA7EAAAOxAGVKw4bAAAHMElEQVRo3u2aa2wUVRSAzz5mZ3a2u13QqCCB\n",
       "IWJsRJoNAXzEwBKKJTbFFRMTKQmNGgxKZEyMCdrA2vDDxKbdQCrWHzDgI2oNXVAgQKyL/oBAxJKg\n",
       "YsOGRSoIpmvlIT6C9T5m79w7O9ttO/5gE0/S23vvnnPm3K/nnrkzW4Dy4sl+D27ErX2FymBWIz+j\n",
       "kIDLSwUqkY/s3toXoz//E3aUH11ZSzmLcBRP3FWO0Ci0RrT3Z7PZ04mbhV4EhdJiJVeLQ5550+4u\n",
       "cc4ivBiPnytHaBRaZXM4ot00CbohASvjtItIFrpUQqT9wO2+NRjh13HVSJUjNAqtSiJcnQDVLJiI\n",
       "rip89jJpF7m8gi/OCGPYIa0coVFoVRjhQsGI2z8bIG3G7SWOMsL4V6AsoVFoVSbhDjth5Sopw81u\n",
       "L/GMdZb4Ops9Vp5Qea3KIXww35GQ10Shff5577QTE1FXWVOfn4rKRcNBbfqNCShOPyrPan7ym7st\n",
       "K9vQQQSNXRbhJQDvlCdUXqtiCH+iwRcJCETVFIQhjHI4EIXwROjQoUWTjsBJEjIC44ezuUbLzDZ0\n",
       "EEFjnkX4JZCjDuppkVAJLYhzLbpEKcJefFobP2E/a+8Zw5msRERvkbNEMCodRSqYcDAKwQxUx2AV\n",
       "eA9TwmEU6/2wwLjFMrMNHUTQuM8iHDRC/EFVPrkHHo4yaAXCplZTfn4Snae3xeDJF8lnqUIr9Z77\n",
       "OQhKJzV56gpIq3Kucxg7xb+DYLa+sZyp4wVDISL1H4AeTBjObNUZ4RRU59S/sSIhXIWuk4RHsPo8\n",
       "0wEddu+aXPJ6VKNQ4C3C3px1C2uf1AnTQ4bfKCJMtbw5bAlwNgMRXSRcC8oQWk/3JkpzCsAFV1UC\n",
       "h0KcCoS3j8VFE0+YRaQwwt1nrgqE8SccYYDjOI5B5uI4+auNVCmOW90V3FNz83y2GZfgJ7dcPARF\n",
       "hKlWFYAHDx69Yh7MLcLoeBPF64lsJp56YladGQ9hEgpxKhBePMZTv0WYRcRyWDZgQTKMFsty+Col\n",
       "nKZVAqTr8DHALLah8PAabEiW3nLEgMosjvDu51FnUfsAfdSDmrvXh+CzupN1CYEQ1sK1irzTSDcW\n",
       "Eb4CoJP1+LbiByN/nxPhfP2Abk5yXUusSRIKcSoQ7hMMIwPr64vLL5tEB3iLsBXRarMOow3piQU4\n",
       "wqgOgxeexWrBHKidngzuYsJoT5vDhzBho/gYAUxjzgN5nJ0PcoRbUJq8uyJWpasEV01oR5NDDmMt\n",
       "iAyTDFW0Hq3VRvjXP2PmenyHAVrVy4pWRDiiTwqYs1yXg8MmaSjEKU9YbhYML3hSTxct1pr0xpGJ\n",
       "vwvJZj6ilgRMQ7GmvEchqIeaQxhvgBBuicE+2IuxhqLg/eO9jKQRwurvwIbwORnSpqeZ61ANde5X\n",
       "gABAA0fYg9L+1fNQbUhkOTUQv+hA2EM2x47HCGjD33fJRlid8RsFoe5HyX8JGiNG0ZsfH2xVQCan\n",
       "PtJdNiDeuMgk3W+ULHbKE5ZSwPmAWDCXlGptlQNPmk5SXA5bEakN+Y4TypRD7/fm9wBMOIC6H047\n",
       "1LrtEKh1eR08dyI1pQ/UpbkZs+l2h6zBhko/GdJ6jas47aBZqiHvbIa/0My39reXU1Fp9q3u6tqE\n",
       "CHcHHAgTMUAaImcg+VpaJIy2yUqyHnlhklhvaHJ6e3kdJVM/62bUIVsCXi+wJqEQpzxhb1T0Ua2j\n",
       "W0OP/YGtUEQUnrAQUXk5BVxBBa9VF9YZwrAg97KeJyeh24fcZyd8BOoUJU1zWKotPg/TpNDo6x9U\n",
       "g2+zEV6Gro3XI09I0tO05wUHwkoGlfF+1tUV2+M/npzzxEzUIe6JU54wYsb7gDbQZdSIgiZ9i2en\n",
       "bVVCiKi8zBEIh6zDbFzWuaHD40NV0h9Pgj9mIywPwaka+tQ2Fx3GSrxB90fBo3ejFEL3Ck0kvBDg\n",
       "drQe9VadFmqQLxfbt4Sa/YROt9kNJkBNoxFpzMnaVBjMB0ji1HanYz7UtJzZi7daJ+fDnPRexPfE\n",
       "SM7KYTGi8hLUecI7rRR+Y6PBDdmdLme9GYVwa5JkhkBYisIvMViH8k/5TqcnMifCGxv2QZsW+SEJ\n",
       "HkMkvKTuoI4J0+nBtwEmO9j/1HuJ0GnTaBcdyZQvoU1XDqPGnPQkX8ErwVuBOBUIb7F8IMOlTXkD\n",
       "/EnOR2HyDnRPxJQYYTGi8qIWXtW+trYXwOL3zfAwP+SfH015HCKf4kAdv0VS93d1ln6vUBDhCJDi\n",
       "Wq7qjWTfz3yEjBw+H4mOw3BuuT0URriJ82EaHojwPsxeX2SuAR+VjGgUst7dtyg6jP97OslwR7j9\n",
       "mFbwsXYY7eXlNsfbYWZRVIywX2c+TMPA8A3Oh9lTo16UR/VuCP8HMl7CPhiBsILvK1tGzmGbj5iz\n",
       "Y2fCcMDBkO9yk/gdRqUQHuH/HXSuLfUNeMD1/0vIrFXHUErB7Xfy7mTwdAz//AsbKC5Gpl1sWwAA\n",
       "AABJRU5ErkJggg==\n",
       "\" style=\"display:inline;vertical-align:middle;\" /></a><br>"
      ],
      "text/plain": [
       "<IPython.core.display.HTML object>"
      ]
     },
     "metadata": {},
     "output_type": "display_data"
    }
   ],
   "source": [
    "distinct_subset_existence = Forall(n, Forall((S, N), \n",
    "                                           Exists(x_1_to_n, Distinct(x_1_to_n), domain=S,\n",
    "                                                  conditions=[Equals(Len(x_1_to_n), N)]),\n",
    "                                           conditions=[greater_eq(Card(S), N)]),\n",
    "                                 domain=NaturalPos)"
   ]
  },
  {
   "cell_type": "code",
   "execution_count": 4,
   "metadata": {},
   "outputs": [
    {
     "data": {
      "text/html": [
       "<strong id=\"distinct_pair_existence\"><a class=\"ProveItLink\" href=\"proofs/distinct_pair_existence/thm_proof.ipynb\">distinct_pair_existence</a> (conjecture without proof):<br></strong> <a class=\"ProveItLink\" href=\"../__pv_it/theorems/31f7407c3cb500f9e18ca49999a6afba59480a0b0/theorem_expr.ipynb\"><img src=\"data:image/png;base64,iVBORw0KGgoAAAANSUhEUgAAAOoAAAAXCAMAAAAyRiO7AAAAPFBMVEX///8AAAAAAAAAAAAAAAAA\n",
       "AAAAAAAAAAAAAAAAAAAAAAAAAAAAAAAAAAAAAAAAAAAAAAAAAAAAAAAAAAAo1xBWAAAAE3RSTlMA\n",
       "q1RmmUTNIjK7EInv3Xbn9enzK1aD6QAAAAlwSFlzAAAOxAAADsQBlSsOGwAAAyBJREFUWMPNWIeS\n",
       "2yAQFU2wtEvC//9rKKIIELLv7MTM2IPECt7bCmzbm5s1RrxqLv7tT16J4rIp9jqt4fU4leM7ZisO\n",
       "VN5i8jaq1KSmf8Ibq/W4gNqXoM2hH1Jw0LL6zt9u1Tu7rJrcbwTg5KI7zR2ZcYhsVg7bR1OlN04n\n",
       "0OnR5aUILTgO1pvCn01V3xn15JTMlcDVMuMgh7b27aOp4ht87GxUZaork4JDp4yhPpsqzfg4Upbb\n",
       "YbzLNDuyFqXVFKrpMYYzyPkKF/3Z81up7ofzMe05QXXPI7l//Qr/xbLS+biULtIne8HBUf6LUylr\n",
       "iS3JrM1V0ElAzPANFakUQnJCFediM1AV+yQbdhhiM+lTqUnkd2NUHHWho/GxrioPBs3Kx2FUuO2a\n",
       "apWARA9wa+YexZ1VUXZMYREkvfUYUnJJ89D42vTRxjoPo9GSLoqlmVSZej/lObSgWiXymIXDuZyf\n",
       "jjvxFFV9iFMqtgsMLVUN0T3Z2qhJFywVHNZY1fMkOc4dOW82R6pVoo4RiN8T+QhVqYhVeQXhfPqQ\n",
       "dVMzw9A4sHRhIdJYPMbq7z8pQNCpqtIU0dg0OBTOxXWzzgEZ47PpV4l2jGg+ZPk5VWm4J8jLaUBu\n",
       "lvqNXCvVYUiL2UQ1cED7hk+a2PucGvSdwjrYocHBdfUWialDK6pVApp8lLOTMPKGKvVhJcp+IHDy\n",
       "KZKdqHUYmpIRGWNDz9kfD7UA+fmAtmUq40DZ6WTaaSyoNhJ5jNPyPR9q1rDdDz+L2lClyLOF2PAM\n",
       "w6HDBBBZJTg6p+fBqF5MlY2kYbMTFsP9brin2krAUdILUU/a//jyEBeLHRB5oAuMfAkSaoHhQCy+\n",
       "d+ThZoqDRm0jfk21lYjJENEqzUEI0Z0ah/OqDqHKfAaTAaH39xhL1RtGDKdt+2x3IR84JgxUBaVK\n",
       "8UVaaiUi1XYZ7UK7OZozSrBVJASst5+g1h5ausQw3c83OlgbFR69IoCL/uz56VuItsr6zAYAKzzy\n",
       "Yj0jHznw/Auq17c6TD55T2TnB9XlJQ0/apr+MVUBuT1/h/GWC57XXNLxn1/g/c/2F0uFHEn5abh8\n",
       "AAAAAElFTkSuQmCC\n",
       "\" style=\"display:inline;vertical-align:middle;\" /></a><br>"
      ],
      "text/plain": [
       "<IPython.core.display.HTML object>"
      ]
     },
     "metadata": {},
     "output_type": "display_data"
    }
   ],
   "source": [
    "distinct_pair_existence = Forall(S, Exists((a, b), NotEquals(a, b), domain=S),\n",
    "                               conditions=[greater_eq(Card(S), num(2))])"
   ]
  },
  {
   "cell_type": "code",
   "execution_count": 5,
   "metadata": {},
   "outputs": [
    {
     "name": "stdout",
     "output_type": "stream",
     "text": [
      "These theorems may now be imported from the theory package: proveit.logic.sets.cardinality\n"
     ]
    }
   ],
   "source": [
    "%end theorems"
   ]
  },
  {
   "cell_type": "code",
   "execution_count": null,
   "metadata": {},
   "outputs": [],
   "source": []
  }
 ],
 "metadata": {
  "kernelspec": {
   "display_name": "Python 3",
   "language": "python",
   "name": "python3"
  }
 },
 "nbformat": 4,
 "nbformat_minor": 0
}