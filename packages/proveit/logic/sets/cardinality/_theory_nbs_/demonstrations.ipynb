{
 "cells": [
  {
   "cell_type": "markdown",
   "metadata": {},
   "source": [
    "Demonstrations for the theory of <a class=\"ProveItLink\" href=\"theory.ipynb\">proveit.logic.sets.cardinality</a>\n",
    "========"
   ]
  },
  {
   "cell_type": "code",
   "execution_count": 1,
   "metadata": {},
   "outputs": [],
   "source": [
    "import proveit\n",
    "from proveit.logic import Forall, Exists, Implies, Equals, NotEquals, Card, Set, Distinct, InSet\n",
    "from proveit.numbers import greater_eq, num, four\n",
    "from proveit import a, b, n, A, B, C, D, N, S\n",
    "from proveit.numbers import NaturalPos\n",
    "%begin demonstrations"
   ]
  },
  {
   "cell_type": "markdown",
   "metadata": {},
   "source": [
    "enum_set_card"
   ]
  },
  {
   "cell_type": "code",
   "execution_count": 2,
   "metadata": {},
   "outputs": [],
   "source": [
    "#Equals(Card(Set(x_iter1l)), Len(x_iter1l)).prove([Distinct(x_iter1l)])"
   ]
  },
  {
   "cell_type": "code",
   "execution_count": 3,
   "metadata": {},
   "outputs": [
    {
     "data": {
      "text/html": [
       "<span style=\"font-size:20px;\"> <a class=\"ProveItLink\" href=\"proofs/distinct_subset_existence/thm_proof.ipynb\" style=\"text-decoration: none\">&nbsp;&#x22A2;&nbsp;&nbsp;</a><a class=\"ProveItLink\" href=\"../__pv_it/theorems/2ce9eff5a9ee58ddea0e55fd00df026984c118930/expr.ipynb\"><img src=\"data:image/png;base64,iVBORw0KGgoAAAANSUhEUgAAAsEAAAAZBAMAAAAibe4sAAAAMFBMVEX///8AAAAAAAAAAAAAAAAA\n",
       "AAAAAAAAAAAAAAAAAAAAAAAAAAAAAAAAAAAAAAAAAAAv3aB7AAAAD3RSTlMAq1RmmUTNIjK7EInv\n",
       "3XZ/CtNrAAAACXBIWXMAAA7EAAAOxAGVKw4bAAAHMElEQVRo3u2aa2wUVRSAzz5mZ3a2u13QqCCB\n",
       "IWJsRJoNAXzEwBKKJTbFFRMTKQmNGgxKZEyMCdrA2vDDxKbdQCrWHzDgI2oNXVAgQKyL/oBAxJKg\n",
       "YsOGRSoIpmvlIT6C9T5m79w7O9ttO/5gE0/S23vvnnPm3K/nnrkzW4Dy4sl+D27ErX2FymBWIz+j\n",
       "kIDLSwUqkY/s3toXoz//E3aUH11ZSzmLcBRP3FWO0Ci0RrT3Z7PZ04mbhV4EhdJiJVeLQ5550+4u\n",
       "cc4ivBiPnytHaBRaZXM4ot00CbohASvjtItIFrpUQqT9wO2+NRjh13HVSJUjNAqtSiJcnQDVLJiI\n",
       "rip89jJpF7m8gi/OCGPYIa0coVFoVRjhQsGI2z8bIG3G7SWOMsL4V6AsoVFoVSbhDjth5Sopw81u\n",
       "L/GMdZb4Ops9Vp5Qea3KIXww35GQ10Shff5577QTE1FXWVOfn4rKRcNBbfqNCShOPyrPan7ym7st\n",
       "K9vQQQSNXRbhJQDvlCdUXqtiCH+iwRcJCETVFIQhjHI4EIXwROjQoUWTjsBJEjIC44ezuUbLzDZ0\n",
       "EEFjnkX4JZCjDuppkVAJLYhzLbpEKcJefFobP2E/a+8Zw5msRERvkbNEMCodRSqYcDAKwQxUx2AV\n",
       "eA9TwmEU6/2wwLjFMrMNHUTQuM8iHDRC/EFVPrkHHo4yaAXCplZTfn4Snae3xeDJF8lnqUIr9Z77\n",
       "OQhKJzV56gpIq3Kucxg7xb+DYLa+sZyp4wVDISL1H4AeTBjObNUZ4RRU59S/sSIhXIWuk4RHsPo8\n",
       "0wEddu+aXPJ6VKNQ4C3C3px1C2uf1AnTQ4bfKCJMtbw5bAlwNgMRXSRcC8oQWk/3JkpzCsAFV1UC\n",
       "h0KcCoS3j8VFE0+YRaQwwt1nrgqE8SccYYDjOI5B5uI4+auNVCmOW90V3FNz83y2GZfgJ7dcPARF\n",
       "hKlWFYAHDx69Yh7MLcLoeBPF64lsJp56YladGQ9hEgpxKhBePMZTv0WYRcRyWDZgQTKMFsty+Col\n",
       "nKZVAqTr8DHALLah8PAabEiW3nLEgMosjvDu51FnUfsAfdSDmrvXh+CzupN1CYEQ1sK1irzTSDcW\n",
       "Eb4CoJP1+LbiByN/nxPhfP2Abk5yXUusSRIKcSoQ7hMMIwPr64vLL5tEB3iLsBXRarMOow3piQU4\n",
       "wqgOgxeexWrBHKidngzuYsJoT5vDhzBho/gYAUxjzgN5nJ0PcoRbUJq8uyJWpasEV01oR5NDDmMt\n",
       "iAyTDFW0Hq3VRvjXP2PmenyHAVrVy4pWRDiiTwqYs1yXg8MmaSjEKU9YbhYML3hSTxct1pr0xpGJ\n",
       "vwvJZj6ilgRMQ7GmvEchqIeaQxhvgBBuicE+2IuxhqLg/eO9jKQRwurvwIbwORnSpqeZ61ANde5X\n",
       "gABAA0fYg9L+1fNQbUhkOTUQv+hA2EM2x47HCGjD33fJRlid8RsFoe5HyX8JGiNG0ZsfH2xVQCan\n",
       "PtJdNiDeuMgk3W+ULHbKE5ZSwPmAWDCXlGptlQNPmk5SXA5bEakN+Y4TypRD7/fm9wBMOIC6H047\n",
       "1LrtEKh1eR08dyI1pQ/UpbkZs+l2h6zBhko/GdJ6jas47aBZqiHvbIa/0My39reXU1Fp9q3u6tqE\n",
       "CHcHHAgTMUAaImcg+VpaJIy2yUqyHnlhklhvaHJ6e3kdJVM/62bUIVsCXi+wJqEQpzxhb1T0Ua2j\n",
       "W0OP/YGtUEQUnrAQUXk5BVxBBa9VF9YZwrAg97KeJyeh24fcZyd8BOoUJU1zWKotPg/TpNDo6x9U\n",
       "g2+zEV6Gro3XI09I0tO05wUHwkoGlfF+1tUV2+M/npzzxEzUIe6JU54wYsb7gDbQZdSIgiZ9i2en\n",
       "bVVCiKi8zBEIh6zDbFzWuaHD40NV0h9Pgj9mIywPwaka+tQ2Fx3GSrxB90fBo3ejFEL3Ck0kvBDg\n",
       "drQe9VadFmqQLxfbt4Sa/YROt9kNJkBNoxFpzMnaVBjMB0ji1HanYz7UtJzZi7daJ+fDnPRexPfE\n",
       "SM7KYTGi8hLUecI7rRR+Y6PBDdmdLme9GYVwa5JkhkBYisIvMViH8k/5TqcnMifCGxv2QZsW+SEJ\n",
       "HkMkvKTuoI4J0+nBtwEmO9j/1HuJ0GnTaBcdyZQvoU1XDqPGnPQkX8ErwVuBOBUIb7F8IMOlTXkD\n",
       "/EnOR2HyDnRPxJQYYTGi8qIWXtW+trYXwOL3zfAwP+SfH015HCKf4kAdv0VS93d1ln6vUBDhCJDi\n",
       "Wq7qjWTfz3yEjBw+H4mOw3BuuT0URriJ82EaHojwPsxeX2SuAR+VjGgUst7dtyg6jP97OslwR7j9\n",
       "mFbwsXYY7eXlNsfbYWZRVIywX2c+TMPA8A3Oh9lTo16UR/VuCP8HMl7CPhiBsILvK1tGzmGbj5iz\n",
       "Y2fCcMDBkO9yk/gdRqUQHuH/HXSuLfUNeMD1/0vIrFXHUErB7Xfy7mTwdAz//AsbKC5Gpl1sWwAA\n",
       "AABJRU5ErkJggg==\n",
       "\" style=\"display:inline;vertical-align:middle;\" /></a></span>"
      ],
      "text/plain": [
       "|- forall_{n in NaturalPos} [forall_{S, N | |S| >= N} [exists_{x_{1}, x_{2}, ..., x_{n} in S | |(x_{1}, x_{2}, ..., x_{n})| = N} distinct(x_{1}, x_{2}, ..., x_{n})]]"
      ]
     },
     "metadata": {},
     "output_type": "display_data"
    }
   ],
   "source": [
    "from proveit.logic.sets.cardinality import distinct_subset_existence\n",
    "distinct_subset_existence"
   ]
  },
  {
   "cell_type": "code",
   "execution_count": 4,
   "metadata": {},
   "outputs": [
    {
     "data": {
      "text/html": [
       "<span style=\"font-size:20px;\"><a class=\"ProveItLink\" href=\"../../../../numbers/number_sets/natural_numbers/__pv_it/theorems/132c57ec1224a4beaf274a23bd799047020206590/expr.ipynb\"><img src=\"data:image/png;base64,iVBORw0KGgoAAAANSUhEUgAAAEEAAAATBAMAAAA9n32KAAAAMFBMVEX///8AAAAAAAAAAAAAAAAA\n",
       "AAAAAAAAAAAAAAAAAAAAAAAAAAAAAAAAAAAAAAAAAAAv3aB7AAAAD3RSTlMARHarECKJu90yVM1m\n",
       "75kejotwAAAACXBIWXMAAA7EAAAOxAGVKw4bAAAA90lEQVQoz2NgwAf4GAgBdrJVeHyvdmDI/SuA\n",
       "x4wqRgMGlg/4bLEIyGFguMDwvLy2vPwAVhVWBdwBDA3YzFDv6NgAok0PsW7AqkJaBcowZZ6ghlDB\n",
       "qOyaVAQWZ90CU2rKUMAuAFfBxm7E4B8AYnEHIFTMY2lpgIWpIEcBQ/wEsAoGhAqeBcsvwHgO/gIM\n",
       "6x1ArLkdQFAAUcFgwgxXwbCegcEazHBHMoPBmaUBzgVK/2EBMTiQVXAqFMC51xi4vrCBGEwKMKFK\n",
       "INaEq2D9ycC04SSYuQsmBmLwbYDxGBsYWGwWgJnOhWAXM8z+C9TPsgFbfIhVdGCKAwDDkzTgOh63\n",
       "3AAAAABJRU5ErkJggg==\n",
       "\" style=\"display:inline;vertical-align:middle;\" /></a> <a class=\"ProveItLink\" href=\"../__pv_it/demonstrations/c3e0747ab52162079d2260fe55651f74984afbe30/proof.ipynb\" style=\"text-decoration: none\">&nbsp;&#x22A2;&nbsp;&nbsp;</a><a class=\"ProveItLink\" href=\"../__pv_it/theorems/c16f787724a8071de5340c6b263a938dd936358b0/expr.ipynb\"><img src=\"data:image/png;base64,iVBORw0KGgoAAAANSUhEUgAAAm4AAAAZBAMAAAB6Pr9wAAAAMFBMVEX///8AAAAAAAAAAAAAAAAA\n",
       "AAAAAAAAAAAAAAAAAAAAAAAAAAAAAAAAAAAAAAAAAAAv3aB7AAAAD3RSTlMAq1RmmUTNIjK7EInv\n",
       "3XZ/CtNrAAAACXBIWXMAAA7EAAAOxAGVKw4bAAAGWUlEQVRYw+WZf2wURRTHv3e3173ucdtDEq2I\n",
       "ukRiokC9IKAkBs8IgmDxlMQESsL5Ixo1miUhGAyBgxhjBUKJIVBicNH+YW1Cz5JgpLGprYTEXylG\n",
       "/9DkkqvF8EM5kVL5IVjnx+7s7N31l+sfWCbpzHvb2fdmP/vmzcwe4KvcmjNx/RU9951PC+n/42P7\n",
       "etUqq++9Drnphp+7w3nOLU6bO3xwq83lckeuGShnjkDtdoOju0yX6f489HFuC2nzgs94+/ma4aYO\n",
       "IHyei1EI0S5ZWmk+50iFxbhtps4axg03DAAWl9ZCiDbTJK2VhD8HoSTjRvFFjXHFzS7HSxIb4zbB\n",
       "r4cvGbcQwV+Bccgtcr74XzsYtzv9eniWr6ff5HJfjRdu0Y6TA1j3OSJ9hfTUqxMNIr75xcZesgQ2\n",
       "tbcFbz92A+mzlPwd6P2wXZpjRWpp0QqTt7Y5ysec22Jg7zjhpnUhSuLtaTQDPfgeVMQxI3IBahdW\n",
       "ZWJJJ1yS+m1Kj3tfkVpaFPTmax1lLue2Bmq8XN+kVLttKbeZZB/S9e+fVbgJjmE7mi8/oso0XU+x\n",
       "E6ss0oVy2wm8C/SjIo0ZJudGtvohM3Q54C4PRWqZch8etCY5ygzOrdKKpohUV5ifIc2KfoSfZ1s7\n",
       "vsaSOtzRd5K09Sm+73svgade9R9vtj/XzZwx3KyIGz0jas1DY9xil07A4dYI/I1WugXh3MheMwKF\n",
       "DvwDe/Rc1donWkP5y+ARKU1ybsE8XRaCeaZDnwKcgOeBahA5S1rtU54Cejuhm364RXobU8KfcKPF\n",
       "x7Jpz0rc3BHtcLhpnw0mPdx25GVuZFEleqQg5iZVFQw3V791xVX2OSs9n6/OAfYmWxN8e+hy6wQ5\n",
       "VFDtFIvlJf10R+mD24KM5E+4UVJjsfGSzE2MSMTb6whdJNyybrwlGbcon6fAalOzEBScqFqVUi8O\n",
       "/aIu4CNHnmlzayODQFWCn1ijBHoRt356EmbaPPrWsrXluOnHNy5ytkmuKO2dxEWd0Xf8CTcxjGgD\n",
       "hUXH7Uhvk7mJEVU02PmtBpiE5yRuJL/BqGDc9gHNqSn0DspNg6OGLMJNK3VKJq+2K9BJjM2+v0Dx\n",
       "z7O5baAzRB98h/Xaop2LGF5uv19KONoDJiJGq7GllNuJQMMz9jVJdIt7sZmDsf0JN+swog3dvLnC\n",
       "3i5Mo7c82khKQhqRegSBfkpqhoXdOEQelUB7kXIjB9WoGU1H+Tbinrcfw5OcW2taqIj2MFX7E3bl\n",
       "aMGLTZ1hQ5vTjaP2RoZyC7D8/P7jLMGcRq1ueblp0/6wtZZdZPCW0nO69FyfqMxnsJ7dScVwzULv\n",
       "M7P/s7KcN7Y/4WYFRrQRwr6ILa6Q4k0aUVPHyavxzV9Priv8mkLgFouIm69U33UljqZlJGtPPEz6\n",
       "bCfdCsGHDc4t9pNQsd1iKkuMrGIJMWdBW5afNgvqgTQukws/yN+RLITP8g3BpjpvIJDQXc21tdVs\n",
       "KVMHsmW+I1WRUJxpOeIEtBYFS5WzlswlQWIIf8LN1FHYwAVHqJe4eUc0YollHInlt7vd4+tejyp6\n",
       "iVU2kA+TXK/2SNzChn24zyLwspcbieD1TFtTbX9luLEct20kCcYsR1RJ5S3kYmjhLHLnVo8/4aZ+\n",
       "FDYinSpmL59eNE+9Ixrdudzl5t65Fq/JqjiDCGlCRklm+HcBh5sSR8DUsiRXQD3n5fYQcBNt9/NE\n",
       "TTLJJqOEm9p5iIQqeWYty0XsIiJanIpdDJ4iu3iyX3T8Fa0L5Wy4Fki1IZpWUNMQoyuEFG/eEY1c\n",
       "dsvctLwItz1vLZFU9xAmpE2IbcnQIJK4vbH0E0S6cGYPMNnLbfGCdpO2fB3Wf8wgYJXG27K6gkWf\n",
       "mdhgopKh4jYzcpRW9sVqNU3H5/jzuKk0y9nANoNbIJWh/NJxmmTjdfzZHW5FIxq5NDugDv2Vh+5G\n",
       "0+DgWUn1nE14eQL6QRu79zt5UFbkaSSv+sN8J6dzzLZxWJfN2VKPPof0aGlsTJW6CWfL2oAbSVyK\n",
       "oW8ltIYhRzSKT5t5X1/ZzVJuK/1xi/zW5tioGLwqm+OSFg8eLLEg3CwqayMsIsmW9mN6Aorpg9t/\n",
       "UbzcEsNxq6dZ2Bw23opsJMobHoJb1CrXPVRG4mfZa4ibp5hSPeRvZ6/4/v3UdTOGHGXB5695/oqe\n",
       "6/4HOm8zT2os3/8AAAAASUVORK5CYII=\n",
       "\" style=\"display:inline;vertical-align:middle;\" /></a></span>"
      ],
      "text/plain": [
       "{n in NaturalPos} |- forall_{S, N | |S| >= N} [exists_{x_{1}, x_{2}, ..., x_{n} in S | |(x_{1}, x_{2}, ..., x_{n})| = N} distinct(x_{1}, x_{2}, ..., x_{n})]"
      ]
     },
     "metadata": {},
     "output_type": "display_data"
    }
   ],
   "source": [
    "distinct_subset_existence.instantiate(assumptions=[InSet(n, NaturalPos)])"
   ]
  },
  {
   "cell_type": "markdown",
   "metadata": {},
   "source": [
    "distinct_subset_existence"
   ]
  },
  {
   "cell_type": "code",
   "execution_count": 5,
   "metadata": {},
   "outputs": [],
   "source": [
    "#Card(S).distinct_subset_existence(elems = [A,B,C,D], assumptions=[Equals(Len([A,B,C,D]), N), greater_eq(Card(S), N),  InSet(l, NaturalPos), greater_eq(Len(S),four)])"
   ]
  },
  {
   "cell_type": "markdown",
   "metadata": {},
   "source": [
    "distinct_pair_existence"
   ]
  },
  {
   "cell_type": "code",
   "execution_count": 6,
   "metadata": {},
   "outputs": [],
   "source": [
    "#Card(S).distinct_subset_existence(elems = [A,B], assumptions=[greater_eq(Card(S), num(2)), InSet(l, NaturalPos)])"
   ]
  },
  {
   "cell_type": "code",
   "execution_count": 7,
   "metadata": {},
   "outputs": [],
   "source": [
    "%end demonstrations"
   ]
  }
 ],
 "metadata": {
  "kernelspec": {
   "display_name": "Python 3",
   "language": "python",
   "name": "python3"
  }
 },
 "nbformat": 4,
 "nbformat_minor": 0
}