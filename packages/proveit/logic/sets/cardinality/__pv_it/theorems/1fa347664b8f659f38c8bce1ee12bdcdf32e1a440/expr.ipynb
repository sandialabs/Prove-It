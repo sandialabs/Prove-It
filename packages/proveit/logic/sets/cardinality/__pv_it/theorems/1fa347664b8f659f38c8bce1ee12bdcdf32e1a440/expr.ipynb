{
 "cells": [
  {
   "cell_type": "markdown",
   "metadata": {},
   "source": [
    "Expression of type <a class=\"ProveItLink\" href=\"../../../../../../../../doc/html/api/proveit.Conditional.html\">Conditional</a>\n",
    "=======================\n",
    "# from the theory of <a class=\"ProveItLink\" href=\"../../../_theory_nbs_/theory.ipynb\">proveit.logic.sets.cardinality</a>"
   ]
  },
  {
   "cell_type": "code",
   "execution_count": 1,
   "metadata": {},
   "outputs": [],
   "source": [
    "import proveit\n",
    "# Automation is not needed when building an expression:\n",
    "proveit.defaults.automation = False # This will speed things up.\n",
    "proveit.defaults.inline_pngs = False # Makes files smaller.\n",
    "%load_expr # Load the stored expression as 'stored_expr'\n",
    "# import Expression classes needed to build the expression\n",
    "from proveit import Conditional, N, S, n\n",
    "from proveit.core_expr_types import Len, x_1_to_n\n",
    "from proveit.logic import Card, Distinct, Equals, Exists, Forall, InSet\n",
    "from proveit.numbers import NaturalPos, greater_eq"
   ]
  },
  {
   "cell_type": "code",
   "execution_count": 2,
   "metadata": {},
   "outputs": [
    {
     "data": {
      "text/html": [
       "<strong id=\"expr\">expr:</strong> <a class=\"ProveItLink\" href=\"expr.ipynb\"><img src=\"expr.png\" style=\"display:inline;vertical-align:middle;\" /></a><br>"
      ],
      "text/plain": [
       "<IPython.core.display.HTML object>"
      ]
     },
     "metadata": {},
     "output_type": "display_data"
    }
   ],
   "source": [
    "# build up the expression from sub-expressions\n",
    "sub_expr1 = [x_1_to_n]\n",
    "expr = Conditional(Forall(instance_param_or_params = [S, N], instance_expr = Exists(instance_param_or_params = sub_expr1, instance_expr = Distinct(x_1_to_n), domain = S, condition = Equals(Len(operands = sub_expr1), N)), condition = greater_eq(Card(S), N)), InSet(n, NaturalPos))"
   ]
  },
  {
   "cell_type": "code",
   "execution_count": 3,
   "metadata": {},
   "outputs": [
    {
     "name": "stdout",
     "output_type": "stream",
     "text": [
      "Passed sanity check: expr matches stored_expr\n"
     ]
    }
   ],
   "source": [
    "# check that the built expression is the same as the stored expression\n",
    "assert expr == stored_expr\n",
    "assert expr._style_id == stored_expr._style_id\n",
    "print(\"Passed sanity check: expr matches stored_expr\")"
   ]
  },
  {
   "cell_type": "code",
   "execution_count": 4,
   "metadata": {},
   "outputs": [
    {
     "name": "stdout",
     "output_type": "stream",
     "text": [
      "\\left\\{\\forall_{S, N~|~|S| \\geq N}~\\left[\\exists_{x_{1}, x_{2}, \\ldots, x_{n} \\in S~|~|\\left(x_{1}, x_{2}, \\ldots, x_{n}\\right)| = N}~\\textrm{distinct}\\left(x_{1}, x_{2}, \\ldots, x_{n}\\right)\\right] \\textrm{ if } n \\in \\mathbb{N}^+\\right..\n"
     ]
    }
   ],
   "source": [
    "# Show the LaTeX representation of the expression for convenience if you need it.\n",
    "print(stored_expr.latex())"
   ]
  },
  {
   "cell_type": "code",
   "execution_count": 5,
   "metadata": {},
   "outputs": [
    {
     "data": {
      "text/html": [
       "<table>\n",
       "<tr><th>name</th><th>description</th><th>default</th><th>current value</th><th>related methods</th></tr><tr><td>condition_delimiter</td><td>'comma' or 'and'</td><td>comma</td><td>comma</td><td>('with_comma_delimiter', 'with_conjunction_delimiter')</td></tr>\n",
       "</table>\n"
      ],
      "text/plain": [
       "style name: condition_delimiter\n",
       "description: 'comma' or 'and'\n",
       "default: comma\n",
       "current value: comma\n",
       "related methods: ('with_comma_delimiter', 'with_conjunction_delimiter')"
      ]
     },
     "metadata": {},
     "output_type": "display_data"
    }
   ],
   "source": [
    "stored_expr.style_options()"
   ]
  },
  {
   "cell_type": "code",
   "execution_count": 6,
   "metadata": {},
   "outputs": [
    {
     "data": {
      "text/html": [
       "<table><tr><th>&nbsp;</th><th>core type</th><th>sub-expressions</th><th>expression</th></tr>\n",
       "<tr><td>0</td><td>Conditional</td><td>value:&nbsp;1<br>condition:&nbsp;2<br></td><td><a class=\"ProveItLink\" href=\"expr.ipynb\"><img src=\"expr.png\" style=\"display:inline;vertical-align:middle;\" /></a></td></tr>\n",
       "<tr><td>1</td><td>Operation</td><td>operator:&nbsp;3<br>operand:&nbsp;6<br></td><td><a class=\"ProveItLink\" href=\"../c16f787724a8071de5340c6b263a938dd936358b0/expr.ipynb\"><img src=\"../c16f787724a8071de5340c6b263a938dd936358b0/expr.png\" style=\"display:inline;vertical-align:middle;\" /></a></td></tr>\n",
       "<tr><td>2</td><td>Operation</td><td>operator:&nbsp;34<br>operands:&nbsp;5<br></td><td><a class=\"ProveItLink\" href=\"../c3c0a0522590e024022c8052cabac138164190560/expr.ipynb\"><img src=\"../c3c0a0522590e024022c8052cabac138164190560/expr.png\" style=\"display:inline;vertical-align:middle;\" /></a></td></tr>\n",
       "<tr><td>3</td><td>Literal</td><td></td><td><a class=\"ProveItLink\" href=\"../../../../../booleans/quantification/universality/__pv_it/common/083d2baa0b8ecab1d230f9ec29a15aa1355809fb0/expr.ipynb\"><img src=\"../../../../../booleans/quantification/universality/__pv_it/common/083d2baa0b8ecab1d230f9ec29a15aa1355809fb0/expr.png\" style=\"display:inline;vertical-align:middle;\" /></a></td></tr>\n",
       "<tr><td>4</td><td>ExprTuple</td><td>6</td><td><a class=\"ProveItLink\" href=\"../81f02002901bd5f50a94d108c9eacdc855a95e9b0/expr.ipynb\"><img src=\"../81f02002901bd5f50a94d108c9eacdc855a95e9b0/expr.png\" style=\"display:inline;vertical-align:middle;\" /></a></td></tr>\n",
       "<tr><td>5</td><td>ExprTuple</td><td>42, 7</td><td><a class=\"ProveItLink\" href=\"../4459dda147b56e10026c83203ced1bc32b9704ab0/expr.ipynb\"><img src=\"../4459dda147b56e10026c83203ced1bc32b9704ab0/expr.png\" style=\"display:inline;vertical-align:middle;\" /></a></td></tr>\n",
       "<tr><td>6</td><td>Lambda</td><td>parameters:&nbsp;8<br>body:&nbsp;9<br></td><td><a class=\"ProveItLink\" href=\"../4cef3c615e33731d307bd30526cd218ba2329f7b0/expr.ipynb\"><img src=\"../4cef3c615e33731d307bd30526cd218ba2329f7b0/expr.png\" style=\"display:inline;vertical-align:middle;\" /></a></td></tr>\n",
       "<tr><td>7</td><td>Literal</td><td></td><td><a class=\"ProveItLink\" href=\"../../../../../../numbers/number_sets/natural_numbers/__pv_it/common/6111329435c43892c831c4793de96afbf80bdb3e0/expr.ipynb\"><img src=\"../../../../../../numbers/number_sets/natural_numbers/__pv_it/common/6111329435c43892c831c4793de96afbf80bdb3e0/expr.png\" style=\"display:inline;vertical-align:middle;\" /></a></td></tr>\n",
       "<tr><td>8</td><td>ExprTuple</td><td>38, 33</td><td><a class=\"ProveItLink\" href=\"../102b1b78a7e7150e516373200cc9c18747476c010/expr.ipynb\"><img src=\"../102b1b78a7e7150e516373200cc9c18747476c010/expr.png\" style=\"display:inline;vertical-align:middle;\" /></a></td></tr>\n",
       "<tr><td>9</td><td>Conditional</td><td>value:&nbsp;10<br>condition:&nbsp;11<br></td><td><a class=\"ProveItLink\" href=\"../c52b54379d52294c6f394783f3ccaf72af4a846a0/expr.ipynb\"><img src=\"../c52b54379d52294c6f394783f3ccaf72af4a846a0/expr.png\" style=\"display:inline;vertical-align:middle;\" /></a></td></tr>\n",
       "<tr><td>10</td><td>Operation</td><td>operator:&nbsp;12<br>operand:&nbsp;16<br></td><td><a class=\"ProveItLink\" href=\"../655330afdb7ea3e02a28d55f14570ba82f979bc60/expr.ipynb\"><img src=\"../655330afdb7ea3e02a28d55f14570ba82f979bc60/expr.png\" style=\"display:inline;vertical-align:middle;\" /></a></td></tr>\n",
       "<tr><td>11</td><td>Operation</td><td>operator:&nbsp;14<br>operands:&nbsp;15<br></td><td><a class=\"ProveItLink\" href=\"../ba2d1b22dee7d1c78c0b4fdd13b15ef3a3075a760/expr.ipynb\"><img src=\"../ba2d1b22dee7d1c78c0b4fdd13b15ef3a3075a760/expr.png\" style=\"display:inline;vertical-align:middle;\" /></a></td></tr>\n",
       "<tr><td>12</td><td>Literal</td><td></td><td><a class=\"ProveItLink\" href=\"../../../../../booleans/quantification/existence/__pv_it/common/fedc3809ed9823aab11264c156786a59540352e70/expr.ipynb\"><img src=\"../../../../../booleans/quantification/existence/__pv_it/common/fedc3809ed9823aab11264c156786a59540352e70/expr.png\" style=\"display:inline;vertical-align:middle;\" /></a></td></tr>\n",
       "<tr><td>13</td><td>ExprTuple</td><td>16</td><td><a class=\"ProveItLink\" href=\"../b3d34120f1df21cf5546f44bf5c54809d16ed8f40/expr.ipynb\"><img src=\"../b3d34120f1df21cf5546f44bf5c54809d16ed8f40/expr.png\" style=\"display:inline;vertical-align:middle;\" /></a></td></tr>\n",
       "<tr><td>14</td><td>Literal</td><td></td><td><a class=\"ProveItLink\" href=\"../../../../../../numbers/ordering/__pv_it/common/68379698d72b4689bbda4b5c5cca29ee599d70280/expr.ipynb\"><img src=\"../../../../../../numbers/ordering/__pv_it/common/68379698d72b4689bbda4b5c5cca29ee599d70280/expr.png\" style=\"display:inline;vertical-align:middle;\" /></a></td></tr>\n",
       "<tr><td>15</td><td>ExprTuple</td><td>33, 17</td><td><a class=\"ProveItLink\" href=\"../b27f6752a66c65a667fc52df541f5659ba7c272b0/expr.ipynb\"><img src=\"../b27f6752a66c65a667fc52df541f5659ba7c272b0/expr.png\" style=\"display:inline;vertical-align:middle;\" /></a></td></tr>\n",
       "<tr><td>16</td><td>Lambda</td><td>parameters:&nbsp;37<br>body:&nbsp;18<br></td><td><a class=\"ProveItLink\" href=\"../4150626b7091a66e7346b92ed200e27f1772b7cf0/expr.ipynb\"><img src=\"../4150626b7091a66e7346b92ed200e27f1772b7cf0/expr.png\" style=\"display:inline;vertical-align:middle;\" /></a></td></tr>\n",
       "<tr><td>17</td><td>Operation</td><td>operator:&nbsp;19<br>operand:&nbsp;38<br></td><td><a class=\"ProveItLink\" href=\"../ccf6e4205448249d1e108ddcc75f9dae05407a890/expr.ipynb\"><img src=\"../ccf6e4205448249d1e108ddcc75f9dae05407a890/expr.png\" style=\"display:inline;vertical-align:middle;\" /></a></td></tr>\n",
       "<tr><td>18</td><td>Conditional</td><td>value:&nbsp;21<br>condition:&nbsp;22<br></td><td><a class=\"ProveItLink\" href=\"../9160c16e3e68c8e945be73050ede73e3cafe9be70/expr.ipynb\"><img src=\"../9160c16e3e68c8e945be73050ede73e3cafe9be70/expr.png\" style=\"display:inline;vertical-align:middle;\" /></a></td></tr>\n",
       "<tr><td>19</td><td>Literal</td><td></td><td><a class=\"ProveItLink\" href=\"../../common/37cc8d68272d88ace1dbf77a85e417fe7e7954e60/expr.ipynb\"><img src=\"../../common/37cc8d68272d88ace1dbf77a85e417fe7e7954e60/expr.png\" style=\"display:inline;vertical-align:middle;\" /></a></td></tr>\n",
       "<tr><td>20</td><td>ExprTuple</td><td>38</td><td><a class=\"ProveItLink\" href=\"../b56f07ff3525963a95bdc514d264b650cd8d9a4e0/expr.ipynb\"><img src=\"../b56f07ff3525963a95bdc514d264b650cd8d9a4e0/expr.png\" style=\"display:inline;vertical-align:middle;\" /></a></td></tr>\n",
       "<tr><td>21</td><td>Operation</td><td>operator:&nbsp;23<br>operands:&nbsp;37<br></td><td><a class=\"ProveItLink\" href=\"../809cc2738e294a876618a142a0b4aba01c75ed160/expr.ipynb\"><img src=\"../809cc2738e294a876618a142a0b4aba01c75ed160/expr.png\" style=\"display:inline;vertical-align:middle;\" /></a></td></tr>\n",
       "<tr><td>22</td><td>Operation</td><td>operator:&nbsp;24<br>operands:&nbsp;25<br></td><td><a class=\"ProveItLink\" href=\"../5562ee5cf108e829b6f84663b0835bec893a9b720/expr.ipynb\"><img src=\"../5562ee5cf108e829b6f84663b0835bec893a9b720/expr.png\" style=\"display:inline;vertical-align:middle;\" /></a></td></tr>\n",
       "<tr><td>23</td><td>Literal</td><td></td><td><a class=\"ProveItLink\" href=\"../../../../disjointness/__pv_it/common/bd1ac72998c1b71af8056c140203e1b6e4ef46e20/expr.ipynb\"><img src=\"../../../../disjointness/__pv_it/common/bd1ac72998c1b71af8056c140203e1b6e4ef46e20/expr.png\" style=\"display:inline;vertical-align:middle;\" /></a></td></tr>\n",
       "<tr><td>24</td><td>Literal</td><td></td><td><a class=\"ProveItLink\" href=\"../../../../../booleans/conjunction/__pv_it/common/42118ff318bd65d98b1393f64ce7c2269feef76e0/expr.ipynb\"><img src=\"../../../../../booleans/conjunction/__pv_it/common/42118ff318bd65d98b1393f64ce7c2269feef76e0/expr.png\" style=\"display:inline;vertical-align:middle;\" /></a></td></tr>\n",
       "<tr><td>25</td><td>ExprTuple</td><td>26, 27</td><td><a class=\"ProveItLink\" href=\"../2ef25b4de515f78ed9770457558e579235f2994d0/expr.ipynb\"><img src=\"../2ef25b4de515f78ed9770457558e579235f2994d0/expr.png\" style=\"display:inline;vertical-align:middle;\" /></a></td></tr>\n",
       "<tr><td>26</td><td>ExprRange</td><td>lambda_map:&nbsp;28<br>start_index:&nbsp;41<br>end_index:&nbsp;42<br></td><td><a class=\"ProveItLink\" href=\"../1a36955407da083fb803b5d633575e8cb30a99120/expr.ipynb\"><img src=\"../1a36955407da083fb803b5d633575e8cb30a99120/expr.png\" style=\"display:inline;vertical-align:middle;\" /></a></td></tr>\n",
       "<tr><td>27</td><td>Operation</td><td>operator:&nbsp;29<br>operands:&nbsp;30<br></td><td><a class=\"ProveItLink\" href=\"../9a1e9c4372d10203e1d86f8c9e9ed35feb515d5f0/expr.ipynb\"><img src=\"../9a1e9c4372d10203e1d86f8c9e9ed35feb515d5f0/expr.png\" style=\"display:inline;vertical-align:middle;\" /></a></td></tr>\n",
       "<tr><td>28</td><td>Lambda</td><td>parameter:&nbsp;46<br>body:&nbsp;31<br></td><td><a class=\"ProveItLink\" href=\"../84ce293f08cb6dd495067baf26b3ba9a208125c00/expr.ipynb\"><img src=\"../84ce293f08cb6dd495067baf26b3ba9a208125c00/expr.png\" style=\"display:inline;vertical-align:middle;\" /></a></td></tr>\n",
       "<tr><td>29</td><td>Literal</td><td></td><td><a class=\"ProveItLink\" href=\"../../../../../equality/__pv_it/common/fb96dc12b2aa8801dda64d0132b396c63d1502bb0/expr.ipynb\"><img src=\"../../../../../equality/__pv_it/common/fb96dc12b2aa8801dda64d0132b396c63d1502bb0/expr.png\" style=\"display:inline;vertical-align:middle;\" /></a></td></tr>\n",
       "<tr><td>30</td><td>ExprTuple</td><td>32, 33</td><td><a class=\"ProveItLink\" href=\"../bb20ec1431375121fa192af416d6f92b41fd5ac90/expr.ipynb\"><img src=\"../bb20ec1431375121fa192af416d6f92b41fd5ac90/expr.png\" style=\"display:inline;vertical-align:middle;\" /></a></td></tr>\n",
       "<tr><td>31</td><td>Operation</td><td>operator:&nbsp;34<br>operands:&nbsp;35<br></td><td><a class=\"ProveItLink\" href=\"../8da5d1e514f6df4f11d3c4d4a87e5f8de78263000/expr.ipynb\"><img src=\"../8da5d1e514f6df4f11d3c4d4a87e5f8de78263000/expr.png\" style=\"display:inline;vertical-align:middle;\" /></a></td></tr>\n",
       "<tr><td>32</td><td>Operation</td><td>operator:&nbsp;36<br>operands:&nbsp;37<br></td><td><a class=\"ProveItLink\" href=\"../16ab669057f1bdcc7e00b32aae665729ffa3bd910/expr.ipynb\"><img src=\"../16ab669057f1bdcc7e00b32aae665729ffa3bd910/expr.png\" style=\"display:inline;vertical-align:middle;\" /></a></td></tr>\n",
       "<tr><td>33</td><td>Variable</td><td></td><td><a class=\"ProveItLink\" href=\"../../../../../../__pv_it/common/ec2f9d003f907f9688d46f19f6df289e52cc63ce0/expr.ipynb\"><img src=\"../../../../../../__pv_it/common/ec2f9d003f907f9688d46f19f6df289e52cc63ce0/expr.png\" style=\"display:inline;vertical-align:middle;\" /></a></td></tr>\n",
       "<tr><td>34</td><td>Literal</td><td></td><td><a class=\"ProveItLink\" href=\"../../../../membership/__pv_it/common/477487d8796864d23d5810f83761435f25167f690/expr.ipynb\"><img src=\"../../../../membership/__pv_it/common/477487d8796864d23d5810f83761435f25167f690/expr.png\" style=\"display:inline;vertical-align:middle;\" /></a></td></tr>\n",
       "<tr><td>35</td><td>ExprTuple</td><td>43, 38</td><td><a class=\"ProveItLink\" href=\"../afbcfdb997ef689412361c4b8f3f22be7e985f6c0/expr.ipynb\"><img src=\"../afbcfdb997ef689412361c4b8f3f22be7e985f6c0/expr.png\" style=\"display:inline;vertical-align:middle;\" /></a></td></tr>\n",
       "<tr><td>36</td><td>Literal</td><td></td><td><a class=\"ProveItLink\" href=\"../../../../../../core_expr_types/tuples/__pv_it/common/43df765abf1294d8f1fd177863f57f08bf5ad0080/expr.ipynb\"><img src=\"../../../../../../core_expr_types/tuples/__pv_it/common/43df765abf1294d8f1fd177863f57f08bf5ad0080/expr.png\" style=\"display:inline;vertical-align:middle;\" /></a></td></tr>\n",
       "<tr><td>37</td><td>ExprTuple</td><td>39</td><td><a class=\"ProveItLink\" href=\"../e29d2811b42e43e69e77c1c44413b65518ecad320/expr.ipynb\"><img src=\"../e29d2811b42e43e69e77c1c44413b65518ecad320/expr.png\" style=\"display:inline;vertical-align:middle;\" /></a></td></tr>\n",
       "<tr><td>38</td><td>Variable</td><td></td><td><a class=\"ProveItLink\" href=\"../../../../../../__pv_it/common/38f47c5670ea8c5b56253448e95d8afb56bc09b40/expr.ipynb\"><img src=\"../../../../../../__pv_it/common/38f47c5670ea8c5b56253448e95d8afb56bc09b40/expr.png\" style=\"display:inline;vertical-align:middle;\" /></a></td></tr>\n",
       "<tr><td>39</td><td>ExprRange</td><td>lambda_map:&nbsp;40<br>start_index:&nbsp;41<br>end_index:&nbsp;42<br></td><td><a class=\"ProveItLink\" href=\"../../../../../../core_expr_types/__pv_it/common/d50f819f834d55ea1b9fad150926a94bf07ad8fc0/expr.ipynb\"><img src=\"../../../../../../core_expr_types/__pv_it/common/d50f819f834d55ea1b9fad150926a94bf07ad8fc0/expr.png\" style=\"display:inline;vertical-align:middle;\" /></a></td></tr>\n",
       "<tr><td>40</td><td>Lambda</td><td>parameter:&nbsp;46<br>body:&nbsp;43<br></td><td><a class=\"ProveItLink\" href=\"../../../../../../core_expr_types/__pv_it/common/f8f30fee5e5b4e37951ff8886b574795bf35d80c0/expr.ipynb\"><img src=\"../../../../../../core_expr_types/__pv_it/common/f8f30fee5e5b4e37951ff8886b574795bf35d80c0/expr.png\" style=\"display:inline;vertical-align:middle;\" /></a></td></tr>\n",
       "<tr><td>41</td><td>Literal</td><td></td><td><a class=\"ProveItLink\" href=\"../../../../../../numbers/numerals/__pv_it/common/682157d4892d216d9e5626ed533aff9b56b9506e0/expr.ipynb\"><img src=\"../../../../../../numbers/numerals/__pv_it/common/682157d4892d216d9e5626ed533aff9b56b9506e0/expr.png\" style=\"display:inline;vertical-align:middle;\" /></a></td></tr>\n",
       "<tr><td>42</td><td>Variable</td><td></td><td><a class=\"ProveItLink\" href=\"../../../../../../__pv_it/common/8968bb04eb3f7dfa02353397ce929b025bbd79c20/expr.ipynb\"><img src=\"../../../../../../__pv_it/common/8968bb04eb3f7dfa02353397ce929b025bbd79c20/expr.png\" style=\"display:inline;vertical-align:middle;\" /></a></td></tr>\n",
       "<tr><td>43</td><td>IndexedVar</td><td>variable:&nbsp;44<br>index:&nbsp;46<br></td><td><a class=\"ProveItLink\" href=\"../../../../../../core_expr_types/__pv_it/common/b7a46615d4e67a28ab963909b818c72af8e8e7c60/expr.ipynb\"><img src=\"../../../../../../core_expr_types/__pv_it/common/b7a46615d4e67a28ab963909b818c72af8e8e7c60/expr.png\" style=\"display:inline;vertical-align:middle;\" /></a></td></tr>\n",
       "<tr><td>44</td><td>Variable</td><td></td><td><a class=\"ProveItLink\" href=\"../../../../../../__pv_it/common/a0d9d672aa5e272d907247690c152cc2c6daafb70/expr.ipynb\"><img src=\"../../../../../../__pv_it/common/a0d9d672aa5e272d907247690c152cc2c6daafb70/expr.png\" style=\"display:inline;vertical-align:middle;\" /></a></td></tr>\n",
       "<tr><td>45</td><td>ExprTuple</td><td>46</td><td><a class=\"ProveItLink\" href=\"../../../../../../core_expr_types/__pv_it/common/4b0dd6be36d76552eda6a95d5b4a27f5a5b62f900/expr.ipynb\"><img src=\"../../../../../../core_expr_types/__pv_it/common/4b0dd6be36d76552eda6a95d5b4a27f5a5b62f900/expr.png\" style=\"display:inline;vertical-align:middle;\" /></a></td></tr>\n",
       "<tr><td>46</td><td>Variable</td><td></td><td><a class=\"ProveItLink\" href=\"../../../../../../core_expr_types/__pv_it/common/006c465e50948aa2b52285e2de47974f741255cc0/expr.ipynb\"><img src=\"../../../../../../core_expr_types/__pv_it/common/006c465e50948aa2b52285e2de47974f741255cc0/expr.png\" style=\"display:inline;vertical-align:middle;\" /></a></td></tr>\n",
       "</table>\n"
      ],
      "text/plain": [
       "0. {forall_{S, N | |S| >= N} [exists_{x_{1}, x_{2}, ..., x_{n} in S | |(x_{1}, x_{2}, ..., x_{n})| = N} distinct(x_{1}, x_{2}, ..., x_{n})] if n in NaturalPos.\n",
       "   core type: Conditional\n",
       "   value: 1\n",
       "   condition: 2\n",
       "1. forall_{S, N | |S| >= N} [exists_{x_{1}, x_{2}, ..., x_{n} in S | |(x_{1}, x_{2}, ..., x_{n})| = N} distinct(x_{1}, x_{2}, ..., x_{n})]\n",
       "   core type: Operation\n",
       "   operator: 3\n",
       "   operand: 6\n",
       "2. n in NaturalPos\n",
       "   core type: Operation\n",
       "   operator: 34\n",
       "   operands: 5\n",
       "3. forall\n",
       "   core type: Literal\n",
       "   sub-expressions: \n",
       "4. ((S, N) -> {exists_{x_{1}, x_{2}, ..., x_{n} in S | |(x_{1}, x_{2}, ..., x_{n})| = N} distinct(x_{1}, x_{2}, ..., x_{n}) if |S| >= N.)\n",
       "   core type: ExprTuple\n",
       "   sub-expressions: 6\n",
       "5. (n, NaturalPos)\n",
       "   core type: ExprTuple\n",
       "   sub-expressions: 42, 7\n",
       "6. (S, N) -> {exists_{x_{1}, x_{2}, ..., x_{n} in S | |(x_{1}, x_{2}, ..., x_{n})| = N} distinct(x_{1}, x_{2}, ..., x_{n}) if |S| >= N.\n",
       "   core type: Lambda\n",
       "   parameters: 8\\n   body: 9\n",
       "7. NaturalPos\n",
       "   core type: Literal\n",
       "   sub-expressions: \n",
       "8. (S, N)\n",
       "   core type: ExprTuple\n",
       "   sub-expressions: 38, 33\n",
       "9. {exists_{x_{1}, x_{2}, ..., x_{n} in S | |(x_{1}, x_{2}, ..., x_{n})| = N} distinct(x_{1}, x_{2}, ..., x_{n}) if |S| >= N.\n",
       "   core type: Conditional\n",
       "   value: 10\n",
       "   condition: 11\n",
       "10. exists_{x_{1}, x_{2}, ..., x_{n} in S | |(x_{1}, x_{2}, ..., x_{n})| = N} distinct(x_{1}, x_{2}, ..., x_{n})\n",
       "    core type: Operation\n",
       "    operator: 12\n",
       "    operand: 16\n",
       "11. |S| >= N\n",
       "    core type: Operation\n",
       "    operator: 14\n",
       "    operands: 15\n",
       "12. exists\n",
       "    core type: Literal\n",
       "    sub-expressions: \n",
       "13. ((x_{1}, x_{2}, ..., x_{n}) -> {distinct(x_{1}, x_{2}, ..., x_{n}) if (x_{1} in S) ,  (x_{2} in S) ,  ... ,  (x_{n} in S) ,  |(x_{1}, x_{2}, ..., x_{n})| = N.)\n",
       "    core type: ExprTuple\n",
       "    sub-expressions: 16\n",
       "14. <=\n",
       "    core type: Literal\n",
       "    sub-expressions: \n",
       "15. (N, |S|)\n",
       "    core type: ExprTuple\n",
       "    sub-expressions: 33, 17\n",
       "16. (x_{1}, x_{2}, ..., x_{n}) -> {distinct(x_{1}, x_{2}, ..., x_{n}) if (x_{1} in S) ,  (x_{2} in S) ,  ... ,  (x_{n} in S) ,  |(x_{1}, x_{2}, ..., x_{n})| = N.\n",
       "    core type: Lambda\n",
       "    parameters: 37\\n    body: 18\n",
       "17. |S|\n",
       "    core type: Operation\n",
       "    operator: 19\n",
       "    operand: 38\n",
       "18. {distinct(x_{1}, x_{2}, ..., x_{n}) if (x_{1} in S) ,  (x_{2} in S) ,  ... ,  (x_{n} in S) ,  |(x_{1}, x_{2}, ..., x_{n})| = N.\n",
       "    core type: Conditional\n",
       "    value: 21\n",
       "    condition: 22\n",
       "19. card\n",
       "    core type: Literal\n",
       "    sub-expressions: \n",
       "20. (S)\n",
       "    core type: ExprTuple\n",
       "    sub-expressions: 38\n",
       "21. distinct(x_{1}, x_{2}, ..., x_{n})\n",
       "    core type: Operation\n",
       "    operator: 23\n",
       "    operands: 37\n",
       "22. (x_{1} in S) and  (x_{2} in S) and  ... and  (x_{n} in S) and (|(x_{1}, x_{2}, ..., x_{n})| = N)\n",
       "    core type: Operation\n",
       "    operator: 24\n",
       "    operands: 25\n",
       "23. distinct\n",
       "    core type: Literal\n",
       "    sub-expressions: \n",
       "24. and\n",
       "    core type: Literal\n",
       "    sub-expressions: \n",
       "25. ((x_{1} in S), (x_{2} in S), ..., (x_{n} in S), |(x_{1}, x_{2}, ..., x_{n})| = N)\n",
       "    core type: ExprTuple\n",
       "    sub-expressions: 26, 27\n",
       "26. (x_{1} in S), (x_{2} in S), ..., (x_{n} in S)\n",
       "    core type: ExprRange\n",
       "    lambda_map: 28\n",
       "    start_index: 41\n",
       "    end_index: 42\n",
       "27. |(x_{1}, x_{2}, ..., x_{n})| = N\n",
       "    core type: Operation\n",
       "    operator: 29\n",
       "    operands: 30\n",
       "28. _a -> (x_{_a} in S)\n",
       "    core type: Lambda\n",
       "    parameter: 46\n",
       "    body: 31\n",
       "29. =\n",
       "    core type: Literal\n",
       "    sub-expressions: \n",
       "30. (|(x_{1}, x_{2}, ..., x_{n})|, N)\n",
       "    core type: ExprTuple\n",
       "    sub-expressions: 32, 33\n",
       "31. x_{_a} in S\n",
       "    core type: Operation\n",
       "    operator: 34\n",
       "    operands: 35\n",
       "32. |(x_{1}, x_{2}, ..., x_{n})|\n",
       "    core type: Operation\n",
       "    operator: 36\n",
       "    operands: 37\n",
       "33. N\n",
       "    core type: Variable\n",
       "    sub-expressions: \n",
       "34. in\n",
       "    core type: Literal\n",
       "    sub-expressions: \n",
       "35. (x_{_a}, S)\n",
       "    core type: ExprTuple\n",
       "    sub-expressions: 43, 38\n",
       "36. length\n",
       "    core type: Literal\n",
       "    sub-expressions: \n",
       "37. (x_{1}, x_{2}, ..., x_{n})\n",
       "    core type: ExprTuple\n",
       "    sub-expressions: 39\n",
       "38. S\n",
       "    core type: Variable\n",
       "    sub-expressions: \n",
       "39. x_{1}, x_{2}, ..., x_{n}\n",
       "    core type: ExprRange\n",
       "    lambda_map: 40\n",
       "    start_index: 41\n",
       "    end_index: 42\n",
       "40. _a -> x_{_a}\n",
       "    core type: Lambda\n",
       "    parameter: 46\n",
       "    body: 43\n",
       "41. 1\n",
       "    core type: Literal\n",
       "    sub-expressions: \n",
       "42. n\n",
       "    core type: Variable\n",
       "    sub-expressions: \n",
       "43. x_{_a}\n",
       "    core type: IndexedVar\n",
       "variable: 44\n",
       "index: 46\n",
       "44. x\n",
       "    core type: Variable\n",
       "    sub-expressions: \n",
       "45. (_a)\n",
       "    core type: ExprTuple\n",
       "    sub-expressions: 46\n",
       "46. _a\n",
       "    core type: Variable\n",
       "    sub-expressions: "
      ]
     },
     "metadata": {},
     "output_type": "display_data"
    }
   ],
   "source": [
    "# display the expression information\n",
    "stored_expr.expr_info()"
   ]
  },
  {
   "cell_type": "code",
   "execution_count": null,
   "metadata": {},
   "outputs": [],
   "source": []
  }
 ],
 "metadata": {
  "kernelspec": {
   "display_name": "Python 3",
   "language": "python",
   "name": "python3"
  }
 },
 "nbformat": 4,
 "nbformat_minor": 0
}