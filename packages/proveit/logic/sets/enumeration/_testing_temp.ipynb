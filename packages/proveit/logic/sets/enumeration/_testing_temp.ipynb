{
 "cells": [
  {
   "cell_type": "markdown",
   "metadata": {},
   "source": [
    "## This is a temporary testing notebook for working on the automation of prove_by_cases\n",
    "\n",
    "The content will eventually be deleted (with some bits of the content transferred to the enumeration.\\_demonstrations\\_.ipynb notebook)."
   ]
  },
  {
   "cell_type": "code",
   "execution_count": null,
   "metadata": {},
   "outputs": [],
   "source": [
    "import proveit\n",
    "from proveit import (var_range, ExprTuple, ExprRange, InstantiationFailure, Operation,\n",
    "                     ProofFailure, used_vars, free_vars, Function)\n",
    "from proveit import a, b, c, d, e, i, l, m, n, x, y, P, Px, Q\n",
    "from proveit import A, B, C, D, E\n",
    "from proveit.core_expr_types import (a_1_to_n)\n",
    "from proveit.logic import And, Boolean, Implies, TRUE, FALSE\n",
    "from proveit.logic import (Equals, Forall, InSet, Not, NotEquals, NotInSet,\n",
    "                           Or, ProperSubset, Set, SubsetEq)\n",
    "from proveit.logic.sets.enumeration import (\n",
    "        true_for_each_is_true_for_all, true_for_each_then_true_for_all,\n",
    "        true_for_each_then_true_for_all_conditioned)\n",
    "from proveit.numbers import zero, one, two, three, four, five, six, seven, num, greater, Less"
   ]
  },
  {
   "cell_type": "markdown",
   "metadata": {},
   "source": [
    "### Two theorems to be instantiated:"
   ]
  },
  {
   "cell_type": "code",
   "execution_count": null,
   "metadata": {},
   "outputs": [],
   "source": [
    "true_for_each_then_true_for_all"
   ]
  },
  {
   "cell_type": "code",
   "execution_count": null,
   "metadata": {},
   "outputs": [],
   "source": [
    "true_for_each_then_true_for_all_conditioned"
   ]
  },
  {
   "cell_type": "markdown",
   "metadata": {},
   "source": [
    "#### The 1st one is simpler, so we play with that one first. The BooleanSet.fold_as_forall() method we are adapting is called on a Boolean set along with a forall argument to be proven based on the forall instance expr being true, or assumed to be true, for each Boolean in the underlying set. Our prove_by_cases generalizes this from a Boolean set to any enumerated Set.\n",
    "\n",
    "So let's define a simple set:"
   ]
  },
  {
   "cell_type": "code",
   "execution_count": null,
   "metadata": {},
   "outputs": [],
   "source": [
    "# A 3-element set of (literal) integers:\n",
    "set_123 = Set(one, two, three)"
   ]
  },
  {
   "cell_type": "code",
   "execution_count": null,
   "metadata": {},
   "outputs": [],
   "source": [
    "set_13 = Set(one, three)"
   ]
  },
  {
   "cell_type": "markdown",
   "metadata": {},
   "source": [
    "#### A simple forall statement we might conceivable want to conclude would be something like this, with a very simple predicate that is clearly true for all elements of the set:"
   ]
  },
  {
   "cell_type": "code",
   "execution_count": null,
   "metadata": {},
   "outputs": [],
   "source": [
    "forall_example_01 = Forall(y, Less(y, four), condition=InSet(y, set_123))"
   ]
  },
  {
   "cell_type": "markdown",
   "metadata": {},
   "source": [
    "#### Out effort to automate the process is successful:"
   ]
  },
  {
   "cell_type": "code",
   "execution_count": null,
   "metadata": {},
   "outputs": [],
   "source": [
    "forall_example_01.prove()"
   ]
  },
  {
   "cell_type": "markdown",
   "metadata": {},
   "source": [
    "#### A more complicated forall statement involving a condition $Q(x)$ that clearly implies the instance expression $P(x)$:"
   ]
  },
  {
   "cell_type": "code",
   "execution_count": null,
   "metadata": {},
   "outputs": [],
   "source": [
    "forall_example_02 = Forall(y, Less(y, four), domain = set_123, conditions=[Less(y, zero)])"
   ]
  },
  {
   "cell_type": "code",
   "execution_count": null,
   "metadata": {},
   "outputs": [],
   "source": [
    "forall_example_02.prove()"
   ]
  },
  {
   "cell_type": "code",
   "execution_count": null,
   "metadata": {},
   "outputs": [],
   "source": [
    "Less(y, one).prove(assumptions=[Less(y, zero)])"
   ]
  },
  {
   "cell_type": "code",
   "execution_count": null,
   "metadata": {},
   "outputs": [],
   "source": [
    "forall_example_03 = Forall(y, Less(y, one), domain = set_123, conditions=[Less(y, zero)])"
   ]
  },
  {
   "cell_type": "code",
   "execution_count": null,
   "metadata": {},
   "outputs": [],
   "source": [
    "# this is an interesting case: the condition y < 0 is never true\n",
    "# and thus the actual set being considered is an empty set … sort of\n",
    "# in any case, y < 0 => y < 1 regardless of the values used for y, yes?\n",
    "# And since 1 < 0 is False, the condition 1 < 0 => 1 < 1 is True, yes?\n",
    "forall_example_03.prove(assumptions=[Implies(Less(one, zero), Less(one, one))])"
   ]
  },
  {
   "cell_type": "code",
   "execution_count": null,
   "metadata": {},
   "outputs": [],
   "source": [
    "forall_example_04 = Forall(y, Less(y, five), domain = set_123, conditions=[greater(y, zero)])"
   ]
  },
  {
   "cell_type": "code",
   "execution_count": null,
   "metadata": {},
   "outputs": [],
   "source": [
    "forall_example_04.prove()"
   ]
  },
  {
   "cell_type": "code",
   "execution_count": null,
   "metadata": {},
   "outputs": [],
   "source": [
    "forall_example_05 = Forall(y, greater(y, two), domain = set_13, conditions=[greater(y, one)])"
   ]
  },
  {
   "cell_type": "code",
   "execution_count": null,
   "metadata": {},
   "outputs": [],
   "source": [
    "# greater(one, one).disprove()"
   ]
  },
  {
   "cell_type": "code",
   "execution_count": null,
   "metadata": {},
   "outputs": [],
   "source": [
    "forall_example_05.prove(assumptions=[Not(greater(one, one))])"
   ]
  },
  {
   "cell_type": "markdown",
   "metadata": {},
   "source": [
    "### Testing to work out instantiation details"
   ]
  },
  {
   "cell_type": "markdown",
   "metadata": {},
   "source": [
    "#### Analogous to the BooleanSet.fold_as_forall(self, forall_stmt, assumptions=USE_DEFAULTS) method, we'll want to access and use the following pieces of the user-supplied forall_stmt:"
   ]
  },
  {
   "cell_type": "code",
   "execution_count": null,
   "metadata": {},
   "outputs": [],
   "source": [
    "# forall conditions\n",
    "forall_example_01.conditions"
   ]
  },
  {
   "cell_type": "code",
   "execution_count": null,
   "metadata": {},
   "outputs": [],
   "source": [
    "forall_example_01.condition.domain.operands.length()"
   ]
  },
  {
   "cell_type": "code",
   "execution_count": null,
   "metadata": {},
   "outputs": [],
   "source": [
    "forall_example_01.conditions[0].domain.operands.length()"
   ]
  },
  {
   "cell_type": "code",
   "execution_count": null,
   "metadata": {},
   "outputs": [],
   "source": [
    "# length of the forall conditions -- in this case, the length\n",
    "# is just 1, which puts us in the simple ELSE case\n",
    "len(forall_example_01.conditions)"
   ]
  },
  {
   "cell_type": "code",
   "execution_count": null,
   "metadata": {},
   "outputs": [],
   "source": [
    "# for instance_var\n",
    "forall_example_01.instance_var"
   ]
  },
  {
   "cell_type": "code",
   "execution_count": null,
   "metadata": {},
   "outputs": [],
   "source": [
    "# for instance_expr\n",
    "forall_example_01.instance_expr"
   ]
  },
  {
   "cell_type": "code",
   "execution_count": null,
   "metadata": {},
   "outputs": [],
   "source": [
    "forall_example_01.first_domain()"
   ]
  },
  {
   "cell_type": "markdown",
   "metadata": {},
   "source": [
    "#### A reminder of the theorem we're instantiating:"
   ]
  },
  {
   "cell_type": "code",
   "execution_count": null,
   "metadata": {},
   "outputs": [],
   "source": [
    "true_for_each_then_true_for_all"
   ]
  },
  {
   "cell_type": "markdown",
   "metadata": {},
   "source": [
    "n = size of set = 3 (can be found from len(set.elements)<br/>\n",
    "a1,...,an = our set = {1, 2, 3} = set_123<br/>\n",
    "Pred(x) = predicate = (x < 4) (notice the fxn name might not match theorem's P, and arg might not match thm's 'a'"
   ]
  },
  {
   "cell_type": "code",
   "execution_count": null,
   "metadata": {},
   "outputs": [],
   "source": [
    "true_for_each_then_true_for_all.instance_var"
   ]
  },
  {
   "cell_type": "markdown",
   "metadata": {},
   "source": [
    "#### We need to construct some things to make the instantiation substitutions work. For example, "
   ]
  },
  {
   "cell_type": "code",
   "execution_count": null,
   "metadata": {},
   "outputs": [],
   "source": [
    "n_sub = forall_example_01.domain.operands.length()"
   ]
  },
  {
   "cell_type": "code",
   "execution_count": null,
   "metadata": {},
   "outputs": [],
   "source": [
    "# the following is interesting … is the length() operation above already giving a num() version?\n",
    "# var_range_update = var_range(a, one, num(n_sub))\n",
    "var_range_update = var_range(a, one, n_sub)"
   ]
  },
  {
   "cell_type": "code",
   "execution_count": null,
   "metadata": {},
   "outputs": [],
   "source": [
    "# var_range_sub = set_123.elements\n",
    "var_range_sub = forall_example_01.condition.domain.elements"
   ]
  },
  {
   "cell_type": "code",
   "execution_count": null,
   "metadata": {},
   "outputs": [],
   "source": [
    "# BooleanSet.fold_as_forall() constructs P(x) -- not clear why we don't just import?\n",
    "# Because we need to construct P(unknown), where the unknown is the instance var supplied\n",
    "# by the user in the forall argument. The function variable P will match, but we need\n",
    "# the arg variable to match up\n",
    "Px = Function(P, forall_example_01.instance_var)"
   ]
  },
  {
   "cell_type": "code",
   "execution_count": null,
   "metadata": {},
   "outputs": [],
   "source": [
    "# For P(x) we substitute the user-supplied instance expression\n",
    "Px_sub = forall_example_01.instance_expr"
   ]
  },
  {
   "cell_type": "code",
   "execution_count": null,
   "metadata": {},
   "outputs": [],
   "source": [
    "x_sub = forall_example_01.instance_var"
   ]
  },
  {
   "cell_type": "code",
   "execution_count": null,
   "metadata": {},
   "outputs": [],
   "source": [
    "# must include explicit num_forall_eliminations arg!\n",
    "inst_example_01 = true_for_each_then_true_for_all.instantiate(\n",
    "    {n:three, ExprTuple(var_range_update):var_range_sub, x:x_sub, Px:Px_sub },\n",
    "    num_forall_eliminations=3)"
   ]
  },
  {
   "cell_type": "markdown",
   "metadata": {},
   "source": [
    "### Testing to work out instantiation details for 2nd Theorem"
   ]
  },
  {
   "cell_type": "markdown",
   "metadata": {},
   "source": [
    "A reminder of the theorem we're instantiating:"
   ]
  },
  {
   "cell_type": "code",
   "execution_count": null,
   "metadata": {},
   "outputs": [],
   "source": [
    "true_for_each_then_true_for_all"
   ]
  },
  {
   "cell_type": "code",
   "execution_count": null,
   "metadata": {},
   "outputs": [],
   "source": [
    "true_for_each_then_true_for_all_conditioned"
   ]
  },
  {
   "cell_type": "markdown",
   "metadata": {},
   "source": [
    "We need a slightly different forall example:"
   ]
  },
  {
   "cell_type": "code",
   "execution_count": null,
   "metadata": {},
   "outputs": [],
   "source": [
    "forall_example_02 = Forall(y, Less(y, one), domain = set_123, conditions=[Less(y, zero)])"
   ]
  },
  {
   "cell_type": "code",
   "execution_count": null,
   "metadata": {},
   "outputs": [],
   "source": [
    "# testing how one might specify the domain\n",
    "forall_example_03 = Forall(y, Less(y, one), conditions=[InSet(y, set_123), Less(y, zero)])"
   ]
  },
  {
   "cell_type": "code",
   "execution_count": null,
   "metadata": {},
   "outputs": [],
   "source": [
    "forall_example_02.conditions"
   ]
  },
  {
   "cell_type": "code",
   "execution_count": null,
   "metadata": {},
   "outputs": [],
   "source": [
    "forall_example_02.domain"
   ]
  },
  {
   "cell_type": "code",
   "execution_count": null,
   "metadata": {},
   "outputs": [],
   "source": [
    "forall_example_03.domain"
   ]
  },
  {
   "cell_type": "markdown",
   "metadata": {},
   "source": [
    "Now though, we'll use $Q(x) = [x < 0]$ and $P(x) = [x < 1]$. Notice then that $Q(x) \\Rightarrow P(x)$."
   ]
  },
  {
   "cell_type": "code",
   "execution_count": null,
   "metadata": {},
   "outputs": [],
   "source": [
    "n_sub = forall_example_02.domain.operands.length()"
   ]
  },
  {
   "cell_type": "code",
   "execution_count": null,
   "metadata": {},
   "outputs": [],
   "source": [
    "var_range_update = var_range(a, one, n_sub)"
   ]
  },
  {
   "cell_type": "code",
   "execution_count": null,
   "metadata": {},
   "outputs": [],
   "source": [
    "# var_range_sub = set_123.elements\n",
    "var_range_sub = forall_example_01.condition.domain.elements"
   ]
  },
  {
   "cell_type": "code",
   "execution_count": null,
   "metadata": {},
   "outputs": [],
   "source": [
    "# BooleanSet.fold_as_forall() constructs P(x) -- why don't jwe ust import?\n",
    "# Because we need to construct P(unknown), where the unknown is the instance var supplied\n",
    "# by the user in the forall argument. The function variable P will match, but we need\n",
    "# the arg variable to match up\n",
    "Px = Function(P, forall_example_02.instance_var)"
   ]
  },
  {
   "cell_type": "code",
   "execution_count": null,
   "metadata": {},
   "outputs": [],
   "source": [
    "# For P(x) we substitute the user-supplied instance expression\n",
    "Px_sub = forall_example_02.instance_expr"
   ]
  },
  {
   "cell_type": "code",
   "execution_count": null,
   "metadata": {},
   "outputs": [],
   "source": [
    "Qx = Function(Q, forall_example_02.instance_var)"
   ]
  },
  {
   "cell_type": "code",
   "execution_count": null,
   "metadata": {},
   "outputs": [],
   "source": [
    "Qx_sub = forall_example_02.conditions[1]"
   ]
  },
  {
   "cell_type": "code",
   "execution_count": null,
   "metadata": {},
   "outputs": [],
   "source": [
    "x_sub = forall_example_02.instance_var"
   ]
  },
  {
   "cell_type": "code",
   "execution_count": null,
   "metadata": {},
   "outputs": [],
   "source": [
    "true_for_each_then_true_for_all_conditioned.instantiate(\n",
    "    {n: n_sub, ExprTuple(var_range_update):var_range_sub}, num_forall_eliminations=2)"
   ]
  },
  {
   "cell_type": "code",
   "execution_count": null,
   "metadata": {},
   "outputs": [],
   "source": [
    "Implies(Qx, Px)"
   ]
  },
  {
   "cell_type": "code",
   "execution_count": null,
   "metadata": {},
   "outputs": [],
   "source": [
    "true_for_each_then_true_for_all_conditioned.instantiate(\n",
    "    {n: n_sub, ExprTuple(var_range_update): var_range_sub, x: x_sub, Px: Px_sub, Qx: Qx_sub},\n",
    "    num_forall_eliminations=3, assumptions=[Implies(Less(one, zero), Less(one, one))])"
   ]
  },
  {
   "cell_type": "code",
   "execution_count": null,
   "metadata": {},
   "outputs": [],
   "source": []
  }
 ],
 "metadata": {
  "kernelspec": {
   "display_name": "Python 3",
   "language": "python",
   "name": "python3"
  }
 },
 "nbformat": 4,
 "nbformat_minor": 0
}
