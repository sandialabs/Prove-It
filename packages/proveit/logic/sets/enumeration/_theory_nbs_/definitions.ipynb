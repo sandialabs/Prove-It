{
 "cells": [
  {
   "cell_type": "markdown",
   "metadata": {},
   "source": [
    "Conservative definitions for the theory of <a class=\"ProveItLink\" href=\"theory.ipynb\">proveit.logic.sets.enumeration</a>\n",
    "========"
   ]
  },
  {
   "cell_type": "code",
   "execution_count": null,
   "metadata": {},
   "outputs": [],
   "source": [
    "import proveit\n",
    "# Prepare this notebook for defining the conservative definitions of a theory:\n",
    "%definitions_notebook # Keep this at the top following 'import proveit'.\n",
    "\n",
    "from proveit import n, x\n",
    "from proveit.logic import Forall, Equals, InSet, Set, EmptySet\n",
    "from proveit.core_expr_types import y_1_to_n\n",
    "from proveit.logic.sets import x_equals_any_y\n",
    "from proveit.numbers import Natural"
   ]
  },
  {
   "cell_type": "code",
   "execution_count": null,
   "metadata": {},
   "outputs": [],
   "source": [
    "%begin defining_properties"
   ]
  },
  {
   "cell_type": "markdown",
   "metadata": {},
   "source": [
    "**Membership in an enumeration is the same as being equal to any of the contents of the enumeration:**"
   ]
  },
  {
   "cell_type": "code",
   "execution_count": null,
   "metadata": {},
   "outputs": [],
   "source": [
    "enum_set_def = Forall(n, Forall((x, y_1_to_n), \n",
    "                              Equals(InSet(x, Set(y_1_to_n)), \n",
    "                                     x_equals_any_y).with_wrapping_at(2)),\n",
    "                   domain=Natural)"
   ]
  },
  {
   "cell_type": "code",
   "execution_count": null,
   "metadata": {},
   "outputs": [],
   "source": [
    "#\n",
    "# might need an axiom here:\n",
    "# if 2 enum sets are SetEquiv then they are equal\n",
    "# see some hard-copy notes/comments from project meeting 2/07/2020"
   ]
  },
  {
   "cell_type": "code",
   "execution_count": null,
   "metadata": {},
   "outputs": [],
   "source": []
  },
  {
   "cell_type": "code",
   "execution_count": null,
   "metadata": {},
   "outputs": [],
   "source": [
    "%end defining_properties"
   ]
  }
 ],
 "metadata": {
  "kernelspec": {
   "display_name": "Python 3 (ipykernel)",
   "language": "python",
   "name": "python3"
  }
 },
 "nbformat": 4,
 "nbformat_minor": 0
}
