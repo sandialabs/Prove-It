{
 "cells": [
  {
   "cell_type": "markdown",
   "metadata": {},
   "source": [
    "Theorems (or conjectures) for the theory of <a class=\"ProveItLink\" href=\"theory.ipynb\">proveit.logic.sets.enumeration</a>\n",
    "========"
   ]
  },
  {
   "cell_type": "code",
   "execution_count": 1,
   "metadata": {},
   "outputs": [
    {
     "name": "stdout",
     "output_type": "stream",
     "text": [
      "Defining theorems for theory 'proveit.logic.sets.enumeration'\n",
      "Subsequent end-of-cell assignments will define theorems\n",
      "'%end theorems' will finalize the definitions\n"
     ]
    }
   ],
   "source": [
    "import proveit\n",
    "# Prepare this notebook for defining the theorems of a theory:\n",
    "%theorems_notebook # Keep this at the top following 'import proveit'.\n",
    "from proveit import ExprRange, Function, IndexedVar\n",
    "from proveit import a, b, c, d, i, j, k, m, n, x, y, A, P, Q, Px, Qx\n",
    "from proveit.logic import And, Boolean, TRUE, FALSE, Forall, Or\n",
    "from proveit.logic import (Equals, Implies, NotEquals, InSet, NotInSet, ProperSubset,\n",
    "                           Set, ProperSubset, SubsetEq)\n",
    "from proveit.numbers import one\n",
    "from proveit.core_expr_types import (a_1_to_i, a_1_to_m, a_1_to_n, b_1_to_j, b_1_to_n,\n",
    "                                              c_1_to_j, c_1_to_k, c_1_to_n,\n",
    "                                              d_1_to_k, Pk_a1_to_an, Qk_implies_Pk_a1_to_an, y_1_to_n)\n",
    "from proveit.logic.sets import x_equals_any_y, x_notequals_all_y\n",
    "from proveit.numbers import Natural\n",
    "%begin theorems"
   ]
  },
  {
   "cell_type": "code",
   "execution_count": 2,
   "metadata": {},
   "outputs": [
    {
     "data": {
      "text/html": [
       "<strong id=\"unfold\"><a class=\"ProveItLink\" href=\"proofs/unfold/thm_proof.ipynb\">unfold</a> (conjecture without proof):<br></strong> <a class=\"ProveItLink\" href=\"../__pv_it/theorems/7f8517c002869184f35ad394e7bd6cab08b1d86f0/theorem_expr.ipynb\"><img src=\"data:image/png;base64,iVBORw0KGgoAAAANSUhEUgAAApYAAAAZBAMAAAB5pXMdAAAAMFBMVEX///8AAAAAAAAAAAAAAAAA\n",
       "AAAAAAAAAAAAAAAAAAAAAAAAAAAAAAAAAAAAAAAAAAAv3aB7AAAAD3RSTlMAq1RmmUTNIjK7EInv\n",
       "3XZ/CtNrAAAACXBIWXMAAA7EAAAOxAGVKw4bAAAGkUlEQVRo3u1ZbYhUVRh+Zu7Mzp07Hzv9CPyI\n",
       "ZUKLBdOmZpWC2CY3UyprUuiHml7qh+WPnCAMTW3cH1GxblNh6f6Qq0Ul1jppCSXIoISBJJOYiTAx\n",
       "5paYtiwEKQuxna97Z+7nfASDRi+8Z+7M+z7vOfe57z3vOWcAL/FVfsL/0pTEK6e9HbpuiGHmhDZw\n",
       "afRLK+aahJoeXfom4DKe5Oolq51ALQHc5JdGDqv1aGkk6Mcsdy497R2ROUI9+U45gFoCuIi/iCYi\n",
       "sWhpLKLf17pz6WnvhCgqV29Zx6Z3jTRyFW0AzDKDNsO0+bjxANcJTWMbnRMK7lx62jshgRRXb+mj\n",
       "jURZCefRBsAs/bTZSZuBxgPsE5pGF3k0kaQ7l572TkhUaAMvmmEoE92AdgBmidEEYqldQlORqKYh\n",
       "pTxKDDF42jshdwptUCVZIh4kuhDtAMxCkydAE8ivoqlIVEkd/75SOelVx73snZDHhI5e+PSI5f0Y\n",
       "HYCSEHfPPjeIVHMDKGMp7HEEWBZCKs9NBIoNe2aRqBIulwAjXlx62TshzwnNxHsC9LaXVqj8QE3F\n",
       "uyBNcC+JJZAvj3gVFkCAASr01iP+Eh50BFhkGjBuZK93zywSVcLlSwglvLj0sntKxvJdOtQ8Vv5S\n",
       "0y9Pc5Vy0qTPXFHk5FL4RFn0s4lNTiCmwRWAQcLJdEeARUjFPc8mzmTDnlkkqoTLsBbJ1qf3ma/w\n",
       "QKKOS4u9ebEW/6FWwBHj+X3LVUbAOncpOIVoVVnA7o5nyVrM1kEOAGjRKk4pR27RbABrEuX8LBWi\n",
       "WY+edWInuBIu/dVaaRmevgO3R7SAVsdlvb1dLmncJupB/RpZtXCJ2uANCU7i7fzwH+yyJJboaw2Q\n",
       "AwBrNPl6APSNtQBsS/SunM6la8/6dYkr3UOq/cZSbgnd41QzEdMesmZvl0sWt10uxTtOeMgpmnnW\n",
       "IvlyFZjL/HkFickFA6QD6uZLPIJ4qTsbum4DWKX8JvR33L1nMdQyV8rlQbJolwaGx4CL1NR7x1Yz\n",
       "l9SO8cVj5EEFL8Cnb0MTsE2jdWady/jY1sU8LuOyhjL72oLWuNzNdV/2NkQs7uEE3hFcSpyS+D1Z\n",
       "HeQEIO7hhKRRLi0Aq1y8lfdQ9ei5777xjOiaKuVyMxn+h6tS0ZzCwvdG9q40cUnt8dz0LvKIRrs1\n",
       "Mesp1UnZto6tmQ0uL/kKz/K4WGBCmX1tQYPGSuULrne/9TiWWbdEieCfgssA3zcrZw2QEwAPYQ2p\n",
       "IpGyFaD8RZoDqt4An6vGtO3WszL/OE6Irqmm+boAm35DtxZkxaoXmcsmLqldwm6ZXG6ai8vYSPM9\n",
       "tLccLywbMz9UZjZzmQpX8zyu/LxAhUZ03+C8ReZlHTWL6xf1OXs714/G/QPW7Zcyc+ya4DImRrLQ\n",
       "ADkBsOfok+T12q7ZAGdojIzeiJU6GXTZvefQqIpJ0TVV48ytB6sgvbBr17uEy/1dDmdu11g7Ez3y\n",
       "XHaXvqKvWlImzF0Qs3W+7M6JuNtmCNTged03igOWs2di1rc7+kUsz9W53KuCyy2WTaAbAIfJIxux\n",
       "A9zkHNx79lVZAdsi1ODyOzwsy0Wel8F5di7lEjsU/ZE48gVZLBvN56yvOTFLi+4t1nM5hByPiwsC\n",
       "xVdu1DdkXSdRc99yel4WMiJLGa6OvHyWFFxaziBcABFVOQa8jFeaOrQwjkBceo7mA5k8jzRQx2Vo\n",
       "Aud6+f5mPr9rM5ebI2oA+8ljCk5QLpUiefJryBScJT+SL6KhZv9lfVNWYJQcJmv2EaP2MBThUoTC\n",
       "DtQCiKDzCjHzRvgDoXb5mSQ359J2kuUMiFV9RYR2vvFo00df4Zx7z68hNphnkVg0nctgAldS2EhY\n",
       "ls/magXW4DLw69HfMZTE7PtVyqV8DP6B99n+cigpn8BQjjbcPC2k1uXlEyvHNRaXc8lQ56H7BvJ1\n",
       "AURQX36Dmct9Qu0yi87Xr64/6nDLzgB/P5mgo1NTE24c2U9PC+49P4X4Id41i2b+j0L5etcOr/8o\n",
       "kkounGLvuB+f4D1ENDKpJS3mcny+Zllf8riUS4pi7zj3/SaOugA8aAwXV5i4DFW5eskl2+lEqwA3\n",
       "2drI4ZIeraX/e4Kar/o05KsHgRXoCapYP1UmP5rNSsJ/yHkP+QwtcQQ1fDIpfLum/kZdAB50D+ak\n",
       "mjvsusGkJS4lBPtFXUlh+RX9RwezI5ddJFVqKMO3FqAWFHg9+Z/j8t/8P26bkQabx4byNxuT8crx\n",
       "fwBUNxKmWBjn2gAAAABJRU5ErkJggg==\n",
       "\" style=\"display:inline;vertical-align:middle;\" /></a><br>"
      ],
      "text/plain": [
       "<IPython.core.display.HTML object>"
      ]
     },
     "metadata": {},
     "output_type": "display_data"
    }
   ],
   "source": [
    "unfold = Forall(n, Forall((x, y_1_to_n), \n",
    "                          x_equals_any_y, \n",
    "                          conditions=[InSet(x, Set(y_1_to_n))]),\n",
    "                domain=Natural)"
   ]
  },
  {
   "cell_type": "code",
   "execution_count": 3,
   "metadata": {},
   "outputs": [
    {
     "data": {
      "text/html": [
       "<strong id=\"fold\"><a class=\"ProveItLink\" href=\"proofs/fold/thm_proof.ipynb\">fold</a> (established theorem):<br></strong> <a class=\"ProveItLink\" href=\"../__pv_it/theorems/7b71f7c805b30199165e40dd1e4ded51d18fcf0a0/theorem_expr.ipynb\"><img src=\"data:image/png;base64,iVBORw0KGgoAAAANSUhEUgAAAlkAAAAZBAMAAADwESYxAAAAMFBMVEX///8AAAAAAAAAAAAAAAAA\n",
       "AAAAAAAAAAAAAAAAAAAAAAAAAAAAAAAAAAAAAAAAAAAv3aB7AAAAD3RSTlMAq1RmmUTNIjK7EInv\n",
       "3XZ/CtNrAAAACXBIWXMAAA7EAAAOxAGVKw4bAAAGXklEQVRYw+2Zf4gUZRjHn53d2ZmdvV0XAukU\n",
       "ZEXLo7Qmw8IIXTF/hGhSEOhJLolE/lHTP8KJ6Bn+kXTpmZickIxahF3YepFglCxKJEW1hJlJGyNd\n",
       "hamHEKXYH/Y87/vOzDuzM1N6Jlv0ws687/t932fm/cz7PvO8swBJKdX8Bv5PIl1slpMbZP9tI7Ki\n",
       "q99ceuMmtSl0oFza/G/RKkY//eJqexRGN+0GUB1Oq0QVk+JpJertlu6Orr7XHpXV7fj7gdOaR+Vn\n",
       "4mkl6m2WjGp0/UejM0vdszajtYlWZX88rUS9zVLG/MdopSuMFkHLl+NpJeptljqC3ur15qmbRgs+\n",
       "ZbTI0WcTvHyi3mbpTrmgPmffxLkFqziKz5vNz5LeiUl6m6VF5LtGxr08RIW1tjxcY9iEvX7Lg3PB\n",
       "KCV5QLk5o3WI01oIsDuJVpLeZmkV+S446ywOvZnmozNR6jDbr6lNhfSlBEuB5hfo8ACn9QJopSRa\n",
       "SXpiqvDTlCjN8XKRcjHaohIdfHrGvsLfgzDbvo0K/vtROw7wYqYBnV6NXl4MqaRXV6D5RnLbUzmt\n",
       "nJ2XI13t5PvwcEmiFdL/fuJ3k47snHEz0bJLOpRmxLwK3czH+OulmURA0IM0v2UjGovXsDsc+AL2\n",
       "C4QG5jucwUPj4u6dN3eX5VjEtY3TUhzfiW/t3AkT83bGlmjJ+g3Q2hupqTUGpBQjQzdDkJJ5pGI9\n",
       "DRrzaYEYpeFPnc3kSVba+hV9pOF2uQrbeiuwOPbmqbm3LFfjYYXY+VRneTe1kOJ2p5IP7Hx8/UZo\n",
       "zYsW19D+AIcZI2dtxSRm7hJkhUzcHF8jrURQL8PbdG4Eg/H5UKyD4lZmquiNfoONvXE3z5rLW4Fp\n",
       "gtYQXiw9d+swD++h644NQVqkw8iCYXQa6lnveT9VgpZHLckerYbbN9hgCHK0yEkuDm9YEDaKEV6/\n",
       "/HZhhQJE24Ihcd6DU2pnqg5sro0EQ4DtkCtxWjR2zG+Hh4hW66bIANGcQwH4kA4zBa31eIP7V5gd\n",
       "Fp+8Xfl93QFapBetziwu3oNj7D5h0rmq18PX8WWPllblfR8dwGT6DSbTfOkmGX5O9T+dIXmHb1Sp\n",
       "4NzzVhjwwlqItoXGeMK3vHLljbrKgulsOUBrDqw0GS3jd5pbJfVXJrASO7xblTKsOYPiRhCLBK0U\n",
       "Tsd1P8EYW2Ubhy6onAvQIj0Ne3TMrpsG56CHHoe2r1Hsf3w4uDaYHKSl9rt9IdB/Gem7SQYz54gF\n",
       "4RvF+hxNPTexwjJoscXTMnF+Bce7xJk8nT/PzuUyrb1HH7P43GqiWWP88GV8E5zhJTiJv0LFzZwR\n",
       "zRkUl9bX8hebCejG0s8ODLyKtAazEV9sLrPjeJigT2ODSNVSTt0IxSwoh2gpJa9voP8WgPtxujB5\n",
       "jBcYeEZ1hGx2+7ZYYSKEbYncFnEuBNyQeiS48zkMnJbC7j+PM4iem9K6FO9ymxMU0V1ryLROwCO6\n",
       "XuNzS72nlZZe1zjhE1Bg9gtLO3qt8GJEOT1vek2ihcNmffnq8fvj4snidCEZ+sDiK9E3iisRqnJQ\n",
       "TIUtELYlLuauxHQlduuSrxrHBK08Q/FOGbSKZkG+tXnNbU5QBC3asHu0tEtwuot7VQxqzrbQWp+v\n",
       "ZmAQ4LR6iUZr1PA5rsQFspSyg/zAZeWc+zZyvTzrK5Loz3xwejyTtfphL7xyjUIRI8778K6FaV4o\n",
       "QNiWuJjn0HdF08JgvOCkaoLWQfx9jzMTel7abLNSyMs7ojmHwrYC0CN/O1VLcN6EHpzJ+inLf7F5\n",
       "tDI/Hv0F+soweWaVRqsfA2Xua2xXhNk+S/8ED0K+XavKtHbxvq4/5v35uNbw85LuEXc1uEYhZ/Gv\n",
       "H8I0L2Bl2Ba/mAfpQDQtDMaVWRiraIf/cHjoP4mc45fXrsm7CnkjwZpzKGAcF5cIfWk2jgzsTPrS\n",
       "XDasnMlGq8BbsAPytkPZoNwozrAlWt2BC7j9vdgxIPtGDyRGob4tdjE/ENWc6E/rc0bxyUk7VKZ3\n",
       "8XV/l1ftlPMk6BcwvFkOE9QqPH+tQdmAbJSU9+S5lZH3dl5/rzYg+0YXRN5OoNa/WMa6NZv266OV\n",
       "BnWWeLwmPHEe3GyrLNGCD2TebgN/xyfLntGY3WPejrIVt3289bRG83+iJYXGLbvWYOQcGU4ndvvr\n",
       "2pueLn5n/gnWv/tmt3T/9QAAAABJRU5ErkJggg==\n",
       "\" style=\"display:inline;vertical-align:middle;\" /></a><br>"
      ],
      "text/plain": [
       "<IPython.core.display.HTML object>"
      ]
     },
     "metadata": {},
     "output_type": "display_data"
    }
   ],
   "source": [
    "fold = Forall(n, Forall((x, y_1_to_n), \n",
    "                        InSet(x, Set(y_1_to_n)), \n",
    "                        conditions=[x_equals_any_y]),\n",
    "              domain=Natural)"
   ]
  },
  {
   "cell_type": "code",
   "execution_count": 4,
   "metadata": {},
   "outputs": [
    {
     "data": {
      "text/html": [
       "<strong id=\"nonmembership_equiv\"><a class=\"ProveItLink\" href=\"proofs/nonmembership_equiv/thm_proof.ipynb\">nonmembership_equiv</a> (conjecture without proof):<br></strong> <a class=\"ProveItLink\" href=\"../__pv_it/theorems/a9845e1a8c84543c03fd1c189d1383f3703d3ec80/theorem_expr.ipynb\"><img src=\"data:image/png;base64,iVBORw0KGgoAAAANSUhEUgAAAu8AAAAXCAMAAACMA1E+AAAASFBMVEX///8AAAAAAAAAAAAAAAAA\n",
       "AAAAAAAAAAAAAAAAAAAAAAAAAAAAAAAAAAAAAAAAAAAAAAAAAAAAAAAAAAAAAAAAAAAAAAAAAACC\n",
       "gUnDAAAAF3RSTlMAq1RmmUTNIjK7EInv3Xbp8+P355HB9aMTnpEAAAAJcEhZcwAADsQAAA7EAZUr\n",
       "DhsAAAdTSURBVHja7VvZtqUoDEVAURCququ7/f8/bUBmg+Bwh4fLqnVySoGd5GxCgl6EbjUl5Yy+\n",
       "srFCnvdyjY/jF2mL+/S9bGDvLE/7fNzwj5iSwfIBacX4pWxHCuey0iaeDZpG/kX6zsOyQ4/qVQMR\n",
       "oqcmdcA9ROi26PqPe1ejoFIpDW2H0AuTa3y/N/KVhkUuqyzLBm38C1fo4nRR5EUDtYlLgzukE+k2\n",
       "QqdF13/c+xoFlUqpaUtDpJ7YNb7fG/lG41Muq3Eg24WE/ModKaBP/D0D9TJq7dAlnMAg0gOEEkLg\n",
       "i555X6OgUiE1bUMMZAu6xvd7I99olOSy1iT6hnwn9D0Dix0MagUclxOI9AChgCgRmmv7AzQKKhXS\n",
       "0NYvgUvL0ubvt0a+0dZCQjvaIuWv39M35Dta+RsGulDX3llzOEWGEUJ6gpBDlAjt3OMDNAoq5dLQ\n",
       "lrj1dGlVWr7fGvlGgjflEihYJqXtG+bvGN/RRJ4b6O3sCHU5nMyz31cQcgjZkV9/uEZBpVxa2q7S\n",
       "tFVc5vutkW+kMyKXXKmBzyJuM8zuPGUi6BjHld0xOei205t923Nlhsh3MTw2EC6cYOgMztSC6SCP\n",
       "UIXoQcggSoSe6hTS6JHNUaVcWtpSGwYXfp3vd0a+0Mq1q3MzNShEZe4SUhyU0Z3/AmGzZZINtOvs\n",
       "Zp9nKjOosE+TuA6pTNrQb6Ab9+e/bBwMTaaCLJgCkbmEuIKQQZQIzR+zotEjm6NKubS0ZYP/uMr3\n",
       "OyNfaBJnkjBjL0dD2FUn6NiArfb+jHcfDtCme3qzq1VnYJuPVHh9bCAY6irQKdxe6kl+QKpBdCGk\n",
       "EAeEruLzqNEzm6NKudxpawJ0/QESk9Sm+etw4Htj5IeVq2Mm5xi7nRNsnvXX31JGL7Bh2ntrjVcT\n",
       "+M0HJ0XKk9zkQgzD9Z0rnb64M0z7TzlvTw30mSytQieWpXB7RaPUAakCUUfI3JNAHBAarabRDZvz\n",
       "dbRBcucqVmDNOathWXQHPCDBi4dajuSVkZ/Ld1Tayxfg1GimPu8azXOneZu1gepQwoab1G6hN7QL\n",
       "M5RboltwaFyfGgiGupplCZyraLg8IFUg6giZeyLEEaERHs40umZzcXmFpKPtdMh1jTXUzYH1TWoy\n",
       "pSPf4ZGfnM9Yo7UbOI8lPyoP31F8wmnDxp5O40OncHMbTQ5y432LZPpsgw1PdxPQSv7eNNCO+/W7\n",
       "HAdalsD5EEBxiXSAaCFk7okQR4RGXnyi0WWbM3dLSDraCuxyXUKJDg10PxYNQ2c8MgXzPYzUWxJl\n",
       "+p9TVRmFisQevAiHyPOei0ol13vQsKJ0QZrtcaS1E0HL+5384Yfi2aIwH4T7H7QrqeHoOEN0pkGP\n",
       "9WqzOGgaCNUnFctSOBnOrwqkCsQJQnRPBnFEaB1GwhrdsDl3t1cpl462zOXmnIymqFuZzwkc33U+\n",
       "g0eQ734kUszUDC5D5QrpaDavxUEdcLFypHfeMz9jwtvMqe47JiFF6zHMNb7TwcQOkrKCb97fyU03\n",
       "It4L306+xBkSZ+bnkbR5fts2EIGHIIBlKVzcisMTeYcEQ5wjJCYFCADh1FdVja7bXLi7PNLdpaet\n",
       "Iwfjyqhidt6RpHzX+YxaIL4HWhG7Mt1/GDfuNiNYPKwMF0es6GmNG4dXanqZSk51OMeU4Kw2XP7w\n",
       "Gt/5IBTdWMYK6U8Ikpt6fp7dQ5LWv4ROfobEmTnfZbPAbxsIhjrQsgQult+zypFgiHME754UAkA4\n",
       "c1pdo+s2F+72KuXycLYyKJfak2mxDe985yKvS6FDmS0pJQZh55pxejLlLq5miTeq9r1ndReccwm0\n",
       "f/5ddJpXfZ9ATEXiifnhZliruCejyTrtMwRnZuiso5brMLD2FmFpWQPuPkIMZezVB9e3NUrd7VUq\n",
       "5IG2q4nlVMfpWWTx3QTlBt9N/sHSoGLmyk5i3UWGmlmN60noSCAby7eBoMcYR446xhnn8BWXhRYq\n",
       "bzI9OWPomENWfI4OMwRn5pt/x+uzNw2ELGvA3UaI7umyqL/d1ih1d/nCnZMlbdlmF5hheExEiO2k\n",
       "hjO+s9UiU7sT7It03OKThOIiWsZwFfrwPbHJaaDg4V8Zqr46BL2y6Yp4qfb9I69X3WqON9kyz7M9\n",
       "g+U9J1ChUzJDdGZymNz3MmnTQAIsQsiyJtxNhOie11+PvatR4m6vUilL2tp3cZQgu0E+odrPPE/5\n",
       "jqgahTIvac12senUa5ki34uL7qTTXp1Xln+kPXV1AFb6vprmS+OcK1/M2B2vuvKBiWkTO089W+PN\n",
       "dTMtvXfaQqc4Q+JME4NI49e8ZiD0BBOyrAl3EyG6p9Oi/nZTo9TdZbjw8uzZKBcmf690ECd/CqhZ\n",
       "xfX8C0l1TC8K7umBG8NN2UqgP8JjKpeHAgAM+nT47DeXPbLwyKqTHC0DOx8MdMA9ROi26IK3HmoU\n",
       "VCqkkusHvAtg6KlLh3GyVfe6R9r04qQDgwxdz4abt96wIOin/bRv2ww9R6JE+yIivcN/2k97p/0P\n",
       "NKNUcqNQY7AAAAAASUVORK5CYII=\n",
       "\" style=\"display:inline;vertical-align:middle;\" /></a><br>"
      ],
      "text/plain": [
       "<IPython.core.display.HTML object>"
      ]
     },
     "metadata": {},
     "output_type": "display_data"
    }
   ],
   "source": [
    "nonmembership_equiv = Forall(n, Forall((x, y_1_to_n), \n",
    "                                      Equals(NotInSet(x, Set(y_1_to_n)), \n",
    "                                             x_notequals_all_y)),\n",
    "                           domain=Natural)"
   ]
  },
  {
   "cell_type": "code",
   "execution_count": 5,
   "metadata": {},
   "outputs": [
    {
     "data": {
      "text/html": [
       "<strong id=\"nonmembership_unfold\"><a class=\"ProveItLink\" href=\"proofs/nonmembership_unfold/thm_proof.ipynb\">nonmembership_unfold</a> (conjecture without proof):<br></strong> <a class=\"ProveItLink\" href=\"../__pv_it/theorems/2fbed279e7ae0fd77bccb68872f730d8ed429af50/theorem_expr.ipynb\"><img src=\"data:image/png;base64,iVBORw0KGgoAAAANSUhEUgAAApYAAAAZCAMAAAC8VZ4cAAAASFBMVEX///8AAAAAAAAAAAAAAAAA\n",
       "AAAAAAAAAAAAAAAAAAAAAAAAAAAAAAAAAAAAAAAAAAAAAAAAAAAAAAAAAAAAAAAAAAAAAAAAAACC\n",
       "gUnDAAAAF3RSTlMAq1RmmUTNIjK7EInv3XbPqdvt5/Xp8yI2ITkAAAAJcEhZcwAADsQAAA7EAZUr\n",
       "DhsAAAZLSURBVHja7VuJtqMoEGVTEITuWf3/Px1AlEW2YOyZkwnnnZCH4r3IpagqDQDjBUopKfiW\n",
       "b3lnUVpV6M4F5u89PApN6ntXuXvOU72fueT13mH8leVbVjiK61IhvHp4Ut1IgxAdCINDHx2z5+S5\n",
       "aVnC8zDCI7K80f9jChJxXSpsac0x7kQahlD4maGPj9lzOrlpWZLpVBkdkeWN/p9S+BzXxbKw5i1N\n",
       "TItAWaQbEA2EVnk/oYDTUWtZssPc0QWMyPJG/08pBMd10XDA5qUwiWddzlmkGxANhNYKfD+hgNNZ\n",
       "Yy9RgYZkeaP/p5Q1qYuGo2M7WXm8vcEph3QHoo7Q3G/fTyjg5GojyyPseT2AmaOw6X8bAKE5rouu\n",
       "fY/hmCPzI2PXrIXQBVFFaJUnCAWcXG0ltUpTVjEoy/H+n7KHi7jmSkHOxGX3iH1vruwGyJN5EzCJ\n",
       "J8JeLYQuiCpCR4CTI3RvzJ6Tq60siXVKFz4qy+H+H1KSpQ60g6SgAkQec2eXrfzjT/N5zogAyOyA\n",
       "eEvcrDmZVESuSCnCSxBVhNZQC4TujdlzwsEGTOHxMSbL4f7j9qniPe+BHxaPZKuYyGThjmcSrsbU\n",
       "3HgOIK4ZDob2OYTJForWNFyQPEUqIfRBVBF64pcroZtj9pxcvfuFxtCJouNLJTEH8QoLsmz0f6As\n",
       "rUNsfQpaXJffOkW1WRfk6nNNSQSszzfpY/PBAwPGAksC7RJTKkUqIFQguBAQ8g6EeikRGhhzovct\n",
       "qndZIpUNWJiCy6JxEQSC57L1R59C/18tS8P3x88+V/x2fFOWJcje+KsHN2nroueBad5K+tY1zQly\n",
       "eUHKI1QgiN1XOxDq2aEaodfGnLavUe2i6Bng6zUJcb2RPkiMY1CSZb7/r5al5etMwi+VZbKJ27uv\n",
       "54Pz0M/66+/d2/LG1loXZecB+YkOvh7xA0EpUorQhNi0fKhTQxWhvlNUCL085viuyqh2shTIJR8x\n",
       "wXrtkj1DdfZhaKKqJsuzvzbwhOo/x1QZQsmul23M5hbKJwayPAFVGOM58TxAICPLRYU11xsMXEG6\n",
       "jOfLXrPA4yNUCl6CZIzzouYYqYBQg8Dcy7KK0MgO5QkNjDkQWsjJ1U6W1PmNHE+rblmN7j15xPQm\n",
       "jqaKLI/+QFHjz87IpQOAttmJm5dtzO4YlRM9txNw56umMKJ7gsAkQT27gTbGie40RRYoE+0SaEwM\n",
       "TmR5plyCDeh8fldDaEDozrKNwLc5+RJ8KxJ6fcyB0HI5tiMVvvuygHJlOBgHYMKhLPUmrpayLI/+\n",
       "ANsF5P6h3Nxu04/67NHZOCFFamGS712T5Qm483UH2MweIzCr1AYwGdac6JAAEYwahkNbdqHIRhNZ\n",
       "ypMS5N5pBm2EBoTuyzsQJEm/+G9FQq+PORBaxMnVlxfboHJ+J54XW9AuSy4yQU3W9G+BmwuFvSJD\n",
       "YQrCNa5mIdbjvv3Elm+5A1q+P34zfAE7o84HCKD5QkmyuM6nobPe2py4e7QefZQRWhDnwqSd8U1f\n",
       "GSZ0Ci3kdNQXWa7GMhJtfpiIrKWxLV2yNJseDZe+uWKUGXONtJnGcSdiMuFkiMsV0PI917OCTxGg\n",
       "mS7pmwaZGJlnZ4evKJFl49WHMkIDguqOlHYgvFiGCZ1CCzkddSpLutkVYITotz08hTNdk6WeM4NM\n",
       "rHXd19K0+Qxs0ghM9mlvzH0cJyKzj8q8LD2g4esfah2BSQ+BHHiZQDbGP95HKL2XgDOGQ6rdHEey\n",
       "bL6FVXzzoQ5BF8aYzfC9+z2vUUJeaJ7TyS2VpX2yruwTEnr4tUzu6acOWQKiJqGM88XsmtDuxjJ7\n",
       "VSSNewLKNrKVxh/hidpxTULF5Qpo+AqWyrKHQI5BmUBWlkd8yAtznnuMgvDh2lIxb0LVJzlFehFi\n",
       "3UzpQnixDBIKhJZZ1bUfTXBhfMtaUFBNK+h55RpmwSHHsFFwoI7Gam8TeOCJt/KWXPx+8nXi6SSQ\n",
       "Y1AikM+IUhXXqWfTOceqrZkCQi+Eevur2jcJBZw8t+d+y2NmUbu102wDt3XPxIaNs16+8mis9TZb\n",
       "M4ofcedXaPCjDZfG6SOQY1AkgL4/YHq+PCdLc+EJK9HX2NW7JUvIwzQO6CaQY1AiwGb0Vc1/XZb/\n",
       "1u/E86CRzWOPyIeyr2aeLkrKFf8D4vRFJ+iYeygAAAAASUVORK5CYII=\n",
       "\" style=\"display:inline;vertical-align:middle;\" /></a><br>"
      ],
      "text/plain": [
       "<IPython.core.display.HTML object>"
      ]
     },
     "metadata": {},
     "output_type": "display_data"
    }
   ],
   "source": [
    "nonmembership_unfold = Forall(\n",
    "        n,\n",
    "        Forall((x, y_1_to_n), \n",
    "               x_notequals_all_y,\n",
    "               conditions=[NotInSet(x, Set(y_1_to_n))]),\n",
    "        domain=Natural)"
   ]
  },
  {
   "cell_type": "code",
   "execution_count": 6,
   "metadata": {},
   "outputs": [
    {
     "data": {
      "text/html": [
       "<strong id=\"nonmembership_fold\"><a class=\"ProveItLink\" href=\"proofs/nonmembership_fold/thm_proof.ipynb\">nonmembership_fold</a> (conjecture without proof):<br></strong> <a class=\"ProveItLink\" href=\"../__pv_it/theorems/2988fc4512d1d1abc2c344c539eb3f53ec3b48c50/theorem_expr.ipynb\"><img src=\"data:image/png;base64,iVBORw0KGgoAAAANSUhEUgAAAlkAAAAZCAMAAAA14cswAAAASFBMVEX///8AAAAAAAAAAAAAAAAA\n",
       "AAAAAAAAAAAAAAAAAAAAAAAAAAAAAAAAAAAAAAAAAAAAAAAAAAAAAAAAAAAAAAAAAAAAAAAAAACC\n",
       "gUnDAAAAF3RSTlMAq1RmmUTNIjK7EInv3Xbt5cnp8+P3nRjLMsUAAAAJcEhZcwAADsQAAA7EAZUr\n",
       "DhsAAAZbSURBVGje7VuJktsoEOUUAgTZK6v//9MFxH0ZyzvxVMrUxGUDfUi8PmgIAPcbVEox8Gmf\n",
       "VjVtgIFeYbB93uHXNvbUqKD0TWoi1qiE8QdZ39j053a/iXL2RsWbFN0hv0RTnSELxnGE7yDrBfpP\n",
       "mzYkHyxnOfsUb9SVe2U0Tsgi0YVu7A6yXqD/tFkTD0ICKWOfVO9UNkoPjtQgK0Kf8VvR8AX6T5si\n",
       "50EIUOA7IguTlGcFlEl0C1kv0H/arB2zDIyrv/5W2zdEFjhERFbI4p/Px7diF/DJ5//fLGv8Pumm\n",
       "BYD7t/RZYMMJFYey7ZB394a36T9tFgzD+xRaQ7HLFBKYjRJNFubXVmgXRQXspm6zwaXcb8QgIUvC\n",
       "hCzi0M/FXWTdpv+02csNaZZJXDTUgKhip4R1jcRrNSRANozis+tZZoNLrmnEQMfYjbNIxmD4uIes\n",
       "2/T37bmMG709aRfnuhd1ujvaZfJJOFtn3GMditiY2ZU00Q8Xr70qZgF2uPEdXRCEve3UdHCljRmw\n",
       "M7hUdGQ5knU3cli/ZYrYQXzAAbIe0H9F9ST/gXuSB+qQpqdLvU4+bk8x7rA+/Mw9+SPfYbOPf36a\n",
       "j/QaGNxoAO5hUWo/BN4aVIdBISWET0eZnHs9BLcLW/uZIQvpbv69a8i5URhBIA1PIkbIGtD/GmR1\n",
       "k4aRB6WyKrv0U45l8o4fv8U4Y10jC9QrKXhnI76TkI1QWzHdz90sn26S+jhogUxu5PyRQWMyHtqA\n",
       "5j7LwAK3KCTE0yMzSGyMHSGrT/+LkEV6XgCy+cJjKCfU6+Stp7rJuAVrdqRLT0MmRF7IakERquDO\n",
       "v11pD2pmxcGT2gi2P5+HbEVSlUJ/PAHwQj2yJAqvjGADdeeZY50eoB1RpmfIivTAEDPz59+Itk9b\n",
       "mWm3s2se44k5slQrNziADgdv6zxsOBR4ibyj2T3GrRfi2nsoCuABcsPWGlAy3Pc7hF0wi8gSBfzs\n",
       "BxYBWUshscMgIcVJTxk8z5HFfA4lMLWJ4MG8zw3IMtEQ0QmyAj3QzGZ3PuIKDQyS96Pat3Y6+xvc\n",
       "8cQMWWwr5BJu2w/zD3c5IHJ5Yb/IF/Vt8tZ07zIOrDOkQO8MdkHMVJoBb0NwHyKLQOvkcI4scYaV\n",
       "ygY9RRqL3yZfIoMMKVXVwVdLQpXTa8qEtiysZ6M4R5aJhpqPkRXLdtjZmv/BhH00S8eSicdOijSZ\n",
       "Zf2Jeoosyhu5wd325F/TeaiSUA4ek2eaVuRdxdYZly66+r37+hQxLgoRjIrU8md7rSGsrYBSk5MV\n",
       "Pksp0QwaAaIYA4qMv9QMMqRUyFK0QFaCiPY5GN6clXF0IUvITo7ezdrPLJWwSYfhuCMlms7DmsLU\n",
       "a/mJc2Qh2MhN7raVv3PgL2U43xKpZ+SZphV5x2U9w7hEUm1DapwF4X8lN3vD4emO3ECZZyHRDEZr\n",
       "QyvxsGUQkVJKZ/5Lg6zD+idirGyXhc+yhruELOvkWY5fyxHkyPKdDDyKiX4iJhRXF0p4uyBero06\n",
       "f/zJXdTpyXcxh8daSVzOGXmmaUXeR/wy4+LJ6mgYz3YXsv1sbe2yiwNVyJKgHmSGO2MA9HZm3RJp\n",
       "zSAipURWOEevkcVOZywWS+nNXZUZDR8jix1ONnE+7jI76qz9WtmqE3Aae8uPYiKycUNNM/gkFxT3\n",
       "lir5V/Yb7pG5W2oKrJB7TRvySvVnGRdPphvL5aONZPdWid+wKX25xDKD97zTIOP7vrs6kljZ1XcY\n",
       "JKRkJwBJtRpZ1D69lviSHQL+dfFqAVmAaCq1tjbrgG3yA76lla06fVXD9e4Hyz7KiSaJY9sQWe79\n",
       "R7mlM6nk+9kkK05eq/eIPNRfavJS6+cZ50/W4kiMSuXdWyW+Co5wSAqZ3E6piwp/GjxO25YPFloG\n",
       "GVKsqgeunmJ2W1lI67zp49OdQWQ2HIwY5/3jyuadUgSF0Zzapru4SFn5pMSYRe1WfrNYTbrUI4+a\n",
       "ivVjkSXG2ZP1WLPBqvdLNozAN91jYjJI1tE8vu4evH1fJsmjmyvmH5eZ5Z2bsRkVp06obTUbSTw8\n",
       "3SFspFQjv57b6emQJ03JE7dmFxjnT0Z+swu5X4cst0vCWj7uBHiReoAsd/SUXEPmZFv5HQ9cUD9P\n",
       "Pkl61xk/y/r3R9a7/r8hG1SIl0vJt6jBkye44ovmfv+mlTrwf07kQHYeZxkpAAAAAElFTkSuQmCC\n",
       "\" style=\"display:inline;vertical-align:middle;\" /></a><br>"
      ],
      "text/plain": [
       "<IPython.core.display.HTML object>"
      ]
     },
     "metadata": {},
     "output_type": "display_data"
    }
   ],
   "source": [
    "nonmembership_fold = Forall(\n",
    "        n,\n",
    "        Forall((x, y_1_to_n), \n",
    "               NotInSet(x, Set(y_1_to_n)), \n",
    "               conditions=[x_notequals_all_y]),\n",
    "        domain=Natural)"
   ]
  },
  {
   "cell_type": "code",
   "execution_count": 7,
   "metadata": {},
   "outputs": [
    {
     "data": {
      "text/html": [
       "<strong id=\"singleton_def\"><a class=\"ProveItLink\" href=\"proofs/singleton_def/thm_proof.ipynb\">singleton_def</a> (conjecture with conjecture-based proof):<br></strong> <a class=\"ProveItLink\" href=\"../__pv_it/theorems/3eb5e5c79d8201e9fe1cda93703529c1eb86bfc90/theorem_expr.ipynb\"><img src=\"data:image/png;base64,iVBORw0KGgoAAAANSUhEUgAAAO8AAAAWBAMAAADaw9ZbAAAAMFBMVEX///8AAAAAAAAAAAAAAAAA\n",
       "AAAAAAAAAAAAAAAAAAAAAAAAAAAAAAAAAAAAAAAAAAAv3aB7AAAAD3RSTlMAq1RmmUTNIjK7EInv\n",
       "3XZ/CtNrAAAACXBIWXMAAA7EAAAOxAGVKw4bAAADHklEQVRIx71WTWgTURCebHbTzW4bg56iUgIW\n",
       "LyIGKYiXthL8Q6tF0EMPbVBE6EFSEQ9apXrUCvUggmDZQhGrUmoPBRFKEARBlCgoeghspVr0EMRL\n",
       "S0/OvDdJs2/fBvHggy87u/t9b/Jm5s1bgMhRZISHc5KNC1Gcln+ZlkcqK6EZ3/vZsDMewICG8TV6\n",
       "3gFGmm62aQg7GOFhrNXNJMpTuTBjtsmCchL76eacJpwFCc1wy0FzKMR42CyUQxLXKSPj4ddmTuIv\n",
       "HHeGGPlmjjslEpglV5PKVkZDjB5UPmkdt3qquNTMMdERcVxVQvN6O6M+rPNexIoTamCMQjPHRCe8\n",
       "rVTeaF4fYcwsPnohAnLJa/TmLOVgkh27aTVNWFtOdfOtOaVsWJOWOARwX+P4DKMn1W6WgwVo4oJc\n",
       "owTdGH4KalwssLdC431tTSYs+r3B56whOmEYWtIaxx8k4sX4WkyEcj18I3h/A/9NBsvyN0VWTWkb\n",
       "hmgPdHubgo9ZQ3RC0nP7NI5fSdhifdQrMCWVL2QNn8Ufr9WHd3idPI2vfqnlgxOOwgF1StYQnWD4\n",
       "utqqOcZZfJmg+pazD1O2Bz17FS/z6MMqaRyD+F/BITVEF5JCF/5UDy5hA7UWIRYMNbKLjiircqBd\n",
       "4Xoov6KJGWUlxxRqsFbgsfKcNWWWzGEbSRUzCWTPbPDGePYJiem+reCKB9XgHroj/LuiuNT+k/TB\n",
       "uRsrgdo4pYboQjJCNzBho3l5J/xg0jOJXTePwgm5/bIBx/tgMMemqTrAzWKsTpUstS9JDdGFJDZK\n",
       "D1fEqy3QzqTbElNVIy/1Tqa/0fHkwvEim21qcdplcI75HbvVHEsN0dcldkkcoR/hdW1LjEo0tK7n\n",
       "wZY5XzOvhqroc1TXmmd6XTLiFkx4ggqrtjXiPRIRh4RbcF7WHOe154BGJzX5Ron5beEnjGWhY2+9\n",
       "T9xjaE5UrKg2PzbLTUxztiW1nxhSQ3RVknWKyXrDn2ZovmuwXRld4iB/mtN6cca1HxBCQ3RFYnkx\n",
       "/9T69L6EZlzcyMYVMpY1jGvRh9NyWBIHq2sW/tP4A/5b5tR9MfwTAAAAAElFTkSuQmCC\n",
       "\" style=\"display:inline;vertical-align:middle;\" /></a><br>"
      ],
      "text/plain": [
       "<IPython.core.display.HTML object>"
      ]
     },
     "metadata": {},
     "output_type": "display_data"
    }
   ],
   "source": [
    "singleton_def = Forall((x, y), Equals(InSet(x, Set(y)), Equals(x, y)))"
   ]
  },
  {
   "cell_type": "code",
   "execution_count": 8,
   "metadata": {},
   "outputs": [
    {
     "data": {
      "text/html": [
       "<strong id=\"unfold_singleton\"><a class=\"ProveItLink\" href=\"proofs/unfold_singleton/thm_proof.ipynb\">unfold_singleton</a> (conjecture without proof):<br></strong> <a class=\"ProveItLink\" href=\"../__pv_it/theorems/529252921d2631e3b6c68de2f857839357cda7420/theorem_expr.ipynb\"><img src=\"data:image/png;base64,iVBORw0KGgoAAAANSUhEUgAAALAAAAAXBAMAAABZgNg7AAAAMFBMVEX///8AAAAAAAAAAAAAAAAA\n",
       "AAAAAAAAAAAAAAAAAAAAAAAAAAAAAAAAAAAAAAAAAAAv3aB7AAAAD3RSTlMAq1RmmUTNIjK7EInv\n",
       "3XZ/CtNrAAAACXBIWXMAAA7EAAAOxAGVKw4bAAACbElEQVQ4y6WVT2jTUBzHv2mStknnVvC0DaSw\n",
       "sdMGQWSyyzYYuqF0ePKiQpgH/xwk3twoI/O64jZhSD1IDuJBZXQTBl4kR1GUeRh4qaRaEYeUgYeJ\n",
       "J3+vaZLmT8OIgZf3e+/73oe8358XIPGTSSQd4/naXRItIM+MoQTcVDVG/AacY/2NBOBncWLawApz\n",
       "yXoC8EycyE8zNnKFBGAzVn0HXqEPT+JiNVa+Dnyo1d4nAAsUO7k5sLoTmN+agUwJsQ3MAY9Du0I+\n",
       "e2X3qxfc8ChsWd0qskGxxp5PzKyOgj8ExoG7yOSDHCk4UXaMbcc4QXE5iynjpH9htlAER7kwShAj\n",
       "dykO/KB/ExhxRq7RQ5t0nA/ulPERPVQeaxQFKxy7DrAw5+P5wCBKqOj+Yk0HrpKpTtKrOdvQaLYO\n",
       "zgP3NpZnWQ3ZPFsb6XQFxCM8D/hYUPGLujFqO7eJofWnaeVWn1H2wD+49QXZrp1xR7vmHsqCvMmZ\n",
       "CBa2lMcGdRPUShQ7Hk+yZC6N4acHViRLF5VWSG46WvqgDcjlkfrz1BSDtSXkxd/UXaTG6WziqDU9\n",
       "iFMdPu7TwN+qVB5iZcDRUnec8O9BnreGT4eiN9hgqH03TczWHbqPtx3gMrSsfdS6o5VcwudupZOj\n",
       "mszstQelnCrgBa0WD11wxtzFdLt4WMxamhs8nInG7uIleUdQHM98f3OAcgHDE6r3xfNXmgYWdQfc\n",
       "0jywpEWCv5DLgEX/ZEHWJCWQx/Lril0gtuaB5ei7dqjBEvyRP7cNzrocXdKUZbbmgbHc/Ybq9Z+G\n",
       "hzhZjQanLVvLLvzXbzLiL3vf7u4dG/EP3ueORzNJClkAAAAASUVORK5CYII=\n",
       "\" style=\"display:inline;vertical-align:middle;\" /></a><br>"
      ],
      "text/plain": [
       "<IPython.core.display.HTML object>"
      ]
     },
     "metadata": {},
     "output_type": "display_data"
    }
   ],
   "source": [
    "unfold_singleton = Forall((x, y), Equals(x, y), conditions=[InSet(x, Set(y))])"
   ]
  },
  {
   "cell_type": "code",
   "execution_count": 9,
   "metadata": {},
   "outputs": [
    {
     "data": {
      "text/html": [
       "<strong id=\"fold_singleton\"><a class=\"ProveItLink\" href=\"proofs/fold_singleton/thm_proof.ipynb\">fold_singleton</a> (conjecture without proof):<br></strong> <a class=\"ProveItLink\" href=\"../__pv_it/theorems/766ffbe422917798257776912582ce61c43300840/theorem_expr.ipynb\"><img src=\"data:image/png;base64,iVBORw0KGgoAAAANSUhEUgAAALMAAAAXBAMAAACyt2M4AAAAMFBMVEX///8AAAAAAAAAAAAAAAAA\n",
       "AAAAAAAAAAAAAAAAAAAAAAAAAAAAAAAAAAAAAAAAAAAv3aB7AAAAD3RSTlMAq1RmmUTNIjK7EInv\n",
       "3XZ/CtNrAAAACXBIWXMAAA7EAAAOxAGVKw4bAAACiElEQVRIx62VPWgUQRTH//ex97Ebz2AhHEpY\n",
       "UGxE3MLG5kwIfqHgYWFhYQ5FBAtZLSw0YhQriWAqUTDsgYJBCdEiIGI4FEEQ5RAULQ42EBFFQrCJ\n",
       "pPI/s9/JXHTRB7cz772Z3+y+jzkgvdhq8/26N56zu6/5g1RMtfmk401KVU6OcdIrtE1p0FvV5u1O\n",
       "MCuTWbGA3UI5lYKsN9T25+HMaPNxGrjCoXgzBTpv/RV6B1DgdxhmCnRPMsJ3Ox+V6B4HOb5EIU2o\n",
       "t8QV7YzT5a0L5L7tdN6kQR/gb3L2wTP5peedeED0OQtNH20wl/uAOyv293dHnxDuSl++vSz/e4jL\n",
       "trCLQWpRzTHbZ1HsXbF/lby+5zY7t5SR2YyqpfgSuMrzqpz+pM5TUHaMehr0KzYF8h6zxGh2Pkvy\n",
       "ekKcHhfvqDSP07VAvKvI4upo5t/1ajxad01Edcgp/eIwzWM0EZVGjY/5vXNse20WmRjaM8pKCBwy\n",
       "IGTYukxgOzpyTMZbxDm7JAIiXE/YOBW7WmDKJ9c6oxFaGvffplihAxgHJuobYXiHJ1tmTDa5IdMo\n",
       "EMPUchgvcXphG75FaN+IuAN4zOvi+kEclkrBTKAHMGT5xZef4iMzIjyL0r8BffFYL4YbAwdwA7g3\n",
       "nx30mHr1aBzdnDlk++g1YW2UWkUxfMDrGFoYvYCEDu4ZSbTj02SjTwfdeClYMWw08ngIfNIWIrQ0\n",
       "+hI4GKb+rteT0dBfBOjB8Dr7MvMdoyY272xEaGn0JXBQbqnRP/hBbkZEWBT98svU1O2ypazr0EGZ\n",
       "UKMvm8jW5O3/iEvLyX8wzcm4R9QtEzpE47lKdHHAr5aL6/j4mnTmoNWm1OjQ8e9i/wfGb+MEqI/1\n",
       "SbeSAAAAAElFTkSuQmCC\n",
       "\" style=\"display:inline;vertical-align:middle;\" /></a><br>"
      ],
      "text/plain": [
       "<IPython.core.display.HTML object>"
      ]
     },
     "metadata": {},
     "output_type": "display_data"
    }
   ],
   "source": [
    "fold_singleton = Forall((x, y), InSet(x, Set(y)), conditions=[Equals(x, y)])"
   ]
  },
  {
   "cell_type": "code",
   "execution_count": 10,
   "metadata": {},
   "outputs": [
    {
     "data": {
      "text/html": [
       "<strong id=\"nonmembership_unfold_singleton\"><a class=\"ProveItLink\" href=\"proofs/nonmembership_unfold_singleton/thm_proof.ipynb\">nonmembership_unfold_singleton</a> (conjecture without proof):<br></strong> <a class=\"ProveItLink\" href=\"../__pv_it/theorems/c666b803e2e45cd3e5bc20b2b1b8d6bcebe6b55a0/theorem_expr.ipynb\"><img src=\"data:image/png;base64,iVBORw0KGgoAAAANSUhEUgAAALAAAAAXCAMAAACccDU6AAAASFBMVEX///8AAAAAAAAAAAAAAAAA\n",
       "AAAAAAAAAAAAAAAAAAAAAAAAAAAAAAAAAAAAAAAAAAAAAAAAAAAAAAAAAAAAAAAAAAAAAAAAAACC\n",
       "gUnDAAAAF3RSTlMAq1RmmUTNIjK7EInv3XbP4duh5/Xp88jRr28AAAAJcEhZcwAADsQAAA7EAZUr\n",
       "DhsAAAKYSURBVEjHxVeJkqQgDJUbAmZmT///T5cAIio021tTLtVFl5LAI3k5XJb/McyDWl8xkE8E\n",
       "JPTeKqSZ1WcuHsLL/UTAusFFCaFU+6N+yOSgZxLODhZ0tLzdTWzcQwaWM09aNloRsqCm4flDgMPU\n",
       "wGNXhwhWlAvrpxg8O0ix8ZomsGGlEfxTjCgHASID6++OPccSYKIQ5Ft4+pOJ4g7mR42XRAkT4VuC\n",
       "Wt/JT1rU3ZDhIte6fTLc+uMnzdXKfuHEIbHl/ck9hu3TjFvTJXvlp79vu2aTCkMoYGHipYEtz1di\n",
       "+YQEPhnXq38GbJF9fKo+PzuEDVmUXCI7dFZnP0ZogepFmqJWMjTHvwu5PmAZKcVgeRfwcqB4YWC6\n",
       "wUbJd8ucU6EkCFFUEaWJv70UslMpbAFXQao+wE74Gr0O4JUfUKI+wInDv35nJh+nJjdg4RpfSwou\n",
       "yRgNkUXzEp9LvFxDywZwFQR6ibvRUky0emq9+ynZBpxaWEhBdatlF3m2T3RAxmDC/pz2KxFvgO6D\n",
       "rge4CirRLFhtr3oaoRuHfLMgI2B1zmr8nokkI1+Ic05kR/HeGg6xuMxwwOEsKLRzH9+c46mkFi43\n",
       "elxfeWqT0UEiRniCzwwc+eZR7qjWW24gT1bItBxsH3ARtIStnoLsomc6dXi1b/dxvoSCuTAsbk9L\n",
       "0S3gy9Zq62WJQzDmRGDXpHDo9eqwGBegjoHpHAh80DdJVB6JdTaJRJc53U1rVTA2ed/tFfCh120c\n",
       "hs2N6Bh4xUyxaUMZAUPc2IlZHoZPF0dbOBq9LmAYnbt22gMusLbsL9q4RUGKG6WnhaP9UMlZrNHr\n",
       "t2YGBzVz8mX16guDUCiBfl7pWGuWlBMOPaufarLf+Go9u9G2CI39ehB/APlDE7XlJdhjAAAAAElF\n",
       "TkSuQmCC\n",
       "\" style=\"display:inline;vertical-align:middle;\" /></a><br>"
      ],
      "text/plain": [
       "<IPython.core.display.HTML object>"
      ]
     },
     "metadata": {},
     "output_type": "display_data"
    }
   ],
   "source": [
    "nonmembership_unfold_singleton = Forall(\n",
    "        (x, y),\n",
    "        NotEquals(x, y),\n",
    "        conditions = [NotInSet(x, Set(y))])"
   ]
  },
  {
   "cell_type": "code",
   "execution_count": 11,
   "metadata": {},
   "outputs": [
    {
     "data": {
      "text/html": [
       "<strong id=\"nonmembership_fold_singleton\"><a class=\"ProveItLink\" href=\"proofs/nonmembership_fold_singleton/thm_proof.ipynb\">nonmembership_fold_singleton</a> (conjecture without proof):<br></strong> <a class=\"ProveItLink\" href=\"../__pv_it/theorems/e2c01633eb4c51889a8e2709d0d443174633b5a50/theorem_expr.ipynb\"><img src=\"data:image/png;base64,iVBORw0KGgoAAAANSUhEUgAAALMAAAAXCAMAAAB3R445AAAASFBMVEX///8AAAAAAAAAAAAAAAAA\n",
       "AAAAAAAAAAAAAAAAAAAAAAAAAAAAAAAAAAAAAAAAAAAAAAAAAAAAAAAAAAAAAAAAAAAAAAAAAACC\n",
       "gUnDAAAAF3RSTlMAq1RmmUTNIjK7EInv3Xbt5cnp8+P3nRjLMsUAAAAJcEhZcwAADsQAAA7EAZUr\n",
       "DhsAAAK0SURBVFjDzVfplp4gDGVfAqbr1Pd/07IqKKhzTm3LmfEHSeAmuUn4CPkrS39KClL2cqYf\n",
       "nfNHF7JLsYJeW8l+gxhq847E+KWbgPG3IDN3KTa0117hrGOLDkaQYkuDeivwoK7lomeCWwY622bM\n",
       "yeaktm+FWdwkcCGfwMxFQybH3sLsr5hul+8/FvUcM/EBLy9RUK+xeX6yVAiEms/EmaiI1y9xefca\n",
       "NcrJgEjBuCafOub4xPYCDzBxCugBs4sbIvlp4cHtl5U27WR8s0aKROxhTFXP8XhLdsIRFknF18yh\n",
       "jWA8ijWtn7t1VaVOTkssB5brCCBQYa9INWjORPukYFj2juZL9VrTkzxJIZ5f+Qzzhc8+H232ENa+\n",
       "HFn58yN8bHOOkjVtPmbAlzQAVRm1SYFn+LACLzBTfYeZNAAKDDtoV0ZUlso4W8xaKtQVX4j0JUeV\n",
       "VIhCh78iRdoNyg5zp0mkG1s03Egogj5A15iX6chLSak83ocjW0prLqRCHflTkgBIgqLxQ8ybprBx\n",
       "fQn/fGCRrDAHVRLqU201fhMppm0tYa8OuL0GC8F9kfB0Q8mGhugS2iHmTjO/AkYWW3MKgTIgwsWy\n",
       "5YJix+bcYBY0ZoYf+3NtnY3l2hCTBjHFGZ93TbAzi8TQdB2IEFUmeEdfoB8SZpiBOhT1kh3zcuoW\n",
       "MbG6FXszwVw0Ize+frOJG2eLfIyZ1if/5WzoG9PZ7dRxUy/H1piUAsXAlcvkOuwbu2b/ljxa7M+a\n",
       "Ry/nFl48Hzw7Yj49uARKhxhbTFIOqbRq3Os2zX6EHi2K3awRDt+SpVUsmKnWDcfr12fADOEqy2/7\n",
       "M9v5e7I48v0Y0tFbsow8xnF/WIPnN+7HVgqpmKS6nymNysmiwsDJJBpHX9DeF+3qBl79LoluSY7u\n",
       "fg6ypo5PFv9+6f8Dxm/1GRX0nkIkWwAAAABJRU5ErkJggg==\n",
       "\" style=\"display:inline;vertical-align:middle;\" /></a><br>"
      ],
      "text/plain": [
       "<IPython.core.display.HTML object>"
      ]
     },
     "metadata": {},
     "output_type": "display_data"
    }
   ],
   "source": [
    "nonmembership_fold_singleton = Forall(\n",
    "        (x, y),\n",
    "        NotInSet(x, Set(y)),\n",
    "        conditions = [NotEquals(x, y)])"
   ]
  },
  {
   "cell_type": "code",
   "execution_count": 12,
   "metadata": {},
   "outputs": [
    {
     "data": {
      "text/html": [
       "<strong id=\"not_in_singleton_equiv\"><a class=\"ProveItLink\" href=\"proofs/not_in_singleton_equiv/thm_proof.ipynb\">not_in_singleton_equiv</a> (conjecture without proof):<br></strong> <a class=\"ProveItLink\" href=\"../__pv_it/theorems/6d107e12d4a84908b52c521c976cda30ae1c22b70/theorem_expr.ipynb\"><img src=\"data:image/png;base64,iVBORw0KGgoAAAANSUhEUgAAAO8AAAAWCAMAAAAfMztaAAAARVBMVEX///8AAAAAAAAAAAAAAAAA\n",
       "AAAAAAAAAAAAAAAAAAAAAAAAAAAAAAAAAAAAAAAAAAAAAAAAAAAAAAAAAAAAAAAAAAAAAAAeYafp\n",
       "AAAAFnRSTlMAq1RmmUTNIjK7EInv3Xbp8+P3nef1oUNS8gAAAAlwSFlzAAAOxAAADsQBlSsOGwAA\n",
       "AzhJREFUWMPVWNmS3CAMNIc5xJFkk8z/f2rABhtxeDSpvES1tV3FMGqEGiFm2/7CdIfPs4rBvnef\n",
       "c5qftct/udoHixzjwhSgL6kdugmG2XNoj58RL03CZLB6P5Fd41zQWLnDuDDD0Jdes6XYMieKT4jX\n",
       "lHa+TaJBealM0RIOCuNyr5F8XZjNuUYV0InXZs2z0jJeadCWll4pMK4sbB/EKySdmKioxqr3A2vw\n",
       "jtPi9R1OFWTDt+9B0ePdPJCJ1+ldCrR6zyjKtini6VUYZwVCRdiY+SS/mxJU4jUtW5dO0aAP2bwj\n",
       "ytlhhBgZGNeoQ2fF9IetRgbxkCWwLl7HqMQj4az+dDysYZFHJizQ4kVblb+d1MviJgPmFd0VI0v8\n",
       "buNZl+J16v7SqLj3R4bG2EA8EJb5v3638zFP9X6gZvUfxQJHKHR2muR761FNCq725+eGnwtlZ3HU\n",
       "r5ol7onEE8JJejue6v3EnFq3E+P1O0LT5K5Q5fPx4yv9uwq+Zqp8KzH5nHlf0g9MnWGYF5F4JCyn\n",
       "F1X4jqd6P5FHcrUa4t2axRcqOxZ7I6/jsufGw7xKNXN1I3ZPJR4I590D4qneC6rruMUodfqrDRhD\n",
       "DdhMz4fnNB8AXbxh1Umduann9u66eHh3fpeEx/x0/eH5mCcgdLwct6iz4ovEIG5pOabbeBtbBLtv\n",
       "zB/14b58YycuVImPwGv07q5Xb7udNeG0QUM81XtB7ev44bZoTUPejtgtBJX2lCADMtHvrX4VZ2YZ\n",
       "r2Q5QaK/f+Xb6/CBMA0PG4x4+ku0Wd+rOQcsfcy6s2JCiyBTNrkUiB3Y1/AWuiID5qKsJHe84W29\n",
       "fCCc9d+Ip3ofWbJ8dbsI36cqGIyzfvWns+ksLftJp/pRHQg3ofn05VR5qveeRftjStIGuMKwvx6b\n",
       "b8rLF0WW/YPng8oJD8KPCBHP8okj4+5izIX8mJp0Y9WyLV+257OXVq2UIZ7HBHddtLfZklCM6W15\n",
       "qvdHlhQvJP923HiwGMdcTl5atZPiIt4PYyhd18PLZkY8BjfqqeV5m6B8x8FRqvZZH6Ijxt6mramW\n",
       "rNsG7epIJP60tCI0z78CaQJL3vhdROKj6f+xP414HZcqnzU+AAAAAElFTkSuQmCC\n",
       "\" style=\"display:inline;vertical-align:middle;\" /></a><br>"
      ],
      "text/plain": [
       "<IPython.core.display.HTML object>"
      ]
     },
     "metadata": {},
     "output_type": "display_data"
    }
   ],
   "source": [
    "not_in_singleton_equiv = Forall((x, y), Equals(NotInSet(x, Set(y)), NotEquals(x, y)))"
   ]
  },
  {
   "cell_type": "code",
   "execution_count": 13,
   "metadata": {},
   "outputs": [
    {
     "data": {
      "text/html": [
       "<strong id=\"in_enumerated_set\"><a class=\"ProveItLink\" href=\"proofs/in_enumerated_set/thm_proof.ipynb\">in_enumerated_set</a> (conjecture without proof):<br></strong> <a class=\"ProveItLink\" href=\"../__pv_it/theorems/81f13315884448aaa567bb97963ae88b1e66e96c0/theorem_expr.ipynb\"><img src=\"data:image/png;base64,iVBORw0KGgoAAAANSUhEUgAAAm4AAAAXBAMAAABANN4AAAAAMFBMVEX///8AAAAAAAAAAAAAAAAA\n",
       "AAAAAAAAAAAAAAAAAAAAAAAAAAAAAAAAAAAAAAAAAAAv3aB7AAAAD3RSTlMAq1RmmUTNIjK7EInv\n",
       "3XZ/CtNrAAAACXBIWXMAAA7EAAAOxAGVKw4bAAAF+0lEQVRYw9VYXWgcVRQ+2Z/M7Ex2syoI+hBW\n",
       "RFqMiYutYoqE1TSSKuJi1Qebh0Vbin1xA0GJlDYVUR/WJFqDTUGdWBBrtNk21n9LqIRUSyVIq6Ul\n",
       "sDGlkqQJIVJbWjSec+fv3p3J7qS7lnhg755z7rnfnfPN/R0ATzJ7Gq6XSG5O5SlYASKtMp7PMx2H\n",
       "r9/D/e7mPP/MSuANdu0FCOYYH1Gyby/Om7e40sWXhf0nHM4r5YB24i5b3sLfJOOjmcytxXnzFle6\n",
       "fIS/zflOdaws2JtLRvgef5Ua8bGLpmxPcd68xZUuTfhb+I94WygLb/4E8UHsqbHivHmLK12GcQUx\n",
       "Z+XU+HiqjLwFr5SFN/iJ+PDHceR52Be8xZW+vKVslp6eLu94KwMK4+05tk+eGB8/7mU/9RRXsgSy\n",
       "+HpqJmhgS9vEjNuO7OAj80ynOAIMXMKbu5/nU7Bc+LbrGW8HGR8tAHu98OYprmSpxGE9uE25RGra\n",
       "ZhNHYXAUPtC4SSeaLrPSEWDg4hv5BTZwpzLBcjm1cfUXqLiP8dEGUtQLb57iSpYwjoi7NfgZhFVh\n",
       "O7L5aRwe4wLzTKc4Awxc7CRrKC6WyyNx9TtpwN7F+AhpatKd55OH4YGoxduScUvLa8vff6uwj4cB\n",
       "rqKaGUdhCG1bsHgc4CzAvpQRyEzl2xuWHHN6PC8GLlZRIxsJrYJAXI1yMxLXzfjw5dyW+65beuE2\n",
       "VQtoFm/ucQWlIntNvJ2FIJ0Y9ltOeQM+xo+gXAR5zlzbmRmAwJJrPQsQxMClKhCQoAgQt9TRG2zV\n",
       "70+pRpfluYVuB7mEyt2z3OKKkNB5TfN0AQJ0Ygjb3lAUlH/AP49vz0hPN6uT0uUlgIx48fjGcKkK\n",
       "BCQoAiRMdYA6nY9DuG/5m7omIg2UJmrn9LsErL5jB88bxcFA45cm3tBM2tmJ4Oyeu5X+jliEq5M5\n",
       "524l+EJoXKa1CSCS4/dTZQEqUqv0bGliMdOvYbqKM1c7wMyL8mW4pPyJu4aFxKwCQHo9YwXgOyoa\n",
       "dD624xq2rzVeFY3QYkZaWmHLymr1w00cbxSn/CZfMlyfpbudvInOWY06CyczpuOUPOxoIvpU7OQm\n",
       "eIfpzwrnkPehLpFg2Sp/gWlSzWDKcLHCsliAmRfzEC5TcHv8ykZiVgEgqmesmOeQR3U+KvB1vHwe\n",
       "qjvp7MQ0LRhnvEFiiuON4gIJzFJi55H1kIFgfbNIAjlt2U1bNvb7MXSwdTLQo3Q+cU7cXcjHmTJm\n",
       "0/856x76ezWOt/6Z12s69VEyrpkmvKlB+Ay6ToJRhBN8gJUX8xAuKepQo2YjMasAENUzVkzeTnHf\n",
       "h2ow4XBM11rB/3xf39vI20Bl3nekqiS+vFcIH0ZgAqpgUOSNnLYcgweZD+Q6zVz0h5V5x0bAC/9l\n",
       "a9N7jnsWy9Zn7XDsFd7pvHVo+XlZHlsRkIoBESsGb9IYx9sxmIKdsq6tl+WsPt6C9Xm8DaZD6zQg\n",
       "3vAIufsTSRhehtP/0JrmWjaG5uEoljSxw6z/ahzq6bypSr61G2ste23hGxLLVrUq2uElAOeurUJ+\n",
       "XqqjSkQqBkSsGLwF4jYf0jwy2hCAAdJOr9ZvBveCNXqs8Zbu3ki8KVkYlS+uA+jFrYIsKgynbwpG\n",
       "fFlynvH3YLkFeyfeBqAyiY8WStotDF99j713htIuvEWGhWwPWMNtzxuPgOLca+wAIy/bc8AVqRiQ\n",
       "zgo7AkIHx0cwCluhbRoyMdRm4tCB40X+NQ0VebwFm+qHAHmTj8KT92BcAOMyMXkUMml51HTuUVKB\n",
       "GIW8Okdl+5ppxlsmJjXhStLCtTB8FZ0v2kPW7awsmV+ApC+uYnJWflWLi/MQccZbAWZetifnilQM\n",
       "SGcFlB9Qf9ft+7dx8VW+7usVvgMIH9Rxnvp07ZuI3cZyjvmyYb9p6SWbpyxO1XJcC10Lw6T9Hdz1\n",
       "tt5+40r4TC4dxMeN4ISYHcm/DGsemncdj4GeZ+Xi33wb3alEI8mKP0yLlfKFQ2bcC4tjXAtd64fa\n",
       "OPyvxe81MO7WJu4SEneJ8y+/v5Um/wJqXx6djCKheAAAAABJRU5ErkJggg==\n",
       "\" style=\"display:inline;vertical-align:middle;\" /></a><br>"
      ],
      "text/plain": [
       "<IPython.core.display.HTML object>"
      ]
     },
     "metadata": {},
     "output_type": "display_data"
    }
   ],
   "source": [
    "in_enumerated_set = Forall(\n",
    "        (m, n),\n",
    "        Forall( (a_1_to_m, b, c_1_to_n),\n",
    "                InSet(b, Set(a_1_to_m, b, c_1_to_n))),\n",
    "        domain=Natural)"
   ]
  },
  {
   "cell_type": "code",
   "execution_count": 14,
   "metadata": {},
   "outputs": [
    {
     "data": {
      "text/html": [
       "<strong id=\"in_singleton_is_bool\"><a class=\"ProveItLink\" href=\"proofs/in_singleton_is_bool/thm_proof.ipynb\">in_singleton_is_bool</a> (conjecture with conjecture-based proof):<br></strong> <a class=\"ProveItLink\" href=\"../__pv_it/theorems/127bad42da56ef714551ed46beeb3dfe406c8edb0/theorem_expr.ipynb\"><img src=\"data:image/png;base64,iVBORw0KGgoAAAANSUhEUgAAALkAAAAWBAMAAABuySBUAAAAMFBMVEX///8AAAAAAAAAAAAAAAAA\n",
       "AAAAAAAAAAAAAAAAAAAAAAAAAAAAAAAAAAAAAAAAAAAv3aB7AAAAD3RSTlMAq1RmmUTNIjK7EInv\n",
       "3XZ/CtNrAAAACXBIWXMAAA7EAAAOxAGVKw4bAAAC6UlEQVRIx61VTWgTQRh9SXaT7G4bg6IQC7Jg\n",
       "j1aDVKWXtEX8AVFz8qBigyKCiKwKBbVqFW8WTA8qCsoG1IOKxB4KHixBL6JUc9CiYGCrFbFqKB5s\n",
       "8eQ3s7vZznaiFz94uzPfvn0z++abWaBpJDxI4k7evR+3mnNg4W/x0cPCSB203UYyQw3VCT39cPXX\n",
       "+FJgH7XTLLFSIhEtu5DEGttvaez1T6HHmur0l/JIZYFNrH9IInHXgySeNFpGlS5xO6yeNawicBg4\n",
       "z5wrSiQ2evi3eqxngXrMpI/qdAc2TIlExUPg583ahFQdL0QCVy8ALTZi5E5cZnvBRSPUo3aTueOA\n",
       "SCD1yAlasThJj9dqLyXqStmFXl9+aYQl+u35zuhTWZR89UcQCJo6/aONDU3ubAVuSNTZwAwKJp3t\n",
       "oZXfTG9GK+gmM7h36yEQNHXi9RsaKkaffgyJtES91XSxAd32EpYIXEo8Ay4oVWSo+ZMlVkEgkDOp\n",
       "dVQwNAFotpGXqLfkXQyymbKNQw7W3nPxZZS2Wxy8ok5pP10uiwRSR3EPZWZoBEe2qA11cBEyOqja\n",
       "i8zJPjs5R7dRRtkrEri6RsvMbCvk6FLfMkXngjqJSMgZqLO4xxLVYORh7j3zPPqb9TsgELg6TTnK\n",
       "MiNkUcrKxEnq4SJ7yKc4HPqVSAX8PKiLu2mYnwIGX9UuCASuvppWlX3NALFiuJWk5qkOfPUrOc0R\n",
       "nbtdUflmi5uCei/6sn5FboNA0NSy8a3HLWhEBllqlj9owwqPkqxy6Duc9rWu8Znd89VLYzstX/2t\n",
       "QEgduc7PSLQ2qiVZSbi8537mnYdgsz4WT4JRf68mqmGCG2f8xoBRUHCf5NQZP9XpQX6KGQX9qa+u\n",
       "ZOW0xhmofB6bxpCJ9q5gT1guJPGdvtqJMFcVRj/Z5N8WOnlN3dIa82D1qxel750zEc3xH8MDRr8m\n",
       "Vw9NTbUjzq6ge9aDZFa9XnmcXsxWsckP9IvYjUHNlfE/4w8SvsL05ipStwAAAABJRU5ErkJggg==\n",
       "\" style=\"display:inline;vertical-align:middle;\" /></a><br>"
      ],
      "text/plain": [
       "<IPython.core.display.HTML object>"
      ]
     },
     "metadata": {},
     "output_type": "display_data"
    }
   ],
   "source": [
    "in_singleton_is_bool = Forall((x, y), InSet(InSet(x, Set(y)), Boolean))"
   ]
  },
  {
   "cell_type": "code",
   "execution_count": 15,
   "metadata": {},
   "outputs": [
    {
     "data": {
      "text/html": [
       "<strong id=\"not_in_singleton_is_bool\"><a class=\"ProveItLink\" href=\"proofs/not_in_singleton_is_bool/thm_proof.ipynb\">not_in_singleton_is_bool</a> (conjecture without proof):<br></strong> <a class=\"ProveItLink\" href=\"../__pv_it/theorems/0d736af6fd271a93181c6cda5b25a1ac1d2dc66a0/theorem_expr.ipynb\"><img src=\"data:image/png;base64,iVBORw0KGgoAAAANSUhEUgAAALkAAAAWCAMAAACrOc1VAAAARVBMVEX///8AAAAAAAAAAAAAAAAA\n",
       "AAAAAAAAAAAAAAAAAAAAAAAAAAAAAAAAAAAAAAAAAAAAAAAAAAAAAAAAAAAAAAAAAAAAAAAeYafp\n",
       "AAAAFnRSTlMAq1RmmUTNIjK7EInv3Xbp8+P355HBoPSVsQAAAAlwSFlzAAAOxAAADsQBlSsOGwAA\n",
       "AvlJREFUSMfNVleS5SAMJAcB2uz7H3UBg03yPLxfq5oavbLbolEm5F9ED/prVBGQsn/NNNmy88nw\n",
       "C0HW6wdR0H2kJPTvDbXlicQPBwZv1aF8oPKG0+s145vEmev1gxjafXTADLEVgp/OtomuVnBSz3Bx\n",
       "hVBtBgFUr59EdMnhwgJyP1TwkXlk63T8UeGXZ7TddLngvX6SQF4w52KHOWclRzK83taxTeZ+0Ku8\n",
       "tCF8+65eMCceJgshqJm5uuG8uE7tZrnq9SxSYbRLzRufE8UnC7PPqeaugft0u+DdbrK4XgMiBePu\n",
       "kOkcxbEKCknAnGRAR+auqWc9Z32qUMBAXQsX2TkWNplX51QdMw4pEhH6SudDoxPnTRxhKcv4cebE\n",
       "nXG8uemiV0TmQfkjCGjgmtZ/WxJYp7lOPIDQK9pq1Sy0z+8NO69Iz3agjytSrCkb9VShyGWxe8KT\n",
       "u53cZe5lp83tz9LGc/b9+BnC3aw0VSc6nuRTMHyJCFBVuJtjsJDEDsyTcg2c4X59TsxJw+MkYxed\n",
       "yohrXKaJZI5Svk5VK9IPFlY+T93ctnB1ZSWi0PGvzmTaDdlltmQy8QOAro+Hp3GZ41PzuxmsLDxN\n",
       "goG5auGOlexBnTKwBBCQRMNmbNsWWw1WEupz6V2tOL6Q4qkB5hvUa7imQhtHIz4zZ9jCtS+WeCZU\n",
       "IqkhXQzH0NX2dWp2GBDxfNlkR7z50Mwb5oKmIPGpn4u2Kyu2YB4BDp3o4c1BR9ORUvek4/1NaDWI\n",
       "6CAmeHsUUPsLnpgDdSjqIQ3zIHsL3WKJylt774ojvNR1s/6m137yXjC9XsjvP7ab3cMMdWp6qIfc\n",
       "lm6y0DXZAa59NhoDAq5wk8f0VV2OvliSFptfIZnsg2cTc8HJG5ngAqXDtDKYbDxmgV1NBd3r2SOL\n",
       "tlbaScAzCbvB+mJR3YBH5hCZ2YUvar+Fp+9Xa2cZl4zjvbeD5+SDEx523i/gqUBiccplpmns9SjL\n",
       "TUIL2l9Iu+sBviP+JTw5Q3J05L+Vv6WyGO99NeIvAAAAAElFTkSuQmCC\n",
       "\" style=\"display:inline;vertical-align:middle;\" /></a><br>"
      ],
      "text/plain": [
       "<IPython.core.display.HTML object>"
      ]
     },
     "metadata": {},
     "output_type": "display_data"
    }
   ],
   "source": [
    "not_in_singleton_is_bool = Forall((x, y), InSet(NotInSet(x, Set(y)), Boolean))"
   ]
  },
  {
   "cell_type": "code",
   "execution_count": 16,
   "metadata": {},
   "outputs": [
    {
     "data": {
      "text/html": [
       "<strong id=\"in_enum_set_is_bool\"><a class=\"ProveItLink\" href=\"proofs/in_enum_set_is_bool/thm_proof.ipynb\">in_enum_set_is_bool</a> (conjecture without proof):<br></strong> <a class=\"ProveItLink\" href=\"../__pv_it/theorems/ecd7cc2415231f008a632213eece225a316fbd4b0/theorem_expr.ipynb\"><img src=\"data:image/png;base64,iVBORw0KGgoAAAANSUhEUgAAAawAAAAWBAMAAABuwLU4AAAAMFBMVEX///8AAAAAAAAAAAAAAAAA\n",
       "AAAAAAAAAAAAAAAAAAAAAAAAAAAAAAAAAAAAAAAAAAAv3aB7AAAAD3RSTlMAq1RmmUTNIjK7EInv\n",
       "3XZ/CtNrAAAACXBIWXMAAA7EAAAOxAGVKw4bAAAFKklEQVRYw82Yf2gbZRjHv0nuksvlxwLiZBuU\n",
       "yCYWt9YwuulUZqROh1KJFPqHnfVQhlgGi/8InXPNZH8Ili4qUTpQb/MXWunSzimKlrAic4rawSZF\n",
       "iFxtnXRbS0G0Uhj1/XE/k7vELRN84Ll7n/d578l93nve594LUEPi5RwakZCuLvJepoGwt9Jj1vs3\n",
       "56dqXh/JNESFX3V1mbDdagNxDx4hh56Kzvkze/eczUDUSPskErRrvRdWLW9d8Re5usjtakPz9Qqd\n",
       "mVRFZ74n1HsjMMOwdtCep72wannryvu6ushXjaUBu7y3EqsTn4WBoEqxDtJ8zHth1fLWlXZd/yOs\n",
       "tmqszT4gkKZYFC6S9MKq5a0rJV0tmSuXleuGFVWdQSlWkJy/pVgBkqJBz5JRy1t3aSlcLem6eD2f\n",
       "VjDlDEqwbrqbnJ+iWPi+XP7OuxLW8NYTochVXlj78hirvb2O+xpph5wwe5yWi9gHMKxIwhk03zNy\n",
       "lhaoUYa1EzjijVXDW0/obFIVMK11sA7rVfMA0eImBBbNHqflIvYBl+khoDiD5h/fc+Uhct7KsJ5F\n",
       "yD5LoXMncU/CxKrwXo3EklzvwL3qDewOrB+ZAKRkB3x5eSvv4dbw6FqvaHyAbvTT5e4vOYOSJJzp\n",
       "IuttE8MKq9Zbd3BNATdHVEE1sezeq5RohmuOPRsiA2Ui9M5Cq0m3jB8Q1QbnuY9baXR4ReMDDGM1\n",
       "4ZIWHUEpVlgkWXiYYfk1E1jYSV++WjpiJaHNe61YIDfE5EPTdYgmtriMwzm06F3M+hP9nts1Ply/\n",
       "sd20o+QMSrFAAHcxLCjbSZ62D87yFzSabzlgw2JeLDw4S1JYnIbP+A2raUlPAgmXJIS4hI9Yh3Ob\n",
       "ICh0jRhYzLqrBhYb0HbnQtrYpPgnnUEZlsIiUqwxUkve2ZWKZmX2LJsjx7ptWNQbz64JkvsbWaUO\n",
       "GGXJalppoi1L9tdUWGMqF3wlsC1UXHNUwnCC0lEs1bSoQ65GMgbIWyZwmrS/ZCUj7wxKsfzE2sax\n",
       "9pMp3ncBq1SRvQiakZ6zYVFvAG9JxNzXgjn0sXVHm2LrDufe+dhk3L4hoQWYqP/vd0sif6M/6cAS\n",
       "EuIfDEv+y7Skn4Hjit5lNswBoREFy0aBF4rOoPlujH9Czg9zLB997k0kJQPPDA29SrCGgzYs5sUS\n",
       "s9ehSWpRjWYUx51z6iv6NHvtmmQqP6Jt2Mx7jhZUG5a8bnaJP62yalh00mIEDedofqX1hjXAp7EV\n",
       "xbBiGUfQC2fepjt44DzHYvIN7pekIn9aYmvlh4lUYp9N58mwGA9CmiFU5GEsE821dW407SldLel+\n",
       "07F5ivCVAL+qW6F0iKzh26o3LMaAaE5I5/TLX6gMqifNpIUVWsRUM3/xbgGmK7D2RxQBw+QexUWG\n",
       "pTdRgFwkhnGI5Z5Aa95aw20u+1Hb0/oUHyc5VsSw+l46RMJXf8uYA/oRe9HA8thFCykLS0zgUgp9\n",
       "5Arpp6xZ5Aws4bfxixhIYsM2hWHpTSEH6RQGstJpejgFf/vrJGefs2pGlquL0G3CLyST8fzecVKA\n",
       "DOvHlRVaeqo3TsaARxE/oW9SvD4s+mBLQl7LPh8qeH8dJ+VsOMWTkDe/iJP0sBIFH+A1Um9nHjPD\n",
       "5bm6CN0mrJ81wlMOy4pXD3cOgDwBzwnDG1VYVc/e/l+GqPq0LkiXx4xmcOUKYDKQVpOo4Cg2Wl+t\n",
       "B3R1+cfhvmv92qEXj9KLf/f4/4XQzn/974MFIG4vVjUthhQ6L+H/Iv8AQ6KVQSbrjyUAAAAASUVO\n",
       "RK5CYII=\n",
       "\" style=\"display:inline;vertical-align:middle;\" /></a><br>"
      ],
      "text/plain": [
       "<IPython.core.display.HTML object>"
      ]
     },
     "metadata": {},
     "output_type": "display_data"
    }
   ],
   "source": [
    "in_enum_set_is_bool = Forall(\n",
    "        n,\n",
    "        Forall((x, y_1_to_n), \n",
    "               InSet(InSet(x, Set(y_1_to_n)), Boolean)),\n",
    "        domain=Natural)"
   ]
  },
  {
   "cell_type": "code",
   "execution_count": 17,
   "metadata": {},
   "outputs": [
    {
     "data": {
      "text/html": [
       "<strong id=\"not_in_enum_set_is_bool\"><a class=\"ProveItLink\" href=\"proofs/not_in_enum_set_is_bool/thm_proof.ipynb\">not_in_enum_set_is_bool</a> (conjecture without proof):<br></strong> <a class=\"ProveItLink\" href=\"../__pv_it/theorems/147b76d4c6260811f89e62744cbfef8b96528a830/theorem_expr.ipynb\"><img src=\"data:image/png;base64,iVBORw0KGgoAAAANSUhEUgAAAawAAAAWCAMAAACrMFg5AAAAP1BMVEX///8AAAAAAAAAAAAAAAAA\n",
       "AAAAAAAAAAAAAAAAAAAAAAAAAAAAAAAAAAAAAAAAAAAAAAAAAAAAAAAAAAAAAADFBd4eAAAAFHRS\n",
       "TlMAq1RmmUTNIjK7EInv3Xbp8+P3nXbhrUQAAAAJcEhZcwAADsQAAA7EAZUrDhsAAAVWSURBVGje\n",
       "7VnpkuMoDOa+YXdn/f7PugiDIzA4iVM9mR9LdYUukLCsTxcyIXdHitGQLw49zNdUdTgpvyQt0+Ql\n",
       "gVdv8Jm6vfwmVCSxfl4M5TomJd2X5DXU1kfL9MwLglWbCpHKjjwrnB5EjL8L1m3ezwfz/bxUUce0\n",
       "uS+al22ypGfKsoCQVm5Hq5FnhYvDQZR+F6zbvB8Pp/p5NUTn/j5+MxY8nq7cU7AyQF7nfxB5Vvhh\n",
       "e9q+HQZv8348BO/n1YjkTwSLi1fA4qyGrkoOeafB7Nn7Oesu78cjDPM09tv4199R/YFgkeBGSfNQ\n",
       "Z7AUJgeF82qc6kaBcZf344yl+nkypEqOUPNHehZRfJR04llUc4/JS0UXANYY/J1q8Cbvx1HQ97NL\n",
       "iTrjkYNrcPoxozV1uVTCp6OzbHix92I+XZyAwPJoT58zGBQYLkXqO/KicFHMz7o7YN3k/XQ0y2xz\n",
       "DuqJJiKQ7ULFw4ciWVTwPGEQP/k2e62LvRcVszghPWI2R1Y0qc0yWFGFLQqHyYvCNW0/80tZFCXi\n",
       "BToB6wnvT43Iuplr0E2Oeo/ooiZVlw77vmE7rDSXRY733of2nPeUvm+G+PT+8dvh+AzlWrUqMBKX\n",
       "9QV28v1iC44xueKaRK3Ny4wSnymEm12KF7w/XV/IbjbIa6rsEJ//+ZV/DpVpqipXFjmAz+Ufk1Kf\n",
       "x9Ae1GDi/SyHThh3qKpwma2XtAw7gAWTR+S7mlma4SuEaRfeIrifdjDmvL8ZLHLSjbPnGtWII1xL\n",
       "uB2bDV6QjXAce5sEb7jR40Gn9xpr1kJk6CWdehbcsiwirz6hWnTngmdbE/01mxkmdVqA9eAlmVHn\n",
       "v9ZTgdg4xsf56ux9rwmHMFgUlB/sXHfBisseQnHDPYecwDr2uLsJ1uOEhzr7/gl+aLwCSyHyqnDP\n",
       "9uDouISwHnQHODM5DDK5AKvxkqQhTFdHd4lk0UwY66TZ6rSguia0Cc8uB2saSOf8KREplsVzQW2H\n",
       "runNkfPeweFejH/9CUid5SxUYNhO0iVYLCHyqnBdiwftEkAJFiA5BiuHwWTnYDVewovuqiFqB0oA\n",
       "Ho1KxWNVsiSuEt2DfVFwUTyzzTiRNSFx2FOMmiVYgoIvcgSW29R5j5jous2LfyYnIHUOpbvwnaQT\n",
       "sDKBT15g8lYaHO+V6989QnJly2A7WM6fMtOJN4uFqlC4JOTTDIvYLOtqgHe7NNNKuKq4Ip6dyNbJ\n",
       "BGd9Nv916rAf6nLUJ7FL2zwrNjnR3mFox2Zs3nr+Z3bCoc4BrCg7SW0naVLB2kfX/SA/1XEBvEhk\n",
       "/zC+8yzwhQVYuARDH2vgAXAa6cCqq5o8C4aVkAvJZ4319m3n4hsP/9fbrokzdDC86tMHc+Oezjho\n",
       "fdpc91VOJxzq7J+uhzwlT5IOl6epwvVWFADwPKIX3xv19BosHYqAonjhrkZZnKeCNawSuBTsi7Of\n",
       "RsggFE5ScGuFXrREJ63tpi4Q1AXWg+XHPW2NMfXC8lKL5nzCQ50dWOK9D0qVfARLAiLJ813UFmr2\n",
       "O/YTsIhI0ifocpkiaA5LViGwhtX9XlAWTdD9DybMQVbPTM7qfj6b4yThtR5CTHuczVRebT7VmmbY\n",
       "CxsMgjefVUXDCUid+Cb45jeKRn51nXUecpa8bjct4kHmzkq0nOAwiFfzLTu1xUv2WG7yZydp1apb\n",
       "vfjsQ0DrIeSb46m+aXDM9sgrWF2fAM7GyRMDW5S++jlYz5vIq4QBus2pVarSBglVbXhVZZONbfGK\n",
       "HbqhzM+ihk79fKpQpkYq6O/+mNOe7I8np/ewquQphh9pFIFuJU/+hVX+Mvv/g5D/AHJMMk1Gr2MU\n",
       "AAAAAElFTkSuQmCC\n",
       "\" style=\"display:inline;vertical-align:middle;\" /></a><br>"
      ],
      "text/plain": [
       "<IPython.core.display.HTML object>"
      ]
     },
     "metadata": {},
     "output_type": "display_data"
    }
   ],
   "source": [
    "not_in_enum_set_is_bool = Forall(\n",
    "        n,\n",
    "        Forall((x, y_1_to_n), \n",
    "               InSet(NotInSet(x, Set(y_1_to_n)), Boolean)),\n",
    "        domain=Natural)"
   ]
  },
  {
   "cell_type": "code",
   "execution_count": 18,
   "metadata": {},
   "outputs": [
    {
     "data": {
      "text/html": [
       "<strong id=\"in_singleton_eval_true\"><a class=\"ProveItLink\" href=\"proofs/in_singleton_eval_true/thm_proof.ipynb\">in_singleton_eval_true</a> (conjecture with conjecture-based proof):<br></strong> <a class=\"ProveItLink\" href=\"../__pv_it/theorems/debeaaf4fec351f6eaa82d6d674489228e92327d0/theorem_expr.ipynb\"><img src=\"data:image/png;base64,iVBORw0KGgoAAAANSUhEUgAAAO8AAAAXBAMAAAARnwX+AAAAMFBMVEX///8AAAAAAAAAAAAAAAAA\n",
       "AAAAAAAAAAAAAAAAAAAAAAAAAAAAAAAAAAAAAAAAAAAv3aB7AAAAD3RSTlMAq1RmmUTNIjK7EInv\n",
       "3XZ/CtNrAAAACXBIWXMAAA7EAAAOxAGVKw4bAAAC2ElEQVRIx7VWTWgTQRR+2Z9ksxtj8SAEpSwo\n",
       "XkS7By9eYkrxDxWDggcPdlFE8CCrBw9asYonqdCeRMGyAQWLUqqHgoglKIIgShQUPQS2UBFFSvFS\n",
       "6ck3P/uTzUx0D33wzb6dbzLfzHtvZgOQ3TwOgT2os+eFHmN6Mr2sbDOIqNM+c4wKOiekUxCmjzib\n",
       "sghv5RDYgB96RZy37KT5Q21iHyizm3ScyaBrugwiexF5Vgubs4Ih22mLzDV8FMYzCGsOw38I75AK\n",
       "I5PH6Fh2BuESRyKz99qfhcIlXyaMjIqLz2dJ8RaOyPRzvmTHeUcmTJh37fbbLMIHOKbnHz6nkbro\n",
       "J0NtLjjQ4MJWn0yYMPsA7nbRNbnwKY5auV9rpSpzD06pNGEXhr+Jr6qbLOWkMGHOQ6F7YT2q7SOD\n",
       "6qkrORrKuMILrwCu42oq6P7Gd6Up2zFhir5VzyL8msEAjSkamKv2V6q7HifySwG8x5fGSaSWZMKE\n",
       "UQJBbf1bGCszYOc6HnuD5GzYN/7gYxYXoUt3TBm3is3i3gW8QPV5yCWEWScdGBJRqFHBM2lZteJZ\n",
       "J2ieSX6VFRLQlizHlHmK10jZq+SxRKfX+mOxMO3cfwfNiQiASYap+kaw2PI6L5AJel1atLjGZTum\n",
       "zAiOU2HSQPfSNvgRC/NOSBIATxgGbh6EI+xM2h3CgzDs8OOkzciEKZMbJe4y7dgA/ckcL0fjQwLg\n",
       "FsP9RWWIKZqV40nhxtxhjwuv6a5aOErbmDGaBfL4BG8SwqSThToi8DejDImr61nnlTkb3lxXpBUa\n",
       "MSOWq8EjgC/6UixMO7mFBCagxiD5SFiu+TIUHpIKR4z2be4njNmweacbC9NObiGBdptDYL8wGEGO\n",
       "5I8ccvlHL83Ypld0hOc4ItCmOAR21QalSr/wj3F4UfoPJ8Xofi44Jr5AIoIsN2AQ7WSQV/jlddh8\n",
       "l0Y6xaigV2fEwhGx2uatusJfwJjQVQf3s0EAAAAASUVORK5CYII=\n",
       "\" style=\"display:inline;vertical-align:middle;\" /></a><br>"
      ],
      "text/plain": [
       "<IPython.core.display.HTML object>"
      ]
     },
     "metadata": {},
     "output_type": "display_data"
    }
   ],
   "source": [
    "in_singleton_eval_true = Forall(\n",
    "    (x, y),\n",
    "    Equals(InSet(x, Set(y)), TRUE),\n",
    "    conditions=[Equals(x, y)])"
   ]
  },
  {
   "cell_type": "code",
   "execution_count": 19,
   "metadata": {},
   "outputs": [
    {
     "data": {
      "text/html": [
       "<strong id=\"in_singleton_eval_false\"><a class=\"ProveItLink\" href=\"proofs/in_singleton_eval_false/thm_proof.ipynb\">in_singleton_eval_false</a> (conjecture with conjecture-based proof):<br></strong> <a class=\"ProveItLink\" href=\"../__pv_it/theorems/4dd60f78f358e554c65711e01f97d308ed4b9ac10/theorem_expr.ipynb\"><img src=\"data:image/png;base64,iVBORw0KGgoAAAANSUhEUgAAAO8AAAAXCAMAAADUb+j/AAAAOVBMVEX///8AAAAAAAAAAAAAAAAA\n",
       "AAAAAAAAAAAAAAAAAAAAAAAAAAAAAAAAAAAAAAAAAAAAAAAAAAAAAAACXHtMAAAAEnRSTlMAq1Rm\n",
       "mUTNIjK7EInv3Xbt5cmRiLwgAAAACXBIWXMAAA7EAAAOxAGVKw4bAAAC9UlEQVRYw9VYi5KdIAzl\n",
       "/QhIW///Y8tTQFHRqe2U2d3McjmYQ05iuAj9lSF3dm4A5/0u5N0+7zEvhyO9nUQJDv2MwjrNcPfc\n",
       "iYTB2/+EfkWXmN5OolY4Tursr5t1lteFEcM2yYivAg6it5PDLFeTAiZPrVFCwKgSYKm/Ci+jvf0j\n",
       "fCl7zjdiykEZ8hVfu7PDXNWLH2KeL7LwmG/E0Hzq4rPsFb0dJZlw8DC+SNDnfCPGhpNdrPlMzqa3\n",
       "4BwGZRo9yWEyZmrgYh4A3vE1+DnfiGEqFr4JeVymzCm+BKJYv4vDDrEavnGlZEkPBpGQCHRNut+S\n",
       "gla5sKUZ+IJvxEhc/tyNq4pm+NknC+kslcF5QLjqcSh0aeMCRdLJ4PRwuRZZEPs8vgkTQnvu7hzf\n",
       "i/OyvLOqhq50EbbERjf7CV5kY4PLNvsNWCTGan3ON2HC1FS1uuCL5Sxf1DifKYz2VaxkGA99h1pV\n",
       "1lE+B8RfxDdjBKJ51jkm/U9pwHDXgHV8u5WImzFioOfIwOOgJvwyPl3c5HHJ29p0keV5/maMIblA\n",
       "OhnyJAsGHPKbKzvku61kOowf/pcOEBHlWguaI2xjHWrO7qrfiLwLeVPrlX4e34yRNu9Go1dZORLC\n",
       "cTg95NutLN3sEdG+OJIlqwLmneZteyPIBV+GgyLo/v3LzHO+BYPVNrU2iYj9x9id5W9dWRNwj4iZ\n",
       "uLQWmI8mYbRjCFhzOOML2DhWHlb5LncVNqnc2kblR0wQo2y3tOqEb14Z9Pzzl456PiLSNqq3ww7L\n",
       "6Kt+0oj9pFxe3ICX/SsvbuwbAjDZQb4O63NdiZorxxHRtfazLX5PLTwHLNnzZS9urwcMc9y40Mqq\n",
       "+AAvOy3G76NtZd+a7REZJ3s7ed1PpWlxKU26puvVbe4S4/mCd0/T2/dvUxEOiD6/4ZGTuZUi1NU7\n",
       "Olj65ujuMaF8+MLDxX2/0Sw5IIrrrreThBnu67Y0ZcK9oHuJofGrEGfu+yvC2y9P3GfXrH8w5P9P\n",
       "4TcofhmoQMpMLAAAAABJRU5ErkJggg==\n",
       "\" style=\"display:inline;vertical-align:middle;\" /></a><br>"
      ],
      "text/plain": [
       "<IPython.core.display.HTML object>"
      ]
     },
     "metadata": {},
     "output_type": "display_data"
    }
   ],
   "source": [
    "in_singleton_eval_false = Forall(\n",
    "    (x, y),\n",
    "    Equals(InSet(x, Set(y)), FALSE),\n",
    "    conditions=[NotEquals(x, y)])"
   ]
  },
  {
   "cell_type": "markdown",
   "metadata": {},
   "source": [
    "## Theorems related to permutations of enumerated sets\n",
    "For example, the set {1, 2, 3} should be equivalent to the set {3, 2, 1}.<br>\n",
    "Here we adopt some of the terminology used in analogous theorems for disjunctions and conjunctions.<br>\n",
    "These theorems are generally not expected to be used directly but instead are intended to be implemented via Set methods such as permutation_simple() and permutation_general()."
   ]
  },
  {
   "cell_type": "markdown",
   "metadata": {},
   "source": [
    "For these permutation thms, we can use equals (=) instead of equivalence, because permutations of an enumerated Set are all actually the same set (even if expressed so they look like multisets). Thus {a, b} = {b, a}, of course, but we also have {a, b} = {a, b, a, b}."
   ]
  },
  {
   "cell_type": "code",
   "execution_count": 20,
   "metadata": {},
   "outputs": [
    {
     "data": {
      "text/html": [
       "<strong id=\"binary_permutation\"><a class=\"ProveItLink\" href=\"proofs/binary_permutation/thm_proof.ipynb\">binary_permutation</a> (conjecture without proof):<br></strong> <a class=\"ProveItLink\" href=\"../__pv_it/theorems/3e7513533f487a83702225f6bf6430d042fd71150/theorem_expr.ipynb\"><img src=\"data:image/png;base64,iVBORw0KGgoAAAANSUhEUgAAALkAAAAWBAMAAABuySBUAAAAMFBMVEX///8AAAAAAAAAAAAAAAAA\n",
       "AAAAAAAAAAAAAAAAAAAAAAAAAAAAAAAAAAAAAAAAAAAv3aB7AAAAD3RSTlMAq1RmmUTNIjK7EInv\n",
       "3XZ/CtNrAAAACXBIWXMAAA7EAAAOxAGVKw4bAAACwklEQVRIx61VTWgTQRR+3Wyy2Z9sikJAAmVB\n",
       "UFDQHLzooUaCIgha8Cq2/hSxp63XKkbwqNiCIIjIevBQKmyqoh4UhCAIUikiCJVAeqqHIsWDlQji\n",
       "e/Ozye7sFg8O7DD75XvfzL73vQlA1vDxeTyWAI3daVSFdsUXAlnD9fCZDJLwjfspVIVW3IHIWVwM\n",
       "09tONWQvPvtjUfNLNM+pVKRZD5ZjkImybg3gKL1cUiKsCZzexLGLoGISKtRjkE2bTeGnUjZnlQi9\n",
       "pir92EK97KnqB3BT/HrbUyIcVSnf20J9PFDVnQByeMiCGrFLVWIRWeoJmHELKL3U6XxQI07IMKO6\n",
       "1uVQYWTVy1Q/932b8CzjM3UbS3scIMVlF2g6hs8Z3+xxKJyyNgHWeVk6bDDDEc36GYTc35zvvsVl\n",
       "Dp0xDcZw5NPLcvWJjtHGsDboy5HxPgJcV2pENK0HDvtEwTfIARpuYQZ2v9WqcvEOGRXE9Q0otUAe\n",
       "8TeGVxLynDYBZUaT/Efn8awbuEN3oKjvB9ThJmbMmYVQbP4V8ngiezJ5dqKh4jjbVfJf4JSn9EyM\n",
       "4rQw+pIy82c16GeG+jLswuHI7npP9m8s73PM7qfYD4KvUa00SulT7CnrS3GTbowVV/TcQ2GG0IOK\n",
       "5lv09gueoMVep3qm3MSEE4vzwWZVpSa9iifQ60V6N2tUZxqLIszsap91CAndDncz/T5UM+uMxfnc\n",
       "kToVYKiJ6Rpz6Sudpi78c1uEWSOvpr9BaYUK9byWqW5VG8BYnM/VS9ItoW8ewryVwRGOKDVjSnti\n",
       "rZPSTQkWU78WXSv+ndPBApSCgwLI1WNKrX9Sb8XVG9EN1dj3DG55xZNdidwD2ZfUIxHM+jcx1lUW\n",
       "+l+5eQf7ZB4G+tLt3/ttVV3S+izmLjP+15cfvEUNPIhxJNn2xqJ6WafQZuhKW4tjOfjf4y/COMe3\n",
       "1BEgXgAAAABJRU5ErkJggg==\n",
       "\" style=\"display:inline;vertical-align:middle;\" /></a><br>"
      ],
      "text/plain": [
       "<IPython.core.display.HTML object>"
      ]
     },
     "metadata": {},
     "output_type": "display_data"
    }
   ],
   "source": [
    "binary_permutation = Forall((a, b), Equals(Set(a, b), Set(b, a)))"
   ]
  },
  {
   "cell_type": "code",
   "execution_count": 21,
   "metadata": {},
   "outputs": [
    {
     "data": {
      "text/html": [
       "<strong id=\"leftward_permutation\"><a class=\"ProveItLink\" href=\"proofs/leftward_permutation/thm_proof.ipynb\">leftward_permutation</a> (conjecture without proof):<br></strong> <a class=\"ProveItLink\" href=\"../__pv_it/theorems/3851743ea7d307461d3cae4ab2bc97872bd828b60/theorem_expr.ipynb\"><img src=\"data:image/png;base64,iVBORw0KGgoAAAANSUhEUgAABLYAAAAZBAMAAADeTbqOAAAAMFBMVEX///8AAAAAAAAAAAAAAAAA\n",
       "AAAAAAAAAAAAAAAAAAAAAAAAAAAAAAAAAAAAAAAAAAAv3aB7AAAAD3RSTlMAq1RmmUTNIjK7EInv\n",
       "3XZ/CtNrAAAACXBIWXMAAA7EAAAOxAGVKw4bAAAJ/0lEQVRo3u1bDWwcxRV+vjt77/bsswEpUhvV\n",
       "uv4AUirTE0ERidT00pQ0SVU4QatWqMC1xEKN2nKJIiF+gg8atUg12KitWkdVumlFIRh8B0EUpXXq\n",
       "kqK0QlALIRUZuTpHEYEkWJZbwDIq7rw3O7Mz+3+K7eAoI93mzbw3b7/35tuZ2VkHIF751GQFLpaL\n",
       "JXbJTb4W17T8ccNusJ/5zRWdfuNKv9bHSis6qN04B9E8tHbFcusE+71188p+th/Y7/O891orOqb0\n",
       "Jxj+Wzm3uvCfz8bgVkzDZSqJOvvNn6uXQ68oFfM346HGwfqf/C2sGmL/qFf3hUWjlo5XCzUqFciR\n",
       "HxRDqj6cEgYZRpRcgbh1HdbviMGtmIbLVP7Aftnxc3azQ620RaQvWD8bWg22H/WqRhcvRzreHc2k\n",
       "gpXOfFjVW4QBjcpO4tYDuPAPxuBWTMNlKpsXh1uzzaQvUN86H1YNsV9abul4Z5tJBSu3WWFVbxEG\n",
       "NCrXELfaWFM2H4NbMQ2XqYwtCrd0FkSlL1DvAhKJSxosLbc0vFGE9+hHm8Q1qgbXbiG3kmxpbIuz\n",
       "l49puEzbrfKicEv3MBoze1GLZdTa6hgsLbdGmyG8R78jfMkMXFPJUVuB3hNfmZx8OdZ7YjzD5Smp\n",
       "uojCWH2qoSh2Hb0/vKdm0NY9pczE352+NLSrrs9OXys8DuS1GwzkIxBIgwBuuWJyVX0OMzQDCUzD\n",
       "q4fqw3dNb6x+exYCq34IpAGNSraLuLUVYH8sbsUzXJ6CzwWkcPL6TiWjzOatx+G3oSubblDbaX7g\n",
       "vFe9b9XCDoh1vfEabPO7ZVMIzvIHZZIKvYjDFk9M7qq3aAYSmI5XC9Wn6PpzQJDD7UqyTNzaBQaL\n",
       "yuQoqiHc4oYfj9KBz9h9jGDmMUgps/lTBfh6aEduYEeLL/yvOuvsPLSHzQ+23k5RR93uyjxu0W+w\n",
       "JQqBNOjzTCXGMU9MrqoP6bnB4y5gejxaqOB79sH0acdjWb9BOQqBMDBwAkuMEbcyVrbEJjGO4g32\n",
       "+6IAtPdrpeRfHW5xw/iHaN93znN8Xi+9bdk5P9Epf1GI386Q7OrFZ34Gk2mus9tvAHgTzD9dEjhz\n",
       "kIGIFgf5Q/i9nRWWnc768DOfDFyHUc9ThI4szaNwEhcBT7K5ykUuY1XJExOvhgEjAzjqAkZ4pRcM\n",
       "NQwWpQI6qorHZhEk/02Vg99jgz9D3Eo0XDt0HDdITw2VEl1HYLvDLY9hRFktpZa6V+ttM2b8RKf0\n",
       "uTCmt7FEtQ9CrQSPvGu3/wPM9yAV8pyTgSxvQutsenpcPvC35YvB8x7pFUeqR+kkLgJKMmR73dp9\n",
       "+z0x8WoIMG7gAUZ4pRcMNQwW6l0em0bwElWeZ1Irn7egvNFnDL/CCJzYmIK6wy2PYUT5u3Nrn6XW\n",
       "25Yb9BOd8o57TcQT4FoDvsTEHntu/giSM9BZMuaCJm8yUM50UvOQGJfHQTdY70FfNfi4SM4J6Ejz\n",
       "KJzERdAnFiL3futRd0x2NQSYbe8CZuPtUUINgcVT4fLYJAI+I9DXEkwHcuvZnYxnU4TrJA7ZeuMM\n",
       "P7RPPPithsotNIThjX8UHhXRKbIx/dGUGImBae9sqrQdRc6ah98Sa7Eiqn5/pNQyDfuNpJaHVYkK\n",
       "ZYHdzZyFlvKVSYul0PRCkwYYLenncPeDecBaZ5VtGzZgAr0Lh9RTilD/H5Y0xyPnVnwElGSAP/u+\n",
       "JyoxoQ9eDQHGDW7t0oFxvCIzFGoILJ6KkS+rHmXfmAiSg/czumRpLz/IuXUfAzXSiZ1SdGzUvfup\n",
       "yiFiYPXI5Sq30ND8V1q8TiiicifZmJvIiWOcd62THkOnraPUz65PVwbEU6GIqt85SMnpDN9xiVuZ\n",
       "RuL1FGXQfJ81HYCeYpE0NUSMF2qXAhlgtKS/DH7BnzGstRQyRRpc2UPvT3pMEbWwd7EXlFsSQb0I\n",
       "fFxxA0xy0BmEExP1sqvBwMjAbMy7gPF4RGYo1JDEkL54hXZL0dcHgQ6FG7ScWnPcPoPAMyLkVgsb\n",
       "yHto+nsyi8l9NZ+Gmzi3UnJxKtuGqWJ6DAw6iyDxxpP6/p4aAXtlCskyN4Sfw7rWq67Tc8jagO/m\n",
       "tsETuAjDAMDd9Fig6LZnfmcgIQ8l0+M2t8zuF3a9zcdhknU+eOan3QzlwxZ0TCBtscPrQpAGGC3p\n",
       "Dz5X4NzCmrkaPySlJ7gh9XD6Cz2lCPXZwxst5ZY0b/kgkDfXEVCSg7ilxET35dUQYGhg/G7cBYzH\n",
       "IzODoYYlhulN6zntlqKvHwInMGnffgJfoolbHSXlb2wOyGMj479bAdYNDQ3lE1WzXla4xTfRuS54\n",
       "cEKKY+aM60Ug1yU2VKkubsh2XpvaoebejW2ypZfs6zuQ7rGE6LZnfgchVZD1N/SjZMxCQs7XROk1\n",
       "3kMES41W6okWsob0Tnhn/jXqyZrUO4bkJD4CSnLEuXyPdt9IYLhN8AGmZSYyMbdrej2rkQj6cJPO\n",
       "R2UvONwy52kV6qzgUnmLAT/j8xbc2HBxq1bJbLBgQooVnKbUXR02fh57dUJ7nhvCDLxoQL+OiLXB\n",
       "WpqHaA01P4ADT0KHJUS3PfN72mq7a1rUr/FyKytre+AuAO+7qTSgaOsaLUTNKBoVxZMs0hpTlPV4\n",
       "5E7iI6Akx+GW9BEJrPaELzAtM1GwaCzqAVmNRLC+dbxij8pmhVuJctFkNv0wDC2Nh7OQwUFOlkBM\n",
       "Qs68VRm4ibg1bIuZEhNZX/tCjZ8pMqnDWg9oyJoncGv3S8WKtxn3lFHqhSy7Hk/PbUBuCZHZu/z+\n",
       "2OrcfUg+pRX7BNjJwohMwq8f2g6m93VgxPkaWVT0tFUStbsf2mc5hs52T1r3q45GdG7FR0BJBr9T\n",
       "1rNaTI6PSGBXpHyBqZmJhIUThaLXshqNoDs9XudfS+jvZeS81V1JvwgwBf35TKXlWoYCF+c7ANzc\n",
       "at181WGiTH+ei1tRTB+H/gpeeGOmim3XN8iQ+d3HpptUFSVuVbHbknVs27P2NLt+4+ozBeSWEFNV\n",
       "r98B53XTHLRPgKnce+dRABlj+8LCDOS8wyYNWLSO3nj+w4ZT++fCgmLoHIpIaUp11NCcNIGAkozH\n",
       "2d5TvLwak+MjEtjBU37AtMxEwsKpxNHrWY1G8Cu4rErfHejJ1/6mOUHLrR3a8NBQyfXNRym41HHD\n",
       "rNWQfWTj0wkhTXC/rBzJCQlkW0tJSLYG10RbRHu33zN7H5ct+MV5z6XL/7Xp9sVzZTzj8/XY2JQ/\n",
       "z59pz63ci2NyClzcurnt22PQagV+T3TKIy/nheGdC+NKH1vKnLYlNAT6o/a2hf/ZEr8Xp5KU+DV9\n",
       "9lkhor3H71ezV5/n75iYogu39PYvpjeVW4XUSQuSEINbtBv1E/0kKARJJz4n2wp+5r7ezm/BFF24\n",
       "5frtS8Wt0PLDJfj/iZ8uwsVyoZbc5LH/A7i6HlTb1vcxAAAAAElFTkSuQmCC\n",
       "\" style=\"display:inline;vertical-align:middle;\" /></a><br>"
      ],
      "text/plain": [
       "<IPython.core.display.HTML object>"
      ]
     },
     "metadata": {},
     "output_type": "display_data"
    }
   ],
   "source": [
    "leftward_permutation = Forall(\n",
    "    (i, j, k),\n",
    "    Forall((a_1_to_i, b_1_to_j, c, d_1_to_k),\n",
    "           Equals(Set(a_1_to_i, b_1_to_j, c, d_1_to_k),\n",
    "                  Set(a_1_to_i, c, b_1_to_j, d_1_to_k))),\n",
    "    domain = Natural)"
   ]
  },
  {
   "cell_type": "code",
   "execution_count": 22,
   "metadata": {},
   "outputs": [
    {
     "data": {
      "text/html": [
       "<strong id=\"rightward_permutation\"><a class=\"ProveItLink\" href=\"proofs/rightward_permutation/thm_proof.ipynb\">rightward_permutation</a> (conjecture without proof):<br></strong> <a class=\"ProveItLink\" href=\"../__pv_it/theorems/6ae998c3f62ab3070ecde4a98a31c899b91c28e70/theorem_expr.ipynb\"><img src=\"data:image/png;base64,iVBORw0KGgoAAAANSUhEUgAABLcAAAAZBAMAAAAxj9GwAAAAMFBMVEX///8AAAAAAAAAAAAAAAAA\n",
       "AAAAAAAAAAAAAAAAAAAAAAAAAAAAAAAAAAAAAAAAAAAv3aB7AAAAD3RSTlMAq1RmmUTNIjK7EInv\n",
       "3XZ/CtNrAAAACXBIWXMAAA7EAAAOxAGVKw4bAAAJvklEQVRo3u1bfWwcxRV/vq+927PPpkiR2qjW\n",
       "9QukFFMLqohEqrk2QENQ6AmKqBCFUxMLFbXlEkVCAZIcFLVIdbCRWrXOH+mGqoVgsC8EURQaN5Si\n",
       "lCLotQIVuXV1TiIC+ZLlltoyKu68mdn52J3dWysXx44y0l3evP3N29+8+e3M7JwDEK18erwMF8vF\n",
       "Er2cHs9HhZYWG3eLfOzblnT6rctN3l8Xl3SnNpf54EC8e8mK6wj5vHfH0n64H97l9+V6nSXdp/Qn\n",
       "Cf9knYmrAz2fiyCuiMAFKrEq+cyebZS9bzYnod8rqNUf/bEBXgCe8F/70vnUlpoPvReeLobkIINC\n",
       "OcrEdT067okgrojABSq/IZ9s7azDbGwOm3Z9ezHVCO8CDvovHTyvad0Y2Iv2fMQc0FFJOVRcD+MS\n",
       "ORBBXBGBC1TWNEdcU81hc7c23SQbzagCsOjENRXYi7udiDmgoxIvUHGhxrL5COKKCFygcqgp4krO\n",
       "NoeNroiGvARgsYlLzYenFwej5oC1+zMVF+7pU1E29BGBC7TlKjVFXE2Y+wyra6rB9kQCFpu41Hx4\n",
       "erExag5YjA3sbfHN8fE3Ir0tRgMuTElU3W5Yy4/XlQubRrc3eP9X8anOCXencOYaBTR6tBI+CCra\n",
       "Wv7+lMagP3x+VwBB4tJ74emiMeT2IPZ6xwxFRct86L3wdNGUVQFg4trHxLUWYFckcUUDLkxJ4RlK\n",
       "AqevO8sZZS5PHoZfhm8ONPzIvfY0S87f4EaJ2ZZPhG4udfQ8GaiAU+yf9eNY/krtG/wx9Bs0COlh\n",
       "r1M1FA0t8jFfBgoghzsWWMnEtQks8vJoswP4Soi4GHBxlDZ8rB4i7O1XIaHM5c92w/rQhhz/lHjv\n",
       "f4vFq3KDln9Aa+hUwdBpGbGkMbghlIEK2OGb46xXfb3wdNEccr0YQp293jFDYeiKJx96LzxdNGfV\n",
       "BVh0CruCiSvjZItkMmN83iWfr7jUtt1UjL8ixcWA0Q9/vjvfBX/GZMrye0X5rYTJpl6cvSYxf/ZK\n",
       "7v8GZst++ZLAuYPhYRTcaeIj1g4b/IrnJ4EP4dC+TwUypWhoqygRozOgAJ5ke5lHXdayooAIOvQG\n",
       "oXwong8hZS/pEB6h+ZgV467lY34MGCD+L1rZ8x3y1c/EFat7tuk4cJCeGCzGOg7AOikuH7BBWT5P\n",
       "cVmTJlOWHR6O6RtJyloHYKQIj5/m/tfB/hASIU86w8vHNjnF25F4Z2oCA1AImQJf90eMzoACWJIh\n",
       "2+u9+uguF6LSITcI54MhQWGv0IFG+dCmMZGPeTHgWX2NVl7Ert3Jf/4p9RgG8TryWMZ6ElCV4vIB\n",
       "G5Q/zVNcuQGTKcsH3mURz4JH6nAtMbv49PwxxCehvWjNBN2E48WxDntySTt8Ba0JDMCHsCNoj8DQ\n",
       "nohRGTAAf1L4cby653pCQBQ61zbiE59U+Wh0oFE+wJiPeTFgADYlsN9Nuri4nr+XbOAmaMxjOGar\n",
       "rJOQwwuxR26vq+JCIAz1/NYNqZiyCGf64wlMXfaooD9qEKfw2fvfq/tNNe4PlFqmzt9LRvKwLFam\n",
       "ucQFYApaSpfHHUymfyVAD8Pf1cFqM7i5QOPfJAU0lzYOBul8cTWm0gZjEIoe/hpDBzIwN2YAmmSA\n",
       "3xnfFjnEpcNuEMAHPQyPQyjYu3Qo1aB8CDSOOw3t5iOYgTkKA8QHthO5ZOmGfhUX10Mk08Pt2CpB\n",
       "j486Nz9b3ks1WDnwBVVcCLT/np52o0pTuZVw5sZyeFLyTvqQO9sU+/xbY+F7rtxf8Ztq3BmQ7zXZ\n",
       "Di6uTD32doI+KPZ/iWs3dBUK9AqtjpTAY1C8XZ9ltUvhp8wgb1Qv0VwikNwmW6HD7G8v0YXLmDuQ\n",
       "gd5G1BgAkxx4FMEgLh1+AzMfNBgeh1Cy71KpmvMh0Tju1CPyEcTA0B8JaDm+4rB7FHETF1cLSeQD\n",
       "dBp9JotyeCufhluZuBJifSpxYKJAxGLRIwlq3nJM3+RTJ2CrTHeckrcrDE76+XTyyuv1VBIfsH3d\n",
       "dbgH3Oq4phdJ4k5CTJzrpWtcXHbnS5veZ6vAOGm85+SPOwnLnQ6rtmGDt4Eb6KF468kah7/QzYzs\n",
       "/h6H5rJtjABfvvoEucUYr4n2aAi07bzArgcyEI11BgyASQ4UF4O4dPgNzHyoh+JxCCX7LoVqUD4E\n",
       "GsedBXLzEcgAL/oZMEDrEXzrZOJ6R/2Tm93i+Mj6z1qAlYODg/lYxa6WFHGxnXSuAx4ZE+Yhe9Lz\n",
       "NpDj5xWtlUQH27gyOG73WmFET+VrivUBpLsc1/QiSdwBSMi/EHpXP0/GXMbElE3VHPPN4NKDq6qo\n",
       "SQPjrXAxVOgrIDjIBu26gUFIY5rkBif0Op0gPtKzW61pdALyIdE47iv8PTQwCIuyAzfq/Gi7pojL\n",
       "nqULUTuZquMD37bgJ2zmglvqHnGNlDOrHRgTZlmsesr1L2KrdmjNs4gMDtP4R2SelRGX0KvxGbCn\n",
       "Yfcz0Oa4phdJ4p5wUvefcetf9osrK2pb4H61KtZSGe1ppZbVcunuA6yCVZY1U5BpUK8bGIQ0pkmO\n",
       "Ii4RI4iP8NAhrBrpBORDotvV0NkwBmFRViVrZT4qOA0IccVKBZuA+mAIWuo7s5DBUY4XwZ2G5MxV\n",
       "7r+VimuIm5kiMUlb/kWdny0Qq81ZRb5TRXJznDir0IvMfqZgmc96oITW4fTMahSXa2pIGveHTvvm\n",
       "vWLuKbtnwSKXwyILv3hsnVIVRXouSyi1YTWXtvs0bX3sUUfWDEHwqVKu+xmENaZJBtNx6ykw0gni\n",
       "Iz1kCJWaSicoHxLdp1aGwxiERelM16r8d5OtoM5cneX0HwAmoC+fKbdcQ/gQ5857ALziSq65cj+d\n",
       "ivryzFyLZvow9JXxizkzFfTdXCff1poeqkUSfQtZ3RMVtBi2zH3xKvq+edXJbhSXa2pIHrdfnuLZ\n",
       "A+5ZMJYH7xsFEJ1snZubVKqiSM+e40rNNawXP6pDzvX+ZW4OZM0QBJ87ed3AIKwxTTIebPtP8/JG\n",
       "OkF8pIcMoaxpdILyIdtOqBUBNDEIi/JzuLRCD/fR9PyZc4xuI3jfhgYHi56ff5SC6xwDZp26aCOc\n",
       "z8VcKy/gMWodyLkWCF9LUfhwWeSmjmRxTm57Snjwl9otnzjfP2+eVbH25Q3Or+YXvi8bmhfqQRyT\n",
       "XNkrrjtS3zoESSfwt0VZHn8j7wLvm6spbbiVOcEt9o1woH/unpr7H7fYHZmihJU+9bxr6kge9+vZ\n",
       "qxbLj5vQ2wcXSsFxPwdFE1d34pgDcYggLtrUZHotBdQdZB35vOYzmvHFNyI3r7tgxIXjfq7FFVq+\n",
       "f87+3+JnCnCxXIDl9D+7/w+PVQTe6/4hQQAAAABJRU5ErkJggg==\n",
       "\" style=\"display:inline;vertical-align:middle;\" /></a><br>"
      ],
      "text/plain": [
       "<IPython.core.display.HTML object>"
      ]
     },
     "metadata": {},
     "output_type": "display_data"
    }
   ],
   "source": [
    "rightward_permutation = Forall(\n",
    "    (i, j, k),\n",
    "    Forall((a_1_to_i, b, c_1_to_j, d_1_to_k),\n",
    "           Equals(Set(a_1_to_i, b, c_1_to_j, d_1_to_k),\n",
    "                  Set(a_1_to_i, c_1_to_j, b, d_1_to_k))),\n",
    "    domain = Natural)"
   ]
  },
  {
   "cell_type": "markdown",
   "metadata": {},
   "source": [
    "## Theorems related to reductions of enumerated sets\n",
    "For example, the set {1, 2, 3, 3} should be equal to the “reduced” version {1, 2, 3}, and more generally, any enumerated set written with multiplicities should be reduceable to a set where any or all of the multiplicites are reduced to single occurences.<br>"
   ]
  },
  {
   "cell_type": "code",
   "execution_count": 23,
   "metadata": {},
   "outputs": [
    {
     "data": {
      "text/html": [
       "<strong id=\"reduction_right\"><a class=\"ProveItLink\" href=\"proofs/reduction_right/thm_proof.ipynb\">reduction_right</a> (conjecture without proof):<br></strong> <a class=\"ProveItLink\" href=\"../__pv_it/theorems/1c9d07fb6ad145e3a107815154870d8f0039aa270/theorem_expr.ipynb\"><img src=\"data:image/png;base64,iVBORw0KGgoAAAANSUhEUgAAA28AAAAzBAMAAADyRS3eAAAAMFBMVEX///8AAAAAAAAAAAAAAAAA\n",
       "AAAAAAAAAAAAAAAAAAAAAAAAAAAAAAAAAAAAAAAAAAAv3aB7AAAAD3RSTlMAq1RmmUTNIjK7EInv\n",
       "3XZ/CtNrAAAACXBIWXMAAA7EAAAOxAGVKw4bAAAKEklEQVR42u1cfYxcVRU/87HzZt58KkmjYOqo\n",
       "iEm17aRNKjS6O6QggpZOwKjxqyOmIeEfpg0JabHsYBpDwtYdQohso+YhKnQXOkMbKym2HSCkEmId\n",
       "EaMprnkLm1TbsmxEWFIj473n3vfu+5636073vW1vsjP3nHveb+67v3fvPffM2QHwV+TxcQUulWCU\n",
       "+ZCR7XbLgbuBVP0iY2w/4yvV7TZ8E1cJ4H1cdrFNteQpXomFmrhIyyz/srI86NlRc21avSyI22AW\n",
       "c9uWyS6c/LDrjaQLy4A46YRZXrt4vMk/6bhKvawXY+8uuDb9aRkQl1XN8tFFxE6U3aVe1v9/Sbs/\n",
       "CJ9Rwk/c56B/xOWL7lIv674Sx5+RUBP3ch+J26q4S72s+0rcwFzoicud7yNxR+eFfBQuGHHw3dAT\n",
       "ly04DJ90xWnjzmcRHRwco4E8c/kDB/nwzHzQOFgmyWEwje0GFDj2hiFEkJ652vuOdGsv4pgLFmbi\n",
       "Rq1hky+Qv2/VUsaJaBHthRk8zoQ4TKmb2eC/qzTFYcosOXiVrL1uRYHdxbgYYOkVuNGzL8I618a3\n",
       "zZO0/NFs1VTDTtxHrJPnBTKEL0C8A7J2wGPixNOXuw45GsAxJn0WhhQWjImeh4yqw6DkgYLtAH+1\n",
       "osBrRpRsC07Kz37AfTuk1rG/4638y+Oo0Ak7cc9ZeFtBehifpePzoze5joll2OyGwQy0UsdJi/oq\n",
       "5FsChkpeKLTdCYXOdh1li0JnY9x1FURreBHrj97metuxuZATl3zbotizDyDTgGZFBIaY+A4M111A\n",
       "uL1eTorZsbWow6DkgcKs7SgZHF0N5SV6bqhI74F7X8jjN4v1w+6jLb8dcuJyc1bNg7gBDBnGiokb\n",
       "3YecGXynIHztce1gRibIanFM26J4oGC7PF20orDtiKPI79PxVtyJQ+tY494Wrr2uexxbaUJMXKrt\n",
       "4JQ3i7AiWsOxonsJF2mLfWuRNYNd6nlslx+OtKGF+nyd7H46DJPcUbA9Hq3aUEoAFR2FzJQB5jC6\n",
       "oFDryOlVJ4hR2+PGfxpy4jINB+JSavTVOI64/C7oYvIUE5tVrtclNJB+3kFN9L1ftAeKqI+UUmUB\n",
       "wyR3FGwfT5etKMRJTNd1FOJSPgOwV7Gg0IqwzrxOnVOv4wAc58ThMvEJP8RF0IMqBYS4ZtmBOHnl\n",
       "M9v/wabKpKKLOxUmZuklrwJ/yZ7SDFIqtss3q1eu4/orNoEBBiUPFGxPlKwo8Oz6MwIlfWhQAWkf\n",
       "WFCwolsPX1fvcY6DoQoj7noq3O6HuDi9IlELyjFOdY9f0LGK6guSVJZqBlEvq/Rn4AmjudCbYHqi\n",
       "5Gs+UO6Cu8EL5ZqBTq0HcaNsL4T7aKcafohL0sm5MyhL5dqiN3FpXdp5/x7FIOpF9+CvihvNhd4E\n",
       "0xNlBHqjSI/cfxN4oaxMdlo9iMOlhhCXoLO46GuPu4O8HwwKcUM2H++cVrnnTnKiPqDr/9DtGkXd\n",
       "IdCn7KOnje263gzTE2UKeqNkut1ZT5Qfw2V1PBi6l3yBERcjS3PCn3OynrxXg0LcW7Y1e9j0+FlW\n",
       "UnvIMufSnvO4zgvle4uCguVJL0ci3+Be5e8nJ1/2R1xmcvJvraAQd9y2UUjXFpeuO4mvtxcN6x7P\n",
       "kHamyon7IgBxdeQaj9d4EBevQ0oJCnFbAtMTFrCavlD9yXY4cdtBIqtmms1fGij9vDaVd3+pEnvO\n",
       "QByx276AT/phw15zap1f+ShcpCXb5sSllLT5cJ2hYnJqrBItHIGbjAfwffDrBXySyKKLtLxaLxE3\n",
       "P+KiqsU3GaYv9CAYHYzrfioSt2ZBvkmmbq85tYZ6qbyAxGlLJVQHAQam0CvFQOk10lnIUb8m+oOv\n",
       "qSbiEjGyisqHzmoO3cTgb+zAQpmbvvcGemKc0b7JEjXDeVLojg1qtfQbds/LojtujwSEOiFW+pTf\n",
       "eaA5J3CQnM8O5OkDjIFSWLnjydp+DG/Vj3zSRFz6KmL1VG2Uj5n8l+Sc/UgilKcjDfq90pvKNFeI\n",
       "mihCl62MaMo/J+0+GtEZvk+Gt2wzNeQJsfft80lcQSPu+6S2C798oIFSgJPFJNzKiIvnGkbiJOqq\n",
       "XEdjBDuR5zIZ31umzc85KgEvK6VUOroPwQZmT2sDa64394O2sp30RniC28Ubct2GS3TRstcBPOwJ\n",
       "sQ/6M8uXNeIidAh+xk4jZIWU/k0OCBvGxsaK0brcqhqJgw8B/Y52CpKrFfRicgVoy7MW1yZXMIbv\n",
       "AH4H1zJ7WstA09wPouO1F4HjontkxyXkGQ6mayvuIa9FOJaV3aVe1gstPvvfbIHhax35fF0b6Vjj\n",
       "2xI8wGYc3KKaiKOWc/DQOGTpADdrqY1KzbKqofLTKg/fUeZm4XlmT2sSjJj7QVvX443TFZbZ0W5Y\n",
       "cakucfeM2BtL/SRuKRJiffZfCzKzEq2W5RYd6QmIqHvT7KAdq4A+e8T3cSeS72ykAzwBmdrorQqk\n",
       "KqRKLuYvqPx4mQhS+zBQ1FPkU4g9r8HDIOyZTtpVpYptkEbiJiBRId6sBZfq8jv2m1eMvhG3FAmx\n",
       "PvuP0XUx41bWks/TQOlIMVWLXA3SI0S593YAO3FfWXe2RAd4pDiwac0hjLyMFJMnYKRGX5gyVQcC\n",
       "d/M3ZxTytmcGZxKvxesGe66LtWjrXevPIHEjRWnToGLFpbpRg1OarfaTuKVIiPWJgkFa0zfgUQyU\n",
       "8lk/MTZWsYa8jKKiWaYVVb8ItNpTUYTjqNye1Y7kwGDPdJGK0Y61OuGe3f24OLi3nW48AAmxlsRX\n",
       "U06sQxHWPonDyIOJuG/QQOmA4h6rFCV57qBmeWe3Y7iI11JnCBxH1exZLdH9LxjsmVHWZMdanXBv\n",
       "SK/TuxCzZboGJCHWnPhqyol1enKE9Tl/xL1kI65EA6Ux8EMcXutUNShLpjdTLWbWvX6lS6sjrvbs\n",
       "WJNGg5IQSxNf4TFtIX/N+1JmzaLDw75cHOl9G3HegZY+RiU+tiBvOqgJsTQWl5zhJzvMcvW4lEXu\n",
       "MDoM8go/zIU+IRa+bJGDkhCLS1m0o38AeHWAWQ+z3W6bn9uOhD4FfWvFHnkIQEIsJr7qxGGWq8el\n",
       "zJpGh/1GfvJq2InLlu1eZQASYlniKyVO5MRi5qD9DnRrGh0G+K2v2x5Swk5czOEfGwOQEMsSXylx\n",
       "IieW/jyJKQNWXI/WNDrs9zjAMtKX278SByAhliW+UuJETiy9FCU9Axav16wxOuyTuGXwr8R80XCK\n",
       "PCx9QizucauMlwpDcYzg1hgd9kkc/yWNUBOXaHkRt7QJsUhcy3gp2FM0NGuMDvskjodFQ01c0vID\n",
       "NQFKiJUO/0cVTXipbI+9adYYHQb9EOlZXoHwEwf/NIuBSoi1AeXs/VetUZzeZVn8JJQ1QSzcCbHS\n",
       "0356/1WYN3EbA/hDo7cFpysXJiE2eQebnOMH/BN36YdGA1B+xZ4O+kOj/wNyVFQ53vB7+gAAAABJ\n",
       "RU5ErkJggg==\n",
       "\" style=\"display:inline;vertical-align:middle;\" /></a><br>"
      ],
      "text/plain": [
       "<IPython.core.display.HTML object>"
      ]
     },
     "metadata": {},
     "output_type": "display_data"
    }
   ],
   "source": [
    "reduction_right = Forall(\n",
    "    (i, j, k),\n",
    "    Forall((a_1_to_i, x, b_1_to_j, c_1_to_k),\n",
    "           Equals(Set(a_1_to_i, x, b_1_to_j, x, c_1_to_k),\n",
    "                  Set(a_1_to_i, x, b_1_to_j, c_1_to_k)).with_wrap_after_operator()),\n",
    "    \n",
    "    domain = Natural)"
   ]
  },
  {
   "cell_type": "code",
   "execution_count": 24,
   "metadata": {},
   "outputs": [
    {
     "data": {
      "text/html": [
       "<strong id=\"reduction_left\"><a class=\"ProveItLink\" href=\"proofs/reduction_left/thm_proof.ipynb\">reduction_left</a> (conjecture without proof):<br></strong> <a class=\"ProveItLink\" href=\"../__pv_it/theorems/251f6a61118209d024e9fae6de531c317e4779cc0/theorem_expr.ipynb\"><img src=\"data:image/png;base64,iVBORw0KGgoAAAANSUhEUgAAA28AAAAzBAMAAADyRS3eAAAAMFBMVEX///8AAAAAAAAAAAAAAAAA\n",
       "AAAAAAAAAAAAAAAAAAAAAAAAAAAAAAAAAAAAAAAAAAAv3aB7AAAAD3RSTlMAq1RmmUTNIjK7EInv\n",
       "3XZ/CtNrAAAACXBIWXMAAA7EAAAOxAGVKw4bAAALC0lEQVR42u1cfYxUVxU/87HzZt587CoJ0bZZ\n",
       "R20xQYENJNgSXabSWosFJtSo8YuxSprwTwfSpIFKd2qIaewi09TGLlHz0Nqyuy07hYoNCGzbNNg0\n",
       "xbHWaMA1sy0JCnRLqO2Sbex6z7nv477Pebszu8xbuMnu3HPueb+97/7evffc884OgL8iDwwocLW0\n",
       "RpkKGenJyVzL3UCidIUx1s/5SkxOln0Tl2/B+5h3pU21+Em1Egk0caGKWf5dfm7Qs6Xo2rRoThC3\n",
       "3CxmNs6RXTj+cdcbSXbMAeKk42Z5SfN4k39ZdZXqWTdj7+5wbfrrHCAuXTPLR5qIHcu5S/WsGy9J\n",
       "9wfhc0rwifsCzBxx7Vl3qZ71jBKnPiOBJu7VGSRug+Iu1bOeUeLaxgNPXGZiBok7MiXkIzBrxMH3\n",
       "A09cusNh+KRrz4g7n0V0cHBEA3nsmof3q8Mz9lFxsEySw2CK7QIKHH1LCBEkx270viPd2os47oIF\n",
       "mbhd1rDJl9nPd4oJcSJaRHvhBk9xIQqjtTV88N9XhozDlFly8Cp5e8mKAtuzUWOApdfhds++GNaZ\n",
       "YfpYM4LlL2aroVrQibvOOnleYkP4EkSrIGsHPC4OPnuN65CTARzl0udhpcKDMeEJSNV0GJI8UKgd\n",
       "4B9WFDgloqQrcEI+/BH37RCtI/+iW7nocVSoBp24Fyy8zWc9jF7A8fnZ26qOizlY44bBDbRSoklL\n",
       "+gK0VwwYlLxQsN0JBWe7jrJOwdkYdV0FyRpepvqeu1xvOzIecOLi71oUO3YDpMowlDcCQ1x8D3pK\n",
       "LiCqvV5OGLNjQ1aHIckDhVvbUVI0uhrKK3huyEuXwL0v7PG7QPWD7qMtvxtw4jLjVs0jtAGsFMaK\n",
       "iyvch5wbfK/D8LUHtIMZmyCLjGPaOsUDhdrl01krCt+OVBT5QxxvxZ04so6UH6jQ2uu6x/GVJsDE\n",
       "JYYdnPKhLMwPF2mscC9RRWyxby2yZrCtNkHt8mOhYaiQvr3Edj8dhkvuKNQeDRdsKF0AeR2FzZQ2\n",
       "7jC6oKB16MzC48xo2OPGfxVw4lJlB+IStfAbURpx+X3QxfhJLg4VVL0ukYH0myppwpeeGG7Lkj7U\n",
       "lcgZMFxyR6H2gWTOisKcxGRJR2Eu5fMAOxULClYM69Sb6Jx6HQfgmEocLROf9kNciDyorhYhbijn\n",
       "QJzc+fzmf/OpMqLo4laFi2m85A1Qf6VPagaJGrXLa2vXL1X1164CAYYkDxRqj3VZUeDwsrMGSvJA\n",
       "twLSbrCgUEW37rmlVOccByvznLhbUbjbD3FRvCJWbJVjXM09foFjFdYXJCknFQVRLwv1Z2CvaG7o\n",
       "TTB1UdqLPlDuhfvAC+WmtmqxDnG7+F4ID2Knyn6Ii+Pk3NoqS+WSrDdxSV3a+tAORRD1onvwC6Ki\n",
       "uaE3wdRF6YX6KNLjD60GL5TOeLVShzhaahhxMZzFWV973Cb2ub9ViFtp8/HOa5X772En6n26/s+T\n",
       "k6KoOwT6lN1zRmzX9WaYuiijUB8lNTl5wRPlFzCvRAdD99LewYmLsKU55s85WcY+C61C3Du2NbvH\n",
       "9PhZVlJ7yDLj0p7xuM4L5QdNQaHytJcj0V5WvcrXRkZe9UdcamTkn5VWIe6YbaOQbs5evu7Evjnc\n",
       "NKz7PUPaqYJK3FcAmKsjF9V4jQdx0RIklFYhbl3L9IQHrE7PVn/SVZW4zSCxVTPJ5y8GSr+oTeXt\n",
       "X81HXhCIY3abp/GXflK215xap1Y+AVdoSQ+rxCWUpPlwnUIxPtqXD3ccgtXiAXw3/H4af8nIogtV\n",
       "vFqvEjc14sI1i2/Sg7/wIBjujup+KhG3eFq+Sapkrzm1BnqpnEXitKUSCt0AbaPklVKg9CbpHGTQ\n",
       "rwn/+Bs1E3GxCFtF5QPnNIdusPsPdmBDmTn9wG14YhzT3mQZNeE8aeiOdmu15Ft2z8uiO2aPBAQ6\n",
       "IVb6jN95oDknsJ+dz/a14wNMgVLo3PJ0sZ/CW6VDN5iISy5gVs8Ud6ljJv89Pm4/khjKM6Eyvld6\n",
       "WzmtKoyaUQxdOt+rKf8Wt/toTCe8T4Z3bDM14AmxD+72SVyHRtyPWG0bvXzAQCnAiWwc7uTERTNl\n",
       "kTgJXZVbMEawlXjOsfFdf9r8nJMS6LKuRA1H91FYzu2x1rb4VnM/sJXvpLfDXtUuWpZLNlymC+e8\n",
       "DuANJ8T2v+Yu1bNuQnnEn1l7TiMuhEPwa34aYSuk9F92QFje19eXDZfkSkEkDj4G+I52FOKLFPJi\n",
       "Mh0wLF+wuDaZDjF8B/AnuJnbYy0FQ+Z+MJ1aexlUXHKP7LiMPOFguiTvHvKabvmhh1TPuvHis/9D\n",
       "FRBe68gTJW2kI+XvSvAwn3GwvmYiDi3H4dEBSOMADxUTK5SiZVUj5WdravgOmbsAL3J7rEnQa+4H\n",
       "ti6jmYQrLLfDblhxURe7b8zYG7uaT9xFD6me9awRpwWZeQkXcnIFR3oQQrWdSX7QjuRBnz3G+7jj\n",
       "8fdW4AAPQqq4604FEnlWZRerv0j5qRwTpOGDgKgn2V9h9moNHgPDnuukbQVUbIQkETcIsTzzZi24\n",
       "qGvf0m9eMZpLXNuEu1TPevaIo+i6MeM6i/EXMVDam00UQzeC9DhT7rwbwE7c15ae68IB7s22rVp8\n",
       "gCIvvdn4cegt4i+uTJSAwa399pjCPnaM0UxSa9GSYK/qIhVsvXfZWSKuNyut6lasuKjbJTil6ULT\n",
       "iTMH5ZPVqVjPHnEUpDW9AQ9ToFSN9w329eWtIS9RVDTLpFLTLwKt9kyY4FRU1Z7XDmVAsOe6UF60\n",
       "461OuOe2P2Uc3IedbryhhNhY56gQ7TRLDtFJU/u+0b2HVdGc+GrKiXXiX7f2SRxFHkzEfQsDpW2K\n",
       "e6zSKPHz+zXLeyarwkVqLXGWwamomj2vxSb/B4I9N0qb7HirE+5tyaV6FyK2larhhNihTbJwvDFL\n",
       "Dk4CtcdVKZfpVDPvzImvppxYpyfHsD7vj7hXbMR1YaA0An6Io2udqoKyy/RhqkXMujevd2l1xNWe\n",
       "Hatv0HhCLDtPnIDfFozThWcCK1lDms+nSDEyEeK3gImvBsop71xabs2jwz1ZXwf1D23EeQdaZjAq\n",
       "8cncdK5qfkIsm7IfxMeqguSVwIrtxmNkvPzEWJyOQlmuHh3gkTuKDoM83w9zgU+IhTsscuMJsaeg\n",
       "7SKEq4LklcBK1gJUTVzKNBTKRfPoALfu4bvdRj+3HQp8CvqGvD3y0FhC7EWcIDpxKHklsJL1vi/p\n",
       "3SnKtKpS4quOQlmuHh3g1hgd9hv5aa8Fnbh0zu5VNpQQC5cwZwCHHJu4hE6/bP/bunVuAbfuz1+H\n",
       "OUCop8RXDYXnxFLmoDMKWWN0GOCPvm57pRJ04iIO/9jYUEIszIOf87lCSaokYQKrKXfVuB7bZeU5\n",
       "rl7y0ztgvZD4qqHwnFj8ehIXFLLG6LDf4wDPSJ9r/0rcUEIs7HmuixNH+akkYQIrSXruKl2vW+PJ\n",
       "F9ufGAuvygqJrzoK5cRiB1xQ0Jqiwz6JmwP/SqwuGk6Rh0YSYml30psogXWh7VIDbVy0dkGhDnig\n",
       "UHTYJ3HqN2kEmrhYxYu46SbE0pBrTTyB1Z5coVtTJLxi15tQqAMeKBQd9kmc+j0BgSYubvmCmqYk\n",
       "xEoHP6gZTZTAKtujZjoaBuGFdmcU6oAHCkWHQf9/SM/yOgSfOPiPWWxSQqytKWP/y7o1vsDMNIyi\n",
       "RXHqlznxlVDWBLHLkBC7sbdpUNKzfnr/dZgycSta8ItG77rcHVi7epZ3h018cg7s80/c1S8abYHy\n",
       "JJ88+EWj/wen5V7j90QEmQAAAABJRU5ErkJggg==\n",
       "\" style=\"display:inline;vertical-align:middle;\" /></a><br>"
      ],
      "text/plain": [
       "<IPython.core.display.HTML object>"
      ]
     },
     "metadata": {},
     "output_type": "display_data"
    }
   ],
   "source": [
    "reduction_left = Forall(\n",
    "    (i, j, k),\n",
    "    Forall((a_1_to_i, x, b_1_to_j, c_1_to_k),\n",
    "           Equals(Set(a_1_to_i, x, b_1_to_j, x, c_1_to_k),\n",
    "                  Set(a_1_to_i, b_1_to_j, x, c_1_to_k)).with_wrap_after_operator()),\n",
    "    \n",
    "    domain = Natural)"
   ]
  },
  {
   "cell_type": "markdown",
   "metadata": {},
   "source": [
    "## Theorems related to equality of enumerated sets\n",
    "For example, an enumerated set such as $\\{a, b, c\\}$ should be equal to the enumerated set $\\{a, d, c\\}$ when $b=d$."
   ]
  },
  {
   "cell_type": "code",
   "execution_count": 25,
   "metadata": {},
   "outputs": [
    {
     "data": {
      "text/html": [
       "<strong id=\"equal_element_equality\"><a class=\"ProveItLink\" href=\"proofs/equal_element_equality/thm_proof.ipynb\">equal_element_equality</a> (conjecture without proof):<br></strong> <a class=\"ProveItLink\" href=\"../__pv_it/theorems/9d0444c21bbbf0a753e27d9a8316cd7aa71485e50/theorem_expr.ipynb\"><img src=\"data:image/png;base64,iVBORw0KGgoAAAANSUhEUgAAAtwAAAAzBAMAAABWCsIkAAAAMFBMVEX///8AAAAAAAAAAAAAAAAA\n",
       "AAAAAAAAAAAAAAAAAAAAAAAAAAAAAAAAAAAAAAAAAAAv3aB7AAAAD3RSTlMAq1RmmUTNIjK7EInv\n",
       "3XZ/CtNrAAAACXBIWXMAAA7EAAAOxAGVKw4bAAAIHUlEQVR42u2ce2xTVRjAv7W37e1t11X9B8TM\n",
       "GaIuInPhYdxiRpVHwERdfP2BJE4jMeA/nSExKMFqDPrHZItIwojCRRKiHbKGCaImOImGEYKZiGjA\n",
       "mS4gyUDHMpgbIzLP69577rOd7XW9hJPs9nzfOefrvb+e59evA8grSem0DDdSYSmdTudZs3xiIlFC\n",
       "N77FU5g/ZT11+8SVfHE3ltL9l9V6Crd4SsnVeRL3DMNM93Qp3NQrSdui2Z7G7W/Sy+eWl0Qfnm67\n",
       "ukXiXsa9Tt+PfONFmWCPFWohHLct+snLuH839J3eolh9sVADDvdxr+xd3P5uV3APu4g7mPAu7mjG\n",
       "DdyBcRdxB0a9i/ui7Abuwq04WXjeu7h/tHrM5oPreZ1BNCdThWBlfxWzN/gAb10nWUBWy51w3yd7\n",
       "Fbc4ZlAIaF8YOAzbuU5vEC1Gt6lC52qJjvjQcVimqfWSOXHlMbqmCH0k6bcpnVmv4i7rNu4L0Rlz\n",
       "dy08CrBT2ZATUfr6JlvktL6h//1AHzWDMqolLDkZIrUZeYfFNtzrVdxRw/a2eSW6PA5wGsRBZTgT\n",
       "UQDBdniTCrq0BOAqLUJoOUtIcjTEfRA7XrDfTY16FXerwWEiLkNPfASkEXTgUagQsaIxNGZnhNbn\n",
       "02kIDLMi0FmCHIa0tN8eknTJq7gvJs2nOeka+Ic0SFT0y7aUWIWFG/tjdSll2y2MsyLQWYIchgDb\n",
       "Oaudbi3nbvjWq7g/tNiAScNQ1nQ3gSRhCFQkJWYDslJh54raaDwWJxoYw/M5zqB+GFAtUcneECnH\n",
       "dlAfiHQ73PVHXsV9xGq/uw1mJxIEUide5KgI78lElP4GplclUuG1c1CREjJUcwt8QDNoo3FAs0Qk\n",
       "B0O4HNuRc+zcv2G4SaefmQfuMjLIptzTLF22wr3jwjuVKQKpHDuXqRjaysQT+AkSyqVPVipUQguU\n",
       "VzHN57U0E+lqkDVLRHIwRMorYUWug9KCRop7MX55KQ/cAm4QTE75tvua/WmOzLj3qAVr4FVeVGup\n",
       "m4keGIA3RE6jZXSWchnqgUViDtytWYr7TbxjbMsDt4jHwdopn0t8wzlwqx6V0JZ3H+FErb5aYQj1\n",
       "yzqB00QsLeUyhOz8Wp0Dd2eC4g7iEVGVz9y9Gr3unXp/oGmTEFOWqND+q1mQsuoGfWJiiBPVtEc9\n",
       "WsbRsG4+z2n2WFrKZQjZuVBLT7e2qSJOcftRxWBeS+Vc9No05bhjo6ZztK6/xwzVzRay9pqsfdPc\n",
       "hnY7rWsVbWxncqyv72heuKN9fb9lphx3xOwoXXNzKeyYXne8i2gTw70UYGteuIUUhOX/59YFh6Jx\n",
       "8GIq72W4myFk/SVb6MQ+eDCu4UbVmie7jVg16c5LpuYwyW9oM+qxh2rIm7i7Ge6wHLE4w2ycvhnu\n",
       "iMiCzB1ztsK+yb7LjMk2CA1puMsyRv11gNuXtVgphaX48JNNRPhTZc3kV8qeSa+EbRruaMqovw4m\n",
       "E2hqAM5bQ/0tZ3Bh9Z3rdbiDfrQWS10XlKMOl9VSR8MX/JmkHw+PyBl1ET/YYL4VTSd1nctquFsH\n",
       "bzXosa1R80GzJMJ6nOJ6uKUS9qINteqtIbmkRPpSdeTjZ3nckbsQu8+SrYpZLqs9+i8ixyN2Koa3\n",
       "9z+L3aqdFotlWNUhiykN91/yWaEdpU2qHps0O+dKI6zHKa5H8dJj3OtQTvHW0JwcIFvIakgM8LhD\n",
       "2Iu4CFQ4XFabhRIi5xgL1/rRpyq0SQqsZfCJqQmnWwStoOHeBPcb9JbHHF+xppcN3xXW3iGuByoS\n",
       "Cu4yzELx1gDxt/hXtbe/j3B3BHUewWno73voR2d58jnibKBmsf5TbIxxbxpNCXGsA+LlIU1MLbBO\n",
       "yw5wuHvgIYMewx2xP8QXmgoMNXG6kc6MglvnraH+FjFDe3egRocbTxajsCktzpaVbBQ69WaT4Xpt\n",
       "TFVAFH2EFWjKeYtGgaKJxtgCtMkHWdyW1nAPwSE6mah6PGQvuYa70FATpxtRXFR6b00H87eQvjgf\n",
       "cE/W44bD4kg9lMsgZUg2hEYFynbQSwdEk61PyvNmznviAFo1Ub06dA02QgYQblRlJUT0LajOv3hO\n",
       "hlocq9dwn/K3qW9K9Thddg13oYYcIx+qeNyKt6alivpb1qIJRjyZpE5uHe6n5qBihFs8RLOwGWdb\n",
       "kuJhdEHNF9Z0QU1btHEWIGPiY1l0DS1skDFuVG/N3PP6FlTnG4BezaKC++1B3ZuydNI13EpomRu4\n",
       "6Vd+pm9zmG9Q+rJ9s/EQz4tovvCxtTGlZtXm4dQueFiV6BVPJj6LFjQ3LdTEK8MOD3Wb5VMWHNaD\n",
       "NK3s4d2I67kdrHAHZHufiQE32319FVOzavNymAW9tUxiOox7ubkFy/XG5suc0gn3AuMtFiesR9MU\n",
       "GtdjmY5Y4vZDPrjFP/cC0NEdnPhHyWrNd8AfUJlkEr1uPFrF6ulb0JwU93XxSifcSh9UU3HCepBm\n",
       "CXtWF+J6QtcscUNeuF1PIch1YOAmgeKE9WgaN+J6vBvWIxiGbJHCejSNG3E9ZZ4NWguMmA9zhYf1\n",
       "MAtQhLgey0Nl1qu4SfSBYWdSeFgPa4JnBjfietj67kXcxq1JccJ6iMa1uB4Wk369/FikCGE9RONS\n",
       "XI+XfyziH7c7zBUc1uNWXI/iK/TkD/1edsRdSFiPW3E9z8kext2i/1KjiGE9bsX1HAcP447pY+yK\n",
       "GNbjUlyPt3+kbfx+vzTCehziep6ByeKuL6V/HxOsAi8lcTV9TacH8sV949/H/Pe0i/XU7RNX/gVt\n",
       "wm1pLR9y5AAAAABJRU5ErkJggg==\n",
       "\" style=\"display:inline;vertical-align:middle;\" /></a><br>"
      ],
      "text/plain": [
       "<IPython.core.display.HTML object>"
      ]
     },
     "metadata": {},
     "output_type": "display_data"
    }
   ],
   "source": [
    "equal_element_equality = Forall(\n",
    "        (m, n),\n",
    "        Forall((a_1_to_m, b, c_1_to_n, d),\n",
    "               Equals(Set(a_1_to_m, b, c_1_to_n), Set(a_1_to_m, d, c_1_to_n)).with_wrap_after_operator(),\n",
    "               conditions=[Equals(b, d)]),\n",
    "        domain = Natural)"
   ]
  },
  {
   "cell_type": "markdown",
   "metadata": {},
   "source": [
    "## Theorems related to containment\n",
    "For example, any enumerated set is an improper subset of itself, and the enumerated set {1, 2, 3} is clearly a proper subset of {1, 2, 3, 4}. The SubsetEq version is easier to express than the proper subset version."
   ]
  },
  {
   "cell_type": "code",
   "execution_count": 26,
   "metadata": {},
   "outputs": [
    {
     "data": {
      "text/html": [
       "<strong id=\"subset_eq_of_superset\"><a class=\"ProveItLink\" href=\"proofs/subset_eq_of_superset/thm_proof.ipynb\">subset_eq_of_superset</a> (conjecture without proof):<br></strong> <a class=\"ProveItLink\" href=\"../__pv_it/theorems/e7a13fcacbb7fd42f6fbe2be5960e8f7b95e48350/theorem_expr.ipynb\"><img src=\"data:image/png;base64,iVBORw0KGgoAAAANSUhEUgAAAtYAAAAXBAMAAADdFRXNAAAAMFBMVEX///8AAAAAAAAAAAAAAAAA\n",
       "AAAAAAAAAAAAAAAAAAAAAAAAAAAAAAAAAAAAAAAAAAAv3aB7AAAAD3RSTlMAq1RmmUTNIjK7EInv\n",
       "3XZ/CtNrAAAACXBIWXMAAA7EAAAOxAGVKw4bAAAGuUlEQVRo3uVZb2wURRR/93e3e73jxEgEk+aM\n",
       "URuweEEhQgweQg1KjGfUL9IPF5EQ+eLVkJgKgcMQ5AO0VSSAibhI/KBVeoDgv0AqhIAStCEoBHLJ\n",
       "NRCwQpumCUogWufN7M7O7uzerdkqH3jJ7b335jdvZ383++bNHIAfGToL/70UyeeTfLAYbxRdnNpL\n",
       "cOuEjkj5Fxzu/x8GlcqQz1I9WBB1skuASy/fQq7piGJVSmIaHffV5doXLJBMI5+H9aBRGtKSK3xj\n",
       "PIb36UlvqyaajugCJbEV7WV1ufYFCyJagVwOBg6T6DeUwUqlctbuCiav1rBqoent4zqSuBbTSXdd\n",
       "rn3Bgkg0O65cr78s0x9MRmtYtdD09pEckoiMJzJ1ufYFCyKNMJ5ca2dgnLmO3fC2aqLZ7X9EEiNk\n",
       "PsXrr42+YEHkgXHlOpQfb67tUerFFNqZuoQWGCcrlRM+6hA/sCCyyORauedyVfA7TFnsAOMh487n\n",
       "bj+0WuzkMGWRAPGmgYyXJYvQzka0h5K4EOADH1z7gQWRJXh5inzaig3iC+owZbEDUn30a624EpBV\n",
       "N3YMPhJqHIfpkgMkQO9y7U8vSxahnY1oFiWxHZS0D679wILIKZyiR0imPQJR4QV1mC71ix2gsEWp\n",
       "XUCsIunv8yw8K7gcpiwygJSjP3lZsgjtbEQPURIb9IT7Zk05vR8eT5tce8K8ZX23rLm1UjlKbjiJ\n",
       "3CE6AskyaLPMSUnNnj1TPOsXCrBk5yt4TQrZYCm5PAdwHmBXwfBRU/vuDs+5zfCikFfuphUArVr9\n",
       "KVocURclMVx1W/M6J2+BexN6VDe5dofVlFBZ1txaTa5hHclSjd3Qm4fOIbM8oWbOexoygCUH8ryC\n",
       "NDZuT5Nn+AG0a6AOmy8ANaM13hgKsMl5iI1aAdCq1R/bbSNqY5vvwlyX2bIQt4nVXMLao7vB6pRx\n",
       "JVlza+U5BN4lma4KTxCtxUx81LwGa0pemZHhnZvEpbatpPY3REZIo8ENMyfkleteiYnh7QVz9AYP\n",
       "QK0a/RlaHFELI3HvclJrz+8cSM3G5yHaRbanhOb7VwtcIwx65n5lDmffFfmcx+7sGp4iaW6tVHYY\n",
       "dUhvBiaFi5RrDUxzDnItv7AW4NHHhtMXtuGq32e8uHfpQh2ijUKo8CCjiviZGdEJV5rMkwUwScFQ\n",
       "1zGHmwGoVaM/a6dMGiOazUhcRXLyrrZsYzqFyRm1okZzaXPi48UW1wjTzqjm8vpFsUvm2u4c0i9K\n",
       "mlsrGEUR5bqhGj4dZfO6t8BN0qL9YbjohVsUoM08At/DgFjYLv5Q3KPvgJZcjlJFOzITW+SAFsAk\n",
       "hXruhPfBCkAts7/LyLCdMmmOaBEjMUR+ubcuwYRSFDMoanqMprtmyA1aXCMsmlP7QKG13wLYCLHp\n",
       "rXb+0GnJZlLpdOiGJmGxVZBNBtda09ftvzGuk+e4qRK1QkIlc2BcTosAZXeBTKVF7psMdO288k5T\n",
       "iU1LDMNM2KTTEELAnAjgpFDPl1kQAqDF+/OuVn/STpk0R/SLcFjaRFhKZpjWBpHXtm9/j3DdE7ef\n",
       "qTbmyc/89jm2lg2QfXUvOBa4AcE6DvPUFt3QJCzxiWayZNs30nw9lZv4k4XlJMIBoSqZBKe8uTZS\n",
       "J2pWGDpppsrngrqTFO6xB6jXH5k0bq/0C1wfh0FYozJtgaqW2byOTbdz3VtsmKMDck1K9c2fKbZp\n",
       "bDgjTz7SOo2uZCNwGJK6oTmx6Iu0zuDFCJ7OOLnmjUpOKUJCTo1la6FNdSsjJT9cW2FWwJtCCAsP\n",
       "TlIS7gHq9UcmjdtjXWSSqIyQX2F2FHpQO9vMtogzwZymfF4Xu15ArrUyHFOvzQHYgmoPv6AzPAhH\n",
       "w2W0zkW6kWtDc2KJj0AtaraSz1Ub1xrfe3dsWKfDbnlt5IA1ZGZHunNsk4jPVqnwM1VjK2lSxcMo\n",
       "2zY8I4TgYgEMUiyPLUC9/oxJNqIOgcRYGpZB+++wMUO0K1noIFNE/bUIITvXsfnT9wHhWj0ML84g\n",
       "sGgJ1Y1F9RheDOc2rRDNoH/dMCDXhubEou9upWAdryNl5iHCytcPEZJ4289jYwDyU1mA5yFeVJp0\n",
       "uuGT9mRmpascuFkVwjSOjY0IIbhwgEkK99gD1OvPmGQj2gouf24ZD6t9s32L4D1o+6+M5JAw075N\n",
       "cRW41h8uJyOmhTkk7IntT820sicZozIv4LHtyokuzhUT4dYJHVGK1CNDR51nLnr93p0nMsD+wYuP\n",
       "/QVg/ZnHNC2dyocuG5Z6da+huWG1dHgf3LYS8YnLuqlZD0i2Lvb2kH8AmJyVgS24FE0AAAAASUVO\n",
       "RK5CYII=\n",
       "\" style=\"display:inline;vertical-align:middle;\" /></a><br>"
      ],
      "text/plain": [
       "<IPython.core.display.HTML object>"
      ]
     },
     "metadata": {},
     "output_type": "display_data"
    }
   ],
   "source": [
    "subset_eq_of_superset = Forall(\n",
    "        (m, n),\n",
    "        Forall((a_1_to_m, b_1_to_n),\n",
    "               SubsetEq(Set(a_1_to_m), Set(a_1_to_m, b_1_to_n))),\n",
    "        domain = Natural)"
   ]
  },
  {
   "cell_type": "code",
   "execution_count": 27,
   "metadata": {},
   "outputs": [
    {
     "data": {
      "text/html": [
       "<strong id=\"proper_subset_of_superset\"><a class=\"ProveItLink\" href=\"proofs/proper_subset_of_superset/thm_proof.ipynb\">proper_subset_of_superset</a> (conjecture without proof):<br></strong> <a class=\"ProveItLink\" href=\"../__pv_it/theorems/99e07da54e8eef1af7c40ca92de7a70b21a8184b0/theorem_expr.ipynb\"><img src=\"data:image/png;base64,iVBORw0KGgoAAAANSUhEUgAAA4UAAAAZCAMAAACxQns3AAAAPFBMVEX///8AAAAAAAAAAAAAAAAA\n",
       "AAAAAAAAAAAAAAAAAAAAAAAAAAAAAAAAAAAAAAAAAAAAAAAAAAAAAAAAAAAo1xBWAAAAE3RSTlMA\n",
       "q1RmmUTNIjK7EInv3XbP4duhPeprPQAAAAlwSFlzAAAOxAAADsQBlSsOGwAAB1xJREFUeNrtXOuC\n",
       "qygMlpsgKOec9f3fdQG5Gy1t7ZTdY37MdAImIc0HIeAMw4WElmXhw0033dRK2mAGXypxvJ36cQqz\n",
       "nGTsu3bg5vn226Z29fVFtyX3EXKj8D82dfp5U49MftcSgaY2C75vak8U3cZ0hkIU2zG5BIVXCryp\n",
       "Iqz877WDwJ5Qk8lrPxiU07x04zZNEgppzBZGfgkKrxR4UxVFIdtQSwfWtBnRhakpRGk/bhtlRKEI\n",
       "ExqfrslIrxR4U0mU3Ch8j1bcj9sITfvCgEiFr0HhlQJvKmke+kahnpaNRKcoZB2kx8khs4woDBWa\n",
       "C0orYxR6kcCbyi3W2DUKxah452thD8YkG0aSADO72WtWV6HwQoE3lQmp2n+THCnN9cEDp41tdCKi\n",
       "CmkJnxV3YWqMUKQ1qnI0pTURB4A5bmpEHCAgOUShhELquk3yMhReJ/Cm0r+x6EzDqshmE/rTQZ51\n",
       "2tiYwp2I0HPxJ4JPBbswNUwUq9kuyTWfLbg9M6dgCeOkqXFaAAUkt5EseeQo/LgIhdcJ/PLSc9Tg\n",
       "pzeiPncUIxTdh1O8ZMFnr1m6DxTOs04b2+hUBC9LHfAOpA9TQ0rvMDrn6+Wiak5LUxvBApLb8Jxt\n",
       "4eyqpdhzIKf2ATIjCIUvCHwlTsdP12CnI2XbZzF/dvuwn8Zm5me5MTiXrvHbHiSpcJA1SqUQemGh\n",
       "yeUDgY/GhEOBwCSxE1PzdXlV+VNBFWCTb3rdInnuNrFmKMS6uZQiNJom41eMBmVUVPN1EPKEwDcI\n",
       "qZ9DYVJmPPDrNytrJR8uxdQoHAQN6f48uTyLOcN0tQ5kjfTFlSYTAU0UI8sBBwZMJ6ZmixPLl/B5\n",
       "it8raNPwrkVnbmP5WmgQQ9rWXUr9VhObB4xxCsxInxD4Ds3iB1EYlFkP+Hnx51GYrv36+xdytW4m\n",
       "q3+iqpZkjTY4+fq0w0r5cH6XrDvwYg+menL4y5eo7akTm9626MxtXqNHocL+jI9QYuYENGgyRaUb\n",
       "z+2R4p2bAQvMuD5EYRRoVnOid/VrkAmP5LinWI2lMhWj9riHeHAhC+437ZVZD0hUwgS28e0xAiic\n",
       "dFVnky6s0Di4O8IhjILrs0YiYyC1pFYxS8tF7GJDlSk5hXfJHZga5Vix2/4xsNbNaLa3KTW9aFEm\n",
       "IEGocBuZchRyv7+ThFkT7V8axXR543F7Cy+FiDAZKWZHKAwCXfVarFWIgUx4QCc99SKHOLKF7bdp\n",
       "EA9MU476TTtlzgOaFRUu2Mb3x8iWk61iqHZbXOKFboUkHOJ9BBrDM7G15UMmAoiN+vBtZCco/KKp\n",
       "qQ8y7InmrK2CqQRgU9b0mkVBQAah0m3+5CkcsKNNFZd69DNGPJoKPINwRnIUmuHq6QCFQaBJ4EIV\n",
       "g6eTi8hkWFN2ngEfF0EmEoHgxitFoSTwHuvwz56i0CtzHphCwUYcD/GKMY66nnnFUoe2RFoJjrTI\n",
       "U6plkftG87AsWoclTmH7D6FPEgHERo1COSHg7YkOTM36KL9iR5ZShGyOrm3Kml6zKAjIIFS6bWEF\n",
       "ChN6tA+J7M1Dy3P7SDJOjvCGQqnqEgxcT3DzkcDRtsSc7cxxuvVj2aoMbAspKsoWuZLAa9LxcF/o\n",
       "lVkP/PrjPCBC2Qwc4hVjxOMuT443w8A7IHFjg4HEKU0RuCGtgvrsYmNvBFNT2w22HzYV6LNnndj0\n",
       "rkURQoVDuP+wQ6GNNrvC8XUQRQRS87dQxVpop/kHKHQHpBOR1qxF7pj8Qbk/9SQUE0IZVunrtaE9\n",
       "+3iICV2GA897pCP0M9IJVkco9MqsB+JedIMOOMQrxsiBpwhtCm2geMzNk5wfte4XsINpr4iNN25z\n",
       "/7CpquWxY5vetihCqHBI2EjXKOSrB67ZN1K32nneIizuUsZFWIrD07XQ7nkYiSHqJGbMwR57bFzo\n",
       "R+yJrU/NqrHhxLUZeXZ36z67HYmKOCh5mw5Ift7PaViOUOiVGQ9IVJVP6iFeNEa4BDv56UbPJ6Et\n",
       "NbC8CCG2cyXZULGC+lSxMWS3Yk6pA1OBPgDr0Ka3LcoglLktvnNUo5DZELOvBZr8WtpJHHuedtdE\n",
       "eKiOiWV7d/AhChkleHt2C9FNYmJuJx+OK2Ze/ih6Gs325TqKU3+qdfjMqc/gNxyUPH+6Aigp+pmt\n",
       "LB8Pa6SbMuOBf0SFwnqIF40RRmEokPH9GzpcjatyRgKRMq+WhoPWPXIAXhUbodj4kDowVTc8dmLT\n",
       "2xZlEMrcFmbUx//xAtdFdbsvPNxInc6NPl0rJCrpbcaPdC/be+bLQHZteK8k50UdkBJcaNCkqC5A\n",
       "h67yd/TAHiaA9tfHCB9HhtvKnKLvvjjGVasBXze1J0pu07Es/giFT/7DkBMUCj279w0LiaOZYpYj\n",
       "PQXP5oH2hABttudt2eegJOdFHZCSjGU14PJiKITC7L941EcJkPY3xojvN8P+EnqEwidvKzfEDWnm\n",
       "kkYpzc+SZ8cHoTC/TzjqD45RjPcCcqPwFRr/X/+PFBpKsaCJzwGFizs6/wrSyzKTfwHhI1oA+qt+\n",
       "1wAAAABJRU5ErkJggg==\n",
       "\" style=\"display:inline;vertical-align:middle;\" /></a><br>"
      ],
      "text/plain": [
       "<IPython.core.display.HTML object>"
      ]
     },
     "metadata": {},
     "output_type": "display_data"
    }
   ],
   "source": [
    "proper_subset_of_superset = Forall(\n",
    "        (m, n),\n",
    "        Forall((a_1_to_m, b, c_1_to_n),\n",
    "               ProperSubset(Set(a_1_to_m), Set(a_1_to_m, b, c_1_to_n)),\n",
    "               conditions=[NotInSet(b, Set(a_1_to_m))]),\n",
    "        domain = Natural)"
   ]
  },
  {
   "cell_type": "markdown",
   "metadata": {},
   "source": [
    "## Theorems related to propositions over sets\n",
    "A proposition that is true for each element of a set is true for all elements in the set, and vice versa. For example, if $P(i)=\\text{TRUE}$ for $i\\in S=\\{1, 2, 3\\}$, then we have $\\forall_{i\\in S} P(i)$. On the other hand, if we know $\\forall_{i\\in S} P(i)$, then we know $P(1)\\land P(2)\\land P(3)$."
   ]
  },
  {
   "cell_type": "code",
   "execution_count": 28,
   "metadata": {},
   "outputs": [
    {
     "data": {
      "text/html": [
       "<strong id=\"true_for_each_is_true_for_all\"><a class=\"ProveItLink\" href=\"proofs/true_for_each_is_true_for_all/thm_proof.ipynb\">true_for_each_is_true_for_all</a> (conjecture without proof):<br></strong> <a class=\"ProveItLink\" href=\"../__pv_it/theorems/76d5c6494c74156e69226cc76e498f7fed4c52ba0/theorem_expr.ipynb\"><img src=\"data:image/png;base64,iVBORw0KGgoAAAANSUhEUgAAAvQAAAAZBAMAAACst6dQAAAAMFBMVEX///8AAAAAAAAAAAAAAAAA\n",
       "AAAAAAAAAAAAAAAAAAAAAAAAAAAAAAAAAAAAAAAAAAAv3aB7AAAAD3RSTlMAq1RmmUTNIjK7EInv\n",
       "3XZ/CtNrAAAACXBIWXMAAA7EAAAOxAGVKw4bAAAIiUlEQVRo3tVae4xU1Rn/dl73zp3HDmqNYCTb\n",
       "1CIJso4IKoToRMBaDXSV/mPFdnwkPpKW4R+TtQUGYnxEdFcNKsTA9RGSstUdWKEqsRklZFtM68ag\n",
       "GHWS4ZFSgl23jSuvyHq+87rn3HvusDOuRr/k3jlz5/vOOb/f/e73fefcAWggF9VK0JK01fYbr8+B\n",
       "H7C0jHackq19AFDgDfqlgRRbHSVhvhzBgS3tUimk7RflN6uFCaldWyF9FL8Lvi11AlcAdANv0OP7\n",
       "o34Lng5qntChfPltA49R9OL15h1OHQbtTX18J9QfVLERtqN1j/ocNn8WRn0bddZ889QbDZ/BaxXC\n",
       "xOaTk569Ea/M0Ajyj3N07KnJd7sBvUPjnEWIObU/NIFog3da4kO0HjZk/BOP+kXYvCeM+lgXEllq\n",
       "nnqToVUVnt9OPOwFQoqje9r97CMlffQrgORe8OslXL+eLtsbm1N70cdEoA2KwMfQSmzI+AGP+jXI\n",
       "SW8Y9TY+FN0tBByTYQxdYAG2eshjdxk5YrqHzWYfrwqm7DPEb86AXy9a8Onp4nzU2Jzaiz4mAm1Q\n",
       "BD6GVmJDxvtdST3e/jD3KbKbtb2VWG8wbEenQs+HL8rkIDcirSukmSse+ol4Sk+Q4zQE9PaCrud7\n",
       "3C/vamxO7fdOHNqgCHwMrcSGjCfykvpoPjQr4mSuaCn/JIyGPWT0CL22GQ8yvWk+M+adQ4/x78kR\n",
       "chD+/Hp3ga6nS8bubWxO7e+aOLRBEfgiRQ0bdh/r9Sqcf9Zq74VTn67VPqu0Qr3B8L8i6MBJFg3g\n",
       "Jvyy4m+ruEIqx1KTCLftvezZpXrWhUdEWbINdD1dZojUFWZO7bdNHNqgCHyI1hme8vh2hg0Zz1Y9\n",
       "6m8A2BhOfawMSbcV6g2G5wvHJtOy3u7grhcfhM1cMUqdJFGKFGTI/OMHwk2XlZKneEdXgq6nyz1w\n",
       "cWNzak/7iNWo5L4d2oBIfIg2Bgfqixk2ZDx+yqN+BVi5cOrJbytaqusNhhswGuCMsv/bNUDjMRLz\n",
       "lzwsFksuGhrX8AqMhMsLd7H1L9FzdkNsiOtdCrqejjsHGbehObW/dFxoowNNEP66uGsSH6K9Cq51\n",
       "z2XYkHH7hEd90k11qRXgvh0wP+ctMjbCjtaWVMzw1i9fnyTCwh2Ybbp4EKayhxy/AvgU4GUcy6bX\n",
       "LwAY9kKm0IuNQKYCfdumoDuDrqdvYpQhWw8xF0lH9uFfUvnRrmsGdSqn5CiWWwnaMlwPHBsybo16\n",
       "1EfqXpZ9cvJ6+GnKjbneZDpbyTsJaRgdgpTwtn2C+vaiQv0/wBkFexiV4lVehL8q63Kpl+6F/i4o\n",
       "0CdkGeh6/iWzMxRizmWZ6CNAvYIWuQgk6IYik6rER9HCv4BjQ8YdhXooXiML7xtwZVsvpJTJJKL1\n",
       "1qhnhm0FyI4oXk8DTo/wP4wEZyBKFCLIFj1hpRuj1a59Gjy9/jpcCzAKq0nhMBM0veCC6roQcy4z\n",
       "+RGI9QpaykWL1Et8FG38OGxl2KjXKwEHtpNqNrrgycN8dT3956tU6lPTcNU5cExEDaXpSd81fw1Q\n",
       "Tw0h3QGZnEJ9EqF9IfxvE+nv/9BWvISxHsXCK4PzoyCyo+Dp9XfA+ZHSPEr9XND0dMGOHggxn331\n",
       "MGbmufwIej2ddPbwql/wnYZpOmA/Tp0QSb3ER9A669uqUGHYaKw/rlD/J0LNy8vy6ZJD6+HpqZdu\n",
       "UyZjvYPrxlKPGF5peqPvpx3q1FNDWO1a54mrk0U8XK5WeZtgZqHAqKeVJ30Gn6e9jCh6yXpkX4w0\n",
       "3xY1qdTrJ9N0MLjQE3XbZNlo7szZDYPc/iYj9XTSR9p672RcYB2kAA7g1AmJi8i6XIn+kROvVOMd\n",
       "DJu/wsG8BA/+G9rdOF3RTIfCUXUvj2QzWIj5pptmAGzGOxfpOwQFuxrcuURDmD98UFZrn+NNJ9P7\n",
       "5dgmfuUJcrx47JGpZUZ9Br1lCg202Ovmk3VPz5n6xor/EHssaj4EVS9T4HmEntpwOLtuNLdeK8Ip\n",
       "bv+heecSJ51P1suMC/teDTvFecvhLs1soZeL/8CgevgIWmdJ/eJZHBuyHa36N42nkrwTvW/DhqcJ\n",
       "9X0J/zbqHjgA9kxXNNPQr28AdGVzIZvGk5Srv8MOPtYWnmUZJ5H6lWFR1NNDDqyhJlOPNG+rY7ZD\n",
       "e0MfXvBqL3Eu1kzRsFOcVWdEM9vDdsRoeAqkRQ/tSs52LOen/u+w0LYrzOvjnb7JOMfhma2sWqZN\n",
       "y1d09ZeS89zZS2cYqN+t3SFvi0zfCOPULwjjTupZBavk3w07u0jzdDlWKFN7Qx9FpaQsMS4Iqwp2\n",
       "hrOkP+H09+iiWRW+MwumDUGOzbeHwyGNwMfT2ap2DsjbKCczaI/Ow+GdCmvCemz2sVMfpEs9S93O\n",
       "3kyQeuu4f+cyqWWK51TqwzZQFb3uRx9yW9hbFOarIbO2TO27w1+VWNWdpIjdKNKswC5wQrJLIHcq\n",
       "nJDIUczukWDSl2it3uDOJc8QOTiWh27yYNofldgrA5X6X88iv5Lh7XdZkyy4SXNdyR4kp3Ud8QWd\n",
       "AyRlPBCk/uhpZV1O3cXR+P2zmNnO03XfXQGT3vtjY8r9GrcI85shO8Dsn2vwlmrJbcMu5YJSL7AD\n",
       "x4k7L+s6KHJ7UBByAdZaBuolWooN2b4cwPSC0Hlzw/rwV2Y4fIQ138rKJhFWXGfg0G+CAUeTc/C0\n",
       "Snt7okbHI+HcqXrZ5t9laMOgvamPooGLaQp2jjPl1kUTJAtD2TmuiXqJ9ohgfL+Z+oaTsT8nixVG\n",
       "bmLsa9HEJ4Y59oswI38W6rfAD1lMq/bbFewc5/KxIdEEwYKTiwwYvV4X37vZ5iaTNzSj5tWsablX\n",
       "+bFRn1Ael6ipqWbrhzvOTv14/5Hw+1b/mZL4Mf4Px4h2bRNRrdz492yNlHs38gY5vgEuBbcagqr6\n",
       "lAAAAABJRU5ErkJggg==\n",
       "\" style=\"display:inline;vertical-align:middle;\" /></a><br>"
      ],
      "text/plain": [
       "<IPython.core.display.HTML object>"
      ]
     },
     "metadata": {},
     "output_type": "display_data"
    }
   ],
   "source": [
    "true_for_each_is_true_for_all = Forall(\n",
    "        n,\n",
    "        Forall(\n",
    "            a_1_to_n,\n",
    "            Forall(\n",
    "                P,\n",
    "                Equals(And(Pk_a1_to_an), Forall(x, Px, domain=Set(a_1_to_n))))),\n",
    "        domain = Natural)"
   ]
  },
  {
   "cell_type": "code",
   "execution_count": 29,
   "metadata": {},
   "outputs": [
    {
     "data": {
      "text/html": [
       "<strong id=\"true_for_each_then_true_for_all\"><a class=\"ProveItLink\" href=\"proofs/true_for_each_then_true_for_all/thm_proof.ipynb\">true_for_each_then_true_for_all</a> (conjecture without proof):<br></strong> <a class=\"ProveItLink\" href=\"../__pv_it/theorems/750bb93e85f42a1abcd0369c72a8d416fb3b42c20/theorem_expr.ipynb\"><img src=\"data:image/png;base64,iVBORw0KGgoAAAANSUhEUgAAAmQAAAAZBAMAAABtHC+5AAAAMFBMVEX///8AAAAAAAAAAAAAAAAA\n",
       "AAAAAAAAAAAAAAAAAAAAAAAAAAAAAAAAAAAAAAAAAAAv3aB7AAAAD3RSTlMAq1RmmUTNIjK7EInv\n",
       "3XZ/CtNrAAAACXBIWXMAAA7EAAAOxAGVKw4bAAAGP0lEQVRYw+1ZXWgcVRQ++zM7s7PJdoMFjaJs\n",
       "MdZgMSwxUai1riSxQVGC8SVtlUUEMaBuX4rV2EYfhJKQrErQ9cFMVYQ2SGOiiBFlaZGIxbIWsUVc\n",
       "2LRRSWvXPFhTDRrv38zcOzN73Qxrn7ywmZNzz88335z7M3cAZC1QOg3+2vWlLFzB5h9obS1eOgVw\n",
       "sZSkgqxFfOfIwBVtkf8iqMqu5OHfhn6hFBP+p6xKO8uujzooS+D/b6yORNovo8yno2/K6pVvae2V\n",
       "5scNJASnzVGZEinrwconqiOR9sso8+nom7K65fsdIPoVur5naQZFyl7EgzZXHYm0X0aZT0fflNUr\n",
       "n/Y3KjD0gy5L1SFSFkE1GEtWRyLtl1Hm09E3ZfXKF7+MfqtIKFiqBkOgDF8iEiTSfhllPh19U1av\n",
       "fNFl9EO0Be0VLJISV8yvS6UTsoVI1i9dMf05+l8x65RvAxrc42WAMJr99cq1IzOoeBMiZb0Ab8qQ\n",
       "yPqllPlz9E9ZnfIhup4/xUorDAvlBxBVGZGyPaAmZEhk/VLKHI5hof9me+6ooi97Bw5ybxVlOdA7\n",
       "U7XjHbnPlH697tNOfG1E8+IdcLdxFcpZECmLGrE+fsv77UewLcEhcfTXThl1VCbvv+dqMkfQjoHf\n",
       "PmzKQogLmfbWh50hqUWn51PwAqoV1gP4A1OYNOd8FGwY7iWRlkXKgmV70hxrnoBNMSNscEj4/nVR\n",
       "xhzvAviMoyxUhFgRDnGmu7z1yrQjJLHQ+UKyTRxAtYV8Hz9/19A2c9syizKAkySPo8ogs916ar14\n",
       "A11Ox4T3ELt/nS9M1HEjqnWOskAa4st032kmMbz1g85Xb2wRFgppsArQ7mEAn5Rpq0zAAxOUFTiC\n",
       "IhUdlM2gxKGusUWAc9i09ab9ImW4H6a2f8x0+uwF9yGFS5kxHeEYwDccZQ1JaExAkXOhmylLb2Wa\n",
       "ceQgFo0Clhk30MqOxSx5wyGU2aa8aDdbaVIWv2RuNsqgTwQKgCo5lHNQNoRq/Z3dqYasTvbOrbG3\n",
       "dwlIcL9+Wlthuvez427KXMoMcwT1T9iT5ig7YKgbQc1wLsE0r7cztThyEIu9ApYWF9B4tjmSPEwH\n",
       "Mh+MF7knbSsfMSMtMwHtLIKX3y0oSbrfECgLoCp+7ifYYCjk4bRCeklAgvvDaTSZqmQN74ZRUNp6\n",
       "xNxY6aIMO0LoZOUW4CjbVjlrgJJjLvvQoFRyvJ5kemgRjb8Bx/0RiwGGha0ILqAheEuDfqJ7eZiH\n",
       "bcfl1w87VOQ81Uz+wdZhrQj6g+WWdjxG+7wOf26A3RB6Mp9/FVE2FXGdqTT0xRPw0vdY/AIWoAGO\n",
       "ireDld6HPwFzvmaUNZHCSlAX7VZEmZbj9SRTQUfP+qCDMmKxiWGh7aDH4Q8qm9vz+XxSazJ42HZc\n",
       "fqzboYJPO0vwjCW94Hle9iV0a9o0rTKlzYXkaDa61QCcW1+B146ojqIiylBP+7SbsoaUSNlx8gRz\n",
       "1AUaDXNgmnqSKYsfvnNgHmckEYuO/i2ugcm2FiqM0FkpwcHm4nKNCzXkGrUdltTlRZm6DGda6eYZ\n",
       "bXwW3FWWHe/HufVpmNcubQWYwOKU9Qcrg0t49nZSdiArUKbSuQMZkjiYsngZBbD0NFMUDYWKmIJa\n",
       "NDIsbTm8EFRcQIdimTDaobHp34SNIlhxp7iwXKjN7pdNEzk5H3FRpiTgQgr2oclA+y4LARcSpatt\n",
       "FlBu7Rg83I4sw8NYHM1q8/gPU16jZlyUxSfnBMqWVsntvA7UBVMWxQEsPc3US2QhBbVA90EsAsN7\n",
       "aRgH0PCPn58H9Q1GmQkbRpNW3NEkjThvKmkoN2V6jueuykG2/kl+QnY+jHIHqTQXt0SwpGK806h+\n",
       "kB0F1/YVCGWHuVBMHzPKBLErhbV7bYRzO+2bcgKdyvNbWTwwk1ZcsA+IknYoD8pgP7v+7P/sf+xE\n",
       "EnZS/dpfwETcqKQngrNQI2VhWvTaL2hntYMLxfTPrBWJ6EwBxBq3Q7AlZVpXOftXijZsxbDiKtZj\n",
       "ZRIJ5UWZ0Px/Lkl5ialaPpcIlMGc/R7Uxwew9Z3eKWIGCCaSzyXcGhjyEkP8C+lj9aLM9+fBp1zf\n",
       "MVVxDvCQxP+MKpENL9ETqLaOM9pn/+WotoTW64s/pLDwD0LO9cXuvvrrAAAAAElFTkSuQmCC\n",
       "\" style=\"display:inline;vertical-align:middle;\" /></a><br>"
      ],
      "text/plain": [
       "<IPython.core.display.HTML object>"
      ]
     },
     "metadata": {},
     "output_type": "display_data"
    }
   ],
   "source": [
    "true_for_each_then_true_for_all = Forall(\n",
    "        n,\n",
    "        Forall(\n",
    "            a_1_to_n,\n",
    "            Forall(\n",
    "                P,\n",
    "                Forall(x, Px, domain=Set(a_1_to_n)),\n",
    "                condition=Pk_a1_to_an)),\n",
    "        domain = Natural)"
   ]
  },
  {
   "cell_type": "code",
   "execution_count": 30,
   "metadata": {},
   "outputs": [
    {
     "data": {
      "text/html": [
       "<strong id=\"true_for_all_then_true_for_each\"><a class=\"ProveItLink\" href=\"proofs/true_for_all_then_true_for_each/thm_proof.ipynb\">true_for_all_then_true_for_each</a> (conjecture without proof):<br></strong> <a class=\"ProveItLink\" href=\"../__pv_it/theorems/2fe1306d525d40f88e4fe5fdfbfa1e294de880c90/theorem_expr.ipynb\"><img src=\"data:image/png;base64,iVBORw0KGgoAAAANSUhEUgAAArcAAAAlBAMAAACqgtwlAAAAMFBMVEX///8AAAAAAAAAAAAAAAAA\n",
       "AAAAAAAAAAAAAAAAAAAAAAAAAAAAAAAAAAAAAAAAAAAv3aB7AAAAD3RSTlMAq1RmmUTNIjK7EInv\n",
       "3XZ/CtNrAAAACXBIWXMAAA7EAAAOxAGVKw4bAAAH+UlEQVRo3u2bfYhUVRTAz8yb2TfzZnZ2xQpN\n",
       "kJFMBXXbdJU0sSFXNKUcsn9MiSUDyX+cpTBM3ab6o4TV3T7MD0KfBUGZ7LpmmZJsiFhKMISaWMK4\n",
       "LtmypVvkNzmd+zn3vnmzH2+DbJsD7+PemXPPe793z7nnvNkF6E38uVw1eBLvmkNAFuVuQiCXs/tA\n",
       "VOl1fO+aQ0KO4xYtwS3BLcEtwS3BLcEtwS3B/R/BTRVrmb0omUUH6JeYzoY5NOHG4sVawWxxrQ7l\n",
       "/JmBG1XVqR1mi8OlEO4rjshHj9Ue4HrU9CwTcevKvTXyOVu0pFxwPoedN4a9t4BeX6va3d+LlWY0\n",
       "dWbnggJ3LjlfURxRIInHspQHuB41vYpVR/ZXAcLHZUtIGffQiJjOFfjx+6TzI22MlfzY5m5Cqksz\n",
       "ujq1Q21xuK+SONFcHFGITO01XsKCR02vEiDTLnQbTd8WLSlGgh33CORN6LwPEAeeo41Rw5/TaXcT\n",
       "Ul2a0dWpHWqLwyWgI/FeIufK4k+yj5jrTdOrRKljX8ftlmjpqzdx2bt5+3IaN+LS7foYbIbHHky6\n",
       "mpDq0ky7S5ZwPA/XwEdc1huiqXis8wTXm6ZXGUd24R7crotWXpazQ2YDb+8kGwL269dXxuZ7ecjd\n",
       "laW6MON33t5yvols4btz5070hih67txPrZ7getP0KgtpLG1mLk9b5qiLIk3Yyy6qVSwBN5hrQ4Bc\n",
       "X/3hBhFUK/nS6LoI5dWFGYc6s7NXgTsfYHtviAJpCNue4HrT9CrLeSxd+71oLUuFb/IPp7OJmfIn\n",
       "RMw0v4rzqRo8Bjv5ZRpsJq6AsW4WpLo041BndqYrcOvBrOwNEX5a7y3PdWom/lGY41n0k23K9PKo\n",
       "Q9NEyzoCgQz/cBLd4+J9lmn9fmgfDavlSPjTanhcXDWNobgSl7tNCqkuzTjUmZ1JCtywHVHDt3ly\n",
       "P8yqVEuB7bDfYxHBNJf8+dkw6k40kB0cNGU2npF0PLGjIpaKVqAHylvBopO2iXaOALgkYyZbwXCU\n",
       "RQA/gnVoGLII0X5fGmJuZYdUl2akupAmvgm4/mx+Pds0cjOMidgBW0VU5WVVUjSNDEQyEi5WQdbg\n",
       "qjc23i7eWqrBvaq0os3QkoRNv5HmMpEJ75FprqTzLVhXIEBneZDOXExerYx7Ir1Hprm6upBlfJPl\n",
       "b91smSrOJ9VaNhHREJUZWY9wmaYvAbEeCRefZCQ9KLhsvLmO+oCGhdAtJUi0ZOERPJsMYkcyzgDN\n",
       "OpvEOot+bd0GowcqkiZZ/TOihHjUvYRg6tKMVBcymW8Sbhvmo8acTZ28cptwf4MONzIOv2Xt6xa1\n",
       "1u7ZXxRadnbmNSEah/JKCdd4ftu2QSa0dDzEEOtsmJfP0XeQWCrnELZa4nCPP8W4zqAoSNSjc/ay\n",
       "CIThLFh/gK9uvGETuAa9REJ4daHdvLo0k1en/JidGSrcdXjnHy6rjqYsOvSEyAdLNUTm16Q4STVx\n",
       "uNYPoWuFLuPszGvCK7Z5F0i4uO8YHFw6HrnLi77mZ0Es4DQDKutRcqJw1n8ywCctzdOoh24lu1Wg\n",
       "5F47YHICByGhi6ZW1N3C6F0W8f6WOrHLq0szUp3y43YWqnAxfsPLP0OFHaQp9ARIdOnvtjCQQy00\n",
       "Yi1Lvh5IhNrhyU69hqGdhW/FiCbMutRhK3APaCH8xX6/2DE7+QkdL4iDVYezaXpCZSNexc4b2XzL\n",
       "Gn2g/hcO9xTZ3UuXFdwey+0QdSwS3dX9xmhEsBEvspzclY9cbYgMdJLM14TYSfW8GalO+XE7pwpe\n",
       "OY7GOEw89m2Eu7us8MXhUTgPocnUy5OxSmi3enRXJZ1FXjkOEycMwy6/GsLnDiDWppXx6PgVOFlk\n",
       "MVWuRfJ8i8A1M8UGPSOfHUn21w/Ui86o/JgdakuH+w3UhkKtbOYGqwoQWdfgnU9Y9teSCs+0U46J\n",
       "SjtrFk90g3tEh+tbw43W1Cb43B4YXDoeZdoIqXxYMBJur2oY3EBR/6iRLgQvFbyH6VtqVH7MDrWl\n",
       "wTV74MwEVqlhdny+ENGx0JWZBO5uiKaaFtsQTuKp1Sp2tLOqudwFrnlNhxt6F+D1wzU8Z0C4xmxZ\n",
       "I0/tLrx+2edLquNlwGz/HLPcfEa6RVPbosIt/m4uzFcSc+ubC4q/HexbnfKjdtYU/BIRrITualiD\n",
       "9xs6nWKvuXVET03BzxFuYzw4p2ofLZob46Fj0JgiO9bpS692gdt1y9bgktuu3hCBF4Cvvg9DO3NK\n",
       "MFqj6DZ6pCB9/GyBOh6O8sTSS7a8PYCPNT3RWrvqsJO7thLzi4rmcj3KWP1+idys8qN2thTA5V/9\n",
       "ctvmYpGTBjL8Ost8InZWnBKJ81zlwtNFNFW4RLDSWVKLYWEteu8KdPHXzrLifQNEocVR0G8AY+4U\n",
       "nNzmcLV/aQFSU0vH1VasF2gNyvnFgacuDdoPHClha+C/oYV+bYMg01iVy4hT8tzY2S6YWN0/uNmt\n",
       "BsYSHhbOxjpo0W7hw7sUN0laYpPf+VK4Y33+LpJ7BrQEJcCBzYM7Ubz9QGm4nRr90VThDu9+iP+C\n",
       "iHAnVs2hcNeBv60Tn85mjKa4buOqu170jSDhw6cXdgeZ6eQQgjug8tchDuccW4u+Lt7tI1w/n5Jp\n",
       "JeDwvkxsmu2Eayn7ElxXGZOWcPn8PxjDBU/3CavSj2voahv+M3KH/N0Cm86bTojJWpb7q0iFloYS\n",
       "3MFqDgkpwf234Zb+J8KLiP+J+BsS4WDg+Y9doAAAAABJRU5ErkJggg==\n",
       "\" style=\"display:inline;vertical-align:middle;\" /></a><br>"
      ],
      "text/plain": [
       "<IPython.core.display.HTML object>"
      ]
     },
     "metadata": {},
     "output_type": "display_data"
    }
   ],
   "source": [
    "true_for_all_then_true_for_each = Forall(\n",
    "        n,\n",
    "        Forall(\n",
    "            a_1_to_n,\n",
    "            Forall(\n",
    "                P,\n",
    "                And(Pk_a1_to_an),\n",
    "                condition=Forall(x, Px, domain=Set(a_1_to_n)))),\n",
    "        domain = Natural)"
   ]
  },
  {
   "cell_type": "code",
   "execution_count": 31,
   "metadata": {},
   "outputs": [
    {
     "data": {
      "text/html": [
       "<strong id=\"true_for_each_then_true_for_all_conditioned\"><a class=\"ProveItLink\" href=\"proofs/true_for_each_then_true_for_all_conditioned/thm_proof.ipynb\">true_for_each_then_true_for_all_conditioned</a> (conjecture without proof):<br></strong> <a class=\"ProveItLink\" href=\"../__pv_it/theorems/7e852cbf6adae324c3c545f212dcbcdf3ada4f150/theorem_expr.ipynb\"><img src=\"data:image/png;base64,iVBORw0KGgoAAAANSUhEUgAAA4MAAAAZBAMAAAB5rOZxAAAAMFBMVEX///8AAAAAAAAAAAAAAAAA\n",
       "AAAAAAAAAAAAAAAAAAAAAAAAAAAAAAAAAAAAAAAAAAAv3aB7AAAAD3RSTlMAq1RmmUTNIjK7EInv\n",
       "3XZ/CtNrAAAACXBIWXMAAA7EAAAOxAGVKw4bAAAIsUlEQVRo3u1ae4hc1Rn/5nXvnTuzkwmVqinK\n",
       "hMYYKm6H6FoIVkfidtWiLCqCrspq/7CGqje0iClrskopBEOytI1h02KubSnERV2zPjA+mEYkgijT\n",
       "p7I4MNFYG1PXFVqiLTX9vvM+97G4t+2WbXvYu+fM+c73+x6/e88958wALFDO6AaQqeS6b8B/f/kP\n",
       "Rlnr/hrgg26DXQuV0awWHPhfKEsdpStq9lydh1ehya//U7hconxb1DdHKKzT5y+mUZijKt9cfHAZ\n",
       "FZcZhUsQZW3fJysfvILZmZZdTZvCQeq8LY3C4jC5Giw+uIyKy4zCpYhyBc6FPwmx8QvVtcmm8D6a\n",
       "ZCfSKPToId2SIbiMisuMwqWIclcP4Mt4wUbVdb5NoYMEVxqp70Ii/ECWt0Q2xeX2LlyCKD8cx4vm\n",
       "0LbqqoYWhVQ56cuZ8zKtapysisuNwiWIch9dSGNe23Ga9or0tW731XQKq93uW9NZgsumuNwoXIIo\n",
       "PwHwPsW6iHb8uVUP4ENfqdsUXgawN53C4jiUwyzBZVNcbhT++6NE+twXGuLRK8KR3pVI26hN4WZw\n",
       "6+kUomxzpuDSFIu8yqtl3Nl6/ZwwXEt7aoDW1a2FdWtJA86OozAr6TAMpLdglIWZRaTpgSt43TI7\n",
       "hTfSTO2j52Zo3Qt9yONX4OLwczikbVNYDivD5hHAb5+CC+t6a78Xnsq26eWK1//5yZXMp+NzQ0xU\n",
       "5iMGZFfBMG6GwhUNaVENIN3ai0cD3krQLe37+iWnRpFbER9JHEORd1gKDIEUE6LUZcei8vQEr8SG\n",
       "wPJGminPyzUM+jEOX2NP5rxNYb6nVzM7T98NqythMdQU9md5XTtKsdCBSgfr6wIYCzSFfl12PWyo\n",
       "jZgZZoqGtDQtBpBu6TZwD7NWki58FeCFKPJIxMeHk1CYlXQYAtEjHDs9lDxYu6g8rTUptL2RZlaM\n",
       "GhQCvM5kkacQRi9St+BldFLTa1WMAzan0MtGIVfMtaCG90weaSxOaApxTyy6Bk21UJ92cEVTukkM\n",
       "oP30uVhfznfWlq44ZzoF1+FRZCfyzhpMQuHbhFQYBrIpHqVK3j9DYcQbYWaXvGNoIoXSCXiEZ9Oi\n",
       "8AAOLmzceRTgHRq67qytJoWVtei1P3Ncvi+Mpi5TFz0To5ApQrUBfXhfbcNVcWFeU9inujoGpNif\n",
       "ngpKsWNgHxADUNf9GOuLqRXVzbFPhwB+FUWObn47SShyl5cCw0AOxKKsHd06xJPHSDGyEU1MpNOk\n",
       "UHsDc0M4owozH0pKyz3wd+fagJQWJiIUjmGKf3Zjsxr4DGpd5acjBoXuL/Hfo8EuGaLRVMV/wzsR\n",
       "o5ApwrbQxXsZPk/RtjWFd8sud9SAzLcqk1i+NS4VUaqx19AArpsjz56nlqELz6Lug6+Q6b/C5lYE\n",
       "mesa7/zRJBSysgAMA1kTi/K93MStPHlwgZWNWGIinTcZFGpvasHpTkOauUuq4U4i//HP26UG319Y\n",
       "FOYwY9/9A6wIS2wGWwetYwaFcBpel9JregubiahZ6h+0V5ktrx2jkCnChXNvkxrtPJ26pvB62VWa\n",
       "MNBL4r3+5LBQxA6G7e7lOmwA1lWaXW6hlnJH6lawXXh97ksgkaW0ZJ8i4kcbRS6jUmCUlhxhRNks\n",
       "98Z58rxvguExb159dDgtW877mkLtTQEe8qSZy08+JHcXHfCv6q1ZT/PQcNKXTWfCjVC4fXLyB0jh\n",
       "lGNSSOVlOALeuaFsVuFxy6nqcK0ep5CVlbx6iWZ1YzmzWnbl6wa6J7K8+aBQRCnDvn8WP2wXA1C3\n",
       "in7jrbzacEfqul8IIVfnupbUsykkaAtFlO0pMCKPE2qEGeWKQCTvvlVgeMybbX8+LVv5Ow0KlTcA\n",
       "J8AwI8ubqnUvJFH4ClzqedP8KSz1Ryj0T8APH4G+UDbdyNr58aC8ITz/mnMSKHyJVz+CG+A3xqZi\n",
       "u+zCnGh0MZFOTktFlDJsmDUmUtQtt0phXxNb2h0xkU7+WGRDIUtpZCJFsY1SGFw/rSbSOAwXxyZS\n",
       "uZUIePKIa+0xbwaRKcrI1pgxkSpv0GbbNcyYh9u8bEyi0J2HN9fxU5oBUPecegoPe3/ZQEn2p3kT\n",
       "dlNziv+bgmqw65qwf6IvTqFL9xOOGvv2Y99vgrWcEV0djQ41vrqbkYokZdgsIXM0ALFoOXN4wx+/\n",
       "wVCkO1K3Qla2BVzXkuLflOE1LWcslPwx0iAriTBcTFbmolG67adxw7hXLlCUxyIxUB62LBvZspYz\n",
       "ypuxymjRMCNLWb6u2RdLMQpLdTjehC34VvR+H/BvMk0Kr12PUkyyd4g3i+PU3BF4h/HfjkZpY/8M\n",
       "vlLvjlN47G80Px4C95Ijq1yDQnRHdO3R6MJJryUVScqwGYV7aABi0ajvnLkyDKgl3ZEBfo+2yPsO\n",
       "cl1Lin87Gsxh+tcgsY1yGq1cqDsZhonJyp5YlFeNzIUseYwU5bFIDB1hmpaNbFmbCuVN8d0X3zfM\n",
       "qGXQhMllyg8v/Gcnd0cO2IzCpjrePFhTTSwN8WC9c0N8iuFTPt0krccMCtnGlXWNGOj7uRcJm/1Z\n",
       "HsF+wuKb3mv9ntr+kjtcF8K4rpDuV55yn0eiKJ3aQCjzlADDxPuNTEai5MlT+8JZZa4S9mzLOlsW\n",
       "hbY3fvw73K2ifg8g229nvD/hToWT5Jz8u2wSE6E47TinmUIhDXU/mjUP2IZkVzHQ6EPxE1Uu3flq\n",
       "gzWHGBYbtu2MUCowd1J1pXRIecp9ZmIDxa/nZ5RSHIaLh8wRSd/R3SSPatBjYe6ukx3bss5WhELD\n",
       "mwRH7JL550/NhGYh+XQmqnXHsElhJZRdB61Ty2jR0gE+oCl0nd9JlM+gi1IaoD0tCHEExT4vjcEw\n",
       "kAFYiELHOMsqJDXNbHm32hSa3gzAv4TCO7L+jtRJ/4Wl/CWdSpueN/2E4bov1B9Cs/Oz6PpJA/w4\n",
       "itVMgPatEYlR3r+INN0jajvLYZojRql1ccX+wVtNuv4BqvwNZAH3bUUAAAAASUVORK5CYII=\n",
       "\" style=\"display:inline;vertical-align:middle;\" /></a><br>"
      ],
      "text/plain": [
       "<IPython.core.display.HTML object>"
      ]
     },
     "metadata": {},
     "output_type": "display_data"
    }
   ],
   "source": [
    "true_for_each_then_true_for_all_conditioned = Forall(\n",
    "        n,\n",
    "        Forall(\n",
    "            a_1_to_n,\n",
    "            Forall(\n",
    "                (P, Q),\n",
    "                Forall(x, Px, domain=Set(a_1_to_n), condition=Qx),\n",
    "                condition=Qk_implies_Pk_a1_to_an)),\n",
    "        domain = Natural)"
   ]
  },
  {
   "cell_type": "markdown",
   "metadata": {},
   "source": [
    "For the claim $\\forall_{i\\in S} P(i)$ to be false, we need only have a single $P(i)$ to be false."
   ]
  },
  {
   "cell_type": "code",
   "execution_count": 32,
   "metadata": {},
   "outputs": [
    {
     "data": {
      "text/html": [
       "<strong id=\"false_for_one_is_false_for_all\"><a class=\"ProveItLink\" href=\"proofs/false_for_one_is_false_for_all/thm_proof.ipynb\">false_for_one_is_false_for_all</a> (conjecture without proof):<br></strong> <a class=\"ProveItLink\" href=\"../__pv_it/theorems/607cd23e11e3f6eb9bb62580892b074da8c64fae0/theorem_expr.ipynb\"><img src=\"data:image/png;base64,iVBORw0KGgoAAAANSUhEUgAAA+cAAAAZBAMAAAChoEJ7AAAAMFBMVEX///8AAAAAAAAAAAAAAAAA\n",
       "AAAAAAAAAAAAAAAAAAAAAAAAAAAAAAAAAAAAAAAAAAAv3aB7AAAAD3RSTlMAq1RmmUTNIjK7EInv\n",
       "3XZ/CtNrAAAACXBIWXMAAA7EAAAOxAGVKw4bAAAJkklEQVRo3u1abYxU1Rl+d2Z27p2vu4OpRmpL\n",
       "xqhIgqxTXUxFgqMLUavEUfyjEh2DCbGJ9vKHhJbCtGmsWmS3GtQxBq7aGHHFHVm/iWaVECzVdDT4\n",
       "kcokg9haiizbpogsKdvzee+5955z7swYf+GbnJNzznvPc977Pvd8XwCN/LhpQ1fS0/xEWj4fTk2J\n",
       "l7+FM9uUw82CQpPgkdX8UPcclUq3BiTlxbESigwWPBFzasfYESW2HBCUTelFCR6BLtWe+22c2YaV\n",
       "pNF4UWXWMI/gYt1z3w3pz+DocxY8EXO3KTFDGqugyvW2VCBqTdvgEegybbryHZHO7SKNqslc5EaM\n",
       "9DxOn6MivYd00GLnpEsrPozL6jRYW47PeORnwEq815C1tUyqmYvCwek/zrzT4TlXDsgYKao0MtGA\n",
       "R6BLtKkicabO1Z2IxK4DCtKpWTmHR4z0Jbh0pYr0RBlTaHdOuqyiMc56O+nxfejTf8LhOVd+LoHr\n",
       "9zQ/xNFGt/vA18ile9yc274jmVtansZD8S9FsNJsRYBHoEu0a6kzda7uSMJ24UZlpFOzrDyPGOm/\n",
       "ccd7GekmfnJNF8O7rGICd+lBFmAI2XNhi+dcGVCSPuAOUo8RNPyO5kn0Yid5zls4lVTvTzUein+9\n",
       "hR9JVSPAI9Al2mupM3Wu7kQkdpGGlaSnp3jESMffSKagnNNx99rezZwuqdiHe/84C3AEOfdInedc\n",
       "yToq0okmhx1HPvAs+Ya/QeEEz3myR/X+VOOh+KWBwupI8Aj0sPYodabO1R3N5BK79uhIhxU8YqTj\n",
       "R5PqhdzFXS1BktKKQ+ilYxUaALbgUOU5r2pRRTrRYKcliONmk9lyEoVveM6TFfr391D8gr/SKyPB\n",
       "I9BDWnOKOlPn6k5EZtcKLenX8Iiv3t9vNv+iJj3bbO6rd0O6pOJhNsSTYR6O03GK5la9tY49lMmr\n",
       "SCca3D9z3pjZN0znCZIzzvqSL51fVL4/0XgoflnNersePAI9pLUazJkaV3ciPrte2P/sjgJpVEP6\n",
       "VzzipF8N8Lia9EQVUk43pEsqnsG6a5JNmMabBVbSuxu2sIfjpOMvbWL5wEc61ZwJMOF1N/Tuv/qQ\n",
       "55bbqSlW4xIy6xOQZt73/kTjoQRWclWwWpHgEeghbU+FOVPj6k7EZ1fJmpVokEYp6VKzbndYxElf\n",
       "BUZeTTrSrepqny6pWMOzaYEGsP69Y6wMrOT5Iizl3+a4qqdTDVoN/Y1kyWsfOWvHfJ5L74REg9W4\n",
       "QPnRU42LEhiI83RnowePQA9pU8PMmSFXX9bBZth8ifch0a64HZ/qKZJGNT19qMoiTnrKyZTFfdXe\n",
       "l2Fh3juceRxe7u5whla8+b8vzeAbtzvw2qNMA5mY6PoM5a4H+AzgadyeOakinWqSdowuj3fxhQHP\n",
       "JSYhV4eRF/F+bEj9/uBDCchKcnimBOddTYse0ibzzJkBV4M53olT3YlPtMuERIU1rCF9fZlFnPRY\n",
       "y1tcbJy5Cc7OOAnHI72/m6OkpFsx3oAM7yF7RdL7KgLpf4b0UTAn8IO9yp5ONbE62/3vYjtW9/2z\n",
       "wzBahhIZM5Yr359qXJTQmcxKHTgTPXpImysxZwquNvfXysE1bIS4T4t2IctarGEN6cT0UYF0qCxy\n",
       "N9JX4yOjVikjHMMm463uSKcVe0pgTQo93R3eh3i/Qbn0SYijh2KYdBJJ53Sqgcb94A7v5gneIsqN\n",
       "tuByvD1aj4axecrpbR74UIL8mMM6cCZ69JDW7emCqxdXAbok3WcXmqrttEMa1czp2CUkcknfjrbU\n",
       "8cGNX7ATxDnnrRNJz8xGkOmxQ7xjCElPRha9GiKdVIRsAXJ5gfRUiwY4wvsNyqX/gxY751NW48Oq\n",
       "ns40B06nhZvxwuAofwTlRgtwRsxeQF7uUuVHzzQcJbjQ/klZBz7w04kSRKFfqhzeiath4qovbHqm\n",
       "jGmMcq1XyEn32bW1/CPI0EZ1c7rNIpf0tcimp5cXs3aaeHVO5qlbBdKNt1G0zR7i5ghJz7BPzGMh\n",
       "0klFWO8YP+ClM9nERCanX4hT1WaYVypR0hN1FelMs63i7ZuSk8IuKtWK7cUXiG/yLZf0/ZmGoYxi\n",
       "t3/NEvhNPtaBp+fvhN2R6CFtD1/IEVdb9sxkYau7H4lwrVDYy6ZJn10XPnAd3Egb1ZAeWr3jfQr8\n",
       "8h/Q59DT+TlQOiiQjnc3sBg2AKwhMz1O9vYv8Z+vlgJLkiSvCAsnPnc3bnijaDZouGZ6M5/dUO7J\n",
       "Q7+fVaWk58oBu9FI/x4Z6ZmGH6o8iJJbjvO5B+XSs15b9U+Eh5flHwVA0KC3730y6DENQyHT7V53\n",
       "3mVHMypw44UKTEWifxQaPsa5M7Gr47DZpFdIcG810rVUT+Ue8pTfrj9NxAYLtNEQ6Z5ZCwkVELxa\n",
       "nYWWAvG7arWHEOkjSZF0umLYD+Y8hyezMOo/Oi1b+TDpRGYIpeR7+5QFT9wcIf3XyjktoMlV5Tns\n",
       "QKOhAlFr2gHvaeHVpB49rO2d8jkT0Kh4Sa1WK5gznEjXkkIms1tKK3GjmnvyK3jkJ/1dWGyaddrT\n",
       "e/sDpKePwcPP0R0sSRre10cHSTu1wBlYNldC+k7ft8GuTQbkVyyE9EGl5QGN/2LDzRklww7ekIhf\n",
       "f3s7YwV4tpooVSPQJdpdPtLNcQP+AOz2K8q1pDC+5KI6u6RUWIkb1ZAePHtnrpqET+fQ4yK0798f\n",
       "7Om7zaMLsGXpOk3CJpwcodEIZO2hZU7/cC5MunEseMuWsmkQzi5sgXT1LVRI86g0t+a+3zmae8F2\n",
       "bwzl4Osh99tqBLpEe63ozLWZSoIdVuKlmda1rDB2EB8OS9b6j4oNq0kP3bKxESgPh4qwBg0X5sc2\n",
       "/QNCJP2mi5AWWWa+Q5OJKk5usM3dKNpQ6B3sH0Pz1eow6QdPOIGzCLxaTPv44znjlROtwPcg/Ta4\n",
       "bJXm/jo9HaRMTaZa5OA3gDUWhS7RbhCdmfj7W/8C4zFOuta1vPBMoyIlfavYsJr0eJ5Hkt+l0q/X\n",
       "NgWOYcUZBF+S0eQblptEwtZEcOCW8PDuk9NwtI4FT8Tcl0qHhjRGS5WzlF+O1e7/IGrwCHSZtqcQ\n",
       "cuZITTycUbqWpRrWfEdGOreLNKomPWfzqNN/5MyvtgNQWpPT/+NJPErQzvwkzC1GkP4MnJqi+keO\n",
       "b8KUrmWpdD42Fn2U08E/cm2TTqQoScblJ3KyM6X6Kcr6XDnpcE+Ea8VCuLfQJemd/Q17d7e/aie/\n",
       "/+/dz0dZ7kyz0D6GUdXrD+9TkUmuUnBkNXeS5/4P7d9pkyFhIXUAAAAASUVORK5CYII=\n",
       "\" style=\"display:inline;vertical-align:middle;\" /></a><br>"
      ],
      "text/plain": [
       "<IPython.core.display.HTML object>"
      ]
     },
     "metadata": {},
     "output_type": "display_data"
    }
   ],
   "source": [
    "Pk_a1_to_an_false = ExprRange(k, Equals(Function(P, IndexedVar(a, k)), FALSE), one, n)\n",
    "false_for_one_is_false_for_all = Forall(\n",
    "        n,\n",
    "        Forall(\n",
    "            a_1_to_n,\n",
    "            Forall(\n",
    "                P,\n",
    "                Equals(Or(Pk_a1_to_an_false), Equals(Forall(x, Px, domain=Set(a_1_to_n)), FALSE)))),\n",
    "        domain = Natural)"
   ]
  },
  {
   "cell_type": "code",
   "execution_count": 33,
   "metadata": {},
   "outputs": [
    {
     "name": "stdout",
     "output_type": "stream",
     "text": [
      "These theorems may now be imported from the theory package: proveit.logic.sets.enumeration\n"
     ]
    }
   ],
   "source": [
    "%end theorems"
   ]
  },
  {
   "cell_type": "code",
   "execution_count": null,
   "metadata": {},
   "outputs": [],
   "source": []
  }
 ],
 "metadata": {
  "kernelspec": {
   "display_name": "Python 3",
   "language": "python",
   "name": "python3"
  }
 },
 "nbformat": 4,
 "nbformat_minor": 0
}