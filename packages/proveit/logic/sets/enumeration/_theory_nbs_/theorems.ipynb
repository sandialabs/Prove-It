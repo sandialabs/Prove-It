{
 "cells": [
  {
   "cell_type": "markdown",
   "metadata": {},
   "source": [
    "Theorems (or conjectures) for the theory of <a class=\"ProveItLink\" href=\"theory.ipynb\">proveit.logic.sets.enumeration</a>\n",
    "========"
   ]
  },
  {
   "cell_type": "code",
   "execution_count": null,
   "metadata": {},
   "outputs": [],
   "source": [
    "import proveit\n",
    "# Prepare this notebook for defining the theorems of a theory:\n",
    "%theorems_notebook # Keep this at the top following 'import proveit'.\n",
    "from proveit import ExprRange, Function, IndexedVar\n",
    "from proveit import a, b, c, d, i, j, k, m, n, x, y, A, P, Q, Px, Qx\n",
    "from proveit.logic import And, Boolean, TRUE, FALSE, Forall, Or\n",
    "from proveit.logic import (Equals, Implies, NotEquals, InSet, NotInSet, ProperSubset,\n",
    "                           Set, ProperSubset, SubsetEq)\n",
    "from proveit.numbers import one\n",
    "from proveit.core_expr_types import (a_1_to_i, a_1_to_m, a_1_to_n, b_1_to_j, b_1_to_n,\n",
    "                                              c_1_to_j, c_1_to_k, c_1_to_n,\n",
    "                                              d_1_to_k, Pk_a1_to_an, Qk_implies_Pk_a1_to_an, y_1_to_n)\n",
    "from proveit.logic.sets import x_equals_any_y, x_notequals_all_y\n",
    "from proveit.numbers import Natural\n",
    "%begin theorems"
   ]
  },
  {
   "cell_type": "code",
   "execution_count": null,
   "metadata": {},
   "outputs": [],
   "source": [
    "unfold = Forall(n, Forall((x, y_1_to_n), \n",
    "                          x_equals_any_y, \n",
    "                          conditions=[InSet(x, Set(y_1_to_n))]),\n",
    "                domain=Natural)"
   ]
  },
  {
   "cell_type": "code",
   "execution_count": null,
   "metadata": {},
   "outputs": [],
   "source": [
    "fold = Forall(n, Forall((x, y_1_to_n), \n",
    "                        InSet(x, Set(y_1_to_n)), \n",
    "                        conditions=[x_equals_any_y]),\n",
    "              domain=Natural)"
   ]
  },
  {
   "cell_type": "code",
   "execution_count": null,
   "metadata": {},
   "outputs": [],
   "source": [
    "nonmembership_equiv = Forall(n, Forall((x, y_1_to_n), \n",
    "                                      Equals(NotInSet(x, Set(y_1_to_n)), \n",
    "                                             x_notequals_all_y)),\n",
    "                           domain=Natural)"
   ]
  },
  {
   "cell_type": "code",
   "execution_count": null,
   "metadata": {},
   "outputs": [],
   "source": [
    "nonmembership_unfold = Forall(\n",
    "        n,\n",
    "        Forall((x, y_1_to_n), \n",
    "               x_notequals_all_y,\n",
    "               conditions=[NotInSet(x, Set(y_1_to_n))]),\n",
    "        domain=Natural)"
   ]
  },
  {
   "cell_type": "code",
   "execution_count": null,
   "metadata": {},
   "outputs": [],
   "source": [
    "nonmembership_fold = Forall(\n",
    "        n,\n",
    "        Forall((x, y_1_to_n), \n",
    "               NotInSet(x, Set(y_1_to_n)), \n",
    "               conditions=[x_notequals_all_y]),\n",
    "        domain=Natural)"
   ]
  },
  {
   "cell_type": "code",
   "execution_count": null,
   "metadata": {},
   "outputs": [],
   "source": [
    "singleton_def = Forall((x, y), Equals(InSet(x, Set(y)), Equals(x, y)))"
   ]
  },
  {
   "cell_type": "code",
   "execution_count": null,
   "metadata": {},
   "outputs": [],
   "source": [
    "unfold_singleton = Forall((x, y), Equals(x, y), conditions=[InSet(x, Set(y))])"
   ]
  },
  {
   "cell_type": "code",
   "execution_count": null,
   "metadata": {},
   "outputs": [],
   "source": [
    "fold_singleton = Forall((x, y), InSet(x, Set(y)), conditions=[Equals(x, y)])"
   ]
  },
  {
   "cell_type": "code",
   "execution_count": null,
   "metadata": {},
   "outputs": [],
   "source": [
    "nonmembership_unfold_singleton = Forall(\n",
    "        (x, y),\n",
    "        NotEquals(x, y),\n",
    "        conditions = [NotInSet(x, Set(y))])"
   ]
  },
  {
   "cell_type": "code",
   "execution_count": null,
   "metadata": {},
   "outputs": [],
   "source": [
    "nonmembership_fold_singleton = Forall(\n",
    "        (x, y),\n",
    "        NotInSet(x, Set(y)),\n",
    "        conditions = [NotEquals(x, y)])"
   ]
  },
  {
   "cell_type": "code",
   "execution_count": null,
   "metadata": {},
   "outputs": [],
   "source": [
    "not_in_singleton_equiv = Forall((x, y), Equals(NotInSet(x, Set(y)), NotEquals(x, y)))"
   ]
  },
  {
   "cell_type": "code",
   "execution_count": null,
   "metadata": {},
   "outputs": [],
   "source": [
    "in_enumerated_set = Forall(\n",
    "        (m, n),\n",
    "        Forall( (a_1_to_m, b, c_1_to_n),\n",
    "                InSet(b, Set(a_1_to_m, b, c_1_to_n))),\n",
    "        domain=Natural)"
   ]
  },
  {
   "cell_type": "code",
   "execution_count": null,
   "metadata": {},
   "outputs": [],
   "source": [
    "in_singleton_is_bool = Forall((x, y), InSet(InSet(x, Set(y)), Boolean))"
   ]
  },
  {
   "cell_type": "code",
   "execution_count": null,
   "metadata": {},
   "outputs": [],
   "source": [
    "not_in_singleton_is_bool = Forall((x, y), InSet(NotInSet(x, Set(y)), Boolean))"
   ]
  },
  {
   "cell_type": "code",
   "execution_count": null,
   "metadata": {},
   "outputs": [],
   "source": [
    "in_enum_set_is_bool = Forall(\n",
    "        n,\n",
    "        Forall((x, y_1_to_n), \n",
    "               InSet(InSet(x, Set(y_1_to_n)), Boolean)),\n",
    "        domain=Natural)"
   ]
  },
  {
   "cell_type": "code",
   "execution_count": null,
   "metadata": {},
   "outputs": [],
   "source": [
    "not_in_enum_set_is_bool = Forall(\n",
    "        n,\n",
    "        Forall((x, y_1_to_n), \n",
    "               InSet(NotInSet(x, Set(y_1_to_n)), Boolean)),\n",
    "        domain=Natural)"
   ]
  },
  {
   "cell_type": "code",
   "execution_count": null,
   "metadata": {},
   "outputs": [],
   "source": [
    "in_singleton_eval_true = Forall(\n",
    "    (x, y),\n",
    "    Equals(InSet(x, Set(y)), TRUE),\n",
    "    conditions=[Equals(x, y)])"
   ]
  },
  {
   "cell_type": "code",
   "execution_count": null,
   "metadata": {},
   "outputs": [],
   "source": [
    "in_singleton_eval_false = Forall(\n",
    "    (x, y),\n",
    "    Equals(InSet(x, Set(y)), FALSE),\n",
    "    conditions=[NotEquals(x, y)])"
   ]
  },
  {
   "cell_type": "markdown",
   "metadata": {},
   "source": [
    "## Theorems related to permutations of enumerated sets\n",
    "For example, the set {1, 2, 3} should be equivalent to the set {3, 2, 1}.<br>\n",
    "Here we adopt some of the terminology used in analogous theorems for disjunctions and conjunctions.<br>\n",
    "These theorems are generally not expected to be used directly but instead are intended to be implemented via Set methods such as permutation_simple() and permutation_general()."
   ]
  },
  {
   "cell_type": "markdown",
   "metadata": {},
   "source": [
    "For these permutation thms, we can use equals (=) instead of equivalence, because permutations of an enumerated Set are all actually the same set (even if expressed so they look like multisets). Thus {a, b} = {b, a}, of course, but we also have {a, b} = {a, b, a, b}."
   ]
  },
  {
   "cell_type": "code",
   "execution_count": null,
   "metadata": {},
   "outputs": [],
   "source": [
    "binary_permutation = Forall((a, b), Equals(Set(a, b), Set(b, a)))"
   ]
  },
  {
   "cell_type": "code",
   "execution_count": null,
   "metadata": {},
   "outputs": [],
   "source": [
    "leftward_permutation = Forall(\n",
    "    (i, j, k),\n",
    "    Forall((a_1_to_i, b_1_to_j, c, d_1_to_k),\n",
    "           Equals(Set(a_1_to_i, b_1_to_j, c, d_1_to_k),\n",
    "                  Set(a_1_to_i, c, b_1_to_j, d_1_to_k))),\n",
    "    domain = Natural)"
   ]
  },
  {
   "cell_type": "code",
   "execution_count": null,
   "metadata": {},
   "outputs": [],
   "source": [
    "rightward_permutation = Forall(\n",
    "    (i, j, k),\n",
    "    Forall((a_1_to_i, b, c_1_to_j, d_1_to_k),\n",
    "           Equals(Set(a_1_to_i, b, c_1_to_j, d_1_to_k),\n",
    "                  Set(a_1_to_i, c_1_to_j, b, d_1_to_k))),\n",
    "    domain = Natural)"
   ]
  },
  {
   "cell_type": "markdown",
   "metadata": {},
   "source": [
    "## Theorems related to reductions of enumerated sets\n",
    "For example, the set {1, 2, 3, 3} should be equal to the “reduced” version {1, 2, 3}, and more generally, any enumerated set written with multiplicities should be reduceable to a set where any or all of the multiplicites are reduced to single occurences.<br>"
   ]
  },
  {
   "cell_type": "code",
   "execution_count": null,
   "metadata": {},
   "outputs": [],
   "source": [
    "reduction_right = Forall(\n",
    "    (i, j, k),\n",
    "    Forall((a_1_to_i, x, b_1_to_j, c_1_to_k),\n",
    "           Equals(Set(a_1_to_i, x, b_1_to_j, x, c_1_to_k),\n",
    "                  Set(a_1_to_i, x, b_1_to_j, c_1_to_k)).with_wrap_after_operator()),\n",
    "    \n",
    "    domain = Natural)"
   ]
  },
  {
   "cell_type": "code",
   "execution_count": null,
   "metadata": {},
   "outputs": [],
   "source": [
    "reduction_left = Forall(\n",
    "    (i, j, k),\n",
    "    Forall((a_1_to_i, x, b_1_to_j, c_1_to_k),\n",
    "           Equals(Set(a_1_to_i, x, b_1_to_j, x, c_1_to_k),\n",
    "                  Set(a_1_to_i, b_1_to_j, x, c_1_to_k)).with_wrap_after_operator()),\n",
    "    \n",
    "    domain = Natural)"
   ]
  },
  {
   "cell_type": "markdown",
   "metadata": {},
   "source": [
    "## Theorems related to equality of enumerated sets\n",
    "For example, an enumerated set such as $\\{a, b, c\\}$ should be equal to the enumerated set $\\{a, d, c\\}$ when $b=d$."
   ]
  },
  {
   "cell_type": "code",
   "execution_count": null,
   "metadata": {},
   "outputs": [],
   "source": [
    "equal_element_equality = Forall(\n",
    "        (m, n),\n",
    "        Forall((a_1_to_m, b, c_1_to_n, d),\n",
    "               Equals(Set(a_1_to_m, b, c_1_to_n), Set(a_1_to_m, d, c_1_to_n)).with_wrap_after_operator(),\n",
    "               conditions=[Equals(b, d)]),\n",
    "        domain = Natural)"
   ]
  },
  {
   "cell_type": "markdown",
   "metadata": {},
   "source": [
    "## Theorems related to containment\n",
    "For example, any enumerated set is an improper subset of itself, and the enumerated set {1, 2, 3} is clearly a proper subset of {1, 2, 3, 4}. The SubsetEq version is easier to express than the proper subset version."
   ]
  },
  {
   "cell_type": "code",
   "execution_count": null,
   "metadata": {},
   "outputs": [],
   "source": [
    "subset_eq_of_superset = Forall(\n",
    "        (m, n),\n",
    "        Forall((a_1_to_m, b_1_to_n),\n",
    "               SubsetEq(Set(a_1_to_m), Set(a_1_to_m, b_1_to_n))),\n",
    "        domain = Natural)"
   ]
  },
  {
   "cell_type": "code",
   "execution_count": null,
   "metadata": {},
   "outputs": [],
   "source": [
    "proper_subset_of_superset = Forall(\n",
    "        (m, n),\n",
    "        Forall((a_1_to_m, b, c_1_to_n),\n",
    "               ProperSubset(Set(a_1_to_m), Set(a_1_to_m, b, c_1_to_n)),\n",
    "               conditions=[NotInSet(b, Set(a_1_to_m))]),\n",
    "        domain = Natural)"
   ]
  },
  {
   "cell_type": "markdown",
   "metadata": {},
   "source": [
    "## Theorems related to propositions over sets\n",
    "A proposition that is true for each element of a set is true for all elements in the set, and vice versa. For example, if $P(i)=\\text{TRUE}$ for $i\\in S=\\{1, 2, 3\\}$, then we have $\\forall_{i\\in S} P(i)$. On the other hand, if we know $\\forall_{i\\in S} P(i)$, then we know $P(1)\\land P(2)\\land P(3)$."
   ]
  },
  {
   "cell_type": "code",
   "execution_count": null,
   "metadata": {},
   "outputs": [],
   "source": [
    "true_for_each_is_true_for_all = Forall(\n",
    "        n,\n",
    "        Forall(\n",
    "            a_1_to_n,\n",
    "            Forall(\n",
    "                P,\n",
    "                Equals(And(Pk_a1_to_an), Forall(x, Px, domain=Set(a_1_to_n))))),\n",
    "        domain = Natural)"
   ]
  },
  {
   "cell_type": "code",
   "execution_count": null,
   "metadata": {},
   "outputs": [],
   "source": [
    "true_for_each_then_true_for_all = Forall(\n",
    "        n,\n",
    "        Forall(\n",
    "            a_1_to_n,\n",
    "            Forall(\n",
    "                P,\n",
    "                Forall(x, Px, domain=Set(a_1_to_n)),\n",
    "                condition=Pk_a1_to_an)),\n",
    "        domain = Natural)"
   ]
  },
  {
   "cell_type": "code",
   "execution_count": null,
   "metadata": {},
   "outputs": [],
   "source": [
    "true_for_all_then_true_for_each = Forall(\n",
    "        n,\n",
    "        Forall(\n",
    "            a_1_to_n,\n",
    "            Forall(\n",
    "                P,\n",
    "                And(Pk_a1_to_an),\n",
    "                condition=Forall(x, Px, domain=Set(a_1_to_n)))),\n",
    "        domain = Natural)"
   ]
  },
  {
   "cell_type": "code",
   "execution_count": null,
   "metadata": {},
   "outputs": [],
   "source": [
    "true_for_each_then_true_for_all_conditioned = Forall(\n",
    "        n,\n",
    "        Forall(\n",
    "            a_1_to_n,\n",
    "            Forall(\n",
    "                (P, Q),\n",
    "                Forall(x, Px, domain=Set(a_1_to_n), condition=Qx),\n",
    "                condition=Qk_implies_Pk_a1_to_an)),\n",
    "        domain = Natural)"
   ]
  },
  {
   "cell_type": "markdown",
   "metadata": {},
   "source": [
    "For the claim $\\forall_{i\\in S} P(i)$ to be false, we need only have a single $P(i)$ to be false."
   ]
  },
  {
   "cell_type": "code",
   "execution_count": null,
   "metadata": {},
   "outputs": [],
   "source": [
    "Pk_a1_to_an_false = ExprRange(k, Equals(Function(P, IndexedVar(a, k)), FALSE), one, n)\n",
    "false_for_one_is_false_for_all = Forall(\n",
    "        n,\n",
    "        Forall(\n",
    "            a_1_to_n,\n",
    "            Forall(\n",
    "                P,\n",
    "                Equals(Or(Pk_a1_to_an_false), Equals(Forall(x, Px, domain=Set(a_1_to_n)), FALSE)))),\n",
    "        domain = Natural)"
   ]
  },
  {
   "cell_type": "code",
   "execution_count": null,
   "metadata": {},
   "outputs": [],
   "source": [
    "%end theorems"
   ]
  },
  {
   "cell_type": "code",
   "execution_count": null,
   "metadata": {},
   "outputs": [],
   "source": []
  }
 ],
 "metadata": {
  "kernelspec": {
   "display_name": "Python 3",
   "language": "python",
   "name": "python3"
  }
 },
 "nbformat": 4,
 "nbformat_minor": 0
}
