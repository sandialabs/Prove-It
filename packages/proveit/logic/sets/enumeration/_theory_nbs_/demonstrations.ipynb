{
 "cells": [
  {
   "cell_type": "markdown",
   "metadata": {},
   "source": [
    "Demonstrations for the theory of <a class=\"ProveItLink\" href=\"theory.ipynb\">proveit.logic.sets.enumeration</a>\n",
    "========"
   ]
  },
  {
   "cell_type": "code",
   "execution_count": 1,
   "metadata": {},
   "outputs": [],
   "source": [
    "import proveit\n",
    "from proveit import ExprRange, InstantiationFailure, ProofFailure, used_vars, free_vars\n",
    "from proveit import a, b, c, d, e, i, l, m, n, x, y\n",
    "from proveit import A, B, C, D, E\n",
    "from proveit.logic import Boolean, TRUE, FALSE\n",
    "from proveit.logic import (Equals, Forall, InSet, NotEquals, NotInSet,\n",
    "                           Or, ProperSubset, Set, SubsetEq)\n",
    "from proveit.numbers import zero, one, two, three, four, five, six, seven, Add\n",
    "%begin demonstrations"
   ]
  },
  {
   "cell_type": "markdown",
   "metadata": {},
   "source": [
    "# Enumerated Sets $\\{a, b, \\ldots, n\\}$"
   ]
  },
  {
   "cell_type": "markdown",
   "metadata": {},
   "source": [
    "<div style=\"line-height:1.4; font-size:14pt\">\n",
    "<a href='#introduction'>Introduction</a><br>\n",
    "<a href='#simple_expressions'>Simple Expressions involving the enumerated Set class</a><br>\n",
    "<a href='#common_attributes'>Common Attributes of an enumerated Set</a><br>\n",
    "<a href='#axioms'>Axioms</a><br>\n",
    "<a href='#theorems_and_conjectures'>Theorems & Conjectures</a><br>\n",
    "<a href='#further_demonstrations'>Further Demonstrations</a><br>\n",
    "    <ol>\n",
    "        <li><a href='#demo01'>Deducing Set memberships such as $\\vdash b\\in\\{a, b, c\\}$, $\\vdash 1\\in\\{1, 2, 3\\}$, and $\\vdash \\{a, b\\}\\in\\{\\{\\}, \\{a\\}, \\{b\\}, \\{a, b\\}\\}$</a></li>\n",
    "        <li><a href='#demo02'>Deducing Set non-memberships such as $\\vdash 4\\notin\\{1, 2, 3\\}$ and $\\vdash d\\notin\\{a, b, c\\}$</a></li>\n",
    "        <li><a href='#demo03'>Deducing subset relationships between enumerated Sets: $\\vdash\\{2, 4, 6\\}\\subseteq\\{1, 2, 3, 4, 5, 6, 7\\}$ and $\\vdash\\{1, 3, 5, 1, 5\\}\\subseteq\\{1, 2, 3, 4, 5, 6, 7\\}$</a></li>\n",
    "        <li><a href='#demo04'>Instantiating the <span style=\"font-family:courier;\">proper_subset_of_superset</span> conjecture to deduce $\\{1, 2, 3\\}\\subset\\{1, 2, 3, 4, 5, 6\\}$</a></li>\n",
    "        <li><a href='#demo05'>Deducing that $\\{2, 4, 6\\}\\subset\\{1, 2, 3, 4, 5, 6\\}$ and $\\{c, b, a\\} \\subset \\{a, b, c, d, e\\}$</a></li>\n",
    "        <li><a href='#demo06'>Deducing that $\\{1, a, 1\\}\\subset\\{1, a, 1, b, 2, a\\}$ when $a = 1$</a></li>\n",
    "    </ol>\n",
    "<a href='#misc_testing'>Miscellaneous Testing</a><br>\n",
    "</div>"
   ]
  },
  {
   "cell_type": "markdown",
   "metadata": {},
   "source": [
    "## Introduction <a id='introduction'></a>"
   ]
  },
  {
   "cell_type": "markdown",
   "metadata": {},
   "source": [
    "Finite, explicitly enumerated sets (<i>i.e.</i>, sets defined by an explicit listing of elements) are ubiquitous in logic and mathematics, and regularly arise in theorems and proofs. For example, one might need to consider elements in the Boolean set: $\\mathbb{B}=\\{\\mathtt{TRUE}, \\mathtt{FALSE}\\} = \\{\\top, \\bot\\}$ or the integer equivalents $\\{1, 0\\}$, or perhaps a set of variables $\\{a, b, c\\}$ or that set's power set $\\{\\{\\}, \\{a\\}, \\{b\\}, \\{c\\}, \\{a, b\\}, \\{b, c\\}, \\{a, c\\}, \\{a, b, c\\} \\}$. Often, one needs to consider a finite but unspecified-size set such as $\\{a, b, \\ldots, n\\}$.<br/><br/>\n",
    "In Prove-It, we construct such finite enumerated sets with the `Set` class, which takes an arbitrary number of Prove-It expressions as arguments (including zero arguments for an empty set), like this: $\\mathtt{Set}(e_1, e_2, \\ldots, e_n)$. The result is a set of the elements $e_1$, $e_2$, $\\ldots$, $e_n$, where the initial order specified is preserved for display purposes but the order itself has no inherent meaning.<br/><br/>\n",
    "    Interestingly, you can also create redundantly populated sets such as $\\{a, b, a\\}$, which as we'll see below, are not considered multi-sets but instead are simply alternative representations of the reduced “support set” without the multiplicities — <i>e.g.</i>, $\\{a, b, a\\} = \\{a, b\\}$. Until one actively requests that a set such as $\\{a, b, a\\}$ be reduced to its support, Prove-It will continue to encode and display the set with the seeming multiplicities."
   ]
  },
  {
   "cell_type": "markdown",
   "metadata": {},
   "source": [
    "## Simple Expressions Involving Enumerated Sets<a id='simple_expressions'></a>"
   ]
  },
  {
   "cell_type": "markdown",
   "metadata": {},
   "source": [
    "Enumerated sets are easy to construct using the Set class, and such Sets are easily incorporated into other expressions. Various Set construction examples are shown below, including small Sets of literals and variables, a Set of Sets (including an empty set), and a finite Set of unspecified length:"
   ]
  },
  {
   "cell_type": "code",
   "execution_count": 2,
   "metadata": {},
   "outputs": [
    {
     "data": {
      "text/html": [
       "<strong id=\"set_123\">set_123:</strong> <a class=\"ProveItLink\" href=\"../__pv_it/demonstrations/eba50e6a800d671dd4d0a6d438da4909c2a02cb00/expr.ipynb\"><img src=\"data:image/png;base64,iVBORw0KGgoAAAANSUhEUgAAAEMAAAAVBAMAAADvM06qAAAAMFBMVEX///8AAAAAAAAAAAAAAAAA\n",
       "AAAAAAAAAAAAAAAAAAAAAAAAAAAAAAAAAAAAAAAAAAAv3aB7AAAAD3RSTlMAEER2zVSJ3Zki72ar\n",
       "MruaaVGaAAAACXBIWXMAAA7EAAAOxAGVKw4bAAABMUlEQVQoz2NgYGBUYsAFOCMhtIkiTiUMdx6C\n",
       "SNaPQIK3EKavw+8ChDUt4xGQfANishUwMMi0fIQqmcfA9gnMYGxgiA9gYEiHKWFghik5ycCwCsxg\n",
       "/sog74BVyXoBhvMTQAymRQz82JUcZ2A4D3UMQ/wGrEqAoB5KM1UzQJVwOKAq4f0MpW3OAkkrEHPW\n",
       "BlQl7AdgLJCP5gPxHCcGVCV9cBYXUJDxSAADb58AihJuqCG8Fxj4vgJdCjKB7wCKkjAGTrCn+T+C\n",
       "lcQLIPuIEaw5gYFZAMTiOgC2KAvuabafDODAZJje0dEOZnFvQA0XnlNfTjOwg6Ky/v//LxCWRscj\n",
       "BuSgA4NABkwWmpIEBkwWWAnzAiiP0YABg8XQAk5EX6E8Zrg4gsW4GkzNOIo77eYAwx8AI6NSKCFw\n",
       "CrwAAAAASUVORK5CYII=\n",
       "\" style=\"display:inline;vertical-align:middle;\" /></a><br>"
      ],
      "text/plain": [
       "<IPython.core.display.HTML object>"
      ]
     },
     "metadata": {},
     "output_type": "display_data"
    }
   ],
   "source": [
    "# A 3-element set of (literal) integers:\n",
    "set_123 = Set(one, two, three)"
   ]
  },
  {
   "cell_type": "code",
   "execution_count": 3,
   "metadata": {},
   "outputs": [
    {
     "data": {
      "text/html": [
       "<strong id=\"set_abc\">set_abc:</strong> <a class=\"ProveItLink\" href=\"../__pv_it/demonstrations/5b46355ca84b8e9ec433dff075b59837a937c4840/expr.ipynb\"><img src=\"data:image/png;base64,iVBORw0KGgoAAAANSUhEUgAAAEEAAAAVBAMAAADrxp6XAAAAMFBMVEX///8AAAAAAAAAAAAAAAAA\n",
       "AAAAAAAAAAAAAAAAAAAAAAAAAAAAAAAAAAAAAAAAAAAv3aB7AAAAD3RSTlMAEER2zVSJ3Zki72ar\n",
       "MruaaVGaAAAACXBIWXMAAA7EAAAOxAGVKw4bAAABJklEQVQoz2NgYGBUYsABOCMhtIkiLhUMdx6C\n",
       "SNaPyGJyy1GUvAERbAUoYh4ovHQsKr4SUsH0kZAKNBMRKuYkT4YIsRy2CYCqNd4LVcHhADR7JcN7\n",
       "AbC4vCPjT0hYlDL0MTBYgZizNjAwSG1gaIfojBdgWAxmsCeAGPOBBs5xAnL7GRjKICpaGBi+gRn9\n",
       "YDMZjwQw8PYBmesYGD9BVJQxMEH8uw7iGJB+vgMMjJ8ZuD/AgoMD7F+gENRSsF8YvzLwOEQygHh/\n",
       "QW4CMX4D3c/AkAXz7WOG8IYGxi9A3mmGFwxgBtAjuUjhIWN28/AFhnKgXpkMoNdADLbszQIYYcoq\n",
       "gM5AV8GGwYCoYF4A4wpjMEDBAwxeeHwbYDAYV4OpGUdxptMcYKADAC/PRZ++VkhWAAAAAElFTkSu\n",
       "QmCC\n",
       "\" style=\"display:inline;vertical-align:middle;\" /></a><br>"
      ],
      "text/plain": [
       "<IPython.core.display.HTML object>"
      ]
     },
     "metadata": {},
     "output_type": "display_data"
    }
   ],
   "source": [
    "# A 3-element set of variables:\n",
    "set_abc = Set(a, b, c)"
   ]
  },
  {
   "cell_type": "code",
   "execution_count": 4,
   "metadata": {},
   "outputs": [
    {
     "data": {
      "text/html": [
       "<strong id=\"set_123_abc\">set_123_abc:</strong> <a class=\"ProveItLink\" href=\"../__pv_it/demonstrations/b780ec2283aba3955eee904c9e7356c09eca98b60/expr.ipynb\"><img src=\"data:image/png;base64,iVBORw0KGgoAAAANSUhEUgAAAH0AAAAVBAMAAACZCfwhAAAAMFBMVEX///8AAAAAAAAAAAAAAAAA\n",
       "AAAAAAAAAAAAAAAAAAAAAAAAAAAAAAAAAAAAAAAAAAAv3aB7AAAAD3RSTlMAEER2zVSJ3Zki72ar\n",
       "MruaaVGaAAAACXBIWXMAAA7EAAAOxAGVKw4bAAAB7ElEQVQ4y2NgYGBUYiALcEZCaBNF8vQz3HkI\n",
       "Ilk/gsjrAlBDO/wuQFlpfQroOuSWo3DfgAi2AqAXTvhD9c9jYPsEYUkwsH7FsNIDhZcO08/AYA/V\n",
       "f5KBYRWEZR/A+AVD/1dC+tcLMJyfAGZpKTBg6Gf6SEj/cQaG89AAYGD9ja4fohaffiCohzHUN0BD\n",
       "8pilAYTFctgmAGqS8V6ofg4HVP28n6GMy2egDtGawAd1t7wj40+IkaUMfQwMViDmrA2o+tkPwFjQ\n",
       "8GdczcABdXe8AMNiiKIEEGM+0DFznBhQ9fch/LceLMjxAaQcDFoYGL6BGf1gGcYjAQy8fQIo+rlh\n",
       "1t9lYHgP9izXAwZ5aEoqY2CCuGkdJBBAdvMdQNEfxsAJib//AlD98gYM++HRzwEOCcbPMO8ghz+I\n",
       "x5vAwCzACBJZA3I/iCUfwHCEdQJY7C+D1AawMmDMMjEwZCHiL38CAzi5Te/oaGeQB0XJblD8g1h8\n",
       "BqwVHBCx0wwvIMqAgZSLHP9n1vtsYCgHmlz///8XBvZCUFrrAOYfEIvxcO4cW4iYTAYwskDK2LI3\n",
       "C6CkH3B8weMgkAEPC6EMTT8bXG0CPhYbavplXgDjCsMYjAb4WHBloOQATIrwPAlXwcyAj4UwcjWY\n",
       "mnGUzPIvB5g8AI14d52qZnFPAAAAAElFTkSuQmCC\n",
       "\" style=\"display:inline;vertical-align:middle;\" /></a><br>"
      ],
      "text/plain": [
       "<IPython.core.display.HTML object>"
      ]
     },
     "metadata": {},
     "output_type": "display_data"
    }
   ],
   "source": [
    "# A 6-element set of combining literals and variables:\n",
    "set_123_abc = Set(one, two, three, a, b, c)"
   ]
  },
  {
   "cell_type": "code",
   "execution_count": 5,
   "metadata": {},
   "outputs": [
    {
     "data": {
      "text/html": [
       "<strong id=\"power_set_ab\">power_set_ab:</strong> <a class=\"ProveItLink\" href=\"../__pv_it/demonstrations/55be749f9a090e370ea2a04ccb0ee0cd5301a5ab0/expr.ipynb\"><img src=\"data:image/png;base64,iVBORw0KGgoAAAANSUhEUgAAAL0AAAAVBAMAAADhtvKAAAAAMFBMVEX///8AAAAAAAAAAAAAAAAA\n",
       "AAAAAAAAAAAAAAAAAAAAAAAAAAAAAAAAAAAAAAAAAAAv3aB7AAAAD3RSTlMAEER2zVSJ3Zki72ar\n",
       "MruaaVGaAAAACXBIWXMAAA7EAAAOxAGVKw4bAAACRElEQVQ4y52UwWsTQRTG3xh3m9Q2GeytFLZ6\n",
       "9NIFRVAQQsBbD9uT9NSAQqAo1It6zEHwoNiAKCIBvUpB8h+00KRH6VHBg+JNClZt7857k5l5bzvk\n",
       "kHeYzPy+977dzb63AKAug4mLy7V1YGEpgKQmjX5e9yIwBMmu8tols1RaGr79YClEMQTFNIz5z/os\n",
       "DGFlW5n8wXUDwVHIsJSCUUxTv7bMpr4nIHtuJlNlimfo+MWGpVCitD/flbpIEHJnKv9GMdGfydP5\n",
       "r+iJ/kyezr8DE/3LphP8+3dfRfxXr47O+tcObuT2xGSqrDZxfYrLzVCD9NxH+K0FxTR1orMeVD4I\n",
       "CFd6ddtxXKbKdwO8/A5u3xe+BuniAJ5Jimmmc2dzqJ0KqHaguuUa28tY2W9hypAmUA2dFdFtgEeC\n",
       "Upp5skYbYOm2gMcw03YP7mWsnH+J7/sLjVra8gOI9BOov4JSmvFZMRe8t8zh7HfILOAyVbJRY4No\n",
       "qPoHF45L43lE/b2t+XwjzHLY9e3v5Y1Sq25Shh73jzqFuea6oJjWODR/NqT0ApWDWQHDpIdHLm/G\n",
       "+lOdOPoT7nS7guJ+blDvuqqsOYb1PHlSpSOX4/3/2D3V0vWv+4eC4l4dPPdVMw8d3H/Qv0VHLsf9\n",
       "Ex2b30SLCRzra3Is16Qc90+j34cUYv5t6d+O+LNRoyGGhUChRMMs26lXuYAqlzJVhlFTNMSQB0pF\n",
       "jIZZXhzQXUhY8fdE8rjy7Qj9XhS1+wX70hBFQVCTRr9vRhEYgmSq/A+QoLtebuKXsAAAAABJRU5E\n",
       "rkJggg==\n",
       "\" style=\"display:inline;vertical-align:middle;\" /></a><br>"
      ],
      "text/plain": [
       "<IPython.core.display.HTML object>"
      ]
     },
     "metadata": {},
     "output_type": "display_data"
    }
   ],
   "source": [
    "# A 4-element set of enumerated sets, including an empty set:\n",
    "power_set_ab = Set(Set(), Set(a), Set(b), Set(a, b))"
   ]
  },
  {
   "cell_type": "code",
   "execution_count": 6,
   "metadata": {},
   "outputs": [
    {
     "data": {
      "text/html": [
       "<strong id=\"set_1_to_n\">set_1_to_n:</strong> <a class=\"ProveItLink\" href=\"../__pv_it/demonstrations/4cc217863e5b4c9d7e6986ce76dee1f8e8c3cddf0/expr.ipynb\"><img src=\"data:image/png;base64,iVBORw0KGgoAAAANSUhEUgAAAGsAAAAVBAMAAACzuQ2OAAAAMFBMVEX///8AAAAAAAAAAAAAAAAA\n",
       "AAAAAAAAAAAAAAAAAAAAAAAAAAAAAAAAAAAAAAAAAAAv3aB7AAAAD3RSTlMAEER2zVSJ3Zki72ar\n",
       "MruaaVGaAAAACXBIWXMAAA7EAAAOxAGVKw4bAAABWElEQVQ4y2NgYGBUYiAFcEZCaBNFkrQx3HkI\n",
       "Ilk/AgneQphZHX4XCOl7AyLYChgYZFo+QoXmMbB9IqQtHaaNgRmm7SQDwyoytK0XYDg/gXRtxxkY\n",
       "zl8gXRsQ1ONSzmQjmfwYpo3DAVUb72dc2tj4DjPIA31gBeLM2oCqjf0ALm1K7A8Y5gN9MD+AgWGO\n",
       "EwOqtj6cfhKQV2CIFwAmqyMBDLx9AijauA/gDot4BoYjIMeCbOI7gKItjIETZwQA9fxmZADbiAhJ\n",
       "RnCAJDAwCzBicSCIWAZMiWwMDFnwCGD7ycAgDwrS6R0d7RAWiGD8gszg/MvA7LAXKd54Tn05zcAO\n",
       "Ss71//9/gbDYG4BEBYxRDrSOqYCB8XQAcnSDQSADJgsGWAWwpRIwSGDAZMGjGj1xMS+A8hgNGDBY\n",
       "cCCMxG4BZ8yvUB4zXJwZMySRDGJcDaZmHCWtLMkBhgoAxDlTE66gZiQAAAAASUVORK5CYII=\n",
       "\" style=\"display:inline;vertical-align:middle;\" /></a><br>"
      ],
      "text/plain": [
       "<IPython.core.display.HTML object>"
      ]
     },
     "metadata": {},
     "output_type": "display_data"
    }
   ],
   "source": [
    "# a set of the first n positive integers\n",
    "# set_1_to_n = Set(Iter(i, i, one, n))\n",
    "set_1_to_n = Set(ExprRange(i, i, one, n))"
   ]
  },
  {
   "cell_type": "code",
   "execution_count": 7,
   "metadata": {},
   "outputs": [
    {
     "data": {
      "text/html": [
       "<a class=\"ProveItLink\" href=\"../__pv_it/demonstrations/66dc8fa766ad28acf1daef9463eb6b3790df6dff0/expr.ipynb\"><img src=\"data:image/png;base64,iVBORw0KGgoAAAANSUhEUgAAAGoAAAAVBAMAAABce2awAAAAMFBMVEX///8AAAAAAAAAAAAAAAAA\n",
       "AAAAAAAAAAAAAAAAAAAAAAAAAAAAAAAAAAAAAAAAAAAv3aB7AAAAD3RSTlMAEHarMolUmd1mIs3v\n",
       "RLtmgJDEAAAACXBIWXMAAA7EAAAOxAGVKw4bAAABpklEQVQ4y2NgwAYY7zLgBMsW4JLRvohbF4ud\n",
       "AHYJto8g0gMqy1W+zwHKCq27wMDAZ4BdF2sD0JHm+6G61jGw/oWwxBnYvkFkceliYNCH6rJiYDgD\n",
       "YeknMP7G0MX0oqMbi67zAgz2kBC4c4EBQxfvJgGsdlkwMNg7wHz8EyorpCwSmgASWS2A3YVA0A9j\n",
       "3JgAlS1gMmIHq9oFV8S+AVUXyycow8kYaCnTAQYGzgWcH5kngIQ2wHWtmYCqiwMe1qAw5AJiFqjJ\n",
       "DCwnOjo6+kCsxXsZUHXVITwPDBoG4W1ABo8CJBU9gDuoTgBFFyfMKhcGhvfAIIgGRjXD/QWMYHlE\n",
       "gEJiH64rlYELEvL/BUC6QClH7oINAytYTAlLLIM0sgQwMAkwgkQOg13ICgyNfMcahmtgtdwJqLri\n",
       "FzCAkgLDivLyCgZ5kOdnwuNLXImtEqKc0e4isi7j85snMHQALev///83A0cjKB2Ug1IvWorijUNJ\n",
       "UeCQhodjIpr7caVeMAsuFkBQFyj2IUAInrsV0FIOJgDFPgTA1TIhZGUm4Mjly81wlwBLgXIArgVk\n",
       "vUQn1ksAAAAASUVORK5CYII=\n",
       "\" style=\"display:inline;vertical-align:middle;\" /></a>"
      ],
      "text/plain": [
       "x in {1, 2, 3}"
      ]
     },
     "metadata": {},
     "output_type": "display_data"
    }
   ],
   "source": [
    "# Claim that x is a member of the set {a, b, c}\n",
    "InSet(x, set_123)"
   ]
  },
  {
   "cell_type": "code",
   "execution_count": 8,
   "metadata": {},
   "outputs": [
    {
     "data": {
      "text/html": [
       "<a class=\"ProveItLink\" href=\"../__pv_it/demonstrations/b9b2ca1a9df3e84d9a1f72b4806e7d17f28e2ba00/expr.ipynb\"><img src=\"data:image/png;base64,iVBORw0KGgoAAAANSUhEUgAAAWEAAAAXBAMAAAAo3eOMAAAAMFBMVEX///8AAAAAAAAAAAAAAAAA\n",
       "AAAAAAAAAAAAAAAAAAAAAAAAAAAAAAAAAAAAAAAAAAAv3aB7AAAAD3RSTlMAq1RmmUTNIjK7EInv\n",
       "3XZ/CtNrAAAACXBIWXMAAA7EAAAOxAGVKw4bAAAEWklEQVRIx81WXWgcVRT+dmZ2dzL74xYRay0y\n",
       "YPGlalMtFVE0tDFqtbLom1hd9KHgg460VEujri8SjSZ9EbM+1BWKGIsS8xqsqyBIRV3rD1IIbFq1\n",
       "ENo1VEhKXtZ7zr13s5m5s9v1qQe+mTt37nzz3XPPOfcCfVtaIcaCK+jppOrVs44mwP+xswox9nS4\n",
       "I+/Hjk02TORdiAkFeri5D8HWjITJ3DNC4GCoc6t57MGRKeCcgdy0FnMPF5mY8AD17O9D8ccKBvto\n",
       "ZFVcn6dmokoTIBd6JbOIo/iqiBQNwya6TCCe+DisS5JY4A359ZXbbgWT5UnxDmrZJHagLC7OoHFo\n",
       "IkC2BnuI2vfRZQrxxP/43rIkFqBZZvw+FNcUYhVn2W91gUPUyJqHZleRWAFOUTtHXishnvipIpYl\n",
       "sYAtXJDqJ4xLEvGKU+zUWYFd1LjFPDRRR+Iy8By1yWOOjy7EsP6VxIQf5ue/70OxMyPhNTeNzxoV\n",
       "ZziZDyk/4xGBzxc+mYuuY24J+ALKvzlNbiTGvkFJTHgI+GDdy3sMgTe+R7f0RB0sNPZSx955sp/X\n",
       "FNvsqEQZea5d5MWh/E0OyXd47HxBUk2K9zu5tRFoanIj8cSGsiQmvIR0YV2FErHkMZE3t4FC8sDt\n",
       "G5Uv2DG+xF24v3qt0ccWB6NbQI4D+rT4TWCvJqJ+IDG3ckuk/xlNbiTmWkHEhIFqpqjFLlSKHEsT\n",
       "F3mNwI65ERc6ojFblChjJCaO3SXIirmF79+KHjiGAHWoQk3KhQusIU1uJAZ+qjIxwWq0E2+4rKP/\n",
       "Nnq8ppgWuYExfGlQDPwYozhZUxvHfq1YfNGIDt7OVUBtHKlAk5uIx4APfSZm8hKVw+aDfwZyt1pT\n",
       "bFdZMfBLh2IdFUiu4FNjHFt1OdCVVf40XZ4JvGoojsX29rL6kcjRt9rkJuJWlRQTMZPPin0kH9yQ\n",
       "8qf5K7utWGQm//xv4aB9WvFAg+G9l6hhxuhjWyrNb5fBdgyYLm5GJpLMwCJwt3w4d50mNxJ/zVFB\n",
       "xEw+KqZs45iLJ/jtm+U1xe9y7njip6lF9bEqMdbl47VkpGBlVlSJoq9+l30iZ7e9/SgeD+/Svw4P\n",
       "12XtE/ZZSZMbie/keqwLK9UhYeJfOyuViu9yfZCK06rsTZZhvaCzs87wHmtsuSOyK2xeFlmeU4m8\n",
       "S81aHAua1u6wiFyr1RIyf1NZ6GtyI3FyWJyEmFiTU01L0zrRahbaig9SpHnf4fVBjLa//kMh1l4N\n",
       "SSt3O2vX1z/3JG6Tj2ZKjqhznZl3AumpsT3ejKiU91Y79tod+rDT7ajUYfKwE7eDhqp0T+I2ufPX\n",
       "yUWhUCs+8uJJvONnW60l9xuMN6/vPB0MBBKxbgsfBN/vIuJw6LkXcZj8REXtIGwytCz5sKbYOyoR\n",
       "Z5GfTndRHJ5NL2LjjJIqtJIcI3gyrBivKcTY+YhvGrFj8xEBPYjPG9+oqmDLmww091lcxeYazvev\n",
       "XD3y/gP/hDo2n8oLywAAAABJRU5ErkJggg==\n",
       "\" style=\"display:inline;vertical-align:middle;\" /></a>"
      ],
      "text/plain": [
       "forall_{x in {1, 2, 3}} ((x = 1) or (x = 2) or (x = 3))"
      ]
     },
     "metadata": {},
     "output_type": "display_data"
    }
   ],
   "source": [
    "# A more elaborate claim about what it means for x to be a member\n",
    "# of the set {1, 2, 3}. Notice the set appears as a domain specification:\n",
    "Forall(x, Or(Equals(x, one), Equals(x, two), Equals(x, three)), domain=set_123)"
   ]
  },
  {
   "cell_type": "markdown",
   "metadata": {},
   "source": [
    "## Common Attributes of enumerated Set expressions <a id='common_attributes'></a>"
   ]
  },
  {
   "cell_type": "markdown",
   "metadata": {},
   "source": [
    "Let's look at some simple examples of enumerated sets and their common attributes."
   ]
  },
  {
   "cell_type": "code",
   "execution_count": 9,
   "metadata": {},
   "outputs": [
    {
     "data": {
      "text/html": [
       "<a class=\"ProveItLink\" href=\"../__pv_it/demonstrations/eba50e6a800d671dd4d0a6d438da4909c2a02cb00/expr.ipynb\"><img src=\"data:image/png;base64,iVBORw0KGgoAAAANSUhEUgAAAEMAAAAVBAMAAADvM06qAAAAMFBMVEX///8AAAAAAAAAAAAAAAAA\n",
       "AAAAAAAAAAAAAAAAAAAAAAAAAAAAAAAAAAAAAAAAAAAv3aB7AAAAD3RSTlMAEER2zVSJ3Zki72ar\n",
       "MruaaVGaAAAACXBIWXMAAA7EAAAOxAGVKw4bAAABMUlEQVQoz2NgYGBUYsAFOCMhtIkiTiUMdx6C\n",
       "SNaPQIK3EKavw+8ChDUt4xGQfANishUwMMi0fIQqmcfA9gnMYGxgiA9gYEiHKWFghik5ycCwCsxg\n",
       "/sog74BVyXoBhvMTQAymRQz82JUcZ2A4D3UMQ/wGrEqAoB5KM1UzQJVwOKAq4f0MpW3OAkkrEHPW\n",
       "BlQl7AdgLJCP5gPxHCcGVCV9cBYXUJDxSAADb58AihJuqCG8Fxj4vgJdCjKB7wCKkjAGTrCn+T+C\n",
       "lcQLIPuIEaw5gYFZAMTiOgC2KAvuabafDODAZJje0dEOZnFvQA0XnlNfTjOwg6Ky/v//LxCWRscj\n",
       "BuSgA4NABkwWmpIEBkwWWAnzAiiP0YABg8XQAk5EX6E8Zrg4gsW4GkzNOIo77eYAwx8AI6NSKCFw\n",
       "CrwAAAAASUVORK5CYII=\n",
       "\" style=\"display:inline;vertical-align:middle;\" /></a>"
      ],
      "text/plain": [
       "{1, 2, 3}"
      ]
     },
     "metadata": {},
     "output_type": "display_data"
    },
    {
     "data": {
      "text/html": [
       "<a class=\"ProveItLink\" href=\"../__pv_it/demonstrations/5b46355ca84b8e9ec433dff075b59837a937c4840/expr.ipynb\"><img src=\"data:image/png;base64,iVBORw0KGgoAAAANSUhEUgAAAEEAAAAVBAMAAADrxp6XAAAAMFBMVEX///8AAAAAAAAAAAAAAAAA\n",
       "AAAAAAAAAAAAAAAAAAAAAAAAAAAAAAAAAAAAAAAAAAAv3aB7AAAAD3RSTlMAEER2zVSJ3Zki72ar\n",
       "MruaaVGaAAAACXBIWXMAAA7EAAAOxAGVKw4bAAABJklEQVQoz2NgYGBUYsABOCMhtIkiLhUMdx6C\n",
       "SNaPyGJyy1GUvAERbAUoYh4ovHQsKr4SUsH0kZAKNBMRKuYkT4YIsRy2CYCqNd4LVcHhADR7JcN7\n",
       "AbC4vCPjT0hYlDL0MTBYgZizNjAwSG1gaIfojBdgWAxmsCeAGPOBBs5xAnL7GRjKICpaGBi+gRn9\n",
       "YDMZjwQw8PYBmesYGD9BVJQxMEH8uw7iGJB+vgMMjJ8ZuD/AgoMD7F+gENRSsF8YvzLwOEQygHh/\n",
       "QW4CMX4D3c/AkAXz7WOG8IYGxi9A3mmGFwxgBtAjuUjhIWN28/AFhnKgXpkMoNdADLbszQIYYcoq\n",
       "gM5AV8GGwYCoYF4A4wpjMEDBAwxeeHwbYDAYV4OpGUdxptMcYKADAC/PRZ++VkhWAAAAAElFTkSu\n",
       "QmCC\n",
       "\" style=\"display:inline;vertical-align:middle;\" /></a>"
      ],
      "text/plain": [
       "{a, b, c}"
      ]
     },
     "metadata": {},
     "output_type": "display_data"
    },
    {
     "data": {
      "text/html": [
       "<a class=\"ProveItLink\" href=\"../__pv_it/demonstrations/55be749f9a090e370ea2a04ccb0ee0cd5301a5ab0/expr.ipynb\"><img src=\"data:image/png;base64,iVBORw0KGgoAAAANSUhEUgAAAL0AAAAVBAMAAADhtvKAAAAAMFBMVEX///8AAAAAAAAAAAAAAAAA\n",
       "AAAAAAAAAAAAAAAAAAAAAAAAAAAAAAAAAAAAAAAAAAAv3aB7AAAAD3RSTlMAEER2zVSJ3Zki72ar\n",
       "MruaaVGaAAAACXBIWXMAAA7EAAAOxAGVKw4bAAACRElEQVQ4y52UwWsTQRTG3xh3m9Q2GeytFLZ6\n",
       "9NIFRVAQQsBbD9uT9NSAQqAo1It6zEHwoNiAKCIBvUpB8h+00KRH6VHBg+JNClZt7857k5l5bzvk\n",
       "kHeYzPy+977dzb63AKAug4mLy7V1YGEpgKQmjX5e9yIwBMmu8tols1RaGr79YClEMQTFNIz5z/os\n",
       "DGFlW5n8wXUDwVHIsJSCUUxTv7bMpr4nIHtuJlNlimfo+MWGpVCitD/flbpIEHJnKv9GMdGfydP5\n",
       "r+iJ/kyezr8DE/3LphP8+3dfRfxXr47O+tcObuT2xGSqrDZxfYrLzVCD9NxH+K0FxTR1orMeVD4I\n",
       "CFd6ddtxXKbKdwO8/A5u3xe+BuniAJ5Jimmmc2dzqJ0KqHaguuUa28tY2W9hypAmUA2dFdFtgEeC\n",
       "Upp5skYbYOm2gMcw03YP7mWsnH+J7/sLjVra8gOI9BOov4JSmvFZMRe8t8zh7HfILOAyVbJRY4No\n",
       "qPoHF45L43lE/b2t+XwjzHLY9e3v5Y1Sq25Shh73jzqFuea6oJjWODR/NqT0ApWDWQHDpIdHLm/G\n",
       "+lOdOPoT7nS7guJ+blDvuqqsOYb1PHlSpSOX4/3/2D3V0vWv+4eC4l4dPPdVMw8d3H/Qv0VHLsf9\n",
       "Ex2b30SLCRzra3Is16Qc90+j34cUYv5t6d+O+LNRoyGGhUChRMMs26lXuYAqlzJVhlFTNMSQB0pF\n",
       "jIZZXhzQXUhY8fdE8rjy7Qj9XhS1+wX70hBFQVCTRr9vRhEYgmSq/A+QoLtebuKXsAAAAABJRU5E\n",
       "rkJggg==\n",
       "\" style=\"display:inline;vertical-align:middle;\" /></a>"
      ],
      "text/plain": [
       "{{}, {a}, {b}, {a, b}}"
      ]
     },
     "metadata": {},
     "output_type": "display_data"
    }
   ],
   "source": [
    "# Recall some enumerated sets defined earlier:\n",
    "display(set_123)\n",
    "display(set_abc)\n",
    "display(power_set_ab)"
   ]
  },
  {
   "cell_type": "markdown",
   "metadata": {},
   "source": [
    "We can look at the construction of such expressions by calling <font style=\"font-family:courier\">expr_info()</font> to see the table version of the expression's underlying directed acyclic graph (DAG) representation:"
   ]
  },
  {
   "cell_type": "code",
   "execution_count": 10,
   "metadata": {},
   "outputs": [
    {
     "data": {
      "text/html": [
       "<table><tr><th>&nbsp;</th><th>core type</th><th>sub-expressions</th><th>expression</th></tr>\n",
       "<tr><td>0</td><td>Operation</td><td>operator:&nbsp;1<br>operands:&nbsp;2<br></td><td><a class=\"ProveItLink\" href=\"../__pv_it/demonstrations/eba50e6a800d671dd4d0a6d438da4909c2a02cb00/expr.ipynb\"><img src=\"data:image/png;base64,iVBORw0KGgoAAAANSUhEUgAAAEMAAAAVBAMAAADvM06qAAAAMFBMVEX///8AAAAAAAAAAAAAAAAA\n",
       "AAAAAAAAAAAAAAAAAAAAAAAAAAAAAAAAAAAAAAAAAAAv3aB7AAAAD3RSTlMAEER2zVSJ3Zki72ar\n",
       "MruaaVGaAAAACXBIWXMAAA7EAAAOxAGVKw4bAAABMUlEQVQoz2NgYGBUYsAFOCMhtIkiTiUMdx6C\n",
       "SNaPQIK3EKavw+8ChDUt4xGQfANishUwMMi0fIQqmcfA9gnMYGxgiA9gYEiHKWFghik5ycCwCsxg\n",
       "/sog74BVyXoBhvMTQAymRQz82JUcZ2A4D3UMQ/wGrEqAoB5KM1UzQJVwOKAq4f0MpW3OAkkrEHPW\n",
       "BlQl7AdgLJCP5gPxHCcGVCV9cBYXUJDxSAADb58AihJuqCG8Fxj4vgJdCjKB7wCKkjAGTrCn+T+C\n",
       "lcQLIPuIEaw5gYFZAMTiOgC2KAvuabafDODAZJje0dEOZnFvQA0XnlNfTjOwg6Ky/v//LxCWRscj\n",
       "BuSgA4NABkwWmpIEBkwWWAnzAiiP0YABg8XQAk5EX6E8Zrg4gsW4GkzNOIo77eYAwx8AI6NSKCFw\n",
       "CrwAAAAASUVORK5CYII=\n",
       "\" style=\"display:inline;vertical-align:middle;\" /></a></td></tr>\n",
       "<tr><td>1</td><td>Literal</td><td></td><td><a class=\"ProveItLink\" href=\"../__pv_it/common/0ead90ccbf4f17bc585a51f8aa904bb77916ae6e0/expr.ipynb\"><img src=\"data:image/png;base64,iVBORw0KGgoAAAANSUhEUgAAABsAAAAOBAMAAAAs4XpOAAAAMFBMVEX///8AAAAAAAAAAAAAAAAA\n",
       "AAAAAAAAAAAAAAAAAAAAAAAAAAAAAAAAAAAAAAAAAAAv3aB7AAAAD3RSTlMAEJlU3TLNiWa77yJE\n",
       "dqs3h7YHAAAACXBIWXMAAA7EAAAOxAGVKw4bAAAAoUlEQVQI12NgVFIyUGCAA5EABpMECJMdiIsY\n",
       "GDig3E1AnA7EEyDcS0A8awMDQwOYx/oJSNh/PwAkuXWLGOy+vDNg4P3/P4eBIWoDbwKDE0iNxKv/\n",
       "DSDWZwgXKPWB9QfITBAXaAzPH+ZPHR2tYC7Ikq+sn0GqnBgKGHyAxn5gWAdUw5AE5LoZMIg1MEQd\n",
       "YKhmKANyHxyqewNUoHR9AwPfcwEAddkrVbL2pUYAAAAASUVORK5CYII=\n",
       "\" style=\"display:inline;vertical-align:middle;\" /></a></td></tr>\n",
       "<tr><td>2</td><td>ExprTuple</td><td>3, 4, 5</td><td><a class=\"ProveItLink\" href=\"../__pv_it/demonstrations/5b3d89e688be9943ebc87bd91520843b41ee7dc70/expr.ipynb\"><img src=\"data:image/png;base64,iVBORw0KGgoAAAANSUhEUgAAAD0AAAAVBAMAAAAHs/uBAAAAMFBMVEX///8AAAAAAAAAAAAAAAAA\n",
       "AAAAAAAAAAAAAAAAAAAAAAAAAAAAAAAAAAAAAAAAAAAv3aB7AAAAD3RSTlMAInZUiRDNmWbv3US7\n",
       "qzJazP2FAAAACXBIWXMAAA7EAAAOxAGVKw4bAAABQUlEQVQoz3WSv0vDQBhAX5rWNqmROglOcXBu\n",
       "B3Hu4CoNLi4OXQQX0UGMg0M3XYTuIi04CIIQ3HSq/gHq5lQo4tRBK6I4Ge+ul2sN9OBy7+59ufvu\n",
       "B1BiUlEmU5nor+VnSdR+oEfm9h+GYK0cRmQakKuTe97R3upQixStY3/CJuRFDGXtvRJOU1G5kvuG\n",
       "I3AY884X3oeimwjhnYDlce+18X51KvYPTDXYG/eiuAMNt2Lh7BNbKf/uD9uXbg8Kdc5T/ioBmb/d\n",
       "5PS/z3dMZCtgZpD2J7p9g8cKxWZqfrvKrII4kN5uc594FfIKi4rO1PyFDqtyuFZCHhfWRRi2FR2r\n",
       "/eer9EWn29pucCl+c+M4risqhuJ+cCPcXrK0yXFE8+IIdjVnzcZGdCDqneY1M2rIkoexoTu+8Yam\n",
       "5QOz/InvawH+AJ8qTWbUkLkDAAAAAElFTkSuQmCC\n",
       "\" style=\"display:inline;vertical-align:middle;\" /></a></td></tr>\n",
       "<tr><td>3</td><td>Literal</td><td></td><td><a class=\"ProveItLink\" href=\"../../../../numbers/numerals/__pv_it/common/682157d4892d216d9e5626ed533aff9b56b9506e0/expr.ipynb\"><img src=\"data:image/png;base64,iVBORw0KGgoAAAANSUhEUgAAAAgAAAAOBAMAAADgeEClAAAAJ1BMVEX///8AAAAAAAAAAAAAAAAA\n",
       "AAAAAAAAAAAAAAAAAAAAAAAAAAAAAAAilU6eAAAADHRSTlMAMt0Qq5nNdoki72YJhDyyAAAACXBI\n",
       "WXMAAA7EAAAOxAGVKw4bAAAAH0lEQVQI12NgYFRmYDAJO8zAwMBOMsFxkoGBxeuYNwB0KguGAVQB\n",
       "OAAAAABJRU5ErkJggg==\n",
       "\" style=\"display:inline;vertical-align:middle;\" /></a></td></tr>\n",
       "<tr><td>4</td><td>Literal</td><td></td><td><a class=\"ProveItLink\" href=\"../../../../numbers/numerals/__pv_it/common/af4aab8a07465db063742696e006d04670f30cf10/expr.ipynb\"><img src=\"data:image/png;base64,iVBORw0KGgoAAAANSUhEUgAAAAkAAAAOBAMAAAAPuiubAAAAMFBMVEX///8AAAAAAAAAAAAAAAAA\n",
       "AAAAAAAAAAAAAAAAAAAAAAAAAAAAAAAAAAAAAAAAAAAv3aB7AAAAD3RSTlMAIpnNuzKJRKvvEN12\n",
       "ZlQ4bmvwAAAACXBIWXMAAA7EAAAOxAGVKw4bAAAATklEQVQI12NgVDIJYGAQYWD7zsDQyMAwk4Fh\n",
       "/gKGfgGGbgaGfqAEA8N+EMH6B0RyN4BIFRDBC2Y+Y2AUYGBNYOBZwCCtpKQNVPz//2cGAEeID1mi\n",
       "/zO7AAAAAElFTkSuQmCC\n",
       "\" style=\"display:inline;vertical-align:middle;\" /></a></td></tr>\n",
       "<tr><td>5</td><td>Literal</td><td></td><td><a class=\"ProveItLink\" href=\"../../../../numbers/numerals/__pv_it/common/1943b60945420e340d305780feff5c1aff2740ff0/expr.ipynb\"><img src=\"data:image/png;base64,iVBORw0KGgoAAAANSUhEUgAAAAoAAAAOBAMAAADkjZCYAAAAMFBMVEX///8AAAAAAAAAAAAAAAAA\n",
       "AAAAAAAAAAAAAAAAAAAAAAAAAAAAAAAAAAAAAAAAAAAv3aB7AAAAD3RSTlMAIomZu0QQVHbN72bd\n",
       "Mqv0UZE7AAAACXBIWXMAAA7EAAAOxAGVKw4bAAAATElEQVQI12NgEFJ2ZWBgM2CoL2Dg+M6QP4GB\n",
       "dSkD/wQGIKjfACRYTwMJ3r63DGCRAhDJ9Y2B9wIDy3cG/m8gkusBSIR7A1h9sLErAwDNcRLUUVUn\n",
       "vwAAAABJRU5ErkJggg==\n",
       "\" style=\"display:inline;vertical-align:middle;\" /></a></td></tr>\n",
       "</table>\n"
      ],
      "text/plain": [
       "0. {1, 2, 3}\n",
       "   core type: Operation\n",
       "   operator: 1\n",
       "   operands: 2\n",
       "1. Set\n",
       "   core type: Literal\n",
       "   sub-expressions: \n",
       "2. (1, 2, 3)\n",
       "   core type: ExprTuple\n",
       "   sub-expressions: 3, 4, 5\n",
       "3. 1\n",
       "   core type: Literal\n",
       "   sub-expressions: \n",
       "4. 2\n",
       "   core type: Literal\n",
       "   sub-expressions: \n",
       "5. 3\n",
       "   core type: Literal\n",
       "   sub-expressions: "
      ]
     },
     "metadata": {},
     "output_type": "display_data"
    }
   ],
   "source": [
    "# See how an enumerated set expression is constructed:\n",
    "set_123.expr_info()"
   ]
  },
  {
   "cell_type": "markdown",
   "metadata": {},
   "source": [
    "We can access the elements of an enumerated Set as operands of the Set class or somewhat more intuitively as elements of the Set, either of which return a tuple of the elements:"
   ]
  },
  {
   "cell_type": "code",
   "execution_count": 11,
   "metadata": {},
   "outputs": [
    {
     "data": {
      "text/html": [
       "<a class=\"ProveItLink\" href=\"../__pv_it/demonstrations/5b3d89e688be9943ebc87bd91520843b41ee7dc70/expr.ipynb\"><img src=\"data:image/png;base64,iVBORw0KGgoAAAANSUhEUgAAAD0AAAAVBAMAAAAHs/uBAAAAMFBMVEX///8AAAAAAAAAAAAAAAAA\n",
       "AAAAAAAAAAAAAAAAAAAAAAAAAAAAAAAAAAAAAAAAAAAv3aB7AAAAD3RSTlMAInZUiRDNmWbv3US7\n",
       "qzJazP2FAAAACXBIWXMAAA7EAAAOxAGVKw4bAAABQUlEQVQoz3WSv0vDQBhAX5rWNqmROglOcXBu\n",
       "B3Hu4CoNLi4OXQQX0UGMg0M3XYTuIi04CIIQ3HSq/gHq5lQo4tRBK6I4Ge+ul2sN9OBy7+59ufvu\n",
       "B1BiUlEmU5nor+VnSdR+oEfm9h+GYK0cRmQakKuTe97R3upQixStY3/CJuRFDGXtvRJOU1G5kvuG\n",
       "I3AY884X3oeimwjhnYDlce+18X51KvYPTDXYG/eiuAMNt2Lh7BNbKf/uD9uXbg8Kdc5T/ioBmb/d\n",
       "5PS/z3dMZCtgZpD2J7p9g8cKxWZqfrvKrII4kN5uc594FfIKi4rO1PyFDqtyuFZCHhfWRRi2FR2r\n",
       "/eer9EWn29pucCl+c+M4risqhuJ+cCPcXrK0yXFE8+IIdjVnzcZGdCDqneY1M2rIkoexoTu+8Yam\n",
       "5QOz/InvawH+AJ8qTWbUkLkDAAAAAElFTkSuQmCC\n",
       "\" style=\"display:inline;vertical-align:middle;\" /></a>"
      ],
      "text/plain": [
       "(1, 2, 3)"
      ]
     },
     "metadata": {},
     "output_type": "display_data"
    }
   ],
   "source": [
    "# the elements of the enumerated, as a tuple of elements\n",
    "set_123.operands"
   ]
  },
  {
   "cell_type": "code",
   "execution_count": 12,
   "metadata": {},
   "outputs": [
    {
     "data": {
      "text/html": [
       "<a class=\"ProveItLink\" href=\"../__pv_it/demonstrations/5b3d89e688be9943ebc87bd91520843b41ee7dc70/expr.ipynb\"><img src=\"data:image/png;base64,iVBORw0KGgoAAAANSUhEUgAAAD0AAAAVBAMAAAAHs/uBAAAAMFBMVEX///8AAAAAAAAAAAAAAAAA\n",
       "AAAAAAAAAAAAAAAAAAAAAAAAAAAAAAAAAAAAAAAAAAAv3aB7AAAAD3RSTlMAInZUiRDNmWbv3US7\n",
       "qzJazP2FAAAACXBIWXMAAA7EAAAOxAGVKw4bAAABQUlEQVQoz3WSv0vDQBhAX5rWNqmROglOcXBu\n",
       "B3Hu4CoNLi4OXQQX0UGMg0M3XYTuIi04CIIQ3HSq/gHq5lQo4tRBK6I4Ge+ul2sN9OBy7+59ufvu\n",
       "B1BiUlEmU5nor+VnSdR+oEfm9h+GYK0cRmQakKuTe97R3upQixStY3/CJuRFDGXtvRJOU1G5kvuG\n",
       "I3AY884X3oeimwjhnYDlce+18X51KvYPTDXYG/eiuAMNt2Lh7BNbKf/uD9uXbg8Kdc5T/ioBmb/d\n",
       "5PS/z3dMZCtgZpD2J7p9g8cKxWZqfrvKrII4kN5uc594FfIKi4rO1PyFDqtyuFZCHhfWRRi2FR2r\n",
       "/eer9EWn29pucCl+c+M4risqhuJ+cCPcXrK0yXFE8+IIdjVnzcZGdCDqneY1M2rIkoexoTu+8Yam\n",
       "5QOz/InvawH+AJ8qTWbUkLkDAAAAAElFTkSuQmCC\n",
       "\" style=\"display:inline;vertical-align:middle;\" /></a>"
      ],
      "text/plain": [
       "(1, 2, 3)"
      ]
     },
     "metadata": {},
     "output_type": "display_data"
    }
   ],
   "source": [
    "# or more intuitively, using the elements attribute:\n",
    "set_123.elements"
   ]
  },
  {
   "cell_type": "markdown",
   "metadata": {},
   "source": [
    "Of course, we can also access each of the elements individually:"
   ]
  },
  {
   "cell_type": "code",
   "execution_count": 13,
   "metadata": {},
   "outputs": [
    {
     "data": {
      "text/html": [
       "<strong id=\"e1\">e1:</strong> <a class=\"ProveItLink\" href=\"../../../../numbers/numerals/__pv_it/common/682157d4892d216d9e5626ed533aff9b56b9506e0/expr.ipynb\"><img src=\"data:image/png;base64,iVBORw0KGgoAAAANSUhEUgAAAAgAAAAOBAMAAADgeEClAAAAJ1BMVEX///8AAAAAAAAAAAAAAAAA\n",
       "AAAAAAAAAAAAAAAAAAAAAAAAAAAAAAAilU6eAAAADHRSTlMAMt0Qq5nNdoki72YJhDyyAAAACXBI\n",
       "WXMAAA7EAAAOxAGVKw4bAAAAH0lEQVQI12NgYFRmYDAJO8zAwMBOMsFxkoGBxeuYNwB0KguGAVQB\n",
       "OAAAAABJRU5ErkJggg==\n",
       "\" style=\"display:inline;vertical-align:middle;\" /></a><br>"
      ],
      "text/plain": [
       "<IPython.core.display.HTML object>"
      ]
     },
     "metadata": {},
     "output_type": "display_data"
    },
    {
     "data": {
      "text/html": [
       "<strong id=\"e2\">e2:</strong> <a class=\"ProveItLink\" href=\"../../../../numbers/numerals/__pv_it/common/af4aab8a07465db063742696e006d04670f30cf10/expr.ipynb\"><img src=\"data:image/png;base64,iVBORw0KGgoAAAANSUhEUgAAAAkAAAAOBAMAAAAPuiubAAAAMFBMVEX///8AAAAAAAAAAAAAAAAA\n",
       "AAAAAAAAAAAAAAAAAAAAAAAAAAAAAAAAAAAAAAAAAAAv3aB7AAAAD3RSTlMAIpnNuzKJRKvvEN12\n",
       "ZlQ4bmvwAAAACXBIWXMAAA7EAAAOxAGVKw4bAAAATklEQVQI12NgVDIJYGAQYWD7zsDQyMAwk4Fh\n",
       "/gKGfgGGbgaGfqAEA8N+EMH6B0RyN4BIFRDBC2Y+Y2AUYGBNYOBZwCCtpKQNVPz//2cGAEeID1mi\n",
       "/zO7AAAAAElFTkSuQmCC\n",
       "\" style=\"display:inline;vertical-align:middle;\" /></a><br>"
      ],
      "text/plain": [
       "<IPython.core.display.HTML object>"
      ]
     },
     "metadata": {},
     "output_type": "display_data"
    },
    {
     "data": {
      "text/html": [
       "<strong id=\"e3\">e3:</strong> <a class=\"ProveItLink\" href=\"../../../../numbers/numerals/__pv_it/common/1943b60945420e340d305780feff5c1aff2740ff0/expr.ipynb\"><img src=\"data:image/png;base64,iVBORw0KGgoAAAANSUhEUgAAAAoAAAAOBAMAAADkjZCYAAAAMFBMVEX///8AAAAAAAAAAAAAAAAA\n",
       "AAAAAAAAAAAAAAAAAAAAAAAAAAAAAAAAAAAAAAAAAAAv3aB7AAAAD3RSTlMAIomZu0QQVHbN72bd\n",
       "Mqv0UZE7AAAACXBIWXMAAA7EAAAOxAGVKw4bAAAATElEQVQI12NgEFJ2ZWBgM2CoL2Dg+M6QP4GB\n",
       "dSkD/wQGIKjfACRYTwMJ3r63DGCRAhDJ9Y2B9wIDy3cG/m8gkusBSIR7A1h9sLErAwDNcRLUUVUn\n",
       "vwAAAABJRU5ErkJggg==\n",
       "\" style=\"display:inline;vertical-align:middle;\" /></a><br>"
      ],
      "text/plain": [
       "<IPython.core.display.HTML object>"
      ]
     },
     "metadata": {},
     "output_type": "display_data"
    }
   ],
   "source": [
    "# and we can grab any single element:\n",
    "e1, e2, e3 = set_123.elements[0], set_123.elements[1], set_123.elements[2]"
   ]
  },
  {
   "cell_type": "markdown",
   "metadata": {},
   "source": [
    "And we can grab a slice of the elements:"
   ]
  },
  {
   "cell_type": "code",
   "execution_count": 14,
   "metadata": {},
   "outputs": [
    {
     "data": {
      "text/html": [
       "<a class=\"ProveItLink\" href=\"../../../../numbers/numerals/decimals/__pv_it/theorems/507125bf20ae8af40b63f375b7417e5dd7fd6bd00/expr.ipynb\"><img src=\"data:image/png;base64,iVBORw0KGgoAAAANSUhEUgAAACkAAAAVBAMAAAAp9toTAAAAMFBMVEX///8AAAAAAAAAAAAAAAAA\n",
       "AAAAAAAAAAAAAAAAAAAAAAAAAAAAAAAAAAAAAAAAAAAv3aB7AAAAD3RSTlMAInZUiRDNmWbv3US7\n",
       "qzJazP2FAAAACXBIWXMAAA7EAAAOxAGVKw4bAAABG0lEQVQY012RsUvDQBSHvzStaVIjdRKc4uBs\n",
       "BnHu4CoGFxeHLIKjgxgHh266CNlFDDgIghDcdIr+Aeo/IBRxctCKKE7Gu5dLwYbkeL+P4933ckCX\n",
       "/4/kRjhGr/SyCDO79xWwlvdzGn1oxVgFq7nQdexP2ASnj9/FTYUuhK1vOABXvV/4H0KvcxR1I5bA\n",
       "z/B/zVH2D0z02ZHgDQ29UUc1H9mS8B5U8PlpAO2YM0mXtax2sFOOde0UoxlOI6aGFT0y6A0eQjqp\n",
       "dLB7TAstI03tjDsVXmCeSBUn0qFdsKKmP0+STA/Fofg6PV6VbFmWMRdqcydRfwcvxxvUTlGtMauU\n",
       "t03dHMntqe/W1Gs1tLT8hglBTSf1FVnB2A3NwR83rj/Fv5U17AAAAABJRU5ErkJggg==\n",
       "\" style=\"display:inline;vertical-align:middle;\" /></a>"
      ],
      "text/plain": [
       "(2, 3)"
      ]
     },
     "metadata": {},
     "output_type": "display_data"
    }
   ],
   "source": [
    "# grab a slice of the elements:\n",
    "set_123.operands[1:3]"
   ]
  },
  {
   "cell_type": "markdown",
   "metadata": {},
   "source": [
    "We can get the set of all variables appearing in a Set, which returns an empty set if there no variables, and returns a reduced set if there are multiple instances of any variables:"
   ]
  },
  {
   "cell_type": "code",
   "execution_count": 15,
   "metadata": {},
   "outputs": [
    {
     "data": {
      "text/html": [
       "<a class=\"ProveItLink\" href=\"../__pv_it/demonstrations/1a4193f1deeaf7a4a6b6289328d46189ae6a257f0/expr.ipynb\"><img src=\"data:image/png;base64,iVBORw0KGgoAAAANSUhEUgAAAAwAAAAVBAMAAACAghKHAAAAMFBMVEX///8AAAAAAAAAAAAAAAAA\n",
       "AAAAAAAAAAAAAAAAAAAAAAAAAAAAAAAAAAAAAAAAAAAv3aB7AAAAD3RSTlMAInZUiRDNmWbv3US7\n",
       "qzJazP2FAAAACXBIWXMAAA7EAAAOxAGVKw4bAAAAcklEQVQI12NgYBBgZAACJgNuBSBlwsCgwcDA\n",
       "msDAwBbAwN7AwMBRwMAJkp/KYAaiMhhKQJQvkAEEbQyLQZQlw2wQ9R5C7YQIWjEcAlE9QLVAUMLw\n",
       "CkStZuB6wMDAuABkLNj4gwwMMkDxGDCLgVGBSYABAJpvEmISwLzKAAAAAElFTkSuQmCC\n",
       "\" style=\"display:inline;vertical-align:middle;\" /></a>"
      ],
      "text/plain": [
       "()"
      ]
     },
     "metadata": {},
     "output_type": "display_data"
    }
   ],
   "source": [
    "# the set of variables used in the enumerated set\n",
    "# (in this case an empty set because the set contains only literals)\n",
    "used_vars(set_123)"
   ]
  },
  {
   "cell_type": "code",
   "execution_count": 16,
   "metadata": {},
   "outputs": [
    {
     "data": {
      "text/html": [
       "<a class=\"ProveItLink\" href=\"../__pv_it/demonstrations/7e77007ab939c31a1621c6727a37ea62ad6373da0/expr.ipynb\"><img src=\"data:image/png;base64,iVBORw0KGgoAAAANSUhEUgAAADsAAAAVBAMAAAAKrYvGAAAAMFBMVEX///8AAAAAAAAAAAAAAAAA\n",
       "AAAAAAAAAAAAAAAAAAAAAAAAAAAAAAAAAAAAAAAAAAAv3aB7AAAAD3RSTlMAInZUiRDNmWbv3US7\n",
       "qzJazP2FAAAACXBIWXMAAA7EAAAOxAGVKw4bAAABP0lEQVQoz3VSMUvDQBh9aZpeU6PJXBBSQXCS\n",
       "DOpcxElQ8gOEZBFchA4ObmbTzY6CS0HFNbg5Nbq5iRbnzE5d4uy76yVDSTLke/e9+77vvbsD4KHh\n",
       "U0QraKJf5G8H1seklm4lgBUDnVF9+SkguMVt6H8N2AzTsJ62Q+wxHDZo6yS4YDjf+NaJ/a1cRWM2\n",
       "8IH2J86o7i+MFub7gcgUePWcAujGeADMAravso8aWHcQNGuOcU/xMdyhzIpCzxBz9JhZm0uaaKqs\n",
       "2VkpOUOUAitj2Zy2r5S1yNc0wS2DOcE76ZyzLC5dHlEqQRTgx/TQzXAErCbOCBEPl7LbuQSObz4L\n",
       "rof4pc7ZJQU8sergZlMB6+t4fZu5FL1cz9vFMkCf1svbGmIZgE3xtoBWqboCMKTPE3331SOoih15\n",
       "0obf9JgGwD981DwX1XgQDAAAAABJRU5ErkJggg==\n",
       "\" style=\"display:inline;vertical-align:middle;\" /></a>"
      ],
      "text/plain": [
       "(b, c, a)"
      ]
     },
     "metadata": {},
     "output_type": "display_data"
    }
   ],
   "source": [
    "# the set of variables used in the enumerated set\n",
    "used_vars(set_abc)"
   ]
  },
  {
   "cell_type": "code",
   "execution_count": 17,
   "metadata": {},
   "outputs": [
    {
     "data": {
      "text/html": [
       "<strong id=\"set_aba\">set_aba:</strong> <a class=\"ProveItLink\" href=\"../__pv_it/demonstrations/cab81c0ea47d9e8332641bb8195ed5fb994c162a0/expr.ipynb\"><img src=\"data:image/png;base64,iVBORw0KGgoAAAANSUhEUgAAAEMAAAAVBAMAAADvM06qAAAAMFBMVEX///8AAAAAAAAAAAAAAAAA\n",
       "AAAAAAAAAAAAAAAAAAAAAAAAAAAAAAAAAAAAAAAAAAAv3aB7AAAAD3RSTlMAEER2zVSJ3Zki72ar\n",
       "MruaaVGaAAAACXBIWXMAAA7EAAAOxAGVKw4bAAABGklEQVQoz2NgYGBUYsAFOCMhtIkiTiUMdx6C\n",
       "SNaPyGJyy1HVvAERbAUoYh6oStKxKPlKUAnTR4JK0MxEUjIneTJEiOWwTQCEBRECK+FwABq/kuG9\n",
       "AFhC3pHxJ8RGiJAViD1rAwOD1AaGdojeeAGGxWAGVGg+0Mw5TkBGPwNDGURJCwPDNzADKsR4JICB\n",
       "tw9o3DoGxk8QJWUMTBBvQ4XYQCbwHWBg/MzA/QEWLBxgb8OE4gUgPmL8ysDjEMkA4v0FOQLIgAox\n",
       "ZME8/ZghvKGB8QuQd5rhBQOYARZCChcZs5uHLzCUA3XLZAA9CGaAhdBDl1UAnYGhhA2DAVXCvADG\n",
       "FcZggMMJmPjg0W+AwWBgXA2mZhzFnXZzgOEPABcxTNtl6VlQAAAAAElFTkSuQmCC\n",
       "\" style=\"display:inline;vertical-align:middle;\" /></a><br>"
      ],
      "text/plain": [
       "<IPython.core.display.HTML object>"
      ]
     },
     "metadata": {},
     "output_type": "display_data"
    }
   ],
   "source": [
    "# define a set with two instances of the same variable\n",
    "set_aba = Set(a, b, a)"
   ]
  },
  {
   "cell_type": "code",
   "execution_count": 18,
   "metadata": {},
   "outputs": [
    {
     "data": {
      "text/html": [
       "<strong id=\"set_aba_operands\">set_aba_operands:</strong> <a class=\"ProveItLink\" href=\"../__pv_it/demonstrations/a304a206041e1bc4b59c46f05d66cf7762641b740/expr.ipynb\"><img src=\"data:image/png;base64,iVBORw0KGgoAAAANSUhEUgAAAD0AAAAVBAMAAAAHs/uBAAAAMFBMVEX///8AAAAAAAAAAAAAAAAA\n",
       "AAAAAAAAAAAAAAAAAAAAAAAAAAAAAAAAAAAAAAAAAAAv3aB7AAAAD3RSTlMAInZUiRDNmWbv3US7\n",
       "qzJazP2FAAAACXBIWXMAAA7EAAAOxAGVKw4bAAABLUlEQVQoz3WSsUvDQBTGv/Rsr4nRZhaEq3+A\n",
       "dFDnzIKSP6CQLAUXoUOHbmZztKPgUhBxLW5OjW5uosW5s1OXdu67e0nJteSGu+/9Pnj33rsDEKBq\n",
       "GafWqfTf9HZWAvWvcdmvpYSSMmn0rQQ9QKZl0LIvuwdcC0wjK3QjXFjg0i6wkWJAhzNrKwa3J78s\n",
       "GO1944aC98Bfcv2rKOZxMGomeCb6CMl9iSVckylHYoQnamEBLzS+TNAyKkeHC+27GeKJ8YlNTYc5\n",
       "2h/p/LHCw6b9O9NhjsQYnxR08CeCuvbndLEWjNDMcAX4SrxKxDTog9TvG8EIMsQ/FftzfXwK74XU\n",
       "bAgWBsGbwJsXwzrfETiiEWxeLNwRoGz4KN5ebQs4GW3d4jNgW8DXs3ZU5f9qA2s4VT7gnHi7KgAA\n",
       "AABJRU5ErkJggg==\n",
       "\" style=\"display:inline;vertical-align:middle;\" /></a><br>"
      ],
      "text/plain": [
       "<IPython.core.display.HTML object>"
      ]
     },
     "metadata": {},
     "output_type": "display_data"
    }
   ],
   "source": [
    "# notice that the operands include multiplicities\n",
    "set_aba_operands = set_aba.operands"
   ]
  },
  {
   "cell_type": "code",
   "execution_count": 19,
   "metadata": {},
   "outputs": [
    {
     "data": {
      "text/html": [
       "<strong id=\"set_aba_elements\">set_aba_elements:</strong> <a class=\"ProveItLink\" href=\"../__pv_it/demonstrations/a304a206041e1bc4b59c46f05d66cf7762641b740/expr.ipynb\"><img src=\"data:image/png;base64,iVBORw0KGgoAAAANSUhEUgAAAD0AAAAVBAMAAAAHs/uBAAAAMFBMVEX///8AAAAAAAAAAAAAAAAA\n",
       "AAAAAAAAAAAAAAAAAAAAAAAAAAAAAAAAAAAAAAAAAAAv3aB7AAAAD3RSTlMAInZUiRDNmWbv3US7\n",
       "qzJazP2FAAAACXBIWXMAAA7EAAAOxAGVKw4bAAABLUlEQVQoz3WSsUvDQBTGv/Rsr4nRZhaEq3+A\n",
       "dFDnzIKSP6CQLAUXoUOHbmZztKPgUhBxLW5OjW5uosW5s1OXdu67e0nJteSGu+/9Pnj33rsDEKBq\n",
       "GafWqfTf9HZWAvWvcdmvpYSSMmn0rQQ9QKZl0LIvuwdcC0wjK3QjXFjg0i6wkWJAhzNrKwa3J78s\n",
       "GO1944aC98Bfcv2rKOZxMGomeCb6CMl9iSVckylHYoQnamEBLzS+TNAyKkeHC+27GeKJ8YlNTYc5\n",
       "2h/p/LHCw6b9O9NhjsQYnxR08CeCuvbndLEWjNDMcAX4SrxKxDTog9TvG8EIMsQ/FftzfXwK74XU\n",
       "bAgWBsGbwJsXwzrfETiiEWxeLNwRoGz4KN5ebQs4GW3d4jNgW8DXs3ZU5f9qA2s4VT7gnHi7KgAA\n",
       "AABJRU5ErkJggg==\n",
       "\" style=\"display:inline;vertical-align:middle;\" /></a><br>"
      ],
      "text/plain": [
       "<IPython.core.display.HTML object>"
      ]
     },
     "metadata": {},
     "output_type": "display_data"
    }
   ],
   "source": [
    "# and the elements attribute includes multiplicities\n",
    "set_aba_elements = set_aba.elements"
   ]
  },
  {
   "cell_type": "code",
   "execution_count": 20,
   "metadata": {},
   "outputs": [
    {
     "data": {
      "text/html": [
       "<strong id=\"set_aba_vars\">set_aba_vars:</strong> <a class=\"ProveItLink\" href=\"../__pv_it/demonstrations/cb8a0f010497603ed946ad30fd4266f3ff7bab730/expr.ipynb\"><img src=\"data:image/png;base64,iVBORw0KGgoAAAANSUhEUgAAACkAAAAVBAMAAAAp9toTAAAAMFBMVEX///8AAAAAAAAAAAAAAAAA\n",
       "AAAAAAAAAAAAAAAAAAAAAAAAAAAAAAAAAAAAAAAAAAAv3aB7AAAAD3RSTlMAInZUiRDNmWbv3US7\n",
       "qzJazP2FAAAACXBIWXMAAA7EAAAOxAGVKw4bAAABEElEQVQY012RMUvDUBSFvzSmaWq0mQUh9QdI\n",
       "B3XOLCj5AUKyCC5CBwc3sznaUXApiLgWN6dGNzfR0rmzU5c6e17SBtMM75735eXcc1+AgPpT7Bu9\n",
       "NfpilgOcj+F/2sjASaHZrx0+B1dvOnWTW/BUxnGNejFHKsf1ds2MK5XLve9yb026IWx8cqGGv3FS\n",
       "hn4N/AW0Uh7BXuCFBjr3uAppD3hQjJROZKg7py2xPTdUalxk83KSEWwOjIPi3hTZkpA7FXvIu+hM\n",
       "ho6hPaZ2QCvnBLYyv0+iyf3QfnZlH/Gj1pNrmT9JfJ3u7kuOaM+WEx1Ws+0o8uq+oorqS95K6YQr\n",
       "aOVazpZ3XR31zfRWuPaHuvAHRhIwwdwtKQIAAAAASUVORK5CYII=\n",
       "\" style=\"display:inline;vertical-align:middle;\" /></a><br>"
      ],
      "text/plain": [
       "<IPython.core.display.HTML object>"
      ]
     },
     "metadata": {},
     "output_type": "display_data"
    }
   ],
   "source": [
    "# but the tuple of variables used is just (a, b)\n",
    "# and the order of appearance is not guaranteed\n",
    "set_aba_vars = used_vars(set_aba)"
   ]
  },
  {
   "cell_type": "markdown",
   "metadata": {},
   "source": [
    "We can also dig into a Set in terms of its sub-expressions:"
   ]
  },
  {
   "cell_type": "code",
   "execution_count": 21,
   "metadata": {},
   "outputs": [
    {
     "data": {
      "text/html": [
       "<strong id=\"subexpr0\">subexpr0:</strong> <a class=\"ProveItLink\" href=\"../__pv_it/common/0ead90ccbf4f17bc585a51f8aa904bb77916ae6e0/expr.ipynb\"><img src=\"data:image/png;base64,iVBORw0KGgoAAAANSUhEUgAAABsAAAAOBAMAAAAs4XpOAAAAMFBMVEX///8AAAAAAAAAAAAAAAAA\n",
       "AAAAAAAAAAAAAAAAAAAAAAAAAAAAAAAAAAAAAAAAAAAv3aB7AAAAD3RSTlMAEJlU3TLNiWa77yJE\n",
       "dqs3h7YHAAAACXBIWXMAAA7EAAAOxAGVKw4bAAAAoUlEQVQI12NgVFIyUGCAA5EABpMECJMdiIsY\n",
       "GDig3E1AnA7EEyDcS0A8awMDQwOYx/oJSNh/PwAkuXWLGOy+vDNg4P3/P4eBIWoDbwKDE0iNxKv/\n",
       "DSDWZwgXKPWB9QfITBAXaAzPH+ZPHR2tYC7Ikq+sn0GqnBgKGHyAxn5gWAdUw5AE5LoZMIg1MEQd\n",
       "YKhmKANyHxyqewNUoHR9AwPfcwEAddkrVbL2pUYAAAAASUVORK5CYII=\n",
       "\" style=\"display:inline;vertical-align:middle;\" /></a><br>"
      ],
      "text/plain": [
       "<IPython.core.display.HTML object>"
      ]
     },
     "metadata": {},
     "output_type": "display_data"
    },
    {
     "data": {
      "text/html": [
       "<strong id=\"subexpr_1\">subexpr_1:</strong> <a class=\"ProveItLink\" href=\"../__pv_it/demonstrations/a916c7f29c3abbaa62f0c6124e20bb5f504c28200/expr.ipynb\"><img src=\"data:image/png;base64,iVBORw0KGgoAAAANSUhEUgAAADsAAAAVBAMAAAAKrYvGAAAAMFBMVEX///8AAAAAAAAAAAAAAAAA\n",
       "AAAAAAAAAAAAAAAAAAAAAAAAAAAAAAAAAAAAAAAAAAAv3aB7AAAAD3RSTlMAInZUiRDNmWbv3US7\n",
       "qzJazP2FAAAACXBIWXMAAA7EAAAOxAGVKw4bAAABO0lEQVQoz3WSsUvDQBTGv/TaXhKjzVwQUkFw\n",
       "kgzqHMRJUPIHCMkiuAgdHNzMppsdBZeCimtwc2rq5iZanDM7damz715MubTkhuT3vu/y7r13AeCi\n",
       "ZrHR8OvsF/XY0YTW+1CLGgkpsf5Bu69Hp4BMdKFTOekasCrHjUI9skLsVezDStROcEEvY9LzCuF8\n",
       "4+vf2t/K0fzAGeGr68yKyn/DqBhD15cZzBgPJN5BFg2JGawiz6MCMcA9FT+FHbAoY3SYJGdbmyrb\n",
       "yhClbNOuEbdGEq2VgUoeebidt33FrUV8hBjijdjHt3Bbys6pDgYaVgozwxHgeOJZIqLpriZOn4HK\n",
       "buaQAX6o8s/j9W3YT0STSzDg4GaTKIWdlzPaXYIuYM7vKFgCSoVxedfeIhiqu5Py8rEIjpqv4dX9\n",
       "TD3gD2L4PBeViBXSAAAAAElFTkSuQmCC\n",
       "\" style=\"display:inline;vertical-align:middle;\" /></a><br>"
      ],
      "text/plain": [
       "<IPython.core.display.HTML object>"
      ]
     },
     "metadata": {},
     "output_type": "display_data"
    },
    {
     "data": {
      "text/html": [
       "<strong id=\"subexpr_11\">subexpr_11:</strong> <a class=\"ProveItLink\" href=\"../../../../__pv_it/common/195236b98c6c564a75b5dbada74b173bc52d5c3e0/expr.ipynb\"><img src=\"data:image/png;base64,iVBORw0KGgoAAAANSUhEUgAAAAkAAAAOBAMAAAAPuiubAAAAMFBMVEX///8AAAAAAAAAAAAAAAAA\n",
       "AAAAAAAAAAAAAAAAAAAAAAAAAAAAAAAAAAAAAAAAAAAv3aB7AAAAD3RSTlMAELvv3c2ZVESJq3Yi\n",
       "MmZ3LnoBAAAACXBIWXMAAA7EAAAOxAGVKw4bAAAAT0lEQVQI12NgVHZgAALWBBDJXwAi+wVA5BQQ\n",
       "wRC1ezkDA+NXAfkDDOwfGZg3MLAFMPBPYGCZwNBfAFKeL8DAf4HRjoGB6wET0AjGlXkMDAAVqA7Q\n",
       "GyenWgAAAABJRU5ErkJggg==\n",
       "\" style=\"display:inline;vertical-align:middle;\" /></a><br>"
      ],
      "text/plain": [
       "<IPython.core.display.HTML object>"
      ]
     },
     "metadata": {},
     "output_type": "display_data"
    }
   ],
   "source": [
    "# grab subexpressions from the Set construction\n",
    "subexpr0, subexpr_1, subexpr_11 = (\n",
    "        set_abc.sub_expr(0),\n",
    "        set_abc.sub_expr(1),\n",
    "        set_abc.sub_expr(1).sub_expr(1))"
   ]
  },
  {
   "cell_type": "markdown",
   "metadata": {},
   "source": [
    "## Axioms <a id='axioms'></a>"
   ]
  },
  {
   "cell_type": "markdown",
   "metadata": {},
   "source": [
    "Right now we have a single axiom in the logic.sets/enumeration theory, defining what it means to be a member of an enumerated set. If $x\\in\\{y_1,y_2, \\ldots,y_n\\}$, then $x=y_1 \\lor x=y_2 \\lor \\ldots \\lor x=y_n$:"
   ]
  },
  {
   "cell_type": "code",
   "execution_count": 22,
   "metadata": {},
   "outputs": [
    {
     "data": {
      "text/html": [
       "<span style=\"font-size:20px;\"> <a class=\"ProveItLink\" href=\"axioms.ipynb#enum_set_def\" style=\"text-decoration: none\">&nbsp;&#x22A2;&nbsp;&nbsp;</a><a class=\"ProveItLink\" href=\"../__pv_it/axioms/6fb4ff7ba9c954a5bc3bf9289224108e230746630/expr.ipynb\"><img src=\"data:image/png;base64,iVBORw0KGgoAAAANSUhEUgAAAlcAAAAzBAMAAABI7zDSAAAAMFBMVEX///8AAAAAAAAAAAAAAAAA\n",
       "AAAAAAAAAAAAAAAAAAAAAAAAAAAAAAAAAAAAAAAAAAAv3aB7AAAAD3RSTlMAq1RmmUTNIjK7EInv\n",
       "3XZ/CtNrAAAACXBIWXMAAA7EAAAOxAGVKw4bAAAI4klEQVRo3u1be4hUVRj/5nnv3HnsVASaYhOa\n",
       "LPmaSiNDdHKzl5qbkX+o6KSE5B81hhia2uhfFauuhfkA5apR+WgdFRdEqMkILUlGUzFp44qLIsYm\n",
       "Cq1s0HYe93XOvXdeu/eC4geO58ye7zv3/u53vvN953cHoJxIe/fKcF+qgyLe25vp8zSR/F2N0h6K\n",
       "UaS3t7UCWM39MNtDd7dLiZfURsADsHwFtp+z9/I3+zDF+9im4BZaozwE6xm2m0jZjro6uy8PfyBa\n",
       "KiHFJbCiSc/AEk6w/RG2o/w9fQuL+H6uuOVav3kGVpx94FLW/umV+vbwsXrYrY17pOwVWBPYbjDt\n",
       "GliBjEtghTNegXWK7cbYALa940K/gQW/uARWqNsjsBJcMBrOXMW7cj96Fix0K2i95RFY8STbn4r+\n",
       "tV3+5hjZE5fJ5ruVOtOw0whuTM8u2TANoGAddAusMbI3YG3g0nf89DOJIUFyd4uMUIbiftRfhEmG\n",
       "szA9O28yDUgU9SQl2EEk2Z9gHVC8AWsw1z+LJs0Fenwkzhs740rUX4sQHAi71S9JTzr2gOMWR4er\n",
       "+cktsmu55VmRkjdg/cD1f0IpJPEjnEv+ilzgd9xa8jb6kGMKnBa71OhFekEIOgYzMkDr7FyAvdgt\n",
       "sALdnoAl3raChbZEmntJ+uziK9iB5sviHfBr6OBeQ7Nwx9E2Ga5KO77Qua6dONz2BKxEt3UZotvM\n",
       "SWR1ldgU/EUce3SwcC8glwGLDGha36kXAKPcill0fbgOVqTIfbEDYE/zYIiSThe792/EmGGwJNB6\n",
       "5A/WsKUP2D03HUNVdJRMM961k4ftnoAV4ydA2/uYT6fBTJoapxiwnof5aQLWgazWg3UySP8A/Upv\n",
       "GANWXIUGWUsdproG1vcqWMRfhzqD5SN1brreTZcvQdYBfNnlb6IoSQNnm8Ha+d2MHAErfknrCdtQ\n",
       "qwPBEceGzoHaMAYMIZGKgnXeNbAmNVOwprAJjwWsIB4XztWbZvHnJnEm7wodZcuddqAx6wmttxQ+\n",
       "QF9Z16E+4CS8IKrqQsk1sMhtILDW4GlancESsestrzv35U+vHKpdfLfRrHRcBaug9oQtH78KaoBj\n",
       "RB9wEy42qmAF066BRRYIAgsfbERTZWLWYvT/obr9N89/s9l+1yziwxxfAYT2fxWQFLUX6+29icoj\n",
       "a4DXBoSScCNNC4D6n2hlaUhSsAJornC5AP80k2rXKH9b1u8e+yNClIL7J07RoANzDxQrtuwA2J92\n",
       "fAz9A1aruhuiNPpUObBiHR1/FOreRizhRlBsBy59sA/38iFWTuTcAyuWVcF6GWBbObCCeYjI9c4y\n",
       "Q4Z7QeIlFawlIJjTXeHcEZiQNIGF/rqk7lkehXsDrKIKVkSO6qnn+oGb4LGoHJTNSek2OHIfLBUs\n",
       "v6LH9+DLOEFVMlEmgx9df3y/55YhZCeiBilICZnU+PhqFqxwAMXkROfql1B7XhK0JWpqGknmZZrx\n",
       "GwHeGnVz4ES0MkMqfVPLn2sYaX91eoCHQyiTIgUpPTJpjO6aw4AVHY7c45qvdQHOb3rEopbq6E1D\n",
       "2hrkFjZ1sORZmGRNpMpf8Tw7pZoUHE9BKhgilqzWYkkNrJWoRQrSEEmBGyFznQFLwAcU6YiC7lvY\n",
       "VUq0knqNNmd2spX2ilFwvUJSOgKciFbTLaVtlGpScJIRUIUlq7WGjAaWD98QLkgD72zd+hkCa1+Y\n",
       "PXUYQMYT5/QVfMpa+qYEbhalm6zVQcgQU+7wxxaYZJUqxsDFZAIc70QF6lBg5RGyd0FVhoilxZZy\n",
       "p8Ac0eCCVCxQzwqNtjmiaSFLOd4cy8Ml9W+xfI5fiefhZGDKU0YOu4F/SLiAq1zEjSVlJL5t8r5S\n",
       "zQqsTMQfW6C68nGsZs2ukFazK1KQkvU1DuCyBSyh2A4ZqQDx/HzAYGnNSDPswx31Ay6Gbvqvm05A\n",
       "G/i6OQY80WqbMesHqcugHgVuL8M3kK3OELEUk+3OA3SwaEG6HD0V8ULO2NEMz3ptTpcsHgd/0xcE\n",
       "LK2Jco2WlHgCWnL4IwXDxmdhgGA4e5z3++HAEa22EiYegMv3yVCPAnekgW41mKrOELEUTtuVuNxJ\n",
       "qXR066ZyJ6V++Bo+J2CpzaiM/NPYYFJSLpKGUmKc/mR8/IY5FTii1TS7wZrSt3yWqc5SuwJXjmap\n",
       "dzkaamsCSUuDsKVo0i63rvFYeTYMCWVh/amU1nyvtwQhHZmQ7FNmoWn9h43jK/5VooXAEq0mfsHE\n",
       "mgaIQ6KdJ6FAPQqcDNCO+82GphM7Z8jp2EgIaDsVthTg18PPdYCVhjduWJoBAxkITeTOJ8RbnMWz\n",
       "wBGthphIVj9xSDEJcRkqKFAellPgZA2om5K9ITE1HXwaEtiSn1sPwn91gFWH2JCsDNFqEhPJKtLn\n",
       "vAiGaUqOCpSH5RT4OJTzZ8oYkuC0RmVSSyKXEHlEssI0e7DAuDpDDJI1VFRTyEW6kpMC5WE5BU78\n",
       "BZVEcDAU6jHeycCWQpxn+Tyi7+c32y5DnWg1c6IGyaoyrXGxVVdyUqA8LKfAS+kTsBgyxSzka3/B\n",
       "2Ge7MurUfm6XaFC8ASvOJVo7gCNaTaKTrNp1JZ5s1pScFQhbwSnwcuVhKGcIWdkojfsRTqhT87BM\n",
       "kr0Bi98ODwJHtJpEJ1khSPcJ6YKu5KyAeVhOgbCxBiUL8G22rKFgMnRbaMtCjzp1kNumzoA3YPGv\n",
       "Sa4Djmg1iU6y6vNO1pWcFUhdzymc0z5Uxw6myhqSBnV2g08hoQpb4m7bs9ckVRc2LOZ5otUsGsm6\n",
       "CixKjgqEh11VZVBwMhTNQiwfzOSppVWWVeoRWGHWpTHJ6kS0GiRrE1iUnBQoD9tUZVDIOEC+PwUf\n",
       "QXxtnlpq4jddr8ASuR8NbAYnhs8gWS0MeRkFwsMKrVVejb2hP2EQwOuQOEzJed7aWfAKLO40kJCs\n",
       "9kSrwZpG+IPdmhWcxN7QUOMME1virHn4cxT+h06C4ki06nLNUgrXquAklQwRS5y1WVAlWM/1w48z\n",
       "F8BdLSI9N5X2tlUC6/6PM+Er6i74x5n/A7VG70C6mvdEAAAAAElFTkSuQmCC\n",
       "\" style=\"display:inline;vertical-align:middle;\" /></a></span>"
      ],
      "text/plain": [
       "|- forall_{n in Natural} [forall_{x, y_{1}, y_{2}, ..., y_{n}} ((x in {y_{1}, y_{2}, ..., y_{n}}) =  \\\\ ((x = y_{1}) or  (x = y_{2}) or  ... or  (x = y_{n})))]"
      ]
     },
     "metadata": {},
     "output_type": "display_data"
    }
   ],
   "source": [
    "from proveit.logic.sets.enumeration  import enum_set_def\n",
    "enum_set_def"
   ]
  },
  {
   "cell_type": "markdown",
   "metadata": {},
   "source": [
    "As an exercise, we could, for example, manually instantiate that axiom for the case of $x\\in\\mathbb{B}$, by first instantiating for $x\\in\\{\\top, \\bot\\}$:"
   ]
  },
  {
   "cell_type": "code",
   "execution_count": 23,
   "metadata": {},
   "outputs": [
    {
     "data": {
      "text/html": [
       "<strong id=\"enum_set_def_spec\">enum_set_def_spec:</strong> <span style=\"font-size:20px;\"> <a class=\"ProveItLink\" href=\"../__pv_it/demonstrations/e6b2df5c3c674efd1491f533b8cf54b9acf00f300/proof.ipynb\" style=\"text-decoration: none\">&nbsp;&#x22A2;&nbsp;&nbsp;</a><a class=\"ProveItLink\" href=\"../__pv_it/demonstrations/d80f73e62d9e6a2fd64282d47157242e8c3946480/expr.ipynb\"><img src=\"data:image/png;base64,iVBORw0KGgoAAAANSUhEUgAAALMAAAAuBAMAAACRwjVdAAAAMFBMVEX///8AAAAAAAAAAAAAAAAA\n",
       "AAAAAAAAAAAAAAAAAAAAAAAAAAAAAAAAAAAAAAAAAAAv3aB7AAAAD3RSTlMAInZUiRDNmWbv3US7\n",
       "qzJazP2FAAAACXBIWXMAAA7EAAAOxAGVKw4bAAADZUlEQVRYw+2XTWgTQRTH32az2Xy0YVHxIIKx\n",
       "XuqhUEQq9tKC4kEsLAUtapWoCAUvRYrUgBAV7EUwCILaSyDoYbUSFMGebAteFKUoFcUiRRShKFWk\n",
       "HsV5b3bb3clMdvTkwYH3yDw2v32ZefPmHwBwQDoO16Xhtfi4AVoj0SkPn3Kl8fw8i+cKWujt8nCP\n",
       "C7ZHYzYIPSLfgvN2HbJVlMf3kjfD6W0jn6wyl3I10Hb5b9DpYQ10JrrCT73bOmi4poHuCk9yx129\n",
       "rGFIAz3CrL/j6G6qk/Wu5oJAnwYaXz+ceGnTF46txs+o0IkK+ku0T0IJCaPG9sRJL7fSbq5Wi3Fd\n",
       "hTZ+oN+pkfU4OwVgc2b+JsvhLn3/dV2FhiMnmFvSQ7My4QRraiX8+YkSvQffOqmBrqF77Fi0gdXV\n",
       "+HMV2lxG362x1jMAg/W3kKRJm/zIuJEKoW28rJE1q6KeT2fhAU1SnTK09bOx+EY00IsAA23mKGda\n",
       "8w+j6BwVjsfSLnneDc+bCNB3NNDZhchx3Bc96HyY4WZEaKOqgVY1mjA6CSJa1dSiY1oe3hr63B9p\n",
       "lXgGNmpdBYPy8KbQ5RO5Uw6W1fkIw5BfRsY5+cW27hX2EQf+j39sOKCUOf6OakSkQJQ4CpkTHNGG\n",
       "GtrSFH3fN5I4cpmz0jNFQWP2qqikghJlbihxVDInaKpc0Myh+4DugDJh3hxPcsNuoO4IHM37zAV0\n",
       "L9CNxqDHuGUaZE4jmguaLO4f/b5KDDrjknWJMkeGJkGTZHtt436bxRh0qkw2IsocGZoEDWacpe1l\n",
       "u2i1zX3cpUInZ8mGBJkTvUp9NAkaeO9fnpiUDR2FEk5K9PhEBJ0uktVEmSPLmguarwC3aNHZrzsP\n",
       "V9w3qqzNCtm4IHOkaC5oUo5JpZJhQmTBV25SdP4b2bggc6ToSf+kpJwADXBVjc5VyGqCzJGudTef\n",
       "Vb9AsCCQ+w77VWttVslmRJkjy9oXNO3v+L+ZAljPWivQq8o6PUXWJ8ocGdoXNIeKQW2ZvwYquU4V\n",
       "GquT2aIoc6JNjxeNL2hs/kS+Ctbpwo6L4sMrKihbJ0OJE5U5koYtCJp7MTfABm7YeuL+T4ntaywG\n",
       "PerbdLysEAVNS3OtYExxI4kz+GcCKyTxZQPfTG9HiWM0/c/dKGjWNEVv5vYbZ3LfjbaohwkAAAAA\n",
       "SUVORK5CYII=\n",
       "\" style=\"display:inline;vertical-align:middle;\" /></a></span><br>"
      ],
      "text/plain": [
       "<IPython.core.display.HTML object>"
      ]
     },
     "metadata": {},
     "output_type": "display_data"
    }
   ],
   "source": [
    "enum_set_def_spec = enum_set_def.instantiate(\n",
    "        {n:two, x:x, y:(TRUE, FALSE)})"
   ]
  },
  {
   "cell_type": "markdown",
   "metadata": {},
   "source": [
    "… and then bring in our axiomatic definition of the Boolean as $\\mathbb{B}=\\{\\top, \\bot\\}$ and perform the appropriate substitution:"
   ]
  },
  {
   "cell_type": "code",
   "execution_count": 24,
   "metadata": {},
   "outputs": [
    {
     "data": {
      "text/html": [
       "<span style=\"font-size:20px;\"> <a class=\"ProveItLink\" href=\"../../../booleans/_theory_nbs_/axioms.ipynb#bools_def\" style=\"text-decoration: none\">&nbsp;&#x22A2;&nbsp;&nbsp;</a><a class=\"ProveItLink\" href=\"../../../booleans/__pv_it/axioms/0ed31a4273b0db746a43c9d8e01361d0476217f00/expr.ipynb\"><img src=\"data:image/png;base64,iVBORw0KGgoAAAANSUhEUgAAAGYAAAAVBAMAAABGR4Y+AAAAMFBMVEX///8AAAAAAAAAAAAAAAAA\n",
       "AAAAAAAAAAAAAAAAAAAAAAAAAAAAAAAAAAAAAAAAAAAv3aB7AAAAD3RSTlMAdt3vu82rRCIQZolU\n",
       "mTIFPM77AAAACXBIWXMAAA7EAAAOxAGVKw4bAAABA0lEQVQ4y2NgwA44y7GL9zQACSGT+GC1Agw5\n",
       "0UrsevhSJgBJh0KOyHR0KZ6fDAy8SmCQABOrApMsIL5DFcMOFnQ93AoQrQJIYgcRMkA9a9jI0MNK\n",
       "up6M1aTqKZyotoFUPUXBn26CeJfAwaQGluENwKWH0QDiNqnSCWj2NC/ApYfjD0QPCzua49rCGXDp\n",
       "YZgWA9HD4IAW21cm4NSztQCqJwDNPywJuPSAUghYD4ocRrhNQAk3cBhUM2zciy+sOb+ih7WoiT+W\n",
       "dA3Vww4OPqUJYIcbgx0OlcECUGR4JuCSwa2Hm4EoPeDYhoGJyDLQFIIFgGMbBlACdfICXHoYenOw\n",
       "i3cDxQHNskJHEZ2ZVQAAAABJRU5ErkJggg==\n",
       "\" style=\"display:inline;vertical-align:middle;\" /></a></span>"
      ],
      "text/plain": [
       "|- BOOLEAN = {TRUE, FALSE}"
      ]
     },
     "metadata": {},
     "output_type": "display_data"
    }
   ],
   "source": [
    "from proveit.logic.booleans  import bools_def\n",
    "bools_def"
   ]
  },
  {
   "cell_type": "code",
   "execution_count": 25,
   "metadata": {},
   "outputs": [
    {
     "data": {
      "text/html": [
       "<span style=\"font-size:20px;\"> <a class=\"ProveItLink\" href=\"../__pv_it/demonstrations/5ceb3dfd5c2bdbec145183f38816a20b4bc506a70/proof.ipynb\" style=\"text-decoration: none\">&nbsp;&#x22A2;&nbsp;&nbsp;</a><a class=\"ProveItLink\" href=\"../__pv_it/demonstrations/f7cb13feee183363cdb3881da7ac7b0fc28c33450/expr.ipynb\"><img src=\"data:image/png;base64,iVBORw0KGgoAAAANSUhEUgAAALMAAAAuBAMAAACRwjVdAAAAMFBMVEX///8AAAAAAAAAAAAAAAAA\n",
       "AAAAAAAAAAAAAAAAAAAAAAAAAAAAAAAAAAAAAAAAAAAv3aB7AAAAD3RSTlMAInZUiRDNmWbv3US7\n",
       "qzJazP2FAAAACXBIWXMAAA7EAAAOxAGVKw4bAAADKUlEQVRYw+2XTWgTQRTH33azu/lm8eBBPMQI\n",
       "EoRCEanYi/EDvFgIBS1IkCgU2pNFaok9RSv2IhgED5oeFoIeopFQP2i9mPaooFUoKBUpopeiqAcv\n",
       "HsSZN5uvycxu2zkJDrwZZrP89s17M2/+AQAbpE0DpdbTJ3i4d/b8WLUGkYQSer/waX1OG1kFSKmQ\n",
       "jZwYPQ+HowBmRgFtFWTo6RhAcFwBHeoM/IvKvSbaJOMtBXR/+yRyLtPy+s1VMo4qoCeIDfWeOYb7\n",
       "ZHumlcahapqMgwpo6tZ4z1vLoZOzrVg/G/t9kYzX6GSqQlt1s+gyyZUd/BXDbOba05h6StZwUMHr\n",
       "EkAcLMaM3yHOPWigoxESke9qaLJN2Kkz6u1eR4FMFxTQZdo9tw1MoNOJJmsZUIj1EkC29h4COEl2\n",
       "oHWylusKXpPddejLJXiEE7NZquqP4chxd29uta0DDCf1PGMaH56wp3tmX9PKB3BfAR1e6ziOJ9yD\n",
       "3ijYjgLauwBJitcG26LXjzuVroLslr/r2zSPS6rHhv/tH2k2eMockdDRNgakEkcoc1pHtGsP7fZE\n",
       "z7mGEkcscyyspZXlLqGjp2XUeXS2wIxKHInMoRB0mAmdFdp9ot0pqcP7sB9hRquEvFIwNKszV2j3\n",
       "inZ5H/QMs1CXzOlGM6ETpvnD9RV90KEMWj8vc0RoFDoBkmuL5lvP+aDNAtoEL3NEaBQ61OMwppdk\n",
       "0UiufD4qQweW0UY5mdPcFu1oFDrw0b08qVMW9Camuq9khg7m0Mq8zBF5zYTON4C7GHSyustwI/NO\n",
       "5rVeRCtxMkeIZkLHtHXcKiFyaa7BpDzW8R9oJU7mCNEL7kkx7QYa4KYcHSmilTmZI4z1AJs5X6ER\n",
       "EIj8hJOyWOsO2hIvc0Reu0IntYpDNAHGy1gR0jKvg3W0QV7miNCu0Dmda+wt/c9wMdInQ9PdSWyd\n",
       "lzmdRY9tGlfoWOyNuAPGhcSBaf5lEpvbGJtwDY1KnE6ZIyjYnNB56HMD7GBGS4/f/yy+fM34oPOu\n",
       "LfrLDV7oRL01hFZnhhInuzmB1SbxRY1+Gb9OJY7m+V+8W+hs80TvYvYXpS3W2VYYePcAAAAASUVO\n",
       "RK5CYII=\n",
       "\" style=\"display:inline;vertical-align:middle;\" /></a></span>"
      ],
      "text/plain": [
       "|- (x in BOOLEAN) =  \\\\ ((x = TRUE) or (x = FALSE))"
      ]
     },
     "metadata": {},
     "output_type": "display_data"
    }
   ],
   "source": [
    "bools_def.sub_left_side_into(enum_set_def_spec)"
   ]
  },
  {
   "cell_type": "markdown",
   "metadata": {},
   "source": [
    "## Theorems & Conjectures<a id='theorems_and_conjectures'></a>"
   ]
  },
  {
   "cell_type": "markdown",
   "metadata": {},
   "source": [
    "The `logic.sets/enumeration` theory already has a substantial number of related theorems and conjectures established, most of which would typically be used implicitly behind-the-scenes when utilizing the various related Set class methods instead of being used directly and explicitly in theorem form. Some illustrative examples of the theorems are shown below, and the remainder can be found in the [enumeration theorems Jupyter Python notebook](./\\_theorems\\_.ipynb)."
   ]
  },
  {
   "cell_type": "code",
   "execution_count": 26,
   "metadata": {},
   "outputs": [],
   "source": [
    "from proveit.logic.sets.enumeration import (\n",
    "        fold, fold_singleton, leftward_permutation,\n",
    "        reduction_right, subset_eq_of_superset)"
   ]
  },
  {
   "cell_type": "code",
   "execution_count": 27,
   "metadata": {},
   "outputs": [
    {
     "data": {
      "text/html": [
       "<span style=\"font-size:20px;\"> <a class=\"ProveItLink\" href=\"proofs/fold/thm_proof.ipynb\" style=\"text-decoration: none\">&nbsp;&#x22A2;&nbsp;&nbsp;</a><a class=\"ProveItLink\" href=\"../__pv_it/theorems/6b6656ace5cca837cbd9fbee8a18f769f546775e0/expr.ipynb\"><img src=\"data:image/png;base64,iVBORw0KGgoAAAANSUhEUgAAAlkAAAAZBAMAAADwESYxAAAAMFBMVEX///8AAAAAAAAAAAAAAAAA\n",
       "AAAAAAAAAAAAAAAAAAAAAAAAAAAAAAAAAAAAAAAAAAAv3aB7AAAAD3RSTlMAq1RmmUTNIjK7EInv\n",
       "3XZ/CtNrAAAACXBIWXMAAA7EAAAOxAGVKw4bAAAGXklEQVRYw+2Zf4gUZRjHn53d2ZmdvV0XAukU\n",
       "ZEXLo7Qmw8IIXTF/hGhSEOhJLolE/lHTP8KJ6Bn+kXTpmZickIxahF3YepFglCxKJEW1hJlJGyNd\n",
       "hamHEKXYH/Y87/vOzDuzM1N6Jlv0ws687/t932fm/cz7PvO8swBJKdX8Bv5PIl1slpMbZP9tI7Ki\n",
       "q99ceuMmtSl0oFza/G/RKkY//eJqexRGN+0GUB1Oq0QVk+JpJertlu6Orr7XHpXV7fj7gdOaR+Vn\n",
       "4mkl6m2WjGp0/UejM0vdszajtYlWZX88rUS9zVLG/MdopSuMFkHLl+NpJeptljqC3ur15qmbRgs+\n",
       "ZbTI0WcTvHyi3mbpTrmgPmffxLkFqziKz5vNz5LeiUl6m6VF5LtGxr08RIW1tjxcY9iEvX7Lg3PB\n",
       "KCV5QLk5o3WI01oIsDuJVpLeZmkV+S446ywOvZnmozNR6jDbr6lNhfSlBEuB5hfo8ACn9QJopSRa\n",
       "SXpiqvDTlCjN8XKRcjHaohIdfHrGvsLfgzDbvo0K/vtROw7wYqYBnV6NXl4MqaRXV6D5RnLbUzmt\n",
       "nJ2XI13t5PvwcEmiFdL/fuJ3k47snHEz0bJLOpRmxLwK3czH+OulmURA0IM0v2UjGovXsDsc+AL2\n",
       "C4QG5jucwUPj4u6dN3eX5VjEtY3TUhzfiW/t3AkT83bGlmjJ+g3Q2hupqTUGpBQjQzdDkJJ5pGI9\n",
       "DRrzaYEYpeFPnc3kSVba+hV9pOF2uQrbeiuwOPbmqbm3LFfjYYXY+VRneTe1kOJ2p5IP7Hx8/UZo\n",
       "zYsW19D+AIcZI2dtxSRm7hJkhUzcHF8jrURQL8PbdG4Eg/H5UKyD4lZmquiNfoONvXE3z5rLW4Fp\n",
       "gtYQXiw9d+swD++h644NQVqkw8iCYXQa6lnveT9VgpZHLckerYbbN9hgCHK0yEkuDm9YEDaKEV6/\n",
       "/HZhhQJE24Ihcd6DU2pnqg5sro0EQ4DtkCtxWjR2zG+Hh4hW66bIANGcQwH4kA4zBa31eIP7V5gd\n",
       "Fp+8Xfl93QFapBetziwu3oNj7D5h0rmq18PX8WWPllblfR8dwGT6DSbTfOkmGX5O9T+dIXmHb1Sp\n",
       "4NzzVhjwwlqItoXGeMK3vHLljbrKgulsOUBrDqw0GS3jd5pbJfVXJrASO7xblTKsOYPiRhCLBK0U\n",
       "Tsd1P8EYW2Ubhy6onAvQIj0Ne3TMrpsG56CHHoe2r1Hsf3w4uDaYHKSl9rt9IdB/Gem7SQYz54gF\n",
       "4RvF+hxNPTexwjJoscXTMnF+Bce7xJk8nT/PzuUyrb1HH7P43GqiWWP88GV8E5zhJTiJv0LFzZwR\n",
       "zRkUl9bX8hebCejG0s8ODLyKtAazEV9sLrPjeJigT2ODSNVSTt0IxSwoh2gpJa9voP8WgPtxujB5\n",
       "jBcYeEZ1hGx2+7ZYYSKEbYncFnEuBNyQeiS48zkMnJbC7j+PM4iem9K6FO9ymxMU0V1ryLROwCO6\n",
       "XuNzS72nlZZe1zjhE1Bg9gtLO3qt8GJEOT1vek2ihcNmffnq8fvj4snidCEZ+sDiK9E3iisRqnJQ\n",
       "TIUtELYlLuauxHQlduuSrxrHBK08Q/FOGbSKZkG+tXnNbU5QBC3asHu0tEtwuot7VQxqzrbQWp+v\n",
       "ZmAQ4LR6iUZr1PA5rsQFspSyg/zAZeWc+zZyvTzrK5Loz3xwejyTtfphL7xyjUIRI8778K6FaV4o\n",
       "QNiWuJjn0HdF08JgvOCkaoLWQfx9jzMTel7abLNSyMs7ojmHwrYC0CN/O1VLcN6EHpzJ+inLf7F5\n",
       "tDI/Hv0F+soweWaVRqsfA2Xua2xXhNk+S/8ED0K+XavKtHbxvq4/5v35uNbw85LuEXc1uEYhZ/Gv\n",
       "H8I0L2Bl2Ba/mAfpQDQtDMaVWRiraIf/cHjoP4mc45fXrsm7CnkjwZpzKGAcF5cIfWk2jgzsTPrS\n",
       "XDasnMlGq8BbsAPytkPZoNwozrAlWt2BC7j9vdgxIPtGDyRGob4tdjE/ENWc6E/rc0bxyUk7VKZ3\n",
       "8XV/l1ftlPMk6BcwvFkOE9QqPH+tQdmAbJSU9+S5lZH3dl5/rzYg+0YXRN5OoNa/WMa6NZv266OV\n",
       "BnWWeLwmPHEe3GyrLNGCD2TebgN/xyfLntGY3WPejrIVt3289bRG83+iJYXGLbvWYOQcGU4ndvvr\n",
       "2pueLn5n/gnWv/tmt3T/9QAAAABJRU5ErkJggg==\n",
       "\" style=\"display:inline;vertical-align:middle;\" /></a></span>"
      ],
      "text/plain": [
       "|- forall_{n in Natural} [forall_{x, y_{1}, y_{2}, ..., y_{n} | (x = y_{1}) or  (x = y_{2}) or  ... or  (x = y_{n})} (x in {y_{1}, y_{2}, ..., y_{n}})]"
      ]
     },
     "metadata": {},
     "output_type": "display_data"
    }
   ],
   "source": [
    "# If x=y1 or x=y2 or … or x=yn, then x is in the\n",
    "# set containing all those options\n",
    "fold"
   ]
  },
  {
   "cell_type": "code",
   "execution_count": 28,
   "metadata": {},
   "outputs": [
    {
     "data": {
      "text/html": [
       "<span style=\"font-size:20px;\"> <a class=\"ProveItLink\" href=\"proofs/fold_singleton/thm_proof.ipynb\" style=\"text-decoration: none\">&nbsp;&#x22A2;&nbsp;&nbsp;</a><a class=\"ProveItLink\" href=\"../__pv_it/theorems/273ba9c70c83bafc8e1de760d1e65d4bea4f283a0/expr.ipynb\"><img src=\"data:image/png;base64,iVBORw0KGgoAAAANSUhEUgAAALMAAAAXBAMAAACyt2M4AAAAMFBMVEX///8AAAAAAAAAAAAAAAAA\n",
       "AAAAAAAAAAAAAAAAAAAAAAAAAAAAAAAAAAAAAAAAAAAv3aB7AAAAD3RSTlMAq1RmmUTNIjK7EInv\n",
       "3XZ/CtNrAAAACXBIWXMAAA7EAAAOxAGVKw4bAAACiElEQVRIx62VPWgUQRTH//ex97Ebz2AhHEpY\n",
       "UGxE3MLG5kwIfqHgYWFhYQ5FBAtZLSw0YhQriWAqUTDsgYJBCdEiIGI4FEEQ5RAULQ42EBFFQrCJ\n",
       "pPI/s9/JXHTRB7cz772Z3+y+jzkgvdhq8/26N56zu6/5g1RMtfmk401KVU6OcdIrtE1p0FvV5u1O\n",
       "MCuTWbGA3UI5lYKsN9T25+HMaPNxGrjCoXgzBTpv/RV6B1DgdxhmCnRPMsJ3Ox+V6B4HOb5EIU2o\n",
       "t8QV7YzT5a0L5L7tdN6kQR/gb3L2wTP5peedeED0OQtNH20wl/uAOyv293dHnxDuSl++vSz/e4jL\n",
       "trCLQWpRzTHbZ1HsXbF/lby+5zY7t5SR2YyqpfgSuMrzqpz+pM5TUHaMehr0KzYF8h6zxGh2Pkvy\n",
       "ekKcHhfvqDSP07VAvKvI4upo5t/1ajxad01Edcgp/eIwzWM0EZVGjY/5vXNse20WmRjaM8pKCBwy\n",
       "IGTYukxgOzpyTMZbxDm7JAIiXE/YOBW7WmDKJ9c6oxFaGvffplihAxgHJuobYXiHJ1tmTDa5IdMo\n",
       "EMPUchgvcXphG75FaN+IuAN4zOvi+kEclkrBTKAHMGT5xZef4iMzIjyL0r8BffFYL4YbAwdwA7g3\n",
       "nx30mHr1aBzdnDlk++g1YW2UWkUxfMDrGFoYvYCEDu4ZSbTj02SjTwfdeClYMWw08ngIfNIWIrQ0\n",
       "+hI4GKb+rteT0dBfBOjB8Dr7MvMdoyY272xEaGn0JXBQbqnRP/hBbkZEWBT98svU1O2ypazr0EGZ\n",
       "UKMvm8jW5O3/iEvLyX8wzcm4R9QtEzpE47lKdHHAr5aL6/j4mnTmoNWm1OjQ8e9i/wfGb+MEqI/1\n",
       "SbeSAAAAAElFTkSuQmCC\n",
       "\" style=\"display:inline;vertical-align:middle;\" /></a></span>"
      ],
      "text/plain": [
       "|- forall_{x, y | x = y} (x in {y})"
      ]
     },
     "metadata": {},
     "output_type": "display_data"
    }
   ],
   "source": [
    "# if x=y, then x is in the set {y}\n",
    "fold_singleton"
   ]
  },
  {
   "cell_type": "code",
   "execution_count": 29,
   "metadata": {},
   "outputs": [
    {
     "data": {
      "text/html": [
       "<span style=\"font-size:20px;\"> <a class=\"ProveItLink\" href=\"proofs/leftward_permutation/thm_proof.ipynb\" style=\"text-decoration: none\">&nbsp;&#x22A2;&nbsp;&nbsp;</a><a class=\"ProveItLink\" href=\"../__pv_it/theorems/eaed399bbf5c0728d234e6ee7d72a85906a2416a0/expr.ipynb\"><img src=\"data:image/png;base64,iVBORw0KGgoAAAANSUhEUgAABLYAAAAZBAMAAADeTbqOAAAAMFBMVEX///8AAAAAAAAAAAAAAAAA\n",
       "AAAAAAAAAAAAAAAAAAAAAAAAAAAAAAAAAAAAAAAAAAAv3aB7AAAAD3RSTlMAq1RmmUTNIjK7EInv\n",
       "3XZ/CtNrAAAACXBIWXMAAA7EAAAOxAGVKw4bAAAJ/0lEQVRo3u1bDWwcxRV+vjt77/bsswEpUhvV\n",
       "uv4AUirTE0ERidT00pQ0SVU4QatWqMC1xEKN2nKJIiF+gg8atUg12KitWkdVumlFIRh8B0EUpXXq\n",
       "kqK0QlALIRUZuTpHEYEkWJZbwDIq7rw3O7Mz+3+K7eAoI93mzbw3b7/35tuZ2VkHIF751GQFLpaL\n",
       "JXbJTb4W17T8ccNusJ/5zRWdfuNKv9bHSis6qN04B9E8tHbFcusE+71188p+th/Y7/O891orOqb0\n",
       "Jxj+Wzm3uvCfz8bgVkzDZSqJOvvNn6uXQ68oFfM346HGwfqf/C2sGmL/qFf3hUWjlo5XCzUqFciR\n",
       "HxRDqj6cEgYZRpRcgbh1HdbviMGtmIbLVP7Aftnxc3azQ620RaQvWD8bWg22H/WqRhcvRzreHc2k\n",
       "gpXOfFjVW4QBjcpO4tYDuPAPxuBWTMNlKpsXh1uzzaQvUN86H1YNsV9abul4Z5tJBSu3WWFVbxEG\n",
       "NCrXELfaWFM2H4NbMQ2XqYwtCrd0FkSlL1DvAhKJSxosLbc0vFGE9+hHm8Q1qgbXbiG3kmxpbIuz\n",
       "l49puEzbrfKicEv3MBoze1GLZdTa6hgsLbdGmyG8R78jfMkMXFPJUVuB3hNfmZx8OdZ7YjzD5Smp\n",
       "uojCWH2qoSh2Hb0/vKdm0NY9pczE352+NLSrrs9OXys8DuS1GwzkIxBIgwBuuWJyVX0OMzQDCUzD\n",
       "q4fqw3dNb6x+exYCq34IpAGNSraLuLUVYH8sbsUzXJ6CzwWkcPL6TiWjzOatx+G3oSubblDbaX7g\n",
       "vFe9b9XCDoh1vfEabPO7ZVMIzvIHZZIKvYjDFk9M7qq3aAYSmI5XC9Wn6PpzQJDD7UqyTNzaBQaL\n",
       "yuQoqiHc4oYfj9KBz9h9jGDmMUgps/lTBfh6aEduYEeLL/yvOuvsPLSHzQ+23k5RR93uyjxu0W+w\n",
       "JQqBNOjzTCXGMU9MrqoP6bnB4y5gejxaqOB79sH0acdjWb9BOQqBMDBwAkuMEbcyVrbEJjGO4g32\n",
       "+6IAtPdrpeRfHW5xw/iHaN93znN8Xi+9bdk5P9Epf1GI386Q7OrFZ34Gk2mus9tvAHgTzD9dEjhz\n",
       "kIGIFgf5Q/i9nRWWnc768DOfDFyHUc9ThI4szaNwEhcBT7K5ykUuY1XJExOvhgEjAzjqAkZ4pRcM\n",
       "NQwWpQI6qorHZhEk/02Vg99jgz9D3Eo0XDt0HDdITw2VEl1HYLvDLY9hRFktpZa6V+ttM2b8RKf0\n",
       "uTCmt7FEtQ9CrQSPvGu3/wPM9yAV8pyTgSxvQutsenpcPvC35YvB8x7pFUeqR+kkLgJKMmR73dp9\n",
       "+z0x8WoIMG7gAUZ4pRcMNQwW6l0em0bwElWeZ1Irn7egvNFnDL/CCJzYmIK6wy2PYUT5u3Nrn6XW\n",
       "25Yb9BOd8o57TcQT4FoDvsTEHntu/giSM9BZMuaCJm8yUM50UvOQGJfHQTdY70FfNfi4SM4J6Ejz\n",
       "KJzERdAnFiL3futRd0x2NQSYbe8CZuPtUUINgcVT4fLYJAI+I9DXEkwHcuvZnYxnU4TrJA7ZeuMM\n",
       "P7RPPPithsotNIThjX8UHhXRKbIx/dGUGImBae9sqrQdRc6ah98Sa7Eiqn5/pNQyDfuNpJaHVYkK\n",
       "ZYHdzZyFlvKVSYul0PRCkwYYLenncPeDecBaZ5VtGzZgAr0Lh9RTilD/H5Y0xyPnVnwElGSAP/u+\n",
       "JyoxoQ9eDQHGDW7t0oFxvCIzFGoILJ6KkS+rHmXfmAiSg/czumRpLz/IuXUfAzXSiZ1SdGzUvfup\n",
       "yiFiYPXI5Sq30ND8V1q8TiiicifZmJvIiWOcd62THkOnraPUz65PVwbEU6GIqt85SMnpDN9xiVuZ\n",
       "RuL1FGXQfJ81HYCeYpE0NUSMF2qXAhlgtKS/DH7BnzGstRQyRRpc2UPvT3pMEbWwd7EXlFsSQb0I\n",
       "fFxxA0xy0BmEExP1sqvBwMjAbMy7gPF4RGYo1JDEkL54hXZL0dcHgQ6FG7ScWnPcPoPAMyLkVgsb\n",
       "yHto+nsyi8l9NZ+Gmzi3UnJxKtuGqWJ6DAw6iyDxxpP6/p4aAXtlCskyN4Sfw7rWq67Tc8jagO/m\n",
       "tsETuAjDAMDd9Fig6LZnfmcgIQ8l0+M2t8zuF3a9zcdhknU+eOan3QzlwxZ0TCBtscPrQpAGGC3p\n",
       "Dz5X4NzCmrkaPySlJ7gh9XD6Cz2lCPXZwxst5ZY0b/kgkDfXEVCSg7ilxET35dUQYGhg/G7cBYzH\n",
       "IzODoYYlhulN6zntlqKvHwInMGnffgJfoolbHSXlb2wOyGMj479bAdYNDQ3lE1WzXla4xTfRuS54\n",
       "cEKKY+aM60Ug1yU2VKkubsh2XpvaoebejW2ypZfs6zuQ7rGE6LZnfgchVZD1N/SjZMxCQs7XROk1\n",
       "3kMES41W6okWsob0Tnhn/jXqyZrUO4bkJD4CSnLEuXyPdt9IYLhN8AGmZSYyMbdrej2rkQj6cJPO\n",
       "R2UvONwy52kV6qzgUnmLAT/j8xbc2HBxq1bJbLBgQooVnKbUXR02fh57dUJ7nhvCDLxoQL+OiLXB\n",
       "WpqHaA01P4ADT0KHJUS3PfN72mq7a1rUr/FyKytre+AuAO+7qTSgaOsaLUTNKBoVxZMs0hpTlPV4\n",
       "5E7iI6Akx+GW9BEJrPaELzAtM1GwaCzqAVmNRLC+dbxij8pmhVuJctFkNv0wDC2Nh7OQwUFOlkBM\n",
       "Qs68VRm4ibg1bIuZEhNZX/tCjZ8pMqnDWg9oyJoncGv3S8WKtxn3lFHqhSy7Hk/PbUBuCZHZu/z+\n",
       "2OrcfUg+pRX7BNjJwohMwq8f2g6m93VgxPkaWVT0tFUStbsf2mc5hs52T1r3q45GdG7FR0BJBr9T\n",
       "1rNaTI6PSGBXpHyBqZmJhIUThaLXshqNoDs9XudfS+jvZeS81V1JvwgwBf35TKXlWoYCF+c7ANzc\n",
       "at181WGiTH+ei1tRTB+H/gpeeGOmim3XN8iQ+d3HpptUFSVuVbHbknVs27P2NLt+4+ozBeSWEFNV\n",
       "r98B53XTHLRPgKnce+dRABlj+8LCDOS8wyYNWLSO3nj+w4ZT++fCgmLoHIpIaUp11NCcNIGAkozH\n",
       "2d5TvLwak+MjEtjBU37AtMxEwsKpxNHrWY1G8Cu4rErfHejJ1/6mOUHLrR3a8NBQyfXNRym41HHD\n",
       "rNWQfWTj0wkhTXC/rBzJCQlkW0tJSLYG10RbRHu33zN7H5ct+MV5z6XL/7Xp9sVzZTzj8/XY2JQ/\n",
       "z59pz63ci2NyClzcurnt22PQagV+T3TKIy/nheGdC+NKH1vKnLYlNAT6o/a2hf/ZEr8Xp5KU+DV9\n",
       "9lkhor3H71ezV5/n75iYogu39PYvpjeVW4XUSQuSEINbtBv1E/0kKARJJz4n2wp+5r7ezm/BFF24\n",
       "5frtS8Wt0PLDJfj/iZ8uwsVyoZbc5LH/A7i6HlTb1vcxAAAAAElFTkSuQmCC\n",
       "\" style=\"display:inline;vertical-align:middle;\" /></a></span>"
      ],
      "text/plain": [
       "|- forall_{i, j, k in Natural} [forall_{a_{1}, a_{2}, ..., a_{i}, b_{1}, b_{2}, ..., b_{j}, c, d_{1}, d_{2}, ..., d_{k}} ({a_{1}, a_{2}, ..., a_{i},b_{1}, b_{2}, ..., b_{j}, c,d_{1}, d_{2}, ..., d_{k}} = {a_{1}, a_{2}, ..., a_{i}, c,b_{1}, b_{2}, ..., b_{j},d_{1}, d_{2}, ..., d_{k}})]"
      ]
     },
     "metadata": {},
     "output_type": "display_data"
    }
   ],
   "source": [
    "# An enumerated set is equal to a version of itself in which\n",
    "# an element is moved to the left in the \"list\" of elements.\n",
    "# Notice the set element 'c' below:\n",
    "leftward_permutation"
   ]
  },
  {
   "cell_type": "code",
   "execution_count": 30,
   "metadata": {},
   "outputs": [
    {
     "data": {
      "text/html": [
       "<span style=\"font-size:20px;\"> <a class=\"ProveItLink\" href=\"proofs/reduction_right/thm_proof.ipynb\" style=\"text-decoration: none\">&nbsp;&#x22A2;&nbsp;&nbsp;</a><a class=\"ProveItLink\" href=\"../__pv_it/theorems/53c848de26ac49cd5d77d83b1d110e2b4fe0f04b0/expr.ipynb\"><img src=\"data:image/png;base64,iVBORw0KGgoAAAANSUhEUgAAA28AAAAzBAMAAADyRS3eAAAAMFBMVEX///8AAAAAAAAAAAAAAAAA\n",
       "AAAAAAAAAAAAAAAAAAAAAAAAAAAAAAAAAAAAAAAAAAAv3aB7AAAAD3RSTlMAq1RmmUTNIjK7EInv\n",
       "3XZ/CtNrAAAACXBIWXMAAA7EAAAOxAGVKw4bAAAKEklEQVR42u1cfYxcVRU/87HzZt58KkmjYOqo\n",
       "iEm17aRNKjS6O6QggpZOwKjxqyOmIeEfpg0JabHsYBpDwtYdQohso+YhKnQXOkMbKym2HSCkEmId\n",
       "EaMprnkLm1TbsmxEWFIj473n3vfu+5636073vW1vsjP3nHveb+67v3fvPffM2QHwV+TxcQUulWCU\n",
       "+ZCR7XbLgbuBVP0iY2w/4yvV7TZ8E1cJ4H1cdrFNteQpXomFmrhIyyz/srI86NlRc21avSyI22AW\n",
       "c9uWyS6c/LDrjaQLy4A46YRZXrt4vMk/6bhKvawXY+8uuDb9aRkQl1XN8tFFxE6U3aVe1v9/Sbs/\n",
       "CJ9Rwk/c56B/xOWL7lIv674Sx5+RUBP3ch+J26q4S72s+0rcwFzoicud7yNxR+eFfBQuGHHw3dAT\n",
       "ly04DJ90xWnjzmcRHRwco4E8c/kDB/nwzHzQOFgmyWEwje0GFDj2hiFEkJ652vuOdGsv4pgLFmbi\n",
       "Rq1hky+Qv2/VUsaJaBHthRk8zoQ4TKmb2eC/qzTFYcosOXiVrL1uRYHdxbgYYOkVuNGzL8I618a3\n",
       "zZO0/NFs1VTDTtxHrJPnBTKEL0C8A7J2wGPixNOXuw45GsAxJn0WhhQWjImeh4yqw6DkgYLtAH+1\n",
       "osBrRpRsC07Kz37AfTuk1rG/4638y+Oo0Ak7cc9ZeFtBehifpePzoze5joll2OyGwQy0UsdJi/oq\n",
       "5FsChkpeKLTdCYXOdh1li0JnY9x1FURreBHrj97metuxuZATl3zbotizDyDTgGZFBIaY+A4M111A\n",
       "uL1eTorZsbWow6DkgcKs7SgZHF0N5SV6bqhI74F7X8jjN4v1w+6jLb8dcuJyc1bNg7gBDBnGiokb\n",
       "3YecGXynIHztce1gRibIanFM26J4oGC7PF20orDtiKPI79PxVtyJQ+tY494Wrr2uexxbaUJMXKrt\n",
       "4JQ3i7AiWsOxonsJF2mLfWuRNYNd6nlslx+OtKGF+nyd7H46DJPcUbA9Hq3aUEoAFR2FzJQB5jC6\n",
       "oFDryOlVJ4hR2+PGfxpy4jINB+JSavTVOI64/C7oYvIUE5tVrtclNJB+3kFN9L1ftAeKqI+UUmUB\n",
       "wyR3FGwfT5etKMRJTNd1FOJSPgOwV7Gg0IqwzrxOnVOv4wAc58ThMvEJP8RF0IMqBYS4ZtmBOHnl\n",
       "M9v/wabKpKKLOxUmZuklrwJ/yZ7SDFIqtss3q1eu4/orNoEBBiUPFGxPlKwo8Oz6MwIlfWhQAWkf\n",
       "WFCwolsPX1fvcY6DoQoj7noq3O6HuDi9IlELyjFOdY9f0LGK6guSVJZqBlEvq/Rn4AmjudCbYHqi\n",
       "5Gs+UO6Cu8EL5ZqBTq0HcaNsL4T7aKcafohL0sm5MyhL5dqiN3FpXdp5/x7FIOpF9+CvihvNhd4E\n",
       "0xNlBHqjSI/cfxN4oaxMdlo9iMOlhhCXoLO46GuPu4O8HwwKcUM2H++cVrnnTnKiPqDr/9DtGkXd\n",
       "IdCn7KOnje263gzTE2UKeqNkut1ZT5Qfw2V1PBi6l3yBERcjS3PCn3OynrxXg0LcW7Y1e9j0+FlW\n",
       "UnvIMufSnvO4zgvle4uCguVJL0ci3+Be5e8nJ1/2R1xmcvJvraAQd9y2UUjXFpeuO4mvtxcN6x7P\n",
       "kHamyon7IgBxdeQaj9d4EBevQ0oJCnFbAtMTFrCavlD9yXY4cdtBIqtmms1fGij9vDaVd3+pEnvO\n",
       "QByx276AT/phw15zap1f+ShcpCXb5sSllLT5cJ2hYnJqrBItHIGbjAfwffDrBXySyKKLtLxaLxE3\n",
       "P+KiqsU3GaYv9CAYHYzrfioSt2ZBvkmmbq85tYZ6qbyAxGlLJVQHAQam0CvFQOk10lnIUb8m+oOv\n",
       "qSbiEjGyisqHzmoO3cTgb+zAQpmbvvcGemKc0b7JEjXDeVLojg1qtfQbds/LojtujwSEOiFW+pTf\n",
       "eaA5J3CQnM8O5OkDjIFSWLnjydp+DG/Vj3zSRFz6KmL1VG2Uj5n8l+Sc/UgilKcjDfq90pvKNFeI\n",
       "mihCl62MaMo/J+0+GtEZvk+Gt2wzNeQJsfft80lcQSPu+6S2C798oIFSgJPFJNzKiIvnGkbiJOqq\n",
       "XEdjBDuR5zIZ31umzc85KgEvK6VUOroPwQZmT2sDa64394O2sp30RniC28Ubct2GS3TRstcBPOwJ\n",
       "sQ/6M8uXNeIidAh+xk4jZIWU/k0OCBvGxsaK0brcqhqJgw8B/Y52CpKrFfRicgVoy7MW1yZXMIbv\n",
       "AH4H1zJ7WstA09wPouO1F4HjontkxyXkGQ6mayvuIa9FOJaV3aVe1gstPvvfbIHhax35fF0b6Vjj\n",
       "2xI8wGYc3KKaiKOWc/DQOGTpADdrqY1KzbKqofLTKg/fUeZm4XlmT2sSjJj7QVvX443TFZbZ0W5Y\n",
       "cakucfeM2BtL/SRuKRJiffZfCzKzEq2W5RYd6QmIqHvT7KAdq4A+e8T3cSeS72ykAzwBmdrorQqk\n",
       "KqRKLuYvqPx4mQhS+zBQ1FPkU4g9r8HDIOyZTtpVpYptkEbiJiBRId6sBZfq8jv2m1eMvhG3FAmx\n",
       "PvuP0XUx41bWks/TQOlIMVWLXA3SI0S593YAO3FfWXe2RAd4pDiwac0hjLyMFJMnYKRGX5gyVQcC\n",
       "d/M3ZxTytmcGZxKvxesGe66LtWjrXevPIHEjRWnToGLFpbpRg1OarfaTuKVIiPWJgkFa0zfgUQyU\n",
       "8lk/MTZWsYa8jKKiWaYVVb8ItNpTUYTjqNye1Y7kwGDPdJGK0Y61OuGe3f24OLi3nW48AAmxlsRX\n",
       "U06sQxHWPonDyIOJuG/QQOmA4h6rFCV57qBmeWe3Y7iI11JnCBxH1exZLdH9LxjsmVHWZMdanXBv\n",
       "SK/TuxCzZboGJCHWnPhqyol1enKE9Tl/xL1kI65EA6Ux8EMcXutUNShLpjdTLWbWvX6lS6sjrvbs\n",
       "WJNGg5IQSxNf4TFtIX/N+1JmzaLDw75cHOl9G3HegZY+RiU+tiBvOqgJsTQWl5zhJzvMcvW4lEXu\n",
       "MDoM8go/zIU+IRa+bJGDkhCLS1m0o38AeHWAWQ+z3W6bn9uOhD4FfWvFHnkIQEIsJr7qxGGWq8el\n",
       "zJpGh/1GfvJq2InLlu1eZQASYlniKyVO5MRi5qD9DnRrGh0G+K2v2x5Swk5czOEfGwOQEMsSXylx\n",
       "IieW/jyJKQNWXI/WNDrs9zjAMtKX278SByAhliW+UuJETiy9FCU9Axav16wxOuyTuGXwr8R80XCK\n",
       "PCx9QizucauMlwpDcYzg1hgd9kkc/yWNUBOXaHkRt7QJsUhcy3gp2FM0NGuMDvskjodFQ01c0vID\n",
       "NQFKiJUO/0cVTXipbI+9adYYHQb9EOlZXoHwEwf/NIuBSoi1AeXs/VetUZzeZVn8JJQ1QSzcCbHS\n",
       "0356/1WYN3EbA/hDo7cFpysXJiE2eQebnOMH/BN36YdGA1B+xZ4O+kOj/wNyVFQ53vB7+gAAAABJ\n",
       "RU5ErkJggg==\n",
       "\" style=\"display:inline;vertical-align:middle;\" /></a></span>"
      ],
      "text/plain": [
       "|- forall_{i, j, k in Natural} [forall_{a_{1}, a_{2}, ..., a_{i}, x, b_{1}, b_{2}, ..., b_{j}, c_{1}, c_{2}, ..., c_{k}} ({a_{1}, a_{2}, ..., a_{i}, x,b_{1}, b_{2}, ..., b_{j}, x,c_{1}, c_{2}, ..., c_{k}} =  \\\\ {a_{1}, a_{2}, ..., a_{i}, x,b_{1}, b_{2}, ..., b_{j},c_{1}, c_{2}, ..., c_{k}})]"
      ]
     },
     "metadata": {},
     "output_type": "display_data"
    }
   ],
   "source": [
    "# An enumerated set is equal to a version of itself in which a 2nd\n",
    "# occurrence of an element is removed. Notice the element(s) x in\n",
    "# the set below:\n",
    "reduction_right"
   ]
  },
  {
   "cell_type": "code",
   "execution_count": 31,
   "metadata": {},
   "outputs": [
    {
     "data": {
      "text/html": [
       "<span style=\"font-size:20px;\"> <a class=\"ProveItLink\" href=\"proofs/subset_eq_of_superset/thm_proof.ipynb\" style=\"text-decoration: none\">&nbsp;&#x22A2;&nbsp;&nbsp;</a><a class=\"ProveItLink\" href=\"../__pv_it/theorems/68e07573bf796e1dc78107fa509e301eb2f523640/expr.ipynb\"><img src=\"data:image/png;base64,iVBORw0KGgoAAAANSUhEUgAAAtYAAAAXBAMAAADdFRXNAAAAMFBMVEX///8AAAAAAAAAAAAAAAAA\n",
       "AAAAAAAAAAAAAAAAAAAAAAAAAAAAAAAAAAAAAAAAAAAv3aB7AAAAD3RSTlMAq1RmmUTNIjK7EInv\n",
       "3XZ/CtNrAAAACXBIWXMAAA7EAAAOxAGVKw4bAAAGuUlEQVRo3uVZb2wURRR/93e3e73jxEgEk+aM\n",
       "URuweEEhQgweQg1KjGfUL9IPF5EQ+eLVkJgKgcMQ5AO0VSSAibhI/KBVeoDgv0AqhIAStCEoBHLJ\n",
       "NRCwQpumCUogWufN7M7O7uzerdkqH3jJ7b335jdvZ383++bNHIAfGToL/70UyeeTfLAYbxRdnNpL\n",
       "cOuEjkj5Fxzu/x8GlcqQz1I9WBB1skuASy/fQq7piGJVSmIaHffV5doXLJBMI5+H9aBRGtKSK3xj\n",
       "PIb36UlvqyaajugCJbEV7WV1ufYFCyJagVwOBg6T6DeUwUqlctbuCiav1rBqoent4zqSuBbTSXdd\n",
       "rn3Bgkg0O65cr78s0x9MRmtYtdD09pEckoiMJzJ1ufYFCyKNMJ5ca2dgnLmO3fC2aqLZ7X9EEiNk\n",
       "PsXrr42+YEHkgXHlOpQfb67tUerFFNqZuoQWGCcrlRM+6hA/sCCyyORauedyVfA7TFnsAOMh487n\n",
       "bj+0WuzkMGWRAPGmgYyXJYvQzka0h5K4EOADH1z7gQWRJXh5inzaig3iC+owZbEDUn30a624EpBV\n",
       "N3YMPhJqHIfpkgMkQO9y7U8vSxahnY1oFiWxHZS0D679wILIKZyiR0imPQJR4QV1mC71ix2gsEWp\n",
       "XUCsIunv8yw8K7gcpiwygJSjP3lZsgjtbEQPURIb9IT7Zk05vR8eT5tce8K8ZX23rLm1UjlKbjiJ\n",
       "3CE6AskyaLPMSUnNnj1TPOsXCrBk5yt4TQrZYCm5PAdwHmBXwfBRU/vuDs+5zfCikFfuphUArVr9\n",
       "KVocURclMVx1W/M6J2+BexN6VDe5dofVlFBZ1txaTa5hHclSjd3Qm4fOIbM8oWbOexoygCUH8ryC\n",
       "NDZuT5Nn+AG0a6AOmy8ANaM13hgKsMl5iI1aAdCq1R/bbSNqY5vvwlyX2bIQt4nVXMLao7vB6pRx\n",
       "JVlza+U5BN4lma4KTxCtxUx81LwGa0pemZHhnZvEpbatpPY3REZIo8ENMyfkleteiYnh7QVz9AYP\n",
       "QK0a/RlaHFELI3HvclJrz+8cSM3G5yHaRbanhOb7VwtcIwx65n5lDmffFfmcx+7sGp4iaW6tVHYY\n",
       "dUhvBiaFi5RrDUxzDnItv7AW4NHHhtMXtuGq32e8uHfpQh2ijUKo8CCjiviZGdEJV5rMkwUwScFQ\n",
       "1zGHmwGoVaM/a6dMGiOazUhcRXLyrrZsYzqFyRm1okZzaXPi48UW1wjTzqjm8vpFsUvm2u4c0i9K\n",
       "mlsrGEUR5bqhGj4dZfO6t8BN0qL9YbjohVsUoM08At/DgFjYLv5Q3KPvgJZcjlJFOzITW+SAFsAk\n",
       "hXruhPfBCkAts7/LyLCdMmmOaBEjMUR+ubcuwYRSFDMoanqMprtmyA1aXCMsmlP7QKG13wLYCLHp\n",
       "rXb+0GnJZlLpdOiGJmGxVZBNBtda09ftvzGuk+e4qRK1QkIlc2BcTosAZXeBTKVF7psMdO288k5T\n",
       "iU1LDMNM2KTTEELAnAjgpFDPl1kQAqDF+/OuVn/STpk0R/SLcFjaRFhKZpjWBpHXtm9/j3DdE7ef\n",
       "qTbmyc/89jm2lg2QfXUvOBa4AcE6DvPUFt3QJCzxiWayZNs30nw9lZv4k4XlJMIBoSqZBKe8uTZS\n",
       "J2pWGDpppsrngrqTFO6xB6jXH5k0bq/0C1wfh0FYozJtgaqW2byOTbdz3VtsmKMDck1K9c2fKbZp\n",
       "bDgjTz7SOo2uZCNwGJK6oTmx6Iu0zuDFCJ7OOLnmjUpOKUJCTo1la6FNdSsjJT9cW2FWwJtCCAsP\n",
       "TlIS7gHq9UcmjdtjXWSSqIyQX2F2FHpQO9vMtogzwZymfF4Xu15ArrUyHFOvzQHYgmoPv6AzPAhH\n",
       "w2W0zkW6kWtDc2KJj0AtaraSz1Ub1xrfe3dsWKfDbnlt5IA1ZGZHunNsk4jPVqnwM1VjK2lSxcMo\n",
       "2zY8I4TgYgEMUiyPLUC9/oxJNqIOgcRYGpZB+++wMUO0K1noIFNE/bUIITvXsfnT9wHhWj0ML84g\n",
       "sGgJ1Y1F9RheDOc2rRDNoH/dMCDXhubEou9upWAdryNl5iHCytcPEZJ4289jYwDyU1mA5yFeVJp0\n",
       "uuGT9mRmpascuFkVwjSOjY0IIbhwgEkK99gD1OvPmGQj2gouf24ZD6t9s32L4D1o+6+M5JAw075N\n",
       "cRW41h8uJyOmhTkk7IntT820sicZozIv4LHtyokuzhUT4dYJHVGK1CNDR51nLnr93p0nMsD+wYuP\n",
       "/QVg/ZnHNC2dyocuG5Z6da+huWG1dHgf3LYS8YnLuqlZD0i2Lvb2kH8AmJyVgS24FE0AAAAASUVO\n",
       "RK5CYII=\n",
       "\" style=\"display:inline;vertical-align:middle;\" /></a></span>"
      ],
      "text/plain": [
       "|- forall_{m, n in Natural} [forall_{a_{1}, a_{2}, ..., a_{m}, b_{1}, b_{2}, ..., b_{n}} ({a_{1}, a_{2}, ..., a_{m}} subset_eq {a_{1}, a_{2}, ..., a_{m},b_{1}, b_{2}, ..., b_{n}})]"
      ]
     },
     "metadata": {},
     "output_type": "display_data"
    }
   ],
   "source": [
    "# An enumerated set is always an improper subset of\n",
    "# any set containing the original enumerated set\n",
    "subset_eq_of_superset"
   ]
  },
  {
   "cell_type": "markdown",
   "metadata": {},
   "source": [
    "## Demonstrations <a id='further_demonstrations'></a>"
   ]
  },
  {
   "cell_type": "markdown",
   "metadata": {},
   "source": [
    "<div style=\"width: 90%; border: 5px solid green; padding: 10px; margin: 0px;\"><a id='demo01'></a><font size=4><b>1.</b> Deducing Set memberships such as $\\vdash b\\in\\{a, b, c\\}$, $\\vdash 1\\in\\{1, 2, 3\\}$, and $\\vdash \\{a, b\\}\\in\\{\\{\\}, \\{a\\}, \\{b\\}, \\{a, b\\}\\}$.</font></div>"
   ]
  },
  {
   "cell_type": "markdown",
   "metadata": {},
   "source": [
    "Many simple enumerated set membership claims can be deduced automatically or relatively easily.<br>\n",
    "Let's start with a few claims about set membership:"
   ]
  },
  {
   "cell_type": "code",
   "execution_count": 32,
   "metadata": {},
   "outputs": [
    {
     "data": {
      "text/html": [
       "<strong id=\"b_in_set_abc\">b_in_set_abc:</strong> <a class=\"ProveItLink\" href=\"../__pv_it/demonstrations/9847e18ac6a996835ded94600a8173df6feda0cd0/expr.ipynb\"><img src=\"data:image/png;base64,iVBORw0KGgoAAAANSUhEUgAAAGUAAAAVBAMAAACtcD09AAAAMFBMVEX///8AAAAAAAAAAAAAAAAA\n",
       "AAAAAAAAAAAAAAAAAAAAAAAAAAAAAAAAAAAAAAAAAAAv3aB7AAAAD3RSTlMAELvv3c2ZVESJq3Yi\n",
       "MmZ3LnoBAAAACXBIWXMAAA7EAAAOxAGVKw4bAAABh0lEQVQ4y2NgwAIkGhhwAJ4aHBLcEQK49DDc\n",
       "UgQSjMoO6OL1yFrQ5bVABGsCup4pKDw0ebAkfwF+PWjyYMl+qEu4VVxcsenpF8DUA1XBES2A3Z4p\n",
       "WBwRtXs5iDoqgCLMs3LPBggPKg8EnLvfQiQZvwrIHwDSMQijUoG4+QDTR0i4QeWBxrgzJDEwbAay\n",
       "2D8yMINMDEDEmx1QpR0DGySMYfIMDCwTGKwZGM4Dg4QtgIF/AgMDr4mLi4sTWMtSYCpg+wBSAgJQ\n",
       "eSDIB7uecWkBSKofqJVRAW7PNWBUMyswyDfATO+HhLYRxFMR4OAHG+CAEtXyGxjew6MHasFveCLh\n",
       "vwB0OxDsRglO+QKGpewHGBmg8iAGwz9ghDAwTAayuB4wgRMHawGyHqYN7G5sDPIBUHkQAxRoc6Fh\n",
       "vTIPEqaLGpH0MK6ee2ovA4sjVB7EYOCc91oALYo5JmGmnUIMBnqywBSegMHApWczPO9sQGdAEgkW\n",
       "cB4WHNwM6AwGSCBjyfRZBTjLg1lAKQAPhVv2Woq8+wAAAABJRU5ErkJggg==\n",
       "\" style=\"display:inline;vertical-align:middle;\" /></a><br>"
      ],
      "text/plain": [
       "<IPython.core.display.HTML object>"
      ]
     },
     "metadata": {},
     "output_type": "display_data"
    },
    {
     "data": {
      "text/html": [
       "<strong id=\"three_in_set_123\">three_in_set_123:</strong> <a class=\"ProveItLink\" href=\"../__pv_it/demonstrations/e9db53a8325ae11f0c9de1b13afff81370c884a10/expr.ipynb\"><img src=\"data:image/png;base64,iVBORw0KGgoAAAANSUhEUgAAAGgAAAAVBAMAAABYjraNAAAAMFBMVEX///8AAAAAAAAAAAAAAAAA\n",
       "AAAAAAAAAAAAAAAAAAAAAAAAAAAAAAAAAAAAAAAAAAAv3aB7AAAAD3RSTlMAIomZu0QQVHbN72bd\n",
       "Mqv0UZE7AAAACXBIWXMAAA7EAAAOxAGVKw4bAAABtklEQVQ4y2NgwALYQhlwAnEBHBKdYbg18T5J\n",
       "AJJCyq5o4uzfQOSdBAiP0XjKBShLySSAgYHlAdApBgz1BaiamA4AhR/Ph2oSYWD6CmElM7B/h8hy\n",
       "fGfIn4CpiYGhH6rpIQPDKgirv4DtJ0SWdSkDP0QTh8+Zk1g0rU9geA/xfFQAw0+YLEP9BhDJOiMB\n",
       "q01vGBjeX4D59jdMlvU0WEAyAbvzgOA8jBGzASrL2/cWLDARroZ5Aqom3h9Qxo13QCs5FkCcBw49\n",
       "RGhIbUDVxPMAHhnA0GP8DmZygeKFd82ZM2eOgLhyUxlQNZkgAhYYKgx50xl4LzCwgPSyOcBdY5KA\n",
       "ookbZtFdBgZ/oKM0Axj4v0E0MRyAG8fyAEVTEQMjJMj/J4A0gdIL1wOI8xg6sEQuSB+vAgNHAhtI\n",
       "ZB3YeUzAgODeAI0nzgJUTfoCDKAEwCBjbGwDSTS7EfEUbAxJsGxPwpA1vVs/bwPDGaBV5////8nA\n",
       "cwwUocagBMt0ADnJsaqgJCNwEMNDsAzN8RgAIcwEF1MgpAka50CQAc/LDWjpBQNA4xwI4Eo5ELJZ\n",
       "G7BnaeHnuLO7EFAOAPhqfeyt3KgUAAAAAElFTkSuQmCC\n",
       "\" style=\"display:inline;vertical-align:middle;\" /></a><br>"
      ],
      "text/plain": [
       "<IPython.core.display.HTML object>"
      ]
     },
     "metadata": {},
     "output_type": "display_data"
    },
    {
     "data": {
      "text/html": [
       "<strong id=\"set_ab_in_its_power_set\">set_ab_in_its_power_set:</strong> <a class=\"ProveItLink\" href=\"../__pv_it/demonstrations/ef83659e212c17656815ec84885c87604d603b590/expr.ipynb\"><img src=\"data:image/png;base64,iVBORw0KGgoAAAANSUhEUgAAAQcAAAAVBAMAAAC57DawAAAAMFBMVEX///8AAAAAAAAAAAAAAAAA\n",
       "AAAAAAAAAAAAAAAAAAAAAAAAAAAAAAAAAAAAAAAAAAAv3aB7AAAAD3RSTlMAEER2zVSJ3Zki72ar\n",
       "MruaaVGaAAAACXBIWXMAAA7EAAAOxAGVKw4bAAACmElEQVRIx62Wy2sTURTGz0066URNGOxOgkld\n",
       "uhpQBEUhVoS6G1fSVQMKkaJSQTqupIuCG9GAD0QCCi6KBCT/gUJSN0JxqeCixYUuBBs1ggvB+5j7\n",
       "PhOkeBaHmd89851vHvckAEAOgR3lBfBjf0Okhx2P0kCprSNL7Tay5uis2/DjtuehOBeJVNmMHMoC\n",
       "p6aOgk4bUROMzIWD6yx/9UwsRjJVXzuUh0s9ncUopw1PpWWr2zxLbc9EWyWzXtd51NVxJOfzRWmM\n",
       "/5OJ8WQT40kmCiPziuLn9MbuTNg6ngljGTEhzrIrCmei3T4JS8c3YSxr0e7F+2J1anAyUVc8iP7h\n",
       "dZTfHI99aumoa7E2PIVNessv4JtoWD9NfgOcEKXntMaaSsVnNj3cqY58aulIiLbh6Ukf4EAfbqud\n",
       "9BzgacJPmnqw9GSC8tiipAfhskdtHQnRNix15+jBPYAVZfgXVR6y5cp6mqa3uMSwkSUatbNSmIFw\n",
       "B6ZbHrV0FETbsFS5Sx/QSyDfxeoKFOg9lZgzIFvq7t5vywRwqWHSPVtQb3jU0lEQbcMTnXXkB+zd\n",
       "kfs3HKnxZnxseriZE5aCegyvfGrrZBBvwxP9rskY9jUXgJ39YS8OlkTpEXRY8U+QSFpPYBh0XGrq\n",
       "KIi3WZJb7hNcWF0lP+nZW/iiN/VUkrtF680MVOPgZuhRU0dDtI0SrR37MHgHKfVYu9zXJsjmbJ6J\n",
       "6evy9gZXu6c8auoYEGvjDJ8gcsdb4Vru2D6PTkyHtjEYTBzDpbxfG6y+hZpoYSbcUkRUz7oZez5a\n",
       "oYdbyF8xiRWAfLqGwRlkDOtZF8sD0vNMqOHGP2tqXVMeKBU6bqndJuv1eMP983cl8UyU7yQiPdpw\n",
       "KQuUWjqq1G7D01/S3wQQdETSJwAAAABJRU5ErkJggg==\n",
       "\" style=\"display:inline;vertical-align:middle;\" /></a><br>"
      ],
      "text/plain": [
       "<IPython.core.display.HTML object>"
      ]
     },
     "metadata": {},
     "output_type": "display_data"
    }
   ],
   "source": [
    "# Some (as yet) unproven claims\n",
    "b_in_set_abc, three_in_set_123, set_ab_in_its_power_set = (\n",
    "        InSet(b, set_abc), InSet(three, set_123), InSet(Set(a, b), power_set_ab))"
   ]
  },
  {
   "cell_type": "markdown",
   "metadata": {},
   "source": [
    "Prove-It can prove each of these claims automatically, without any extra nudging from us:"
   ]
  },
  {
   "cell_type": "code",
   "execution_count": 33,
   "metadata": {},
   "outputs": [
    {
     "data": {
      "text/html": [
       "<span style=\"font-size:20px;\"> <a class=\"ProveItLink\" href=\"../__pv_it/demonstrations/12ed06c10aecb44331885d5a42c1bbc08587bc1d0/proof.ipynb\" style=\"text-decoration: none\">&nbsp;&#x22A2;&nbsp;&nbsp;</a><a class=\"ProveItLink\" href=\"../__pv_it/demonstrations/9847e18ac6a996835ded94600a8173df6feda0cd0/expr.ipynb\"><img src=\"data:image/png;base64,iVBORw0KGgoAAAANSUhEUgAAAGUAAAAVBAMAAACtcD09AAAAMFBMVEX///8AAAAAAAAAAAAAAAAA\n",
       "AAAAAAAAAAAAAAAAAAAAAAAAAAAAAAAAAAAAAAAAAAAv3aB7AAAAD3RSTlMAELvv3c2ZVESJq3Yi\n",
       "MmZ3LnoBAAAACXBIWXMAAA7EAAAOxAGVKw4bAAABh0lEQVQ4y2NgwAIkGhhwAJ4aHBLcEQK49DDc\n",
       "UgQSjMoO6OL1yFrQ5bVABGsCup4pKDw0ebAkfwF+PWjyYMl+qEu4VVxcsenpF8DUA1XBES2A3Z4p\n",
       "WBwRtXs5iDoqgCLMs3LPBggPKg8EnLvfQiQZvwrIHwDSMQijUoG4+QDTR0i4QeWBxrgzJDEwbAay\n",
       "2D8yMINMDEDEmx1QpR0DGySMYfIMDCwTGKwZGM4Dg4QtgIF/AgMDr4mLi4sTWMtSYCpg+wBSAgJQ\n",
       "eSDIB7uecWkBSKofqJVRAW7PNWBUMyswyDfATO+HhLYRxFMR4OAHG+CAEtXyGxjew6MHasFveCLh\n",
       "vwB0OxDsRglO+QKGpewHGBmg8iAGwz9ghDAwTAayuB4wgRMHawGyHqYN7G5sDPIBUHkQAxRoc6Fh\n",
       "vTIPEqaLGpH0MK6ee2ovA4sjVB7EYOCc91oALYo5JmGmnUIMBnqywBSegMHApWczPO9sQGdAEgkW\n",
       "cB4WHNwM6AwGSCBjyfRZBTjLg1lAKQAPhVv2Woq8+wAAAABJRU5ErkJggg==\n",
       "\" style=\"display:inline;vertical-align:middle;\" /></a></span>"
      ],
      "text/plain": [
       "|- b in {a, b, c}"
      ]
     },
     "metadata": {},
     "output_type": "display_data"
    }
   ],
   "source": [
    "# prove the claim that b is an elem of {a, b, c}\n",
    "b_in_set_abc.prove()"
   ]
  },
  {
   "cell_type": "code",
   "execution_count": 34,
   "metadata": {},
   "outputs": [
    {
     "data": {
      "text/html": [
       "<span style=\"font-size:20px;\"> <a class=\"ProveItLink\" href=\"../__pv_it/demonstrations/56e40e56cea09c54fef40a376d239607b441294f0/proof.ipynb\" style=\"text-decoration: none\">&nbsp;&#x22A2;&nbsp;&nbsp;</a><a class=\"ProveItLink\" href=\"../__pv_it/demonstrations/e9db53a8325ae11f0c9de1b13afff81370c884a10/expr.ipynb\"><img src=\"data:image/png;base64,iVBORw0KGgoAAAANSUhEUgAAAGgAAAAVBAMAAABYjraNAAAAMFBMVEX///8AAAAAAAAAAAAAAAAA\n",
       "AAAAAAAAAAAAAAAAAAAAAAAAAAAAAAAAAAAAAAAAAAAv3aB7AAAAD3RSTlMAIomZu0QQVHbN72bd\n",
       "Mqv0UZE7AAAACXBIWXMAAA7EAAAOxAGVKw4bAAABtklEQVQ4y2NgwALYQhlwAnEBHBKdYbg18T5J\n",
       "AJJCyq5o4uzfQOSdBAiP0XjKBShLySSAgYHlAdApBgz1BaiamA4AhR/Ph2oSYWD6CmElM7B/h8hy\n",
       "fGfIn4CpiYGhH6rpIQPDKgirv4DtJ0SWdSkDP0QTh8+Zk1g0rU9geA/xfFQAw0+YLEP9BhDJOiMB\n",
       "q01vGBjeX4D59jdMlvU0WEAyAbvzgOA8jBGzASrL2/cWLDARroZ5Aqom3h9Qxo13QCs5FkCcBw49\n",
       "RGhIbUDVxPMAHhnA0GP8DmZygeKFd82ZM2eOgLhyUxlQNZkgAhYYKgx50xl4LzCwgPSyOcBdY5KA\n",
       "ookbZtFdBgZ/oKM0Axj4v0E0MRyAG8fyAEVTEQMjJMj/J4A0gdIL1wOI8xg6sEQuSB+vAgNHAhtI\n",
       "ZB3YeUzAgODeAI0nzgJUTfoCDKAEwCBjbGwDSTS7EfEUbAxJsGxPwpA1vVs/bwPDGaBV5////8nA\n",
       "cwwUocagBMt0ADnJsaqgJCNwEMNDsAzN8RgAIcwEF1MgpAka50CQAc/LDWjpBQNA4xwI4Eo5ELJZ\n",
       "G7BnaeHnuLO7EFAOAPhqfeyt3KgUAAAAAElFTkSuQmCC\n",
       "\" style=\"display:inline;vertical-align:middle;\" /></a></span>"
      ],
      "text/plain": [
       "|- 3 in {1, 2, 3}"
      ]
     },
     "metadata": {},
     "output_type": "display_data"
    }
   ],
   "source": [
    "# prove the claim that 3 is an elem of {1, 2, 3}\n",
    "three_in_set_123.prove()"
   ]
  },
  {
   "cell_type": "code",
   "execution_count": 35,
   "metadata": {},
   "outputs": [
    {
     "data": {
      "text/html": [
       "<span style=\"font-size:20px;\"> <a class=\"ProveItLink\" href=\"../__pv_it/demonstrations/ae50c736a8c176c278619bdda32794014774d4080/proof.ipynb\" style=\"text-decoration: none\">&nbsp;&#x22A2;&nbsp;&nbsp;</a><a class=\"ProveItLink\" href=\"../__pv_it/demonstrations/ef83659e212c17656815ec84885c87604d603b590/expr.ipynb\"><img src=\"data:image/png;base64,iVBORw0KGgoAAAANSUhEUgAAAQcAAAAVBAMAAAC57DawAAAAMFBMVEX///8AAAAAAAAAAAAAAAAA\n",
       "AAAAAAAAAAAAAAAAAAAAAAAAAAAAAAAAAAAAAAAAAAAv3aB7AAAAD3RSTlMAEER2zVSJ3Zki72ar\n",
       "MruaaVGaAAAACXBIWXMAAA7EAAAOxAGVKw4bAAACmElEQVRIx62Wy2sTURTGz0066URNGOxOgkld\n",
       "uhpQBEUhVoS6G1fSVQMKkaJSQTqupIuCG9GAD0QCCi6KBCT/gUJSN0JxqeCixYUuBBs1ggvB+5j7\n",
       "PhOkeBaHmd89851vHvckAEAOgR3lBfBjf0Okhx2P0kCprSNL7Tay5uis2/DjtuehOBeJVNmMHMoC\n",
       "p6aOgk4bUROMzIWD6yx/9UwsRjJVXzuUh0s9ncUopw1PpWWr2zxLbc9EWyWzXtd51NVxJOfzRWmM\n",
       "/5OJ8WQT40kmCiPziuLn9MbuTNg6ngljGTEhzrIrCmei3T4JS8c3YSxr0e7F+2J1anAyUVc8iP7h\n",
       "dZTfHI99aumoa7E2PIVNessv4JtoWD9NfgOcEKXntMaaSsVnNj3cqY58aulIiLbh6Ukf4EAfbqud\n",
       "9BzgacJPmnqw9GSC8tiipAfhskdtHQnRNix15+jBPYAVZfgXVR6y5cp6mqa3uMSwkSUatbNSmIFw\n",
       "B6ZbHrV0FETbsFS5Sx/QSyDfxeoKFOg9lZgzIFvq7t5vywRwqWHSPVtQb3jU0lEQbcMTnXXkB+zd\n",
       "kfs3HKnxZnxseriZE5aCegyvfGrrZBBvwxP9rskY9jUXgJ39YS8OlkTpEXRY8U+QSFpPYBh0XGrq\n",
       "KIi3WZJb7hNcWF0lP+nZW/iiN/VUkrtF680MVOPgZuhRU0dDtI0SrR37MHgHKfVYu9zXJsjmbJ6J\n",
       "6evy9gZXu6c8auoYEGvjDJ8gcsdb4Vru2D6PTkyHtjEYTBzDpbxfG6y+hZpoYSbcUkRUz7oZez5a\n",
       "oYdbyF8xiRWAfLqGwRlkDOtZF8sD0vNMqOHGP2tqXVMeKBU6bqndJuv1eMP983cl8UyU7yQiPdpw\n",
       "KQuUWjqq1G7D01/S3wQQdETSJwAAAABJRU5ErkJggg==\n",
       "\" style=\"display:inline;vertical-align:middle;\" /></a></span>"
      ],
      "text/plain": [
       "|- {a, b} in {{}, {a}, {b}, {a, b}}"
      ]
     },
     "metadata": {},
     "output_type": "display_data"
    }
   ],
   "source": [
    "# prove the claim that {a,b} is an elem of its own power set\n",
    "set_ab_in_its_power_set.prove()"
   ]
  },
  {
   "cell_type": "markdown",
   "metadata": {},
   "source": [
    "The proofs generated by Prove-It for those three judgments established above (click on the turnstile in an expression to go to the proof page), are somewhat complicated and opaque, relying on the very basic `fold` theorem each time for how membership is defined for an enumerated set. As an alternative, consider a manual application of the `in_enumerated_set` theorem:"
   ]
  },
  {
   "cell_type": "code",
   "execution_count": 36,
   "metadata": {},
   "outputs": [
    {
     "data": {
      "text/html": [
       "<span style=\"font-size:20px;\"> <a class=\"ProveItLink\" href=\"proofs/in_enumerated_set/thm_proof.ipynb\" style=\"text-decoration: none\">&nbsp;&#x22A2;&nbsp;&nbsp;</a><a class=\"ProveItLink\" href=\"../__pv_it/theorems/ed19137bc36ddbb43af52f63034b20fd15e11a410/expr.ipynb\"><img src=\"data:image/png;base64,iVBORw0KGgoAAAANSUhEUgAAAm4AAAAXBAMAAABANN4AAAAAMFBMVEX///8AAAAAAAAAAAAAAAAA\n",
       "AAAAAAAAAAAAAAAAAAAAAAAAAAAAAAAAAAAAAAAAAAAv3aB7AAAAD3RSTlMAq1RmmUTNIjK7EInv\n",
       "3XZ/CtNrAAAACXBIWXMAAA7EAAAOxAGVKw4bAAAF+0lEQVRYw9VYXWgcVRQ+2Z/M7Ex2syoI+hBW\n",
       "RFqMiYutYoqE1TSSKuJi1Qebh0Vbin1xA0GJlDYVUR/WJFqDTUGdWBBrtNk21n9LqIRUSyVIq6Ul\n",
       "sDGlkqQJIVJbWjSec+fv3p3J7qS7lnhg755z7rnfnfPN/R0ATzJ7Gq6XSG5O5SlYASKtMp7PMx2H\n",
       "r9/D/e7mPP/MSuANdu0FCOYYH1Gyby/Om7e40sWXhf0nHM4r5YB24i5b3sLfJOOjmcytxXnzFle6\n",
       "fIS/zflOdaws2JtLRvgef5Ua8bGLpmxPcd68xZUuTfhb+I94WygLb/4E8UHsqbHivHmLK12GcQUx\n",
       "Z+XU+HiqjLwFr5SFN/iJ+PDHceR52Be8xZW+vKVslp6eLu94KwMK4+05tk+eGB8/7mU/9RRXsgSy\n",
       "+HpqJmhgS9vEjNuO7OAj80ynOAIMXMKbu5/nU7Bc+LbrGW8HGR8tAHu98OYprmSpxGE9uE25RGra\n",
       "ZhNHYXAUPtC4SSeaLrPSEWDg4hv5BTZwpzLBcjm1cfUXqLiP8dEGUtQLb57iSpYwjoi7NfgZhFVh\n",
       "O7L5aRwe4wLzTKc4Awxc7CRrKC6WyyNx9TtpwN7F+AhpatKd55OH4YGoxduScUvLa8vff6uwj4cB\n",
       "rqKaGUdhCG1bsHgc4CzAvpQRyEzl2xuWHHN6PC8GLlZRIxsJrYJAXI1yMxLXzfjw5dyW+65beuE2\n",
       "VQtoFm/ucQWlIntNvJ2FIJ0Y9ltOeQM+xo+gXAR5zlzbmRmAwJJrPQsQxMClKhCQoAgQt9TRG2zV\n",
       "70+pRpfluYVuB7mEyt2z3OKKkNB5TfN0AQJ0Ygjb3lAUlH/AP49vz0hPN6uT0uUlgIx48fjGcKkK\n",
       "BCQoAiRMdYA6nY9DuG/5m7omIg2UJmrn9LsErL5jB88bxcFA45cm3tBM2tmJ4Oyeu5X+jliEq5M5\n",
       "524l+EJoXKa1CSCS4/dTZQEqUqv0bGliMdOvYbqKM1c7wMyL8mW4pPyJu4aFxKwCQHo9YwXgOyoa\n",
       "dD624xq2rzVeFY3QYkZaWmHLymr1w00cbxSn/CZfMlyfpbudvInOWY06CyczpuOUPOxoIvpU7OQm\n",
       "eIfpzwrnkPehLpFg2Sp/gWlSzWDKcLHCsliAmRfzEC5TcHv8ykZiVgEgqmesmOeQR3U+KvB1vHwe\n",
       "qjvp7MQ0LRhnvEFiiuON4gIJzFJi55H1kIFgfbNIAjlt2U1bNvb7MXSwdTLQo3Q+cU7cXcjHmTJm\n",
       "0/856x76ezWOt/6Z12s69VEyrpkmvKlB+Ay6ToJRhBN8gJUX8xAuKepQo2YjMasAENUzVkzeTnHf\n",
       "h2ow4XBM11rB/3xf39vI20Bl3nekqiS+vFcIH0ZgAqpgUOSNnLYcgweZD+Q6zVz0h5V5x0bAC/9l\n",
       "a9N7jnsWy9Zn7XDsFd7pvHVo+XlZHlsRkIoBESsGb9IYx9sxmIKdsq6tl+WsPt6C9Xm8DaZD6zQg\n",
       "3vAIufsTSRhehtP/0JrmWjaG5uEoljSxw6z/ahzq6bypSr61G2ste23hGxLLVrUq2uElAOeurUJ+\n",
       "XqqjSkQqBkSsGLwF4jYf0jwy2hCAAdJOr9ZvBveCNXqs8Zbu3ki8KVkYlS+uA+jFrYIsKgynbwpG\n",
       "fFlynvH3YLkFeyfeBqAyiY8WStotDF99j713htIuvEWGhWwPWMNtzxuPgOLca+wAIy/bc8AVqRiQ\n",
       "zgo7AkIHx0cwCluhbRoyMdRm4tCB40X+NQ0VebwFm+qHAHmTj8KT92BcAOMyMXkUMml51HTuUVKB\n",
       "GIW8Okdl+5ppxlsmJjXhStLCtTB8FZ0v2kPW7awsmV+ApC+uYnJWflWLi/MQccZbAWZetifnilQM\n",
       "SGcFlB9Qf9ft+7dx8VW+7usVvgMIH9Rxnvp07ZuI3cZyjvmyYb9p6SWbpyxO1XJcC10Lw6T9Hdz1\n",
       "tt5+40r4TC4dxMeN4ISYHcm/DGsemncdj4GeZ+Xi33wb3alEI8mKP0yLlfKFQ2bcC4tjXAtd64fa\n",
       "OPyvxe81MO7WJu4SEneJ8y+/v5Um/wJqXx6djCKheAAAAABJRU5ErkJggg==\n",
       "\" style=\"display:inline;vertical-align:middle;\" /></a></span>"
      ],
      "text/plain": [
       "|- forall_{m, n in Natural} [forall_{a_{1}, a_{2}, ..., a_{m}, b, c_{1}, c_{2}, ..., c_{n}} (b in {a_{1}, a_{2}, ..., a_{m}, b,c_{1}, c_{2}, ..., c_{n}})]"
      ]
     },
     "metadata": {},
     "output_type": "display_data"
    }
   ],
   "source": [
    "from proveit.logic.sets.enumeration import in_enumerated_set\n",
    "in_enumerated_set"
   ]
  },
  {
   "cell_type": "code",
   "execution_count": 37,
   "metadata": {},
   "outputs": [
    {
     "data": {
      "text/html": [
       "<strong id=\"set_ab_in_its_power_set_kt\">set_ab_in_its_power_set_kt:</strong> <span style=\"font-size:20px;\"> <a class=\"ProveItLink\" href=\"../__pv_it/demonstrations/ae50c736a8c176c278619bdda32794014774d4080/proof.ipynb\" style=\"text-decoration: none\">&nbsp;&#x22A2;&nbsp;&nbsp;</a><a class=\"ProveItLink\" href=\"../__pv_it/demonstrations/ef83659e212c17656815ec84885c87604d603b590/expr.ipynb\"><img src=\"data:image/png;base64,iVBORw0KGgoAAAANSUhEUgAAAQcAAAAVBAMAAAC57DawAAAAMFBMVEX///8AAAAAAAAAAAAAAAAA\n",
       "AAAAAAAAAAAAAAAAAAAAAAAAAAAAAAAAAAAAAAAAAAAv3aB7AAAAD3RSTlMAEER2zVSJ3Zki72ar\n",
       "MruaaVGaAAAACXBIWXMAAA7EAAAOxAGVKw4bAAACmElEQVRIx62Wy2sTURTGz0066URNGOxOgkld\n",
       "uhpQBEUhVoS6G1fSVQMKkaJSQTqupIuCG9GAD0QCCi6KBCT/gUJSN0JxqeCixYUuBBs1ggvB+5j7\n",
       "PhOkeBaHmd89851vHvckAEAOgR3lBfBjf0Okhx2P0kCprSNL7Tay5uis2/DjtuehOBeJVNmMHMoC\n",
       "p6aOgk4bUROMzIWD6yx/9UwsRjJVXzuUh0s9ncUopw1PpWWr2zxLbc9EWyWzXtd51NVxJOfzRWmM\n",
       "/5OJ8WQT40kmCiPziuLn9MbuTNg6ngljGTEhzrIrCmei3T4JS8c3YSxr0e7F+2J1anAyUVc8iP7h\n",
       "dZTfHI99aumoa7E2PIVNessv4JtoWD9NfgOcEKXntMaaSsVnNj3cqY58aulIiLbh6Ukf4EAfbqud\n",
       "9BzgacJPmnqw9GSC8tiipAfhskdtHQnRNix15+jBPYAVZfgXVR6y5cp6mqa3uMSwkSUatbNSmIFw\n",
       "B6ZbHrV0FETbsFS5Sx/QSyDfxeoKFOg9lZgzIFvq7t5vywRwqWHSPVtQb3jU0lEQbcMTnXXkB+zd\n",
       "kfs3HKnxZnxseriZE5aCegyvfGrrZBBvwxP9rskY9jUXgJ39YS8OlkTpEXRY8U+QSFpPYBh0XGrq\n",
       "KIi3WZJb7hNcWF0lP+nZW/iiN/VUkrtF680MVOPgZuhRU0dDtI0SrR37MHgHKfVYu9zXJsjmbJ6J\n",
       "6evy9gZXu6c8auoYEGvjDJ8gcsdb4Vru2D6PTkyHtjEYTBzDpbxfG6y+hZpoYSbcUkRUz7oZez5a\n",
       "oYdbyF8xiRWAfLqGwRlkDOtZF8sD0vNMqOHGP2tqXVMeKBU6bqndJuv1eMP983cl8UyU7yQiPdpw\n",
       "KQuUWjqq1G7D01/S3wQQdETSJwAAAABJRU5ErkJggg==\n",
       "\" style=\"display:inline;vertical-align:middle;\" /></a></span><br>"
      ],
      "text/plain": [
       "<IPython.core.display.HTML object>"
      ]
     },
     "metadata": {},
     "output_type": "display_data"
    }
   ],
   "source": [
    "# Instantiate the theorem for the case of {a,b} being in its own power set:\n",
    "set_ab_in_its_power_set_kt = in_enumerated_set.instantiate(\n",
    "    {m:three, n:zero, a:(Set(), Set(a), Set(b)), b:Set(a,b), c:()})"
   ]
  },
  {
   "cell_type": "markdown",
   "metadata": {},
   "source": [
    "Now the proof of such a claim is relatively straightforward, and we will have moved much of the heavy-lifting of the previous proofs to a single underlying proof of the `in_enumerated_set` theorem itself:"
   ]
  },
  {
   "cell_type": "code",
   "execution_count": 38,
   "metadata": {},
   "outputs": [
    {
     "data": {
      "text/html": [
       "<table><tr><th>&nbsp;</th><th>step type</th><th>requirements</th><th>statement</th></tr>\n",
       "<tr><td><a name=\"0x26dd301fa8cb4cef_step0\">0</a></td><td>instantiation</td><td><a href=\"#0x26dd301fa8cb4cef_step1\">1</a>, <a href=\"#0x26dd301fa8cb4cef_step2\">2</a>, <a href=\"#0x26dd301fa8cb4cef_step3\">3</a>, <a href=\"#0x26dd301fa8cb4cef_step4\">4</a>, <a href=\"#0x26dd301fa8cb4cef_step5\">5</a></td><td><span style=\"font-size:20px;\"> <a class=\"ProveItLink\" href=\"../__pv_it/demonstrations/ae50c736a8c176c278619bdda32794014774d4080/proof.ipynb\" style=\"text-decoration: none\">&nbsp;&#x22A2;&nbsp;&nbsp;</a><a class=\"ProveItLink\" href=\"../__pv_it/demonstrations/ef83659e212c17656815ec84885c87604d603b590/expr.ipynb\"><img src=\"data:image/png;base64,iVBORw0KGgoAAAANSUhEUgAAAQcAAAAVBAMAAAC57DawAAAAMFBMVEX///8AAAAAAAAAAAAAAAAA\n",
       "AAAAAAAAAAAAAAAAAAAAAAAAAAAAAAAAAAAAAAAAAAAv3aB7AAAAD3RSTlMAEER2zVSJ3Zki72ar\n",
       "MruaaVGaAAAACXBIWXMAAA7EAAAOxAGVKw4bAAACmElEQVRIx62Wy2sTURTGz0066URNGOxOgkld\n",
       "uhpQBEUhVoS6G1fSVQMKkaJSQTqupIuCG9GAD0QCCi6KBCT/gUJSN0JxqeCixYUuBBs1ggvB+5j7\n",
       "PhOkeBaHmd89851vHvckAEAOgR3lBfBjf0Okhx2P0kCprSNL7Tay5uis2/DjtuehOBeJVNmMHMoC\n",
       "p6aOgk4bUROMzIWD6yx/9UwsRjJVXzuUh0s9ncUopw1PpWWr2zxLbc9EWyWzXtd51NVxJOfzRWmM\n",
       "/5OJ8WQT40kmCiPziuLn9MbuTNg6ngljGTEhzrIrCmei3T4JS8c3YSxr0e7F+2J1anAyUVc8iP7h\n",
       "dZTfHI99aumoa7E2PIVNessv4JtoWD9NfgOcEKXntMaaSsVnNj3cqY58aulIiLbh6Ukf4EAfbqud\n",
       "9BzgacJPmnqw9GSC8tiipAfhskdtHQnRNix15+jBPYAVZfgXVR6y5cp6mqa3uMSwkSUatbNSmIFw\n",
       "B6ZbHrV0FETbsFS5Sx/QSyDfxeoKFOg9lZgzIFvq7t5vywRwqWHSPVtQb3jU0lEQbcMTnXXkB+zd\n",
       "kfs3HKnxZnxseriZE5aCegyvfGrrZBBvwxP9rskY9jUXgJ39YS8OlkTpEXRY8U+QSFpPYBh0XGrq\n",
       "KIi3WZJb7hNcWF0lP+nZW/iiN/VUkrtF680MVOPgZuhRU0dDtI0SrR37MHgHKfVYu9zXJsjmbJ6J\n",
       "6evy9gZXu6c8auoYEGvjDJ8gcsdb4Vru2D6PTkyHtjEYTBzDpbxfG6y+hZpoYSbcUkRUz7oZez5a\n",
       "oYdbyF8xiRWAfLqGwRlkDOtZF8sD0vNMqOHGP2tqXVMeKBU6bqndJuv1eMP983cl8UyU7yQiPdpw\n",
       "KQuUWjqq1G7D01/S3wQQdETSJwAAAABJRU5ErkJggg==\n",
       "\" style=\"display:inline;vertical-align:middle;\" /></a></span></td></tr>\n",
       "<tr><td>&nbsp;</td><td colspan=4 style=\"text-align:left\"><span style=\"font-size:20px;\"><a class=\"ProveItLink\" href=\"../../../../__pv_it/common/674a03b9c3ca221b3aabd5636837b31528ff33830/expr.ipynb\"><img src=\"data:image/png;base64,iVBORw0KGgoAAAANSUhEUgAAABIAAAAJBAMAAADN8WE8AAAAMFBMVEX///8AAAAAAAAAAAAAAAAA\n",
       "AAAAAAAAAAAAAAAAAAAAAAAAAAAAAAAAAAAAAAAAAAAv3aB7AAAAD3RSTlMARHarECKJuzJmVO/d\n",
       "mc2qKiq2AAAACXBIWXMAAA7EAAAOxAGVKw4bAAAAXklEQVQI12NgVHZNKuJIK2RgYGM3YvCfyLCa\n",
       "gUGQp4AhXoFhPgODg78Aw3oHhnsMDAzrGUDUNiDLjoHhGAPjVxYQj+UjA/ODSAbWHwycHxjYExIY\n",
       "GA8wMF1gYLwUAABMtRSZFIjjRwAAAABJRU5ErkJggg==\n",
       "\" style=\"display:inline;vertical-align:middle;\" /></a> : <a class=\"ProveItLink\" href=\"../../../../numbers/numerals/__pv_it/common/1943b60945420e340d305780feff5c1aff2740ff0/expr.ipynb\"><img src=\"data:image/png;base64,iVBORw0KGgoAAAANSUhEUgAAAAoAAAAOBAMAAADkjZCYAAAAMFBMVEX///8AAAAAAAAAAAAAAAAA\n",
       "AAAAAAAAAAAAAAAAAAAAAAAAAAAAAAAAAAAAAAAAAAAv3aB7AAAAD3RSTlMAIomZu0QQVHbN72bd\n",
       "Mqv0UZE7AAAACXBIWXMAAA7EAAAOxAGVKw4bAAAATElEQVQI12NgEFJ2ZWBgM2CoL2Dg+M6QP4GB\n",
       "dSkD/wQGIKjfACRYTwMJ3r63DGCRAhDJ9Y2B9wIDy3cG/m8gkusBSIR7A1h9sLErAwDNcRLUUVUn\n",
       "vwAAAABJRU5ErkJggg==\n",
       "\" style=\"display:inline;vertical-align:middle;\" /></a>, <a class=\"ProveItLink\" href=\"../../../../__pv_it/common/8968bb04eb3f7dfa02353397ce929b025bbd79c20/expr.ipynb\"><img src=\"data:image/png;base64,iVBORw0KGgoAAAANSUhEUgAAAAwAAAAJBAMAAAD0ltBnAAAALVBMVEX///8AAAAAAAAAAAAAAAAA\n",
       "AAAAAAAAAAAAAAAAAAAAAAAAAAAAAAAAAAAAAADAOrOgAAAADnRSTlMARHarECKJu90yVM1m74AT\n",
       "aC0AAAAJcEhZcwAADsQAAA7EAZUrDhsAAABESURBVAjXY2BUdk0qYmBgYzdi8AtgEOQoYIibwODg\n",
       "J8CwzoGBYR0DgzUDGL9hYWC4xsD1hI2B9SUD04aTDIwNDCw2CwBlUgzGkPW4hwAAAABJRU5ErkJg\n",
       "gg==\n",
       "\" style=\"display:inline;vertical-align:middle;\" /></a> : <a class=\"ProveItLink\" href=\"../../../../numbers/numerals/__pv_it/common/dd4e19e8b134dfb293470ea55fe3589b0ab9f8040/expr.ipynb\"><img src=\"data:image/png;base64,iVBORw0KGgoAAAANSUhEUgAAAAoAAAAOBAMAAADkjZCYAAAAMFBMVEX///8AAAAAAAAAAAAAAAAA\n",
       "AAAAAAAAAAAAAAAAAAAAAAAAAAAAAAAAAAAAAAAAAAAv3aB7AAAAD3RSTlMAiXaZIs1UEN1mu6sy\n",
       "RO+L2jdBAAAACXBIWXMAAA7EAAAOxAGVKw4bAAAAV0lEQVQI12NgYBQyYWBgCGOocGDgbGBgXMDA\n",
       "tYGB7TsDvwEDzzeGeiD5k8FfgIHnE5j8yFAvwMD7CSTL9o2BawED53cGzgcMzAEMDG0MdQcYGIqF\n",
       "9jAAAMPIEplEfAWeAAAAAElFTkSuQmCC\n",
       "\" style=\"display:inline;vertical-align:middle;\" /></a>, <a class=\"ProveItLink\" href=\"../../../../__pv_it/common/c06c606ec12678c58933ac85412ecadc2ae28be60/expr.ipynb\"><img src=\"data:image/png;base64,iVBORw0KGgoAAAANSUhEUgAAAAsAAAAJBAMAAAAWSsseAAAAMFBMVEX///8AAAAAAAAAAAAAAAAA\n",
       "AAAAAAAAAAAAAAAAAAAAAAAAAAAAAAAAAAAAAAAAAAAv3aB7AAAAD3RSTlMAIquJdkTvuxBmmd1U\n",
       "zTKBpmoTAAAACXBIWXMAAA7EAAAOxAGVKw4bAAAARUlEQVQI12NgYFR2dGBgYAgTYP/BwMCRycC1\n",
       "gYGB6wMDtwEDA1sBQ38AA0O/A8N8oIr+Awy6PAIM7A48u7iAKlXshPwYAE2lCqdX0eXEAAAAAElF\n",
       "TkSuQmCC\n",
       "\" style=\"display:inline;vertical-align:middle;\" /></a> : <a class=\"ProveItLink\" href=\"../__pv_it/demonstrations/8be65435cf7f20b08687ba10d0d5c8509d026eef0/expr.ipynb\"><img src=\"data:image/png;base64,iVBORw0KGgoAAAANSUhEUgAAAHcAAAAVBAMAAACOK2zoAAAAMFBMVEX///8AAAAAAAAAAAAAAAAA\n",
       "AAAAAAAAAAAAAAAAAAAAAAAAAAAAAAAAAAAAAAAAAAAv3aB7AAAAD3RSTlMAInZUiRDNmWbv3US7\n",
       "qzJazP2FAAAACXBIWXMAAA7EAAAOxAGVKw4bAAAB/0lEQVQ4y5WUMWjUUBjH/7nkNb0z3gUUxEIx\n",
       "dRBcSgR17U2ChcrDTarkQAqFo3CDiIOl2Tp6Y8HlQERwOoQOxaHXgkOHQvHKTQ7dCoJQEDv7fS/v\n",
       "JXntdbhAct/98v/nPb7vnwAIASz3nQcoHeK7Lm6EZbzcL6C6UYnpbEv8+VFS3dvWRf2XLCjLcviN\n",
       "q4d0LjA8LFTuv7wMjgpMMnHQ07CS0gZb9GcR5pIdXm9cqRRTHQNXAD+dzNyIDdwEqpjMvCsNrEo8\n",
       "ntC8mMOpFG+uNDvHc9Fl89rdoYbeEVaZvuXL/ULlcxd3woCaXukWmGTiXCZhBqdb+MRrbPGtO3Gu\n",
       "us1j2IJPCzh/c8oyGmI1yqDbxUeCIxUcMTLu2TavfoZak35fvTZeltGeGs0M1s/YjFMVLq9tlqi/\n",
       "p5ZWB0j4oU/6BrOMnrcbZ/BaV207C9eCtGKVRPhgh41lNOYNmUG3h/280U+VQJpuJzFGbghPNUyY\n",
       "bjdOqBcZnB5gyR6VODfmIHK/+GZUSUsrrqdBR0O/id8X5vzVJEj8fDY7b8y1z1ohjt+ZHNT6qJ3Y\n",
       "ZleOTdgjK0YKztDOO7bZGx/P5mUzb2HPhEvFDM/VW9+1wwYRWRlk6AyoeKnDJVTMoFSlWL1I1dNg\n",
       "ZZBhwN8hh+TOeuwsxaXP0K2hLm4OS5RkBZwD/gNKUoDWjrlobAAAAABJRU5ErkJggg==\n",
       "\" style=\"display:inline;vertical-align:middle;\" /></a>, <a class=\"ProveItLink\" href=\"../../../../__pv_it/common/195236b98c6c564a75b5dbada74b173bc52d5c3e0/expr.ipynb\"><img src=\"data:image/png;base64,iVBORw0KGgoAAAANSUhEUgAAAAkAAAAOBAMAAAAPuiubAAAAMFBMVEX///8AAAAAAAAAAAAAAAAA\n",
       "AAAAAAAAAAAAAAAAAAAAAAAAAAAAAAAAAAAAAAAAAAAv3aB7AAAAD3RSTlMAELvv3c2ZVESJq3Yi\n",
       "MmZ3LnoBAAAACXBIWXMAAA7EAAAOxAGVKw4bAAAAT0lEQVQI12NgVHZgAALWBBDJXwAi+wVA5BQQ\n",
       "wRC1ezkDA+NXAfkDDOwfGZg3MLAFMPBPYGCZwNBfAFKeL8DAf4HRjoGB6wET0AjGlXkMDAAVqA7Q\n",
       "GyenWgAAAABJRU5ErkJggg==\n",
       "\" style=\"display:inline;vertical-align:middle;\" /></a> : <a class=\"ProveItLink\" href=\"../__pv_it/demonstrations/48f45437815b7561fecb63ff0999f36899eabc090/expr.ipynb\"><img src=\"data:image/png;base64,iVBORw0KGgoAAAANSUhEUgAAAC8AAAAVBAMAAAAk6KpUAAAAMFBMVEX///8AAAAAAAAAAAAAAAAA\n",
       "AAAAAAAAAAAAAAAAAAAAAAAAAAAAAAAAAAAAAAAAAAAv3aB7AAAAD3RSTlMAEER2zVSJ3Zki72ar\n",
       "MruaaVGaAAAACXBIWXMAAA7EAAAOxAGVKw4bAAAA+ElEQVQoz2NgYGBUYkAFnJEQ2kQRTYLhzkMQ\n",
       "yfoRWUxuOYh8AyLYClBUe4CIdCwSX3FIMH3EIQHhISTmJE+GSLActgmASnA4AA1YyfBeACwh78j4\n",
       "k4HBCsSctYGBQWoDQztER7wAw2IGhvlAXXOcgNx+BoYyiEQLA8M3YGAcCWDg7QOasY6B8RNEooyB\n",
       "CehgNpBqvgMMjJ8ZuD/AvMHxEWwg2FWMXxl4HCIZQLy/IPsYsmDOfcwQ3tDA+AXIO83wAtkfMmY3\n",
       "D19gKAdqkcnYgOlzVgEYC02CjQFFgnkBjCsMl2gBR+RXGNcAxmBcDaZmHEWP8xxgiAAAUH87PIBm\n",
       "X6gAAAAASUVORK5CYII=\n",
       "\" style=\"display:inline;vertical-align:middle;\" /></a>, <a class=\"ProveItLink\" href=\"../../../../__pv_it/common/ceef4280a2f1cc604b455b54e735507244cc62cd0/expr.ipynb\"><img src=\"data:image/png;base64,iVBORw0KGgoAAAANSUhEUgAAAAkAAAAJBAMAAAASvxsjAAAAKlBMVEX///8AAAAAAAAAAAAAAAAA\n",
       "AAAAAAAAAAAAAAAAAAAAAAAAAAAAAAAAAADmU0mKAAAADXRSTlMAiXZmMiLdVJm77xBEs3/oGgAA\n",
       "AAlwSFlzAAAOxAAADsQBlSsOGwAAADZJREFUCNdjYGAQUnZgYAgr4JjAwJDIwKXAwHGbAQi4JoDI\n",
       "vQogkteAgeEAA1ABI1CloLE2AwDCNQb+PNXqTgAAAABJRU5ErkJggg==\n",
       "\" style=\"display:inline;vertical-align:middle;\" /></a> : <a class=\"ProveItLink\" href=\"../__pv_it/demonstrations/1a4193f1deeaf7a4a6b6289328d46189ae6a257f0/expr.ipynb\"><img src=\"data:image/png;base64,iVBORw0KGgoAAAANSUhEUgAAAAwAAAAVBAMAAACAghKHAAAAMFBMVEX///8AAAAAAAAAAAAAAAAA\n",
       "AAAAAAAAAAAAAAAAAAAAAAAAAAAAAAAAAAAAAAAAAAAv3aB7AAAAD3RSTlMAInZUiRDNmWbv3US7\n",
       "qzJazP2FAAAACXBIWXMAAA7EAAAOxAGVKw4bAAAAcklEQVQI12NgYBBgZAACJgNuBSBlwsCgwcDA\n",
       "msDAwBbAwN7AwMBRwMAJkp/KYAaiMhhKQJQvkAEEbQyLQZQlw2wQ9R5C7YQIWjEcAlE9QLVAUMLw\n",
       "CkStZuB6wMDAuABkLNj4gwwMMkDxGDCLgVGBSYABAJpvEmISwLzKAAAAAElFTkSuQmCC\n",
       "\" style=\"display:inline;vertical-align:middle;\" /></a></span></td></tr><tr><td><a name=\"0x26dd301fa8cb4cef_step1\">1</a></td><td>conjecture</td><td></td><td><span style=\"font-size:20px;\"> <a class=\"ProveItLink\" href=\"proofs/in_enumerated_set/thm_proof.ipynb\" style=\"text-decoration: none\">&nbsp;&#x22A2;&nbsp;&nbsp;</a><a class=\"ProveItLink\" href=\"../__pv_it/theorems/ed19137bc36ddbb43af52f63034b20fd15e11a410/expr.ipynb\"><img src=\"data:image/png;base64,iVBORw0KGgoAAAANSUhEUgAAAm4AAAAXBAMAAABANN4AAAAAMFBMVEX///8AAAAAAAAAAAAAAAAA\n",
       "AAAAAAAAAAAAAAAAAAAAAAAAAAAAAAAAAAAAAAAAAAAv3aB7AAAAD3RSTlMAq1RmmUTNIjK7EInv\n",
       "3XZ/CtNrAAAACXBIWXMAAA7EAAAOxAGVKw4bAAAF+0lEQVRYw9VYXWgcVRQ+2Z/M7Ex2syoI+hBW\n",
       "RFqMiYutYoqE1TSSKuJi1Qebh0Vbin1xA0GJlDYVUR/WJFqDTUGdWBBrtNk21n9LqIRUSyVIq6Ul\n",
       "sDGlkqQJIVJbWjSec+fv3p3J7qS7lnhg755z7rnfnfPN/R0ATzJ7Gq6XSG5O5SlYASKtMp7PMx2H\n",
       "r9/D/e7mPP/MSuANdu0FCOYYH1Gyby/Om7e40sWXhf0nHM4r5YB24i5b3sLfJOOjmcytxXnzFle6\n",
       "fIS/zflOdaws2JtLRvgef5Ua8bGLpmxPcd68xZUuTfhb+I94WygLb/4E8UHsqbHivHmLK12GcQUx\n",
       "Z+XU+HiqjLwFr5SFN/iJ+PDHceR52Be8xZW+vKVslp6eLu94KwMK4+05tk+eGB8/7mU/9RRXsgSy\n",
       "+HpqJmhgS9vEjNuO7OAj80ynOAIMXMKbu5/nU7Bc+LbrGW8HGR8tAHu98OYprmSpxGE9uE25RGra\n",
       "ZhNHYXAUPtC4SSeaLrPSEWDg4hv5BTZwpzLBcjm1cfUXqLiP8dEGUtQLb57iSpYwjoi7NfgZhFVh\n",
       "O7L5aRwe4wLzTKc4Awxc7CRrKC6WyyNx9TtpwN7F+AhpatKd55OH4YGoxduScUvLa8vff6uwj4cB\n",
       "rqKaGUdhCG1bsHgc4CzAvpQRyEzl2xuWHHN6PC8GLlZRIxsJrYJAXI1yMxLXzfjw5dyW+65beuE2\n",
       "VQtoFm/ucQWlIntNvJ2FIJ0Y9ltOeQM+xo+gXAR5zlzbmRmAwJJrPQsQxMClKhCQoAgQt9TRG2zV\n",
       "70+pRpfluYVuB7mEyt2z3OKKkNB5TfN0AQJ0Ygjb3lAUlH/AP49vz0hPN6uT0uUlgIx48fjGcKkK\n",
       "BCQoAiRMdYA6nY9DuG/5m7omIg2UJmrn9LsErL5jB88bxcFA45cm3tBM2tmJ4Oyeu5X+jliEq5M5\n",
       "524l+EJoXKa1CSCS4/dTZQEqUqv0bGliMdOvYbqKM1c7wMyL8mW4pPyJu4aFxKwCQHo9YwXgOyoa\n",
       "dD624xq2rzVeFY3QYkZaWmHLymr1w00cbxSn/CZfMlyfpbudvInOWY06CyczpuOUPOxoIvpU7OQm\n",
       "eIfpzwrnkPehLpFg2Sp/gWlSzWDKcLHCsliAmRfzEC5TcHv8ykZiVgEgqmesmOeQR3U+KvB1vHwe\n",
       "qjvp7MQ0LRhnvEFiiuON4gIJzFJi55H1kIFgfbNIAjlt2U1bNvb7MXSwdTLQo3Q+cU7cXcjHmTJm\n",
       "0/856x76ezWOt/6Z12s69VEyrpkmvKlB+Ay6ToJRhBN8gJUX8xAuKepQo2YjMasAENUzVkzeTnHf\n",
       "h2ow4XBM11rB/3xf39vI20Bl3nekqiS+vFcIH0ZgAqpgUOSNnLYcgweZD+Q6zVz0h5V5x0bAC/9l\n",
       "a9N7jnsWy9Zn7XDsFd7pvHVo+XlZHlsRkIoBESsGb9IYx9sxmIKdsq6tl+WsPt6C9Xm8DaZD6zQg\n",
       "3vAIufsTSRhehtP/0JrmWjaG5uEoljSxw6z/ahzq6bypSr61G2ste23hGxLLVrUq2uElAOeurUJ+\n",
       "XqqjSkQqBkSsGLwF4jYf0jwy2hCAAdJOr9ZvBveCNXqs8Zbu3ki8KVkYlS+uA+jFrYIsKgynbwpG\n",
       "fFlynvH3YLkFeyfeBqAyiY8WStotDF99j713htIuvEWGhWwPWMNtzxuPgOLca+wAIy/bc8AVqRiQ\n",
       "zgo7AkIHx0cwCluhbRoyMdRm4tCB40X+NQ0VebwFm+qHAHmTj8KT92BcAOMyMXkUMml51HTuUVKB\n",
       "GIW8Okdl+5ppxlsmJjXhStLCtTB8FZ0v2kPW7awsmV+ApC+uYnJWflWLi/MQccZbAWZetifnilQM\n",
       "SGcFlB9Qf9ft+7dx8VW+7usVvgMIH9Rxnvp07ZuI3cZyjvmyYb9p6SWbpyxO1XJcC10Lw6T9Hdz1\n",
       "tt5+40r4TC4dxMeN4ISYHcm/DGsemncdj4GeZ+Xi33wb3alEI8mKP0yLlfKFQ2bcC4tjXAtd64fa\n",
       "OPyvxe81MO7WJu4SEneJ8y+/v5Um/wJqXx6djCKheAAAAABJRU5ErkJggg==\n",
       "\" style=\"display:inline;vertical-align:middle;\" /></a></span></td></tr>\n",
       "<tr><td>&nbsp;</td><td colspan=4 style-\"text-align:left\"><a class=\"ProveItLink\" href=\"proofs/in_enumerated_set/thm_proof.ipynb\">proveit.logic.sets.enumeration.in_enumerated_set</a></td></tr><tr><td><a name=\"0x26dd301fa8cb4cef_step2\">2</a></td><td>conjecture</td><td></td><td><span style=\"font-size:20px;\"> <a class=\"ProveItLink\" href=\"../../../../numbers/numerals/decimals/_theory_nbs_/proofs/nat3/thm_proof.ipynb\" style=\"text-decoration: none\">&nbsp;&#x22A2;&nbsp;&nbsp;</a><a class=\"ProveItLink\" href=\"../../../../numbers/numerals/decimals/__pv_it/theorems/460c23cdbd64b08ccacdbdc6b3661919426e237f0/expr.ipynb\"><img src=\"data:image/png;base64,iVBORw0KGgoAAAANSUhEUgAAADMAAAAQBAMAAABJt1qBAAAAMFBMVEX///8AAAAAAAAAAAAAAAAA\n",
       "AAAAAAAAAAAAAAAAAAAAAAAAAAAAAAAAAAAAAAAAAAAv3aB7AAAAD3RSTlMAIomZu0QQVHbN72bd\n",
       "Mqv0UZE7AAAACXBIWXMAAA7EAAAOxAGVKw4bAAAA7ElEQVQY02NgwAA5XzwTGLR+BTAwCCm7osm5\n",
       "sz5gYPvAwMBmwFBfgCr1RkCbgWEBAwPHd4b8CahSzx04BRgOMDCwLmXgh0hx+Jw5CWY83ME4ASQF\n",
       "BPUbQCTrjASorod8F5ogUqynwQKSMBmGhwwOLAEgKd6+t2CBiQwIqctsx6AGgl04AUmKu6BkAZjJ\n",
       "9Q2kec2ZM2eOQKUYnvEBpXgvMLB8B/LZHJB0MeSxAQ3k/waRgroWKsXbAFTJ9QBiIEMHXMoXiHuB\n",
       "UtwboP7ihAfXdCBmBrkq2BgSvGxPwiAyN38BdbChBB6rCjSgoAAA9idClfoHlG4AAAAASUVORK5C\n",
       "YII=\n",
       "\" style=\"display:inline;vertical-align:middle;\" /></a></span></td></tr>\n",
       "<tr><td>&nbsp;</td><td colspan=4 style-\"text-align:left\"><a class=\"ProveItLink\" href=\"../../../../numbers/numerals/decimals/_theory_nbs_/proofs/nat3/thm_proof.ipynb\">proveit.numbers.numerals.decimals.nat3</a></td></tr><tr><td><a name=\"0x26dd301fa8cb4cef_step3\">3</a></td><td>axiom</td><td></td><td><span style=\"font-size:20px;\"> <a class=\"ProveItLink\" href=\"../../../../numbers/number_sets/natural_numbers/_theory_nbs_/axioms.ipynb#zero_in_nats\" style=\"text-decoration: none\">&nbsp;&#x22A2;&nbsp;&nbsp;</a><a class=\"ProveItLink\" href=\"../../../../numbers/number_sets/natural_numbers/__pv_it/axioms/6bc27fa16ea1c04bf3d4c776d5c721085150bfa20/expr.ipynb\"><img src=\"data:image/png;base64,iVBORw0KGgoAAAANSUhEUgAAADMAAAAQBAMAAABJt1qBAAAAMFBMVEX///8AAAAAAAAAAAAAAAAA\n",
       "AAAAAAAAAAAAAAAAAAAAAAAAAAAAAAAAAAAAAAAAAAAv3aB7AAAAD3RSTlMAiXaZIs1UEN1mu6sy\n",
       "RO+L2jdBAAAACXBIWXMAAA7EAAAOxAGVKw4bAAAA9klEQVQY02NgwAAVv5YWMMj9u8DAwChkgia3\n",
       "jHcDA/sHICOMocIBVWqHgyQDwwMGBs4GBsYFqFLbFrA6MDQwMHBtYGD7DhZhWtHRCmZsmcQSAJLi\n",
       "N2Dg+QYS4A0qgOrawn1AESRVD5T6CRJwhckwbGFYwHUBKOUvwMDzCSQQwoCQOszeDpX6CBIIQJLi\n",
       "TMgCurBegIEXpIvnRUdHRxdUimE79wOwM9hAzmBfgKSLoZod5PgFDJxgxzcgS/EoAFVyPmBgBluj\n",
       "BJdaA8Q6IEPaGOoOgARYE2BSYUAMVl4stAcswL7rOkTm6D+gDvYA5KDjlYIGFBQAAFS8PxwW/emj\n",
       "AAAAAElFTkSuQmCC\n",
       "\" style=\"display:inline;vertical-align:middle;\" /></a></span></td></tr>\n",
       "<tr><td>&nbsp;</td><td colspan=4 style-\"text-align:left\"><a class=\"ProveItLink\" href=\"../../../../numbers/number_sets/natural_numbers/_theory_nbs_/axioms.ipynb#zero_in_nats\">proveit.numbers.number_sets.natural_numbers.zero_in_nats</a></td></tr><tr><td><a name=\"0x26dd301fa8cb4cef_step4\">4</a></td><td>instantiation</td><td><a href=\"#0x26dd301fa8cb4cef_step6\">6</a></td><td><span style=\"font-size:20px;\"> <a class=\"ProveItLink\" href=\"../__pv_it/demonstrations/c163764b6f12a9439c2f943b2a006d55a0df638c0/proof.ipynb\" style=\"text-decoration: none\">&nbsp;&#x22A2;&nbsp;&nbsp;</a><a class=\"ProveItLink\" href=\"../__pv_it/demonstrations/1cd311fd6c2b828da3ace54f75db6ebfb4fb6b110/expr.ipynb\"><img src=\"data:image/png;base64,iVBORw0KGgoAAAANSUhEUgAAAR8AAAAVBAMAAACNlfesAAAAMFBMVEX///8AAAAAAAAAAAAAAAAA\n",
       "AAAAAAAAAAAAAAAAAAAAAAAAAAAAAAAAAAAAAAAAAAAv3aB7AAAAD3RSTlMAIolEdjJUEM2ZZu/d\n",
       "u6v6CvZmAAAACXBIWXMAAA7EAAAOxAGVKw4bAAADX0lEQVRIx5WWTWgTQRTH327SHZNs2iBFEGsN\n",
       "6kGwlICCB4VGURE8GEEPgsi2Fz0IXbAHRWwDAQVBCZ6a0Npc6yniTVGLoCIUGqHgQbBRpBS/Wmmp\n",
       "wUudebMz+znFDGT27cvMf347M+/NQAawsMe1nDYInkIO8Ge0d1vG6UYbQKAo3JsV2WUPGnGL/ko2\n",
       "XPrgaXPqkGNEejt+2gAH0dRzAXUuerIdIKnE+w7R3zAdAD65TYw/0gx4yccZaqWb9CNqaiAjS6nf\n",
       "Oh6tcq+gYtF2T+ZcJexLirTqA1Hxos9IM+jdUhbWHTXQdYDRcfFRO0FfVQHdAGPdVcK+iVp7QF2W\n",
       "sKbVQFW2FQTQZ4BnKqAzFmm5Stg3Be0BDdjCStlKoLoX6KUNyxkF0OEctFwl7HulTaA+d/FqKiCj\n",
       "6AX6AbCs3ERg/HWVEOiBEqh3b3eE9/7xRcfSmyqgRNYLRMucOsSO1FwlBLrLqnFWnXZbJegnxh7D\n",
       "gh3ykpY9loE4W5NkUQAlZrE0BRB+sQeoY03Jc+5XwVVCoDcs+J4ya5clm+2gijdrMBH20tBP5UFb\n",
       "Z5NdV82QafmBzKZ6hliUCSUEekJ5llCVLImxe0u0mgJ4FfbSWeqiCzJ6m373igoolfMDTW6WFume\n",
       "F0oCCC5gOtZLcoon6Vo9B7Ia9ppZGKCE++iQsfp/AiXVE3QeYMGSSnLJeDrGdM0LzcRkDZIrIS9L\n",
       "Q1M2z+TGjGoPBZZsCDRV2G/YDEgoIdC8DLD92MR24omsQ2dxMOiFrgKhG07HTd1QzVA67wARnNks\n",
       "xG0ShmGaL3DJhBIC9fvDniVOPvQ8XC2XQ97OWrrshD0GdyQQD+PfAGMsfHoqlQlujRUdKWk8wjwk\n",
       "lBDoYiAPzYpMPHrs7NdCyEu+VEVGMnMqoA5G/r31DUx2wM5tbLS4ZbJz8J0wmGasQg9XqYRAZsEP\n",
       "ZNhRmTrgRatHfZa9Fm+XIWzJgJe7s8d7liXLfiA98ugIeNGqqoGmxVsWwpYUkVbVdx96L5I0pmsY\n",
       "wUtbXTaO9LKcrTXUQGknqkheXjbzIaAReSlq+IBuOemYYLoG7IiZmAtFemkWdwaNBiIN/hKX7ng4\n",
       "yiSiVDrB+egf2kNL67c8jbcvOvCR3q3seZQPFDzHuWh3O1dYofQPzwv97LExNb8AAAAASUVORK5C\n",
       "YII=\n",
       "\" style=\"display:inline;vertical-align:middle;\" /></a></span></td></tr>\n",
       "<tr><td>&nbsp;</td><td colspan=4 style=\"text-align:left\"><span style=\"font-size:20px;\"><a class=\"ProveItLink\" href=\"../../../../__pv_it/common/c06c606ec12678c58933ac85412ecadc2ae28be60/expr.ipynb\"><img src=\"data:image/png;base64,iVBORw0KGgoAAAANSUhEUgAAAAsAAAAJBAMAAAAWSsseAAAAMFBMVEX///8AAAAAAAAAAAAAAAAA\n",
       "AAAAAAAAAAAAAAAAAAAAAAAAAAAAAAAAAAAAAAAAAAAv3aB7AAAAD3RSTlMAIquJdkTvuxBmmd1U\n",
       "zTKBpmoTAAAACXBIWXMAAA7EAAAOxAGVKw4bAAAARUlEQVQI12NgYFR2dGBgYAgTYP/BwMCRycC1\n",
       "gYGB6wMDtwEDA1sBQ38AA0O/A8N8oIr+Awy6PAIM7A48u7iAKlXshPwYAE2lCqdX0eXEAAAAAElF\n",
       "TkSuQmCC\n",
       "\" style=\"display:inline;vertical-align:middle;\" /></a> : <a class=\"ProveItLink\" href=\"../__pv_it/demonstrations/6794f0b7bd428dcbcca0fa94212149aae33c909a0/expr.ipynb\"><img src=\"data:image/png;base64,iVBORw0KGgoAAAANSUhEUgAAABMAAAAVBAMAAABWJ8jiAAAAMFBMVEX///8AAAAAAAAAAAAAAAAA\n",
       "AAAAAAAAAAAAAAAAAAAAAAAAAAAAAAAAAAAAAAAAAAAv3aB7AAAAD3RSTlMAEER2zVSJ3Zki72ar\n",
       "MruaaVGaAAAACXBIWXMAAA7EAAAOxAGVKw4bAAAAZklEQVQI12NgYGBUYuCMZAADE0UGhjsPQSzW\n",
       "jyDyDYhgKwCR6aQyORxApBWImLUBRM4PYGCY4wS2h/FIAANvnwBYB0iE7wCIGS8ANyGLVNuYF4DI\n",
       "FhDB+RVkw2qwRTOOMnDmAO0FAPofGPAWTmOXAAAAAElFTkSuQmCC\n",
       "\" style=\"display:inline;vertical-align:middle;\" /></a>, <a class=\"ProveItLink\" href=\"../../../../__pv_it/common/195236b98c6c564a75b5dbada74b173bc52d5c3e0/expr.ipynb\"><img src=\"data:image/png;base64,iVBORw0KGgoAAAANSUhEUgAAAAkAAAAOBAMAAAAPuiubAAAAMFBMVEX///8AAAAAAAAAAAAAAAAA\n",
       "AAAAAAAAAAAAAAAAAAAAAAAAAAAAAAAAAAAAAAAAAAAv3aB7AAAAD3RSTlMAELvv3c2ZVESJq3Yi\n",
       "MmZ3LnoBAAAACXBIWXMAAA7EAAAOxAGVKw4bAAAAT0lEQVQI12NgVHZgAALWBBDJXwAi+wVA5BQQ\n",
       "wRC1ezkDA+NXAfkDDOwfGZg3MLAFMPBPYGCZwNBfAFKeL8DAf4HRjoGB6wET0AjGlXkMDAAVqA7Q\n",
       "GyenWgAAAABJRU5ErkJggg==\n",
       "\" style=\"display:inline;vertical-align:middle;\" /></a> : <a class=\"ProveItLink\" href=\"../__pv_it/demonstrations/df1a7ce6ee0535d1486e01394260bfcbd80d3b470/expr.ipynb\"><img src=\"data:image/png;base64,iVBORw0KGgoAAAANSUhEUgAAAB0AAAAVBAMAAABI7vhRAAAAMFBMVEX///8AAAAAAAAAAAAAAAAA\n",
       "AAAAAAAAAAAAAAAAAAAAAAAAAAAAAAAAAAAAAAAAAAAv3aB7AAAAD3RSTlMAEER2zVSJ3Zki72ar\n",
       "MruaaVGaAAAACXBIWXMAAA7EAAAOxAGVKw4bAAAAoUlEQVQY02NgYGBUYgADzkgIbaIIoRnuPASR\n",
       "rB8ZYOANiGArgPPTyebPSZ4M43M4MDAwrWR4L8DAYAXiz9rAwCC1gaEdyJwfAFTpBGT0MzCUASnG\n",
       "IwEMvH1AhesYGD+BjALJ8R1gYPzMwP0ByIwXgJjP+JWBxwHomyyYfY8ZwhsakOyXMbt5+AKR7mVe\n",
       "AOe3gIPpK4zLuBpMzTgKDb8coHMBz2kopchwbnkAAAAASUVORK5CYII=\n",
       "\" style=\"display:inline;vertical-align:middle;\" /></a>, <a class=\"ProveItLink\" href=\"../../../../__pv_it/common/ceef4280a2f1cc604b455b54e735507244cc62cd0/expr.ipynb\"><img src=\"data:image/png;base64,iVBORw0KGgoAAAANSUhEUgAAAAkAAAAJBAMAAAASvxsjAAAAKlBMVEX///8AAAAAAAAAAAAAAAAA\n",
       "AAAAAAAAAAAAAAAAAAAAAAAAAAAAAAAAAADmU0mKAAAADXRSTlMAiXZmMiLdVJm77xBEs3/oGgAA\n",
       "AAlwSFlzAAAOxAAADsQBlSsOGwAAADZJREFUCNdjYGAQUnZgYAgr4JjAwJDIwKXAwHGbAQi4JoDI\n",
       "vQogkteAgeEAA1ABI1CloLE2AwDCNQb+PNXqTgAAAABJRU5ErkJggg==\n",
       "\" style=\"display:inline;vertical-align:middle;\" /></a> : <a class=\"ProveItLink\" href=\"../__pv_it/demonstrations/75f8ed85c77df204f6dff6ff5cde5fc3664d178e0/expr.ipynb\"><img src=\"data:image/png;base64,iVBORw0KGgoAAAANSUhEUgAAABsAAAAVBAMAAABF8IgWAAAAMFBMVEX///8AAAAAAAAAAAAAAAAA\n",
       "AAAAAAAAAAAAAAAAAAAAAAAAAAAAAAAAAAAAAAAAAAAv3aB7AAAAD3RSTlMAEER2zVSJ3Zki72ar\n",
       "MruaaVGaAAAACXBIWXMAAA7EAAAOxAGVKw4bAAAArElEQVQY02NgYGBUYgABzkgwxWCiCKHvPASR\n",
       "rB8ZGOSWg1hvQARbAZDwALHS4dyvKFymjyhcsAoEl+WwTQCUy+HAwCDvyPiTgcEKxJ21gYEhXoBh\n",
       "MQPDfKCKOU5AoRYGhm9A5x0JYODtE2BgKGNgAlrFBpLhOwCyluMjWAvE5L8MUkATsmAWnWZ4gWyv\n",
       "TMYGFDczMODgMi+AcVvAgfIVymNcDaZmHIWEVQ7QjQCC9imdI2u03wAAAABJRU5ErkJggg==\n",
       "\" style=\"display:inline;vertical-align:middle;\" /></a></span></td></tr><tr><td><a name=\"0x26dd301fa8cb4cef_step5\">5</a></td><td>conjecture</td><td></td><td><span style=\"font-size:20px;\"> <a class=\"ProveItLink\" href=\"../../../../core_expr_types/tuples/_theory_nbs_/proofs/tuple_len_0_typical_eq/thm_proof.ipynb\" style=\"text-decoration: none\">&nbsp;&#x22A2;&nbsp;&nbsp;</a><a class=\"ProveItLink\" href=\"../../../../core_expr_types/tuples/__pv_it/theorems/e4227b9c4c4eee791197a50fb372df0303979ecf0/expr.ipynb\"><img src=\"data:image/png;base64,iVBORw0KGgoAAAANSUhEUgAAAK0AAAAVBAMAAADGGHNoAAAAMFBMVEX///8AAAAAAAAAAAAAAAAA\n",
       "AAAAAAAAAAAAAAAAAAAAAAAAAAAAAAAAAAAAAAAAAAAv3aB7AAAAD3RSTlMAIolEdjJUEM2ZZu/d\n",
       "u6v6CvZmAAAACXBIWXMAAA7EAAAOxAGVKw4bAAACH0lEQVQ4y5XVv0scQRQH8O+eezv3Yw1XWBpY\n",
       "tI5cYWfhpjCQFOIfEHCxiaDgFinSaK4TBEGu8iSBKyNJyIGIhUUMIUpA8ARb5Ww1YH4IXiqdt7M7\n",
       "t3vrC7lXzL15d/uZ3dmZOZQgo2QELbpCFQz0EPqSYflhen0uVJoIVXjSizsatJlycO0M8Ix1LQfI\n",
       "HoQVo7Y6xZpDT0sw6x1XVICcz7mvgKX1m7DyEJk/HJvzxBdguePm5RiFNc7doImK3HNgl3M/AI+A\n",
       "zY5bpHSHcxtx97OPqxLjngELPoq+dmepusK4ViXu/gCuuAn+C0x7yNW1W6XqCOPmnbgr44hhBbl1\n",
       "ZFraXaHyu9DNHwbRitxg/JibvWZc47d0XRQq2t2n8hxzv7aXdO3Wv1wHVkO7W1SeZtxiOem+5ZaD\n",
       "kO64i+zPpDv2f26hxW4LOb8LHvoayXmYZ+a3ax5mYHDr7BT45MPa0+4JVT8y99vvhq4I3poD0xdp\n",
       "kxbte2BdPlBTuyP0TZVx1br5BbymFz1Yq70JMtFG2Oie7YntcF0q9zkZXxk3K5/rwWX7AjadPUe3\n",
       "t22VfUfY2PIEwKG8YVGdlFvGLmvXll1jj9vH36LeC6SzKCw/ygY75wOdOXT23O9uRj0H6SyKjM42\n",
       "YufvMR2AnNsfvn/h6pXqptyXenc0Y+5iQDOuaKqOqctmej3okdRdSHeCBnFN6k50/1oVBnr5H3qs\n",
       "Rp66A38YhoCQmIjBAAAAAElFTkSuQmCC\n",
       "\" style=\"display:inline;vertical-align:middle;\" /></a></span></td></tr>\n",
       "<tr><td>&nbsp;</td><td colspan=4 style-\"text-align:left\"><a class=\"ProveItLink\" href=\"../../../../core_expr_types/tuples/_theory_nbs_/proofs/tuple_len_0_typical_eq/thm_proof.ipynb\">proveit.core_expr_types.tuples.tuple_len_0_typical_eq</a></td></tr><tr><td><a name=\"0x26dd301fa8cb4cef_step6\">6</a></td><td>conjecture</td><td></td><td><span style=\"font-size:20px;\"> <a class=\"ProveItLink\" href=\"../../../../numbers/numerals/decimals/_theory_nbs_/proofs/tuple_len_3_typical_eq/thm_proof.ipynb\" style=\"text-decoration: none\">&nbsp;&#x22A2;&nbsp;&nbsp;</a><a class=\"ProveItLink\" href=\"../../../../numbers/numerals/decimals/__pv_it/theorems/864de063a1f6f21e5cb5a312c6a6ae9e6abea9a90/expr.ipynb\"><img src=\"data:image/png;base64,iVBORw0KGgoAAAANSUhEUgAAAS4AAAAWBAMAAACMMGwEAAAAMFBMVEX///8AAAAAAAAAAAAAAAAA\n",
       "AAAAAAAAAAAAAAAAAAAAAAAAAAAAAAAAAAAAAAAAAAAv3aB7AAAAD3RSTlMAq1RmmUTNIjK7EInv\n",
       "3XZ/CtNrAAAACXBIWXMAAA7EAAAOxAGVKw4bAAAD3UlEQVRIx8VWTWgTQRR+bjY/u9ndRBEVijYg\n",
       "eLBqAxZBDzWQCEpRA3oUTfEgenF7FK3Eu6W5SEFE9iRIwaT+oCBqQApSFYM/KEpxaw8tHlQKVuhB\n",
       "fW92JtnNdkI9OYHJtzPvm/ftmzdvB6Bzi+OPNVtmYXO7lQ139sWZK2B9gWSR/q2MzOI46z0rX7vH\n",
       "6f/Qoi5nEkgT3CwzVWrcY49vUL/W8D1ZWbkupAOMODwchdNlqabzd68AzAomgn0ET8nMb3CPesk/\n",
       "Gsv5n87IdSFdX3uW6zoHyZ8yP3oOejMQczgTwSV6k4rMPs89qln/aCqwqX1yXXnqvnNd6wFeyPxY\n",
       "C1AtQSTHmQhIY1KaPHXu0QiMnnD8T4Yj1VX363rlQLfs9EQnIYVbMiWYUxDBSMSk6VXiHrcEhh8F\n",
       "nmJZmS6l5Ne1EaBbnmDQi8ucFEwEL6enn8ts1Rr3OEC73TXnHRgY/LaGGzyeLUMyLdNF9JYubJ87\n",
       "HMY32E0IJoL9AFdlxhQK5pFe5JitLXlJuuhUvQ0ZzqgViJSELnWatbRYnUXSpyvxWyorMbMB+12C\n",
       "iWAI4unm7OmgtZnhHl+jmqegevVBWQLDi9wnAkpdFi8zE9RlpjtULzyPsE0wEWiOb82uoK1R5B4n\n",
       "MRg/wKx5u1uCFEMqi1/ih0yXUQzqOtCpqhq42KhgIlBcX9o/k+syKlD1nKO8EywSBqsv0foKdUXk\n",
       "4UqUQVvAVBFMAqV+7Mb777MEmGGHftYN72PVhb3N8nWY+aoyM6Uhy6+2feyBuKxOpJaYru2CSeA2\n",
       "Fmz9feIXlbePFpW2d4m6Z6653ON1FJGBdYqt0yJlzDUGMK+LEKnI4qW5QhdJS9TAcvSwJpoz0mwf\n",
       "dwsmgQv4fmqOSdGydLjUis7rDJUA5nGCnChvVarKsCqr5RjAw5gse9VgWV2sgsATG08wHd5C4SCj\n",
       "sY4NNQFWUapfA4JJYFWZMsGiNYyymhZpwba9wT2OIH/Tg6F5MD8i6sLvCwF4uPMroqJMF9Fh9avB\n",
       "LExjUD7/+bPo0UzalLcC0BwcLVyhjRLMd3yVqq3twekUGJgSqVYWfOAezWah3hoCw/Lv44fmh8MJ\n",
       "0SA8F29wZlxcWAx79IgzDqazG8YhVoRa65vMPEaaN4haCOTluvrEUxJCNAjPebeDe75rQjS/4w5c\n",
       "ziQOudjH8/3iFTSbexwTFxK3HXiXkeV1aSLyt6Cd1mrNObwJcea5oEXG1/NlKtzjTXEhgXbg+V5e\n",
       "ly4uUG6I1motpWOCORb8dDqtXrSLYLHUiruykjjn+Wu/Kcxz+j80y+ZMK1jmIr7+f7e/DKgYwj0/\n",
       "9P0AAAAASUVORK5CYII=\n",
       "\" style=\"display:inline;vertical-align:middle;\" /></a></span></td></tr>\n",
       "<tr><td>&nbsp;</td><td colspan=4 style-\"text-align:left\"><a class=\"ProveItLink\" href=\"../../../../numbers/numerals/decimals/_theory_nbs_/proofs/tuple_len_3_typical_eq/thm_proof.ipynb\">proveit.numbers.numerals.decimals.tuple_len_3_typical_eq</a></td></tr></table>"
      ],
      "text/plain": [
       "\tstep type\trequirements\tstatement\n",
       "0\tinstantiation\t1, 2, 3, 4, 5\t|- {a, b} in {{}, {a}, {b}, {a, b}}\n",
       "\tm : 3, n : 0, a : ({}, {a}, {b}), b : {a, b}, c : ()\n",
       "1\tconjecture\t\t|- forall_{m, n in Natural} [forall_{a_{1}, a_{2}, ..., a_{m}, b, c_{1}, c_{2}, ..., c_{n}} (b in {a_{1}, a_{2}, ..., a_{m}, b,c_{1}, c_{2}, ..., c_{n}})]\n",
       "\tproveit.logic.sets.enumeration.in_enumerated_set\n",
       "2\tconjecture\t\t|- 3 in Natural\n",
       "\tproveit.numbers.numerals.decimals.nat3\n",
       "3\taxiom\t\t|- 0 in Natural\n",
       "\tproveit.numbers.number_sets.natural_numbers.zero_in_nats\n",
       "4\tinstantiation\t6\t|- |({}, {a}, {b})| = |(1, 2, ..., 3)|\n",
       "\ta : {}, b : {a}, c : {b}\n",
       "5\tconjecture\t\t|- |()| = |(1, 2, ..., 0)|\n",
       "\tproveit.core_expr_types.tuples.tuple_len_0_typical_eq\n",
       "6\tconjecture\t\t|- forall_{a, b, c} (|(a, b, c)| = |(1, 2, ..., 3)|)\n",
       "\tproveit.numbers.numerals.decimals.tuple_len_3_typical_eq"
      ]
     },
     "metadata": {},
     "output_type": "display_data"
    }
   ],
   "source": [
    "set_ab_in_its_power_set_kt.proof()"
   ]
  },
  {
   "cell_type": "markdown",
   "metadata": {},
   "source": [
    "<div style=\"width: 90%; border: 5px solid green; padding: 10px; margin: 0px;\"><a id='demo02'></a><font size=4><b>2.</b> Deducing Set non-memberships such as $\\vdash 4\\notin\\{1, 2, 3\\}$ and $\\vdash d\\notin\\{a, b, c\\}$.</font></div>"
   ]
  },
  {
   "cell_type": "markdown",
   "metadata": {},
   "source": [
    "Many simple enumerated set non-membership claims can be deduced automatically or relatively easily.  \n",
    "First, recall a some enumerated Sets defined earlier:"
   ]
  },
  {
   "cell_type": "code",
   "execution_count": 39,
   "metadata": {},
   "outputs": [
    {
     "data": {
      "text/html": [
       "<a class=\"ProveItLink\" href=\"../__pv_it/demonstrations/eba50e6a800d671dd4d0a6d438da4909c2a02cb00/expr.ipynb\"><img src=\"data:image/png;base64,iVBORw0KGgoAAAANSUhEUgAAAEMAAAAVBAMAAADvM06qAAAAMFBMVEX///8AAAAAAAAAAAAAAAAA\n",
       "AAAAAAAAAAAAAAAAAAAAAAAAAAAAAAAAAAAAAAAAAAAv3aB7AAAAD3RSTlMAEER2zVSJ3Zki72ar\n",
       "MruaaVGaAAAACXBIWXMAAA7EAAAOxAGVKw4bAAABMUlEQVQoz2NgYGBUYsAFOCMhtIkiTiUMdx6C\n",
       "SNaPQIK3EKavw+8ChDUt4xGQfANishUwMMi0fIQqmcfA9gnMYGxgiA9gYEiHKWFghik5ycCwCsxg\n",
       "/sog74BVyXoBhvMTQAymRQz82JUcZ2A4D3UMQ/wGrEqAoB5KM1UzQJVwOKAq4f0MpW3OAkkrEHPW\n",
       "BlQl7AdgLJCP5gPxHCcGVCV9cBYXUJDxSAADb58AihJuqCG8Fxj4vgJdCjKB7wCKkjAGTrCn+T+C\n",
       "lcQLIPuIEaw5gYFZAMTiOgC2KAvuabafDODAZJje0dEOZnFvQA0XnlNfTjOwg6Ky/v//LxCWRscj\n",
       "BuSgA4NABkwWmpIEBkwWWAnzAiiP0YABg8XQAk5EX6E8Zrg4gsW4GkzNOIo77eYAwx8AI6NSKCFw\n",
       "CrwAAAAASUVORK5CYII=\n",
       "\" style=\"display:inline;vertical-align:middle;\" /></a>"
      ],
      "text/plain": [
       "{1, 2, 3}"
      ]
     },
     "metadata": {},
     "output_type": "display_data"
    },
    {
     "data": {
      "text/html": [
       "<a class=\"ProveItLink\" href=\"../__pv_it/demonstrations/5b46355ca84b8e9ec433dff075b59837a937c4840/expr.ipynb\"><img src=\"data:image/png;base64,iVBORw0KGgoAAAANSUhEUgAAAEEAAAAVBAMAAADrxp6XAAAAMFBMVEX///8AAAAAAAAAAAAAAAAA\n",
       "AAAAAAAAAAAAAAAAAAAAAAAAAAAAAAAAAAAAAAAAAAAv3aB7AAAAD3RSTlMAEER2zVSJ3Zki72ar\n",
       "MruaaVGaAAAACXBIWXMAAA7EAAAOxAGVKw4bAAABJklEQVQoz2NgYGBUYsABOCMhtIkiLhUMdx6C\n",
       "SNaPyGJyy1GUvAERbAUoYh4ovHQsKr4SUsH0kZAKNBMRKuYkT4YIsRy2CYCqNd4LVcHhADR7JcN7\n",
       "AbC4vCPjT0hYlDL0MTBYgZizNjAwSG1gaIfojBdgWAxmsCeAGPOBBs5xAnL7GRjKICpaGBi+gRn9\n",
       "YDMZjwQw8PYBmesYGD9BVJQxMEH8uw7iGJB+vgMMjJ8ZuD/AgoMD7F+gENRSsF8YvzLwOEQygHh/\n",
       "QW4CMX4D3c/AkAXz7WOG8IYGxi9A3mmGFwxgBtAjuUjhIWN28/AFhnKgXpkMoNdADLbszQIYYcoq\n",
       "gM5AV8GGwYCoYF4A4wpjMEDBAwxeeHwbYDAYV4OpGUdxptMcYKADAC/PRZ++VkhWAAAAAElFTkSu\n",
       "QmCC\n",
       "\" style=\"display:inline;vertical-align:middle;\" /></a>"
      ],
      "text/plain": [
       "{a, b, c}"
      ]
     },
     "metadata": {},
     "output_type": "display_data"
    }
   ],
   "source": [
    "display(set_123)\n",
    "display(set_abc)"
   ]
  },
  {
   "cell_type": "markdown",
   "metadata": {},
   "source": [
    "Prove-It can automatically prove some simple non-membership claims:"
   ]
  },
  {
   "cell_type": "code",
   "execution_count": 40,
   "metadata": {},
   "outputs": [
    {
     "data": {
      "text/html": [
       "<span style=\"font-size:20px;\"> <a class=\"ProveItLink\" href=\"../__pv_it/demonstrations/1561faba55c4c227758d21d737a076c414e90b7d0/proof.ipynb\" style=\"text-decoration: none\">&nbsp;&#x22A2;&nbsp;&nbsp;</a><a class=\"ProveItLink\" href=\"../__pv_it/demonstrations/e9459042cbca08526f075e2ecffbd7938d0f5d630/expr.ipynb\"><img src=\"data:image/png;base64,iVBORw0KGgoAAAANSUhEUgAAAGgAAAAVCAMAAACdfluMAAAAP1BMVEX///8AAAAAAAAAAAAAAAAA\n",
       "AAAAAAAAAAAAAAAAAAAAAAAAAAAAAAAAAAAAAAAAAAAAAAAAAAAAAAAAAAAAAADFBd4eAAAAFHRS\n",
       "TlMAMpndq3ZmzYkiRO+7EFTp8+P3nWR1Q7oAAAAJcEhZcwAADsQAAA7EAZUrDhsAAAG1SURBVEjH\n",
       "nZbZcsMgDEVZBGJvm+r/v7UG24lY4nqih2RQJA5cJE2EeGu+X+YQxAfmi/8vBDNfGQz5E5CQkFii\n",
       "VIsAvir0jJZ6IHqlMMnB55xKhwSJ7aRhAqlOKacPAUEh9SCf6u/UhWfVDle63KrLAqTFClSDBxC0\n",
       "R4ixE7oyMuGQKy32IJP017fGe6DY1kD80UOsF5xATnSggCYLkLdv1H4CkqMmhWyfa3wH8rXcMoq7\n",
       "oENpGj1B2z7Xb2sOwqqBNUNp4DVI0pAgDZyimHgKN4DmJhI+2mvQopqeVef3b+t7kIxa65/H9pGe\n",
       "GMAgLkEqrXo1HpEZsAjfrsxAubVF6XVQrLsXIDveRzbV0tlI9ZwBqlEExxtIj1ux7p5BpeZ6Xt7U\n",
       "Yg4QmyoisiMZI8I0kRZV95pJ7YwmM9e+3yGdY71MXGMsIC9Abm/Ns++F16qaZi5h7aqPtqckgld5\n",
       "ZnhMk/oZDBAJoe6gj+GqqRky1/YiG/ocqk6/m+z216Wt6t6MoNfT5DuuKxDmW8HulusC5BdNYeLk\n",
       "yuaOq58qwwnKAk6Tc7HpkpPZVOkNltdUUD76z+D2vD8+5A88xTv4MAAAAABJRU5ErkJggg==\n",
       "\" style=\"display:inline;vertical-align:middle;\" /></a></span>"
      ],
      "text/plain": [
       "|- 4 not-in {1, 2, 3}"
      ]
     },
     "metadata": {},
     "output_type": "display_data"
    }
   ],
   "source": [
    "NotInSet(four, set_123).prove()"
   ]
  },
  {
   "cell_type": "markdown",
   "metadata": {},
   "source": [
    "If the sets involve variables with unassigned values, however, things are more complicated. For example, Prove-It will rightly refuse to automatically deduce that $d\\notin \\{a, b, c\\}$, because we don't know what the variables might be equal to:"
   ]
  },
  {
   "cell_type": "code",
   "execution_count": 41,
   "metadata": {},
   "outputs": [
    {
     "name": "stdout",
     "output_type": "stream",
     "text": [
      "Proof Failure: Proof step failed:\n",
      "Attempting to instantiate |- forall_{n in Natural} [forall_{x, y_{1}, y_{2}, ..., y_{n} | (x != y_{1}), (x != y_{2}), ..., (x != y_{n})} (x not-in {y_{1}, y_{2}, ..., y_{n}})] with {n: 3, x: d, y: (a, b, c)}:\n",
      "Unsatisfied condition: d != a. For debugging purposes, this is accessible via Instantiation.unsatisfied_condition with applicable assumptions in Instantiation.condition_assumptions.\n"
     ]
    }
   ],
   "source": [
    "try:\n",
    "    NotInSet(d, set_abc).prove()\n",
    "    assert False, \"Should not make it to this point.\"\n",
    "except ProofFailure as e:\n",
    "    print(\"Proof Failure: {}\".format(e))"
   ]
  },
  {
   "cell_type": "markdown",
   "metadata": {},
   "source": [
    "If we can provide Prove-It with the appropriate assumptions, however, we're OK:"
   ]
  },
  {
   "cell_type": "code",
   "execution_count": 42,
   "metadata": {},
   "outputs": [
    {
     "data": {
      "text/html": [
       "<span style=\"font-size:20px;\"><a class=\"ProveItLink\" href=\"../__pv_it/demonstrations/fd549569c8f48a38cc8bfed22be04fdc683f6e970/expr.ipynb\"><img src=\"data:image/png;base64,iVBORw0KGgoAAAANSUhEUgAAADIAAAAUCAMAAAD4FJ6oAAAAPFBMVEX///8AAAAAAAAAAAAAAAAA\n",
       "AAAAAAAAAAAAAAAAAAAAAAAAAAAAAAAAAAAAAAAAAAAAAAAAAAAAAAAAAAAo1xBWAAAAE3RSTlMA\n",
       "IquJdkTvuxBmmd1UzTLn9enzF+Xi+wAAAAlwSFlzAAAOxAAADsQBlSsOGwAAALdJREFUKM+VkkkS\n",
       "AyEIRXGezeD975pWk2paO1iycAEfHl8FoMJb2IxspkzSnmwxec6VSEL4nFOF3NWwOScC1aFuIJC6\n",
       "FcaFZHKuDpAqy92K0kfNnDv60OLxrOdJQjKrXdMtIF9ZakNLPYMYnQz3j2W6vpctauEEyWypxl1B\n",
       "86qH17s7+nnBMtvugCeIl7FpeLGLzBztMXi47B6nn4RllkuRGZeZgvyRYYjY/fQ3kFW4fUjYhkAm\n",
       "qx/yyAZnNhKNiQAAAABJRU5ErkJggg==\n",
       "\" style=\"display:inline;vertical-align:middle;\" /></a>, <a class=\"ProveItLink\" href=\"../__pv_it/demonstrations/e9b1281f45219e3dfddcac8a2bd337b1c037917c0/expr.ipynb\"><img src=\"data:image/png;base64,iVBORw0KGgoAAAANSUhEUgAAADAAAAAUCAMAAAD84U6VAAAAPFBMVEX///8AAAAAAAAAAAAAAAAA\n",
       "AAAAAAAAAAAAAAAAAAAAAAAAAAAAAAAAAAAAAAAAAAAAAAAAAAAAAAAAAAAo1xBWAAAAE3RSTlMA\n",
       "ELvv3c2ZVESJq3YiMmbn9enzVleb9QAAAAlwSFlzAAAOxAAADsQBlSsOGwAAANJJREFUKM+VUlsS\n",
       "wyAIFBUfGO3D+9+1ahrTiM2MfGxmFsIuoBD/w8CUBqn0NBElY1CZ+kUz/UFGzmV7ImtHnHMZOnKB\n",
       "jXNen8iaTQS+5pFCIOYKB4GNfIjNPGSEAkfe6BaPZ8VTxalSIJt521CFWwFQqTZD0TH76wTDpk2u\n",
       "qH1HN6x2nEDJZt71K5i+2jbD671PcswAuTpOeT9ePCz+CAyXgdaVUNiiTKVWXi1b9lZkUbDaiJoA\n",
       "8iaJW4FaFHzcKMTpq7NerAXCWn1aFdCLAiLeZj8NegXjVhFn7gAAAABJRU5ErkJggg==\n",
       "\" style=\"display:inline;vertical-align:middle;\" /></a>, <a class=\"ProveItLink\" href=\"../__pv_it/demonstrations/6aec424c2e7b6487ca4c76436c36530f1908ac3b0/expr.ipynb\"><img src=\"data:image/png;base64,iVBORw0KGgoAAAANSUhEUgAAADAAAAAUCAMAAAD84U6VAAAAPFBMVEX///8AAAAAAAAAAAAAAAAA\n",
       "AAAAAAAAAAAAAAAAAAAAAAAAAAAAAAAAAAAAAAAAAAAAAAAAAAAAAAAAAAAo1xBWAAAAE3RSTlMA\n",
       "iXZmMiLdVJm77xBEq83n9enzzp4SPQAAAAlwSFlzAAAOxAAADsQBlSsOGwAAAMVJREFUKM+VklkS\n",
       "xCAIRAH3dRbvf9cxOJlFjVXyQaqQ8LpRgOuwAbZCuqGSvV384ORYK2YBSGMtloVKp8Ya6uv+OAFA\n",
       "fltAItELzh1AJSTZLChdP/ZcidUct/uRv5To6wDXLGisydMSELw4hmUeOXMeu33b8hkN3s3cdQ64\n",
       "KZTI+V8Me3g8m5PTQ2sSpV2eaCL+AJ3KwOtJGYw694O/azXDi3GVYLQFPkAUgsIKUBGJUKpEcnrJ\n",
       "Bvee9QSwDrEL0JsAkMvTF8bwBWJmA7lpAAAAAElFTkSuQmCC\n",
       "\" style=\"display:inline;vertical-align:middle;\" /></a> <a class=\"ProveItLink\" href=\"../__pv_it/demonstrations/fa6fb3fadf2957a1466b40202457b4b43d3592940/proof.ipynb\" style=\"text-decoration: none\">&nbsp;&#x22A2;&nbsp;&nbsp;</a><a class=\"ProveItLink\" href=\"../__pv_it/demonstrations/d4284f1195bf6ce3ff8bf354ded32186a0e2dfd20/expr.ipynb\"><img src=\"data:image/png;base64,iVBORw0KGgoAAAANSUhEUgAAAGYAAAAVCAMAAACDt2s/AAAAP1BMVEX///8AAAAAAAAAAAAAAAAA\n",
       "AAAAAAAAAAAAAAAAAAAAAAAAAAAAAAAAAAAAAAAAAAAAAAAAAAAAAAAAAAAAAADFBd4eAAAAFHRS\n",
       "TlMAMs3vmVREEIndIqt2u2bp8+P3nSoBZCQAAAAJcEhZcwAADsQAAA7EAZUrDhsAAAGgSURBVEjH\n",
       "lVZZsoQgDGSTEAi+jfuf9aG4BAR1+JgqQpOmoRNHiOHwzRysFZ8OP/kniIJqSsrCxzRChsh3SaVN\n",
       "C6imUxqSQNQ4Jop1njTVy6a+Iod3ws14rd5o29OieE/THnG8sZpRxK9vVG9pbIK3NEy3VQQiyPdq\n",
       "bpUeiz44kqduv1gM1B3aU/00gSg09+aIZsk3Wp29HU/darH6TA2NUX304rSUDwaJV4jHzGri+gC6\n",
       "gPTMsiw0naIRfkUdaLx6XfODoTsivtyTSUe81ItGxJ/f/BNPkqA2e7foU2hiMcPVQlCZSMdVtz2L\n",
       "bbnQ5qal2Yq5RR+klptaR/5KyxEhLdLmVBcMDor5it6rhgsoqOpKYQUFJY4mRySsGfiyQu95k9zf\n",
       "7IiUh1w1u2KBmJknNOLMrKa2aE5fMnQ2WFkKOWk0gkWKxxw3NARy0geS7M1+r824g0aELeZMOf4e\n",
       "Ec7NM8FD7c5/LmanPTabCZ4jNzQK3jUU9yIypvGxE9yKufrO0HOkKvyGv9fW/bXZX3N2WGBrH9cR\n",
       "+hpNmD7/L+DKpn/k6g6GrNrkbwAAAABJRU5ErkJggg==\n",
       "\" style=\"display:inline;vertical-align:middle;\" /></a></span>"
      ],
      "text/plain": [
       "{a != d, b != d, c != d} |- d not-in {a, b, c}"
      ]
     },
     "metadata": {},
     "output_type": "display_data"
    }
   ],
   "source": [
    "NotInSet(d, set_abc).prove(assumptions=[NotEquals(a,d), NotEquals(b,d), NotEquals(c,d)])"
   ]
  },
  {
   "cell_type": "markdown",
   "metadata": {},
   "source": [
    "In real-life operations, somewhere along the way we might have already proven that set of inequalities $a\\ne d$, $b\\ne d$, $c\\ne d$, and Prove-It would then be able to automatically prove that $d\\notin\\{a, b, c\\}$."
   ]
  },
  {
   "cell_type": "markdown",
   "metadata": {},
   "source": [
    "<div style=\"width: 90%; border: 5px solid green; padding: 10px; margin: 0px;\"><a id='demo03'></a><font size=4><b>3.</b> Deducing subset relationships between enumerated Sets: $\\vdash\\{2, 4, 6\\}\\subseteq\\{1, 2, 3, 4, 5, 6, 7\\}$ and $\\vdash\\{1, 3, 5, 1, 5\\}\\subseteq\\{1, 2, 3, 4, 5, 6, 7\\}$.</font></div>"
   ]
  },
  {
   "cell_type": "markdown",
   "metadata": {},
   "source": [
    "Although Prove-It might not be able to automatically prove that any arbitrary enumerated Set is a subset of another, the enumerated Set class has some machinery to help us out.<br/><br/>\n",
    "Consider the following sets, which include the set $\\{1, 3, 5, 1, 5\\}$ with redundant elements (recall that the enumerated Set class allows us to create a set that appears to hold multiple copies of the same element, but the set is not actually a multi-set):"
   ]
  },
  {
   "cell_type": "code",
   "execution_count": 43,
   "metadata": {},
   "outputs": [
    {
     "data": {
      "text/html": [
       "<strong id=\"set_1234567\">set_1234567:</strong> <a class=\"ProveItLink\" href=\"../__pv_it/demonstrations/d058cb20636e62be43e7989322e7eb24469fb9d40/expr.ipynb\"><img src=\"data:image/png;base64,iVBORw0KGgoAAAANSUhEUgAAAJIAAAAVBAMAAABf4KrdAAAAMFBMVEX///8AAAAAAAAAAAAAAAAA\n",
       "AAAAAAAAAAAAAAAAAAAAAAAAAAAAAAAAAAAAAAAAAAAv3aB7AAAAD3RSTlMAEER2zVSJ3Zki72ar\n",
       "MruaaVGaAAAACXBIWXMAAA7EAAAOxAGVKw4bAAACR0lEQVQ4y6WUP2gTURzHv2eay13SiwcuUoRE\n",
       "F8HFDKLo0qB28t+5uPZEyajnJLi0dvEGCRn8E9pS01UKyeAiLocgKqYm4OAkxMW1VSsiKud7v/fe\n",
       "vVwIQeiD3Pvy8r3P3e/fATAOYbfrYYO2Ywf/+44+jMbI0YrLLs57fs1+5QcfXfGHHV7sS1Wrl5Xd\n",
       "WRR7++xt6UOtJnzzcRy3UIyYNAMW4JtL0rEG85tQ+5H9oUi5SOx3fl6VJw/K0wGJG2F4zyOIuGBW\n",
       "kt4CT4Wa9YwdRTohSVES1BkUByR8oIlxpLaLnkjFkTIUyXk2ShIp4cuj0zGk10Cvr+y/pTCnRknF\n",
       "ls652R9LYmtBicMdKU4q0rvjm0LkL1xbUrY1BbGqaZLzXYoPXVXFjiJ9xhNRz73nkPek7yX7Zfg7\n",
       "LnfSpJxOhqydiSkdlqhYaRvWunwOh9jMunoaaVJdZ6AtDp8PkaxfghSgILvFpJgOzMGpuylSQd30\n",
       "CdiiAOyKIhWrsP6K6KooyHrkqBuus6ipPTXpCmzRBbErSXu63d6GT3kOML2tglTvVIpUV+ja0QT5\n",
       "yLgGP9ng0RmyVBEMShjyA7JlWZ5apHCUT5LZSkg3G6CWfsyaHyUe+gveT6RYMANS9iJOuaLzv2BG\n",
       "zsC8j+F+6rbPd8CncyGOd5C7xYMK2QSTgrX1p0Kqef8uyAYz3JRq2UuRRNWT+l3GBKVtWo2QzOQu\n",
       "f5LStiEVqPaktU8JozJJJbYhRYNiJ1+hxJvBJFUZo2ZoUJqvdv0df8QQ/wCKEJuaCVDOXQAAAABJ\n",
       "RU5ErkJggg==\n",
       "\" style=\"display:inline;vertical-align:middle;\" /></a><br>"
      ],
      "text/plain": [
       "<IPython.core.display.HTML object>"
      ]
     },
     "metadata": {},
     "output_type": "display_data"
    },
    {
     "data": {
      "text/html": [
       "<strong id=\"set_evens\">set_evens:</strong> <a class=\"ProveItLink\" href=\"../__pv_it/demonstrations/7da6e3df44a56ce31b15b5c3932e5fcb832442d60/expr.ipynb\"><img src=\"data:image/png;base64,iVBORw0KGgoAAAANSUhEUgAAAEMAAAAVBAMAAADvM06qAAAAMFBMVEX///8AAAAAAAAAAAAAAAAA\n",
       "AAAAAAAAAAAAAAAAAAAAAAAAAAAAAAAAAAAAAAAAAAAv3aB7AAAAD3RSTlMAEER2zVSJ3Zki72ar\n",
       "MruaaVGaAAAACXBIWXMAAA7EAAAOxAGVKw4bAAABVElEQVQoz2NgYGBUYsAFOCMhtIkiTiUMdx6C\n",
       "SNaPQNUdfhdgorwNUEZaGlDsDYjFVsDAMI+B7RNMCfsBCD1FgQcokw5TcpKBYRVMiTlUiTMD3wMk\n",
       "JesFGM5PgNqzBaIEZD8DkpLjDAznoY5hY4Eo4VuAqgQI6qH2WEKVcPkmN8GUcDiAzf8MDYkNUCX8\n",
       "3gxcAQwMViD2rA3I/mBjgCqR/8DAsZCBYT5Q2RwnsEgf1J6dcCUFDNzAgGA8EsDA2ycAFOCGGsJp\n",
       "AFPC78DA/RtoKsgEPpBQGAMn2NNMZ86cX5MA9hHElHgBqI94ExiYBRghBnEdYACxWIFuAfo7C+bp\n",
       "6R0d7QzyDhAbHkBYzxikApDCpf7//y8M7IXgMHj/xwDMYus4ixZ0QBDIgMlCU5LAgMkCK2FeAOUx\n",
       "GjBgsBhawEHxFcpjhosjWIyrwdSMo7jTbg7QUwC1m1PldOULzQAAAABJRU5ErkJggg==\n",
       "\" style=\"display:inline;vertical-align:middle;\" /></a><br>"
      ],
      "text/plain": [
       "<IPython.core.display.HTML object>"
      ]
     },
     "metadata": {},
     "output_type": "display_data"
    },
    {
     "data": {
      "text/html": [
       "<strong id=\"set_odds\">set_odds:</strong> <a class=\"ProveItLink\" href=\"../__pv_it/demonstrations/21d73c5d5aa21c919ad7de839f430b0d22b00b560/expr.ipynb\"><img src=\"data:image/png;base64,iVBORw0KGgoAAAANSUhEUgAAAGsAAAAVBAMAAACzuQ2OAAAAMFBMVEX///8AAAAAAAAAAAAAAAAA\n",
       "AAAAAAAAAAAAAAAAAAAAAAAAAAAAAAAAAAAAAAAAAAAv3aB7AAAAD3RSTlMAEER2zVSJ3Zki72ar\n",
       "MruaaVGaAAAACXBIWXMAAA7EAAAOxAGVKw4bAAABoUlEQVQ4y2NgYGBUYiAFcEZCaBNFrNK8DAyS\n",
       "6GIXGBgnMNx5CGKyfgSpKYSZldanAGFxfXGHCV4XgDLWu5QDmW9ATLYCBgaZlo9QCQkG1q8QFvv6\n",
       "MohqxhP+MG1V3xOBZDpMGwMzTJt9AOMXCIsH4TZ7mLYDYBKLNi0FBnK0Af36myxt6hug2jbnXEDX\n",
       "dtrsLEwbhwOKtstnoIr5BDg/oWt7yDAfGM5WIOasDWiO/ApnPkfXBjQM6Lb5AQwMc5wYULUxrIcr\n",
       "6p+AoY3jJzBGjgQw8PYJIGu7y8DwPgDMegLUdgFVG58DA8dfYGiAbOI7gKztvwBM23IGhvNojuQq\n",
       "YOD5wMAQL4AckowgmTUgR4JZCQwM6yBiYG1gpUCdDxgYsuARwAZ0sjwoSHeD4g3MmsHAvBDCYsif\n",
       "wABOO5wNDFYCSPHGc+rLaQZ2UMpl6gAmZTCLs+OEAIR1Zr3PBgZQGmaY0dOIEt1gEMiAh8WKCE00\n",
       "bQkMeFhsDKjamBdAeYwGDHhYwghtLeCMCUsVzHBxbCy4fgbG1WBqxlHSypIcYLwCAOhtbVyoXDrv\n",
       "AAAAAElFTkSuQmCC\n",
       "\" style=\"display:inline;vertical-align:middle;\" /></a><br>"
      ],
      "text/plain": [
       "<IPython.core.display.HTML object>"
      ]
     },
     "metadata": {},
     "output_type": "display_data"
    }
   ],
   "source": [
    "# define some enumerated sets\n",
    "set_1234567, set_evens, set_odds = (\n",
    "        Set(one, two, three, four, five, six, seven),\n",
    "        Set(two, four, six),\n",
    "        Set(one, three, five, one, five))"
   ]
  },
  {
   "cell_type": "markdown",
   "metadata": {},
   "source": [
    "Prove-It can automatically prove that $\\{2, 4, 6\\}\\subseteq\\{1, 2, 3, 4, 5, 6, 7\\}$:"
   ]
  },
  {
   "cell_type": "code",
   "execution_count": 44,
   "metadata": {},
   "outputs": [
    {
     "data": {
      "text/html": [
       "<span style=\"font-size:20px;\"> <a class=\"ProveItLink\" href=\"../__pv_it/demonstrations/accede437cc90bb16233cf856c6ef81f9707b4f90/proof.ipynb\" style=\"text-decoration: none\">&nbsp;&#x22A2;&nbsp;&nbsp;</a><a class=\"ProveItLink\" href=\"../__pv_it/demonstrations/c545c07914283f128617f96d315c70554772b1ac0/expr.ipynb\"><img src=\"data:image/png;base64,iVBORw0KGgoAAAANSUhEUgAAAPQAAAAVBAMAAACDGd7qAAAAMFBMVEX///8AAAAAAAAAAAAAAAAA\n",
       "AAAAAAAAAAAAAAAAAAAAAAAAAAAAAAAAAAAAAAAAAAAv3aB7AAAAD3RSTlMAEER2zVSJ3Zki72ar\n",
       "MruaaVGaAAAACXBIWXMAAA7EAAAOxAGVKw4bAAADZklEQVRIx41WTWgTQRT+tmk2P03TBS9SCoke\n",
       "FLwYQdR6sKHqyb948dqIErxo4ykqSqsIBimlB39qLTWCvUghOXgRhYaCqJjagFIvivFiQdC22lJE\n",
       "Jc7Om53ZbDahcwgvs+/7vnlv3nu7ALTNaLhuj7hsNgOscwnenZsau7S/Neo3mwEcqwzNefj7huT1\n",
       "LrOf0evfpdqgMPTUWSBcrKPjAHwQZwpkj5aFlRqOOknyBzLW2VMp8uurVqs54tXTDFVBvwXzCbFA\n",
       "L17SU772ZTKZK3QktqW9OiYoJ6D/JGsjvKtwkFxaOyl2bkVDRHUum72RIF7zJzSCYE747Bao1hh+\n",
       "KOn33TJq2uoR0q+Bx2T1JLQVOEhUzvYjXOFGkuUYSjq4jNBvkaonwr3PUDrQLqKBdN7AHF3ntigs\n",
       "aUlSrL0lcyX4roo6jdA/Qdwq3L/ZdBCKNpJmlzJXtvj/wEEipcM5G0HZJm3ezhLtd1uoR/N7ovJp\n",
       "KxpJszVgGVsLcJC82TVLRvDIqWuW24RF4o/z/59jVFwFC7VSwCTgodN+tEkTQEm3/xLGu5JV65Lk\n",
       "Cx5QvjoOIZgQfjMQvGN01MsiJAiUVgVuGghQ0Y7bpAmgpH3qQlcdJGamKW2RJfgfioOZqibveC+F\n",
       "QuWHp1J6DZhmJ+46yOmVsgAo6WH1LG/UkpjEVL6RNNpEE+o8a4y3fZi7PxcnikkUq9ZpFt9pnjB/\n",
       "QQ04AkjpNkvlE7CYqCUJx+Gn8u2Io00UoY9HafLyueJN4p650VIqzU0luccCj9pqil4VGg04KX0C\n",
       "AWquqiGkFUmQdc6SlXcr6kjRajZea/PADhBZsAiN9zW7a/ZUNEXXjFFf4XwaJ+ExOGDKTLgGO4nO\n",
       "rAp387K7zpHCdnPIcl4+SC9ks2kxizoqiJi3EU5qk7ZBumXBPkiB/hFwwF02FwnwzOzrSNxOEhjE\n",
       "XoN4v6JTTLu+JGx97WMjPQ4+6f2Lf2O+86bLmaGyTdrR16X84QIHDFSrK+CAlix7fRBUkowOXQXx\n",
       "6tlZYY0lUDtSzKTInB53zI966YYAF0u5eWtvTTHpEpVcn7QbwMVSbnotiUdO1w3yMyTmGF3wZzLy\n",
       "pdkU4GZJN5vFeQPyJSt9PSrEzkJd1E0BblbMxSLe0ReNP3DuuD1rBljnMnn/A/9J/5D4pxdgAAAA\n",
       "AElFTkSuQmCC\n",
       "\" style=\"display:inline;vertical-align:middle;\" /></a></span>"
      ],
      "text/plain": [
       "|- {2, 4, 6} subset_eq {1, 2, 3, 4, 5, 6, 7}"
      ]
     },
     "metadata": {},
     "output_type": "display_data"
    }
   ],
   "source": [
    "SubsetEq(set_evens, set_1234567).prove()"
   ]
  },
  {
   "cell_type": "markdown",
   "metadata": {},
   "source": [
    "This can produce an odd-looking result, because an enumerated Set might look like a multi-set but is in fact equal to its underlying support. For example, because $\\{1, 3, 5, 1, 5\\} = \\{1, 3, 5\\}$, we have the following result, even though the subset <i>appears</i> to have multiple copies of elements $1$ and $5$:"
   ]
  },
  {
   "cell_type": "code",
   "execution_count": 45,
   "metadata": {},
   "outputs": [
    {
     "data": {
      "text/html": [
       "<span style=\"font-size:20px;\"> <a class=\"ProveItLink\" href=\"../__pv_it/demonstrations/f9f189855a707743419f31737ffd648016ee935d0/proof.ipynb\" style=\"text-decoration: none\">&nbsp;&#x22A2;&nbsp;&nbsp;</a><a class=\"ProveItLink\" href=\"../__pv_it/demonstrations/be0dbe4fef159c3b773d5aecd376f3fa3610a4b60/expr.ipynb\"><img src=\"data:image/png;base64,iVBORw0KGgoAAAANSUhEUgAAARsAAAAVBAMAAACEflfWAAAAMFBMVEX///8AAAAAAAAAAAAAAAAA\n",
       "AAAAAAAAAAAAAAAAAAAAAAAAAAAAAAAAAAAAAAAAAAAv3aB7AAAAD3RSTlMAEER2zVSJ3Zki72ar\n",
       "MruaaVGaAAAACXBIWXMAAA7EAAAOxAGVKw4bAAADqElEQVRIx6WWT0gUURzHf7PrrDvjug556A+B\n",
       "a5ei0wZRJIGLBh0q2o6dNAoNsdwOtVERFkIDiXmI2CRQg+igtBt1iTosYSC5ohBUh6JVIjsYuqKV\n",
       "pWzz3u+9N7Mzs8tKe5j57u/93u/3ef9+bwBA2gEb+Skn3aybQvCfPx53b71r8zRI/a62TzNOZ2+T\n",
       "Vm7aaoCtdpKn5Ilx5RzxucBb2vrYOJOH4jzFBy7QNu/M0aJZ3RI9P5i6d3ZWYHTjW10+zJO1tU3T\n",
       "t5zP5/+wuL4YwPaeHPPYAvIKqiu/TqGQxo/zPGhr51MyF4/HMWC71U3JQheOSeqGlijzrkyzd/IS\n",
       "87sbCsSo8H3X9YssLsEBL8dpjErLqNLm2Bs5TprnpsNtNhez3eoW6Ad1CIFXoC7CXPazgAHRqRmC\n",
       "WcQxhtDtirM7BOXibLZsrQIcNQeBVao8D6GG4VQ/t+PIOaHQ6oJjtP0tE+c1FMExliCwLnZVCt++\n",
       "CjtOcMgS4FwxnJ2s/8S+SQcO2hhOpBgO2SCLTHiuMnFA4DzrxP2mHjt9U5ytLA/ijxTgvMugM8zA\n",
       "YMiOg7YGnH3L9EGPDedLmC3RQTYmJcVxgpqyREXNEVD5Pg+QVDTuQMq2WCtiNmN2HLQN0iCKBUcZ\n",
       "sbldM0tAlO3WCtN/jj7rFsE/zCwD5EHiPmiCQhxI8qj+VScOsUljNEXMpBkLFbr5s6JNxcgvrDh3\n",
       "6CGoi0HVErOcoWXBiFvdp1lxPgMs0GTBCPjXbTjM5qMjgNvmCD7OFOK84qVvGoJ0spWwwPlq4ND9\n",
       "YJy5KnZs4DqdQRI3mLbi5DWGoxrHY9GGw2wt+LfCck3NF+DIrXAft0eO4XgymanRVmp7DDDF153P\n",
       "jrQmSrs4WRIxjZLFkrA0qVnQBI4mbNDBYmTqnSeLdngPsIcqNU0WC4MYmmYwoJ5QJRt7ZwgbPb/J\n",
       "s0McdJ+xJWj9fEnqDlFGmWzQWIXu6geqqM28JDznrZeExe2yrseoqkoZdYcFqclihgR4h1F9g23s\n",
       "DpB/grXuBN4uT0Aludk8unGFUpXovQFAb9FM8mgKFbUJHFvdEW6Vxo0YwQ679FkWxL+wFqZxFX1c\n",
       "www+fZI1Ko8KcPB3AhxK1pyqGE7RDqYqmcGO0woO5QOnKonj1sEHZWXAIF5+dUhhcKhacCoswQC3\n",
       "4nGxdxpKdaiFsjJgXIVXYa/5bSdU2EVJI87ZGYyW6BCGsjKwuIk3G/um7Yy6GHuj//2tTOL+A9EF\n",
       "EyuVbztyAAAAAElFTkSuQmCC\n",
       "\" style=\"display:inline;vertical-align:middle;\" /></a></span>"
      ],
      "text/plain": [
       "|- {1, 3, 5, 1, 5} subset_eq {1, 2, 3, 4, 5, 6, 7}"
      ]
     },
     "metadata": {},
     "output_type": "display_data"
    }
   ],
   "source": [
    "SubsetEq(set_odds, set_1234567).prove()"
   ]
  },
  {
   "cell_type": "markdown",
   "metadata": {},
   "source": [
    "<div style=\"width: 90%; border: 5px solid green; padding: 10px; margin: 0px;\"><a id='demo04'></a><font size=4><b>4.</b> Instantiating the <span style=\"font-family:courier;\">proper_subset_of_superset</span> conjecture to deduce $\\{1, 3, 5\\}\\subset\\{1, 2, 3, 4, 5, 6\\}$.</font></div>\n",
    "The enumerated Set class has machinery to help automate the deduction of proper subset relationships such as $\\{1, 3, 5\\}\\subset\\{1, 2, 3, 4, 5, 6\\}$ between enumerated Sets. To gain some insight into how such machinery works, however, it can be useful to derive such a relationship by manually enacting the same steps as the automation would.<br/><br/>\n",
    "So, consider the enumerated Sets $\\{1, 3, 5\\}$ and $\\{1, 2, 3, 4, 5, 6\\}$ defined below:"
   ]
  },
  {
   "cell_type": "code",
   "execution_count": 46,
   "metadata": {},
   "outputs": [
    {
     "data": {
      "text/html": [
       "<strong id=\"set_135\">set_135:</strong> <a class=\"ProveItLink\" href=\"../__pv_it/demonstrations/424e8d937bcadb7d090877d51565ab00a8a1796a0/expr.ipynb\"><img src=\"data:image/png;base64,iVBORw0KGgoAAAANSUhEUgAAAEMAAAAVBAMAAADvM06qAAAAMFBMVEX///8AAAAAAAAAAAAAAAAA\n",
       "AAAAAAAAAAAAAAAAAAAAAAAAAAAAAAAAAAAAAAAAAAAv3aB7AAAAD3RSTlMAEER2zVSJ3Zki72ar\n",
       "MruaaVGaAAAACXBIWXMAAA7EAAAOxAGVKw4bAAABMUlEQVQoz2NgYGBUYsAFOCMhtIkiVukLDIwT\n",
       "GO48BDFZPwIJ3kKYvrQ+BQhrvUu5AAPDGxCTrYCBQablI1SJBAPrVwir6nsikEyHKWFghimxD2D8\n",
       "AmEdAJNYlGgpMBBSAnTbb4JK1DdA6NNmZ2FKOBxQlFw+cwHCeMgwH+g3KxBz1gY0i77CWHxA8+cH\n",
       "MDDMcWJAVcKwXgDK4PgJDPojAQy8fQLISu4yMLwPABvhwMDxF+hSkAl8B5CV/BeAKuEqYOD5wMAQ\n",
       "L4DsI0aQzBqQRSAWG1DVAwaGLLin2YDWyoO8thsULiAWZwODlQBSuPCc+nKagR0UlUwdwGgEs2b0\n",
       "NKIEHRgEMmCy0JQkMGCywEqYF0B5jAYMGCyGFnAigoUmM1wcwWJcDaZmHMWddnOAYQQAw3tRWAgT\n",
       "nREAAAAASUVORK5CYII=\n",
       "\" style=\"display:inline;vertical-align:middle;\" /></a><br>"
      ],
      "text/plain": [
       "<IPython.core.display.HTML object>"
      ]
     },
     "metadata": {},
     "output_type": "display_data"
    },
    {
     "data": {
      "text/html": [
       "<strong id=\"set_123456\">set_123456:</strong> <a class=\"ProveItLink\" href=\"../__pv_it/demonstrations/b9c8c6adff7c748cc8385203addd2e6f34fec8f10/expr.ipynb\"><img src=\"data:image/png;base64,iVBORw0KGgoAAAANSUhEUgAAAH8AAAAVBAMAAACd/CwcAAAAMFBMVEX///8AAAAAAAAAAAAAAAAA\n",
       "AAAAAAAAAAAAAAAAAAAAAAAAAAAAAAAAAAAAAAAAAAAv3aB7AAAAD3RSTlMAEER2zVSJ3Zki72ar\n",
       "MruaaVGaAAAACXBIWXMAAA7EAAAOxAGVKw4bAAACFUlEQVQ4y52UTUgbQRTH/2vImhgTF3opvST1\n",
       "IoiHHIoHLwbtrVq3F8FTU4QURDCehFLwA8E9SAgoKG2p8doKyd2LUD9pxICHFqqgF0+FxlYRK22c\n",
       "mTezm3UjiHvY+c282d/O2zezALRm3O8KDlD75PGdHylBy1Z1D4753X/K798MabWelySlMjE187ts\n",
       "80/H5DykUmzeT056mmWx3ScDH6H/JnoI/7kSvJXtm4tXkuZjjey510oAdErBDvCJqNPUzuRsnxKs\n",
       "2avvRuSopiBvYI/SbI1BCX703BRQ3rUEW8BeSc26kpD0CCK52wTsGlfQUpAZZJXga/suQUPv4JQS\n",
       "BBJuQfiPhP2iXMp7KMExlqgyTc/QYAIdnN8V3IJ6J1FZhaQtYGsX60W0jMAysMQkH7rgFmScjZIX\n",
       "g6FslSBwSYI0Qqzc2rqJcMZwCUJqAYfAL5PDHJQgkkDgH6WQQIh9Yp2/PbLmEvQjSGWsGFLQViz+\n",
       "3aRPl0ZjWWXCV/DScFWB98JJ+AyNj6zwFDSyrlBQZ44jQX72DVglh5wyjmQhNt6CZc0gyguzyveB\n",
       "IOA/BYMT6DBof57gkVm9D4r5ngL4QRmvVM5QP8qG6ix2mAQhU/kiglicnQSRbu26N5Iom12JF/CQ\n",
       "E3TopkC3A0kvOUGHSODLqe4DBVrcS3awijAtfhz2qbcn++CleA3SPotmceO+/8RhVohrdkyFuOKk\n",
       "TOYAAAAASUVORK5CYII=\n",
       "\" style=\"display:inline;vertical-align:middle;\" /></a><br>"
      ],
      "text/plain": [
       "<IPython.core.display.HTML object>"
      ]
     },
     "metadata": {},
     "output_type": "display_data"
    }
   ],
   "source": [
    "set_135, set_123456 = (\n",
    "        Set(one, three, five),\n",
    "        Set(one, two, three, four, five, six))"
   ]
  },
  {
   "cell_type": "code",
   "execution_count": 47,
   "metadata": {},
   "outputs": [
    {
     "data": {
      "text/html": [
       "<span style=\"font-size:20px;\"> <a class=\"ProveItLink\" href=\"../__pv_it/demonstrations/b61f0b9e8ea209c02d1469f4e1db00911d952d850/proof.ipynb\" style=\"text-decoration: none\">&nbsp;&#x22A2;&nbsp;&nbsp;</a><a class=\"ProveItLink\" href=\"../__pv_it/demonstrations/c892289f889120245350e06084ea4916fdff1fa50/expr.ipynb\"><img src=\"data:image/png;base64,iVBORw0KGgoAAAANSUhEUgAAAOEAAAAVBAMAAABCnpRGAAAAMFBMVEX///8AAAAAAAAAAAAAAAAA\n",
       "AAAAAAAAAAAAAAAAAAAAAAAAAAAAAAAAAAAAAAAAAAAv3aB7AAAAD3RSTlMAEER2zVSJ3Zki72ar\n",
       "MruaaVGaAAAACXBIWXMAAA7EAAAOxAGVKw4bAAAC60lEQVRIx32WTWgTQRTH/+uar+bDBS9axEYP\n",
       "CuKhB/HQgw1V8WDV9CJ4MqJElILpxaAoVRHMQeKCX0GLtSdBxQQ8eil+VkxtQEFBhRbEXgSrRkRF\n",
       "4+zOzszu7OzOIftP3v7ef/bt25cFoK1G4LpsKn4MA0JXYg89blilDKeB5Ui/NPyRAEC1WtDce34/\n",
       "Z31Gvlqfb5zMiWI1S1VXe9sIkJn0ZZGAys6WjAJvnWN9S5ltuVgk5322VLRE6jS1ywksQ+QHVbH6\n",
       "UYNGpeUFbiD6TUaBE87x+M99jrqUTRHuIEsA9DsJ+vNam6oURNTnKIDnwG0Zhc4cRYU2IzOrdFyX\n",
       "hdpxU7lcPqlwrBuYMSUU7wZlR3orVI4k9kfl+PpQwDU+A2ZaEoqCzzFzM9hxbcNxvD/c4o7asaCq\n",
       "kjUqo7rJHF9snHb6cMf+M8wxnvMkeNV0dpwxEqQldLq3VFY4SgDS32X0OpjjHMYpuWQ7uvJAn6Wv\n",
       "NaSq8obDPGl5+m2xq3NkIDYpowXuSDZOi9SzgPgEME5cxwYgFanO5QXSEiu22o+uMPQBVUho0nQ5\n",
       "xn9RxxKSpGTa4zzSVcOd4APwJW+rj8SRVOmAXZUx1yzyAkiyS+ToRTDHTA7xv7SqOSRJX0Wt7dKp\n",
       "whJ0DOZ4izQh7+qYq6peALuRML3o+mbz91PaLyWkFlhxrWvca3haz/p21yqNRm8G7pEo7Zx4Q9Wr\n",
       "FpAuQKeAQG1t5yams7aKkPtIUh0WCY6YsCfGA+uh6rG6sQZ9QjyPA7IjA65WKucoIFDgHw0mTqHP\n",
       "oJPoE7rz7uexWR9swBq6iypkHMdG7BE95ZqrKx8aHkcOjHY6bQoIFNXOIzuI2vnToCpamfZOALu5\n",
       "edIh6YLIWjPvnXJBwJA/KJTsGOWBgt8Rip9UQMEfFIo6OlOFrKX8T75XGjCeFQoIxYMuhbP2Hymf\n",
       "MfxkXZzS3fC/O4QBQvUqlHbHPtSeBL81XFHFwoDw95xh0q7/AZwc2eB+VPkyAAAAAElFTkSuQmCC\n",
       "\" style=\"display:inline;vertical-align:middle;\" /></a></span>"
      ],
      "text/plain": [
       "|- {1, 3, 5} proper_subset {1, 2, 3, 4, 5, 6}"
      ]
     },
     "metadata": {},
     "output_type": "display_data"
    }
   ],
   "source": [
    "ProperSubset(set_135, set_123456).prove()"
   ]
  },
  {
   "cell_type": "markdown",
   "metadata": {},
   "source": [
    "But we have an established theorem (really a conjecture) in the `enumeration` theory that we can use to deduce the subset relationship:"
   ]
  },
  {
   "cell_type": "code",
   "execution_count": 48,
   "metadata": {},
   "outputs": [
    {
     "data": {
      "text/html": [
       "<span style=\"font-size:20px;\"> <a class=\"ProveItLink\" href=\"proofs/proper_subset_of_superset/thm_proof.ipynb\" style=\"text-decoration: none\">&nbsp;&#x22A2;&nbsp;&nbsp;</a><a class=\"ProveItLink\" href=\"../__pv_it/theorems/dad760ff7a60dd104427048e9891cd96ae7245b00/expr.ipynb\"><img src=\"data:image/png;base64,iVBORw0KGgoAAAANSUhEUgAAA4UAAAAZCAMAAACxQns3AAAAPFBMVEX///8AAAAAAAAAAAAAAAAA\n",
       "AAAAAAAAAAAAAAAAAAAAAAAAAAAAAAAAAAAAAAAAAAAAAAAAAAAAAAAAAAAo1xBWAAAAE3RSTlMA\n",
       "q1RmmUTNIjK7EInv3XbP4duhPeprPQAAAAlwSFlzAAAOxAAADsQBlSsOGwAAB1xJREFUeNrtXOuC\n",
       "qygMlpsgKOec9f3fdQG5Gy1t7ZTdY37MdAImIc0HIeAMw4WElmXhw0033dRK2mAGXypxvJ36cQqz\n",
       "nGTsu3bg5vn226Z29fVFtyX3EXKj8D82dfp5U49MftcSgaY2C75vak8U3cZ0hkIU2zG5BIVXCryp\n",
       "Iqz877WDwJ5Qk8lrPxiU07x04zZNEgppzBZGfgkKrxR4UxVFIdtQSwfWtBnRhakpRGk/bhtlRKEI\n",
       "ExqfrslIrxR4U0mU3Ch8j1bcj9sITfvCgEiFr0HhlQJvKmke+kahnpaNRKcoZB2kx8khs4woDBWa\n",
       "C0orYxR6kcCbyi3W2DUKxah452thD8YkG0aSADO72WtWV6HwQoE3lQmp2n+THCnN9cEDp41tdCKi\n",
       "CmkJnxV3YWqMUKQ1qnI0pTURB4A5bmpEHCAgOUShhELquk3yMhReJ/Cm0r+x6EzDqshmE/rTQZ51\n",
       "2tiYwp2I0HPxJ4JPBbswNUwUq9kuyTWfLbg9M6dgCeOkqXFaAAUkt5EseeQo/LgIhdcJ/PLSc9Tg\n",
       "pzeiPncUIxTdh1O8ZMFnr1m6DxTOs04b2+hUBC9LHfAOpA9TQ0rvMDrn6+Wiak5LUxvBApLb8Jxt\n",
       "4eyqpdhzIKf2ATIjCIUvCHwlTsdP12CnI2XbZzF/dvuwn8Zm5me5MTiXrvHbHiSpcJA1SqUQemGh\n",
       "yeUDgY/GhEOBwCSxE1PzdXlV+VNBFWCTb3rdInnuNrFmKMS6uZQiNJom41eMBmVUVPN1EPKEwDcI\n",
       "qZ9DYVJmPPDrNytrJR8uxdQoHAQN6f48uTyLOcN0tQ5kjfTFlSYTAU0UI8sBBwZMJ6ZmixPLl/B5\n",
       "it8raNPwrkVnbmP5WmgQQ9rWXUr9VhObB4xxCsxInxD4Ds3iB1EYlFkP+Hnx51GYrv36+xdytW4m\n",
       "q3+iqpZkjTY4+fq0w0r5cH6XrDvwYg+menL4y5eo7akTm9626MxtXqNHocL+jI9QYuYENGgyRaUb\n",
       "z+2R4p2bAQvMuD5EYRRoVnOid/VrkAmP5LinWI2lMhWj9riHeHAhC+437ZVZD0hUwgS28e0xAiic\n",
       "dFVnky6s0Di4O8IhjILrs0YiYyC1pFYxS8tF7GJDlSk5hXfJHZga5Vix2/4xsNbNaLa3KTW9aFEm\n",
       "IEGocBuZchRyv7+ThFkT7V8axXR543F7Cy+FiDAZKWZHKAwCXfVarFWIgUx4QCc99SKHOLKF7bdp\n",
       "EA9MU476TTtlzgOaFRUu2Mb3x8iWk61iqHZbXOKFboUkHOJ9BBrDM7G15UMmAoiN+vBtZCco/KKp\n",
       "qQ8y7InmrK2CqQRgU9b0mkVBQAah0m3+5CkcsKNNFZd69DNGPJoKPINwRnIUmuHq6QCFQaBJ4EIV\n",
       "g6eTi8hkWFN2ngEfF0EmEoHgxitFoSTwHuvwz56i0CtzHphCwUYcD/GKMY66nnnFUoe2RFoJjrTI\n",
       "U6plkftG87AsWoclTmH7D6FPEgHERo1COSHg7YkOTM36KL9iR5ZShGyOrm3Kml6zKAjIIFS6bWEF\n",
       "ChN6tA+J7M1Dy3P7SDJOjvCGQqnqEgxcT3DzkcDRtsSc7cxxuvVj2aoMbAspKsoWuZLAa9LxcF/o\n",
       "lVkP/PrjPCBC2Qwc4hVjxOMuT443w8A7IHFjg4HEKU0RuCGtgvrsYmNvBFNT2w22HzYV6LNnndj0\n",
       "rkURQoVDuP+wQ6GNNrvC8XUQRQRS87dQxVpop/kHKHQHpBOR1qxF7pj8Qbk/9SQUE0IZVunrtaE9\n",
       "+3iICV2GA897pCP0M9IJVkco9MqsB+JedIMOOMQrxsiBpwhtCm2geMzNk5wfte4XsINpr4iNN25z\n",
       "/7CpquWxY5vetihCqHBI2EjXKOSrB67ZN1K32nneIizuUsZFWIrD07XQ7nkYiSHqJGbMwR57bFzo\n",
       "R+yJrU/NqrHhxLUZeXZ36z67HYmKOCh5mw5Ift7PaViOUOiVGQ9IVJVP6iFeNEa4BDv56UbPJ6Et\n",
       "NbC8CCG2cyXZULGC+lSxMWS3Yk6pA1OBPgDr0Ka3LcoglLktvnNUo5DZELOvBZr8WtpJHHuedtdE\n",
       "eKiOiWV7d/AhChkleHt2C9FNYmJuJx+OK2Ze/ih6Gs325TqKU3+qdfjMqc/gNxyUPH+6Aigp+pmt\n",
       "LB8Pa6SbMuOBf0SFwnqIF40RRmEokPH9GzpcjatyRgKRMq+WhoPWPXIAXhUbodj4kDowVTc8dmLT\n",
       "2xZlEMrcFmbUx//xAtdFdbsvPNxInc6NPl0rJCrpbcaPdC/be+bLQHZteK8k50UdkBJcaNCkqC5A\n",
       "h67yd/TAHiaA9tfHCB9HhtvKnKLvvjjGVasBXze1J0pu07Es/giFT/7DkBMUCj279w0LiaOZYpYj\n",
       "PQXP5oH2hABttudt2eegJOdFHZCSjGU14PJiKITC7L941EcJkPY3xojvN8P+EnqEwidvKzfEDWnm\n",
       "kkYpzc+SZ8cHoTC/TzjqD45RjPcCcqPwFRr/X/+PFBpKsaCJzwGFizs6/wrSyzKTfwHhI1oA+qt+\n",
       "1wAAAABJRU5ErkJggg==\n",
       "\" style=\"display:inline;vertical-align:middle;\" /></a></span>"
      ],
      "text/plain": [
       "|- forall_{m, n in Natural} [forall_{a_{1}, a_{2}, ..., a_{m}, b, c_{1}, c_{2}, ..., c_{n} | b not-in {a_{1}, a_{2}, ..., a_{m}}} ({a_{1}, a_{2}, ..., a_{m}} proper_subset {a_{1}, a_{2}, ..., a_{m}, b,c_{1}, c_{2}, ..., c_{n}})]"
      ]
     },
     "metadata": {},
     "output_type": "display_data"
    }
   ],
   "source": [
    "from proveit.logic.sets.enumeration import proper_subset_of_superset\n",
    "proper_subset_of_superset"
   ]
  },
  {
   "cell_type": "markdown",
   "metadata": {},
   "source": [
    "Our goal here is to instantiate the <span style=\"font-family:courier;\">proper_subset_of_superset</span> theorem with the details of our desired case, where we will take:\n",
    "    <ul>\n",
    "        <li>$m=3$ to be the size of our subset Set $\\{1, 3, 5\\}$;</li>\n",
    "        <li>$n=2$ to be the size of $c_1, \\ldots, c_n$ portion of our superset Set\n",
    "            $\\{1, 2, 3, 4, 5, 6\\}$;</li>\n",
    "        <li>$\\{a_1, \\ldots, a_m\\}$ to be our subset $\\{1, 3, 5\\}$;</li>\n",
    "        <li>and $\\{a_1, \\ldots, a_m, b, c_1, \\ldots, c_n\\}$ to be our superset $\\{1, 2, 3, 4, 5, 6\\}$ after being suitably permuted to something like $\\{1, 3, 5, 2, 4, 6\\}$, which then requires $b$ to be the element $2$ and $\\{c_1, \\ldots, c_n\\}$ to be the set $\\{4, 6\\}$.</li>\n",
    "        </ul>\n",
    "We begin the process by deducing an equivalence between our original superset and the permuted version of that set required for the theorem application:"
   ]
  },
  {
   "cell_type": "code",
   "execution_count": 49,
   "metadata": {},
   "outputs": [
    {
     "data": {
      "text/html": [
       "<strong id=\"superset_permuted_kt\">superset_permuted_kt:</strong> <span style=\"font-size:20px;\"> <a class=\"ProveItLink\" href=\"../__pv_it/demonstrations/6dea799200e0771a40cc5decb73bac46c7d84d3e0/proof.ipynb\" style=\"text-decoration: none\">&nbsp;&#x22A2;&nbsp;&nbsp;</a><a class=\"ProveItLink\" href=\"../__pv_it/demonstrations/26e3b82e99c992cbc090425005288f9f082527080/expr.ipynb\"><img src=\"data:image/png;base64,iVBORw0KGgoAAAANSUhEUgAAARsAAAAVBAMAAACEflfWAAAAMFBMVEX///8AAAAAAAAAAAAAAAAA\n",
       "AAAAAAAAAAAAAAAAAAAAAAAAAAAAAAAAAAAAAAAAAAAv3aB7AAAAD3RSTlMAEER2zVSJ3Zki72ar\n",
       "MruaaVGaAAAACXBIWXMAAA7EAAAOxAGVKw4bAAADXklEQVRIx51WzUtUURw9z2nG+fZRq0RwatWi\n",
       "hYuIkKDBihZZTZug1UwUJmGkm4QKtBAaQmygMqlIjSSoaAb6AxKystScVQm10IiCkHBsRCpquu9+\n",
       "vo+Zl8xdzD1zub9zzv3de3/3AdA2o7p2I1NudH2sOrbAUdZv27TmkDw0k4XIW905xdOil4uMABv/\n",
       "Q/5xwfj1FozZXcJj+mCeocH2T3LmHO+ze7q5mK/tNBAdd5ImjQnvhSVJEizu67IrKF60tZGxRUrc\n",
       "CTT0Ffj4XfiWKdB6kUyI2Rd4f271GOdswSsWam8nSejkIW5HkdRmz+o2BRPv9Vi4k4ZyTo+w8xp4\n",
       "yJK+gsa42AARJrOxrgnfK9oBdnFpRRKWE6SCiXc3ovNl7WR1zNLjUXMPdcLOh1a7Hbol/7ejSJQd\n",
       "qaB4vQUVarVDtmBWbG0yx0HKYecb1mRHkSg7JgXBGx2pZIe0Ht7XnBc5zQg7U9tnGLj/bkdsTXYE\n",
       "SfhpR96uIHmDB45fEqH+uNVO5Afvd3Jp3Iaws4BhVlWKOYyRKLYqfzdtLHV9FjuSJKoHlu0Kkrdu\n",
       "P4LkxDcb+FbOaqdWHRB+s1LSDqGlCdFKwBUdgRVnMXtk3yx5Pb/aFSRv4xL8o8AwmXqnBVY7AxIF\n",
       "2WAoY7Lj/0ntrALPSJ4a9trdTMRsdoKS+WrGqqB4GzsRIrnTJhKIDOgWOyFuPZJHlC3+GkRYNA7/\n",
       "H7ZZxA7J6gnHgzC3YLajSD4TO3mrguIlty/0mxxFIzO0tCo7RxCgq6grCKat09O/XrKVdiK8JBJP\n",
       "ssMvqOXsLJrtKJIH5D7ZFBRvlGWHVg95szS6nhQ8uoGC40aeOe1jUOQjw/MUJcnZIf9HXG6WbiFJ\n",
       "AU9sCorXS84OoTolL7qPHAlaP2+m05cpCuVIydCKLOwvKAr0olmnKJrSxlwu+pkMC1AkQ/CM2hQU\n",
       "L76gPmGqO+E3xSnUGm9cT6lUZGhLmrx+7MUcKD1naKj/Ih9r789XtjOdbc2xaZIkkJ7U7QqK15ee\n",
       "sZRB2g7Dgby6G6qYnUoBrgp2Oyk4kA+uyM1OuQBXBRbqEedRa4IDbYAb8seddppdAtwVWEGXpdWj\n",
       "vugkanJF9TmnneFE5QB3BY0WdAy9qPJbebBcYKA/UeW3cgcJ/AeKYhc0OZG2HwAAAABJRU5ErkJg\n",
       "gg==\n",
       "\" style=\"display:inline;vertical-align:middle;\" /></a></span><br>"
      ],
      "text/plain": [
       "<IPython.core.display.HTML object>"
      ]
     },
     "metadata": {},
     "output_type": "display_data"
    }
   ],
   "source": [
    "superset_permuted_kt = set_123456.permutation(new_order=[0, 2, 4, 1, 3, 5])"
   ]
  },
  {
   "cell_type": "markdown",
   "metadata": {},
   "source": [
    "Notice that we eventually want to replace $b$ with our superset element $2$ (although we could have chosen any superset element that isn't in the subset and chosen a different permutation as necessary), and so we'll want to know that $2\\notin\\{1, 3, 5\\}$. The instantiation machinery might handle that part for us automatically, but for this example we'll ask Prove-It to first do it for us explicitly:"
   ]
  },
  {
   "cell_type": "code",
   "execution_count": 50,
   "metadata": {},
   "outputs": [
    {
     "data": {
      "text/html": [
       "<span style=\"font-size:20px;\"> <a class=\"ProveItLink\" href=\"../__pv_it/demonstrations/73b94cd6b974779ceec3b7bb8a2fbd7d92e4a5ca0/proof.ipynb\" style=\"text-decoration: none\">&nbsp;&#x22A2;&nbsp;&nbsp;</a><a class=\"ProveItLink\" href=\"../__pv_it/demonstrations/dbe414d5b4382d4c12df91fb6e8d198759dc256a0/expr.ipynb\"><img src=\"data:image/png;base64,iVBORw0KGgoAAAANSUhEUgAAAGcAAAAVCAMAAABsdQABAAAAP1BMVEX///8AAAAAAAAAAAAAAAAA\n",
       "AAAAAAAAAAAAAAAAAAAAAAAAAAAAAAAAAAAAAAAAAAAAAAAAAAAAAAAAAAAAAADFBd4eAAAAFHRS\n",
       "TlMAIpnNuzKJRKvvEN12ZlTp8+P3nfgXZw4AAAAJcEhZcwAADsQAAA7EAZUrDhsAAAG/SURBVEjH\n",
       "nZbZcsMgDEXZLSRw25T//9aaJZjFW8ODZ1AQR7pImjB2tni/xWVhHyy+8psTEtudkwv+43qdQosI\n",
       "DSo7ciGk0vNJaHdrqBRNA5AbI9SQrA1SUjmo0k1cbR8TJlFEZzFU1AMhQ89BkeJYOyPZQAZbX0j6\n",
       "WTtyiB1xooIDx0UEBtkZYfK1yQ1C+1xO0dc3yWecxcbMbzmQv2F/oUU6ZKCf5lPez99wikphf9ZY\n",
       "aNiHd8dZqMcw8M68Q218dXB7PUcFvRuqQl5wtIMhfRZrmZficvvbU5OnnJuHcevvdFtno8qJ8Pqb\n",
       "UE1wloh+XtunGjnIhV1zSjkNIpTiQpCJ5NtXw9RPfXRaKDzl6CSZ6hJSMnOymiaHuZoYM28bhyYJ\n",
       "4JQT0r7n2FLE7SzRJnlXZ+fYIkbOQb29HSxU3eodJv+SlTepDjiJuJoM5Ar6gmOy6nUCeP/un30o\n",
       "cJHqDBtfCmk1/YLwmmZz5QBsIxLi1e8xuWUvyhytpjicQeDcp93yv0Zt9XYyd/ZaxiemC47ER2fN\n",
       "I9M5h6vZ5qZ5ztA9MfWzpOcftDaf+/3gzkMMWn/MgcMkBawf/T8w2e8PH2EQB1Y9eHYAAAAASUVO\n",
       "RK5CYII=\n",
       "\" style=\"display:inline;vertical-align:middle;\" /></a></span>"
      ],
      "text/plain": [
       "|- 2 not-in {1, 3, 5}"
      ]
     },
     "metadata": {},
     "output_type": "display_data"
    }
   ],
   "source": [
    "NotInSet(two, set_135).prove()"
   ]
  },
  {
   "cell_type": "markdown",
   "metadata": {},
   "source": [
    "Now we should be ready to instantiate the <span style=\"font-family:courier;\">proper_subset_of_superset</span> theorem as shown below:"
   ]
  },
  {
   "cell_type": "code",
   "execution_count": 51,
   "metadata": {},
   "outputs": [
    {
     "data": {
      "text/html": [
       "<strong id=\"proper_subset_of_superset_spec\">proper_subset_of_superset_spec:</strong> <span style=\"font-size:20px;\"> <a class=\"ProveItLink\" href=\"../__pv_it/demonstrations/aee371f1ac163b708b440e26c0c8a27d26f721bf0/proof.ipynb\" style=\"text-decoration: none\">&nbsp;&#x22A2;&nbsp;&nbsp;</a><a class=\"ProveItLink\" href=\"../__pv_it/demonstrations/c892289f889120245350e06084ea4916fdff1fa50/expr.ipynb\"><img src=\"data:image/png;base64,iVBORw0KGgoAAAANSUhEUgAAAOEAAAAVBAMAAABCnpRGAAAAMFBMVEX///8AAAAAAAAAAAAAAAAA\n",
       "AAAAAAAAAAAAAAAAAAAAAAAAAAAAAAAAAAAAAAAAAAAv3aB7AAAAD3RSTlMAEER2zVSJ3Zki72ar\n",
       "MruaaVGaAAAACXBIWXMAAA7EAAAOxAGVKw4bAAAC60lEQVRIx32WTWgTQRTH/+uar+bDBS9axEYP\n",
       "CuKhB/HQgw1V8WDV9CJ4MqJElILpxaAoVRHMQeKCX0GLtSdBxQQ8eil+VkxtQEFBhRbEXgSrRkRF\n",
       "4+zOzszu7OzOIftP3v7ef/bt25cFoK1G4LpsKn4MA0JXYg89blilDKeB5Ui/NPyRAEC1WtDce34/\n",
       "Z31Gvlqfb5zMiWI1S1VXe9sIkJn0ZZGAys6WjAJvnWN9S5ltuVgk5322VLRE6jS1ywksQ+QHVbH6\n",
       "UYNGpeUFbiD6TUaBE87x+M99jrqUTRHuIEsA9DsJ+vNam6oURNTnKIDnwG0Zhc4cRYU2IzOrdFyX\n",
       "hdpxU7lcPqlwrBuYMSUU7wZlR3orVI4k9kfl+PpQwDU+A2ZaEoqCzzFzM9hxbcNxvD/c4o7asaCq\n",
       "kjUqo7rJHF9snHb6cMf+M8wxnvMkeNV0dpwxEqQldLq3VFY4SgDS32X0OpjjHMYpuWQ7uvJAn6Wv\n",
       "NaSq8obDPGl5+m2xq3NkIDYpowXuSDZOi9SzgPgEME5cxwYgFanO5QXSEiu22o+uMPQBVUho0nQ5\n",
       "xn9RxxKSpGTa4zzSVcOd4APwJW+rj8SRVOmAXZUx1yzyAkiyS+ToRTDHTA7xv7SqOSRJX0Wt7dKp\n",
       "whJ0DOZ4izQh7+qYq6peALuRML3o+mbz91PaLyWkFlhxrWvca3haz/p21yqNRm8G7pEo7Zx4Q9Wr\n",
       "FpAuQKeAQG1t5yams7aKkPtIUh0WCY6YsCfGA+uh6rG6sQZ9QjyPA7IjA65WKucoIFDgHw0mTqHP\n",
       "oJPoE7rz7uexWR9swBq6iypkHMdG7BE95ZqrKx8aHkcOjHY6bQoIFNXOIzuI2vnToCpamfZOALu5\n",
       "edIh6YLIWjPvnXJBwJA/KJTsGOWBgt8Rip9UQMEfFIo6OlOFrKX8T75XGjCeFQoIxYMuhbP2Hymf\n",
       "MfxkXZzS3fC/O4QBQvUqlHbHPtSeBL81XFHFwoDw95xh0q7/AZwc2eB+VPkyAAAAAElFTkSuQmCC\n",
       "\" style=\"display:inline;vertical-align:middle;\" /></a></span><br>"
      ],
      "text/plain": [
       "<IPython.core.display.HTML object>"
      ]
     },
     "metadata": {},
     "output_type": "display_data"
    }
   ],
   "source": [
    "proper_subset_of_superset_spec = proper_subset_of_superset.instantiate(\n",
    "        {m:three, n:two, a:set_135.elements, b:two, c:(four, six)})"
   ]
  },
  {
   "cell_type": "markdown",
   "metadata": {},
   "source": [
    "And finally we use our earlier-derived permutation equivalence to back substitute and get the desired subset relationship:"
   ]
  },
  {
   "cell_type": "code",
   "execution_count": 52,
   "metadata": {},
   "outputs": [
    {
     "data": {
      "text/html": [
       "<span style=\"font-size:20px;\"> <a class=\"ProveItLink\" href=\"../__pv_it/demonstrations/aee371f1ac163b708b440e26c0c8a27d26f721bf0/proof.ipynb\" style=\"text-decoration: none\">&nbsp;&#x22A2;&nbsp;&nbsp;</a><a class=\"ProveItLink\" href=\"../__pv_it/demonstrations/c892289f889120245350e06084ea4916fdff1fa50/expr.ipynb\"><img src=\"data:image/png;base64,iVBORw0KGgoAAAANSUhEUgAAAOEAAAAVBAMAAABCnpRGAAAAMFBMVEX///8AAAAAAAAAAAAAAAAA\n",
       "AAAAAAAAAAAAAAAAAAAAAAAAAAAAAAAAAAAAAAAAAAAv3aB7AAAAD3RSTlMAEER2zVSJ3Zki72ar\n",
       "MruaaVGaAAAACXBIWXMAAA7EAAAOxAGVKw4bAAAC60lEQVRIx32WTWgTQRTH/+uar+bDBS9axEYP\n",
       "CuKhB/HQgw1V8WDV9CJ4MqJElILpxaAoVRHMQeKCX0GLtSdBxQQ8eil+VkxtQEFBhRbEXgSrRkRF\n",
       "4+zOzszu7OzOIftP3v7ef/bt25cFoK1G4LpsKn4MA0JXYg89blilDKeB5Ui/NPyRAEC1WtDce34/\n",
       "Z31Gvlqfb5zMiWI1S1VXe9sIkJn0ZZGAys6WjAJvnWN9S5ltuVgk5322VLRE6jS1ywksQ+QHVbH6\n",
       "UYNGpeUFbiD6TUaBE87x+M99jrqUTRHuIEsA9DsJ+vNam6oURNTnKIDnwG0Zhc4cRYU2IzOrdFyX\n",
       "hdpxU7lcPqlwrBuYMSUU7wZlR3orVI4k9kfl+PpQwDU+A2ZaEoqCzzFzM9hxbcNxvD/c4o7asaCq\n",
       "kjUqo7rJHF9snHb6cMf+M8wxnvMkeNV0dpwxEqQldLq3VFY4SgDS32X0OpjjHMYpuWQ7uvJAn6Wv\n",
       "NaSq8obDPGl5+m2xq3NkIDYpowXuSDZOi9SzgPgEME5cxwYgFanO5QXSEiu22o+uMPQBVUho0nQ5\n",
       "xn9RxxKSpGTa4zzSVcOd4APwJW+rj8SRVOmAXZUx1yzyAkiyS+ToRTDHTA7xv7SqOSRJX0Wt7dKp\n",
       "whJ0DOZ4izQh7+qYq6peALuRML3o+mbz91PaLyWkFlhxrWvca3haz/p21yqNRm8G7pEo7Zx4Q9Wr\n",
       "FpAuQKeAQG1t5yams7aKkPtIUh0WCY6YsCfGA+uh6rG6sQZ9QjyPA7IjA65WKucoIFDgHw0mTqHP\n",
       "oJPoE7rz7uexWR9swBq6iypkHMdG7BE95ZqrKx8aHkcOjHY6bQoIFNXOIzuI2vnToCpamfZOALu5\n",
       "edIh6YLIWjPvnXJBwJA/KJTsGOWBgt8Rip9UQMEfFIo6OlOFrKX8T75XGjCeFQoIxYMuhbP2Hymf\n",
       "MfxkXZzS3fC/O4QBQvUqlHbHPtSeBL81XFHFwoDw95xh0q7/AZwc2eB+VPkyAAAAAElFTkSuQmCC\n",
       "\" style=\"display:inline;vertical-align:middle;\" /></a></span>"
      ],
      "text/plain": [
       "|- {1, 3, 5} proper_subset {1, 2, 3, 4, 5, 6}"
      ]
     },
     "metadata": {},
     "output_type": "display_data"
    }
   ],
   "source": [
    "superset_permuted_kt.sub_left_side_into(proper_subset_of_superset_spec)"
   ]
  },
  {
   "cell_type": "markdown",
   "metadata": {},
   "source": [
    "<div style=\"width: 90%; border: 5px solid green; padding: 10px; margin: 0px;\"><a id='demo05'></a><font size=4><b>5.</b> Deducing that $\\{2, 4, 6\\}\\subset\\{1, 2, 3, 4, 5, 6\\}$ and $\\{c, b, a\\}\\subset\\{a, b, c, d, e\\}$.</font></div>"
   ]
  },
  {
   "cell_type": "markdown",
   "metadata": {},
   "source": [
    "The enumerated Set class has machinery to help automate the deduction of proper subset relationships such as $\\{1, 3, 5\\}\\subset\\{1, 2, 3, 4, 5, 6\\}$ derived manually in the previous demonstration. That process of set reduction, permutation, theorem application, and back substitution, has been encapsulated in the `Set.deduce_enum_proper_subset()` method. For example, we can derive that $\\{2, 4, 6\\}\\subset\\{1, 2, 3, 4, 5, 6\\}$ in a single step:"
   ]
  },
  {
   "cell_type": "code",
   "execution_count": 53,
   "metadata": {},
   "outputs": [
    {
     "data": {
      "text/html": [
       "<strong id=\"set_246\">set_246:</strong> <a class=\"ProveItLink\" href=\"../__pv_it/demonstrations/7da6e3df44a56ce31b15b5c3932e5fcb832442d60/expr.ipynb\"><img src=\"data:image/png;base64,iVBORw0KGgoAAAANSUhEUgAAAEMAAAAVBAMAAADvM06qAAAAMFBMVEX///8AAAAAAAAAAAAAAAAA\n",
       "AAAAAAAAAAAAAAAAAAAAAAAAAAAAAAAAAAAAAAAAAAAv3aB7AAAAD3RSTlMAEER2zVSJ3Zki72ar\n",
       "MruaaVGaAAAACXBIWXMAAA7EAAAOxAGVKw4bAAABVElEQVQoz2NgYGBUYsAFOCMhtIkiTiUMdx6C\n",
       "SNaPQNUdfhdgorwNUEZaGlDsDYjFVsDAMI+B7RNMCfsBCD1FgQcokw5TcpKBYRVMiTlUiTMD3wMk\n",
       "JesFGM5PgNqzBaIEZD8DkpLjDAznoY5hY4Eo4VuAqgQI6qH2WEKVcPkmN8GUcDiAzf8MDYkNUCX8\n",
       "3gxcAQwMViD2rA3I/mBjgCqR/8DAsZCBYT5Q2RwnsEgf1J6dcCUFDNzAgGA8EsDA2ycAFOCGGsJp\n",
       "AFPC78DA/RtoKsgEPpBQGAMn2NNMZ86cX5MA9hHElHgBqI94ExiYBRghBnEdYACxWIFuAfo7C+bp\n",
       "6R0d7QzyDhAbHkBYzxikApDCpf7//y8M7IXgMHj/xwDMYus4ixZ0QBDIgMlCU5LAgMkCK2FeAOUx\n",
       "GjBgsBhawEHxFcpjhosjWIyrwdSMo7jTbg7QUwC1m1PldOULzQAAAABJRU5ErkJggg==\n",
       "\" style=\"display:inline;vertical-align:middle;\" /></a><br>"
      ],
      "text/plain": [
       "<IPython.core.display.HTML object>"
      ]
     },
     "metadata": {},
     "output_type": "display_data"
    }
   ],
   "source": [
    "# define the subset {2, 4, 6}\n",
    "set_246 = Set(two, four, six)"
   ]
  },
  {
   "cell_type": "code",
   "execution_count": 54,
   "metadata": {},
   "outputs": [
    {
     "data": {
      "text/html": [
       "<strong id=\"proper_subset_jdgmt\">proper_subset_jdgmt:</strong> <span style=\"font-size:20px;\"> <a class=\"ProveItLink\" href=\"../__pv_it/demonstrations/bc5a7a4380a2012712a0344c397ecb347e4c43d40/proof.ipynb\" style=\"text-decoration: none\">&nbsp;&#x22A2;&nbsp;&nbsp;</a><a class=\"ProveItLink\" href=\"../__pv_it/demonstrations/3eb8848047f8dece9c6f58efe11b1e2e8fb560510/expr.ipynb\"><img src=\"data:image/png;base64,iVBORw0KGgoAAAANSUhEUgAAAOEAAAAVBAMAAABCnpRGAAAAMFBMVEX///8AAAAAAAAAAAAAAAAA\n",
       "AAAAAAAAAAAAAAAAAAAAAAAAAAAAAAAAAAAAAAAAAAAv3aB7AAAAD3RSTlMAEER2zVSJ3Zki72ar\n",
       "MruaaVGaAAAACXBIWXMAAA7EAAAOxAGVKw4bAAADVklEQVRIx31WS2gTURQ9Y5r/pwNupIiJLhTE\n",
       "RQTx04UNVVdWTTeCKyNK/aA0rqKitErBICUE/FUttoLdaCFZuBEFi38xtQGlCiqmGwuittVK8Tu+\n",
       "efe9mcnk8xYzl3fvuefd++69MwCUJai5zmerbNYD1F3eHfRetbi2TfCFWrlZD2BbRSjWM7+b0J/O\n",
       "Gfbo6/likHQLwdVxCAiNVHjhALwWR/GmtxaF1JGJSJs34p3bmJJH7uhgdp+54yQzLqFTWrsFh7cV\n",
       "T0hrW/qW8nSb8HQVrm8kLYDzh7Q5Lt7H5nYJ6VwkwHB7pYNAFr5BoVojGBui+FqTEWgRjM+AGyS1\n",
       "xJVZYeKQjGaGNiBUsjD6ZhD4KZJ6S1jtVE33bK1PpVInqjDmVIzRVS2PQDK+bbMz0lVYYkwi8FdE\n",
       "0CCsPsHK+Gp/jRhZ5seK0u1vISQqGEOD5Yz69U2Tap1kvD6+NmJolaO1sspWlxSW5UVSs5Lx+epR\n",
       "Enxbdp+SjJ4Y3/oQpXrJS8bZPIYYmM4WiJiMBDAZg9+F8LIggr0CyTiBAUI2boYvDjTr8uW8tbpc\n",
       "EIyKBpxR4aXya7BUDgFMRrd5WaJWEwYjSyclKTwNzzVggLH2t9LBS2Rw22CcA+6x8y3cxFvXJBQA\n",
       "kzFj6nJ805+1MHqoIsNJ+FkXKQ/jCGa41V3RhFEYWWWMLJo9PCv9ljFEAIPRL0N8D0zFdeEsJGMo\n",
       "Bg9VZGMMflZXLv24fKo4E7ikK+YVCmPDCW4zyWMUVe22ZJXGkMG4HV7qDk0VjCsKhV+PqV5YD0zL\n",
       "5Oox8pbjpTcOrAT58I1A4f3I7pFpqXI8+Wq1qgOCCThUDhjWs6qQzTApXcxdiUtOdo/M1QFjyh1J\n",
       "p5NiYjSWENarMZRQhsx+bLUzdmbBARfT6dMEuKP3Y5gq/x8pvd1oVsnvRzTFLf3o1jQtBj50PVN/\n",
       "ou7DumJfb9FkXHRfLWMs5NryHNClabPggHlpNskJmtEekLe+3pMgyZUetU0APXLDabstILaWTpZP\n",
       "uVqA9kqlKdkZXYYiUcmIKlvVAIlKpSkRo0N+NDDf+MhHbQOmbNUFmJKhtEjo4S1ofNQMY4dp0pSv\n",
       "/HeoBzClaBVJuclffY9q/zVcqKarB6j/n3OQlet/m5bnCK6G5/YAAAAASUVORK5CYII=\n",
       "\" style=\"display:inline;vertical-align:middle;\" /></a></span><br>"
      ],
      "text/plain": [
       "<IPython.core.display.HTML object>"
      ]
     },
     "metadata": {},
     "output_type": "display_data"
    }
   ],
   "source": [
    "# deduce that {2, 4, 6} is a proper subset of {1, 2, 3, 4, 5, 6}\n",
    "proper_subset_jdgmt = set_123456.deduce_enum_proper_subset(subset=set_246)"
   ]
  },
  {
   "cell_type": "markdown",
   "metadata": {},
   "source": [
    "That process works without any special assumptions included in the call of the `deduce_enum_proper_subset()` method because Prove-It recognizes the elements $1, 2, \\ldots, 6$ as distinct literals and thus that (e.g.) $1\\notin\\{2, 4, 6\\}$ (which allows Prove-It to recognize that the set $\\{1, 2, 3, 4, 5, 6\\}$ not only contains the set $\\{2, 4, 6\\}$ but also has elements not in that subset).  \n",
    "If we are dealing with <i>variables</i>, though, the process is not so clear-cut. Consider, for example, the claim that $\\{c, b, a\\}\\subset\\{a, b, c, d, e\\}$. If one interprets the letter elements as literals, then it's clear that $d\\notin\\{c, b, a\\}$ and we can easily understand that $\\{c, b, a\\}$ is a proper subset of $\\{a, b, c, d, e\\}$. But if $a, b, \\ldots, e$ are variables, it's not at all clear that $d\\ne a$ and thus it's not clear that $d\\notin\\{c, b, a\\}$.<br/>\n",
    "Thus, without some additional information or additional assumptions, the `deduce_enum_proper_subset()` method will fail to deduce the desired relationship:"
   ]
  },
  {
   "cell_type": "code",
   "execution_count": 55,
   "metadata": {},
   "outputs": [
    {
     "name": "stdout",
     "output_type": "stream",
     "text": [
      "Proof Failure: Failed to prove that the supposed Self superset {a, b, c, d, e} has any elements not already contained in the supposed proper subset {c, b, a}. Notice that this might be because the sets have unassigned variables\n"
     ]
    }
   ],
   "source": [
    "from proveit import e\n",
    "set_abcde, set_cba = Set(a, b, c, d, e), Set(c, b, a)\n",
    "try:\n",
    "    set_abcde.deduce_enum_proper_subset(subset=set_cba)\n",
    "    assert False, \"Should not make it to this point.\"\n",
    "except ValueError as e:\n",
    "    print(\"Proof Failure: {}\".format(e))"
   ]
  },
  {
   "cell_type": "markdown",
   "metadata": {},
   "source": [
    "If we supply the additional assumptions, however, that $d\\ne a$, $d\\ne b$, and $d\\ne c$, the derivation works fine:"
   ]
  },
  {
   "cell_type": "code",
   "execution_count": 56,
   "metadata": {},
   "outputs": [
    {
     "data": {
      "text/html": [
       "<span style=\"font-size:20px;\"><a class=\"ProveItLink\" href=\"../__pv_it/demonstrations/e0983d269696d2d341411d64e235d13f5e86a7bc0/expr.ipynb\"><img src=\"data:image/png;base64,iVBORw0KGgoAAAANSUhEUgAAAC8AAAAUCAMAAAAqRJTwAAAAPFBMVEX///8AAAAAAAAAAAAAAAAA\n",
       "AAAAAAAAAAAAAAAAAAAAAAAAAAAAAAAAAAAAAAAAAAAAAAAAAAAAAAAAAAAo1xBWAAAAE3RSTlMA\n",
       "Ms3vmVREEIndIqt2u2bn9enzePXnUgAAAAlwSFlzAAAOxAAADsQBlSsOGwAAAMdJREFUKM+Vk+sS\n",
       "hCAIhb2LSuzF93/XxZptM0d25IdTevo4QColhYuzE22sGzc3gVX9sLXpuTzUIbcuAh7SiM+C3gz2\n",
       "wwyfC6Ae7ZsbHhCpFRQsH2w/+y7t8Xi29cyREwMdNyxaaiLzB5+AF4usrOdr576vx535bRtKrEHG\n",
       "2+/oYuUciuoF1Xy/3kcV5ao6nlpjilG+A5rb9CodLrkz/KVPTnV+/X0abvcD3M9YEHQuqCU8S4EI\n",
       "Z7+rB7UUJi7JaRGf1vBKuCYfp60Fh+4wLn8AAAAASUVORK5CYII=\n",
       "\" style=\"display:inline;vertical-align:middle;\" /></a>, <a class=\"ProveItLink\" href=\"../__pv_it/demonstrations/cbb871ed1e68cd311943cffb45d90655c4ca25770/expr.ipynb\"><img src=\"data:image/png;base64,iVBORw0KGgoAAAANSUhEUgAAAC8AAAAUCAMAAAAqRJTwAAAAPFBMVEX///8AAAAAAAAAAAAAAAAA\n",
       "AAAAAAAAAAAAAAAAAAAAAAAAAAAAAAAAAAAAAAAAAAAAAAAAAAAAAAAAAAAo1xBWAAAAE3RSTlMA\n",
       "Ms3vmVREEIndIqt2u2bn9enzePXnUgAAAAlwSFlzAAAOxAAADsQBlSsOGwAAAM5JREFUKM+VkusO\n",
       "BBEMhalLUWYvff933TLZ3TFCoj9E9eQ7LZRahcVZRYOx42H5bbGY2BfZDfqiLwn0PM+Dt6YFL8QR\n",
       "nxY8GNr3NOElClmP7UPqMsqZmsYbKZS/nY0tHs+6fj2QAWURJZqjimCNd41nsii55jHcu+/nOXks\n",
       "KlOanV/iT56XIZHFQx18QdW+X+9zCrrevuU6Q90RKNdfx+31WH8nLcJ30aquX3d/DRJpaYdIOehE\n",
       "Wa/wogr2mP5jF9RWAG7Jj0183MMrPS99AMD5BlzD4w3dAAAAAElFTkSuQmCC\n",
       "\" style=\"display:inline;vertical-align:middle;\" /></a>, <a class=\"ProveItLink\" href=\"../__pv_it/demonstrations/31febd52234b043aa6524a8d3a32fcca3e2bead20/expr.ipynb\"><img src=\"data:image/png;base64,iVBORw0KGgoAAAANSUhEUgAAADEAAAAUCAMAAAATIyWrAAAAPFBMVEX///8AAAAAAAAAAAAAAAAA\n",
       "AAAAAAAAAAAAAAAAAAAAAAAAAAAAAAAAAAAAAAAAAAAAAAAAAAAAAAAAAAAo1xBWAAAAE3RSTlMA\n",
       "Ms3vmVREEIndIqt2u2bn9enzePXnUgAAAAlwSFlzAAAOxAAADsQBlSsOGwAAALZJREFUKM+Vk9kS\n",
       "wyAIRRUX3NPW///XxiTTYpgwIw8+yIXLkVEpKSw+5zQYyy+r2K87dlW1VOA7m0Bn0SJEbpHECmAY\n",
       "/tki5VA0x4DEVKmcvcyeqn8MG4/YXuP8+RAVmjZkIFtcqgPW9nHGcKeYuajKjDVh9zIFUWEfNK2T\n",
       "dmP+9+ekuTioCo9HyqDc1BTmfU6qule7aNU0t7tvh6owl6BTLlqweFBRi6AWA3CxoC1bxFULJX6k\n",
       "Lzl9BivjC10/AAAAAElFTkSuQmCC\n",
       "\" style=\"display:inline;vertical-align:middle;\" /></a> <a class=\"ProveItLink\" href=\"../__pv_it/demonstrations/f828ec17b61446b2b5667c4111733303834a59d80/proof.ipynb\" style=\"text-decoration: none\">&nbsp;&#x22A2;&nbsp;&nbsp;</a><a class=\"ProveItLink\" href=\"../__pv_it/demonstrations/8943e6dd5fdd148f6a38b9bf98e108a2624bb11a0/expr.ipynb\"><img src=\"data:image/png;base64,iVBORw0KGgoAAAANSUhEUgAAAMkAAAAVBAMAAAAeFNdiAAAAMFBMVEX///8AAAAAAAAAAAAAAAAA\n",
       "AAAAAAAAAAAAAAAAAAAAAAAAAAAAAAAAAAAAAAAAAAAv3aB7AAAAD3RSTlMAEER2zVSJ3Zki72ar\n",
       "MruaaVGaAAAACXBIWXMAAA7EAAAOxAGVKw4bAAACkElEQVRIx41VPWgUQRR+a3J7e8n9DNiIBDda\n",
       "KNjcSkLwh8hxIIhYXCpJ5eGJh6KgjadFYAvBQjAH4g9yoK0Icn0KxSRXyhY2gkXEQhDBxOQqG9/M\n",
       "m92Z3dldfMXsmzfve+/NzPdmAcA6AlnytJ9izPFPkdIyfecPZ7pUPjHTmOOfJl+/8bGwo9f583bM\n",
       "pfrBQMX8DQAVd8HXZr/4YMfcJv2Yv23GSJgSAJJaS5t0TVRs/X+yJAAkdZafpc7SQ57t9XoraVnq\n",
       "KTdHgXOydNML/3w9ay/dtBs/n5GlcyYQpotzm5KBo1NeFNK6n0g86DyR0wgQhSiNFseSGp2TTGZx\n",
       "Gjg8bzlbwr7HXOqR4/0qkmnitZiUZ1UW7r/vDfymk1KAMIREcjkWVNoAp7n6cojDXZjyJE1Jsd6C\n",
       "g0WXqKpJ7QC4/8EhPIx4TYAoBEc2aFN/YQLLe4X8GDR5fTuq0FpbKNtQ5MrMOdFZKonwX+VBE4Ao\n",
       "hERis+3OXeFpN1pQeYxbn9qSLrheF9REi8uP6ao4q4HWcdz/HVh/TABJiESSU0vbTdnerqfYvyoO\n",
       "HC3vVaMX48+BtQvT2yaARCL5GpkuM8mZGp71rMUXAjxWrrgt2Cj0wabbd4YxjlljKDeWgemAKAQh\n",
       "Ldon4D5vhMxEdtiBi3dWHlZ94ErVK9xzVHM040z+Dpd839oDDRCFICTXphtwoK/3y7W1E1C8gzc1\n",
       "egSkrN8aLKoshz4yPcvMwpf1AHpMA6gQAilMC2ue2ftLhqIWj/4wX5gCy0EuZb0wbUPJfy1tyEG2\n",
       "41lke+NWvaQCYX/pEvnDfshGajEeiA4dh3BIKqLJjV9s6A8eZCOVhhzk8mIz82/6LG0pxz/tv38T\n",
       "yfwPLwGrRyNnK+EAAAAASUVORK5CYII=\n",
       "\" style=\"display:inline;vertical-align:middle;\" /></a></span>"
      ],
      "text/plain": [
       "{d != c, d != b, d != a} |- {c, b, a} proper_subset {a, b, c, d, e}"
      ]
     },
     "metadata": {},
     "output_type": "display_data"
    }
   ],
   "source": [
    "set_abcde.deduce_enum_proper_subset(subset=set_cba,\n",
    "        assumptions=[NotEquals(d, a), NotEquals(d, b), NotEquals(d, c)])"
   ]
  },
  {
   "cell_type": "markdown",
   "metadata": {},
   "source": [
    "Alternatively we could have supplied the equivalent assumption that  $d\\notin \\{c, b, a\\}$:"
   ]
  },
  {
   "cell_type": "code",
   "execution_count": 57,
   "metadata": {},
   "outputs": [
    {
     "data": {
      "text/html": [
       "<span style=\"font-size:20px;\"><a class=\"ProveItLink\" href=\"../__pv_it/demonstrations/160c0348c63aeb9cefbbf19396cf3772d90359850/expr.ipynb\"><img src=\"data:image/png;base64,iVBORw0KGgoAAAANSUhEUgAAAGYAAAAVCAMAAACDt2s/AAAAP1BMVEX///8AAAAAAAAAAAAAAAAA\n",
       "AAAAAAAAAAAAAAAAAAAAAAAAAAAAAAAAAAAAAAAAAAAAAAAAAAAAAAAAAAAAAADFBd4eAAAAFHRS\n",
       "TlMAMs3vmVREEIndIqt2u2bp8+P3nSoBZCQAAAAJcEhZcwAADsQAAA7EAZUrDhsAAAGsSURBVEjH\n",
       "lVbZksMgDOMKNmDS3S7//60LgZQrV/PQGYwt2SAxZez0s8MatGbffnaxdykCuiUJDV/TMO58W8WF\n",
       "VGNCt1zCCQl4aa6IfI8Tln5b9UeE51hCXdH0hXrs1rCnNGODV4Xdirx5/RjxjEYHeE7TTK4FAXP8\n",
       "6TR4eTV12zokXie3SWIgTsGQaG17EI7I9eeWEC31hVpGbfs6uUhSX2mgUYXXmoiofKO0ENuC0Pqj\n",
       "QySZ0+TaoCSaA9Mwu2UlZWD8kTQqvY0UxDKFzeekwqc6+0UaY37f8cc3hyCKvNV037nBgE2kRwQn\n",
       "IpH02+S62i0d6KBRroqZpR+veIPTragHREwtQkjjrqE3jDkxc86eXdMOOSDmQ4UtzQn2eeSImFZn\n",
       "ugz5ilJ/Ow3fbwN2mg4RswR85F6MYhVZLKNpKk3WGPIksLzhIoNXWXLsALEUgiPk1lFFBveeH+Nd\n",
       "/ojrSmnXGCjZqPKINdIinrt3/UMflXbz2CxwH7mkEfAkG9l95IrG+oNgMXNjwklzc4T1xh/4jx52\n",
       "Oz73M+YhC+zPx/S54xmVW77/L4C56B/WIg6GrHWMIwAAAABJRU5ErkJggg==\n",
       "\" style=\"display:inline;vertical-align:middle;\" /></a> <a class=\"ProveItLink\" href=\"../__pv_it/demonstrations/f6a3221768509aab37cba372bf5db078658a03c90/proof.ipynb\" style=\"text-decoration: none\">&nbsp;&#x22A2;&nbsp;&nbsp;</a><a class=\"ProveItLink\" href=\"../__pv_it/demonstrations/8943e6dd5fdd148f6a38b9bf98e108a2624bb11a0/expr.ipynb\"><img src=\"data:image/png;base64,iVBORw0KGgoAAAANSUhEUgAAAMkAAAAVBAMAAAAeFNdiAAAAMFBMVEX///8AAAAAAAAAAAAAAAAA\n",
       "AAAAAAAAAAAAAAAAAAAAAAAAAAAAAAAAAAAAAAAAAAAv3aB7AAAAD3RSTlMAEER2zVSJ3Zki72ar\n",
       "MruaaVGaAAAACXBIWXMAAA7EAAAOxAGVKw4bAAACkElEQVRIx41VPWgUQRR+a3J7e8n9DNiIBDda\n",
       "KNjcSkLwh8hxIIhYXCpJ5eGJh6KgjadFYAvBQjAH4g9yoK0Icn0KxSRXyhY2gkXEQhDBxOQqG9/M\n",
       "m92Z3dldfMXsmzfve+/NzPdmAcA6AlnytJ9izPFPkdIyfecPZ7pUPjHTmOOfJl+/8bGwo9f583bM\n",
       "pfrBQMX8DQAVd8HXZr/4YMfcJv2Yv23GSJgSAJJaS5t0TVRs/X+yJAAkdZafpc7SQ57t9XoraVnq\n",
       "KTdHgXOydNML/3w9ay/dtBs/n5GlcyYQpotzm5KBo1NeFNK6n0g86DyR0wgQhSiNFseSGp2TTGZx\n",
       "Gjg8bzlbwr7HXOqR4/0qkmnitZiUZ1UW7r/vDfymk1KAMIREcjkWVNoAp7n6cojDXZjyJE1Jsd6C\n",
       "g0WXqKpJ7QC4/8EhPIx4TYAoBEc2aFN/YQLLe4X8GDR5fTuq0FpbKNtQ5MrMOdFZKonwX+VBE4Ao\n",
       "hERis+3OXeFpN1pQeYxbn9qSLrheF9REi8uP6ao4q4HWcdz/HVh/TABJiESSU0vbTdnerqfYvyoO\n",
       "HC3vVaMX48+BtQvT2yaARCL5GpkuM8mZGp71rMUXAjxWrrgt2Cj0wabbd4YxjlljKDeWgemAKAQh\n",
       "Ldon4D5vhMxEdtiBi3dWHlZ94ErVK9xzVHM040z+Dpd839oDDRCFICTXphtwoK/3y7W1E1C8gzc1\n",
       "egSkrN8aLKoshz4yPcvMwpf1AHpMA6gQAilMC2ue2ftLhqIWj/4wX5gCy0EuZb0wbUPJfy1tyEG2\n",
       "41lke+NWvaQCYX/pEvnDfshGajEeiA4dh3BIKqLJjV9s6A8eZCOVhhzk8mIz82/6LG0pxz/tv38T\n",
       "yfwPLwGrRyNnK+EAAAAASUVORK5CYII=\n",
       "\" style=\"display:inline;vertical-align:middle;\" /></a></span>"
      ],
      "text/plain": [
       "{d not-in {c, b, a}} |- {c, b, a} proper_subset {a, b, c, d, e}"
      ]
     },
     "metadata": {},
     "output_type": "display_data"
    }
   ],
   "source": [
    "set_abcde.deduce_enum_proper_subset(subset=set_cba,\n",
    "        assumptions=[NotInSet(d, Set(c, b, a))])"
   ]
  },
  {
   "cell_type": "markdown",
   "metadata": {},
   "source": [
    "<div style=\"width: 90%; border: 5px solid green; padding: 10px; margin: 0px;\"><a id='demo06'></a><font size=4><b>6.</b> Deducing that $\\{1, a, 1\\}\\subset\\{1, a, 1, b, 2, a\\}$ when $a=1$.</font></div>"
   ]
  },
  {
   "cell_type": "markdown",
   "metadata": {},
   "source": [
    "Variables and multiplicities can combine to produce some tricky cases when trying to establish subset relationships between enumerated Sets. Notice that when considering the possibility that $\\{1, a, 1\\}\\subset\\{1, a, 1, b, 2, a\\}$, if it turns out that $a=b=2$, then the proper subset relation does not hold. Prove-It will not deduce the proper subset relationship without more information. Using the enumerated <span style=\"font-family:courier;\">Set.deduce_enum_proper_subset()</span> method, we get an error:"
   ]
  },
  {
   "cell_type": "code",
   "execution_count": 58,
   "metadata": {},
   "outputs": [
    {
     "name": "stdout",
     "output_type": "stream",
     "text": [
      "set_1a1 =\n"
     ]
    },
    {
     "data": {
      "text/html": [
       "<a class=\"ProveItLink\" href=\"../__pv_it/demonstrations/82a3fc930b2a16a512507303df48c49cfd03259f0/expr.ipynb\"><img src=\"data:image/png;base64,iVBORw0KGgoAAAANSUhEUgAAAEQAAAAVBAMAAAAN71XTAAAAMFBMVEX///8AAAAAAAAAAAAAAAAA\n",
       "AAAAAAAAAAAAAAAAAAAAAAAAAAAAAAAAAAAAAAAAAAAv3aB7AAAAD3RSTlMAEER2zVSJ3Zki72ar\n",
       "MruaaVGaAAAACXBIWXMAAA7EAAAOxAGVKw4bAAAA9ElEQVQoz2NgYGBUYsAJpk4AUyaKuJXwnhMA\n",
       "kqwfQezrApjShUCC7wCQYCsA2nXCH0OJTMtHqCyEYLDHNIWZtkrmJE/GUMLhgKyEaSXDewEkJcwL\n",
       "gMSsDchKpDYwtCObwvkVaLATA7KSfgaGMmQlDDKuDLx9AshK1jEwfkJRkqIADT+YEsbPDNwfkJWw\n",
       "fkTxERAxfmXgcYhkEED4aAFcSf4EBsYvQPoxQ3hDA5jFwPYTJVzOrPfZwFAO1CxjdvPwBTCL59SX\n",
       "0yhBBwKsApgsNCVsDFhYBbDwAwNhBkwWOOxB4QcBBgyYLClw2M84ijthTgPKAQBdw0XUAsGxywAA\n",
       "AABJRU5ErkJggg==\n",
       "\" style=\"display:inline;vertical-align:middle;\" /></a>"
      ],
      "text/plain": [
       "{1, a, 1}"
      ]
     },
     "metadata": {},
     "output_type": "display_data"
    },
    {
     "name": "stdout",
     "output_type": "stream",
     "text": [
      "set_1a1b2a =\n"
     ]
    },
    {
     "data": {
      "text/html": [
       "<a class=\"ProveItLink\" href=\"../__pv_it/demonstrations/dd4f40b5afb6a3f12b201be279c89104df2f74b80/expr.ipynb\"><img src=\"data:image/png;base64,iVBORw0KGgoAAAANSUhEUgAAAH8AAAAVBAMAAACd/CwcAAAAMFBMVEX///8AAAAAAAAAAAAAAAAA\n",
       "AAAAAAAAAAAAAAAAAAAAAAAAAAAAAAAAAAAAAAAAAAAv3aB7AAAAD3RSTlMAEER2zVSJ3Zki72ar\n",
       "MruaaVGaAAAACXBIWXMAAA7EAAAOxAGVKw4bAAABs0lEQVQ4y2NgYGBUYiAPcEZCaBNFMg1guPMQ\n",
       "RLJ+BJHXBTCkeQuhDLnlMCs7/C6gKHkDItgKgL444Y9hgEzLRxjTA0rPY2D7hKImHWYAA4M9pguY\n",
       "4QZ8hdInGRhWkWMAE4yxXoDh/AQyDICoAILjDAznLxAyYE7yZHQDWA7bBMC01KMoAxvA4YBsANNK\n",
       "hvcCaAbIOzL+hMXMZxRlViD2rA3IBkhtYGhHd0G8AMNiKJP9AIqy+UCXzXFiQDagn4GhDN2AFgaG\n",
       "b1BmHwOKMsYjAQy8fQLIBqxjYPyEbkAZAxM0IrmhDoApYwPZzncAyQDGzwzcH9AN+MrAAWWGMXBO\n",
       "QFYWL4ASC0DE+JWBxyGSQQBmACOI8RfkZZAQbwIDswBICKqMIQsRjfkTGBi/AOnHDOENDWAWAxsw\n",
       "6OVBUXSa4QVEcnpHRztECKwMOR2cWe+zgaEcaIuM2c3DF8AsnlNfTjOwgzKUTAYwokBC9f//f4EK\n",
       "gZUhJyRwvhTAZAXiEcIwgI0Bk5WARwhqAPMCGFeYAYPFaIBHCJxCgKUELLMyIGTgLGZ8QgyMq8HU\n",
       "jKPklok5wJQMAC8Bfe6a/9VcAAAAAElFTkSuQmCC\n",
       "\" style=\"display:inline;vertical-align:middle;\" /></a>"
      ],
      "text/plain": [
       "{1, a, 1, b, 2, a}"
      ]
     },
     "metadata": {},
     "output_type": "display_data"
    },
    {
     "name": "stdout",
     "output_type": "stream",
     "text": [
      "Proof Failure (ValueError): Failed to prove that the supposed Self superset {1, a, 1, b, 2, a} has any elements not already contained in the supposed proper subset {1, a}. Notice that this might be because the sets have unassigned variables\n"
     ]
    }
   ],
   "source": [
    "set_1a1 = Set(one, a, one)\n",
    "set_1a1b2a = Set(one, a, one, b, two, a)\n",
    "print(\"set_1a1 =\")\n",
    "display(set_1a1)\n",
    "print(\"set_1a1b2a =\")\n",
    "display(set_1a1b2a)\n",
    "try:\n",
    "    set_1a1b2a.deduce_enum_proper_subset(subset=set_1a1)\n",
    "    assert False, \"Should not get to this point.\"\n",
    "except ValueError as the_error:\n",
    "    print(\"Proof Failure (ValueError): {}\".format(the_error))"
   ]
  },
  {
   "cell_type": "markdown",
   "metadata": {},
   "source": [
    "If we provide a little more information, however, specifying how to interpret the variable 'a', Prove-It is able to proceed (in part because now it can be proven that 2 is in the superset but not in the subset):"
   ]
  },
  {
   "cell_type": "code",
   "execution_count": 59,
   "metadata": {},
   "outputs": [
    {
     "data": {
      "text/html": [
       "<span style=\"font-size:20px;\"><a class=\"ProveItLink\" href=\"../__pv_it/demonstrations/27c2109b4bcc6da83e759bd610d6c0877c3a03360/expr.ipynb\"><img src=\"data:image/png;base64,iVBORw0KGgoAAAANSUhEUgAAADAAAAAOBAMAAACbXIJpAAAAMFBMVEX///8AAAAAAAAAAAAAAAAA\n",
       "AAAAAAAAAAAAAAAAAAAAAAAAAAAAAAAAAAAAAAAAAAAv3aB7AAAAD3RSTlMAIquJdkTvuxBmmd1U\n",
       "zTKBpmoTAAAACXBIWXMAAA7EAAAOxAGVKw4bAAAAaElEQVQY02NgwAb4dmAVZmha+wO7BAMLeRKM\n",
       "yo4OWCXCBNjBGlfvBoFNcAmOTAauDdh0cH1g4DbAJsFWwNAfgE2i34FhPgM2O/oPMOjyCGDRwe7A\n",
       "s4sL3Sjmj0BXqdgJ+aGJM6n91QQAV4wjtpQsiA4AAAAASUVORK5CYII=\n",
       "\" style=\"display:inline;vertical-align:middle;\" /></a> <a class=\"ProveItLink\" href=\"../__pv_it/demonstrations/e9c9dc91ed18a2b9d74efecaf5b9ceeed2e457a30/proof.ipynb\" style=\"text-decoration: none\">&nbsp;&#x22A2;&nbsp;&nbsp;</a><a class=\"ProveItLink\" href=\"../__pv_it/demonstrations/0a266157e825f1a635b092019d7617546dda1e7d0/expr.ipynb\"><img src=\"data:image/png;base64,iVBORw0KGgoAAAANSUhEUgAAAOEAAAAVBAMAAABCnpRGAAAAMFBMVEX///8AAAAAAAAAAAAAAAAA\n",
       "AAAAAAAAAAAAAAAAAAAAAAAAAAAAAAAAAAAAAAAAAAAv3aB7AAAAD3RSTlMAEER2zVSJ3Zki72ar\n",
       "MruaaVGaAAAACXBIWXMAAA7EAAAOxAGVKw4bAAACrElEQVRIx52WzWsTQRjGn8k2m6xtwmIPQgkm\n",
       "9egpBxEsijGgeBBNL0pPBhQU8SNeGm/todCAUhfEDyRYwYNoweY/MJj4WbG5qeDB4kEPBZs2ETxI\n",
       "3dmdnZ2d2WjJHLKT9+P57cy887IAyC70HLetMOv2DPoaxoT73DPaOybxwVSNWt7sj4gvK/Q32qbK\n",
       "V0No1Jasq47TFPgxhOrZdj72FlU53gpErNIfvQSkZtpKumujXnmcs0/izQmFKNiOsucD6OtyKtPU\n",
       "2iGb9w8icDBkjdzWZc+3wNO+idr3crnc2hox4qktmli2+iQmjlhbXyN/zdfAcut/xOqZW2HEHVav\n",
       "XTVe7ctKxIHG/oIXPBXQdVLjOZEYeYKfpkDUHrp/XggvOhMg7raSbYmYPkR+ewW/EdAdo/P7NZE4\n",
       "UsOsuEaDFUFOuMcLojpZQLwkEe3r84iZYvWA7ry99moeIvEmMCkSkTrsvKp/LY1mRlSPryFWlIj2\n",
       "JvxiprmgLmkWkJgzReIzkPUA8ayjbwiN4NOKqL7tK9IZiTiJCNuawXpQV897XcUjkg0MronEKHOU\n",
       "5MbBzyyL53KtdhFnaSdhWKKu0654rRLq6WIoNwHTr1VWOdfDOgANSxfQjFoEou0PPTY6SRShmYIu\n",
       "LvDbodu1labV8Q2npqdJB8zGb8dARiJeseCEJbPRa3E3l9uW8MOd3K1UZgVd4T4OvessIUY7d2rv\n",
       "50YLZZPZOJGsjgaI7xeP1Zww0rhUPeDmclvqvF3/dDK1udkRdYUO4IxxrhnlDYV7I5eDXS4Y5udy\n",
       "m+8cD+s5zihyhw6FKJ9jMMzP1VVnUUr1ugpIljuG+SyeU4ljapifO6xMBF23XXldBZrv8GNGaipx\n",
       "vqCEaWpqVvXRBkXHvZe9PxPuhPmMG4U+v3Mu2ol/AXalyxWiZ+dUAAAAAElFTkSuQmCC\n",
       "\" style=\"display:inline;vertical-align:middle;\" /></a></span>"
      ],
      "text/plain": [
       "{a = 1} |- {1, a, 1} proper_subset {1, a, 1, b, 2, a}"
      ]
     },
     "metadata": {},
     "output_type": "display_data"
    }
   ],
   "source": [
    "set_1a1b2a.deduce_enum_proper_subset(subset=set_1a1, assumptions=[Equals(a, one)])"
   ]
  },
  {
   "cell_type": "markdown",
   "metadata": {},
   "source": [
    "## Miscellaneous Testing\n",
    "The material below was developed to test various enumerated Set and Set-related methods. Some of this material could be integrated into the `_demonstrations_` page eventually and/or deleted as development continues."
   ]
  },
  {
   "cell_type": "markdown",
   "metadata": {},
   "source": [
    "### Some Example `Sets` For Testing"
   ]
  },
  {
   "cell_type": "code",
   "execution_count": 60,
   "metadata": {},
   "outputs": [
    {
     "data": {
      "text/html": [
       "<strong id=\"set_12345\">set_12345:</strong> <a class=\"ProveItLink\" href=\"../__pv_it/demonstrations/a3bd2337b84b000d28ed704ffac7b664a70fdc2f0/expr.ipynb\"><img src=\"data:image/png;base64,iVBORw0KGgoAAAANSUhEUgAAAGsAAAAVBAMAAACzuQ2OAAAAMFBMVEX///8AAAAAAAAAAAAAAAAA\n",
       "AAAAAAAAAAAAAAAAAAAAAAAAAAAAAAAAAAAAAAAAAAAv3aB7AAAAD3RSTlMAEER2zVSJ3Zki72ar\n",
       "MruaaVGaAAAACXBIWXMAAA7EAAAOxAGVKw4bAAABuklEQVQ4y5WUPUjDQBTH/zGkH/aDgIuDYHUR\n",
       "xMFBHLpYxFGkLoKTcVEQhzoJIlShYAcJBQeLinVWod1dCn6hrbTgIqhgd0GrFVHRene5Sxsprb3h\n",
       "7pdrfrnX914CQOpGM8M5aawDXf9W8pBiuCtQVIpk8iyIZ0XH8pxmdJ+4/YavyZFFFXikaAsBHZEi\n",
       "/2EXtheD2qG8CW2Zr0vv02SeFRpkoV0A+wYNBaUS35SFlmZzDS2pIhdj1OuD0G5HG2nnQI7/OShf\n",
       "HLSGGhlhAT0pHmNMaJnBK6E5AlbN88rhOsuP3YbQCkiQ7PopbqWsmj0tSGRSMzXAS2JLBIGdYVg1\n",
       "vRIuyQ8ZrliV5vggbXUShEdXLZpLHHYPPAUpbEBo3gAc3yQb9CRv2qJNwGkUoKxyrS+b/TxjW60h\n",
       "uJ+BKbU6kxJLiAZZZXRIg5SMZxFmtxLzAZgzC2AjIXfSlG5Go2sGHdG6MQJ+wDrGuQK/WlU392Up\n",
       "Aztt53C5XDKoJUpamRH08jFoDyO+vmopNxvjqEOKau790TTUIRusmrzHr6R+1KG2ihZhr6N4q2Rz\n",
       "vxaZPqQDtsRPm/uWzJNq/gLZnXhEcFX4LQAAAABJRU5ErkJggg==\n",
       "\" style=\"display:inline;vertical-align:middle;\" /></a><br>"
      ],
      "text/plain": [
       "<IPython.core.display.HTML object>"
      ]
     },
     "metadata": {},
     "output_type": "display_data"
    },
    {
     "data": {
      "text/html": [
       "<strong id=\"set_abcde\">set_abcde:</strong> <a class=\"ProveItLink\" href=\"../__pv_it/demonstrations/1712de4aa129fdb6595ad974da2a3bf6dda8fef90/expr.ipynb\"><img src=\"data:image/png;base64,iVBORw0KGgoAAAANSUhEUgAAAGkAAAAVBAMAAAC3TN2zAAAAMFBMVEX///8AAAAAAAAAAAAAAAAA\n",
       "AAAAAAAAAAAAAAAAAAAAAAAAAAAAAAAAAAAAAAAAAAAv3aB7AAAAD3RSTlMAEER2zVSJ3Zki72ar\n",
       "MruaaVGaAAAACXBIWXMAAA7EAAAOxAGVKw4bAAABi0lEQVQ4y2NgYGBUYiABcEZCaBNFUnQx3HkI\n",
       "Ilk/IosxvirAVMjr1YDEewMi2FCVsTRgMZ8/AImTjkUXigIY0BcgoAtFAYpCfLrSsYWAB3ZdnMcs\n",
       "DSBiPsZHobLJ1hcgYX3M9is0qJItBKC6OByAhNYEPkhQMn4RkJ8AZk0P4HgAZsDlGNQv8CYwMFiB\n",
       "mLM2ANWuZuCAOBQYD1wQW8ugDJCcA8TS3wzMCgwM84HhNccJZN8HBvYEBqjN/GAWBywaEXJ8n42T\n",
       "QMYcCWDg7QM6lesBg7wCWAaoQB8c9lwPoLoQcvwHwBQbyB4+IFvegGE/PLr6wWEvDw0dZDmIULwA\n",
       "NAzlAxiOsE5gBMlcAPoDzAB6VwHEQMiBHAp0RxYs5PkMWCs4GOSBnubZwNcAZgADkO0CiIGQ43Zg\n",
       "kJiAFF+Mh3Pn2DKwFwJZx7oZwAyGtN2GEBG4HIPZbgMsaSMQNwOJha4rATcDiQXWxbwAnrcMcDKQ\n",
       "WAwt4Bj/CuMy42YgsYBhDAIzjpJUbuQAAx8Afpdbo4F0xkoAAAAASUVORK5CYII=\n",
       "\" style=\"display:inline;vertical-align:middle;\" /></a><br>"
      ],
      "text/plain": [
       "<IPython.core.display.HTML object>"
      ]
     },
     "metadata": {},
     "output_type": "display_data"
    },
    {
     "data": {
      "text/html": [
       "<strong id=\"set_1a2b3c\">set_1a2b3c:</strong> <a class=\"ProveItLink\" href=\"../__pv_it/demonstrations/e0ec7a9fd9a9c8f30cbd87ec64277fba31ed52f40/expr.ipynb\"><img src=\"data:image/png;base64,iVBORw0KGgoAAAANSUhEUgAAAH0AAAAVBAMAAACZCfwhAAAAMFBMVEX///8AAAAAAAAAAAAAAAAA\n",
       "AAAAAAAAAAAAAAAAAAAAAAAAAAAAAAAAAAAAAAAAAAAv3aB7AAAAD3RSTlMAEER2zVSJ3Zki72ar\n",
       "MruaaVGaAAAACXBIWXMAAA7EAAAOxAGVKw4bAAAB30lEQVQ4y51USyhEURj+zh1zx8Tolo00eW2U\n",
       "lSILKY+VhRgbsjKlkEdYYMlCzazGlAVJKAt5ZKYspRRCFGUhxUI2FspjUJLGeY7DraG53c7/3e+c\n",
       "7/zn/t9/LwBShJQud5uI5YWp6XF1w0bnExsvLNv2wcYzgfKWFdUZKtCX3LPBHKSvcNhk08/DfJaw\n",
       "XsYcOF/1JV1KD1Tb9EfAqoRKVO0jL//WRyychjkyniRVUoD/6w+AU1EAsYJfzo+/9HMdU4n5MRHS\n",
       "dqt8kimOSmCWbUt9eo2uN1bwoLbyxETMryXvAp2fSEvcwwgBlQzORnV9bhQBld61I2K7hSV1fllK\n",
       "l59RC/RYc3XQ9ZPAiNKHZJwA3rSq8mU8kD0fPCFL12+AKNczZHq6oSHSXgMPPrmMF4HlztrR9CSG\n",
       "jEcpa4E7LO1PFw7GLaknMfViev3pTV6RWdPGEDx+OCzC5j5ZVRi1zs7PKWqjAfR8+zcQBu+tW7SO\n",
       "j3M0HQwGkM/MOcadmNxi/nOKlqZf9/8k0hDFKM3hrbjcPeNoLB5/gWuITnq7qUWMMoL0++GU2btp\n",
       "/egfbo5lR81JqN96E3bkT0IJvWNRPWbDhkhpEoo1Bm3FxCf9PZFAjmQUWeNhZj/F/18f7YUvQOp7\n",
       "P9yDIcIAAAAASUVORK5CYII=\n",
       "\" style=\"display:inline;vertical-align:middle;\" /></a><br>"
      ],
      "text/plain": [
       "<IPython.core.display.HTML object>"
      ]
     },
     "metadata": {},
     "output_type": "display_data"
    },
    {
     "data": {
      "text/html": [
       "<strong id=\"set_a2c13b\">set_a2c13b:</strong> <a class=\"ProveItLink\" href=\"../__pv_it/demonstrations/3729ea27388ddb08d0f6d720b09f8df3ef3858520/expr.ipynb\"><img src=\"data:image/png;base64,iVBORw0KGgoAAAANSUhEUgAAAH0AAAAVBAMAAACZCfwhAAAAMFBMVEX///8AAAAAAAAAAAAAAAAA\n",
       "AAAAAAAAAAAAAAAAAAAAAAAAAAAAAAAAAAAAAAAAAAAv3aB7AAAAD3RSTlMAEER2zVSJ3Zki72ar\n",
       "MruaaVGaAAAACXBIWXMAAA7EAAAOxAGVKw4bAAAB90lEQVQ4y51UPUhbURg9L5rkJcTwwEWKNNGl\n",
       "0CmlXVqUWCcHoc/RyUxWbMV0qDp0dMiUZlQRFBwcLDXgqNKCUQQzCIW6VIybg6KhjSAi6ffde997\n",
       "Sa5Z8oZ7D989532/9wIwetHSFxqV+6ue1vT4c86rv1xnXJi/0ognlvI4no1L9HSd10teAum6oEqY\n",
       "jterjcN3St8Ff0UZh3h5r+sjOYRXG/0nlT5pG/+UqdJEHy4jctdM/zwOpfeVm/lPI/LQTE/Fupe7\n",
       "FHn60MHrhMMJ3ijOy11N/ywv9/a9PlvpzQGOLBd123Am/xT6jGyj/lfxWILYW4OyfMNwiX5pbMB0\n",
       "0/iiwkhhTY9f1X/M4sMVimF5kGO4Ybr8zJLcv1qP5I9NCeeBW3JbsNGRJUu4hJjT9R21f9frdwpc\n",
       "2wLNwEeRBNh39Celk8APJ8IUFsXU/NX1VcvRV2CWRRay/jEbBX/O4JPfwAuwnTrlg+XqGX3j+AXr\n",
       "AU+obJNO/6IJ/5yJGHUiNJfJpMWUUfGn1LhN5yDQNvefWTjCRW3/jb2p5X4EP1HVq9XqAGbJW+DD\n",
       "liUAipvDeYF8Gbo/zEL3RP6R+Rtx22Q1ghrksjS900IENFCDUvX6Nve6Ge4Id2rAQx6Lp4Aq5lxp\n",
       "tLkHCQ14yGPR1IoXZ7/F9+8jzcJ/cRd3nW0G+iYAAAAASUVORK5CYII=\n",
       "\" style=\"display:inline;vertical-align:middle;\" /></a><br>"
      ],
      "text/plain": [
       "<IPython.core.display.HTML object>"
      ]
     },
     "metadata": {},
     "output_type": "display_data"
    },
    {
     "data": {
      "text/html": [
       "<strong id=\"set_3c1ab2\">set_3c1ab2:</strong> <a class=\"ProveItLink\" href=\"../__pv_it/demonstrations/cdda0adc90bdf19bd8669adf3e9fd828268d578d0/expr.ipynb\"><img src=\"data:image/png;base64,iVBORw0KGgoAAAANSUhEUgAAAHwAAAAVBAMAAAB2y5cfAAAAMFBMVEX///8AAAAAAAAAAAAAAAAA\n",
       "AAAAAAAAAAAAAAAAAAAAAAAAAAAAAAAAAAAAAAAAAAAv3aB7AAAAD3RSTlMAEER2zVSJ3Zki72ar\n",
       "MruaaVGaAAAACXBIWXMAAA7EAAAOxAGVKw4bAAAB30lEQVQ4y52UPSxDURTH/++VV1VPX2KTxtdk\n",
       "bEJMhpJITMJCTG3CIBEJgxoMOkjaiSaiRESEQRhoYpZIRARBVyuLjWorEZE69+PRvusrvcO9/3fO\n",
       "+fWdd865BaC1oKy1nOBHe3N5uHlt0V6ZoS05dqd4pxSgYUcKT7wvDdQekzQmKf8oQv2lof75jPrC\n",
       "XnluwHgWJN9ceTQGHaGub/C8PM+BvSJc34LvH7humw4s3CS+cFqh1N+4DAXOgJt0Ma7P2iFtR058\n",
       "fWRJiIqTzs8KzUmyimVtdl7Jmk5jwYHru3i0uGrs0l7tvmQpYpPEmshaVt4dxrYDr08hJlTIsp1w\n",
       "U9M8VMn1bvFcLaIXLeXbF4GIUPPAizTyFP09MBcIMNOoFU3ZV0u3D+1ZqAh02TovmxiMNonZ8WUk\n",
       "rmUVnEzeJ7vtVdI4CE9CzCurX/UxS57l/Ual4oLjGsPzqAkOc9s7qwMTZhguC8amxL0p6ruWE980\n",
       "wQUMKjIfxXsMRaPcdokHcLESj8eKpg6tcboyM/TDxvihxUXNRe4SbnZt/B23J2lu84+lRNRcoZBD\n",
       "ydSxu2c5BQbwi9OBG4pAGL84Oclnh686RWgB/OwU8+qxbyECinB9XRfVydpAa/W0vD+rJHEfnVGC\n",
       "g3l9768AAAAASUVORK5CYII=\n",
       "\" style=\"display:inline;vertical-align:middle;\" /></a><br>"
      ],
      "text/plain": [
       "<IPython.core.display.HTML object>"
      ]
     },
     "metadata": {},
     "output_type": "display_data"
    },
    {
     "data": {
      "text/html": [
       "<strong id=\"power_set_of_ab\">power_set_of_ab:</strong> <a class=\"ProveItLink\" href=\"../__pv_it/demonstrations/55be749f9a090e370ea2a04ccb0ee0cd5301a5ab0/expr.ipynb\"><img src=\"data:image/png;base64,iVBORw0KGgoAAAANSUhEUgAAAL0AAAAVBAMAAADhtvKAAAAAMFBMVEX///8AAAAAAAAAAAAAAAAA\n",
       "AAAAAAAAAAAAAAAAAAAAAAAAAAAAAAAAAAAAAAAAAAAv3aB7AAAAD3RSTlMAEER2zVSJ3Zki72ar\n",
       "MruaaVGaAAAACXBIWXMAAA7EAAAOxAGVKw4bAAACRElEQVQ4y52UwWsTQRTG3xh3m9Q2GeytFLZ6\n",
       "9NIFRVAQQsBbD9uT9NSAQqAo1It6zEHwoNiAKCIBvUpB8h+00KRH6VHBg+JNClZt7857k5l5bzvk\n",
       "kHeYzPy+977dzb63AKAug4mLy7V1YGEpgKQmjX5e9yIwBMmu8tols1RaGr79YClEMQTFNIz5z/os\n",
       "DGFlW5n8wXUDwVHIsJSCUUxTv7bMpr4nIHtuJlNlimfo+MWGpVCitD/flbpIEHJnKv9GMdGfydP5\n",
       "r+iJ/kyezr8DE/3LphP8+3dfRfxXr47O+tcObuT2xGSqrDZxfYrLzVCD9NxH+K0FxTR1orMeVD4I\n",
       "CFd6ddtxXKbKdwO8/A5u3xe+BuniAJ5Jimmmc2dzqJ0KqHaguuUa28tY2W9hypAmUA2dFdFtgEeC\n",
       "Upp5skYbYOm2gMcw03YP7mWsnH+J7/sLjVra8gOI9BOov4JSmvFZMRe8t8zh7HfILOAyVbJRY4No\n",
       "qPoHF45L43lE/b2t+XwjzHLY9e3v5Y1Sq25Shh73jzqFuea6oJjWODR/NqT0ApWDWQHDpIdHLm/G\n",
       "+lOdOPoT7nS7guJ+blDvuqqsOYb1PHlSpSOX4/3/2D3V0vWv+4eC4l4dPPdVMw8d3H/Qv0VHLsf9\n",
       "Ex2b30SLCRzra3Is16Qc90+j34cUYv5t6d+O+LNRoyGGhUChRMMs26lXuYAqlzJVhlFTNMSQB0pF\n",
       "jIZZXhzQXUhY8fdE8rjy7Qj9XhS1+wX70hBFQVCTRr9vRhEYgmSq/A+QoLtebuKXsAAAAABJRU5E\n",
       "rkJggg==\n",
       "\" style=\"display:inline;vertical-align:middle;\" /></a><br>"
      ],
      "text/plain": [
       "<IPython.core.display.HTML object>"
      ]
     },
     "metadata": {},
     "output_type": "display_data"
    },
    {
     "data": {
      "text/html": [
       "<strong id=\"empty_set\">empty_set:</strong> <a class=\"ProveItLink\" href=\"../__pv_it/demonstrations/6794f0b7bd428dcbcca0fa94212149aae33c909a0/expr.ipynb\"><img src=\"data:image/png;base64,iVBORw0KGgoAAAANSUhEUgAAABMAAAAVBAMAAABWJ8jiAAAAMFBMVEX///8AAAAAAAAAAAAAAAAA\n",
       "AAAAAAAAAAAAAAAAAAAAAAAAAAAAAAAAAAAAAAAAAAAv3aB7AAAAD3RSTlMAEER2zVSJ3Zki72ar\n",
       "MruaaVGaAAAACXBIWXMAAA7EAAAOxAGVKw4bAAAAZklEQVQI12NgYGBUYuCMZAADE0UGhjsPQSzW\n",
       "jyDyDYhgKwCR6aQyORxApBWImLUBRM4PYGCY4wS2h/FIAANvnwBYB0iE7wCIGS8ANyGLVNuYF4DI\n",
       "FhDB+RVkw2qwRTOOMnDmAO0FAPofGPAWTmOXAAAAAElFTkSuQmCC\n",
       "\" style=\"display:inline;vertical-align:middle;\" /></a><br>"
      ],
      "text/plain": [
       "<IPython.core.display.HTML object>"
      ]
     },
     "metadata": {},
     "output_type": "display_data"
    }
   ],
   "source": [
    "# some standard enumerated sets\n",
    "from proveit import e\n",
    "set_12345, set_abcde, set_1a2b3c, set_a2c13b, set_3c1ab2, power_set_of_ab, empty_set = (\n",
    "    Set(one, two, three, four, five),\n",
    "    Set(a, b, c, d, e),\n",
    "    Set(one, a, two, b, three, c),\n",
    "    Set(a, two, c, one, three, b),\n",
    "    Set(three, c, one, a, b, two),\n",
    "    Set(Set(), Set(a), Set(b), Set(a,b)),\n",
    "    Set())"
   ]
  },
  {
   "cell_type": "code",
   "execution_count": 61,
   "metadata": {},
   "outputs": [
    {
     "data": {
      "text/html": [
       "<strong id=\"set_12131\">set_12131:</strong> <a class=\"ProveItLink\" href=\"../__pv_it/demonstrations/672e9eb85899f16e7874eb49a66d2c74831e0b780/expr.ipynb\"><img src=\"data:image/png;base64,iVBORw0KGgoAAAANSUhEUgAAAGsAAAAVBAMAAACzuQ2OAAAAMFBMVEX///8AAAAAAAAAAAAAAAAA\n",
       "AAAAAAAAAAAAAAAAAAAAAAAAAAAAAAAAAAAAAAAAAAAv3aB7AAAAD3RSTlMAEER2zVSJ3Zki72ar\n",
       "MruaaVGaAAAACXBIWXMAAA7EAAAOxAGVKw4bAAABdElEQVQ4y2NgYGBUYiAFcEZCaBNFkrQx3HkI\n",
       "Ilk/AgneQphZHX4XoEy42LSMRzAt1wWAxBsQi62AgUGm5SNUfB4D2ycICy7G2MAQHwBhnfAHaUuH\n",
       "aWNghmk7ycCwCsqEiTF/ZZB3gIrZ49C2XoDh/ARUbUyLGPgJaTvOwHD+Aqo2IIjfQEAbENQzoGtj\n",
       "qmbA0MbhgKqN9zO6Nl6bsyjarECsWRtQtbEfYMB0ZACytvlA3hwnNCV9DJjauD4ia2M8EsDA2yeA\n",
       "ooT7ALo23gsMfF+RtbGBbOI7gKItjIETLQL4P6JpixdADklGsNEJDMwCjHBtIBbXAZAjBRDasuAR\n",
       "wPaTAZIUpnd0tEMTBUyMewMw3hi/gLXlT0CON55TX04zsIOSbv3//18gLISYRgcwKZeD7Dmz3mcD\n",
       "cnSDQSADHharAFwMTVsCAx4WGwOqNuYFUB6jAQMeljBCWws4Y8IClxkujo0F18/AuBpMzThKWlmS\n",
       "A0xbANZXbZU2JsAHAAAAAElFTkSuQmCC\n",
       "\" style=\"display:inline;vertical-align:middle;\" /></a><br>"
      ],
      "text/plain": [
       "<IPython.core.display.HTML object>"
      ]
     },
     "metadata": {},
     "output_type": "display_data"
    },
    {
     "data": {
      "text/html": [
       "<strong id=\"set_1a1b2a\">set_1a1b2a:</strong> <a class=\"ProveItLink\" href=\"../__pv_it/demonstrations/dd4f40b5afb6a3f12b201be279c89104df2f74b80/expr.ipynb\"><img src=\"data:image/png;base64,iVBORw0KGgoAAAANSUhEUgAAAH8AAAAVBAMAAACd/CwcAAAAMFBMVEX///8AAAAAAAAAAAAAAAAA\n",
       "AAAAAAAAAAAAAAAAAAAAAAAAAAAAAAAAAAAAAAAAAAAv3aB7AAAAD3RSTlMAEER2zVSJ3Zki72ar\n",
       "MruaaVGaAAAACXBIWXMAAA7EAAAOxAGVKw4bAAABs0lEQVQ4y2NgYGBUYiAPcEZCaBNFMg1guPMQ\n",
       "RLJ+BJHXBTCkeQuhDLnlMCs7/C6gKHkDItgKgL444Y9hgEzLRxjTA0rPY2D7hKImHWYAA4M9pguY\n",
       "4QZ8hdInGRhWkWMAE4yxXoDh/AQyDICoAILjDAznLxAyYE7yZHQDWA7bBMC01KMoAxvA4YBsANNK\n",
       "hvcCaAbIOzL+hMXMZxRlViD2rA3IBkhtYGhHd0G8AMNiKJP9AIqy+UCXzXFiQDagn4GhDN2AFgaG\n",
       "b1BmHwOKMsYjAQy8fQLIBqxjYPyEbkAZAxM0IrmhDoApYwPZzncAyQDGzwzcH9AN+MrAAWWGMXBO\n",
       "QFYWL4ASC0DE+JWBxyGSQQBmACOI8RfkZZAQbwIDswBICKqMIQsRjfkTGBi/AOnHDOENDWAWAxsw\n",
       "6OVBUXSa4QVEcnpHRztECKwMOR2cWe+zgaEcaIuM2c3DF8AsnlNfTjOwgzKUTAYwokBC9f//f4EK\n",
       "gZUhJyRwvhTAZAXiEcIwgI0Bk5WARwhqAPMCGFeYAYPFaIBHCJxCgKUELLMyIGTgLGZ8QgyMq8HU\n",
       "jKPklok5wJQMAC8Bfe6a/9VcAAAAAElFTkSuQmCC\n",
       "\" style=\"display:inline;vertical-align:middle;\" /></a><br>"
      ],
      "text/plain": [
       "<IPython.core.display.HTML object>"
      ]
     },
     "metadata": {},
     "output_type": "display_data"
    }
   ],
   "source": [
    "# some non-standard enumerated sets pretending to be multi-sets (but not!)\n",
    "set_12131, set_1a1b2a = (\n",
    "    Set(one, two, one, three, one),\n",
    "    Set(one, a, one, b, two, a))"
   ]
  },
  {
   "cell_type": "markdown",
   "metadata": {},
   "source": [
    "### Testing the `permutation_move()` method\n",
    "\n",
    "The <span style=\"font-family=courier\">permutation_move()</span> method has the following format:<br/>\n",
    "    <div style=\"width: 50%; border: 1px solid green; padding: 5px; margin: 20px; background-color: gainsboro; font-family:courier\">permutation_move(self, init_idx=None, final_idx=None, assumptions=USE_DEFAULTS):</div>\n",
    "    and moves the element at index <font style=\"font-family:courier\">init_idx</font> to position <font style=\"font-family:courier\">final_idx</font> (a “pluck and insert” process)."
   ]
  },
  {
   "cell_type": "code",
   "execution_count": 62,
   "metadata": {},
   "outputs": [
    {
     "data": {
      "text/html": [
       "<span style=\"font-size:20px;\"> <a class=\"ProveItLink\" href=\"../__pv_it/demonstrations/b7957e80aefdc74e2351f269af5106005ff1dd030/proof.ipynb\" style=\"text-decoration: none\">&nbsp;&#x22A2;&nbsp;&nbsp;</a><a class=\"ProveItLink\" href=\"../__pv_it/demonstrations/23bfe4d5881da43853b884f60e7eb5a3a17f336a0/expr.ipynb\"><img src=\"data:image/png;base64,iVBORw0KGgoAAAANSUhEUgAAAPQAAAAVBAMAAACDGd7qAAAAMFBMVEX///8AAAAAAAAAAAAAAAAA\n",
       "AAAAAAAAAAAAAAAAAAAAAAAAAAAAAAAAAAAAAAAAAAAv3aB7AAAAD3RSTlMAEER2zVSJ3Zki72ar\n",
       "MruaaVGaAAAACXBIWXMAAA7EAAAOxAGVKw4bAAADFUlEQVRIx5WWTWgTQRTH/5tt02zbTRe8qBSs\n",
       "XhTxkIMoFqGlKF6KxovgqRFERQrWiwUVWqHQHCQGxFpUbPUiaDEBvYiXgl/VpjbgQUGFVgQvhVpN\n",
       "ET/j25l5s5vPNnvI/DOZ9/9lZt68WQDGJtTyWIfL9dZociUpmu0bVx2RhZHEh/kyv6zexAbWwX7t\n",
       "kKxfcjveOmpO8f1ZpY4l2vTwQdmm9vTTuIVSP2Fin0axyciJT3rMO9k05vbRuPAkyWAfLdfUAYW+\n",
       "ieA3qdaifpmjGiZle/bHEfo8Xop2TVqHllBkYgyiJ8pjziuv1BlHBsgPdCj0S+CuVB1RI8dROxVa\n",
       "NhXQMBmtTcxlbOhUnaZCN3sBheiUg1mZAlvbwGj7YW1obRK4jRZGv+9eAf0CmM3yBv5m47ra0H6T\n",
       "nrQSsZXQ9Ayw2MxRuxg9vWNmNWifSeAcr3eS0Q96syog1FmItr8r8SbDuZ5m9DzGKOvb5ZfhfveR\n",
       "OyhMfGg2sXfPqJ7rUOiwY1EOmuMkr6UL0ZzN0BkeRJ3uC9O/HYuWzFqY+NCeCWd4jNH0fKHpkPeN\n",
       "LhSiE55hSnY+8qFDP+nIPC1mSxMf2jNplJ1NSR/6EuVg617YCacA3cSUj8CiQFgRRoc7EfpLq9BV\n",
       "UqGEiYdmEzuLsFy6y2D0Z0LTTh5tU3XFQx+CJQ9X3lHoQCYzOxETM+hD81daQ6dkr4WJh2aTliVG\n",
       "b8tkfj0X6g6lvyp/Xoa7jnYMpmO4PRPughtq1SZhiE1H4xxwskqGiwBtQnG04GpWE5JAk7hPAeMa\n",
       "fSoJUbyuxuPDsgI9ds+1qkUtc0JZg2h3Kh+uIOWBCNAmTWk611wU/0nCKMxb/nOdSXWn4V4NA/l8\n",
       "Dg3uPRCI0/UhFEKLfyJCjV68UPlcN7/KTcsAz2RLnK6PfjHtRP6JUFZ8qrCGi8Oks/wgqqlKs64U\n",
       "4Pl6qggd1FGxqqoqukyA5xssSo5x/rpGv3JEqikMlaK1SbkA7etTovxZ+lbWY01UU8a9Mm9Ny1UC\n",
       "ImXUelFDR5/V9m7WGy3TW6PJCA3/D/tp8VdB8ipwAAAAAElFTkSuQmCC\n",
       "\" style=\"display:inline;vertical-align:middle;\" /></a></span>"
      ],
      "text/plain": [
       "|- {1, 2, 3, 4, 5} = {1, 2, 3, 4, 5}"
      ]
     },
     "metadata": {},
     "output_type": "display_data"
    }
   ],
   "source": [
    "# permuting an element in a Set of literals\n",
    "Set(one, two, three, four, five).permutation_move(0, 1)"
   ]
  },
  {
   "cell_type": "code",
   "execution_count": 63,
   "metadata": {},
   "outputs": [
    {
     "data": {
      "text/html": [
       "<span style=\"font-size:20px;\"> <a class=\"ProveItLink\" href=\"../__pv_it/demonstrations/f731ed4d3731e1402c2ecae2972692c4f24317df0/proof.ipynb\" style=\"text-decoration: none\">&nbsp;&#x22A2;&nbsp;&nbsp;</a><a class=\"ProveItLink\" href=\"../__pv_it/demonstrations/fe0e26ed5fa0a59667defc0d0f20d08c0d73ea6d0/expr.ipynb\"><img src=\"data:image/png;base64,iVBORw0KGgoAAAANSUhEUgAAAO8AAAAVBAMAAABcV6T1AAAAMFBMVEX///8AAAAAAAAAAAAAAAAA\n",
       "AAAAAAAAAAAAAAAAAAAAAAAAAAAAAAAAAAAAAAAAAAAv3aB7AAAAD3RSTlMAEER2zVSJ3Zki72ar\n",
       "MruaaVGaAAAACXBIWXMAAA7EAAAOxAGVKw4bAAACiklEQVRIx51WQWgTQRT9023STdtsFr2IFDd6\n",
       "Ebx0pVK0Wog5FfGwOZWeXAwYEYV6aT3uQfCg2IAHRQIKHkQKknsPFpLm4mWPCj20eBEp2NpWEBH8\n",
       "M7Ob7M7MLmzm9Obnv/f//PnzNwBAzkGGVVhSWU+Uh5C4dDZLYNjelW1a1cwukTuI2s68VzgWb3iR\n",
       "3Z7scCspbsAkP5ZjZiaRj9sWVPySE9k05N8biYcLmKOe7C8EPlbRp81hAwfMWObKwCMHKnoDhg3c\n",
       "UGSuDCycX1X/TIEXlA6DwK36C24a7VwLq1K/6vPu780H9Sf1y2Zi4ELvip3IvDmzJUnoFSzwB/jJ\n",
       "i2FdJ3+4y0tH32HgQtMI6n/eL7oAcwzrq2xtss3jmJvMJEem1RQlXrcBTrfhSf9hvONoBcbZCcg6\n",
       "y40e4C9oOCjeONJEWOduy0lMfLLcFJFoVXG/Rr3D3H/zE4Vdpu/DmMuQcThzm+p1hciFbjnqpmBi\n",
       "/JIrSBSfY40/AvkVZjvCr2V8J6AjsPhALPG65qviib/sRt0UTIw/7YgSxiaQQ5jYD59xkLAVdgqC\n",
       "T8EwsCNjKnbHe1E3FdOBNVOUwK4mxzBZWQK6+0fvm4ISXn2ZULoD3VyT8LwB876n7OqBm4JZ8vG+\n",
       "RQn6nL7BoueRI9x9hu/AADZm3rewNww790gHiiYqcKqZ9JwGbgrmZNvwJAkaeGr2a8eHVTzp1F3M\n",
       "lwK4s3ERxh5iI3QetOYZgtkNO3GARNxkJuk9BUliMKtypgigBjJKnVy1FGYtaWTmJQCuAqUGdlOY\n",
       "goT2NtyelACxZcTGlLDmJDcFU5Qo9D+EtgQ0kBH2p7T6w0xLYUoSr7Yy/ee67yiMz5ysEv8BOCPD\n",
       "+ly7mugAAAAASUVORK5CYII=\n",
       "\" style=\"display:inline;vertical-align:middle;\" /></a></span>"
      ],
      "text/plain": [
       "|- {a, b, c, d, e} = {a, c, d, b, e}"
      ]
     },
     "metadata": {},
     "output_type": "display_data"
    }
   ],
   "source": [
    "# permuting an element in a Set of variables\n",
    "Set(a, b, c, d, e).permutation_move(1, 3)"
   ]
  },
  {
   "cell_type": "code",
   "execution_count": 64,
   "metadata": {},
   "outputs": [
    {
     "data": {
      "text/html": [
       "<span style=\"font-size:20px;\"> <a class=\"ProveItLink\" href=\"../__pv_it/demonstrations/03d4bf4a8f608de3b6b92c93e0610236f5ba0fbf0/proof.ipynb\" style=\"text-decoration: none\">&nbsp;&#x22A2;&nbsp;&nbsp;</a><a class=\"ProveItLink\" href=\"../__pv_it/demonstrations/5762c55e0ea2023e1c3258cc92531edc458163af0/expr.ipynb\"><img src=\"data:image/png;base64,iVBORw0KGgoAAAANSUhEUgAAARcAAAAVBAMAAACeQrdYAAAAMFBMVEX///8AAAAAAAAAAAAAAAAA\n",
       "AAAAAAAAAAAAAAAAAAAAAAAAAAAAAAAAAAAAAAAAAAAv3aB7AAAAD3RSTlMAEER2zVSJ3Zki72ar\n",
       "MruaaVGaAAAACXBIWXMAAA7EAAAOxAGVKw4bAAADI0lEQVRIx6VWS2hTQRQ9k5hvk/ShG5Fiohuh\n",
       "m0YqgkWxduWiaNwoXRkQVNTSuNB2ITSLQgNKDLiwStGCC9GKDbhUsdCPnxZaEPyAYosbkUpbmwoi\n",
       "Jc7Mm3l5zbxJ2/QtMjdnzpycmbn3vgAgu1HVE2hzQrfGNiW2b1d1ZvBlVsXcLcZmxDyL9CN8WfWa\n",
       "OTZtRjsfSuhsdtW+51TN08zLR2GI/EwphL6eXxXEvHRBXc+isuoevL9FeFSM2+FZtlPOqWYoRN4c\n",
       "l6ezJa1scQYdMb0YMwO3auYt8FiEctHhBCmsbYbypJnaRPl8KIfggF5MZ2bIwFSORy45WR/Dxsw0\n",
       "KAkUXETor15MZ+Y1MGUmjbd0855/GzKjEkIphFb0YmVm+s/csua7xc2PHJTHvScvAm/jy3WYaW0c\n",
       "E6kyfiAuKb4FvZi/2W7G9QjzUiq8ZI7RI8Q8WbyfFAUWuIIs0MRjfyd/hvmXHrsZUjCi5k3X5yLW\n",
       "dr/F9WJ383YzO/LotbYwbJXrA3myIpd9SQbdV/IzMGg3Q7tGkP8yGYTfuutr0Ir1t8Bu5iZwVZKz\n",
       "YqS7/WNLa07jAxktcxMYjdnN0EOvTfJggf2iAGegFQtnDbuZpyCyu9SIg6HuXOYevgLzCUHjd91S\n",
       "fjKfZu1mqIEGzg/OICo73AsxOopFhm1myBJqZH6dRCAn2ozfnC4aYj1ZKrXb1TkzZzdD24y562gc\n",
       "r+TdJHFHL2ZVE2ETywg1t4Hh4STcBsOwwjKJQU/YyXKIFqULuFChmhi/dpomC+NHExj15PjKD8Be\n",
       "vRg346XlEmVl9R2n0mneGm9nMr0mNoEf4NBz1ho4RNOpXV/aHTmTH8pH0pwfiXu6/DwKdGUyKb0Y\n",
       "MxN6V5iAj70s6/Z/HplGJ7XeXSwWBHaeFhyDXBn6buOQ9+IzQ2tmcqg1z/lk/Do4n4y09x/ika9Y\n",
       "LDbrxUr99USp0RoK5gBpT0bHX1usZCZpTXihYA5QRTNO/LXF3APiG7EaNrZBwRwgs92ufpoq8Nch\n",
       "FpB/ENwlSYvirgSRQdWM1ZQd+OsR6xur8j/wpYQDeCNRvdh/y1/8ObVU9xUAAAAASUVORK5CYII=\n",
       "\" style=\"display:inline;vertical-align:middle;\" /></a></span>"
      ],
      "text/plain": [
       "|- {1, a, 2, b, 3, c} = {1, b, a, 2, 3, c}"
      ]
     },
     "metadata": {},
     "output_type": "display_data"
    }
   ],
   "source": [
    "# permuting an element in a heterogeneous Set\n",
    "Set(one, a, two, b, three, c).permutation_move(3, 1)"
   ]
  },
  {
   "cell_type": "code",
   "execution_count": 65,
   "metadata": {},
   "outputs": [
    {
     "data": {
      "text/html": [
       "<span style=\"font-size:20px;\"> <a class=\"ProveItLink\" href=\"../__pv_it/demonstrations/932403c16b429e8c988bc1619050e25d3e486ea10/proof.ipynb\" style=\"text-decoration: none\">&nbsp;&#x22A2;&nbsp;&nbsp;</a><a class=\"ProveItLink\" href=\"../__pv_it/demonstrations/263dcd45862ce2ad0030a2d2bd84532d4a87a8810/expr.ipynb\"><img src=\"data:image/png;base64,iVBORw0KGgoAAAANSUhEUgAAAZcAAAAVBAMAAAB4R75ZAAAAMFBMVEX///8AAAAAAAAAAAAAAAAA\n",
       "AAAAAAAAAAAAAAAAAAAAAAAAAAAAAAAAAAAAAAAAAAAv3aB7AAAAD3RSTlMAEER2zVSJ3Zki72ar\n",
       "MruaaVGaAAAACXBIWXMAAA7EAAAOxAGVKw4bAAADhElEQVRYw62Wv2tUQRDH5+Vyl7uY3D1MF4JP\n",
       "LW3yQBEMCmdAsLC4VJLKAwMnQSE2xvIKwUJJDkQRCRiwEAnI/QcG8qMRJKWChWIjEjDRnGAhuLuz\n",
       "v2bf7iOJLricn+93Zmdyyc4CQHQSxFaZBmsJypafPu7Y9OhxoEvI1EO8KsCbxn+iXhlZAEXPnJDb\n",
       "x8+WS1C+vHT4XWxgYTJ2DhQy8RCvDvCn8dehV0YWAGlxV22wbUwIwEOjb3PsU3XV0Gt20ZZse4jX\n",
       "BLhpjr0M1wFBeVtvpTm1Qcu4EICP9repbhuIbHuIt+U7BunlcB1h2SQ9cDO1Rm4zRj5MM738Znr/\n",
       "u5nxOLcZIx+imb7d3GYC8j8004LcZtykB2omr46wvK9mlq4/8tArpzeyVVQ2z6X4PyPnNoMBbpr+\n",
       "tfONUB1B2WqmXFcbTBgXB32v4HucodFenHSgsGzoPfbvVKeK944lS095XqxV7bUC3DTJxeh3qI6Q\n",
       "LIHYnnXVBs8b2sXBaBfuZym7DQdTqPTMFFthLaxAeU5dlkq2PLbXDnDS8Ov5RaiOkCwB35YmQW7s\n",
       "hHVlE2AR4E6Wsh9GrQkwdkkVsc4Gd3kHBprqZ6Vl7QHbSwJoGv7t/ArVEZIl4NvwAh/WC+JrLE3q\n",
       "Ec7Ba4h+ZCmrYZzFzugnzHs2ewc/QYLAlmfcZ47wkgCahhXd1wvVEZIlEJs1rK1RzkD0E47sZCif\n",
       "I4sxmcxs9iYpvNFjRsnSQ/5mtmmAk4bNkfJuqI6ATJ4V1sUzKwyxvCaiHgzVp10KtS32+w6lZQ35\n",
       "PZI0YL3YiYDIpeXwbYYB0hJp6Q//A8ETI6B1xFQ2BUkw67uaoz1Fv8DVdjtDh7rVtgxAyA3VtHi3\n",
       "DEmdyHlXMwZIS1JX0lv4qkwIdR3iLEs2BeXOmXn1fY2d/bC2laHR5gMdICA3RGu3li7AwG0i5zWD\n",
       "AdLC41Aau9FVJoSmDn6WJZuCcpspxr4XgEPxUzGms3aKyPt/AUxR2jLQ5CjGwYJymil5nzMOxU8l\n",
       "5znTPGQzTV8zTefEcEEmqTWsxXiGEQAymr0UR6+AZiJHKZHRQ9cEfWmgBeMm6IkIzYkj4YL0s8Ia\n",
       "1vwaYisFMr39dLSroZnIBSAyeujSw9pOU6Bp8ESE5sQ0WJAAkj7dwK1ys2GdKii3e+mTDXuuP2w4\n",
       "JQuZeIhXB3jT+E80NlcWQGx/AT4bhhMKCiq/AAAAAElFTkSuQmCC\n",
       "\" style=\"display:inline;vertical-align:middle;\" /></a></span>"
      ],
      "text/plain": [
       "|- {{}, {a}, {b}, {a, b}} = {{a}, {b}, {a, b}, {}}"
      ]
     },
     "metadata": {},
     "output_type": "display_data"
    }
   ],
   "source": [
    "# permuting an element in a Set of Sets\n",
    "power_set_of_ab.permutation_move(0, 3)"
   ]
  },
  {
   "cell_type": "code",
   "execution_count": 66,
   "metadata": {},
   "outputs": [
    {
     "name": "stdout",
     "output_type": "stream",
     "text": [
      "Index Error: 'init_idx' = 6 is out of range. Should have 0 ≤ init_idx ≤ 5.\n"
     ]
    }
   ],
   "source": [
    "# permuting an element FROM a non-existent location\n",
    "# in the Set should not work\n",
    "try:\n",
    "    set_1a2b3c.permutation_move(6, 3)\n",
    "except IndexError as the_error:\n",
    "    print(\"Index Error: {}\".format(the_error))"
   ]
  },
  {
   "cell_type": "code",
   "execution_count": 67,
   "metadata": {},
   "outputs": [
    {
     "name": "stdout",
     "output_type": "stream",
     "text": [
      "Index Error: 'final_idx' = 6 is out of range. Should have 0 ≤ final_idx ≤ 5.\n"
     ]
    }
   ],
   "source": [
    "# permuting an element TO a non-existent location\n",
    "# in the Set should not work\n",
    "try:\n",
    "    set_1a2b3c.permutation_move(4, 6)\n",
    "except IndexError as the_error:\n",
    "    print(\"Index Error: {}\".format(the_error))"
   ]
  },
  {
   "cell_type": "markdown",
   "metadata": {},
   "source": [
    "### Testing the `permutation_swap()` method\n",
    "\n",
    "The <span style=\"font-family=courier\">permutation_swap()</span> method has the following format:<br/>\n",
    "    <div style=\"width: 50%; border: 1px solid green; padding: 5px; margin: 20px; background-color: gainsboro; font-family:courier\">permutation_swap(self, idx01=None, idx02=None, assumptions=USE_DEFAULTS):</div>\n",
    "    and attempts to deduce that the Set expression is equal to a Set in which the elements at index locations <font style=\"font-family:courier\">idx01</font> and <font style=\"font-family:courier\">idx02</font> have swapped locations."
   ]
  },
  {
   "cell_type": "code",
   "execution_count": 68,
   "metadata": {},
   "outputs": [
    {
     "data": {
      "text/html": [
       "<span style=\"font-size:20px;\"> <a class=\"ProveItLink\" href=\"../__pv_it/demonstrations/860dd537ae8810a982d0fb3db7920bd4b722b1c50/proof.ipynb\" style=\"text-decoration: none\">&nbsp;&#x22A2;&nbsp;&nbsp;</a><a class=\"ProveItLink\" href=\"../__pv_it/demonstrations/8acffebb08057c536ffbf6a510bbc8ac3e5eb3250/expr.ipynb\"><img src=\"data:image/png;base64,iVBORw0KGgoAAAANSUhEUgAAARcAAAAVBAMAAACeQrdYAAAAMFBMVEX///8AAAAAAAAAAAAAAAAA\n",
       "AAAAAAAAAAAAAAAAAAAAAAAAAAAAAAAAAAAAAAAAAAAv3aB7AAAAD3RSTlMAEER2zVSJ3Zki72ar\n",
       "MruaaVGaAAAACXBIWXMAAA7EAAAOxAGVKw4bAAAC5UlEQVRIx6WWTWgTQRiG3901m6Rp2kUvIsVG\n",
       "L4qnguKhFIw5eRBdL0pPDQha/EE92B48NIdCc5AYEFSkqOhBtGIDHkUItOJPKw14UEEPrRcPhRrT\n",
       "CCISd2ZndyaZnTRJ59D58s43z7y7M/NtAWi70VGLDgepWxObgh3Y1ZkZfF2WNSNlbQYWKjt/4ldk\n",
       "r9ljJTfa+diTzuTqnntVZo4QL588Q7dGV5SwxkZh5mWgb7IsDd6D+YuFR1i/HaGqmHJWRjqS9vY4\n",
       "M6NlMGKrYAEzXTMwZDPvgKcs9BwcsrX1jc04ecyMUUV/UgVry8yshaU8jXRvcF8CbZnRH6I3qYK1\n",
       "ZeYNsOTuM81wW+hvO2bIGSqoYRubmT590x+fcLstc0M2U/YUWGDuf9WKGf2aGsZX4rBIUjSjP8Ga\n",
       "h4pX3L7/sPbHjT4usjsRvYocMEjjyDhtRfpjss5MfOgDVDC+kgC7WxDN7ChgypsfLvrX9ZG3Tez4\n",
       "hdNEum9L9WCmcZtsFYyvxGHTKYhmbgBjHijHeudpfwvHmqbRTptvcBOdTzSY6SqrYHwlDovnLNHM\n",
       "c2heQYixZ3Hm6O4L+Qas2SyN7nWq8c18XhbNxEvoqapgfCUB1lMUzGgVxH6yaScRzbPKEHGHaxYz\n",
       "o1V4ua0/M6uimd6yb0aC8ZVEmH+bNDJQRXdyGESPp2FYRMM/sr9Eeka2iUrODdeBc01uE8nvKpJt\n",
       "CoYJKwkwasZ0Tjgtlt9xKpOhdfZ2Njvlagv4ASq9JHWGSs4JuKi+2pfybn6s4NQZFYyvJMCIme73\n",
       "6wsIk49l38EvcyWMO4YnarV1po06F45Ietb5UFLJPP/CUppZnD1aoPnYm12BCsZXEmC8JJ7ghdaS\n",
       "tABJ+Wbq85vCeNRgJu0jTUhagNTUjNkazKyfaTxgv7QBf2AbJC1AcsttfRuU8pvChIjCot433eBI\n",
       "f5bRTNJmZDN+UR5oCcYjBrvzusP/gS/YAeJ1u3PYfx0WAhUt2PUJAAAAAElFTkSuQmCC\n",
       "\" style=\"display:inline;vertical-align:middle;\" /></a></span>"
      ],
      "text/plain": [
       "|- {1, a, 2, b, 3, c} = {1, 3, 2, b, a, c}"
      ]
     },
     "metadata": {},
     "output_type": "display_data"
    }
   ],
   "source": [
    "# basic swap permutation\n",
    "set_1a2b3c.permutation_swap(1, 4)"
   ]
  },
  {
   "cell_type": "code",
   "execution_count": 69,
   "metadata": {},
   "outputs": [
    {
     "data": {
      "text/html": [
       "<span style=\"font-size:20px;\"> <a class=\"ProveItLink\" href=\"../__pv_it/demonstrations/860dd537ae8810a982d0fb3db7920bd4b722b1c50/proof.ipynb\" style=\"text-decoration: none\">&nbsp;&#x22A2;&nbsp;&nbsp;</a><a class=\"ProveItLink\" href=\"../__pv_it/demonstrations/8acffebb08057c536ffbf6a510bbc8ac3e5eb3250/expr.ipynb\"><img src=\"data:image/png;base64,iVBORw0KGgoAAAANSUhEUgAAARcAAAAVBAMAAACeQrdYAAAAMFBMVEX///8AAAAAAAAAAAAAAAAA\n",
       "AAAAAAAAAAAAAAAAAAAAAAAAAAAAAAAAAAAAAAAAAAAv3aB7AAAAD3RSTlMAEER2zVSJ3Zki72ar\n",
       "MruaaVGaAAAACXBIWXMAAA7EAAAOxAGVKw4bAAAC5UlEQVRIx6WWTWgTQRiG3901m6Rp2kUvIsVG\n",
       "L4qnguKhFIw5eRBdL0pPDQha/EE92B48NIdCc5AYEFSkqOhBtGIDHkUItOJPKw14UEEPrRcPhRrT\n",
       "CCISd2ZndyaZnTRJ59D58s43z7y7M/NtAWi70VGLDgepWxObgh3Y1ZkZfF2WNSNlbQYWKjt/4ldk\n",
       "r9ljJTfa+diTzuTqnntVZo4QL588Q7dGV5SwxkZh5mWgb7IsDd6D+YuFR1i/HaGqmHJWRjqS9vY4\n",
       "M6NlMGKrYAEzXTMwZDPvgKcs9BwcsrX1jc04ecyMUUV/UgVry8yshaU8jXRvcF8CbZnRH6I3qYK1\n",
       "ZeYNsOTuM81wW+hvO2bIGSqoYRubmT590x+fcLstc0M2U/YUWGDuf9WKGf2aGsZX4rBIUjSjP8Ga\n",
       "h4pX3L7/sPbHjT4usjsRvYocMEjjyDhtRfpjss5MfOgDVDC+kgC7WxDN7ChgypsfLvrX9ZG3Tez4\n",
       "hdNEum9L9WCmcZtsFYyvxGHTKYhmbgBjHijHeudpfwvHmqbRTptvcBOdTzSY6SqrYHwlDovnLNHM\n",
       "c2heQYixZ3Hm6O4L+Qas2SyN7nWq8c18XhbNxEvoqapgfCUB1lMUzGgVxH6yaScRzbPKEHGHaxYz\n",
       "o1V4ua0/M6uimd6yb0aC8ZVEmH+bNDJQRXdyGESPp2FYRMM/sr9Eeka2iUrODdeBc01uE8nvKpJt\n",
       "CoYJKwkwasZ0Tjgtlt9xKpOhdfZ2Njvlagv4ASq9JHWGSs4JuKi+2pfybn6s4NQZFYyvJMCIme73\n",
       "6wsIk49l38EvcyWMO4YnarV1po06F45Ietb5UFLJPP/CUppZnD1aoPnYm12BCsZXEmC8JJ7ghdaS\n",
       "tABJ+Wbq85vCeNRgJu0jTUhagNTUjNkazKyfaTxgv7QBf2AbJC1AcsttfRuU8pvChIjCot433eBI\n",
       "f5bRTNJmZDN+UR5oCcYjBrvzusP/gS/YAeJ1u3PYfx0WAhUt2PUJAAAAAElFTkSuQmCC\n",
       "\" style=\"display:inline;vertical-align:middle;\" /></a></span>"
      ],
      "text/plain": [
       "|- {1, a, 2, b, 3, c} = {1, 3, 2, b, a, c}"
      ]
     },
     "metadata": {},
     "output_type": "display_data"
    }
   ],
   "source": [
    "# basic swap with irrelevant assumptions\n",
    "set_1a2b3c.permutation_swap(1, 4, assumptions=[Equals(a, one)])"
   ]
  },
  {
   "cell_type": "code",
   "execution_count": 70,
   "metadata": {},
   "outputs": [
    {
     "data": {
      "text/html": [
       "<span style=\"font-size:20px;\"> <a class=\"ProveItLink\" href=\"../__pv_it/demonstrations/27c0c3285231d1d4658b02d99b9e1a4a70646f150/proof.ipynb\" style=\"text-decoration: none\">&nbsp;&#x22A2;&nbsp;&nbsp;</a><a class=\"ProveItLink\" href=\"../__pv_it/demonstrations/944a0cf6f0b641c849969616e7a1eef4e821345c0/expr.ipynb\"><img src=\"data:image/png;base64,iVBORw0KGgoAAAANSUhEUgAAAKUAAAAVBAMAAADVzzOcAAAAMFBMVEX///8AAAAAAAAAAAAAAAAA\n",
       "AAAAAAAAAAAAAAAAAAAAAAAAAAAAAAAAAAAAAAAAAAAv3aB7AAAAD3RSTlMAEER2zVSJ3Zki72ar\n",
       "MruaaVGaAAAACXBIWXMAAA7EAAAOxAGVKw4bAAABu0lEQVQ4y42Vv04CMRzHv3ARBTy4BzAxOjk6\n",
       "OBkHwgMYXEycYNMYB50cNMGBBCbipMYYNY46yCPcoDFqDDyAi8wuKAxO2Pbu+utdr0CH3pf2+/n2\n",
       "+ocrgMQiTCW9Fdc6AbCyYLTg8yumcTww1WOVfRAM1FjveOpsp8vqbx3jANkIVYDUPjBX6/kd10j9\n",
       "eBM8QbkEbOuZHJA2QlWAW2AFma/AvRDWAPMFY6a0EaoC4cxHB+1TLpJ3yJszpY1QFQhnvgDtYKXK\n",
       "LWOmYpOoAoQzWan6z+QRjJmKjVACZgrhTPvXf659sHrV+1E/5OUYEpA2QhXgshXOnHblVNg23pS0\n",
       "9xQA2dS5+8BVMdLRlCrDGhNP0VAPIJuCBoDddEIdWX98u4PcgC1eMfqaHpB1o5kqkHNDmZtIi0OS\n",
       "7wlL2dHWUwCBjVAVkPueEKNVYDlcZVwxld34fZc2QlVAZKb+IP4FOG806kJlW6POp7QRqgLcMvvW\n",
       "f8c0/xhUh8O+p5YaXfP5JBuhCuAfYVY2oCvzmR8FkKUCXY3MNALWbfD5XoamUNMzJwDSg8BLFF0T\n",
       "DzH3wwTAxbP5etkrxbSOA/4B0P6q+323vBsAAAAASUVORK5CYII=\n",
       "\" style=\"display:inline;vertical-align:middle;\" /></a></span>"
      ],
      "text/plain": [
       "|- {1, 2, 3} = {2, 1, 3}"
      ]
     },
     "metadata": {},
     "output_type": "display_data"
    }
   ],
   "source": [
    "# if idx01 > idx02\n",
    "set_123.permutation_swap(1, 0)"
   ]
  },
  {
   "cell_type": "code",
   "execution_count": 71,
   "metadata": {},
   "outputs": [
    {
     "data": {
      "text/html": [
       "<span style=\"font-size:20px;\"> <a class=\"ProveItLink\" href=\"../__pv_it/demonstrations/b3ab6e796699d6ea614bb5f2139830a7e0ddab190/proof.ipynb\" style=\"text-decoration: none\">&nbsp;&#x22A2;&nbsp;&nbsp;</a><a class=\"ProveItLink\" href=\"../__pv_it/demonstrations/1d2af0cb008551ad3b96ba74154b4c6e42ced5be0/expr.ipynb\"><img src=\"data:image/png;base64,iVBORw0KGgoAAAANSUhEUgAAAKUAAAAVBAMAAADVzzOcAAAAMFBMVEX///8AAAAAAAAAAAAAAAAA\n",
       "AAAAAAAAAAAAAAAAAAAAAAAAAAAAAAAAAAAAAAAAAAAv3aB7AAAAD3RSTlMAEER2zVSJ3Zki72ar\n",
       "MruaaVGaAAAACXBIWXMAAA7EAAAOxAGVKw4bAAABg0lEQVQ4y2NgYGBUYsAFOCOxiRKhwUQRpxKG\n",
       "Ow+xCBLWwPoRSPAWwizq8LsAYU3LeAQk32BqI0IDWwEDg0zLR6iSeQxsnyAebGCID2BgSMc0kwgN\n",
       "ICUMzDAlJxkYVoEZzF8Z5B1wmklAA6qS9QIM5yeAGEyLGPiJMROrBlQlxxkYzkPDhyF+AxFmYtWA\n",
       "qgQI6qE0UzUDEWZi1cDhgKqE9zOUtjkLJK0gnPZyEKhhIFLDrA2oStgPwFigaJwfgOFOwhrmODGg\n",
       "KumDs7iAgoxH0A0lQgNvnwCKEm6orbwXGPi+AgPPCd2ZxGjgO4CiJIyBE5w0+D+ClcQLYIQnERrg\n",
       "0cgIti2BgVkAxOI6APZKFp54x60BrITtJwM4FzBM7+hoB7O4N+BNn/g1gJTwnPpymoEdVCzU////\n",
       "BcLS6HiEO30S0AC2FgwCGTBZuNyJXwNCSQIDJguvmTg1MC+AFd8GDBgshhZMM4nQwPkVphahC1FN\n",
       "rMZSPxChYcZR3NVLTgAWUUIaAKGSqvsSI2mgAAAAAElFTkSuQmCC\n",
       "\" style=\"display:inline;vertical-align:middle;\" /></a></span>"
      ],
      "text/plain": [
       "|- {1, 2, 3} = {1, 2, 3}"
      ]
     },
     "metadata": {},
     "output_type": "display_data"
    }
   ],
   "source": [
    "# empty swap: idx01 = idx02\n",
    "set_123.permutation_swap(2, 2)"
   ]
  },
  {
   "cell_type": "code",
   "execution_count": 72,
   "metadata": {},
   "outputs": [
    {
     "name": "stdout",
     "output_type": "stream",
     "text": [
      "Index Error: Index or indices out of bounds: {6}. Subset indices should be elements of {0, 1, 2, 3, 4}.\n"
     ]
    }
   ],
   "source": [
    "# if indices not valid:\n",
    "try:\n",
    "    set_12345.permutation_swap(2, 6)\n",
    "    assert False, \"Should not make it to this point.\"\n",
    "except IndexError as the_error:\n",
    "    print(\"Index Error: {}\".format(the_error))"
   ]
  },
  {
   "cell_type": "markdown",
   "metadata": {},
   "source": [
    "### Testing the `permutation()` method\n",
    "\n",
    "The <span style=\"font-family:courier\">permutation()</span> method has the following format:<br/>\n",
    "    <div style=\"width: 50%; border: 1px solid green; padding: 5px; margin: 20px; background-color: gainsboro; font-family:courier\">permutation(self, new_order=None, cycles=None, assumptions=USE_DEFAULTS)</div>\n",
    "where <font style=\"font-family:courier\">new_order</font> is a list of the indices in the desired order, and <font style=\"font-family:courier\">cycles</font> is a list of tuples designating index-based cycles, either of which derive an equivalence to a permuted version of the Set. A new_order designation must include all indices; a cycles designation need only specify the indices involved in a cycle."
   ]
  },
  {
   "cell_type": "code",
   "execution_count": 73,
   "metadata": {},
   "outputs": [
    {
     "data": {
      "text/html": [
       "<span style=\"font-size:20px;\"> <a class=\"ProveItLink\" href=\"../__pv_it/demonstrations/9edded47cec67ccb01458201029b2433bc8c1fcd0/proof.ipynb\" style=\"text-decoration: none\">&nbsp;&#x22A2;&nbsp;&nbsp;</a><a class=\"ProveItLink\" href=\"../__pv_it/demonstrations/1275196bf223d8880e4f9d967e88886571024dd40/expr.ipynb\"><img src=\"data:image/png;base64,iVBORw0KGgoAAAANSUhEUgAAAPQAAAAVBAMAAACDGd7qAAAAMFBMVEX///8AAAAAAAAAAAAAAAAA\n",
       "AAAAAAAAAAAAAAAAAAAAAAAAAAAAAAAAAAAAAAAAAAAv3aB7AAAAD3RSTlMAEER2zVSJ3Zki72ar\n",
       "MruaaVGaAAAACXBIWXMAAA7EAAAOxAGVKw4bAAACtklEQVRIx5WWTWgTQRzF33abTTZt6oIXkYLR\n",
       "iyAechDFXlqK3orGi+DJCKIggvVUEKEVCs1BQkDUomJ71kBy8CJeAn7b1QQ8KKjQ3oUaTZH6lc73\n",
       "7mZn12QOsy+Tee+X3Zn5ZwEYe9BPs0/pRvsMuVlmlwO7e3Y0YZTxeU3zzX9DmFW1zDuH9IkW1R8c\n",
       "cU/FY02hzpWyauYcv1aPzJB5X8PBNERv/Qi/lYVdJt1InXTWNHlcr46L8fuwvnO1A4kN6U/W+fXK\n",
       "zzOkPx9G0xC99Sr8VtJG51vCwDuMC/Rr4AFX43mjLf2HBJpfItBaqynRdTXXjEBXHTT4muzLQvoz\n",
       "j3pBa62fpnpGvwQaTbmAv2XwYC9orbXQO5q0WSn21oQ4LNErB99Go3VWsyzR3BpEpyaC6MwPId67\n",
       "csPWJHoNS2TrjvEPCzO08bXkIWHrXUg0tyq0uUy6O7UgOqkejdymFgbV2Aj5tUv50F3zkLC1oNDc\n",
       "qtA2mXBvEkF0yQus8sHHPnRqkxzFZ91sERKyDpV9aGpVaIweRabkBNBDkvIFWGcIOyfRIxNI/SVP\n",
       "YbL7pnlI2HoDEi2sHvpsVtQVD30SNj8hHUf4B1y3USlQlZ7G8DfgtBNaaxYStu533V8v4LMqdKIV\n",
       "2OE0MVOA6Rh0pEKfmsFnp+sw2KIjvQpc0O9wvbXCc7nV8Xb4skJfKoNVoNvF4gJ20f36hB5OpoBt\n",
       "q0zZcxhzIg+X3vqP5zIrr3HWZuBcu9WpGmh9n+102kjSAj9QJP8BTCG1/ifH1OL1a9HnWmstdZ6y\n",
       "XG6lavhNeyVQUtiJULv8BOJUdEnRG7xcT3WhLeUqxKpYtMbg5VpBA6srrG1Xrxy5OIX5MFqF6Awq\n",
       "16dY+bPVX6uaayJOGQ81b00bMYacRu1k5W/xeX/vZhfzmtE+Q26R6VvWRPSup5wX7wAAAABJRU5E\n",
       "rkJggg==\n",
       "\" style=\"display:inline;vertical-align:middle;\" /></a></span>"
      ],
      "text/plain": [
       "|- {1, 2, 3, 4, 5} = {2, 3, 4, 5, 1}"
      ]
     },
     "metadata": {},
     "output_type": "display_data"
    }
   ],
   "source": [
    "# permuting an element in a Set of literals\n",
    "set_12345.permutation(new_order=[1, 2, 3, 4, 0])"
   ]
  },
  {
   "cell_type": "code",
   "execution_count": 74,
   "metadata": {},
   "outputs": [
    {
     "data": {
      "text/html": [
       "<span style=\"font-size:20px;\"> <a class=\"ProveItLink\" href=\"../__pv_it/demonstrations/e984ef10c7a42f5f16107094a8ad45a2b22f0e130/proof.ipynb\" style=\"text-decoration: none\">&nbsp;&#x22A2;&nbsp;&nbsp;</a><a class=\"ProveItLink\" href=\"../__pv_it/demonstrations/f83d7576da3a71485821d8383fd433f9a549e0150/expr.ipynb\"><img src=\"data:image/png;base64,iVBORw0KGgoAAAANSUhEUgAAAO8AAAAVBAMAAABcV6T1AAAAMFBMVEX///8AAAAAAAAAAAAAAAAA\n",
       "AAAAAAAAAAAAAAAAAAAAAAAAAAAAAAAAAAAAAAAAAAAv3aB7AAAAD3RSTlMAEER2zVSJ3Zki72ar\n",
       "MruaaVGaAAAACXBIWXMAAA7EAAAOxAGVKw4bAAACmElEQVRIx52WT2gTQRTGv03MdtOaZNGLSDHR\n",
       "i+DFlUqRaiHmJJ7Wk/RkMKCiFvRg6zGHghdpAx4UCSh4UCmUgsciFhK9eMnBg4JgixcPBRtrBCmC\n",
       "829nNjuzi+ucvnnvze/Nm5l9CQDrCFKM/IzJuq/yH4iTh9MkxudN3ZatuekRuX7Ydui5IbBwvhma\n",
       "bekBlyJ5P7yIh0mEfWvIds4UWPJDk6u6XzMNEmBBfCTxwBR43E2XONNPgJkTZ/qxgSkSC6YZZk4c\n",
       "qd90/v+QeE8zATaUuN14IJZ0zgT32Tjd46//3bQ4Mqtxyo1NzJ1gsC9+BCb5sCdeC4RTJWfyEt/5\n",
       "qvJZ6zePeOg7G0wcaxXFkR3tFerAFNPOPBvrbLIgnTDClCl/B4sC8XgVOLiKe/LDeMbVHEY9VuYy\n",
       "2xtdtIssaRRPfK0jLEsnGGwhAlP8kTo1UUS7RqZLNE+w91+8ouBhONs0mo7izsRlupNuJHO+W5FO\n",
       "M0yZlljhFFFYJHIF1o+gzgy/0NENgSWizEsp8XO1a9GKP25KJ4wwZVpRiOI6rB2MbQdfnii17AkO\n",
       "EW9EG/FCbWrojrekEyaYMhElEeRVWwPsrc6Azv7Q+6CiRK6+YtHEPrq5lsXvB+SUrxtfNXeSlQZY\n",
       "yLRLXppA0M/pKy42m9ZPMnuPb2CCPGm7Vyavqujl7jqgaqyKA624z4k52UoDTJnIk54Nfcfjk586\n",
       "PcyTLY1fI5VSgStrJzBym2y3M9ueZgqTa158A2FOhtBhymTfeOVqnSvnRgUuQFdJnUutNMCUiiS2\n",
       "NYG6QSUlVivtBBOPzz4Npvs1YXm6CrpDeExpKw2wkGKIvPzt8jSRha5IJ9OGbGZqezpMKYF49DbV\n",
       "f66bvsF430+L+As49M8c13nhUAAAAABJRU5ErkJggg==\n",
       "\" style=\"display:inline;vertical-align:middle;\" /></a></span>"
      ],
      "text/plain": [
       "|- {a, b, c, d, e} = {e, d, b, a, c}"
      ]
     },
     "metadata": {},
     "output_type": "display_data"
    }
   ],
   "source": [
    "# permuting an element in a Set of variables\n",
    "set_abcde.permutation(new_order=[4, 3, 1, 0, 2])"
   ]
  },
  {
   "cell_type": "code",
   "execution_count": 75,
   "metadata": {},
   "outputs": [
    {
     "data": {
      "text/html": [
       "<span style=\"font-size:20px;\"> <a class=\"ProveItLink\" href=\"../__pv_it/demonstrations/4fe1f41a4e425e4e006ba31740175651ae8aae630/proof.ipynb\" style=\"text-decoration: none\">&nbsp;&#x22A2;&nbsp;&nbsp;</a><a class=\"ProveItLink\" href=\"../__pv_it/demonstrations/744cc30f921b3bf34fb2144cd539abe001cd240e0/expr.ipynb\"><img src=\"data:image/png;base64,iVBORw0KGgoAAAANSUhEUgAAARcAAAAVBAMAAACeQrdYAAAAMFBMVEX///8AAAAAAAAAAAAAAAAA\n",
       "AAAAAAAAAAAAAAAAAAAAAAAAAAAAAAAAAAAAAAAAAAAv3aB7AAAAD3RSTlMAEER2zVSJ3Zki72ar\n",
       "MruaaVGaAAAACXBIWXMAAA7EAAAOxAGVKw4bAAADIklEQVRIx6WWTWgTQRiG382aZJMm6aIXkWKi\n",
       "F8FLIxXBolh78lB0e1F6MiCoqKXxoO1BaA6FBpQY8GCVogUPohUb8KhioT/+tNCC4A8oRryIKG1s\n",
       "KoiUODM7s9nsZoJu95CZfeebN8/MzvftAlC2w9MV6qmnbkysy2z3Nm8w+PDZramd+nrM/CXyEz3v\n",
       "Zs0eXjR7W+8K6WSuZt3f3Z7Ha1ne8lvlW5orI0M/GpgFSFjLUMllewuBn7x7iLeb4V+1h5xyw9RI\n",
       "yosjgm1DhiMU0ZeQm1EYqG6Yl8B93hWTDhhK+X9gyAwB02yYbSSP8JjcTAYzoWMhz3o+MbgzAa8w\n",
       "rbwTLiHyW24mg3kOLJiHJpC2RP8fjzBCj6QRWZObOWBGT1yzxgf5857axzcZOwq8E2h7KoUJze5N\n",
       "OmG62mZESHBZbqZ12GF897AkDKIrZhs/qJg7i9fzPMFCF5AD2llf62fXJLsZog8gHys5YJSyHs9z\n",
       "7VNSbnazYIfZUsCwtYRJK13viJ3lZzmYotJtw1UPxskfj0NLO2BI/QiL3boEqdloJ+wwV4GLIjjH\n",
       "W7LaX7ZjzcJYo0w7aELTJG21ZWpfC0O2v5lrWhFSs2hOt8M8hCKqSxPfGELnM9fwEVgyeBh71p3O\n",
       "nXlH6mi4iHjCAUPoWjn4Ez5U1yw2aYNRVtAkztdRhPK8zGjmcEXn85UVW7mtOTOkjsaTeObMJlJm\n",
       "zPXDn8INuZmVTQodWEWkowdUj6ag6lTDGj1JVHpAd5ZJJCl9wJm62RQ3MO3PKxYMndm8SE4Sk94A\n",
       "u+RmDCZA0iVO0+oLjmUyrDRez2aHTW0OX8Gkx7Q0MIkcp15ZaseS/gHNDENf3pwZKcQyTAoNZLNp\n",
       "uRmFibwqzyFIX5Yte95PLaKfoA9WKmWunSYJRyVflrzbmBQ4+0iXwShTvaP7zbD5ia4Cm6nMXgaT\n",
       "gpVKpUNuVq2v3dVCq7u0OlLjCtztxawKk7IGAnBpdaTGMCkvZuqYeOEnrYFNcGl1JFZuHVf7P82U\n",
       "moXEB4JatbRC1EYSSRDXZRVl1ZvZyIzHb+BzRh3xiuHd7C/Qhvw51veGdQAAAABJRU5ErkJggg==\n",
       "\" style=\"display:inline;vertical-align:middle;\" /></a></span>"
      ],
      "text/plain": [
       "|- {1, a, 2, b, 3, c} = {a, 1, b, 2, 3, c}"
      ]
     },
     "metadata": {},
     "output_type": "display_data"
    }
   ],
   "source": [
    "# permuting an element in a heterogeneous Set\n",
    "# using cycle notation\n",
    "set_1a2b3c.permutation(cycles=[(0,1),(2, 3)])"
   ]
  },
  {
   "cell_type": "code",
   "execution_count": 76,
   "metadata": {},
   "outputs": [
    {
     "data": {
      "text/html": [
       "<span style=\"font-size:20px;\"> <a class=\"ProveItLink\" href=\"../__pv_it/demonstrations/476ed7c1ad2fe9e304bc18e4542937b4d1595ff80/proof.ipynb\" style=\"text-decoration: none\">&nbsp;&#x22A2;&nbsp;&nbsp;</a><a class=\"ProveItLink\" href=\"../__pv_it/demonstrations/7d1ec4853d7654e7390be691cff0c8c3f8d10d250/expr.ipynb\"><img src=\"data:image/png;base64,iVBORw0KGgoAAAANSUhEUgAAAZcAAAAVBAMAAAB4R75ZAAAAMFBMVEX///8AAAAAAAAAAAAAAAAA\n",
       "AAAAAAAAAAAAAAAAAAAAAAAAAAAAAAAAAAAAAAAAAAAv3aB7AAAAD3RSTlMAEER2zVSJ3Zki72ar\n",
       "MruaaVGaAAAACXBIWXMAAA7EAAAOxAGVKw4bAAADh0lEQVRYw62Wu2tUQRSHz826m92YbC6mC8FV\n",
       "S5tcUASDQlwQLCw2laRywUAkKMTGWG4RsFCSBVFEAi5YiARk/wMDeTSCpFSwUGxEAiaaFSwE5z1z\n",
       "7pwZH2Qgh5vv/OY87nLnDAAkJ0CYyjQ4S1C2aPqw7dIjxwAv4cYapFUb6Ch0RrM8twCanj6uzPuP\n",
       "jkpQvkg69Ca1sFBPcwmFG2mQVm8IRKHrMMtzCyBpcU8b2LEiCYCgyZd59lRds/SqW7TjdjVIy0w0\n",
       "Cl0HW0efk+4dY0rz2sCsVUkAFD3Uwn5XgNyuBmln/xCFroOvS6TbBP33ZoYb0WasO9pMLEq4md5B\n",
       "NzOeRpux7mgzsSjBZvr2DrqZWYg2kw8aaCYWJdhMoMy/ambl2gOCXj616ZdR2Tqbyf+sO9oMGSWQ\n",
       "UVL+oa2fa0SbKU9qAxNWxUHfC/iaejTZT2ttKHQsXWR/J9tVee44bqUpL4i1ZrTc0FHojIqyVbuQ\n",
       "/PTcCgjzpKsNPG0YFQejXbjrU3YaDmRQ6dkptspqW4XyvD4stdvRuFphyCiBjIrK4/uZ51aAm5U6\n",
       "KMNK2tAyAZYBbvuUvYzhJsDYRV3FBpvc5V3ob+p3ZdxGA65WbqCiBDIqKn+9H55bAW6GlviwXhI/\n",
       "Y6luRjgHLyH55lNW9DjbO2OuMG/Z7B34ADUJXPdM/pojtMKQUQIZFQXeU1/PcysgjDOsnSHMQPId\n",
       "Du96lA+I5RRNZjZ7axm8MmNGu5UGfTN6WJNR6IyaijFT3vMKstcKdPDMCUGqjomkB4OT03kKw9vs\n",
       "A4FSx0B+jtQasFFsJ4DcpU74NHOjJNqDMiaA6+C5fvHvJ1+QAnPU0Zzsa/oJrrRaHh3sVltqg4Rc\n",
       "UM2Kd8pQm0Tu2NHsyMQ26XEzSmrqELlew2e/zOicWdC/19iZd+vbHk227pkNAop3un5z5Tz030Lu\n",
       "WDNuFL5NetyMkto6eK6x612/zGgzxZS6AeSofCqmeNZOIXd0aLrzfYq8AUzhG0AxDRYUaaZEXmdy\n",
       "VD6VcreP5v810ySbaeYyhguyQZ1hLcYzjICd3kEqR6+AdiInGXJLDV4TaINUyG0T+DKgqM04Ei5o\n",
       "0Rg7rPn5wlYGaHrTdLRroJ3IBUBuqcHLDGsnSgFHURkltRmzYEECKPp4U5rKjYaTVVAuJ+mjTXeu\n",
       "32/kShZupEFavYGOQme0urxbAGF+A38Vhqm0yU1dAAAAAElFTkSuQmCC\n",
       "\" style=\"display:inline;vertical-align:middle;\" /></a></span>"
      ],
      "text/plain": [
       "|- {{}, {a}, {b}, {a, b}} = {{b}, {a}, {a, b}, {}}"
      ]
     },
     "metadata": {},
     "output_type": "display_data"
    }
   ],
   "source": [
    "# permuting an element in a Set of Sets\n",
    "# using cycle notation\n",
    "power_set_of_ab.permutation(cycles=[(0,2,3)])"
   ]
  },
  {
   "cell_type": "code",
   "execution_count": 77,
   "metadata": {},
   "outputs": [
    {
     "name": "stdout",
     "output_type": "stream",
     "text": [
      "Index Error: Index or indices out of bounds: {6}. new_order should be a list of indices i such that 0 ≤ i ≤ 5.\n"
     ]
    }
   ],
   "source": [
    "# supplying incorrect (out-of-bound) indices for the new_order\n",
    "# should give an informative error\n",
    "try:\n",
    "    set_1a2b3c.permutation(new_order=[2, 3, 1, 5, 4, 6])\n",
    "except IndexError as the_error:\n",
    "    print(\"Index Error: {}\".format(the_error))"
   ]
  },
  {
   "cell_type": "code",
   "execution_count": 78,
   "metadata": {},
   "outputs": [
    {
     "name": "stdout",
     "output_type": "stream",
     "text": [
      "Value Error: new_order specification is missing indices: {1, 3}.\n"
     ]
    }
   ],
   "source": [
    "# supplying incomplete indices for the new_order\n",
    "# should give an informative error\n",
    "try:\n",
    "    set_1a2b3c.permutation(new_order=[2, 0, 5, 4])\n",
    "except ValueError as the_error:\n",
    "    print(\"Value Error: {}\".format(the_error))"
   ]
  },
  {
   "cell_type": "code",
   "execution_count": 79,
   "metadata": {},
   "outputs": [
    {
     "name": "stdout",
     "output_type": "stream",
     "text": [
      "Index Error: Index or indices out of bounds: {6}. cycles should only contain indices i such that 0 ≤ i ≤ 5.\n"
     ]
    }
   ],
   "source": [
    "# supplying incorrect (out-of-bound) indices for cycles\n",
    "# should give an informative error\n",
    "try:\n",
    "    set_1a2b3c.permutation(cycles=[(1, 3, 2),(0, 6)])\n",
    "    assert False, \"Should not get to this line!\"\n",
    "except IndexError as the_error:\n",
    "    print(\"Index Error: {}\".format(the_error))"
   ]
  },
  {
   "cell_type": "code",
   "execution_count": 80,
   "metadata": {},
   "outputs": [
    {
     "name": "stdout",
     "output_type": "stream",
     "text": [
      "Index Error: Index or indices duplicated in cycles specification. cycles should contain only a single instance of any specific index value.\n"
     ]
    }
   ],
   "source": [
    "# supplying indices more than once in cycles\n",
    "# notation should give an informative an error\n",
    "try:\n",
    "    set_1a2b3c.permutation(cycles=[(1, 3, 2),(3, 4)])\n",
    "    assert False, \"Should not get to this line!\"\n",
    "except IndexError as the_error:\n",
    "    print(\"Index Error: {}\".format(the_error))"
   ]
  },
  {
   "cell_type": "code",
   "execution_count": 81,
   "metadata": {},
   "outputs": [
    {
     "name": "stdout",
     "output_type": "stream",
     "text": [
      "Value Error: Need to specify EITHER new_order OR cycles, but not both.\n"
     ]
    }
   ],
   "source": [
    "# supplying both new_order and cycles args\n",
    "# should give an informative an error\n",
    "try:\n",
    "    set_1a2b3c.permutation(new_order=[5,4,3,2,1,0], cycles=[(1, 3, 2)])\n",
    "    assert False, \"Should not get to this line!\"\n",
    "except ValueError as the_error:\n",
    "    print(\"Value Error: {}\".format(the_error))"
   ]
  },
  {
   "cell_type": "markdown",
   "metadata": {},
   "source": [
    "### Automatically proving sets are equal via permutation"
   ]
  },
  {
   "cell_type": "code",
   "execution_count": 82,
   "metadata": {},
   "outputs": [
    {
     "data": {
      "text/html": [
       "<span style=\"font-size:20px;\"> <a class=\"ProveItLink\" href=\"../__pv_it/demonstrations/3dc444735ba0f6e50fc65098a34240f32f871b4a0/proof.ipynb\" style=\"text-decoration: none\">&nbsp;&#x22A2;&nbsp;&nbsp;</a><a class=\"ProveItLink\" href=\"../__pv_it/demonstrations/d55ccdb15ca5f989f2fb7feee299e2bc8abb998d0/expr.ipynb\"><img src=\"data:image/png;base64,iVBORw0KGgoAAAANSUhEUgAAARcAAAAVBAMAAACeQrdYAAAAMFBMVEX///8AAAAAAAAAAAAAAAAA\n",
       "AAAAAAAAAAAAAAAAAAAAAAAAAAAAAAAAAAAAAAAAAAAv3aB7AAAAD3RSTlMAEER2zVSJ3Zki72ar\n",
       "MruaaVGaAAAACXBIWXMAAA7EAAAOxAGVKw4bAAADZUlEQVRIx6VWTWgTQRR+mzWbbJqfxV5Eiqle\n",
       "FE8pimCtNPbkQXR7UXpqoNAWtbQetAWF9lBoDhIDgq1SVPQgWrEBj1UMtP620oDgDyjGevGgtLGN\n",
       "IFLi/G4mO5uQpnPIvHx579tvZt58GwBQdkFNQ+9wQrc2bops/87axMDnbzKmthmbIXPn0EfgnKw1\n",
       "fjxDox33ONSdKFn3T5mzs0TLxOgvKeMDz7jWuyTyEzJtAKBhNCcV3QTtNwuPsnkbuPNiSo8spgTS\n",
       "s9BvOzXl1QkmRhmBTlPg7+FiQJXFvAZ4wEKuoNVU1jYixp8E3217RisTo+YhHBX4K4qZNmAxSSIX\n",
       "/3FvI2xIjC8H/r/lxLjuQCgq8FcU8xJgkTYNyaDD/W9DOzMA/vVyYnCDpQR+JzGTXVet5GE6bZlt\n",
       "YYcLu1Ms0PY9LStGf3Ewwr97VljQdShjF+O6KPITMm9UFOO6D8s8O7BK5/ARhW32uwXGqJ+HBEAz\n",
       "ib2DZKTJl1F8msmgtbavTNa46c3axARa3or8hOxGShSzPQVj1qrS1nW9y4+J9bInhqFbpuQHU+ia\n",
       "TIHXOthLbL4Avoh8TKbAj8km20AUcwXXsZFgM1rtH6GtSRqZlDmbGn0O3WTvCtZKB98Ob86pZ3w5\n",
       "gR+TBRKGKOYRKNxd6tLWqlx0Q74ALJssjTROm31nPiIf9WUhzN3lCX9sVhITyEAwL/ATsmBaEKOs\n",
       "Qh1vuZOgJ5kNsIUVDCZGWRXstqRnkI+GI/CMn2oMrtO2iEhiQjkuhvITMus2KfgpefBHOwDjgRio\n",
       "BsZgHXcShh7iYyIQuuEugNOOtylswpw7SdLeAzSRyhBqzEbFEoMhXxofk8H5KRkRo6F2Jn74HU6N\n",
       "jBCfHY/Hxyg2Dz+AQDPYZwiE2qmv3NUORtxDXpKmD8XjA6QS9Y6WoYbbn6RkdSnkMyTC/ILP+N+s\n",
       "zYMHvywbDnyazcAgEjxcKKwxrBcJx5Arjl6UBNLOPDbKiVFm+yYPkzRPoVCIkkronmmilQvTx1IU\n",
       "2hNforSEXzA9MtqLRmtImANU2YHbqyIrRjYxMYtIAwlzgCqLiVVFppVWqvy9qhQ7vh4kzAEidmsb\n",
       "zVVV1stPomQ6/4OgFimtKrUShKxWGpYpq1WRFSNGNvG8xv/AZ00H8LJZO9l/UO7/zJvaj0IAAAAA\n",
       "SUVORK5CYII=\n",
       "\" style=\"display:inline;vertical-align:middle;\" /></a></span>"
      ],
      "text/plain": [
       "|- {1, a, 2, b, 3, c} = {a, 2, c, 1, 3, b}"
      ]
     },
     "metadata": {},
     "output_type": "display_data"
    }
   ],
   "source": [
    "Equals(set_1a2b3c, set_a2c13b).prove()"
   ]
  },
  {
   "cell_type": "code",
   "execution_count": 83,
   "metadata": {},
   "outputs": [
    {
     "data": {
      "text/html": [
       "<span style=\"font-size:20px;\"> <a class=\"ProveItLink\" href=\"../__pv_it/demonstrations/c1d9b0adf04527244a0e99addac59938a4be15f80/proof.ipynb\" style=\"text-decoration: none\">&nbsp;&#x22A2;&nbsp;&nbsp;</a><a class=\"ProveItLink\" href=\"../__pv_it/demonstrations/517be89dcf2b044b2fb8aa654fc5328ea7db5c460/expr.ipynb\"><img src=\"data:image/png;base64,iVBORw0KGgoAAAANSUhEUgAAARcAAAAVBAMAAACeQrdYAAAAMFBMVEX///8AAAAAAAAAAAAAAAAA\n",
       "AAAAAAAAAAAAAAAAAAAAAAAAAAAAAAAAAAAAAAAAAAAv3aB7AAAAD3RSTlMAEER2zVSJ3Zki72ar\n",
       "MruaaVGaAAAACXBIWXMAAA7EAAAOxAGVKw4bAAADXklEQVRIx6WWTWgTQRTH3yRm06RJs+hFpJjo\n",
       "RfHSloqHWmjsyUPReFF6aqBQix80HrSCQnMoNKDEgGCrFC16EK3YgMcqBNr61UoDgh+gmNaLiNLG\n",
       "pkKREmdm3+xudvJFOofs5L9v/vubmTdvFwDIXqipubqLqdsDWzI7uKc2GPiyJGv2TnUrZo4s/fFe\n",
       "kFljx9Jab/dDIfXFC+b9S/bsoSy3+pcl/aPESH5GsDc2/FuYKVRrHM5Kw++C8ge7R/G6Exzr5pDT\n",
       "MgyVSBR6QpYHvz4uL9i2KE4xAwMBNGMwYJdh3gA8xq4g6AiRXGUY+zr4g1a9Q4bxIbEnAe6JCjBT\n",
       "KiwmeM8mbh4IQBUwtvvgqwamCSV3FjwbFWBeASxqSaNEdNHxrzIMy5xkFTBitCcCns3iMOO9N/Xw\n",
       "IdzcmXaRA/vEU5TWF6VhbFfE397DaQuM4d/VOifCnKs4si5ohrE9ghUxzrumXf1HyIbWe7+A3q6L\n",
       "EAdo4/26Qd5S/M8wG9f+Dh1GQ3WZQhjDn+RUfwLjvjWj2Z2kGWZXEkZ03pR+XB+IbcJcdoaZdC8k\n",
       "1YNJbQTeuATu5kIYw5+WFHETroJmNt4JZpgbzAFbHK90tn9Nac3D+IXMWmhcswGRk3zNslLOGP50\n",
       "R3xh7GbQzBtXzTBPgYjqUo8LQ0fbtAX5CrASwjCeOJ3WlflE66g3DQ1avDsjwRj+dHGbcC7PdbOG\n",
       "lAmGrEH9Ko4/Ca4ElhmcYl5FGLKml1tLztA66ssKGH+zFcbkT8uMtr7gCMNtNNNPE2HB6+AJdgPT\n",
       "vWGwq0yDTbbTTHrCtolL9ITbAM4UPU3uFNsmFu+j6RggOoxa4O9Lk0n+TPgA0IJmHEahx4WXze9w\n",
       "KhrldXY0FhvRtHn4AVyaZnWGSzSdzpc62vVJWmd4PM0FJa1V44GEZmH4e5INUW7muhyLRUx1xvM2\n",
       "Nw9O9rJsPPR5Jg2DFH0on8+h1k9nyCRbjL4ouaScfaaWrDP7Y8taPPRNt2jxC1NdSS4Z/uTlNeA3\n",
       "nfl8PmguerydMAqtKmlFpNIVuJJFSTMDJqzfUEDSikhlYcpalDSzT4j3vJH7O0DSiki83FpaWzUW\n",
       "pc1c4gPBbljqIfZyEpmUYfSiXM6ijNnYXI3fwOdCRcTrodrN/gNMhwBxtW7EsgAAAABJRU5ErkJg\n",
       "gg==\n",
       "\" style=\"display:inline;vertical-align:middle;\" /></a></span>"
      ],
      "text/plain": [
       "|- {1, a, 2, b, 3, c} = {3, c, 1, a, b, 2}"
      ]
     },
     "metadata": {},
     "output_type": "display_data"
    }
   ],
   "source": [
    "Equals(set_1a2b3c, set_3c1ab2).prove()"
   ]
  },
  {
   "cell_type": "code",
   "execution_count": 84,
   "metadata": {},
   "outputs": [
    {
     "data": {
      "text/html": [
       "<span style=\"font-size:20px;\"> <a class=\"ProveItLink\" href=\"../__pv_it/demonstrations/83cbab4350da71e7e921de5475e547f2cb2107ae0/proof.ipynb\" style=\"text-decoration: none\">&nbsp;&#x22A2;&nbsp;&nbsp;</a><a class=\"ProveItLink\" href=\"../__pv_it/demonstrations/198abb6d6d7841a746ea1f48375a957d7e5214dd0/expr.ipynb\"><img src=\"data:image/png;base64,iVBORw0KGgoAAAANSUhEUgAAARcAAAAVBAMAAACeQrdYAAAAMFBMVEX///8AAAAAAAAAAAAAAAAA\n",
       "AAAAAAAAAAAAAAAAAAAAAAAAAAAAAAAAAAAAAAAAAAAv3aB7AAAAD3RSTlMAEER2zVSJ3Zki72ar\n",
       "MruaaVGaAAAACXBIWXMAAA7EAAAOxAGVKw4bAAADSklEQVRIx6VWTUhUURQ+942Ozjg6j9pESDO1\n",
       "Kdo4YrQwQXPVQui1ClcOCCr94LQog1rMYqCBQoWgLISiFhGGDrS0QFAj0mAg6AeKrDYRhU46QYRM\n",
       "5573f+99IuNDnG/Ovef7vnvuvecNALADUNUT6VVFdyV3RHZkf3Vm4OMXORbq1ndCVlvyBSdyv8R5\n",
       "jRds+wOj1rr3PeL/f8qcfejl1tBXKf5O8sh+ZHySRBbO+Mq1AsNCoZtztt09UFu24An+b1A2gyGW\n",
       "hT5DEH55Ui5YTdYnOSibiY1D9L5YettMp8E2LFgONhMqQ6JLjHfKZuKGT1JhJlqC2N8gM4eTYJnR\n",
       "SsFmtAcQ346ZFt0nqapMBmKbQWbwgP0zP80ktRl+cgrbMDPol3TNTPbfdCbVrVmCbc8lMwctlZr5\n",
       "DiPYjHbF/tp/rCiYcZV62ha9kpRZjyXVHsOqY/1zyjxXF2FUNPNm2eJOHGdY2XbC9SP0zNGXHL99\n",
       "Ha+t+beN+hW/GVeJbeiJcY8kkd3Fxe4twDVncVctt2l4KG9T2bnBOHjPkHrXlDlsDVyCaMpvxlXC\n",
       "lmIPkiQnm+xGMMbzrMdey5iuODMwo9sF+IOLWxDcRBaS9pkkqpJ0Zlwl3JF42iPJyRpHcdo0sN92\n",
       "2jPrc1o+wJ8AVg1ryRrWKNwtVuY99tHGIjSZBYyuSGZcJax8i+GRJLKmOWDr0LBmb0Qa7tCWrstm\n",
       "Krptpkyr7tOlM4N9NF6yzSRSohmPErYZq/imJJHhbWJliHX1Ag29BWglhJdYM0PcDOPgCd8mQpt8\n",
       "8+GM8jZF5/g28cw4zkkyxwz+eZTiRTZl0pKkScav9jc4nc1Sd41czuczhPAqnTcbbhgvDvXUWd5n\n",
       "CC3B98A+01DAPkOZeBbCRbMbD48DhVylWKEpS2Qk6ekzzUc/zBdhBA3XVSqVLkLhs091ArFXG0tQ\n",
       "x1+WWh5flISahwrBTe9QHl+UPBMGZlvN+cszPQUKuUrsxXWgQVNS7MC1uoTc0CmQUWAHVmcq+EUy\n",
       "10wYJOSG0gq0lRlFpoJfJAs5L+ndICEHsJSMqN0KT/sWmQp+kSxi/0QBdyAlgRDIiE3JZpymrMhU\n",
       "8EtkE4tV/gY+ZyiCN4zqyf4DzeEAcYSf6cgAAAAASUVORK5CYII=\n",
       "\" style=\"display:inline;vertical-align:middle;\" /></a></span>"
      ],
      "text/plain": [
       "|- {a, 2, c, 1, 3, b} = {3, c, 1, a, b, 2}"
      ]
     },
     "metadata": {},
     "output_type": "display_data"
    }
   ],
   "source": [
    "Equals(set_a2c13b, set_3c1ab2).prove()"
   ]
  },
  {
   "cell_type": "markdown",
   "metadata": {},
   "source": [
    "### Testing the `deduce_as_superset_eq_of()` method\n",
    "\n",
    "The deduce_as_superset_eq_of() method has the following format:<br/>\n",
    "    <div style=\"width: 50%; border: 1px solid green; padding: 5px; margin: 20px; background-color: gainsboro; font-family:courier\">deduce_as_superset_eq_of(self, subset_indices=None, subset=None, **defaults_config)</div>\n",
    "where one supplies either the <font style=\"font-family:courier\">subset_indices</font> OR a <font style=\"font-family:courier\">subset</font>, but not both. <font style=\"font-family:courier\">subset_indices</font> is a list of indices of desired subset elements of the original Set, and <font style=\"font-family:courier\">subset</font> provides the desired subset as an actual enumerated Set. In using subset_indices or subset, either one, the proffered order of subset elements is preserved in the derived subset relationship."
   ]
  },
  {
   "cell_type": "code",
   "execution_count": 85,
   "metadata": {},
   "outputs": [
    {
     "data": {
      "text/html": [
       "<strong id=\"set_12131\">set_12131:</strong> <a class=\"ProveItLink\" href=\"../__pv_it/demonstrations/672e9eb85899f16e7874eb49a66d2c74831e0b780/expr.ipynb\"><img src=\"data:image/png;base64,iVBORw0KGgoAAAANSUhEUgAAAGsAAAAVBAMAAACzuQ2OAAAAMFBMVEX///8AAAAAAAAAAAAAAAAA\n",
       "AAAAAAAAAAAAAAAAAAAAAAAAAAAAAAAAAAAAAAAAAAAv3aB7AAAAD3RSTlMAEER2zVSJ3Zki72ar\n",
       "MruaaVGaAAAACXBIWXMAAA7EAAAOxAGVKw4bAAABdElEQVQ4y2NgYGBUYiAFcEZCaBNFkrQx3HkI\n",
       "Ilk/AgneQphZHX4XoEy42LSMRzAt1wWAxBsQi62AgUGm5SNUfB4D2ycICy7G2MAQHwBhnfAHaUuH\n",
       "aWNghmk7ycCwCsqEiTF/ZZB3gIrZ49C2XoDh/ARUbUyLGPgJaTvOwHD+Aqo2IIjfQEAbENQzoGtj\n",
       "qmbA0MbhgKqN9zO6Nl6bsyjarECsWRtQtbEfYMB0ZACytvlA3hwnNCV9DJjauD4ia2M8EsDA2yeA\n",
       "ooT7ALo23gsMfF+RtbGBbOI7gKItjIETLQL4P6JpixdADklGsNEJDMwCjHBtIBbXAZAjBRDasuAR\n",
       "wPaTAZIUpnd0tEMTBUyMewMw3hi/gLXlT0CON55TX04zsIOSbv3//18gLISYRgcwKZeD7Dmz3mcD\n",
       "cnSDQSADHharAFwMTVsCAx4WGwOqNuYFUB6jAQMeljBCWws4Y8IClxkujo0F18/AuBpMzThKWlmS\n",
       "A0xbANZXbZU2JsAHAAAAAElFTkSuQmCC\n",
       "\" style=\"display:inline;vertical-align:middle;\" /></a><br>"
      ],
      "text/plain": [
       "<IPython.core.display.HTML object>"
      ]
     },
     "metadata": {},
     "output_type": "display_data"
    },
    {
     "data": {
      "text/html": [
       "<strong id=\"set_1a1b2a\">set_1a1b2a:</strong> <a class=\"ProveItLink\" href=\"../__pv_it/demonstrations/dd4f40b5afb6a3f12b201be279c89104df2f74b80/expr.ipynb\"><img src=\"data:image/png;base64,iVBORw0KGgoAAAANSUhEUgAAAH8AAAAVBAMAAACd/CwcAAAAMFBMVEX///8AAAAAAAAAAAAAAAAA\n",
       "AAAAAAAAAAAAAAAAAAAAAAAAAAAAAAAAAAAAAAAAAAAv3aB7AAAAD3RSTlMAEER2zVSJ3Zki72ar\n",
       "MruaaVGaAAAACXBIWXMAAA7EAAAOxAGVKw4bAAABs0lEQVQ4y2NgYGBUYiAPcEZCaBNFMg1guPMQ\n",
       "RLJ+BJHXBTCkeQuhDLnlMCs7/C6gKHkDItgKgL444Y9hgEzLRxjTA0rPY2D7hKImHWYAA4M9pguY\n",
       "4QZ8hdInGRhWkWMAE4yxXoDh/AQyDICoAILjDAznLxAyYE7yZHQDWA7bBMC01KMoAxvA4YBsANNK\n",
       "hvcCaAbIOzL+hMXMZxRlViD2rA3IBkhtYGhHd0G8AMNiKJP9AIqy+UCXzXFiQDagn4GhDN2AFgaG\n",
       "b1BmHwOKMsYjAQy8fQLIBqxjYPyEbkAZAxM0IrmhDoApYwPZzncAyQDGzwzcH9AN+MrAAWWGMXBO\n",
       "QFYWL4ASC0DE+JWBxyGSQQBmACOI8RfkZZAQbwIDswBICKqMIQsRjfkTGBi/AOnHDOENDWAWAxsw\n",
       "6OVBUXSa4QVEcnpHRztECKwMOR2cWe+zgaEcaIuM2c3DF8AsnlNfTjOwgzKUTAYwokBC9f//f4EK\n",
       "gZUhJyRwvhTAZAXiEcIwgI0Bk5WARwhqAPMCGFeYAYPFaIBHCJxCgKUELLMyIGTgLGZ8QgyMq8HU\n",
       "jKPklok5wJQMAC8Bfe6a/9VcAAAAAElFTkSuQmCC\n",
       "\" style=\"display:inline;vertical-align:middle;\" /></a><br>"
      ],
      "text/plain": [
       "<IPython.core.display.HTML object>"
      ]
     },
     "metadata": {},
     "output_type": "display_data"
    }
   ],
   "source": [
    "# some non-standard enumerated sets pretending to be multi-sets (but not!)\n",
    "set_12131, set_1a1b2a = (\n",
    "    Set(one, two, one, three, one),\n",
    "    Set(one, a, one, b, two, a))"
   ]
  },
  {
   "cell_type": "code",
   "execution_count": 86,
   "metadata": {},
   "outputs": [
    {
     "data": {
      "text/html": [
       "<span style=\"font-size:20px;\"> <a class=\"ProveItLink\" href=\"../__pv_it/demonstrations/c63e1e3611ab15bb1921ada3371425faf29ed4e90/proof.ipynb\" style=\"text-decoration: none\">&nbsp;&#x22A2;&nbsp;&nbsp;</a><a class=\"ProveItLink\" href=\"../__pv_it/demonstrations/4f0130b51bef6ed2f0a0abc7dfa49edf52a062ba0/expr.ipynb\"><img src=\"data:image/png;base64,iVBORw0KGgoAAAANSUhEUgAAAM0AAAAVBAMAAAAX/3cYAAAAMFBMVEX///8AAAAAAAAAAAAAAAAA\n",
       "AAAAAAAAAAAAAAAAAAAAAAAAAAAAAAAAAAAAAAAAAAAv3aB7AAAAD3RSTlMAEER2zVSJ3Zki72ar\n",
       "MruaaVGaAAAACXBIWXMAAA7EAAAOxAGVKw4bAAACjUlEQVRIx5WWP2gTURzHv2eaNLFNOHRxEIwu\n",
       "gjhkKA5ZLKGDgsi5CIJgXAyIQ50ORIxCwAwlHDhYrFhnK6S7S8CqaCMN6CCoYPaCViOiYuO733vv\n",
       "fu+Su6S94e7Hu9/nfe79+yUArCPYzZW5ENW6Lz8WmDm8Y0cHlodP3eEXiZI9mMaXBJJb4pa9ruX1\n",
       "sx0VXWkE3/hBPZtzruhvc9hzyTZRmcYoAal54GBtSzU/Quq7jA4g+VMn31TPG78ui3uFYst13VsF\n",
       "9aISQmUaoxXtQUJ7XgNPZHTSsXp6VrSnFXSqxjzTYQ+jLWNCYzxNGxtybo/loT0fz8R4YJ1mD6OG\n",
       "h9AIzytgQ30jkn9VUI714D17GDU85RiPuKo6OLqqxu5pz/qJtwOeCc9UV800Rultejbsyf5Qwbu2\n",
       "GtgStKeLZbEHi4Yn5dCjFkJlGqMEPFgNeyaDUev9Vg48QE6MftlhT5o6zKwMoH4aoz7wsISwp8Gd\n",
       "NOkUTHmGJ/1bLP4aiyZIs5YfQP00Rn0g27BDnin9TZ+Br9TfPWhPbhbpf2KuSvwpF+Vh7JqoSmOU\n",
       "gFwr5DmPjFzavq08x9vtPy+pae88pr/Jw68XU9WRTRNVaYwSEOw3i8AyEjZFT/15s2Q3IqZU0ccX\n",
       "4CpXz4bH+zpAZZodoBIgT0rM5yF/492v1+/K6Jl/figCtkG1IXMbRdusO6cco+4EKKXpYrJtnp/p\n",
       "N711TPpzUO33ezLaUxd1lCI0+s9BlXFx4c7A+TE8jFKaLKU+apxTus5hRJS0Q51GeMYA7CljRJTC\n",
       "zjyxQOKxrokFjIj2M1YL1sd1VSUvjgcy+lcmwcU8IipwjV4ZHk9QIkYAiy929//gmhPRuOCMBv4D\n",
       "Cs/VOnQ0FJIAAAAASUVORK5CYII=\n",
       "\" style=\"display:inline;vertical-align:middle;\" /></a></span>"
      ],
      "text/plain": [
       "|- {1, 2, 3, 4, 5} superset_eq {2, 5, 4}"
      ]
     },
     "metadata": {},
     "output_type": "display_data"
    }
   ],
   "source": [
    "# deducing as a superset_eq of a set of literals\n",
    "set_12345.deduce_as_superset_eq_of(subset_indices=[1, 4, 3])"
   ]
  },
  {
   "cell_type": "code",
   "execution_count": 87,
   "metadata": {},
   "outputs": [
    {
     "data": {
      "text/html": [
       "<span style=\"font-size:20px;\"> <a class=\"ProveItLink\" href=\"../__pv_it/demonstrations/d7bb4a42489a5953c286645a1cda25fd873f2be70/proof.ipynb\" style=\"text-decoration: none\">&nbsp;&#x22A2;&nbsp;&nbsp;</a><a class=\"ProveItLink\" href=\"../__pv_it/demonstrations/3dbf65951c4b725c8a18f160ba8f6a33e2a7651f0/expr.ipynb\"><img src=\"data:image/png;base64,iVBORw0KGgoAAAANSUhEUgAAAN0AAAAVBAMAAAAwUfbwAAAAMFBMVEX///8AAAAAAAAAAAAAAAAA\n",
       "AAAAAAAAAAAAAAAAAAAAAAAAAAAAAAAAAAAAAAAAAAAv3aB7AAAAD3RSTlMAEER2zVSJ3Zki72ar\n",
       "MruaaVGaAAAACXBIWXMAAA7EAAAOxAGVKw4bAAADEklEQVRIx51WXUhTYRh+jmvHnbnNAwWFCLNu\n",
       "Cm9UjKAiGkIXQcW8KbxqYBlUkkE1LwJHGA6CNZCyQiroqowadGmR4E/0Qw6CIigyvCoKNedFRKzz\n",
       "/X/um0v8LrbX532/53nP3p8jAGsL1nSuZcuAFcicDva9ffPa9MJvXROsRPbpK/n0L5C7Z8100ofy\n",
       "LOXvPQLqyjRoEZEx4xIlU+dG/0/9zx/kw/bY6vsXjKu3Yf9i1roUhzbBv6RF2CyPjclkcnY5JPKb\n",
       "wRk9wRMyxGfqvQQeMKs2zqG9catg6pEzeLCcXiiL4N3V6j12Mc06oknUqbEBK+hhQ7aMXnABod+r\n",
       "1XsBTOdVGK/PnxX0wrFyz9eD0N//6A13Dkp/H/s60DopkK05bnTuzi8n36/0nKmdzQKunue5tT7j\n",
       "eoGYrld1H3Pi5wsvsv4suFE+au/esCfGUDwwA59em+OQZI3ZiEz/C1N2ziMD7CLmrZyuV5fDgMxt\n",
       "TPR4UOQr+vMCgRy9WS9BkFkjCMgnv8ipErgH3PEab7gNut5VwsVPBiLn2oTWRQRi4fX7lB6tHyUL\n",
       "zBN6fneG09Jr1kQc4Yyr6z2CxacONWMytyY2EZ+BOWoFGc0xNVx+GkzJPGdUOJ5KWlrENrElhJ61\n",
       "iBpeYRyGk+Xjx9JD0eV60ebSZfLBlSvHcz4XWSRwk9OSc9TV+9MijiWEYh0geDgBn0uw2rxXEWLg\n",
       "Ifk9KeSVqQG27Bdr2zc1ItE4JvxZeuE90ELJvDGqAk7KFra9sYySEsziSCpFt8hQOj1AsVAukmLO\n",
       "UTJ/xPLKYue1fXbusjaSkWZ/b4CGOb3pdA8l81qhW5u/0KvCa1STnV2/4+N4Hkkvp75isUAxa+oK\n",
       "mLMq7e1ranWNtpQOt9SzxruH99Cw6mKxGKNk9qknrj7v9LSr6rsGppztKLucS6F2k6xEL6GuwcAS\n",
       "JlRZL2GSUT25JSy5hLAepZhyKisQk++jZJINj1o5KkySoZ+uGrElfCpNGeszDM2qy5kv6SUzTGU6\n",
       "wl7Ck2v7f+J6uXsVyJzT3uz+A9cG1FGPIlPBAAAAAElFTkSuQmCC\n",
       "\" style=\"display:inline;vertical-align:middle;\" /></a></span>"
      ],
      "text/plain": [
       "|- {1, a, 2, b, 3, c} superset_eq {a, 2, c}"
      ]
     },
     "metadata": {},
     "output_type": "display_data"
    }
   ],
   "source": [
    "# deducing a subset of a heterogeneous Set using subset notation\n",
    "set_1a2b3c.deduce_as_superset_eq_of(subset=Set(a, two, c))"
   ]
  },
  {
   "cell_type": "markdown",
   "metadata": {},
   "source": [
    "### Testing the `deduce_enum_subset_eq()` method\n",
    "\n",
    "The deduce_enum_subset_eq() method has the following format:<br/>\n",
    "    <div style=\"width: 50%; border: 1px solid green; padding: 5px; margin: 20px; background-color: gainsboro; font-family:courier\">deduce_enum_subset_eq(self, subset_indices=None, subset=None, assumptions=USE_DEFAULTS)</div>\n",
    "where one supplies either the <font style=\"font-family:courier\">subset_indices</font> OR a <font style=\"font-family:courier\">subset</font>, but not both. <font style=\"font-family:courier\">subset_indices</font> is a list of indices of desired subset elements of the original Set, and <font style=\"font-family:courier\">subset</font> provides the desired subset as an actual enumerated Set. In using subset_indices or subset, either one, the proffered order of subset elements is preserved in the derived subset relationship."
   ]
  },
  {
   "cell_type": "code",
   "execution_count": 88,
   "metadata": {},
   "outputs": [
    {
     "data": {
      "text/html": [
       "<span style=\"font-size:20px;\"> <a class=\"ProveItLink\" href=\"../__pv_it/demonstrations/c63e1e3611ab15bb1921ada3371425faf29ed4e90/proof.ipynb\" style=\"text-decoration: none\">&nbsp;&#x22A2;&nbsp;&nbsp;</a><a class=\"ProveItLink\" href=\"../__pv_it/demonstrations/5a3afdf99c69510d681b7e0056d017fe6f4bf6b80/expr.ipynb\"><img src=\"data:image/png;base64,iVBORw0KGgoAAAANSUhEUgAAAM0AAAAVBAMAAAAX/3cYAAAAMFBMVEX///8AAAAAAAAAAAAAAAAA\n",
       "AAAAAAAAAAAAAAAAAAAAAAAAAAAAAAAAAAAAAAAAAAAv3aB7AAAAD3RSTlMAEER2zVSJ3Zki72ar\n",
       "MruaaVGaAAAACXBIWXMAAA7EAAAOxAGVKw4bAAAC3klEQVRIx32WTWgTQRTH/9s0H2uTuOBFJWD0\n",
       "oCAechClPWgpiheReBE8GUEUpIf24qJUWqFgDhIDogYVqydBiwnoRbwUv7XRBPQgWKEFoRehViPi\n",
       "Z5zPfZNsNnPIvp2Z//xm3r73JgCsDQhsF4sdOrsJOjT7oHxuXW90JoA15usbxy9sEXRvdVhFzC1w\n",
       "M7zMkPl9dTmworFn1INMAMkZn5YLkNCzSGofLaT1nPfqWd7lso1+5mZkBLiOyFc5EC2f8E4QnZGj\n",
       "ou1wXfc0tCA1uaz6Sboa4e9aOqaep34cZr/HtOwlcFsOxI2Nbzc47/q9btEV0hyS7sxaDdUZ0hzp\n",
       "DY9TdlArtnMS94ljnUQAh6Sb09CcD3s7c54DtXo7J9JLnHg6iENS9uV+KyMXwGFtXPnt3rBW9Ruc\n",
       "XgRxSApsqii3FTVndttrzYkNCid9kwNJx1af1a5wTuiGeJkzOEJgcLQUb6tqi1ehOQuYYp4Y4OaV\n",
       "io4t1RbVtsE5tgyhawZHCAwOSXW85TwO2zg7/VSWrTAkXgu0znn5WR8IDlK7xVo0LAUGx5CWRU70\n",
       "FQ1O7CeLoidZJAp8rE/v6RPjiNPbGck5IiIgViE3CQFxPOlHYCnLjQvQnOQgYn+Za/jWRMYfgC1P\n",
       "cYuFjzB6qtXadE4mP2tDtGkhII4nbTqKs6Va/fVMVpcRxL8AhxwVPokcQo4lXYu7sFQN4vEm4wCp\n",
       "R44v3sQ0kk5zvykps8XabJF54LiWXc7nz2Idj6MSQjelBaycN+rOxkWz7iDC3C6mkfQhzx8l/QdR\n",
       "G+wJDDhG/ow3mw1ER0VZfOFIC7GlPxnitOZP/FVjVk4jaU+e1VEpLTQfgxdQlM6dactT1vbDbwVw\n",
       "ggWeFaYbpY2Tg9/qyukk8KwIWjkq49lnzcBnqWqBmOt690JXAVmriDMpEkVfGiGvnyysrfjv4W4C\n",
       "smiv1h3xKD0NvncvdRrrJuj0/2CYZdV/ORHYIAc/hxkAAAAASUVORK5CYII=\n",
       "\" style=\"display:inline;vertical-align:middle;\" /></a></span>"
      ],
      "text/plain": [
       "|- {2, 5, 4} subset_eq {1, 2, 3, 4, 5}"
      ]
     },
     "metadata": {},
     "output_type": "display_data"
    }
   ],
   "source": [
    "# deducing a subset of a Set of literals\n",
    "set_12345.deduce_enum_subset_eq(subset_indices=[1, 4, 3])"
   ]
  },
  {
   "cell_type": "code",
   "execution_count": 89,
   "metadata": {},
   "outputs": [
    {
     "data": {
      "text/html": [
       "<span style=\"font-size:20px;\"> <a class=\"ProveItLink\" href=\"../__pv_it/demonstrations/ee44f9b39143bd52d5367800d14513a620d988880/proof.ipynb\" style=\"text-decoration: none\">&nbsp;&#x22A2;&nbsp;&nbsp;</a><a class=\"ProveItLink\" href=\"../__pv_it/demonstrations/d7872ae10ec5caeb07402670ea6c08f9161926040/expr.ipynb\"><img src=\"data:image/png;base64,iVBORw0KGgoAAAANSUhEUgAAAMkAAAAVBAMAAAAeFNdiAAAAMFBMVEX///8AAAAAAAAAAAAAAAAA\n",
       "AAAAAAAAAAAAAAAAAAAAAAAAAAAAAAAAAAAAAAAAAAAv3aB7AAAAD3RSTlMAEER2zVSJ3Zki72ar\n",
       "MruaaVGaAAAACXBIWXMAAA7EAAAOxAGVKw4bAAACk0lEQVRIx31VPWgUQRR+6+X29pL7GbAROdho\n",
       "oWBzK5FglMhxIIhYXCpJ5eGJB6KgjauFsEUghWAOxB/kQFsR5PoUikmulC1sBIuIhSCCiUkqG9/M\n",
       "m52dvdndV+y9nfm+983sfG8OAKzjkBXPBimDOfiUKC/T75ljmZDqZ2YO5uDT4tt3/izu6uv8dTcB\n",
       "qX00WAm8QaDFXQ60t9/8YSdgU0ECryYv+L7/CEz8JIGi3tFe+iYrMR9PflkwhVMJFE2Wr9JkaSrW\n",
       "Q8hSaaacHBXOUelDmkplNlOln3bilzJUeudDMXRlbks6cLzgqZJTk8LD3lP5qgiqRHm8eCCt0TvL\n",
       "pIrTwseLjrMtxveZSz1yalBDMxXekBs1FY4/9Bb+0JeKCVEJyeRxMqx2Ac7x9NUIH/dh2pM2pcR6\n",
       "Bw4uukyrGmoqHH90BKvK10RQJTizRZv6BwX81K/RH8M2X99uvNB6VyQ7UOJJ4yJ/K8UiAr/Gi04Q\n",
       "VAnJxGbbm7vOZTc7UH2CW5/elhCcbwpr4ojLj/yGOHdnFHccx78H669JoIiYaHJqabst29v1Yvev\n",
       "iQ+OIx+0Rm8nrgNrD2Z2TAKFZPI5GrrGpGfquNZZi0+E+Fl54nZgszgAm04fGp+Y5jHrACqtZWA6\n",
       "QZUgpkX7BNznrciZ6A47dPHMKqNaADypecUHjtYcJ37qN8wPuBoE1j5oBFWCmDybacGRgd4vN9dP\n",
       "Q+kentT4MVCycWe4aLRghG/Mf90IwWcaIS4hmGJoft0ze3/JSLJUpItZDnMp64bpGkm+ig05zG5S\n",
       "RbY3btWbTCDqL8f31c2v8HAYsplajRXRofLSgQJMJqLJjb/YCA8eZDPjDD3I4+VW5r/p87SpHHza\n",
       "//5tNPN/wO+t7XM1ldsAAAAASUVORK5CYII=\n",
       "\" style=\"display:inline;vertical-align:middle;\" /></a></span>"
      ],
      "text/plain": [
       "|- {c, b, a} subset_eq {a, b, c, d, e}"
      ]
     },
     "metadata": {},
     "output_type": "display_data"
    }
   ],
   "source": [
    "# deducing a subset of a Set of variables\n",
    "set_abcde.deduce_enum_subset_eq(subset_indices=[2, 1, 0])"
   ]
  },
  {
   "cell_type": "code",
   "execution_count": 90,
   "metadata": {},
   "outputs": [
    {
     "data": {
      "text/html": [
       "<span style=\"font-size:20px;\"> <a class=\"ProveItLink\" href=\"../__pv_it/demonstrations/d7bb4a42489a5953c286645a1cda25fd873f2be70/proof.ipynb\" style=\"text-decoration: none\">&nbsp;&#x22A2;&nbsp;&nbsp;</a><a class=\"ProveItLink\" href=\"../__pv_it/demonstrations/b1e8ce4e578271d50359442396f4b900437843800/expr.ipynb\"><img src=\"data:image/png;base64,iVBORw0KGgoAAAANSUhEUgAAAN0AAAAVBAMAAAAwUfbwAAAAMFBMVEX///8AAAAAAAAAAAAAAAAA\n",
       "AAAAAAAAAAAAAAAAAAAAAAAAAAAAAAAAAAAAAAAAAAAv3aB7AAAAD3RSTlMAEER2zVSJ3Zki72ar\n",
       "MruaaVGaAAAACXBIWXMAAA7EAAAOxAGVKw4bAAAC+UlEQVRIx51WS2hTQRQ9k5jPS/PDLgQR0roS\n",
       "N41UBItiqNuicaN01YALRa2Ni5qCQrMoNKC0DwStUmzRlRbagFvFYj8qVJqVHxBsdSGIYmubhYjE\n",
       "mXkz783LJKn0bWbmzL3nzJ079/IAkL2o9xndtdCdLdjOJ8kOtta3+biqY97O+Lb0BJlv3XWIwomS\n",
       "uv6uu/UwuXe65tjQD2tCvmUFdPv8Z43Mn1Wh+/D/UtfnZFBfc7lcSULk1UlNz1hBn7joHXkhnEdP\n",
       "uprMrfcaeFxDL3LcdEPHNL2widCkNY0JEW8ZiVRjvZk4lk1db5eJrfRC6wj/tqZtYtPzALEt9F4C\n",
       "yyVd7wW21AtnEf7rTgJLdrGm3vjZWzY6KEZ/+zPbNVVXz1g8nJQ7gTVr7GpfEIjnmkYWpFyeR/gp\n",
       "CSIbgqgfI0CHhc0qekMuvf1m1H7gnyxlshlPWPcfOfJGI7tHI95dxLB9SMEdyOAhMMFTbyh6xpSq\n",
       "R6YQtBNy3RpohYVkzOJ9OmTjnXQ5ClyVTiNiHOWMZJ47ODk25ltUveAa4xLzFTGmEMs4r8hNFhmh\n",
       "02kQWXVNMpRp6947+XDDie/9qqoXWkFCtrensG+mjZ8yUkK0XE0WnQXZQJNINU7D4HdPNpxmQiu4\n",
       "papLSL1EEs8F7svgriw/K57YutBTyej7JGWEU91gq0gG3jhhm3/oMwIuiDQttervk9kn0pj3mdzh\n",
       "LXCAY7ESzSqDQrPsPuNuMlYPX3AmnyebdHWnUBi2mgLNY69TSp7Laj8D+kxw+2jSNxDkDsZAoZDl\n",
       "WLgYzXOoqUjrj0MKGdPbc+jDXAk5epLBSmUTgSsMv/gk7ipdNb6lma4itydzveNHuUOgUqmkLGyR\n",
       "pptz7CvQfs0ghczpLz67Z5zS+nWNFq7YOw41OByoSs9vu2f+S8+xdxz8jSDu6Z2Uy2Y5IUl3MwGG\n",
       "czk7fx2aveLQ3ACyyIyyXNoWXodoSo9vIl1trzgkG0CCbGyh/i/HpXQN8GZ6e/8vjOwfn/rK2ihz\n",
       "yn8AAAAASUVORK5CYII=\n",
       "\" style=\"display:inline;vertical-align:middle;\" /></a></span>"
      ],
      "text/plain": [
       "|- {a, 2, c} subset_eq {1, a, 2, b, 3, c}"
      ]
     },
     "metadata": {},
     "output_type": "display_data"
    }
   ],
   "source": [
    "# deducing a subset of a heterogeneous Set\n",
    "# using subset notation\n",
    "set_1a2b3c.deduce_enum_subset_eq(subset=Set(a, two, c))"
   ]
  },
  {
   "cell_type": "code",
   "execution_count": 91,
   "metadata": {},
   "outputs": [
    {
     "data": {
      "text/html": [
       "<span style=\"font-size:20px;\"> <a class=\"ProveItLink\" href=\"../__pv_it/demonstrations/157f6c1d1904fb7410aecf09ef4bde6f96fa13710/proof.ipynb\" style=\"text-decoration: none\">&nbsp;&#x22A2;&nbsp;&nbsp;</a><a class=\"ProveItLink\" href=\"../__pv_it/demonstrations/d224c2631e51b7bcac894a79ed43772e3e661e9c0/expr.ipynb\"><img src=\"data:image/png;base64,iVBORw0KGgoAAAANSUhEUgAAATcAAAAVBAMAAADRH7SIAAAAMFBMVEX///8AAAAAAAAAAAAAAAAA\n",
       "AAAAAAAAAAAAAAAAAAAAAAAAAAAAAAAAAAAAAAAAAAAv3aB7AAAAD3RSTlMAEER2zVSJ3Zki72ar\n",
       "MruaaVGaAAAACXBIWXMAAA7EAAAOxAGVKw4bAAAC/UlEQVRIx51Wz2sTQRj9Jk3SpDbJUg+CBDf1\n",
       "6KUBRbAoxIjgwcN6kp4aUIgUlXppPOZQ6KFiF0QRCSh4EAlI/gPFJL0okqOCB8WDIoKNNoIHwZ1v\n",
       "fu5smk4ykNfsm+97+3ay86YAQI4CBzru+6CNuYIi00swZGDFXCE8aaFmkmqglNA7MS+Ajsw7R9VN\n",
       "lR2N/Pg56g0rKIQmbdQMUhsoxfQSfQFsZF+psmUHyPdVSf6Imlt2BGiTdmqagBxHnsn7ICRXBbCh\n",
       "fYVq8InXJVkVT/u1Vqv1ZIUGEYkRaorUxoWw3n7mcp5pLnPOD2uPYU5TG2puMJ65Bcc0d8iHic1p\n",
       "asPMxfrjmVNFQug1TG6uCiPNafcxzKW3TxWjnRePdw1zJStz+6ppAo0r99hVvH3a0/VSJQHH/Gyw\n",
       "qlNPVOd6EFm7jutzcpG9ctpeoxUcFhVpp6YEYs/hJ9u07lnyl0shPGpxIE1IBY+UHqg4bGIszBQ5\n",
       "+dhDVjNHKxjwSQBrNSVwuAUbMliecikKjTJwSO3AdCX4mz8vGjsFXIVchZOkgwbUj4IVCHLSXk2S\n",
       "sAWwJtfxD5eikLkbLCjCzCdwaelVeZ68D1I6uMOCx8lkGelNtXK0goGYBGs1JfACyC92uQaxAZdC\n",
       "wLim4BbhZTjeaUoHwbTlcJKnebwQquCgRb2dmiTJbziwI2Iu1dePHblbXQ86CR+S+LYSsZVyveDt\n",
       "4eQKP9bfzg/ZrWzSAWs1SZIBzJaWsPUfff+Y1EooSrLFxO2U2OduiXfOtrJ18/iK3dzr+CK7YK0m\n",
       "SfgCl+t1bH0D34bnHGnfaJwRndO3xGNtb0bO1hE5V3Os1SQJ+ZMf2j1szV9r2ZwQl0JurM0lHGs1\n",
       "g2StYHV8VSYzlwRrNYNkrYYoxrWW2RjvQIqh1GfkOrvYqNXkO6fCnE0eBGs1g2StxrGDca1lNt0u\n",
       "gT6EUh9J0oyunAxzPlkEWzWTZK0g7sP1HnYF0PGgq/87f8dTZPq6FzWHFQGEJy3UTFJjqBTCfxQ7\n",
       "NW7TJgZbAAAAAElFTkSuQmCC\n",
       "\" style=\"display:inline;vertical-align:middle;\" /></a></span>"
      ],
      "text/plain": [
       "|- {{a}, {b}} subset_eq {{}, {a}, {b}, {a, b}}"
      ]
     },
     "metadata": {},
     "output_type": "display_data"
    }
   ],
   "source": [
    "# deducing a subset of a Set of Sets\n",
    "# using subset notation\n",
    "power_set_of_ab.deduce_enum_subset_eq(subset=Set(Set(a), Set(b)))"
   ]
  },
  {
   "cell_type": "code",
   "execution_count": 92,
   "metadata": {},
   "outputs": [
    {
     "data": {
      "text/html": [
       "<span style=\"font-size:20px;\"> <a class=\"ProveItLink\" href=\"../__pv_it/demonstrations/ac93354a74c2c9d1dc080aaa7e0a3f16adbb10130/proof.ipynb\" style=\"text-decoration: none\">&nbsp;&#x22A2;&nbsp;&nbsp;</a><a class=\"ProveItLink\" href=\"../__pv_it/demonstrations/fb0f64b1da60c92ef3e3fba37fa0c11799a641640/expr.ipynb\"><img src=\"data:image/png;base64,iVBORw0KGgoAAAANSUhEUgAAAOEAAAAVBAMAAABCnpRGAAAAMFBMVEX///8AAAAAAAAAAAAAAAAA\n",
       "AAAAAAAAAAAAAAAAAAAAAAAAAAAAAAAAAAAAAAAAAAAv3aB7AAAAD3RSTlMAEER2zVSJ3Zki72ar\n",
       "MruaaVGaAAAACXBIWXMAAA7EAAAOxAGVKw4bAAACs0lEQVRIx52WzWsTQRjGn802ya5twmIPQgkm\n",
       "9egpBxEsijEieBBNL0pPBhQq4ke8dL21h0ICSl0QP5BgCx5ECzb/gcHEzxabmwoeLB70INi0ieBB\n",
       "6s7u7MzszgZr5rA7eT+eX2bnnXcXgLIHPccdK8y6M4O+hj7h3veN9o5JvDdko5o3+iPi8xq5RttE\n",
       "+VoIjdiSddlxlgA/hFA92+7H3qIqJ1u+iB/kEisBqdm2lO7aiNdd2DfTNN30SXsn3pySiILtOL0/\n",
       "RGzDFzPpEaG2Qx6eSEwctfxph0PWyGxden8LPO2XuMvC9okRT23JwKrVJ/EF/oPItuI1sNr6F7F6\n",
       "7nYYMdeTqL86kA0QBxoHC17wtE/XSdVyIjHyBD8NgaguuNsoluysj7jXSrYDxPQR5bdX8Js+3TEy\n",
       "f1ATiSM1lMU16m4R6AJRXxTVlUVopQDRPj6PqCle9+nO22uv5iESbwFTIhGpY86PEgc2M6K6to54\n",
       "MUC0H8Ivaprz6yrNAhJzhkh8BmXDRzzvdrQbfI0f10T1HV+QzgSIU4jQ8zFY9+vG8l5X8YjKJgbX\n",
       "RWKUOgYygcbB9iyL58Fa7UKjaaehW6Ku065YrSrE08VQbgIGr9UF+ldWRuVaJWHpAppRS4Fo+0O2\n",
       "jUwSRaiGoIuL7HTE7NpKk6L9ijMzM0oH1MaPVuSK2OWAqxacsGQ2el1zc5ltGd/dyb1KpSzoCudx\n",
       "6F1nGXHSuVP7PzVaMA1q48TAeVxZOlFzwpTG5eohN5fZUhfs+ieT6a2tjqgrdABnjDPNKGsovYiB\n",
       "MJ7LbNw5HtZznFFkjhi2ReRhPDcmO4uBVNpV7OeTZY5hNtNoeyubJtvHMTmM5w5LE0HXbVe692pR\n",
       "uYPHjNTkNc4XpDBVTs3KPtKgyLj/svdnwt0wn36z0Od3ziU78S/7+86cKF7PUAAAAABJRU5ErkJg\n",
       "gg==\n",
       "\" style=\"display:inline;vertical-align:middle;\" /></a></span>"
      ],
      "text/plain": [
       "|- {1, a, 1} subset_eq {1, a, 1, b, 2, a}"
      ]
     },
     "metadata": {},
     "output_type": "display_data"
    }
   ],
   "source": [
    "# deducing a subset of a Set\n",
    "# with redundant subset elements specified\n",
    "set_1a1b2a.deduce_enum_subset_eq(subset_indices=[0, 1, 2])"
   ]
  },
  {
   "cell_type": "code",
   "execution_count": 93,
   "metadata": {},
   "outputs": [
    {
     "data": {
      "text/html": [
       "<span style=\"font-size:20px;\"><a class=\"ProveItLink\" href=\"../__pv_it/demonstrations/27c2109b4bcc6da83e759bd610d6c0877c3a03360/expr.ipynb\"><img src=\"data:image/png;base64,iVBORw0KGgoAAAANSUhEUgAAADAAAAAOBAMAAACbXIJpAAAAMFBMVEX///8AAAAAAAAAAAAAAAAA\n",
       "AAAAAAAAAAAAAAAAAAAAAAAAAAAAAAAAAAAAAAAAAAAv3aB7AAAAD3RSTlMAIquJdkTvuxBmmd1U\n",
       "zTKBpmoTAAAACXBIWXMAAA7EAAAOxAGVKw4bAAAAaElEQVQY02NgwAb4dmAVZmha+wO7BAMLeRKM\n",
       "yo4OWCXCBNjBGlfvBoFNcAmOTAauDdh0cH1g4DbAJsFWwNAfgE2i34FhPgM2O/oPMOjyCGDRwe7A\n",
       "s4sL3Sjmj0BXqdgJ+aGJM6n91QQAV4wjtpQsiA4AAAAASUVORK5CYII=\n",
       "\" style=\"display:inline;vertical-align:middle;\" /></a> <a class=\"ProveItLink\" href=\"../__pv_it/demonstrations/7258830303bb0de032872040561bd565652052150/proof.ipynb\" style=\"text-decoration: none\">&nbsp;&#x22A2;&nbsp;&nbsp;</a><a class=\"ProveItLink\" href=\"../__pv_it/demonstrations/0d557abf2ec2566d9137f2c18af9631ab08c659b0/expr.ipynb\"><img src=\"data:image/png;base64,iVBORw0KGgoAAAANSUhEUgAAAM0AAAAVBAMAAAAX/3cYAAAAMFBMVEX///8AAAAAAAAAAAAAAAAA\n",
       "AAAAAAAAAAAAAAAAAAAAAAAAAAAAAAAAAAAAAAAAAAAv3aB7AAAAD3RSTlMAEER2zVSJ3Zki72ar\n",
       "MruaaVGaAAAACXBIWXMAAA7EAAAOxAGVKw4bAAACv0lEQVRIx4WWTWgTQRTH/2tMsrFJGOhFJJDo\n",
       "QaF4yEGEFrQl6K1ovAiejCAKolhPUalUoWAOEhZELVqsZy0kdw+KrfWj0QYUFKxgT14EW42Iisb5\n",
       "3sl+dQ6Zl3nzn9/s7HtvFoC1DaHthhMwGCUIaKkjot+1NXxO5jXxD0YJPK0Ny8HyCjPja2y9cwpe\n",
       "O9A2J2Yf+7RcgHfEK0idqBfUnPeyb+yr0nlfmJkYA3KTa9JxF4lv5qLMy9vearV6SQ9Zzw8Sr2Az\n",
       "4j+UbFz2F38eo78n9UoxxXkB3A/ivB30DA0Tr2C4bHXklJjiiNMI4DQIlhw/x7qAEI4rGChAcT6M\n",
       "rsd5Biy1/Zx0IYxjCuJ/pFFZl0PbhHytC4NFzdmIMI4rAHY05bE5irO4+5Xi2CO9nMx30Q84WToY\n",
       "u8f/LBscLjA4SoA3Lflgd6A4K5ihJzHEzNvNXk5SPKv1ADbdeEqE0LTB4QKDk9Shr+Ktojk0Megi\n",
       "M2W6Qgm9nLrc9SqSFdrn9vO1XIwQGJy662vwwT7H4Ni/6J7ny8jUSQ+nT+5u0yfk2cs/ziPAbrrn\n",
       "ygUuRwnwEfhaZsZ1KE52BPZf+kZLKuNdzmGkeJjmi3ikkx8oeUuE5igBukRydrZavxfEZseQXgWO\n",
       "EjPeLL7bCmKEWfky5uMOEiIOkHtC/PFGTAFm2blZYs6scCb4ueCUliXoKeZZHN2q1a5yK1uMn7eN\n",
       "urP9s1l3gLMOePprAR6y/OEW8E84U5cxRIz8Sb/sLCLJaulEt9vhljV3ZnqPwfHkT6sx2gSrkVqA\n",
       "DTVaR7mFeneOOzF17UpPnvJ2CH4rjCPimERIXaeXU4HfiuQkECF1nYIjM56eVBE+SyY/7GpV3wta\n",
       "gH5ESPtdziSvY+rSiOlx18KWpv8e1rdMERFSd6+0tLA29TT83r0Z5IsSBH0fnKZZ9R8/Z8vB6+Gt\n",
       "bQAAAABJRU5ErkJggg==\n",
       "\" style=\"display:inline;vertical-align:middle;\" /></a></span>"
      ],
      "text/plain": [
       "{a = 1} |- {1, 2, a} subset_eq {1, 2, 3, 4, 5}"
      ]
     },
     "metadata": {},
     "output_type": "display_data"
    }
   ],
   "source": [
    "# what if we have a variable in the supposed subset and the variable\n",
    "# is equal to a value in the supposed superset?\n",
    "set_12a = Set(one, two, a)\n",
    "set_12345.deduce_enum_subset_eq(subset=Set(one, two, a), assumptions=[Equals(a, one)])"
   ]
  },
  {
   "cell_type": "code",
   "execution_count": 94,
   "metadata": {},
   "outputs": [
    {
     "data": {
      "text/html": [
       "<span style=\"font-size:20px;\"> <a class=\"ProveItLink\" href=\"../__pv_it/demonstrations/d4507fc351ae08bf265e376cc2e9a5f7f81d2b900/proof.ipynb\" style=\"text-decoration: none\">&nbsp;&#x22A2;&nbsp;&nbsp;</a><a class=\"ProveItLink\" href=\"../__pv_it/demonstrations/e6061f90ea9fcf18c4c0cd0c5ff0e30c3282a1e20/expr.ipynb\"><img src=\"data:image/png;base64,iVBORw0KGgoAAAANSUhEUgAAAJsAAAAVBAMAAACj9YEXAAAAMFBMVEX///8AAAAAAAAAAAAAAAAA\n",
       "AAAAAAAAAAAAAAAAAAAAAAAAAAAAAAAAAAAAAAAAAAAv3aB7AAAAD3RSTlMAEER2zVSJ3Zki72ar\n",
       "MruaaVGaAAAACXBIWXMAAA7EAAAOxAGVKw4bAAACBUlEQVQ4y5WVuy8EURTGvzHM7mKYRCcSj0KU\n",
       "Cg0RZBOdsBqJahUSIhJUExGhkNhKtvGIbBAlhfkTNmLjzRYSjYZGo1l2CxX3NXdm5+6KPcWdM985\n",
       "9zd35t5zBoDWge0kVCN6JRaZ5NeedpgPlhonekX28krHmhwZGtJKlOl4Fs+JJEazImAuCWdn9s1N\n",
       "Zmkf1DMW3YHagG3bq3B17WpM4A5gfHKvZSMnPsY64jHu8bQZBffUK1fHpUGBuwZOREAXOL2A1iGh\n",
       "DZbEacsogzuz8JgsxlUdo/FvXH1bOdwl8JgtxhGLO3/iqlEOR2wNQVzVChRcmC5YP+J77cMx3Ycz\n",
       "v4I4s/++CNdHvX264EiBqSkfjuk+XCgN9WVjftwhuUtF+fYPsykeTegebgsqrjbnx2kXMZhbbMI0\n",
       "24SwIzOFLnF16SDOzKKh4McZUbcgakRK1FseLxSJm0AkcFAacwFc3JI7eySO/Lml7iyVzCnoliZx\n",
       "1KtN05e1PNycWmSd7/4iAxaS0PLkuptIbIoiML7BvDqHnDsWZGmliix47u7ORhzY5NFrPz95hGjx\n",
       "19/kb7nXlSAtgAZ52j9wvLfIDzAOxfOC/8UZUptSPS/IcawgeAkgbNuyQYlCIdYk+3O36jV5uA24\n",
       "BdHsqM3aPQSQU3WoXrf3Mzhll70MdjIlmvVeprJ/xTypsV/G5Y5EC+N7wwAAAABJRU5ErkJggg==\n",
       "\" style=\"display:inline;vertical-align:middle;\" /></a></span>"
      ],
      "text/plain": [
       "|- {} subset_eq {1, 2, 1, 3, 1}"
      ]
     },
     "metadata": {},
     "output_type": "display_data"
    }
   ],
   "source": [
    "# Works when subset = empty set\n",
    "set_12131.deduce_enum_subset_eq(subset=empty_set)"
   ]
  },
  {
   "cell_type": "code",
   "execution_count": 95,
   "metadata": {},
   "outputs": [
    {
     "data": {
      "text/html": [
       "<span style=\"font-size:20px;\"> <a class=\"ProveItLink\" href=\"../__pv_it/demonstrations/4de1b68bbc91aed67a3a011dee5c08983fc62d6f0/proof.ipynb\" style=\"text-decoration: none\">&nbsp;&#x22A2;&nbsp;&nbsp;</a><a class=\"ProveItLink\" href=\"../__pv_it/demonstrations/c5b3e0344ea77ff1bce9e1b1c230c7c648f21e170/expr.ipynb\"><img src=\"data:image/png;base64,iVBORw0KGgoAAAANSUhEUgAAAEMAAAAVBAMAAADvM06qAAAAMFBMVEX///8AAAAAAAAAAAAAAAAA\n",
       "AAAAAAAAAAAAAAAAAAAAAAAAAAAAAAAAAAAAAAAAAAAv3aB7AAAAD3RSTlMAEER2zVSJ3Zki72ar\n",
       "MruaaVGaAAAACXBIWXMAAA7EAAAOxAGVKw4bAAAA80lEQVQoz2NgYGBUYpg6gQELEFLgjISwTBQZ\n",
       "eM8JYKpgdhJguPMQxGL9CCT4DmAqiQdpewNisRXACLDW5+Xl5RfAzHQ4gaKE1xnhKhxKxJHcjUPJ\n",
       "IQaCShywKuEACTMvgDgF2WMtIMIKRMzaACQ4v4JFOZGUcK4GkfMDGBjmOIEFZFzBVAFCxREFEMV4\n",
       "JICBtw8csClgAYZuhCk3wAHL5gQLWHAQAwGLAkLNG3gQQ3wEcS4D4xlFVB9lYUYAUx6hCGAgHHRk\n",
       "KwEHLAc05NvLy+FusYIHMThgpTZgmgIKWEZwEDPMOMow7SiWpMvZE8CZA1QGAJA6QfEcvMC5AAAA\n",
       "AElFTkSuQmCC\n",
       "\" style=\"display:inline;vertical-align:middle;\" /></a></span>"
      ],
      "text/plain": [
       "|- {} subset_eq {}"
      ]
     },
     "metadata": {},
     "output_type": "display_data"
    }
   ],
   "source": [
    "# Work when subset = superset = empty set\n",
    "empty_set.deduce_enum_subset_eq(subset=empty_set)"
   ]
  },
  {
   "cell_type": "code",
   "execution_count": 96,
   "metadata": {},
   "outputs": [
    {
     "name": "stdout",
     "output_type": "stream",
     "text": [
      "Index Error: Index or indices out of bounds: {6}. Subset indices should be elements of {0, 1, 2, 3, 4, 5}.\n"
     ]
    }
   ],
   "source": [
    "# supplying incorrect (out-of-bound) indices for subset\n",
    "# should give an informative error\n",
    "try:\n",
    "    set_1a2b3c.deduce_enum_subset_eq(subset_indices=[2, 6, 0])\n",
    "except IndexError as the_error:\n",
    "    print(\"Index Error: {}\".format(the_error))"
   ]
  },
  {
   "cell_type": "code",
   "execution_count": 97,
   "metadata": {},
   "outputs": [
    {
     "name": "stdout",
     "output_type": "stream",
     "text": [
      "Value Error: Specified subset {a, B, 2, d} does not appear to be a subset of the original set {1, a, 2, b, 3, c}. The following elements appear in the requested subset Set but not in the original Set: {B, d}.\n"
     ]
    }
   ],
   "source": [
    "# supplying incorrect elements for subset\n",
    "# should give an informative error\n",
    "try:\n",
    "    set_1a2b3c.deduce_enum_subset_eq(subset=Set(a, B, two, d))\n",
    "except ValueError as the_error:\n",
    "    print(\"Value Error: {}\".format(the_error))"
   ]
  },
  {
   "cell_type": "markdown",
   "metadata": {},
   "source": [
    "### Testing the `deduce_enum_proper_subset()` method\n",
    "\n",
    "The <span style=\"font-family:courier\">deduce_enum_proper_subset()</span> method has the following format:<br/>\n",
    "    <div style=\"width: 50%; border: 1px solid green; padding: 5px; margin: 20px; background-color: gainsboro; font-family:courier\">deduce_enum_proper_subset(self, subset_indices=None, subset=None, assumptions=USE_DEFAULTS)</div>\n",
    "where one supplies either the <font style=\"font-family:courier\">subset_indices</font> OR a <font style=\"font-family:courier\">subset</font>, but not both. <font style=\"font-family:courier\">subset_indices</font> is a list of indices of desired subset elements of the original Set, and <font style=\"font-family:courier\">subset</font> provides the desired subset as an actual enumerated Set. In using subset_indices or subset, either one, the proffered order of subset elements is preserved in the derived subset relationship."
   ]
  },
  {
   "cell_type": "code",
   "execution_count": 98,
   "metadata": {},
   "outputs": [
    {
     "data": {
      "text/html": [
       "<span style=\"font-size:20px;\"> <a class=\"ProveItLink\" href=\"../__pv_it/demonstrations/3a89e6c7da28999052f65f166abdfed49598bc2c0/proof.ipynb\" style=\"text-decoration: none\">&nbsp;&#x22A2;&nbsp;&nbsp;</a><a class=\"ProveItLink\" href=\"../__pv_it/demonstrations/04ee35bf379b5fa62eb561ab50226ecc863277b70/expr.ipynb\"><img src=\"data:image/png;base64,iVBORw0KGgoAAAANSUhEUgAAAM0AAAAVBAMAAAAX/3cYAAAAMFBMVEX///8AAAAAAAAAAAAAAAAA\n",
       "AAAAAAAAAAAAAAAAAAAAAAAAAAAAAAAAAAAAAAAAAAAv3aB7AAAAD3RSTlMAEER2zVSJ3Zki72ar\n",
       "MruaaVGaAAAACXBIWXMAAA7EAAAOxAGVKw4bAAAC2klEQVRIx32WS2gTURSG/+k0j7FJHHCjUjS6\n",
       "UBAXWYhiF1qK4kYkbgRXRhBF6aLdGCpKKxTMQmJA1KDF6krQYgK6ETfFtzaagC4EK7QgdCPUakR8\n",
       "xvucc5PM5C4yZ+bc/373njnnTABY6xE4LhV8HnYS+AznoLxuWWc8jAOrzNs3bruwSdB51GAVMDvP\n",
       "zdASQ+b21aRjWX3PsAcZAxLTbVouQFzPIqlzNJ/Uc96ra2lXlm30MzfDQ8B1hL9KR6R00jtBZFp6\n",
       "WwZ/1Du+pO5IuhKh73rOaXU99eMw+z2mZS+B29IRMxbcFsyBrTkk3Zm26uqhrTkyGh6n5KJaaOXE\n",
       "75ucHdls9owPh6SbktCcD3v9Oc+Baq2VE+42OO+OB5yHpOzN/VZGJoDDxqiK271BrdpucKyRoLiR\n",
       "FNhYVmEraM7M1teaE+0XQfomHQnXUa/VKXOOfUPik7SsEBgcLcXbitriNWjOPCaZso+bV8s6t9RY\n",
       "UNsG5zgyhbqNPBACg0NSnW8Zj8M2zk4/mQYmBsRtnta5IF/rA8FB725+M0tuKTA4hrQkaqKnYHCi\n",
       "P1nUn6QRz3Nfj97TJ8YRp3dSknNERGzCSEMhII4n/QgsprlxEZqT6Ef0LwsN35qo+ANw5ClusfQR\n",
       "RlelUp3KyOJnsTHiJgTE8aQNV3E2Vyq/nsnuMoTYF+CQq9InnoHtWjK0uAtL9SCebzIPomWffBPT\n",
       "SDrF46akzBZrs0XmgBNadiWXO4e1PI+KsG9KC1g+R/Uz0MIJs7CLaSR9yOtHSf9B9AZnDH2uUT+j\n",
       "jUYdkWHRFl+40kJ08U/K46x55Jqc2Kv6jJxG0q4c66NSmm88Bm+gKJ4/21KnbOxHu+V5Nyw09Z1A\n",
       "gWeF6IvSwsmg3Qrqo4ECzwqjmaMqnr3WFNos1S2aRkcBWStIMS4KRX80bFqJpqwut3+HOwnIor1a\n",
       "d8Sl+DT4u3vZz9dJ4Pf/YJBV1X93itV6LQxQmAAAAABJRU5ErkJggg==\n",
       "\" style=\"display:inline;vertical-align:middle;\" /></a></span>"
      ],
      "text/plain": [
       "|- {2, 5, 4} proper_subset {1, 2, 3, 4, 5}"
      ]
     },
     "metadata": {},
     "output_type": "display_data"
    }
   ],
   "source": [
    "# deducing a subset of a Set of literals\n",
    "set_12345.deduce_enum_proper_subset(subset_indices=[1, 4, 3])"
   ]
  },
  {
   "cell_type": "code",
   "execution_count": 99,
   "metadata": {},
   "outputs": [
    {
     "data": {
      "text/html": [
       "<span style=\"font-size:20px;\"><a class=\"ProveItLink\" href=\"../__pv_it/demonstrations/e0983d269696d2d341411d64e235d13f5e86a7bc0/expr.ipynb\"><img src=\"data:image/png;base64,iVBORw0KGgoAAAANSUhEUgAAAC8AAAAUCAMAAAAqRJTwAAAAPFBMVEX///8AAAAAAAAAAAAAAAAA\n",
       "AAAAAAAAAAAAAAAAAAAAAAAAAAAAAAAAAAAAAAAAAAAAAAAAAAAAAAAAAAAo1xBWAAAAE3RSTlMA\n",
       "Ms3vmVREEIndIqt2u2bn9enzePXnUgAAAAlwSFlzAAAOxAAADsQBlSsOGwAAAMdJREFUKM+Vk+sS\n",
       "hCAIhb2LSuzF93/XxZptM0d25IdTevo4QColhYuzE22sGzc3gVX9sLXpuTzUIbcuAh7SiM+C3gz2\n",
       "wwyfC6Ae7ZsbHhCpFRQsH2w/+y7t8Xi29cyREwMdNyxaaiLzB5+AF4usrOdr576vx535bRtKrEHG\n",
       "2+/oYuUciuoF1Xy/3kcV5ao6nlpjilG+A5rb9CodLrkz/KVPTnV+/X0abvcD3M9YEHQuqCU8S4EI\n",
       "Z7+rB7UUJi7JaRGf1vBKuCYfp60Fh+4wLn8AAAAASUVORK5CYII=\n",
       "\" style=\"display:inline;vertical-align:middle;\" /></a>, <a class=\"ProveItLink\" href=\"../__pv_it/demonstrations/cbb871ed1e68cd311943cffb45d90655c4ca25770/expr.ipynb\"><img src=\"data:image/png;base64,iVBORw0KGgoAAAANSUhEUgAAAC8AAAAUCAMAAAAqRJTwAAAAPFBMVEX///8AAAAAAAAAAAAAAAAA\n",
       "AAAAAAAAAAAAAAAAAAAAAAAAAAAAAAAAAAAAAAAAAAAAAAAAAAAAAAAAAAAo1xBWAAAAE3RSTlMA\n",
       "Ms3vmVREEIndIqt2u2bn9enzePXnUgAAAAlwSFlzAAAOxAAADsQBlSsOGwAAAM5JREFUKM+VkusO\n",
       "BBEMhalLUWYvff933TLZ3TFCoj9E9eQ7LZRahcVZRYOx42H5bbGY2BfZDfqiLwn0PM+Dt6YFL8QR\n",
       "nxY8GNr3NOElClmP7UPqMsqZmsYbKZS/nY0tHs+6fj2QAWURJZqjimCNd41nsii55jHcu+/nOXks\n",
       "KlOanV/iT56XIZHFQx18QdW+X+9zCrrevuU6Q90RKNdfx+31WH8nLcJ30aquX3d/DRJpaYdIOehE\n",
       "Wa/wogr2mP5jF9RWAG7Jj0183MMrPS99AMD5BlzD4w3dAAAAAElFTkSuQmCC\n",
       "\" style=\"display:inline;vertical-align:middle;\" /></a>, <a class=\"ProveItLink\" href=\"../__pv_it/demonstrations/31febd52234b043aa6524a8d3a32fcca3e2bead20/expr.ipynb\"><img src=\"data:image/png;base64,iVBORw0KGgoAAAANSUhEUgAAADEAAAAUCAMAAAATIyWrAAAAPFBMVEX///8AAAAAAAAAAAAAAAAA\n",
       "AAAAAAAAAAAAAAAAAAAAAAAAAAAAAAAAAAAAAAAAAAAAAAAAAAAAAAAAAAAo1xBWAAAAE3RSTlMA\n",
       "Ms3vmVREEIndIqt2u2bn9enzePXnUgAAAAlwSFlzAAAOxAAADsQBlSsOGwAAALZJREFUKM+Vk9kS\n",
       "wyAIRRUX3NPW///XxiTTYpgwIw8+yIXLkVEpKSw+5zQYyy+r2K87dlW1VOA7m0Bn0SJEbpHECmAY\n",
       "/tki5VA0x4DEVKmcvcyeqn8MG4/YXuP8+RAVmjZkIFtcqgPW9nHGcKeYuajKjDVh9zIFUWEfNK2T\n",
       "dmP+9+ekuTioCo9HyqDc1BTmfU6qule7aNU0t7tvh6owl6BTLlqweFBRi6AWA3CxoC1bxFULJX6k\n",
       "Lzl9BivjC10/AAAAAElFTkSuQmCC\n",
       "\" style=\"display:inline;vertical-align:middle;\" /></a> <a class=\"ProveItLink\" href=\"../__pv_it/demonstrations/f828ec17b61446b2b5667c4111733303834a59d80/proof.ipynb\" style=\"text-decoration: none\">&nbsp;&#x22A2;&nbsp;&nbsp;</a><a class=\"ProveItLink\" href=\"../__pv_it/demonstrations/8943e6dd5fdd148f6a38b9bf98e108a2624bb11a0/expr.ipynb\"><img src=\"data:image/png;base64,iVBORw0KGgoAAAANSUhEUgAAAMkAAAAVBAMAAAAeFNdiAAAAMFBMVEX///8AAAAAAAAAAAAAAAAA\n",
       "AAAAAAAAAAAAAAAAAAAAAAAAAAAAAAAAAAAAAAAAAAAv3aB7AAAAD3RSTlMAEER2zVSJ3Zki72ar\n",
       "MruaaVGaAAAACXBIWXMAAA7EAAAOxAGVKw4bAAACkElEQVRIx41VPWgUQRR+a3J7e8n9DNiIBDda\n",
       "KNjcSkLwh8hxIIhYXCpJ5eGJh6KgjadFYAvBQjAH4g9yoK0Icn0KxSRXyhY2gkXEQhDBxOQqG9/M\n",
       "m92Z3dldfMXsmzfve+/NzPdmAcA6AlnytJ9izPFPkdIyfecPZ7pUPjHTmOOfJl+/8bGwo9f583bM\n",
       "pfrBQMX8DQAVd8HXZr/4YMfcJv2Yv23GSJgSAJJaS5t0TVRs/X+yJAAkdZafpc7SQ57t9XoraVnq\n",
       "KTdHgXOydNML/3w9ay/dtBs/n5GlcyYQpotzm5KBo1NeFNK6n0g86DyR0wgQhSiNFseSGp2TTGZx\n",
       "Gjg8bzlbwr7HXOqR4/0qkmnitZiUZ1UW7r/vDfymk1KAMIREcjkWVNoAp7n6cojDXZjyJE1Jsd6C\n",
       "g0WXqKpJ7QC4/8EhPIx4TYAoBEc2aFN/YQLLe4X8GDR5fTuq0FpbKNtQ5MrMOdFZKonwX+VBE4Ao\n",
       "hERis+3OXeFpN1pQeYxbn9qSLrheF9REi8uP6ao4q4HWcdz/HVh/TABJiESSU0vbTdnerqfYvyoO\n",
       "HC3vVaMX48+BtQvT2yaARCL5GpkuM8mZGp71rMUXAjxWrrgt2Cj0wabbd4YxjlljKDeWgemAKAQh\n",
       "Ldon4D5vhMxEdtiBi3dWHlZ94ErVK9xzVHM040z+Dpd839oDDRCFICTXphtwoK/3y7W1E1C8gzc1\n",
       "egSkrN8aLKoshz4yPcvMwpf1AHpMA6gQAilMC2ue2ftLhqIWj/4wX5gCy0EuZb0wbUPJfy1tyEG2\n",
       "41lke+NWvaQCYX/pEvnDfshGajEeiA4dh3BIKqLJjV9s6A8eZCOVhhzk8mIz82/6LG0pxz/tv38T\n",
       "yfwPLwGrRyNnK+EAAAAASUVORK5CYII=\n",
       "\" style=\"display:inline;vertical-align:middle;\" /></a></span>"
      ],
      "text/plain": [
       "{d != c, d != b, d != a} |- {c, b, a} proper_subset {a, b, c, d, e}"
      ]
     },
     "metadata": {},
     "output_type": "display_data"
    }
   ],
   "source": [
    "# deducing a subset of a Set of variables\n",
    "set_abcde.deduce_enum_proper_subset(\n",
    "        subset_indices=[2, 1, 0],\n",
    "        assumptions=[NotEquals(d,a), NotEquals(d,b), NotEquals(d,c)])"
   ]
  },
  {
   "cell_type": "code",
   "execution_count": 100,
   "metadata": {},
   "outputs": [
    {
     "name": "stdout",
     "output_type": "stream",
     "text": [
      "Proof Failure: Failed to prove that the supposed Self superset {a, b, c, d, e} has any elements not already contained in the supposed proper subset {c, b, a}. Notice that this might be because the sets have unassigned variables\n"
     ]
    }
   ],
   "source": [
    "# deducing a proper subset of a Set of variables\n",
    "# with no additional information about the variables\n",
    "try:\n",
    "    set_abcde.deduce_enum_proper_subset(subset_indices=[2, 1, 0])\n",
    "    assert False, \"Should not make it to this point.\"\n",
    "except ValueError as the_error:\n",
    "    print(\"Proof Failure: {}\".format(the_error))"
   ]
  },
  {
   "cell_type": "code",
   "execution_count": 101,
   "metadata": {},
   "outputs": [
    {
     "name": "stdout",
     "output_type": "stream",
     "text": [
      "Proof Failure: Failed to prove that the supposed Self superset {1, a, 2, b, 3, c} has any elements not already contained in the supposed proper subset {a, 2, c}. Notice that this might be because the sets have unassigned variables\n"
     ]
    }
   ],
   "source": [
    "# deducing a proper subset of a heterogeneous Set\n",
    "# Will often need more info, depending on the arrangement specified:\n",
    "try:\n",
    "    set_1a2b3c.deduce_enum_proper_subset(subset=Set(a, two, c))\n",
    "    assert False, \"Should not make it to this point.\"\n",
    "except ValueError as the_error:\n",
    "    print(\"Proof Failure: {}\".format(the_error))"
   ]
  },
  {
   "cell_type": "code",
   "execution_count": 102,
   "metadata": {},
   "outputs": [
    {
     "data": {
      "text/html": [
       "<span style=\"font-size:20px;\"><a class=\"ProveItLink\" href=\"../__pv_it/demonstrations/3789e850620e6444b22305e91f55be6fd15c58840/expr.ipynb\"><img src=\"data:image/png;base64,iVBORw0KGgoAAAANSUhEUgAAAGcAAAAVCAMAAABsdQABAAAARVBMVEX///8AAAAAAAAAAAAAAAAA\n",
       "AAAAAAAAAAAAAAAAAAAAAAAAAAAAAAAAAAAAAAAAAAAAAAAAAAAAAAAAAAAAAAAAAAAAAAAeYafp\n",
       "AAAAFnRSTlMAMt0Qq5nNdoki72ZEVLvp8+P355HBiXknLAAAAAlwSFlzAAAOxAAADsQBlSsOGwAA\n",
       "AZlJREFUSMedltm6AxEMgEliH87u/R/1oNMpg9bUTT+R5CfblLHpMu0Wt41dX8abVyoS652SG77B\n",
       "YZzC3Y4DDhXqnY9zihFCBj49DsURkpBDH6IJk4Y5JuTzOI3qYaqGHGCLHCoZsPY6RwWAj0+5yLHF\n",
       "nKK5yNmkSnviy+8pRxT5NY4pdYZyomxIK6MGYY5n90o5/oQjy/vdyZXYuZtNx6FPKI+tgQGfjEJx\n",
       "b8ecQfMwY92tWcuv6IMIdNrrnLnCNtEPONxCWl/fAOFBIblXrYiHk/a54bSvXSJJ33GwWGjfRkXs\n",
       "TW3zKXa94uhcgzVX77ds4wZ98zyaumTBnVPu8/tMVddYZ+sYJS1HJZVNjIsTS6hJsjwdDyNewpib\n",
       "4RDFWzrLO/S9DnTbYimYxCdNENIlPAgmMlPeS0vkBZVoz5eu65rIRkmuTlv4wQkHSWluSGUHsI9f\n",
       "iGXJSpT0tXMKX7T4718aPPBy7nhcET3hSFxS1kuiOceEXqb6cYxqRfQYJf0F/IAdO+HA5wiD1s0G\n",
       "8PijSf6d/wf6ZvYPdosNAYB88YIAAAAASUVORK5CYII=\n",
       "\" style=\"display:inline;vertical-align:middle;\" /></a> <a class=\"ProveItLink\" href=\"../__pv_it/demonstrations/07b7426ecedc84ff0b41099939bf4f4ba81598830/proof.ipynb\" style=\"text-decoration: none\">&nbsp;&#x22A2;&nbsp;&nbsp;</a><a class=\"ProveItLink\" href=\"../__pv_it/demonstrations/0963a8820291c8faaa0cf35e9b0df5dacb496c8c0/expr.ipynb\"><img src=\"data:image/png;base64,iVBORw0KGgoAAAANSUhEUgAAAN0AAAAVBAMAAAAwUfbwAAAAMFBMVEX///8AAAAAAAAAAAAAAAAA\n",
       "AAAAAAAAAAAAAAAAAAAAAAAAAAAAAAAAAAAAAAAAAAAv3aB7AAAAD3RSTlMAEER2zVSJ3Zki72ar\n",
       "MruaaVGaAAAACXBIWXMAAA7EAAAOxAGVKw4bAAAC8klEQVRIx52WS2gTQRjH/5M0aTbNJsEeBBHS\n",
       "ehIvjVQEi2LowVPReFF6asCDotbGQ01BoTkUGlDaBUGrFFv0pIU24FUx2IcKSnPyAYKtHgSp2Jrm\n",
       "ICJxdh77yOQB3cvM/Pf7/r957HwsALIP9R6tv5a6qwM7eaTZoc76MZ/XVc3bG90RT5j5tlyTyJ0s\n",
       "OscbatqAifugMqfGfvIO+ZEW0p0LXxUzf9opPYD/t3N8XuVRibw+pfC0NQyJjW7JCnAWA8lqMzfv\n",
       "DfCkOQ84rvBCBoKzvBsREG8ZsURj3kIUq0YNnvd7JpMpNuIFtxD6w7td4qXnISJNeK+A1aLK008Y\n",
       "TdeXRuifsikD+Zq86XO3LXVUtP7u51bqbqPefmorR+LyTesmb/u6l4Xiua6YBeiKPY/xSxroJWE0\n",
       "jAmghw9eOmY55uIdMMLWB/6Fk8l2NMbnpx99p5jdpyvek8e4NcmCaFN4BMzwo3ecgjbn5JE5BKwD\n",
       "ucEbesOCcs3i+7TNpnvpcBK4JpMmRDvJHMmSmaAXbNxSh5MX2DS9RH9NtAlEUvZX5DbTJ2h3HkTe\n",
       "ujZpPc/3vZdBbB4+rjt5wTXEZHl7Bmtnutiy9CLC5WqzcAGkhDZx1DgDje09KdnFBEhXVwnJi8Xx\n",
       "Qui+FO7J68fXE9kSPKcZ/T5JGaFEP8yRnoI3SsyXf+lnBFzkXjdr3XczPpbEks9gCe+Bg0yLFOmp\n",
       "mlKwYO5n1G1m3odvOJvNkm06upvLjfOiQM9x0LoPLR1VvCEDLD4c940EWII2ksulmRbKh7NMasvT\n",
       "+8ckh5nJ23v402IRGTqT0UplG61XTf3S06jFIxudLt7bhb48iyeLg9PHWEJrpVJJcG2Fbgfz2J+j\n",
       "9dqUHGZ2ffFZNeO0Us88V9z1zB1vJ9TwsKUqnt9KTzWt1+54O8HfSGKZ3lk5bJcdEncXE/fTo8Q7\n",
       "EtobSNxMK8uhFeG1jeZU3kyyOt6REG8gCbOp5fq/HJeTNcRbyZ39v5hm/wFa/8dT9FbpdwAAAABJ\n",
       "RU5ErkJggg==\n",
       "\" style=\"display:inline;vertical-align:middle;\" /></a></span>"
      ],
      "text/plain": [
       "{1 not-in {a, 2, c}} |- {a, 2, c} proper_subset {1, a, 2, b, 3, c}"
      ]
     },
     "metadata": {},
     "output_type": "display_data"
    }
   ],
   "source": [
    "# but we can supply enough info to help:\n",
    "set_1a2b3c.deduce_enum_proper_subset(\n",
    "    subset=Set(a, two, c), assumptions=[NotInSet(one, Set(a, two, c))])"
   ]
  },
  {
   "cell_type": "code",
   "execution_count": 103,
   "metadata": {},
   "outputs": [
    {
     "name": "stdout",
     "output_type": "stream",
     "text": [
      "Proof Failure: Failed to prove that the supposed Self superset {1, a, 1, b, 2, a} has any elements not already contained in the supposed proper subset {1, a}. Notice that this might be because the sets have unassigned variables\n"
     ]
    }
   ],
   "source": [
    "# deducing a subset of a Set with redundant subset elements specified\n",
    "# the variables will initially be a problem\n",
    "try:\n",
    "    set_1a1b2a.deduce_enum_proper_subset(subset_indices=[0, 1, 2])\n",
    "    assert False, \"Should not get to this point.\"\n",
    "except ValueError as the_error:\n",
    "    print(\"Proof Failure: {}\".format(the_error))"
   ]
  },
  {
   "cell_type": "code",
   "execution_count": 104,
   "metadata": {},
   "outputs": [
    {
     "data": {
      "text/html": [
       "<span style=\"font-size:20px;\"><a class=\"ProveItLink\" href=\"../__pv_it/demonstrations/3399a9a107ac327c177aba3805da283d2de2c8720/expr.ipynb\"><img src=\"data:image/png;base64,iVBORw0KGgoAAAANSUhEUgAAAGgAAAAVCAMAAACdfluMAAAAP1BMVEX///8AAAAAAAAAAAAAAAAA\n",
       "AAAAAAAAAAAAAAAAAAAAAAAAAAAAAAAAAAAAAAAAAAAAAAAAAAAAAAAAAAAAAADFBd4eAAAAFHRS\n",
       "TlMAELvv3c2ZVESJq3YiMmbp8+P3nWKd8BMAAAAJcEhZcwAADsQAAA7EAZUrDhsAAAGRSURBVEjH\n",
       "rZbbcgMhCIZBxQO62zb1/Z+1ukeNmjiZepGJLPgB+WUDMFqh3qK18MkKJrzxICx3nix+BIKFxR6J\n",
       "Qqru83Jn4oVZ1Bzx9hPnUaQ7frrqlDtyQdYUJ0CV3xkM0XRc6yrdvfVxriLfgGwT6YX6+lb03yD3\n",
       "9BNZ8gi8/H9FxN7z3b2Q5YYE86DAzgf/FoQxnYzxUjvlb+tTnKYxyMoUIdr+XxYvC+XK62RqLxEE\n",
       "uQ5BuD3TalxR2NW2JxvdKX+plPp5pA9xt4YsDEE6biJ1Y1ASO5nDxV4Sx3y+qwW/aIFDkBRb/+0L\n",
       "kNsS3RD6tqrmEpWXuwFhzE1f4wvVHWMlLmefDwcPthkVHdXhCcqJMkEenthX3S4GTgxRnkzm6RLV\n",
       "ILcLNIn1KDZVZJQGXdgKv0Le7PRaz6lHM6kvELOMlHMDdQxNZO+WwH4pbKVfOxGutf46kVQ3GEH3\n",
       "RMc52xhEOOXrYM42BAXRGVyyfRN4mLJVY6VOoPPWCO2rpHdml1NKulrcLVOz+ew/g9sD/wD+sQ2L\n",
       "q0pfEwAAAABJRU5ErkJggg==\n",
       "\" style=\"display:inline;vertical-align:middle;\" /></a> <a class=\"ProveItLink\" href=\"../__pv_it/demonstrations/5f18072a1547bd309974e9a511a8cf41d4de805b0/proof.ipynb\" style=\"text-decoration: none\">&nbsp;&#x22A2;&nbsp;&nbsp;</a><a class=\"ProveItLink\" href=\"../__pv_it/demonstrations/0a266157e825f1a635b092019d7617546dda1e7d0/expr.ipynb\"><img src=\"data:image/png;base64,iVBORw0KGgoAAAANSUhEUgAAAOEAAAAVBAMAAABCnpRGAAAAMFBMVEX///8AAAAAAAAAAAAAAAAA\n",
       "AAAAAAAAAAAAAAAAAAAAAAAAAAAAAAAAAAAAAAAAAAAv3aB7AAAAD3RSTlMAEER2zVSJ3Zki72ar\n",
       "MruaaVGaAAAACXBIWXMAAA7EAAAOxAGVKw4bAAACrElEQVRIx52WzWsTQRjGn8k2m6xtwmIPQgkm\n",
       "9egpBxEsijGgeBBNL0pPBhQU8SNeGm/todCAUhfEDyRYwYNoweY/MJj4WbG5qeDB4kEPBZs2ETxI\n",
       "3dmdnZ2d2WjJHLKT9+P57cy887IAyC70HLetMOv2DPoaxoT73DPaOybxwVSNWt7sj4gvK/Q32qbK\n",
       "V0No1Jasq47TFPgxhOrZdj72FlU53gpErNIfvQSkZtpKumujXnmcs0/izQmFKNiOsucD6OtyKtPU\n",
       "2iGb9w8icDBkjdzWZc+3wNO+idr3crnc2hox4qktmli2+iQmjlhbXyN/zdfAcut/xOqZW2HEHVav\n",
       "XTVe7ctKxIHG/oIXPBXQdVLjOZEYeYKfpkDUHrp/XggvOhMg7raSbYmYPkR+ewW/EdAdo/P7NZE4\n",
       "UsOsuEaDFUFOuMcLojpZQLwkEe3r84iZYvWA7ry99moeIvEmMCkSkTrsvKp/LY1mRlSPryFWlIj2\n",
       "JvxiprmgLmkWkJgzReIzkPUA8ayjbwiN4NOKqL7tK9IZiTiJCNuawXpQV897XcUjkg0MronEKHOU\n",
       "5MbBzyyL53KtdhFnaSdhWKKu0654rRLq6WIoNwHTr1VWOdfDOgANSxfQjFoEou0PPTY6SRShmYIu\n",
       "LvDbodu1labV8Q2npqdJB8zGb8dARiJeseCEJbPRa3E3l9uW8MOd3K1UZgVd4T4OvessIUY7d2rv\n",
       "50YLZZPZOJGsjgaI7xeP1Zww0rhUPeDmclvqvF3/dDK1udkRdYUO4IxxrhnlDYV7I5eDXS4Y5udy\n",
       "m+8cD+s5zihyhw6FKJ9jMMzP1VVnUUr1ugpIljuG+SyeU4ljapifO6xMBF23XXldBZrv8GNGaipx\n",
       "vqCEaWpqVvXRBkXHvZe9PxPuhPmMG4U+v3Mu2ol/AXalyxWiZ+dUAAAAAElFTkSuQmCC\n",
       "\" style=\"display:inline;vertical-align:middle;\" /></a></span>"
      ],
      "text/plain": [
       "{b not-in {1, a, 1}} |- {1, a, 1} proper_subset {1, a, 1, b, 2, a}"
      ]
     },
     "metadata": {},
     "output_type": "display_data"
    }
   ],
   "source": [
    "# but if we supply a single foothold, it will work; notice here that\n",
    "# we supplied the info in terms of the unreduced set, but could also\n",
    "# supply the info in terms of the reduced set (see next cell)\n",
    "set_1a1b2a.deduce_enum_proper_subset(\n",
    "    subset_indices=[0, 1, 2], assumptions=[NotInSet(b, Set(one, a, one))])"
   ]
  },
  {
   "cell_type": "code",
   "execution_count": 105,
   "metadata": {},
   "outputs": [
    {
     "data": {
      "text/html": [
       "<span style=\"font-size:20px;\"><a class=\"ProveItLink\" href=\"../__pv_it/demonstrations/d325b458c1eede5bd22541f82eeb1d1068b1e2af0/expr.ipynb\"><img src=\"data:image/png;base64,iVBORw0KGgoAAAANSUhEUgAAAFQAAAAVCAMAAADvsTk6AAAAP1BMVEX///8AAAAAAAAAAAAAAAAA\n",
       "AAAAAAAAAAAAAAAAAAAAAAAAAAAAAAAAAAAAAAAAAAAAAAAAAAAAAAAAAAAAAADFBd4eAAAAFHRS\n",
       "TlMAELvv3c2ZVESJq3YiMmbp8+P3nWKd8BMAAAAJcEhZcwAADsQAAA7EAZUrDhsAAAFxSURBVDjL\n",
       "pZXtdoMgDIYJED4CuK3j/q91KKAioN0pP3qKJI9JeBMZmy3fbsEY9rS89g8WCOedQwOPUBaIZyvg\n",
       "Qg7Pzzsdd2SQd3Re3VANTlWTrS3vBVIY76DVkEU9OJVj21SIt6Cms3Jcfn1L/ARqLyU16IBR+CxS\n",
       "JOfoqIBfrx2QvQ/1ZJ13jSHERIG4KwzXf4u7XBvOoUYkD16eOnFSi9gp2IuUebFMobCdqZKKz7ee\n",
       "g4i2ylBIKX9e6Ycf6eFJX1eoiptYqj8Q6rI1u6xgZdlWZEFxmEIF32pYX2u3ADacOixlJ9Jzo3RQ\n",
       "iGvhlti2Xgy1LsXJMaOmjXJAoULXoAhZHiY2XxQlHj9TUF9E2kJtFkoSTUkiRaqlYqqRFFm1NAnR\n",
       "q5tIO5RIRFzjYLIMFiBngycXhp20r+XX8nT7kzY9JhfcDZT7STq1tewfUM/7Z6VRmiq5kbPCyUwY\n",
       "TELfj8ch8yyjZtEwfEX6+Rtls9EfcSoLUS083QUAAAAASUVORK5CYII=\n",
       "\" style=\"display:inline;vertical-align:middle;\" /></a> <a class=\"ProveItLink\" href=\"../__pv_it/demonstrations/a300e1e86c42f91a274de45366d2212a1c55f01b0/proof.ipynb\" style=\"text-decoration: none\">&nbsp;&#x22A2;&nbsp;&nbsp;</a><a class=\"ProveItLink\" href=\"../__pv_it/demonstrations/0a266157e825f1a635b092019d7617546dda1e7d0/expr.ipynb\"><img src=\"data:image/png;base64,iVBORw0KGgoAAAANSUhEUgAAAOEAAAAVBAMAAABCnpRGAAAAMFBMVEX///8AAAAAAAAAAAAAAAAA\n",
       "AAAAAAAAAAAAAAAAAAAAAAAAAAAAAAAAAAAAAAAAAAAv3aB7AAAAD3RSTlMAEER2zVSJ3Zki72ar\n",
       "MruaaVGaAAAACXBIWXMAAA7EAAAOxAGVKw4bAAACrElEQVRIx52WzWsTQRjGn8k2m6xtwmIPQgkm\n",
       "9egpBxEsijGgeBBNL0pPBhQU8SNeGm/todCAUhfEDyRYwYNoweY/MJj4WbG5qeDB4kEPBZs2ETxI\n",
       "3dmdnZ2d2WjJHLKT9+P57cy887IAyC70HLetMOv2DPoaxoT73DPaOybxwVSNWt7sj4gvK/Q32qbK\n",
       "V0No1Jasq47TFPgxhOrZdj72FlU53gpErNIfvQSkZtpKumujXnmcs0/izQmFKNiOsucD6OtyKtPU\n",
       "2iGb9w8icDBkjdzWZc+3wNO+idr3crnc2hox4qktmli2+iQmjlhbXyN/zdfAcut/xOqZW2HEHVav\n",
       "XTVe7ctKxIHG/oIXPBXQdVLjOZEYeYKfpkDUHrp/XggvOhMg7raSbYmYPkR+ewW/EdAdo/P7NZE4\n",
       "UsOsuEaDFUFOuMcLojpZQLwkEe3r84iZYvWA7ry99moeIvEmMCkSkTrsvKp/LY1mRlSPryFWlIj2\n",
       "JvxiprmgLmkWkJgzReIzkPUA8ayjbwiN4NOKqL7tK9IZiTiJCNuawXpQV897XcUjkg0MronEKHOU\n",
       "5MbBzyyL53KtdhFnaSdhWKKu0654rRLq6WIoNwHTr1VWOdfDOgANSxfQjFoEou0PPTY6SRShmYIu\n",
       "LvDbodu1labV8Q2npqdJB8zGb8dARiJeseCEJbPRa3E3l9uW8MOd3K1UZgVd4T4OvessIUY7d2rv\n",
       "50YLZZPZOJGsjgaI7xeP1Zww0rhUPeDmclvqvF3/dDK1udkRdYUO4IxxrhnlDYV7I5eDXS4Y5udy\n",
       "m+8cD+s5zihyhw6FKJ9jMMzP1VVnUUr1ugpIljuG+SyeU4ljapifO6xMBF23XXldBZrv8GNGaipx\n",
       "vqCEaWpqVvXRBkXHvZe9PxPuhPmMG4U+v3Mu2ol/AXalyxWiZ+dUAAAAAElFTkSuQmCC\n",
       "\" style=\"display:inline;vertical-align:middle;\" /></a></span>"
      ],
      "text/plain": [
       "{b not-in {1, a}} |- {1, a, 1} proper_subset {1, a, 1, b, 2, a}"
      ]
     },
     "metadata": {},
     "output_type": "display_data"
    }
   ],
   "source": [
    "# Compare to previous cell. If we supply a single foothold, it will work;\n",
    "# notice here that we supplied the info in terms of the reduced set, but could also\n",
    "# supply the info in terms of the un-reduced set (see previous cell)\n",
    "set_1a1b2a.deduce_enum_proper_subset(\n",
    "    subset_indices=[0, 1, 2], assumptions=[NotInSet(b, Set(one, a))])"
   ]
  },
  {
   "cell_type": "code",
   "execution_count": 106,
   "metadata": {},
   "outputs": [
    {
     "data": {
      "text/html": [
       "<span style=\"font-size:20px;\"><a class=\"ProveItLink\" href=\"../__pv_it/demonstrations/27c2109b4bcc6da83e759bd610d6c0877c3a03360/expr.ipynb\"><img src=\"data:image/png;base64,iVBORw0KGgoAAAANSUhEUgAAADAAAAAOBAMAAACbXIJpAAAAMFBMVEX///8AAAAAAAAAAAAAAAAA\n",
       "AAAAAAAAAAAAAAAAAAAAAAAAAAAAAAAAAAAAAAAAAAAv3aB7AAAAD3RSTlMAIquJdkTvuxBmmd1U\n",
       "zTKBpmoTAAAACXBIWXMAAA7EAAAOxAGVKw4bAAAAaElEQVQY02NgwAb4dmAVZmha+wO7BAMLeRKM\n",
       "yo4OWCXCBNjBGlfvBoFNcAmOTAauDdh0cH1g4DbAJsFWwNAfgE2i34FhPgM2O/oPMOjyCGDRwe7A\n",
       "s4sL3Sjmj0BXqdgJ+aGJM6n91QQAV4wjtpQsiA4AAAAASUVORK5CYII=\n",
       "\" style=\"display:inline;vertical-align:middle;\" /></a> <a class=\"ProveItLink\" href=\"../__pv_it/demonstrations/f5fa1c866647af6f72560ab39a5ab12b2f5049c30/proof.ipynb\" style=\"text-decoration: none\">&nbsp;&#x22A2;&nbsp;&nbsp;</a><a class=\"ProveItLink\" href=\"../__pv_it/demonstrations/8a959e871a29bc7f2409d4fc239cbdb3e0247b8b0/expr.ipynb\"><img src=\"data:image/png;base64,iVBORw0KGgoAAAANSUhEUgAAAM0AAAAVBAMAAAAX/3cYAAAAMFBMVEX///8AAAAAAAAAAAAAAAAA\n",
       "AAAAAAAAAAAAAAAAAAAAAAAAAAAAAAAAAAAAAAAAAAAv3aB7AAAAD3RSTlMAEER2zVSJ3Zki72ar\n",
       "MruaaVGaAAAACXBIWXMAAA7EAAAOxAGVKw4bAAACvklEQVRIx42WS2hTQRSG/2vMyyZhoBuRYqIL\n",
       "heIiCxEsaEvQXdG4EVwZQRRFsa5iRalCwSwkXBC1aLCutZDsXSi21kejDSgoWMGu3Ai2WhEVjfO8\n",
       "M/dZZ5E5mTP/fHNPzjk3AKzNCB3X7YDFKEHASB8S8/ZN4Xuyr4h/MUrgGR1YNhYWmRlfZuedVfDa\n",
       "vo65MffIp+UCvCVeQfpYvaD2vJNzc0+V7vvMzMQI0De+LB13kPhqHsq8nsGWrGf7iVewHvHvas8F\n",
       "OZ//cYR+HndOiinOc+Def3CAQeIVDJatFbklpjgiGgGcJsG8HcTZXa1WLwZwtKC/AMV5P7wa5ykw\n",
       "3wngvDkR8jymIP5bGpVVOXSMyZ91dmfR4VijYXHTAmBrS4bNVpy5HS8VJzXk5mS/ibnfztHF2F3+\n",
       "JVPQHC4wOEqA1235YLehOIuYpMoBZt5quTlJ8azWfaToxdMihdYaoeQCg5N0Ul/lW8Xh0MKgh0yW\n",
       "gUYJbk5d3noJyQqd+/aybwsaIwQGp659Tb7YYxuc1E9655kysnXi4vTI2637iDwL1lEesYbRIrhA\n",
       "c5QAH4AvZWZcg+LkhpD6Q3/Rkqp4zTmINE/TfBEPneJH0tciHI4SoEskZ1u7/WtWXHYEmSXgMDHz\n",
       "zeK3rSBGmJUvYyZuIyHyINUKyjdiCjDF4maJPVPCmeBxwUlHlqBRzLM8ulmrXeFWrhg/l9L1U/Jy\n",
       "ztjg5e8I8IDVD7eAv8KZvoQBYtRP5sXKHJKsl451uyvcsqZPN3ZpzsbHxMVpN4dbYD3SEWBNjfZR\n",
       "bqHeneZOTFy97KpTPg7AbzneLZ/cfYfnMYmQaqeXU4HfCu2jEOEPl2qn4MiKp5EqwmfJ4ncNR4Be\n",
       "REh7tWKc9zH10ojpk/SWDS3/e9h5yxQRIdV3pa2FjYkn4e/dG0G+KEHQ/4NTtKr+AX3gyRs8Q5EP\n",
       "AAAAAElFTkSuQmCC\n",
       "\" style=\"display:inline;vertical-align:middle;\" /></a></span>"
      ],
      "text/plain": [
       "{a = 1} |- {1, 2, a} proper_subset {1, 2, 3, 4, 5}"
      ]
     },
     "metadata": {},
     "output_type": "display_data"
    }
   ],
   "source": [
    "# Here we have a variable in the supposed proper subset and the variable\n",
    "# is equal to a value in the supposed superset:\n",
    "set_12345.deduce_enum_proper_subset(subset=Set(one, two, a), assumptions=[Equals(a, one)])"
   ]
  },
  {
   "cell_type": "code",
   "execution_count": 107,
   "metadata": {},
   "outputs": [
    {
     "data": {
      "text/html": [
       "<span style=\"font-size:20px;\"><a class=\"ProveItLink\" href=\"../__pv_it/demonstrations/27c2109b4bcc6da83e759bd610d6c0877c3a03360/expr.ipynb\"><img src=\"data:image/png;base64,iVBORw0KGgoAAAANSUhEUgAAADAAAAAOBAMAAACbXIJpAAAAMFBMVEX///8AAAAAAAAAAAAAAAAA\n",
       "AAAAAAAAAAAAAAAAAAAAAAAAAAAAAAAAAAAAAAAAAAAv3aB7AAAAD3RSTlMAIquJdkTvuxBmmd1U\n",
       "zTKBpmoTAAAACXBIWXMAAA7EAAAOxAGVKw4bAAAAaElEQVQY02NgwAb4dmAVZmha+wO7BAMLeRKM\n",
       "yo4OWCXCBNjBGlfvBoFNcAmOTAauDdh0cH1g4DbAJsFWwNAfgE2i34FhPgM2O/oPMOjyCGDRwe7A\n",
       "s4sL3Sjmj0BXqdgJ+aGJM6n91QQAV4wjtpQsiA4AAAAASUVORK5CYII=\n",
       "\" style=\"display:inline;vertical-align:middle;\" /></a> <a class=\"ProveItLink\" href=\"../__pv_it/demonstrations/e9c9dc91ed18a2b9d74efecaf5b9ceeed2e457a30/proof.ipynb\" style=\"text-decoration: none\">&nbsp;&#x22A2;&nbsp;&nbsp;</a><a class=\"ProveItLink\" href=\"../__pv_it/demonstrations/0a266157e825f1a635b092019d7617546dda1e7d0/expr.ipynb\"><img src=\"data:image/png;base64,iVBORw0KGgoAAAANSUhEUgAAAOEAAAAVBAMAAABCnpRGAAAAMFBMVEX///8AAAAAAAAAAAAAAAAA\n",
       "AAAAAAAAAAAAAAAAAAAAAAAAAAAAAAAAAAAAAAAAAAAv3aB7AAAAD3RSTlMAEER2zVSJ3Zki72ar\n",
       "MruaaVGaAAAACXBIWXMAAA7EAAAOxAGVKw4bAAACrElEQVRIx52WzWsTQRjGn8k2m6xtwmIPQgkm\n",
       "9egpBxEsijGgeBBNL0pPBhQU8SNeGm/todCAUhfEDyRYwYNoweY/MJj4WbG5qeDB4kEPBZs2ETxI\n",
       "3dmdnZ2d2WjJHLKT9+P57cy887IAyC70HLetMOv2DPoaxoT73DPaOybxwVSNWt7sj4gvK/Q32qbK\n",
       "V0No1Jasq47TFPgxhOrZdj72FlU53gpErNIfvQSkZtpKumujXnmcs0/izQmFKNiOsucD6OtyKtPU\n",
       "2iGb9w8icDBkjdzWZc+3wNO+idr3crnc2hox4qktmli2+iQmjlhbXyN/zdfAcut/xOqZW2HEHVav\n",
       "XTVe7ctKxIHG/oIXPBXQdVLjOZEYeYKfpkDUHrp/XggvOhMg7raSbYmYPkR+ewW/EdAdo/P7NZE4\n",
       "UsOsuEaDFUFOuMcLojpZQLwkEe3r84iZYvWA7ry99moeIvEmMCkSkTrsvKp/LY1mRlSPryFWlIj2\n",
       "JvxiprmgLmkWkJgzReIzkPUA8ayjbwiN4NOKqL7tK9IZiTiJCNuawXpQV897XcUjkg0MronEKHOU\n",
       "5MbBzyyL53KtdhFnaSdhWKKu0654rRLq6WIoNwHTr1VWOdfDOgANSxfQjFoEou0PPTY6SRShmYIu\n",
       "LvDbodu1labV8Q2npqdJB8zGb8dARiJeseCEJbPRa3E3l9uW8MOd3K1UZgVd4T4OvessIUY7d2rv\n",
       "50YLZZPZOJGsjgaI7xeP1Zww0rhUPeDmclvqvF3/dDK1udkRdYUO4IxxrhnlDYV7I5eDXS4Y5udy\n",
       "m+8cD+s5zihyhw6FKJ9jMMzP1VVnUUr1ugpIljuG+SyeU4ljapifO6xMBF23XXldBZrv8GNGaipx\n",
       "vqCEaWpqVvXRBkXHvZe9PxPuhPmMG4U+v3Mu2ol/AXalyxWiZ+dUAAAAAElFTkSuQmCC\n",
       "\" style=\"display:inline;vertical-align:middle;\" /></a></span>"
      ],
      "text/plain": [
       "{a = 1} |- {1, a, 1} proper_subset {1, a, 1, b, 2, a}"
      ]
     },
     "metadata": {},
     "output_type": "display_data"
    }
   ],
   "source": [
    "# If we have the same variable appearing in both the subset and superset,\n",
    "# even if we then assume the variable has a specific value, we can\n",
    "# run into difficulties. The following works correctly though:\n",
    "set_1a1b2a.deduce_enum_proper_subset(\n",
    "        subset_indices=[0, 1, 2], assumptions=[Equals(a, one)])"
   ]
  },
  {
   "cell_type": "code",
   "execution_count": 108,
   "metadata": {},
   "outputs": [
    {
     "data": {
      "text/html": [
       "<span style=\"font-size:20px;\"><a class=\"ProveItLink\" href=\"../__pv_it/demonstrations/27c2109b4bcc6da83e759bd610d6c0877c3a03360/expr.ipynb\"><img src=\"data:image/png;base64,iVBORw0KGgoAAAANSUhEUgAAADAAAAAOBAMAAACbXIJpAAAAMFBMVEX///8AAAAAAAAAAAAAAAAA\n",
       "AAAAAAAAAAAAAAAAAAAAAAAAAAAAAAAAAAAAAAAAAAAv3aB7AAAAD3RSTlMAIquJdkTvuxBmmd1U\n",
       "zTKBpmoTAAAACXBIWXMAAA7EAAAOxAGVKw4bAAAAaElEQVQY02NgwAb4dmAVZmha+wO7BAMLeRKM\n",
       "yo4OWCXCBNjBGlfvBoFNcAmOTAauDdh0cH1g4DbAJsFWwNAfgE2i34FhPgM2O/oPMOjyCGDRwe7A\n",
       "s4sL3Sjmj0BXqdgJ+aGJM6n91QQAV4wjtpQsiA4AAAAASUVORK5CYII=\n",
       "\" style=\"display:inline;vertical-align:middle;\" /></a> <a class=\"ProveItLink\" href=\"../__pv_it/demonstrations/d93b38926e411a20a1653ae8fb75e4f78a7d2bde0/proof.ipynb\" style=\"text-decoration: none\">&nbsp;&#x22A2;&nbsp;&nbsp;</a><a class=\"ProveItLink\" href=\"../__pv_it/demonstrations/604816a7341ad5d204ca57070ec96b8bc169c26c0/expr.ipynb\"><img src=\"data:image/png;base64,iVBORw0KGgoAAAANSUhEUgAAADEAAAAUCAMAAAATIyWrAAAAPFBMVEX///8AAAAAAAAAAAAAAAAA\n",
       "AAAAAAAAAAAAAAAAAAAAAAAAAAAAAAAAAAAAAAAAAAAAAAAAAAAAAAAAAAAo1xBWAAAAE3RSTlMA\n",
       "iTIizUSr3Xa7VBDvmWbn9enz4Lm30gAAAAlwSFlzAAAOxAAADsQBlSsOGwAAANBJREFUKM+VUlkO\n",
       "RCEIw313Fu9/1xGcJU8HE/kwRmhLQYBNlMRlRA+5PsvA1CttAKxbE0EyCO0xu/JJywBiY7oNikGE\n",
       "/P/dcBKQtRS+mLXZSUJZ4RUagKYr4uJ3pI7idsfzp2NyZwjoILVGdTltJVKuxIbXRnOt7dqXKdMy\n",
       "ideJ0dVA1K2LHIidaMOkQT4ez+Hm4yM1T0XvfQwfV4nJVWo4GashonYQaCxetlqWrXWN6AqMhCjF\n",
       "yq1Ep7ReSGU989WigMPQ6RBQjyXcqQTIbfYFksAGP+xhPtIAAAAASUVORK5CYII=\n",
       "\" style=\"display:inline;vertical-align:middle;\" /></a></span>"
      ],
      "text/plain": [
       "{a = 1} |- 6 != a"
      ]
     },
     "metadata": {},
     "output_type": "display_data"
    }
   ],
   "source": [
    "NotEquals(six, a).prove(assumptions=[Equals(a, one)])"
   ]
  },
  {
   "cell_type": "code",
   "execution_count": 109,
   "metadata": {},
   "outputs": [
    {
     "data": {
      "text/html": [
       "<strong id=\"example_deduction\">example_deduction:</strong> <span style=\"font-size:20px;\"><a class=\"ProveItLink\" href=\"../__pv_it/demonstrations/27c2109b4bcc6da83e759bd610d6c0877c3a03360/expr.ipynb\"><img src=\"data:image/png;base64,iVBORw0KGgoAAAANSUhEUgAAADAAAAAOBAMAAACbXIJpAAAAMFBMVEX///8AAAAAAAAAAAAAAAAA\n",
       "AAAAAAAAAAAAAAAAAAAAAAAAAAAAAAAAAAAAAAAAAAAv3aB7AAAAD3RSTlMAIquJdkTvuxBmmd1U\n",
       "zTKBpmoTAAAACXBIWXMAAA7EAAAOxAGVKw4bAAAAaElEQVQY02NgwAb4dmAVZmha+wO7BAMLeRKM\n",
       "yo4OWCXCBNjBGlfvBoFNcAmOTAauDdh0cH1g4DbAJsFWwNAfgE2i34FhPgM2O/oPMOjyCGDRwe7A\n",
       "s4sL3Sjmj0BXqdgJ+aGJM6n91QQAV4wjtpQsiA4AAAAASUVORK5CYII=\n",
       "\" style=\"display:inline;vertical-align:middle;\" /></a> <a class=\"ProveItLink\" href=\"../__pv_it/demonstrations/4600c9da6ead7825c1454fd6df98057c1d127d5d0/proof.ipynb\" style=\"text-decoration: none\">&nbsp;&#x22A2;&nbsp;&nbsp;</a><a class=\"ProveItLink\" href=\"../__pv_it/demonstrations/b435825f4b716c89ce461b75318489d53d0861320/expr.ipynb\"><img src=\"data:image/png;base64,iVBORw0KGgoAAAANSUhEUgAAAFQAAAAVCAMAAADvsTk6AAAARVBMVEX///8AAAAAAAAAAAAAAAAA\n",
       "AAAAAAAAAAAAAAAAAAAAAAAAAAAAAAAAAAAAAAAAAAAAAAAAAAAAAAAAAAAAAAAAAAAAAAAeYafp\n",
       "AAAAFnRSTlMAMhAi783diatmdrtEmVTp8+P355HBJeaoywAAAAlwSFlzAAAOxAAADsQBlSsOGwAA\n",
       "AYtJREFUOMuVVduChSAIVBA0Tffu/3/qeqm0tO2sL+cow6DAkBC3C89bWFfxsDDsPrJ44Agh6HeW\n",
       "VngiFdK4ClKRiBkmgH4X4j0lek9O1v+uerGKrCce/vRazfecLtvj2uPMDfbM8gepKalT6oHUOua3\n",
       "d3qRVJXMmIh/ka5kE8rIl29aTCbKnnSxumfAUnUgMSdFoy3aSbZij8tNgLFVhcozlouf34KsKpnd\n",
       "2AoyVger2plrr6NJkwpUS1VA+fVjLnjLIsbQLhIPLShO6+OT2TVKQ+uOKwx66L8DDIaCcFTBe1ah\n",
       "mHU4P87vSslWiFfBLq3aOsdXW+3O/Tm8ryoFSuaWeDGGfHPEpjzdbrA1afJb/ZW0VhVKxgyJPDmO\n",
       "rMvCYcteqyrcUrOuLiknlybtWiVFDOyFzwG2hkD2eXGPS+PA+L7WYNwX3JCCsVqisTnoPoU4lkUP\n",
       "Ivn+STrlR5mGyRi6JyV4CazFP0jRTWaMGo5gItZDeWO0MAkUh8MZJ2zKm4yd+Xg34fEbpSvmF5Xo\n",
       "C/RpDBO1AAAAAElFTkSuQmCC\n",
       "\" style=\"display:inline;vertical-align:middle;\" /></a></span><br>"
      ],
      "text/plain": [
       "<IPython.core.display.HTML object>"
      ]
     },
     "metadata": {},
     "output_type": "display_data"
    }
   ],
   "source": [
    "example_deduction = NotInSet(five, Set(a, two)).prove(assumptions=[Equals(a, one)])"
   ]
  },
  {
   "cell_type": "code",
   "execution_count": 110,
   "metadata": {},
   "outputs": [
    {
     "data": {
      "text/html": [
       "<span style=\"font-size:20px;\"><a class=\"ProveItLink\" href=\"../__pv_it/demonstrations/6bea360928de6ec1d21061661cc139b45a0a1d780/expr.ipynb\"><img src=\"data:image/png;base64,iVBORw0KGgoAAAANSUhEUgAAADEAAAAUCAMAAAATIyWrAAAAPFBMVEX///8AAAAAAAAAAAAAAAAA\n",
       "AAAAAAAAAAAAAAAAAAAAAAAAAAAAAAAAAAAAAAAAAAAAAAAAAAAAAAAAAAAo1xBWAAAAE3RSTlMA\n",
       "IquJdkTvuxBmmd1UzTLn9enzF+Xi+wAAAAlwSFlzAAAOxAAADsQBlSsOGwAAAM5JREFUKM+VU1kS\n",
       "wyAIFbVuqF24/10rZKZjqjWVDzIk8hYwSq0iBbUX1XcFpFR8vejoDwB3G7qtKXRXaODs3JoCusIR\n",
       "e9IEi4ZbT6E0SiYRCtpYsENHmcAhCZZrnzx9BplQ4v7grM/OiIGDi3LsLwoBSEKE5ttFmiz02I/j\n",
       "RxgGPaGIh8Qg0iJ1SKz/+TrcdD4yywBoHZmnVlQ+gZbhRlXRbdt73zgyJnXSnQcXgImDBxS0NRW0\n",
       "rWsKJInyY93ZbN7yCcVFxG0K3KVQyz/tDVi7BkJLzT4sAAAAAElFTkSuQmCC\n",
       "\" style=\"display:inline;vertical-align:middle;\" /></a> <a class=\"ProveItLink\" href=\"../__pv_it/demonstrations/4b969d351bda68ebcb917424be3599867bbcc5d00/proof.ipynb\" style=\"text-decoration: none\">&nbsp;&#x22A2;&nbsp;&nbsp;</a><a class=\"ProveItLink\" href=\"../__pv_it/demonstrations/0a266157e825f1a635b092019d7617546dda1e7d0/expr.ipynb\"><img src=\"data:image/png;base64,iVBORw0KGgoAAAANSUhEUgAAAOEAAAAVBAMAAABCnpRGAAAAMFBMVEX///8AAAAAAAAAAAAAAAAA\n",
       "AAAAAAAAAAAAAAAAAAAAAAAAAAAAAAAAAAAAAAAAAAAv3aB7AAAAD3RSTlMAEER2zVSJ3Zki72ar\n",
       "MruaaVGaAAAACXBIWXMAAA7EAAAOxAGVKw4bAAACrElEQVRIx52WzWsTQRjGn8k2m6xtwmIPQgkm\n",
       "9egpBxEsijGgeBBNL0pPBhQU8SNeGm/todCAUhfEDyRYwYNoweY/MJj4WbG5qeDB4kEPBZs2ETxI\n",
       "3dmdnZ2d2WjJHLKT9+P57cy887IAyC70HLetMOv2DPoaxoT73DPaOybxwVSNWt7sj4gvK/Q32qbK\n",
       "V0No1Jasq47TFPgxhOrZdj72FlU53gpErNIfvQSkZtpKumujXnmcs0/izQmFKNiOsucD6OtyKtPU\n",
       "2iGb9w8icDBkjdzWZc+3wNO+idr3crnc2hox4qktmli2+iQmjlhbXyN/zdfAcut/xOqZW2HEHVav\n",
       "XTVe7ctKxIHG/oIXPBXQdVLjOZEYeYKfpkDUHrp/XggvOhMg7raSbYmYPkR+ewW/EdAdo/P7NZE4\n",
       "UsOsuEaDFUFOuMcLojpZQLwkEe3r84iZYvWA7ry99moeIvEmMCkSkTrsvKp/LY1mRlSPryFWlIj2\n",
       "JvxiprmgLmkWkJgzReIzkPUA8ayjbwiN4NOKqL7tK9IZiTiJCNuawXpQV897XcUjkg0MronEKHOU\n",
       "5MbBzyyL53KtdhFnaSdhWKKu0654rRLq6WIoNwHTr1VWOdfDOgANSxfQjFoEou0PPTY6SRShmYIu\n",
       "LvDbodu1labV8Q2npqdJB8zGb8dARiJeseCEJbPRa3E3l9uW8MOd3K1UZgVd4T4OvessIUY7d2rv\n",
       "50YLZZPZOJGsjgaI7xeP1Zww0rhUPeDmclvqvF3/dDK1udkRdYUO4IxxrhnlDYV7I5eDXS4Y5udy\n",
       "m+8cD+s5zihyhw6FKJ9jMMzP1VVnUUr1ugpIljuG+SyeU4ljapifO6xMBF23XXldBZrv8GNGaipx\n",
       "vqCEaWpqVvXRBkXHvZe9PxPuhPmMG4U+v3Mu2ol/AXalyxWiZ+dUAAAAAElFTkSuQmCC\n",
       "\" style=\"display:inline;vertical-align:middle;\" /></a></span>"
      ],
      "text/plain": [
       "{a != 2} |- {1, a, 1} proper_subset {1, a, 1, b, 2, a}"
      ]
     },
     "metadata": {},
     "output_type": "display_data"
    }
   ],
   "source": [
    "set_1a1b2a.deduce_enum_proper_subset(\n",
    "            subset_indices=[0, 1, 2], assumptions=[NotEquals(a, two)])"
   ]
  },
  {
   "cell_type": "code",
   "execution_count": 111,
   "metadata": {},
   "outputs": [
    {
     "data": {
      "text/html": [
       "<span style=\"font-size:20px;\"><a class=\"ProveItLink\" href=\"../__pv_it/demonstrations/814957bc452c0cb1de675251ece7d52415c247ad0/expr.ipynb\"><img src=\"data:image/png;base64,iVBORw0KGgoAAAANSUhEUgAAAFUAAAAVCAMAAAAAc1IEAAAARVBMVEX///8AAAAAAAAAAAAAAAAA\n",
       "AAAAAAAAAAAAAAAAAAAAAAAAAAAAAAAAAAAAAAAAAAAAAAAAAAAAAAAAAAAAAAAAAAAAAAAeYafp\n",
       "AAAAFnRSTlMAIpnNuzKJRKvvEN12ZlTp8+P355HB0dOXZgAAAAlwSFlzAAAOxAAADsQBlSsOGwAA\n",
       "AXRJREFUOMulle2WxBAMhhE0ErXf7v9SVxlLB9PZM/nhHBqPSN6oEEuT5yltm7gyGeSVC1A/87DR\n",
       "JVUY1MVLKgXazBz6WYiVafghXedtUqfBxvF26rRkuaQBFcSH1OKIORPODZ954pxT8QzVZSeMfZq9\n",
       "Zn57hxeoWMbYMruBT/vQvBLr7bqxqSPXnkA8T5VovfQD1UTfBJVzsfu72sGaurm0Rd+WfasQdyqC\n",
       "iViFdPuSSvmbusUoY6iB6E6mjpN9fDLr7obQZDZQVc4e23oIQubuvd4pw2w4d4TStKS6Ywf9Kd6W\n",
       "CMJxipQnnfK8ZWZUyjXZ47kJTQ7dt1iS06bWgqlU+qMe90IQ5WWxuVqS1WFdcCktaNZUWxqGYlWF\n",
       "TmEEVkJ1jhyzdfIk1F+0oiK6CHgUnesrQ+itkejN0AVn+/5JLcuwapmaQbrqrUcv68rZin9RpR7X\n",
       "/PCokZ9uVrB6IMLkpHi/OIdSa8I7w+kFFIbr/5YtTr8qYA0W7sczmAAAAABJRU5ErkJggg==\n",
       "\" style=\"display:inline;vertical-align:middle;\" /></a> <a class=\"ProveItLink\" href=\"../__pv_it/demonstrations/71be3b9dd2d67c600dcd811d1f0baa3d205b05d80/proof.ipynb\" style=\"text-decoration: none\">&nbsp;&#x22A2;&nbsp;&nbsp;</a><a class=\"ProveItLink\" href=\"../__pv_it/demonstrations/4272525efa6d45b82846743b4f609e31930dbcbb0/expr.ipynb\"><img src=\"data:image/png;base64,iVBORw0KGgoAAAANSUhEUgAAAGgAAAAVCAMAAACdfluMAAAAP1BMVEX///8AAAAAAAAAAAAAAAAA\n",
       "AAAAAAAAAAAAAAAAAAAAAAAAAAAAAAAAAAAAAAAAAAAAAAAAAAAAAAAAAAAAAADFBd4eAAAAFHRS\n",
       "TlMAIpnNuzKJRKvvEN12ZlTp8+P3nfgXZw4AAAAJcEhZcwAADsQAAA7EAZUrDhsAAAGbSURBVEjH\n",
       "rZbtbsMgDEUBAzE2YVvH+z/rAmnCR0CLovIDCdfuwebarRDTJdsjLYt4sGSQ/7kA1ScPCz0BCYN6\n",
       "D5RKgTYjh/oU4oExfA9Y/HT+Jqm3zcZrWVRjsrzXDxXEG6DGb4/FXELnLr4sBqBUw3gvI9+BXD5j\n",
       "bJ7Ma/76ZvgoCPc9Vq+0gCeB5sMZvesUK0EmuRGI+yCJ1kt/B2Ri5QapimsXp2AOWtwWoXtz8fNF\n",
       "AFxLGa5NJKRbpyDKnymeZiRjOK6ra/07Zv55bZsupYFFTEEql53tFLSJHTJqbVqTcmOFtvmUpinI\n",
       "pQC6dGLlZ/d7hnQXKZsG6uvw7u4RiPL7rnGuuvdUMTlnX6K9F4vqw66qoxOUskcQaXrSUHVZDJJV\n",
       "WnUKENDMQXbvbYqHDvWWUWAlVG08/c5YjnlBM6hel0l9gBBdBEwy42NoEnprJHpTG4tf27DtWn+t\n",
       "3lQ3HkFloI8mxMg4BwHdcbaj0JFxCpJ6MLku45386OdhZFQwAXVN1HX3iR5O0hG8TJVu4TBNheHR\n",
       "fwa7x/0BK/8Pq3DMv14AAAAASUVORK5CYII=\n",
       "\" style=\"display:inline;vertical-align:middle;\" /></a></span>"
      ],
      "text/plain": [
       "{2 not-in {1, a}} |- 2 not-in {1, a, 1}"
      ]
     },
     "metadata": {},
     "output_type": "display_data"
    }
   ],
   "source": [
    "# Related: note that Prove-It will automatically deduce various\n",
    "# non-membership claims:\n",
    "NotInSet(two, Set(one, a, one)).prove(assumptions=[NotInSet(two, Set(one, a))])"
   ]
  },
  {
   "cell_type": "code",
   "execution_count": 112,
   "metadata": {},
   "outputs": [
    {
     "data": {
      "text/html": [
       "<span style=\"font-size:20px;\"><a class=\"ProveItLink\" href=\"../__pv_it/demonstrations/4272525efa6d45b82846743b4f609e31930dbcbb0/expr.ipynb\"><img src=\"data:image/png;base64,iVBORw0KGgoAAAANSUhEUgAAAGgAAAAVCAMAAACdfluMAAAAP1BMVEX///8AAAAAAAAAAAAAAAAA\n",
       "AAAAAAAAAAAAAAAAAAAAAAAAAAAAAAAAAAAAAAAAAAAAAAAAAAAAAAAAAAAAAADFBd4eAAAAFHRS\n",
       "TlMAIpnNuzKJRKvvEN12ZlTp8+P3nfgXZw4AAAAJcEhZcwAADsQAAA7EAZUrDhsAAAGbSURBVEjH\n",
       "rZbtbsMgDEUBAzE2YVvH+z/rAmnCR0CLovIDCdfuwebarRDTJdsjLYt4sGSQ/7kA1ScPCz0BCYN6\n",
       "D5RKgTYjh/oU4oExfA9Y/HT+Jqm3zcZrWVRjsrzXDxXEG6DGb4/FXELnLr4sBqBUw3gvI9+BXD5j\n",
       "bJ7Ma/76ZvgoCPc9Vq+0gCeB5sMZvesUK0EmuRGI+yCJ1kt/B2Ri5QapimsXp2AOWtwWoXtz8fNF\n",
       "AFxLGa5NJKRbpyDKnymeZiRjOK6ra/07Zv55bZsupYFFTEEql53tFLSJHTJqbVqTcmOFtvmUpinI\n",
       "pQC6dGLlZ/d7hnQXKZsG6uvw7u4RiPL7rnGuuvdUMTlnX6K9F4vqw66qoxOUskcQaXrSUHVZDJJV\n",
       "WnUKENDMQXbvbYqHDvWWUWAlVG08/c5YjnlBM6hel0l9gBBdBEwy42NoEnprJHpTG4tf27DtWn+t\n",
       "3lQ3HkFloI8mxMg4BwHdcbaj0JFxCpJ6MLku45386OdhZFQwAXVN1HX3iR5O0hG8TJVu4TBNheHR\n",
       "fwa7x/0BK/8Pq3DMv14AAAAASUVORK5CYII=\n",
       "\" style=\"display:inline;vertical-align:middle;\" /></a> <a class=\"ProveItLink\" href=\"../__pv_it/demonstrations/1d0fcc5d7ae3541357ea950bdfd598337c26a40e0/proof.ipynb\" style=\"text-decoration: none\">&nbsp;&#x22A2;&nbsp;&nbsp;</a><a class=\"ProveItLink\" href=\"../__pv_it/demonstrations/814957bc452c0cb1de675251ece7d52415c247ad0/expr.ipynb\"><img src=\"data:image/png;base64,iVBORw0KGgoAAAANSUhEUgAAAFUAAAAVCAMAAAAAc1IEAAAARVBMVEX///8AAAAAAAAAAAAAAAAA\n",
       "AAAAAAAAAAAAAAAAAAAAAAAAAAAAAAAAAAAAAAAAAAAAAAAAAAAAAAAAAAAAAAAAAAAAAAAeYafp\n",
       "AAAAFnRSTlMAIpnNuzKJRKvvEN12ZlTp8+P355HB0dOXZgAAAAlwSFlzAAAOxAAADsQBlSsOGwAA\n",
       "AXRJREFUOMulle2WxBAMhhE0ErXf7v9SVxlLB9PZM/nhHBqPSN6oEEuT5yltm7gyGeSVC1A/87DR\n",
       "JVUY1MVLKgXazBz6WYiVafghXedtUqfBxvF26rRkuaQBFcSH1OKIORPODZ954pxT8QzVZSeMfZq9\n",
       "Zn57hxeoWMbYMruBT/vQvBLr7bqxqSPXnkA8T5VovfQD1UTfBJVzsfu72sGaurm0Rd+WfasQdyqC\n",
       "iViFdPuSSvmbusUoY6iB6E6mjpN9fDLr7obQZDZQVc4e23oIQubuvd4pw2w4d4TStKS6Ywf9Kd6W\n",
       "CMJxipQnnfK8ZWZUyjXZ47kJTQ7dt1iS06bWgqlU+qMe90IQ5WWxuVqS1WFdcCktaNZUWxqGYlWF\n",
       "TmEEVkJ1jhyzdfIk1F+0oiK6CHgUnesrQ+itkejN0AVn+/5JLcuwapmaQbrqrUcv68rZin9RpR7X\n",
       "/PCokZ9uVrB6IMLkpHi/OIdSa8I7w+kFFIbr/5YtTr8qYA0W7sczmAAAAABJRU5ErkJggg==\n",
       "\" style=\"display:inline;vertical-align:middle;\" /></a></span>"
      ],
      "text/plain": [
       "{2 not-in {1, a, 1}} |- 2 not-in {1, a}"
      ]
     },
     "metadata": {},
     "output_type": "display_data"
    }
   ],
   "source": [
    "# Related: note that Prove-It will automatically deduce various\n",
    "# non-membership claims:\n",
    "NotInSet(two, Set(one, a)).prove(\n",
    "        assumptions=[NotInSet(two, Set(one, a, one))])"
   ]
  },
  {
   "cell_type": "code",
   "execution_count": 113,
   "metadata": {},
   "outputs": [
    {
     "data": {
      "text/html": [
       "<span style=\"font-size:20px;\"> <a class=\"ProveItLink\" href=\"../__pv_it/demonstrations/1e59b445438430b50b4a2bb76cc9c9c2d666de0a0/proof.ipynb\" style=\"text-decoration: none\">&nbsp;&#x22A2;&nbsp;&nbsp;</a><a class=\"ProveItLink\" href=\"../__pv_it/demonstrations/4e58aa59cae6174aa15d3e3cf8613eb296dad1570/expr.ipynb\"><img src=\"data:image/png;base64,iVBORw0KGgoAAAANSUhEUgAAAM0AAAAVBAMAAAAX/3cYAAAAMFBMVEX///8AAAAAAAAAAAAAAAAA\n",
       "AAAAAAAAAAAAAAAAAAAAAAAAAAAAAAAAAAAAAAAAAAAv3aB7AAAAD3RSTlMAEER2zVSJ3Zki72ar\n",
       "MruaaVGaAAAACXBIWXMAAA7EAAAOxAGVKw4bAAACK0lEQVRIx4WWv08bMRTH33HNhQAHJ7EhRAtD\n",
       "1ZGBqapoFKkbgnSpxBSGSgWERJmiCiE6IDUTylJACNGqYztwf0KEQP3BrwxILF3o0oUlkAxMcPbl\n",
       "/J7v/A4PyTdf+3Nfx/GzAwDWCLDtc9VgpgGGlpsO38eG+THuqZc00wBT+3spXjMN8bylKLwyWaeq\n",
       "t5bAOAC9jdl/0eALMc8roZz3AINrjba/C841VaI31jhAedZHKBVD9WtK5LyLMLAj7DfAd6qYHBOg\n",
       "PLsFj/Nt7yWTs+fBWZUolTNeLpdXIA1QXsc36Hso5yfAWZ2oKOd8jvk+CKAHUPIfyAnaKlXtHOsD\n",
       "t24EQK9jGRI5nXkdc2+osr9K2fMEH8sCynNfnGg5z4Xa9nUsW6Mq15LyEdkHLEDXrUhzvgSfdgqx\n",
       "Ieu6GnwlSw1jeIB4XQ2aYx0UwV33tCHdNV29lSu2Q44IFog8tw69LZrjiKnJikfsDeSqRGXCjixZ\n",
       "NxaIvL5GLKfk0e1jybnMgO2hAifcB52+Yb/FAOV11cS6eZgzrzDnFsIa3qxUPhGl6qcQyzEAyuv2\n",
       "g/qxmnLwYpXWT8+f5hFkxTG4enfXJErlDO17NMcEoPesEpyjZQEc7034tE5lew1JpXqf/tfOHRZQ\n",
       "KoM3SixnBpKKO0dZQCkH9Jx2xQc/4SgkVFj8eksFUPUjsSYvqmgL2vgkHDLgJ+/hNAAVztX6Id+2\n",
       "Dvkrd8PUlwaY/h8sBMfOPblqzHjwJVZUAAAAAElFTkSuQmCC\n",
       "\" style=\"display:inline;vertical-align:middle;\" /></a></span>"
      ],
      "text/plain": [
       "|- {1, 2, 2} proper_subset {1, 2, 1, 3, 1}"
      ]
     },
     "metadata": {},
     "output_type": "display_data"
    }
   ],
   "source": [
    "# deducing a proper subset of a Set with redundant subset elements specified\n",
    "set_12131.deduce_enum_proper_subset(subset=Set(one, two, two))"
   ]
  },
  {
   "cell_type": "code",
   "execution_count": 114,
   "metadata": {},
   "outputs": [
    {
     "data": {
      "text/html": [
       "<span style=\"font-size:20px;\"> <a class=\"ProveItLink\" href=\"../__pv_it/demonstrations/e993aeef8f970967bcc007b8f6535d57bc07a2120/proof.ipynb\" style=\"text-decoration: none\">&nbsp;&#x22A2;&nbsp;&nbsp;</a><a class=\"ProveItLink\" href=\"../__pv_it/demonstrations/2603f99481bb6bd4ca074e2daa88cc65a4204b030/expr.ipynb\"><img src=\"data:image/png;base64,iVBORw0KGgoAAAANSUhEUgAAAJsAAAAVBAMAAACj9YEXAAAAMFBMVEX///8AAAAAAAAAAAAAAAAA\n",
       "AAAAAAAAAAAAAAAAAAAAAAAAAAAAAAAAAAAAAAAAAAAv3aB7AAAAD3RSTlMAEER2zVSJ3Zki72ar\n",
       "MruaaVGaAAAACXBIWXMAAA7EAAAOxAGVKw4bAAACC0lEQVQ4y2NgYGBUYpg6gQETAMVJAZyRENpE\n",
       "kYH3nACmPFCcJHDnIYhk/Qgk+A5gyILFGa5D7eHs8LsAleAthDKmZTyCKQYrewNisRXACFQAEmI8\n",
       "4Q81bh4D2ycIS6blIzQwGhjiAyAsiLJ0QsYxMNhDjTvJwLAKKsEMNY75K4O8A1TMHodxduXl5bVY\n",
       "jFsvwHB+AqpxTIsY+AkYdyUTh+uOMzCcv4BqHBDEb8BrHGMlLs8CQT0DunFM1QwYxnGAHMy8ACzK\n",
       "o4AwDiyOZBzvZ3TjeG3OohhnBWLNAjmY8ytYlAUpKsDiSMaxH2DA9GwAsnHzgbw5TpDodwWnRIRp\n",
       "UHGEcX0MmMZxfUQ2jvFIAANvH1hDCtibcxDGQcXhxnEfQDeO9wID31dk49icYBkCkgUY2JE8C8ko\n",
       "cOPCGDjREgr/RzTj4gXgMQuJCo4N2GIWpIo3gYFZgBFuHIjFdQDkWQGEcVkY6c4J3bj8CQyMX4D0\n",
       "9I6OdmgmYPvJAGZxbwCmO7AkWBm2ZCx3SADFuDPrfTYwlAPF6v///8LADsr8PKe+nIawNDqARQBI\n",
       "EqIMWyZTe46aycBlC9yKQAYMFkKSmCIAzIKLJWCyEJIQ48AZgsMBwzhoRgECYXj5bIDJEkboaGGA\n",
       "ZQipDZiFNSwRMMC1MjNgsgwQlcFqMDXjKMO0o1gK6xlHSasrcoB5DAA2rYues3c3GwAAAABJRU5E\n",
       "rkJggg==\n",
       "\" style=\"display:inline;vertical-align:middle;\" /></a></span>"
      ],
      "text/plain": [
       "|- {} proper_subset {1, 2, 1, 3, 1}"
      ]
     },
     "metadata": {},
     "output_type": "display_data"
    }
   ],
   "source": [
    "# Also works when the subset is the empty set\n",
    "set_12131.deduce_enum_proper_subset(subset=empty_set)"
   ]
  },
  {
   "cell_type": "code",
   "execution_count": 115,
   "metadata": {},
   "outputs": [
    {
     "name": "stdout",
     "output_type": "stream",
     "text": [
      "Proof Failure: Specified subset {} does not appear to be a proper subset of the original set {}. All of the superset elements appear in the specified subset.\n"
     ]
    }
   ],
   "source": [
    "# Although the empty set {} is an improper subset of itself\n",
    "# and the empty set is a proper subset of any non-empty set,\n",
    "# the empty set is not a proper subset of itself\n",
    "try:\n",
    "    empty_set.deduce_enum_proper_subset(subset=empty_set)\n",
    "    assert False, \"Should not make it to the point.\"\n",
    "except ValueError as the_error:\n",
    "    print(\"Proof Failure: {}\".format(the_error))"
   ]
  },
  {
   "cell_type": "code",
   "execution_count": 116,
   "metadata": {},
   "outputs": [
    {
     "name": "stdout",
     "output_type": "stream",
     "text": [
      "Index Error: Index or indices out of bounds: {6}. Subset indices should be elements of {0, 1, 2, 3, 4, 5}.\n"
     ]
    }
   ],
   "source": [
    "# supplying incorrect (out-of-bound) indices for subset\n",
    "# should give an informative error\n",
    "try:\n",
    "    set_1a2b3c.deduce_enum_proper_subset(subset_indices=[2, 6, 0])\n",
    "except IndexError as the_error:\n",
    "    print(\"Index Error: {}\".format(the_error))"
   ]
  },
  {
   "cell_type": "code",
   "execution_count": 117,
   "metadata": {},
   "outputs": [
    {
     "name": "stdout",
     "output_type": "stream",
     "text": [
      "Value Error: Specified subset {a, B, 2, d} does not appear to be a subset of the original set {1, a, 2, b, 3, c}. The following elements appear in the requested subset Set but not in the original Set: {B, d}.\n"
     ]
    }
   ],
   "source": [
    "# supplying incorrect elements for subset\n",
    "# should give an informative error\n",
    "try:\n",
    "    set_1a2b3c.deduce_enum_proper_subset(subset=Set(a, B, two, d))\n",
    "except ValueError as the_error:\n",
    "    print(\"Value Error: {}\".format(the_error))"
   ]
  },
  {
   "cell_type": "code",
   "execution_count": 118,
   "metadata": {},
   "outputs": [
    {
     "name": "stdout",
     "output_type": "stream",
     "text": [
      "Value Error: Specified subset {1, 2, 3, 4, 5, 6} does not appear to be a subset of the original set {1, 2, 3}. The following elements appear in the requested subset Set but not in the original Set: {5, 4, 6}.\n"
     ]
    }
   ],
   "source": [
    "# Switching the subset and superset should give an error\n",
    "try:\n",
    "    set_123.deduce_enum_proper_subset(subset=set_123456)\n",
    "    assert False, \"Should not make it to this point!\"\n",
    "except ValueError as the_error:\n",
    "    print(\"Value Error: {}\".format(the_error))"
   ]
  },
  {
   "cell_type": "markdown",
   "metadata": {},
   "source": [
    "### Testing the `elem_multiplicity_reduction()` method\n",
    "\n",
    "The `Set.elem_multiplicity_reduction()` method has the following format:<br/>\n",
    "    <div style=\"width: 75%; border: 1px solid green; padding: 5px; margin: 20px; background-color: gainsboro; font-family:courier\">elem_multiplicity_reduction(self, elem=None, idx=None, **defaults_config)</div>\n",
    "and attempts to deduce that the Set expression is equal to the same Set in which the multiply-occurring set element specified by `elem` or by the 0-based position `idx` has been removed from the set. If `elem` specified, method attempts to delete the 2nd occurrence of `elem` from the set. If neither `elem` nor `idx` specified, method attempts to delete the first repeated element of the Set. If both `elem` and `idx` are specified, the `elem` param is ignored."
   ]
  },
  {
   "cell_type": "code",
   "execution_count": 119,
   "metadata": {},
   "outputs": [
    {
     "data": {
      "text/html": [
       "<a class=\"ProveItLink\" href=\"../__pv_it/demonstrations/672e9eb85899f16e7874eb49a66d2c74831e0b780/expr.ipynb\"><img src=\"data:image/png;base64,iVBORw0KGgoAAAANSUhEUgAAAGsAAAAVBAMAAACzuQ2OAAAAMFBMVEX///8AAAAAAAAAAAAAAAAA\n",
       "AAAAAAAAAAAAAAAAAAAAAAAAAAAAAAAAAAAAAAAAAAAv3aB7AAAAD3RSTlMAEER2zVSJ3Zki72ar\n",
       "MruaaVGaAAAACXBIWXMAAA7EAAAOxAGVKw4bAAABdElEQVQ4y2NgYGBUYiAFcEZCaBNFkrQx3HkI\n",
       "Ilk/AgneQphZHX4XoEy42LSMRzAt1wWAxBsQi62AgUGm5SNUfB4D2ycICy7G2MAQHwBhnfAHaUuH\n",
       "aWNghmk7ycCwCsqEiTF/ZZB3gIrZ49C2XoDh/ARUbUyLGPgJaTvOwHD+Aqo2IIjfQEAbENQzoGtj\n",
       "qmbA0MbhgKqN9zO6Nl6bsyjarECsWRtQtbEfYMB0ZACytvlA3hwnNCV9DJjauD4ia2M8EsDA2yeA\n",
       "ooT7ALo23gsMfF+RtbGBbOI7gKItjIETLQL4P6JpixdADklGsNEJDMwCjHBtIBbXAZAjBRDasuAR\n",
       "wPaTAZIUpnd0tEMTBUyMewMw3hi/gLXlT0CON55TX04zsIOSbv3//18gLISYRgcwKZeD7Dmz3mcD\n",
       "cnSDQSADHharAFwMTVsCAx4WGwOqNuYFUB6jAQMeljBCWws4Y8IClxkujo0F18/AuBpMzThKWlmS\n",
       "A0xbANZXbZU2JsAHAAAAAElFTkSuQmCC\n",
       "\" style=\"display:inline;vertical-align:middle;\" /></a>"
      ],
      "text/plain": [
       "{1, 2, 1, 3, 1}"
      ]
     },
     "metadata": {},
     "output_type": "display_data"
    },
    {
     "data": {
      "text/html": [
       "<a class=\"ProveItLink\" href=\"../__pv_it/demonstrations/dd4f40b5afb6a3f12b201be279c89104df2f74b80/expr.ipynb\"><img src=\"data:image/png;base64,iVBORw0KGgoAAAANSUhEUgAAAH8AAAAVBAMAAACd/CwcAAAAMFBMVEX///8AAAAAAAAAAAAAAAAA\n",
       "AAAAAAAAAAAAAAAAAAAAAAAAAAAAAAAAAAAAAAAAAAAv3aB7AAAAD3RSTlMAEER2zVSJ3Zki72ar\n",
       "MruaaVGaAAAACXBIWXMAAA7EAAAOxAGVKw4bAAABs0lEQVQ4y2NgYGBUYiAPcEZCaBNFMg1guPMQ\n",
       "RLJ+BJHXBTCkeQuhDLnlMCs7/C6gKHkDItgKgL444Y9hgEzLRxjTA0rPY2D7hKImHWYAA4M9pguY\n",
       "4QZ8hdInGRhWkWMAE4yxXoDh/AQyDICoAILjDAznLxAyYE7yZHQDWA7bBMC01KMoAxvA4YBsANNK\n",
       "hvcCaAbIOzL+hMXMZxRlViD2rA3IBkhtYGhHd0G8AMNiKJP9AIqy+UCXzXFiQDagn4GhDN2AFgaG\n",
       "b1BmHwOKMsYjAQy8fQLIBqxjYPyEbkAZAxM0IrmhDoApYwPZzncAyQDGzwzcH9AN+MrAAWWGMXBO\n",
       "QFYWL4ASC0DE+JWBxyGSQQBmACOI8RfkZZAQbwIDswBICKqMIQsRjfkTGBi/AOnHDOENDWAWAxsw\n",
       "6OVBUXSa4QVEcnpHRztECKwMOR2cWe+zgaEcaIuM2c3DF8AsnlNfTjOwgzKUTAYwokBC9f//f4EK\n",
       "gZUhJyRwvhTAZAXiEcIwgI0Bk5WARwhqAPMCGFeYAYPFaIBHCJxCgKUELLMyIGTgLGZ8QgyMq8HU\n",
       "jKPklok5wJQMAC8Bfe6a/9VcAAAAAElFTkSuQmCC\n",
       "\" style=\"display:inline;vertical-align:middle;\" /></a>"
      ],
      "text/plain": [
       "{1, a, 1, b, 2, a}"
      ]
     },
     "metadata": {},
     "output_type": "display_data"
    }
   ],
   "source": [
    "# A reminder of some Sets with (apparent) multiplicities\n",
    "display(Set(one, two, one, three, one))\n",
    "display(Set(one, a, one, b, two, a))"
   ]
  },
  {
   "cell_type": "code",
   "execution_count": 120,
   "metadata": {},
   "outputs": [
    {
     "data": {
      "text/html": [
       "<span style=\"font-size:20px;\"> <a class=\"ProveItLink\" href=\"../__pv_it/demonstrations/30f999689fea2ef66017f10733e3b0df0fb472150/proof.ipynb\" style=\"text-decoration: none\">&nbsp;&#x22A2;&nbsp;&nbsp;</a><a class=\"ProveItLink\" href=\"../__pv_it/demonstrations/545414a1796f77404dc7d3f93fc393a2ecf895a20/expr.ipynb\"><img src=\"data:image/png;base64,iVBORw0KGgoAAAANSUhEUgAAAIEAAAAuBAMAAAD9xGdYAAAAMFBMVEX///8AAAAAAAAAAAAAAAAA\n",
       "AAAAAAAAAAAAAAAAAAAAAAAAAAAAAAAAAAAAAAAAAAAv3aB7AAAAD3RSTlMAEER2zVSJ3Zki72ar\n",
       "MruaaVGaAAAACXBIWXMAAA7EAAAOxAGVKw4bAAACMUlEQVRIx+2VPUgcQRTH/3PLrTl1dSBNikBM\n",
       "GoOVRaogKNYhWZtAqrOKQQJJKgsLLQS3Oqw0BNGQMgm4fZotFPOheGCRxhSxFuT0rpAUl/2+ndn5\n",
       "2LX2Fcu7x+xvbvbNzA8AeYAyUXuRKz26X4qAk79codryH9a7ZAbnaTNO09r6q9Nk8G/qP844gvkW\n",
       "uLvSin9twbyIsrRGllG3o+z7s4AwJyDASAg/gM9xmtSMDu5NxbVJPWGH4miNJVQ+YbgEYR84arIE\n",
       "P+pucYIfS+AJlUWoCLemWIJ1yROsiUOG8Dh6byEMD/jgsoQ+D/lV2FnCts38hc1pbnQDeUJ/K0sg\n",
       "uwzCalBm9IDHE6wmhjpZgjnNfochjyE8R43r5nCLI9Qp+x3SXpBwwlkYlKSEIOv3glXQHmFe1E3z\n",
       "CtHG23Cc1XgLJrUB198PpB0OfrMm2Q+DP9u/0BecpKVutx1lvdpDxz9ZC8HsBztPXMmOCmMGiqxK\n",
       "05qcMAtFZkJKMD7GCRmHIrvde2OFv7WSThk9qCBLUSBf+Fvr/V65e/K1jZsQRiHjCDxT1jg5z+iN\n",
       "U3vZGFF5Rm+cO6h2VJ7RG2fSjk+05IbWG2dsBNciZIyD6r/rEDLGwahbjCA1zvFBM+8ZUUiNk/RC\n",
       "7Jkixgk/q9QzBYzzBzi3FZ7RG6dLWUKdanvBGedrsAoi94zeON+C/RC5R+gZvXEqjn+ywkzsmdLG\n",
       "KURQGkdBKGicnGdKGyfvmZLGkXvmP0W30kZyOPLEAAAAAElFTkSuQmCC\n",
       "\" style=\"display:inline;vertical-align:middle;\" /></a></span>"
      ],
      "text/plain": [
       "|- {1, 2, 1, 3, 1} =  \\\\ {1, 2, 3, 1}"
      ]
     },
     "metadata": {},
     "output_type": "display_data"
    }
   ],
   "source": [
    "# remove the 2nd occurrence of the element 1\n",
    "Set(one, two, one, three, one).elem_multiplicity_reduction(elem=one)"
   ]
  },
  {
   "cell_type": "code",
   "execution_count": 121,
   "metadata": {},
   "outputs": [
    {
     "data": {
      "text/html": [
       "<span style=\"font-size:20px;\"> <a class=\"ProveItLink\" href=\"../__pv_it/demonstrations/e777ce95dca3419d84e35c1c6b047804924660600/proof.ipynb\" style=\"text-decoration: none\">&nbsp;&#x22A2;&nbsp;&nbsp;</a><a class=\"ProveItLink\" href=\"../__pv_it/demonstrations/c76b0c54d75461f4d1ca82d6bfe661eb4e8758ec0/expr.ipynb\"><img src=\"data:image/png;base64,iVBORw0KGgoAAAANSUhEUgAAAIEAAAAuBAMAAAD9xGdYAAAAMFBMVEX///8AAAAAAAAAAAAAAAAA\n",
       "AAAAAAAAAAAAAAAAAAAAAAAAAAAAAAAAAAAAAAAAAAAv3aB7AAAAD3RSTlMAEER2zVSJ3Zki72ar\n",
       "MruaaVGaAAAACXBIWXMAAA7EAAAOxAGVKw4bAAAB9klEQVRIx+2VvUvDQBiHf2lo1Na0AVdBdHJ0\n",
       "cBJB6SwaF8Ep3RQR1MnBoQ4FO4mTioiKow7mT8ig+E27ubjo7BJtBydNmo/2Lrnkztl3CG9eLs8l\n",
       "uffuASCNQCT6FiOl8WEhAl7fqELWdi7qRjBDbbbhp2Ftf/k9GPyiOZcPiqCsA4NV2787gfLpZWFN\n",
       "2oahe9ndnEtYiiFADgj3wIWfBjW5haFpvzaVTrjSUN8jCZlzFAUIt0C9QRKcMEx+ghMV0ITMFpII\n",
       "vdMkQf2iCerkM0GY8J7bbIcFHJkkocdC9Cv0bsKpTrzCcYkavYsoIWd3E6RrAqHuasTovEUT1AYK\n",
       "rW6CUiL/Q8EiCAvoo1azaFMEQyP/Q7gWUnvCMmRNCglulrPcr9A6hJW41VS+4TXeQa2247dgUMub\n",
       "Tj9IzfbgtT1GP/Q/NB/R4+6kys9P08s6tdGas7M23dmfrmZMRke1Yx4JWVYLa2xCGQmZAiZBPvMT\n",
       "aQwJ2UDniSp9agUrJXegMVmIgnRJn1qHN2Ln5KqO/4gNLuPEeEbUOBHPiBvng0ngNc5SIoHHOLwE\n",
       "tnF4CWzj8BLYxmETeI0zwSTwGueUtSW5jUN55g/GoT0jbhxDS12LZONEPCNqnLR+4DBOWkelG4eL\n",
       "kGicBAKncSKeETZO1DOCxmF75he6dtfIj7panAAAAABJRU5ErkJggg==\n",
       "\" style=\"display:inline;vertical-align:middle;\" /></a></span>"
      ],
      "text/plain": [
       "|- {1, 2, 1, 3, 1} =  \\\\ {1, 2, 1, 3}"
      ]
     },
     "metadata": {},
     "output_type": "display_data"
    }
   ],
   "source": [
    "# remove the element 1 occurring at 0-based index position 4\n",
    "Set(one, two, one, three, one).elem_multiplicity_reduction(idx=4)"
   ]
  },
  {
   "cell_type": "code",
   "execution_count": 122,
   "metadata": {},
   "outputs": [
    {
     "data": {
      "text/html": [
       "<span style=\"font-size:20px;\"> <a class=\"ProveItLink\" href=\"../__pv_it/demonstrations/f7f6a5acd22f16cf8e98848fdc684c1a454ad7c30/proof.ipynb\" style=\"text-decoration: none\">&nbsp;&#x22A2;&nbsp;&nbsp;</a><a class=\"ProveItLink\" href=\"../__pv_it/demonstrations/6880da42abe6aec29d7d1cfd25f85b017c3b10490/expr.ipynb\"><img src=\"data:image/png;base64,iVBORw0KGgoAAAANSUhEUgAAAJUAAAAuBAMAAADTgUbKAAAAMFBMVEX///8AAAAAAAAAAAAAAAAA\n",
       "AAAAAAAAAAAAAAAAAAAAAAAAAAAAAAAAAAAAAAAAAAAv3aB7AAAAD3RSTlMAEER2zVSJ3Zki72ar\n",
       "MruaaVGaAAAACXBIWXMAAA7EAAAOxAGVKw4bAAACJUlEQVRIx+2VvS8DYRzHv+fivB6XWCXCZDSY\n",
       "RELMQi0SU7sRkWAyGBgkOkknRAQxMrR/wg3Ee9rNYmG2lHYw1b08d9fn5U776+o3tN98f79+r8/d\n",
       "c88HgDYCWnUtSdb4MDELb++C0V52P18tdq3sXIk1zE0mDlc+guFgjHmfQpax4Szzfp4NncH48tXg\n",
       "XtkX2i7SKV+FY8xbVmQBU2zoAbhiDZ1l6VUMTTMvGGNeclbeQjHHZ7Vdol/MYl5y1h1QLPFZTqUL\n",
       "QhbzkrOc2oGY1bYNKcvzxKzOaX7I/BazzMkXKcv3JvyELa9s4KTAZ3XYkNeYUqzR8c5T3N86nRGG\n",
       "DiBndZflLNfTbrgw88DihnpsMcssoa8qZDHPmOHvV5/NZS2iS9gT/WU5i3lpi79f0XN0G2YGuqWF\n",
       "Wa7qtt31WKgf8z2sKvfEeg5axfk+ymb32TY3fuCpnoKzl7xmNOZ5MfvrOT9bwJZzxZ1arYIO963u\n",
       "faw8+Wo067zHbjMa872YveqdGOFDWoCkomakErKM0MvIKmpGSsrSLwI1EAhtTFZhs05hTzxpg+eN\n",
       "8Hc6ZDWmUNq1eNIe31LP+7UU/qulapK1CsLSWSsRlsZaNWFprFUTlsTaGMKSWBtDWCJrlScgkbVK\n",
       "wtJYW09YVTXFWhVhqaxVEZbG2hjCkljLETb5Of7J2hjCklgbQ1gaa9WEbYG1DWU1yNqErKZZKxG2\n",
       "BdbKhCWzNp6wvxkb9Cpzb0+fAAAAAElFTkSuQmCC\n",
       "\" style=\"display:inline;vertical-align:middle;\" /></a></span>"
      ],
      "text/plain": [
       "|- {1, 2, 1, 3, 1, 3} =  \\\\ {1, 2, 1, 3, 3}"
      ]
     },
     "metadata": {},
     "output_type": "display_data"
    }
   ],
   "source": [
    "# remove the element '1' occurring at 0-based index position 4\n",
    "# ignoring the elem argument referring to element '3'\n",
    "Set(one, two, one, three, one, three).elem_multiplicity_reduction(elem=three, idx=4)"
   ]
  },
  {
   "cell_type": "code",
   "execution_count": 123,
   "metadata": {},
   "outputs": [
    {
     "data": {
      "text/html": [
       "<span style=\"font-size:20px;\"> <a class=\"ProveItLink\" href=\"../__pv_it/demonstrations/4503c21412655b47e12013b7ee29773c93afa7970/proof.ipynb\" style=\"text-decoration: none\">&nbsp;&#x22A2;&nbsp;&nbsp;</a><a class=\"ProveItLink\" href=\"../__pv_it/demonstrations/349c14d0b83bc68775de18b80974f0fc95a32d300/expr.ipynb\"><img src=\"data:image/png;base64,iVBORw0KGgoAAAANSUhEUgAAAJUAAAAuBAMAAADTgUbKAAAAMFBMVEX///8AAAAAAAAAAAAAAAAA\n",
       "AAAAAAAAAAAAAAAAAAAAAAAAAAAAAAAAAAAAAAAAAAAv3aB7AAAAD3RSTlMAEER2zVSJ3Zki72ar\n",
       "MruaaVGaAAAACXBIWXMAAA7EAAAOxAGVKw4bAAACO0lEQVRIx+2Vv0ubQRzGn0vsG0UjB91KqOhf\n",
       "4CAdpOCPyUHauLQ4KThUitC66KhDIJk04KBI0EKH0hY0f0LAlrYqmK0UuohLB0HNj0KHou/75i55\n",
       "7y53yXtZ/RJyD988eXK5u/c+AMgQ7KpnVmmNDFpm4fe51Hhw473/pIozvszE4w98IplnRcFyKX3F\n",
       "eev+ze/PlaxE6obLKTbuwSkJnldNsoAxdV7RelaVjT+ATx1mRbg4pDjLdpZVc7j1DTgrhsjKLWzJ\n",
       "WV1HT5PcvSbY5Kzu8WBW5COuqJQ1MEH+8b0tC7bRWsKqXwVgNx/MepRHWp7XHMV7JmMFwbafFKaV\n",
       "m0QwaxNYkbNSwF8mNyDYyBchLL5Bg1kHICU5awURdip62bS4zZkU16u/EMgiZfRey1lVdDP5Aj3Z\n",
       "oG2OiuvV2Ef3RaroG58F5VnEE/+95fFa8XlEqddiNrxueibeZEEq7niBl+vrvoLjbt6At8kn+FP7\n",
       "cDuTSddavk1zvk4Pp/NYdX878eTXUdFXfceVE8S85zux6G6111q7va2wlm/TnFX/xqCqmjG0TFkO\n",
       "VDVvaKlZ0XdcPYSiyLCh5Z888ablNwoaprqKmlogn+X7YOer7X2/lMR9dVQhWduEsPasVQirZa0F\n",
       "YXWstSGslkMWhG2d1T5hW2e1T9jWWe0TVsfa9gnbrETWWhBWy1oLwmpZa0NYDWtDENa8j7aE1bHW\n",
       "hrA61toQ1szacIQ1szYcYY2sDUlYI2vDEtaatXrC3gHGHvFgUk8rHQAAAABJRU5ErkJggg==\n",
       "\" style=\"display:inline;vertical-align:middle;\" /></a></span>"
      ],
      "text/plain": [
       "|- {1, a, 1, b, 2, a} =  \\\\ {1, 1, b, 2, a}"
      ]
     },
     "metadata": {},
     "output_type": "display_data"
    }
   ],
   "source": [
    "# remove the 1st occurrence of the multiply-occurring element 'a'\n",
    "Set(one, a, one, b, two, a).elem_multiplicity_reduction(idx=1)"
   ]
  },
  {
   "cell_type": "code",
   "execution_count": 124,
   "metadata": {},
   "outputs": [
    {
     "data": {
      "text/html": [
       "<span style=\"font-size:20px;\"> <a class=\"ProveItLink\" href=\"../__pv_it/demonstrations/3264fbfdbce30b9705e1d81d4e4685582d4063ae0/proof.ipynb\" style=\"text-decoration: none\">&nbsp;&#x22A2;&nbsp;&nbsp;</a><a class=\"ProveItLink\" href=\"../__pv_it/demonstrations/129d5645edfef463d63863db13bbe064a6bb8c490/expr.ipynb\"><img src=\"data:image/png;base64,iVBORw0KGgoAAAANSUhEUgAAAJUAAAAuBAMAAADTgUbKAAAAMFBMVEX///8AAAAAAAAAAAAAAAAA\n",
       "AAAAAAAAAAAAAAAAAAAAAAAAAAAAAAAAAAAAAAAAAAAv3aB7AAAAD3RSTlMAEER2zVSJ3Zki72ar\n",
       "MruaaVGaAAAACXBIWXMAAA7EAAAOxAGVKw4bAAAClUlEQVRIx+2VzWsTQRjGn01sPtqNLHiTYNW/\n",
       "oIJ4EMHYkwfReFF6asCDIkLjpfUgtIdA99QGPFilaMGDqGDzB3gIVPGjQnNSBMGKFw+KTZsIPZR1\n",
       "dzO7O187u929OoTswzvPPpnsvDs/ANpxJBvFCaF08ljCLHz9zhWGus73Z0Nwlm4TceSptxDzYoex\n",
       "/OJuydXtv/nukpBVbnQ9eZ5cHyG3zXiuS7KAs+K6sn5Wn1zfA89TZmU8sWpgo5kua+Cwx1tgo7OP\n",
       "rOVr9/isA2tnqp57lrHxWYUKnZV5hj8GlzV6Ttv19naHsZ0eJMy4ow08bNFZh1uY59c1aeAJkfk2\n",
       "Y3tcZZa1PA46axGY5rMawF8iF8DYtNdMWGnBoLNeQtvms6aRIV0xQpbl2XLj7PM62KaytB2MbPFZ\n",
       "fRSIvIJik7ZNGuzzCvbR/mh96JUJGF6W5og95/E4pVINWcMpERtuSntiqgmtZ19/4OrcnKuQszdv\n",
       "1NnkdfwcTN43zflBybWF9NfH1QstzNi/XT71Za3jKv1Dbx155/0u37C32inNWlaPlFxbSK+6J4Yh\n",
       "qsuKkiorB1HVFCUxK7viqUMQlDamKLmdx5603omCwOSrrKoE7QV/Hiy9SXre36ri/0g19slaCWGT\n",
       "s1YgbDRrfcJiqfFbSdho1vqELW5i6qiKPjGY5r0PehPDK+myfMIOd6Hvpsvyzw+9Dn0vUZbPWpqw\n",
       "+S0VYaNZSxEW38ZEwspGGGspwuKuirAxWEsRtrCpImwM1gaExSs1YaNZGxB2qIYHImHV+8iy1ics\n",
       "PgEnqEmBsNGs9QlbvGOa9WAysr8krPUJm7csq0JNRvZqCGtl+I2VJWGtDL+KLCVrJSWRsDFZKylJ\n",
       "CJuYteGE/QcD/vIXE94cGQAAAABJRU5ErkJggg==\n",
       "\" style=\"display:inline;vertical-align:middle;\" /></a></span>"
      ],
      "text/plain": [
       "|- {1, a, 1, b, 2, a} =  \\\\ {1, a, b, 2, a}"
      ]
     },
     "metadata": {},
     "output_type": "display_data"
    }
   ],
   "source": [
    "# remove the 1st repetition of an element (using default args)\n",
    "Set(one, a, one, b, two, a).elem_multiplicity_reduction()"
   ]
  },
  {
   "cell_type": "code",
   "execution_count": 125,
   "metadata": {},
   "outputs": [
    {
     "data": {
      "text/html": [
       "<span style=\"font-size:20px;\"> <a class=\"ProveItLink\" href=\"../__pv_it/demonstrations/aa7d1bc0c43623e44e51b79cd23a6dd4d4f341be0/proof.ipynb\" style=\"text-decoration: none\">&nbsp;&#x22A2;&nbsp;&nbsp;</a><a class=\"ProveItLink\" href=\"../__pv_it/demonstrations/b42f24c13e34d4ccaf37adb4abe8234b2fb97d0a0/expr.ipynb\"><img src=\"data:image/png;base64,iVBORw0KGgoAAAANSUhEUgAAALUAAAAuBAMAAACc3EUaAAAAMFBMVEX///8AAAAAAAAAAAAAAAAA\n",
       "AAAAAAAAAAAAAAAAAAAAAAAAAAAAAAAAAAAAAAAAAAAv3aB7AAAAD3RSTlMAEER2zVSJ3Zki72ar\n",
       "MruaaVGaAAAACXBIWXMAAA7EAAAOxAGVKw4bAAABxUlEQVRYw+2WsUvDQBSH31kSFawcuAqia5cM\n",
       "Tl0snQUrnZzqVhBBnQLiWHATRxGhboIO9k/ooCDq3sXFvUuhDm7WNMn57pLnvXIgqG8I735HvoRw\n",
       "ufsAQKyAm5rdMqLVZUdseHnVAm8wuhQPkqHqzKQnzQ4lfS309wEWW4N4pDrQE/GwIfUuqThpZrCh\n",
       "kBLTbqqjJ7Amja6EElu2F9iw67+SPVNxxy6PiWFUXYDzjjt2u4Ze+6IKGezRow+vokdT7OMwvA7D\n",
       "I5WIOwQvnkh37+1X8fee77pjNyT+3uk6EQRbpPdLir2TtQb9d4ClCsQdZqu5vVMQQ4g7jR0lWet7\n",
       "7nH4BNOfe1LUIbaae75d70Aokw6xx0nmvxPVJt4fg6+jdM7Du1QdjfLZ2yhP9yo85+O7SyS7cJns\n",
       "k0H+rq/mFqjDoaWfRG/JQ4ib1BzxAiBu9OTs3tV5uVuD//rRYrlPht9QxXMfw2+o4rpPn8Hmuk+T\n",
       "yea4jwt23rnzF9hc9ykz2Fz3adtvdmz30fyGKrb76H5DFdd9GnKCdWLnPobffMu2dh/++ma4D//f\n",
       "sXefCdlW7sNiM93H8BvylOK5j+k3VLHch+M3H+eo1Z+U4Wb5AAAAAElFTkSuQmCC\n",
       "\" style=\"display:inline;vertical-align:middle;\" /></a></span>"
      ],
      "text/plain": [
       "|- {1, 1 + 1, 1, 1 + 1} =  \\\\ {1, 1 + 1, 1}"
      ]
     },
     "metadata": {},
     "output_type": "display_data"
    }
   ],
   "source": [
    "# reduce set by removing a non-trivially-defined multiply-occurring element\n",
    "Set(one, Add(one, one), one, Add(one, one)).elem_multiplicity_reduction(elem=Add(one, one))"
   ]
  },
  {
   "cell_type": "code",
   "execution_count": 126,
   "metadata": {},
   "outputs": [
    {
     "name": "stdout",
     "output_type": "stream",
     "text": [
      "Value Error: {1, 2, 3} appears to already be in reduced form.\n"
     ]
    }
   ],
   "source": [
    "# try reducing with default args a set with no multiplicities\n",
    "try:\n",
    "    Set(one, two, three).elem_multiplicity_reduction()\n",
    "    assert False, \"Should not make it to this point!\"\n",
    "except ValueError as the_error:\n",
    "    print(\"Value Error: {}\".format(the_error))"
   ]
  },
  {
   "cell_type": "code",
   "execution_count": 127,
   "metadata": {},
   "outputs": [
    {
     "name": "stdout",
     "output_type": "stream",
     "text": [
      "Value Error: Specified element 'b' appears just 1 time in the enum Set and thus cannot be eliminated.\n"
     ]
    }
   ],
   "source": [
    "# try reducing a specific element with no multiplicities\n",
    "try:\n",
    "    Set(one, a, one, b, two, a).elem_multiplicity_reduction(elem=b)\n",
    "    assert False, \"Should not make it to this point!\"\n",
    "except ValueError as the_error:\n",
    "    print(\"Value Error: {}\".format(the_error))"
   ]
  },
  {
   "cell_type": "code",
   "execution_count": 128,
   "metadata": {},
   "outputs": [
    {
     "name": "stdout",
     "output_type": "stream",
     "text": [
      "Value Error: Specified element 'c' appears zero times in the enum Set and thus cannot be eliminated.\n"
     ]
    }
   ],
   "source": [
    "# try reducing a specific element that does not appear in the set\n",
    "try:\n",
    "    Set(one, a, one, b, two, a).elem_multiplicity_reduction(elem=c)\n",
    "    assert False, \"Should not make it to this point!\"\n",
    "except ValueError as the_error:\n",
    "    print(\"Value Error: {}\".format(the_error))"
   ]
  },
  {
   "cell_type": "code",
   "execution_count": 129,
   "metadata": {},
   "outputs": [
    {
     "name": "stdout",
     "output_type": "stream",
     "text": [
      "Value Error: The element 'b' specified at index idx=3 occurs just once in the enum Set and thus cannot be eliminated.\n"
     ]
    }
   ],
   "source": [
    "# try reducing an element by idx when the elem occurs only once\n",
    "try:\n",
    "    Set(one, a, one, b, two, a).elem_multiplicity_reduction(idx=3)\n",
    "    assert False, \"Should not make it to this point!\"\n",
    "except ValueError as the_error:\n",
    "    print(\"Value Error: {}\".format(the_error))"
   ]
  },
  {
   "cell_type": "markdown",
   "metadata": {},
   "source": [
    "### Testing the `reduction()` method\n",
    "\n",
    "The <span style=\"font-family:courier\">Set.reduction()</span> method has the following format:<br/>\n",
    "    <div style=\"width: 50%; border: 1px solid green; padding: 5px; margin: 20px; background-color: gainsboro; font-family:courier\">reduction(self, assumptions=USE_DEFAULTS)</div>\n",
    "and attempts to deduce that the Set expression is equal to the Set's support -- i.e. equal to a Set with all multiplicities reduced to 1. The resulting support Set maintains the original order of all 1st-appearing elements in the Set."
   ]
  },
  {
   "cell_type": "code",
   "execution_count": 130,
   "metadata": {},
   "outputs": [
    {
     "data": {
      "text/html": [
       "<a class=\"ProveItLink\" href=\"../__pv_it/demonstrations/672e9eb85899f16e7874eb49a66d2c74831e0b780/expr.ipynb\"><img src=\"data:image/png;base64,iVBORw0KGgoAAAANSUhEUgAAAGsAAAAVBAMAAACzuQ2OAAAAMFBMVEX///8AAAAAAAAAAAAAAAAA\n",
       "AAAAAAAAAAAAAAAAAAAAAAAAAAAAAAAAAAAAAAAAAAAv3aB7AAAAD3RSTlMAEER2zVSJ3Zki72ar\n",
       "MruaaVGaAAAACXBIWXMAAA7EAAAOxAGVKw4bAAABdElEQVQ4y2NgYGBUYiAFcEZCaBNFkrQx3HkI\n",
       "Ilk/AgneQphZHX4XoEy42LSMRzAt1wWAxBsQi62AgUGm5SNUfB4D2ycICy7G2MAQHwBhnfAHaUuH\n",
       "aWNghmk7ycCwCsqEiTF/ZZB3gIrZ49C2XoDh/ARUbUyLGPgJaTvOwHD+Aqo2IIjfQEAbENQzoGtj\n",
       "qmbA0MbhgKqN9zO6Nl6bsyjarECsWRtQtbEfYMB0ZACytvlA3hwnNCV9DJjauD4ia2M8EsDA2yeA\n",
       "ooT7ALo23gsMfF+RtbGBbOI7gKItjIETLQL4P6JpixdADklGsNEJDMwCjHBtIBbXAZAjBRDasuAR\n",
       "wPaTAZIUpnd0tEMTBUyMewMw3hi/gLXlT0CON55TX04zsIOSbv3//18gLISYRgcwKZeD7Dmz3mcD\n",
       "cnSDQSADHharAFwMTVsCAx4WGwOqNuYFUB6jAQMeljBCWws4Y8IClxkujo0F18/AuBpMzThKWlmS\n",
       "A0xbANZXbZU2JsAHAAAAAElFTkSuQmCC\n",
       "\" style=\"display:inline;vertical-align:middle;\" /></a>"
      ],
      "text/plain": [
       "{1, 2, 1, 3, 1}"
      ]
     },
     "metadata": {},
     "output_type": "display_data"
    },
    {
     "data": {
      "text/html": [
       "<a class=\"ProveItLink\" href=\"../__pv_it/demonstrations/dd4f40b5afb6a3f12b201be279c89104df2f74b80/expr.ipynb\"><img src=\"data:image/png;base64,iVBORw0KGgoAAAANSUhEUgAAAH8AAAAVBAMAAACd/CwcAAAAMFBMVEX///8AAAAAAAAAAAAAAAAA\n",
       "AAAAAAAAAAAAAAAAAAAAAAAAAAAAAAAAAAAAAAAAAAAv3aB7AAAAD3RSTlMAEER2zVSJ3Zki72ar\n",
       "MruaaVGaAAAACXBIWXMAAA7EAAAOxAGVKw4bAAABs0lEQVQ4y2NgYGBUYiAPcEZCaBNFMg1guPMQ\n",
       "RLJ+BJHXBTCkeQuhDLnlMCs7/C6gKHkDItgKgL444Y9hgEzLRxjTA0rPY2D7hKImHWYAA4M9pguY\n",
       "4QZ8hdInGRhWkWMAE4yxXoDh/AQyDICoAILjDAznLxAyYE7yZHQDWA7bBMC01KMoAxvA4YBsANNK\n",
       "hvcCaAbIOzL+hMXMZxRlViD2rA3IBkhtYGhHd0G8AMNiKJP9AIqy+UCXzXFiQDagn4GhDN2AFgaG\n",
       "b1BmHwOKMsYjAQy8fQLIBqxjYPyEbkAZAxM0IrmhDoApYwPZzncAyQDGzwzcH9AN+MrAAWWGMXBO\n",
       "QFYWL4ASC0DE+JWBxyGSQQBmACOI8RfkZZAQbwIDswBICKqMIQsRjfkTGBi/AOnHDOENDWAWAxsw\n",
       "6OVBUXSa4QVEcnpHRztECKwMOR2cWe+zgaEcaIuM2c3DF8AsnlNfTjOwgzKUTAYwokBC9f//f4EK\n",
       "gZUhJyRwvhTAZAXiEcIwgI0Bk5WARwhqAPMCGFeYAYPFaIBHCJxCgKUELLMyIGTgLGZ8QgyMq8HU\n",
       "jKPklok5wJQMAC8Bfe6a/9VcAAAAAElFTkSuQmCC\n",
       "\" style=\"display:inline;vertical-align:middle;\" /></a>"
      ],
      "text/plain": [
       "{1, a, 1, b, 2, a}"
      ]
     },
     "metadata": {},
     "output_type": "display_data"
    }
   ],
   "source": [
    "# A reminder of some Sets with (apparent) multiplicities\n",
    "display(Set(one, two, one, three, one))\n",
    "display(Set(one, a, one, b, two, a))"
   ]
  },
  {
   "cell_type": "code",
   "execution_count": 131,
   "metadata": {},
   "outputs": [
    {
     "data": {
      "text/html": [
       "<span style=\"font-size:20px;\"> <a class=\"ProveItLink\" href=\"../__pv_it/demonstrations/bb381a2ba708cd7d338499f84c4798b702f8a93e0/proof.ipynb\" style=\"text-decoration: none\">&nbsp;&#x22A2;&nbsp;&nbsp;</a><a class=\"ProveItLink\" href=\"../__pv_it/demonstrations/7316ac0867088dac01db63840550296af02130880/expr.ipynb\"><img src=\"data:image/png;base64,iVBORw0KGgoAAAANSUhEUgAAAM0AAAAVBAMAAAAX/3cYAAAAMFBMVEX///8AAAAAAAAAAAAAAAAA\n",
       "AAAAAAAAAAAAAAAAAAAAAAAAAAAAAAAAAAAAAAAAAAAv3aB7AAAAD3RSTlMAEER2zVSJ3Zki72ar\n",
       "MruaaVGaAAAACXBIWXMAAA7EAAAOxAGVKw4bAAACMklEQVRIx5WWvW/TQBiHf64VJ07j1qIrEoGJ\n",
       "sUhMFRJR5grMUomp2YIQUsNUJJDKEAkPqMoELUKlYqRD8wcweCjiW80EDEi0zEXCkA4MyPhef92d\n",
       "3Qu+IXr9+p577i73XgJAO4cyzbxelD3VnAhcPFvKg6+H+ZzeticBFT/8sG4ncvfKKA7T3KMb3xPk\n",
       "MxvuKD/Uss0DG/0fAkqA0QNO9/34xRaMX1GU5rT7WHai6M1VNl437+nygHmAlSaPdhMP9MTzFniR\n",
       "7EWc049xphXnLis8KdAYoL7NowWeXRv7A9Ez9RyzpTx1H40/PFrgeQ3sj0QP2/5hqfX00PjLowWe\n",
       "sK1B9kzdRRlP2Ko/eZTe1lpiF+u37LEufRQ8CxTWVql59NCXPN/meZSAJ0NpKh7y++bwnmdOrhR3\n",
       "JOCegDLgaVvqso68p+7zHm1PEpl7TRGoHQgoA6x1W+gy7ckea4SZY95jtOX1fDkUPS8hoATMeEKX\n",
       "JZjSuZ71JQ8Vv/j9HAmeSgebPEpAet40mkEHuq2lHhbVPbZ4O/PcVJw3Qj8BFwiI0AggjxHWFRX9\n",
       "Y9d9EJd/kpsehkWgjWm8lYHiXCeAecd1ewQQytVP4934ParsGlwLgnEUZbnzbngZrrL5fdhdHJ7o\n",
       "SYFqEAStCCCUq1Nq16CIKrY4+YL1qIHM04EiMvB/nhMBfTt+0uahiOYyrJ/3LEwGzOTM6tmvY0GU\n",
       "8tB28p70ilAAG6/K/T+45RQkHzpq4B9qYcXDVfU0ZQAAAABJRU5ErkJggg==\n",
       "\" style=\"display:inline;vertical-align:middle;\" /></a></span>"
      ],
      "text/plain": [
       "|- {1, 2, 1, 3, 1} = {1, 2, 3}"
      ]
     },
     "metadata": {},
     "output_type": "display_data"
    }
   ],
   "source": [
    "Set(one, two, one, three, one).reduction()"
   ]
  },
  {
   "cell_type": "code",
   "execution_count": 132,
   "metadata": {},
   "outputs": [
    {
     "data": {
      "text/html": [
       "<span style=\"font-size:20px;\"> <a class=\"ProveItLink\" href=\"../__pv_it/demonstrations/74cd97801f151aeb55ff64ba1e2e55a71f6a13a60/proof.ipynb\" style=\"text-decoration: none\">&nbsp;&#x22A2;&nbsp;&nbsp;</a><a class=\"ProveItLink\" href=\"../__pv_it/demonstrations/34dbe7c9fbdf59b24bd5ddabe9010acb7272b93d0/expr.ipynb\"><img src=\"data:image/png;base64,iVBORw0KGgoAAAANSUhEUgAAAPMAAAAVBAMAAABhxcWTAAAAMFBMVEX///8AAAAAAAAAAAAAAAAA\n",
       "AAAAAAAAAAAAAAAAAAAAAAAAAAAAAAAAAAAAAAAAAAAv3aB7AAAAD3RSTlMAEER2zVSJ3Zki72ar\n",
       "MruaaVGaAAAACXBIWXMAAA7EAAAOxAGVKw4bAAAC5klEQVRIx52WzWsTQRjGn2maz26SBW9STPXo\n",
       "pRFFUBRjQfBQNF6UngwoVERpvLQ9CM0h0IDQLoifBA14EBVs/gDBQtr6UbE5KYJgxIuIYtomQg8l\n",
       "zszOfs42LFlIZvLsvM9vZuedNwuA7ENv1x3NQ/TlFh3T20N7e0THP6qy6M/t63f2HVxnLjc8nA1t\n",
       "z1NjsqUzdfuIxKIUxN3wWZoT+ZUXvfvFP/T7N+uGqDZYXJdMbNpp0T5CaMM+JJSXophE3p6VH0d/\n",
       "QUy/gYkhYNyMD8hom9YW7TvguQ80cEJGJ7N6q2iIVXyj+4zOgoo1rUf0sJBi61C2fKNNwhtgrd4j\n",
       "ely0Sh7Ktje6fOm2G91fO5Y1bs+IHVs5kvaDttxGDy4bY8JNgY5kHA/3Gf6qLnTqJNkysn5Tb/dr\n",
       "CXo3UOE/IlP8WjTdTLTlRlpqytirb3TWR1nnYdWO2V3FrHvVF1U8MSasHyfyAhG6vGhbWjV3M9GW\n",
       "Gz10sbQYc5N+HtPnWB5xYOaBSTe6CPwT3Tm9iTQRzrEDeMpF1t1MtOVGn0YyJ7oNNvmlLOJzqh3z\n",
       "EmTDjZ5En1jegKghsQZS9HDi8pC7DHE3E2250ZkOi4R5xXNixChJBoZsYqDpRrcREd3ziPINS6Xx\n",
       "2ixdjr3WC5xA29zosZ7XxWAOD/gm2jKcsMFtKJkxqLBp2GZ7xqR4DgGVSaksloIaQpUuGa463JJ1\n",
       "mh/c7RNwALhqDg7RFE6x5PyBC4UCacGureInuHSvVJrlUiIdnI50OVwTmh5guSnVRIGHRqdLpbzt\n",
       "XCvvW6sIs7+LwcNfanVMqQ7tCk1bJs10Oi0ukdr18vGd0R8WRqs8wHIjK7fAQ8OdTidjLyn8Omf9\n",
       "/6iS5iHtvGpngFeoC52zDCBpHlJ3dKibm44OGLlC0uaNXZA0D0mULmfhr0gBnqFFXo6NkhSwDMwh\n",
       "gW4SS3zp1actBXiF0nTnrw3LPb4g3fUK9OUWvUbLy39+b+Hvna89cwAAAABJRU5ErkJggg==\n",
       "\" style=\"display:inline;vertical-align:middle;\" /></a></span>"
      ],
      "text/plain": [
       "|- {1, a, 1, b, 2, a} = {1, a, b, 2}"
      ]
     },
     "metadata": {},
     "output_type": "display_data"
    }
   ],
   "source": [
    "Set(one, a, one, b, two, a).reduction()"
   ]
  },
  {
   "cell_type": "code",
   "execution_count": 133,
   "metadata": {},
   "outputs": [
    {
     "data": {
      "text/html": [
       "<span style=\"font-size:20px;\"> <a class=\"ProveItLink\" href=\"../__pv_it/demonstrations/b3ab6e796699d6ea614bb5f2139830a7e0ddab190/proof.ipynb\" style=\"text-decoration: none\">&nbsp;&#x22A2;&nbsp;&nbsp;</a><a class=\"ProveItLink\" href=\"../__pv_it/demonstrations/1d2af0cb008551ad3b96ba74154b4c6e42ced5be0/expr.ipynb\"><img src=\"data:image/png;base64,iVBORw0KGgoAAAANSUhEUgAAAKUAAAAVBAMAAADVzzOcAAAAMFBMVEX///8AAAAAAAAAAAAAAAAA\n",
       "AAAAAAAAAAAAAAAAAAAAAAAAAAAAAAAAAAAAAAAAAAAv3aB7AAAAD3RSTlMAEER2zVSJ3Zki72ar\n",
       "MruaaVGaAAAACXBIWXMAAA7EAAAOxAGVKw4bAAABg0lEQVQ4y2NgYGBUYsAFOCOxiRKhwUQRpxKG\n",
       "Ow+xCBLWwPoRSPAWwizq8LsAYU3LeAQk32BqI0IDWwEDg0zLR6iSeQxsnyAebGCID2BgSMc0kwgN\n",
       "ICUMzDAlJxkYVoEZzF8Z5B1wmklAA6qS9QIM5yeAGEyLGPiJMROrBlQlxxkYzkPDhyF+AxFmYtWA\n",
       "qgQI6qE0UzUDEWZi1cDhgKqE9zOUtjkLJK0gnPZyEKhhIFLDrA2oStgPwFigaJwfgOFOwhrmODGg\n",
       "KumDs7iAgoxH0A0lQgNvnwCKEm6orbwXGPi+AgPPCd2ZxGjgO4CiJIyBE5w0+D+ClcQLYIQnERrg\n",
       "0cgIti2BgVkAxOI6APZKFp54x60BrITtJwM4FzBM7+hoB7O4N+BNn/g1gJTwnPpymoEdVCzU////\n",
       "BcLS6HiEO30S0AC2FgwCGTBZuNyJXwNCSQIDJguvmTg1MC+AFd8GDBgshhZMM4nQwPkVphahC1FN\n",
       "rMZSPxChYcZR3NVLTgAWUUIaAKGSqvsSI2mgAAAAAElFTkSuQmCC\n",
       "\" style=\"display:inline;vertical-align:middle;\" /></a></span>"
      ],
      "text/plain": [
       "|- {1, 2, 3} = {1, 2, 3}"
      ]
     },
     "metadata": {},
     "output_type": "display_data"
    }
   ],
   "source": [
    "Set(one, two, three).reduction()"
   ]
  },
  {
   "cell_type": "code",
   "execution_count": 134,
   "metadata": {},
   "outputs": [
    {
     "data": {
      "text/html": [
       "<span style=\"font-size:20px;\"> <a class=\"ProveItLink\" href=\"../__pv_it/demonstrations/ce329603a0197e2ad8457034b017fc11aea9569b0/proof.ipynb\" style=\"text-decoration: none\">&nbsp;&#x22A2;&nbsp;&nbsp;</a><a class=\"ProveItLink\" href=\"../__pv_it/demonstrations/85f932caeb41cfeb93b9157c45bc3828b78f12030/expr.ipynb\"><img src=\"data:image/png;base64,iVBORw0KGgoAAAANSUhEUgAAAEMAAAAVBAMAAADvM06qAAAAMFBMVEX///8AAAAAAAAAAAAAAAAA\n",
       "AAAAAAAAAAAAAAAAAAAAAAAAAAAAAAAAAAAAAAAAAAAv3aB7AAAAD3RSTlMAEER2zVSJ3Zki72ar\n",
       "MruaaVGaAAAACXBIWXMAAA7EAAAOxAGVKw4bAAAAvUlEQVQoz2NgYGBUYpg6gQELEFLgjISwTBQZ\n",
       "eM8JYKpgdhJguPMQxGL9CCT4DmAqiQdpewNisRXACDSQDicGkxIOB5AHF4BFOcrBAOK9FhBhBSJm\n",
       "bQASnF8xDOFcDSLnBzAwzHECC8i4oqs4ogCiGI8EMPD2gQM2RQHdlBvggGVzggUsOIjR3PIGHsQQ\n",
       "Hy3A4aOswRa64IAFBzEasIIHMThgpTZgKgEFLCM4iBlmHGWYdhRL0uXsCeDMASoDAFjQOXuknVrp\n",
       "AAAAAElFTkSuQmCC\n",
       "\" style=\"display:inline;vertical-align:middle;\" /></a></span>"
      ],
      "text/plain": [
       "|- {} = {}"
      ]
     },
     "metadata": {},
     "output_type": "display_data"
    }
   ],
   "source": [
    "Set().reduction()"
   ]
  },
  {
   "cell_type": "code",
   "execution_count": 135,
   "metadata": {},
   "outputs": [
    {
     "data": {
      "text/html": [
       "<span style=\"font-size:20px;\"> <a class=\"ProveItLink\" href=\"../__pv_it/demonstrations/f2188871f22d0f805b6845263de5a4c2f17394d10/proof.ipynb\" style=\"text-decoration: none\">&nbsp;&#x22A2;&nbsp;&nbsp;</a><a class=\"ProveItLink\" href=\"../__pv_it/demonstrations/1d1697271df517ff1ab6c4865dac0c4fa26c749d0/expr.ipynb\"><img src=\"data:image/png;base64,iVBORw0KGgoAAAANSUhEUgAAAH4AAAAuBAMAAAAcg7BMAAAAMFBMVEX///8AAAAAAAAAAAAAAAAA\n",
       "AAAAAAAAAAAAAAAAAAAAAAAAAAAAAAAAAAAAAAAAAAAv3aB7AAAAD3RSTlMAEER2zVSJ3Zki72ar\n",
       "MruaaVGaAAAACXBIWXMAAA7EAAAOxAGVKw4bAAABpUlEQVRIx+2VPUsDQRCGZw05IxhZsBWC/oIr\n",
       "rNJcSC0YS6vYCSKo1YJYBuzEUkSInYWF9xNSKIja29jY2wRikU5z3n7M3syZtQu4RXh3L88u9zHz\n",
       "AIBYg+nHwnZhaX01gIe3d2+hOvz+qR/pqU16vEqUPrzL0SHASm+Yz2zKh3jclCjtEjxUDGXSXJqH\n",
       "xJyfhPDVeDb4WiuMb/7kUzUZJwCXaRjf76Djr9pA8DWljm+UGhC8uEcb1M9k2PlRG9//0iCM70p8\n",
       "/+b5ixJeWn6Pen/RGKDRgjxh/uAcxEgn+v0vPo2eYX5SOVlC/MvdRgpK6kR/P9nYwnUZuxPzDEr4\n",
       "HbRu6if7E7B85VpXasx3jWUbe35H+tQblXQdu7W49a9dPIT0v/0O/A/cYX/3B2GNMH8UrMH6o+gR\n",
       "0hqcP8D3CGMNrv+ar952lCSEN1U3Mzz2B8c3WR77g+P7XNm5/nCt4fGeNVh/cOf71uD8wfFd+Yfn\n",
       "L3hrEP7AvDUKaQ3CH4i3RqGtQfX/gjUco0zLI2s4RuF54w+iM8WsNQh/EFuXWCPIH7w1vgA7U6NM\n",
       "kX63vQAAAABJRU5ErkJggg==\n",
       "\" style=\"display:inline;vertical-align:middle;\" /></a></span>"
      ],
      "text/plain": [
       "|- {1, 1 + 1, 1} =  \\\\ {1 + 1, 1}"
      ]
     },
     "metadata": {},
     "output_type": "display_data"
    }
   ],
   "source": [
    "Set(one, Add(one, one), one).elem_multiplicity_reduction(idx=0)"
   ]
  },
  {
   "cell_type": "markdown",
   "metadata": {},
   "source": [
    "### Testing the `shallow_simplification()` method\n",
    "\n",
    "Currently, `shallow_simplification` eliminates multiplicities (see `reduction`) and also, if all of the elements are literal integers, puts them into a sorted order."
   ]
  },
  {
   "cell_type": "code",
   "execution_count": 136,
   "metadata": {},
   "outputs": [
    {
     "data": {
      "text/html": [
       "<strong id=\"unsimplified_set\">unsimplified_set:</strong> <a class=\"ProveItLink\" href=\"../__pv_it/demonstrations/2a02db845f6e6cddbf6f33f91460a4d14bddcb6d0/expr.ipynb\"><img src=\"data:image/png;base64,iVBORw0KGgoAAAANSUhEUgAAAKUAAAAVBAMAAADVzzOcAAAAMFBMVEX///8AAAAAAAAAAAAAAAAA\n",
       "AAAAAAAAAAAAAAAAAAAAAAAAAAAAAAAAAAAAAAAAAAAv3aB7AAAAD3RSTlMAEER2zVSJ3Zki72ar\n",
       "MruaaVGaAAAACXBIWXMAAA7EAAAOxAGVKw4bAAACkUlEQVQ4y62VT2gTQRTGv226m93NJlnwoiI0\n",
       "ehE8RRClvRhU8CBKvAiejAgRpGB6sSKF1hJwDxJzEIwiNj0JWkxBL6KHHhT/NJKA4EkxBdGL0iam\n",
       "iKiss/NmNmk26sHuIe+Xt2++mTfvzSwAZRvW7TGOk921FVFg03/r1aEU8XbJQ7UJmO2DY2Ii50id\n",
       "qJT/IqOzWfIZ2UJCuKJjvlZ0imzlwLgNfPZQywHhyjmbXtyC1qLxDZwVAlcTVo7DRqir5NqSb/qa\n",
       "4QWyF76dZL+npablB7wA7nCwijDL5NuPWIPD3rTSFnGhjuYeoUmmj2bFRq3ogdmE9R1yc+jZkUBQ\n",
       "M/rgX5rPgBrfPJau9Yu7YuVOHdQfAU1t8A+a90fr/rhJf6NWuDEPn5qWru3zAc1hqbm4+5XU1FNs\n",
       "KbbR8nP5Kul9kpv4IZhp8ryu1ns1jXmpuYQZVtQRD2/Q1J96ywhMkBlagT4rc1/t1dQw6A+IsZRn\n",
       "2PQ399H/K0XxoiAj9IbQzCHS6qrhWs2HXZo6K6ryJI1ogUV9YJoiq4gf8VjYeAoRKs07YDm9VtNI\n",
       "Ss1YCjorquatMcZct1m1hcIxGLRiNYPrMiOxTtcOaA5Uq7W5DC8laxRW1BO2qDtz3oPCK5RByOb0\n",
       "BtgJL0Bl+1nmNOflrviaRDAXOGmM2G6dkb1UQmgWQ6wBcM1xLnEyzjtOjo7NR2ymA/TI608eBo1t\n",
       "HRHiDRowhRG7qz8N57mNsHctTLpum1PYdd0UxnkmDms8jwYcdofwMOtle5EI+vLPJKfS5YvdPU/P\n",
       "UQRItYPUJ6yLejQzCJCGIGX+SlwzJI+zkkSANiBA/cI6hDzvMP9o+P4OJYPUL6xDyl260J+u4/do\n",
       "lPXvbx9ZtVwOFi5fAAAAAElFTkSuQmCC\n",
       "\" style=\"display:inline;vertical-align:middle;\" /></a><br>"
      ],
      "text/plain": [
       "<IPython.core.display.HTML object>"
      ]
     },
     "metadata": {},
     "output_type": "display_data"
    }
   ],
   "source": [
    "unsimplified_set = Set(five, two, two, six, three, one, four, five)"
   ]
  },
  {
   "cell_type": "code",
   "execution_count": 137,
   "metadata": {},
   "outputs": [
    {
     "data": {
      "text/html": [
       "<span style=\"font-size:20px;\"> <a class=\"ProveItLink\" href=\"../__pv_it/demonstrations/7c234029dd1a575128a327eddbf3d2f91504c5410/proof.ipynb\" style=\"text-decoration: none\">&nbsp;&#x22A2;&nbsp;&nbsp;</a><a class=\"ProveItLink\" href=\"../__pv_it/demonstrations/68e80fcc074aa5d8088227ecc2b92856a5bce8780/expr.ipynb\"><img src=\"data:image/png;base64,iVBORw0KGgoAAAANSUhEUgAAAUMAAAAVBAMAAAAuvZFqAAAAMFBMVEX///8AAAAAAAAAAAAAAAAA\n",
       "AAAAAAAAAAAAAAAAAAAAAAAAAAAAAAAAAAAAAAAAAAAv3aB7AAAAD3RSTlMAEER2zVSJ3Zki72ar\n",
       "MruaaVGaAAAACXBIWXMAAA7EAAAOxAGVKw4bAAADpklEQVRIx62XTWgTQRTHX5o2zSbdZMGLFqHR\n",
       "iyIechDFIrT4gQerphfBUyNKFSmYXiyo0CpCc5AYUGtRsa0XQYsJ6EW8FPyqmNqABwUV2iJ6Efph\n",
       "g/gZZ/e9fbNfljZ1Dtl/Z97M/7cz82a2AOBbC/+vXMl6VFbsoBzE56Y1AEXwZZdLpwKsAvWV5m7R\n",
       "HRZZHCDvJ/Xfmlnxk9vZhUMr6X1FcChobyfVd2zK7PyGUdQefIbmd3cCREZctoYDd7A4tGdiZsxb\n",
       "ejIIuX7RVSAlfk59O4T1NyEw51SXY3UpXLAeaEugGt3PiLUEVZs7qdFw9qJXyQ5y3JVQUzJjztCT\n",
       "Qcj1KCPyq78AuONUOyAyYQh/CRqaKbCJEbdQ5zrm8UCUHeS4TQnfPIX4TUS5BujqgZjTYDxrV7hO\n",
       "eqm6BVEXovpgaYjSYUMMTMR3LU5EcvVAfA4wXrSryKDFri3vRAxULw1ROgiOnySSLkRylYgvN4/x\n",
       "iN0OFdp7+BzP42lwIm5lxPsdxUUgWh3W0Qv7syYig5CrgRjUl24SBszkUr+CXUX3QChBNdvGnIhK\n",
       "3kSMaIrIAz++fW+XXnCHGQ4WRHZ4XaDpvA4mIoOQa6Our+GbRFKOBGXVMAPBIV7ohAMxANVyi38W\n",
       "yCXXLKJDk+sIAM7oJCMyCLkOCL8b27El+J1CMhxMqiEF4TmzLjTrQHxoRbwo8mD1LgchOUhE6aDn\n",
       "jijhrAWRQMjV9yQBakZERZoh+BsjwmxoKpHEYdzWahEiJTuiEmfEjwJRLNyRmPPWyWg2RHb4ADBt\n",
       "LMolMBElCLkG9PfTr4NQCupmMOgAKFm7ivAsRmddiFWFwvhw0pC3RaryYWHdi3jhMCI7lDVC3Fgo\n",
       "/HiGi8Qg5NqmUb4FROME6H+pSfBrPrCqGrErBo3G0Ii+0BojohK1PtxQcE8MNbhARtsdhvWF9mHM\n",
       "MDZKEHSF4+YASg80asZRfzWd7sUrRKpPUI/3QDgvzkW6EU5kgVR0AsP6wT+0wKFjdpDjPtLPRbqu\n",
       "/mCjBDFcredi/4WzAPoF3l0uz0NtJ1hVID2GjbA+PUWqkGvJowpO/4obYUp69N93tOwgx61Ki88I\n",
       "Q0Gm/BhHYxB0tSDiEcA51wouJRu9VKtjyjxmsSIHJ2KAG5JuJRu9VHJxiEt2QEQ/7+8V/JUcdytu\n",
       "9FIyjK4SW1mGA5w3Tja+DjjYD24VX0jJMKjPuz/vK3fw3TUe/U//4/8ufV6DVeygdIik/guyTDxM\n",
       "TooxXQAAAABJRU5ErkJggg==\n",
       "\" style=\"display:inline;vertical-align:middle;\" /></a></span>"
      ],
      "text/plain": [
       "|- {5, 2, 2, 6, 3, 1, 4, 5} = {1, 2, 3, 4, 5, 6}"
      ]
     },
     "metadata": {},
     "output_type": "display_data"
    }
   ],
   "source": [
    "unsimplified_set.simplification()"
   ]
  },
  {
   "cell_type": "markdown",
   "metadata": {},
   "source": [
    "Either of these may be disabled via changing the `Set` simplification directives."
   ]
  },
  {
   "cell_type": "code",
   "execution_count": 138,
   "metadata": {},
   "outputs": [],
   "source": [
    "Set.change_simplification_directives(eliminate_duplicates=False)"
   ]
  },
  {
   "cell_type": "code",
   "execution_count": 139,
   "metadata": {},
   "outputs": [
    {
     "data": {
      "text/html": [
       "<span style=\"font-size:20px;\"> <a class=\"ProveItLink\" href=\"../__pv_it/demonstrations/54ae5dbce6adfaa3092107a1956e851a15f49f760/proof.ipynb\" style=\"text-decoration: none\">&nbsp;&#x22A2;&nbsp;&nbsp;</a><a class=\"ProveItLink\" href=\"../__pv_it/demonstrations/3fbfa3ee8da8721b2a365e550d8d5e09bdf0ec080/expr.ipynb\"><img src=\"data:image/png;base64,iVBORw0KGgoAAAANSUhEUgAAAWkAAAAVBAMAAAB2wgJzAAAAMFBMVEX///8AAAAAAAAAAAAAAAAA\n",
       "AAAAAAAAAAAAAAAAAAAAAAAAAAAAAAAAAAAAAAAAAAAv3aB7AAAAD3RSTlMAEER2zVSJ3Zki72ar\n",
       "MruaaVGaAAAACXBIWXMAAA7EAAAOxAGVKw4bAAADtklEQVRIx7WXTWgTQRTH3zbNJtt8LXhREVq9\n",
       "KJ4iiGIRDFXwIEq8CJ4aEVqRgunFigqtUugepOYgGkVs60XQYgN6ET30oPjRlgYET4ppEb0obWqC\n",
       "iEqcmTc7s92ZFIvpHrr/zr55/9/OzJvZAICxBRp2Wcd1rWvhsHMzxAA2/He+Ihg5eD+neUIcVn1J\n",
       "JB8cOgTLAC2Vg738VZwjRVT5wW9uYFcXtlldw21u0l6ZfwDvEwf6bICvKgB1kB10DtdPzfuzSSSp\n",
       "EIQ5mFmA0MRZG9vvgLmEyUtwhiNea4tmmVgPwSo2bRosC6jQJN7P/zhB/nar1NRBdtA4GAPQmfZl\n",
       "k0hSIUi3mzMqHF4D3GcimoOWUWzbD/ESE/vSRoXHBST1bu6DtzrUsoPGIVCF1pQvm0SSCkE01BM2\n",
       "zObYvJQh+lNOMLu2t4FKHXu8OmqNQ9NdSKR82TTUHERD/RJgli07MhfRP6wpPupZor8UarN5ddQa\n",
       "B3J1FnzZNNQcRFI/6imKqH6xYBexGg6fvOw2bS0o1Htcn6ldM/9CrXEgo33Bn00iCcVBmEOYzE3c\n",
       "tpbEjH931cckuyUOQQuvlbfTRT+1VXB95mCEFFc7/jPUR6+L4Dp4qRUHiO2d8WeTSEJxEOZwC4fv\n",
       "i39LAEBPaF2E8Ji7Qqp+ahOaRYc4GdSRtDLWzCGgbjrCga6QtJJNInHFQajD7Q58cDXHI4bd0HCJ\n",
       "U2chsuSp1uXUTzw+YVJcxnM/Njp4qBUHLE1/NonEFQehDrFhwvGJPOBzHxG9nvE7Ke8IFuEHgIX0\n",
       "cmor6frEUxAmxWV2KKccdfBQqw6xIsSry7N5kITiIMwhTsLukbrmGY6Bha8YzMBNd975WNdshbpp\n",
       "enp2PMNGi2wJpLg6bWVdUwcPteqQKHNqmc2DJBQHYQ60wkngQzDYa2cgYDP1DmAH0IAgWU6jTI3T\n",
       "FWIIaoNP7iRTJlFkxk+vsIfUcyAZyAqxvdk8SEIhCDrQnHkIjOHxdMNxhpiyzjlOFo/Cz7ARD8Wn\n",
       "dL/GU8wkS5ifZ4kSdhiAdrv+zic6aBwiBbJf82OXZ/MgSUVBPPu15byyIUS/UfprtQpToVqtloI+\n",
       "NhsO2ZeoanLI1xMLi76pTKGC8MLvJFP5K5fq79eyg85hmzOPDjKbRJKKgUhqvI6CooK2qjRhHlVv\n",
       "rBvsIHNmQFEmqCqzolqRunEOAfczw0iCotaBonRhUsGgSr0WDpY47qSNUElV6cKkMh5ofjSthUP+\n",
       "RQN/1fWkNa0Nd/gLp+puG/jbZrUAAAAASUVORK5CYII=\n",
       "\" style=\"display:inline;vertical-align:middle;\" /></a></span>"
      ],
      "text/plain": [
       "|- {5, 2, 2, 6, 3, 1, 4, 5} = {1, 2, 2, 3, 4, 5, 5, 6}"
      ]
     },
     "metadata": {},
     "output_type": "display_data"
    }
   ],
   "source": [
    "unsimplified_set.simplification()"
   ]
  },
  {
   "cell_type": "code",
   "execution_count": 140,
   "metadata": {},
   "outputs": [],
   "source": [
    "Set.change_simplification_directives(\n",
    "    eliminate_duplicates=True, sort_if_literal_integers=False)"
   ]
  },
  {
   "cell_type": "code",
   "execution_count": 141,
   "metadata": {},
   "outputs": [
    {
     "data": {
      "text/html": [
       "<span style=\"font-size:20px;\"> <a class=\"ProveItLink\" href=\"../__pv_it/demonstrations/68d27418f6e7fcbc5c52f3ca354b170e662af89b0/proof.ipynb\" style=\"text-decoration: none\">&nbsp;&#x22A2;&nbsp;&nbsp;</a><a class=\"ProveItLink\" href=\"../__pv_it/demonstrations/6651b3d5ca4991116f18046159ad84a8a04d035f0/expr.ipynb\"><img src=\"data:image/png;base64,iVBORw0KGgoAAAANSUhEUgAAAUMAAAAVBAMAAAAuvZFqAAAAMFBMVEX///8AAAAAAAAAAAAAAAAA\n",
       "AAAAAAAAAAAAAAAAAAAAAAAAAAAAAAAAAAAAAAAAAAAv3aB7AAAAD3RSTlMAEER2zVSJ3Zki72ar\n",
       "MruaaVGaAAAACXBIWXMAAA7EAAAOxAGVKw4bAAADZElEQVRIx61XT0gUURz+xtFxZ9edHeiUBG6d\n",
       "OnTYQ/RHgsSKDlmtl6DTbhQmYbReEkrQInAJsYXKpCI1kqCkXahLp4T+Ga25pwrqoBIJEaW2Iv3d\n",
       "3sybfbMz82bIzQcz8/l+b77v29977/dGAMI6rFy7nOJ0lq0gH6TPjWuBHITU/7oLAqsRfKU6I+Ur\n",
       "vJ/W7lXz5Jbe2UGp5eS+HGwILS0G6m+dKb78hlkJdtOnP7+7HVDGHDpuCpBajnvw4i25PuvjEuR2\n",
       "aukQ7b4BacGOLoVrEnTCuhGLUjS+n1FVG6aq0ydVg87a3BTkRjz34EUnuY4yAvbTXwB37GgHlCkd\n",
       "iIuoazAGbmdUm42Xa0w/HIschcoIvnjwii4W0yomU1akz5PeKm4i5KAKPlieRVMhpnrx4l0T3yLJ\n",
       "/GTOipShErlYxk4lVS7PoqnwyZMXcavFl5sm2OguG/LvPXyW5fE07FRbmcX7bTl3ixyFW6+3hN15\n",
       "xRSz6NNSPI3B4ujgN1hRaA/8UaNn24SdSs4ULSqqTPaBSHPe06G1Tngp5DMYceXFNWgW6zV4laZY\n",
       "Sdg2KEN1c/ANswmJ2qgkVJplZpZYXnRk0UVBKADnVTdexHWLg6T/eiPt8X03Qn2M2kB1CQQWin3+\n",
       "eRvVw1KLF8g+WLPL5tBNQVgCHoXdeAMp3aLwJIpgH+lTGuD7bYSYYBGRzRb4SecjB2XRSiVHmMUP\n",
       "xCJZjEfC9lPHTSFPLGZceHERukVJ+33aceBPoGaOhg5ATlmRwrIYmndQVWSzk6NxHd4mW5WVqNK1\n",
       "6KYwW8wihxcbstkfz4zCpO03iXBMQfsrGIeoCihFVWQtDulB/5g2ISqjooj0CnTx4B6hGuLuaJ5C\n",
       "jKxF/VU+L0bJdaxIIHejXhVI4nElmeyhpd5EH1Eb1YOBDKlfOgJOpGCg0BQdNgBx2LXo8BSUuDCi\n",
       "Iz4v/ljq4kDvGUA757sKhTyq21GKpOQEDWJ9csZA2XRThiLf118RfZicHPc4ozkKaO3NUcTjRV/h\n",
       "calF+kXCCnszHMgM8lCz1Q/HYnkKdosSC8SdyAzyUPzfLC5bgVoU2fpexb6SI07EgjxkDqNHibX9\n",
       "hwLO6ZWNHQdssAgninghcxhqM87P+/IVhLv6Y+DpCv7v0s8jK1tBbiPn31/0lD0tAXaQlQAAAABJ\n",
       "RU5ErkJggg==\n",
       "\" style=\"display:inline;vertical-align:middle;\" /></a></span>"
      ],
      "text/plain": [
       "|- {5, 2, 2, 6, 3, 1, 4, 5} = {5, 2, 6, 3, 1, 4}"
      ]
     },
     "metadata": {},
     "output_type": "display_data"
    }
   ],
   "source": [
    "unsimplified_set.simplification()"
   ]
  },
  {
   "cell_type": "markdown",
   "metadata": {},
   "source": [
    "### Testing the `single_elem_substitution()` method\n",
    "\n",
    "The <span style=\"font-family:courier\">Set.single_elem_substitution()</span> method has the following format:<br/>\n",
    "    <div style=\"width: 50%; border: 1px solid green; padding: 5px; margin: 20px; background-color: gainsboro\">\n",
    "    <font style=\"font-family:courier\">single_elem_substitution(self, elem=None, idx=None, sub_elem=None, assumptions=USE_DEFAULTS)</font>\n",
    "    </div>\n",
    "and attempts to deduce that the Set expression is equal to the Set obtained when the element specified by elem or idx is replaced by sub_elem, which requires that elem = sub_elem."
   ]
  },
  {
   "cell_type": "code",
   "execution_count": 142,
   "metadata": {},
   "outputs": [
    {
     "data": {
      "text/html": [
       "<span style=\"font-size:20px;\"><a class=\"ProveItLink\" href=\"../__pv_it/demonstrations/db6adddf22e63f824dbf5e4d2b05d9b6ef9ac8490/expr.ipynb\"><img src=\"data:image/png;base64,iVBORw0KGgoAAAANSUhEUgAAADEAAAAOBAMAAAB0nulXAAAAMFBMVEX///8AAAAAAAAAAAAAAAAA\n",
       "AAAAAAAAAAAAAAAAAAAAAAAAAAAAAAAAAAAAAAAAAAAv3aB7AAAAD3RSTlMAIquJdkTvuxBmmd1U\n",
       "zTKBpmoTAAAACXBIWXMAAA7EAAAOxAGVKw4bAAAAmElEQVQY02NgwAIYV11/wIAViDMwf8Uuo8jA\n",
       "kIZdJr+BQV8Aq4w2A4M+0CJGZUcHTMn9QBwmwP4DxF69GwQ2QST4vjAwcGQycG3A0MKtwMDA9YGB\n",
       "2wBDZjkQsxUw9AegS3ACtTD0OzDMZ0C35zADowBD/wEGXR40x/MZMLA0MLA78OziQjNMetWq1UC3\n",
       "qdgJ+aF75v//vwwAyLIlNSbHnCQAAAAASUVORK5CYII=\n",
       "\" style=\"display:inline;vertical-align:middle;\" /></a> <a class=\"ProveItLink\" href=\"../__pv_it/demonstrations/b0af26cc9ca803c25851f07fadccdda3d264a9d90/proof.ipynb\" style=\"text-decoration: none\">&nbsp;&#x22A2;&nbsp;&nbsp;</a><a class=\"ProveItLink\" href=\"../__pv_it/demonstrations/f276424722b8f0b539cae82cc4730657a6a902150/expr.ipynb\"><img src=\"data:image/png;base64,iVBORw0KGgoAAAANSUhEUgAAAJUAAAAuBAMAAADTgUbKAAAAMFBMVEX///8AAAAAAAAAAAAAAAAA\n",
       "AAAAAAAAAAAAAAAAAAAAAAAAAAAAAAAAAAAAAAAAAAAv3aB7AAAAD3RSTlMAEER2zVSJ3Zki72ar\n",
       "MruaaVGaAAAACXBIWXMAAA7EAAAOxAGVKw4bAAACf0lEQVRIx+2VPWsUURSG37urk4Rk5YKdLAb9\n",
       "BRZiIYIxVQrRtVFSJWChiKA2SZkUgWwVFywUCSpYiApmf8JCFD8iZDsRbMTGQtAkO4KFxJnZ+3Xu\n",
       "xziZbXNYdg5nzz57d+6d8wBgx1EuRqad0sljJVn48tUqHNxK3z9xp7N2RyRHn8mFNC90ScsP6yvR\n",
       "7eRvvrvosOpLWzKdEtdHiLZJzzUPCzjrrquqWLG4vgdeDMiqyGSNY7M1GKvfkcRbYLO7B9bq1Xs2\n",
       "68D6mYbsXiBtNmt4wmRVnuMnt1jj59gfubc7pO10nzCfRQd42DZZR9pYttc1w/FUpEMd0va4QZa1\n",
       "OgmTdReYs1lLwG+RroC0sdcEVlvhJusV2LbNmkNFnIpRsSzZFk3S+3WoY7DYDkZ/2awYwyK9jJGW\n",
       "2TbD6f3S+5i8WIyxiWlwyWJp8je9PWmpNosqT0uiDTe8Z+JWC6yXXL/hyuJiliFKNm883eQNfO9/\n",
       "eL/ZXO6XsrbA+fq4dr6N+eS366c+r3ezbOxDbwND6fNdv55sdVpa2N3tiVLWFjir2cTgbnYpp5TH\n",
       "iuBmszkll1V9IrPDcDJ2IqeUnTw6aeVEgW5SWTWvBPbSngcP3pSd9zcb2I+BopBrPV71RTHXOl71\n",
       "BXWt1qkybMCrvqCuNXQ6hVwXhlh6rho6jQdlaZ0qw5ZmaZ3q+VGWpXWqDev3qi+oa7VOlWGJV/OD\n",
       "ulbrVBnW71VfWK7VOlWG9XvVF5ZrtU6VYQNe9QVxrdapMiz1atF9JDpVhg15NcySrtU6VYYNeDXI\n",
       "Uq41dCoNG/BqeF3/NeweWbmGLcTyuNZjWNer3ukbFzGsx6u+KOTaIl79B8Sv4HgWu8bjAAAAAElF\n",
       "TkSuQmCC\n",
       "\" style=\"display:inline;vertical-align:middle;\" /></a></span>"
      ],
      "text/plain": [
       "{a = 2} |- {1, a, 1, b, 2, a} =  \\\\ {1, 2, b, a}"
      ]
     },
     "metadata": {},
     "output_type": "display_data"
    }
   ],
   "source": [
    "# |– Replace the 1st 'a' (elem at index 1) in {1, a, 1, b, 2, a} with 2\n",
    "# using idx arg\n",
    "set_1a1b2a.single_elem_substitution(idx=1, sub_elem=two, assumptions=[Equals(a, two)])"
   ]
  },
  {
   "cell_type": "code",
   "execution_count": 143,
   "metadata": {},
   "outputs": [
    {
     "data": {
      "text/html": [
       "<span style=\"font-size:20px;\"><a class=\"ProveItLink\" href=\"../__pv_it/demonstrations/db6adddf22e63f824dbf5e4d2b05d9b6ef9ac8490/expr.ipynb\"><img src=\"data:image/png;base64,iVBORw0KGgoAAAANSUhEUgAAADEAAAAOBAMAAAB0nulXAAAAMFBMVEX///8AAAAAAAAAAAAAAAAA\n",
       "AAAAAAAAAAAAAAAAAAAAAAAAAAAAAAAAAAAAAAAAAAAv3aB7AAAAD3RSTlMAIquJdkTvuxBmmd1U\n",
       "zTKBpmoTAAAACXBIWXMAAA7EAAAOxAGVKw4bAAAAmElEQVQY02NgwAIYV11/wIAViDMwf8Uuo8jA\n",
       "kIZdJr+BQV8Aq4w2A4M+0CJGZUcHTMn9QBwmwP4DxF69GwQ2QST4vjAwcGQycG3A0MKtwMDA9YGB\n",
       "2wBDZjkQsxUw9AegS3ACtTD0OzDMZ0C35zADowBD/wEGXR40x/MZMLA0MLA78OziQjNMetWq1UC3\n",
       "qdgJ+aF75v//vwwAyLIlNSbHnCQAAAAASUVORK5CYII=\n",
       "\" style=\"display:inline;vertical-align:middle;\" /></a> <a class=\"ProveItLink\" href=\"../__pv_it/demonstrations/b0af26cc9ca803c25851f07fadccdda3d264a9d90/proof.ipynb\" style=\"text-decoration: none\">&nbsp;&#x22A2;&nbsp;&nbsp;</a><a class=\"ProveItLink\" href=\"../__pv_it/demonstrations/f276424722b8f0b539cae82cc4730657a6a902150/expr.ipynb\"><img src=\"data:image/png;base64,iVBORw0KGgoAAAANSUhEUgAAAJUAAAAuBAMAAADTgUbKAAAAMFBMVEX///8AAAAAAAAAAAAAAAAA\n",
       "AAAAAAAAAAAAAAAAAAAAAAAAAAAAAAAAAAAAAAAAAAAv3aB7AAAAD3RSTlMAEER2zVSJ3Zki72ar\n",
       "MruaaVGaAAAACXBIWXMAAA7EAAAOxAGVKw4bAAACf0lEQVRIx+2VPWsUURSG37urk4Rk5YKdLAb9\n",
       "BRZiIYIxVQrRtVFSJWChiKA2SZkUgWwVFywUCSpYiApmf8JCFD8iZDsRbMTGQtAkO4KFxJnZ+3Xu\n",
       "xziZbXNYdg5nzz57d+6d8wBgx1EuRqad0sljJVn48tUqHNxK3z9xp7N2RyRHn8mFNC90ScsP6yvR\n",
       "7eRvvrvosOpLWzKdEtdHiLZJzzUPCzjrrquqWLG4vgdeDMiqyGSNY7M1GKvfkcRbYLO7B9bq1Xs2\n",
       "68D6mYbsXiBtNmt4wmRVnuMnt1jj59gfubc7pO10nzCfRQd42DZZR9pYttc1w/FUpEMd0va4QZa1\n",
       "OgmTdReYs1lLwG+RroC0sdcEVlvhJusV2LbNmkNFnIpRsSzZFk3S+3WoY7DYDkZ/2awYwyK9jJGW\n",
       "2TbD6f3S+5i8WIyxiWlwyWJp8je9PWmpNosqT0uiDTe8Z+JWC6yXXL/hyuJiliFKNm883eQNfO9/\n",
       "eL/ZXO6XsrbA+fq4dr6N+eS366c+r3ezbOxDbwND6fNdv55sdVpa2N3tiVLWFjir2cTgbnYpp5TH\n",
       "iuBmszkll1V9IrPDcDJ2IqeUnTw6aeVEgW5SWTWvBPbSngcP3pSd9zcb2I+BopBrPV71RTHXOl71\n",
       "BXWt1qkybMCrvqCuNXQ6hVwXhlh6rho6jQdlaZ0qw5ZmaZ3q+VGWpXWqDev3qi+oa7VOlWGJV/OD\n",
       "ulbrVBnW71VfWK7VOlWG9XvVF5ZrtU6VYQNe9QVxrdapMiz1atF9JDpVhg15NcySrtU6VYYNeDXI\n",
       "Uq41dCoNG/BqeF3/NeweWbmGLcTyuNZjWNer3ukbFzGsx6u+KOTaIl79B8Sv4HgWu8bjAAAAAElF\n",
       "TkSuQmCC\n",
       "\" style=\"display:inline;vertical-align:middle;\" /></a></span>"
      ],
      "text/plain": [
       "{a = 2} |- {1, a, 1, b, 2, a} =  \\\\ {1, 2, b, a}"
      ]
     },
     "metadata": {},
     "output_type": "display_data"
    }
   ],
   "source": [
    "# |– Replace the 1st 'a' (elem at index 1) in {1, a, 1, b, 2, a} with 2\n",
    "# using elem arg\n",
    "set_1a1b2a.single_elem_substitution(elem=a, sub_elem=two, assumptions=[Equals(a, two)])"
   ]
  },
  {
   "cell_type": "code",
   "execution_count": 144,
   "metadata": {},
   "outputs": [
    {
     "data": {
      "text/html": [
       "<span style=\"font-size:20px;\"><a class=\"ProveItLink\" href=\"../__pv_it/demonstrations/db6adddf22e63f824dbf5e4d2b05d9b6ef9ac8490/expr.ipynb\"><img src=\"data:image/png;base64,iVBORw0KGgoAAAANSUhEUgAAADEAAAAOBAMAAAB0nulXAAAAMFBMVEX///8AAAAAAAAAAAAAAAAA\n",
       "AAAAAAAAAAAAAAAAAAAAAAAAAAAAAAAAAAAAAAAAAAAv3aB7AAAAD3RSTlMAIquJdkTvuxBmmd1U\n",
       "zTKBpmoTAAAACXBIWXMAAA7EAAAOxAGVKw4bAAAAmElEQVQY02NgwAIYV11/wIAViDMwf8Uuo8jA\n",
       "kIZdJr+BQV8Aq4w2A4M+0CJGZUcHTMn9QBwmwP4DxF69GwQ2QST4vjAwcGQycG3A0MKtwMDA9YGB\n",
       "2wBDZjkQsxUw9AegS3ACtTD0OzDMZ0C35zADowBD/wEGXR40x/MZMLA0MLA78OziQjNMetWq1UC3\n",
       "qdgJ+aF75v//vwwAyLIlNSbHnCQAAAAASUVORK5CYII=\n",
       "\" style=\"display:inline;vertical-align:middle;\" /></a> <a class=\"ProveItLink\" href=\"../__pv_it/demonstrations/3c6712ea520ee61ccd7c3f8a8112d010127f0bff0/proof.ipynb\" style=\"text-decoration: none\">&nbsp;&#x22A2;&nbsp;&nbsp;</a><a class=\"ProveItLink\" href=\"../__pv_it/demonstrations/aa19d37c46e4773198821344f63a34ebb935ba110/expr.ipynb\"><img src=\"data:image/png;base64,iVBORw0KGgoAAAANSUhEUgAAAJUAAAAuBAMAAADTgUbKAAAAMFBMVEX///8AAAAAAAAAAAAAAAAA\n",
       "AAAAAAAAAAAAAAAAAAAAAAAAAAAAAAAAAAAAAAAAAAAv3aB7AAAAD3RSTlMAEER2zVSJ3Zki72ar\n",
       "MruaaVGaAAAACXBIWXMAAA7EAAAOxAGVKw4bAAACmklEQVRIx+2Vv2sTYRjHv5fYS9Je5KCbBKv+\n",
       "BRHEQQRjJwfRuCidGnBQRGhcWgehHQK9qQYcrFK04CAq2PwBDoEq/qjQTIogWHFxUGzaROhQzrvL\n",
       "+97d++u4y60+hNzDkyefvLn3vecDQDuG4aIwJZROHB2Sha/fucJI133/bAqdxVskOfyULsS60GFa\n",
       "fnFf0evO33x3UWCVGl2aniPXR9B3mJ5rEhZwRlxX1mf1yfU98DwlK0OTNRObzXSsQYcTb4HNTgLW\n",
       "ytV7POvA+ukq7Z5n2nhWvhJmZZ7hj8mxJs5qe3Rvd5m2UwPCnBdt4GErzDrUwiK/rmkTT0iaazNt\n",
       "j6vMslYmEWbdBWZ5VgP4S9IlMG3aawZWXDLDrJfQdnjWLDLkVIyRZdE2fZK9XwfbIZa2i7FtntVH\n",
       "nqSXUWiG26ZN9n4F++i8tD6MyhRMytLcZN+9PW6pWEPWdEukDTekZ2KmCa3nXH/gysKCl0F3Nm/C\n",
       "3eQN/Bx8eN+yFgclr01xvj6unW9hzvnt0skv6x0vMz70NpBzn+/SdWer3dK8bfdIyWtTnFVvYphi\n",
       "dimiFMXSIWa1iJLIyq7SbBxCppUjSt7JYyctnSgImvwsG1WC9oKfB8tvhp33N6v4H6kilmslXpVF\n",
       "PNcKXpWFyrW+YbHc+C3xqixUrvUNW9jCzBHxeVGxpE6jz4PRxOhqOpZv2NEujL10LH9+GHUY+0Ox\n",
       "fNeGDZvbjsdSuTZkWHwrU69Gh8q1IcPijuhVWShdGzJsfkv0qiyUrg0Mi1eQeFUWKtcGhh2p4QH1\n",
       "atx9ZF3rGxafgOOiV9Us0bW+YQu3Laue4HxJXOsbNmfbdiXJWVW4NiglZElcqyMRK9K142qvSqdv\n",
       "lGvLEV6VRSzXxvHqP/X84HhscbFxAAAAAElFTkSuQmCC\n",
       "\" style=\"display:inline;vertical-align:middle;\" /></a></span>"
      ],
      "text/plain": [
       "{a = 2} |- {1, a, 1, b, 2, a} =  \\\\ {1, a, b, 2}"
      ]
     },
     "metadata": {},
     "output_type": "display_data"
    }
   ],
   "source": [
    "# |– Replace the 2nd 'a' (elem at index 5) in {1, a, 1, b, 2, a} with 2\n",
    "# using compound elem arg\n",
    "set_1a1b2a.single_elem_substitution(elem=[a, 2], sub_elem=two, assumptions=[Equals(a, two)])"
   ]
  },
  {
   "cell_type": "code",
   "execution_count": 145,
   "metadata": {},
   "outputs": [
    {
     "data": {
      "text/html": [
       "<span style=\"font-size:20px;\"><a class=\"ProveItLink\" href=\"../__pv_it/demonstrations/d44c8ed2685d4a079407a37b6a77a7c67a5f33cc0/expr.ipynb\"><img src=\"data:image/png;base64,iVBORw0KGgoAAAANSUhEUgAAAC8AAAAOBAMAAABN+VgMAAAAMFBMVEX///8AAAAAAAAAAAAAAAAA\n",
       "AAAAAAAAAAAAAAAAAAAAAAAAAAAAAAAAAAAAAAAAAAAv3aB7AAAAD3RSTlMAEIl2mUTdMiJmu6tU\n",
       "ze/kkN0jAAAACXBIWXMAAA7EAAAOxAGVKw4bAAAAfUlEQVQY02NgwAbYHRiwA7YNOCTMcEiwz8Uh\n",
       "wcQLkmBUNhFAk7AAS4QVsCsAKbc0EMgGiXNMAElw/GRgDkAziQEkwfXZWBXNpBlgCX4MB3AYQCQM\n",
       "IFyEHay7d+9/rcDABrT5ALomPqAOzgsMIg3oEvwLgITRTAN0cZb1vw0AOikdgvyRwW4AAAAASUVO\n",
       "RK5CYII=\n",
       "\" style=\"display:inline;vertical-align:middle;\" /></a> <a class=\"ProveItLink\" href=\"../__pv_it/demonstrations/f7c7069a1a9d6caad128d6c8d74999e151d391d70/proof.ipynb\" style=\"text-decoration: none\">&nbsp;&#x22A2;&nbsp;&nbsp;</a><a class=\"ProveItLink\" href=\"../__pv_it/demonstrations/490ac632a9dd1f3ed8d17046eb73e47ed5c998a30/expr.ipynb\"><img src=\"data:image/png;base64,iVBORw0KGgoAAAANSUhEUgAAAH8AAAAuBAMAAADzQdtyAAAAMFBMVEX///8AAAAAAAAAAAAAAAAA\n",
       "AAAAAAAAAAAAAAAAAAAAAAAAAAAAAAAAAAAAAAAAAAAv3aB7AAAAD3RSTlMAEER2zVSJ3Zki72ar\n",
       "MruaaVGaAAAACXBIWXMAAA7EAAAOxAGVKw4bAAACAklEQVRIx2NgYGBUYiABcEZiCJkokmIAw52H\n",
       "aAKsH5F5jK8KMPXwejUg8d6gybKh6mBpwGIrfwASJx2/AShqYUBfgHgDUNRi1UPAgHRsAedB0ADO\n",
       "Y5YGEK6P8VGoRLL1BUjEHbP9Cg3hZAsBTAM4HICE1gQ+SGQwfhGQnwBmTQ/geABmwOUY1C/wJjAw\n",
       "WEG0lYPBAQaGWRuA2lYzcBTAIpUL4pYyKAMk5wBxym8GZgUGhvmowTzHCWTcBwb2BJh7+MEsDljy\n",
       "QMjxfTZOApl4BMUE3j6gt7geMMgrgLlAtfpgea4HUAUIOf4DkEBzQg0DPqCwvAHDfngy6AdHpDw0\n",
       "UJHlIELxAqhhAIoF+QCGI6wTGEGKLgD9DGYAg0YBxEDIgXwCdF0WlmjkM2Ct4GCQB4YVzwa+BjAD\n",
       "GAVsF0AMhBy3A4PEBOzpgPFw7hxbBvZCIOtYNwOYwZC22xAiApdjMNttgD8lBuJmILHwGJCAm4HE\n",
       "QjeAeQG8LDDAyUBiMbSgl1Ff4UbhZiCxgLGEBmYcJalMzAlgGAUYYGhVLDcorVhqKKxYmIkwAG/F\n",
       "ctuHwoolwYeyioV5AjYDSKhYZjOADLBCM4D4igVYqIAMIL9i4Z4ANoD8imUyA9gA8isWnTNnfh2D\n",
       "VSyosUBcxQIEaxgoqViA4B8DRRULQ9//w6MVCw0qFgD3GMUfUdAYagAAAABJRU5ErkJggg==\n",
       "\" style=\"display:inline;vertical-align:middle;\" /></a></span>"
      ],
      "text/plain": [
       "{e = 4} |- {a, b, c, d, e} =  \\\\ {a, b, c, d, 4}"
      ]
     },
     "metadata": {},
     "output_type": "display_data"
    }
   ],
   "source": [
    "# |– Replace the 1st 'e' (elem at index 4) in {a, b, c, d, e} with 4\n",
    "# using idx arg\n",
    "from proveit import e\n",
    "set_abcde.single_elem_substitution(idx=4, sub_elem=four, assumptions=[Equals(e, four)])"
   ]
  },
  {
   "cell_type": "code",
   "execution_count": 146,
   "metadata": {},
   "outputs": [
    {
     "data": {
      "text/html": [
       "<span style=\"font-size:20px;\"><a class=\"ProveItLink\" href=\"../__pv_it/demonstrations/526a7134e8ade6a248637ee37a1968395a2a30770/expr.ipynb\"><img src=\"data:image/png;base64,iVBORw0KGgoAAAANSUhEUgAAAC8AAAAOBAMAAABN+VgMAAAAMFBMVEX///8AAAAAAAAAAAAAAAAA\n",
       "AAAAAAAAAAAAAAAAAAAAAAAAAAAAAAAAAAAAAAAAAAAv3aB7AAAAD3RSTlMAiXZmMiLdVJm77xBE\n",
       "q833A+o+AAAACXBIWXMAAA7EAAAOxAGVKw4bAAAAg0lEQVQY02NgwASsgp0HGLCBHQzs37FK6Bdw\n",
       "/8MqceoAA3YJBgb2zyBSSNkBXeKYAZAIK+CYAKTa0kAgFyzudBekNJGBSwHDKKCrOH5js2T9Bgau\n",
       "CRiiLgwM8wsY9kPNQbLj/waQBD/QAWgBsBZsFNBJjGjONYb4Q9BYG80Ong5gIAIAipwjHGAJiswA\n",
       "AAAASUVORK5CYII=\n",
       "\" style=\"display:inline;vertical-align:middle;\" /></a> <a class=\"ProveItLink\" href=\"../__pv_it/demonstrations/4607d52ca80db4e6e3eb646a6ee16fecaada2c8c0/proof.ipynb\" style=\"text-decoration: none\">&nbsp;&#x22A2;&nbsp;&nbsp;</a><a class=\"ProveItLink\" href=\"../__pv_it/demonstrations/e67c2f11ea8963601fd5ad107afbd653dcfb9d7e0/expr.ipynb\"><img src=\"data:image/png;base64,iVBORw0KGgoAAAANSUhEUgAAAIEAAAAuBAMAAAD9xGdYAAAAMFBMVEX///8AAAAAAAAAAAAAAAAA\n",
       "AAAAAAAAAAAAAAAAAAAAAAAAAAAAAAAAAAAAAAAAAAAv3aB7AAAAD3RSTlMAEER2zVSJ3Zki72ar\n",
       "MruaaVGaAAAACXBIWXMAAA7EAAAOxAGVKw4bAAACr0lEQVRIx+2WS2gTQRjH/5ttNtm2iQu9eBCs\n",
       "XgTxEFAUe7EUjyLpRfDkelHwAfUgBRFaoWAOEgMeLCpW8KbFBvQiIiz4QhtJwIugQnsXajUiPuPs\n",
       "PDazuzODe/c77P7z7cw/89rvtwCsrcgS7uFUateWf+7dgdXA+9VENr9OLqUz4h9qBztcHauPijZv\n",
       "+X1p/7QHfEw4OFPAprl1/usmnM9MbUT+q2hznt/PfTtKrscVDrCFw0vgDlP7qlaXJ23hENCr2WHJ\n",
       "Q7tB1fZRCId3BzI4vADaHbFCP7nwsziQmBFiW5NPoiEclne/VjgUx+MOpS9cvGnxwVyHcFjFAtmf\n",
       "MdZvmgYZ1rVm3KEQRPvM98KPHIAyGfFCNTaEGxOIO9T7z8iykhhqSA7F7+QQP41ZlOpezGFIDOED\n",
       "sEZbXoFwKI+j+Jus3ER8HcpBzOEQXLabPY877Gi1fjynqcEpDH8CjnjxdYj2wqJD8mF7VC2Gs7CY\n",
       "LdFhL4eYrAAnVLvpkOltDjflaq12kalH4XmgCvgDej7dWYx56vMw/Kq7jEL4ds30el2mcjXyZlGF\n",
       "eu8JwlcK85cu6E4UjUkYVN6LcnoHHwblQOtg3+LCqsCgRvo95pJVS1QBu2+qUJEVrLvJ0jX/LFud\n",
       "PFXF/1BGNuIogJOBOGrgaIkj15BZE3C0xJFCFD41cLTEkWJPYCr2WuJIk3iQxUEmTtRiIIuDRBxn\n",
       "52Mm9goHNXC0xHHP8sLvNoWDDBwpdMQp+LjNa8tAYACOnjiXRVl7KDkogKMnzj1xxirCQQMcHXEs\n",
       "AeBcq9Ve9FPAUe1Fgjjk4yEH1ngwoA81wNESh6zHaf4dtGGFpjTA0RLHOXnfY5wprv2q0JQaOGbi\n",
       "9DkzqcWFmTiOAkIpByNxRtKpFHDMxKmkU2ngZCROCjh/AcEV7rXHs4h9AAAAAElFTkSuQmCC\n",
       "\" style=\"display:inline;vertical-align:middle;\" /></a></span>"
      ],
      "text/plain": [
       "{c = 3} |- {1, 2, 3, 4, 5} =  \\\\ {1, 2, c, 4, 5}"
      ]
     },
     "metadata": {},
     "output_type": "display_data"
    }
   ],
   "source": [
    "# We can go the other way as well, replacing a literal by a variable. Yay!\n",
    "Set(one, two, three, four, five).single_elem_substitution(elem=three, sub_elem=c, assumptions=[Equals(c, three)])"
   ]
  },
  {
   "cell_type": "code",
   "execution_count": 147,
   "metadata": {},
   "outputs": [
    {
     "data": {
      "text/html": [
       "<span style=\"font-size:20px;\"><a class=\"ProveItLink\" href=\"../__pv_it/demonstrations/5718e73fbe9168d3cb66d1c8b82130b18b8583ba0/expr.ipynb\"><img src=\"data:image/png;base64,iVBORw0KGgoAAAANSUhEUgAAAC0AAAAJBAMAAABUCbiJAAAAMFBMVEX///8AAAAAAAAAAAAAAAAA\n",
       "AAAAAAAAAAAAAAAAAAAAAAAAAAAAAAAAAAAAAAAAAAAv3aB7AAAAD3RSTlMAiXZmMiLdVJm77xBE\n",
       "q833A+o+AAAACXBIWXMAAA7EAAAOxAGVKw4bAAAAc0lEQVQI12NgYBBSdmBAAdxCGhsYGMIKOCYw\n",
       "MHCkgcEFkPgxBxYBBoZEBi4FFOWsnxmYDjBw/GZAA5yflGQYGLgmoIvzgw3bDzEEyXx+sAi/AQPD\n",
       "ART1bEBLCxiAjmFEdSfzA4YdAQwMgsbaaBYoGiswAABrtxaPHQyx7gAAAABJRU5ErkJggg==\n",
       "\" style=\"display:inline;vertical-align:middle;\" /></a> <a class=\"ProveItLink\" href=\"../__pv_it/demonstrations/9412a3308c041009f5ca56db99ab992dcdc160400/proof.ipynb\" style=\"text-decoration: none\">&nbsp;&#x22A2;&nbsp;&nbsp;</a><a class=\"ProveItLink\" href=\"../__pv_it/demonstrations/33cd2249da05f2afd1f6ccfff6454513c63160670/expr.ipynb\"><img src=\"data:image/png;base64,iVBORw0KGgoAAAANSUhEUgAAAH8AAAAuBAMAAADzQdtyAAAAMFBMVEX///8AAAAAAAAAAAAAAAAA\n",
       "AAAAAAAAAAAAAAAAAAAAAAAAAAAAAAAAAAAAAAAAAAAv3aB7AAAAD3RSTlMAEER2zVSJ3Zki72ar\n",
       "MruaaVGaAAAACXBIWXMAAA7EAAAOxAGVKw4bAAACcUlEQVRIx+2VP2gUQRTGvzXeZXPJ7S2kERH2\n",
       "tBFsshIJ/iFwpApisVaSysMDA6IQG2N5hV3AXKdIIJZKQK5PkUCSq7ewEQRP7EQwMbnKxjczu3u7\n",
       "OzP7p/cV4Zt5M19m35ubHwDjCkrE1Io0deNyGQN8/Z6aqJzER8bPNXlP/W43NvqVylaTO853Ff+1\n",
       "4cUGq9kGibVhzNnFDRJrlXtyDFZVhVvONZga3HLF8N78UZDo3PFF4waLo6DCnZu2bGC26M+1niWa\n",
       "YZzZTo+rN5455CLK4apfbwO3xbZ1HvvAuz5t24G5Fja1Js7yIhAs1xJH+YuJJrCdLPPWErM7xmQ7\n",
       "PE+DKzO8HuOcdTr/iDkeJhzqr+mzakM4TT6ktXM8XxsGC8a5xr4o2lKyBhZNOy72omuwyRvpBEWN\n",
       "58TUQztZA9YFx8NhpWewRT59MxdUmiYT4xz7EjrdE0UbLbfy0oRDtZrpW10uqAVVn4lxbrqFCz31\n",
       "PTAOnm0tYvI5qcEGuMDj3etiJsphYdfNvon39SKmMgzaehFTaYOJ99Fb4GpFTOFV+o0aRVZ6EVPU\n",
       "pVS8PSr1Jj718D+kKAQWBU9KgkXiSRmw4PMHmSelwIKR5rkuCpZzJ8UNlGBha4oaKNex78o2UIBF\n",
       "UIQ/3J1vXoaBDiyCIqwAH/HbDnmiCA1YAopQXOzzJ2Bb8yvUgSWgCMUmo5TEk1ywBBSh+ATjj4In\n",
       "eWBpRM/aKaaPI55ouqAAi6AIbTJGmGmtyDzJAwuniHFGC37gQTfvHqjAwimyTke4tPDlwC92E2We\n",
       "VOzsK5oLliryDbLAglloeVIILHAzeFIOLFqe/ANmK7h6FIVZWwAAAABJRU5ErkJggg==\n",
       "\" style=\"display:inline;vertical-align:middle;\" /></a></span>"
      ],
      "text/plain": [
       "{c = e} |- {a, b, c, d, e} =  \\\\ {a, b, e, d}"
      ]
     },
     "metadata": {},
     "output_type": "display_data"
    }
   ],
   "source": [
    "# And we can replace a variable with a variable. Yay!\n",
    "from proveit import e\n",
    "set_abcde.single_elem_substitution(elem=c, sub_elem=e, assumptions=[Equals(c, e)])"
   ]
  },
  {
   "cell_type": "code",
   "execution_count": 148,
   "metadata": {},
   "outputs": [
    {
     "name": "stdout",
     "output_type": "stream",
     "text": [
      "Value Error: single_elem_substitution() method looked for 2 instance(s) of the elem 'b' in the set (1, a, 1, b, 2, a) but found only 1 instance(s). The elem 'b' does not appear to exist in the original set with sufficient multiplicity.\n"
     ]
    }
   ],
   "source": [
    "# should get meaningful error message when trying to substitute for an\n",
    "# element but picking a multiplicity that doesn't exist. Here there is no 2nd 'b':\n",
    "try:\n",
    "    set_1a1b2a.single_elem_substitution(elem=[b, 2], sub_elem=two, assumptions=[Equals(a, two)])\n",
    "    assert False, \"Should not make it to this point.\"\n",
    "except ValueError as the_error:\n",
    "    print(\"Value Error: {}\".format(the_error))"
   ]
  },
  {
   "cell_type": "code",
   "execution_count": 149,
   "metadata": {},
   "outputs": [
    {
     "name": "stdout",
     "output_type": "stream",
     "text": [
      "Value Error: In specifying the elem to be replaced in the call to Set.single_elem_substitution(), it doesn't appear to make sense to specify instance #0 of the element b in the set of elements (1, a, 1, b, 2, a).\n"
     ]
    }
   ],
   "source": [
    "# should get meaningful error message when trying to substitute for an\n",
    "# element but picking a multiplicity that doesn't make sense:\n",
    "try:\n",
    "    set_1a1b2a.single_elem_substitution(elem=[b, 0], sub_elem=two, assumptions=[Equals(a, two)])\n",
    "    assert False, \"Should not make it to this point.\"\n",
    "except ValueError as the_error:\n",
    "    print(\"Value Error: {}\".format(the_error))"
   ]
  },
  {
   "cell_type": "code",
   "execution_count": 150,
   "metadata": {},
   "outputs": [
    {
     "name": "stdout",
     "output_type": "stream",
     "text": [
      "Value Error: single_elem_substitution() method missing sub_elem argument. Must specify the replacement value using argument 'sub_elem='.\n"
     ]
    }
   ],
   "source": [
    "# should get a meaningful error message when omitting the sub_elem argument\n",
    "try:\n",
    "    set_1a1b2a.single_elem_substitution(idx=1, assumptions=[Equals(a, two)])\n",
    "    assert False, \"Should not make it to this point.\"\n",
    "except ValueError as the_error:\n",
    "    print(\"Value Error: {}\".format(the_error))"
   ]
  },
  {
   "cell_type": "code",
   "execution_count": 151,
   "metadata": {},
   "outputs": [
    {
     "name": "stdout",
     "output_type": "stream",
     "text": [
      "Value Error: single_elem_substitution() method looked for 1 instance(s) of the elem 'c' in the set (1, a, 1, b, 2, a) but found only 0 instance(s). The elem 'c' does not appear to exist in the original set with sufficient multiplicity.\n"
     ]
    }
   ],
   "source": [
    "# should get meaningful error message when trying to substitute for an\n",
    "# element that doesn't exist in the original set:\n",
    "try:\n",
    "    set_1a1b2a.single_elem_substitution(elem=c, sub_elem=two, assumptions=[Equals(c, two)])\n",
    "    assert False, \"Should not make it to this point.\"\n",
    "except ValueError as the_error:\n",
    "    print(\"Value Error: {}\".format(the_error))"
   ]
  },
  {
   "cell_type": "markdown",
   "metadata": {},
   "source": [
    "### Testing the `elem_substitution()` method\n",
    "\n",
    "The <span style=\"font-family:courier\">Set.elem_substitution()</span> method has the following format:<br/>\n",
    "    <div style=\"width: 50%; border: 1px solid green; padding: 5px; margin: 20px; background-color: gainsboro\">\n",
    "    <font style=\"font-family:courier\">elem_substitution(self, elem=None, sub_elem=None, assumptions=USE_DEFAULTS)</font>\n",
    "    </div>\n",
    "and attempts to deduce that the Set expression is equal to the Set obtained when all instances of the element specified by elem are replaced by sub_elem, which requires that elem = sub_elem."
   ]
  },
  {
   "cell_type": "code",
   "execution_count": 152,
   "metadata": {},
   "outputs": [
    {
     "data": {
      "text/html": [
       "<span style=\"font-size:20px;\"><a class=\"ProveItLink\" href=\"../__pv_it/demonstrations/db6adddf22e63f824dbf5e4d2b05d9b6ef9ac8490/expr.ipynb\"><img src=\"data:image/png;base64,iVBORw0KGgoAAAANSUhEUgAAADEAAAAOBAMAAAB0nulXAAAAMFBMVEX///8AAAAAAAAAAAAAAAAA\n",
       "AAAAAAAAAAAAAAAAAAAAAAAAAAAAAAAAAAAAAAAAAAAv3aB7AAAAD3RSTlMAIquJdkTvuxBmmd1U\n",
       "zTKBpmoTAAAACXBIWXMAAA7EAAAOxAGVKw4bAAAAmElEQVQY02NgwAIYV11/wIAViDMwf8Uuo8jA\n",
       "kIZdJr+BQV8Aq4w2A4M+0CJGZUcHTMn9QBwmwP4DxF69GwQ2QST4vjAwcGQycG3A0MKtwMDA9YGB\n",
       "2wBDZjkQsxUw9AegS3ACtTD0OzDMZ0C35zADowBD/wEGXR40x/MZMLA0MLA78OziQjNMetWq1UC3\n",
       "qdgJ+aF75v//vwwAyLIlNSbHnCQAAAAASUVORK5CYII=\n",
       "\" style=\"display:inline;vertical-align:middle;\" /></a> <a class=\"ProveItLink\" href=\"../__pv_it/demonstrations/8e106109166e78f7155656988776da8cc75acb440/proof.ipynb\" style=\"text-decoration: none\">&nbsp;&#x22A2;&nbsp;&nbsp;</a><a class=\"ProveItLink\" href=\"../__pv_it/demonstrations/cec922c5ec0cee6f3cf55c96dfe3bb8c2527e38c0/expr.ipynb\"><img src=\"data:image/png;base64,iVBORw0KGgoAAAANSUhEUgAAARkAAAAVBAMAAACAi4frAAAAMFBMVEX///8AAAAAAAAAAAAAAAAA\n",
       "AAAAAAAAAAAAAAAAAAAAAAAAAAAAAAAAAAAAAAAAAAAv3aB7AAAAD3RSTlMAEER2zVSJ3Zki72ar\n",
       "MruaaVGaAAAACXBIWXMAAA7EAAAOxAGVKw4bAAAC9UlEQVRIx51WzWsTQRx9a8xnt+lAb6WQ6tFL\n",
       "I4qgIJaCt6LtRenJgEJBlMaL7aHQHAoNCG1A/KRoryrY/AGChX74ic1JEQQr3kSxH+nBg8Sdmd2Z\n",
       "X3YmMc0ekseb33v7dmfmNwvAOYz2rjslC9muW3JU/h8/1Gaazg/MJNt2+/KN/0a3ufENy818zvmR\n",
       "D/IXz1VoRXrZEAk3fGKGwHS7P/OrDv3kMOaN9s5sG76aO1jwwSPEdmhJLG+oOOW8Ps/CAtMtuYnx\n",
       "PorGlGXETKO5rmEfvAGetpAGOMMMgeHmlpBapKjFNP3B8lhi2CjtJw0RGG6pbbh/KGoxzVjAvAI2\n",
       "KvtJQwSGm5uH+5ciW5qFy7fDaYaOram7TfuTvn4y20IaLbC6xbcoEmkSA7T2wBP8ZvV6p8oywfx0\n",
       "7sr/I6W0NxqR8z47wa8pKDeSJhBY3b5mQdApDh6WaZqeMmZDem/TpgJZXO5p5xkS3ktI7hnvRriR\n",
       "NPHlJm5TSsbRY295LwzWvcd54GZI7z1uV87n5nxqC3FO9Z4NhZFuJM0cGrslNoNBgZzVYXTOMZrm\n",
       "OZydkN67b7+/Kzv8J01tIsN7xZW+cMcUbjpNxzIau71QMoFig0FDVbO6i46tkN5rEPO++wUkxZxn\n",
       "snipGm/dupHtWaUJBDa3aA4PQNAlRveUw9PswR0YBQPhuireMnHEk+cQYRxlhrEaLSG22GRPMSqw\n",
       "uX0Ejso7CYSrSh/zuk+Gb4fvuFgoOFUQzi2nC3LwXrE4K1A6G51MNNnh4yUIDyWwuCUni8W8qBKI\n",
       "9Bv3bfUd4vxc6z3xeaWCCUY4Z/0W5OB0rVaV1Mr1hdON07xfGioLDyWwuMVrtdqAqJKIdD9xjeiT\n",
       "mBmcHhz5fy9u4GFx01XhNDntCYPLwVLWLI3Fw+Kmq2SaSLAUHdUZ0Y0wpwdJmWy89YfbYmMPm1u3\n",
       "ls6IIydoqBE9oIojBqBlPWXzg3KvsYfNTT+at9XEl9dam9+Od23Cdt2S17ye+A+LPwkPQpsBagAA\n",
       "AABJRU5ErkJggg==\n",
       "\" style=\"display:inline;vertical-align:middle;\" /></a></span>"
      ],
      "text/plain": [
       "{a = 2} |- {1, a, 1, b, 2, a} = {1, 2, 1, b, 2, 2}"
      ]
     },
     "metadata": {},
     "output_type": "display_data"
    }
   ],
   "source": [
    "# |– Replace all instances of 'a' in {1, a, 1, b, 2, a} with 2\n",
    "set_1a1b2a.elem_substitution(elem=a, sub_elem=two, assumptions=[Equals(a, two)])"
   ]
  },
  {
   "cell_type": "code",
   "execution_count": 153,
   "metadata": {},
   "outputs": [
    {
     "data": {
      "text/html": [
       "<span style=\"font-size:20px;\"><a class=\"ProveItLink\" href=\"../__pv_it/demonstrations/d2dc996d027fc0af203c9c4aa1247d33de15a0ae0/expr.ipynb\"><img src=\"data:image/png;base64,iVBORw0KGgoAAAANSUhEUgAAAC8AAAAOBAMAAABN+VgMAAAAMFBMVEX///8AAAAAAAAAAAAAAAAA\n",
       "AAAAAAAAAAAAAAAAAAAAAAAAAAAAAAAAAAAAAAAAAAAv3aB7AAAAD3RSTlMAELvv3c2ZVESJq3Yi\n",
       "MmZ3LnoBAAAACXBIWXMAAA7EAAAOxAGVKw4bAAAAmUlEQVQY02NgVHZgQAM8M5MagBRrArqEGAP7\n",
       "dyDFX4Ausb+A8SuQ6hdAl2huYABJTGHABOz/gETU7uUYEi0PGBgYvwrIHwCyU1xAwAssfnvVBaCu\n",
       "jwzMGzCMArqKLYCBfwKGWfYCDCwTGPrRHHyXgUG/AOSNfAFUO/4LgCUuMNqhmWMFNorrARN6mLwD\n",
       "+4NxZR66zRxpwEAEAL1DJo0qMayqAAAAAElFTkSuQmCC\n",
       "\" style=\"display:inline;vertical-align:middle;\" /></a> <a class=\"ProveItLink\" href=\"../__pv_it/demonstrations/db72902cdab058fd44618222141e59b31f4dd2240/proof.ipynb\" style=\"text-decoration: none\">&nbsp;&#x22A2;&nbsp;&nbsp;</a><a class=\"ProveItLink\" href=\"../__pv_it/demonstrations/c905c7db11711c375df683162a4783915cc26a9f0/expr.ipynb\"><img src=\"data:image/png;base64,iVBORw0KGgoAAAANSUhEUgAAAJUAAAAuBAMAAADTgUbKAAAAMFBMVEX///8AAAAAAAAAAAAAAAAA\n",
       "AAAAAAAAAAAAAAAAAAAAAAAAAAAAAAAAAAAAAAAAAAAv3aB7AAAAD3RSTlMAEER2zVSJ3Zki72ar\n",
       "MruaaVGaAAAACXBIWXMAAA7EAAAOxAGVKw4bAAACxElEQVRIx+2VTWgTQRiG30nMJrFNWPAiEkz0\n",
       "IvSUgwiK0loQPIiuF6WnFhQVUayX1lt7KDSnuCD+IEELHsQfbO4eDKT+ttiABxEUFC8ehDZtIohI\n",
       "3Nmd3ezMzm66SY8OIfPy5ds3szPffA8AshvdjeSIJ7R3V5de+PxNCMTq9Puj6slMXWVi50N7IYXj\n",
       "NS7lp/CIMm685psTHq/MTN2WR9l8D8oal3Ne4gUMetcVdbyabH4LPO7RK2KLeRXLem9eVoYxXgPL\n",
       "tRBepTM3RK8t1YOanT3FpYleiSG3V+QRVlTBK3uY/LbPdp1LO2A5TJqjAtwtu712lDErrmtUxQMm\n",
       "4xUu7b7GLas0DLfXdWBC9JoBfjFZBJdGFjizVFF1ez0DWRO9JhBhVdHHlmWnKcP8fqUrLi+yjr5V\n",
       "0auJBJOnkNTdaaMqv1/tczQ+pIn+oRGotheh4i/dHhpKjSGq0hBLw0VpTVzRQRrG/B2np6dNBcU4\n",
       "vCw95EX8sH68XSjMWiEzzae+luaPlTFp/Hdm36dqzVT97xqLiNP7nblgHDUNTbVaDRYy03xq1ewY\n",
       "qledDAgFeSnwqrGAkNcrOmerbfAokg8ImZXHd1q7o6Cd5KhoUAjkidgP7rzstt9f0vB/9DS6Zi1u\n",
       "6pvH2tR7NSxrk+eKOTls05WwrN2OWFMO2/b92yjTBjWrCXlhG95rIIeGHLbhvYw9/SOHbQcvCWuB\n",
       "PWUIsE2+2p/3enVmLT4sOYuxYTugp+vufmWNzqyFc44ObI1ukxh396uNstbadA62iVXEaX/NHAnJ\n",
       "2i/AisbDdutXZGn9ns2FZG1Ldbxs2GbzeOHcGdk5+rH2KX1HUzmwzWpYiOlQ5sKy9jmtL1M5sE3n\n",
       "Y9cSPvUVyNpIwbjbpnJgS6qXS4f8arUja6XK3yuQtVIlem2QtTLF7kxo1soUvSWbxFrc4p/8B1Dx\n",
       "BAzkr8t4AAAAAElFTkSuQmCC\n",
       "\" style=\"display:inline;vertical-align:middle;\" /></a></span>"
      ],
      "text/plain": [
       "{b = 3} |- {1, a, 1, b, 2, a} =  \\\\ {1, a, 1, 3, 2, a}"
      ]
     },
     "metadata": {},
     "output_type": "display_data"
    }
   ],
   "source": [
    "# |– Replace all instances of 'b' in {1, a, 1, b, 2, a} with 3\n",
    "set_1a1b2a.elem_substitution(elem=b, sub_elem=three, assumptions=[Equals(b, three)])"
   ]
  },
  {
   "cell_type": "code",
   "execution_count": 154,
   "metadata": {},
   "outputs": [
    {
     "data": {
      "text/html": [
       "<span style=\"font-size:20px;\"><a class=\"ProveItLink\" href=\"../__pv_it/demonstrations/db6adddf22e63f824dbf5e4d2b05d9b6ef9ac8490/expr.ipynb\"><img src=\"data:image/png;base64,iVBORw0KGgoAAAANSUhEUgAAADEAAAAOBAMAAAB0nulXAAAAMFBMVEX///8AAAAAAAAAAAAAAAAA\n",
       "AAAAAAAAAAAAAAAAAAAAAAAAAAAAAAAAAAAAAAAAAAAv3aB7AAAAD3RSTlMAIquJdkTvuxBmmd1U\n",
       "zTKBpmoTAAAACXBIWXMAAA7EAAAOxAGVKw4bAAAAmElEQVQY02NgwAIYV11/wIAViDMwf8Uuo8jA\n",
       "kIZdJr+BQV8Aq4w2A4M+0CJGZUcHTMn9QBwmwP4DxF69GwQ2QST4vjAwcGQycG3A0MKtwMDA9YGB\n",
       "2wBDZjkQsxUw9AegS3ACtTD0OzDMZ0C35zADowBD/wEGXR40x/MZMLA0MLA78OziQjNMetWq1UC3\n",
       "qdgJ+aF75v//vwwAyLIlNSbHnCQAAAAASUVORK5CYII=\n",
       "\" style=\"display:inline;vertical-align:middle;\" /></a> <a class=\"ProveItLink\" href=\"../__pv_it/demonstrations/97e3a4c70650f1f66e4f1570705bd7d22a57c51b0/proof.ipynb\" style=\"text-decoration: none\">&nbsp;&#x22A2;&nbsp;&nbsp;</a><a class=\"ProveItLink\" href=\"../__pv_it/demonstrations/f4955d40fafe0f0505e2d63a0d1dbe2acb1f2dc90/expr.ipynb\"><img src=\"data:image/png;base64,iVBORw0KGgoAAAANSUhEUgAAAPAAAAAVBAMAAACK8n6QAAAAMFBMVEX///8AAAAAAAAAAAAAAAAA\n",
       "AAAAAAAAAAAAAAAAAAAAAAAAAAAAAAAAAAAAAAAAAAAv3aB7AAAAD3RSTlMAEER2zVSJ3Zki72ar\n",
       "MruaaVGaAAAACXBIWXMAAA7EAAAOxAGVKw4bAAACdklEQVRIx5WWv2tTURTHv68xP15M0gduUnzV\n",
       "0aURXQQLVRAcROriagahLmJcbAehHQoGhPQt2ipFCg6CDuYPECzUVkSwmVzNKILQaip0KM/76+XH\n",
       "PecG3x3C937uzffcm3PuIQC8M0gznkYMTOdhLC6cThW4/DWgMJ2HtsjuDx39Z53cxkKVTeKkPNaW\n",
       "f+nZqdcJp8hv3Ggbi9yw7bElYmuhHDmaQn4H9yf19FoShaKXyP02FpbP+CyxtZAjcClCcUNPDwxm\n",
       "0GfgDR94imbQQo7AxX2UDtVsLEkeg94F2I3YwHO0FubwXzeuo3Q0vIFBn4Dd9kBgf+diVa9cP79t\n",
       "EuRCjsBi5Pd0TWxd6iWHQYtmf2FGfJyNKvrH8LpBqF+ZE2V02grzaqgSVx7Ad33S8LJ3mEShqPzH\n",
       "WLxoCe+3KNSTh1FUe93IPyA3lh5iPNKz2wFeJSsU5Te1xfoVeeI95GswZx9XagSauGrFVR5ivaOn\n",
       "y8Bfs8KgJrRFuSlqtthBqB+ccJ5S2RiB7kzanaip6v69mT7EWPKjUHRc5UZayC4SVvGh92ZXlIsb\n",
       "mVY3mGPVibI1PDdvtmBeD4NuwY+0haywcBYfs5Eno7RFJqVwIuQ2+Kr+BpyDPOERTraUYFC5hkyg\n",
       "LeSXKtXsQgGhqM1Sq7KkhBM5W+ZCo1H3umL2BT+gBINWG43HA53L27q3Po38A6F2nkALF3IFzsdx\n",
       "PIN5ca2Ju6LIpWDQYhx3acu8SQSH3A1EZjWwBYfswDUiODQycI4IFsn9mV6teFVbcChpU4Oj73GC\n",
       "CA4pi34jyhDBIVmf9uh7VIngkLZY20711+cZtz2dh7T4B0HM5+DwUA4hAAAAAElFTkSuQmCC\n",
       "\" style=\"display:inline;vertical-align:middle;\" /></a></span>"
      ],
      "text/plain": [
       "{a = 2} |- {a, b, a, b, a} = {2, b, 2, b, 2}"
      ]
     },
     "metadata": {},
     "output_type": "display_data"
    }
   ],
   "source": [
    "Set(a, b, a, b, a).elem_substitution(elem=a, sub_elem=two, assumptions=[Equals(a, two)])"
   ]
  },
  {
   "cell_type": "code",
   "execution_count": 155,
   "metadata": {},
   "outputs": [
    {
     "data": {
      "text/html": [
       "<span style=\"font-size:20px;\"><a class=\"ProveItLink\" href=\"../__pv_it/demonstrations/d44c8ed2685d4a079407a37b6a77a7c67a5f33cc0/expr.ipynb\"><img src=\"data:image/png;base64,iVBORw0KGgoAAAANSUhEUgAAAC8AAAAOBAMAAABN+VgMAAAAMFBMVEX///8AAAAAAAAAAAAAAAAA\n",
       "AAAAAAAAAAAAAAAAAAAAAAAAAAAAAAAAAAAAAAAAAAAv3aB7AAAAD3RSTlMAEIl2mUTdMiJmu6tU\n",
       "ze/kkN0jAAAACXBIWXMAAA7EAAAOxAGVKw4bAAAAfUlEQVQY02NgwAbYHRiwA7YNOCTMcEiwz8Uh\n",
       "wcQLkmBUNhFAk7AAS4QVsCsAKbc0EMgGiXNMAElw/GRgDkAziQEkwfXZWBXNpBlgCX4MB3AYQCQM\n",
       "IFyEHay7d+9/rcDABrT5ALomPqAOzgsMIg3oEvwLgITRTAN0cZb1vw0AOikdgvyRwW4AAAAASUVO\n",
       "RK5CYII=\n",
       "\" style=\"display:inline;vertical-align:middle;\" /></a> <a class=\"ProveItLink\" href=\"../__pv_it/demonstrations/f7c7069a1a9d6caad128d6c8d74999e151d391d70/proof.ipynb\" style=\"text-decoration: none\">&nbsp;&#x22A2;&nbsp;&nbsp;</a><a class=\"ProveItLink\" href=\"../__pv_it/demonstrations/490ac632a9dd1f3ed8d17046eb73e47ed5c998a30/expr.ipynb\"><img src=\"data:image/png;base64,iVBORw0KGgoAAAANSUhEUgAAAH8AAAAuBAMAAADzQdtyAAAAMFBMVEX///8AAAAAAAAAAAAAAAAA\n",
       "AAAAAAAAAAAAAAAAAAAAAAAAAAAAAAAAAAAAAAAAAAAv3aB7AAAAD3RSTlMAEER2zVSJ3Zki72ar\n",
       "MruaaVGaAAAACXBIWXMAAA7EAAAOxAGVKw4bAAACAklEQVRIx2NgYGBUYiABcEZiCJkokmIAw52H\n",
       "aAKsH5F5jK8KMPXwejUg8d6gybKh6mBpwGIrfwASJx2/AShqYUBfgHgDUNRi1UPAgHRsAedB0ADO\n",
       "Y5YGEK6P8VGoRLL1BUjEHbP9Cg3hZAsBTAM4HICE1gQ+SGQwfhGQnwBmTQ/geABmwOUY1C/wJjAw\n",
       "WEG0lYPBAQaGWRuA2lYzcBTAIpUL4pYyKAMk5wBxym8GZgUGhvmowTzHCWTcBwb2BJh7+MEsDljy\n",
       "QMjxfTZOApl4BMUE3j6gt7geMMgrgLlAtfpgea4HUAUIOf4DkEBzQg0DPqCwvAHDfngy6AdHpDw0\n",
       "UJHlIELxAqhhAIoF+QCGI6wTGEGKLgD9DGYAg0YBxEDIgXwCdF0WlmjkM2Ct4GCQB4YVzwa+BjAD\n",
       "GAVsF0AMhBy3A4PEBOzpgPFw7hxbBvZCIOtYNwOYwZC22xAiApdjMNttgD8lBuJmILHwGJCAm4HE\n",
       "QjeAeQG8LDDAyUBiMbSgl1Ff4UbhZiCxgLGEBmYcJalMzAlgGAUYYGhVLDcorVhqKKxYmIkwAG/F\n",
       "ctuHwoolwYeyioV5AjYDSKhYZjOADLBCM4D4igVYqIAMIL9i4Z4ANoD8imUyA9gA8isWnTNnfh2D\n",
       "VSyosUBcxQIEaxgoqViA4B8DRRULQ9//w6MVCw0qFgD3GMUfUdAYagAAAABJRU5ErkJggg==\n",
       "\" style=\"display:inline;vertical-align:middle;\" /></a></span>"
      ],
      "text/plain": [
       "{e = 4} |- {a, b, c, d, e} =  \\\\ {a, b, c, d, 4}"
      ]
     },
     "metadata": {},
     "output_type": "display_data"
    }
   ],
   "source": [
    "# |– Replace all instances of 'e' in {a, b, c, d, e} with 4\n",
    "from proveit import e\n",
    "set_abcde.elem_substitution(elem=e, sub_elem=four, assumptions=[Equals(e, four)])"
   ]
  },
  {
   "cell_type": "code",
   "execution_count": 156,
   "metadata": {},
   "outputs": [
    {
     "data": {
      "text/html": [
       "<span style=\"font-size:20px;\"><a class=\"ProveItLink\" href=\"../__pv_it/demonstrations/526a7134e8ade6a248637ee37a1968395a2a30770/expr.ipynb\"><img src=\"data:image/png;base64,iVBORw0KGgoAAAANSUhEUgAAAC8AAAAOBAMAAABN+VgMAAAAMFBMVEX///8AAAAAAAAAAAAAAAAA\n",
       "AAAAAAAAAAAAAAAAAAAAAAAAAAAAAAAAAAAAAAAAAAAv3aB7AAAAD3RSTlMAiXZmMiLdVJm77xBE\n",
       "q833A+o+AAAACXBIWXMAAA7EAAAOxAGVKw4bAAAAg0lEQVQY02NgwASsgp0HGLCBHQzs37FK6Bdw\n",
       "/8MqceoAA3YJBgb2zyBSSNkBXeKYAZAIK+CYAKTa0kAgFyzudBekNJGBSwHDKKCrOH5js2T9Bgau\n",
       "CRiiLgwM8wsY9kPNQbLj/waQBD/QAWgBsBZsFNBJjGjONYb4Q9BYG80Ong5gIAIAipwjHGAJiswA\n",
       "AAAASUVORK5CYII=\n",
       "\" style=\"display:inline;vertical-align:middle;\" /></a> <a class=\"ProveItLink\" href=\"../__pv_it/demonstrations/4607d52ca80db4e6e3eb646a6ee16fecaada2c8c0/proof.ipynb\" style=\"text-decoration: none\">&nbsp;&#x22A2;&nbsp;&nbsp;</a><a class=\"ProveItLink\" href=\"../__pv_it/demonstrations/e67c2f11ea8963601fd5ad107afbd653dcfb9d7e0/expr.ipynb\"><img src=\"data:image/png;base64,iVBORw0KGgoAAAANSUhEUgAAAIEAAAAuBAMAAAD9xGdYAAAAMFBMVEX///8AAAAAAAAAAAAAAAAA\n",
       "AAAAAAAAAAAAAAAAAAAAAAAAAAAAAAAAAAAAAAAAAAAv3aB7AAAAD3RSTlMAEER2zVSJ3Zki72ar\n",
       "MruaaVGaAAAACXBIWXMAAA7EAAAOxAGVKw4bAAACr0lEQVRIx+2WS2gTQRjH/5ttNtm2iQu9eBCs\n",
       "XgTxEFAUe7EUjyLpRfDkelHwAfUgBRFaoWAOEgMeLCpW8KbFBvQiIiz4QhtJwIugQnsXajUiPuPs\n",
       "PDazuzODe/c77P7z7cw/89rvtwCsrcgS7uFUateWf+7dgdXA+9VENr9OLqUz4h9qBztcHauPijZv\n",
       "+X1p/7QHfEw4OFPAprl1/usmnM9MbUT+q2hznt/PfTtKrscVDrCFw0vgDlP7qlaXJ23hENCr2WHJ\n",
       "Q7tB1fZRCId3BzI4vADaHbFCP7nwsziQmBFiW5NPoiEclne/VjgUx+MOpS9cvGnxwVyHcFjFAtmf\n",
       "MdZvmgYZ1rVm3KEQRPvM98KPHIAyGfFCNTaEGxOIO9T7z8iykhhqSA7F7+QQP41ZlOpezGFIDOED\n",
       "sEZbXoFwKI+j+Jus3ER8HcpBzOEQXLabPY877Gi1fjynqcEpDH8CjnjxdYj2wqJD8mF7VC2Gs7CY\n",
       "LdFhL4eYrAAnVLvpkOltDjflaq12kalH4XmgCvgDej7dWYx56vMw/Kq7jEL4ds30el2mcjXyZlGF\n",
       "eu8JwlcK85cu6E4UjUkYVN6LcnoHHwblQOtg3+LCqsCgRvo95pJVS1QBu2+qUJEVrLvJ0jX/LFud\n",
       "PFXF/1BGNuIogJOBOGrgaIkj15BZE3C0xJFCFD41cLTEkWJPYCr2WuJIk3iQxUEmTtRiIIuDRBxn\n",
       "52Mm9goHNXC0xHHP8sLvNoWDDBwpdMQp+LjNa8tAYACOnjiXRVl7KDkogKMnzj1xxirCQQMcHXEs\n",
       "AeBcq9Ve9FPAUe1Fgjjk4yEH1ngwoA81wNESh6zHaf4dtGGFpjTA0RLHOXnfY5wprv2q0JQaOGbi\n",
       "9DkzqcWFmTiOAkIpByNxRtKpFHDMxKmkU2ngZCROCjh/AcEV7rXHs4h9AAAAAElFTkSuQmCC\n",
       "\" style=\"display:inline;vertical-align:middle;\" /></a></span>"
      ],
      "text/plain": [
       "{c = 3} |- {1, 2, 3, 4, 5} =  \\\\ {1, 2, c, 4, 5}"
      ]
     },
     "metadata": {},
     "output_type": "display_data"
    }
   ],
   "source": [
    "# We can go the other way as well, replacing all instances of a literal by a variable. Yay!\n",
    "# Here we replace all instances of 3 with the variable c\n",
    "Set(one, two, three, four, five).elem_substitution(elem=three, sub_elem=c, assumptions=[Equals(c, three)])"
   ]
  },
  {
   "cell_type": "code",
   "execution_count": 157,
   "metadata": {},
   "outputs": [
    {
     "data": {
      "text/html": [
       "<span style=\"font-size:20px;\"><a class=\"ProveItLink\" href=\"../__pv_it/demonstrations/5718e73fbe9168d3cb66d1c8b82130b18b8583ba0/expr.ipynb\"><img src=\"data:image/png;base64,iVBORw0KGgoAAAANSUhEUgAAAC0AAAAJBAMAAABUCbiJAAAAMFBMVEX///8AAAAAAAAAAAAAAAAA\n",
       "AAAAAAAAAAAAAAAAAAAAAAAAAAAAAAAAAAAAAAAAAAAv3aB7AAAAD3RSTlMAiXZmMiLdVJm77xBE\n",
       "q833A+o+AAAACXBIWXMAAA7EAAAOxAGVKw4bAAAAc0lEQVQI12NgYBBSdmBAAdxCGhsYGMIKOCYw\n",
       "MHCkgcEFkPgxBxYBBoZEBi4FFOWsnxmYDjBw/GZAA5yflGQYGLgmoIvzgw3bDzEEyXx+sAi/AQPD\n",
       "ART1bEBLCxiAjmFEdSfzA4YdAQwMgsbaaBYoGiswAABrtxaPHQyx7gAAAABJRU5ErkJggg==\n",
       "\" style=\"display:inline;vertical-align:middle;\" /></a> <a class=\"ProveItLink\" href=\"../__pv_it/demonstrations/a3d331087a2d359880eb59a8cd518e9b00896d270/proof.ipynb\" style=\"text-decoration: none\">&nbsp;&#x22A2;&nbsp;&nbsp;</a><a class=\"ProveItLink\" href=\"../__pv_it/demonstrations/71e919a09ef92dd79c86fd7477be9f6c2d18b28f0/expr.ipynb\"><img src=\"data:image/png;base64,iVBORw0KGgoAAAANSUhEUgAAAH8AAAAuBAMAAADzQdtyAAAAMFBMVEX///8AAAAAAAAAAAAAAAAA\n",
       "AAAAAAAAAAAAAAAAAAAAAAAAAAAAAAAAAAAAAAAAAAAv3aB7AAAAD3RSTlMAEER2zVSJ3Zki72ar\n",
       "MruaaVGaAAAACXBIWXMAAA7EAAAOxAGVKw4bAAACpElEQVRIx+1WS2gTURQ90zjpNG1mBgQRKUx0\n",
       "I7jpaCT4oRAKgoiLuJKuDEYs+IG4sW6EEbopgs3GD1Jol4ogAd11YaFtljILEQTBiDsR2ppmpQvf\n",
       "Z2YynzeTGbr1LpLz3r3vzHv33nlnAEjHkMHGZiNTp49mIcDX76EJedc/kn42o2uKlyzf6FfImw+u\n",
       "OGAJnqrVfIO5ZIJArGtTenqCQKxwzRCCOVHiLg4lGOucNfnwcnnLcTTO27xwnem+k+HGGT1KoFTJ\n",
       "z4mWyosh7elGi6HnNaXLgOfDcbtYB87xZfPM1oGXbbLsDZSmW9QC38t9B1BflW/lD3IlYCWY5uUZ\n",
       "SreD0bq7H40hxW2PgU/tla9Txs0AQ/EJOVahC6PEhiR2ivkLXSdg4NPWedJmgjlQybRh4oPXBkus\n",
       "kIaTVL+PT13TgzmgVTBq2JRbEg2yyZkZIKkpUTDw0ZOQ3d0SlFE15QcKDJKribZqMUBKkLcpGPjG\n",
       "qzjcEveBtHF3eRqj9wjqPAYDuLl2ks94PlTWzOROvBIPfCiBoB4PfChMkFv17gIzFvgQFsJ3VN+j\n",
       "igc+RKoUshdbme7EOzX8t4hlExY8be1TWIof9czCgk+vQu9/VmFBP35BKmEZ2U1PIBSWQMwQAqGw\n",
       "BM4lJBAIC1cRdnE3vjnnOlR+FCWIExauIjQBr7HNqUYe4rP//ecWIyyOihA70navgJU2Tvnf/0Rh\n",
       "cVSE2BJVKWbb5QrlnLyQRlg0r13eQvrN0V/+d6OURlg071rrYXyHw56gdWOFhasI4ZL6mKjOUkRP\n",
       "IpMFq6mEhamItEcCfuCqZTH0HtKiuA9EwsJUZJ48eLLyZcNmKHf7XXInRvVE1qMogSCqJ3kIUDO9\n",
       "sOAgosj5XkklLDAFiHTmfoQFz4Lh/wCkGMXaBM1XewAAAABJRU5ErkJggg==\n",
       "\" style=\"display:inline;vertical-align:middle;\" /></a></span>"
      ],
      "text/plain": [
       "{c = e} |- {a, b, c, d, e} =  \\\\ {a, b, e, d, e}"
      ]
     },
     "metadata": {},
     "output_type": "display_data"
    }
   ],
   "source": [
    "# And we can replace a variable with a variable. Yay!\n",
    "# Here we replace all instances of c with the variable e\n",
    "from proveit import e\n",
    "set_abcde.elem_substitution(elem=c, sub_elem=e, assumptions=[Equals(c, e)])"
   ]
  },
  {
   "cell_type": "code",
   "execution_count": 158,
   "metadata": {},
   "outputs": [
    {
     "data": {
      "text/html": [
       "<span style=\"font-size:20px;\"><a class=\"ProveItLink\" href=\"../__pv_it/demonstrations/db6adddf22e63f824dbf5e4d2b05d9b6ef9ac8490/expr.ipynb\"><img src=\"data:image/png;base64,iVBORw0KGgoAAAANSUhEUgAAADEAAAAOBAMAAAB0nulXAAAAMFBMVEX///8AAAAAAAAAAAAAAAAA\n",
       "AAAAAAAAAAAAAAAAAAAAAAAAAAAAAAAAAAAAAAAAAAAv3aB7AAAAD3RSTlMAIquJdkTvuxBmmd1U\n",
       "zTKBpmoTAAAACXBIWXMAAA7EAAAOxAGVKw4bAAAAmElEQVQY02NgwAIYV11/wIAViDMwf8Uuo8jA\n",
       "kIZdJr+BQV8Aq4w2A4M+0CJGZUcHTMn9QBwmwP4DxF69GwQ2QST4vjAwcGQycG3A0MKtwMDA9YGB\n",
       "2wBDZjkQsxUw9AegS3ACtTD0OzDMZ0C35zADowBD/wEGXR40x/MZMLA0MLA78OziQjNMetWq1UC3\n",
       "qdgJ+aF75v//vwwAyLIlNSbHnCQAAAAASUVORK5CYII=\n",
       "\" style=\"display:inline;vertical-align:middle;\" /></a>, <a class=\"ProveItLink\" href=\"../__pv_it/demonstrations/a48af4431b8a321955379e31f3459976bc09db890/expr.ipynb\"><img src=\"data:image/png;base64,iVBORw0KGgoAAAANSUhEUgAAAC8AAAAOBAMAAABN+VgMAAAAMFBMVEX///8AAAAAAAAAAAAAAAAA\n",
       "AAAAAAAAAAAAAAAAAAAAAAAAAAAAAAAAAAAAAAAAAAAv3aB7AAAAD3RSTlMAELvv3c2ZVESJq3Yi\n",
       "MmZ3LnoBAAAACXBIWXMAAA7EAAAOxAGVKw4bAAAAoklEQVQY02NgVHZgQAM8aUEXgBRrArrEIQbO\n",
       "H0CKvwBdYg0DgzGQ6hdAl7AXYFh/gIFhCro4wxIGhvVAS6J2L8eQYvBnYGD8KiAP1MeQ4gICXhBx\n",
       "3t8MDOwfGZg3oGtgWcDAwBbAwD8BXSIJJDmBoR/dwXwLIN7IF0Czo5KB5wAD/wVGOzQNvBMYuAUY\n",
       "uB4woYfJkbS0FKBzV+ZheOL//68MAKvBJSn2+GgqAAAAAElFTkSuQmCC\n",
       "\" style=\"display:inline;vertical-align:middle;\" /></a>, <a class=\"ProveItLink\" href=\"../__pv_it/demonstrations/526a7134e8ade6a248637ee37a1968395a2a30770/expr.ipynb\"><img src=\"data:image/png;base64,iVBORw0KGgoAAAANSUhEUgAAAC8AAAAOBAMAAABN+VgMAAAAMFBMVEX///8AAAAAAAAAAAAAAAAA\n",
       "AAAAAAAAAAAAAAAAAAAAAAAAAAAAAAAAAAAAAAAAAAAv3aB7AAAAD3RSTlMAiXZmMiLdVJm77xBE\n",
       "q833A+o+AAAACXBIWXMAAA7EAAAOxAGVKw4bAAAAg0lEQVQY02NgwASsgp0HGLCBHQzs37FK6Bdw\n",
       "/8MqceoAA3YJBgb2zyBSSNkBXeKYAZAIK+CYAKTa0kAgFyzudBekNJGBSwHDKKCrOH5js2T9Bgau\n",
       "CRiiLgwM8wsY9kPNQbLj/waQBD/QAWgBsBZsFNBJjGjONYb4Q9BYG80Ong5gIAIAipwjHGAJiswA\n",
       "AAAASUVORK5CYII=\n",
       "\" style=\"display:inline;vertical-align:middle;\" /></a> <a class=\"ProveItLink\" href=\"../__pv_it/demonstrations/aa65e7b3e44a681c5f7359019e7fc202bed0f2ce0/proof.ipynb\" style=\"text-decoration: none\">&nbsp;&#x22A2;&nbsp;&nbsp;</a><a class=\"ProveItLink\" href=\"../__pv_it/demonstrations/e9e1de9fe73064502dce7bd9c940ebd04ca6811c0/expr.ipynb\"><img src=\"data:image/png;base64,iVBORw0KGgoAAAANSUhEUgAAAPIAAAAVBAMAAACOB66tAAAAMFBMVEX///8AAAAAAAAAAAAAAAAA\n",
       "AAAAAAAAAAAAAAAAAAAAAAAAAAAAAAAAAAAAAAAAAAAv3aB7AAAAD3RSTlMAEER2zVSJ3Zki72ar\n",
       "MruaaVGaAAAACXBIWXMAAA7EAAAOxAGVKw4bAAADSElEQVRIx5VWW0gUURj+Zted3U1XB4QQWdqt\n",
       "hwRfWtqQikwTgoio9aXwKcmoyKR6yK0HcYPA7WVdiC7IkkIPXQxdsDeJJO1GkkJSBEVFD/UQqK0G\n",
       "YWHnNnvO7sxEOw8z3znn/7/vzPkvMwC0DSjh8rfZTJZGAVxNs8eW9SV5vf9snSuRAoFXBrl7FtW5\n",
       "dbftDPcmlNF3yzqneGuIU0nunxXoWCqcN5q7o3hUTpCbfqaAZY/dHqtiyuC4eO6Mx+M9DFEK7fkB\n",
       "oXwT+g+OauBZln4K5KJFyst2ypsMq/LctkIeNAmjF8A9jppi2lLeyLX4b+WCdctrKgPtAhyURw3M\n",
       "8AyqD2OpyMhZuegE7ELAlSvCTsrPgJlZMwNW8kZlCVvlTMcVsT65Q8RUjz4UefK0UYRA69hqmMpl\n",
       "cFImV68J6rICZDo+Ct610YvCw9dMzvgu5rlfaJf2i+udQ4qb1qcrRQjqZgPtwHZeXIoypVCVAzkB\n",
       "Xk+Ll5cCrh68AdxDBA6QbdVm0cdNDhu4xYC3XQBtWDDDvwI3OeNBtvmMojyQLVT2TuTrTZwWEbjE\n",
       "0WAWmwkVmc+0kGE/0M0XyPpPBvpNHt8C3QUrwlz0CN3KFJX2SmFGoSqn5Noon5QC89EGmiHB3Qik\n",
       "yNoINFGC3XDxbY6Yvms+IcSzqYq/is6EfFnZaFJGgXK5+cofiFBMsJkCv/njaJi1Ey2H8gWznH0s\n",
       "qJoZKoQieCT6ScQMCL1aijqSVD4IP6+qVUMoKwI52fVImmnLqGhuA/X8Q0NCASkHFwOhGKY8aY2H\n",
       "HoToJKcIPjasuU2nSBa6DWqP+/S0KVIEyKF7iMeQcPuCQ4kE6zcv8Q0MkFh1MVAZ8Zz3IUSSrLwZ\n",
       "NWnZVjZ+VbsncDrNPa8nk33MHuO0nhmSAg+gXVbqOdjwbnIWcbKn4AkSPwr0zjGDAW2yK9MI71li\n",
       "2jAeKW5oUnl6dF+WOfSuri5xe1eSfDEYkgLuzjFrD/MYjgBotW+lRY1POrTaeHoMh+6pOwOg/b+U\n",
       "dRt7ifRCD9ZO2FXtDKBF8pC3BF88nv9K2lBIe8WzurDr+fPfxYgzgFvuYdj6h2SlcNt4KnS1rBvc\n",
       "eFLSf9ipmHWyNArgGrH/C4533hKTjluKAAAAAElFTkSuQmCC\n",
       "\" style=\"display:inline;vertical-align:middle;\" /></a></span>"
      ],
      "text/plain": [
       "{a = 2, b = 2, c = 3} |- {a, b, c, d, e} subset_eq {1, 2, 3, d, e}"
      ]
     },
     "metadata": {},
     "output_type": "display_data"
    }
   ],
   "source": [
    "# What if we do a sequence of these, and then call deduce_enum_subset_eq? Is it possible to \n",
    "# get back to where we began?\n",
    "# Here we show that {a, b, c, d, e} \\subset_eq {1, 2, 3, d, e} when a=2, b=2, c=3.\n",
    "temp_assumptions = [Equals(a, two), Equals(b, two), Equals(c, three)]\n",
    "elems_to_replace = [a, b, c]\n",
    "elems_sub = [two, two, three]\n",
    "num_elems_to_replace = len(elems_to_replace)\n",
    "from proveit import TransRelUpdater\n",
    "expr = set_abcde\n",
    "eq = TransRelUpdater(expr, temp_assumptions)\n",
    "for i in range(0, len(elems_to_replace)):\n",
    "    expr = eq.update(expr.elem_substitution(\n",
    "            elem=elems_to_replace[i], sub_elem=elems_sub[i],\n",
    "            assumptions=temp_assumptions, preserve_all=True))\n",
    "temp_subset_eq_kt = Set(one, two, three, d, e).deduce_enum_subset_eq(subset = expr)\n",
    "eq.relation.sub_left_side_into(temp_subset_eq_kt)"
   ]
  },
  {
   "cell_type": "code",
   "execution_count": 159,
   "metadata": {},
   "outputs": [
    {
     "name": "stdout",
     "output_type": "stream",
     "text": [
      "Value Error: In calling the Set.elem_substitution() method, the element 'c' to be replaced does not appear to exist in the original set {1, a, 1, b, 2, a}.\n"
     ]
    }
   ],
   "source": [
    "# Should get meaningful error message when trying to substitute for an\n",
    "# element that doesn't exist in the original set:\n",
    "try:\n",
    "    set_1a1b2a.elem_substitution(elem=c, sub_elem=two, assumptions=[Equals(c, two)])\n",
    "    assert False, \"Should not make it to this point.\"\n",
    "except ValueError as the_error:\n",
    "    print(\"Value Error: {}\".format(the_error))"
   ]
  },
  {
   "cell_type": "code",
   "execution_count": 160,
   "metadata": {},
   "outputs": [
    {
     "name": "stdout",
     "output_type": "stream",
     "text": [
      "Value Error: Set.elem_substitution() method requires the specification of the element to be replaced and the requested substitution value, but found elem=None and sub_elem=2.\n"
     ]
    }
   ],
   "source": [
    "# Should get meaningful error message when omitting the elem argument\n",
    "try:\n",
    "    set_1a1b2a.elem_substitution(sub_elem=two, assumptions=[Equals(c, two)])\n",
    "    assert False, \"Should not make it to this point.\"\n",
    "except ValueError as the_error:\n",
    "    print(\"Value Error: {}\".format(the_error))"
   ]
  },
  {
   "cell_type": "code",
   "execution_count": 161,
   "metadata": {},
   "outputs": [
    {
     "name": "stdout",
     "output_type": "stream",
     "text": [
      "Value Error: Set.elem_substitution() method requires the specification of the element to be replaced and the requested substitution value, but found elem=a and sub_elem=None.\n"
     ]
    }
   ],
   "source": [
    "# Should get meaningful error message when omitting the sub_elem argument\n",
    "try:\n",
    "    set_1a1b2a.elem_substitution(elem=a, assumptions=[Equals(a, two)])\n",
    "    assert False, \"Should not make it to this point.\"\n",
    "except ValueError as the_error:\n",
    "    print(\"Value Error: {}\".format(the_error))"
   ]
  },
  {
   "cell_type": "markdown",
   "metadata": {},
   "source": [
    "### Testing the `membership_object()` method\n",
    "\n",
    "The <span style=\"font-family:courier\">Set.membership_object()</span> method has the following format:<br/>\n",
    "    <div style=\"width: 50%; border: 1px solid green; padding: 5px; margin: 20px; background-color: gainsboro\">\n",
    "    <font style=\"font-family:courier\">membership_object(self, element)</font><br/>\n",
    "    </div>\n",
    "    and produces an <span style=\"font-family:courier\">EnumMembership</span> object of the form (element $\\in$ self), which then has a number of related methods such as <span style=\"font-family:courier\">side_effects()</span>, <span style=\"font-family:courier\">definition()</span>, <i>etc.</i>"
   ]
  },
  {
   "cell_type": "code",
   "execution_count": 162,
   "metadata": {},
   "outputs": [
    {
     "data": {
      "text/html": [
       "<strong id=\"example_membership_obj_01\">example_membership_obj_01:</strong> <proveit.logic.sets.enumeration.enum_membership.EnumMembership object at 0x7f3d37b166d8><br>"
      ],
      "text/plain": [
       "<IPython.core.display.HTML object>"
      ]
     },
     "metadata": {},
     "output_type": "display_data"
    }
   ],
   "source": [
    "example_membership_obj_01 = Set(B,C,D).membership_object(C)"
   ]
  },
  {
   "cell_type": "code",
   "execution_count": 163,
   "metadata": {},
   "outputs": [
    {
     "data": {
      "text/html": [
       "<a class=\"ProveItLink\" href=\"../__pv_it/demonstrations/0623c7661f5eecb03140a257cdd80c124e701db20/expr.ipynb\"><img src=\"data:image/png;base64,iVBORw0KGgoAAAANSUhEUgAAAIEAAAAVBAMAAACTeZA2AAAAMFBMVEX///8AAAAAAAAAAAAAAAAA\n",
       "AAAAAAAAAAAAAAAAAAAAAAAAAAAAAAAAAAAAAAAAAAAv3aB7AAAAD3RSTlMAEHa7q2Yiie9Umd0y\n",
       "zUTye3nKAAAACXBIWXMAAA7EAAAOxAGVKw4bAAACDUlEQVQ4y41UyyuEURQ/M5jxmOHLzEJSxmNh\n",
       "oyGz8yxjQWn8B2NhIRujLJSFKVkKG9lRSkrCetRYWMhmRlJsJlaUvB9RGOfce+f7zpVhzuJ83z33\n",
       "d373vO4F+F1st/C/OBb/2Gy8yIEB9pvlcXXBHkdE3yp6QFXQ+RzsbzOjYrC6dKA7MIg/AbFsqIGi\n",
       "jQGdwblNurAJILSnTBrsE/nf8TtJC88uqq3B3xhGfQB3K9KiwVyPqNYzDKcGqisVXSyWZAxhPD/s\n",
       "k1scBvYPVHcDksFJwcCh2Lip0WMIkac8lsMA8u4pwohkGBXYKtGcox9ZTAN4d6WBwVDKsECQ6JIM\n",
       "Uz7TzW0Vo5iScT3V1p8oA4ORM63CGEMDfuOWm9uCDFPR7a8AS6r6ca3UfmpQ6BxDmweYEyYqExzE\n",
       "UCg+GEqJbKOYzof0YTCUTlJvNCT98xAXAySa7jHPcK0StgwTLXhUMVgwlCeatxeqV0q12CnsJVaY\n",
       "eV2ULWaQ/yUNDKbGoYKiXTbk1MCY7LJP74UfvRJJGXsGZjPHoZ3+JigyDOZS5XemM5wClM4aYPtk\n",
       "sGpqkhvH4VrMqpjJykDfufLzdhiMoTsdDB5jrSFmWLCSHcwMb1zLGpgMXC5btanOXFSDLRY0h8ms\n",
       "F19jcPKdSI4M9ihblPO3S5tN2Mz+fr2zBXey62/hTPb3a6Q3l3dyHAv9DeBNhqJprNYoAAAAAElF\n",
       "TkSuQmCC\n",
       "\" style=\"display:inline;vertical-align:middle;\" /></a>"
      ],
      "text/plain": [
       "C in {B, C, D}"
      ]
     },
     "metadata": {},
     "output_type": "display_data"
    }
   ],
   "source": [
    "# to see the explicit membership object, use the expr attribute\n",
    "example_membership_obj_01.expr"
   ]
  },
  {
   "cell_type": "code",
   "execution_count": 164,
   "metadata": {},
   "outputs": [
    {
     "data": {
      "text/html": [
       "<strong id=\"example_membership_obj_02\">example_membership_obj_02:</strong> <proveit.logic.sets.enumeration.enum_membership.EnumMembership object at 0x7f3d3780f5f8><br>"
      ],
      "text/plain": [
       "<IPython.core.display.HTML object>"
      ]
     },
     "metadata": {},
     "output_type": "display_data"
    }
   ],
   "source": [
    "example_membership_obj_02 = Set(B,C,D).membership_object(E)"
   ]
  },
  {
   "cell_type": "code",
   "execution_count": 165,
   "metadata": {},
   "outputs": [
    {
     "data": {
      "text/html": [
       "<a class=\"ProveItLink\" href=\"../__pv_it/demonstrations/f741a9860c2be7f0a700a7723af0162c573946bd0/expr.ipynb\"><img src=\"data:image/png;base64,iVBORw0KGgoAAAANSUhEUgAAAIIAAAAVBAMAAAB4Tis1AAAAMFBMVEX///8AAAAAAAAAAAAAAAAA\n",
       "AAAAAAAAAAAAAAAAAAAAAAAAAAAAAAAAAAAAAAAAAAAv3aB7AAAAD3RSTlMAdrvvq93NRIkQmTJm\n",
       "IlTMv30WAAAACXBIWXMAAA7EAAAOxAGVKw4bAAACO0lEQVQ4y41Uv0tbURQ+LzW+99T38hpdnAwl\n",
       "UtoOkRbsIiiPh4P4a2iG1qGhDqVQVCiIQ8EsFZx8aqCggw7qquDmYv6DZHDo1AQ6daqGYC1q9Zxz\n",
       "7zP3pQ3mQg435zv3O7++BKDB+ToH95/vxcaY9t5vgqHd5aj4i6TX+7wO+0VQR6rqDT8LXGbcG7Wy\n",
       "gj9V8R6N4SUyxN/PiaaO4QvbBwmAiQPp6uwGezcv7rEMQKEMYEzSN/0CzcZ/GUoOwOK28KxNodmX\n",
       "jR8j0NYXMBi/0awKJJ5OZxSGAuYvOAKapr4+yQQ9COhXAUPrKWjQzsB8d7iGCXop0hp/yR5JOIUf\n",
       "6yJgiCXgs/BbH+q6wPnmpoSjxLGbEq7QIqoBw+Ir91r4W2vr3eNlVR52fZSOFUfd4hltCmvQ+hg7\n",
       "sCYlw12INcBLQ+YfcvpvVfFol2hacH4W9zYLkAVWxmEaT4IIhlmREZr2pXg0yFbKLHJK3VP+3Izo\n",
       "qWhyjWt3SY6e8IRQLx1nsgYyttRGjNIUqLolTKVTiMbk0VqdSd56XtQKgRIMqMnBJBnbf0CWeSLa\n",
       "c8K76MFXxxkwA3HBsuyD5BAh4RjUSRR70l+KdzNhhmlE+n3Yolgb9bPgg3kuR6e/YZXgDnKzVc8d\n",
       "FEKE3GNfYXBvPO8dij/6mjwbyREab9pnwH1aDBjCZ6E3pGp5fip3O/Sr/5ehTpPyZNU30CRDp3I3\n",
       "VTmuhsLaMg0ZSmVFgSrghMLW8w0ZrJ1yE/9y38YBbgE0NYW/BheltgAAAABJRU5ErkJggg==\n",
       "\" style=\"display:inline;vertical-align:middle;\" /></a>"
      ],
      "text/plain": [
       "E in {B, C, D}"
      ]
     },
     "metadata": {},
     "output_type": "display_data"
    }
   ],
   "source": [
    "example_membership_obj_02.expr"
   ]
  },
  {
   "cell_type": "markdown",
   "metadata": {},
   "source": [
    "#### `membership_object().definition()`"
   ]
  },
  {
   "cell_type": "code",
   "execution_count": 166,
   "metadata": {},
   "outputs": [
    {
     "data": {
      "text/html": [
       "<span style=\"font-size:20px;\"> <a class=\"ProveItLink\" href=\"../__pv_it/demonstrations/5a3a22bd76e3ceb89c281a3337d4e2e8d6dcc2710/proof.ipynb\" style=\"text-decoration: none\">&nbsp;&#x22A2;&nbsp;&nbsp;</a><a class=\"ProveItLink\" href=\"../__pv_it/demonstrations/aec97e1eda6345191d8eb97c05146faf1c9c65c40/expr.ipynb\"><img src=\"data:image/png;base64,iVBORw0KGgoAAAANSUhEUgAAASEAAAAuBAMAAACVErJJAAAAMFBMVEX///8AAAAAAAAAAAAAAAAA\n",
       "AAAAAAAAAAAAAAAAAAAAAAAAAAAAAAAAAAAAAAAAAAAv3aB7AAAAD3RSTlMAInZUiRDNmWbv3US7\n",
       "qzJazP2FAAAACXBIWXMAAA7EAAAOxAGVKw4bAAAE10lEQVRYw+2YTWhUVxSAT2acn7zJjG9RsgiF\n",
       "jK4UBKfgD3bRDpQuWho6dGcVHAUhoIsUg6SoEFzoxlItCNJ0EQhKsV2EQBd245iioBjNxixapw1u\n",
       "BFESI/hH/Tnn/j/fu3fe4F248MK9vHfuOXPOuz/n3m8AIARL2TENHUvPR9SG4LNkaraOfY0U5g8u\n",
       "YzPjNaJN1Hwz1x7/4I2OTymgE6/a7f2LUmSobXg1d3uOxmaOgh/3GFCuSb/4UwO2/vpGz5es/QWg\n",
       "/FKOmqn2GKD4SKrt9RhRAT8vdw1HofAwKaKeFYDSExG8qVbBDvheqh33GFEv1vxpbEon+ThcO3/O\n",
       "iKiI41Nc4QJTDTI0cBfHhVpvw19EW7B+TYu7MkKvpT2NyBiVlzGSU1xgqAH0YQcM1oVa3uNCGsWZ\n",
       "ec7mhK3f/kZ01npbkPubr2xTDWB1C5uleaG2at5fRMP4cyv6dbd+PEjN0uzaBfH9php2VLH5Ecdo\n",
       "PZtc2h+F86y8bXBTAIGxpps6952hdmMI2TNcEESW/kYaq/8whw7SXGZP+hujCZyZZTYdbAf9jB/5\n",
       "OwtogWXsq7R++EQZalhuUvOMBAsYUmXZa0QB+7lPmL+W6rhLyRhe0NxU+RhpNSz/01w9pcncZ+xA\n",
       "H2VKppg6e53UPZSMK0/F3EBUjaej7S2Z2rOT/tbRLM+CsIpvsrXRDJnBKCqP+VxJtZxKR1fo6Qu2\n",
       "slv+xmiIPnMcSp+LLFiLRJTH2biAR8SuplZjz3mcwj9HVJIo1P1FdI9Wz+H2IXnM3f7DiKh880V7\n",
       "4S9aQ2e1Gj1Tx/XvdNoKpv1FFCxG30tfRU4RWTZbnoXagMdzrThi64lEVLc8C7Uxn/ejS7aO9ead\n",
       "pZr8LFJ7T8tnRDttHYPG5TIDyc8YH2X0Pq/X2p6qreNILYX1ECmtgfflfXnnSpgCAcMUkuiKh24t\n",
       "dBxEkJlOu2omNXfK1F/t1oL5mJEEaaVISZAxRLRbCOm61KQqYZR8UCWCtFOkIkiGiGW6sVSqTu6U\n",
       "0jy73dyi5o6bVBWM7uUoSgRpp0hFkAwRixRM36KTO6WUn5dHqbnhJlUFo8c5ivYmUKR5EAuC5IhI\n",
       "N8V+cFoo6Wl2s6CParotFIySD6xb4hRpFkmQHBE/w3oAnBZKOsyICt8KNbeFglHygXU0TpERCBcE\n",
       "yRGxX97ErRZaOgRifAIAtw8Jo+QD63CMIiMXeEmQDBGhjLuuCi4LLT3G2n/l1d3lQ8Ao+cA6FafI\n",
       "CCgKguSIWJmHoAEuCy3dxv/wAjgL0MGHgFHygXUiRpGRIglSIOJu2JrAneYsK+kSX+hhdsRtoWGU\n",
       "fGCdiFFkpEiCFDtkk/hjwGqhpRfYe7aeD90WGkbJB9apGEWac6wIMsvRMqi0ErjTsNDSj7m7yfvg\n",
       "ttAwSj6wzsYp0kwVgiAlImZ+mE7izmhG5dITXLDuH3BbaBglH1iH4hRp5jtBkBIRc+cSudP8P1VK\n",
       "R/n7t81OFgpGyQfWe3GKNPKjJEiFiAcSudM8RaT0N7HPax0sNIySD6xEkMFix0vUgJs7Ey5Ik91a\n",
       "MB8DnCDtFKnKWFruNP8D7s6C+RgTBHmp4xe30nKnLB9Ctxbkg/nZ6aJIdRiGabnTGkAqH8wPEaSV\n",
       "ImVZk5o75ZYOu7VgPrC+Bptvv822m5p3AAAAAElFTkSuQmCC\n",
       "\" style=\"display:inline;vertical-align:middle;\" /></a></span>"
      ],
      "text/plain": [
       "|- (C in {B, C, D}) =  \\\\ ((C = B) or (C = C) or (C = D))"
      ]
     },
     "metadata": {},
     "output_type": "display_data"
    }
   ],
   "source": [
    "# With variables\n",
    "Set(B,C,D).membership_object(C).definition()"
   ]
  },
  {
   "cell_type": "code",
   "execution_count": 167,
   "metadata": {},
   "outputs": [
    {
     "data": {
      "text/html": [
       "<span style=\"font-size:20px;\"> <a class=\"ProveItLink\" href=\"../__pv_it/demonstrations/643d86535a864703630e549ea6d8ac07891844580/proof.ipynb\" style=\"text-decoration: none\">&nbsp;&#x22A2;&nbsp;&nbsp;</a><a class=\"ProveItLink\" href=\"../__pv_it/demonstrations/4f5f38c159485e7b8e9380c0ab696f3b6ec78d880/expr.ipynb\"><img src=\"data:image/png;base64,iVBORw0KGgoAAAANSUhEUgAAASIAAAAuBAMAAAB+JQlKAAAAMFBMVEX///8AAAAAAAAAAAAAAAAA\n",
       "AAAAAAAAAAAAAAAAAAAAAAAAAAAAAAAAAAAAAAAAAAAv3aB7AAAAD3RSTlMAInZUiRDNmWbv3US7\n",
       "qzJazP2FAAAACXBIWXMAAA7EAAAOxAGVKw4bAAAEyklEQVRYw+2YTWgTQRTHX77bxMYcxIMojZ4q\n",
       "CEaoih40Fw+KweBF/MIqCAUFK4goKhQPehH8gIJawUBRxCoUQbBeTCsKFqNe7EEbLV4EUdJWqfWj\n",
       "6rw3M7uz3d1kgnPw4MAMs/vmT97Om3kzvwBACnzK9j6oWQLLsE2ByRLM+Bn25TXknx6x5o5Rj1pZ\n",
       "XXKpVB66MsOwFh0687tc3j8qX20ulTvn8O6S36WREs5NCZ3vNOhQpA3bSfyNGZYN1DI/m37JWbuQ\n",
       "h5U3xAOTNHyWw/Ya9CiGn5f4wpotXh4FJpj1q3B+iE1WbJw/JJkBjsphpw161IhN+AeGhM/D0M3r\n",
       "ikcNbH4aJviLaBc6f07MF07cg04xrDFvzqMV9FtjEIQk9hJ78o45ahpj1vP8xSbcA8kO/jCLGaA5\n",
       "K4ZFDS6kQ9jMLsI9/jg374xaYxEir/jKDnyn0IllziQAlRdiWPiFOY/asXlwe0Qsj9225TA2lcFF\n",
       "w+L7wxOqrpJmzVk2R4spuLg/Yjep/K1zPRSP0UCBP7bZue8itktTELrIX8THVd1SnKu3LIc2YyxD\n",
       "58zNUTc2BwCygPFKXmYfeYscGqaM/YT85XtgjKImdM+x+YYvhplLyTHDHv1kB0EEwxApWob3mIxh\n",
       "GmOT5nNEv7pGmH9irKYwmPuUHWiiYNQSuEKCtKYLtgWTcXJKxAZkJsoq6WhrUab2UMHcOhrEz8Tc\n",
       "soAeFzkzZJB5kZzkscJkCeE8jxulo8fYW08ru2hujnIiHolungUzDo+iLBr97IjYhSt+bSck1ok+\n",
       "y2Bwv8NKErGsOY8+AOw8MF0eucp3WWTkruJR0/Pp8vBD9Pka2o6Xj4k+Gp4etNNWvM+cR/FR53Ni\n",
       "o+MUkWW5T18Mm2fwXGvo8LM4PMr69MWwIybvRwN+hsXqnSXt3RepPVA06dEOP0OzcrkMgnef+YcZ\n",
       "fZbRa20g7Wc4kdFQ53DQQvhf/pd/rqQ0EDCl8ca54qFeBUkCkiCDtXbVHW3ulKk/Xa+CJCRrrUaR\n",
       "kiBdiOivEJjZok2qFoyipIUTpD9FWgRJiPgSm3fVuVNiZjSvrZAwihJWkSD9KdIiSELEk9g8q86d\n",
       "EjP5eamjsGAUJaw2elCkehALgiREjKOLbVBVYWFmF2gqbBhFSRcR5AyKVIskSELEMFucsQxUVViY\n",
       "Sdilo7BhtJ1o7ZCbIh0QLgiSEBG/Nu7FnUqULczMgZ5CgdEc3WnbXRTpuMBLgiREhDfyIu6rsDHz\n",
       "FOgpFBg9RbIeN0U6QFEQJEfETwDXvLhTuZJamLkK9BQKjK4iWbeLIh1FEiRHxGgq1OHBnWqULcys\n",
       "gJ5CgdEK1W4XRTqKJEiOiKFsNOXBneocWZjZD3oKBUb7qfa4KFKNsUWQIT7bhY9e3KkobMxcDXoK\n",
       "BUZXUx10U6SaKgRBSkRsee3Jnc6MipjJzh/QUygweoZqzk2Rar4TBCkRcVubJ3eq/6dyzBTbXUdh\n",
       "wyjPRB/cFKnkR0mQEhFjGU/uVE8RjpkAvaCnUGC0lyoS5EyK9CjzqnOnx22nUK+CJKyK461WOaLL\n",
       "nY7/gOtSWIf+QDWKtNwv6nKnLPOhXgVJ5guC3FFrsAsRayoGoF6FNTdIkL4UKctCbe6UWzpVr4Ik\n",
       "rP4BVEDSt20l3x0AAAAASUVORK5CYII=\n",
       "\" style=\"display:inline;vertical-align:middle;\" /></a></span>"
      ],
      "text/plain": [
       "|- (E in {B, C, D}) =  \\\\ ((E = B) or (E = C) or (E = D))"
      ]
     },
     "metadata": {},
     "output_type": "display_data"
    }
   ],
   "source": [
    "Set(B,C,D).membership_object(E).definition()"
   ]
  },
  {
   "cell_type": "code",
   "execution_count": 168,
   "metadata": {},
   "outputs": [
    {
     "data": {
      "text/html": [
       "<span style=\"font-size:20px;\"> <a class=\"ProveItLink\" href=\"../__pv_it/demonstrations/1beb9c1fd3b941172dd8b811d773f6d350ad782f0/proof.ipynb\" style=\"text-decoration: none\">&nbsp;&#x22A2;&nbsp;&nbsp;</a><a class=\"ProveItLink\" href=\"../__pv_it/demonstrations/45f268023a92e978305b1c7a6fe6458346bb89950/expr.ipynb\"><img src=\"data:image/png;base64,iVBORw0KGgoAAAANSUhEUgAAAPwAAAAuBAMAAAD+c2lwAAAAMFBMVEX///8AAAAAAAAAAAAAAAAA\n",
       "AAAAAAAAAAAAAAAAAAAAAAAAAAAAAAAAAAAAAAAAAAAv3aB7AAAAD3RSTlMAInZUiRDNmWbv3US7\n",
       "qzJazP2FAAAACXBIWXMAAA7EAAAOxAGVKw4bAAAENklEQVRYw+2YXUgUURTHz+yn++E6lRREkBWB\n",
       "PYT7IEK+6EMUROLSQ1EZbUUgROTDohIFSw/pQ4EvQSThgPSBZSxBhD2tQi9FJUT1kIZEEEgfhhg9\n",
       "td17ztzdvXdmZMz76AF3j2f+M/+5HzP3/hYATHCL4wXwig38DAP0RCDtWj2X8TwjNcOOJRr02DcD\n",
       "1O9/qVbbuPu8uIVNva8pMfZeYr2SnGZpoxb3cBbCPdCmdsEBduTDBdveKEInjcURCC4ChCyWRjI6\n",
       "7KN5CCzCyazTHqDJdqg1ITaEWVM6/Nu2r+nRYR9jwzgMdWQfeDF218U+tgS1vzCbKICwhxs67Fto\n",
       "qPP8M3E64956C2r/2geCf4R9tw77HPrex3xjxr3zWcQX7ORZXth36LDnbUjt/oT5qUq5V7H/aT9n\n",
       "n2fn2BjhRLiKU2cMY/p/7Uep83HmV+afcVOxHxcJn/nGIs/26Gj9sJhcrBNusXY8RPf3Bdk+Wiyf\n",
       "MMKKJ87wDtFkn5qDJG9PuOLx9blsf93+/gHwhnXUPn53EzrsWefXLZE9WJXyK8k+2A7rMClluH2Q\n",
       "9xW06hj7Kdbz09T5sN3ltYN38AVgJ2a3sfNDOPWu6Wg9e3xq8vZzH0nL9p0m8JccGPf6+izMBque\n",
       "+5wO+3n297SPlpzwzJNq+9mR83kYY42Ol0qlLGaJPr7kkP0DHfbxuap/Egelly4Oe8aZob1h6bD3\n",
       "WDnK9iFwySxaq3TEpGt1l0gOgTOL8vfTFj3bjS7X6lYxCyubmkp2NO952ysOw3XXZFxOe55R/5av\n",
       "zSasxVqsLkzwQg1XmvDmi5Voy6TCMSPgOc2dNLEDdGgfC32zJ2ogZqg0wdZeYg05EET8abEUyBOp\n",
       "MMzwQA3CDKKJd7jP4x+HBWvIl0QQ8ael0lkiFf7q9kANXO9pTbjCPxC0+gVrSEEg4k9LpQFab2Iq\n",
       "aij2RBNx3kI8PiRYQ4YVAhFfWirF6NotCmo47JEmQmxgonxwglnBGnLrCUR8aakUyeO1cwpqOOyR\n",
       "Jnhr4rjYtQvWcGwcFnxrEVWm8drdMmpIW0e0R5qAT/ZOEG8aWUPdZnIQ8dZeROl4BVVqsnjtUQU1\n",
       "HK0nmvgOcAfbmBasoca4fy0vBYdQPyyjhtOeaCJiBnFaxwpl1lBAvehfy0upBdQPy6jhtJ+w3yAR\n",
       "U1zSZg05EER8aamUGEL9qIwazrFvpZOsbyA6lFhD1hKIeGurxt5GFQuvPaWghqP1Nk00fsSvZINg\n",
       "DTkQRPxpqVRTxGt3KKhRHZ1mhSaO0UuJPy+DzmcZQcSnlkr4VOYQM6pRoyoQMwRNRGkEU5ZgDfmh\n",
       "RxDxp6VSvICkwjFDQg21XQpNPAI92s2k58vEcj9SqTQxAHq0/bZ+cvk9u0oTSVOL1ija+i5P1HCF\n",
       "oKrfIFajxTubtDHD8PyB1kkT60GHdhvp/wG/0ntzsbWXeQAAAABJRU5ErkJggg==\n",
       "\" style=\"display:inline;vertical-align:middle;\" /></a></span>"
      ],
      "text/plain": [
       "|- (3 in {1, 2, 3}) =  \\\\ ((3 = 1) or (3 = 2) or (3 = 3))"
      ]
     },
     "metadata": {},
     "output_type": "display_data"
    }
   ],
   "source": [
    "# Works easily with literals\n",
    "Set(one, two, three).membership_object(three).definition()"
   ]
  },
  {
   "cell_type": "code",
   "execution_count": 169,
   "metadata": {},
   "outputs": [
    {
     "data": {
      "text/html": [
       "<span style=\"font-size:20px;\"> <a class=\"ProveItLink\" href=\"../__pv_it/demonstrations/9c84be45fa9d936ffdd9a7913fa367b28e517ec20/proof.ipynb\" style=\"text-decoration: none\">&nbsp;&#x22A2;&nbsp;&nbsp;</a><a class=\"ProveItLink\" href=\"../__pv_it/demonstrations/02fc4f97782427107691ea5c16fe3f76f68ba6350/expr.ipynb\"><img src=\"data:image/png;base64,iVBORw0KGgoAAAANSUhEUgAAAPwAAAAuBAMAAAD+c2lwAAAAMFBMVEX///8AAAAAAAAAAAAAAAAA\n",
       "AAAAAAAAAAAAAAAAAAAAAAAAAAAAAAAAAAAAAAAAAAAv3aB7AAAAD3RSTlMAInZUiRDNmWbv3US7\n",
       "qzJazP2FAAAACXBIWXMAAA7EAAAOxAGVKw4bAAAEQUlEQVRYw+2YTWgTQRTH3zZfTdLG9QMVEbSK\n",
       "oF7MQQp6sQfxIJYGD4pfEBWhIKKHYIsoRA/Vg0IvgliKgaJCtRIEDxWEtOBFUIufB42KCJXiR6Uo\n",
       "Cmqc995skp2dldXOsXOYvEz+O/+d2dmZ9wsA2KAru4rgV+biFRaYKQ1pbevBjO8VqZfit+RSM/Zr\n",
       "sRpXWzeg+4RzCwuOPuDA2nhczErTmAhXGnGPZLEeUps3i1+eH5b2Vgk6+Flsh9AUQLggwmjGhH0s\n",
       "j1OtswdYIx2abYj3UrQmHfkm7RuPmLCPY/X+kHzi9wavaOzjX6H5C0XDRXDs4bwJ+1as2tg+uS+j\n",
       "H30Bmn/LH0LfHftOE/Y5HLTN9vMz+skXJTEpg9t5x77dhD2OYSGw/d5a81HF/rN8z96W34jbpYXQ\n",
       "Q0tnkMrY/9oP4NxL+2y11bqg2FfXJq58awqjdSZG3yfWsM32qYtiHNfJ/VnRbR8rVS+4JBr37McJ\n",
       "MWQ/B9g+UvMYv+u2Pyc/PwE8FLvkJry7YRP2YvLvlMs/nmBcqDXfd9mH2mA2BZUM2oe+YrzexLMf\n",
       "pbqf6mWabYfu4B3ACor6afLDtPTOmhg9vz4/qY6m3fYdNuAmB9bVrq4CRWfq3vucCfsJrI5XHtHD\n",
       "f3mr3r586VAeBsWgE5VKJUtRsguPHLa/ZsI+8abuS3KLa9Olx57xRmRvFUzY+5wcVfswaKKCc1ZN\n",
       "v4xoW1c5wVbwRjHcnxabSTd2a1uXOKuwltTUoh1539v+52JpsybrRNr3inmP6ZiCmTJTplds8EMN\n",
       "LU3488W/aKukgpjR4LvMvTSxHExobzr6tb6oQZih0oQ4e0Vi4tkqCUSCaQlVGvJMKogZetRgzGCa\n",
       "eEp5Hlbb6KBQz3cGkWBaRpUDTCq4dfugBp33fCacwopAqxur1WqXDCLBtIwqp/m8iauoodgzTSRw\n",
       "hDRHmGmketQuJYgE0jKqxLnvVgU1PPZEE2GxNmO4PkPYbzjqGT2DSCAto0o0T33nFNTw2FM6hKNJ\n",
       "0GGHq6lF0yWBSEAtocoY9d3pRg1X6kj2RBPwSmaCeNNWnrt0p5kIIv7aYyQdqqFKY5b6HlBQwzN6\n",
       "pomPAJdpjGnMO3SjHwquxZUf6iV9nxs1vPZME1E7RMs6LlK9k7ouCUQCajFbTk2Svs+NGl77YbmD\n",
       "RG3ZpUgQNF0SiATSMqoke0k/4EYN77NfzxcVPoCc0GS5/Lq/TdEyiPhr6569RJUC9T2qoIZn9JIm\n",
       "Vr6gjyba1+Oe0ROIBNMyqjSWqO92BTXqS4ddo4mdjL/0vsCskrrpIogE1DKq0FuZI8yoR426Qpjh\n",
       "0ESMD8UU5dgPfymHG4NIMC2jSqJIpIKY4UINdVwKTdwAM9pFrMdj4m9/Uqk0cRrMaLulfuTvObtK\n",
       "E022Ea1VkvrdvqihhaBIyYiW7mxEYobl+wetlybmgAltC+v/AAKTbAvdWD+pAAAAAElFTkSuQmCC\n",
       "\" style=\"display:inline;vertical-align:middle;\" /></a></span>"
      ],
      "text/plain": [
       "|- (4 in {1, 2, 3}) =  \\\\ ((4 = 1) or (4 = 2) or (4 = 3))"
      ]
     },
     "metadata": {},
     "output_type": "display_data"
    }
   ],
   "source": [
    "# Works easily with literals\n",
    "Set(one, two, three).membership_object(four).definition()"
   ]
  },
  {
   "cell_type": "code",
   "execution_count": 170,
   "metadata": {},
   "outputs": [
    {
     "data": {
      "text/html": [
       "<span style=\"font-size:20px;\"> <a class=\"ProveItLink\" href=\"../__pv_it/demonstrations/2e8046679c142bc3bf6a5dbda274e18e9d3fb0cc0/proof.ipynb\" style=\"text-decoration: none\">&nbsp;&#x22A2;&nbsp;&nbsp;</a><a class=\"ProveItLink\" href=\"../__pv_it/demonstrations/243af1117ca33ef1abf6a838f74a547f0fb303c30/expr.ipynb\"><img src=\"data:image/png;base64,iVBORw0KGgoAAAANSUhEUgAAAKsAAAAVBAMAAADLBgMvAAAAMFBMVEX///8AAAAAAAAAAAAAAAAA\n",
       "AAAAAAAAAAAAAAAAAAAAAAAAAAAAAAAAAAAAAAAAAAAv3aB7AAAAD3RSTlMAInZUiRDNmWbv3US7\n",
       "qzJazP2FAAAACXBIWXMAAA7EAAAOxAGVKw4bAAACKElEQVQ4y32UMUgjQRSGZ5PdxCQaFwsRG5Oz\n",
       "0kaFw/bSnihuZeMJKgiCiBYictxBrtE2pSjhAuIVohIESyEKNoKciEQFF+0U4UALBUHR994km2T2\n",
       "zU3xZua9f755+2ZmhRC24NpwnjqjBy0nMYSukTrQzYUCU44c/DsEs8Mo2rVYUn9Gc6uGviD1Hs0x\n",
       "bpL2rQ2mwMRnVXd8XaqtUZxtqeE+iJzPOHIkxIQPO4QmeqJ4R+afpDqMiQQ4rBBdHnbJh11A03ni\n",
       "K96TVEdwcjddch5t/GGxEUddn8EvXuSxoO7FSUpiY+OOJtuQWtwg1s4M8VhQz+HYlthmR1cEU10f\n",
       "xhNLarCgnoSuRUjsWCU872E7cFRHB/t9A9tWOX0jLbFVbokF9RrWoIQdrdz1ZQ/bhvc6mFGyioLX\n",
       "FJpsQb0KcFti4yuw6SZRi3kPaxWBEH9QlkdA8EuHBTVgm4TEWgUvenvoYc0pPMyMH2skdFhQQxH2\n",
       "XPflDH25SvjYw9J7C+aUIkIRYq57nU1xtQX1Ac2yZD9xz+ErHVlByao+QTnz2YJ6gGavZEPdtdhB\n",
       "uzyi+1Td5I1rVHcT5qNU3+Pkx/spFfdqtxrr/p5Ol7DRvPpLwaqE/74lat0Nl88XpI7eVHlj/TWP\n",
       "tzJq9f0TtoW+gbpulo0o2AWfYOk/WFTvs5GOmvdm+Goo6m0tldTf2FBb+fSsZZ5hFbRYUhsJdsef\n",
       "kmsMYJ9kFE1aLKg/AFdWlRPJQ22qAAAAAElFTkSuQmCC\n",
       "\" style=\"display:inline;vertical-align:middle;\" /></a></span>"
      ],
      "text/plain": [
       "|- (4 in {1}) = (4 = 1)"
      ]
     },
     "metadata": {},
     "output_type": "display_data"
    }
   ],
   "source": [
    "# Also appears to work OK with single-element sets\n",
    "Set(one).membership_object(four).definition()"
   ]
  },
  {
   "cell_type": "code",
   "execution_count": 171,
   "metadata": {},
   "outputs": [
    {
     "data": {
      "text/html": [
       "<span style=\"font-size:20px;\"> <a class=\"ProveItLink\" href=\"../__pv_it/demonstrations/bd789a38a09f7a00c87123a7327af4050e7501bd0/proof.ipynb\" style=\"text-decoration: none\">&nbsp;&#x22A2;&nbsp;&nbsp;</a><a class=\"ProveItLink\" href=\"../__pv_it/theorems/3d9c008ee1003e9ff75063c9ab3a9f9690dc7e160/expr.ipynb\"><img src=\"data:image/png;base64,iVBORw0KGgoAAAANSUhEUgAAAK8AAAAVBAMAAADC7aNVAAAAMFBMVEX///8AAAAAAAAAAAAAAAAA\n",
       "AAAAAAAAAAAAAAAAAAAAAAAAAAAAAAAAAAAAAAAAAAAv3aB7AAAAD3RSTlMAInZUiRDNmWbv3US7\n",
       "qzJazP2FAAAACXBIWXMAAA7EAAAOxAGVKw4bAAACXElEQVQ4y41VPWgUQRR+l91x759DRTEgrCdo\n",
       "FUghsTSoXKWwCEkQcnIaBMEmiMglGlxNkTKLdqZZCFgcKoeSKkVOS0U4FEHhioDaWEUkbfDNmzlz\n",
       "M/v2cIrdN/u+75v33sybBYAKcENsauOQ9HOYDKQOgo+Ms75TG9oo9wKA1wziZLowwc+wLmf3n1ns\n",
       "4uphEjGZLizhosG63Ng0byYQ0zBkINwL/0t4JYFoDhNGeM7M4X3rOSucC2xuNEwY4ROD88KNICXi\n",
       "A3ZiTmOYMMLv4uvK2LWLdDaOBINq4nQIdS3sdi2qh3snql9+XLBOqeZ04RbO5kc+eRTh9X0eBuQ6\n",
       "EaxieWTSWQpwsSXHSx0TeDDmL0owfW7JtTUH4ev4rGR3S5TqfnrHcP4dV+thI/yRmdslzWOKj2A1\n",
       "+Gp+1hyEr2ELUHyyF57hui+kdfw2PoKcD0/wXZ9D1469PW2AbbhnF1dzEL5GKF8VqNP3lx/Iam8F\n",
       "5T181VCjEDHCQOuaQ3EQvk6ziqBti412w3hkfakJndiqsSwFFH7DlFnjPieGdwCz7W/gklzVPGMf\n",
       "Sd+lzetYkRV9EB9KEdiNrTgIvwxw7ucCvFHHb9wQXoKtUJueLYAHytmbiQr2FaY4CP8FMFN1msov\n",
       "ehuDwvXzDyvazLctgXIM4o5/dtmuseIgPL9ttN4ls6VrfXM0sUuv0rqupuDZ+dRLyG2Ip33hJnfP\n",
       "cDzFkfC3/I2KO5b3S5O6CTOdBKLI/nkUh+CzrLBsN+fxfWleDVkV0WF/EMQheMZnlY9+1sZhaZxg\n",
       "EAfTLzeE/wUIyZ1BWZdtzQAAAABJRU5ErkJggg==\n",
       "\" style=\"display:inline;vertical-align:middle;\" /></a></span>"
      ],
      "text/plain": [
       "|- (x in {y}) = (x = y)"
      ]
     },
     "metadata": {},
     "output_type": "display_data"
    }
   ],
   "source": [
    "# Also works with single-element sets\n",
    "Set(y).membership_object(x).definition()"
   ]
  },
  {
   "cell_type": "markdown",
   "metadata": {},
   "source": [
    "#### `membership_object().conclude()`"
   ]
  },
  {
   "cell_type": "code",
   "execution_count": 172,
   "metadata": {},
   "outputs": [
    {
     "data": {
      "text/html": [
       "<span style=\"font-size:20px;\"> <a class=\"ProveItLink\" href=\"../__pv_it/demonstrations/5b2139dbee9d422b6dc7990b3aee509a2ddec04a0/proof.ipynb\" style=\"text-decoration: none\">&nbsp;&#x22A2;&nbsp;&nbsp;</a><a class=\"ProveItLink\" href=\"../__pv_it/demonstrations/0623c7661f5eecb03140a257cdd80c124e701db20/expr.ipynb\"><img src=\"data:image/png;base64,iVBORw0KGgoAAAANSUhEUgAAAIEAAAAVBAMAAACTeZA2AAAAMFBMVEX///8AAAAAAAAAAAAAAAAA\n",
       "AAAAAAAAAAAAAAAAAAAAAAAAAAAAAAAAAAAAAAAAAAAv3aB7AAAAD3RSTlMAEHa7q2Yiie9Umd0y\n",
       "zUTye3nKAAAACXBIWXMAAA7EAAAOxAGVKw4bAAACDUlEQVQ4y41UyyuEURQ/M5jxmOHLzEJSxmNh\n",
       "oyGz8yxjQWn8B2NhIRujLJSFKVkKG9lRSkrCetRYWMhmRlJsJlaUvB9RGOfce+f7zpVhzuJ83z33\n",
       "d373vO4F+F1st/C/OBb/2Gy8yIEB9pvlcXXBHkdE3yp6QFXQ+RzsbzOjYrC6dKA7MIg/AbFsqIGi\n",
       "jQGdwblNurAJILSnTBrsE/nf8TtJC88uqq3B3xhGfQB3K9KiwVyPqNYzDKcGqisVXSyWZAxhPD/s\n",
       "k1scBvYPVHcDksFJwcCh2Lip0WMIkac8lsMA8u4pwohkGBXYKtGcox9ZTAN4d6WBwVDKsECQ6JIM\n",
       "Uz7TzW0Vo5iScT3V1p8oA4ORM63CGEMDfuOWm9uCDFPR7a8AS6r6ca3UfmpQ6BxDmweYEyYqExzE\n",
       "UCg+GEqJbKOYzof0YTCUTlJvNCT98xAXAySa7jHPcK0StgwTLXhUMVgwlCeatxeqV0q12CnsJVaY\n",
       "eV2ULWaQ/yUNDKbGoYKiXTbk1MCY7LJP74UfvRJJGXsGZjPHoZ3+JigyDOZS5XemM5wClM4aYPtk\n",
       "sGpqkhvH4VrMqpjJykDfufLzdhiMoTsdDB5jrSFmWLCSHcwMb1zLGpgMXC5btanOXFSDLRY0h8ms\n",
       "F19jcPKdSI4M9ihblPO3S5tN2Mz+fr2zBXey62/hTPb3a6Q3l3dyHAv9DeBNhqJprNYoAAAAAElF\n",
       "TkSuQmCC\n",
       "\" style=\"display:inline;vertical-align:middle;\" /></a></span>"
      ],
      "text/plain": [
       "|- C in {B, C, D}"
      ]
     },
     "metadata": {},
     "output_type": "display_data"
    }
   ],
   "source": [
    "Set(B,C,D).membership_object(C).conclude()"
   ]
  },
  {
   "cell_type": "code",
   "execution_count": 173,
   "metadata": {},
   "outputs": [
    {
     "name": "stdout",
     "output_type": "stream",
     "text": [
      "InstantiationFailure: Proof step failed:\n",
      "Attempting to instantiate |- forall_{n in Natural} [forall_{x, y_{1}, y_{2}, ..., y_{n} | (x = y_{1}) or  (x = y_{2}) or  ... or  (x = y_{n})} (x in {y_{1}, y_{2}, ..., y_{n}})] with {n: 3, x: A, y: (B, C, D)}:\n",
      "Unsatisfied condition: (A = B) or (A = C) or (A = D). For debugging purposes, this is accessible via Instantiation.unsatisfied_condition with applicable assumptions in Instantiation.condition_assumptions.\n"
     ]
    }
   ],
   "source": [
    "# Will fail to conclude without suffient info. In particular, needs to\n",
    "# know the element in question is equal to one of the set elements\n",
    "try:\n",
    "    Set(B,C,D).membership_object(A).conclude()\n",
    "    assert False, \"Should not make it to this point.\"\n",
    "except InstantiationFailure as the_error:\n",
    "    print(\"InstantiationFailure: {}\".format(the_error))"
   ]
  },
  {
   "cell_type": "code",
   "execution_count": 174,
   "metadata": {},
   "outputs": [
    {
     "data": {
      "text/html": [
       "<span style=\"font-size:20px;\"> <a class=\"ProveItLink\" href=\"../__pv_it/demonstrations/56e40e56cea09c54fef40a376d239607b441294f0/proof.ipynb\" style=\"text-decoration: none\">&nbsp;&#x22A2;&nbsp;&nbsp;</a><a class=\"ProveItLink\" href=\"../__pv_it/demonstrations/e9db53a8325ae11f0c9de1b13afff81370c884a10/expr.ipynb\"><img src=\"data:image/png;base64,iVBORw0KGgoAAAANSUhEUgAAAGgAAAAVBAMAAABYjraNAAAAMFBMVEX///8AAAAAAAAAAAAAAAAA\n",
       "AAAAAAAAAAAAAAAAAAAAAAAAAAAAAAAAAAAAAAAAAAAv3aB7AAAAD3RSTlMAIomZu0QQVHbN72bd\n",
       "Mqv0UZE7AAAACXBIWXMAAA7EAAAOxAGVKw4bAAABtklEQVQ4y2NgwALYQhlwAnEBHBKdYbg18T5J\n",
       "AJJCyq5o4uzfQOSdBAiP0XjKBShLySSAgYHlAdApBgz1BaiamA4AhR/Ph2oSYWD6CmElM7B/h8hy\n",
       "fGfIn4CpiYGhH6rpIQPDKgirv4DtJ0SWdSkDP0QTh8+Zk1g0rU9geA/xfFQAw0+YLEP9BhDJOiMB\n",
       "q01vGBjeX4D59jdMlvU0WEAyAbvzgOA8jBGzASrL2/cWLDARroZ5Aqom3h9Qxo13QCs5FkCcBw49\n",
       "RGhIbUDVxPMAHhnA0GP8DmZygeKFd82ZM2eOgLhyUxlQNZkgAhYYKgx50xl4LzCwgPSyOcBdY5KA\n",
       "ookbZtFdBgZ/oKM0Axj4v0E0MRyAG8fyAEVTEQMjJMj/J4A0gdIL1wOI8xg6sEQuSB+vAgNHAhtI\n",
       "ZB3YeUzAgODeAI0nzgJUTfoCDKAEwCBjbGwDSTS7EfEUbAxJsGxPwpA1vVs/bwPDGaBV5////8nA\n",
       "cwwUocagBMt0ADnJsaqgJCNwEMNDsAzN8RgAIcwEF1MgpAka50CQAc/LDWjpBQNA4xwI4Eo5ELJZ\n",
       "G7BnaeHnuLO7EFAOAPhqfeyt3KgUAAAAAElFTkSuQmCC\n",
       "\" style=\"display:inline;vertical-align:middle;\" /></a></span>"
      ],
      "text/plain": [
       "|- 3 in {1, 2, 3}"
      ]
     },
     "metadata": {},
     "output_type": "display_data"
    }
   ],
   "source": [
    "# Works easily with literals\n",
    "Set(one, two, three).membership_object(three).conclude()"
   ]
  },
  {
   "cell_type": "code",
   "execution_count": 175,
   "metadata": {},
   "outputs": [
    {
     "name": "stdout",
     "output_type": "stream",
     "text": [
      "InstantiationFailure: Proof step failed:\n",
      "Attempting to instantiate |- forall_{n in Natural} [forall_{x, y_{1}, y_{2}, ..., y_{n} | (x = y_{1}) or  (x = y_{2}) or  ... or  (x = y_{n})} (x in {y_{1}, y_{2}, ..., y_{n}})] with {n: 3, x: 4, y: (1, 2, 3)}:\n",
      "Unsatisfied condition: (4 = 1) or (4 = 2) or (4 = 3). For debugging purposes, this is accessible via Instantiation.unsatisfied_condition with applicable assumptions in Instantiation.condition_assumptions.\n"
     ]
    }
   ],
   "source": [
    "# Will fail as it should when trying to conclude a false membership claim\n",
    "try:\n",
    "    Set(one, two, three).membership_object(four).conclude()\n",
    "    assert False, \"Should not make it to this point.\"\n",
    "except InstantiationFailure as the_error:\n",
    "    print(\"InstantiationFailure: {}\".format(the_error))"
   ]
  },
  {
   "cell_type": "code",
   "execution_count": 176,
   "metadata": {},
   "outputs": [
    {
     "data": {
      "text/html": [
       "<strong id=\"temp_test_mem\">temp_test_mem:</strong> <a class=\"ProveItLink\" href=\"../__pv_it/demonstrations/5e2d646b4563085ee6136c635607c316e6f711e00/expr.ipynb\"><img src=\"data:image/png;base64,iVBORw0KGgoAAAANSUhEUgAAAIwAAAAVBAMAAABmhxuGAAAAMFBMVEX///8AAAAAAAAAAAAAAAAA\n",
       "AAAAAAAAAAAAAAAAAAAAAAAAAAAAAAAAAAAAAAAAAAAv3aB7AAAAD3RSTlMAIomZu0QQVHbN72bd\n",
       "Mqv0UZE7AAAACXBIWXMAAA7EAAAOxAGVKw4bAAABuUlEQVQ4y2NgwAZSAxiIB+ICOCQ4piaQYAzv\n",
       "E5BqIWVXdIl6kPgduFF30A3lPQZlMCqZAN3N8oCBgc2Aob4ATZkOUPjxfKhmBAsG8iy/QVnJDOzf\n",
       "GRiYDgA98J0hfwKmMQwM/XDNcFY0zNMwY/oL2H5CjGFdysAPMYbD58xJ/MZUoBsTFcAANQYUFBtA\n",
       "JOuMBEKuwTCGgYH9N8wY1tNgAckEBjKMidkANYa37y1YYCIibCyJNubGuwtA7gKIp8AxhQhnxtUk\n",
       "eAoYU4zfwUwukCjvmjNnzhwBm/IyAJsxNmfOrDpz5hyaMQzrgZJ50xl4LzCwgExjc4DLXHYj1jV3\n",
       "GRj8gV7RDGDg/wYxhuEAwgY/Yo35nwAyhh3I5XoA8RRDB5bkl4DbGDYQYx3YU0zAIObeAE03nAWo\n",
       "xugLMICSKISFagzTRwZI0t+NSDfBxpCsyfYkDNmYd+vnbWA4kwBjIRvD9+rnawYeUPZkNQZlTaYD\n",
       "yDmJVQUlM4CjEzVTViBzyuAsVGPQwgasAFU8GpmjQNCYLhgjA3dhxdYAZzJPwK5EHhbaDbiN4UAw\n",
       "szZgV8JoV0BCISr0nIEBAJUlj7gZO4afAAAAAElFTkSuQmCC\n",
       "\" style=\"display:inline;vertical-align:middle;\" /></a><br>"
      ],
      "text/plain": [
       "<IPython.core.display.HTML object>"
      ]
     },
     "metadata": {},
     "output_type": "display_data"
    }
   ],
   "source": [
    "# Notice that the conclude() method will not automatically\n",
    "# simplify expressions within the list:\n",
    "temp_test_set = Set(one, Add(one, one), three)\n",
    "temp_test_mem = temp_test_set.membership_object(three).expr"
   ]
  },
  {
   "cell_type": "code",
   "execution_count": 177,
   "metadata": {},
   "outputs": [
    {
     "data": {
      "text/html": [
       "<span style=\"font-size:20px;\"> <a class=\"ProveItLink\" href=\"../__pv_it/demonstrations/e13f96e3acd88e397187b9c1d60984da3d686de60/proof.ipynb\" style=\"text-decoration: none\">&nbsp;&#x22A2;&nbsp;&nbsp;</a><a class=\"ProveItLink\" href=\"../__pv_it/demonstrations/5e2d646b4563085ee6136c635607c316e6f711e00/expr.ipynb\"><img src=\"data:image/png;base64,iVBORw0KGgoAAAANSUhEUgAAAIwAAAAVBAMAAABmhxuGAAAAMFBMVEX///8AAAAAAAAAAAAAAAAA\n",
       "AAAAAAAAAAAAAAAAAAAAAAAAAAAAAAAAAAAAAAAAAAAv3aB7AAAAD3RSTlMAIomZu0QQVHbN72bd\n",
       "Mqv0UZE7AAAACXBIWXMAAA7EAAAOxAGVKw4bAAABuUlEQVQ4y2NgwAZSAxiIB+ICOCQ4piaQYAzv\n",
       "E5BqIWVXdIl6kPgduFF30A3lPQZlMCqZAN3N8oCBgc2Aob4ATZkOUPjxfKhmBAsG8iy/QVnJDOzf\n",
       "GRiYDgA98J0hfwKmMQwM/XDNcFY0zNMwY/oL2H5CjGFdysAPMYbD58xJ/MZUoBsTFcAANQYUFBtA\n",
       "JOuMBEKuwTCGgYH9N8wY1tNgAckEBjKMidkANYa37y1YYCIibCyJNubGuwtA7gKIp8AxhQhnxtUk\n",
       "eAoYU4zfwUwukCjvmjNnzhwBm/IyAJsxNmfOrDpz5hyaMQzrgZJ50xl4LzCwgExjc4DLXHYj1jV3\n",
       "GRj8gV7RDGDg/wYxhuEAwgY/Yo35nwAyhh3I5XoA8RRDB5bkl4DbGDYQYx3YU0zAIObeAE03nAWo\n",
       "xugLMICSKISFagzTRwZI0t+NSDfBxpCsyfYkDNmYd+vnbWA4kwBjIRvD9+rnawYeUPZkNQZlTaYD\n",
       "yDmJVQUlM4CjEzVTViBzyuAsVGPQwgasAFU8GpmjQNCYLhgjA3dhxdYAZzJPwK5EHhbaDbiN4UAw\n",
       "szZgV8JoV0BCISr0nIEBAJUlj7gZO4afAAAAAElFTkSuQmCC\n",
       "\" style=\"display:inline;vertical-align:middle;\" /></a></span>"
      ],
      "text/plain": [
       "|- 3 in {1, 1 + 1, 3}"
      ]
     },
     "metadata": {},
     "output_type": "display_data"
    }
   ],
   "source": [
    "temp_test_mem.conclude()"
   ]
  },
  {
   "cell_type": "code",
   "execution_count": 178,
   "metadata": {},
   "outputs": [
    {
     "data": {
      "text/html": [
       "<strong id=\"temp_test_mem_02\">temp_test_mem_02:</strong> <a class=\"ProveItLink\" href=\"../__pv_it/demonstrations/0afbfa9cefec29a96fb62e081d42961b03a743400/expr.ipynb\"><img src=\"data:image/png;base64,iVBORw0KGgoAAAANSUhEUgAAAIsAAAAVBAMAAACEWwD/AAAAMFBMVEX///8AAAAAAAAAAAAAAAAA\n",
       "AAAAAAAAAAAAAAAAAAAAAAAAAAAAAAAAAAAAAAAAAAAv3aB7AAAAD3RSTlMAIpnNuzKJRKvvEN12\n",
       "ZlQ4bmvwAAAACXBIWXMAAA7EAAAOxAGVKw4bAAABwUlEQVQ4y2NgwAK4yhmIB4wPcckcriLBGIYI\n",
       "L5BhSiYBaOJ8v4AE6y4YF8GCgegFUIZYkjuQ9ABiEQa272iq2DYwMKxQ/gXlIVgwLzfZQ43hUmB4\n",
       "/4CBIRvIbGRgmInFGAYeuGY4i/0ClHEeagzPP4b1BhBj5i9g6BcACx7ZvdsArzF8B9CMYZ/OwA81\n",
       "ppuBoR8cOMWnCLkGwxggeH8BYgwQ7AfHmxUDGcaw72WAGcP6B0QyC8CNYTIg1hjWE61A8iSYzd0A\n",
       "NgYRxJIXSPAUMKbkH4BYKmB+5G4gcACxJMwZsBjDtHv3ztm7dzegGcMJlORqBprDC5ZhWAKXYVVZ\n",
       "QKRrWAMYWP4BwxJk7zMGRlCwcCM8xdJApDH8v8DGvAdyWRMYeMC2H8CMKS48xoD0cDaAPZUJZEor\n",
       "KWmD5exQjWH7yABOohAWqjH5Agxcn4E07wV4utn///9nSN5xX4BkDEfn514GblCmBLNQjOmYb3GB\n",
       "YTdIdZGSOzzdwECZN3JmAINXqDn/ADIHEVvZ2AsQhDEJKOLwrAlWxEDIGJ4JsCLhAO7Cag2CqYyj\n",
       "WPwHMw9PmYewgWsuDiVCfaSUxRnANAwA0rCXXpwK8VYAAAAASUVORK5CYII=\n",
       "\" style=\"display:inline;vertical-align:middle;\" /></a><br>"
      ],
      "text/plain": [
       "<IPython.core.display.HTML object>"
      ]
     },
     "metadata": {},
     "output_type": "display_data"
    }
   ],
   "source": [
    "# Notice that the conclude() method will not automatically\n",
    "# simplify expressions within the list, but can still check for equality\n",
    "# (Here, 2 = 1+1, and thus the value 2 is indeed in the list)\n",
    "temp_test_set_02 = Set(one, Add(one, one), three)\n",
    "temp_test_mem_02 = temp_test_set.membership_object(two).expr"
   ]
  },
  {
   "cell_type": "code",
   "execution_count": 179,
   "metadata": {},
   "outputs": [
    {
     "data": {
      "text/html": [
       "<span style=\"font-size:20px;\"> <a class=\"ProveItLink\" href=\"../__pv_it/demonstrations/60aaddffc3a00ebc777e9f4025bf3c8f657a5f070/proof.ipynb\" style=\"text-decoration: none\">&nbsp;&#x22A2;&nbsp;&nbsp;</a><a class=\"ProveItLink\" href=\"../__pv_it/demonstrations/0afbfa9cefec29a96fb62e081d42961b03a743400/expr.ipynb\"><img src=\"data:image/png;base64,iVBORw0KGgoAAAANSUhEUgAAAIsAAAAVBAMAAACEWwD/AAAAMFBMVEX///8AAAAAAAAAAAAAAAAA\n",
       "AAAAAAAAAAAAAAAAAAAAAAAAAAAAAAAAAAAAAAAAAAAv3aB7AAAAD3RSTlMAIpnNuzKJRKvvEN12\n",
       "ZlQ4bmvwAAAACXBIWXMAAA7EAAAOxAGVKw4bAAABwUlEQVQ4y2NgwAK4yhmIB4wPcckcriLBGIYI\n",
       "L5BhSiYBaOJ8v4AE6y4YF8GCgegFUIZYkjuQ9ABiEQa272iq2DYwMKxQ/gXlIVgwLzfZQ43hUmB4\n",
       "/4CBIRvIbGRgmInFGAYeuGY4i/0ClHEeagzPP4b1BhBj5i9g6BcACx7ZvdsArzF8B9CMYZ/OwA81\n",
       "ppuBoR8cOMWnCLkGwxggeH8BYgwQ7AfHmxUDGcaw72WAGcP6B0QyC8CNYTIg1hjWE61A8iSYzd0A\n",
       "NgYRxJIXSPAUMKbkH4BYKmB+5G4gcACxJMwZsBjDtHv3ztm7dzegGcMJlORqBprDC5ZhWAKXYVVZ\n",
       "QKRrWAMYWP4BwxJk7zMGRlCwcCM8xdJApDH8v8DGvAdyWRMYeMC2H8CMKS48xoD0cDaAPZUJZEor\n",
       "KWmD5exQjWH7yABOohAWqjH5Agxcn4E07wV4utn///9nSN5xX4BkDEfn514GblCmBLNQjOmYb3GB\n",
       "YTdIdZGSOzzdwECZN3JmAINXqDn/ADIHEVvZ2AsQhDEJKOLwrAlWxEDIGJ4JsCLhAO7Cag2CqYyj\n",
       "WPwHMw9PmYewgWsuDiVCfaSUxRnANAwA0rCXXpwK8VYAAAAASUVORK5CYII=\n",
       "\" style=\"display:inline;vertical-align:middle;\" /></a></span>"
      ],
      "text/plain": [
       "|- 2 in {1, 1 + 1, 3}"
      ]
     },
     "metadata": {},
     "output_type": "display_data"
    }
   ],
   "source": [
    "temp_test_mem_02.conclude()"
   ]
  },
  {
   "cell_type": "markdown",
   "metadata": {},
   "source": [
    "#### `membership_object().unfold()`"
   ]
  },
  {
   "cell_type": "code",
   "execution_count": 180,
   "metadata": {},
   "outputs": [
    {
     "data": {
      "text/html": [
       "<span style=\"font-size:20px;\"> <a class=\"ProveItLink\" href=\"../__pv_it/demonstrations/533726ca9650edfdbcf9514a26db32d0f598f8a80/proof.ipynb\" style=\"text-decoration: none\">&nbsp;&#x22A2;&nbsp;&nbsp;</a><a class=\"ProveItLink\" href=\"../__pv_it/demonstrations/34a80f8a77aae89465fe73e8ff4d8be6b84458ad0/expr.ipynb\"><img src=\"data:image/png;base64,iVBORw0KGgoAAAANSUhEUgAAAREAAAAVBAMAAACTXMcfAAAAMFBMVEX///8AAAAAAAAAAAAAAAAA\n",
       "AAAAAAAAAAAAAAAAAAAAAAAAAAAAAAAAAAAAAAAAAAAv3aB7AAAAD3RSTlMAInZUiRDNmWbv3US7\n",
       "qzJazP2FAAAACXBIWXMAAA7EAAAOxAGVKw4bAAACzklEQVRIx5WWP2gTURzHv/nT5JIm5w3iIIKx\n",
       "UwfBDMWigwbEUQxuikMcBAeHiB0UHYKDLi3+AUHQIVAU0aW41cVYQVCMzWIHNRocRUlboVax1t/v\n",
       "9y45vMu9lzu4d+997/e573u/9ycB4EB/OUMo/10xRCXU+3jREPXEL5iI0UJUQnlMcHGs2a5t9b+e\n",
       "3my3z3YQr/n0cMJVxzE0sXuz+bHpiMdIhft8q4zJh4Hv3gPyf4HTXM+XqbB5tBrCVVMci3dcfIGe\n",
       "wBpg/RCPNPfmdYcqK4H5XqVM/wSuccPiTuQoTkP0VKvKrStcvIWWgE0euCgeGaqlbvPs3vBHWZQP\n",
       "iyIzMsQ63du4Ek70VX4iy4Op6AnEyQPPauyxl2pHeUHZVX9Ufpk+cJNuWSiH6D7PlXCir57hVpJa\n",
       "6aKeQI48sLPEHlPU8d+S2o4/KtPAyHtSky24+eC8hBOeegRuPrLQEsCWBhXdFntQ95Or/RfpR3KJ\n",
       "NboLY0ucDktSnKddJNszlPDUq1J+AsagJciDP3m9xB6z1PGVwZt8j4PEHXomZHbtFrKyYEIJT90n\n",
       "5XfgPrQEeXCWPs+xx12ahWXJXCDqFU8vRdryHqcwKc9QwlO7agE7iaqeABa5+CUeFJWVqAOBqA1O\n",
       "XKG/4ieoL+53BxOeOi/tRCnl6AngD8/+unjM9nZ5yT+H9rpKHBJ1ZWQ3erkeTHjqfmVT/wY9oY6T\n",
       "4w3xWFAnGJLlwFYn2F7jPqsexGfm5BlKeOq0EsY/QE+o4+Sl8uANd7CG0cOBxKVoUub5pE+X1An6\n",
       "QOnhRF+dUu0TFRORokl7WlUeX9njcvtSICi/uNFeeiHTonKhzjWEE5762N2vRQPBHm/OuR7ZDkzX\n",
       "dt/CNBKxelSCPayqMeqC7+fISKRrUQnxeG4cYcMnGIkdiEqIx0lTVM7/189IBIyH84gVDFG7AgMw\n",
       "EHEnKsEe/wB/gv9kWWmSaQAAAABJRU5ErkJggg==\n",
       "\" style=\"display:inline;vertical-align:middle;\" /></a></span>"
      ],
      "text/plain": [
       "|- (C = B) or (C = C) or (C = D)"
      ]
     },
     "metadata": {},
     "output_type": "display_data"
    }
   ],
   "source": [
    "Set(B,C,D).membership_object(C).unfold()"
   ]
  },
  {
   "cell_type": "code",
   "execution_count": 181,
   "metadata": {},
   "outputs": [
    {
     "data": {
      "text/html": [
       "<span style=\"font-size:20px;\"> <a class=\"ProveItLink\" href=\"../__pv_it/demonstrations/30214d64f1b46f0c35ec08b47c4ef2a03ef081df0/proof.ipynb\" style=\"text-decoration: none\">&nbsp;&#x22A2;&nbsp;&nbsp;</a><a class=\"ProveItLink\" href=\"../__pv_it/demonstrations/544e21b91253e1c9f08334718660144a59ea521f0/expr.ipynb\"><img src=\"data:image/png;base64,iVBORw0KGgoAAAANSUhEUgAAAOsAAAAVBAMAAABVvASPAAAAMFBMVEX///8AAAAAAAAAAAAAAAAA\n",
       "AAAAAAAAAAAAAAAAAAAAAAAAAAAAAAAAAAAAAAAAAAAv3aB7AAAAD3RSTlMAInZUiRDNmWbv3US7\n",
       "qzJazP2FAAAACXBIWXMAAA7EAAAOxAGVKw4bAAACXUlEQVRIx62VP2gUQRTGv73N7t7u/ckqgiAW\n",
       "pyKkEa+QgDZJIVhJtlIQwWsEGzFF8EQsFgtjoXBNqiBZEFGUyGEjsTpthXiNWEjkCFZBTeSIWHnO\n",
       "e3OHcWY3DGGnmH3zzY/3Zt68mQUQIqNZBspeWA5YqGdNl2qqcgx5sK+oOwUcOPdem9uIgAlFs6dh\n",
       "nb3TVtGDN1dNWZYKMeA04MxiStmy8+mGCOtGZH+kbp26C8BF2H3VVQczbUNWSlcBL0ahjysNdQsn\n",
       "hZviLFl3qVul7paQ684vhayE8FuGrJTmAV+cyyLGU8NigayAdsTzLWClDdWVv43KT0NWSn6ESR5O\n",
       "xalhr5E1Jg7Ao0Ow2Z/9W91tgsofQ1ZKbow5rsNnSA17HsPV0y7gTVP/JtZrM9gyZkka6/Iiqye+\n",
       "MPqcW/df2Htsismj9HXJyfpaT2OxWduNvc3oMs+zVGzgsUxyPXW3p9n8DjzhPTGkVadoy+YsSXYL\n",
       "i6OySAu7yaYb2lymvryFS5HKeh1zlqTqFoWt9lDup4ZdGd58Nxy5+gF80DLzEKaslEotSvL4tgyr\n",
       "n+0ZCSffMErcIJKudrLiQdq3G7vjbKVkJ3gnVtbNSvIDaU985k9ZFM6jlMR9BY4bslIqdqjui3HK\n",
       "vZ2hXM1J+5J8TETd475+F62nzWZiyEpJ3K4NMXjd1H4Fa0vXxUpeDEtGnlBVOC81tec9GAwGDUNW\n",
       "SkEbQQ/ZP9Hk//FL5MMeGj336c1TUj+PfFjxm8Db7OnDyrgc5sJadM0vZ7tSV+R0cmF5RVYta7qg\n",
       "LXg/8mCPAH8B6FzbIruMQsMAAAAASUVORK5CYII=\n",
       "\" style=\"display:inline;vertical-align:middle;\" /></a></span>"
      ],
      "text/plain": [
       "|- (3 = 1) or (3 = 2) or (3 = 3)"
      ]
     },
     "metadata": {},
     "output_type": "display_data"
    }
   ],
   "source": [
    "Set(one, two, three).membership_object(three).unfold()"
   ]
  },
  {
   "cell_type": "code",
   "execution_count": 182,
   "metadata": {},
   "outputs": [
    {
     "name": "stdout",
     "output_type": "stream",
     "text": [
      "InstantiationFailure: Proof step failed:\n",
      "Attempting to instantiate |- forall_{n in Natural} [forall_{x, y_{1}, y_{2}, ..., y_{n} | x in {y_{1}, y_{2}, ..., y_{n}}} ((x = y_{1}) or  (x = y_{2}) or  ... or  (x = y_{n}))] with {n: 3, x: 4, y: (1, 2, 3)}:\n",
      "Unsatisfied condition: 4 in {1, 2, 3}. For debugging purposes, this is accessible via Instantiation.unsatisfied_condition with applicable assumptions in Instantiation.condition_assumptions.\n"
     ]
    }
   ],
   "source": [
    "# The unfolding will only work if the membership_object is true:\n",
    "try:\n",
    "    Set(one, two, three).membership_object(four).unfold()\n",
    "    assert False, \"Should not get to this point.\"\n",
    "except InstantiationFailure as the_error:\n",
    "    print(\"InstantiationFailure: {}\".format(the_error))"
   ]
  },
  {
   "cell_type": "markdown",
   "metadata": {},
   "source": [
    "#### `membership_object().derive_in_singleton()`"
   ]
  },
  {
   "cell_type": "code",
   "execution_count": 183,
   "metadata": {},
   "outputs": [
    {
     "data": {
      "text/html": [
       "<span style=\"font-size:20px;\"> <a class=\"ProveItLink\" href=\"../__pv_it/demonstrations/25da2481eb593136e3ca252152baef81d5f069210/proof.ipynb\" style=\"text-decoration: none\">&nbsp;&#x22A2;&nbsp;&nbsp;</a><a class=\"ProveItLink\" href=\"../__pv_it/demonstrations/8a15afea4c6af2a1b0da49bc5cef957c200ebce80/expr.ipynb\"><img src=\"data:image/png;base64,iVBORw0KGgoAAAANSUhEUgAAAHwAAAAVBAMAAAB2y5cfAAAAMFBMVEX///8AAAAAAAAAAAAAAAAA\n",
       "AAAAAAAAAAAAAAAAAAAAAAAAAAAAAAAAAAAAAAAAAAAv3aB7AAAAD3RSTlMAInZUiRDNmWbv3US7\n",
       "qzJazP2FAAAACXBIWXMAAA7EAAAOxAGVKw4bAAABlUlEQVQ4y2NgYBBgwAaiN4ApRkMQiV0JGDAZ\n",
       "YBXNDoAw3h4FEptwazdhYBAvO4cuah8AEz4LMqwBXb5qFQisZWBNYGA8wOC/AU3aiwEm7AXipmKx\n",
       "1whEsDcw8AowcE7A1A4VBmtvx6WdE4i+MvB+hAjprFqVANMOFQZr5wzAod0MaM0CBt5/YJFtqsi2\n",
       "Q4TB2tkacGgvATO5PoBjKRXZ8VBhMIvlAg7tGWDmewWwHYj4LYMLa4IYHAnIwY2kfTGYCRFig+tm\n",
       "nAEXlgelC+YJOGyfDQ7+A2CBlyDDQUzGaxvgwqzXgPr5PuDT3gsRiIFLPT8KF2bJBhLcuGwHOZ7Z\n",
       "gUEQHFIIubNwYVD6Y2BegMPvh4D4CQMDOMaYFFBCHiLsCQ66Azhs9wX6dHl5Odh0hmSURAsRBkcc\n",
       "uwMO7a+Abv7//z8krcWeDkBohwqDtXNtwNS+AyzxAFloyylEokVOQFK48itHAVZhNO0VOPP7Qayi\n",
       "mijpj/EATu0xWEXlYWUQKyj98eAurRgVsIrWQvQz+oJoRVyaAXQVayLQfQOBAAAAAElFTkSuQmCC\n",
       "\" style=\"display:inline;vertical-align:middle;\" /></a></span>"
      ],
      "text/plain": [
       "|- (2 in {2}) = TRUE"
      ]
     },
     "metadata": {},
     "output_type": "display_data"
    }
   ],
   "source": [
    "# The purpose of the derive_in_singleton() method is very mysterious.\n",
    "Set(one, two, three).membership_object(three).derive_in_singleton(Equals(InSet(two, Set(two)), TRUE))"
   ]
  },
  {
   "cell_type": "code",
   "execution_count": 184,
   "metadata": {},
   "outputs": [
    {
     "data": {
      "text/html": [
       "<span style=\"font-size:20px;\"><a class=\"ProveItLink\" href=\"../../../equality/__pv_it/theorems/73829d3be05f2b12292db7642d7f9d4a94d650a00/expr.ipynb\"><img src=\"data:image/png;base64,iVBORw0KGgoAAAANSUhEUgAAADMAAAAUCAMAAAAX1vWWAAAAPFBMVEX///8AAAAAAAAAAAAAAAAA\n",
       "AAAAAAAAAAAAAAAAAAAAAAAAAAAAAAAAAAAAAAAAAAAAAAAAAAAAAAAAAAAo1xBWAAAAE3RSTlMA\n",
       "EHarMolUmd1mIs3vRLvn9enz6YVhIgAAAAlwSFlzAAAOxAAADsQBlSsOGwAAANVJREFUOMudU1kW\n",
       "wyAIZFHQbF1y/7tWTNPWRtNn+UATgWFGBDg1Reg1t3SnwOL6YfgPmKE7ZW7DIBGj816+D8ahDNNo\n",
       "Sy6kAMQEGl4Ch2yXq/kXlgeZ0hJXc4NtEDiewjjZqrLJb3LqWGGjJQOAieDp4HPThLEiqRlwq9u/\n",
       "0jliwed231i9tcvNkHHCZQaeMscS5jBpC+9OVoeacuZSatHjvLJ1lPVWohQR5RdMuhlPurZHQ3z9\n",
       "vx/bY1OBsXCcpJkSKzAh3Qf7NkyoPE+JpPPZwzmd9wfDxQU5d0E62gAAAABJRU5ErkJggg==\n",
       "\" style=\"display:inline;vertical-align:middle;\" /></a> <a class=\"ProveItLink\" href=\"../__pv_it/demonstrations/a2d3e922db297ca939ca56be6b7803dba4f6822b0/proof.ipynb\" style=\"text-decoration: none\">&nbsp;&#x22A2;&nbsp;&nbsp;</a><a class=\"ProveItLink\" href=\"../__pv_it/theorems/807928bae741ce723968f071f8aca1672dd185c10/expr.ipynb\"><img src=\"data:image/png;base64,iVBORw0KGgoAAAANSUhEUgAAAH4AAAAVBAMAAAByPkciAAAAMFBMVEX///8AAAAAAAAAAAAAAAAA\n",
       "AAAAAAAAAAAAAAAAAAAAAAAAAAAAAAAAAAAAAAAAAAAv3aB7AAAAD3RSTlMAInZUiRDNmWbv3US7\n",
       "qzJazP2FAAAACXBIWXMAAA7EAAAOxAGVKw4bAAABt0lEQVQ4y2NgYBBgwAqiN0BoYZA8DjUgwGSA\n",
       "XTg7AMLguwNkbMKt3wS7sH0AjMVzAWhaAxYlO0AEawJ2/V5wFssCIJGKRYkRiGBvIEp/Oy79nKi+\n",
       "PrVqGVb9nAE49Jshi3AnBeCwn60Bh/4SIA7SjXMBx4JYALL7WdUbGGKh+lku4NCfAcQFTJfYQYoY\n",
       "EhGSZUA9zBMY+oF+mgDkcoCDuWoVCKxF1r8YKCfA8ZUX7D5EXDDOYGB4DDT0DpD5GchnnoDD/tnA\n",
       "FMLADtHINwto+hqw9mvA1BfAqcAwCciJTQZKfcCtHxi6CmAB1gNwuedHgcT+AL5/QMoNaBY3LvsX\n",
       "g4j9AqzgkFuAkDwLDgOQ35m/gty/AIf/DzEwxGy4ycACFlFCTT9nwWmXBRx+B3DY7wtM6k8rGTaD\n",
       "RdgMUPTXMuxvgMYfuwMO/a8YGMKVmCsgGlnvbEXWH+tULwDVz7UBTTPQKzNBXuF6gJIAfVDTrxss\n",
       "/Unhyr4cBTjzD0sC62SY/gqc+f8gdmFNoJsVeEG+BiUOxgM49cdgF5Y3YGBuqgaxIoFhyIO7AGNU\n",
       "wC5cC40LkctAQhGXbgB1a2ckHUTc0wAAAABJRU5ErkJggg==\n",
       "\" style=\"display:inline;vertical-align:middle;\" /></a></span>"
      ],
      "text/plain": [
       "{x != y} |- (x in {y}) = FALSE"
      ]
     },
     "metadata": {},
     "output_type": "display_data"
    }
   ],
   "source": [
    "Set(y).membership_object(x).derive_in_singleton(Equals(InSet(x, Set(y)), FALSE), assumptions=[NotEquals(x,y)])"
   ]
  },
  {
   "cell_type": "code",
   "execution_count": 185,
   "metadata": {},
   "outputs": [
    {
     "data": {
      "text/html": [
       "<span style=\"font-size:20px;\"> <a class=\"ProveItLink\" href=\"../__pv_it/demonstrations/25da2481eb593136e3ca252152baef81d5f069210/proof.ipynb\" style=\"text-decoration: none\">&nbsp;&#x22A2;&nbsp;&nbsp;</a><a class=\"ProveItLink\" href=\"../__pv_it/demonstrations/8a15afea4c6af2a1b0da49bc5cef957c200ebce80/expr.ipynb\"><img src=\"data:image/png;base64,iVBORw0KGgoAAAANSUhEUgAAAHwAAAAVBAMAAAB2y5cfAAAAMFBMVEX///8AAAAAAAAAAAAAAAAA\n",
       "AAAAAAAAAAAAAAAAAAAAAAAAAAAAAAAAAAAAAAAAAAAv3aB7AAAAD3RSTlMAInZUiRDNmWbv3US7\n",
       "qzJazP2FAAAACXBIWXMAAA7EAAAOxAGVKw4bAAABlUlEQVQ4y2NgYBBgwAaiN4ApRkMQiV0JGDAZ\n",
       "YBXNDoAw3h4FEptwazdhYBAvO4cuah8AEz4LMqwBXb5qFQisZWBNYGA8wOC/AU3aiwEm7AXipmKx\n",
       "1whEsDcw8AowcE7A1A4VBmtvx6WdE4i+MvB+hAjprFqVANMOFQZr5wzAod0MaM0CBt5/YJFtqsi2\n",
       "Q4TB2tkacGgvATO5PoBjKRXZ8VBhMIvlAg7tGWDmewWwHYj4LYMLa4IYHAnIwY2kfTGYCRFig+tm\n",
       "nAEXlgelC+YJOGyfDQ7+A2CBlyDDQUzGaxvgwqzXgPr5PuDT3gsRiIFLPT8KF2bJBhLcuGwHOZ7Z\n",
       "gUEQHFIIubNwYVD6Y2BegMPvh4D4CQMDOMaYFFBCHiLsCQ66Azhs9wX6dHl5Odh0hmSURAsRBkcc\n",
       "uwMO7a+Abv7//z8krcWeDkBohwqDtXNtwNS+AyzxAFloyylEokVOQFK48itHAVZhNO0VOPP7Qayi\n",
       "mijpj/EATu0xWEXlYWUQKyj98eAurRgVsIrWQvQz+oJoRVyaAXQVayLQfQOBAAAAAElFTkSuQmCC\n",
       "\" style=\"display:inline;vertical-align:middle;\" /></a></span>"
      ],
      "text/plain": [
       "|- (2 in {2}) = TRUE"
      ]
     },
     "metadata": {},
     "output_type": "display_data"
    }
   ],
   "source": [
    "# Notice that the derived singleton membership claim can be\n",
    "# completely independent of the original membership_object\n",
    "Set(one, two, three).membership_object(three).derive_in_singleton(\n",
    "    Equals(InSet(two, Set(two)), TRUE))"
   ]
  },
  {
   "cell_type": "markdown",
   "metadata": {},
   "source": [
    "#### `membership_object().deduce_in_bool()`"
   ]
  },
  {
   "cell_type": "code",
   "execution_count": 186,
   "metadata": {},
   "outputs": [
    {
     "data": {
      "text/html": [
       "<span style=\"font-size:20px;\"> <a class=\"ProveItLink\" href=\"../__pv_it/demonstrations/ea57f66a56154b3e29a34c05e533e4dd558c71330/proof.ipynb\" style=\"text-decoration: none\">&nbsp;&#x22A2;&nbsp;&nbsp;</a><a class=\"ProveItLink\" href=\"../__pv_it/demonstrations/16ae4e5d84db16e733e31d3151db7446b8b504920/expr.ipynb\"><img src=\"data:image/png;base64,iVBORw0KGgoAAAANSUhEUgAAALcAAAAVBAMAAAD2lGJJAAAAMFBMVEX///8AAAAAAAAAAAAAAAAA\n",
       "AAAAAAAAAAAAAAAAAAAAAAAAAAAAAAAAAAAAAAAAAAAv3aB7AAAAD3RSTlMAInZUiRDNmWbv3US7\n",
       "qzJazP2FAAAACXBIWXMAAA7EAAAOxAGVKw4bAAADA0lEQVQ4y41VXUhTYRh+z7Yzl/tpRHQVbAiG\n",
       "i0UGFRhBK4gokg7edJHW+hEcBu7CCoLRoOhKsC4KqUFCFLTyhzDRblqGFxm2uplRDruTglhZWJhm\n",
       "7/v9nD851oHz8fJ+7/d8z/v7AUAYHL5jg/DPT9lGi+O2q95po13j55OroX8ZB/BHbcrNuY5UH1Hb\n",
       "jn/Xcrl89qPNYg/HBu9XofAVl8ql13JbjZffKQmASZTr7FcWHiutH9CG8coBBP/YDA7JSyQ4rCkA\n",
       "zEgOsVpwX8xyM69mBx+BvQGAqix5Poe+/XQAz3yTmgi6/yzN5eZ+XC6FuZkvvRL8chDZMIeRtW+O\n",
       "6+P5fNIM7lmvu9SNrLtFfFNEdlSa3RBpmsjf18G9ADtJDqLn3utMPVxrY77O9V1qZgiUF5eHKWel\n",
       "WRtT+k9pBvO3VwA6RTDV9yyYSqs9LGn3L6nBzLT0iwj10npcmjUy5QbNSGhTX0LcWRmrKWV5aRhV\n",
       "f56zqQ/9EIrQYs2WNiEf0asvRstVJp40Yv40tXAO4C7JW8Pg7uHgRntwRRUoS7LwMbMNnAMM6CQi\n",
       "1CcNTEyaE1o3rMFtkl8SFxaWT3n8CoRd4v0Zv5BZFCcC1zDWIrt32EphUEuIXmGe3cKzjyR4wJ/g\n",
       "4MSNl0GzfvnsOGsV1C4Izdo3Rk0N0OImPp52UTagFszMA1BgYQlRymYY02qjVid5VAAeCEUFQxL8\n",
       "zWWqcPDojbyLKXut4EkYE8EMzfO4Rq3VMoJ/B5ISmYFKkgeD+gn2k/YgLV3sRI0F3B1lReTFYI6K\n",
       "GjxtAVdwB4phOEG5SmHt3NRAJRpUn0OazqGTV4M+AwtDsO8AwGd0lQbSC6FueaUZ4GpxXoPdy2eg\n",
       "+h7ANE03Op4ni6OTU4OGgw/5LJt+wo9uyhXZVKy2D8OhCWv782+HSXZr9hGkiGj7D4v2l3M07TSp\n",
       "LeAJk+xZYVaVdcB47gQeM8mq+TlosphRI290wmh22oiYniiXecPy7qg9qxFUok4bmfr/eEMb0cjl\n",
       "8Az/BWlGznpcOMa1AAAAAElFTkSuQmCC\n",
       "\" style=\"display:inline;vertical-align:middle;\" /></a></span>"
      ],
      "text/plain": [
       "|- (B in {A, B, C}) in BOOLEAN"
      ]
     },
     "metadata": {},
     "output_type": "display_data"
    }
   ],
   "source": [
    "Set(A, B, C).membership_object(B).deduce_in_bool()"
   ]
  },
  {
   "cell_type": "code",
   "execution_count": 187,
   "metadata": {},
   "outputs": [
    {
     "data": {
      "text/html": [
       "<span style=\"font-size:20px;\"> <a class=\"ProveItLink\" href=\"../__pv_it/demonstrations/443a41308e0120d19a71d72e17e928fe45974ad10/proof.ipynb\" style=\"text-decoration: none\">&nbsp;&#x22A2;&nbsp;&nbsp;</a><a class=\"ProveItLink\" href=\"../__pv_it/demonstrations/10d96204a1e659c59c45797d7af75cf2c95612720/expr.ipynb\"><img src=\"data:image/png;base64,iVBORw0KGgoAAAANSUhEUgAAAJ8AAAAVBAMAAACqHiFtAAAAMFBMVEX///8AAAAAAAAAAAAAAAAA\n",
       "AAAAAAAAAAAAAAAAAAAAAAAAAAAAAAAAAAAAAAAAAAAv3aB7AAAAD3RSTlMAInZUiRDNmWbv3US7\n",
       "qzJazP2FAAAACXBIWXMAAA7EAAAOxAGVKw4bAAACeklEQVQ4y3WVTWgTQRTH/5tkk+azEYteBIOg\n",
       "VEGagwh6aRSxIEqXXkRUjIpgEWkPtbkoLCjiQcGLILbSBUElGgjFr/a0Cl4UbUXQg60EEQoe/CBU\n",
       "pAfjvJldNzOZnUPy5w3/38x7M/MWQB66cbiOsLGaHEbodKSojZ6xQh25BTaXLijRLZMjwzXaxTag\n",
       "Z+C1auon3jcfunb8rRDGnvPMk5lnsle1uNPGqU+AWYY5in51m/vYzMcRD2i4GBQVOIhoE4g5TMbV\n",
       "FNxn2JUBEjYiTRwrdwKBPs+TzSN5nau+ovnbA3aNdgIvZoEkK8cEugUw8qp6VwNMLiP7i6uZOnwg\n",
       "bkD2EDAObBcls+k3fcLS79BB9q83Ef3jA09D9jDgu0vAGI/e56E1lj5lNlI/PTFr+8ADisedHqqV\n",
       "xDq5rZ956HhQkHEF+MO7JV8WGyxLXtDLisedHV45B9wRKfNTDk7GuKkAa76gUzaapHZA9rCUe59Y\n",
       "mPDLzjZ6q1qtPuS8D3UZmHD/+6ZY8OhJ2jQkDwEz6RIBcw1kaE0zcC29lIHXvP/vwBxLZi+tNwPZ\n",
       "Q0C4lHL3sgDCCWr4RgJGS1jFRcsiYJTywU7IHg4s4wXLd16kjA2ai82ZX4GNXN3mKcf4oVyF7CFg\n",
       "tECH32V79zBelIGDedDDgHGvUnG4utJ2D/mFa/O4j7B7gDUAJp9WRHMwFx63Axenztqoso2lWq1W\n",
       "mat0hZqDAD6QPZsm53i3STXanmN6v/T0ePmsTsWBhqN6xOh44wowBo0iVsIOaZfPtdHNvhhCp0rQ\n",
       "bV4X1n+PaKPr/VoHjTlQh+zQjVAtCtrohWLoJ6DnPXUt/acI/wD34rRskXf2lwAAAABJRU5ErkJg\n",
       "gg==\n",
       "\" style=\"display:inline;vertical-align:middle;\" /></a></span>"
      ],
      "text/plain": [
       "|- (3 in {1, 2, 3}) in BOOLEAN"
      ]
     },
     "metadata": {},
     "output_type": "display_data"
    }
   ],
   "source": [
    "Set(one, two, three).membership_object(three).deduce_in_bool()"
   ]
  },
  {
   "cell_type": "code",
   "execution_count": 188,
   "metadata": {},
   "outputs": [
    {
     "data": {
      "text/html": [
       "<span style=\"font-size:20px;\"> <a class=\"ProveItLink\" href=\"../__pv_it/demonstrations/f3f1054774159f5e50a31ac7cea1eee8470135620/proof.ipynb\" style=\"text-decoration: none\">&nbsp;&#x22A2;&nbsp;&nbsp;</a><a class=\"ProveItLink\" href=\"../__pv_it/demonstrations/013c586a2c28410ecf8e77b26bce3f8511f03d720/expr.ipynb\"><img src=\"data:image/png;base64,iVBORw0KGgoAAAANSUhEUgAAAJ8AAAAVBAMAAACqHiFtAAAAMFBMVEX///8AAAAAAAAAAAAAAAAA\n",
       "AAAAAAAAAAAAAAAAAAAAAAAAAAAAAAAAAAAAAAAAAAAv3aB7AAAAD3RSTlMAInZUiRDNmWbv3US7\n",
       "qzJazP2FAAAACXBIWXMAAA7EAAAOxAGVKw4bAAACbElEQVQ4y3WVS2jUUBSG/5h5OK8SH6gLwUFQ\n",
       "qpvOQgTdOIooiNLQjYgKoyJYSqmL2tlUGFDEhYIbQbSlAUEhOjAUFVsQouBG0PpCF3agiFBx4YNS\n",
       "URHjPSfJZHLn5i4yf+7h/3LPufeeAWBANQ43EDdWkEOLDS8pKWcHzFhH16yI5YrS7Oaxof46rWIL\n",
       "vc3Lph3E+xJAV4+88IS2e1R48i+F7JYtzqR28gOQrNBLXY7uE5H3Qz5Qc9DrVeAg9AUgYQmZklNw\n",
       "HmJnHkjXKEEVEOjxPQUDmSusekrJnz5w6elO4LkCkCH9edCv3DP7lgKYWUThB6upBgIgrkoeAqaA\n",
       "raTLHjB33FSv0ELhnx/QfwXAU5JHAF+dB4bpI4YHXGWqUxYj+90X07UAeEDyOJN99bL3nTXwgMfC\n",
       "goxIwG/+KfnYnBML4IJekDzOdP+fM8BNytgHVlpB7ZoEbO0a7bK2QGqb5BEpdz8wcUPsl+EBu67b\n",
       "tn2Xee8aUWDaafkmxOTRE7ToqIeA+VyZgMvhAZOha/5pFHjZ//0KzIibtYe+NyV5CAiHUn7UbP5+\n",
       "S1NWWMPnEaBexjIWrklAfZH0dkQ9DKzgCb+M83O94mAz8xOwgdU4p5zgTbkkeQioF/3N/8vPVCkK\n",
       "7DVAFwPa7WrVYnWx7RwOSx7nHnbtFQ2A9Kj7mgsye78d2JwYrMEWC8u6rlthlatSc/CAdxDxbByb\n",
       "4W6TnWu7jrn9kavH5TM7FQM1S/Z4o+OOS8AEFIpY3FVU47FydlMg+tCp0nSa18b13yPK2XVBrcPG\n",
       "HKpDtdiFUC2Kytmzpdi/gJVvuKGog/8BiaWxvrGQxSYAAAAASUVORK5CYII=\n",
       "\" style=\"display:inline;vertical-align:middle;\" /></a></span>"
      ],
      "text/plain": [
       "|- (4 in {1, 2, 3}) in BOOLEAN"
      ]
     },
     "metadata": {},
     "output_type": "display_data"
    }
   ],
   "source": [
    "# And of course a false membership claim is also Boolean\n",
    "Set(one, two, three).membership_object(four).deduce_in_bool()"
   ]
  },
  {
   "cell_type": "markdown",
   "metadata": {},
   "source": [
    "### Testing the `nonmembership_object()` method\n",
    "\n",
    "The <span style=\"font-family:courier\">Set.nonmembership_object()</span> method has the following format:<br/>\n",
    "    <div style=\"width: 50%; border: 1px solid green; padding: 5px; margin: 20px; background-color: gainsboro\">\n",
    "    <font style=\"font-family:courier\">nonmembership_object(self, element)</font><br/>\n",
    "    </div>\n",
    "    and produces an <span style=\"font-family:courier\">EnumNonmmembership</span> object of the form (element $\\notin$ self), along with a number of related methods such as <span style=\"font-family:courier\">side_effects()</span>, <span style=\"font-family:courier\">equivalence()</span>, <i>etc.</i>"
   ]
  },
  {
   "cell_type": "code",
   "execution_count": 189,
   "metadata": {},
   "outputs": [
    {
     "data": {
      "text/html": [
       "<strong id=\"example_nonmembership_object_01\">example_nonmembership_object_01:</strong> <proveit.logic.sets.enumeration.enum_membership.EnumNonmembership object at 0x7f3d375c72b0><br>"
      ],
      "text/plain": [
       "<IPython.core.display.HTML object>"
      ]
     },
     "metadata": {},
     "output_type": "display_data"
    }
   ],
   "source": [
    "example_nonmembership_object_01 = Set(B,C,D).nonmembership_object(A)"
   ]
  },
  {
   "cell_type": "code",
   "execution_count": 190,
   "metadata": {},
   "outputs": [
    {
     "data": {
      "text/html": [
       "<a class=\"ProveItLink\" href=\"../__pv_it/demonstrations/09697c2df6dc8933b91bdb0d00e4282514cec7070/expr.ipynb\"><img src=\"data:image/png;base64,iVBORw0KGgoAAAANSUhEUgAAAIAAAAAVCAMAAAC5SxYJAAAAP1BMVEX///8AAAAAAAAAAAAAAAAA\n",
       "AAAAAAAAAAAAAAAAAAAAAAAAAAAAAAAAAAAAAAAAAAAAAAAAAAAAAAAAAAAAAADFBd4eAAAAFHRS\n",
       "TlMAIs1UmauJMnZmRLsQ3e/p8+P3nUghfzAAAAAJcEhZcwAADsQAAA7EAZUrDhsAAAIkSURBVEjH\n",
       "rVZZltwgDGQ3IGCSie5/1mCbxQiYxO81H21bgCiVSqIZ+3lw8h28Zx8ZXPLJJBbrRBg+rfDhMwDY\n",
       "oYG4ErhaNXxKrHscIOo8BBzTpmAhzzjGzYA978h2AF1DB+p8AUCNhJvY3xNcD40UgU32hClVdOME\n",
       "3hQ7lLO38yyNU1bYuOS5haO9nh7VGD7EgkgRf0fZwVRaATDckFgsxK9fUWwAuLLaVbc1kalmySfC\n",
       "TPXv0c0AuM0L5MPgRSZSH1sGNNYDhzhNd3KM1DDARp6ZAahTBO5ZEjmQQOviseWWQNBxwMixrwgE\n",
       "PULLhZ4AeHnaH6oVZ1zOUk2KnlCw1mpBdGbQbsuuTblykE0DARn9oyzEogkwnlxP6MW8TCOCuBAy\n",
       "lUDOni90ya43pXIVQIebYoy/v/NPt3EtelFCVfKo3PQo5bCRAMMaedBCls5xTzzyd55rJCFR9d5V\n",
       "2SJFEDsAuZOAa1ozNaIi15jGBhAnGlvvOqqTSiebat9sJBAS0L7q3dyLrWVeTQCabosEslsx0M0b\n",
       "ISaMaWgSgCZkk6q0WpYeChJSH3sAIpVec+s0oGhRXdF4Q+w1Oh8V8RbyHXF5kedL5y3o7/niKwB0\n",
       "u4mqSmKsa4PKN067Qqq97ABQfH2zLIb7YyBXwa4VkyHDO/t/ABDhzRbz0v5vABxWzSRtVgf7zk76\n",
       "6hKeXKFCuWlz7J39rkf3EwC95kVp+aH/hOb29BcgOhO3nRBB7wAAAABJRU5ErkJggg==\n",
       "\" style=\"display:inline;vertical-align:middle;\" /></a>"
      ],
      "text/plain": [
       "A not-in {B, C, D}"
      ]
     },
     "metadata": {},
     "output_type": "display_data"
    }
   ],
   "source": [
    "example_nonmembership_object_01.expr"
   ]
  },
  {
   "cell_type": "markdown",
   "metadata": {},
   "source": [
    "#### `nonmembership_object().definition()`"
   ]
  },
  {
   "cell_type": "code",
   "execution_count": 191,
   "metadata": {},
   "outputs": [
    {
     "data": {
      "text/html": [
       "<span style=\"font-size:20px;\"> <a class=\"ProveItLink\" href=\"../__pv_it/demonstrations/d6f8c2f622fe93002e01d8372022b46721cc204e0/proof.ipynb\" style=\"text-decoration: none\">&nbsp;&#x22A2;&nbsp;&nbsp;</a><a class=\"ProveItLink\" href=\"../__pv_it/demonstrations/282d4ee5b47d18c65bfb0202723f6f9ddf3810160/expr.ipynb\"><img src=\"data:image/png;base64,iVBORw0KGgoAAAANSUhEUgAAAc0AAAAVCAMAAAATgUXZAAAARVBMVEX///8AAAAAAAAAAAAAAAAA\n",
       "AAAAAAAAAAAAAAAAAAAAAAAAAAAAAAAAAAAAAAAAAAAAAAAAAAAAAAAAAAAAAAAAAAAAAAAeYafp\n",
       "AAAAFnRSTlMAInZUiRDNmWbv3US7qzLp8+P3nef1PsOpiQAAAAlwSFlzAAAOxAAADsQBlSsOGwAA\n",
       "BPBJREFUaN7Fmm2brCYMhlVAFMHTnrb+/59aZjRIXniZdXrVD8vOKtxPQgiR2WGI1zi0LvKE2bbh\n",
       "O9eoRhnR1jI+JH/pmf8Xwb0xqfzuLPWZTf5pmjfzpdkc9uDPsbaprwOo7VA92IrMDl4Posb4EqJm\n",
       "RWJAqzSat0N0ef5JHWn4xR9HiNfsd9bJTD7eWYYRjT/FHvHv3geIJn8NPi09kwlqO1QPu0cfidgm\n",
       "rwdBGdjsryAIgToQGGdrZjxT0ogWJVbtsg/ryQoHnc5pnV6TrqwjJh0ncDkUGW7uWPCgtkf1wEIM\n",
       "i6U8rURUFcEY2OxvIJgVxIHAeLcWOduGQ8jkbijN5nicK3w7LNbp3SXCkgH3q8dgVzLcYtuzCWp7\n",
       "VOOMwsUSnnGziKohKIOa/QUEs4I6EBjvdkUTNWq6yCbvfv2BVOSzuVyPLwfeI+YVonJbyXgA2I6F\n",
       "DLe2F+dK2pLqd1BT31CxmDctYZNQNQRlMLOfI5gVzIHAiK3K52mc4rMoGWxzTBxhL67NcIAZCKrv\n",
       "UXay4vyRVoomw83NnRPUNlSf0mlQM7GY5/AO1YOgDG72YwS3gjkQGLG1+T5sX8l7QVWWodkdz+a5\n",
       "E5ngdpzS7kcMibfDp4wRyHA6NBOtxq2s+jKOpS0qFvFeBUnepQdBGILZjxHcCu7AkMzJg2dTr0c0\n",
       "HWshhbadsxzup2kKdFHpo1ibp6wf852+6oaUCe+Brcuu2yNZGBZVX13//gd3FcQuMzFVZXmk6hiZ\n",
       "IZj9Y0TFCupAYMTWKRQeMb7yrrNQ+43rkuXwd+ioFU+nO4ovxSnrx7y3XRENEtTaWpugtq66ENRM\n",
       "bM47iw1nGKqCoAzB7KcIyQrqQGDEdt2yesfaWFdlmX1fY2D8+Tv+SH8cw5xt5B7qUrx/r1mpbQpZ\n",
       "fzjAUBNmdYVdswjacCuqPmOdF8hMbM47a4NpYqgygjEEsx8iJCuYA4ER23tEc2Ky3B8Lbv6OtFt/\n",
       "TxAEEylp3W2DKm2bS9okNMTHtn4+m4LqQlBzsRnvqg2ME1xdQjCGYPZDhGQFcyAwYnuv9isM3Epe\n",
       "NJkRPtw5fMGLfmDvmLqwbZrVs6Ml5Vr7Js+0XPW7a3ypIl0FsRkPQtYqngYFx8gMwewfI8pWcAe6\n",
       "1HpYVNsiHC/FtMAX+12EXjtRRMwoqY5pqWqDs23K+j6VB/qugnxrbYLaumr5XImIxTzHjkqbCM6g\n",
       "Zj9GiFYwBwIjtlDejmvKy/nqnlXYy7M5r9cSf2NNchPU2ts1mfeNS+/mrDCc1a3ZzIrxmmpUOcpi\n",
       "Me8u29M5WgshMbDZjxGiFdyB2Wvb7s4N8jjeRqrXL5lTTfjNvi8B94d0ig35767XjPUhpONduHH1\n",
       "8N6OUnC45vdsu8vbomohqJlYxAvp+X0a+hDisTI2+ymiaAV2IDBerdur/lv+0j5m7tLJHolN8+mN\n",
       "fLjRtc9pQW1dtdJDx9XgNRzTxXiE6LMiMd5t46xbiMDybOqPb+TD2Y6vxNAR8yeiKyf4DdQTxiNE\n",
       "nxXkiwhf+/p7FAqTqfQiYaZPb+RHS6Pv0Q5qa6qXvqXpO1E/ZzxCLJ1L06PW1JBaOGoepfPn9zQX\n",
       "D4AqBANHM77rnypAbU21M5/ERRP1c8YjRJ8VLLzHirPFc/DRBjV85xo1DDV1/ocMqK2o3nvG6eDV\n",
       "HLP/54guKxLj3f4LYGE9D4dIIR0AAAAASUVORK5CYII=\n",
       "\" style=\"display:inline;vertical-align:middle;\" /></a></span>"
      ],
      "text/plain": [
       "|- (A not-in {B, C, D}) = ((A != B) and (A != C) and (A != D))"
      ]
     },
     "metadata": {},
     "output_type": "display_data"
    }
   ],
   "source": [
    "Set(B,C,D).nonmembership_object(A).definition()"
   ]
  },
  {
   "cell_type": "code",
   "execution_count": 192,
   "metadata": {},
   "outputs": [
    {
     "data": {
      "text/html": [
       "<span style=\"font-size:20px;\"> <a class=\"ProveItLink\" href=\"../__pv_it/demonstrations/b798aea2a2769e97baf1c2f9d3c2350ad9d59d5f0/proof.ipynb\" style=\"text-decoration: none\">&nbsp;&#x22A2;&nbsp;&nbsp;</a><a class=\"ProveItLink\" href=\"../__pv_it/demonstrations/6037776e5302b35e26325d23d971d3e8de6f11820/expr.ipynb\"><img src=\"data:image/png;base64,iVBORw0KGgoAAAANSUhEUgAAAKMAAAAVCAMAAAAdIa7aAAAAP1BMVEX///8AAAAAAAAAAAAAAAAA\n",
       "AAAAAAAAAAAAAAAAAAAAAAAAAAAAAAAAAAAAAAAAAAAAAAAAAAAAAAAAAAAAAADFBd4eAAAAFHRS\n",
       "TlMAInZUiRDNmWbv3US7qzLp8+P3ndw5NuIAAAAJcEhZcwAADsQAAA7EAZUrDhsAAAJGSURBVEjH\n",
       "nZfptpwgDIDZ99D2lvd/1ioKskQr8mPmDBD4spBkCNkGJfdjXJPek/VBOb078N1g/GFRyX6v8vLL\n",
       "HRHCKefZB3Eu6kEaObvfmwphdAMr1VqFOMwJocNp91BOYua/SNo1Y5OTqi45mHf3nhXucDholXpG\n",
       "Gvbl1G2XOqvFW9HZNffGqxbXVS2GMDqCMe6bB0bIcWZtFxg7nkxqEDV6lbGeGo3qGVlwv3479Y7R\n",
       "5t+Q2ifh7W7WiZFYucbIK4MgHaNXTBKIr+2YVyDF6aZkRkZl1hh1eTGMdox0jxqpyFvGMzTSOOOd\n",
       "GUWJgDXGohPdvltGtTvNjHlCq0fGmAaByKC4gl2hatTtC0YZHS+eHhixF0iteWREHl191zTVNMzt\n",
       "mh3tkS0M7Rmj3fT687N9hIsQlCdPjDpgV9lzpwTFi7m/MNL8s2GUOd0NBSjqIB8YzWjFmN0cSoKs\n",
       "GvpFOx6+9rCPZEG0idFNYrVYIIy5XtE296S852S8ShThbi0eQxPlttnEGPFzrp3fdb04ZvWYbKaO\n",
       "805fi+bNhDU7tnkgtbKKQ3xgFEe2LlWEUKf34ZopYgyeH2u+e8kY3RXxKcFlVQk/c4tTLgKwScF+\n",
       "uTt7C5fyUM3UFkIbdekpGkb3rr3zNYm4eLPF/BVhC5KbWnhpK99MtaLUrbZmtxUea08QRsRvqCsv\n",
       "UW1WGUnAO2OKBTabsoacW1aJdrG1RNGwjHikQkRvrDtvikWhRhRBb6klKnz5t0DRQ/G6TzXwL1eI\n",
       "KsaWEf8BAr0TPcIJWZsAAAAASUVORK5CYII=\n",
       "\" style=\"display:inline;vertical-align:middle;\" /></a></span>"
      ],
      "text/plain": [
       "|- (4 not-in {1, 2, 3}) = TRUE"
      ]
     },
     "metadata": {},
     "output_type": "display_data"
    }
   ],
   "source": [
    "set_123.nonmembership_object(four).definition()"
   ]
  },
  {
   "cell_type": "code",
   "execution_count": 193,
   "metadata": {},
   "outputs": [
    {
     "data": {
      "text/html": [
       "<span style=\"font-size:20px;\"> <a class=\"ProveItLink\" href=\"../__pv_it/demonstrations/f62ed421fb47b11fcea6f9e75d4cd044596bd8220/proof.ipynb\" style=\"text-decoration: none\">&nbsp;&#x22A2;&nbsp;&nbsp;</a><a class=\"ProveItLink\" href=\"../__pv_it/demonstrations/82ac93664f75cea5b87826818ac14ed64329fc170/expr.ipynb\"><img src=\"data:image/png;base64,iVBORw0KGgoAAAANSUhEUgAAAKMAAAAVCAMAAAAdIa7aAAAAP1BMVEX///8AAAAAAAAAAAAAAAAA\n",
       "AAAAAAAAAAAAAAAAAAAAAAAAAAAAAAAAAAAAAAAAAAAAAAAAAAAAAAAAAAAAAADFBd4eAAAAFHRS\n",
       "TlMAInZUiRDNmWbv3US7qzLp8+P3ndw5NuIAAAAJcEhZcwAADsQAAA7EAZUrDhsAAAI7SURBVEjH\n",
       "nVdZstwgDGTfIckL9z9rbGxABtkx5mNqikFNa6GlIWRblNyv8TfpPVlflNM7wHeL8YcflbyeVV5+\n",
       "uSPFcNp59sGci+Ke1iokBPt6NleGyQ1cMQAqhA5n3ENFYuYlMd8OSlXQwvYh8pRHfd0R7rCJWuUr\n",
       "RwxA6uIWh6Zzau6D1yKuC9tYysTa8ZwjGMc9GgNHDIDt9GRWg6nRqxwPVFuujBlWNAvu12+n3nHE\n",
       "ALzdwzpxJFauceQHQiwIMfeC8opJEtPrOE4ArYTNyFGZNY5awMzmXl971UhF3nKcAKqrzoymRMQ1\n",
       "jtCnlLsuqD1pZtQJrR45QoBjg8WaCtZL1XTXtQMr3nB0QBzhIYW9QGrNI0eHBKi+a5rbTdyuxdF2\n",
       "tdABBMBufv352T76Jo3KkyeOEGB8TbtgKV7D/ZWjgUGQRe6GBpR0kA8czRjFVNIcqkA2D/1iHFuu\n",
       "S7uhFAqjm8xas0A4DgC76pQzJ8feogh3a/UYzi+pvG/W48SIn7V2ftfNoAO0LRtBrgV4M2EtjqcO\n",
       "UKf3BSKneEwPHMWh1rWLAIC2RYzB9fGidy84JncKW1lAD2X8mUecelGMNqu4X+7O2QIAuDZu+I11\n",
       "nSkAR/e/8e6oAGtrBbh0c9D8FWE7ctMLu7fyzRY0pW51NLvt8Nh4gnBE8oamsptqs8qRBHwyplhh\n",
       "s0k15DyySnSKbS2KhmWKhxQifmPTOWgWlTXiCHpLa1Hhy78FioLifZ/qyL9cIZoZW6b4D6uNE61w\n",
       "77vOAAAAAElFTkSuQmCC\n",
       "\" style=\"display:inline;vertical-align:middle;\" /></a></span>"
      ],
      "text/plain": [
       "|- (2 not-in {1, 2, 3}) = FALSE"
      ]
     },
     "metadata": {},
     "output_type": "display_data"
    }
   ],
   "source": [
    "# notice the equivalence doesn't depend on the\n",
    "# nonmembership_object being true\n",
    "set_123.nonmembership_object(two).definition()"
   ]
  },
  {
   "cell_type": "code",
   "execution_count": 194,
   "metadata": {},
   "outputs": [
    {
     "data": {
      "text/html": [
       "<span style=\"font-size:20px;\"> <a class=\"ProveItLink\" href=\"../__pv_it/demonstrations/4624b0216f8e2fee32b5101a3170216daa5fc5000/proof.ipynb\" style=\"text-decoration: none\">&nbsp;&#x22A2;&nbsp;&nbsp;</a><a class=\"ProveItLink\" href=\"../__pv_it/demonstrations/040601f2d8b214e6296234e5e702ca3cd598508b0/expr.ipynb\"><img src=\"data:image/png;base64,iVBORw0KGgoAAAANSUhEUgAAAJAAAAAVCAMAAACe5ZfhAAAAP1BMVEX///8AAAAAAAAAAAAAAAAA\n",
       "AAAAAAAAAAAAAAAAAAAAAAAAAAAAAAAAAAAAAAAAAAAAAAAAAAAAAAAAAAAAAADFBd4eAAAAFHRS\n",
       "TlMAInZUiRDNmWbv3US7qzLp8+P3ndw5NuIAAAAJcEhZcwAADsQAAA7EAZUrDhsAAAHtSURBVEjH\n",
       "nZZXksQgDETJyYhN3P+s6wQIWw4MH1NTdtN+SEjA2Dw4uxmHl3qa2MPgkl9MfjmEvHtrdKc1k340\n",
       "TBB30SQ+4JFqW4y1JibCvNPmipPCgQwbxDJLuJcUUxVqs9nF+UflUz5s90SFfRJYk3ugzqDojgG+\n",
       "CUuNpd3QYE2390dhYBTQsvYDUGfQdM6OAu0IfvWHjLehiOHrO5h3QJ0B0nk9BiT378FqAbntoskI\n",
       "zSC9jhA2QDrjxoCs6hKU255Ysq8NewvUGSCdgjGgbgEptzI1S+zdoWytuQcqBqLtRdem2IAGXAAF\n",
       "3ISwyhA1wr27ByoGPFdb6cci5FFZ24jW6udV/PzOP/UhB4PEFFAz0GBkCdrHQA5HUa9tpe/hyUZ9\n",
       "B4QMVGWfBiPUUrZ2bM5xAwrHaRFugJAB6ugyjO2hWP6ktdxENRKCTaemRlRZO0uQgUKbOo5FqFQl\n",
       "D3YZKCZGQroBUlsL1NkQBkjX95VnoBRKA1kH6jsafk8ne/0QgM8GlpoL+yHbGSCg8HRd2RLpfUlk\n",
       "SFdK96firLk4OtraiPJvOh5Gbx/Xpx9xUFNAVEqazrpRIBYvrnWc2I3iXMOauoPVjs7jMM/WcahV\n",
       "EhdJ1IErI2VZO3r85BLL6XsmeShyC/LRT1WNGOb5B+NVEMBiFAVfAAAAAElFTkSuQmCC\n",
       "\" style=\"display:inline;vertical-align:middle;\" /></a></span>"
      ],
      "text/plain": [
       "|- (2 not-in {1, 2}) = FALSE"
      ]
     },
     "metadata": {},
     "output_type": "display_data"
    }
   ],
   "source": [
    "Set(one, two).nonmembership_object(two).definition()"
   ]
  },
  {
   "cell_type": "code",
   "execution_count": 195,
   "metadata": {},
   "outputs": [
    {
     "data": {
      "text/html": [
       "<span style=\"font-size:20px;\"> <a class=\"ProveItLink\" href=\"../__pv_it/demonstrations/ca32589d27dacac8fd1c075f12187216294276e20/proof.ipynb\" style=\"text-decoration: none\">&nbsp;&#x22A2;&nbsp;&nbsp;</a><a class=\"ProveItLink\" href=\"../__pv_it/demonstrations/72839b0f0e18eaf18eee74a85ad229f2c721f2eb0/expr.ipynb\"><img src=\"data:image/png;base64,iVBORw0KGgoAAAANSUhEUgAAAHwAAAAVCAMAAACzO3oeAAAAP1BMVEX///8AAAAAAAAAAAAAAAAA\n",
       "AAAAAAAAAAAAAAAAAAAAAAAAAAAAAAAAAAAAAAAAAAAAAAAAAAAAAAAAAAAAAADFBd4eAAAAFHRS\n",
       "TlMAInZUiRDNmWbv3US7qzLp8+P3ndw5NuIAAAAJcEhZcwAADsQAAA7EAZUrDhsAAAGxSURBVEjH\n",
       "nZbZdoUgDEUZwxja3vL/31pFRdBoRR5cCpFNQk6AsalxdtMOgzqEblTyC8OHTci7UdCdLYTumyWM\n",
       "a0cQL9hSlXUbAzGdRxN2tnlDJ7+9xc1C2H9Zxjdt+k9DYcfpoXI4m3ddyi+xRwN1GWvfKUg37tYY\n",
       "mbJeLDvm3MnQMwI+u0nArRmFLzxX5sLcZY2I/uvbw2M4c3oMLpe5scyAudn1AEIzTAOeM7BjcKPa\n",
       "GOdGRPMOamAjcIVj8HaxKTdqgXkH7EE+Bs5wsSeKhcu8JuG+EXlnBET+cmfPcJ7rFNKNee52KZnY\n",
       "6ttNK/75TI/ayxF24x0+CQ/kFrq3cNsFRxfh97UvmagJuKprCoOe17CXQsd5J3B//K1Wswa+Vz0m\n",
       "/diex/UllawX+x4LwcKpaJDZ3iRcHPN8VQf3Zm6tqyAxXcNVrUeN1DrdPoAnvyq8tFbWGj9BX8AR\n",
       "XQa0R7gPj+ChasanKxv7q+K0YXR5pfq4Hz1Rr08D4pC6hxs7Cmfx4grCiewRhJZq1eNxmL0ommiK\n",
       "uOA01az+XqtefHOR4vT9hzwkuMEOz1X9FsPsP0JFDgTqRFwWAAAAAElFTkSuQmCC\n",
       "\" style=\"display:inline;vertical-align:middle;\" /></a></span>"
      ],
      "text/plain": [
       "|- (2 not-in {1}) = TRUE"
      ]
     },
     "metadata": {},
     "output_type": "display_data"
    }
   ],
   "source": [
    "# Works with singletons as well\n",
    "Set(one,).nonmembership_object(two).definition()"
   ]
  },
  {
   "cell_type": "code",
   "execution_count": 196,
   "metadata": {},
   "outputs": [
    {
     "data": {
      "text/html": [
       "<span style=\"font-size:20px;\"> <a class=\"ProveItLink\" href=\"../__pv_it/demonstrations/a3ecc931f6cdea2557ef581f0604f473acd80d4c0/proof.ipynb\" style=\"text-decoration: none\">&nbsp;&#x22A2;&nbsp;&nbsp;</a><a class=\"ProveItLink\" href=\"../__pv_it/theorems/842f870e8c40334855cc58d8b627a98b1e017abe0/expr.ipynb\"><img src=\"data:image/png;base64,iVBORw0KGgoAAAANSUhEUgAAAK8AAAAVCAMAAAAHHU5UAAAARVBMVEX///8AAAAAAAAAAAAAAAAA\n",
       "AAAAAAAAAAAAAAAAAAAAAAAAAAAAAAAAAAAAAAAAAAAAAAAAAAAAAAAAAAAAAAAAAAAAAAAeYafp\n",
       "AAAAFnRSTlMAInZUiRDNmWbv3US7qzLp8+P3nef1PsOpiQAAAAlwSFlzAAAOxAAADsQBlSsOGwAA\n",
       "AnpJREFUSMeVV1mW4yAMZBOroWe6e3z/ow42EBsFkMNH3guWqwptyIzlxdlqoacQAnou+djyMeSH\n",
       "Lwm5tNNw/yd0AGSQ4la2gnjGTBAyA6Pdhi7V8uUU7//kPsLaqo2wT+QShCxtk2Oe6KCJw3bhV35k\n",
       "89rVQMulCNmWVpE2hE88+0CvNbReirAP6H2d6G6VaJv/+uP1c73M0Q52lHvn1ZjR5Tw6QQtgMX3i\n",
       "X6bJDJZEOoS4KH3LTE1+ECJCUuoqXX6kC062pgzEGVaISK+KZDpMCaumzr2IJ74cklNDRMGM71+0\n",
       "qEWZql8xecTV7iVvXjG21/mMv63IcAQwYTX//deZ9zwZ3ZfzWX5s5vBf8dSDgueuPE+yEMXSevje\n",
       "vCSp7FwQDtyLeDK6K+0q3XxXTV0+59/v/PNqhzzq2tzyKdzheVfdD1EXGWkny21GWLK3bzCIJ6O7\n",
       "q726LvZwyETZlczW/B2OiyPttRpVO0hwD/W+Ew7ci3kyupfXk2wL0DVeP7vJim9a3l63nvRU/s4I\n",
       "T/PcPZF5z+PZJoozA4vuzO+r+QocnXsnOIU39eqqt43y75xweD92PBm9NCC5JzD59XCPv5YxTfWa\n",
       "eDjI4v5rFKV3Qcjk+/XY8WT0dFKByd6UxnZvQ/x+m8VeyiAqYXaO9fpA6V0QjsaPjudA92kKbX/U\n",
       "lpNpeh8rjXe5p+eHOeFscGs8J/piRBkctyk7IMDJtyx5MFDOCUd8d56CPp0v+KB2WqX6XDVR4VuP\n",
       "b+zBmhHagXvvPBUdZiRq8BnQbjJpxTUYQ731VqMV7uyjRBnMdneehs4nnzHD0YWbiI7BVdsRD7/L\n",
       "JoSJ+Io60P8DvH8U3bqVOe0AAAAASUVORK5CYII=\n",
       "\" style=\"display:inline;vertical-align:middle;\" /></a></span>"
      ],
      "text/plain": [
       "|- (x not-in {y}) = (x != y)"
      ]
     },
     "metadata": {},
     "output_type": "display_data"
    }
   ],
   "source": [
    "# Works with singletons as well\n",
    "Set(y).nonmembership_object(x).definition()"
   ]
  },
  {
   "cell_type": "markdown",
   "metadata": {},
   "source": [
    "#### `nonmembership_object().conclude()`"
   ]
  },
  {
   "cell_type": "code",
   "execution_count": 197,
   "metadata": {},
   "outputs": [
    {
     "name": "stdout",
     "output_type": "stream",
     "text": [
      "Proof/Instantiation Failure: Proof step failed:\n",
      "Attempting to instantiate |- forall_{n in Natural} [forall_{x, y_{1}, y_{2}, ..., y_{n} | (x != y_{1}), (x != y_{2}), ..., (x != y_{n})} (x not-in {y_{1}, y_{2}, ..., y_{n}})] with {n: 3, x: A, y: (B, C, D)}:\n",
      "Unsatisfied condition: A != B. For debugging purposes, this is accessible via Instantiation.unsatisfied_condition with applicable assumptions in Instantiation.condition_assumptions.\n"
     ]
    }
   ],
   "source": [
    "# Will fail to conclude without suffient info. In particular,\n",
    "# needs to know the element in question is not equal to \n",
    "# any of the set elements\n",
    "try:\n",
    "    Set(B,C,D).nonmembership_object(A).conclude()\n",
    "    assert False, \"Should not make it to this point.\"\n",
    "except InstantiationFailure as the_error:\n",
    "    print(\"Proof/Instantiation Failure: {}\".format(the_error))"
   ]
  },
  {
   "cell_type": "code",
   "execution_count": 198,
   "metadata": {},
   "outputs": [
    {
     "data": {
      "text/html": [
       "<span style=\"font-size:20px;\"><a class=\"ProveItLink\" href=\"../__pv_it/demonstrations/27895aa3a719960e5a1e94e88ce5b4cb77e71d610/expr.ipynb\"><img src=\"data:image/png;base64,iVBORw0KGgoAAAANSUhEUgAAADsAAAAUCAMAAAAEAbViAAAAPFBMVEX///8AAAAAAAAAAAAAAAAA\n",
       "AAAAAAAAAAAAAAAAAAAAAAAAAAAAAAAAAAAAAAAAAAAAAAAAAAAAAAAAAAAo1xBWAAAAE3RSTlMA\n",
       "Is1UmauJMnZmRLsQ3e/n9enzhfMsDgAAAAlwSFlzAAAOxAAADsQBlSsOGwAAAPdJREFUOMulU9mS\n",
       "xCAI9ABvnd3h//91veKaaE2qMjwkhkA33YWMjeCC7QICuw9Bu6z2p0/riTCH8HrKStr2nmpKpAaG\n",
       "NP0AJL6hxUuCk6lvRzByiivSG9ornu1VtmMUOMMMyaXVXWnzrN2dNFChCLarf4uMJjdgHEO6TKlJ\n",
       "/YuPNV4/5Tlza/LGGBQTDVQX8J7WNENlGs3GA2Sf/VUtrN6lbu1hbGiWUbylZcdsw+YOH9NZ7++7\n",
       "qcZZrj3sdm00u19KsW5yl5sx2vLzg86fF0vCZudbrUsVN+TlrgdZDuojLY6LID9fK6nY4xDhcav9\n",
       "gjY+p2X6vuQPoWAISZWI+6oAAAAASUVORK5CYII=\n",
       "\" style=\"display:inline;vertical-align:middle;\" /></a>, <a class=\"ProveItLink\" href=\"../__pv_it/demonstrations/e37f617884aa142e08834e4c5a99f877e772f0390/expr.ipynb\"><img src=\"data:image/png;base64,iVBORw0KGgoAAAANSUhEUgAAADsAAAAUCAMAAAAEAbViAAAAPFBMVEX///8AAAAAAAAAAAAAAAAA\n",
       "AAAAAAAAAAAAAAAAAAAAAAAAAAAAAAAAAAAAAAAAAAAAAAAAAAAAAAAAAAAo1xBWAAAAE3RSTlMA\n",
       "Is1UmauJMnZmRLsQ3e/n9enzhfMsDgAAAAlwSFlzAAAOxAAADsQBlSsOGwAAAPFJREFUOMulk9kS\n",
       "gzAIRUlC9qUL//+vNVazKFNnLA9qInDgkgA0ExI4wwTXJonbtfGwkVzUWnsQpu8pYmOjndeuuFqI\n",
       "wuyH2jQJBqtnaMxbLhy8jTBkGeycT5a9+1C6UA4cqVNomLGmu1jsFdeG/Vm/CSso9+pbkWHJZ6kr\n",
       "h3m1x7M+dcc6bohrVv0bC5lT00XERefjKAPO6zJMMbVxr6+hGxa7cPtpsEPF9VeZ+329v123VoaZ\n",
       "7tIEzx9KeTzJomlltl9ix8VZCoUnXbYxhi00RaIVoOqH+YWt3rhcBAxX10oZuG0y3Q71f2DzfSzY\n",
       "a5cPfwQHaaBpM6UAAAAASUVORK5CYII=\n",
       "\" style=\"display:inline;vertical-align:middle;\" /></a>, <a class=\"ProveItLink\" href=\"../__pv_it/demonstrations/589b01a9b098d328ccd1b13f7ab71f090ed0afcb0/expr.ipynb\"><img src=\"data:image/png;base64,iVBORw0KGgoAAAANSUhEUgAAADwAAAAUCAMAAADm3a4bAAAAPFBMVEX///8AAAAAAAAAAAAAAAAA\n",
       "AAAAAAAAAAAAAAAAAAAAAAAAAAAAAAAAAAAAAAAAAAAAAAAAAAAAAAAAAAAo1xBWAAAAE3RSTlMA\n",
       "Is1UmauJMnZmRLsQ3e/n9enzhfMsDgAAAAlwSFlzAAAOxAAADsQBlSsOGwAAAO5JREFUOMulU9sS\n",
       "hCAIxRRL0fbC///raqmV2TpTPDRByLmEACXEAM1QDvoxcLM80j6biJkQiVDsy5Lbh2k85rwSNCz3\n",
       "7JBFCxirnKfUP29FLTSPLeBq4pS7LJvi1hTK8nzWYj0sixOsC+ko2jRcrKUwFf55rpUx0zsH/BKv\n",
       "d3xiQ3JwTG/AgQf2gYtkQLb57ykV3KaTYgVXkoGT226lwr4LvEk22aE038+V5s93VY5nyW5OU6y5\n",
       "2M/htNVFMqWLIOai58hSqqv9t3795MKmLwgyvui/wBhaMN4KJXq3TGq4H4O7f9Y8AfYPgGHst/wA\n",
       "PbcIXvX+7qgAAAAASUVORK5CYII=\n",
       "\" style=\"display:inline;vertical-align:middle;\" /></a> <a class=\"ProveItLink\" href=\"../__pv_it/demonstrations/353803c7acdae5a40a16158959c7ff27526ea4f00/proof.ipynb\" style=\"text-decoration: none\">&nbsp;&#x22A2;&nbsp;&nbsp;</a><a class=\"ProveItLink\" href=\"../__pv_it/demonstrations/09697c2df6dc8933b91bdb0d00e4282514cec7070/expr.ipynb\"><img src=\"data:image/png;base64,iVBORw0KGgoAAAANSUhEUgAAAIAAAAAVCAMAAAC5SxYJAAAAP1BMVEX///8AAAAAAAAAAAAAAAAA\n",
       "AAAAAAAAAAAAAAAAAAAAAAAAAAAAAAAAAAAAAAAAAAAAAAAAAAAAAAAAAAAAAADFBd4eAAAAFHRS\n",
       "TlMAIs1UmauJMnZmRLsQ3e/p8+P3nUghfzAAAAAJcEhZcwAADsQAAA7EAZUrDhsAAAIkSURBVEjH\n",
       "rVZZltwgDGQ3IGCSie5/1mCbxQiYxO81H21bgCiVSqIZ+3lw8h28Zx8ZXPLJJBbrRBg+rfDhMwDY\n",
       "oYG4ErhaNXxKrHscIOo8BBzTpmAhzzjGzYA978h2AF1DB+p8AUCNhJvY3xNcD40UgU32hClVdOME\n",
       "3hQ7lLO38yyNU1bYuOS5haO9nh7VGD7EgkgRf0fZwVRaATDckFgsxK9fUWwAuLLaVbc1kalmySfC\n",
       "TPXv0c0AuM0L5MPgRSZSH1sGNNYDhzhNd3KM1DDARp6ZAahTBO5ZEjmQQOviseWWQNBxwMixrwgE\n",
       "PULLhZ4AeHnaH6oVZ1zOUk2KnlCw1mpBdGbQbsuuTblykE0DARn9oyzEogkwnlxP6MW8TCOCuBAy\n",
       "lUDOni90ya43pXIVQIebYoy/v/NPt3EtelFCVfKo3PQo5bCRAMMaedBCls5xTzzyd55rJCFR9d5V\n",
       "2SJFEDsAuZOAa1ozNaIi15jGBhAnGlvvOqqTSiebat9sJBAS0L7q3dyLrWVeTQCabosEslsx0M0b\n",
       "ISaMaWgSgCZkk6q0WpYeChJSH3sAIpVec+s0oGhRXdF4Q+w1Oh8V8RbyHXF5kedL5y3o7/niKwB0\n",
       "u4mqSmKsa4PKN067Qqq97ABQfH2zLIb7YyBXwa4VkyHDO/t/ABDhzRbz0v5vABxWzSRtVgf7zk76\n",
       "6hKeXKFCuWlz7J39rkf3EwC95kVp+aH/hOb29BcgOhO3nRBB7wAAAABJRU5ErkJggg==\n",
       "\" style=\"display:inline;vertical-align:middle;\" /></a></span>"
      ],
      "text/plain": [
       "{A != B, A != C, A != D} |- A not-in {B, C, D}"
      ]
     },
     "metadata": {},
     "output_type": "display_data"
    }
   ],
   "source": [
    "# But given sufficient information, conclude() method works just fine\n",
    "Set(B,C,D).nonmembership_object(A).conclude(\n",
    "        assumptions=[NotEquals(A, B), NotEquals(A, C), NotEquals(A, D)])"
   ]
  },
  {
   "cell_type": "code",
   "execution_count": 199,
   "metadata": {},
   "outputs": [
    {
     "data": {
      "text/html": [
       "<span style=\"font-size:20px;\"> <a class=\"ProveItLink\" href=\"../__pv_it/demonstrations/1561faba55c4c227758d21d737a076c414e90b7d0/proof.ipynb\" style=\"text-decoration: none\">&nbsp;&#x22A2;&nbsp;&nbsp;</a><a class=\"ProveItLink\" href=\"../__pv_it/demonstrations/e9459042cbca08526f075e2ecffbd7938d0f5d630/expr.ipynb\"><img src=\"data:image/png;base64,iVBORw0KGgoAAAANSUhEUgAAAGgAAAAVCAMAAACdfluMAAAAP1BMVEX///8AAAAAAAAAAAAAAAAA\n",
       "AAAAAAAAAAAAAAAAAAAAAAAAAAAAAAAAAAAAAAAAAAAAAAAAAAAAAAAAAAAAAADFBd4eAAAAFHRS\n",
       "TlMAMpndq3ZmzYkiRO+7EFTp8+P3nWR1Q7oAAAAJcEhZcwAADsQAAA7EAZUrDhsAAAG1SURBVEjH\n",
       "nZbZcsMgDEVZBGJvm+r/v7UG24lY4nqih2RQJA5cJE2EeGu+X+YQxAfmi/8vBDNfGQz5E5CQkFii\n",
       "VIsAvir0jJZ6IHqlMMnB55xKhwSJ7aRhAqlOKacPAUEh9SCf6u/UhWfVDle63KrLAqTFClSDBxC0\n",
       "R4ixE7oyMuGQKy32IJP017fGe6DY1kD80UOsF5xATnSggCYLkLdv1H4CkqMmhWyfa3wH8rXcMoq7\n",
       "oENpGj1B2z7Xb2sOwqqBNUNp4DVI0pAgDZyimHgKN4DmJhI+2mvQopqeVef3b+t7kIxa65/H9pGe\n",
       "GMAgLkEqrXo1HpEZsAjfrsxAubVF6XVQrLsXIDveRzbV0tlI9ZwBqlEExxtIj1ux7p5BpeZ6Xt7U\n",
       "Yg4QmyoisiMZI8I0kRZV95pJ7YwmM9e+3yGdY71MXGMsIC9Abm/Ns++F16qaZi5h7aqPtqckgld5\n",
       "ZnhMk/oZDBAJoe6gj+GqqRky1/YiG/ocqk6/m+z216Wt6t6MoNfT5DuuKxDmW8HulusC5BdNYeLk\n",
       "yuaOq58qwwnKAk6Tc7HpkpPZVOkNltdUUD76z+D2vD8+5A88xTv4MAAAAABJRU5ErkJggg==\n",
       "\" style=\"display:inline;vertical-align:middle;\" /></a></span>"
      ],
      "text/plain": [
       "|- 4 not-in {1, 2, 3}"
      ]
     },
     "metadata": {},
     "output_type": "display_data"
    }
   ],
   "source": [
    "# Works easily with literals\n",
    "Set(one, two, three).nonmembership_object(four).conclude()"
   ]
  },
  {
   "cell_type": "code",
   "execution_count": 200,
   "metadata": {},
   "outputs": [
    {
     "data": {
      "text/html": [
       "<span style=\"font-size:20px;\"><a class=\"ProveItLink\" href=\"../../../equality/__pv_it/theorems/73829d3be05f2b12292db7642d7f9d4a94d650a00/expr.ipynb\"><img src=\"data:image/png;base64,iVBORw0KGgoAAAANSUhEUgAAADMAAAAUCAMAAAAX1vWWAAAAPFBMVEX///8AAAAAAAAAAAAAAAAA\n",
       "AAAAAAAAAAAAAAAAAAAAAAAAAAAAAAAAAAAAAAAAAAAAAAAAAAAAAAAAAAAo1xBWAAAAE3RSTlMA\n",
       "EHarMolUmd1mIs3vRLvn9enz6YVhIgAAAAlwSFlzAAAOxAAADsQBlSsOGwAAANVJREFUOMudU1kW\n",
       "wyAIZFHQbF1y/7tWTNPWRtNn+UATgWFGBDg1Reg1t3SnwOL6YfgPmKE7ZW7DIBGj816+D8ahDNNo\n",
       "Sy6kAMQEGl4Ch2yXq/kXlgeZ0hJXc4NtEDiewjjZqrLJb3LqWGGjJQOAieDp4HPThLEiqRlwq9u/\n",
       "0jliwed231i9tcvNkHHCZQaeMscS5jBpC+9OVoeacuZSatHjvLJ1lPVWohQR5RdMuhlPurZHQ3z9\n",
       "vx/bY1OBsXCcpJkSKzAh3Qf7NkyoPE+JpPPZwzmd9wfDxQU5d0E62gAAAABJRU5ErkJggg==\n",
       "\" style=\"display:inline;vertical-align:middle;\" /></a> <a class=\"ProveItLink\" href=\"../__pv_it/demonstrations/14b497a9df0c39b351d249a71a0f30dc677a2b6e0/proof.ipynb\" style=\"text-decoration: none\">&nbsp;&#x22A2;&nbsp;&nbsp;</a><a class=\"ProveItLink\" href=\"../__pv_it/theorems/8ce9caef0e365749cc1b75744e4e33f40e669a520/expr.ipynb\"><img src=\"data:image/png;base64,iVBORw0KGgoAAAANSUhEUgAAAEQAAAAVCAMAAADIH7jSAAAAP1BMVEX///8AAAAAAAAAAAAAAAAA\n",
       "AAAAAAAAAAAAAAAAAAAAAAAAAAAAAAAAAAAAAAAAAAAAAAAAAAAAAAAAAAAAAADFBd4eAAAAFHRS\n",
       "TlMAEHarMolUmd1mIs3vRLvp8+P3nXqVZZ4AAAAJcEhZcwAADsQAAA7EAZUrDhsAAAFHSURBVDjL\n",
       "pZTtesQQEIWNwfhuu3X/11rCJlia9lk/khjyOmYOjP3S7NiFEKZxZdltc9D3uAswTRAY4YYhsO+p\n",
       "tJof8QZCg3qpV3PW0a5p9iaER/3xqd07kOA4MBT/UAKcIwgp1VW6UhZwu+lkyguHKGXxyBldK7lS\n",
       "fsOnNDeoZMqX4VS37Y+XsSWS1ZsL8moSZn0dF6ouh7GG07EB0a3S/OG11l+P/IgnAl2rd0b7otE3\n",
       "oYCu5cEP0qH826XoANPpzVBcJ1JLu3zSQ8pbAhgMorfePGS3XDQfQwwM/ZGwyyScBdo64qA9kdJX\n",
       "lADKX6GX79Rkkh5CWLSbPgqU11VkhhQAPl5O7AkBlJySvbe9+ZYxV2dre+n+cHYcbA1e/gev7iE2\n",
       "Lo5kq4fOdkA5+3h1rNQCXL3JlOHXRQPebCHL68oSTmwra+QH778I3eQpdo0AAAAASUVORK5CYII=\n",
       "\" style=\"display:inline;vertical-align:middle;\" /></a></span>"
      ],
      "text/plain": [
       "{x != y} |- x not-in {y}"
      ]
     },
     "metadata": {},
     "output_type": "display_data"
    }
   ],
   "source": [
    "# A singleton example -- requires explicit assumptions\n",
    "Set(y).nonmembership_object(x).conclude(assumptions=[NotEquals(x, y)])"
   ]
  },
  {
   "cell_type": "code",
   "execution_count": 201,
   "metadata": {},
   "outputs": [
    {
     "data": {
      "text/html": [
       "<span style=\"font-size:20px;\"> <a class=\"ProveItLink\" href=\"../__pv_it/demonstrations/72bf0f60730fac76d23e1c8ab81237dd70ceb7600/proof.ipynb\" style=\"text-decoration: none\">&nbsp;&#x22A2;&nbsp;&nbsp;</a><a class=\"ProveItLink\" href=\"../__pv_it/demonstrations/d9bb60468686f30c51b7cb1ffe8b4008621da4110/expr.ipynb\"><img src=\"data:image/png;base64,iVBORw0KGgoAAAANSUhEUgAAAIwAAAAVCAMAAACjd/aHAAAAP1BMVEX///8AAAAAAAAAAAAAAAAA\n",
       "AAAAAAAAAAAAAAAAAAAAAAAAAAAAAAAAAAAAAAAAAAAAAAAAAAAAAAAAAAAAAADFBd4eAAAAFHRS\n",
       "TlMAMpndq3ZmzYkiRO+7EFTp8+P3nWR1Q7oAAAAJcEhZcwAADsQAAA7EAZUrDhsAAAG0SURBVEjH\n",
       "vZZZcsMgDEAFiH1pm3L/szZ4iVlNJonLhz3IknhIRgJgOHQ198bANUMHPVORvphyafxFMEDQZb4J\n",
       "7SgU0xB3dcJaqJ5sqqKVom6LtstWY9gY0zIpiq25Qipj5bUng7mKp8seQ+5+SUEHhkEPJil3Fm5l\n",
       "RsxUeOLwUVbuiZAlDHfs65vJd2ACn6kYm2LfwCgoYIzkHpC8F5k5zPYritI91wWMTsfIS/gPGMNE\n",
       "6V7f5zmMTIde1L6o/DwM4bgngNs9SRVMp8iAtuKiNK2nSa9voUsYYhljP7f7wx0oKA08C0NZGtYu\n",
       "L5zAgN3EHmUAvewgg/GJQYUqoPQokZ+KDFky5PZCk7ZrMI1oUeUFhjXLHSXyUzBxEWwwIftqs3+G\n",
       "czBtd2hPk38NxpdrbmlSNqN0eYcMdZEpq1JceuxeO3PZGUxjJkSvzgB1MSLPGsmtbdC7NqKNEpMH\n",
       "9uh8h2wI0zMzlD4apWKjtiZ+lbufhEE7ONY7a45NZM7NxjDSP6Wtzvp00yjPzYYw2nWE3DbXAv7S\n",
       "RapvRuUIPfQIYy19jaVv5u0okNiPF8Vw1R1Yra7/ANbNEpe5rbmIAAAAAElFTkSuQmCC\n",
       "\" style=\"display:inline;vertical-align:middle;\" /></a></span>"
      ],
      "text/plain": [
       "|- 4 not-in {1, 1 + 1, 3}"
      ]
     },
     "metadata": {},
     "output_type": "display_data"
    }
   ],
   "source": [
    "# The conclude does not automatically simplify the expressions in the list\n",
    "Set(one, Add(one, one), three).nonmembership_object(four).conclude()"
   ]
  },
  {
   "cell_type": "code",
   "execution_count": 202,
   "metadata": {},
   "outputs": [
    {
     "name": "stdout",
     "output_type": "stream",
     "text": [
      "InstantiationFailure: Proof step failed:\n",
      "Attempting to instantiate |- forall_{n in Natural} [forall_{x, y_{1}, y_{2}, ..., y_{n} | (x != y_{1}), (x != y_{2}), ..., (x != y_{n})} (x not-in {y_{1}, y_{2}, ..., y_{n}})] with {n: 3, x: 2, y: (1, 1 + 1, 3)}:\n",
      "Unsatisfied condition: 2 != (1 + 1). For debugging purposes, this is accessible via Instantiation.unsatisfied_condition with applicable assumptions in Instantiation.condition_assumptions.\n"
     ]
    }
   ],
   "source": [
    "# # The conclude does not automatically simplify the expressions in the list\n",
    "# but can still check for equalities --- in this case, the nonmembership\n",
    "# is false (since 2 = 1 + 1), and thus the conclude() should fail because\n",
    "# the value 2 is in {1, 1+1, 3}\n",
    "try:\n",
    "    Set(one, Add(one, one), three).nonmembership_object(two).conclude()\n",
    "    assert False, \"Expecting a ProofFailure (InstantiationFailure); should not make it this far!\"\n",
    "except InstantiationFailure as the_error:\n",
    "    print(\"InstantiationFailure: {}\".format(the_error))"
   ]
  },
  {
   "cell_type": "markdown",
   "metadata": {},
   "source": [
    "#### `nonmembership_object().unfold()`"
   ]
  },
  {
   "cell_type": "code",
   "execution_count": 203,
   "metadata": {},
   "outputs": [
    {
     "data": {
      "text/html": [
       "<span style=\"font-size:20px;\"><a class=\"ProveItLink\" href=\"../__pv_it/demonstrations/09697c2df6dc8933b91bdb0d00e4282514cec7070/expr.ipynb\"><img src=\"data:image/png;base64,iVBORw0KGgoAAAANSUhEUgAAAIAAAAAVCAMAAAC5SxYJAAAAP1BMVEX///8AAAAAAAAAAAAAAAAA\n",
       "AAAAAAAAAAAAAAAAAAAAAAAAAAAAAAAAAAAAAAAAAAAAAAAAAAAAAAAAAAAAAADFBd4eAAAAFHRS\n",
       "TlMAIs1UmauJMnZmRLsQ3e/p8+P3nUghfzAAAAAJcEhZcwAADsQAAA7EAZUrDhsAAAIkSURBVEjH\n",
       "rVZZltwgDGQ3IGCSie5/1mCbxQiYxO81H21bgCiVSqIZ+3lw8h28Zx8ZXPLJJBbrRBg+rfDhMwDY\n",
       "oYG4ErhaNXxKrHscIOo8BBzTpmAhzzjGzYA978h2AF1DB+p8AUCNhJvY3xNcD40UgU32hClVdOME\n",
       "3hQ7lLO38yyNU1bYuOS5haO9nh7VGD7EgkgRf0fZwVRaATDckFgsxK9fUWwAuLLaVbc1kalmySfC\n",
       "TPXv0c0AuM0L5MPgRSZSH1sGNNYDhzhNd3KM1DDARp6ZAahTBO5ZEjmQQOviseWWQNBxwMixrwgE\n",
       "PULLhZ4AeHnaH6oVZ1zOUk2KnlCw1mpBdGbQbsuuTblykE0DARn9oyzEogkwnlxP6MW8TCOCuBAy\n",
       "lUDOni90ya43pXIVQIebYoy/v/NPt3EtelFCVfKo3PQo5bCRAMMaedBCls5xTzzyd55rJCFR9d5V\n",
       "2SJFEDsAuZOAa1ozNaIi15jGBhAnGlvvOqqTSiebat9sJBAS0L7q3dyLrWVeTQCabosEslsx0M0b\n",
       "ISaMaWgSgCZkk6q0WpYeChJSH3sAIpVec+s0oGhRXdF4Q+w1Oh8V8RbyHXF5kedL5y3o7/niKwB0\n",
       "u4mqSmKsa4PKN067Qqq97ABQfH2zLIb7YyBXwa4VkyHDO/t/ABDhzRbz0v5vABxWzSRtVgf7zk76\n",
       "6hKeXKFCuWlz7J39rkf3EwC95kVp+aH/hOb29BcgOhO3nRBB7wAAAABJRU5ErkJggg==\n",
       "\" style=\"display:inline;vertical-align:middle;\" /></a> <a class=\"ProveItLink\" href=\"../__pv_it/demonstrations/820afa1b37ad840b80c8a240295d12d078781eeb0/proof.ipynb\" style=\"text-decoration: none\">&nbsp;&#x22A2;&nbsp;&nbsp;</a><a class=\"ProveItLink\" href=\"../__pv_it/demonstrations/49536e4f72dbd985212d75eed6add310ea86ff910/expr.ipynb\"><img src=\"data:image/png;base64,iVBORw0KGgoAAAANSUhEUgAAAQ8AAAAVCAMAAABvy5tFAAAAPFBMVEX///8AAAAAAAAAAAAAAAAA\n",
       "AAAAAAAAAAAAAAAAAAAAAAAAAAAAAAAAAAAAAAAAAAAAAAAAAAAAAAAAAAAo1xBWAAAAE3RSTlMA\n",
       "InZUiRDNmWbv3US7qzLn9enz+YF6hwAAAAlwSFlzAAAOxAAADsQBlSsOGwAAAqhJREFUWMPVmNmW\n",
       "pCAMhhWEsPdM8/7vOihbUEttWs8cuahTZcV8EJKfZRhCG4dftfEmm/+LqO8Tip/yfWtgHx1pcsp6\n",
       "AaIw6ISfcr9r7Az+JYz3NjRu3NIVcdLXDkRojJjAEMM4PYMgYRSBYIyNqREZrAkl9fue4sBrk9Gz\n",
       "9ctzvgr7RNuBdSGIJLNbCko8hfDxLeGjs4UBTeTB+r06dHZVaz4ml/awOIS2c6pN1x4EMyp1Hhbz\n",
       "BxCDS6MYQA5lGLKJ+jh5txfYlXuRrETyKJvZI8LqJpk6ELy41PIhxECylfYiMyiO80iCDd2RmlVg\n",
       "Q53kXkcEb6ZHtYXag5iqjYNnECE+vqT7lBmAdQjm0ttRLr7OvigfzOacnuxK2vAbHYjRq1oa7hHE\n",
       "LB+mFI7NDBx2Tee/kGtQS/v6M39aXHiGEGLru4KvuBSVewdi8psF9m4Eko9Q9lNmKNoENsyMPQ8s\n",
       "iXJFZe4GlWvVUrXcOxBqq4d3I5B8hPLXmSE1Wo8BgjKbTd3BRphknkaXQ420Je5J6gR3ICTyx55B\n",
       "IPkYvCyM6olF96hyPwV2yNHPy0teA9BOgKmdzl5GqDp46p5BIPkQWW0Co2Zaip+Sq8r7+x3rz6LC\n",
       "E22eDVRtNkpAt8l8GQG1XrIQ3I2o8sGkqQyTk06LD1tdvtnzJ/kIHnnZwKOVcH2E6ECMReom9hCi\n",
       "yofh9RxSlrFRlqpqE4vCVplkyq4CqeudIJvNcQ8iLZi6hON+RAqZVoCXbafi7tj7ZXB0/jIdBtaW\n",
       "w1wVdVXq1xZzl7v9c8RsDuGoBWgPejMijcIYGFuGcj84N366OlCHf78EERkCDm04u+AIjk/jL0Ek\n",
       "hjm6WBKX5s6cGLwCkRnsCKWuBNacXdW9AlEY48FlnLvgh5zfXL4AERn/AENgIhFwERXVAAAAAElF\n",
       "TkSuQmCC\n",
       "\" style=\"display:inline;vertical-align:middle;\" /></a></span>"
      ],
      "text/plain": [
       "{A not-in {B, C, D}} |- (A != B) and (A != C) and (A != D)"
      ]
     },
     "metadata": {},
     "output_type": "display_data"
    }
   ],
   "source": [
    "Set(B,C,D).nonmembership_object(A).unfold(assumptions=[NotInSet(A, Set(B, C, D))])"
   ]
  },
  {
   "cell_type": "code",
   "execution_count": 204,
   "metadata": {},
   "outputs": [
    {
     "data": {
      "text/html": [
       "<span style=\"font-size:20px;\"><a class=\"ProveItLink\" href=\"../__pv_it/demonstrations/0350a635991caac09f378330d979c7a2cbf46c290/expr.ipynb\"><img src=\"data:image/png;base64,iVBORw0KGgoAAAANSUhEUgAAAFoAAAAVCAMAAADxeAmJAAAARVBMVEX///8AAAAAAAAAAAAAAAAA\n",
       "AAAAAAAAAAAAAAAAAAAAAAAAAAAAAAAAAAAAAAAAAAAAAAAAAAAAAAAAAAAAAAAAAAAAAAAeYafp\n",
       "AAAAFnRSTlMAIs1UmauJMnZmRLsQ3e/p8+P355HBg3qkewAAAAlwSFlzAAAOxAAADsQBlSsOGwAA\n",
       "AYhJREFUOMuVVdeChCAMJJEmba/m/z/1KLIUWd3jSeLMkISJMnazYNw6Y24ZG5xCuAKi63cajbuT\n",
       "ZkrYCYS0hPW7jSpH+fkI4BytKs92YEXaSpoP9UtfuiI40iQNNr0n0+OeIoLgLD1iGkXP0iKTQ1hI\n",
       "S5CkBrC23j8+8E3pkANHeoM06IjeuoBBHbFCvZ11fiVKeoM0T83ee7skqptMcyF99I9ODTExYUWy\n",
       "s0subNfTpeK1tKJC0GFImgF1lsGFqRmE/VraHwrQeqst59Ehth0ffFyfX963GAhsTlxK8yfYCSzi\n",
       "rpRBrUMug+Q2lsvblK2k91a1rFnwo5ww+dnP5DZlC+ktXRXAMLVmP0+6joUYPrPPDmkHqGwCnQMy\n",
       "1MupOfXjGHs1mXqQlgXrqHoGPE/LdzhnibIRtvTQ7OeE/XavpIUIhCIV6+tnylNeuPqGnNbPb5x0\n",
       "/2LQW4dXJryTRvcORbL/S4M9x/opY71v2aupXa7J1POU1cNWVBf2S2mxLIWL7fbfKAvmD28nDg0r\n",
       "xqpkAAAAAElFTkSuQmCC\n",
       "\" style=\"display:inline;vertical-align:middle;\" /></a> <a class=\"ProveItLink\" href=\"../__pv_it/demonstrations/7b8c0fa72a45d3252f8aad46d29183432b7b9d550/proof.ipynb\" style=\"text-decoration: none\">&nbsp;&#x22A2;&nbsp;&nbsp;</a><a class=\"ProveItLink\" href=\"../__pv_it/demonstrations/f26661cf3f67381298bd9e77203db09ab334bd420/expr.ipynb\"><img src=\"data:image/png;base64,iVBORw0KGgoAAAANSUhEUgAAAJ8AAAAVCAMAAABv7sxsAAAAPFBMVEX///8AAAAAAAAAAAAAAAAA\n",
       "AAAAAAAAAAAAAAAAAAAAAAAAAAAAAAAAAAAAAAAAAAAAAAAAAAAAAAAAAAAo1xBWAAAAE3RSTlMA\n",
       "InZUiRDNmWbv3US7qzLn9enz+YF6hwAAAAlwSFlzAAAOxAAADsQBlSsOGwAAAeBJREFUSMetl+u6\n",
       "hRAQhkMME/bB/d/rFuWUamXnR0+19JqPz5g1Tb6RabCRl/pcf0hZ+Vb0ewPvvFzo7Sj/h7O5fCtc\n",
       "l2B1/YiRSOVNeM/hBEBom+G80sRcHxG/iI0bEG5TLBrlM6sen8PJGuvslgSHagrAuJ5hrGlWbY9P\n",
       "Qh0P1iv4HG5CD6USXFXyyexsTyE5iW9S1QRSaZby+TlcBfImxMNZKZhQPzLrWNVMZ/GJaoaw9tIA\n",
       "3GC4RiEeDqWBYfVIx/KCnMY3m2Y3lH3H4KtOt8NL/YtXZ13BBAzt63u9mm58UjRDscKRY/C1H93h\n",
       "yCqFE3HmA4U5PqZao2N25Bjcf2cSXGU/Uw3gt5g+GASm8/hskTJMTFs5aY/BJ9AZnhE8ch1+oDDH\n",
       "t6g22XHsxPcELtMke3hegk0IqsYiP7/RKH3/MTzkZmDH9X0AD0cOIRtc76uxyJMzSHQOx2J/6CK5\n",
       "tKfsCNyGLUT5Bt/zA9mV6SbHs45B/AFEDilE0sN5NQAnCGvDHW7DHdfOBSlsvZlvps8Y5YSJU4LJ\n",
       "YiZ1tDSVEY/h6EITCY72QQFyLNLw8ucX4BIu+/Tcd1oAHLfiC3B9VeHKG4X6pv57Ac6vxkA+Pvxb\n",
       "cHJRpV/7h97/ufgn/A96NhN8c7SmkQAAAABJRU5ErkJggg==\n",
       "\" style=\"display:inline;vertical-align:middle;\" /></a></span>"
      ],
      "text/plain": [
       "{A not-in {1, 2}} |- (A != 1) and (A != 2)"
      ]
     },
     "metadata": {},
     "output_type": "display_data"
    }
   ],
   "source": [
    "Set(one, two).nonmembership_object(A).unfold(assumptions=[NotInSet(A, Set(one, two))])"
   ]
  },
  {
   "cell_type": "code",
   "execution_count": 205,
   "metadata": {},
   "outputs": [
    {
     "data": {
      "text/html": [
       "<span style=\"font-size:20px;\"> <a class=\"ProveItLink\" href=\"../__pv_it/demonstrations/7d9d327e96021e244cb5c8ca3f96bb7f5bf424260/proof.ipynb\" style=\"text-decoration: none\">&nbsp;&#x22A2;&nbsp;&nbsp;</a><a class=\"ProveItLink\" href=\"../__pv_it/demonstrations/5561ab397b5a99420c4bd969d83901a59cd808030/expr.ipynb\"><img src=\"data:image/png;base64,iVBORw0KGgoAAAANSUhEUgAAAOsAAAAVCAMAAACQTOmOAAAAPFBMVEX///8AAAAAAAAAAAAAAAAA\n",
       "AAAAAAAAAAAAAAAAAAAAAAAAAAAAAAAAAAAAAAAAAAAAAAAAAAAAAAAAAAAo1xBWAAAAE3RSTlMA\n",
       "InZUiRDNmWbv3US7qzLn9enz+YF6hwAAAAlwSFlzAAAOxAAADsQBlSsOGwAAAm9JREFUWMO92NmW\n",
       "nCAQAFAB2ZdJwv//awQUWQoxbRseek7bcIcq2XRZtoKWfy7oS3X+k5ubYHJZj1PgosZTf8K+5V6y\n",
       "ZD2uOA5Uc6b+qpKFxaRLE7Z2EefMuG+4Nbuu3OiTpSz/pCzQOHUhFWo583veWJO/tU73jK1cFDq4\n",
       "ev0Ft+puSAbxJLM8JxJDjV1zDR+xijqrVLF6KF2ztWvjfJLyuVuxOIRJPcuszNUEAxobNIh1kdUN\n",
       "wMLq8vuErV0ZUevRY7ditQxNU6yBJTlt6wI01u2lM1ZWzSxVz5QJ27hWxU/vnrq6v0S8OLrLj6mO\n",
       "EdSYoWGsq21WjLLuhO3dEJZ/7PasViJ398gi2v4WjbmK5edX+LRgrII1/4QUM23Ajt1tUHr8sTti\n",
       "HbbW5e4qcgyJBUhUn6czViLbJUGdM+2ahW+rfexC7L4OB1ammS8Q1Fj3O9gZq/PFhEt743kQuGQh\n",
       "d+HmsavBjTwtfIFNjVHUusZAns5YtWw3PaqaPg1YyBV2eey2rIuZMunGbmwaFNqG4qVdywnw+0+a\n",
       "BvB8Jarb7zmpx1rHDt14GkLoUxdmfezrHuvGmuIAKptEMeBoWaxNptgY9hUjLytXLOC62GlMH7kd\n",
       "myrsY3hjyxXe10dfAg3/1aN2+V8E7k5oFyzgIsVDUY/cnhWi2F831qlzcfDe4uvbaq30zKbGKp9n\n",
       "LD3X+PyIMGQBV/lY2CMX6K7eEmh2LrDKTR8o4EdCdfnzkH3LvcMKPvgVmq3gIRwsQ/Yt9xZr4Od8\n",
       "McmTmTxnDti33HsshXVFPwrl3BsHnX7Jvcki8L2Hu34RMn/pA7NvuTfYv4ghHHGFpm9HAAAAAElF\n",
       "TkSuQmCC\n",
       "\" style=\"display:inline;vertical-align:middle;\" /></a></span>"
      ],
      "text/plain": [
       "|- (4 != 1) and (4 != 2) and (4 != 3)"
      ]
     },
     "metadata": {},
     "output_type": "display_data"
    }
   ],
   "source": [
    "Set(one, two, three).nonmembership_object(four).unfold()"
   ]
  },
  {
   "cell_type": "code",
   "execution_count": 206,
   "metadata": {},
   "outputs": [
    {
     "name": "stdout",
     "output_type": "stream",
     "text": [
      "Proof/Instantiation Failure: Proof step failed:\n",
      "Attempting to instantiate |- forall_{n in Natural} [forall_{x, y_{1}, y_{2}, ..., y_{n} | x not-in {y_{1}, y_{2}, ..., y_{n}}} ((x != y_{1}) and  (x != y_{2}) and  ... and  (x != y_{n}))] with {n: 4, x: 4, y: (1, 2, 3, 4)}:\n",
      "Unsatisfied condition: 4 not-in {1, 2, 3, 4}. For debugging purposes, this is accessible via Instantiation.unsatisfied_condition with applicable assumptions in Instantiation.condition_assumptions.\n"
     ]
    }
   ],
   "source": [
    "# Will fail to conclude if non-membership is simply known to be False.\n",
    "try:\n",
    "    Set(one, two, three, four).nonmembership_object(four).unfold()\n",
    "    assert False, \"Should not make it to this point.\"\n",
    "except InstantiationFailure as the_error:\n",
    "    print(\"Proof/Instantiation Failure: {}\".format(the_error))"
   ]
  },
  {
   "cell_type": "code",
   "execution_count": 207,
   "metadata": {},
   "outputs": [
    {
     "name": "stdout",
     "output_type": "stream",
     "text": [
      "Proof/Instantiation Failure: Proof step failed:\n",
      "Attempting to instantiate |- forall_{n in Natural} [forall_{x, y_{1}, y_{2}, ..., y_{n} | x not-in {y_{1}, y_{2}, ..., y_{n}}} ((x != y_{1}) and  (x != y_{2}) and  ... and  (x != y_{n}))] with {n: 3, x: D, y: (A, B, C)}:\n",
      "Unsatisfied condition: D not-in {A, B, C}. For debugging purposes, this is accessible via Instantiation.unsatisfied_condition with applicable assumptions in Instantiation.condition_assumptions.\n"
     ]
    }
   ],
   "source": [
    "# Will fail to conclude if non-membership is simply unknown to be True or not.\n",
    "try:\n",
    "    Set(A, B, C).nonmembership_object(D).unfold()\n",
    "    assert False, \"Should not make it to this point.\"\n",
    "except InstantiationFailure as the_error:\n",
    "    print(\"Proof/Instantiation Failure: {}\".format(the_error))"
   ]
  },
  {
   "cell_type": "markdown",
   "metadata": {},
   "source": [
    "#### `nonmembership_object().deduce_in_bool()`"
   ]
  },
  {
   "cell_type": "code",
   "execution_count": 208,
   "metadata": {},
   "outputs": [
    {
     "data": {
      "text/html": [
       "<span style=\"font-size:20px;\"> <a class=\"ProveItLink\" href=\"../__pv_it/demonstrations/44831fb19cfe555d01020b3c797ce42dd0ce28cc0/proof.ipynb\" style=\"text-decoration: none\">&nbsp;&#x22A2;&nbsp;&nbsp;</a><a class=\"ProveItLink\" href=\"../__pv_it/demonstrations/dc25e48aec8ebda9c3505216d35c2092ee2ce7b70/expr.ipynb\"><img src=\"data:image/png;base64,iVBORw0KGgoAAAANSUhEUgAAALcAAAAVCAMAAAAzZI9IAAAAP1BMVEX///8AAAAAAAAAAAAAAAAA\n",
       "AAAAAAAAAAAAAAAAAAAAAAAAAAAAAAAAAAAAAAAAAAAAAAAAAAAAAAAAAAAAAADFBd4eAAAAFHRS\n",
       "TlMAInZUiRDNmWbv3US7qzLp8+P3ndw5NuIAAAAJcEhZcwAADsQAAA7EAZUrDhsAAALZSURBVEjH\n",
       "rVdZltwgDGQTOySZcP+zBryBBLan84aPXgyqKglJYMbq4Ox1kCUQAvuRwSVfM3xjCPm+RgOy0AH9\n",
       "5/q/hecUd6gg3mR6F3XRzqc9ZlLtz20sJdWhY16gj/9kAeJVoQZPYCBinbGM78TxwBb2zcfYnOMa\n",
       "NuHQY+Xi9pXKxGVQWiiPZ2UpM8ktmHCiuS2NtxhNw7vuaqI4a9DmcpOXfatCMdQCC6W6TSpTdt6B\n",
       "QfSHI+YwutCs+ZZuK1nbIdf39giNLSjVRPS/fnt9r1txNe/QDRjT7oxqcBTN4YBX4jr0Qnd9Jvvz\n",
       "VE7oIXpB111N+SHeXDBRptJeglXTvjIbiqbHDN+IV/FO3NbCMIpkJCSfx04BqAQWuk1LcLtObwzW\n",
       "sqebQqZoKhHiRV2C8EkhH3OJQoiEnGa6RcuSFmVGP4Jspoo2oBVYC/fc7cSVqVYT4lm31654U13y\n",
       "176JvU6kG7n0otA5WmG2MCYqZgVW2eYCrsanBOkI8TJPhA1VkLs6XDzrZCiy7Gpl/PmqH/GiSTqg\n",
       "4jGm9pNIKRZgLXuGhnkFA5KWxyZh4m1Eqrt9qUH3GbOxA0CzUrjosokwnCG7LemMS7At3r3pXw6p\n",
       "MxDBYeJ1vFv3jj1P8llbqQTcuP1kn1CWtCWOpvcKrPfspnY+faW/OzGobs2iwBlZKcfUEoKF6Tjo\n",
       "HSBYdNADuwEDchpVjGut6nUZEfG9bil679Hu2CtchVqmfKubn5Rx0wmXywSsTxwdM3TZQxSMQsQr\n",
       "3XWFEqpGMu9W6boHkeWQvgKsdUO12XTJ9qNxeg9rsGOiGZl6qULXna7bB0QcA7mEuhj7fdDn50uB\n",
       "/asiPm6n+8lww4JPJ8bdI7BhIka6zCc37xfd6uOJAc28XmRx1jy+afBFQxLuZjGITyeG03fF9DTg\n",
       "cb1avAzxcvOGdKvuQTacR2r89E2NP70hpaWFSZL9yODqRBIfyf4Hdk4a7QaN9yMAAAAASUVORK5C\n",
       "YII=\n",
       "\" style=\"display:inline;vertical-align:middle;\" /></a></span>"
      ],
      "text/plain": [
       "|- (B not-in {A, B, C}) in BOOLEAN"
      ]
     },
     "metadata": {},
     "output_type": "display_data"
    }
   ],
   "source": [
    "Set(A, B, C).nonmembership_object(B).deduce_in_bool()"
   ]
  },
  {
   "cell_type": "code",
   "execution_count": 209,
   "metadata": {},
   "outputs": [
    {
     "data": {
      "text/html": [
       "<span style=\"font-size:20px;\"> <a class=\"ProveItLink\" href=\"../__pv_it/demonstrations/34302cb0bb1c1e9ffbd8103e0c585eb31c787c630/proof.ipynb\" style=\"text-decoration: none\">&nbsp;&#x22A2;&nbsp;&nbsp;</a><a class=\"ProveItLink\" href=\"../__pv_it/demonstrations/9d60b59f5dfdfcd92c6ed34c9a6d8c88a72d88180/expr.ipynb\"><img src=\"data:image/png;base64,iVBORw0KGgoAAAANSUhEUgAAAJ8AAAAVCAMAAABv7sxsAAAARVBMVEX///8AAAAAAAAAAAAAAAAA\n",
       "AAAAAAAAAAAAAAAAAAAAAAAAAAAAAAAAAAAAAAAAAAAAAAAAAAAAAAAAAAAAAAAAAAAAAAAeYafp\n",
       "AAAAFnRSTlMAInZUiRDNmWbv3US7qzLp8+P355HBP3RuygAAAAlwSFlzAAAOxAAADsQBlSsOGwAA\n",
       "ApFJREFUSMedl9eW4yAMQKkCRNnO/3/qAjE2RXYyw0vOyIAu6sNYWZw9rOWj9p59fXHJb+77YAn5\n",
       "9BX0tBe8/gYfSzEc57x4h4MuQAaH8WUJqc5LDHXx+JfMnS7hysmNgZBmkVImHPYO/SJh3z0m1Edw\n",
       "0A1QwynHuO81kzsVvpwcDeSFj4f6PY/btWlPkuPRzSM0X3mD4qxeaexlWIIPGcFXN698sQWWc6On\n",
       "KprOsBy15iM+K1nlOS9MFmY+ERB//IQP+VwTxDzEv3fVmhsfc3rTgwgEX5HJU67YxOdBlGti+th+\n",
       "7VPMaTGGzHblA7vpIewXuS2ZYXp2CD7x8RYlGtinfEc45EXg0a5Hmdr07PmhS7Sp4S28/I580Pxk\n",
       "l2Jg4Jkv5flAErF7QFyRaWHVs/EhuIymqEDZvbvwUanGnX3mIzKs5y/PZ5mVbtVD+VdYX9S7V0Gw\n",
       "fOZLrsbsr9+I4aKL4NkjnwmENnfs1BFkt/Kip66w8tUfdfDx5paBT7ftau4syQT9xGcX66Xm2tAL\n",
       "4Pk67xY9pP1q9QuHf32sK7uoprqH28n4wNcaER/iKbc9B9/VepjEu/q68gELQ0C74f2iyP1WSPf8\n",
       "vShTe1stFnq67/CvGvIjzHpu+aSYcj2Pxi7BEtM9n3oV4t4diuHQ1IWDzFq6/p017dBD8JUdSihT\n",
       "+/wV3DnH6zU6hj/6ji9GlyFWxdjnBMxtwSjzBbjPBwMfTk06Br+MSC6Ea37BdNcG//4Lc9+ZlJzB\n",
       "ROQxJbuO8uUSrzY9Y9KZzya/Oz5FnCRll6PeDlizt28mWk6kvnCrRBPxTcmu1kPd+7T0zX5FjNVD\n",
       "E+jE1ARMaTlbT/jqhM/piTuSe02U3/n/Q53HxJfw/gNKuhbsG2RongAAAABJRU5ErkJggg==\n",
       "\" style=\"display:inline;vertical-align:middle;\" /></a></span>"
      ],
      "text/plain": [
       "|- (4 not-in {1, 2, 3}) in BOOLEAN"
      ]
     },
     "metadata": {},
     "output_type": "display_data"
    }
   ],
   "source": [
    "Set(one, two, three).nonmembership_object(four).deduce_in_bool()"
   ]
  },
  {
   "cell_type": "code",
   "execution_count": 210,
   "metadata": {},
   "outputs": [
    {
     "data": {
      "text/html": [
       "<span style=\"font-size:20px;\"> <a class=\"ProveItLink\" href=\"../__pv_it/demonstrations/bcdb88169a4c0ec8b20c87c06ef1ba974ed0da110/proof.ipynb\" style=\"text-decoration: none\">&nbsp;&#x22A2;&nbsp;&nbsp;</a><a class=\"ProveItLink\" href=\"../__pv_it/demonstrations/7e5a83fd66269cb91f3276b6d422ff4e2eb9ecd40/expr.ipynb\"><img src=\"data:image/png;base64,iVBORw0KGgoAAAANSUhEUgAAAMIAAAAVCAMAAAAjBMGUAAAARVBMVEX///8AAAAAAAAAAAAAAAAA\n",
       "AAAAAAAAAAAAAAAAAAAAAAAAAAAAAAAAAAAAAAAAAAAAAAAAAAAAAAAAAAAAAAAAAAAAAAAeYafp\n",
       "AAAAFnRSTlMAInZUiRDNmWbv3US7qzLp8+P355HBP3RuygAAAAlwSFlzAAAOxAAADsQBlSsOGwAA\n",
       "ApVJREFUSMe9l9mC2yAMRVkFCHCXmfL/n1pwbMwi2zNpUl6SECHusQSSGcuDs4sx/Km9Z+8ZXPKT\n",
       "Pe+HkFf/gu5swes3IbAlhs23FzeK0QVI4DA+nqdU1Yeh/La/ZNoBFpxRqLlbG66UCVtkw76ZsDdu\n",
       "QsHkoFcGDXUe42xrurxR+MimaCANUqi5cRA22qxPRrbup9iTCJlS8fwla7RHeAgEZARCMSbkznPe\n",
       "3tmIol4nGNxb8xUEK1mR7GqILfQIIiD++An/giDFnY13JcwTAnN60oIIM0KeknVasQ7Bg8he4sLe\n",
       "i7AdMTsigJ20zFGI3OaDbPbDLHiHwNds1MD+A4JHO7pnatIyHWedM181tDx/tgiw3s12kGDg9QiL\n",
       "iHusRc1qZmHUMiIguIQme0O5p9GAQF0M3Nk3JdJDBU+1REk3aiESSVifFbrHpWl5j7C4cnx+/UYM\n",
       "B0AEz76KYMp6dKub9qYjEZjbZnWEDWJJg5YywoBQPtSGwNen1SDo1Vr1dXsxQb86CsuaQ2EvDPUh\n",
       "eTdooaJQqkLYEsnHMpKLqqsHOK2Mr0ZI6+8N4Sj+TOJZbRoQgIVmE9cGPM/7qb7MN5J+EkF3e26J\n",
       "pJrjHHotZwh5h/bySm3EclIORaFDUGm9Jva62s5dIozrrKXrQr3sNy0zQjZQQpnSdtVFIaUomn4m\n",
       "fOgzhBhdglj2xdq2HXPnCMQ6b0xt8xoE9F1vFboGWYAL4ehUcTnrQz7/hK6o93tUlVcNmTzvmql1\n",
       "h3s+bOTVpOUY5w0V0S0SCOqqG/PnTTO17nBv7rrtPq1O3pE4cZc15XOPsXju/YZcV4s/tfeVsxNz\n",
       "RbzMNeVzh3ryFY1ap2vxD9989eS0jEjamijf9e6sqmvxHYK/DmIZH0wr81AAAAAASUVORK5CYII=\n",
       "\" style=\"display:inline;vertical-align:middle;\" /></a></span>"
      ],
      "text/plain": [
       "|- (4 not-in {1, 1 + 1, 3}) in BOOLEAN"
      ]
     },
     "metadata": {},
     "output_type": "display_data"
    }
   ],
   "source": [
    "Set(one, Add(one, one), three).nonmembership_object(four).deduce_in_bool()"
   ]
  },
  {
   "cell_type": "code",
   "execution_count": 211,
   "metadata": {},
   "outputs": [],
   "source": [
    "%end demonstrations"
   ]
  },
  {
   "cell_type": "code",
   "execution_count": null,
   "metadata": {},
   "outputs": [],
   "source": []
  }
 ],
 "metadata": {
  "kernelspec": {
   "display_name": "Python 3",
   "language": "python",
   "name": "python3"
  }
 },
 "nbformat": 4,
 "nbformat_minor": 0
}