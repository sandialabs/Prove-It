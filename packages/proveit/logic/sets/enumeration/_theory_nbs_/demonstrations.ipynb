{
 "cells": [
  {
   "cell_type": "markdown",
   "metadata": {},
   "source": [
    "Demonstrations for the theory of <a class=\"ProveItLink\" href=\"theory.ipynb\">proveit.logic.sets.enumeration</a>\n",
    "========"
   ]
  },
  {
   "cell_type": "code",
   "execution_count": null,
   "metadata": {},
   "outputs": [],
   "source": [
    "import proveit\n",
    "from proveit import ExprRange, InstantiationFailure, ProofFailure, used_vars, free_vars\n",
    "from proveit import a, b, c, d, e, i, l, m, n, x, y\n",
    "from proveit import A, B, C, D, E\n",
    "from proveit.logic import Boolean, TRUE, FALSE\n",
    "from proveit.logic import (Equals, Forall, InSet, NotEquals, NotInSet,\n",
    "                           Or, ProperSubset, Set, SubsetEq)\n",
    "from proveit.numbers import zero, one, two, three, four, five, six, seven, Add\n",
    "%begin demonstrations"
   ]
  },
  {
   "cell_type": "markdown",
   "metadata": {},
   "source": [
    "# Enumerated Sets $\\{a, b, \\ldots, n\\}$"
   ]
  },
  {
   "cell_type": "markdown",
   "metadata": {},
   "source": [
    "<div style=\"line-height:1.4; font-size:14pt\">\n",
    "<a href='#introduction'>Introduction</a><br>\n",
    "<a href='#simple_expressions'>Simple Expressions involving the enumerated Set class</a><br>\n",
    "<a href='#common_attributes'>Common Attributes of an enumerated Set</a><br>\n",
    "<a href='#axioms'>Axioms</a><br>\n",
    "<a href='#theorems_and_conjectures'>Theorems & Conjectures</a><br>\n",
    "<a href='#further_demonstrations'>Further Demonstrations</a><br>\n",
    "    <ol>\n",
    "        <li><a href='#demo01'>Deducing Set memberships such as $\\vdash b\\in\\{a, b, c\\}$, $\\vdash 1\\in\\{1, 2, 3\\}$, and $\\vdash \\{a, b\\}\\in\\{\\{\\}, \\{a\\}, \\{b\\}, \\{a, b\\}\\}$</a></li>\n",
    "        <li><a href='#demo02'>Deducing Set non-memberships such as $\\vdash 4\\notin\\{1, 2, 3\\}$ and $\\vdash d\\notin\\{a, b, c\\}$</a></li>\n",
    "        <li><a href='#demo03'>Deducing subset relationships between enumerated Sets: $\\vdash\\{2, 4, 6\\}\\subseteq\\{1, 2, 3, 4, 5, 6, 7\\}$ and $\\vdash\\{1, 3, 5, 1, 5\\}\\subseteq\\{1, 2, 3, 4, 5, 6, 7\\}$</a></li>\n",
    "        <li><a href='#demo04'>Instantiating the <span style=\"font-family:courier;\">proper_subset_of_superset</span> conjecture to deduce $\\{1, 2, 3\\}\\subset\\{1, 2, 3, 4, 5, 6\\}$</a></li>\n",
    "        <li><a href='#demo05'>Deducing that $\\{2, 4, 6\\}\\subset\\{1, 2, 3, 4, 5, 6\\}$ and $\\{c, b, a\\} \\subset \\{a, b, c, d, e\\}$</a></li>\n",
    "        <li><a href='#demo06'>Deducing that $\\{1, a, 1\\}\\subset\\{1, a, 1, b, 2, a\\}$ when $a = 1$</a></li>\n",
    "    </ol>\n",
    "<a href='#misc_testing'>Miscellaneous Testing</a><br>\n",
    "</div>"
   ]
  },
  {
   "cell_type": "markdown",
   "metadata": {},
   "source": [
    "## Introduction <a id='introduction'></a>"
   ]
  },
  {
   "cell_type": "markdown",
   "metadata": {},
   "source": [
    "Finite, explicitly enumerated sets (<i>i.e.</i>, sets defined by an explicit listing of elements) are ubiquitous in logic and mathematics, and regularly arise in theorems and proofs. For example, one might need to consider elements in the Boolean set: $\\mathbb{B}=\\{\\mathtt{TRUE}, \\mathtt{FALSE}\\} = \\{\\top, \\bot\\}$ or the integer equivalents $\\{1, 0\\}$, or perhaps a set of variables $\\{a, b, c\\}$ or that set's power set $\\{\\{\\}, \\{a\\}, \\{b\\}, \\{c\\}, \\{a, b\\}, \\{b, c\\}, \\{a, c\\}, \\{a, b, c\\} \\}$. Often, one needs to consider a finite but unspecified-size set such as $\\{a, b, \\ldots, n\\}$.<br/><br/>\n",
    "In Prove-It, we construct such finite enumerated sets with the `Set` class, which takes an arbitrary number of Prove-It expressions as arguments (including zero arguments for an empty set), like this: $\\mathtt{Set}(e_1, e_2, \\ldots, e_n)$. The result is a set of the elements $e_1$, $e_2$, $\\ldots$, $e_n$, where the initial order specified is preserved for display purposes but the order itself has no inherent meaning.<br/><br/>\n",
    "    Interestingly, you can also create redundantly populated sets such as $\\{a, b, a\\}$, which as we'll see below, are not considered multi-sets but instead are simply alternative representations of the reduced “support set” without the multiplicities — <i>e.g.</i>, $\\{a, b, a\\} = \\{a, b\\}$. Until one actively requests that a set such as $\\{a, b, a\\}$ be reduced to its support, Prove-It will continue to encode and display the set with the seeming multiplicities."
   ]
  },
  {
   "cell_type": "markdown",
   "metadata": {},
   "source": [
    "## Simple Expressions Involving Enumerated Sets<a id='simple_expressions'></a>"
   ]
  },
  {
   "cell_type": "markdown",
   "metadata": {},
   "source": [
    "Enumerated sets are easy to construct using the Set class, and such Sets are easily incorporated into other expressions. Various Set construction examples are shown below, including small Sets of literals and variables, a Set of Sets (including an empty set), and a finite Set of unspecified length:"
   ]
  },
  {
   "cell_type": "code",
   "execution_count": null,
   "metadata": {},
   "outputs": [],
   "source": [
    "# A 3-element set of (literal) integers:\n",
    "set_123 = Set(one, two, three)"
   ]
  },
  {
   "cell_type": "code",
   "execution_count": null,
   "metadata": {},
   "outputs": [],
   "source": [
    "# A 3-element set of variables:\n",
    "set_abc = Set(a, b, c)"
   ]
  },
  {
   "cell_type": "code",
   "execution_count": null,
   "metadata": {},
   "outputs": [],
   "source": [
    "# A 6-element set of combining literals and variables:\n",
    "set_123_abc = Set(one, two, three, a, b, c)"
   ]
  },
  {
   "cell_type": "code",
   "execution_count": null,
   "metadata": {},
   "outputs": [],
   "source": [
    "# A 4-element set of enumerated sets, including an empty set:\n",
    "power_set_ab = Set(Set(), Set(a), Set(b), Set(a, b))"
   ]
  },
  {
   "cell_type": "code",
   "execution_count": null,
   "metadata": {},
   "outputs": [],
   "source": [
    "# a set of the first n positive integers\n",
    "# set_1_to_n = Set(Iter(i, i, one, n))\n",
    "set_1_to_n = Set(ExprRange(i, i, one, n))"
   ]
  },
  {
   "cell_type": "code",
   "execution_count": null,
   "metadata": {},
   "outputs": [],
   "source": [
    "# Claim that x is a member of the set {a, b, c}\n",
    "InSet(x, set_123)"
   ]
  },
  {
   "cell_type": "code",
   "execution_count": null,
   "metadata": {},
   "outputs": [],
   "source": [
    "# A more elaborate claim about what it means for x to be a member\n",
    "# of the set {1, 2, 3}. Notice the set appears as a domain specification:\n",
    "Forall(x, Or(Equals(x, one), Equals(x, two), Equals(x, three)), domain=set_123)"
   ]
  },
  {
   "cell_type": "markdown",
   "metadata": {},
   "source": [
    "## Common Attributes of enumerated Set expressions <a id='common_attributes'></a>"
   ]
  },
  {
   "cell_type": "markdown",
   "metadata": {},
   "source": [
    "Let's look at some simple examples of enumerated sets and their common attributes."
   ]
  },
  {
   "cell_type": "code",
   "execution_count": null,
   "metadata": {},
   "outputs": [],
   "source": [
    "# Recall some enumerated sets defined earlier:\n",
    "display(set_123)\n",
    "display(set_abc)\n",
    "display(power_set_ab)"
   ]
  },
  {
   "cell_type": "markdown",
   "metadata": {},
   "source": [
    "We can look at the construction of such expressions by calling <font style=\"font-family:courier\">expr_info()</font> to see the table version of the expression's underlying directed acyclic graph (DAG) representation:"
   ]
  },
  {
   "cell_type": "code",
   "execution_count": null,
   "metadata": {},
   "outputs": [],
   "source": [
    "# See how an enumerated set expression is constructed:\n",
    "set_123.expr_info()"
   ]
  },
  {
   "cell_type": "markdown",
   "metadata": {},
   "source": [
    "We can access the elements of an enumerated Set as operands of the Set class or somewhat more intuitively as elements of the Set, either of which return a tuple of the elements:"
   ]
  },
  {
   "cell_type": "code",
   "execution_count": null,
   "metadata": {},
   "outputs": [],
   "source": [
    "# the elements of the enumerated, as a tuple of elements\n",
    "set_123.operands"
   ]
  },
  {
   "cell_type": "code",
   "execution_count": null,
   "metadata": {},
   "outputs": [],
   "source": [
    "# or more intuitively, using the elements attribute:\n",
    "set_123.elements"
   ]
  },
  {
   "cell_type": "markdown",
   "metadata": {},
   "source": [
    "Of course, we can also access each of the elements individually:"
   ]
  },
  {
   "cell_type": "code",
   "execution_count": null,
   "metadata": {},
   "outputs": [],
   "source": [
    "# and we can grab any single element:\n",
    "e1, e2, e3 = set_123.elements[0], set_123.elements[1], set_123.elements[2]"
   ]
  },
  {
   "cell_type": "markdown",
   "metadata": {},
   "source": [
    "And we can grab a slice of the elements:"
   ]
  },
  {
   "cell_type": "code",
   "execution_count": null,
   "metadata": {},
   "outputs": [],
   "source": [
    "# grab a slice of the elements:\n",
    "set_123.operands[1:3]"
   ]
  },
  {
   "cell_type": "markdown",
   "metadata": {},
   "source": [
    "We can get the set of all variables appearing in a Set, which returns an empty set if there no variables, and returns a reduced set if there are multiple instances of any variables:"
   ]
  },
  {
   "cell_type": "code",
   "execution_count": null,
   "metadata": {},
   "outputs": [],
   "source": [
    "# the set of variables used in the enumerated set\n",
    "# (in this case an empty set because the set contains only literals)\n",
    "used_vars(set_123)"
   ]
  },
  {
   "cell_type": "code",
   "execution_count": null,
   "metadata": {},
   "outputs": [],
   "source": [
    "# the set of variables used in the enumerated set\n",
    "used_vars(set_abc)"
   ]
  },
  {
   "cell_type": "code",
   "execution_count": null,
   "metadata": {},
   "outputs": [],
   "source": [
    "# define a set with two instances of the same variable\n",
    "set_aba = Set(a, b, a)"
   ]
  },
  {
   "cell_type": "code",
   "execution_count": null,
   "metadata": {},
   "outputs": [],
   "source": [
    "# notice that the operands include multiplicities\n",
    "set_aba_operands = set_aba.operands"
   ]
  },
  {
   "cell_type": "code",
   "execution_count": null,
   "metadata": {},
   "outputs": [],
   "source": [
    "# and the elements attribute includes multiplicities\n",
    "set_aba_elements = set_aba.elements"
   ]
  },
  {
   "cell_type": "code",
   "execution_count": null,
   "metadata": {},
   "outputs": [],
   "source": [
    "# but the tuple of variables used is just (a, b)\n",
    "# and the order of appearance is not guaranteed\n",
    "set_aba_vars = used_vars(set_aba)"
   ]
  },
  {
   "cell_type": "markdown",
   "metadata": {},
   "source": [
    "We can also dig into a Set in terms of its sub-expressions:"
   ]
  },
  {
   "cell_type": "code",
   "execution_count": null,
   "metadata": {},
   "outputs": [],
   "source": [
    "# grab subexpressions from the Set construction\n",
    "subexpr0, subexpr_1, subexpr_11 = (\n",
    "        set_abc.sub_expr(0),\n",
    "        set_abc.sub_expr(1),\n",
    "        set_abc.sub_expr(1).sub_expr(1))"
   ]
  },
  {
   "cell_type": "markdown",
   "metadata": {},
   "source": [
    "## Axioms <a id='axioms'></a>"
   ]
  },
  {
   "cell_type": "markdown",
   "metadata": {},
   "source": [
    "Right now we have a single axiom in the logic.sets/enumeration theory, defining what it means to be a member of an enumerated set. If $x\\in\\{y_1,y_2, \\ldots,y_n\\}$, then $x=y_1 \\lor x=y_2 \\lor \\ldots \\lor x=y_n$:"
   ]
  },
  {
   "cell_type": "code",
   "execution_count": null,
   "metadata": {},
   "outputs": [],
   "source": [
    "from proveit.logic.sets.enumeration  import enum_set_def\n",
    "enum_set_def"
   ]
  },
  {
   "cell_type": "markdown",
   "metadata": {},
   "source": [
    "As an exercise, we could, for example, manually instantiate that axiom for the case of $x\\in\\mathbb{B}$, by first instantiating for $x\\in\\{\\top, \\bot\\}$:"
   ]
  },
  {
   "cell_type": "code",
   "execution_count": null,
   "metadata": {},
   "outputs": [],
   "source": [
    "enum_set_def_spec = enum_set_def.instantiate(\n",
    "        {n:two, x:x, y:(TRUE, FALSE)})"
   ]
  },
  {
   "cell_type": "markdown",
   "metadata": {},
   "source": [
    "… and then bring in our axiomatic definition of the Boolean as $\\mathbb{B}=\\{\\top, \\bot\\}$ and perform the appropriate substitution:"
   ]
  },
  {
   "cell_type": "code",
   "execution_count": null,
   "metadata": {},
   "outputs": [],
   "source": [
    "from proveit.logic.booleans  import bools_def\n",
    "bools_def"
   ]
  },
  {
   "cell_type": "code",
   "execution_count": null,
   "metadata": {},
   "outputs": [],
   "source": [
    "bools_def.sub_left_side_into(enum_set_def_spec)"
   ]
  },
  {
   "cell_type": "markdown",
   "metadata": {},
   "source": [
    "## Theorems & Conjectures<a id='theorems_and_conjectures'></a>"
   ]
  },
  {
   "cell_type": "markdown",
   "metadata": {},
   "source": [
    "The `logic.sets/enumeration` theory already has a substantial number of related theorems and conjectures established, most of which would typically be used implicitly behind-the-scenes when utilizing the various related Set class methods instead of being used directly and explicitly in theorem form. Some illustrative examples of the theorems are shown below, and the remainder can be found in the [enumeration theorems Jupyter Python notebook](./\\_theorems\\_.ipynb)."
   ]
  },
  {
   "cell_type": "code",
   "execution_count": null,
   "metadata": {},
   "outputs": [],
   "source": [
    "from proveit.logic.sets.enumeration import (\n",
    "        fold, fold_singleton, leftward_permutation,\n",
    "        reduction_right, subset_eq_of_superset)"
   ]
  },
  {
   "cell_type": "code",
   "execution_count": null,
   "metadata": {},
   "outputs": [],
   "source": [
    "# If x=y1 or x=y2 or … or x=yn, then x is in the\n",
    "# set containing all those options\n",
    "fold"
   ]
  },
  {
   "cell_type": "code",
   "execution_count": null,
   "metadata": {},
   "outputs": [],
   "source": [
    "# if x=y, then x is in the set {y}\n",
    "fold_singleton"
   ]
  },
  {
   "cell_type": "code",
   "execution_count": null,
   "metadata": {},
   "outputs": [],
   "source": [
    "# An enumerated set is equal to a version of itself in which\n",
    "# an element is moved to the left in the \"list\" of elements.\n",
    "# Notice the set element 'c' below:\n",
    "leftward_permutation"
   ]
  },
  {
   "cell_type": "code",
   "execution_count": null,
   "metadata": {},
   "outputs": [],
   "source": [
    "# An enumerated set is equal to a version of itself in which a 2nd\n",
    "# occurrence of an element is removed. Notice the element(s) x in\n",
    "# the set below:\n",
    "reduction_right"
   ]
  },
  {
   "cell_type": "code",
   "execution_count": null,
   "metadata": {},
   "outputs": [],
   "source": [
    "# An enumerated set is always an improper subset of\n",
    "# any set containing the original enumerated set\n",
    "subset_eq_of_superset"
   ]
  },
  {
   "cell_type": "markdown",
   "metadata": {},
   "source": [
    "## Demonstrations <a id='further_demonstrations'></a>"
   ]
  },
  {
   "cell_type": "markdown",
   "metadata": {},
   "source": [
    "<div style=\"width: 90%; border: 5px solid green; padding: 10px; margin: 0px;\"><a id='demo01'></a><font size=4><b>1.</b> Deducing Set memberships such as $\\vdash b\\in\\{a, b, c\\}$, $\\vdash 1\\in\\{1, 2, 3\\}$, and $\\vdash \\{a, b\\}\\in\\{\\{\\}, \\{a\\}, \\{b\\}, \\{a, b\\}\\}$.</font></div>"
   ]
  },
  {
   "cell_type": "markdown",
   "metadata": {},
   "source": [
    "Many simple enumerated set membership claims can be deduced automatically or relatively easily.<br>\n",
    "Let's start with a few claims about set membership:"
   ]
  },
  {
   "cell_type": "code",
   "execution_count": null,
   "metadata": {},
   "outputs": [],
   "source": [
    "# Some (as yet) unproven claims\n",
    "b_in_set_abc, three_in_set_123, set_ab_in_its_power_set = (\n",
    "        InSet(b, set_abc), InSet(three, set_123), InSet(Set(a, b), power_set_ab))"
   ]
  },
  {
   "cell_type": "markdown",
   "metadata": {},
   "source": [
    "Prove-It can prove each of these claims automatically, without any extra nudging from us:"
   ]
  },
  {
   "cell_type": "code",
   "execution_count": null,
   "metadata": {},
   "outputs": [],
   "source": [
    "# prove the claim that b is an elem of {a, b, c}\n",
    "b_in_set_abc.prove()"
   ]
  },
  {
   "cell_type": "code",
   "execution_count": null,
   "metadata": {},
   "outputs": [],
   "source": [
    "# prove the claim that 3 is an elem of {1, 2, 3}\n",
    "three_in_set_123.prove()"
   ]
  },
  {
   "cell_type": "code",
   "execution_count": null,
   "metadata": {},
   "outputs": [],
   "source": [
    "# prove the claim that {a,b} is an elem of its own power set\n",
    "set_ab_in_its_power_set.prove()"
   ]
  },
  {
   "cell_type": "markdown",
   "metadata": {},
   "source": [
    "The proofs generated by Prove-It for those three judgments established above (click on the turnstile in an expression to go to the proof page), are somewhat complicated and opaque, relying on the very basic `fold` theorem each time for how membership is defined for an enumerated set. As an alternative, consider a manual application of the `in_enumerated_set` theorem:"
   ]
  },
  {
   "cell_type": "code",
   "execution_count": null,
   "metadata": {},
   "outputs": [],
   "source": [
    "from proveit.logic.sets.enumeration import in_enumerated_set\n",
    "in_enumerated_set"
   ]
  },
  {
   "cell_type": "code",
   "execution_count": null,
   "metadata": {},
   "outputs": [],
   "source": [
    "# Instantiate the theorem for the case of {a,b} being in its own power set:\n",
    "set_ab_in_its_power_set_kt = in_enumerated_set.instantiate(\n",
    "    {m:three, n:zero, a:(Set(), Set(a), Set(b)), b:Set(a,b), c:()})"
   ]
  },
  {
   "cell_type": "markdown",
   "metadata": {},
   "source": [
    "Now the proof of such a claim is relatively straightforward, and we will have moved much of the heavy-lifting of the previous proofs to a single underlying proof of the `in_enumerated_set` theorem itself:"
   ]
  },
  {
   "cell_type": "code",
   "execution_count": null,
   "metadata": {},
   "outputs": [],
   "source": [
    "set_ab_in_its_power_set_kt.proof()"
   ]
  },
  {
   "cell_type": "markdown",
   "metadata": {},
   "source": [
    "<div style=\"width: 90%; border: 5px solid green; padding: 10px; margin: 0px;\"><a id='demo02'></a><font size=4><b>2.</b> Deducing Set non-memberships such as $\\vdash 4\\notin\\{1, 2, 3\\}$ and $\\vdash d\\notin\\{a, b, c\\}$.</font></div>"
   ]
  },
  {
   "cell_type": "markdown",
   "metadata": {},
   "source": [
    "Many simple enumerated set non-membership claims can be deduced automatically or relatively easily.  \n",
    "First, recall a some enumerated Sets defined earlier:"
   ]
  },
  {
   "cell_type": "code",
   "execution_count": null,
   "metadata": {},
   "outputs": [],
   "source": [
    "display(set_123)\n",
    "display(set_abc)"
   ]
  },
  {
   "cell_type": "markdown",
   "metadata": {},
   "source": [
    "Prove-It can automatically prove some simple non-membership claims:"
   ]
  },
  {
   "cell_type": "code",
   "execution_count": null,
   "metadata": {},
   "outputs": [],
   "source": [
    "NotInSet(four, set_123).prove()"
   ]
  },
  {
   "cell_type": "markdown",
   "metadata": {},
   "source": [
    "If the sets involve variables with unassigned values, however, things are more complicated. For example, Prove-It will rightly refuse to automatically deduce that $d\\notin \\{a, b, c\\}$, because we don't know what the variables might be equal to:"
   ]
  },
  {
   "cell_type": "code",
   "execution_count": null,
   "metadata": {},
   "outputs": [],
   "source": [
    "try:\n",
    "    NotInSet(d, set_abc).prove()\n",
    "    assert False, \"Should not make it to this point.\"\n",
    "except ProofFailure as e:\n",
    "    print(\"Proof Failure: {}\".format(e))"
   ]
  },
  {
   "cell_type": "markdown",
   "metadata": {},
   "source": [
    "If we can provide Prove-It with the appropriate assumptions, however, we're OK:"
   ]
  },
  {
   "cell_type": "code",
   "execution_count": null,
   "metadata": {},
   "outputs": [],
   "source": [
    "NotInSet(d, set_abc).prove(assumptions=[NotEquals(a,d), NotEquals(b,d), NotEquals(c,d)])"
   ]
  },
  {
   "cell_type": "markdown",
   "metadata": {},
   "source": [
    "In real-life operations, somewhere along the way we might have already proven that set of inequalities $a\\ne d$, $b\\ne d$, $c\\ne d$, and Prove-It would then be able to automatically prove that $d\\notin\\{a, b, c\\}$."
   ]
  },
  {
   "cell_type": "markdown",
   "metadata": {},
   "source": [
    "<div style=\"width: 90%; border: 5px solid green; padding: 10px; margin: 0px;\"><a id='demo03'></a><font size=4><b>3.</b> Deducing subset relationships between enumerated Sets: $\\vdash\\{2, 4, 6\\}\\subseteq\\{1, 2, 3, 4, 5, 6, 7\\}$ and $\\vdash\\{1, 3, 5, 1, 5\\}\\subseteq\\{1, 2, 3, 4, 5, 6, 7\\}$.</font></div>"
   ]
  },
  {
   "cell_type": "markdown",
   "metadata": {},
   "source": [
    "Although Prove-It might not be able to automatically prove that any arbitrary enumerated Set is a subset of another, the enumerated Set class has some machinery to help us out.<br/><br/>\n",
    "Consider the following sets, which include the set $\\{1, 3, 5, 1, 5\\}$ with redundant elements (recall that the enumerated Set class allows us to create a set that appears to hold multiple copies of the same element, but the set is not actually a multi-set):"
   ]
  },
  {
   "cell_type": "code",
   "execution_count": null,
   "metadata": {},
   "outputs": [],
   "source": [
    "# define some enumerated sets\n",
    "set_1234567, set_evens, set_odds = (\n",
    "        Set(one, two, three, four, five, six, seven),\n",
    "        Set(two, four, six),\n",
    "        Set(one, three, five, one, five))"
   ]
  },
  {
   "cell_type": "markdown",
   "metadata": {},
   "source": [
    "Prove-It can automatically prove that $\\{2, 4, 6\\}\\subseteq\\{1, 2, 3, 4, 5, 6, 7\\}$:"
   ]
  },
  {
   "cell_type": "code",
   "execution_count": null,
   "metadata": {},
   "outputs": [],
   "source": [
    "SubsetEq(set_evens, set_1234567).prove()"
   ]
  },
  {
   "cell_type": "markdown",
   "metadata": {},
   "source": [
    "This can produce an odd-looking result, because an enumerated Set might look like a multi-set but is in fact equal to its underlying support. For example, because $\\{1, 3, 5, 1, 5\\} = \\{1, 3, 5\\}$, we have the following result, even though the subset <i>appears</i> to have multiple copies of elements $1$ and $5$:"
   ]
  },
  {
   "cell_type": "code",
   "execution_count": null,
   "metadata": {},
   "outputs": [],
   "source": [
    "SubsetEq(set_odds, set_1234567).prove()"
   ]
  },
  {
   "cell_type": "markdown",
   "metadata": {},
   "source": [
    "<div style=\"width: 90%; border: 5px solid green; padding: 10px; margin: 0px;\"><a id='demo04'></a><font size=4><b>4.</b> Instantiating the <span style=\"font-family:courier;\">proper_subset_of_superset</span> conjecture to deduce $\\{1, 3, 5\\}\\subset\\{1, 2, 3, 4, 5, 6\\}$.</font></div>\n",
    "The enumerated Set class has machinery to help automate the deduction of proper subset relationships such as $\\{1, 3, 5\\}\\subset\\{1, 2, 3, 4, 5, 6\\}$ between enumerated Sets. To gain some insight into how such machinery works, however, it can be useful to derive such a relationship by manually enacting the same steps as the automation would.<br/><br/>\n",
    "So, consider the enumerated Sets $\\{1, 3, 5\\}$ and $\\{1, 2, 3, 4, 5, 6\\}$ defined below:"
   ]
  },
  {
   "cell_type": "code",
   "execution_count": null,
   "metadata": {},
   "outputs": [],
   "source": [
    "set_135, set_123456 = (\n",
    "        Set(one, three, five),\n",
    "        Set(one, two, three, four, five, six))"
   ]
  },
  {
   "cell_type": "markdown",
   "metadata": {},
   "source": [
    "Prove-It will not automatically prove that $\\{1, 3, 5\\}\\subset\\{1, 2, 3, 4, 5, 6\\}$:"
   ]
  },
  {
   "cell_type": "code",
   "execution_count": null,
   "metadata": {},
   "outputs": [],
   "source": [
    "try:\n",
    "    ProperSubset(set_135, set_123456).prove()\n",
    "    assert False, \"Expecting a ProofFailure; should not make it this far!\"\n",
    "except ProofFailure as the_error:\n",
    "    print(\"ProofFailure: {}\".format(the_error))"
   ]
  },
  {
   "cell_type": "markdown",
   "metadata": {},
   "source": [
    "But we have an established theorem (really a conjecture) in the `enumeration` theory that we can use to deduce the subset relationship:"
   ]
  },
  {
   "cell_type": "code",
   "execution_count": null,
   "metadata": {},
   "outputs": [],
   "source": [
    "from proveit.logic.sets.enumeration import proper_subset_of_superset\n",
    "proper_subset_of_superset"
   ]
  },
  {
   "cell_type": "markdown",
   "metadata": {},
   "source": [
    "Our goal here is to instantiate the <span style=\"font-family:courier;\">proper_subset_of_superset</span> theorem with the details of our desired case, where we will take:\n",
    "    <ul>\n",
    "        <li>$m=3$ to be the size of our subset Set $\\{1, 3, 5\\}$;</li>\n",
    "        <li>$n=2$ to be the size of $c_1, \\ldots, c_n$ portion of our superset Set\n",
    "            $\\{1, 2, 3, 4, 5, 6\\}$;</li>\n",
    "        <li>$\\{a_1, \\ldots, a_m\\}$ to be our subset $\\{1, 3, 5\\}$;</li>\n",
    "        <li>and $\\{a_1, \\ldots, a_m, b, c_1, \\ldots, c_n\\}$ to be our superset $\\{1, 2, 3, 4, 5, 6\\}$ after being suitably permuted to something like $\\{1, 3, 5, 2, 4, 6\\}$, which then requires $b$ to be the element $2$ and $\\{c_1, \\ldots, c_n\\}$ to be the set $\\{4, 6\\}$.</li>\n",
    "        </ul>\n",
    "We begin the process by deducing an equivalence between our original superset and the permuted version of that set required for the theorem application:"
   ]
  },
  {
   "cell_type": "code",
   "execution_count": null,
   "metadata": {},
   "outputs": [],
   "source": [
    "superset_permuted_kt = set_123456.permutation(new_order=[0, 2, 4, 1, 3, 5])"
   ]
  },
  {
   "cell_type": "markdown",
   "metadata": {},
   "source": [
    "Notice that we eventually want to replace $b$ with our superset element $2$ (although we could have chosen any superset element that isn't in the subset and chosen a different permutation as necessary), and so we'll want to know that $2\\notin\\{1, 3, 5\\}$. The instantiation machinery might handle that part for us automatically, but for this example we'll ask Prove-It to first do it for us explicitly:"
   ]
  },
  {
   "cell_type": "code",
   "execution_count": null,
   "metadata": {},
   "outputs": [],
   "source": [
    "NotInSet(two, set_135).prove()"
   ]
  },
  {
   "cell_type": "markdown",
   "metadata": {},
   "source": [
    "Now we should be ready to instantiate the <span style=\"font-family:courier;\">proper_subset_of_superset</span> theorem as shown below:"
   ]
  },
  {
   "cell_type": "code",
   "execution_count": null,
   "metadata": {},
   "outputs": [],
   "source": [
    "proper_subset_of_superset_spec = proper_subset_of_superset.instantiate(\n",
    "        {m:three, n:two, a:set_135.elements, b:two, c:(four, six)})"
   ]
  },
  {
   "cell_type": "markdown",
   "metadata": {},
   "source": [
    "And finally we use our earlier-derived permutation equivalence to back substitute and get the desired subset relationship:"
   ]
  },
  {
   "cell_type": "code",
   "execution_count": null,
   "metadata": {},
   "outputs": [],
   "source": [
    "superset_permuted_kt.sub_left_side_into(proper_subset_of_superset_spec)"
   ]
  },
  {
   "cell_type": "markdown",
   "metadata": {},
   "source": [
    "<div style=\"width: 90%; border: 5px solid green; padding: 10px; margin: 0px;\"><a id='demo05'></a><font size=4><b>5.</b> Deducing that $\\{2, 4, 6\\}\\subset\\{1, 2, 3, 4, 5, 6\\}$ and $\\{c, b, a\\}\\subset\\{a, b, c, d, e\\}$.</font></div>"
   ]
  },
  {
   "cell_type": "markdown",
   "metadata": {},
   "source": [
    "The enumerated Set class has machinery to help automate the deduction of proper subset relationships such as $\\{1, 3, 5\\}\\subset\\{1, 2, 3, 4, 5, 6\\}$ derived manually in the previous demonstration. That process of set reduction, permutation, theorem application, and back substitution, has been encapsulated in the `Set.deduce_enum_proper_subset()` method. For example, we can derive that $\\{2, 4, 6\\}\\subset\\{1, 2, 3, 4, 5, 6\\}$ in a single step:"
   ]
  },
  {
   "cell_type": "code",
   "execution_count": null,
   "metadata": {},
   "outputs": [],
   "source": [
    "# define the subset {2, 4, 6}\n",
    "set_246 = Set(two, four, six)"
   ]
  },
  {
   "cell_type": "code",
   "execution_count": null,
   "metadata": {},
   "outputs": [],
   "source": [
    "# deduce that {2, 4, 6} is a proper subset of {1, 2, 3, 4, 5, 6}\n",
    "proper_subset_jdgmt = set_123456.deduce_enum_proper_subset(subset=set_246)"
   ]
  },
  {
   "cell_type": "markdown",
   "metadata": {},
   "source": [
    "That process works without any special assumptions included in the call of the `deduce_enum_proper_subset()` method because Prove-It recognizes the elements $1, 2, \\ldots, 6$ as distinct literals and thus that (e.g.) $1\\notin\\{2, 4, 6\\}$ (which allows Prove-It to recognize that the set $\\{1, 2, 3, 4, 5, 6\\}$ not only contains the set $\\{2, 4, 6\\}$ but also has elements not in that subset).  \n",
    "If we are dealing with <i>variables</i>, though, the process is not so clear-cut. Consider, for example, the claim that $\\{c, b, a\\}\\subset\\{a, b, c, d, e\\}$. If one interprets the letter elements as literals, then it's clear that $d\\notin\\{c, b, a\\}$ and we can easily understand that $\\{c, b, a\\}$ is a proper subset of $\\{a, b, c, d, e\\}$. But if $a, b, \\ldots, e$ are variables, it's not at all clear that $d\\ne a$ and thus it's not clear that $d\\notin\\{c, b, a\\}$.<br/>\n",
    "Thus, without some additional information or additional assumptions, the `deduce_enum_proper_subset()` method will fail to deduce the desired relationship:"
   ]
  },
  {
   "cell_type": "code",
   "execution_count": null,
   "metadata": {},
   "outputs": [],
   "source": [
    "from proveit import e\n",
    "set_abcde, set_cba = Set(a, b, c, d, e), Set(c, b, a)\n",
    "try:\n",
    "    set_abcde.deduce_enum_proper_subset(subset=set_cba)\n",
    "    assert False, \"Should not make it to this point.\"\n",
    "except ValueError as e:\n",
    "    print(\"Proof Failure: {}\".format(e))"
   ]
  },
  {
   "cell_type": "markdown",
   "metadata": {},
   "source": [
    "If we supply the additional assumptions, however, that $d\\ne a$, $d\\ne b$, and $d\\ne c$, the derivation works fine:"
   ]
  },
  {
   "cell_type": "code",
   "execution_count": null,
   "metadata": {},
   "outputs": [],
   "source": [
    "set_abcde.deduce_enum_proper_subset(subset=set_cba,\n",
    "        assumptions=[NotEquals(d, a), NotEquals(d, b), NotEquals(d, c)])"
   ]
  },
  {
   "cell_type": "markdown",
   "metadata": {},
   "source": [
    "Alternatively we could have supplied the equivalent assumption that  $d\\notin \\{c, b, a\\}$:"
   ]
  },
  {
   "cell_type": "code",
   "execution_count": null,
   "metadata": {},
   "outputs": [],
   "source": [
    "set_abcde.deduce_enum_proper_subset(subset=set_cba,\n",
    "        assumptions=[NotInSet(d, Set(c, b, a))])"
   ]
  },
  {
   "cell_type": "markdown",
   "metadata": {},
   "source": [
    "<div style=\"width: 90%; border: 5px solid green; padding: 10px; margin: 0px;\"><a id='demo06'></a><font size=4><b>6.</b> Deducing that $\\{1, a, 1\\}\\subset\\{1, a, 1, b, 2, a\\}$ when $a=1$.</font></div>"
   ]
  },
  {
   "cell_type": "markdown",
   "metadata": {},
   "source": [
    "Variables and multiplicities can combine to produce some tricky cases when trying to establish subset relationships between enumerated Sets. Notice that when considering the possibility that $\\{1, a, 1\\}\\subset\\{1, a, 1, b, 2, a\\}$, if it turns out that $a=b=2$, then the proper subset relation does not hold. Prove-It will not deduce the proper subset relationship without more information. Using the enumerated <span style=\"font-family:courier;\">Set.deduce_enum_proper_subset()</span> method, we get an error:"
   ]
  },
  {
   "cell_type": "code",
   "execution_count": null,
   "metadata": {},
   "outputs": [],
   "source": [
    "set_1a1 = Set(one, a, one)\n",
    "set_1a1b2a = Set(one, a, one, b, two, a)\n",
    "print(\"set_1a1 =\")\n",
    "display(set_1a1)\n",
    "print(\"set_1a1b2a =\")\n",
    "display(set_1a1b2a)\n",
    "try:\n",
    "    set_1a1b2a.deduce_enum_proper_subset(subset=set_1a1)\n",
    "    assert False, \"Should not get to this point.\"\n",
    "except ValueError as the_error:\n",
    "    print(\"Proof Failure (ValueError): {}\".format(the_error))"
   ]
  },
  {
   "cell_type": "markdown",
   "metadata": {},
   "source": [
    "If we provide a little more information, however, specifying how to interpret the variable 'a', Prove-It is able to proceed (in part because now it can be proven that 2 is in the superset but not in the subset):"
   ]
  },
  {
   "cell_type": "code",
   "execution_count": null,
   "metadata": {},
   "outputs": [],
   "source": [
    "set_1a1b2a.deduce_enum_proper_subset(subset=set_1a1, assumptions=[Equals(a, one)])"
   ]
  },
  {
   "cell_type": "markdown",
   "metadata": {},
   "source": [
    "## Miscellaneous Testing\n",
    "The material below was developed to test various enumerated Set and Set-related methods. Some of this material could be integrated into the `_demonstrations_` page eventually and/or deleted as development continues."
   ]
  },
  {
   "cell_type": "markdown",
   "metadata": {},
   "source": [
    "### Some Example `Sets` For Testing"
   ]
  },
  {
   "cell_type": "code",
   "execution_count": null,
   "metadata": {},
   "outputs": [],
   "source": [
    "# some standard enumerated sets\n",
    "from proveit import e\n",
    "set_12345, set_abcde, set_1a2b3c, set_a2c13b, set_3c1ab2, power_set_of_ab, empty_set = (\n",
    "    Set(one, two, three, four, five),\n",
    "    Set(a, b, c, d, e),\n",
    "    Set(one, a, two, b, three, c),\n",
    "    Set(a, two, c, one, three, b),\n",
    "    Set(three, c, one, a, b, two),\n",
    "    Set(Set(), Set(a), Set(b), Set(a,b)),\n",
    "    Set())"
   ]
  },
  {
   "cell_type": "code",
   "execution_count": null,
   "metadata": {},
   "outputs": [],
   "source": [
    "# some non-standard enumerated sets pretending to be multi-sets (but not!)\n",
    "set_12131, set_1a1b2a = (\n",
    "    Set(one, two, one, three, one),\n",
    "    Set(one, a, one, b, two, a))"
   ]
  },
  {
   "cell_type": "markdown",
   "metadata": {},
   "source": [
    "### Testing the `permutation_move()` method\n",
    "\n",
    "The <span style=\"font-family=courier\">permutation_move()</span> method has the following format:<br/>\n",
    "    <div style=\"width: 50%; border: 1px solid green; padding: 5px; margin: 20px; background-color: gainsboro; font-family:courier\">permutation_move(self, init_idx=None, final_idx=None, assumptions=USE_DEFAULTS):</div>\n",
    "    and moves the element at index <font style=\"font-family:courier\">init_idx</font> to position <font style=\"font-family:courier\">final_idx</font> (a “pluck and insert” process)."
   ]
  },
  {
   "cell_type": "code",
   "execution_count": null,
   "metadata": {},
   "outputs": [],
   "source": [
    "# permuting an element in a Set of literals\n",
    "Set(one, two, three, four, five).permutation_move(0, 1)"
   ]
  },
  {
   "cell_type": "code",
   "execution_count": null,
   "metadata": {},
   "outputs": [],
   "source": [
    "# permuting an element in a Set of variables\n",
    "Set(a, b, c, d, e).permutation_move(1, 3)"
   ]
  },
  {
   "cell_type": "code",
   "execution_count": null,
   "metadata": {},
   "outputs": [],
   "source": [
    "# permuting an element in a heterogeneous Set\n",
    "Set(one, a, two, b, three, c).permutation_move(3, 1)"
   ]
  },
  {
   "cell_type": "code",
   "execution_count": null,
   "metadata": {},
   "outputs": [],
   "source": [
    "# permuting an element in a Set of Sets\n",
    "power_set_of_ab.permutation_move(0, 3)"
   ]
  },
  {
   "cell_type": "code",
   "execution_count": null,
   "metadata": {},
   "outputs": [],
   "source": [
    "# permuting an element FROM a non-existent location\n",
    "# in the Set should not work\n",
    "try:\n",
    "    set_1a2b3c.permutation_move(6, 3)\n",
    "except IndexError as the_error:\n",
    "    print(\"Index Error: {}\".format(the_error))"
   ]
  },
  {
   "cell_type": "code",
   "execution_count": null,
   "metadata": {},
   "outputs": [],
   "source": [
    "# permuting an element TO a non-existent location\n",
    "# in the Set should not work\n",
    "try:\n",
    "    set_1a2b3c.permutation_move(4, 6)\n",
    "except IndexError as the_error:\n",
    "    print(\"Index Error: {}\".format(the_error))"
   ]
  },
  {
   "cell_type": "markdown",
   "metadata": {},
   "source": [
    "### Testing the `permutation_swap()` method\n",
    "\n",
    "The <span style=\"font-family=courier\">permutation_swap()</span> method has the following format:<br/>\n",
    "    <div style=\"width: 50%; border: 1px solid green; padding: 5px; margin: 20px; background-color: gainsboro; font-family:courier\">permutation_swap(self, idx01=None, idx02=None, assumptions=USE_DEFAULTS):</div>\n",
    "    and attempts to deduce that the Set expression is equal to a Set in which the elements at index locations <font style=\"font-family:courier\">idx01</font> and <font style=\"font-family:courier\">idx02</font> have swapped locations."
   ]
  },
  {
   "cell_type": "code",
   "execution_count": null,
   "metadata": {},
   "outputs": [],
   "source": [
    "# basic swap permutation\n",
    "set_1a2b3c.permutation_swap(1, 4)"
   ]
  },
  {
   "cell_type": "code",
   "execution_count": null,
   "metadata": {},
   "outputs": [],
   "source": [
    "# basic swap with irrelevant assumptions\n",
    "set_1a2b3c.permutation_swap(1, 4, assumptions=[Equals(a, one)])"
   ]
  },
  {
   "cell_type": "code",
   "execution_count": null,
   "metadata": {},
   "outputs": [],
   "source": [
    "# if idx01 > idx02\n",
    "set_123.permutation_swap(1, 0)"
   ]
  },
  {
   "cell_type": "code",
   "execution_count": null,
   "metadata": {},
   "outputs": [],
   "source": [
    "# empty swap: idx01 = idx02\n",
    "set_123.permutation_swap(2, 2)"
   ]
  },
  {
   "cell_type": "code",
   "execution_count": null,
   "metadata": {},
   "outputs": [],
   "source": [
    "# if indices not valid:\n",
    "try:\n",
    "    set_12345.permutation_swap(2, 6)\n",
    "    assert False, \"Should not make it to this point.\"\n",
    "except IndexError as the_error:\n",
    "    print(\"Index Error: {}\".format(the_error))"
   ]
  },
  {
   "cell_type": "markdown",
   "metadata": {},
   "source": [
    "### Testing the `permutation()` method\n",
    "\n",
    "The <span style=\"font-family:courier\">permutation()</span> method has the following format:<br/>\n",
    "    <div style=\"width: 50%; border: 1px solid green; padding: 5px; margin: 20px; background-color: gainsboro; font-family:courier\">permutation(self, new_order=None, cycles=None, assumptions=USE_DEFAULTS)</div>\n",
    "where <font style=\"font-family:courier\">new_order</font> is a list of the indices in the desired order, and <font style=\"font-family:courier\">cycles</font> is a list of tuples designating index-based cycles, either of which derive an equivalence to a permuted version of the Set. A new_order designation must include all indices; a cycles designation need only specify the indices involved in a cycle."
   ]
  },
  {
   "cell_type": "code",
   "execution_count": null,
   "metadata": {},
   "outputs": [],
   "source": [
    "# permuting an element in a Set of literals\n",
    "set_12345.permutation(new_order=[1, 2, 3, 4, 0])"
   ]
  },
  {
   "cell_type": "code",
   "execution_count": null,
   "metadata": {},
   "outputs": [],
   "source": [
    "# permuting an element in a Set of variables\n",
    "set_abcde.permutation(new_order=[4, 3, 1, 0, 2])"
   ]
  },
  {
   "cell_type": "code",
   "execution_count": null,
   "metadata": {},
   "outputs": [],
   "source": [
    "# permuting an element in a heterogeneous Set\n",
    "# using cycle notation\n",
    "set_1a2b3c.permutation(cycles=[(0,1),(2, 3)])"
   ]
  },
  {
   "cell_type": "code",
   "execution_count": null,
   "metadata": {},
   "outputs": [],
   "source": [
    "# permuting an element in a Set of Sets\n",
    "# using cycle notation\n",
    "power_set_of_ab.permutation(cycles=[(0,2,3)])"
   ]
  },
  {
   "cell_type": "code",
   "execution_count": null,
   "metadata": {},
   "outputs": [],
   "source": [
    "# supplying incorrect (out-of-bound) indices for the new_order\n",
    "# should give an informative error\n",
    "try:\n",
    "    set_1a2b3c.permutation(new_order=[2, 3, 1, 5, 4, 6])\n",
    "except IndexError as the_error:\n",
    "    print(\"Index Error: {}\".format(the_error))"
   ]
  },
  {
   "cell_type": "code",
   "execution_count": null,
   "metadata": {},
   "outputs": [],
   "source": [
    "# supplying incomplete indices for the new_order\n",
    "# should give an informative error\n",
    "try:\n",
    "    set_1a2b3c.permutation(new_order=[2, 0, 5, 4])\n",
    "except ValueError as the_error:\n",
    "    print(\"Value Error: {}\".format(the_error))"
   ]
  },
  {
   "cell_type": "code",
   "execution_count": null,
   "metadata": {},
   "outputs": [],
   "source": [
    "# supplying incorrect (out-of-bound) indices for cycles\n",
    "# should give an informative error\n",
    "try:\n",
    "    set_1a2b3c.permutation(cycles=[(1, 3, 2),(0, 6)])\n",
    "    assert False, \"Should not get to this line!\"\n",
    "except IndexError as the_error:\n",
    "    print(\"Index Error: {}\".format(the_error))"
   ]
  },
  {
   "cell_type": "code",
   "execution_count": null,
   "metadata": {},
   "outputs": [],
   "source": [
    "# supplying indices more than once in cycles\n",
    "# notation should give an informative an error\n",
    "try:\n",
    "    set_1a2b3c.permutation(cycles=[(1, 3, 2),(3, 4)])\n",
    "    assert False, \"Should not get to this line!\"\n",
    "except IndexError as the_error:\n",
    "    print(\"Index Error: {}\".format(the_error))"
   ]
  },
  {
   "cell_type": "code",
   "execution_count": null,
   "metadata": {},
   "outputs": [],
   "source": [
    "# supplying both new_order and cycles args\n",
    "# should give an informative an error\n",
    "try:\n",
    "    set_1a2b3c.permutation(new_order=[5,4,3,2,1,0], cycles=[(1, 3, 2)])\n",
    "    assert False, \"Should not get to this line!\"\n",
    "except ValueError as the_error:\n",
    "    print(\"Value Error: {}\".format(the_error))"
   ]
  },
  {
   "cell_type": "markdown",
   "metadata": {},
   "source": [
    "### Automatically proving sets are equal via permutation"
   ]
  },
  {
   "cell_type": "code",
   "execution_count": null,
   "metadata": {},
   "outputs": [],
   "source": [
    "Equals(set_1a2b3c, set_a2c13b).prove()"
   ]
  },
  {
   "cell_type": "code",
   "execution_count": null,
   "metadata": {},
   "outputs": [],
   "source": [
    "Equals(set_1a2b3c, set_3c1ab2).prove()"
   ]
  },
  {
   "cell_type": "code",
   "execution_count": null,
   "metadata": {},
   "outputs": [],
   "source": [
    "Equals(set_a2c13b, set_3c1ab2).prove()"
   ]
  },
  {
   "cell_type": "markdown",
   "metadata": {},
   "source": [
    "### Testing the `deduce_as_superset_eq_of()` method\n",
    "\n",
    "The deduce_as_superset_eq_of() method has the following format:<br/>\n",
    "    <div style=\"width: 50%; border: 1px solid green; padding: 5px; margin: 20px; background-color: gainsboro; font-family:courier\">deduce_as_superset_eq_of(self, subset_indices=None, subset=None, **defaults_config)</div>\n",
    "where one supplies either the <font style=\"font-family:courier\">subset_indices</font> OR a <font style=\"font-family:courier\">subset</font>, but not both. <font style=\"font-family:courier\">subset_indices</font> is a list of indices of desired subset elements of the original Set, and <font style=\"font-family:courier\">subset</font> provides the desired subset as an actual enumerated Set. In using subset_indices or subset, either one, the proffered order of subset elements is preserved in the derived subset relationship."
   ]
  },
  {
   "cell_type": "code",
   "execution_count": null,
   "metadata": {},
   "outputs": [],
   "source": [
    "# some non-standard enumerated sets pretending to be multi-sets (but not!)\n",
    "set_12131, set_1a1b2a = (\n",
    "    Set(one, two, one, three, one),\n",
    "    Set(one, a, one, b, two, a))"
   ]
  },
  {
   "cell_type": "code",
   "execution_count": null,
   "metadata": {},
   "outputs": [],
   "source": [
    "# deducing as a superset_eq of a set of literals\n",
    "set_12345.deduce_as_superset_eq_of(subset_indices=[1, 4, 3])"
   ]
  },
  {
   "cell_type": "code",
   "execution_count": null,
   "metadata": {},
   "outputs": [],
   "source": [
    "# deducing a subset of a heterogeneous Set using subset notation\n",
    "set_1a2b3c.deduce_as_superset_eq_of(subset=Set(a, two, c))"
   ]
  },
  {
   "cell_type": "markdown",
   "metadata": {},
   "source": [
    "### Testing the `deduce_enum_subset_eq()` method\n",
    "\n",
    "The deduce_enum_subset_eq() method has the following format:<br/>\n",
    "    <div style=\"width: 50%; border: 1px solid green; padding: 5px; margin: 20px; background-color: gainsboro; font-family:courier\">deduce_enum_subset_eq(self, subset_indices=None, subset=None, assumptions=USE_DEFAULTS)</div>\n",
    "where one supplies either the <font style=\"font-family:courier\">subset_indices</font> OR a <font style=\"font-family:courier\">subset</font>, but not both. <font style=\"font-family:courier\">subset_indices</font> is a list of indices of desired subset elements of the original Set, and <font style=\"font-family:courier\">subset</font> provides the desired subset as an actual enumerated Set. In using subset_indices or subset, either one, the proffered order of subset elements is preserved in the derived subset relationship."
   ]
  },
  {
   "cell_type": "code",
   "execution_count": null,
   "metadata": {},
   "outputs": [],
   "source": [
    "# deducing a subset of a Set of literals\n",
    "set_12345.deduce_enum_subset_eq(subset_indices=[1, 4, 3])"
   ]
  },
  {
   "cell_type": "code",
   "execution_count": null,
   "metadata": {},
   "outputs": [],
   "source": [
    "# deducing a subset of a Set of variables\n",
    "set_abcde.deduce_enum_subset_eq(subset_indices=[2, 1, 0])"
   ]
  },
  {
   "cell_type": "code",
   "execution_count": null,
   "metadata": {},
   "outputs": [],
   "source": [
    "# deducing a subset of a heterogeneous Set\n",
    "# using subset notation\n",
    "set_1a2b3c.deduce_enum_subset_eq(subset=Set(a, two, c))"
   ]
  },
  {
   "cell_type": "code",
   "execution_count": null,
   "metadata": {},
   "outputs": [],
   "source": [
    "# deducing a subset of a Set of Sets\n",
    "# using subset notation\n",
    "power_set_of_ab.deduce_enum_subset_eq(subset=Set(Set(a), Set(b)))"
   ]
  },
  {
   "cell_type": "code",
   "execution_count": null,
   "metadata": {},
   "outputs": [],
   "source": [
    "# deducing a subset of a Set\n",
    "# with redundant subset elements specified\n",
    "set_1a1b2a.deduce_enum_subset_eq(subset_indices=[0, 1, 2])"
   ]
  },
  {
   "cell_type": "code",
   "execution_count": null,
   "metadata": {},
   "outputs": [],
   "source": [
    "# what if we have a variable in the supposed subset and the variable\n",
    "# is equal to a value in the supposed superset?\n",
    "set_12a = Set(one, two, a)\n",
    "set_12345.deduce_enum_subset_eq(subset=Set(one, two, a), assumptions=[Equals(a, one)])"
   ]
  },
  {
   "cell_type": "code",
   "execution_count": null,
   "metadata": {},
   "outputs": [],
   "source": [
    "# Works when subset = empty set\n",
    "set_12131.deduce_enum_subset_eq(subset=empty_set)"
   ]
  },
  {
   "cell_type": "code",
   "execution_count": null,
   "metadata": {},
   "outputs": [],
   "source": [
    "# Work when subset = superset = empty set\n",
    "empty_set.deduce_enum_subset_eq(subset=empty_set)"
   ]
  },
  {
   "cell_type": "code",
   "execution_count": null,
   "metadata": {},
   "outputs": [],
   "source": [
    "# supplying incorrect (out-of-bound) indices for subset\n",
    "# should give an informative error\n",
    "try:\n",
    "    set_1a2b3c.deduce_enum_subset_eq(subset_indices=[2, 6, 0])\n",
    "except IndexError as the_error:\n",
    "    print(\"Index Error: {}\".format(the_error))"
   ]
  },
  {
   "cell_type": "code",
   "execution_count": null,
   "metadata": {},
   "outputs": [],
   "source": [
    "# supplying incorrect elements for subset\n",
    "# should give an informative error\n",
    "try:\n",
    "    set_1a2b3c.deduce_enum_subset_eq(subset=Set(a, B, two, d))\n",
    "except ValueError as the_error:\n",
    "    print(\"Value Error: {}\".format(the_error))"
   ]
  },
  {
   "cell_type": "markdown",
   "metadata": {},
   "source": [
    "### Testing the `deduce_enum_proper_subset()` method\n",
    "\n",
    "The <span style=\"font-family:courier\">deduce_enum_proper_subset()</span> method has the following format:<br/>\n",
    "    <div style=\"width: 50%; border: 1px solid green; padding: 5px; margin: 20px; background-color: gainsboro; font-family:courier\">deduce_enum_proper_subset(self, subset_indices=None, subset=None, assumptions=USE_DEFAULTS)</div>\n",
    "where one supplies either the <font style=\"font-family:courier\">subset_indices</font> OR a <font style=\"font-family:courier\">subset</font>, but not both. <font style=\"font-family:courier\">subset_indices</font> is a list of indices of desired subset elements of the original Set, and <font style=\"font-family:courier\">subset</font> provides the desired subset as an actual enumerated Set. In using subset_indices or subset, either one, the proffered order of subset elements is preserved in the derived subset relationship."
   ]
  },
  {
   "cell_type": "code",
   "execution_count": null,
   "metadata": {},
   "outputs": [],
   "source": [
    "# deducing a subset of a Set of literals\n",
    "set_12345.deduce_enum_proper_subset(subset_indices=[1, 4, 3])"
   ]
  },
  {
   "cell_type": "code",
   "execution_count": null,
   "metadata": {},
   "outputs": [],
   "source": [
    "# deducing a subset of a Set of variables\n",
    "set_abcde.deduce_enum_proper_subset(\n",
    "        subset_indices=[2, 1, 0],\n",
    "        assumptions=[NotEquals(d,a), NotEquals(d,b), NotEquals(d,c)])"
   ]
  },
  {
   "cell_type": "code",
   "execution_count": null,
   "metadata": {},
   "outputs": [],
   "source": [
    "# deducing a proper subset of a Set of variables\n",
    "# with no additional information about the variables\n",
    "try:\n",
    "    set_abcde.deduce_enum_proper_subset(subset_indices=[2, 1, 0])\n",
    "    assert False, \"Should not make it to this point.\"\n",
    "except ValueError as the_error:\n",
    "    print(\"Proof Failure: {}\".format(the_error))"
   ]
  },
  {
   "cell_type": "code",
   "execution_count": null,
   "metadata": {},
   "outputs": [],
   "source": [
    "# deducing a proper subset of a heterogeneous Set\n",
    "# Will often need more info, depending on the arrangement specified:\n",
    "try:\n",
    "    set_1a2b3c.deduce_enum_proper_subset(subset=Set(a, two, c))\n",
    "    assert False, \"Should not make it to this point.\"\n",
    "except ValueError as the_error:\n",
    "    print(\"Proof Failure: {}\".format(the_error))"
   ]
  },
  {
   "cell_type": "code",
   "execution_count": null,
   "metadata": {},
   "outputs": [],
   "source": [
    "# but we can supply enough info to help:\n",
    "set_1a2b3c.deduce_enum_proper_subset(\n",
    "    subset=Set(a, two, c), assumptions=[NotInSet(one, Set(a, two, c))])"
   ]
  },
  {
   "cell_type": "code",
   "execution_count": null,
   "metadata": {},
   "outputs": [],
   "source": [
    "# deducing a subset of a Set with redundant subset elements specified\n",
    "# the variables will initially be a problem\n",
    "try:\n",
    "    set_1a1b2a.deduce_enum_proper_subset(subset_indices=[0, 1, 2])\n",
    "    assert False, \"Should not get to this point.\"\n",
    "except ValueError as the_error:\n",
    "    print(\"Proof Failure: {}\".format(the_error))"
   ]
  },
  {
   "cell_type": "code",
   "execution_count": null,
   "metadata": {},
   "outputs": [],
   "source": [
    "# but if we supply a single foothold, it will work; notice here that\n",
    "# we supplied the info in terms of the unreduced set, but could also\n",
    "# supply the info in terms of the reduced set (see next cell)\n",
    "set_1a1b2a.deduce_enum_proper_subset(\n",
    "    subset_indices=[0, 1, 2], assumptions=[NotInSet(b, Set(one, a, one))])"
   ]
  },
  {
   "cell_type": "code",
   "execution_count": null,
   "metadata": {},
   "outputs": [],
   "source": [
    "# Compare to previous cell. If we supply a single foothold, it will work;\n",
    "# notice here that we supplied the info in terms of the reduced set, but could also\n",
    "# supply the info in terms of the un-reduced set (see previous cell)\n",
    "set_1a1b2a.deduce_enum_proper_subset(\n",
    "    subset_indices=[0, 1, 2], assumptions=[NotInSet(b, Set(one, a))])"
   ]
  },
  {
   "cell_type": "code",
   "execution_count": null,
   "metadata": {},
   "outputs": [],
   "source": [
    "# Here we have a variable in the supposed proper subset and the variable\n",
    "# is equal to a value in the supposed superset:\n",
    "set_12345.deduce_enum_proper_subset(subset=Set(one, two, a), assumptions=[Equals(a, one)])"
   ]
  },
  {
   "cell_type": "code",
   "execution_count": null,
   "metadata": {},
   "outputs": [],
   "source": [
    "# If we have the same variable appearing in both the subset and superset,\n",
    "# even if we then assume the variable has a specific value, we can\n",
    "# run into difficulties. The following works correctly though:\n",
    "set_1a1b2a.deduce_enum_proper_subset(\n",
    "        subset_indices=[0, 1, 2], assumptions=[Equals(a, one)])"
   ]
  },
  {
   "cell_type": "code",
   "execution_count": null,
   "metadata": {},
   "outputs": [],
   "source": [
    "NotEquals(six, a).prove(assumptions=[Equals(a, one)])"
   ]
  },
  {
   "cell_type": "code",
   "execution_count": null,
   "metadata": {},
   "outputs": [],
   "source": [
    "example_deduction = NotInSet(five, Set(a, two)).prove(assumptions=[Equals(a, one)])"
   ]
  },
  {
   "cell_type": "code",
   "execution_count": null,
   "metadata": {},
   "outputs": [],
   "source": [
    "set_1a1b2a.deduce_enum_proper_subset(\n",
    "            subset_indices=[0, 1, 2], assumptions=[NotEquals(a, two)])"
   ]
  },
  {
   "cell_type": "code",
   "execution_count": null,
   "metadata": {},
   "outputs": [],
   "source": [
    "# Related: note that Prove-It will automatically deduce various\n",
    "# non-membership claims:\n",
    "NotInSet(two, Set(one, a, one)).prove(assumptions=[NotInSet(two, Set(one, a))])"
   ]
  },
  {
   "cell_type": "code",
   "execution_count": null,
   "metadata": {},
   "outputs": [],
   "source": [
    "# Related: note that Prove-It will automatically deduce various\n",
    "# non-membership claims:\n",
    "NotInSet(two, Set(one, a)).prove(\n",
    "        assumptions=[NotInSet(two, Set(one, a, one))])"
   ]
  },
  {
   "cell_type": "code",
   "execution_count": null,
   "metadata": {},
   "outputs": [],
   "source": [
    "# deducing a proper subset of a Set with redundant subset elements specified\n",
    "set_12131.deduce_enum_proper_subset(subset=Set(one, two, two))"
   ]
  },
  {
   "cell_type": "code",
   "execution_count": null,
   "metadata": {},
   "outputs": [],
   "source": [
    "# Also works when the subset is the empty set\n",
    "set_12131.deduce_enum_proper_subset(subset=empty_set)"
   ]
  },
  {
   "cell_type": "code",
   "execution_count": null,
   "metadata": {},
   "outputs": [],
   "source": [
    "# Although the empty set {} is an improper subset of itself\n",
    "# and the empty set is a proper subset of any non-empty set,\n",
    "# the empty set is not a proper subset of itself\n",
    "try:\n",
    "    empty_set.deduce_enum_proper_subset(subset=empty_set)\n",
    "    assert False, \"Should not make it to the point.\"\n",
    "except ValueError as the_error:\n",
    "    print(\"Proof Failure: {}\".format(the_error))"
   ]
  },
  {
   "cell_type": "code",
   "execution_count": null,
   "metadata": {},
   "outputs": [],
   "source": [
    "# supplying incorrect (out-of-bound) indices for subset\n",
    "# should give an informative error\n",
    "try:\n",
    "    set_1a2b3c.deduce_enum_proper_subset(subset_indices=[2, 6, 0])\n",
    "except IndexError as the_error:\n",
    "    print(\"Index Error: {}\".format(the_error))"
   ]
  },
  {
   "cell_type": "code",
   "execution_count": null,
   "metadata": {},
   "outputs": [],
   "source": [
    "# supplying incorrect elements for subset\n",
    "# should give an informative error\n",
    "try:\n",
    "    set_1a2b3c.deduce_enum_proper_subset(subset=Set(a, B, two, d))\n",
    "except ValueError as the_error:\n",
    "    print(\"Value Error: {}\".format(the_error))"
   ]
  },
  {
   "cell_type": "code",
   "execution_count": null,
   "metadata": {},
   "outputs": [],
   "source": [
    "# Switching the subset and superset should give an error\n",
    "try:\n",
    "    set_123.deduce_enum_proper_subset(subset=set_123456)\n",
    "    assert False, \"Should not make it to this point!\"\n",
    "except ValueError as the_error:\n",
    "    print(\"Value Error: {}\".format(the_error))"
   ]
  },
  {
   "cell_type": "markdown",
   "metadata": {},
   "source": [
    "### Testing the `elem_multiplicity_reduction()` method\n",
    "\n",
    "The `Set.elem_multiplicity_reduction()` method has the following format:<br/>\n",
    "    <div style=\"width: 75%; border: 1px solid green; padding: 5px; margin: 20px; background-color: gainsboro; font-family:courier\">elem_multiplicity_reduction(self, elem=None, idx=None, **defaults_config)</div>\n",
    "and attempts to deduce that the Set expression is equal to the same Set in which the multiply-occurring set element specified by `elem` or by the 0-based position `idx` has been removed from the set. If `elem` specified, method attempts to delete the 2nd occurrence of `elem` from the set. If neither `elem` nor `idx` specified, method attempts to delete the first repeated element of the Set. If both `elem` and `idx` are specified, the `elem` param is ignored."
   ]
  },
  {
   "cell_type": "code",
   "execution_count": null,
   "metadata": {},
   "outputs": [],
   "source": [
    "# A reminder of some Sets with (apparent) multiplicities\n",
    "display(Set(one, two, one, three, one))\n",
    "display(Set(one, a, one, b, two, a))"
   ]
  },
  {
   "cell_type": "code",
   "execution_count": null,
   "metadata": {},
   "outputs": [],
   "source": [
    "# remove the 2nd occurrence of the element 1\n",
    "Set(one, two, one, three, one).elem_multiplicity_reduction(elem=one)"
   ]
  },
  {
   "cell_type": "code",
   "execution_count": null,
   "metadata": {},
   "outputs": [],
   "source": [
    "# remove the element 1 occurring at 0-based index position 4\n",
    "Set(one, two, one, three, one).elem_multiplicity_reduction(idx=4)"
   ]
  },
  {
   "cell_type": "code",
   "execution_count": null,
   "metadata": {},
   "outputs": [],
   "source": [
    "# remove the element '1' occurring at 0-based index position 4\n",
    "# ignoring the elem argument referring to element '3'\n",
    "Set(one, two, one, three, one, three).elem_multiplicity_reduction(elem=three, idx=4)"
   ]
  },
  {
   "cell_type": "code",
   "execution_count": null,
   "metadata": {},
   "outputs": [],
   "source": [
    "# remove the 1st occurrence of the multiply-occurring element 'a'\n",
    "Set(one, a, one, b, two, a).elem_multiplicity_reduction(idx=1)"
   ]
  },
  {
   "cell_type": "code",
   "execution_count": null,
   "metadata": {},
   "outputs": [],
   "source": [
    "# remove the 1st repetition of an element (using default args)\n",
    "Set(one, a, one, b, two, a).elem_multiplicity_reduction()"
   ]
  },
  {
   "cell_type": "code",
   "execution_count": null,
   "metadata": {},
   "outputs": [],
   "source": [
    "# reduce set by removing a non-trivially-defined multiply-occurring element\n",
    "Set(one, Add(one, one), one, Add(one, one)).elem_multiplicity_reduction(elem=Add(one, one))"
   ]
  },
  {
   "cell_type": "code",
   "execution_count": null,
   "metadata": {},
   "outputs": [],
   "source": [
    "# try reducing with default args a set with no multiplicities\n",
    "try:\n",
    "    Set(one, two, three).elem_multiplicity_reduction()\n",
    "    assert False, \"Should not make it to this point!\"\n",
    "except ValueError as the_error:\n",
    "    print(\"Value Error: {}\".format(the_error))"
   ]
  },
  {
   "cell_type": "code",
   "execution_count": null,
   "metadata": {},
   "outputs": [],
   "source": [
    "# try reducing a specific element with no multiplicities\n",
    "try:\n",
    "    Set(one, a, one, b, two, a).elem_multiplicity_reduction(elem=b)\n",
    "    assert False, \"Should not make it to this point!\"\n",
    "except ValueError as the_error:\n",
    "    print(\"Value Error: {}\".format(the_error))"
   ]
  },
  {
   "cell_type": "code",
   "execution_count": null,
   "metadata": {},
   "outputs": [],
   "source": [
    "# try reducing a specific element that does not appear in the set\n",
    "try:\n",
    "    Set(one, a, one, b, two, a).elem_multiplicity_reduction(elem=c)\n",
    "    assert False, \"Should not make it to this point!\"\n",
    "except ValueError as the_error:\n",
    "    print(\"Value Error: {}\".format(the_error))"
   ]
  },
  {
   "cell_type": "code",
   "execution_count": null,
   "metadata": {},
   "outputs": [],
   "source": [
    "# try reducing an element by idx when the elem occurs only once\n",
    "try:\n",
    "    Set(one, a, one, b, two, a).elem_multiplicity_reduction(idx=3)\n",
    "    assert False, \"Should not make it to this point!\"\n",
    "except ValueError as the_error:\n",
    "    print(\"Value Error: {}\".format(the_error))"
   ]
  },
  {
   "cell_type": "markdown",
   "metadata": {},
   "source": [
    "### Testing the `reduction()` method\n",
    "\n",
    "The <span style=\"font-family:courier\">Set.reduction()</span> method has the following format:<br/>\n",
    "    <div style=\"width: 50%; border: 1px solid green; padding: 5px; margin: 20px; background-color: gainsboro; font-family:courier\">reduction(self, assumptions=USE_DEFAULTS)</div>\n",
    "and attempts to deduce that the Set expression is equal to the Set's support -- i.e. equal to a Set with all multiplicities reduced to 1. The resulting support Set maintains the original order of all 1st-appearing elements in the Set."
   ]
  },
  {
   "cell_type": "code",
   "execution_count": null,
   "metadata": {},
   "outputs": [],
   "source": [
    "# A reminder of some Sets with (apparent) multiplicities\n",
    "display(Set(one, two, one, three, one))\n",
    "display(Set(one, a, one, b, two, a))"
   ]
  },
  {
   "cell_type": "code",
   "execution_count": null,
   "metadata": {},
   "outputs": [],
   "source": [
    "Set(one, two, one, three, one).reduction()"
   ]
  },
  {
   "cell_type": "code",
   "execution_count": null,
   "metadata": {},
   "outputs": [],
   "source": [
    "Set(one, a, one, b, two, a).reduction()"
   ]
  },
  {
   "cell_type": "code",
   "execution_count": null,
   "metadata": {},
   "outputs": [],
   "source": [
    "Set(one, two, three).reduction()"
   ]
  },
  {
   "cell_type": "code",
   "execution_count": null,
   "metadata": {},
   "outputs": [],
   "source": [
    "Set().reduction()"
   ]
  },
  {
   "cell_type": "code",
   "execution_count": null,
   "metadata": {},
   "outputs": [],
   "source": [
    "Set(one, Add(one, one), one).elem_multiplicity_reduction(idx=0)"
   ]
  },
  {
   "cell_type": "markdown",
   "metadata": {},
   "source": [
    "### Testing the `shallow_simplification()` method\n",
    "\n",
    "Currently, `shallow_simplification` eliminates multiplicities (see `reduction`) and also, if all of the elements are literal integers, puts them into a sorted order."
   ]
  },
  {
   "cell_type": "code",
   "execution_count": null,
   "metadata": {},
   "outputs": [],
   "source": [
    "unsimplified_set = Set(five, two, two, six, three, one, four, five)"
   ]
  },
  {
   "cell_type": "code",
   "execution_count": null,
   "metadata": {},
   "outputs": [],
   "source": [
    "unsimplified_set.simplification()"
   ]
  },
  {
   "cell_type": "markdown",
   "metadata": {},
   "source": [
    "Either of these may be disabled via changing the `Set` simplification directives."
   ]
  },
  {
   "cell_type": "code",
   "execution_count": null,
   "metadata": {},
   "outputs": [],
   "source": [
    "Set.change_simplification_directives(eliminate_duplicates=False)"
   ]
  },
  {
   "cell_type": "code",
   "execution_count": null,
   "metadata": {},
   "outputs": [],
   "source": [
    "unsimplified_set.simplification()"
   ]
  },
  {
   "cell_type": "code",
   "execution_count": null,
   "metadata": {},
   "outputs": [],
   "source": [
    "Set.change_simplification_directives(\n",
    "    eliminate_duplicates=True, sort_if_literal_integers=False)"
   ]
  },
  {
   "cell_type": "code",
   "execution_count": null,
   "metadata": {},
   "outputs": [],
   "source": [
    "unsimplified_set.simplification()"
   ]
  },
  {
   "cell_type": "markdown",
   "metadata": {},
   "source": [
    "### Testing the `single_elem_substitution()` method\n",
    "\n",
    "The <span style=\"font-family:courier\">Set.single_elem_substitution()</span> method has the following format:<br/>\n",
    "    <div style=\"width: 50%; border: 1px solid green; padding: 5px; margin: 20px; background-color: gainsboro\">\n",
    "    <font style=\"font-family:courier\">single_elem_substitution(self, elem=None, idx=None, sub_elem=None, assumptions=USE_DEFAULTS)</font>\n",
    "    </div>\n",
    "and attempts to deduce that the Set expression is equal to the Set obtained when the element specified by elem or idx is replaced by sub_elem, which requires that elem = sub_elem."
   ]
  },
  {
   "cell_type": "code",
   "execution_count": null,
   "metadata": {},
   "outputs": [],
   "source": [
    "# |– Replace the 1st 'a' (elem at index 1) in {1, a, 1, b, 2, a} with 2\n",
    "# using idx arg\n",
    "set_1a1b2a.single_elem_substitution(idx=1, sub_elem=two, assumptions=[Equals(a, two)])"
   ]
  },
  {
   "cell_type": "code",
   "execution_count": null,
   "metadata": {},
   "outputs": [],
   "source": [
    "# |– Replace the 1st 'a' (elem at index 1) in {1, a, 1, b, 2, a} with 2\n",
    "# using elem arg\n",
    "set_1a1b2a.single_elem_substitution(elem=a, sub_elem=two, assumptions=[Equals(a, two)])"
   ]
  },
  {
   "cell_type": "code",
   "execution_count": null,
   "metadata": {},
   "outputs": [],
   "source": [
    "# |– Replace the 2nd 'a' (elem at index 5) in {1, a, 1, b, 2, a} with 2\n",
    "# using compound elem arg\n",
    "set_1a1b2a.single_elem_substitution(elem=[a, 2], sub_elem=two, assumptions=[Equals(a, two)])"
   ]
  },
  {
   "cell_type": "code",
   "execution_count": null,
   "metadata": {},
   "outputs": [],
   "source": [
    "# |– Replace the 1st 'e' (elem at index 4) in {a, b, c, d, e} with 4\n",
    "# using idx arg\n",
    "from proveit import e\n",
    "set_abcde.single_elem_substitution(idx=4, sub_elem=four, assumptions=[Equals(e, four)])"
   ]
  },
  {
   "cell_type": "code",
   "execution_count": null,
   "metadata": {},
   "outputs": [],
   "source": [
    "# We can go the other way as well, replacing a literal by a variable. Yay!\n",
    "Set(one, two, three, four, five).single_elem_substitution(elem=three, sub_elem=c, assumptions=[Equals(c, three)])"
   ]
  },
  {
   "cell_type": "code",
   "execution_count": null,
   "metadata": {},
   "outputs": [],
   "source": [
    "# And we can replace a variable with a variable. Yay!\n",
    "from proveit import e\n",
    "set_abcde.single_elem_substitution(elem=c, sub_elem=e, assumptions=[Equals(c, e)])"
   ]
  },
  {
   "cell_type": "code",
   "execution_count": null,
   "metadata": {},
   "outputs": [],
   "source": [
    "# should get meaningful error message when trying to substitute for an\n",
    "# element but picking a multiplicity that doesn't exist. Here there is no 2nd 'b':\n",
    "try:\n",
    "    set_1a1b2a.single_elem_substitution(elem=[b, 2], sub_elem=two, assumptions=[Equals(a, two)])\n",
    "    assert False, \"Should not make it to this point.\"\n",
    "except ValueError as the_error:\n",
    "    print(\"Value Error: {}\".format(the_error))"
   ]
  },
  {
   "cell_type": "code",
   "execution_count": null,
   "metadata": {},
   "outputs": [],
   "source": [
    "# should get meaningful error message when trying to substitute for an\n",
    "# element but picking a multiplicity that doesn't make sense:\n",
    "try:\n",
    "    set_1a1b2a.single_elem_substitution(elem=[b, 0], sub_elem=two, assumptions=[Equals(a, two)])\n",
    "    assert False, \"Should not make it to this point.\"\n",
    "except ValueError as the_error:\n",
    "    print(\"Value Error: {}\".format(the_error))"
   ]
  },
  {
   "cell_type": "code",
   "execution_count": null,
   "metadata": {},
   "outputs": [],
   "source": [
    "# should get a meaningful error message when omitting the sub_elem argument\n",
    "try:\n",
    "    set_1a1b2a.single_elem_substitution(idx=1, assumptions=[Equals(a, two)])\n",
    "    assert False, \"Should not make it to this point.\"\n",
    "except ValueError as the_error:\n",
    "    print(\"Value Error: {}\".format(the_error))"
   ]
  },
  {
   "cell_type": "code",
   "execution_count": null,
   "metadata": {},
   "outputs": [],
   "source": [
    "# should get meaningful error message when trying to substitute for an\n",
    "# element that doesn't exist in the original set:\n",
    "try:\n",
    "    set_1a1b2a.single_elem_substitution(elem=c, sub_elem=two, assumptions=[Equals(c, two)])\n",
    "    assert False, \"Should not make it to this point.\"\n",
    "except ValueError as the_error:\n",
    "    print(\"Value Error: {}\".format(the_error))"
   ]
  },
  {
   "cell_type": "markdown",
   "metadata": {},
   "source": [
    "### Testing the `elem_substitution()` method\n",
    "\n",
    "The <span style=\"font-family:courier\">Set.elem_substitution()</span> method has the following format:<br/>\n",
    "    <div style=\"width: 50%; border: 1px solid green; padding: 5px; margin: 20px; background-color: gainsboro\">\n",
    "    <font style=\"font-family:courier\">elem_substitution(self, elem=None, sub_elem=None, assumptions=USE_DEFAULTS)</font>\n",
    "    </div>\n",
    "and attempts to deduce that the Set expression is equal to the Set obtained when all instances of the element specified by elem are replaced by sub_elem, which requires that elem = sub_elem."
   ]
  },
  {
   "cell_type": "code",
   "execution_count": null,
   "metadata": {},
   "outputs": [],
   "source": [
    "# |– Replace all instances of 'a' in {1, a, 1, b, 2, a} with 2\n",
    "set_1a1b2a.elem_substitution(elem=a, sub_elem=two, assumptions=[Equals(a, two)])"
   ]
  },
  {
   "cell_type": "code",
   "execution_count": null,
   "metadata": {},
   "outputs": [],
   "source": [
    "# |– Replace all instances of 'b' in {1, a, 1, b, 2, a} with 3\n",
    "set_1a1b2a.elem_substitution(elem=b, sub_elem=three, assumptions=[Equals(b, three)])"
   ]
  },
  {
   "cell_type": "code",
   "execution_count": null,
   "metadata": {},
   "outputs": [],
   "source": [
    "Set(a, b, a, b, a).elem_substitution(elem=a, sub_elem=two, assumptions=[Equals(a, two)])"
   ]
  },
  {
   "cell_type": "code",
   "execution_count": null,
   "metadata": {},
   "outputs": [],
   "source": [
    "# |– Replace all instances of 'e' in {a, b, c, d, e} with 4\n",
    "from proveit import e\n",
    "set_abcde.elem_substitution(elem=e, sub_elem=four, assumptions=[Equals(e, four)])"
   ]
  },
  {
   "cell_type": "code",
   "execution_count": null,
   "metadata": {},
   "outputs": [],
   "source": [
    "# We can go the other way as well, replacing all instances of a literal by a variable. Yay!\n",
    "# Here we replace all instances of 3 with the variable c\n",
    "Set(one, two, three, four, five).elem_substitution(elem=three, sub_elem=c, assumptions=[Equals(c, three)])"
   ]
  },
  {
   "cell_type": "code",
   "execution_count": null,
   "metadata": {},
   "outputs": [],
   "source": [
    "# And we can replace a variable with a variable. Yay!\n",
    "# Here we replace all instances of c with the variable e\n",
    "from proveit import e\n",
    "set_abcde.elem_substitution(elem=c, sub_elem=e, assumptions=[Equals(c, e)])"
   ]
  },
  {
   "cell_type": "code",
   "execution_count": null,
   "metadata": {},
   "outputs": [],
   "source": [
    "# What if we do a sequence of these, and then call deduce_enum_subset_eq? Is it possible to \n",
    "# get back to where we began?\n",
    "# Here we show that {a, b, c, d, e} \\subset_eq {1, 2, 3, d, e} when a=2, b=2, c=3.\n",
    "temp_assumptions = [Equals(a, two), Equals(b, two), Equals(c, three)]\n",
    "elems_to_replace = [a, b, c]\n",
    "elems_sub = [two, two, three]\n",
    "num_elems_to_replace = len(elems_to_replace)\n",
    "from proveit import TransRelUpdater\n",
    "expr = set_abcde\n",
    "eq = TransRelUpdater(expr, temp_assumptions)\n",
    "for i in range(0, len(elems_to_replace)):\n",
    "    expr = eq.update(expr.elem_substitution(\n",
    "            elem=elems_to_replace[i], sub_elem=elems_sub[i],\n",
    "            assumptions=temp_assumptions, preserve_all=True))\n",
    "temp_subset_eq_kt = Set(one, two, three, d, e).deduce_enum_subset_eq(subset = expr)\n",
    "eq.relation.sub_left_side_into(temp_subset_eq_kt)"
   ]
  },
  {
   "cell_type": "code",
   "execution_count": null,
   "metadata": {},
   "outputs": [],
   "source": [
    "# Should get meaningful error message when trying to substitute for an\n",
    "# element that doesn't exist in the original set:\n",
    "try:\n",
    "    set_1a1b2a.elem_substitution(elem=c, sub_elem=two, assumptions=[Equals(c, two)])\n",
    "    assert False, \"Should not make it to this point.\"\n",
    "except ValueError as the_error:\n",
    "    print(\"Value Error: {}\".format(the_error))"
   ]
  },
  {
   "cell_type": "code",
   "execution_count": null,
   "metadata": {},
   "outputs": [],
   "source": [
    "# Should get meaningful error message when omitting the elem argument\n",
    "try:\n",
    "    set_1a1b2a.elem_substitution(sub_elem=two, assumptions=[Equals(c, two)])\n",
    "    assert False, \"Should not make it to this point.\"\n",
    "except ValueError as the_error:\n",
    "    print(\"Value Error: {}\".format(the_error))"
   ]
  },
  {
   "cell_type": "code",
   "execution_count": null,
   "metadata": {},
   "outputs": [],
   "source": [
    "# Should get meaningful error message when omitting the sub_elem argument\n",
    "try:\n",
    "    set_1a1b2a.elem_substitution(elem=a, assumptions=[Equals(a, two)])\n",
    "    assert False, \"Should not make it to this point.\"\n",
    "except ValueError as the_error:\n",
    "    print(\"Value Error: {}\".format(the_error))"
   ]
  },
  {
   "cell_type": "markdown",
   "metadata": {},
   "source": [
    "### Testing the `membership_object()` method\n",
    "\n",
    "The <span style=\"font-family:courier\">Set.membership_object()</span> method has the following format:<br/>\n",
    "    <div style=\"width: 50%; border: 1px solid green; padding: 5px; margin: 20px; background-color: gainsboro\">\n",
    "    <font style=\"font-family:courier\">membership_object(self, element)</font><br/>\n",
    "    </div>\n",
    "    and produces an <span style=\"font-family:courier\">EnumMembership</span> object of the form (element $\\in$ self), which then has a number of related methods such as <span style=\"font-family:courier\">side_effects()</span>, <span style=\"font-family:courier\">definition()</span>, <i>etc.</i>"
   ]
  },
  {
   "cell_type": "code",
   "execution_count": null,
   "metadata": {},
   "outputs": [],
   "source": [
    "example_membership_obj_01 = Set(B,C,D).membership_object(C)"
   ]
  },
  {
   "cell_type": "code",
   "execution_count": null,
   "metadata": {},
   "outputs": [],
   "source": [
    "# to see the explicit membership object, use the expr attribute\n",
    "example_membership_obj_01.expr"
   ]
  },
  {
   "cell_type": "code",
   "execution_count": null,
   "metadata": {},
   "outputs": [],
   "source": [
    "example_membership_obj_02 = Set(B,C,D).membership_object(E)"
   ]
  },
  {
   "cell_type": "code",
   "execution_count": null,
   "metadata": {},
   "outputs": [],
   "source": [
    "example_membership_obj_02.expr"
   ]
  },
  {
   "cell_type": "markdown",
   "metadata": {},
   "source": [
    "#### `membership_object().definition()`"
   ]
  },
  {
   "cell_type": "code",
   "execution_count": null,
   "metadata": {},
   "outputs": [],
   "source": [
    "# With variables\n",
    "Set(B,C,D).membership_object(C).definition()"
   ]
  },
  {
   "cell_type": "code",
   "execution_count": null,
   "metadata": {},
   "outputs": [],
   "source": [
    "Set(B,C,D).membership_object(E).definition()"
   ]
  },
  {
   "cell_type": "code",
   "execution_count": null,
   "metadata": {},
   "outputs": [],
   "source": [
    "# Works easily with literals\n",
    "Set(one, two, three).membership_object(three).definition()"
   ]
  },
  {
   "cell_type": "code",
   "execution_count": null,
   "metadata": {},
   "outputs": [],
   "source": [
    "# Works easily with literals\n",
    "Set(one, two, three).membership_object(four).definition()"
   ]
  },
  {
   "cell_type": "code",
   "execution_count": null,
   "metadata": {},
   "outputs": [],
   "source": [
    "# Also appears to work OK with single-element sets\n",
    "Set(one).membership_object(four).definition()"
   ]
  },
  {
   "cell_type": "code",
   "execution_count": null,
   "metadata": {},
   "outputs": [],
   "source": [
    "# Also works with single-element sets\n",
    "Set(y).membership_object(x).definition()"
   ]
  },
  {
   "cell_type": "markdown",
   "metadata": {},
   "source": [
    "#### `membership_object().conclude()`"
   ]
  },
  {
   "cell_type": "code",
   "execution_count": null,
   "metadata": {},
   "outputs": [],
   "source": [
    "Set(B,C,D).membership_object(C).conclude()"
   ]
  },
  {
   "cell_type": "code",
   "execution_count": null,
   "metadata": {},
   "outputs": [],
   "source": [
    "# Will fail to conclude without suffient info. In particular, needs to\n",
    "# know the element in question is equal to one of the set elements\n",
    "try:\n",
    "    Set(B,C,D).membership_object(A).conclude()\n",
    "    assert False, \"Should not make it to this point.\"\n",
    "except InstantiationFailure as the_error:\n",
    "    print(\"InstantiationFailure: {}\".format(the_error))"
   ]
  },
  {
   "cell_type": "code",
   "execution_count": null,
   "metadata": {},
   "outputs": [],
   "source": [
    "# Works easily with literals\n",
    "Set(one, two, three).membership_object(three).conclude()"
   ]
  },
  {
   "cell_type": "code",
   "execution_count": null,
   "metadata": {},
   "outputs": [],
   "source": [
    "# Will fail as it should when trying to conclude a false membership claim\n",
    "try:\n",
    "    Set(one, two, three).membership_object(four).conclude()\n",
    "    assert False, \"Should not make it to this point.\"\n",
    "except InstantiationFailure as the_error:\n",
    "    print(\"InstantiationFailure: {}\".format(the_error))"
   ]
  },
  {
   "cell_type": "code",
   "execution_count": null,
   "metadata": {},
   "outputs": [],
   "source": [
    "# Notice that the conclude() method will not automatically\n",
    "# simplify expressions within the list:\n",
    "temp_test_set = Set(one, Add(one, one), three)\n",
    "temp_test_mem = temp_test_set.membership_object(three).expr"
   ]
  },
  {
   "cell_type": "code",
   "execution_count": null,
   "metadata": {},
   "outputs": [],
   "source": [
    "temp_test_mem.conclude()"
   ]
  },
  {
   "cell_type": "code",
   "execution_count": null,
   "metadata": {},
   "outputs": [],
   "source": [
    "# Notice that the conclude() method will not automatically\n",
    "# simplify expressions within the list, but can still check for equality\n",
    "# (Here, 2 = 1+1, and thus the value 2 is indeed in the list)\n",
    "temp_test_set_02 = Set(one, Add(one, one), three)\n",
    "temp_test_mem_02 = temp_test_set.membership_object(two).expr"
   ]
  },
  {
   "cell_type": "code",
   "execution_count": null,
   "metadata": {},
   "outputs": [],
   "source": [
    "temp_test_mem_02.conclude()"
   ]
  },
  {
   "cell_type": "markdown",
   "metadata": {},
   "source": [
    "#### `membership_object().unfold()`"
   ]
  },
  {
   "cell_type": "code",
   "execution_count": null,
   "metadata": {},
   "outputs": [],
   "source": [
    "Set(B,C,D).membership_object(C).unfold()"
   ]
  },
  {
   "cell_type": "code",
   "execution_count": null,
   "metadata": {},
   "outputs": [],
   "source": [
    "Set(one, two, three).membership_object(three).unfold()"
   ]
  },
  {
   "cell_type": "code",
   "execution_count": null,
   "metadata": {},
   "outputs": [],
   "source": [
    "# The unfolding will only work if the membership_object is true:\n",
    "try:\n",
    "    Set(one, two, three).membership_object(four).unfold()\n",
    "    assert False, \"Should not get to this point.\"\n",
    "except InstantiationFailure as the_error:\n",
    "    print(\"InstantiationFailure: {}\".format(the_error))"
   ]
  },
  {
   "cell_type": "markdown",
   "metadata": {},
   "source": [
    "#### `membership_object().derive_in_singleton()`"
   ]
  },
  {
   "cell_type": "code",
   "execution_count": null,
   "metadata": {},
   "outputs": [],
   "source": [
    "# The purpose of the derive_in_singleton() method is very mysterious.\n",
    "Set(one, two, three).membership_object(three).derive_in_singleton(Equals(InSet(two, Set(two)), TRUE))"
   ]
  },
  {
   "cell_type": "code",
   "execution_count": null,
   "metadata": {},
   "outputs": [],
   "source": [
    "Set(y).membership_object(x).derive_in_singleton(Equals(InSet(x, Set(y)), FALSE), assumptions=[NotEquals(x,y)])"
   ]
  },
  {
   "cell_type": "code",
   "execution_count": null,
   "metadata": {},
   "outputs": [],
   "source": [
    "# Notice that the derived singleton membership claim can be\n",
    "# completely independent of the original membership_object\n",
    "Set(one, two, three).membership_object(three).derive_in_singleton(\n",
    "    Equals(InSet(two, Set(two)), TRUE))"
   ]
  },
  {
   "cell_type": "markdown",
   "metadata": {},
   "source": [
    "#### `membership_object().deduce_in_bool()`"
   ]
  },
  {
   "cell_type": "code",
   "execution_count": null,
   "metadata": {},
   "outputs": [],
   "source": [
    "Set(A, B, C).membership_object(B).deduce_in_bool()"
   ]
  },
  {
   "cell_type": "code",
   "execution_count": null,
   "metadata": {},
   "outputs": [],
   "source": [
    "Set(one, two, three).membership_object(three).deduce_in_bool()"
   ]
  },
  {
   "cell_type": "code",
   "execution_count": null,
   "metadata": {},
   "outputs": [],
   "source": [
    "# And of course a false membership claim is also Boolean\n",
    "Set(one, two, three).membership_object(four).deduce_in_bool()"
   ]
  },
  {
   "cell_type": "markdown",
   "metadata": {},
   "source": [
    "### Testing the `nonmembership_object()` method\n",
    "\n",
    "The <span style=\"font-family:courier\">Set.nonmembership_object()</span> method has the following format:<br/>\n",
    "    <div style=\"width: 50%; border: 1px solid green; padding: 5px; margin: 20px; background-color: gainsboro\">\n",
    "    <font style=\"font-family:courier\">nonmembership_object(self, element)</font><br/>\n",
    "    </div>\n",
    "    and produces an <span style=\"font-family:courier\">EnumNonmmembership</span> object of the form (element $\\notin$ self), along with a number of related methods such as <span style=\"font-family:courier\">side_effects()</span>, <span style=\"font-family:courier\">equivalence()</span>, <i>etc.</i>"
   ]
  },
  {
   "cell_type": "code",
   "execution_count": null,
   "metadata": {},
   "outputs": [],
   "source": [
    "example_nonmembership_object_01 = Set(B,C,D).nonmembership_object(A)"
   ]
  },
  {
   "cell_type": "code",
   "execution_count": null,
   "metadata": {},
   "outputs": [],
   "source": [
    "example_nonmembership_object_01.expr"
   ]
  },
  {
   "cell_type": "markdown",
   "metadata": {},
   "source": [
    "#### `nonmembership_object().definition()`"
   ]
  },
  {
   "cell_type": "code",
   "execution_count": null,
   "metadata": {},
   "outputs": [],
   "source": [
    "Set(B,C,D).nonmembership_object(A).definition()"
   ]
  },
  {
   "cell_type": "code",
   "execution_count": null,
   "metadata": {},
   "outputs": [],
   "source": [
    "set_123.nonmembership_object(four).definition()"
   ]
  },
  {
   "cell_type": "code",
   "execution_count": null,
   "metadata": {},
   "outputs": [],
   "source": [
    "# notice the equivalence doesn't depend on the\n",
    "# nonmembership_object being true\n",
    "set_123.nonmembership_object(two).definition()"
   ]
  },
  {
   "cell_type": "code",
   "execution_count": null,
   "metadata": {},
   "outputs": [],
   "source": [
    "Set(one, two).nonmembership_object(two).definition()"
   ]
  },
  {
   "cell_type": "code",
   "execution_count": null,
   "metadata": {},
   "outputs": [],
   "source": [
    "# Works with singletons as well\n",
    "Set(one,).nonmembership_object(two).definition()"
   ]
  },
  {
   "cell_type": "code",
   "execution_count": null,
   "metadata": {},
   "outputs": [],
   "source": [
    "# Works with singletons as well\n",
    "Set(y).nonmembership_object(x).definition()"
   ]
  },
  {
   "cell_type": "markdown",
   "metadata": {},
   "source": [
    "#### `nonmembership_object().conclude()`"
   ]
  },
  {
   "cell_type": "code",
   "execution_count": null,
   "metadata": {},
   "outputs": [],
   "source": [
    "# Will fail to conclude without suffient info. In particular,\n",
    "# needs to know the element in question is not equal to \n",
    "# any of the set elements\n",
    "try:\n",
    "    Set(B,C,D).nonmembership_object(A).conclude()\n",
    "    assert False, \"Should not make it to this point.\"\n",
    "except InstantiationFailure as the_error:\n",
    "    print(\"Proof/Instantiation Failure: {}\".format(the_error))"
   ]
  },
  {
   "cell_type": "code",
   "execution_count": null,
   "metadata": {},
   "outputs": [],
   "source": [
    "# But given sufficient information, conclude() method works just fine\n",
    "Set(B,C,D).nonmembership_object(A).conclude(\n",
    "        assumptions=[NotEquals(A, B), NotEquals(A, C), NotEquals(A, D)])"
   ]
  },
  {
   "cell_type": "code",
   "execution_count": null,
   "metadata": {},
   "outputs": [],
   "source": [
    "# Works easily with literals\n",
    "Set(one, two, three).nonmembership_object(four).conclude()"
   ]
  },
  {
   "cell_type": "code",
   "execution_count": null,
   "metadata": {},
   "outputs": [],
   "source": [
    "# A singleton example -- requires explicit assumptions\n",
    "Set(y).nonmembership_object(x).conclude(assumptions=[NotEquals(x, y)])"
   ]
  },
  {
   "cell_type": "code",
   "execution_count": null,
   "metadata": {},
   "outputs": [],
   "source": [
    "# The conclude does not automatically simplify the expressions in the list\n",
    "Set(one, Add(one, one), three).nonmembership_object(four).conclude()"
   ]
  },
  {
   "cell_type": "code",
   "execution_count": null,
   "metadata": {},
   "outputs": [],
   "source": [
    "# # The conclude does not automatically simplify the expressions in the list\n",
    "# but can still check for equalities --- in this case, the nonmembership\n",
    "# is false (since 2 = 1 + 1), and thus the conclude() should fail because\n",
    "# the value 2 is in {1, 1+1, 3}\n",
    "try:\n",
    "    Set(one, Add(one, one), three).nonmembership_object(two).conclude()\n",
    "    assert False, \"Expecting a ProofFailure (InstantiationFailure); should not make it this far!\"\n",
    "except InstantiationFailure as the_error:\n",
    "    print(\"InstantiationFailure: {}\".format(the_error))"
   ]
  },
  {
   "cell_type": "markdown",
   "metadata": {},
   "source": [
    "#### `nonmembership_object().unfold()`"
   ]
  },
  {
   "cell_type": "code",
   "execution_count": null,
   "metadata": {},
   "outputs": [],
   "source": [
    "Set(B,C,D).nonmembership_object(A).unfold(assumptions=[NotInSet(A, Set(B, C, D))])"
   ]
  },
  {
   "cell_type": "code",
   "execution_count": null,
   "metadata": {},
   "outputs": [],
   "source": [
    "Set(one, two).nonmembership_object(A).unfold(assumptions=[NotInSet(A, Set(one, two))])"
   ]
  },
  {
   "cell_type": "code",
   "execution_count": null,
   "metadata": {},
   "outputs": [],
   "source": [
    "Set(one, two, three).nonmembership_object(four).unfold()"
   ]
  },
  {
   "cell_type": "code",
   "execution_count": null,
   "metadata": {},
   "outputs": [],
   "source": [
    "# Will fail to conclude if non-membership is simply known to be False.\n",
    "try:\n",
    "    Set(one, two, three, four).nonmembership_object(four).unfold()\n",
    "    assert False, \"Should not make it to this point.\"\n",
    "except InstantiationFailure as the_error:\n",
    "    print(\"Proof/Instantiation Failure: {}\".format(the_error))"
   ]
  },
  {
   "cell_type": "code",
   "execution_count": null,
   "metadata": {},
   "outputs": [],
   "source": [
    "# Will fail to conclude if non-membership is simply unknown to be True or not.\n",
    "try:\n",
    "    Set(A, B, C).nonmembership_object(D).unfold()\n",
    "    assert False, \"Should not make it to this point.\"\n",
    "except InstantiationFailure as the_error:\n",
    "    print(\"Proof/Instantiation Failure: {}\".format(the_error))"
   ]
  },
  {
   "cell_type": "markdown",
   "metadata": {},
   "source": [
    "#### `nonmembership_object().deduce_in_bool()`"
   ]
  },
  {
   "cell_type": "code",
   "execution_count": null,
   "metadata": {},
   "outputs": [],
   "source": [
    "Set(A, B, C).nonmembership_object(B).deduce_in_bool()"
   ]
  },
  {
   "cell_type": "code",
   "execution_count": null,
   "metadata": {},
   "outputs": [],
   "source": [
    "Set(one, two, three).nonmembership_object(four).deduce_in_bool()"
   ]
  },
  {
   "cell_type": "code",
   "execution_count": null,
   "metadata": {},
   "outputs": [],
   "source": [
    "Set(one, Add(one, one), three).nonmembership_object(four).deduce_in_bool()"
   ]
  },
  {
   "cell_type": "code",
   "execution_count": null,
   "metadata": {},
   "outputs": [],
   "source": [
    "%end demonstrations"
   ]
  },
  {
   "cell_type": "code",
   "execution_count": null,
   "metadata": {},
   "outputs": [],
   "source": []
  }
 ],
 "metadata": {
  "kernelspec": {
   "display_name": "Python 3",
   "language": "python",
   "name": "python3"
  }
 },
 "nbformat": 4,
 "nbformat_minor": 0
}
