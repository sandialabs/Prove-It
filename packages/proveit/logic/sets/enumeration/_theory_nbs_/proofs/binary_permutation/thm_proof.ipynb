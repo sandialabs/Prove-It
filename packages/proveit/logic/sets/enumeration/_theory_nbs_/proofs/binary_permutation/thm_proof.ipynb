{
 "cells": [
  {
   "cell_type": "markdown",
   "metadata": {},
   "source": [
    "Proof of <a class=\"ProveItLink\" href=\"../../../../../../_theory_nbs_/theory.ipynb\">proveit</a>.<a class=\"ProveItLink\" href=\"../../../../../_theory_nbs_/theory.ipynb\">logic</a>.<a class=\"ProveItLink\" href=\"../../../../_theory_nbs_/theory.ipynb\">sets</a>.<a class=\"ProveItLink\" href=\"../../theory.ipynb\">enumeration</a>.<a class=\"ProveItLink\" href=\"../../theorems.ipynb#binary_permutation\">binary_permutation</a> theorem\n",
    "========"
   ]
  },
  {
   "cell_type": "code",
   "execution_count": 1,
   "metadata": {},
   "outputs": [],
   "source": [
    "import proveit\n",
    "theory = proveit.Theory() # the theorem's theory"
   ]
  },
  {
   "cell_type": "code",
   "execution_count": 2,
   "metadata": {},
   "outputs": [
    {
     "data": {
      "text/html": [
       "With these <a href=\"allowed_presumptions.txt\">allowed</a>/<a href=\"disallowed_presumptions.txt\">disallowed</a> theorem/theory presumptions (e.g., to avoid circular dependencies), we begin our proof of<br><strong id=\"binary_permutation\">binary_permutation:</strong> <a class=\"ProveItLink\" href=\"../../../__pv_it/theorems/d374825c752d0787492a3dd967dc62abfa932b430/expr.ipynb\"><img src=\"data:image/png;base64,iVBORw0KGgoAAAANSUhEUgAAALkAAAAWBAMAAABuySBUAAAAMFBMVEX///8AAAAAAAAAAAAAAAAA\n",
       "AAAAAAAAAAAAAAAAAAAAAAAAAAAAAAAAAAAAAAAAAAAv3aB7AAAAD3RSTlMAq1RmmUTNIjK7EInv\n",
       "3XZ/CtNrAAAACXBIWXMAAA7EAAAOxAGVKw4bAAACwklEQVRIx61VTWgTQRR+3Wyy2Z9sikJAAmVB\n",
       "UFDQHLzooUaCIgha8Cq2/hSxp63XKkbwqNiCIIjIevBQKmyqoh4UhCAIUikiCJVAeqqHIsWDlQji\n",
       "e/Ozye7sFg8O7DD75XvfzL73vQlA1vDxeTyWAI3daVSFdsUXAlnD9fCZDJLwjfspVIVW3IHIWVwM\n",
       "09tONWQvPvtjUfNLNM+pVKRZD5ZjkImybg3gKL1cUiKsCZzexLGLoGISKtRjkE2bTeGnUjZnlQi9\n",
       "pir92EK97KnqB3BT/HrbUyIcVSnf20J9PFDVnQByeMiCGrFLVWIRWeoJmHELKL3U6XxQI07IMKO6\n",
       "1uVQYWTVy1Q/932b8CzjM3UbS3scIMVlF2g6hs8Z3+xxKJyyNgHWeVk6bDDDEc36GYTc35zvvsVl\n",
       "Dp0xDcZw5NPLcvWJjtHGsDboy5HxPgJcV2pENK0HDvtEwTfIARpuYQZ2v9WqcvEOGRXE9Q0otUAe\n",
       "8TeGVxLynDYBZUaT/Efn8awbuEN3oKjvB9ThJmbMmYVQbP4V8ngiezJ5dqKh4jjbVfJf4JSn9EyM\n",
       "4rQw+pIy82c16GeG+jLswuHI7npP9m8s73PM7qfYD4KvUa00SulT7CnrS3GTbowVV/TcQ2GG0IOK\n",
       "5lv09gueoMVep3qm3MSEE4vzwWZVpSa9iifQ60V6N2tUZxqLIszsap91CAndDncz/T5UM+uMxfnc\n",
       "kToVYKiJ6Rpz6Sudpi78c1uEWSOvpr9BaYUK9byWqW5VG8BYnM/VS9ItoW8ewryVwRGOKDVjSnti\n",
       "rZPSTQkWU78WXSv+ndPBApSCgwLI1WNKrX9Sb8XVG9EN1dj3DG55xZNdidwD2ZfUIxHM+jcx1lUW\n",
       "+l+5eQf7ZB4G+tLt3/ttVV3S+izmLjP+15cfvEUNPIhxJNn2xqJ6WafQZuhKW4tjOfjf4y/COMe3\n",
       "1BEgXgAAAABJRU5ErkJggg==\n",
       "\" style=\"display:inline;vertical-align:middle;\" /></a><br>(see <a class=\"ProveItLink\" href=\"../../../__pv_it/theorems/3e7513533f487a83702225f6bf6430d042fd71150/dependencies.ipynb\">dependencies</a>)<br>"
      ],
      "text/plain": [
       "<IPython.core.display.HTML object>"
      ]
     },
     "metadata": {},
     "output_type": "display_data"
    },
    {
     "name": "stdout",
     "output_type": "stream",
     "text": [
      "binary_permutation may now be readily provable (assuming required theorems are usable).  Simply execute \"%qed\".\n"
     ]
    }
   ],
   "source": [
    "%proving binary_permutation"
   ]
  },
  {
   "cell_type": "code",
   "execution_count": null,
   "metadata": {},
   "outputs": [],
   "source": []
  }
 ],
 "metadata": {
  "kernelspec": {
   "display_name": "Python 3",
   "language": "python",
   "name": "python3"
  }
 },
 "nbformat": 4,
 "nbformat_minor": 0
}