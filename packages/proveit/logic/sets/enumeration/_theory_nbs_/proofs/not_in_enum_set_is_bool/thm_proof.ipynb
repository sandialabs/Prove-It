{
 "cells": [
  {
   "cell_type": "markdown",
   "metadata": {},
   "source": [
    "Proof of <a class=\"ProveItLink\" href=\"../../../../../../_theory_nbs_/theory.ipynb\">proveit</a>.<a class=\"ProveItLink\" href=\"../../../../../_theory_nbs_/theory.ipynb\">logic</a>.<a class=\"ProveItLink\" href=\"../../../../_theory_nbs_/theory.ipynb\">sets</a>.<a class=\"ProveItLink\" href=\"../../theory.ipynb\">enumeration</a>.<a class=\"ProveItLink\" href=\"../../theorems.ipynb#not_in_enum_set_is_bool\">not_in_enum_set_is_bool</a> theorem\n",
    "========"
   ]
  },
  {
   "cell_type": "code",
   "execution_count": 1,
   "metadata": {},
   "outputs": [],
   "source": [
    "import proveit\n",
    "theory = proveit.Theory() # the theorem's theory"
   ]
  },
  {
   "cell_type": "code",
   "execution_count": 2,
   "metadata": {},
   "outputs": [
    {
     "data": {
      "text/html": [
       "With these <a href=\"allowed_presumptions.txt\">allowed</a>/<a href=\"disallowed_presumptions.txt\">disallowed</a> theorem/theory presumptions (e.g., to avoid circular dependencies), we begin our proof of<br><strong id=\"not_in_enum_set_is_bool\">not_in_enum_set_is_bool:</strong> <a class=\"ProveItLink\" href=\"../../../__pv_it/theorems/58b105baee34eb3771890a7bc791244938cb6ff60/expr.ipynb\"><img src=\"data:image/png;base64,iVBORw0KGgoAAAANSUhEUgAAAawAAAAWCAMAAACrMFg5AAAAP1BMVEX///8AAAAAAAAAAAAAAAAA\n",
       "AAAAAAAAAAAAAAAAAAAAAAAAAAAAAAAAAAAAAAAAAAAAAAAAAAAAAAAAAAAAAADFBd4eAAAAFHRS\n",
       "TlMAq1RmmUTNIjK7EInv3Xbp8+P3nXbhrUQAAAAJcEhZcwAADsQAAA7EAZUrDhsAAAVWSURBVGje\n",
       "7VnpkuMoDOa+YXdn/f7PugiDIzA4iVM9mR9LdYUukLCsTxcyIXdHitGQLw49zNdUdTgpvyQt0+Ql\n",
       "gVdv8Jm6vfwmVCSxfl4M5TomJd2X5DXU1kfL9MwLglWbCpHKjjwrnB5EjL8L1m3ezwfz/bxUUce0\n",
       "uS+al22ypGfKsoCQVm5Hq5FnhYvDQZR+F6zbvB8Pp/p5NUTn/j5+MxY8nq7cU7AyQF7nfxB5Vvhh\n",
       "e9q+HQZv8348BO/n1YjkTwSLi1fA4qyGrkoOeafB7Nn7Oesu78cjDPM09tv4199R/YFgkeBGSfNQ\n",
       "Z7AUJgeF82qc6kaBcZf344yl+nkypEqOUPNHehZRfJR04llUc4/JS0UXANYY/J1q8Cbvx1HQ97NL\n",
       "iTrjkYNrcPoxozV1uVTCp6OzbHix92I+XZyAwPJoT58zGBQYLkXqO/KicFHMz7o7YN3k/XQ0y2xz\n",
       "DuqJJiKQ7ULFw4ciWVTwPGEQP/k2e62LvRcVszghPWI2R1Y0qc0yWFGFLQqHyYvCNW0/80tZFCXi\n",
       "BToB6wnvT43Iuplr0E2Oeo/ooiZVlw77vmE7rDSXRY733of2nPeUvm+G+PT+8dvh+AzlWrUqMBKX\n",
       "9QV28v1iC44xueKaRK3Ny4wSnymEm12KF7w/XV/IbjbIa6rsEJ//+ZV/DpVpqipXFjmAz+Ufk1Kf\n",
       "x9Ae1GDi/SyHThh3qKpwma2XtAw7gAWTR+S7mlma4SuEaRfeIrifdjDmvL8ZLHLSjbPnGtWII1xL\n",
       "uB2bDV6QjXAce5sEb7jR40Gn9xpr1kJk6CWdehbcsiwirz6hWnTngmdbE/01mxkmdVqA9eAlmVHn\n",
       "v9ZTgdg4xsf56ux9rwmHMFgUlB/sXHfBisseQnHDPYecwDr2uLsJ1uOEhzr7/gl+aLwCSyHyqnDP\n",
       "9uDouISwHnQHODM5DDK5AKvxkqQhTFdHd4lk0UwY66TZ6rSguia0Cc8uB2saSOf8KREplsVzQW2H\n",
       "runNkfPeweFejH/9CUid5SxUYNhO0iVYLCHyqnBdiwftEkAJFiA5BiuHwWTnYDVewovuqiFqB0oA\n",
       "Ho1KxWNVsiSuEt2DfVFwUTyzzTiRNSFx2FOMmiVYgoIvcgSW29R5j5jous2LfyYnIHUOpbvwnaQT\n",
       "sDKBT15g8lYaHO+V6989QnJly2A7WM6fMtOJN4uFqlC4JOTTDIvYLOtqgHe7NNNKuKq4Ip6dyNbJ\n",
       "BGd9Nv916rAf6nLUJ7FL2zwrNjnR3mFox2Zs3nr+Z3bCoc4BrCg7SW0naVLB2kfX/SA/1XEBvEhk\n",
       "/zC+8yzwhQVYuARDH2vgAXAa6cCqq5o8C4aVkAvJZ4319m3n4hsP/9fbrokzdDC86tMHc+Oezjho\n",
       "fdpc91VOJxzq7J+uhzwlT5IOl6epwvVWFADwPKIX3xv19BosHYqAonjhrkZZnKeCNawSuBTsi7Of\n",
       "RsggFE5ScGuFXrREJ63tpi4Q1AXWg+XHPW2NMfXC8lKL5nzCQ50dWOK9D0qVfARLAiLJ813UFmr2\n",
       "O/YTsIhI0ifocpkiaA5LViGwhtX9XlAWTdD9DybMQVbPTM7qfj6b4yThtR5CTHuczVRebT7VmmbY\n",
       "CxsMgjefVUXDCUid+Cb45jeKRn51nXUecpa8bjct4kHmzkq0nOAwiFfzLTu1xUv2WG7yZydp1apb\n",
       "vfjsQ0DrIeSb46m+aXDM9sgrWF2fAM7GyRMDW5S++jlYz5vIq4QBus2pVarSBglVbXhVZZONbfGK\n",
       "HbqhzM+ihk79fKpQpkYq6O/+mNOe7I8np/ewquQphh9pFIFuJU/+hVX+Mvv/g5D/AHJMMk1Gr2MU\n",
       "AAAAAElFTkSuQmCC\n",
       "\" style=\"display:inline;vertical-align:middle;\" /></a><br>(see <a class=\"ProveItLink\" href=\"../../../__pv_it/theorems/147b76d4c6260811f89e62744cbfef8b96528a830/dependencies.ipynb\">dependencies</a>)<br>"
      ],
      "text/plain": [
       "<IPython.core.display.HTML object>"
      ]
     },
     "metadata": {},
     "output_type": "display_data"
    },
    {
     "name": "stdout",
     "output_type": "stream",
     "text": [
      "not_in_enum_set_is_bool may now be readily provable (assuming required theorems are usable).  Simply execute \"%qed\".\n"
     ]
    }
   ],
   "source": [
    "%proving not_in_enum_set_is_bool"
   ]
  },
  {
   "cell_type": "code",
   "execution_count": null,
   "metadata": {},
   "outputs": [],
   "source": []
  }
 ],
 "metadata": {
  "kernelspec": {
   "display_name": "Python 3",
   "language": "python",
   "name": "python3"
  }
 },
 "nbformat": 4,
 "nbformat_minor": 0
}