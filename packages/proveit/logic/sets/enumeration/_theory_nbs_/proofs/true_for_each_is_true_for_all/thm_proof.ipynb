{
 "cells": [
  {
   "cell_type": "markdown",
   "metadata": {},
   "source": [
    "Proof of <a class=\"ProveItLink\" href=\"../../../../../../_theory_nbs_/theory.ipynb\">proveit</a>.<a class=\"ProveItLink\" href=\"../../../../../_theory_nbs_/theory.ipynb\">logic</a>.<a class=\"ProveItLink\" href=\"../../../../_theory_nbs_/theory.ipynb\">sets</a>.<a class=\"ProveItLink\" href=\"../../theory.ipynb\">enumeration</a>.<a class=\"ProveItLink\" href=\"../../theorems.ipynb#true_for_each_is_true_for_all\">true_for_each_is_true_for_all</a> theorem\n",
    "========"
   ]
  },
  {
   "cell_type": "code",
   "execution_count": 1,
   "metadata": {},
   "outputs": [],
   "source": [
    "import proveit\n",
    "theory = proveit.Theory() # the theorem's theory"
   ]
  },
  {
   "cell_type": "code",
   "execution_count": 2,
   "metadata": {},
   "outputs": [
    {
     "data": {
      "text/html": [
       "With these <a href=\"allowed_presumptions.txt\">allowed</a>/<a href=\"disallowed_presumptions.txt\">disallowed</a> theorem/theory presumptions (e.g., to avoid circular dependencies), we begin our proof of<br><strong id=\"true_for_each_is_true_for_all\">true_for_each_is_true_for_all:</strong> <a class=\"ProveItLink\" href=\"../../../__pv_it/theorems/3a1be30804027aba394dfc3ef8ad9ccdc327475a0/expr.ipynb\"><img src=\"data:image/png;base64,iVBORw0KGgoAAAANSUhEUgAAAvQAAAAZBAMAAACst6dQAAAAMFBMVEX///8AAAAAAAAAAAAAAAAA\n",
       "AAAAAAAAAAAAAAAAAAAAAAAAAAAAAAAAAAAAAAAAAAAv3aB7AAAAD3RSTlMAq1RmmUTNIjK7EInv\n",
       "3XZ/CtNrAAAACXBIWXMAAA7EAAAOxAGVKw4bAAAIiUlEQVRo3tVae4xU1Rn/dl73zp3HDmqNYCTb\n",
       "1CIJso4IKoToRMBaDXSV/mPFdnwkPpKW4R+TtQUGYnxEdFcNKsTA9RGSstUdWKEqsRklZFtM68ag\n",
       "GHWS4ZFSgl23jSuvyHq+87rn3HvusDOuRr/k3jlz5/vOOb/f/e73fefcAWggF9VK0JK01fYbr8+B\n",
       "H7C0jHackq19AFDgDfqlgRRbHSVhvhzBgS3tUimk7RflN6uFCaldWyF9FL8Lvi11AlcAdANv0OP7\n",
       "o34Lng5qntChfPltA49R9OL15h1OHQbtTX18J9QfVLERtqN1j/ocNn8WRn0bddZ889QbDZ/BaxXC\n",
       "xOaTk569Ea/M0Ajyj3N07KnJd7sBvUPjnEWIObU/NIFog3da4kO0HjZk/BOP+kXYvCeM+lgXEllq\n",
       "nnqToVUVnt9OPOwFQoqje9r97CMlffQrgORe8OslXL+eLtsbm1N70cdEoA2KwMfQSmzI+AGP+jXI\n",
       "SW8Y9TY+FN0tBByTYQxdYAG2eshjdxk5YrqHzWYfrwqm7DPEb86AXy9a8Onp4nzU2Jzaiz4mAm1Q\n",
       "BD6GVmJDxvtdST3e/jD3KbKbtb2VWG8wbEenQs+HL8rkIDcirSukmSse+ol4Sk+Q4zQE9PaCrud7\n",
       "3C/vamxO7fdOHNqgCHwMrcSGjCfykvpoPjQr4mSuaCn/JIyGPWT0CL22GQ8yvWk+M+adQ4/x78kR\n",
       "chD+/Hp3ga6nS8bubWxO7e+aOLRBEfgiRQ0bdh/r9Sqcf9Zq74VTn67VPqu0Qr3B8L8i6MBJFg3g\n",
       "Jvyy4m+ruEIqx1KTCLftvezZpXrWhUdEWbINdD1dZojUFWZO7bdNHNqgCHyI1hme8vh2hg0Zz1Y9\n",
       "6m8A2BhOfawMSbcV6g2G5wvHJtOy3u7grhcfhM1cMUqdJFGKFGTI/OMHwk2XlZKneEdXgq6nyz1w\n",
       "cWNzak/7iNWo5L4d2oBIfIg2Bgfqixk2ZDx+yqN+BVi5cOrJbytaqusNhhswGuCMsv/bNUDjMRLz\n",
       "lzwsFksuGhrX8AqMhMsLd7H1L9FzdkNsiOtdCrqejjsHGbehObW/dFxoowNNEP66uGsSH6K9Cq51\n",
       "z2XYkHH7hEd90k11qRXgvh0wP+ctMjbCjtaWVMzw1i9fnyTCwh2Ybbp4EKayhxy/AvgU4GUcy6bX\n",
       "LwAY9kKm0IuNQKYCfdumoDuDrqdvYpQhWw8xF0lH9uFfUvnRrmsGdSqn5CiWWwnaMlwPHBsybo16\n",
       "1EfqXpZ9cvJ6+GnKjbneZDpbyTsJaRgdgpTwtn2C+vaiQv0/wBkFexiV4lVehL8q63Kpl+6F/i4o\n",
       "0CdkGeh6/iWzMxRizmWZ6CNAvYIWuQgk6IYik6rER9HCv4BjQ8YdhXooXiML7xtwZVsvpJTJJKL1\n",
       "1qhnhm0FyI4oXk8DTo/wP4wEZyBKFCLIFj1hpRuj1a59Gjy9/jpcCzAKq0nhMBM0veCC6roQcy4z\n",
       "+RGI9QpaykWL1Et8FG38OGxl2KjXKwEHtpNqNrrgycN8dT3956tU6lPTcNU5cExEDaXpSd81fw1Q\n",
       "Tw0h3QGZnEJ9EqF9IfxvE+nv/9BWvISxHsXCK4PzoyCyo+Dp9XfA+ZHSPEr9XND0dMGOHggxn331\n",
       "MGbmufwIej2ddPbwql/wnYZpOmA/Tp0QSb3ER9A669uqUGHYaKw/rlD/J0LNy8vy6ZJD6+HpqZdu\n",
       "UyZjvYPrxlKPGF5peqPvpx3q1FNDWO1a54mrk0U8XK5WeZtgZqHAqKeVJ30Gn6e9jCh6yXpkX4w0\n",
       "3xY1qdTrJ9N0MLjQE3XbZNlo7szZDYPc/iYj9XTSR9p672RcYB2kAA7g1AmJi8i6XIn+kROvVOMd\n",
       "DJu/wsG8BA/+G9rdOF3RTIfCUXUvj2QzWIj5pptmAGzGOxfpOwQFuxrcuURDmD98UFZrn+NNJ9P7\n",
       "5dgmfuUJcrx47JGpZUZ9Br1lCg202Ovmk3VPz5n6xor/EHssaj4EVS9T4HmEntpwOLtuNLdeK8Ip\n",
       "bv+heecSJ51P1suMC/teDTvFecvhLs1soZeL/8CgevgIWmdJ/eJZHBuyHa36N42nkrwTvW/DhqcJ\n",
       "9X0J/zbqHjgA9kxXNNPQr28AdGVzIZvGk5Srv8MOPtYWnmUZJ5H6lWFR1NNDDqyhJlOPNG+rY7ZD\n",
       "e0MfXvBqL3Eu1kzRsFOcVWdEM9vDdsRoeAqkRQ/tSs52LOen/u+w0LYrzOvjnb7JOMfhma2sWqZN\n",
       "y1d09ZeS89zZS2cYqN+t3SFvi0zfCOPULwjjTupZBavk3w07u0jzdDlWKFN7Qx9FpaQsMS4Iqwp2\n",
       "hrOkP+H09+iiWRW+MwumDUGOzbeHwyGNwMfT2ap2DsjbKCczaI/Ow+GdCmvCemz2sVMfpEs9S93O\n",
       "3kyQeuu4f+cyqWWK51TqwzZQFb3uRx9yW9hbFOarIbO2TO27w1+VWNWdpIjdKNKswC5wQrJLIHcq\n",
       "nJDIUczukWDSl2it3uDOJc8QOTiWh27yYNofldgrA5X6X88iv5Lh7XdZkyy4SXNdyR4kp3Ud8QWd\n",
       "AyRlPBCk/uhpZV1O3cXR+P2zmNnO03XfXQGT3vtjY8r9GrcI85shO8Dsn2vwlmrJbcMu5YJSL7AD\n",
       "x4k7L+s6KHJ7UBByAdZaBuolWooN2b4cwPSC0Hlzw/rwV2Y4fIQ138rKJhFWXGfg0G+CAUeTc/C0\n",
       "Snt7okbHI+HcqXrZ5t9laMOgvamPooGLaQp2jjPl1kUTJAtD2TmuiXqJ9ohgfL+Z+oaTsT8nixVG\n",
       "bmLsa9HEJ4Y59oswI38W6rfAD1lMq/bbFewc5/KxIdEEwYKTiwwYvV4X37vZ5iaTNzSj5tWsablX\n",
       "+bFRn1Ael6ipqWbrhzvOTv14/5Hw+1b/mZL4Mf4Px4h2bRNRrdz492yNlHs38gY5vgEuBbcagqr6\n",
       "lAAAAABJRU5ErkJggg==\n",
       "\" style=\"display:inline;vertical-align:middle;\" /></a><br>(see <a class=\"ProveItLink\" href=\"../../../__pv_it/theorems/76d5c6494c74156e69226cc76e498f7fed4c52ba0/dependencies.ipynb\">dependencies</a>)<br>"
      ],
      "text/plain": [
       "<IPython.core.display.HTML object>"
      ]
     },
     "metadata": {},
     "output_type": "display_data"
    }
   ],
   "source": [
    "%proving true_for_each_is_true_for_all"
   ]
  },
  {
   "cell_type": "code",
   "execution_count": null,
   "metadata": {},
   "outputs": [],
   "source": []
  }
 ],
 "metadata": {
  "kernelspec": {
   "display_name": "Python 3",
   "language": "python",
   "name": "python3"
  }
 },
 "nbformat": 4,
 "nbformat_minor": 0
}