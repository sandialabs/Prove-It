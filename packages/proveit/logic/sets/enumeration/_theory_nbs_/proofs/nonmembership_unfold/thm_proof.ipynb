{
 "cells": [
  {
   "cell_type": "markdown",
   "metadata": {},
   "source": [
    "Proof of <a class=\"ProveItLink\" href=\"../../../../../../_theory_nbs_/theory.ipynb\">proveit</a>.<a class=\"ProveItLink\" href=\"../../../../../_theory_nbs_/theory.ipynb\">logic</a>.<a class=\"ProveItLink\" href=\"../../../../_theory_nbs_/theory.ipynb\">sets</a>.<a class=\"ProveItLink\" href=\"../../theory.ipynb\">enumeration</a>.<a class=\"ProveItLink\" href=\"../../theorems.ipynb#nonmembership_unfold\">nonmembership_unfold</a> theorem\n",
    "========"
   ]
  },
  {
   "cell_type": "code",
   "execution_count": 1,
   "metadata": {},
   "outputs": [],
   "source": [
    "import proveit\n",
    "theory = proveit.Theory() # the theorem's theory"
   ]
  },
  {
   "cell_type": "code",
   "execution_count": 2,
   "metadata": {},
   "outputs": [
    {
     "data": {
      "text/html": [
       "With these <a href=\"allowed_presumptions.txt\">allowed</a>/<a href=\"disallowed_presumptions.txt\">disallowed</a> theorem/theory presumptions (e.g., to avoid circular dependencies), we begin our proof of<br><strong id=\"nonmembership_unfold\">nonmembership_unfold:</strong> <a class=\"ProveItLink\" href=\"../../../__pv_it/theorems/af105299da050f11a3524297e18f389edba59d910/expr.ipynb\"><img src=\"data:image/png;base64,iVBORw0KGgoAAAANSUhEUgAAApYAAAAZCAMAAAC8VZ4cAAAASFBMVEX///8AAAAAAAAAAAAAAAAA\n",
       "AAAAAAAAAAAAAAAAAAAAAAAAAAAAAAAAAAAAAAAAAAAAAAAAAAAAAAAAAAAAAAAAAAAAAAAAAACC\n",
       "gUnDAAAAF3RSTlMAq1RmmUTNIjK7EInv3XbPqdvt5/Xp8yI2ITkAAAAJcEhZcwAADsQAAA7EAZUr\n",
       "DhsAAAZLSURBVHja7VuJtqMoEGVTEITuWf3/Px1AlEW2YOyZkwnnnZCH4r3IpagqDQDjBUopKfiW\n",
       "b3lnUVpV6M4F5u89PApN6ntXuXvOU72fueT13mH8leVbVjiK61IhvHp4Ut1IgxAdCINDHx2z5+S5\n",
       "aVnC8zDCI7K80f9jChJxXSpsac0x7kQahlD4maGPj9lzOrlpWZLpVBkdkeWN/p9S+BzXxbKw5i1N\n",
       "TItAWaQbEA2EVnk/oYDTUWtZssPc0QWMyPJG/08pBMd10XDA5qUwiWddzlmkGxANhNYKfD+hgNNZ\n",
       "Yy9RgYZkeaP/p5Q1qYuGo2M7WXm8vcEph3QHoo7Q3G/fTyjg5GojyyPseT2AmaOw6X8bAKE5rouu\n",
       "fY/hmCPzI2PXrIXQBVFFaJUnCAWcXG0ltUpTVjEoy/H+n7KHi7jmSkHOxGX3iH1vruwGyJN5EzCJ\n",
       "J8JeLYQuiCpCR4CTI3RvzJ6Tq60siXVKFz4qy+H+H1KSpQ60g6SgAkQec2eXrfzjT/N5zogAyOyA\n",
       "eEvcrDmZVESuSCnCSxBVhNZQC4TujdlzwsEGTOHxMSbL4f7j9qniPe+BHxaPZKuYyGThjmcSrsbU\n",
       "3HgOIK4ZDob2OYTJForWNFyQPEUqIfRBVBF64pcroZtj9pxcvfuFxtCJouNLJTEH8QoLsmz0f6As\n",
       "rUNsfQpaXJffOkW1WRfk6nNNSQSszzfpY/PBAwPGAksC7RJTKkUqIFQguBAQ8g6EeikRGhhzovct\n",
       "qndZIpUNWJiCy6JxEQSC57L1R59C/18tS8P3x88+V/x2fFOWJcje+KsHN2nroueBad5K+tY1zQly\n",
       "eUHKI1QgiN1XOxDq2aEaodfGnLavUe2i6Bng6zUJcb2RPkiMY1CSZb7/r5al5etMwi+VZbKJ27uv\n",
       "54Pz0M/66+/d2/LG1loXZecB+YkOvh7xA0EpUorQhNi0fKhTQxWhvlNUCL085viuyqh2shTIJR8x\n",
       "wXrtkj1DdfZhaKKqJsuzvzbwhOo/x1QZQsmul23M5hbKJwayPAFVGOM58TxAICPLRYU11xsMXEG6\n",
       "jOfLXrPA4yNUCl6CZIzzouYYqYBQg8Dcy7KK0MgO5QkNjDkQWsjJ1U6W1PmNHE+rblmN7j15xPQm\n",
       "jqaKLI/+QFHjz87IpQOAttmJm5dtzO4YlRM9txNw56umMKJ7gsAkQT27gTbGie40RRYoE+0SaEwM\n",
       "TmR5plyCDeh8fldDaEDozrKNwLc5+RJ8KxJ6fcyB0HI5tiMVvvuygHJlOBgHYMKhLPUmrpayLI/+\n",
       "ANsF5P6h3Nxu04/67NHZOCFFamGS712T5Qm483UH2MweIzCr1AYwGdac6JAAEYwahkNbdqHIRhNZ\n",
       "ypMS5N5pBm2EBoTuyzsQJEm/+G9FQq+PORBaxMnVlxfboHJ+J54XW9AuSy4yQU3W9G+BmwuFvSJD\n",
       "YQrCNa5mIdbjvv3Elm+5A1q+P34zfAE7o84HCKD5QkmyuM6nobPe2py4e7QefZQRWhDnwqSd8U1f\n",
       "GSZ0Ci3kdNQXWa7GMhJtfpiIrKWxLV2yNJseDZe+uWKUGXONtJnGcSdiMuFkiMsV0PI917OCTxGg\n",
       "mS7pmwaZGJlnZ4evKJFl49WHMkIDguqOlHYgvFiGCZ1CCzkddSpLutkVYITotz08hTNdk6WeM4NM\n",
       "rHXd19K0+Qxs0ghM9mlvzH0cJyKzj8q8LD2g4esfah2BSQ+BHHiZQDbGP95HKL2XgDOGQ6rdHEey\n",
       "bL6FVXzzoQ5BF8aYzfC9+z2vUUJeaJ7TyS2VpX2yruwTEnr4tUzu6acOWQKiJqGM88XsmtDuxjJ7\n",
       "VSSNewLKNrKVxh/hidpxTULF5Qpo+AqWyrKHQI5BmUBWlkd8yAtznnuMgvDh2lIxb0LVJzlFehFi\n",
       "3UzpQnixDBIKhJZZ1bUfTXBhfMtaUFBNK+h55RpmwSHHsFFwoI7Gam8TeOCJt/KWXPx+8nXi6SSQ\n",
       "Y1AikM+IUhXXqWfTOceqrZkCQi+Eevur2jcJBZw8t+d+y2NmUbu102wDt3XPxIaNs16+8mis9TZb\n",
       "M4ofcedXaPCjDZfG6SOQY1AkgL4/YHq+PCdLc+EJK9HX2NW7JUvIwzQO6CaQY1AiwGb0Vc1/XZb/\n",
       "1u/E86CRzWOPyIeyr2aeLkrKFf8D4vRFJ+iYeygAAAAASUVORK5CYII=\n",
       "\" style=\"display:inline;vertical-align:middle;\" /></a><br>(see <a class=\"ProveItLink\" href=\"../../../__pv_it/theorems/2fbed279e7ae0fd77bccb68872f730d8ed429af50/dependencies.ipynb\">dependencies</a>)<br>"
      ],
      "text/plain": [
       "<IPython.core.display.HTML object>"
      ]
     },
     "metadata": {},
     "output_type": "display_data"
    }
   ],
   "source": [
    "%proving nonmembership_unfold"
   ]
  },
  {
   "cell_type": "code",
   "execution_count": null,
   "metadata": {},
   "outputs": [],
   "source": []
  }
 ],
 "metadata": {
  "kernelspec": {
   "display_name": "Python 3",
   "language": "python",
   "name": "python3"
  }
 },
 "nbformat": 4,
 "nbformat_minor": 0
}