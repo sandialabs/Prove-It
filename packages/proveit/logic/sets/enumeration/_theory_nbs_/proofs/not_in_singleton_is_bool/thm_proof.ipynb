{
 "cells": [
  {
   "cell_type": "markdown",
   "metadata": {},
   "source": [
    "Proof of <a class=\"ProveItLink\" href=\"../../../../../../_theory_nbs_/theory.ipynb\">proveit</a>.<a class=\"ProveItLink\" href=\"../../../../../_theory_nbs_/theory.ipynb\">logic</a>.<a class=\"ProveItLink\" href=\"../../../../_theory_nbs_/theory.ipynb\">sets</a>.<a class=\"ProveItLink\" href=\"../../theory.ipynb\">enumeration</a>.<a class=\"ProveItLink\" href=\"../../theorems.ipynb#not_in_singleton_is_bool\">not_in_singleton_is_bool</a> theorem\n",
    "========"
   ]
  },
  {
   "cell_type": "code",
   "execution_count": 1,
   "metadata": {},
   "outputs": [],
   "source": [
    "import proveit\n",
    "theory = proveit.Theory() # the theorem's theory"
   ]
  },
  {
   "cell_type": "code",
   "execution_count": 2,
   "metadata": {},
   "outputs": [
    {
     "data": {
      "text/html": [
       "With these <a href=\"allowed_presumptions.txt\">allowed</a>/<a href=\"disallowed_presumptions.txt\">disallowed</a> theorem/theory presumptions (e.g., to avoid circular dependencies), we begin our proof of<br><strong id=\"not_in_singleton_is_bool\">not_in_singleton_is_bool:</strong> <a class=\"ProveItLink\" href=\"../../../__pv_it/theorems/4765ec385e46081b755b91b552b28fb95d227b350/expr.ipynb\"><img src=\"data:image/png;base64,iVBORw0KGgoAAAANSUhEUgAAALkAAAAWCAMAAACrOc1VAAAARVBMVEX///8AAAAAAAAAAAAAAAAA\n",
       "AAAAAAAAAAAAAAAAAAAAAAAAAAAAAAAAAAAAAAAAAAAAAAAAAAAAAAAAAAAAAAAAAAAAAAAeYafp\n",
       "AAAAFnRSTlMAq1RmmUTNIjK7EInv3Xbp8+P355HBoPSVsQAAAAlwSFlzAAAOxAAADsQBlSsOGwAA\n",
       "AvlJREFUSMfNVleS5SAMJAcB2uz7H3UBg03yPLxfq5oavbLbolEm5F9ED/prVBGQsn/NNNmy88nw\n",
       "C0HW6wdR0H2kJPTvDbXlicQPBwZv1aF8oPKG0+s145vEmev1gxjafXTADLEVgp/OtomuVnBSz3Bx\n",
       "hVBtBgFUr59EdMnhwgJyP1TwkXlk63T8UeGXZ7TddLngvX6SQF4w52KHOWclRzK83taxTeZ+0Ku8\n",
       "tCF8+65eMCceJgshqJm5uuG8uE7tZrnq9SxSYbRLzRufE8UnC7PPqeaugft0u+DdbrK4XgMiBePu\n",
       "kOkcxbEKCknAnGRAR+auqWc9Z32qUMBAXQsX2TkWNplX51QdMw4pEhH6SudDoxPnTRxhKcv4cebE\n",
       "nXG8uemiV0TmQfkjCGjgmtZ/WxJYp7lOPIDQK9pq1Sy0z+8NO69Iz3agjytSrCkb9VShyGWxe8KT\n",
       "u53cZe5lp83tz9LGc/b9+BnC3aw0VSc6nuRTMHyJCFBVuJtjsJDEDsyTcg2c4X59TsxJw+MkYxed\n",
       "yohrXKaJZI5Svk5VK9IPFlY+T93ctnB1ZSWi0PGvzmTaDdlltmQy8QOAro+Hp3GZ41PzuxmsLDxN\n",
       "goG5auGOlexBnTKwBBCQRMNmbNsWWw1WEupz6V2tOL6Q4qkB5hvUa7imQhtHIz4zZ9jCtS+WeCZU\n",
       "IqkhXQzH0NX2dWp2GBDxfNlkR7z50Mwb5oKmIPGpn4u2Kyu2YB4BDp3o4c1BR9ORUvek4/1NaDWI\n",
       "6CAmeHsUUPsLnpgDdSjqIQ3zIHsL3WKJylt774ojvNR1s/6m137yXjC9XsjvP7ab3cMMdWp6qIfc\n",
       "lm6y0DXZAa59NhoDAq5wk8f0VV2OvliSFptfIZnsg2cTc8HJG5ngAqXDtDKYbDxmgV1NBd3r2SOL\n",
       "tlbaScAzCbvB+mJR3YBH5hCZ2YUvar+Fp+9Xa2cZl4zjvbeD5+SDEx523i/gqUBiccplpmns9SjL\n",
       "TUIL2l9Iu+sBviP+JTw5Q3J05L+Vv6WyGO99NeIvAAAAAElFTkSuQmCC\n",
       "\" style=\"display:inline;vertical-align:middle;\" /></a><br>(see <a class=\"ProveItLink\" href=\"../../../__pv_it/theorems/0d736af6fd271a93181c6cda5b25a1ac1d2dc66a0/dependencies.ipynb\">dependencies</a>)<br>"
      ],
      "text/plain": [
       "<IPython.core.display.HTML object>"
      ]
     },
     "metadata": {},
     "output_type": "display_data"
    },
    {
     "name": "stdout",
     "output_type": "stream",
     "text": [
      "not_in_singleton_is_bool may now be readily provable (assuming required theorems are usable).  Simply execute \"%qed\".\n"
     ]
    }
   ],
   "source": [
    "%proving not_in_singleton_is_bool"
   ]
  },
  {
   "cell_type": "code",
   "execution_count": null,
   "metadata": {},
   "outputs": [],
   "source": []
  }
 ],
 "metadata": {
  "kernelspec": {
   "display_name": "Python 3",
   "language": "python",
   "name": "python3"
  }
 },
 "nbformat": 4,
 "nbformat_minor": 0
}