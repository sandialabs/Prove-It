{
 "cells": [
  {
   "cell_type": "markdown",
   "metadata": {},
   "source": [
    "Proof of <a class=\"ProveItLink\" href=\"../../../../../../_theory_nbs_/theory.ipynb\">proveit</a>.<a class=\"ProveItLink\" href=\"../../../../../_theory_nbs_/theory.ipynb\">logic</a>.<a class=\"ProveItLink\" href=\"../../../../_theory_nbs_/theory.ipynb\">sets</a>.<a class=\"ProveItLink\" href=\"../../theory.ipynb\">enumeration</a>.<a class=\"ProveItLink\" href=\"../../theorems.ipynb#unfold_singleton\">unfold_singleton</a> theorem\n",
    "========\n",
    "*** see <a href=\"../__pv_it/388ccdf8814b17c34471b9f6668be0ca49d21e5f0/dependencies.ipynb\" class=\"ProveItLink\">dependencies</a> ***"
   ]
  },
  {
   "cell_type": "code",
   "execution_count": 1,
   "metadata": {},
   "outputs": [
    {
     "data": {
      "text/html": [
       "With these <a href=\"allowed_presumptions.txt\">allowed</a>/<a href=\"disallowed_presumptions.txt\">disallowed</a> theorem/theory presumptions (e.g., to avoid circular dependencies), we begin our proof of<br><strong id=\"unfold_singleton\">unfold_singleton:</strong> <a class=\"ProveItLink\" href=\"../../../__pv_it/theorems/e6edad3e8ac153f58be174b3ab784074cbecb5e90/expr.ipynb\"><img src=\"data:image/png;base64,iVBORw0KGgoAAAANSUhEUgAAALAAAAAXBAMAAABZgNg7AAAAMFBMVEX///8AAAAAAAAAAAAAAAAA\n",
       "AAAAAAAAAAAAAAAAAAAAAAAAAAAAAAAAAAAAAAAAAAAv3aB7AAAAD3RSTlMAq1RmmUTNIjK7EInv\n",
       "3XZ/CtNrAAAACXBIWXMAAA7EAAAOxAGVKw4bAAACbElEQVQ4y6WVT2jTUBzHv2mStknnVvC0DaSw\n",
       "sdMGQWSyyzYYuqF0ePKiQpgH/xwk3twoI/O64jZhSD1IDuJBZXQTBl4kR1GUeRh4qaRaEYeUgYeJ\n",
       "J3+vaZLmT8OIgZf3e+/73oe8358XIPGTSSQd4/naXRItIM+MoQTcVDVG/AacY/2NBOBncWLawApz\n",
       "yXoC8EycyE8zNnKFBGAzVn0HXqEPT+JiNVa+Dnyo1d4nAAsUO7k5sLoTmN+agUwJsQ3MAY9Du0I+\n",
       "e2X3qxfc8ChsWd0qskGxxp5PzKyOgj8ExoG7yOSDHCk4UXaMbcc4QXE5iynjpH9htlAER7kwShAj\n",
       "dykO/KB/ExhxRq7RQ5t0nA/ulPERPVQeaxQFKxy7DrAw5+P5wCBKqOj+Yk0HrpKpTtKrOdvQaLYO\n",
       "zgP3NpZnWQ3ZPFsb6XQFxCM8D/hYUPGLujFqO7eJofWnaeVWn1H2wD+49QXZrp1xR7vmHsqCvMmZ\n",
       "CBa2lMcGdRPUShQ7Hk+yZC6N4acHViRLF5VWSG46WvqgDcjlkfrz1BSDtSXkxd/UXaTG6WziqDU9\n",
       "iFMdPu7TwN+qVB5iZcDRUnec8O9BnreGT4eiN9hgqH03TczWHbqPtx3gMrSsfdS6o5VcwudupZOj\n",
       "mszstQelnCrgBa0WD11wxtzFdLt4WMxamhs8nInG7uIleUdQHM98f3OAcgHDE6r3xfNXmgYWdQfc\n",
       "0jywpEWCv5DLgEX/ZEHWJCWQx/Lril0gtuaB5ei7dqjBEvyRP7cNzrocXdKUZbbmgbHc/Ybq9Z+G\n",
       "hzhZjQanLVvLLvzXbzLiL3vf7u4dG/EP3ueORzNJClkAAAAASUVORK5CYII=\n",
       "\" style=\"display:inline;vertical-align:middle;\" /></a><br>(see <a class=\"ProveItLink\" href=\"../../../__pv_it/theorems/529252921d2631e3b6c68de2f857839357cda7420/dependencies.ipynb\">dependencies</a>)<br>"
      ],
      "text/plain": [
       "<IPython.core.display.HTML object>"
      ]
     },
     "metadata": {},
     "output_type": "display_data"
    }
   ],
   "source": [
    "import proveit\n",
    "%proving unfold_singleton"
   ]
  },
  {
   "cell_type": "code",
   "execution_count": null,
   "metadata": {},
   "outputs": [],
   "source": []
  }
 ],
 "metadata": {
  "kernelspec": {
   "display_name": "Python 3",
   "language": "python",
   "name": "python3"
  }
 },
 "nbformat": 4,
 "nbformat_minor": 0
}