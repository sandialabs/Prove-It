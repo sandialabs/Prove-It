{
 "cells": [
  {
   "cell_type": "markdown",
   "metadata": {},
   "source": [
    "Proof of <a class=\"ProveItLink\" href=\"../../../../../../_theory_nbs_/theory.ipynb\">proveit</a>.<a class=\"ProveItLink\" href=\"../../../../../_theory_nbs_/theory.ipynb\">logic</a>.<a class=\"ProveItLink\" href=\"../../../../_theory_nbs_/theory.ipynb\">sets</a>.<a class=\"ProveItLink\" href=\"../../theory.ipynb\">enumeration</a>.<a class=\"ProveItLink\" href=\"../../theorems.ipynb#leftward_permutation\">leftward_permutation</a> theorem\n",
    "========"
   ]
  },
  {
   "cell_type": "code",
   "execution_count": 1,
   "metadata": {},
   "outputs": [],
   "source": [
    "import proveit\n",
    "theory = proveit.Theory() # the theorem's theory"
   ]
  },
  {
   "cell_type": "code",
   "execution_count": 2,
   "metadata": {},
   "outputs": [
    {
     "data": {
      "text/html": [
       "With these <a href=\"allowed_presumptions.txt\">allowed</a>/<a href=\"disallowed_presumptions.txt\">disallowed</a> theorem/theory presumptions (e.g., to avoid circular dependencies), we begin our proof of<br><strong id=\"leftward_permutation\">leftward_permutation:</strong> <a class=\"ProveItLink\" href=\"../../../__pv_it/theorems/eaed399bbf5c0728d234e6ee7d72a85906a2416a0/expr.ipynb\"><img src=\"data:image/png;base64,iVBORw0KGgoAAAANSUhEUgAABLYAAAAZBAMAAADeTbqOAAAAMFBMVEX///8AAAAAAAAAAAAAAAAA\n",
       "AAAAAAAAAAAAAAAAAAAAAAAAAAAAAAAAAAAAAAAAAAAv3aB7AAAAD3RSTlMAq1RmmUTNIjK7EInv\n",
       "3XZ/CtNrAAAACXBIWXMAAA7EAAAOxAGVKw4bAAAJ/0lEQVRo3u1bDWwcxRV+vjt77/bsswEpUhvV\n",
       "uv4AUirTE0ERidT00pQ0SVU4QatWqMC1xEKN2nKJIiF+gg8atUg12KitWkdVumlFIRh8B0EUpXXq\n",
       "kqK0QlALIRUZuTpHEYEkWJZbwDIq7rw3O7Mz+3+K7eAoI93mzbw3b7/35tuZ2VkHIF751GQFLpaL\n",
       "JXbJTb4W17T8ccNusJ/5zRWdfuNKv9bHSis6qN04B9E8tHbFcusE+71188p+th/Y7/O891orOqb0\n",
       "Jxj+Wzm3uvCfz8bgVkzDZSqJOvvNn6uXQ68oFfM346HGwfqf/C2sGmL/qFf3hUWjlo5XCzUqFciR\n",
       "HxRDqj6cEgYZRpRcgbh1HdbviMGtmIbLVP7Aftnxc3azQ620RaQvWD8bWg22H/WqRhcvRzreHc2k\n",
       "gpXOfFjVW4QBjcpO4tYDuPAPxuBWTMNlKpsXh1uzzaQvUN86H1YNsV9abul4Z5tJBSu3WWFVbxEG\n",
       "NCrXELfaWFM2H4NbMQ2XqYwtCrd0FkSlL1DvAhKJSxosLbc0vFGE9+hHm8Q1qgbXbiG3kmxpbIuz\n",
       "l49puEzbrfKicEv3MBoze1GLZdTa6hgsLbdGmyG8R78jfMkMXFPJUVuB3hNfmZx8OdZ7YjzD5Smp\n",
       "uojCWH2qoSh2Hb0/vKdm0NY9pczE352+NLSrrs9OXys8DuS1GwzkIxBIgwBuuWJyVX0OMzQDCUzD\n",
       "q4fqw3dNb6x+exYCq34IpAGNSraLuLUVYH8sbsUzXJ6CzwWkcPL6TiWjzOatx+G3oSubblDbaX7g\n",
       "vFe9b9XCDoh1vfEabPO7ZVMIzvIHZZIKvYjDFk9M7qq3aAYSmI5XC9Wn6PpzQJDD7UqyTNzaBQaL\n",
       "yuQoqiHc4oYfj9KBz9h9jGDmMUgps/lTBfh6aEduYEeLL/yvOuvsPLSHzQ+23k5RR93uyjxu0W+w\n",
       "JQqBNOjzTCXGMU9MrqoP6bnB4y5gejxaqOB79sH0acdjWb9BOQqBMDBwAkuMEbcyVrbEJjGO4g32\n",
       "+6IAtPdrpeRfHW5xw/iHaN93znN8Xi+9bdk5P9Epf1GI386Q7OrFZ34Gk2mus9tvAHgTzD9dEjhz\n",
       "kIGIFgf5Q/i9nRWWnc768DOfDFyHUc9ThI4szaNwEhcBT7K5ykUuY1XJExOvhgEjAzjqAkZ4pRcM\n",
       "NQwWpQI6qorHZhEk/02Vg99jgz9D3Eo0XDt0HDdITw2VEl1HYLvDLY9hRFktpZa6V+ttM2b8RKf0\n",
       "uTCmt7FEtQ9CrQSPvGu3/wPM9yAV8pyTgSxvQutsenpcPvC35YvB8x7pFUeqR+kkLgJKMmR73dp9\n",
       "+z0x8WoIMG7gAUZ4pRcMNQwW6l0em0bwElWeZ1Irn7egvNFnDL/CCJzYmIK6wy2PYUT5u3Nrn6XW\n",
       "25Yb9BOd8o57TcQT4FoDvsTEHntu/giSM9BZMuaCJm8yUM50UvOQGJfHQTdY70FfNfi4SM4J6Ejz\n",
       "KJzERdAnFiL3futRd0x2NQSYbe8CZuPtUUINgcVT4fLYJAI+I9DXEkwHcuvZnYxnU4TrJA7ZeuMM\n",
       "P7RPPPithsotNIThjX8UHhXRKbIx/dGUGImBae9sqrQdRc6ah98Sa7Eiqn5/pNQyDfuNpJaHVYkK\n",
       "ZYHdzZyFlvKVSYul0PRCkwYYLenncPeDecBaZ5VtGzZgAr0Lh9RTilD/H5Y0xyPnVnwElGSAP/u+\n",
       "JyoxoQ9eDQHGDW7t0oFxvCIzFGoILJ6KkS+rHmXfmAiSg/czumRpLz/IuXUfAzXSiZ1SdGzUvfup\n",
       "yiFiYPXI5Sq30ND8V1q8TiiicifZmJvIiWOcd62THkOnraPUz65PVwbEU6GIqt85SMnpDN9xiVuZ\n",
       "RuL1FGXQfJ81HYCeYpE0NUSMF2qXAhlgtKS/DH7BnzGstRQyRRpc2UPvT3pMEbWwd7EXlFsSQb0I\n",
       "fFxxA0xy0BmEExP1sqvBwMjAbMy7gPF4RGYo1JDEkL54hXZL0dcHgQ6FG7ScWnPcPoPAMyLkVgsb\n",
       "yHto+nsyi8l9NZ+Gmzi3UnJxKtuGqWJ6DAw6iyDxxpP6/p4aAXtlCskyN4Sfw7rWq67Tc8jagO/m\n",
       "tsETuAjDAMDd9Fig6LZnfmcgIQ8l0+M2t8zuF3a9zcdhknU+eOan3QzlwxZ0TCBtscPrQpAGGC3p\n",
       "Dz5X4NzCmrkaPySlJ7gh9XD6Cz2lCPXZwxst5ZY0b/kgkDfXEVCSg7ilxET35dUQYGhg/G7cBYzH\n",
       "IzODoYYlhulN6zntlqKvHwInMGnffgJfoolbHSXlb2wOyGMj479bAdYNDQ3lE1WzXla4xTfRuS54\n",
       "cEKKY+aM60Ug1yU2VKkubsh2XpvaoebejW2ypZfs6zuQ7rGE6LZnfgchVZD1N/SjZMxCQs7XROk1\n",
       "3kMES41W6okWsob0Tnhn/jXqyZrUO4bkJD4CSnLEuXyPdt9IYLhN8AGmZSYyMbdrej2rkQj6cJPO\n",
       "R2UvONwy52kV6qzgUnmLAT/j8xbc2HBxq1bJbLBgQooVnKbUXR02fh57dUJ7nhvCDLxoQL+OiLXB\n",
       "WpqHaA01P4ADT0KHJUS3PfN72mq7a1rUr/FyKytre+AuAO+7qTSgaOsaLUTNKBoVxZMs0hpTlPV4\n",
       "5E7iI6Akx+GW9BEJrPaELzAtM1GwaCzqAVmNRLC+dbxij8pmhVuJctFkNv0wDC2Nh7OQwUFOlkBM\n",
       "Qs68VRm4ibg1bIuZEhNZX/tCjZ8pMqnDWg9oyJoncGv3S8WKtxn3lFHqhSy7Hk/PbUBuCZHZu/z+\n",
       "2OrcfUg+pRX7BNjJwohMwq8f2g6m93VgxPkaWVT0tFUStbsf2mc5hs52T1r3q45GdG7FR0BJBr9T\n",
       "1rNaTI6PSGBXpHyBqZmJhIUThaLXshqNoDs9XudfS+jvZeS81V1JvwgwBf35TKXlWoYCF+c7ANzc\n",
       "at181WGiTH+ei1tRTB+H/gpeeGOmim3XN8iQ+d3HpptUFSVuVbHbknVs27P2NLt+4+ozBeSWEFNV\n",
       "r98B53XTHLRPgKnce+dRABlj+8LCDOS8wyYNWLSO3nj+w4ZT++fCgmLoHIpIaUp11NCcNIGAkozH\n",
       "2d5TvLwak+MjEtjBU37AtMxEwsKpxNHrWY1G8Cu4rErfHejJ1/6mOUHLrR3a8NBQyfXNRym41HHD\n",
       "rNWQfWTj0wkhTXC/rBzJCQlkW0tJSLYG10RbRHu33zN7H5ct+MV5z6XL/7Xp9sVzZTzj8/XY2JQ/\n",
       "z59pz63ci2NyClzcurnt22PQagV+T3TKIy/nheGdC+NKH1vKnLYlNAT6o/a2hf/ZEr8Xp5KU+DV9\n",
       "9lkhor3H71ezV5/n75iYogu39PYvpjeVW4XUSQuSEINbtBv1E/0kKARJJz4n2wp+5r7ezm/BFF24\n",
       "5frtS8Wt0PLDJfj/iZ8uwsVyoZbc5LH/A7i6HlTb1vcxAAAAAElFTkSuQmCC\n",
       "\" style=\"display:inline;vertical-align:middle;\" /></a><br>(see <a class=\"ProveItLink\" href=\"../../../__pv_it/theorems/3851743ea7d307461d3cae4ab2bc97872bd828b60/dependencies.ipynb\">dependencies</a>)<br>"
      ],
      "text/plain": [
       "<IPython.core.display.HTML object>"
      ]
     },
     "metadata": {},
     "output_type": "display_data"
    },
    {
     "name": "stdout",
     "output_type": "stream",
     "text": [
      "leftward_permutation may now be readily provable (assuming required theorems are usable).  Simply execute \"%qed\".\n"
     ]
    }
   ],
   "source": [
    "%proving leftward_permutation"
   ]
  },
  {
   "cell_type": "code",
   "execution_count": null,
   "metadata": {},
   "outputs": [],
   "source": []
  }
 ],
 "metadata": {
  "kernelspec": {
   "display_name": "Python 3",
   "language": "python",
   "name": "python3"
  }
 },
 "nbformat": 4,
 "nbformat_minor": 0
}