{
 "cells": [
  {
   "cell_type": "markdown",
   "metadata": {},
   "source": [
    "Proof of <a class=\"ProveItLink\" href=\"../../../../../../_theory_nbs_/theory.ipynb\">proveit</a>.<a class=\"ProveItLink\" href=\"../../../../../_theory_nbs_/theory.ipynb\">logic</a>.<a class=\"ProveItLink\" href=\"../../../../_theory_nbs_/theory.ipynb\">sets</a>.<a class=\"ProveItLink\" href=\"../../theory.ipynb\">enumeration</a>.<a class=\"ProveItLink\" href=\"../../theorems.ipynb#subset_eq_of_superset\">subset_eq_of_superset</a> theorem\n",
    "========"
   ]
  },
  {
   "cell_type": "code",
   "execution_count": 1,
   "metadata": {},
   "outputs": [],
   "source": [
    "import proveit\n",
    "theory = proveit.Theory() # the theorem's theory"
   ]
  },
  {
   "cell_type": "code",
   "execution_count": 2,
   "metadata": {},
   "outputs": [
    {
     "data": {
      "text/html": [
       "With these <a href=\"allowed_presumptions.txt\">allowed</a>/<a href=\"disallowed_presumptions.txt\">disallowed</a> theorem/theory presumptions (e.g., to avoid circular dependencies), we begin our proof of<br><strong id=\"subset_eq_of_superset\">subset_eq_of_superset:</strong> <a class=\"ProveItLink\" href=\"../../../__pv_it/theorems/68e07573bf796e1dc78107fa509e301eb2f523640/expr.ipynb\"><img src=\"data:image/png;base64,iVBORw0KGgoAAAANSUhEUgAAAtYAAAAXBAMAAADdFRXNAAAAMFBMVEX///8AAAAAAAAAAAAAAAAA\n",
       "AAAAAAAAAAAAAAAAAAAAAAAAAAAAAAAAAAAAAAAAAAAv3aB7AAAAD3RSTlMAq1RmmUTNIjK7EInv\n",
       "3XZ/CtNrAAAACXBIWXMAAA7EAAAOxAGVKw4bAAAGuUlEQVRo3uVZb2wURRR/93e3e73jxEgEk+aM\n",
       "URuweEEhQgweQg1KjGfUL9IPF5EQ+eLVkJgKgcMQ5AO0VSSAibhI/KBVeoDgv0AqhIAStCEoBHLJ\n",
       "NRCwQpumCUogWufN7M7O7uzerdkqH3jJ7b335jdvZ383++bNHIAfGToL/70UyeeTfLAYbxRdnNpL\n",
       "cOuEjkj5Fxzu/x8GlcqQz1I9WBB1skuASy/fQq7piGJVSmIaHffV5doXLJBMI5+H9aBRGtKSK3xj\n",
       "PIb36UlvqyaajugCJbEV7WV1ufYFCyJagVwOBg6T6DeUwUqlctbuCiav1rBqoent4zqSuBbTSXdd\n",
       "rn3Bgkg0O65cr78s0x9MRmtYtdD09pEckoiMJzJ1ufYFCyKNMJ5ca2dgnLmO3fC2aqLZ7X9EEiNk\n",
       "PsXrr42+YEHkgXHlOpQfb67tUerFFNqZuoQWGCcrlRM+6hA/sCCyyORauedyVfA7TFnsAOMh487n\n",
       "bj+0WuzkMGWRAPGmgYyXJYvQzka0h5K4EOADH1z7gQWRJXh5inzaig3iC+owZbEDUn30a624EpBV\n",
       "N3YMPhJqHIfpkgMkQO9y7U8vSxahnY1oFiWxHZS0D679wILIKZyiR0imPQJR4QV1mC71ix2gsEWp\n",
       "XUCsIunv8yw8K7gcpiwygJSjP3lZsgjtbEQPURIb9IT7Zk05vR8eT5tce8K8ZX23rLm1UjlKbjiJ\n",
       "3CE6AskyaLPMSUnNnj1TPOsXCrBk5yt4TQrZYCm5PAdwHmBXwfBRU/vuDs+5zfCikFfuphUArVr9\n",
       "KVocURclMVx1W/M6J2+BexN6VDe5dofVlFBZ1txaTa5hHclSjd3Qm4fOIbM8oWbOexoygCUH8ryC\n",
       "NDZuT5Nn+AG0a6AOmy8ANaM13hgKsMl5iI1aAdCq1R/bbSNqY5vvwlyX2bIQt4nVXMLao7vB6pRx\n",
       "JVlza+U5BN4lma4KTxCtxUx81LwGa0pemZHhnZvEpbatpPY3REZIo8ENMyfkleteiYnh7QVz9AYP\n",
       "QK0a/RlaHFELI3HvclJrz+8cSM3G5yHaRbanhOb7VwtcIwx65n5lDmffFfmcx+7sGp4iaW6tVHYY\n",
       "dUhvBiaFi5RrDUxzDnItv7AW4NHHhtMXtuGq32e8uHfpQh2ijUKo8CCjiviZGdEJV5rMkwUwScFQ\n",
       "1zGHmwGoVaM/a6dMGiOazUhcRXLyrrZsYzqFyRm1okZzaXPi48UW1wjTzqjm8vpFsUvm2u4c0i9K\n",
       "mlsrGEUR5bqhGj4dZfO6t8BN0qL9YbjohVsUoM08At/DgFjYLv5Q3KPvgJZcjlJFOzITW+SAFsAk\n",
       "hXruhPfBCkAts7/LyLCdMmmOaBEjMUR+ubcuwYRSFDMoanqMprtmyA1aXCMsmlP7QKG13wLYCLHp\n",
       "rXb+0GnJZlLpdOiGJmGxVZBNBtda09ftvzGuk+e4qRK1QkIlc2BcTosAZXeBTKVF7psMdO288k5T\n",
       "iU1LDMNM2KTTEELAnAjgpFDPl1kQAqDF+/OuVn/STpk0R/SLcFjaRFhKZpjWBpHXtm9/j3DdE7ef\n",
       "qTbmyc/89jm2lg2QfXUvOBa4AcE6DvPUFt3QJCzxiWayZNs30nw9lZv4k4XlJMIBoSqZBKe8uTZS\n",
       "J2pWGDpppsrngrqTFO6xB6jXH5k0bq/0C1wfh0FYozJtgaqW2byOTbdz3VtsmKMDck1K9c2fKbZp\n",
       "bDgjTz7SOo2uZCNwGJK6oTmx6Iu0zuDFCJ7OOLnmjUpOKUJCTo1la6FNdSsjJT9cW2FWwJtCCAsP\n",
       "TlIS7gHq9UcmjdtjXWSSqIyQX2F2FHpQO9vMtogzwZymfF4Xu15ArrUyHFOvzQHYgmoPv6AzPAhH\n",
       "w2W0zkW6kWtDc2KJj0AtaraSz1Ub1xrfe3dsWKfDbnlt5IA1ZGZHunNsk4jPVqnwM1VjK2lSxcMo\n",
       "2zY8I4TgYgEMUiyPLUC9/oxJNqIOgcRYGpZB+++wMUO0K1noIFNE/bUIITvXsfnT9wHhWj0ML84g\n",
       "sGgJ1Y1F9RheDOc2rRDNoH/dMCDXhubEou9upWAdryNl5iHCytcPEZJ4289jYwDyU1mA5yFeVJp0\n",
       "uuGT9mRmpascuFkVwjSOjY0IIbhwgEkK99gD1OvPmGQj2gouf24ZD6t9s32L4D1o+6+M5JAw075N\n",
       "cRW41h8uJyOmhTkk7IntT820sicZozIv4LHtyokuzhUT4dYJHVGK1CNDR51nLnr93p0nMsD+wYuP\n",
       "/QVg/ZnHNC2dyocuG5Z6da+huWG1dHgf3LYS8YnLuqlZD0i2Lvb2kH8AmJyVgS24FE0AAAAASUVO\n",
       "RK5CYII=\n",
       "\" style=\"display:inline;vertical-align:middle;\" /></a><br>(see <a class=\"ProveItLink\" href=\"../../../__pv_it/theorems/e7a13fcacbb7fd42f6fbe2be5960e8f7b95e48350/dependencies.ipynb\">dependencies</a>)<br>"
      ],
      "text/plain": [
       "<IPython.core.display.HTML object>"
      ]
     },
     "metadata": {},
     "output_type": "display_data"
    },
    {
     "name": "stdout",
     "output_type": "stream",
     "text": [
      "subset_eq_of_superset may now be readily provable (assuming required theorems are usable).  Simply execute \"%qed\".\n"
     ]
    }
   ],
   "source": [
    "%proving subset_eq_of_superset"
   ]
  },
  {
   "cell_type": "code",
   "execution_count": null,
   "metadata": {},
   "outputs": [],
   "source": []
  }
 ],
 "metadata": {
  "kernelspec": {
   "display_name": "Python 3",
   "language": "python",
   "name": "python3"
  }
 },
 "nbformat": 4,
 "nbformat_minor": 0
}