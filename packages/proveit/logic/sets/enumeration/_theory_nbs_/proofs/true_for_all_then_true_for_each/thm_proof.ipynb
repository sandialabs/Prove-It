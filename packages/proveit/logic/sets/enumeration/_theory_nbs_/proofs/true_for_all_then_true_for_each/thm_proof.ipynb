{
 "cells": [
  {
   "cell_type": "markdown",
   "metadata": {},
   "source": [
    "Proof of <a class=\"ProveItLink\" href=\"../../../../../../_theory_nbs_/theory.ipynb\">proveit</a>.<a class=\"ProveItLink\" href=\"../../../../../_theory_nbs_/theory.ipynb\">logic</a>.<a class=\"ProveItLink\" href=\"../../../../_theory_nbs_/theory.ipynb\">sets</a>.<a class=\"ProveItLink\" href=\"../../theory.ipynb\">enumeration</a>.<a class=\"ProveItLink\" href=\"../../theorems.ipynb#true_for_all_then_true_for_each\">true_for_all_then_true_for_each</a> theorem\n",
    "========"
   ]
  },
  {
   "cell_type": "code",
   "execution_count": 1,
   "metadata": {},
   "outputs": [],
   "source": [
    "import proveit\n",
    "theory = proveit.Theory() # the theorem's theory"
   ]
  },
  {
   "cell_type": "code",
   "execution_count": 2,
   "metadata": {},
   "outputs": [
    {
     "data": {
      "text/html": [
       "With these <a href=\"allowed_presumptions.txt\">allowed</a>/<a href=\"disallowed_presumptions.txt\">disallowed</a> theorem/theory presumptions (e.g., to avoid circular dependencies), we begin our proof of<br><strong id=\"true_for_all_then_true_for_each\">true_for_all_then_true_for_each:</strong> <a class=\"ProveItLink\" href=\"../../../__pv_it/theorems/e1f2520a2f0eac2ff8d6f955efdbefbcdb5929640/expr.ipynb\"><img src=\"data:image/png;base64,iVBORw0KGgoAAAANSUhEUgAAArcAAAAlBAMAAACqgtwlAAAAMFBMVEX///8AAAAAAAAAAAAAAAAA\n",
       "AAAAAAAAAAAAAAAAAAAAAAAAAAAAAAAAAAAAAAAAAAAv3aB7AAAAD3RSTlMAq1RmmUTNIjK7EInv\n",
       "3XZ/CtNrAAAACXBIWXMAAA7EAAAOxAGVKw4bAAAH+UlEQVRo3u2bfYhUVRTAz8yb2TfzZnZ2xQpN\n",
       "kJFMBXXbdJU0sSFXNKUcsn9MiSUDyX+cpTBM3ab6o4TV3T7MD0KfBUGZ7LpmmZJsiFhKMISaWMK4\n",
       "LtmypVvkNzmd+zn3vnmzH2+DbJsD7+PemXPPe793z7nnvNkF6E38uVw1eBLvmkNAFuVuQiCXs/tA\n",
       "VOl1fO+aQ0KO4xYtwS3BLcEtwS3BLcEtwS3B/R/BTRVrmb0omUUH6JeYzoY5NOHG4sVawWxxrQ7l\n",
       "/JmBG1XVqR1mi8OlEO4rjshHj9Ue4HrU9CwTcevKvTXyOVu0pFxwPoedN4a9t4BeX6va3d+LlWY0\n",
       "dWbnggJ3LjlfURxRIInHspQHuB41vYpVR/ZXAcLHZUtIGffQiJjOFfjx+6TzI22MlfzY5m5Cqksz\n",
       "ujq1Q21xuK+SONFcHFGITO01XsKCR02vEiDTLnQbTd8WLSlGgh33CORN6LwPEAeeo41Rw5/TaXcT\n",
       "Ul2a0dWpHWqLwyWgI/FeIufK4k+yj5jrTdOrRKljX8ftlmjpqzdx2bt5+3IaN+LS7foYbIbHHky6\n",
       "mpDq0ky7S5ZwPA/XwEdc1huiqXis8wTXm6ZXGUd24R7crotWXpazQ2YDb+8kGwL269dXxuZ7ecjd\n",
       "laW6MON33t5yvols4btz5070hih67txPrZ7getP0KgtpLG1mLk9b5qiLIk3Yyy6qVSwBN5hrQ4Bc\n",
       "X/3hBhFUK/nS6LoI5dWFGYc6s7NXgTsfYHtviAJpCNue4HrT9CrLeSxd+71oLUuFb/IPp7OJmfIn\n",
       "RMw0v4rzqRo8Bjv5ZRpsJq6AsW4WpLo041BndqYrcOvBrOwNEX5a7y3PdWom/lGY41n0k23K9PKo\n",
       "Q9NEyzoCgQz/cBLd4+J9lmn9fmgfDavlSPjTanhcXDWNobgSl7tNCqkuzTjUmZ1JCtywHVHDt3ly\n",
       "P8yqVEuB7bDfYxHBNJf8+dkw6k40kB0cNGU2npF0PLGjIpaKVqAHylvBopO2iXaOALgkYyZbwXCU\n",
       "RQA/gnVoGLII0X5fGmJuZYdUl2akupAmvgm4/mx+Pds0cjOMidgBW0VU5WVVUjSNDEQyEi5WQdbg\n",
       "qjc23i7eWqrBvaq0os3QkoRNv5HmMpEJ75FprqTzLVhXIEBneZDOXExerYx7Ir1Hprm6upBlfJPl\n",
       "b91smSrOJ9VaNhHREJUZWY9wmaYvAbEeCRefZCQ9KLhsvLmO+oCGhdAtJUi0ZOERPJsMYkcyzgDN\n",
       "OpvEOot+bd0GowcqkiZZ/TOihHjUvYRg6tKMVBcymW8Sbhvmo8acTZ28cptwf4MONzIOv2Xt6xa1\n",
       "1u7ZXxRadnbmNSEah/JKCdd4ftu2QSa0dDzEEOtsmJfP0XeQWCrnELZa4nCPP8W4zqAoSNSjc/ay\n",
       "CIThLFh/gK9uvGETuAa9REJ4daHdvLo0k1en/JidGSrcdXjnHy6rjqYsOvSEyAdLNUTm16Q4STVx\n",
       "uNYPoWuFLuPszGvCK7Z5F0i4uO8YHFw6HrnLi77mZ0Es4DQDKutRcqJw1n8ywCctzdOoh24lu1Wg\n",
       "5F47YHICByGhi6ZW1N3C6F0W8f6WOrHLq0szUp3y43YWqnAxfsPLP0OFHaQp9ARIdOnvtjCQQy00\n",
       "Yi1Lvh5IhNrhyU69hqGdhW/FiCbMutRhK3APaCH8xX6/2DE7+QkdL4iDVYezaXpCZSNexc4b2XzL\n",
       "Gn2g/hcO9xTZ3UuXFdwey+0QdSwS3dX9xmhEsBEvspzclY9cbYgMdJLM14TYSfW8GalO+XE7pwpe\n",
       "OY7GOEw89m2Eu7us8MXhUTgPocnUy5OxSmi3enRXJZ1FXjkOEycMwy6/GsLnDiDWppXx6PgVOFlk\n",
       "MVWuRfJ8i8A1M8UGPSOfHUn21w/Ui86o/JgdakuH+w3UhkKtbOYGqwoQWdfgnU9Y9teSCs+0U46J\n",
       "SjtrFk90g3tEh+tbw43W1Cb43B4YXDoeZdoIqXxYMBJur2oY3EBR/6iRLgQvFbyH6VtqVH7MDrWl\n",
       "wTV74MwEVqlhdny+ENGx0JWZBO5uiKaaFtsQTuKp1Sp2tLOqudwFrnlNhxt6F+D1wzU8Z0C4xmxZ\n",
       "I0/tLrx+2edLquNlwGz/HLPcfEa6RVPbosIt/m4uzFcSc+ubC4q/HexbnfKjdtYU/BIRrITualiD\n",
       "9xs6nWKvuXVET03BzxFuYzw4p2ofLZob46Fj0JgiO9bpS692gdt1y9bgktuu3hCBF4Cvvg9DO3NK\n",
       "MFqj6DZ6pCB9/GyBOh6O8sTSS7a8PYCPNT3RWrvqsJO7thLzi4rmcj3KWP1+idys8qN2thTA5V/9\n",
       "ctvmYpGTBjL8Ost8InZWnBKJ81zlwtNFNFW4RLDSWVKLYWEteu8KdPHXzrLifQNEocVR0G8AY+4U\n",
       "nNzmcLV/aQFSU0vH1VasF2gNyvnFgacuDdoPHClha+C/oYV+bYMg01iVy4hT8tzY2S6YWN0/uNmt\n",
       "BsYSHhbOxjpo0W7hw7sUN0laYpPf+VK4Y33+LpJ7BrQEJcCBzYM7Ubz9QGm4nRr90VThDu9+iP+C\n",
       "iHAnVs2hcNeBv60Tn85mjKa4buOqu170jSDhw6cXdgeZ6eQQgjug8tchDuccW4u+Lt7tI1w/n5Jp\n",
       "JeDwvkxsmu2Eayn7ElxXGZOWcPn8PxjDBU/3CavSj2voahv+M3KH/N0Cm86bTojJWpb7q0iFloYS\n",
       "3MFqDgkpwf234Zb+J8KLiP+J+BsS4WDg+Y9doAAAAABJRU5ErkJggg==\n",
       "\" style=\"display:inline;vertical-align:middle;\" /></a><br>(see <a class=\"ProveItLink\" href=\"../../../__pv_it/theorems/2fe1306d525d40f88e4fe5fdfbfa1e294de880c90/dependencies.ipynb\">dependencies</a>)<br>"
      ],
      "text/plain": [
       "<IPython.core.display.HTML object>"
      ]
     },
     "metadata": {},
     "output_type": "display_data"
    }
   ],
   "source": [
    "%proving true_for_all_then_true_for_each"
   ]
  },
  {
   "cell_type": "code",
   "execution_count": null,
   "metadata": {},
   "outputs": [],
   "source": []
  }
 ],
 "metadata": {
  "kernelspec": {
   "display_name": "Python 3",
   "language": "python",
   "name": "python3"
  }
 },
 "nbformat": 4,
 "nbformat_minor": 0
}