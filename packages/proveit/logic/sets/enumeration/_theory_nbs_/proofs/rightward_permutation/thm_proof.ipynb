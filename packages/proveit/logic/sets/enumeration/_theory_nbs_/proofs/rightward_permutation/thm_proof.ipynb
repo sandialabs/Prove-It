{
 "cells": [
  {
   "cell_type": "markdown",
   "metadata": {},
   "source": [
    "Proof of <a class=\"ProveItLink\" href=\"../../../../../../_theory_nbs_/theory.ipynb\">proveit</a>.<a class=\"ProveItLink\" href=\"../../../../../_theory_nbs_/theory.ipynb\">logic</a>.<a class=\"ProveItLink\" href=\"../../../../_theory_nbs_/theory.ipynb\">sets</a>.<a class=\"ProveItLink\" href=\"../../theory.ipynb\">enumeration</a>.<a class=\"ProveItLink\" href=\"../../theorems.ipynb#rightward_permutation\">rightward_permutation</a> theorem\n",
    "========"
   ]
  },
  {
   "cell_type": "code",
   "execution_count": 1,
   "metadata": {},
   "outputs": [],
   "source": [
    "import proveit\n",
    "theory = proveit.Theory() # the theorem's theory"
   ]
  },
  {
   "cell_type": "code",
   "execution_count": 2,
   "metadata": {},
   "outputs": [
    {
     "data": {
      "text/html": [
       "With these <a href=\"allowed_presumptions.txt\">allowed</a>/<a href=\"disallowed_presumptions.txt\">disallowed</a> theorem/theory presumptions (e.g., to avoid circular dependencies), we begin our proof of<br><strong id=\"rightward_permutation\">rightward_permutation:</strong> <a class=\"ProveItLink\" href=\"../../../__pv_it/theorems/1380fa7965b33b678544029da47fac8c2f8609960/expr.ipynb\"><img src=\"data:image/png;base64,iVBORw0KGgoAAAANSUhEUgAABLcAAAAZBAMAAAAxj9GwAAAAMFBMVEX///8AAAAAAAAAAAAAAAAA\n",
       "AAAAAAAAAAAAAAAAAAAAAAAAAAAAAAAAAAAAAAAAAAAv3aB7AAAAD3RSTlMAq1RmmUTNIjK7EInv\n",
       "3XZ/CtNrAAAACXBIWXMAAA7EAAAOxAGVKw4bAAAJvklEQVRo3u1bfWwcxRV/vq+927PPpkiR2qjW\n",
       "9QukFFMLqohEqrk2QENQ6AmKqBCFUxMLFbXlEkVCAZIcFLVIdbCRWrXOH+mGqoVgsC8EURQaN5Si\n",
       "lCLotQIVuXV1TiIC+ZLlltoyKu68mdn52J3dWysXx44y0l3evP3N29+8+e3M7JwDEK18erwMF8vF\n",
       "Er2cHs9HhZYWG3eLfOzblnT6rctN3l8Xl3SnNpf54EC8e8mK6wj5vHfH0n64H97l9+V6nSXdp/Qn\n",
       "Cf9knYmrAz2fiyCuiMAFKrEq+cyebZS9bzYnod8rqNUf/bEBXgCe8F/70vnUlpoPvReeLobkIINC\n",
       "OcrEdT067okgrojABSq/IZ9s7azDbGwOm3Z9ezHVCO8CDvovHTyvad0Y2Iv2fMQc0FFJOVRcD+MS\n",
       "ORBBXBGBC1TWNEdcU81hc7c23SQbzagCsOjENRXYi7udiDmgoxIvUHGhxrL5COKKCFygcqgp4krO\n",
       "NoeNroiGvARgsYlLzYenFwej5oC1+zMVF+7pU1E29BGBC7TlKjVFXE2Y+wyra6rB9kQCFpu41Hx4\n",
       "erExag5YjA3sbfHN8fE3Ir0tRgMuTElU3W5Yy4/XlQubRrc3eP9X8anOCXencOYaBTR6tBI+CCra\n",
       "Wv7+lMagP3x+VwBB4tJ74emiMeT2IPZ6xwxFRct86L3wdNGUVQFg4trHxLUWYFckcUUDLkxJ4RlK\n",
       "AqevO8sZZS5PHoZfhm8ONPzIvfY0S87f4EaJ2ZZPhG4udfQ8GaiAU+yf9eNY/krtG/wx9Bs0COlh\n",
       "r1M1FA0t8jFfBgoghzsWWMnEtQks8vJoswP4Soi4GHBxlDZ8rB4i7O1XIaHM5c92w/rQhhz/lHjv\n",
       "f4vFq3KDln9Aa+hUwdBpGbGkMbghlIEK2OGb46xXfb3wdNEccr0YQp293jFDYeiKJx96LzxdNGfV\n",
       "BVh0CruCiSvjZItkMmN83iWfr7jUtt1UjL8ixcWA0Q9/vjvfBX/GZMrye0X5rYTJpl6cvSYxf/ZK\n",
       "7v8GZst++ZLAuYPhYRTcaeIj1g4b/IrnJ4EP4dC+TwUypWhoqygRozOgAJ5ke5lHXdayooAIOvQG\n",
       "oXwong8hZS/pEB6h+ZgV467lY34MGCD+L1rZ8x3y1c/EFat7tuk4cJCeGCzGOg7AOikuH7BBWT5P\n",
       "cVmTJlOWHR6O6RtJyloHYKQIj5/m/tfB/hASIU86w8vHNjnF25F4Z2oCA1AImQJf90eMzoACWJIh\n",
       "2+u9+uguF6LSITcI54MhQWGv0IFG+dCmMZGPeTHgWX2NVl7Ert3Jf/4p9RgG8TryWMZ6ElCV4vIB\n",
       "G5Q/zVNcuQGTKcsH3mURz4JH6nAtMbv49PwxxCehvWjNBN2E48WxDntySTt8Ba0JDMCHsCNoj8DQ\n",
       "nohRGTAAf1L4cby653pCQBQ61zbiE59U+Wh0oFE+wJiPeTFgADYlsN9Nuri4nr+XbOAmaMxjOGar\n",
       "rJOQwwuxR26vq+JCIAz1/NYNqZiyCGf64wlMXfaooD9qEKfw2fvfq/tNNe4PlFqmzt9LRvKwLFam\n",
       "ucQFYApaSpfHHUymfyVAD8Pf1cFqM7i5QOPfJAU0lzYOBul8cTWm0gZjEIoe/hpDBzIwN2YAmmSA\n",
       "3xnfFjnEpcNuEMAHPQyPQyjYu3Qo1aB8CDSOOw3t5iOYgTkKA8QHthO5ZOmGfhUX10Mk08Pt2CpB\n",
       "j486Nz9b3ks1WDnwBVVcCLT/np52o0pTuZVw5sZyeFLyTvqQO9sU+/xbY+F7rtxf8Ztq3BmQ7zXZ\n",
       "Di6uTD32doI+KPZ/iWs3dBUK9AqtjpTAY1C8XZ9ltUvhp8wgb1Qv0VwikNwmW6HD7G8v0YXLmDuQ\n",
       "gd5G1BgAkxx4FMEgLh1+AzMfNBgeh1Cy71KpmvMh0Tju1CPyEcTA0B8JaDm+4rB7FHETF1cLSeQD\n",
       "dBp9JotyeCufhluZuBJifSpxYKJAxGLRIwlq3nJM3+RTJ2CrTHeckrcrDE76+XTyyuv1VBIfsH3d\n",
       "dbgH3Oq4phdJ4k5CTJzrpWtcXHbnS5veZ6vAOGm85+SPOwnLnQ6rtmGDt4Eb6KF468kah7/QzYzs\n",
       "/h6H5rJtjABfvvoEucUYr4n2aAi07bzArgcyEI11BgyASQ4UF4O4dPgNzHyoh+JxCCX7LoVqUD4E\n",
       "GsedBXLzEcgAL/oZMEDrEXzrZOJ6R/2Tm93i+Mj6z1qAlYODg/lYxa6WFHGxnXSuAx4ZE+Yhe9Lz\n",
       "NpDj5xWtlUQH27gyOG73WmFET+VrivUBpLsc1/QiSdwBSMi/EHpXP0/GXMbElE3VHPPN4NKDq6qo\n",
       "SQPjrXAxVOgrIDjIBu26gUFIY5rkBif0Op0gPtKzW61pdALyIdE47iv8PTQwCIuyAzfq/Gi7pojL\n",
       "nqULUTuZquMD37bgJ2zmglvqHnGNlDOrHRgTZlmsesr1L2KrdmjNs4gMDtP4R2SelRGX0KvxGbCn\n",
       "Yfcz0Oa4phdJ4p5wUvefcetf9osrK2pb4H61KtZSGe1ppZbVcunuA6yCVZY1U5BpUK8bGIQ0pkmO\n",
       "Ii4RI4iP8NAhrBrpBORDotvV0NkwBmFRViVrZT4qOA0IccVKBZuA+mAIWuo7s5DBUY4XwZ2G5MxV\n",
       "7r+VimuIm5kiMUlb/kWdny0Qq81ZRb5TRXJznDir0IvMfqZgmc96oITW4fTMahSXa2pIGveHTvvm\n",
       "vWLuKbtnwSKXwyILv3hsnVIVRXouSyi1YTWXtvs0bX3sUUfWDEHwqVKu+xmENaZJBtNx6ykw0gni\n",
       "Iz1kCJWaSicoHxLdp1aGwxiERelM16r8d5OtoM5cneX0HwAmoC+fKbdcQ/gQ5857ALziSq65cj+d\n",
       "ivryzFyLZvow9JXxizkzFfTdXCff1poeqkUSfQtZ3RMVtBi2zH3xKvq+edXJbhSXa2pIHrdfnuLZ\n",
       "A+5ZMJYH7xsFEJ1snZubVKqiSM+e40rNNawXP6pDzvX+ZW4OZM0QBJ87ed3AIKwxTTIebPtP8/JG\n",
       "OkF8pIcMoaxpdILyIdtOqBUBNDEIi/JzuLRCD/fR9PyZc4xuI3jfhgYHi56ff5SC6xwDZp26aCOc\n",
       "z8VcKy/gMWodyLkWCF9LUfhwWeSmjmRxTm57Snjwl9otnzjfP2+eVbH25Q3Or+YXvi8bmhfqQRyT\n",
       "XNkrrjtS3zoESSfwt0VZHn8j7wLvm6spbbiVOcEt9o1woH/unpr7H7fYHZmihJU+9bxr6kge9+vZ\n",
       "qxbLj5vQ2wcXSsFxPwdFE1d34pgDcYggLtrUZHotBdQdZB35vOYzmvHFNyI3r7tgxIXjfq7FFVq+\n",
       "f87+3+JnCnCxXIDl9D+7/w+PVQTe6/4hQQAAAABJRU5ErkJggg==\n",
       "\" style=\"display:inline;vertical-align:middle;\" /></a><br>(see <a class=\"ProveItLink\" href=\"../../../__pv_it/theorems/6ae998c3f62ab3070ecde4a98a31c899b91c28e70/dependencies.ipynb\">dependencies</a>)<br>"
      ],
      "text/plain": [
       "<IPython.core.display.HTML object>"
      ]
     },
     "metadata": {},
     "output_type": "display_data"
    },
    {
     "name": "stdout",
     "output_type": "stream",
     "text": [
      "rightward_permutation may now be readily provable (assuming required theorems are usable).  Simply execute \"%qed\".\n"
     ]
    }
   ],
   "source": [
    "%proving rightward_permutation"
   ]
  },
  {
   "cell_type": "code",
   "execution_count": null,
   "metadata": {},
   "outputs": [],
   "source": []
  }
 ],
 "metadata": {
  "kernelspec": {
   "display_name": "Python 3",
   "language": "python",
   "name": "python3"
  }
 },
 "nbformat": 4,
 "nbformat_minor": 0
}