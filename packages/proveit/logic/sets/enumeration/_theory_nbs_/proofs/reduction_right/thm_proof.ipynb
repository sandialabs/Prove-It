{
 "cells": [
  {
   "cell_type": "markdown",
   "metadata": {},
   "source": [
    "Proof of <a class=\"ProveItLink\" href=\"../../../../../../_theory_nbs_/theory.ipynb\">proveit</a>.<a class=\"ProveItLink\" href=\"../../../../../_theory_nbs_/theory.ipynb\">logic</a>.<a class=\"ProveItLink\" href=\"../../../../_theory_nbs_/theory.ipynb\">sets</a>.<a class=\"ProveItLink\" href=\"../../theory.ipynb\">enumeration</a>.<a class=\"ProveItLink\" href=\"../../theorems.ipynb#reduction_right\">reduction_right</a> theorem\n",
    "========"
   ]
  },
  {
   "cell_type": "code",
   "execution_count": 1,
   "metadata": {},
   "outputs": [],
   "source": [
    "import proveit\n",
    "theory = proveit.Theory() # the theorem's theory"
   ]
  },
  {
   "cell_type": "code",
   "execution_count": 2,
   "metadata": {},
   "outputs": [
    {
     "data": {
      "text/html": [
       "With these <a href=\"allowed_presumptions.txt\">allowed</a>/<a href=\"disallowed_presumptions.txt\">disallowed</a> theorem/theory presumptions (e.g., to avoid circular dependencies), we begin our proof of<br><strong id=\"reduction_right\">reduction_right:</strong> <a class=\"ProveItLink\" href=\"../../../__pv_it/theorems/53c848de26ac49cd5d77d83b1d110e2b4fe0f04b0/expr.ipynb\"><img src=\"data:image/png;base64,iVBORw0KGgoAAAANSUhEUgAAA28AAAAzBAMAAADyRS3eAAAAMFBMVEX///8AAAAAAAAAAAAAAAAA\n",
       "AAAAAAAAAAAAAAAAAAAAAAAAAAAAAAAAAAAAAAAAAAAv3aB7AAAAD3RSTlMAq1RmmUTNIjK7EInv\n",
       "3XZ/CtNrAAAACXBIWXMAAA7EAAAOxAGVKw4bAAAKEklEQVR42u1cfYxcVRU/87HzZt58KkmjYOqo\n",
       "iEm17aRNKjS6O6QggpZOwKjxqyOmIeEfpg0JabHsYBpDwtYdQohso+YhKnQXOkMbKym2HSCkEmId\n",
       "EaMprnkLm1TbsmxEWFIj473n3vfu+5636073vW1vsjP3nHveb+67v3fvPffM2QHwV+TxcQUulWCU\n",
       "+ZCR7XbLgbuBVP0iY2w/4yvV7TZ8E1cJ4H1cdrFNteQpXomFmrhIyyz/srI86NlRc21avSyI22AW\n",
       "c9uWyS6c/LDrjaQLy4A46YRZXrt4vMk/6bhKvawXY+8uuDb9aRkQl1XN8tFFxE6U3aVe1v9/Sbs/\n",
       "CJ9Rwk/c56B/xOWL7lIv674Sx5+RUBP3ch+J26q4S72s+0rcwFzoicud7yNxR+eFfBQuGHHw3dAT\n",
       "ly04DJ90xWnjzmcRHRwco4E8c/kDB/nwzHzQOFgmyWEwje0GFDj2hiFEkJ652vuOdGsv4pgLFmbi\n",
       "Rq1hky+Qv2/VUsaJaBHthRk8zoQ4TKmb2eC/qzTFYcosOXiVrL1uRYHdxbgYYOkVuNGzL8I618a3\n",
       "zZO0/NFs1VTDTtxHrJPnBTKEL0C8A7J2wGPixNOXuw45GsAxJn0WhhQWjImeh4yqw6DkgYLtAH+1\n",
       "osBrRpRsC07Kz37AfTuk1rG/4638y+Oo0Ak7cc9ZeFtBehifpePzoze5joll2OyGwQy0UsdJi/oq\n",
       "5FsChkpeKLTdCYXOdh1li0JnY9x1FURreBHrj97metuxuZATl3zbotizDyDTgGZFBIaY+A4M111A\n",
       "uL1eTorZsbWow6DkgcKs7SgZHF0N5SV6bqhI74F7X8jjN4v1w+6jLb8dcuJyc1bNg7gBDBnGiokb\n",
       "3YecGXynIHztce1gRibIanFM26J4oGC7PF20orDtiKPI79PxVtyJQ+tY494Wrr2uexxbaUJMXKrt\n",
       "4JQ3i7AiWsOxonsJF2mLfWuRNYNd6nlslx+OtKGF+nyd7H46DJPcUbA9Hq3aUEoAFR2FzJQB5jC6\n",
       "oFDryOlVJ4hR2+PGfxpy4jINB+JSavTVOI64/C7oYvIUE5tVrtclNJB+3kFN9L1ftAeKqI+UUmUB\n",
       "wyR3FGwfT5etKMRJTNd1FOJSPgOwV7Gg0IqwzrxOnVOv4wAc58ThMvEJP8RF0IMqBYS4ZtmBOHnl\n",
       "M9v/wabKpKKLOxUmZuklrwJ/yZ7SDFIqtss3q1eu4/orNoEBBiUPFGxPlKwo8Oz6MwIlfWhQAWkf\n",
       "WFCwolsPX1fvcY6DoQoj7noq3O6HuDi9IlELyjFOdY9f0LGK6guSVJZqBlEvq/Rn4AmjudCbYHqi\n",
       "5Gs+UO6Cu8EL5ZqBTq0HcaNsL4T7aKcafohL0sm5MyhL5dqiN3FpXdp5/x7FIOpF9+CvihvNhd4E\n",
       "0xNlBHqjSI/cfxN4oaxMdlo9iMOlhhCXoLO46GuPu4O8HwwKcUM2H++cVrnnTnKiPqDr/9DtGkXd\n",
       "IdCn7KOnje263gzTE2UKeqNkut1ZT5Qfw2V1PBi6l3yBERcjS3PCn3OynrxXg0LcW7Y1e9j0+FlW\n",
       "UnvIMufSnvO4zgvle4uCguVJL0ci3+Be5e8nJ1/2R1xmcvJvraAQd9y2UUjXFpeuO4mvtxcN6x7P\n",
       "kHamyon7IgBxdeQaj9d4EBevQ0oJCnFbAtMTFrCavlD9yXY4cdtBIqtmms1fGij9vDaVd3+pEnvO\n",
       "QByx276AT/phw15zap1f+ShcpCXb5sSllLT5cJ2hYnJqrBItHIGbjAfwffDrBXySyKKLtLxaLxE3\n",
       "P+KiqsU3GaYv9CAYHYzrfioSt2ZBvkmmbq85tYZ6qbyAxGlLJVQHAQam0CvFQOk10lnIUb8m+oOv\n",
       "qSbiEjGyisqHzmoO3cTgb+zAQpmbvvcGemKc0b7JEjXDeVLojg1qtfQbds/LojtujwSEOiFW+pTf\n",
       "eaA5J3CQnM8O5OkDjIFSWLnjydp+DG/Vj3zSRFz6KmL1VG2Uj5n8l+Sc/UgilKcjDfq90pvKNFeI\n",
       "mihCl62MaMo/J+0+GtEZvk+Gt2wzNeQJsfft80lcQSPu+6S2C798oIFSgJPFJNzKiIvnGkbiJOqq\n",
       "XEdjBDuR5zIZ31umzc85KgEvK6VUOroPwQZmT2sDa64394O2sp30RniC28Ubct2GS3TRstcBPOwJ\n",
       "sQ/6M8uXNeIidAh+xk4jZIWU/k0OCBvGxsaK0brcqhqJgw8B/Y52CpKrFfRicgVoy7MW1yZXMIbv\n",
       "AH4H1zJ7WstA09wPouO1F4HjontkxyXkGQ6mayvuIa9FOJaV3aVe1gstPvvfbIHhax35fF0b6Vjj\n",
       "2xI8wGYc3KKaiKOWc/DQOGTpADdrqY1KzbKqofLTKg/fUeZm4XlmT2sSjJj7QVvX443TFZbZ0W5Y\n",
       "cakucfeM2BtL/SRuKRJiffZfCzKzEq2W5RYd6QmIqHvT7KAdq4A+e8T3cSeS72ykAzwBmdrorQqk\n",
       "KqRKLuYvqPx4mQhS+zBQ1FPkU4g9r8HDIOyZTtpVpYptkEbiJiBRId6sBZfq8jv2m1eMvhG3FAmx\n",
       "PvuP0XUx41bWks/TQOlIMVWLXA3SI0S593YAO3FfWXe2RAd4pDiwac0hjLyMFJMnYKRGX5gyVQcC\n",
       "d/M3ZxTytmcGZxKvxesGe66LtWjrXevPIHEjRWnToGLFpbpRg1OarfaTuKVIiPWJgkFa0zfgUQyU\n",
       "8lk/MTZWsYa8jKKiWaYVVb8ItNpTUYTjqNye1Y7kwGDPdJGK0Y61OuGe3f24OLi3nW48AAmxlsRX\n",
       "U06sQxHWPonDyIOJuG/QQOmA4h6rFCV57qBmeWe3Y7iI11JnCBxH1exZLdH9LxjsmVHWZMdanXBv\n",
       "SK/TuxCzZboGJCHWnPhqyol1enKE9Tl/xL1kI65EA6Ux8EMcXutUNShLpjdTLWbWvX6lS6sjrvbs\n",
       "WJNGg5IQSxNf4TFtIX/N+1JmzaLDw75cHOl9G3HegZY+RiU+tiBvOqgJsTQWl5zhJzvMcvW4lEXu\n",
       "MDoM8go/zIU+IRa+bJGDkhCLS1m0o38AeHWAWQ+z3W6bn9uOhD4FfWvFHnkIQEIsJr7qxGGWq8el\n",
       "zJpGh/1GfvJq2InLlu1eZQASYlniKyVO5MRi5qD9DnRrGh0G+K2v2x5Swk5czOEfGwOQEMsSXylx\n",
       "IieW/jyJKQNWXI/WNDrs9zjAMtKX278SByAhliW+UuJETiy9FCU9Axav16wxOuyTuGXwr8R80XCK\n",
       "PCx9QizucauMlwpDcYzg1hgd9kkc/yWNUBOXaHkRt7QJsUhcy3gp2FM0NGuMDvskjodFQ01c0vID\n",
       "NQFKiJUO/0cVTXipbI+9adYYHQb9EOlZXoHwEwf/NIuBSoi1AeXs/VetUZzeZVn8JJQ1QSzcCbHS\n",
       "0356/1WYN3EbA/hDo7cFpysXJiE2eQebnOMH/BN36YdGA1B+xZ4O+kOj/wNyVFQ53vB7+gAAAABJ\n",
       "RU5ErkJggg==\n",
       "\" style=\"display:inline;vertical-align:middle;\" /></a><br>(see <a class=\"ProveItLink\" href=\"../../../__pv_it/theorems/1c9d07fb6ad145e3a107815154870d8f0039aa270/dependencies.ipynb\">dependencies</a>)<br>"
      ],
      "text/plain": [
       "<IPython.core.display.HTML object>"
      ]
     },
     "metadata": {},
     "output_type": "display_data"
    }
   ],
   "source": [
    "%proving reduction_right"
   ]
  },
  {
   "cell_type": "code",
   "execution_count": null,
   "metadata": {},
   "outputs": [],
   "source": []
  }
 ],
 "metadata": {
  "kernelspec": {
   "display_name": "Python 3",
   "language": "python",
   "name": "python3"
  }
 },
 "nbformat": 4,
 "nbformat_minor": 0
}