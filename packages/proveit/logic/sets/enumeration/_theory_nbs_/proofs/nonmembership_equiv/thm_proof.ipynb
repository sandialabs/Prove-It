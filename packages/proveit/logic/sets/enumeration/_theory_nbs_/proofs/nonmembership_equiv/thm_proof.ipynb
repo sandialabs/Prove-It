{
 "cells": [
  {
   "cell_type": "markdown",
   "metadata": {},
   "source": [
    "Proof of <a class=\"ProveItLink\" href=\"../../../../../../_theory_nbs_/theory.ipynb\">proveit</a>.<a class=\"ProveItLink\" href=\"../../../../../_theory_nbs_/theory.ipynb\">logic</a>.<a class=\"ProveItLink\" href=\"../../../../_theory_nbs_/theory.ipynb\">sets</a>.<a class=\"ProveItLink\" href=\"../../theory.ipynb\">enumeration</a>.<a class=\"ProveItLink\" href=\"../../theorems.ipynb#nonmembership_equiv\">nonmembership_equiv</a> theorem\n",
    "========"
   ]
  },
  {
   "cell_type": "code",
   "execution_count": 1,
   "metadata": {},
   "outputs": [],
   "source": [
    "import proveit\n",
    "theory = proveit.Theory() # the theorem's theory"
   ]
  },
  {
   "cell_type": "code",
   "execution_count": 2,
   "metadata": {},
   "outputs": [
    {
     "data": {
      "text/html": [
       "With these <a href=\"allowed_presumptions.txt\">allowed</a>/<a href=\"disallowed_presumptions.txt\">disallowed</a> theorem/theory presumptions (e.g., to avoid circular dependencies), we begin our proof of<br><strong id=\"nonmembership_equiv\">nonmembership_equiv:</strong> <a class=\"ProveItLink\" href=\"../../../__pv_it/theorems/441fa408f38b85ec639f7581caaf895aba60098a0/expr.ipynb\"><img src=\"data:image/png;base64,iVBORw0KGgoAAAANSUhEUgAAAu8AAAAXCAMAAACMA1E+AAAASFBMVEX///8AAAAAAAAAAAAAAAAA\n",
       "AAAAAAAAAAAAAAAAAAAAAAAAAAAAAAAAAAAAAAAAAAAAAAAAAAAAAAAAAAAAAAAAAAAAAAAAAACC\n",
       "gUnDAAAAF3RSTlMAq1RmmUTNIjK7EInv3Xbp8+P355HB9aMTnpEAAAAJcEhZcwAADsQAAA7EAZUr\n",
       "DhsAAAdTSURBVHja7VvZtqUoDEVAURCququ7/f8/bUBmg+Bwh4fLqnVySoGd5GxCgl6EbjUl5Yy+\n",
       "srFCnvdyjY/jF2mL+/S9bGDvLE/7fNzwj5iSwfIBacX4pWxHCuey0iaeDZpG/kX6zsOyQ4/qVQMR\n",
       "oqcmdcA9ROi26PqPe1ejoFIpDW2H0AuTa3y/N/KVhkUuqyzLBm38C1fo4nRR5EUDtYlLgzukE+k2\n",
       "QqdF13/c+xoFlUqpaUtDpJ7YNb7fG/lG41Muq3Eg24WE/ModKaBP/D0D9TJq7dAlnMAg0gOEEkLg\n",
       "i555X6OgUiE1bUMMZAu6xvd7I99olOSy1iT6hnwn9D0Dix0MagUclxOI9AChgCgRmmv7AzQKKhXS\n",
       "0NYvgUvL0ubvt0a+0dZCQjvaIuWv39M35Dta+RsGulDX3llzOEWGEUJ6gpBDlAjt3OMDNAoq5dLQ\n",
       "lrj1dGlVWr7fGvlGgjflEihYJqXtG+bvGN/RRJ4b6O3sCHU5nMyz31cQcgjZkV9/uEZBpVxa2q7S\n",
       "tFVc5vutkW+kMyKXXKmBzyJuM8zuPGUi6BjHld0xOei205t923Nlhsh3MTw2EC6cYOgMztSC6SCP\n",
       "UIXoQcggSoSe6hTS6JHNUaVcWtpSGwYXfp3vd0a+0Mq1q3MzNShEZe4SUhyU0Z3/AmGzZZINtOvs\n",
       "Zp9nKjOosE+TuA6pTNrQb6Ab9+e/bBwMTaaCLJgCkbmEuIKQQZQIzR+zotEjm6NKubS0ZYP/uMr3\n",
       "OyNfaBJnkjBjL0dD2FUn6NiArfb+jHcfDtCme3qzq1VnYJuPVHh9bCAY6irQKdxe6kl+QKpBdCGk\n",
       "EAeEruLzqNEzm6NKudxpawJ0/QESk9Sm+etw4Htj5IeVq2Mm5xi7nRNsnvXX31JGL7Bh2ntrjVcT\n",
       "+M0HJ0XKk9zkQgzD9Z0rnb64M0z7TzlvTw30mSytQieWpXB7RaPUAakCUUfI3JNAHBAarabRDZvz\n",
       "dbRBcucqVmDNOathWXQHPCDBi4dajuSVkZ/Ld1Tayxfg1GimPu8azXOneZu1gepQwoab1G6hN7QL\n",
       "M5RboltwaFyfGgiGupplCZyraLg8IFUg6giZeyLEEaERHs40umZzcXmFpKPtdMh1jTXUzYH1TWoy\n",
       "pSPf4ZGfnM9Yo7UbOI8lPyoP31F8wmnDxp5O40OncHMbTQ5y432LZPpsgw1PdxPQSv7eNNCO+/W7\n",
       "HAdalsD5EEBxiXSAaCFk7okQR4RGXnyi0WWbM3dLSDraCuxyXUKJDg10PxYNQ2c8MgXzPYzUWxJl\n",
       "+p9TVRmFisQevAiHyPOei0ol13vQsKJ0QZrtcaS1E0HL+5384Yfi2aIwH4T7H7QrqeHoOEN0pkGP\n",
       "9WqzOGgaCNUnFctSOBnOrwqkCsQJQnRPBnFEaB1GwhrdsDl3t1cpl462zOXmnIymqFuZzwkc33U+\n",
       "g0eQ734kUszUDC5D5QrpaDavxUEdcLFypHfeMz9jwtvMqe47JiFF6zHMNb7TwcQOkrKCb97fyU03\n",
       "It4L306+xBkSZ+bnkbR5fts2EIGHIIBlKVzcisMTeYcEQ5wjJCYFCADh1FdVja7bXLi7PNLdpaet\n",
       "Iwfjyqhidt6RpHzX+YxaIL4HWhG7Mt1/GDfuNiNYPKwMF0es6GmNG4dXanqZSk51OMeU4Kw2XP7w\n",
       "Gt/5IBTdWMYK6U8Ikpt6fp7dQ5LWv4ROfobEmTnfZbPAbxsIhjrQsgQult+zypFgiHME754UAkA4\n",
       "c1pdo+s2F+72KuXycLYyKJfak2mxDe985yKvS6FDmS0pJQZh55pxejLlLq5miTeq9r1ndReccwm0\n",
       "f/5ddJpXfZ9ATEXiifnhZliruCejyTrtMwRnZuiso5brMLD2FmFpWQPuPkIMZezVB9e3NUrd7VUq\n",
       "5IG2q4nlVMfpWWTx3QTlBt9N/sHSoGLmyk5i3UWGmlmN60noSCAby7eBoMcYR446xhnn8BWXhRYq\n",
       "bzI9OWPomENWfI4OMwRn5pt/x+uzNw2ELGvA3UaI7umyqL/d1ih1d/nCnZMlbdlmF5hheExEiO2k\n",
       "hjO+s9UiU7sT7It03OKThOIiWsZwFfrwPbHJaaDg4V8Zqr46BL2y6Yp4qfb9I69X3WqON9kyz7M9\n",
       "g+U9J1ChUzJDdGZymNz3MmnTQAIsQsiyJtxNhOie11+PvatR4m6vUilL2tp3cZQgu0E+odrPPE/5\n",
       "jqgahTIvac12senUa5ki34uL7qTTXp1Xln+kPXV1AFb6vprmS+OcK1/M2B2vuvKBiWkTO089W+PN\n",
       "dTMtvXfaQqc4Q+JME4NI49e8ZiD0BBOyrAl3EyG6p9Oi/nZTo9TdZbjw8uzZKBcmf690ECd/CqhZ\n",
       "xfX8C0l1TC8K7umBG8NN2UqgP8JjKpeHAgAM+nT47DeXPbLwyKqTHC0DOx8MdMA9ROi26IK3HmoU\n",
       "VCqkkusHvAtg6KlLh3GyVfe6R9r04qQDgwxdz4abt96wIOin/bRv2ww9R6JE+yIivcN/2k97p/0P\n",
       "NKNUcqNQY7AAAAAASUVORK5CYII=\n",
       "\" style=\"display:inline;vertical-align:middle;\" /></a><br>(see <a class=\"ProveItLink\" href=\"../../../__pv_it/theorems/a9845e1a8c84543c03fd1c189d1383f3703d3ec80/dependencies.ipynb\">dependencies</a>)<br>"
      ],
      "text/plain": [
       "<IPython.core.display.HTML object>"
      ]
     },
     "metadata": {},
     "output_type": "display_data"
    },
    {
     "name": "stdout",
     "output_type": "stream",
     "text": [
      "nonmembership_equiv may now be readily provable (assuming required theorems are usable).  Simply execute \"%qed\".\n"
     ]
    }
   ],
   "source": [
    "%proving nonmembership_equiv"
   ]
  },
  {
   "cell_type": "code",
   "execution_count": null,
   "metadata": {},
   "outputs": [],
   "source": []
  }
 ],
 "metadata": {
  "kernelspec": {
   "display_name": "Python 3",
   "language": "python",
   "name": "python3"
  }
 },
 "nbformat": 4,
 "nbformat_minor": 0
}