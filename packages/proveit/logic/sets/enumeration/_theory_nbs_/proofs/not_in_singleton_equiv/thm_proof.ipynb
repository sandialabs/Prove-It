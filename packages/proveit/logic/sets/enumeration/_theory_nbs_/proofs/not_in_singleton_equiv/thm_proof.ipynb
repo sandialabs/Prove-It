{
 "cells": [
  {
   "cell_type": "markdown",
   "metadata": {},
   "source": [
    "Proof of <a class=\"ProveItLink\" href=\"../../../../../../_theory_nbs_/theory.ipynb\">proveit</a>.<a class=\"ProveItLink\" href=\"../../../../../_theory_nbs_/theory.ipynb\">logic</a>.<a class=\"ProveItLink\" href=\"../../../../_theory_nbs_/theory.ipynb\">sets</a>.<a class=\"ProveItLink\" href=\"../../theory.ipynb\">enumeration</a>.<a class=\"ProveItLink\" href=\"../../theorems.ipynb#not_in_singleton_equiv\">not_in_singleton_equiv</a> theorem\n",
    "========\n",
    "*** see <a href=\"../__pv_it/e01334021ef9c34218bff021a7505fe298f897910/dependencies.ipynb\" class=\"ProveItLink\">dependencies</a> ***"
   ]
  },
  {
   "cell_type": "code",
   "execution_count": 1,
   "metadata": {},
   "outputs": [
    {
     "data": {
      "text/html": [
       "With these <a href=\"allowed_presumptions.txt\">allowed</a>/<a href=\"disallowed_presumptions.txt\">disallowed</a> theorem/theory presumptions (e.g., to avoid circular dependencies), we begin our proof of<br><strong id=\"not_in_singleton_equiv\">not_in_singleton_equiv:</strong> <a class=\"ProveItLink\" href=\"../../../__pv_it/theorems/f5d24c56e03c8f4a2a677c07472e81ec0df201180/expr.ipynb\"><img src=\"data:image/png;base64,iVBORw0KGgoAAAANSUhEUgAAAO8AAAAWCAMAAAAfMztaAAAARVBMVEX///8AAAAAAAAAAAAAAAAA\n",
       "AAAAAAAAAAAAAAAAAAAAAAAAAAAAAAAAAAAAAAAAAAAAAAAAAAAAAAAAAAAAAAAAAAAAAAAeYafp\n",
       "AAAAFnRSTlMAq1RmmUTNIjK7EInv3Xbp8+P3nef1oUNS8gAAAAlwSFlzAAAOxAAADsQBlSsOGwAA\n",
       "AzhJREFUWMPVWNmS3CAMNIc5xJFkk8z/f2rABhtxeDSpvES1tV3FMGqEGiFm2/7CdIfPs4rBvnef\n",
       "c5qftct/udoHixzjwhSgL6kdugmG2XNoj58RL03CZLB6P5Fd41zQWLnDuDDD0Jdes6XYMieKT4jX\n",
       "lHa+TaJBealM0RIOCuNyr5F8XZjNuUYV0InXZs2z0jJeadCWll4pMK4sbB/EKySdmKioxqr3A2vw\n",
       "jtPi9R1OFWTDt+9B0ePdPJCJ1+ldCrR6zyjKtini6VUYZwVCRdiY+SS/mxJU4jUtW5dO0aAP2bwj\n",
       "ytlhhBgZGNeoQ2fF9IetRgbxkCWwLl7HqMQj4az+dDysYZFHJizQ4kVblb+d1MviJgPmFd0VI0v8\n",
       "buNZl+J16v7SqLj3R4bG2EA8EJb5v3638zFP9X6gZvUfxQJHKHR2muR761FNCq725+eGnwtlZ3HU\n",
       "r5ol7onEE8JJejue6v3EnFq3E+P1O0LT5K5Q5fPx4yv9uwq+Zqp8KzH5nHlf0g9MnWGYF5F4JCyn\n",
       "F1X4jqd6P5FHcrUa4t2axRcqOxZ7I6/jsufGw7xKNXN1I3ZPJR4I590D4qneC6rruMUodfqrDRhD\n",
       "DdhMz4fnNB8AXbxh1Umduann9u66eHh3fpeEx/x0/eH5mCcgdLwct6iz4ovEIG5pOabbeBtbBLtv\n",
       "zB/14b58YycuVImPwGv07q5Xb7udNeG0QUM81XtB7ev44bZoTUPejtgtBJX2lCADMtHvrX4VZ2YZ\n",
       "r2Q5QaK/f+Xb6/CBMA0PG4x4+ku0Wd+rOQcsfcy6s2JCiyBTNrkUiB3Y1/AWuiID5qKsJHe84W29\n",
       "fCCc9d+Ip3ofWbJ8dbsI36cqGIyzfvWns+ksLftJp/pRHQg3ofn05VR5qveeRftjStIGuMKwvx6b\n",
       "b8rLF0WW/YPng8oJD8KPCBHP8okj4+5izIX8mJp0Y9WyLV+257OXVq2UIZ7HBHddtLfZklCM6W15\n",
       "qvdHlhQvJP923HiwGMdcTl5atZPiIt4PYyhd18PLZkY8BjfqqeV5m6B8x8FRqvZZH6Ijxt6mramW\n",
       "rNsG7epIJP60tCI0z78CaQJL3vhdROKj6f+xP414HZcqnzU+AAAAAElFTkSuQmCC\n",
       "\" style=\"display:inline;vertical-align:middle;\" /></a><br>(see <a class=\"ProveItLink\" href=\"../../../__pv_it/theorems/6d107e12d4a84908b52c521c976cda30ae1c22b70/dependencies.ipynb\">dependencies</a>)<br>"
      ],
      "text/plain": [
       "<IPython.core.display.HTML object>"
      ]
     },
     "metadata": {},
     "output_type": "display_data"
    }
   ],
   "source": [
    "import proveit\n",
    "%proving not_in_singleton_equiv"
   ]
  },
  {
   "cell_type": "code",
   "execution_count": null,
   "metadata": {},
   "outputs": [],
   "source": []
  }
 ],
 "metadata": {
  "kernelspec": {
   "display_name": "Python 3",
   "language": "python",
   "name": "python3"
  }
 },
 "nbformat": 4,
 "nbformat_minor": 0
}