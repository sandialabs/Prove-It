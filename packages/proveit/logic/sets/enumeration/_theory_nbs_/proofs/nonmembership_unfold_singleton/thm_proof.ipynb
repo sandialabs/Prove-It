{
 "cells": [
  {
   "cell_type": "markdown",
   "metadata": {},
   "source": [
    "Proof of <a class=\"ProveItLink\" href=\"../../../../../../_theory_nbs_/theory.ipynb\">proveit</a>.<a class=\"ProveItLink\" href=\"../../../../../_theory_nbs_/theory.ipynb\">logic</a>.<a class=\"ProveItLink\" href=\"../../../../_theory_nbs_/theory.ipynb\">sets</a>.<a class=\"ProveItLink\" href=\"../../theory.ipynb\">enumeration</a>.<a class=\"ProveItLink\" href=\"../../theorems.ipynb#nonmembership_unfold_singleton\">nonmembership_unfold_singleton</a> theorem\n",
    "========"
   ]
  },
  {
   "cell_type": "code",
   "execution_count": 1,
   "metadata": {},
   "outputs": [],
   "source": [
    "import proveit\n",
    "theory = proveit.Theory() # the theorem's theory"
   ]
  },
  {
   "cell_type": "code",
   "execution_count": 2,
   "metadata": {},
   "outputs": [
    {
     "data": {
      "text/html": [
       "With these <a href=\"allowed_presumptions.txt\">allowed</a>/<a href=\"disallowed_presumptions.txt\">disallowed</a> theorem/theory presumptions (e.g., to avoid circular dependencies), we begin our proof of<br><strong id=\"nonmembership_unfold_singleton\">nonmembership_unfold_singleton:</strong> <a class=\"ProveItLink\" href=\"../../../__pv_it/theorems/f9caf514f7b1e7f4766ebd65a0976a26ce6828fd0/expr.ipynb\"><img src=\"data:image/png;base64,iVBORw0KGgoAAAANSUhEUgAAALAAAAAXCAMAAACccDU6AAAASFBMVEX///8AAAAAAAAAAAAAAAAA\n",
       "AAAAAAAAAAAAAAAAAAAAAAAAAAAAAAAAAAAAAAAAAAAAAAAAAAAAAAAAAAAAAAAAAAAAAAAAAACC\n",
       "gUnDAAAAF3RSTlMAq1RmmUTNIjK7EInv3XbP4duh5/Xp88jRr28AAAAJcEhZcwAADsQAAA7EAZUr\n",
       "DhsAAAKYSURBVEjHxVeJkqQgDJUbAmZmT///T5cAIio021tTLtVFl5LAI3k5XJb/McyDWl8xkE8E\n",
       "JPTeKqSZ1WcuHsLL/UTAusFFCaFU+6N+yOSgZxLODhZ0tLzdTWzcQwaWM09aNloRsqCm4flDgMPU\n",
       "wGNXhwhWlAvrpxg8O0ix8ZomsGGlEfxTjCgHASID6++OPccSYKIQ5Ft4+pOJ4g7mR42XRAkT4VuC\n",
       "Wt/JT1rU3ZDhIte6fTLc+uMnzdXKfuHEIbHl/ck9hu3TjFvTJXvlp79vu2aTCkMoYGHipYEtz1di\n",
       "+YQEPhnXq38GbJF9fKo+PzuEDVmUXCI7dFZnP0ZogepFmqJWMjTHvwu5PmAZKcVgeRfwcqB4YWC6\n",
       "wUbJd8ucU6EkCFFUEaWJv70UslMpbAFXQao+wE74Gr0O4JUfUKI+wInDv35nJh+nJjdg4RpfSwou\n",
       "yRgNkUXzEp9LvFxDywZwFQR6ibvRUky0emq9+ynZBpxaWEhBdatlF3m2T3RAxmDC/pz2KxFvgO6D\n",
       "rge4CirRLFhtr3oaoRuHfLMgI2B1zmr8nokkI1+Ic05kR/HeGg6xuMxwwOEsKLRzH9+c46mkFi43\n",
       "elxfeWqT0UEiRniCzwwc+eZR7qjWW24gT1bItBxsH3ARtIStnoLsomc6dXi1b/dxvoSCuTAsbk9L\n",
       "0S3gy9Zq62WJQzDmRGDXpHDo9eqwGBegjoHpHAh80DdJVB6JdTaJRJc53U1rVTA2ed/tFfCh120c\n",
       "hs2N6Bh4xUyxaUMZAUPc2IlZHoZPF0dbOBq9LmAYnbt22gMusLbsL9q4RUGKG6WnhaP9UMlZrNHr\n",
       "t2YGBzVz8mX16guDUCiBfl7pWGuWlBMOPaufarLf+Go9u9G2CI39ehB/APlDE7XlJdhjAAAAAElF\n",
       "TkSuQmCC\n",
       "\" style=\"display:inline;vertical-align:middle;\" /></a><br>(see <a class=\"ProveItLink\" href=\"../../../__pv_it/theorems/c666b803e2e45cd3e5bc20b2b1b8d6bcebe6b55a0/dependencies.ipynb\">dependencies</a>)<br>"
      ],
      "text/plain": [
       "<IPython.core.display.HTML object>"
      ]
     },
     "metadata": {},
     "output_type": "display_data"
    }
   ],
   "source": [
    "%proving nonmembership_unfold_singleton"
   ]
  },
  {
   "cell_type": "code",
   "execution_count": null,
   "metadata": {},
   "outputs": [],
   "source": []
  }
 ],
 "metadata": {
  "kernelspec": {
   "display_name": "Python 3",
   "language": "python",
   "name": "python3"
  }
 },
 "nbformat": 4,
 "nbformat_minor": 0
}