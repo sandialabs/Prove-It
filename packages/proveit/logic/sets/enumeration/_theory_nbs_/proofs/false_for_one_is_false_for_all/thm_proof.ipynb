{
 "cells": [
  {
   "cell_type": "markdown",
   "metadata": {},
   "source": [
    "Proof of <a class=\"ProveItLink\" href=\"../../../../../../_theory_nbs_/theory.ipynb\">proveit</a>.<a class=\"ProveItLink\" href=\"../../../../../_theory_nbs_/theory.ipynb\">logic</a>.<a class=\"ProveItLink\" href=\"../../../../_theory_nbs_/theory.ipynb\">sets</a>.<a class=\"ProveItLink\" href=\"../../theory.ipynb\">enumeration</a>.<a class=\"ProveItLink\" href=\"../../theorems.ipynb#false_for_one_is_false_for_all\">false_for_one_is_false_for_all</a> theorem\n",
    "========"
   ]
  },
  {
   "cell_type": "code",
   "execution_count": 1,
   "metadata": {},
   "outputs": [],
   "source": [
    "import proveit\n",
    "theory = proveit.Theory() # the theorem's theory"
   ]
  },
  {
   "cell_type": "code",
   "execution_count": 2,
   "metadata": {},
   "outputs": [
    {
     "data": {
      "text/html": [
       "With these <a href=\"allowed_presumptions.txt\">allowed</a>/<a href=\"disallowed_presumptions.txt\">disallowed</a> theorem/theory presumptions (e.g., to avoid circular dependencies), we begin our proof of<br><strong id=\"false_for_one_is_false_for_all\">false_for_one_is_false_for_all:</strong> <a class=\"ProveItLink\" href=\"../../../__pv_it/theorems/2d885323da98f2bdd3b96c62f203aa440b3ef2e20/expr.ipynb\"><img src=\"data:image/png;base64,iVBORw0KGgoAAAANSUhEUgAAA+cAAAAZBAMAAAChoEJ7AAAAMFBMVEX///8AAAAAAAAAAAAAAAAA\n",
       "AAAAAAAAAAAAAAAAAAAAAAAAAAAAAAAAAAAAAAAAAAAv3aB7AAAAD3RSTlMAq1RmmUTNIjK7EInv\n",
       "3XZ/CtNrAAAACXBIWXMAAA7EAAAOxAGVKw4bAAAJkklEQVRo3u1abYxU1Rl+d2Z27p2vu4OpRmpL\n",
       "xqhIgqxTXUxFgqMLUavEUfyjEh2DCbGJ9vKHhJbCtGmsWmS3GtQxBq7aGHHFHVm/iWaVECzVdDT4\n",
       "kcokg9haiizbpogsKdvzee+5955z7swYf+GbnJNzznvPc977Pvd8XwCN/LhpQ1fS0/xEWj4fTk2J\n",
       "l7+FM9uUw82CQpPgkdX8UPcclUq3BiTlxbESigwWPBFzasfYESW2HBCUTelFCR6BLtWe+22c2YaV\n",
       "pNF4UWXWMI/gYt1z3w3pz+DocxY8EXO3KTFDGqugyvW2VCBqTdvgEegybbryHZHO7SKNqslc5EaM\n",
       "9DxOn6MivYd00GLnpEsrPozL6jRYW47PeORnwEq815C1tUyqmYvCwek/zrzT4TlXDsgYKao0MtGA\n",
       "R6BLtKkicabO1Z2IxK4DCtKpWTmHR4z0Jbh0pYr0RBlTaHdOuqyiMc56O+nxfejTf8LhOVd+LoHr\n",
       "9zQ/xNFGt/vA18ile9yc274jmVtansZD8S9FsNJsRYBHoEu0a6kzda7uSMJ24UZlpFOzrDyPGOm/\n",
       "ccd7GekmfnJNF8O7rGICd+lBFmAI2XNhi+dcGVCSPuAOUo8RNPyO5kn0Yid5zls4lVTvTzUein+9\n",
       "hR9JVSPAI9Al2mupM3Wu7kQkdpGGlaSnp3jESMffSKagnNNx99rezZwuqdiHe/84C3AEOfdInedc\n",
       "yToq0okmhx1HPvAs+Ya/QeEEz3myR/X+VOOh+KWBwupI8Aj0sPYodabO1R3N5BK79uhIhxU8YqTj\n",
       "R5PqhdzFXS1BktKKQ+ilYxUaALbgUOU5r2pRRTrRYKcliONmk9lyEoVveM6TFfr391D8gr/SKyPB\n",
       "I9BDWnOKOlPn6k5EZtcKLenX8Iiv3t9vNv+iJj3bbO6rd0O6pOJhNsSTYR6O03GK5la9tY49lMmr\n",
       "SCca3D9z3pjZN0znCZIzzvqSL51fVL4/0XgoflnNersePAI9pLUazJkaV3ciPrte2P/sjgJpVEP6\n",
       "VzzipF8N8Lia9EQVUk43pEsqnsG6a5JNmMabBVbSuxu2sIfjpOMvbWL5wEc61ZwJMOF1N/Tuv/qQ\n",
       "55bbqSlW4xIy6xOQZt73/kTjoQRWclWwWpHgEeghbU+FOVPj6k7EZ1fJmpVokEYp6VKzbndYxElf\n",
       "BUZeTTrSrepqny6pWMOzaYEGsP69Y6wMrOT5Iizl3+a4qqdTDVoN/Y1kyWsfOWvHfJ5L74REg9W4\n",
       "QPnRU42LEhiI83RnowePQA9pU8PMmSFXX9bBZth8ifch0a64HZ/qKZJGNT19qMoiTnrKyZTFfdXe\n",
       "l2Fh3juceRxe7u5whla8+b8vzeAbtzvw2qNMA5mY6PoM5a4H+AzgadyeOakinWqSdowuj3fxhQHP\n",
       "JSYhV4eRF/F+bEj9/uBDCchKcnimBOddTYse0ibzzJkBV4M53olT3YlPtMuERIU1rCF9fZlFnPRY\n",
       "y1tcbJy5Cc7OOAnHI72/m6OkpFsx3oAM7yF7RdL7KgLpf4b0UTAn8IO9yp5ONbE62/3vYjtW9/2z\n",
       "wzBahhIZM5Yr359qXJTQmcxKHTgTPXpImysxZwquNvfXysE1bIS4T4t2IctarGEN6cT0UYF0qCxy\n",
       "N9JX4yOjVikjHMMm463uSKcVe0pgTQo93R3eh3i/Qbn0SYijh2KYdBJJ53Sqgcb94A7v5gneIsqN\n",
       "tuByvD1aj4axecrpbR74UIL8mMM6cCZ69JDW7emCqxdXAbok3WcXmqrttEMa1czp2CUkcknfjrbU\n",
       "8cGNX7ATxDnnrRNJz8xGkOmxQ7xjCElPRha9GiKdVIRsAXJ5gfRUiwY4wvsNyqX/gxY751NW48Oq\n",
       "ns40B06nhZvxwuAofwTlRgtwRsxeQF7uUuVHzzQcJbjQ/klZBz7w04kSRKFfqhzeiath4qovbHqm\n",
       "jGmMcq1XyEn32bW1/CPI0EZ1c7rNIpf0tcimp5cXs3aaeHVO5qlbBdKNt1G0zR7i5ghJz7BPzGMh\n",
       "0klFWO8YP+ClM9nERCanX4hT1WaYVypR0hN1FelMs63i7ZuSk8IuKtWK7cUXiG/yLZf0/ZmGoYxi\n",
       "t3/NEvhNPtaBp+fvhN2R6CFtD1/IEVdb9sxkYau7H4lwrVDYy6ZJn10XPnAd3Egb1ZAeWr3jfQr8\n",
       "8h/Q59DT+TlQOiiQjnc3sBg2AKwhMz1O9vYv8Z+vlgJLkiSvCAsnPnc3bnijaDZouGZ6M5/dUO7J\n",
       "Q7+fVaWk58oBu9FI/x4Z6ZmGH6o8iJJbjvO5B+XSs15b9U+Eh5flHwVA0KC3730y6DENQyHT7V53\n",
       "3mVHMypw44UKTEWifxQaPsa5M7Gr47DZpFdIcG810rVUT+Ue8pTfrj9NxAYLtNEQ6Z5ZCwkVELxa\n",
       "nYWWAvG7arWHEOkjSZF0umLYD+Y8hyezMOo/Oi1b+TDpRGYIpeR7+5QFT9wcIf3XyjktoMlV5Tns\n",
       "QKOhAlFr2gHvaeHVpB49rO2d8jkT0Kh4Sa1WK5gznEjXkkIms1tKK3GjmnvyK3jkJ/1dWGyaddrT\n",
       "e/sDpKePwcPP0R0sSRre10cHSTu1wBlYNldC+k7ft8GuTQbkVyyE9EGl5QGN/2LDzRklww7ekIhf\n",
       "f3s7YwV4tpooVSPQJdpdPtLNcQP+AOz2K8q1pDC+5KI6u6RUWIkb1ZAePHtnrpqET+fQ4yK0798f\n",
       "7Om7zaMLsGXpOk3CJpwcodEIZO2hZU7/cC5MunEseMuWsmkQzi5sgXT1LVRI86g0t+a+3zmae8F2\n",
       "bwzl4Osh99tqBLpEe63ozLWZSoIdVuKlmda1rDB2EB8OS9b6j4oNq0kP3bKxESgPh4qwBg0X5sc2\n",
       "/QNCJP2mi5AWWWa+Q5OJKk5usM3dKNpQ6B3sH0Pz1eow6QdPOIGzCLxaTPv44znjlROtwPcg/Ta4\n",
       "bJXm/jo9HaRMTaZa5OA3gDUWhS7RbhCdmfj7W/8C4zFOuta1vPBMoyIlfavYsJr0eJ5Hkt+l0q/X\n",
       "NgWOYcUZBF+S0eQblptEwtZEcOCW8PDuk9NwtI4FT8Tcl0qHhjRGS5WzlF+O1e7/IGrwCHSZtqcQ\n",
       "cuZITTycUbqWpRrWfEdGOreLNKomPWfzqNN/5MyvtgNQWpPT/+NJPErQzvwkzC1GkP4MnJqi+keO\n",
       "b8KUrmWpdD42Fn2U08E/cm2TTqQoScblJ3KyM6X6Kcr6XDnpcE+Ea8VCuLfQJemd/Q17d7e/aie/\n",
       "/+/dz0dZ7kyz0D6GUdXrD+9TkUmuUnBkNXeS5/4P7d9pkyFhIXUAAAAASUVORK5CYII=\n",
       "\" style=\"display:inline;vertical-align:middle;\" /></a><br>(see <a class=\"ProveItLink\" href=\"../../../__pv_it/theorems/607cd23e11e3f6eb9bb62580892b074da8c64fae0/dependencies.ipynb\">dependencies</a>)<br>"
      ],
      "text/plain": [
       "<IPython.core.display.HTML object>"
      ]
     },
     "metadata": {},
     "output_type": "display_data"
    }
   ],
   "source": [
    "%proving false_for_one_is_false_for_all"
   ]
  },
  {
   "cell_type": "code",
   "execution_count": null,
   "metadata": {},
   "outputs": [],
   "source": []
  }
 ],
 "metadata": {
  "kernelspec": {
   "display_name": "Python 3",
   "language": "python",
   "name": "python3"
  }
 },
 "nbformat": 4,
 "nbformat_minor": 0
}