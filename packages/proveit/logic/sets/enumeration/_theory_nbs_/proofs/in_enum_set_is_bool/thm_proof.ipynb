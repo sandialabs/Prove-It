{
 "cells": [
  {
   "cell_type": "markdown",
   "metadata": {},
   "source": [
    "Proof of <a class=\"ProveItLink\" href=\"../../../../../../_theory_nbs_/theory.ipynb\">proveit</a>.<a class=\"ProveItLink\" href=\"../../../../../_theory_nbs_/theory.ipynb\">logic</a>.<a class=\"ProveItLink\" href=\"../../../../_theory_nbs_/theory.ipynb\">sets</a>.<a class=\"ProveItLink\" href=\"../../theory.ipynb\">enumeration</a>.<a class=\"ProveItLink\" href=\"../../theorems.ipynb#in_enum_set_is_bool\">in_enum_set_is_bool</a> theorem\n",
    "========"
   ]
  },
  {
   "cell_type": "code",
   "execution_count": 1,
   "metadata": {},
   "outputs": [],
   "source": [
    "import proveit\n",
    "theory = proveit.Theory() # the theorem's theory"
   ]
  },
  {
   "cell_type": "code",
   "execution_count": 2,
   "metadata": {},
   "outputs": [
    {
     "data": {
      "text/html": [
       "With these <a href=\"allowed_presumptions.txt\">allowed</a>/<a href=\"disallowed_presumptions.txt\">disallowed</a> theorem/theory presumptions (e.g., to avoid circular dependencies), we begin our proof of<br><strong id=\"in_enum_set_is_bool\">in_enum_set_is_bool:</strong> <a class=\"ProveItLink\" href=\"../../../__pv_it/theorems/1afc53e2015d55c4dcd6fdf0a65bd3a92f3743d30/expr.ipynb\"><img src=\"data:image/png;base64,iVBORw0KGgoAAAANSUhEUgAAAawAAAAWBAMAAABuwLU4AAAAMFBMVEX///8AAAAAAAAAAAAAAAAA\n",
       "AAAAAAAAAAAAAAAAAAAAAAAAAAAAAAAAAAAAAAAAAAAv3aB7AAAAD3RSTlMAq1RmmUTNIjK7EInv\n",
       "3XZ/CtNrAAAACXBIWXMAAA7EAAAOxAGVKw4bAAAFKklEQVRYw82Yf2gbZRjHv0nuksvlxwLiZBuU\n",
       "yCYWt9YwuulUZqROh1KJFPqHnfVQhlgGi/8InXPNZH8Ili4qUTpQb/MXWunSzimKlrAic4rawSZF\n",
       "iFxtnXRbS0G0Uhj1/XE/k7vELRN84Ll7n/d578l93nve594LUEPi5RwakZCuLvJepoGwt9Jj1vs3\n",
       "56dqXh/JNESFX3V1mbDdagNxDx4hh56Kzvkze/eczUDUSPskErRrvRdWLW9d8Re5usjtakPz9Qqd\n",
       "mVRFZ74n1HsjMMOwdtCep72wannryvu6ushXjaUBu7y3EqsTn4WBoEqxDtJ8zHth1fLWlXZd/yOs\n",
       "tmqszT4gkKZYFC6S9MKq5a0rJV0tmSuXleuGFVWdQSlWkJy/pVgBkqJBz5JRy1t3aSlcLem6eD2f\n",
       "VjDlDEqwbrqbnJ+iWPi+XP7OuxLW8NYTochVXlj78hirvb2O+xpph5wwe5yWi9gHMKxIwhk03zNy\n",
       "lhaoUYa1EzjijVXDW0/obFIVMK11sA7rVfMA0eImBBbNHqflIvYBl+khoDiD5h/fc+Uhct7KsJ5F\n",
       "yD5LoXMncU/CxKrwXo3EklzvwL3qDewOrB+ZAKRkB3x5eSvv4dbw6FqvaHyAbvTT5e4vOYOSJJzp\n",
       "IuttE8MKq9Zbd3BNATdHVEE1sezeq5RohmuOPRsiA2Ui9M5Cq0m3jB8Q1QbnuY9baXR4ReMDDGM1\n",
       "4ZIWHUEpVlgkWXiYYfk1E1jYSV++WjpiJaHNe61YIDfE5EPTdYgmtriMwzm06F3M+hP9nts1Ply/\n",
       "sd20o+QMSrFAAHcxLCjbSZ62D87yFzSabzlgw2JeLDw4S1JYnIbP+A2raUlPAgmXJIS4hI9Yh3Ob\n",
       "ICh0jRhYzLqrBhYb0HbnQtrYpPgnnUEZlsIiUqwxUkve2ZWKZmX2LJsjx7ptWNQbz64JkvsbWaUO\n",
       "GGXJalppoi1L9tdUWGMqF3wlsC1UXHNUwnCC0lEs1bSoQ65GMgbIWyZwmrS/ZCUj7wxKsfzE2sax\n",
       "9pMp3ncBq1SRvQiakZ6zYVFvAG9JxNzXgjn0sXVHm2LrDufe+dhk3L4hoQWYqP/vd0sif6M/6cAS\n",
       "EuIfDEv+y7Skn4Hjit5lNswBoREFy0aBF4rOoPlujH9Czg9zLB997k0kJQPPDA29SrCGgzYs5sUS\n",
       "s9ehSWpRjWYUx51z6iv6NHvtmmQqP6Jt2Mx7jhZUG5a8bnaJP62yalh00mIEDedofqX1hjXAp7EV\n",
       "xbBiGUfQC2fepjt44DzHYvIN7pekIn9aYmvlh4lUYp9N58mwGA9CmiFU5GEsE821dW407SldLel+\n",
       "07F5ivCVAL+qW6F0iKzh26o3LMaAaE5I5/TLX6gMqifNpIUVWsRUM3/xbgGmK7D2RxQBw+QexUWG\n",
       "pTdRgFwkhnGI5Z5Aa95aw20u+1Hb0/oUHyc5VsSw+l46RMJXf8uYA/oRe9HA8thFCykLS0zgUgp9\n",
       "5Arpp6xZ5Aws4bfxixhIYsM2hWHpTSEH6RQGstJpejgFf/vrJGefs2pGlquL0G3CLyST8fzecVKA\n",
       "DOvHlRVaeqo3TsaARxE/oW9SvD4s+mBLQl7LPh8qeH8dJ+VsOMWTkDe/iJP0sBIFH+A1Um9nHjPD\n",
       "5bm6CN0mrJ81wlMOy4pXD3cOgDwBzwnDG1VYVc/e/l+GqPq0LkiXx4xmcOUKYDKQVpOo4Cg2Wl+t\n",
       "B3R1+cfhvmv92qEXj9KLf/f4/4XQzn/974MFIG4vVjUthhQ6L+H/Iv8AQ6KVQSbrjyUAAAAASUVO\n",
       "RK5CYII=\n",
       "\" style=\"display:inline;vertical-align:middle;\" /></a><br>(see <a class=\"ProveItLink\" href=\"../../../__pv_it/theorems/ecd7cc2415231f008a632213eece225a316fbd4b0/dependencies.ipynb\">dependencies</a>)<br>"
      ],
      "text/plain": [
       "<IPython.core.display.HTML object>"
      ]
     },
     "metadata": {},
     "output_type": "display_data"
    },
    {
     "name": "stdout",
     "output_type": "stream",
     "text": [
      "in_enum_set_is_bool may now be readily provable (assuming required theorems are usable).  Simply execute \"%qed\".\n"
     ]
    }
   ],
   "source": [
    "%proving in_enum_set_is_bool"
   ]
  },
  {
   "cell_type": "code",
   "execution_count": null,
   "metadata": {},
   "outputs": [],
   "source": []
  }
 ],
 "metadata": {
  "kernelspec": {
   "display_name": "Python 3",
   "language": "python",
   "name": "python3"
  }
 },
 "nbformat": 4,
 "nbformat_minor": 0
}