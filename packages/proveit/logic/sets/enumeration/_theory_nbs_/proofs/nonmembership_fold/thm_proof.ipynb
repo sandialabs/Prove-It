{
 "cells": [
  {
   "cell_type": "markdown",
   "metadata": {},
   "source": [
    "Proof of <a class=\"ProveItLink\" href=\"../../../../../../_theory_nbs_/theory.ipynb\">proveit</a>.<a class=\"ProveItLink\" href=\"../../../../../_theory_nbs_/theory.ipynb\">logic</a>.<a class=\"ProveItLink\" href=\"../../../../_theory_nbs_/theory.ipynb\">sets</a>.<a class=\"ProveItLink\" href=\"../../theory.ipynb\">enumeration</a>.<a class=\"ProveItLink\" href=\"../../theorems.ipynb#nonmembership_fold\">nonmembership_fold</a> theorem\n",
    "========"
   ]
  },
  {
   "cell_type": "code",
   "execution_count": 1,
   "metadata": {},
   "outputs": [],
   "source": [
    "import proveit\n",
    "theory = proveit.Theory() # the theorem's theory"
   ]
  },
  {
   "cell_type": "code",
   "execution_count": 2,
   "metadata": {},
   "outputs": [
    {
     "data": {
      "text/html": [
       "With these <a href=\"allowed_presumptions.txt\">allowed</a>/<a href=\"disallowed_presumptions.txt\">disallowed</a> theorem/theory presumptions (e.g., to avoid circular dependencies), we begin our proof of<br><strong id=\"nonmembership_fold\">nonmembership_fold:</strong> <a class=\"ProveItLink\" href=\"../../../__pv_it/theorems/458d3a84dc171ed8345dd9a47ae8af588085ede90/expr.ipynb\"><img src=\"data:image/png;base64,iVBORw0KGgoAAAANSUhEUgAAAkYAAAAZCAMAAADjRBFVAAAASFBMVEX///8AAAAAAAAAAAAAAAAA\n",
       "AAAAAAAAAAAAAAAAAAAAAAAAAAAAAAAAAAAAAAAAAAAAAAAAAAAAAAAAAAAAAAAAAAAAAAAAAACC\n",
       "gUnDAAAAF3RSTlMAq1RmmUTNIjK7EInv3Xbt5cnp8+P3nRjLMsUAAAAJcEhZcwAADsQAAA7EAZUr\n",
       "DhsAAAY3SURBVGje7VsJltwmEGUVAiSczdH9bxoQOxTaOnZP4ubN9OsBflESvxZKGoSeN7yuq0Cf\n",
       "9ms3Y1lAXhEwfe7hv9jEnVHF+bvUJKJTidIPjb6KUR9b9KSqyRNX71J0xtKvzU1BI5zGCX1Aoxfg\n",
       "n1Y0ok/2rpq8qXfqKoMyhmYaseQdJ/GARi/AP60IUieenVUxTK9vVTYtH12kpVHiuZBPgtoL8E8r\n",
       "aHLiylf0FWlEWc6NIqU0eUKjF+CflttylDXJ9Y8/1+kL0ggtKtEoptn3E+apzNI/+fYrmdH47vHJ\n",
       "KITnL+mN0ETzSW1ZXVv0w5PaY/in5ZgW7p4yBqtZF55dOG/fZk5xH5XZg6HCULZ1MHYxXxtJyDTS\n",
       "ONOI7VSX6iGNHsM/DTVWjWyuYbBBLHub/eBCTcO6QCuNiIuGdINcxsHYRaczkmBSCKZTppHA8eMR\n",
       "jR7Dn9tuHRDAEyLE6mYzQCBoDeY8Kl2WBUoLZWAq3K7ZGEbh/DN6qMWPz8QTDgOnm6Oxa20sQWzR\n",
       "W5Il02j3JHpYFRUrc4N0wTCNTuA/om5R/kHBlWF92ClwcB3sRKM7siBpi586F54m7KVLGf76bj/S\n",
       "RQs88UTTxXHSfSg6tRSOY0prjO8Hi1J6O4QnT6R5K2hEDJghzwZLaTUmGGkrk6kBjQbwn0MjOPYP\n",
       "nCPXJ8CRU+XHmd8tWZC0JTOu3jUl+0PwzFIGwV0dct5mu1emTbvTmGMte5KUJwmdgUQi89IbWRLQ\n",
       "nnKMBTyxg8yFygGNYPhPohEDTR4PSqFFdACBI1wbVtpbdUsWIC0/2+SbhSlVFYw6CsQysnddPlUh\n",
       "7aw0tnEXh+YHycNUJUI5gqcielg00EiTcGGUUcvr3emmSjciM+HCHNAowZHFCvsT7ohxV9vaJNwL\n",
       "2cJwouzrctXC0dx7CYVdr3dwJ1Wxe7IAadJ418MRXlBlscYgzoZHpZ1PnlSRRgq1Y1QlGl0KbYCE\n",
       "TIt9+Zxiy5JGIuQ9inKXvS0ieNNIIxvUCB/TKMKRES4hC3FTGWRZOy/tKRLqBY+bw4kFjcRUL8yk\n",
       "a9/sL4UkEFYDr+IKIBS+7skCpPmDM9lmxexUXrJsInge0ohh579oQSO1Tf1YRKTB/gvUFSUUtGgO\n",
       "/KFQEWuHQVOhjBPhfBanJY1sUDNySKNUHaO7XYU/hHJX5mCiqAakXk4MO8rLM/yIRlz2C0dHCijA\n",
       "ZQ08xhUq8qMDzxVZAKBMd/wuM+t7CKOkzru+d0/z0z4qrA3bROmN1lV1Y1a+qgfXSOT0pehqJRS0\n",
       "aGi08opGOaCbkDfRabcpSTyNlAayaCiv3oqMAOtd4EzW8j6E3sXx/tAfhYmHNCK4Xzg70k6BWXbA\n",
       "A1yh4nxEoyuyatZ00tZx6kL/1tKe1IYPQ/SEqtyIqG4s2zG5EtZ6CYkW9fIifOlotDjPw6xNzbry\n",
       "Rs4yr9DIuW9RctUJRBWNQq9AZ6EtTKSM0/o1CglsSFjYBZTffpd7QAEUyNEkAo9whYqHQe2KrOoq\n",
       "emmUXc/H8z66PVYLqWmkuzFhhQtRDp7VHVsJiRZNTKUwjcS2W4YjTg5Evihi8CmNxLIvzXbn5U2M\n",
       "79YcdrHpRa6a4DuhjziRuJCwHqbYeWFUvZrTKuAS1iT9Cs6rGIAHmp7Lqq7C9CYpR+c66M2JeHpa\n",
       "jfd2VYpt2jEh53n25Rp15UQNSMi0KIvoSbWWRtxdvtHULx7jtn+T6JxGiBmujXHFhp3ENszLqdjF\n",
       "ptcXFPbOeRH1RznRZl5iGtHI3/60cP1YplXAz/bS969nuFjz2GePNb0iq7wKgDNqFDWhM2IsIxMa\n",
       "kzehp02bskaex5bNtYvleFBCQQunaiii58s4eolWaeeX+enDkEF8tQLsKrtfz0Gt7NUqKExO4C5H\n",
       "pWWaKY9KeUXw7RSIe0UAIIRLKgbgQNNLsoqrACkjBlsMl1cZftd7OULHpU0yhh/2Lra7XzYv4/ub\n",
       "bWYJJlX2TtZC1th5BHclYqLp6GEIE0OlOgXCXL9iAwRwScUwd6TpFVnlVbD/23uiP4xGTi6nRl/o\n",
       "pZfhII32BzWFIyjcZyshPvmiAPAIF4EjTW/JGj0F/IVp9Kb/UxODquvl8uyrwGdTHkz9LzSzrgv9\n",
       "B12CPvxZyEd6AAAAAElFTkSuQmCC\n",
       "\" style=\"display:inline;vertical-align:middle;\" /></a><br>(see <a class=\"ProveItLink\" href=\"../../../__pv_it/theorems/2988fc4512d1d1abc2c344c539eb3f53ec3b48c50/dependencies.ipynb\">dependencies</a>)<br>"
      ],
      "text/plain": [
       "<IPython.core.display.HTML object>"
      ]
     },
     "metadata": {},
     "output_type": "display_data"
    },
    {
     "name": "stdout",
     "output_type": "stream",
     "text": [
      "nonmembership_fold may now be readily provable (assuming required theorems are usable).  Simply execute \"%qed\".\n"
     ]
    }
   ],
   "source": [
    "%proving nonmembership_fold"
   ]
  },
  {
   "cell_type": "code",
   "execution_count": null,
   "metadata": {},
   "outputs": [],
   "source": []
  }
 ],
 "metadata": {
  "kernelspec": {
   "display_name": "Python 3",
   "language": "python",
   "name": "python3"
  }
 },
 "nbformat": 4,
 "nbformat_minor": 0
}