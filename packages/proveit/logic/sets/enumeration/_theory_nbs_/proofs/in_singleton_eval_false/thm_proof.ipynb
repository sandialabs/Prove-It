{
 "cells": [
  {
   "cell_type": "markdown",
   "metadata": {},
   "source": [
    "Proof of <a class=\"ProveItLink\" href=\"../../../../../../_theory_nbs_/theory.ipynb\">proveit</a>.<a class=\"ProveItLink\" href=\"../../../../../_theory_nbs_/theory.ipynb\">logic</a>.<a class=\"ProveItLink\" href=\"../../../../_theory_nbs_/theory.ipynb\">sets</a>.<a class=\"ProveItLink\" href=\"../../theory.ipynb\">enumeration</a>.<a class=\"ProveItLink\" href=\"../../theorems.ipynb#in_singleton_eval_false\">in_singleton_eval_false</a> theorem\n",
    "========\n",
    "*** see <a href=\"../__pv_it/374d5ac709d899cb895d67c9e0faf41792c5dfa70/dependencies.ipynb\" class=\"ProveItLink\">dependencies</a> ***"
   ]
  },
  {
   "cell_type": "code",
   "execution_count": 1,
   "metadata": {},
   "outputs": [
    {
     "data": {
      "text/html": [
       "With these <a href=\"allowed_presumptions.txt\">allowed</a>/<a href=\"disallowed_presumptions.txt\">disallowed</a> theorem/theory presumptions (e.g., to avoid circular dependencies), we begin our proof of<br><strong id=\"in_singleton_eval_false\">in_singleton_eval_false:</strong> <a class=\"ProveItLink\" href=\"../../../__pv_it/theorems/75e1f7242cb90c0fb132c0a2b98bc8bf7171ff3b0/expr.ipynb\"><img src=\"data:image/png;base64,iVBORw0KGgoAAAANSUhEUgAAAO8AAAAXCAMAAADUb+j/AAAAOVBMVEX///8AAAAAAAAAAAAAAAAA\n",
       "AAAAAAAAAAAAAAAAAAAAAAAAAAAAAAAAAAAAAAAAAAAAAAAAAAAAAAACXHtMAAAAEnRSTlMAq1Rm\n",
       "mUTNIjK7EInv3Xbt5cmRiLwgAAAACXBIWXMAAA7EAAAOxAGVKw4bAAAC9UlEQVRYw9VYi5KdIAzl\n",
       "/QhIW///Y8tTQFHRqe2U2d3McjmYQ05iuAj9lSF3dm4A5/0u5N0+7zEvhyO9nUQJDv2MwjrNcPfc\n",
       "iYTB2/+EfkWXmN5OolY4Tursr5t1lteFEcM2yYivAg6it5PDLFeTAiZPrVFCwKgSYKm/Ci+jvf0j\n",
       "fCl7zjdiykEZ8hVfu7PDXNWLH2KeL7LwmG/E0Hzq4rPsFb0dJZlw8DC+SNDnfCPGhpNdrPlMzqa3\n",
       "4BwGZRo9yWEyZmrgYh4A3vE1+DnfiGEqFr4JeVymzCm+BKJYv4vDDrEavnGlZEkPBpGQCHRNut+S\n",
       "gla5sKUZ+IJvxEhc/tyNq4pm+NknC+kslcF5QLjqcSh0aeMCRdLJ4PRwuRZZEPs8vgkTQnvu7hzf\n",
       "i/OyvLOqhq50EbbERjf7CV5kY4PLNvsNWCTGan3ON2HC1FS1uuCL5Sxf1DifKYz2VaxkGA99h1pV\n",
       "1lE+B8RfxDdjBKJ51jkm/U9pwHDXgHV8u5WImzFioOfIwOOgJvwyPl3c5HHJ29p0keV5/maMIblA\n",
       "OhnyJAsGHPKbKzvku61kOowf/pcOEBHlWguaI2xjHWrO7qrfiLwLeVPrlX4e34yRNu9Go1dZORLC\n",
       "cTg95NutLN3sEdG+OJIlqwLmneZteyPIBV+GgyLo/v3LzHO+BYPVNrU2iYj9x9id5W9dWRNwj4iZ\n",
       "uLQWmI8mYbRjCFhzOOML2DhWHlb5LncVNqnc2kblR0wQo2y3tOqEb14Z9Pzzl456PiLSNqq3ww7L\n",
       "6Kt+0oj9pFxe3ICX/SsvbuwbAjDZQb4O63NdiZorxxHRtfazLX5PLTwHLNnzZS9urwcMc9y40Mqq\n",
       "+AAvOy3G76NtZd+a7REZJ3s7ed1PpWlxKU26puvVbe4S4/mCd0/T2/dvUxEOiD6/4ZGTuZUi1NU7\n",
       "Olj65ujuMaF8+MLDxX2/0Sw5IIrrrreThBnu67Y0ZcK9oHuJofGrEGfu+yvC2y9P3GfXrH8w5P9P\n",
       "4TcofhmoQMpMLAAAAABJRU5ErkJggg==\n",
       "\" style=\"display:inline;vertical-align:middle;\" /></a><br>(see <a class=\"ProveItLink\" href=\"../../../__pv_it/theorems/4dd60f78f358e554c65711e01f97d308ed4b9ac10/dependencies.ipynb\">dependencies</a>)<br>"
      ],
      "text/plain": [
       "<IPython.core.display.HTML object>"
      ]
     },
     "metadata": {},
     "output_type": "display_data"
    },
    {
     "name": "stdout",
     "output_type": "stream",
     "text": [
      "in_singleton_eval_false may now be readily provable (assuming required theorems are usable).  Simply execute \"%qed\".\n"
     ]
    }
   ],
   "source": [
    "import proveit\n",
    "from proveit import defaults\n",
    "from proveit import x, y\n",
    "from proveit.logic import NotEquals, Not, Equals, TRUE, FALSE, InSet, NotInSet, Set\n",
    "from proveit.logic.equality  import not_equals_def\n",
    "from proveit.logic.equality import sub_right_side_into\n",
    "from proveit.logic.sets.enumeration import not_in_singleton_equiv, in_singleton_eval_true, singleton_def\n",
    "%proving in_singleton_eval_false"
   ]
  },
  {
   "cell_type": "code",
   "execution_count": 2,
   "metadata": {},
   "outputs": [
    {
     "data": {
      "text/html": [
       "<strong id=\"defaults.assumptions\">defaults.assumptions:</strong> <a class=\"ProveItLink\" href=\"../../../__pv_it/_proof_in_singleton_eval_false/f8d03d498ce0e26343c5876385c05564f07542890/expr.ipynb\"><img src=\"data:image/png;base64,iVBORw0KGgoAAAANSUhEUgAAAD8AAAAVCAMAAADGtsa9AAAAPFBMVEX///8AAAAAAAAAAAAAAAAA\n",
       "AAAAAAAAAAAAAAAAAAAAAAAAAAAAAAAAAAAAAAAAAAAAAAAAAAAAAAAAAAAo1xBWAAAAE3RSTlMA\n",
       "InZUiRDNmWbv3US7qzLn9enz+YF6hwAAAAlwSFlzAAAOxAAADsQBlSsOGwAAATlJREFUOMudVO1y\n",
       "xCAIJCjBj+i1zfu/a0HM3aSJcab+MBMQFndBAFkL/Ge9o9BNTjLdWTPa1/lJeN3u7Rh0p3VW6FYH\n",
       "jlXr4jCDLyNPYNniFH5MbyRws/JzGfvWANzZI8RC1fuLFusJnrDdlyypL5rCNBI+CwKnt2iprdeX\n",
       "7u8aPDi9cNiNgBWSAYZFjQQlPMJXZwjFJJVcMZtDEW+oyHz6FcGitk203qn7EQ8f4wO8JpQiJc5a\n",
       "Isej/uaRs0Sn+3//GAsfDVqR2EV3CbYGSluGEhs/1w47d0M5NmVtUwk00V6JJT6f5XN8naWilR6i\n",
       "eahNMGJEOR3cDF6U98h7ZyUJeakO22s0mb4LtaRjCB7m6xpKsZdpozecj3ADn4Tu0u2LNRENngdI\n",
       "N8+OC8j5z2AuOBj858FEDf8FMy0IDQhlB5AAAAAASUVORK5CYII=\n",
       "\" style=\"display:inline;vertical-align:middle;\" /></a><br>"
      ],
      "text/plain": [
       "<IPython.core.display.HTML object>"
      ]
     },
     "metadata": {},
     "output_type": "display_data"
    }
   ],
   "source": [
    "defaults.assumptions = in_singleton_eval_false.conditions"
   ]
  },
  {
   "cell_type": "code",
   "execution_count": 3,
   "metadata": {},
   "outputs": [
    {
     "data": {
      "text/html": [
       "<strong id=\"step1\">step1:</strong> <span style=\"font-size:20px;\"><a class=\"ProveItLink\" href=\"../../../../../equality/__pv_it/theorems/73829d3be05f2b12292db7642d7f9d4a94d650a00/expr.ipynb\"><img src=\"data:image/png;base64,iVBORw0KGgoAAAANSUhEUgAAADMAAAAUCAMAAAAX1vWWAAAAPFBMVEX///8AAAAAAAAAAAAAAAAA\n",
       "AAAAAAAAAAAAAAAAAAAAAAAAAAAAAAAAAAAAAAAAAAAAAAAAAAAAAAAAAAAo1xBWAAAAE3RSTlMA\n",
       "EHarMolUmd1mIs3vRLvn9enz6YVhIgAAAAlwSFlzAAAOxAAADsQBlSsOGwAAANVJREFUOMudU1kW\n",
       "wyAIZFHQbF1y/7tWTNPWRtNn+UATgWFGBDg1Reg1t3SnwOL6YfgPmKE7ZW7DIBGj816+D8ahDNNo\n",
       "Sy6kAMQEGl4Ch2yXq/kXlgeZ0hJXc4NtEDiewjjZqrLJb3LqWGGjJQOAieDp4HPThLEiqRlwq9u/\n",
       "0jliwed231i9tcvNkHHCZQaeMscS5jBpC+9OVoeacuZSatHjvLJ1lPVWohQR5RdMuhlPurZHQ3z9\n",
       "vx/bY1OBsXCcpJkSKzAh3Qf7NkyoPE+JpPPZwzmd9wfDxQU5d0E62gAAAABJRU5ErkJggg==\n",
       "\" style=\"display:inline;vertical-align:middle;\" /></a> <a class=\"ProveItLink\" href=\"../../../__pv_it/_proof_in_singleton_eval_false/f2da91b01d250d8ec4fccc60f9ab125e6b0b888e0/proof.ipynb\" style=\"text-decoration: none\">&nbsp;&#x22A2;&nbsp;&nbsp;</a><a class=\"ProveItLink\" href=\"../../../../../booleans/__pv_it/theorems/a3c4d9088d0ab0d98fc5c16af22cc7989fca846c0/expr.ipynb\"><img src=\"data:image/png;base64,iVBORw0KGgoAAAANSUhEUgAAADoAAAAOBAMAAACMfhKgAAAAG1BMVEX///8AAAAAAAAAAAAAAAAA\n",
       "AAAAAAAAAAAAAAB4Gco9AAAACHRSTlMAmd2rVHZEZkA3AkMAAAAJcEhZcwAADsQAAA7EAZUrDhsA\n",
       "AAAlSURBVBjTYxBSAgFlBlSAJOrKgA24otEDJYvq/KFsbzpWWZAoADztCsNxuhVlAAAAAElFTkSu\n",
       "QmCC\n",
       "\" style=\"display:inline;vertical-align:middle;\" /></a></span><br>"
      ],
      "text/plain": [
       "<IPython.core.display.HTML object>"
      ]
     },
     "metadata": {},
     "output_type": "display_data"
    }
   ],
   "source": [
    "step1 = not_equals_def.instantiate({x:x, y:y})"
   ]
  },
  {
   "cell_type": "code",
   "execution_count": 4,
   "metadata": {},
   "outputs": [
    {
     "data": {
      "text/html": [
       "<strong id=\"state1\">state1:</strong> <span style=\"font-size:20px;\"><a class=\"ProveItLink\" href=\"../../../../../equality/__pv_it/theorems/73829d3be05f2b12292db7642d7f9d4a94d650a00/expr.ipynb\"><img src=\"data:image/png;base64,iVBORw0KGgoAAAANSUhEUgAAADMAAAAUCAMAAAAX1vWWAAAAPFBMVEX///8AAAAAAAAAAAAAAAAA\n",
       "AAAAAAAAAAAAAAAAAAAAAAAAAAAAAAAAAAAAAAAAAAAAAAAAAAAAAAAAAAAo1xBWAAAAE3RSTlMA\n",
       "EHarMolUmd1mIs3vRLvn9enz6YVhIgAAAAlwSFlzAAAOxAAADsQBlSsOGwAAANVJREFUOMudU1kW\n",
       "wyAIZFHQbF1y/7tWTNPWRtNn+UATgWFGBDg1Reg1t3SnwOL6YfgPmKE7ZW7DIBGj816+D8ahDNNo\n",
       "Sy6kAMQEGl4Ch2yXq/kXlgeZ0hJXc4NtEDiewjjZqrLJb3LqWGGjJQOAieDp4HPThLEiqRlwq9u/\n",
       "0jliwed231i9tcvNkHHCZQaeMscS5jBpC+9OVoeacuZSatHjvLJ1lPVWohQR5RdMuhlPurZHQ3z9\n",
       "vx/bY1OBsXCcpJkSKzAh3Qf7NkyoPE+JpPPZwzmd9wfDxQU5d0E62gAAAABJRU5ErkJggg==\n",
       "\" style=\"display:inline;vertical-align:middle;\" /></a> <a class=\"ProveItLink\" href=\"../../../__pv_it/_proof_in_singleton_eval_false/c1868632e4f537c5fffb1798e40f1ef36b81585a0/proof.ipynb\" style=\"text-decoration: none\">&nbsp;&#x22A2;&nbsp;&nbsp;</a><a class=\"ProveItLink\" href=\"../../../__pv_it/_proof_in_singleton_eval_false/ab47f550b65c12f8e62be0125ba7ba07a1a361360/expr.ipynb\"><img src=\"data:image/png;base64,iVBORw0KGgoAAAANSUhEUgAAAGwAAAAVCAMAAACUlfv2AAAAPFBMVEX///8AAAAAAAAAAAAAAAAA\n",
       "AAAAAAAAAAAAAAAAAAAAAAAAAAAAAAAAAAAAAAAAAAAAAAAAAAAAAAAAAAAo1xBWAAAAE3RSTlMA\n",
       "InZUiRDNmWbv3US7qzLn9enz+YF6hwAAAAlwSFlzAAAOxAAADsQBlSsOGwAAAVpJREFUSMedVlmW\n",
       "hCAMxITIGmbx/ncdENppbREjHz4fSyqVFAlK5TGpJ+PZKcDBBkNnswEeYKEebEix46Qd2jb+bbBS\n",
       "NI9OxNRZmOkmnS0GZuRf4t6KNVIwNyTWV4IjGRiOohi4vzZbGZh5yYMAmJLWR2nOO2IEa9ipeqBZ\n",
       "BrY5l+MPDFk/eyF9fTch1aEVlrjbpSZt7uruFMw3JnYqJkixvSKWsHrD9TagkzFzoZkp3n3mL+wF\n",
       "lwXhyklXj6flGZj6N9EnVtAz+wxSr14QMvP4ZidbJnpPws/vMQkre2gg6GU5i/WHYlDsVgVc14jI\n",
       "r09JdJQxa+rFJZHJYGGnfPwsEYZLCOzh3twESzUSZACybYuj4keswSwtkz7cAgubwn0S9wPdVDt5\n",
       "aYe5qKYnxAoOObxZwwWF1p4Q8zn83OanKMbKQuws+JOajhZMGLeDi8dEp7+nwWtCjPUHv3EKANPz\n",
       "ItQAAAAASUVORK5CYII=\n",
       "\" style=\"display:inline;vertical-align:middle;\" /></a></span><br>"
      ],
      "text/plain": [
       "<IPython.core.display.HTML object>"
      ]
     },
     "metadata": {},
     "output_type": "display_data"
    }
   ],
   "source": [
    "state1 = Equals(NotEquals(x,y), TRUE).prove()"
   ]
  },
  {
   "cell_type": "code",
   "execution_count": 5,
   "metadata": {},
   "outputs": [
    {
     "data": {
      "text/html": [
       "<span style=\"font-size:20px;\"><a class=\"ProveItLink\" href=\"../../../../../equality/__pv_it/theorems/73829d3be05f2b12292db7642d7f9d4a94d650a00/expr.ipynb\"><img src=\"data:image/png;base64,iVBORw0KGgoAAAANSUhEUgAAADMAAAAUCAMAAAAX1vWWAAAAPFBMVEX///8AAAAAAAAAAAAAAAAA\n",
       "AAAAAAAAAAAAAAAAAAAAAAAAAAAAAAAAAAAAAAAAAAAAAAAAAAAAAAAAAAAo1xBWAAAAE3RSTlMA\n",
       "EHarMolUmd1mIs3vRLvn9enz6YVhIgAAAAlwSFlzAAAOxAAADsQBlSsOGwAAANVJREFUOMudU1kW\n",
       "wyAIZFHQbF1y/7tWTNPWRtNn+UATgWFGBDg1Reg1t3SnwOL6YfgPmKE7ZW7DIBGj816+D8ahDNNo\n",
       "Sy6kAMQEGl4Ch2yXq/kXlgeZ0hJXc4NtEDiewjjZqrLJb3LqWGGjJQOAieDp4HPThLEiqRlwq9u/\n",
       "0jliwed231i9tcvNkHHCZQaeMscS5jBpC+9OVoeacuZSatHjvLJ1lPVWohQR5RdMuhlPurZHQ3z9\n",
       "vx/bY1OBsXCcpJkSKzAh3Qf7NkyoPE+JpPPZwzmd9wfDxQU5d0E62gAAAABJRU5ErkJggg==\n",
       "\" style=\"display:inline;vertical-align:middle;\" /></a> <a class=\"ProveItLink\" href=\"../../../__pv_it/_proof_in_singleton_eval_false/c1868632e4f537c5fffb1798e40f1ef36b81585a0/proof.ipynb\" style=\"text-decoration: none\">&nbsp;&#x22A2;&nbsp;&nbsp;</a><a class=\"ProveItLink\" href=\"../../../__pv_it/_proof_in_singleton_eval_false/ab47f550b65c12f8e62be0125ba7ba07a1a361360/expr.ipynb\"><img src=\"data:image/png;base64,iVBORw0KGgoAAAANSUhEUgAAAGwAAAAVCAMAAACUlfv2AAAAPFBMVEX///8AAAAAAAAAAAAAAAAA\n",
       "AAAAAAAAAAAAAAAAAAAAAAAAAAAAAAAAAAAAAAAAAAAAAAAAAAAAAAAAAAAo1xBWAAAAE3RSTlMA\n",
       "InZUiRDNmWbv3US7qzLn9enz+YF6hwAAAAlwSFlzAAAOxAAADsQBlSsOGwAAAVpJREFUSMedVlmW\n",
       "hCAMxITIGmbx/ncdENppbREjHz4fSyqVFAlK5TGpJ+PZKcDBBkNnswEeYKEebEix46Qd2jb+bbBS\n",
       "NI9OxNRZmOkmnS0GZuRf4t6KNVIwNyTWV4IjGRiOohi4vzZbGZh5yYMAmJLWR2nOO2IEa9ipeqBZ\n",
       "BrY5l+MPDFk/eyF9fTch1aEVlrjbpSZt7uruFMw3JnYqJkixvSKWsHrD9TagkzFzoZkp3n3mL+wF\n",
       "lwXhyklXj6flGZj6N9EnVtAz+wxSr14QMvP4ZidbJnpPws/vMQkre2gg6GU5i/WHYlDsVgVc14jI\n",
       "r09JdJQxa+rFJZHJYGGnfPwsEYZLCOzh3twESzUSZACybYuj4keswSwtkz7cAgubwn0S9wPdVDt5\n",
       "aYe5qKYnxAoOObxZwwWF1p4Q8zn83OanKMbKQuws+JOajhZMGLeDi8dEp7+nwWtCjPUHv3EKANPz\n",
       "ItQAAAAASUVORK5CYII=\n",
       "\" style=\"display:inline;vertical-align:middle;\" /></a></span>"
      ],
      "text/plain": [
       "{x != y} |- (x != y) = TRUE"
      ]
     },
     "metadata": {},
     "output_type": "display_data"
    }
   ],
   "source": [
    "step1.sub_right_side_into(state1)"
   ]
  },
  {
   "cell_type": "code",
   "execution_count": 6,
   "metadata": {},
   "outputs": [
    {
     "data": {
      "text/html": [
       "<strong id=\"state2\">state2:</strong> <span style=\"font-size:20px;\"><a class=\"ProveItLink\" href=\"../../../../../equality/__pv_it/theorems/73829d3be05f2b12292db7642d7f9d4a94d650a00/expr.ipynb\"><img src=\"data:image/png;base64,iVBORw0KGgoAAAANSUhEUgAAADMAAAAUCAMAAAAX1vWWAAAAPFBMVEX///8AAAAAAAAAAAAAAAAA\n",
       "AAAAAAAAAAAAAAAAAAAAAAAAAAAAAAAAAAAAAAAAAAAAAAAAAAAAAAAAAAAo1xBWAAAAE3RSTlMA\n",
       "EHarMolUmd1mIs3vRLvn9enz6YVhIgAAAAlwSFlzAAAOxAAADsQBlSsOGwAAANVJREFUOMudU1kW\n",
       "wyAIZFHQbF1y/7tWTNPWRtNn+UATgWFGBDg1Reg1t3SnwOL6YfgPmKE7ZW7DIBGj816+D8ahDNNo\n",
       "Sy6kAMQEGl4Ch2yXq/kXlgeZ0hJXc4NtEDiewjjZqrLJb3LqWGGjJQOAieDp4HPThLEiqRlwq9u/\n",
       "0jliwed231i9tcvNkHHCZQaeMscS5jBpC+9OVoeacuZSatHjvLJ1lPVWohQR5RdMuhlPurZHQ3z9\n",
       "vx/bY1OBsXCcpJkSKzAh3Qf7NkyoPE+JpPPZwzmd9wfDxQU5d0E62gAAAABJRU5ErkJggg==\n",
       "\" style=\"display:inline;vertical-align:middle;\" /></a> <a class=\"ProveItLink\" href=\"../../../__pv_it/_proof_in_singleton_eval_false/aa6d989b221aed6942cc384f3a0425a707e4c8990/proof.ipynb\" style=\"text-decoration: none\">&nbsp;&#x22A2;&nbsp;&nbsp;</a><a class=\"ProveItLink\" href=\"../../../__pv_it/_proof_in_singleton_eval_false/4a55b82579afc2f23793b10efe3a09742a3d37730/expr.ipynb\"><img src=\"data:image/png;base64,iVBORw0KGgoAAAANSUhEUgAAAGwAAAAVBAMAAABRZRb3AAAAMFBMVEX///8AAAAAAAAAAAAAAAAA\n",
       "AAAAAAAAAAAAAAAAAAAAAAAAAAAAAAAAAAAAAAAAAAAv3aB7AAAAD3RSTlMAInZUiRDNmWbv3US7\n",
       "qzJazP2FAAAACXBIWXMAAA7EAAAOxAGVKw4bAAABPElEQVQ4y2NgYBBgwAnwSDEZ4JbbhFvKhAGP\n",
       "kQ1YBHeACNYEPNoYUrGIGYEI9gZ82tpxaePEp4uBMwCHNjO82tgacGgrAflP6eoTZ1Q5VvUGhlgG\n",
       "BpYLOLRlgPzHoKtQBaJXgQFIKQvzBIZ+BgYOcIBVgYXXImtbDMSNDP0BN1CNfMy+gOEOAwNQM3bb\n",
       "ZgPxA4YydLkATgWGSQwMfB/waGMAqUAD+wP4/jEwcOOyDeRIBu6PDKGofgPazwTUwrwAh98OAUPt\n",
       "NO8EBgc0M88y8AC1cxzAYZsv0Mh/4RO40RN0LcN+YJyxO+DQ9gpoW5GCeTO6ZKxTPTDbcG1AEwa6\n",
       "dybIvVwPcKUQNyCWwiXJUYBVmCWBdTKQqsCZ7A5iFeVS4AV6i/EATm0xWEWZm6qBJA/uUoFRAXcG\n",
       "UMQlAQAtlkuovWKr3AAAAABJRU5ErkJggg==\n",
       "\" style=\"display:inline;vertical-align:middle;\" /></a></span><br>"
      ],
      "text/plain": [
       "<IPython.core.display.HTML object>"
      ]
     },
     "metadata": {},
     "output_type": "display_data"
    }
   ],
   "source": [
    "state2 = Equals(Equals(x,y), FALSE).prove()"
   ]
  },
  {
   "cell_type": "code",
   "execution_count": 7,
   "metadata": {},
   "outputs": [
    {
     "data": {
      "text/html": [
       "<strong id=\"state3\">state3:</strong> <span style=\"font-size:20px;\"> <a class=\"ProveItLink\" href=\"../../../__pv_it/_proof_in_singleton_eval_false/bd789a38a09f7a00c87123a7327af4050e7501bd0/proof.ipynb\" style=\"text-decoration: none\">&nbsp;&#x22A2;&nbsp;&nbsp;</a><a class=\"ProveItLink\" href=\"../../../__pv_it/theorems/3d9c008ee1003e9ff75063c9ab3a9f9690dc7e160/expr.ipynb\"><img src=\"data:image/png;base64,iVBORw0KGgoAAAANSUhEUgAAAK8AAAAVBAMAAADC7aNVAAAAMFBMVEX///8AAAAAAAAAAAAAAAAA\n",
       "AAAAAAAAAAAAAAAAAAAAAAAAAAAAAAAAAAAAAAAAAAAv3aB7AAAAD3RSTlMAInZUiRDNmWbv3US7\n",
       "qzJazP2FAAAACXBIWXMAAA7EAAAOxAGVKw4bAAACXElEQVQ4y41VPWgUQRR+l91x759DRTEgrCdo\n",
       "FUghsTSoXKWwCEkQcnIaBMEmiMglGlxNkTKLdqZZCFgcKoeSKkVOS0U4FEHhioDaWEUkbfDNmzlz\n",
       "M/v2cIrdN/u+75v33sybBYAKcENsauOQ9HOYDKQOgo+Ms75TG9oo9wKA1wziZLowwc+wLmf3n1ns\n",
       "4uphEjGZLizhosG63Ng0byYQ0zBkINwL/0t4JYFoDhNGeM7M4X3rOSucC2xuNEwY4ROD88KNICXi\n",
       "A3ZiTmOYMMLv4uvK2LWLdDaOBINq4nQIdS3sdi2qh3snql9+XLBOqeZ04RbO5kc+eRTh9X0eBuQ6\n",
       "EaxieWTSWQpwsSXHSx0TeDDmL0owfW7JtTUH4ev4rGR3S5TqfnrHcP4dV+thI/yRmdslzWOKj2A1\n",
       "+Gp+1hyEr2ELUHyyF57hui+kdfw2PoKcD0/wXZ9D1469PW2AbbhnF1dzEL5GKF8VqNP3lx/Iam8F\n",
       "5T181VCjEDHCQOuaQ3EQvk6ziqBti412w3hkfakJndiqsSwFFH7DlFnjPieGdwCz7W/gklzVPGMf\n",
       "Sd+lzetYkRV9EB9KEdiNrTgIvwxw7ucCvFHHb9wQXoKtUJueLYAHytmbiQr2FaY4CP8FMFN1msov\n",
       "ehuDwvXzDyvazLctgXIM4o5/dtmuseIgPL9ttN4ls6VrfXM0sUuv0rqupuDZ+dRLyG2Ip33hJnfP\n",
       "cDzFkfC3/I2KO5b3S5O6CTOdBKLI/nkUh+CzrLBsN+fxfWleDVkV0WF/EMQheMZnlY9+1sZhaZxg\n",
       "EAfTLzeE/wUIyZ1BWZdtzQAAAABJRU5ErkJggg==\n",
       "\" style=\"display:inline;vertical-align:middle;\" /></a></span><br>"
      ],
      "text/plain": [
       "<IPython.core.display.HTML object>"
      ]
     },
     "metadata": {},
     "output_type": "display_data"
    }
   ],
   "source": [
    "state3 = singleton_def.instantiate({x:x, y:y})"
   ]
  },
  {
   "cell_type": "code",
   "execution_count": 8,
   "metadata": {},
   "outputs": [
    {
     "data": {
      "text/html": [
       "<strong id=\"goal\">goal:</strong> <span style=\"font-size:20px;\"><a class=\"ProveItLink\" href=\"../../../../../equality/__pv_it/theorems/73829d3be05f2b12292db7642d7f9d4a94d650a00/expr.ipynb\"><img src=\"data:image/png;base64,iVBORw0KGgoAAAANSUhEUgAAADMAAAAUCAMAAAAX1vWWAAAAPFBMVEX///8AAAAAAAAAAAAAAAAA\n",
       "AAAAAAAAAAAAAAAAAAAAAAAAAAAAAAAAAAAAAAAAAAAAAAAAAAAAAAAAAAAo1xBWAAAAE3RSTlMA\n",
       "EHarMolUmd1mIs3vRLvn9enz6YVhIgAAAAlwSFlzAAAOxAAADsQBlSsOGwAAANVJREFUOMudU1kW\n",
       "wyAIZFHQbF1y/7tWTNPWRtNn+UATgWFGBDg1Reg1t3SnwOL6YfgPmKE7ZW7DIBGj816+D8ahDNNo\n",
       "Sy6kAMQEGl4Ch2yXq/kXlgeZ0hJXc4NtEDiewjjZqrLJb3LqWGGjJQOAieDp4HPThLEiqRlwq9u/\n",
       "0jliwed231i9tcvNkHHCZQaeMscS5jBpC+9OVoeacuZSatHjvLJ1lPVWohQR5RdMuhlPurZHQ3z9\n",
       "vx/bY1OBsXCcpJkSKzAh3Qf7NkyoPE+JpPPZwzmd9wfDxQU5d0E62gAAAABJRU5ErkJggg==\n",
       "\" style=\"display:inline;vertical-align:middle;\" /></a> <a class=\"ProveItLink\" href=\"../../../__pv_it/_proof_in_singleton_eval_false/521534db2b6af936f99a7037ad0012d0f4f698540/proof.ipynb\" style=\"text-decoration: none\">&nbsp;&#x22A2;&nbsp;&nbsp;</a><a class=\"ProveItLink\" href=\"../../../__pv_it/theorems/807928bae741ce723968f071f8aca1672dd185c10/expr.ipynb\"><img src=\"data:image/png;base64,iVBORw0KGgoAAAANSUhEUgAAAH4AAAAVBAMAAAByPkciAAAAMFBMVEX///8AAAAAAAAAAAAAAAAA\n",
       "AAAAAAAAAAAAAAAAAAAAAAAAAAAAAAAAAAAAAAAAAAAv3aB7AAAAD3RSTlMAInZUiRDNmWbv3US7\n",
       "qzJazP2FAAAACXBIWXMAAA7EAAAOxAGVKw4bAAABt0lEQVQ4y2NgYBBgwAqiN0BoYZA8DjUgwGSA\n",
       "XTg7AMLguwNkbMKt3wS7sH0AjMVzAWhaAxYlO0AEawJ2/V5wFssCIJGKRYkRiGBvIEp/Oy79nKi+\n",
       "PrVqGVb9nAE49Jshi3AnBeCwn60Bh/4SIA7SjXMBx4JYALL7WdUbGGKh+lku4NCfAcQFTJfYQYoY\n",
       "EhGSZUA9zBMY+oF+mgDkcoCDuWoVCKxF1r8YKCfA8ZUX7D5EXDDOYGB4DDT0DpD5GchnnoDD/tnA\n",
       "FMLADtHINwto+hqw9mvA1BfAqcAwCciJTQZKfcCtHxi6CmAB1gNwuedHgcT+AL5/QMoNaBY3LvsX\n",
       "g4j9AqzgkFuAkDwLDgOQ35m/gty/AIf/DzEwxGy4ycACFlFCTT9nwWmXBRx+B3DY7wtM6k8rGTaD\n",
       "RdgMUPTXMuxvgMYfuwMO/a8YGMKVmCsgGlnvbEXWH+tULwDVz7UBTTPQKzNBXuF6gJIAfVDTrxss\n",
       "/Unhyr4cBTjzD0sC62SY/gqc+f8gdmFNoJsVeEG+BiUOxgM49cdgF5Y3YGBuqgaxIoFhyIO7AGNU\n",
       "wC5cC40LkctAQhGXbgB1a2ckHUTc0wAAAABJRU5ErkJggg==\n",
       "\" style=\"display:inline;vertical-align:middle;\" /></a></span><br>"
      ],
      "text/plain": [
       "<IPython.core.display.HTML object>"
      ]
     },
     "metadata": {},
     "output_type": "display_data"
    }
   ],
   "source": [
    "goal = state3.sub_left_side_into(state2)"
   ]
  },
  {
   "cell_type": "code",
   "execution_count": 9,
   "metadata": {},
   "outputs": [
    {
     "data": {
      "text/html": [
       "<span style=\"font-size:20px;\"> <a class=\"ProveItLink\" href=\"../../../__pv_it/_proof_in_singleton_eval_false/bdd99670c051b92c365dfa4a2eb4ba9a7c328e3e0/proof.ipynb\" style=\"text-decoration: none\">&nbsp;&#x22A2;&nbsp;&nbsp;</a><a class=\"ProveItLink\" href=\"../../../__pv_it/theorems/75e1f7242cb90c0fb132c0a2b98bc8bf7171ff3b0/expr.ipynb\"><img src=\"data:image/png;base64,iVBORw0KGgoAAAANSUhEUgAAAO8AAAAXCAMAAADUb+j/AAAAOVBMVEX///8AAAAAAAAAAAAAAAAA\n",
       "AAAAAAAAAAAAAAAAAAAAAAAAAAAAAAAAAAAAAAAAAAAAAAAAAAAAAAACXHtMAAAAEnRSTlMAq1Rm\n",
       "mUTNIjK7EInv3Xbt5cmRiLwgAAAACXBIWXMAAA7EAAAOxAGVKw4bAAAC9UlEQVRYw9VYi5KdIAzl\n",
       "/QhIW///Y8tTQFHRqe2U2d3McjmYQ05iuAj9lSF3dm4A5/0u5N0+7zEvhyO9nUQJDv2MwjrNcPfc\n",
       "iYTB2/+EfkWXmN5OolY4Tursr5t1lteFEcM2yYivAg6it5PDLFeTAiZPrVFCwKgSYKm/Ci+jvf0j\n",
       "fCl7zjdiykEZ8hVfu7PDXNWLH2KeL7LwmG/E0Hzq4rPsFb0dJZlw8DC+SNDnfCPGhpNdrPlMzqa3\n",
       "4BwGZRo9yWEyZmrgYh4A3vE1+DnfiGEqFr4JeVymzCm+BKJYv4vDDrEavnGlZEkPBpGQCHRNut+S\n",
       "gla5sKUZ+IJvxEhc/tyNq4pm+NknC+kslcF5QLjqcSh0aeMCRdLJ4PRwuRZZEPs8vgkTQnvu7hzf\n",
       "i/OyvLOqhq50EbbERjf7CV5kY4PLNvsNWCTGan3ON2HC1FS1uuCL5Sxf1DifKYz2VaxkGA99h1pV\n",
       "1lE+B8RfxDdjBKJ51jkm/U9pwHDXgHV8u5WImzFioOfIwOOgJvwyPl3c5HHJ29p0keV5/maMIblA\n",
       "OhnyJAsGHPKbKzvku61kOowf/pcOEBHlWguaI2xjHWrO7qrfiLwLeVPrlX4e34yRNu9Go1dZORLC\n",
       "cTg95NutLN3sEdG+OJIlqwLmneZteyPIBV+GgyLo/v3LzHO+BYPVNrU2iYj9x9id5W9dWRNwj4iZ\n",
       "uLQWmI8mYbRjCFhzOOML2DhWHlb5LncVNqnc2kblR0wQo2y3tOqEb14Z9Pzzl456PiLSNqq3ww7L\n",
       "6Kt+0oj9pFxe3ICX/SsvbuwbAjDZQb4O63NdiZorxxHRtfazLX5PLTwHLNnzZS9urwcMc9y40Mqq\n",
       "+AAvOy3G76NtZd+a7REZJ3s7ed1PpWlxKU26puvVbe4S4/mCd0/T2/dvUxEOiD6/4ZGTuZUi1NU7\n",
       "Olj65ujuMaF8+MLDxX2/0Sw5IIrrrreThBnu67Y0ZcK9oHuJofGrEGfu+yvC2y9P3GfXrH8w5P9P\n",
       "4TcofhmoQMpMLAAAAABJRU5ErkJggg==\n",
       "\" style=\"display:inline;vertical-align:middle;\" /></a></span>"
      ],
      "text/plain": [
       "|- forall_{x, y | x != y} ((x in {y}) = FALSE)"
      ]
     },
     "metadata": {},
     "output_type": "display_data"
    }
   ],
   "source": [
    "goal.generalize([x,y], conditions = in_singleton_eval_false.conditions)"
   ]
  },
  {
   "cell_type": "code",
   "execution_count": 10,
   "metadata": {},
   "outputs": [
    {
     "name": "stdout",
     "output_type": "stream",
     "text": [
      "proveit.logic.sets.enumeration.in_singleton_eval_false has been proven.\n"
     ]
    },
    {
     "data": {
      "text/html": [
       "<table><tr><th>&nbsp;</th><th>step type</th><th>requirements</th><th>statement</th></tr>\n",
       "<tr><td><a name=\"-0x2713ba3b213545bd_step0\">0</a></td><td>generalization</td><td><a href=\"#-0x2713ba3b213545bd_step1\">1</a></td><td><span style=\"font-size:20px;\"> <a class=\"ProveItLink\" href=\"../../../__pv_it/_proof_in_singleton_eval_false/bdd99670c051b92c365dfa4a2eb4ba9a7c328e3e0/proof.ipynb\" style=\"text-decoration: none\">&nbsp;&#x22A2;&nbsp;&nbsp;</a><a class=\"ProveItLink\" href=\"../../../__pv_it/theorems/75e1f7242cb90c0fb132c0a2b98bc8bf7171ff3b0/expr.ipynb\"><img src=\"data:image/png;base64,iVBORw0KGgoAAAANSUhEUgAAAO8AAAAXCAMAAADUb+j/AAAAOVBMVEX///8AAAAAAAAAAAAAAAAA\n",
       "AAAAAAAAAAAAAAAAAAAAAAAAAAAAAAAAAAAAAAAAAAAAAAAAAAAAAAACXHtMAAAAEnRSTlMAq1Rm\n",
       "mUTNIjK7EInv3Xbt5cmRiLwgAAAACXBIWXMAAA7EAAAOxAGVKw4bAAAC9UlEQVRYw9VYi5KdIAzl\n",
       "/QhIW///Y8tTQFHRqe2U2d3McjmYQ05iuAj9lSF3dm4A5/0u5N0+7zEvhyO9nUQJDv2MwjrNcPfc\n",
       "iYTB2/+EfkWXmN5OolY4Tursr5t1lteFEcM2yYivAg6it5PDLFeTAiZPrVFCwKgSYKm/Ci+jvf0j\n",
       "fCl7zjdiykEZ8hVfu7PDXNWLH2KeL7LwmG/E0Hzq4rPsFb0dJZlw8DC+SNDnfCPGhpNdrPlMzqa3\n",
       "4BwGZRo9yWEyZmrgYh4A3vE1+DnfiGEqFr4JeVymzCm+BKJYv4vDDrEavnGlZEkPBpGQCHRNut+S\n",
       "gla5sKUZ+IJvxEhc/tyNq4pm+NknC+kslcF5QLjqcSh0aeMCRdLJ4PRwuRZZEPs8vgkTQnvu7hzf\n",
       "i/OyvLOqhq50EbbERjf7CV5kY4PLNvsNWCTGan3ON2HC1FS1uuCL5Sxf1DifKYz2VaxkGA99h1pV\n",
       "1lE+B8RfxDdjBKJ51jkm/U9pwHDXgHV8u5WImzFioOfIwOOgJvwyPl3c5HHJ29p0keV5/maMIblA\n",
       "OhnyJAsGHPKbKzvku61kOowf/pcOEBHlWguaI2xjHWrO7qrfiLwLeVPrlX4e34yRNu9Go1dZORLC\n",
       "cTg95NutLN3sEdG+OJIlqwLmneZteyPIBV+GgyLo/v3LzHO+BYPVNrU2iYj9x9id5W9dWRNwj4iZ\n",
       "uLQWmI8mYbRjCFhzOOML2DhWHlb5LncVNqnc2kblR0wQo2y3tOqEb14Z9Pzzl456PiLSNqq3ww7L\n",
       "6Kt+0oj9pFxe3ICX/SsvbuwbAjDZQb4O63NdiZorxxHRtfazLX5PLTwHLNnzZS9urwcMc9y40Mqq\n",
       "+AAvOy3G76NtZd+a7REZJ3s7ed1PpWlxKU26puvVbe4S4/mCd0/T2/dvUxEOiD6/4ZGTuZUi1NU7\n",
       "Olj65ujuMaF8+MLDxX2/0Sw5IIrrrreThBnu67Y0ZcK9oHuJofGrEGfu+yvC2y9P3GfXrH8w5P9P\n",
       "4TcofhmoQMpMLAAAAABJRU5ErkJggg==\n",
       "\" style=\"display:inline;vertical-align:middle;\" /></a></span></td></tr>\n",
       "<tr><td><a name=\"-0x2713ba3b213545bd_step1\">1</a></td><td>instantiation</td><td><a href=\"#-0x2713ba3b213545bd_step2\">2</a>, <a href=\"#-0x2713ba3b213545bd_step3\">3</a>, <a href=\"#-0x2713ba3b213545bd_step4\">4</a></td><td><span style=\"font-size:20px;\"><a class=\"ProveItLink\" href=\"../../../../../equality/__pv_it/theorems/73829d3be05f2b12292db7642d7f9d4a94d650a00/expr.ipynb\"><img src=\"data:image/png;base64,iVBORw0KGgoAAAANSUhEUgAAADMAAAAUCAMAAAAX1vWWAAAAPFBMVEX///8AAAAAAAAAAAAAAAAA\n",
       "AAAAAAAAAAAAAAAAAAAAAAAAAAAAAAAAAAAAAAAAAAAAAAAAAAAAAAAAAAAo1xBWAAAAE3RSTlMA\n",
       "EHarMolUmd1mIs3vRLvn9enz6YVhIgAAAAlwSFlzAAAOxAAADsQBlSsOGwAAANVJREFUOMudU1kW\n",
       "wyAIZFHQbF1y/7tWTNPWRtNn+UATgWFGBDg1Reg1t3SnwOL6YfgPmKE7ZW7DIBGj816+D8ahDNNo\n",
       "Sy6kAMQEGl4Ch2yXq/kXlgeZ0hJXc4NtEDiewjjZqrLJb3LqWGGjJQOAieDp4HPThLEiqRlwq9u/\n",
       "0jliwed231i9tcvNkHHCZQaeMscS5jBpC+9OVoeacuZSatHjvLJ1lPVWohQR5RdMuhlPurZHQ3z9\n",
       "vx/bY1OBsXCcpJkSKzAh3Qf7NkyoPE+JpPPZwzmd9wfDxQU5d0E62gAAAABJRU5ErkJggg==\n",
       "\" style=\"display:inline;vertical-align:middle;\" /></a> <a class=\"ProveItLink\" href=\"../../../__pv_it/_proof_in_singleton_eval_false/521534db2b6af936f99a7037ad0012d0f4f698540/proof.ipynb\" style=\"text-decoration: none\">&nbsp;&#x22A2;&nbsp;&nbsp;</a><a class=\"ProveItLink\" href=\"../../../__pv_it/theorems/807928bae741ce723968f071f8aca1672dd185c10/expr.ipynb\"><img src=\"data:image/png;base64,iVBORw0KGgoAAAANSUhEUgAAAH4AAAAVBAMAAAByPkciAAAAMFBMVEX///8AAAAAAAAAAAAAAAAA\n",
       "AAAAAAAAAAAAAAAAAAAAAAAAAAAAAAAAAAAAAAAAAAAv3aB7AAAAD3RSTlMAInZUiRDNmWbv3US7\n",
       "qzJazP2FAAAACXBIWXMAAA7EAAAOxAGVKw4bAAABt0lEQVQ4y2NgYBBgwAqiN0BoYZA8DjUgwGSA\n",
       "XTg7AMLguwNkbMKt3wS7sH0AjMVzAWhaAxYlO0AEawJ2/V5wFssCIJGKRYkRiGBvIEp/Oy79nKi+\n",
       "PrVqGVb9nAE49Jshi3AnBeCwn60Bh/4SIA7SjXMBx4JYALL7WdUbGGKh+lku4NCfAcQFTJfYQYoY\n",
       "EhGSZUA9zBMY+oF+mgDkcoCDuWoVCKxF1r8YKCfA8ZUX7D5EXDDOYGB4DDT0DpD5GchnnoDD/tnA\n",
       "FMLADtHINwto+hqw9mvA1BfAqcAwCciJTQZKfcCtHxi6CmAB1gNwuedHgcT+AL5/QMoNaBY3LvsX\n",
       "g4j9AqzgkFuAkDwLDgOQ35m/gty/AIf/DzEwxGy4ycACFlFCTT9nwWmXBRx+B3DY7wtM6k8rGTaD\n",
       "RdgMUPTXMuxvgMYfuwMO/a8YGMKVmCsgGlnvbEXWH+tULwDVz7UBTTPQKzNBXuF6gJIAfVDTrxss\n",
       "/Unhyr4cBTjzD0sC62SY/gqc+f8gdmFNoJsVeEG+BiUOxgM49cdgF5Y3YGBuqgaxIoFhyIO7AGNU\n",
       "wC5cC40LkctAQhGXbgB1a2ckHUTc0wAAAABJRU5ErkJggg==\n",
       "\" style=\"display:inline;vertical-align:middle;\" /></a></span></td></tr>\n",
       "<tr><td>&nbsp;</td><td colspan=4 style=\"text-align:left\"><span style=\"font-size:20px;\"><a class=\"ProveItLink\" href=\"../../../__pv_it/_proof_in_singleton_eval_false/f307345efa93fdd6c2df141d735449c4534792f70/expr.ipynb\"><img src=\"data:image/png;base64,iVBORw0KGgoAAAANSUhEUgAAADsAAAAVBAMAAAAKrYvGAAAAMFBMVEX///8AAAAAAAAAAAAAAAAA\n",
       "AAAAAAAAAAAAAAAAAAAAAAAAAAAAAAAAAAAAAAAAAAAv3aB7AAAAD3RSTlMAdrurzZkQ7zJUiSLd\n",
       "ZkQEbk8lAAAACXBIWXMAAA7EAAAOxAGVKw4bAAABHElEQVQoz2NgQAYb8PAYGBgnoHAfgkmh/8pG\n",
       "rgkg1iw01RfA1BcGBqYyIM3mgGaaG4jg+MjAwAnEDKwX0KSvgs34AcS/gAx2NFkGdpCVTB+AGKiE\n",
       "YQq6NAvIOH4FBoZ+ASAjCiHBbSUNFOEyYABL7ToJEvNFSD/fwPSNgYEX5FZ5q1X3wGIn4bJstQys\n",
       "B4AOLgCy9WGCdXBp1g8MPAuAfvoA8Ta6NLsCQ/4DBgY+oG6OXzBBhOH5Agz3gRQn0ALGfzBBRYT0\n",
       "BAYTzg0MvEA/sXyACS6GSzMJcB5lBTphAQOr/icBqGAP0CYlINBmYDNcsVmCgYHnAXIg8TSghdoe\n",
       "FB5vAJp0LCpXG5XLrYDKT0LlMqGlJm4BFK40AwMAeV42yYcqVGcAAAAASUVORK5CYII=\n",
       "\" style=\"display:inline;vertical-align:middle;\" /></a> : <a class=\"ProveItLink\" href=\"../../../__pv_it/_proof_in_singleton_eval_false/4ba8ee06f8295303009252bddc8888da418226d50/expr.ipynb\"><img src=\"data:image/png;base64,iVBORw0KGgoAAAANSUhEUgAAAEMAAAAPBAMAAABNfm9XAAAAMFBMVEX///8AAAAAAAAAAAAAAAAA\n",
       "AAAAAAAAAAAAAAAAAAAAAAAAAAAAAAAAAAAAAAAAAAAv3aB7AAAAD3RSTlMAMrsiq4l2RO8QZpnd\n",
       "VM2humBGAAAACXBIWXMAAA7EAAAOxAGVKw4bAAAAZ0lEQVQoz2NgoBCwLyCohDdhQJSYhJkRUMLe\n",
       "zKA/AUhznwEDByxKZixg2EPAlP0MDEcJKGli4PyOXwnnNwauDwx43cL5l4HlwWX8Fqkx3NmwAYcS\n",
       "ISUgMGCYkirsJoAqD7TzRA/QTgBxiyUAVUupgAAAAABJRU5ErkJggg==\n",
       "\" style=\"display:inline;vertical-align:middle;\" /></a>, <a class=\"ProveItLink\" href=\"../../../../../../__pv_it/common/a0d9d672aa5e272d907247690c152cc2c6daafb70/expr.ipynb\"><img src=\"data:image/png;base64,iVBORw0KGgoAAAANSUhEUgAAAAsAAAAJBAMAAAAWSsseAAAAMFBMVEX///8AAAAAAAAAAAAAAAAA\n",
       "AAAAAAAAAAAAAAAAAAAAAAAAAAAAAAAAAAAAAAAAAAAv3aB7AAAAD3RSTlMAEHarMolUmd1mIs3v\n",
       "RLtmgJDEAAAACXBIWXMAAA7EAAAOxAGVKw4bAAAAQklEQVQI12NgEFIWCU1gYChgMmJvYOBcwPmR\n",
       "eQIDCwP7BgYQ4FEAU/cXMAowyF2wYWBlYMh3rGG4xsAgrsRWmcAAAFEjCyBvD0T9AAAAAElFTkSu\n",
       "QmCC\n",
       "\" style=\"display:inline;vertical-align:middle;\" /></a> : <a class=\"ProveItLink\" href=\"../../../__pv_it/theorems/add2e8c45656210d5cc64daf61ef238a07a95d870/expr.ipynb\"><img src=\"data:image/png;base64,iVBORw0KGgoAAAANSUhEUgAAAEQAAAAVBAMAAAAN71XTAAAAMFBMVEX///8AAAAAAAAAAAAAAAAA\n",
       "AAAAAAAAAAAAAAAAAAAAAAAAAAAAAAAAAAAAAAAAAAAv3aB7AAAAD3RSTlMAEHarMolUmd1mIs3v\n",
       "RLtmgJDEAAAACXBIWXMAAA7EAAAOxAGVKw4bAAABFUlEQVQoz2NgwAYY70IZyxYw4ADaF6EMFjsB\n",
       "7CrYPsKZfAbYlbA2YGMSqYTpRUc3fiW8mwRwmCKkLBKaAOKtFkAWZ1SfwCAMVVLAZMQO1rULrpV9\n",
       "A1CO7QDDfKDlBxgYOBdwfmSeAJLYAFeyBsh3A+qzY2Dg+gYMHLAeUCid6Ojo6AOxFu8FEgI8CgyH\n",
       "gLTwNiABZIMD/QHMEJY6kKvuC7B8AVLRF0DsBYxghzagBmk12B2ggJa7YMPACpZQQvXpY7BKVqCy\n",
       "fMcahmtgCe4EFCXFDPcnQJjiSmyVEDlGu4vISoSD6hdgRABvHGoERBOIRtYNjMfwKAF5hUOBOQAa\n",
       "0NgAKEjZJtWCmDITcCTM5WZQxlIgAwCl7EPHObLeeQAAAABJRU5ErkJggg==\n",
       "\" style=\"display:inline;vertical-align:middle;\" /></a>, <a class=\"ProveItLink\" href=\"../../../../../../__pv_it/common/ff7dba4ef0bbe791ab573bf2d9c220a304399ac80/expr.ipynb\"><img src=\"data:image/png;base64,iVBORw0KGgoAAAANSUhEUgAAAAsAAAANBAMAAACN24kIAAAAMFBMVEX///8AAAAAAAAAAAAAAAAA\n",
       "AAAAAAAAAAAAAAAAAAAAAAAAAAAAAAAAAAAAAAAAAAAv3aB7AAAAD3RSTlMAEHaZZquJVO8y3btE\n",
       "zSKD2s2pAAAACXBIWXMAAA7EAAAOxAGVKw4bAAAAVklEQVQI12NgVHZgEGVgYGNvYPBnYJjOvIAh\n",
       "moFBgEOBoYmBgeG8AOdPIGXLwNQApLYycAcAKVOG8w5ASjTJ/gEDCOQCMdsFxnYgxaXAmgCk2J1s\n",
       "gCQAaFoNDtFIIdEAAAAASUVORK5CYII=\n",
       "\" style=\"display:inline;vertical-align:middle;\" /></a> : <a class=\"ProveItLink\" href=\"../../../../../equality/__pv_it/theorems/8dc625ee9fbf5f96228c059ed58b16ec83d4e40d0/expr.ipynb\"><img src=\"data:image/png;base64,iVBORw0KGgoAAAANSUhEUgAAADMAAAANBAMAAAD2/0vEAAAAMFBMVEX///8AAAAAAAAAAAAAAAAA\n",
       "AAAAAAAAAAAAAAAAAAAAAAAAAAAAAAAAAAAAAAAAAAAv3aB7AAAAD3RSTlMAEHarMolUmd1mIs3v\n",
       "RLtmgJDEAAAACXBIWXMAAA7EAAAOxAGVKw4bAAAAmUlEQVQY02NgEFIWCU1gQAGM6hMYhIF0AZMR\n",
       "ewOQZu8AAwMgk5XtAMN8BgbOBZwfmSeg6nIDqrVjYGBhYN/AgAYEeBQYDoEYQBod3Bdg+QKmFzAK\n",
       "oNrFUM3AdICBQe6CDQMruq7HDHxAJfmONQzX0KWKGe4DXSauxFaZgC4lHFS/gAEXiMYhzrqB8RgO\n",
       "KQ4F5gAcUmyTaoEkAEh8IT7vWgQmAAAAAElFTkSuQmCC\n",
       "\" style=\"display:inline;vertical-align:middle;\" /></a></span></td></tr><tr><td><a name=\"-0x2713ba3b213545bd_step2\">2</a></td><td>theorem</td><td></td><td><span style=\"font-size:20px;\"> <a class=\"ProveItLink\" href=\"../../../../../equality/_theory_nbs_/proofs/sub_left_side_into/thm_proof.ipynb\" style=\"text-decoration: none\">&nbsp;&#x22A2;&nbsp;&nbsp;</a><a class=\"ProveItLink\" href=\"../../../../../equality/__pv_it/theorems/fa7b338ac0e02abe373a31648947826ee50d3a400/expr.ipynb\"><img src=\"data:image/png;base64,iVBORw0KGgoAAAANSUhEUgAAAMIAAAAXBAMAAACrPI2eAAAAMFBMVEX///8AAAAAAAAAAAAAAAAA\n",
       "AAAAAAAAAAAAAAAAAAAAAAAAAAAAAAAAAAAAAAAAAAAv3aB7AAAAD3RSTlMAq1RmmUTNIjK7EInv\n",
       "3XZ/CtNrAAAACXBIWXMAAA7EAAAOxAGVKw4bAAACs0lEQVRIx7VWS2gTURQ9k5l08uuYQkFEKQVB\n",
       "wQ9moyCoRIpUqEjQlVZsUEFwNV2KYutWlI4ULLowUQTNRqKIixahVNxUlFFwWRg/IEWIWfhNQL3v\n",
       "N3kxDIikF97c+w7nvfNy372PACtjrnA2VsqcQeHjAZBlwfru7Lv8++qaU2UWbVbQe2Af86e7dPRv\n",
       "QHKRfKqokJ4yLrJsed0RSPwCYjRg5RRk5pkI0oNdyv4PGk0KMi1sESbJ9XQpSck6DVLBhhZ2Enix\n",
       "tPS8SwqrKNtTVD0YoXH/7b05ys0DYD9wI2qJ1TbbKFIRrUC7n3stD468M2D5wA5gHDZVbLw0snd1\n",
       "588W7siXR30uzIKY5SMVPq+d284DkjFds2HQDWyhXcpptnQ38CRKwfSR9nFLgqORCiUVPKO6gsVL\n",
       "dorKK+AX3U9HiFIw8nDqonNEiUe3Q6hABcVuBMdoFPewaAF4RUn+cGGYJsezotelQmYQvVn4Eue1\n",
       "LYnQyEg0lQK/jDE3RWfZStHDM6zpGhinBH80vBPUkkEjMa8pTJTtfthFicfYRTCidZ1sOiTD+aoU\n",
       "bgKVwjqkKdxJ4zw7gfmytolcLhlMktxt3/E0hV21d2XEPYnHvZDIn09FRk9dKVCJbrt0AIdk4RqM\n",
       "amRlSfNn16gagabQxz6xrMQTXouok63Sz0BCV4A7tdgQS+cbRcvIl+Qyf9l7C5lJTeEpz7IncZ4l\n",
       "RhRZCsma9YaA7atogjZOVe35x8inqsQY02rJ/s6dD4E7gSSG2439XVRm2DPhG+iUZumUCzg4WiuT\n",
       "iw1d0xSWm7w+ZyDwpCuJcq0i6zajgrPteEy5u5jW+yHsNI5XQqIwRdat0iEl7KhyA/Fip4LlCnw4\n",
       "JApTZN1seeeO247nlDv8CZ0KmOU4e55yOqzI/2XtfxVS2vff7Q+ss7Q23lQ/yQAAAABJRU5ErkJg\n",
       "gg==\n",
       "\" style=\"display:inline;vertical-align:middle;\" /></a></span></td></tr>\n",
       "<tr><td>&nbsp;</td><td colspan=4 style-\"text-align:left\"><a class=\"ProveItLink\" href=\"../../../../../equality/_theory_nbs_/proofs/sub_left_side_into/thm_proof.ipynb\">proveit.logic.equality.sub_left_side_into</a></td></tr><tr><td><a name=\"-0x2713ba3b213545bd_step3\">3</a></td><td>instantiation</td><td><a href=\"#-0x2713ba3b213545bd_step5\">5</a>, <a href=\"#-0x2713ba3b213545bd_step6\">6</a></td><td><span style=\"font-size:20px;\"><a class=\"ProveItLink\" href=\"../../../../../equality/__pv_it/theorems/73829d3be05f2b12292db7642d7f9d4a94d650a00/expr.ipynb\"><img src=\"data:image/png;base64,iVBORw0KGgoAAAANSUhEUgAAADMAAAAUCAMAAAAX1vWWAAAAPFBMVEX///8AAAAAAAAAAAAAAAAA\n",
       "AAAAAAAAAAAAAAAAAAAAAAAAAAAAAAAAAAAAAAAAAAAAAAAAAAAAAAAAAAAo1xBWAAAAE3RSTlMA\n",
       "EHarMolUmd1mIs3vRLvn9enz6YVhIgAAAAlwSFlzAAAOxAAADsQBlSsOGwAAANVJREFUOMudU1kW\n",
       "wyAIZFHQbF1y/7tWTNPWRtNn+UATgWFGBDg1Reg1t3SnwOL6YfgPmKE7ZW7DIBGj816+D8ahDNNo\n",
       "Sy6kAMQEGl4Ch2yXq/kXlgeZ0hJXc4NtEDiewjjZqrLJb3LqWGGjJQOAieDp4HPThLEiqRlwq9u/\n",
       "0jliwed231i9tcvNkHHCZQaeMscS5jBpC+9OVoeacuZSatHjvLJ1lPVWohQR5RdMuhlPurZHQ3z9\n",
       "vx/bY1OBsXCcpJkSKzAh3Qf7NkyoPE+JpPPZwzmd9wfDxQU5d0E62gAAAABJRU5ErkJggg==\n",
       "\" style=\"display:inline;vertical-align:middle;\" /></a> <a class=\"ProveItLink\" href=\"../../../__pv_it/_proof_in_singleton_eval_false/aa6d989b221aed6942cc384f3a0425a707e4c8990/proof.ipynb\" style=\"text-decoration: none\">&nbsp;&#x22A2;&nbsp;&nbsp;</a><a class=\"ProveItLink\" href=\"../../../__pv_it/_proof_in_singleton_eval_false/4a55b82579afc2f23793b10efe3a09742a3d37730/expr.ipynb\"><img src=\"data:image/png;base64,iVBORw0KGgoAAAANSUhEUgAAAGwAAAAVBAMAAABRZRb3AAAAMFBMVEX///8AAAAAAAAAAAAAAAAA\n",
       "AAAAAAAAAAAAAAAAAAAAAAAAAAAAAAAAAAAAAAAAAAAv3aB7AAAAD3RSTlMAInZUiRDNmWbv3US7\n",
       "qzJazP2FAAAACXBIWXMAAA7EAAAOxAGVKw4bAAABPElEQVQ4y2NgYBBgwAnwSDEZ4JbbhFvKhAGP\n",
       "kQ1YBHeACNYEPNoYUrGIGYEI9gZ82tpxaePEp4uBMwCHNjO82tgacGgrAflP6eoTZ1Q5VvUGhlgG\n",
       "BpYLOLRlgPzHoKtQBaJXgQFIKQvzBIZ+BgYOcIBVgYXXImtbDMSNDP0BN1CNfMy+gOEOAwNQM3bb\n",
       "ZgPxA4YydLkATgWGSQwMfB/waGMAqUAD+wP4/jEwcOOyDeRIBu6PDKGofgPazwTUwrwAh98OAUPt\n",
       "NO8EBgc0M88y8AC1cxzAYZsv0Mh/4RO40RN0LcN+YJyxO+DQ9gpoW5GCeTO6ZKxTPTDbcG1AEwa6\n",
       "dybIvVwPcKUQNyCWwiXJUYBVmCWBdTKQqsCZ7A5iFeVS4AV6i/EATm0xWEWZm6qBJA/uUoFRAXcG\n",
       "UMQlAQAtlkuovWKr3AAAAABJRU5ErkJggg==\n",
       "\" style=\"display:inline;vertical-align:middle;\" /></a></span></td></tr>\n",
       "<tr><td>&nbsp;</td><td colspan=4 style=\"text-align:left\"><span style=\"font-size:20px;\"><a class=\"ProveItLink\" href=\"../../../../../../__pv_it/common/09585084922504426caf1db2ff588a23a0932a960/expr.ipynb\"><img src=\"data:image/png;base64,iVBORw0KGgoAAAANSUhEUgAAAA8AAAAPBAMAAADJ+Ih5AAAAMFBMVEX///8AAAAAAAAAAAAAAAAA\n",
       "AAAAAAAAAAAAAAAAAAAAAAAAAAAAAAAAAAAAAAAAAAAv3aB7AAAAD3RSTlMAIs1UmauJMnZmRLsQ\n",
       "3e++988cAAAACXBIWXMAAA7EAAAOxAGVKw4bAAAAXklEQVQI12NgAAEhBijQh9LM/6EMlngBCCMx\n",
       "vwBMMzb0G0BkGOwngBmLGeoTwAwHBvkAEM2xxSV+A4hxgoGB/wJEhoH3AZDmAupg+gBkyAEx90cG\n",
       "htP/dRiY939KAABt3hLO6mcEjQAAAABJRU5ErkJggg==\n",
       "\" style=\"display:inline;vertical-align:middle;\" /></a> : <a class=\"ProveItLink\" href=\"../../../../../equality/__pv_it/theorems/8dc625ee9fbf5f96228c059ed58b16ec83d4e40d0/expr.ipynb\"><img src=\"data:image/png;base64,iVBORw0KGgoAAAANSUhEUgAAADMAAAANBAMAAAD2/0vEAAAAMFBMVEX///8AAAAAAAAAAAAAAAAA\n",
       "AAAAAAAAAAAAAAAAAAAAAAAAAAAAAAAAAAAAAAAAAAAv3aB7AAAAD3RSTlMAEHarMolUmd1mIs3v\n",
       "RLtmgJDEAAAACXBIWXMAAA7EAAAOxAGVKw4bAAAAmUlEQVQY02NgEFIWCU1gQAGM6hMYhIF0AZMR\n",
       "ewOQZu8AAwMgk5XtAMN8BgbOBZwfmSeg6nIDqrVjYGBhYN/AgAYEeBQYDoEYQBod3Bdg+QKmFzAK\n",
       "oNrFUM3AdICBQe6CDQMruq7HDHxAJfmONQzX0KWKGe4DXSauxFaZgC4lHFS/gAEXiMYhzrqB8RgO\n",
       "KQ4F5gAcUmyTaoEkAEh8IT7vWgQmAAAAAElFTkSuQmCC\n",
       "\" style=\"display:inline;vertical-align:middle;\" /></a></span></td></tr><tr><td><a name=\"-0x2713ba3b213545bd_step4\">4</a></td><td>instantiation</td><td><a href=\"#-0x2713ba3b213545bd_step7\">7</a></td><td><span style=\"font-size:20px;\"> <a class=\"ProveItLink\" href=\"../../../__pv_it/_proof_in_singleton_eval_false/bd789a38a09f7a00c87123a7327af4050e7501bd0/proof.ipynb\" style=\"text-decoration: none\">&nbsp;&#x22A2;&nbsp;&nbsp;</a><a class=\"ProveItLink\" href=\"../../../__pv_it/theorems/3d9c008ee1003e9ff75063c9ab3a9f9690dc7e160/expr.ipynb\"><img src=\"data:image/png;base64,iVBORw0KGgoAAAANSUhEUgAAAK8AAAAVBAMAAADC7aNVAAAAMFBMVEX///8AAAAAAAAAAAAAAAAA\n",
       "AAAAAAAAAAAAAAAAAAAAAAAAAAAAAAAAAAAAAAAAAAAv3aB7AAAAD3RSTlMAInZUiRDNmWbv3US7\n",
       "qzJazP2FAAAACXBIWXMAAA7EAAAOxAGVKw4bAAACXElEQVQ4y41VPWgUQRR+l91x759DRTEgrCdo\n",
       "FUghsTSoXKWwCEkQcnIaBMEmiMglGlxNkTKLdqZZCFgcKoeSKkVOS0U4FEHhioDaWEUkbfDNmzlz\n",
       "M/v2cIrdN/u+75v33sybBYAKcENsauOQ9HOYDKQOgo+Ms75TG9oo9wKA1wziZLowwc+wLmf3n1ns\n",
       "4uphEjGZLizhosG63Ng0byYQ0zBkINwL/0t4JYFoDhNGeM7M4X3rOSucC2xuNEwY4ROD88KNICXi\n",
       "A3ZiTmOYMMLv4uvK2LWLdDaOBINq4nQIdS3sdi2qh3snql9+XLBOqeZ04RbO5kc+eRTh9X0eBuQ6\n",
       "EaxieWTSWQpwsSXHSx0TeDDmL0owfW7JtTUH4ev4rGR3S5TqfnrHcP4dV+thI/yRmdslzWOKj2A1\n",
       "+Gp+1hyEr2ELUHyyF57hui+kdfw2PoKcD0/wXZ9D1469PW2AbbhnF1dzEL5GKF8VqNP3lx/Iam8F\n",
       "5T181VCjEDHCQOuaQ3EQvk6ziqBti412w3hkfakJndiqsSwFFH7DlFnjPieGdwCz7W/gklzVPGMf\n",
       "Sd+lzetYkRV9EB9KEdiNrTgIvwxw7ucCvFHHb9wQXoKtUJueLYAHytmbiQr2FaY4CP8FMFN1msov\n",
       "ehuDwvXzDyvazLctgXIM4o5/dtmuseIgPL9ttN4ls6VrfXM0sUuv0rqupuDZ+dRLyG2Ip33hJnfP\n",
       "cDzFkfC3/I2KO5b3S5O6CTOdBKLI/nkUh+CzrLBsN+fxfWleDVkV0WF/EMQheMZnlY9+1sZhaZxg\n",
       "EAfTLzeE/wUIyZ1BWZdtzQAAAABJRU5ErkJggg==\n",
       "\" style=\"display:inline;vertical-align:middle;\" /></a></span></td></tr>\n",
       "<tr><td>&nbsp;</td><td colspan=4 style=\"text-align:left\"><span style=\"font-size:20px;\"><a class=\"ProveItLink\" href=\"../../../../../../__pv_it/common/a0d9d672aa5e272d907247690c152cc2c6daafb70/expr.ipynb\"><img src=\"data:image/png;base64,iVBORw0KGgoAAAANSUhEUgAAAAsAAAAJBAMAAAAWSsseAAAAMFBMVEX///8AAAAAAAAAAAAAAAAA\n",
       "AAAAAAAAAAAAAAAAAAAAAAAAAAAAAAAAAAAAAAAAAAAv3aB7AAAAD3RSTlMAEHarMolUmd1mIs3v\n",
       "RLtmgJDEAAAACXBIWXMAAA7EAAAOxAGVKw4bAAAAQklEQVQI12NgEFIWCU1gYChgMmJvYOBcwPmR\n",
       "eQIDCwP7BgYQ4FEAU/cXMAowyF2wYWBlYMh3rGG4xsAgrsRWmcAAAFEjCyBvD0T9AAAAAElFTkSu\n",
       "QmCC\n",
       "\" style=\"display:inline;vertical-align:middle;\" /></a> : <a class=\"ProveItLink\" href=\"../../../../../../__pv_it/common/a0d9d672aa5e272d907247690c152cc2c6daafb70/expr.ipynb\"><img src=\"data:image/png;base64,iVBORw0KGgoAAAANSUhEUgAAAAsAAAAJBAMAAAAWSsseAAAAMFBMVEX///8AAAAAAAAAAAAAAAAA\n",
       "AAAAAAAAAAAAAAAAAAAAAAAAAAAAAAAAAAAAAAAAAAAv3aB7AAAAD3RSTlMAEHarMolUmd1mIs3v\n",
       "RLtmgJDEAAAACXBIWXMAAA7EAAAOxAGVKw4bAAAAQklEQVQI12NgEFIWCU1gYChgMmJvYOBcwPmR\n",
       "eQIDCwP7BgYQ4FEAU/cXMAowyF2wYWBlYMh3rGG4xsAgrsRWmcAAAFEjCyBvD0T9AAAAAElFTkSu\n",
       "QmCC\n",
       "\" style=\"display:inline;vertical-align:middle;\" /></a>, <a class=\"ProveItLink\" href=\"../../../../../../__pv_it/common/ff7dba4ef0bbe791ab573bf2d9c220a304399ac80/expr.ipynb\"><img src=\"data:image/png;base64,iVBORw0KGgoAAAANSUhEUgAAAAsAAAANBAMAAACN24kIAAAAMFBMVEX///8AAAAAAAAAAAAAAAAA\n",
       "AAAAAAAAAAAAAAAAAAAAAAAAAAAAAAAAAAAAAAAAAAAv3aB7AAAAD3RSTlMAEHaZZquJVO8y3btE\n",
       "zSKD2s2pAAAACXBIWXMAAA7EAAAOxAGVKw4bAAAAVklEQVQI12NgVHZgEGVgYGNvYPBnYJjOvIAh\n",
       "moFBgEOBoYmBgeG8AOdPIGXLwNQApLYycAcAKVOG8w5ASjTJ/gEDCOQCMdsFxnYgxaXAmgCk2J1s\n",
       "gCQAaFoNDtFIIdEAAAAASUVORK5CYII=\n",
       "\" style=\"display:inline;vertical-align:middle;\" /></a> : <a class=\"ProveItLink\" href=\"../../../../../../__pv_it/common/ff7dba4ef0bbe791ab573bf2d9c220a304399ac80/expr.ipynb\"><img src=\"data:image/png;base64,iVBORw0KGgoAAAANSUhEUgAAAAsAAAANBAMAAACN24kIAAAAMFBMVEX///8AAAAAAAAAAAAAAAAA\n",
       "AAAAAAAAAAAAAAAAAAAAAAAAAAAAAAAAAAAAAAAAAAAv3aB7AAAAD3RSTlMAEHaZZquJVO8y3btE\n",
       "zSKD2s2pAAAACXBIWXMAAA7EAAAOxAGVKw4bAAAAVklEQVQI12NgVHZgEGVgYGNvYPBnYJjOvIAh\n",
       "moFBgEOBoYmBgeG8AOdPIGXLwNQApLYycAcAKVOG8w5ASjTJ/gEDCOQCMdsFxnYgxaXAmgCk2J1s\n",
       "gCQAaFoNDtFIIdEAAAAASUVORK5CYII=\n",
       "\" style=\"display:inline;vertical-align:middle;\" /></a></span></td></tr><tr><td><a name=\"-0x2713ba3b213545bd_step5\">5</a></td><td>axiom</td><td></td><td><span style=\"font-size:20px;\"> <a class=\"ProveItLink\" href=\"../../../../../booleans/negation/_theory_nbs_/axioms.ipynb#negation_elim\" style=\"text-decoration: none\">&nbsp;&#x22A2;&nbsp;&nbsp;</a><a class=\"ProveItLink\" href=\"../../../../../booleans/negation/__pv_it/axioms/0fd3f403bc4d76bb1a3bc88358aa217c1bfc7dc50/expr.ipynb\"><img src=\"data:image/png;base64,iVBORw0KGgoAAAANSUhEUgAAAJcAAAAXBAMAAAD0AcCSAAAAMFBMVEX///8AAAAAAAAAAAAAAAAA\n",
       "AAAAAAAAAAAAAAAAAAAAAAAAAAAAAAAAAAAAAAAAAAAv3aB7AAAAD3RSTlMAq1RmmUTNIjK7EInv\n",
       "3XZ/CtNrAAAACXBIWXMAAA7EAAAOxAGVKw4bAAABvElEQVQ4y2NgIBoUUCSNCvgUwFQZLvk4IBYA\n",
       "MZSJMEwbQuVjkQoGW2bAwOAKYqQTNosrAUwx/ccipwcmsxgYGoEU+wTChrEYQCj5AlyGmTAwsC1g\n",
       "YOBWIGwYD4Tavr8Bl2E8CxiYgTayERFkamCS/cF7BVyGsQFNOnv37mkiDPOG+JJB3wCXYdzAuPRg\n",
       "YJgF5iyAKkcBC2CMZDAZxNC/AUT73gWBiyiGMQOjqJCBHZw8uE6AhThR4/AEjHUJTDow1AvgchnT\n",
       "AaDuBdwBYFd+wmIYVBAIjoLT0hQX+Qm4DOP4ADTwAST8I85hMQwqCDNsHQMD/wVchrECXcaQYAdm\n",
       "P0jEYhhUEOZNBwYG3gO4wowJZM2mLLAPGNwwDYMJAsE8kN2gZPQBl8uYQQFQAw7SCIY3SIbtnDlz\n",
       "5gWEIBBsBKkEyX/HZRgLKJ4ZwWnae7f8AlSXCSAEgaCXgWHl/ywGpvnfNqCaBPTxGbCPeQMQHmKo\n",
       "b0A3DC4IBLwNhJJ1LXIpwq+AapgDQhAUIg6EDHOGlwkHGbj8U9EiACEIAtMJmIWt6OHEpXglAcM4\n",
       "C0gwjP0BfsOeM5BgGDmAnQK9AL/XYzuwbv1UAAAAAElFTkSuQmCC\n",
       "\" style=\"display:inline;vertical-align:middle;\" /></a></span></td></tr>\n",
       "<tr><td>&nbsp;</td><td colspan=4 style-\"text-align:left\"><a class=\"ProveItLink\" href=\"../../../../../booleans/negation/_theory_nbs_/axioms.ipynb#negation_elim\">proveit.logic.booleans.negation.negation_elim</a></td></tr><tr><td><a name=\"-0x2713ba3b213545bd_step6\">6</a></td><td>instantiation</td><td><a href=\"#-0x2713ba3b213545bd_step8\">8</a>, <a href=\"#-0x2713ba3b213545bd_step9\">9</a></td><td><span style=\"font-size:20px;\"><a class=\"ProveItLink\" href=\"../../../../../equality/__pv_it/theorems/73829d3be05f2b12292db7642d7f9d4a94d650a00/expr.ipynb\"><img src=\"data:image/png;base64,iVBORw0KGgoAAAANSUhEUgAAADMAAAAUCAMAAAAX1vWWAAAAPFBMVEX///8AAAAAAAAAAAAAAAAA\n",
       "AAAAAAAAAAAAAAAAAAAAAAAAAAAAAAAAAAAAAAAAAAAAAAAAAAAAAAAAAAAo1xBWAAAAE3RSTlMA\n",
       "EHarMolUmd1mIs3vRLvn9enz6YVhIgAAAAlwSFlzAAAOxAAADsQBlSsOGwAAANVJREFUOMudU1kW\n",
       "wyAIZFHQbF1y/7tWTNPWRtNn+UATgWFGBDg1Reg1t3SnwOL6YfgPmKE7ZW7DIBGj816+D8ahDNNo\n",
       "Sy6kAMQEGl4Ch2yXq/kXlgeZ0hJXc4NtEDiewjjZqrLJb3LqWGGjJQOAieDp4HPThLEiqRlwq9u/\n",
       "0jliwed231i9tcvNkHHCZQaeMscS5jBpC+9OVoeacuZSatHjvLJ1lPVWohQR5RdMuhlPurZHQ3z9\n",
       "vx/bY1OBsXCcpJkSKzAh3Qf7NkyoPE+JpPPZwzmd9wfDxQU5d0E62gAAAABJRU5ErkJggg==\n",
       "\" style=\"display:inline;vertical-align:middle;\" /></a> <a class=\"ProveItLink\" href=\"../../../__pv_it/_proof_in_singleton_eval_false/f9f4ea7f4c523c5595a1f1be50789a150ec02db80/proof.ipynb\" style=\"text-decoration: none\">&nbsp;&#x22A2;&nbsp;&nbsp;</a><a class=\"ProveItLink\" href=\"../../../../../equality/__pv_it/theorems/faee4bbbe040bf704ee11762db4f42211a40e3750/expr.ipynb\"><img src=\"data:image/png;base64,iVBORw0KGgoAAAANSUhEUgAAAFEAAAAVBAMAAADMaB9/AAAAMFBMVEX///8AAAAAAAAAAAAAAAAA\n",
       "AAAAAAAAAAAAAAAAAAAAAAAAAAAAAAAAAAAAAAAAAAAv3aB7AAAAD3RSTlMAmd0iq3ZUiRDNZu9E\n",
       "uzLWhN+VAAAACXBIWXMAAA7EAAAOxAGVKw4bAAABL0lEQVQoz2NgQAADBpwAVYo1AbfKoyi8dNwK\n",
       "GVgXIHE4JuBRyTADic24AJ/KhUhsbnwKGbgbEOxMvCo5kWwUB+LWkL5ytBDgCFzA0MLAwO6AEJoF\n",
       "xAKsrowKIDcrgQFIlp1tA8N6BgauCQxCICFFoJAakGvA9YMFzWPPgFp9GRiA6sHABIj3MDDwMTBi\n",
       "BFUDdwDDVqDUBxSVQC8GYPjlfAPfPwYGHiQz1cDCBhwNqO5kkGRgBapiU4CoNATiqwwMvQe8GdjR\n",
       "zbzCwAvUwXUBIVLCwJD/QprhGLpKEYbzQE8yFiBEHjEwNIaySWEkqJZSeWCaYzqAEGF6gCt+KoHY\n",
       "CInPJYBVGfsEjm1ASgpZ7DJWlUwBLEAnMl9AFuvFqpJtqQyQ5EXJHswBuJNSMAMDAOgjNVmvwAg1\n",
       "AAAAAElFTkSuQmCC\n",
       "\" style=\"display:inline;vertical-align:middle;\" /></a></span></td></tr>\n",
       "<tr><td>&nbsp;</td><td colspan=4 style=\"text-align:left\"><span style=\"font-size:20px;\"><a class=\"ProveItLink\" href=\"../../../../../../__pv_it/common/a0d9d672aa5e272d907247690c152cc2c6daafb70/expr.ipynb\"><img src=\"data:image/png;base64,iVBORw0KGgoAAAANSUhEUgAAAAsAAAAJBAMAAAAWSsseAAAAMFBMVEX///8AAAAAAAAAAAAAAAAA\n",
       "AAAAAAAAAAAAAAAAAAAAAAAAAAAAAAAAAAAAAAAAAAAv3aB7AAAAD3RSTlMAEHarMolUmd1mIs3v\n",
       "RLtmgJDEAAAACXBIWXMAAA7EAAAOxAGVKw4bAAAAQklEQVQI12NgEFIWCU1gYChgMmJvYOBcwPmR\n",
       "eQIDCwP7BgYQ4FEAU/cXMAowyF2wYWBlYMh3rGG4xsAgrsRWmcAAAFEjCyBvD0T9AAAAAElFTkSu\n",
       "QmCC\n",
       "\" style=\"display:inline;vertical-align:middle;\" /></a> : <a class=\"ProveItLink\" href=\"../../../../../../__pv_it/common/a0d9d672aa5e272d907247690c152cc2c6daafb70/expr.ipynb\"><img src=\"data:image/png;base64,iVBORw0KGgoAAAANSUhEUgAAAAsAAAAJBAMAAAAWSsseAAAAMFBMVEX///8AAAAAAAAAAAAAAAAA\n",
       "AAAAAAAAAAAAAAAAAAAAAAAAAAAAAAAAAAAAAAAAAAAv3aB7AAAAD3RSTlMAEHarMolUmd1mIs3v\n",
       "RLtmgJDEAAAACXBIWXMAAA7EAAAOxAGVKw4bAAAAQklEQVQI12NgEFIWCU1gYChgMmJvYOBcwPmR\n",
       "eQIDCwP7BgYQ4FEAU/cXMAowyF2wYWBlYMh3rGG4xsAgrsRWmcAAAFEjCyBvD0T9AAAAAElFTkSu\n",
       "QmCC\n",
       "\" style=\"display:inline;vertical-align:middle;\" /></a>, <a class=\"ProveItLink\" href=\"../../../../../../__pv_it/common/ff7dba4ef0bbe791ab573bf2d9c220a304399ac80/expr.ipynb\"><img src=\"data:image/png;base64,iVBORw0KGgoAAAANSUhEUgAAAAsAAAANBAMAAACN24kIAAAAMFBMVEX///8AAAAAAAAAAAAAAAAA\n",
       "AAAAAAAAAAAAAAAAAAAAAAAAAAAAAAAAAAAAAAAAAAAv3aB7AAAAD3RSTlMAEHaZZquJVO8y3btE\n",
       "zSKD2s2pAAAACXBIWXMAAA7EAAAOxAGVKw4bAAAAVklEQVQI12NgVHZgEGVgYGNvYPBnYJjOvIAh\n",
       "moFBgEOBoYmBgeG8AOdPIGXLwNQApLYycAcAKVOG8w5ASjTJ/gEDCOQCMdsFxnYgxaXAmgCk2J1s\n",
       "gCQAaFoNDtFIIdEAAAAASUVORK5CYII=\n",
       "\" style=\"display:inline;vertical-align:middle;\" /></a> : <a class=\"ProveItLink\" href=\"../../../../../../__pv_it/common/ff7dba4ef0bbe791ab573bf2d9c220a304399ac80/expr.ipynb\"><img src=\"data:image/png;base64,iVBORw0KGgoAAAANSUhEUgAAAAsAAAANBAMAAACN24kIAAAAMFBMVEX///8AAAAAAAAAAAAAAAAA\n",
       "AAAAAAAAAAAAAAAAAAAAAAAAAAAAAAAAAAAAAAAAAAAv3aB7AAAAD3RSTlMAEHaZZquJVO8y3btE\n",
       "zSKD2s2pAAAACXBIWXMAAA7EAAAOxAGVKw4bAAAAVklEQVQI12NgVHZgEGVgYGNvYPBnYJjOvIAh\n",
       "moFBgEOBoYmBgeG8AOdPIGXLwNQApLYycAcAKVOG8w5ASjTJ/gEDCOQCMdsFxnYgxaXAmgCk2J1s\n",
       "gCQAaFoNDtFIIdEAAAAASUVORK5CYII=\n",
       "\" style=\"display:inline;vertical-align:middle;\" /></a></span></td></tr><tr><td><a name=\"-0x2713ba3b213545bd_step7\">7</a></td><td>conjecture</td><td></td><td><span style=\"font-size:20px;\"> <a class=\"ProveItLink\" href=\"../singleton_def/thm_proof.ipynb\" style=\"text-decoration: none\">&nbsp;&#x22A2;&nbsp;&nbsp;</a><a class=\"ProveItLink\" href=\"../../../__pv_it/theorems/296779bc6f9fdbba88287df23d1773ef33af3efb0/expr.ipynb\"><img src=\"data:image/png;base64,iVBORw0KGgoAAAANSUhEUgAAAO8AAAAWBAMAAADaw9ZbAAAAMFBMVEX///8AAAAAAAAAAAAAAAAA\n",
       "AAAAAAAAAAAAAAAAAAAAAAAAAAAAAAAAAAAAAAAAAAAv3aB7AAAAD3RSTlMAq1RmmUTNIjK7EInv\n",
       "3XZ/CtNrAAAACXBIWXMAAA7EAAAOxAGVKw4bAAADHklEQVRIx71WTWgTURCebHbTzW4bg56iUgIW\n",
       "LyIGKYiXthL8Q6tF0EMPbVBE6EFSEQ9apXrUCvUggmDZQhGrUmoPBRFKEARBlCgoeghspVr0EMRL\n",
       "S0/OvDdJs2/fBvHggy87u/t9b/Jm5s1bgMhRZISHc5KNC1Gcln+ZlkcqK6EZ3/vZsDMewICG8TV6\n",
       "3gFGmm62aQg7GOFhrNXNJMpTuTBjtsmCchL76eacJpwFCc1wy0FzKMR42CyUQxLXKSPj4ddmTuIv\n",
       "HHeGGPlmjjslEpglV5PKVkZDjB5UPmkdt3qquNTMMdERcVxVQvN6O6M+rPNexIoTamCMQjPHRCe8\n",
       "rVTeaF4fYcwsPnohAnLJa/TmLOVgkh27aTVNWFtOdfOtOaVsWJOWOARwX+P4DKMn1W6WgwVo4oJc\n",
       "owTdGH4KalwssLdC431tTSYs+r3B56whOmEYWtIaxx8k4sX4WkyEcj18I3h/A/9NBsvyN0VWTWkb\n",
       "hmgPdHubgo9ZQ3RC0nP7NI5fSdhifdQrMCWVL2QNn8Ufr9WHd3idPI2vfqnlgxOOwgF1StYQnWD4\n",
       "utqqOcZZfJmg+pazD1O2Bz17FS/z6MMqaRyD+F/BITVEF5JCF/5UDy5hA7UWIRYMNbKLjiircqBd\n",
       "4Xoov6KJGWUlxxRqsFbgsfKcNWWWzGEbSRUzCWTPbPDGePYJiem+reCKB9XgHroj/LuiuNT+k/TB\n",
       "uRsrgdo4pYboQjJCNzBho3l5J/xg0jOJXTePwgm5/bIBx/tgMMemqTrAzWKsTpUstS9JDdGFJDZK\n",
       "D1fEqy3QzqTbElNVIy/1Tqa/0fHkwvEim21qcdplcI75HbvVHEsN0dcldkkcoR/hdW1LjEo0tK7n\n",
       "wZY5XzOvhqroc1TXmmd6XTLiFkx4ggqrtjXiPRIRh4RbcF7WHOe154BGJzX5Ron5beEnjGWhY2+9\n",
       "T9xjaE5UrKg2PzbLTUxztiW1nxhSQ3RVknWKyXrDn2ZovmuwXRld4iB/mtN6cca1HxBCQ3RFYnkx\n",
       "/9T69L6EZlzcyMYVMpY1jGvRh9NyWBIHq2sW/tP4A/5b5tR9MfwTAAAAAElFTkSuQmCC\n",
       "\" style=\"display:inline;vertical-align:middle;\" /></a></span></td></tr>\n",
       "<tr><td>&nbsp;</td><td colspan=4 style-\"text-align:left\"><a class=\"ProveItLink\" href=\"../singleton_def/thm_proof.ipynb\">proveit.logic.sets.enumeration.singleton_def</a></td></tr><tr><td><a name=\"-0x2713ba3b213545bd_step8\">8</a></td><td>theorem</td><td></td><td><span style=\"font-size:20px;\"> <a class=\"ProveItLink\" href=\"../../../../../equality/_theory_nbs_/proofs/unfold_not_equals/thm_proof.ipynb\" style=\"text-decoration: none\">&nbsp;&#x22A2;&nbsp;&nbsp;</a><a class=\"ProveItLink\" href=\"../../../../../equality/__pv_it/theorems/e42f6f162f844bb3f18b6f3cc764b6573b311a9d0/expr.ipynb\"><img src=\"data:image/png;base64,iVBORw0KGgoAAAANSUhEUgAAAL8AAAAXCAMAAABte263AAAAOVBMVEX///8AAAAAAAAAAAAAAAAA\n",
       "AAAAAAAAAAAAAAAAAAAAAAAAAAAAAAAAAAAAAAAAAAAAAAAAAAAAAAACXHtMAAAAEnRSTlMAq1Rm\n",
       "mUTNIjK7EInv3Xbt5cmRiLwgAAAACXBIWXMAAA7EAAAOxAGVKw4bAAACYElEQVRYw81Xi3KsIAzl\n",
       "KRAwvdf//9gCgsIioJ2x00y7aUmAA5w8lpD3RT023FpOkd8RZE8NY5FYanqMM/4KfGafGqYXwgst\n",
       "ZB5eXnkQWJ4a5rLAqXV+AGVeuX7BnxrmwkWh82EsewW/e2y4syicmqd7WN5h//LUcItAvNBuDeLs\n",
       "O/SxEwMgUtB29vqAkW+ws90m0kctdPjTwA0wwx2GN9U1+DWRIhHrsclayJEdLWGBcHzbiZ8eL2pF\n",
       "88dMRhFu5eXwyj5BicrAVQAFhI6jWbP9hHSHwFLw7DpcfWf72/h753ey45gM4e3FPBQ8QhfKldtr\n",
       "l95IoRnejN4Bfqp+hp+coCZVdwvJftP7P+n+k14IT0sgCuV/coGmVYGu8FeeRNrrGZkmLf7TIDe/\n",
       "CsCY//sjYebNWmnLUhFAFRi2sBTyxJ9Zu0v8h6cwQb78L7+YQczn3SpRGsBIQl2Mz9nb0/wRosZU\n",
       "Wrk8HtfVaScIx0Nzib/yzB1JO+PIdG28RwPbNAiPX06Lp6DhpXidfLOm+vDbCiJTb6bY4//pCaY3\n",
       "g+i1l1GiAQQiYYLPaz9QiyJvucpaF8u6orEOZqc7+JNn4M+//ybyp53hR3QHUNcwyNEpy6i11gc3\n",
       "XXTxDAWbtpDbZf45PUnRArYzzl6r24Tdhw6O1a1f0wIKlBYxJKro6h/WLNf58/CsS/fnjGDtteXm\n",
       "Sb++4k7OslMedsweP/gNDJ/mf3byvZlRBQe5abjchOPxTSUffHQBEmIgymVevwqXZka8pl55Ukh+\n",
       "Iqhqfc3OcAaOdl5/WZEDmhl/S9Tfg/QNxjgTYemClcEAAAAASUVORK5CYII=\n",
       "\" style=\"display:inline;vertical-align:middle;\" /></a></span></td></tr>\n",
       "<tr><td>&nbsp;</td><td colspan=4 style-\"text-align:left\"><a class=\"ProveItLink\" href=\"../../../../../equality/_theory_nbs_/proofs/unfold_not_equals/thm_proof.ipynb\">proveit.logic.equality.unfold_not_equals</a></td></tr><tr><td><a name=\"-0x2713ba3b213545bd_step9\">9</a></td><td>assumption</td><td></td><td><span style=\"font-size:20px;\"><a class=\"ProveItLink\" href=\"../../../../../equality/__pv_it/theorems/73829d3be05f2b12292db7642d7f9d4a94d650a00/expr.ipynb\"><img src=\"data:image/png;base64,iVBORw0KGgoAAAANSUhEUgAAADMAAAAUCAMAAAAX1vWWAAAAPFBMVEX///8AAAAAAAAAAAAAAAAA\n",
       "AAAAAAAAAAAAAAAAAAAAAAAAAAAAAAAAAAAAAAAAAAAAAAAAAAAAAAAAAAAo1xBWAAAAE3RSTlMA\n",
       "EHarMolUmd1mIs3vRLvn9enz6YVhIgAAAAlwSFlzAAAOxAAADsQBlSsOGwAAANVJREFUOMudU1kW\n",
       "wyAIZFHQbF1y/7tWTNPWRtNn+UATgWFGBDg1Reg1t3SnwOL6YfgPmKE7ZW7DIBGj816+D8ahDNNo\n",
       "Sy6kAMQEGl4Ch2yXq/kXlgeZ0hJXc4NtEDiewjjZqrLJb3LqWGGjJQOAieDp4HPThLEiqRlwq9u/\n",
       "0jliwed231i9tcvNkHHCZQaeMscS5jBpC+9OVoeacuZSatHjvLJ1lPVWohQR5RdMuhlPurZHQ3z9\n",
       "vx/bY1OBsXCcpJkSKzAh3Qf7NkyoPE+JpPPZwzmd9wfDxQU5d0E62gAAAABJRU5ErkJggg==\n",
       "\" style=\"display:inline;vertical-align:middle;\" /></a> <a class=\"ProveItLink\" href=\"../../../__pv_it/_proof_in_singleton_eval_false/63bd537b46a2c3a3a39772e7a9da8601e286087b0/proof.ipynb\" style=\"text-decoration: none\">&nbsp;&#x22A2;&nbsp;&nbsp;</a><a class=\"ProveItLink\" href=\"../../../../../equality/__pv_it/theorems/73829d3be05f2b12292db7642d7f9d4a94d650a00/expr.ipynb\"><img src=\"data:image/png;base64,iVBORw0KGgoAAAANSUhEUgAAADMAAAAUCAMAAAAX1vWWAAAAPFBMVEX///8AAAAAAAAAAAAAAAAA\n",
       "AAAAAAAAAAAAAAAAAAAAAAAAAAAAAAAAAAAAAAAAAAAAAAAAAAAAAAAAAAAo1xBWAAAAE3RSTlMA\n",
       "EHarMolUmd1mIs3vRLvn9enz6YVhIgAAAAlwSFlzAAAOxAAADsQBlSsOGwAAANVJREFUOMudU1kW\n",
       "wyAIZFHQbF1y/7tWTNPWRtNn+UATgWFGBDg1Reg1t3SnwOL6YfgPmKE7ZW7DIBGj816+D8ahDNNo\n",
       "Sy6kAMQEGl4Ch2yXq/kXlgeZ0hJXc4NtEDiewjjZqrLJb3LqWGGjJQOAieDp4HPThLEiqRlwq9u/\n",
       "0jliwed231i9tcvNkHHCZQaeMscS5jBpC+9OVoeacuZSatHjvLJ1lPVWohQR5RdMuhlPurZHQ3z9\n",
       "vx/bY1OBsXCcpJkSKzAh3Qf7NkyoPE+JpPPZwzmd9wfDxQU5d0E62gAAAABJRU5ErkJggg==\n",
       "\" style=\"display:inline;vertical-align:middle;\" /></a></span></td></tr>\n",
       "</table>"
      ],
      "text/plain": [
       "\tstep type\trequirements\tstatement\n",
       "0\tgeneralization\t1\t|- forall_{x, y | x != y} ((x in {y}) = FALSE)\n",
       "1\tinstantiation\t2, 3, 4\t{x != y} |- (x in {y}) = FALSE\n",
       "\tP(_a) : _a = FALSE, x : x in {y}, y : x = y\n",
       "2\ttheorem\t\t|- forall_{P, x, y | P(y), x = y} P(x)\n",
       "\tproveit.logic.equality.sub_left_side_into\n",
       "3\tinstantiation\t5, 6\t{x != y} |- (x = y) = FALSE\n",
       "\tA : x = y\n",
       "4\tinstantiation\t7\t|- (x in {y}) = (x = y)\n",
       "\tx : x, y : y\n",
       "5\taxiom\t\t|- forall_{A | [not](A)} (A = FALSE)\n",
       "\tproveit.logic.booleans.negation.negation_elim\n",
       "6\tinstantiation\t8, 9\t{x != y} |- [not](x = y)\n",
       "\tx : x, y : y\n",
       "7\tconjecture\t\t|- forall_{x, y} ((x in {y}) = (x = y))\n",
       "\tproveit.logic.sets.enumeration.singleton_def\n",
       "8\ttheorem\t\t|- forall_{x, y | x != y} [not](x = y)\n",
       "\tproveit.logic.equality.unfold_not_equals\n",
       "9\tassumption\t\t{x != y} |- x != y"
      ]
     },
     "execution_count": 10,
     "metadata": {},
     "output_type": "execute_result"
    }
   ],
   "source": [
    "%qed"
   ]
  }
 ],
 "metadata": {
  "kernelspec": {
   "display_name": "Python 3",
   "language": "python",
   "name": "python3"
  }
 },
 "nbformat": 4,
 "nbformat_minor": 0
}