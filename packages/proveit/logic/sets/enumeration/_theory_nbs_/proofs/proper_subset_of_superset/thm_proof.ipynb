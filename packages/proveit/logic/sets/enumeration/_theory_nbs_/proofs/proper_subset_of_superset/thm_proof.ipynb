{
 "cells": [
  {
   "cell_type": "markdown",
   "metadata": {},
   "source": [
    "Proof of <a class=\"ProveItLink\" href=\"../../../../../../_theory_nbs_/theory.ipynb\">proveit</a>.<a class=\"ProveItLink\" href=\"../../../../../_theory_nbs_/theory.ipynb\">logic</a>.<a class=\"ProveItLink\" href=\"../../../../_theory_nbs_/theory.ipynb\">sets</a>.<a class=\"ProveItLink\" href=\"../../theory.ipynb\">enumeration</a>.<a class=\"ProveItLink\" href=\"../../theorems.ipynb#proper_subset_of_superset\">proper_subset_of_superset</a> theorem\n",
    "========"
   ]
  },
  {
   "cell_type": "code",
   "execution_count": 1,
   "metadata": {},
   "outputs": [],
   "source": [
    "import proveit\n",
    "theory = proveit.Theory() # the theorem's theory"
   ]
  },
  {
   "cell_type": "code",
   "execution_count": 2,
   "metadata": {},
   "outputs": [
    {
     "data": {
      "text/html": [
       "With these <a href=\"allowed_presumptions.txt\">allowed</a>/<a href=\"disallowed_presumptions.txt\">disallowed</a> theorem/theory presumptions (e.g., to avoid circular dependencies), we begin our proof of<br><strong id=\"proper_subset_of_superset\">proper_subset_of_superset:</strong> <a class=\"ProveItLink\" href=\"../../../__pv_it/theorems/dad760ff7a60dd104427048e9891cd96ae7245b00/expr.ipynb\"><img src=\"data:image/png;base64,iVBORw0KGgoAAAANSUhEUgAAA4UAAAAZCAMAAACxQns3AAAAPFBMVEX///8AAAAAAAAAAAAAAAAA\n",
       "AAAAAAAAAAAAAAAAAAAAAAAAAAAAAAAAAAAAAAAAAAAAAAAAAAAAAAAAAAAo1xBWAAAAE3RSTlMA\n",
       "q1RmmUTNIjK7EInv3XbP4duhPeprPQAAAAlwSFlzAAAOxAAADsQBlSsOGwAAB1xJREFUeNrtXOuC\n",
       "qygMlpsgKOec9f3fdQG5Gy1t7ZTdY37MdAImIc0HIeAMw4WElmXhw0033dRK2mAGXypxvJ36cQqz\n",
       "nGTsu3bg5vn226Z29fVFtyX3EXKj8D82dfp5U49MftcSgaY2C75vak8U3cZ0hkIU2zG5BIVXCryp\n",
       "Iqz877WDwJ5Qk8lrPxiU07x04zZNEgppzBZGfgkKrxR4UxVFIdtQSwfWtBnRhakpRGk/bhtlRKEI\n",
       "ExqfrslIrxR4U0mU3Ch8j1bcj9sITfvCgEiFr0HhlQJvKmke+kahnpaNRKcoZB2kx8khs4woDBWa\n",
       "C0orYxR6kcCbyi3W2DUKxah452thD8YkG0aSADO72WtWV6HwQoE3lQmp2n+THCnN9cEDp41tdCKi\n",
       "CmkJnxV3YWqMUKQ1qnI0pTURB4A5bmpEHCAgOUShhELquk3yMhReJ/Cm0r+x6EzDqshmE/rTQZ51\n",
       "2tiYwp2I0HPxJ4JPBbswNUwUq9kuyTWfLbg9M6dgCeOkqXFaAAUkt5EseeQo/LgIhdcJ/PLSc9Tg\n",
       "pzeiPncUIxTdh1O8ZMFnr1m6DxTOs04b2+hUBC9LHfAOpA9TQ0rvMDrn6+Wiak5LUxvBApLb8Jxt\n",
       "4eyqpdhzIKf2ATIjCIUvCHwlTsdP12CnI2XbZzF/dvuwn8Zm5me5MTiXrvHbHiSpcJA1SqUQemGh\n",
       "yeUDgY/GhEOBwCSxE1PzdXlV+VNBFWCTb3rdInnuNrFmKMS6uZQiNJom41eMBmVUVPN1EPKEwDcI\n",
       "qZ9DYVJmPPDrNytrJR8uxdQoHAQN6f48uTyLOcN0tQ5kjfTFlSYTAU0UI8sBBwZMJ6ZmixPLl/B5\n",
       "it8raNPwrkVnbmP5WmgQQ9rWXUr9VhObB4xxCsxInxD4Ds3iB1EYlFkP+Hnx51GYrv36+xdytW4m\n",
       "q3+iqpZkjTY4+fq0w0r5cH6XrDvwYg+menL4y5eo7akTm9626MxtXqNHocL+jI9QYuYENGgyRaUb\n",
       "z+2R4p2bAQvMuD5EYRRoVnOid/VrkAmP5LinWI2lMhWj9riHeHAhC+437ZVZD0hUwgS28e0xAiic\n",
       "dFVnky6s0Di4O8IhjILrs0YiYyC1pFYxS8tF7GJDlSk5hXfJHZga5Vix2/4xsNbNaLa3KTW9aFEm\n",
       "IEGocBuZchRyv7+ThFkT7V8axXR543F7Cy+FiDAZKWZHKAwCXfVarFWIgUx4QCc99SKHOLKF7bdp\n",
       "EA9MU476TTtlzgOaFRUu2Mb3x8iWk61iqHZbXOKFboUkHOJ9BBrDM7G15UMmAoiN+vBtZCco/KKp\n",
       "qQ8y7InmrK2CqQRgU9b0mkVBQAah0m3+5CkcsKNNFZd69DNGPJoKPINwRnIUmuHq6QCFQaBJ4EIV\n",
       "g6eTi8hkWFN2ngEfF0EmEoHgxitFoSTwHuvwz56i0CtzHphCwUYcD/GKMY66nnnFUoe2RFoJjrTI\n",
       "U6plkftG87AsWoclTmH7D6FPEgHERo1COSHg7YkOTM36KL9iR5ZShGyOrm3Kml6zKAjIIFS6bWEF\n",
       "ChN6tA+J7M1Dy3P7SDJOjvCGQqnqEgxcT3DzkcDRtsSc7cxxuvVj2aoMbAspKsoWuZLAa9LxcF/o\n",
       "lVkP/PrjPCBC2Qwc4hVjxOMuT443w8A7IHFjg4HEKU0RuCGtgvrsYmNvBFNT2w22HzYV6LNnndj0\n",
       "rkURQoVDuP+wQ6GNNrvC8XUQRQRS87dQxVpop/kHKHQHpBOR1qxF7pj8Qbk/9SQUE0IZVunrtaE9\n",
       "+3iICV2GA897pCP0M9IJVkco9MqsB+JedIMOOMQrxsiBpwhtCm2geMzNk5wfte4XsINpr4iNN25z\n",
       "/7CpquWxY5vetihCqHBI2EjXKOSrB67ZN1K32nneIizuUsZFWIrD07XQ7nkYiSHqJGbMwR57bFzo\n",
       "R+yJrU/NqrHhxLUZeXZ36z67HYmKOCh5mw5Ift7PaViOUOiVGQ9IVJVP6iFeNEa4BDv56UbPJ6Et\n",
       "NbC8CCG2cyXZULGC+lSxMWS3Yk6pA1OBPgDr0Ka3LcoglLktvnNUo5DZELOvBZr8WtpJHHuedtdE\n",
       "eKiOiWV7d/AhChkleHt2C9FNYmJuJx+OK2Ze/ih6Gs325TqKU3+qdfjMqc/gNxyUPH+6Aigp+pmt\n",
       "LB8Pa6SbMuOBf0SFwnqIF40RRmEokPH9GzpcjatyRgKRMq+WhoPWPXIAXhUbodj4kDowVTc8dmLT\n",
       "2xZlEMrcFmbUx//xAtdFdbsvPNxInc6NPl0rJCrpbcaPdC/be+bLQHZteK8k50UdkBJcaNCkqC5A\n",
       "h67yd/TAHiaA9tfHCB9HhtvKnKLvvjjGVasBXze1J0pu07Es/giFT/7DkBMUCj279w0LiaOZYpYj\n",
       "PQXP5oH2hABttudt2eegJOdFHZCSjGU14PJiKITC7L941EcJkPY3xojvN8P+EnqEwidvKzfEDWnm\n",
       "kkYpzc+SZ8cHoTC/TzjqD45RjPcCcqPwFRr/X/+PFBpKsaCJzwGFizs6/wrSyzKTfwHhI1oA+qt+\n",
       "1wAAAABJRU5ErkJggg==\n",
       "\" style=\"display:inline;vertical-align:middle;\" /></a><br>(see <a class=\"ProveItLink\" href=\"../../../__pv_it/theorems/99e07da54e8eef1af7c40ca92de7a70b21a8184b0/dependencies.ipynb\">dependencies</a>)<br>"
      ],
      "text/plain": [
       "<IPython.core.display.HTML object>"
      ]
     },
     "metadata": {},
     "output_type": "display_data"
    }
   ],
   "source": [
    "%proving proper_subset_of_superset"
   ]
  },
  {
   "cell_type": "code",
   "execution_count": null,
   "metadata": {},
   "outputs": [],
   "source": []
  }
 ],
 "metadata": {
  "kernelspec": {
   "display_name": "Python 3",
   "language": "python",
   "name": "python3"
  }
 },
 "nbformat": 4,
 "nbformat_minor": 0
}