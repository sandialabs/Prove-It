{
 "cells": [
  {
   "cell_type": "markdown",
   "metadata": {},
   "source": [
    "Proof of <a class=\"ProveItLink\" href=\"../../../../../../_theory_nbs_/theory.ipynb\">proveit</a>.<a class=\"ProveItLink\" href=\"../../../../../_theory_nbs_/theory.ipynb\">logic</a>.<a class=\"ProveItLink\" href=\"../../../../_theory_nbs_/theory.ipynb\">sets</a>.<a class=\"ProveItLink\" href=\"../../theory.ipynb\">enumeration</a>.<a class=\"ProveItLink\" href=\"../../theorems.ipynb#nonmembership_fold_singleton\">nonmembership_fold_singleton</a> theorem\n",
    "========"
   ]
  },
  {
   "cell_type": "code",
   "execution_count": 1,
   "metadata": {},
   "outputs": [],
   "source": [
    "import proveit\n",
    "theory = proveit.Theory() # the theorem's theory"
   ]
  },
  {
   "cell_type": "code",
   "execution_count": 2,
   "metadata": {},
   "outputs": [
    {
     "data": {
      "text/html": [
       "With these <a href=\"allowed_presumptions.txt\">allowed</a>/<a href=\"disallowed_presumptions.txt\">disallowed</a> theorem/theory presumptions (e.g., to avoid circular dependencies), we begin our proof of<br><strong id=\"nonmembership_fold_singleton\">nonmembership_fold_singleton:</strong> <a class=\"ProveItLink\" href=\"../../../__pv_it/theorems/b5502b9cf520cb2b8f1229f879941369f7dfe0380/expr.ipynb\"><img src=\"data:image/png;base64,iVBORw0KGgoAAAANSUhEUgAAALMAAAAXCAMAAAB3R445AAAASFBMVEX///8AAAAAAAAAAAAAAAAA\n",
       "AAAAAAAAAAAAAAAAAAAAAAAAAAAAAAAAAAAAAAAAAAAAAAAAAAAAAAAAAAAAAAAAAAAAAAAAAACC\n",
       "gUnDAAAAF3RSTlMAq1RmmUTNIjK7EInv3Xbt5cnp8+P3nRjLMsUAAAAJcEhZcwAADsQAAA7EAZUr\n",
       "DhsAAAK0SURBVFjDzVfplp4gDGVfAqbr1Pd/07IqKKhzTm3LmfEHSeAmuUn4CPkrS39KClL2cqYf\n",
       "nfNHF7JLsYJeW8l+gxhq847E+KWbgPG3IDN3KTa0117hrGOLDkaQYkuDeivwoK7lomeCWwY622bM\n",
       "yeaktm+FWdwkcCGfwMxFQybH3sLsr5hul+8/FvUcM/EBLy9RUK+xeX6yVAiEms/EmaiI1y9xefca\n",
       "NcrJgEjBuCafOub4xPYCDzBxCugBs4sbIvlp4cHtl5U27WR8s0aKROxhTFXP8XhLdsIRFknF18yh\n",
       "jWA8ijWtn7t1VaVOTkssB5brCCBQYa9INWjORPukYFj2juZL9VrTkzxJIZ5f+Qzzhc8+H232ENa+\n",
       "HFn58yN8bHOOkjVtPmbAlzQAVRm1SYFn+LACLzBTfYeZNAAKDDtoV0ZUlso4W8xaKtQVX4j0JUeV\n",
       "VIhCh78iRdoNyg5zp0mkG1s03Egogj5A15iX6chLSak83ocjW0prLqRCHflTkgBIgqLxQ8ybprBx\n",
       "fQn/fGCRrDAHVRLqU201fhMppm0tYa8OuL0GC8F9kfB0Q8mGhugS2iHmTjO/AkYWW3MKgTIgwsWy\n",
       "5YJix+bcYBY0ZoYf+3NtnY3l2hCTBjHFGZ93TbAzi8TQdB2IEFUmeEdfoB8SZpiBOhT1kh3zcuoW\n",
       "MbG6FXszwVw0Ize+frOJG2eLfIyZ1if/5WzoG9PZ7dRxUy/H1piUAsXAlcvkOuwbu2b/ljxa7M+a\n",
       "Ry/nFl48Hzw7Yj49uARKhxhbTFIOqbRq3Os2zX6EHi2K3awRDt+SpVUsmKnWDcfr12fADOEqy2/7\n",
       "M9v5e7I48v0Y0tFbsow8xnF/WIPnN+7HVgqpmKS6nymNysmiwsDJJBpHX9DeF+3qBl79LoluSY7u\n",
       "fg6ypo5PFv9+6f8Dxm/1GRX0nkIkWwAAAABJRU5ErkJggg==\n",
       "\" style=\"display:inline;vertical-align:middle;\" /></a><br>(see <a class=\"ProveItLink\" href=\"../../../__pv_it/theorems/e2c01633eb4c51889a8e2709d0d443174633b5a50/dependencies.ipynb\">dependencies</a>)<br>"
      ],
      "text/plain": [
       "<IPython.core.display.HTML object>"
      ]
     },
     "metadata": {},
     "output_type": "display_data"
    },
    {
     "name": "stdout",
     "output_type": "stream",
     "text": [
      "nonmembership_fold_singleton may now be readily provable (assuming required theorems are usable).  Simply execute \"%qed\".\n"
     ]
    }
   ],
   "source": [
    "%proving nonmembership_fold_singleton"
   ]
  },
  {
   "cell_type": "code",
   "execution_count": null,
   "metadata": {},
   "outputs": [],
   "source": []
  }
 ],
 "metadata": {
  "kernelspec": {
   "display_name": "Python 3",
   "language": "python",
   "name": "python3"
  }
 },
 "nbformat": 4,
 "nbformat_minor": 0
}