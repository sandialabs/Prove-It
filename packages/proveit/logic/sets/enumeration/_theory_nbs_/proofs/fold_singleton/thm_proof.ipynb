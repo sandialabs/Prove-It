{
 "cells": [
  {
   "cell_type": "markdown",
   "metadata": {},
   "source": [
    "Proof of <a class=\"ProveItLink\" href=\"../../../../../../_theory_nbs_/theory.ipynb\">proveit</a>.<a class=\"ProveItLink\" href=\"../../../../../_theory_nbs_/theory.ipynb\">logic</a>.<a class=\"ProveItLink\" href=\"../../../../_theory_nbs_/theory.ipynb\">sets</a>.<a class=\"ProveItLink\" href=\"../../theory.ipynb\">enumeration</a>.<a class=\"ProveItLink\" href=\"../../theorems.ipynb#fold_singleton\">fold_singleton</a> theorem\n",
    "========\n",
    "*** see <a href=\"../__pv_it/d7a9db2d1feeaa5118756db70085b31517897b790/dependencies.ipynb\" class=\"ProveItLink\">dependencies</a> ***"
   ]
  },
  {
   "cell_type": "code",
   "execution_count": 1,
   "metadata": {},
   "outputs": [
    {
     "data": {
      "text/html": [
       "With these <a href=\"allowed_presumptions.txt\">allowed</a>/<a href=\"disallowed_presumptions.txt\">disallowed</a> theorem/theory presumptions (e.g., to avoid circular dependencies), we begin our proof of<br><strong id=\"fold_singleton\">fold_singleton:</strong> <a class=\"ProveItLink\" href=\"../../../__pv_it/theorems/273ba9c70c83bafc8e1de760d1e65d4bea4f283a0/expr.ipynb\"><img src=\"data:image/png;base64,iVBORw0KGgoAAAANSUhEUgAAALMAAAAXBAMAAACyt2M4AAAAMFBMVEX///8AAAAAAAAAAAAAAAAA\n",
       "AAAAAAAAAAAAAAAAAAAAAAAAAAAAAAAAAAAAAAAAAAAv3aB7AAAAD3RSTlMAq1RmmUTNIjK7EInv\n",
       "3XZ/CtNrAAAACXBIWXMAAA7EAAAOxAGVKw4bAAACiElEQVRIx62VPWgUQRTH//ex97Ebz2AhHEpY\n",
       "UGxE3MLG5kwIfqHgYWFhYQ5FBAtZLSw0YhQriWAqUTDsgYJBCdEiIGI4FEEQ5RAULQ42EBFFQrCJ\n",
       "pPI/s9/JXHTRB7cz772Z3+y+jzkgvdhq8/26N56zu6/5g1RMtfmk401KVU6OcdIrtE1p0FvV5u1O\n",
       "MCuTWbGA3UI5lYKsN9T25+HMaPNxGrjCoXgzBTpv/RV6B1DgdxhmCnRPMsJ3Ox+V6B4HOb5EIU2o\n",
       "t8QV7YzT5a0L5L7tdN6kQR/gb3L2wTP5peedeED0OQtNH20wl/uAOyv293dHnxDuSl++vSz/e4jL\n",
       "trCLQWpRzTHbZ1HsXbF/lby+5zY7t5SR2YyqpfgSuMrzqpz+pM5TUHaMehr0KzYF8h6zxGh2Pkvy\n",
       "ekKcHhfvqDSP07VAvKvI4upo5t/1ajxad01Edcgp/eIwzWM0EZVGjY/5vXNse20WmRjaM8pKCBwy\n",
       "IGTYukxgOzpyTMZbxDm7JAIiXE/YOBW7WmDKJ9c6oxFaGvffplihAxgHJuobYXiHJ1tmTDa5IdMo\n",
       "EMPUchgvcXphG75FaN+IuAN4zOvi+kEclkrBTKAHMGT5xZef4iMzIjyL0r8BffFYL4YbAwdwA7g3\n",
       "nx30mHr1aBzdnDlk++g1YW2UWkUxfMDrGFoYvYCEDu4ZSbTj02SjTwfdeClYMWw08ngIfNIWIrQ0\n",
       "+hI4GKb+rteT0dBfBOjB8Dr7MvMdoyY272xEaGn0JXBQbqnRP/hBbkZEWBT98svU1O2ypazr0EGZ\n",
       "UKMvm8jW5O3/iEvLyX8wzcm4R9QtEzpE47lKdHHAr5aL6/j4mnTmoNWm1OjQ8e9i/wfGb+MEqI/1\n",
       "SbeSAAAAAElFTkSuQmCC\n",
       "\" style=\"display:inline;vertical-align:middle;\" /></a><br>(see <a class=\"ProveItLink\" href=\"../../../__pv_it/theorems/766ffbe422917798257776912582ce61c43300840/dependencies.ipynb\">dependencies</a>)<br>"
      ],
      "text/plain": [
       "<IPython.core.display.HTML object>"
      ]
     },
     "metadata": {},
     "output_type": "display_data"
    },
    {
     "name": "stdout",
     "output_type": "stream",
     "text": [
      "fold_singleton may now be readily provable (assuming required theorems are usable).  Simply execute \"%qed\".\n"
     ]
    }
   ],
   "source": [
    "import proveit\n",
    "%proving fold_singleton"
   ]
  },
  {
   "cell_type": "code",
   "execution_count": null,
   "metadata": {},
   "outputs": [],
   "source": []
  }
 ],
 "metadata": {
  "kernelspec": {
   "display_name": "Python 3",
   "language": "python",
   "name": "python3"
  }
 },
 "nbformat": 4,
 "nbformat_minor": 0
}