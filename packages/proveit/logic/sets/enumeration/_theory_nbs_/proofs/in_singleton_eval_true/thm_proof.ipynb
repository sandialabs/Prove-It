{
 "cells": [
  {
   "cell_type": "markdown",
   "metadata": {},
   "source": [
    "Proof of <a class=\"ProveItLink\" href=\"../../../../../../_theory_nbs_/theory.ipynb\">proveit</a>.<a class=\"ProveItLink\" href=\"../../../../../_theory_nbs_/theory.ipynb\">logic</a>.<a class=\"ProveItLink\" href=\"../../../../_theory_nbs_/theory.ipynb\">sets</a>.<a class=\"ProveItLink\" href=\"../../theory.ipynb\">enumeration</a>.<a class=\"ProveItLink\" href=\"../../theorems.ipynb#in_singleton_eval_true\">in_singleton_eval_true</a> theorem\n",
    "========\n",
    "*** see <a href=\"../__pv_it/d54b0fde8b81d29e5cd335f6b161fc34b2a266ec0/dependencies.ipynb\" class=\"ProveItLink\">dependencies</a> ***"
   ]
  },
  {
   "cell_type": "code",
   "execution_count": 1,
   "metadata": {},
   "outputs": [
    {
     "data": {
      "text/html": [
       "With these <a href=\"allowed_presumptions.txt\">allowed</a>/<a href=\"disallowed_presumptions.txt\">disallowed</a> theorem/theory presumptions (e.g., to avoid circular dependencies), we begin our proof of<br><strong id=\"in_singleton_eval_true\">in_singleton_eval_true:</strong> <a class=\"ProveItLink\" href=\"../../../__pv_it/theorems/ba2f7155d9e81ea40b7d45d6eb0cc3c5b7821d470/expr.ipynb\"><img src=\"data:image/png;base64,iVBORw0KGgoAAAANSUhEUgAAAO8AAAAXBAMAAAARnwX+AAAAMFBMVEX///8AAAAAAAAAAAAAAAAA\n",
       "AAAAAAAAAAAAAAAAAAAAAAAAAAAAAAAAAAAAAAAAAAAv3aB7AAAAD3RSTlMAq1RmmUTNIjK7EInv\n",
       "3XZ/CtNrAAAACXBIWXMAAA7EAAAOxAGVKw4bAAAC2ElEQVRIx7VWTWgTQRR+2Z9ksxtj8SAEpSwo\n",
       "XkS7By9eYkrxDxWDggcPdlFE8CCrBw9asYonqdCeRMGyAQWLUqqHgoglKIIgShQUPQS2UBFFSvFS\n",
       "6ck3P/uTzUx0D33wzb6dbzLfzHtvZgOQ3TwOgT2os+eFHmN6Mr2sbDOIqNM+c4wKOiekUxCmjzib\n",
       "sghv5RDYgB96RZy37KT5Q21iHyizm3ScyaBrugwiexF5Vgubs4Ih22mLzDV8FMYzCGsOw38I75AK\n",
       "I5PH6Fh2BuESRyKz99qfhcIlXyaMjIqLz2dJ8RaOyPRzvmTHeUcmTJh37fbbLMIHOKbnHz6nkbro\n",
       "J0NtLjjQ4MJWn0yYMPsA7nbRNbnwKY5auV9rpSpzD06pNGEXhr+Jr6qbLOWkMGHOQ6F7YT2q7SOD\n",
       "6qkrORrKuMILrwCu42oq6P7Gd6Up2zFhir5VzyL8msEAjSkamKv2V6q7HifySwG8x5fGSaSWZMKE\n",
       "UQJBbf1bGCszYOc6HnuD5GzYN/7gYxYXoUt3TBm3is3i3gW8QPV5yCWEWScdGBJRqFHBM2lZteJZ\n",
       "J2ieSX6VFRLQlizHlHmK10jZq+SxRKfX+mOxMO3cfwfNiQiASYap+kaw2PI6L5AJel1atLjGZTum\n",
       "zAiOU2HSQPfSNvgRC/NOSBIATxgGbh6EI+xM2h3CgzDs8OOkzciEKZMbJe4y7dgA/ckcL0fjQwLg\n",
       "FsP9RWWIKZqV40nhxtxhjwuv6a5aOErbmDGaBfL4BG8SwqSThToi8DejDImr61nnlTkb3lxXpBUa\n",
       "MSOWq8EjgC/6UixMO7mFBCagxiD5SFiu+TIUHpIKR4z2be4njNmweacbC9NObiGBdptDYL8wGEGO\n",
       "5I8ccvlHL83Ypld0hOc4ItCmOAR21QalSr/wj3F4UfoPJ8Xofi44Jr5AIoIsN2AQ7WSQV/jlddh8\n",
       "l0Y6xaigV2fEwhGx2uatusJfwJjQVQf3s0EAAAAASUVORK5CYII=\n",
       "\" style=\"display:inline;vertical-align:middle;\" /></a><br>(see <a class=\"ProveItLink\" href=\"../../../__pv_it/theorems/debeaaf4fec351f6eaa82d6d674489228e92327d0/dependencies.ipynb\">dependencies</a>)<br>"
      ],
      "text/plain": [
       "<IPython.core.display.HTML object>"
      ]
     },
     "metadata": {},
     "output_type": "display_data"
    },
    {
     "name": "stdout",
     "output_type": "stream",
     "text": [
      "in_singleton_eval_true may now be readily provable (assuming required theorems are usable).  Simply execute \"%qed\".\n"
     ]
    }
   ],
   "source": [
    "import proveit\n",
    "from proveit import defaults\n",
    "from proveit import x, y\n",
    "from proveit.logic import Equals, TRUE\n",
    "from proveit.logic.sets.enumeration import singleton_def\n",
    "%proving in_singleton_eval_true"
   ]
  },
  {
   "cell_type": "code",
   "execution_count": 2,
   "metadata": {},
   "outputs": [
    {
     "data": {
      "text/html": [
       "<strong id=\"defaults.assumptions\">defaults.assumptions:</strong> <a class=\"ProveItLink\" href=\"../../../../../equality/__pv_it/theorems/a2f273775b34b7bb503fbfadbc586772d723fb0d0/expr.ipynb\"><img src=\"data:image/png;base64,iVBORw0KGgoAAAANSUhEUgAAAD8AAAAVBAMAAAADRiu8AAAAMFBMVEX///8AAAAAAAAAAAAAAAAA\n",
       "AAAAAAAAAAAAAAAAAAAAAAAAAAAAAAAAAAAAAAAAAAAv3aB7AAAAD3RSTlMAInZUiRDNmWbv3US7\n",
       "qzJazP2FAAAACXBIWXMAAA7EAAAOxAGVKw4bAAABGElEQVQoz32SPUvDUBSGn+bDNLEtmZ2ii5Pg\n",
       "IK4WETchuLi0kkVw7CBSETG4OBp0dCm4ORX9AW3dheImOAji4uTiKr7pZr4u3HPu5X1yz3vvCeBT\n",
       "OmaSsVoOPKRhrVzHiMGOKgAOwImrgEtwq3TckPVKYC7mSGl3ZX8rcxd7OaYL1pRD7XrGizNQdu5n\n",
       "Y6qlZSZcQT3iTtGv/zQzXj/0xRsIu4UWTu6uoRtwLek7BWQ2yNkbha1fmE/SEtr5dvjfA8cYiUoM\n",
       "eILO8BUre8IzDYH1MTuw8XnCYxY4YyTfTpsv2Fsy+7mWdjfP1WxviPde9orbmguq0itUrci+Uepr\n",
       "TgoBL2i2oTbWslMImBenio30n6sF5c1chD8Hsjm4tzhGpwAAAABJRU5ErkJggg==\n",
       "\" style=\"display:inline;vertical-align:middle;\" /></a><br>"
      ],
      "text/plain": [
       "<IPython.core.display.HTML object>"
      ]
     },
     "metadata": {},
     "output_type": "display_data"
    }
   ],
   "source": [
    "defaults.assumptions = in_singleton_eval_true.conditions"
   ]
  },
  {
   "cell_type": "code",
   "execution_count": 3,
   "metadata": {},
   "outputs": [
    {
     "data": {
      "text/html": [
       "<strong id=\"state1\">state1:</strong> <span style=\"font-size:20px;\"><a class=\"ProveItLink\" href=\"../../../../../equality/__pv_it/theorems/8dc625ee9fbf5f96228c059ed58b16ec83d4e40d0/expr.ipynb\"><img src=\"data:image/png;base64,iVBORw0KGgoAAAANSUhEUgAAADMAAAANBAMAAAD2/0vEAAAAMFBMVEX///8AAAAAAAAAAAAAAAAA\n",
       "AAAAAAAAAAAAAAAAAAAAAAAAAAAAAAAAAAAAAAAAAAAv3aB7AAAAD3RSTlMAEHarMolUmd1mIs3v\n",
       "RLtmgJDEAAAACXBIWXMAAA7EAAAOxAGVKw4bAAAAmUlEQVQY02NgEFIWCU1gQAGM6hMYhIF0AZMR\n",
       "ewOQZu8AAwMgk5XtAMN8BgbOBZwfmSeg6nIDqrVjYGBhYN/AgAYEeBQYDoEYQBod3Bdg+QKmFzAK\n",
       "oNrFUM3AdICBQe6CDQMruq7HDHxAJfmONQzX0KWKGe4DXSauxFaZgC4lHFS/gAEXiMYhzrqB8RgO\n",
       "KQ4F5gAcUmyTaoEkAEh8IT7vWgQmAAAAAElFTkSuQmCC\n",
       "\" style=\"display:inline;vertical-align:middle;\" /></a> <a class=\"ProveItLink\" href=\"../../../__pv_it/_proof_in_singleton_eval_true/45e35beae4eaf6f51f2e2de2b0e568d16afb773b0/proof.ipynb\" style=\"text-decoration: none\">&nbsp;&#x22A2;&nbsp;&nbsp;</a><a class=\"ProveItLink\" href=\"../../../__pv_it/_proof_in_singleton_eval_true/f7f623ede3a4891d4ce6549224221c7f4d69b0ed0/expr.ipynb\"><img src=\"data:image/png;base64,iVBORw0KGgoAAAANSUhEUgAAAGwAAAAVBAMAAABRZRb3AAAAMFBMVEX///8AAAAAAAAAAAAAAAAA\n",
       "AAAAAAAAAAAAAAAAAAAAAAAAAAAAAAAAAAAAAAAAAAAv3aB7AAAAD3RSTlMAInZUiRDNmWbv3US7\n",
       "qzJazP2FAAAACXBIWXMAAA7EAAAOxAGVKw4bAAABOklEQVQ4y2NgYBBgwAnwSDEZ4JbbhFvKhAGP\n",
       "kQ3oIlWrQGAtA2sCHm0MqVjEjEAEewM+be24tHHi08XAGYBDmxlebWwNOLSVADGr0tUnzqhyrOoN\n",
       "DLEMDCwXcGjLAPmPQVehCkSDg2kVSCkL8wSGfgYGjgTk4EPSthiIGxn6A26gGvmYfQHDHQYGoGbs\n",
       "ts0G4gcMZehyAZwKDJMYGPg+4NHGAFKBBvYH8P1jYODGZRvIkQzcHxlCUf0GtJ8JqIV5AQ6/HQKG\n",
       "2mneCQwOaGaeZeABauc4gMM2X6CR/8IncKMn6FqG/cA4Y3fAoe0V0LYiBfNmdMlYp3pgtuHagKlt\n",
       "B4jgeoArhbgBsRQuSY4CrMIsCayTgVQFzmR3EKsolwIv0FuMB3Bqi8EqytxUDSR5cJcKjAq4M4Ai\n",
       "LgkAvL5LuQCN4gUAAAAASUVORK5CYII=\n",
       "\" style=\"display:inline;vertical-align:middle;\" /></a></span><br>"
      ],
      "text/plain": [
       "<IPython.core.display.HTML object>"
      ]
     },
     "metadata": {},
     "output_type": "display_data"
    }
   ],
   "source": [
    "state1 = Equals(Equals(x,y), TRUE).prove()"
   ]
  },
  {
   "cell_type": "code",
   "execution_count": 4,
   "metadata": {},
   "outputs": [
    {
     "data": {
      "text/html": [
       "<strong id=\"state2\">state2:</strong> <span style=\"font-size:20px;\"> <a class=\"ProveItLink\" href=\"../../../__pv_it/_proof_in_singleton_eval_true/bd789a38a09f7a00c87123a7327af4050e7501bd0/proof.ipynb\" style=\"text-decoration: none\">&nbsp;&#x22A2;&nbsp;&nbsp;</a><a class=\"ProveItLink\" href=\"../../../__pv_it/theorems/3d9c008ee1003e9ff75063c9ab3a9f9690dc7e160/expr.ipynb\"><img src=\"data:image/png;base64,iVBORw0KGgoAAAANSUhEUgAAAK8AAAAVBAMAAADC7aNVAAAAMFBMVEX///8AAAAAAAAAAAAAAAAA\n",
       "AAAAAAAAAAAAAAAAAAAAAAAAAAAAAAAAAAAAAAAAAAAv3aB7AAAAD3RSTlMAInZUiRDNmWbv3US7\n",
       "qzJazP2FAAAACXBIWXMAAA7EAAAOxAGVKw4bAAACXElEQVQ4y41VPWgUQRR+l91x759DRTEgrCdo\n",
       "FUghsTSoXKWwCEkQcnIaBMEmiMglGlxNkTKLdqZZCFgcKoeSKkVOS0U4FEHhioDaWEUkbfDNmzlz\n",
       "M/v2cIrdN/u+75v33sybBYAKcENsauOQ9HOYDKQOgo+Ms75TG9oo9wKA1wziZLowwc+wLmf3n1ns\n",
       "4uphEjGZLizhosG63Ng0byYQ0zBkINwL/0t4JYFoDhNGeM7M4X3rOSucC2xuNEwY4ROD88KNICXi\n",
       "A3ZiTmOYMMLv4uvK2LWLdDaOBINq4nQIdS3sdi2qh3snql9+XLBOqeZ04RbO5kc+eRTh9X0eBuQ6\n",
       "EaxieWTSWQpwsSXHSx0TeDDmL0owfW7JtTUH4ev4rGR3S5TqfnrHcP4dV+thI/yRmdslzWOKj2A1\n",
       "+Gp+1hyEr2ELUHyyF57hui+kdfw2PoKcD0/wXZ9D1469PW2AbbhnF1dzEL5GKF8VqNP3lx/Iam8F\n",
       "5T181VCjEDHCQOuaQ3EQvk6ziqBti412w3hkfakJndiqsSwFFH7DlFnjPieGdwCz7W/gklzVPGMf\n",
       "Sd+lzetYkRV9EB9KEdiNrTgIvwxw7ucCvFHHb9wQXoKtUJueLYAHytmbiQr2FaY4CP8FMFN1msov\n",
       "ehuDwvXzDyvazLctgXIM4o5/dtmuseIgPL9ttN4ls6VrfXM0sUuv0rqupuDZ+dRLyG2Ip33hJnfP\n",
       "cDzFkfC3/I2KO5b3S5O6CTOdBKLI/nkUh+CzrLBsN+fxfWleDVkV0WF/EMQheMZnlY9+1sZhaZxg\n",
       "EAfTLzeE/wUIyZ1BWZdtzQAAAABJRU5ErkJggg==\n",
       "\" style=\"display:inline;vertical-align:middle;\" /></a></span><br>"
      ],
      "text/plain": [
       "<IPython.core.display.HTML object>"
      ]
     },
     "metadata": {},
     "output_type": "display_data"
    }
   ],
   "source": [
    "state2 = singleton_def.instantiate({x:x, y:y}, auto_simplify=False)"
   ]
  },
  {
   "cell_type": "code",
   "execution_count": 5,
   "metadata": {},
   "outputs": [
    {
     "data": {
      "text/html": [
       "<strong id=\"goal\">goal:</strong> <span style=\"font-size:20px;\"><a class=\"ProveItLink\" href=\"../../../../../equality/__pv_it/theorems/8dc625ee9fbf5f96228c059ed58b16ec83d4e40d0/expr.ipynb\"><img src=\"data:image/png;base64,iVBORw0KGgoAAAANSUhEUgAAADMAAAANBAMAAAD2/0vEAAAAMFBMVEX///8AAAAAAAAAAAAAAAAA\n",
       "AAAAAAAAAAAAAAAAAAAAAAAAAAAAAAAAAAAAAAAAAAAv3aB7AAAAD3RSTlMAEHarMolUmd1mIs3v\n",
       "RLtmgJDEAAAACXBIWXMAAA7EAAAOxAGVKw4bAAAAmUlEQVQY02NgEFIWCU1gQAGM6hMYhIF0AZMR\n",
       "ewOQZu8AAwMgk5XtAMN8BgbOBZwfmSeg6nIDqrVjYGBhYN/AgAYEeBQYDoEYQBod3Bdg+QKmFzAK\n",
       "oNrFUM3AdICBQe6CDQMruq7HDHxAJfmONQzX0KWKGe4DXSauxFaZgC4lHFS/gAEXiMYhzrqB8RgO\n",
       "KQ4F5gAcUmyTaoEkAEh8IT7vWgQmAAAAAElFTkSuQmCC\n",
       "\" style=\"display:inline;vertical-align:middle;\" /></a> <a class=\"ProveItLink\" href=\"../../../__pv_it/_proof_in_singleton_eval_true/af3afa63d786b50140a3b94040d5cf57f450c57d0/proof.ipynb\" style=\"text-decoration: none\">&nbsp;&#x22A2;&nbsp;&nbsp;</a><a class=\"ProveItLink\" href=\"../../../__pv_it/theorems/b4b34621f17bd520deebee996718c5cfa7fe4b370/expr.ipynb\"><img src=\"data:image/png;base64,iVBORw0KGgoAAAANSUhEUgAAAH4AAAAVBAMAAAByPkciAAAAMFBMVEX///8AAAAAAAAAAAAAAAAA\n",
       "AAAAAAAAAAAAAAAAAAAAAAAAAAAAAAAAAAAAAAAAAAAv3aB7AAAAD3RSTlMAInZUiRDNmWbv3US7\n",
       "qzJazP2FAAAACXBIWXMAAA7EAAAOxAGVKw4bAAABs0lEQVQ4y2NgYBBgwAqiN0BoYZA8DjUgwGSA\n",
       "XTg7AMLguwNkbMKt3wS7sH0AjMVzAWhaA7p81SoQWMvAmoBdvxecxbIASKRiUWIEItgbiNLfjks/\n",
       "J6qvT61ahlU/ZwAO/WbIItxJATjsZ2vAob8EiIN041zAsSAWgOx+VvUGhliofpYLOPRnAHEB0yV2\n",
       "kCKGRIRkGVAP8wSGfqCfJgC5HAnIgY6kfzFQToDjKy/YfYi4YJzBwPAYaOgdIPMzkM88AYf9s4Ep\n",
       "hIEdopFvFtD0NWDt14CpL4BTgWESkBObDJT6gFs/MHQVwAKsB+Byz48Cif0BfP+AlBvQLG5c9i8G\n",
       "EfsFWMEhtwAheRYcBiC/M38FuX8BDv8fYmCI2XCTgQUsooSafs6C0y4LOPwO4LDfF5jUn1YybAaL\n",
       "sBmg6K9l2N8AjT92Bxz6XzEwhCsxV0A0st7Ziqw/1qleAKqfawOm/h0ggusBSgL0QU2/brD0J4Ur\n",
       "+3IU4Mw/LAmsk2H6K3Dm/4PYhTWBTlPgBfkalDgYD+DUH4NdWN6AgbmpGsSKBIYhD+4CjFEBu3At\n",
       "NC5ELgMJRVy6Ab7jZzUouvHYAAAAAElFTkSuQmCC\n",
       "\" style=\"display:inline;vertical-align:middle;\" /></a></span><br>"
      ],
      "text/plain": [
       "<IPython.core.display.HTML object>"
      ]
     },
     "metadata": {},
     "output_type": "display_data"
    }
   ],
   "source": [
    "goal = state2.sub_left_side_into(state1)"
   ]
  },
  {
   "cell_type": "code",
   "execution_count": 6,
   "metadata": {},
   "outputs": [
    {
     "name": "stdout",
     "output_type": "stream",
     "text": [
      "proveit.logic.sets.enumeration.in_singleton_eval_true has been proven.\n"
     ]
    },
    {
     "data": {
      "text/html": [
       "<table><tr><th>&nbsp;</th><th>step type</th><th>requirements</th><th>statement</th></tr>\n",
       "<tr><td><a name=\"0x233684da9015fa64_step0\">0</a></td><td>generalization</td><td><a href=\"#0x233684da9015fa64_step1\">1</a></td><td><span style=\"font-size:20px;\"> <a class=\"ProveItLink\" href=\"../../../__pv_it/_proof_in_singleton_eval_true/f8b688faa63f1d6d21d2d4aef6adc374d68c98f00/proof.ipynb\" style=\"text-decoration: none\">&nbsp;&#x22A2;&nbsp;&nbsp;</a><a class=\"ProveItLink\" href=\"../../../__pv_it/theorems/ba2f7155d9e81ea40b7d45d6eb0cc3c5b7821d470/expr.ipynb\"><img src=\"data:image/png;base64,iVBORw0KGgoAAAANSUhEUgAAAO8AAAAXBAMAAAARnwX+AAAAMFBMVEX///8AAAAAAAAAAAAAAAAA\n",
       "AAAAAAAAAAAAAAAAAAAAAAAAAAAAAAAAAAAAAAAAAAAv3aB7AAAAD3RSTlMAq1RmmUTNIjK7EInv\n",
       "3XZ/CtNrAAAACXBIWXMAAA7EAAAOxAGVKw4bAAAC2ElEQVRIx7VWTWgTQRR+2Z9ksxtj8SAEpSwo\n",
       "XkS7By9eYkrxDxWDggcPdlFE8CCrBw9asYonqdCeRMGyAQWLUqqHgoglKIIgShQUPQS2UBFFSvFS\n",
       "6ck3P/uTzUx0D33wzb6dbzLfzHtvZgOQ3TwOgT2os+eFHmN6Mr2sbDOIqNM+c4wKOiekUxCmjzib\n",
       "sghv5RDYgB96RZy37KT5Q21iHyizm3ScyaBrugwiexF5Vgubs4Ih22mLzDV8FMYzCGsOw38I75AK\n",
       "I5PH6Fh2BuESRyKz99qfhcIlXyaMjIqLz2dJ8RaOyPRzvmTHeUcmTJh37fbbLMIHOKbnHz6nkbro\n",
       "J0NtLjjQ4MJWn0yYMPsA7nbRNbnwKY5auV9rpSpzD06pNGEXhr+Jr6qbLOWkMGHOQ6F7YT2q7SOD\n",
       "6qkrORrKuMILrwCu42oq6P7Gd6Up2zFhir5VzyL8msEAjSkamKv2V6q7HifySwG8x5fGSaSWZMKE\n",
       "UQJBbf1bGCszYOc6HnuD5GzYN/7gYxYXoUt3TBm3is3i3gW8QPV5yCWEWScdGBJRqFHBM2lZteJZ\n",
       "J2ieSX6VFRLQlizHlHmK10jZq+SxRKfX+mOxMO3cfwfNiQiASYap+kaw2PI6L5AJel1atLjGZTum\n",
       "zAiOU2HSQPfSNvgRC/NOSBIATxgGbh6EI+xM2h3CgzDs8OOkzciEKZMbJe4y7dgA/ckcL0fjQwLg\n",
       "FsP9RWWIKZqV40nhxtxhjwuv6a5aOErbmDGaBfL4BG8SwqSThToi8DejDImr61nnlTkb3lxXpBUa\n",
       "MSOWq8EjgC/6UixMO7mFBCagxiD5SFiu+TIUHpIKR4z2be4njNmweacbC9NObiGBdptDYL8wGEGO\n",
       "5I8ccvlHL83Ypld0hOc4ItCmOAR21QalSr/wj3F4UfoPJ8Xofi44Jr5AIoIsN2AQ7WSQV/jlddh8\n",
       "l0Y6xaigV2fEwhGx2uatusJfwJjQVQf3s0EAAAAASUVORK5CYII=\n",
       "\" style=\"display:inline;vertical-align:middle;\" /></a></span></td></tr>\n",
       "<tr><td><a name=\"0x233684da9015fa64_step1\">1</a></td><td>instantiation</td><td><a href=\"#0x233684da9015fa64_step2\">2</a>, <a href=\"#0x233684da9015fa64_step3\">3</a>, <a href=\"#0x233684da9015fa64_step4\">4</a></td><td><span style=\"font-size:20px;\"><a class=\"ProveItLink\" href=\"../../../../../equality/__pv_it/theorems/8dc625ee9fbf5f96228c059ed58b16ec83d4e40d0/expr.ipynb\"><img src=\"data:image/png;base64,iVBORw0KGgoAAAANSUhEUgAAADMAAAANBAMAAAD2/0vEAAAAMFBMVEX///8AAAAAAAAAAAAAAAAA\n",
       "AAAAAAAAAAAAAAAAAAAAAAAAAAAAAAAAAAAAAAAAAAAv3aB7AAAAD3RSTlMAEHarMolUmd1mIs3v\n",
       "RLtmgJDEAAAACXBIWXMAAA7EAAAOxAGVKw4bAAAAmUlEQVQY02NgEFIWCU1gQAGM6hMYhIF0AZMR\n",
       "ewOQZu8AAwMgk5XtAMN8BgbOBZwfmSeg6nIDqrVjYGBhYN/AgAYEeBQYDoEYQBod3Bdg+QKmFzAK\n",
       "oNrFUM3AdICBQe6CDQMruq7HDHxAJfmONQzX0KWKGe4DXSauxFaZgC4lHFS/gAEXiMYhzrqB8RgO\n",
       "KQ4F5gAcUmyTaoEkAEh8IT7vWgQmAAAAAElFTkSuQmCC\n",
       "\" style=\"display:inline;vertical-align:middle;\" /></a> <a class=\"ProveItLink\" href=\"../../../__pv_it/_proof_in_singleton_eval_true/af3afa63d786b50140a3b94040d5cf57f450c57d0/proof.ipynb\" style=\"text-decoration: none\">&nbsp;&#x22A2;&nbsp;&nbsp;</a><a class=\"ProveItLink\" href=\"../../../__pv_it/theorems/b4b34621f17bd520deebee996718c5cfa7fe4b370/expr.ipynb\"><img src=\"data:image/png;base64,iVBORw0KGgoAAAANSUhEUgAAAH4AAAAVBAMAAAByPkciAAAAMFBMVEX///8AAAAAAAAAAAAAAAAA\n",
       "AAAAAAAAAAAAAAAAAAAAAAAAAAAAAAAAAAAAAAAAAAAv3aB7AAAAD3RSTlMAInZUiRDNmWbv3US7\n",
       "qzJazP2FAAAACXBIWXMAAA7EAAAOxAGVKw4bAAABs0lEQVQ4y2NgYBBgwAqiN0BoYZA8DjUgwGSA\n",
       "XTg7AMLguwNkbMKt3wS7sH0AjMVzAWhaA7p81SoQWMvAmoBdvxecxbIASKRiUWIEItgbiNLfjks/\n",
       "J6qvT61ahlU/ZwAO/WbIItxJATjsZ2vAob8EiIN041zAsSAWgOx+VvUGhliofpYLOPRnAHEB0yV2\n",
       "kCKGRIRkGVAP8wSGfqCfJgC5HAnIgY6kfzFQToDjKy/YfYi4YJzBwPAYaOgdIPMzkM88AYf9s4Ep\n",
       "hIEdopFvFtD0NWDt14CpL4BTgWESkBObDJT6gFs/MHQVwAKsB+Byz48Cif0BfP+AlBvQLG5c9i8G\n",
       "EfsFWMEhtwAheRYcBiC/M38FuX8BDv8fYmCI2XCTgQUsooSafs6C0y4LOPwO4LDfF5jUn1YybAaL\n",
       "sBmg6K9l2N8AjT92Bxz6XzEwhCsxV0A0st7Ziqw/1qleAKqfawOm/h0ggusBSgL0QU2/brD0J4Ur\n",
       "+3IU4Mw/LAmsk2H6K3Dm/4PYhTWBTlPgBfkalDgYD+DUH4NdWN6AgbmpGsSKBIYhD+4CjFEBu3At\n",
       "NC5ELgMJRVy6Ab7jZzUouvHYAAAAAElFTkSuQmCC\n",
       "\" style=\"display:inline;vertical-align:middle;\" /></a></span></td></tr>\n",
       "<tr><td>&nbsp;</td><td colspan=4 style=\"text-align:left\"><span style=\"font-size:20px;\"><a class=\"ProveItLink\" href=\"../../../__pv_it/_proof_in_singleton_eval_true/f307345efa93fdd6c2df141d735449c4534792f70/expr.ipynb\"><img src=\"data:image/png;base64,iVBORw0KGgoAAAANSUhEUgAAADsAAAAVBAMAAAAKrYvGAAAAMFBMVEX///8AAAAAAAAAAAAAAAAA\n",
       "AAAAAAAAAAAAAAAAAAAAAAAAAAAAAAAAAAAAAAAAAAAv3aB7AAAAD3RSTlMAdrurzZkQ7zJUiSLd\n",
       "ZkQEbk8lAAAACXBIWXMAAA7EAAAOxAGVKw4bAAABHElEQVQoz2NgQAYb8PAYGBgnoHAfgkmh/8pG\n",
       "rgkg1iw01RfA1BcGBqYyIM3mgGaaG4jg+MjAwAnEDKwX0KSvgs34AcS/gAx2NFkGdpCVTB+AGKiE\n",
       "YQq6NAvIOH4FBoZ+ASAjCiHBbSUNFOEyYABL7ToJEvNFSD/fwPSNgYEX5FZ5q1X3wGIn4bJstQys\n",
       "B4AOLgCy9WGCdXBp1g8MPAuAfvoA8Ta6NLsCQ/4DBgY+oG6OXzBBhOH5Agz3gRQn0ALGfzBBRYT0\n",
       "BAYTzg0MvEA/sXyACS6GSzMJcB5lBTphAQOr/icBqGAP0CYlINBmYDNcsVmCgYHnAXIg8TSghdoe\n",
       "FB5vAJp0LCpXG5XLrYDKT0LlMqGlJm4BFK40AwMAeV42yYcqVGcAAAAASUVORK5CYII=\n",
       "\" style=\"display:inline;vertical-align:middle;\" /></a> : <a class=\"ProveItLink\" href=\"../../../__pv_it/_proof_in_singleton_eval_true/e40611d82f8b2c19f430a08cd675a2eac479cc660/expr.ipynb\"><img src=\"data:image/png;base64,iVBORw0KGgoAAAANSUhEUgAAAEMAAAAOBAMAAACGIrzyAAAAMFBMVEX///8AAAAAAAAAAAAAAAAA\n",
       "AAAAAAAAAAAAAAAAAAAAAAAAAAAAAAAAAAAAAAAAAAAv3aB7AAAAD3RSTlMAMrsiq4l2RO8QZpnd\n",
       "VM2humBGAAAACXBIWXMAAA7EAAAOxAGVKw4bAAAAZklEQVQY02NgwAm4z4CBAwNewJvAQAjQQolJ\n",
       "mBkBJezNDPoTMLyBomTGAoY9BEzZz8BwlICSJgbO7/iVcH5j4PrAgNctnH8ZWB5cxm+RGsOdDRtw\n",
       "KBFSAgIDhimpwm4CGErYFwAJAE7oJUSnztNmAAAAAElFTkSuQmCC\n",
       "\" style=\"display:inline;vertical-align:middle;\" /></a>, <a class=\"ProveItLink\" href=\"../../../../../../__pv_it/common/a0d9d672aa5e272d907247690c152cc2c6daafb70/expr.ipynb\"><img src=\"data:image/png;base64,iVBORw0KGgoAAAANSUhEUgAAAAsAAAAJBAMAAAAWSsseAAAAMFBMVEX///8AAAAAAAAAAAAAAAAA\n",
       "AAAAAAAAAAAAAAAAAAAAAAAAAAAAAAAAAAAAAAAAAAAv3aB7AAAAD3RSTlMAEHarMolUmd1mIs3v\n",
       "RLtmgJDEAAAACXBIWXMAAA7EAAAOxAGVKw4bAAAAQklEQVQI12NgEFIWCU1gYChgMmJvYOBcwPmR\n",
       "eQIDCwP7BgYQ4FEAU/cXMAowyF2wYWBlYMh3rGG4xsAgrsRWmcAAAFEjCyBvD0T9AAAAAElFTkSu\n",
       "QmCC\n",
       "\" style=\"display:inline;vertical-align:middle;\" /></a> : <a class=\"ProveItLink\" href=\"../../../__pv_it/theorems/add2e8c45656210d5cc64daf61ef238a07a95d870/expr.ipynb\"><img src=\"data:image/png;base64,iVBORw0KGgoAAAANSUhEUgAAAEQAAAAVBAMAAAAN71XTAAAAMFBMVEX///8AAAAAAAAAAAAAAAAA\n",
       "AAAAAAAAAAAAAAAAAAAAAAAAAAAAAAAAAAAAAAAAAAAv3aB7AAAAD3RSTlMAEHarMolUmd1mIs3v\n",
       "RLtmgJDEAAAACXBIWXMAAA7EAAAOxAGVKw4bAAABFUlEQVQoz2NgwAYY70IZyxYw4ADaF6EMFjsB\n",
       "7CrYPsKZfAbYlbA2YGMSqYTpRUc3fiW8mwRwmCKkLBKaAOKtFkAWZ1SfwCAMVVLAZMQO1rULrpV9\n",
       "A1CO7QDDfKDlBxgYOBdwfmSeAJLYAFeyBsh3A+qzY2Dg+gYMHLAeUCid6Ojo6AOxFu8FEgI8CgyH\n",
       "gLTwNiABZIMD/QHMEJY6kKvuC7B8AVLRF0DsBYxghzagBmk12B2ggJa7YMPACpZQQvXpY7BKVqCy\n",
       "fMcahmtgCe4EFCXFDPcnQJjiSmyVEDlGu4vISoSD6hdgRABvHGoERBOIRtYNjMfwKAF5hUOBOQAa\n",
       "0NgAKEjZJtWCmDITcCTM5WZQxlIgAwCl7EPHObLeeQAAAABJRU5ErkJggg==\n",
       "\" style=\"display:inline;vertical-align:middle;\" /></a>, <a class=\"ProveItLink\" href=\"../../../../../../__pv_it/common/ff7dba4ef0bbe791ab573bf2d9c220a304399ac80/expr.ipynb\"><img src=\"data:image/png;base64,iVBORw0KGgoAAAANSUhEUgAAAAsAAAANBAMAAACN24kIAAAAMFBMVEX///8AAAAAAAAAAAAAAAAA\n",
       "AAAAAAAAAAAAAAAAAAAAAAAAAAAAAAAAAAAAAAAAAAAv3aB7AAAAD3RSTlMAEHaZZquJVO8y3btE\n",
       "zSKD2s2pAAAACXBIWXMAAA7EAAAOxAGVKw4bAAAAVklEQVQI12NgVHZgEGVgYGNvYPBnYJjOvIAh\n",
       "moFBgEOBoYmBgeG8AOdPIGXLwNQApLYycAcAKVOG8w5ASjTJ/gEDCOQCMdsFxnYgxaXAmgCk2J1s\n",
       "gCQAaFoNDtFIIdEAAAAASUVORK5CYII=\n",
       "\" style=\"display:inline;vertical-align:middle;\" /></a> : <a class=\"ProveItLink\" href=\"../../../../../equality/__pv_it/theorems/8dc625ee9fbf5f96228c059ed58b16ec83d4e40d0/expr.ipynb\"><img src=\"data:image/png;base64,iVBORw0KGgoAAAANSUhEUgAAADMAAAANBAMAAAD2/0vEAAAAMFBMVEX///8AAAAAAAAAAAAAAAAA\n",
       "AAAAAAAAAAAAAAAAAAAAAAAAAAAAAAAAAAAAAAAAAAAv3aB7AAAAD3RSTlMAEHarMolUmd1mIs3v\n",
       "RLtmgJDEAAAACXBIWXMAAA7EAAAOxAGVKw4bAAAAmUlEQVQY02NgEFIWCU1gQAGM6hMYhIF0AZMR\n",
       "ewOQZu8AAwMgk5XtAMN8BgbOBZwfmSeg6nIDqrVjYGBhYN/AgAYEeBQYDoEYQBod3Bdg+QKmFzAK\n",
       "oNrFUM3AdICBQe6CDQMruq7HDHxAJfmONQzX0KWKGe4DXSauxFaZgC4lHFS/gAEXiMYhzrqB8RgO\n",
       "KQ4F5gAcUmyTaoEkAEh8IT7vWgQmAAAAAElFTkSuQmCC\n",
       "\" style=\"display:inline;vertical-align:middle;\" /></a></span></td></tr><tr><td><a name=\"0x233684da9015fa64_step2\">2</a></td><td>theorem</td><td></td><td><span style=\"font-size:20px;\"> <a class=\"ProveItLink\" href=\"../../../../../equality/_theory_nbs_/proofs/sub_left_side_into/thm_proof.ipynb\" style=\"text-decoration: none\">&nbsp;&#x22A2;&nbsp;&nbsp;</a><a class=\"ProveItLink\" href=\"../../../../../equality/__pv_it/theorems/fa7b338ac0e02abe373a31648947826ee50d3a400/expr.ipynb\"><img src=\"data:image/png;base64,iVBORw0KGgoAAAANSUhEUgAAAMIAAAAXBAMAAACrPI2eAAAAMFBMVEX///8AAAAAAAAAAAAAAAAA\n",
       "AAAAAAAAAAAAAAAAAAAAAAAAAAAAAAAAAAAAAAAAAAAv3aB7AAAAD3RSTlMAq1RmmUTNIjK7EInv\n",
       "3XZ/CtNrAAAACXBIWXMAAA7EAAAOxAGVKw4bAAACs0lEQVRIx7VWS2gTURQ9k5l08uuYQkFEKQVB\n",
       "wQ9moyCoRIpUqEjQlVZsUEFwNV2KYutWlI4ULLowUQTNRqKIixahVNxUlFFwWRg/IEWIWfhNQL3v\n",
       "N3kxDIikF97c+w7nvfNy372PACtjrnA2VsqcQeHjAZBlwfru7Lv8++qaU2UWbVbQe2Af86e7dPRv\n",
       "QHKRfKqokJ4yLrJsed0RSPwCYjRg5RRk5pkI0oNdyv4PGk0KMi1sESbJ9XQpSck6DVLBhhZ2Enix\n",
       "tPS8SwqrKNtTVD0YoXH/7b05ys0DYD9wI2qJ1TbbKFIRrUC7n3stD468M2D5wA5gHDZVbLw0snd1\n",
       "588W7siXR30uzIKY5SMVPq+d284DkjFds2HQDWyhXcpptnQ38CRKwfSR9nFLgqORCiUVPKO6gsVL\n",
       "dorKK+AX3U9HiFIw8nDqonNEiUe3Q6hABcVuBMdoFPewaAF4RUn+cGGYJsezotelQmYQvVn4Eue1\n",
       "LYnQyEg0lQK/jDE3RWfZStHDM6zpGhinBH80vBPUkkEjMa8pTJTtfthFicfYRTCidZ1sOiTD+aoU\n",
       "bgKVwjqkKdxJ4zw7gfmytolcLhlMktxt3/E0hV21d2XEPYnHvZDIn09FRk9dKVCJbrt0AIdk4RqM\n",
       "amRlSfNn16gagabQxz6xrMQTXouok63Sz0BCV4A7tdgQS+cbRcvIl+Qyf9l7C5lJTeEpz7IncZ4l\n",
       "RhRZCsma9YaA7atogjZOVe35x8inqsQY02rJ/s6dD4E7gSSG2439XVRm2DPhG+iUZumUCzg4WiuT\n",
       "iw1d0xSWm7w+ZyDwpCuJcq0i6zajgrPteEy5u5jW+yHsNI5XQqIwRdat0iEl7KhyA/Fip4LlCnw4\n",
       "JApTZN1seeeO247nlDv8CZ0KmOU4e55yOqzI/2XtfxVS2vff7Q+ss7Q23lQ/yQAAAABJRU5ErkJg\n",
       "gg==\n",
       "\" style=\"display:inline;vertical-align:middle;\" /></a></span></td></tr>\n",
       "<tr><td>&nbsp;</td><td colspan=4 style-\"text-align:left\"><a class=\"ProveItLink\" href=\"../../../../../equality/_theory_nbs_/proofs/sub_left_side_into/thm_proof.ipynb\">proveit.logic.equality.sub_left_side_into</a></td></tr><tr><td><a name=\"0x233684da9015fa64_step3\">3</a></td><td>instantiation</td><td><a href=\"#0x233684da9015fa64_step5\">5</a>, <a href=\"#0x233684da9015fa64_step6\">6</a></td><td><span style=\"font-size:20px;\"><a class=\"ProveItLink\" href=\"../../../../../equality/__pv_it/theorems/8dc625ee9fbf5f96228c059ed58b16ec83d4e40d0/expr.ipynb\"><img src=\"data:image/png;base64,iVBORw0KGgoAAAANSUhEUgAAADMAAAANBAMAAAD2/0vEAAAAMFBMVEX///8AAAAAAAAAAAAAAAAA\n",
       "AAAAAAAAAAAAAAAAAAAAAAAAAAAAAAAAAAAAAAAAAAAv3aB7AAAAD3RSTlMAEHarMolUmd1mIs3v\n",
       "RLtmgJDEAAAACXBIWXMAAA7EAAAOxAGVKw4bAAAAmUlEQVQY02NgEFIWCU1gQAGM6hMYhIF0AZMR\n",
       "ewOQZu8AAwMgk5XtAMN8BgbOBZwfmSeg6nIDqrVjYGBhYN/AgAYEeBQYDoEYQBod3Bdg+QKmFzAK\n",
       "oNrFUM3AdICBQe6CDQMruq7HDHxAJfmONQzX0KWKGe4DXSauxFaZgC4lHFS/gAEXiMYhzrqB8RgO\n",
       "KQ4F5gAcUmyTaoEkAEh8IT7vWgQmAAAAAElFTkSuQmCC\n",
       "\" style=\"display:inline;vertical-align:middle;\" /></a> <a class=\"ProveItLink\" href=\"../../../__pv_it/_proof_in_singleton_eval_true/45e35beae4eaf6f51f2e2de2b0e568d16afb773b0/proof.ipynb\" style=\"text-decoration: none\">&nbsp;&#x22A2;&nbsp;&nbsp;</a><a class=\"ProveItLink\" href=\"../../../__pv_it/_proof_in_singleton_eval_true/f7f623ede3a4891d4ce6549224221c7f4d69b0ed0/expr.ipynb\"><img src=\"data:image/png;base64,iVBORw0KGgoAAAANSUhEUgAAAGwAAAAVBAMAAABRZRb3AAAAMFBMVEX///8AAAAAAAAAAAAAAAAA\n",
       "AAAAAAAAAAAAAAAAAAAAAAAAAAAAAAAAAAAAAAAAAAAv3aB7AAAAD3RSTlMAInZUiRDNmWbv3US7\n",
       "qzJazP2FAAAACXBIWXMAAA7EAAAOxAGVKw4bAAABOklEQVQ4y2NgYBBgwAnwSDEZ4JbbhFvKhAGP\n",
       "kQ3oIlWrQGAtA2sCHm0MqVjEjEAEewM+be24tHHi08XAGYBDmxlebWwNOLSVADGr0tUnzqhyrOoN\n",
       "DLEMDCwXcGjLAPmPQVehCkSDg2kVSCkL8wSGfgYGjgTk4EPSthiIGxn6A26gGvmYfQHDHQYGoGbs\n",
       "ts0G4gcMZehyAZwKDJMYGPg+4NHGAFKBBvYH8P1jYODGZRvIkQzcHxlCUf0GtJ8JqIV5AQ6/HQKG\n",
       "2mneCQwOaGaeZeABauc4gMM2X6CR/8IncKMn6FqG/cA4Y3fAoe0V0LYiBfNmdMlYp3pgtuHagKlt\n",
       "B4jgeoArhbgBsRQuSY4CrMIsCayTgVQFzmR3EKsolwIv0FuMB3Bqi8EqytxUDSR5cJcKjAq4M4Ai\n",
       "LgkAvL5LuQCN4gUAAAAASUVORK5CYII=\n",
       "\" style=\"display:inline;vertical-align:middle;\" /></a></span></td></tr>\n",
       "<tr><td>&nbsp;</td><td colspan=4 style=\"text-align:left\"><span style=\"font-size:20px;\"><a class=\"ProveItLink\" href=\"../../../../../../__pv_it/common/09585084922504426caf1db2ff588a23a0932a960/expr.ipynb\"><img src=\"data:image/png;base64,iVBORw0KGgoAAAANSUhEUgAAAA8AAAAPBAMAAADJ+Ih5AAAAMFBMVEX///8AAAAAAAAAAAAAAAAA\n",
       "AAAAAAAAAAAAAAAAAAAAAAAAAAAAAAAAAAAAAAAAAAAv3aB7AAAAD3RSTlMAIs1UmauJMnZmRLsQ\n",
       "3e++988cAAAACXBIWXMAAA7EAAAOxAGVKw4bAAAAXklEQVQI12NgAAEhBijQh9LM/6EMlngBCCMx\n",
       "vwBMMzb0G0BkGOwngBmLGeoTwAwHBvkAEM2xxSV+A4hxgoGB/wJEhoH3AZDmAupg+gBkyAEx90cG\n",
       "htP/dRiY939KAABt3hLO6mcEjQAAAABJRU5ErkJggg==\n",
       "\" style=\"display:inline;vertical-align:middle;\" /></a> : <a class=\"ProveItLink\" href=\"../../../../../equality/__pv_it/theorems/8dc625ee9fbf5f96228c059ed58b16ec83d4e40d0/expr.ipynb\"><img src=\"data:image/png;base64,iVBORw0KGgoAAAANSUhEUgAAADMAAAANBAMAAAD2/0vEAAAAMFBMVEX///8AAAAAAAAAAAAAAAAA\n",
       "AAAAAAAAAAAAAAAAAAAAAAAAAAAAAAAAAAAAAAAAAAAv3aB7AAAAD3RSTlMAEHarMolUmd1mIs3v\n",
       "RLtmgJDEAAAACXBIWXMAAA7EAAAOxAGVKw4bAAAAmUlEQVQY02NgEFIWCU1gQAGM6hMYhIF0AZMR\n",
       "ewOQZu8AAwMgk5XtAMN8BgbOBZwfmSeg6nIDqrVjYGBhYN/AgAYEeBQYDoEYQBod3Bdg+QKmFzAK\n",
       "oNrFUM3AdICBQe6CDQMruq7HDHxAJfmONQzX0KWKGe4DXSauxFaZgC4lHFS/gAEXiMYhzrqB8RgO\n",
       "KQ4F5gAcUmyTaoEkAEh8IT7vWgQmAAAAAElFTkSuQmCC\n",
       "\" style=\"display:inline;vertical-align:middle;\" /></a></span></td></tr><tr><td><a name=\"0x233684da9015fa64_step4\">4</a></td><td>instantiation</td><td><a href=\"#0x233684da9015fa64_step7\">7</a></td><td><span style=\"font-size:20px;\"> <a class=\"ProveItLink\" href=\"../../../__pv_it/_proof_in_singleton_eval_true/bd789a38a09f7a00c87123a7327af4050e7501bd0/proof.ipynb\" style=\"text-decoration: none\">&nbsp;&#x22A2;&nbsp;&nbsp;</a><a class=\"ProveItLink\" href=\"../../../__pv_it/theorems/3d9c008ee1003e9ff75063c9ab3a9f9690dc7e160/expr.ipynb\"><img src=\"data:image/png;base64,iVBORw0KGgoAAAANSUhEUgAAAK8AAAAVBAMAAADC7aNVAAAAMFBMVEX///8AAAAAAAAAAAAAAAAA\n",
       "AAAAAAAAAAAAAAAAAAAAAAAAAAAAAAAAAAAAAAAAAAAv3aB7AAAAD3RSTlMAInZUiRDNmWbv3US7\n",
       "qzJazP2FAAAACXBIWXMAAA7EAAAOxAGVKw4bAAACXElEQVQ4y41VPWgUQRR+l91x759DRTEgrCdo\n",
       "FUghsTSoXKWwCEkQcnIaBMEmiMglGlxNkTKLdqZZCFgcKoeSKkVOS0U4FEHhioDaWEUkbfDNmzlz\n",
       "M/v2cIrdN/u+75v33sybBYAKcENsauOQ9HOYDKQOgo+Ms75TG9oo9wKA1wziZLowwc+wLmf3n1ns\n",
       "4uphEjGZLizhosG63Ng0byYQ0zBkINwL/0t4JYFoDhNGeM7M4X3rOSucC2xuNEwY4ROD88KNICXi\n",
       "A3ZiTmOYMMLv4uvK2LWLdDaOBINq4nQIdS3sdi2qh3snql9+XLBOqeZ04RbO5kc+eRTh9X0eBuQ6\n",
       "EaxieWTSWQpwsSXHSx0TeDDmL0owfW7JtTUH4ev4rGR3S5TqfnrHcP4dV+thI/yRmdslzWOKj2A1\n",
       "+Gp+1hyEr2ELUHyyF57hui+kdfw2PoKcD0/wXZ9D1469PW2AbbhnF1dzEL5GKF8VqNP3lx/Iam8F\n",
       "5T181VCjEDHCQOuaQ3EQvk6ziqBti412w3hkfakJndiqsSwFFH7DlFnjPieGdwCz7W/gklzVPGMf\n",
       "Sd+lzetYkRV9EB9KEdiNrTgIvwxw7ucCvFHHb9wQXoKtUJueLYAHytmbiQr2FaY4CP8FMFN1msov\n",
       "ehuDwvXzDyvazLctgXIM4o5/dtmuseIgPL9ttN4ls6VrfXM0sUuv0rqupuDZ+dRLyG2Ip33hJnfP\n",
       "cDzFkfC3/I2KO5b3S5O6CTOdBKLI/nkUh+CzrLBsN+fxfWleDVkV0WF/EMQheMZnlY9+1sZhaZxg\n",
       "EAfTLzeE/wUIyZ1BWZdtzQAAAABJRU5ErkJggg==\n",
       "\" style=\"display:inline;vertical-align:middle;\" /></a></span></td></tr>\n",
       "<tr><td>&nbsp;</td><td colspan=4 style=\"text-align:left\"><span style=\"font-size:20px;\"><a class=\"ProveItLink\" href=\"../../../../../../__pv_it/common/a0d9d672aa5e272d907247690c152cc2c6daafb70/expr.ipynb\"><img src=\"data:image/png;base64,iVBORw0KGgoAAAANSUhEUgAAAAsAAAAJBAMAAAAWSsseAAAAMFBMVEX///8AAAAAAAAAAAAAAAAA\n",
       "AAAAAAAAAAAAAAAAAAAAAAAAAAAAAAAAAAAAAAAAAAAv3aB7AAAAD3RSTlMAEHarMolUmd1mIs3v\n",
       "RLtmgJDEAAAACXBIWXMAAA7EAAAOxAGVKw4bAAAAQklEQVQI12NgEFIWCU1gYChgMmJvYOBcwPmR\n",
       "eQIDCwP7BgYQ4FEAU/cXMAowyF2wYWBlYMh3rGG4xsAgrsRWmcAAAFEjCyBvD0T9AAAAAElFTkSu\n",
       "QmCC\n",
       "\" style=\"display:inline;vertical-align:middle;\" /></a> : <a class=\"ProveItLink\" href=\"../../../../../../__pv_it/common/a0d9d672aa5e272d907247690c152cc2c6daafb70/expr.ipynb\"><img src=\"data:image/png;base64,iVBORw0KGgoAAAANSUhEUgAAAAsAAAAJBAMAAAAWSsseAAAAMFBMVEX///8AAAAAAAAAAAAAAAAA\n",
       "AAAAAAAAAAAAAAAAAAAAAAAAAAAAAAAAAAAAAAAAAAAv3aB7AAAAD3RSTlMAEHarMolUmd1mIs3v\n",
       "RLtmgJDEAAAACXBIWXMAAA7EAAAOxAGVKw4bAAAAQklEQVQI12NgEFIWCU1gYChgMmJvYOBcwPmR\n",
       "eQIDCwP7BgYQ4FEAU/cXMAowyF2wYWBlYMh3rGG4xsAgrsRWmcAAAFEjCyBvD0T9AAAAAElFTkSu\n",
       "QmCC\n",
       "\" style=\"display:inline;vertical-align:middle;\" /></a>, <a class=\"ProveItLink\" href=\"../../../../../../__pv_it/common/ff7dba4ef0bbe791ab573bf2d9c220a304399ac80/expr.ipynb\"><img src=\"data:image/png;base64,iVBORw0KGgoAAAANSUhEUgAAAAsAAAANBAMAAACN24kIAAAAMFBMVEX///8AAAAAAAAAAAAAAAAA\n",
       "AAAAAAAAAAAAAAAAAAAAAAAAAAAAAAAAAAAAAAAAAAAv3aB7AAAAD3RSTlMAEHaZZquJVO8y3btE\n",
       "zSKD2s2pAAAACXBIWXMAAA7EAAAOxAGVKw4bAAAAVklEQVQI12NgVHZgEGVgYGNvYPBnYJjOvIAh\n",
       "moFBgEOBoYmBgeG8AOdPIGXLwNQApLYycAcAKVOG8w5ASjTJ/gEDCOQCMdsFxnYgxaXAmgCk2J1s\n",
       "gCQAaFoNDtFIIdEAAAAASUVORK5CYII=\n",
       "\" style=\"display:inline;vertical-align:middle;\" /></a> : <a class=\"ProveItLink\" href=\"../../../../../../__pv_it/common/ff7dba4ef0bbe791ab573bf2d9c220a304399ac80/expr.ipynb\"><img src=\"data:image/png;base64,iVBORw0KGgoAAAANSUhEUgAAAAsAAAANBAMAAACN24kIAAAAMFBMVEX///8AAAAAAAAAAAAAAAAA\n",
       "AAAAAAAAAAAAAAAAAAAAAAAAAAAAAAAAAAAAAAAAAAAv3aB7AAAAD3RSTlMAEHaZZquJVO8y3btE\n",
       "zSKD2s2pAAAACXBIWXMAAA7EAAAOxAGVKw4bAAAAVklEQVQI12NgVHZgEGVgYGNvYPBnYJjOvIAh\n",
       "moFBgEOBoYmBgeG8AOdPIGXLwNQApLYycAcAKVOG8w5ASjTJ/gEDCOQCMdsFxnYgxaXAmgCk2J1s\n",
       "gCQAaFoNDtFIIdEAAAAASUVORK5CYII=\n",
       "\" style=\"display:inline;vertical-align:middle;\" /></a></span></td></tr><tr><td><a name=\"0x233684da9015fa64_step5\">5</a></td><td>axiom</td><td></td><td><span style=\"font-size:20px;\"> <a class=\"ProveItLink\" href=\"../../../../../booleans/_theory_nbs_/axioms.ipynb#eq_true_intro\" style=\"text-decoration: none\">&nbsp;&#x22A2;&nbsp;&nbsp;</a><a class=\"ProveItLink\" href=\"../../../../../booleans/__pv_it/axioms/af7fcd0228bc2f434dd8febb9d8c4f56a07241be0/expr.ipynb\"><img src=\"data:image/png;base64,iVBORw0KGgoAAAANSUhEUgAAAIwAAAAXBAMAAAArT7qNAAAAMFBMVEX///8AAAAAAAAAAAAAAAAA\n",
       "AAAAAAAAAAAAAAAAAAAAAAAAAAAAAAAAAAAAAAAAAAAv3aB7AAAAD3RSTlMAq1RmmUTNIjK7EInv\n",
       "3XZ/CtNrAAAACXBIWXMAAA7EAAAOxAGVKw4bAAABqElEQVQ4y2NgIAIU4JdmZyAK8CmAqTJc8qwP\n",
       "GBgEQAxlvMZoQ6h8dHGWu2AgwPCYgcEVJJCOzxSuBDDF9B+LHNMDEMm2gKER5LkJ+IxhMYBQ8gW4\n",
       "jGF2AJnEwK2AzxgeCLV9fwMuYxhOMTAD7WLDGzRqkOh48F4BpzHJDAxn7949jdcYb4ifGPQNcBqz\n",
       "kYHBg4FhFpi9AKocChbAGMlgMoihfwNK9CAbY8bAUMjADhbjOgEW4YTFzwmYMZfApANDvQBO1+gA\n",
       "9S3gDgAxuT+hGAPlAsFRcBKc4iI/Aacx/SAWJIQjzqEYA+XCjFnHwMB/AacxMUCcYAdmPkhEMQbK\n",
       "hXnKgYGB9wDOsNEF4k1ZYFczuCEbA+MCwTxQtgEliw84XWMJxDVgkyMY3iAbA+NCYpOhBiTzHacx\n",
       "oDTBCE6d3rvlFyAZA+MCQS8Dw8r/WQxM879twMzckLR0FV4YMDDUNyCMgXOBgLeBUEnCDg/8YGBM\n",
       "KCCMgXMhGY8AYIGlb5aDDFz+qXBjEFwQmE7ImEpMIU5MoZWEjJlOlDHsDwgUsgVEGUMOYCdLFwD3\n",
       "G2avyaI3nAAAAABJRU5ErkJggg==\n",
       "\" style=\"display:inline;vertical-align:middle;\" /></a></span></td></tr>\n",
       "<tr><td>&nbsp;</td><td colspan=4 style-\"text-align:left\"><a class=\"ProveItLink\" href=\"../../../../../booleans/_theory_nbs_/axioms.ipynb#eq_true_intro\">proveit.logic.booleans.eq_true_intro</a></td></tr><tr><td><a name=\"0x233684da9015fa64_step6\">6</a></td><td>assumption</td><td></td><td><span style=\"font-size:20px;\"><a class=\"ProveItLink\" href=\"../../../../../equality/__pv_it/theorems/8dc625ee9fbf5f96228c059ed58b16ec83d4e40d0/expr.ipynb\"><img src=\"data:image/png;base64,iVBORw0KGgoAAAANSUhEUgAAADMAAAANBAMAAAD2/0vEAAAAMFBMVEX///8AAAAAAAAAAAAAAAAA\n",
       "AAAAAAAAAAAAAAAAAAAAAAAAAAAAAAAAAAAAAAAAAAAv3aB7AAAAD3RSTlMAEHarMolUmd1mIs3v\n",
       "RLtmgJDEAAAACXBIWXMAAA7EAAAOxAGVKw4bAAAAmUlEQVQY02NgEFIWCU1gQAGM6hMYhIF0AZMR\n",
       "ewOQZu8AAwMgk5XtAMN8BgbOBZwfmSeg6nIDqrVjYGBhYN/AgAYEeBQYDoEYQBod3Bdg+QKmFzAK\n",
       "oNrFUM3AdICBQe6CDQMruq7HDHxAJfmONQzX0KWKGe4DXSauxFaZgC4lHFS/gAEXiMYhzrqB8RgO\n",
       "KQ4F5gAcUmyTaoEkAEh8IT7vWgQmAAAAAElFTkSuQmCC\n",
       "\" style=\"display:inline;vertical-align:middle;\" /></a> <a class=\"ProveItLink\" href=\"../../../__pv_it/_proof_in_singleton_eval_true/276c4ebb34a4a5319cb0cc822d5c4c4923b4578f0/proof.ipynb\" style=\"text-decoration: none\">&nbsp;&#x22A2;&nbsp;&nbsp;</a><a class=\"ProveItLink\" href=\"../../../../../equality/__pv_it/theorems/8dc625ee9fbf5f96228c059ed58b16ec83d4e40d0/expr.ipynb\"><img src=\"data:image/png;base64,iVBORw0KGgoAAAANSUhEUgAAADMAAAANBAMAAAD2/0vEAAAAMFBMVEX///8AAAAAAAAAAAAAAAAA\n",
       "AAAAAAAAAAAAAAAAAAAAAAAAAAAAAAAAAAAAAAAAAAAv3aB7AAAAD3RSTlMAEHarMolUmd1mIs3v\n",
       "RLtmgJDEAAAACXBIWXMAAA7EAAAOxAGVKw4bAAAAmUlEQVQY02NgEFIWCU1gQAGM6hMYhIF0AZMR\n",
       "ewOQZu8AAwMgk5XtAMN8BgbOBZwfmSeg6nIDqrVjYGBhYN/AgAYEeBQYDoEYQBod3Bdg+QKmFzAK\n",
       "oNrFUM3AdICBQe6CDQMruq7HDHxAJfmONQzX0KWKGe4DXSauxFaZgC4lHFS/gAEXiMYhzrqB8RgO\n",
       "KQ4F5gAcUmyTaoEkAEh8IT7vWgQmAAAAAElFTkSuQmCC\n",
       "\" style=\"display:inline;vertical-align:middle;\" /></a></span></td></tr>\n",
       "<tr><td><a name=\"0x233684da9015fa64_step7\">7</a></td><td>conjecture</td><td></td><td><span style=\"font-size:20px;\"> <a class=\"ProveItLink\" href=\"../singleton_def/thm_proof.ipynb\" style=\"text-decoration: none\">&nbsp;&#x22A2;&nbsp;&nbsp;</a><a class=\"ProveItLink\" href=\"../../../__pv_it/theorems/296779bc6f9fdbba88287df23d1773ef33af3efb0/expr.ipynb\"><img src=\"data:image/png;base64,iVBORw0KGgoAAAANSUhEUgAAAO8AAAAWBAMAAADaw9ZbAAAAMFBMVEX///8AAAAAAAAAAAAAAAAA\n",
       "AAAAAAAAAAAAAAAAAAAAAAAAAAAAAAAAAAAAAAAAAAAv3aB7AAAAD3RSTlMAq1RmmUTNIjK7EInv\n",
       "3XZ/CtNrAAAACXBIWXMAAA7EAAAOxAGVKw4bAAADHklEQVRIx71WTWgTURCebHbTzW4bg56iUgIW\n",
       "LyIGKYiXthL8Q6tF0EMPbVBE6EFSEQ9apXrUCvUggmDZQhGrUmoPBRFKEARBlCgoeghspVr0EMRL\n",
       "S0/OvDdJs2/fBvHggy87u/t9b/Jm5s1bgMhRZISHc5KNC1Gcln+ZlkcqK6EZ3/vZsDMewICG8TV6\n",
       "3gFGmm62aQg7GOFhrNXNJMpTuTBjtsmCchL76eacJpwFCc1wy0FzKMR42CyUQxLXKSPj4ddmTuIv\n",
       "HHeGGPlmjjslEpglV5PKVkZDjB5UPmkdt3qquNTMMdERcVxVQvN6O6M+rPNexIoTamCMQjPHRCe8\n",
       "rVTeaF4fYcwsPnohAnLJa/TmLOVgkh27aTVNWFtOdfOtOaVsWJOWOARwX+P4DKMn1W6WgwVo4oJc\n",
       "owTdGH4KalwssLdC431tTSYs+r3B56whOmEYWtIaxx8k4sX4WkyEcj18I3h/A/9NBsvyN0VWTWkb\n",
       "hmgPdHubgo9ZQ3RC0nP7NI5fSdhifdQrMCWVL2QNn8Ufr9WHd3idPI2vfqnlgxOOwgF1StYQnWD4\n",
       "utqqOcZZfJmg+pazD1O2Bz17FS/z6MMqaRyD+F/BITVEF5JCF/5UDy5hA7UWIRYMNbKLjiircqBd\n",
       "4Xoov6KJGWUlxxRqsFbgsfKcNWWWzGEbSRUzCWTPbPDGePYJiem+reCKB9XgHroj/LuiuNT+k/TB\n",
       "uRsrgdo4pYboQjJCNzBho3l5J/xg0jOJXTePwgm5/bIBx/tgMMemqTrAzWKsTpUstS9JDdGFJDZK\n",
       "D1fEqy3QzqTbElNVIy/1Tqa/0fHkwvEim21qcdplcI75HbvVHEsN0dcldkkcoR/hdW1LjEo0tK7n\n",
       "wZY5XzOvhqroc1TXmmd6XTLiFkx4ggqrtjXiPRIRh4RbcF7WHOe154BGJzX5Ron5beEnjGWhY2+9\n",
       "T9xjaE5UrKg2PzbLTUxztiW1nxhSQ3RVknWKyXrDn2ZovmuwXRld4iB/mtN6cca1HxBCQ3RFYnkx\n",
       "/9T69L6EZlzcyMYVMpY1jGvRh9NyWBIHq2sW/tP4A/5b5tR9MfwTAAAAAElFTkSuQmCC\n",
       "\" style=\"display:inline;vertical-align:middle;\" /></a></span></td></tr>\n",
       "<tr><td>&nbsp;</td><td colspan=4 style-\"text-align:left\"><a class=\"ProveItLink\" href=\"../singleton_def/thm_proof.ipynb\">proveit.logic.sets.enumeration.singleton_def</a></td></tr></table>"
      ],
      "text/plain": [
       "\tstep type\trequirements\tstatement\n",
       "0\tgeneralization\t1\t|- forall_{x, y | x = y} ((x in {y}) = TRUE)\n",
       "1\tinstantiation\t2, 3, 4\t{x = y} |- (x in {y}) = TRUE\n",
       "\tP(_a) : _a = TRUE, x : x in {y}, y : x = y\n",
       "2\ttheorem\t\t|- forall_{P, x, y | P(y), x = y} P(x)\n",
       "\tproveit.logic.equality.sub_left_side_into\n",
       "3\tinstantiation\t5, 6\t{x = y} |- (x = y) = TRUE\n",
       "\tA : x = y\n",
       "4\tinstantiation\t7\t|- (x in {y}) = (x = y)\n",
       "\tx : x, y : y\n",
       "5\taxiom\t\t|- forall_{A | A} (A = TRUE)\n",
       "\tproveit.logic.booleans.eq_true_intro\n",
       "6\tassumption\t\t{x = y} |- x = y\n",
       "7\tconjecture\t\t|- forall_{x, y} ((x in {y}) = (x = y))\n",
       "\tproveit.logic.sets.enumeration.singleton_def"
      ]
     },
     "execution_count": 6,
     "metadata": {},
     "output_type": "execute_result"
    }
   ],
   "source": [
    "%qed"
   ]
  },
  {
   "cell_type": "code",
   "execution_count": null,
   "metadata": {},
   "outputs": [],
   "source": []
  }
 ],
 "metadata": {
  "kernelspec": {
   "display_name": "Python 3",
   "language": "python",
   "name": "python3"
  }
 },
 "nbformat": 4,
 "nbformat_minor": 0
}