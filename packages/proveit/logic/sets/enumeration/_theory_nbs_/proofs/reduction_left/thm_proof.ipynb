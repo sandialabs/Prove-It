{
 "cells": [
  {
   "cell_type": "markdown",
   "metadata": {},
   "source": [
    "Proof of <a class=\"ProveItLink\" href=\"../../../../../../_theory_nbs_/theory.ipynb\">proveit</a>.<a class=\"ProveItLink\" href=\"../../../../../_theory_nbs_/theory.ipynb\">logic</a>.<a class=\"ProveItLink\" href=\"../../../../_theory_nbs_/theory.ipynb\">sets</a>.<a class=\"ProveItLink\" href=\"../../theory.ipynb\">enumeration</a>.<a class=\"ProveItLink\" href=\"../../theorems.ipynb#reduction_left\">reduction_left</a> theorem\n",
    "========"
   ]
  },
  {
   "cell_type": "code",
   "execution_count": 1,
   "metadata": {},
   "outputs": [],
   "source": [
    "import proveit\n",
    "theory = proveit.Theory() # the theorem's theory"
   ]
  },
  {
   "cell_type": "code",
   "execution_count": 2,
   "metadata": {},
   "outputs": [
    {
     "data": {
      "text/html": [
       "With these <a href=\"allowed_presumptions.txt\">allowed</a>/<a href=\"disallowed_presumptions.txt\">disallowed</a> theorem/theory presumptions (e.g., to avoid circular dependencies), we begin our proof of<br><strong id=\"reduction_left\">reduction_left:</strong> <a class=\"ProveItLink\" href=\"../../../__pv_it/theorems/dd42852f2cf04d4cc14ceae7663c2a9a5912690b0/expr.ipynb\"><img src=\"data:image/png;base64,iVBORw0KGgoAAAANSUhEUgAAA28AAAAzBAMAAADyRS3eAAAAMFBMVEX///8AAAAAAAAAAAAAAAAA\n",
       "AAAAAAAAAAAAAAAAAAAAAAAAAAAAAAAAAAAAAAAAAAAv3aB7AAAAD3RSTlMAq1RmmUTNIjK7EInv\n",
       "3XZ/CtNrAAAACXBIWXMAAA7EAAAOxAGVKw4bAAALC0lEQVR42u1cfYxUVxU/87HzZt587CoJ0bZZ\n",
       "R20xQYENJNgSXabSWosFJtSo8YuxSprwTwfSpIFKd2qIaewi09TGLlHz0Nqyuy07hYoNCGzbNNg0\n",
       "xbHWaMA1sy0JCnRLqO2Sbex6z7nv477Pebszu8xbuMnu3HPueb+97/7evffc884OgL8iDwwocLW0\n",
       "RpkKGenJyVzL3UCidIUx1s/5SkxOln0Tl2/B+5h3pU21+Em1Egk0caGKWf5dfm7Qs6Xo2rRoThC3\n",
       "3CxmNs6RXTj+cdcbSXbMAeKk42Z5SfN4k39ZdZXqWTdj7+5wbfrrHCAuXTPLR5qIHcu5S/WsGy9J\n",
       "9wfhc0rwifsCzBxx7Vl3qZ71jBKnPiOBJu7VGSRug+Iu1bOeUeLaxgNPXGZiBok7MiXkIzBrxMH3\n",
       "A09cusNh+KRrz4g7n0V0cHBEA3nsmof3q8Mz9lFxsEySw2CK7QIKHH1LCBEkx270viPd2os47oIF\n",
       "mbhd1rDJl9nPd4oJcSJaRHvhBk9xIQqjtTV88N9XhozDlFly8Cp5e8mKAtuzUWOApdfhds++GNaZ\n",
       "YfpYM4LlL2aroVrQibvOOnleYkP4EkSrIGsHPC4OPnuN65CTARzl0udhpcKDMeEJSNV0GJI8UKgd\n",
       "4B9WFDgloqQrcEI+/BH37RCtI/+iW7nocVSoBp24Fyy8zWc9jF7A8fnZ26qOizlY44bBDbRSoklL\n",
       "+gK0VwwYlLxQsN0JBWe7jrJOwdkYdV0FyRpepvqeu1xvOzIecOLi71oUO3YDpMowlDcCQ1x8D3pK\n",
       "LiCqvV5OGLNjQ1aHIckDhVvbUVI0uhrKK3huyEuXwL0v7PG7QPWD7qMtvxtw4jLjVs0jtAGsFMaK\n",
       "iyvch5wbfK/D8LUHtIMZmyCLjGPaOsUDhdrl01krCt+OVBT5QxxvxZ04so6UH6jQ2uu6x/GVJsDE\n",
       "JYYdnPKhLMwPF2mscC9RRWyxby2yZrCtNkHt8mOhYaiQvr3Edj8dhkvuKNQeDRdsKF0AeR2FzZQ2\n",
       "7jC6oKB16MzC48xo2OPGfxVw4lJlB+IStfAbURpx+X3QxfhJLg4VVL0ukYH0myppwpeeGG7Lkj7U\n",
       "lcgZMFxyR6H2gWTOisKcxGRJR2Eu5fMAOxULClYM69Sb6Jx6HQfgmEocLROf9kNciDyorhYhbijn\n",
       "QJzc+fzmf/OpMqLo4laFi2m85A1Qf6VPagaJGrXLa2vXL1X1164CAYYkDxRqj3VZUeDwsrMGSvJA\n",
       "twLSbrCgUEW37rmlVOccByvznLhbUbjbD3FRvCJWbJVjXM09foFjFdYXJCknFQVRLwv1Z2CvaG7o\n",
       "TTB1UdqLPlDuhfvAC+WmtmqxDnG7+F4ID2Knyn6Ii+Pk3NoqS+WSrDdxSV3a+tAORRD1onvwC6Ki\n",
       "uaE3wdRF6YX6KNLjD60GL5TOeLVShzhaahhxMZzFWV973Cb2ub9ViFtp8/HOa5X772En6n26/s+T\n",
       "k6KoOwT6lN1zRmzX9WaYuiijUB8lNTl5wRPlFzCvRAdD99LewYmLsKU55s85WcY+C61C3Du2NbvH\n",
       "9PhZVlJ7yDLj0p7xuM4L5QdNQaHytJcj0V5WvcrXRkZe9UdcamTkn5VWIe6YbaOQbs5evu7Evjnc\n",
       "NKz7PUPaqYJK3FcAmKsjF9V4jQdx0RIklFYhbl3L9IQHrE7PVn/SVZW4zSCxVTPJ5y8GSr+oTeXt\n",
       "X81HXhCIY3abp/GXflK215xap1Y+AVdoSQ+rxCWUpPlwnUIxPtqXD3ccgtXiAXw3/H4af8nIogtV\n",
       "vFqvEjc14sI1i2/Sg7/wIBjujup+KhG3eFq+Sapkrzm1BnqpnEXitKUSCt0AbaPklVKg9CbpHGTQ\n",
       "rwn/+Bs1E3GxCFtF5QPnNIdusPsPdmBDmTn9wG14YhzT3mQZNeE8aeiOdmu15Ft2z8uiO2aPBAQ6\n",
       "IVb6jN95oDknsJ+dz/a14wNMgVLo3PJ0sZ/CW6VDN5iISy5gVs8Ud6ljJv89Pm4/khjKM6Eyvld6\n",
       "WzmtKoyaUQxdOt+rKf8Wt/toTCe8T4Z3bDM14AmxD+72SVyHRtyPWG0bvXzAQCnAiWwc7uTERTNl\n",
       "kTgJXZVbMEawlXjOsfFdf9r8nJMS6LKuRA1H91FYzu2x1rb4VnM/sJXvpLfDXtUuWpZLNlymC+e8\n",
       "DuANJ8T2v+Yu1bNuQnnEn1l7TiMuhEPwa34aYSuk9F92QFje19eXDZfkSkEkDj4G+I52FOKLFPJi\n",
       "Mh0wLF+wuDaZDjF8B/AnuJnbYy0FQ+Z+MJ1aexlUXHKP7LiMPOFguiTvHvKabvmhh1TPuvHis/9D\n",
       "FRBe68gTJW2kI+XvSvAwn3GwvmYiDi3H4dEBSOMADxUTK5SiZVUj5WdravgOmbsAL3J7rEnQa+4H\n",
       "ti6jmYQrLLfDblhxURe7b8zYG7uaT9xFD6me9awRpwWZeQkXcnIFR3oQQrWdSX7QjuRBnz3G+7jj\n",
       "8fdW4AAPQqq4604FEnlWZRerv0j5qRwTpOGDgKgn2V9h9moNHgPDnuukbQVUbIQkETcIsTzzZi24\n",
       "qGvf0m9eMZpLXNuEu1TPevaIo+i6MeM6i/EXMVDam00UQzeC9DhT7rwbwE7c15ae68IB7s22rVp8\n",
       "gCIvvdn4cegt4i+uTJSAwa399pjCPnaM0UxSa9GSYK/qIhVsvXfZWSKuNyut6lasuKjbJTil6ULT\n",
       "iTMH5ZPVqVjPHnEUpDW9AQ9ToFSN9w329eWtIS9RVDTLpFLTLwKt9kyY4FRU1Z7XDmVAsOe6UF60\n",
       "461OuOe2P2Uc3IedbryhhNhY56gQ7TRLDtFJU/u+0b2HVdGc+GrKiXXiX7f2SRxFHkzEfQsDpW2K\n",
       "e6zSKPHz+zXLeyarwkVqLXGWwamomj2vxSb/B4I9N0qb7HirE+5tyaV6FyK2larhhNihTbJwvDFL\n",
       "Dk4CtcdVKZfpVDPvzImvppxYpyfHsD7vj7hXbMR1YaA0An6Io2udqoKyy/RhqkXMujevd2l1xNWe\n",
       "Hatv0HhCLDtPnIDfFozThWcCK1lDms+nSDEyEeK3gImvBsop71xabs2jwz1ZXwf1D23EeQdaZjAq\n",
       "8cncdK5qfkIsm7IfxMeqguSVwIrtxmNkvPzEWJyOQlmuHh3gkTuKDoM83w9zgU+IhTsscuMJsaeg\n",
       "7SKEq4LklcBK1gJUTVzKNBTKRfPoALfu4bvdRj+3HQp8CvqGvD3y0FhC7EWcIDpxKHklsJL1vi/p\n",
       "3SnKtKpS4quOQlmuHh3g1hgd9hv5aa8Fnbh0zu5VNpQQC5cwZwCHHJu4hE6/bP/bunVuAbfuz1+H\n",
       "OUCop8RXDYXnxFLmoDMKWWN0GOCPvm57pRJ04iIO/9jYUEIszIOf87lCSaokYQKrKXfVuB7bZeU5\n",
       "rl7y0ztgvZD4qqHwnFj8ehIXFLLG6LDf4wDPSJ9r/0rcUEIs7HmuixNH+akkYQIrSXruKl2vW+PJ\n",
       "F9ufGAuvygqJrzoK5cRiB1xQ0Jqiwz6JmwP/SqwuGk6Rh0YSYml30psogXWh7VIDbVy0dkGhDnig\n",
       "UHTYJ3HqN2kEmrhYxYu46SbE0pBrTTyB1Z5coVtTJLxi15tQqAMeKBQd9kmc+j0BgSYubvmCmqYk\n",
       "xEoHP6gZTZTAKtujZjoaBuGFdmcU6oAHCkWHQf9/SM/yOgSfOPiPWWxSQqytKWP/y7o1vsDMNIyi\n",
       "RXHqlznxlVDWBLHLkBC7sbdpUNKzfnr/dZgycSta8ItG77rcHVi7epZ3h018cg7s80/c1S8abYHy\n",
       "JJ88+EWj/wen5V7j90QEmQAAAABJRU5ErkJggg==\n",
       "\" style=\"display:inline;vertical-align:middle;\" /></a><br>(see <a class=\"ProveItLink\" href=\"../../../__pv_it/theorems/251f6a61118209d024e9fae6de531c317e4779cc0/dependencies.ipynb\">dependencies</a>)<br>"
      ],
      "text/plain": [
       "<IPython.core.display.HTML object>"
      ]
     },
     "metadata": {},
     "output_type": "display_data"
    }
   ],
   "source": [
    "%proving reduction_left"
   ]
  },
  {
   "cell_type": "code",
   "execution_count": null,
   "metadata": {},
   "outputs": [],
   "source": []
  }
 ],
 "metadata": {
  "kernelspec": {
   "display_name": "Python 3",
   "language": "python",
   "name": "python3"
  }
 },
 "nbformat": 4,
 "nbformat_minor": 0
}