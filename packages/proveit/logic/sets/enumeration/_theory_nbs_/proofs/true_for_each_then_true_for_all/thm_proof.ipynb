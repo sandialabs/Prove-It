{
 "cells": [
  {
   "cell_type": "markdown",
   "metadata": {},
   "source": [
    "Proof of <a class=\"ProveItLink\" href=\"../../../../../../_theory_nbs_/theory.ipynb\">proveit</a>.<a class=\"ProveItLink\" href=\"../../../../../_theory_nbs_/theory.ipynb\">logic</a>.<a class=\"ProveItLink\" href=\"../../../../_theory_nbs_/theory.ipynb\">sets</a>.<a class=\"ProveItLink\" href=\"../../theory.ipynb\">enumeration</a>.<a class=\"ProveItLink\" href=\"../../theorems.ipynb#true_for_each_then_true_for_all\">true_for_each_then_true_for_all</a> theorem\n",
    "========"
   ]
  },
  {
   "cell_type": "code",
   "execution_count": 1,
   "metadata": {},
   "outputs": [],
   "source": [
    "import proveit\n",
    "theory = proveit.Theory() # the theorem's theory"
   ]
  },
  {
   "cell_type": "code",
   "execution_count": 2,
   "metadata": {},
   "outputs": [
    {
     "data": {
      "text/html": [
       "With these <a href=\"allowed_presumptions.txt\">allowed</a>/<a href=\"disallowed_presumptions.txt\">disallowed</a> theorem/theory presumptions (e.g., to avoid circular dependencies), we begin our proof of<br><strong id=\"true_for_each_then_true_for_all\">true_for_each_then_true_for_all:</strong> <a class=\"ProveItLink\" href=\"../../../__pv_it/theorems/2a3d660a558dc497f469ec93205d50605fbedf0e0/expr.ipynb\"><img src=\"data:image/png;base64,iVBORw0KGgoAAAANSUhEUgAAAmQAAAAZBAMAAABtHC+5AAAAMFBMVEX///8AAAAAAAAAAAAAAAAA\n",
       "AAAAAAAAAAAAAAAAAAAAAAAAAAAAAAAAAAAAAAAAAAAv3aB7AAAAD3RSTlMAq1RmmUTNIjK7EInv\n",
       "3XZ/CtNrAAAACXBIWXMAAA7EAAAOxAGVKw4bAAAGP0lEQVRYw+1ZXWgcVRQ++zM7s7PJdoMFjaJs\n",
       "MdZgMSwxUai1riSxQVGC8SVtlUUEMaBuX4rV2EYfhJKQrErQ9cFMVYQ2SGOiiBFlaZGIxbIWsUVc\n",
       "2LRRSWvXPFhTDRrv38zcOzN73Qxrn7ywmZNzz88335z7M3cAZC1QOg3+2vWlLFzB5h9obS1eOgVw\n",
       "sZSkgqxFfOfIwBVtkf8iqMqu5OHfhn6hFBP+p6xKO8uujzooS+D/b6yORNovo8yno2/K6pVvae2V\n",
       "5scNJASnzVGZEinrwconqiOR9sso8+nom7K65fsdIPoVur5naQZFyl7EgzZXHYm0X0aZT0fflNUr\n",
       "n/Y3KjD0gy5L1SFSFkE1GEtWRyLtl1Hm09E3ZfXKF7+MfqtIKFiqBkOgDF8iEiTSfhllPh19U1av\n",
       "fNFl9EO0Be0VLJISV8yvS6UTsoVI1i9dMf05+l8x65RvAxrc42WAMJr99cq1IzOoeBMiZb0Ab8qQ\n",
       "yPqllPlz9E9ZnfIhup4/xUorDAvlBxBVGZGyPaAmZEhk/VLKHI5hof9me+6ooi97Bw5ybxVlOdA7\n",
       "U7XjHbnPlH697tNOfG1E8+IdcLdxFcpZECmLGrE+fsv77UewLcEhcfTXThl1VCbvv+dqMkfQjoHf\n",
       "PmzKQogLmfbWh50hqUWn51PwAqoV1gP4A1OYNOd8FGwY7iWRlkXKgmV70hxrnoBNMSNscEj4/nVR\n",
       "xhzvAviMoyxUhFgRDnGmu7z1yrQjJLHQ+UKyTRxAtYV8Hz9/19A2c9syizKAkySPo8ogs916ar14\n",
       "A11Ox4T3ELt/nS9M1HEjqnWOskAa4st032kmMbz1g85Xb2wRFgppsArQ7mEAn5Rpq0zAAxOUFTiC\n",
       "IhUdlM2gxKGusUWAc9i09ab9ImW4H6a2f8x0+uwF9yGFS5kxHeEYwDccZQ1JaExAkXOhmylLb2Wa\n",
       "ceQgFo0Clhk30MqOxSx5wyGU2aa8aDdbaVIWv2RuNsqgTwQKgCo5lHNQNoRq/Z3dqYasTvbOrbG3\n",
       "dwlIcL9+Wlthuvez427KXMoMcwT1T9iT5ig7YKgbQc1wLsE0r7cztThyEIu9ApYWF9B4tjmSPEwH\n",
       "Mh+MF7knbSsfMSMtMwHtLIKX3y0oSbrfECgLoCp+7ifYYCjk4bRCeklAgvvDaTSZqmQN74ZRUNp6\n",
       "xNxY6aIMO0LoZOUW4CjbVjlrgJJjLvvQoFRyvJ5kemgRjb8Bx/0RiwGGha0ILqAheEuDfqJ7eZiH\n",
       "bcfl1w87VOQ81Uz+wdZhrQj6g+WWdjxG+7wOf26A3RB6Mp9/FVE2FXGdqTT0xRPw0vdY/AIWoAGO\n",
       "ireDld6HPwFzvmaUNZHCSlAX7VZEmZbj9SRTQUfP+qCDMmKxiWGh7aDH4Q8qm9vz+XxSazJ42HZc\n",
       "fqzboYJPO0vwjCW94Hle9iV0a9o0rTKlzYXkaDa61QCcW1+B146ojqIiylBP+7SbsoaUSNlx8gRz\n",
       "1AUaDXNgmnqSKYsfvnNgHmckEYuO/i2ugcm2FiqM0FkpwcHm4nKNCzXkGrUdltTlRZm6DGda6eYZ\n",
       "bXwW3FWWHe/HufVpmNcubQWYwOKU9Qcrg0t49nZSdiArUKbSuQMZkjiYsngZBbD0NFMUDYWKmIJa\n",
       "NDIsbTm8EFRcQIdimTDaobHp34SNIlhxp7iwXKjN7pdNEzk5H3FRpiTgQgr2oclA+y4LARcSpatt\n",
       "FlBu7Rg83I4sw8NYHM1q8/gPU16jZlyUxSfnBMqWVsntvA7UBVMWxQEsPc3US2QhBbVA90EsAsN7\n",
       "aRgH0PCPn58H9Q1GmQkbRpNW3NEkjThvKmkoN2V6jueuykG2/kl+QnY+jHIHqTQXt0SwpGK806h+\n",
       "kB0F1/YVCGWHuVBMHzPKBLErhbV7bYRzO+2bcgKdyvNbWTwwk1ZcsA+IknYoD8pgP7v+7P/sf+xE\n",
       "EnZS/dpfwETcqKQngrNQI2VhWvTaL2hntYMLxfTPrBWJ6EwBxBq3Q7AlZVpXOftXijZsxbDiKtZj\n",
       "ZRIJ5UWZ0Px/Lkl5ialaPpcIlMGc/R7Uxwew9Z3eKWIGCCaSzyXcGhjyEkP8C+lj9aLM9+fBp1zf\n",
       "MVVxDvCQxP+MKpENL9ETqLaOM9pn/+WotoTW64s/pLDwD0LO9cXuvvrrAAAAAElFTkSuQmCC\n",
       "\" style=\"display:inline;vertical-align:middle;\" /></a><br>(see <a class=\"ProveItLink\" href=\"../../../__pv_it/theorems/750bb93e85f42a1abcd0369c72a8d416fb3b42c20/dependencies.ipynb\">dependencies</a>)<br>"
      ],
      "text/plain": [
       "<IPython.core.display.HTML object>"
      ]
     },
     "metadata": {},
     "output_type": "display_data"
    }
   ],
   "source": [
    "%proving true_for_each_then_true_for_all"
   ]
  },
  {
   "cell_type": "code",
   "execution_count": null,
   "metadata": {},
   "outputs": [],
   "source": []
  }
 ],
 "metadata": {
  "kernelspec": {
   "display_name": "Python 3",
   "language": "python",
   "name": "python3"
  }
 },
 "nbformat": 4,
 "nbformat_minor": 0
}