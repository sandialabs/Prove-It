{
 "cells": [
  {
   "cell_type": "markdown",
   "metadata": {},
   "source": [
    "Proof of <a class=\"ProveItLink\" href=\"../../../../../../_theory_nbs_/theory.ipynb\">proveit</a>.<a class=\"ProveItLink\" href=\"../../../../../_theory_nbs_/theory.ipynb\">logic</a>.<a class=\"ProveItLink\" href=\"../../../../_theory_nbs_/theory.ipynb\">sets</a>.<a class=\"ProveItLink\" href=\"../../theory.ipynb\">enumeration</a>.<a class=\"ProveItLink\" href=\"../../theorems.ipynb#true_for_each_then_true_for_all_conditioned\">true_for_each_then_true_for_all_conditioned</a> theorem\n",
    "========"
   ]
  },
  {
   "cell_type": "code",
   "execution_count": 1,
   "metadata": {},
   "outputs": [],
   "source": [
    "import proveit\n",
    "theory = proveit.Theory() # the theorem's theory"
   ]
  },
  {
   "cell_type": "code",
   "execution_count": 2,
   "metadata": {},
   "outputs": [
    {
     "data": {
      "text/html": [
       "With these <a href=\"allowed_presumptions.txt\">allowed</a>/<a href=\"disallowed_presumptions.txt\">disallowed</a> theorem/theory presumptions (e.g., to avoid circular dependencies), we begin our proof of<br><strong id=\"true_for_each_then_true_for_all_conditioned\">true_for_each_then_true_for_all_conditioned:</strong> <a class=\"ProveItLink\" href=\"../../../__pv_it/theorems/ab920a3b7ef31e3e523741e323f77384ef424b450/expr.ipynb\"><img src=\"data:image/png;base64,iVBORw0KGgoAAAANSUhEUgAAA4MAAAAZBAMAAAB5rOZxAAAAMFBMVEX///8AAAAAAAAAAAAAAAAA\n",
       "AAAAAAAAAAAAAAAAAAAAAAAAAAAAAAAAAAAAAAAAAAAv3aB7AAAAD3RSTlMAq1RmmUTNIjK7EInv\n",
       "3XZ/CtNrAAAACXBIWXMAAA7EAAAOxAGVKw4bAAAIsUlEQVRo3u1ae4hc1Rn/5nXvnTuzkwmVqinK\n",
       "hMYYKm6H6FoIVkfidtWiLCqCrspq/7CGqje0iClrskopBEOytI1h02KubSnERV2zPjA+mEYkgijT\n",
       "p7I4MNFYG1PXFVqiLTX9vvM+97G4t+2WbXvYu+fM+c73+x6/e88958wALFDO6AaQqeS6b8B/f/kP\n",
       "Rlnr/hrgg26DXQuV0awWHPhfKEsdpStq9lydh1ehya//U7hconxb1DdHKKzT5y+mUZijKt9cfHAZ\n",
       "FZcZhUsQZW3fJysfvILZmZZdTZvCQeq8LY3C4jC5Giw+uIyKy4zCpYhyBc6FPwmx8QvVtcmm8D6a\n",
       "ZCfSKPToId2SIbiMisuMwqWIclcP4Mt4wUbVdb5NoYMEVxqp70Ii/ECWt0Q2xeX2LlyCKD8cx4vm\n",
       "0LbqqoYWhVQ56cuZ8zKtapysisuNwiWIch9dSGNe23Ga9or0tW731XQKq93uW9NZgsumuNwoXIIo\n",
       "PwHwPsW6iHb8uVUP4ENfqdsUXgawN53C4jiUwyzBZVNcbhT++6NE+twXGuLRK8KR3pVI26hN4WZw\n",
       "6+kUomxzpuDSFIu8yqtl3Nl6/ZwwXEt7aoDW1a2FdWtJA86OozAr6TAMpLdglIWZRaTpgSt43TI7\n",
       "hTfSTO2j52Zo3Qt9yONX4OLwczikbVNYDivD5hHAb5+CC+t6a78Xnsq26eWK1//5yZXMp+NzQ0xU\n",
       "5iMGZFfBMG6GwhUNaVENIN3ai0cD3krQLe37+iWnRpFbER9JHEORd1gKDIEUE6LUZcei8vQEr8SG\n",
       "wPJGminPyzUM+jEOX2NP5rxNYb6nVzM7T98NqythMdQU9md5XTtKsdCBSgfr6wIYCzSFfl12PWyo\n",
       "jZgZZoqGtDQtBpBu6TZwD7NWki58FeCFKPJIxMeHk1CYlXQYAtEjHDs9lDxYu6g8rTUptL2RZlaM\n",
       "GhQCvM5kkacQRi9St+BldFLTa1WMAzan0MtGIVfMtaCG90weaSxOaApxTyy6Bk21UJ92cEVTukkM\n",
       "oP30uVhfznfWlq44ZzoF1+FRZCfyzhpMQuHbhFQYBrIpHqVK3j9DYcQbYWaXvGNoIoXSCXiEZ9Oi\n",
       "8AAOLmzceRTgHRq67qytJoWVtei1P3Ncvi+Mpi5TFz0To5ApQrUBfXhfbcNVcWFeU9inujoGpNif\n",
       "ngpKsWNgHxADUNf9GOuLqRXVzbFPhwB+FUWObn47SShyl5cCw0AOxKKsHd06xJPHSDGyEU1MpNOk\n",
       "UHsDc0M4owozH0pKyz3wd+fagJQWJiIUjmGKf3Zjsxr4DGpd5acjBoXuL/Hfo8EuGaLRVMV/wzsR\n",
       "o5ApwrbQxXsZPk/RtjWFd8sud9SAzLcqk1i+NS4VUaqx19AArpsjz56nlqELz6Lug6+Q6b/C5lYE\n",
       "mesa7/zRJBSysgAMA1kTi/K93MStPHlwgZWNWGIinTcZFGpvasHpTkOauUuq4U4i//HP26UG319Y\n",
       "FOYwY9/9A6wIS2wGWwetYwaFcBpel9JregubiahZ6h+0V5ktrx2jkCnChXNvkxrtPJ26pvB62VWa\n",
       "MNBL4r3+5LBQxA6G7e7lOmwA1lWaXW6hlnJH6lawXXh97ksgkaW0ZJ8i4kcbRS6jUmCUlhxhRNks\n",
       "98Z58rxvguExb159dDgtW877mkLtTQEe8qSZy08+JHcXHfCv6q1ZT/PQcNKXTWfCjVC4fXLyB0jh\n",
       "lGNSSOVlOALeuaFsVuFxy6nqcK0ep5CVlbx6iWZ1YzmzWnbl6wa6J7K8+aBQRCnDvn8WP2wXA1C3\n",
       "in7jrbzacEfqul8IIVfnupbUsykkaAtFlO0pMCKPE2qEGeWKQCTvvlVgeMybbX8+LVv5Ow0KlTcA\n",
       "J8AwI8ubqnUvJFH4ClzqedP8KSz1Ryj0T8APH4G+UDbdyNr58aC8ITz/mnMSKHyJVz+CG+A3xqZi\n",
       "u+zCnGh0MZFOTktFlDJsmDUmUtQtt0phXxNb2h0xkU7+WGRDIUtpZCJFsY1SGFw/rSbSOAwXxyZS\n",
       "uZUIePKIa+0xbwaRKcrI1pgxkSpv0GbbNcyYh9u8bEyi0J2HN9fxU5oBUPecegoPe3/ZQEn2p3kT\n",
       "dlNziv+bgmqw65qwf6IvTqFL9xOOGvv2Y99vgrWcEV0djQ41vrqbkYokZdgsIXM0ALFoOXN4wx+/\n",
       "wVCkO1K3Qla2BVzXkuLflOE1LWcslPwx0iAriTBcTFbmolG67adxw7hXLlCUxyIxUB62LBvZspYz\n",
       "ypuxymjRMCNLWb6u2RdLMQpLdTjehC34VvR+H/BvMk0Kr12PUkyyd4g3i+PU3BF4h/HfjkZpY/8M\n",
       "vlLvjlN47G80Px4C95Ijq1yDQnRHdO3R6MJJryUVScqwGYV7aABi0ajvnLkyDKgl3ZEBfo+2yPsO\n",
       "cl1Lin87Gsxh+tcgsY1yGq1cqDsZhonJyp5YlFeNzIUseYwU5bFIDB1hmpaNbFmbCuVN8d0X3zfM\n",
       "qGXQhMllyg8v/Gcnd0cO2IzCpjrePFhTTSwN8WC9c0N8iuFTPt0krccMCtnGlXWNGOj7uRcJm/1Z\n",
       "HsF+wuKb3mv9ntr+kjtcF8K4rpDuV55yn0eiKJ3aQCjzlADDxPuNTEai5MlT+8JZZa4S9mzLOlsW\n",
       "hbY3fvw73K2ifg8g229nvD/hToWT5Jz8u2wSE6E47TinmUIhDXU/mjUP2IZkVzHQ6EPxE1Uu3flq\n",
       "gzWHGBYbtu2MUCowd1J1pXRIecp9ZmIDxa/nZ5RSHIaLh8wRSd/R3SSPatBjYe6ukx3bss5WhELD\n",
       "mwRH7JL550/NhGYh+XQmqnXHsElhJZRdB61Ty2jR0gE+oCl0nd9JlM+gi1IaoD0tCHEExT4vjcEw\n",
       "kAFYiELHOMsqJDXNbHm32hSa3gzAv4TCO7L+jtRJ/4Wl/CWdSpueN/2E4bov1B9Cs/Oz6PpJA/w4\n",
       "itVMgPatEYlR3r+INN0jajvLYZojRql1ccX+wVtNuv4BqvwNZAH3bUUAAAAASUVORK5CYII=\n",
       "\" style=\"display:inline;vertical-align:middle;\" /></a><br>(see <a class=\"ProveItLink\" href=\"../../../__pv_it/theorems/7e852cbf6adae324c3c545f212dcbcdf3ada4f150/dependencies.ipynb\">dependencies</a>)<br>"
      ],
      "text/plain": [
       "<IPython.core.display.HTML object>"
      ]
     },
     "metadata": {},
     "output_type": "display_data"
    }
   ],
   "source": [
    "%proving true_for_each_then_true_for_all_conditioned"
   ]
  },
  {
   "cell_type": "code",
   "execution_count": null,
   "metadata": {},
   "outputs": [],
   "source": []
  }
 ],
 "metadata": {
  "kernelspec": {
   "display_name": "Python 3",
   "language": "python",
   "name": "python3"
  }
 },
 "nbformat": 4,
 "nbformat_minor": 0
}