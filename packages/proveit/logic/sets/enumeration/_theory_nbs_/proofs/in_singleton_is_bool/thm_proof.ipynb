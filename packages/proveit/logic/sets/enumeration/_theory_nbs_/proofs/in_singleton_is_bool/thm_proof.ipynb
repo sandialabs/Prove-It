{
 "cells": [
  {
   "cell_type": "markdown",
   "metadata": {},
   "source": [
    "Proof of <a class=\"ProveItLink\" href=\"../../../../../../_theory_nbs_/theory.ipynb\">proveit</a>.<a class=\"ProveItLink\" href=\"../../../../../_theory_nbs_/theory.ipynb\">logic</a>.<a class=\"ProveItLink\" href=\"../../../../_theory_nbs_/theory.ipynb\">sets</a>.<a class=\"ProveItLink\" href=\"../../theory.ipynb\">enumeration</a>.<a class=\"ProveItLink\" href=\"../../theorems.ipynb#in_singleton_is_bool\">in_singleton_is_bool</a> theorem\n",
    "========\n",
    "*** see <a href=\"../__pv_it/d5bb7f785830415e08d6beb17e355812e1b93b430/dependencies.ipynb\" class=\"ProveItLink\">dependencies</a> ***"
   ]
  },
  {
   "cell_type": "code",
   "execution_count": 1,
   "metadata": {},
   "outputs": [
    {
     "data": {
      "text/html": [
       "With these <a href=\"allowed_presumptions.txt\">allowed</a>/<a href=\"disallowed_presumptions.txt\">disallowed</a> theorem/theory presumptions (e.g., to avoid circular dependencies), we begin our proof of<br><strong id=\"in_singleton_is_bool\">in_singleton_is_bool:</strong> <a class=\"ProveItLink\" href=\"../../../__pv_it/theorems/ab5655a49c623859a813e586fecab8d3310b06c10/expr.ipynb\"><img src=\"data:image/png;base64,iVBORw0KGgoAAAANSUhEUgAAALkAAAAWBAMAAABuySBUAAAAMFBMVEX///8AAAAAAAAAAAAAAAAA\n",
       "AAAAAAAAAAAAAAAAAAAAAAAAAAAAAAAAAAAAAAAAAAAv3aB7AAAAD3RSTlMAq1RmmUTNIjK7EInv\n",
       "3XZ/CtNrAAAACXBIWXMAAA7EAAAOxAGVKw4bAAAC6UlEQVRIx61VTWgTQRh9SXaT7G4bg6IQC7Jg\n",
       "j1aDVKWXtEX8AVFz8qBigyKCiKwKBbVqFW8WTA8qCsoG1IOKxB4KHixBL6JUc9CiYGCrFbFqKB5s\n",
       "8eQ3s7vZznaiFz94uzPfvn0z++abWaBpJDxI4k7evR+3mnNg4W/x0cPCSB203UYyQw3VCT39cPXX\n",
       "+FJgH7XTLLFSIhEtu5DEGttvaez1T6HHmur0l/JIZYFNrH9IInHXgySeNFpGlS5xO6yeNawicBg4\n",
       "z5wrSiQ2evi3eqxngXrMpI/qdAc2TIlExUPg583ahFQdL0QCVy8ALTZi5E5cZnvBRSPUo3aTueOA\n",
       "SCD1yAlasThJj9dqLyXqStmFXl9+aYQl+u35zuhTWZR89UcQCJo6/aONDU3ubAVuSNTZwAwKJp3t\n",
       "oZXfTG9GK+gmM7h36yEQNHXi9RsaKkaffgyJtES91XSxAd32EpYIXEo8Ay4oVWSo+ZMlVkEgkDOp\n",
       "dVQwNAFotpGXqLfkXQyymbKNQw7W3nPxZZS2Wxy8ok5pP10uiwRSR3EPZWZoBEe2qA11cBEyOqja\n",
       "i8zJPjs5R7dRRtkrEri6RsvMbCvk6FLfMkXngjqJSMgZqLO4xxLVYORh7j3zPPqb9TsgELg6TTnK\n",
       "MiNkUcrKxEnq4SJ7yKc4HPqVSAX8PKiLu2mYnwIGX9UuCASuvppWlX3NALFiuJWk5qkOfPUrOc0R\n",
       "nbtdUflmi5uCei/6sn5FboNA0NSy8a3HLWhEBllqlj9owwqPkqxy6Duc9rWu8Znd89VLYzstX/2t\n",
       "QEgduc7PSLQ2qiVZSbi8537mnYdgsz4WT4JRf68mqmGCG2f8xoBRUHCf5NQZP9XpQX6KGQX9qa+u\n",
       "ZOW0xhmofB6bxpCJ9q5gT1guJPGdvtqJMFcVRj/Z5N8WOnlN3dIa82D1qxel750zEc3xH8MDRr8m\n",
       "Vw9NTbUjzq6ge9aDZFa9XnmcXsxWsckP9IvYjUHNlfE/4w8SvsL05ipStwAAAABJRU5ErkJggg==\n",
       "\" style=\"display:inline;vertical-align:middle;\" /></a><br>(see <a class=\"ProveItLink\" href=\"../../../__pv_it/theorems/127bad42da56ef714551ed46beeb3dfe406c8edb0/dependencies.ipynb\">dependencies</a>)<br>"
      ],
      "text/plain": [
       "<IPython.core.display.HTML object>"
      ]
     },
     "metadata": {},
     "output_type": "display_data"
    },
    {
     "name": "stdout",
     "output_type": "stream",
     "text": [
      "in_singleton_is_bool may now be readily provable (assuming required theorems are usable).  Simply execute \"%qed\".\n"
     ]
    }
   ],
   "source": [
    "import proveit\n",
    "from proveit.logic import InSet, Equals, Boolean\n",
    "from proveit import x, y\n",
    "from proveit.logic.equality import sub_left_side_into\n",
    "from proveit.logic.sets.enumeration import singleton_def\n",
    "%proving in_singleton_is_bool"
   ]
  },
  {
   "cell_type": "code",
   "execution_count": 2,
   "metadata": {},
   "outputs": [
    {
     "data": {
      "text/html": [
       "<strong id=\"state1\">state1:</strong> <span style=\"font-size:20px;\"> <a class=\"ProveItLink\" href=\"../../../__pv_it/_proof_in_singleton_is_bool/bd789a38a09f7a00c87123a7327af4050e7501bd0/proof.ipynb\" style=\"text-decoration: none\">&nbsp;&#x22A2;&nbsp;&nbsp;</a><a class=\"ProveItLink\" href=\"../../../__pv_it/theorems/3d9c008ee1003e9ff75063c9ab3a9f9690dc7e160/expr.ipynb\"><img src=\"data:image/png;base64,iVBORw0KGgoAAAANSUhEUgAAAK8AAAAVBAMAAADC7aNVAAAAMFBMVEX///8AAAAAAAAAAAAAAAAA\n",
       "AAAAAAAAAAAAAAAAAAAAAAAAAAAAAAAAAAAAAAAAAAAv3aB7AAAAD3RSTlMAInZUiRDNmWbv3US7\n",
       "qzJazP2FAAAACXBIWXMAAA7EAAAOxAGVKw4bAAACXElEQVQ4y41VPWgUQRR+l91x759DRTEgrCdo\n",
       "FUghsTSoXKWwCEkQcnIaBMEmiMglGlxNkTKLdqZZCFgcKoeSKkVOS0U4FEHhioDaWEUkbfDNmzlz\n",
       "M/v2cIrdN/u+75v33sybBYAKcENsauOQ9HOYDKQOgo+Ms75TG9oo9wKA1wziZLowwc+wLmf3n1ns\n",
       "4uphEjGZLizhosG63Ng0byYQ0zBkINwL/0t4JYFoDhNGeM7M4X3rOSucC2xuNEwY4ROD88KNICXi\n",
       "A3ZiTmOYMMLv4uvK2LWLdDaOBINq4nQIdS3sdi2qh3snql9+XLBOqeZ04RbO5kc+eRTh9X0eBuQ6\n",
       "EaxieWTSWQpwsSXHSx0TeDDmL0owfW7JtTUH4ev4rGR3S5TqfnrHcP4dV+thI/yRmdslzWOKj2A1\n",
       "+Gp+1hyEr2ELUHyyF57hui+kdfw2PoKcD0/wXZ9D1469PW2AbbhnF1dzEL5GKF8VqNP3lx/Iam8F\n",
       "5T181VCjEDHCQOuaQ3EQvk6ziqBti412w3hkfakJndiqsSwFFH7DlFnjPieGdwCz7W/gklzVPGMf\n",
       "Sd+lzetYkRV9EB9KEdiNrTgIvwxw7ucCvFHHb9wQXoKtUJueLYAHytmbiQr2FaY4CP8FMFN1msov\n",
       "ehuDwvXzDyvazLctgXIM4o5/dtmuseIgPL9ttN4ls6VrfXM0sUuv0rqupuDZ+dRLyG2Ip33hJnfP\n",
       "cDzFkfC3/I2KO5b3S5O6CTOdBKLI/nkUh+CzrLBsN+fxfWleDVkV0WF/EMQheMZnlY9+1sZhaZxg\n",
       "EAfTLzeE/wUIyZ1BWZdtzQAAAABJRU5ErkJggg==\n",
       "\" style=\"display:inline;vertical-align:middle;\" /></a></span><br>"
      ],
      "text/plain": [
       "<IPython.core.display.HTML object>"
      ]
     },
     "metadata": {},
     "output_type": "display_data"
    }
   ],
   "source": [
    "state1 = singleton_def.instantiate({x:x, y:y})"
   ]
  },
  {
   "cell_type": "code",
   "execution_count": 3,
   "metadata": {},
   "outputs": [
    {
     "data": {
      "text/html": [
       "<strong id=\"state2\">state2:</strong> <span style=\"font-size:20px;\"> <a class=\"ProveItLink\" href=\"../../../__pv_it/_proof_in_singleton_is_bool/b87bab42623110ead68fed6376ef760bb22976c10/proof.ipynb\" style=\"text-decoration: none\">&nbsp;&#x22A2;&nbsp;&nbsp;</a><a class=\"ProveItLink\" href=\"../../../../../equality/__pv_it/axioms/98e299223b18017383f1b40e9f93eac4a510d0a20/expr.ipynb\"><img src=\"data:image/png;base64,iVBORw0KGgoAAAANSUhEUgAAAGcAAAAVBAMAAACphe0AAAAAMFBMVEX///8AAAAAAAAAAAAAAAAA\n",
       "AAAAAAAAAAAAAAAAAAAAAAAAAAAAAAAAAAAAAAAAAAAv3aB7AAAAD3RSTlMAInZUiRDNmWbv3US7\n",
       "qzJazP2FAAAACXBIWXMAAA7EAAAOxAGVKw4bAAABmklEQVQ4y2NgYBBgwAUYccowGeCU4lZAE9Ca\n",
       "k5+5dgOQYcKAG2igCxzYxJh6m4GBNQGPJrYAdE07GBx5GBjYG/Bo4ijA1NTMy8DAyYAPTIX6+9Sq\n",
       "ZXBNbAwMZng1ZUACJCkAYdPFFgaGEiAzSDfOBS0MgyoYWC8wMPiCOWIBiIAIWusAMauA6RL7AiDN\n",
       "vgoMgIoZHCwZOD4wMLSBlSYi/LQr81cpA8NioHcFOL7yooYHn0EVA+8BBgZLMC8BOSA0tgUwzAaq\n",
       "YGBHD3dWhkkMnMCofQ82YRbQ+jUwTTzcDiBNDGB5tMTwleH9AwaGnWATDiDbxMNwAOQ8Bob9AqwB\n",
       "qH4C2q0JpKzAShegakpgOMTAELPhJgMLmk08FxjOAqkeMEcJRROzAihQ7Z9WMmxG08R+gfsHAyRC\n",
       "gKkJHh8HtjA4uTMwvGJgCFdirkBP6qxX1D8CqdUQzp2tEFG1OefBqZzrAY7EwAIMUUaob7h9oMkI\n",
       "V5qEADeGSAM8qfkgVtFFDFeApAyuNBmDVdRCfQNOA0EFgQLukgBH8QEAQG9qFfGYJwQAAAAASUVO\n",
       "RK5CYII=\n",
       "\" style=\"display:inline;vertical-align:middle;\" /></a></span><br>"
      ],
      "text/plain": [
       "<IPython.core.display.HTML object>"
      ]
     },
     "metadata": {},
     "output_type": "display_data"
    }
   ],
   "source": [
    "state2 = InSet(Equals(x,y), Boolean).prove()"
   ]
  },
  {
   "cell_type": "code",
   "execution_count": 4,
   "metadata": {},
   "outputs": [
    {
     "data": {
      "text/html": [
       "<span style=\"font-size:20px;\"> <a class=\"ProveItLink\" href=\"../../../__pv_it/_proof_in_singleton_is_bool/af5795508d55194fa34fcf96516d384561bace280/proof.ipynb\" style=\"text-decoration: none\">&nbsp;&#x22A2;&nbsp;&nbsp;</a><a class=\"ProveItLink\" href=\"../../../__pv_it/theorems/ab5655a49c623859a813e586fecab8d3310b06c10/expr.ipynb\"><img src=\"data:image/png;base64,iVBORw0KGgoAAAANSUhEUgAAALkAAAAWBAMAAABuySBUAAAAMFBMVEX///8AAAAAAAAAAAAAAAAA\n",
       "AAAAAAAAAAAAAAAAAAAAAAAAAAAAAAAAAAAAAAAAAAAv3aB7AAAAD3RSTlMAq1RmmUTNIjK7EInv\n",
       "3XZ/CtNrAAAACXBIWXMAAA7EAAAOxAGVKw4bAAAC6UlEQVRIx61VTWgTQRh9SXaT7G4bg6IQC7Jg\n",
       "j1aDVKWXtEX8AVFz8qBigyKCiKwKBbVqFW8WTA8qCsoG1IOKxB4KHixBL6JUc9CiYGCrFbFqKB5s\n",
       "8eQ3s7vZznaiFz94uzPfvn0z++abWaBpJDxI4k7evR+3mnNg4W/x0cPCSB203UYyQw3VCT39cPXX\n",
       "+FJgH7XTLLFSIhEtu5DEGttvaez1T6HHmur0l/JIZYFNrH9IInHXgySeNFpGlS5xO6yeNawicBg4\n",
       "z5wrSiQ2evi3eqxngXrMpI/qdAc2TIlExUPg583ahFQdL0QCVy8ALTZi5E5cZnvBRSPUo3aTueOA\n",
       "SCD1yAlasThJj9dqLyXqStmFXl9+aYQl+u35zuhTWZR89UcQCJo6/aONDU3ubAVuSNTZwAwKJp3t\n",
       "oZXfTG9GK+gmM7h36yEQNHXi9RsaKkaffgyJtES91XSxAd32EpYIXEo8Ay4oVWSo+ZMlVkEgkDOp\n",
       "dVQwNAFotpGXqLfkXQyymbKNQw7W3nPxZZS2Wxy8ok5pP10uiwRSR3EPZWZoBEe2qA11cBEyOqja\n",
       "i8zJPjs5R7dRRtkrEri6RsvMbCvk6FLfMkXngjqJSMgZqLO4xxLVYORh7j3zPPqb9TsgELg6TTnK\n",
       "MiNkUcrKxEnq4SJ7yKc4HPqVSAX8PKiLu2mYnwIGX9UuCASuvppWlX3NALFiuJWk5qkOfPUrOc0R\n",
       "nbtdUflmi5uCei/6sn5FboNA0NSy8a3HLWhEBllqlj9owwqPkqxy6Duc9rWu8Znd89VLYzstX/2t\n",
       "QEgduc7PSLQ2qiVZSbi8537mnYdgsz4WT4JRf68mqmGCG2f8xoBRUHCf5NQZP9XpQX6KGQX9qa+u\n",
       "ZOW0xhmofB6bxpCJ9q5gT1guJPGdvtqJMFcVRj/Z5N8WOnlN3dIa82D1qxel750zEc3xH8MDRr8m\n",
       "Vw9NTbUjzq6ge9aDZFa9XnmcXsxWsckP9IvYjUHNlfE/4w8SvsL05ipStwAAAABJRU5ErkJggg==\n",
       "\" style=\"display:inline;vertical-align:middle;\" /></a></span>"
      ],
      "text/plain": [
       "|- forall_{x, y} ((x in {y}) in BOOLEAN)"
      ]
     },
     "metadata": {},
     "output_type": "display_data"
    }
   ],
   "source": [
    "state1.sub_left_side_into(state2).generalize([x,y])"
   ]
  },
  {
   "cell_type": "code",
   "execution_count": 5,
   "metadata": {},
   "outputs": [
    {
     "name": "stdout",
     "output_type": "stream",
     "text": [
      "proveit.logic.sets.enumeration.in_singleton_is_bool has been proven.\n"
     ]
    },
    {
     "data": {
      "text/html": [
       "<table><tr><th>&nbsp;</th><th>step type</th><th>requirements</th><th>statement</th></tr>\n",
       "<tr><td><a name=\"-0x1ca9e8cf2364d55b_step0\">0</a></td><td>generalization</td><td><a href=\"#-0x1ca9e8cf2364d55b_step1\">1</a></td><td><span style=\"font-size:20px;\"> <a class=\"ProveItLink\" href=\"../../../__pv_it/_proof_in_singleton_is_bool/af5795508d55194fa34fcf96516d384561bace280/proof.ipynb\" style=\"text-decoration: none\">&nbsp;&#x22A2;&nbsp;&nbsp;</a><a class=\"ProveItLink\" href=\"../../../__pv_it/theorems/ab5655a49c623859a813e586fecab8d3310b06c10/expr.ipynb\"><img src=\"data:image/png;base64,iVBORw0KGgoAAAANSUhEUgAAALkAAAAWBAMAAABuySBUAAAAMFBMVEX///8AAAAAAAAAAAAAAAAA\n",
       "AAAAAAAAAAAAAAAAAAAAAAAAAAAAAAAAAAAAAAAAAAAv3aB7AAAAD3RSTlMAq1RmmUTNIjK7EInv\n",
       "3XZ/CtNrAAAACXBIWXMAAA7EAAAOxAGVKw4bAAAC6UlEQVRIx61VTWgTQRh9SXaT7G4bg6IQC7Jg\n",
       "j1aDVKWXtEX8AVFz8qBigyKCiKwKBbVqFW8WTA8qCsoG1IOKxB4KHixBL6JUc9CiYGCrFbFqKB5s\n",
       "8eQ3s7vZznaiFz94uzPfvn0z++abWaBpJDxI4k7evR+3mnNg4W/x0cPCSB203UYyQw3VCT39cPXX\n",
       "+FJgH7XTLLFSIhEtu5DEGttvaez1T6HHmur0l/JIZYFNrH9IInHXgySeNFpGlS5xO6yeNawicBg4\n",
       "z5wrSiQ2evi3eqxngXrMpI/qdAc2TIlExUPg583ahFQdL0QCVy8ALTZi5E5cZnvBRSPUo3aTueOA\n",
       "SCD1yAlasThJj9dqLyXqStmFXl9+aYQl+u35zuhTWZR89UcQCJo6/aONDU3ubAVuSNTZwAwKJp3t\n",
       "oZXfTG9GK+gmM7h36yEQNHXi9RsaKkaffgyJtES91XSxAd32EpYIXEo8Ay4oVWSo+ZMlVkEgkDOp\n",
       "dVQwNAFotpGXqLfkXQyymbKNQw7W3nPxZZS2Wxy8ok5pP10uiwRSR3EPZWZoBEe2qA11cBEyOqja\n",
       "i8zJPjs5R7dRRtkrEri6RsvMbCvk6FLfMkXngjqJSMgZqLO4xxLVYORh7j3zPPqb9TsgELg6TTnK\n",
       "MiNkUcrKxEnq4SJ7yKc4HPqVSAX8PKiLu2mYnwIGX9UuCASuvppWlX3NALFiuJWk5qkOfPUrOc0R\n",
       "nbtdUflmi5uCei/6sn5FboNA0NSy8a3HLWhEBllqlj9owwqPkqxy6Duc9rWu8Znd89VLYzstX/2t\n",
       "QEgduc7PSLQ2qiVZSbi8537mnYdgsz4WT4JRf68mqmGCG2f8xoBRUHCf5NQZP9XpQX6KGQX9qa+u\n",
       "ZOW0xhmofB6bxpCJ9q5gT1guJPGdvtqJMFcVRj/Z5N8WOnlN3dIa82D1qxel750zEc3xH8MDRr8m\n",
       "Vw9NTbUjzq6ge9aDZFa9XnmcXsxWsckP9IvYjUHNlfE/4w8SvsL05ipStwAAAABJRU5ErkJggg==\n",
       "\" style=\"display:inline;vertical-align:middle;\" /></a></span></td></tr>\n",
       "<tr><td><a name=\"-0x1ca9e8cf2364d55b_step1\">1</a></td><td>instantiation</td><td><a href=\"#-0x1ca9e8cf2364d55b_step2\">2</a>, <a href=\"#-0x1ca9e8cf2364d55b_step3\">3</a>, <a href=\"#-0x1ca9e8cf2364d55b_step4\">4</a></td><td><span style=\"font-size:20px;\"> <a class=\"ProveItLink\" href=\"../../../__pv_it/_proof_in_singleton_is_bool/48379ff5c89c4a6ffa99e261ffa429713fb821060/proof.ipynb\" style=\"text-decoration: none\">&nbsp;&#x22A2;&nbsp;&nbsp;</a><a class=\"ProveItLink\" href=\"../../../__pv_it/theorems/24c0ebbbaccfadf65574bda8f2b6661a568e0d530/expr.ipynb\"><img src=\"data:image/png;base64,iVBORw0KGgoAAAANSUhEUgAAAHkAAAAVBAMAAACQ4lxbAAAAMFBMVEX///8AAAAAAAAAAAAAAAAA\n",
       "AAAAAAAAAAAAAAAAAAAAAAAAAAAAAAAAAAAAAAAAAAAv3aB7AAAAD3RSTlMAInZUiRDNmWbv3US7\n",
       "qzJazP2FAAAACXBIWXMAAA7EAAAOxAGVKw4bAAACJElEQVQ4y2NgYBBgwAZYd0NoRkMQiV0NEDAZ\n",
       "YBVW2wplvD0KJDahyWrNyc9cuwHIMMGqmfkrnHkWZEUDmvyBTYypt4EuTMCqm2UBnOkFIlLRde9g\n",
       "cORhYGBvIEp3O6buZl4GBk4UQZ1VqxKw6uYMgATSqVXL4LrZGBjMkDVvU8VlNxvYidxJAQi7L7Yw\n",
       "MJQAmUG6cS6gkGdMRXF5UAUD6wWobpYLIFIsABFqQWsdGBgygMwCpkvsILvYENHKDvSAgyUDxwcG\n",
       "Bk0QnwPsoUSEv3dl/iplYFgMlBHg+MoLchkbwg+SDQx8BlUMvAcYGORBzmKeABJNQA41jW0BDLMZ\n",
       "GPjANgHBy1VAcADEks0GxiXDJAZOBSB9DaidD+gIBr5ZQPk1MN083A4g3QxgRUAQAzearwboQ+6v\n",
       "DO8fAL2cDQovkN2sB5Dt5mE4AHI5A8N+AVZQeHAhXM5zAex3kJ/tQVLM4DhYgKo7geEQ0MoNNxlY\n",
       "wLGpgBLmQBNAqdQTHGpga5VQdDMrMPgCDX9aybAZLJaMopv9AvcPWHyzO4BjHZ6jDmxhcHJnYHjF\n",
       "wBCuxFwBEY49HYCkm/WK+keYbq4N4Gx7B5rz1OacB+cxrgfIiW3LKZSUypIA0y0Fkef2gaZUKOAo\n",
       "wJlL3BgiDWC6K3CUDgexlxnAGFrEcAXELAOl4QM4dMdgFWX8zMBgoQ7yLOsMUATiKpoYFbAKi1+G\n",
       "SvuCXK+IXS8AcRWG2zXO7EMAAAAASUVORK5CYII=\n",
       "\" style=\"display:inline;vertical-align:middle;\" /></a></span></td></tr>\n",
       "<tr><td>&nbsp;</td><td colspan=4 style=\"text-align:left\"><span style=\"font-size:20px;\"><a class=\"ProveItLink\" href=\"../../../__pv_it/_proof_in_singleton_is_bool/1d99392da58b40374b949787020ddefb47f454cd0/expr.ipynb\"><img src=\"data:image/png;base64,iVBORw0KGgoAAAANSUhEUgAAADsAAAAVBAMAAAAKrYvGAAAAMFBMVEX///8AAAAAAAAAAAAAAAAA\n",
       "AAAAAAAAAAAAAAAAAAAAAAAAAAAAAAAAAAAAAAAAAAAv3aB7AAAAD3RSTlMAdrurzZkQ7zJUiSLd\n",
       "ZkQEbk8lAAAACXBIWXMAAA7EAAAOxAGVKw4bAAABHElEQVQoz2NgQAYb8PAYGBgnoHAfgkmh/8pG\n",
       "rgkg1iw01RfA1BcGBqYyIM3mgGaaG4jg+MjAwAnEDKwX0KSvgs34AcS/gAx2NFkGdpCVTB+AGKiE\n",
       "YQq6NAvIOH4FBoZ+ASAjCiHBbSUNFOEyYABL7ToJEvNFSD/fwPSNgYEX5FZ5q1X3wGIn4bJstQys\n",
       "B4AOLgCy9WGCdXBp1g8MPAuAfvoA8Ta6NLsCQ/4DBgY+oG6OXzBBhOH5Agz3gRQn0ALGfzBBRYT0\n",
       "BAYTzg0MvEA/sXyACS6GSzMJcB5lBTphAQOr/icBqGAP0CYlINBmYDNcsVmCgYHnAXIg8TSghdoe\n",
       "FB5vAJp0LCpXG5XLrYDKT0LlMqGlJm4BFK40AwMAeV42yYcqVGcAAAAASUVORK5CYII=\n",
       "\" style=\"display:inline;vertical-align:middle;\" /></a> : <a class=\"ProveItLink\" href=\"../../../__pv_it/_proof_in_singleton_is_bool/a9dccdbfd19eb63cc286f129ddf925359cbc0e140/expr.ipynb\"><img src=\"data:image/png;base64,iVBORw0KGgoAAAANSUhEUgAAAD4AAAAQBAMAAAC8SdExAAAAMFBMVEX///8AAAAAAAAAAAAAAAAA\n",
       "AAAAAAAAAAAAAAAAAAAAAAAAAAAAAAAAAAAAAAAAAAAv3aB7AAAAD3RSTlMAMrsiq4l2RO8QZpnd\n",
       "VM2humBGAAAACXBIWXMAAA7EAAAOxAGVKw4bAAAAzElEQVQY02NgwAHYTuj963FnwA2Y2BPsphTg\n",
       "k1/AaqCAV57rggOmeNKZMw/g8g8wpOsyEfpZrALg4iZhZiCK+SXC/MwcV7g0ezOD/gQgzWeAkD/X\n",
       "f3oCjDdjAcMeEM2H7D625XDT9jMwHAXREmeAQAEqz6BQCpNvYuD8DqInIetnUGCCcji/MXB9ADF4\n",
       "UOVh1nH+ZWB5cBkU7Ako8tdgPDWGOxs2gBhvEfIBrKkbGISUgMCAYUqqsJsASHiKOsRPbC+UsMdf\n",
       "qc4ZpFAFAIbwN/uxrLzpAAAAAElFTkSuQmCC\n",
       "\" style=\"display:inline;vertical-align:middle;\" /></a>, <a class=\"ProveItLink\" href=\"../../../../../../__pv_it/common/a0d9d672aa5e272d907247690c152cc2c6daafb70/expr.ipynb\"><img src=\"data:image/png;base64,iVBORw0KGgoAAAANSUhEUgAAAAsAAAAJBAMAAAAWSsseAAAAMFBMVEX///8AAAAAAAAAAAAAAAAA\n",
       "AAAAAAAAAAAAAAAAAAAAAAAAAAAAAAAAAAAAAAAAAAAv3aB7AAAAD3RSTlMAEHarMolUmd1mIs3v\n",
       "RLtmgJDEAAAACXBIWXMAAA7EAAAOxAGVKw4bAAAAQklEQVQI12NgEFIWCU1gYChgMmJvYOBcwPmR\n",
       "eQIDCwP7BgYQ4FEAU/cXMAowyF2wYWBlYMh3rGG4xsAgrsRWmcAAAFEjCyBvD0T9AAAAAElFTkSu\n",
       "QmCC\n",
       "\" style=\"display:inline;vertical-align:middle;\" /></a> : <a class=\"ProveItLink\" href=\"../../../__pv_it/theorems/add2e8c45656210d5cc64daf61ef238a07a95d870/expr.ipynb\"><img src=\"data:image/png;base64,iVBORw0KGgoAAAANSUhEUgAAAEQAAAAVBAMAAAAN71XTAAAAMFBMVEX///8AAAAAAAAAAAAAAAAA\n",
       "AAAAAAAAAAAAAAAAAAAAAAAAAAAAAAAAAAAAAAAAAAAv3aB7AAAAD3RSTlMAEHarMolUmd1mIs3v\n",
       "RLtmgJDEAAAACXBIWXMAAA7EAAAOxAGVKw4bAAABFUlEQVQoz2NgwAYY70IZyxYw4ADaF6EMFjsB\n",
       "7CrYPsKZfAbYlbA2YGMSqYTpRUc3fiW8mwRwmCKkLBKaAOKtFkAWZ1SfwCAMVVLAZMQO1rULrpV9\n",
       "A1CO7QDDfKDlBxgYOBdwfmSeAJLYAFeyBsh3A+qzY2Dg+gYMHLAeUCid6Ojo6AOxFu8FEgI8CgyH\n",
       "gLTwNiABZIMD/QHMEJY6kKvuC7B8AVLRF0DsBYxghzagBmk12B2ggJa7YMPACpZQQvXpY7BKVqCy\n",
       "fMcahmtgCe4EFCXFDPcnQJjiSmyVEDlGu4vISoSD6hdgRABvHGoERBOIRtYNjMfwKAF5hUOBOQAa\n",
       "0NgAKEjZJtWCmDITcCTM5WZQxlIgAwCl7EPHObLeeQAAAABJRU5ErkJggg==\n",
       "\" style=\"display:inline;vertical-align:middle;\" /></a>, <a class=\"ProveItLink\" href=\"../../../../../../__pv_it/common/ff7dba4ef0bbe791ab573bf2d9c220a304399ac80/expr.ipynb\"><img src=\"data:image/png;base64,iVBORw0KGgoAAAANSUhEUgAAAAsAAAANBAMAAACN24kIAAAAMFBMVEX///8AAAAAAAAAAAAAAAAA\n",
       "AAAAAAAAAAAAAAAAAAAAAAAAAAAAAAAAAAAAAAAAAAAv3aB7AAAAD3RSTlMAEHaZZquJVO8y3btE\n",
       "zSKD2s2pAAAACXBIWXMAAA7EAAAOxAGVKw4bAAAAVklEQVQI12NgVHZgEGVgYGNvYPBnYJjOvIAh\n",
       "moFBgEOBoYmBgeG8AOdPIGXLwNQApLYycAcAKVOG8w5ASjTJ/gEDCOQCMdsFxnYgxaXAmgCk2J1s\n",
       "gCQAaFoNDtFIIdEAAAAASUVORK5CYII=\n",
       "\" style=\"display:inline;vertical-align:middle;\" /></a> : <a class=\"ProveItLink\" href=\"../../../../../equality/__pv_it/theorems/8dc625ee9fbf5f96228c059ed58b16ec83d4e40d0/expr.ipynb\"><img src=\"data:image/png;base64,iVBORw0KGgoAAAANSUhEUgAAADMAAAANBAMAAAD2/0vEAAAAMFBMVEX///8AAAAAAAAAAAAAAAAA\n",
       "AAAAAAAAAAAAAAAAAAAAAAAAAAAAAAAAAAAAAAAAAAAv3aB7AAAAD3RSTlMAEHarMolUmd1mIs3v\n",
       "RLtmgJDEAAAACXBIWXMAAA7EAAAOxAGVKw4bAAAAmUlEQVQY02NgEFIWCU1gQAGM6hMYhIF0AZMR\n",
       "ewOQZu8AAwMgk5XtAMN8BgbOBZwfmSeg6nIDqrVjYGBhYN/AgAYEeBQYDoEYQBod3Bdg+QKmFzAK\n",
       "oNrFUM3AdICBQe6CDQMruq7HDHxAJfmONQzX0KWKGe4DXSauxFaZgC4lHFS/gAEXiMYhzrqB8RgO\n",
       "KQ4F5gAcUmyTaoEkAEh8IT7vWgQmAAAAAElFTkSuQmCC\n",
       "\" style=\"display:inline;vertical-align:middle;\" /></a></span></td></tr><tr><td><a name=\"-0x1ca9e8cf2364d55b_step2\">2</a></td><td>theorem</td><td></td><td><span style=\"font-size:20px;\"> <a class=\"ProveItLink\" href=\"../../../../../equality/_theory_nbs_/proofs/sub_left_side_into/thm_proof.ipynb\" style=\"text-decoration: none\">&nbsp;&#x22A2;&nbsp;&nbsp;</a><a class=\"ProveItLink\" href=\"../../../../../equality/__pv_it/theorems/fa7b338ac0e02abe373a31648947826ee50d3a400/expr.ipynb\"><img src=\"data:image/png;base64,iVBORw0KGgoAAAANSUhEUgAAAMIAAAAXBAMAAACrPI2eAAAAMFBMVEX///8AAAAAAAAAAAAAAAAA\n",
       "AAAAAAAAAAAAAAAAAAAAAAAAAAAAAAAAAAAAAAAAAAAv3aB7AAAAD3RSTlMAq1RmmUTNIjK7EInv\n",
       "3XZ/CtNrAAAACXBIWXMAAA7EAAAOxAGVKw4bAAACs0lEQVRIx7VWS2gTURQ9k5l08uuYQkFEKQVB\n",
       "wQ9moyCoRIpUqEjQlVZsUEFwNV2KYutWlI4ULLowUQTNRqKIixahVNxUlFFwWRg/IEWIWfhNQL3v\n",
       "N3kxDIikF97c+w7nvfNy372PACtjrnA2VsqcQeHjAZBlwfru7Lv8++qaU2UWbVbQe2Af86e7dPRv\n",
       "QHKRfKqokJ4yLrJsed0RSPwCYjRg5RRk5pkI0oNdyv4PGk0KMi1sESbJ9XQpSck6DVLBhhZ2Enix\n",
       "tPS8SwqrKNtTVD0YoXH/7b05ys0DYD9wI2qJ1TbbKFIRrUC7n3stD468M2D5wA5gHDZVbLw0snd1\n",
       "588W7siXR30uzIKY5SMVPq+d284DkjFds2HQDWyhXcpptnQ38CRKwfSR9nFLgqORCiUVPKO6gsVL\n",
       "dorKK+AX3U9HiFIw8nDqonNEiUe3Q6hABcVuBMdoFPewaAF4RUn+cGGYJsezotelQmYQvVn4Eue1\n",
       "LYnQyEg0lQK/jDE3RWfZStHDM6zpGhinBH80vBPUkkEjMa8pTJTtfthFicfYRTCidZ1sOiTD+aoU\n",
       "bgKVwjqkKdxJ4zw7gfmytolcLhlMktxt3/E0hV21d2XEPYnHvZDIn09FRk9dKVCJbrt0AIdk4RqM\n",
       "amRlSfNn16gagabQxz6xrMQTXouok63Sz0BCV4A7tdgQS+cbRcvIl+Qyf9l7C5lJTeEpz7IncZ4l\n",
       "RhRZCsma9YaA7atogjZOVe35x8inqsQY02rJ/s6dD4E7gSSG2439XVRm2DPhG+iUZumUCzg4WiuT\n",
       "iw1d0xSWm7w+ZyDwpCuJcq0i6zajgrPteEy5u5jW+yHsNI5XQqIwRdat0iEl7KhyA/Fip4LlCnw4\n",
       "JApTZN1seeeO247nlDv8CZ0KmOU4e55yOqzI/2XtfxVS2vff7Q+ss7Q23lQ/yQAAAABJRU5ErkJg\n",
       "gg==\n",
       "\" style=\"display:inline;vertical-align:middle;\" /></a></span></td></tr>\n",
       "<tr><td>&nbsp;</td><td colspan=4 style-\"text-align:left\"><a class=\"ProveItLink\" href=\"../../../../../equality/_theory_nbs_/proofs/sub_left_side_into/thm_proof.ipynb\">proveit.logic.equality.sub_left_side_into</a></td></tr><tr><td><a name=\"-0x1ca9e8cf2364d55b_step3\">3</a></td><td>instantiation</td><td><a href=\"#-0x1ca9e8cf2364d55b_step5\">5</a></td><td><span style=\"font-size:20px;\"> <a class=\"ProveItLink\" href=\"../../../__pv_it/_proof_in_singleton_is_bool/b87bab42623110ead68fed6376ef760bb22976c10/proof.ipynb\" style=\"text-decoration: none\">&nbsp;&#x22A2;&nbsp;&nbsp;</a><a class=\"ProveItLink\" href=\"../../../../../equality/__pv_it/axioms/98e299223b18017383f1b40e9f93eac4a510d0a20/expr.ipynb\"><img src=\"data:image/png;base64,iVBORw0KGgoAAAANSUhEUgAAAGcAAAAVBAMAAACphe0AAAAAMFBMVEX///8AAAAAAAAAAAAAAAAA\n",
       "AAAAAAAAAAAAAAAAAAAAAAAAAAAAAAAAAAAAAAAAAAAv3aB7AAAAD3RSTlMAInZUiRDNmWbv3US7\n",
       "qzJazP2FAAAACXBIWXMAAA7EAAAOxAGVKw4bAAABmklEQVQ4y2NgYBBgwAUYccowGeCU4lZAE9Ca\n",
       "k5+5dgOQYcKAG2igCxzYxJh6m4GBNQGPJrYAdE07GBx5GBjYG/Bo4ijA1NTMy8DAyYAPTIX6+9Sq\n",
       "ZXBNbAwMZng1ZUACJCkAYdPFFgaGEiAzSDfOBS0MgyoYWC8wMPiCOWIBiIAIWusAMauA6RL7AiDN\n",
       "vgoMgIoZHCwZOD4wMLSBlSYi/LQr81cpA8NioHcFOL7yooYHn0EVA+8BBgZLMC8BOSA0tgUwzAaq\n",
       "YGBHD3dWhkkMnMCofQ82YRbQ+jUwTTzcDiBNDGB5tMTwleH9AwaGnWATDiDbxMNwAOQ8Bob9AqwB\n",
       "qH4C2q0JpKzAShegakpgOMTAELPhJgMLmk08FxjOAqkeMEcJRROzAihQ7Z9WMmxG08R+gfsHAyRC\n",
       "gKkJHh8HtjA4uTMwvGJgCFdirkBP6qxX1D8CqdUQzp2tEFG1OefBqZzrAY7EwAIMUUaob7h9oMkI\n",
       "V5qEADeGSAM8qfkgVtFFDFeApAyuNBmDVdRCfQNOA0EFgQLukgBH8QEAQG9qFfGYJwQAAAAASUVO\n",
       "RK5CYII=\n",
       "\" style=\"display:inline;vertical-align:middle;\" /></a></span></td></tr>\n",
       "<tr><td>&nbsp;</td><td colspan=4 style=\"text-align:left\"><span style=\"font-size:20px;\"><a class=\"ProveItLink\" href=\"../../../../../../__pv_it/common/a0d9d672aa5e272d907247690c152cc2c6daafb70/expr.ipynb\"><img src=\"data:image/png;base64,iVBORw0KGgoAAAANSUhEUgAAAAsAAAAJBAMAAAAWSsseAAAAMFBMVEX///8AAAAAAAAAAAAAAAAA\n",
       "AAAAAAAAAAAAAAAAAAAAAAAAAAAAAAAAAAAAAAAAAAAv3aB7AAAAD3RSTlMAEHarMolUmd1mIs3v\n",
       "RLtmgJDEAAAACXBIWXMAAA7EAAAOxAGVKw4bAAAAQklEQVQI12NgEFIWCU1gYChgMmJvYOBcwPmR\n",
       "eQIDCwP7BgYQ4FEAU/cXMAowyF2wYWBlYMh3rGG4xsAgrsRWmcAAAFEjCyBvD0T9AAAAAElFTkSu\n",
       "QmCC\n",
       "\" style=\"display:inline;vertical-align:middle;\" /></a> : <a class=\"ProveItLink\" href=\"../../../../../../__pv_it/common/a0d9d672aa5e272d907247690c152cc2c6daafb70/expr.ipynb\"><img src=\"data:image/png;base64,iVBORw0KGgoAAAANSUhEUgAAAAsAAAAJBAMAAAAWSsseAAAAMFBMVEX///8AAAAAAAAAAAAAAAAA\n",
       "AAAAAAAAAAAAAAAAAAAAAAAAAAAAAAAAAAAAAAAAAAAv3aB7AAAAD3RSTlMAEHarMolUmd1mIs3v\n",
       "RLtmgJDEAAAACXBIWXMAAA7EAAAOxAGVKw4bAAAAQklEQVQI12NgEFIWCU1gYChgMmJvYOBcwPmR\n",
       "eQIDCwP7BgYQ4FEAU/cXMAowyF2wYWBlYMh3rGG4xsAgrsRWmcAAAFEjCyBvD0T9AAAAAElFTkSu\n",
       "QmCC\n",
       "\" style=\"display:inline;vertical-align:middle;\" /></a>, <a class=\"ProveItLink\" href=\"../../../../../../__pv_it/common/ff7dba4ef0bbe791ab573bf2d9c220a304399ac80/expr.ipynb\"><img src=\"data:image/png;base64,iVBORw0KGgoAAAANSUhEUgAAAAsAAAANBAMAAACN24kIAAAAMFBMVEX///8AAAAAAAAAAAAAAAAA\n",
       "AAAAAAAAAAAAAAAAAAAAAAAAAAAAAAAAAAAAAAAAAAAv3aB7AAAAD3RSTlMAEHaZZquJVO8y3btE\n",
       "zSKD2s2pAAAACXBIWXMAAA7EAAAOxAGVKw4bAAAAVklEQVQI12NgVHZgEGVgYGNvYPBnYJjOvIAh\n",
       "moFBgEOBoYmBgeG8AOdPIGXLwNQApLYycAcAKVOG8w5ASjTJ/gEDCOQCMdsFxnYgxaXAmgCk2J1s\n",
       "gCQAaFoNDtFIIdEAAAAASUVORK5CYII=\n",
       "\" style=\"display:inline;vertical-align:middle;\" /></a> : <a class=\"ProveItLink\" href=\"../../../../../../__pv_it/common/ff7dba4ef0bbe791ab573bf2d9c220a304399ac80/expr.ipynb\"><img src=\"data:image/png;base64,iVBORw0KGgoAAAANSUhEUgAAAAsAAAANBAMAAACN24kIAAAAMFBMVEX///8AAAAAAAAAAAAAAAAA\n",
       "AAAAAAAAAAAAAAAAAAAAAAAAAAAAAAAAAAAAAAAAAAAv3aB7AAAAD3RSTlMAEHaZZquJVO8y3btE\n",
       "zSKD2s2pAAAACXBIWXMAAA7EAAAOxAGVKw4bAAAAVklEQVQI12NgVHZgEGVgYGNvYPBnYJjOvIAh\n",
       "moFBgEOBoYmBgeG8AOdPIGXLwNQApLYycAcAKVOG8w5ASjTJ/gEDCOQCMdsFxnYgxaXAmgCk2J1s\n",
       "gCQAaFoNDtFIIdEAAAAASUVORK5CYII=\n",
       "\" style=\"display:inline;vertical-align:middle;\" /></a></span></td></tr><tr><td><a name=\"-0x1ca9e8cf2364d55b_step4\">4</a></td><td>instantiation</td><td><a href=\"#-0x1ca9e8cf2364d55b_step6\">6</a></td><td><span style=\"font-size:20px;\"> <a class=\"ProveItLink\" href=\"../../../__pv_it/_proof_in_singleton_is_bool/bd789a38a09f7a00c87123a7327af4050e7501bd0/proof.ipynb\" style=\"text-decoration: none\">&nbsp;&#x22A2;&nbsp;&nbsp;</a><a class=\"ProveItLink\" href=\"../../../__pv_it/theorems/3d9c008ee1003e9ff75063c9ab3a9f9690dc7e160/expr.ipynb\"><img src=\"data:image/png;base64,iVBORw0KGgoAAAANSUhEUgAAAK8AAAAVBAMAAADC7aNVAAAAMFBMVEX///8AAAAAAAAAAAAAAAAA\n",
       "AAAAAAAAAAAAAAAAAAAAAAAAAAAAAAAAAAAAAAAAAAAv3aB7AAAAD3RSTlMAInZUiRDNmWbv3US7\n",
       "qzJazP2FAAAACXBIWXMAAA7EAAAOxAGVKw4bAAACXElEQVQ4y41VPWgUQRR+l91x759DRTEgrCdo\n",
       "FUghsTSoXKWwCEkQcnIaBMEmiMglGlxNkTKLdqZZCFgcKoeSKkVOS0U4FEHhioDaWEUkbfDNmzlz\n",
       "M/v2cIrdN/u+75v33sybBYAKcENsauOQ9HOYDKQOgo+Ms75TG9oo9wKA1wziZLowwc+wLmf3n1ns\n",
       "4uphEjGZLizhosG63Ng0byYQ0zBkINwL/0t4JYFoDhNGeM7M4X3rOSucC2xuNEwY4ROD88KNICXi\n",
       "A3ZiTmOYMMLv4uvK2LWLdDaOBINq4nQIdS3sdi2qh3snql9+XLBOqeZ04RbO5kc+eRTh9X0eBuQ6\n",
       "EaxieWTSWQpwsSXHSx0TeDDmL0owfW7JtTUH4ev4rGR3S5TqfnrHcP4dV+thI/yRmdslzWOKj2A1\n",
       "+Gp+1hyEr2ELUHyyF57hui+kdfw2PoKcD0/wXZ9D1469PW2AbbhnF1dzEL5GKF8VqNP3lx/Iam8F\n",
       "5T181VCjEDHCQOuaQ3EQvk6ziqBti412w3hkfakJndiqsSwFFH7DlFnjPieGdwCz7W/gklzVPGMf\n",
       "Sd+lzetYkRV9EB9KEdiNrTgIvwxw7ucCvFHHb9wQXoKtUJueLYAHytmbiQr2FaY4CP8FMFN1msov\n",
       "ehuDwvXzDyvazLctgXIM4o5/dtmuseIgPL9ttN4ls6VrfXM0sUuv0rqupuDZ+dRLyG2Ip33hJnfP\n",
       "cDzFkfC3/I2KO5b3S5O6CTOdBKLI/nkUh+CzrLBsN+fxfWleDVkV0WF/EMQheMZnlY9+1sZhaZxg\n",
       "EAfTLzeE/wUIyZ1BWZdtzQAAAABJRU5ErkJggg==\n",
       "\" style=\"display:inline;vertical-align:middle;\" /></a></span></td></tr>\n",
       "<tr><td>&nbsp;</td><td colspan=4 style=\"text-align:left\"><span style=\"font-size:20px;\"><a class=\"ProveItLink\" href=\"../../../../../../__pv_it/common/a0d9d672aa5e272d907247690c152cc2c6daafb70/expr.ipynb\"><img src=\"data:image/png;base64,iVBORw0KGgoAAAANSUhEUgAAAAsAAAAJBAMAAAAWSsseAAAAMFBMVEX///8AAAAAAAAAAAAAAAAA\n",
       "AAAAAAAAAAAAAAAAAAAAAAAAAAAAAAAAAAAAAAAAAAAv3aB7AAAAD3RSTlMAEHarMolUmd1mIs3v\n",
       "RLtmgJDEAAAACXBIWXMAAA7EAAAOxAGVKw4bAAAAQklEQVQI12NgEFIWCU1gYChgMmJvYOBcwPmR\n",
       "eQIDCwP7BgYQ4FEAU/cXMAowyF2wYWBlYMh3rGG4xsAgrsRWmcAAAFEjCyBvD0T9AAAAAElFTkSu\n",
       "QmCC\n",
       "\" style=\"display:inline;vertical-align:middle;\" /></a> : <a class=\"ProveItLink\" href=\"../../../../../../__pv_it/common/a0d9d672aa5e272d907247690c152cc2c6daafb70/expr.ipynb\"><img src=\"data:image/png;base64,iVBORw0KGgoAAAANSUhEUgAAAAsAAAAJBAMAAAAWSsseAAAAMFBMVEX///8AAAAAAAAAAAAAAAAA\n",
       "AAAAAAAAAAAAAAAAAAAAAAAAAAAAAAAAAAAAAAAAAAAv3aB7AAAAD3RSTlMAEHarMolUmd1mIs3v\n",
       "RLtmgJDEAAAACXBIWXMAAA7EAAAOxAGVKw4bAAAAQklEQVQI12NgEFIWCU1gYChgMmJvYOBcwPmR\n",
       "eQIDCwP7BgYQ4FEAU/cXMAowyF2wYWBlYMh3rGG4xsAgrsRWmcAAAFEjCyBvD0T9AAAAAElFTkSu\n",
       "QmCC\n",
       "\" style=\"display:inline;vertical-align:middle;\" /></a>, <a class=\"ProveItLink\" href=\"../../../../../../__pv_it/common/ff7dba4ef0bbe791ab573bf2d9c220a304399ac80/expr.ipynb\"><img src=\"data:image/png;base64,iVBORw0KGgoAAAANSUhEUgAAAAsAAAANBAMAAACN24kIAAAAMFBMVEX///8AAAAAAAAAAAAAAAAA\n",
       "AAAAAAAAAAAAAAAAAAAAAAAAAAAAAAAAAAAAAAAAAAAv3aB7AAAAD3RSTlMAEHaZZquJVO8y3btE\n",
       "zSKD2s2pAAAACXBIWXMAAA7EAAAOxAGVKw4bAAAAVklEQVQI12NgVHZgEGVgYGNvYPBnYJjOvIAh\n",
       "moFBgEOBoYmBgeG8AOdPIGXLwNQApLYycAcAKVOG8w5ASjTJ/gEDCOQCMdsFxnYgxaXAmgCk2J1s\n",
       "gCQAaFoNDtFIIdEAAAAASUVORK5CYII=\n",
       "\" style=\"display:inline;vertical-align:middle;\" /></a> : <a class=\"ProveItLink\" href=\"../../../../../../__pv_it/common/ff7dba4ef0bbe791ab573bf2d9c220a304399ac80/expr.ipynb\"><img src=\"data:image/png;base64,iVBORw0KGgoAAAANSUhEUgAAAAsAAAANBAMAAACN24kIAAAAMFBMVEX///8AAAAAAAAAAAAAAAAA\n",
       "AAAAAAAAAAAAAAAAAAAAAAAAAAAAAAAAAAAAAAAAAAAv3aB7AAAAD3RSTlMAEHaZZquJVO8y3btE\n",
       "zSKD2s2pAAAACXBIWXMAAA7EAAAOxAGVKw4bAAAAVklEQVQI12NgVHZgEGVgYGNvYPBnYJjOvIAh\n",
       "moFBgEOBoYmBgeG8AOdPIGXLwNQApLYycAcAKVOG8w5ASjTJ/gEDCOQCMdsFxnYgxaXAmgCk2J1s\n",
       "gCQAaFoNDtFIIdEAAAAASUVORK5CYII=\n",
       "\" style=\"display:inline;vertical-align:middle;\" /></a></span></td></tr><tr><td><a name=\"-0x1ca9e8cf2364d55b_step5\">5</a></td><td>axiom</td><td></td><td><span style=\"font-size:20px;\"> <a class=\"ProveItLink\" href=\"../../../../../equality/_theory_nbs_/axioms.ipynb#equality_in_bool\" style=\"text-decoration: none\">&nbsp;&#x22A2;&nbsp;&nbsp;</a><a class=\"ProveItLink\" href=\"../../../../../equality/__pv_it/axioms/80c61ed0a9ea703286def3ed4e81641a1e239b430/expr.ipynb\"><img src=\"data:image/png;base64,iVBORw0KGgoAAAANSUhEUgAAAKYAAAAWBAMAAAC4bPoxAAAAMFBMVEX///8AAAAAAAAAAAAAAAAA\n",
       "AAAAAAAAAAAAAAAAAAAAAAAAAAAAAAAAAAAAAAAAAAAv3aB7AAAAD3RSTlMAq1RmmUTNIjK7EInv\n",
       "3XZ/CtNrAAAACXBIWXMAAA7EAAAOxAGVKw4bAAACZklEQVQ4y6VVTWgTQRh9+5dkd9vYi0hQSkDx\n",
       "osXgQShCrEhVVDAo9OBfFzwIpeh6EZQeqkepuJ4EwboFDxYhpCKKCCEIglWUVqjoIbClVVBo8KYI\n",
       "gvO3m2R3BxQfvLDzdubN7Pd98wWQwhVMR/YfdYZ8kVMCI4gJa/MXxhcrTO+j480pi7YJyrASF7wz\n",
       "2bH1TB+mw3PJJZbDKUXGj3sex1OT6VdpDLzkEr3EKYU2lPTcqTCdbmenhK1HUI7XIu53mx8izwzT\n",
       "NXKWTMqKrYJynOW5Ou+3z7lhN9ffNptvUlYcFqwuP3ge+wxrtYQZYI4NLvntHFUXa2D6QeCO5BSU\n",
       "Q/l+fYHGt8lAy8RWG9gD7EJ3er3T478PgekXke1L8XzPqbnaLyWWqmtkkwKwnQ2czhytjPhMN327\n",
       "kuL5kjMHPVFQfk+Ad8BN+pwjoWt+Cj1No8Z0NUhLUehJkh8k3o36uZ/AKRZbr/OcJjyuO2Xy0zqw\n",
       "Su62sQyl+9uJgWv53fHEfuQbwACbt9Dt6XD90RgpMreQIdmtrvOnxIxpztnKJtjxc96CSbwH2XOr\n",
       "y1MNuD5B3muYzpHHKwP4KmbMce64fgTH4p57MVrilUZqOyo07yTqj0UFKpNU+cH0jegXM25w3m+p\n",
       "+xK3bKZ+lARqiRdr4QQXv8zfo30p1Gn+GqzxLeGVEHonOdPxhDQJEUnjmbibYQMNIzxhOzoeAh+N\n",
       "7x0tItEmOGzHeiFvMJGuf65/w1QRWwajarwtmERvoJAyvCz5hJhetFwz2n1WMAm1PCzdL64bvhKM\n",
       "tOMScMr+Wty/0jUY5Rr+H38A4JajDXZHxnUAAAAASUVORK5CYII=\n",
       "\" style=\"display:inline;vertical-align:middle;\" /></a></span></td></tr>\n",
       "<tr><td>&nbsp;</td><td colspan=4 style-\"text-align:left\"><a class=\"ProveItLink\" href=\"../../../../../equality/_theory_nbs_/axioms.ipynb#equality_in_bool\">proveit.logic.equality.equality_in_bool</a></td></tr><tr><td><a name=\"-0x1ca9e8cf2364d55b_step6\">6</a></td><td>conjecture</td><td></td><td><span style=\"font-size:20px;\"> <a class=\"ProveItLink\" href=\"../singleton_def/thm_proof.ipynb\" style=\"text-decoration: none\">&nbsp;&#x22A2;&nbsp;&nbsp;</a><a class=\"ProveItLink\" href=\"../../../__pv_it/theorems/296779bc6f9fdbba88287df23d1773ef33af3efb0/expr.ipynb\"><img src=\"data:image/png;base64,iVBORw0KGgoAAAANSUhEUgAAAO8AAAAWBAMAAADaw9ZbAAAAMFBMVEX///8AAAAAAAAAAAAAAAAA\n",
       "AAAAAAAAAAAAAAAAAAAAAAAAAAAAAAAAAAAAAAAAAAAv3aB7AAAAD3RSTlMAq1RmmUTNIjK7EInv\n",
       "3XZ/CtNrAAAACXBIWXMAAA7EAAAOxAGVKw4bAAADHklEQVRIx71WTWgTURCebHbTzW4bg56iUgIW\n",
       "LyIGKYiXthL8Q6tF0EMPbVBE6EFSEQ9apXrUCvUggmDZQhGrUmoPBRFKEARBlCgoeghspVr0EMRL\n",
       "S0/OvDdJs2/fBvHggy87u/t9b/Jm5s1bgMhRZISHc5KNC1Gcln+ZlkcqK6EZ3/vZsDMewICG8TV6\n",
       "3gFGmm62aQg7GOFhrNXNJMpTuTBjtsmCchL76eacJpwFCc1wy0FzKMR42CyUQxLXKSPj4ddmTuIv\n",
       "HHeGGPlmjjslEpglV5PKVkZDjB5UPmkdt3qquNTMMdERcVxVQvN6O6M+rPNexIoTamCMQjPHRCe8\n",
       "rVTeaF4fYcwsPnohAnLJa/TmLOVgkh27aTVNWFtOdfOtOaVsWJOWOARwX+P4DKMn1W6WgwVo4oJc\n",
       "owTdGH4KalwssLdC431tTSYs+r3B56whOmEYWtIaxx8k4sX4WkyEcj18I3h/A/9NBsvyN0VWTWkb\n",
       "hmgPdHubgo9ZQ3RC0nP7NI5fSdhifdQrMCWVL2QNn8Ufr9WHd3idPI2vfqnlgxOOwgF1StYQnWD4\n",
       "utqqOcZZfJmg+pazD1O2Bz17FS/z6MMqaRyD+F/BITVEF5JCF/5UDy5hA7UWIRYMNbKLjiircqBd\n",
       "4Xoov6KJGWUlxxRqsFbgsfKcNWWWzGEbSRUzCWTPbPDGePYJiem+reCKB9XgHroj/LuiuNT+k/TB\n",
       "uRsrgdo4pYboQjJCNzBho3l5J/xg0jOJXTePwgm5/bIBx/tgMMemqTrAzWKsTpUstS9JDdGFJDZK\n",
       "D1fEqy3QzqTbElNVIy/1Tqa/0fHkwvEim21qcdplcI75HbvVHEsN0dcldkkcoR/hdW1LjEo0tK7n\n",
       "wZY5XzOvhqroc1TXmmd6XTLiFkx4ggqrtjXiPRIRh4RbcF7WHOe154BGJzX5Ron5beEnjGWhY2+9\n",
       "T9xjaE5UrKg2PzbLTUxztiW1nxhSQ3RVknWKyXrDn2ZovmuwXRld4iB/mtN6cca1HxBCQ3RFYnkx\n",
       "/9T69L6EZlzcyMYVMpY1jGvRh9NyWBIHq2sW/tP4A/5b5tR9MfwTAAAAAElFTkSuQmCC\n",
       "\" style=\"display:inline;vertical-align:middle;\" /></a></span></td></tr>\n",
       "<tr><td>&nbsp;</td><td colspan=4 style-\"text-align:left\"><a class=\"ProveItLink\" href=\"../singleton_def/thm_proof.ipynb\">proveit.logic.sets.enumeration.singleton_def</a></td></tr></table>"
      ],
      "text/plain": [
       "\tstep type\trequirements\tstatement\n",
       "0\tgeneralization\t1\t|- forall_{x, y} ((x in {y}) in BOOLEAN)\n",
       "1\tinstantiation\t2, 3, 4\t|- (x in {y}) in BOOLEAN\n",
       "\tP(_a) : _a in BOOLEAN, x : x in {y}, y : x = y\n",
       "2\ttheorem\t\t|- forall_{P, x, y | P(y), x = y} P(x)\n",
       "\tproveit.logic.equality.sub_left_side_into\n",
       "3\tinstantiation\t5\t|- (x = y) in BOOLEAN\n",
       "\tx : x, y : y\n",
       "4\tinstantiation\t6\t|- (x in {y}) = (x = y)\n",
       "\tx : x, y : y\n",
       "5\taxiom\t\t|- forall_{x, y} ((x = y) in BOOLEAN)\n",
       "\tproveit.logic.equality.equality_in_bool\n",
       "6\tconjecture\t\t|- forall_{x, y} ((x in {y}) = (x = y))\n",
       "\tproveit.logic.sets.enumeration.singleton_def"
      ]
     },
     "execution_count": 5,
     "metadata": {},
     "output_type": "execute_result"
    }
   ],
   "source": [
    "%qed"
   ]
  }
 ],
 "metadata": {
  "kernelspec": {
   "display_name": "Python 3",
   "language": "python",
   "name": "python3"
  }
 },
 "nbformat": 4,
 "nbformat_minor": 0
}