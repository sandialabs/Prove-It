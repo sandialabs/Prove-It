{
 "cells": [
  {
   "cell_type": "markdown",
   "metadata": {},
   "source": [
    "Proof of <a class=\"ProveItLink\" href=\"../../../../../../_theory_nbs_/theory.ipynb\">proveit</a>.<a class=\"ProveItLink\" href=\"../../../../../_theory_nbs_/theory.ipynb\">logic</a>.<a class=\"ProveItLink\" href=\"../../../../_theory_nbs_/theory.ipynb\">sets</a>.<a class=\"ProveItLink\" href=\"../../theory.ipynb\">enumeration</a>.<a class=\"ProveItLink\" href=\"../../theorems.ipynb#equal_element_equality\">equal_element_equality</a> theorem\n",
    "========"
   ]
  },
  {
   "cell_type": "code",
   "execution_count": 1,
   "metadata": {},
   "outputs": [],
   "source": [
    "import proveit\n",
    "theory = proveit.Theory() # the theorem's theory"
   ]
  },
  {
   "cell_type": "code",
   "execution_count": 2,
   "metadata": {},
   "outputs": [
    {
     "data": {
      "text/html": [
       "With these <a href=\"allowed_presumptions.txt\">allowed</a>/<a href=\"disallowed_presumptions.txt\">disallowed</a> theorem/theory presumptions (e.g., to avoid circular dependencies), we begin our proof of<br><strong id=\"equal_element_equality\">equal_element_equality:</strong> <a class=\"ProveItLink\" href=\"../../../__pv_it/theorems/76c2cafcf18e1f0d794d4277a231a66d3289b12b0/expr.ipynb\"><img src=\"data:image/png;base64,iVBORw0KGgoAAAANSUhEUgAAAtwAAAAzBAMAAABWCsIkAAAAMFBMVEX///8AAAAAAAAAAAAAAAAA\n",
       "AAAAAAAAAAAAAAAAAAAAAAAAAAAAAAAAAAAAAAAAAAAv3aB7AAAAD3RSTlMAq1RmmUTNIjK7EInv\n",
       "3XZ/CtNrAAAACXBIWXMAAA7EAAAOxAGVKw4bAAAIHUlEQVR42u2ce2xTVRjAv7W37e1t11X9B8TM\n",
       "GaIuInPhYdxiRpVHwERdfP2BJE4jMeA/nSExKMFqDPrHZItIwojCRRKiHbKGCaImOImGEYKZiGjA\n",
       "mS4gyUDHMpgbIzLP69577rOd7XW9hJPs9nzfOefrvb+e59evA8grSem0DDdSYSmdTudZs3xiIlFC\n",
       "N77FU5g/ZT11+8SVfHE3ltL9l9V6Crd4SsnVeRL3DMNM93Qp3NQrSdui2Z7G7W/Sy+eWl0Qfnm67\n",
       "ukXiXsa9Tt+PfONFmWCPFWohHLct+snLuH839J3eolh9sVADDvdxr+xd3P5uV3APu4g7mPAu7mjG\n",
       "DdyBcRdxB0a9i/ui7Abuwq04WXjeu7h/tHrM5oPreZ1BNCdThWBlfxWzN/gAb10nWUBWy51w3yd7\n",
       "Fbc4ZlAIaF8YOAzbuU5vEC1Gt6lC52qJjvjQcVimqfWSOXHlMbqmCH0k6bcpnVmv4i7rNu4L0Rlz\n",
       "dy08CrBT2ZATUfr6JlvktL6h//1AHzWDMqolLDkZIrUZeYfFNtzrVdxRw/a2eSW6PA5wGsRBZTgT\n",
       "UQDBdniTCrq0BOAqLUJoOUtIcjTEfRA7XrDfTY16FXerwWEiLkNPfASkEXTgUagQsaIxNGZnhNbn\n",
       "02kIDLMi0FmCHIa0tN8eknTJq7gvJs2nOeka+Ic0SFT0y7aUWIWFG/tjdSll2y2MsyLQWYIchgDb\n",
       "Oaudbi3nbvjWq7g/tNiAScNQ1nQ3gSRhCFQkJWYDslJh54raaDwWJxoYw/M5zqB+GFAtUcneECnH\n",
       "dlAfiHQ73PVHXsV9xGq/uw1mJxIEUide5KgI78lElP4GplclUuG1c1CREjJUcwt8QDNoo3FAs0Qk\n",
       "B0O4HNuRc+zcv2G4SaefmQfuMjLIptzTLF22wr3jwjuVKQKpHDuXqRjaysQT+AkSyqVPVipUQguU\n",
       "VzHN57U0E+lqkDVLRHIwRMorYUWug9KCRop7MX55KQ/cAm4QTE75tvua/WmOzLj3qAVr4FVeVGup\n",
       "m4keGIA3RE6jZXSWchnqgUViDtytWYr7TbxjbMsDt4jHwdopn0t8wzlwqx6V0JZ3H+FErb5aYQj1\n",
       "yzqB00QsLeUyhOz8Wp0Dd2eC4g7iEVGVz9y9Gr3unXp/oGmTEFOWqND+q1mQsuoGfWJiiBPVtEc9\n",
       "WsbRsG4+z2n2WFrKZQjZuVBLT7e2qSJOcftRxWBeS+Vc9No05bhjo6ZztK6/xwzVzRay9pqsfdPc\n",
       "hnY7rWsVbWxncqyv72heuKN9fb9lphx3xOwoXXNzKeyYXne8i2gTw70UYGteuIUUhOX/59YFh6Jx\n",
       "8GIq72W4myFk/SVb6MQ+eDCu4UbVmie7jVg16c5LpuYwyW9oM+qxh2rIm7i7Ge6wHLE4w2ycvhnu\n",
       "iMiCzB1ztsK+yb7LjMk2CA1puMsyRv11gNuXtVgphaX48JNNRPhTZc3kV8qeSa+EbRruaMqovw4m\n",
       "E2hqAM5bQ/0tZ3Bh9Z3rdbiDfrQWS10XlKMOl9VSR8MX/JmkHw+PyBl1ET/YYL4VTSd1nctquFsH\n",
       "bzXosa1R80GzJMJ6nOJ6uKUS9qINteqtIbmkRPpSdeTjZ3nckbsQu8+SrYpZLqs9+i8ixyN2Koa3\n",
       "9z+L3aqdFotlWNUhiykN91/yWaEdpU2qHps0O+dKI6zHKa5H8dJj3OtQTvHW0JwcIFvIakgM8LhD\n",
       "2Iu4CFQ4XFabhRIi5xgL1/rRpyq0SQqsZfCJqQmnWwStoOHeBPcb9JbHHF+xppcN3xXW3iGuByoS\n",
       "Cu4yzELx1gDxt/hXtbe/j3B3BHUewWno73voR2d58jnibKBmsf5TbIxxbxpNCXGsA+LlIU1MLbBO\n",
       "yw5wuHvgIYMewx2xP8QXmgoMNXG6kc6MglvnraH+FjFDe3egRocbTxajsCktzpaVbBQ69WaT4Xpt\n",
       "TFVAFH2EFWjKeYtGgaKJxtgCtMkHWdyW1nAPwSE6mah6PGQvuYa70FATpxtRXFR6b00H87eQvjgf\n",
       "cE/W44bD4kg9lMsgZUg2hEYFynbQSwdEk61PyvNmznviAFo1Ub06dA02QgYQblRlJUT0LajOv3hO\n",
       "hlocq9dwn/K3qW9K9Thddg13oYYcIx+qeNyKt6alivpb1qIJRjyZpE5uHe6n5qBihFs8RLOwGWdb\n",
       "kuJhdEHNF9Z0QU1btHEWIGPiY1l0DS1skDFuVG/N3PP6FlTnG4BezaKC++1B3ZuydNI13EpomRu4\n",
       "6Vd+pm9zmG9Q+rJ9s/EQz4tovvCxtTGlZtXm4dQueFiV6BVPJj6LFjQ3LdTEK8MOD3Wb5VMWHNaD\n",
       "NK3s4d2I67kdrHAHZHufiQE32319FVOzavNymAW9tUxiOox7ubkFy/XG5suc0gn3AuMtFiesR9MU\n",
       "GtdjmY5Y4vZDPrjFP/cC0NEdnPhHyWrNd8AfUJlkEr1uPFrF6ulb0JwU93XxSifcSh9UU3HCepBm\n",
       "CXtWF+J6QtcscUNeuF1PIch1YOAmgeKE9WgaN+J6vBvWIxiGbJHCejSNG3E9ZZ4NWguMmA9zhYf1\n",
       "MAtQhLgey0Nl1qu4SfSBYWdSeFgPa4JnBjfietj67kXcxq1JccJ6iMa1uB4Wk369/FikCGE9RONS\n",
       "XI+XfyziH7c7zBUc1uNWXI/iK/TkD/1edsRdSFiPW3E9z8kext2i/1KjiGE9bsX1HAcP447pY+yK\n",
       "GNbjUlyPt3+kbfx+vzTCehziep6ByeKuL6V/HxOsAi8lcTV9TacH8sV949/H/Pe0i/XU7RNX/gVt\n",
       "wm1pLR9y5AAAAABJRU5ErkJggg==\n",
       "\" style=\"display:inline;vertical-align:middle;\" /></a><br>(see <a class=\"ProveItLink\" href=\"../../../__pv_it/theorems/9d0444c21bbbf0a753e27d9a8316cd7aa71485e50/dependencies.ipynb\">dependencies</a>)<br>"
      ],
      "text/plain": [
       "<IPython.core.display.HTML object>"
      ]
     },
     "metadata": {},
     "output_type": "display_data"
    }
   ],
   "source": [
    "%proving equal_element_equality"
   ]
  },
  {
   "cell_type": "code",
   "execution_count": null,
   "metadata": {},
   "outputs": [],
   "source": []
  }
 ],
 "metadata": {
  "kernelspec": {
   "display_name": "Python 3",
   "language": "python",
   "name": "python3"
  }
 },
 "nbformat": 4,
 "nbformat_minor": 0
}