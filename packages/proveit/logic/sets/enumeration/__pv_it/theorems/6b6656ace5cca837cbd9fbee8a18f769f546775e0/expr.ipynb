{
 "cells": [
  {
   "cell_type": "markdown",
   "metadata": {},
   "source": [
    "Expression of type <a class=\"ProveItLink\" href=\"../../../../../../../../doc/html/api/proveit.logic.Forall.html\">Forall</a>\n",
    "=======================\n",
    "# from the theory of <a class=\"ProveItLink\" href=\"../../../_theory_nbs_/theory.ipynb\">proveit.logic.sets.enumeration</a>"
   ]
  },
  {
   "cell_type": "code",
   "execution_count": 1,
   "metadata": {},
   "outputs": [],
   "source": [
    "import proveit\n",
    "# Automation is not needed when building an expression:\n",
    "proveit.defaults.automation = False # This will speed things up.\n",
    "proveit.defaults.inline_pngs = False # Makes files smaller.\n",
    "%load_expr # Load the stored expression as 'stored_expr'\n",
    "# import Expression classes needed to build the expression\n",
    "from proveit import n, x\n",
    "from proveit.core_expr_types import y_1_to_n\n",
    "from proveit.logic import Forall, InSet, Set\n",
    "from proveit.logic.sets import x_equals_any_y\n",
    "from proveit.numbers import Natural"
   ]
  },
  {
   "cell_type": "code",
   "execution_count": 2,
   "metadata": {},
   "outputs": [
    {
     "data": {
      "text/html": [
       "<strong id=\"expr\">expr:</strong> <a class=\"ProveItLink\" href=\"expr.ipynb\"><img src=\"expr.png\" style=\"display:inline;vertical-align:middle;\" /></a><br>"
      ],
      "text/plain": [
       "<IPython.core.display.HTML object>"
      ]
     },
     "metadata": {},
     "output_type": "display_data"
    }
   ],
   "source": [
    "# build up the expression from sub-expressions\n",
    "expr = Forall(instance_param_or_params = [n], instance_expr = Forall(instance_param_or_params = [x, y_1_to_n], instance_expr = InSet(x, Set(y_1_to_n)), condition = x_equals_any_y), domain = Natural)"
   ]
  },
  {
   "cell_type": "code",
   "execution_count": 3,
   "metadata": {},
   "outputs": [
    {
     "name": "stdout",
     "output_type": "stream",
     "text": [
      "Passed sanity check: expr matches stored_expr\n"
     ]
    }
   ],
   "source": [
    "# check that the built expression is the same as the stored expression\n",
    "assert expr == stored_expr\n",
    "assert expr._style_id == stored_expr._style_id\n",
    "print(\"Passed sanity check: expr matches stored_expr\")"
   ]
  },
  {
   "cell_type": "code",
   "execution_count": 4,
   "metadata": {},
   "outputs": [
    {
     "name": "stdout",
     "output_type": "stream",
     "text": [
      "\\forall_{n \\in \\mathbb{N}}~\\left[\\forall_{x, y_{1}, y_{2}, \\ldots, y_{n}~|~\\left(x = y_{1}\\right) \\lor  \\left(x = y_{2}\\right) \\lor  \\ldots \\lor  \\left(x = y_{n}\\right)}~\\left(x \\in \\left\\{y_{1}, y_{2}, \\ldots, y_{n}\\right\\}\\right)\\right]\n"
     ]
    }
   ],
   "source": [
    "# Show the LaTeX representation of the expression for convenience if you need it.\n",
    "print(stored_expr.latex())"
   ]
  },
  {
   "cell_type": "code",
   "execution_count": 5,
   "metadata": {},
   "outputs": [
    {
     "data": {
      "text/html": [
       "<table>\n",
       "<tr><th>name</th><th>description</th><th>default</th><th>current value</th><th>related methods</th></tr><tr><td>with_wrapping</td><td>If 'True', wrap the Expression after the parameters</td><td>None</td><td>None/False</td><td>('with_wrapping',)</td></tr>\n",
       "<tr><td>condition_wrapping</td><td>Wrap 'before' or 'after' the condition (or None).</td><td>None</td><td>None/False</td><td>('with_wrap_after_condition', 'with_wrap_before_condition')</td></tr>\n",
       "<tr><td>wrap_params</td><td>If 'True', wraps every two parameters AND wraps the Expression after the parameters</td><td>None</td><td>None/False</td><td>('with_params',)</td></tr>\n",
       "<tr><td>justification</td><td>justify to the 'left', 'center', or 'right' in the array cells</td><td>center</td><td>center</td><td>('with_justification',)</td></tr>\n",
       "</table>\n"
      ],
      "text/plain": [
       "style name: with_wrapping\n",
       "description: If 'True', wrap the Expression after the parameters\n",
       "default: None\n",
       "current value: None/False\n",
       "related methods: ('with_wrapping',)\n",
       "style name: condition_wrapping\n",
       "description: Wrap 'before' or 'after' the condition (or None).\n",
       "default: None\n",
       "current value: None/False\n",
       "related methods: ('with_wrap_after_condition', 'with_wrap_before_condition')\n",
       "style name: wrap_params\n",
       "description: If 'True', wraps every two parameters AND wraps the Expression after the parameters\n",
       "default: None\n",
       "current value: None/False\n",
       "related methods: ('with_params',)\n",
       "style name: justification\n",
       "description: justify to the 'left', 'center', or 'right' in the array cells\n",
       "default: center\n",
       "current value: center\n",
       "related methods: ('with_justification',)"
      ]
     },
     "metadata": {},
     "output_type": "display_data"
    }
   ],
   "source": [
    "stored_expr.style_options()"
   ]
  },
  {
   "cell_type": "code",
   "execution_count": 6,
   "metadata": {},
   "outputs": [
    {
     "data": {
      "text/html": [
       "<table><tr><th>&nbsp;</th><th>core type</th><th>sub-expressions</th><th>expression</th></tr>\n",
       "<tr><td>0</td><td>Operation</td><td>operator:&nbsp;7<br>operand:&nbsp;2<br></td><td><a class=\"ProveItLink\" href=\"expr.ipynb\"><img src=\"expr.png\" style=\"display:inline;vertical-align:middle;\" /></a></td></tr>\n",
       "<tr><td>1</td><td>ExprTuple</td><td>2</td><td><a class=\"ProveItLink\" href=\"../32747b953ae6dc36c6b7ef43ace24b4db5caa4190/expr.ipynb\"><img src=\"../32747b953ae6dc36c6b7ef43ace24b4db5caa4190/expr.png\" style=\"display:inline;vertical-align:middle;\" /></a></td></tr>\n",
       "<tr><td>2</td><td>Lambda</td><td>parameter:&nbsp;29<br>body:&nbsp;4<br></td><td><a class=\"ProveItLink\" href=\"../6d7c777f74c78a08a1cf2188c4d34c4d736975260/expr.ipynb\"><img src=\"../6d7c777f74c78a08a1cf2188c4d34c4d736975260/expr.png\" style=\"display:inline;vertical-align:middle;\" /></a></td></tr>\n",
       "<tr><td>3</td><td>ExprTuple</td><td>29</td><td><a class=\"ProveItLink\" href=\"../ca565dff2751ea9a3b48fe855133b9e0c2eca83f0/expr.ipynb\"><img src=\"../ca565dff2751ea9a3b48fe855133b9e0c2eca83f0/expr.png\" style=\"display:inline;vertical-align:middle;\" /></a></td></tr>\n",
       "<tr><td>4</td><td>Conditional</td><td>value:&nbsp;5<br>condition:&nbsp;6<br></td><td><a class=\"ProveItLink\" href=\"../7812590502363589f4e43718d33ae27a23ff0d5a0/expr.ipynb\"><img src=\"../7812590502363589f4e43718d33ae27a23ff0d5a0/expr.png\" style=\"display:inline;vertical-align:middle;\" /></a></td></tr>\n",
       "<tr><td>5</td><td>Operation</td><td>operator:&nbsp;7<br>operand:&nbsp;10<br></td><td><a class=\"ProveItLink\" href=\"../82caddce3625c8221c6d153214e5947635e419bd0/expr.ipynb\"><img src=\"../82caddce3625c8221c6d153214e5947635e419bd0/expr.png\" style=\"display:inline;vertical-align:middle;\" /></a></td></tr>\n",
       "<tr><td>6</td><td>Operation</td><td>operator:&nbsp;16<br>operands:&nbsp;9<br></td><td><a class=\"ProveItLink\" href=\"../a4c62904f3a87ce48a16b43526806be1316ce7cc0/expr.ipynb\"><img src=\"../a4c62904f3a87ce48a16b43526806be1316ce7cc0/expr.png\" style=\"display:inline;vertical-align:middle;\" /></a></td></tr>\n",
       "<tr><td>7</td><td>Literal</td><td></td><td><a class=\"ProveItLink\" href=\"../../../../../booleans/quantification/universality/__pv_it/common/083d2baa0b8ecab1d230f9ec29a15aa1355809fb0/expr.ipynb\"><img src=\"../../../../../booleans/quantification/universality/__pv_it/common/083d2baa0b8ecab1d230f9ec29a15aa1355809fb0/expr.png\" style=\"display:inline;vertical-align:middle;\" /></a></td></tr>\n",
       "<tr><td>8</td><td>ExprTuple</td><td>10</td><td><a class=\"ProveItLink\" href=\"../fe4230004898965b6582d39b13ad42184175ce4d0/expr.ipynb\"><img src=\"../fe4230004898965b6582d39b13ad42184175ce4d0/expr.png\" style=\"display:inline;vertical-align:middle;\" /></a></td></tr>\n",
       "<tr><td>9</td><td>ExprTuple</td><td>29, 11</td><td><a class=\"ProveItLink\" href=\"../ecc3c58a9897ba541ec19be82e54ee986957c4200/expr.ipynb\"><img src=\"../ecc3c58a9897ba541ec19be82e54ee986957c4200/expr.png\" style=\"display:inline;vertical-align:middle;\" /></a></td></tr>\n",
       "<tr><td>10</td><td>Lambda</td><td>parameters:&nbsp;12<br>body:&nbsp;13<br></td><td><a class=\"ProveItLink\" href=\"../baaa972d773ed237f93eb3ddf443a3d40cc775dd0/expr.ipynb\"><img src=\"../baaa972d773ed237f93eb3ddf443a3d40cc775dd0/expr.png\" style=\"display:inline;vertical-align:middle;\" /></a></td></tr>\n",
       "<tr><td>11</td><td>Literal</td><td></td><td><a class=\"ProveItLink\" href=\"../../../../../../numbers/number_sets/natural_numbers/__pv_it/common/8b7c321957f52ed3b05b36af612eeae4fa4783bc0/expr.ipynb\"><img src=\"../../../../../../numbers/number_sets/natural_numbers/__pv_it/common/8b7c321957f52ed3b05b36af612eeae4fa4783bc0/expr.png\" style=\"display:inline;vertical-align:middle;\" /></a></td></tr>\n",
       "<tr><td>12</td><td>ExprTuple</td><td>32, 25</td><td><a class=\"ProveItLink\" href=\"../3dca63823cf5cb9dc7f30e89bc768a37dfd0ff310/expr.ipynb\"><img src=\"../3dca63823cf5cb9dc7f30e89bc768a37dfd0ff310/expr.png\" style=\"display:inline;vertical-align:middle;\" /></a></td></tr>\n",
       "<tr><td>13</td><td>Conditional</td><td>value:&nbsp;14<br>condition:&nbsp;15<br></td><td><a class=\"ProveItLink\" href=\"../76e86799e50f429dccd9b3715e2cb355ff6423390/expr.ipynb\"><img src=\"../76e86799e50f429dccd9b3715e2cb355ff6423390/expr.png\" style=\"display:inline;vertical-align:middle;\" /></a></td></tr>\n",
       "<tr><td>14</td><td>Operation</td><td>operator:&nbsp;16<br>operands:&nbsp;17<br></td><td><a class=\"ProveItLink\" href=\"../f9f639d358b239f95285910c67aaea5ea81a927e0/expr.ipynb\"><img src=\"../f9f639d358b239f95285910c67aaea5ea81a927e0/expr.png\" style=\"display:inline;vertical-align:middle;\" /></a></td></tr>\n",
       "<tr><td>15</td><td>Operation</td><td>operator:&nbsp;18<br>operands:&nbsp;19<br></td><td><a class=\"ProveItLink\" href=\"../../../../__pv_it/common/c62408e7277e236fda16df2eaed1cff09d51000e0/expr.ipynb\"><img src=\"../../../../__pv_it/common/c62408e7277e236fda16df2eaed1cff09d51000e0/expr.png\" style=\"display:inline;vertical-align:middle;\" /></a></td></tr>\n",
       "<tr><td>16</td><td>Literal</td><td></td><td><a class=\"ProveItLink\" href=\"../../../../membership/__pv_it/common/477487d8796864d23d5810f83761435f25167f690/expr.ipynb\"><img src=\"../../../../membership/__pv_it/common/477487d8796864d23d5810f83761435f25167f690/expr.png\" style=\"display:inline;vertical-align:middle;\" /></a></td></tr>\n",
       "<tr><td>17</td><td>ExprTuple</td><td>32, 20</td><td><a class=\"ProveItLink\" href=\"../d1dbeb5b945109420156d9d13202826046b2489e0/expr.ipynb\"><img src=\"../d1dbeb5b945109420156d9d13202826046b2489e0/expr.png\" style=\"display:inline;vertical-align:middle;\" /></a></td></tr>\n",
       "<tr><td>18</td><td>Literal</td><td></td><td><a class=\"ProveItLink\" href=\"../../../../../booleans/disjunction/__pv_it/common/ef8e59262ff8e0133aa1ca984dd6b3a41bf69d5b0/expr.ipynb\"><img src=\"../../../../../booleans/disjunction/__pv_it/common/ef8e59262ff8e0133aa1ca984dd6b3a41bf69d5b0/expr.png\" style=\"display:inline;vertical-align:middle;\" /></a></td></tr>\n",
       "<tr><td>19</td><td>ExprTuple</td><td>21</td><td><a class=\"ProveItLink\" href=\"../../../../__pv_it/common/aeb62533bfcb08164ad4c29fa466d5e3609a54680/expr.ipynb\"><img src=\"../../../../__pv_it/common/aeb62533bfcb08164ad4c29fa466d5e3609a54680/expr.png\" style=\"display:inline;vertical-align:middle;\" /></a></td></tr>\n",
       "<tr><td>20</td><td>Operation</td><td>operator:&nbsp;22<br>operands:&nbsp;23<br></td><td><a class=\"ProveItLink\" href=\"../1076d01091a546ef29b83d1215c6a2173f31e5860/expr.ipynb\"><img src=\"../1076d01091a546ef29b83d1215c6a2173f31e5860/expr.png\" style=\"display:inline;vertical-align:middle;\" /></a></td></tr>\n",
       "<tr><td>21</td><td>ExprRange</td><td>lambda_map:&nbsp;24<br>start_index:&nbsp;28<br>end_index:&nbsp;29<br></td><td><a class=\"ProveItLink\" href=\"../../../../__pv_it/common/1118e6f6da085be674a73ab0830314ff56f9c19e0/expr.ipynb\"><img src=\"../../../../__pv_it/common/1118e6f6da085be674a73ab0830314ff56f9c19e0/expr.png\" style=\"display:inline;vertical-align:middle;\" /></a></td></tr>\n",
       "<tr><td>22</td><td>Literal</td><td></td><td><a class=\"ProveItLink\" href=\"../../common/0ead90ccbf4f17bc585a51f8aa904bb77916ae6e0/expr.ipynb\"><img src=\"../../common/0ead90ccbf4f17bc585a51f8aa904bb77916ae6e0/expr.png\" style=\"display:inline;vertical-align:middle;\" /></a></td></tr>\n",
       "<tr><td>23</td><td>ExprTuple</td><td>25</td><td><a class=\"ProveItLink\" href=\"../426ae9fc9ef813f11721bf85ea3ea08e1f2b41370/expr.ipynb\"><img src=\"../426ae9fc9ef813f11721bf85ea3ea08e1f2b41370/expr.png\" style=\"display:inline;vertical-align:middle;\" /></a></td></tr>\n",
       "<tr><td>24</td><td>Lambda</td><td>parameter:&nbsp;36<br>body:&nbsp;26<br></td><td><a class=\"ProveItLink\" href=\"../../../../__pv_it/common/9dac351ab042a709550e0848daf237f62068cdb00/expr.ipynb\"><img src=\"../../../../__pv_it/common/9dac351ab042a709550e0848daf237f62068cdb00/expr.png\" style=\"display:inline;vertical-align:middle;\" /></a></td></tr>\n",
       "<tr><td>25</td><td>ExprRange</td><td>lambda_map:&nbsp;27<br>start_index:&nbsp;28<br>end_index:&nbsp;29<br></td><td><a class=\"ProveItLink\" href=\"../../../../../../core_expr_types/__pv_it/common/bcf5ce1b1593e9c2c261618d94fd21c2cd04eae40/expr.ipynb\"><img src=\"../../../../../../core_expr_types/__pv_it/common/bcf5ce1b1593e9c2c261618d94fd21c2cd04eae40/expr.png\" style=\"display:inline;vertical-align:middle;\" /></a></td></tr>\n",
       "<tr><td>26</td><td>Operation</td><td>operator:&nbsp;30<br>operands:&nbsp;31<br></td><td><a class=\"ProveItLink\" href=\"../../../../__pv_it/common/618e2ef1708ba014457048540eb2fe86b2627da30/expr.ipynb\"><img src=\"../../../../__pv_it/common/618e2ef1708ba014457048540eb2fe86b2627da30/expr.png\" style=\"display:inline;vertical-align:middle;\" /></a></td></tr>\n",
       "<tr><td>27</td><td>Lambda</td><td>parameter:&nbsp;36<br>body:&nbsp;33<br></td><td><a class=\"ProveItLink\" href=\"../../../../../../core_expr_types/__pv_it/common/47ca082a5e3217d68f414fa9b5fb4cf7b07e06430/expr.ipynb\"><img src=\"../../../../../../core_expr_types/__pv_it/common/47ca082a5e3217d68f414fa9b5fb4cf7b07e06430/expr.png\" style=\"display:inline;vertical-align:middle;\" /></a></td></tr>\n",
       "<tr><td>28</td><td>Literal</td><td></td><td><a class=\"ProveItLink\" href=\"../../../../../../numbers/numerals/__pv_it/common/682157d4892d216d9e5626ed533aff9b56b9506e0/expr.ipynb\"><img src=\"../../../../../../numbers/numerals/__pv_it/common/682157d4892d216d9e5626ed533aff9b56b9506e0/expr.png\" style=\"display:inline;vertical-align:middle;\" /></a></td></tr>\n",
       "<tr><td>29</td><td>Variable</td><td></td><td><a class=\"ProveItLink\" href=\"../../../../../../__pv_it/common/8968bb04eb3f7dfa02353397ce929b025bbd79c20/expr.ipynb\"><img src=\"../../../../../../__pv_it/common/8968bb04eb3f7dfa02353397ce929b025bbd79c20/expr.png\" style=\"display:inline;vertical-align:middle;\" /></a></td></tr>\n",
       "<tr><td>30</td><td>Literal</td><td></td><td><a class=\"ProveItLink\" href=\"../../../../../equality/__pv_it/common/fb96dc12b2aa8801dda64d0132b396c63d1502bb0/expr.ipynb\"><img src=\"../../../../../equality/__pv_it/common/fb96dc12b2aa8801dda64d0132b396c63d1502bb0/expr.png\" style=\"display:inline;vertical-align:middle;\" /></a></td></tr>\n",
       "<tr><td>31</td><td>ExprTuple</td><td>32, 33</td><td><a class=\"ProveItLink\" href=\"../../../../__pv_it/common/b775dbf26647c465217504469f1ee7495a7c26f80/expr.ipynb\"><img src=\"../../../../__pv_it/common/b775dbf26647c465217504469f1ee7495a7c26f80/expr.png\" style=\"display:inline;vertical-align:middle;\" /></a></td></tr>\n",
       "<tr><td>32</td><td>Variable</td><td></td><td><a class=\"ProveItLink\" href=\"../../../../../../__pv_it/common/a0d9d672aa5e272d907247690c152cc2c6daafb70/expr.ipynb\"><img src=\"../../../../../../__pv_it/common/a0d9d672aa5e272d907247690c152cc2c6daafb70/expr.png\" style=\"display:inline;vertical-align:middle;\" /></a></td></tr>\n",
       "<tr><td>33</td><td>IndexedVar</td><td>variable:&nbsp;34<br>index:&nbsp;36<br></td><td><a class=\"ProveItLink\" href=\"../../../../../../core_expr_types/__pv_it/common/dd83f4522fafc6cf7fa80e461f3330c821446f0a0/expr.ipynb\"><img src=\"../../../../../../core_expr_types/__pv_it/common/dd83f4522fafc6cf7fa80e461f3330c821446f0a0/expr.png\" style=\"display:inline;vertical-align:middle;\" /></a></td></tr>\n",
       "<tr><td>34</td><td>Variable</td><td></td><td><a class=\"ProveItLink\" href=\"../../../../../../__pv_it/common/ff7dba4ef0bbe791ab573bf2d9c220a304399ac80/expr.ipynb\"><img src=\"../../../../../../__pv_it/common/ff7dba4ef0bbe791ab573bf2d9c220a304399ac80/expr.png\" style=\"display:inline;vertical-align:middle;\" /></a></td></tr>\n",
       "<tr><td>35</td><td>ExprTuple</td><td>36</td><td><a class=\"ProveItLink\" href=\"../../../../../../core_expr_types/__pv_it/common/4b0dd6be36d76552eda6a95d5b4a27f5a5b62f900/expr.ipynb\"><img src=\"../../../../../../core_expr_types/__pv_it/common/4b0dd6be36d76552eda6a95d5b4a27f5a5b62f900/expr.png\" style=\"display:inline;vertical-align:middle;\" /></a></td></tr>\n",
       "<tr><td>36</td><td>Variable</td><td></td><td><a class=\"ProveItLink\" href=\"../../../../../../core_expr_types/__pv_it/common/006c465e50948aa2b52285e2de47974f741255cc0/expr.ipynb\"><img src=\"../../../../../../core_expr_types/__pv_it/common/006c465e50948aa2b52285e2de47974f741255cc0/expr.png\" style=\"display:inline;vertical-align:middle;\" /></a></td></tr>\n",
       "</table>\n"
      ],
      "text/plain": [
       "0. forall_{n in Natural} [forall_{x, y_{1}, y_{2}, ..., y_{n} | (x = y_{1}) or  (x = y_{2}) or  ... or  (x = y_{n})} (x in {y_{1}, y_{2}, ..., y_{n}})]\n",
       "   core type: Operation\n",
       "   operator: 7\n",
       "   operand: 2\n",
       "1. (n -> {forall_{x, y_{1}, y_{2}, ..., y_{n} | (x = y_{1}) or  (x = y_{2}) or  ... or  (x = y_{n})} (x in {y_{1}, y_{2}, ..., y_{n}}) if n in Natural.)\n",
       "   core type: ExprTuple\n",
       "   sub-expressions: 2\n",
       "2. n -> {forall_{x, y_{1}, y_{2}, ..., y_{n} | (x = y_{1}) or  (x = y_{2}) or  ... or  (x = y_{n})} (x in {y_{1}, y_{2}, ..., y_{n}}) if n in Natural.\n",
       "   core type: Lambda\n",
       "   parameter: 29\n",
       "   body: 4\n",
       "3. (n)\n",
       "   core type: ExprTuple\n",
       "   sub-expressions: 29\n",
       "4. {forall_{x, y_{1}, y_{2}, ..., y_{n} | (x = y_{1}) or  (x = y_{2}) or  ... or  (x = y_{n})} (x in {y_{1}, y_{2}, ..., y_{n}}) if n in Natural.\n",
       "   core type: Conditional\n",
       "   value: 5\n",
       "   condition: 6\n",
       "5. forall_{x, y_{1}, y_{2}, ..., y_{n} | (x = y_{1}) or  (x = y_{2}) or  ... or  (x = y_{n})} (x in {y_{1}, y_{2}, ..., y_{n}})\n",
       "   core type: Operation\n",
       "   operator: 7\n",
       "   operand: 10\n",
       "6. n in Natural\n",
       "   core type: Operation\n",
       "   operator: 16\n",
       "   operands: 9\n",
       "7. forall\n",
       "   core type: Literal\n",
       "   sub-expressions: \n",
       "8. ((x, y_{1}, y_{2}, ..., y_{n}) -> {x in {y_{1}, y_{2}, ..., y_{n}} if (x = y_{1}) or  (x = y_{2}) or  ... or  (x = y_{n}).)\n",
       "   core type: ExprTuple\n",
       "   sub-expressions: 10\n",
       "9. (n, Natural)\n",
       "   core type: ExprTuple\n",
       "   sub-expressions: 29, 11\n",
       "10. (x, y_{1}, y_{2}, ..., y_{n}) -> {x in {y_{1}, y_{2}, ..., y_{n}} if (x = y_{1}) or  (x = y_{2}) or  ... or  (x = y_{n}).\n",
       "    core type: Lambda\n",
       "    parameters: 12\\n    body: 13\n",
       "11. Natural\n",
       "    core type: Literal\n",
       "    sub-expressions: \n",
       "12. (x,y_{1}, y_{2}, ..., y_{n})\n",
       "    core type: ExprTuple\n",
       "    sub-expressions: 32, 25\n",
       "13. {x in {y_{1}, y_{2}, ..., y_{n}} if (x = y_{1}) or  (x = y_{2}) or  ... or  (x = y_{n}).\n",
       "    core type: Conditional\n",
       "    value: 14\n",
       "    condition: 15\n",
       "14. x in {y_{1}, y_{2}, ..., y_{n}}\n",
       "    core type: Operation\n",
       "    operator: 16\n",
       "    operands: 17\n",
       "15. (x = y_{1}) or  (x = y_{2}) or  ... or  (x = y_{n})\n",
       "    core type: Operation\n",
       "    operator: 18\n",
       "    operands: 19\n",
       "16. in\n",
       "    core type: Literal\n",
       "    sub-expressions: \n",
       "17. (x, {y_{1}, y_{2}, ..., y_{n}})\n",
       "    core type: ExprTuple\n",
       "    sub-expressions: 32, 20\n",
       "18. or\n",
       "    core type: Literal\n",
       "    sub-expressions: \n",
       "19. ((x = y_{1}), (x = y_{2}), ..., (x = y_{n}))\n",
       "    core type: ExprTuple\n",
       "    sub-expressions: 21\n",
       "20. {y_{1}, y_{2}, ..., y_{n}}\n",
       "    core type: Operation\n",
       "    operator: 22\n",
       "    operands: 23\n",
       "21. (x = y_{1}), (x = y_{2}), ..., (x = y_{n})\n",
       "    core type: ExprRange\n",
       "    lambda_map: 24\n",
       "    start_index: 28\n",
       "    end_index: 29\n",
       "22. Set\n",
       "    core type: Literal\n",
       "    sub-expressions: \n",
       "23. (y_{1}, y_{2}, ..., y_{n})\n",
       "    core type: ExprTuple\n",
       "    sub-expressions: 25\n",
       "24. _a -> (x = y_{_a})\n",
       "    core type: Lambda\n",
       "    parameter: 36\n",
       "    body: 26\n",
       "25. y_{1}, y_{2}, ..., y_{n}\n",
       "    core type: ExprRange\n",
       "    lambda_map: 27\n",
       "    start_index: 28\n",
       "    end_index: 29\n",
       "26. x = y_{_a}\n",
       "    core type: Operation\n",
       "    operator: 30\n",
       "    operands: 31\n",
       "27. _a -> y_{_a}\n",
       "    core type: Lambda\n",
       "    parameter: 36\n",
       "    body: 33\n",
       "28. 1\n",
       "    core type: Literal\n",
       "    sub-expressions: \n",
       "29. n\n",
       "    core type: Variable\n",
       "    sub-expressions: \n",
       "30. =\n",
       "    core type: Literal\n",
       "    sub-expressions: \n",
       "31. (x, y_{_a})\n",
       "    core type: ExprTuple\n",
       "    sub-expressions: 32, 33\n",
       "32. x\n",
       "    core type: Variable\n",
       "    sub-expressions: \n",
       "33. y_{_a}\n",
       "    core type: IndexedVar\n",
       "variable: 34\n",
       "index: 36\n",
       "34. y\n",
       "    core type: Variable\n",
       "    sub-expressions: \n",
       "35. (_a)\n",
       "    core type: ExprTuple\n",
       "    sub-expressions: 36\n",
       "36. _a\n",
       "    core type: Variable\n",
       "    sub-expressions: "
      ]
     },
     "metadata": {},
     "output_type": "display_data"
    }
   ],
   "source": [
    "# display the expression information\n",
    "stored_expr.expr_info()"
   ]
  },
  {
   "cell_type": "code",
   "execution_count": null,
   "metadata": {},
   "outputs": [],
   "source": []
  }
 ],
 "metadata": {
  "kernelspec": {
   "display_name": "Python 3",
   "language": "python",
   "name": "python3"
  }
 },
 "nbformat": 4,
 "nbformat_minor": 0
}