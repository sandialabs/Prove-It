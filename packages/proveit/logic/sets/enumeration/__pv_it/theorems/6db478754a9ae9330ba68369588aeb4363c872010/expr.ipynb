{
 "cells": [
  {
   "cell_type": "markdown",
   "metadata": {},
   "source": [
    "Expression of type <a class=\"ProveItLink\" href=\"../../../../../../../../doc/html/api/proveit.ExprTuple.html\">ExprTuple</a>\n",
    "=======================\n",
    "# from the theory of <a class=\"ProveItLink\" href=\"../../../_theory_nbs_/theory.ipynb\">proveit.logic.sets.enumeration</a>"
   ]
  },
  {
   "cell_type": "code",
   "execution_count": 1,
   "metadata": {},
   "outputs": [],
   "source": [
    "import proveit\n",
    "# Automation is not needed when building an expression:\n",
    "proveit.defaults.automation = False # This will speed things up.\n",
    "proveit.defaults.inline_pngs = False # Makes files smaller.\n",
    "%load_expr # Load the stored expression as 'stored_expr'\n",
    "# import Expression classes needed to build the expression\n",
    "from proveit import ExprRange, ExprTuple, Function, IndexedVar, P, Px, Variable, a, n, x\n",
    "from proveit.core_expr_types import a_1_to_n\n",
    "from proveit.logic import Equals, FALSE, Forall, Or, Set\n",
    "from proveit.numbers import one"
   ]
  },
  {
   "cell_type": "code",
   "execution_count": 2,
   "metadata": {},
   "outputs": [
    {
     "data": {
      "text/html": [
       "<strong id=\"expr\">expr:</strong> <a class=\"ProveItLink\" href=\"expr.ipynb\"><img src=\"expr.png\" style=\"display:inline;vertical-align:middle;\" /></a><br>"
      ],
      "text/plain": [
       "<IPython.core.display.HTML object>"
      ]
     },
     "metadata": {},
     "output_type": "display_data"
    }
   ],
   "source": [
    "# build up the expression from sub-expressions\n",
    "sub_expr1 = Variable(\"_a\", latex_format = r\"{_{-}a}\")\n",
    "expr = ExprTuple(Or(ExprRange(sub_expr1, Equals(Function(P, [IndexedVar(a, sub_expr1)]), FALSE), one, n)), Equals(Forall(instance_param_or_params = [x], instance_expr = Px, domain = Set(a_1_to_n)), FALSE))"
   ]
  },
  {
   "cell_type": "code",
   "execution_count": 3,
   "metadata": {},
   "outputs": [
    {
     "name": "stdout",
     "output_type": "stream",
     "text": [
      "Passed sanity check: expr matches stored_expr\n"
     ]
    }
   ],
   "source": [
    "# check that the built expression is the same as the stored expression\n",
    "assert expr == stored_expr\n",
    "assert expr._style_id == stored_expr._style_id\n",
    "print(\"Passed sanity check: expr matches stored_expr\")"
   ]
  },
  {
   "cell_type": "code",
   "execution_count": 4,
   "metadata": {},
   "outputs": [
    {
     "name": "stdout",
     "output_type": "stream",
     "text": [
      "\\left(\\left(P\\left(a_{1}\\right) = \\bot\\right) \\lor  \\left(P\\left(a_{2}\\right) = \\bot\\right) \\lor  \\ldots \\lor  \\left(P\\left(a_{n}\\right) = \\bot\\right), \\left[\\forall_{x \\in \\left\\{a_{1}, a_{2}, \\ldots, a_{n}\\right\\}}~P\\left(x\\right)\\right] = \\bot\\right)\n"
     ]
    }
   ],
   "source": [
    "# Show the LaTeX representation of the expression for convenience if you need it.\n",
    "print(stored_expr.latex())"
   ]
  },
  {
   "cell_type": "code",
   "execution_count": 5,
   "metadata": {},
   "outputs": [
    {
     "data": {
      "text/html": [
       "<table>\n",
       "<tr><th>name</th><th>description</th><th>default</th><th>current value</th><th>related methods</th></tr><tr><td>wrap_positions</td><td>position(s) at which wrapping is to occur; 'n' is after the nth comma.</td><td>()</td><td>()</td><td>('with_wrapping_at',)</td></tr>\n",
       "<tr><td>justification</td><td>if any wrap positions are set, justify to the 'left', 'center', or 'right'</td><td>left</td><td>left</td><td>('with_justification',)</td></tr>\n",
       "</table>\n"
      ],
      "text/plain": [
       "style name: wrap_positions\n",
       "description: position(s) at which wrapping is to occur; 'n' is after the nth comma.\n",
       "default: ()\n",
       "current value: ()\n",
       "related methods: ('with_wrapping_at',)\n",
       "style name: justification\n",
       "description: if any wrap positions are set, justify to the 'left', 'center', or 'right'\n",
       "default: left\n",
       "current value: left\n",
       "related methods: ('with_justification',)"
      ]
     },
     "metadata": {},
     "output_type": "display_data"
    }
   ],
   "source": [
    "stored_expr.style_options()"
   ]
  },
  {
   "cell_type": "code",
   "execution_count": 6,
   "metadata": {},
   "outputs": [
    {
     "data": {
      "text/html": [
       "<table><tr><th>&nbsp;</th><th>core type</th><th>sub-expressions</th><th>expression</th></tr>\n",
       "<tr><td>0</td><td>ExprTuple</td><td>1, 2</td><td><a class=\"ProveItLink\" href=\"expr.ipynb\"><img src=\"expr.png\" style=\"display:inline;vertical-align:middle;\" /></a></td></tr>\n",
       "<tr><td>1</td><td>Operation</td><td>operator:&nbsp;3<br>operands:&nbsp;4<br></td><td><a class=\"ProveItLink\" href=\"../b155786f4f1ad6548140073bb8cddf0b0e3ce11f0/expr.ipynb\"><img src=\"../b155786f4f1ad6548140073bb8cddf0b0e3ce11f0/expr.png\" style=\"display:inline;vertical-align:middle;\" /></a></td></tr>\n",
       "<tr><td>2</td><td>Operation</td><td>operator:&nbsp;13<br>operands:&nbsp;5<br></td><td><a class=\"ProveItLink\" href=\"../08e76f7772c2829afcb57d352430d161e1c3a44c0/expr.ipynb\"><img src=\"../08e76f7772c2829afcb57d352430d161e1c3a44c0/expr.png\" style=\"display:inline;vertical-align:middle;\" /></a></td></tr>\n",
       "<tr><td>3</td><td>Literal</td><td></td><td><a class=\"ProveItLink\" href=\"../../../../../booleans/disjunction/__pv_it/common/ef8e59262ff8e0133aa1ca984dd6b3a41bf69d5b0/expr.ipynb\"><img src=\"../../../../../booleans/disjunction/__pv_it/common/ef8e59262ff8e0133aa1ca984dd6b3a41bf69d5b0/expr.png\" style=\"display:inline;vertical-align:middle;\" /></a></td></tr>\n",
       "<tr><td>4</td><td>ExprTuple</td><td>6</td><td><a class=\"ProveItLink\" href=\"../cafebc5b0fdc85de58a3c23be1d0367ebab8180e0/expr.ipynb\"><img src=\"../cafebc5b0fdc85de58a3c23be1d0367ebab8180e0/expr.png\" style=\"display:inline;vertical-align:middle;\" /></a></td></tr>\n",
       "<tr><td>5</td><td>ExprTuple</td><td>7, 17</td><td><a class=\"ProveItLink\" href=\"../dcdbde85fed47af8ef429367ba6cae11e70775600/expr.ipynb\"><img src=\"../dcdbde85fed47af8ef429367ba6cae11e70775600/expr.png\" style=\"display:inline;vertical-align:middle;\" /></a></td></tr>\n",
       "<tr><td>6</td><td>ExprRange</td><td>lambda_map:&nbsp;8<br>start_index:&nbsp;31<br>end_index:&nbsp;32<br></td><td><a class=\"ProveItLink\" href=\"../4f2d1e2e5d4d58508c3d4493d77afd769d0800790/expr.ipynb\"><img src=\"../4f2d1e2e5d4d58508c3d4493d77afd769d0800790/expr.png\" style=\"display:inline;vertical-align:middle;\" /></a></td></tr>\n",
       "<tr><td>7</td><td>Operation</td><td>operator:&nbsp;9<br>operand:&nbsp;12<br></td><td><a class=\"ProveItLink\" href=\"../a49f260a0dcc49d450500114ed3274c7149165610/expr.ipynb\"><img src=\"../a49f260a0dcc49d450500114ed3274c7149165610/expr.png\" style=\"display:inline;vertical-align:middle;\" /></a></td></tr>\n",
       "<tr><td>8</td><td>Lambda</td><td>parameter:&nbsp;36<br>body:&nbsp;11<br></td><td><a class=\"ProveItLink\" href=\"../b9a2d947de5f6df257ea113c5d2025600593599e0/expr.ipynb\"><img src=\"../b9a2d947de5f6df257ea113c5d2025600593599e0/expr.png\" style=\"display:inline;vertical-align:middle;\" /></a></td></tr>\n",
       "<tr><td>9</td><td>Literal</td><td></td><td><a class=\"ProveItLink\" href=\"../../../../../booleans/quantification/universality/__pv_it/common/083d2baa0b8ecab1d230f9ec29a15aa1355809fb0/expr.ipynb\"><img src=\"../../../../../booleans/quantification/universality/__pv_it/common/083d2baa0b8ecab1d230f9ec29a15aa1355809fb0/expr.png\" style=\"display:inline;vertical-align:middle;\" /></a></td></tr>\n",
       "<tr><td>10</td><td>ExprTuple</td><td>12</td><td><a class=\"ProveItLink\" href=\"../4365d8d1ff4e7287acac8d3e6666c7885e597b4b0/expr.ipynb\"><img src=\"../4365d8d1ff4e7287acac8d3e6666c7885e597b4b0/expr.png\" style=\"display:inline;vertical-align:middle;\" /></a></td></tr>\n",
       "<tr><td>11</td><td>Operation</td><td>operator:&nbsp;13<br>operands:&nbsp;14<br></td><td><a class=\"ProveItLink\" href=\"../8b8e69d0ad7663e394fd509c07637d089924c2300/expr.ipynb\"><img src=\"../8b8e69d0ad7663e394fd509c07637d089924c2300/expr.png\" style=\"display:inline;vertical-align:middle;\" /></a></td></tr>\n",
       "<tr><td>12</td><td>Lambda</td><td>parameter:&nbsp;25<br>body:&nbsp;15<br></td><td><a class=\"ProveItLink\" href=\"../49ee56d2ba8801c2b8b041ab4669383d1180580d0/expr.ipynb\"><img src=\"../49ee56d2ba8801c2b8b041ab4669383d1180580d0/expr.png\" style=\"display:inline;vertical-align:middle;\" /></a></td></tr>\n",
       "<tr><td>13</td><td>Literal</td><td></td><td><a class=\"ProveItLink\" href=\"../../../../../equality/__pv_it/common/fb96dc12b2aa8801dda64d0132b396c63d1502bb0/expr.ipynb\"><img src=\"../../../../../equality/__pv_it/common/fb96dc12b2aa8801dda64d0132b396c63d1502bb0/expr.png\" style=\"display:inline;vertical-align:middle;\" /></a></td></tr>\n",
       "<tr><td>14</td><td>ExprTuple</td><td>16, 17</td><td><a class=\"ProveItLink\" href=\"../5d5c80d8deeea6f702e2147a1929dead09f341920/expr.ipynb\"><img src=\"../5d5c80d8deeea6f702e2147a1929dead09f341920/expr.png\" style=\"display:inline;vertical-align:middle;\" /></a></td></tr>\n",
       "<tr><td>15</td><td>Conditional</td><td>value:&nbsp;18<br>condition:&nbsp;19<br></td><td><a class=\"ProveItLink\" href=\"../36258d87e50569e78a06730a109657b637cd9e9e0/expr.ipynb\"><img src=\"../36258d87e50569e78a06730a109657b637cd9e9e0/expr.png\" style=\"display:inline;vertical-align:middle;\" /></a></td></tr>\n",
       "<tr><td>16</td><td>Operation</td><td>operator:&nbsp;21<br>operand:&nbsp;33<br></td><td><a class=\"ProveItLink\" href=\"../../../../../../core_expr_types/__pv_it/common/521cb0be4a68f6d795db52f69a3540997c70f49f0/expr.ipynb\"><img src=\"../../../../../../core_expr_types/__pv_it/common/521cb0be4a68f6d795db52f69a3540997c70f49f0/expr.png\" style=\"display:inline;vertical-align:middle;\" /></a></td></tr>\n",
       "<tr><td>17</td><td>Literal</td><td></td><td><a class=\"ProveItLink\" href=\"../../../../../booleans/__pv_it/common/e0f123f2e4f322e1eba7f861749cda9fd9d99a120/expr.ipynb\"><img src=\"../../../../../booleans/__pv_it/common/e0f123f2e4f322e1eba7f861749cda9fd9d99a120/expr.png\" style=\"display:inline;vertical-align:middle;\" /></a></td></tr>\n",
       "<tr><td>18</td><td>Operation</td><td>operator:&nbsp;21<br>operand:&nbsp;25<br></td><td><a class=\"ProveItLink\" href=\"../../../../../../__pv_it/common/32fc7f13c9e7e89074583aa5bfc208d125f839970/expr.ipynb\"><img src=\"../../../../../../__pv_it/common/32fc7f13c9e7e89074583aa5bfc208d125f839970/expr.png\" style=\"display:inline;vertical-align:middle;\" /></a></td></tr>\n",
       "<tr><td>19</td><td>Operation</td><td>operator:&nbsp;23<br>operands:&nbsp;24<br></td><td><a class=\"ProveItLink\" href=\"../43293eee1798dd344ca98cfef30969fbcce760c50/expr.ipynb\"><img src=\"../43293eee1798dd344ca98cfef30969fbcce760c50/expr.png\" style=\"display:inline;vertical-align:middle;\" /></a></td></tr>\n",
       "<tr><td>20</td><td>ExprTuple</td><td>33</td><td><a class=\"ProveItLink\" href=\"../../../../../../core_expr_types/__pv_it/common/635471789b6a968dcc42192ce9330f32b0dd11940/expr.ipynb\"><img src=\"../../../../../../core_expr_types/__pv_it/common/635471789b6a968dcc42192ce9330f32b0dd11940/expr.png\" style=\"display:inline;vertical-align:middle;\" /></a></td></tr>\n",
       "<tr><td>21</td><td>Variable</td><td></td><td><a class=\"ProveItLink\" href=\"../../../../../../__pv_it/common/de55da274ba0f49c86925fbf3828021c04d27faf0/expr.ipynb\"><img src=\"../../../../../../__pv_it/common/de55da274ba0f49c86925fbf3828021c04d27faf0/expr.png\" style=\"display:inline;vertical-align:middle;\" /></a></td></tr>\n",
       "<tr><td>22</td><td>ExprTuple</td><td>25</td><td><a class=\"ProveItLink\" href=\"../../../../../../__pv_it/common/eacfeccc0521684fcb20fe8f5180ac50fca471f20/expr.ipynb\"><img src=\"../../../../../../__pv_it/common/eacfeccc0521684fcb20fe8f5180ac50fca471f20/expr.png\" style=\"display:inline;vertical-align:middle;\" /></a></td></tr>\n",
       "<tr><td>23</td><td>Literal</td><td></td><td><a class=\"ProveItLink\" href=\"../../../../membership/__pv_it/common/477487d8796864d23d5810f83761435f25167f690/expr.ipynb\"><img src=\"../../../../membership/__pv_it/common/477487d8796864d23d5810f83761435f25167f690/expr.png\" style=\"display:inline;vertical-align:middle;\" /></a></td></tr>\n",
       "<tr><td>24</td><td>ExprTuple</td><td>25, 26</td><td><a class=\"ProveItLink\" href=\"../8549278c165164ffd31608100f5017aab9a755510/expr.ipynb\"><img src=\"../8549278c165164ffd31608100f5017aab9a755510/expr.png\" style=\"display:inline;vertical-align:middle;\" /></a></td></tr>\n",
       "<tr><td>25</td><td>Variable</td><td></td><td><a class=\"ProveItLink\" href=\"../../../../../../__pv_it/common/a0d9d672aa5e272d907247690c152cc2c6daafb70/expr.ipynb\"><img src=\"../../../../../../__pv_it/common/a0d9d672aa5e272d907247690c152cc2c6daafb70/expr.png\" style=\"display:inline;vertical-align:middle;\" /></a></td></tr>\n",
       "<tr><td>26</td><td>Operation</td><td>operator:&nbsp;27<br>operands:&nbsp;28<br></td><td><a class=\"ProveItLink\" href=\"../f2820a152e046f325fff54741499f143c4e0a74d0/expr.ipynb\"><img src=\"../f2820a152e046f325fff54741499f143c4e0a74d0/expr.png\" style=\"display:inline;vertical-align:middle;\" /></a></td></tr>\n",
       "<tr><td>27</td><td>Literal</td><td></td><td><a class=\"ProveItLink\" href=\"../../common/0ead90ccbf4f17bc585a51f8aa904bb77916ae6e0/expr.ipynb\"><img src=\"../../common/0ead90ccbf4f17bc585a51f8aa904bb77916ae6e0/expr.png\" style=\"display:inline;vertical-align:middle;\" /></a></td></tr>\n",
       "<tr><td>28</td><td>ExprTuple</td><td>29</td><td><a class=\"ProveItLink\" href=\"../7b420e2a84f53537bd285f3baa95d83c0ea120860/expr.ipynb\"><img src=\"../7b420e2a84f53537bd285f3baa95d83c0ea120860/expr.png\" style=\"display:inline;vertical-align:middle;\" /></a></td></tr>\n",
       "<tr><td>29</td><td>ExprRange</td><td>lambda_map:&nbsp;30<br>start_index:&nbsp;31<br>end_index:&nbsp;32<br></td><td><a class=\"ProveItLink\" href=\"../../../../../../core_expr_types/__pv_it/common/7ee2dd28754734e63298daa7955625a3d904698e0/expr.ipynb\"><img src=\"../../../../../../core_expr_types/__pv_it/common/7ee2dd28754734e63298daa7955625a3d904698e0/expr.png\" style=\"display:inline;vertical-align:middle;\" /></a></td></tr>\n",
       "<tr><td>30</td><td>Lambda</td><td>parameter:&nbsp;36<br>body:&nbsp;33<br></td><td><a class=\"ProveItLink\" href=\"../../../../../../core_expr_types/__pv_it/common/1527ad383e12f9c6ed6b371c9a7dd1892d80da1b0/expr.ipynb\"><img src=\"../../../../../../core_expr_types/__pv_it/common/1527ad383e12f9c6ed6b371c9a7dd1892d80da1b0/expr.png\" style=\"display:inline;vertical-align:middle;\" /></a></td></tr>\n",
       "<tr><td>31</td><td>Literal</td><td></td><td><a class=\"ProveItLink\" href=\"../../../../../../numbers/numerals/__pv_it/common/682157d4892d216d9e5626ed533aff9b56b9506e0/expr.ipynb\"><img src=\"../../../../../../numbers/numerals/__pv_it/common/682157d4892d216d9e5626ed533aff9b56b9506e0/expr.png\" style=\"display:inline;vertical-align:middle;\" /></a></td></tr>\n",
       "<tr><td>32</td><td>Variable</td><td></td><td><a class=\"ProveItLink\" href=\"../../../../../../__pv_it/common/8968bb04eb3f7dfa02353397ce929b025bbd79c20/expr.ipynb\"><img src=\"../../../../../../__pv_it/common/8968bb04eb3f7dfa02353397ce929b025bbd79c20/expr.png\" style=\"display:inline;vertical-align:middle;\" /></a></td></tr>\n",
       "<tr><td>33</td><td>IndexedVar</td><td>variable:&nbsp;34<br>index:&nbsp;36<br></td><td><a class=\"ProveItLink\" href=\"../../../../../../core_expr_types/__pv_it/common/3a62c13e156d62d52fe585fa37cc2172fcf685260/expr.ipynb\"><img src=\"../../../../../../core_expr_types/__pv_it/common/3a62c13e156d62d52fe585fa37cc2172fcf685260/expr.png\" style=\"display:inline;vertical-align:middle;\" /></a></td></tr>\n",
       "<tr><td>34</td><td>Variable</td><td></td><td><a class=\"ProveItLink\" href=\"../../../../../../__pv_it/common/c06c606ec12678c58933ac85412ecadc2ae28be60/expr.ipynb\"><img src=\"../../../../../../__pv_it/common/c06c606ec12678c58933ac85412ecadc2ae28be60/expr.png\" style=\"display:inline;vertical-align:middle;\" /></a></td></tr>\n",
       "<tr><td>35</td><td>ExprTuple</td><td>36</td><td><a class=\"ProveItLink\" href=\"../../../../../../core_expr_types/__pv_it/common/4b0dd6be36d76552eda6a95d5b4a27f5a5b62f900/expr.ipynb\"><img src=\"../../../../../../core_expr_types/__pv_it/common/4b0dd6be36d76552eda6a95d5b4a27f5a5b62f900/expr.png\" style=\"display:inline;vertical-align:middle;\" /></a></td></tr>\n",
       "<tr><td>36</td><td>Variable</td><td></td><td><a class=\"ProveItLink\" href=\"../../../../../../core_expr_types/__pv_it/common/006c465e50948aa2b52285e2de47974f741255cc0/expr.ipynb\"><img src=\"../../../../../../core_expr_types/__pv_it/common/006c465e50948aa2b52285e2de47974f741255cc0/expr.png\" style=\"display:inline;vertical-align:middle;\" /></a></td></tr>\n",
       "</table>\n"
      ],
      "text/plain": [
       "0. ((P(a_{1}) = FALSE) or  (P(a_{2}) = FALSE) or  ... or  (P(a_{n}) = FALSE), [forall_{x in {a_{1}, a_{2}, ..., a_{n}}} P(x)] = FALSE)\n",
       "   core type: ExprTuple\n",
       "   sub-expressions: 1, 2\n",
       "1. (P(a_{1}) = FALSE) or  (P(a_{2}) = FALSE) or  ... or  (P(a_{n}) = FALSE)\n",
       "   core type: Operation\n",
       "   operator: 3\n",
       "   operands: 4\n",
       "2. [forall_{x in {a_{1}, a_{2}, ..., a_{n}}} P(x)] = FALSE\n",
       "   core type: Operation\n",
       "   operator: 13\n",
       "   operands: 5\n",
       "3. or\n",
       "   core type: Literal\n",
       "   sub-expressions: \n",
       "4. ((P(a_{1}) = FALSE), (P(a_{2}) = FALSE), ..., (P(a_{n}) = FALSE))\n",
       "   core type: ExprTuple\n",
       "   sub-expressions: 6\n",
       "5. (forall_{x in {a_{1}, a_{2}, ..., a_{n}}} P(x), FALSE)\n",
       "   core type: ExprTuple\n",
       "   sub-expressions: 7, 17\n",
       "6. (P(a_{1}) = FALSE), (P(a_{2}) = FALSE), ..., (P(a_{n}) = FALSE)\n",
       "   core type: ExprRange\n",
       "   lambda_map: 8\n",
       "   start_index: 31\n",
       "   end_index: 32\n",
       "7. forall_{x in {a_{1}, a_{2}, ..., a_{n}}} P(x)\n",
       "   core type: Operation\n",
       "   operator: 9\n",
       "   operand: 12\n",
       "8. _a -> (P(a_{_a}) = FALSE)\n",
       "   core type: Lambda\n",
       "   parameter: 36\n",
       "   body: 11\n",
       "9. forall\n",
       "   core type: Literal\n",
       "   sub-expressions: \n",
       "10. (x -> {P(x) if x in {a_{1}, a_{2}, ..., a_{n}}.)\n",
       "    core type: ExprTuple\n",
       "    sub-expressions: 12\n",
       "11. P(a_{_a}) = FALSE\n",
       "    core type: Operation\n",
       "    operator: 13\n",
       "    operands: 14\n",
       "12. x -> {P(x) if x in {a_{1}, a_{2}, ..., a_{n}}.\n",
       "    core type: Lambda\n",
       "    parameter: 25\n",
       "    body: 15\n",
       "13. =\n",
       "    core type: Literal\n",
       "    sub-expressions: \n",
       "14. (P(a_{_a}), FALSE)\n",
       "    core type: ExprTuple\n",
       "    sub-expressions: 16, 17\n",
       "15. {P(x) if x in {a_{1}, a_{2}, ..., a_{n}}.\n",
       "    core type: Conditional\n",
       "    value: 18\n",
       "    condition: 19\n",
       "16. P(a_{_a})\n",
       "    core type: Operation\n",
       "    operator: 21\n",
       "    operand: 33\n",
       "17. FALSE\n",
       "    core type: Literal\n",
       "    sub-expressions: \n",
       "18. P(x)\n",
       "    core type: Operation\n",
       "    operator: 21\n",
       "    operand: 25\n",
       "19. x in {a_{1}, a_{2}, ..., a_{n}}\n",
       "    core type: Operation\n",
       "    operator: 23\n",
       "    operands: 24\n",
       "20. (a_{_a})\n",
       "    core type: ExprTuple\n",
       "    sub-expressions: 33\n",
       "21. P\n",
       "    core type: Variable\n",
       "    sub-expressions: \n",
       "22. (x)\n",
       "    core type: ExprTuple\n",
       "    sub-expressions: 25\n",
       "23. in\n",
       "    core type: Literal\n",
       "    sub-expressions: \n",
       "24. (x, {a_{1}, a_{2}, ..., a_{n}})\n",
       "    core type: ExprTuple\n",
       "    sub-expressions: 25, 26\n",
       "25. x\n",
       "    core type: Variable\n",
       "    sub-expressions: \n",
       "26. {a_{1}, a_{2}, ..., a_{n}}\n",
       "    core type: Operation\n",
       "    operator: 27\n",
       "    operands: 28\n",
       "27. Set\n",
       "    core type: Literal\n",
       "    sub-expressions: \n",
       "28. (a_{1}, a_{2}, ..., a_{n})\n",
       "    core type: ExprTuple\n",
       "    sub-expressions: 29\n",
       "29. a_{1}, a_{2}, ..., a_{n}\n",
       "    core type: ExprRange\n",
       "    lambda_map: 30\n",
       "    start_index: 31\n",
       "    end_index: 32\n",
       "30. _a -> a_{_a}\n",
       "    core type: Lambda\n",
       "    parameter: 36\n",
       "    body: 33\n",
       "31. 1\n",
       "    core type: Literal\n",
       "    sub-expressions: \n",
       "32. n\n",
       "    core type: Variable\n",
       "    sub-expressions: \n",
       "33. a_{_a}\n",
       "    core type: IndexedVar\n",
       "variable: 34\n",
       "index: 36\n",
       "34. a\n",
       "    core type: Variable\n",
       "    sub-expressions: \n",
       "35. (_a)\n",
       "    core type: ExprTuple\n",
       "    sub-expressions: 36\n",
       "36. _a\n",
       "    core type: Variable\n",
       "    sub-expressions: "
      ]
     },
     "metadata": {},
     "output_type": "display_data"
    }
   ],
   "source": [
    "# display the expression information\n",
    "stored_expr.expr_info()"
   ]
  },
  {
   "cell_type": "code",
   "execution_count": null,
   "metadata": {},
   "outputs": [],
   "source": []
  }
 ],
 "metadata": {
  "kernelspec": {
   "display_name": "Python 3",
   "language": "python",
   "name": "python3"
  }
 },
 "nbformat": 4,
 "nbformat_minor": 0
}