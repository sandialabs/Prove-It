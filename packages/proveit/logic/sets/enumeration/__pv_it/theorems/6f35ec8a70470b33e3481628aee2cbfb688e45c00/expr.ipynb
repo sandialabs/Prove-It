{
 "cells": [
  {
   "cell_type": "markdown",
   "metadata": {},
   "source": [
    "Expression of type <a class=\"ProveItLink\" href=\"../../../../../../../../doc/html/api/proveit.ExprTuple.html\">ExprTuple</a>\n",
    "=======================\n",
    "# from the theory of <a class=\"ProveItLink\" href=\"../../../_theory_nbs_/theory.ipynb\">proveit.logic.sets.enumeration</a>"
   ]
  },
  {
   "cell_type": "code",
   "execution_count": 1,
   "metadata": {},
   "outputs": [],
   "source": [
    "import proveit\n",
    "# Automation is not needed when building an expression:\n",
    "proveit.defaults.automation = False # This will speed things up.\n",
    "proveit.defaults.inline_pngs = False # Makes files smaller.\n",
    "%load_expr # Load the stored expression as 'stored_expr'\n",
    "# import Expression classes needed to build the expression\n",
    "from proveit import ExprTuple, Lambda, P, Px, Q, Qx, x\n",
    "from proveit.core_expr_types import Qk_implies_Pk_a1_to_an, a_1_to_n\n",
    "from proveit.logic import Forall, Set"
   ]
  },
  {
   "cell_type": "code",
   "execution_count": 2,
   "metadata": {},
   "outputs": [
    {
     "data": {
      "text/html": [
       "<strong id=\"expr\">expr:</strong> <a class=\"ProveItLink\" href=\"expr.ipynb\"><img src=\"expr.png\" style=\"display:inline;vertical-align:middle;\" /></a><br>"
      ],
      "text/plain": [
       "<IPython.core.display.HTML object>"
      ]
     },
     "metadata": {},
     "output_type": "display_data"
    }
   ],
   "source": [
    "# build up the expression from sub-expressions\n",
    "expr = ExprTuple(Lambda([a_1_to_n], Forall(instance_param_or_params = [P, Q], instance_expr = Forall(instance_param_or_params = [x], instance_expr = Px, domain = Set(a_1_to_n), condition = Qx), condition = Qk_implies_Pk_a1_to_an)))"
   ]
  },
  {
   "cell_type": "code",
   "execution_count": 3,
   "metadata": {},
   "outputs": [
    {
     "name": "stdout",
     "output_type": "stream",
     "text": [
      "Passed sanity check: expr matches stored_expr\n"
     ]
    }
   ],
   "source": [
    "# check that the built expression is the same as the stored expression\n",
    "assert expr == stored_expr\n",
    "assert expr._style_id == stored_expr._style_id\n",
    "print(\"Passed sanity check: expr matches stored_expr\")"
   ]
  },
  {
   "cell_type": "code",
   "execution_count": 4,
   "metadata": {},
   "outputs": [
    {
     "name": "stdout",
     "output_type": "stream",
     "text": [
      "\\left(\\left(a_{1}, a_{2}, \\ldots, a_{n}\\right) \\mapsto \\left[\\forall_{P, Q~|~\\left(Q\\left(a_{1}\\right) \\Rightarrow P\\left(a_{1}\\right)\\right), \\left(Q\\left(a_{2}\\right) \\Rightarrow P\\left(a_{2}\\right)\\right), \\ldots, \\left(Q\\left(a_{n}\\right) \\Rightarrow P\\left(a_{n}\\right)\\right)}~\\left[\\forall_{x \\in \\left\\{a_{1}, a_{2}, \\ldots, a_{n}\\right\\}~|~Q\\left(x\\right)}~P\\left(x\\right)\\right]\\right]\\right)\n"
     ]
    }
   ],
   "source": [
    "# Show the LaTeX representation of the expression for convenience if you need it.\n",
    "print(stored_expr.latex())"
   ]
  },
  {
   "cell_type": "code",
   "execution_count": 5,
   "metadata": {},
   "outputs": [
    {
     "data": {
      "text/html": [
       "no style options"
      ],
      "text/plain": [
       "no style options"
      ]
     },
     "metadata": {},
     "output_type": "display_data"
    }
   ],
   "source": [
    "stored_expr.style_options()"
   ]
  },
  {
   "cell_type": "code",
   "execution_count": 6,
   "metadata": {},
   "outputs": [
    {
     "data": {
      "text/html": [
       "<table><tr><th>&nbsp;</th><th>core type</th><th>sub-expressions</th><th>expression</th></tr>\n",
       "<tr><td>0</td><td>ExprTuple</td><td>1</td><td><a class=\"ProveItLink\" href=\"expr.ipynb\"><img src=\"expr.png\" style=\"display:inline;vertical-align:middle;\" /></a></td></tr>\n",
       "<tr><td>1</td><td>Lambda</td><td>parameters:&nbsp;36<br>body:&nbsp;2<br></td><td><a class=\"ProveItLink\" href=\"../cf79bb1231b3dc732d0905ee8e9db7a72c06c0f10/expr.ipynb\"><img src=\"../cf79bb1231b3dc732d0905ee8e9db7a72c06c0f10/expr.png\" style=\"display:inline;vertical-align:middle;\" /></a></td></tr>\n",
       "<tr><td>2</td><td>Operation</td><td>operator:&nbsp;9<br>operand:&nbsp;4<br></td><td><a class=\"ProveItLink\" href=\"../322b97e255f2d7b3c4f506c3e60c76ca478623930/expr.ipynb\"><img src=\"../322b97e255f2d7b3c4f506c3e60c76ca478623930/expr.png\" style=\"display:inline;vertical-align:middle;\" /></a></td></tr>\n",
       "<tr><td>3</td><td>ExprTuple</td><td>4</td><td><a class=\"ProveItLink\" href=\"../12073c90ef3e738bf3e7361e5dbdb254b2c1937e0/expr.ipynb\"><img src=\"../12073c90ef3e738bf3e7361e5dbdb254b2c1937e0/expr.png\" style=\"display:inline;vertical-align:middle;\" /></a></td></tr>\n",
       "<tr><td>4</td><td>Lambda</td><td>parameters:&nbsp;5<br>body:&nbsp;6<br></td><td><a class=\"ProveItLink\" href=\"../97920162fad95dbd7f93067c4debf3656e8b24810/expr.ipynb\"><img src=\"../97920162fad95dbd7f93067c4debf3656e8b24810/expr.png\" style=\"display:inline;vertical-align:middle;\" /></a></td></tr>\n",
       "<tr><td>5</td><td>ExprTuple</td><td>31, 30</td><td><a class=\"ProveItLink\" href=\"../c4c1f21d6347f60062175d1a42df20cb07a4deb80/expr.ipynb\"><img src=\"../c4c1f21d6347f60062175d1a42df20cb07a4deb80/expr.png\" style=\"display:inline;vertical-align:middle;\" /></a></td></tr>\n",
       "<tr><td>6</td><td>Conditional</td><td>value:&nbsp;7<br>condition:&nbsp;8<br></td><td><a class=\"ProveItLink\" href=\"../c40930a917d0b938948f094a9664748c116665f00/expr.ipynb\"><img src=\"../c40930a917d0b938948f094a9664748c116665f00/expr.png\" style=\"display:inline;vertical-align:middle;\" /></a></td></tr>\n",
       "<tr><td>7</td><td>Operation</td><td>operator:&nbsp;9<br>operand:&nbsp;12<br></td><td><a class=\"ProveItLink\" href=\"../af4c7430c7785e16b200a9acc63d56e6f6d786010/expr.ipynb\"><img src=\"../af4c7430c7785e16b200a9acc63d56e6f6d786010/expr.png\" style=\"display:inline;vertical-align:middle;\" /></a></td></tr>\n",
       "<tr><td>8</td><td>Operation</td><td>operator:&nbsp;19<br>operands:&nbsp;11<br></td><td><a class=\"ProveItLink\" href=\"../94ab43d3f8db96b2f087ba594b3adb56a2aaacf80/expr.ipynb\"><img src=\"../94ab43d3f8db96b2f087ba594b3adb56a2aaacf80/expr.png\" style=\"display:inline;vertical-align:middle;\" /></a></td></tr>\n",
       "<tr><td>9</td><td>Literal</td><td></td><td><a class=\"ProveItLink\" href=\"../../../../../booleans/quantification/universality/__pv_it/common/083d2baa0b8ecab1d230f9ec29a15aa1355809fb0/expr.ipynb\"><img src=\"../../../../../booleans/quantification/universality/__pv_it/common/083d2baa0b8ecab1d230f9ec29a15aa1355809fb0/expr.png\" style=\"display:inline;vertical-align:middle;\" /></a></td></tr>\n",
       "<tr><td>10</td><td>ExprTuple</td><td>12</td><td><a class=\"ProveItLink\" href=\"../78b291f62e13fc0b5a9c7c7263bcbfa847b6c8400/expr.ipynb\"><img src=\"../78b291f62e13fc0b5a9c7c7263bcbfa847b6c8400/expr.png\" style=\"display:inline;vertical-align:middle;\" /></a></td></tr>\n",
       "<tr><td>11</td><td>ExprTuple</td><td>13</td><td><a class=\"ProveItLink\" href=\"../4eb8554b14f7330fe653b29bd88e1d78a38225170/expr.ipynb\"><img src=\"../4eb8554b14f7330fe653b29bd88e1d78a38225170/expr.png\" style=\"display:inline;vertical-align:middle;\" /></a></td></tr>\n",
       "<tr><td>12</td><td>Lambda</td><td>parameter:&nbsp;34<br>body:&nbsp;14<br></td><td><a class=\"ProveItLink\" href=\"../049936f845600e9ef48c9ebfe315de8f6bd25bca0/expr.ipynb\"><img src=\"../049936f845600e9ef48c9ebfe315de8f6bd25bca0/expr.png\" style=\"display:inline;vertical-align:middle;\" /></a></td></tr>\n",
       "<tr><td>13</td><td>ExprRange</td><td>lambda_map:&nbsp;15<br>start_index:&nbsp;39<br>end_index:&nbsp;40<br></td><td><a class=\"ProveItLink\" href=\"../../../../../../core_expr_types/__pv_it/common/3e130d0014fb615c989a17c222246754c0fe9d0d0/expr.ipynb\"><img src=\"../../../../../../core_expr_types/__pv_it/common/3e130d0014fb615c989a17c222246754c0fe9d0d0/expr.png\" style=\"display:inline;vertical-align:middle;\" /></a></td></tr>\n",
       "<tr><td>14</td><td>Conditional</td><td>value:&nbsp;16<br>condition:&nbsp;17<br></td><td><a class=\"ProveItLink\" href=\"../df4b21575ec4a1d935cc29704450ef64c1917e870/expr.ipynb\"><img src=\"../df4b21575ec4a1d935cc29704450ef64c1917e870/expr.png\" style=\"display:inline;vertical-align:middle;\" /></a></td></tr>\n",
       "<tr><td>15</td><td>Lambda</td><td>parameter:&nbsp;44<br>body:&nbsp;18<br></td><td><a class=\"ProveItLink\" href=\"../../../../../../core_expr_types/__pv_it/common/7198c205b3e86d9ae4453246ac91d347ebccbadb0/expr.ipynb\"><img src=\"../../../../../../core_expr_types/__pv_it/common/7198c205b3e86d9ae4453246ac91d347ebccbadb0/expr.png\" style=\"display:inline;vertical-align:middle;\" /></a></td></tr>\n",
       "<tr><td>16</td><td>Operation</td><td>operator:&nbsp;31<br>operand:&nbsp;34<br></td><td><a class=\"ProveItLink\" href=\"../../../../../../__pv_it/common/32fc7f13c9e7e89074583aa5bfc208d125f839970/expr.ipynb\"><img src=\"../../../../../../__pv_it/common/32fc7f13c9e7e89074583aa5bfc208d125f839970/expr.png\" style=\"display:inline;vertical-align:middle;\" /></a></td></tr>\n",
       "<tr><td>17</td><td>Operation</td><td>operator:&nbsp;19<br>operands:&nbsp;20<br></td><td><a class=\"ProveItLink\" href=\"../e00165ef9b6cfb45a83b30899b6e199a7895e0270/expr.ipynb\"><img src=\"../e00165ef9b6cfb45a83b30899b6e199a7895e0270/expr.png\" style=\"display:inline;vertical-align:middle;\" /></a></td></tr>\n",
       "<tr><td>18</td><td>Operation</td><td>operator:&nbsp;21<br>operands:&nbsp;22<br></td><td><a class=\"ProveItLink\" href=\"../../../../../../core_expr_types/__pv_it/common/142e18e698142e132208ecf2d642a3c6375601a50/expr.ipynb\"><img src=\"../../../../../../core_expr_types/__pv_it/common/142e18e698142e132208ecf2d642a3c6375601a50/expr.png\" style=\"display:inline;vertical-align:middle;\" /></a></td></tr>\n",
       "<tr><td>19</td><td>Literal</td><td></td><td><a class=\"ProveItLink\" href=\"../../../../../booleans/conjunction/__pv_it/common/42118ff318bd65d98b1393f64ce7c2269feef76e0/expr.ipynb\"><img src=\"../../../../../booleans/conjunction/__pv_it/common/42118ff318bd65d98b1393f64ce7c2269feef76e0/expr.png\" style=\"display:inline;vertical-align:middle;\" /></a></td></tr>\n",
       "<tr><td>20</td><td>ExprTuple</td><td>23, 24</td><td><a class=\"ProveItLink\" href=\"../a36b21791de778c50aae799b9788e67a24fe049b0/expr.ipynb\"><img src=\"../a36b21791de778c50aae799b9788e67a24fe049b0/expr.png\" style=\"display:inline;vertical-align:middle;\" /></a></td></tr>\n",
       "<tr><td>21</td><td>Literal</td><td></td><td><a class=\"ProveItLink\" href=\"../../../../../booleans/implication/__pv_it/common/02bdb382575728da8cdbaed545b9096ea7a1bd5b0/expr.ipynb\"><img src=\"../../../../../booleans/implication/__pv_it/common/02bdb382575728da8cdbaed545b9096ea7a1bd5b0/expr.png\" style=\"display:inline;vertical-align:middle;\" /></a></td></tr>\n",
       "<tr><td>22</td><td>ExprTuple</td><td>25, 26</td><td><a class=\"ProveItLink\" href=\"../../../../../../core_expr_types/__pv_it/common/1e3b0d1121361e1830c74018d4d37504913dd9930/expr.ipynb\"><img src=\"../../../../../../core_expr_types/__pv_it/common/1e3b0d1121361e1830c74018d4d37504913dd9930/expr.png\" style=\"display:inline;vertical-align:middle;\" /></a></td></tr>\n",
       "<tr><td>23</td><td>Operation</td><td>operator:&nbsp;27<br>operands:&nbsp;28<br></td><td><a class=\"ProveItLink\" href=\"../43293eee1798dd344ca98cfef30969fbcce760c50/expr.ipynb\"><img src=\"../43293eee1798dd344ca98cfef30969fbcce760c50/expr.png\" style=\"display:inline;vertical-align:middle;\" /></a></td></tr>\n",
       "<tr><td>24</td><td>Operation</td><td>operator:&nbsp;30<br>operand:&nbsp;34<br></td><td><a class=\"ProveItLink\" href=\"../../../../../../__pv_it/common/fce49534291e406d3d43684e225f1a2779a61f030/expr.ipynb\"><img src=\"../../../../../../__pv_it/common/fce49534291e406d3d43684e225f1a2779a61f030/expr.png\" style=\"display:inline;vertical-align:middle;\" /></a></td></tr>\n",
       "<tr><td>25</td><td>Operation</td><td>operator:&nbsp;30<br>operand:&nbsp;41<br></td><td><a class=\"ProveItLink\" href=\"../../../../../../core_expr_types/__pv_it/common/e75823447512b6e3ac9e7a9dc17f7a9e61986b220/expr.ipynb\"><img src=\"../../../../../../core_expr_types/__pv_it/common/e75823447512b6e3ac9e7a9dc17f7a9e61986b220/expr.png\" style=\"display:inline;vertical-align:middle;\" /></a></td></tr>\n",
       "<tr><td>26</td><td>Operation</td><td>operator:&nbsp;31<br>operand:&nbsp;41<br></td><td><a class=\"ProveItLink\" href=\"../../../../../../core_expr_types/__pv_it/common/521cb0be4a68f6d795db52f69a3540997c70f49f0/expr.ipynb\"><img src=\"../../../../../../core_expr_types/__pv_it/common/521cb0be4a68f6d795db52f69a3540997c70f49f0/expr.png\" style=\"display:inline;vertical-align:middle;\" /></a></td></tr>\n",
       "<tr><td>27</td><td>Literal</td><td></td><td><a class=\"ProveItLink\" href=\"../../../../membership/__pv_it/common/477487d8796864d23d5810f83761435f25167f690/expr.ipynb\"><img src=\"../../../../membership/__pv_it/common/477487d8796864d23d5810f83761435f25167f690/expr.png\" style=\"display:inline;vertical-align:middle;\" /></a></td></tr>\n",
       "<tr><td>28</td><td>ExprTuple</td><td>34, 33</td><td><a class=\"ProveItLink\" href=\"../8549278c165164ffd31608100f5017aab9a755510/expr.ipynb\"><img src=\"../8549278c165164ffd31608100f5017aab9a755510/expr.png\" style=\"display:inline;vertical-align:middle;\" /></a></td></tr>\n",
       "<tr><td>29</td><td>ExprTuple</td><td>34</td><td><a class=\"ProveItLink\" href=\"../../../../../../__pv_it/common/eacfeccc0521684fcb20fe8f5180ac50fca471f20/expr.ipynb\"><img src=\"../../../../../../__pv_it/common/eacfeccc0521684fcb20fe8f5180ac50fca471f20/expr.png\" style=\"display:inline;vertical-align:middle;\" /></a></td></tr>\n",
       "<tr><td>30</td><td>Variable</td><td></td><td><a class=\"ProveItLink\" href=\"../../../../../../__pv_it/common/d72bb8b07403efe79afab564c36a28e21330e5f90/expr.ipynb\"><img src=\"../../../../../../__pv_it/common/d72bb8b07403efe79afab564c36a28e21330e5f90/expr.png\" style=\"display:inline;vertical-align:middle;\" /></a></td></tr>\n",
       "<tr><td>31</td><td>Variable</td><td></td><td><a class=\"ProveItLink\" href=\"../../../../../../__pv_it/common/de55da274ba0f49c86925fbf3828021c04d27faf0/expr.ipynb\"><img src=\"../../../../../../__pv_it/common/de55da274ba0f49c86925fbf3828021c04d27faf0/expr.png\" style=\"display:inline;vertical-align:middle;\" /></a></td></tr>\n",
       "<tr><td>32</td><td>ExprTuple</td><td>41</td><td><a class=\"ProveItLink\" href=\"../../../../../../core_expr_types/__pv_it/common/635471789b6a968dcc42192ce9330f32b0dd11940/expr.ipynb\"><img src=\"../../../../../../core_expr_types/__pv_it/common/635471789b6a968dcc42192ce9330f32b0dd11940/expr.png\" style=\"display:inline;vertical-align:middle;\" /></a></td></tr>\n",
       "<tr><td>33</td><td>Operation</td><td>operator:&nbsp;35<br>operands:&nbsp;36<br></td><td><a class=\"ProveItLink\" href=\"../f2820a152e046f325fff54741499f143c4e0a74d0/expr.ipynb\"><img src=\"../f2820a152e046f325fff54741499f143c4e0a74d0/expr.png\" style=\"display:inline;vertical-align:middle;\" /></a></td></tr>\n",
       "<tr><td>34</td><td>Variable</td><td></td><td><a class=\"ProveItLink\" href=\"../../../../../../__pv_it/common/a0d9d672aa5e272d907247690c152cc2c6daafb70/expr.ipynb\"><img src=\"../../../../../../__pv_it/common/a0d9d672aa5e272d907247690c152cc2c6daafb70/expr.png\" style=\"display:inline;vertical-align:middle;\" /></a></td></tr>\n",
       "<tr><td>35</td><td>Literal</td><td></td><td><a class=\"ProveItLink\" href=\"../../common/0ead90ccbf4f17bc585a51f8aa904bb77916ae6e0/expr.ipynb\"><img src=\"../../common/0ead90ccbf4f17bc585a51f8aa904bb77916ae6e0/expr.png\" style=\"display:inline;vertical-align:middle;\" /></a></td></tr>\n",
       "<tr><td>36</td><td>ExprTuple</td><td>37</td><td><a class=\"ProveItLink\" href=\"../7b420e2a84f53537bd285f3baa95d83c0ea120860/expr.ipynb\"><img src=\"../7b420e2a84f53537bd285f3baa95d83c0ea120860/expr.png\" style=\"display:inline;vertical-align:middle;\" /></a></td></tr>\n",
       "<tr><td>37</td><td>ExprRange</td><td>lambda_map:&nbsp;38<br>start_index:&nbsp;39<br>end_index:&nbsp;40<br></td><td><a class=\"ProveItLink\" href=\"../../../../../../core_expr_types/__pv_it/common/7ee2dd28754734e63298daa7955625a3d904698e0/expr.ipynb\"><img src=\"../../../../../../core_expr_types/__pv_it/common/7ee2dd28754734e63298daa7955625a3d904698e0/expr.png\" style=\"display:inline;vertical-align:middle;\" /></a></td></tr>\n",
       "<tr><td>38</td><td>Lambda</td><td>parameter:&nbsp;44<br>body:&nbsp;41<br></td><td><a class=\"ProveItLink\" href=\"../../../../../../core_expr_types/__pv_it/common/1527ad383e12f9c6ed6b371c9a7dd1892d80da1b0/expr.ipynb\"><img src=\"../../../../../../core_expr_types/__pv_it/common/1527ad383e12f9c6ed6b371c9a7dd1892d80da1b0/expr.png\" style=\"display:inline;vertical-align:middle;\" /></a></td></tr>\n",
       "<tr><td>39</td><td>Literal</td><td></td><td><a class=\"ProveItLink\" href=\"../../../../../../numbers/numerals/__pv_it/common/682157d4892d216d9e5626ed533aff9b56b9506e0/expr.ipynb\"><img src=\"../../../../../../numbers/numerals/__pv_it/common/682157d4892d216d9e5626ed533aff9b56b9506e0/expr.png\" style=\"display:inline;vertical-align:middle;\" /></a></td></tr>\n",
       "<tr><td>40</td><td>Variable</td><td></td><td><a class=\"ProveItLink\" href=\"../../../../../../__pv_it/common/8968bb04eb3f7dfa02353397ce929b025bbd79c20/expr.ipynb\"><img src=\"../../../../../../__pv_it/common/8968bb04eb3f7dfa02353397ce929b025bbd79c20/expr.png\" style=\"display:inline;vertical-align:middle;\" /></a></td></tr>\n",
       "<tr><td>41</td><td>IndexedVar</td><td>variable:&nbsp;42<br>index:&nbsp;44<br></td><td><a class=\"ProveItLink\" href=\"../../../../../../core_expr_types/__pv_it/common/3a62c13e156d62d52fe585fa37cc2172fcf685260/expr.ipynb\"><img src=\"../../../../../../core_expr_types/__pv_it/common/3a62c13e156d62d52fe585fa37cc2172fcf685260/expr.png\" style=\"display:inline;vertical-align:middle;\" /></a></td></tr>\n",
       "<tr><td>42</td><td>Variable</td><td></td><td><a class=\"ProveItLink\" href=\"../../../../../../__pv_it/common/c06c606ec12678c58933ac85412ecadc2ae28be60/expr.ipynb\"><img src=\"../../../../../../__pv_it/common/c06c606ec12678c58933ac85412ecadc2ae28be60/expr.png\" style=\"display:inline;vertical-align:middle;\" /></a></td></tr>\n",
       "<tr><td>43</td><td>ExprTuple</td><td>44</td><td><a class=\"ProveItLink\" href=\"../../../../../../core_expr_types/__pv_it/common/4b0dd6be36d76552eda6a95d5b4a27f5a5b62f900/expr.ipynb\"><img src=\"../../../../../../core_expr_types/__pv_it/common/4b0dd6be36d76552eda6a95d5b4a27f5a5b62f900/expr.png\" style=\"display:inline;vertical-align:middle;\" /></a></td></tr>\n",
       "<tr><td>44</td><td>Variable</td><td></td><td><a class=\"ProveItLink\" href=\"../../../../../../core_expr_types/__pv_it/common/006c465e50948aa2b52285e2de47974f741255cc0/expr.ipynb\"><img src=\"../../../../../../core_expr_types/__pv_it/common/006c465e50948aa2b52285e2de47974f741255cc0/expr.png\" style=\"display:inline;vertical-align:middle;\" /></a></td></tr>\n",
       "</table>\n"
      ],
      "text/plain": [
       "0. ((a_{1}, a_{2}, ..., a_{n}) -> [forall_{P, Q | (Q(a_{1}) => P(a_{1})), (Q(a_{2}) => P(a_{2})), ..., (Q(a_{n}) => P(a_{n}))} [forall_{x in {a_{1}, a_{2}, ..., a_{n}} | Q(x)} P(x)]])\n",
       "   core type: ExprTuple\n",
       "   sub-expressions: 1\n",
       "1. (a_{1}, a_{2}, ..., a_{n}) -> [forall_{P, Q | (Q(a_{1}) => P(a_{1})), (Q(a_{2}) => P(a_{2})), ..., (Q(a_{n}) => P(a_{n}))} [forall_{x in {a_{1}, a_{2}, ..., a_{n}} | Q(x)} P(x)]]\n",
       "   core type: Lambda\n",
       "   parameters: 36\\n   body: 2\n",
       "2. forall_{P, Q | (Q(a_{1}) => P(a_{1})), (Q(a_{2}) => P(a_{2})), ..., (Q(a_{n}) => P(a_{n}))} [forall_{x in {a_{1}, a_{2}, ..., a_{n}} | Q(x)} P(x)]\n",
       "   core type: Operation\n",
       "   operator: 9\n",
       "   operand: 4\n",
       "3. ((P, Q) -> {forall_{x in {a_{1}, a_{2}, ..., a_{n}} | Q(x)} P(x) if (Q(a_{1}) => P(a_{1})) and  (Q(a_{2}) => P(a_{2})) and  ... and  (Q(a_{n}) => P(a_{n})).)\n",
       "   core type: ExprTuple\n",
       "   sub-expressions: 4\n",
       "4. (P, Q) -> {forall_{x in {a_{1}, a_{2}, ..., a_{n}} | Q(x)} P(x) if (Q(a_{1}) => P(a_{1})) and  (Q(a_{2}) => P(a_{2})) and  ... and  (Q(a_{n}) => P(a_{n})).\n",
       "   core type: Lambda\n",
       "   parameters: 5\\n   body: 6\n",
       "5. (P, Q)\n",
       "   core type: ExprTuple\n",
       "   sub-expressions: 31, 30\n",
       "6. {forall_{x in {a_{1}, a_{2}, ..., a_{n}} | Q(x)} P(x) if (Q(a_{1}) => P(a_{1})) and  (Q(a_{2}) => P(a_{2})) and  ... and  (Q(a_{n}) => P(a_{n})).\n",
       "   core type: Conditional\n",
       "   value: 7\n",
       "   condition: 8\n",
       "7. forall_{x in {a_{1}, a_{2}, ..., a_{n}} | Q(x)} P(x)\n",
       "   core type: Operation\n",
       "   operator: 9\n",
       "   operand: 12\n",
       "8. (Q(a_{1}) => P(a_{1})) and  (Q(a_{2}) => P(a_{2})) and  ... and  (Q(a_{n}) => P(a_{n}))\n",
       "   core type: Operation\n",
       "   operator: 19\n",
       "   operands: 11\n",
       "9. forall\n",
       "   core type: Literal\n",
       "   sub-expressions: \n",
       "10. (x -> {P(x) if x in {a_{1}, a_{2}, ..., a_{n}} ,  Q(x).)\n",
       "    core type: ExprTuple\n",
       "    sub-expressions: 12\n",
       "11. ((Q(a_{1}) => P(a_{1})), (Q(a_{2}) => P(a_{2})), ..., (Q(a_{n}) => P(a_{n})))\n",
       "    core type: ExprTuple\n",
       "    sub-expressions: 13\n",
       "12. x -> {P(x) if x in {a_{1}, a_{2}, ..., a_{n}} ,  Q(x).\n",
       "    core type: Lambda\n",
       "    parameter: 34\n",
       "    body: 14\n",
       "13. (Q(a_{1}) => P(a_{1})), (Q(a_{2}) => P(a_{2})), ..., (Q(a_{n}) => P(a_{n}))\n",
       "    core type: ExprRange\n",
       "    lambda_map: 15\n",
       "    start_index: 39\n",
       "    end_index: 40\n",
       "14. {P(x) if x in {a_{1}, a_{2}, ..., a_{n}} ,  Q(x).\n",
       "    core type: Conditional\n",
       "    value: 16\n",
       "    condition: 17\n",
       "15. _a -> (Q(a_{_a}) => P(a_{_a}))\n",
       "    core type: Lambda\n",
       "    parameter: 44\n",
       "    body: 18\n",
       "16. P(x)\n",
       "    core type: Operation\n",
       "    operator: 31\n",
       "    operand: 34\n",
       "17. (x in {a_{1}, a_{2}, ..., a_{n}}) and Q(x)\n",
       "    core type: Operation\n",
       "    operator: 19\n",
       "    operands: 20\n",
       "18. Q(a_{_a}) => P(a_{_a})\n",
       "    core type: Operation\n",
       "    operator: 21\n",
       "    operands: 22\n",
       "19. and\n",
       "    core type: Literal\n",
       "    sub-expressions: \n",
       "20. (x in {a_{1}, a_{2}, ..., a_{n}}, Q(x))\n",
       "    core type: ExprTuple\n",
       "    sub-expressions: 23, 24\n",
       "21. =>\n",
       "    core type: Literal\n",
       "    sub-expressions: \n",
       "22. (Q(a_{_a}), P(a_{_a}))\n",
       "    core type: ExprTuple\n",
       "    sub-expressions: 25, 26\n",
       "23. x in {a_{1}, a_{2}, ..., a_{n}}\n",
       "    core type: Operation\n",
       "    operator: 27\n",
       "    operands: 28\n",
       "24. Q(x)\n",
       "    core type: Operation\n",
       "    operator: 30\n",
       "    operand: 34\n",
       "25. Q(a_{_a})\n",
       "    core type: Operation\n",
       "    operator: 30\n",
       "    operand: 41\n",
       "26. P(a_{_a})\n",
       "    core type: Operation\n",
       "    operator: 31\n",
       "    operand: 41\n",
       "27. in\n",
       "    core type: Literal\n",
       "    sub-expressions: \n",
       "28. (x, {a_{1}, a_{2}, ..., a_{n}})\n",
       "    core type: ExprTuple\n",
       "    sub-expressions: 34, 33\n",
       "29. (x)\n",
       "    core type: ExprTuple\n",
       "    sub-expressions: 34\n",
       "30. Q\n",
       "    core type: Variable\n",
       "    sub-expressions: \n",
       "31. P\n",
       "    core type: Variable\n",
       "    sub-expressions: \n",
       "32. (a_{_a})\n",
       "    core type: ExprTuple\n",
       "    sub-expressions: 41\n",
       "33. {a_{1}, a_{2}, ..., a_{n}}\n",
       "    core type: Operation\n",
       "    operator: 35\n",
       "    operands: 36\n",
       "34. x\n",
       "    core type: Variable\n",
       "    sub-expressions: \n",
       "35. Set\n",
       "    core type: Literal\n",
       "    sub-expressions: \n",
       "36. (a_{1}, a_{2}, ..., a_{n})\n",
       "    core type: ExprTuple\n",
       "    sub-expressions: 37\n",
       "37. a_{1}, a_{2}, ..., a_{n}\n",
       "    core type: ExprRange\n",
       "    lambda_map: 38\n",
       "    start_index: 39\n",
       "    end_index: 40\n",
       "38. _a -> a_{_a}\n",
       "    core type: Lambda\n",
       "    parameter: 44\n",
       "    body: 41\n",
       "39. 1\n",
       "    core type: Literal\n",
       "    sub-expressions: \n",
       "40. n\n",
       "    core type: Variable\n",
       "    sub-expressions: \n",
       "41. a_{_a}\n",
       "    core type: IndexedVar\n",
       "variable: 42\n",
       "index: 44\n",
       "42. a\n",
       "    core type: Variable\n",
       "    sub-expressions: \n",
       "43. (_a)\n",
       "    core type: ExprTuple\n",
       "    sub-expressions: 44\n",
       "44. _a\n",
       "    core type: Variable\n",
       "    sub-expressions: "
      ]
     },
     "metadata": {},
     "output_type": "display_data"
    }
   ],
   "source": [
    "# display the expression information\n",
    "stored_expr.expr_info()"
   ]
  },
  {
   "cell_type": "code",
   "execution_count": null,
   "metadata": {},
   "outputs": [],
   "source": []
  }
 ],
 "metadata": {
  "kernelspec": {
   "display_name": "Python 3",
   "language": "python",
   "name": "python3"
  }
 },
 "nbformat": 4,
 "nbformat_minor": 0
}