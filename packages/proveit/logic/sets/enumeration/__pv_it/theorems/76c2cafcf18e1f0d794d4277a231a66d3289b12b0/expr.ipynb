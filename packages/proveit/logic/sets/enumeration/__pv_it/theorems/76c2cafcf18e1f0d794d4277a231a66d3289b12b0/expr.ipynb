{
 "cells": [
  {
   "cell_type": "markdown",
   "metadata": {},
   "source": [
    "Expression of type <a class=\"ProveItLink\" href=\"../../../../../../../../doc/html/api/proveit.logic.Forall.html\">Forall</a>\n",
    "=======================\n",
    "# from the theory of <a class=\"ProveItLink\" href=\"../../../_theory_nbs_/theory.ipynb\">proveit.logic.sets.enumeration</a>"
   ]
  },
  {
   "cell_type": "code",
   "execution_count": 1,
   "metadata": {},
   "outputs": [],
   "source": [
    "import proveit\n",
    "# Automation is not needed when building an expression:\n",
    "proveit.defaults.automation = False # This will speed things up.\n",
    "proveit.defaults.inline_pngs = False # Makes files smaller.\n",
    "%load_expr # Load the stored expression as 'stored_expr'\n",
    "# import Expression classes needed to build the expression\n",
    "from proveit import b, d, m, n\n",
    "from proveit.core_expr_types import a_1_to_m, c_1_to_n\n",
    "from proveit.logic import Equals, Forall, Set\n",
    "from proveit.numbers import Natural"
   ]
  },
  {
   "cell_type": "code",
   "execution_count": 2,
   "metadata": {},
   "outputs": [
    {
     "data": {
      "text/html": [
       "<strong id=\"expr\">expr:</strong> <a class=\"ProveItLink\" href=\"expr.ipynb\"><img src=\"expr.png\" style=\"display:inline;vertical-align:middle;\" /></a><br>"
      ],
      "text/plain": [
       "<IPython.core.display.HTML object>"
      ]
     },
     "metadata": {},
     "output_type": "display_data"
    }
   ],
   "source": [
    "# build up the expression from sub-expressions\n",
    "expr = Forall(instance_param_or_params = [m, n], instance_expr = Forall(instance_param_or_params = [a_1_to_m, b, c_1_to_n, d], instance_expr = Equals(Set(a_1_to_m, b, c_1_to_n), Set(a_1_to_m, d, c_1_to_n)).with_wrapping_at(2), condition = Equals(b, d)), domain = Natural)"
   ]
  },
  {
   "cell_type": "code",
   "execution_count": 3,
   "metadata": {},
   "outputs": [
    {
     "name": "stdout",
     "output_type": "stream",
     "text": [
      "Passed sanity check: expr matches stored_expr\n"
     ]
    }
   ],
   "source": [
    "# check that the built expression is the same as the stored expression\n",
    "assert expr == stored_expr\n",
    "assert expr._style_id == stored_expr._style_id\n",
    "print(\"Passed sanity check: expr matches stored_expr\")"
   ]
  },
  {
   "cell_type": "code",
   "execution_count": 4,
   "metadata": {},
   "outputs": [
    {
     "name": "stdout",
     "output_type": "stream",
     "text": [
      "\\forall_{m, n \\in \\mathbb{N}}~\\left[\\forall_{a_{1}, a_{2}, \\ldots, a_{m}, b, c_{1}, c_{2}, \\ldots, c_{n}, d~|~b = d}~\\left(\\begin{array}{c} \\begin{array}{l} \\left\\{a_{1}, a_{2}, \\ldots, a_{m}, b,c_{1}, c_{2}, \\ldots, c_{n}\\right\\} =  \\\\ \\left\\{a_{1}, a_{2}, \\ldots, a_{m}, d,c_{1}, c_{2}, \\ldots, c_{n}\\right\\} \\end{array} \\end{array}\\right)\\right]\n"
     ]
    }
   ],
   "source": [
    "# Show the LaTeX representation of the expression for convenience if you need it.\n",
    "print(stored_expr.latex())"
   ]
  },
  {
   "cell_type": "code",
   "execution_count": 5,
   "metadata": {},
   "outputs": [
    {
     "data": {
      "text/html": [
       "<table>\n",
       "<tr><th>name</th><th>description</th><th>default</th><th>current value</th><th>related methods</th></tr><tr><td>with_wrapping</td><td>If 'True', wrap the Expression after the parameters</td><td>None</td><td>None/False</td><td>('with_wrapping',)</td></tr>\n",
       "<tr><td>condition_wrapping</td><td>Wrap 'before' or 'after' the condition (or None).</td><td>None</td><td>None/False</td><td>('with_wrap_after_condition', 'with_wrap_before_condition')</td></tr>\n",
       "<tr><td>wrap_params</td><td>If 'True', wraps every two parameters AND wraps the Expression after the parameters</td><td>None</td><td>None/False</td><td>('with_params',)</td></tr>\n",
       "<tr><td>justification</td><td>justify to the 'left', 'center', or 'right' in the array cells</td><td>center</td><td>center</td><td>('with_justification',)</td></tr>\n",
       "</table>\n"
      ],
      "text/plain": [
       "style name: with_wrapping\n",
       "description: If 'True', wrap the Expression after the parameters\n",
       "default: None\n",
       "current value: None/False\n",
       "related methods: ('with_wrapping',)\n",
       "style name: condition_wrapping\n",
       "description: Wrap 'before' or 'after' the condition (or None).\n",
       "default: None\n",
       "current value: None/False\n",
       "related methods: ('with_wrap_after_condition', 'with_wrap_before_condition')\n",
       "style name: wrap_params\n",
       "description: If 'True', wraps every two parameters AND wraps the Expression after the parameters\n",
       "default: None\n",
       "current value: None/False\n",
       "related methods: ('with_params',)\n",
       "style name: justification\n",
       "description: justify to the 'left', 'center', or 'right' in the array cells\n",
       "default: center\n",
       "current value: center\n",
       "related methods: ('with_justification',)"
      ]
     },
     "metadata": {},
     "output_type": "display_data"
    }
   ],
   "source": [
    "stored_expr.style_options()"
   ]
  },
  {
   "cell_type": "code",
   "execution_count": 6,
   "metadata": {},
   "outputs": [
    {
     "data": {
      "text/html": [
       "<table><tr><th>&nbsp;</th><th>core type</th><th>sub-expressions</th><th>expression</th></tr>\n",
       "<tr><td>0</td><td>Operation</td><td>operator:&nbsp;7<br>operand:&nbsp;2<br></td><td><a class=\"ProveItLink\" href=\"expr.ipynb\"><img src=\"expr.png\" style=\"display:inline;vertical-align:middle;\" /></a></td></tr>\n",
       "<tr><td>1</td><td>ExprTuple</td><td>2</td><td><a class=\"ProveItLink\" href=\"../5026407929260aea8043988c5d44a7dbbd669ed20/expr.ipynb\"><img src=\"../5026407929260aea8043988c5d44a7dbbd669ed20/expr.png\" style=\"display:inline;vertical-align:middle;\" /></a></td></tr>\n",
       "<tr><td>2</td><td>Lambda</td><td>parameters:&nbsp;3<br>body:&nbsp;4<br></td><td><a class=\"ProveItLink\" href=\"../81f13d4dbcb8476136da6b9f0bc7f8827b641af00/expr.ipynb\"><img src=\"../81f13d4dbcb8476136da6b9f0bc7f8827b641af00/expr.png\" style=\"display:inline;vertical-align:middle;\" /></a></td></tr>\n",
       "<tr><td>3</td><td>ExprTuple</td><td>35, 38</td><td><a class=\"ProveItLink\" href=\"../05a1ed7149bdab455b0537bd9baa8c6aae03294c0/expr.ipynb\"><img src=\"../05a1ed7149bdab455b0537bd9baa8c6aae03294c0/expr.png\" style=\"display:inline;vertical-align:middle;\" /></a></td></tr>\n",
       "<tr><td>4</td><td>Conditional</td><td>value:&nbsp;5<br>condition:&nbsp;6<br></td><td><a class=\"ProveItLink\" href=\"../f395ddece8472f3cca5c041b70be33465bc62b150/expr.ipynb\"><img src=\"../f395ddece8472f3cca5c041b70be33465bc62b150/expr.png\" style=\"display:inline;vertical-align:middle;\" /></a></td></tr>\n",
       "<tr><td>5</td><td>Operation</td><td>operator:&nbsp;7<br>operand:&nbsp;11<br></td><td><a class=\"ProveItLink\" href=\"../2e9796b3def6c521cf3fc78b1435a9e81af968500/expr.ipynb\"><img src=\"../2e9796b3def6c521cf3fc78b1435a9e81af968500/expr.png\" style=\"display:inline;vertical-align:middle;\" /></a></td></tr>\n",
       "<tr><td>6</td><td>Operation</td><td>operator:&nbsp;9<br>operands:&nbsp;10<br></td><td><a class=\"ProveItLink\" href=\"../deb382ab480ed705c698d9676558b67a323b5f490/expr.ipynb\"><img src=\"../deb382ab480ed705c698d9676558b67a323b5f490/expr.png\" style=\"display:inline;vertical-align:middle;\" /></a></td></tr>\n",
       "<tr><td>7</td><td>Literal</td><td></td><td><a class=\"ProveItLink\" href=\"../../../../../booleans/quantification/universality/__pv_it/common/083d2baa0b8ecab1d230f9ec29a15aa1355809fb0/expr.ipynb\"><img src=\"../../../../../booleans/quantification/universality/__pv_it/common/083d2baa0b8ecab1d230f9ec29a15aa1355809fb0/expr.png\" style=\"display:inline;vertical-align:middle;\" /></a></td></tr>\n",
       "<tr><td>8</td><td>ExprTuple</td><td>11</td><td><a class=\"ProveItLink\" href=\"../41ba0259691cbd67e3f86d9da8382b82b9311ae40/expr.ipynb\"><img src=\"../41ba0259691cbd67e3f86d9da8382b82b9311ae40/expr.png\" style=\"display:inline;vertical-align:middle;\" /></a></td></tr>\n",
       "<tr><td>9</td><td>Literal</td><td></td><td><a class=\"ProveItLink\" href=\"../../../../../booleans/conjunction/__pv_it/common/42118ff318bd65d98b1393f64ce7c2269feef76e0/expr.ipynb\"><img src=\"../../../../../booleans/conjunction/__pv_it/common/42118ff318bd65d98b1393f64ce7c2269feef76e0/expr.png\" style=\"display:inline;vertical-align:middle;\" /></a></td></tr>\n",
       "<tr><td>10</td><td>ExprTuple</td><td>12, 13</td><td><a class=\"ProveItLink\" href=\"../74ab02b43e26a5b1f3ab0135ca892748e41860a00/expr.ipynb\"><img src=\"../74ab02b43e26a5b1f3ab0135ca892748e41860a00/expr.png\" style=\"display:inline;vertical-align:middle;\" /></a></td></tr>\n",
       "<tr><td>11</td><td>Lambda</td><td>parameters:&nbsp;14<br>body:&nbsp;15<br></td><td><a class=\"ProveItLink\" href=\"../557996edc5d192a439375ba3b41f9b269bc01c1a0/expr.ipynb\"><img src=\"../557996edc5d192a439375ba3b41f9b269bc01c1a0/expr.png\" style=\"display:inline;vertical-align:middle;\" /></a></td></tr>\n",
       "<tr><td>12</td><td>Operation</td><td>operator:&nbsp;17<br>operands:&nbsp;16<br></td><td><a class=\"ProveItLink\" href=\"../22736ce9d3a37303b26f11de823dee236fdf12440/expr.ipynb\"><img src=\"../22736ce9d3a37303b26f11de823dee236fdf12440/expr.png\" style=\"display:inline;vertical-align:middle;\" /></a></td></tr>\n",
       "<tr><td>13</td><td>Operation</td><td>operator:&nbsp;17<br>operands:&nbsp;18<br></td><td><a class=\"ProveItLink\" href=\"../a4c62904f3a87ce48a16b43526806be1316ce7cc0/expr.ipynb\"><img src=\"../a4c62904f3a87ce48a16b43526806be1316ce7cc0/expr.png\" style=\"display:inline;vertical-align:middle;\" /></a></td></tr>\n",
       "<tr><td>14</td><td>ExprTuple</td><td>31, 30, 33, 32</td><td><a class=\"ProveItLink\" href=\"../5185afac8684cd689e905f5850df101b2058769b0/expr.ipynb\"><img src=\"../5185afac8684cd689e905f5850df101b2058769b0/expr.png\" style=\"display:inline;vertical-align:middle;\" /></a></td></tr>\n",
       "<tr><td>15</td><td>Conditional</td><td>value:&nbsp;19<br>condition:&nbsp;20<br></td><td><a class=\"ProveItLink\" href=\"../4c34f7f774e009772ca687f58c861da0cb028e670/expr.ipynb\"><img src=\"../4c34f7f774e009772ca687f58c861da0cb028e670/expr.png\" style=\"display:inline;vertical-align:middle;\" /></a></td></tr>\n",
       "<tr><td>16</td><td>ExprTuple</td><td>35, 21</td><td><a class=\"ProveItLink\" href=\"../0d6c99f0fbf307a57c36a9642312d22b5ef7d9810/expr.ipynb\"><img src=\"../0d6c99f0fbf307a57c36a9642312d22b5ef7d9810/expr.png\" style=\"display:inline;vertical-align:middle;\" /></a></td></tr>\n",
       "<tr><td>17</td><td>Literal</td><td></td><td><a class=\"ProveItLink\" href=\"../../../../membership/__pv_it/common/477487d8796864d23d5810f83761435f25167f690/expr.ipynb\"><img src=\"../../../../membership/__pv_it/common/477487d8796864d23d5810f83761435f25167f690/expr.png\" style=\"display:inline;vertical-align:middle;\" /></a></td></tr>\n",
       "<tr><td>18</td><td>ExprTuple</td><td>38, 21</td><td><a class=\"ProveItLink\" href=\"../ecc3c58a9897ba541ec19be82e54ee986957c4200/expr.ipynb\"><img src=\"../ecc3c58a9897ba541ec19be82e54ee986957c4200/expr.png\" style=\"display:inline;vertical-align:middle;\" /></a></td></tr>\n",
       "<tr><td>19</td><td>Operation</td><td>operator:&nbsp;23<br>operands:&nbsp;22<br></td><td><a class=\"ProveItLink\" href=\"../a77f82fee281ef87f60e7c5447d1a76e588bf8ab0/expr.ipynb\"><img src=\"../a77f82fee281ef87f60e7c5447d1a76e588bf8ab0/expr.png\" style=\"display:inline;vertical-align:middle;\" /></a></td></tr>\n",
       "<tr><td>20</td><td>Operation</td><td>operator:&nbsp;23<br>operands:&nbsp;24<br></td><td><a class=\"ProveItLink\" href=\"../a0ca24ef0c9308a0238e2b2d0d1c2a38e9d113f50/expr.ipynb\"><img src=\"../a0ca24ef0c9308a0238e2b2d0d1c2a38e9d113f50/expr.png\" style=\"display:inline;vertical-align:middle;\" /></a></td></tr>\n",
       "<tr><td>21</td><td>Literal</td><td></td><td><a class=\"ProveItLink\" href=\"../../../../../../numbers/number_sets/natural_numbers/__pv_it/common/8b7c321957f52ed3b05b36af612eeae4fa4783bc0/expr.ipynb\"><img src=\"../../../../../../numbers/number_sets/natural_numbers/__pv_it/common/8b7c321957f52ed3b05b36af612eeae4fa4783bc0/expr.png\" style=\"display:inline;vertical-align:middle;\" /></a></td></tr>\n",
       "<tr><td>22</td><td>ExprTuple</td><td>25, 26</td><td><a class=\"ProveItLink\" href=\"../d687810529fa9980794b649796265353c44b92510/expr.ipynb\"><img src=\"../d687810529fa9980794b649796265353c44b92510/expr.png\" style=\"display:inline;vertical-align:middle;\" /></a></td></tr>\n",
       "<tr><td>23</td><td>Literal</td><td></td><td><a class=\"ProveItLink\" href=\"../../../../../equality/__pv_it/common/fb96dc12b2aa8801dda64d0132b396c63d1502bb0/expr.ipynb\"><img src=\"../../../../../equality/__pv_it/common/fb96dc12b2aa8801dda64d0132b396c63d1502bb0/expr.png\" style=\"display:inline;vertical-align:middle;\" /></a></td></tr>\n",
       "<tr><td>24</td><td>ExprTuple</td><td>30, 32</td><td><a class=\"ProveItLink\" href=\"../8d203ea65980ff8c7bfac0136b7f4e82e7529ea50/expr.ipynb\"><img src=\"../8d203ea65980ff8c7bfac0136b7f4e82e7529ea50/expr.png\" style=\"display:inline;vertical-align:middle;\" /></a></td></tr>\n",
       "<tr><td>25</td><td>Operation</td><td>operator:&nbsp;28<br>operands:&nbsp;27<br></td><td><a class=\"ProveItLink\" href=\"../d77e14c8c51b1ffc169b89d4d4397b4e71ac17aa0/expr.ipynb\"><img src=\"../d77e14c8c51b1ffc169b89d4d4397b4e71ac17aa0/expr.png\" style=\"display:inline;vertical-align:middle;\" /></a></td></tr>\n",
       "<tr><td>26</td><td>Operation</td><td>operator:&nbsp;28<br>operands:&nbsp;29<br></td><td><a class=\"ProveItLink\" href=\"../b81a6da774fb707c5b2838195abf7176fd8108730/expr.ipynb\"><img src=\"../b81a6da774fb707c5b2838195abf7176fd8108730/expr.png\" style=\"display:inline;vertical-align:middle;\" /></a></td></tr>\n",
       "<tr><td>27</td><td>ExprTuple</td><td>31, 30, 33</td><td><a class=\"ProveItLink\" href=\"../be06767cf5db53bab4847053b0333591e20181250/expr.ipynb\"><img src=\"../be06767cf5db53bab4847053b0333591e20181250/expr.png\" style=\"display:inline;vertical-align:middle;\" /></a></td></tr>\n",
       "<tr><td>28</td><td>Literal</td><td></td><td><a class=\"ProveItLink\" href=\"../../common/0ead90ccbf4f17bc585a51f8aa904bb77916ae6e0/expr.ipynb\"><img src=\"../../common/0ead90ccbf4f17bc585a51f8aa904bb77916ae6e0/expr.png\" style=\"display:inline;vertical-align:middle;\" /></a></td></tr>\n",
       "<tr><td>29</td><td>ExprTuple</td><td>31, 32, 33</td><td><a class=\"ProveItLink\" href=\"../77c32f6197fe37488a4be80de2330b9fcdbaf4910/expr.ipynb\"><img src=\"../77c32f6197fe37488a4be80de2330b9fcdbaf4910/expr.png\" style=\"display:inline;vertical-align:middle;\" /></a></td></tr>\n",
       "<tr><td>30</td><td>Variable</td><td></td><td><a class=\"ProveItLink\" href=\"../../../../../../__pv_it/common/195236b98c6c564a75b5dbada74b173bc52d5c3e0/expr.ipynb\"><img src=\"../../../../../../__pv_it/common/195236b98c6c564a75b5dbada74b173bc52d5c3e0/expr.png\" style=\"display:inline;vertical-align:middle;\" /></a></td></tr>\n",
       "<tr><td>31</td><td>ExprRange</td><td>lambda_map:&nbsp;34<br>start_index:&nbsp;37<br>end_index:&nbsp;35<br></td><td><a class=\"ProveItLink\" href=\"../../../../../../core_expr_types/__pv_it/common/1b82bfd6d142c0dcddaa042c515eb9e5527f4b990/expr.ipynb\"><img src=\"../../../../../../core_expr_types/__pv_it/common/1b82bfd6d142c0dcddaa042c515eb9e5527f4b990/expr.png\" style=\"display:inline;vertical-align:middle;\" /></a></td></tr>\n",
       "<tr><td>32</td><td>Variable</td><td></td><td><a class=\"ProveItLink\" href=\"../../../../../../__pv_it/common/4f5c524ffda87296de1c79b96880123fe2efedd50/expr.ipynb\"><img src=\"../../../../../../__pv_it/common/4f5c524ffda87296de1c79b96880123fe2efedd50/expr.png\" style=\"display:inline;vertical-align:middle;\" /></a></td></tr>\n",
       "<tr><td>33</td><td>ExprRange</td><td>lambda_map:&nbsp;36<br>start_index:&nbsp;37<br>end_index:&nbsp;38<br></td><td><a class=\"ProveItLink\" href=\"../../../../../../core_expr_types/__pv_it/common/2ae8a0336550b4d1a519316f74812fe20fc282a60/expr.ipynb\"><img src=\"../../../../../../core_expr_types/__pv_it/common/2ae8a0336550b4d1a519316f74812fe20fc282a60/expr.png\" style=\"display:inline;vertical-align:middle;\" /></a></td></tr>\n",
       "<tr><td>34</td><td>Lambda</td><td>parameter:&nbsp;44<br>body:&nbsp;39<br></td><td><a class=\"ProveItLink\" href=\"../../../../../../core_expr_types/__pv_it/common/1527ad383e12f9c6ed6b371c9a7dd1892d80da1b0/expr.ipynb\"><img src=\"../../../../../../core_expr_types/__pv_it/common/1527ad383e12f9c6ed6b371c9a7dd1892d80da1b0/expr.png\" style=\"display:inline;vertical-align:middle;\" /></a></td></tr>\n",
       "<tr><td>35</td><td>Variable</td><td></td><td><a class=\"ProveItLink\" href=\"../../../../../../__pv_it/common/674a03b9c3ca221b3aabd5636837b31528ff33830/expr.ipynb\"><img src=\"../../../../../../__pv_it/common/674a03b9c3ca221b3aabd5636837b31528ff33830/expr.png\" style=\"display:inline;vertical-align:middle;\" /></a></td></tr>\n",
       "<tr><td>36</td><td>Lambda</td><td>parameter:&nbsp;44<br>body:&nbsp;40<br></td><td><a class=\"ProveItLink\" href=\"../../../../../../core_expr_types/__pv_it/common/89a29b5b02ce6c37577f6352274a3d503dcdde3e0/expr.ipynb\"><img src=\"../../../../../../core_expr_types/__pv_it/common/89a29b5b02ce6c37577f6352274a3d503dcdde3e0/expr.png\" style=\"display:inline;vertical-align:middle;\" /></a></td></tr>\n",
       "<tr><td>37</td><td>Literal</td><td></td><td><a class=\"ProveItLink\" href=\"../../../../../../numbers/numerals/__pv_it/common/682157d4892d216d9e5626ed533aff9b56b9506e0/expr.ipynb\"><img src=\"../../../../../../numbers/numerals/__pv_it/common/682157d4892d216d9e5626ed533aff9b56b9506e0/expr.png\" style=\"display:inline;vertical-align:middle;\" /></a></td></tr>\n",
       "<tr><td>38</td><td>Variable</td><td></td><td><a class=\"ProveItLink\" href=\"../../../../../../__pv_it/common/8968bb04eb3f7dfa02353397ce929b025bbd79c20/expr.ipynb\"><img src=\"../../../../../../__pv_it/common/8968bb04eb3f7dfa02353397ce929b025bbd79c20/expr.png\" style=\"display:inline;vertical-align:middle;\" /></a></td></tr>\n",
       "<tr><td>39</td><td>IndexedVar</td><td>variable:&nbsp;41<br>index:&nbsp;44<br></td><td><a class=\"ProveItLink\" href=\"../../../../../../core_expr_types/__pv_it/common/3a62c13e156d62d52fe585fa37cc2172fcf685260/expr.ipynb\"><img src=\"../../../../../../core_expr_types/__pv_it/common/3a62c13e156d62d52fe585fa37cc2172fcf685260/expr.png\" style=\"display:inline;vertical-align:middle;\" /></a></td></tr>\n",
       "<tr><td>40</td><td>IndexedVar</td><td>variable:&nbsp;42<br>index:&nbsp;44<br></td><td><a class=\"ProveItLink\" href=\"../../../../../../core_expr_types/__pv_it/common/8ffbefe913f7c934b2e3a2a12315d5900822d9d00/expr.ipynb\"><img src=\"../../../../../../core_expr_types/__pv_it/common/8ffbefe913f7c934b2e3a2a12315d5900822d9d00/expr.png\" style=\"display:inline;vertical-align:middle;\" /></a></td></tr>\n",
       "<tr><td>41</td><td>Variable</td><td></td><td><a class=\"ProveItLink\" href=\"../../../../../../__pv_it/common/c06c606ec12678c58933ac85412ecadc2ae28be60/expr.ipynb\"><img src=\"../../../../../../__pv_it/common/c06c606ec12678c58933ac85412ecadc2ae28be60/expr.png\" style=\"display:inline;vertical-align:middle;\" /></a></td></tr>\n",
       "<tr><td>42</td><td>Variable</td><td></td><td><a class=\"ProveItLink\" href=\"../../../../../../__pv_it/common/ceef4280a2f1cc604b455b54e735507244cc62cd0/expr.ipynb\"><img src=\"../../../../../../__pv_it/common/ceef4280a2f1cc604b455b54e735507244cc62cd0/expr.png\" style=\"display:inline;vertical-align:middle;\" /></a></td></tr>\n",
       "<tr><td>43</td><td>ExprTuple</td><td>44</td><td><a class=\"ProveItLink\" href=\"../../../../../../core_expr_types/__pv_it/common/4b0dd6be36d76552eda6a95d5b4a27f5a5b62f900/expr.ipynb\"><img src=\"../../../../../../core_expr_types/__pv_it/common/4b0dd6be36d76552eda6a95d5b4a27f5a5b62f900/expr.png\" style=\"display:inline;vertical-align:middle;\" /></a></td></tr>\n",
       "<tr><td>44</td><td>Variable</td><td></td><td><a class=\"ProveItLink\" href=\"../../../../../../core_expr_types/__pv_it/common/006c465e50948aa2b52285e2de47974f741255cc0/expr.ipynb\"><img src=\"../../../../../../core_expr_types/__pv_it/common/006c465e50948aa2b52285e2de47974f741255cc0/expr.png\" style=\"display:inline;vertical-align:middle;\" /></a></td></tr>\n",
       "</table>\n"
      ],
      "text/plain": [
       "0. forall_{m, n in Natural} [forall_{a_{1}, a_{2}, ..., a_{m}, b, c_{1}, c_{2}, ..., c_{n}, d | b = d} ({a_{1}, a_{2}, ..., a_{m}, b,c_{1}, c_{2}, ..., c_{n}} =  \\\\ {a_{1}, a_{2}, ..., a_{m}, d,c_{1}, c_{2}, ..., c_{n}})]\n",
       "   core type: Operation\n",
       "   operator: 7\n",
       "   operand: 2\n",
       "1. ((m, n) -> {forall_{a_{1}, a_{2}, ..., a_{m}, b, c_{1}, c_{2}, ..., c_{n}, d | b = d} ({a_{1}, a_{2}, ..., a_{m}, b,c_{1}, c_{2}, ..., c_{n}} =  \\\\ {a_{1}, a_{2}, ..., a_{m}, d,c_{1}, c_{2}, ..., c_{n}}) if m in Natural ,  n in Natural.)\n",
       "   core type: ExprTuple\n",
       "   sub-expressions: 2\n",
       "2. (m, n) -> {forall_{a_{1}, a_{2}, ..., a_{m}, b, c_{1}, c_{2}, ..., c_{n}, d | b = d} ({a_{1}, a_{2}, ..., a_{m}, b,c_{1}, c_{2}, ..., c_{n}} =  \\\\ {a_{1}, a_{2}, ..., a_{m}, d,c_{1}, c_{2}, ..., c_{n}}) if m in Natural ,  n in Natural.\n",
       "   core type: Lambda\n",
       "   parameters: 3\\n   body: 4\n",
       "3. (m, n)\n",
       "   core type: ExprTuple\n",
       "   sub-expressions: 35, 38\n",
       "4. {forall_{a_{1}, a_{2}, ..., a_{m}, b, c_{1}, c_{2}, ..., c_{n}, d | b = d} ({a_{1}, a_{2}, ..., a_{m}, b,c_{1}, c_{2}, ..., c_{n}} =  \\\\ {a_{1}, a_{2}, ..., a_{m}, d,c_{1}, c_{2}, ..., c_{n}}) if m in Natural ,  n in Natural.\n",
       "   core type: Conditional\n",
       "   value: 5\n",
       "   condition: 6\n",
       "5. forall_{a_{1}, a_{2}, ..., a_{m}, b, c_{1}, c_{2}, ..., c_{n}, d | b = d} ({a_{1}, a_{2}, ..., a_{m}, b,c_{1}, c_{2}, ..., c_{n}} =  \\\\ {a_{1}, a_{2}, ..., a_{m}, d,c_{1}, c_{2}, ..., c_{n}})\n",
       "   core type: Operation\n",
       "   operator: 7\n",
       "   operand: 11\n",
       "6. (m in Natural) and (n in Natural)\n",
       "   core type: Operation\n",
       "   operator: 9\n",
       "   operands: 10\n",
       "7. forall\n",
       "   core type: Literal\n",
       "   sub-expressions: \n",
       "8. ((a_{1}, a_{2}, ..., a_{m}, b, c_{1}, c_{2}, ..., c_{n}, d) -> {{a_{1}, a_{2}, ..., a_{m}, b,c_{1}, c_{2}, ..., c_{n}} =  \\\\ {a_{1}, a_{2}, ..., a_{m}, d,c_{1}, c_{2}, ..., c_{n}} if b = d.)\n",
       "   core type: ExprTuple\n",
       "   sub-expressions: 11\n",
       "9. and\n",
       "   core type: Literal\n",
       "   sub-expressions: \n",
       "10. (m in Natural, n in Natural)\n",
       "    core type: ExprTuple\n",
       "    sub-expressions: 12, 13\n",
       "11. (a_{1}, a_{2}, ..., a_{m}, b, c_{1}, c_{2}, ..., c_{n}, d) -> {{a_{1}, a_{2}, ..., a_{m}, b,c_{1}, c_{2}, ..., c_{n}} =  \\\\ {a_{1}, a_{2}, ..., a_{m}, d,c_{1}, c_{2}, ..., c_{n}} if b = d.\n",
       "    core type: Lambda\n",
       "    parameters: 14\\n    body: 15\n",
       "12. m in Natural\n",
       "    core type: Operation\n",
       "    operator: 17\n",
       "    operands: 16\n",
       "13. n in Natural\n",
       "    core type: Operation\n",
       "    operator: 17\n",
       "    operands: 18\n",
       "14. (a_{1}, a_{2}, ..., a_{m}, b,c_{1}, c_{2}, ..., c_{n}, d)\n",
       "    core type: ExprTuple\n",
       "    sub-expressions: 31, 30, 33, 32\n",
       "15. {{a_{1}, a_{2}, ..., a_{m}, b,c_{1}, c_{2}, ..., c_{n}} =  \\\\ {a_{1}, a_{2}, ..., a_{m}, d,c_{1}, c_{2}, ..., c_{n}} if b = d.\n",
       "    core type: Conditional\n",
       "    value: 19\n",
       "    condition: 20\n",
       "16. (m, Natural)\n",
       "    core type: ExprTuple\n",
       "    sub-expressions: 35, 21\n",
       "17. in\n",
       "    core type: Literal\n",
       "    sub-expressions: \n",
       "18. (n, Natural)\n",
       "    core type: ExprTuple\n",
       "    sub-expressions: 38, 21\n",
       "19. {a_{1}, a_{2}, ..., a_{m}, b,c_{1}, c_{2}, ..., c_{n}} =  \\\\ {a_{1}, a_{2}, ..., a_{m}, d,c_{1}, c_{2}, ..., c_{n}}\n",
       "    core type: Operation\n",
       "    operator: 23\n",
       "    operands: 22\n",
       "20. b = d\n",
       "    core type: Operation\n",
       "    operator: 23\n",
       "    operands: 24\n",
       "21. Natural\n",
       "    core type: Literal\n",
       "    sub-expressions: \n",
       "22. ({a_{1}, a_{2}, ..., a_{m}, b,c_{1}, c_{2}, ..., c_{n}}, {a_{1}, a_{2}, ..., a_{m}, d,c_{1}, c_{2}, ..., c_{n}})\n",
       "    core type: ExprTuple\n",
       "    sub-expressions: 25, 26\n",
       "23. =\n",
       "    core type: Literal\n",
       "    sub-expressions: \n",
       "24. (b, d)\n",
       "    core type: ExprTuple\n",
       "    sub-expressions: 30, 32\n",
       "25. {a_{1}, a_{2}, ..., a_{m}, b,c_{1}, c_{2}, ..., c_{n}}\n",
       "    core type: Operation\n",
       "    operator: 28\n",
       "    operands: 27\n",
       "26. {a_{1}, a_{2}, ..., a_{m}, d,c_{1}, c_{2}, ..., c_{n}}\n",
       "    core type: Operation\n",
       "    operator: 28\n",
       "    operands: 29\n",
       "27. (a_{1}, a_{2}, ..., a_{m}, b,c_{1}, c_{2}, ..., c_{n})\n",
       "    core type: ExprTuple\n",
       "    sub-expressions: 31, 30, 33\n",
       "28. Set\n",
       "    core type: Literal\n",
       "    sub-expressions: \n",
       "29. (a_{1}, a_{2}, ..., a_{m}, d,c_{1}, c_{2}, ..., c_{n})\n",
       "    core type: ExprTuple\n",
       "    sub-expressions: 31, 32, 33\n",
       "30. b\n",
       "    core type: Variable\n",
       "    sub-expressions: \n",
       "31. a_{1}, a_{2}, ..., a_{m}\n",
       "    core type: ExprRange\n",
       "    lambda_map: 34\n",
       "    start_index: 37\n",
       "    end_index: 35\n",
       "32. d\n",
       "    core type: Variable\n",
       "    sub-expressions: \n",
       "33. c_{1}, c_{2}, ..., c_{n}\n",
       "    core type: ExprRange\n",
       "    lambda_map: 36\n",
       "    start_index: 37\n",
       "    end_index: 38\n",
       "34. _a -> a_{_a}\n",
       "    core type: Lambda\n",
       "    parameter: 44\n",
       "    body: 39\n",
       "35. m\n",
       "    core type: Variable\n",
       "    sub-expressions: \n",
       "36. _a -> c_{_a}\n",
       "    core type: Lambda\n",
       "    parameter: 44\n",
       "    body: 40\n",
       "37. 1\n",
       "    core type: Literal\n",
       "    sub-expressions: \n",
       "38. n\n",
       "    core type: Variable\n",
       "    sub-expressions: \n",
       "39. a_{_a}\n",
       "    core type: IndexedVar\n",
       "variable: 41\n",
       "index: 44\n",
       "40. c_{_a}\n",
       "    core type: IndexedVar\n",
       "variable: 42\n",
       "index: 44\n",
       "41. a\n",
       "    core type: Variable\n",
       "    sub-expressions: \n",
       "42. c\n",
       "    core type: Variable\n",
       "    sub-expressions: \n",
       "43. (_a)\n",
       "    core type: ExprTuple\n",
       "    sub-expressions: 44\n",
       "44. _a\n",
       "    core type: Variable\n",
       "    sub-expressions: "
      ]
     },
     "metadata": {},
     "output_type": "display_data"
    }
   ],
   "source": [
    "# display the expression information\n",
    "stored_expr.expr_info()"
   ]
  },
  {
   "cell_type": "code",
   "execution_count": null,
   "metadata": {},
   "outputs": [],
   "source": []
  }
 ],
 "metadata": {
  "kernelspec": {
   "display_name": "Python 3",
   "language": "python",
   "name": "python3"
  }
 },
 "nbformat": 4,
 "nbformat_minor": 0
}