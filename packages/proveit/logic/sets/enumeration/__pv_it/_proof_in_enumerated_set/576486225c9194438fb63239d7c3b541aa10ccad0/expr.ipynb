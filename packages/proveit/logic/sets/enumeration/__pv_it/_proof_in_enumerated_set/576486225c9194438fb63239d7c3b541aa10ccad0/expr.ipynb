{
 "cells": [
  {
   "cell_type": "markdown",
   "metadata": {},
   "source": [
    "Expression of type <a class=\"ProveItLink\" href=\"../../../../../../../../doc/html/api/proveit.Lambda.html\">Lambda</a>\n",
    "=======================\n",
    "# from the theory of <a class=\"ProveItLink\" href=\"../../../_theory_nbs_/theory.ipynb\">proveit.logic.sets.enumeration</a>"
   ]
  },
  {
   "cell_type": "code",
   "execution_count": 1,
   "metadata": {},
   "outputs": [],
   "source": [
    "import proveit\n",
    "# Automation is not needed when building an expression:\n",
    "proveit.defaults.automation = False # This will speed things up.\n",
    "proveit.defaults.inline_pngs = False # Makes files smaller.\n",
    "%load_expr # Load the stored expression as 'stored_expr'\n",
    "# import Expression classes needed to build the expression\n",
    "from proveit import Conditional, ExprRange, IndexedVar, Lambda, Variable, k, x, y\n",
    "from proveit.logic import Equals, Forall, InSet, Or, Set\n",
    "from proveit.numbers import Natural, one"
   ]
  },
  {
   "cell_type": "code",
   "execution_count": 2,
   "metadata": {},
   "outputs": [
    {
     "data": {
      "text/html": [
       "<strong id=\"expr\">expr:</strong> <a class=\"ProveItLink\" href=\"expr.ipynb\"><img src=\"expr.png\" style=\"display:inline;vertical-align:middle;\" /></a><br>"
      ],
      "text/plain": [
       "<IPython.core.display.HTML object>"
      ]
     },
     "metadata": {},
     "output_type": "display_data"
    }
   ],
   "source": [
    "# build up the expression from sub-expressions\n",
    "sub_expr1 = Variable(\"_a\", latex_format = r\"{_{-}a}\")\n",
    "sub_expr2 = IndexedVar(y, sub_expr1)\n",
    "sub_expr3 = ExprRange(sub_expr1, sub_expr2, one, k)\n",
    "expr = Lambda(k, Conditional(Forall(instance_param_or_params = [x, sub_expr3], instance_expr = Equals(InSet(x, Set(sub_expr3)), Or(ExprRange(sub_expr1, Equals(x, sub_expr2), one, k))).with_wrapping_at(2)), InSet(k, Natural)))"
   ]
  },
  {
   "cell_type": "code",
   "execution_count": 3,
   "metadata": {},
   "outputs": [
    {
     "name": "stdout",
     "output_type": "stream",
     "text": [
      "Passed sanity check: expr matches stored_expr\n"
     ]
    }
   ],
   "source": [
    "# check that the built expression is the same as the stored expression\n",
    "assert expr == stored_expr\n",
    "assert expr._style_id == stored_expr._style_id\n",
    "print(\"Passed sanity check: expr matches stored_expr\")"
   ]
  },
  {
   "cell_type": "code",
   "execution_count": 4,
   "metadata": {},
   "outputs": [
    {
     "name": "stdout",
     "output_type": "stream",
     "text": [
      "k \\mapsto \\left\\{\\forall_{x, y_{1}, y_{2}, \\ldots, y_{k}}~\\left(\\begin{array}{c} \\begin{array}{l} \\left(x \\in \\left\\{y_{1}, y_{2}, \\ldots, y_{k}\\right\\}\\right) =  \\\\ \\left(\\left(x = y_{1}\\right) \\lor  \\left(x = y_{2}\\right) \\lor  \\ldots \\lor  \\left(x = y_{k}\\right)\\right) \\end{array} \\end{array}\\right) \\textrm{ if } k \\in \\mathbb{N}\\right..\n"
     ]
    }
   ],
   "source": [
    "# Show the LaTeX representation of the expression for convenience if you need it.\n",
    "print(stored_expr.latex())"
   ]
  },
  {
   "cell_type": "code",
   "execution_count": 5,
   "metadata": {},
   "outputs": [
    {
     "data": {
      "text/html": [
       "no style options"
      ],
      "text/plain": [
       "no style options"
      ]
     },
     "metadata": {},
     "output_type": "display_data"
    }
   ],
   "source": [
    "stored_expr.style_options()"
   ]
  },
  {
   "cell_type": "code",
   "execution_count": 6,
   "metadata": {},
   "outputs": [
    {
     "data": {
      "text/html": [
       "<table><tr><th>&nbsp;</th><th>core type</th><th>sub-expressions</th><th>expression</th></tr>\n",
       "<tr><td>0</td><td>Lambda</td><td>parameter:&nbsp;28<br>body:&nbsp;2<br></td><td><a class=\"ProveItLink\" href=\"expr.ipynb\"><img src=\"expr.png\" style=\"display:inline;vertical-align:middle;\" /></a></td></tr>\n",
       "<tr><td>1</td><td>ExprTuple</td><td>28</td><td><a class=\"ProveItLink\" href=\"../36569ebfbef1eee76da90134ba3a4620a4cb94130/expr.ipynb\"><img src=\"../36569ebfbef1eee76da90134ba3a4620a4cb94130/expr.png\" style=\"display:inline;vertical-align:middle;\" /></a></td></tr>\n",
       "<tr><td>2</td><td>Conditional</td><td>value:&nbsp;3<br>condition:&nbsp;4<br></td><td><a class=\"ProveItLink\" href=\"../e0574216c49590576801c45828d480b18d72e33a0/expr.ipynb\"><img src=\"../e0574216c49590576801c45828d480b18d72e33a0/expr.png\" style=\"display:inline;vertical-align:middle;\" /></a></td></tr>\n",
       "<tr><td>3</td><td>Operation</td><td>operator:&nbsp;5<br>operand:&nbsp;8<br></td><td><a class=\"ProveItLink\" href=\"../051b122910d1aa855068b043940ee70e6a3aff900/expr.ipynb\"><img src=\"../051b122910d1aa855068b043940ee70e6a3aff900/expr.png\" style=\"display:inline;vertical-align:middle;\" /></a></td></tr>\n",
       "<tr><td>4</td><td>Operation</td><td>operator:&nbsp;15<br>operands:&nbsp;7<br></td><td><a class=\"ProveItLink\" href=\"../bdb040860ba8b035aec6ab4a51daa2ad1ea247650/expr.ipynb\"><img src=\"../bdb040860ba8b035aec6ab4a51daa2ad1ea247650/expr.png\" style=\"display:inline;vertical-align:middle;\" /></a></td></tr>\n",
       "<tr><td>5</td><td>Literal</td><td></td><td><a class=\"ProveItLink\" href=\"../../../../../booleans/quantification/universality/__pv_it/common/083d2baa0b8ecab1d230f9ec29a15aa1355809fb0/expr.ipynb\"><img src=\"../../../../../booleans/quantification/universality/__pv_it/common/083d2baa0b8ecab1d230f9ec29a15aa1355809fb0/expr.png\" style=\"display:inline;vertical-align:middle;\" /></a></td></tr>\n",
       "<tr><td>6</td><td>ExprTuple</td><td>8</td><td><a class=\"ProveItLink\" href=\"../73ffc125cdb4ae74ad26678d5eac4e31320c5f310/expr.ipynb\"><img src=\"../73ffc125cdb4ae74ad26678d5eac4e31320c5f310/expr.png\" style=\"display:inline;vertical-align:middle;\" /></a></td></tr>\n",
       "<tr><td>7</td><td>ExprTuple</td><td>28, 9</td><td><a class=\"ProveItLink\" href=\"../84c31ccee39a6ceabf0fdfaea6d8e427b084a02b0/expr.ipynb\"><img src=\"../84c31ccee39a6ceabf0fdfaea6d8e427b084a02b0/expr.png\" style=\"display:inline;vertical-align:middle;\" /></a></td></tr>\n",
       "<tr><td>8</td><td>Lambda</td><td>parameters:&nbsp;10<br>body:&nbsp;11<br></td><td><a class=\"ProveItLink\" href=\"../79927caebe731c27ad89dda237c7b63de11af55f0/expr.ipynb\"><img src=\"../79927caebe731c27ad89dda237c7b63de11af55f0/expr.png\" style=\"display:inline;vertical-align:middle;\" /></a></td></tr>\n",
       "<tr><td>9</td><td>Literal</td><td></td><td><a class=\"ProveItLink\" href=\"../../../../../../numbers/number_sets/natural_numbers/__pv_it/common/8b7c321957f52ed3b05b36af612eeae4fa4783bc0/expr.ipynb\"><img src=\"../../../../../../numbers/number_sets/natural_numbers/__pv_it/common/8b7c321957f52ed3b05b36af612eeae4fa4783bc0/expr.png\" style=\"display:inline;vertical-align:middle;\" /></a></td></tr>\n",
       "<tr><td>10</td><td>ExprTuple</td><td>31, 24</td><td><a class=\"ProveItLink\" href=\"../16a9d92d5b085aea3fe01a047051ed120f83c4d10/expr.ipynb\"><img src=\"../16a9d92d5b085aea3fe01a047051ed120f83c4d10/expr.png\" style=\"display:inline;vertical-align:middle;\" /></a></td></tr>\n",
       "<tr><td>11</td><td>Operation</td><td>operator:&nbsp;29<br>operands:&nbsp;12<br></td><td><a class=\"ProveItLink\" href=\"../92cf94fe074934296b3e8b4038581ebe2933b4230/expr.ipynb\"><img src=\"../92cf94fe074934296b3e8b4038581ebe2933b4230/expr.png\" style=\"display:inline;vertical-align:middle;\" /></a></td></tr>\n",
       "<tr><td>12</td><td>ExprTuple</td><td>13, 14</td><td><a class=\"ProveItLink\" href=\"../0cfe81b66d84171c2d9262f6d781bb5518eff7d40/expr.ipynb\"><img src=\"../0cfe81b66d84171c2d9262f6d781bb5518eff7d40/expr.png\" style=\"display:inline;vertical-align:middle;\" /></a></td></tr>\n",
       "<tr><td>13</td><td>Operation</td><td>operator:&nbsp;15<br>operands:&nbsp;16<br></td><td><a class=\"ProveItLink\" href=\"../99ba68f4b0ce9f440d0959ba4fb1c37a4270be660/expr.ipynb\"><img src=\"../99ba68f4b0ce9f440d0959ba4fb1c37a4270be660/expr.png\" style=\"display:inline;vertical-align:middle;\" /></a></td></tr>\n",
       "<tr><td>14</td><td>Operation</td><td>operator:&nbsp;17<br>operands:&nbsp;18<br></td><td><a class=\"ProveItLink\" href=\"../2595a4c5a0d36d575703395c72898867663e3fb00/expr.ipynb\"><img src=\"../2595a4c5a0d36d575703395c72898867663e3fb00/expr.png\" style=\"display:inline;vertical-align:middle;\" /></a></td></tr>\n",
       "<tr><td>15</td><td>Literal</td><td></td><td><a class=\"ProveItLink\" href=\"../../../../membership/__pv_it/common/477487d8796864d23d5810f83761435f25167f690/expr.ipynb\"><img src=\"../../../../membership/__pv_it/common/477487d8796864d23d5810f83761435f25167f690/expr.png\" style=\"display:inline;vertical-align:middle;\" /></a></td></tr>\n",
       "<tr><td>16</td><td>ExprTuple</td><td>31, 19</td><td><a class=\"ProveItLink\" href=\"../49a2cb79cb0e93183164bc3d5fa1b751a1bb44f40/expr.ipynb\"><img src=\"../49a2cb79cb0e93183164bc3d5fa1b751a1bb44f40/expr.png\" style=\"display:inline;vertical-align:middle;\" /></a></td></tr>\n",
       "<tr><td>17</td><td>Literal</td><td></td><td><a class=\"ProveItLink\" href=\"../../../../../booleans/disjunction/__pv_it/common/ef8e59262ff8e0133aa1ca984dd6b3a41bf69d5b0/expr.ipynb\"><img src=\"../../../../../booleans/disjunction/__pv_it/common/ef8e59262ff8e0133aa1ca984dd6b3a41bf69d5b0/expr.png\" style=\"display:inline;vertical-align:middle;\" /></a></td></tr>\n",
       "<tr><td>18</td><td>ExprTuple</td><td>20</td><td><a class=\"ProveItLink\" href=\"../0d288200e64f1fbe5bf160f3ff11e919c9ba2ff70/expr.ipynb\"><img src=\"../0d288200e64f1fbe5bf160f3ff11e919c9ba2ff70/expr.png\" style=\"display:inline;vertical-align:middle;\" /></a></td></tr>\n",
       "<tr><td>19</td><td>Operation</td><td>operator:&nbsp;21<br>operands:&nbsp;22<br></td><td><a class=\"ProveItLink\" href=\"../c054af33be5f35d790b0887a71dfff0b21f662010/expr.ipynb\"><img src=\"../c054af33be5f35d790b0887a71dfff0b21f662010/expr.png\" style=\"display:inline;vertical-align:middle;\" /></a></td></tr>\n",
       "<tr><td>20</td><td>ExprRange</td><td>lambda_map:&nbsp;23<br>start_index:&nbsp;27<br>end_index:&nbsp;28<br></td><td><a class=\"ProveItLink\" href=\"../87f2c8a6201df405f9a7dff920d760e15fdd28de0/expr.ipynb\"><img src=\"../87f2c8a6201df405f9a7dff920d760e15fdd28de0/expr.png\" style=\"display:inline;vertical-align:middle;\" /></a></td></tr>\n",
       "<tr><td>21</td><td>Literal</td><td></td><td><a class=\"ProveItLink\" href=\"../../common/0ead90ccbf4f17bc585a51f8aa904bb77916ae6e0/expr.ipynb\"><img src=\"../../common/0ead90ccbf4f17bc585a51f8aa904bb77916ae6e0/expr.png\" style=\"display:inline;vertical-align:middle;\" /></a></td></tr>\n",
       "<tr><td>22</td><td>ExprTuple</td><td>24</td><td><a class=\"ProveItLink\" href=\"../2635437e9974ab38905c27af0811b7af93f089940/expr.ipynb\"><img src=\"../2635437e9974ab38905c27af0811b7af93f089940/expr.png\" style=\"display:inline;vertical-align:middle;\" /></a></td></tr>\n",
       "<tr><td>23</td><td>Lambda</td><td>parameter:&nbsp;35<br>body:&nbsp;25<br></td><td><a class=\"ProveItLink\" href=\"../../../../__pv_it/common/9dac351ab042a709550e0848daf237f62068cdb00/expr.ipynb\"><img src=\"../../../../__pv_it/common/9dac351ab042a709550e0848daf237f62068cdb00/expr.png\" style=\"display:inline;vertical-align:middle;\" /></a></td></tr>\n",
       "<tr><td>24</td><td>ExprRange</td><td>lambda_map:&nbsp;26<br>start_index:&nbsp;27<br>end_index:&nbsp;28<br></td><td><a class=\"ProveItLink\" href=\"../aa20a5fb5ba88c9dc9a2a87a2ccf16f6d59d74830/expr.ipynb\"><img src=\"../aa20a5fb5ba88c9dc9a2a87a2ccf16f6d59d74830/expr.png\" style=\"display:inline;vertical-align:middle;\" /></a></td></tr>\n",
       "<tr><td>25</td><td>Operation</td><td>operator:&nbsp;29<br>operands:&nbsp;30<br></td><td><a class=\"ProveItLink\" href=\"../../../../__pv_it/common/618e2ef1708ba014457048540eb2fe86b2627da30/expr.ipynb\"><img src=\"../../../../__pv_it/common/618e2ef1708ba014457048540eb2fe86b2627da30/expr.png\" style=\"display:inline;vertical-align:middle;\" /></a></td></tr>\n",
       "<tr><td>26</td><td>Lambda</td><td>parameter:&nbsp;35<br>body:&nbsp;32<br></td><td><a class=\"ProveItLink\" href=\"../../../../../../core_expr_types/__pv_it/common/47ca082a5e3217d68f414fa9b5fb4cf7b07e06430/expr.ipynb\"><img src=\"../../../../../../core_expr_types/__pv_it/common/47ca082a5e3217d68f414fa9b5fb4cf7b07e06430/expr.png\" style=\"display:inline;vertical-align:middle;\" /></a></td></tr>\n",
       "<tr><td>27</td><td>Literal</td><td></td><td><a class=\"ProveItLink\" href=\"../../../../../../numbers/numerals/__pv_it/common/682157d4892d216d9e5626ed533aff9b56b9506e0/expr.ipynb\"><img src=\"../../../../../../numbers/numerals/__pv_it/common/682157d4892d216d9e5626ed533aff9b56b9506e0/expr.png\" style=\"display:inline;vertical-align:middle;\" /></a></td></tr>\n",
       "<tr><td>28</td><td>Variable</td><td></td><td><a class=\"ProveItLink\" href=\"../../../../../../__pv_it/common/63b7c64bf9ec7a04ecc396c7a1670f3f12fb59490/expr.ipynb\"><img src=\"../../../../../../__pv_it/common/63b7c64bf9ec7a04ecc396c7a1670f3f12fb59490/expr.png\" style=\"display:inline;vertical-align:middle;\" /></a></td></tr>\n",
       "<tr><td>29</td><td>Literal</td><td></td><td><a class=\"ProveItLink\" href=\"../../../../../equality/__pv_it/common/fb96dc12b2aa8801dda64d0132b396c63d1502bb0/expr.ipynb\"><img src=\"../../../../../equality/__pv_it/common/fb96dc12b2aa8801dda64d0132b396c63d1502bb0/expr.png\" style=\"display:inline;vertical-align:middle;\" /></a></td></tr>\n",
       "<tr><td>30</td><td>ExprTuple</td><td>31, 32</td><td><a class=\"ProveItLink\" href=\"../../../../__pv_it/common/b775dbf26647c465217504469f1ee7495a7c26f80/expr.ipynb\"><img src=\"../../../../__pv_it/common/b775dbf26647c465217504469f1ee7495a7c26f80/expr.png\" style=\"display:inline;vertical-align:middle;\" /></a></td></tr>\n",
       "<tr><td>31</td><td>Variable</td><td></td><td><a class=\"ProveItLink\" href=\"../../../../../../__pv_it/common/a0d9d672aa5e272d907247690c152cc2c6daafb70/expr.ipynb\"><img src=\"../../../../../../__pv_it/common/a0d9d672aa5e272d907247690c152cc2c6daafb70/expr.png\" style=\"display:inline;vertical-align:middle;\" /></a></td></tr>\n",
       "<tr><td>32</td><td>IndexedVar</td><td>variable:&nbsp;33<br>index:&nbsp;35<br></td><td><a class=\"ProveItLink\" href=\"../../../../../../core_expr_types/__pv_it/common/dd83f4522fafc6cf7fa80e461f3330c821446f0a0/expr.ipynb\"><img src=\"../../../../../../core_expr_types/__pv_it/common/dd83f4522fafc6cf7fa80e461f3330c821446f0a0/expr.png\" style=\"display:inline;vertical-align:middle;\" /></a></td></tr>\n",
       "<tr><td>33</td><td>Variable</td><td></td><td><a class=\"ProveItLink\" href=\"../../../../../../__pv_it/common/ff7dba4ef0bbe791ab573bf2d9c220a304399ac80/expr.ipynb\"><img src=\"../../../../../../__pv_it/common/ff7dba4ef0bbe791ab573bf2d9c220a304399ac80/expr.png\" style=\"display:inline;vertical-align:middle;\" /></a></td></tr>\n",
       "<tr><td>34</td><td>ExprTuple</td><td>35</td><td><a class=\"ProveItLink\" href=\"../../../../../../core_expr_types/__pv_it/common/4b0dd6be36d76552eda6a95d5b4a27f5a5b62f900/expr.ipynb\"><img src=\"../../../../../../core_expr_types/__pv_it/common/4b0dd6be36d76552eda6a95d5b4a27f5a5b62f900/expr.png\" style=\"display:inline;vertical-align:middle;\" /></a></td></tr>\n",
       "<tr><td>35</td><td>Variable</td><td></td><td><a class=\"ProveItLink\" href=\"../../../../../../core_expr_types/__pv_it/common/006c465e50948aa2b52285e2de47974f741255cc0/expr.ipynb\"><img src=\"../../../../../../core_expr_types/__pv_it/common/006c465e50948aa2b52285e2de47974f741255cc0/expr.png\" style=\"display:inline;vertical-align:middle;\" /></a></td></tr>\n",
       "</table>\n"
      ],
      "text/plain": [
       "0. k -> {forall_{x, y_{1}, y_{2}, ..., y_{k}} ((x in {y_{1}, y_{2}, ..., y_{k}}) =  \\\\ ((x = y_{1}) or  (x = y_{2}) or  ... or  (x = y_{k}))) if k in Natural.\n",
       "   core type: Lambda\n",
       "   parameter: 28\n",
       "   body: 2\n",
       "1. (k)\n",
       "   core type: ExprTuple\n",
       "   sub-expressions: 28\n",
       "2. {forall_{x, y_{1}, y_{2}, ..., y_{k}} ((x in {y_{1}, y_{2}, ..., y_{k}}) =  \\\\ ((x = y_{1}) or  (x = y_{2}) or  ... or  (x = y_{k}))) if k in Natural.\n",
       "   core type: Conditional\n",
       "   value: 3\n",
       "   condition: 4\n",
       "3. forall_{x, y_{1}, y_{2}, ..., y_{k}} ((x in {y_{1}, y_{2}, ..., y_{k}}) =  \\\\ ((x = y_{1}) or  (x = y_{2}) or  ... or  (x = y_{k})))\n",
       "   core type: Operation\n",
       "   operator: 5\n",
       "   operand: 8\n",
       "4. k in Natural\n",
       "   core type: Operation\n",
       "   operator: 15\n",
       "   operands: 7\n",
       "5. forall\n",
       "   core type: Literal\n",
       "   sub-expressions: \n",
       "6. ((x, y_{1}, y_{2}, ..., y_{k}) -> ((x in {y_{1}, y_{2}, ..., y_{k}}) =  \\\\ ((x = y_{1}) or  (x = y_{2}) or  ... or  (x = y_{k}))))\n",
       "   core type: ExprTuple\n",
       "   sub-expressions: 8\n",
       "7. (k, Natural)\n",
       "   core type: ExprTuple\n",
       "   sub-expressions: 28, 9\n",
       "8. (x, y_{1}, y_{2}, ..., y_{k}) -> ((x in {y_{1}, y_{2}, ..., y_{k}}) =  \\\\ ((x = y_{1}) or  (x = y_{2}) or  ... or  (x = y_{k})))\n",
       "   core type: Lambda\n",
       "   parameters: 10\\n   body: 11\n",
       "9. Natural\n",
       "   core type: Literal\n",
       "   sub-expressions: \n",
       "10. (x,y_{1}, y_{2}, ..., y_{k})\n",
       "    core type: ExprTuple\n",
       "    sub-expressions: 31, 24\n",
       "11. (x in {y_{1}, y_{2}, ..., y_{k}}) =  \\\\ ((x = y_{1}) or  (x = y_{2}) or  ... or  (x = y_{k}))\n",
       "    core type: Operation\n",
       "    operator: 29\n",
       "    operands: 12\n",
       "12. (x in {y_{1}, y_{2}, ..., y_{k}}, (x = y_{1}) or  (x = y_{2}) or  ... or  (x = y_{k}))\n",
       "    core type: ExprTuple\n",
       "    sub-expressions: 13, 14\n",
       "13. x in {y_{1}, y_{2}, ..., y_{k}}\n",
       "    core type: Operation\n",
       "    operator: 15\n",
       "    operands: 16\n",
       "14. (x = y_{1}) or  (x = y_{2}) or  ... or  (x = y_{k})\n",
       "    core type: Operation\n",
       "    operator: 17\n",
       "    operands: 18\n",
       "15. in\n",
       "    core type: Literal\n",
       "    sub-expressions: \n",
       "16. (x, {y_{1}, y_{2}, ..., y_{k}})\n",
       "    core type: ExprTuple\n",
       "    sub-expressions: 31, 19\n",
       "17. or\n",
       "    core type: Literal\n",
       "    sub-expressions: \n",
       "18. ((x = y_{1}), (x = y_{2}), ..., (x = y_{k}))\n",
       "    core type: ExprTuple\n",
       "    sub-expressions: 20\n",
       "19. {y_{1}, y_{2}, ..., y_{k}}\n",
       "    core type: Operation\n",
       "    operator: 21\n",
       "    operands: 22\n",
       "20. (x = y_{1}), (x = y_{2}), ..., (x = y_{k})\n",
       "    core type: ExprRange\n",
       "    lambda_map: 23\n",
       "    start_index: 27\n",
       "    end_index: 28\n",
       "21. Set\n",
       "    core type: Literal\n",
       "    sub-expressions: \n",
       "22. (y_{1}, y_{2}, ..., y_{k})\n",
       "    core type: ExprTuple\n",
       "    sub-expressions: 24\n",
       "23. _a -> (x = y_{_a})\n",
       "    core type: Lambda\n",
       "    parameter: 35\n",
       "    body: 25\n",
       "24. y_{1}, y_{2}, ..., y_{k}\n",
       "    core type: ExprRange\n",
       "    lambda_map: 26\n",
       "    start_index: 27\n",
       "    end_index: 28\n",
       "25. x = y_{_a}\n",
       "    core type: Operation\n",
       "    operator: 29\n",
       "    operands: 30\n",
       "26. _a -> y_{_a}\n",
       "    core type: Lambda\n",
       "    parameter: 35\n",
       "    body: 32\n",
       "27. 1\n",
       "    core type: Literal\n",
       "    sub-expressions: \n",
       "28. k\n",
       "    core type: Variable\n",
       "    sub-expressions: \n",
       "29. =\n",
       "    core type: Literal\n",
       "    sub-expressions: \n",
       "30. (x, y_{_a})\n",
       "    core type: ExprTuple\n",
       "    sub-expressions: 31, 32\n",
       "31. x\n",
       "    core type: Variable\n",
       "    sub-expressions: \n",
       "32. y_{_a}\n",
       "    core type: IndexedVar\n",
       "variable: 33\n",
       "index: 35\n",
       "33. y\n",
       "    core type: Variable\n",
       "    sub-expressions: \n",
       "34. (_a)\n",
       "    core type: ExprTuple\n",
       "    sub-expressions: 35\n",
       "35. _a\n",
       "    core type: Variable\n",
       "    sub-expressions: "
      ]
     },
     "metadata": {},
     "output_type": "display_data"
    }
   ],
   "source": [
    "# display the expression information\n",
    "stored_expr.expr_info()"
   ]
  },
  {
   "cell_type": "code",
   "execution_count": null,
   "metadata": {},
   "outputs": [],
   "source": []
  }
 ],
 "metadata": {
  "kernelspec": {
   "display_name": "Python 3",
   "language": "python",
   "name": "python3"
  }
 },
 "nbformat": 4,
 "nbformat_minor": 0
}