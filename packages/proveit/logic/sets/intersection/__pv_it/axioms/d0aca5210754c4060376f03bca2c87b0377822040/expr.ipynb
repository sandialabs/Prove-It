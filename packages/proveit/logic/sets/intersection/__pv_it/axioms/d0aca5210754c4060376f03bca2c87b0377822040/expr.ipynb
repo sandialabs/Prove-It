{
 "cells": [
  {
   "cell_type": "markdown",
   "metadata": {},
   "source": [
    "Expression of type <a class=\"ProveItLink\" href=\"../../../../../../../../doc/html/api/proveit.Conditional.html\">Conditional</a>\n",
    "=======================\n",
    "# from the theory of <a class=\"ProveItLink\" href=\"../../../_theory_nbs_/theory.ipynb\">proveit.logic.sets.intersection</a>"
   ]
  },
  {
   "cell_type": "code",
   "execution_count": 1,
   "metadata": {},
   "outputs": [],
   "source": [
    "import proveit\n",
    "# Automation is not needed when building an expression:\n",
    "proveit.defaults.automation = False # This will speed things up.\n",
    "proveit.defaults.inline_pngs = False # Makes files smaller.\n",
    "%load_expr # Load the stored expression as 'stored_expr'\n",
    "# import Expression classes needed to build the expression\n",
    "from proveit import Conditional, m, x\n",
    "from proveit.core_expr_types import A_1_to_m\n",
    "from proveit.logic import Equals, Forall, InSet, Intersect\n",
    "from proveit.logic.sets import x_in_every_A\n",
    "from proveit.numbers import NaturalPos"
   ]
  },
  {
   "cell_type": "code",
   "execution_count": 2,
   "metadata": {},
   "outputs": [
    {
     "data": {
      "text/html": [
       "<strong id=\"expr\">expr:</strong> <a class=\"ProveItLink\" href=\"expr.ipynb\"><img src=\"expr.png\" style=\"display:inline;vertical-align:middle;\" /></a><br>"
      ],
      "text/plain": [
       "<IPython.core.display.HTML object>"
      ]
     },
     "metadata": {},
     "output_type": "display_data"
    }
   ],
   "source": [
    "# build up the expression from sub-expressions\n",
    "expr = Conditional(Forall(instance_param_or_params = [x, A_1_to_m], instance_expr = Equals(InSet(x, Intersect(A_1_to_m)), x_in_every_A).with_wrapping_at(2)), InSet(m, NaturalPos))"
   ]
  },
  {
   "cell_type": "code",
   "execution_count": 3,
   "metadata": {},
   "outputs": [
    {
     "name": "stdout",
     "output_type": "stream",
     "text": [
      "Passed sanity check: expr matches stored_expr\n"
     ]
    }
   ],
   "source": [
    "# check that the built expression is the same as the stored expression\n",
    "assert expr == stored_expr\n",
    "assert expr._style_id == stored_expr._style_id\n",
    "print(\"Passed sanity check: expr matches stored_expr\")"
   ]
  },
  {
   "cell_type": "code",
   "execution_count": 4,
   "metadata": {},
   "outputs": [
    {
     "name": "stdout",
     "output_type": "stream",
     "text": [
      "\\left\\{\\forall_{x, A_{1}, A_{2}, \\ldots, A_{m}}~\\left(\\begin{array}{c} \\begin{array}{l} \\left(x \\in \\left(A_{1} \\cap  A_{2} \\cap  \\ldots \\cap  A_{m}\\right)\\right) =  \\\\ \\left(\\left(x \\in A_{1}\\right) \\land  \\left(x \\in A_{2}\\right) \\land  \\ldots \\land  \\left(x \\in A_{m}\\right)\\right) \\end{array} \\end{array}\\right) \\textrm{ if } m \\in \\mathbb{N}^+\\right..\n"
     ]
    }
   ],
   "source": [
    "# Show the LaTeX representation of the expression for convenience if you need it.\n",
    "print(stored_expr.latex())"
   ]
  },
  {
   "cell_type": "code",
   "execution_count": 5,
   "metadata": {},
   "outputs": [
    {
     "data": {
      "text/html": [
       "<table>\n",
       "<tr><th>name</th><th>description</th><th>default</th><th>current value</th><th>related methods</th></tr><tr><td>condition_delimiter</td><td>'comma' or 'and'</td><td>comma</td><td>comma</td><td>('with_comma_delimiter', 'with_conjunction_delimiter')</td></tr>\n",
       "</table>\n"
      ],
      "text/plain": [
       "style name: condition_delimiter\n",
       "description: 'comma' or 'and'\n",
       "default: comma\n",
       "current value: comma\n",
       "related methods: ('with_comma_delimiter', 'with_conjunction_delimiter')"
      ]
     },
     "metadata": {},
     "output_type": "display_data"
    }
   ],
   "source": [
    "stored_expr.style_options()"
   ]
  },
  {
   "cell_type": "code",
   "execution_count": 6,
   "metadata": {},
   "outputs": [
    {
     "data": {
      "text/html": [
       "<table><tr><th>&nbsp;</th><th>core type</th><th>sub-expressions</th><th>expression</th></tr>\n",
       "<tr><td>0</td><td>Conditional</td><td>value:&nbsp;1<br>condition:&nbsp;2<br></td><td><a class=\"ProveItLink\" href=\"expr.ipynb\"><img src=\"expr.png\" style=\"display:inline;vertical-align:middle;\" /></a></td></tr>\n",
       "<tr><td>1</td><td>Operation</td><td>operator:&nbsp;3<br>operand:&nbsp;6<br></td><td><a class=\"ProveItLink\" href=\"../fe1e6b32002ea122c0cdcea18bc331fc6300465d0/expr.ipynb\"><img src=\"../fe1e6b32002ea122c0cdcea18bc331fc6300465d0/expr.png\" style=\"display:inline;vertical-align:middle;\" /></a></td></tr>\n",
       "<tr><td>2</td><td>Operation</td><td>operator:&nbsp;27<br>operands:&nbsp;5<br></td><td><a class=\"ProveItLink\" href=\"../79a768603778550c651661670153c27ee0a505870/expr.ipynb\"><img src=\"../79a768603778550c651661670153c27ee0a505870/expr.png\" style=\"display:inline;vertical-align:middle;\" /></a></td></tr>\n",
       "<tr><td>3</td><td>Literal</td><td></td><td><a class=\"ProveItLink\" href=\"../../../../../booleans/quantification/universality/__pv_it/common/083d2baa0b8ecab1d230f9ec29a15aa1355809fb0/expr.ipynb\"><img src=\"../../../../../booleans/quantification/universality/__pv_it/common/083d2baa0b8ecab1d230f9ec29a15aa1355809fb0/expr.png\" style=\"display:inline;vertical-align:middle;\" /></a></td></tr>\n",
       "<tr><td>4</td><td>ExprTuple</td><td>6</td><td><a class=\"ProveItLink\" href=\"../e0d6aaf491a5964ba10f70f63dac4f3aaab241450/expr.ipynb\"><img src=\"../e0d6aaf491a5964ba10f70f63dac4f3aaab241450/expr.png\" style=\"display:inline;vertical-align:middle;\" /></a></td></tr>\n",
       "<tr><td>5</td><td>ExprTuple</td><td>26, 7</td><td><a class=\"ProveItLink\" href=\"../0aafde61e876ad81c8138546f58d9459d893af050/expr.ipynb\"><img src=\"../0aafde61e876ad81c8138546f58d9459d893af050/expr.png\" style=\"display:inline;vertical-align:middle;\" /></a></td></tr>\n",
       "<tr><td>6</td><td>Lambda</td><td>parameters:&nbsp;8<br>body:&nbsp;9<br></td><td><a class=\"ProveItLink\" href=\"../b03cc251fcfe3e5ccfc29f8e6f960b3999913c390/expr.ipynb\"><img src=\"../b03cc251fcfe3e5ccfc29f8e6f960b3999913c390/expr.png\" style=\"display:inline;vertical-align:middle;\" /></a></td></tr>\n",
       "<tr><td>7</td><td>Literal</td><td></td><td><a class=\"ProveItLink\" href=\"../../../../../../numbers/number_sets/natural_numbers/__pv_it/common/6111329435c43892c831c4793de96afbf80bdb3e0/expr.ipynb\"><img src=\"../../../../../../numbers/number_sets/natural_numbers/__pv_it/common/6111329435c43892c831c4793de96afbf80bdb3e0/expr.png\" style=\"display:inline;vertical-align:middle;\" /></a></td></tr>\n",
       "<tr><td>8</td><td>ExprTuple</td><td>29, 22</td><td><a class=\"ProveItLink\" href=\"../cc301d694dc97c5f0ccbff9f137e6916c1e9b37c0/expr.ipynb\"><img src=\"../cc301d694dc97c5f0ccbff9f137e6916c1e9b37c0/expr.png\" style=\"display:inline;vertical-align:middle;\" /></a></td></tr>\n",
       "<tr><td>9</td><td>Operation</td><td>operator:&nbsp;10<br>operands:&nbsp;11<br></td><td><a class=\"ProveItLink\" href=\"../e78d8b89ca359da3157c5fc26366fedbc8856c0b0/expr.ipynb\"><img src=\"../e78d8b89ca359da3157c5fc26366fedbc8856c0b0/expr.png\" style=\"display:inline;vertical-align:middle;\" /></a></td></tr>\n",
       "<tr><td>10</td><td>Literal</td><td></td><td><a class=\"ProveItLink\" href=\"../../../../../equality/__pv_it/common/fb96dc12b2aa8801dda64d0132b396c63d1502bb0/expr.ipynb\"><img src=\"../../../../../equality/__pv_it/common/fb96dc12b2aa8801dda64d0132b396c63d1502bb0/expr.png\" style=\"display:inline;vertical-align:middle;\" /></a></td></tr>\n",
       "<tr><td>11</td><td>ExprTuple</td><td>12, 13</td><td><a class=\"ProveItLink\" href=\"../3f5da3e46aeab48c5dc22630f8de9c3d8bf36d0d0/expr.ipynb\"><img src=\"../3f5da3e46aeab48c5dc22630f8de9c3d8bf36d0d0/expr.png\" style=\"display:inline;vertical-align:middle;\" /></a></td></tr>\n",
       "<tr><td>12</td><td>Operation</td><td>operator:&nbsp;27<br>operands:&nbsp;14<br></td><td><a class=\"ProveItLink\" href=\"../120fed559d05dc384ba047d4dff8e47962af8cd30/expr.ipynb\"><img src=\"../120fed559d05dc384ba047d4dff8e47962af8cd30/expr.png\" style=\"display:inline;vertical-align:middle;\" /></a></td></tr>\n",
       "<tr><td>13</td><td>Operation</td><td>operator:&nbsp;15<br>operands:&nbsp;16<br></td><td><a class=\"ProveItLink\" href=\"../../../../__pv_it/common/2dec7f50bdd98ccde445c0257b0c33cd89e812d60/expr.ipynb\"><img src=\"../../../../__pv_it/common/2dec7f50bdd98ccde445c0257b0c33cd89e812d60/expr.png\" style=\"display:inline;vertical-align:middle;\" /></a></td></tr>\n",
       "<tr><td>14</td><td>ExprTuple</td><td>29, 17</td><td><a class=\"ProveItLink\" href=\"../d4b1e1879d1d7010daeaba3f35fe7aab89aa7be20/expr.ipynb\"><img src=\"../d4b1e1879d1d7010daeaba3f35fe7aab89aa7be20/expr.png\" style=\"display:inline;vertical-align:middle;\" /></a></td></tr>\n",
       "<tr><td>15</td><td>Literal</td><td></td><td><a class=\"ProveItLink\" href=\"../../../../../booleans/conjunction/__pv_it/common/42118ff318bd65d98b1393f64ce7c2269feef76e0/expr.ipynb\"><img src=\"../../../../../booleans/conjunction/__pv_it/common/42118ff318bd65d98b1393f64ce7c2269feef76e0/expr.png\" style=\"display:inline;vertical-align:middle;\" /></a></td></tr>\n",
       "<tr><td>16</td><td>ExprTuple</td><td>18</td><td><a class=\"ProveItLink\" href=\"../../../../__pv_it/common/e51725c0302d6f0a12b6020078b37277d3a891410/expr.ipynb\"><img src=\"../../../../__pv_it/common/e51725c0302d6f0a12b6020078b37277d3a891410/expr.png\" style=\"display:inline;vertical-align:middle;\" /></a></td></tr>\n",
       "<tr><td>17</td><td>Operation</td><td>operator:&nbsp;19<br>operands:&nbsp;20<br></td><td><a class=\"ProveItLink\" href=\"../1411117ba6072f78e40e5e245bcdedd102971dd50/expr.ipynb\"><img src=\"../1411117ba6072f78e40e5e245bcdedd102971dd50/expr.png\" style=\"display:inline;vertical-align:middle;\" /></a></td></tr>\n",
       "<tr><td>18</td><td>ExprRange</td><td>lambda_map:&nbsp;21<br>start_index:&nbsp;25<br>end_index:&nbsp;26<br></td><td><a class=\"ProveItLink\" href=\"../../../../__pv_it/common/4ecf8a527243fb75ae03d61091edd0fc9ab7643b0/expr.ipynb\"><img src=\"../../../../__pv_it/common/4ecf8a527243fb75ae03d61091edd0fc9ab7643b0/expr.png\" style=\"display:inline;vertical-align:middle;\" /></a></td></tr>\n",
       "<tr><td>19</td><td>Literal</td><td></td><td><a class=\"ProveItLink\" href=\"../../common/718e30c398d699c56b1af99739a377f200f9d3cd0/expr.ipynb\"><img src=\"../../common/718e30c398d699c56b1af99739a377f200f9d3cd0/expr.png\" style=\"display:inline;vertical-align:middle;\" /></a></td></tr>\n",
       "<tr><td>20</td><td>ExprTuple</td><td>22</td><td><a class=\"ProveItLink\" href=\"../218b49ecc2fcb674f5eb724d523a787df9bde9a00/expr.ipynb\"><img src=\"../218b49ecc2fcb674f5eb724d523a787df9bde9a00/expr.png\" style=\"display:inline;vertical-align:middle;\" /></a></td></tr>\n",
       "<tr><td>21</td><td>Lambda</td><td>parameter:&nbsp;33<br>body:&nbsp;23<br></td><td><a class=\"ProveItLink\" href=\"../../../../__pv_it/common/2606f83ee694da74211184a05c1e8fcece070dc50/expr.ipynb\"><img src=\"../../../../__pv_it/common/2606f83ee694da74211184a05c1e8fcece070dc50/expr.png\" style=\"display:inline;vertical-align:middle;\" /></a></td></tr>\n",
       "<tr><td>22</td><td>ExprRange</td><td>lambda_map:&nbsp;24<br>start_index:&nbsp;25<br>end_index:&nbsp;26<br></td><td><a class=\"ProveItLink\" href=\"../../../../../../core_expr_types/__pv_it/common/eaccd55f312202b1e754429bdfeaf22333037c330/expr.ipynb\"><img src=\"../../../../../../core_expr_types/__pv_it/common/eaccd55f312202b1e754429bdfeaf22333037c330/expr.png\" style=\"display:inline;vertical-align:middle;\" /></a></td></tr>\n",
       "<tr><td>23</td><td>Operation</td><td>operator:&nbsp;27<br>operands:&nbsp;28<br></td><td><a class=\"ProveItLink\" href=\"../../../../__pv_it/common/b9e295b262e1a25e8b92df86fed63b5254f5830c0/expr.ipynb\"><img src=\"../../../../__pv_it/common/b9e295b262e1a25e8b92df86fed63b5254f5830c0/expr.png\" style=\"display:inline;vertical-align:middle;\" /></a></td></tr>\n",
       "<tr><td>24</td><td>Lambda</td><td>parameter:&nbsp;33<br>body:&nbsp;30<br></td><td><a class=\"ProveItLink\" href=\"../../../../../../core_expr_types/__pv_it/common/9332289e845003c758afc3bcee43498ae784f2d90/expr.ipynb\"><img src=\"../../../../../../core_expr_types/__pv_it/common/9332289e845003c758afc3bcee43498ae784f2d90/expr.png\" style=\"display:inline;vertical-align:middle;\" /></a></td></tr>\n",
       "<tr><td>25</td><td>Literal</td><td></td><td><a class=\"ProveItLink\" href=\"../../../../../../numbers/numerals/__pv_it/common/682157d4892d216d9e5626ed533aff9b56b9506e0/expr.ipynb\"><img src=\"../../../../../../numbers/numerals/__pv_it/common/682157d4892d216d9e5626ed533aff9b56b9506e0/expr.png\" style=\"display:inline;vertical-align:middle;\" /></a></td></tr>\n",
       "<tr><td>26</td><td>Variable</td><td></td><td><a class=\"ProveItLink\" href=\"../../../../../../__pv_it/common/674a03b9c3ca221b3aabd5636837b31528ff33830/expr.ipynb\"><img src=\"../../../../../../__pv_it/common/674a03b9c3ca221b3aabd5636837b31528ff33830/expr.png\" style=\"display:inline;vertical-align:middle;\" /></a></td></tr>\n",
       "<tr><td>27</td><td>Literal</td><td></td><td><a class=\"ProveItLink\" href=\"../../../../membership/__pv_it/common/477487d8796864d23d5810f83761435f25167f690/expr.ipynb\"><img src=\"../../../../membership/__pv_it/common/477487d8796864d23d5810f83761435f25167f690/expr.png\" style=\"display:inline;vertical-align:middle;\" /></a></td></tr>\n",
       "<tr><td>28</td><td>ExprTuple</td><td>29, 30</td><td><a class=\"ProveItLink\" href=\"../../../../__pv_it/common/6235371ded99042d7fbbadc565db2d70e402f3430/expr.ipynb\"><img src=\"../../../../__pv_it/common/6235371ded99042d7fbbadc565db2d70e402f3430/expr.png\" style=\"display:inline;vertical-align:middle;\" /></a></td></tr>\n",
       "<tr><td>29</td><td>Variable</td><td></td><td><a class=\"ProveItLink\" href=\"../../../../../../__pv_it/common/a0d9d672aa5e272d907247690c152cc2c6daafb70/expr.ipynb\"><img src=\"../../../../../../__pv_it/common/a0d9d672aa5e272d907247690c152cc2c6daafb70/expr.png\" style=\"display:inline;vertical-align:middle;\" /></a></td></tr>\n",
       "<tr><td>30</td><td>IndexedVar</td><td>variable:&nbsp;31<br>index:&nbsp;33<br></td><td><a class=\"ProveItLink\" href=\"../../../../__pv_it/common/6760d9ad83cf320ef96285ca1419a3d05a1db3500/expr.ipynb\"><img src=\"../../../../__pv_it/common/6760d9ad83cf320ef96285ca1419a3d05a1db3500/expr.png\" style=\"display:inline;vertical-align:middle;\" /></a></td></tr>\n",
       "<tr><td>31</td><td>Variable</td><td></td><td><a class=\"ProveItLink\" href=\"../../../../../../__pv_it/common/09585084922504426caf1db2ff588a23a0932a960/expr.ipynb\"><img src=\"../../../../../../__pv_it/common/09585084922504426caf1db2ff588a23a0932a960/expr.png\" style=\"display:inline;vertical-align:middle;\" /></a></td></tr>\n",
       "<tr><td>32</td><td>ExprTuple</td><td>33</td><td><a class=\"ProveItLink\" href=\"../../../../../../core_expr_types/__pv_it/common/4b0dd6be36d76552eda6a95d5b4a27f5a5b62f900/expr.ipynb\"><img src=\"../../../../../../core_expr_types/__pv_it/common/4b0dd6be36d76552eda6a95d5b4a27f5a5b62f900/expr.png\" style=\"display:inline;vertical-align:middle;\" /></a></td></tr>\n",
       "<tr><td>33</td><td>Variable</td><td></td><td><a class=\"ProveItLink\" href=\"../../../../../../core_expr_types/__pv_it/common/006c465e50948aa2b52285e2de47974f741255cc0/expr.ipynb\"><img src=\"../../../../../../core_expr_types/__pv_it/common/006c465e50948aa2b52285e2de47974f741255cc0/expr.png\" style=\"display:inline;vertical-align:middle;\" /></a></td></tr>\n",
       "</table>\n"
      ],
      "text/plain": [
       "0. {forall_{x, A_{1}, A_{2}, ..., A_{m}} ((x in (A_{1} intersect  A_{2} intersect  ... intersect  A_{m})) =  \\\\ ((x in A_{1}) and  (x in A_{2}) and  ... and  (x in A_{m}))) if m in NaturalPos.\n",
       "   core type: Conditional\n",
       "   value: 1\n",
       "   condition: 2\n",
       "1. forall_{x, A_{1}, A_{2}, ..., A_{m}} ((x in (A_{1} intersect  A_{2} intersect  ... intersect  A_{m})) =  \\\\ ((x in A_{1}) and  (x in A_{2}) and  ... and  (x in A_{m})))\n",
       "   core type: Operation\n",
       "   operator: 3\n",
       "   operand: 6\n",
       "2. m in NaturalPos\n",
       "   core type: Operation\n",
       "   operator: 27\n",
       "   operands: 5\n",
       "3. forall\n",
       "   core type: Literal\n",
       "   sub-expressions: \n",
       "4. ((x, A_{1}, A_{2}, ..., A_{m}) -> ((x in (A_{1} intersect  A_{2} intersect  ... intersect  A_{m})) =  \\\\ ((x in A_{1}) and  (x in A_{2}) and  ... and  (x in A_{m}))))\n",
       "   core type: ExprTuple\n",
       "   sub-expressions: 6\n",
       "5. (m, NaturalPos)\n",
       "   core type: ExprTuple\n",
       "   sub-expressions: 26, 7\n",
       "6. (x, A_{1}, A_{2}, ..., A_{m}) -> ((x in (A_{1} intersect  A_{2} intersect  ... intersect  A_{m})) =  \\\\ ((x in A_{1}) and  (x in A_{2}) and  ... and  (x in A_{m})))\n",
       "   core type: Lambda\n",
       "   parameters: 8\\n   body: 9\n",
       "7. NaturalPos\n",
       "   core type: Literal\n",
       "   sub-expressions: \n",
       "8. (x,A_{1}, A_{2}, ..., A_{m})\n",
       "   core type: ExprTuple\n",
       "   sub-expressions: 29, 22\n",
       "9. (x in (A_{1} intersect  A_{2} intersect  ... intersect  A_{m})) =  \\\\ ((x in A_{1}) and  (x in A_{2}) and  ... and  (x in A_{m}))\n",
       "   core type: Operation\n",
       "   operator: 10\n",
       "   operands: 11\n",
       "10. =\n",
       "    core type: Literal\n",
       "    sub-expressions: \n",
       "11. (x in (A_{1} intersect  A_{2} intersect  ... intersect  A_{m}), (x in A_{1}) and  (x in A_{2}) and  ... and  (x in A_{m}))\n",
       "    core type: ExprTuple\n",
       "    sub-expressions: 12, 13\n",
       "12. x in (A_{1} intersect  A_{2} intersect  ... intersect  A_{m})\n",
       "    core type: Operation\n",
       "    operator: 27\n",
       "    operands: 14\n",
       "13. (x in A_{1}) and  (x in A_{2}) and  ... and  (x in A_{m})\n",
       "    core type: Operation\n",
       "    operator: 15\n",
       "    operands: 16\n",
       "14. (x, A_{1} intersect  A_{2} intersect  ... intersect  A_{m})\n",
       "    core type: ExprTuple\n",
       "    sub-expressions: 29, 17\n",
       "15. and\n",
       "    core type: Literal\n",
       "    sub-expressions: \n",
       "16. ((x in A_{1}), (x in A_{2}), ..., (x in A_{m}))\n",
       "    core type: ExprTuple\n",
       "    sub-expressions: 18\n",
       "17. A_{1} intersect  A_{2} intersect  ... intersect  A_{m}\n",
       "    core type: Operation\n",
       "    operator: 19\n",
       "    operands: 20\n",
       "18. (x in A_{1}), (x in A_{2}), ..., (x in A_{m})\n",
       "    core type: ExprRange\n",
       "    lambda_map: 21\n",
       "    start_index: 25\n",
       "    end_index: 26\n",
       "19. intersect\n",
       "    core type: Literal\n",
       "    sub-expressions: \n",
       "20. (A_{1}, A_{2}, ..., A_{m})\n",
       "    core type: ExprTuple\n",
       "    sub-expressions: 22\n",
       "21. _a -> (x in A_{_a})\n",
       "    core type: Lambda\n",
       "    parameter: 33\n",
       "    body: 23\n",
       "22. A_{1}, A_{2}, ..., A_{m}\n",
       "    core type: ExprRange\n",
       "    lambda_map: 24\n",
       "    start_index: 25\n",
       "    end_index: 26\n",
       "23. x in A_{_a}\n",
       "    core type: Operation\n",
       "    operator: 27\n",
       "    operands: 28\n",
       "24. _a -> A_{_a}\n",
       "    core type: Lambda\n",
       "    parameter: 33\n",
       "    body: 30\n",
       "25. 1\n",
       "    core type: Literal\n",
       "    sub-expressions: \n",
       "26. m\n",
       "    core type: Variable\n",
       "    sub-expressions: \n",
       "27. in\n",
       "    core type: Literal\n",
       "    sub-expressions: \n",
       "28. (x, A_{_a})\n",
       "    core type: ExprTuple\n",
       "    sub-expressions: 29, 30\n",
       "29. x\n",
       "    core type: Variable\n",
       "    sub-expressions: \n",
       "30. A_{_a}\n",
       "    core type: IndexedVar\n",
       "variable: 31\n",
       "index: 33\n",
       "31. A\n",
       "    core type: Variable\n",
       "    sub-expressions: \n",
       "32. (_a)\n",
       "    core type: ExprTuple\n",
       "    sub-expressions: 33\n",
       "33. _a\n",
       "    core type: Variable\n",
       "    sub-expressions: "
      ]
     },
     "metadata": {},
     "output_type": "display_data"
    }
   ],
   "source": [
    "# display the expression information\n",
    "stored_expr.expr_info()"
   ]
  },
  {
   "cell_type": "code",
   "execution_count": null,
   "metadata": {},
   "outputs": [],
   "source": []
  }
 ],
 "metadata": {
  "kernelspec": {
   "display_name": "Python 3",
   "language": "python",
   "name": "python3"
  }
 },
 "nbformat": 4,
 "nbformat_minor": 0
}