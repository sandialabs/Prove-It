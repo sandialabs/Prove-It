{
 "cells": [
  {
   "cell_type": "markdown",
   "metadata": {},
   "source": [
    "Expression of type <a class=\"ProveItLink\" href=\"../../../../../../../../doc/html/api/proveit.Conditional.html\">Conditional</a>\n",
    "=======================\n",
    "# from the theory of <a class=\"ProveItLink\" href=\"../../../_theory_nbs_/theory.ipynb\">proveit.logic.sets.intersection</a>"
   ]
  },
  {
   "cell_type": "code",
   "execution_count": 1,
   "metadata": {},
   "outputs": [],
   "source": [
    "import proveit\n",
    "# Automation is not needed when building an expression:\n",
    "proveit.defaults.automation = False # This will speed things up.\n",
    "proveit.defaults.inline_pngs = False # Makes files smaller.\n",
    "%load_expr # Load the stored expression as 'stored_expr'\n",
    "# import Expression classes needed to build the expression\n",
    "from proveit import Conditional, x\n",
    "from proveit.core_expr_types import Q__y_1_to_n, R__y_1_to_n, S_1_to_n, y_1_to_n\n",
    "from proveit.logic import Equals, Exists, Forall, InSet\n",
    "from proveit.logic.sets import general_intersectall_Ryn"
   ]
  },
  {
   "cell_type": "code",
   "execution_count": 2,
   "metadata": {},
   "outputs": [
    {
     "data": {
      "text/html": [
       "<strong id=\"expr\">expr:</strong> <a class=\"ProveItLink\" href=\"expr.ipynb\"><img src=\"expr.png\" style=\"display:inline;vertical-align:middle;\" /></a><br>"
      ],
      "text/plain": [
       "<IPython.core.display.HTML object>"
      ]
     },
     "metadata": {},
     "output_type": "display_data"
    }
   ],
   "source": [
    "# build up the expression from sub-expressions\n",
    "sub_expr1 = [y_1_to_n]\n",
    "sub_expr2 = [S_1_to_n]\n",
    "expr = Conditional(Equals(InSet(x, general_intersectall_Ryn), Forall(instance_param_or_params = sub_expr1, instance_expr = InSet(x, R__y_1_to_n), domains = sub_expr2, condition = Q__y_1_to_n)).with_wrapping_at(1), Exists(instance_param_or_params = sub_expr1, instance_expr = Q__y_1_to_n, domains = sub_expr2))"
   ]
  },
  {
   "cell_type": "code",
   "execution_count": 3,
   "metadata": {},
   "outputs": [
    {
     "name": "stdout",
     "output_type": "stream",
     "text": [
      "Passed sanity check: expr matches stored_expr\n"
     ]
    }
   ],
   "source": [
    "# check that the built expression is the same as the stored expression\n",
    "assert expr == stored_expr\n",
    "assert expr._style_id == stored_expr._style_id\n",
    "print(\"Passed sanity check: expr matches stored_expr\")"
   ]
  },
  {
   "cell_type": "code",
   "execution_count": 4,
   "metadata": {},
   "outputs": [
    {
     "name": "stdout",
     "output_type": "stream",
     "text": [
      "\\left\\{\\begin{array}{c} \\begin{array}{l} \\left(x \\in \\left[\\bigcap_{\\left(y_{1} \\in S_{1}\\right), \\left(y_{2} \\in S_{2}\\right), \\ldots, \\left(y_{n} \\in S_{n}\\right)~|~Q\\left(y_{1}, y_{2}, \\ldots, y_{n}\\right)}~R\\left(y_{1}, y_{2}, \\ldots, y_{n}\\right)\\right]\\right) \\\\  = \\left[\\forall_{\\left(y_{1} \\in S_{1}\\right), \\left(y_{2} \\in S_{2}\\right), \\ldots, \\left(y_{n} \\in S_{n}\\right)~|~Q\\left(y_{1}, y_{2}, \\ldots, y_{n}\\right)}~\\left(x \\in R\\left(y_{1}, y_{2}, \\ldots, y_{n}\\right)\\right)\\right] \\end{array} \\end{array} \\textrm{ if } \\exists_{\\left(y_{1} \\in S_{1}\\right), \\left(y_{2} \\in S_{2}\\right), \\ldots, \\left(y_{n} \\in S_{n}\\right)}~Q\\left(y_{1}, y_{2}, \\ldots, y_{n}\\right)\\right..\n"
     ]
    }
   ],
   "source": [
    "# Show the LaTeX representation of the expression for convenience if you need it.\n",
    "print(stored_expr.latex())"
   ]
  },
  {
   "cell_type": "code",
   "execution_count": 5,
   "metadata": {},
   "outputs": [
    {
     "data": {
      "text/html": [
       "<table>\n",
       "<tr><th>name</th><th>description</th><th>default</th><th>current value</th><th>related methods</th></tr><tr><td>condition_delimiter</td><td>'comma' or 'and'</td><td>comma</td><td>comma</td><td>('with_comma_delimiter', 'with_conjunction_delimiter')</td></tr>\n",
       "</table>\n"
      ],
      "text/plain": [
       "style name: condition_delimiter\n",
       "description: 'comma' or 'and'\n",
       "default: comma\n",
       "current value: comma\n",
       "related methods: ('with_comma_delimiter', 'with_conjunction_delimiter')"
      ]
     },
     "metadata": {},
     "output_type": "display_data"
    }
   ],
   "source": [
    "stored_expr.style_options()"
   ]
  },
  {
   "cell_type": "code",
   "execution_count": 6,
   "metadata": {},
   "outputs": [
    {
     "data": {
      "text/html": [
       "<table><tr><th>&nbsp;</th><th>core type</th><th>sub-expressions</th><th>expression</th></tr>\n",
       "<tr><td>0</td><td>Conditional</td><td>value:&nbsp;1<br>condition:&nbsp;2<br></td><td><a class=\"ProveItLink\" href=\"expr.ipynb\"><img src=\"expr.png\" style=\"display:inline;vertical-align:middle;\" /></a></td></tr>\n",
       "<tr><td>1</td><td>Operation</td><td>operator:&nbsp;3<br>operands:&nbsp;4<br></td><td><a class=\"ProveItLink\" href=\"../cd95448b581bea8dfe6538f9d5d060b213147f590/expr.ipynb\"><img src=\"../cd95448b581bea8dfe6538f9d5d060b213147f590/expr.png\" style=\"display:inline;vertical-align:middle;\" /></a></td></tr>\n",
       "<tr><td>2</td><td>Operation</td><td>operator:&nbsp;5<br>operand:&nbsp;9<br></td><td><a class=\"ProveItLink\" href=\"../ea965952bb274cf7381e2826406d84222906e45e0/expr.ipynb\"><img src=\"../ea965952bb274cf7381e2826406d84222906e45e0/expr.png\" style=\"display:inline;vertical-align:middle;\" /></a></td></tr>\n",
       "<tr><td>3</td><td>Literal</td><td></td><td><a class=\"ProveItLink\" href=\"../../../../../equality/__pv_it/common/fb96dc12b2aa8801dda64d0132b396c63d1502bb0/expr.ipynb\"><img src=\"../../../../../equality/__pv_it/common/fb96dc12b2aa8801dda64d0132b396c63d1502bb0/expr.png\" style=\"display:inline;vertical-align:middle;\" /></a></td></tr>\n",
       "<tr><td>4</td><td>ExprTuple</td><td>7, 8</td><td><a class=\"ProveItLink\" href=\"../83eb7bf2606fc763ca9987aee639c1969e9262180/expr.ipynb\"><img src=\"../83eb7bf2606fc763ca9987aee639c1969e9262180/expr.png\" style=\"display:inline;vertical-align:middle;\" /></a></td></tr>\n",
       "<tr><td>5</td><td>Literal</td><td></td><td><a class=\"ProveItLink\" href=\"../../../../../booleans/quantification/existence/__pv_it/common/fedc3809ed9823aab11264c156786a59540352e70/expr.ipynb\"><img src=\"../../../../../booleans/quantification/existence/__pv_it/common/fedc3809ed9823aab11264c156786a59540352e70/expr.png\" style=\"display:inline;vertical-align:middle;\" /></a></td></tr>\n",
       "<tr><td>6</td><td>ExprTuple</td><td>9</td><td><a class=\"ProveItLink\" href=\"../1f3bb600d3d27b1de0582b9f8f29421b4baa73040/expr.ipynb\"><img src=\"../1f3bb600d3d27b1de0582b9f8f29421b4baa73040/expr.png\" style=\"display:inline;vertical-align:middle;\" /></a></td></tr>\n",
       "<tr><td>7</td><td>Operation</td><td>operator:&nbsp;38<br>operands:&nbsp;10<br></td><td><a class=\"ProveItLink\" href=\"../177f9601806c4e72b7b4afae7383b6f72a49859e0/expr.ipynb\"><img src=\"../177f9601806c4e72b7b4afae7383b6f72a49859e0/expr.png\" style=\"display:inline;vertical-align:middle;\" /></a></td></tr>\n",
       "<tr><td>8</td><td>Operation</td><td>operator:&nbsp;11<br>operand:&nbsp;15<br></td><td><a class=\"ProveItLink\" href=\"../813a9a149c5b0e1498985340b2dbf03dbc69885e0/expr.ipynb\"><img src=\"../813a9a149c5b0e1498985340b2dbf03dbc69885e0/expr.png\" style=\"display:inline;vertical-align:middle;\" /></a></td></tr>\n",
       "<tr><td>9</td><td>Lambda</td><td>parameters:&nbsp;35<br>body:&nbsp;13<br></td><td><a class=\"ProveItLink\" href=\"../d9d67ff2e4eb8dd52e9755b5f7c70477cde41b7c0/expr.ipynb\"><img src=\"../d9d67ff2e4eb8dd52e9755b5f7c70477cde41b7c0/expr.png\" style=\"display:inline;vertical-align:middle;\" /></a></td></tr>\n",
       "<tr><td>10</td><td>ExprTuple</td><td>26, 14</td><td><a class=\"ProveItLink\" href=\"../111021670ca597e559822631d367bb7c5429ba760/expr.ipynb\"><img src=\"../111021670ca597e559822631d367bb7c5429ba760/expr.png\" style=\"display:inline;vertical-align:middle;\" /></a></td></tr>\n",
       "<tr><td>11</td><td>Literal</td><td></td><td><a class=\"ProveItLink\" href=\"../../../../../booleans/quantification/universality/__pv_it/common/083d2baa0b8ecab1d230f9ec29a15aa1355809fb0/expr.ipynb\"><img src=\"../../../../../booleans/quantification/universality/__pv_it/common/083d2baa0b8ecab1d230f9ec29a15aa1355809fb0/expr.png\" style=\"display:inline;vertical-align:middle;\" /></a></td></tr>\n",
       "<tr><td>12</td><td>ExprTuple</td><td>15</td><td><a class=\"ProveItLink\" href=\"../9fb27606bb8f81b32a805ffbfa10925c96acfc610/expr.ipynb\"><img src=\"../9fb27606bb8f81b32a805ffbfa10925c96acfc610/expr.png\" style=\"display:inline;vertical-align:middle;\" /></a></td></tr>\n",
       "<tr><td>13</td><td>Conditional</td><td>value:&nbsp;32<br>condition:&nbsp;16<br></td><td><a class=\"ProveItLink\" href=\"../405f0db403800c2ecb3135c07593c9d8e2c2a86c0/expr.ipynb\"><img src=\"../405f0db403800c2ecb3135c07593c9d8e2c2a86c0/expr.png\" style=\"display:inline;vertical-align:middle;\" /></a></td></tr>\n",
       "<tr><td>14</td><td>Operation</td><td>operator:&nbsp;17<br>operand:&nbsp;21<br></td><td><a class=\"ProveItLink\" href=\"../../../../__pv_it/common/70ad729b09e884f3f75079d9978d433d5124c9e10/expr.ipynb\"><img src=\"../../../../__pv_it/common/70ad729b09e884f3f75079d9978d433d5124c9e10/expr.png\" style=\"display:inline;vertical-align:middle;\" /></a></td></tr>\n",
       "<tr><td>15</td><td>Lambda</td><td>parameters:&nbsp;35<br>body:&nbsp;19<br></td><td><a class=\"ProveItLink\" href=\"../0dd926364a9e85dc319a6bffd069fdd7b273434b0/expr.ipynb\"><img src=\"../0dd926364a9e85dc319a6bffd069fdd7b273434b0/expr.png\" style=\"display:inline;vertical-align:middle;\" /></a></td></tr>\n",
       "<tr><td>16</td><td>Operation</td><td>operator:&nbsp;28<br>operands:&nbsp;20<br></td><td><a class=\"ProveItLink\" href=\"../d2191f687d372cc67a7bf2b00f9df9005af757610/expr.ipynb\"><img src=\"../d2191f687d372cc67a7bf2b00f9df9005af757610/expr.png\" style=\"display:inline;vertical-align:middle;\" /></a></td></tr>\n",
       "<tr><td>17</td><td>Literal</td><td></td><td><a class=\"ProveItLink\" href=\"../../common/71ae6bc6f6630368970ebb60f376622a858757f00/expr.ipynb\"><img src=\"../../common/71ae6bc6f6630368970ebb60f376622a858757f00/expr.png\" style=\"display:inline;vertical-align:middle;\" /></a></td></tr>\n",
       "<tr><td>18</td><td>ExprTuple</td><td>21</td><td><a class=\"ProveItLink\" href=\"../../../../__pv_it/common/2515d995736cfec43fb31c1d98b28ab189ad5de00/expr.ipynb\"><img src=\"../../../../__pv_it/common/2515d995736cfec43fb31c1d98b28ab189ad5de00/expr.png\" style=\"display:inline;vertical-align:middle;\" /></a></td></tr>\n",
       "<tr><td>19</td><td>Conditional</td><td>value:&nbsp;22<br>condition:&nbsp;25<br></td><td><a class=\"ProveItLink\" href=\"../4f5534de46815b630dfb5ca9f33b0dac6815fb5a0/expr.ipynb\"><img src=\"../4f5534de46815b630dfb5ca9f33b0dac6815fb5a0/expr.png\" style=\"display:inline;vertical-align:middle;\" /></a></td></tr>\n",
       "<tr><td>20</td><td>ExprTuple</td><td>31</td><td><a class=\"ProveItLink\" href=\"../a00dc1c712418e138efa6d96f02bf0b0699195bf0/expr.ipynb\"><img src=\"../a00dc1c712418e138efa6d96f02bf0b0699195bf0/expr.png\" style=\"display:inline;vertical-align:middle;\" /></a></td></tr>\n",
       "<tr><td>21</td><td>Lambda</td><td>parameters:&nbsp;35<br>body:&nbsp;23<br></td><td><a class=\"ProveItLink\" href=\"../../../../__pv_it/common/d44553ea9b47a5977e9a598f67f301c5eeb190010/expr.ipynb\"><img src=\"../../../../__pv_it/common/d44553ea9b47a5977e9a598f67f301c5eeb190010/expr.png\" style=\"display:inline;vertical-align:middle;\" /></a></td></tr>\n",
       "<tr><td>22</td><td>Operation</td><td>operator:&nbsp;38<br>operands:&nbsp;24<br></td><td><a class=\"ProveItLink\" href=\"../98efbde0bd593d8b4e4213a5353d636b0f2c30c80/expr.ipynb\"><img src=\"../98efbde0bd593d8b4e4213a5353d636b0f2c30c80/expr.png\" style=\"display:inline;vertical-align:middle;\" /></a></td></tr>\n",
       "<tr><td>23</td><td>Conditional</td><td>value:&nbsp;27<br>condition:&nbsp;25<br></td><td><a class=\"ProveItLink\" href=\"../../../../__pv_it/common/1f8fea0dd368c5a0227ce2d2cf0993994769ba7a0/expr.ipynb\"><img src=\"../../../../__pv_it/common/1f8fea0dd368c5a0227ce2d2cf0993994769ba7a0/expr.png\" style=\"display:inline;vertical-align:middle;\" /></a></td></tr>\n",
       "<tr><td>24</td><td>ExprTuple</td><td>26, 27</td><td><a class=\"ProveItLink\" href=\"../9107a857a344e1090d0ebddf57bdaf17509ca1620/expr.ipynb\"><img src=\"../9107a857a344e1090d0ebddf57bdaf17509ca1620/expr.png\" style=\"display:inline;vertical-align:middle;\" /></a></td></tr>\n",
       "<tr><td>25</td><td>Operation</td><td>operator:&nbsp;28<br>operands:&nbsp;29<br></td><td><a class=\"ProveItLink\" href=\"../../../../__pv_it/common/b689b8cf5e0cd52b955217f270210851bbc5d0170/expr.ipynb\"><img src=\"../../../../__pv_it/common/b689b8cf5e0cd52b955217f270210851bbc5d0170/expr.png\" style=\"display:inline;vertical-align:middle;\" /></a></td></tr>\n",
       "<tr><td>26</td><td>Variable</td><td></td><td><a class=\"ProveItLink\" href=\"../../../../../../__pv_it/common/a0d9d672aa5e272d907247690c152cc2c6daafb70/expr.ipynb\"><img src=\"../../../../../../__pv_it/common/a0d9d672aa5e272d907247690c152cc2c6daafb70/expr.png\" style=\"display:inline;vertical-align:middle;\" /></a></td></tr>\n",
       "<tr><td>27</td><td>Operation</td><td>operator:&nbsp;30<br>operands:&nbsp;35<br></td><td><a class=\"ProveItLink\" href=\"../../../../../../core_expr_types/__pv_it/common/058de70c8a930c1efc3b555746fa64d032ab18070/expr.ipynb\"><img src=\"../../../../../../core_expr_types/__pv_it/common/058de70c8a930c1efc3b555746fa64d032ab18070/expr.png\" style=\"display:inline;vertical-align:middle;\" /></a></td></tr>\n",
       "<tr><td>28</td><td>Literal</td><td></td><td><a class=\"ProveItLink\" href=\"../../../../../booleans/conjunction/__pv_it/common/42118ff318bd65d98b1393f64ce7c2269feef76e0/expr.ipynb\"><img src=\"../../../../../booleans/conjunction/__pv_it/common/42118ff318bd65d98b1393f64ce7c2269feef76e0/expr.png\" style=\"display:inline;vertical-align:middle;\" /></a></td></tr>\n",
       "<tr><td>29</td><td>ExprTuple</td><td>31, 32</td><td><a class=\"ProveItLink\" href=\"../../../../__pv_it/common/ccf71d92cae84c2ec67b00acff55ea28b65b94920/expr.ipynb\"><img src=\"../../../../__pv_it/common/ccf71d92cae84c2ec67b00acff55ea28b65b94920/expr.png\" style=\"display:inline;vertical-align:middle;\" /></a></td></tr>\n",
       "<tr><td>30</td><td>Variable</td><td></td><td><a class=\"ProveItLink\" href=\"../../../../../../__pv_it/common/647ca33d6b96e29d5aa85a15d2241c7ebd0c6e4b0/expr.ipynb\"><img src=\"../../../../../../__pv_it/common/647ca33d6b96e29d5aa85a15d2241c7ebd0c6e4b0/expr.png\" style=\"display:inline;vertical-align:middle;\" /></a></td></tr>\n",
       "<tr><td>31</td><td>ExprRange</td><td>lambda_map:&nbsp;33<br>start_index:&nbsp;41<br>end_index:&nbsp;42<br></td><td><a class=\"ProveItLink\" href=\"../../../../__pv_it/common/da20f7695abc6ae8d951bb146afae5c907473fca0/expr.ipynb\"><img src=\"../../../../__pv_it/common/da20f7695abc6ae8d951bb146afae5c907473fca0/expr.png\" style=\"display:inline;vertical-align:middle;\" /></a></td></tr>\n",
       "<tr><td>32</td><td>Operation</td><td>operator:&nbsp;34<br>operands:&nbsp;35<br></td><td><a class=\"ProveItLink\" href=\"../../../../../../core_expr_types/__pv_it/common/e38d9e725daa55259ff29a69c9848df141c43acc0/expr.ipynb\"><img src=\"../../../../../../core_expr_types/__pv_it/common/e38d9e725daa55259ff29a69c9848df141c43acc0/expr.png\" style=\"display:inline;vertical-align:middle;\" /></a></td></tr>\n",
       "<tr><td>33</td><td>Lambda</td><td>parameter:&nbsp;48<br>body:&nbsp;36<br></td><td><a class=\"ProveItLink\" href=\"../../../../__pv_it/common/3df1023f940f3e81fbd559030326cf21ecf088f50/expr.ipynb\"><img src=\"../../../../__pv_it/common/3df1023f940f3e81fbd559030326cf21ecf088f50/expr.png\" style=\"display:inline;vertical-align:middle;\" /></a></td></tr>\n",
       "<tr><td>34</td><td>Variable</td><td></td><td><a class=\"ProveItLink\" href=\"../../../../../../__pv_it/common/d72bb8b07403efe79afab564c36a28e21330e5f90/expr.ipynb\"><img src=\"../../../../../../__pv_it/common/d72bb8b07403efe79afab564c36a28e21330e5f90/expr.png\" style=\"display:inline;vertical-align:middle;\" /></a></td></tr>\n",
       "<tr><td>35</td><td>ExprTuple</td><td>37</td><td><a class=\"ProveItLink\" href=\"../../../../../../core_expr_types/__pv_it/common/3e6f103b1536f1d5f586682ee3b57d9899deba720/expr.ipynb\"><img src=\"../../../../../../core_expr_types/__pv_it/common/3e6f103b1536f1d5f586682ee3b57d9899deba720/expr.png\" style=\"display:inline;vertical-align:middle;\" /></a></td></tr>\n",
       "<tr><td>36</td><td>Operation</td><td>operator:&nbsp;38<br>operands:&nbsp;39<br></td><td><a class=\"ProveItLink\" href=\"../../../../__pv_it/common/b5a16ad436a75fe884103a876b9556f9fd940cc10/expr.ipynb\"><img src=\"../../../../__pv_it/common/b5a16ad436a75fe884103a876b9556f9fd940cc10/expr.png\" style=\"display:inline;vertical-align:middle;\" /></a></td></tr>\n",
       "<tr><td>37</td><td>ExprRange</td><td>lambda_map:&nbsp;40<br>start_index:&nbsp;41<br>end_index:&nbsp;42<br></td><td><a class=\"ProveItLink\" href=\"../../../../../../core_expr_types/__pv_it/common/bcf5ce1b1593e9c2c261618d94fd21c2cd04eae40/expr.ipynb\"><img src=\"../../../../../../core_expr_types/__pv_it/common/bcf5ce1b1593e9c2c261618d94fd21c2cd04eae40/expr.png\" style=\"display:inline;vertical-align:middle;\" /></a></td></tr>\n",
       "<tr><td>38</td><td>Literal</td><td></td><td><a class=\"ProveItLink\" href=\"../../../../membership/__pv_it/common/477487d8796864d23d5810f83761435f25167f690/expr.ipynb\"><img src=\"../../../../membership/__pv_it/common/477487d8796864d23d5810f83761435f25167f690/expr.png\" style=\"display:inline;vertical-align:middle;\" /></a></td></tr>\n",
       "<tr><td>39</td><td>ExprTuple</td><td>44, 43</td><td><a class=\"ProveItLink\" href=\"../../../../__pv_it/common/7da9e335898e4f64b947bf5e5e32c949a29f4ea90/expr.ipynb\"><img src=\"../../../../__pv_it/common/7da9e335898e4f64b947bf5e5e32c949a29f4ea90/expr.png\" style=\"display:inline;vertical-align:middle;\" /></a></td></tr>\n",
       "<tr><td>40</td><td>Lambda</td><td>parameter:&nbsp;48<br>body:&nbsp;44<br></td><td><a class=\"ProveItLink\" href=\"../../../../../../core_expr_types/__pv_it/common/47ca082a5e3217d68f414fa9b5fb4cf7b07e06430/expr.ipynb\"><img src=\"../../../../../../core_expr_types/__pv_it/common/47ca082a5e3217d68f414fa9b5fb4cf7b07e06430/expr.png\" style=\"display:inline;vertical-align:middle;\" /></a></td></tr>\n",
       "<tr><td>41</td><td>Literal</td><td></td><td><a class=\"ProveItLink\" href=\"../../../../../../numbers/numerals/__pv_it/common/682157d4892d216d9e5626ed533aff9b56b9506e0/expr.ipynb\"><img src=\"../../../../../../numbers/numerals/__pv_it/common/682157d4892d216d9e5626ed533aff9b56b9506e0/expr.png\" style=\"display:inline;vertical-align:middle;\" /></a></td></tr>\n",
       "<tr><td>42</td><td>Variable</td><td></td><td><a class=\"ProveItLink\" href=\"../../../../../../__pv_it/common/8968bb04eb3f7dfa02353397ce929b025bbd79c20/expr.ipynb\"><img src=\"../../../../../../__pv_it/common/8968bb04eb3f7dfa02353397ce929b025bbd79c20/expr.png\" style=\"display:inline;vertical-align:middle;\" /></a></td></tr>\n",
       "<tr><td>43</td><td>IndexedVar</td><td>variable:&nbsp;45<br>index:&nbsp;48<br></td><td><a class=\"ProveItLink\" href=\"../../../../../../core_expr_types/__pv_it/common/6b89cdf8fc850cb96799963f38ddb4c2de5a92d00/expr.ipynb\"><img src=\"../../../../../../core_expr_types/__pv_it/common/6b89cdf8fc850cb96799963f38ddb4c2de5a92d00/expr.png\" style=\"display:inline;vertical-align:middle;\" /></a></td></tr>\n",
       "<tr><td>44</td><td>IndexedVar</td><td>variable:&nbsp;46<br>index:&nbsp;48<br></td><td><a class=\"ProveItLink\" href=\"../../../../../../core_expr_types/__pv_it/common/dd83f4522fafc6cf7fa80e461f3330c821446f0a0/expr.ipynb\"><img src=\"../../../../../../core_expr_types/__pv_it/common/dd83f4522fafc6cf7fa80e461f3330c821446f0a0/expr.png\" style=\"display:inline;vertical-align:middle;\" /></a></td></tr>\n",
       "<tr><td>45</td><td>Variable</td><td></td><td><a class=\"ProveItLink\" href=\"../../../../../../__pv_it/common/38f47c5670ea8c5b56253448e95d8afb56bc09b40/expr.ipynb\"><img src=\"../../../../../../__pv_it/common/38f47c5670ea8c5b56253448e95d8afb56bc09b40/expr.png\" style=\"display:inline;vertical-align:middle;\" /></a></td></tr>\n",
       "<tr><td>46</td><td>Variable</td><td></td><td><a class=\"ProveItLink\" href=\"../../../../../../__pv_it/common/ff7dba4ef0bbe791ab573bf2d9c220a304399ac80/expr.ipynb\"><img src=\"../../../../../../__pv_it/common/ff7dba4ef0bbe791ab573bf2d9c220a304399ac80/expr.png\" style=\"display:inline;vertical-align:middle;\" /></a></td></tr>\n",
       "<tr><td>47</td><td>ExprTuple</td><td>48</td><td><a class=\"ProveItLink\" href=\"../../../../../../core_expr_types/__pv_it/common/4b0dd6be36d76552eda6a95d5b4a27f5a5b62f900/expr.ipynb\"><img src=\"../../../../../../core_expr_types/__pv_it/common/4b0dd6be36d76552eda6a95d5b4a27f5a5b62f900/expr.png\" style=\"display:inline;vertical-align:middle;\" /></a></td></tr>\n",
       "<tr><td>48</td><td>Variable</td><td></td><td><a class=\"ProveItLink\" href=\"../../../../../../core_expr_types/__pv_it/common/006c465e50948aa2b52285e2de47974f741255cc0/expr.ipynb\"><img src=\"../../../../../../core_expr_types/__pv_it/common/006c465e50948aa2b52285e2de47974f741255cc0/expr.png\" style=\"display:inline;vertical-align:middle;\" /></a></td></tr>\n",
       "</table>\n"
      ],
      "text/plain": [
       "0. {(x in [intersect_all_{(y_{1} in S_{1}), (y_{2} in S_{2}), ..., (y_{n} in S_{n}) | Q(y_{1}, y_{2}, ..., y_{n})} R(y_{1}, y_{2}, ..., y_{n})]) \\\\  = [forall_{(y_{1} in S_{1}), (y_{2} in S_{2}), ..., (y_{n} in S_{n}) | Q(y_{1}, y_{2}, ..., y_{n})} (x in R(y_{1}, y_{2}, ..., y_{n}))] if exists_{(y_{1} in S_{1}), (y_{2} in S_{2}), ..., (y_{n} in S_{n})} Q(y_{1}, y_{2}, ..., y_{n}).\n",
       "   core type: Conditional\n",
       "   value: 1\n",
       "   condition: 2\n",
       "1. (x in [intersect_all_{(y_{1} in S_{1}), (y_{2} in S_{2}), ..., (y_{n} in S_{n}) | Q(y_{1}, y_{2}, ..., y_{n})} R(y_{1}, y_{2}, ..., y_{n})]) \\\\  = [forall_{(y_{1} in S_{1}), (y_{2} in S_{2}), ..., (y_{n} in S_{n}) | Q(y_{1}, y_{2}, ..., y_{n})} (x in R(y_{1}, y_{2}, ..., y_{n}))]\n",
       "   core type: Operation\n",
       "   operator: 3\n",
       "   operands: 4\n",
       "2. exists_{(y_{1} in S_{1}), (y_{2} in S_{2}), ..., (y_{n} in S_{n})} Q(y_{1}, y_{2}, ..., y_{n})\n",
       "   core type: Operation\n",
       "   operator: 5\n",
       "   operand: 9\n",
       "3. =\n",
       "   core type: Literal\n",
       "   sub-expressions: \n",
       "4. (x in [intersect_all_{(y_{1} in S_{1}), (y_{2} in S_{2}), ..., (y_{n} in S_{n}) | Q(y_{1}, y_{2}, ..., y_{n})} R(y_{1}, y_{2}, ..., y_{n})], forall_{(y_{1} in S_{1}), (y_{2} in S_{2}), ..., (y_{n} in S_{n}) | Q(y_{1}, y_{2}, ..., y_{n})} (x in R(y_{1}, y_{2}, ..., y_{n})))\n",
       "   core type: ExprTuple\n",
       "   sub-expressions: 7, 8\n",
       "5. exists\n",
       "   core type: Literal\n",
       "   sub-expressions: \n",
       "6. ((y_{1}, y_{2}, ..., y_{n}) -> {Q(y_{1}, y_{2}, ..., y_{n}) if (y_{1} in S_{1}) and  (y_{2} in S_{2}) and  ... and  (y_{n} in S_{n}).)\n",
       "   core type: ExprTuple\n",
       "   sub-expressions: 9\n",
       "7. x in [intersect_all_{(y_{1} in S_{1}), (y_{2} in S_{2}), ..., (y_{n} in S_{n}) | Q(y_{1}, y_{2}, ..., y_{n})} R(y_{1}, y_{2}, ..., y_{n})]\n",
       "   core type: Operation\n",
       "   operator: 38\n",
       "   operands: 10\n",
       "8. forall_{(y_{1} in S_{1}), (y_{2} in S_{2}), ..., (y_{n} in S_{n}) | Q(y_{1}, y_{2}, ..., y_{n})} (x in R(y_{1}, y_{2}, ..., y_{n}))\n",
       "   core type: Operation\n",
       "   operator: 11\n",
       "   operand: 15\n",
       "9. (y_{1}, y_{2}, ..., y_{n}) -> {Q(y_{1}, y_{2}, ..., y_{n}) if (y_{1} in S_{1}) and  (y_{2} in S_{2}) and  ... and  (y_{n} in S_{n}).\n",
       "   core type: Lambda\n",
       "   parameters: 35\\n   body: 13\n",
       "10. (x, intersect_all_{(y_{1} in S_{1}), (y_{2} in S_{2}), ..., (y_{n} in S_{n}) | Q(y_{1}, y_{2}, ..., y_{n})} R(y_{1}, y_{2}, ..., y_{n}))\n",
       "    core type: ExprTuple\n",
       "    sub-expressions: 26, 14\n",
       "11. forall\n",
       "    core type: Literal\n",
       "    sub-expressions: \n",
       "12. ((y_{1}, y_{2}, ..., y_{n}) -> {x in R(y_{1}, y_{2}, ..., y_{n}) if (y_{1} in S_{1}) ,  (y_{2} in S_{2}) ,  ... ,  (y_{n} in S_{n}) ,  Q(y_{1}, y_{2}, ..., y_{n}).)\n",
       "    core type: ExprTuple\n",
       "    sub-expressions: 15\n",
       "13. {Q(y_{1}, y_{2}, ..., y_{n}) if (y_{1} in S_{1}) and  (y_{2} in S_{2}) and  ... and  (y_{n} in S_{n}).\n",
       "    core type: Conditional\n",
       "    value: 32\n",
       "    condition: 16\n",
       "14. intersect_all_{(y_{1} in S_{1}), (y_{2} in S_{2}), ..., (y_{n} in S_{n}) | Q(y_{1}, y_{2}, ..., y_{n})} R(y_{1}, y_{2}, ..., y_{n})\n",
       "    core type: Operation\n",
       "    operator: 17\n",
       "    operand: 21\n",
       "15. (y_{1}, y_{2}, ..., y_{n}) -> {x in R(y_{1}, y_{2}, ..., y_{n}) if (y_{1} in S_{1}) ,  (y_{2} in S_{2}) ,  ... ,  (y_{n} in S_{n}) ,  Q(y_{1}, y_{2}, ..., y_{n}).\n",
       "    core type: Lambda\n",
       "    parameters: 35\\n    body: 19\n",
       "16. (y_{1} in S_{1}) and  (y_{2} in S_{2}) and  ... and  (y_{n} in S_{n})\n",
       "    core type: Operation\n",
       "    operator: 28\n",
       "    operands: 20\n",
       "17. intersect_all\n",
       "    core type: Literal\n",
       "    sub-expressions: \n",
       "18. ((y_{1}, y_{2}, ..., y_{n}) -> {R(y_{1}, y_{2}, ..., y_{n}) if (y_{1} in S_{1}) ,  (y_{2} in S_{2}) ,  ... ,  (y_{n} in S_{n}) ,  Q(y_{1}, y_{2}, ..., y_{n}).)\n",
       "    core type: ExprTuple\n",
       "    sub-expressions: 21\n",
       "19. {x in R(y_{1}, y_{2}, ..., y_{n}) if (y_{1} in S_{1}) ,  (y_{2} in S_{2}) ,  ... ,  (y_{n} in S_{n}) ,  Q(y_{1}, y_{2}, ..., y_{n}).\n",
       "    core type: Conditional\n",
       "    value: 22\n",
       "    condition: 25\n",
       "20. ((y_{1} in S_{1}), (y_{2} in S_{2}), ..., (y_{n} in S_{n}))\n",
       "    core type: ExprTuple\n",
       "    sub-expressions: 31\n",
       "21. (y_{1}, y_{2}, ..., y_{n}) -> {R(y_{1}, y_{2}, ..., y_{n}) if (y_{1} in S_{1}) ,  (y_{2} in S_{2}) ,  ... ,  (y_{n} in S_{n}) ,  Q(y_{1}, y_{2}, ..., y_{n}).\n",
       "    core type: Lambda\n",
       "    parameters: 35\\n    body: 23\n",
       "22. x in R(y_{1}, y_{2}, ..., y_{n})\n",
       "    core type: Operation\n",
       "    operator: 38\n",
       "    operands: 24\n",
       "23. {R(y_{1}, y_{2}, ..., y_{n}) if (y_{1} in S_{1}) ,  (y_{2} in S_{2}) ,  ... ,  (y_{n} in S_{n}) ,  Q(y_{1}, y_{2}, ..., y_{n}).\n",
       "    core type: Conditional\n",
       "    value: 27\n",
       "    condition: 25\n",
       "24. (x, R(y_{1}, y_{2}, ..., y_{n}))\n",
       "    core type: ExprTuple\n",
       "    sub-expressions: 26, 27\n",
       "25. (y_{1} in S_{1}) and  (y_{2} in S_{2}) and  ... and  (y_{n} in S_{n}) and Q(y_{1}, y_{2}, ..., y_{n})\n",
       "    core type: Operation\n",
       "    operator: 28\n",
       "    operands: 29\n",
       "26. x\n",
       "    core type: Variable\n",
       "    sub-expressions: \n",
       "27. R(y_{1}, y_{2}, ..., y_{n})\n",
       "    core type: Operation\n",
       "    operator: 30\n",
       "    operands: 35\n",
       "28. and\n",
       "    core type: Literal\n",
       "    sub-expressions: \n",
       "29. ((y_{1} in S_{1}), (y_{2} in S_{2}), ..., (y_{n} in S_{n}), Q(y_{1}, y_{2}, ..., y_{n}))\n",
       "    core type: ExprTuple\n",
       "    sub-expressions: 31, 32\n",
       "30. R\n",
       "    core type: Variable\n",
       "    sub-expressions: \n",
       "31. (y_{1} in S_{1}), (y_{2} in S_{2}), ..., (y_{n} in S_{n})\n",
       "    core type: ExprRange\n",
       "    lambda_map: 33\n",
       "    start_index: 41\n",
       "    end_index: 42\n",
       "32. Q(y_{1}, y_{2}, ..., y_{n})\n",
       "    core type: Operation\n",
       "    operator: 34\n",
       "    operands: 35\n",
       "33. _a -> (y_{_a} in S_{_a})\n",
       "    core type: Lambda\n",
       "    parameter: 48\n",
       "    body: 36\n",
       "34. Q\n",
       "    core type: Variable\n",
       "    sub-expressions: \n",
       "35. (y_{1}, y_{2}, ..., y_{n})\n",
       "    core type: ExprTuple\n",
       "    sub-expressions: 37\n",
       "36. y_{_a} in S_{_a}\n",
       "    core type: Operation\n",
       "    operator: 38\n",
       "    operands: 39\n",
       "37. y_{1}, y_{2}, ..., y_{n}\n",
       "    core type: ExprRange\n",
       "    lambda_map: 40\n",
       "    start_index: 41\n",
       "    end_index: 42\n",
       "38. in\n",
       "    core type: Literal\n",
       "    sub-expressions: \n",
       "39. (y_{_a}, S_{_a})\n",
       "    core type: ExprTuple\n",
       "    sub-expressions: 44, 43\n",
       "40. _a -> y_{_a}\n",
       "    core type: Lambda\n",
       "    parameter: 48\n",
       "    body: 44\n",
       "41. 1\n",
       "    core type: Literal\n",
       "    sub-expressions: \n",
       "42. n\n",
       "    core type: Variable\n",
       "    sub-expressions: \n",
       "43. S_{_a}\n",
       "    core type: IndexedVar\n",
       "variable: 45\n",
       "index: 48\n",
       "44. y_{_a}\n",
       "    core type: IndexedVar\n",
       "variable: 46\n",
       "index: 48\n",
       "45. S\n",
       "    core type: Variable\n",
       "    sub-expressions: \n",
       "46. y\n",
       "    core type: Variable\n",
       "    sub-expressions: \n",
       "47. (_a)\n",
       "    core type: ExprTuple\n",
       "    sub-expressions: 48\n",
       "48. _a\n",
       "    core type: Variable\n",
       "    sub-expressions: "
      ]
     },
     "metadata": {},
     "output_type": "display_data"
    }
   ],
   "source": [
    "# display the expression information\n",
    "stored_expr.expr_info()"
   ]
  },
  {
   "cell_type": "code",
   "execution_count": null,
   "metadata": {},
   "outputs": [],
   "source": []
  }
 ],
 "metadata": {
  "kernelspec": {
   "display_name": "Python 3",
   "language": "python",
   "name": "python3"
  }
 },
 "nbformat": 4,
 "nbformat_minor": 0
}