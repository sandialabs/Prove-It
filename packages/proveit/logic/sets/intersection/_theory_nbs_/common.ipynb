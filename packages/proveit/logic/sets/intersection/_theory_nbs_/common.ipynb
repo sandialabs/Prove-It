{
 "cells": [
  {
   "cell_type": "markdown",
   "metadata": {},
   "source": [
    "Common expressions for the theory of <a class=\"ProveItLink\" href=\"theory.ipynb\">proveit.logic.sets.intersection</a>\n",
    "========"
   ]
  },
  {
   "cell_type": "code",
   "execution_count": 1,
   "metadata": {},
   "outputs": [
    {
     "name": "stdout",
     "output_type": "stream",
     "text": [
      "Defining common sub-expressions for theory 'proveit.logic.sets.intersection'\n",
      "Subsequent end-of-cell assignments will define common sub-expressions\n",
      "%end_common will finalize the definitions\n"
     ]
    }
   ],
   "source": [
    "import proveit\n",
    "# Prepare this notebook for defining the common expressions of a theory:\n",
    "%common_expressions_notebook # Keep this at the top following 'import proveit'.\n",
    "from proveit import Lambda, ExprRange, IndexedVar\n",
    "from proveit.logic import And, Or, InSet, NotInSet, Intersect\n",
    "from proveit import A, x, i, n\n",
    "from proveit.numbers import one\n",
    "%begin common"
   ]
  },
  {
   "cell_type": "code",
   "execution_count": 2,
   "metadata": {},
   "outputs": [
    {
     "data": {
      "text/html": [
       "<strong id=\"intersected_as\">intersected_as:</strong> <a class=\"ProveItLink\" href=\"../__pv_it/common/bad42ab7ac39afbd500ffe9eec72a6e0319dbf0a0/common_expr.ipynb\"><img src=\"data:image/png;base64,iVBORw0KGgoAAAANSUhEUgAAAKkAAAASBAMAAADS9uOqAAAAMFBMVEX///8AAAAAAAAAAAAAAAAA\n",
       "AAAAAAAAAAAAAAAAAAAAAAAAAAAAAAAAAAAAAAAAAAAv3aB7AAAAD3RSTlMAIs1UmauJMnZmRLsQ\n",
       "3e++988cAAAACXBIWXMAAA7EAAAOxAGVKw4bAAABr0lEQVQ4y2NgAAEhBuwAlzgOwKiAwtXHoUyf\n",
       "NFOZPiDzmP8j2JxBWxYQEkcGU7W94Gx7FFNZ4gVgTPYbAsedDhAQRwK1jTwlOjCO60dkqcT8Ahiz\n",
       "CKiTUYeAOAKwg4SEoLaxiX1HDuSGfgMYOxxEzMAvjgRYQdZyNkA4EhyfkQOAwX4CjH0BRJTgF0cC\n",
       "vGAHO0A4Dsw/kaQWM9QnoOgWxS+ObipjAJjNZcD+DUnKgUEeKH5SAV03WJwnLfQAcaayMDB+Rchw\n",
       "bHGJ38DA3nEBzVSIOAsDywXiTO12cf2NkDnBwMAP1MSMbipEnH8B43eiTOUBxtlf5ABg4H2AxVSI\n",
       "OOcBIk1lAeJ7DAxTpneAIo9rAiSroZsKE2dgIy4EVoJzOM+slwwPgSw5IOb+iGkqTJyhFiW2eD4B\n",
       "ifMKUAbCVEagdxn2CzCeUGD4w8Bw+r8OA/P+TwlQUzeAiCMMSOKMe1DEGa6ADHOAMrjBIQrk8ez/\n",
       "dIDB+r8aA2sD1wPkIuYC9oJIhEGQlHKLr4DFoYCgqYzby31IMVWegbcYYSpj0rcGrHb///+BFFOX\n",
       "MnBkMgAAeXeH4KGOqaYAAAAASUVORK5CYII=\n",
       "\" style=\"display:inline;vertical-align:middle;\" /></a><br>"
      ],
      "text/plain": [
       "<IPython.core.display.HTML object>"
      ]
     },
     "metadata": {},
     "output_type": "display_data"
    }
   ],
   "source": [
    "intersected_as = Intersect(ExprRange(i, IndexedVar(A, i), one, n))"
   ]
  },
  {
   "cell_type": "code",
   "execution_count": 3,
   "metadata": {},
   "outputs": [
    {
     "data": {
      "text/html": [
       "<strong id=\"x_in_each_A\">x_in_each_A:</strong> <a class=\"ProveItLink\" href=\"../__pv_it/common/295ab7d1380225c40bd04e8346d8cdf26f0d51f10/common_expr.ipynb\"><img src=\"data:image/png;base64,iVBORw0KGgoAAAANSUhEUgAAAScAAAAVBAMAAAD2sTVgAAAAMFBMVEX///8AAAAAAAAAAAAAAAAA\n",
       "AAAAAAAAAAAAAAAAAAAAAAAAAAAAAAAAAAAAAAAAAAAv3aB7AAAAD3RSTlMAInZUiRDNmWbv3US7\n",
       "qzJazP2FAAAACXBIWXMAAA7EAAAOxAGVKw4bAAADIUlEQVRIx5VWS2gTQRj+dzfbvGwSBSuK4Bqf\n",
       "B4sefKAHW7F4UlwK2h6qRiXgzSBqo6eIoBfBRfBiQQKiwiol+IKejIIILWgpCApKg+jBHmwK2mPj\n",
       "/DP7zGZn1j3szvzzfd98M/PPzAJADviPFFrp9OT+QyxcQN4R1tzDPmnNE9sgAMMzfpdCPhPYGSpw\n",
       "3vpudUNKvwgsV3iexHwqoBZCBVpWoUt3YseFYCjyTEXgo0A8dGTxWSs/EiUnVhaC4SbPVAQ+CiR9\n",
       "bfKk+cguHzjasEp3nXbDh95mmoUAOKlzTEXgo8BuLyp9xlWUtO32FjjnTLJvrV9t6gTu4iRVFD4K\n",
       "XCSfwd6TAzTW4xllHPps+SNOjOSpmv/04yAVKnYEx6bDTUXhowDOQkmeiVexftoj8Bzm7a1ywzMI\n",
       "wu/VrtJKriM4UQg3FYWPAg/IO5f4202NevVKsI6MeRhDe+1YisznNbitf6ai7WB14BuZacUIN8Xn\n",
       "22tswBhABuLMTeaeaZpPrZR/Pzpbh0weZ3DeycEaQAMus8ovAjbrHnAccL4zzXBTfL71EIExCmaH\n",
       "tlp3+YMAWdKFgqYmvKIAd1hlpB2crUlLZLMYfFPhfHu3Gbh8AK9zKk3xqndCIWVYpvZ5px/SC3CM\n",
       "VtrBCR1NKVX+8nH45e9bgAq8JZZrXyBGG/Pu4UByrKtpdXELI+h6mQbqVLcBNCllrR0MMYJO4HSr\n",
       "QUNi/vBEJZmjAmS79/28QtKf5p5zWKxGiQXLFB4b6iLbrcrSkJFmsLPtYJjT2baHUwWLgQW3xuev\n",
       "3AxZJjAHMJRXygymfn1prXerCMrHxX5m6gmGTILPVEG9oO25zkAnpnQ/WHqHq4J5k3pIXo+xULJf\n",
       "EfgzNHuJQKrhO9IPu9cM25/ElESzREGFcV/ji0nTdyitguUAa2hxV/A0F/Pvw2iGCnhu244XQ9W+\n",
       "s2PC21b68PuSfecGf1Ei8Jswvp8JvOHiDv3RYK29bcnK834sk61WEyR6rKhaoFXMT0/DxgoTGBH+\n",
       "oDLbWvtJ1vlh3crBhoh8JiBpApTsHd0KkeZ6frOQjwL/ALKr6r4GaaSpAAAAAElFTkSuQmCC\n",
       "\" style=\"display:inline;vertical-align:middle;\" /></a><br>"
      ],
      "text/plain": [
       "<IPython.core.display.HTML object>"
      ]
     },
     "metadata": {},
     "output_type": "display_data"
    }
   ],
   "source": [
    "x_in_each_A = ExprRange(i, InSet(x, IndexedVar(A, i)), one, n)"
   ]
  },
  {
   "cell_type": "code",
   "execution_count": 4,
   "metadata": {},
   "outputs": [
    {
     "data": {
      "text/html": [
       "<strong id=\"x_in_each_A_conjunction\">x_in_each_A_conjunction:</strong> <a class=\"ProveItLink\" href=\"../__pv_it/common/3f1fffa76d68bb4273ad5c896a7f00c8cb3bd4bb0/common_expr.ipynb\"><img src=\"data:image/png;base64,iVBORw0KGgoAAAANSUhEUgAAAUYAAAAVBAMAAADIlFouAAAAMFBMVEX///8AAAAAAAAAAAAAAAAA\n",
       "AAAAAAAAAAAAAAAAAAAAAAAAAAAAAAAAAAAAAAAAAAAv3aB7AAAAD3RSTlMAInZUiRDNmWbv3US7\n",
       "qzJazP2FAAAACXBIWXMAAA7EAAAOxAGVKw4bAAADpUlEQVRIx5VXW0hUQRj+z549e/buJlIUgdtG\n",
       "EKG0D5EogVY+9BItQgmy1UoJvXnopgWCFeRDty0Igl4WoqIVQioiHyILIkhQCYQiysXqIalUSoko\n",
       "t/nnsp49npvzMDM7Z/7v++e/zSwAxMC+SS5WDM0Jchk7KZcnafU1w8ZQ3PhlvRXgSj4+cKuiIzlj\n",
       "32Il75vhk42GD3KTlUinoO51qaMzObIrGattjWKbL8VGLz/0PisJuShmHXzcab5RILkgR3bV8sg9\n",
       "s3zi19jYxhG7rSTUCRFefVyHO+YbBZILcmQPlH2qyefF0bxVC2L1Orf6ezZmrUS27ynwWYCZ3nNp\n",
       "wFQDgeSGnLBv1e96vGFxXun5KaZH2JD7xjyasRCR4ptFCviYgYLRIVMdOZIrcsJ+nPQttQeaEV3q\n",
       "0Ilo8m8x3c1TxUddqZKUURLjn2ms6UVUaBS+847xlGg3jVuO5IqcsKONNM8bNYen11WrUDL6S8zP\n",
       "M9vEZE3YSIXa+GkwiDyEaZHxfmbrdqgzTVqO5IqcsN8igDH/XAQt4NPHP0j/iL2oevV05TvAbepA\n",
       "cuozcCX1FgwiGlSPgdL8gcSiTGM2OgbBlImOAsmBnLd6uEmgQGXH/ponjUdQTVfPX4DJTTifpisf\n",
       "ARI00EkeFOAkGEU8r7omhgg8WiVKS0ekAJ64iY4CyYGct2ncRmgZUnoRRiErf8jYgD8GRS1rEzoC\n",
       "XAOjSAtARQ4qBiSSkqEsL6RKbqmKJSQnctYG0dwAz2IK+iSotzbAPaFjg6i7apL7GkKzsBfKRUiI\n",
       "BbPgT6GOck5U8GPmFZwiOZD3XU5olP0FOcHAO/BSby065gm/2ah6F4U29BYNx0EZjmShqVwk1Mtv\n",
       "MC/Rz0+dltNd4bpWQrInVy7cgKuUndSVxi+nSE5iO1Qqdeir0RjXEUsEnMVuhNUVeaE1G0qWi6xG\n",
       "9fF2mEqx+gR+ZA2Tsq7Mk8nBjOhKSPbkUksG5ij7FEBrQu5mhPuHWRoqo/Mp2FY8zHXsx24cu0nM\n",
       "1hwoR+N156BMJF3sAHl0vgmkl2gqjNkIfomiondxSRNdCcmBPBKnYd0PwYLeDY9e58uvedRRMsT9\n",
       "fbATWQUrANa4e/bYkwcKqlZAdvFgsGgNJjd/n+2bdOTHCZtnR3mzJ6+G4KcCZX9ut62qcwfAWsNi\n",
       "2O7xHCgWZ0Aacvl+tCV/Cp5djD29bCDFUYOw2z8LaXfHkOJO7/klhJVOuOvc/ldwJEf2/7MiAF37\n",
       "DjEvAAAAAElFTkSuQmCC\n",
       "\" style=\"display:inline;vertical-align:middle;\" /></a><br>"
      ],
      "text/plain": [
       "<IPython.core.display.HTML object>"
      ]
     },
     "metadata": {},
     "output_type": "display_data"
    }
   ],
   "source": [
    "x_in_each_A_conjunction = And(ExprRange(i, InSet(x, IndexedVar(A, i)), one, n))"
   ]
  },
  {
   "cell_type": "code",
   "execution_count": 5,
   "metadata": {},
   "outputs": [
    {
     "data": {
      "text/html": [
       "<strong id=\"x_not_in_any_A\">x_not_in_any_A:</strong> <a class=\"ProveItLink\" href=\"../__pv_it/common/df4eff6eafe2595f82e949b039c9ee74f2188d900/common_expr.ipynb\"><img src=\"data:image/png;base64,iVBORw0KGgoAAAANSUhEUgAAAUYAAAAVCAMAAAANZLcvAAAASFBMVEX///8AAAAAAAAAAAAAAAAA\n",
       "AAAAAAAAAAAAAAAAAAAAAAAAAAAAAAAAAAAAAAAAAAAAAAAAAAAAAAAAAAAAAAAAAAAAAAAAAACC\n",
       "gUnDAAAAF3RSTlMAInZUiRDNmWbv3US7qzLp8+P355HBnScyX7QAAAAJcEhZcwAADsQAAA7EAZUr\n",
       "DhsAAAMiSURBVFjDvZjXoqQgDIalSRE4ZQvv/6YLohQR0INrrpyZyPeHQAgzTdbA1LL2r1dd3oHc\n",
       "NTBODE4QNf1mUr46558X2KW9Arlr46KiLISbY2l1Mr456mEdwa9A7toTonZZZG6z6FLijWkkToVH\n",
       "HdbPK5CGnbo/I2qTRTs5FifjK3MsG4zGxyBU6vDGG5CGnbo/I2qTxRulQwrx8VnkDANsCu2cFPik\n",
       "jvCpSfn4FPM45MqUpO4PRb7KQlUZywytalW8BuAETVGb55havP1Ig1Md4imPQJp24v5U5KssupVZ\n",
       "AqEiGmMUzyRyXj+oKxHFfsCqOM3ipqhCPOUZSLstKd2finyVtSfYukAFJxo4M8iLSkiVxWlTnHEs\n",
       "ofo8QlisogLiKc9AOodM4f5U5Kss4ZPA7KvM2O0VJnuutE6ungLjlwWJcSF+7BREUshqEE9pQgjG\n",
       "aj9om5DpQveSug9Fnp/ffOL+VHe5ouky1lxY+/oWQh6KL6X2vJK+eYAhhTrtBFw+EU1qcAXiKQ6S\n",
       "U1KIG2ZfKU1Ixwr3kcgPKTL7YOu46TImMq3M8WvvY7a4UJjGhR/62hkUiguIp7QhZnFrQPchF3rt\n",
       "zH0s8my3831puw+uJSIkaxHE2cJ23/PjNCKR9xc6zVoVsgLaEEbiNDYh/Z4ndx+JnFFmtyKNsUvo\n",
       "M7BMyjnEAuqq8XLcMwvL70QxLpbvSqbSK0AV4ihdiH1BXIB0L9AH94HICVu4/cxBkOV7CGQ0odwf\n",
       "RqGYoKJ1AvumklszH6eRZicYydvpOsRSupBJ7ydDC0LMfHhInk40jUQOCHRjmShLrxNBqE0BoiwN\n",
       "kCj5i+SFzJj1/ELuAefTKPKFkXfFdYilfC+kDQGSXIEIenxInk469aHIFUwqtZMl6nfS33/snUi0\n",
       "blthGkG7DW5A2F/cpgA7FwBcgNy1kci5fZfS9Zj3shi9839bbRo71/wBCJBaa0qu/Jdw00ZEmTUN\n",
       "SEdZElQD6N2w8GwwvOT6cwg3zi653rWfi1pcXYWYJc5Edq7zI4LyZuw/Q+7aE6KiLFC5l6rrvUQ/\n",
       "wFcgd21c1CbrH4LjJAgycJcHAAAAAElFTkSuQmCC\n",
       "\" style=\"display:inline;vertical-align:middle;\" /></a><br>"
      ],
      "text/plain": [
       "<IPython.core.display.HTML object>"
      ]
     },
     "metadata": {},
     "output_type": "display_data"
    }
   ],
   "source": [
    "x_not_in_any_A = Or(ExprRange(i, NotInSet(x, IndexedVar(A, i)), one, n))"
   ]
  },
  {
   "cell_type": "code",
   "execution_count": 6,
   "metadata": {},
   "outputs": [
    {
     "name": "stdout",
     "output_type": "stream",
     "text": [
      "These common expressions may now be imported from the theory package: proveit.logic.sets.intersection\n"
     ]
    }
   ],
   "source": [
    "%end common"
   ]
  },
  {
   "cell_type": "code",
   "execution_count": null,
   "metadata": {},
   "outputs": [],
   "source": []
  }
 ],
 "metadata": {
  "kernelspec": {
   "display_name": "Python 3",
   "language": "python",
   "name": "python3"
  }
 },
 "nbformat": 4,
 "nbformat_minor": 0
}