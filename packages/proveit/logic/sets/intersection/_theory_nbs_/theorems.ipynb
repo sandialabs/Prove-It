{
 "cells": [
  {
   "cell_type": "markdown",
   "metadata": {},
   "source": [
    "Theorems (or conjectures) for the theory of <a class=\"ProveItLink\" href=\"theory.ipynb\">proveit.logic.sets.intersection</a>\n",
    "========"
   ]
  },
  {
   "cell_type": "code",
   "execution_count": 1,
   "metadata": {},
   "outputs": [
    {
     "name": "stdout",
     "output_type": "stream",
     "text": [
      "Defining theorems for theory 'proveit.logic.sets.intersection'\n",
      "Subsequent end-of-cell assignments will define theorems\n",
      "'%end theorems' will finalize the definitions\n"
     ]
    }
   ],
   "source": [
    "import proveit\n",
    "# Prepare this notebook for defining the theorems of a theory:\n",
    "%theorems_notebook # Keep this at the top following 'import proveit'.\n",
    "from proveit.logic import Forall, And, Equals, InSet, NotInSet, Intersect\n",
    "from proveit import m, x\n",
    "from proveit.core_expr_types import A_1_to_m\n",
    "from proveit.logic.sets import x_in_every_A, x_notin_some_A\n",
    "from proveit.numbers import NaturalPos\n",
    "%begin theorems"
   ]
  },
  {
   "cell_type": "code",
   "execution_count": 2,
   "metadata": {},
   "outputs": [
    {
     "data": {
      "text/html": [
       "<strong id=\"membership_unfolding\"><a class=\"ProveItLink\" href=\"proofs/membership_unfolding/thm_proof.ipynb\">membership_unfolding</a> (conjecture without proof):<br></strong> <a class=\"ProveItLink\" href=\"../__pv_it/theorems/2797aa6c15f3c2d17485de596879893ece0eb8bb0/theorem_expr.ipynb\"><img src=\"data:image/png;base64,iVBORw0KGgoAAAANSUhEUgAAAt8AAAAZBAMAAAAbCl93AAAAMFBMVEX///8AAAAAAAAAAAAAAAAA\n",
       "AAAAAAAAAAAAAAAAAAAAAAAAAAAAAAAAAAAAAAAAAAAv3aB7AAAAD3RSTlMAq1RmmUTNIjK7EInv\n",
       "3XZ/CtNrAAAACXBIWXMAAA7EAAAOxAGVKw4bAAAHqUlEQVRo3u1afWwURRR/3d3r3u31rmeMUYmW\n",
       "MyCJKYVTCtp/8IDyEQp4lkRRiFaIIdYYjoRoKtCu/CVS4DQ29EiUIxIiIlhI/KKJHBoigUguRgwh\n",
       "XHK1KCmBWjEpiDF1Pndn93Zvr0hiMb5k5ubtzHtv9rdv3puZFqAMuj+fhP/pFtCVfLSscS1j+B1U\n",
       "XCXLGeTxxEbJUU2gjDFknBy77QH/CZWwm9+obOa+gpOYI73Kfp8bzQRKGmf2yRwQ4BH8YIIX4BX4\n",
       "R4qNPbylHlTVuvVWDrFGv5OYI61hv+HYKCZQ2jiz308Bn4v51V6AKwmsYQxG8r2oaK4rcCp/58oM\n",
       "/T0siDnjN8JbrWAVsVEw6qHJNM7s44IAfwM7f8oLcD9eCG1jMKLMQUVxdcZZ11hDjpMf7UdBzJGU\n",
       "8dyr6sEqYqMDLR6aTOPMPikxgnsw6hnDW92/9b9KWVSqLE8G8nnu8cH11/nTkzROPJwwxRxFPj+q\n",
       "s1ZVxipio/67PDQJxpn9kwRwnDcrvZPmtLGZOyU8p0nik6cume328FXeXEXqkD9lijmJqIVfufNV\n",
       "xiwidsptLq1JNM7sr6K7lO/y+VPegFfl8+d7xh7gCp5TEyoH+z7sxVCprUJvXPqdNw+RupZlKyym\n",
       "DY7bQtasKKLAVB6fghGLSFGupBmNTMDLOLN/iAK+AGCnN+CKDoHM2AOcuCH2nni4RsnZErsv6v+T\n",
       "t2cA3RxMNMQU6CssBptIM2znbiW3WETshpNS3JiAl3FmfwYFfC2oEec8LAKOxqwVOzVXxiTLB1KK\n",
       "fCRZNMZVk70zzBsh7FjfoxdJyjcq8LtXWkyqv/H2ZFyh1B/KcLFH4fHMnWATiUMHB0PKWkRshPYa\n",
       "57gmT+PM/mQKeCATtKWFjU0J+ZgIEf7WO+FTcczHuhtj4nNC5AL27unFY9w0FXfGeWbDUz+OcAGF\n",
       "OmRnHhGLugONs/5AJohzb8dVhQ7hAhfTYR7YRcLvNo5PgdZ7B8LYP2QRsdE9AINcUwnjBm2nBQMu\n",
       "FcQP4+9LJ6TIEVhoB3yKNWcejbox5gq56gb4tnu7QIuIY9al39ZFTZx37ES03AY4alFY9gkfHD35\n",
       "Cxm7gpkVbM+s5QwxOA12kYMA1Tn04jhA+LIWEZszITAOmJpcjRu0ghZytG+ZKXQ0oleTZirQYwe8\n",
       "UhY/tK+z4MKYtOy0C+DKAlwlhDG+u0GbLWjivGOneJDhIQXg+aSGn4WsQew8KnXAK5wjZxtivmvw\n",
       "EVhF0MIJZaE6oaIdnZSziBQfe5Qo11TCOKc6Wgjgh1Fuleds6ws36PRAK216utATbFzcOFcAPDgJ\n",
       "qQxfaJ9P116lEPctjEmFF4oBJwr6zddkYypY4Zo479gpnvMC+Bu8j3wrcR/NOcL6X8oO6gTrBrKV\n",
       "43clSEzrqshCj1XEFyMHcjmDAZdTFhErhfhdCZ5ACeP1jw1G+ruZ/QYG+Ab0Hh+siFVFwhG6KCT9\n",
       "yINFHq6iqA4XK1IrKVCKEGAsjJDY5hUDjhVoKeOSiI8JMEy5poAIuL2TTDEu7N3QdmvqW4vQDgPT\n",
       "SmNLjUPCriQDHG8dyRoN6FRMur4n64taRTbgfnw+DObYhs8Q0YZR45MWXpGg0M0m4G5cm/4NHIM+\n",
       "Zr+JAY7yArz+C1TryMRSCrgSTtkBx2kCYoECiaY+PZwFle0mCdN8wX4gWwaXiwHHCnxkp/uMMaYt\n",
       "wzE1NDkBTjoNX2SpyY89cCvAnkFpDkVvdxeNNtqu4Qw8NPIyA/wMVoJ7/AUqpi0pTHwELCL7RlpB\n",
       "2jWMgN6KHoQSFpEfsF/HeTWOpCI2AXfj6sEWuE7APkOLeT1bA504Hs1Ip9NRSdd6WooAJ1RNd5pK\n",
       "76EbsOkcmExWG7IB3tQ7PlMcw5EC+aV0+h14gI/x1xmAG5qcACedRm7nx7+zGALL1mb5e3nrgsOA\n",
       "q7bEdxZKiRBX2ljeSaC0poqCP4tzDLaPiwn4CRiADj9soR4OzQXbPpxRJ72YLwCOcgxwwiT9WXtE\n",
       "gQ5dnj1tbq0uAo4U+Enk3MzH4H0uw9TQ5AQ46ayfUN/8hRBSyBWTHC8JSZ3D/VZ9SYl18FqpW6lR\n",
       "aKrSwyl1SCf2cTEAV4eQjzco9DQpJyAccfoDhJr9DOJaD0kuVwngJhNIwH7MsgoHp+qoNADH2YVx\n",
       "wFBAD7YhYGNMwE1NlGeqxM4pqapErZieAtgBdngCbr/oDJS6aVa731zoeYNaliboQD4up+LEfhsI\n",
       "gPsi6Ay79hKyhWPiagBHwGHJ8sGM/2tYFIE9wwkMuMmgrV5n1P8tdCZxFVWOgfbEi9CttShRwcOx\n",
       "AmjT6UTZGAS4QjZSpibKU1VJsTOg7yW7NOM1SQbeV+qd16/5qviTaKXgrBoZGfIAskxN8CQ67qs1\n",
       "GWJ/Bzj9iW1/Op1wuksRz+S8cU5gghnkc+bBhLdyUk9Itu/DtS/TXeAzrsJsR2eiyY1CUAu5mAhx\n",
       "O7nj80AlXIReuxeQF8u9zmkvYwy2T+ZwU3/TfJafF09FTWbNSA58BnK8pUXCiYqLzkf7+Tz/Xbbe\n",
       "s2NNrrQbfoaapCl8u9FNAR5zY2SHlvtdSvAfXD7Kif824K/cgv9LUUtfJo6OtNsU7yvnY38DJhtK\n",
       "/J/bgBsAAAAASUVORK5CYII=\n",
       "\" style=\"display:inline;vertical-align:middle;\" /></a><br>"
      ],
      "text/plain": [
       "<IPython.core.display.HTML object>"
      ]
     },
     "metadata": {},
     "output_type": "display_data"
    }
   ],
   "source": [
    "membership_unfolding = Forall(m, Forall((x, A_1_to_m), x_in_every_A,\n",
    "                                       conditions=[InSet(x, Intersect(A_1_to_m))]),\n",
    "                             domain=NaturalPos)"
   ]
  },
  {
   "cell_type": "code",
   "execution_count": 3,
   "metadata": {},
   "outputs": [
    {
     "data": {
      "text/html": [
       "<strong id=\"membership_folding\"><a class=\"ProveItLink\" href=\"proofs/membership_folding/thm_proof.ipynb\">membership_folding</a> (conjecture without proof):<br></strong> <a class=\"ProveItLink\" href=\"../__pv_it/theorems/a351c1f6f1e6f013ce01ae98ef650c2b21d06e250/theorem_expr.ipynb\"><img src=\"data:image/png;base64,iVBORw0KGgoAAAANSUhEUgAAAroAAAAZBAMAAAAsxJBDAAAAMFBMVEX///8AAAAAAAAAAAAAAAAA\n",
       "AAAAAAAAAAAAAAAAAAAAAAAAAAAAAAAAAAAAAAAAAAAv3aB7AAAAD3RSTlMAq1RmmUTNIjK7EInv\n",
       "3XZ/CtNrAAAACXBIWXMAAA7EAAAOxAGVKw4bAAAG8klEQVRo3u1ab6gUVRQ/b3f27ezs230bQWRB\n",
       "bmj6Qaqt7Q9+sSXfU9G05QWVvYjNCNEvrhAvDP9sIpH4tCV86ArZiBKZUauQkUKuhSRIskRQSBtr\n",
       "WQ9FXg8/qNSH17333Hvnzsydt/skyaUu3Jk5Z35zzsxv7j33zNkFaKd1NX6A/9sUW7LxXXvA7o5+\n",
       "zKheXbxZ/orCePa/wO4v+qGVZruhgIuGpuhEwb/EO2E3RXczWrLbRXehTCeSG6pq1XNwtybgqjVT\n",
       "9KLgkxnshN1+Kq9sya6Rp7tiJ7L7gVZrFZD6CUX30Kp++UoC9GoL37Ezr8Wv5j0Lb9LAVG7JrknH\n",
       "+LqODAzztVoD56Ex3Rkx20etLavF6QC90syfix8usDV4eIT3LHST8/F067hLzR/pSHZrLulio8FG\n",
       "bQ+Kn58oSbboIw7Zk+uV9hZRRQXrCp7YtrFnIZxpY9HqxvWv0JFh13XXz17iB7MwnWj+IUdWF+Un\n",
       "3JxUr7Y76WYe+PCErgx2wtm3jcaZNtjtaTR+qnYiuwa5a2vsrm1s4smxBkvwJDwoV+oEG6i5SfVq\n",
       "q9PNFvDhSSxIYSfsLgLY0wa7RglidieySweRAeebS8G1Lr/CtgPwTtXFYjQ1qd7H7lrw4clAL2DP\n",
       "0vOaK9kbcLFLQGtda26g4DTX2zD4RC1qMc7Em+1Z23mWE8Dd7CCP0mCCTNnH4Qn7dnfijt9ROdiU\n",
       "0rEYpA9iV8WTZ6xhJ+zG7HjefdmGJfnwSUmHuKk98JkK+rgUJDjEnFalGO4e1WOks7DnZoTpnJZc\n",
       "D1rxKA32EEgJFqAw3CCNZUin2Dvb2TedSPsLHhZRbx2/zW6PXW5HroPj2Am7oaa6qJnnK/lQ6hgs\n",
       "9rH7gHtRO5EOEpzBf8XPrpVSHCmYSJXniPsEfse0EdX0oEgkXVnlPr01YVCwC3AWhYPyPGP3E4De\n",
       "OphjdQ+7qDfAqLfHLuId3zXsLBOYp1zSR4ZKaJ4BVR+73a5lMzLcDBCc9vxZP7tGXnGkYghX4bvJ\n",
       "XuTtxiK3aZo5MoActiraa015EzQyQOQafCQZdCIDmRAJOou97KK+Nx+93h673I6MDHXslN0j9MHm\n",
       "7zifnFvCD7jQ5uea1Xjf0r5+ld34LPJ8yQsbF+Jc6FbcuQSnNV/2s0tvdWzhhWIy48GQJT1Gl806\n",
       "d/KrxzTNyWPquirQWmtKch5rgjXSVQM2lpNyGOylnNPMadzPLteH7TbZFXhOIoTL2Cm768mF+1/M\n",
       "9KSSKZw5odKx+/xjN0pCMYx2lVfgcxhKnHAJDuci2KnsDhF9cVp3+qAXMxNgBpnN0QI6scoe06Ec\n",
       "AmTjaL01NCjSo9D1A7UIRpgV4vRh+uT0tq752RV6iLsig3WVHHxaEBuHXY4XJLIkkPYsz5bf+B16\n",
       "S0TxDLJrJMs+dln2nIk12RyMlJI1iPJMjgkDF/LewACX/ewuJ28V9proiGPW2XiiTFbOSBmdRDIe\n",
       "0/REWc0dOdpnTbTlIiTXwVrWnPkwSvtG+PDfToLwxGoIvX+1ytllN2jlFD1st1U9fE+5zokNe/8H\n",
       "wMELEiGRxy4rkPfAMI1Qj1UqlXSoZFULfnZZ68WEyjh++E/YfA4coWaNe9hdcny67WP3Xrohw4I5\n",
       "Qox5P4VtpRW4QQil0El4VaXyrmraLCNAxjaJdluTgK3i4EfXXQ2+h1/CiZI7TmoLwy0/BNyNkwgb\n",
       "ALtk9zRchE0mbMOxCwNNb77L2zDWhZtAQ9I5kVoSoWjWvIEBNpXCT2b755QUdukzm7UoOkIMJGw2\n",
       "kWM0OzTL6MSsekyTyMAAystCtMea9DhTralocrlca3Zfg9enxC4nkdWN5ivsRscJ8XMNvHuSRCZT\n",
       "2up5tHYUclaVhfErjF1HiOXhEBX5hs7W3nToIpzi9VW5qq2PF7gjxCC7Y7TIHGmSaMacYAxwTNP1\n",
       "iAGEB4H2WpMex+R70NdNd7VkN7r77cVTIVeQSEuOrOwo2I2kYCWsvUQM0pC0EkDPLiwbHLPNr+Cp\n",
       "FBy4mqfsOgLJoIbT5jcwXKSbtHESrKdfhd1WwUgr7JJHNX77kjviGMbuLva9kKMPTZ3AOjr+HNP0\n",
       "QgYQHgTaZ014lOxZ+vqqk/pGj/6lzSh7JibGp8KuIJG+TvZKfb/8HKpU8to6g1p1EgfnFCFukzt0\n",
       "PirEUT1UTYQVduWqrzii7EoKRGS1vqiMqKYPah9o0G+Ne1Q43agfac2bVdkY5f3Gfld7QXxNnUk7\n",
       "wpqJOkRkVBRHViqZ7xpVv4QX+qvQl0lqaojpa/jnMTWtuU6PFh6NW+B3lBtiNxMkhDVH3jpDXF9o\n",
       "c8oPx9opKLRA++sZtzS7/8D/GaK6wpmmuKWvtwVU4QL18O9XS5ONr/8Ghmgm89ngZh8AAAAASUVO\n",
       "RK5CYII=\n",
       "\" style=\"display:inline;vertical-align:middle;\" /></a><br>"
      ],
      "text/plain": [
       "<IPython.core.display.HTML object>"
      ]
     },
     "metadata": {},
     "output_type": "display_data"
    }
   ],
   "source": [
    "membership_folding = Forall(m, Forall((x, A_1_to_m), InSet(x, Intersect(A_1_to_m)),\n",
    "                                     conditions=[x_in_every_A]),\n",
    "                           domain=NaturalPos)"
   ]
  },
  {
   "cell_type": "code",
   "execution_count": 4,
   "metadata": {},
   "outputs": [
    {
     "data": {
      "text/html": [
       "<strong id=\"nonmembership_equiv\"><a class=\"ProveItLink\" href=\"proofs/nonmembership_equiv/thm_proof.ipynb\">nonmembership_equiv</a> (conjecture without proof):<br></strong> <a class=\"ProveItLink\" href=\"../__pv_it/theorems/b9e12847888c7622e46e91a59da86509c7357be80/theorem_expr.ipynb\"><img src=\"data:image/png;base64,iVBORw0KGgoAAAANSUhEUgAAA1MAAAAXCAMAAADZR+VJAAAASFBMVEX///8AAAAAAAAAAAAAAAAA\n",
       "AAAAAAAAAAAAAAAAAAAAAAAAAAAAAAAAAAAAAAAAAAAAAAAAAAAAAAAAAAAAAAAAAAAAAAAAAACC\n",
       "gUnDAAAAF3RSTlMAq1RmmUTNIjK7EInv3Xbp8+P355HBneB6d/sAAAAJcEhZcwAADsQAAA7EAZUr\n",
       "DhsAAAf1SURBVHja7VyJlp4qDFZBQRDa27v4/m96QVxYEhb175meM5y2MCUm5JOPBNTpuleKVop3\n",
       "X6iwpJEXqxH+goW1DpzdgeWmyO+ycnNmPDTI4PpFIsjxS801PcQNuEwCvGrDaGq8V9Nn2QOqH3VY\n",
       "1+LSBAs4gBqL7VZiL2v9ujEzbo8Jgf4cqqFCf0oN5Bmn3tH0Rhlk3IAL78GrHLprm81W+e4V9ZqE\n",
       "dR0uTbAgAyhbvGEl8VKTD82MB2NCoD9qQwV6RpiJPePUO5peKGKKG0ihI3SVA3+FoST9NFMgKLfK\n",
       "YwWRx9SfCysUWjBcmmBBB+BZ7M8m1wieVVYALy8roJFMgeTfGRMC/V4bKpzUZPPD3O8dTS8USuIG\n",
       "UhR4lfupX4GFgSvNOsFpOoNb5ZF1EpOH1VsO0rCuwaUJFnQAnkVyTtqZI3hWWQG8vKyARnKrEyD/\n",
       "zpgQ6PfaUuG4f3J4up96RdMLZUkaQOSelfrxc4Ku2lxgck3vHD88ZPGkb5VHKIXJw+rdsEVYV+Cy\n",
       "dFlcfvxUyXIODcCzqIC9RxP4uJeXFdW4cwXk2z3PIJ9A72pLBbJz99Eee+PUK5peyJmnuJFuMCdt\n",
       "/O85dNV2G3Sn13RluC4gYfrRKo+lK4g8ot6BTcK6jAsOi8OlT+cQOADP4rGK0gHGswR+xsvLCmAk\n",
       "PycT+XbPc8gn0Lt6o8KibFnkY069oumF1E9GDaF1L7i8wqcLA2FyTf1RU5tHk0xqwMNUq1W+mHqE\n",
       "8oh6h3wf1mVcUFgcLtCeAxyAZ/EIBSq1VgV+xsvLCmAkW1L5ds9zyCfQu3qjAt3YOYvnnHpD0wtH\n",
       "ZCRqGGB0rzuqwjOUMBb46/xowOarzMx5FszgVvkypwJ5TL2LaFNYW3+VV3p0WU1gcbgAIRUegGdx\n",
       "X+G1TvGsAj/jpWclNVIT9j35Zs+zyCfQu3qjwnb/6m76SSGYUyVN4kZPu7AawgYxeJHVRPaTNRNw\n",
       "VKaGYHXq2NpXc6RVvpFTmHqXzyxhXcYFhcXhAmz94AH4Ft35lBKJtTrwM156VlIjhe1pLN/seRb5\n",
       "BHpXOyrYwFJ4aMsU3fZeS3/aAjhV0CQW3txzQ3gZw4aVpn5Y51uO+tcvpWbgKrtbpZT2q+sU3kKJ\n",
       "zHlfXkjZn6e473AqGE46cdawLuOCweJwsbCoOdq9g3gEFu1CP9DUWh34GRB9K4mRUsYSybd6nkc+\n",
       "gd7Vbv4PGj9X4LqfZyM19J00XlKR5VROkxFCd3t4zw3hmFNb0w/rYgZOJy9h4WRX5fzXqjDnA3m6\n",
       "5V5vcipQD2yul7Cu5lQCi8MlPbTF8Ags2oepwWPJJvAzIPpWEiOlU5lIvtHzAvIJ9KMXpwwNsHMp\n",
       "SveYMBgJeiZ9GKcymoxJvujWnjvCce5nr7HPGER4KquQqw7n1BHRS5wK5NfRZgv8RU5Fw0nmjUqG\n",
       "ieynotwvhWWzr8DMD8JjUOHY+QzjWQF+BsTASmykDGgg3+h5AfkEelfvVJDDnkoSSsxC1HeauOdk\n",
       "16shAx9Gpi2npImHyvwdIU6dmszWkDLzx4+k3YTMLLznjvCsg4YwYbZfgk2g3baOFLlqPLbyax2n\n",
       "QnkiXuZUpD66QeZ/5rAu44LCYnEZk+USxSO0qEk/ptYqwc+AGFiJjRTnSijf5nkJ+QR6V+9UYPs2\n",
       "SZBxMYrsT7o/4/TOKZP7DWMpTh2aOs26fu6mwedClMRW9NwSPk9fXWNYuaCLO8M5E+0heRZxXMWO\n",
       "VWnen58XOJXIG1WZ3E+sE9YA5UP18Q0CTsjLuOCwGFySRzQ4HqFFET0ubQI/A2JgJTKSBROQb/K8\n",
       "iHwCvasPKuz6mNB2DHaF2PpH4nPKMEnPBU6daJFtVeB+ymZGsw2TRYftZ8846OKrcZca/LhHBQ1B\n",
       "zSI0UOIjKPr5bwFdJeZ13SLtYBsy4tS1xAh6JOKJvNEkUHnDG4o2UvlYfXyD7NVjWJdxwWExuPwa\n",
       "RbjRwPGILEaPYhvAz4IYWomM5MAE5Bs8r0A+gd7VyRldr+0hyJF6kmneyuA4JeRxAIFzyivhe1JU\n",
       "StmvZpR8iE5Dz57FrjOFiXEK51IoHjfS8s+/s9lsTNBVSNZcW9hHn8+FN8geyHZBXYNLBhbyn4xx\n",
       "wfAoWWwCHwWRqTfRe+J5jHwC/V4nVLDH1DYYsdXGGC6DOGUDyU6hCk5Z+8xP2c4cOeTU1cP2Qecz\n",
       "v12Y0IEQOg4yhel87zLzYmn6LAITbuQUM2rY597LD29Q/XuxvodNsKB4lCw+sXKBSF/92OPJmGLk\n",
       "E+j3OqYCW3dCmu2WNX8tuWST1NhWO1G0dHLa4pmQ3n7PnYLvnAJ6Onts7zqgf3zhwfq3jOAXMTOL\n",
       "G+k6mLnqCafYzDmnH4tU8Q06/Kj7FODwsAkWBI+y6H0rF4hvf+LwYEwR8gn0Rx1TYbScsSf6rNfO\n",
       "JX5kou6cv5ZTHdWj1FYHXwwB6HZ0Ieg6jRengB53cr918IWF/8TCZmj2BS3ojcrzbEVgSMncVQGU\n",
       "clplw9emy2rLx8JUfIOKLAE9bIIFwaNs8b6VC8T55Yh/f0wx8gn0R1385F1Iu58qn1/KzGf4yWjP\n",
       "3C/ukcIld91QoUa5Z3qqA7IDpuNGnByD80V3f1jRLKyLjNA3YMlarrH2WSuNgf7xmBDo91qr5Tf8\n",
       "GokxPmDTy74oxD2TWZwU1AH9n7CnmvaLff3H/WaW7/JdHu4L23tIk5rv8l2+VPkfslRewhUmfJcA\n",
       "AAAASUVORK5CYII=\n",
       "\" style=\"display:inline;vertical-align:middle;\" /></a><br>"
      ],
      "text/plain": [
       "<IPython.core.display.HTML object>"
      ]
     },
     "metadata": {},
     "output_type": "display_data"
    }
   ],
   "source": [
    "nonmembership_equiv = Forall(m, Forall((x, A_1_to_m), \n",
    "                                      Equals(NotInSet(x, Intersect(A_1_to_m)), \n",
    "                                             x_notin_some_A)),\n",
    "                           domain=NaturalPos)"
   ]
  },
  {
   "cell_type": "code",
   "execution_count": 5,
   "metadata": {},
   "outputs": [
    {
     "data": {
      "text/html": [
       "<strong id=\"nonmembership_folding\"><a class=\"ProveItLink\" href=\"proofs/nonmembership_folding/thm_proof.ipynb\">nonmembership_folding</a> (conjecture without proof):<br></strong> <a class=\"ProveItLink\" href=\"../__pv_it/theorems/5ec7cef15a80f229eabcc94e74d09c5d5c0dfd930/theorem_expr.ipynb\"><img src=\"data:image/png;base64,iVBORw0KGgoAAAANSUhEUgAAAroAAAAZCAMAAADpNH1CAAAAS1BMVEX///8AAAAAAAAAAAAAAAAA\n",
       "AAAAAAAAAAAAAAAAAAAAAAAAAAAAAAAAAAAAAAAAAAAAAAAAAAAAAAAAAAAAAAAAAAAAAAAAAAAA\n",
       "AADXrLZzAAAAGHRSTlMAq1RmmUTNIjK7EInv3XbP4duh6fPj951y2Qx9AAAACXBIWXMAAA7EAAAO\n",
       "xAGVKw4bAAAG7klEQVR42u1ci5acKBDlKQhKkn1k/f8vXUBUXgUyY89udpuTDJ3meq3Ca1GUThB6\n",
       "ruF1XQV6t3d7dTNWaeRJwuk9p/9YEyOj4pd177Kc0rd0/xthqB2DJgWCxeBVEy++ynV+btLeSxef\n",
       "w4Q+IN0H6d7tdiO6OSwxDJ62wYu8vdYVgN/QtHfSZfw8SDwg3Qfp3u1uU51IeF2UAkw2QIoUT3Ny\n",
       "3MfwUIPgIP+xcBy9le55R4r5iYThQbp3u9tYZ4FbYTDDWy3EyNUIpCRLM40P4IFlAIQD/FaqLOvp\n",
       "JWNNnpDug3TvdrctrSx4Xn//Y50AsBZ6kxVpHVdRZOIaxQPKBeEAv7dbJb2T7rFV+3z6PcU7v/ee\n",
       "7esyXXiu+WQUwhICC4PMVokx1xHUoE/ggQbCIX4vKJr0XmfL6tqiH6owPEb3bnfzhTDXyhispI7W\n",
       "Ox/V0uSWxReGueSStjIMydAn8N0EJoND/D4g46T30mX+HpjVQ9J9jO7d7s47PS+8wQaxSxl+q5xG\n",
       "tilSBrcil5tuaUvExYlRfF+6KRzk91qdkt5L1x9+65TXHdCQbo9OfWBkDJzeyaSS9lMJ8NSWuw5B\n",
       "ymDGVFfhBqnBE4QHS9Ry0c3mB7S++0jA50SJDd/W1ih+VLogv5+qJen3xNRFSN2ua4iVOQRdcEUc\n",
       "qXQ7dGqRwyOD4KS2QXkTkfOUnnUIcgY2otwa99xxsjzBsrM4LEuSA+mStz9/2h9zDt53cIzZHf0+\n",
       "pujU01aMV1pjrJ6VbmJPubfbkn6XLjHwrkoaPM/WW4KRtpYy1Zdui86KGkrDGyOD4Nh3hSseffvO\n",
       "IR6uI/fwDYKcwRMkDHXlVbnb1PEJKtL1H5OgrOay1HOB1Y7d1v3MZu1oK8E7N67M5BHpJvwVv5ek\n",
       "D+WACdwYMhbue2IR7MwUmtJt0NkTy8WMjoyCY+kWZW/n0RUuSh63vIYHgbuM2wQlg1+fY4Zs3Wtw\n",
       "96ijE9RzAO6KokolGlkhcLiI67EQ96Sb4Dfu1nb5pHQze4qJW5M+SFeTMB2UUXv7YWTo7K06H7sh\n",
       "IgkXxklX26i+2r8clO5Jh4xhwv5JUrUJcA4eGQXP5SydhjiPomBX8vggNZ+ZT4+gZNijXMRQtS7i\n",
       "vk8dnyBmNHuI5Qgv6UbEGMRZDexkfhSbtnvSTfFUPS3djD9Tov1mTvogXRFSWEX5Yr9x/zL4WHAO\n",
       "6dqEgfBbUfegQ0YgPKOJJJsMNgFihEaGwZF0w8scpyHeI8MbPIQdodE72yGoMHiCiKEadiPuAer4\n",
       "BEXZiGxSsWXfpl+XhGBZrzGJI7jN4fFVR7oF3lI1Ega1TdmH6FNNuil/rsSoqhf64/lB8E8o49jd\n",
       "zeQBnMbStYI18x3pniVn6m9yGa/z1hRvo8gC0jnCiek+Cr9oetLlc2qI92humbMfMR+BsU1QMzsc\n",
       "MYMVwoy7S114n+9jpJeCYjbGEkaTmKzwT65q4Hnb9szGfdC5dKNtLEMA3jIpEG/lWXy4PpXwnD9X\n",
       "ojuaJ33x0iM2bl96pER0mn0ju3SVPtTZkW7U0ifSTNuN6WZNlGRVqDqyuNuzW4MP4K50CU4NcR59\n",
       "++E9AsyRc5iYPWS2CWpmy3NB4/UaYsndpi62icUWfIWrLfQvPa9r/CAYApN1rK4nXlu6T5Xoalwo\n",
       "6QvpumqMC61ic3FA6iTqutDSr+um07zErwf7o0OGtJblUD8igsXtdCGAKSOUMk60BKR7XuZgiPPo\n",
       "3AhVzQnL8RRCZpOgavaxnk/gY5mcu0OdO1kkDOcrKXf2dCB4ULrC0ogXvhyYKvF6a+joc+mKLejd\n",
       "5sIsWfH2CqRpJuG5dG36oicfopWOEvG94hO0UhlBrhi3D9R+xGDinFt49gpqsU27DLEenRuhmjl+\n",
       "Z+P9xbpLUDP7JDgZcvMz7j517qQpyw6zAEMjugsek66YpZTsdXE3V+LhyOlQLl3ups49PRTYqN3A\n",
       "I0PaX78dki5ihmvjiORiLwHzuzfFtolfWqmM7PU4PyAXkf7IwdY+94ieEUi6+3U6DbEe/RZcqppz\n",
       "XdgjXMEEVbMjZUyHh4kPBXefOnOyIj0FvWFae3+vChZ62vTAo8Blc+11QTdX4uH06Xz3F3yUdrnu\n",
       "zTeIWwWCYgqvFTqfbRUedpIbNOv+0v+KKCDdIt9U36seHeYU1/UuwWG2GnhPOeeGbEucrCsPUF01\n",
       "1AiDfrVmRNp/4e+mZdtcJM0SAkI+Mtmbea0N1L5zC6wrJ2EjAOkiJqqPBCBzWBHSbhFcZrOR/C8D\n",
       "16kzJ9n7t0++VLp0fIQO0UAJgw+HSRxq5me1lwo+TdBoKTe+kTsOnuAt3XvS/Zf8PwyZDarxryLC\n",
       "9b/8AMFdvBo94P/azLou9G8Hp0j2AlUQ4gAAAABJRU5ErkJggg==\n",
       "\" style=\"display:inline;vertical-align:middle;\" /></a><br>"
      ],
      "text/plain": [
       "<IPython.core.display.HTML object>"
      ]
     },
     "metadata": {},
     "output_type": "display_data"
    }
   ],
   "source": [
    "nonmembership_folding = Forall(m, Forall((x, A_1_to_m), \n",
    "                                        NotInSet(x, Intersect(A_1_to_m)), \n",
    "                                        conditions=[x_notin_some_A]),\n",
    "                              domain=NaturalPos)"
   ]
  },
  {
   "cell_type": "code",
   "execution_count": 6,
   "metadata": {},
   "outputs": [
    {
     "name": "stdout",
     "output_type": "stream",
     "text": [
      "These theorems may now be imported from the theory package: proveit.logic.sets.intersection\n"
     ]
    }
   ],
   "source": [
    "%end theorems"
   ]
  },
  {
   "cell_type": "code",
   "execution_count": null,
   "metadata": {},
   "outputs": [],
   "source": []
  }
 ],
 "metadata": {
  "kernelspec": {
   "display_name": "Python 3",
   "language": "python",
   "name": "python3"
  }
 },
 "nbformat": 4,
 "nbformat_minor": 0
}