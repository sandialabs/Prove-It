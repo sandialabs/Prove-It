{
 "cells": [
  {
   "cell_type": "markdown",
   "metadata": {},
   "source": [
    "Proof of <a class=\"ProveItLink\" href=\"../../../../../../_theory_nbs_/theory.ipynb\">proveit</a>.<a class=\"ProveItLink\" href=\"../../../../../_theory_nbs_/theory.ipynb\">logic</a>.<a class=\"ProveItLink\" href=\"../../../../_theory_nbs_/theory.ipynb\">sets</a>.<a class=\"ProveItLink\" href=\"../../theory.ipynb\">intersection</a>.<a class=\"ProveItLink\" href=\"../../theorems.ipynb#nonmembership_equiv\">nonmembership_equiv</a> theorem\n",
    "========\n",
    "*** see <a href=\"../__pv_it/017557b03e19e86b76498fc09b1f9642a6828b810/dependencies.ipynb\" class=\"ProveItLink\">dependencies</a> ***"
   ]
  },
  {
   "cell_type": "code",
   "execution_count": 1,
   "metadata": {},
   "outputs": [
    {
     "data": {
      "text/html": [
       "With these <a href=\"allowed_presumptions.txt\">allowed</a>/<a href=\"disallowed_presumptions.txt\">disallowed</a> theorem/theory presumptions (e.g., to avoid circular dependencies), we begin our proof of<br><strong id=\"nonmembership_equiv\">nonmembership_equiv:</strong> <a class=\"ProveItLink\" href=\"../../../__pv_it/theorems/bfd13dd2fc40ad244527474f9a67c4298fe541370/expr.ipynb\"><img src=\"data:image/png;base64,iVBORw0KGgoAAAANSUhEUgAAA1MAAAAXCAMAAADZR+VJAAAASFBMVEX///8AAAAAAAAAAAAAAAAA\n",
       "AAAAAAAAAAAAAAAAAAAAAAAAAAAAAAAAAAAAAAAAAAAAAAAAAAAAAAAAAAAAAAAAAAAAAAAAAACC\n",
       "gUnDAAAAF3RSTlMAq1RmmUTNIjK7EInv3Xbp8+P355HBneB6d/sAAAAJcEhZcwAADsQAAA7EAZUr\n",
       "DhsAAAf1SURBVHja7VyJlp4qDFZBQRDa27v4/m96QVxYEhb175meM5y2MCUm5JOPBNTpuleKVop3\n",
       "X6iwpJEXqxH+goW1DpzdgeWmyO+ycnNmPDTI4PpFIsjxS801PcQNuEwCvGrDaGq8V9Nn2QOqH3VY\n",
       "1+LSBAs4gBqL7VZiL2v9ujEzbo8Jgf4cqqFCf0oN5Bmn3tH0Rhlk3IAL78GrHLprm81W+e4V9ZqE\n",
       "dR0uTbAgAyhbvGEl8VKTD82MB2NCoD9qQwV6RpiJPePUO5peKGKKG0ihI3SVA3+FoST9NFMgKLfK\n",
       "YwWRx9SfCysUWjBcmmBBB+BZ7M8m1wieVVYALy8roJFMgeTfGRMC/V4bKpzUZPPD3O8dTS8USuIG\n",
       "UhR4lfupX4GFgSvNOsFpOoNb5ZF1EpOH1VsO0rCuwaUJFnQAnkVyTtqZI3hWWQG8vKyARnKrEyD/\n",
       "zpgQ6PfaUuG4f3J4up96RdMLZUkaQOSelfrxc4Ku2lxgck3vHD88ZPGkb5VHKIXJw+rdsEVYV+Cy\n",
       "dFlcfvxUyXIODcCzqIC9RxP4uJeXFdW4cwXk2z3PIJ9A72pLBbJz99Eee+PUK5peyJmnuJFuMCdt\n",
       "/O85dNV2G3Sn13RluC4gYfrRKo+lK4g8ot6BTcK6jAsOi8OlT+cQOADP4rGK0gHGswR+xsvLCmAk\n",
       "PycT+XbPc8gn0Lt6o8KibFnkY069oumF1E9GDaF1L7i8wqcLA2FyTf1RU5tHk0xqwMNUq1W+mHqE\n",
       "8oh6h3wf1mVcUFgcLtCeAxyAZ/EIBSq1VgV+xsvLCmAkW1L5ds9zyCfQu3qjAt3YOYvnnHpD0wtH\n",
       "ZCRqGGB0rzuqwjOUMBb46/xowOarzMx5FszgVvkypwJ5TL2LaFNYW3+VV3p0WU1gcbgAIRUegGdx\n",
       "X+G1TvGsAj/jpWclNVIT9j35Zs+zyCfQu3qjwnb/6m76SSGYUyVN4kZPu7AawgYxeJHVRPaTNRNw\n",
       "VKaGYHXq2NpXc6RVvpFTmHqXzyxhXcYFhcXhAmz94AH4Ft35lBKJtTrwM156VlIjhe1pLN/seRb5\n",
       "BHpXOyrYwFJ4aMsU3fZeS3/aAjhV0CQW3txzQ3gZw4aVpn5Y51uO+tcvpWbgKrtbpZT2q+sU3kKJ\n",
       "zHlfXkjZn6e473AqGE46cdawLuOCweJwsbCoOdq9g3gEFu1CP9DUWh34GRB9K4mRUsYSybd6nkc+\n",
       "gd7Vbv4PGj9X4LqfZyM19J00XlKR5VROkxFCd3t4zw3hmFNb0w/rYgZOJy9h4WRX5fzXqjDnA3m6\n",
       "5V5vcipQD2yul7Cu5lQCi8MlPbTF8Ags2oepwWPJJvAzIPpWEiOlU5lIvtHzAvIJ9KMXpwwNsHMp\n",
       "SveYMBgJeiZ9GKcymoxJvujWnjvCce5nr7HPGER4KquQqw7n1BHRS5wK5NfRZgv8RU5Fw0nmjUqG\n",
       "ieynotwvhWWzr8DMD8JjUOHY+QzjWQF+BsTASmykDGgg3+h5AfkEelfvVJDDnkoSSsxC1HeauOdk\n",
       "16shAx9Gpi2npImHyvwdIU6dmszWkDLzx4+k3YTMLLznjvCsg4YwYbZfgk2g3baOFLlqPLbyax2n\n",
       "QnkiXuZUpD66QeZ/5rAu44LCYnEZk+USxSO0qEk/ptYqwc+AGFiJjRTnSijf5nkJ+QR6V+9UYPs2\n",
       "SZBxMYrsT7o/4/TOKZP7DWMpTh2aOs26fu6mwedClMRW9NwSPk9fXWNYuaCLO8M5E+0heRZxXMWO\n",
       "VWnen58XOJXIG1WZ3E+sE9YA5UP18Q0CTsjLuOCwGFySRzQ4HqFFET0ubQI/A2JgJTKSBROQb/K8\n",
       "iHwCvasPKuz6mNB2DHaF2PpH4nPKMEnPBU6daJFtVeB+ymZGsw2TRYftZ8846OKrcZca/LhHBQ1B\n",
       "zSI0UOIjKPr5bwFdJeZ13SLtYBsy4tS1xAh6JOKJvNEkUHnDG4o2UvlYfXyD7NVjWJdxwWExuPwa\n",
       "RbjRwPGILEaPYhvAz4IYWomM5MAE5Bs8r0A+gd7VyRldr+0hyJF6kmneyuA4JeRxAIFzyivhe1JU\n",
       "StmvZpR8iE5Dz57FrjOFiXEK51IoHjfS8s+/s9lsTNBVSNZcW9hHn8+FN8geyHZBXYNLBhbyn4xx\n",
       "wfAoWWwCHwWRqTfRe+J5jHwC/V4nVLDH1DYYsdXGGC6DOGUDyU6hCk5Z+8xP2c4cOeTU1cP2Qecz\n",
       "v12Y0IEQOg4yhel87zLzYmn6LAITbuQUM2rY597LD29Q/XuxvodNsKB4lCw+sXKBSF/92OPJmGLk\n",
       "E+j3OqYCW3dCmu2WNX8tuWST1NhWO1G0dHLa4pmQ3n7PnYLvnAJ6Onts7zqgf3zhwfq3jOAXMTOL\n",
       "G+k6mLnqCafYzDmnH4tU8Q06/Kj7FODwsAkWBI+y6H0rF4hvf+LwYEwR8gn0Rx1TYbScsSf6rNfO\n",
       "JX5kou6cv5ZTHdWj1FYHXwwB6HZ0Ieg6jRengB53cr918IWF/8TCZmj2BS3ojcrzbEVgSMncVQGU\n",
       "clplw9emy2rLx8JUfIOKLAE9bIIFwaNs8b6VC8T55Yh/f0wx8gn0R1385F1Iu58qn1/KzGf4yWjP\n",
       "3C/ukcIld91QoUa5Z3qqA7IDpuNGnByD80V3f1jRLKyLjNA3YMlarrH2WSuNgf7xmBDo91qr5Tf8\n",
       "GokxPmDTy74oxD2TWZwU1AH9n7CnmvaLff3H/WaW7/JdHu4L23tIk5rv8l2+VPkfslRewhUmfJcA\n",
       "AAAASUVORK5CYII=\n",
       "\" style=\"display:inline;vertical-align:middle;\" /></a><br>(see <a class=\"ProveItLink\" href=\"../../../__pv_it/theorems/b9e12847888c7622e46e91a59da86509c7357be80/dependencies.ipynb\">dependencies</a>)<br>"
      ],
      "text/plain": [
       "<IPython.core.display.HTML object>"
      ]
     },
     "metadata": {},
     "output_type": "display_data"
    },
    {
     "name": "stdout",
     "output_type": "stream",
     "text": [
      "nonmembership_equiv may now be readily provable (assuming required theorems are usable).  Simply execute \"%qed\".\n"
     ]
    }
   ],
   "source": [
    "import proveit\n",
    "%proving nonmembership_equiv"
   ]
  },
  {
   "cell_type": "code",
   "execution_count": null,
   "metadata": {},
   "outputs": [],
   "source": []
  }
 ],
 "metadata": {
  "kernelspec": {
   "display_name": "Python 3",
   "language": "python",
   "name": "python3"
  }
 },
 "nbformat": 4,
 "nbformat_minor": 0
}