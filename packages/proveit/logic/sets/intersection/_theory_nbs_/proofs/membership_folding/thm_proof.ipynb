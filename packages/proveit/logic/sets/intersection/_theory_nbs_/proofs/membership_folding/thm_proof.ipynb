{
 "cells": [
  {
   "cell_type": "markdown",
   "metadata": {},
   "source": [
    "Proof of <a class=\"ProveItLink\" href=\"../../../../../../_theory_nbs_/theory.ipynb\">proveit</a>.<a class=\"ProveItLink\" href=\"../../../../../_theory_nbs_/theory.ipynb\">logic</a>.<a class=\"ProveItLink\" href=\"../../../../_theory_nbs_/theory.ipynb\">sets</a>.<a class=\"ProveItLink\" href=\"../../theory.ipynb\">intersection</a>.<a class=\"ProveItLink\" href=\"../../theorems.ipynb#membership_folding\">membership_folding</a> theorem\n",
    "========\n",
    "*** see <a href=\"../__pv_it/cb139a3405b1d5851337d8322a9fde40e93b3eee0/dependencies.ipynb\" class=\"ProveItLink\">dependencies</a> ***"
   ]
  },
  {
   "cell_type": "code",
   "execution_count": 1,
   "metadata": {},
   "outputs": [
    {
     "data": {
      "text/html": [
       "With these <a href=\"allowed_presumptions.txt\">allowed</a>/<a href=\"disallowed_presumptions.txt\">disallowed</a> theorem/theory presumptions (e.g., to avoid circular dependencies), we begin our proof of<br><strong id=\"membership_folding\">membership_folding:</strong> <a class=\"ProveItLink\" href=\"../../../__pv_it/theorems/03b629fec0f3e5f4a50ad72ecd57f2de3c0dbd1a0/expr.ipynb\"><img src=\"data:image/png;base64,iVBORw0KGgoAAAANSUhEUgAAAqgAAAAZBAMAAAAPn8GWAAAAMFBMVEX///8AAAAAAAAAAAAAAAAA\n",
       "AAAAAAAAAAAAAAAAAAAAAAAAAAAAAAAAAAAAAAAAAAAv3aB7AAAAD3RSTlMAq1RmmUTNIjK7EInv\n",
       "3XZ/CtNrAAAACXBIWXMAAA7EAAAOxAGVKw4bAAAG9ElEQVRo3u1ZbYhUVRh+986dj72zc3ciiOyH\n",
       "TmhBbOaQq+UfG3V1RdOm9UeZElMS0gY5QhiWureISFx1CCVHSG8o0mbY6A9LhRwTUYpkkD6hibup\n",
       "iSLbVrBuSWzn4368994zO3cla4rOjzvnPO97n3Pvc88573vOAAQpTdWv4f8SrKjVc8EcI//Gt4uK\n",
       "4fzN7I6RT/0Pi/qDeCCl2M+aGjetGaOSObsaNsjlSS5qkv5MrC9qIL9GKlJJCLfxn1U17lo1tk4i\n",
       "g079PP1kaSbqXNpeWV/UQH6NVPYJUYUPLWnEgUK3bcvaX6IGjgvGpyBRIzq5dDNRX6GDuFBf1EB+\n",
       "jVTmCFE5zX8m2Etr7Pv8u/N0y1wDR8WFz7qGxM6QSzsTleobT9UXNZBfI5WyayV9u/oVq7Tw9ofH\n",
       "Ncv0OnmxaDeMjqOC8fjLw8jyKeXXqaihdIA4RBwC+TXSkppDjfDz1tC6m8cX4yd7fNxOLzNhVBwX\n",
       "jG9Qf0GWFVSpNIv+n1ernwWJ/kH8GqjIJE4pA3dsOsRiuj2NF3IjTElbSIVeXoNRcVwwnpF+RZaD\n",
       "dOwmmajzAXYGETWIXwMVOmRk6DcWuQPsCnbtgq0ll0irYVTcJyrHw6nYdWSZThfWHBN1NUSTwseK\n",
       "u0X1+uE1XBG/mBvO8GnpSb5NGgNEVpNA9c1tMYnDA5Ag8/gBeEi/lTacpeCc+Sg9SZF4tfAaosoQ\n",
       "/RlZ7qVPVmaiNutxT+awfmE2dILe4hLV46ecQY33NaGobpinDtM8up+xJp7IahFkPMQ1SAA9dAt5\n",
       "WA3m8YBNlq7qt6x6in2kbR0TyNPsyXlE4rhy7BY9mKiXO2b9hixbaVeDTFTJwPEn1l/MSsmjsMAn\n",
       "qtsP4niJPi5OC9wwE1VJoo4QTbjksm4Ztx0TLPOIWIPE5jFFBTjL/Z1UkIl6AKC1ArGBikckjssg\n",
       "VwKJqpBp8QeyLKf985EKORziOsjYkGbKUPKJ6vaDx8+i4NpriDT1wOzN5CzqCNN0Y6s8300QceeL\n",
       "NUksHnP6Q/gavGcL4Ux/MvAT5OUlr6gcb81GhwOJSgX6DlkmA+ekoh4izxGas6VfnaHxbZb06mNG\n",
       "Kd6xqGOuS1TqBwOdF/h6ZjyFssCIcFX2wEzUhMmhmlHWpjlkWtULGzrZjg8TeBLkmiQWD12tDFC2\n",
       "N5WBjdwB27yLSp3m+0uvqCYe0gOKuoRva9sfHEie30HqM2igKnBR15En37M83ZJUk9DHwoB29C7B\n",
       "SKV+an5cJMVjxzzHbMg5kageuGAeWDCOPisEWTSTTOulpsLT1nS1CaSM99RDTGLx8NxGGt5bDrOn\n",
       "jaRw2rOOan7NL6qFQ9w1/ZUhcvkgZ1YcPEq3F7vzyrSTcAL6zXSNZnJU1CYyh176EVo1Aizhospq\n",
       "wS8q9QvBrhifcXAVYC2flWFNLUPXBe9GmcFeUZeaHEvAQ7PUtKabDS2c9vCG3ftjEQmy8eW2Aspi\n",
       "Y9L9fFEd94QJbwboG+kGafdQyRSVUe8FhMNmHePwBZ0cGbNi48ruIR3uGXkueiAHw0zQL6lfFh39\n",
       "jYdeugxNLxaLKUlTSjm/qLyYm92FxybosclcVPnYwd+hrAx6028Ke0W90+RgHWGajZa1NQ+hZ4vF\n",
       "NzFvzC2qgMS2bbQq37g+8BFzm5pACYlUqXGeN7Z8vMmIlelaHaV06/F56hm4DD0x2MRHKnQZvjzV\n",
       "HADlqJk59miQ0M3ckCxC+VjZO/sp3D6xvesjJOpGk2MTeGgmWdZeQlXy8Hqmv4AkNHvq3DYNTX92\n",
       "tCE4YsrUF/UFeHEsorZoaiE6qPGzmjlI1OggGaszZJKM0o6zoCbFh9Tr4jkZ9rM1ujVF1VBKbH0n\n",
       "OU1zljb22xcO31doyba5AxXjYB05NDSWkHsSZKE6TILwTitucF5QDYeYuflIpMtwip2g2jGpWXzE\n",
       "/1ZdUaM73lgwFlF7yFgNFTKw1jrHs0QNJ8lWbvUVQkjXnZXmmbRfVPnix1egNyWfAOWRZ6gasU/g\n",
       "4STsHcrSbSxp9OZjp+nFgpu1fTAbiUpelXGwjhwa+rLkHmJdvGxAh7V0zDm8FO9NceLT3M1HskPJ\n",
       "ySksmiI+p+xzxDt8XZgJtoyMDI5F1Echko+O11nP7Ev6/k7ZXyxm6/6dYsVSqoZkRVvdcBpOLQFt\n",
       "UEk7otrJOeqI0lAJJNuqHClux7x9qFPkhkkqUikRckm5QTwOjZt02KBSPS8B3OB/VGEzLMSukqTQ\n",
       "CqurRipOw6m9AxdhfB5tUzv9p76URs6ze/xWxtvpdFrDTUmq2aZLnOefLjckagg30uJG2k9SMEee\n",
       "sIdp/B6xlSzyqNOaboJTgYYW9a/43z/vP93ynzPp9U+7apOMZvjbilo9+SdWyTQQbzQ+1QAAAABJ\n",
       "RU5ErkJggg==\n",
       "\" style=\"display:inline;vertical-align:middle;\" /></a><br>(see <a class=\"ProveItLink\" href=\"../../../__pv_it/theorems/a351c1f6f1e6f013ce01ae98ef650c2b21d06e250/dependencies.ipynb\">dependencies</a>)<br>"
      ],
      "text/plain": [
       "<IPython.core.display.HTML object>"
      ]
     },
     "metadata": {},
     "output_type": "display_data"
    },
    {
     "name": "stdout",
     "output_type": "stream",
     "text": [
      "membership_folding may now be readily provable (assuming required theorems are usable).  Simply execute \"%qed\".\n"
     ]
    }
   ],
   "source": [
    "import proveit\n",
    "%proving membership_folding"
   ]
  },
  {
   "cell_type": "code",
   "execution_count": null,
   "metadata": {},
   "outputs": [],
   "source": []
  }
 ],
 "metadata": {
  "kernelspec": {
   "display_name": "Python 3",
   "language": "python",
   "name": "python3"
  }
 },
 "nbformat": 4,
 "nbformat_minor": 0
}