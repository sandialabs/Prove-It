{
 "cells": [
  {
   "cell_type": "markdown",
   "metadata": {},
   "source": [
    "Proof of <a class=\"ProveItLink\" href=\"../../../../../../_theory_nbs_/theory.ipynb\">proveit</a>.<a class=\"ProveItLink\" href=\"../../../../../_theory_nbs_/theory.ipynb\">logic</a>.<a class=\"ProveItLink\" href=\"../../../../_theory_nbs_/theory.ipynb\">sets</a>.<a class=\"ProveItLink\" href=\"../../theory.ipynb\">intersection</a>.<a class=\"ProveItLink\" href=\"../../theorems.ipynb#membership_unfolding\">membership_unfolding</a> theorem\n",
    "========\n",
    "*** see <a href=\"../__pv_it/da98d65b02a111e5db3da601a6a74d714cb6cd920/dependencies.ipynb\" class=\"ProveItLink\">dependencies</a> ***"
   ]
  },
  {
   "cell_type": "code",
   "execution_count": 1,
   "metadata": {},
   "outputs": [
    {
     "data": {
      "text/html": [
       "With these <a href=\"allowed_presumptions.txt\">allowed</a>/<a href=\"disallowed_presumptions.txt\">disallowed</a> theorem/theory presumptions (e.g., to avoid circular dependencies), we begin our proof of<br><strong id=\"membership_unfolding\">membership_unfolding:</strong> <a class=\"ProveItLink\" href=\"../../../__pv_it/theorems/60e7cdc63e38288d2864b41329640b03255070960/expr.ipynb\"><img src=\"data:image/png;base64,iVBORw0KGgoAAAANSUhEUgAAAt8AAAAZBAMAAAAbCl93AAAAMFBMVEX///8AAAAAAAAAAAAAAAAA\n",
       "AAAAAAAAAAAAAAAAAAAAAAAAAAAAAAAAAAAAAAAAAAAv3aB7AAAAD3RSTlMAq1RmmUTNIjK7EInv\n",
       "3XZ/CtNrAAAACXBIWXMAAA7EAAAOxAGVKw4bAAAHqUlEQVRo3u1afWwURRR/3d3r3u31rmeMUYmW\n",
       "MyCJKYVTCtp/8IDyEQp4lkRRiFaIIdYYjoRoKtCu/CVS4DQ29EiUIxIiIlhI/KKJHBoigUguRgwh\n",
       "XHK1KCmBWjEpiDF1Pndn93Zvr0hiMb5k5ubtzHtv9rdv3puZFqAMuj+fhP/pFtCVfLSscS1j+B1U\n",
       "XCXLGeTxxEbJUU2gjDFknBy77QH/CZWwm9+obOa+gpOYI73Kfp8bzQRKGmf2yRwQ4BH8YIIX4BX4\n",
       "R4qNPbylHlTVuvVWDrFGv5OYI61hv+HYKCZQ2jiz308Bn4v51V6AKwmsYQxG8r2oaK4rcCp/58oM\n",
       "/T0siDnjN8JbrWAVsVEw6qHJNM7s44IAfwM7f8oLcD9eCG1jMKLMQUVxdcZZ11hDjpMf7UdBzJGU\n",
       "8dyr6sEqYqMDLR6aTOPMPikxgnsw6hnDW92/9b9KWVSqLE8G8nnu8cH11/nTkzROPJwwxRxFPj+q\n",
       "s1ZVxipio/67PDQJxpn9kwRwnDcrvZPmtLGZOyU8p0nik6cume328FXeXEXqkD9lijmJqIVfufNV\n",
       "xiwidsptLq1JNM7sr6K7lO/y+VPegFfl8+d7xh7gCp5TEyoH+z7sxVCprUJvXPqdNw+RupZlKyym\n",
       "DY7bQtasKKLAVB6fghGLSFGupBmNTMDLOLN/iAK+AGCnN+CKDoHM2AOcuCH2nni4RsnZErsv6v+T\n",
       "t2cA3RxMNMQU6CssBptIM2znbiW3WETshpNS3JiAl3FmfwYFfC2oEec8LAKOxqwVOzVXxiTLB1KK\n",
       "fCRZNMZVk70zzBsh7FjfoxdJyjcq8LtXWkyqv/H2ZFyh1B/KcLFH4fHMnWATiUMHB0PKWkRshPYa\n",
       "57gmT+PM/mQKeCATtKWFjU0J+ZgIEf7WO+FTcczHuhtj4nNC5AL27unFY9w0FXfGeWbDUz+OcAGF\n",
       "OmRnHhGLugONs/5AJohzb8dVhQ7hAhfTYR7YRcLvNo5PgdZ7B8LYP2QRsdE9AINcUwnjBm2nBQMu\n",
       "FcQP4+9LJ6TIEVhoB3yKNWcejbox5gq56gb4tnu7QIuIY9al39ZFTZx37ES03AY4alFY9gkfHD35\n",
       "Cxm7gpkVbM+s5QwxOA12kYMA1Tn04jhA+LIWEZszITAOmJpcjRu0ghZytG+ZKXQ0oleTZirQYwe8\n",
       "UhY/tK+z4MKYtOy0C+DKAlwlhDG+u0GbLWjivGOneJDhIQXg+aSGn4WsQew8KnXAK5wjZxtivmvw\n",
       "EVhF0MIJZaE6oaIdnZSziBQfe5Qo11TCOKc6Wgjgh1Fuleds6ws36PRAK216utATbFzcOFcAPDgJ\n",
       "qQxfaJ9P116lEPctjEmFF4oBJwr6zddkYypY4Zo479gpnvMC+Bu8j3wrcR/NOcL6X8oO6gTrBrKV\n",
       "43clSEzrqshCj1XEFyMHcjmDAZdTFhErhfhdCZ5ACeP1jw1G+ruZ/QYG+Ab0Hh+siFVFwhG6KCT9\n",
       "yINFHq6iqA4XK1IrKVCKEGAsjJDY5hUDjhVoKeOSiI8JMEy5poAIuL2TTDEu7N3QdmvqW4vQDgPT\n",
       "SmNLjUPCriQDHG8dyRoN6FRMur4n64taRTbgfnw+DObYhs8Q0YZR45MWXpGg0M0m4G5cm/4NHIM+\n",
       "Zr+JAY7yArz+C1TryMRSCrgSTtkBx2kCYoECiaY+PZwFle0mCdN8wX4gWwaXiwHHCnxkp/uMMaYt\n",
       "wzE1NDkBTjoNX2SpyY89cCvAnkFpDkVvdxeNNtqu4Qw8NPIyA/wMVoJ7/AUqpi0pTHwELCL7RlpB\n",
       "2jWMgN6KHoQSFpEfsF/HeTWOpCI2AXfj6sEWuE7APkOLeT1bA504Hs1Ip9NRSdd6WooAJ1RNd5pK\n",
       "76EbsOkcmExWG7IB3tQ7PlMcw5EC+aV0+h14gI/x1xmAG5qcACedRm7nx7+zGALL1mb5e3nrgsOA\n",
       "q7bEdxZKiRBX2ljeSaC0poqCP4tzDLaPiwn4CRiADj9soR4OzQXbPpxRJ72YLwCOcgxwwiT9WXtE\n",
       "gQ5dnj1tbq0uAo4U+Enk3MzH4H0uw9TQ5AQ46ayfUN/8hRBSyBWTHC8JSZ3D/VZ9SYl18FqpW6lR\n",
       "aKrSwyl1SCf2cTEAV4eQjzco9DQpJyAccfoDhJr9DOJaD0kuVwngJhNIwH7MsgoHp+qoNADH2YVx\n",
       "wFBAD7YhYGNMwE1NlGeqxM4pqapErZieAtgBdngCbr/oDJS6aVa731zoeYNaliboQD4up+LEfhsI\n",
       "gPsi6Ay79hKyhWPiagBHwGHJ8sGM/2tYFIE9wwkMuMmgrV5n1P8tdCZxFVWOgfbEi9CttShRwcOx\n",
       "AmjT6UTZGAS4QjZSpibKU1VJsTOg7yW7NOM1SQbeV+qd16/5qviTaKXgrBoZGfIAskxN8CQ67qs1\n",
       "GWJ/Bzj9iW1/Op1wuksRz+S8cU5gghnkc+bBhLdyUk9Itu/DtS/TXeAzrsJsR2eiyY1CUAu5mAhx\n",
       "O7nj80AlXIReuxeQF8u9zmkvYwy2T+ZwU3/TfJafF09FTWbNSA58BnK8pUXCiYqLzkf7+Tz/Xbbe\n",
       "s2NNrrQbfoaapCl8u9FNAR5zY2SHlvtdSvAfXD7Kif824K/cgv9LUUtfJo6OtNsU7yvnY38DJhtK\n",
       "/J/bgBsAAAAASUVORK5CYII=\n",
       "\" style=\"display:inline;vertical-align:middle;\" /></a><br>(see <a class=\"ProveItLink\" href=\"../../../__pv_it/theorems/2797aa6c15f3c2d17485de596879893ece0eb8bb0/dependencies.ipynb\">dependencies</a>)<br>"
      ],
      "text/plain": [
       "<IPython.core.display.HTML object>"
      ]
     },
     "metadata": {},
     "output_type": "display_data"
    }
   ],
   "source": [
    "import proveit\n",
    "%proving membership_unfolding"
   ]
  },
  {
   "cell_type": "code",
   "execution_count": null,
   "metadata": {},
   "outputs": [],
   "source": []
  }
 ],
 "metadata": {
  "kernelspec": {
   "display_name": "Python 3",
   "language": "python",
   "name": "python3"
  }
 },
 "nbformat": 4,
 "nbformat_minor": 0
}