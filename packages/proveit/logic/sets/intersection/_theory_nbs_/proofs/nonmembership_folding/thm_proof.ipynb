{
 "cells": [
  {
   "cell_type": "markdown",
   "metadata": {},
   "source": [
    "Proof of <a class=\"ProveItLink\" href=\"../../../../../../_theory_nbs_/theory.ipynb\">proveit</a>.<a class=\"ProveItLink\" href=\"../../../../../_theory_nbs_/theory.ipynb\">logic</a>.<a class=\"ProveItLink\" href=\"../../../../_theory_nbs_/theory.ipynb\">sets</a>.<a class=\"ProveItLink\" href=\"../../theory.ipynb\">intersection</a>.<a class=\"ProveItLink\" href=\"../../theorems.ipynb#nonmembership_folding\">nonmembership_folding</a> theorem\n",
    "========\n",
    "*** see <a href=\"../__pv_it/285d62d054ff693628af052fb7e55b5cbf2c04f40/dependencies.ipynb\" class=\"ProveItLink\">dependencies</a> ***"
   ]
  },
  {
   "cell_type": "code",
   "execution_count": 1,
   "metadata": {},
   "outputs": [
    {
     "data": {
      "text/html": [
       "With these <a href=\"allowed_presumptions.txt\">allowed</a>/<a href=\"disallowed_presumptions.txt\">disallowed</a> theorem/theory presumptions (e.g., to avoid circular dependencies), we begin our proof of<br><strong id=\"nonmembership_folding\">nonmembership_folding:</strong> <a class=\"ProveItLink\" href=\"../../../__pv_it/theorems/6b3e08eaae3c8e7fbc436d84305b56cc2828042e0/expr.ipynb\"><img src=\"data:image/png;base64,iVBORw0KGgoAAAANSUhEUgAAAroAAAAZCAMAAADpNH1CAAAAS1BMVEX///8AAAAAAAAAAAAAAAAA\n",
       "AAAAAAAAAAAAAAAAAAAAAAAAAAAAAAAAAAAAAAAAAAAAAAAAAAAAAAAAAAAAAAAAAAAAAAAAAAAA\n",
       "AADXrLZzAAAAGHRSTlMAq1RmmUTNIjK7EInv3XbP4duh6fPj951y2Qx9AAAACXBIWXMAAA7EAAAO\n",
       "xAGVKw4bAAAG7klEQVR42u1ci5acKBDlKQhKkn1k/f8vXUBUXgUyY89udpuTDJ3meq3Ca1GUThB6\n",
       "ruF1XQV6t3d7dTNWaeRJwuk9p/9YEyOj4pd177Kc0rd0/xthqB2DJgWCxeBVEy++ynV+btLeSxef\n",
       "w4Q+IN0H6d7tdiO6OSwxDJ62wYu8vdYVgN/QtHfSZfw8SDwg3Qfp3u1uU51IeF2UAkw2QIoUT3Ny\n",
       "3MfwUIPgIP+xcBy9le55R4r5iYThQbp3u9tYZ4FbYTDDWy3EyNUIpCRLM40P4IFlAIQD/FaqLOvp\n",
       "JWNNnpDug3TvdrctrSx4Xn//Y50AsBZ6kxVpHVdRZOIaxQPKBeEAv7dbJb2T7rFV+3z6PcU7v/ee\n",
       "7esyXXiu+WQUwhICC4PMVokx1xHUoE/ggQbCIX4vKJr0XmfL6tqiH6owPEb3bnfzhTDXyhispI7W\n",
       "Ox/V0uSWxReGueSStjIMydAn8N0EJoND/D4g46T30mX+HpjVQ9J9jO7d7s47PS+8wQaxSxl+q5xG\n",
       "tilSBrcil5tuaUvExYlRfF+6KRzk91qdkt5L1x9+65TXHdCQbo9OfWBkDJzeyaSS9lMJ8NSWuw5B\n",
       "ymDGVFfhBqnBE4QHS9Ry0c3mB7S++0jA50SJDd/W1ih+VLogv5+qJen3xNRFSN2ua4iVOQRdcEUc\n",
       "qXQ7dGqRwyOD4KS2QXkTkfOUnnUIcgY2otwa99xxsjzBsrM4LEuSA+mStz9/2h9zDt53cIzZHf0+\n",
       "pujU01aMV1pjrJ6VbmJPubfbkn6XLjHwrkoaPM/WW4KRtpYy1Zdui86KGkrDGyOD4Nh3hSseffvO\n",
       "IR6uI/fwDYKcwRMkDHXlVbnb1PEJKtL1H5OgrOay1HOB1Y7d1v3MZu1oK8E7N67M5BHpJvwVv5ek\n",
       "D+WACdwYMhbue2IR7MwUmtJt0NkTy8WMjoyCY+kWZW/n0RUuSh63vIYHgbuM2wQlg1+fY4Zs3Wtw\n",
       "96ijE9RzAO6KokolGlkhcLiI67EQ96Sb4Dfu1nb5pHQze4qJW5M+SFeTMB2UUXv7YWTo7K06H7sh\n",
       "IgkXxklX26i+2r8clO5Jh4xhwv5JUrUJcA4eGQXP5SydhjiPomBX8vggNZ+ZT4+gZNijXMRQtS7i\n",
       "vk8dnyBmNHuI5Qgv6UbEGMRZDexkfhSbtnvSTfFUPS3djD9Tov1mTvogXRFSWEX5Yr9x/zL4WHAO\n",
       "6dqEgfBbUfegQ0YgPKOJJJsMNgFihEaGwZF0w8scpyHeI8MbPIQdodE72yGoMHiCiKEadiPuAer4\n",
       "BEXZiGxSsWXfpl+XhGBZrzGJI7jN4fFVR7oF3lI1Ega1TdmH6FNNuil/rsSoqhf64/lB8E8o49jd\n",
       "zeQBnMbStYI18x3pniVn6m9yGa/z1hRvo8gC0jnCiek+Cr9oetLlc2qI92humbMfMR+BsU1QMzsc\n",
       "MYMVwoy7S114n+9jpJeCYjbGEkaTmKzwT65q4Hnb9szGfdC5dKNtLEMA3jIpEG/lWXy4PpXwnD9X\n",
       "ojuaJ33x0iM2bl96pER0mn0ju3SVPtTZkW7U0ifSTNuN6WZNlGRVqDqyuNuzW4MP4K50CU4NcR59\n",
       "++E9AsyRc5iYPWS2CWpmy3NB4/UaYsndpi62icUWfIWrLfQvPa9r/CAYApN1rK4nXlu6T5Xoalwo\n",
       "6QvpumqMC61ic3FA6iTqutDSr+um07zErwf7o0OGtJblUD8igsXtdCGAKSOUMk60BKR7XuZgiPPo\n",
       "3AhVzQnL8RRCZpOgavaxnk/gY5mcu0OdO1kkDOcrKXf2dCB4ULrC0ogXvhyYKvF6a+joc+mKLejd\n",
       "5sIsWfH2CqRpJuG5dG36oicfopWOEvG94hO0UhlBrhi3D9R+xGDinFt49gpqsU27DLEenRuhmjl+\n",
       "Z+P9xbpLUDP7JDgZcvMz7j517qQpyw6zAEMjugsek66YpZTsdXE3V+LhyOlQLl3ups49PRTYqN3A\n",
       "I0PaX78dki5ihmvjiORiLwHzuzfFtolfWqmM7PU4PyAXkf7IwdY+94ieEUi6+3U6DbEe/RZcqppz\n",
       "XdgjXMEEVbMjZUyHh4kPBXefOnOyIj0FvWFae3+vChZ62vTAo8Blc+11QTdX4uH06Xz3F3yUdrnu\n",
       "zTeIWwWCYgqvFTqfbRUedpIbNOv+0v+KKCDdIt9U36seHeYU1/UuwWG2GnhPOeeGbEucrCsPUF01\n",
       "1AiDfrVmRNp/4e+mZdtcJM0SAkI+Mtmbea0N1L5zC6wrJ2EjAOkiJqqPBCBzWBHSbhFcZrOR/C8D\n",
       "16kzJ9n7t0++VLp0fIQO0UAJgw+HSRxq5me1lwo+TdBoKTe+kTsOnuAt3XvS/Zf8PwyZDarxryLC\n",
       "9b/8AMFdvBo94P/azLou9G8Hp0j2AlUQ4gAAAABJRU5ErkJggg==\n",
       "\" style=\"display:inline;vertical-align:middle;\" /></a><br>(see <a class=\"ProveItLink\" href=\"../../../__pv_it/theorems/5ec7cef15a80f229eabcc94e74d09c5d5c0dfd930/dependencies.ipynb\">dependencies</a>)<br>"
      ],
      "text/plain": [
       "<IPython.core.display.HTML object>"
      ]
     },
     "metadata": {},
     "output_type": "display_data"
    },
    {
     "name": "stdout",
     "output_type": "stream",
     "text": [
      "nonmembership_folding may now be readily provable (assuming required theorems are usable).  Simply execute \"%qed\".\n"
     ]
    }
   ],
   "source": [
    "import proveit\n",
    "%proving nonmembership_folding"
   ]
  },
  {
   "cell_type": "code",
   "execution_count": null,
   "metadata": {},
   "outputs": [],
   "source": []
  }
 ],
 "metadata": {
  "kernelspec": {
   "display_name": "Python 3",
   "language": "python",
   "name": "python3"
  }
 },
 "nbformat": 4,
 "nbformat_minor": 0
}