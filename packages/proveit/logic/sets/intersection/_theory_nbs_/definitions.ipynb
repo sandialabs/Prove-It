{
 "cells": [
  {
   "cell_type": "markdown",
   "metadata": {},
   "source": [
    "Conservative definitions for the theory of <a class=\"ProveItLink\" href=\"theory.ipynb\">proveit.logic.sets.intersection</a>\n",
    "========"
   ]
  },
  {
   "cell_type": "code",
   "execution_count": null,
   "metadata": {},
   "outputs": [],
   "source": [
    "import proveit\n",
    "# Prepare this notebook for defining the conservative definitions of a theory:\n",
    "%definitions_notebook # Keep this at the top following 'import proveit'.\n",
    "\n",
    "from proveit.logic import Forall, Exists, And, Equals, InSet, Intersect, IntersectAll\n",
    "from proveit import m, n, x, Q, R\n",
    "from proveit.core_expr_types import y_1_to_n, A_1_to_m, Q__y_1_to_n, R__y_1_to_n, S_1_to_n\n",
    "from proveit.logic.sets import x_in_every_A, general_intersectall_Ryn\n",
    "from proveit.numbers import NaturalPos"
   ]
  },
  {
   "cell_type": "code",
   "execution_count": null,
   "metadata": {},
   "outputs": [],
   "source": [
    "%begin defining_properties"
   ]
  },
  {
   "cell_type": "markdown",
   "metadata": {},
   "source": [
    "**Membership in the intersection of sets is the same as having membership in *all* of the sets being intersected:**"
   ]
  },
  {
   "cell_type": "code",
   "execution_count": null,
   "metadata": {},
   "outputs": [],
   "source": [
    "intersection_def = Forall(m, Forall((x, A_1_to_m), \n",
    "                                   Equals(InSet(x, Intersect(A_1_to_m)),\n",
    "                                          x_in_every_A).with_wrap_after_operator()), \n",
    "                         domain=NaturalPos)"
   ]
  },
  {
   "cell_type": "markdown",
   "metadata": {},
   "source": [
    "**We can intersect over all instances of sets under some criteria, but there must be at least one set (we cannot allow a universal set -- we cannot allow a set to contain itself or we will be subject to Russel's paradox):**"
   ]
  },
  {
   "cell_type": "code",
   "execution_count": null,
   "metadata": {},
   "outputs": [],
   "source": [
    "intersect_all_def = Forall(n, \n",
    "                           Forall((S_1_to_n, Q, R, x), \n",
    "                                  Equals(InSet(x, general_intersectall_Ryn),\n",
    "                                         Forall(y_1_to_n, InSet(x, R__y_1_to_n), \n",
    "                                                domains=[S_1_to_n], conditions=[Q__y_1_to_n]))\n",
    "                                  .with_wrap_before_operator(),\n",
    "                                  condition=Exists(y_1_to_n, Q__y_1_to_n,domains=[S_1_to_n])),\n",
    "                          domain=NaturalPos)"
   ]
  },
  {
   "cell_type": "code",
   "execution_count": null,
   "metadata": {},
   "outputs": [],
   "source": [
    "%end defining_properties"
   ]
  }
 ],
 "metadata": {
  "kernelspec": {
   "display_name": "Python 3 (ipykernel)",
   "language": "python",
   "name": "python3"
  }
 },
 "nbformat": 4,
 "nbformat_minor": 0
}
