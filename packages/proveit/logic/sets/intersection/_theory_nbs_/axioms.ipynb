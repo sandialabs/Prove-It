{
 "cells": [
  {
   "cell_type": "markdown",
   "metadata": {},
   "source": [
    "Axioms for the theory of <a class=\"ProveItLink\" href=\"theory.ipynb\">proveit.logic.sets.intersection</a>\n",
    "========"
   ]
  },
  {
   "cell_type": "code",
   "execution_count": 1,
   "metadata": {},
   "outputs": [
    {
     "name": "stdout",
     "output_type": "stream",
     "text": [
      "Defining axioms for theory 'proveit.logic.sets.intersection'\n",
      "Subsequent end-of-cell assignments will define axioms\n",
      "%end_axioms will finalize the definitions\n"
     ]
    }
   ],
   "source": [
    "import proveit\n",
    "# Prepare this notebook for defining the axioms of a theory:\n",
    "%axioms_notebook # Keep this at the top following 'import proveit'.\n",
    "from proveit.logic import Forall, Exists, And, Equals, InSet, Intersect, IntersectAll\n",
    "from proveit import m, n, x, Q, R\n",
    "from proveit.core_expr_types import y_1_to_n, A_1_to_m, Q__y_1_to_n, R__y_1_to_n, S_1_to_n\n",
    "from proveit.logic.sets import x_in_every_A, general_intersectall_Ryn\n",
    "from proveit.numbers import NaturalPos\n",
    "%begin axioms"
   ]
  },
  {
   "cell_type": "markdown",
   "metadata": {},
   "source": [
    "**Membership in the intersection of sets is the same as having membership in *all* of the sets being intersected:**"
   ]
  },
  {
   "cell_type": "code",
   "execution_count": 2,
   "metadata": {},
   "outputs": [
    {
     "data": {
      "text/html": [
       "<strong id=\"intersection_def\">intersection_def:</strong> <a class=\"ProveItLink\" href=\"../__pv_it/axioms/7305f28b13fecaa5bdf55e080cd08364a93869780/axiom_expr.ipynb\"><img src=\"data:image/png;base64,iVBORw0KGgoAAAANSUhEUgAAAoUAAAAzBAMAAAATC2+mAAAAMFBMVEX///8AAAAAAAAAAAAAAAAA\n",
       "AAAAAAAAAAAAAAAAAAAAAAAAAAAAAAAAAAAAAAAAAAAv3aB7AAAAD3RSTlMAq1RmmUTNIjK7EInv\n",
       "3XZ/CtNrAAAACXBIWXMAAA7EAAAOxAGVKw4bAAAJp0lEQVR42u1bfYzcRhV/5/Wuvd6ssxICtVWV\n",
       "nkSphMIpVwiBQ6jZ5qMgkrRLkAqCiGyLUESQyOafSqEf2aIIAb0k9wdVc0hJjYiq3oUmm/xHo7Yb\n",
       "UNVARVlSWhXEga8pRBeVIxDIhSA4PF/2zHjsne1usHTqk96e590bj/3zfLx5PxtAS6anp+FdUYgz\n",
       "Pe1puv5x8R8Da7bYXArgTRHoiouLE5o1Xhtg6+9ZEh3Q/h09yGWA4VBLLDeUXtb1undrUCcfyRDD\n",
       "NWLRHVZ6vUluuJ4ARL1H4CL/vE+0bylVMsPQekksr1R6GaSzFi6pT5JkTxLe/zzVvuXVzDAsi33A\n",
       "Ufeop8ifVdy95973/Ro7TrLzcvvXNoLKv+AR7Vs+5GWF4SfFojmq9FpP/ty5EM3hf2g8fRe79SQ7\n",
       "J/svOPt2QtwfclWifUuhmhWGL4vFZeLkeHjmdXzQJlPOg1fDf307wMmioCTZ+WUTmR7w4v4Av6Da\n",
       "r+QXMsLQvSaWbxOu6hv0pg0ywh9x/x7+7wb0cwek2vnVHwWhOT/uD/AVqn3LfRlhWK6I5U2BHp99\n",
       "+jRenVm/AZMsKVXjcujYQT/7INXOt4M7YzXuD3CSat+yyssGw4PSJgV1iKq7wsRQ7AinGjxL5oft\n",
       "f4tY7YY0ewxDqxL3J8EVDrDMGSyVd3ovJ/xsMLxZKp8LLqKRuzaEQQvX6DLuliZYfwtW7jUyVsR+\n",
       "7ORNmhgS/2g9pdr/prWTDYZnpPKLwYgDk4Bn/zLoFb/FKw2OVuY23PkvgAN/kTEk9ips0cSQ+EdD\n",
       "gWrfklvIBEP7chzDADIy9zvh1WAMncD6n3BTFWFF7f+EvU0tDNl5mGyj2n/O5nImGLoL8bEMsL3h\n",
       "eCFO4Vg2A/29AkNq/4QuhtR/9cfnK+cP0fONDGI+JIPq/45hsS0ZjgBM1W6GEi7Mh26oY34u0F0K\n",
       "DJkdntMby8Tf+ejPgnueDY7HqPYvhzPBcJncYBBkrPreZthKluNhbj9vIbifbMQwDO0k+xTaTwST\n",
       "qnMF6E+EIfW3jtfhKg6lmPYvL1AM8aN6vwaGeo7dwgF5k7Uf4Oi8sZ6A59z4RTptdsB58ooHH1z8\n",
       "OsMQg38UOPsej7dDGZ36N0B/ivh8Vc5/yLfbeOp4bWB9Ym2NYLhRCMxSMNRz7BYeylmnshAv5n9C\n",
       "93pvKBJ1cgKoajV6GgJNd8K61AQr6LlWZzDBrk8wfBRdzoQGhnqO3UJ7OVuYsPtf3R3DPd/Z11P2\n",
       "ZW/QE3MTVZzlSMh0vKNRFWCI0kClYQ0M9Ry79f6mbHlCvfZEXezBXc8rXX61uNhT05+FQsNa4cEe\n",
       "hP9gZvflFYJhLngkBZ01Rc+xi/w1Nvym1KHXBFwveSLxwfWO4QRdl4PNwcta67KWY7eVLDb8LF/p\n",
       "+Mj1gtBtEB1IlFGnGH4a4AdKj5KEoezIw+GoG4khdo8HS0jKHYrhbratlMWUMJQcnbNc4cdN5Yg8\n",
       "K1tugSWFYZtiWPRKEh/x8KZa7kwcQ8mxxOc1X1AuNoLLUsbQ8PmVwp6drBmVZ+EzcQxFR/jCK1xc\n",
       "N66c1XiXJT2Woc5n0jcEg9K4w4RWacOWDRvFvR52nP/UW2RG9u/jJuqCcjrgXWh/jc/mDUji6bmF\n",
       "R8PSq4NwATo+jeQ1BU7tDA7WH5h1x5rgouDT+Nbn/Va8H2JHt3Ej2dW6cBcHFs0ASksg70Jjm9i8\n",
       "iTh6NynsZNx6nFR/E3qukrRQd2scyZepShhWGIYPBUc/2ja6rOJWSLRmNJ/9gApD5JiDIzYZp/A2\n",
       "27JCvum2YetbMs2LXbrF2CshiacHjluXSXWj1XOVJOneOAJ6lKgUH1YZhogC++afYXnTbOE8UYCh\n",
       "6U4oMMRcGdAM4KbTt3j2CMHQPH3yGrQd+eUD5CLv9WScEUefwNMDx60zUp1tlJ4C7SqnEhxPRRfQ\n",
       "5UxIdlIV93otIfe1AsZR5nPN5OTksNF0WvV4fEgXnbZFxilKgZbJdfpgXYWG3ZaHcuCSW/eRjSuj\n",
       "zndQfpbpu9eQW2fb6mfoHa8H3SrO62o/ZtdonG3gVyflHKichTnYa8NjpB/CVj8hf/hQqW7CMZzY\n",
       "XD6MMHRakA8uI4hiijVUOEZ+mIsxBy9yA2+5nGJYBok8vcCtU1L9/HvJX/Fxzc3M1JOquLfX1NMg\n",
       "tes0jtw8ovEMSoihdSnoiWNmEAMiaw3cSgKG5p+evwjjw+YZcO75KsLQ/ilsrsDRKzW0jwkK4w37\n",
       "peAndDnk1M1o1i7LI+c2SOLpQeDWKane+S6ZDoXT3HsRkquUbfXWm9l1GgfC1hZGVbv/EMN8BXbA\n",
       "7otgIcJh/w6acVWNZSwMFDSWDfbcPD8qRC4do1XOhdahtjxnQhJPDwK3fpIuJQUcYSAO35m/6TE8\n",
       "pwlvisSqrEzIeTK7TuNAMuulimrHEOcCjk1O1hJyDtzjok3Zbwc3QVPPsGuxExVCF6fi1oYuROlC\n",
       "6VWR8MWNOE8vcuuEZC40jCrrFSbM+luIMa3KDrhViSGz6zSOLrxOVJCfqzFMydtwJ+QLo8pCTn0e\n",
       "W979nYMknl7k6Amp/igAJlEQ7/cxWOvh15ILIFch9D2uYlfYwiddCLOnNx4FU22iQgD53z4w7EMU\n",
       "HH0CTy9y9IRUv4Fyf4h/brIIfhwRnBN8FULfH6TxmKuKtkN7euMR5peICl0pG44eNqsxVPD0Ike/\n",
       "jcVyzzAMAV6JZXEF+n4bDSQdFXkS2rs0Hg7tNlHhOWT0rsj2mnIsK3h6kaMfYRE2XuQxh59fAPzR\n",
       "TBnkKoS+H2GR9LqECHsddG08JPaNDlFhm+Jng2FZChCPQBJPL3L0YwwtvIst+uA8HqzxOPDkxqpA\n",
       "348xVB5QXEdoT208IvYRUjJaa71sMJQXZvoyoIKnFzl6TKrjBNMhEmkYV4+288T3fpCrYPoeVcFv\n",
       "ceKPikIK/0RdsKc2HhH7KJoypU36ryEbDOV3ifdDAk8vcfT4AvDLcgeAcPh3+7d+mJzjh497UhWc\n",
       "C0FVhtCB7QNH4eODyJ7eeEjsl2tE+Skyq3eJ6QCIxnYzkadngjCUSfU3hNKXDs8IoRum7zV5+PTG\n",
       "GbEPDwNRToqVrDAsiANC4y39EUVmYHVqDUzfa/Lw6Y0zYh8nOaREx3YvKwxt6RufrnQv5uhlUr2Y\n",
       "mnzG9L0uD5/aOCP20Qse8kse5yArDGFOLE5BEk+fdqMaHL4uDz+l44SemfTcMvzWTP7m0fITeXou\n",
       "JRXrdl05fG0evmvjSC5Q5bNF0COGrw7wG/D7YSmITbJFzvRxXQzf/QY8tlkkKwr6Bvx/WQZH0cuB\n",
       "EIkAAAAASUVORK5CYII=\n",
       "\" style=\"display:inline;vertical-align:middle;\" /></a><br>"
      ],
      "text/plain": [
       "<IPython.core.display.HTML object>"
      ]
     },
     "metadata": {},
     "output_type": "display_data"
    }
   ],
   "source": [
    "intersection_def = Forall(m, Forall((x, A_1_to_m), \n",
    "                                   Equals(InSet(x, Intersect(A_1_to_m)),\n",
    "                                          x_in_every_A).with_wrap_after_operator()), \n",
    "                         domain=NaturalPos)"
   ]
  },
  {
   "cell_type": "markdown",
   "metadata": {},
   "source": [
    "**We can intersect over all instances of sets under some criteria, but there must be at least one set (we cannot allow a universal set -- we cannot allow a set to contain itself or we will be subject to Russel's paradox):**"
   ]
  },
  {
   "cell_type": "code",
   "execution_count": 3,
   "metadata": {},
   "outputs": [
    {
     "data": {
      "text/html": [
       "<strong id=\"intersect_all_def\">intersect_all_def:</strong> <a class=\"ProveItLink\" href=\"../__pv_it/axioms/0c64da33edde9a400d6a6ef1d3ebab242f99e1230/axiom_expr.ipynb\"><img src=\"data:image/png;base64,iVBORw0KGgoAAAANSUhEUgAABOkAAABABAMAAAC90z50AAAAMFBMVEX///8AAAAAAAAAAAAAAAAA\n",
       "AAAAAAAAAAAAAAAAAAAAAAAAAAAAAAAAAAAAAAAAAAAv3aB7AAAAD3RSTlMAq1RmmUTNIjK7EInv\n",
       "3XZ/CtNrAAAACXBIWXMAAA7EAAAOxAGVKw4bAAATD0lEQVR42u2dfZAcxXXA337d7M7e7V0qdhxM\n",
       "rFoKJSjBQhtHomLKRkt0QqTA0RkixyDiW4c/bFOFtSlSxNiC22A7FYIiLbGxfaSCRjhxQglLC9jY\n",
       "gK2chV0QHKIrDC5Mcs7KKAYsfDos5JNOgUu/1z39MTM7M3crIe4074/V9L433buzv+l+/ebdE0Ai\n",
       "85A/CHozPTtbSS7N+tkZgK843XaTm5197TS/ktm2pz0QSN1AwhzKEwD553zvuiBump0tx6HuyIYP\n",
       "nubX8aee9vmQUBdKHfyu791Sk//72Q3DsaibOt0vY27abOefSKiLoK7gJ+sf3IPehLo4cq/HXetp\n",
       "JdRFUGf7b8x7ywl1c5GLPe0VTkJdBHVwkf/yPJFQNwfJH/W88V+QUBdF3Ujd9/7TCXVzkB4PTfmZ\n",
       "hLpI6gp+L2RFPaEuvqzw3Lap5qKmrj7/Uy1FXWbMf/c2E+riy4887f5KGHXv3/fvCzpWXCrP/9xc\n",
       "W1Jn/cJ/fY4m1MV367zXb1s9hLodry25+Jf1hcfa9mNnjBIN53bTzfOSOunFafLdhLrYkvJ+/9UQ\n",
       "Qt1/s4nuT6cX3rfsb4L1CoY8al25wI6k7mK/dn1CXWzZXfW88Wsh1GUJuImF9y23scVxO5ujs125\n",
       "B5mqpO6QXztcSaiLK6sbnje+41mc/nHih5I6fmFH2gvuWx5i33ITo663+/0rp25Fw6fsrSXUxZXt\n",
       "3jeOm5fn4442113GF+XxBfctNzEH9hj797e66+YaSd02P1t8IUioiyPHvG8cxpdd+//1Ebp6Nzj6\n",
       "CvthvtBMLcRveRP6pZcy1+5ABXYoza41YIfFhAzz+yR1u/1LdfpwQl3caMBxzxs8JlAtLcnSjPYR\n",
       "w6/jO7f0zIL7lscm77tETFbF9Ji+Y2q9M/wuMszPl9T1+70M2q4k1MWR7JGgSEqmnplJ0d1cWxTU\n",
       "Fadhx5148BTALex2OkN93fL7OsbFSQzzdyrqAlIk/iOhLm4wwEtQDjHMQ5bjln9yYmLiRwueup4x\n",
       "4a9+D8DpbcN/wpfF7WSz4972zvve3ulUbu5uhRV11QAX2Umoiyf940FzHbt2fAWxm4tirusfAPsV\n",
       "QR0MO/mj+Un3e+dmYFujCu/reC6au8dXh1J3qJxQF09GmsHUDddtunPHO1B3TqcOhb8TpVdyTucP\n",
       "J2yNHzgd/8mIGmq4AulXxQoLF0NpDNLuF2OT+stwBEYanXohcyHLw/w6WFFNqIsnK7z3rIU7sXuG\n",
       "fgOK1JwMpi4z5LuOe55/kX5Fvs316TdOXthQeiV+S2nq2oobo7TnACNu1Rx8Vnm03oHi68A6vYs1\n",
       "bofCAFFno4od3w4XIHWOf/8KwjyzZusBPH63oi4g3LytmVAXTw5571n7dWTxby+Dy7lHVA6kbod+\n",
       "ytYz7gA4D/J0JXPkZuv6/P7RIUi3ySly9UqMnkxT15ZTl/sIWI+FRzm8P607lLXPgczruTIPfVxE\n",
       "Ux+jbjf6dtmBHN5n3wb7lyDewhfVQvMvX13prfPAi6BuJICt3eOCOvqMZ0dRF221aGW97+rhQ+x/\n",
       "mkyv4Qr7jKuCqFurTykUkxgTlxGuxRddP4gTVy9ACpReiW7pNRW2Tbm6/SFkh+bw5dyhHnnkAbZS\n",
       "4rP7v0PO96yvE3V9+Kde9pkHpvlffU2wya4Pp356wa9KBmj+yZ9CP06Fz0jqtgV8jv4pQd1aM+bU\n",
       "gbpoq0Ur233+zMc81+ch7YmYpI79Zh8aEJhRJgYGl7nHdb9wB119qSJWJJ6exvVKxiG336XMayps\n",
       "iToLXfrV0KcNbByqDyy78w6FHNHXfRC4X/c7PKzCZrQbGVNp/xLLDZj5EtpIWOOSuqA0/74ZQd1f\n",
       "oW0zirpoq0Urm3zO+WUdLHXqrBrY7Zn8mLbNPXRMeDpL8WJq+ns4ULOfA6XX3Mga7Op3tvCG11TY\n",
       "0gApXO2+BTeojkE/VKK68wxFXmSVQWbvFdS1CKl7y2BVrbpwZA1pgTB/HAbzIneAU/ftoPjMtKAO\n",
       "c1OK5Sjqoq0Wrezz3bOrnWjqck2w7h4vNa072QXktNlLXwFswpV4UYX+8gNDcAU//e71A7nz1gq9\n",
       "dvmb8Mnl8BJvKFOhvVJR14uIfJi9IwcGNYYuqjvPUCRfhL52qsWps9Gn/TGcyaa6v/mMA7v8uwlm\n",
       "QObWFDy7jJmBpO72gCtUOCKoy7BL0hO5m4i2WrQy6/eJy9HU4XGqlWrfwhyfzMdGR/8et3vDgE24\n",
       "VdiifsyegvNHR0fLbIOYm+qF3UJv9nomW8BIlKnQ3qpRx36j/DScpQYGNYYhsjvPUGI6TV/I2Lce\n",
       "PN6GErnzCO2+2dmAmA4ZkHluAA5WEFlJ3eGAK5T6hbuHfXJi4vvRe9hIq9OIukI1mro8A6FvqLcB\n",
       "7MfP007xcpoJnhPLmquvswXwNrrKbBVrWrDFt+yh5TPweGbtu1g3ypS39RW2UM05fRUEyR0Y1BiG\n",
       "yO4CVliw2vO/VqW6pC43HUod21/dGU1dpNVpRF3AH6JI6n6VkzKOu4W+xjDHjK7cRQBv481J2AlS\n",
       "XxiCgkPxCUix3+wOobdb7gtaPpubSr+EB8qUt0W0kO8mHrvgxWsAdxPuwOx8dwyjR9mdFmw8gfKE\n",
       "uwPxxwcPu9T9OVhBEZ6WSV0Hq/lJ9tTwM6+gve2nzj7SmTrNPYL0mi9wzG7EfeElg4/UefOLsKUs\n",
       "9ex2tr6E1+Qzl36DvTaEPv8YbKnjC1kufXcNfp1tK3RTavMlTURO/mLJrzh1KNTlwPm9cgyjR9md\n",
       "OP1kUBcYClbUFZyi7mxaT38d3jOgP2Qh6oSVDIqrULspmgHAwcl13Gd99WtnGksUvT40OvrsG8Rb\n",
       "F0F7+//82gdjULcR4F/gcxwz+6HRO8Tbz/EtbdnVFx0G+M7RUfETPFxy9a6gpV0vVGC8tMrRTakt\n",
       "tsdudOGPmXefa6mB02oMrUfVnd08adS9HKQpvu5Sl273GDH0s4pO1vFRx61UUFyF2s0LrxnAB+qw\n",
       "maaX0jj0VH3UMXnxjYGui6B9IHW9jWjqsnVYkqvB1u8b9zw2mSbnuPpNs3pyQQ/WbON694OgZar9\n",
       "Afbp0w8YEy61s3WDupF3sBPXqYGvkmPoParusvWTRt3ecOqgdqERQz+7XcW4jIc6bqUFxVWo3fg9\n",
       "NAPcemd5JKkKhdoppK6LoH0gdZlaNHXwMFxxMNCMTbmZGHoxFFrmLmx1+Jhi+nap68FHA0VHdlyR\n",
       "Y+g9qu5WwcmirlSLoO5+doX5w1uKoS/7zZuL8LXBpweHDOrQSg+Kq1C7LroBJilk3EcgV+P0UDpw\n",
       "87pTQF13QfvZgB6viUGd3enjOPH0MXqStvXwDiD2UCeMus2Bs6jy62Azu1j08Jav8suKd28MmOvQ\n",
       "Sg+Kq1C74UBpBvgHfEXa7o08f4BsX0g1/0xR99tvlF/XXdA+iLqv1qOpO32FUWc/BRHUpdg0RA9v\n",
       "eQx9GVRfCqAuRb4MBsVv5HcIhtq9UW89ag4Y3+OFad4L99CcXim0G565LudxkbYe/AnRy8fw1AjN\n",
       "T+4hL+lnninK62aJTtxeugvaB1FnXRtIXVKXGERd4kLwhVDxOi748JbH0JfBzp4A6sSMnJvKL3fE\n",
       "tD8Mvqi3FjWHR8EtzvAWSPN3++tev+7TvhDl2+iAhs97PvvNFNLyRV4+DR06EV+iu6D9vqDL94mE\n",
       "rlD5Z4hFHT685TH0ZZA7zx+v40cYFIc+oo5C7d6otx41h8+zLdQPgO9n+EoLW7gHolGnbd1XDlYh\n",
       "XQE+/Vxh2DEHcXAQU61yfBiTRn37b3QiHlt2F7T/nzDn5x0T9QSxTuGqCd8yWzhqUMcf3t4p9jX7\n",
       "TZQkdTx+zqizWyLU7ol6q6g5a26+ftdfV/DAmoHU+J/YLWvsQT77KOqsFqT38DeLtE6OviDuCnz5\n",
       "lFTCN+m8u8RvbDhQWh+eTsTeoLug/fZGyJWtJXCFyO953+ibNqjjD28xhp7/YV0FP7zUUVCcUZff\n",
       "K0Ltnqi3ipozC+ui/W+38OCl407+42128EcbJx0zSsympfTSPPmK13NCzm+Q40gmZ5MSEzEsPrtd\n",
       "/1HuShrBTbcPMpCd6Et5V0H79UOLkbqoKdrqImQg+/dR1ztlrrB8g6Bi6IHUCWAdDHrzqcUT9eb/\n",
       "UNgbLXLVXdJUO9BWzgw75a2lCvqKVw6yxfEvId8mx5Ei1+8iJSZi5D7PVlirDlu5K2n82KIPWhpl\n",
       "J3yhlPHvLoL2hyqLkLrIInU/mX/fVMTuQ4HU9Y8FUNehF5O6/Mv3Y9CbxBv15uxS2BstrFeek6ba\n",
       "gUZdnn3C8UIDSd7JOSvREo4mDmMMlZiIYbc4Xi9wV7LJlBbeUBbb1Yg+aGmUnYiH5TJ2OP+g/epW\n",
       "KHULM7c/uEidKmKXbnXROYZ9KenZR93I+HypI9Hu/0zAkWtx3ZBmWgmgDn+0ydU0f9Ltt2fP//LJ\n",
       "9DawxnClRyUmYuC9Vzw4OUS+WJ65iHATpkvfBJtlH7g0qk5oobzNHaaLoP3wQCh1CzK3v1OROreI\n",
       "HXylm96piN21QdTxa3mK/kZMcxpWgVVeykFbOthSS3gVl77MECmzzEtLD14qzriEIidlbd0WfdDS\n",
       "KDuhVtUb14krmuXuWih1CzK3v1OROreIHazppncqYrcyiLrV7VNInT6p1/MPtEFEY5TjmG7Q3PgC\n",
       "KR8uaUr0xZZpE2fG7cN8PE6tdOMEfMK+qVDqFmRuv1mkThbgk0XsYKyr7vGRWK8TQN36xpuDOj6r\n",
       "kK+oO47i0SP902P853noizkQbw6zT8i8MB1K3YLM7TeK1KkCfLKIXbq7XRI+pu6pBFC3Cd4k1L3p\n",
       "JXM4fA+7EHP70VsJKMAni9hlW96ydVFF7AwD/Evu4kAAda8l1MV1Ql/1zH0TJAMudSK3v1MxEtc7\n",
       "iNJLCcl4FrbmA8Fz4nszxmQUUIBPFrHDicosWxdVxM4wwCJ2mZqfuvzxhLq48mT4XMdz+zuXLeE7\n",
       "mii9vr/y/QAya7tqhAAoVTszh6xBOdRTwQX4ZBG7vrIoW2eL/5OUt0LKiRlV7rCIXXrMT13paEJd\n",
       "XPk3J5Q6ntvfuWzJRnqN0mvbIL1lFEhxbQV1PFV7xxy+iRzqe8EF+HrGRBG73iFRtm7rz10PGVsh\n",
       "5cS4gbsVxm6n/NQVxhLq4kpYQfWam9vfuWwJRa8i9WoB1+cuT4EUYcupE6naa+caSBPUBRXgk0Xs\n",
       "GHW8bB2lYRME2AorJ8bNuWDtiVzAXLd7IKEu9m9VC/XreG6/VozEU4uEh1Wi9CpQo6c0ewqkCFtO\n",
       "nUjV1uup6MnQSpRaDkXJIP4CfLKIHVthedk6SR21LgihjgxW/v4kruLLxU3hpU78HwoJdXE2sdOh\n",
       "cx3l9uvFSDy1SNL4O0TpldygpTR7C6QIW04dT9XW66UYydBq7VNqOdRdwQX4ZBG7QluUrSOAkE3e\n",
       "wuIldnD0Cw3sVY/CY8CL2GWafuqug4S6uGIfD6cOc/vdYiSYLqPVIsFmDtEReqpj4ilrkjMfbFyp\n",
       "pTRrBVLET9FU1PFUbb2eCqgx9D04qvXTeWgjoACfKmKHYQ9etm65KFTHW1hOzKxdJ1toYO2qwYwI\n",
       "zGDwxUOddTihLr5cFk4d5vaLYiSULqNqkVATK0a4eqpj4ilrkjepOwtUSrNWIEXsQzTqeKq2Xk8F\n",
       "1Bi6oFo/HahIXUABPlXELj/ulq3DuQ7L1vEW3kVUso5q11XdF2mQaqM7R0Xs+oZ81BWnEuriy+52\n",
       "KHXu7/kMPC4SF0BPu6ZlTeipjomnrIlnhb0VVEqzViBl5RXnelZYnqqt11MBNYbhKTK1fjq4Rerk\n",
       "D+wW4FNCf0aFRSPIRXNEi8qJiZJ1RojRNehtZKsNXsTuJvBR517HhLpY0dWxSOpEMRKepOWAlnYN\n",
       "pbYqVkLpM56yJqQX+cyY4wxaSrMqkHJeExWltqKOp2rr9VR2qjGMHplaPx3E8/kwWSnK1hF16P5R\n",
       "i8qJgT8JShqMQN8tDZ5bsMZPnRt2SaiLJT+Opk4UI0HMtFokBGFdK1aSbfjKmpBe5DPn92JTpTSr\n",
       "Aimpxg1AtpI6nqqt11MRydDYqd4jqvXTxccNFWZJZes+tWkPUNk6alE5Mds/80uD90PpAV7EjtJw\n",
       "TOqsIwl1c5HheiR1ohgJ5c6oWiTYxC2rLFZC6TNmWROud9cqzHjWUpplcncfPH+Vu/11n01QqrZe\n",
       "T6WsxtB6RLV+utpHh+ygmrxsHQliplolv7VpQEgT4CZ1qYGEurlIYFUskzpejMTInRGpNOu0YiVm\n",
       "+gxvrpNJ2ED51usgqKzJDji3QrYadZSqrdVT4cnQ1KneI6r10+nUdsRXvrkLhwSBo7+XMql7j5NQ\n",
       "Nye5K5K6jsVI8DlpJoaeSwUTCDuWNRHPXGUqNqZqa/VStGRovUeZQD2XR7YnRAzqrMdhTtTNmnfo\n",
       "aShfbXRQXCf/HrZTLp8dU2/GXENtrYgOIPZQJ3cTNvGoMbGLUPem2dk41NkbNnzwNKfOakAiXYpb\n",
       "DuCzGzY4/w+Wptc8iLrNLwAAAABJRU5ErkJggg==\n",
       "\" style=\"display:inline;vertical-align:middle;\" /></a><br>"
      ],
      "text/plain": [
       "<IPython.core.display.HTML object>"
      ]
     },
     "metadata": {},
     "output_type": "display_data"
    }
   ],
   "source": [
    "intersect_all_def = Forall(n, \n",
    "                           Forall((S_1_to_n, Q, R, x), \n",
    "                                  Equals(InSet(x, general_intersectall_Ryn),\n",
    "                                         Forall(y_1_to_n, InSet(x, R__y_1_to_n), \n",
    "                                                domains=[S_1_to_n], conditions=[Q__y_1_to_n]))\n",
    "                                  .with_wrap_before_operator(),\n",
    "                                  condition=Exists(y_1_to_n, Q__y_1_to_n,domains=[S_1_to_n])),\n",
    "                          domain=NaturalPos)"
   ]
  },
  {
   "cell_type": "code",
   "execution_count": 4,
   "metadata": {},
   "outputs": [
    {
     "name": "stdout",
     "output_type": "stream",
     "text": [
      "These axioms may now be imported from the theory package: proveit.logic.sets.intersection\n"
     ]
    }
   ],
   "source": [
    "%end axioms"
   ]
  },
  {
   "cell_type": "code",
   "execution_count": null,
   "metadata": {},
   "outputs": [],
   "source": []
  }
 ],
 "metadata": {
  "kernelspec": {
   "display_name": "Python 3",
   "language": "python",
   "name": "python3"
  }
 },
 "nbformat": 4,
 "nbformat_minor": 0
}