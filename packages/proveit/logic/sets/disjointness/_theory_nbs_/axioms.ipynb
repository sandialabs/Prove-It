{
 "cells": [
  {
   "cell_type": "markdown",
   "metadata": {},
   "source": [
    "Axioms for the theory of <a class=\"ProveItLink\" href=\"theory.ipynb\">proveit.logic.sets.disjointness</a>\n",
    "========"
   ]
  },
  {
   "cell_type": "code",
   "execution_count": 1,
   "metadata": {},
   "outputs": [
    {
     "name": "stdout",
     "output_type": "stream",
     "text": [
      "Defining axioms for theory 'proveit.logic.sets.disjointness'\n",
      "Subsequent end-of-cell assignments will define axioms\n",
      "%end_axioms will finalize the definitions\n"
     ]
    }
   ],
   "source": [
    "import proveit\n",
    "# Prepare this notebook for defining the axioms of a theory:\n",
    "%axioms_notebook # Keep this at the top following 'import proveit'.\n",
    "from proveit.logic import Forall, Iff, Equals, And, Distinct, Disjoint, Intersect, EmptySet, NotInSet, Set\n",
    "from proveit import m, n, y, A, B, X\n",
    "from proveit.core_expr_types import A_1_to_m, x_1_to_n\n",
    "from proveit.logic.sets import x_singletons_range\n",
    "from proveit.numbers import Natural, NaturalPos\n",
    "%begin axioms"
   ]
  },
  {
   "cell_type": "markdown",
   "metadata": {},
   "source": [
    "**An empty collection of sets are mutually disjoint simply because there are no pairs:**"
   ]
  },
  {
   "cell_type": "code",
   "execution_count": 2,
   "metadata": {},
   "outputs": [
    {
     "data": {
      "text/html": [
       "<strong id=\"vacuously_disjoint\">vacuously_disjoint:</strong> <a class=\"ProveItLink\" href=\"../__pv_it/axioms/78d74a64ca7e2c9ada3e80bf00dd5d2d0f62f8b80/axiom_expr.ipynb\"><img src=\"data:image/png;base64,iVBORw0KGgoAAAANSUhEUgAAAFUAAAAVBAMAAADFg78FAAAAMFBMVEX///8AAAAAAAAAAAAAAAAA\n",
       "AAAAAAAAAAAAAAAAAAAAAAAAAAAAAAAAAAAAAAAAAAAv3aB7AAAAD3RSTlMAdt3vRCKJMhBUu82r\n",
       "Zpm9SALjAAAACXBIWXMAAA7EAAAOxAGVKw4bAAABoElEQVQoz42Tz0sCQRTHv/7aXdfMNSgJCoSI\n",
       "Lh6EhAgyjKCzdgqCWj1Ex+4J7rlAN7rVISG6RIc9RnTwEGRQ2F8gHroGlZYgaL3ZWcVkIx+82Xlv\n",
       "Prz9zrwZYCjzIIlhbRIrfDIWgyfOpxmNl4n/Rr0qHM98pQF3hycr/FfdEFDN8ZD8micaAK8HyUK0\n",
       "rs6a+Xklr/bYP8zB2Si5S/uHzZms16DBR4KFdKiBzSWI00FDmNGRD76wcH85NaV4K5EHwkaZaqEE\n",
       "aREC1b3FARBGQRdnISsUIqKLn3CadVlJ+A3IBjsHXGFVg4KA7lQhNinEOdC2WKfOhERRUCCZrLM1\n",
       "DmJzlP9i7CXwbrGuBA3iG3JdVsp814g9o3zLjnX31d2Av2nV7fSxQk9DGL6ipfcIeCLWVYO70WN9\n",
       "Jkubpb0RGMNIm60ca7ggVlyAT2XgDWMFQ+DHxQ8unw59lLLz5bXgRIJYbO3cgcJs/f6kXsLjLttW\n",
       "mAlJDPQpoNu2b458fbD723u2bNW6P30mR0/tr4WchKc48FLSZXtWKjJ8SEuBmvoD1+h6pR3OkfYA\n",
       "AAAASUVORK5CYII=\n",
       "\" style=\"display:inline;vertical-align:middle;\" /></a><br>"
      ],
      "text/plain": [
       "<IPython.core.display.HTML object>"
      ]
     },
     "metadata": {},
     "output_type": "display_data"
    }
   ],
   "source": [
    "vacuously_disjoint = Disjoint()"
   ]
  },
  {
   "cell_type": "markdown",
   "metadata": {},
   "source": [
    "**Define `disjoint` for a pair of sets to mean that the intersection of the pair is the empty set:**"
   ]
  },
  {
   "cell_type": "code",
   "execution_count": 3,
   "metadata": {},
   "outputs": [
    {
     "data": {
      "text/html": [
       "<strong id=\"disjoint_pair_def\">disjoint_pair_def:</strong> <a class=\"ProveItLink\" href=\"../__pv_it/axioms/902298d3b8554e550ab031e4b81905ec119cf17a0/axiom_expr.ipynb\"><img src=\"data:image/png;base64,iVBORw0KGgoAAAANSUhEUgAAAWIAAAAXBAMAAADD6liPAAAAMFBMVEX///8AAAAAAAAAAAAAAAAA\n",
       "AAAAAAAAAAAAAAAAAAAAAAAAAAAAAAAAAAAAAAAAAAAv3aB7AAAAD3RSTlMAq1RmmUTNIjK7EInv\n",
       "3XZ/CtNrAAAACXBIWXMAAA7EAAAOxAGVKw4bAAAFA0lEQVRIx9VXb2hbVRQ/eUmb5KX5U5miKCYi\n",
       "DGQTI4zhPrgFdOoIatAvQ0QrKtKszAxkUKw2Fb8IqwkiVkTaCCoW55qKfz6Uuab+YVaUTDcY07DM\n",
       "FvdFslrrNhWt55x778t7N++t9eMu5L13fzm/c3/33HPPuw/gMmnF9ZkF1+mu8H/YBU+CtzfjtjrD\n",
       "awr6eX2CYym+7dfgrqaXsQdBtkc6kNDY2wmGyWWCkBvdqUaVRvgpB0Np7kdOCVx2rbZJ3J5Wff/E\n",
       "b71XvQ6w4OZ0kwvByYuldU60EjgqYHS5k5Cn3BW/y9fhHDya4SffBYHLLk6Br2afmN+qRewpAySL\n",
       "0F3p9EnGGuHW/p1OXl4n3QTRbcAwuhyh7Ci7K76Dr/EcmBKQClQXnuFrQMQkkLQScLjJ0/JnOn2S\n",
       "sZMwetZ8Me/gbdFJWRgcBobRJcUhknJXPKsUe7VFERnR+fSItZ934NMOHH1edLvxN6LCqBNCpHZ/\n",
       "xc7r0dfmB1iYKgh4Hvxp4dEtjfvWUBxa4dtGURma56yJJ/E3gAF8XHQpn8NyOht1go/+8DftvG49\n",
       "kT+H/FROwOjy20bjG3dBAdp4M61SLjiQgJe3/wKH58C8b5G6oYG7W9fDDf/0pnjN2BpusQb6GuCt\n",
       "k3ifFhOjpDPzaoE1QpRNMnZeJKEpWYZ6PCVgdHkPwBv2JG03mtPBFBzB2SXMMro2l2G0AOPYhegV\n",
       "UCrAcbYTkXwASlUV+z9bZxjcyt0DGJRG46uKZewgsOJgws7z8+LeS6zGMVZsVFExw+hynzQ3j7Kf\n",
       "l1ZmdskFjGIAX+NaEU50zUOM5vojQKkYTkB4FuJpqfh7vmZgWIUmhjVlM8VvM/dEQEKvWMYOgk2x\n",
       "4hmzWux+D+QwKxhGl+FKhBM1sixqYh1iktCDReJfgClSDKfHMS+XQ2gUr5LiMsSbUvGXPNqrdyZV\n",
       "ycHpQOQiPpQoEjWJHkwoYwfBpljxQkt6HkcpbgyjS6MpNt7u70TNxaK0ZCkOWYrfP71Cq/MHKi67\n",
       "KT6Ef9TlAHEc349MeJh6+0SyBPeAQ7Ei2BQrXpce470jUKoImFz2bWe0+ZiQmYIP0lZWWDEOVqj0\n",
       "iBhnbIqrapFx60TVQCV04MO5wc3cvZ0TslF0ZoUi2BQrnlHX8vijBVLKMLn8kHdxDO4SRXxhy9Vq\n",
       "cbHk9Ms8NprgS2Mef4ElPmcpfoIVj9MLn4rkkty+5zCBSrRNtolEy9jeq+Mawa5Y8fz6G200DzMS\n",
       "JpdDbL0bfhUBAXODegfjH0M5SKZRnzEP4QIqPlCEPSS3mxV/woqphg3RDC+AeZ6IAyiIS4MoY3Al\n",
       "1TJZ1aedBIdixQtU9TpbN09JOKtKOGRnkhyfDRxUsbtxFcxsq3QsdF3tnc9aH1OtCGanc9h9L1l7\n",
       "YaIGvmuJMwowuZoHY+J8FRoIXLPa29vPb5MT7fPJoAqXRoAwFypaBosX1d9Z/r2LFQmfsM6AKJSV\n",
       "z+Gyq7ftSeio5G4tajttG/aqHqy3D8qmzTi6xvH8OR2IFBSsXAI8iDsqZVYh+BeYxxWonUgWgxdd\n",
       "B7AfeCL6qcfN2O2E1HkCc4Utl4EamPc/GZqDrX/P7LKOB2Hn18Cb8qDR0cbaj4fs+KCX8dilv3zK\n",
       "3rDu0tDOsk7qs2cq7kNMth+bHjNxGk9eUnG44A3rLh/S+s+v83Ow6f4xVfAy9iDIdtYb7nCZvgw+\n",
       "qv8DizKGo9G6KfcAAAAASUVORK5CYII=\n",
       "\" style=\"display:inline;vertical-align:middle;\" /></a><br>"
      ],
      "text/plain": [
       "<IPython.core.display.HTML object>"
      ]
     },
     "metadata": {},
     "output_type": "display_data"
    }
   ],
   "source": [
    "disjoint_pair_def = Forall((A, B), Iff(Disjoint(A, B), Equals(Intersect(A, B), EmptySet)))"
   ]
  },
  {
   "cell_type": "markdown",
   "metadata": {},
   "source": [
    "**Define `disjoint` (mutually disjoint) through induction: adding a set to a `disjoint` collection will maintain disjointness if and only if the new set is disjoint with all of the sets in the original collection:**"
   ]
  },
  {
   "cell_type": "code",
   "execution_count": 4,
   "metadata": {},
   "outputs": [
    {
     "data": {
      "text/html": [
       "<strong id=\"disjoint_induction\">disjoint_induction:</strong> <a class=\"ProveItLink\" href=\"../__pv_it/axioms/24cd17f1197e8e78be4ed5b686243f17c0f129d60/axiom_expr.ipynb\"><img src=\"data:image/png;base64,iVBORw0KGgoAAAANSUhEUgAAA1gAAAAzBAMAAAB4arSfAAAAMFBMVEX///8AAAAAAAAAAAAAAAAA\n",
       "AAAAAAAAAAAAAAAAAAAAAAAAAAAAAAAAAAAAAAAAAAAv3aB7AAAAD3RSTlMAq1RmmUTNIjK7EInv\n",
       "3XZ/CtNrAAAACXBIWXMAAA7EAAAOxAGVKw4bAAANPklEQVR42u2ce4wbxR3Hf17bu3vr8yO0IKAQ\n",
       "u6KNRAPEUlPUSBDMI5AQVNzwR1EbGvOoKElUHAmlDQTO4Q9UxJEzqDS5CHJGpKh5cYaqtM2V5C4Q\n",
       "CKGAaamo0pziUygQmlyOy+tyIXHntbuzs+u1L936zmpGOt/OeNae2c/8Zn7z3d8awD1t2LABzqaJ\n",
       "kOogsbdyxMMvbMmdvehjTdoa+r+rcqJW1b97+sVfGfMZWe97n20yWk8W2MGMhsLyFcd6RiRB/i0V\n",
       "y5fWPlXJVHnjx00GSyqNC6wrhfzBHaC8Tg9fo8NHz+ppKv13v/hJ99f+MnlILJlRmTTpvhxEkk1G\n",
       "6+XxgKW8JRYchSBbEuN0cgoaKyQxQo1ah1QRB1ul9rdNs8GCt5FxjwAsbDJY4eQ4wAqXxZKjAGxC\n",
       "1liJPj8rKfwaoM0MxIV1xlbgkK49bhssp+lomN5s8+CucYB1FTjAqrZYEVitNPOHbYIXaSuwp9BD\n",
       "I2KRH5X4EbBWNiJk9LeiGWjdMw6w3hkDrA4Cawq1iPKhhNVExAKH9Ehk2ObfoIlRRlOxzKaVfc2y\n",
       "mViQbTisyKgw9rd+dhSW9oG6bzAT2pOAdYOzcPaxNx4ZKEvxD85BVebSSQ+mWX0CW4FDSkmHxaLW\n",
       "PGgXIzihGMmqeTz9NsMCJscaDiscs272tkMIWdadsB6gBN0J9SNoKaMsfJBQj0OYWNbdpOY86LD6\n",
       "/LYCewom1JM2a107eB6G7KduS/u7/Si9WWiCRWu04bA6rDNOSwZ7g/AUzC9AGaKJcBHUEZSFZwEO\n",
       "M1h/pUYCbYjzC+a+iRRoPZNcrnMAlC/EskNZkPDWQOolhk6VAfXpJhAxTjcc1kXWbHcZNAIrfOJT\n",
       "QLA60DJ0EsPqBDjNYO0gV/VXN8TzoA6WjPmUFAQgUKr+ZftvuNamzqBRANgzUbFTr/Wx0k2xiU/r\n",
       "uYbD6hMMTYelvVZJIVjT0gAnnGC9hFCWuI08K4imlZHqYxHtEk6JhdjUrkFvBIllLaEzqbKoCRat\n",
       "a7INhqUermJZD2KfmlrWEQ5WSJ8GEbZwLw+LFvgLLrAC6G8P2lF9dzC2bzXfgHja+KSr+0lqBnew\n",
       "O9lgWBFhkyrn2Zp1BRZ4o4nWFASPGrBkAmstdhWSVDrCl5hsnfUCCJWMvTSXyEJ2G5GktO+8jux5\n",
       "gJ2HG6Aeww5Gnm67iPHe2wwbrdZYg2G19Ap6wg7wHcZoLivAKgRL3QlyEZO6D8MKZUJMFVuOzz1O\n",
       "YXVnuAIsR5MC/KId4w8U/F1dWeWlDIxg/59Uk1HhfOypB5greS4+TjcDrJYShUWYXeIGq0aNukdH\n",
       "XihYt/WzU7EVf7nwR4P/TiNY8EDPuYCyK748/9IvYzBpC8YBsL6yEKSuY0UCK7ybK1DW0AK6vn2o\n",
       "H/QXQOs6VoBLK4vAV1Z78VyKq/m6vph0HnH9wgzQi+hvWVMITqEhCmuW+1yAYM3yZrboTrm9G3WU\n",
       "JMLcgkJWmm9xbz4AP7cWsHqcQ9+ai+SVoZxQ7WHdtgGc5tEJmPxHKSwsjil5N1g1atS9zSq7rGep\n",
       "Nsd13p8SYHF7YWX1L2+2FOijkDtuQ7blz6eEatdDsyX1NIUlo4EYSrjBqlGj3jQt4baeTXF+Y5XJ\n",
       "5tWTZeKRG1ZTqQxZCkzH3kjfBzmrTC5Yq3kw8Bq+Kz5CYfmTVH6uDqtGjbr3Ci4+srL1Quc31gsW\n",
       "aDNJ+ylOBmyp1pJtOlhki4i9wXf7+99x9wbda9SbDp3JNVLK3nf80+ZjBScYrNkAa9xhGTV4La7K\n",
       "ylxdrttWgLPpTNObDNYSUAR17OG5aX8fB0uvoe3kKm1ynNUsVeDxIz1zjGq3noV15qmfwWophLiN\n",
       "oTrQmZZiW+BmDpZeI8Tfztvm6C9YqoC/BBFjKxx3cPbGdUfq6/9owkE52J8gUpmY9jBYUpn3Hm5A\n",
       "liDNDBi+Loal17j9PbNesN1xNeGroMuRAv+QC6xvjOuFkSeiCSFvzslb1WFBZiaqc/3KgcgMFqYl\n",
       "PfqDMg+L1MB+1p2cfyU73lngqyDvOgGbk9WnQRa7VDt54r4pEwZW1qWB2PWeWX0ahFcWArwwP9ka\n",
       "i8SoqyzltnzTAuuVhdT/vZGjEsg4usg38tm2fdPPN+dNWxtb6gzg8ybSM1ieILAiVTacpIEYVrhQ\n",
       "1cGA5chGHvwEorlAkajVCFYgkudhLSdWdDscAFhGPyiYQ4vRvI/FNYdUMdPVoH3VdN1tHsly0vQ9\n",
       "aVhOqYV2s3IBokeRnvvssDySPS2rTl2BqzMq78HmL+9iUx9WLVfTBmJYEfuk1afD8uGrOBnaIZyA\n",
       "Kzs7OxNSTitmeFikBsztiRfUy2kDAj0vj0KvJsZR4ipcFpFqS1ffFNNwGFRjAVWVfOwmyoKURTny\n",
       "KtJTZk3T1RjZM9nTYsvVA1f57sQTIBnyDNa44znSQAxLG7V96hEdFkk7YT+0qfAEtSyYV+Zh6SpA\n",
       "W0430TIoI5BVe21CQVvOf923Z02lYLajC28gmmZz/WggWjQtRngaW7gH6MDwKNJTFxo3ZwxYHsme\n",
       "Yq+EfhQcutORZ1kyXstkhOIGYlgsTohf3U/ysJQhZFszAshLpx61YYkmrNuINI5gaUVy/w856S1p\n",
       "2Iiz7IVWkfbDDqmIS5RR0D40zu8QVyh1VIdVLX1Mxx3N/PeRniywdd+5BiyPZE+HIVirO/JxLWZR\n",
       "4nC8wS4Ga454pi7kssUthmaDJZ+Dgu+BP3kvm815WIE+0G79CYalbodbYrDuWBpLG+0J9S1oz+KX\n",
       "BKuyWssEErjWlSd75phXIpoSF9pSDVgqnT88i/RkA7b0uAHLI9mzPliW7viPPG++g3c1i7OkgQTW\n",
       "AfFUadgyDeppY2dnWpSb+ISnQUkftwU0GswLph+VpGLYb9YyzhTdRx8u6BnsSCuLY7By5ifw2nbQ\n",
       "vvcxzqqLbxqcDF8/NSkBHkZ60qcxpKKcNbxBb2RPzpRdAlct3YH3Oen6bYDn/0EbSGAtEN1BGhIx\n",
       "1tv66oFXAH6oe2OVEgSNz9WPtFgk7fvUrGWw6RU9d7RYbErAtjTIMS0PYdCG4cksrMUBqOFzoCML\n",
       "H3IG4UGkJ33iSM5KKQOWuzA65uQeuMp3B7aZOwn1xODA3ayBBFaHOL/7hs4EFkn8gPY7HNlrkfdF\n",
       "Hwdvq39NvMGWWHAX9k6G4Z+4pS0xHLARTbLeeRbpeRl5RU7FbgOWXRgF/+8sXoE9Y6Ixjp5g6px7\n",
       "4CrfHYiXLHZzWZI2kMBqE1cGGhLRyFA08UGBcIqEmnZjWLB3LZqbhnGdaBHDykO0zHrnWaRnB3lF\n",
       "2/RBAxaVPaWuVXCRvn1vtyvSVnnaSctmz7u5B65y3YHAEnNtw6FEoRHaQAKrW4TVVm4wLDHIE1uW\n",
       "asDauBctv8MS6kE07wTLi0jP+fo2Z7MBi8merSm4Cf1becEzugNgUaRDw46fz2nZ7Ea3e+AqD2u2\n",
       "ag6jaIw+ioQbSC1LnAYbHuQJt9hhGZalFLD/Si0rxcEqgoeRnpfrW+JAwpCbqOwZGQ2hmS4w27zu\n",
       "FkXaKk87adlTBMtyDFzluhPKwd4sv6nxHaUNpGuWuIG8GBoNa4Fg3L48iREka5ZUBl8SrVlv4GoG\n",
       "rHtI77yK9KSdDRuKoWzKnvDGFkOPmmJXpK3ytJOWzWC5B66a3YF/IWsp6u3E99A7MrSBzt5g4x9M\n",
       "CAsbLXyra3ka4kmERtqFQyOGoT0HizApmcB6lfSurkhPI8izeqQndZqJJa02YFHZkwiXWt70GS2K\n",
       "tCBPO2nZd7C9n2vgqtmd9eggOsraCYvR2CNPHs1lsK5y9s0aCUt0B4O4tXMHOz5QL+r7zdbB32Nv\n",
       "UJn7chplfxvve7SrD3xfw12oL9LTCPKsGulJ+0K2NysNWFT2hD+nqLEiP+inomhNMsErZomzYM68\n",
       "sQry5/S/a+Cq0Z3H398J6v2nUqSdcAH+EYEEu9gE1rXiMG/8w3S2x1R3iBWc13GvIj2VUtVbJKGX\n",
       "0MDx39fZ+TSsuFAUrUmmFbrFFRFr2cb3/cyh4bUDVy3tJA101AbH4TFVuKbgpLqb0lkVX8GrSM9A\n",
       "siqsLXixVOnHDIiiNckozKXnZkGsZU+/ZPq8P+p3e4RZvo7AVUs7SQMdVfenoPGwZOGiCt1/Vso4\n",
       "n+dRpKcY1m7CChTgUEHXMqbworUhTwM8w0nWhpZ9Rb41PdV0MCwCTe3AVWs7SQMxLH/Mvl40HJYq\n",
       "/GiJzzpNPDRQRYzwKNJzVTVY6/oLWhxNPctyDJYpWpvydCCHtWkqWWcNLbsl9yJc5wyrrsDVsthA\n",
       "cqdY8NzDiXGABfuFTWumvtOUshdfHslWtSy9PX/qfIa/7mQa1AfUlgivTetHYZgKpaQjrDF3hzTQ\n",
       "KQZjXH4OyPZDW1NhPFOVeyN3WERrXZ6WK6d4bVo/eh7tmCZnxwbL3WW2RzcFM/XC+punPw55l9Cy\n",
       "cY0blJ3jBmXLwPc7a9OCr6Le5VGbDu5J4hXUkh6j+Q0b9tc6+//wxyEfHfspv/gfNkf/WZWuyon/\n",
       "AOsTowHPKEIGAAAAAElFTkSuQmCC\n",
       "\" style=\"display:inline;vertical-align:middle;\" /></a><br>"
      ],
      "text/plain": [
       "<IPython.core.display.HTML object>"
      ]
     },
     "metadata": {},
     "output_type": "display_data"
    }
   ],
   "source": [
    "disjoint_induction = Forall(m, Forall((A_1_to_m, B),\n",
    "                                     Iff(Disjoint(A_1_to_m, B),\n",
    "                                         And(Disjoint(A_1_to_m),\n",
    "                                             Forall(X, Disjoint(X, B),\n",
    "                                                    domain=Set(A_1_to_m)))).with_wrap_after_operator()),\n",
    "                           domain=Natural)"
   ]
  },
  {
   "cell_type": "markdown",
   "metadata": {},
   "source": [
    "**Elements being `distinct` is the same as their associated singletons being `disjoint`:**"
   ]
  },
  {
   "cell_type": "code",
   "execution_count": 5,
   "metadata": {},
   "outputs": [
    {
     "data": {
      "text/html": [
       "<strong id=\"distinct_def\">distinct_def:</strong> <a class=\"ProveItLink\" href=\"../__pv_it/axioms/5321379b114407a4b8afbc05e85598e16426c3ec0/axiom_expr.ipynb\"><img src=\"data:image/png;base64,iVBORw0KGgoAAAANSUhEUgAAAsgAAAAXBAMAAADkcqSWAAAAMFBMVEX///8AAAAAAAAAAAAAAAAA\n",
       "AAAAAAAAAAAAAAAAAAAAAAAAAAAAAAAAAAAAAAAAAAAv3aB7AAAAD3RSTlMAq1RmmUTNIjK7EInv\n",
       "3XZ/CtNrAAAACXBIWXMAAA7EAAAOxAGVKw4bAAAHaUlEQVRo3u1ZbWwURRh+e1+7t9trD0xIQAJH\n",
       "/GqEwsUgBmPgDBUwFXLB+EdJuIjVoCQsxphUGiiEH0ahLSZIIAYXAYOWwJVYjEKxiARSohZTDKk2\n",
       "XKWSqHAhDVgCUZyvnZ3Z2927tuAv3mQ2M3PPvu8zz86+M7MHUNSunIcRmnKHcXf2bgOVvWmh401D\n",
       "/Fl7QYzxSBFnkiMKV1gpSb/2EQ//tzuMc7dwbkS3VSRQqTOFHnW82Lr0oohev8PfmeSIwjEvwq0d\n",
       "4rjvAX+Ri2NcLZDF4X9NQ0OS9wlVGTcKu+gyaDuq3useeSoqM2RponGB1E0ZvsWXgsMRhV9kpR2e\n",
       "wV2v+YtcHONqn5LrujQsS9EOJKZVpaYLuJFbxCzss6OWDdEeHpkG1TLo0iHfpHe716EQCkV+7WC8\n",
       "cGmH9ThztPiLXBzjavPItTINGstUaJiahHhLwI3cgqnCPjsqsEegyUFDybsuMuaFSzuRWk/4i1wc\n",
       "42qd1nCtd7hAjAEBNwrrchXZy2jQcrjrIhNeXVjAIHqikSILX3GMa0rOOIbb7BRZvSbgRmHLhyMy\n",
       "DQoP/w8iL6cF7Ry+7+s7U2x3URTjZiG8nh3JN6eVlXFomnMpMPnsWFRVVy7IT0Jvb+2RxJR/xiQo\n",
       "TstPeP+QsH2Smy52oH/fEf5utTl/FaJCx7egLR5I88g0KNRaUgienCKLNIqLLFHqsHi1EQEXAuwo\n",
       "JnJRjOt6hOb//gR8k4ZIXGuBGMTQTI7EITYWmg1oSIRPQ4+FC0F/bpHwfOSmi6UqJoW4JLPwZVEf\n",
       "trO4KkXVBmGzATvtyD327J8ve6oQElcoI9O47EtnvpPSZYvXLCLgalDiLrdlRZE9MP4WQ4/1Q7LO\n",
       "R+PhLqggIqNdUrQTKpPwKgRO0fFi3BMw17zPvtXRdFnrjODNMr4nm+b4VYoKg/ALSlWNPDIV+Se8\n",
       "Ep+QPSmDIO01RRrr/NYkpyMGn0YLEjBq6mL+Unra4SmkaEoU2YEpzcrRAv8vwEE8XLiw0+Ait0Bl\n",
       "TruFIT0MB41kLmiz2K202do2wTOxkpnGk738oxwVBlWkXWXWisxEPomGOi7NPe0m7na9bPlYXeeg\n",
       "oY3zVll0ZHHA8GbKDQkYyNlrWtP4rTBFN0OmQ2QRMxyRVT7c1gvXJJHxL4LIAD/g8Ff4zbiZAp+U\n",
       "US6c85Y6noAUFQYD15HILYUiw8Ydlic1T170w3wqqc+aMg29zmeotiOe0usYr6X0yJyZw/PQQnyy\n",
       "y6V0cIgsYIaVLvicUkyY2xhDjvlMvkZFztJ0AeEh+Bygmh+VcfM6rGv09L7M0PgZpFrOyXJUNpNT\n",
       "gshZli7oMY54CnQ7Tnnk9CfQmGH6jXWLkxKBV9OCBTz0Okoo85oG2Pm06qG1OnxR01OTFkTGGMgv\n",
       "GLA+oQhV2xydUfRgV7DsGMhBWTIiiIxyMgTgFTxehNO2lnXiajU9O7Dmk3h0hWPDp4rP0hPRyY2y\n",
       "BpjtQEhRUU7+DgmQ5pFJULQS0j0A9URF1jvtUwvaXYg04Kh4sHGwERxZlI5avGZTARvQM9u9NFlu\n",
       "aORQV6V/8lLBTMaYCmN8hOUloSp8L3B06uiehjRMTqLBBbogaugZHY8zQoaKFpYv4TAeL8IFbuzp\n",
       "DCeIyNrfwJuIO27Sy8GMUJnx3nOwhLK2tmOCSVGRyJsa4Q07MglKt30dlicmMskZBzNMZIEG25PJ\n",
       "RHhLcGRRIvBaWrCAZeg5vXMJKs0wWRurIPVHgcgYE4SdKigk+5DqkgF5MSSdYmrEO83afPNZdeLx\n",
       "vcfyyM2Yr1F13+TjGz4+DlpN3oCy+02C0xbnHnyMvV99Jm+qvaRJczfO6LSCevfkA/MSlDXqOeec\n",
       "XVLUQVBq29J2ZBIUNjNtqCdR5FivNZMFGmyfjNlwIpyN4MiiRODnaOGfMSehDB1csX37B0jk1kiB\n",
       "yNSGADb08mqndtUxuCG5Wep3aBuHRQ7Yr2S9KTUtexRE1mhx7/Z1P+i+YjRKJwxBZOpfOJjUc9U8\n",
       "2XQ4KJEOzAsXLuBpqFHVLJ3J4enOfTKbmp0KQC+vGqrjowPunPn8VN6eWaLIMyWRdXtnlFIMoemy\n",
       "hces2bcezy8Vyg3vr0ruImdlkQkNBvVi0+GgRDowL1wsAZWrcL6KnuoeB+h3/WjfoGdCRORWVo2m\n",
       "UVXLWhfSOb0lZq98Rmki2zgs8gF7Br270RSaPBnwnRJlDfV+zj/y+jSyTTrGEZHpRpf6t09/hAbZ\n",
       "MYMnm8sOSgRez4olYDgOfyWhHr1C6s8oVbqKHPr92J9E5E0JWl2Iq+op2GTgC+0sa3zbjl/i11GO\n",
       "W7PqGIC92fzx9m2xyRdY+z8RwprI5Wlr+j32Xp+Jxzjl8C0UaH/S9m+f/ggN7QSpe7HhjhglAt/G\n",
       "ivzXkvbV9q0uHz+k3IrTBfWomzmrCrwzBhftv23WlpgvSsV5/PVjjOg2BbFXnha3Q2vGSt+6xZbS\n",
       "5v+lV3ZE4ZgXLldODpda05kEhOncWHW726riR0hru2BqEu7Z6C3oVg3e08XT/gMEprCmefwX+QAA\n",
       "AABJRU5ErkJggg==\n",
       "\" style=\"display:inline;vertical-align:middle;\" /></a><br>"
      ],
      "text/plain": [
       "<IPython.core.display.HTML object>"
      ]
     },
     "metadata": {},
     "output_type": "display_data"
    }
   ],
   "source": [
    "distinct_def = Forall(n, Forall(x_1_to_n, \n",
    "                               Equals(Distinct(x_1_to_n), \n",
    "                                      Disjoint(x_singletons_range))),\n",
    "                    domain=NaturalPos)"
   ]
  },
  {
   "cell_type": "code",
   "execution_count": 6,
   "metadata": {},
   "outputs": [
    {
     "name": "stdout",
     "output_type": "stream",
     "text": [
      "These axioms may now be imported from the theory package: proveit.logic.sets.disjointness\n"
     ]
    }
   ],
   "source": [
    "%end axioms"
   ]
  },
  {
   "cell_type": "code",
   "execution_count": null,
   "metadata": {},
   "outputs": [],
   "source": []
  },
  {
   "cell_type": "code",
   "execution_count": null,
   "metadata": {},
   "outputs": [],
   "source": []
  }
 ],
 "metadata": {
  "kernelspec": {
   "display_name": "Python 3",
   "language": "python",
   "name": "python3"
  }
 },
 "nbformat": 4,
 "nbformat_minor": 0
}