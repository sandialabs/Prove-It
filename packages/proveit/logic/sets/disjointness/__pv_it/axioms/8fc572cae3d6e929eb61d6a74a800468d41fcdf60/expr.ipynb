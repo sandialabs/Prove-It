{
 "cells": [
  {
   "cell_type": "markdown",
   "metadata": {},
   "source": [
    "Expression of type <a class=\"ProveItLink\" href=\"../../../../../../../../doc/html/api/proveit.Conditional.html\">Conditional</a>\n",
    "=======================\n",
    "# from the theory of <a class=\"ProveItLink\" href=\"../../../_theory_nbs_/theory.ipynb\">proveit.logic.sets.disjointness</a>"
   ]
  },
  {
   "cell_type": "code",
   "execution_count": 1,
   "metadata": {},
   "outputs": [],
   "source": [
    "import proveit\n",
    "# Automation is not needed when building an expression:\n",
    "proveit.defaults.automation = False # This will speed things up.\n",
    "proveit.defaults.inline_pngs = False # Makes files smaller.\n",
    "%load_expr # Load the stored expression as 'stored_expr'\n",
    "# import Expression classes needed to build the expression\n",
    "from proveit import B, Conditional, X, m\n",
    "from proveit.core_expr_types import A_1_to_m\n",
    "from proveit.logic import And, Disjoint, Forall, Iff, InSet, Set\n",
    "from proveit.numbers import Natural"
   ]
  },
  {
   "cell_type": "code",
   "execution_count": 2,
   "metadata": {},
   "outputs": [
    {
     "data": {
      "text/html": [
       "<strong id=\"expr\">expr:</strong> <a class=\"ProveItLink\" href=\"expr.ipynb\"><img src=\"expr.png\" style=\"display:inline;vertical-align:middle;\" /></a><br>"
      ],
      "text/plain": [
       "<IPython.core.display.HTML object>"
      ]
     },
     "metadata": {},
     "output_type": "display_data"
    }
   ],
   "source": [
    "# build up the expression from sub-expressions\n",
    "expr = Conditional(Forall(instance_param_or_params = [A_1_to_m, B], instance_expr = Iff(Disjoint(A_1_to_m, B), And(Disjoint(A_1_to_m), Forall(instance_param_or_params = [X], instance_expr = Disjoint(X, B), domain = Set(A_1_to_m)))).with_wrapping_at(2)), InSet(m, Natural))"
   ]
  },
  {
   "cell_type": "code",
   "execution_count": 3,
   "metadata": {},
   "outputs": [
    {
     "name": "stdout",
     "output_type": "stream",
     "text": [
      "Passed sanity check: expr matches stored_expr\n"
     ]
    }
   ],
   "source": [
    "# check that the built expression is the same as the stored expression\n",
    "assert expr == stored_expr\n",
    "assert expr._style_id == stored_expr._style_id\n",
    "print(\"Passed sanity check: expr matches stored_expr\")"
   ]
  },
  {
   "cell_type": "code",
   "execution_count": 4,
   "metadata": {},
   "outputs": [
    {
     "name": "stdout",
     "output_type": "stream",
     "text": [
      "\\left\\{\\forall_{A_{1}, A_{2}, \\ldots, A_{m}, B}~\\left(\\begin{array}{c} \\begin{array}{l} \\textrm{disjoint}\\left(A_{1}, A_{2}, \\ldots, A_{m}, B\\right) \\Leftrightarrow  \\\\ \\left(\\textrm{disjoint}\\left(A_{1}, A_{2}, \\ldots, A_{m}\\right) \\land \\left[\\forall_{X \\in \\left\\{A_{1}, A_{2}, \\ldots, A_{m}\\right\\}}~\\textrm{disjoint}\\left(X, B\\right)\\right]\\right) \\end{array} \\end{array}\\right) \\textrm{ if } m \\in \\mathbb{N}\\right..\n"
     ]
    }
   ],
   "source": [
    "# Show the LaTeX representation of the expression for convenience if you need it.\n",
    "print(stored_expr.latex())"
   ]
  },
  {
   "cell_type": "code",
   "execution_count": 5,
   "metadata": {},
   "outputs": [
    {
     "data": {
      "text/html": [
       "<table>\n",
       "<tr><th>name</th><th>description</th><th>default</th><th>current value</th><th>related methods</th></tr><tr><td>condition_delimiter</td><td>'comma' or 'and'</td><td>comma</td><td>comma</td><td>('with_comma_delimiter', 'with_conjunction_delimiter')</td></tr>\n",
       "</table>\n"
      ],
      "text/plain": [
       "style name: condition_delimiter\n",
       "description: 'comma' or 'and'\n",
       "default: comma\n",
       "current value: comma\n",
       "related methods: ('with_comma_delimiter', 'with_conjunction_delimiter')"
      ]
     },
     "metadata": {},
     "output_type": "display_data"
    }
   ],
   "source": [
    "stored_expr.style_options()"
   ]
  },
  {
   "cell_type": "code",
   "execution_count": 6,
   "metadata": {},
   "outputs": [
    {
     "data": {
      "text/html": [
       "<table><tr><th>&nbsp;</th><th>core type</th><th>sub-expressions</th><th>expression</th></tr>\n",
       "<tr><td>0</td><td>Conditional</td><td>value:&nbsp;1<br>condition:&nbsp;2<br></td><td><a class=\"ProveItLink\" href=\"expr.ipynb\"><img src=\"expr.png\" style=\"display:inline;vertical-align:middle;\" /></a></td></tr>\n",
       "<tr><td>1</td><td>Operation</td><td>operator:&nbsp;17<br>operand:&nbsp;5<br></td><td><a class=\"ProveItLink\" href=\"../e1b3b4c94407535a3b76ea60c088387071fea6f80/expr.ipynb\"><img src=\"../e1b3b4c94407535a3b76ea60c088387071fea6f80/expr.png\" style=\"display:inline;vertical-align:middle;\" /></a></td></tr>\n",
       "<tr><td>2</td><td>Operation</td><td>operator:&nbsp;26<br>operands:&nbsp;4<br></td><td><a class=\"ProveItLink\" href=\"../22736ce9d3a37303b26f11de823dee236fdf12440/expr.ipynb\"><img src=\"../22736ce9d3a37303b26f11de823dee236fdf12440/expr.png\" style=\"display:inline;vertical-align:middle;\" /></a></td></tr>\n",
       "<tr><td>3</td><td>ExprTuple</td><td>5</td><td><a class=\"ProveItLink\" href=\"../c3027c47474365780f6bc1b545f225173b7fdc490/expr.ipynb\"><img src=\"../c3027c47474365780f6bc1b545f225173b7fdc490/expr.png\" style=\"display:inline;vertical-align:middle;\" /></a></td></tr>\n",
       "<tr><td>4</td><td>ExprTuple</td><td>36, 6</td><td><a class=\"ProveItLink\" href=\"../0d6c99f0fbf307a57c36a9642312d22b5ef7d9810/expr.ipynb\"><img src=\"../0d6c99f0fbf307a57c36a9642312d22b5ef7d9810/expr.png\" style=\"display:inline;vertical-align:middle;\" /></a></td></tr>\n",
       "<tr><td>5</td><td>Lambda</td><td>parameters:&nbsp;12<br>body:&nbsp;7<br></td><td><a class=\"ProveItLink\" href=\"../8976f274b01f4e65c30bc9c3709c24c3e2c8c42c0/expr.ipynb\"><img src=\"../8976f274b01f4e65c30bc9c3709c24c3e2c8c42c0/expr.png\" style=\"display:inline;vertical-align:middle;\" /></a></td></tr>\n",
       "<tr><td>6</td><td>Literal</td><td></td><td><a class=\"ProveItLink\" href=\"../../../../../../numbers/number_sets/natural_numbers/__pv_it/common/8b7c321957f52ed3b05b36af612eeae4fa4783bc0/expr.ipynb\"><img src=\"../../../../../../numbers/number_sets/natural_numbers/__pv_it/common/8b7c321957f52ed3b05b36af612eeae4fa4783bc0/expr.png\" style=\"display:inline;vertical-align:middle;\" /></a></td></tr>\n",
       "<tr><td>7</td><td>Operation</td><td>operator:&nbsp;8<br>operands:&nbsp;9<br></td><td><a class=\"ProveItLink\" href=\"../60fc8ef946460ff97022e154e0f32af432cdf2030/expr.ipynb\"><img src=\"../60fc8ef946460ff97022e154e0f32af432cdf2030/expr.png\" style=\"display:inline;vertical-align:middle;\" /></a></td></tr>\n",
       "<tr><td>8</td><td>Literal</td><td></td><td><a class=\"ProveItLink\" href=\"../../../../../booleans/implication/__pv_it/common/9e5b2ca32e104df56a83c73c522e9f700ffd8f9f0/expr.ipynb\"><img src=\"../../../../../booleans/implication/__pv_it/common/9e5b2ca32e104df56a83c73c522e9f700ffd8f9f0/expr.png\" style=\"display:inline;vertical-align:middle;\" /></a></td></tr>\n",
       "<tr><td>9</td><td>ExprTuple</td><td>10, 11</td><td><a class=\"ProveItLink\" href=\"../299f7f88e3735045a5cddffe984ec5833087b7da0/expr.ipynb\"><img src=\"../299f7f88e3735045a5cddffe984ec5833087b7da0/expr.png\" style=\"display:inline;vertical-align:middle;\" /></a></td></tr>\n",
       "<tr><td>10</td><td>Operation</td><td>operator:&nbsp;24<br>operands:&nbsp;12<br></td><td><a class=\"ProveItLink\" href=\"../e324ad196283bd920b073dee1011d1661f0114b10/expr.ipynb\"><img src=\"../e324ad196283bd920b073dee1011d1661f0114b10/expr.png\" style=\"display:inline;vertical-align:middle;\" /></a></td></tr>\n",
       "<tr><td>11</td><td>Operation</td><td>operator:&nbsp;13<br>operands:&nbsp;14<br></td><td><a class=\"ProveItLink\" href=\"../fac52356d9c14bb9bbf62cfc7a393a072e930b7a0/expr.ipynb\"><img src=\"../fac52356d9c14bb9bbf62cfc7a393a072e930b7a0/expr.png\" style=\"display:inline;vertical-align:middle;\" /></a></td></tr>\n",
       "<tr><td>12</td><td>ExprTuple</td><td>33, 28</td><td><a class=\"ProveItLink\" href=\"../4204ad542ea10490880e1cce6c44f4814247c9fc0/expr.ipynb\"><img src=\"../4204ad542ea10490880e1cce6c44f4814247c9fc0/expr.png\" style=\"display:inline;vertical-align:middle;\" /></a></td></tr>\n",
       "<tr><td>13</td><td>Literal</td><td></td><td><a class=\"ProveItLink\" href=\"../../../../../booleans/conjunction/__pv_it/common/42118ff318bd65d98b1393f64ce7c2269feef76e0/expr.ipynb\"><img src=\"../../../../../booleans/conjunction/__pv_it/common/42118ff318bd65d98b1393f64ce7c2269feef76e0/expr.png\" style=\"display:inline;vertical-align:middle;\" /></a></td></tr>\n",
       "<tr><td>14</td><td>ExprTuple</td><td>15, 16</td><td><a class=\"ProveItLink\" href=\"../fc22499c19e37d38ec4cd3a061979d7fbfcd70cb0/expr.ipynb\"><img src=\"../fc22499c19e37d38ec4cd3a061979d7fbfcd70cb0/expr.png\" style=\"display:inline;vertical-align:middle;\" /></a></td></tr>\n",
       "<tr><td>15</td><td>Operation</td><td>operator:&nbsp;24<br>operands:&nbsp;32<br></td><td><a class=\"ProveItLink\" href=\"../dfe9492a136c70127e6b8a8b19bf8bf08c02b0d50/expr.ipynb\"><img src=\"../dfe9492a136c70127e6b8a8b19bf8bf08c02b0d50/expr.png\" style=\"display:inline;vertical-align:middle;\" /></a></td></tr>\n",
       "<tr><td>16</td><td>Operation</td><td>operator:&nbsp;17<br>operand:&nbsp;19<br></td><td><a class=\"ProveItLink\" href=\"../24f166f3085710559f4402be849ff0cd29e7f8020/expr.ipynb\"><img src=\"../24f166f3085710559f4402be849ff0cd29e7f8020/expr.png\" style=\"display:inline;vertical-align:middle;\" /></a></td></tr>\n",
       "<tr><td>17</td><td>Literal</td><td></td><td><a class=\"ProveItLink\" href=\"../../../../../booleans/quantification/universality/__pv_it/common/083d2baa0b8ecab1d230f9ec29a15aa1355809fb0/expr.ipynb\"><img src=\"../../../../../booleans/quantification/universality/__pv_it/common/083d2baa0b8ecab1d230f9ec29a15aa1355809fb0/expr.png\" style=\"display:inline;vertical-align:middle;\" /></a></td></tr>\n",
       "<tr><td>18</td><td>ExprTuple</td><td>19</td><td><a class=\"ProveItLink\" href=\"../876c0ca01887994f46a133893987d72a655e6aa00/expr.ipynb\"><img src=\"../876c0ca01887994f46a133893987d72a655e6aa00/expr.png\" style=\"display:inline;vertical-align:middle;\" /></a></td></tr>\n",
       "<tr><td>19</td><td>Lambda</td><td>parameter:&nbsp;29<br>body:&nbsp;21<br></td><td><a class=\"ProveItLink\" href=\"../3ff835129288ee554209df076f2396b4eded8a690/expr.ipynb\"><img src=\"../3ff835129288ee554209df076f2396b4eded8a690/expr.png\" style=\"display:inline;vertical-align:middle;\" /></a></td></tr>\n",
       "<tr><td>20</td><td>ExprTuple</td><td>29</td><td><a class=\"ProveItLink\" href=\"../db9f0ed68786c332572391edc1a73892f9a9c8f90/expr.ipynb\"><img src=\"../db9f0ed68786c332572391edc1a73892f9a9c8f90/expr.png\" style=\"display:inline;vertical-align:middle;\" /></a></td></tr>\n",
       "<tr><td>21</td><td>Conditional</td><td>value:&nbsp;22<br>condition:&nbsp;23<br></td><td><a class=\"ProveItLink\" href=\"../24804a75d46ce54921e5d5bd26f77aa4eb92218f0/expr.ipynb\"><img src=\"../24804a75d46ce54921e5d5bd26f77aa4eb92218f0/expr.png\" style=\"display:inline;vertical-align:middle;\" /></a></td></tr>\n",
       "<tr><td>22</td><td>Operation</td><td>operator:&nbsp;24<br>operands:&nbsp;25<br></td><td><a class=\"ProveItLink\" href=\"../756e462bec57ded71e725e58970b8207360655240/expr.ipynb\"><img src=\"../756e462bec57ded71e725e58970b8207360655240/expr.png\" style=\"display:inline;vertical-align:middle;\" /></a></td></tr>\n",
       "<tr><td>23</td><td>Operation</td><td>operator:&nbsp;26<br>operands:&nbsp;27<br></td><td><a class=\"ProveItLink\" href=\"../edbacfd90d5f720a6f334ea77fe7fb7456a7f33f0/expr.ipynb\"><img src=\"../edbacfd90d5f720a6f334ea77fe7fb7456a7f33f0/expr.png\" style=\"display:inline;vertical-align:middle;\" /></a></td></tr>\n",
       "<tr><td>24</td><td>Literal</td><td></td><td><a class=\"ProveItLink\" href=\"../../common/13e387fcf80c73e6cdeaf71ec8ea61a3061a80520/expr.ipynb\"><img src=\"../../common/13e387fcf80c73e6cdeaf71ec8ea61a3061a80520/expr.png\" style=\"display:inline;vertical-align:middle;\" /></a></td></tr>\n",
       "<tr><td>25</td><td>ExprTuple</td><td>29, 28</td><td><a class=\"ProveItLink\" href=\"../a00a2e265e946340d8f5496153c805a5f76f42d50/expr.ipynb\"><img src=\"../a00a2e265e946340d8f5496153c805a5f76f42d50/expr.png\" style=\"display:inline;vertical-align:middle;\" /></a></td></tr>\n",
       "<tr><td>26</td><td>Literal</td><td></td><td><a class=\"ProveItLink\" href=\"../../../../membership/__pv_it/common/477487d8796864d23d5810f83761435f25167f690/expr.ipynb\"><img src=\"../../../../membership/__pv_it/common/477487d8796864d23d5810f83761435f25167f690/expr.png\" style=\"display:inline;vertical-align:middle;\" /></a></td></tr>\n",
       "<tr><td>27</td><td>ExprTuple</td><td>29, 30</td><td><a class=\"ProveItLink\" href=\"../7ee268a8797ee7cf51326b699ee171eab20230f40/expr.ipynb\"><img src=\"../7ee268a8797ee7cf51326b699ee171eab20230f40/expr.png\" style=\"display:inline;vertical-align:middle;\" /></a></td></tr>\n",
       "<tr><td>28</td><td>Variable</td><td></td><td><a class=\"ProveItLink\" href=\"../../../../../../__pv_it/common/a9162d1c3cc0470c02e5daf414500903a7a419230/expr.ipynb\"><img src=\"../../../../../../__pv_it/common/a9162d1c3cc0470c02e5daf414500903a7a419230/expr.png\" style=\"display:inline;vertical-align:middle;\" /></a></td></tr>\n",
       "<tr><td>29</td><td>Variable</td><td></td><td><a class=\"ProveItLink\" href=\"../../../../../../__pv_it/common/f1ca094affb79f5011ff4d63eb4e121bfbde7f330/expr.ipynb\"><img src=\"../../../../../../__pv_it/common/f1ca094affb79f5011ff4d63eb4e121bfbde7f330/expr.png\" style=\"display:inline;vertical-align:middle;\" /></a></td></tr>\n",
       "<tr><td>30</td><td>Operation</td><td>operator:&nbsp;31<br>operands:&nbsp;32<br></td><td><a class=\"ProveItLink\" href=\"../f2a693bbb9c1aaba9dda093c29882a59975a131e0/expr.ipynb\"><img src=\"../f2a693bbb9c1aaba9dda093c29882a59975a131e0/expr.png\" style=\"display:inline;vertical-align:middle;\" /></a></td></tr>\n",
       "<tr><td>31</td><td>Literal</td><td></td><td><a class=\"ProveItLink\" href=\"../../../../enumeration/__pv_it/common/0ead90ccbf4f17bc585a51f8aa904bb77916ae6e0/expr.ipynb\"><img src=\"../../../../enumeration/__pv_it/common/0ead90ccbf4f17bc585a51f8aa904bb77916ae6e0/expr.png\" style=\"display:inline;vertical-align:middle;\" /></a></td></tr>\n",
       "<tr><td>32</td><td>ExprTuple</td><td>33</td><td><a class=\"ProveItLink\" href=\"../218b49ecc2fcb674f5eb724d523a787df9bde9a00/expr.ipynb\"><img src=\"../218b49ecc2fcb674f5eb724d523a787df9bde9a00/expr.png\" style=\"display:inline;vertical-align:middle;\" /></a></td></tr>\n",
       "<tr><td>33</td><td>ExprRange</td><td>lambda_map:&nbsp;34<br>start_index:&nbsp;35<br>end_index:&nbsp;36<br></td><td><a class=\"ProveItLink\" href=\"../../../../../../core_expr_types/__pv_it/common/eaccd55f312202b1e754429bdfeaf22333037c330/expr.ipynb\"><img src=\"../../../../../../core_expr_types/__pv_it/common/eaccd55f312202b1e754429bdfeaf22333037c330/expr.png\" style=\"display:inline;vertical-align:middle;\" /></a></td></tr>\n",
       "<tr><td>34</td><td>Lambda</td><td>parameter:&nbsp;40<br>body:&nbsp;37<br></td><td><a class=\"ProveItLink\" href=\"../../../../../../core_expr_types/__pv_it/common/9332289e845003c758afc3bcee43498ae784f2d90/expr.ipynb\"><img src=\"../../../../../../core_expr_types/__pv_it/common/9332289e845003c758afc3bcee43498ae784f2d90/expr.png\" style=\"display:inline;vertical-align:middle;\" /></a></td></tr>\n",
       "<tr><td>35</td><td>Literal</td><td></td><td><a class=\"ProveItLink\" href=\"../../../../../../numbers/numerals/__pv_it/common/682157d4892d216d9e5626ed533aff9b56b9506e0/expr.ipynb\"><img src=\"../../../../../../numbers/numerals/__pv_it/common/682157d4892d216d9e5626ed533aff9b56b9506e0/expr.png\" style=\"display:inline;vertical-align:middle;\" /></a></td></tr>\n",
       "<tr><td>36</td><td>Variable</td><td></td><td><a class=\"ProveItLink\" href=\"../../../../../../__pv_it/common/674a03b9c3ca221b3aabd5636837b31528ff33830/expr.ipynb\"><img src=\"../../../../../../__pv_it/common/674a03b9c3ca221b3aabd5636837b31528ff33830/expr.png\" style=\"display:inline;vertical-align:middle;\" /></a></td></tr>\n",
       "<tr><td>37</td><td>IndexedVar</td><td>variable:&nbsp;38<br>index:&nbsp;40<br></td><td><a class=\"ProveItLink\" href=\"../../../../../../core_expr_types/__pv_it/common/9fdaaadf1b3d81a308244818dc08833e7f5035730/expr.ipynb\"><img src=\"../../../../../../core_expr_types/__pv_it/common/9fdaaadf1b3d81a308244818dc08833e7f5035730/expr.png\" style=\"display:inline;vertical-align:middle;\" /></a></td></tr>\n",
       "<tr><td>38</td><td>Variable</td><td></td><td><a class=\"ProveItLink\" href=\"../../../../../../__pv_it/common/09585084922504426caf1db2ff588a23a0932a960/expr.ipynb\"><img src=\"../../../../../../__pv_it/common/09585084922504426caf1db2ff588a23a0932a960/expr.png\" style=\"display:inline;vertical-align:middle;\" /></a></td></tr>\n",
       "<tr><td>39</td><td>ExprTuple</td><td>40</td><td><a class=\"ProveItLink\" href=\"../../../../../../core_expr_types/__pv_it/common/4b0dd6be36d76552eda6a95d5b4a27f5a5b62f900/expr.ipynb\"><img src=\"../../../../../../core_expr_types/__pv_it/common/4b0dd6be36d76552eda6a95d5b4a27f5a5b62f900/expr.png\" style=\"display:inline;vertical-align:middle;\" /></a></td></tr>\n",
       "<tr><td>40</td><td>Variable</td><td></td><td><a class=\"ProveItLink\" href=\"../../../../../../core_expr_types/__pv_it/common/006c465e50948aa2b52285e2de47974f741255cc0/expr.ipynb\"><img src=\"../../../../../../core_expr_types/__pv_it/common/006c465e50948aa2b52285e2de47974f741255cc0/expr.png\" style=\"display:inline;vertical-align:middle;\" /></a></td></tr>\n",
       "</table>\n"
      ],
      "text/plain": [
       "0. {forall_{A_{1}, A_{2}, ..., A_{m}, B} (disjoint(A_{1}, A_{2}, ..., A_{m}, B) <=>  \\\\ (disjoint(A_{1}, A_{2}, ..., A_{m}) and [forall_{X in {A_{1}, A_{2}, ..., A_{m}}} disjoint(X, B)])) if m in Natural.\n",
       "   core type: Conditional\n",
       "   value: 1\n",
       "   condition: 2\n",
       "1. forall_{A_{1}, A_{2}, ..., A_{m}, B} (disjoint(A_{1}, A_{2}, ..., A_{m}, B) <=>  \\\\ (disjoint(A_{1}, A_{2}, ..., A_{m}) and [forall_{X in {A_{1}, A_{2}, ..., A_{m}}} disjoint(X, B)]))\n",
       "   core type: Operation\n",
       "   operator: 17\n",
       "   operand: 5\n",
       "2. m in Natural\n",
       "   core type: Operation\n",
       "   operator: 26\n",
       "   operands: 4\n",
       "3. ((A_{1}, A_{2}, ..., A_{m}, B) -> (disjoint(A_{1}, A_{2}, ..., A_{m}, B) <=>  \\\\ (disjoint(A_{1}, A_{2}, ..., A_{m}) and [forall_{X in {A_{1}, A_{2}, ..., A_{m}}} disjoint(X, B)])))\n",
       "   core type: ExprTuple\n",
       "   sub-expressions: 5\n",
       "4. (m, Natural)\n",
       "   core type: ExprTuple\n",
       "   sub-expressions: 36, 6\n",
       "5. (A_{1}, A_{2}, ..., A_{m}, B) -> (disjoint(A_{1}, A_{2}, ..., A_{m}, B) <=>  \\\\ (disjoint(A_{1}, A_{2}, ..., A_{m}) and [forall_{X in {A_{1}, A_{2}, ..., A_{m}}} disjoint(X, B)]))\n",
       "   core type: Lambda\n",
       "   parameters: 12\\n   body: 7\n",
       "6. Natural\n",
       "   core type: Literal\n",
       "   sub-expressions: \n",
       "7. disjoint(A_{1}, A_{2}, ..., A_{m}, B) <=>  \\\\ (disjoint(A_{1}, A_{2}, ..., A_{m}) and [forall_{X in {A_{1}, A_{2}, ..., A_{m}}} disjoint(X, B)])\n",
       "   core type: Operation\n",
       "   operator: 8\n",
       "   operands: 9\n",
       "8. <=>\n",
       "   core type: Literal\n",
       "   sub-expressions: \n",
       "9. (disjoint(A_{1}, A_{2}, ..., A_{m}, B), disjoint(A_{1}, A_{2}, ..., A_{m}) and [forall_{X in {A_{1}, A_{2}, ..., A_{m}}} disjoint(X, B)])\n",
       "   core type: ExprTuple\n",
       "   sub-expressions: 10, 11\n",
       "10. disjoint(A_{1}, A_{2}, ..., A_{m}, B)\n",
       "    core type: Operation\n",
       "    operator: 24\n",
       "    operands: 12\n",
       "11. disjoint(A_{1}, A_{2}, ..., A_{m}) and [forall_{X in {A_{1}, A_{2}, ..., A_{m}}} disjoint(X, B)]\n",
       "    core type: Operation\n",
       "    operator: 13\n",
       "    operands: 14\n",
       "12. (A_{1}, A_{2}, ..., A_{m}, B)\n",
       "    core type: ExprTuple\n",
       "    sub-expressions: 33, 28\n",
       "13. and\n",
       "    core type: Literal\n",
       "    sub-expressions: \n",
       "14. (disjoint(A_{1}, A_{2}, ..., A_{m}), forall_{X in {A_{1}, A_{2}, ..., A_{m}}} disjoint(X, B))\n",
       "    core type: ExprTuple\n",
       "    sub-expressions: 15, 16\n",
       "15. disjoint(A_{1}, A_{2}, ..., A_{m})\n",
       "    core type: Operation\n",
       "    operator: 24\n",
       "    operands: 32\n",
       "16. forall_{X in {A_{1}, A_{2}, ..., A_{m}}} disjoint(X, B)\n",
       "    core type: Operation\n",
       "    operator: 17\n",
       "    operand: 19\n",
       "17. forall\n",
       "    core type: Literal\n",
       "    sub-expressions: \n",
       "18. (X -> {disjoint(X, B) if X in {A_{1}, A_{2}, ..., A_{m}}.)\n",
       "    core type: ExprTuple\n",
       "    sub-expressions: 19\n",
       "19. X -> {disjoint(X, B) if X in {A_{1}, A_{2}, ..., A_{m}}.\n",
       "    core type: Lambda\n",
       "    parameter: 29\n",
       "    body: 21\n",
       "20. (X)\n",
       "    core type: ExprTuple\n",
       "    sub-expressions: 29\n",
       "21. {disjoint(X, B) if X in {A_{1}, A_{2}, ..., A_{m}}.\n",
       "    core type: Conditional\n",
       "    value: 22\n",
       "    condition: 23\n",
       "22. disjoint(X, B)\n",
       "    core type: Operation\n",
       "    operator: 24\n",
       "    operands: 25\n",
       "23. X in {A_{1}, A_{2}, ..., A_{m}}\n",
       "    core type: Operation\n",
       "    operator: 26\n",
       "    operands: 27\n",
       "24. disjoint\n",
       "    core type: Literal\n",
       "    sub-expressions: \n",
       "25. (X, B)\n",
       "    core type: ExprTuple\n",
       "    sub-expressions: 29, 28\n",
       "26. in\n",
       "    core type: Literal\n",
       "    sub-expressions: \n",
       "27. (X, {A_{1}, A_{2}, ..., A_{m}})\n",
       "    core type: ExprTuple\n",
       "    sub-expressions: 29, 30\n",
       "28. B\n",
       "    core type: Variable\n",
       "    sub-expressions: \n",
       "29. X\n",
       "    core type: Variable\n",
       "    sub-expressions: \n",
       "30. {A_{1}, A_{2}, ..., A_{m}}\n",
       "    core type: Operation\n",
       "    operator: 31\n",
       "    operands: 32\n",
       "31. Set\n",
       "    core type: Literal\n",
       "    sub-expressions: \n",
       "32. (A_{1}, A_{2}, ..., A_{m})\n",
       "    core type: ExprTuple\n",
       "    sub-expressions: 33\n",
       "33. A_{1}, A_{2}, ..., A_{m}\n",
       "    core type: ExprRange\n",
       "    lambda_map: 34\n",
       "    start_index: 35\n",
       "    end_index: 36\n",
       "34. _a -> A_{_a}\n",
       "    core type: Lambda\n",
       "    parameter: 40\n",
       "    body: 37\n",
       "35. 1\n",
       "    core type: Literal\n",
       "    sub-expressions: \n",
       "36. m\n",
       "    core type: Variable\n",
       "    sub-expressions: \n",
       "37. A_{_a}\n",
       "    core type: IndexedVar\n",
       "variable: 38\n",
       "index: 40\n",
       "38. A\n",
       "    core type: Variable\n",
       "    sub-expressions: \n",
       "39. (_a)\n",
       "    core type: ExprTuple\n",
       "    sub-expressions: 40\n",
       "40. _a\n",
       "    core type: Variable\n",
       "    sub-expressions: "
      ]
     },
     "metadata": {},
     "output_type": "display_data"
    }
   ],
   "source": [
    "# display the expression information\n",
    "stored_expr.expr_info()"
   ]
  },
  {
   "cell_type": "code",
   "execution_count": null,
   "metadata": {},
   "outputs": [],
   "source": []
  }
 ],
 "metadata": {
  "kernelspec": {
   "display_name": "Python 3",
   "language": "python",
   "name": "python3"
  }
 },
 "nbformat": 4,
 "nbformat_minor": 0
}