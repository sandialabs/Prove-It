{
 "cells": [
  {
   "cell_type": "markdown",
   "metadata": {},
   "source": [
    "Expression of type <a class=\"ProveItLink\" href=\"../../../../../../../doc/html/api/proveit.ExprTuple.html\">ExprTuple</a>\n",
    "=======================\n",
    "# from the theory of <a class=\"ProveItLink\" href=\"../../../_theory_nbs_/theory.ipynb\">proveit.logic.sets</a>"
   ]
  },
  {
   "cell_type": "code",
   "execution_count": 1,
   "metadata": {},
   "outputs": [],
   "source": [
    "import proveit\n",
    "# Automation is not needed when building an expression:\n",
    "proveit.defaults.automation = False # This will speed things up.\n",
    "proveit.defaults.inline_pngs = False # Makes files smaller.\n",
    "%load_expr # Load the stored expression as 'stored_expr'\n",
    "# import Expression classes needed to build the expression\n",
    "from proveit import A, ExprTuple, S, x\n",
    "from proveit.logic import InSet, Or, Union"
   ]
  },
  {
   "cell_type": "code",
   "execution_count": 2,
   "metadata": {},
   "outputs": [
    {
     "data": {
      "text/html": [
       "<strong id=\"expr\">expr:</strong> <a class=\"ProveItLink\" href=\"expr.ipynb\"><img src=\"expr.png\" style=\"display:inline;vertical-align:middle;\" /></a><br>"
      ],
      "text/plain": [
       "<IPython.core.display.HTML object>"
      ]
     },
     "metadata": {},
     "output_type": "display_data"
    }
   ],
   "source": [
    "# build up the expression from sub-expressions\n",
    "expr = ExprTuple(InSet(x, Union(A, S)), Or(InSet(x, A), InSet(x, S)))"
   ]
  },
  {
   "cell_type": "code",
   "execution_count": 3,
   "metadata": {},
   "outputs": [
    {
     "name": "stdout",
     "output_type": "stream",
     "text": [
      "Passed sanity check: expr matches stored_expr\n"
     ]
    }
   ],
   "source": [
    "# check that the built expression is the same as the stored expression\n",
    "assert expr == stored_expr\n",
    "assert expr._style_id == stored_expr._style_id\n",
    "print(\"Passed sanity check: expr matches stored_expr\")"
   ]
  },
  {
   "cell_type": "code",
   "execution_count": 4,
   "metadata": {},
   "outputs": [
    {
     "name": "stdout",
     "output_type": "stream",
     "text": [
      "\\left(x \\in \\left(A \\cup S\\right), \\left(x \\in A\\right) \\lor \\left(x \\in S\\right)\\right)\n"
     ]
    }
   ],
   "source": [
    "# Show the LaTeX representation of the expression for convenience if you need it.\n",
    "print(stored_expr.latex())"
   ]
  },
  {
   "cell_type": "code",
   "execution_count": 5,
   "metadata": {},
   "outputs": [
    {
     "data": {
      "text/html": [
       "<table>\n",
       "<tr><th>name</th><th>description</th><th>default</th><th>current value</th><th>related methods</th></tr><tr><td>wrap_positions</td><td>position(s) at which wrapping is to occur; 'n' is after the nth comma.</td><td>()</td><td>()</td><td>('with_wrapping_at',)</td></tr>\n",
       "<tr><td>justification</td><td>if any wrap positions are set, justify to the 'left', 'center', or 'right'</td><td>left</td><td>left</td><td>('with_justification',)</td></tr>\n",
       "</table>\n"
      ],
      "text/plain": [
       "style name: wrap_positions\n",
       "description: position(s) at which wrapping is to occur; 'n' is after the nth comma.\n",
       "default: ()\n",
       "current value: ()\n",
       "related methods: ('with_wrapping_at',)\n",
       "style name: justification\n",
       "description: if any wrap positions are set, justify to the 'left', 'center', or 'right'\n",
       "default: left\n",
       "current value: left\n",
       "related methods: ('with_justification',)"
      ]
     },
     "metadata": {},
     "output_type": "display_data"
    }
   ],
   "source": [
    "stored_expr.style_options()"
   ]
  },
  {
   "cell_type": "code",
   "execution_count": 6,
   "metadata": {},
   "outputs": [
    {
     "data": {
      "text/html": [
       "<table><tr><th>&nbsp;</th><th>core type</th><th>sub-expressions</th><th>expression</th></tr>\n",
       "<tr><td>0</td><td>ExprTuple</td><td>1, 2</td><td><a class=\"ProveItLink\" href=\"expr.ipynb\"><img src=\"expr.png\" style=\"display:inline;vertical-align:middle;\" /></a></td></tr>\n",
       "<tr><td>1</td><td>Operation</td><td>operator:&nbsp;12<br>operands:&nbsp;3<br></td><td><a class=\"ProveItLink\" href=\"../3aff85c2f1d09e9ed2980088ebb13ab59339c0840/expr.ipynb\"><img src=\"../3aff85c2f1d09e9ed2980088ebb13ab59339c0840/expr.png\" style=\"display:inline;vertical-align:middle;\" /></a></td></tr>\n",
       "<tr><td>2</td><td>Operation</td><td>operator:&nbsp;4<br>operands:&nbsp;5<br></td><td><a class=\"ProveItLink\" href=\"../03444ddf05bb3e76ac8f65a0874e0ed494e6038a0/expr.ipynb\"><img src=\"../03444ddf05bb3e76ac8f65a0874e0ed494e6038a0/expr.png\" style=\"display:inline;vertical-align:middle;\" /></a></td></tr>\n",
       "<tr><td>3</td><td>ExprTuple</td><td>15, 6</td><td><a class=\"ProveItLink\" href=\"../c26456a2c7f9f4b6b6e974b0ad9b6b55e003e6b80/expr.ipynb\"><img src=\"../c26456a2c7f9f4b6b6e974b0ad9b6b55e003e6b80/expr.png\" style=\"display:inline;vertical-align:middle;\" /></a></td></tr>\n",
       "<tr><td>4</td><td>Literal</td><td></td><td><a class=\"ProveItLink\" href=\"../../../../booleans/disjunction/__pv_it/common/ef8e59262ff8e0133aa1ca984dd6b3a41bf69d5b0/expr.ipynb\"><img src=\"../../../../booleans/disjunction/__pv_it/common/ef8e59262ff8e0133aa1ca984dd6b3a41bf69d5b0/expr.png\" style=\"display:inline;vertical-align:middle;\" /></a></td></tr>\n",
       "<tr><td>5</td><td>ExprTuple</td><td>7, 8</td><td><a class=\"ProveItLink\" href=\"../65242ba3e03751705cffdd664448a964942d13770/expr.ipynb\"><img src=\"../65242ba3e03751705cffdd664448a964942d13770/expr.png\" style=\"display:inline;vertical-align:middle;\" /></a></td></tr>\n",
       "<tr><td>6</td><td>Operation</td><td>operator:&nbsp;9<br>operands:&nbsp;10<br></td><td><a class=\"ProveItLink\" href=\"../../theorems/48ffa39f38731353768c87e8a9ca127cd55cfd3d0/expr.ipynb\"><img src=\"../../theorems/48ffa39f38731353768c87e8a9ca127cd55cfd3d0/expr.png\" style=\"display:inline;vertical-align:middle;\" /></a></td></tr>\n",
       "<tr><td>7</td><td>Operation</td><td>operator:&nbsp;12<br>operands:&nbsp;11<br></td><td><a class=\"ProveItLink\" href=\"../../../inclusion/__pv_it/theorems/bffc8f58d953dcb8331468867a32979a833e73840/expr.ipynb\"><img src=\"../../../inclusion/__pv_it/theorems/bffc8f58d953dcb8331468867a32979a833e73840/expr.png\" style=\"display:inline;vertical-align:middle;\" /></a></td></tr>\n",
       "<tr><td>8</td><td>Operation</td><td>operator:&nbsp;12<br>operands:&nbsp;13<br></td><td><a class=\"ProveItLink\" href=\"../e15daefd530e6af1913a3a751ea70ed093591b3d0/expr.ipynb\"><img src=\"../e15daefd530e6af1913a3a751ea70ed093591b3d0/expr.png\" style=\"display:inline;vertical-align:middle;\" /></a></td></tr>\n",
       "<tr><td>9</td><td>Literal</td><td></td><td><a class=\"ProveItLink\" href=\"../../../unification/__pv_it/common/107121809b4c0da74aebbd3977266676ee980ebe0/expr.ipynb\"><img src=\"../../../unification/__pv_it/common/107121809b4c0da74aebbd3977266676ee980ebe0/expr.png\" style=\"display:inline;vertical-align:middle;\" /></a></td></tr>\n",
       "<tr><td>10</td><td>ExprTuple</td><td>14, 16</td><td><a class=\"ProveItLink\" href=\"../../theorems/262dfa810751624f415d9d51eca57396a0cc9a760/expr.ipynb\"><img src=\"../../theorems/262dfa810751624f415d9d51eca57396a0cc9a760/expr.png\" style=\"display:inline;vertical-align:middle;\" /></a></td></tr>\n",
       "<tr><td>11</td><td>ExprTuple</td><td>15, 14</td><td><a class=\"ProveItLink\" href=\"../../../inclusion/__pv_it/theorems/dd56fa97225795c53cc6b814c99b8e98e0e999f10/expr.ipynb\"><img src=\"../../../inclusion/__pv_it/theorems/dd56fa97225795c53cc6b814c99b8e98e0e999f10/expr.png\" style=\"display:inline;vertical-align:middle;\" /></a></td></tr>\n",
       "<tr><td>12</td><td>Literal</td><td></td><td><a class=\"ProveItLink\" href=\"../../../membership/__pv_it/common/477487d8796864d23d5810f83761435f25167f690/expr.ipynb\"><img src=\"../../../membership/__pv_it/common/477487d8796864d23d5810f83761435f25167f690/expr.png\" style=\"display:inline;vertical-align:middle;\" /></a></td></tr>\n",
       "<tr><td>13</td><td>ExprTuple</td><td>15, 16</td><td><a class=\"ProveItLink\" href=\"../c7c06b26a27420fe15bf7758f31a7b4d4d978d0b0/expr.ipynb\"><img src=\"../c7c06b26a27420fe15bf7758f31a7b4d4d978d0b0/expr.png\" style=\"display:inline;vertical-align:middle;\" /></a></td></tr>\n",
       "<tr><td>14</td><td>Variable</td><td></td><td><a class=\"ProveItLink\" href=\"../../../../../__pv_it/common/09585084922504426caf1db2ff588a23a0932a960/expr.ipynb\"><img src=\"../../../../../__pv_it/common/09585084922504426caf1db2ff588a23a0932a960/expr.png\" style=\"display:inline;vertical-align:middle;\" /></a></td></tr>\n",
       "<tr><td>15</td><td>Variable</td><td></td><td><a class=\"ProveItLink\" href=\"../../../../../__pv_it/common/a0d9d672aa5e272d907247690c152cc2c6daafb70/expr.ipynb\"><img src=\"../../../../../__pv_it/common/a0d9d672aa5e272d907247690c152cc2c6daafb70/expr.png\" style=\"display:inline;vertical-align:middle;\" /></a></td></tr>\n",
       "<tr><td>16</td><td>Variable</td><td></td><td><a class=\"ProveItLink\" href=\"../../../../../__pv_it/common/38f47c5670ea8c5b56253448e95d8afb56bc09b40/expr.ipynb\"><img src=\"../../../../../__pv_it/common/38f47c5670ea8c5b56253448e95d8afb56bc09b40/expr.png\" style=\"display:inline;vertical-align:middle;\" /></a></td></tr>\n",
       "</table>\n"
      ],
      "text/plain": [
       "0. (x in (A union S), (x in A) or (x in S))\n",
       "   core type: ExprTuple\n",
       "   sub-expressions: 1, 2\n",
       "1. x in (A union S)\n",
       "   core type: Operation\n",
       "   operator: 12\n",
       "   operands: 3\n",
       "2. (x in A) or (x in S)\n",
       "   core type: Operation\n",
       "   operator: 4\n",
       "   operands: 5\n",
       "3. (x, A union S)\n",
       "   core type: ExprTuple\n",
       "   sub-expressions: 15, 6\n",
       "4. or\n",
       "   core type: Literal\n",
       "   sub-expressions: \n",
       "5. (x in A, x in S)\n",
       "   core type: ExprTuple\n",
       "   sub-expressions: 7, 8\n",
       "6. A union S\n",
       "   core type: Operation\n",
       "   operator: 9\n",
       "   operands: 10\n",
       "7. x in A\n",
       "   core type: Operation\n",
       "   operator: 12\n",
       "   operands: 11\n",
       "8. x in S\n",
       "   core type: Operation\n",
       "   operator: 12\n",
       "   operands: 13\n",
       "9. union\n",
       "   core type: Literal\n",
       "   sub-expressions: \n",
       "10. (A, S)\n",
       "    core type: ExprTuple\n",
       "    sub-expressions: 14, 16\n",
       "11. (x, A)\n",
       "    core type: ExprTuple\n",
       "    sub-expressions: 15, 14\n",
       "12. in\n",
       "    core type: Literal\n",
       "    sub-expressions: \n",
       "13. (x, S)\n",
       "    core type: ExprTuple\n",
       "    sub-expressions: 15, 16\n",
       "14. A\n",
       "    core type: Variable\n",
       "    sub-expressions: \n",
       "15. x\n",
       "    core type: Variable\n",
       "    sub-expressions: \n",
       "16. S\n",
       "    core type: Variable\n",
       "    sub-expressions: "
      ]
     },
     "metadata": {},
     "output_type": "display_data"
    }
   ],
   "source": [
    "# display the expression information\n",
    "stored_expr.expr_info()"
   ]
  },
  {
   "cell_type": "code",
   "execution_count": null,
   "metadata": {},
   "outputs": [],
   "source": []
  }
 ],
 "metadata": {
  "kernelspec": {
   "display_name": "Python 3",
   "language": "python",
   "name": "python3"
  }
 },
 "nbformat": 4,
 "nbformat_minor": 0
}