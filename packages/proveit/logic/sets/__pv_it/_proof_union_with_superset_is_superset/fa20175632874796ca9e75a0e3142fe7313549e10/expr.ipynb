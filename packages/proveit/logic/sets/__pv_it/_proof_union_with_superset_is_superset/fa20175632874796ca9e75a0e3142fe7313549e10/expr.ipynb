{
 "cells": [
  {
   "cell_type": "markdown",
   "metadata": {},
   "source": [
    "Expression of type <a class=\"ProveItLink\" href=\"../../../../../../../doc/html/api/proveit.logic.Equals.html\">Equals</a>\n",
    "=======================\n",
    "# from the theory of <a class=\"ProveItLink\" href=\"../../../_theory_nbs_/theory.ipynb\">proveit.logic.sets</a>"
   ]
  },
  {
   "cell_type": "code",
   "execution_count": 1,
   "metadata": {},
   "outputs": [],
   "source": [
    "import proveit\n",
    "# Automation is not needed when building an expression:\n",
    "proveit.defaults.automation = False # This will speed things up.\n",
    "proveit.defaults.inline_pngs = False # Makes files smaller.\n",
    "%load_expr # Load the stored expression as 'stored_expr'\n",
    "# import Expression classes needed to build the expression\n",
    "from proveit import A, S, x\n",
    "from proveit.logic import Equals, Forall, InSet, SetEquiv, Union"
   ]
  },
  {
   "cell_type": "code",
   "execution_count": 2,
   "metadata": {},
   "outputs": [
    {
     "data": {
      "text/html": [
       "<strong id=\"expr\">expr:</strong> <a class=\"ProveItLink\" href=\"expr.ipynb\"><img src=\"expr.png\" style=\"display:inline;vertical-align:middle;\" /></a><br>"
      ],
      "text/plain": [
       "<IPython.core.display.HTML object>"
      ]
     },
     "metadata": {},
     "output_type": "display_data"
    }
   ],
   "source": [
    "# build up the expression from sub-expressions\n",
    "sub_expr1 = Union(A, S)\n",
    "expr = Equals(SetEquiv(sub_expr1, S), Forall(instance_param_or_params = [x], instance_expr = Equals(InSet(x, sub_expr1), InSet(x, S))))"
   ]
  },
  {
   "cell_type": "code",
   "execution_count": 3,
   "metadata": {},
   "outputs": [
    {
     "name": "stdout",
     "output_type": "stream",
     "text": [
      "Passed sanity check: expr matches stored_expr\n"
     ]
    }
   ],
   "source": [
    "# check that the built expression is the same as the stored expression\n",
    "assert expr == stored_expr\n",
    "assert expr._style_id == stored_expr._style_id\n",
    "print(\"Passed sanity check: expr matches stored_expr\")"
   ]
  },
  {
   "cell_type": "code",
   "execution_count": 4,
   "metadata": {},
   "outputs": [
    {
     "name": "stdout",
     "output_type": "stream",
     "text": [
      "\\left(\\left(A \\cup S\\right) \\cong S\\right) = \\left[\\forall_{x}~\\left(\\left(x \\in \\left(A \\cup S\\right)\\right) = \\left(x \\in S\\right)\\right)\\right]\n"
     ]
    }
   ],
   "source": [
    "# Show the LaTeX representation of the expression for convenience if you need it.\n",
    "print(stored_expr.latex())"
   ]
  },
  {
   "cell_type": "code",
   "execution_count": 5,
   "metadata": {},
   "outputs": [
    {
     "data": {
      "text/html": [
       "<table>\n",
       "<tr><th>name</th><th>description</th><th>default</th><th>current value</th><th>related methods</th></tr><tr><td>operation</td><td>'infix' or 'function' style formatting</td><td>infix</td><td>infix</td><td></td></tr>\n",
       "<tr><td>wrap_positions</td><td>position(s) at which wrapping is to occur; '2 n - 1' is after the nth operand, '2 n' is after the nth operation.</td><td>()</td><td>()</td><td>('with_wrapping_at', 'with_wrap_before_operator', 'with_wrap_after_operator', 'without_wrapping', 'wrap_positions')</td></tr>\n",
       "<tr><td>justification</td><td>if any wrap positions are set, justify to the 'left', 'center', or 'right'</td><td>center</td><td>center</td><td>('with_justification',)</td></tr>\n",
       "<tr><td>direction</td><td>Direction of the relation (normal or reversed)</td><td>normal</td><td>normal</td><td>('with_direction_reversed', 'is_reversed')</td></tr>\n",
       "</table>\n"
      ],
      "text/plain": [
       "style name: operation\n",
       "description: 'infix' or 'function' style formatting\n",
       "default: infix\n",
       "current value: infix\n",
       "related methods: ()\n",
       "style name: wrap_positions\n",
       "description: position(s) at which wrapping is to occur; '2 n - 1' is after the nth operand, '2 n' is after the nth operation.\n",
       "default: ()\n",
       "current value: ()\n",
       "related methods: ('with_wrapping_at', 'with_wrap_before_operator', 'with_wrap_after_operator', 'without_wrapping', 'wrap_positions')\n",
       "style name: justification\n",
       "description: if any wrap positions are set, justify to the 'left', 'center', or 'right'\n",
       "default: center\n",
       "current value: center\n",
       "related methods: ('with_justification',)\n",
       "style name: direction\n",
       "description: Direction of the relation (normal or reversed)\n",
       "default: normal\n",
       "current value: normal\n",
       "related methods: ('with_direction_reversed', 'is_reversed')"
      ]
     },
     "metadata": {},
     "output_type": "display_data"
    }
   ],
   "source": [
    "stored_expr.style_options()"
   ]
  },
  {
   "cell_type": "code",
   "execution_count": 6,
   "metadata": {},
   "outputs": [
    {
     "data": {
      "text/html": [
       "<table><tr><th>&nbsp;</th><th>core type</th><th>sub-expressions</th><th>expression</th></tr>\n",
       "<tr><td>0</td><td>Operation</td><td>operator:&nbsp;11<br>operands:&nbsp;1<br></td><td><a class=\"ProveItLink\" href=\"expr.ipynb\"><img src=\"expr.png\" style=\"display:inline;vertical-align:middle;\" /></a></td></tr>\n",
       "<tr><td>1</td><td>ExprTuple</td><td>2, 3</td><td><a class=\"ProveItLink\" href=\"../0de19974753e5579267391d6a778b0265eece4e60/expr.ipynb\"><img src=\"../0de19974753e5579267391d6a778b0265eece4e60/expr.png\" style=\"display:inline;vertical-align:middle;\" /></a></td></tr>\n",
       "<tr><td>2</td><td>Operation</td><td>operator:&nbsp;4<br>operands:&nbsp;5<br></td><td><a class=\"ProveItLink\" href=\"../../theorems/68deffe91f5687610d5248c36fc7f5e495cf50da0/expr.ipynb\"><img src=\"../../theorems/68deffe91f5687610d5248c36fc7f5e495cf50da0/expr.png\" style=\"display:inline;vertical-align:middle;\" /></a></td></tr>\n",
       "<tr><td>3</td><td>Operation</td><td>operator:&nbsp;6<br>operand:&nbsp;8<br></td><td><a class=\"ProveItLink\" href=\"../e8431ec7f0a9e30833d22150cf6698fc08f302b50/expr.ipynb\"><img src=\"../e8431ec7f0a9e30833d22150cf6698fc08f302b50/expr.png\" style=\"display:inline;vertical-align:middle;\" /></a></td></tr>\n",
       "<tr><td>4</td><td>Literal</td><td></td><td><a class=\"ProveItLink\" href=\"../../../equivalence/__pv_it/common/5cc6dd2fea060cbc5e737001d3c9ea686013680b0/expr.ipynb\"><img src=\"../../../equivalence/__pv_it/common/5cc6dd2fea060cbc5e737001d3c9ea686013680b0/expr.png\" style=\"display:inline;vertical-align:middle;\" /></a></td></tr>\n",
       "<tr><td>5</td><td>ExprTuple</td><td>18, 23</td><td><a class=\"ProveItLink\" href=\"../../theorems/9b7850ce71b3184e375dbc6a20e50572b84426d00/expr.ipynb\"><img src=\"../../theorems/9b7850ce71b3184e375dbc6a20e50572b84426d00/expr.png\" style=\"display:inline;vertical-align:middle;\" /></a></td></tr>\n",
       "<tr><td>6</td><td>Literal</td><td></td><td><a class=\"ProveItLink\" href=\"../../../../booleans/quantification/universality/__pv_it/common/083d2baa0b8ecab1d230f9ec29a15aa1355809fb0/expr.ipynb\"><img src=\"../../../../booleans/quantification/universality/__pv_it/common/083d2baa0b8ecab1d230f9ec29a15aa1355809fb0/expr.png\" style=\"display:inline;vertical-align:middle;\" /></a></td></tr>\n",
       "<tr><td>7</td><td>ExprTuple</td><td>8</td><td><a class=\"ProveItLink\" href=\"../448c61bf170509bc6492c741299ef8db2799d81a0/expr.ipynb\"><img src=\"../448c61bf170509bc6492c741299ef8db2799d81a0/expr.png\" style=\"display:inline;vertical-align:middle;\" /></a></td></tr>\n",
       "<tr><td>8</td><td>Lambda</td><td>parameter:&nbsp;19<br>body:&nbsp;10<br></td><td><a class=\"ProveItLink\" href=\"../fec28e98251f3a3543972515e5cd02a5a207c9f30/expr.ipynb\"><img src=\"../fec28e98251f3a3543972515e5cd02a5a207c9f30/expr.png\" style=\"display:inline;vertical-align:middle;\" /></a></td></tr>\n",
       "<tr><td>9</td><td>ExprTuple</td><td>19</td><td><a class=\"ProveItLink\" href=\"../../../../../__pv_it/common/eacfeccc0521684fcb20fe8f5180ac50fca471f20/expr.ipynb\"><img src=\"../../../../../__pv_it/common/eacfeccc0521684fcb20fe8f5180ac50fca471f20/expr.png\" style=\"display:inline;vertical-align:middle;\" /></a></td></tr>\n",
       "<tr><td>10</td><td>Operation</td><td>operator:&nbsp;11<br>operands:&nbsp;12<br></td><td><a class=\"ProveItLink\" href=\"../21d9720774a26d909ac36d9a8548b7d5f462cebf0/expr.ipynb\"><img src=\"../21d9720774a26d909ac36d9a8548b7d5f462cebf0/expr.png\" style=\"display:inline;vertical-align:middle;\" /></a></td></tr>\n",
       "<tr><td>11</td><td>Literal</td><td></td><td><a class=\"ProveItLink\" href=\"../../../../equality/__pv_it/common/fb96dc12b2aa8801dda64d0132b396c63d1502bb0/expr.ipynb\"><img src=\"../../../../equality/__pv_it/common/fb96dc12b2aa8801dda64d0132b396c63d1502bb0/expr.png\" style=\"display:inline;vertical-align:middle;\" /></a></td></tr>\n",
       "<tr><td>12</td><td>ExprTuple</td><td>13, 14</td><td><a class=\"ProveItLink\" href=\"../ca396e39044969e07496be951b353d5663242ec10/expr.ipynb\"><img src=\"../ca396e39044969e07496be951b353d5663242ec10/expr.png\" style=\"display:inline;vertical-align:middle;\" /></a></td></tr>\n",
       "<tr><td>13</td><td>Operation</td><td>operator:&nbsp;16<br>operands:&nbsp;15<br></td><td><a class=\"ProveItLink\" href=\"../3aff85c2f1d09e9ed2980088ebb13ab59339c0840/expr.ipynb\"><img src=\"../3aff85c2f1d09e9ed2980088ebb13ab59339c0840/expr.png\" style=\"display:inline;vertical-align:middle;\" /></a></td></tr>\n",
       "<tr><td>14</td><td>Operation</td><td>operator:&nbsp;16<br>operands:&nbsp;17<br></td><td><a class=\"ProveItLink\" href=\"../e15daefd530e6af1913a3a751ea70ed093591b3d0/expr.ipynb\"><img src=\"../e15daefd530e6af1913a3a751ea70ed093591b3d0/expr.png\" style=\"display:inline;vertical-align:middle;\" /></a></td></tr>\n",
       "<tr><td>15</td><td>ExprTuple</td><td>19, 18</td><td><a class=\"ProveItLink\" href=\"../c26456a2c7f9f4b6b6e974b0ad9b6b55e003e6b80/expr.ipynb\"><img src=\"../c26456a2c7f9f4b6b6e974b0ad9b6b55e003e6b80/expr.png\" style=\"display:inline;vertical-align:middle;\" /></a></td></tr>\n",
       "<tr><td>16</td><td>Literal</td><td></td><td><a class=\"ProveItLink\" href=\"../../../membership/__pv_it/common/477487d8796864d23d5810f83761435f25167f690/expr.ipynb\"><img src=\"../../../membership/__pv_it/common/477487d8796864d23d5810f83761435f25167f690/expr.png\" style=\"display:inline;vertical-align:middle;\" /></a></td></tr>\n",
       "<tr><td>17</td><td>ExprTuple</td><td>19, 23</td><td><a class=\"ProveItLink\" href=\"../c7c06b26a27420fe15bf7758f31a7b4d4d978d0b0/expr.ipynb\"><img src=\"../c7c06b26a27420fe15bf7758f31a7b4d4d978d0b0/expr.png\" style=\"display:inline;vertical-align:middle;\" /></a></td></tr>\n",
       "<tr><td>18</td><td>Operation</td><td>operator:&nbsp;20<br>operands:&nbsp;21<br></td><td><a class=\"ProveItLink\" href=\"../../theorems/48ffa39f38731353768c87e8a9ca127cd55cfd3d0/expr.ipynb\"><img src=\"../../theorems/48ffa39f38731353768c87e8a9ca127cd55cfd3d0/expr.png\" style=\"display:inline;vertical-align:middle;\" /></a></td></tr>\n",
       "<tr><td>19</td><td>Variable</td><td></td><td><a class=\"ProveItLink\" href=\"../../../../../__pv_it/common/a0d9d672aa5e272d907247690c152cc2c6daafb70/expr.ipynb\"><img src=\"../../../../../__pv_it/common/a0d9d672aa5e272d907247690c152cc2c6daafb70/expr.png\" style=\"display:inline;vertical-align:middle;\" /></a></td></tr>\n",
       "<tr><td>20</td><td>Literal</td><td></td><td><a class=\"ProveItLink\" href=\"../../../unification/__pv_it/common/107121809b4c0da74aebbd3977266676ee980ebe0/expr.ipynb\"><img src=\"../../../unification/__pv_it/common/107121809b4c0da74aebbd3977266676ee980ebe0/expr.png\" style=\"display:inline;vertical-align:middle;\" /></a></td></tr>\n",
       "<tr><td>21</td><td>ExprTuple</td><td>22, 23</td><td><a class=\"ProveItLink\" href=\"../../theorems/262dfa810751624f415d9d51eca57396a0cc9a760/expr.ipynb\"><img src=\"../../theorems/262dfa810751624f415d9d51eca57396a0cc9a760/expr.png\" style=\"display:inline;vertical-align:middle;\" /></a></td></tr>\n",
       "<tr><td>22</td><td>Variable</td><td></td><td><a class=\"ProveItLink\" href=\"../../../../../__pv_it/common/09585084922504426caf1db2ff588a23a0932a960/expr.ipynb\"><img src=\"../../../../../__pv_it/common/09585084922504426caf1db2ff588a23a0932a960/expr.png\" style=\"display:inline;vertical-align:middle;\" /></a></td></tr>\n",
       "<tr><td>23</td><td>Variable</td><td></td><td><a class=\"ProveItLink\" href=\"../../../../../__pv_it/common/38f47c5670ea8c5b56253448e95d8afb56bc09b40/expr.ipynb\"><img src=\"../../../../../__pv_it/common/38f47c5670ea8c5b56253448e95d8afb56bc09b40/expr.png\" style=\"display:inline;vertical-align:middle;\" /></a></td></tr>\n",
       "</table>\n"
      ],
      "text/plain": [
       "0. ((A union S) equiv S) = [forall_{x} ((x in (A union S)) = (x in S))]\n",
       "   core type: Operation\n",
       "   operator: 11\n",
       "   operands: 1\n",
       "1. ((A union S) equiv S, forall_{x} ((x in (A union S)) = (x in S)))\n",
       "   core type: ExprTuple\n",
       "   sub-expressions: 2, 3\n",
       "2. (A union S) equiv S\n",
       "   core type: Operation\n",
       "   operator: 4\n",
       "   operands: 5\n",
       "3. forall_{x} ((x in (A union S)) = (x in S))\n",
       "   core type: Operation\n",
       "   operator: 6\n",
       "   operand: 8\n",
       "4. equiv\n",
       "   core type: Literal\n",
       "   sub-expressions: \n",
       "5. (A union S, S)\n",
       "   core type: ExprTuple\n",
       "   sub-expressions: 18, 23\n",
       "6. forall\n",
       "   core type: Literal\n",
       "   sub-expressions: \n",
       "7. (x -> ((x in (A union S)) = (x in S)))\n",
       "   core type: ExprTuple\n",
       "   sub-expressions: 8\n",
       "8. x -> ((x in (A union S)) = (x in S))\n",
       "   core type: Lambda\n",
       "   parameter: 19\n",
       "   body: 10\n",
       "9. (x)\n",
       "   core type: ExprTuple\n",
       "   sub-expressions: 19\n",
       "10. (x in (A union S)) = (x in S)\n",
       "    core type: Operation\n",
       "    operator: 11\n",
       "    operands: 12\n",
       "11. =\n",
       "    core type: Literal\n",
       "    sub-expressions: \n",
       "12. (x in (A union S), x in S)\n",
       "    core type: ExprTuple\n",
       "    sub-expressions: 13, 14\n",
       "13. x in (A union S)\n",
       "    core type: Operation\n",
       "    operator: 16\n",
       "    operands: 15\n",
       "14. x in S\n",
       "    core type: Operation\n",
       "    operator: 16\n",
       "    operands: 17\n",
       "15. (x, A union S)\n",
       "    core type: ExprTuple\n",
       "    sub-expressions: 19, 18\n",
       "16. in\n",
       "    core type: Literal\n",
       "    sub-expressions: \n",
       "17. (x, S)\n",
       "    core type: ExprTuple\n",
       "    sub-expressions: 19, 23\n",
       "18. A union S\n",
       "    core type: Operation\n",
       "    operator: 20\n",
       "    operands: 21\n",
       "19. x\n",
       "    core type: Variable\n",
       "    sub-expressions: \n",
       "20. union\n",
       "    core type: Literal\n",
       "    sub-expressions: \n",
       "21. (A, S)\n",
       "    core type: ExprTuple\n",
       "    sub-expressions: 22, 23\n",
       "22. A\n",
       "    core type: Variable\n",
       "    sub-expressions: \n",
       "23. S\n",
       "    core type: Variable\n",
       "    sub-expressions: "
      ]
     },
     "metadata": {},
     "output_type": "display_data"
    }
   ],
   "source": [
    "# display the expression information\n",
    "stored_expr.expr_info()"
   ]
  },
  {
   "cell_type": "code",
   "execution_count": null,
   "metadata": {},
   "outputs": [],
   "source": []
  }
 ],
 "metadata": {
  "kernelspec": {
   "display_name": "Python 3",
   "language": "python",
   "name": "python3"
  }
 },
 "nbformat": 4,
 "nbformat_minor": 0
}