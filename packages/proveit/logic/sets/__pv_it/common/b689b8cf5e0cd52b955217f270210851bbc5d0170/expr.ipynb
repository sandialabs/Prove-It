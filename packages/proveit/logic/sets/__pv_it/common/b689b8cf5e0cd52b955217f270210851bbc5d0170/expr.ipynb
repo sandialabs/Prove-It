{
 "cells": [
  {
   "cell_type": "markdown",
   "metadata": {},
   "source": [
    "Expression of type <a class=\"ProveItLink\" href=\"../../../../../../../doc/html/api/proveit.logic.And.html\">And</a>\n",
    "=======================\n",
    "# from the theory of <a class=\"ProveItLink\" href=\"../../../_theory_nbs_/theory.ipynb\">proveit.logic.sets</a>"
   ]
  },
  {
   "cell_type": "code",
   "execution_count": 1,
   "metadata": {},
   "outputs": [],
   "source": [
    "import proveit\n",
    "# Automation is not needed when building an expression:\n",
    "proveit.defaults.automation = False # This will speed things up.\n",
    "proveit.defaults.inline_pngs = False # Makes files smaller.\n",
    "%load_expr # Load the stored expression as 'stored_expr'\n",
    "# import Expression classes needed to build the expression\n",
    "from proveit import ExprRange, IndexedVar, S, Variable, n, y\n",
    "from proveit.core_expr_types import Q__y_1_to_n\n",
    "from proveit.logic import And, InSet\n",
    "from proveit.numbers import one"
   ]
  },
  {
   "cell_type": "code",
   "execution_count": 2,
   "metadata": {},
   "outputs": [
    {
     "data": {
      "text/html": [
       "<strong id=\"expr\">expr:</strong> <a class=\"ProveItLink\" href=\"expr.ipynb\"><img src=\"expr.png\" style=\"display:inline;vertical-align:middle;\" /></a><br>"
      ],
      "text/plain": [
       "<IPython.core.display.HTML object>"
      ]
     },
     "metadata": {},
     "output_type": "display_data"
    }
   ],
   "source": [
    "# build up the expression from sub-expressions\n",
    "sub_expr1 = Variable(\"_a\", latex_format = r\"{_{-}a}\")\n",
    "expr = And(ExprRange(sub_expr1, InSet(IndexedVar(y, sub_expr1), IndexedVar(S, sub_expr1)), one, n), Q__y_1_to_n)"
   ]
  },
  {
   "cell_type": "code",
   "execution_count": 3,
   "metadata": {},
   "outputs": [
    {
     "name": "stdout",
     "output_type": "stream",
     "text": [
      "Passed sanity check: expr matches stored_expr\n"
     ]
    }
   ],
   "source": [
    "# check that the built expression is the same as the stored expression\n",
    "assert expr == stored_expr\n",
    "assert expr._style_id == stored_expr._style_id\n",
    "print(\"Passed sanity check: expr matches stored_expr\")"
   ]
  },
  {
   "cell_type": "code",
   "execution_count": 4,
   "metadata": {},
   "outputs": [
    {
     "name": "stdout",
     "output_type": "stream",
     "text": [
      "\\left(y_{1} \\in S_{1}\\right) \\land  \\left(y_{2} \\in S_{2}\\right) \\land  \\ldots \\land  \\left(y_{n} \\in S_{n}\\right) \\land Q\\left(y_{1}, y_{2}, \\ldots, y_{n}\\right)\n"
     ]
    }
   ],
   "source": [
    "# Show the LaTeX representation of the expression for convenience if you need it.\n",
    "print(stored_expr.latex())"
   ]
  },
  {
   "cell_type": "code",
   "execution_count": 5,
   "metadata": {},
   "outputs": [
    {
     "data": {
      "text/html": [
       "<table>\n",
       "<tr><th>name</th><th>description</th><th>default</th><th>current value</th><th>related methods</th></tr><tr><td>operation</td><td>'infix' or 'function' style formatting</td><td>infix</td><td>infix</td><td></td></tr>\n",
       "<tr><td>wrap_positions</td><td>position(s) at which wrapping is to occur; '2 n - 1' is after the nth operand, '2 n' is after the nth operation.</td><td>()</td><td>()</td><td>('with_wrapping_at', 'with_wrap_before_operator', 'with_wrap_after_operator', 'without_wrapping', 'wrap_positions')</td></tr>\n",
       "<tr><td>justification</td><td>if any wrap positions are set, justify to the 'left', 'center', or 'right'</td><td>center</td><td>center</td><td>('with_justification',)</td></tr>\n",
       "</table>\n"
      ],
      "text/plain": [
       "style name: operation\n",
       "description: 'infix' or 'function' style formatting\n",
       "default: infix\n",
       "current value: infix\n",
       "related methods: ()\n",
       "style name: wrap_positions\n",
       "description: position(s) at which wrapping is to occur; '2 n - 1' is after the nth operand, '2 n' is after the nth operation.\n",
       "default: ()\n",
       "current value: ()\n",
       "related methods: ('with_wrapping_at', 'with_wrap_before_operator', 'with_wrap_after_operator', 'without_wrapping', 'wrap_positions')\n",
       "style name: justification\n",
       "description: if any wrap positions are set, justify to the 'left', 'center', or 'right'\n",
       "default: center\n",
       "current value: center\n",
       "related methods: ('with_justification',)"
      ]
     },
     "metadata": {},
     "output_type": "display_data"
    }
   ],
   "source": [
    "stored_expr.style_options()"
   ]
  },
  {
   "cell_type": "code",
   "execution_count": 6,
   "metadata": {},
   "outputs": [
    {
     "data": {
      "text/html": [
       "<table><tr><th>&nbsp;</th><th>core type</th><th>sub-expressions</th><th>expression</th></tr>\n",
       "<tr><td>0</td><td>Operation</td><td>operator:&nbsp;1<br>operands:&nbsp;2<br></td><td><a class=\"ProveItLink\" href=\"expr.ipynb\"><img src=\"expr.png\" style=\"display:inline;vertical-align:middle;\" /></a></td></tr>\n",
       "<tr><td>1</td><td>Literal</td><td></td><td><a class=\"ProveItLink\" href=\"../../../../booleans/conjunction/__pv_it/common/42118ff318bd65d98b1393f64ce7c2269feef76e0/expr.ipynb\"><img src=\"../../../../booleans/conjunction/__pv_it/common/42118ff318bd65d98b1393f64ce7c2269feef76e0/expr.png\" style=\"display:inline;vertical-align:middle;\" /></a></td></tr>\n",
       "<tr><td>2</td><td>ExprTuple</td><td>3, 4</td><td><a class=\"ProveItLink\" href=\"../ccf71d92cae84c2ec67b00acff55ea28b65b94920/expr.ipynb\"><img src=\"../ccf71d92cae84c2ec67b00acff55ea28b65b94920/expr.png\" style=\"display:inline;vertical-align:middle;\" /></a></td></tr>\n",
       "<tr><td>3</td><td>ExprRange</td><td>lambda_map:&nbsp;5<br>start_index:&nbsp;13<br>end_index:&nbsp;14<br></td><td><a class=\"ProveItLink\" href=\"../da20f7695abc6ae8d951bb146afae5c907473fca0/expr.ipynb\"><img src=\"../da20f7695abc6ae8d951bb146afae5c907473fca0/expr.png\" style=\"display:inline;vertical-align:middle;\" /></a></td></tr>\n",
       "<tr><td>4</td><td>Operation</td><td>operator:&nbsp;6<br>operands:&nbsp;7<br></td><td><a class=\"ProveItLink\" href=\"../../../../../core_expr_types/__pv_it/common/e38d9e725daa55259ff29a69c9848df141c43acc0/expr.ipynb\"><img src=\"../../../../../core_expr_types/__pv_it/common/e38d9e725daa55259ff29a69c9848df141c43acc0/expr.png\" style=\"display:inline;vertical-align:middle;\" /></a></td></tr>\n",
       "<tr><td>5</td><td>Lambda</td><td>parameter:&nbsp;20<br>body:&nbsp;8<br></td><td><a class=\"ProveItLink\" href=\"../3df1023f940f3e81fbd559030326cf21ecf088f50/expr.ipynb\"><img src=\"../3df1023f940f3e81fbd559030326cf21ecf088f50/expr.png\" style=\"display:inline;vertical-align:middle;\" /></a></td></tr>\n",
       "<tr><td>6</td><td>Variable</td><td></td><td><a class=\"ProveItLink\" href=\"../../../../../__pv_it/common/d72bb8b07403efe79afab564c36a28e21330e5f90/expr.ipynb\"><img src=\"../../../../../__pv_it/common/d72bb8b07403efe79afab564c36a28e21330e5f90/expr.png\" style=\"display:inline;vertical-align:middle;\" /></a></td></tr>\n",
       "<tr><td>7</td><td>ExprTuple</td><td>9</td><td><a class=\"ProveItLink\" href=\"../../../../../core_expr_types/__pv_it/common/3e6f103b1536f1d5f586682ee3b57d9899deba720/expr.ipynb\"><img src=\"../../../../../core_expr_types/__pv_it/common/3e6f103b1536f1d5f586682ee3b57d9899deba720/expr.png\" style=\"display:inline;vertical-align:middle;\" /></a></td></tr>\n",
       "<tr><td>8</td><td>Operation</td><td>operator:&nbsp;10<br>operands:&nbsp;11<br></td><td><a class=\"ProveItLink\" href=\"../b5a16ad436a75fe884103a876b9556f9fd940cc10/expr.ipynb\"><img src=\"../b5a16ad436a75fe884103a876b9556f9fd940cc10/expr.png\" style=\"display:inline;vertical-align:middle;\" /></a></td></tr>\n",
       "<tr><td>9</td><td>ExprRange</td><td>lambda_map:&nbsp;12<br>start_index:&nbsp;13<br>end_index:&nbsp;14<br></td><td><a class=\"ProveItLink\" href=\"../../../../../core_expr_types/__pv_it/common/bcf5ce1b1593e9c2c261618d94fd21c2cd04eae40/expr.ipynb\"><img src=\"../../../../../core_expr_types/__pv_it/common/bcf5ce1b1593e9c2c261618d94fd21c2cd04eae40/expr.png\" style=\"display:inline;vertical-align:middle;\" /></a></td></tr>\n",
       "<tr><td>10</td><td>Literal</td><td></td><td><a class=\"ProveItLink\" href=\"../../../membership/__pv_it/common/477487d8796864d23d5810f83761435f25167f690/expr.ipynb\"><img src=\"../../../membership/__pv_it/common/477487d8796864d23d5810f83761435f25167f690/expr.png\" style=\"display:inline;vertical-align:middle;\" /></a></td></tr>\n",
       "<tr><td>11</td><td>ExprTuple</td><td>16, 15</td><td><a class=\"ProveItLink\" href=\"../7da9e335898e4f64b947bf5e5e32c949a29f4ea90/expr.ipynb\"><img src=\"../7da9e335898e4f64b947bf5e5e32c949a29f4ea90/expr.png\" style=\"display:inline;vertical-align:middle;\" /></a></td></tr>\n",
       "<tr><td>12</td><td>Lambda</td><td>parameter:&nbsp;20<br>body:&nbsp;16<br></td><td><a class=\"ProveItLink\" href=\"../../../../../core_expr_types/__pv_it/common/47ca082a5e3217d68f414fa9b5fb4cf7b07e06430/expr.ipynb\"><img src=\"../../../../../core_expr_types/__pv_it/common/47ca082a5e3217d68f414fa9b5fb4cf7b07e06430/expr.png\" style=\"display:inline;vertical-align:middle;\" /></a></td></tr>\n",
       "<tr><td>13</td><td>Literal</td><td></td><td><a class=\"ProveItLink\" href=\"../../../../../numbers/numerals/__pv_it/common/682157d4892d216d9e5626ed533aff9b56b9506e0/expr.ipynb\"><img src=\"../../../../../numbers/numerals/__pv_it/common/682157d4892d216d9e5626ed533aff9b56b9506e0/expr.png\" style=\"display:inline;vertical-align:middle;\" /></a></td></tr>\n",
       "<tr><td>14</td><td>Variable</td><td></td><td><a class=\"ProveItLink\" href=\"../../../../../__pv_it/common/8968bb04eb3f7dfa02353397ce929b025bbd79c20/expr.ipynb\"><img src=\"../../../../../__pv_it/common/8968bb04eb3f7dfa02353397ce929b025bbd79c20/expr.png\" style=\"display:inline;vertical-align:middle;\" /></a></td></tr>\n",
       "<tr><td>15</td><td>IndexedVar</td><td>variable:&nbsp;17<br>index:&nbsp;20<br></td><td><a class=\"ProveItLink\" href=\"../../../../../core_expr_types/__pv_it/common/6b89cdf8fc850cb96799963f38ddb4c2de5a92d00/expr.ipynb\"><img src=\"../../../../../core_expr_types/__pv_it/common/6b89cdf8fc850cb96799963f38ddb4c2de5a92d00/expr.png\" style=\"display:inline;vertical-align:middle;\" /></a></td></tr>\n",
       "<tr><td>16</td><td>IndexedVar</td><td>variable:&nbsp;18<br>index:&nbsp;20<br></td><td><a class=\"ProveItLink\" href=\"../../../../../core_expr_types/__pv_it/common/dd83f4522fafc6cf7fa80e461f3330c821446f0a0/expr.ipynb\"><img src=\"../../../../../core_expr_types/__pv_it/common/dd83f4522fafc6cf7fa80e461f3330c821446f0a0/expr.png\" style=\"display:inline;vertical-align:middle;\" /></a></td></tr>\n",
       "<tr><td>17</td><td>Variable</td><td></td><td><a class=\"ProveItLink\" href=\"../../../../../__pv_it/common/38f47c5670ea8c5b56253448e95d8afb56bc09b40/expr.ipynb\"><img src=\"../../../../../__pv_it/common/38f47c5670ea8c5b56253448e95d8afb56bc09b40/expr.png\" style=\"display:inline;vertical-align:middle;\" /></a></td></tr>\n",
       "<tr><td>18</td><td>Variable</td><td></td><td><a class=\"ProveItLink\" href=\"../../../../../__pv_it/common/ff7dba4ef0bbe791ab573bf2d9c220a304399ac80/expr.ipynb\"><img src=\"../../../../../__pv_it/common/ff7dba4ef0bbe791ab573bf2d9c220a304399ac80/expr.png\" style=\"display:inline;vertical-align:middle;\" /></a></td></tr>\n",
       "<tr><td>19</td><td>ExprTuple</td><td>20</td><td><a class=\"ProveItLink\" href=\"../../../../../core_expr_types/__pv_it/common/4b0dd6be36d76552eda6a95d5b4a27f5a5b62f900/expr.ipynb\"><img src=\"../../../../../core_expr_types/__pv_it/common/4b0dd6be36d76552eda6a95d5b4a27f5a5b62f900/expr.png\" style=\"display:inline;vertical-align:middle;\" /></a></td></tr>\n",
       "<tr><td>20</td><td>Variable</td><td></td><td><a class=\"ProveItLink\" href=\"../../../../../core_expr_types/__pv_it/common/006c465e50948aa2b52285e2de47974f741255cc0/expr.ipynb\"><img src=\"../../../../../core_expr_types/__pv_it/common/006c465e50948aa2b52285e2de47974f741255cc0/expr.png\" style=\"display:inline;vertical-align:middle;\" /></a></td></tr>\n",
       "</table>\n"
      ],
      "text/plain": [
       "0. (y_{1} in S_{1}) and  (y_{2} in S_{2}) and  ... and  (y_{n} in S_{n}) and Q(y_{1}, y_{2}, ..., y_{n})\n",
       "   core type: Operation\n",
       "   operator: 1\n",
       "   operands: 2\n",
       "1. and\n",
       "   core type: Literal\n",
       "   sub-expressions: \n",
       "2. ((y_{1} in S_{1}), (y_{2} in S_{2}), ..., (y_{n} in S_{n}), Q(y_{1}, y_{2}, ..., y_{n}))\n",
       "   core type: ExprTuple\n",
       "   sub-expressions: 3, 4\n",
       "3. (y_{1} in S_{1}), (y_{2} in S_{2}), ..., (y_{n} in S_{n})\n",
       "   core type: ExprRange\n",
       "   lambda_map: 5\n",
       "   start_index: 13\n",
       "   end_index: 14\n",
       "4. Q(y_{1}, y_{2}, ..., y_{n})\n",
       "   core type: Operation\n",
       "   operator: 6\n",
       "   operands: 7\n",
       "5. _a -> (y_{_a} in S_{_a})\n",
       "   core type: Lambda\n",
       "   parameter: 20\n",
       "   body: 8\n",
       "6. Q\n",
       "   core type: Variable\n",
       "   sub-expressions: \n",
       "7. (y_{1}, y_{2}, ..., y_{n})\n",
       "   core type: ExprTuple\n",
       "   sub-expressions: 9\n",
       "8. y_{_a} in S_{_a}\n",
       "   core type: Operation\n",
       "   operator: 10\n",
       "   operands: 11\n",
       "9. y_{1}, y_{2}, ..., y_{n}\n",
       "   core type: ExprRange\n",
       "   lambda_map: 12\n",
       "   start_index: 13\n",
       "   end_index: 14\n",
       "10. in\n",
       "    core type: Literal\n",
       "    sub-expressions: \n",
       "11. (y_{_a}, S_{_a})\n",
       "    core type: ExprTuple\n",
       "    sub-expressions: 16, 15\n",
       "12. _a -> y_{_a}\n",
       "    core type: Lambda\n",
       "    parameter: 20\n",
       "    body: 16\n",
       "13. 1\n",
       "    core type: Literal\n",
       "    sub-expressions: \n",
       "14. n\n",
       "    core type: Variable\n",
       "    sub-expressions: \n",
       "15. S_{_a}\n",
       "    core type: IndexedVar\n",
       "variable: 17\n",
       "index: 20\n",
       "16. y_{_a}\n",
       "    core type: IndexedVar\n",
       "variable: 18\n",
       "index: 20\n",
       "17. S\n",
       "    core type: Variable\n",
       "    sub-expressions: \n",
       "18. y\n",
       "    core type: Variable\n",
       "    sub-expressions: \n",
       "19. (_a)\n",
       "    core type: ExprTuple\n",
       "    sub-expressions: 20\n",
       "20. _a\n",
       "    core type: Variable\n",
       "    sub-expressions: "
      ]
     },
     "metadata": {},
     "output_type": "display_data"
    }
   ],
   "source": [
    "# display the expression information\n",
    "stored_expr.expr_info()"
   ]
  },
  {
   "cell_type": "code",
   "execution_count": null,
   "metadata": {},
   "outputs": [],
   "source": []
  }
 ],
 "metadata": {
  "kernelspec": {
   "display_name": "Python 3",
   "language": "python",
   "name": "python3"
  }
 },
 "nbformat": 4,
 "nbformat_minor": 0
}