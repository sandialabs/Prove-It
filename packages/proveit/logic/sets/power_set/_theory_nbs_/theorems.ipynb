{
 "cells": [
  {
   "cell_type": "markdown",
   "metadata": {},
   "source": [
    "Theorems (or conjectures) for the theory of <a class=\"ProveItLink\" href=\"theory.ipynb\">proveit.logic.sets.power_set</a>\n",
    "========"
   ]
  },
  {
   "cell_type": "code",
   "execution_count": null,
   "metadata": {},
   "outputs": [],
   "source": [
    "import proveit\n",
    "# Prepare this notebook for defining the theorems of a theory:\n",
    "%theorems_notebook # Keep this at the top following 'import proveit'.\n",
    "\n",
    "from proveit import k, x, A, S\n",
    "from proveit.logic import And, Equals, Forall\n",
    "from proveit.logic.sets import Card, InSet, NotInSet, NotSubsetEq, PowerSet, SubsetEq\n",
    "from proveit.numbers import LessEq, Natural"
   ]
  },
  {
   "cell_type": "code",
   "execution_count": null,
   "metadata": {},
   "outputs": [],
   "source": [
    "%begin theorems"
   ]
  },
  {
   "cell_type": "code",
   "execution_count": null,
   "metadata": {},
   "outputs": [],
   "source": [
    "unfold_power_set = Forall((x, S), SubsetEq(x, S),\n",
    "       conditions = [InSet(x, PowerSet(S))])"
   ]
  },
  {
   "cell_type": "code",
   "execution_count": null,
   "metadata": {},
   "outputs": [],
   "source": [
    "fold_power_set = Forall((x, S), InSet(x, PowerSet(S)),\n",
    "       conditions = [SubsetEq(x, S)])"
   ]
  },
  {
   "cell_type": "code",
   "execution_count": null,
   "metadata": {},
   "outputs": [],
   "source": [
    "not_in_power_set_equiv = Forall((x, S), Equals(NotInSet(x, PowerSet(S)), NotSubsetEq(x, S)))"
   ]
  },
  {
   "cell_type": "code",
   "execution_count": null,
   "metadata": {},
   "outputs": [],
   "source": [
    "unfold_not_in_power_set = Forall((x, S), NotSubsetEq(x, S),\n",
    "        conditions = [NotInSet(x, PowerSet(S))])"
   ]
  },
  {
   "cell_type": "code",
   "execution_count": null,
   "metadata": {},
   "outputs": [],
   "source": [
    "fold_not_in_power_set = Forall((x, S), NotInSet(x, PowerSet(S)),\n",
    "        conditions = [NotSubsetEq(x, S)])"
   ]
  },
  {
   "cell_type": "code",
   "execution_count": null,
   "metadata": {},
   "outputs": [],
   "source": [
    "%end theorems"
   ]
  }
 ],
 "metadata": {
  "kernelspec": {
   "display_name": "Python 3",
   "language": "python",
   "name": "python3"
  }
 },
 "nbformat": 4,
 "nbformat_minor": 0
}
