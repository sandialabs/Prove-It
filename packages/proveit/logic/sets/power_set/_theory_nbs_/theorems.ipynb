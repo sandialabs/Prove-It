{
 "cells": [
  {
   "cell_type": "markdown",
   "metadata": {},
   "source": [
    "Theorems (or conjectures) for the theory of <a class=\"ProveItLink\" href=\"theory.ipynb\">proveit.logic.sets.power_set</a>\n",
    "========"
   ]
  },
  {
   "cell_type": "code",
   "execution_count": null,
   "metadata": {},
   "outputs": [],
   "source": [
    "import proveit\n",
    "# Prepare this notebook for defining the theorems of a theory:\n",
    "%theorems_notebook # Keep this at the top following 'import proveit'.\n",
    "\n",
    "from proveit import k, x, A, S\n",
    "from proveit.logic import And, Equals, Forall\n",
    "from proveit.logic.sets import Card, InSet, KElemSubsets, PowerSet, SubsetEq\n",
    "from proveit.numbers import LessEq, Natural"
   ]
  },
  {
   "cell_type": "code",
   "execution_count": null,
   "metadata": {},
   "outputs": [],
   "source": [
    "%begin theorems"
   ]
  },
  {
   "cell_type": "code",
   "execution_count": null,
   "metadata": {},
   "outputs": [],
   "source": [
    "unfold_power_set_def = Forall((x, S), SubsetEq(x, S),\n",
    "       conditions = [InSet(x, PowerSet(S))])"
   ]
  },
  {
   "cell_type": "code",
   "execution_count": null,
   "metadata": {},
   "outputs": [],
   "source": [
    "fold_power_set_def = Forall((x, S), InSet(x, PowerSet(S)),\n",
    "       conditions = [SubsetEq(x, S)])"
   ]
  },
  {
   "cell_type": "code",
   "execution_count": null,
   "metadata": {},
   "outputs": [],
   "source": [
    "unfold_k_elem_subsets_def = (\n",
    "    Forall((A, S),\n",
    "    Forall(k, And(SubsetEq(A, S), Equals(Card(A), k)),\n",
    "    conditions = [LessEq(k, Card(S)), InSet(A, KElemSubsets(S, k))],\n",
    "    domain = Natural)\n",
    "    )\n",
    ")"
   ]
  },
  {
   "cell_type": "code",
   "execution_count": null,
   "metadata": {},
   "outputs": [],
   "source": [
    "fold_k_elem_subsets_def = (\n",
    "    Forall((A, S),\n",
    "    Forall(k, InSet(A, KElemSubsets(S, k)),\n",
    "    conditions = [LessEq(k, Card(S)), And(SubsetEq(A, S), Equals(Card(A), k))],\n",
    "    domain = Natural)\n",
    "    )\n",
    ")"
   ]
  },
  {
   "cell_type": "code",
   "execution_count": null,
   "metadata": {},
   "outputs": [],
   "source": [
    "%end theorems"
   ]
  }
 ],
 "metadata": {
  "kernelspec": {
   "display_name": "Python 3",
   "language": "python",
   "name": "python3"
  }
 },
 "nbformat": 4,
 "nbformat_minor": 0
}
