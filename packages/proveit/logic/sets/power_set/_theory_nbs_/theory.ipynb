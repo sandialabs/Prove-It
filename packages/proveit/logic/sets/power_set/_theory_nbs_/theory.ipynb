{
 "cells": [
  {
   "cell_type": "markdown",
   "metadata": {},
   "source": [
    "Theory of <a class=\"ProveItLink\" href=\"../../../../_theory_nbs_/theory.ipynb\">proveit</a>.<a class=\"ProveItLink\" href=\"../../../_theory_nbs_/theory.ipynb\">logic</a>.<a class=\"ProveItLink\" href=\"../../_theory_nbs_/theory.ipynb\">sets</a>.power_set\n",
    "========\n",
    "\n",
    "Provide description here."
   ]
  },
  {
   "cell_type": "code",
   "execution_count": 1,
   "metadata": {},
   "outputs": [
    {
     "data": {
      "text/html": [
       "<h3>Local content of this theory</h3>"
      ],
      "text/plain": [
       "<IPython.core.display.HTML object>"
      ]
     },
     "metadata": {},
     "output_type": "display_data"
    },
    {
     "data": {
      "text/html": [
       "<table><tr>\n",
       "<th><a class=\"ProveItLink\" href=\"common.ipynb\">common expressions</a></th>\n",
       "<th><a class=\"ProveItLink\" href=\"axioms.ipynb\">axioms</a></th>\n",
       "<th><a class=\"ProveItLink\" href=\"theorems.ipynb\">theorems</a></th>\n",
       "<th><a class=\"ProveItLink\" href=\"demonstrations.ipynb\">demonstrations</a></th>\n",
       "</tr></table>\n",
       "<h3>Sub-theories</h3>\n"
      ],
      "text/plain": [
       "<IPython.core.display.HTML object>"
      ]
     },
     "metadata": {},
     "output_type": "display_data"
    },
    {
     "data": {
      "text/html": [
       "<h3>All axioms contained within this theory</h3>"
      ],
      "text/plain": [
       "<IPython.core.display.HTML object>"
      ]
     },
     "metadata": {},
     "output_type": "display_data"
    },
    {
     "data": {
      "text/html": [
       "<dt><a class=\"ProveItLink\" href=\"axioms.ipynb#power_set_def\">proveit.logic.sets.power_set.power_set_def</a></dt><dd><a class=\"ProveItLink\" href=\"../__pv_it/axioms/a988875a839b41a2a0d9a556b77839ba464e6e330/expr.ipynb\"><img src=\"data:image/png;base64,iVBORw0KGgoAAAANSUhEUgAAAQcAAAAWBAMAAAA/eEQeAAAAMFBMVEX///8AAAAAAAAAAAAAAAAA\n",
       "AAAAAAAAAAAAAAAAAAAAAAAAAAAAAAAAAAAAAAAAAAAv3aB7AAAAD3RSTlMAq1RmmUTNIjK7EInv\n",
       "3XZ/CtNrAAAACXBIWXMAAA7EAAAOxAGVKw4bAAADlUlEQVRIx8VWS2gTURS9SSafTj6NP6SuAhY3\n",
       "WoyiFTdtxWqF0I9blRoQEVxIuhGFqimICCotFCkIbVMRoQo2duEHQeLCjaJGQa3IQLRqqUiILdLi\n",
       "h/G+z7x5MxmnSw+cmZt5L2fuu5/3BuDfCHK6IrPE5OBSf86463/kdEMswQ1/idFJ5J/o5oyTH2ud\n",
       "ZnjzjA6ru/NC/9NGzfXkUp/Kb4VpNKYdRRzhbX3g64olcRnIXeTJEadp1zmr0do9f6JRJzFQ03ip\n",
       "KcF4BQI5oKwWMTGradoUM0dAHQU4CpR9ZGUDTq/ayVmFQDK2ANBcQFNJEp8AfGnwtQBltYjAuRlh\n",
       "KjizEWALUBLnwwmndxU4zfwPa2/IfRMoFfwjOgIR8nuRVcMTYKwSMaC+Ne3aLK2GSI7Sh2sJOCYt\n",
       "zSjgPyaCXVME8KAjsI48nwcIoeYhYLSLCHi6TPsgvvY8CSrjM0176uSEkmdUy2suTJIHx82ERzB/\n",
       "UVJyKbJA/R59eJvTLiIE5LVO/MqSWzjOuAfginPmGRX4UGq3Ve8ERv8LGCtv1r+TZm/khHaN4KUh\n",
       "IgT6JHWfrq8GWkuUPRCMm4P7y01ZZkUTjNugObeCPJAiuzELPur5K5rrWZ2kfgOnDItAjzxya/Q3\n",
       "SVeBsSYXNnPlLUG/EfIuxizspr9DmDftHRvrVLuXU+Mxj/oPvPRzypAFIGod68SxUIXRW5JyhdXu\n",
       "sTkB8JzVttTHj74NgnACI67O4f0Ap90JQ4D1M88GySlGyV9ghHQTXsptn0hea5NiszfSAf4FuEEe\n",
       "FM0+mTMsTIeKyQz+RLuBU64JiwAcFgpjyDNY6N4iI0zilhXL1AXI/Jg+KNqwRKle9hSA7r1ls+Yr\n",
       "hjXCNEgTwHZOGRYBGFtlNFgD7yzfACP0xkl4RkJ09GqnUaW8e7yL1wp+upkFxJYWEZWMLam8552Z\n",
       "4pRhEcCyH+bbdnue6ot9ADy0HRborBz4jVWGipRqR6l+MyuKun3GTpM1XnIJNfwrl9F3vOaUYRGQ\n",
       "0LJ3B63saBcjn10gtYAem+fIFKdZCvfZtg0dZgtmzaO1yGjFlPuXwClOit5wWoGboMTBIz4y+OHi\n",
       "CunEIrUv1b8k4gLLIal8fvgVLiaUs6m7ZlFlGF0xJKyTnLbKlAQU2jVybEjY7Ue49TAlG4M6sIQT\n",
       "4xZ3hqrG3QUc1um3fZKc5nRD0Piii2UY7XAVmOGUEwz/CX8BOv/+Zq/+4lkAAAAASUVORK5CYII=\n",
       "\" style=\"display:inline;vertical-align:middle;\" /></a></dd>"
      ],
      "text/plain": [
       "<IPython.core.display.HTML object>"
      ]
     },
     "metadata": {},
     "output_type": "display_data"
    }
   ],
   "source": [
    "import proveit\n",
    "%theory # toggles between interactive and static modes"
   ]
  },
  {
   "cell_type": "code",
   "execution_count": null,
   "metadata": {},
   "outputs": [],
   "source": []
  }
 ],
 "metadata": {
  "kernelspec": {
   "display_name": "Python 3",
   "language": "python",
   "name": "python3"
  }
 },
 "nbformat": 4,
 "nbformat_minor": 0
}