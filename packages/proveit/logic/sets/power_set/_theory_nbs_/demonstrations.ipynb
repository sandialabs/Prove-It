{
 "cells": [
  {
   "cell_type": "markdown",
   "metadata": {},
   "source": [
    "Demonstrations for the theory of <a class=\"ProveItLink\" href=\"theory.ipynb\">proveit.logic.sets.power_set</a>\n",
    "========"
   ]
  },
  {
   "cell_type": "code",
   "execution_count": 1,
   "metadata": {},
   "outputs": [],
   "source": [
    "import proveit\n",
    "from proveit.logic import PowerSet, Set\n",
    "from proveit.numbers import one, two\n",
    "%begin demonstrations"
   ]
  },
  {
   "cell_type": "code",
   "execution_count": 2,
   "metadata": {},
   "outputs": [
    {
     "data": {
      "text/html": [
       "<a class=\"ProveItLink\" href=\"../__pv_it/demonstrations/f40436fcff71e135c31114a8e59e447b639d31bb0/expr.ipynb\"><img src=\"data:image/png;base64,iVBORw0KGgoAAAANSUhEUgAAAFUAAAAVBAMAAADFg78FAAAAMFBMVEX///8AAAAAAAAAAAAAAAAA\n",
       "AAAAAAAAAAAAAAAAAAAAAAAAAAAAAAAAAAAAAAAAAAAv3aB7AAAAD3RSTlMAIonN792ZRHZmMlSr\n",
       "uxA2qk35AAAACXBIWXMAAA7EAAAOxAGVKw4bAAABr0lEQVQoz2WTP0jDUBDGv7ZJ/6ahDjq4WFC3\n",
       "gm7FRbqJINjJRRE1UBQEO3azYmcpCE6CRdBJsOpuC3URl7qpSHFzUdoiDio03r2+tL54cMfLl18u\n",
       "7+7eA/5ajPw1C9U8F86rvxYskydfXCrOGhRy4rPReftzVYiX5BVGw8sSG7KeKD5zniKFTO5reN+m\n",
       "jDAnKYyTv1kd+fs6JrJdDdOArxhsA0cpevIXJYugZI0YtJTUDoBD+Fv0BfHQ4Ga1Doy21DTeXDRN\n",
       "CYjH1T/WSMP4lpqP/6rVAT1Oi7V/LJnekpq3SqGZB3b5aYqD5WLP6W2BFyGuvFJCiDuIRa581sUu\n",
       "kY9wlyJc/paZuxPyDKG1rMr669zMGsFhLmmu8AiHxWlDZQ/FVpMUApQ38OPovAcxoz4biWNAzjJC\n",
       "7eL2du1B6YPJi2NgDxgTtdFutKrDJnqslwbQpLo9C5lMWmp+aut2yWFPHNa4+biFTudHt217UrI6\n",
       "Vb3eb3vJySvsurcS2qByTkMrChtX2Q31UN9DzojNzPd0q3s8FXt3ZiR60ZNNnmXUdYk8lMqzWXbf\n",
       "twQrO8AvvWFoqkt1rRAAAAAASUVORK5CYII=\n",
       "\" style=\"display:inline;vertical-align:middle;\" /></a>"
      ],
      "text/plain": [
       "power_set({1, 2})"
      ]
     },
     "metadata": {},
     "output_type": "display_data"
    }
   ],
   "source": [
    "PowerSet(Set(one, two))"
   ]
  },
  {
   "cell_type": "code",
   "execution_count": 3,
   "metadata": {},
   "outputs": [],
   "source": [
    "%end demonstrations"
   ]
  }
 ],
 "metadata": {
  "kernelspec": {
   "display_name": "Python 3",
   "language": "python",
   "name": "python3"
  }
 },
 "nbformat": 4,
 "nbformat_minor": 0
}