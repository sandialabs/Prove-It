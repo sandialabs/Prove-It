{
 "cells": [
  {
   "cell_type": "markdown",
   "metadata": {},
   "source": [
    "Show the Proof\n",
    "========"
   ]
  },
  {
   "cell_type": "code",
   "execution_count": 1,
   "metadata": {},
   "outputs": [
    {
     "data": {
      "text/html": [
       "<table><tr><th>&nbsp;</th><th>step type</th><th>requirements</th><th>statement</th></tr>\n",
       "<tr><td><a name=\"proveit.logic.sets.equivalence.demonstrations.838cdc0373373aa7196062a3dff3e09aaea816930_step0\">0</a></td><td>instantiation</td><td><a href=\"#proveit.logic.sets.equivalence.demonstrations.838cdc0373373aa7196062a3dff3e09aaea816930_step1\">1</a>, <a href=\"#proveit.logic.sets.equivalence.demonstrations.838cdc0373373aa7196062a3dff3e09aaea816930_step2\">2</a>, <a href=\"#proveit.logic.sets.equivalence.demonstrations.838cdc0373373aa7196062a3dff3e09aaea816930_step3\">3</a></td><td><span style=\"font-size:20px;\"><a class=\"ProveItLink\" href=\"../c40a4b5f67b38a6d260de64993997c96e2a07bcf0/expr.ipynb\"><img src=\"../c40a4b5f67b38a6d260de64993997c96e2a07bcf0/expr.png\" style=\"display:inline;vertical-align:middle;\" /></a>, <a class=\"ProveItLink\" href=\"../9217be636d639c95b04f55486dc9717db1ddfacb0/expr.ipynb\"><img src=\"../9217be636d639c95b04f55486dc9717db1ddfacb0/expr.png\" style=\"display:inline;vertical-align:middle;\" /></a> <a class=\"ProveItLink\" href=\"proof.ipynb\" style=\"text-decoration: none\">&nbsp;&#x22A2;&nbsp;&nbsp;</a><a class=\"ProveItLink\" href=\"../77867491a2a10dde1677b525a64c6207a386cc1a0/expr.ipynb\"><img src=\"../77867491a2a10dde1677b525a64c6207a386cc1a0/expr.png\" style=\"display:inline;vertical-align:middle;\" /></a></span></td></tr>\n",
       "<tr><td>&nbsp;</td><td colspan=4 style=\"text-align:left\"><span style=\"font-size:20px;\"><a class=\"ProveItLink\" href=\"../../../../../../__pv_it/common/09585084922504426caf1db2ff588a23a0932a960/expr.ipynb\"><img src=\"../../../../../../__pv_it/common/09585084922504426caf1db2ff588a23a0932a960/expr.png\" style=\"display:inline;vertical-align:middle;\" /></a> : <a class=\"ProveItLink\" href=\"../b525e1a908ac39fd855a42ae46345dbfae68e6350/expr.ipynb\"><img src=\"../b525e1a908ac39fd855a42ae46345dbfae68e6350/expr.png\" style=\"display:inline;vertical-align:middle;\" /></a>, <a class=\"ProveItLink\" href=\"../../../../../../__pv_it/common/a9162d1c3cc0470c02e5daf414500903a7a419230/expr.ipynb\"><img src=\"../../../../../../__pv_it/common/a9162d1c3cc0470c02e5daf414500903a7a419230/expr.png\" style=\"display:inline;vertical-align:middle;\" /></a> : <a class=\"ProveItLink\" href=\"../dfeedcc0dbf3c8990bc5d314cd6c23834f766b7e0/expr.ipynb\"><img src=\"../dfeedcc0dbf3c8990bc5d314cd6c23834f766b7e0/expr.png\" style=\"display:inline;vertical-align:middle;\" /></a>, <a class=\"ProveItLink\" href=\"../../../../../../__pv_it/common/9fba9f29e823606ff4fdf2f1c6d5d08d906e850a0/expr.ipynb\"><img src=\"../../../../../../__pv_it/common/9fba9f29e823606ff4fdf2f1c6d5d08d906e850a0/expr.png\" style=\"display:inline;vertical-align:middle;\" /></a> : <a class=\"ProveItLink\" href=\"../f5651c248b042012c2470096043f539c6ebbc2780/expr.ipynb\"><img src=\"../f5651c248b042012c2470096043f539c6ebbc2780/expr.png\" style=\"display:inline;vertical-align:middle;\" /></a></span></td></tr><tr><td><a name=\"proveit.logic.sets.equivalence.demonstrations.838cdc0373373aa7196062a3dff3e09aaea816930_step1\">1</a></td><td>theorem</td><td></td><td><span style=\"font-size:20px;\"> <a class=\"ProveItLink\" href=\"../../../_theory_nbs_/proofs/set_equiv_transitivity/thm_proof.ipynb\" style=\"text-decoration: none\">&nbsp;&#x22A2;&nbsp;&nbsp;</a><a class=\"ProveItLink\" href=\"../../theorems/42fed0c1798c38009dee2ccdd59829b38fef548a0/expr.ipynb\"><img src=\"../../theorems/42fed0c1798c38009dee2ccdd59829b38fef548a0/expr.png\" style=\"display:inline;vertical-align:middle;\" /></a></span></td></tr>\n",
       "<tr><td>&nbsp;</td><td colspan=4 style-\"text-align:left\"><a class=\"ProveItLink\" href=\"../../../_theory_nbs_/proofs/set_equiv_transitivity/thm_proof.ipynb\">proveit.logic.sets.equivalence.set_equiv_transitivity</a></td></tr><tr><td><a name=\"proveit.logic.sets.equivalence.demonstrations.838cdc0373373aa7196062a3dff3e09aaea816930_step2\">2</a></td><td>assumption</td><td></td><td><span style=\"font-size:20px;\"><a class=\"ProveItLink\" href=\"../c40a4b5f67b38a6d260de64993997c96e2a07bcf0/expr.ipynb\"><img src=\"../c40a4b5f67b38a6d260de64993997c96e2a07bcf0/expr.png\" style=\"display:inline;vertical-align:middle;\" /></a> <a class=\"ProveItLink\" href=\"../82df340a29c85191f964a79c1dba3f5535c731330/proof.ipynb\" style=\"text-decoration: none\">&nbsp;&#x22A2;&nbsp;&nbsp;</a><a class=\"ProveItLink\" href=\"../c40a4b5f67b38a6d260de64993997c96e2a07bcf0/expr.ipynb\"><img src=\"../c40a4b5f67b38a6d260de64993997c96e2a07bcf0/expr.png\" style=\"display:inline;vertical-align:middle;\" /></a></span></td></tr>\n",
       "<tr><td><a name=\"proveit.logic.sets.equivalence.demonstrations.838cdc0373373aa7196062a3dff3e09aaea816930_step3\">3</a></td><td>assumption</td><td></td><td><span style=\"font-size:20px;\"><a class=\"ProveItLink\" href=\"../9217be636d639c95b04f55486dc9717db1ddfacb0/expr.ipynb\"><img src=\"../9217be636d639c95b04f55486dc9717db1ddfacb0/expr.png\" style=\"display:inline;vertical-align:middle;\" /></a> <a class=\"ProveItLink\" href=\"../67b04a7632407254993524da332158105f67bd760/proof.ipynb\" style=\"text-decoration: none\">&nbsp;&#x22A2;&nbsp;&nbsp;</a><a class=\"ProveItLink\" href=\"../9217be636d639c95b04f55486dc9717db1ddfacb0/expr.ipynb\"><img src=\"../9217be636d639c95b04f55486dc9717db1ddfacb0/expr.png\" style=\"display:inline;vertical-align:middle;\" /></a></span></td></tr>\n",
       "</table>"
      ],
      "text/plain": [
       "<proveit._core_.proof._ShowProof at 0x7fa27ee304a8>"
      ]
     },
     "execution_count": 1,
     "metadata": {},
     "output_type": "execute_result"
    }
   ],
   "source": [
    "import proveit\n",
    "# Automation is not needed when only showing a stored proof:\n",
    "proveit.defaults.automation = False # This will speed things up.\n",
    "proveit.defaults.inline_pngs = False # Makes files smaller.\n",
    "%show_proof"
   ]
  },
  {
   "cell_type": "code",
   "execution_count": null,
   "metadata": {},
   "outputs": [],
   "source": []
  }
 ],
 "metadata": {
  "kernelspec": {
   "display_name": "Python 3",
   "language": "python",
   "name": "python3"
  }
 },
 "nbformat": 4,
 "nbformat_minor": 0
}