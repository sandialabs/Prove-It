{
 "cells": [
  {
   "cell_type": "markdown",
   "metadata": {},
   "source": [
    "Show the Proof\n",
    "========"
   ]
  },
  {
   "cell_type": "code",
   "execution_count": 1,
   "metadata": {},
   "outputs": [
    {
     "data": {
      "text/html": [
       "<table><tr><th>&nbsp;</th><th>step type</th><th>requirements</th><th>statement</th></tr>\n",
       "<tr><td><a name=\"proveit.logic.sets.equivalence.demonstrations.1f5f0eb16f98aa5fee683e2af89c2fc2b541ff3c0_step0\">0</a></td><td>instantiation</td><td><a href=\"#proveit.logic.sets.equivalence.demonstrations.1f5f0eb16f98aa5fee683e2af89c2fc2b541ff3c0_step1\">1</a>, <a href=\"#proveit.logic.sets.equivalence.demonstrations.1f5f0eb16f98aa5fee683e2af89c2fc2b541ff3c0_step2\">2</a></td><td><span style=\"font-size:20px;\"><a class=\"ProveItLink\" href=\"../e9d59e687c6547a5e9b9d1b93e78eaf44c9577650/expr.ipynb\"><img src=\"../e9d59e687c6547a5e9b9d1b93e78eaf44c9577650/expr.png\" style=\"display:inline;vertical-align:middle;\" /></a> <a class=\"ProveItLink\" href=\"proof.ipynb\" style=\"text-decoration: none\">&nbsp;&#x22A2;&nbsp;&nbsp;</a><a class=\"ProveItLink\" href=\"../0fb452e04ab103fdc3cb73186046fa01107654530/expr.ipynb\"><img src=\"../0fb452e04ab103fdc3cb73186046fa01107654530/expr.png\" style=\"display:inline;vertical-align:middle;\" /></a></span></td></tr>\n",
       "<tr><td>&nbsp;</td><td colspan=4 style=\"text-align:left\"><span style=\"font-size:20px;\"><a class=\"ProveItLink\" href=\"../../../../../../__pv_it/common/09585084922504426caf1db2ff588a23a0932a960/expr.ipynb\"><img src=\"../../../../../../__pv_it/common/09585084922504426caf1db2ff588a23a0932a960/expr.png\" style=\"display:inline;vertical-align:middle;\" /></a> : <a class=\"ProveItLink\" href=\"../b525e1a908ac39fd855a42ae46345dbfae68e6350/expr.ipynb\"><img src=\"../b525e1a908ac39fd855a42ae46345dbfae68e6350/expr.png\" style=\"display:inline;vertical-align:middle;\" /></a>, <a class=\"ProveItLink\" href=\"../../../../../../__pv_it/common/a9162d1c3cc0470c02e5daf414500903a7a419230/expr.ipynb\"><img src=\"../../../../../../__pv_it/common/a9162d1c3cc0470c02e5daf414500903a7a419230/expr.png\" style=\"display:inline;vertical-align:middle;\" /></a> : <a class=\"ProveItLink\" href=\"../dd6841aef2ed57ddc63411fd25626b38833823b50/expr.ipynb\"><img src=\"../dd6841aef2ed57ddc63411fd25626b38833823b50/expr.png\" style=\"display:inline;vertical-align:middle;\" /></a></span></td></tr><tr><td><a name=\"proveit.logic.sets.equivalence.demonstrations.1f5f0eb16f98aa5fee683e2af89c2fc2b541ff3c0_step1\">1</a></td><td>theorem</td><td></td><td><span style=\"font-size:20px;\"> <a class=\"ProveItLink\" href=\"../../../_theory_nbs_/proofs/set_not_equiv_reversal/thm_proof.ipynb\" style=\"text-decoration: none\">&nbsp;&#x22A2;&nbsp;&nbsp;</a><a class=\"ProveItLink\" href=\"../../theorems/ef98e0ef0799a001c2c99e5b452826df78eea09a0/expr.ipynb\"><img src=\"../../theorems/ef98e0ef0799a001c2c99e5b452826df78eea09a0/expr.png\" style=\"display:inline;vertical-align:middle;\" /></a></span></td></tr>\n",
       "<tr><td>&nbsp;</td><td colspan=4 style-\"text-align:left\"><a class=\"ProveItLink\" href=\"../../../_theory_nbs_/proofs/set_not_equiv_reversal/thm_proof.ipynb\">proveit.logic.sets.equivalence.set_not_equiv_reversal</a></td></tr><tr><td><a name=\"proveit.logic.sets.equivalence.demonstrations.1f5f0eb16f98aa5fee683e2af89c2fc2b541ff3c0_step2\">2</a></td><td>assumption</td><td></td><td><span style=\"font-size:20px;\"><a class=\"ProveItLink\" href=\"../e9d59e687c6547a5e9b9d1b93e78eaf44c9577650/expr.ipynb\"><img src=\"../e9d59e687c6547a5e9b9d1b93e78eaf44c9577650/expr.png\" style=\"display:inline;vertical-align:middle;\" /></a> <a class=\"ProveItLink\" href=\"../70d3965ac6b675319bb446a509ddb14f11ac68e60/proof.ipynb\" style=\"text-decoration: none\">&nbsp;&#x22A2;&nbsp;&nbsp;</a><a class=\"ProveItLink\" href=\"../e9d59e687c6547a5e9b9d1b93e78eaf44c9577650/expr.ipynb\"><img src=\"../e9d59e687c6547a5e9b9d1b93e78eaf44c9577650/expr.png\" style=\"display:inline;vertical-align:middle;\" /></a></span></td></tr>\n",
       "</table>"
      ],
      "text/plain": [
       "<proveit._core_.proof._ShowProof at 0x7fa7a07bb2e8>"
      ]
     },
     "execution_count": 1,
     "metadata": {},
     "output_type": "execute_result"
    }
   ],
   "source": [
    "import proveit\n",
    "# Automation is not needed when only showing a stored proof:\n",
    "proveit.defaults.automation = False # This will speed things up.\n",
    "proveit.defaults.inline_pngs = False # Makes files smaller.\n",
    "%show_proof"
   ]
  },
  {
   "cell_type": "code",
   "execution_count": null,
   "metadata": {},
   "outputs": [],
   "source": []
  }
 ],
 "metadata": {
  "kernelspec": {
   "display_name": "Python 3",
   "language": "python",
   "name": "python3"
  }
 },
 "nbformat": 4,
 "nbformat_minor": 0
}