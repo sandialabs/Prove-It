{
 "cells": [
  {
   "cell_type": "markdown",
   "metadata": {},
   "source": [
    "Show the Proof\n",
    "========"
   ]
  },
  {
   "cell_type": "code",
   "execution_count": 1,
   "metadata": {},
   "outputs": [
    {
     "data": {
      "text/html": [
       "<table><tr><th>&nbsp;</th><th>step type</th><th>requirements</th><th>statement</th></tr>\n",
       "<tr><td><a name=\"proveit.logic.sets.equivalence.demonstrations.99510f4d5bed097f15e1a9d09202fda8ad03e4310_step0\">0</a></td><td>instantiation</td><td><a href=\"#proveit.logic.sets.equivalence.demonstrations.99510f4d5bed097f15e1a9d09202fda8ad03e4310_step1\">1</a>, <a href=\"#proveit.logic.sets.equivalence.demonstrations.99510f4d5bed097f15e1a9d09202fda8ad03e4310_step2\">2</a>, <a href=\"#proveit.logic.sets.equivalence.demonstrations.99510f4d5bed097f15e1a9d09202fda8ad03e4310_step3\">3</a></td><td><span style=\"font-size:20px;\"><a class=\"ProveItLink\" href=\"../7f41b9f6928666b7a0801aae2f08374326b7fe5e0/expr.ipynb\"><img src=\"../7f41b9f6928666b7a0801aae2f08374326b7fe5e0/expr.png\" style=\"display:inline;vertical-align:middle;\" /></a>, <a class=\"ProveItLink\" href=\"../cde4aa29e3b41bdda9067e5dce1d3f4bbcc5d5b90/expr.ipynb\"><img src=\"../cde4aa29e3b41bdda9067e5dce1d3f4bbcc5d5b90/expr.png\" style=\"display:inline;vertical-align:middle;\" /></a> <a class=\"ProveItLink\" href=\"proof.ipynb\" style=\"text-decoration: none\">&nbsp;&#x22A2;&nbsp;&nbsp;</a><a class=\"ProveItLink\" href=\"../../../../../booleans/__pv_it/common/e0f123f2e4f322e1eba7f861749cda9fd9d99a120/expr.ipynb\"><img src=\"../../../../../booleans/__pv_it/common/e0f123f2e4f322e1eba7f861749cda9fd9d99a120/expr.png\" style=\"display:inline;vertical-align:middle;\" /></a></span></td></tr>\n",
       "<tr><td>&nbsp;</td><td colspan=4 style=\"text-align:left\"><span style=\"font-size:20px;\"><a class=\"ProveItLink\" href=\"../../../../../../__pv_it/common/09585084922504426caf1db2ff588a23a0932a960/expr.ipynb\"><img src=\"../../../../../../__pv_it/common/09585084922504426caf1db2ff588a23a0932a960/expr.png\" style=\"display:inline;vertical-align:middle;\" /></a> : <a class=\"ProveItLink\" href=\"../b525e1a908ac39fd855a42ae46345dbfae68e6350/expr.ipynb\"><img src=\"../b525e1a908ac39fd855a42ae46345dbfae68e6350/expr.png\" style=\"display:inline;vertical-align:middle;\" /></a>, <a class=\"ProveItLink\" href=\"../../../../../../__pv_it/common/a9162d1c3cc0470c02e5daf414500903a7a419230/expr.ipynb\"><img src=\"../../../../../../__pv_it/common/a9162d1c3cc0470c02e5daf414500903a7a419230/expr.png\" style=\"display:inline;vertical-align:middle;\" /></a> : <a class=\"ProveItLink\" href=\"../d7a4641aa5b9345c2af93ca373874a62dcda37d90/expr.ipynb\"><img src=\"../d7a4641aa5b9345c2af93ca373874a62dcda37d90/expr.png\" style=\"display:inline;vertical-align:middle;\" /></a></span></td></tr><tr><td><a name=\"proveit.logic.sets.equivalence.demonstrations.99510f4d5bed097f15e1a9d09202fda8ad03e4310_step1\">1</a></td><td>theorem</td><td></td><td><span style=\"font-size:20px;\"> <a class=\"ProveItLink\" href=\"../../../_theory_nbs_/proofs/set_not_equiv_contradiction/thm_proof.ipynb\" style=\"text-decoration: none\">&nbsp;&#x22A2;&nbsp;&nbsp;</a><a class=\"ProveItLink\" href=\"../../theorems/6195fd35f19f0d1c258ccbd9b632ba7ccbca40060/expr.ipynb\"><img src=\"../../theorems/6195fd35f19f0d1c258ccbd9b632ba7ccbca40060/expr.png\" style=\"display:inline;vertical-align:middle;\" /></a></span></td></tr>\n",
       "<tr><td>&nbsp;</td><td colspan=4 style-\"text-align:left\"><a class=\"ProveItLink\" href=\"../../../_theory_nbs_/proofs/set_not_equiv_contradiction/thm_proof.ipynb\">proveit.logic.sets.equivalence.set_not_equiv_contradiction</a></td></tr><tr><td><a name=\"proveit.logic.sets.equivalence.demonstrations.99510f4d5bed097f15e1a9d09202fda8ad03e4310_step2\">2</a></td><td>assumption</td><td></td><td><span style=\"font-size:20px;\"><a class=\"ProveItLink\" href=\"../7f41b9f6928666b7a0801aae2f08374326b7fe5e0/expr.ipynb\"><img src=\"../7f41b9f6928666b7a0801aae2f08374326b7fe5e0/expr.png\" style=\"display:inline;vertical-align:middle;\" /></a> <a class=\"ProveItLink\" href=\"../05eec19727cbb73b4f9cf32880567fa0369fea8f0/proof.ipynb\" style=\"text-decoration: none\">&nbsp;&#x22A2;&nbsp;&nbsp;</a><a class=\"ProveItLink\" href=\"../7f41b9f6928666b7a0801aae2f08374326b7fe5e0/expr.ipynb\"><img src=\"../7f41b9f6928666b7a0801aae2f08374326b7fe5e0/expr.png\" style=\"display:inline;vertical-align:middle;\" /></a></span></td></tr>\n",
       "<tr><td><a name=\"proveit.logic.sets.equivalence.demonstrations.99510f4d5bed097f15e1a9d09202fda8ad03e4310_step3\">3</a></td><td>assumption</td><td></td><td><span style=\"font-size:20px;\"><a class=\"ProveItLink\" href=\"../cde4aa29e3b41bdda9067e5dce1d3f4bbcc5d5b90/expr.ipynb\"><img src=\"../cde4aa29e3b41bdda9067e5dce1d3f4bbcc5d5b90/expr.png\" style=\"display:inline;vertical-align:middle;\" /></a> <a class=\"ProveItLink\" href=\"../f77460564c3d25e4d02fe98b2bbd308810cf6b290/proof.ipynb\" style=\"text-decoration: none\">&nbsp;&#x22A2;&nbsp;&nbsp;</a><a class=\"ProveItLink\" href=\"../cde4aa29e3b41bdda9067e5dce1d3f4bbcc5d5b90/expr.ipynb\"><img src=\"../cde4aa29e3b41bdda9067e5dce1d3f4bbcc5d5b90/expr.png\" style=\"display:inline;vertical-align:middle;\" /></a></span></td></tr>\n",
       "</table>"
      ],
      "text/plain": [
       "<proveit._core_.proof._ShowProof at 0x7f0c7e6bb940>"
      ]
     },
     "execution_count": 1,
     "metadata": {},
     "output_type": "execute_result"
    }
   ],
   "source": [
    "import proveit\n",
    "# Automation is not needed when only showing a stored proof:\n",
    "proveit.defaults.automation = False # This will speed things up.\n",
    "proveit.defaults.inline_pngs = False # Makes files smaller.\n",
    "%show_proof"
   ]
  },
  {
   "cell_type": "code",
   "execution_count": null,
   "metadata": {},
   "outputs": [],
   "source": []
  }
 ],
 "metadata": {
  "kernelspec": {
   "display_name": "Python 3",
   "language": "python",
   "name": "python3"
  }
 },
 "nbformat": 4,
 "nbformat_minor": 0
}