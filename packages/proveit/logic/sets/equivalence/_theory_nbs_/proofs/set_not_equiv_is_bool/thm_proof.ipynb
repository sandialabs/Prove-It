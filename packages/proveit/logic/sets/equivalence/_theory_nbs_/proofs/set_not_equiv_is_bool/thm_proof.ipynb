{
 "cells": [
  {
   "cell_type": "markdown",
   "metadata": {},
   "source": [
    "Proof of <a class=\"ProveItLink\" href=\"../../../../../../_theory_nbs_/theory.ipynb\">proveit</a>.<a class=\"ProveItLink\" href=\"../../../../../_theory_nbs_/theory.ipynb\">logic</a>.<a class=\"ProveItLink\" href=\"../../../../_theory_nbs_/theory.ipynb\">sets</a>.<a class=\"ProveItLink\" href=\"../../theory.ipynb\">equivalence</a>.<a class=\"ProveItLink\" href=\"../../theorems.ipynb#set_not_equiv_is_bool\">set_not_equiv_is_bool</a> theorem\n",
    "========"
   ]
  },
  {
   "cell_type": "code",
   "execution_count": 1,
   "metadata": {},
   "outputs": [],
   "source": [
    "import proveit\n",
    "from proveit.logic.sets.equivalence  import set_not_equiv_def\n",
    "theory = proveit.Theory() # the theorem's theory"
   ]
  },
  {
   "cell_type": "code",
   "execution_count": 2,
   "metadata": {},
   "outputs": [
    {
     "data": {
      "text/html": [
       "With these <a href=\"allowed_presumptions.txt\">allowed</a>/<a href=\"disallowed_presumptions.txt\">disallowed</a> theorem/theory presumptions (e.g., to avoid circular dependencies), we begin our proof of<br><strong id=\"set_not_equiv_is_bool\">set_not_equiv_is_bool:</strong> <a class=\"ProveItLink\" href=\"../../../__pv_it/theorems/01d1369cbefbb483574ff461473f5ae6683304950/expr.ipynb\"><img src=\"data:image/png;base64,iVBORw0KGgoAAAANSUhEUgAAALcAAAAWBAMAAABwABDnAAAAMFBMVEX///8AAAAAAAAAAAAAAAAA\n",
       "AAAAAAAAAAAAAAAAAAAAAAAAAAAAAAAAAAAAAAAAAAAv3aB7AAAAD3RSTlMAq1RmmUTNIjK7EInv\n",
       "3XZ/CtNrAAAACXBIWXMAAA7EAAAOxAGVKw4bAAADGElEQVQ4y61VS0hUYRT+Zq6jzr3OqNBLWsxA\n",
       "EERWszCpRTnQg0QksY3Za0IikkGNQAiMmZYuZGYRaVF5XbooxlpEuMgEoweWhUqBFyZcBD3UorQH\n",
       "Zed/3Dszdx6rDhzu+c9//u8/5/zf/X+goHRJLSAlBZYWFK9fKEl3vhhX0rZm7ury5FrgJNkVzLEp\n",
       "z8KtUkk6s3JVBr9UrhsA5m2L3K5k91ATvAHgABufzY2thoSSOFdTbrOIsjjgi6JYt4MHtC6aagcu\n",
       "s1TiucGLAkKZ6eM9dHV2AANeMR2hhpwKQglmgSt+akgN+L6aPzd4mVSS+w+j7NO3a8uEMzgsfHXk\n",
       "qqMNnslm3zRmLXCqt0yHQpkV52n5ZqlUW3KRJ7AeOHGjeUZM+0jDVFCbONgO3crccSFBqIQ8aRjP\n",
       "84A3SKWuYAdvD2NGeFkW+hQYekPfEXESutWWD5830lej1hwCrnOnngXeBjOtZsQSJldC0ij9ufCO\n",
       "z9YigxRu1+zLaQJTKPA8Sjgd1Sd8qvfbaH1Uhr2WCgQRqZBOR5NJ6BWgmtVTzYehtAP17iSqOMfI\n",
       "1jUern0V7J2Cd0yGTUiF98p+n8mooxYIhWk/yIjxOqi9xlsJjvgx8izRBklxni0vRGLErSU7+B2g\n",
       "fIoZjYbxxzBe8dlyqkX5S8ZxXng8LXPE3XTCLMfQXu5Lnhb08+N2wN4WYrJHlqOYvUeMwhzfydjG\n",
       "h1MZ4JSwk3nutvPKcVD8GfM1G8ywW1JdjK6yHI913IvEwhjr9G4+XMgA305psFp6+FG14BOf2gN1\n",
       "jRk2IrWHLVkRvnsWeJh2faxbbC32W+AJ7SPVWsRqdHByNIz6OBcJOWLyoU/o8Go7nIPLLLZxjp0b\n",
       "73nVamXlOQ4o/im1qlWQKHyN34rwNFkXJWHyTcbpvjCp6IkKTROLiGmXpOy264H4/U25ZFlH6PT9\n",
       "agIlv6BOm052Jdmupd7c11su2WcFPIJ6+EzpOGp/j9anrrF+qSkZyAa5mOeFsl+1Ttt4WGpKotko\n",
       "/bnB3fZ3rtW+e1Jowacwz2P53u4I4L/KPx3swLF6nJMJAAAAAElFTkSuQmCC\n",
       "\" style=\"display:inline;vertical-align:middle;\" /></a><br>(see <a class=\"ProveItLink\" href=\"../../../__pv_it/theorems/13467abbe8edad748b8383e3ed583af7320279cb0/dependencies.ipynb\">dependencies</a>)<br>"
      ],
      "text/plain": [
       "<IPython.core.display.HTML object>"
      ]
     },
     "metadata": {},
     "output_type": "display_data"
    }
   ],
   "source": [
    "%proving set_not_equiv_is_bool"
   ]
  },
  {
   "cell_type": "code",
   "execution_count": 3,
   "metadata": {},
   "outputs": [
    {
     "data": {
      "text/html": [
       "<span style=\"font-size:20px;\"> <a class=\"ProveItLink\" href=\"../../axioms.ipynb#set_not_equiv_def\" style=\"text-decoration: none\">&nbsp;&#x22A2;&nbsp;&nbsp;</a><a class=\"ProveItLink\" href=\"../../../__pv_it/axioms/9437f7172aa913560deca1c56b1db5fda3c9a51d0/expr.ipynb\"><img src=\"data:image/png;base64,iVBORw0KGgoAAAANSUhEUgAAARkAAAAWBAMAAAAGH/VFAAAAMFBMVEX///8AAAAAAAAAAAAAAAAA\n",
       "AAAAAAAAAAAAAAAAAAAAAAAAAAAAAAAAAAAAAAAAAAAv3aB7AAAAD3RSTlMAq1RmmUTNIjK7EInv\n",
       "3XZ/CtNrAAAACXBIWXMAAA7EAAAOxAGVKw4bAAAD4klEQVRIx8VWS0iUURQ+M+M8/EfHEcJqETMQ\n",
       "BFHRLERqUSpaJBGJbSp6GBGRSdomiEwnWrkQJYIkRMeN4KLQWrRwkRX2pJikQMiJqRYRhK9s1MSm\n",
       "c+7rf8w/M8sOfHP/ufeec7/z+u8PkFNaBXKIN5tezg02Z+Q5ByAQ5kC5km2PO2mvp+Qr59SYzcAp\n",
       "A4I0sTnLxm0CKC0ZzroG5kvLegG+2etJcY6wwTPHhsG3RJQ7sDtdWnohCoEIKOyj+fP2ZLRGDrKZ\n",
       "1qdlmIp6AEJR8MTs9JQM8WEnZ/P55icZAoBXAI5lgCZQuEHO9tizKYhw0GOIpdXdcgmgN8CXO9DF\n",
       "01XgqrLTU1LDh+ollsIIDAXBxzW8f9HgIkA5KJBn/rA9myIBlEePozR07do64awa5nOVOFWJjF7b\n",
       "6SkZZ7/+a8s0OBBl0ZO8YF045UJGRTEFF/rhyVI2WwTQjeQsY7we4GRfw0e+HEI0o+GzdnqqbHjW\n",
       "2gMLjBTFJz3BlxyYPM8LRETH20TiTRY2BwUw9rCTRZ/KrzkVVmkfnMJx1E5PZY0XcZXzl15Wet1p\n",
       "mzC+/qCOAwB32WJGMTKnueMN0D0iO0qWqG9l5gtbrWCnJpgEAczB8jAv3GHfaob57v6ZMlp1Neq4\n",
       "DF5mQnvJtnQujtVFxfZJAXQNOkQfgKNevlSwLreTte3WYyYlOazW4jCPrXfeyhlmW8H5jJI5rqMw\n",
       "5mf2/Qu8tOIQGBdWJwQgcLs2JPvumDyzELf5qTa7rWwmZBjx1CJm/Edt9UpGbPoQ1By+OR3OJC/i\n",
       "o++469iyc1Y29wFK4vRwKJFYSyTes9WSIG8JOJGXjYb1tpbBhqJFPeke1wGNe9la8gwvrTDci1gz\n",
       "RREXAXONqLTjNsdvfNhhzcGkgQ3LVAFi2krGR3UdQrLOuA540MSSAfv5K+1b+Qa5v1/AHVFvdihW\n",
       "1jDt0E0lvdt6Tr9kg14UUhsekVeLkTPVnS9FDvbogDa2dhR+Mgt7QFsnrY4KtFGVLPG5h+rMZqT5\n",
       "PGZpaKUnhdrWS3EdsN7RHpw90SReAhLgYC10cCzEWhypdMiu6eIYTjeBcyBFew9N4+uJ181GuvNY\n",
       "w3y0suky5iMO2kAqBlvTF82bHHTp3mLhrtch2hVJMFZP8e6RHV4c5TDaqM/8wIlbZ0w6U/k+W+C6\n",
       "AVwwsyVhbQS8f0D7ICfpPrTciZ32d6tZTDrlednUGMAtPgHt8DnfU6hYHavT79A7Arr0Zhq7mjll\n",
       "1CnM901HXxASJnFa/g8L6BLNfbRBT91KPXnYEF0Jkxy30k5y5PxatfHdpNOeh813A0wSgf8r/wAu\n",
       "HRcDmrsnNQAAAABJRU5ErkJggg==\n",
       "\" style=\"display:inline;vertical-align:middle;\" /></a></span>"
      ],
      "text/plain": [
       "|- forall_{A, B} ((A not_equiv B) = [not](A equiv B))"
      ]
     },
     "metadata": {},
     "output_type": "display_data"
    }
   ],
   "source": [
    "set_not_equiv_def"
   ]
  },
  {
   "cell_type": "code",
   "execution_count": 4,
   "metadata": {},
   "outputs": [
    {
     "data": {
      "text/html": [
       "<strong id=\"set_not_equiv_def_inst\">set_not_equiv_def_inst:</strong> <span style=\"font-size:20px;\"> <a class=\"ProveItLink\" href=\"../../../__pv_it/_proof_set_not_equiv_is_bool/24edf29d73bd63828f995a7a1e6fbeacb00839ce0/proof.ipynb\" style=\"text-decoration: none\">&nbsp;&#x22A2;&nbsp;&nbsp;</a><a class=\"ProveItLink\" href=\"../../../__pv_it/axioms/b0bcc8f24b80642a25521f93ec65bd4aafc04ce50/expr.ipynb\"><img src=\"data:image/png;base64,iVBORw0KGgoAAAANSUhEUgAAANEAAAAVBAMAAAAqbRZ+AAAAMFBMVEX///8AAAAAAAAAAAAAAAAA\n",
       "AAAAAAAAAAAAAAAAAAAAAAAAAAAAAAAAAAAAAAAAAAAv3aB7AAAAD3RSTlMAInZUiRDNmWbv3US7\n",
       "qzJazP2FAAAACXBIWXMAAA7EAAAOxAGVKw4bAAAC5klEQVRIx4VVTWgTURCeZLNp/luKCIrQqJce\n",
       "1ORQCpVC682LGDx4ilDEggG1ORRaCoWeLIjYXPRgPURyqsUS7EVFMPYiXpJ4EQRDchOCkPpD0doa\n",
       "583s275923YffJm3szPfzJuZfQGAPjh0+fZT9nkZaLZk70/T89GDDKNJt87y4XWa400cRPDCAgzx\n",
       "85QryVBtt/GpCjDodh5S9sY4ieAmCfNzSWSiEvgXgGByLkZ3z1ceL1wBaLYgmNEDmWr+V1mMcaTI\n",
       "uXsYOe4gmMQtomeBlD1NKmV06jpAlVOCAazb2zyE8noky4fXLIv57yQGwbwN8NVBsIhbRJiVFy63\n",
       "hGg/GF028lnWLaFqCY0f6pHC6kOBfgNH/pGs44HuRJ86CMJYFMQwtyaZoiZ/BHj9YX2VDZuIHB71\n",
       "ph5pWG0TV7Lf/5OkaFrqT9lBEMQSIKa5HjBGFRFzltuyJusJwLU1lJf0SNNqJXkg8sbvPZ1srEUQ\n",
       "qBM44XXojMvJk+1O7Jw6S2/vEuMzWnWxVw8ZpAyj6cQv14RKgtAEocQpwUDdeh8vy48GezwieEZ0\n",
       "ipIMjLMSSXNNfLv0ao70zx0ERoGwTLr3M82KRfNG8sXQICD63NEjLcvjY3ZhSuzMzPyO60ySILFJ\n",
       "IK8rAL1FK6VtmVIv8oR+4OaVZyQT+7vtiiQJogVCiYsHkYJ1M8h+QQcPHv+Lm/N6n0pKJKpeD2LF\n",
       "FUkSGEXChujngn2bQMQ2TOGAd8R43NcpNmQkzDAmxvWlfZ2pfZIEoQpBjPAxUVT+xuGizZfDFB5l\n",
       "tKGmpY69GGGfqEfN9Z8gCcSHgGgDZLuTYNS2RNnmVh7LlL50G41bNFirOkVbHeUimLWtDIx2b2hW\n",
       "NkGkTIi0HK/tGVeu9qKucfisgdc6ztDuz29uQ8d9ylOj+ix6Rpq18M6hrboNT7hVqk/M4z8bfBUG\n",
       "ZB3q1uG01lJ9zIpHJJEKpeNLHm7o3ydnh0+/R6STjP8QRNfupEdOJQAAAABJRU5ErkJggg==\n",
       "\" style=\"display:inline;vertical-align:middle;\" /></a></span><br>"
      ],
      "text/plain": [
       "<IPython.core.display.HTML object>"
      ]
     },
     "metadata": {},
     "output_type": "display_data"
    }
   ],
   "source": [
    "set_not_equiv_def_inst = set_not_equiv_def.instantiate()"
   ]
  },
  {
   "cell_type": "code",
   "execution_count": 5,
   "metadata": {},
   "outputs": [
    {
     "data": {
      "text/html": [
       "<strong id=\"negation_in_bool\">negation_in_bool:</strong> <span style=\"font-size:20px;\"> <a class=\"ProveItLink\" href=\"../../../__pv_it/_proof_set_not_equiv_is_bool/5babcc389b357968df099cf7a317caf621ec73100/proof.ipynb\" style=\"text-decoration: none\">&nbsp;&#x22A2;&nbsp;&nbsp;</a><a class=\"ProveItLink\" href=\"../../../__pv_it/_proof_set_not_equiv_is_bool/f43a1bd87b8961ab0ab542cd5d16bb64ab7f2ead0/expr.ipynb\"><img src=\"data:image/png;base64,iVBORw0KGgoAAAANSUhEUgAAAJIAAAAVBAMAAABf4KrdAAAAMFBMVEX///8AAAAAAAAAAAAAAAAA\n",
       "AAAAAAAAAAAAAAAAAAAAAAAAAAAAAAAAAAAAAAAAAAAv3aB7AAAAD3RSTlMAInZUiRDNmWbv3US7\n",
       "qzJazP2FAAAACXBIWXMAAA7EAAAOxAGVKw4bAAACO0lEQVQ4y3VUS2hTQRQ9SfNrPm1WRaHQUBSK\n",
       "oAkihbox7pU+XLcQhYIBP1kIgquuXKjQbuyiCkYCFeuHgrroqs8uWihisxBBbEh2gptYFwXxE+/M\n",
       "vUnnTd67cN7Mufe9M/femXkAsjDMQ/otJPC1cKGfjAS9nMoxPALPtw6Wv9LkjOkVclM/o19q6kU9\n",
       "T+z+bXz+CEyAYVo6lRuZXUO0ZPiEDHT0kDx1rwhkODToAs0WYg40vErzkayL+LzhExJv6nZNIHod\n",
       "+MahMappo4JEBRqWUqJQx6DpE3J+uqWGOiV0I/WUfQvkWiC1h2CoundWV3pKJUyaSkxCubxuPJWG\n",
       "/K81DjUJZUr1KhjU+StOL6fMkSJumUpM4jh3WHK3J4+B2dc0XhTQBju96o6f+NTVF2PyBu2ivf1D\n",
       "f8ZP6uhdAXD5sE8rT545oI2OrypTbazpSAVjdTXe0f5X3JN9YEplOiUASkbHw/fn8Kh7etXHmoS3\n",
       "bzddO6f0IhD5R5O2AEPLtMxLUYL71kfpEjBctZWGKZz4SZN1AaKukRPctBQkSjUuDslFW6lNlWV+\n",
       "0+SsAKh6lGLY7CqpPilCbsR+2H3K0wFoq848EADjHqXTsqNiihxVsX07pzItseTIQeHDEiv0lIqR\n",
       "YxV8N98nMtOZw8DugXUM9jqNxjX95QsBNWrvHW9r+YP+FyRbxgce4v+DqjL0Ib/At0XMcx3tu9lv\n",
       "6o57Lr1h7wOJn40K/GwmkAStG7RcKBdE/H7VWYaP/QclTJUfDojULAAAAABJRU5ErkJggg==\n",
       "\" style=\"display:inline;vertical-align:middle;\" /></a></span><br>"
      ],
      "text/plain": [
       "<IPython.core.display.HTML object>"
      ]
     },
     "metadata": {},
     "output_type": "display_data"
    }
   ],
   "source": [
    "negation_in_bool = set_not_equiv_def_inst.rhs.deduce_in_bool()"
   ]
  },
  {
   "cell_type": "code",
   "execution_count": 6,
   "metadata": {},
   "outputs": [
    {
     "data": {
      "text/html": [
       "<span style=\"font-size:20px;\"> <a class=\"ProveItLink\" href=\"../../../__pv_it/_proof_set_not_equiv_is_bool/3d84671cc8105afdca918fe1baa85a75d6653e360/proof.ipynb\" style=\"text-decoration: none\">&nbsp;&#x22A2;&nbsp;&nbsp;</a><a class=\"ProveItLink\" href=\"../../../__pv_it/theorems/9cd453f417ba4c01c3530987695f08446607d8060/expr.ipynb\"><img src=\"data:image/png;base64,iVBORw0KGgoAAAANSUhEUgAAAHEAAAAVBAMAAACDNRyvAAAAMFBMVEX///8AAAAAAAAAAAAAAAAA\n",
       "AAAAAAAAAAAAAAAAAAAAAAAAAAAAAAAAAAAAAAAAAAAv3aB7AAAAD3RSTlMAInZUiRDNmWbv3US7\n",
       "qzJazP2FAAAACXBIWXMAAA7EAAAOxAGVKw4bAAACFElEQVQ4y2NgYBBgwAsYccowGYApMVzy3Apo\n",
       "Alpz8jPXbgAyTCD8fAxbOM7/vXvtHAODBrpZBzYxpt5mYGBNAPOY/yNkYNZzHmBguP+AgS0AXecO\n",
       "BkceBgb2BjCP/T7Yu9z5SQwM55ggKuSB7txfwMBRgKmzmRdoMITn6P8ARL3qs5nNXBADEesHCvUD\n",
       "dU+FBsipVcvgOtkYGMwgXlPQBwfURQaGXSc3r4YovQ/EmUCnZEBCKikAYefFFgaGEohjGezBrgaF\n",
       "Y+Y3SGgzzGFgiF0HpH0hvg9AhFDQWgeYgZsZ3jvAQjYByuD7o6QLlm0DcxMR/tyV+auUgWExmFPA\n",
       "IH8BKs67ARbRHxkYLEEusQRzE5BDSGNbAMNssKLj5fcPQMX3wBTwTGBgYPkHZLwHu2DWqlWr1sB0\n",
       "8nA7QHQGMTDwLwAxqlat+rVq1VqwAn6gKzg+ARk7QTzWA8h28jAcgLgWGGNcE6ApB+ZfhvdAl/L+\n",
       "BjKswNwFqDoTGA6BAhyohu0DRJgLrkAfGCHvQb7rAXOVUHQyK4CDXBLkq48QYQ+4gkygkdNAUQGJ\n",
       "ODYDuM4tDE7uwFTDwBDzP5WB+fw3kDOrVoICAuzPO//v3s0Bq4YkDNY7WyEa1eacB+cVrgcoaRIe\n",
       "J0hZB+pDbh9o6oMCtPT8BjODQvMEJjiIwjuHqUAGV56PQeE9IGQ0sjcU8JdDTDjKKQCEQI1pnZdk\n",
       "bQAAAABJRU5ErkJggg==\n",
       "\" style=\"display:inline;vertical-align:middle;\" /></a></span>"
      ],
      "text/plain": [
       "|- (A not_equiv B) in BOOLEAN"
      ]
     },
     "metadata": {},
     "output_type": "display_data"
    },
    {
     "name": "stdout",
     "output_type": "stream",
     "text": [
      "set_not_equiv_is_bool may now be readily provable (assuming required theorems are usable).  Simply execute \"%qed\".\n"
     ]
    }
   ],
   "source": [
    "set_not_equiv_def_inst.sub_left_side_into(negation_in_bool)"
   ]
  },
  {
   "cell_type": "code",
   "execution_count": 7,
   "metadata": {},
   "outputs": [
    {
     "name": "stdout",
     "output_type": "stream",
     "text": [
      "proveit.logic.sets.equivalence.set_not_equiv_is_bool has been proven.\n"
     ]
    },
    {
     "data": {
      "text/html": [
       "<table><tr><th>&nbsp;</th><th>step type</th><th>requirements</th><th>statement</th></tr>\n",
       "<tr><td><a name=\"-0x26ef83c4c0b7c1a0_step0\">0</a></td><td>generalization</td><td><a href=\"#-0x26ef83c4c0b7c1a0_step1\">1</a></td><td><span style=\"font-size:20px;\"> <a class=\"ProveItLink\" href=\"../../../__pv_it/_proof_set_not_equiv_is_bool/cbab127704bf05d1000f5572b2a634292625f6600/proof.ipynb\" style=\"text-decoration: none\">&nbsp;&#x22A2;&nbsp;&nbsp;</a><a class=\"ProveItLink\" href=\"../../../__pv_it/theorems/01d1369cbefbb483574ff461473f5ae6683304950/expr.ipynb\"><img src=\"data:image/png;base64,iVBORw0KGgoAAAANSUhEUgAAALcAAAAWBAMAAABwABDnAAAAMFBMVEX///8AAAAAAAAAAAAAAAAA\n",
       "AAAAAAAAAAAAAAAAAAAAAAAAAAAAAAAAAAAAAAAAAAAv3aB7AAAAD3RSTlMAq1RmmUTNIjK7EInv\n",
       "3XZ/CtNrAAAACXBIWXMAAA7EAAAOxAGVKw4bAAADGElEQVQ4y61VS0hUYRT+Zq6jzr3OqNBLWsxA\n",
       "EERWszCpRTnQg0QksY3Za0IikkGNQAiMmZYuZGYRaVF5XbooxlpEuMgEoweWhUqBFyZcBD3UorQH\n",
       "Zed/3Dszdx6rDhzu+c9//u8/5/zf/X+goHRJLSAlBZYWFK9fKEl3vhhX0rZm7ury5FrgJNkVzLEp\n",
       "z8KtUkk6s3JVBr9UrhsA5m2L3K5k91ATvAHgABufzY2thoSSOFdTbrOIsjjgi6JYt4MHtC6aagcu\n",
       "s1TiucGLAkKZ6eM9dHV2AANeMR2hhpwKQglmgSt+akgN+L6aPzd4mVSS+w+j7NO3a8uEMzgsfHXk\n",
       "qqMNnslm3zRmLXCqt0yHQpkV52n5ZqlUW3KRJ7AeOHGjeUZM+0jDVFCbONgO3crccSFBqIQ8aRjP\n",
       "84A3SKWuYAdvD2NGeFkW+hQYekPfEXESutWWD5830lej1hwCrnOnngXeBjOtZsQSJldC0ij9ufCO\n",
       "z9YigxRu1+zLaQJTKPA8Sjgd1Sd8qvfbaH1Uhr2WCgQRqZBOR5NJ6BWgmtVTzYehtAP17iSqOMfI\n",
       "1jUern0V7J2Cd0yGTUiF98p+n8mooxYIhWk/yIjxOqi9xlsJjvgx8izRBklxni0vRGLErSU7+B2g\n",
       "fIoZjYbxxzBe8dlyqkX5S8ZxXng8LXPE3XTCLMfQXu5Lnhb08+N2wN4WYrJHlqOYvUeMwhzfydjG\n",
       "h1MZ4JSwk3nutvPKcVD8GfM1G8ywW1JdjK6yHI913IvEwhjr9G4+XMgA305psFp6+FG14BOf2gN1\n",
       "jRk2IrWHLVkRvnsWeJh2faxbbC32W+AJ7SPVWsRqdHByNIz6OBcJOWLyoU/o8Go7nIPLLLZxjp0b\n",
       "73nVamXlOQ4o/im1qlWQKHyN34rwNFkXJWHyTcbpvjCp6IkKTROLiGmXpOy264H4/U25ZFlH6PT9\n",
       "agIlv6BOm052Jdmupd7c11su2WcFPIJ6+EzpOGp/j9anrrF+qSkZyAa5mOeFsl+1Ttt4WGpKotko\n",
       "/bnB3fZ3rtW+e1Jowacwz2P53u4I4L/KPx3swLF6nJMJAAAAAElFTkSuQmCC\n",
       "\" style=\"display:inline;vertical-align:middle;\" /></a></span></td></tr>\n",
       "<tr><td><a name=\"-0x26ef83c4c0b7c1a0_step1\">1</a></td><td>instantiation</td><td><a href=\"#-0x26ef83c4c0b7c1a0_step2\">2</a>, <a href=\"#-0x26ef83c4c0b7c1a0_step3\">3</a>, <a href=\"#-0x26ef83c4c0b7c1a0_step4\">4</a></td><td><span style=\"font-size:20px;\"> <a class=\"ProveItLink\" href=\"../../../__pv_it/_proof_set_not_equiv_is_bool/3d84671cc8105afdca918fe1baa85a75d6653e360/proof.ipynb\" style=\"text-decoration: none\">&nbsp;&#x22A2;&nbsp;&nbsp;</a><a class=\"ProveItLink\" href=\"../../../__pv_it/theorems/9cd453f417ba4c01c3530987695f08446607d8060/expr.ipynb\"><img src=\"data:image/png;base64,iVBORw0KGgoAAAANSUhEUgAAAHEAAAAVBAMAAACDNRyvAAAAMFBMVEX///8AAAAAAAAAAAAAAAAA\n",
       "AAAAAAAAAAAAAAAAAAAAAAAAAAAAAAAAAAAAAAAAAAAv3aB7AAAAD3RSTlMAInZUiRDNmWbv3US7\n",
       "qzJazP2FAAAACXBIWXMAAA7EAAAOxAGVKw4bAAACFElEQVQ4y2NgYBBgwAsYccowGYApMVzy3Apo\n",
       "Alpz8jPXbgAyTCD8fAxbOM7/vXvtHAODBrpZBzYxpt5mYGBNAPOY/yNkYNZzHmBguP+AgS0AXecO\n",
       "BkceBgb2BjCP/T7Yu9z5SQwM55ggKuSB7txfwMBRgKmzmRdoMITn6P8ARL3qs5nNXBADEesHCvUD\n",
       "dU+FBsipVcvgOtkYGMwgXlPQBwfURQaGXSc3r4YovQ/EmUCnZEBCKikAYefFFgaGEohjGezBrgaF\n",
       "Y+Y3SGgzzGFgiF0HpH0hvg9AhFDQWgeYgZsZ3jvAQjYByuD7o6QLlm0DcxMR/tyV+auUgWExmFPA\n",
       "IH8BKs67ARbRHxkYLEEusQRzE5BDSGNbAMNssKLj5fcPQMX3wBTwTGBgYPkHZLwHu2DWqlWr1sB0\n",
       "8nA7QHQGMTDwLwAxqlat+rVq1VqwAn6gKzg+ARk7QTzWA8h28jAcgLgWGGNcE6ApB+ZfhvdAl/L+\n",
       "BjKswNwFqDoTGA6BAhyohu0DRJgLrkAfGCHvQb7rAXOVUHQyK4CDXBLkq48QYQ+4gkygkdNAUQGJ\n",
       "ODYDuM4tDE7uwFTDwBDzP5WB+fw3kDOrVoICAuzPO//v3s0Bq4YkDNY7WyEa1eacB+cVrgcoaRIe\n",
       "J0hZB+pDbh9o6oMCtPT8BjODQvMEJjiIwjuHqUAGV56PQeE9IGQ0sjcU8JdDTDjKKQCEQI1pnZdk\n",
       "bQAAAABJRU5ErkJggg==\n",
       "\" style=\"display:inline;vertical-align:middle;\" /></a></span></td></tr>\n",
       "<tr><td>&nbsp;</td><td colspan=4 style=\"text-align:left\"><span style=\"font-size:20px;\"><a class=\"ProveItLink\" href=\"../../../__pv_it/_proof_set_not_equiv_is_bool/1d99392da58b40374b949787020ddefb47f454cd0/expr.ipynb\"><img src=\"data:image/png;base64,iVBORw0KGgoAAAANSUhEUgAAADsAAAAVBAMAAAAKrYvGAAAAMFBMVEX///8AAAAAAAAAAAAAAAAA\n",
       "AAAAAAAAAAAAAAAAAAAAAAAAAAAAAAAAAAAAAAAAAAAv3aB7AAAAD3RSTlMAdrurzZkQ7zJUiSLd\n",
       "ZkQEbk8lAAAACXBIWXMAAA7EAAAOxAGVKw4bAAABHElEQVQoz2NgQAYb8PAYGBgnoHAfgkmh/8pG\n",
       "rgkg1iw01RfA1BcGBqYyIM3mgGaaG4jg+MjAwAnEDKwX0KSvgs34AcS/gAx2NFkGdpCVTB+AGKiE\n",
       "YQq6NAvIOH4FBoZ+ASAjCiHBbSUNFOEyYABL7ToJEvNFSD/fwPSNgYEX5FZ5q1X3wGIn4bJstQys\n",
       "B4AOLgCy9WGCdXBp1g8MPAuAfvoA8Ta6NLsCQ/4DBgY+oG6OXzBBhOH5Agz3gRQn0ALGfzBBRYT0\n",
       "BAYTzg0MvEA/sXyACS6GSzMJcB5lBTphAQOr/icBqGAP0CYlINBmYDNcsVmCgYHnAXIg8TSghdoe\n",
       "FB5vAJp0LCpXG5XLrYDKT0LlMqGlJm4BFK40AwMAeV42yYcqVGcAAAAASUVORK5CYII=\n",
       "\" style=\"display:inline;vertical-align:middle;\" /></a> : <a class=\"ProveItLink\" href=\"../../../__pv_it/_proof_set_not_equiv_is_bool/a9dccdbfd19eb63cc286f129ddf925359cbc0e140/expr.ipynb\"><img src=\"data:image/png;base64,iVBORw0KGgoAAAANSUhEUgAAAD4AAAAQBAMAAAC8SdExAAAAMFBMVEX///8AAAAAAAAAAAAAAAAA\n",
       "AAAAAAAAAAAAAAAAAAAAAAAAAAAAAAAAAAAAAAAAAAAv3aB7AAAAD3RSTlMAMrsiq4l2RO8QZpnd\n",
       "VM2humBGAAAACXBIWXMAAA7EAAAOxAGVKw4bAAAAzElEQVQY02NgwAHYTuj963FnwA2Y2BPsphTg\n",
       "k1/AaqCAV57rggOmeNKZMw/g8g8wpOsyEfpZrALg4iZhZiCK+SXC/MwcV7g0ezOD/gQgzWeAkD/X\n",
       "f3oCjDdjAcMeEM2H7D625XDT9jMwHAXREmeAQAEqz6BQCpNvYuD8DqInIetnUGCCcji/MXB9ADF4\n",
       "UOVh1nH+ZWB5cBkU7Ako8tdgPDWGOxs2gBhvEfIBrKkbGISUgMCAYUqqsJsASHiKOsRPbC+UsMdf\n",
       "qc4ZpFAFAIbwN/uxrLzpAAAAAElFTkSuQmCC\n",
       "\" style=\"display:inline;vertical-align:middle;\" /></a>, <a class=\"ProveItLink\" href=\"../../../../../../__pv_it/common/a0d9d672aa5e272d907247690c152cc2c6daafb70/expr.ipynb\"><img src=\"data:image/png;base64,iVBORw0KGgoAAAANSUhEUgAAAAsAAAAJBAMAAAAWSsseAAAAMFBMVEX///8AAAAAAAAAAAAAAAAA\n",
       "AAAAAAAAAAAAAAAAAAAAAAAAAAAAAAAAAAAAAAAAAAAv3aB7AAAAD3RSTlMAEHarMolUmd1mIs3v\n",
       "RLtmgJDEAAAACXBIWXMAAA7EAAAOxAGVKw4bAAAAQklEQVQI12NgEFIWCU1gYChgMmJvYOBcwPmR\n",
       "eQIDCwP7BgYQ4FEAU/cXMAowyF2wYWBlYMh3rGG4xsAgrsRWmcAAAFEjCyBvD0T9AAAAAElFTkSu\n",
       "QmCC\n",
       "\" style=\"display:inline;vertical-align:middle;\" /></a> : <a class=\"ProveItLink\" href=\"../../../__pv_it/axioms/040e9a1f9b739ee8859835262ddf22eb997ee4790/expr.ipynb\"><img src=\"data:image/png;base64,iVBORw0KGgoAAAANSUhEUgAAADsAAAATBAMAAADc9GjbAAAAMFBMVEX///8AAAAAAAAAAAAAAAAA\n",
       "AAAAAAAAAAAAAAAAAAAAAAAAAAAAAAAAAAAAAAAAAAAv3aB7AAAAD3RSTlMAIs1UmauJMnZmRLsQ\n",
       "3e++988cAAAACXBIWXMAAA7EAAAOxAGVKw4bAAABHklEQVQoz2NgAAEhBrxAH8FkhFCc+7+GBm2H\n",
       "sJn/I6RhBvFtYGCILwAzWeIFQBSXvgYDw3YOiLR8AwPDegcwMzEfrKx2uvUrZofTEOn5QKH5DWDr\n",
       "GvoNQHQgA8PafYtvQaTjgVgPbCgLg/0EEA1Sq/fJACL9moHh6HUwazFDfQLM3QpQBvvvjlZNCNOB\n",
       "QT4AKsq6AMrg+MjAYAc2k2OLS/wGqOhqmP+4HzAwsH0HsU4wMPBfADF87979e/fuVbA0P9A8zh8Q\n",
       "sxl4H0DDCuYGhnqgway/QIEBZDB9gAjywgOvH+inepA75UA2fYQIZsKl9YD6Hh1gYDj9X4eBef8n\n",
       "kKm+997ehdod/T80VNsALeLg3sIOqvFH+3b80gUYIgAmy0ZTyExn/wAAAABJRU5ErkJggg==\n",
       "\" style=\"display:inline;vertical-align:middle;\" /></a>, <a class=\"ProveItLink\" href=\"../../../../../../__pv_it/common/ff7dba4ef0bbe791ab573bf2d9c220a304399ac80/expr.ipynb\"><img src=\"data:image/png;base64,iVBORw0KGgoAAAANSUhEUgAAAAsAAAANBAMAAACN24kIAAAAMFBMVEX///8AAAAAAAAAAAAAAAAA\n",
       "AAAAAAAAAAAAAAAAAAAAAAAAAAAAAAAAAAAAAAAAAAAv3aB7AAAAD3RSTlMAEHaZZquJVO8y3btE\n",
       "zSKD2s2pAAAACXBIWXMAAA7EAAAOxAGVKw4bAAAAVklEQVQI12NgVHZgEGVgYGNvYPBnYJjOvIAh\n",
       "moFBgEOBoYmBgeG8AOdPIGXLwNQApLYycAcAKVOG8w5ASjTJ/gEDCOQCMdsFxnYgxaXAmgCk2J1s\n",
       "gCQAaFoNDtFIIdEAAAAASUVORK5CYII=\n",
       "\" style=\"display:inline;vertical-align:middle;\" /></a> : <a class=\"ProveItLink\" href=\"../../../__pv_it/axioms/bb2eac1bdd2ce216d9324209ccfd47261e333bcc0/expr.ipynb\"><img src=\"data:image/png;base64,iVBORw0KGgoAAAANSUhEUgAAAFoAAAAVBAMAAAA0iOSIAAAAMFBMVEX///8AAAAAAAAAAAAAAAAA\n",
       "AAAAAAAAAAAAAAAAAAAAAAAAAAAAAAAAAAAAAAAAAAAv3aB7AAAAD3RSTlMAmd0iq3ZUiRDNZu9E\n",
       "uzLWhN+VAAAACXBIWXMAAA7EAAAOxAGVKw4bAAABeUlEQVQoz2NgQAADBryAGYXHmgCmLHGp5glA\n",
       "5qVDqPkQqmUTSDNEwdr/Li5zHzBEISnmmACm2P5DuKqv1IGkA4Szl4GB5R8DZwNCNeMCCOUPdj7r\n",
       "AoZOBwY+AYiLvwLd8ZGBSwChmhtCFdc/AFEsQOz54BDE41z/gBioYwdCdSbEmIB4sGfZQeb/3wOR\n",
       "YvnAwMC5mYFhFkK1OMQhDPkLEF6BWXuBgcMJaGUJQjVE4zGG9wUYYff+aqgnyIyVDEJKQKAIZKqB\n",
       "JQQY7MHhwKgEBpAwiTdgYNsFpLMhmk2AGOxG1ouC/hcwzL4NxCDPv0dT3crAwK+AofoLEK8HRtRp\n",
       "hGo1iEMYmDagK+b7BST8DzAwJEH4hkB8FZQUgH7h/IDubtbPQB0/QSkAYQIoeKyBmPczutmcQNtO\n",
       "z4AHMhg8YmDo/T+Dge3+T7QgZLn/xcXzGoilgxBkesBAADAj+R85zWAHjAuQOJcJqbZF5vQSUo1i\n",
       "HHMAfsWsBgwA6E9SmsnrJU0AAAAASUVORK5CYII=\n",
       "\" style=\"display:inline;vertical-align:middle;\" /></a></span></td></tr><tr><td><a name=\"-0x26ef83c4c0b7c1a0_step2\">2</a></td><td>theorem</td><td></td><td><span style=\"font-size:20px;\"> <a class=\"ProveItLink\" href=\"../../../../../equality/_theory_nbs_/proofs/sub_left_side_into/thm_proof.ipynb\" style=\"text-decoration: none\">&nbsp;&#x22A2;&nbsp;&nbsp;</a><a class=\"ProveItLink\" href=\"../../../../../equality/__pv_it/theorems/fa7b338ac0e02abe373a31648947826ee50d3a400/expr.ipynb\"><img src=\"data:image/png;base64,iVBORw0KGgoAAAANSUhEUgAAAMIAAAAXBAMAAACrPI2eAAAAMFBMVEX///8AAAAAAAAAAAAAAAAA\n",
       "AAAAAAAAAAAAAAAAAAAAAAAAAAAAAAAAAAAAAAAAAAAv3aB7AAAAD3RSTlMAq1RmmUTNIjK7EInv\n",
       "3XZ/CtNrAAAACXBIWXMAAA7EAAAOxAGVKw4bAAACs0lEQVRIx7VWS2gTURQ9k5l08uuYQkFEKQVB\n",
       "wQ9moyCoRIpUqEjQlVZsUEFwNV2KYutWlI4ULLowUQTNRqKIixahVNxUlFFwWRg/IEWIWfhNQL3v\n",
       "N3kxDIikF97c+w7nvfNy372PACtjrnA2VsqcQeHjAZBlwfru7Lv8++qaU2UWbVbQe2Af86e7dPRv\n",
       "QHKRfKqokJ4yLrJsed0RSPwCYjRg5RRk5pkI0oNdyv4PGk0KMi1sESbJ9XQpSck6DVLBhhZ2Enix\n",
       "tPS8SwqrKNtTVD0YoXH/7b05ys0DYD9wI2qJ1TbbKFIRrUC7n3stD468M2D5wA5gHDZVbLw0snd1\n",
       "588W7siXR30uzIKY5SMVPq+d284DkjFds2HQDWyhXcpptnQ38CRKwfSR9nFLgqORCiUVPKO6gsVL\n",
       "dorKK+AX3U9HiFIw8nDqonNEiUe3Q6hABcVuBMdoFPewaAF4RUn+cGGYJsezotelQmYQvVn4Eue1\n",
       "LYnQyEg0lQK/jDE3RWfZStHDM6zpGhinBH80vBPUkkEjMa8pTJTtfthFicfYRTCidZ1sOiTD+aoU\n",
       "bgKVwjqkKdxJ4zw7gfmytolcLhlMktxt3/E0hV21d2XEPYnHvZDIn09FRk9dKVCJbrt0AIdk4RqM\n",
       "amRlSfNn16gagabQxz6xrMQTXouok63Sz0BCV4A7tdgQS+cbRcvIl+Qyf9l7C5lJTeEpz7IncZ4l\n",
       "RhRZCsma9YaA7atogjZOVe35x8inqsQY02rJ/s6dD4E7gSSG2439XVRm2DPhG+iUZumUCzg4WiuT\n",
       "iw1d0xSWm7w+ZyDwpCuJcq0i6zajgrPteEy5u5jW+yHsNI5XQqIwRdat0iEl7KhyA/Fip4LlCnw4\n",
       "JApTZN1seeeO247nlDv8CZ0KmOU4e55yOqzI/2XtfxVS2vff7Q+ss7Q23lQ/yQAAAABJRU5ErkJg\n",
       "gg==\n",
       "\" style=\"display:inline;vertical-align:middle;\" /></a></span></td></tr>\n",
       "<tr><td>&nbsp;</td><td colspan=4 style-\"text-align:left\"><a class=\"ProveItLink\" href=\"../../../../../equality/_theory_nbs_/proofs/sub_left_side_into/thm_proof.ipynb\">proveit.logic.equality.sub_left_side_into</a></td></tr><tr><td><a name=\"-0x26ef83c4c0b7c1a0_step3\">3</a></td><td>instantiation</td><td><a href=\"#-0x26ef83c4c0b7c1a0_step5\">5</a>, <a href=\"#-0x26ef83c4c0b7c1a0_step6\">6</a></td><td><span style=\"font-size:20px;\"> <a class=\"ProveItLink\" href=\"../../../__pv_it/_proof_set_not_equiv_is_bool/5babcc389b357968df099cf7a317caf621ec73100/proof.ipynb\" style=\"text-decoration: none\">&nbsp;&#x22A2;&nbsp;&nbsp;</a><a class=\"ProveItLink\" href=\"../../../__pv_it/_proof_set_not_equiv_is_bool/f43a1bd87b8961ab0ab542cd5d16bb64ab7f2ead0/expr.ipynb\"><img src=\"data:image/png;base64,iVBORw0KGgoAAAANSUhEUgAAAJIAAAAVBAMAAABf4KrdAAAAMFBMVEX///8AAAAAAAAAAAAAAAAA\n",
       "AAAAAAAAAAAAAAAAAAAAAAAAAAAAAAAAAAAAAAAAAAAv3aB7AAAAD3RSTlMAInZUiRDNmWbv3US7\n",
       "qzJazP2FAAAACXBIWXMAAA7EAAAOxAGVKw4bAAACO0lEQVQ4y3VUS2hTQRQ9SfNrPm1WRaHQUBSK\n",
       "oAkihbox7pU+XLcQhYIBP1kIgquuXKjQbuyiCkYCFeuHgrroqs8uWihisxBBbEh2gptYFwXxE+/M\n",
       "vUnnTd67cN7Mufe9M/femXkAsjDMQ/otJPC1cKGfjAS9nMoxPALPtw6Wv9LkjOkVclM/o19q6kU9\n",
       "T+z+bXz+CEyAYVo6lRuZXUO0ZPiEDHT0kDx1rwhkODToAs0WYg40vErzkayL+LzhExJv6nZNIHod\n",
       "+MahMappo4JEBRqWUqJQx6DpE3J+uqWGOiV0I/WUfQvkWiC1h2CoundWV3pKJUyaSkxCubxuPJWG\n",
       "/K81DjUJZUr1KhjU+StOL6fMkSJumUpM4jh3WHK3J4+B2dc0XhTQBju96o6f+NTVF2PyBu2ivf1D\n",
       "f8ZP6uhdAXD5sE8rT545oI2OrypTbazpSAVjdTXe0f5X3JN9YEplOiUASkbHw/fn8Kh7etXHmoS3\n",
       "bzddO6f0IhD5R5O2AEPLtMxLUYL71kfpEjBctZWGKZz4SZN1AaKukRPctBQkSjUuDslFW6lNlWV+\n",
       "0+SsAKh6lGLY7CqpPilCbsR+2H3K0wFoq848EADjHqXTsqNiihxVsX07pzItseTIQeHDEiv0lIqR\n",
       "YxV8N98nMtOZw8DugXUM9jqNxjX95QsBNWrvHW9r+YP+FyRbxgce4v+DqjL0Ib/At0XMcx3tu9lv\n",
       "6o57Lr1h7wOJn40K/GwmkAStG7RcKBdE/H7VWYaP/QclTJUfDojULAAAAABJRU5ErkJggg==\n",
       "\" style=\"display:inline;vertical-align:middle;\" /></a></span></td></tr>\n",
       "<tr><td>&nbsp;</td><td colspan=4 style=\"text-align:left\"><span style=\"font-size:20px;\"><a class=\"ProveItLink\" href=\"../../../../../../__pv_it/common/09585084922504426caf1db2ff588a23a0932a960/expr.ipynb\"><img src=\"data:image/png;base64,iVBORw0KGgoAAAANSUhEUgAAAA8AAAAPBAMAAADJ+Ih5AAAAMFBMVEX///8AAAAAAAAAAAAAAAAA\n",
       "AAAAAAAAAAAAAAAAAAAAAAAAAAAAAAAAAAAAAAAAAAAv3aB7AAAAD3RSTlMAIs1UmauJMnZmRLsQ\n",
       "3e++988cAAAACXBIWXMAAA7EAAAOxAGVKw4bAAAAXklEQVQI12NgAAEhBijQh9LM/6EMlngBCCMx\n",
       "vwBMMzb0G0BkGOwngBmLGeoTwAwHBvkAEM2xxSV+A4hxgoGB/wJEhoH3AZDmAupg+gBkyAEx90cG\n",
       "htP/dRiY939KAABt3hLO6mcEjQAAAABJRU5ErkJggg==\n",
       "\" style=\"display:inline;vertical-align:middle;\" /></a> : <a class=\"ProveItLink\" href=\"../../../__pv_it/theorems/2ee8dc2018014830ed832e2e3d65a4df89f102480/expr.ipynb\"><img src=\"data:image/png;base64,iVBORw0KGgoAAAANSUhEUgAAADsAAAAPBAMAAACo4Ko7AAAAMFBMVEX///8AAAAAAAAAAAAAAAAA\n",
       "AAAAAAAAAAAAAAAAAAAAAAAAAAAAAAAAAAAAAAAAAAAv3aB7AAAAD3RSTlMAIs1UmauJMnZmRLsQ\n",
       "3e++988cAAAACXBIWXMAAA7EAAAOxAGVKw4bAAAA+UlEQVQY02NgAAEhBrxAH0zyxF0GkhxgNuf+\n",
       "r6FB2yGyzP/BFG/73AQGBlaIGN8GBob4AjCTJV4ARHUy8KgyMJRApOUbGBjWO4CZiflgZQFArepc\n",
       "FyHS84FC8xtALMaGfgMQDTSZof/fAoh0PBDrgQ1lYbCfAHflASj9moHh6HUwazFDfQK6X9h/d7Rq\n",
       "QpgODPIBINr3LghcBYtxfGRgsAObybHFJX4Dum7uBwwMbN9BrBMMDPwX0KX5geZx/oCYzcD7AF26\n",
       "Hmgw6y8ggwvIYPqAbnc/0E/1CkCGHMimj+i69YD6HgE9efq/DgPz/k9oPov+HxqqDQwrAPAyQLUO\n",
       "1tWZAAAAAElFTkSuQmCC\n",
       "\" style=\"display:inline;vertical-align:middle;\" /></a></span></td></tr><tr><td><a name=\"-0x26ef83c4c0b7c1a0_step4\">4</a></td><td>instantiation</td><td><a href=\"#-0x26ef83c4c0b7c1a0_step7\">7</a></td><td><span style=\"font-size:20px;\"> <a class=\"ProveItLink\" href=\"../../../__pv_it/_proof_set_not_equiv_is_bool/24edf29d73bd63828f995a7a1e6fbeacb00839ce0/proof.ipynb\" style=\"text-decoration: none\">&nbsp;&#x22A2;&nbsp;&nbsp;</a><a class=\"ProveItLink\" href=\"../../../__pv_it/axioms/b0bcc8f24b80642a25521f93ec65bd4aafc04ce50/expr.ipynb\"><img src=\"data:image/png;base64,iVBORw0KGgoAAAANSUhEUgAAANEAAAAVBAMAAAAqbRZ+AAAAMFBMVEX///8AAAAAAAAAAAAAAAAA\n",
       "AAAAAAAAAAAAAAAAAAAAAAAAAAAAAAAAAAAAAAAAAAAv3aB7AAAAD3RSTlMAInZUiRDNmWbv3US7\n",
       "qzJazP2FAAAACXBIWXMAAA7EAAAOxAGVKw4bAAAC5klEQVRIx4VVTWgTURCeZLNp/luKCIrQqJce\n",
       "1ORQCpVC682LGDx4ilDEggG1ORRaCoWeLIjYXPRgPURyqsUS7EVFMPYiXpJ4EQRDchOCkPpD0doa\n",
       "583s275923YffJm3szPfzJuZfQGAPjh0+fZT9nkZaLZk70/T89GDDKNJt87y4XWa400cRPDCAgzx\n",
       "85QryVBtt/GpCjDodh5S9sY4ieAmCfNzSWSiEvgXgGByLkZ3z1ceL1wBaLYgmNEDmWr+V1mMcaTI\n",
       "uXsYOe4gmMQtomeBlD1NKmV06jpAlVOCAazb2zyE8noky4fXLIv57yQGwbwN8NVBsIhbRJiVFy63\n",
       "hGg/GF028lnWLaFqCY0f6pHC6kOBfgNH/pGs44HuRJ86CMJYFMQwtyaZoiZ/BHj9YX2VDZuIHB71\n",
       "ph5pWG0TV7Lf/5OkaFrqT9lBEMQSIKa5HjBGFRFzltuyJusJwLU1lJf0SNNqJXkg8sbvPZ1srEUQ\n",
       "qBM44XXojMvJk+1O7Jw6S2/vEuMzWnWxVw8ZpAyj6cQv14RKgtAEocQpwUDdeh8vy48GezwieEZ0\n",
       "ipIMjLMSSXNNfLv0ao70zx0ERoGwTLr3M82KRfNG8sXQICD63NEjLcvjY3ZhSuzMzPyO60ySILFJ\n",
       "IK8rAL1FK6VtmVIv8oR+4OaVZyQT+7vtiiQJogVCiYsHkYJ1M8h+QQcPHv+Lm/N6n0pKJKpeD2LF\n",
       "FUkSGEXChujngn2bQMQ2TOGAd8R43NcpNmQkzDAmxvWlfZ2pfZIEoQpBjPAxUVT+xuGizZfDFB5l\n",
       "tKGmpY69GGGfqEfN9Z8gCcSHgGgDZLuTYNS2RNnmVh7LlL50G41bNFirOkVbHeUimLWtDIx2b2hW\n",
       "NkGkTIi0HK/tGVeu9qKucfisgdc6ztDuz29uQ8d9ylOj+ix6Rpq18M6hrboNT7hVqk/M4z8bfBUG\n",
       "ZB3q1uG01lJ9zIpHJJEKpeNLHm7o3ydnh0+/R6STjP8QRNfupEdOJQAAAABJRU5ErkJggg==\n",
       "\" style=\"display:inline;vertical-align:middle;\" /></a></span></td></tr>\n",
       "<tr><td>&nbsp;</td><td colspan=4 style=\"text-align:left\"><span style=\"font-size:20px;\"><a class=\"ProveItLink\" href=\"../../../../../../__pv_it/common/09585084922504426caf1db2ff588a23a0932a960/expr.ipynb\"><img src=\"data:image/png;base64,iVBORw0KGgoAAAANSUhEUgAAAA8AAAAPBAMAAADJ+Ih5AAAAMFBMVEX///8AAAAAAAAAAAAAAAAA\n",
       "AAAAAAAAAAAAAAAAAAAAAAAAAAAAAAAAAAAAAAAAAAAv3aB7AAAAD3RSTlMAIs1UmauJMnZmRLsQ\n",
       "3e++988cAAAACXBIWXMAAA7EAAAOxAGVKw4bAAAAXklEQVQI12NgAAEhBijQh9LM/6EMlngBCCMx\n",
       "vwBMMzb0G0BkGOwngBmLGeoTwAwHBvkAEM2xxSV+A4hxgoGB/wJEhoH3AZDmAupg+gBkyAEx90cG\n",
       "htP/dRiY939KAABt3hLO6mcEjQAAAABJRU5ErkJggg==\n",
       "\" style=\"display:inline;vertical-align:middle;\" /></a> : <a class=\"ProveItLink\" href=\"../../../../../../__pv_it/common/09585084922504426caf1db2ff588a23a0932a960/expr.ipynb\"><img src=\"data:image/png;base64,iVBORw0KGgoAAAANSUhEUgAAAA8AAAAPBAMAAADJ+Ih5AAAAMFBMVEX///8AAAAAAAAAAAAAAAAA\n",
       "AAAAAAAAAAAAAAAAAAAAAAAAAAAAAAAAAAAAAAAAAAAv3aB7AAAAD3RSTlMAIs1UmauJMnZmRLsQ\n",
       "3e++988cAAAACXBIWXMAAA7EAAAOxAGVKw4bAAAAXklEQVQI12NgAAEhBijQh9LM/6EMlngBCCMx\n",
       "vwBMMzb0G0BkGOwngBmLGeoTwAwHBvkAEM2xxSV+A4hxgoGB/wJEhoH3AZDmAupg+gBkyAEx90cG\n",
       "htP/dRiY939KAABt3hLO6mcEjQAAAABJRU5ErkJggg==\n",
       "\" style=\"display:inline;vertical-align:middle;\" /></a>, <a class=\"ProveItLink\" href=\"../../../../../../__pv_it/common/a9162d1c3cc0470c02e5daf414500903a7a419230/expr.ipynb\"><img src=\"data:image/png;base64,iVBORw0KGgoAAAANSUhEUgAAABAAAAAOBAMAAADUAYG5AAAAMFBMVEX///8AAAAAAAAAAAAAAAAA\n",
       "AAAAAAAAAAAAAAAAAAAAAAAAAAAAAAAAAAAAAAAAAAAv3aB7AAAAD3RSTlMAZrurzTLvInZEmRDd\n",
       "VIkafcLnAAAACXBIWXMAAA7EAAAOxAGVKw4bAAAAb0lEQVQI12NgYBD6b2zsFMAABEkMDMxfgTT7\n",
       "DwYGzl9ABiOQxwjkMDB/YGBgSQcy2BQYuG1AiuM1OkwEQJr6Cxh4E0EMNSB+D5L6DMTyDQwMrB+B\n",
       "DPsJDAwc34GcL0AOSwIDwzRvoHH6n41NdBkYAF/iFeJ4bEa2AAAAAElFTkSuQmCC\n",
       "\" style=\"display:inline;vertical-align:middle;\" /></a> : <a class=\"ProveItLink\" href=\"../../../../../../__pv_it/common/a9162d1c3cc0470c02e5daf414500903a7a419230/expr.ipynb\"><img src=\"data:image/png;base64,iVBORw0KGgoAAAANSUhEUgAAABAAAAAOBAMAAADUAYG5AAAAMFBMVEX///8AAAAAAAAAAAAAAAAA\n",
       "AAAAAAAAAAAAAAAAAAAAAAAAAAAAAAAAAAAAAAAAAAAv3aB7AAAAD3RSTlMAZrurzTLvInZEmRDd\n",
       "VIkafcLnAAAACXBIWXMAAA7EAAAOxAGVKw4bAAAAb0lEQVQI12NgYBD6b2zsFMAABEkMDMxfgTT7\n",
       "DwYGzl9ABiOQxwjkMDB/YGBgSQcy2BQYuG1AiuM1OkwEQJr6Cxh4E0EMNSB+D5L6DMTyDQwMrB+B\n",
       "DPsJDAwc34GcL0AOSwIDwzRvoHH6n41NdBkYAF/iFeJ4bEa2AAAAAElFTkSuQmCC\n",
       "\" style=\"display:inline;vertical-align:middle;\" /></a></span></td></tr><tr><td><a name=\"-0x26ef83c4c0b7c1a0_step5\">5</a></td><td>conjecture</td><td></td><td><span style=\"font-size:20px;\"> <a class=\"ProveItLink\" href=\"../../../../../booleans/negation/_theory_nbs_/proofs/closure/thm_proof.ipynb\" style=\"text-decoration: none\">&nbsp;&#x22A2;&nbsp;&nbsp;</a><a class=\"ProveItLink\" href=\"../../../../../booleans/negation/__pv_it/theorems/63d2d1127aa0220ef21e2837c5f2bee240fe4c1d0/expr.ipynb\"><img src=\"data:image/png;base64,iVBORw0KGgoAAAANSUhEUgAAAJsAAAAVBAMAAACj9YEXAAAAMFBMVEX///8AAAAAAAAAAAAAAAAA\n",
       "AAAAAAAAAAAAAAAAAAAAAAAAAAAAAAAAAAAAAAAAAAAv3aB7AAAAD3RSTlMAq1RmmUTNIjK7EInv\n",
       "3XZ/CtNrAAAACXBIWXMAAA7EAAAOxAGVKw4bAAAChElEQVQ4y4VUTWjUQBR+TTa73U03evFQPGxA\n",
       "EMG/PajgRRasIvTgopeiIpUq4lZqtVAoVLqCV9sg1hJBjd56kdSLVA/WgyBqtUgtCAYCIoL/eKjH\n",
       "+t7M62STbdYPvuzk7Zsv728GoDUGmY3ItfBtDcuWjDAMYIQJp483l+c3AJzE9XoybEqT28qMcAH5\n",
       "KeGVN8Lhe1WwygAH6P1silqhVzKCtoKPrJeUK5uDDkAN4AoVw0mRy5QlGywlrJBeaZLTbUxzl/yS\n",
       "aafIdTAjPHpax+dLLtrtYEnJYRIdHuj48Wxa6TYzo6aGv+jTfeLFGPBUdG1DPuqg1nwQvEqT62ZG\n",
       "ucJOyn1GNtlTyX79sRF/TUz4EMAtYfSa5fpUJIwjMIFRwB6INTBvLL1dxO06JnwRcmJYCi+4d/2n\n",
       "F1dr+U4yExCo/hUYI+dt4t/ehlZYu7Gt2hyuPbNKNvMPPsY7JyH0L21hv+dMUTbUsW50lWgKJsjQ\n",
       "jmUKPrAcOMfR8hslQ9mJnjcYBmaOcub9FLkHAOsWcH1CpOM0RAdOHnszRzHvE7bwFI976A89jier\n",
       "5DDfIm3ZLiwLMTkMSiPLw5qYITjI3wu7XtfZ7w5TyFXAoKHChGCvsPyMye3AVtD+UdGJHvgu3Cm6\n",
       "q5/Zb0YNhcAobf2rhidrKznf/IaRZ6jrbSKW7iclTz/nutepdib7XWNKTK/UQLu7jHveyxPdeUwe\n",
       "jvOuuFGgWFWXDMBYvd2X0ZkWW4t1yeSFx1UzZuUhW8VltTqKPbPlPKPcOFvprCfPOyRvhQj7lcMz\n",
       "KBw+AyMYiTbQ7yr3KWYcI2urNV1MhVl3MmaYZsYxtbZc/r+3ey6UjF/mKdu+APwDN+eg1EeU4WMA\n",
       "AAAASUVORK5CYII=\n",
       "\" style=\"display:inline;vertical-align:middle;\" /></a></span></td></tr>\n",
       "<tr><td>&nbsp;</td><td colspan=4 style-\"text-align:left\"><a class=\"ProveItLink\" href=\"../../../../../booleans/negation/_theory_nbs_/proofs/closure/thm_proof.ipynb\">proveit.logic.booleans.negation.closure</a></td></tr><tr><td><a name=\"-0x26ef83c4c0b7c1a0_step6\">6</a></td><td>instantiation</td><td><a href=\"#-0x26ef83c4c0b7c1a0_step8\">8</a></td><td><span style=\"font-size:20px;\"> <a class=\"ProveItLink\" href=\"../../../__pv_it/_proof_set_not_equiv_is_bool/c62aa107f65cd243b700de6310255f6e091945080/proof.ipynb\" style=\"text-decoration: none\">&nbsp;&#x22A2;&nbsp;&nbsp;</a><a class=\"ProveItLink\" href=\"../../../__pv_it/theorems/0ff36c1bb5bf87a69f2036bdae82b30e66a78ab20/expr.ipynb\"><img src=\"data:image/png;base64,iVBORw0KGgoAAAANSUhEUgAAAHEAAAAVBAMAAACDNRyvAAAAMFBMVEX///8AAAAAAAAAAAAAAAAA\n",
       "AAAAAAAAAAAAAAAAAAAAAAAAAAAAAAAAAAAAAAAAAAAv3aB7AAAAD3RSTlMAInZUiRDNmWbv3US7\n",
       "qzJazP2FAAAACXBIWXMAAA7EAAAOxAGVKw4bAAAB8UlEQVQ4y2NgYBBgwAsYccowGYApMVzy3Apo\n",
       "Alpz8jPXbgAyTCD8fDDJenMxyDAwm+P837vXzjEwaKCbdWATY+ptoNoEMI/5P5ji0utyYGDghajg\n",
       "PMDAcP8BA1sAus4dDI48DAzsDWAe+32wdzUYWHMZGJ5DVMgD3bm/gIGjAFNnM9BwTgjP0f8BiLoA\n",
       "tDCPeyFErB8o1A/UPRUaIKdWLYPrZGNgMIMEoII+OKCATmXQ/7kBovQ+EGcCnZIBCamkAISdF1sY\n",
       "GEogjmWwb4C7BqZiDgND7Dog7QsJ/ABECAWtdYAZuJnhvQN6EPL9UdIFy7aBuYkIf+7K/FXKwLAY\n",
       "zClgkL8AoqtWgcBaiL8+MjBYglxiCeYmIIeQxrYAhtlgRcfL7x9At5NnAgMDyz8g4z3YBbOARq6B\n",
       "6eThdoDoDGJg4F+ArpMf6AqOT0DGTnAaOYBsJw/DAYhrgTHGNQFd53ugS3l/AxlWYO4CVJ0JDIdA\n",
       "AQ5Uw/YB3Z/6wAh5D/JdD5irhKKTWQEc5JIgX31EtzMTaOQ0UFRAIo7NAK5zC4OTOwPDKwaGmP+p\n",
       "DMznv6FFy53/d+/mgFWvhmSGO1shEmpzzoPzCtcDBgKAEepDbh9o6oMCjPSMAdgbcEgcJKRTBpdE\n",
       "DCGdOI1mVMCvkQlHOQUAqZqFj+en3ZoAAAAASUVORK5CYII=\n",
       "\" style=\"display:inline;vertical-align:middle;\" /></a></span></td></tr>\n",
       "<tr><td>&nbsp;</td><td colspan=4 style=\"text-align:left\"><span style=\"font-size:20px;\"><a class=\"ProveItLink\" href=\"../../../../../../__pv_it/common/09585084922504426caf1db2ff588a23a0932a960/expr.ipynb\"><img src=\"data:image/png;base64,iVBORw0KGgoAAAANSUhEUgAAAA8AAAAPBAMAAADJ+Ih5AAAAMFBMVEX///8AAAAAAAAAAAAAAAAA\n",
       "AAAAAAAAAAAAAAAAAAAAAAAAAAAAAAAAAAAAAAAAAAAv3aB7AAAAD3RSTlMAIs1UmauJMnZmRLsQ\n",
       "3e++988cAAAACXBIWXMAAA7EAAAOxAGVKw4bAAAAXklEQVQI12NgAAEhBijQh9LM/6EMlngBCCMx\n",
       "vwBMMzb0G0BkGOwngBmLGeoTwAwHBvkAEM2xxSV+A4hxgoGB/wJEhoH3AZDmAupg+gBkyAEx90cG\n",
       "htP/dRiY939KAABt3hLO6mcEjQAAAABJRU5ErkJggg==\n",
       "\" style=\"display:inline;vertical-align:middle;\" /></a> : <a class=\"ProveItLink\" href=\"../../../../../../__pv_it/common/09585084922504426caf1db2ff588a23a0932a960/expr.ipynb\"><img src=\"data:image/png;base64,iVBORw0KGgoAAAANSUhEUgAAAA8AAAAPBAMAAADJ+Ih5AAAAMFBMVEX///8AAAAAAAAAAAAAAAAA\n",
       "AAAAAAAAAAAAAAAAAAAAAAAAAAAAAAAAAAAAAAAAAAAv3aB7AAAAD3RSTlMAIs1UmauJMnZmRLsQ\n",
       "3e++988cAAAACXBIWXMAAA7EAAAOxAGVKw4bAAAAXklEQVQI12NgAAEhBijQh9LM/6EMlngBCCMx\n",
       "vwBMMzb0G0BkGOwngBmLGeoTwAwHBvkAEM2xxSV+A4hxgoGB/wJEhoH3AZDmAupg+gBkyAEx90cG\n",
       "htP/dRiY939KAABt3hLO6mcEjQAAAABJRU5ErkJggg==\n",
       "\" style=\"display:inline;vertical-align:middle;\" /></a>, <a class=\"ProveItLink\" href=\"../../../../../../__pv_it/common/a9162d1c3cc0470c02e5daf414500903a7a419230/expr.ipynb\"><img src=\"data:image/png;base64,iVBORw0KGgoAAAANSUhEUgAAABAAAAAOBAMAAADUAYG5AAAAMFBMVEX///8AAAAAAAAAAAAAAAAA\n",
       "AAAAAAAAAAAAAAAAAAAAAAAAAAAAAAAAAAAAAAAAAAAv3aB7AAAAD3RSTlMAZrurzTLvInZEmRDd\n",
       "VIkafcLnAAAACXBIWXMAAA7EAAAOxAGVKw4bAAAAb0lEQVQI12NgYBD6b2zsFMAABEkMDMxfgTT7\n",
       "DwYGzl9ABiOQxwjkMDB/YGBgSQcy2BQYuG1AiuM1OkwEQJr6Cxh4E0EMNSB+D5L6DMTyDQwMrB+B\n",
       "DPsJDAwc34GcL0AOSwIDwzRvoHH6n41NdBkYAF/iFeJ4bEa2AAAAAElFTkSuQmCC\n",
       "\" style=\"display:inline;vertical-align:middle;\" /></a> : <a class=\"ProveItLink\" href=\"../../../../../../__pv_it/common/a9162d1c3cc0470c02e5daf414500903a7a419230/expr.ipynb\"><img src=\"data:image/png;base64,iVBORw0KGgoAAAANSUhEUgAAABAAAAAOBAMAAADUAYG5AAAAMFBMVEX///8AAAAAAAAAAAAAAAAA\n",
       "AAAAAAAAAAAAAAAAAAAAAAAAAAAAAAAAAAAAAAAAAAAv3aB7AAAAD3RSTlMAZrurzTLvInZEmRDd\n",
       "VIkafcLnAAAACXBIWXMAAA7EAAAOxAGVKw4bAAAAb0lEQVQI12NgYBD6b2zsFMAABEkMDMxfgTT7\n",
       "DwYGzl9ABiOQxwjkMDB/YGBgSQcy2BQYuG1AiuM1OkwEQJr6Cxh4E0EMNSB+D5L6DMTyDQwMrB+B\n",
       "DPsJDAwc34GcL0AOSwIDwzRvoHH6n41NdBkYAF/iFeJ4bEa2AAAAAElFTkSuQmCC\n",
       "\" style=\"display:inline;vertical-align:middle;\" /></a></span></td></tr><tr><td><a name=\"-0x26ef83c4c0b7c1a0_step7\">7</a></td><td>axiom</td><td></td><td><span style=\"font-size:20px;\"> <a class=\"ProveItLink\" href=\"../../axioms.ipynb#set_not_equiv_def\" style=\"text-decoration: none\">&nbsp;&#x22A2;&nbsp;&nbsp;</a><a class=\"ProveItLink\" href=\"../../../__pv_it/axioms/9437f7172aa913560deca1c56b1db5fda3c9a51d0/expr.ipynb\"><img src=\"data:image/png;base64,iVBORw0KGgoAAAANSUhEUgAAARkAAAAWBAMAAAAGH/VFAAAAMFBMVEX///8AAAAAAAAAAAAAAAAA\n",
       "AAAAAAAAAAAAAAAAAAAAAAAAAAAAAAAAAAAAAAAAAAAv3aB7AAAAD3RSTlMAq1RmmUTNIjK7EInv\n",
       "3XZ/CtNrAAAACXBIWXMAAA7EAAAOxAGVKw4bAAAD4klEQVRIx8VWS0iUURQ+M+M8/EfHEcJqETMQ\n",
       "BFHRLERqUSpaJBGJbSp6GBGRSdomiEwnWrkQJYIkRMeN4KLQWrRwkRX2pJikQMiJqRYRhK9s1MSm\n",
       "c+7rf8w/M8sOfHP/ufeec7/z+u8PkFNaBXKIN5tezg02Z+Q5ByAQ5kC5km2PO2mvp+Qr59SYzcAp\n",
       "A4I0sTnLxm0CKC0ZzroG5kvLegG+2etJcY6wwTPHhsG3RJQ7sDtdWnohCoEIKOyj+fP2ZLRGDrKZ\n",
       "1qdlmIp6AEJR8MTs9JQM8WEnZ/P55icZAoBXAI5lgCZQuEHO9tizKYhw0GOIpdXdcgmgN8CXO9DF\n",
       "01XgqrLTU1LDh+ollsIIDAXBxzW8f9HgIkA5KJBn/rA9myIBlEePozR07do64awa5nOVOFWJjF7b\n",
       "6SkZZ7/+a8s0OBBl0ZO8YF045UJGRTEFF/rhyVI2WwTQjeQsY7we4GRfw0e+HEI0o+GzdnqqbHjW\n",
       "2gMLjBTFJz3BlxyYPM8LRETH20TiTRY2BwUw9rCTRZ/KrzkVVmkfnMJx1E5PZY0XcZXzl15Wet1p\n",
       "mzC+/qCOAwB32WJGMTKnueMN0D0iO0qWqG9l5gtbrWCnJpgEAczB8jAv3GHfaob57v6ZMlp1Neq4\n",
       "DF5mQnvJtnQujtVFxfZJAXQNOkQfgKNevlSwLreTte3WYyYlOazW4jCPrXfeyhlmW8H5jJI5rqMw\n",
       "5mf2/Qu8tOIQGBdWJwQgcLs2JPvumDyzELf5qTa7rWwmZBjx1CJm/Edt9UpGbPoQ1By+OR3OJC/i\n",
       "o++469iyc1Y29wFK4vRwKJFYSyTes9WSIG8JOJGXjYb1tpbBhqJFPeke1wGNe9la8gwvrTDci1gz\n",
       "RREXAXONqLTjNsdvfNhhzcGkgQ3LVAFi2krGR3UdQrLOuA540MSSAfv5K+1b+Qa5v1/AHVFvdihW\n",
       "1jDt0E0lvdt6Tr9kg14UUhsekVeLkTPVnS9FDvbogDa2dhR+Mgt7QFsnrY4KtFGVLPG5h+rMZqT5\n",
       "PGZpaKUnhdrWS3EdsN7RHpw90SReAhLgYC10cCzEWhypdMiu6eIYTjeBcyBFew9N4+uJ181GuvNY\n",
       "w3y0suky5iMO2kAqBlvTF82bHHTp3mLhrtch2hVJMFZP8e6RHV4c5TDaqM/8wIlbZ0w6U/k+W+C6\n",
       "AVwwsyVhbQS8f0D7ICfpPrTciZ32d6tZTDrlednUGMAtPgHt8DnfU6hYHavT79A7Arr0Zhq7mjll\n",
       "1CnM901HXxASJnFa/g8L6BLNfbRBT91KPXnYEF0Jkxy30k5y5PxatfHdpNOeh813A0wSgf8r/wAu\n",
       "HRcDmrsnNQAAAABJRU5ErkJggg==\n",
       "\" style=\"display:inline;vertical-align:middle;\" /></a></span></td></tr>\n",
       "<tr><td>&nbsp;</td><td colspan=4 style-\"text-align:left\"><a class=\"ProveItLink\" href=\"../../axioms.ipynb#set_not_equiv_def\">proveit.logic.sets.equivalence.set_not_equiv_def</a></td></tr><tr><td><a name=\"-0x26ef83c4c0b7c1a0_step8\">8</a></td><td>conjecture</td><td></td><td><span style=\"font-size:20px;\"> <a class=\"ProveItLink\" href=\"../set_equiv_is_bool/thm_proof.ipynb\" style=\"text-decoration: none\">&nbsp;&#x22A2;&nbsp;&nbsp;</a><a class=\"ProveItLink\" href=\"../../../__pv_it/theorems/d2f3e5ece81f5879765aa93c2ae934934d58acf80/expr.ipynb\"><img src=\"data:image/png;base64,iVBORw0KGgoAAAANSUhEUgAAALcAAAAWBAMAAABwABDnAAAAMFBMVEX///8AAAAAAAAAAAAAAAAA\n",
       "AAAAAAAAAAAAAAAAAAAAAAAAAAAAAAAAAAAAAAAAAAAv3aB7AAAAD3RSTlMAq1RmmUTNIjK7EInv\n",
       "3XZ/CtNrAAAACXBIWXMAAA7EAAAOxAGVKw4bAAAC+klEQVQ4y61VTUhUURT+ZsYZnfecMaEiKZiB\n",
       "oE1WszChhSn0QyKR1EYsSpGoBikjEALDCdq0iJlF9AfluHRRjG0iXGRC0Q+WiVlBAxMuin7UorQ/\n",
       "snPPve/pXOe9Nh04792fc797z3e/dx7gah3KXazYZamrhaPSyTqdYvw5bc3rCzPDy4D91F4iBlY7\n",
       "LFyrnOwYP41Vo2I9t309n8uXXwImtEVBf66ztxHhGLBN9A8VxjZapJN55/gVeleTATxyujQFRBII\n",
       "pHXwmNlBU3HgtKAtVRi8KCZdNCPM4QSMVuCMnO4mQg7UwVe3CNwXJUKqwPua0cLgpcrJbt1JQJLo\n",
       "Oex/IcdqaaiWNnikyL6aHbfBKd/SNHx0soAD5WuUU265KT4AcYKp341yOkLeTgm1yYs9mrZP7jlB\n",
       "gQFCHs5mHzuANygnVrAhZg9bHD8Eel/Su1/KKW3T8v7TSnqblOYO4Eremnlrg3Ws3Uhm9NmSH5Nv\n",
       "eLYaeaII+sefjhGYj6g5jmKWo/GAp85+HahPqLBR5UAdujloZ1bYM8nxLFAp8qnkbsuCCw1vJKl4\n",
       "B6mdNplD84tU7wjCgyrsnnKEz2+NLFJUkMLM79RIch5Eb/aVAkdqL41M0wY5eZ9NT/jlIW1N6+A3\n",
       "gLIRHbyMcvH9ocY+Tjy14ORIBemGxRlbNvNYrlXKL4rrMZ0WUnJoUAdPUpjnGzXWcXckD5wO7BUj\n",
       "N+OcObbLL2OiaoUVdk25X8h1Wud8ilSYFExv4u5kHvh6ykrk0sVX1YSPPFUDY6kV1q+8SyyZ1U/e\n",
       "TrveT9tqDURt8Iz5gXItEvrysDgaBiKsRULuVh8Jzknvm4vD2zOjabFirrz8CAM+l4WoolmKqP0y\n",
       "V0WEGu1CSZi8yRDVC0uKoYT0fxR0xbb/tvz8LTtlt/bQ7UeNDIp/whizBkVJ0stS4fJWyLbYAXdh\n",
       "7DpYMoTqXwP182XsonJXO+mQkP5heLV+n3JXc9g9qP/nmvXdc9Jdf4UOP8u3+kAM/9X+AirkvIt+\n",
       "kSQdAAAAAElFTkSuQmCC\n",
       "\" style=\"display:inline;vertical-align:middle;\" /></a></span></td></tr>\n",
       "<tr><td>&nbsp;</td><td colspan=4 style-\"text-align:left\"><a class=\"ProveItLink\" href=\"../set_equiv_is_bool/thm_proof.ipynb\">proveit.logic.sets.equivalence.set_equiv_is_bool</a></td></tr></table>"
      ],
      "text/plain": [
       "\tstep type\trequirements\tstatement\n",
       "0\tgeneralization\t1\t|- forall_{A, B} ((A not_equiv B) in BOOLEAN)\n",
       "1\tinstantiation\t2, 3, 4\t|- (A not_equiv B) in BOOLEAN\n",
       "\tP(_a) : _a in BOOLEAN, x : A not_equiv B, y : [not](A equiv B)\n",
       "2\ttheorem\t\t|- forall_{P, x, y | P(y), x = y} P(x)\n",
       "\tproveit.logic.equality.sub_left_side_into\n",
       "3\tinstantiation\t5, 6\t|- [not](A equiv B) in BOOLEAN\n",
       "\tA : A equiv B\n",
       "4\tinstantiation\t7\t|- (A not_equiv B) = [not](A equiv B)\n",
       "\tA : A, B : B\n",
       "5\tconjecture\t\t|- forall_{A in BOOLEAN} ([not](A) in BOOLEAN)\n",
       "\tproveit.logic.booleans.negation.closure\n",
       "6\tinstantiation\t8\t|- (A equiv B) in BOOLEAN\n",
       "\tA : A, B : B\n",
       "7\taxiom\t\t|- forall_{A, B} ((A not_equiv B) = [not](A equiv B))\n",
       "\tproveit.logic.sets.equivalence.set_not_equiv_def\n",
       "8\tconjecture\t\t|- forall_{A, B} ((A equiv B) in BOOLEAN)\n",
       "\tproveit.logic.sets.equivalence.set_equiv_is_bool"
      ]
     },
     "execution_count": 7,
     "metadata": {},
     "output_type": "execute_result"
    }
   ],
   "source": [
    "%qed"
   ]
  },
  {
   "cell_type": "code",
   "execution_count": null,
   "metadata": {},
   "outputs": [],
   "source": []
  }
 ],
 "metadata": {
  "kernelspec": {
   "display_name": "Python 3",
   "language": "python",
   "name": "python3"
  }
 },
 "nbformat": 4,
 "nbformat_minor": 0
}