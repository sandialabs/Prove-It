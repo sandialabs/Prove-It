{
 "cells": [
  {
   "cell_type": "markdown",
   "metadata": {},
   "source": [
    "Proof of <a class=\"ProveItLink\" href=\"../../../../../../_theory_nbs_/theory.ipynb\">proveit</a>.<a class=\"ProveItLink\" href=\"../../../../../_theory_nbs_/theory.ipynb\">logic</a>.<a class=\"ProveItLink\" href=\"../../../../_theory_nbs_/theory.ipynb\">sets</a>.<a class=\"ProveItLink\" href=\"../../theory.ipynb\">equivalence</a>.<a class=\"ProveItLink\" href=\"../../theorems.ipynb#set_not_equiv_existential\">set_not_equiv_existential</a> theorem\n",
    "========"
   ]
  },
  {
   "cell_type": "code",
   "execution_count": null,
   "metadata": {},
   "outputs": [],
   "source": [
    "import proveit\n",
    "from proveit import defaults, n, x, y, A, B, P, Q, S, Lambda\n",
    "from proveit.numbers import one\n",
    "from proveit.logic.sets.equivalence import set_equiv_fold, unfold_set_not_equiv\n",
    "theory = proveit.Theory() # the theorem's theory"
   ]
  },
  {
   "cell_type": "code",
   "execution_count": null,
   "metadata": {},
   "outputs": [],
   "source": [
    "%proving set_not_equiv_existential"
   ]
  },
  {
   "cell_type": "code",
   "execution_count": null,
   "metadata": {},
   "outputs": [],
   "source": [
    "defaults.assumptions = set_not_equiv_existential.conditions"
   ]
  },
  {
   "cell_type": "markdown",
   "metadata": {},
   "source": [
    "We proceed using a proof by contradiction, showing that $\\forall_{x}((x \\in A)=(x \\in B))$ (i.e. the negation of $\\exists_{x}((x\\in A)\\ne(x \\in B))$) leads to a contradiction of the condition that $A \\not\\cong B$."
   ]
  },
  {
   "cell_type": "code",
   "execution_count": null,
   "metadata": {},
   "outputs": [],
   "source": [
    "from proveit.logic import SetNotEquiv\n",
    "A_notequiv_B = SetNotEquiv(A, B)"
   ]
  },
  {
   "cell_type": "code",
   "execution_count": null,
   "metadata": {},
   "outputs": [],
   "source": [
    "not_A_equiv_B = A_notequiv_B.unfold()"
   ]
  },
  {
   "cell_type": "code",
   "execution_count": null,
   "metadata": {},
   "outputs": [],
   "source": [
    "from proveit.logic import SetEquiv\n",
    "A_equiv_B = SetEquiv(A, B)"
   ]
  },
  {
   "cell_type": "code",
   "execution_count": null,
   "metadata": {},
   "outputs": [],
   "source": [
    "from proveit import x, A, B\n",
    "from proveit.logic import Equals, Forall, InSet\n",
    "forall_x_then_A_equiv_B = A_equiv_B.conclude(assumptions=[Forall(x, Equals(InSet(x, A), InSet(x, B)))])"
   ]
  },
  {
   "cell_type": "code",
   "execution_count": null,
   "metadata": {},
   "outputs": [],
   "source": [
    "forall_x_then_A_equiv_B"
   ]
  },
  {
   "cell_type": "code",
   "execution_count": null,
   "metadata": {},
   "outputs": [],
   "source": [
    "contra = not_A_equiv_B.derive_contradiction(assumptions=[Forall(x, Equals(InSet(x, A), InSet(x, B)))])"
   ]
  },
  {
   "cell_type": "code",
   "execution_count": null,
   "metadata": {},
   "outputs": [],
   "source": [
    "not_for_all_judgment = contra.deny_assumption(Forall(x, Equals(InSet(x, A), InSet(x, B))))"
   ]
  },
  {
   "cell_type": "markdown",
   "metadata": {},
   "source": [
    "We are almost done. We still need the system to understand that $\\forall_{x}((x \\in A)=(x \\in B)) = \\neg(\\exists_{x}((x \\in A)\\ne(x \\in B)))$, and this doesn't seem to have been encoded in the Forall class methods. Eventually this might deserve an equality prover method of its own, perhaps called something existential_translation()?"
   ]
  },
  {
   "cell_type": "code",
   "execution_count": null,
   "metadata": {},
   "outputs": [],
   "source": [
    "from proveit.logic.booleans.quantification.existence import not_forall_implies_exists_not\n",
    "not_forall_implies_exists_not"
   ]
  },
  {
   "cell_type": "code",
   "execution_count": null,
   "metadata": {},
   "outputs": [],
   "source": [
    "not_for_all_expr = not_for_all_judgment.expr"
   ]
  },
  {
   "cell_type": "code",
   "execution_count": null,
   "metadata": {},
   "outputs": [],
   "source": [
    "_x = _y = not_for_all_expr.operand.instance_params"
   ]
  },
  {
   "cell_type": "code",
   "execution_count": null,
   "metadata": {},
   "outputs": [],
   "source": [
    "_n = _x.num_elements()"
   ]
  },
  {
   "cell_type": "code",
   "execution_count": null,
   "metadata": {},
   "outputs": [],
   "source": [
    "_Q = Lambda(_x, not_for_all_expr.operand.conditions)"
   ]
  },
  {
   "cell_type": "code",
   "execution_count": null,
   "metadata": {},
   "outputs": [],
   "source": [
    "_P = Lambda(_x, not_for_all_expr.operand.instance_expr)"
   ]
  },
  {
   "cell_type": "code",
   "execution_count": null,
   "metadata": {},
   "outputs": [],
   "source": [
    "# A temporary work-around for an empty conjunction-related error when we instantiate\n",
    "# in the next cell. If we manually execute this step, we avoid an error in the instantiation below\n",
    "from proveit.logic import And, Equals, Forall, InSet\n",
    "Equals(Forall(x, Equals(InSet(x, A), InSet(x, B)), conditions=[And()]),\n",
    "       Forall(x, Equals(InSet(x, A), InSet(x, B)))).prove()"
   ]
  },
  {
   "cell_type": "code",
   "execution_count": null,
   "metadata": {},
   "outputs": [],
   "source": [
    "not_forall_implies_exists_not.instantiate({P:_P, Q:_Q, x:_x, y:_y, n:_n})"
   ]
  },
  {
   "cell_type": "code",
   "execution_count": null,
   "metadata": {},
   "outputs": [],
   "source": [
    "%qed"
   ]
  },
  {
   "cell_type": "markdown",
   "metadata": {},
   "source": [
    "### Proof Tangent (cells commented-out)\n",
    "\n",
    "The cells below explore and document some errors that occur when the Exists.derive_negated_forall() method is called repeatedly."
   ]
  },
  {
   "cell_type": "markdown",
   "metadata": {},
   "source": [
    "#### Inadvertently discovered that a _second_ call to the Exists.derive_negated_forall() method leads to a puzzling error, where we see an empty conjunction as a condition in the quantified Forall expression and it causes an error when the system cannot or does not recognize that the version with the empty conjunction condition it equal to the version without the empty conjunction.\n",
    "Temporarily leaving some of the following cells here for later continued exploration of this odd error."
   ]
  },
  {
   "cell_type": "markdown",
   "metadata": {},
   "source": [
    "Here we _manually_ go through the process for the second attempt (instead of the repeated method call) to see if we can narrow down the source of this (new-ish) error.\n",
    "\n",
    "We begin with the theorm imported and instantiated inside the `Exists.derive_negated_forall()` method:"
   ]
  },
  {
   "cell_type": "code",
   "execution_count": null,
   "metadata": {},
   "outputs": [],
   "source": [
    "# this is the theorem imported and instantiated inside the Exists.derive_negated_forall() method\n",
    "# from proveit.logic.booleans.quantification.existence import exists_not_implies_not_forall\n",
    "# exists_not_implies_not_forall"
   ]
  },
  {
   "cell_type": "markdown",
   "metadata": {},
   "source": [
    "#### And the step-by-step creation of the substitutions for the instantiation:"
   ]
  },
  {
   "cell_type": "code",
   "execution_count": null,
   "metadata": {},
   "outputs": [],
   "source": [
    "# _n = exists_expr.instance_params.num_elements()"
   ]
  },
  {
   "cell_type": "code",
   "execution_count": null,
   "metadata": {},
   "outputs": [],
   "source": [
    "# _x = exists_expr.instance_params"
   ]
  },
  {
   "cell_type": "code",
   "execution_count": null,
   "metadata": {},
   "outputs": [],
   "source": [
    "# _y = _x"
   ]
  },
  {
   "cell_type": "code",
   "execution_count": null,
   "metadata": {},
   "outputs": [],
   "source": [
    "# the following creates the substitution of () for Q\n",
    "# which eventually gets interpreted as an empty conjunction And()\n",
    "# from proveit import Lambda\n",
    "# _Q = Lambda(_x, exists_expr.conditions)"
   ]
  },
  {
   "cell_type": "code",
   "execution_count": null,
   "metadata": {},
   "outputs": [],
   "source": [
    "# _P = Lambda(x, exists_expr.instance_expr.operand)"
   ]
  },
  {
   "cell_type": "markdown",
   "metadata": {},
   "source": [
    "#### And then the actual instantiation, which works just fine:"
   ]
  },
  {
   "cell_type": "code",
   "execution_count": null,
   "metadata": {},
   "outputs": [],
   "source": [
    "# _impl = exists_not_implies_not_forall.instantiate(\n",
    "#                 {P: _P, Q: _Q, x: _x, y: _y, n: _n})"
   ]
  },
  {
   "cell_type": "markdown",
   "metadata": {},
   "source": [
    "#### The `Exists.derive_negated_forall()` method then finishes by deriving the consequent of the implication:"
   ]
  },
  {
   "cell_type": "code",
   "execution_count": null,
   "metadata": {},
   "outputs": [],
   "source": [
    "# _impl.derive_consequent(assumptions=[exists_expr])"
   ]
  },
  {
   "cell_type": "markdown",
   "metadata": {},
   "source": [
    "And this continues to work no matter how many times we repeatedly call the derive_consequent() method on the impication:"
   ]
  },
  {
   "cell_type": "code",
   "execution_count": null,
   "metadata": {},
   "outputs": [],
   "source": [
    "# _impl.derive_consequent(assumptions=[exists_expr])"
   ]
  },
  {
   "cell_type": "code",
   "execution_count": null,
   "metadata": {},
   "outputs": [],
   "source": [
    "# _impl.derive_consequent(assumptions=[exists_expr])"
   ]
  },
  {
   "cell_type": "markdown",
   "metadata": {},
   "source": [
    "#### But if we once again directly call the `derive_negated_forall()` method, we get an error, involving the consequent somehow not simplifying the empty conjunction:"
   ]
  },
  {
   "cell_type": "code",
   "execution_count": null,
   "metadata": {},
   "outputs": [],
   "source": [
    "# exists_expr.derive_negated_forall(assumptions=[exists_expr])"
   ]
  },
  {
   "cell_type": "markdown",
   "metadata": {},
   "source": [
    "But strangely enough, when we retrieve that unsatisfied condition, we find that it is readily_provable, so it's puzzling why this isn't being dealt with very easily:"
   ]
  },
  {
   "cell_type": "code",
   "execution_count": null,
   "metadata": {},
   "outputs": [],
   "source": [
    "# from proveit import Instantiation\n",
    "# error_condition = Instantiation.unsatisfied_condition"
   ]
  },
  {
   "cell_type": "code",
   "execution_count": null,
   "metadata": {},
   "outputs": [],
   "source": [
    "# Instantiation.condition_assumptions"
   ]
  },
  {
   "cell_type": "code",
   "execution_count": null,
   "metadata": {},
   "outputs": [],
   "source": [
    "# error_condition.readily_provable()"
   ]
  },
  {
   "cell_type": "code",
   "execution_count": null,
   "metadata": {},
   "outputs": [],
   "source": [
    "# error_condition.lhs.conditions"
   ]
  },
  {
   "cell_type": "code",
   "execution_count": null,
   "metadata": {},
   "outputs": [],
   "source": [
    "# from proveit.logic import Equals\n",
    "# Equals(error_condition.lhs, error_condition.rhs).prove()"
   ]
  },
  {
   "cell_type": "markdown",
   "metadata": {},
   "source": [
    "#### And if we run it a 3rd time, we no longer get the error but a somewhat bizarre result (part of the “bizarreness” is the fact that it no longer gives an error at all):"
   ]
  },
  {
   "cell_type": "code",
   "execution_count": null,
   "metadata": {},
   "outputs": [],
   "source": [
    "# exists_expr.derive_negated_forall(assumptions=[exists_expr])"
   ]
  },
  {
   "cell_type": "code",
   "execution_count": null,
   "metadata": {},
   "outputs": [],
   "source": [
    "# display(_impl.consequent.expr_info(details=True))"
   ]
  }
 ],
 "metadata": {
  "kernelspec": {
   "display_name": "Python 3",
   "language": "python",
   "name": "python3"
  }
 },
 "nbformat": 4,
 "nbformat_minor": 0
}
