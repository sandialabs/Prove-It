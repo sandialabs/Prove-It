{
 "cells": [
  {
   "cell_type": "markdown",
   "metadata": {},
   "source": [
    "Proof of <a class=\"ProveItLink\" href=\"../../../../../../_theory_nbs_/theory.ipynb\">proveit</a>.<a class=\"ProveItLink\" href=\"../../../../../_theory_nbs_/theory.ipynb\">logic</a>.<a class=\"ProveItLink\" href=\"../../../../_theory_nbs_/theory.ipynb\">sets</a>.<a class=\"ProveItLink\" href=\"../../theory.ipynb\">equivalence</a>.<a class=\"ProveItLink\" href=\"../../theorems.ipynb#union_with_elem_redundancy\">union_with_elem_redundancy</a> theorem\n",
    "========"
   ]
  },
  {
   "cell_type": "code",
   "execution_count": 1,
   "metadata": {},
   "outputs": [],
   "source": [
    "import proveit\n",
    "theory = proveit.Theory() # the theorem's theory"
   ]
  },
  {
   "cell_type": "code",
   "execution_count": 2,
   "metadata": {},
   "outputs": [
    {
     "data": {
      "text/html": [
       "With these <a href=\"allowed_presumptions.txt\">allowed</a>/<a href=\"disallowed_presumptions.txt\">disallowed</a> theorem/theory presumptions (e.g., to avoid circular dependencies), we begin our proof of<br><strong id=\"union_with_elem_redundancy\">union_with_elem_redundancy:</strong> <a class=\"ProveItLink\" href=\"../../../__pv_it/theorems/ed23ac3bbfc896745dc813f100c7a836e6d32b1b0/expr.ipynb\"><img src=\"data:image/png;base64,iVBORw0KGgoAAAANSUhEUgAAAPAAAAAXBAMAAADHOt+bAAAAMFBMVEX///8AAAAAAAAAAAAAAAAA\n",
       "AAAAAAAAAAAAAAAAAAAAAAAAAAAAAAAAAAAAAAAAAAAv3aB7AAAAD3RSTlMAq1RmmUTNIjK7EInv\n",
       "3XZ/CtNrAAAACXBIWXMAAA7EAAAOxAGVKw4bAAADV0lEQVRIx7VWXUgUURQ+uzO7OztrukUYQsRA\n",
       "Ug/9uC8JPWRGlsZGSdBDWShKRUIwQi+S1Eo9haUVIvogW0gkQWgP/WDJQvhiCBL0JMaG9iex+UNU\n",
       "vmz33Hvuzu7srLWCF86dM/fc737n3nPPmQFYRTNJspt+khTfduxyLeCDVbVCQ4hD+3xaau19AJ54\n",
       "jhXQEERla17EO0igNDy0J8PiXrb0O0xmhHp/At0kLziIGQ7hy4V8ePUGIeCPw+A8e3bh6AB2gUlr\n",
       "2msm3ihXP1yfAtoigZihHY+8Kx9iNSQEqgAUdICztTgRK5U8NCF4GASN6wRiBnQqYORDXEACvymK\n",
       "uYlhHDsXk+LIWXEdCTQOCvPdm1eIt5F4lgC0yMrETXwUd50cE9eKQMwwMT39Ni/iMImefCEGbMRP\n",
       "Pj4aMYh42LoZ9CAQM9QA9GXHcQXiJrmT/ckFM5NYxZBXFm5R2dB3HCjPQhOoHBG+oDVel6jA0/Nn\n",
       "Zd7ozFdS35GA/i0ZyyRuY3FTTGXZxZ7X8OLs5O5M8yZYCMQM/mig1krEOHSCjfh2STfAbtDm6X2M\n",
       "BJf8mUHcco51mtg36MWMudMpKxDUiVzejBvrshGrNdjHZB5axGxX+mKKGNNSO8LztoCXigB6ccbO\n",
       "KkFoaKhgXaJ6Fo++KCTqqCAunL1aTdVnyarOdNQ6c8THK1UPdhUcxp2rN3XmQBk6sctefCQIDU+b\n",
       "GYVZ4jX4rb8HFvEXV1ejLorLjz8hCe4X4mYbVYdw4BTWoGZ5qwdrN/MEeoUDe20xToHQ0MZGFOjX\n",
       "+KoPjgct4pA/HvEIQr10QRIPC1GnZLa4G0HfF5HEZTePwgmZx2F7fCUIDS6O+cUNUfDMp8W4yATl\n",
       "Ym/vXczCegm+JUT1bFxPFe/KpfNzIIkHEu6DhiR+byeWoJRBi2FsPQbVbSLuAFPjp8m20CqnrosI\n",
       "cWj2yuWbzPVBloa2QIMKj0ENgstMEftiz6BSVJcDAJskCCu/qP7/JFZDK3xohPJpdA46DPVG+Hna\n",
       "5TpWl4hCK26upmrE+uXokTc5+xchZumHIe2U7M1msD5SaXmsv+ztzpw2SOJwgosW7E1O97IMnqgT\n",
       "scPycSEO7fIGOWcY/4/MXD9PmQYF/o94LZtvzRn+ArUA5zyreqFuAAAAAElFTkSuQmCC\n",
       "\" style=\"display:inline;vertical-align:middle;\" /></a><br>(see <a class=\"ProveItLink\" href=\"../../../__pv_it/theorems/614c43b6f206d9884816429a227916cfbfe930690/dependencies.ipynb\">dependencies</a>)<br>"
      ],
      "text/plain": [
       "<IPython.core.display.HTML object>"
      ]
     },
     "metadata": {},
     "output_type": "display_data"
    }
   ],
   "source": [
    "%proving union_with_elem_redundancy"
   ]
  },
  {
   "cell_type": "code",
   "execution_count": null,
   "metadata": {},
   "outputs": [],
   "source": []
  }
 ],
 "metadata": {
  "kernelspec": {
   "display_name": "Python 3",
   "language": "python",
   "name": "python3"
  }
 },
 "nbformat": 4,
 "nbformat_minor": 0
}