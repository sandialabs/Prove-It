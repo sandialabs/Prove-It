{
 "cells": [
  {
   "cell_type": "markdown",
   "metadata": {},
   "source": [
    "Proof of <a class=\"ProveItLink\" href=\"../../../../../../_theory_nbs_/theory.ipynb\">proveit</a>.<a class=\"ProveItLink\" href=\"../../../../../_theory_nbs_/theory.ipynb\">logic</a>.<a class=\"ProveItLink\" href=\"../../../../_theory_nbs_/theory.ipynb\">sets</a>.<a class=\"ProveItLink\" href=\"../../theory.ipynb\">equivalence</a>.<a class=\"ProveItLink\" href=\"../../theorems.ipynb#set_equiv_transitivity\">set_equiv_transitivity</a> theorem\n",
    "========"
   ]
  },
  {
   "cell_type": "code",
   "execution_count": 1,
   "metadata": {},
   "outputs": [],
   "source": [
    "import proveit\n",
    "theory = proveit.Theory() # the theorem's theory"
   ]
  },
  {
   "cell_type": "code",
   "execution_count": 2,
   "metadata": {},
   "outputs": [
    {
     "data": {
      "text/html": [
       "With these <a href=\"allowed_presumptions.txt\">allowed</a>/<a href=\"disallowed_presumptions.txt\">disallowed</a> theorem/theory presumptions (e.g., to avoid circular dependencies), we begin our proof of<br><strong id=\"set_equiv_transitivity\">set_equiv_transitivity:</strong> <a class=\"ProveItLink\" href=\"../../../__pv_it/theorems/42fed0c1798c38009dee2ccdd59829b38fef548a0/expr.ipynb\"><img src=\"data:image/png;base64,iVBORw0KGgoAAAANSUhEUgAAAPcAAAAXBAMAAAAl5sTiAAAAMFBMVEX///8AAAAAAAAAAAAAAAAA\n",
       "AAAAAAAAAAAAAAAAAAAAAAAAAAAAAAAAAAAAAAAAAAAv3aB7AAAAD3RSTlMAq1RmmUTNIjK7EInv\n",
       "3XZ/CtNrAAAACXBIWXMAAA7EAAAOxAGVKw4bAAADQElEQVRIx7VWXUgUURT+dnbH2Z3VSckHH4oG\n",
       "8iUI2gfxzVhJIzNR6MXsT4MoTMieK9eil8KHoqd+wHnYotBg69GNLKmIItsiyIfELQlTpB8LMy3q\n",
       "3Ht3Zi5juga7F+beb+89c75zv3Pu3AXy1bQs653IY3svQmhdan0fPcUMrM89t5LgQ8EXPuhrXlFv\n",
       "iCV9smS1ljAiQC37eSj35NfFsEmQF32somB8Ym56CkpDBO3AKabN+dyTbxFD9Q8+jENvA85wfHOE\n",
       "usZOVJAuFhA2c09+n/fh43N8pOT6DqtvOO4gRuwBCi34SfqCPKRcFFqXMcNHVgCffzXxePgMiVBA\n",
       "zM9HR5/lnjwg6i2qfHPnLN7HUqy/QVGQHNuAy9LaP/zYQP8PcrYtQDWDC96VwXQG+EmcY9D4cdOf\n",
       "8Kmz35N13RwZpck+FlDIfq2/2/HgWLnmrL2rHxgQqMgUcWtf+c+GUdZeMjhmf10UKouQFZZyAX8K\n",
       "Bi8WlU7mVcjkgybCj8lpRLIS4O4BQsBeEyFRaCjkPidrqn96d/7CljlIp1BJi3prHuaDLwo/P5sb\n",
       "ab1cJld70ii/doVXj2PFgbJ9VwJhKE/JW1Qi10nh317yMb5rUktlcbZu5pPpNvGWiVssXxoT4rRM\n",
       "bhQUI4pAWbzJtRKAqqL6XC1ipErQlGRn1fLWS97IZA+zAFjl3WnnrrFVFON4RRnfUsq2tsnTgVam\n",
       "eOWwZCUAKe7vSGOtRBFiZbWTnqPenMfYCqsMP/u0neD11oxpblYFvZRvKeohV7spuYFL1C66VgJk\n",
       "Zh9K5OwcaUzXXu/txQ7fbss+jT5erfXJdfyskc8Yy1chC9CUyAPJ2/OOB9vKBdSYJEoGB1PQe2ct\n",
       "bPhzxKt7/EIpf6PIfo9dODEexBCwnwEfhW50SuRpaHOOA9vKBdRK6JmwLUayfgpOOojSs8rUE9Dm\n",
       "ob8G+qA/Aj5IsquU7hlbYGHlmGdm+5tgOLupWOnVQ5o+gN54MDiEyoVkHYndYyJe/8mSyHcUIz5r\n",
       "uxZWrnnmC1hzb8qtuGz/VBZdpYqDpHsutPTtsYxvPds1vSi6Fhuo1krIW5Zz3pWFfMI7EbGBHysh\n",
       "jyDvTcub57882+DTPtb0tAAAAABJRU5ErkJggg==\n",
       "\" style=\"display:inline;vertical-align:middle;\" /></a><br>(see <a class=\"ProveItLink\" href=\"../../../__pv_it/theorems/02b38bc8950c005be1c1b8d1f624fe6d3d72741b0/dependencies.ipynb\">dependencies</a>)<br>"
      ],
      "text/plain": [
       "<IPython.core.display.HTML object>"
      ]
     },
     "metadata": {},
     "output_type": "display_data"
    },
    {
     "name": "stdout",
     "output_type": "stream",
     "text": [
      "set_equiv_transitivity may now be readily provable (assuming required theorems are usable).  Simply execute \"%qed\".\n"
     ]
    }
   ],
   "source": [
    "%proving set_equiv_transitivity"
   ]
  },
  {
   "cell_type": "code",
   "execution_count": null,
   "metadata": {},
   "outputs": [],
   "source": []
  }
 ],
 "metadata": {
  "kernelspec": {
   "display_name": "Python 3",
   "language": "python",
   "name": "python3"
  }
 },
 "nbformat": 4,
 "nbformat_minor": 0
}