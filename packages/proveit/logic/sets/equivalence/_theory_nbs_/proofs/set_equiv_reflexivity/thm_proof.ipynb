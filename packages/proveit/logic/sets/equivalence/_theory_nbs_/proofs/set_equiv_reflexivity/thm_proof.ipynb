{
 "cells": [
  {
   "cell_type": "markdown",
   "metadata": {},
   "source": [
    "Proof of <a class=\"ProveItLink\" href=\"../../../../../../_theory_nbs_/theory.ipynb\">proveit</a>.<a class=\"ProveItLink\" href=\"../../../../../_theory_nbs_/theory.ipynb\">logic</a>.<a class=\"ProveItLink\" href=\"../../../../_theory_nbs_/theory.ipynb\">sets</a>.<a class=\"ProveItLink\" href=\"../../theory.ipynb\">equivalence</a>.<a class=\"ProveItLink\" href=\"../../theorems.ipynb#set_equiv_reflexivity\">set_equiv_reflexivity</a> theorem\n",
    "========"
   ]
  },
  {
   "cell_type": "code",
   "execution_count": 1,
   "metadata": {},
   "outputs": [],
   "source": [
    "import proveit\n",
    "from proveit import A, B\n",
    "from proveit.logic import Equals, SubsetEq\n",
    "from proveit.logic.sets.equivalence  import set_equiv_def\n",
    "theory = proveit.Theory() # the theorem's theory"
   ]
  },
  {
   "cell_type": "code",
   "execution_count": 2,
   "metadata": {},
   "outputs": [
    {
     "data": {
      "text/html": [
       "With these <a href=\"allowed_presumptions.txt\">allowed</a>/<a href=\"disallowed_presumptions.txt\">disallowed</a> theorem/theory presumptions (e.g., to avoid circular dependencies), we begin our proof of<br><strong id=\"set_equiv_reflexivity\">set_equiv_reflexivity:</strong> <a class=\"ProveItLink\" href=\"../../../__pv_it/theorems/e899271b152f486d849b55561e20ad802e6737ac0/expr.ipynb\"><img src=\"data:image/png;base64,iVBORw0KGgoAAAANSUhEUgAAAGwAAAAVBAMAAABRZRb3AAAAMFBMVEX///8AAAAAAAAAAAAAAAAA\n",
       "AAAAAAAAAAAAAAAAAAAAAAAAAAAAAAAAAAAAAAAAAAAv3aB7AAAAD3RSTlMAq1RmmUTNIjK7EInv\n",
       "3XZ/CtNrAAAACXBIWXMAAA7EAAAOxAGVKw4bAAAB0UlEQVQ4y4VSzytEURT+jBlvvDFjVrYzZaXI\n",
       "LKRs9CY/UhbExoIiSbHwbJSIkT+AhVI282ymbISNhQUWSkSzUYrRi5VSGDVIGufcd9/kmTFz69xz\n",
       "3vn6znn3OwcocBQUPf/B9xY6XAibATwmEOS41oG4doSreBFu8yJMt2mDU2QPQAfH4w5awnKNFu1u\n",
       "+QayOpfMckEDS/w7qw5am+Wi73wHIkgE4dUk5g7pQLnGTPjCDtqRuH1zH+zKyGpiQ7rE9g9jdJ+h\n",
       "PEJNnU+zpFgIpAWbO2ZPbBHNZ24xClykUucOmttSRHO95VJqDkMjtcEu0AVsiJQhoQoG4Al7v/Ll\n",
       "78MKF20GpqEImdRTCfnDVl3lVfiUOFJJDYsc1QOVhq9XPCItaVXi87E9+pnXLLDWHmLVV0gB01Jk\n",
       "4PI3TaX5fufRtoHqJPlBsuFWkTJHfv+km+w2j0bT8/N4Gsj2JkR/dEqskhepX+6R422eiFy5FrJ5\n",
       "kRrAk6T56FvhmnH9T7N5Lsq70817wHNH90FITsCbhBrPGKjLTjpZW9kJuOIZmsBVTiNgMSbja5Q4\n",
       "StKO6C3V9mY2laK5I3ZwDLVnzNZEL0GbLZhVV0vQ1gunF4qzAjp+AOf7aZAe/blSAAAAAElFTkSu\n",
       "QmCC\n",
       "\" style=\"display:inline;vertical-align:middle;\" /></a><br>(see <a class=\"ProveItLink\" href=\"../../../__pv_it/theorems/f26add3920b8eaa9e5c04a002cbe42c125a673e30/dependencies.ipynb\">dependencies</a>)<br>"
      ],
      "text/plain": [
       "<IPython.core.display.HTML object>"
      ]
     },
     "metadata": {},
     "output_type": "display_data"
    },
    {
     "name": "stdout",
     "output_type": "stream",
     "text": [
      "set_equiv_reflexivity may now be readily provable (assuming required theorems are usable).  Simply execute \"%qed\".\n"
     ]
    }
   ],
   "source": [
    "%proving set_equiv_reflexivity"
   ]
  },
  {
   "cell_type": "code",
   "execution_count": 3,
   "metadata": {},
   "outputs": [
    {
     "name": "stdout",
     "output_type": "stream",
     "text": [
      "proveit.logic.sets.equivalence.set_equiv_reflexivity has been proven.\n"
     ]
    },
    {
     "data": {
      "text/html": [
       "<table><tr><th>&nbsp;</th><th>step type</th><th>requirements</th><th>statement</th></tr>\n",
       "<tr><td><a name=\"0x7d3c198ccfc1ad58_step0\">0</a></td><td>generalization</td><td><a href=\"#0x7d3c198ccfc1ad58_step1\">1</a></td><td><span style=\"font-size:20px;\"> <a class=\"ProveItLink\" href=\"../../../__pv_it/_proof_set_equiv_reflexivity/18a8ebbd6e7505ba20091fb5f31c705a91ae07550/proof.ipynb\" style=\"text-decoration: none\">&nbsp;&#x22A2;&nbsp;&nbsp;</a><a class=\"ProveItLink\" href=\"../../../__pv_it/theorems/e899271b152f486d849b55561e20ad802e6737ac0/expr.ipynb\"><img src=\"data:image/png;base64,iVBORw0KGgoAAAANSUhEUgAAAGwAAAAVBAMAAABRZRb3AAAAMFBMVEX///8AAAAAAAAAAAAAAAAA\n",
       "AAAAAAAAAAAAAAAAAAAAAAAAAAAAAAAAAAAAAAAAAAAv3aB7AAAAD3RSTlMAq1RmmUTNIjK7EInv\n",
       "3XZ/CtNrAAAACXBIWXMAAA7EAAAOxAGVKw4bAAAB0UlEQVQ4y4VSzytEURT+jBlvvDFjVrYzZaXI\n",
       "LKRs9CY/UhbExoIiSbHwbJSIkT+AhVI282ymbISNhQUWSkSzUYrRi5VSGDVIGufcd9/kmTFz69xz\n",
       "3vn6znn3OwcocBQUPf/B9xY6XAibATwmEOS41oG4doSreBFu8yJMt2mDU2QPQAfH4w5awnKNFu1u\n",
       "+QayOpfMckEDS/w7qw5am+Wi73wHIkgE4dUk5g7pQLnGTPjCDtqRuH1zH+zKyGpiQ7rE9g9jdJ+h\n",
       "PEJNnU+zpFgIpAWbO2ZPbBHNZ24xClykUucOmttSRHO95VJqDkMjtcEu0AVsiJQhoQoG4Al7v/Ll\n",
       "78MKF20GpqEImdRTCfnDVl3lVfiUOFJJDYsc1QOVhq9XPCItaVXi87E9+pnXLLDWHmLVV0gB01Jk\n",
       "4PI3TaX5fufRtoHqJPlBsuFWkTJHfv+km+w2j0bT8/N4Gsj2JkR/dEqskhepX+6R422eiFy5FrJ5\n",
       "kRrAk6T56FvhmnH9T7N5Lsq70817wHNH90FITsCbhBrPGKjLTjpZW9kJuOIZmsBVTiNgMSbja5Q4\n",
       "StKO6C3V9mY2laK5I3ZwDLVnzNZEL0GbLZhVV0vQ1gunF4qzAjp+AOf7aZAe/blSAAAAAElFTkSu\n",
       "QmCC\n",
       "\" style=\"display:inline;vertical-align:middle;\" /></a></span></td></tr>\n",
       "<tr><td><a name=\"0x7d3c198ccfc1ad58_step1\">1</a></td><td>instantiation</td><td><a href=\"#0x7d3c198ccfc1ad58_step2\">2</a>, <a href=\"#0x7d3c198ccfc1ad58_step3\">3</a></td><td><span style=\"font-size:20px;\"> <a class=\"ProveItLink\" href=\"../../../__pv_it/_proof_set_equiv_reflexivity/e34bc3ce2507efecb32ce536541c44e02a002d210/proof.ipynb\" style=\"text-decoration: none\">&nbsp;&#x22A2;&nbsp;&nbsp;</a><a class=\"ProveItLink\" href=\"../../../__pv_it/theorems/dd8e2a83d0cbc249da7f02652195bc6aef3035680/expr.ipynb\"><img src=\"data:image/png;base64,iVBORw0KGgoAAAANSUhEUgAAADsAAAAPBAMAAACo4Ko7AAAAMFBMVEX///8AAAAAAAAAAAAAAAAA\n",
       "AAAAAAAAAAAAAAAAAAAAAAAAAAAAAAAAAAAAAAAAAAAv3aB7AAAAD3RSTlMAIs1UmauJMnZmRLsQ\n",
       "3e++988cAAAACXBIWXMAAA7EAAAOxAGVKw4bAAAAsklEQVQY02NgAAEhBmwALqoPoY6+NQCSDWii\n",
       "DMz/IfSNymtAMgBNlIElXgBEcUxgOBTAwO6AKsrAkJhfAKJYgTioYC1UECbKwNjQD7KTgQ1kwv9X\n",
       "UFmYKAMLg/0EuHN5YAy46GKG+gRMb8FFHRjkwa5luQsGUJfDRDm2uMRvwNAMFz3BwMB/AUMaLgr0\n",
       "J+8DDGmYKBfQfUwf0O2Gi8oBMfdHdM0w0dP/dRiY939C8xlMFACDQDrwavcODwAAAABJRU5ErkJg\n",
       "gg==\n",
       "\" style=\"display:inline;vertical-align:middle;\" /></a></span></td></tr>\n",
       "<tr><td>&nbsp;</td><td colspan=4 style=\"text-align:left\"><span style=\"font-size:20px;\"><a class=\"ProveItLink\" href=\"../../../../../../__pv_it/common/09585084922504426caf1db2ff588a23a0932a960/expr.ipynb\"><img src=\"data:image/png;base64,iVBORw0KGgoAAAANSUhEUgAAAA8AAAAPBAMAAADJ+Ih5AAAAMFBMVEX///8AAAAAAAAAAAAAAAAA\n",
       "AAAAAAAAAAAAAAAAAAAAAAAAAAAAAAAAAAAAAAAAAAAv3aB7AAAAD3RSTlMAIs1UmauJMnZmRLsQ\n",
       "3e++988cAAAACXBIWXMAAA7EAAAOxAGVKw4bAAAAXklEQVQI12NgAAEhBijQh9LM/6EMlngBCCMx\n",
       "vwBMMzb0G0BkGOwngBmLGeoTwAwHBvkAEM2xxSV+A4hxgoGB/wJEhoH3AZDmAupg+gBkyAEx90cG\n",
       "htP/dRiY939KAABt3hLO6mcEjQAAAABJRU5ErkJggg==\n",
       "\" style=\"display:inline;vertical-align:middle;\" /></a> : <a class=\"ProveItLink\" href=\"../../../../../../__pv_it/common/09585084922504426caf1db2ff588a23a0932a960/expr.ipynb\"><img src=\"data:image/png;base64,iVBORw0KGgoAAAANSUhEUgAAAA8AAAAPBAMAAADJ+Ih5AAAAMFBMVEX///8AAAAAAAAAAAAAAAAA\n",
       "AAAAAAAAAAAAAAAAAAAAAAAAAAAAAAAAAAAAAAAAAAAv3aB7AAAAD3RSTlMAIs1UmauJMnZmRLsQ\n",
       "3e++988cAAAACXBIWXMAAA7EAAAOxAGVKw4bAAAAXklEQVQI12NgAAEhBijQh9LM/6EMlngBCCMx\n",
       "vwBMMzb0G0BkGOwngBmLGeoTwAwHBvkAEM2xxSV+A4hxgoGB/wJEhoH3AZDmAupg+gBkyAEx90cG\n",
       "htP/dRiY939KAABt3hLO6mcEjQAAAABJRU5ErkJggg==\n",
       "\" style=\"display:inline;vertical-align:middle;\" /></a>, <a class=\"ProveItLink\" href=\"../../../../../../__pv_it/common/a9162d1c3cc0470c02e5daf414500903a7a419230/expr.ipynb\"><img src=\"data:image/png;base64,iVBORw0KGgoAAAANSUhEUgAAABAAAAAOBAMAAADUAYG5AAAAMFBMVEX///8AAAAAAAAAAAAAAAAA\n",
       "AAAAAAAAAAAAAAAAAAAAAAAAAAAAAAAAAAAAAAAAAAAv3aB7AAAAD3RSTlMAZrurzTLvInZEmRDd\n",
       "VIkafcLnAAAACXBIWXMAAA7EAAAOxAGVKw4bAAAAb0lEQVQI12NgYBD6b2zsFMAABEkMDMxfgTT7\n",
       "DwYGzl9ABiOQxwjkMDB/YGBgSQcy2BQYuG1AiuM1OkwEQJr6Cxh4E0EMNSB+D5L6DMTyDQwMrB+B\n",
       "DPsJDAwc34GcL0AOSwIDwzRvoHH6n41NdBkYAF/iFeJ4bEa2AAAAAElFTkSuQmCC\n",
       "\" style=\"display:inline;vertical-align:middle;\" /></a> : <a class=\"ProveItLink\" href=\"../../../../../../__pv_it/common/09585084922504426caf1db2ff588a23a0932a960/expr.ipynb\"><img src=\"data:image/png;base64,iVBORw0KGgoAAAANSUhEUgAAAA8AAAAPBAMAAADJ+Ih5AAAAMFBMVEX///8AAAAAAAAAAAAAAAAA\n",
       "AAAAAAAAAAAAAAAAAAAAAAAAAAAAAAAAAAAAAAAAAAAv3aB7AAAAD3RSTlMAIs1UmauJMnZmRLsQ\n",
       "3e++988cAAAACXBIWXMAAA7EAAAOxAGVKw4bAAAAXklEQVQI12NgAAEhBijQh9LM/6EMlngBCCMx\n",
       "vwBMMzb0G0BkGOwngBmLGeoTwAwHBvkAEM2xxSV+A4hxgoGB/wJEhoH3AZDmAupg+gBkyAEx90cG\n",
       "htP/dRiY939KAABt3hLO6mcEjQAAAABJRU5ErkJggg==\n",
       "\" style=\"display:inline;vertical-align:middle;\" /></a></span></td></tr><tr><td><a name=\"0x7d3c198ccfc1ad58_step2\">2</a></td><td>theorem</td><td></td><td><span style=\"font-size:20px;\"> <a class=\"ProveItLink\" href=\"../set_equiv_fold/thm_proof.ipynb\" style=\"text-decoration: none\">&nbsp;&#x22A2;&nbsp;&nbsp;</a><a class=\"ProveItLink\" href=\"../../../__pv_it/theorems/206dd758e7fc3f8531e25faa88c1366cdb879a030/expr.ipynb\"><img src=\"data:image/png;base64,iVBORw0KGgoAAAANSUhEUgAAASMAAAAXBAMAAACykjQRAAAAMFBMVEX///8AAAAAAAAAAAAAAAAA\n",
       "AAAAAAAAAAAAAAAAAAAAAAAAAAAAAAAAAAAAAAAAAAAv3aB7AAAAD3RSTlMAq1RmmUTNIjK7EInv\n",
       "3XZ/CtNrAAAACXBIWXMAAA7EAAAOxAGVKw4bAAAD3klEQVRIx71XTWgTQRT+kjTJ7kbXFqTag3RF\n",
       "QbxoDq0gokZsrUXQgBf/rYJI68F4EURtI56KokGQuiJ2vRREhKIgakGrIiqi9OBB0Eq0SlGkWhV/\n",
       "0fpmJjszTSLRgxlmdybvzXv7zXvfvN0A5W3REvoUyt5eCGAtf9JvoquSTWaUC1Gwlw+R93w488Ch\n",
       "e5bP549VVbWmYceBRvZ7e7kg9YhhroD07OATPyjAPSDwFWgDDrA4ZsoFaakYlnxhd4pITyWMhMjl\n",
       "LyD8CaijGHpAzCkXpH5+j+39yoYAXdXpjYLRIRKFCNYEDyFKXqRsVBK0brc/cGQsUmO3hSpAuYzc\n",
       "oYvwPBgcvF8uSBWC3YngRymycuOEDKxpacJJ1FoOnORCL8+82C5TrI9rHmzt16wCE1ueKYgQEGUc\n",
       "40fBuqOnR6qZNkSB3IUo57x1l6s6P/U1p9nE5LH1xmGr511vzCohf4WSuk64SmgeJjpis9FRPg7y\n",
       "Jk7cO9rtLbZropvpxbij2AfhdQB2v4QUpg2eUc+vZF0047mbzFmtlwvk0iM1x31XpA33+tnhT3rd\n",
       "sORbQZRO0XWdYmEQp4JZwe41DwXNEgi9l5BAYbyscplkXbSGtLSKyJQ3+guXK1dM26ZDsmibPwsg\n",
       "sbgtJk2YxaNlEZdltwgrB+fjCtI811VFayLvGGl6mbLjkFaqhgwQd162N2FIc8W0F/TEsTQ+zUdk\n",
       "MMLXEuIg+cCFNkHDZVzXMVQ3FQqSCVsVrd2826maiHPWJy9ZBRNodqnF2atrOJDZamU0V6TFzJwD\n",
       "kxF9NV0787lkU/E0PjPiMNt9XLYGb7nVQliTNUixtFa01vIewmmD+/Wtwn4c2SRuZtPhuOaKCdfm\n",
       "FrATHmWZ6c5/40dIuqHNrxMBzooVfbWcEuSkI6kgWZVzlN103oEvPKGuk7MyfEhBtrlJKYRaXfeY\n",
       "74ppO/30DMDq/uxh9tiO8YgC3aNV1cd4bpNa+ejg0G4Cm1URAKachLFgSJzzTuHc6I/ikGYlE8ex\n",
       "HUbKECdMuNITh8clq+l+OaNETHKsXkS/w3qkJQ6ddGyMTK9G732xlgoqHdIKdlbRO9p/iSoRr705\n",
       "V0w74i+o+9sXM2XwBqxV24ybmPejr9nRIZkpyGfSnHrFq2tvED0hrfgS0bqAletHPOxhcc65Ytou\n",
       "f4FZ6qux4KMkqM1N9U4w04KvVPJk1Tvnun7Wz8qVftG0rrjHobSWfI5V6jOoAPO6opACiy6Kuogm\n",
       "3vObElWkimo1cXsJSMP5gnhRSKrRKy/m5Qv1F9tVFNPW/8//El7BB4P6vMifK4n3Tw/+DYDq/ZXU\n",
       "CZDkAAAAAElFTkSuQmCC\n",
       "\" style=\"display:inline;vertical-align:middle;\" /></a></span></td></tr>\n",
       "<tr><td>&nbsp;</td><td colspan=4 style-\"text-align:left\"><a class=\"ProveItLink\" href=\"../set_equiv_fold/thm_proof.ipynb\">proveit.logic.sets.equivalence.set_equiv_fold</a></td></tr><tr><td><a name=\"0x7d3c198ccfc1ad58_step3\">3</a></td><td>generalization</td><td><a href=\"#0x7d3c198ccfc1ad58_step4\">4</a></td><td><span style=\"font-size:20px;\"> <a class=\"ProveItLink\" href=\"../../../__pv_it/_proof_set_equiv_reflexivity/25c55d3380373530dd59b553ec69a205453aed4c0/proof.ipynb\" style=\"text-decoration: none\">&nbsp;&#x22A2;&nbsp;&nbsp;</a><a class=\"ProveItLink\" href=\"../../../__pv_it/_proof_set_equiv_reflexivity/30abc63d2f98ffb44e041d40f920a71502d03b6d0/expr.ipynb\"><img src=\"data:image/png;base64,iVBORw0KGgoAAAANSUhEUgAAANQAAAAVBAMAAADMRN06AAAAMFBMVEX///8AAAAAAAAAAAAAAAAA\n",
       "AAAAAAAAAAAAAAAAAAAAAAAAAAAAAAAAAAAAAAAAAAAv3aB7AAAAD3RSTlMAq1RmmUTNIjK7EInv\n",
       "3XZ/CtNrAAAACXBIWXMAAA7EAAAOxAGVKw4bAAAC0ElEQVRIx31VTWgTURCe7E822TRrwVNFbEAR\n",
       "RCVBiuJFU1p/QCtBbyK64EFoQddLQaw1XhVpDoog2ORQxHgotRcRQXPxoihRUBQMbP1B9BCrQlMV\n",
       "ie/tvDRv3+7bgW83mfnmvZl5M28BguIwyCTMZkTwDandyiDC3WyA4yH6D7J9xgF0F9FL/6/njZsZ\n",
       "QiW+SOLIBdTKnMzhDMFHxB76/xRnM21EuGTJVjAaUN+W8ZU2ja/i4RKtSokzajlEuAy2yGMgoB6S\n",
       "8bV+crJq3gPdMcWfTA8Dd3i3Gm/Yz9T5ZWquiCvWJHy4/7hInk89qCSBOE/cyLAi+unuypPWT1oQ\n",
       "MWnFlvAN9ztN4yTieaPxjHc7wDC7cOehl+04l0Ne+UVz6xXLRLrCbK65Mi/yNcjSsO4h9gPc5N1Y\n",
       "BJC31ml1oWf0TOIvealeEiMNKi+BpanBgjsi9thhmKK9uR1xFgxfkK8QqqP+iXmFsvkgjR+0XjUh\n",
       "qzRJfwfsrqwW+JCHi3TxLYhkJVXg3Z4gEqChT4JUuPEObV+HB39T1aKwVQ9ZoQh7A3zr2nA/7e4p\n",
       "hOL6uqKzFfF3cc66k2ASzT9ax1rIVgAvRD7MAqyih3CMwd5FHs19nxxfAQFOOKZ3wHWufgDvaQHr\n",
       "wlnRAoLegrt+PqkfpGlYWxnmyfBbTl+cDdc0olpYCylP0VzxPMIuGrUkZJV0wbweq8Gcn6/n8CaD\n",
       "nQwT5OBUmE4wO2vM7OWDpH+89uoMuEEDLDvY2z4h3a8sz9T0jI8PEzSKFjdAMTrP0OrYryJmmsoQ\n",
       "+ph9R/FdXqrApvYYKUpB2CpRB/OQu2Gbjw/V9igo5SUS12tAILnW+aKkiwhumh50LxpPLgSuureR\n",
       "fKOOwFRTtsZ+srsxSoKX60Ak33eDa58ffesYbjDIv6qlgCoZ9dWGcwwBqTJIJWRdsxTlIA3ecBFS\n",
       "+RKim4zgW46H/7+EwfIh1qEeAAAAAElFTkSuQmCC\n",
       "\" style=\"display:inline;vertical-align:middle;\" /></a></span></td></tr>\n",
       "<tr><td><a name=\"0x7d3c198ccfc1ad58_step4\">4</a></td><td>instantiation</td><td><a href=\"#0x7d3c198ccfc1ad58_step5\">5</a></td><td><span style=\"font-size:20px;\"> <a class=\"ProveItLink\" href=\"../../../__pv_it/_proof_set_equiv_reflexivity/5c762fe523cc7d88a4c66b8c6a50b48419dc73e90/proof.ipynb\" style=\"text-decoration: none\">&nbsp;&#x22A2;&nbsp;&nbsp;</a><a class=\"ProveItLink\" href=\"../../../__pv_it/_proof_set_equiv_reflexivity/13a637fdaab00e95b26e7d9d823a77bb43aede5b0/expr.ipynb\"><img src=\"data:image/png;base64,iVBORw0KGgoAAAANSUhEUgAAAKIAAAAVBAMAAAA3EyjlAAAAMFBMVEX///8AAAAAAAAAAAAAAAAA\n",
       "AAAAAAAAAAAAAAAAAAAAAAAAAAAAAAAAAAAAAAAAAAAv3aB7AAAAD3RSTlMAInZUiRDNmWbv3US7\n",
       "qzJazP2FAAAACXBIWXMAAA7EAAAOxAGVKw4bAAACS0lEQVQ4y32UTWjUQBTH/0kas7tp11CkoAjG\n",
       "9eLB4h5KRRG2okfFpaC9FFnFgjcXKW0tFFYEexEMghe9BATB+sGiCHoy9SLoYUUQFITuQS9e2qIW\n",
       "Ee363mRtk0kmAzuzvPm9j/9M3gBwoB5pe1oGL/b0smq3BjxJse9RhRsAbJfWIRWwZYXSNRJmY0Tl\n",
       "cJF+ewGzpgIqFBETCfNpFW90uIwqrIaKmFulaT5hnlHx1hKdeq6OfMyqv1m41/3bs22d5nxVdvQU\n",
       "PI6cbNN8C8NRwD63GaBf/84qZAlGTcFr7n6+4wuYpHl08MwxceMDkYrqxi+u9J2sjS7GLH34clTm\n",
       "LVQ4+wmKSc76e8tn69lI+nLxBy05UdLsAo9H6BZtYdCdlXg8xTJ/Bddwl7yc3M8+oa4WTan9ZZGe\n",
       "VGOBxFzBjepHiUcdu1jPQdwBirDCreJtquRhCOybnvvDphUpYr4JtDGV4PXX00sBrcsckTBXWM1g\n",
       "w9Eky28W76VEBG7KPEaBrXxyL1g18NIxxRn7EdHAfVbtS+fIqmGv4lScJ9EocPZDeAWMNz+hR5hL\n",
       "G8DzblflAqnGXhfm2z4PI3HeboRti+t026h8vUw3JS7y/6uhcbqWE34ssUGfk7E+5tnlGI/tnIyb\n",
       "bBLfgLGSMRNumZ+fhWtrrYrDnfOkpClFLPowL7kHrsZ4jHcmYLTWKP0DFNqxpjm+2VVi7Ei07+NM\n",
       "XvO5tbNG8l2Yz+T54VnMArQgYerNevOxk48gC0hxN4Msh0XxZmQAu1Ns/Rm87uAf1nuIRi+iQ0kA\n",
       "AAAASUVORK5CYII=\n",
       "\" style=\"display:inline;vertical-align:middle;\" /></a></span></td></tr>\n",
       "<tr><td>&nbsp;</td><td colspan=4 style=\"text-align:left\"><span style=\"font-size:20px;\"><a class=\"ProveItLink\" href=\"../../../../../../__pv_it/common/a0d9d672aa5e272d907247690c152cc2c6daafb70/expr.ipynb\"><img src=\"data:image/png;base64,iVBORw0KGgoAAAANSUhEUgAAAAsAAAAJBAMAAAAWSsseAAAAMFBMVEX///8AAAAAAAAAAAAAAAAA\n",
       "AAAAAAAAAAAAAAAAAAAAAAAAAAAAAAAAAAAAAAAAAAAv3aB7AAAAD3RSTlMAEHarMolUmd1mIs3v\n",
       "RLtmgJDEAAAACXBIWXMAAA7EAAAOxAGVKw4bAAAAQklEQVQI12NgEFIWCU1gYChgMmJvYOBcwPmR\n",
       "eQIDCwP7BgYQ4FEAU/cXMAowyF2wYWBlYMh3rGG4xsAgrsRWmcAAAFEjCyBvD0T9AAAAAElFTkSu\n",
       "QmCC\n",
       "\" style=\"display:inline;vertical-align:middle;\" /></a> : <a class=\"ProveItLink\" href=\"../../../__pv_it/axioms/bffc8f58d953dcb8331468867a32979a833e73840/expr.ipynb\"><img src=\"data:image/png;base64,iVBORw0KGgoAAAANSUhEUgAAADUAAAAQBAMAAABEqSrGAAAAMFBMVEX///8AAAAAAAAAAAAAAAAA\n",
       "AAAAAAAAAAAAAAAAAAAAAAAAAAAAAAAAAAAAAAAAAAAv3aB7AAAAD3RSTlMAEHarMolUmd1mIs3v\n",
       "RLtmgJDEAAAACXBIWXMAAA7EAAAOxAGVKw4bAAAAzklEQVQY02NgwAFWM+AG+3FLsf3HLcduvwCF\n",
       "z/SioxvGjop3QJbi3SQAZ3Mp6CcAKSFlkdAEsMsEkIxkyJ8ApAqYjNgbQPxdSGZcY/APYGDgXMD5\n",
       "kRmkhmEDklwBw3oDBgYWBnaIIMuJjo6OPqirnpfbPwAxeBTAfMYHCG1CDAz8YHvuL2AEu6IB2UgG\n",
       "jgMMDHIXbBhYwQJKCN8A7ef+wMCQ71gDdBUIcCfA5NYAMd8vBgZxJbZKiCCj3UWIlNz/jQxs738H\n",
       "oARMHCLMQAAAARYsAl5K88AAAAAASUVORK5CYII=\n",
       "\" style=\"display:inline;vertical-align:middle;\" /></a></span></td></tr><tr><td><a name=\"0x7d3c198ccfc1ad58_step5\">5</a></td><td>axiom</td><td></td><td><span style=\"font-size:20px;\"> <a class=\"ProveItLink\" href=\"../../../../../equality/_theory_nbs_/axioms.ipynb#equals_reflexivity\" style=\"text-decoration: none\">&nbsp;&#x22A2;&nbsp;&nbsp;</a><a class=\"ProveItLink\" href=\"../../../../../equality/__pv_it/axioms/864f59d0e02493d4a93bdd8b5654226c327952290/expr.ipynb\"><img src=\"data:image/png;base64,iVBORw0KGgoAAAANSUhEUgAAAGIAAAAVBAMAAABPrCZEAAAAMFBMVEX///8AAAAAAAAAAAAAAAAA\n",
       "AAAAAAAAAAAAAAAAAAAAAAAAAAAAAAAAAAAAAAAAAAAv3aB7AAAAD3RSTlMAq1RmmUTNIjK7EInv\n",
       "3XZ/CtNrAAAACXBIWXMAAA7EAAAOxAGVKw4bAAABTklEQVQ4y2NgwAQFDDgBO1ZRPgXcOlgfMDAI\n",
       "gBjKyKLaDHjAYwYGVxCdjiTGlYBPB9sChkaQ6yYgibEY4NPB7ADSxMCN7HIeBrzgFAMz0Eg2ZCE1\n",
       "/DqSGRjO3r17GlnIG4jXPVyxGz3EoGIbGRg8GBhmoRnC4MAnx3IB5Ke7YAAOT6iYGQNDIQO7ALKO\n",
       "S0DvFTD/YkQLAJiYDgMD5wLuAGSpowwMHAwsGEEME+tnYGB6gOJxkA5ggD3A9DNELAaIE+yAxDv3\n",
       "JwVwVzEwxBdwLUDzB1RMF8jalAVMSwWSbNDAmcfAsDJAhoEbzQaYmCUQ1wCNYGaYxwGVAgaffpcP\n",
       "QxCaDpgYKPAZG0Ai32FSvQwMS94xOaNHB0zsKjwoDsCSPm8DvihnvwBl1HAnsCDSGh4AT6csT/e9\n",
       "gglOx6ejEpvgSnw6sBrH/gC3Br4CBgBNaE7Uk29NoAAAAABJRU5ErkJggg==\n",
       "\" style=\"display:inline;vertical-align:middle;\" /></a></span></td></tr>\n",
       "<tr><td>&nbsp;</td><td colspan=4 style-\"text-align:left\"><a class=\"ProveItLink\" href=\"../../../../../equality/_theory_nbs_/axioms.ipynb#equals_reflexivity\">proveit.logic.equality.equals_reflexivity</a></td></tr></table>"
      ],
      "text/plain": [
       "\tstep type\trequirements\tstatement\n",
       "0\tgeneralization\t1\t|- forall_{A} (A equiv A)\n",
       "1\tinstantiation\t2, 3\t|- A equiv A\n",
       "\tA : A, B : A\n",
       "2\ttheorem\t\t|- forall_{A, B | forall_{x} ((x in A) = (x in B))} (A equiv B)\n",
       "\tproveit.logic.sets.equivalence.set_equiv_fold\n",
       "3\tgeneralization\t4\t|- forall_{x} ((x in A) = (x in A))\n",
       "4\tinstantiation\t5\t|- (x in A) = (x in A)\n",
       "\tx : x in A\n",
       "5\taxiom\t\t|- forall_{x} (x = x)\n",
       "\tproveit.logic.equality.equals_reflexivity"
      ]
     },
     "execution_count": 3,
     "metadata": {},
     "output_type": "execute_result"
    }
   ],
   "source": [
    "%qed"
   ]
  },
  {
   "cell_type": "code",
   "execution_count": null,
   "metadata": {},
   "outputs": [],
   "source": []
  }
 ],
 "metadata": {
  "kernelspec": {
   "display_name": "Python 3",
   "language": "python",
   "name": "python3"
  }
 },
 "nbformat": 4,
 "nbformat_minor": 0
}