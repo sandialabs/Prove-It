{
 "cells": [
  {
   "cell_type": "markdown",
   "metadata": {},
   "source": [
    "Proof of <a class=\"ProveItLink\" href=\"../../../../../../_theory_nbs_/theory.ipynb\">proveit</a>.<a class=\"ProveItLink\" href=\"../../../../../_theory_nbs_/theory.ipynb\">logic</a>.<a class=\"ProveItLink\" href=\"../../../../_theory_nbs_/theory.ipynb\">sets</a>.<a class=\"ProveItLink\" href=\"../../theory.ipynb\">equivalence</a>.<a class=\"ProveItLink\" href=\"../../theorems.ipynb#sub_right_side_into\">sub_right_side_into</a> theorem\n",
    "========"
   ]
  },
  {
   "cell_type": "code",
   "execution_count": 1,
   "metadata": {},
   "outputs": [],
   "source": [
    "import proveit\n",
    "theory = proveit.Theory() # the theorem's theory"
   ]
  },
  {
   "cell_type": "code",
   "execution_count": 2,
   "metadata": {},
   "outputs": [
    {
     "data": {
      "text/html": [
       "With these <a href=\"allowed_presumptions.txt\">allowed</a>/<a href=\"disallowed_presumptions.txt\">disallowed</a> theorem/theory presumptions (e.g., to avoid circular dependencies), we begin our proof of<br><strong id=\"sub_right_side_into\">sub_right_side_into:</strong> <a class=\"ProveItLink\" href=\"../../../__pv_it/theorems/4b3a788c70debb6285e4d0867584e76c562b87870/expr.ipynb\"><img src=\"data:image/png;base64,iVBORw0KGgoAAAANSUhEUgAAANkAAAAXBAMAAAB0cveBAAAAMFBMVEX///8AAAAAAAAAAAAAAAAA\n",
       "AAAAAAAAAAAAAAAAAAAAAAAAAAAAAAAAAAAAAAAAAAAv3aB7AAAAD3RSTlMAq1RmmUTNIjK7EInv\n",
       "3XZ/CtNrAAAACXBIWXMAAA7EAAAOxAGVKw4bAAADLElEQVRIx7VWX0hTURz+du+26+7m3ED68+Qg\n",
       "KKigQdJT5iSs5h4a9JIFuYqIRHC+F1uPReHoIS3CXR8lhFU+uQQziiKS9eehF2HVQwRhGoqaoP3O\n",
       "uedsZzODYB44O7/v3O/+vnt+f+4dsMUj+Rdry4Y/VDLP0QwwY1etNbIrwbsdzNpHU8/OB7cNwh8G\n",
       "2tne5VofqSEBPLAAM8GQLwM0pdENXCdkZGqt1l8EDtB0hhlKkdUVQTPgpifwhmqt9jNNM0en4qiV\n",
       "UGsRPgs6qbtrXhxZNkljN0dNNHuScJPU25mZNzVXWwHq1miNcfQaGP5EIaSKPAHcr2BalTc6K9Ae\n",
       "m+HfjG0PUjImWHoucrQy+5kZOpVMHwzSdGVjbds503zFlxsL+WiaGR7bQefCWDAJPS4YEeFXsLnT\n",
       "bGxsUHTAfP4JY+I9R0vAfoqiNkneLC+70AJMcKb3F1/0AvyTihphbwHDknFWSDD76QW6bLv4Ye96\n",
       "5sTlFxyRH+8yPQ7takVeJI1URJxwepovjgj0OUWNsH/O7k7GcIsIkq11dObgtV20ltutrNZAsdMp\n",
       "iy729IkjbGsKeMcJxfN88YUwGlbUCNcHUJAM2TRkU2LbbrZzF+YH0W45ocYj2U9+HIt0Lnb3427W\n",
       "4L/Rx3PhxzHOS31t3gFFLWUZjTASkqHZiWM2BVHvof411g62pUW7xYXaEEf0Pu6nO3X2ErnKXpX6\n",
       "9OxeOzQi9i0wG1W1w7NfLLgykuHKlNnRezTCLLPDonh6ZeU8Yj89RH9JkXeyEzvYAzkC4nos32SJ\n",
       "PKbiilqQ/WgByajLVLBFZo1FbkXXh8TebZo714PBKyzw9fLE8IVF7ZJIWuSxS+2A57zIM5KhRSrY\n",
       "IrOu5arGq08r4FrJSrFv3UPgFJVQyMyxPJoflUgaS3wpCAb8xRJbRjJlYTRSpaarG0fLH6Rx+r0V\n",
       "cj6DefJS3RQOreajIUXt+yqP2ABsBjzJEls67s2P3dnwVhkomxu+NPJboCl7HpUgmxojCvtfY0Rx\n",
       "VPVXwSUzfmYzNae847jC/tcwiiXzW3WUpRHeTA3jghlX2LUcRgUyK5b/HX8A8OvMIG5pPYYAAAAA\n",
       "SUVORK5CYII=\n",
       "\" style=\"display:inline;vertical-align:middle;\" /></a><br>(see <a class=\"ProveItLink\" href=\"../../../__pv_it/theorems/9657f9d0ae3922414aecf6ec2de378f349a0aa910/dependencies.ipynb\">dependencies</a>)<br>"
      ],
      "text/plain": [
       "<IPython.core.display.HTML object>"
      ]
     },
     "metadata": {},
     "output_type": "display_data"
    }
   ],
   "source": [
    "%proving sub_right_side_into"
   ]
  },
  {
   "cell_type": "code",
   "execution_count": null,
   "metadata": {},
   "outputs": [],
   "source": []
  }
 ],
 "metadata": {
  "kernelspec": {
   "display_name": "Python 3",
   "language": "python",
   "name": "python3"
  }
 },
 "nbformat": 4,
 "nbformat_minor": 0
}