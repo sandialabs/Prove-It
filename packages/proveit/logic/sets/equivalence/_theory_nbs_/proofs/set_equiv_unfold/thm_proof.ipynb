{
 "cells": [
  {
   "cell_type": "markdown",
   "metadata": {},
   "source": [
    "Proof of <a class=\"ProveItLink\" href=\"../../../../../../_theory_nbs_/theory.ipynb\">proveit</a>.<a class=\"ProveItLink\" href=\"../../../../../_theory_nbs_/theory.ipynb\">logic</a>.<a class=\"ProveItLink\" href=\"../../../../_theory_nbs_/theory.ipynb\">sets</a>.<a class=\"ProveItLink\" href=\"../../theory.ipynb\">equivalence</a>.<a class=\"ProveItLink\" href=\"../../theorems.ipynb#set_equiv_unfold\">set_equiv_unfold</a> theorem\n",
    "========"
   ]
  },
  {
   "cell_type": "code",
   "execution_count": 1,
   "metadata": {},
   "outputs": [],
   "source": [
    "import proveit\n",
    "from proveit import defaults\n",
    "from proveit.logic.sets.equivalence  import set_equiv_def\n",
    "theory = proveit.Theory() # the theorem's theory"
   ]
  },
  {
   "cell_type": "code",
   "execution_count": 2,
   "metadata": {},
   "outputs": [
    {
     "data": {
      "text/html": [
       "With these <a href=\"allowed_presumptions.txt\">allowed</a>/<a href=\"disallowed_presumptions.txt\">disallowed</a> theorem/theory presumptions (e.g., to avoid circular dependencies), we begin our proof of<br><strong id=\"set_equiv_unfold\">set_equiv_unfold:</strong> <a class=\"ProveItLink\" href=\"../../../__pv_it/theorems/3e72f59b23979ed3e74c0d98c5c4ad815aa3dce30/expr.ipynb\"><img src=\"data:image/png;base64,iVBORw0KGgoAAAANSUhEUgAAAVAAAAAXBAMAAACv7AqKAAAAMFBMVEX///8AAAAAAAAAAAAAAAAA\n",
       "AAAAAAAAAAAAAAAAAAAAAAAAAAAAAAAAAAAAAAAAAAAv3aB7AAAAD3RSTlMAq1RmmUTNIjK7EInv\n",
       "3XZ/CtNrAAAACXBIWXMAAA7EAAAOxAGVKw4bAAAEaklEQVRIx81XXWgUVxQ+uzu7sztrJgmVolK6\n",
       "AxVfqnWokuKDzRZbbYjaoFBEBbdKKQbB9aUQEHf72DZlg1T8KZoNRGmKSiKmfdgH14DSKkrwB/Lg\n",
       "wMQUiqKxlWpiBNNzz72ze+dnTd0nD3yZzZnzzf3uOfecnQWo03Qr73eqArUs8F52DgLDw7F6dUKy\n",
       "I8B5VyDQvgaI2gE7Nl6yCiMQaRia2P/v1CM0xC5hU/KFBzmCbS9iwu9+NzA40vtP85tHOGGChH7C\n",
       "3F/VI1RhOY3JhTslEGjhWRZe9Lq1THD4vB6AVJ4IDMPwDTsFPfUIjbNidMm+NQKBpqRwT5G0z20G\n",
       "h+ew4DvSRGAYJrlJo64z2omXc7KvLFC1e5blZOy3C6z7rvgyVyO+FaNbbU64woRGcEex+pppBV7k\n",
       "woUzHFX7/H61f+1HLB27vM9ZUiM+hdiT5YRdTChcs6yr9QmdZ1l35NZRBjm0yUXfU6bVTukmLGdF\n",
       "HvI+px1xdvznkuGJ/wOgb0wQhkjopwDH6JbnnCuV415LqJKHhEyKmRwKjNsbwNNpm6DANtVCj7bI\n",
       "aOCwjKX1t5VRd3z82eQ4Zb+FA4XuA5UY2u8U8e2/pTYa5QmHc7oy2eO97eePVIUib5+svcHg+ABa\n",
       "i2+QUOlmGnJsmaXeDd/AZslGZkKmO16fwlhTEJaS0ESRz+7kYz7ARkEvu4ReMCB5GddH2mqAB9LA\n",
       "P8b4Ul90cORhLXd0s7zxiaL/+HGKfSp4hV7C/YOS8cYnUENyWhAKJDRs841suU6XEI6Ev2Wh0W4b\n",
       "Fp/8CQArNx87URL6nquXKkIB+KNgoHrvLEAjq+72AKHIsr3xjZj+yAtB2E5CIfMh3bK/4KsZcMaU\n",
       "heqxJqybsqAfJYyAdlMSGovgAvqfB9a5Sw/RKfiFHHLloYEVapn3jN5gf3ZktaI7voAaQk8EYRkX\n",
       "eo56TRf1yk2sXACyUBvrgqwWzJL6YsVHeUlocgk+/q9Qz07uStgE7VCoDDQN9MpXe5T1GSvUKm9G\n",
       "T2AiO96CpDseHmFfFTKCsIoL3U872yJO32rQ5stCo3k8sm1H0Ux2fvvSklD1In4wE7YQn2wihKf7\n",
       "y1H+FbLTWXc/e+CUmEYuw9Gz/Lv1OBRc8bAHV75cFIR2LjRE67SXUjRqUGWuQxKqlIZmHDaeX/WJ\n",
       "/PZEuW90hkp8lKBttBe/zz19h/j4GpjthHDvU0zzba/QHwD6J8NrDFc8LJxtbt5Nvtscla7VUR8J\n",
       "HsETI48nG9TpSrcYEJ32veZ1V94oxwSqtu245eo3ddQrtCH/sngiMFSEbsbMGNogqDOg3ZJKzw7X\n",
       "Y6f0uSKcSXuEquVfwfGtFKht/lcQ/2uKj8DgCFUugvbZl/ERaHleajMkoeuboP+p0BTZWzp/0Pfi\n",
       "vHHbpPP1lMhy1LYuv+swzEXoAnAPbJyp0ufEq7/haz0ctS1A1QDMRTjsF7r1FYQG/WY6IFDzh1ZA\n",
       "ulV7DgLDw0tuv/n/hb4+pr5ecv4DBUI18+pnWPsAAAAASUVORK5CYII=\n",
       "\" style=\"display:inline;vertical-align:middle;\" /></a><br>(see <a class=\"ProveItLink\" href=\"../../../__pv_it/theorems/7539de4e3f7ba49f10ebed8c330644fa8699146b0/dependencies.ipynb\">dependencies</a>)<br>"
      ],
      "text/plain": [
       "<IPython.core.display.HTML object>"
      ]
     },
     "metadata": {},
     "output_type": "display_data"
    }
   ],
   "source": [
    "%proving set_equiv_unfold"
   ]
  },
  {
   "cell_type": "code",
   "execution_count": 3,
   "metadata": {},
   "outputs": [
    {
     "data": {
      "text/html": [
       "<strong id=\"defaults.assumptions\">defaults.assumptions:</strong> <a class=\"ProveItLink\" href=\"../../../__pv_it/_proof_set_equiv_unfold/91427e895f8e8b4616d7c8b7eb13d40f6d5fa1730/expr.ipynb\"><img src=\"data:image/png;base64,iVBORw0KGgoAAAANSUhEUgAAAEgAAAAVBAMAAAAX07VdAAAAMFBMVEX///8AAAAAAAAAAAAAAAAA\n",
       "AAAAAAAAAAAAAAAAAAAAAAAAAAAAAAAAAAAAAAAAAAAv3aB7AAAAD3RSTlMAInZUiRDNmWbv3US7\n",
       "qzJazP2FAAAACXBIWXMAAA7EAAAOxAGVKw4bAAABZUlEQVQoz4VSO0sDQRD+kpi3MakEQUiwSqOx\n",
       "ECE2xh8gBusINoIBH1cEBKtUFiIkjTZaRNIpimBlZWJjZ1IJgsddJ9icsRDExzkzKxYL5gZ2Z/bb\n",
       "b+e5AFLoKz7e/JNiD/9Himdom1L2puzBhya/EzvS+TLv74AswcuCBFxRsYndApBQ76ItwLIRKiJc\n",
       "FSBsSWpZBNeBJ0VKU6BrAxEDUQXMLdisuuRmI36ssBpBNSLuY1qVkMlJ/hQLufcLRbJolSnAKioq\n",
       "Gmarf/UUf/URsHROep5oLJdwCnrtQ59j43K7g6YABtJd1tsnLGeC+XtAnv3ncSjn2y2rpXsarAMD\n",
       "32Q4irQIJBs6KUm+I69kXKlwBrWxrpMcCpX4IGMGNzweOoZe9JxyVL3D89ij+oARzqCneyrT6wNu\n",
       "RwXPQMldQaDzpvXg0TXNNenwKWI2PMTX4PF5CH+BthdplFbJi9SWD9Cf40/hB6voVV8glgiJAAAA\n",
       "AElFTkSuQmCC\n",
       "\" style=\"display:inline;vertical-align:middle;\" /></a><br>"
      ],
      "text/plain": [
       "<IPython.core.display.HTML object>"
      ]
     },
     "metadata": {},
     "output_type": "display_data"
    }
   ],
   "source": [
    "defaults.assumptions = set_equiv_unfold.conditions"
   ]
  },
  {
   "cell_type": "code",
   "execution_count": 4,
   "metadata": {},
   "outputs": [
    {
     "data": {
      "text/html": [
       "<span style=\"font-size:20px;\"> <a class=\"ProveItLink\" href=\"../../axioms.ipynb#set_equiv_def\" style=\"text-decoration: none\">&nbsp;&#x22A2;&nbsp;&nbsp;</a><a class=\"ProveItLink\" href=\"../../../__pv_it/axioms/a526f1ab8a886b46cea1848b9b6f2e135fcc6d080/expr.ipynb\"><img src=\"data:image/png;base64,iVBORw0KGgoAAAANSUhEUgAAAY4AAAAWBAMAAAAlaGbVAAAAMFBMVEX///8AAAAAAAAAAAAAAAAA\n",
       "AAAAAAAAAAAAAAAAAAAAAAAAAAAAAAAAAAAAAAAAAAAv3aB7AAAAD3RSTlMAq1RmmUTNIjK7EInv\n",
       "3XZ/CtNrAAAACXBIWXMAAA7EAAAOxAGVKw4bAAAFA0lEQVRYw9VXa2gcVRQ+u7PP2c0kQSlWqllQ\n",
       "CmK1i4ZKf9Rsqa8SW4OClLbYbUXUWnT7RyhqsoJ/1EoWoVSKbbZQxApKLIwg+eG2Ep8oq/iI0IGJ\n",
       "EaJit6nWNm3Veu45d3Z35t6dBP954OPcPXvnu/fc85g7AGGSlAiTkmKxnPJ/oCot0hYkPDW14Bbh\n",
       "Rwl8othpzkOKJTMUSqXbU1HHA1YuZG9xlwE2qR5hu04/NTrOQEnMkTKXfS34abz6cm/v42Ww8qof\n",
       "EXo6r6fSiGBXeeBG7WRj7EzvktcAZoBhk7pT/PWonv4NCZSV7EfXz2twMxG2fYqjeYCdqh8xEZFE\n",
       "SU+lEWJXeMwOOZCtAPSVIVEFgk3qeRHWiv6BdRIoa8+TmgFzO8ALnAz/YGDPAvSrfqRElPd0oNII\n",
       "sSs8sbx+9gim0bYCGAUg2KSER5kOeViTwBnPzJPG/UUei3/P8UWTgb5kq2p9iLM9pqfy5BfH8c6b\n",
       "2RWerL9YDjrf8WgA28gA+vIZEGxSBjqd6FAeRQbKsPU7aZHhp//iOo5gMiQ+RuRVP25FVdRTSXnw\n",
       "19aY2RWe5b6yfrLpZh9iFybtw0CwWX3hOJ/r/YiNM1AK0T9a9mozTc1r8GgyPaofWcc5Oa6hMhtX\n",
       "v0xxSrZXA7MrPIOId6bfnKBseboVLazLw1Oo32XYrO4BONC+vbYukvcOKZ5LXVLcHD3UWCL+Neic\n",
       "NzhCvpJ+xMqQrmqoYjDtboBAE5DsxBMjGodcEuddsK6N1f2tKHWhMS3+glUMm9VuSNJT5ic068Wz\n",
       "E+vla6wrxxDLJ89AYLdwugTRD0XO1NR4IOXudpNHdRsMVK8gP9qDxewKD7Z4o2RcjNBRtpLSwqaw\n",
       "QthWMGxW6Sq/tzJcAUYdLEmYHWJgTd6x9oISj9cRH6DLqTnNe/AA0bdKVlKV4S427BXnIdukZFd4\n",
       "JtEGMXYghenv/EDDNG4vIxrDKMNmFXX5bDZ9ydWLDW0u4IeJzeFvxQ9xhqJtxDXxgJt9Zd52JLwK\n",
       "HG17TUh2hWeSnnR5UuvV0N3DfRK2Mmw5LN5Of7vbecUcvJ0P5FUMcTLoRkrUZh/uLVpX6wMSBq5v\n",
       "/TR8d4Aqfh7eIkN7WjE78bTXh7g6wLaSSYVWb9Ulbi/yJw5uYthyeIxahyUjPjLTf5V8IO0y4AHE\n",
       "U8H6EGmaOicysaKJR2Y5rj4bqezwUZn7IjXq3WC5zekeu8JzCMM2tAwy9KPRNGNdwqiI9mqGLYfP\n",
       "kvOb4DeatQbMK7399DCSIuBjwbtnAq1bd0KzNfv9SB7HQT7tln1U0fkjtTi/dHc074geu8KDzXTl\n",
       "S/fC/bxc8129C6P6UVX25UH2QwwjtNbgRB/FD50YkffVVJ1gjp2rwg2Xn/AvEhG3tVcpRYZ0910K\n",
       "arfnvEe10b3+FrYc3sd9ucWu8LwCcKQRXccOmEs3s3WpuJ6S7VuGLYfczHD75M8JTEnv82FKIlye\n",
       "63xv39v8glCpthx0iuE8Xb7PmPj73r3EC2SdYbNqJml3zhyH5EUwv/GM/brbm/Y2qfUjWXsPCoun\n",
       "UniMQuh8cY0UsNtulLHjYN73SOoErLo0sb6ZiekSI/ybsdIxHhu3NKqLptJcuveHLrxHwg5crUXr\n",
       "C3wAVHyNWy/q7nTfgwtTabw8GrrwfglbdXhz4PewRJjMqt+1uu/zBalmNSFyQ+ZbJcapSVI+ycP/\n",
       "Vf4Fq76F4zG+p2EAAAAASUVORK5CYII=\n",
       "\" style=\"display:inline;vertical-align:middle;\" /></a></span>"
      ],
      "text/plain": [
       "|- forall_{A, B} ((A equiv B) = [forall_{x} ((x in A) = (x in B))])"
      ]
     },
     "metadata": {},
     "output_type": "display_data"
    }
   ],
   "source": [
    "set_equiv_def"
   ]
  },
  {
   "cell_type": "code",
   "execution_count": 5,
   "metadata": {},
   "outputs": [
    {
     "data": {
      "text/html": [
       "<span style=\"font-size:20px;\"><a class=\"ProveItLink\" href=\"../../../__pv_it/theorems/2ee8dc2018014830ed832e2e3d65a4df89f102480/expr.ipynb\"><img src=\"data:image/png;base64,iVBORw0KGgoAAAANSUhEUgAAADsAAAAPBAMAAACo4Ko7AAAAMFBMVEX///8AAAAAAAAAAAAAAAAA\n",
       "AAAAAAAAAAAAAAAAAAAAAAAAAAAAAAAAAAAAAAAAAAAv3aB7AAAAD3RSTlMAIs1UmauJMnZmRLsQ\n",
       "3e++988cAAAACXBIWXMAAA7EAAAOxAGVKw4bAAAA+UlEQVQY02NgAAEhBrxAH0zyxF0GkhxgNuf+\n",
       "r6FB2yGyzP/BFG/73AQGBlaIGN8GBob4AjCTJV4ARHUy8KgyMJRApOUbGBjWO4CZiflgZQFArepc\n",
       "FyHS84FC8xtALMaGfgMQDTSZof/fAoh0PBDrgQ1lYbCfAHflASj9moHh6HUwazFDfQK6X9h/d7Rq\n",
       "QpgODPIBINr3LghcBYtxfGRgsAObybHFJX4Dum7uBwwMbN9BrBMMDPwX0KX5geZx/oCYzcD7AF26\n",
       "Hmgw6y8ggwvIYPqAbnc/0E/1CkCGHMimj+i69YD6HgE9efq/DgPz/k9oPov+HxqqDQwrAPAyQLUO\n",
       "1tWZAAAAAElFTkSuQmCC\n",
       "\" style=\"display:inline;vertical-align:middle;\" /></a> <a class=\"ProveItLink\" href=\"../../../__pv_it/_proof_set_equiv_unfold/b1db252a91841aa8bb718f4a197db27cbfda52740/proof.ipynb\" style=\"text-decoration: none\">&nbsp;&#x22A2;&nbsp;&nbsp;</a><a class=\"ProveItLink\" href=\"../../../__pv_it/axioms/24808a060d5765eabdffd0b8f7717d720b4d994d0/expr.ipynb\"><img src=\"data:image/png;base64,iVBORw0KGgoAAAANSUhEUgAAANUAAAAVBAMAAAAjhrYEAAAAMFBMVEX///8AAAAAAAAAAAAAAAAA\n",
       "AAAAAAAAAAAAAAAAAAAAAAAAAAAAAAAAAAAAAAAAAAAv3aB7AAAAD3RSTlMAq1RmmUTNIjK7EInv\n",
       "3XZ/CtNrAAAACXBIWXMAAA7EAAAOxAGVKw4bAAAC90lEQVRIx41VTWgTQRT+svnZNGliglCoICko\n",
       "XlQsUhQvtuAvSKV48KBFgh7EHDReBKFqPKskiKUgto0gQj2I9iJeNCAiKkoUFD0sxKqIHtIWpenJ\n",
       "+t7OZjMzyS4OfJPJm2/mzXzvzVugveUJJryb+Z82ZcN8x5lkH3VzXuvOAeFau3nOz9cxByn+s06e\n",
       "2UgwHnitO0P42mb14O9YSadPFZDsh409bDspzcey1N31cmWsUBcp62Yv/ksgsAzkYOMyi12SpkN0\n",
       "AOzy8hXKkPDBId3swTf/kuJ/gAHY4DPG+6T5bu4qSgAnrY/N8aOnBepf6ZsqfPy0rKw9CNKdguSv\n",
       "u2wjSNeIyMQNrFRWMoRPtyQza/N8rhO6sjIfh381R4EF2vwFoV/gjWW9lpkHWCkKday+5sqsnXlS\n",
       "dELYwhI/1JWV+WaupVEJsbUkRDwlsB+4Ka/jM/MZQvhSG9YT5xCKnHHbeDxscXsHnR9pPaXiVL2H\n",
       "zxbMCpyFmZJ9vSckSKjtGCyvZoOszxAuMXmTdi+FL0VkPg/jGWtcEegqx0fkdc/57mQpYK/9P0oi\n",
       "W5+dLLmxO8M5W9R8yXxc5euKzL5F4GSKLggYNSU1XF/AW/HepAdxH1hVpd/RDr6afMy07IuEQaoy\n",
       "4YoAsjupq+/7llc1RLiBe2yoyhIiwUs2a/FS+AmXHv1NXYbOYVQFMEt5k8z3RpxHNkXoqiE2HqjA\n",
       "rjz1VvZz6i5w7dHupfCTbrlMNsjfEudGSQBjFO0gpqIOgfOZ8tNYvlMJ2+4j7ksf420bzruQm8LH\n",
       "8aY5QhqM5pw3wUCAKwEaTcI1vnwVsYO19VtFwHqPOIFYycGYXqI1HzRfCh+3x8WLDEwvpnuu27KO\n",
       "CDjsSvMLlGDXn+Sdwo9bNUpUj6peoxQ+jk5aSiHBBQdCnXg25Aztwjrg9zkS5Vlp/ny7NLvlOfT9\n",
       "iVvEJjgqeb+l59ss/nz+jijfErfNaI+qvU20Wfz5fJLOpzE5Zy/6LE12WObHxw+Bf3lAyhCyTuT2\n",
       "AAAAAElFTkSuQmCC\n",
       "\" style=\"display:inline;vertical-align:middle;\" /></a></span>"
      ],
      "text/plain": [
       "{A equiv B} |- forall_{x} ((x in A) = (x in B))"
      ]
     },
     "metadata": {},
     "output_type": "display_data"
    },
    {
     "name": "stdout",
     "output_type": "stream",
     "text": [
      "set_equiv_unfold may now be readily provable (assuming required theorems are usable).  Simply execute \"%qed\".\n"
     ]
    }
   ],
   "source": [
    "set_equiv_def.instantiate().derive_right_via_equality()"
   ]
  },
  {
   "cell_type": "code",
   "execution_count": 6,
   "metadata": {},
   "outputs": [
    {
     "name": "stdout",
     "output_type": "stream",
     "text": [
      "proveit.logic.sets.equivalence.set_equiv_unfold has been proven.\n"
     ]
    },
    {
     "data": {
      "text/html": [
       "<table><tr><th>&nbsp;</th><th>step type</th><th>requirements</th><th>statement</th></tr>\n",
       "<tr><td><a name=\"0x62dad200d17d27f5_step0\">0</a></td><td>generalization</td><td><a href=\"#0x62dad200d17d27f5_step1\">1</a></td><td><span style=\"font-size:20px;\"> <a class=\"ProveItLink\" href=\"../../../__pv_it/_proof_set_equiv_unfold/fb276e3cb4a9c2beaa369f830abbbe24d708e0c90/proof.ipynb\" style=\"text-decoration: none\">&nbsp;&#x22A2;&nbsp;&nbsp;</a><a class=\"ProveItLink\" href=\"../../../__pv_it/theorems/3e72f59b23979ed3e74c0d98c5c4ad815aa3dce30/expr.ipynb\"><img src=\"data:image/png;base64,iVBORw0KGgoAAAANSUhEUgAAAVAAAAAXBAMAAACv7AqKAAAAMFBMVEX///8AAAAAAAAAAAAAAAAA\n",
       "AAAAAAAAAAAAAAAAAAAAAAAAAAAAAAAAAAAAAAAAAAAv3aB7AAAAD3RSTlMAq1RmmUTNIjK7EInv\n",
       "3XZ/CtNrAAAACXBIWXMAAA7EAAAOxAGVKw4bAAAEaklEQVRIx81XXWgUVxQ+uzu7sztrJgmVolK6\n",
       "AxVfqnWokuKDzRZbbYjaoFBEBbdKKQbB9aUQEHf72DZlg1T8KZoNRGmKSiKmfdgH14DSKkrwB/Lg\n",
       "wMQUiqKxlWpiBNNzz72ze+dnTd0nD3yZzZnzzf3uOfecnQWo03Qr73eqArUs8F52DgLDw7F6dUKy\n",
       "I8B5VyDQvgaI2gE7Nl6yCiMQaRia2P/v1CM0xC5hU/KFBzmCbS9iwu9+NzA40vtP85tHOGGChH7C\n",
       "3F/VI1RhOY3JhTslEGjhWRZe9Lq1THD4vB6AVJ4IDMPwDTsFPfUIjbNidMm+NQKBpqRwT5G0z20G\n",
       "h+ew4DvSRGAYJrlJo64z2omXc7KvLFC1e5blZOy3C6z7rvgyVyO+FaNbbU64woRGcEex+pppBV7k\n",
       "woUzHFX7/H61f+1HLB27vM9ZUiM+hdiT5YRdTChcs6yr9QmdZ1l35NZRBjm0yUXfU6bVTukmLGdF\n",
       "HvI+px1xdvznkuGJ/wOgb0wQhkjopwDH6JbnnCuV415LqJKHhEyKmRwKjNsbwNNpm6DANtVCj7bI\n",
       "aOCwjKX1t5VRd3z82eQ4Zb+FA4XuA5UY2u8U8e2/pTYa5QmHc7oy2eO97eePVIUib5+svcHg+ABa\n",
       "i2+QUOlmGnJsmaXeDd/AZslGZkKmO16fwlhTEJaS0ESRz+7kYz7ARkEvu4ReMCB5GddH2mqAB9LA\n",
       "P8b4Ul90cORhLXd0s7zxiaL/+HGKfSp4hV7C/YOS8cYnUENyWhAKJDRs841suU6XEI6Ev2Wh0W4b\n",
       "Fp/8CQArNx87URL6nquXKkIB+KNgoHrvLEAjq+72AKHIsr3xjZj+yAtB2E5CIfMh3bK/4KsZcMaU\n",
       "heqxJqybsqAfJYyAdlMSGovgAvqfB9a5Sw/RKfiFHHLloYEVapn3jN5gf3ZktaI7voAaQk8EYRkX\n",
       "eo56TRf1yk2sXACyUBvrgqwWzJL6YsVHeUlocgk+/q9Qz07uStgE7VCoDDQN9MpXe5T1GSvUKm9G\n",
       "T2AiO96CpDseHmFfFTKCsIoL3U872yJO32rQ5stCo3k8sm1H0Ux2fvvSklD1In4wE7YQn2wihKf7\n",
       "y1H+FbLTWXc/e+CUmEYuw9Gz/Lv1OBRc8bAHV75cFIR2LjRE67SXUjRqUGWuQxKqlIZmHDaeX/WJ\n",
       "/PZEuW90hkp8lKBttBe/zz19h/j4GpjthHDvU0zzba/QHwD6J8NrDFc8LJxtbt5Nvtscla7VUR8J\n",
       "HsETI48nG9TpSrcYEJ32veZ1V94oxwSqtu245eo3ddQrtCH/sngiMFSEbsbMGNogqDOg3ZJKzw7X\n",
       "Y6f0uSKcSXuEquVfwfGtFKht/lcQ/2uKj8DgCFUugvbZl/ERaHleajMkoeuboP+p0BTZWzp/0Pfi\n",
       "vHHbpPP1lMhy1LYuv+swzEXoAnAPbJyp0ufEq7/haz0ctS1A1QDMRTjsF7r1FYQG/WY6IFDzh1ZA\n",
       "ulV7DgLDw0tuv/n/hb4+pr5ecv4DBUI18+pnWPsAAAAASUVORK5CYII=\n",
       "\" style=\"display:inline;vertical-align:middle;\" /></a></span></td></tr>\n",
       "<tr><td><a name=\"0x62dad200d17d27f5_step1\">1</a></td><td>instantiation</td><td><a href=\"#0x62dad200d17d27f5_step2\">2</a>, <a href=\"#0x62dad200d17d27f5_step3\">3</a>, <a href=\"#0x62dad200d17d27f5_step4\">4</a></td><td><span style=\"font-size:20px;\"><a class=\"ProveItLink\" href=\"../../../__pv_it/theorems/2ee8dc2018014830ed832e2e3d65a4df89f102480/expr.ipynb\"><img src=\"data:image/png;base64,iVBORw0KGgoAAAANSUhEUgAAADsAAAAPBAMAAACo4Ko7AAAAMFBMVEX///8AAAAAAAAAAAAAAAAA\n",
       "AAAAAAAAAAAAAAAAAAAAAAAAAAAAAAAAAAAAAAAAAAAv3aB7AAAAD3RSTlMAIs1UmauJMnZmRLsQ\n",
       "3e++988cAAAACXBIWXMAAA7EAAAOxAGVKw4bAAAA+UlEQVQY02NgAAEhBrxAH0zyxF0GkhxgNuf+\n",
       "r6FB2yGyzP/BFG/73AQGBlaIGN8GBob4AjCTJV4ARHUy8KgyMJRApOUbGBjWO4CZiflgZQFArepc\n",
       "FyHS84FC8xtALMaGfgMQDTSZof/fAoh0PBDrgQ1lYbCfAHflASj9moHh6HUwazFDfQK6X9h/d7Rq\n",
       "QpgODPIBINr3LghcBYtxfGRgsAObybHFJX4Dum7uBwwMbN9BrBMMDPwX0KX5geZx/oCYzcD7AF26\n",
       "Hmgw6y8ggwvIYPqAbnc/0E/1CkCGHMimj+i69YD6HgE9efq/DgPz/k9oPov+HxqqDQwrAPAyQLUO\n",
       "1tWZAAAAAElFTkSuQmCC\n",
       "\" style=\"display:inline;vertical-align:middle;\" /></a> <a class=\"ProveItLink\" href=\"../../../__pv_it/_proof_set_equiv_unfold/b1db252a91841aa8bb718f4a197db27cbfda52740/proof.ipynb\" style=\"text-decoration: none\">&nbsp;&#x22A2;&nbsp;&nbsp;</a><a class=\"ProveItLink\" href=\"../../../__pv_it/axioms/24808a060d5765eabdffd0b8f7717d720b4d994d0/expr.ipynb\"><img src=\"data:image/png;base64,iVBORw0KGgoAAAANSUhEUgAAANUAAAAVBAMAAAAjhrYEAAAAMFBMVEX///8AAAAAAAAAAAAAAAAA\n",
       "AAAAAAAAAAAAAAAAAAAAAAAAAAAAAAAAAAAAAAAAAAAv3aB7AAAAD3RSTlMAq1RmmUTNIjK7EInv\n",
       "3XZ/CtNrAAAACXBIWXMAAA7EAAAOxAGVKw4bAAAC90lEQVRIx41VTWgTQRT+svnZNGliglCoICko\n",
       "XlQsUhQvtuAvSKV48KBFgh7EHDReBKFqPKskiKUgto0gQj2I9iJeNCAiKkoUFD0sxKqIHtIWpenJ\n",
       "+t7OZjMzyS4OfJPJm2/mzXzvzVugveUJJryb+Z82ZcN8x5lkH3VzXuvOAeFau3nOz9cxByn+s06e\n",
       "2UgwHnitO0P42mb14O9YSadPFZDsh409bDspzcey1N31cmWsUBcp62Yv/ksgsAzkYOMyi12SpkN0\n",
       "AOzy8hXKkPDBId3swTf/kuJ/gAHY4DPG+6T5bu4qSgAnrY/N8aOnBepf6ZsqfPy0rKw9CNKdguSv\n",
       "u2wjSNeIyMQNrFRWMoRPtyQza/N8rhO6sjIfh381R4EF2vwFoV/gjWW9lpkHWCkKday+5sqsnXlS\n",
       "dELYwhI/1JWV+WaupVEJsbUkRDwlsB+4Ka/jM/MZQvhSG9YT5xCKnHHbeDxscXsHnR9pPaXiVL2H\n",
       "zxbMCpyFmZJ9vSckSKjtGCyvZoOszxAuMXmTdi+FL0VkPg/jGWtcEegqx0fkdc/57mQpYK/9P0oi\n",
       "W5+dLLmxO8M5W9R8yXxc5euKzL5F4GSKLggYNSU1XF/AW/HepAdxH1hVpd/RDr6afMy07IuEQaoy\n",
       "4YoAsjupq+/7llc1RLiBe2yoyhIiwUs2a/FS+AmXHv1NXYbOYVQFMEt5k8z3RpxHNkXoqiE2HqjA\n",
       "rjz1VvZz6i5w7dHupfCTbrlMNsjfEudGSQBjFO0gpqIOgfOZ8tNYvlMJ2+4j7ksf420bzruQm8LH\n",
       "8aY5QhqM5pw3wUCAKwEaTcI1vnwVsYO19VtFwHqPOIFYycGYXqI1HzRfCh+3x8WLDEwvpnuu27KO\n",
       "CDjsSvMLlGDXn+Sdwo9bNUpUj6peoxQ+jk5aSiHBBQdCnXg25Aztwjrg9zkS5Vlp/ny7NLvlOfT9\n",
       "iVvEJjgqeb+l59ss/nz+jijfErfNaI+qvU20Wfz5fJLOpzE5Zy/6LE12WObHxw+Bf3lAyhCyTuT2\n",
       "AAAAAElFTkSuQmCC\n",
       "\" style=\"display:inline;vertical-align:middle;\" /></a></span></td></tr>\n",
       "<tr><td>&nbsp;</td><td colspan=4 style=\"text-align:left\"><span style=\"font-size:20px;\"><a class=\"ProveItLink\" href=\"../../../../../../__pv_it/common/de55da274ba0f49c86925fbf3828021c04d27faf0/expr.ipynb\"><img src=\"data:image/png;base64,iVBORw0KGgoAAAANSUhEUgAAABAAAAAOBAMAAADUAYG5AAAAMFBMVEX///8AAAAAAAAAAAAAAAAA\n",
       "AAAAAAAAAAAAAAAAAAAAAAAAAAAAAAAAAAAAAAAAAAAv3aB7AAAAD3RSTlMAdrurzZkQ7zJUiSLd\n",
       "ZkQEbk8lAAAACXBIWXMAAA7EAAAOxAGVKw4bAAAAWklEQVQI12NgYBD6r2zkmsAABF8YGJjKgDTH\n",
       "RwYGTiBmYPwBxL+ADKYPQAzkMPArMDD0CzCAiV0nQZrkrVbdA9EM+gxQ8AVKc/yCMhj/QRksHyA0\n",
       "q/4nkBkMAGrBE2oHiyZAAAAAAElFTkSuQmCC\n",
       "\" style=\"display:inline;vertical-align:middle;\" /></a> : <a class=\"ProveItLink\" href=\"../../../__pv_it/theorems/2ee8dc2018014830ed832e2e3d65a4df89f102480/expr.ipynb\"><img src=\"data:image/png;base64,iVBORw0KGgoAAAANSUhEUgAAADsAAAAPBAMAAACo4Ko7AAAAMFBMVEX///8AAAAAAAAAAAAAAAAA\n",
       "AAAAAAAAAAAAAAAAAAAAAAAAAAAAAAAAAAAAAAAAAAAv3aB7AAAAD3RSTlMAIs1UmauJMnZmRLsQ\n",
       "3e++988cAAAACXBIWXMAAA7EAAAOxAGVKw4bAAAA+UlEQVQY02NgAAEhBrxAH0zyxF0GkhxgNuf+\n",
       "r6FB2yGyzP/BFG/73AQGBlaIGN8GBob4AjCTJV4ARHUy8KgyMJRApOUbGBjWO4CZiflgZQFArepc\n",
       "FyHS84FC8xtALMaGfgMQDTSZof/fAoh0PBDrgQ1lYbCfAHflASj9moHh6HUwazFDfQK6X9h/d7Rq\n",
       "QpgODPIBINr3LghcBYtxfGRgsAObybHFJX4Dum7uBwwMbN9BrBMMDPwX0KX5geZx/oCYzcD7AF26\n",
       "Hmgw6y8ggwvIYPqAbnc/0E/1CkCGHMimj+i69YD6HgE9efq/DgPz/k9oPov+HxqqDQwrAPAyQLUO\n",
       "1tWZAAAAAElFTkSuQmCC\n",
       "\" style=\"display:inline;vertical-align:middle;\" /></a>, <a class=\"ProveItLink\" href=\"../../../../../../__pv_it/common/d72bb8b07403efe79afab564c36a28e21330e5f90/expr.ipynb\"><img src=\"data:image/png;base64,iVBORw0KGgoAAAANSUhEUgAAAA8AAAASBAMAAAB2sJk8AAAAMFBMVEX///8AAAAAAAAAAAAAAAAA\n",
       "AAAAAAAAAAAAAAAAAAAAAAAAAAAAAAAAAAAAAAAAAAAv3aB7AAAAD3RSTlMAIomZq2bNMhC7791E\n",
       "VHYkqjbgAAAACXBIWXMAAA7EAAAOxAGVKw4bAAAAgklEQVQI12NgYGBUVnJlAAG1AgaWBCDdNgFI\n",
       "LAbibJCoPwMD83cQQ7+AQR4kw2B/gMH+AoiRL8CwvwFIc/xiYPgFEmD9ysCwG8ToSgBp5LnAYCXA\n",
       "wFB/IVyUaSFQlG/hAyYXkAaGkknaBxgKwLZyHuATgDAcroFpBub/3yEM9l1AawBt/xzBtQnGvwAA\n",
       "AABJRU5ErkJggg==\n",
       "\" style=\"display:inline;vertical-align:middle;\" /></a> : <a class=\"ProveItLink\" href=\"../../../__pv_it/axioms/24808a060d5765eabdffd0b8f7717d720b4d994d0/expr.ipynb\"><img src=\"data:image/png;base64,iVBORw0KGgoAAAANSUhEUgAAANUAAAAVBAMAAAAjhrYEAAAAMFBMVEX///8AAAAAAAAAAAAAAAAA\n",
       "AAAAAAAAAAAAAAAAAAAAAAAAAAAAAAAAAAAAAAAAAAAv3aB7AAAAD3RSTlMAq1RmmUTNIjK7EInv\n",
       "3XZ/CtNrAAAACXBIWXMAAA7EAAAOxAGVKw4bAAAC90lEQVRIx41VTWgTQRT+svnZNGliglCoICko\n",
       "XlQsUhQvtuAvSKV48KBFgh7EHDReBKFqPKskiKUgto0gQj2I9iJeNCAiKkoUFD0sxKqIHtIWpenJ\n",
       "+t7OZjMzyS4OfJPJm2/mzXzvzVugveUJJryb+Z82ZcN8x5lkH3VzXuvOAeFau3nOz9cxByn+s06e\n",
       "2UgwHnitO0P42mb14O9YSadPFZDsh409bDspzcey1N31cmWsUBcp62Yv/ksgsAzkYOMyi12SpkN0\n",
       "AOzy8hXKkPDBId3swTf/kuJ/gAHY4DPG+6T5bu4qSgAnrY/N8aOnBepf6ZsqfPy0rKw9CNKdguSv\n",
       "u2wjSNeIyMQNrFRWMoRPtyQza/N8rhO6sjIfh381R4EF2vwFoV/gjWW9lpkHWCkKday+5sqsnXlS\n",
       "dELYwhI/1JWV+WaupVEJsbUkRDwlsB+4Ka/jM/MZQvhSG9YT5xCKnHHbeDxscXsHnR9pPaXiVL2H\n",
       "zxbMCpyFmZJ9vSckSKjtGCyvZoOszxAuMXmTdi+FL0VkPg/jGWtcEegqx0fkdc/57mQpYK/9P0oi\n",
       "W5+dLLmxO8M5W9R8yXxc5euKzL5F4GSKLggYNSU1XF/AW/HepAdxH1hVpd/RDr6afMy07IuEQaoy\n",
       "4YoAsjupq+/7llc1RLiBe2yoyhIiwUs2a/FS+AmXHv1NXYbOYVQFMEt5k8z3RpxHNkXoqiE2HqjA\n",
       "rjz1VvZz6i5w7dHupfCTbrlMNsjfEudGSQBjFO0gpqIOgfOZ8tNYvlMJ2+4j7ksf420bzruQm8LH\n",
       "8aY5QhqM5pw3wUCAKwEaTcI1vnwVsYO19VtFwHqPOIFYycGYXqI1HzRfCh+3x8WLDEwvpnuu27KO\n",
       "CDjsSvMLlGDXn+Sdwo9bNUpUj6peoxQ+jk5aSiHBBQdCnXg25Aztwjrg9zkS5Vlp/ny7NLvlOfT9\n",
       "iVvEJjgqeb+l59ss/nz+jijfErfNaI+qvU20Wfz5fJLOpzE5Zy/6LE12WObHxw+Bf3lAyhCyTuT2\n",
       "AAAAAElFTkSuQmCC\n",
       "\" style=\"display:inline;vertical-align:middle;\" /></a></span></td></tr><tr><td><a name=\"0x62dad200d17d27f5_step2\">2</a></td><td>theorem</td><td></td><td><span style=\"font-size:20px;\"> <a class=\"ProveItLink\" href=\"../../../../../equality/_theory_nbs_/proofs/rhs_via_equality/thm_proof.ipynb\" style=\"text-decoration: none\">&nbsp;&#x22A2;&nbsp;&nbsp;</a><a class=\"ProveItLink\" href=\"../../../../../equality/__pv_it/theorems/b71cc6ded84759b8e6fdf7e824529c371b14ed8e0/expr.ipynb\"><img src=\"data:image/png;base64,iVBORw0KGgoAAAANSUhEUgAAAIkAAAAVBAMAAACArtDCAAAAMFBMVEX///8AAAAAAAAAAAAAAAAA\n",
       "AAAAAAAAAAAAAAAAAAAAAAAAAAAAAAAAAAAAAAAAAAAv3aB7AAAAD3RSTlMAq1RmmUTNIjK7EInv\n",
       "3XZ/CtNrAAAACXBIWXMAAA7EAAAOxAGVKw4bAAAB3klEQVQ4y51UTShEURT+xsx4w2OaiSgbU8rC\n",
       "apYWaCxEUd5KmdXslJKR7dSMjS3FBgtvZaVJmixINNQsRCM7mfzspAZRhOKcO+bNGWPB++qd777z\n",
       "vvfde8+9HfhAaINdaKmdBqI+Ho/ZdtlKwBEBZthw3q7JGv95CFSbgB6w6zLBoRVwBsnJronrleNe\n",
       "AjjO5Y7susRVKYYNYABY/m2av7gMq1JMRoEpaHTa7tXB3mZO3eX7laCmoBt9Tvmjggsoii6pqKj9\n",
       "YLmp04rQDewSjUQRiwoXZxZ6VrCCJfpQkicKVVequI3APb2Q0jUvXBwheB8EM0qiHIf1CMdID8c0\n",
       "cErlonI7H4RLXQD1PsGqppaoFe4AhtSyNsf54r1hKgQ00VDfFy5xU2u02LVEWBCiuUDntJ5RwhjP\n",
       "4TzJdxDxmVf7hEtX/saUjDKRN3Ol+wt5R4JDYbkHPIGsrh/lXC7CzMqugYT1pS6oaBFhnMmTPhB/\n",
       "FndUErHO8JZuQJyGtRuITSdng8JFe4HKKy6iJGKdr9364F3dBjxpaL3XLZpwuX03VV6x1VMsEa/v\n",
       "8/XHha6ixx1Kyh1Z+TIURQTPxc+GEOaJHs8rXMIVHe5b9CvUZieMCpdgZV8x/thQ/9MhvgB6V4K4\n",
       "K/k90gAAAABJRU5ErkJggg==\n",
       "\" style=\"display:inline;vertical-align:middle;\" /></a></span></td></tr>\n",
       "<tr><td>&nbsp;</td><td colspan=4 style-\"text-align:left\"><a class=\"ProveItLink\" href=\"../../../../../equality/_theory_nbs_/proofs/rhs_via_equality/thm_proof.ipynb\">proveit.logic.equality.rhs_via_equality</a></td></tr><tr><td><a name=\"0x62dad200d17d27f5_step3\">3</a></td><td>assumption</td><td></td><td><span style=\"font-size:20px;\"><a class=\"ProveItLink\" href=\"../../../__pv_it/theorems/2ee8dc2018014830ed832e2e3d65a4df89f102480/expr.ipynb\"><img src=\"data:image/png;base64,iVBORw0KGgoAAAANSUhEUgAAADsAAAAPBAMAAACo4Ko7AAAAMFBMVEX///8AAAAAAAAAAAAAAAAA\n",
       "AAAAAAAAAAAAAAAAAAAAAAAAAAAAAAAAAAAAAAAAAAAv3aB7AAAAD3RSTlMAIs1UmauJMnZmRLsQ\n",
       "3e++988cAAAACXBIWXMAAA7EAAAOxAGVKw4bAAAA+UlEQVQY02NgAAEhBrxAH0zyxF0GkhxgNuf+\n",
       "r6FB2yGyzP/BFG/73AQGBlaIGN8GBob4AjCTJV4ARHUy8KgyMJRApOUbGBjWO4CZiflgZQFArepc\n",
       "FyHS84FC8xtALMaGfgMQDTSZof/fAoh0PBDrgQ1lYbCfAHflASj9moHh6HUwazFDfQK6X9h/d7Rq\n",
       "QpgODPIBINr3LghcBYtxfGRgsAObybHFJX4Dum7uBwwMbN9BrBMMDPwX0KX5geZx/oCYzcD7AF26\n",
       "Hmgw6y8ggwvIYPqAbnc/0E/1CkCGHMimj+i69YD6HgE9efq/DgPz/k9oPov+HxqqDQwrAPAyQLUO\n",
       "1tWZAAAAAElFTkSuQmCC\n",
       "\" style=\"display:inline;vertical-align:middle;\" /></a> <a class=\"ProveItLink\" href=\"../../../__pv_it/_proof_set_equiv_unfold/9211b73d4c87c9a409e9a9b54647a9594a163c2a0/proof.ipynb\" style=\"text-decoration: none\">&nbsp;&#x22A2;&nbsp;&nbsp;</a><a class=\"ProveItLink\" href=\"../../../__pv_it/theorems/2ee8dc2018014830ed832e2e3d65a4df89f102480/expr.ipynb\"><img src=\"data:image/png;base64,iVBORw0KGgoAAAANSUhEUgAAADsAAAAPBAMAAACo4Ko7AAAAMFBMVEX///8AAAAAAAAAAAAAAAAA\n",
       "AAAAAAAAAAAAAAAAAAAAAAAAAAAAAAAAAAAAAAAAAAAv3aB7AAAAD3RSTlMAIs1UmauJMnZmRLsQ\n",
       "3e++988cAAAACXBIWXMAAA7EAAAOxAGVKw4bAAAA+UlEQVQY02NgAAEhBrxAH0zyxF0GkhxgNuf+\n",
       "r6FB2yGyzP/BFG/73AQGBlaIGN8GBob4AjCTJV4ARHUy8KgyMJRApOUbGBjWO4CZiflgZQFArepc\n",
       "FyHS84FC8xtALMaGfgMQDTSZof/fAoh0PBDrgQ1lYbCfAHflASj9moHh6HUwazFDfQK6X9h/d7Rq\n",
       "QpgODPIBINr3LghcBYtxfGRgsAObybHFJX4Dum7uBwwMbN9BrBMMDPwX0KX5geZx/oCYzcD7AF26\n",
       "Hmgw6y8ggwvIYPqAbnc/0E/1CkCGHMimj+i69YD6HgE9efq/DgPz/k9oPov+HxqqDQwrAPAyQLUO\n",
       "1tWZAAAAAElFTkSuQmCC\n",
       "\" style=\"display:inline;vertical-align:middle;\" /></a></span></td></tr>\n",
       "<tr><td><a name=\"0x62dad200d17d27f5_step4\">4</a></td><td>instantiation</td><td><a href=\"#0x62dad200d17d27f5_step5\">5</a></td><td><span style=\"font-size:20px;\"> <a class=\"ProveItLink\" href=\"../../../__pv_it/_proof_set_equiv_unfold/08df7e0e4bfa53899b28c04f86c85ae4ff70efb40/proof.ipynb\" style=\"text-decoration: none\">&nbsp;&#x22A2;&nbsp;&nbsp;</a><a class=\"ProveItLink\" href=\"../../../__pv_it/axioms/a1911f75c42a7792e0aa461152b75a94730f395f0/expr.ipynb\"><img src=\"data:image/png;base64,iVBORw0KGgoAAAANSUhEUgAAAUcAAAAVBAMAAAAnVjEQAAAAMFBMVEX///8AAAAAAAAAAAAAAAAA\n",
       "AAAAAAAAAAAAAAAAAAAAAAAAAAAAAAAAAAAAAAAAAAAv3aB7AAAAD3RSTlMAInZUiRDNmWbv3US7\n",
       "qzJazP2FAAAACXBIWXMAAA7EAAAOxAGVKw4bAAAECElEQVRIx42XS2gTQRjHv+xmk23TxOChUFGM\n",
       "FVF8UA/i6+Lz5AODoF6qRKXgQbCKaFWQqqAXwSgKoh6CiuD6oPiCejGtiKgHg2BRsTQHBS1IW8HH\n",
       "Rev3fTOb7O5MNg789zGZ/X3/eU8AIA2hKaJmzb6rKZeGcFTkP/OCQMMp42U+ZzXXKpvIKFlrNcUI\n",
       "I1Ga1KzlwPQwk/ekoj0AC0TWHnHbeokCCd7p8cHB3WWYpTFZottib94CqKA0iegqx1yuLSzjGt3A\n",
       "QpNWTpQfFwWufrmO15J4uQKQ/AuxrGryCN22e7III1GaxHSVs7lGcREXOoCFJuPdnB8f4vGEzjeX\n",
       "INUpRsx37KRfYHeqJr/Rz0VPFmEkSpOYrnK6aoxeERdOAQtNNogfVmwo0y2JGig/FhPAxtrY+MEF\n",
       "1SS1StQ7AhukPIP0pXPDfRZ0hZP3vc11nJwvbkOWhSYXCvOZNg4ZJfr4ZfFVchT76CzALtWkjY0W\n",
       "82YtlKrOtx3V3pX0IMf0DY9HM9wnN26sm4Um94v+gGXVvrLc1imC9QGbYL1mdl9ynPPerP1SG+dt\n",
       "W83VbfaMQEkPcuI4b6zWt59WcUU6qr0i40ZLLDQpqncfRtSZNtLfOkDwk0x0OJWkyaMAz7xld0l1\n",
       "Gm/iheCsknTmHGbMHXqklorDvMxhfkkrce0cC01e4/xOmFoKWoG2NJgX8b5E05JTIFLyZl0TstP2\n",
       "jyT3ibcrJT3IacQmPwZnsu/YZDXfjWvmWWiSx5/x/OBQUWnJFyga8SMak01ZWmOr6bJQCuLCXQrH\n",
       "g3NbTiFJD3IakFCGA+LlKzVO0Rc3NcpyTW4EmFBQTP5BncF1vVdj0sz45o1rEiOLjcDy1Nml92pM\n",
       "ApwTL+1q3ESe5XY3rmCN+aCV1G+8DCFoqWZMQu44Xlr3zkz7uhvgSdriKVPw9ragLw2MSepuSIzB\n",
       "Jn5R45oFFprsp4I010eDVowx/OAnbVO6vXsVzkYj/TEmF8t+ofae97yMof/qYuTSg5ymDFivknng\n",
       "KWtUtvZKXLvIQpO0LrTQF2NBKzGsfW+HXFoUky1YERv6UzJrvdCyz4dwLvPXlaW+Qg9ycHkx/27J\n",
       "J0TJnUpcWqJQaHIYqz/eAebrn4E1KPn6z+DAU3q6pTOZ5B2qUrNhoS2tZpeIaX18KAdbhR7kpApg\n",
       "7cssOiGPNq+ygbiNPSw02ViGOilSqHlUS+XdEyFh/KjEuuq2WIPjP5Y+eOn4TyiThNCkuu0rp4Pu\n",
       "WiZborm4fCRMHZTKORUeuEuI1rq+eiYn1zz0xuesrGy4fVAPpXKaQv8U0CmLRCbb65ns+6+TeTvU\n",
       "Q6kcqxhWnqpAIpORTLhHQ63uGs1/HMKEojQcmBgWeJqQcbPnH3hUOKBCGol6AAAAAElFTkSuQmCC\n",
       "\" style=\"display:inline;vertical-align:middle;\" /></a></span></td></tr>\n",
       "<tr><td>&nbsp;</td><td colspan=4 style=\"text-align:left\"><span style=\"font-size:20px;\"><a class=\"ProveItLink\" href=\"../../../../../../__pv_it/common/09585084922504426caf1db2ff588a23a0932a960/expr.ipynb\"><img src=\"data:image/png;base64,iVBORw0KGgoAAAANSUhEUgAAAA8AAAAPBAMAAADJ+Ih5AAAAMFBMVEX///8AAAAAAAAAAAAAAAAA\n",
       "AAAAAAAAAAAAAAAAAAAAAAAAAAAAAAAAAAAAAAAAAAAv3aB7AAAAD3RSTlMAIs1UmauJMnZmRLsQ\n",
       "3e++988cAAAACXBIWXMAAA7EAAAOxAGVKw4bAAAAXklEQVQI12NgAAEhBijQh9LM/6EMlngBCCMx\n",
       "vwBMMzb0G0BkGOwngBmLGeoTwAwHBvkAEM2xxSV+A4hxgoGB/wJEhoH3AZDmAupg+gBkyAEx90cG\n",
       "htP/dRiY939KAABt3hLO6mcEjQAAAABJRU5ErkJggg==\n",
       "\" style=\"display:inline;vertical-align:middle;\" /></a> : <a class=\"ProveItLink\" href=\"../../../../../../__pv_it/common/09585084922504426caf1db2ff588a23a0932a960/expr.ipynb\"><img src=\"data:image/png;base64,iVBORw0KGgoAAAANSUhEUgAAAA8AAAAPBAMAAADJ+Ih5AAAAMFBMVEX///8AAAAAAAAAAAAAAAAA\n",
       "AAAAAAAAAAAAAAAAAAAAAAAAAAAAAAAAAAAAAAAAAAAv3aB7AAAAD3RSTlMAIs1UmauJMnZmRLsQ\n",
       "3e++988cAAAACXBIWXMAAA7EAAAOxAGVKw4bAAAAXklEQVQI12NgAAEhBijQh9LM/6EMlngBCCMx\n",
       "vwBMMzb0G0BkGOwngBmLGeoTwAwHBvkAEM2xxSV+A4hxgoGB/wJEhoH3AZDmAupg+gBkyAEx90cG\n",
       "htP/dRiY939KAABt3hLO6mcEjQAAAABJRU5ErkJggg==\n",
       "\" style=\"display:inline;vertical-align:middle;\" /></a>, <a class=\"ProveItLink\" href=\"../../../../../../__pv_it/common/a9162d1c3cc0470c02e5daf414500903a7a419230/expr.ipynb\"><img src=\"data:image/png;base64,iVBORw0KGgoAAAANSUhEUgAAABAAAAAOBAMAAADUAYG5AAAAMFBMVEX///8AAAAAAAAAAAAAAAAA\n",
       "AAAAAAAAAAAAAAAAAAAAAAAAAAAAAAAAAAAAAAAAAAAv3aB7AAAAD3RSTlMAZrurzTLvInZEmRDd\n",
       "VIkafcLnAAAACXBIWXMAAA7EAAAOxAGVKw4bAAAAb0lEQVQI12NgYBD6b2zsFMAABEkMDMxfgTT7\n",
       "DwYGzl9ABiOQxwjkMDB/YGBgSQcy2BQYuG1AiuM1OkwEQJr6Cxh4E0EMNSB+D5L6DMTyDQwMrB+B\n",
       "DPsJDAwc34GcL0AOSwIDwzRvoHH6n41NdBkYAF/iFeJ4bEa2AAAAAElFTkSuQmCC\n",
       "\" style=\"display:inline;vertical-align:middle;\" /></a> : <a class=\"ProveItLink\" href=\"../../../../../../__pv_it/common/a9162d1c3cc0470c02e5daf414500903a7a419230/expr.ipynb\"><img src=\"data:image/png;base64,iVBORw0KGgoAAAANSUhEUgAAABAAAAAOBAMAAADUAYG5AAAAMFBMVEX///8AAAAAAAAAAAAAAAAA\n",
       "AAAAAAAAAAAAAAAAAAAAAAAAAAAAAAAAAAAAAAAAAAAv3aB7AAAAD3RSTlMAZrurzTLvInZEmRDd\n",
       "VIkafcLnAAAACXBIWXMAAA7EAAAOxAGVKw4bAAAAb0lEQVQI12NgYBD6b2zsFMAABEkMDMxfgTT7\n",
       "DwYGzl9ABiOQxwjkMDB/YGBgSQcy2BQYuG1AiuM1OkwEQJr6Cxh4E0EMNSB+D5L6DMTyDQwMrB+B\n",
       "DPsJDAwc34GcL0AOSwIDwzRvoHH6n41NdBkYAF/iFeJ4bEa2AAAAAElFTkSuQmCC\n",
       "\" style=\"display:inline;vertical-align:middle;\" /></a></span></td></tr><tr><td><a name=\"0x62dad200d17d27f5_step5\">5</a></td><td>axiom</td><td></td><td><span style=\"font-size:20px;\"> <a class=\"ProveItLink\" href=\"../../axioms.ipynb#set_equiv_def\" style=\"text-decoration: none\">&nbsp;&#x22A2;&nbsp;&nbsp;</a><a class=\"ProveItLink\" href=\"../../../__pv_it/axioms/a526f1ab8a886b46cea1848b9b6f2e135fcc6d080/expr.ipynb\"><img src=\"data:image/png;base64,iVBORw0KGgoAAAANSUhEUgAAAY4AAAAWBAMAAAAlaGbVAAAAMFBMVEX///8AAAAAAAAAAAAAAAAA\n",
       "AAAAAAAAAAAAAAAAAAAAAAAAAAAAAAAAAAAAAAAAAAAv3aB7AAAAD3RSTlMAq1RmmUTNIjK7EInv\n",
       "3XZ/CtNrAAAACXBIWXMAAA7EAAAOxAGVKw4bAAAFA0lEQVRYw9VXa2gcVRQ+u7PP2c0kQSlWqllQ\n",
       "CmK1i4ZKf9Rsqa8SW4OClLbYbUXUWnT7RyhqsoJ/1EoWoVSKbbZQxApKLIwg+eG2Ep8oq/iI0IGJ\n",
       "EaJit6nWNm3Veu45d3Z35t6dBP954OPcPXvnu/fc85g7AGGSlAiTkmKxnPJ/oCot0hYkPDW14Bbh\n",
       "Rwl8othpzkOKJTMUSqXbU1HHA1YuZG9xlwE2qR5hu04/NTrOQEnMkTKXfS34abz6cm/v42Ww8qof\n",
       "EXo6r6fSiGBXeeBG7WRj7EzvktcAZoBhk7pT/PWonv4NCZSV7EfXz2twMxG2fYqjeYCdqh8xEZFE\n",
       "SU+lEWJXeMwOOZCtAPSVIVEFgk3qeRHWiv6BdRIoa8+TmgFzO8ALnAz/YGDPAvSrfqRElPd0oNII\n",
       "sSs8sbx+9gim0bYCGAUg2KSER5kOeViTwBnPzJPG/UUei3/P8UWTgb5kq2p9iLM9pqfy5BfH8c6b\n",
       "2RWerL9YDjrf8WgA28gA+vIZEGxSBjqd6FAeRQbKsPU7aZHhp//iOo5gMiQ+RuRVP25FVdRTSXnw\n",
       "19aY2RWe5b6yfrLpZh9iFybtw0CwWX3hOJ/r/YiNM1AK0T9a9mozTc1r8GgyPaofWcc5Oa6hMhtX\n",
       "v0xxSrZXA7MrPIOId6bfnKBseboVLazLw1Oo32XYrO4BONC+vbYukvcOKZ5LXVLcHD3UWCL+Neic\n",
       "NzhCvpJ+xMqQrmqoYjDtboBAE5DsxBMjGodcEuddsK6N1f2tKHWhMS3+glUMm9VuSNJT5ic068Wz\n",
       "E+vla6wrxxDLJ89AYLdwugTRD0XO1NR4IOXudpNHdRsMVK8gP9qDxewKD7Z4o2RcjNBRtpLSwqaw\n",
       "QthWMGxW6Sq/tzJcAUYdLEmYHWJgTd6x9oISj9cRH6DLqTnNe/AA0bdKVlKV4S427BXnIdukZFd4\n",
       "JtEGMXYghenv/EDDNG4vIxrDKMNmFXX5bDZ9ydWLDW0u4IeJzeFvxQ9xhqJtxDXxgJt9Zd52JLwK\n",
       "HG17TUh2hWeSnnR5UuvV0N3DfRK2Mmw5LN5Of7vbecUcvJ0P5FUMcTLoRkrUZh/uLVpX6wMSBq5v\n",
       "/TR8d4Aqfh7eIkN7WjE78bTXh7g6wLaSSYVWb9Ulbi/yJw5uYthyeIxahyUjPjLTf5V8IO0y4AHE\n",
       "U8H6EGmaOicysaKJR2Y5rj4bqezwUZn7IjXq3WC5zekeu8JzCMM2tAwy9KPRNGNdwqiI9mqGLYfP\n",
       "kvOb4DeatQbMK7399DCSIuBjwbtnAq1bd0KzNfv9SB7HQT7tln1U0fkjtTi/dHc074geu8KDzXTl\n",
       "S/fC/bxc8129C6P6UVX25UH2QwwjtNbgRB/FD50YkffVVJ1gjp2rwg2Xn/AvEhG3tVcpRYZ0910K\n",
       "arfnvEe10b3+FrYc3sd9ucWu8LwCcKQRXccOmEs3s3WpuJ6S7VuGLYfczHD75M8JTEnv82FKIlye\n",
       "63xv39v8glCpthx0iuE8Xb7PmPj73r3EC2SdYbNqJml3zhyH5EUwv/GM/brbm/Y2qfUjWXsPCoun\n",
       "UniMQuh8cY0UsNtulLHjYN73SOoErLo0sb6ZiekSI/ybsdIxHhu3NKqLptJcuveHLrxHwg5crUXr\n",
       "C3wAVHyNWy/q7nTfgwtTabw8GrrwfglbdXhz4PewRJjMqt+1uu/zBalmNSFyQ+ZbJcapSVI+ycP/\n",
       "Vf4Fq76F4zG+p2EAAAAASUVORK5CYII=\n",
       "\" style=\"display:inline;vertical-align:middle;\" /></a></span></td></tr>\n",
       "<tr><td>&nbsp;</td><td colspan=4 style-\"text-align:left\"><a class=\"ProveItLink\" href=\"../../axioms.ipynb#set_equiv_def\">proveit.logic.sets.equivalence.set_equiv_def</a></td></tr></table>"
      ],
      "text/plain": [
       "\tstep type\trequirements\tstatement\n",
       "0\tgeneralization\t1\t|- forall_{A, B | A equiv B} [forall_{x} ((x in A) = (x in B))]\n",
       "1\tinstantiation\t2, 3, 4\t{A equiv B} |- forall_{x} ((x in A) = (x in B))\n",
       "\tP : A equiv B, Q : forall_{x} ((x in A) = (x in B))\n",
       "2\ttheorem\t\t|- forall_{P, Q | P, P = Q} Q\n",
       "\tproveit.logic.equality.rhs_via_equality\n",
       "3\tassumption\t\t{A equiv B} |- A equiv B\n",
       "4\tinstantiation\t5\t|- (A equiv B) = [forall_{x} ((x in A) = (x in B))]\n",
       "\tA : A, B : B\n",
       "5\taxiom\t\t|- forall_{A, B} ((A equiv B) = [forall_{x} ((x in A) = (x in B))])\n",
       "\tproveit.logic.sets.equivalence.set_equiv_def"
      ]
     },
     "execution_count": 6,
     "metadata": {},
     "output_type": "execute_result"
    }
   ],
   "source": [
    "%qed"
   ]
  },
  {
   "cell_type": "code",
   "execution_count": null,
   "metadata": {},
   "outputs": [],
   "source": []
  }
 ],
 "metadata": {
  "kernelspec": {
   "display_name": "Python 3",
   "language": "python",
   "name": "python3"
  }
 },
 "nbformat": 4,
 "nbformat_minor": 0
}