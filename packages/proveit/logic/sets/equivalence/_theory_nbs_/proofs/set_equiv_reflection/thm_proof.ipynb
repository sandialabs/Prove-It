{
 "cells": [
  {
   "cell_type": "markdown",
   "metadata": {},
   "source": [
    "Proof of <a class=\"ProveItLink\" href=\"../../../../../../_theory_nbs_/theory.ipynb\">proveit</a>.<a class=\"ProveItLink\" href=\"../../../../../_theory_nbs_/theory.ipynb\">logic</a>.<a class=\"ProveItLink\" href=\"../../../../_theory_nbs_/theory.ipynb\">sets</a>.<a class=\"ProveItLink\" href=\"../../theory.ipynb\">equivalence</a>.<a class=\"ProveItLink\" href=\"../../theorems.ipynb#set_equiv_reflection\">set_equiv_reflection</a> theorem\n",
    "========"
   ]
  },
  {
   "cell_type": "code",
   "execution_count": 1,
   "metadata": {},
   "outputs": [],
   "source": [
    "import proveit\n",
    "theory = proveit.Theory() # the theorem's theory"
   ]
  },
  {
   "cell_type": "code",
   "execution_count": 2,
   "metadata": {},
   "outputs": [
    {
     "data": {
      "text/html": [
       "With these <a href=\"allowed_presumptions.txt\">allowed</a>/<a href=\"disallowed_presumptions.txt\">disallowed</a> theorem/theory presumptions (e.g., to avoid circular dependencies), we begin our proof of<br><strong id=\"set_equiv_reflection\">set_equiv_reflection:</strong> <a class=\"ProveItLink\" href=\"../../../__pv_it/theorems/d8b391f5229cdf9dea420ca35fd38420d100c4ef0/expr.ipynb\"><img src=\"data:image/png;base64,iVBORw0KGgoAAAANSUhEUgAAALkAAAAXBAMAAACllfPxAAAAMFBMVEX///8AAAAAAAAAAAAAAAAA\n",
       "AAAAAAAAAAAAAAAAAAAAAAAAAAAAAAAAAAAAAAAAAAAv3aB7AAAAD3RSTlMAq1RmmUTNIjK7EInv\n",
       "3XZ/CtNrAAAACXBIWXMAAA7EAAAOxAGVKw4bAAACsUlEQVRIx61VTWgTQRT+kk2ym02NCZTgRbrg\n",
       "yZMBi+ChNsEfDBUMeCniTzyIGA+tZ7VZ8SQIlp5UxGxBerJQpbccrBVRkUpAD4JGgh5EEG1jjbFF\n",
       "45uZnbjZILFbB3bn5b1937z3fTMTwPNQu8RHsZ7xTqyR+1v8GD0xZmzxAO6f4VNokU+TCwa9q9ze\n",
       "2YzHT5uIJoG97PcpD+hTYtom0N9eei1LBZ4CvgaQBy6y7sY9oO8WU/o7e1OdUzFoKUHWLyC4DPRT\n",
       "ZxYQMTygz/F35FyDTT56EuZRIaRCLoVW6LGgEDshL7QLNceiNb4Iq7/5SIR8RFboMT0EvVCpPPOA\n",
       "HhCipvxfWy7dnnvGoW82aUmSYT9wgzstV7o7qX2wwoheQ1vtCF299TnBogq1dxYql1p/wkOXl0sZ\n",
       "kxlh+fEdU1pacWj2mm1vMEQJ6hKfK3yIPfNlFP6HjDySJmxFspy6mpCkjOhcG/r9P5oPAJ9k+zzp\n",
       "4570j47ab7IkKkkj/v1VIerwcyFJCsqiEz14pdrK6wUGneg6hX52oLNuBikSZFXmdnFf9YTIMjCd\n",
       "dKJHQ7FW3jz0F05mmDZv3OAa07mPFveXybiX5yDYx2OF9/2b4ESvBnLIXKeRpGOyPS1FCLOODtEz\n",
       "4uY9SudLqzOS2SE9z33DNqMD0Hud6EFTyGBrMpmybbbdVBYpuu/CEHmP5OWm9fFyhkp9lk1tIetA\n",
       "D5Tursg80kT9JvsvQy/WLWxtnmkH9xWX4okJTl5W+qIEagpqcdy5I6tQG5IZ0iTYkBmvuh64Cy2L\n",
       "GNxo6DNQV6C/dDATJIVr8qOChWnJDLuj/u2eo/4fQD94UpvHjtVSxnCgH4jhdt3uUBkpzU60csPd\n",
       "/ns6bl6/ww53Sda7Xdsdyx9eAzrGusQ/uB3JtaCva6j/AeM3myqmbBLrqLEAAAAASUVORK5CYII=\n",
       "\" style=\"display:inline;vertical-align:middle;\" /></a><br>(see <a class=\"ProveItLink\" href=\"../../../__pv_it/theorems/976dab1b31891063d5129b6dddb24a69d330ddc30/dependencies.ipynb\">dependencies</a>)<br>"
      ],
      "text/plain": [
       "<IPython.core.display.HTML object>"
      ]
     },
     "metadata": {},
     "output_type": "display_data"
    },
    {
     "name": "stdout",
     "output_type": "stream",
     "text": [
      "set_equiv_reflection may now be readily provable (assuming required theorems are usable).  Simply execute \"%qed\".\n"
     ]
    }
   ],
   "source": [
    "%proving set_equiv_reflection"
   ]
  },
  {
   "cell_type": "code",
   "execution_count": null,
   "metadata": {},
   "outputs": [],
   "source": []
  }
 ],
 "metadata": {
  "kernelspec": {
   "display_name": "Python 3",
   "language": "python",
   "name": "python3"
  }
 },
 "nbformat": 4,
 "nbformat_minor": 0
}