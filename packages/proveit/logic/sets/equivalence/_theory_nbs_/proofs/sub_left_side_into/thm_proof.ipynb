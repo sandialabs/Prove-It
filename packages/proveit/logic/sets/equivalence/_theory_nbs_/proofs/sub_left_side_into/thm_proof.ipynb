{
 "cells": [
  {
   "cell_type": "markdown",
   "metadata": {},
   "source": [
    "Proof of <a class=\"ProveItLink\" href=\"../../../../../../_theory_nbs_/theory.ipynb\">proveit</a>.<a class=\"ProveItLink\" href=\"../../../../../_theory_nbs_/theory.ipynb\">logic</a>.<a class=\"ProveItLink\" href=\"../../../../_theory_nbs_/theory.ipynb\">sets</a>.<a class=\"ProveItLink\" href=\"../../theory.ipynb\">equivalence</a>.<a class=\"ProveItLink\" href=\"../../theorems.ipynb#sub_left_side_into\">sub_left_side_into</a> theorem\n",
    "========"
   ]
  },
  {
   "cell_type": "code",
   "execution_count": 1,
   "metadata": {},
   "outputs": [],
   "source": [
    "import proveit\n",
    "theory = proveit.Theory() # the theorem's theory"
   ]
  },
  {
   "cell_type": "code",
   "execution_count": 2,
   "metadata": {},
   "outputs": [
    {
     "data": {
      "text/html": [
       "With these <a href=\"allowed_presumptions.txt\">allowed</a>/<a href=\"disallowed_presumptions.txt\">disallowed</a> theorem/theory presumptions (e.g., to avoid circular dependencies), we begin our proof of<br><strong id=\"sub_left_side_into\">sub_left_side_into:</strong> <a class=\"ProveItLink\" href=\"../../../__pv_it/theorems/e9eeaad6fe9e5b082136ddb58338067705edca930/expr.ipynb\"><img src=\"data:image/png;base64,iVBORw0KGgoAAAANSUhEUgAAANoAAAAXBAMAAACfRUyCAAAAMFBMVEX///8AAAAAAAAAAAAAAAAA\n",
       "AAAAAAAAAAAAAAAAAAAAAAAAAAAAAAAAAAAAAAAAAAAv3aB7AAAAD3RSTlMAq1RmmUTNIjK7EInv\n",
       "3XZ/CtNrAAAACXBIWXMAAA7EAAAOxAGVKw4bAAADQklEQVRIx7VWXUgUURT+3Jlx1lndVhAyenCh\n",
       "IIiihUwI+lnpVzZoqZfKIKMi8MX1JYik3R4DQfsB+3nYFSyQMjSEwCU0gwgj2f6gF2HQJyFUxNRc\n",
       "0M69d2b2TrgvMV64c8+d+5377T3fOXcW2OCmr2NtXJsUww1AM4EQs7d5zTG9dm/L1QwZvn7xooX6\n",
       "FHCM2dc9P9IiUDZG43Mx9a3RozSDOyyinV6T+VeJgTqOiLlakwCUKCNEIOw1W3CZep6METF/M5yi\n",
       "5xiUCB3R80CWzVEnRl+TSEdzlh3oCvB5YuKT52ybSJsOykFVJImKPXQoDAAngScuZMbtqLpmO+xQ\n",
       "2S+MddmI6dZXlhgRPj2DDkZbB7RCpyrQ0rH6zcL9Ix/uLmQbUjwowv/8wmBlAkoc/nRs8BEQtfZ9\n",
       "mXIoHBdgdmt2HxsrREZEkWSVtot2ywTiZB0E3vKVwDwflByCIxIbzQM5dAvkL6DRohgOI/CB9oxI\n",
       "LkDaWi2P80A8PFrD0r6DhDR5klTRD+KAc+N8KIlCmZPYaB6c49VJyMO8eFjT2k1sf/YU6JdceLlJ\n",
       "bK9IyByNF6k3HWJvRoEvHGBeFrgw+iISG80rQshxpPHNqZpgaYjipFb3xCUX+PMWm4gkRb2CHXo3\n",
       "9dfNLEdX0BoV8h/nuORUbTUktmRGr4JOCa2v7q0ndXxCOFNtYkGsG5ddEPxtV4LJzs+KjB16P/U2\n",
       "JqAyPrNTBJKJwtUxqmS2AzOTGWidXJ1uYtL4/aOlSCn1MbUHkovYmycB27uN7bJEjxhThOVRScha\n",
       "j2VrMpaOybjEVsmvuxBXR6ef7udsanZgxclJx0VN/zGtG4xC37vWDF96kYT9YSPLI04dJVOWjpfk\n",
       "CnjPnTu5OtqyHUkT+rLD5rhI7af8qcvZVpJuTbwAzlL6hI1+pqPxXYqkvsSHHBMQfcQUNAnFFJm3\n",
       "I1lwkVqtfE9E7KshPUTP9rD6Dsbpa/5R1OWzDWGJbTrP49sFpSU7eJ+9ThDqVAg9i3Frj4KLfGEm\n",
       "CvbNf9ZssE/Gy4BGx+p1o4o1Q/qYdbmXNPuKvFCMTXV+6gk3qmi7XfgKJdwrim1EirFhyIbG3Sjv\n",
       "/zTJV77xX3v9BUGtzrGwR7gVAAAAAElFTkSuQmCC\n",
       "\" style=\"display:inline;vertical-align:middle;\" /></a><br>(see <a class=\"ProveItLink\" href=\"../../../__pv_it/theorems/cf723c0e8f48362cbb3016ff9cf43dd8c0fb95b70/dependencies.ipynb\">dependencies</a>)<br>"
      ],
      "text/plain": [
       "<IPython.core.display.HTML object>"
      ]
     },
     "metadata": {},
     "output_type": "display_data"
    }
   ],
   "source": [
    "%proving sub_left_side_into"
   ]
  },
  {
   "cell_type": "code",
   "execution_count": null,
   "metadata": {},
   "outputs": [],
   "source": []
  }
 ],
 "metadata": {
  "kernelspec": {
   "display_name": "Python 3",
   "language": "python",
   "name": "python3"
  }
 },
 "nbformat": 4,
 "nbformat_minor": 0
}