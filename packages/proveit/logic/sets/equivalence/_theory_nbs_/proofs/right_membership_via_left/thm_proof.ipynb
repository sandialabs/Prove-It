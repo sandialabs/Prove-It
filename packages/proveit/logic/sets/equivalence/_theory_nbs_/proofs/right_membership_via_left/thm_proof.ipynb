{
 "cells": [
  {
   "cell_type": "markdown",
   "metadata": {},
   "source": [
    "Proof of <a class=\"ProveItLink\" href=\"../../../../../../_theory_nbs_/theory.ipynb\">proveit</a>.<a class=\"ProveItLink\" href=\"../../../../../_theory_nbs_/theory.ipynb\">logic</a>.<a class=\"ProveItLink\" href=\"../../../../_theory_nbs_/theory.ipynb\">sets</a>.<a class=\"ProveItLink\" href=\"../../theory.ipynb\">equivalence</a>.<a class=\"ProveItLink\" href=\"../../theorems.ipynb#right_membership_via_left\">right_membership_via_left</a> theorem\n",
    "========"
   ]
  },
  {
   "cell_type": "code",
   "execution_count": 1,
   "metadata": {},
   "outputs": [],
   "source": [
    "import proveit\n",
    "theory = proveit.Theory() # the theorem's theory"
   ]
  },
  {
   "cell_type": "code",
   "execution_count": 2,
   "metadata": {},
   "outputs": [
    {
     "data": {
      "text/html": [
       "With these <a href=\"allowed_presumptions.txt\">allowed</a>/<a href=\"disallowed_presumptions.txt\">disallowed</a> theorem/theory presumptions (e.g., to avoid circular dependencies), we begin our proof of<br><strong id=\"right_membership_via_left\">right_membership_via_left:</strong> <a class=\"ProveItLink\" href=\"../../../__pv_it/theorems/6602a883867e867e1beab4352819b578bd3755980/expr.ipynb\"><img src=\"data:image/png;base64,iVBORw0KGgoAAAANSUhEUgAAAPcAAAAXBAMAAAAl5sTiAAAAMFBMVEX///8AAAAAAAAAAAAAAAAA\n",
       "AAAAAAAAAAAAAAAAAAAAAAAAAAAAAAAAAAAAAAAAAAAv3aB7AAAAD3RSTlMAq1RmmUTNIjK7EInv\n",
       "3XZ/CtNrAAAACXBIWXMAAA7EAAAOxAGVKw4bAAADV0lEQVRIx7VWXUgUURQ+szu7szNr00ohFoQL\n",
       "SY8xlBg9lIJUSmULQUhGbUKEPq2PQun2GEktxj6s/W1gQVGwCQWxD60G/RCJDz300MCUgRRhaqJi\n",
       "UJ177+7MnbUZdcALu3Pnft8937nnnnPvAHhsqp50J0huYGIVBlxaOLYC4YsbeJpZiJD+di/iAnn4\n",
       "NAfcl/vv8N6/lZWdSVA1Kn6ADJ33Ii6StQcTDvh9h/G3AMIiQBcVv0S2J+VFPESC1uOENzlkwh+A\n",
       "wBxAHRUPZvER9bTn6D0MO+EF29s3XY/Tjh9X7UcHKrLEgh+jH/SWcLvxEXfachtw4nupJ0yj3Gv8\n",
       "aTRl3+v6O2/iFbr+KecAiwgoU1uv0MhIXeZ4RQqUbVhj4QgVbwYYpOPZsumljuIkLiZBLptkcnFl\n",
       "aOGzcRTsWXnt9lQVKRB/nIp3g0TLTXlD0ctz+RZa/XKJ/8g6DEyQiuO87jKXTO4GTKM90JDdRMUt\n",
       "ws8E+F6SbSlQcTnLzovwLMuIcVALNvEXUQi/QlsaB7JDZhCelkhXt6SL3GJ4EU7CQfbSr2NjFXWT\n",
       "kNDD0DS14DOYY21jLCMawT/Niwf6Dai9dwMgx4FMfKeZb2KzybXEAZhJeGCtfAZ/DUgKsJVDfD8d\n",
       "Ns6yWVF4rPHiajACjSBWD8U4kIkH/WhG/dp7CCYsrhV2CCzAQ/piaod+4V8NWfI4Ex+muagWY9Q3\n",
       "UVcNvLghxknE68d4kImHd2C+TQqpDiVlcVmTDVDSQgFoNaiGeR0toAPzZHdTTPwC9bYNflB4Hyib\n",
       "efFAEndZzGC7zoFMXBrBjiYbyYBmcYtwBHyLQ4UAy4EOswgQP9XFSpGKCzRDD+draNmg8b4YJy7m\n",
       "nyyZUTPB4q1Gw7AxAf7OTGbAxg2Ng9Jq1O5ib3fTrCSFOzOVVQN0J2LcvaiiWerEKMAZvtQMkBZN\n",
       "cRPkr9R+SIRyy7gfbSXYfku3n4UXeQvHcQVRJQfSEigfuLCTgM6Wwm6B1lSp8AzzcdDiFlud+wHZ\n",
       "xImLI6AcOxcahfrf+ZYoJ34kAkPzJZYFclNb26ey0JMs58oJ18+c1PLPER/Xl9fyJaM8z6TLDlrX\n",
       "a5q4Vi5+cg3iK32C9bqBk5hln8rEtdWLr2+T1l/iH08u41FtZTGlAAAAAElFTkSuQmCC\n",
       "\" style=\"display:inline;vertical-align:middle;\" /></a><br>(see <a class=\"ProveItLink\" href=\"../../../__pv_it/theorems/2cc29f5679fab0b0f4e65530d8a73434ecd26a960/dependencies.ipynb\">dependencies</a>)<br>"
      ],
      "text/plain": [
       "<IPython.core.display.HTML object>"
      ]
     },
     "metadata": {},
     "output_type": "display_data"
    },
    {
     "name": "stdout",
     "output_type": "stream",
     "text": [
      "right_membership_via_left may now be readily provable (assuming required theorems are usable).  Simply execute \"%qed\".\n"
     ]
    }
   ],
   "source": [
    "%proving right_membership_via_left"
   ]
  },
  {
   "cell_type": "code",
   "execution_count": null,
   "metadata": {},
   "outputs": [],
   "source": []
  }
 ],
 "metadata": {
  "kernelspec": {
   "display_name": "Python 3",
   "language": "python",
   "name": "python3"
  }
 },
 "nbformat": 4,
 "nbformat_minor": 0
}