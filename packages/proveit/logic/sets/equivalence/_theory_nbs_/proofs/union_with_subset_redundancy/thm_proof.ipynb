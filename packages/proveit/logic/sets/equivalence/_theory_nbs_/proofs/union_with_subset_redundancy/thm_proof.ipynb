{
 "cells": [
  {
   "cell_type": "markdown",
   "metadata": {},
   "source": [
    "Proof of <a class=\"ProveItLink\" href=\"../../../../../../_theory_nbs_/theory.ipynb\">proveit</a>.<a class=\"ProveItLink\" href=\"../../../../../_theory_nbs_/theory.ipynb\">logic</a>.<a class=\"ProveItLink\" href=\"../../../../_theory_nbs_/theory.ipynb\">sets</a>.<a class=\"ProveItLink\" href=\"../../theory.ipynb\">equivalence</a>.<a class=\"ProveItLink\" href=\"../../theorems.ipynb#union_with_subset_redundancy\">union_with_subset_redundancy</a> theorem\n",
    "========"
   ]
  },
  {
   "cell_type": "code",
   "execution_count": 1,
   "metadata": {},
   "outputs": [],
   "source": [
    "import proveit\n",
    "theory = proveit.Theory() # the theorem's theory"
   ]
  },
  {
   "cell_type": "code",
   "execution_count": 2,
   "metadata": {},
   "outputs": [
    {
     "data": {
      "text/html": [
       "With these <a href=\"allowed_presumptions.txt\">allowed</a>/<a href=\"disallowed_presumptions.txt\">disallowed</a> theorem/theory presumptions (e.g., to avoid circular dependencies), we begin our proof of<br><strong id=\"union_with_subset_redundancy\">union_with_subset_redundancy:</strong> <a class=\"ProveItLink\" href=\"../../../__pv_it/theorems/ad3943028fbda70a98e2c63dca585f4b74cabe7e0/expr.ipynb\"><img src=\"data:image/png;base64,iVBORw0KGgoAAAANSUhEUgAAAOYAAAAXBAMAAADtii40AAAAMFBMVEX///8AAAAAAAAAAAAAAAAA\n",
       "AAAAAAAAAAAAAAAAAAAAAAAAAAAAAAAAAAAAAAAAAAAv3aB7AAAAD3RSTlMAq1RmmUTNIjK7EInv\n",
       "3XZ/CtNrAAAACXBIWXMAAA7EAAAOxAGVKw4bAAADIUlEQVRIx7VVTWgTQRT+kuw2zaZNo4geu6h4\n",
       "UsxBC15qxCpClEa9FPyLiAg9aLwUxGJX9OCh0IKKxINNVQpFqakHq/TQeBCkUslFKZTKoidBtFas\n",
       "pQrrvJnZZLM2aVbogy/zMt+b/d7MezsL/J8FJarx3oiV7aPEstYFqGYFjogoOZu8SvpzAvC3jQeS\n",
       "bvYCwyfhDk7p7FcmsDmR20nEPvpzzqvmkATuQRtgQ4h8LS4TsthPXZb7H67NQG4MIRPDc0RcpTPu\n",
       "96q5V0JhMi1sbOSlEo+G0pwGAjyBSAxDUdSLZNrYbIoIyiese9XMSzQZwEm35tgEm8UkuT6G9caJ\n",
       "NJ9fFNWcRCDGzsFzOVMCOMVW33BpBs1vtIcz5Idpr9Yr0T0/gHqDE1Ozs2+8aio5ATz5bfAJp6aC\n",
       "7SwTjBajNTlYz/nIiAPAXefzRO0RL19QbnUxAQQsa4Nb8wj6KJ2Wf1bttr6nBXFRxB772spT1l6L\n",
       "ALutHrPZcCaTSZdCmIQuAIwM/HFrxtFDzla+51lugtA+W3lBhLJh9oL5TfRxIjxfrjmhQ7stimiH\n",
       "AA1JAbL2ZLlm5FZbMy3uW64mPwXhN6mFGkSPAR1vyzTVXhMh0XbFkJJmgEqq25r1XHOEdXOBjcfd\n",
       "gqwW2rwkUq3U9DF5E5qnyzQjdVFcFm4xpHS2g8zvoQbgaQVM2QiNdITbXJIayyi4JImnnbyhbwoN\n",
       "7C/TNJUUNkp5GSJuFA5anuDHQeFdpK5Se80xZ5ernv6C7HUiuvmR3G/nQwe+ODVVI5LHUakkQ6jo\n",
       "UYFDOT4w26LjwTQ53ZTSLzsXZy1n5PtDhM/gb4g6xyfGm7MOTWV8dImfoCOEKlcQiB/es1Z+op69\n",
       "P08Lh61O+AcW2H7euTXVdWt4q9uEqotLN8LqYzg0TQQX5dVoh3CblqjyAS2sRChR+NKPQMfYpJc0\n",
       "qTis1RKGHWIv3CFR5aqKrUQo1xNj6NWVl9Daz5Y0D0bxcCEJ9QW7E3hIsYnSsF+hCnapRsL5ean+\n",
       "edP6BSrbndoINVuzJq5IVLJIujYigOU1fRlx3666raLGX0MA0IrADlLlAAAAAElFTkSuQmCC\n",
       "\" style=\"display:inline;vertical-align:middle;\" /></a><br>(see <a class=\"ProveItLink\" href=\"../../../__pv_it/theorems/4a81748c99663101d5b2217b324ca088eaa70e380/dependencies.ipynb\">dependencies</a>)<br>"
      ],
      "text/plain": [
       "<IPython.core.display.HTML object>"
      ]
     },
     "metadata": {},
     "output_type": "display_data"
    }
   ],
   "source": [
    "%proving union_with_subset_redundancy"
   ]
  },
  {
   "cell_type": "code",
   "execution_count": null,
   "metadata": {},
   "outputs": [],
   "source": []
  }
 ],
 "metadata": {
  "kernelspec": {
   "display_name": "Python 3",
   "language": "python",
   "name": "python3"
  }
 },
 "nbformat": 4,
 "nbformat_minor": 0
}