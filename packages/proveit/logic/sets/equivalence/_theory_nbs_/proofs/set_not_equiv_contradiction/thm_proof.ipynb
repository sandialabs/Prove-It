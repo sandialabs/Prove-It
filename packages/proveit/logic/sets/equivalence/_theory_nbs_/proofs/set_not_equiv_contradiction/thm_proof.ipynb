{
 "cells": [
  {
   "cell_type": "markdown",
   "metadata": {},
   "source": [
    "Proof of <a class=\"ProveItLink\" href=\"../../../../../../_theory_nbs_/theory.ipynb\">proveit</a>.<a class=\"ProveItLink\" href=\"../../../../../_theory_nbs_/theory.ipynb\">logic</a>.<a class=\"ProveItLink\" href=\"../../../../_theory_nbs_/theory.ipynb\">sets</a>.<a class=\"ProveItLink\" href=\"../../theory.ipynb\">equivalence</a>.<a class=\"ProveItLink\" href=\"../../theorems.ipynb#set_not_equiv_contradiction\">set_not_equiv_contradiction</a> theorem\n",
    "========"
   ]
  },
  {
   "cell_type": "code",
   "execution_count": 1,
   "metadata": {},
   "outputs": [],
   "source": [
    "import proveit\n",
    "from proveit import defaults\n",
    "theory = proveit.Theory() # the theorem's theory"
   ]
  },
  {
   "cell_type": "code",
   "execution_count": 2,
   "metadata": {},
   "outputs": [
    {
     "data": {
      "text/html": [
       "With these <a href=\"allowed_presumptions.txt\">allowed</a>/<a href=\"disallowed_presumptions.txt\">disallowed</a> theorem/theory presumptions (e.g., to avoid circular dependencies), we begin our proof of<br><strong id=\"set_not_equiv_contradiction\">set_not_equiv_contradiction:</strong> <a class=\"ProveItLink\" href=\"../../../__pv_it/theorems/6195fd35f19f0d1c258ccbd9b632ba7ccbca40060/expr.ipynb\"><img src=\"data:image/png;base64,iVBORw0KGgoAAAANSUhEUgAAAKYAAAAYBAMAAACCZptBAAAAMFBMVEX///8AAAAAAAAAAAAAAAAA\n",
       "AAAAAAAAAAAAAAAAAAAAAAAAAAAAAAAAAAAAAAAAAAAv3aB7AAAAD3RSTlMAq1RmmUTNIjK7EInv\n",
       "3XZ/CtNrAAAACXBIWXMAAA7EAAAOxAGVKw4bAAACBUlEQVQ4y2NgoAEQABHKVDMuGES4goh0qpmp\n",
       "ByIagZh9AnXNZFvAwMCtQF0zmQ2A5jJQ10yGs3fvnqa2mR4MDLOobWYhA7sAtc3kXMAdAGYsQJVl\n",
       "gTG4sGrmwmcm0wNIFHGdAFOdX3Z7NoDtgilb0wBjccz33jIDVdQdVRRqJkOCHZji/gSmmC8w8B1A\n",
       "MXO/AgP3MWBqAyYQWwaGNwhRxrMPOBxQRWFmbsoCUxHnwBSjAwPzB2QzWXseMKgsnc3AsIGBQYSB\n",
       "wR4h6rzqmWUziijczBpIFD1IBFM8CgxrDZDN5GMTYHBgYJFYAgz1QwxclxGiBgxcc74wIIvCzWQE\n",
       "hwwfgxuYV//YRIIB2cwHLAkgb5sBvcH+z9ixASEKCjcGZFHfu3fP3L17ER5hEdAwsWXgEkE2k7UB\n",
       "GLwsM4FgMiisFzogRIFxEACJAagoOvDeLQ9OTEAD6wOQzGTZvfEXTA0wrNm/IkR3zpw/c+YDJFE0\n",
       "wAc0CuyBQwwM8chp6QED+w+YImBYs/5AFhVHFcUsS/kVuDYwsP9i4LqC5HdWYFB+gvm9fgHDWgcG\n",
       "oCqIKAPrBnAMgEUxActBBi7/VI5DDGa/d3sqIJnpI8Cw5BsknzEw5+/eMgmYxg9BRXfOAdr0ACqK\n",
       "EzAhsTkJqzImpgSIIspMuKoEYsw0IMpMmCpWkqsHdrLLOwCS2Iz6DdFUzwAAAABJRU5ErkJggg==\n",
       "\" style=\"display:inline;vertical-align:middle;\" /></a><br>(see <a class=\"ProveItLink\" href=\"../../../__pv_it/theorems/80dd9758a7cde0965253f54a74e7953b94bf25150/dependencies.ipynb\">dependencies</a>)<br>"
      ],
      "text/plain": [
       "<IPython.core.display.HTML object>"
      ]
     },
     "metadata": {},
     "output_type": "display_data"
    }
   ],
   "source": [
    "%proving set_not_equiv_contradiction"
   ]
  },
  {
   "cell_type": "code",
   "execution_count": 3,
   "metadata": {},
   "outputs": [
    {
     "data": {
      "text/html": [
       "<strong id=\"defaults.assumptions\">defaults.assumptions:</strong> <a class=\"ProveItLink\" href=\"../../../__pv_it/theorems/43bcf3052aa5e3d4bea9d8c28b02e0e008d0e9f60/expr.ipynb\"><img src=\"data:image/png;base64,iVBORw0KGgoAAAANSUhEUgAAAI0AAAAVBAMAAACJRXC4AAAAMFBMVEX///8AAAAAAAAAAAAAAAAA\n",
       "AAAAAAAAAAAAAAAAAAAAAAAAAAAAAAAAAAAAAAAAAAAv3aB7AAAAD3RSTlMAInZUiRDNmWbv3US7\n",
       "qzJazP2FAAAACXBIWXMAAA7EAAAOxAGVKw4bAAACNklEQVQ4y6VUQWgTQRR93U2abdKkRUTQS6Mn\n",
       "D9rkIAWh0HjzIi49RwhioQG1OQiVQmFvggebk4fWQ6WnVpRiLyKFRi/iJYkXQTCkN6EIaVWC1rbx\n",
       "z5+daXaC7KEDu3/+7Jv33/9/dgAM46SDGawsz8+EovsK//vyWryuyPkMv6NfVgQ1z53aYeNz9Rjd\n",
       "v9vFiW6I5dFOGcXusImPPs4BSYkaqADNbb13ootHqfchU0DM44VYk5O8iOg94JsEjaSBrZLeO7/H\n",
       "JjFzG6haAcgjYpQL125y4DqJuZ94LtcWaGkhrWgip4/Y7jwZX7JL+QBkwMWYzDed4XJTUsj8WZeg\n",
       "Jj1F3c1T1k+2n4C3HzdeBCD9Hh7ItDDh6QRc3z4Dbr3SqyX7N1shsNjOBiCROqbZ30ArZ3YzdXDh\n",
       "8rT2EtnUr54ToCBOASsyGEbqws6tifGS1yyq61WtMoa+QzVP+olriF3GEvsfZpsVU89gmQQfKe/S\n",
       "7PyBmm+akNSu5JkEhpZNniFS6PzwnSiVZR++5H0lWUESZZkXHZJ42eRpkeDkX50WsOrPnZwJsZfx\n",
       "XtTQU6e+uz4Zanmr4Lfvjf51KKQOpSBOBTfIPStS3TP1FCnAUxfRtuiQUFvzz9J1E4JYDjtAvjMF\n",
       "u9Y2Gv+102jcFcdkjbhqbRfjnTsseXVRSdaQ+Dri22H3he0Gfd3143GOUiuF8UQM/3sv5CE978J4\n",
       "Jg2/2nvDibOXD+NJG35vIQaH+Vc/8f18HvgHQt6lJIjzTf0AAAAASUVORK5CYII=\n",
       "\" style=\"display:inline;vertical-align:middle;\" /></a><br>"
      ],
      "text/plain": [
       "<IPython.core.display.HTML object>"
      ]
     },
     "metadata": {},
     "output_type": "display_data"
    }
   ],
   "source": [
    "defaults.assumptions = set_not_equiv_contradiction.all_conditions()"
   ]
  },
  {
   "cell_type": "code",
   "execution_count": 4,
   "metadata": {},
   "outputs": [
    {
     "data": {
      "text/html": [
       "<strong id=\"A_not_equiv_B\">A_not_equiv_B:</strong> <a class=\"ProveItLink\" href=\"../../../__pv_it/theorems/507335659fc5cf492f13d010dccee785d847de1f0/expr.ipynb\"><img src=\"data:image/png;base64,iVBORw0KGgoAAAANSUhEUgAAADsAAAATBAMAAADc9GjbAAAAMFBMVEX///8AAAAAAAAAAAAAAAAA\n",
       "AAAAAAAAAAAAAAAAAAAAAAAAAAAAAAAAAAAAAAAAAAAv3aB7AAAAD3RSTlMAIs1UmauJMnZmRLsQ\n",
       "3e++988cAAAACXBIWXMAAA7EAAAOxAGVKw4bAAABHklEQVQoz2NgAAEhBrxAH8FkhFCc+7+GBm2H\n",
       "sJn/I6RhBvFtYGCILwAzWeIFQBSXvgYDw3YOiLR8AwPDegcwMzEfrKx2uvUrZofTEOn5QKH5DWDr\n",
       "GvoNQHQgA8PafYtvQaTjgVgPbCgLg/0EEA1Sq/fJACL9moHh6HUwazFDfQLM3QpQBvvvjlZNCNOB\n",
       "QT4AKsq6AMrg+MjAYAc2k2OLS/wGqOhqmP+4HzAwsH0HsU4wMPBfADF87979e/fuVbA0P9A8zh8Q\n",
       "sxl4H0DDCuYGhnqgway/QIEBZDB9gAjywgOvH+inepA75UA2fYQIZsKl9YD6Hh1gYDj9X4eBef8n\n",
       "kKm+997ehdod/T80VNsALeLg3sIOqvFH+3b80gUYIgAmy0ZTyExn/wAAAABJRU5ErkJggg==\n",
       "\" style=\"display:inline;vertical-align:middle;\" /></a><br>"
      ],
      "text/plain": [
       "<IPython.core.display.HTML object>"
      ]
     },
     "metadata": {},
     "output_type": "display_data"
    }
   ],
   "source": [
    "A_not_equiv_B = defaults.assumptions[1]"
   ]
  },
  {
   "cell_type": "code",
   "execution_count": 5,
   "metadata": {},
   "outputs": [
    {
     "data": {
      "text/html": [
       "<strong id=\"not_A_equiv_B\">not_A_equiv_B:</strong> <span style=\"font-size:20px;\"><a class=\"ProveItLink\" href=\"../../../__pv_it/theorems/507335659fc5cf492f13d010dccee785d847de1f0/expr.ipynb\"><img src=\"data:image/png;base64,iVBORw0KGgoAAAANSUhEUgAAADsAAAATBAMAAADc9GjbAAAAMFBMVEX///8AAAAAAAAAAAAAAAAA\n",
       "AAAAAAAAAAAAAAAAAAAAAAAAAAAAAAAAAAAAAAAAAAAv3aB7AAAAD3RSTlMAIs1UmauJMnZmRLsQ\n",
       "3e++988cAAAACXBIWXMAAA7EAAAOxAGVKw4bAAABHklEQVQoz2NgAAEhBrxAH8FkhFCc+7+GBm2H\n",
       "sJn/I6RhBvFtYGCILwAzWeIFQBSXvgYDw3YOiLR8AwPDegcwMzEfrKx2uvUrZofTEOn5QKH5DWDr\n",
       "GvoNQHQgA8PafYtvQaTjgVgPbCgLg/0EEA1Sq/fJACL9moHh6HUwazFDfQLM3QpQBvvvjlZNCNOB\n",
       "QT4AKsq6AMrg+MjAYAc2k2OLS/wGqOhqmP+4HzAwsH0HsU4wMPBfADF87979e/fuVbA0P9A8zh8Q\n",
       "sxl4H0DDCuYGhnqgway/QIEBZDB9gAjywgOvH+inepA75UA2fYQIZsKl9YD6Hh1gYDj9X4eBef8n\n",
       "kKm+997ehdod/T80VNsALeLg3sIOqvFH+3b80gUYIgAmy0ZTyExn/wAAAABJRU5ErkJggg==\n",
       "\" style=\"display:inline;vertical-align:middle;\" /></a> <a class=\"ProveItLink\" href=\"../../../__pv_it/_proof_set_not_equiv_contradiction/1f2ad123ed406d289178db6e376a9e11fbb3b4050/proof.ipynb\" style=\"text-decoration: none\">&nbsp;&#x22A2;&nbsp;&nbsp;</a><a class=\"ProveItLink\" href=\"../../../__pv_it/theorems/61729b1b3f67b90588d844f61e340ec281d6e0dc0/expr.ipynb\"><img src=\"data:image/png;base64,iVBORw0KGgoAAAANSUhEUgAAAFoAAAAVBAMAAAA0iOSIAAAAMFBMVEX///8AAAAAAAAAAAAAAAAA\n",
       "AAAAAAAAAAAAAAAAAAAAAAAAAAAAAAAAAAAAAAAAAAAv3aB7AAAAD3RSTlMAmd0iq3ZUiRDNZu9E\n",
       "uzLWhN+VAAAACXBIWXMAAA7EAAAOxAGVKw4bAAABeUlEQVQoz2NgQAADBryAGYXHmgCmLHGp5glA\n",
       "5qVDqPkQqmUTSDNEwdr/Li5zHzBEISnmmACm2P5DuKqv1IGkA4Szl4GB5R8DZwNCNeMCCOUPdj7r\n",
       "AoZOBwY+AYiLvwLd8ZGBSwChmhtCFdc/AFEsQOz54BDE41z/gBioYwdCdSbEmIB4sGfZQeb/3wOR\n",
       "YvnAwMC5mYFhFkK1OMQhDPkLEF6BWXuBgcMJaGUJQjVE4zGG9wUYYff+aqgnyIyVDEJKQKAIZKqB\n",
       "JQQY7MHhwKgEBpAwiTdgYNsFpLMhmk2AGOxG1ouC/hcwzL4NxCDPv0dT3crAwK+AofoLEK8HRtRp\n",
       "hGo1iEMYmDagK+b7BST8DzAwJEH4hkB8FZQUgH7h/IDubtbPQB0/QSkAYQIoeKyBmPczutmcQNtO\n",
       "z4AHMhg8YmDo/T+Dge3+T7QgZLn/xcXzGoilgxBkesBAADAj+R85zWAHjAuQOJcJqbZF5vQSUo1i\n",
       "HHMAfsWsBgwA6E9SmsnrJU0AAAAASUVORK5CYII=\n",
       "\" style=\"display:inline;vertical-align:middle;\" /></a></span><br>"
      ],
      "text/plain": [
       "<IPython.core.display.HTML object>"
      ]
     },
     "metadata": {},
     "output_type": "display_data"
    },
    {
     "name": "stdout",
     "output_type": "stream",
     "text": [
      "set_not_equiv_contradiction may now be readily provable (assuming required theorems are usable).  Simply execute \"%qed\".\n"
     ]
    }
   ],
   "source": [
    "not_A_equiv_B = A_not_equiv_B.unfold()"
   ]
  },
  {
   "cell_type": "code",
   "execution_count": 6,
   "metadata": {},
   "outputs": [
    {
     "data": {
      "text/html": [
       "<span style=\"font-size:20px;\"><a class=\"ProveItLink\" href=\"../../../__pv_it/theorems/2ee8dc2018014830ed832e2e3d65a4df89f102480/expr.ipynb\"><img src=\"data:image/png;base64,iVBORw0KGgoAAAANSUhEUgAAADsAAAAPBAMAAACo4Ko7AAAAMFBMVEX///8AAAAAAAAAAAAAAAAA\n",
       "AAAAAAAAAAAAAAAAAAAAAAAAAAAAAAAAAAAAAAAAAAAv3aB7AAAAD3RSTlMAIs1UmauJMnZmRLsQ\n",
       "3e++988cAAAACXBIWXMAAA7EAAAOxAGVKw4bAAAA+UlEQVQY02NgAAEhBrxAH0zyxF0GkhxgNuf+\n",
       "r6FB2yGyzP/BFG/73AQGBlaIGN8GBob4AjCTJV4ARHUy8KgyMJRApOUbGBjWO4CZiflgZQFArepc\n",
       "FyHS84FC8xtALMaGfgMQDTSZof/fAoh0PBDrgQ1lYbCfAHflASj9moHh6HUwazFDfQK6X9h/d7Rq\n",
       "QpgODPIBINr3LghcBYtxfGRgsAObybHFJX4Dum7uBwwMbN9BrBMMDPwX0KX5geZx/oCYzcD7AF26\n",
       "Hmgw6y8ggwvIYPqAbnc/0E/1CkCGHMimj+i69YD6HgE9efq/DgPz/k9oPov+HxqqDQwrAPAyQLUO\n",
       "1tWZAAAAAElFTkSuQmCC\n",
       "\" style=\"display:inline;vertical-align:middle;\" /></a>, <a class=\"ProveItLink\" href=\"../../../__pv_it/theorems/507335659fc5cf492f13d010dccee785d847de1f0/expr.ipynb\"><img src=\"data:image/png;base64,iVBORw0KGgoAAAANSUhEUgAAADsAAAATBAMAAADc9GjbAAAAMFBMVEX///8AAAAAAAAAAAAAAAAA\n",
       "AAAAAAAAAAAAAAAAAAAAAAAAAAAAAAAAAAAAAAAAAAAv3aB7AAAAD3RSTlMAIs1UmauJMnZmRLsQ\n",
       "3e++988cAAAACXBIWXMAAA7EAAAOxAGVKw4bAAABHklEQVQoz2NgAAEhBrxAH8FkhFCc+7+GBm2H\n",
       "sJn/I6RhBvFtYGCILwAzWeIFQBSXvgYDw3YOiLR8AwPDegcwMzEfrKx2uvUrZofTEOn5QKH5DWDr\n",
       "GvoNQHQgA8PafYtvQaTjgVgPbCgLg/0EEA1Sq/fJACL9moHh6HUwazFDfQLM3QpQBvvvjlZNCNOB\n",
       "QT4AKsq6AMrg+MjAYAc2k2OLS/wGqOhqmP+4HzAwsH0HsU4wMPBfADF87979e/fuVbA0P9A8zh8Q\n",
       "sxl4H0DDCuYGhnqgway/QIEBZDB9gAjywgOvH+inepA75UA2fYQIZsKl9YD6Hh1gYDj9X4eBef8n\n",
       "kKm+997ehdod/T80VNsALeLg3sIOqvFH+3b80gUYIgAmy0ZTyExn/wAAAABJRU5ErkJggg==\n",
       "\" style=\"display:inline;vertical-align:middle;\" /></a> <a class=\"ProveItLink\" href=\"../../../__pv_it/_proof_set_not_equiv_contradiction/9d5cb1ee20e2dc70bf5c5a45d20a0b85af17647a0/proof.ipynb\" style=\"text-decoration: none\">&nbsp;&#x22A2;&nbsp;&nbsp;</a><a class=\"ProveItLink\" href=\"../../../../../booleans/__pv_it/common/e0f123f2e4f322e1eba7f861749cda9fd9d99a120/expr.ipynb\"><img src=\"data:image/png;base64,iVBORw0KGgoAAAANSUhEUgAAAA4AAAAPBAMAAAAmOuNHAAAAHlBMVEX///8AAAAAAAAAAAAAAAAA\n",
       "AAAAAAAAAAAAAAAAAACGjDitAAAACXRSTlMARGZUdpnd76sKo+zpAAAACXBIWXMAAA7EAAAOxAGV\n",
       "Kw4bAAAAGElEQVQI12NgQAAhKG1CSzosLa08LS0DAJuOBVCdynDUAAAAAElFTkSuQmCC\n",
       "\" style=\"display:inline;vertical-align:middle;\" /></a></span>"
      ],
      "text/plain": [
       "{A equiv B, A not_equiv B} |- FALSE"
      ]
     },
     "metadata": {},
     "output_type": "display_data"
    }
   ],
   "source": [
    "not_A_equiv_B.derive_contradiction()"
   ]
  },
  {
   "cell_type": "code",
   "execution_count": 7,
   "metadata": {},
   "outputs": [
    {
     "name": "stdout",
     "output_type": "stream",
     "text": [
      "proveit.logic.sets.equivalence.set_not_equiv_contradiction has been proven.\n"
     ]
    },
    {
     "data": {
      "text/html": [
       "<table><tr><th>&nbsp;</th><th>step type</th><th>requirements</th><th>statement</th></tr>\n",
       "<tr><td><a name=\"-0x7b0bacf9e72990cf_step0\">0</a></td><td>generalization</td><td><a href=\"#-0x7b0bacf9e72990cf_step1\">1</a></td><td><span style=\"font-size:20px;\"> <a class=\"ProveItLink\" href=\"../../../__pv_it/_proof_set_not_equiv_contradiction/c667aa9c3f90f89f29e6bb51dc6b358de17c696e0/proof.ipynb\" style=\"text-decoration: none\">&nbsp;&#x22A2;&nbsp;&nbsp;</a><a class=\"ProveItLink\" href=\"../../../__pv_it/theorems/6195fd35f19f0d1c258ccbd9b632ba7ccbca40060/expr.ipynb\"><img src=\"data:image/png;base64,iVBORw0KGgoAAAANSUhEUgAAAKYAAAAYBAMAAACCZptBAAAAMFBMVEX///8AAAAAAAAAAAAAAAAA\n",
       "AAAAAAAAAAAAAAAAAAAAAAAAAAAAAAAAAAAAAAAAAAAv3aB7AAAAD3RSTlMAq1RmmUTNIjK7EInv\n",
       "3XZ/CtNrAAAACXBIWXMAAA7EAAAOxAGVKw4bAAACBUlEQVQ4y2NgoAEQABHKVDMuGES4goh0qpmp\n",
       "ByIagZh9AnXNZFvAwMCtQF0zmQ2A5jJQ10yGs3fvnqa2mR4MDLOobWYhA7sAtc3kXMAdAGYsQJVl\n",
       "gTG4sGrmwmcm0wNIFHGdAFOdX3Z7NoDtgilb0wBjccz33jIDVdQdVRRqJkOCHZji/gSmmC8w8B1A\n",
       "MXO/AgP3MWBqAyYQWwaGNwhRxrMPOBxQRWFmbsoCUxHnwBSjAwPzB2QzWXseMKgsnc3AsIGBQYSB\n",
       "wR4h6rzqmWUziijczBpIFD1IBFM8CgxrDZDN5GMTYHBgYJFYAgz1QwxclxGiBgxcc74wIIvCzWQE\n",
       "hwwfgxuYV//YRIIB2cwHLAkgb5sBvcH+z9ixASEKCjcGZFHfu3fP3L17ER5hEdAwsWXgEkE2k7UB\n",
       "GLwsM4FgMiisFzogRIFxEACJAagoOvDeLQ9OTEAD6wOQzGTZvfEXTA0wrNm/IkR3zpw/c+YDJFE0\n",
       "wAc0CuyBQwwM8chp6QED+w+YImBYs/5AFhVHFcUsS/kVuDYwsP9i4LqC5HdWYFB+gvm9fgHDWgcG\n",
       "oCqIKAPrBnAMgEUxActBBi7/VI5DDGa/d3sqIJnpI8Cw5BsknzEw5+/eMgmYxg9BRXfOAdr0ACqK\n",
       "EzAhsTkJqzImpgSIIspMuKoEYsw0IMpMmCpWkqsHdrLLOwCS2Iz6DdFUzwAAAABJRU5ErkJggg==\n",
       "\" style=\"display:inline;vertical-align:middle;\" /></a></span></td></tr>\n",
       "<tr><td><a name=\"-0x7b0bacf9e72990cf_step1\">1</a></td><td>instantiation</td><td><a href=\"#-0x7b0bacf9e72990cf_step2\">2</a>, <a href=\"#-0x7b0bacf9e72990cf_step3\">3</a>, <a href=\"#-0x7b0bacf9e72990cf_step4\">4</a></td><td><span style=\"font-size:20px;\"><a class=\"ProveItLink\" href=\"../../../__pv_it/theorems/2ee8dc2018014830ed832e2e3d65a4df89f102480/expr.ipynb\"><img src=\"data:image/png;base64,iVBORw0KGgoAAAANSUhEUgAAADsAAAAPBAMAAACo4Ko7AAAAMFBMVEX///8AAAAAAAAAAAAAAAAA\n",
       "AAAAAAAAAAAAAAAAAAAAAAAAAAAAAAAAAAAAAAAAAAAv3aB7AAAAD3RSTlMAIs1UmauJMnZmRLsQ\n",
       "3e++988cAAAACXBIWXMAAA7EAAAOxAGVKw4bAAAA+UlEQVQY02NgAAEhBrxAH0zyxF0GkhxgNuf+\n",
       "r6FB2yGyzP/BFG/73AQGBlaIGN8GBob4AjCTJV4ARHUy8KgyMJRApOUbGBjWO4CZiflgZQFArepc\n",
       "FyHS84FC8xtALMaGfgMQDTSZof/fAoh0PBDrgQ1lYbCfAHflASj9moHh6HUwazFDfQK6X9h/d7Rq\n",
       "QpgODPIBINr3LghcBYtxfGRgsAObybHFJX4Dum7uBwwMbN9BrBMMDPwX0KX5geZx/oCYzcD7AF26\n",
       "Hmgw6y8ggwvIYPqAbnc/0E/1CkCGHMimj+i69YD6HgE9efq/DgPz/k9oPov+HxqqDQwrAPAyQLUO\n",
       "1tWZAAAAAElFTkSuQmCC\n",
       "\" style=\"display:inline;vertical-align:middle;\" /></a>, <a class=\"ProveItLink\" href=\"../../../__pv_it/theorems/507335659fc5cf492f13d010dccee785d847de1f0/expr.ipynb\"><img src=\"data:image/png;base64,iVBORw0KGgoAAAANSUhEUgAAADsAAAATBAMAAADc9GjbAAAAMFBMVEX///8AAAAAAAAAAAAAAAAA\n",
       "AAAAAAAAAAAAAAAAAAAAAAAAAAAAAAAAAAAAAAAAAAAv3aB7AAAAD3RSTlMAIs1UmauJMnZmRLsQ\n",
       "3e++988cAAAACXBIWXMAAA7EAAAOxAGVKw4bAAABHklEQVQoz2NgAAEhBrxAH8FkhFCc+7+GBm2H\n",
       "sJn/I6RhBvFtYGCILwAzWeIFQBSXvgYDw3YOiLR8AwPDegcwMzEfrKx2uvUrZofTEOn5QKH5DWDr\n",
       "GvoNQHQgA8PafYtvQaTjgVgPbCgLg/0EEA1Sq/fJACL9moHh6HUwazFDfQLM3QpQBvvvjlZNCNOB\n",
       "QT4AKsq6AMrg+MjAYAc2k2OLS/wGqOhqmP+4HzAwsH0HsU4wMPBfADF87979e/fuVbA0P9A8zh8Q\n",
       "sxl4H0DDCuYGhnqgway/QIEBZDB9gAjywgOvH+inepA75UA2fYQIZsKl9YD6Hh1gYDj9X4eBef8n\n",
       "kKm+997ehdod/T80VNsALeLg3sIOqvFH+3b80gUYIgAmy0ZTyExn/wAAAABJRU5ErkJggg==\n",
       "\" style=\"display:inline;vertical-align:middle;\" /></a> <a class=\"ProveItLink\" href=\"../../../__pv_it/_proof_set_not_equiv_contradiction/9d5cb1ee20e2dc70bf5c5a45d20a0b85af17647a0/proof.ipynb\" style=\"text-decoration: none\">&nbsp;&#x22A2;&nbsp;&nbsp;</a><a class=\"ProveItLink\" href=\"../../../../../booleans/__pv_it/common/e0f123f2e4f322e1eba7f861749cda9fd9d99a120/expr.ipynb\"><img src=\"data:image/png;base64,iVBORw0KGgoAAAANSUhEUgAAAA4AAAAPBAMAAAAmOuNHAAAAHlBMVEX///8AAAAAAAAAAAAAAAAA\n",
       "AAAAAAAAAAAAAAAAAACGjDitAAAACXRSTlMARGZUdpnd76sKo+zpAAAACXBIWXMAAA7EAAAOxAGV\n",
       "Kw4bAAAAGElEQVQI12NgQAAhKG1CSzosLa08LS0DAJuOBVCdynDUAAAAAElFTkSuQmCC\n",
       "\" style=\"display:inline;vertical-align:middle;\" /></a></span></td></tr>\n",
       "<tr><td>&nbsp;</td><td colspan=4 style=\"text-align:left\"><span style=\"font-size:20px;\"><a class=\"ProveItLink\" href=\"../../../../../../__pv_it/common/09585084922504426caf1db2ff588a23a0932a960/expr.ipynb\"><img src=\"data:image/png;base64,iVBORw0KGgoAAAANSUhEUgAAAA8AAAAPBAMAAADJ+Ih5AAAAMFBMVEX///8AAAAAAAAAAAAAAAAA\n",
       "AAAAAAAAAAAAAAAAAAAAAAAAAAAAAAAAAAAAAAAAAAAv3aB7AAAAD3RSTlMAIs1UmauJMnZmRLsQ\n",
       "3e++988cAAAACXBIWXMAAA7EAAAOxAGVKw4bAAAAXklEQVQI12NgAAEhBijQh9LM/6EMlngBCCMx\n",
       "vwBMMzb0G0BkGOwngBmLGeoTwAwHBvkAEM2xxSV+A4hxgoGB/wJEhoH3AZDmAupg+gBkyAEx90cG\n",
       "htP/dRiY939KAABt3hLO6mcEjQAAAABJRU5ErkJggg==\n",
       "\" style=\"display:inline;vertical-align:middle;\" /></a> : <a class=\"ProveItLink\" href=\"../../../__pv_it/theorems/2ee8dc2018014830ed832e2e3d65a4df89f102480/expr.ipynb\"><img src=\"data:image/png;base64,iVBORw0KGgoAAAANSUhEUgAAADsAAAAPBAMAAACo4Ko7AAAAMFBMVEX///8AAAAAAAAAAAAAAAAA\n",
       "AAAAAAAAAAAAAAAAAAAAAAAAAAAAAAAAAAAAAAAAAAAv3aB7AAAAD3RSTlMAIs1UmauJMnZmRLsQ\n",
       "3e++988cAAAACXBIWXMAAA7EAAAOxAGVKw4bAAAA+UlEQVQY02NgAAEhBrxAH0zyxF0GkhxgNuf+\n",
       "r6FB2yGyzP/BFG/73AQGBlaIGN8GBob4AjCTJV4ARHUy8KgyMJRApOUbGBjWO4CZiflgZQFArepc\n",
       "FyHS84FC8xtALMaGfgMQDTSZof/fAoh0PBDrgQ1lYbCfAHflASj9moHh6HUwazFDfQK6X9h/d7Rq\n",
       "QpgODPIBINr3LghcBYtxfGRgsAObybHFJX4Dum7uBwwMbN9BrBMMDPwX0KX5geZx/oCYzcD7AF26\n",
       "Hmgw6y8ggwvIYPqAbnc/0E/1CkCGHMimj+i69YD6HgE9efq/DgPz/k9oPov+HxqqDQwrAPAyQLUO\n",
       "1tWZAAAAAElFTkSuQmCC\n",
       "\" style=\"display:inline;vertical-align:middle;\" /></a></span></td></tr><tr><td><a name=\"-0x7b0bacf9e72990cf_step2\">2</a></td><td>theorem</td><td></td><td><span style=\"font-size:20px;\"> <a class=\"ProveItLink\" href=\"../../../../../booleans/negation/_theory_nbs_/proofs/negation_contradiction/thm_proof.ipynb\" style=\"text-decoration: none\">&nbsp;&#x22A2;&nbsp;&nbsp;</a><a class=\"ProveItLink\" href=\"../../../../../booleans/negation/__pv_it/theorems/27dc228341cf78472ea9e06dffca1323233a47f10/expr.ipynb\"><img src=\"data:image/png;base64,iVBORw0KGgoAAAANSUhEUgAAAGsAAAAWBAMAAAA1LX8gAAAAMFBMVEX///8AAAAAAAAAAAAAAAAA\n",
       "AAAAAAAAAAAAAAAAAAAAAAAAAAAAAAAAAAAAAAAAAAAv3aB7AAAAD3RSTlMAq1RmmUTNIjK7EInv\n",
       "3XZ/CtNrAAAACXBIWXMAAA7EAAAOxAGVKw4bAAABK0lEQVQ4y2NgIA8IgAhlEjSwGoBIVxCRToI2\n",
       "pgcgshGI2SeQrI1tAQMDtwLJ2piBTmVjIFkbw9m7d0+Toc2DgWEWmLEATLLApLlQFHOhaytkYAdH\n",
       "AtcJMJcTJr2mAVkbggfVxrmAOwBEc39C1bYfJZwQPKg2pgeQEIk4h6KNtecBchwjeFBtDAl2YOpB\n",
       "Ioo2PjYBJG1IPJi2TVlgCQY3FG0PWBKQtCHxYNpqwAZFMLxB1sbawHcA5OGZM2fOhfNQtDGCA8l7\n",
       "t/wCJG0suzf+gqpjROKx3L17BxjRcBfzMTDUNyBpe8DA/gOhDYmHCoIZGPgVENpAueMTw2poAoDw\n",
       "sACWgwxc/qkIbT4CDEu+BfRAIwvCw5vkOJE5xOcMZG2sC8jSxkx8vmAnShUAc9tIumRCvdAAAAAA\n",
       "SUVORK5CYII=\n",
       "\" style=\"display:inline;vertical-align:middle;\" /></a></span></td></tr>\n",
       "<tr><td>&nbsp;</td><td colspan=4 style-\"text-align:left\"><a class=\"ProveItLink\" href=\"../../../../../booleans/negation/_theory_nbs_/proofs/negation_contradiction/thm_proof.ipynb\">proveit.logic.booleans.negation.negation_contradiction</a></td></tr><tr><td><a name=\"-0x7b0bacf9e72990cf_step3\">3</a></td><td>assumption</td><td></td><td><span style=\"font-size:20px;\"><a class=\"ProveItLink\" href=\"../../../__pv_it/theorems/2ee8dc2018014830ed832e2e3d65a4df89f102480/expr.ipynb\"><img src=\"data:image/png;base64,iVBORw0KGgoAAAANSUhEUgAAADsAAAAPBAMAAACo4Ko7AAAAMFBMVEX///8AAAAAAAAAAAAAAAAA\n",
       "AAAAAAAAAAAAAAAAAAAAAAAAAAAAAAAAAAAAAAAAAAAv3aB7AAAAD3RSTlMAIs1UmauJMnZmRLsQ\n",
       "3e++988cAAAACXBIWXMAAA7EAAAOxAGVKw4bAAAA+UlEQVQY02NgAAEhBrxAH0zyxF0GkhxgNuf+\n",
       "r6FB2yGyzP/BFG/73AQGBlaIGN8GBob4AjCTJV4ARHUy8KgyMJRApOUbGBjWO4CZiflgZQFArepc\n",
       "FyHS84FC8xtALMaGfgMQDTSZof/fAoh0PBDrgQ1lYbCfAHflASj9moHh6HUwazFDfQK6X9h/d7Rq\n",
       "QpgODPIBINr3LghcBYtxfGRgsAObybHFJX4Dum7uBwwMbN9BrBMMDPwX0KX5geZx/oCYzcD7AF26\n",
       "Hmgw6y8ggwvIYPqAbnc/0E/1CkCGHMimj+i69YD6HgE9efq/DgPz/k9oPov+HxqqDQwrAPAyQLUO\n",
       "1tWZAAAAAElFTkSuQmCC\n",
       "\" style=\"display:inline;vertical-align:middle;\" /></a> <a class=\"ProveItLink\" href=\"../../../__pv_it/_proof_set_not_equiv_contradiction/9211b73d4c87c9a409e9a9b54647a9594a163c2a0/proof.ipynb\" style=\"text-decoration: none\">&nbsp;&#x22A2;&nbsp;&nbsp;</a><a class=\"ProveItLink\" href=\"../../../__pv_it/theorems/2ee8dc2018014830ed832e2e3d65a4df89f102480/expr.ipynb\"><img src=\"data:image/png;base64,iVBORw0KGgoAAAANSUhEUgAAADsAAAAPBAMAAACo4Ko7AAAAMFBMVEX///8AAAAAAAAAAAAAAAAA\n",
       "AAAAAAAAAAAAAAAAAAAAAAAAAAAAAAAAAAAAAAAAAAAv3aB7AAAAD3RSTlMAIs1UmauJMnZmRLsQ\n",
       "3e++988cAAAACXBIWXMAAA7EAAAOxAGVKw4bAAAA+UlEQVQY02NgAAEhBrxAH0zyxF0GkhxgNuf+\n",
       "r6FB2yGyzP/BFG/73AQGBlaIGN8GBob4AjCTJV4ARHUy8KgyMJRApOUbGBjWO4CZiflgZQFArepc\n",
       "FyHS84FC8xtALMaGfgMQDTSZof/fAoh0PBDrgQ1lYbCfAHflASj9moHh6HUwazFDfQK6X9h/d7Rq\n",
       "QpgODPIBINr3LghcBYtxfGRgsAObybHFJX4Dum7uBwwMbN9BrBMMDPwX0KX5geZx/oCYzcD7AF26\n",
       "Hmgw6y8ggwvIYPqAbnc/0E/1CkCGHMimj+i69YD6HgE9efq/DgPz/k9oPov+HxqqDQwrAPAyQLUO\n",
       "1tWZAAAAAElFTkSuQmCC\n",
       "\" style=\"display:inline;vertical-align:middle;\" /></a></span></td></tr>\n",
       "<tr><td><a name=\"-0x7b0bacf9e72990cf_step4\">4</a></td><td>instantiation</td><td><a href=\"#-0x7b0bacf9e72990cf_step5\">5</a>, <a href=\"#-0x7b0bacf9e72990cf_step6\">6</a></td><td><span style=\"font-size:20px;\"><a class=\"ProveItLink\" href=\"../../../__pv_it/theorems/507335659fc5cf492f13d010dccee785d847de1f0/expr.ipynb\"><img src=\"data:image/png;base64,iVBORw0KGgoAAAANSUhEUgAAADsAAAATBAMAAADc9GjbAAAAMFBMVEX///8AAAAAAAAAAAAAAAAA\n",
       "AAAAAAAAAAAAAAAAAAAAAAAAAAAAAAAAAAAAAAAAAAAv3aB7AAAAD3RSTlMAIs1UmauJMnZmRLsQ\n",
       "3e++988cAAAACXBIWXMAAA7EAAAOxAGVKw4bAAABHklEQVQoz2NgAAEhBrxAH8FkhFCc+7+GBm2H\n",
       "sJn/I6RhBvFtYGCILwAzWeIFQBSXvgYDw3YOiLR8AwPDegcwMzEfrKx2uvUrZofTEOn5QKH5DWDr\n",
       "GvoNQHQgA8PafYtvQaTjgVgPbCgLg/0EEA1Sq/fJACL9moHh6HUwazFDfQLM3QpQBvvvjlZNCNOB\n",
       "QT4AKsq6AMrg+MjAYAc2k2OLS/wGqOhqmP+4HzAwsH0HsU4wMPBfADF87979e/fuVbA0P9A8zh8Q\n",
       "sxl4H0DDCuYGhnqgway/QIEBZDB9gAjywgOvH+inepA75UA2fYQIZsKl9YD6Hh1gYDj9X4eBef8n\n",
       "kKm+997ehdod/T80VNsALeLg3sIOqvFH+3b80gUYIgAmy0ZTyExn/wAAAABJRU5ErkJggg==\n",
       "\" style=\"display:inline;vertical-align:middle;\" /></a> <a class=\"ProveItLink\" href=\"../../../__pv_it/_proof_set_not_equiv_contradiction/1f2ad123ed406d289178db6e376a9e11fbb3b4050/proof.ipynb\" style=\"text-decoration: none\">&nbsp;&#x22A2;&nbsp;&nbsp;</a><a class=\"ProveItLink\" href=\"../../../__pv_it/theorems/61729b1b3f67b90588d844f61e340ec281d6e0dc0/expr.ipynb\"><img src=\"data:image/png;base64,iVBORw0KGgoAAAANSUhEUgAAAFoAAAAVBAMAAAA0iOSIAAAAMFBMVEX///8AAAAAAAAAAAAAAAAA\n",
       "AAAAAAAAAAAAAAAAAAAAAAAAAAAAAAAAAAAAAAAAAAAv3aB7AAAAD3RSTlMAmd0iq3ZUiRDNZu9E\n",
       "uzLWhN+VAAAACXBIWXMAAA7EAAAOxAGVKw4bAAABeUlEQVQoz2NgQAADBryAGYXHmgCmLHGp5glA\n",
       "5qVDqPkQqmUTSDNEwdr/Li5zHzBEISnmmACm2P5DuKqv1IGkA4Szl4GB5R8DZwNCNeMCCOUPdj7r\n",
       "AoZOBwY+AYiLvwLd8ZGBSwChmhtCFdc/AFEsQOz54BDE41z/gBioYwdCdSbEmIB4sGfZQeb/3wOR\n",
       "YvnAwMC5mYFhFkK1OMQhDPkLEF6BWXuBgcMJaGUJQjVE4zGG9wUYYff+aqgnyIyVDEJKQKAIZKqB\n",
       "JQQY7MHhwKgEBpAwiTdgYNsFpLMhmk2AGOxG1ouC/hcwzL4NxCDPv0dT3crAwK+AofoLEK8HRtRp\n",
       "hGo1iEMYmDagK+b7BST8DzAwJEH4hkB8FZQUgH7h/IDubtbPQB0/QSkAYQIoeKyBmPczutmcQNtO\n",
       "z4AHMhg8YmDo/T+Dge3+T7QgZLn/xcXzGoilgxBkesBAADAj+R85zWAHjAuQOJcJqbZF5vQSUo1i\n",
       "HHMAfsWsBgwA6E9SmsnrJU0AAAAASUVORK5CYII=\n",
       "\" style=\"display:inline;vertical-align:middle;\" /></a></span></td></tr>\n",
       "<tr><td>&nbsp;</td><td colspan=4 style=\"text-align:left\"><span style=\"font-size:20px;\"><a class=\"ProveItLink\" href=\"../../../../../../__pv_it/common/09585084922504426caf1db2ff588a23a0932a960/expr.ipynb\"><img src=\"data:image/png;base64,iVBORw0KGgoAAAANSUhEUgAAAA8AAAAPBAMAAADJ+Ih5AAAAMFBMVEX///8AAAAAAAAAAAAAAAAA\n",
       "AAAAAAAAAAAAAAAAAAAAAAAAAAAAAAAAAAAAAAAAAAAv3aB7AAAAD3RSTlMAIs1UmauJMnZmRLsQ\n",
       "3e++988cAAAACXBIWXMAAA7EAAAOxAGVKw4bAAAAXklEQVQI12NgAAEhBijQh9LM/6EMlngBCCMx\n",
       "vwBMMzb0G0BkGOwngBmLGeoTwAwHBvkAEM2xxSV+A4hxgoGB/wJEhoH3AZDmAupg+gBkyAEx90cG\n",
       "htP/dRiY939KAABt3hLO6mcEjQAAAABJRU5ErkJggg==\n",
       "\" style=\"display:inline;vertical-align:middle;\" /></a> : <a class=\"ProveItLink\" href=\"../../../../../../__pv_it/common/09585084922504426caf1db2ff588a23a0932a960/expr.ipynb\"><img src=\"data:image/png;base64,iVBORw0KGgoAAAANSUhEUgAAAA8AAAAPBAMAAADJ+Ih5AAAAMFBMVEX///8AAAAAAAAAAAAAAAAA\n",
       "AAAAAAAAAAAAAAAAAAAAAAAAAAAAAAAAAAAAAAAAAAAv3aB7AAAAD3RSTlMAIs1UmauJMnZmRLsQ\n",
       "3e++988cAAAACXBIWXMAAA7EAAAOxAGVKw4bAAAAXklEQVQI12NgAAEhBijQh9LM/6EMlngBCCMx\n",
       "vwBMMzb0G0BkGOwngBmLGeoTwAwHBvkAEM2xxSV+A4hxgoGB/wJEhoH3AZDmAupg+gBkyAEx90cG\n",
       "htP/dRiY939KAABt3hLO6mcEjQAAAABJRU5ErkJggg==\n",
       "\" style=\"display:inline;vertical-align:middle;\" /></a>, <a class=\"ProveItLink\" href=\"../../../../../../__pv_it/common/a9162d1c3cc0470c02e5daf414500903a7a419230/expr.ipynb\"><img src=\"data:image/png;base64,iVBORw0KGgoAAAANSUhEUgAAABAAAAAOBAMAAADUAYG5AAAAMFBMVEX///8AAAAAAAAAAAAAAAAA\n",
       "AAAAAAAAAAAAAAAAAAAAAAAAAAAAAAAAAAAAAAAAAAAv3aB7AAAAD3RSTlMAZrurzTLvInZEmRDd\n",
       "VIkafcLnAAAACXBIWXMAAA7EAAAOxAGVKw4bAAAAb0lEQVQI12NgYBD6b2zsFMAABEkMDMxfgTT7\n",
       "DwYGzl9ABiOQxwjkMDB/YGBgSQcy2BQYuG1AiuM1OkwEQJr6Cxh4E0EMNSB+D5L6DMTyDQwMrB+B\n",
       "DPsJDAwc34GcL0AOSwIDwzRvoHH6n41NdBkYAF/iFeJ4bEa2AAAAAElFTkSuQmCC\n",
       "\" style=\"display:inline;vertical-align:middle;\" /></a> : <a class=\"ProveItLink\" href=\"../../../../../../__pv_it/common/a9162d1c3cc0470c02e5daf414500903a7a419230/expr.ipynb\"><img src=\"data:image/png;base64,iVBORw0KGgoAAAANSUhEUgAAABAAAAAOBAMAAADUAYG5AAAAMFBMVEX///8AAAAAAAAAAAAAAAAA\n",
       "AAAAAAAAAAAAAAAAAAAAAAAAAAAAAAAAAAAAAAAAAAAv3aB7AAAAD3RSTlMAZrurzTLvInZEmRDd\n",
       "VIkafcLnAAAACXBIWXMAAA7EAAAOxAGVKw4bAAAAb0lEQVQI12NgYBD6b2zsFMAABEkMDMxfgTT7\n",
       "DwYGzl9ABiOQxwjkMDB/YGBgSQcy2BQYuG1AiuM1OkwEQJr6Cxh4E0EMNSB+D5L6DMTyDQwMrB+B\n",
       "DPsJDAwc34GcL0AOSwIDwzRvoHH6n41NdBkYAF/iFeJ4bEa2AAAAAElFTkSuQmCC\n",
       "\" style=\"display:inline;vertical-align:middle;\" /></a></span></td></tr><tr><td><a name=\"-0x7b0bacf9e72990cf_step5\">5</a></td><td>theorem</td><td></td><td><span style=\"font-size:20px;\"> <a class=\"ProveItLink\" href=\"../unfold_set_not_equiv/thm_proof.ipynb\" style=\"text-decoration: none\">&nbsp;&#x22A2;&nbsp;&nbsp;</a><a class=\"ProveItLink\" href=\"../../../__pv_it/theorems/c844143db30ef710a33c0ed92deda92535c093c40/expr.ipynb\"><img src=\"data:image/png;base64,iVBORw0KGgoAAAANSUhEUgAAANcAAAAZBAMAAABQsaZCAAAAMFBMVEX///8AAAAAAAAAAAAAAAAA\n",
       "AAAAAAAAAAAAAAAAAAAAAAAAAAAAAAAAAAAAAAAAAAAv3aB7AAAAD3RSTlMAq1RmmUTNIjK7EInv\n",
       "3XZ/CtNrAAAACXBIWXMAAA7EAAAOxAGVKw4bAAADN0lEQVRIx7VVTUhUURT+5ufNm3nqNIJYm/BB\n",
       "EESLBpTAhTVif2LQQBuJfiYiIlto68qZcBUUiZuaEGeEEIoEDTcyCydDKsKQahGU8Sgogig1M1PK\n",
       "zj13Ru+MDNMTvfC9+/vud+53zj0XWGtpU9r6f6xtw9qL31Q6HyRlpNDikxkERGebfbKdSts5wJVn\n",
       "iqvecWGHxe3apfLy8zH4g2DsF2PnbHMZ6in6ZLVLkr3veJs9BPAMcMwDLWBcFefvtE3mDiqdBlnV\n",
       "/2J9g+gLwBuSyv4FtFmgBgxPEigxbZOVqp00f0suzYvKQaiMnZDx4KIhFxGWJhkuMtFj32XbVZdJ\n",
       "Sdv9M8wpTrc0JqccpKznCSEoMT45+dw+WZMqqYyPkPPHikuzAnTC2BojCwISh4A79snOKG0P+08z\n",
       "vYurlt3s+VYpZl0RiYvQA/bJXtKBJkWhQChjl7uhT3PNw5Nyz+9tcD4WSqclfMmSME8k8+ItX5Kc\n",
       "MpbNHbRpKf//ZV/971XLugkjJKN3SsJpyfgwnnJ1bTbVGBMNX/aHB9zFQVqeaBq6XYDMoFv8ZxWZ\n",
       "OOtemtHSEojskZE7I4N1Av50DtmICce45Q2R9nXA12UZl8lYRiHEu3wurwiZKrLFOSGBhy080fxC\n",
       "BmsIrimVTLtuoeH+p9oOirkKslOO9mTJyGc+kZqOElrzfeana+6dE0folMBl6UvrtAxWE/1Blczv\n",
       "CSAIo5vyAEZhvJKjg4r9IqZ1oUYiP7N7aPR4S+Z28A1xsE/8OMDz0Y81W6CSWW6+sxFOPtX10oG4\n",
       "oYo1ASMxl8SOpQu5XI7EdHlll2iVhSUypTnjjToYFSqZFmMXcsSSP3tlzkNZTNn0TdGbciWDbEpI\n",
       "VXHsE1M0rJC5U4MLGI4n4nFL+FP/KYddIWWrmqJkDSvpmlVElI0dBU6poW9BF/l1c8af2nzmh1vK\n",
       "Vr5ir7B4VpSnhYJpk2kMQF+A8VqRUaNgoTuhcfqLJtGfPdE99XEr9kQJa1Yscj+CceSsdxS7F1ON\n",
       "pkJ2OIC7c+Hh7jjJ6GpNDXUtG2spm7UXIfucQU5xqtaoE9VY/3KsEFlkA8iCBcg0Extb9PXf8h8/\n",
       "AcyJYJPszgAAAABJRU5ErkJggg==\n",
       "\" style=\"display:inline;vertical-align:middle;\" /></a></span></td></tr>\n",
       "<tr><td>&nbsp;</td><td colspan=4 style-\"text-align:left\"><a class=\"ProveItLink\" href=\"../unfold_set_not_equiv/thm_proof.ipynb\">proveit.logic.sets.equivalence.unfold_set_not_equiv</a></td></tr><tr><td><a name=\"-0x7b0bacf9e72990cf_step6\">6</a></td><td>assumption</td><td></td><td><span style=\"font-size:20px;\"><a class=\"ProveItLink\" href=\"../../../__pv_it/theorems/507335659fc5cf492f13d010dccee785d847de1f0/expr.ipynb\"><img src=\"data:image/png;base64,iVBORw0KGgoAAAANSUhEUgAAADsAAAATBAMAAADc9GjbAAAAMFBMVEX///8AAAAAAAAAAAAAAAAA\n",
       "AAAAAAAAAAAAAAAAAAAAAAAAAAAAAAAAAAAAAAAAAAAv3aB7AAAAD3RSTlMAIs1UmauJMnZmRLsQ\n",
       "3e++988cAAAACXBIWXMAAA7EAAAOxAGVKw4bAAABHklEQVQoz2NgAAEhBrxAH8FkhFCc+7+GBm2H\n",
       "sJn/I6RhBvFtYGCILwAzWeIFQBSXvgYDw3YOiLR8AwPDegcwMzEfrKx2uvUrZofTEOn5QKH5DWDr\n",
       "GvoNQHQgA8PafYtvQaTjgVgPbCgLg/0EEA1Sq/fJACL9moHh6HUwazFDfQLM3QpQBvvvjlZNCNOB\n",
       "QT4AKsq6AMrg+MjAYAc2k2OLS/wGqOhqmP+4HzAwsH0HsU4wMPBfADF87979e/fuVbA0P9A8zh8Q\n",
       "sxl4H0DDCuYGhnqgway/QIEBZDB9gAjywgOvH+inepA75UA2fYQIZsKl9YD6Hh1gYDj9X4eBef8n\n",
       "kKm+997ehdod/T80VNsALeLg3sIOqvFH+3b80gUYIgAmy0ZTyExn/wAAAABJRU5ErkJggg==\n",
       "\" style=\"display:inline;vertical-align:middle;\" /></a> <a class=\"ProveItLink\" href=\"../../../__pv_it/_proof_set_not_equiv_contradiction/5974c0fbbf625ed1dcc6552c125210f5a67203e40/proof.ipynb\" style=\"text-decoration: none\">&nbsp;&#x22A2;&nbsp;&nbsp;</a><a class=\"ProveItLink\" href=\"../../../__pv_it/theorems/507335659fc5cf492f13d010dccee785d847de1f0/expr.ipynb\"><img src=\"data:image/png;base64,iVBORw0KGgoAAAANSUhEUgAAADsAAAATBAMAAADc9GjbAAAAMFBMVEX///8AAAAAAAAAAAAAAAAA\n",
       "AAAAAAAAAAAAAAAAAAAAAAAAAAAAAAAAAAAAAAAAAAAv3aB7AAAAD3RSTlMAIs1UmauJMnZmRLsQ\n",
       "3e++988cAAAACXBIWXMAAA7EAAAOxAGVKw4bAAABHklEQVQoz2NgAAEhBrxAH8FkhFCc+7+GBm2H\n",
       "sJn/I6RhBvFtYGCILwAzWeIFQBSXvgYDw3YOiLR8AwPDegcwMzEfrKx2uvUrZofTEOn5QKH5DWDr\n",
       "GvoNQHQgA8PafYtvQaTjgVgPbCgLg/0EEA1Sq/fJACL9moHh6HUwazFDfQLM3QpQBvvvjlZNCNOB\n",
       "QT4AKsq6AMrg+MjAYAc2k2OLS/wGqOhqmP+4HzAwsH0HsU4wMPBfADF87979e/fuVbA0P9A8zh8Q\n",
       "sxl4H0DDCuYGhnqgway/QIEBZDB9gAjywgOvH+inepA75UA2fYQIZsKl9YD6Hh1gYDj9X4eBef8n\n",
       "kKm+997ehdod/T80VNsALeLg3sIOqvFH+3b80gUYIgAmy0ZTyExn/wAAAABJRU5ErkJggg==\n",
       "\" style=\"display:inline;vertical-align:middle;\" /></a></span></td></tr>\n",
       "</table>"
      ],
      "text/plain": [
       "\tstep type\trequirements\tstatement\n",
       "0\tgeneralization\t1\t|- forall_{A, B | A equiv B, A not_equiv B} FALSE\n",
       "1\tinstantiation\t2, 3, 4\t{A equiv B, A not_equiv B} |- FALSE\n",
       "\tA : A equiv B\n",
       "2\ttheorem\t\t|- forall_{A | A, [not](A)} FALSE\n",
       "\tproveit.logic.booleans.negation.negation_contradiction\n",
       "3\tassumption\t\t{A equiv B} |- A equiv B\n",
       "4\tinstantiation\t5, 6\t{A not_equiv B} |- [not](A equiv B)\n",
       "\tA : A, B : B\n",
       "5\ttheorem\t\t|- forall_{A, B | A not_equiv B} [not](A equiv B)\n",
       "\tproveit.logic.sets.equivalence.unfold_set_not_equiv\n",
       "6\tassumption\t\t{A not_equiv B} |- A not_equiv B"
      ]
     },
     "execution_count": 7,
     "metadata": {},
     "output_type": "execute_result"
    }
   ],
   "source": [
    "%qed"
   ]
  },
  {
   "cell_type": "code",
   "execution_count": null,
   "metadata": {},
   "outputs": [],
   "source": []
  }
 ],
 "metadata": {
  "kernelspec": {
   "display_name": "Python 3",
   "language": "python",
   "name": "python3"
  }
 },
 "nbformat": 4,
 "nbformat_minor": 0
}