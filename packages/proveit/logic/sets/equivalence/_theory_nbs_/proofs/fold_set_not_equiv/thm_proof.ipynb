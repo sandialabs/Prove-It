{
 "cells": [
  {
   "cell_type": "markdown",
   "metadata": {},
   "source": [
    "Proof of <a class=\"ProveItLink\" href=\"../../../../../../_theory_nbs_/theory.ipynb\">proveit</a>.<a class=\"ProveItLink\" href=\"../../../../../_theory_nbs_/theory.ipynb\">logic</a>.<a class=\"ProveItLink\" href=\"../../../../_theory_nbs_/theory.ipynb\">sets</a>.<a class=\"ProveItLink\" href=\"../../theory.ipynb\">equivalence</a>.<a class=\"ProveItLink\" href=\"../../theorems.ipynb#fold_set_not_equiv\">fold_set_not_equiv</a> theorem\n",
    "========"
   ]
  },
  {
   "cell_type": "code",
   "execution_count": 1,
   "metadata": {},
   "outputs": [],
   "source": [
    "import proveit\n",
    "from proveit.logic.sets.equivalence  import set_not_equiv_def\n",
    "theory = proveit.Theory() # the theorem's theory"
   ]
  },
  {
   "cell_type": "code",
   "execution_count": 2,
   "metadata": {},
   "outputs": [
    {
     "data": {
      "text/html": [
       "With these <a href=\"allowed_presumptions.txt\">allowed</a>/<a href=\"disallowed_presumptions.txt\">disallowed</a> theorem/theory presumptions (e.g., to avoid circular dependencies), we begin our proof of<br><strong id=\"fold_set_not_equiv\">fold_set_not_equiv:</strong> <a class=\"ProveItLink\" href=\"../../../__pv_it/theorems/6c8bac60bf1f5161c41cb34810a59748d7cedfc00/expr.ipynb\"><img src=\"data:image/png;base64,iVBORw0KGgoAAAANSUhEUgAAANEAAAAXBAMAAABnpbd1AAAAMFBMVEX///8AAAAAAAAAAAAAAAAA\n",
       "AAAAAAAAAAAAAAAAAAAAAAAAAAAAAAAAAAAAAAAAAAAv3aB7AAAAD3RSTlMAq1RmmUTNIjK7EInv\n",
       "3XZ/CtNrAAAACXBIWXMAAA7EAAAOxAGVKw4bAAADP0lEQVRIx61WX0hTURj/ubvtbnc6J0jZk4OE\n",
       "EIIGmfRiXekPiUVSL1ZURkRUkvbSS+XWo1A4emmrYFewIEgw86X2kAlJEYVRgQ8OVj1EEKZW5h/U\n",
       "vnPOznZ3tyExD9x7vvPv+33n9/3OuRdYk6KuMt6JtSpfBF5bofET9PiYsbFIINsAr5xTObtUYtMV\n",
       "6yLwBoA9rH22SKQHotpiQrqcqkvDQHUI54HrDD9cJNIuUTX+5ZWj4yIQ8Yq+YBI4qaOOdmwAHn+R\n",
       "SMP87bkyx+ub22tf2vSHYmhniJ4kSg0oxKCz2DQJJXR5Z3i9Hjh+79AnMVZNT3snnATzNpF4UySS\n",
       "XQhCt/3idZI5n03x9BroHaf9kvL2AXd4n2FZbm5sYi/NApCUBguY0uN3LaaVJ/Xump/8fJppkDou\n",
       "QeVK117xoe7f8aYQM9wmn0oLez8KybYr1jwUycRS5hehqdOyp6QlZXhJJJspEBul0m14eLdHkKyM\n",
       "wTtsRerl7+d+eEbJKS1sAH7AMSCVzB183904LxcckYabfHlIKC46ALakEETrOxGNDmXKisQPneNG\n",
       "EjX37wIEUEmCAjskGSSNyFzizQOJxFIi8Z7b5cSXskyLWfRtOwTrp8QqP/oDVqQxToTTBx32qj7y\n",
       "OwLtAzBoZo9xOSHZlrtFD/kq+UP7YS4GeWhe7BUn7WtdFSxIIr9Jexsjrp72ri5vbaSk1UiKmDYO\n",
       "09MhodNLf9Ld2kPLFXY5XOWCaCXiWWmAVmlCehqNRsccbJojRPlromY0wJLZq2eywSSsMnpiqTv7\n",
       "SRqpnRaOGqmDUMIl1Ryv5jInmGBL9p58NhaLPf54IS0tHSpR0i2lOAYtNmugduUCz9MEnVGRpw0r\n",
       "FRXnGLdlUoxEHoIccYSuKYvKfa4wPz3qnOyhZDrmMuxhPPugpTWeKdfSFrFc7tcGoC5A+2jJk84U\n",
       "4aAUzUj2ggb6ib1JOaMu2213wTuYqHkB7eAZ1wjqF+NNfqsicBvY70PfbCpWpSM+dEt0pySR/U2N\n",
       "5H6TrV8Lm8k2Ix3Le91p4VyLl1DOVLf18360AJI973+AqbdrlTv4m7UjUAAJz/It37ZGPyFZvzta\n",
       "vhnGf/n7B8AcwdpLVvc4AAAAAElFTkSuQmCC\n",
       "\" style=\"display:inline;vertical-align:middle;\" /></a><br>(see <a class=\"ProveItLink\" href=\"../../../__pv_it/theorems/c9a27d8f2b285a52c5301c089f99eefb214b82bb0/dependencies.ipynb\">dependencies</a>)<br>"
      ],
      "text/plain": [
       "<IPython.core.display.HTML object>"
      ]
     },
     "metadata": {},
     "output_type": "display_data"
    }
   ],
   "source": [
    "%proving fold_set_not_equiv"
   ]
  },
  {
   "cell_type": "code",
   "execution_count": 3,
   "metadata": {},
   "outputs": [
    {
     "data": {
      "text/html": [
       "<span style=\"font-size:20px;\"> <a class=\"ProveItLink\" href=\"../../axioms.ipynb#set_not_equiv_def\" style=\"text-decoration: none\">&nbsp;&#x22A2;&nbsp;&nbsp;</a><a class=\"ProveItLink\" href=\"../../../__pv_it/axioms/9437f7172aa913560deca1c56b1db5fda3c9a51d0/expr.ipynb\"><img src=\"data:image/png;base64,iVBORw0KGgoAAAANSUhEUgAAARkAAAAWBAMAAAAGH/VFAAAAMFBMVEX///8AAAAAAAAAAAAAAAAA\n",
       "AAAAAAAAAAAAAAAAAAAAAAAAAAAAAAAAAAAAAAAAAAAv3aB7AAAAD3RSTlMAq1RmmUTNIjK7EInv\n",
       "3XZ/CtNrAAAACXBIWXMAAA7EAAAOxAGVKw4bAAAD4klEQVRIx8VWS0iUURQ+M+M8/EfHEcJqETMQ\n",
       "BFHRLERqUSpaJBGJbSp6GBGRSdomiEwnWrkQJYIkRMeN4KLQWrRwkRX2pJikQMiJqRYRhK9s1MSm\n",
       "c+7rf8w/M8sOfHP/ufeec7/z+u8PkFNaBXKIN5tezg02Z+Q5ByAQ5kC5km2PO2mvp+Qr59SYzcAp\n",
       "A4I0sTnLxm0CKC0ZzroG5kvLegG+2etJcY6wwTPHhsG3RJQ7sDtdWnohCoEIKOyj+fP2ZLRGDrKZ\n",
       "1qdlmIp6AEJR8MTs9JQM8WEnZ/P55icZAoBXAI5lgCZQuEHO9tizKYhw0GOIpdXdcgmgN8CXO9DF\n",
       "01XgqrLTU1LDh+ollsIIDAXBxzW8f9HgIkA5KJBn/rA9myIBlEePozR07do64awa5nOVOFWJjF7b\n",
       "6SkZZ7/+a8s0OBBl0ZO8YF045UJGRTEFF/rhyVI2WwTQjeQsY7we4GRfw0e+HEI0o+GzdnqqbHjW\n",
       "2gMLjBTFJz3BlxyYPM8LRETH20TiTRY2BwUw9rCTRZ/KrzkVVmkfnMJx1E5PZY0XcZXzl15Wet1p\n",
       "mzC+/qCOAwB32WJGMTKnueMN0D0iO0qWqG9l5gtbrWCnJpgEAczB8jAv3GHfaob57v6ZMlp1Neq4\n",
       "DF5mQnvJtnQujtVFxfZJAXQNOkQfgKNevlSwLreTte3WYyYlOazW4jCPrXfeyhlmW8H5jJI5rqMw\n",
       "5mf2/Qu8tOIQGBdWJwQgcLs2JPvumDyzELf5qTa7rWwmZBjx1CJm/Edt9UpGbPoQ1By+OR3OJC/i\n",
       "o++469iyc1Y29wFK4vRwKJFYSyTes9WSIG8JOJGXjYb1tpbBhqJFPeke1wGNe9la8gwvrTDci1gz\n",
       "RREXAXONqLTjNsdvfNhhzcGkgQ3LVAFi2krGR3UdQrLOuA540MSSAfv5K+1b+Qa5v1/AHVFvdihW\n",
       "1jDt0E0lvdt6Tr9kg14UUhsekVeLkTPVnS9FDvbogDa2dhR+Mgt7QFsnrY4KtFGVLPG5h+rMZqT5\n",
       "PGZpaKUnhdrWS3EdsN7RHpw90SReAhLgYC10cCzEWhypdMiu6eIYTjeBcyBFew9N4+uJ181GuvNY\n",
       "w3y0suky5iMO2kAqBlvTF82bHHTp3mLhrtch2hVJMFZP8e6RHV4c5TDaqM/8wIlbZ0w6U/k+W+C6\n",
       "AVwwsyVhbQS8f0D7ICfpPrTciZ32d6tZTDrlednUGMAtPgHt8DnfU6hYHavT79A7Arr0Zhq7mjll\n",
       "1CnM901HXxASJnFa/g8L6BLNfbRBT91KPXnYEF0Jkxy30k5y5PxatfHdpNOeh813A0wSgf8r/wAu\n",
       "HRcDmrsnNQAAAABJRU5ErkJggg==\n",
       "\" style=\"display:inline;vertical-align:middle;\" /></a></span>"
      ],
      "text/plain": [
       "|- forall_{A, B} ((A not_equiv B) = [not](A equiv B))"
      ]
     },
     "metadata": {},
     "output_type": "display_data"
    }
   ],
   "source": [
    "set_not_equiv_def"
   ]
  },
  {
   "cell_type": "code",
   "execution_count": 4,
   "metadata": {},
   "outputs": [
    {
     "data": {
      "text/html": [
       "<strong id=\"set_not_equiv_def_inst\">set_not_equiv_def_inst:</strong> <span style=\"font-size:20px;\"> <a class=\"ProveItLink\" href=\"../../../__pv_it/_proof_fold_set_not_equiv/24edf29d73bd63828f995a7a1e6fbeacb00839ce0/proof.ipynb\" style=\"text-decoration: none\">&nbsp;&#x22A2;&nbsp;&nbsp;</a><a class=\"ProveItLink\" href=\"../../../__pv_it/axioms/b0bcc8f24b80642a25521f93ec65bd4aafc04ce50/expr.ipynb\"><img src=\"data:image/png;base64,iVBORw0KGgoAAAANSUhEUgAAANEAAAAVBAMAAAAqbRZ+AAAAMFBMVEX///8AAAAAAAAAAAAAAAAA\n",
       "AAAAAAAAAAAAAAAAAAAAAAAAAAAAAAAAAAAAAAAAAAAv3aB7AAAAD3RSTlMAInZUiRDNmWbv3US7\n",
       "qzJazP2FAAAACXBIWXMAAA7EAAAOxAGVKw4bAAAC5klEQVRIx4VVTWgTURCeZLNp/luKCIrQqJce\n",
       "1ORQCpVC682LGDx4ilDEggG1ORRaCoWeLIjYXPRgPURyqsUS7EVFMPYiXpJ4EQRDchOCkPpD0doa\n",
       "583s275923YffJm3szPfzJuZfQGAPjh0+fZT9nkZaLZk70/T89GDDKNJt87y4XWa400cRPDCAgzx\n",
       "85QryVBtt/GpCjDodh5S9sY4ieAmCfNzSWSiEvgXgGByLkZ3z1ceL1wBaLYgmNEDmWr+V1mMcaTI\n",
       "uXsYOe4gmMQtomeBlD1NKmV06jpAlVOCAazb2zyE8noky4fXLIv57yQGwbwN8NVBsIhbRJiVFy63\n",
       "hGg/GF028lnWLaFqCY0f6pHC6kOBfgNH/pGs44HuRJ86CMJYFMQwtyaZoiZ/BHj9YX2VDZuIHB71\n",
       "ph5pWG0TV7Lf/5OkaFrqT9lBEMQSIKa5HjBGFRFzltuyJusJwLU1lJf0SNNqJXkg8sbvPZ1srEUQ\n",
       "qBM44XXojMvJk+1O7Jw6S2/vEuMzWnWxVw8ZpAyj6cQv14RKgtAEocQpwUDdeh8vy48GezwieEZ0\n",
       "ipIMjLMSSXNNfLv0ao70zx0ERoGwTLr3M82KRfNG8sXQICD63NEjLcvjY3ZhSuzMzPyO60ySILFJ\n",
       "IK8rAL1FK6VtmVIv8oR+4OaVZyQT+7vtiiQJogVCiYsHkYJ1M8h+QQcPHv+Lm/N6n0pKJKpeD2LF\n",
       "FUkSGEXChujngn2bQMQ2TOGAd8R43NcpNmQkzDAmxvWlfZ2pfZIEoQpBjPAxUVT+xuGizZfDFB5l\n",
       "tKGmpY69GGGfqEfN9Z8gCcSHgGgDZLuTYNS2RNnmVh7LlL50G41bNFirOkVbHeUimLWtDIx2b2hW\n",
       "NkGkTIi0HK/tGVeu9qKucfisgdc6ztDuz29uQ8d9ylOj+ix6Rpq18M6hrboNT7hVqk/M4z8bfBUG\n",
       "ZB3q1uG01lJ9zIpHJJEKpeNLHm7o3ydnh0+/R6STjP8QRNfupEdOJQAAAABJRU5ErkJggg==\n",
       "\" style=\"display:inline;vertical-align:middle;\" /></a></span><br>"
      ],
      "text/plain": [
       "<IPython.core.display.HTML object>"
      ]
     },
     "metadata": {},
     "output_type": "display_data"
    }
   ],
   "source": [
    "set_not_equiv_def_inst = set_not_equiv_def.instantiate()"
   ]
  },
  {
   "cell_type": "code",
   "execution_count": 5,
   "metadata": {},
   "outputs": [
    {
     "data": {
      "text/html": [
       "<span style=\"font-size:20px;\"><a class=\"ProveItLink\" href=\"../../../__pv_it/axioms/bb2eac1bdd2ce216d9324209ccfd47261e333bcc0/expr.ipynb\"><img src=\"data:image/png;base64,iVBORw0KGgoAAAANSUhEUgAAAFoAAAAVBAMAAAA0iOSIAAAAMFBMVEX///8AAAAAAAAAAAAAAAAA\n",
       "AAAAAAAAAAAAAAAAAAAAAAAAAAAAAAAAAAAAAAAAAAAv3aB7AAAAD3RSTlMAmd0iq3ZUiRDNZu9E\n",
       "uzLWhN+VAAAACXBIWXMAAA7EAAAOxAGVKw4bAAABeUlEQVQoz2NgQAADBryAGYXHmgCmLHGp5glA\n",
       "5qVDqPkQqmUTSDNEwdr/Li5zHzBEISnmmACm2P5DuKqv1IGkA4Szl4GB5R8DZwNCNeMCCOUPdj7r\n",
       "AoZOBwY+AYiLvwLd8ZGBSwChmhtCFdc/AFEsQOz54BDE41z/gBioYwdCdSbEmIB4sGfZQeb/3wOR\n",
       "YvnAwMC5mYFhFkK1OMQhDPkLEF6BWXuBgcMJaGUJQjVE4zGG9wUYYff+aqgnyIyVDEJKQKAIZKqB\n",
       "JQQY7MHhwKgEBpAwiTdgYNsFpLMhmk2AGOxG1ouC/hcwzL4NxCDPv0dT3crAwK+AofoLEK8HRtRp\n",
       "hGo1iEMYmDagK+b7BST8DzAwJEH4hkB8FZQUgH7h/IDubtbPQB0/QSkAYQIoeKyBmPczutmcQNtO\n",
       "z4AHMhg8YmDo/T+Dge3+T7QgZLn/xcXzGoilgxBkesBAADAj+R85zWAHjAuQOJcJqbZF5vQSUo1i\n",
       "HHMAfsWsBgwA6E9SmsnrJU0AAAAASUVORK5CYII=\n",
       "\" style=\"display:inline;vertical-align:middle;\" /></a> <a class=\"ProveItLink\" href=\"../../../__pv_it/_proof_fold_set_not_equiv/2aed2f994e7e102bb05763c1746d925d7209f0a40/proof.ipynb\" style=\"text-decoration: none\">&nbsp;&#x22A2;&nbsp;&nbsp;</a><a class=\"ProveItLink\" href=\"../../../__pv_it/axioms/040e9a1f9b739ee8859835262ddf22eb997ee4790/expr.ipynb\"><img src=\"data:image/png;base64,iVBORw0KGgoAAAANSUhEUgAAADsAAAATBAMAAADc9GjbAAAAMFBMVEX///8AAAAAAAAAAAAAAAAA\n",
       "AAAAAAAAAAAAAAAAAAAAAAAAAAAAAAAAAAAAAAAAAAAv3aB7AAAAD3RSTlMAIs1UmauJMnZmRLsQ\n",
       "3e++988cAAAACXBIWXMAAA7EAAAOxAGVKw4bAAABHklEQVQoz2NgAAEhBrxAH8FkhFCc+7+GBm2H\n",
       "sJn/I6RhBvFtYGCILwAzWeIFQBSXvgYDw3YOiLR8AwPDegcwMzEfrKx2uvUrZofTEOn5QKH5DWDr\n",
       "GvoNQHQgA8PafYtvQaTjgVgPbCgLg/0EEA1Sq/fJACL9moHh6HUwazFDfQLM3QpQBvvvjlZNCNOB\n",
       "QT4AKsq6AMrg+MjAYAc2k2OLS/wGqOhqmP+4HzAwsH0HsU4wMPBfADF87979e/fuVbA0P9A8zh8Q\n",
       "sxl4H0DDCuYGhnqgway/QIEBZDB9gAjywgOvH+inepA75UA2fYQIZsKl9YD6Hh1gYDj9X4eBef8n\n",
       "kKm+997ehdod/T80VNsALeLg3sIOqvFH+3b80gUYIgAmy0ZTyExn/wAAAABJRU5ErkJggg==\n",
       "\" style=\"display:inline;vertical-align:middle;\" /></a></span>"
      ],
      "text/plain": [
       "{[not](A equiv B)} |- A not_equiv B"
      ]
     },
     "metadata": {},
     "output_type": "display_data"
    },
    {
     "name": "stdout",
     "output_type": "stream",
     "text": [
      "fold_set_not_equiv may now be readily provable (assuming required theorems are usable).  Simply execute \"%qed\".\n"
     ]
    }
   ],
   "source": [
    "set_not_equiv_def_inst.derive_left_via_equality(assumptions=[set_not_equiv_def_inst.rhs])"
   ]
  },
  {
   "cell_type": "code",
   "execution_count": 6,
   "metadata": {},
   "outputs": [
    {
     "name": "stdout",
     "output_type": "stream",
     "text": [
      "proveit.logic.sets.equivalence.fold_set_not_equiv has been proven.\n"
     ]
    },
    {
     "data": {
      "text/html": [
       "<table><tr><th>&nbsp;</th><th>step type</th><th>requirements</th><th>statement</th></tr>\n",
       "<tr><td><a name=\"0x7766c7bb26b25161_step0\">0</a></td><td>generalization</td><td><a href=\"#0x7766c7bb26b25161_step1\">1</a></td><td><span style=\"font-size:20px;\"> <a class=\"ProveItLink\" href=\"../../../__pv_it/_proof_fold_set_not_equiv/929443fc5788f28274d87f0c5fec5966c01ba9530/proof.ipynb\" style=\"text-decoration: none\">&nbsp;&#x22A2;&nbsp;&nbsp;</a><a class=\"ProveItLink\" href=\"../../../__pv_it/theorems/6c8bac60bf1f5161c41cb34810a59748d7cedfc00/expr.ipynb\"><img src=\"data:image/png;base64,iVBORw0KGgoAAAANSUhEUgAAANEAAAAXBAMAAABnpbd1AAAAMFBMVEX///8AAAAAAAAAAAAAAAAA\n",
       "AAAAAAAAAAAAAAAAAAAAAAAAAAAAAAAAAAAAAAAAAAAv3aB7AAAAD3RSTlMAq1RmmUTNIjK7EInv\n",
       "3XZ/CtNrAAAACXBIWXMAAA7EAAAOxAGVKw4bAAADP0lEQVRIx61WX0hTURj/ubvtbnc6J0jZk4OE\n",
       "EIIGmfRiXekPiUVSL1ZURkRUkvbSS+XWo1A4emmrYFewIEgw86X2kAlJEYVRgQ8OVj1EEKZW5h/U\n",
       "vnPOznZ3tyExD9x7vvPv+33n9/3OuRdYk6KuMt6JtSpfBF5bofET9PiYsbFIINsAr5xTObtUYtMV\n",
       "6yLwBoA9rH22SKQHotpiQrqcqkvDQHUI54HrDD9cJNIuUTX+5ZWj4yIQ8Yq+YBI4qaOOdmwAHn+R\n",
       "SMP87bkyx+ub22tf2vSHYmhniJ4kSg0oxKCz2DQJJXR5Z3i9Hjh+79AnMVZNT3snnATzNpF4UySS\n",
       "XQhCt/3idZI5n03x9BroHaf9kvL2AXd4n2FZbm5sYi/NApCUBguY0uN3LaaVJ/Xump/8fJppkDou\n",
       "QeVK117xoe7f8aYQM9wmn0oLez8KybYr1jwUycRS5hehqdOyp6QlZXhJJJspEBul0m14eLdHkKyM\n",
       "wTtsRerl7+d+eEbJKS1sAH7AMSCVzB183904LxcckYabfHlIKC46ALakEETrOxGNDmXKisQPneNG\n",
       "EjX37wIEUEmCAjskGSSNyFzizQOJxFIi8Z7b5cSXskyLWfRtOwTrp8QqP/oDVqQxToTTBx32qj7y\n",
       "OwLtAzBoZo9xOSHZlrtFD/kq+UP7YS4GeWhe7BUn7WtdFSxIIr9Jexsjrp72ri5vbaSk1UiKmDYO\n",
       "09MhodNLf9Ld2kPLFXY5XOWCaCXiWWmAVmlCehqNRsccbJojRPlromY0wJLZq2eywSSsMnpiqTv7\n",
       "SRqpnRaOGqmDUMIl1Ryv5jInmGBL9p58NhaLPf54IS0tHSpR0i2lOAYtNmugduUCz9MEnVGRpw0r\n",
       "FRXnGLdlUoxEHoIccYSuKYvKfa4wPz3qnOyhZDrmMuxhPPugpTWeKdfSFrFc7tcGoC5A+2jJk84U\n",
       "4aAUzUj2ggb6ib1JOaMu2213wTuYqHkB7eAZ1wjqF+NNfqsicBvY70PfbCpWpSM+dEt0pySR/U2N\n",
       "5H6TrV8Lm8k2Ix3Le91p4VyLl1DOVLf18360AJI973+AqbdrlTv4m7UjUAAJz/It37ZGPyFZvzta\n",
       "vhnGf/n7B8AcwdpLVvc4AAAAAElFTkSuQmCC\n",
       "\" style=\"display:inline;vertical-align:middle;\" /></a></span></td></tr>\n",
       "<tr><td><a name=\"0x7766c7bb26b25161_step1\">1</a></td><td>instantiation</td><td><a href=\"#0x7766c7bb26b25161_step2\">2</a>, <a href=\"#0x7766c7bb26b25161_step3\">3</a>, <a href=\"#0x7766c7bb26b25161_step4\">4</a></td><td><span style=\"font-size:20px;\"><a class=\"ProveItLink\" href=\"../../../__pv_it/axioms/bb2eac1bdd2ce216d9324209ccfd47261e333bcc0/expr.ipynb\"><img src=\"data:image/png;base64,iVBORw0KGgoAAAANSUhEUgAAAFoAAAAVBAMAAAA0iOSIAAAAMFBMVEX///8AAAAAAAAAAAAAAAAA\n",
       "AAAAAAAAAAAAAAAAAAAAAAAAAAAAAAAAAAAAAAAAAAAv3aB7AAAAD3RSTlMAmd0iq3ZUiRDNZu9E\n",
       "uzLWhN+VAAAACXBIWXMAAA7EAAAOxAGVKw4bAAABeUlEQVQoz2NgQAADBryAGYXHmgCmLHGp5glA\n",
       "5qVDqPkQqmUTSDNEwdr/Li5zHzBEISnmmACm2P5DuKqv1IGkA4Szl4GB5R8DZwNCNeMCCOUPdj7r\n",
       "AoZOBwY+AYiLvwLd8ZGBSwChmhtCFdc/AFEsQOz54BDE41z/gBioYwdCdSbEmIB4sGfZQeb/3wOR\n",
       "YvnAwMC5mYFhFkK1OMQhDPkLEF6BWXuBgcMJaGUJQjVE4zGG9wUYYff+aqgnyIyVDEJKQKAIZKqB\n",
       "JQQY7MHhwKgEBpAwiTdgYNsFpLMhmk2AGOxG1ouC/hcwzL4NxCDPv0dT3crAwK+AofoLEK8HRtRp\n",
       "hGo1iEMYmDagK+b7BST8DzAwJEH4hkB8FZQUgH7h/IDubtbPQB0/QSkAYQIoeKyBmPczutmcQNtO\n",
       "z4AHMhg8YmDo/T+Dge3+T7QgZLn/xcXzGoilgxBkesBAADAj+R85zWAHjAuQOJcJqbZF5vQSUo1i\n",
       "HHMAfsWsBgwA6E9SmsnrJU0AAAAASUVORK5CYII=\n",
       "\" style=\"display:inline;vertical-align:middle;\" /></a> <a class=\"ProveItLink\" href=\"../../../__pv_it/_proof_fold_set_not_equiv/2aed2f994e7e102bb05763c1746d925d7209f0a40/proof.ipynb\" style=\"text-decoration: none\">&nbsp;&#x22A2;&nbsp;&nbsp;</a><a class=\"ProveItLink\" href=\"../../../__pv_it/axioms/040e9a1f9b739ee8859835262ddf22eb997ee4790/expr.ipynb\"><img src=\"data:image/png;base64,iVBORw0KGgoAAAANSUhEUgAAADsAAAATBAMAAADc9GjbAAAAMFBMVEX///8AAAAAAAAAAAAAAAAA\n",
       "AAAAAAAAAAAAAAAAAAAAAAAAAAAAAAAAAAAAAAAAAAAv3aB7AAAAD3RSTlMAIs1UmauJMnZmRLsQ\n",
       "3e++988cAAAACXBIWXMAAA7EAAAOxAGVKw4bAAABHklEQVQoz2NgAAEhBrxAH8FkhFCc+7+GBm2H\n",
       "sJn/I6RhBvFtYGCILwAzWeIFQBSXvgYDw3YOiLR8AwPDegcwMzEfrKx2uvUrZofTEOn5QKH5DWDr\n",
       "GvoNQHQgA8PafYtvQaTjgVgPbCgLg/0EEA1Sq/fJACL9moHh6HUwazFDfQLM3QpQBvvvjlZNCNOB\n",
       "QT4AKsq6AMrg+MjAYAc2k2OLS/wGqOhqmP+4HzAwsH0HsU4wMPBfADF87979e/fuVbA0P9A8zh8Q\n",
       "sxl4H0DDCuYGhnqgway/QIEBZDB9gAjywgOvH+inepA75UA2fYQIZsKl9YD6Hh1gYDj9X4eBef8n\n",
       "kKm+997ehdod/T80VNsALeLg3sIOqvFH+3b80gUYIgAmy0ZTyExn/wAAAABJRU5ErkJggg==\n",
       "\" style=\"display:inline;vertical-align:middle;\" /></a></span></td></tr>\n",
       "<tr><td>&nbsp;</td><td colspan=4 style=\"text-align:left\"><span style=\"font-size:20px;\"><a class=\"ProveItLink\" href=\"../../../../../../__pv_it/common/de55da274ba0f49c86925fbf3828021c04d27faf0/expr.ipynb\"><img src=\"data:image/png;base64,iVBORw0KGgoAAAANSUhEUgAAABAAAAAOBAMAAADUAYG5AAAAMFBMVEX///8AAAAAAAAAAAAAAAAA\n",
       "AAAAAAAAAAAAAAAAAAAAAAAAAAAAAAAAAAAAAAAAAAAv3aB7AAAAD3RSTlMAdrurzZkQ7zJUiSLd\n",
       "ZkQEbk8lAAAACXBIWXMAAA7EAAAOxAGVKw4bAAAAWklEQVQI12NgYBD6r2zkmsAABF8YGJjKgDTH\n",
       "RwYGTiBmYPwBxL+ADKYPQAzkMPArMDD0CzCAiV0nQZrkrVbdA9EM+gxQ8AVKc/yCMhj/QRksHyA0\n",
       "q/4nkBkMAGrBE2oHiyZAAAAAAElFTkSuQmCC\n",
       "\" style=\"display:inline;vertical-align:middle;\" /></a> : <a class=\"ProveItLink\" href=\"../../../__pv_it/axioms/040e9a1f9b739ee8859835262ddf22eb997ee4790/expr.ipynb\"><img src=\"data:image/png;base64,iVBORw0KGgoAAAANSUhEUgAAADsAAAATBAMAAADc9GjbAAAAMFBMVEX///8AAAAAAAAAAAAAAAAA\n",
       "AAAAAAAAAAAAAAAAAAAAAAAAAAAAAAAAAAAAAAAAAAAv3aB7AAAAD3RSTlMAIs1UmauJMnZmRLsQ\n",
       "3e++988cAAAACXBIWXMAAA7EAAAOxAGVKw4bAAABHklEQVQoz2NgAAEhBrxAH8FkhFCc+7+GBm2H\n",
       "sJn/I6RhBvFtYGCILwAzWeIFQBSXvgYDw3YOiLR8AwPDegcwMzEfrKx2uvUrZofTEOn5QKH5DWDr\n",
       "GvoNQHQgA8PafYtvQaTjgVgPbCgLg/0EEA1Sq/fJACL9moHh6HUwazFDfQLM3QpQBvvvjlZNCNOB\n",
       "QT4AKsq6AMrg+MjAYAc2k2OLS/wGqOhqmP+4HzAwsH0HsU4wMPBfADF87979e/fuVbA0P9A8zh8Q\n",
       "sxl4H0DDCuYGhnqgway/QIEBZDB9gAjywgOvH+inepA75UA2fYQIZsKl9YD6Hh1gYDj9X4eBef8n\n",
       "kKm+997ehdod/T80VNsALeLg3sIOqvFH+3b80gUYIgAmy0ZTyExn/wAAAABJRU5ErkJggg==\n",
       "\" style=\"display:inline;vertical-align:middle;\" /></a>, <a class=\"ProveItLink\" href=\"../../../../../../__pv_it/common/d72bb8b07403efe79afab564c36a28e21330e5f90/expr.ipynb\"><img src=\"data:image/png;base64,iVBORw0KGgoAAAANSUhEUgAAAA8AAAASBAMAAAB2sJk8AAAAMFBMVEX///8AAAAAAAAAAAAAAAAA\n",
       "AAAAAAAAAAAAAAAAAAAAAAAAAAAAAAAAAAAAAAAAAAAv3aB7AAAAD3RSTlMAIomZq2bNMhC7791E\n",
       "VHYkqjbgAAAACXBIWXMAAA7EAAAOxAGVKw4bAAAAgklEQVQI12NgYGBUVnJlAAG1AgaWBCDdNgFI\n",
       "LAbibJCoPwMD83cQQ7+AQR4kw2B/gMH+AoiRL8CwvwFIc/xiYPgFEmD9ysCwG8ToSgBp5LnAYCXA\n",
       "wFB/IVyUaSFQlG/hAyYXkAaGkknaBxgKwLZyHuATgDAcroFpBub/3yEM9l1AawBt/xzBtQnGvwAA\n",
       "AABJRU5ErkJggg==\n",
       "\" style=\"display:inline;vertical-align:middle;\" /></a> : <a class=\"ProveItLink\" href=\"../../../__pv_it/axioms/bb2eac1bdd2ce216d9324209ccfd47261e333bcc0/expr.ipynb\"><img src=\"data:image/png;base64,iVBORw0KGgoAAAANSUhEUgAAAFoAAAAVBAMAAAA0iOSIAAAAMFBMVEX///8AAAAAAAAAAAAAAAAA\n",
       "AAAAAAAAAAAAAAAAAAAAAAAAAAAAAAAAAAAAAAAAAAAv3aB7AAAAD3RSTlMAmd0iq3ZUiRDNZu9E\n",
       "uzLWhN+VAAAACXBIWXMAAA7EAAAOxAGVKw4bAAABeUlEQVQoz2NgQAADBryAGYXHmgCmLHGp5glA\n",
       "5qVDqPkQqmUTSDNEwdr/Li5zHzBEISnmmACm2P5DuKqv1IGkA4Szl4GB5R8DZwNCNeMCCOUPdj7r\n",
       "AoZOBwY+AYiLvwLd8ZGBSwChmhtCFdc/AFEsQOz54BDE41z/gBioYwdCdSbEmIB4sGfZQeb/3wOR\n",
       "YvnAwMC5mYFhFkK1OMQhDPkLEF6BWXuBgcMJaGUJQjVE4zGG9wUYYff+aqgnyIyVDEJKQKAIZKqB\n",
       "JQQY7MHhwKgEBpAwiTdgYNsFpLMhmk2AGOxG1ouC/hcwzL4NxCDPv0dT3crAwK+AofoLEK8HRtRp\n",
       "hGo1iEMYmDagK+b7BST8DzAwJEH4hkB8FZQUgH7h/IDubtbPQB0/QSkAYQIoeKyBmPczutmcQNtO\n",
       "z4AHMhg8YmDo/T+Dge3+T7QgZLn/xcXzGoilgxBkesBAADAj+R85zWAHjAuQOJcJqbZF5vQSUo1i\n",
       "HHMAfsWsBgwA6E9SmsnrJU0AAAAASUVORK5CYII=\n",
       "\" style=\"display:inline;vertical-align:middle;\" /></a></span></td></tr><tr><td><a name=\"0x7766c7bb26b25161_step2\">2</a></td><td>theorem</td><td></td><td><span style=\"font-size:20px;\"> <a class=\"ProveItLink\" href=\"../../../../../equality/_theory_nbs_/proofs/lhs_via_equality/thm_proof.ipynb\" style=\"text-decoration: none\">&nbsp;&#x22A2;&nbsp;&nbsp;</a><a class=\"ProveItLink\" href=\"../../../../../equality/__pv_it/theorems/031640b4b39fda11207f722712c88a33cea8f6040/expr.ipynb\"><img src=\"data:image/png;base64,iVBORw0KGgoAAAANSUhEUgAAAIwAAAAVBAMAAABmhxuGAAAAMFBMVEX///8AAAAAAAAAAAAAAAAA\n",
       "AAAAAAAAAAAAAAAAAAAAAAAAAAAAAAAAAAAAAAAAAAAv3aB7AAAAD3RSTlMAq1RmmUTNIjK7EInv\n",
       "3XZ/CtNrAAAACXBIWXMAAA7EAAAOxAGVKw4bAAABx0lEQVQ4y6VUPUsDQRQck5gzRmOEoKiNYGeV\n",
       "xk4lFqJgk0owlYUgCELE0kC0sVXRRpu7XxBErBRBtFMUPzohEO1EiBH8Dqhv97L3NmdAjQ/23s7s\n",
       "7Oztvr1DGBRdqDpuP1faJiwMiv5k9TZ4BgJHWKCesVy9S90H4PmA3wKCndXbhF6pFeGNAv5/7ClQ\n",
       "oEZWJ9ns8T9smuhAlnLAMLBRYdj3SxuymLugPAODil5rjgy0CvouP2S/bEmm8NjjdnPSmaxY4L5j\n",
       "t0fqrWCcUh+wR2k0iVRSs3Gw9wzBM+XisIBZojw5ecIRMiZASt8y2zCuiSFUUFMcVl4bO8b7xfMA\n",
       "OAfS87RugW0YN3SiMVyawSzqispma0rcwHfMxIAW6gb32YZx2jIi8K1TrGosQk/KJiUW8Z7muymJ\n",
       "0vvDbMO4N39jqRnMwq82ipp58bDZQ1FC7YgZN2tFZtZnvuX08jdEZVpDApdawRkfyln2pph1R5rM\n",
       "6zeRms0sRjUbG9OA8aKJWeX+wMwdOvUDGAPX7YZmY2MauC1arGZVxfBQq41lym6xxB63UqkqRkKs\n",
       "9HBVZiNxwq1Uqooh9zsdL7OR+PtBlFQ/hvGn38UXqIeD+S1ymPUAAAAASUVORK5CYII=\n",
       "\" style=\"display:inline;vertical-align:middle;\" /></a></span></td></tr>\n",
       "<tr><td>&nbsp;</td><td colspan=4 style-\"text-align:left\"><a class=\"ProveItLink\" href=\"../../../../../equality/_theory_nbs_/proofs/lhs_via_equality/thm_proof.ipynb\">proveit.logic.equality.lhs_via_equality</a></td></tr><tr><td><a name=\"0x7766c7bb26b25161_step3\">3</a></td><td>assumption</td><td></td><td><span style=\"font-size:20px;\"><a class=\"ProveItLink\" href=\"../../../__pv_it/axioms/bb2eac1bdd2ce216d9324209ccfd47261e333bcc0/expr.ipynb\"><img src=\"data:image/png;base64,iVBORw0KGgoAAAANSUhEUgAAAFoAAAAVBAMAAAA0iOSIAAAAMFBMVEX///8AAAAAAAAAAAAAAAAA\n",
       "AAAAAAAAAAAAAAAAAAAAAAAAAAAAAAAAAAAAAAAAAAAv3aB7AAAAD3RSTlMAmd0iq3ZUiRDNZu9E\n",
       "uzLWhN+VAAAACXBIWXMAAA7EAAAOxAGVKw4bAAABeUlEQVQoz2NgQAADBryAGYXHmgCmLHGp5glA\n",
       "5qVDqPkQqmUTSDNEwdr/Li5zHzBEISnmmACm2P5DuKqv1IGkA4Szl4GB5R8DZwNCNeMCCOUPdj7r\n",
       "AoZOBwY+AYiLvwLd8ZGBSwChmhtCFdc/AFEsQOz54BDE41z/gBioYwdCdSbEmIB4sGfZQeb/3wOR\n",
       "YvnAwMC5mYFhFkK1OMQhDPkLEF6BWXuBgcMJaGUJQjVE4zGG9wUYYff+aqgnyIyVDEJKQKAIZKqB\n",
       "JQQY7MHhwKgEBpAwiTdgYNsFpLMhmk2AGOxG1ouC/hcwzL4NxCDPv0dT3crAwK+AofoLEK8HRtRp\n",
       "hGo1iEMYmDagK+b7BST8DzAwJEH4hkB8FZQUgH7h/IDubtbPQB0/QSkAYQIoeKyBmPczutmcQNtO\n",
       "z4AHMhg8YmDo/T+Dge3+T7QgZLn/xcXzGoilgxBkesBAADAj+R85zWAHjAuQOJcJqbZF5vQSUo1i\n",
       "HHMAfsWsBgwA6E9SmsnrJU0AAAAASUVORK5CYII=\n",
       "\" style=\"display:inline;vertical-align:middle;\" /></a> <a class=\"ProveItLink\" href=\"../../../__pv_it/_proof_fold_set_not_equiv/bb8eb5e8fd4ad9026cbe08e905191e0c7ec607a50/proof.ipynb\" style=\"text-decoration: none\">&nbsp;&#x22A2;&nbsp;&nbsp;</a><a class=\"ProveItLink\" href=\"../../../__pv_it/axioms/bb2eac1bdd2ce216d9324209ccfd47261e333bcc0/expr.ipynb\"><img src=\"data:image/png;base64,iVBORw0KGgoAAAANSUhEUgAAAFoAAAAVBAMAAAA0iOSIAAAAMFBMVEX///8AAAAAAAAAAAAAAAAA\n",
       "AAAAAAAAAAAAAAAAAAAAAAAAAAAAAAAAAAAAAAAAAAAv3aB7AAAAD3RSTlMAmd0iq3ZUiRDNZu9E\n",
       "uzLWhN+VAAAACXBIWXMAAA7EAAAOxAGVKw4bAAABeUlEQVQoz2NgQAADBryAGYXHmgCmLHGp5glA\n",
       "5qVDqPkQqmUTSDNEwdr/Li5zHzBEISnmmACm2P5DuKqv1IGkA4Szl4GB5R8DZwNCNeMCCOUPdj7r\n",
       "AoZOBwY+AYiLvwLd8ZGBSwChmhtCFdc/AFEsQOz54BDE41z/gBioYwdCdSbEmIB4sGfZQeb/3wOR\n",
       "YvnAwMC5mYFhFkK1OMQhDPkLEF6BWXuBgcMJaGUJQjVE4zGG9wUYYff+aqgnyIyVDEJKQKAIZKqB\n",
       "JQQY7MHhwKgEBpAwiTdgYNsFpLMhmk2AGOxG1ouC/hcwzL4NxCDPv0dT3crAwK+AofoLEK8HRtRp\n",
       "hGo1iEMYmDagK+b7BST8DzAwJEH4hkB8FZQUgH7h/IDubtbPQB0/QSkAYQIoeKyBmPczutmcQNtO\n",
       "z4AHMhg8YmDo/T+Dge3+T7QgZLn/xcXzGoilgxBkesBAADAj+R85zWAHjAuQOJcJqbZF5vQSUo1i\n",
       "HHMAfsWsBgwA6E9SmsnrJU0AAAAASUVORK5CYII=\n",
       "\" style=\"display:inline;vertical-align:middle;\" /></a></span></td></tr>\n",
       "<tr><td><a name=\"0x7766c7bb26b25161_step4\">4</a></td><td>instantiation</td><td><a href=\"#0x7766c7bb26b25161_step5\">5</a></td><td><span style=\"font-size:20px;\"> <a class=\"ProveItLink\" href=\"../../../__pv_it/_proof_fold_set_not_equiv/24edf29d73bd63828f995a7a1e6fbeacb00839ce0/proof.ipynb\" style=\"text-decoration: none\">&nbsp;&#x22A2;&nbsp;&nbsp;</a><a class=\"ProveItLink\" href=\"../../../__pv_it/axioms/b0bcc8f24b80642a25521f93ec65bd4aafc04ce50/expr.ipynb\"><img src=\"data:image/png;base64,iVBORw0KGgoAAAANSUhEUgAAANEAAAAVBAMAAAAqbRZ+AAAAMFBMVEX///8AAAAAAAAAAAAAAAAA\n",
       "AAAAAAAAAAAAAAAAAAAAAAAAAAAAAAAAAAAAAAAAAAAv3aB7AAAAD3RSTlMAInZUiRDNmWbv3US7\n",
       "qzJazP2FAAAACXBIWXMAAA7EAAAOxAGVKw4bAAAC5klEQVRIx4VVTWgTURCeZLNp/luKCIrQqJce\n",
       "1ORQCpVC682LGDx4ilDEggG1ORRaCoWeLIjYXPRgPURyqsUS7EVFMPYiXpJ4EQRDchOCkPpD0doa\n",
       "583s275923YffJm3szPfzJuZfQGAPjh0+fZT9nkZaLZk70/T89GDDKNJt87y4XWa400cRPDCAgzx\n",
       "85QryVBtt/GpCjDodh5S9sY4ieAmCfNzSWSiEvgXgGByLkZ3z1ceL1wBaLYgmNEDmWr+V1mMcaTI\n",
       "uXsYOe4gmMQtomeBlD1NKmV06jpAlVOCAazb2zyE8noky4fXLIv57yQGwbwN8NVBsIhbRJiVFy63\n",
       "hGg/GF028lnWLaFqCY0f6pHC6kOBfgNH/pGs44HuRJ86CMJYFMQwtyaZoiZ/BHj9YX2VDZuIHB71\n",
       "ph5pWG0TV7Lf/5OkaFrqT9lBEMQSIKa5HjBGFRFzltuyJusJwLU1lJf0SNNqJXkg8sbvPZ1srEUQ\n",
       "qBM44XXojMvJk+1O7Jw6S2/vEuMzWnWxVw8ZpAyj6cQv14RKgtAEocQpwUDdeh8vy48GezwieEZ0\n",
       "ipIMjLMSSXNNfLv0ao70zx0ERoGwTLr3M82KRfNG8sXQICD63NEjLcvjY3ZhSuzMzPyO60ySILFJ\n",
       "IK8rAL1FK6VtmVIv8oR+4OaVZyQT+7vtiiQJogVCiYsHkYJ1M8h+QQcPHv+Lm/N6n0pKJKpeD2LF\n",
       "FUkSGEXChujngn2bQMQ2TOGAd8R43NcpNmQkzDAmxvWlfZ2pfZIEoQpBjPAxUVT+xuGizZfDFB5l\n",
       "tKGmpY69GGGfqEfN9Z8gCcSHgGgDZLuTYNS2RNnmVh7LlL50G41bNFirOkVbHeUimLWtDIx2b2hW\n",
       "NkGkTIi0HK/tGVeu9qKucfisgdc6ztDuz29uQ8d9ylOj+ix6Rpq18M6hrboNT7hVqk/M4z8bfBUG\n",
       "ZB3q1uG01lJ9zIpHJJEKpeNLHm7o3ydnh0+/R6STjP8QRNfupEdOJQAAAABJRU5ErkJggg==\n",
       "\" style=\"display:inline;vertical-align:middle;\" /></a></span></td></tr>\n",
       "<tr><td>&nbsp;</td><td colspan=4 style=\"text-align:left\"><span style=\"font-size:20px;\"><a class=\"ProveItLink\" href=\"../../../../../../__pv_it/common/09585084922504426caf1db2ff588a23a0932a960/expr.ipynb\"><img src=\"data:image/png;base64,iVBORw0KGgoAAAANSUhEUgAAAA8AAAAPBAMAAADJ+Ih5AAAAMFBMVEX///8AAAAAAAAAAAAAAAAA\n",
       "AAAAAAAAAAAAAAAAAAAAAAAAAAAAAAAAAAAAAAAAAAAv3aB7AAAAD3RSTlMAIs1UmauJMnZmRLsQ\n",
       "3e++988cAAAACXBIWXMAAA7EAAAOxAGVKw4bAAAAXklEQVQI12NgAAEhBijQh9LM/6EMlngBCCMx\n",
       "vwBMMzb0G0BkGOwngBmLGeoTwAwHBvkAEM2xxSV+A4hxgoGB/wJEhoH3AZDmAupg+gBkyAEx90cG\n",
       "htP/dRiY939KAABt3hLO6mcEjQAAAABJRU5ErkJggg==\n",
       "\" style=\"display:inline;vertical-align:middle;\" /></a> : <a class=\"ProveItLink\" href=\"../../../../../../__pv_it/common/09585084922504426caf1db2ff588a23a0932a960/expr.ipynb\"><img src=\"data:image/png;base64,iVBORw0KGgoAAAANSUhEUgAAAA8AAAAPBAMAAADJ+Ih5AAAAMFBMVEX///8AAAAAAAAAAAAAAAAA\n",
       "AAAAAAAAAAAAAAAAAAAAAAAAAAAAAAAAAAAAAAAAAAAv3aB7AAAAD3RSTlMAIs1UmauJMnZmRLsQ\n",
       "3e++988cAAAACXBIWXMAAA7EAAAOxAGVKw4bAAAAXklEQVQI12NgAAEhBijQh9LM/6EMlngBCCMx\n",
       "vwBMMzb0G0BkGOwngBmLGeoTwAwHBvkAEM2xxSV+A4hxgoGB/wJEhoH3AZDmAupg+gBkyAEx90cG\n",
       "htP/dRiY939KAABt3hLO6mcEjQAAAABJRU5ErkJggg==\n",
       "\" style=\"display:inline;vertical-align:middle;\" /></a>, <a class=\"ProveItLink\" href=\"../../../../../../__pv_it/common/a9162d1c3cc0470c02e5daf414500903a7a419230/expr.ipynb\"><img src=\"data:image/png;base64,iVBORw0KGgoAAAANSUhEUgAAABAAAAAOBAMAAADUAYG5AAAAMFBMVEX///8AAAAAAAAAAAAAAAAA\n",
       "AAAAAAAAAAAAAAAAAAAAAAAAAAAAAAAAAAAAAAAAAAAv3aB7AAAAD3RSTlMAZrurzTLvInZEmRDd\n",
       "VIkafcLnAAAACXBIWXMAAA7EAAAOxAGVKw4bAAAAb0lEQVQI12NgYBD6b2zsFMAABEkMDMxfgTT7\n",
       "DwYGzl9ABiOQxwjkMDB/YGBgSQcy2BQYuG1AiuM1OkwEQJr6Cxh4E0EMNSB+D5L6DMTyDQwMrB+B\n",
       "DPsJDAwc34GcL0AOSwIDwzRvoHH6n41NdBkYAF/iFeJ4bEa2AAAAAElFTkSuQmCC\n",
       "\" style=\"display:inline;vertical-align:middle;\" /></a> : <a class=\"ProveItLink\" href=\"../../../../../../__pv_it/common/a9162d1c3cc0470c02e5daf414500903a7a419230/expr.ipynb\"><img src=\"data:image/png;base64,iVBORw0KGgoAAAANSUhEUgAAABAAAAAOBAMAAADUAYG5AAAAMFBMVEX///8AAAAAAAAAAAAAAAAA\n",
       "AAAAAAAAAAAAAAAAAAAAAAAAAAAAAAAAAAAAAAAAAAAv3aB7AAAAD3RSTlMAZrurzTLvInZEmRDd\n",
       "VIkafcLnAAAACXBIWXMAAA7EAAAOxAGVKw4bAAAAb0lEQVQI12NgYBD6b2zsFMAABEkMDMxfgTT7\n",
       "DwYGzl9ABiOQxwjkMDB/YGBgSQcy2BQYuG1AiuM1OkwEQJr6Cxh4E0EMNSB+D5L6DMTyDQwMrB+B\n",
       "DPsJDAwc34GcL0AOSwIDwzRvoHH6n41NdBkYAF/iFeJ4bEa2AAAAAElFTkSuQmCC\n",
       "\" style=\"display:inline;vertical-align:middle;\" /></a></span></td></tr><tr><td><a name=\"0x7766c7bb26b25161_step5\">5</a></td><td>axiom</td><td></td><td><span style=\"font-size:20px;\"> <a class=\"ProveItLink\" href=\"../../axioms.ipynb#set_not_equiv_def\" style=\"text-decoration: none\">&nbsp;&#x22A2;&nbsp;&nbsp;</a><a class=\"ProveItLink\" href=\"../../../__pv_it/axioms/9437f7172aa913560deca1c56b1db5fda3c9a51d0/expr.ipynb\"><img src=\"data:image/png;base64,iVBORw0KGgoAAAANSUhEUgAAARkAAAAWBAMAAAAGH/VFAAAAMFBMVEX///8AAAAAAAAAAAAAAAAA\n",
       "AAAAAAAAAAAAAAAAAAAAAAAAAAAAAAAAAAAAAAAAAAAv3aB7AAAAD3RSTlMAq1RmmUTNIjK7EInv\n",
       "3XZ/CtNrAAAACXBIWXMAAA7EAAAOxAGVKw4bAAAD4klEQVRIx8VWS0iUURQ+M+M8/EfHEcJqETMQ\n",
       "BFHRLERqUSpaJBGJbSp6GBGRSdomiEwnWrkQJYIkRMeN4KLQWrRwkRX2pJikQMiJqRYRhK9s1MSm\n",
       "c+7rf8w/M8sOfHP/ufeec7/z+u8PkFNaBXKIN5tezg02Z+Q5ByAQ5kC5km2PO2mvp+Qr59SYzcAp\n",
       "A4I0sTnLxm0CKC0ZzroG5kvLegG+2etJcY6wwTPHhsG3RJQ7sDtdWnohCoEIKOyj+fP2ZLRGDrKZ\n",
       "1qdlmIp6AEJR8MTs9JQM8WEnZ/P55icZAoBXAI5lgCZQuEHO9tizKYhw0GOIpdXdcgmgN8CXO9DF\n",
       "01XgqrLTU1LDh+ollsIIDAXBxzW8f9HgIkA5KJBn/rA9myIBlEePozR07do64awa5nOVOFWJjF7b\n",
       "6SkZZ7/+a8s0OBBl0ZO8YF045UJGRTEFF/rhyVI2WwTQjeQsY7we4GRfw0e+HEI0o+GzdnqqbHjW\n",
       "2gMLjBTFJz3BlxyYPM8LRETH20TiTRY2BwUw9rCTRZ/KrzkVVmkfnMJx1E5PZY0XcZXzl15Wet1p\n",
       "mzC+/qCOAwB32WJGMTKnueMN0D0iO0qWqG9l5gtbrWCnJpgEAczB8jAv3GHfaob57v6ZMlp1Neq4\n",
       "DF5mQnvJtnQujtVFxfZJAXQNOkQfgKNevlSwLreTte3WYyYlOazW4jCPrXfeyhlmW8H5jJI5rqMw\n",
       "5mf2/Qu8tOIQGBdWJwQgcLs2JPvumDyzELf5qTa7rWwmZBjx1CJm/Edt9UpGbPoQ1By+OR3OJC/i\n",
       "o++469iyc1Y29wFK4vRwKJFYSyTes9WSIG8JOJGXjYb1tpbBhqJFPeke1wGNe9la8gwvrTDci1gz\n",
       "RREXAXONqLTjNsdvfNhhzcGkgQ3LVAFi2krGR3UdQrLOuA540MSSAfv5K+1b+Qa5v1/AHVFvdihW\n",
       "1jDt0E0lvdt6Tr9kg14UUhsekVeLkTPVnS9FDvbogDa2dhR+Mgt7QFsnrY4KtFGVLPG5h+rMZqT5\n",
       "PGZpaKUnhdrWS3EdsN7RHpw90SReAhLgYC10cCzEWhypdMiu6eIYTjeBcyBFew9N4+uJ181GuvNY\n",
       "w3y0suky5iMO2kAqBlvTF82bHHTp3mLhrtch2hVJMFZP8e6RHV4c5TDaqM/8wIlbZ0w6U/k+W+C6\n",
       "AVwwsyVhbQS8f0D7ICfpPrTciZ32d6tZTDrlednUGMAtPgHt8DnfU6hYHavT79A7Arr0Zhq7mjll\n",
       "1CnM901HXxASJnFa/g8L6BLNfbRBT91KPXnYEF0Jkxy30k5y5PxatfHdpNOeh813A0wSgf8r/wAu\n",
       "HRcDmrsnNQAAAABJRU5ErkJggg==\n",
       "\" style=\"display:inline;vertical-align:middle;\" /></a></span></td></tr>\n",
       "<tr><td>&nbsp;</td><td colspan=4 style-\"text-align:left\"><a class=\"ProveItLink\" href=\"../../axioms.ipynb#set_not_equiv_def\">proveit.logic.sets.equivalence.set_not_equiv_def</a></td></tr></table>"
      ],
      "text/plain": [
       "\tstep type\trequirements\tstatement\n",
       "0\tgeneralization\t1\t|- forall_{A, B | [not](A equiv B)} (A not_equiv B)\n",
       "1\tinstantiation\t2, 3, 4\t{[not](A equiv B)} |- A not_equiv B\n",
       "\tP : A not_equiv B, Q : [not](A equiv B)\n",
       "2\ttheorem\t\t|- forall_{P, Q | Q, P = Q} P\n",
       "\tproveit.logic.equality.lhs_via_equality\n",
       "3\tassumption\t\t{[not](A equiv B)} |- [not](A equiv B)\n",
       "4\tinstantiation\t5\t|- (A not_equiv B) = [not](A equiv B)\n",
       "\tA : A, B : B\n",
       "5\taxiom\t\t|- forall_{A, B} ((A not_equiv B) = [not](A equiv B))\n",
       "\tproveit.logic.sets.equivalence.set_not_equiv_def"
      ]
     },
     "execution_count": 6,
     "metadata": {},
     "output_type": "execute_result"
    }
   ],
   "source": [
    "%qed"
   ]
  },
  {
   "cell_type": "code",
   "execution_count": null,
   "metadata": {},
   "outputs": [],
   "source": []
  }
 ],
 "metadata": {
  "kernelspec": {
   "display_name": "Python 3",
   "language": "python",
   "name": "python3"
  }
 },
 "nbformat": 4,
 "nbformat_minor": 0
}