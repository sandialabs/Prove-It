{
 "cells": [
  {
   "cell_type": "markdown",
   "metadata": {},
   "source": [
    "Proof of <a class=\"ProveItLink\" href=\"../../../../../../_theory_nbs_/theory.ipynb\">proveit</a>.<a class=\"ProveItLink\" href=\"../../../../../_theory_nbs_/theory.ipynb\">logic</a>.<a class=\"ProveItLink\" href=\"../../../../_theory_nbs_/theory.ipynb\">sets</a>.<a class=\"ProveItLink\" href=\"../../theory.ipynb\">equivalence</a>.<a class=\"ProveItLink\" href=\"../../theorems.ipynb#left_membership_via_right\">left_membership_via_right</a> theorem\n",
    "========"
   ]
  },
  {
   "cell_type": "code",
   "execution_count": 1,
   "metadata": {},
   "outputs": [],
   "source": [
    "import proveit\n",
    "theory = proveit.Theory() # the theorem's theory"
   ]
  },
  {
   "cell_type": "code",
   "execution_count": 2,
   "metadata": {},
   "outputs": [
    {
     "data": {
      "text/html": [
       "With these <a href=\"allowed_presumptions.txt\">allowed</a>/<a href=\"disallowed_presumptions.txt\">disallowed</a> theorem/theory presumptions (e.g., to avoid circular dependencies), we begin our proof of<br><strong id=\"left_membership_via_right\">left_membership_via_right:</strong> <a class=\"ProveItLink\" href=\"../../../__pv_it/theorems/64dbae21cac019361162d0f6bfd3d42f2fbf9d770/expr.ipynb\"><img src=\"data:image/png;base64,iVBORw0KGgoAAAANSUhEUgAAAPYAAAAXBAMAAADKJK/cAAAAMFBMVEX///8AAAAAAAAAAAAAAAAA\n",
       "AAAAAAAAAAAAAAAAAAAAAAAAAAAAAAAAAAAAAAAAAAAv3aB7AAAAD3RSTlMAq1RmmUTNIjK7EInv\n",
       "3XZ/CtNrAAAACXBIWXMAAA7EAAAOxAGVKw4bAAADLUlEQVRIx7WWX0gUQRzHv94f925PVyEfqhcP\n",
       "6rHoKDF6ME+yPyaVFIT9gS4jAgm8XoJAuuuxDIxI8oLyhAgsDBOjh4u6hCCK4qCCXhbWrIckLaJS\n",
       "CrKZ3+y6c6e35kIDdzvz+85vPrO/+c3sAC6LpiedOyiLaJPv3KIRalmkw/tiwmnAb7DnfVTy5io3\n",
       "bGdPz1AxpYP9xom9lTdPuGE7e94qOqlZ9lea5uxzPPyX3LCdPbcUE3zVccAb5Ww+g1DYDdvZM5vX\n",
       "+qTrMbP64DFP0uec7Y2wCLjKNUdPT0xu7Z+wU9z4wud7jLPxUtdfuMtzJ08fSzV1amXXMPHaJQHr\n",
       "2Jxxj9g7gGtkTRd4W5V0Mfac5wKlNMJHGDN2USNuC3vRzXdALbFPQaHdoj4j7fz3TBOdGkGzs2nn\n",
       "JdDXPNJrsy3PheRyFtiNqE8vI7bUKYoEd1pD7GBaHBOhb6R5c9CyMpvbH7YxgdXrgM822/Lk2LFU\n",
       "S55cxppJbBONizorYkdoVxqrea2b2B5DTKv1FT1KovB+ldnM7tl5YAghVq8C6m225clKI4VKksto\n",
       "VmJIDNivfReoyLHnYWIjtpmsxlHhFMZgRGYzO1v6hgv8KBmF+lo6U8lzavuHuEYessxjDv80blND\n",
       "DjnKeVjXCvYwZaFmBigxXrMcEpvbWbi9J9kRrPzZ0JCU2NxTi68oDYsXk+WgAbWnJAs6WTXDQvv5\n",
       "vuRh3STYnZQwreZS1UGtktlkb0qxEuG50B+V2NzTixsB7LNSxZYr4Zm5mfWLs6fNYnfygafZX7Ng\n",
       "l9BcmzPVaXPNEi0S27KbuaD8kNjCkw1Vy6YWzpMDOai7jdXrRau/R4wxMNsOT99PFoy3gm2GFomk\n",
       "WDMckfbYnN3MBf9M4Tc0kFXQNU9G/tf50HU976BTchKbRa0irA5B+QX1jRRzslsxT6QxGC1gd4Zi\n",
       "PrbbKFUkGTWOp6IvYrN9T6DuOR4YRe3vTFPYZgu72cnbkRm5XHh38H18NAGlt1BGMO7EPgPpvc0v\n",
       "gFQPLuXecieVKrjHqI7f5avz2QeXwF7svnbW6bLHgjL5NN8W+Xf2fy3Kfyf8Bc4H4Ng5snvXAAAA\n",
       "AElFTkSuQmCC\n",
       "\" style=\"display:inline;vertical-align:middle;\" /></a><br>(see <a class=\"ProveItLink\" href=\"../../../__pv_it/theorems/0a42f8b539357e70245cafa38793dbbb6d1b1fc20/dependencies.ipynb\">dependencies</a>)<br>"
      ],
      "text/plain": [
       "<IPython.core.display.HTML object>"
      ]
     },
     "metadata": {},
     "output_type": "display_data"
    },
    {
     "name": "stdout",
     "output_type": "stream",
     "text": [
      "left_membership_via_right may now be readily provable (assuming required theorems are usable).  Simply execute \"%qed\".\n"
     ]
    }
   ],
   "source": [
    "%proving left_membership_via_right"
   ]
  },
  {
   "cell_type": "code",
   "execution_count": null,
   "metadata": {},
   "outputs": [],
   "source": []
  }
 ],
 "metadata": {
  "kernelspec": {
   "display_name": "Python 3",
   "language": "python",
   "name": "python3"
  }
 },
 "nbformat": 4,
 "nbformat_minor": 0
}