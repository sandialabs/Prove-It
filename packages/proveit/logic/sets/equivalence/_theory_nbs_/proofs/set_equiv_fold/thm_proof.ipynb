{
 "cells": [
  {
   "cell_type": "markdown",
   "metadata": {},
   "source": [
    "Proof of <a class=\"ProveItLink\" href=\"../../../../../../_theory_nbs_/theory.ipynb\">proveit</a>.<a class=\"ProveItLink\" href=\"../../../../../_theory_nbs_/theory.ipynb\">logic</a>.<a class=\"ProveItLink\" href=\"../../../../_theory_nbs_/theory.ipynb\">sets</a>.<a class=\"ProveItLink\" href=\"../../theory.ipynb\">equivalence</a>.<a class=\"ProveItLink\" href=\"../../theorems.ipynb#set_equiv_fold\">set_equiv_fold</a> theorem\n",
    "========"
   ]
  },
  {
   "cell_type": "code",
   "execution_count": 1,
   "metadata": {},
   "outputs": [],
   "source": [
    "import proveit\n",
    "from proveit import defaults\n",
    "from proveit.logic.sets.equivalence  import set_equiv_def\n",
    "theory = proveit.Theory() # the theorem's theory"
   ]
  },
  {
   "cell_type": "code",
   "execution_count": 2,
   "metadata": {},
   "outputs": [
    {
     "data": {
      "text/html": [
       "With these <a href=\"allowed_presumptions.txt\">allowed</a>/<a href=\"disallowed_presumptions.txt\">disallowed</a> theorem/theory presumptions (e.g., to avoid circular dependencies), we begin our proof of<br><strong id=\"set_equiv_fold\">set_equiv_fold:</strong> <a class=\"ProveItLink\" href=\"../../../__pv_it/theorems/206dd758e7fc3f8531e25faa88c1366cdb879a030/expr.ipynb\"><img src=\"data:image/png;base64,iVBORw0KGgoAAAANSUhEUgAAASMAAAAXBAMAAACykjQRAAAAMFBMVEX///8AAAAAAAAAAAAAAAAA\n",
       "AAAAAAAAAAAAAAAAAAAAAAAAAAAAAAAAAAAAAAAAAAAv3aB7AAAAD3RSTlMAq1RmmUTNIjK7EInv\n",
       "3XZ/CtNrAAAACXBIWXMAAA7EAAAOxAGVKw4bAAAD3klEQVRIx71XTWgTQRT+kjTJ7kbXFqTag3RF\n",
       "QbxoDq0gokZsrUXQgBf/rYJI68F4EURtI56KokGQuiJ2vRREhKIgakGrIiqi9OBB0Eq0SlGkWhV/\n",
       "0fpmJjszTSLRgxlmdybvzXv7zXvfvN0A5W3REvoUyt5eCGAtf9JvoquSTWaUC1Gwlw+R93w488Ch\n",
       "e5bP549VVbWmYceBRvZ7e7kg9YhhroD07OATPyjAPSDwFWgDDrA4ZsoFaakYlnxhd4pITyWMhMjl\n",
       "LyD8CaijGHpAzCkXpH5+j+39yoYAXdXpjYLRIRKFCNYEDyFKXqRsVBK0brc/cGQsUmO3hSpAuYzc\n",
       "oYvwPBgcvF8uSBWC3YngRymycuOEDKxpacJJ1FoOnORCL8+82C5TrI9rHmzt16wCE1ueKYgQEGUc\n",
       "40fBuqOnR6qZNkSB3IUo57x1l6s6P/U1p9nE5LH1xmGr511vzCohf4WSuk64SmgeJjpis9FRPg7y\n",
       "Jk7cO9rtLbZropvpxbij2AfhdQB2v4QUpg2eUc+vZF0047mbzFmtlwvk0iM1x31XpA33+tnhT3rd\n",
       "sORbQZRO0XWdYmEQp4JZwe41DwXNEgi9l5BAYbyscplkXbSGtLSKyJQ3+guXK1dM26ZDsmibPwsg\n",
       "sbgtJk2YxaNlEZdltwgrB+fjCtI811VFayLvGGl6mbLjkFaqhgwQd162N2FIc8W0F/TEsTQ+zUdk\n",
       "MMLXEuIg+cCFNkHDZVzXMVQ3FQqSCVsVrd2826maiHPWJy9ZBRNodqnF2atrOJDZamU0V6TFzJwD\n",
       "kxF9NV0787lkU/E0PjPiMNt9XLYGb7nVQliTNUixtFa01vIewmmD+/Wtwn4c2SRuZtPhuOaKCdfm\n",
       "FrATHmWZ6c5/40dIuqHNrxMBzooVfbWcEuSkI6kgWZVzlN103oEvPKGuk7MyfEhBtrlJKYRaXfeY\n",
       "74ppO/30DMDq/uxh9tiO8YgC3aNV1cd4bpNa+ejg0G4Cm1URAKachLFgSJzzTuHc6I/ikGYlE8ex\n",
       "HUbKECdMuNITh8clq+l+OaNETHKsXkS/w3qkJQ6ddGyMTK9G732xlgoqHdIKdlbRO9p/iSoRr705\n",
       "V0w74i+o+9sXM2XwBqxV24ybmPejr9nRIZkpyGfSnHrFq2tvED0hrfgS0bqAletHPOxhcc65Ytou\n",
       "f4FZ6qux4KMkqM1N9U4w04KvVPJk1Tvnun7Wz8qVftG0rrjHobSWfI5V6jOoAPO6opACiy6Kuogm\n",
       "3vObElWkimo1cXsJSMP5gnhRSKrRKy/m5Qv1F9tVFNPW/8//El7BB4P6vMifK4n3Tw/+DYDq/ZXU\n",
       "CZDkAAAAAElFTkSuQmCC\n",
       "\" style=\"display:inline;vertical-align:middle;\" /></a><br>(see <a class=\"ProveItLink\" href=\"../../../__pv_it/theorems/b46a6776b7147829fcbedfa19805b895e3f7281b0/dependencies.ipynb\">dependencies</a>)<br>"
      ],
      "text/plain": [
       "<IPython.core.display.HTML object>"
      ]
     },
     "metadata": {},
     "output_type": "display_data"
    }
   ],
   "source": [
    "%proving set_equiv_fold"
   ]
  },
  {
   "cell_type": "code",
   "execution_count": 3,
   "metadata": {},
   "outputs": [
    {
     "data": {
      "text/html": [
       "<strong id=\"defaults.assumptions\">defaults.assumptions:</strong> <a class=\"ProveItLink\" href=\"../../../__pv_it/_proof_set_equiv_fold/1e65d4dbe6a2a0111a5ee26884ce1eae2652581d0/expr.ipynb\"><img src=\"data:image/png;base64,iVBORw0KGgoAAAANSUhEUgAAAOMAAAAVBAMAAABGa0R7AAAAMFBMVEX///8AAAAAAAAAAAAAAAAA\n",
       "AAAAAAAAAAAAAAAAAAAAAAAAAAAAAAAAAAAAAAAAAAAv3aB7AAAAD3RSTlMAInZUiRDNmWbv3US7\n",
       "qzJazP2FAAAACXBIWXMAAA7EAAAOxAGVKw4bAAADEklEQVRIx41VS2gTQRj+ks07TQwehIpiTBEF\n",
       "lXoo9XHx0atiENRLhagEPAhWEZUKUhXsRWgUBVEPgYKH9UHxBb21FRHbQ3uxiLQ0By8K0sZD9dLW\n",
       "/5/dnZ2d7S4OfJvZL9/MP/O/FkAB/sFcBMEj8p+cZ0MHiO7yCwTXFrR8HZAt+um2MJOvFaADU/yz\n",
       "RxV0EIwDQcsvELb52AD93ZXZ2fMNRPsgEa/gOv91WpERB5wIsmis0CNR1ukg/VMgtwxUIZHswy8O\n",
       "xIiiIg64FmQyOUcBSfXodIA+8pvC8Afoh0TaOnFMjWiaHzVPcMfNZ8784NEGPR/qe3v02GGaFTFJ\n",
       "0Q1TZDZdlugkhi6VUPWd7L6KQmTPuH6MFNv5eOd0d6t6vN/izHILtPk9Qp/EZaIfm+YDdQFzScqG\n",
       "eOnL9y6Ro0rkktjPfj+iu1vVR6qux0YQ/0ZuiU1J8GlvAB/V5czxiZLYWezVc+sN5jk37/C81+Tx\n",
       "Ero+4db6/Fhpmo+YqkgM0utGRKZUk8xlyHs3MVD+yoTqtB5sYvFe7ZYevRKm9gKMR+z4msQTem0p\n",
       "x4bU5cyliWnginjPk+fNF3Yifbo6x9k9r5lU9fjBl7dq4DOB8y2/IMHbG0VP9kiTwH2rTpUKOgas\n",
       "qdPv8ComHT26XX6JMEC9KluTGBSOu0WP0sWtBa9jkW3iOBN11a/IcD3s02Lp0WekPP+XHnN0HKMu\n",
       "McZ/dFGGRQszCbs4mWspIj6Rq0G0sZJbLpznC9zItFt69FHZgqNNMrvI6TMiIZK9lRIihbG8rWOO\n",
       "ktlYPlnLilMkZKNo5d2bdiGpw6PHWYdOkEeGq3YR2fgp6pX7CZqOjrl8HfFLxd23rWDOvLODtFKF\n",
       "MblIS59rJj16nJqwKjk3uTQ7/UH4ekgi05CLas4XT3Cv1A2zh92GZ/Wgut7wPHq8HTc97QjrXcj+\n",
       "3BqrJO2p4PrDPn9W5/eMcL3o+g5GnU22H5KNkbmWQtgOG3xMuJ6/VA7UGpKjWytG/xj1MeF6PpAD\n",
       "+jKscibm1obsEF3lSmF6bHbxDxTN0RHKO7m1AAAAAElFTkSuQmCC\n",
       "\" style=\"display:inline;vertical-align:middle;\" /></a><br>"
      ],
      "text/plain": [
       "<IPython.core.display.HTML object>"
      ]
     },
     "metadata": {},
     "output_type": "display_data"
    }
   ],
   "source": [
    "defaults.assumptions = set_equiv_fold.conditions"
   ]
  },
  {
   "cell_type": "code",
   "execution_count": 4,
   "metadata": {},
   "outputs": [
    {
     "data": {
      "text/html": [
       "<span style=\"font-size:20px;\"> <a class=\"ProveItLink\" href=\"../../axioms.ipynb#set_equiv_def\" style=\"text-decoration: none\">&nbsp;&#x22A2;&nbsp;&nbsp;</a><a class=\"ProveItLink\" href=\"../../../__pv_it/axioms/a526f1ab8a886b46cea1848b9b6f2e135fcc6d080/expr.ipynb\"><img src=\"data:image/png;base64,iVBORw0KGgoAAAANSUhEUgAAAY4AAAAWBAMAAAAlaGbVAAAAMFBMVEX///8AAAAAAAAAAAAAAAAA\n",
       "AAAAAAAAAAAAAAAAAAAAAAAAAAAAAAAAAAAAAAAAAAAv3aB7AAAAD3RSTlMAq1RmmUTNIjK7EInv\n",
       "3XZ/CtNrAAAACXBIWXMAAA7EAAAOxAGVKw4bAAAFA0lEQVRYw9VXa2gcVRQ+u7PP2c0kQSlWqllQ\n",
       "CmK1i4ZKf9Rsqa8SW4OClLbYbUXUWnT7RyhqsoJ/1EoWoVSKbbZQxApKLIwg+eG2Ep8oq/iI0IGJ\n",
       "EaJit6nWNm3Veu45d3Z35t6dBP954OPcPXvnu/fc85g7AGGSlAiTkmKxnPJ/oCot0hYkPDW14Bbh\n",
       "Rwl8othpzkOKJTMUSqXbU1HHA1YuZG9xlwE2qR5hu04/NTrOQEnMkTKXfS34abz6cm/v42Ww8qof\n",
       "EXo6r6fSiGBXeeBG7WRj7EzvktcAZoBhk7pT/PWonv4NCZSV7EfXz2twMxG2fYqjeYCdqh8xEZFE\n",
       "SU+lEWJXeMwOOZCtAPSVIVEFgk3qeRHWiv6BdRIoa8+TmgFzO8ALnAz/YGDPAvSrfqRElPd0oNII\n",
       "sSs8sbx+9gim0bYCGAUg2KSER5kOeViTwBnPzJPG/UUei3/P8UWTgb5kq2p9iLM9pqfy5BfH8c6b\n",
       "2RWerL9YDjrf8WgA28gA+vIZEGxSBjqd6FAeRQbKsPU7aZHhp//iOo5gMiQ+RuRVP25FVdRTSXnw\n",
       "19aY2RWe5b6yfrLpZh9iFybtw0CwWX3hOJ/r/YiNM1AK0T9a9mozTc1r8GgyPaofWcc5Oa6hMhtX\n",
       "v0xxSrZXA7MrPIOId6bfnKBseboVLazLw1Oo32XYrO4BONC+vbYukvcOKZ5LXVLcHD3UWCL+Neic\n",
       "NzhCvpJ+xMqQrmqoYjDtboBAE5DsxBMjGodcEuddsK6N1f2tKHWhMS3+glUMm9VuSNJT5ic068Wz\n",
       "E+vla6wrxxDLJ89AYLdwugTRD0XO1NR4IOXudpNHdRsMVK8gP9qDxewKD7Z4o2RcjNBRtpLSwqaw\n",
       "QthWMGxW6Sq/tzJcAUYdLEmYHWJgTd6x9oISj9cRH6DLqTnNe/AA0bdKVlKV4S427BXnIdukZFd4\n",
       "JtEGMXYghenv/EDDNG4vIxrDKMNmFXX5bDZ9ydWLDW0u4IeJzeFvxQ9xhqJtxDXxgJt9Zd52JLwK\n",
       "HG17TUh2hWeSnnR5UuvV0N3DfRK2Mmw5LN5Of7vbecUcvJ0P5FUMcTLoRkrUZh/uLVpX6wMSBq5v\n",
       "/TR8d4Aqfh7eIkN7WjE78bTXh7g6wLaSSYVWb9Ulbi/yJw5uYthyeIxahyUjPjLTf5V8IO0y4AHE\n",
       "U8H6EGmaOicysaKJR2Y5rj4bqezwUZn7IjXq3WC5zekeu8JzCMM2tAwy9KPRNGNdwqiI9mqGLYfP\n",
       "kvOb4DeatQbMK7399DCSIuBjwbtnAq1bd0KzNfv9SB7HQT7tln1U0fkjtTi/dHc074geu8KDzXTl\n",
       "S/fC/bxc8129C6P6UVX25UH2QwwjtNbgRB/FD50YkffVVJ1gjp2rwg2Xn/AvEhG3tVcpRYZ0910K\n",
       "arfnvEe10b3+FrYc3sd9ucWu8LwCcKQRXccOmEs3s3WpuJ6S7VuGLYfczHD75M8JTEnv82FKIlye\n",
       "63xv39v8glCpthx0iuE8Xb7PmPj73r3EC2SdYbNqJml3zhyH5EUwv/GM/brbm/Y2qfUjWXsPCoun\n",
       "UniMQuh8cY0UsNtulLHjYN73SOoErLo0sb6ZiekSI/ybsdIxHhu3NKqLptJcuveHLrxHwg5crUXr\n",
       "C3wAVHyNWy/q7nTfgwtTabw8GrrwfglbdXhz4PewRJjMqt+1uu/zBalmNSFyQ+ZbJcapSVI+ycP/\n",
       "Vf4Fq76F4zG+p2EAAAAASUVORK5CYII=\n",
       "\" style=\"display:inline;vertical-align:middle;\" /></a></span>"
      ],
      "text/plain": [
       "|- forall_{A, B} ((A equiv B) = [forall_{x} ((x in A) = (x in B))])"
      ]
     },
     "metadata": {},
     "output_type": "display_data"
    }
   ],
   "source": [
    "set_equiv_def"
   ]
  },
  {
   "cell_type": "code",
   "execution_count": 5,
   "metadata": {},
   "outputs": [
    {
     "data": {
      "text/html": [
       "<span style=\"font-size:20px;\"><a class=\"ProveItLink\" href=\"../../../__pv_it/axioms/24808a060d5765eabdffd0b8f7717d720b4d994d0/expr.ipynb\"><img src=\"data:image/png;base64,iVBORw0KGgoAAAANSUhEUgAAANUAAAAVBAMAAAAjhrYEAAAAMFBMVEX///8AAAAAAAAAAAAAAAAA\n",
       "AAAAAAAAAAAAAAAAAAAAAAAAAAAAAAAAAAAAAAAAAAAv3aB7AAAAD3RSTlMAq1RmmUTNIjK7EInv\n",
       "3XZ/CtNrAAAACXBIWXMAAA7EAAAOxAGVKw4bAAAC90lEQVRIx41VTWgTQRT+svnZNGliglCoICko\n",
       "XlQsUhQvtuAvSKV48KBFgh7EHDReBKFqPKskiKUgto0gQj2I9iJeNCAiKkoUFD0sxKqIHtIWpenJ\n",
       "+t7OZjMzyS4OfJPJm2/mzXzvzVugveUJJryb+Z82ZcN8x5lkH3VzXuvOAeFau3nOz9cxByn+s06e\n",
       "2UgwHnitO0P42mb14O9YSadPFZDsh409bDspzcey1N31cmWsUBcp62Yv/ksgsAzkYOMyi12SpkN0\n",
       "AOzy8hXKkPDBId3swTf/kuJ/gAHY4DPG+6T5bu4qSgAnrY/N8aOnBepf6ZsqfPy0rKw9CNKdguSv\n",
       "u2wjSNeIyMQNrFRWMoRPtyQza/N8rhO6sjIfh381R4EF2vwFoV/gjWW9lpkHWCkKday+5sqsnXlS\n",
       "dELYwhI/1JWV+WaupVEJsbUkRDwlsB+4Ka/jM/MZQvhSG9YT5xCKnHHbeDxscXsHnR9pPaXiVL2H\n",
       "zxbMCpyFmZJ9vSckSKjtGCyvZoOszxAuMXmTdi+FL0VkPg/jGWtcEegqx0fkdc/57mQpYK/9P0oi\n",
       "W5+dLLmxO8M5W9R8yXxc5euKzL5F4GSKLggYNSU1XF/AW/HepAdxH1hVpd/RDr6afMy07IuEQaoy\n",
       "4YoAsjupq+/7llc1RLiBe2yoyhIiwUs2a/FS+AmXHv1NXYbOYVQFMEt5k8z3RpxHNkXoqiE2HqjA\n",
       "rjz1VvZz6i5w7dHupfCTbrlMNsjfEudGSQBjFO0gpqIOgfOZ8tNYvlMJ2+4j7ksf420bzruQm8LH\n",
       "8aY5QhqM5pw3wUCAKwEaTcI1vnwVsYO19VtFwHqPOIFYycGYXqI1HzRfCh+3x8WLDEwvpnuu27KO\n",
       "CDjsSvMLlGDXn+Sdwo9bNUpUj6peoxQ+jk5aSiHBBQdCnXg25Aztwjrg9zkS5Vlp/ny7NLvlOfT9\n",
       "iVvEJjgqeb+l59ss/nz+jijfErfNaI+qvU20Wfz5fJLOpzE5Zy/6LE12WObHxw+Bf3lAyhCyTuT2\n",
       "AAAAAElFTkSuQmCC\n",
       "\" style=\"display:inline;vertical-align:middle;\" /></a> <a class=\"ProveItLink\" href=\"../../../__pv_it/_proof_set_equiv_fold/e2cb5593d438ae93d063ad70f9cff3d11f47f2170/proof.ipynb\" style=\"text-decoration: none\">&nbsp;&#x22A2;&nbsp;&nbsp;</a><a class=\"ProveItLink\" href=\"../../../__pv_it/theorems/2ee8dc2018014830ed832e2e3d65a4df89f102480/expr.ipynb\"><img src=\"data:image/png;base64,iVBORw0KGgoAAAANSUhEUgAAADsAAAAPBAMAAACo4Ko7AAAAMFBMVEX///8AAAAAAAAAAAAAAAAA\n",
       "AAAAAAAAAAAAAAAAAAAAAAAAAAAAAAAAAAAAAAAAAAAv3aB7AAAAD3RSTlMAIs1UmauJMnZmRLsQ\n",
       "3e++988cAAAACXBIWXMAAA7EAAAOxAGVKw4bAAAA+UlEQVQY02NgAAEhBrxAH0zyxF0GkhxgNuf+\n",
       "r6FB2yGyzP/BFG/73AQGBlaIGN8GBob4AjCTJV4ARHUy8KgyMJRApOUbGBjWO4CZiflgZQFArepc\n",
       "FyHS84FC8xtALMaGfgMQDTSZof/fAoh0PBDrgQ1lYbCfAHflASj9moHh6HUwazFDfQK6X9h/d7Rq\n",
       "QpgODPIBINr3LghcBYtxfGRgsAObybHFJX4Dum7uBwwMbN9BrBMMDPwX0KX5geZx/oCYzcD7AF26\n",
       "Hmgw6y8ggwvIYPqAbnc/0E/1CkCGHMimj+i69YD6HgE9efq/DgPz/k9oPov+HxqqDQwrAPAyQLUO\n",
       "1tWZAAAAAElFTkSuQmCC\n",
       "\" style=\"display:inline;vertical-align:middle;\" /></a></span>"
      ],
      "text/plain": [
       "{forall_{x} ((x in A) = (x in B))} |- A equiv B"
      ]
     },
     "metadata": {},
     "output_type": "display_data"
    },
    {
     "name": "stdout",
     "output_type": "stream",
     "text": [
      "set_equiv_fold may now be readily provable (assuming required theorems are usable).  Simply execute \"%qed\".\n"
     ]
    }
   ],
   "source": [
    "set_equiv_def.instantiate().derive_left_via_equality()"
   ]
  },
  {
   "cell_type": "code",
   "execution_count": 6,
   "metadata": {},
   "outputs": [
    {
     "name": "stdout",
     "output_type": "stream",
     "text": [
      "proveit.logic.sets.equivalence.set_equiv_fold has been proven.\n"
     ]
    },
    {
     "data": {
      "text/html": [
       "<table><tr><th>&nbsp;</th><th>step type</th><th>requirements</th><th>statement</th></tr>\n",
       "<tr><td><a name=\"0x178576f933169213_step0\">0</a></td><td>generalization</td><td><a href=\"#0x178576f933169213_step1\">1</a></td><td><span style=\"font-size:20px;\"> <a class=\"ProveItLink\" href=\"../../../__pv_it/_proof_set_equiv_fold/652d465160ab0e622a0ae5b7bc8a07dff6d65f840/proof.ipynb\" style=\"text-decoration: none\">&nbsp;&#x22A2;&nbsp;&nbsp;</a><a class=\"ProveItLink\" href=\"../../../__pv_it/theorems/206dd758e7fc3f8531e25faa88c1366cdb879a030/expr.ipynb\"><img src=\"data:image/png;base64,iVBORw0KGgoAAAANSUhEUgAAASMAAAAXBAMAAACykjQRAAAAMFBMVEX///8AAAAAAAAAAAAAAAAA\n",
       "AAAAAAAAAAAAAAAAAAAAAAAAAAAAAAAAAAAAAAAAAAAv3aB7AAAAD3RSTlMAq1RmmUTNIjK7EInv\n",
       "3XZ/CtNrAAAACXBIWXMAAA7EAAAOxAGVKw4bAAAD3klEQVRIx71XTWgTQRT+kjTJ7kbXFqTag3RF\n",
       "QbxoDq0gokZsrUXQgBf/rYJI68F4EURtI56KokGQuiJ2vRREhKIgakGrIiqi9OBB0Eq0SlGkWhV/\n",
       "0fpmJjszTSLRgxlmdybvzXv7zXvfvN0A5W3REvoUyt5eCGAtf9JvoquSTWaUC1Gwlw+R93w488Ch\n",
       "e5bP549VVbWmYceBRvZ7e7kg9YhhroD07OATPyjAPSDwFWgDDrA4ZsoFaakYlnxhd4pITyWMhMjl\n",
       "LyD8CaijGHpAzCkXpH5+j+39yoYAXdXpjYLRIRKFCNYEDyFKXqRsVBK0brc/cGQsUmO3hSpAuYzc\n",
       "oYvwPBgcvF8uSBWC3YngRymycuOEDKxpacJJ1FoOnORCL8+82C5TrI9rHmzt16wCE1ueKYgQEGUc\n",
       "40fBuqOnR6qZNkSB3IUo57x1l6s6P/U1p9nE5LH1xmGr511vzCohf4WSuk64SmgeJjpis9FRPg7y\n",
       "Jk7cO9rtLbZropvpxbij2AfhdQB2v4QUpg2eUc+vZF0047mbzFmtlwvk0iM1x31XpA33+tnhT3rd\n",
       "sORbQZRO0XWdYmEQp4JZwe41DwXNEgi9l5BAYbyscplkXbSGtLSKyJQ3+guXK1dM26ZDsmibPwsg\n",
       "sbgtJk2YxaNlEZdltwgrB+fjCtI811VFayLvGGl6mbLjkFaqhgwQd162N2FIc8W0F/TEsTQ+zUdk\n",
       "MMLXEuIg+cCFNkHDZVzXMVQ3FQqSCVsVrd2826maiHPWJy9ZBRNodqnF2atrOJDZamU0V6TFzJwD\n",
       "kxF9NV0787lkU/E0PjPiMNt9XLYGb7nVQliTNUixtFa01vIewmmD+/Wtwn4c2SRuZtPhuOaKCdfm\n",
       "FrATHmWZ6c5/40dIuqHNrxMBzooVfbWcEuSkI6kgWZVzlN103oEvPKGuk7MyfEhBtrlJKYRaXfeY\n",
       "74ppO/30DMDq/uxh9tiO8YgC3aNV1cd4bpNa+ejg0G4Cm1URAKachLFgSJzzTuHc6I/ikGYlE8ex\n",
       "HUbKECdMuNITh8clq+l+OaNETHKsXkS/w3qkJQ6ddGyMTK9G732xlgoqHdIKdlbRO9p/iSoRr705\n",
       "V0w74i+o+9sXM2XwBqxV24ybmPejr9nRIZkpyGfSnHrFq2tvED0hrfgS0bqAletHPOxhcc65Ytou\n",
       "f4FZ6qux4KMkqM1N9U4w04KvVPJk1Tvnun7Wz8qVftG0rrjHobSWfI5V6jOoAPO6opACiy6Kuogm\n",
       "3vObElWkimo1cXsJSMP5gnhRSKrRKy/m5Qv1F9tVFNPW/8//El7BB4P6vMifK4n3Tw/+DYDq/ZXU\n",
       "CZDkAAAAAElFTkSuQmCC\n",
       "\" style=\"display:inline;vertical-align:middle;\" /></a></span></td></tr>\n",
       "<tr><td><a name=\"0x178576f933169213_step1\">1</a></td><td>instantiation</td><td><a href=\"#0x178576f933169213_step2\">2</a>, <a href=\"#0x178576f933169213_step3\">3</a>, <a href=\"#0x178576f933169213_step4\">4</a></td><td><span style=\"font-size:20px;\"><a class=\"ProveItLink\" href=\"../../../__pv_it/axioms/24808a060d5765eabdffd0b8f7717d720b4d994d0/expr.ipynb\"><img src=\"data:image/png;base64,iVBORw0KGgoAAAANSUhEUgAAANUAAAAVBAMAAAAjhrYEAAAAMFBMVEX///8AAAAAAAAAAAAAAAAA\n",
       "AAAAAAAAAAAAAAAAAAAAAAAAAAAAAAAAAAAAAAAAAAAv3aB7AAAAD3RSTlMAq1RmmUTNIjK7EInv\n",
       "3XZ/CtNrAAAACXBIWXMAAA7EAAAOxAGVKw4bAAAC90lEQVRIx41VTWgTQRT+svnZNGliglCoICko\n",
       "XlQsUhQvtuAvSKV48KBFgh7EHDReBKFqPKskiKUgto0gQj2I9iJeNCAiKkoUFD0sxKqIHtIWpenJ\n",
       "+t7OZjMzyS4OfJPJm2/mzXzvzVugveUJJryb+Z82ZcN8x5lkH3VzXuvOAeFau3nOz9cxByn+s06e\n",
       "2UgwHnitO0P42mb14O9YSadPFZDsh409bDspzcey1N31cmWsUBcp62Yv/ksgsAzkYOMyi12SpkN0\n",
       "AOzy8hXKkPDBId3swTf/kuJ/gAHY4DPG+6T5bu4qSgAnrY/N8aOnBepf6ZsqfPy0rKw9CNKdguSv\n",
       "u2wjSNeIyMQNrFRWMoRPtyQza/N8rhO6sjIfh381R4EF2vwFoV/gjWW9lpkHWCkKday+5sqsnXlS\n",
       "dELYwhI/1JWV+WaupVEJsbUkRDwlsB+4Ka/jM/MZQvhSG9YT5xCKnHHbeDxscXsHnR9pPaXiVL2H\n",
       "zxbMCpyFmZJ9vSckSKjtGCyvZoOszxAuMXmTdi+FL0VkPg/jGWtcEegqx0fkdc/57mQpYK/9P0oi\n",
       "W5+dLLmxO8M5W9R8yXxc5euKzL5F4GSKLggYNSU1XF/AW/HepAdxH1hVpd/RDr6afMy07IuEQaoy\n",
       "4YoAsjupq+/7llc1RLiBe2yoyhIiwUs2a/FS+AmXHv1NXYbOYVQFMEt5k8z3RpxHNkXoqiE2HqjA\n",
       "rjz1VvZz6i5w7dHupfCTbrlMNsjfEudGSQBjFO0gpqIOgfOZ8tNYvlMJ2+4j7ksf420bzruQm8LH\n",
       "8aY5QhqM5pw3wUCAKwEaTcI1vnwVsYO19VtFwHqPOIFYycGYXqI1HzRfCh+3x8WLDEwvpnuu27KO\n",
       "CDjsSvMLlGDXn+Sdwo9bNUpUj6peoxQ+jk5aSiHBBQdCnXg25Aztwjrg9zkS5Vlp/ny7NLvlOfT9\n",
       "iVvEJjgqeb+l59ss/nz+jijfErfNaI+qvU20Wfz5fJLOpzE5Zy/6LE12WObHxw+Bf3lAyhCyTuT2\n",
       "AAAAAElFTkSuQmCC\n",
       "\" style=\"display:inline;vertical-align:middle;\" /></a> <a class=\"ProveItLink\" href=\"../../../__pv_it/_proof_set_equiv_fold/e2cb5593d438ae93d063ad70f9cff3d11f47f2170/proof.ipynb\" style=\"text-decoration: none\">&nbsp;&#x22A2;&nbsp;&nbsp;</a><a class=\"ProveItLink\" href=\"../../../__pv_it/theorems/2ee8dc2018014830ed832e2e3d65a4df89f102480/expr.ipynb\"><img src=\"data:image/png;base64,iVBORw0KGgoAAAANSUhEUgAAADsAAAAPBAMAAACo4Ko7AAAAMFBMVEX///8AAAAAAAAAAAAAAAAA\n",
       "AAAAAAAAAAAAAAAAAAAAAAAAAAAAAAAAAAAAAAAAAAAv3aB7AAAAD3RSTlMAIs1UmauJMnZmRLsQ\n",
       "3e++988cAAAACXBIWXMAAA7EAAAOxAGVKw4bAAAA+UlEQVQY02NgAAEhBrxAH0zyxF0GkhxgNuf+\n",
       "r6FB2yGyzP/BFG/73AQGBlaIGN8GBob4AjCTJV4ARHUy8KgyMJRApOUbGBjWO4CZiflgZQFArepc\n",
       "FyHS84FC8xtALMaGfgMQDTSZof/fAoh0PBDrgQ1lYbCfAHflASj9moHh6HUwazFDfQK6X9h/d7Rq\n",
       "QpgODPIBINr3LghcBYtxfGRgsAObybHFJX4Dum7uBwwMbN9BrBMMDPwX0KX5geZx/oCYzcD7AF26\n",
       "Hmgw6y8ggwvIYPqAbnc/0E/1CkCGHMimj+i69YD6HgE9efq/DgPz/k9oPov+HxqqDQwrAPAyQLUO\n",
       "1tWZAAAAAElFTkSuQmCC\n",
       "\" style=\"display:inline;vertical-align:middle;\" /></a></span></td></tr>\n",
       "<tr><td>&nbsp;</td><td colspan=4 style=\"text-align:left\"><span style=\"font-size:20px;\"><a class=\"ProveItLink\" href=\"../../../../../../__pv_it/common/de55da274ba0f49c86925fbf3828021c04d27faf0/expr.ipynb\"><img src=\"data:image/png;base64,iVBORw0KGgoAAAANSUhEUgAAABAAAAAOBAMAAADUAYG5AAAAMFBMVEX///8AAAAAAAAAAAAAAAAA\n",
       "AAAAAAAAAAAAAAAAAAAAAAAAAAAAAAAAAAAAAAAAAAAv3aB7AAAAD3RSTlMAdrurzZkQ7zJUiSLd\n",
       "ZkQEbk8lAAAACXBIWXMAAA7EAAAOxAGVKw4bAAAAWklEQVQI12NgYBD6r2zkmsAABF8YGJjKgDTH\n",
       "RwYGTiBmYPwBxL+ADKYPQAzkMPArMDD0CzCAiV0nQZrkrVbdA9EM+gxQ8AVKc/yCMhj/QRksHyA0\n",
       "q/4nkBkMAGrBE2oHiyZAAAAAAElFTkSuQmCC\n",
       "\" style=\"display:inline;vertical-align:middle;\" /></a> : <a class=\"ProveItLink\" href=\"../../../__pv_it/theorems/2ee8dc2018014830ed832e2e3d65a4df89f102480/expr.ipynb\"><img src=\"data:image/png;base64,iVBORw0KGgoAAAANSUhEUgAAADsAAAAPBAMAAACo4Ko7AAAAMFBMVEX///8AAAAAAAAAAAAAAAAA\n",
       "AAAAAAAAAAAAAAAAAAAAAAAAAAAAAAAAAAAAAAAAAAAv3aB7AAAAD3RSTlMAIs1UmauJMnZmRLsQ\n",
       "3e++988cAAAACXBIWXMAAA7EAAAOxAGVKw4bAAAA+UlEQVQY02NgAAEhBrxAH0zyxF0GkhxgNuf+\n",
       "r6FB2yGyzP/BFG/73AQGBlaIGN8GBob4AjCTJV4ARHUy8KgyMJRApOUbGBjWO4CZiflgZQFArepc\n",
       "FyHS84FC8xtALMaGfgMQDTSZof/fAoh0PBDrgQ1lYbCfAHflASj9moHh6HUwazFDfQK6X9h/d7Rq\n",
       "QpgODPIBINr3LghcBYtxfGRgsAObybHFJX4Dum7uBwwMbN9BrBMMDPwX0KX5geZx/oCYzcD7AF26\n",
       "Hmgw6y8ggwvIYPqAbnc/0E/1CkCGHMimj+i69YD6HgE9efq/DgPz/k9oPov+HxqqDQwrAPAyQLUO\n",
       "1tWZAAAAAElFTkSuQmCC\n",
       "\" style=\"display:inline;vertical-align:middle;\" /></a>, <a class=\"ProveItLink\" href=\"../../../../../../__pv_it/common/d72bb8b07403efe79afab564c36a28e21330e5f90/expr.ipynb\"><img src=\"data:image/png;base64,iVBORw0KGgoAAAANSUhEUgAAAA8AAAASBAMAAAB2sJk8AAAAMFBMVEX///8AAAAAAAAAAAAAAAAA\n",
       "AAAAAAAAAAAAAAAAAAAAAAAAAAAAAAAAAAAAAAAAAAAv3aB7AAAAD3RSTlMAIomZq2bNMhC7791E\n",
       "VHYkqjbgAAAACXBIWXMAAA7EAAAOxAGVKw4bAAAAgklEQVQI12NgYGBUVnJlAAG1AgaWBCDdNgFI\n",
       "LAbibJCoPwMD83cQQ7+AQR4kw2B/gMH+AoiRL8CwvwFIc/xiYPgFEmD9ysCwG8ToSgBp5LnAYCXA\n",
       "wFB/IVyUaSFQlG/hAyYXkAaGkknaBxgKwLZyHuATgDAcroFpBub/3yEM9l1AawBt/xzBtQnGvwAA\n",
       "AABJRU5ErkJggg==\n",
       "\" style=\"display:inline;vertical-align:middle;\" /></a> : <a class=\"ProveItLink\" href=\"../../../__pv_it/axioms/24808a060d5765eabdffd0b8f7717d720b4d994d0/expr.ipynb\"><img src=\"data:image/png;base64,iVBORw0KGgoAAAANSUhEUgAAANUAAAAVBAMAAAAjhrYEAAAAMFBMVEX///8AAAAAAAAAAAAAAAAA\n",
       "AAAAAAAAAAAAAAAAAAAAAAAAAAAAAAAAAAAAAAAAAAAv3aB7AAAAD3RSTlMAq1RmmUTNIjK7EInv\n",
       "3XZ/CtNrAAAACXBIWXMAAA7EAAAOxAGVKw4bAAAC90lEQVRIx41VTWgTQRT+svnZNGliglCoICko\n",
       "XlQsUhQvtuAvSKV48KBFgh7EHDReBKFqPKskiKUgto0gQj2I9iJeNCAiKkoUFD0sxKqIHtIWpenJ\n",
       "+t7OZjMzyS4OfJPJm2/mzXzvzVugveUJJryb+Z82ZcN8x5lkH3VzXuvOAeFau3nOz9cxByn+s06e\n",
       "2UgwHnitO0P42mb14O9YSadPFZDsh409bDspzcey1N31cmWsUBcp62Yv/ksgsAzkYOMyi12SpkN0\n",
       "AOzy8hXKkPDBId3swTf/kuJ/gAHY4DPG+6T5bu4qSgAnrY/N8aOnBepf6ZsqfPy0rKw9CNKdguSv\n",
       "u2wjSNeIyMQNrFRWMoRPtyQza/N8rhO6sjIfh381R4EF2vwFoV/gjWW9lpkHWCkKday+5sqsnXlS\n",
       "dELYwhI/1JWV+WaupVEJsbUkRDwlsB+4Ka/jM/MZQvhSG9YT5xCKnHHbeDxscXsHnR9pPaXiVL2H\n",
       "zxbMCpyFmZJ9vSckSKjtGCyvZoOszxAuMXmTdi+FL0VkPg/jGWtcEegqx0fkdc/57mQpYK/9P0oi\n",
       "W5+dLLmxO8M5W9R8yXxc5euKzL5F4GSKLggYNSU1XF/AW/HepAdxH1hVpd/RDr6afMy07IuEQaoy\n",
       "4YoAsjupq+/7llc1RLiBe2yoyhIiwUs2a/FS+AmXHv1NXYbOYVQFMEt5k8z3RpxHNkXoqiE2HqjA\n",
       "rjz1VvZz6i5w7dHupfCTbrlMNsjfEudGSQBjFO0gpqIOgfOZ8tNYvlMJ2+4j7ksf420bzruQm8LH\n",
       "8aY5QhqM5pw3wUCAKwEaTcI1vnwVsYO19VtFwHqPOIFYycGYXqI1HzRfCh+3x8WLDEwvpnuu27KO\n",
       "CDjsSvMLlGDXn+Sdwo9bNUpUj6peoxQ+jk5aSiHBBQdCnXg25Aztwjrg9zkS5Vlp/ny7NLvlOfT9\n",
       "iVvEJjgqeb+l59ss/nz+jijfErfNaI+qvU20Wfz5fJLOpzE5Zy/6LE12WObHxw+Bf3lAyhCyTuT2\n",
       "AAAAAElFTkSuQmCC\n",
       "\" style=\"display:inline;vertical-align:middle;\" /></a></span></td></tr><tr><td><a name=\"0x178576f933169213_step2\">2</a></td><td>theorem</td><td></td><td><span style=\"font-size:20px;\"> <a class=\"ProveItLink\" href=\"../../../../../equality/_theory_nbs_/proofs/lhs_via_equality/thm_proof.ipynb\" style=\"text-decoration: none\">&nbsp;&#x22A2;&nbsp;&nbsp;</a><a class=\"ProveItLink\" href=\"../../../../../equality/__pv_it/theorems/031640b4b39fda11207f722712c88a33cea8f6040/expr.ipynb\"><img src=\"data:image/png;base64,iVBORw0KGgoAAAANSUhEUgAAAIwAAAAVBAMAAABmhxuGAAAAMFBMVEX///8AAAAAAAAAAAAAAAAA\n",
       "AAAAAAAAAAAAAAAAAAAAAAAAAAAAAAAAAAAAAAAAAAAv3aB7AAAAD3RSTlMAq1RmmUTNIjK7EInv\n",
       "3XZ/CtNrAAAACXBIWXMAAA7EAAAOxAGVKw4bAAABx0lEQVQ4y6VUPUsDQRQck5gzRmOEoKiNYGeV\n",
       "xk4lFqJgk0owlYUgCELE0kC0sVXRRpu7XxBErBRBtFMUPzohEO1EiBH8Dqhv97L3NmdAjQ/23s7s\n",
       "7Oztvr1DGBRdqDpuP1faJiwMiv5k9TZ4BgJHWKCesVy9S90H4PmA3wKCndXbhF6pFeGNAv5/7ClQ\n",
       "oEZWJ9ns8T9smuhAlnLAMLBRYdj3SxuymLugPAODil5rjgy0CvouP2S/bEmm8NjjdnPSmaxY4L5j\n",
       "t0fqrWCcUh+wR2k0iVRSs3Gw9wzBM+XisIBZojw5ecIRMiZASt8y2zCuiSFUUFMcVl4bO8b7xfMA\n",
       "OAfS87RugW0YN3SiMVyawSzqispma0rcwHfMxIAW6gb32YZx2jIi8K1TrGosQk/KJiUW8Z7muymJ\n",
       "0vvDbMO4N39jqRnMwq82ipp58bDZQ1FC7YgZN2tFZtZnvuX08jdEZVpDApdawRkfyln2pph1R5rM\n",
       "6zeRms0sRjUbG9OA8aKJWeX+wMwdOvUDGAPX7YZmY2MauC1arGZVxfBQq41lym6xxB63UqkqRkKs\n",
       "9HBVZiNxwq1Uqooh9zsdL7OR+PtBlFQ/hvGn38UXqIeD+S1ymPUAAAAASUVORK5CYII=\n",
       "\" style=\"display:inline;vertical-align:middle;\" /></a></span></td></tr>\n",
       "<tr><td>&nbsp;</td><td colspan=4 style-\"text-align:left\"><a class=\"ProveItLink\" href=\"../../../../../equality/_theory_nbs_/proofs/lhs_via_equality/thm_proof.ipynb\">proveit.logic.equality.lhs_via_equality</a></td></tr><tr><td><a name=\"0x178576f933169213_step3\">3</a></td><td>assumption</td><td></td><td><span style=\"font-size:20px;\"><a class=\"ProveItLink\" href=\"../../../__pv_it/axioms/24808a060d5765eabdffd0b8f7717d720b4d994d0/expr.ipynb\"><img src=\"data:image/png;base64,iVBORw0KGgoAAAANSUhEUgAAANUAAAAVBAMAAAAjhrYEAAAAMFBMVEX///8AAAAAAAAAAAAAAAAA\n",
       "AAAAAAAAAAAAAAAAAAAAAAAAAAAAAAAAAAAAAAAAAAAv3aB7AAAAD3RSTlMAq1RmmUTNIjK7EInv\n",
       "3XZ/CtNrAAAACXBIWXMAAA7EAAAOxAGVKw4bAAAC90lEQVRIx41VTWgTQRT+svnZNGliglCoICko\n",
       "XlQsUhQvtuAvSKV48KBFgh7EHDReBKFqPKskiKUgto0gQj2I9iJeNCAiKkoUFD0sxKqIHtIWpenJ\n",
       "+t7OZjMzyS4OfJPJm2/mzXzvzVugveUJJryb+Z82ZcN8x5lkH3VzXuvOAeFau3nOz9cxByn+s06e\n",
       "2UgwHnitO0P42mb14O9YSadPFZDsh409bDspzcey1N31cmWsUBcp62Yv/ksgsAzkYOMyi12SpkN0\n",
       "AOzy8hXKkPDBId3swTf/kuJ/gAHY4DPG+6T5bu4qSgAnrY/N8aOnBepf6ZsqfPy0rKw9CNKdguSv\n",
       "u2wjSNeIyMQNrFRWMoRPtyQza/N8rhO6sjIfh381R4EF2vwFoV/gjWW9lpkHWCkKday+5sqsnXlS\n",
       "dELYwhI/1JWV+WaupVEJsbUkRDwlsB+4Ka/jM/MZQvhSG9YT5xCKnHHbeDxscXsHnR9pPaXiVL2H\n",
       "zxbMCpyFmZJ9vSckSKjtGCyvZoOszxAuMXmTdi+FL0VkPg/jGWtcEegqx0fkdc/57mQpYK/9P0oi\n",
       "W5+dLLmxO8M5W9R8yXxc5euKzL5F4GSKLggYNSU1XF/AW/HepAdxH1hVpd/RDr6afMy07IuEQaoy\n",
       "4YoAsjupq+/7llc1RLiBe2yoyhIiwUs2a/FS+AmXHv1NXYbOYVQFMEt5k8z3RpxHNkXoqiE2HqjA\n",
       "rjz1VvZz6i5w7dHupfCTbrlMNsjfEudGSQBjFO0gpqIOgfOZ8tNYvlMJ2+4j7ksf420bzruQm8LH\n",
       "8aY5QhqM5pw3wUCAKwEaTcI1vnwVsYO19VtFwHqPOIFYycGYXqI1HzRfCh+3x8WLDEwvpnuu27KO\n",
       "CDjsSvMLlGDXn+Sdwo9bNUpUj6peoxQ+jk5aSiHBBQdCnXg25Aztwjrg9zkS5Vlp/ny7NLvlOfT9\n",
       "iVvEJjgqeb+l59ss/nz+jijfErfNaI+qvU20Wfz5fJLOpzE5Zy/6LE12WObHxw+Bf3lAyhCyTuT2\n",
       "AAAAAElFTkSuQmCC\n",
       "\" style=\"display:inline;vertical-align:middle;\" /></a> <a class=\"ProveItLink\" href=\"../../../__pv_it/_proof_set_equiv_fold/45e3054bd8cb6f24bf80ce7f115465da76a5367d0/proof.ipynb\" style=\"text-decoration: none\">&nbsp;&#x22A2;&nbsp;&nbsp;</a><a class=\"ProveItLink\" href=\"../../../__pv_it/axioms/24808a060d5765eabdffd0b8f7717d720b4d994d0/expr.ipynb\"><img src=\"data:image/png;base64,iVBORw0KGgoAAAANSUhEUgAAANUAAAAVBAMAAAAjhrYEAAAAMFBMVEX///8AAAAAAAAAAAAAAAAA\n",
       "AAAAAAAAAAAAAAAAAAAAAAAAAAAAAAAAAAAAAAAAAAAv3aB7AAAAD3RSTlMAq1RmmUTNIjK7EInv\n",
       "3XZ/CtNrAAAACXBIWXMAAA7EAAAOxAGVKw4bAAAC90lEQVRIx41VTWgTQRT+svnZNGliglCoICko\n",
       "XlQsUhQvtuAvSKV48KBFgh7EHDReBKFqPKskiKUgto0gQj2I9iJeNCAiKkoUFD0sxKqIHtIWpenJ\n",
       "+t7OZjMzyS4OfJPJm2/mzXzvzVugveUJJryb+Z82ZcN8x5lkH3VzXuvOAeFau3nOz9cxByn+s06e\n",
       "2UgwHnitO0P42mb14O9YSadPFZDsh409bDspzcey1N31cmWsUBcp62Yv/ksgsAzkYOMyi12SpkN0\n",
       "AOzy8hXKkPDBId3swTf/kuJ/gAHY4DPG+6T5bu4qSgAnrY/N8aOnBepf6ZsqfPy0rKw9CNKdguSv\n",
       "u2wjSNeIyMQNrFRWMoRPtyQza/N8rhO6sjIfh381R4EF2vwFoV/gjWW9lpkHWCkKday+5sqsnXlS\n",
       "dELYwhI/1JWV+WaupVEJsbUkRDwlsB+4Ka/jM/MZQvhSG9YT5xCKnHHbeDxscXsHnR9pPaXiVL2H\n",
       "zxbMCpyFmZJ9vSckSKjtGCyvZoOszxAuMXmTdi+FL0VkPg/jGWtcEegqx0fkdc/57mQpYK/9P0oi\n",
       "W5+dLLmxO8M5W9R8yXxc5euKzL5F4GSKLggYNSU1XF/AW/HepAdxH1hVpd/RDr6afMy07IuEQaoy\n",
       "4YoAsjupq+/7llc1RLiBe2yoyhIiwUs2a/FS+AmXHv1NXYbOYVQFMEt5k8z3RpxHNkXoqiE2HqjA\n",
       "rjz1VvZz6i5w7dHupfCTbrlMNsjfEudGSQBjFO0gpqIOgfOZ8tNYvlMJ2+4j7ksf420bzruQm8LH\n",
       "8aY5QhqM5pw3wUCAKwEaTcI1vnwVsYO19VtFwHqPOIFYycGYXqI1HzRfCh+3x8WLDEwvpnuu27KO\n",
       "CDjsSvMLlGDXn+Sdwo9bNUpUj6peoxQ+jk5aSiHBBQdCnXg25Aztwjrg9zkS5Vlp/ny7NLvlOfT9\n",
       "iVvEJjgqeb+l59ss/nz+jijfErfNaI+qvU20Wfz5fJLOpzE5Zy/6LE12WObHxw+Bf3lAyhCyTuT2\n",
       "AAAAAElFTkSuQmCC\n",
       "\" style=\"display:inline;vertical-align:middle;\" /></a></span></td></tr>\n",
       "<tr><td><a name=\"0x178576f933169213_step4\">4</a></td><td>instantiation</td><td><a href=\"#0x178576f933169213_step5\">5</a></td><td><span style=\"font-size:20px;\"> <a class=\"ProveItLink\" href=\"../../../__pv_it/_proof_set_equiv_fold/08df7e0e4bfa53899b28c04f86c85ae4ff70efb40/proof.ipynb\" style=\"text-decoration: none\">&nbsp;&#x22A2;&nbsp;&nbsp;</a><a class=\"ProveItLink\" href=\"../../../__pv_it/axioms/a1911f75c42a7792e0aa461152b75a94730f395f0/expr.ipynb\"><img src=\"data:image/png;base64,iVBORw0KGgoAAAANSUhEUgAAAUcAAAAVBAMAAAAnVjEQAAAAMFBMVEX///8AAAAAAAAAAAAAAAAA\n",
       "AAAAAAAAAAAAAAAAAAAAAAAAAAAAAAAAAAAAAAAAAAAv3aB7AAAAD3RSTlMAInZUiRDNmWbv3US7\n",
       "qzJazP2FAAAACXBIWXMAAA7EAAAOxAGVKw4bAAAECElEQVRIx42XS2gTQRjHv+xmk23TxOChUFGM\n",
       "FVF8UA/i6+Lz5AODoF6qRKXgQbCKaFWQqqAXwSgKoh6CiuD6oPiCejGtiKgHg2BRsTQHBS1IW8HH\n",
       "Rev3fTOb7O5MNg789zGZ/X3/eU8AIA2hKaJmzb6rKZeGcFTkP/OCQMMp42U+ZzXXKpvIKFlrNcUI\n",
       "I1Ga1KzlwPQwk/ekoj0AC0TWHnHbeokCCd7p8cHB3WWYpTFZottib94CqKA0iegqx1yuLSzjGt3A\n",
       "QpNWTpQfFwWufrmO15J4uQKQ/AuxrGryCN22e7III1GaxHSVs7lGcREXOoCFJuPdnB8f4vGEzjeX\n",
       "INUpRsx37KRfYHeqJr/Rz0VPFmEkSpOYrnK6aoxeERdOAQtNNogfVmwo0y2JGig/FhPAxtrY+MEF\n",
       "1SS1StQ7AhukPIP0pXPDfRZ0hZP3vc11nJwvbkOWhSYXCvOZNg4ZJfr4ZfFVchT76CzALtWkjY0W\n",
       "82YtlKrOtx3V3pX0IMf0DY9HM9wnN26sm4Um94v+gGXVvrLc1imC9QGbYL1mdl9ynPPerP1SG+dt\n",
       "W83VbfaMQEkPcuI4b6zWt59WcUU6qr0i40ZLLDQpqncfRtSZNtLfOkDwk0x0OJWkyaMAz7xld0l1\n",
       "Gm/iheCsknTmHGbMHXqklorDvMxhfkkrce0cC01e4/xOmFoKWoG2NJgX8b5E05JTIFLyZl0TstP2\n",
       "jyT3ibcrJT3IacQmPwZnsu/YZDXfjWvmWWiSx5/x/OBQUWnJFyga8SMak01ZWmOr6bJQCuLCXQrH\n",
       "g3NbTiFJD3IakFCGA+LlKzVO0Rc3NcpyTW4EmFBQTP5BncF1vVdj0sz45o1rEiOLjcDy1Nml92pM\n",
       "ApwTL+1q3ESe5XY3rmCN+aCV1G+8DCFoqWZMQu44Xlr3zkz7uhvgSdriKVPw9ragLw2MSepuSIzB\n",
       "Jn5R45oFFprsp4I010eDVowx/OAnbVO6vXsVzkYj/TEmF8t+ofae97yMof/qYuTSg5ymDFivknng\n",
       "KWtUtvZKXLvIQpO0LrTQF2NBKzGsfW+HXFoUky1YERv6UzJrvdCyz4dwLvPXlaW+Qg9ycHkx/27J\n",
       "J0TJnUpcWqJQaHIYqz/eAebrn4E1KPn6z+DAU3q6pTOZ5B2qUrNhoS2tZpeIaX18KAdbhR7kpApg\n",
       "7cssOiGPNq+ygbiNPSw02ViGOilSqHlUS+XdEyFh/KjEuuq2WIPjP5Y+eOn4TyiThNCkuu0rp4Pu\n",
       "WiZborm4fCRMHZTKORUeuEuI1rq+eiYn1zz0xuesrGy4fVAPpXKaQv8U0CmLRCbb65ns+6+TeTvU\n",
       "Q6kcqxhWnqpAIpORTLhHQ63uGs1/HMKEojQcmBgWeJqQcbPnH3hUOKBCGol6AAAAAElFTkSuQmCC\n",
       "\" style=\"display:inline;vertical-align:middle;\" /></a></span></td></tr>\n",
       "<tr><td>&nbsp;</td><td colspan=4 style=\"text-align:left\"><span style=\"font-size:20px;\"><a class=\"ProveItLink\" href=\"../../../../../../__pv_it/common/09585084922504426caf1db2ff588a23a0932a960/expr.ipynb\"><img src=\"data:image/png;base64,iVBORw0KGgoAAAANSUhEUgAAAA8AAAAPBAMAAADJ+Ih5AAAAMFBMVEX///8AAAAAAAAAAAAAAAAA\n",
       "AAAAAAAAAAAAAAAAAAAAAAAAAAAAAAAAAAAAAAAAAAAv3aB7AAAAD3RSTlMAIs1UmauJMnZmRLsQ\n",
       "3e++988cAAAACXBIWXMAAA7EAAAOxAGVKw4bAAAAXklEQVQI12NgAAEhBijQh9LM/6EMlngBCCMx\n",
       "vwBMMzb0G0BkGOwngBmLGeoTwAwHBvkAEM2xxSV+A4hxgoGB/wJEhoH3AZDmAupg+gBkyAEx90cG\n",
       "htP/dRiY939KAABt3hLO6mcEjQAAAABJRU5ErkJggg==\n",
       "\" style=\"display:inline;vertical-align:middle;\" /></a> : <a class=\"ProveItLink\" href=\"../../../../../../__pv_it/common/09585084922504426caf1db2ff588a23a0932a960/expr.ipynb\"><img src=\"data:image/png;base64,iVBORw0KGgoAAAANSUhEUgAAAA8AAAAPBAMAAADJ+Ih5AAAAMFBMVEX///8AAAAAAAAAAAAAAAAA\n",
       "AAAAAAAAAAAAAAAAAAAAAAAAAAAAAAAAAAAAAAAAAAAv3aB7AAAAD3RSTlMAIs1UmauJMnZmRLsQ\n",
       "3e++988cAAAACXBIWXMAAA7EAAAOxAGVKw4bAAAAXklEQVQI12NgAAEhBijQh9LM/6EMlngBCCMx\n",
       "vwBMMzb0G0BkGOwngBmLGeoTwAwHBvkAEM2xxSV+A4hxgoGB/wJEhoH3AZDmAupg+gBkyAEx90cG\n",
       "htP/dRiY939KAABt3hLO6mcEjQAAAABJRU5ErkJggg==\n",
       "\" style=\"display:inline;vertical-align:middle;\" /></a>, <a class=\"ProveItLink\" href=\"../../../../../../__pv_it/common/a9162d1c3cc0470c02e5daf414500903a7a419230/expr.ipynb\"><img src=\"data:image/png;base64,iVBORw0KGgoAAAANSUhEUgAAABAAAAAOBAMAAADUAYG5AAAAMFBMVEX///8AAAAAAAAAAAAAAAAA\n",
       "AAAAAAAAAAAAAAAAAAAAAAAAAAAAAAAAAAAAAAAAAAAv3aB7AAAAD3RSTlMAZrurzTLvInZEmRDd\n",
       "VIkafcLnAAAACXBIWXMAAA7EAAAOxAGVKw4bAAAAb0lEQVQI12NgYBD6b2zsFMAABEkMDMxfgTT7\n",
       "DwYGzl9ABiOQxwjkMDB/YGBgSQcy2BQYuG1AiuM1OkwEQJr6Cxh4E0EMNSB+D5L6DMTyDQwMrB+B\n",
       "DPsJDAwc34GcL0AOSwIDwzRvoHH6n41NdBkYAF/iFeJ4bEa2AAAAAElFTkSuQmCC\n",
       "\" style=\"display:inline;vertical-align:middle;\" /></a> : <a class=\"ProveItLink\" href=\"../../../../../../__pv_it/common/a9162d1c3cc0470c02e5daf414500903a7a419230/expr.ipynb\"><img src=\"data:image/png;base64,iVBORw0KGgoAAAANSUhEUgAAABAAAAAOBAMAAADUAYG5AAAAMFBMVEX///8AAAAAAAAAAAAAAAAA\n",
       "AAAAAAAAAAAAAAAAAAAAAAAAAAAAAAAAAAAAAAAAAAAv3aB7AAAAD3RSTlMAZrurzTLvInZEmRDd\n",
       "VIkafcLnAAAACXBIWXMAAA7EAAAOxAGVKw4bAAAAb0lEQVQI12NgYBD6b2zsFMAABEkMDMxfgTT7\n",
       "DwYGzl9ABiOQxwjkMDB/YGBgSQcy2BQYuG1AiuM1OkwEQJr6Cxh4E0EMNSB+D5L6DMTyDQwMrB+B\n",
       "DPsJDAwc34GcL0AOSwIDwzRvoHH6n41NdBkYAF/iFeJ4bEa2AAAAAElFTkSuQmCC\n",
       "\" style=\"display:inline;vertical-align:middle;\" /></a></span></td></tr><tr><td><a name=\"0x178576f933169213_step5\">5</a></td><td>axiom</td><td></td><td><span style=\"font-size:20px;\"> <a class=\"ProveItLink\" href=\"../../axioms.ipynb#set_equiv_def\" style=\"text-decoration: none\">&nbsp;&#x22A2;&nbsp;&nbsp;</a><a class=\"ProveItLink\" href=\"../../../__pv_it/axioms/a526f1ab8a886b46cea1848b9b6f2e135fcc6d080/expr.ipynb\"><img src=\"data:image/png;base64,iVBORw0KGgoAAAANSUhEUgAAAY4AAAAWBAMAAAAlaGbVAAAAMFBMVEX///8AAAAAAAAAAAAAAAAA\n",
       "AAAAAAAAAAAAAAAAAAAAAAAAAAAAAAAAAAAAAAAAAAAv3aB7AAAAD3RSTlMAq1RmmUTNIjK7EInv\n",
       "3XZ/CtNrAAAACXBIWXMAAA7EAAAOxAGVKw4bAAAFA0lEQVRYw9VXa2gcVRQ+u7PP2c0kQSlWqllQ\n",
       "CmK1i4ZKf9Rsqa8SW4OClLbYbUXUWnT7RyhqsoJ/1EoWoVSKbbZQxApKLIwg+eG2Ep8oq/iI0IGJ\n",
       "EaJit6nWNm3Veu45d3Z35t6dBP954OPcPXvnu/fc85g7AGGSlAiTkmKxnPJ/oCot0hYkPDW14Bbh\n",
       "Rwl8othpzkOKJTMUSqXbU1HHA1YuZG9xlwE2qR5hu04/NTrOQEnMkTKXfS34abz6cm/v42Ww8qof\n",
       "EXo6r6fSiGBXeeBG7WRj7EzvktcAZoBhk7pT/PWonv4NCZSV7EfXz2twMxG2fYqjeYCdqh8xEZFE\n",
       "SU+lEWJXeMwOOZCtAPSVIVEFgk3qeRHWiv6BdRIoa8+TmgFzO8ALnAz/YGDPAvSrfqRElPd0oNII\n",
       "sSs8sbx+9gim0bYCGAUg2KSER5kOeViTwBnPzJPG/UUei3/P8UWTgb5kq2p9iLM9pqfy5BfH8c6b\n",
       "2RWerL9YDjrf8WgA28gA+vIZEGxSBjqd6FAeRQbKsPU7aZHhp//iOo5gMiQ+RuRVP25FVdRTSXnw\n",
       "19aY2RWe5b6yfrLpZh9iFybtw0CwWX3hOJ/r/YiNM1AK0T9a9mozTc1r8GgyPaofWcc5Oa6hMhtX\n",
       "v0xxSrZXA7MrPIOId6bfnKBseboVLazLw1Oo32XYrO4BONC+vbYukvcOKZ5LXVLcHD3UWCL+Neic\n",
       "NzhCvpJ+xMqQrmqoYjDtboBAE5DsxBMjGodcEuddsK6N1f2tKHWhMS3+glUMm9VuSNJT5ic068Wz\n",
       "E+vla6wrxxDLJ89AYLdwugTRD0XO1NR4IOXudpNHdRsMVK8gP9qDxewKD7Z4o2RcjNBRtpLSwqaw\n",
       "QthWMGxW6Sq/tzJcAUYdLEmYHWJgTd6x9oISj9cRH6DLqTnNe/AA0bdKVlKV4S427BXnIdukZFd4\n",
       "JtEGMXYghenv/EDDNG4vIxrDKMNmFXX5bDZ9ydWLDW0u4IeJzeFvxQ9xhqJtxDXxgJt9Zd52JLwK\n",
       "HG17TUh2hWeSnnR5UuvV0N3DfRK2Mmw5LN5Of7vbecUcvJ0P5FUMcTLoRkrUZh/uLVpX6wMSBq5v\n",
       "/TR8d4Aqfh7eIkN7WjE78bTXh7g6wLaSSYVWb9Ulbi/yJw5uYthyeIxahyUjPjLTf5V8IO0y4AHE\n",
       "U8H6EGmaOicysaKJR2Y5rj4bqezwUZn7IjXq3WC5zekeu8JzCMM2tAwy9KPRNGNdwqiI9mqGLYfP\n",
       "kvOb4DeatQbMK7399DCSIuBjwbtnAq1bd0KzNfv9SB7HQT7tln1U0fkjtTi/dHc074geu8KDzXTl\n",
       "S/fC/bxc8129C6P6UVX25UH2QwwjtNbgRB/FD50YkffVVJ1gjp2rwg2Xn/AvEhG3tVcpRYZ0910K\n",
       "arfnvEe10b3+FrYc3sd9ucWu8LwCcKQRXccOmEs3s3WpuJ6S7VuGLYfczHD75M8JTEnv82FKIlye\n",
       "63xv39v8glCpthx0iuE8Xb7PmPj73r3EC2SdYbNqJml3zhyH5EUwv/GM/brbm/Y2qfUjWXsPCoun\n",
       "UniMQuh8cY0UsNtulLHjYN73SOoErLo0sb6ZiekSI/ybsdIxHhu3NKqLptJcuveHLrxHwg5crUXr\n",
       "C3wAVHyNWy/q7nTfgwtTabw8GrrwfglbdXhz4PewRJjMqt+1uu/zBalmNSFyQ+ZbJcapSVI+ycP/\n",
       "Vf4Fq76F4zG+p2EAAAAASUVORK5CYII=\n",
       "\" style=\"display:inline;vertical-align:middle;\" /></a></span></td></tr>\n",
       "<tr><td>&nbsp;</td><td colspan=4 style-\"text-align:left\"><a class=\"ProveItLink\" href=\"../../axioms.ipynb#set_equiv_def\">proveit.logic.sets.equivalence.set_equiv_def</a></td></tr></table>"
      ],
      "text/plain": [
       "\tstep type\trequirements\tstatement\n",
       "0\tgeneralization\t1\t|- forall_{A, B | forall_{x} ((x in A) = (x in B))} (A equiv B)\n",
       "1\tinstantiation\t2, 3, 4\t{forall_{x} ((x in A) = (x in B))} |- A equiv B\n",
       "\tP : A equiv B, Q : forall_{x} ((x in A) = (x in B))\n",
       "2\ttheorem\t\t|- forall_{P, Q | Q, P = Q} P\n",
       "\tproveit.logic.equality.lhs_via_equality\n",
       "3\tassumption\t\t{forall_{x} ((x in A) = (x in B))} |- forall_{x} ((x in A) = (x in B))\n",
       "4\tinstantiation\t5\t|- (A equiv B) = [forall_{x} ((x in A) = (x in B))]\n",
       "\tA : A, B : B\n",
       "5\taxiom\t\t|- forall_{A, B} ((A equiv B) = [forall_{x} ((x in A) = (x in B))])\n",
       "\tproveit.logic.sets.equivalence.set_equiv_def"
      ]
     },
     "execution_count": 6,
     "metadata": {},
     "output_type": "execute_result"
    }
   ],
   "source": [
    "%qed"
   ]
  },
  {
   "cell_type": "code",
   "execution_count": null,
   "metadata": {},
   "outputs": [],
   "source": []
  }
 ],
 "metadata": {
  "kernelspec": {
   "display_name": "Python 3",
   "language": "python",
   "name": "python3"
  }
 },
 "nbformat": 4,
 "nbformat_minor": 0
}