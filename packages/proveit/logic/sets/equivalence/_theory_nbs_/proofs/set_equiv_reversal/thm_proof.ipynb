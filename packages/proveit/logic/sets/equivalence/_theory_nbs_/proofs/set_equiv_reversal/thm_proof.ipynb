{
 "cells": [
  {
   "cell_type": "markdown",
   "metadata": {},
   "source": [
    "Proof of <a class=\"ProveItLink\" href=\"../../../../../../_theory_nbs_/theory.ipynb\">proveit</a>.<a class=\"ProveItLink\" href=\"../../../../../_theory_nbs_/theory.ipynb\">logic</a>.<a class=\"ProveItLink\" href=\"../../../../_theory_nbs_/theory.ipynb\">sets</a>.<a class=\"ProveItLink\" href=\"../../theory.ipynb\">equivalence</a>.<a class=\"ProveItLink\" href=\"../../theorems.ipynb#set_equiv_reversal\">set_equiv_reversal</a> theorem\n",
    "========"
   ]
  },
  {
   "cell_type": "code",
   "execution_count": 1,
   "metadata": {},
   "outputs": [],
   "source": [
    "import proveit\n",
    "from proveit import defaults\n",
    "from proveit import A, B, x\n",
    "from proveit.logic import And\n",
    "from proveit.logic.sets import SetEquiv, SubsetEq\n",
    "from proveit.logic.sets.equivalence  import set_equiv_def\n",
    "theory = proveit.Theory() # the theorem's theory"
   ]
  },
  {
   "cell_type": "code",
   "execution_count": 2,
   "metadata": {},
   "outputs": [
    {
     "data": {
      "text/html": [
       "With these <a href=\"allowed_presumptions.txt\">allowed</a>/<a href=\"disallowed_presumptions.txt\">disallowed</a> theorem/theory presumptions (e.g., to avoid circular dependencies), we begin our proof of<br><strong id=\"set_equiv_reversal\">set_equiv_reversal:</strong> <a class=\"ProveItLink\" href=\"../../../__pv_it/theorems/4b0ed3a7ddd516817b2fb676c4846fbe2c0cbcde0/expr.ipynb\"><img src=\"data:image/png;base64,iVBORw0KGgoAAAANSUhEUgAAALoAAAAXBAMAAABOokjyAAAAMFBMVEX///8AAAAAAAAAAAAAAAAA\n",
       "AAAAAAAAAAAAAAAAAAAAAAAAAAAAAAAAAAAAAAAAAAAv3aB7AAAAD3RSTlMAq1RmmUTNIjK7EInv\n",
       "3XZ/CtNrAAAACXBIWXMAAA7EAAAOxAGVKw4bAAACx0lEQVRIx61VTWgTURD+0vxsstvGBEqppyzo\n",
       "sWLAEvBQG/EHSwSDXoooRoqIpdB4EYRiIp4EIUUFqx6SQi0IVlIpeMihNWDxh0pAhYJEVnstVotW\n",
       "rdA487Ibthtp6NYHb3b2zZvvzXwzbxewPaQt2jcenzcyXgLcGhBgfYcN8KY84Mx+C7aNiNfROZWk\n",
       "ZlgHaS4Ah1g/bwN9nEXzMBBKs/bx2gfosfLRFRKeHK4yQ8M20A+wSFGwZ6Kk+MMYD8Ab1Y2uUJIy\n",
       "i/IBUFQb6DMsuinubqbDQbMtfTqpG59Oc0Kv4AxTCnZoT7AM0RxgSIXjrzw32kVb4oD7gLly+bUN\n",
       "dFee5Usq53xtTa4ZsZuCxiRwBLgnlnIW9zqfdcPD7t7fXz71/cN4HBk+PAJchCQqLb8QhuvfCz2i\n",
       "CXzG1kdpQ/NmY1Mjut7Cqft/Ah1hEUtZDL1nokix1kEoOSXOK8qyMDhL8M+sQ59WocwSFqF0AYv6\n",
       "ajM7+Win8qsudP/tgyFuwwyVR6sWtfeNeDiicH41o7tvaNj54D5AubZSh5jRt1GEzrU69MdkKdHz\n",
       "FM3EPrGkna16qZgIm9H9ngBl6mofI7gi5LdmZjK00/GjDp26voXz30XzSb8AwWFhSS10tsOMrrkS\n",
       "TEqEUpPW9uw3iuDjLl+iZswkrLy7uck5/700h8RSr85oF+RWM7o7TWVw3aVxi2syatxGhb0GyD6b\n",
       "s4Y+xN5Ub8SYaRFOrBAS2wg6FTehuwqTq4Yb1UQyePASsdsrweCFunv+sNKPpuwKlel9rcwEKk4p\n",
       "0ofD3JEapFpTUE3ctZf5xj+AkqGdoDKrch7SKuR3JmaYw2WDmVQOEwYz6Gx8ncOG8gzysXPeIiJ/\n",
       "Cj2qCf1oAGMr8eom52Bh6mbN15dshH7Z+mky6b4GvnLDz/Ydy/vJTaDjSgO735pceDPoWxrSf8D4\n",
       "CwNbqXOorpZcAAAAAElFTkSuQmCC\n",
       "\" style=\"display:inline;vertical-align:middle;\" /></a><br>(see <a class=\"ProveItLink\" href=\"../../../__pv_it/theorems/0ea7e075e49512267e6c7e4d20676484f13265f20/dependencies.ipynb\">dependencies</a>)<br>"
      ],
      "text/plain": [
       "<IPython.core.display.HTML object>"
      ]
     },
     "metadata": {},
     "output_type": "display_data"
    }
   ],
   "source": [
    "%proving set_equiv_reversal"
   ]
  },
  {
   "cell_type": "markdown",
   "metadata": {},
   "source": [
    "**While this can be proven through automation, this manual proof is shorter and easy to follow.**"
   ]
  },
  {
   "cell_type": "code",
   "execution_count": 3,
   "metadata": {},
   "outputs": [
    {
     "data": {
      "text/html": [
       "<strong id=\"A_equiv_B\">A_equiv_B:</strong> <a class=\"ProveItLink\" href=\"../../../__pv_it/theorems/2ee8dc2018014830ed832e2e3d65a4df89f102480/expr.ipynb\"><img src=\"data:image/png;base64,iVBORw0KGgoAAAANSUhEUgAAADsAAAAPBAMAAACo4Ko7AAAAMFBMVEX///8AAAAAAAAAAAAAAAAA\n",
       "AAAAAAAAAAAAAAAAAAAAAAAAAAAAAAAAAAAAAAAAAAAv3aB7AAAAD3RSTlMAIs1UmauJMnZmRLsQ\n",
       "3e++988cAAAACXBIWXMAAA7EAAAOxAGVKw4bAAAA+UlEQVQY02NgAAEhBrxAH0zyxF0GkhxgNuf+\n",
       "r6FB2yGyzP/BFG/73AQGBlaIGN8GBob4AjCTJV4ARHUy8KgyMJRApOUbGBjWO4CZiflgZQFArepc\n",
       "FyHS84FC8xtALMaGfgMQDTSZof/fAoh0PBDrgQ1lYbCfAHflASj9moHh6HUwazFDfQK6X9h/d7Rq\n",
       "QpgODPIBINr3LghcBYtxfGRgsAObybHFJX4Dum7uBwwMbN9BrBMMDPwX0KX5geZx/oCYzcD7AF26\n",
       "Hmgw6y8ggwvIYPqAbnc/0E/1CkCGHMimj+i69YD6HgE9efq/DgPz/k9oPov+HxqqDQwrAPAyQLUO\n",
       "1tWZAAAAAElFTkSuQmCC\n",
       "\" style=\"display:inline;vertical-align:middle;\" /></a><br>"
      ],
      "text/plain": [
       "<IPython.core.display.HTML object>"
      ]
     },
     "metadata": {},
     "output_type": "display_data"
    }
   ],
   "source": [
    "A_equiv_B = set_equiv_reversal.condition"
   ]
  },
  {
   "cell_type": "code",
   "execution_count": 4,
   "metadata": {},
   "outputs": [
    {
     "data": {
      "text/html": [
       "<strong id=\"defaults.assumptions\">defaults.assumptions:</strong> <a class=\"ProveItLink\" href=\"../../../__pv_it/_proof_set_equiv_reversal/91427e895f8e8b4616d7c8b7eb13d40f6d5fa1730/expr.ipynb\"><img src=\"data:image/png;base64,iVBORw0KGgoAAAANSUhEUgAAAEgAAAAVBAMAAAAX07VdAAAAMFBMVEX///8AAAAAAAAAAAAAAAAA\n",
       "AAAAAAAAAAAAAAAAAAAAAAAAAAAAAAAAAAAAAAAAAAAv3aB7AAAAD3RSTlMAInZUiRDNmWbv3US7\n",
       "qzJazP2FAAAACXBIWXMAAA7EAAAOxAGVKw4bAAABZUlEQVQoz4VSO0sDQRD+kpi3MakEQUiwSqOx\n",
       "ECE2xh8gBusINoIBH1cEBKtUFiIkjTZaRNIpimBlZWJjZ1IJgsddJ9icsRDExzkzKxYL5gZ2Z/bb\n",
       "b+e5AFLoKz7e/JNiD/9Himdom1L2puzBhya/EzvS+TLv74AswcuCBFxRsYndApBQ76ItwLIRKiJc\n",
       "FSBsSWpZBNeBJ0VKU6BrAxEDUQXMLdisuuRmI36ssBpBNSLuY1qVkMlJ/hQLufcLRbJolSnAKioq\n",
       "Gmarf/UUf/URsHROep5oLJdwCnrtQ59j43K7g6YABtJd1tsnLGeC+XtAnv3ncSjn2y2rpXsarAMD\n",
       "32Q4irQIJBs6KUm+I69kXKlwBrWxrpMcCpX4IGMGNzweOoZe9JxyVL3D89ij+oARzqCneyrT6wNu\n",
       "RwXPQMldQaDzpvXg0TXNNenwKWI2PMTX4PF5CH+BthdplFbJi9SWD9Cf40/hB6voVV8glgiJAAAA\n",
       "AElFTkSuQmCC\n",
       "\" style=\"display:inline;vertical-align:middle;\" /></a><br>"
      ],
      "text/plain": [
       "<IPython.core.display.HTML object>"
      ]
     },
     "metadata": {},
     "output_type": "display_data"
    }
   ],
   "source": [
    "defaults.assumptions = [A_equiv_B]"
   ]
  },
  {
   "cell_type": "code",
   "execution_count": 5,
   "metadata": {},
   "outputs": [
    {
     "data": {
      "text/html": [
       "<strong id=\"unfolded\">unfolded:</strong> <span style=\"font-size:20px;\"><a class=\"ProveItLink\" href=\"../../../__pv_it/theorems/2ee8dc2018014830ed832e2e3d65a4df89f102480/expr.ipynb\"><img src=\"data:image/png;base64,iVBORw0KGgoAAAANSUhEUgAAADsAAAAPBAMAAACo4Ko7AAAAMFBMVEX///8AAAAAAAAAAAAAAAAA\n",
       "AAAAAAAAAAAAAAAAAAAAAAAAAAAAAAAAAAAAAAAAAAAv3aB7AAAAD3RSTlMAIs1UmauJMnZmRLsQ\n",
       "3e++988cAAAACXBIWXMAAA7EAAAOxAGVKw4bAAAA+UlEQVQY02NgAAEhBrxAH0zyxF0GkhxgNuf+\n",
       "r6FB2yGyzP/BFG/73AQGBlaIGN8GBob4AjCTJV4ARHUy8KgyMJRApOUbGBjWO4CZiflgZQFArepc\n",
       "FyHS84FC8xtALMaGfgMQDTSZof/fAoh0PBDrgQ1lYbCfAHflASj9moHh6HUwazFDfQK6X9h/d7Rq\n",
       "QpgODPIBINr3LghcBYtxfGRgsAObybHFJX4Dum7uBwwMbN9BrBMMDPwX0KX5geZx/oCYzcD7AF26\n",
       "Hmgw6y8ggwvIYPqAbnc/0E/1CkCGHMimj+i69YD6HgE9efq/DgPz/k9oPov+HxqqDQwrAPAyQLUO\n",
       "1tWZAAAAAElFTkSuQmCC\n",
       "\" style=\"display:inline;vertical-align:middle;\" /></a> <a class=\"ProveItLink\" href=\"../../../__pv_it/_proof_set_equiv_reversal/f43f31a1102e22ca25090d44d0bc6035c11fe6000/proof.ipynb\" style=\"text-decoration: none\">&nbsp;&#x22A2;&nbsp;&nbsp;</a><a class=\"ProveItLink\" href=\"../../../__pv_it/axioms/24808a060d5765eabdffd0b8f7717d720b4d994d0/expr.ipynb\"><img src=\"data:image/png;base64,iVBORw0KGgoAAAANSUhEUgAAANUAAAAVBAMAAAAjhrYEAAAAMFBMVEX///8AAAAAAAAAAAAAAAAA\n",
       "AAAAAAAAAAAAAAAAAAAAAAAAAAAAAAAAAAAAAAAAAAAv3aB7AAAAD3RSTlMAq1RmmUTNIjK7EInv\n",
       "3XZ/CtNrAAAACXBIWXMAAA7EAAAOxAGVKw4bAAAC90lEQVRIx41VTWgTQRT+svnZNGliglCoICko\n",
       "XlQsUhQvtuAvSKV48KBFgh7EHDReBKFqPKskiKUgto0gQj2I9iJeNCAiKkoUFD0sxKqIHtIWpenJ\n",
       "+t7OZjMzyS4OfJPJm2/mzXzvzVugveUJJryb+Z82ZcN8x5lkH3VzXuvOAeFau3nOz9cxByn+s06e\n",
       "2UgwHnitO0P42mb14O9YSadPFZDsh409bDspzcey1N31cmWsUBcp62Yv/ksgsAzkYOMyi12SpkN0\n",
       "AOzy8hXKkPDBId3swTf/kuJ/gAHY4DPG+6T5bu4qSgAnrY/N8aOnBepf6ZsqfPy0rKw9CNKdguSv\n",
       "u2wjSNeIyMQNrFRWMoRPtyQza/N8rhO6sjIfh381R4EF2vwFoV/gjWW9lpkHWCkKday+5sqsnXlS\n",
       "dELYwhI/1JWV+WaupVEJsbUkRDwlsB+4Ka/jM/MZQvhSG9YT5xCKnHHbeDxscXsHnR9pPaXiVL2H\n",
       "zxbMCpyFmZJ9vSckSKjtGCyvZoOszxAuMXmTdi+FL0VkPg/jGWtcEegqx0fkdc/57mQpYK/9P0oi\n",
       "W5+dLLmxO8M5W9R8yXxc5euKzL5F4GSKLggYNSU1XF/AW/HepAdxH1hVpd/RDr6afMy07IuEQaoy\n",
       "4YoAsjupq+/7llc1RLiBe2yoyhIiwUs2a/FS+AmXHv1NXYbOYVQFMEt5k8z3RpxHNkXoqiE2HqjA\n",
       "rjz1VvZz6i5w7dHupfCTbrlMNsjfEudGSQBjFO0gpqIOgfOZ8tNYvlMJ2+4j7ksf420bzruQm8LH\n",
       "8aY5QhqM5pw3wUCAKwEaTcI1vnwVsYO19VtFwHqPOIFYycGYXqI1HzRfCh+3x8WLDEwvpnuu27KO\n",
       "CDjsSvMLlGDXn+Sdwo9bNUpUj6peoxQ+jk5aSiHBBQdCnXg25Aztwjrg9zkS5Vlp/ny7NLvlOfT9\n",
       "iVvEJjgqeb+l59ss/nz+jijfErfNaI+qvU20Wfz5fJLOpzE5Zy/6LE12WObHxw+Bf3lAyhCyTuT2\n",
       "AAAAAElFTkSuQmCC\n",
       "\" style=\"display:inline;vertical-align:middle;\" /></a></span><br>"
      ],
      "text/plain": [
       "<IPython.core.display.HTML object>"
      ]
     },
     "metadata": {},
     "output_type": "display_data"
    },
    {
     "name": "stdout",
     "output_type": "stream",
     "text": [
      "set_equiv_reversal may now be readily provable (assuming required theorems are usable).  Simply execute \"%qed\".\n"
     ]
    }
   ],
   "source": [
    "unfolded = A_equiv_B.unfold()"
   ]
  },
  {
   "cell_type": "code",
   "execution_count": 6,
   "metadata": {},
   "outputs": [
    {
     "data": {
      "text/html": [
       "<span style=\"font-size:20px;\"><a class=\"ProveItLink\" href=\"../../../__pv_it/theorems/2ee8dc2018014830ed832e2e3d65a4df89f102480/expr.ipynb\"><img src=\"data:image/png;base64,iVBORw0KGgoAAAANSUhEUgAAADsAAAAPBAMAAACo4Ko7AAAAMFBMVEX///8AAAAAAAAAAAAAAAAA\n",
       "AAAAAAAAAAAAAAAAAAAAAAAAAAAAAAAAAAAAAAAAAAAv3aB7AAAAD3RSTlMAIs1UmauJMnZmRLsQ\n",
       "3e++988cAAAACXBIWXMAAA7EAAAOxAGVKw4bAAAA+UlEQVQY02NgAAEhBrxAH0zyxF0GkhxgNuf+\n",
       "r6FB2yGyzP/BFG/73AQGBlaIGN8GBob4AjCTJV4ARHUy8KgyMJRApOUbGBjWO4CZiflgZQFArepc\n",
       "FyHS84FC8xtALMaGfgMQDTSZof/fAoh0PBDrgQ1lYbCfAHflASj9moHh6HUwazFDfQK6X9h/d7Rq\n",
       "QpgODPIBINr3LghcBYtxfGRgsAObybHFJX4Dum7uBwwMbN9BrBMMDPwX0KX5geZx/oCYzcD7AF26\n",
       "Hmgw6y8ggwvIYPqAbnc/0E/1CkCGHMimj+i69YD6HgE9efq/DgPz/k9oPov+HxqqDQwrAPAyQLUO\n",
       "1tWZAAAAAElFTkSuQmCC\n",
       "\" style=\"display:inline;vertical-align:middle;\" /></a> <a class=\"ProveItLink\" href=\"../../../__pv_it/_proof_set_equiv_reversal/08c8806a66dbabd62586163530df16ec7e71f7d60/proof.ipynb\" style=\"text-decoration: none\">&nbsp;&#x22A2;&nbsp;&nbsp;</a><a class=\"ProveItLink\" href=\"../../../__pv_it/_proof_set_equiv_reversal/f5aa19780063396276576dae115fab328d01b3880/expr.ipynb\"><img src=\"data:image/png;base64,iVBORw0KGgoAAAANSUhEUgAAANUAAAAVBAMAAAAjhrYEAAAAMFBMVEX///8AAAAAAAAAAAAAAAAA\n",
       "AAAAAAAAAAAAAAAAAAAAAAAAAAAAAAAAAAAAAAAAAAAv3aB7AAAAD3RSTlMAq1RmmUTNIjK7EInv\n",
       "3XZ/CtNrAAAACXBIWXMAAA7EAAAOxAGVKw4bAAAC/UlEQVRIx42VS2gUQRCG/52ZfWRfJgiBiJqA\n",
       "kotKgoiSiwnEF/ggeJSgCzmIOeh4EYSo8apIgigB0WQPQYyHoLmICLogIirKIih6WJj4QPCwSVCy\n",
       "wYOxqnt2t6dnZrGgm56u+aaqq6tqAL/YNOJoIPZ/7lUlHqrPdtD0pZGt4yFQoJwDoo5kmvl5k6rc\n",
       "QsN4EMj1rLa0nBpFttun2RLq2BkaXyGYvfx8UtElczTdDQFfAZEVYFjfF1CgGKs0xfKCuczxHFeU\n",
       "FjvdHxL4vxSQ38AOXWF1h9my2ummzD7BsMmUGuw0TwXPXdwpfZQrk85kkr10XvtiGsEA8OjZKM2v\n",
       "BWOSRzH1xU4+uBqS6OnalyOL9PJLGvoxOhEMIO4s8EGGJPO2VHqjvnmQD06pkSyvuzonEqlOpseR\n",
       "3EB+ppo1WwzNzt970qEBsNDFfj2UzAHglooNQfpgYd45rCXO2GS5lVGTz22VhDRXob7sRquoZ9pR\n",
       "jHFK75TMWcQ9Xr6nkSH/dqE3v5Y3lHgu2DCec4wL2rkIMm3zT6RbA9CHS/z1rZJpyqcGVOwFx4p2\n",
       "RrFPPCcoyKXPUnebBt91YlGzRVACVs4HZG/saeckH5OM4cQQZAt4J0tHKYglGr3UBKIFvy2iHB8w\n",
       "C6zhuA66TG43TeX932xvDBGt4D5vFGtk4hdN7eSHUdTuiyGcsJN5L0AhRIZtbHOZOarorN0Wc4ts\n",
       "kkaTg+TNSAGiU5XrdVMhe8ucG+PauQiaGViPFLxAlAuK493jMiPkmYnJhKun9OT8NFamC1FhPlar\n",
       "9Bi5ODjs1oRHCOq6coiyzguMsN8VWROCiXBho1LVX+NgFZE84mzeLuPfdsyt5KmlltbrvMoMaLYI\n",
       "mi4b/R1eYGZ1GMbUMhn5oDKJQvWPlWHTnzx94HG95Ui5oHc9AYUD8aLCjKRylrvkPulvrl7xtWYB\n",
       "hQu35hpjfX/6s7qe4CA3+s16/wt1KFzOBzIcZa1G/BLgyUxDWxNh3se5JC82Qn+EQGGStQXzDwhg\n",
       "x16SPoCpAAAAAElFTkSuQmCC\n",
       "\" style=\"display:inline;vertical-align:middle;\" /></a></span>"
      ],
      "text/plain": [
       "{A equiv B} |- forall_{x} ((x in B) = (x in A))"
      ]
     },
     "metadata": {},
     "output_type": "display_data"
    }
   ],
   "source": [
    "unfolded.instantiate().derive_reversed().generalize(x)"
   ]
  },
  {
   "cell_type": "code",
   "execution_count": 7,
   "metadata": {},
   "outputs": [
    {
     "name": "stdout",
     "output_type": "stream",
     "text": [
      "proveit.logic.sets.equivalence.set_equiv_reversal has been proven.\n"
     ]
    },
    {
     "data": {
      "text/html": [
       "<table><tr><th>&nbsp;</th><th>step type</th><th>requirements</th><th>statement</th></tr>\n",
       "<tr><td><a name=\"0x53b7d405a2c2c3e1_step0\">0</a></td><td>generalization</td><td><a href=\"#0x53b7d405a2c2c3e1_step1\">1</a></td><td><span style=\"font-size:20px;\"> <a class=\"ProveItLink\" href=\"../../../__pv_it/_proof_set_equiv_reversal/8ca988635d7e129fa1921704560ed69198fd9e960/proof.ipynb\" style=\"text-decoration: none\">&nbsp;&#x22A2;&nbsp;&nbsp;</a><a class=\"ProveItLink\" href=\"../../../__pv_it/theorems/4b0ed3a7ddd516817b2fb676c4846fbe2c0cbcde0/expr.ipynb\"><img src=\"data:image/png;base64,iVBORw0KGgoAAAANSUhEUgAAALoAAAAXBAMAAABOokjyAAAAMFBMVEX///8AAAAAAAAAAAAAAAAA\n",
       "AAAAAAAAAAAAAAAAAAAAAAAAAAAAAAAAAAAAAAAAAAAv3aB7AAAAD3RSTlMAq1RmmUTNIjK7EInv\n",
       "3XZ/CtNrAAAACXBIWXMAAA7EAAAOxAGVKw4bAAACx0lEQVRIx61VTWgTURD+0vxsstvGBEqppyzo\n",
       "sWLAEvBQG/EHSwSDXoooRoqIpdB4EYRiIp4EIUUFqx6SQi0IVlIpeMihNWDxh0pAhYJEVnstVotW\n",
       "rdA487Ibthtp6NYHb3b2zZvvzXwzbxewPaQt2jcenzcyXgLcGhBgfYcN8KY84Mx+C7aNiNfROZWk\n",
       "ZlgHaS4Ah1g/bwN9nEXzMBBKs/bx2gfosfLRFRKeHK4yQ8M20A+wSFGwZ6Kk+MMYD8Ab1Y2uUJIy\n",
       "i/IBUFQb6DMsuinubqbDQbMtfTqpG59Oc0Kv4AxTCnZoT7AM0RxgSIXjrzw32kVb4oD7gLly+bUN\n",
       "dFee5Usq53xtTa4ZsZuCxiRwBLgnlnIW9zqfdcPD7t7fXz71/cN4HBk+PAJchCQqLb8QhuvfCz2i\n",
       "CXzG1kdpQ/NmY1Mjut7Cqft/Ah1hEUtZDL1nokix1kEoOSXOK8qyMDhL8M+sQ59WocwSFqF0AYv6\n",
       "ajM7+Win8qsudP/tgyFuwwyVR6sWtfeNeDiicH41o7tvaNj54D5AubZSh5jRt1GEzrU69MdkKdHz\n",
       "FM3EPrGkna16qZgIm9H9ngBl6mofI7gi5LdmZjK00/GjDp26voXz30XzSb8AwWFhSS10tsOMrrkS\n",
       "TEqEUpPW9uw3iuDjLl+iZswkrLy7uck5/700h8RSr85oF+RWM7o7TWVw3aVxi2syatxGhb0GyD6b\n",
       "s4Y+xN5Ub8SYaRFOrBAS2wg6FTehuwqTq4Yb1UQyePASsdsrweCFunv+sNKPpuwKlel9rcwEKk4p\n",
       "0ofD3JEapFpTUE3ctZf5xj+AkqGdoDKrch7SKuR3JmaYw2WDmVQOEwYz6Gx8ncOG8gzysXPeIiJ/\n",
       "Cj2qCf1oAGMr8eom52Bh6mbN15dshH7Z+mky6b4GvnLDz/Ydy/vJTaDjSgO735pceDPoWxrSf8D4\n",
       "CwNbqXOorpZcAAAAAElFTkSuQmCC\n",
       "\" style=\"display:inline;vertical-align:middle;\" /></a></span></td></tr>\n",
       "<tr><td><a name=\"0x53b7d405a2c2c3e1_step1\">1</a></td><td>instantiation</td><td><a href=\"#0x53b7d405a2c2c3e1_step2\">2</a>, <a href=\"#0x53b7d405a2c2c3e1_step3\">3</a></td><td><span style=\"font-size:20px;\"><a class=\"ProveItLink\" href=\"../../../__pv_it/theorems/2ee8dc2018014830ed832e2e3d65a4df89f102480/expr.ipynb\"><img src=\"data:image/png;base64,iVBORw0KGgoAAAANSUhEUgAAADsAAAAPBAMAAACo4Ko7AAAAMFBMVEX///8AAAAAAAAAAAAAAAAA\n",
       "AAAAAAAAAAAAAAAAAAAAAAAAAAAAAAAAAAAAAAAAAAAv3aB7AAAAD3RSTlMAIs1UmauJMnZmRLsQ\n",
       "3e++988cAAAACXBIWXMAAA7EAAAOxAGVKw4bAAAA+UlEQVQY02NgAAEhBrxAH0zyxF0GkhxgNuf+\n",
       "r6FB2yGyzP/BFG/73AQGBlaIGN8GBob4AjCTJV4ARHUy8KgyMJRApOUbGBjWO4CZiflgZQFArepc\n",
       "FyHS84FC8xtALMaGfgMQDTSZof/fAoh0PBDrgQ1lYbCfAHflASj9moHh6HUwazFDfQK6X9h/d7Rq\n",
       "QpgODPIBINr3LghcBYtxfGRgsAObybHFJX4Dum7uBwwMbN9BrBMMDPwX0KX5geZx/oCYzcD7AF26\n",
       "Hmgw6y8ggwvIYPqAbnc/0E/1CkCGHMimj+i69YD6HgE9efq/DgPz/k9oPov+HxqqDQwrAPAyQLUO\n",
       "1tWZAAAAAElFTkSuQmCC\n",
       "\" style=\"display:inline;vertical-align:middle;\" /></a> <a class=\"ProveItLink\" href=\"../../../__pv_it/_proof_set_equiv_reversal/d19685ec9d6715fcbf57cb61a8c4e96d42a2541d0/proof.ipynb\" style=\"text-decoration: none\">&nbsp;&#x22A2;&nbsp;&nbsp;</a><a class=\"ProveItLink\" href=\"../../../__pv_it/theorems/64ce83c197b559a3346c83d03b24881cab5757470/expr.ipynb\"><img src=\"data:image/png;base64,iVBORw0KGgoAAAANSUhEUgAAADsAAAAPBAMAAACo4Ko7AAAAMFBMVEX///8AAAAAAAAAAAAAAAAA\n",
       "AAAAAAAAAAAAAAAAAAAAAAAAAAAAAAAAAAAAAAAAAAAv3aB7AAAAD3RSTlMAZrurzTLvInZEmRDd\n",
       "VIkafcLnAAAACXBIWXMAAA7EAAAOxAGVKw4bAAAA9klEQVQY02NgwA1KwKTQf2NjpwAQa3POBSDZ\n",
       "AJP2h1BJDAzMX0GME4HngKQBVJb3P5hi/8HAwPkLyOAQYNhiwMC6ACrNZV8AohiBOhmBShiYgdgk\n",
       "YE4BVPr5e7CNzB8YGFjSgQw+kAn/M6Gy7A39IJcwsCkwcNsEwNzDDWNwMdwXANHxGh0mApjemssQ\n",
       "/wBE9xcw8CaC1Z8BA6jLFzDUg1lqQPw+AF0zh9YqewUQ4zMQyzegS+9gYOA/AKRZPwIJ+wno0kDf\n",
       "8ySATPkOVPIF3W5OoGNZgD5mYAGqmeaNrrkMiJmAGpn1Pxub6KLLbvrvzcCr/+UBALUVPjdHvMSF\n",
       "AAAAAElFTkSuQmCC\n",
       "\" style=\"display:inline;vertical-align:middle;\" /></a></span></td></tr>\n",
       "<tr><td>&nbsp;</td><td colspan=4 style=\"text-align:left\"><span style=\"font-size:20px;\"><a class=\"ProveItLink\" href=\"../../../../../../__pv_it/common/09585084922504426caf1db2ff588a23a0932a960/expr.ipynb\"><img src=\"data:image/png;base64,iVBORw0KGgoAAAANSUhEUgAAAA8AAAAPBAMAAADJ+Ih5AAAAMFBMVEX///8AAAAAAAAAAAAAAAAA\n",
       "AAAAAAAAAAAAAAAAAAAAAAAAAAAAAAAAAAAAAAAAAAAv3aB7AAAAD3RSTlMAIs1UmauJMnZmRLsQ\n",
       "3e++988cAAAACXBIWXMAAA7EAAAOxAGVKw4bAAAAXklEQVQI12NgAAEhBijQh9LM/6EMlngBCCMx\n",
       "vwBMMzb0G0BkGOwngBmLGeoTwAwHBvkAEM2xxSV+A4hxgoGB/wJEhoH3AZDmAupg+gBkyAEx90cG\n",
       "htP/dRiY939KAABt3hLO6mcEjQAAAABJRU5ErkJggg==\n",
       "\" style=\"display:inline;vertical-align:middle;\" /></a> : <a class=\"ProveItLink\" href=\"../../../../../../__pv_it/common/a9162d1c3cc0470c02e5daf414500903a7a419230/expr.ipynb\"><img src=\"data:image/png;base64,iVBORw0KGgoAAAANSUhEUgAAABAAAAAOBAMAAADUAYG5AAAAMFBMVEX///8AAAAAAAAAAAAAAAAA\n",
       "AAAAAAAAAAAAAAAAAAAAAAAAAAAAAAAAAAAAAAAAAAAv3aB7AAAAD3RSTlMAZrurzTLvInZEmRDd\n",
       "VIkafcLnAAAACXBIWXMAAA7EAAAOxAGVKw4bAAAAb0lEQVQI12NgYBD6b2zsFMAABEkMDMxfgTT7\n",
       "DwYGzl9ABiOQxwjkMDB/YGBgSQcy2BQYuG1AiuM1OkwEQJr6Cxh4E0EMNSB+D5L6DMTyDQwMrB+B\n",
       "DPsJDAwc34GcL0AOSwIDwzRvoHH6n41NdBkYAF/iFeJ4bEa2AAAAAElFTkSuQmCC\n",
       "\" style=\"display:inline;vertical-align:middle;\" /></a>, <a class=\"ProveItLink\" href=\"../../../../../../__pv_it/common/a9162d1c3cc0470c02e5daf414500903a7a419230/expr.ipynb\"><img src=\"data:image/png;base64,iVBORw0KGgoAAAANSUhEUgAAABAAAAAOBAMAAADUAYG5AAAAMFBMVEX///8AAAAAAAAAAAAAAAAA\n",
       "AAAAAAAAAAAAAAAAAAAAAAAAAAAAAAAAAAAAAAAAAAAv3aB7AAAAD3RSTlMAZrurzTLvInZEmRDd\n",
       "VIkafcLnAAAACXBIWXMAAA7EAAAOxAGVKw4bAAAAb0lEQVQI12NgYBD6b2zsFMAABEkMDMxfgTT7\n",
       "DwYGzl9ABiOQxwjkMDB/YGBgSQcy2BQYuG1AiuM1OkwEQJr6Cxh4E0EMNSB+D5L6DMTyDQwMrB+B\n",
       "DPsJDAwc34GcL0AOSwIDwzRvoHH6n41NdBkYAF/iFeJ4bEa2AAAAAElFTkSuQmCC\n",
       "\" style=\"display:inline;vertical-align:middle;\" /></a> : <a class=\"ProveItLink\" href=\"../../../../../../__pv_it/common/09585084922504426caf1db2ff588a23a0932a960/expr.ipynb\"><img src=\"data:image/png;base64,iVBORw0KGgoAAAANSUhEUgAAAA8AAAAPBAMAAADJ+Ih5AAAAMFBMVEX///8AAAAAAAAAAAAAAAAA\n",
       "AAAAAAAAAAAAAAAAAAAAAAAAAAAAAAAAAAAAAAAAAAAv3aB7AAAAD3RSTlMAIs1UmauJMnZmRLsQ\n",
       "3e++988cAAAACXBIWXMAAA7EAAAOxAGVKw4bAAAAXklEQVQI12NgAAEhBijQh9LM/6EMlngBCCMx\n",
       "vwBMMzb0G0BkGOwngBmLGeoTwAwHBvkAEM2xxSV+A4hxgoGB/wJEhoH3AZDmAupg+gBkyAEx90cG\n",
       "htP/dRiY939KAABt3hLO6mcEjQAAAABJRU5ErkJggg==\n",
       "\" style=\"display:inline;vertical-align:middle;\" /></a></span></td></tr><tr><td><a name=\"0x53b7d405a2c2c3e1_step2\">2</a></td><td>theorem</td><td></td><td><span style=\"font-size:20px;\"> <a class=\"ProveItLink\" href=\"../set_equiv_fold/thm_proof.ipynb\" style=\"text-decoration: none\">&nbsp;&#x22A2;&nbsp;&nbsp;</a><a class=\"ProveItLink\" href=\"../../../__pv_it/theorems/206dd758e7fc3f8531e25faa88c1366cdb879a030/expr.ipynb\"><img src=\"data:image/png;base64,iVBORw0KGgoAAAANSUhEUgAAASMAAAAXBAMAAACykjQRAAAAMFBMVEX///8AAAAAAAAAAAAAAAAA\n",
       "AAAAAAAAAAAAAAAAAAAAAAAAAAAAAAAAAAAAAAAAAAAv3aB7AAAAD3RSTlMAq1RmmUTNIjK7EInv\n",
       "3XZ/CtNrAAAACXBIWXMAAA7EAAAOxAGVKw4bAAAD3klEQVRIx71XTWgTQRT+kjTJ7kbXFqTag3RF\n",
       "QbxoDq0gokZsrUXQgBf/rYJI68F4EURtI56KokGQuiJ2vRREhKIgakGrIiqi9OBB0Eq0SlGkWhV/\n",
       "0fpmJjszTSLRgxlmdybvzXv7zXvfvN0A5W3REvoUyt5eCGAtf9JvoquSTWaUC1Gwlw+R93w488Ch\n",
       "e5bP549VVbWmYceBRvZ7e7kg9YhhroD07OATPyjAPSDwFWgDDrA4ZsoFaakYlnxhd4pITyWMhMjl\n",
       "LyD8CaijGHpAzCkXpH5+j+39yoYAXdXpjYLRIRKFCNYEDyFKXqRsVBK0brc/cGQsUmO3hSpAuYzc\n",
       "oYvwPBgcvF8uSBWC3YngRymycuOEDKxpacJJ1FoOnORCL8+82C5TrI9rHmzt16wCE1ueKYgQEGUc\n",
       "40fBuqOnR6qZNkSB3IUo57x1l6s6P/U1p9nE5LH1xmGr511vzCohf4WSuk64SmgeJjpis9FRPg7y\n",
       "Jk7cO9rtLbZropvpxbij2AfhdQB2v4QUpg2eUc+vZF0047mbzFmtlwvk0iM1x31XpA33+tnhT3rd\n",
       "sORbQZRO0XWdYmEQp4JZwe41DwXNEgi9l5BAYbyscplkXbSGtLSKyJQ3+guXK1dM26ZDsmibPwsg\n",
       "sbgtJk2YxaNlEZdltwgrB+fjCtI811VFayLvGGl6mbLjkFaqhgwQd162N2FIc8W0F/TEsTQ+zUdk\n",
       "MMLXEuIg+cCFNkHDZVzXMVQ3FQqSCVsVrd2826maiHPWJy9ZBRNodqnF2atrOJDZamU0V6TFzJwD\n",
       "kxF9NV0787lkU/E0PjPiMNt9XLYGb7nVQliTNUixtFa01vIewmmD+/Wtwn4c2SRuZtPhuOaKCdfm\n",
       "FrATHmWZ6c5/40dIuqHNrxMBzooVfbWcEuSkI6kgWZVzlN103oEvPKGuk7MyfEhBtrlJKYRaXfeY\n",
       "74ppO/30DMDq/uxh9tiO8YgC3aNV1cd4bpNa+ejg0G4Cm1URAKachLFgSJzzTuHc6I/ikGYlE8ex\n",
       "HUbKECdMuNITh8clq+l+OaNETHKsXkS/w3qkJQ6ddGyMTK9G732xlgoqHdIKdlbRO9p/iSoRr705\n",
       "V0w74i+o+9sXM2XwBqxV24ybmPejr9nRIZkpyGfSnHrFq2tvED0hrfgS0bqAletHPOxhcc65Ytou\n",
       "f4FZ6qux4KMkqM1N9U4w04KvVPJk1Tvnun7Wz8qVftG0rrjHobSWfI5V6jOoAPO6opACiy6Kuogm\n",
       "3vObElWkimo1cXsJSMP5gnhRSKrRKy/m5Qv1F9tVFNPW/8//El7BB4P6vMifK4n3Tw/+DYDq/ZXU\n",
       "CZDkAAAAAElFTkSuQmCC\n",
       "\" style=\"display:inline;vertical-align:middle;\" /></a></span></td></tr>\n",
       "<tr><td>&nbsp;</td><td colspan=4 style-\"text-align:left\"><a class=\"ProveItLink\" href=\"../set_equiv_fold/thm_proof.ipynb\">proveit.logic.sets.equivalence.set_equiv_fold</a></td></tr><tr><td><a name=\"0x53b7d405a2c2c3e1_step3\">3</a></td><td>generalization</td><td><a href=\"#0x53b7d405a2c2c3e1_step4\">4</a></td><td><span style=\"font-size:20px;\"><a class=\"ProveItLink\" href=\"../../../__pv_it/theorems/2ee8dc2018014830ed832e2e3d65a4df89f102480/expr.ipynb\"><img src=\"data:image/png;base64,iVBORw0KGgoAAAANSUhEUgAAADsAAAAPBAMAAACo4Ko7AAAAMFBMVEX///8AAAAAAAAAAAAAAAAA\n",
       "AAAAAAAAAAAAAAAAAAAAAAAAAAAAAAAAAAAAAAAAAAAv3aB7AAAAD3RSTlMAIs1UmauJMnZmRLsQ\n",
       "3e++988cAAAACXBIWXMAAA7EAAAOxAGVKw4bAAAA+UlEQVQY02NgAAEhBrxAH0zyxF0GkhxgNuf+\n",
       "r6FB2yGyzP/BFG/73AQGBlaIGN8GBob4AjCTJV4ARHUy8KgyMJRApOUbGBjWO4CZiflgZQFArepc\n",
       "FyHS84FC8xtALMaGfgMQDTSZof/fAoh0PBDrgQ1lYbCfAHflASj9moHh6HUwazFDfQK6X9h/d7Rq\n",
       "QpgODPIBINr3LghcBYtxfGRgsAObybHFJX4Dum7uBwwMbN9BrBMMDPwX0KX5geZx/oCYzcD7AF26\n",
       "Hmgw6y8ggwvIYPqAbnc/0E/1CkCGHMimj+i69YD6HgE9efq/DgPz/k9oPov+HxqqDQwrAPAyQLUO\n",
       "1tWZAAAAAElFTkSuQmCC\n",
       "\" style=\"display:inline;vertical-align:middle;\" /></a> <a class=\"ProveItLink\" href=\"../../../__pv_it/_proof_set_equiv_reversal/08c8806a66dbabd62586163530df16ec7e71f7d60/proof.ipynb\" style=\"text-decoration: none\">&nbsp;&#x22A2;&nbsp;&nbsp;</a><a class=\"ProveItLink\" href=\"../../../__pv_it/_proof_set_equiv_reversal/f5aa19780063396276576dae115fab328d01b3880/expr.ipynb\"><img src=\"data:image/png;base64,iVBORw0KGgoAAAANSUhEUgAAANUAAAAVBAMAAAAjhrYEAAAAMFBMVEX///8AAAAAAAAAAAAAAAAA\n",
       "AAAAAAAAAAAAAAAAAAAAAAAAAAAAAAAAAAAAAAAAAAAv3aB7AAAAD3RSTlMAq1RmmUTNIjK7EInv\n",
       "3XZ/CtNrAAAACXBIWXMAAA7EAAAOxAGVKw4bAAAC/UlEQVRIx42VS2gUQRCG/52ZfWRfJgiBiJqA\n",
       "kotKgoiSiwnEF/ggeJSgCzmIOeh4EYSo8apIgigB0WQPQYyHoLmICLogIirKIih6WJj4QPCwSVCy\n",
       "wYOxqnt2t6dnZrGgm56u+aaqq6tqAL/YNOJoIPZ/7lUlHqrPdtD0pZGt4yFQoJwDoo5kmvl5k6rc\n",
       "QsN4EMj1rLa0nBpFttun2RLq2BkaXyGYvfx8UtElczTdDQFfAZEVYFjfF1CgGKs0xfKCuczxHFeU\n",
       "FjvdHxL4vxSQ38AOXWF1h9my2ummzD7BsMmUGuw0TwXPXdwpfZQrk85kkr10XvtiGsEA8OjZKM2v\n",
       "BWOSRzH1xU4+uBqS6OnalyOL9PJLGvoxOhEMIO4s8EGGJPO2VHqjvnmQD06pkSyvuzonEqlOpseR\n",
       "3EB+ppo1WwzNzt970qEBsNDFfj2UzAHglooNQfpgYd45rCXO2GS5lVGTz22VhDRXob7sRquoZ9pR\n",
       "jHFK75TMWcQ9Xr6nkSH/dqE3v5Y3lHgu2DCec4wL2rkIMm3zT6RbA9CHS/z1rZJpyqcGVOwFx4p2\n",
       "RrFPPCcoyKXPUnebBt91YlGzRVACVs4HZG/saeckH5OM4cQQZAt4J0tHKYglGr3UBKIFvy2iHB8w\n",
       "C6zhuA66TG43TeX932xvDBGt4D5vFGtk4hdN7eSHUdTuiyGcsJN5L0AhRIZtbHOZOarorN0Wc4ts\n",
       "kkaTg+TNSAGiU5XrdVMhe8ucG+PauQiaGViPFLxAlAuK493jMiPkmYnJhKun9OT8NFamC1FhPlar\n",
       "9Bi5ODjs1oRHCOq6coiyzguMsN8VWROCiXBho1LVX+NgFZE84mzeLuPfdsyt5KmlltbrvMoMaLYI\n",
       "mi4b/R1eYGZ1GMbUMhn5oDKJQvWPlWHTnzx94HG95Ui5oHc9AYUD8aLCjKRylrvkPulvrl7xtWYB\n",
       "hQu35hpjfX/6s7qe4CA3+s16/wt1KFzOBzIcZa1G/BLgyUxDWxNh3se5JC82Qn+EQGGStQXzDwhg\n",
       "x16SPoCpAAAAAElFTkSuQmCC\n",
       "\" style=\"display:inline;vertical-align:middle;\" /></a></span></td></tr>\n",
       "<tr><td><a name=\"0x53b7d405a2c2c3e1_step4\">4</a></td><td>instantiation</td><td><a href=\"#0x53b7d405a2c2c3e1_step5\">5</a>, <a href=\"#0x53b7d405a2c2c3e1_step6\">6</a></td><td><span style=\"font-size:20px;\"><a class=\"ProveItLink\" href=\"../../../__pv_it/theorems/2ee8dc2018014830ed832e2e3d65a4df89f102480/expr.ipynb\"><img src=\"data:image/png;base64,iVBORw0KGgoAAAANSUhEUgAAADsAAAAPBAMAAACo4Ko7AAAAMFBMVEX///8AAAAAAAAAAAAAAAAA\n",
       "AAAAAAAAAAAAAAAAAAAAAAAAAAAAAAAAAAAAAAAAAAAv3aB7AAAAD3RSTlMAIs1UmauJMnZmRLsQ\n",
       "3e++988cAAAACXBIWXMAAA7EAAAOxAGVKw4bAAAA+UlEQVQY02NgAAEhBrxAH0zyxF0GkhxgNuf+\n",
       "r6FB2yGyzP/BFG/73AQGBlaIGN8GBob4AjCTJV4ARHUy8KgyMJRApOUbGBjWO4CZiflgZQFArepc\n",
       "FyHS84FC8xtALMaGfgMQDTSZof/fAoh0PBDrgQ1lYbCfAHflASj9moHh6HUwazFDfQK6X9h/d7Rq\n",
       "QpgODPIBINr3LghcBYtxfGRgsAObybHFJX4Dum7uBwwMbN9BrBMMDPwX0KX5geZx/oCYzcD7AF26\n",
       "Hmgw6y8ggwvIYPqAbnc/0E/1CkCGHMimj+i69YD6HgE9efq/DgPz/k9oPov+HxqqDQwrAPAyQLUO\n",
       "1tWZAAAAAElFTkSuQmCC\n",
       "\" style=\"display:inline;vertical-align:middle;\" /></a> <a class=\"ProveItLink\" href=\"../../../__pv_it/_proof_set_equiv_reversal/2f3e887b609dd353b905fff05fb3e022ea20f1d80/proof.ipynb\" style=\"text-decoration: none\">&nbsp;&#x22A2;&nbsp;&nbsp;</a><a class=\"ProveItLink\" href=\"../../../__pv_it/_proof_set_equiv_reversal/b429932c3c68accfeb578124c929296efb0e5a9c0/expr.ipynb\"><img src=\"data:image/png;base64,iVBORw0KGgoAAAANSUhEUgAAAKMAAAAVBAMAAADY0UPbAAAAMFBMVEX///8AAAAAAAAAAAAAAAAA\n",
       "AAAAAAAAAAAAAAAAAAAAAAAAAAAAAAAAAAAAAAAAAAAv3aB7AAAAD3RSTlMAInZUiRDNmWbv3US7\n",
       "qzJazP2FAAAACXBIWXMAAA7EAAAOxAGVKw4bAAACHUlEQVQ4y4WVPUhbURTH/y/Jy4sfeQQRB3Gw\n",
       "mRyUOohgKaSDY8XQxUUkLQoOhWYQagchk10E41AQ6xAoCKYOQSnUqVGndok4BJQGs7i4JK1fRUzi\n",
       "Oe+FpLm59+XCffdyzvmde8+5594HIAB102RCJ8DSuYYdLDr6m2VKQIsAuzwZketXKrnc2zwGmjUj\n",
       "qvW9RVovBugRhcEm4C/DGxblSgAhcok5wIgpovhLYd/BFxUVKgBY+kOfj0BbY55+Jbfsma9Mndx+\n",
       "EkEVAE93mdVhjDacxptanH6KwrsGzIsuVQC6XFec0BgWaHg1NDNuHWNP3aAtDf0sD0yILlUAou5/\n",
       "vNdjaxdR14mRYOnrukHhMJjlrC1b+Uta7ZjnKqBj2LzmhEXwhb4B343fSvp/h/k0APc6jWPiLlWA\n",
       "Aa1EgzuOz4AJw1aZG7SVHdviJ/VJCrwgulQBg++XHlhUZAtKnH1J9HSd5BVXSbwvcSkDdJLcc/xx\n",
       "jgP4EdCtPCdqFian+jwFPBNzqQAM6tsceAKHwHTqFB5LHqzXG5WtecsXU9ylAvhO/R0fT5qLJHTx\n",
       "AXv2La29CN44xTxXrZmGJgc0skeG3iHjBS6BqaB70Vbpv79VCz1TymWPePZVdCkF9MxtGM8rs0B7\n",
       "Cu35htvwsna/qqsnRJctgF5I3oUWj0QLYJH6gaNFX7PIEdC4rKYdXUp4R6CT/xRav4OFS/KfcQSe\n",
       "AI96gZUXt6t8wAAAAABJRU5ErkJggg==\n",
       "\" style=\"display:inline;vertical-align:middle;\" /></a></span></td></tr>\n",
       "<tr><td>&nbsp;</td><td colspan=4 style=\"text-align:left\"><span style=\"font-size:20px;\"><a class=\"ProveItLink\" href=\"../../../../../../__pv_it/common/a0d9d672aa5e272d907247690c152cc2c6daafb70/expr.ipynb\"><img src=\"data:image/png;base64,iVBORw0KGgoAAAANSUhEUgAAAAsAAAAJBAMAAAAWSsseAAAAMFBMVEX///8AAAAAAAAAAAAAAAAA\n",
       "AAAAAAAAAAAAAAAAAAAAAAAAAAAAAAAAAAAAAAAAAAAv3aB7AAAAD3RSTlMAEHarMolUmd1mIs3v\n",
       "RLtmgJDEAAAACXBIWXMAAA7EAAAOxAGVKw4bAAAAQklEQVQI12NgEFIWCU1gYChgMmJvYOBcwPmR\n",
       "eQIDCwP7BgYQ4FEAU/cXMAowyF2wYWBlYMh3rGG4xsAgrsRWmcAAAFEjCyBvD0T9AAAAAElFTkSu\n",
       "QmCC\n",
       "\" style=\"display:inline;vertical-align:middle;\" /></a> : <a class=\"ProveItLink\" href=\"../../../__pv_it/axioms/bffc8f58d953dcb8331468867a32979a833e73840/expr.ipynb\"><img src=\"data:image/png;base64,iVBORw0KGgoAAAANSUhEUgAAADUAAAAQBAMAAABEqSrGAAAAMFBMVEX///8AAAAAAAAAAAAAAAAA\n",
       "AAAAAAAAAAAAAAAAAAAAAAAAAAAAAAAAAAAAAAAAAAAv3aB7AAAAD3RSTlMAEHarMolUmd1mIs3v\n",
       "RLtmgJDEAAAACXBIWXMAAA7EAAAOxAGVKw4bAAAAzklEQVQY02NgwAFWM+AG+3FLsf3HLcduvwCF\n",
       "z/SioxvGjop3QJbi3SQAZ3Mp6CcAKSFlkdAEsMsEkIxkyJ8ApAqYjNgbQPxdSGZcY/APYGDgXMD5\n",
       "kRmkhmEDklwBw3oDBgYWBnaIIMuJjo6OPqirnpfbPwAxeBTAfMYHCG1CDAz8YHvuL2AEu6IB2UgG\n",
       "jgMMDHIXbBhYwQJKCN8A7ef+wMCQ71gDdBUIcCfA5NYAMd8vBgZxJbZKiCCj3UWIlNz/jQxs738H\n",
       "oARMHCLMQAAAARYsAl5K88AAAAAASUVORK5CYII=\n",
       "\" style=\"display:inline;vertical-align:middle;\" /></a>, <a class=\"ProveItLink\" href=\"../../../../../../__pv_it/common/ff7dba4ef0bbe791ab573bf2d9c220a304399ac80/expr.ipynb\"><img src=\"data:image/png;base64,iVBORw0KGgoAAAANSUhEUgAAAAsAAAANBAMAAACN24kIAAAAMFBMVEX///8AAAAAAAAAAAAAAAAA\n",
       "AAAAAAAAAAAAAAAAAAAAAAAAAAAAAAAAAAAAAAAAAAAv3aB7AAAAD3RSTlMAEHaZZquJVO8y3btE\n",
       "zSKD2s2pAAAACXBIWXMAAA7EAAAOxAGVKw4bAAAAVklEQVQI12NgVHZgEGVgYGNvYPBnYJjOvIAh\n",
       "moFBgEOBoYmBgeG8AOdPIGXLwNQApLYycAcAKVOG8w5ASjTJ/gEDCOQCMdsFxnYgxaXAmgCk2J1s\n",
       "gCQAaFoNDtFIIdEAAAAASUVORK5CYII=\n",
       "\" style=\"display:inline;vertical-align:middle;\" /></a> : <a class=\"ProveItLink\" href=\"../../../__pv_it/axioms/fd887bd5ac8499adb0944f106e649fd3447c9f0d0/expr.ipynb\"><img src=\"data:image/png;base64,iVBORw0KGgoAAAANSUhEUgAAADUAAAAPBAMAAAC2KZqIAAAAMFBMVEX///8AAAAAAAAAAAAAAAAA\n",
       "AAAAAAAAAAAAAAAAAAAAAAAAAAAAAAAAAAAAAAAAAAAv3aB7AAAAD3RSTlMAEHarMolUmd1mIs3v\n",
       "RLtmgJDEAAAACXBIWXMAAA7EAAAOxAGVKw4bAAAA3ElEQVQY02NgwAI43382tn7CgB3wPGBgsHfA\n",
       "LrdegYHhfgGyiF5HxwYIaz5Qz3wFJKnbinCmPRDvWcDAIKQsEpoAZHNtRCg7x8Ag3AKkC5iM2BuA\n",
       "NPcCuBTLPyXlnSD3LuD8yDwBJIfQxvSLgSEHKMbCwA5xgE8HEDwAM/kOMDCwfgF7BuIgOYQ+fgOg\n",
       "eZ9ArPsLGAWAFAdCzh9oHvNfoPILNgysYEsQ/tEHOssfaFO+Yw3DNbDINrjcHgYG3tNAs8SV2CoT\n",
       "wCLCbwUgUnb/jY33JaCG4tUXsDCDAABwgzI50p7dfQAAAABJRU5ErkJggg==\n",
       "\" style=\"display:inline;vertical-align:middle;\" /></a></span></td></tr><tr><td><a name=\"0x53b7d405a2c2c3e1_step5\">5</a></td><td>theorem</td><td></td><td><span style=\"font-size:20px;\"> <a class=\"ProveItLink\" href=\"../../../../../equality/_theory_nbs_/proofs/equals_reversal/thm_proof.ipynb\" style=\"text-decoration: none\">&nbsp;&#x22A2;&nbsp;&nbsp;</a><a class=\"ProveItLink\" href=\"../../../../../equality/__pv_it/theorems/6eaa0fec06de9345737f83f0a1ce382c3a3515530/expr.ipynb\"><img src=\"data:image/png;base64,iVBORw0KGgoAAAANSUhEUgAAAKEAAAAXBAMAAACR7DLtAAAAMFBMVEX///8AAAAAAAAAAAAAAAAA\n",
       "AAAAAAAAAAAAAAAAAAAAAAAAAAAAAAAAAAAAAAAAAAAv3aB7AAAAD3RSTlMAq1RmmUTNIjK7EInv\n",
       "3XZ/CtNrAAAACXBIWXMAAA7EAAAOxAGVKw4bAAACFElEQVQ4y51VTUjcUBD+stm3v1YDnqxQApVe\n",
       "2sJSCuJFBbG1lBVPPZZAD0JP22uxYM+1WA8iepAcvPiDbD30WPYiFEqlFQQvWyJsKS1FBA8rnvq9\n",
       "5ya7iUkgO/AyL/NlvsybmUyA5FLpCoqRXjMae85lyM3tJIx3495WAiblZjYBYcGKQ18Cb6myHxIw\n",
       "pktx6EMgYwNFMwFjTzxqQ+crM0nSeCcWzZDuW73+NQnjU67dCRSMQHpPb77b43FpngLWrrmNRzO+\n",
       "4Kreg35GXa5L+aHSixOnDOis2ytkjWtuMaU6BHJmGVrgkWGM2f1Aqgbk7eJMEsZ9nhAH6HH85nk8\n",
       "kirH0FNOSGHiGSEusTgfBA7kRTBGWKO8nD5u8JsUJ9A6GK+M6kEXUKdG2sI/+PMI0cQW4/vO7R77\n",
       "vLcykGFT7vbZC21GZXyySil5ALDOlTewFCj1slZDlZWRnnMsjI71HLev7+NPm7FlRCcAfJQxGuLc\n",
       "z5i62KgJxpQmKzSVkaYCBnGrM49Nz8MFgPcyosFGMxDjtDP0gPqGV+VcLSvVEb50MErj1ak9gD4q\n",
       "gGLEvHjjbuaKVhrbwLE4azMqY0tcgLlg93/CTsQomPAGyq/Pf7FgYmjEajMqY0tcgLIC/GQWQiU4\n",
       "xcxCJV8K7UcPoGxyQjdmwhnz/t+CsDXnWXiHe4CMw4lu/9/+Wx1itBrO6AFdS6V71//TzoWc8iuM\n",
       "ngAAAABJRU5ErkJggg==\n",
       "\" style=\"display:inline;vertical-align:middle;\" /></a></span></td></tr>\n",
       "<tr><td>&nbsp;</td><td colspan=4 style-\"text-align:left\"><a class=\"ProveItLink\" href=\"../../../../../equality/_theory_nbs_/proofs/equals_reversal/thm_proof.ipynb\">proveit.logic.equality.equals_reversal</a></td></tr><tr><td><a name=\"0x53b7d405a2c2c3e1_step6\">6</a></td><td>instantiation</td><td><a href=\"#0x53b7d405a2c2c3e1_step7\">7</a>, <a href=\"#0x53b7d405a2c2c3e1_step8\">8</a></td><td><span style=\"font-size:20px;\"><a class=\"ProveItLink\" href=\"../../../__pv_it/theorems/2ee8dc2018014830ed832e2e3d65a4df89f102480/expr.ipynb\"><img src=\"data:image/png;base64,iVBORw0KGgoAAAANSUhEUgAAADsAAAAPBAMAAACo4Ko7AAAAMFBMVEX///8AAAAAAAAAAAAAAAAA\n",
       "AAAAAAAAAAAAAAAAAAAAAAAAAAAAAAAAAAAAAAAAAAAv3aB7AAAAD3RSTlMAIs1UmauJMnZmRLsQ\n",
       "3e++988cAAAACXBIWXMAAA7EAAAOxAGVKw4bAAAA+UlEQVQY02NgAAEhBrxAH0zyxF0GkhxgNuf+\n",
       "r6FB2yGyzP/BFG/73AQGBlaIGN8GBob4AjCTJV4ARHUy8KgyMJRApOUbGBjWO4CZiflgZQFArepc\n",
       "FyHS84FC8xtALMaGfgMQDTSZof/fAoh0PBDrgQ1lYbCfAHflASj9moHh6HUwazFDfQK6X9h/d7Rq\n",
       "QpgODPIBINr3LghcBYtxfGRgsAObybHFJX4Dum7uBwwMbN9BrBMMDPwX0KX5geZx/oCYzcD7AF26\n",
       "Hmgw6y8ggwvIYPqAbnc/0E/1CkCGHMimj+i69YD6HgE9efq/DgPz/k9oPov+HxqqDQwrAPAyQLUO\n",
       "1tWZAAAAAElFTkSuQmCC\n",
       "\" style=\"display:inline;vertical-align:middle;\" /></a> <a class=\"ProveItLink\" href=\"../../../__pv_it/_proof_set_equiv_reversal/d903d42fcd0072c175d18d36b4521f1a7b2832da0/proof.ipynb\" style=\"text-decoration: none\">&nbsp;&#x22A2;&nbsp;&nbsp;</a><a class=\"ProveItLink\" href=\"../../../__pv_it/axioms/c7c162b4030d4320598a90ea47f24ae500959d720/expr.ipynb\"><img src=\"data:image/png;base64,iVBORw0KGgoAAAANSUhEUgAAAKMAAAAVBAMAAADY0UPbAAAAMFBMVEX///8AAAAAAAAAAAAAAAAA\n",
       "AAAAAAAAAAAAAAAAAAAAAAAAAAAAAAAAAAAAAAAAAAAv3aB7AAAAD3RSTlMAInZUiRDNmWbv3US7\n",
       "qzJazP2FAAAACXBIWXMAAA7EAAAOxAGVKw4bAAACiUlEQVQ4y41VTWgTQRT+stvNbxODh4IiuEYE\n",
       "D5Z6EEUvVfSoGArai0pVAh4EQxGtPUUEexEaBUHUQ0DwEH8I/kFPrvUgtocWwaJiSA560EtTweql\n",
       "je/NNNnd2R8c2Mm8N2++ee97700AZBE8Iv+p6w4Bpu0M2u4DUqZXvTUM8hlPuwK3L9C33aPV9/sa\n",
       "32jX6+eb0EqAMRKEqLdpiuZV9fEA8/tAehUoALFSEGSsQcTEi6p6LID1X0TTH2ACSLg2tJnqw876\n",
       "wNEmzbfVs2WXtKNalWHGycM4wSby2O00SJ2x44yYA5y4cyodLqJebeus0i1i6SZ9JVwkcaj/1CGR\n",
       "9z4HczEMMidHVDooO0bu47eD4tpCV5+wYHyhsHrmhRdF7UOswvrTjrPPsci5vc7r8SqPJ7wkL+i2\n",
       "fnNcCHZNL07nFtiF+Age0JyN/06LLDmDKmLzPP3sVbxMUjhXMZn/JCBt/UAW+h0mpox7QAYxiZW5\n",
       "S748XkvUu8sNi29XIBM1oIlLUvjBzlti+Z4+zmemxZBkJ5vEsOyjQ8A6JmPKBxK4JYUTtn6FvkmC\n",
       "SZU5cOB11hCJqTjjRpLrZZ/CJQeO1BKOCaFrnvlLU4Ou0yuYprtqn9EjNnJ2ORG30RY3muJlrwlj\n",
       "Nl2GaEut+wRoSwS7zOmxuEgGv1+h/Aq6u0/IBj5NZqLInIOKRF8dLqek5dmOOkoRTRVkkf0EhnP6\n",
       "mLQwvr5cI6ldgD63TK48UiAzFRij5p5rUjo5Kys5PbdSX3gruKgh2XS1z2G7IWUPVdSGfOqSXsxU\n",
       "3e/ORr93wd0snldlItRevCpvQi02eTS9Yf8CiFju2vIZ3gudxQv/CyNmiIXm49L6MMgtwD8rhJT5\n",
       "NaHtpgAAAABJRU5ErkJggg==\n",
       "\" style=\"display:inline;vertical-align:middle;\" /></a></span></td></tr>\n",
       "<tr><td>&nbsp;</td><td colspan=4 style=\"text-align:left\"><span style=\"font-size:20px;\"><a class=\"ProveItLink\" href=\"../../../../../../__pv_it/common/09585084922504426caf1db2ff588a23a0932a960/expr.ipynb\"><img src=\"data:image/png;base64,iVBORw0KGgoAAAANSUhEUgAAAA8AAAAPBAMAAADJ+Ih5AAAAMFBMVEX///8AAAAAAAAAAAAAAAAA\n",
       "AAAAAAAAAAAAAAAAAAAAAAAAAAAAAAAAAAAAAAAAAAAv3aB7AAAAD3RSTlMAIs1UmauJMnZmRLsQ\n",
       "3e++988cAAAACXBIWXMAAA7EAAAOxAGVKw4bAAAAXklEQVQI12NgAAEhBijQh9LM/6EMlngBCCMx\n",
       "vwBMMzb0G0BkGOwngBmLGeoTwAwHBvkAEM2xxSV+A4hxgoGB/wJEhoH3AZDmAupg+gBkyAEx90cG\n",
       "htP/dRiY939KAABt3hLO6mcEjQAAAABJRU5ErkJggg==\n",
       "\" style=\"display:inline;vertical-align:middle;\" /></a> : <a class=\"ProveItLink\" href=\"../../../../../../__pv_it/common/09585084922504426caf1db2ff588a23a0932a960/expr.ipynb\"><img src=\"data:image/png;base64,iVBORw0KGgoAAAANSUhEUgAAAA8AAAAPBAMAAADJ+Ih5AAAAMFBMVEX///8AAAAAAAAAAAAAAAAA\n",
       "AAAAAAAAAAAAAAAAAAAAAAAAAAAAAAAAAAAAAAAAAAAv3aB7AAAAD3RSTlMAIs1UmauJMnZmRLsQ\n",
       "3e++988cAAAACXBIWXMAAA7EAAAOxAGVKw4bAAAAXklEQVQI12NgAAEhBijQh9LM/6EMlngBCCMx\n",
       "vwBMMzb0G0BkGOwngBmLGeoTwAwHBvkAEM2xxSV+A4hxgoGB/wJEhoH3AZDmAupg+gBkyAEx90cG\n",
       "htP/dRiY939KAABt3hLO6mcEjQAAAABJRU5ErkJggg==\n",
       "\" style=\"display:inline;vertical-align:middle;\" /></a>, <a class=\"ProveItLink\" href=\"../../../../../../__pv_it/common/a9162d1c3cc0470c02e5daf414500903a7a419230/expr.ipynb\"><img src=\"data:image/png;base64,iVBORw0KGgoAAAANSUhEUgAAABAAAAAOBAMAAADUAYG5AAAAMFBMVEX///8AAAAAAAAAAAAAAAAA\n",
       "AAAAAAAAAAAAAAAAAAAAAAAAAAAAAAAAAAAAAAAAAAAv3aB7AAAAD3RSTlMAZrurzTLvInZEmRDd\n",
       "VIkafcLnAAAACXBIWXMAAA7EAAAOxAGVKw4bAAAAb0lEQVQI12NgYBD6b2zsFMAABEkMDMxfgTT7\n",
       "DwYGzl9ABiOQxwjkMDB/YGBgSQcy2BQYuG1AiuM1OkwEQJr6Cxh4E0EMNSB+D5L6DMTyDQwMrB+B\n",
       "DPsJDAwc34GcL0AOSwIDwzRvoHH6n41NdBkYAF/iFeJ4bEa2AAAAAElFTkSuQmCC\n",
       "\" style=\"display:inline;vertical-align:middle;\" /></a> : <a class=\"ProveItLink\" href=\"../../../../../../__pv_it/common/a9162d1c3cc0470c02e5daf414500903a7a419230/expr.ipynb\"><img src=\"data:image/png;base64,iVBORw0KGgoAAAANSUhEUgAAABAAAAAOBAMAAADUAYG5AAAAMFBMVEX///8AAAAAAAAAAAAAAAAA\n",
       "AAAAAAAAAAAAAAAAAAAAAAAAAAAAAAAAAAAAAAAAAAAv3aB7AAAAD3RSTlMAZrurzTLvInZEmRDd\n",
       "VIkafcLnAAAACXBIWXMAAA7EAAAOxAGVKw4bAAAAb0lEQVQI12NgYBD6b2zsFMAABEkMDMxfgTT7\n",
       "DwYGzl9ABiOQxwjkMDB/YGBgSQcy2BQYuG1AiuM1OkwEQJr6Cxh4E0EMNSB+D5L6DMTyDQwMrB+B\n",
       "DPsJDAwc34GcL0AOSwIDwzRvoHH6n41NdBkYAF/iFeJ4bEa2AAAAAElFTkSuQmCC\n",
       "\" style=\"display:inline;vertical-align:middle;\" /></a></span></td></tr><tr><td><a name=\"0x53b7d405a2c2c3e1_step7\">7</a></td><td>theorem</td><td></td><td><span style=\"font-size:20px;\"> <a class=\"ProveItLink\" href=\"../set_equiv_unfold/thm_proof.ipynb\" style=\"text-decoration: none\">&nbsp;&#x22A2;&nbsp;&nbsp;</a><a class=\"ProveItLink\" href=\"../../../__pv_it/theorems/3e72f59b23979ed3e74c0d98c5c4ad815aa3dce30/expr.ipynb\"><img src=\"data:image/png;base64,iVBORw0KGgoAAAANSUhEUgAAAVAAAAAXBAMAAACv7AqKAAAAMFBMVEX///8AAAAAAAAAAAAAAAAA\n",
       "AAAAAAAAAAAAAAAAAAAAAAAAAAAAAAAAAAAAAAAAAAAv3aB7AAAAD3RSTlMAq1RmmUTNIjK7EInv\n",
       "3XZ/CtNrAAAACXBIWXMAAA7EAAAOxAGVKw4bAAAEaklEQVRIx81XXWgUVxQ+uzu7sztrJgmVolK6\n",
       "AxVfqnWokuKDzRZbbYjaoFBEBbdKKQbB9aUQEHf72DZlg1T8KZoNRGmKSiKmfdgH14DSKkrwB/Lg\n",
       "wMQUiqKxlWpiBNNzz72ze+dnTd0nD3yZzZnzzf3uOfecnQWo03Qr73eqArUs8F52DgLDw7F6dUKy\n",
       "I8B5VyDQvgaI2gE7Nl6yCiMQaRia2P/v1CM0xC5hU/KFBzmCbS9iwu9+NzA40vtP85tHOGGChH7C\n",
       "3F/VI1RhOY3JhTslEGjhWRZe9Lq1THD4vB6AVJ4IDMPwDTsFPfUIjbNidMm+NQKBpqRwT5G0z20G\n",
       "h+ew4DvSRGAYJrlJo64z2omXc7KvLFC1e5blZOy3C6z7rvgyVyO+FaNbbU64woRGcEex+pppBV7k\n",
       "woUzHFX7/H61f+1HLB27vM9ZUiM+hdiT5YRdTChcs6yr9QmdZ1l35NZRBjm0yUXfU6bVTukmLGdF\n",
       "HvI+px1xdvznkuGJ/wOgb0wQhkjopwDH6JbnnCuV415LqJKHhEyKmRwKjNsbwNNpm6DANtVCj7bI\n",
       "aOCwjKX1t5VRd3z82eQ4Zb+FA4XuA5UY2u8U8e2/pTYa5QmHc7oy2eO97eePVIUib5+svcHg+ABa\n",
       "i2+QUOlmGnJsmaXeDd/AZslGZkKmO16fwlhTEJaS0ESRz+7kYz7ARkEvu4ReMCB5GddH2mqAB9LA\n",
       "P8b4Ul90cORhLXd0s7zxiaL/+HGKfSp4hV7C/YOS8cYnUENyWhAKJDRs841suU6XEI6Ev2Wh0W4b\n",
       "Fp/8CQArNx87URL6nquXKkIB+KNgoHrvLEAjq+72AKHIsr3xjZj+yAtB2E5CIfMh3bK/4KsZcMaU\n",
       "heqxJqybsqAfJYyAdlMSGovgAvqfB9a5Sw/RKfiFHHLloYEVapn3jN5gf3ZktaI7voAaQk8EYRkX\n",
       "eo56TRf1yk2sXACyUBvrgqwWzJL6YsVHeUlocgk+/q9Qz07uStgE7VCoDDQN9MpXe5T1GSvUKm9G\n",
       "T2AiO96CpDseHmFfFTKCsIoL3U872yJO32rQ5stCo3k8sm1H0Ux2fvvSklD1In4wE7YQn2wihKf7\n",
       "y1H+FbLTWXc/e+CUmEYuw9Gz/Lv1OBRc8bAHV75cFIR2LjRE67SXUjRqUGWuQxKqlIZmHDaeX/WJ\n",
       "/PZEuW90hkp8lKBttBe/zz19h/j4GpjthHDvU0zzba/QHwD6J8NrDFc8LJxtbt5Nvtscla7VUR8J\n",
       "HsETI48nG9TpSrcYEJ32veZ1V94oxwSqtu245eo3ddQrtCH/sngiMFSEbsbMGNogqDOg3ZJKzw7X\n",
       "Y6f0uSKcSXuEquVfwfGtFKht/lcQ/2uKj8DgCFUugvbZl/ERaHleajMkoeuboP+p0BTZWzp/0Pfi\n",
       "vHHbpPP1lMhy1LYuv+swzEXoAnAPbJyp0ufEq7/haz0ctS1A1QDMRTjsF7r1FYQG/WY6IFDzh1ZA\n",
       "ulV7DgLDw0tuv/n/hb4+pr5ecv4DBUI18+pnWPsAAAAASUVORK5CYII=\n",
       "\" style=\"display:inline;vertical-align:middle;\" /></a></span></td></tr>\n",
       "<tr><td>&nbsp;</td><td colspan=4 style-\"text-align:left\"><a class=\"ProveItLink\" href=\"../set_equiv_unfold/thm_proof.ipynb\">proveit.logic.sets.equivalence.set_equiv_unfold</a></td></tr><tr><td><a name=\"0x53b7d405a2c2c3e1_step8\">8</a></td><td>assumption</td><td></td><td><span style=\"font-size:20px;\"><a class=\"ProveItLink\" href=\"../../../__pv_it/theorems/2ee8dc2018014830ed832e2e3d65a4df89f102480/expr.ipynb\"><img src=\"data:image/png;base64,iVBORw0KGgoAAAANSUhEUgAAADsAAAAPBAMAAACo4Ko7AAAAMFBMVEX///8AAAAAAAAAAAAAAAAA\n",
       "AAAAAAAAAAAAAAAAAAAAAAAAAAAAAAAAAAAAAAAAAAAv3aB7AAAAD3RSTlMAIs1UmauJMnZmRLsQ\n",
       "3e++988cAAAACXBIWXMAAA7EAAAOxAGVKw4bAAAA+UlEQVQY02NgAAEhBrxAH0zyxF0GkhxgNuf+\n",
       "r6FB2yGyzP/BFG/73AQGBlaIGN8GBob4AjCTJV4ARHUy8KgyMJRApOUbGBjWO4CZiflgZQFArepc\n",
       "FyHS84FC8xtALMaGfgMQDTSZof/fAoh0PBDrgQ1lYbCfAHflASj9moHh6HUwazFDfQK6X9h/d7Rq\n",
       "QpgODPIBINr3LghcBYtxfGRgsAObybHFJX4Dum7uBwwMbN9BrBMMDPwX0KX5geZx/oCYzcD7AF26\n",
       "Hmgw6y8ggwvIYPqAbnc/0E/1CkCGHMimj+i69YD6HgE9efq/DgPz/k9oPov+HxqqDQwrAPAyQLUO\n",
       "1tWZAAAAAElFTkSuQmCC\n",
       "\" style=\"display:inline;vertical-align:middle;\" /></a> <a class=\"ProveItLink\" href=\"../../../__pv_it/_proof_set_equiv_reversal/9211b73d4c87c9a409e9a9b54647a9594a163c2a0/proof.ipynb\" style=\"text-decoration: none\">&nbsp;&#x22A2;&nbsp;&nbsp;</a><a class=\"ProveItLink\" href=\"../../../__pv_it/theorems/2ee8dc2018014830ed832e2e3d65a4df89f102480/expr.ipynb\"><img src=\"data:image/png;base64,iVBORw0KGgoAAAANSUhEUgAAADsAAAAPBAMAAACo4Ko7AAAAMFBMVEX///8AAAAAAAAAAAAAAAAA\n",
       "AAAAAAAAAAAAAAAAAAAAAAAAAAAAAAAAAAAAAAAAAAAv3aB7AAAAD3RSTlMAIs1UmauJMnZmRLsQ\n",
       "3e++988cAAAACXBIWXMAAA7EAAAOxAGVKw4bAAAA+UlEQVQY02NgAAEhBrxAH0zyxF0GkhxgNuf+\n",
       "r6FB2yGyzP/BFG/73AQGBlaIGN8GBob4AjCTJV4ARHUy8KgyMJRApOUbGBjWO4CZiflgZQFArepc\n",
       "FyHS84FC8xtALMaGfgMQDTSZof/fAoh0PBDrgQ1lYbCfAHflASj9moHh6HUwazFDfQK6X9h/d7Rq\n",
       "QpgODPIBINr3LghcBYtxfGRgsAObybHFJX4Dum7uBwwMbN9BrBMMDPwX0KX5geZx/oCYzcD7AF26\n",
       "Hmgw6y8ggwvIYPqAbnc/0E/1CkCGHMimj+i69YD6HgE9efq/DgPz/k9oPov+HxqqDQwrAPAyQLUO\n",
       "1tWZAAAAAElFTkSuQmCC\n",
       "\" style=\"display:inline;vertical-align:middle;\" /></a></span></td></tr>\n",
       "</table>"
      ],
      "text/plain": [
       "\tstep type\trequirements\tstatement\n",
       "0\tgeneralization\t1\t|- forall_{A, B | A equiv B} (B equiv A)\n",
       "1\tinstantiation\t2, 3\t{A equiv B} |- B equiv A\n",
       "\tA : B, B : A\n",
       "2\ttheorem\t\t|- forall_{A, B | forall_{x} ((x in A) = (x in B))} (A equiv B)\n",
       "\tproveit.logic.sets.equivalence.set_equiv_fold\n",
       "3\tgeneralization\t4\t{A equiv B} |- forall_{x} ((x in B) = (x in A))\n",
       "4\tinstantiation\t5, 6\t{A equiv B} |- (x in B) = (x in A)\n",
       "\tx : x in A, y : x in B\n",
       "5\ttheorem\t\t|- forall_{x, y | x = y} (y = x)\n",
       "\tproveit.logic.equality.equals_reversal\n",
       "6\tinstantiation\t7, 8\t{A equiv B} |- (x in A) = (x in B)\n",
       "\tA : A, B : B\n",
       "7\ttheorem\t\t|- forall_{A, B | A equiv B} [forall_{x} ((x in A) = (x in B))]\n",
       "\tproveit.logic.sets.equivalence.set_equiv_unfold\n",
       "8\tassumption\t\t{A equiv B} |- A equiv B"
      ]
     },
     "execution_count": 7,
     "metadata": {},
     "output_type": "execute_result"
    }
   ],
   "source": [
    "%qed"
   ]
  },
  {
   "cell_type": "code",
   "execution_count": null,
   "metadata": {},
   "outputs": [],
   "source": []
  }
 ],
 "metadata": {
  "kernelspec": {
   "display_name": "Python 3",
   "language": "python",
   "name": "python3"
  }
 },
 "nbformat": 4,
 "nbformat_minor": 0
}