{
 "cells": [
  {
   "cell_type": "markdown",
   "metadata": {},
   "source": [
    "Theorems (or conjectures) for the theory of <a class=\"ProveItLink\" href=\"theory.ipynb\">proveit.logic.sets.equivalence</a>\n",
    "========"
   ]
  },
  {
   "cell_type": "code",
   "execution_count": 1,
   "metadata": {},
   "outputs": [],
   "source": [
    "import proveit\n",
    "# Prepare this notebook for defining the theorems of a theory:\n",
    "%theorems_notebook # Keep this at the top following 'import proveit'.\n",
    "from proveit import x, A, B, C, P, S, PofA, PofB\n",
    "from proveit.logic import FALSE, Forall, Equals, in_bool, InSet, Not\n",
    "from proveit.logic.sets import SubsetEq\n",
    "from proveit.logic.sets import Set, SetEquiv, SetNotEquiv, Union"
   ]
  },
  {
   "cell_type": "code",
   "execution_count": 2,
   "metadata": {},
   "outputs": [
    {
     "name": "stdout",
     "output_type": "stream",
     "text": [
      "Defining theorems for theory 'proveit.logic.sets.equivalence'\n",
      "Subsequent end-of-cell assignments will define theorems\n",
      "'%end theorems' will finalize the definitions\n"
     ]
    }
   ],
   "source": [
    "%begin theorems"
   ]
  },
  {
   "cell_type": "code",
   "execution_count": 3,
   "metadata": {},
   "outputs": [
    {
     "data": {
      "text/html": [
       "<strong id=\"set_equiv_unfold\"><a class=\"ProveItLink\" href=\"proofs/set_equiv_unfold/thm_proof.ipynb\">set_equiv_unfold</a> (established theorem):<br></strong> <a class=\"ProveItLink\" href=\"../__pv_it/theorems/7539de4e3f7ba49f10ebed8c330644fa8699146b0/theorem_expr.ipynb\"><img src=\"data:image/png;base64,iVBORw0KGgoAAAANSUhEUgAAAVAAAAAXBAMAAACv7AqKAAAAMFBMVEX///8AAAAAAAAAAAAAAAAA\n",
       "AAAAAAAAAAAAAAAAAAAAAAAAAAAAAAAAAAAAAAAAAAAv3aB7AAAAD3RSTlMAq1RmmUTNIjK7EInv\n",
       "3XZ/CtNrAAAACXBIWXMAAA7EAAAOxAGVKw4bAAAEaklEQVRIx81XXWgUVxQ+uzu7sztrJgmVolK6\n",
       "AxVfqnWokuKDzRZbbYjaoFBEBbdKKQbB9aUQEHf72DZlg1T8KZoNRGmKSiKmfdgH14DSKkrwB/Lg\n",
       "wMQUiqKxlWpiBNNzz72ze+dnTd0nD3yZzZnzzf3uOfecnQWo03Qr73eqArUs8F52DgLDw7F6dUKy\n",
       "I8B5VyDQvgaI2gE7Nl6yCiMQaRia2P/v1CM0xC5hU/KFBzmCbS9iwu9+NzA40vtP85tHOGGChH7C\n",
       "3F/VI1RhOY3JhTslEGjhWRZe9Lq1THD4vB6AVJ4IDMPwDTsFPfUIjbNidMm+NQKBpqRwT5G0z20G\n",
       "h+ew4DvSRGAYJrlJo64z2omXc7KvLFC1e5blZOy3C6z7rvgyVyO+FaNbbU64woRGcEex+pppBV7k\n",
       "woUzHFX7/H61f+1HLB27vM9ZUiM+hdiT5YRdTChcs6yr9QmdZ1l35NZRBjm0yUXfU6bVTukmLGdF\n",
       "HvI+px1xdvznkuGJ/wOgb0wQhkjopwDH6JbnnCuV415LqJKHhEyKmRwKjNsbwNNpm6DANtVCj7bI\n",
       "aOCwjKX1t5VRd3z82eQ4Zb+FA4XuA5UY2u8U8e2/pTYa5QmHc7oy2eO97eePVIUib5+svcHg+ABa\n",
       "i2+QUOlmGnJsmaXeDd/AZslGZkKmO16fwlhTEJaS0ESRz+7kYz7ARkEvu4ReMCB5GddH2mqAB9LA\n",
       "P8b4Ul90cORhLXd0s7zxiaL/+HGKfSp4hV7C/YOS8cYnUENyWhAKJDRs841suU6XEI6Ev2Wh0W4b\n",
       "Fp/8CQArNx87URL6nquXKkIB+KNgoHrvLEAjq+72AKHIsr3xjZj+yAtB2E5CIfMh3bK/4KsZcMaU\n",
       "heqxJqybsqAfJYyAdlMSGovgAvqfB9a5Sw/RKfiFHHLloYEVapn3jN5gf3ZktaI7voAaQk8EYRkX\n",
       "eo56TRf1yk2sXACyUBvrgqwWzJL6YsVHeUlocgk+/q9Qz07uStgE7VCoDDQN9MpXe5T1GSvUKm9G\n",
       "T2AiO96CpDseHmFfFTKCsIoL3U872yJO32rQ5stCo3k8sm1H0Ux2fvvSklD1In4wE7YQn2wihKf7\n",
       "y1H+FbLTWXc/e+CUmEYuw9Gz/Lv1OBRc8bAHV75cFIR2LjRE67SXUjRqUGWuQxKqlIZmHDaeX/WJ\n",
       "/PZEuW90hkp8lKBttBe/zz19h/j4GpjthHDvU0zzba/QHwD6J8NrDFc8LJxtbt5Nvtscla7VUR8J\n",
       "HsETI48nG9TpSrcYEJ32veZ1V94oxwSqtu245eo3ddQrtCH/sngiMFSEbsbMGNogqDOg3ZJKzw7X\n",
       "Y6f0uSKcSXuEquVfwfGtFKht/lcQ/2uKj8DgCFUugvbZl/ERaHleajMkoeuboP+p0BTZWzp/0Pfi\n",
       "vHHbpPP1lMhy1LYuv+swzEXoAnAPbJyp0ufEq7/haz0ctS1A1QDMRTjsF7r1FYQG/WY6IFDzh1ZA\n",
       "ulV7DgLDw0tuv/n/hb4+pr5ecv4DBUI18+pnWPsAAAAASUVORK5CYII=\n",
       "\" style=\"display:inline;vertical-align:middle;\" /></a><br>"
      ],
      "text/plain": [
       "<IPython.core.display.HTML object>"
      ]
     },
     "metadata": {},
     "output_type": "display_data"
    }
   ],
   "source": [
    "set_equiv_unfold = Forall(\n",
    "    (A, B), Forall(x, Equals(InSet(x, A), InSet(x, B))),\n",
    "    condition=SetEquiv(A, B))"
   ]
  },
  {
   "cell_type": "code",
   "execution_count": 4,
   "metadata": {},
   "outputs": [
    {
     "data": {
      "text/html": [
       "<strong id=\"set_equiv_fold\"><a class=\"ProveItLink\" href=\"proofs/set_equiv_fold/thm_proof.ipynb\">set_equiv_fold</a> (established theorem):<br></strong> <a class=\"ProveItLink\" href=\"../__pv_it/theorems/b46a6776b7147829fcbedfa19805b895e3f7281b0/theorem_expr.ipynb\"><img src=\"data:image/png;base64,iVBORw0KGgoAAAANSUhEUgAAASMAAAAXBAMAAACykjQRAAAAMFBMVEX///8AAAAAAAAAAAAAAAAA\n",
       "AAAAAAAAAAAAAAAAAAAAAAAAAAAAAAAAAAAAAAAAAAAv3aB7AAAAD3RSTlMAq1RmmUTNIjK7EInv\n",
       "3XZ/CtNrAAAACXBIWXMAAA7EAAAOxAGVKw4bAAAD3klEQVRIx71XTWgTQRT+kjTJ7kbXFqTag3RF\n",
       "QbxoDq0gokZsrUXQgBf/rYJI68F4EURtI56KokGQuiJ2vRREhKIgakGrIiqi9OBB0Eq0SlGkWhV/\n",
       "0fpmJjszTSLRgxlmdybvzXv7zXvfvN0A5W3REvoUyt5eCGAtf9JvoquSTWaUC1Gwlw+R93w488Ch\n",
       "e5bP549VVbWmYceBRvZ7e7kg9YhhroD07OATPyjAPSDwFWgDDrA4ZsoFaakYlnxhd4pITyWMhMjl\n",
       "LyD8CaijGHpAzCkXpH5+j+39yoYAXdXpjYLRIRKFCNYEDyFKXqRsVBK0brc/cGQsUmO3hSpAuYzc\n",
       "oYvwPBgcvF8uSBWC3YngRymycuOEDKxpacJJ1FoOnORCL8+82C5TrI9rHmzt16wCE1ueKYgQEGUc\n",
       "40fBuqOnR6qZNkSB3IUo57x1l6s6P/U1p9nE5LH1xmGr511vzCohf4WSuk64SmgeJjpis9FRPg7y\n",
       "Jk7cO9rtLbZropvpxbij2AfhdQB2v4QUpg2eUc+vZF0047mbzFmtlwvk0iM1x31XpA33+tnhT3rd\n",
       "sORbQZRO0XWdYmEQp4JZwe41DwXNEgi9l5BAYbyscplkXbSGtLSKyJQ3+guXK1dM26ZDsmibPwsg\n",
       "sbgtJk2YxaNlEZdltwgrB+fjCtI811VFayLvGGl6mbLjkFaqhgwQd162N2FIc8W0F/TEsTQ+zUdk\n",
       "MMLXEuIg+cCFNkHDZVzXMVQ3FQqSCVsVrd2826maiHPWJy9ZBRNodqnF2atrOJDZamU0V6TFzJwD\n",
       "kxF9NV0787lkU/E0PjPiMNt9XLYGb7nVQliTNUixtFa01vIewmmD+/Wtwn4c2SRuZtPhuOaKCdfm\n",
       "FrATHmWZ6c5/40dIuqHNrxMBzooVfbWcEuSkI6kgWZVzlN103oEvPKGuk7MyfEhBtrlJKYRaXfeY\n",
       "74ppO/30DMDq/uxh9tiO8YgC3aNV1cd4bpNa+ejg0G4Cm1URAKachLFgSJzzTuHc6I/ikGYlE8ex\n",
       "HUbKECdMuNITh8clq+l+OaNETHKsXkS/w3qkJQ6ddGyMTK9G732xlgoqHdIKdlbRO9p/iSoRr705\n",
       "V0w74i+o+9sXM2XwBqxV24ybmPejr9nRIZkpyGfSnHrFq2tvED0hrfgS0bqAletHPOxhcc65Ytou\n",
       "f4FZ6qux4KMkqM1N9U4w04KvVPJk1Tvnun7Wz8qVftG0rrjHobSWfI5V6jOoAPO6opACiy6Kuogm\n",
       "3vObElWkimo1cXsJSMP5gnhRSKrRKy/m5Qv1F9tVFNPW/8//El7BB4P6vMifK4n3Tw/+DYDq/ZXU\n",
       "CZDkAAAAAElFTkSuQmCC\n",
       "\" style=\"display:inline;vertical-align:middle;\" /></a><br>"
      ],
      "text/plain": [
       "<IPython.core.display.HTML object>"
      ]
     },
     "metadata": {},
     "output_type": "display_data"
    }
   ],
   "source": [
    "set_equiv_fold = Forall(\n",
    "    (A, B), SetEquiv(A, B),\n",
    "    condition=Forall(x, Equals(InSet(x, A), InSet(x, B))))"
   ]
  },
  {
   "cell_type": "code",
   "execution_count": 5,
   "metadata": {},
   "outputs": [
    {
     "data": {
      "text/html": [
       "<strong id=\"left_membership_via_right\"><a class=\"ProveItLink\" href=\"proofs/left_membership_via_right/thm_proof.ipynb\">left_membership_via_right</a> (conjecture without proof):<br></strong> <a class=\"ProveItLink\" href=\"../__pv_it/theorems/0a42f8b539357e70245cafa38793dbbb6d1b1fc20/theorem_expr.ipynb\"><img src=\"data:image/png;base64,iVBORw0KGgoAAAANSUhEUgAAAPYAAAAXBAMAAADKJK/cAAAAMFBMVEX///8AAAAAAAAAAAAAAAAA\n",
       "AAAAAAAAAAAAAAAAAAAAAAAAAAAAAAAAAAAAAAAAAAAv3aB7AAAAD3RSTlMAq1RmmUTNIjK7EInv\n",
       "3XZ/CtNrAAAACXBIWXMAAA7EAAAOxAGVKw4bAAADLUlEQVRIx7WWX0gUQRzHv94f925PVyEfqhcP\n",
       "6rHoKDF6ME+yPyaVFIT9gS4jAgm8XoJAuuuxDIxI8oLyhAgsDBOjh4u6hCCK4qCCXhbWrIckLaJS\n",
       "CrKZ3+y6c6e35kIDdzvz+85vPrO/+c3sAC6LpiedOyiLaJPv3KIRalmkw/tiwmnAb7DnfVTy5io3\n",
       "bGdPz1AxpYP9xom9lTdPuGE7e94qOqlZ9lea5uxzPPyX3LCdPbcUE3zVccAb5Ww+g1DYDdvZM5vX\n",
       "+qTrMbP64DFP0uec7Y2wCLjKNUdPT0xu7Z+wU9z4wud7jLPxUtdfuMtzJ08fSzV1amXXMPHaJQHr\n",
       "2Jxxj9g7gGtkTRd4W5V0Mfac5wKlNMJHGDN2USNuC3vRzXdALbFPQaHdoj4j7fz3TBOdGkGzs2nn\n",
       "JdDXPNJrsy3PheRyFtiNqE8vI7bUKYoEd1pD7GBaHBOhb6R5c9CyMpvbH7YxgdXrgM822/Lk2LFU\n",
       "S55cxppJbBONizorYkdoVxqrea2b2B5DTKv1FT1KovB+ldnM7tl5YAghVq8C6m225clKI4VKksto\n",
       "VmJIDNivfReoyLHnYWIjtpmsxlHhFMZgRGYzO1v6hgv8KBmF+lo6U8lzavuHuEYessxjDv80blND\n",
       "DjnKeVjXCvYwZaFmBigxXrMcEpvbWbi9J9kRrPzZ0JCU2NxTi68oDYsXk+WgAbWnJAs6WTXDQvv5\n",
       "vuRh3STYnZQwreZS1UGtktlkb0qxEuG50B+V2NzTixsB7LNSxZYr4Zm5mfWLs6fNYnfygafZX7Ng\n",
       "l9BcmzPVaXPNEi0S27KbuaD8kNjCkw1Vy6YWzpMDOai7jdXrRau/R4wxMNsOT99PFoy3gm2GFomk\n",
       "WDMckfbYnN3MBf9M4Tc0kFXQNU9G/tf50HU976BTchKbRa0irA5B+QX1jRRzslsxT6QxGC1gd4Zi\n",
       "PrbbKFUkGTWOp6IvYrN9T6DuOR4YRe3vTFPYZgu72cnbkRm5XHh38H18NAGlt1BGMO7EPgPpvc0v\n",
       "gFQPLuXecieVKrjHqI7f5avz2QeXwF7svnbW6bLHgjL5NN8W+Xf2fy3Kfyf8Bc4H4Ng5snvXAAAA\n",
       "AElFTkSuQmCC\n",
       "\" style=\"display:inline;vertical-align:middle;\" /></a><br>"
      ],
      "text/plain": [
       "<IPython.core.display.HTML object>"
      ]
     },
     "metadata": {},
     "output_type": "display_data"
    }
   ],
   "source": [
    "left_membership_via_right = Forall(\n",
    "    (A, B), Forall(x, InSet(x, A), domain=B), condition=SetEquiv(A, B))"
   ]
  },
  {
   "cell_type": "code",
   "execution_count": 6,
   "metadata": {},
   "outputs": [
    {
     "data": {
      "text/html": [
       "<strong id=\"right_membership_via_left\"><a class=\"ProveItLink\" href=\"proofs/right_membership_via_left/thm_proof.ipynb\">right_membership_via_left</a> (conjecture without proof):<br></strong> <a class=\"ProveItLink\" href=\"../__pv_it/theorems/2cc29f5679fab0b0f4e65530d8a73434ecd26a960/theorem_expr.ipynb\"><img src=\"data:image/png;base64,iVBORw0KGgoAAAANSUhEUgAAAPcAAAAXBAMAAAAl5sTiAAAAMFBMVEX///8AAAAAAAAAAAAAAAAA\n",
       "AAAAAAAAAAAAAAAAAAAAAAAAAAAAAAAAAAAAAAAAAAAv3aB7AAAAD3RSTlMAq1RmmUTNIjK7EInv\n",
       "3XZ/CtNrAAAACXBIWXMAAA7EAAAOxAGVKw4bAAADV0lEQVRIx7VWXUgUURQ+szu7szNr00ohFoQL\n",
       "SY8xlBg9lIJUSmULQUhGbUKEPq2PQun2GEktxj6s/W1gQVGwCQWxD60G/RCJDz300MCUgRRhaqJi\n",
       "UJ177+7MnbUZdcALu3Pnft8937nnnnPvAHhsqp50J0huYGIVBlxaOLYC4YsbeJpZiJD+di/iAnn4\n",
       "NAfcl/vv8N6/lZWdSVA1Kn6ADJ33Ii6StQcTDvh9h/G3AMIiQBcVv0S2J+VFPESC1uOENzlkwh+A\n",
       "wBxAHRUPZvER9bTn6D0MO+EF29s3XY/Tjh9X7UcHKrLEgh+jH/SWcLvxEXfachtw4nupJ0yj3Gv8\n",
       "aTRl3+v6O2/iFbr+KecAiwgoU1uv0MhIXeZ4RQqUbVhj4QgVbwYYpOPZsumljuIkLiZBLptkcnFl\n",
       "aOGzcRTsWXnt9lQVKRB/nIp3g0TLTXlD0ctz+RZa/XKJ/8g6DEyQiuO87jKXTO4GTKM90JDdRMUt\n",
       "ws8E+F6SbSlQcTnLzovwLMuIcVALNvEXUQi/QlsaB7JDZhCelkhXt6SL3GJ4EU7CQfbSr2NjFXWT\n",
       "kNDD0DS14DOYY21jLCMawT/Niwf6Dai9dwMgx4FMfKeZb2KzybXEAZhJeGCtfAZ/DUgKsJVDfD8d\n",
       "Ns6yWVF4rPHiajACjSBWD8U4kIkH/WhG/dp7CCYsrhV2CCzAQ/piaod+4V8NWfI4Ex+muagWY9Q3\n",
       "UVcNvLghxknE68d4kImHd2C+TQqpDiVlcVmTDVDSQgFoNaiGeR0toAPzZHdTTPwC9bYNflB4Hyib\n",
       "efFAEndZzGC7zoFMXBrBjiYbyYBmcYtwBHyLQ4UAy4EOswgQP9XFSpGKCzRDD+draNmg8b4YJy7m\n",
       "nyyZUTPB4q1Gw7AxAf7OTGbAxg2Ng9Jq1O5ib3fTrCSFOzOVVQN0J2LcvaiiWerEKMAZvtQMkBZN\n",
       "cRPkr9R+SIRyy7gfbSXYfku3n4UXeQvHcQVRJQfSEigfuLCTgM6Wwm6B1lSp8AzzcdDiFlud+wHZ\n",
       "xImLI6AcOxcahfrf+ZYoJ34kAkPzJZYFclNb26ey0JMs58oJ18+c1PLPER/Xl9fyJaM8z6TLDlrX\n",
       "a5q4Vi5+cg3iK32C9bqBk5hln8rEtdWLr2+T1l/iH08u41FtZTGlAAAAAElFTkSuQmCC\n",
       "\" style=\"display:inline;vertical-align:middle;\" /></a><br>"
      ],
      "text/plain": [
       "<IPython.core.display.HTML object>"
      ]
     },
     "metadata": {},
     "output_type": "display_data"
    }
   ],
   "source": [
    "right_membership_via_left = Forall(\n",
    "    (A, B), Forall(x, InSet(x, B), domain=A), condition=SetEquiv(A, B))"
   ]
  },
  {
   "cell_type": "code",
   "execution_count": 7,
   "metadata": {},
   "outputs": [
    {
     "data": {
      "text/html": [
       "<strong id=\"set_equiv_reflexivity\"><a class=\"ProveItLink\" href=\"proofs/set_equiv_reflexivity/thm_proof.ipynb\">set_equiv_reflexivity</a> (established theorem):<br></strong> <a class=\"ProveItLink\" href=\"../__pv_it/theorems/f26add3920b8eaa9e5c04a002cbe42c125a673e30/theorem_expr.ipynb\"><img src=\"data:image/png;base64,iVBORw0KGgoAAAANSUhEUgAAAGwAAAAVBAMAAABRZRb3AAAAMFBMVEX///8AAAAAAAAAAAAAAAAA\n",
       "AAAAAAAAAAAAAAAAAAAAAAAAAAAAAAAAAAAAAAAAAAAv3aB7AAAAD3RSTlMAq1RmmUTNIjK7EInv\n",
       "3XZ/CtNrAAAACXBIWXMAAA7EAAAOxAGVKw4bAAAB0UlEQVQ4y4VSzytEURT+jBlvvDFjVrYzZaXI\n",
       "LKRs9CY/UhbExoIiSbHwbJSIkT+AhVI282ymbISNhQUWSkSzUYrRi5VSGDVIGufcd9/kmTFz69xz\n",
       "3vn6znn3OwcocBQUPf/B9xY6XAibATwmEOS41oG4doSreBFu8yJMt2mDU2QPQAfH4w5awnKNFu1u\n",
       "+QayOpfMckEDS/w7qw5am+Wi73wHIkgE4dUk5g7pQLnGTPjCDtqRuH1zH+zKyGpiQ7rE9g9jdJ+h\n",
       "PEJNnU+zpFgIpAWbO2ZPbBHNZ24xClykUucOmttSRHO95VJqDkMjtcEu0AVsiJQhoQoG4Al7v/Ll\n",
       "78MKF20GpqEImdRTCfnDVl3lVfiUOFJJDYsc1QOVhq9XPCItaVXi87E9+pnXLLDWHmLVV0gB01Jk\n",
       "4PI3TaX5fufRtoHqJPlBsuFWkTJHfv+km+w2j0bT8/N4Gsj2JkR/dEqskhepX+6R422eiFy5FrJ5\n",
       "kRrAk6T56FvhmnH9T7N5Lsq70817wHNH90FITsCbhBrPGKjLTjpZW9kJuOIZmsBVTiNgMSbja5Q4\n",
       "StKO6C3V9mY2laK5I3ZwDLVnzNZEL0GbLZhVV0vQ1gunF4qzAjp+AOf7aZAe/blSAAAAAElFTkSu\n",
       "QmCC\n",
       "\" style=\"display:inline;vertical-align:middle;\" /></a><br>"
      ],
      "text/plain": [
       "<IPython.core.display.HTML object>"
      ]
     },
     "metadata": {},
     "output_type": "display_data"
    }
   ],
   "source": [
    "set_equiv_reflexivity = Forall(A, SetEquiv(A, A))"
   ]
  },
  {
   "cell_type": "code",
   "execution_count": 8,
   "metadata": {},
   "outputs": [
    {
     "data": {
      "text/html": [
       "<strong id=\"set_equiv_reflection\"><a class=\"ProveItLink\" href=\"proofs/set_equiv_reflection/thm_proof.ipynb\">set_equiv_reflection</a> (conjecture without proof):<br></strong> <a class=\"ProveItLink\" href=\"../__pv_it/theorems/976dab1b31891063d5129b6dddb24a69d330ddc30/theorem_expr.ipynb\"><img src=\"data:image/png;base64,iVBORw0KGgoAAAANSUhEUgAAALkAAAAXBAMAAACllfPxAAAAMFBMVEX///8AAAAAAAAAAAAAAAAA\n",
       "AAAAAAAAAAAAAAAAAAAAAAAAAAAAAAAAAAAAAAAAAAAv3aB7AAAAD3RSTlMAq1RmmUTNIjK7EInv\n",
       "3XZ/CtNrAAAACXBIWXMAAA7EAAAOxAGVKw4bAAACsUlEQVRIx61VTWgTQRT+kk2ym02NCZTgRbrg\n",
       "yZMBi+ChNsEfDBUMeCniTzyIGA+tZ7VZ8SQIlp5UxGxBerJQpbccrBVRkUpAD4JGgh5EEG1jjbFF\n",
       "45uZnbjZILFbB3bn5b1937z3fTMTwPNQu8RHsZ7xTqyR+1v8GD0xZmzxAO6f4VNokU+TCwa9q9ze\n",
       "2YzHT5uIJoG97PcpD+hTYtom0N9eei1LBZ4CvgaQBy6y7sY9oO8WU/o7e1OdUzFoKUHWLyC4DPRT\n",
       "ZxYQMTygz/F35FyDTT56EuZRIaRCLoVW6LGgEDshL7QLNceiNb4Iq7/5SIR8RFboMT0EvVCpPPOA\n",
       "HhCipvxfWy7dnnvGoW82aUmSYT9wgzstV7o7qX2wwoheQ1vtCF299TnBogq1dxYql1p/wkOXl0sZ\n",
       "kxlh+fEdU1pacWj2mm1vMEQJ6hKfK3yIPfNlFP6HjDySJmxFspy6mpCkjOhcG/r9P5oPAJ9k+zzp\n",
       "4570j47ab7IkKkkj/v1VIerwcyFJCsqiEz14pdrK6wUGneg6hX52oLNuBikSZFXmdnFf9YTIMjCd\n",
       "dKJHQ7FW3jz0F05mmDZv3OAa07mPFveXybiX5yDYx2OF9/2b4ESvBnLIXKeRpGOyPS1FCLOODtEz\n",
       "4uY9SudLqzOS2SE9z33DNqMD0Hud6EFTyGBrMpmybbbdVBYpuu/CEHmP5OWm9fFyhkp9lk1tIetA\n",
       "D5Tursg80kT9JvsvQy/WLWxtnmkH9xWX4okJTl5W+qIEagpqcdy5I6tQG5IZ0iTYkBmvuh64Cy2L\n",
       "GNxo6DNQV6C/dDATJIVr8qOChWnJDLuj/u2eo/4fQD94UpvHjtVSxnCgH4jhdt3uUBkpzU60csPd\n",
       "/ns6bl6/ww53Sda7Xdsdyx9eAzrGusQ/uB3JtaCva6j/AeM3myqmbBLrqLEAAAAASUVORK5CYII=\n",
       "\" style=\"display:inline;vertical-align:middle;\" /></a><br>"
      ],
      "text/plain": [
       "<IPython.core.display.HTML object>"
      ]
     },
     "metadata": {},
     "output_type": "display_data"
    }
   ],
   "source": [
    "set_equiv_reflection = Forall((A, B), SetEquiv(A, B), condition=Equals(A, B))"
   ]
  },
  {
   "cell_type": "code",
   "execution_count": 9,
   "metadata": {},
   "outputs": [
    {
     "data": {
      "text/html": [
       "<strong id=\"set_equiv_symmetry\"><a class=\"ProveItLink\" href=\"proofs/set_equiv_symmetry/thm_proof.ipynb\">set_equiv_symmetry</a> (conjecture without proof):<br></strong> <a class=\"ProveItLink\" href=\"../__pv_it/theorems/4b40dc81ef7f8eea01ff25cbd7e74196cbb715aa0/theorem_expr.ipynb\"><img src=\"data:image/png;base64,iVBORw0KGgoAAAANSUhEUgAAAPgAAAAWBAMAAAAfsUzKAAAAMFBMVEX///8AAAAAAAAAAAAAAAAA\n",
       "AAAAAAAAAAAAAAAAAAAAAAAAAAAAAAAAAAAAAAAAAAAv3aB7AAAAD3RSTlMAq1RmmUTNIjK7EInv\n",
       "3XZ/CtNrAAAACXBIWXMAAA7EAAAOxAGVKw4bAAADlklEQVRIx71VTWgTQRR++d9umjQFKQpKAoIg\n",
       "Ks2hFHqoTWkVSxGLXopUbRFRY8F4EcTaRPTiQRJEUESa9FLoQalePPTQWPGfShTFgkaiPagg/dHa\n",
       "WqvG92Z2YzI77fbkwOzMvnnf+38zAMsNF30iYM6zAlrxiKyABz7g9AaWYTgJ4MjJcSi+cynYfuA4\n",
       "H/2sl/NYh/CzCWddvrLyaIxI/WNkS0HfcZwTchyAc5ot6toX5APb25IzlVVXwRvkuG1EOyxXPkBQ\n",
       "Zv5jAMsP2rw79wY0i0lLnnSkZDgc1Vy551M9GmPhtPIEgD8GYY47S/FJyJU34bSTka4/GKZZsj8I\n",
       "Az5QQhqD3Y/Zs4VkOByN82yZALUL4DynRTFoB0JQAwxHdruXSGuaTGXRQq9taACzvyq2T6/BOyOU\n",
       "iycyHEo9zWJFYbIccbzmRw0IaMhBeYrhbOiZc4mUU8Q30M6CAXQ+JIHkff6+XtS5KTL7oAwH0Ov9\n",
       "ylYqgKlfbfzMj7M7As4gx41ls0/lyu0Ea9Uypa6L6XS1wADVJOSWDAcQsn77R9PrAounfxyd8HHc\n",
       "DoBrJeeFoZsHEO+brAoardsNcdJTS/udWRrPCzhwBJRFA0JZmHxPEm2dHHcCXKx41Ufs+MLscIvm\n",
       "o4diSm0CUxGw3mNOMRVZrdpDEKXdZkEDw2FYXDMgmAVerMHNaJs1zXFlKTfLh5tnyJYBb1prC6Kz\n",
       "/F7HORIT3fBebvZTn8QFOsPB5+bGBYPnZSjajXWoTHOcNcfrrf0ZWywhsE2LysmFBsNNdhOgIoNr\n",
       "h0y5iuy/DcorfLxtHGkN17mV0XNdHBmAG0Eh7ApVjr9NlIT97SEhW4TgMpwd51uD8jiKtnxHjzMa\n",
       "7naYxRC281tgoma1HiPytU/LlDIn5twR1G7QOjG2hNujXb6lOcfigTgWmy2h4XqYqHb4wo7rQV2l\n",
       "CdH7AZzoX0dY9KKH9Mzr3Vg0COeikCQND2I32vwgVdTFFlZJrcN+1muoOaoFWKHYXEQGeg0uiXIG\n",
       "82GwJudQyiuxnzKgJudSsDF/TDhZQw8UJcVDKgo4fHSizIhRvHv1uh4ntpjZu+vKiJRxMwicKcFh\n",
       "iioC6hC4foL6Uidq17/JsBuunxpT5U3FOPtdUHcdUkahdnG4pfDMlFHOrpgJOmXs5ohZsBISnLX0\n",
       "VyWeQTPlRuvUhAlE6tVe4b+XPV3LC/JK3Ow1Uf5RhgvCfx1/ATaa+Cg0tP60AAAAAElFTkSuQmCC\n",
       "\" style=\"display:inline;vertical-align:middle;\" /></a><br>"
      ],
      "text/plain": [
       "<IPython.core.display.HTML object>"
      ]
     },
     "metadata": {},
     "output_type": "display_data"
    }
   ],
   "source": [
    "set_equiv_symmetry = Forall((A, B), Equals(SetEquiv(B, A), SetEquiv(A, B)))"
   ]
  },
  {
   "cell_type": "code",
   "execution_count": 10,
   "metadata": {},
   "outputs": [
    {
     "data": {
      "text/html": [
       "<strong id=\"set_equiv_reversal\"><a class=\"ProveItLink\" href=\"proofs/set_equiv_reversal/thm_proof.ipynb\">set_equiv_reversal</a> (established theorem):<br></strong> <a class=\"ProveItLink\" href=\"../__pv_it/theorems/0ea7e075e49512267e6c7e4d20676484f13265f20/theorem_expr.ipynb\"><img src=\"data:image/png;base64,iVBORw0KGgoAAAANSUhEUgAAALoAAAAXBAMAAABOokjyAAAAMFBMVEX///8AAAAAAAAAAAAAAAAA\n",
       "AAAAAAAAAAAAAAAAAAAAAAAAAAAAAAAAAAAAAAAAAAAv3aB7AAAAD3RSTlMAq1RmmUTNIjK7EInv\n",
       "3XZ/CtNrAAAACXBIWXMAAA7EAAAOxAGVKw4bAAACx0lEQVRIx61VTWgTURD+0vxsstvGBEqppyzo\n",
       "sWLAEvBQG/EHSwSDXoooRoqIpdB4EYRiIp4EIUUFqx6SQi0IVlIpeMihNWDxh0pAhYJEVnstVotW\n",
       "rdA487Ibthtp6NYHb3b2zZvvzXwzbxewPaQt2jcenzcyXgLcGhBgfYcN8KY84Mx+C7aNiNfROZWk\n",
       "ZlgHaS4Ah1g/bwN9nEXzMBBKs/bx2gfosfLRFRKeHK4yQ8M20A+wSFGwZ6Kk+MMYD8Ab1Y2uUJIy\n",
       "i/IBUFQb6DMsuinubqbDQbMtfTqpG59Oc0Kv4AxTCnZoT7AM0RxgSIXjrzw32kVb4oD7gLly+bUN\n",
       "dFee5Usq53xtTa4ZsZuCxiRwBLgnlnIW9zqfdcPD7t7fXz71/cN4HBk+PAJchCQqLb8QhuvfCz2i\n",
       "CXzG1kdpQ/NmY1Mjut7Cqft/Ah1hEUtZDL1nokix1kEoOSXOK8qyMDhL8M+sQ59WocwSFqF0AYv6\n",
       "ajM7+Win8qsudP/tgyFuwwyVR6sWtfeNeDiicH41o7tvaNj54D5AubZSh5jRt1GEzrU69MdkKdHz\n",
       "FM3EPrGkna16qZgIm9H9ngBl6mofI7gi5LdmZjK00/GjDp26voXz30XzSb8AwWFhSS10tsOMrrkS\n",
       "TEqEUpPW9uw3iuDjLl+iZswkrLy7uck5/700h8RSr85oF+RWM7o7TWVw3aVxi2syatxGhb0GyD6b\n",
       "s4Y+xN5Ub8SYaRFOrBAS2wg6FTehuwqTq4Yb1UQyePASsdsrweCFunv+sNKPpuwKlel9rcwEKk4p\n",
       "0ofD3JEapFpTUE3ctZf5xj+AkqGdoDKrch7SKuR3JmaYw2WDmVQOEwYz6Gx8ncOG8gzysXPeIiJ/\n",
       "Cj2qCf1oAGMr8eom52Bh6mbN15dshH7Z+mky6b4GvnLDz/Ydy/vJTaDjSgO735pceDPoWxrSf8D4\n",
       "CwNbqXOorpZcAAAAAElFTkSuQmCC\n",
       "\" style=\"display:inline;vertical-align:middle;\" /></a><br>"
      ],
      "text/plain": [
       "<IPython.core.display.HTML object>"
      ]
     },
     "metadata": {},
     "output_type": "display_data"
    }
   ],
   "source": [
    "set_equiv_reversal = Forall((A, B), SetEquiv(B, A), conditions=[SetEquiv(A, B)])"
   ]
  },
  {
   "cell_type": "code",
   "execution_count": 11,
   "metadata": {},
   "outputs": [
    {
     "data": {
      "text/html": [
       "<strong id=\"set_equiv_transitivity\"><a class=\"ProveItLink\" href=\"proofs/set_equiv_transitivity/thm_proof.ipynb\">set_equiv_transitivity</a> (conjecture without proof):<br></strong> <a class=\"ProveItLink\" href=\"../__pv_it/theorems/02b38bc8950c005be1c1b8d1f624fe6d3d72741b0/theorem_expr.ipynb\"><img src=\"data:image/png;base64,iVBORw0KGgoAAAANSUhEUgAAAPcAAAAXBAMAAAAl5sTiAAAAMFBMVEX///8AAAAAAAAAAAAAAAAA\n",
       "AAAAAAAAAAAAAAAAAAAAAAAAAAAAAAAAAAAAAAAAAAAv3aB7AAAAD3RSTlMAq1RmmUTNIjK7EInv\n",
       "3XZ/CtNrAAAACXBIWXMAAA7EAAAOxAGVKw4bAAADQElEQVRIx7VWXUgUURT+dnbH2Z3VSckHH4oG\n",
       "8iUI2gfxzVhJIzNR6MXsT4MoTMieK9eil8KHoqd+wHnYotBg69GNLKmIItsiyIfELQlTpB8LMy3q\n",
       "3Ht3Zi5juga7F+beb+89c75zv3Pu3AXy1bQs653IY3svQmhdan0fPcUMrM89t5LgQ8EXPuhrXlFv\n",
       "iCV9smS1ljAiQC37eSj35NfFsEmQF32somB8Ym56CkpDBO3AKabN+dyTbxFD9Q8+jENvA85wfHOE\n",
       "usZOVJAuFhA2c09+n/fh43N8pOT6DqtvOO4gRuwBCi34SfqCPKRcFFqXMcNHVgCffzXxePgMiVBA\n",
       "zM9HR5/lnjwg6i2qfHPnLN7HUqy/QVGQHNuAy9LaP/zYQP8PcrYtQDWDC96VwXQG+EmcY9D4cdOf\n",
       "8Kmz35N13RwZpck+FlDIfq2/2/HgWLnmrL2rHxgQqMgUcWtf+c+GUdZeMjhmf10UKouQFZZyAX8K\n",
       "Bi8WlU7mVcjkgybCj8lpRLIS4O4BQsBeEyFRaCjkPidrqn96d/7CljlIp1BJi3prHuaDLwo/P5sb\n",
       "ab1cJld70ii/doVXj2PFgbJ9VwJhKE/JW1Qi10nh317yMb5rUktlcbZu5pPpNvGWiVssXxoT4rRM\n",
       "bhQUI4pAWbzJtRKAqqL6XC1ipErQlGRn1fLWS97IZA+zAFjl3WnnrrFVFON4RRnfUsq2tsnTgVam\n",
       "eOWwZCUAKe7vSGOtRBFiZbWTnqPenMfYCqsMP/u0neD11oxpblYFvZRvKeohV7spuYFL1C66VgJk\n",
       "Zh9K5OwcaUzXXu/txQ7fbss+jT5erfXJdfyskc8Yy1chC9CUyAPJ2/OOB9vKBdSYJEoGB1PQe2ct\n",
       "bPhzxKt7/EIpf6PIfo9dODEexBCwnwEfhW50SuRpaHOOA9vKBdRK6JmwLUayfgpOOojSs8rUE9Dm\n",
       "ob8G+qA/Aj5IsquU7hlbYGHlmGdm+5tgOLupWOnVQ5o+gN54MDiEyoVkHYndYyJe/8mSyHcUIz5r\n",
       "uxZWrnnmC1hzb8qtuGz/VBZdpYqDpHsutPTtsYxvPds1vSi6Fhuo1krIW5Zz3pWFfMI7EbGBHysh\n",
       "jyDvTcub57882+DTPtb0tAAAAABJRU5ErkJggg==\n",
       "\" style=\"display:inline;vertical-align:middle;\" /></a><br>"
      ],
      "text/plain": [
       "<IPython.core.display.HTML object>"
      ]
     },
     "metadata": {},
     "output_type": "display_data"
    }
   ],
   "source": [
    "set_equiv_transitivity = Forall((A, B, C), SetEquiv(A, C), conditions=[SetEquiv(A, B), SetEquiv(B, C)])"
   ]
  },
  {
   "cell_type": "code",
   "execution_count": 12,
   "metadata": {},
   "outputs": [
    {
     "data": {
      "text/html": [
       "<strong id=\"set_equiv_is_bool\"><a class=\"ProveItLink\" href=\"proofs/set_equiv_is_bool/thm_proof.ipynb\">set_equiv_is_bool</a> (conjecture with conjecture-based proof):<br></strong> <a class=\"ProveItLink\" href=\"../__pv_it/theorems/3255a2dbdaefc59865f49333a7630cb4a3baffb70/theorem_expr.ipynb\"><img src=\"data:image/png;base64,iVBORw0KGgoAAAANSUhEUgAAALcAAAAWBAMAAABwABDnAAAAMFBMVEX///8AAAAAAAAAAAAAAAAA\n",
       "AAAAAAAAAAAAAAAAAAAAAAAAAAAAAAAAAAAAAAAAAAAv3aB7AAAAD3RSTlMAq1RmmUTNIjK7EInv\n",
       "3XZ/CtNrAAAACXBIWXMAAA7EAAAOxAGVKw4bAAAC+klEQVQ4y61VTUhUURT+ZsYZnfecMaEiKZiB\n",
       "oE1WszChhSn0QyKR1EYsSpGoBikjEALDCdq0iJlF9AfluHRRjG0iXGRC0Q+WiVlBAxMuin7UorQ/\n",
       "snPPve/pXOe9Nh04792fc797z3e/dx7gah3KXazYZamrhaPSyTqdYvw5bc3rCzPDy4D91F4iBlY7\n",
       "LFyrnOwYP41Vo2I9t309n8uXXwImtEVBf66ztxHhGLBN9A8VxjZapJN55/gVeleTATxyujQFRBII\n",
       "pHXwmNlBU3HgtKAtVRi8KCZdNCPM4QSMVuCMnO4mQg7UwVe3CNwXJUKqwPua0cLgpcrJbt1JQJLo\n",
       "Oex/IcdqaaiWNnikyL6aHbfBKd/SNHx0soAD5WuUU265KT4AcYKp341yOkLeTgm1yYs9mrZP7jlB\n",
       "gQFCHs5mHzuANygnVrAhZg9bHD8Eel/Su1/KKW3T8v7TSnqblOYO4Eremnlrg3Ws3Uhm9NmSH5Nv\n",
       "eLYaeaII+sefjhGYj6g5jmKWo/GAp85+HahPqLBR5UAdujloZ1bYM8nxLFAp8qnkbsuCCw1vJKl4\n",
       "B6mdNplD84tU7wjCgyrsnnKEz2+NLFJUkMLM79RIch5Eb/aVAkdqL41M0wY5eZ9NT/jlIW1N6+A3\n",
       "gLIRHbyMcvH9ocY+Tjy14ORIBemGxRlbNvNYrlXKL4rrMZ0WUnJoUAdPUpjnGzXWcXckD5wO7BUj\n",
       "N+OcObbLL2OiaoUVdk25X8h1Wud8ilSYFExv4u5kHvh6ykrk0sVX1YSPPFUDY6kV1q+8SyyZ1U/e\n",
       "TrveT9tqDURt8Iz5gXItEvrysDgaBiKsRULuVh8Jzknvm4vD2zOjabFirrz8CAM+l4WoolmKqP0y\n",
       "V0WEGu1CSZi8yRDVC0uKoYT0fxR0xbb/tvz8LTtlt/bQ7UeNDIp/whizBkVJ0stS4fJWyLbYAXdh\n",
       "7DpYMoTqXwP182XsonJXO+mQkP5heLV+n3JXc9g9qP/nmvXdc9Jdf4UOP8u3+kAM/9X+AirkvIt+\n",
       "kSQdAAAAAElFTkSuQmCC\n",
       "\" style=\"display:inline;vertical-align:middle;\" /></a><br>"
      ],
      "text/plain": [
       "<IPython.core.display.HTML object>"
      ]
     },
     "metadata": {},
     "output_type": "display_data"
    }
   ],
   "source": [
    "set_equiv_is_bool = Forall((A, B), in_bool(SetEquiv(A, B)))"
   ]
  },
  {
   "cell_type": "code",
   "execution_count": 13,
   "metadata": {},
   "outputs": [
    {
     "data": {
      "text/html": [
       "<strong id=\"set_not_equiv_reversal\"><a class=\"ProveItLink\" href=\"proofs/set_not_equiv_reversal/thm_proof.ipynb\">set_not_equiv_reversal</a> (conjecture with conjecture-based proof):<br></strong> <a class=\"ProveItLink\" href=\"../__pv_it/theorems/ef1f57f4989d7d88cb59878642c5c90d7ea0a6e00/theorem_expr.ipynb\"><img src=\"data:image/png;base64,iVBORw0KGgoAAAANSUhEUgAAALoAAAAZBAMAAAB0qCmCAAAAMFBMVEX///8AAAAAAAAAAAAAAAAA\n",
       "AAAAAAAAAAAAAAAAAAAAAAAAAAAAAAAAAAAAAAAAAAAv3aB7AAAAD3RSTlMAq1RmmUTNIjK7EInv\n",
       "3XZ/CtNrAAAACXBIWXMAAA7EAAAOxAGVKw4bAAADAElEQVRIx61UbUhTURh+1na9252uCdrHrw3q\n",
       "p9JAESTMhX2JQaMgJIIsiUgE158gkLbqVxBMIsiFsAkRFBkaQsh+aELRlyVYYD8u3RL6FVlhVgba\n",
       "+5774Z1Lg9sOnHPeve/Oc9/3eZ9zAMdD/s/42uPDWsGzgKQBQba3OABfNwi4M1/LN/Qu++KW1UVz\n",
       "BtjN9ikH6Ld4Ke0BQkmLizbr00u0lGRxgb09DtCbeElQ9ceibB2e1+BLakbQE6Iy3FH+APxhB+hj\n",
       "vDRS3o0M6Z262BfbqphpPhjlgp7BHaESnNAuWAjR7GS2XXFIbx9VxwyKtFlOuB2YUNXnDtA9g7w+\n",
       "Bfqn2Qgwz69OmEFso6QxBOwDbjhAL+Hj3l+f37fbVWiMg0jxx+uAM5CDDtDLuPTAD6AqYroqrWAU\n",
       "CcasAnxZv85WdkXppqH8Fb2UD/motf6fhkeylBe4tivEP1LUHk1vqvJEbJfncs1CwD7zv3d1Pe8l\n",
       "IjItw7129PWUoXtR5KKq71RV1Vm4R5FJ2o/SbNshXP5vYnNPIjCWhz4ahmtC80aJgQbgk52ZFPlc\n",
       "3w3PdhsxKGOMapr3O4Sr9aXYXFG4v9jRpSsamu58rL9EfaogdRtuH6t8lsSYMi/opAkuscgZo55m\n",
       "t16OdlyvOIyBiB09UBJEBErfHNnjUKYMt59PdRLUY6Nffqu73Xya+o0WzjapC3aPCCVmajfBjq55\n",
       "RHK8yIs1O81HxUupbl4qLz+t33OP+kI1eL+91IF1mXkq9Y3FVavBaAOUCju6lBRtELqinvRHzQPT\n",
       "K0RUWfjAW1yhJRcSJRJ0ImZD9+SGFjCSzqTTGvdENnuI2nwob+FL6LG4opucEEWP06NnV6QGmQW9\n",
       "0eiJZKobvngelC9ZgH7Osg6RRMPKIOQFKK9tzHD/SaqSeFUSWQxYzCj5yXoLL9x1q4iHUA6c9I6j\n",
       "7neuOWxD3x/EzfnYSF+amHF35YavLh8+/4+3IhBf+azaS7UHalCEcWQ19LZioEdWQZfCKPKQi4Dx\n",
       "B0RQtRnAxO3sAAAAAElFTkSuQmCC\n",
       "\" style=\"display:inline;vertical-align:middle;\" /></a><br>"
      ],
      "text/plain": [
       "<IPython.core.display.HTML object>"
      ]
     },
     "metadata": {},
     "output_type": "display_data"
    }
   ],
   "source": [
    "set_not_equiv_reversal = Forall((A, B), SetNotEquiv(B, A), conditions=[SetNotEquiv(A, B)])"
   ]
  },
  {
   "cell_type": "code",
   "execution_count": 14,
   "metadata": {},
   "outputs": [
    {
     "data": {
      "text/html": [
       "<strong id=\"set_not_equiv_is_bool\"><a class=\"ProveItLink\" href=\"proofs/set_not_equiv_is_bool/thm_proof.ipynb\">set_not_equiv_is_bool</a> (conjecture with conjecture-based proof):<br></strong> <a class=\"ProveItLink\" href=\"../__pv_it/theorems/13467abbe8edad748b8383e3ed583af7320279cb0/theorem_expr.ipynb\"><img src=\"data:image/png;base64,iVBORw0KGgoAAAANSUhEUgAAALcAAAAWBAMAAABwABDnAAAAMFBMVEX///8AAAAAAAAAAAAAAAAA\n",
       "AAAAAAAAAAAAAAAAAAAAAAAAAAAAAAAAAAAAAAAAAAAv3aB7AAAAD3RSTlMAq1RmmUTNIjK7EInv\n",
       "3XZ/CtNrAAAACXBIWXMAAA7EAAAOxAGVKw4bAAADGElEQVQ4y61VS0hUYRT+Zq6jzr3OqNBLWsxA\n",
       "EERWszCpRTnQg0QksY3Za0IikkGNQAiMmZYuZGYRaVF5XbooxlpEuMgEoweWhUqBFyZcBD3UorQH\n",
       "Zed/3Dszdx6rDhzu+c9//u8/5/zf/X+goHRJLSAlBZYWFK9fKEl3vhhX0rZm7ury5FrgJNkVzLEp\n",
       "z8KtUkk6s3JVBr9UrhsA5m2L3K5k91ATvAHgABufzY2thoSSOFdTbrOIsjjgi6JYt4MHtC6aagcu\n",
       "s1TiucGLAkKZ6eM9dHV2AANeMR2hhpwKQglmgSt+akgN+L6aPzd4mVSS+w+j7NO3a8uEMzgsfHXk\n",
       "qqMNnslm3zRmLXCqt0yHQpkV52n5ZqlUW3KRJ7AeOHGjeUZM+0jDVFCbONgO3crccSFBqIQ8aRjP\n",
       "84A3SKWuYAdvD2NGeFkW+hQYekPfEXESutWWD5830lej1hwCrnOnngXeBjOtZsQSJldC0ij9ufCO\n",
       "z9YigxRu1+zLaQJTKPA8Sjgd1Sd8qvfbaH1Uhr2WCgQRqZBOR5NJ6BWgmtVTzYehtAP17iSqOMfI\n",
       "1jUern0V7J2Cd0yGTUiF98p+n8mooxYIhWk/yIjxOqi9xlsJjvgx8izRBklxni0vRGLErSU7+B2g\n",
       "fIoZjYbxxzBe8dlyqkX5S8ZxXng8LXPE3XTCLMfQXu5Lnhb08+N2wN4WYrJHlqOYvUeMwhzfydjG\n",
       "h1MZ4JSwk3nutvPKcVD8GfM1G8ywW1JdjK6yHI913IvEwhjr9G4+XMgA305psFp6+FG14BOf2gN1\n",
       "jRk2IrWHLVkRvnsWeJh2faxbbC32W+AJ7SPVWsRqdHByNIz6OBcJOWLyoU/o8Go7nIPLLLZxjp0b\n",
       "73nVamXlOQ4o/im1qlWQKHyN34rwNFkXJWHyTcbpvjCp6IkKTROLiGmXpOy264H4/U25ZFlH6PT9\n",
       "agIlv6BOm052Jdmupd7c11su2WcFPIJ6+EzpOGp/j9anrrF+qSkZyAa5mOeFsl+1Ttt4WGpKotko\n",
       "/bnB3fZ3rtW+e1Jowacwz2P53u4I4L/KPx3swLF6nJMJAAAAAElFTkSuQmCC\n",
       "\" style=\"display:inline;vertical-align:middle;\" /></a><br>"
      ],
      "text/plain": [
       "<IPython.core.display.HTML object>"
      ]
     },
     "metadata": {},
     "output_type": "display_data"
    }
   ],
   "source": [
    "set_not_equiv_is_bool = Forall((A, B), in_bool(SetNotEquiv(A, B)))"
   ]
  },
  {
   "cell_type": "markdown",
   "metadata": {},
   "source": [
    "### Folding and unfolding the definition of $\\ncong$"
   ]
  },
  {
   "cell_type": "code",
   "execution_count": 15,
   "metadata": {},
   "outputs": [
    {
     "data": {
      "text/html": [
       "<strong id=\"unfold_set_not_equiv\"><a class=\"ProveItLink\" href=\"proofs/unfold_set_not_equiv/thm_proof.ipynb\">unfold_set_not_equiv</a> (established theorem):<br></strong> <a class=\"ProveItLink\" href=\"../__pv_it/theorems/c12497feffe4f47ad0c7d06a7398bc84782727520/theorem_expr.ipynb\"><img src=\"data:image/png;base64,iVBORw0KGgoAAAANSUhEUgAAANcAAAAZBAMAAABQsaZCAAAAMFBMVEX///8AAAAAAAAAAAAAAAAA\n",
       "AAAAAAAAAAAAAAAAAAAAAAAAAAAAAAAAAAAAAAAAAAAv3aB7AAAAD3RSTlMAq1RmmUTNIjK7EInv\n",
       "3XZ/CtNrAAAACXBIWXMAAA7EAAAOxAGVKw4bAAADN0lEQVRIx7VVTUhUURT+5ufNm3nqNIJYm/BB\n",
       "EESLBpTAhTVif2LQQBuJfiYiIlto68qZcBUUiZuaEGeEEIoEDTcyCydDKsKQahGU8Sgogig1M1PK\n",
       "zj13Ru+MDNMTvfC9+/vud+53zj0XWGtpU9r6f6xtw9qL31Q6HyRlpNDikxkERGebfbKdSts5wJVn\n",
       "iqvecWGHxe3apfLy8zH4g2DsF2PnbHMZ6in6ZLVLkr3veJs9BPAMcMwDLWBcFefvtE3mDiqdBlnV\n",
       "/2J9g+gLwBuSyv4FtFmgBgxPEigxbZOVqp00f0suzYvKQaiMnZDx4KIhFxGWJhkuMtFj32XbVZdJ\n",
       "Sdv9M8wpTrc0JqccpKznCSEoMT45+dw+WZMqqYyPkPPHikuzAnTC2BojCwISh4A79snOKG0P+08z\n",
       "vYurlt3s+VYpZl0RiYvQA/bJXtKBJkWhQChjl7uhT3PNw5Nyz+9tcD4WSqclfMmSME8k8+ItX5Kc\n",
       "MpbNHbRpKf//ZV/971XLugkjJKN3SsJpyfgwnnJ1bTbVGBMNX/aHB9zFQVqeaBq6XYDMoFv8ZxWZ\n",
       "OOtemtHSEojskZE7I4N1Av50DtmICce45Q2R9nXA12UZl8lYRiHEu3wurwiZKrLFOSGBhy080fxC\n",
       "BmsIrimVTLtuoeH+p9oOirkKslOO9mTJyGc+kZqOElrzfeana+6dE0folMBl6UvrtAxWE/1Blczv\n",
       "CSAIo5vyAEZhvJKjg4r9IqZ1oUYiP7N7aPR4S+Z28A1xsE/8OMDz0Y81W6CSWW6+sxFOPtX10oG4\n",
       "oYo1ASMxl8SOpQu5XI7EdHlll2iVhSUypTnjjToYFSqZFmMXcsSSP3tlzkNZTNn0TdGbciWDbEpI\n",
       "VXHsE1M0rJC5U4MLGI4n4nFL+FP/KYddIWWrmqJkDSvpmlVElI0dBU6poW9BF/l1c8af2nzmh1vK\n",
       "Vr5ir7B4VpSnhYJpk2kMQF+A8VqRUaNgoTuhcfqLJtGfPdE99XEr9kQJa1Yscj+CceSsdxS7F1ON\n",
       "pkJ2OIC7c+Hh7jjJ6GpNDXUtG2spm7UXIfucQU5xqtaoE9VY/3KsEFlkA8iCBcg0Extb9PXf8h8/\n",
       "AcyJYJPszgAAAABJRU5ErkJggg==\n",
       "\" style=\"display:inline;vertical-align:middle;\" /></a><br>"
      ],
      "text/plain": [
       "<IPython.core.display.HTML object>"
      ]
     },
     "metadata": {},
     "output_type": "display_data"
    }
   ],
   "source": [
    "# Proven\n",
    "unfold_set_not_equiv = Forall((A, B), Not(SetEquiv(A, B)), conditions=[SetNotEquiv(A, B)])"
   ]
  },
  {
   "cell_type": "code",
   "execution_count": 16,
   "metadata": {},
   "outputs": [
    {
     "data": {
      "text/html": [
       "<strong id=\"fold_set_not_equiv\"><a class=\"ProveItLink\" href=\"proofs/fold_set_not_equiv/thm_proof.ipynb\">fold_set_not_equiv</a> (established theorem):<br></strong> <a class=\"ProveItLink\" href=\"../__pv_it/theorems/c9a27d8f2b285a52c5301c089f99eefb214b82bb0/theorem_expr.ipynb\"><img src=\"data:image/png;base64,iVBORw0KGgoAAAANSUhEUgAAANEAAAAXBAMAAABnpbd1AAAAMFBMVEX///8AAAAAAAAAAAAAAAAA\n",
       "AAAAAAAAAAAAAAAAAAAAAAAAAAAAAAAAAAAAAAAAAAAv3aB7AAAAD3RSTlMAq1RmmUTNIjK7EInv\n",
       "3XZ/CtNrAAAACXBIWXMAAA7EAAAOxAGVKw4bAAADP0lEQVRIx61WX0hTURj/ubvtbnc6J0jZk4OE\n",
       "EIIGmfRiXekPiUVSL1ZURkRUkvbSS+XWo1A4emmrYFewIEgw86X2kAlJEYVRgQ8OVj1EEKZW5h/U\n",
       "vnPOznZ3tyExD9x7vvPv+33n9/3OuRdYk6KuMt6JtSpfBF5bofET9PiYsbFIINsAr5xTObtUYtMV\n",
       "6yLwBoA9rH22SKQHotpiQrqcqkvDQHUI54HrDD9cJNIuUTX+5ZWj4yIQ8Yq+YBI4qaOOdmwAHn+R\n",
       "SMP87bkyx+ub22tf2vSHYmhniJ4kSg0oxKCz2DQJJXR5Z3i9Hjh+79AnMVZNT3snnATzNpF4UySS\n",
       "XQhCt/3idZI5n03x9BroHaf9kvL2AXd4n2FZbm5sYi/NApCUBguY0uN3LaaVJ/Xump/8fJppkDou\n",
       "QeVK117xoe7f8aYQM9wmn0oLez8KybYr1jwUycRS5hehqdOyp6QlZXhJJJspEBul0m14eLdHkKyM\n",
       "wTtsRerl7+d+eEbJKS1sAH7AMSCVzB183904LxcckYabfHlIKC46ALakEETrOxGNDmXKisQPneNG\n",
       "EjX37wIEUEmCAjskGSSNyFzizQOJxFIi8Z7b5cSXskyLWfRtOwTrp8QqP/oDVqQxToTTBx32qj7y\n",
       "OwLtAzBoZo9xOSHZlrtFD/kq+UP7YS4GeWhe7BUn7WtdFSxIIr9Jexsjrp72ri5vbaSk1UiKmDYO\n",
       "09MhodNLf9Ld2kPLFXY5XOWCaCXiWWmAVmlCehqNRsccbJojRPlromY0wJLZq2eywSSsMnpiqTv7\n",
       "SRqpnRaOGqmDUMIl1Ryv5jInmGBL9p58NhaLPf54IS0tHSpR0i2lOAYtNmugduUCz9MEnVGRpw0r\n",
       "FRXnGLdlUoxEHoIccYSuKYvKfa4wPz3qnOyhZDrmMuxhPPugpTWeKdfSFrFc7tcGoC5A+2jJk84U\n",
       "4aAUzUj2ggb6ib1JOaMu2213wTuYqHkB7eAZ1wjqF+NNfqsicBvY70PfbCpWpSM+dEt0pySR/U2N\n",
       "5H6TrV8Lm8k2Ix3Le91p4VyLl1DOVLf18360AJI973+AqbdrlTv4m7UjUAAJz/It37ZGPyFZvzta\n",
       "vhnGf/n7B8AcwdpLVvc4AAAAAElFTkSuQmCC\n",
       "\" style=\"display:inline;vertical-align:middle;\" /></a><br>"
      ],
      "text/plain": [
       "<IPython.core.display.HTML object>"
      ]
     },
     "metadata": {},
     "output_type": "display_data"
    }
   ],
   "source": [
    "# Proven\n",
    "fold_set_not_equiv = Forall((A, B), SetNotEquiv(A, B), conditions=[Not(SetEquiv(A, B))])"
   ]
  },
  {
   "cell_type": "markdown",
   "metadata": {},
   "source": [
    "### Substitution With An Equivalent Set"
   ]
  },
  {
   "cell_type": "code",
   "execution_count": 17,
   "metadata": {},
   "outputs": [],
   "source": [
    "# Not clear what to do here — ambiguous what the resulting forms of\n",
    "# fof_a and fof_b are — could be sets, could be something else …\n",
    "# substitution = Forall((f, A, B), SetEquiv(fof_a, fof_b), conditions=SetEquiv(x, y))"
   ]
  },
  {
   "cell_type": "code",
   "execution_count": 18,
   "metadata": {},
   "outputs": [
    {
     "data": {
      "text/html": [
       "<strong id=\"sub_left_side_into\"><a class=\"ProveItLink\" href=\"proofs/sub_left_side_into/thm_proof.ipynb\">sub_left_side_into</a> (conjecture without proof):<br></strong> <a class=\"ProveItLink\" href=\"../__pv_it/theorems/cf723c0e8f48362cbb3016ff9cf43dd8c0fb95b70/theorem_expr.ipynb\"><img src=\"data:image/png;base64,iVBORw0KGgoAAAANSUhEUgAAANoAAAAXBAMAAACfRUyCAAAAMFBMVEX///8AAAAAAAAAAAAAAAAA\n",
       "AAAAAAAAAAAAAAAAAAAAAAAAAAAAAAAAAAAAAAAAAAAv3aB7AAAAD3RSTlMAq1RmmUTNIjK7EInv\n",
       "3XZ/CtNrAAAACXBIWXMAAA7EAAAOxAGVKw4bAAADQklEQVRIx7VWXUgUURT+3Jlx1lndVhAyenCh\n",
       "IIiihUwI+lnpVzZoqZfKIKMi8MX1JYik3R4DQfsB+3nYFSyQMjSEwCU0gwgj2f6gF2HQJyFUxNRc\n",
       "0M69d2b2TrgvMV64c8+d+5377T3fOXcW2OCmr2NtXJsUww1AM4EQs7d5zTG9dm/L1QwZvn7xooX6\n",
       "FHCM2dc9P9IiUDZG43Mx9a3RozSDOyyinV6T+VeJgTqOiLlakwCUKCNEIOw1W3CZep6METF/M5yi\n",
       "5xiUCB3R80CWzVEnRl+TSEdzlh3oCvB5YuKT52ybSJsOykFVJImKPXQoDAAngScuZMbtqLpmO+xQ\n",
       "2S+MddmI6dZXlhgRPj2DDkZbB7RCpyrQ0rH6zcL9Ix/uLmQbUjwowv/8wmBlAkoc/nRs8BEQtfZ9\n",
       "mXIoHBdgdmt2HxsrREZEkWSVtot2ywTiZB0E3vKVwDwflByCIxIbzQM5dAvkL6DRohgOI/CB9oxI\n",
       "LkDaWi2P80A8PFrD0r6DhDR5klTRD+KAc+N8KIlCmZPYaB6c49VJyMO8eFjT2k1sf/YU6JdceLlJ\n",
       "bK9IyByNF6k3HWJvRoEvHGBeFrgw+iISG80rQshxpPHNqZpgaYjipFb3xCUX+PMWm4gkRb2CHXo3\n",
       "9dfNLEdX0BoV8h/nuORUbTUktmRGr4JOCa2v7q0ndXxCOFNtYkGsG5ddEPxtV4LJzs+KjB16P/U2\n",
       "JqAyPrNTBJKJwtUxqmS2AzOTGWidXJ1uYtL4/aOlSCn1MbUHkovYmycB27uN7bJEjxhThOVRScha\n",
       "j2VrMpaOybjEVsmvuxBXR6ef7udsanZgxclJx0VN/zGtG4xC37vWDF96kYT9YSPLI04dJVOWjpfk\n",
       "CnjPnTu5OtqyHUkT+rLD5rhI7af8qcvZVpJuTbwAzlL6hI1+pqPxXYqkvsSHHBMQfcQUNAnFFJm3\n",
       "I1lwkVqtfE9E7KshPUTP9rD6Dsbpa/5R1OWzDWGJbTrP49sFpSU7eJ+9ThDqVAg9i3Frj4KLfGEm\n",
       "CvbNf9ZssE/Gy4BGx+p1o4o1Q/qYdbmXNPuKvFCMTXV+6gk3qmi7XfgKJdwrim1EirFhyIbG3Sjv\n",
       "/zTJV77xX3v9BUGtzrGwR7gVAAAAAElFTkSuQmCC\n",
       "\" style=\"display:inline;vertical-align:middle;\" /></a><br>"
      ],
      "text/plain": [
       "<IPython.core.display.HTML object>"
      ]
     },
     "metadata": {},
     "output_type": "display_data"
    }
   ],
   "source": [
    "sub_left_side_into = Forall((P, A, B), PofA, conditions=[PofB, SetEquiv(A, B)])"
   ]
  },
  {
   "cell_type": "code",
   "execution_count": 19,
   "metadata": {},
   "outputs": [
    {
     "data": {
      "text/html": [
       "<strong id=\"sub_right_side_into\"><a class=\"ProveItLink\" href=\"proofs/sub_right_side_into/thm_proof.ipynb\">sub_right_side_into</a> (conjecture without proof):<br></strong> <a class=\"ProveItLink\" href=\"../__pv_it/theorems/9657f9d0ae3922414aecf6ec2de378f349a0aa910/theorem_expr.ipynb\"><img src=\"data:image/png;base64,iVBORw0KGgoAAAANSUhEUgAAANkAAAAXBAMAAAB0cveBAAAAMFBMVEX///8AAAAAAAAAAAAAAAAA\n",
       "AAAAAAAAAAAAAAAAAAAAAAAAAAAAAAAAAAAAAAAAAAAv3aB7AAAAD3RSTlMAq1RmmUTNIjK7EInv\n",
       "3XZ/CtNrAAAACXBIWXMAAA7EAAAOxAGVKw4bAAADLElEQVRIx7VWX0hTURz+du+26+7m3ED68+Qg\n",
       "KKigQdJT5iSs5h4a9JIFuYqIRHC+F1uPReHoIS3CXR8lhFU+uQQziiKS9eehF2HVQwRhGoqaoP3O\n",
       "uedsZzODYB44O7/v3O/+vnt+f+4dsMUj+Rdry4Y/VDLP0QwwY1etNbIrwbsdzNpHU8/OB7cNwh8G\n",
       "2tne5VofqSEBPLAAM8GQLwM0pdENXCdkZGqt1l8EDtB0hhlKkdUVQTPgpifwhmqt9jNNM0en4qiV\n",
       "UGsRPgs6qbtrXhxZNkljN0dNNHuScJPU25mZNzVXWwHq1miNcfQaGP5EIaSKPAHcr2BalTc6K9Ae\n",
       "m+HfjG0PUjImWHoucrQy+5kZOpVMHwzSdGVjbds503zFlxsL+WiaGR7bQefCWDAJPS4YEeFXsLnT\n",
       "bGxsUHTAfP4JY+I9R0vAfoqiNkneLC+70AJMcKb3F1/0AvyTihphbwHDknFWSDD76QW6bLv4Ye96\n",
       "5sTlFxyRH+8yPQ7takVeJI1URJxwepovjgj0OUWNsH/O7k7GcIsIkq11dObgtV20ltutrNZAsdMp\n",
       "iy729IkjbGsKeMcJxfN88YUwGlbUCNcHUJAM2TRkU2LbbrZzF+YH0W45ocYj2U9+HIt0Lnb3427W\n",
       "4L/Rx3PhxzHOS31t3gFFLWUZjTASkqHZiWM2BVHvof411g62pUW7xYXaEEf0Pu6nO3X2ErnKXpX6\n",
       "9OxeOzQi9i0wG1W1w7NfLLgykuHKlNnRezTCLLPDonh6ZeU8Yj89RH9JkXeyEzvYAzkC4nos32SJ\n",
       "PKbiilqQ/WgByajLVLBFZo1FbkXXh8TebZo714PBKyzw9fLE8IVF7ZJIWuSxS+2A57zIM5KhRSrY\n",
       "IrOu5arGq08r4FrJSrFv3UPgFJVQyMyxPJoflUgaS3wpCAb8xRJbRjJlYTRSpaarG0fLH6Rx+r0V\n",
       "cj6DefJS3RQOreajIUXt+yqP2ABsBjzJEls67s2P3dnwVhkomxu+NPJboCl7HpUgmxojCvtfY0Rx\n",
       "VPVXwSUzfmYzNae847jC/tcwiiXzW3WUpRHeTA3jghlX2LUcRgUyK5b/HX8A8OvMIG5pPYYAAAAA\n",
       "SUVORK5CYII=\n",
       "\" style=\"display:inline;vertical-align:middle;\" /></a><br>"
      ],
      "text/plain": [
       "<IPython.core.display.HTML object>"
      ]
     },
     "metadata": {},
     "output_type": "display_data"
    }
   ],
   "source": [
    "sub_right_side_into = Forall((P, A, B), PofB, conditions=[PofA, SetEquiv(A, B)])"
   ]
  },
  {
   "cell_type": "markdown",
   "metadata": {},
   "source": [
    "### Contradictions\n",
    "**If two sets are both equivalent and not equivalent, there is a contradiction:**"
   ]
  },
  {
   "cell_type": "code",
   "execution_count": 20,
   "metadata": {},
   "outputs": [
    {
     "data": {
      "text/html": [
       "<strong id=\"set_not_equiv_contradiction\"><a class=\"ProveItLink\" href=\"proofs/set_not_equiv_contradiction/thm_proof.ipynb\">set_not_equiv_contradiction</a> (established theorem):<br></strong> <a class=\"ProveItLink\" href=\"../__pv_it/theorems/80dd9758a7cde0965253f54a74e7953b94bf25150/theorem_expr.ipynb\"><img src=\"data:image/png;base64,iVBORw0KGgoAAAANSUhEUgAAAKYAAAAYBAMAAACCZptBAAAAMFBMVEX///8AAAAAAAAAAAAAAAAA\n",
       "AAAAAAAAAAAAAAAAAAAAAAAAAAAAAAAAAAAAAAAAAAAv3aB7AAAAD3RSTlMAq1RmmUTNIjK7EInv\n",
       "3XZ/CtNrAAAACXBIWXMAAA7EAAAOxAGVKw4bAAACBUlEQVQ4y2NgoAEQABHKVDMuGES4goh0qpmp\n",
       "ByIagZh9AnXNZFvAwMCtQF0zmQ2A5jJQ10yGs3fvnqa2mR4MDLOobWYhA7sAtc3kXMAdAGYsQJVl\n",
       "gTG4sGrmwmcm0wNIFHGdAFOdX3Z7NoDtgilb0wBjccz33jIDVdQdVRRqJkOCHZji/gSmmC8w8B1A\n",
       "MXO/AgP3MWBqAyYQWwaGNwhRxrMPOBxQRWFmbsoCUxHnwBSjAwPzB2QzWXseMKgsnc3AsIGBQYSB\n",
       "wR4h6rzqmWUziijczBpIFD1IBFM8CgxrDZDN5GMTYHBgYJFYAgz1QwxclxGiBgxcc74wIIvCzWQE\n",
       "hwwfgxuYV//YRIIB2cwHLAkgb5sBvcH+z9ixASEKCjcGZFHfu3fP3L17ER5hEdAwsWXgEkE2k7UB\n",
       "GLwsM4FgMiisFzogRIFxEACJAagoOvDeLQ9OTEAD6wOQzGTZvfEXTA0wrNm/IkR3zpw/c+YDJFE0\n",
       "wAc0CuyBQwwM8chp6QED+w+YImBYs/5AFhVHFcUsS/kVuDYwsP9i4LqC5HdWYFB+gvm9fgHDWgcG\n",
       "oCqIKAPrBnAMgEUxActBBi7/VI5DDGa/d3sqIJnpI8Cw5BsknzEw5+/eMgmYxg9BRXfOAdr0ACqK\n",
       "EzAhsTkJqzImpgSIIspMuKoEYsw0IMpMmCpWkqsHdrLLOwCS2Iz6DdFUzwAAAABJRU5ErkJggg==\n",
       "\" style=\"display:inline;vertical-align:middle;\" /></a><br>"
      ],
      "text/plain": [
       "<IPython.core.display.HTML object>"
      ]
     },
     "metadata": {},
     "output_type": "display_data"
    }
   ],
   "source": [
    "# Proven\n",
    "set_not_equiv_contradiction = Forall((A, B), FALSE, conditions=[SetEquiv(A, B), SetNotEquiv(A, B)]) "
   ]
  },
  {
   "cell_type": "markdown",
   "metadata": {},
   "source": [
    "### Misc Related Theorems"
   ]
  },
  {
   "cell_type": "code",
   "execution_count": 21,
   "metadata": {},
   "outputs": [
    {
     "data": {
      "text/html": [
       "<strong id=\"union_with_elem_redundancy\"><a class=\"ProveItLink\" href=\"proofs/union_with_elem_redundancy/thm_proof.ipynb\">union_with_elem_redundancy</a> (conjecture without proof):<br></strong> <a class=\"ProveItLink\" href=\"../__pv_it/theorems/614c43b6f206d9884816429a227916cfbfe930690/theorem_expr.ipynb\"><img src=\"data:image/png;base64,iVBORw0KGgoAAAANSUhEUgAAAPAAAAAXBAMAAADHOt+bAAAAMFBMVEX///8AAAAAAAAAAAAAAAAA\n",
       "AAAAAAAAAAAAAAAAAAAAAAAAAAAAAAAAAAAAAAAAAAAv3aB7AAAAD3RSTlMAq1RmmUTNIjK7EInv\n",
       "3XZ/CtNrAAAACXBIWXMAAA7EAAAOxAGVKw4bAAADV0lEQVRIx7VWXUgUURQ+uzO7OztrukUYQsRA\n",
       "Ug/9uC8JPWRGlsZGSdBDWShKRUIwQi+S1Eo9haUVIvogW0gkQWgP/WDJQvhiCBL0JMaG9iex+UNU\n",
       "vmz33Hvuzu7srLWCF86dM/fc737n3nPPmQFYRTNJspt+khTfduxyLeCDVbVCQ4hD+3xaau19AJ54\n",
       "jhXQEERla17EO0igNDy0J8PiXrb0O0xmhHp/At0kLziIGQ7hy4V8ePUGIeCPw+A8e3bh6AB2gUlr\n",
       "2msm3ihXP1yfAtoigZihHY+8Kx9iNSQEqgAUdICztTgRK5U8NCF4GASN6wRiBnQqYORDXEACvymK\n",
       "uYlhHDsXk+LIWXEdCTQOCvPdm1eIt5F4lgC0yMrETXwUd50cE9eKQMwwMT39Ni/iMImefCEGbMRP\n",
       "Pj4aMYh42LoZ9CAQM9QA9GXHcQXiJrmT/ckFM5NYxZBXFm5R2dB3HCjPQhOoHBG+oDVel6jA0/Nn\n",
       "Zd7ozFdS35GA/i0ZyyRuY3FTTGXZxZ7X8OLs5O5M8yZYCMQM/mig1krEOHSCjfh2STfAbtDm6X2M\n",
       "BJf8mUHcco51mtg36MWMudMpKxDUiVzejBvrshGrNdjHZB5axGxX+mKKGNNSO8LztoCXigB6ccbO\n",
       "KkFoaKhgXaJ6Fo++KCTqqCAunL1aTdVnyarOdNQ6c8THK1UPdhUcxp2rN3XmQBk6sctefCQIDU+b\n",
       "GYVZ4jX4rb8HFvEXV1ejLorLjz8hCe4X4mYbVYdw4BTWoGZ5qwdrN/MEeoUDe20xToHQ0MZGFOjX\n",
       "+KoPjgct4pA/HvEIQr10QRIPC1GnZLa4G0HfF5HEZTePwgmZx2F7fCUIDS6O+cUNUfDMp8W4yATl\n",
       "Ym/vXczCegm+JUT1bFxPFe/KpfNzIIkHEu6DhiR+byeWoJRBi2FsPQbVbSLuAFPjp8m20CqnrosI\n",
       "cWj2yuWbzPVBloa2QIMKj0ENgstMEftiz6BSVJcDAJskCCu/qP7/JFZDK3xohPJpdA46DPVG+Hna\n",
       "5TpWl4hCK26upmrE+uXokTc5+xchZumHIe2U7M1msD5SaXmsv+ztzpw2SOJwgosW7E1O97IMnqgT\n",
       "scPycSEO7fIGOWcY/4/MXD9PmQYF/o94LZtvzRn+ArUA5zyreqFuAAAAAElFTkSuQmCC\n",
       "\" style=\"display:inline;vertical-align:middle;\" /></a><br>"
      ],
      "text/plain": [
       "<IPython.core.display.HTML object>"
      ]
     },
     "metadata": {},
     "output_type": "display_data"
    }
   ],
   "source": [
    "union_with_elem_redundancy = Forall((x, S), SetEquiv(Union(S, Set(x)), S), conditions=[InSet(x, S)])"
   ]
  },
  {
   "cell_type": "code",
   "execution_count": 22,
   "metadata": {},
   "outputs": [
    {
     "data": {
      "text/html": [
       "<strong id=\"union_with_subset_redundancy\"><a class=\"ProveItLink\" href=\"proofs/union_with_subset_redundancy/thm_proof.ipynb\">union_with_subset_redundancy</a> (conjecture without proof):<br></strong> <a class=\"ProveItLink\" href=\"../__pv_it/theorems/4a81748c99663101d5b2217b324ca088eaa70e380/theorem_expr.ipynb\"><img src=\"data:image/png;base64,iVBORw0KGgoAAAANSUhEUgAAAOYAAAAXBAMAAADtii40AAAAMFBMVEX///8AAAAAAAAAAAAAAAAA\n",
       "AAAAAAAAAAAAAAAAAAAAAAAAAAAAAAAAAAAAAAAAAAAv3aB7AAAAD3RSTlMAq1RmmUTNIjK7EInv\n",
       "3XZ/CtNrAAAACXBIWXMAAA7EAAAOxAGVKw4bAAADIUlEQVRIx7VVTWgTQRT+kuw2zaZNo4geu6h4\n",
       "UsxBC15qxCpClEa9FPyLiAg9aLwUxGJX9OCh0IKKxINNVQpFqakHq/TQeBCkUslFKZTKoidBtFas\n",
       "pQrrvJnZZLM2aVbogy/zMt+b/d7MezsL/J8FJarx3oiV7aPEstYFqGYFjogoOZu8SvpzAvC3jQeS\n",
       "bvYCwyfhDk7p7FcmsDmR20nEPvpzzqvmkATuQRtgQ4h8LS4TsthPXZb7H67NQG4MIRPDc0RcpTPu\n",
       "96q5V0JhMi1sbOSlEo+G0pwGAjyBSAxDUdSLZNrYbIoIyiese9XMSzQZwEm35tgEm8UkuT6G9caJ\n",
       "NJ9fFNWcRCDGzsFzOVMCOMVW33BpBs1vtIcz5Idpr9Yr0T0/gHqDE1Ozs2+8aio5ATz5bfAJp6aC\n",
       "7SwTjBajNTlYz/nIiAPAXefzRO0RL19QbnUxAQQsa4Nb8wj6KJ2Wf1bttr6nBXFRxB772spT1l6L\n",
       "ALutHrPZcCaTSZdCmIQuAIwM/HFrxtFDzla+51lugtA+W3lBhLJh9oL5TfRxIjxfrjmhQ7stimiH\n",
       "AA1JAbL2ZLlm5FZbMy3uW64mPwXhN6mFGkSPAR1vyzTVXhMh0XbFkJJmgEqq25r1XHOEdXOBjcfd\n",
       "gqwW2rwkUq3U9DF5E5qnyzQjdVFcFm4xpHS2g8zvoQbgaQVM2QiNdITbXJIayyi4JImnnbyhbwoN\n",
       "7C/TNJUUNkp5GSJuFA5anuDHQeFdpK5Se80xZ5ernv6C7HUiuvmR3G/nQwe+ODVVI5LHUakkQ6jo\n",
       "UYFDOT4w26LjwTQ53ZTSLzsXZy1n5PtDhM/gb4g6xyfGm7MOTWV8dImfoCOEKlcQiB/es1Z+op69\n",
       "P08Lh61O+AcW2H7euTXVdWt4q9uEqotLN8LqYzg0TQQX5dVoh3CblqjyAS2sRChR+NKPQMfYpJc0\n",
       "qTis1RKGHWIv3CFR5aqKrUQo1xNj6NWVl9Daz5Y0D0bxcCEJ9QW7E3hIsYnSsF+hCnapRsL5ean+\n",
       "edP6BSrbndoINVuzJq5IVLJIujYigOU1fRlx3666raLGX0MA0IrADlLlAAAAAElFTkSuQmCC\n",
       "\" style=\"display:inline;vertical-align:middle;\" /></a><br>"
      ],
      "text/plain": [
       "<IPython.core.display.HTML object>"
      ]
     },
     "metadata": {},
     "output_type": "display_data"
    }
   ],
   "source": [
    "union_with_subset_redundancy = Forall((S, A),\n",
    "                          SetEquiv(Union(S, A), S),\n",
    "                          conditions=[SubsetEq(A, S)])"
   ]
  },
  {
   "cell_type": "code",
   "execution_count": 23,
   "metadata": {},
   "outputs": [
    {
     "name": "stdout",
     "output_type": "stream",
     "text": [
      "These theorems may now be imported from the theory package: proveit.logic.sets.equivalence\n"
     ]
    }
   ],
   "source": [
    "%end theorems"
   ]
  }
 ],
 "metadata": {
  "kernelspec": {
   "display_name": "Python 3",
   "language": "python",
   "name": "python3"
  }
 },
 "nbformat": 4,
 "nbformat_minor": 0
}