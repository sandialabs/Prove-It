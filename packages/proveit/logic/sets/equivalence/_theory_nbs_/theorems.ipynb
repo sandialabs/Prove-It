{
 "cells": [
  {
   "cell_type": "markdown",
   "metadata": {},
   "source": [
    "Theorems (or conjectures) for the theory of <a class=\"ProveItLink\" href=\"theory.ipynb\">proveit.logic.sets.equivalence</a>\n",
    "========"
   ]
  },
  {
   "cell_type": "code",
   "execution_count": null,
   "metadata": {},
   "outputs": [],
   "source": [
    "import proveit\n",
    "# Prepare this notebook for defining the theorems of a theory:\n",
    "%theorems_notebook # Keep this at the top following 'import proveit'.\n",
    "from proveit import x, A, B, C, P, S, PofA, PofB\n",
    "from proveit.logic import FALSE, Forall, Equals, in_bool, InSet, Not\n",
    "from proveit.logic.sets import SubsetEq\n",
    "from proveit.logic.sets import Set, SetEquiv, SetNotEquiv, Union"
   ]
  },
  {
   "cell_type": "code",
   "execution_count": null,
   "metadata": {},
   "outputs": [],
   "source": [
    "%begin theorems"
   ]
  },
  {
   "cell_type": "code",
   "execution_count": null,
   "metadata": {},
   "outputs": [],
   "source": [
    "set_equiv_unfold = Forall(\n",
    "    (A, B), Forall(x, Equals(InSet(x, A), InSet(x, B))),\n",
    "    condition=SetEquiv(A, B))"
   ]
  },
  {
   "cell_type": "code",
   "execution_count": null,
   "metadata": {},
   "outputs": [],
   "source": [
    "set_equiv_fold = Forall(\n",
    "    (A, B), SetEquiv(A, B),\n",
    "    condition=Forall(x, Equals(InSet(x, A), InSet(x, B))))"
   ]
  },
  {
   "cell_type": "code",
   "execution_count": null,
   "metadata": {},
   "outputs": [],
   "source": [
    "left_membership_via_right = Forall(\n",
    "    (A, B), Forall(x, InSet(x, A), domain=B), condition=SetEquiv(A, B))"
   ]
  },
  {
   "cell_type": "code",
   "execution_count": null,
   "metadata": {},
   "outputs": [],
   "source": [
    "right_membership_via_left = Forall(\n",
    "    (A, B), Forall(x, InSet(x, B), domain=A), condition=SetEquiv(A, B))"
   ]
  },
  {
   "cell_type": "code",
   "execution_count": null,
   "metadata": {},
   "outputs": [],
   "source": [
    "set_equiv_reflexivity = Forall(A, SetEquiv(A, A))"
   ]
  },
  {
   "cell_type": "code",
   "execution_count": null,
   "metadata": {},
   "outputs": [],
   "source": [
    "set_equiv_reflection = Forall((A, B), SetEquiv(A, B), condition=Equals(A, B))"
   ]
  },
  {
   "cell_type": "code",
   "execution_count": null,
   "metadata": {},
   "outputs": [],
   "source": [
    "set_equiv_symmetry = Forall((A, B), Equals(SetEquiv(B, A), SetEquiv(A, B)))"
   ]
  },
  {
   "cell_type": "code",
   "execution_count": null,
   "metadata": {},
   "outputs": [],
   "source": [
    "set_equiv_reversal = Forall((A, B), SetEquiv(B, A), conditions=[SetEquiv(A, B)])"
   ]
  },
  {
   "cell_type": "code",
   "execution_count": null,
   "metadata": {},
   "outputs": [],
   "source": [
    "set_equiv_transitivity = Forall((A, B, C), SetEquiv(A, C), conditions=[SetEquiv(A, B), SetEquiv(B, C)])"
   ]
  },
  {
   "cell_type": "code",
   "execution_count": null,
   "metadata": {},
   "outputs": [],
   "source": [
    "set_equiv_is_bool = Forall((A, B), in_bool(SetEquiv(A, B)))"
   ]
  },
  {
   "cell_type": "code",
   "execution_count": null,
   "metadata": {},
   "outputs": [],
   "source": [
    "set_not_equiv_reversal = Forall((A, B), SetNotEquiv(B, A), conditions=[SetNotEquiv(A, B)])"
   ]
  },
  {
   "cell_type": "code",
   "execution_count": null,
   "metadata": {},
   "outputs": [],
   "source": [
    "set_not_equiv_is_bool = Forall((A, B), in_bool(SetNotEquiv(A, B)))"
   ]
  },
  {
   "cell_type": "markdown",
   "metadata": {},
   "source": [
    "### Folding and unfolding the definition of $\\ncong$"
   ]
  },
  {
   "cell_type": "code",
   "execution_count": null,
   "metadata": {},
   "outputs": [],
   "source": [
    "# Proven\n",
    "unfold_set_not_equiv = Forall((A, B), Not(SetEquiv(A, B)), conditions=[SetNotEquiv(A, B)])"
   ]
  },
  {
   "cell_type": "code",
   "execution_count": null,
   "metadata": {},
   "outputs": [],
   "source": [
    "# Proven\n",
    "fold_set_not_equiv = Forall((A, B), SetNotEquiv(A, B), conditions=[Not(SetEquiv(A, B))])"
   ]
  },
  {
   "cell_type": "markdown",
   "metadata": {},
   "source": [
    "### Substitution With An Equivalent Set"
   ]
  },
  {
   "cell_type": "code",
   "execution_count": null,
   "metadata": {},
   "outputs": [],
   "source": [
    "# Not clear what to do here — ambiguous what the resulting forms of\n",
    "# fof_a and fof_b are — could be sets, could be something else …\n",
    "# substitution = Forall((f, A, B), SetEquiv(fof_a, fof_b), conditions=SetEquiv(x, y))"
   ]
  },
  {
   "cell_type": "code",
   "execution_count": null,
   "metadata": {},
   "outputs": [],
   "source": [
    "sub_left_side_into = Forall((P, A, B), PofA, conditions=[PofB, SetEquiv(A, B)])"
   ]
  },
  {
   "cell_type": "code",
   "execution_count": null,
   "metadata": {},
   "outputs": [],
   "source": [
    "sub_right_side_into = Forall((P, A, B), PofB, conditions=[PofA, SetEquiv(A, B)])"
   ]
  },
  {
   "cell_type": "markdown",
   "metadata": {},
   "source": [
    "### Contradictions\n",
    "**If two sets are both equivalent and not equivalent, there is a contradiction:**"
   ]
  },
  {
   "cell_type": "code",
   "execution_count": null,
   "metadata": {},
   "outputs": [],
   "source": [
    "# Proven\n",
    "set_not_equiv_contradiction = Forall((A, B), FALSE, conditions=[SetEquiv(A, B), SetNotEquiv(A, B)]) "
   ]
  },
  {
   "cell_type": "markdown",
   "metadata": {},
   "source": [
    "### Misc Related Theorems"
   ]
  },
  {
   "cell_type": "code",
   "execution_count": null,
   "metadata": {},
   "outputs": [],
   "source": [
    "union_with_elem_redundancy = Forall((x, S), SetEquiv(Union(S, Set(x)), S), conditions=[InSet(x, S)])"
   ]
  },
  {
   "cell_type": "code",
   "execution_count": null,
   "metadata": {},
   "outputs": [],
   "source": [
    "union_with_subset_redundancy = Forall((S, A),\n",
    "                          SetEquiv(Union(S, A), S),\n",
    "                          conditions=[SubsetEq(A, S)])"
   ]
  },
  {
   "cell_type": "code",
   "execution_count": null,
   "metadata": {},
   "outputs": [],
   "source": [
    "%end theorems"
   ]
  }
 ],
 "metadata": {
  "kernelspec": {
   "display_name": "Python 3",
   "language": "python",
   "name": "python3"
  }
 },
 "nbformat": 4,
 "nbformat_minor": 0
}
