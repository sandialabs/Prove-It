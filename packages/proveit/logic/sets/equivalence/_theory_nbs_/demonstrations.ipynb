{
 "cells": [
  {
   "cell_type": "markdown",
   "metadata": {},
   "source": [
    "Demonstrations for the theory of <a class=\"ProveItLink\" href=\"theory.ipynb\">proveit.logic.sets.equivalence</a>\n",
    "========"
   ]
  },
  {
   "cell_type": "code",
   "execution_count": 1,
   "metadata": {},
   "outputs": [],
   "source": [
    "import proveit\n",
    "from proveit import a, b, c, d, e, x, A, B, C\n",
    "from proveit import InstantiationFailure, ProofFailure\n",
    "from proveit.logic import Equals, Forall, InSet, Not, Set, SetEquiv, SetNotEquiv\n",
    "from proveit.numbers import one, two, three, four, five, Real\n",
    "from proveit.logic.sets.equivalence  import set_equiv_def, set_not_equiv_def\n",
    "from proveit.logic.sets.equivalence import (\n",
    "        set_equiv_reflexivity, set_equiv_reversal, set_equiv_transitivity)\n",
    "%begin demonstrations"
   ]
  },
  {
   "cell_type": "markdown",
   "metadata": {},
   "source": [
    "# Set Equivalence $A \\cong B$ and Set Non-Equivalence $A\\not\\cong B$\n",
    "\n",
    "## [Under Construction]"
   ]
  },
  {
   "cell_type": "markdown",
   "metadata": {},
   "source": [
    "<div style=\"line-height:1.4; font-size:14pt\">\n",
    "<a href='#introduction'>Introduction</a><br>\n",
    "<a href='#simple_expressions'>Simple Expressions involving set equivalence</a><br>\n",
    "<a href='#common_attributes'>Common Attributes of a set equivalence</a><br>\n",
    "<a href='#axioms'>Axioms</a><br>\n",
    "<a href='#theorems_and_conjectures'>Theorems & Conjectures</a><br>\n",
    "<a href='#further_demonstrations'>Further Demonstrations</a><br>\n",
    "    <ol>\n",
    "        <li><a href='#demo01'>TBA</a></li>\n",
    "        <li><a href='#demo02'>TBA</a></li>\n",
    "        <li><a href='#demo03'>TBA</a></li>\n",
    "    </ol>\n",
    "<a href='#misc_testing'>Miscellaneous Testing</a><br>\n",
    "</div>"
   ]
  },
  {
   "cell_type": "markdown",
   "metadata": {},
   "source": [
    "## Introduction <a id='introduction'></a>"
   ]
  },
  {
   "cell_type": "markdown",
   "metadata": {},
   "source": [
    "<font size=3>The Set Equivalence class, <font style=\"font-family:courier\">SetEquiv</font>, is intended to capture the membership equivalence of 2 structures A and B. $A \\cong B$, coded in Prove-It by <font style=\"font-family:courier\">SetEquiv(A, B)</font> is a claim that all elements of A are also elements of B and vice-versa, and uses the congruence symbol $\\cong$ to distinguish the <font style=\"font-family:courier\">SetEquiv</font> claim from the stronger claim that $A = B$.</font>"
   ]
  },
  {
   "cell_type": "markdown",
   "metadata": {},
   "source": [
    "## Simple Expressions Set Equivalence<a id='simple_expressions'></a>"
   ]
  },
  {
   "cell_type": "markdown",
   "metadata": {},
   "source": [
    "<font size=3>Set Equivalence expressions are easy to construct …</font>"
   ]
  },
  {
   "cell_type": "markdown",
   "metadata": {},
   "source": [
    "## Common Attributes of Set Equivalence Expressions<a id='common_attributes'></a>"
   ]
  },
  {
   "cell_type": "markdown",
   "metadata": {},
   "source": [
    "<font size=3>Let's look at some simple examples of set equivalence expressions and their common attributes.</font>"
   ]
  },
  {
   "cell_type": "code",
   "execution_count": 2,
   "metadata": {},
   "outputs": [
    {
     "data": {
      "text/html": [
       "<a class=\"ProveItLink\" href=\"../__pv_it/theorems/2ee8dc2018014830ed832e2e3d65a4df89f102480/expr.ipynb\"><img src=\"data:image/png;base64,iVBORw0KGgoAAAANSUhEUgAAADsAAAAPBAMAAACo4Ko7AAAAMFBMVEX///8AAAAAAAAAAAAAAAAA\n",
       "AAAAAAAAAAAAAAAAAAAAAAAAAAAAAAAAAAAAAAAAAAAv3aB7AAAAD3RSTlMAIs1UmauJMnZmRLsQ\n",
       "3e++988cAAAACXBIWXMAAA7EAAAOxAGVKw4bAAAA+UlEQVQY02NgAAEhBrxAH0zyxF0GkhxgNuf+\n",
       "r6FB2yGyzP/BFG/73AQGBlaIGN8GBob4AjCTJV4ARHUy8KgyMJRApOUbGBjWO4CZiflgZQFArepc\n",
       "FyHS84FC8xtALMaGfgMQDTSZof/fAoh0PBDrgQ1lYbCfAHflASj9moHh6HUwazFDfQK6X9h/d7Rq\n",
       "QpgODPIBINr3LghcBYtxfGRgsAObybHFJX4Dum7uBwwMbN9BrBMMDPwX0KX5geZx/oCYzcD7AF26\n",
       "Hmgw6y8ggwvIYPqAbnc/0E/1CkCGHMimj+i69YD6HgE9efq/DgPz/k9oPov+HxqqDQwrAPAyQLUO\n",
       "1tWZAAAAAElFTkSuQmCC\n",
       "\" style=\"display:inline;vertical-align:middle;\" /></a>"
      ],
      "text/plain": [
       "A equiv B"
      ]
     },
     "metadata": {},
     "output_type": "display_data"
    }
   ],
   "source": [
    "SetEquiv(A, B)"
   ]
  },
  {
   "cell_type": "markdown",
   "metadata": {},
   "source": [
    "## Axioms <a id='axioms'></a>"
   ]
  },
  {
   "cell_type": "markdown",
   "metadata": {},
   "source": [
    "<font size=3>The axiomatic basis for set equivalence currently consists of two axioms, one defining set equivalence in terms of membership and one defining set non-equivlance (these can be found in the [set equivalence theorems Jupyter Python notebook](axioms.ipynb) ):</font>"
   ]
  },
  {
   "cell_type": "code",
   "execution_count": 3,
   "metadata": {},
   "outputs": [
    {
     "data": {
      "text/html": [
       "<span style=\"font-size:20px;\"> <a class=\"ProveItLink\" href=\"axioms.ipynb#set_equiv_def\" style=\"text-decoration: none\">&nbsp;&#x22A2;&nbsp;&nbsp;</a><a class=\"ProveItLink\" href=\"../__pv_it/axioms/a526f1ab8a886b46cea1848b9b6f2e135fcc6d080/expr.ipynb\"><img src=\"data:image/png;base64,iVBORw0KGgoAAAANSUhEUgAAAY4AAAAWBAMAAAAlaGbVAAAAMFBMVEX///8AAAAAAAAAAAAAAAAA\n",
       "AAAAAAAAAAAAAAAAAAAAAAAAAAAAAAAAAAAAAAAAAAAv3aB7AAAAD3RSTlMAq1RmmUTNIjK7EInv\n",
       "3XZ/CtNrAAAACXBIWXMAAA7EAAAOxAGVKw4bAAAFA0lEQVRYw9VXa2gcVRQ+u7PP2c0kQSlWqllQ\n",
       "CmK1i4ZKf9Rsqa8SW4OClLbYbUXUWnT7RyhqsoJ/1EoWoVSKbbZQxApKLIwg+eG2Ep8oq/iI0IGJ\n",
       "EaJit6nWNm3Veu45d3Z35t6dBP954OPcPXvnu/fc85g7AGGSlAiTkmKxnPJ/oCot0hYkPDW14Bbh\n",
       "Rwl8othpzkOKJTMUSqXbU1HHA1YuZG9xlwE2qR5hu04/NTrOQEnMkTKXfS34abz6cm/v42Ww8qof\n",
       "EXo6r6fSiGBXeeBG7WRj7EzvktcAZoBhk7pT/PWonv4NCZSV7EfXz2twMxG2fYqjeYCdqh8xEZFE\n",
       "SU+lEWJXeMwOOZCtAPSVIVEFgk3qeRHWiv6BdRIoa8+TmgFzO8ALnAz/YGDPAvSrfqRElPd0oNII\n",
       "sSs8sbx+9gim0bYCGAUg2KSER5kOeViTwBnPzJPG/UUei3/P8UWTgb5kq2p9iLM9pqfy5BfH8c6b\n",
       "2RWerL9YDjrf8WgA28gA+vIZEGxSBjqd6FAeRQbKsPU7aZHhp//iOo5gMiQ+RuRVP25FVdRTSXnw\n",
       "19aY2RWe5b6yfrLpZh9iFybtw0CwWX3hOJ/r/YiNM1AK0T9a9mozTc1r8GgyPaofWcc5Oa6hMhtX\n",
       "v0xxSrZXA7MrPIOId6bfnKBseboVLazLw1Oo32XYrO4BONC+vbYukvcOKZ5LXVLcHD3UWCL+Neic\n",
       "NzhCvpJ+xMqQrmqoYjDtboBAE5DsxBMjGodcEuddsK6N1f2tKHWhMS3+glUMm9VuSNJT5ic068Wz\n",
       "E+vla6wrxxDLJ89AYLdwugTRD0XO1NR4IOXudpNHdRsMVK8gP9qDxewKD7Z4o2RcjNBRtpLSwqaw\n",
       "QthWMGxW6Sq/tzJcAUYdLEmYHWJgTd6x9oISj9cRH6DLqTnNe/AA0bdKVlKV4S427BXnIdukZFd4\n",
       "JtEGMXYghenv/EDDNG4vIxrDKMNmFXX5bDZ9ydWLDW0u4IeJzeFvxQ9xhqJtxDXxgJt9Zd52JLwK\n",
       "HG17TUh2hWeSnnR5UuvV0N3DfRK2Mmw5LN5Of7vbecUcvJ0P5FUMcTLoRkrUZh/uLVpX6wMSBq5v\n",
       "/TR8d4Aqfh7eIkN7WjE78bTXh7g6wLaSSYVWb9Ulbi/yJw5uYthyeIxahyUjPjLTf5V8IO0y4AHE\n",
       "U8H6EGmaOicysaKJR2Y5rj4bqezwUZn7IjXq3WC5zekeu8JzCMM2tAwy9KPRNGNdwqiI9mqGLYfP\n",
       "kvOb4DeatQbMK7399DCSIuBjwbtnAq1bd0KzNfv9SB7HQT7tln1U0fkjtTi/dHc074geu8KDzXTl\n",
       "S/fC/bxc8129C6P6UVX25UH2QwwjtNbgRB/FD50YkffVVJ1gjp2rwg2Xn/AvEhG3tVcpRYZ0910K\n",
       "arfnvEe10b3+FrYc3sd9ucWu8LwCcKQRXccOmEs3s3WpuJ6S7VuGLYfczHD75M8JTEnv82FKIlye\n",
       "63xv39v8glCpthx0iuE8Xb7PmPj73r3EC2SdYbNqJml3zhyH5EUwv/GM/brbm/Y2qfUjWXsPCoun\n",
       "UniMQuh8cY0UsNtulLHjYN73SOoErLo0sb6ZiekSI/ybsdIxHhu3NKqLptJcuveHLrxHwg5crUXr\n",
       "C3wAVHyNWy/q7nTfgwtTabw8GrrwfglbdXhz4PewRJjMqt+1uu/zBalmNSFyQ+ZbJcapSVI+ycP/\n",
       "Vf4Fq76F4zG+p2EAAAAASUVORK5CYII=\n",
       "\" style=\"display:inline;vertical-align:middle;\" /></a></span>"
      ],
      "text/plain": [
       "|- forall_{A, B} ((A equiv B) = [forall_{x} ((x in A) = (x in B))])"
      ]
     },
     "metadata": {},
     "output_type": "display_data"
    }
   ],
   "source": [
    "set_equiv_def"
   ]
  },
  {
   "cell_type": "code",
   "execution_count": 4,
   "metadata": {},
   "outputs": [
    {
     "data": {
      "text/html": [
       "<span style=\"font-size:20px;\"> <a class=\"ProveItLink\" href=\"axioms.ipynb#set_not_equiv_def\" style=\"text-decoration: none\">&nbsp;&#x22A2;&nbsp;&nbsp;</a><a class=\"ProveItLink\" href=\"../__pv_it/axioms/9437f7172aa913560deca1c56b1db5fda3c9a51d0/expr.ipynb\"><img src=\"data:image/png;base64,iVBORw0KGgoAAAANSUhEUgAAARkAAAAWBAMAAAAGH/VFAAAAMFBMVEX///8AAAAAAAAAAAAAAAAA\n",
       "AAAAAAAAAAAAAAAAAAAAAAAAAAAAAAAAAAAAAAAAAAAv3aB7AAAAD3RSTlMAq1RmmUTNIjK7EInv\n",
       "3XZ/CtNrAAAACXBIWXMAAA7EAAAOxAGVKw4bAAAD4klEQVRIx8VWS0iUURQ+M+M8/EfHEcJqETMQ\n",
       "BFHRLERqUSpaJBGJbSp6GBGRSdomiEwnWrkQJYIkRMeN4KLQWrRwkRX2pJikQMiJqRYRhK9s1MSm\n",
       "c+7rf8w/M8sOfHP/ufeec7/z+u8PkFNaBXKIN5tezg02Z+Q5ByAQ5kC5km2PO2mvp+Qr59SYzcAp\n",
       "A4I0sTnLxm0CKC0ZzroG5kvLegG+2etJcY6wwTPHhsG3RJQ7sDtdWnohCoEIKOyj+fP2ZLRGDrKZ\n",
       "1qdlmIp6AEJR8MTs9JQM8WEnZ/P55icZAoBXAI5lgCZQuEHO9tizKYhw0GOIpdXdcgmgN8CXO9DF\n",
       "01XgqrLTU1LDh+ollsIIDAXBxzW8f9HgIkA5KJBn/rA9myIBlEePozR07do64awa5nOVOFWJjF7b\n",
       "6SkZZ7/+a8s0OBBl0ZO8YF045UJGRTEFF/rhyVI2WwTQjeQsY7we4GRfw0e+HEI0o+GzdnqqbHjW\n",
       "2gMLjBTFJz3BlxyYPM8LRETH20TiTRY2BwUw9rCTRZ/KrzkVVmkfnMJx1E5PZY0XcZXzl15Wet1p\n",
       "mzC+/qCOAwB32WJGMTKnueMN0D0iO0qWqG9l5gtbrWCnJpgEAczB8jAv3GHfaob57v6ZMlp1Neq4\n",
       "DF5mQnvJtnQujtVFxfZJAXQNOkQfgKNevlSwLreTte3WYyYlOazW4jCPrXfeyhlmW8H5jJI5rqMw\n",
       "5mf2/Qu8tOIQGBdWJwQgcLs2JPvumDyzELf5qTa7rWwmZBjx1CJm/Edt9UpGbPoQ1By+OR3OJC/i\n",
       "o++469iyc1Y29wFK4vRwKJFYSyTes9WSIG8JOJGXjYb1tpbBhqJFPeke1wGNe9la8gwvrTDci1gz\n",
       "RREXAXONqLTjNsdvfNhhzcGkgQ3LVAFi2krGR3UdQrLOuA540MSSAfv5K+1b+Qa5v1/AHVFvdihW\n",
       "1jDt0E0lvdt6Tr9kg14UUhsekVeLkTPVnS9FDvbogDa2dhR+Mgt7QFsnrY4KtFGVLPG5h+rMZqT5\n",
       "PGZpaKUnhdrWS3EdsN7RHpw90SReAhLgYC10cCzEWhypdMiu6eIYTjeBcyBFew9N4+uJ181GuvNY\n",
       "w3y0suky5iMO2kAqBlvTF82bHHTp3mLhrtch2hVJMFZP8e6RHV4c5TDaqM/8wIlbZ0w6U/k+W+C6\n",
       "AVwwsyVhbQS8f0D7ICfpPrTciZ32d6tZTDrlednUGMAtPgHt8DnfU6hYHavT79A7Arr0Zhq7mjll\n",
       "1CnM901HXxASJnFa/g8L6BLNfbRBT91KPXnYEF0Jkxy30k5y5PxatfHdpNOeh813A0wSgf8r/wAu\n",
       "HRcDmrsnNQAAAABJRU5ErkJggg==\n",
       "\" style=\"display:inline;vertical-align:middle;\" /></a></span>"
      ],
      "text/plain": [
       "|- forall_{A, B} ((A not_equiv B) = [not](A equiv B))"
      ]
     },
     "metadata": {},
     "output_type": "display_data"
    }
   ],
   "source": [
    "set_not_equiv_def"
   ]
  },
  {
   "cell_type": "markdown",
   "metadata": {},
   "source": [
    "## Theorems & Conjectures<a id='theorems_and_conjectures'></a>"
   ]
  },
  {
   "cell_type": "markdown",
   "metadata": {},
   "source": [
    "<font size=3>The `logic.sets/equivalence` theory already has a number of related theorems and conjectures established, many of which are related to set equivalence being an equivalence relation. Some illustrative examples of the theorems are shown below, and the remainder can be found in the [set equivalence theorems Jupyter Python notebook](theorems.ipynb).</font>"
   ]
  },
  {
   "cell_type": "code",
   "execution_count": 5,
   "metadata": {},
   "outputs": [
    {
     "data": {
      "text/html": [
       "<span style=\"font-size:20px;\"> <a class=\"ProveItLink\" href=\"proofs/set_equiv_reflexivity/thm_proof.ipynb\" style=\"text-decoration: none\">&nbsp;&#x22A2;&nbsp;&nbsp;</a><a class=\"ProveItLink\" href=\"../__pv_it/theorems/e899271b152f486d849b55561e20ad802e6737ac0/expr.ipynb\"><img src=\"data:image/png;base64,iVBORw0KGgoAAAANSUhEUgAAAGwAAAAVBAMAAABRZRb3AAAAMFBMVEX///8AAAAAAAAAAAAAAAAA\n",
       "AAAAAAAAAAAAAAAAAAAAAAAAAAAAAAAAAAAAAAAAAAAv3aB7AAAAD3RSTlMAq1RmmUTNIjK7EInv\n",
       "3XZ/CtNrAAAACXBIWXMAAA7EAAAOxAGVKw4bAAAB0UlEQVQ4y4VSzytEURT+jBlvvDFjVrYzZaXI\n",
       "LKRs9CY/UhbExoIiSbHwbJSIkT+AhVI282ymbISNhQUWSkSzUYrRi5VSGDVIGufcd9/kmTFz69xz\n",
       "3vn6znn3OwcocBQUPf/B9xY6XAibATwmEOS41oG4doSreBFu8yJMt2mDU2QPQAfH4w5awnKNFu1u\n",
       "+QayOpfMckEDS/w7qw5am+Wi73wHIkgE4dUk5g7pQLnGTPjCDtqRuH1zH+zKyGpiQ7rE9g9jdJ+h\n",
       "PEJNnU+zpFgIpAWbO2ZPbBHNZ24xClykUucOmttSRHO95VJqDkMjtcEu0AVsiJQhoQoG4Al7v/Ll\n",
       "78MKF20GpqEImdRTCfnDVl3lVfiUOFJJDYsc1QOVhq9XPCItaVXi87E9+pnXLLDWHmLVV0gB01Jk\n",
       "4PI3TaX5fufRtoHqJPlBsuFWkTJHfv+km+w2j0bT8/N4Gsj2JkR/dEqskhepX+6R422eiFy5FrJ5\n",
       "kRrAk6T56FvhmnH9T7N5Lsq70817wHNH90FITsCbhBrPGKjLTjpZW9kJuOIZmsBVTiNgMSbja5Q4\n",
       "StKO6C3V9mY2laK5I3ZwDLVnzNZEL0GbLZhVV0vQ1gunF4qzAjp+AOf7aZAe/blSAAAAAElFTkSu\n",
       "QmCC\n",
       "\" style=\"display:inline;vertical-align:middle;\" /></a></span>"
      ],
      "text/plain": [
       "|- forall_{A} (A equiv A)"
      ]
     },
     "metadata": {},
     "output_type": "display_data"
    }
   ],
   "source": [
    "set_equiv_reflexivity"
   ]
  },
  {
   "cell_type": "code",
   "execution_count": 6,
   "metadata": {},
   "outputs": [
    {
     "data": {
      "text/html": [
       "<span style=\"font-size:20px;\"> <a class=\"ProveItLink\" href=\"proofs/set_equiv_reversal/thm_proof.ipynb\" style=\"text-decoration: none\">&nbsp;&#x22A2;&nbsp;&nbsp;</a><a class=\"ProveItLink\" href=\"../__pv_it/theorems/4b0ed3a7ddd516817b2fb676c4846fbe2c0cbcde0/expr.ipynb\"><img src=\"data:image/png;base64,iVBORw0KGgoAAAANSUhEUgAAALoAAAAXBAMAAABOokjyAAAAMFBMVEX///8AAAAAAAAAAAAAAAAA\n",
       "AAAAAAAAAAAAAAAAAAAAAAAAAAAAAAAAAAAAAAAAAAAv3aB7AAAAD3RSTlMAq1RmmUTNIjK7EInv\n",
       "3XZ/CtNrAAAACXBIWXMAAA7EAAAOxAGVKw4bAAACx0lEQVRIx61VTWgTURD+0vxsstvGBEqppyzo\n",
       "sWLAEvBQG/EHSwSDXoooRoqIpdB4EYRiIp4EIUUFqx6SQi0IVlIpeMihNWDxh0pAhYJEVnstVotW\n",
       "rdA487Ibthtp6NYHb3b2zZvvzXwzbxewPaQt2jcenzcyXgLcGhBgfYcN8KY84Mx+C7aNiNfROZWk\n",
       "ZlgHaS4Ah1g/bwN9nEXzMBBKs/bx2gfosfLRFRKeHK4yQ8M20A+wSFGwZ6Kk+MMYD8Ab1Y2uUJIy\n",
       "i/IBUFQb6DMsuinubqbDQbMtfTqpG59Oc0Kv4AxTCnZoT7AM0RxgSIXjrzw32kVb4oD7gLly+bUN\n",
       "dFee5Usq53xtTa4ZsZuCxiRwBLgnlnIW9zqfdcPD7t7fXz71/cN4HBk+PAJchCQqLb8QhuvfCz2i\n",
       "CXzG1kdpQ/NmY1Mjut7Cqft/Ah1hEUtZDL1nokix1kEoOSXOK8qyMDhL8M+sQ59WocwSFqF0AYv6\n",
       "ajM7+Win8qsudP/tgyFuwwyVR6sWtfeNeDiicH41o7tvaNj54D5AubZSh5jRt1GEzrU69MdkKdHz\n",
       "FM3EPrGkna16qZgIm9H9ngBl6mofI7gi5LdmZjK00/GjDp26voXz30XzSb8AwWFhSS10tsOMrrkS\n",
       "TEqEUpPW9uw3iuDjLl+iZswkrLy7uck5/700h8RSr85oF+RWM7o7TWVw3aVxi2syatxGhb0GyD6b\n",
       "s4Y+xN5Ub8SYaRFOrBAS2wg6FTehuwqTq4Yb1UQyePASsdsrweCFunv+sNKPpuwKlel9rcwEKk4p\n",
       "0ofD3JEapFpTUE3ctZf5xj+AkqGdoDKrch7SKuR3JmaYw2WDmVQOEwYz6Gx8ncOG8gzysXPeIiJ/\n",
       "Cj2qCf1oAGMr8eom52Bh6mbN15dshH7Z+mky6b4GvnLDz/Ydy/vJTaDjSgO735pceDPoWxrSf8D4\n",
       "CwNbqXOorpZcAAAAAElFTkSuQmCC\n",
       "\" style=\"display:inline;vertical-align:middle;\" /></a></span>"
      ],
      "text/plain": [
       "|- forall_{A, B | A equiv B} (B equiv A)"
      ]
     },
     "metadata": {},
     "output_type": "display_data"
    }
   ],
   "source": [
    "set_equiv_reversal"
   ]
  },
  {
   "cell_type": "code",
   "execution_count": 7,
   "metadata": {},
   "outputs": [
    {
     "data": {
      "text/html": [
       "<span style=\"font-size:20px;\"> <a class=\"ProveItLink\" href=\"proofs/set_equiv_transitivity/thm_proof.ipynb\" style=\"text-decoration: none\">&nbsp;&#x22A2;&nbsp;&nbsp;</a><a class=\"ProveItLink\" href=\"../__pv_it/theorems/42fed0c1798c38009dee2ccdd59829b38fef548a0/expr.ipynb\"><img src=\"data:image/png;base64,iVBORw0KGgoAAAANSUhEUgAAAPcAAAAXBAMAAAAl5sTiAAAAMFBMVEX///8AAAAAAAAAAAAAAAAA\n",
       "AAAAAAAAAAAAAAAAAAAAAAAAAAAAAAAAAAAAAAAAAAAv3aB7AAAAD3RSTlMAq1RmmUTNIjK7EInv\n",
       "3XZ/CtNrAAAACXBIWXMAAA7EAAAOxAGVKw4bAAADQElEQVRIx7VWXUgUURT+dnbH2Z3VSckHH4oG\n",
       "8iUI2gfxzVhJIzNR6MXsT4MoTMieK9eil8KHoqd+wHnYotBg69GNLKmIItsiyIfELQlTpB8LMy3q\n",
       "3Ht3Zi5juga7F+beb+89c75zv3Pu3AXy1bQs653IY3svQmhdan0fPcUMrM89t5LgQ8EXPuhrXlFv\n",
       "iCV9smS1ljAiQC37eSj35NfFsEmQF32somB8Ym56CkpDBO3AKabN+dyTbxFD9Q8+jENvA85wfHOE\n",
       "usZOVJAuFhA2c09+n/fh43N8pOT6DqtvOO4gRuwBCi34SfqCPKRcFFqXMcNHVgCffzXxePgMiVBA\n",
       "zM9HR5/lnjwg6i2qfHPnLN7HUqy/QVGQHNuAy9LaP/zYQP8PcrYtQDWDC96VwXQG+EmcY9D4cdOf\n",
       "8Kmz35N13RwZpck+FlDIfq2/2/HgWLnmrL2rHxgQqMgUcWtf+c+GUdZeMjhmf10UKouQFZZyAX8K\n",
       "Bi8WlU7mVcjkgybCj8lpRLIS4O4BQsBeEyFRaCjkPidrqn96d/7CljlIp1BJi3prHuaDLwo/P5sb\n",
       "ab1cJld70ii/doVXj2PFgbJ9VwJhKE/JW1Qi10nh317yMb5rUktlcbZu5pPpNvGWiVssXxoT4rRM\n",
       "bhQUI4pAWbzJtRKAqqL6XC1ipErQlGRn1fLWS97IZA+zAFjl3WnnrrFVFON4RRnfUsq2tsnTgVam\n",
       "eOWwZCUAKe7vSGOtRBFiZbWTnqPenMfYCqsMP/u0neD11oxpblYFvZRvKeohV7spuYFL1C66VgJk\n",
       "Zh9K5OwcaUzXXu/txQ7fbss+jT5erfXJdfyskc8Yy1chC9CUyAPJ2/OOB9vKBdSYJEoGB1PQe2ct\n",
       "bPhzxKt7/EIpf6PIfo9dODEexBCwnwEfhW50SuRpaHOOA9vKBdRK6JmwLUayfgpOOojSs8rUE9Dm\n",
       "ob8G+qA/Aj5IsquU7hlbYGHlmGdm+5tgOLupWOnVQ5o+gN54MDiEyoVkHYndYyJe/8mSyHcUIz5r\n",
       "uxZWrnnmC1hzb8qtuGz/VBZdpYqDpHsutPTtsYxvPds1vSi6Fhuo1krIW5Zz3pWFfMI7EbGBHysh\n",
       "jyDvTcub57882+DTPtb0tAAAAABJRU5ErkJggg==\n",
       "\" style=\"display:inline;vertical-align:middle;\" /></a></span>"
      ],
      "text/plain": [
       "|- forall_{A, B, C | A equiv B, B equiv C} (A equiv C)"
      ]
     },
     "metadata": {},
     "output_type": "display_data"
    }
   ],
   "source": [
    "set_equiv_transitivity"
   ]
  },
  {
   "cell_type": "markdown",
   "metadata": {},
   "source": [
    "## Demonstrations <a id='further_demonstrations'></a>"
   ]
  },
  {
   "cell_type": "markdown",
   "metadata": {},
   "source": [
    "<div style=\"width: 90%; border: 3px solid green; padding: 10px; margin: 0px;\"><a id='demo01'></a><font size=4><b>1.</b> TBA.</font></div><br>\n",
    "<font size=3>Under Construction</font>"
   ]
  },
  {
   "cell_type": "markdown",
   "metadata": {},
   "source": [
    "<div style=\"width: 90%; border: 3px solid green; padding: 10px; margin: 0px;\"><a id='demo02'></a><font size=4><b>2.</b> TBA.</font></div><br>\n",
    "<font size=3>Under Construction</font>"
   ]
  },
  {
   "cell_type": "markdown",
   "metadata": {},
   "source": [
    "<div style=\"width: 90%; border: 3px solid green; padding: 10px; margin: 0px;\"><a id='demo03'></a><font size=4><b>3.</b> TBA.</font></div><br>\n",
    "<font size=3>Under construction</font>"
   ]
  },
  {
   "cell_type": "markdown",
   "metadata": {},
   "source": [
    "## Miscellaneous Testing\n",
    "<font size=3>The material below was developed to test various SetEquiv-related methods. Some of this material could be integrated into the `_demonstrations_` page eventually and/or deleted as development continues.</font>"
   ]
  },
  {
   "cell_type": "markdown",
   "metadata": {},
   "source": [
    "### Some Example `Sets` For Testing"
   ]
  },
  {
   "cell_type": "code",
   "execution_count": 8,
   "metadata": {},
   "outputs": [
    {
     "data": {
      "text/html": [
       "<strong id=\"set_12345\">set_12345:</strong> <a class=\"ProveItLink\" href=\"../__pv_it/demonstrations/12dc3bbdd186bc7f3c4f78b4ed0f0166715fdfe40/expr.ipynb\"><img src=\"data:image/png;base64,iVBORw0KGgoAAAANSUhEUgAAAGsAAAAVBAMAAACzuQ2OAAAAMFBMVEX///8AAAAAAAAAAAAAAAAA\n",
       "AAAAAAAAAAAAAAAAAAAAAAAAAAAAAAAAAAAAAAAAAAAv3aB7AAAAD3RSTlMAEER2zVSJ3Zki72ar\n",
       "MruaaVGaAAAACXBIWXMAAA7EAAAOxAGVKw4bAAABuklEQVQ4y5WUPUjDQBTH/zGkH/aDgIuDYHUR\n",
       "xMFBHLpYxFGkLoKTcVEQhzoJIlShYAcJBQeLinVWod1dCn6hrbTgIqhgd0GrFVHRene5Sxsprb3h\n",
       "7pdrfrnX914CQOpGM8M5aawDXf9W8pBiuCtQVIpk8iyIZ0XH8pxmdJ+4/YavyZFFFXikaAsBHZEi\n",
       "/2EXtheD2qG8CW2Zr0vv02SeFRpkoV0A+wYNBaUS35SFlmZzDS2pIhdj1OuD0G5HG2nnQI7/OShf\n",
       "HLSGGhlhAT0pHmNMaJnBK6E5AlbN88rhOsuP3YbQCkiQ7PopbqWsmj0tSGRSMzXAS2JLBIGdYVg1\n",
       "vRIuyQ8ZrliV5vggbXUShEdXLZpLHHYPPAUpbEBo3gAc3yQb9CRv2qJNwGkUoKxyrS+b/TxjW60h\n",
       "uJ+BKbU6kxJLiAZZZXRIg5SMZxFmtxLzAZgzC2AjIXfSlG5Go2sGHdG6MQJ+wDrGuQK/WlU392Up\n",
       "Aztt53C5XDKoJUpamRH08jFoDyO+vmopNxvjqEOKau790TTUIRusmrzHr6R+1KG2ihZhr6N4q2Rz\n",
       "vxaZPqQDtsRPm/uWzJNq/gLZnXhEcFX4LQAAAABJRU5ErkJggg==\n",
       "\" style=\"display:inline;vertical-align:middle;\" /></a><br>"
      ],
      "text/plain": [
       "<IPython.core.display.HTML object>"
      ]
     },
     "metadata": {},
     "output_type": "display_data"
    },
    {
     "data": {
      "text/html": [
       "<strong id=\"set_abcde\">set_abcde:</strong> <a class=\"ProveItLink\" href=\"../__pv_it/demonstrations/79184629a2e14906fcd14d7156a50559efda0ab70/expr.ipynb\"><img src=\"data:image/png;base64,iVBORw0KGgoAAAANSUhEUgAAAGkAAAAVBAMAAAC3TN2zAAAAMFBMVEX///8AAAAAAAAAAAAAAAAA\n",
       "AAAAAAAAAAAAAAAAAAAAAAAAAAAAAAAAAAAAAAAAAAAv3aB7AAAAD3RSTlMAEER2zVSJ3Zki72ar\n",
       "MruaaVGaAAAACXBIWXMAAA7EAAAOxAGVKw4bAAABi0lEQVQ4y2NgYGBUYiABcEZCaBNFUnQx3HkI\n",
       "Ilk/IosxvirAVMjr1YDEewMi2FCVsTRgMZ8/AImTjkUXigIY0BcgoAtFAYpCfLrSsYWAB3ZdnMcs\n",
       "DSBiPsZHobLJ1hcgYX3M9is0qJItBKC6OByAhNYEPkhQMn4RkJ8AZk0P4HgAZsDlGNQv8CYwMFiB\n",
       "mLM2ANWuZuCAOBQYD1wQW8ugDJCcA8TS3wzMCgwM84HhNccJZN8HBvYEBqjN/GAWBywaEXJ8n42T\n",
       "QMYcCWDg7QM6lesBg7wCWAaoQB8c9lwPoLoQcvwHwBQbyB4+IFvegGE/PLr6wWEvDw0dZDmIULwA\n",
       "NAzlAxiOsE5gBMlcAPoDzAB6VwHEQMiBHAp0RxYs5PkMWCs4GOSBnubZwNcAZgADkO0CiIGQ43Zg\n",
       "kJiAFF+Mh3Pn2DKwFwJZx7oZwAyGtN2GEBG4HIPZbgMsaSMQNwOJha4rATcDiQXWxbwAnrcMcDKQ\n",
       "WAwt4Bj/CuMy42YgsYBhDAIzjpJUbuQAAx8Afpdbo4F0xkoAAAAASUVORK5CYII=\n",
       "\" style=\"display:inline;vertical-align:middle;\" /></a><br>"
      ],
      "text/plain": [
       "<IPython.core.display.HTML object>"
      ]
     },
     "metadata": {},
     "output_type": "display_data"
    },
    {
     "data": {
      "text/html": [
       "<strong id=\"set_1a2b3c\">set_1a2b3c:</strong> <a class=\"ProveItLink\" href=\"../__pv_it/demonstrations/b16f3959b20de143acc14565857a75d5013c36810/expr.ipynb\"><img src=\"data:image/png;base64,iVBORw0KGgoAAAANSUhEUgAAAH0AAAAVBAMAAACZCfwhAAAAMFBMVEX///8AAAAAAAAAAAAAAAAA\n",
       "AAAAAAAAAAAAAAAAAAAAAAAAAAAAAAAAAAAAAAAAAAAv3aB7AAAAD3RSTlMAEER2zVSJ3Zki72ar\n",
       "MruaaVGaAAAACXBIWXMAAA7EAAAOxAGVKw4bAAAB30lEQVQ4y51USyhEURj+zh1zx8Tolo00eW2U\n",
       "lSILKY+VhRgbsjKlkEdYYMlCzazGlAVJKAt5ZKYspRRCFGUhxUI2FspjUJLGeY7DraG53c7/3e+c\n",
       "7/zn/t9/LwBShJQud5uI5YWp6XF1w0bnExsvLNv2wcYzgfKWFdUZKtCX3LPBHKSvcNhk08/DfJaw\n",
       "XsYcOF/1JV1KD1Tb9EfAqoRKVO0jL//WRyychjkyniRVUoD/6w+AU1EAsYJfzo+/9HMdU4n5MRHS\n",
       "dqt8kimOSmCWbUt9eo2uN1bwoLbyxETMryXvAp2fSEvcwwgBlQzORnV9bhQBld61I2K7hSV1fllK\n",
       "l59RC/RYc3XQ9ZPAiNKHZJwA3rSq8mU8kD0fPCFL12+AKNczZHq6oSHSXgMPPrmMF4HlztrR9CSG\n",
       "jEcpa4E7LO1PFw7GLaknMfViev3pTV6RWdPGEDx+OCzC5j5ZVRi1zs7PKWqjAfR8+zcQBu+tW7SO\n",
       "j3M0HQwGkM/MOcadmNxi/nOKlqZf9/8k0hDFKM3hrbjcPeNoLB5/gWuITnq7qUWMMoL0++GU2btp\n",
       "/egfbo5lR81JqN96E3bkT0IJvWNRPWbDhkhpEoo1Bm3FxCf9PZFAjmQUWeNhZj/F/18f7YUvQOp7\n",
       "P9yDIcIAAAAASUVORK5CYII=\n",
       "\" style=\"display:inline;vertical-align:middle;\" /></a><br>"
      ],
      "text/plain": [
       "<IPython.core.display.HTML object>"
      ]
     },
     "metadata": {},
     "output_type": "display_data"
    },
    {
     "data": {
      "text/html": [
       "<strong id=\"power_set_of_ab\">power_set_of_ab:</strong> <a class=\"ProveItLink\" href=\"../__pv_it/demonstrations/63e9b9807fa59f342e0d268ecf41dd97eb703fbd0/expr.ipynb\"><img src=\"data:image/png;base64,iVBORw0KGgoAAAANSUhEUgAAAL0AAAAVBAMAAADhtvKAAAAAMFBMVEX///8AAAAAAAAAAAAAAAAA\n",
       "AAAAAAAAAAAAAAAAAAAAAAAAAAAAAAAAAAAAAAAAAAAv3aB7AAAAD3RSTlMAEER2zVSJ3Zki72ar\n",
       "MruaaVGaAAAACXBIWXMAAA7EAAAOxAGVKw4bAAACRElEQVQ4y52UwWsTQRTG3xh3m9Q2GeytFLZ6\n",
       "9NIFRVAQQsBbD9uT9NSAQqAo1It6zEHwoNiAKCIBvUpB8h+00KRH6VHBg+JNClZt7857k5l5bzvk\n",
       "kHeYzPy+977dzb63AKAug4mLy7V1YGEpgKQmjX5e9yIwBMmu8tols1RaGr79YClEMQTFNIz5z/os\n",
       "DGFlW5n8wXUDwVHIsJSCUUxTv7bMpr4nIHtuJlNlimfo+MWGpVCitD/flbpIEHJnKv9GMdGfydP5\n",
       "r+iJ/kyezr8DE/3LphP8+3dfRfxXr47O+tcObuT2xGSqrDZxfYrLzVCD9NxH+K0FxTR1orMeVD4I\n",
       "CFd6ddtxXKbKdwO8/A5u3xe+BuniAJ5Jimmmc2dzqJ0KqHaguuUa28tY2W9hypAmUA2dFdFtgEeC\n",
       "Upp5skYbYOm2gMcw03YP7mWsnH+J7/sLjVra8gOI9BOov4JSmvFZMRe8t8zh7HfILOAyVbJRY4No\n",
       "qPoHF45L43lE/b2t+XwjzHLY9e3v5Y1Sq25Shh73jzqFuea6oJjWODR/NqT0ApWDWQHDpIdHLm/G\n",
       "+lOdOPoT7nS7guJ+blDvuqqsOYb1PHlSpSOX4/3/2D3V0vWv+4eC4l4dPPdVMw8d3H/Qv0VHLsf9\n",
       "Ex2b30SLCRzra3Is16Qc90+j34cUYv5t6d+O+LNRoyGGhUChRMMs26lXuYAqlzJVhlFTNMSQB0pF\n",
       "jIZZXhzQXUhY8fdE8rjy7Qj9XhS1+wX70hBFQVCTRr9vRhEYgmSq/A+QoLtebuKXsAAAAABJRU5E\n",
       "rkJggg==\n",
       "\" style=\"display:inline;vertical-align:middle;\" /></a><br>"
      ],
      "text/plain": [
       "<IPython.core.display.HTML object>"
      ]
     },
     "metadata": {},
     "output_type": "display_data"
    },
    {
     "data": {
      "text/html": [
       "<strong id=\"empty_set\">empty_set:</strong> <a class=\"ProveItLink\" href=\"../__pv_it/demonstrations/9851c93be39430440be05789eaf29a51888b46890/expr.ipynb\"><img src=\"data:image/png;base64,iVBORw0KGgoAAAANSUhEUgAAABMAAAAVBAMAAABWJ8jiAAAAMFBMVEX///8AAAAAAAAAAAAAAAAA\n",
       "AAAAAAAAAAAAAAAAAAAAAAAAAAAAAAAAAAAAAAAAAAAv3aB7AAAAD3RSTlMAEER2zVSJ3Zki72ar\n",
       "MruaaVGaAAAACXBIWXMAAA7EAAAOxAGVKw4bAAAAZklEQVQI12NgYGBUYuCMZAADE0UGhjsPQSzW\n",
       "jyDyDYhgKwCR6aQyORxApBWImLUBRM4PYGCY4wS2h/FIAANvnwBYB0iE7wCIGS8ANyGLVNuYF4DI\n",
       "FhDB+RVkw2qwRTOOMnDmAO0FAPofGPAWTmOXAAAAAElFTkSuQmCC\n",
       "\" style=\"display:inline;vertical-align:middle;\" /></a><br>"
      ],
      "text/plain": [
       "<IPython.core.display.HTML object>"
      ]
     },
     "metadata": {},
     "output_type": "display_data"
    }
   ],
   "source": [
    "# some standard enumerated sets\n",
    "from proveit import e\n",
    "set_12345, set_abcde, set_1a2b3c, power_set_of_ab, empty_set = (\n",
    "    Set(one, two, three, four, five),\n",
    "    Set(a, b, c, d, e),\n",
    "    Set(one, a, two, b, three, c),\n",
    "    Set(Set(), Set(a), Set(b), Set(a,b)),\n",
    "    Set())"
   ]
  },
  {
   "cell_type": "code",
   "execution_count": 9,
   "metadata": {},
   "outputs": [
    {
     "data": {
      "text/html": [
       "<strong id=\"set_12131\">set_12131:</strong> <a class=\"ProveItLink\" href=\"../__pv_it/demonstrations/12273982d3cb4bdd24d1c00a53880666d1b7b43e0/expr.ipynb\"><img src=\"data:image/png;base64,iVBORw0KGgoAAAANSUhEUgAAAGsAAAAVBAMAAACzuQ2OAAAAMFBMVEX///8AAAAAAAAAAAAAAAAA\n",
       "AAAAAAAAAAAAAAAAAAAAAAAAAAAAAAAAAAAAAAAAAAAv3aB7AAAAD3RSTlMAEER2zVSJ3Zki72ar\n",
       "MruaaVGaAAAACXBIWXMAAA7EAAAOxAGVKw4bAAABdElEQVQ4y2NgYGBUYiAFcEZCaBNFkrQx3HkI\n",
       "Ilk/AgneQphZHX4XoEy42LSMRzAt1wWAxBsQi62AgUGm5SNUfB4D2ycICy7G2MAQHwBhnfAHaUuH\n",
       "aWNghmk7ycCwCsqEiTF/ZZB3gIrZ49C2XoDh/ARUbUyLGPgJaTvOwHD+Aqo2IIjfQEAbENQzoGtj\n",
       "qmbA0MbhgKqN9zO6Nl6bsyjarECsWRtQtbEfYMB0ZACytvlA3hwnNCV9DJjauD4ia2M8EsDA2yeA\n",
       "ooT7ALo23gsMfF+RtbGBbOI7gKItjIETLQL4P6JpixdADklGsNEJDMwCjHBtIBbXAZAjBRDasuAR\n",
       "wPaTAZIUpnd0tEMTBUyMewMw3hi/gLXlT0CON55TX04zsIOSbv3//18gLISYRgcwKZeD7Dmz3mcD\n",
       "cnSDQSADHharAFwMTVsCAx4WGwOqNuYFUB6jAQMeljBCWws4Y8IClxkujo0F18/AuBpMzThKWlmS\n",
       "A0xbANZXbZU2JsAHAAAAAElFTkSuQmCC\n",
       "\" style=\"display:inline;vertical-align:middle;\" /></a><br>"
      ],
      "text/plain": [
       "<IPython.core.display.HTML object>"
      ]
     },
     "metadata": {},
     "output_type": "display_data"
    },
    {
     "data": {
      "text/html": [
       "<strong id=\"set_1a1b2a\">set_1a1b2a:</strong> <a class=\"ProveItLink\" href=\"../__pv_it/demonstrations/0c8d145a1e7e6368804c6b7f42b2675d2cd7ac440/expr.ipynb\"><img src=\"data:image/png;base64,iVBORw0KGgoAAAANSUhEUgAAAH8AAAAVBAMAAACd/CwcAAAAMFBMVEX///8AAAAAAAAAAAAAAAAA\n",
       "AAAAAAAAAAAAAAAAAAAAAAAAAAAAAAAAAAAAAAAAAAAv3aB7AAAAD3RSTlMAEER2zVSJ3Zki72ar\n",
       "MruaaVGaAAAACXBIWXMAAA7EAAAOxAGVKw4bAAABs0lEQVQ4y2NgYGBUYiAPcEZCaBNFMg1guPMQ\n",
       "RLJ+BJHXBTCkeQuhDLnlMCs7/C6gKHkDItgKgL444Y9hgEzLRxjTA0rPY2D7hKImHWYAA4M9pguY\n",
       "4QZ8hdInGRhWkWMAE4yxXoDh/AQyDICoAILjDAznLxAyYE7yZHQDWA7bBMC01KMoAxvA4YBsANNK\n",
       "hvcCaAbIOzL+hMXMZxRlViD2rA3IBkhtYGhHd0G8AMNiKJP9AIqy+UCXzXFiQDagn4GhDN2AFgaG\n",
       "b1BmHwOKMsYjAQy8fQLIBqxjYPyEbkAZAxM0IrmhDoApYwPZzncAyQDGzwzcH9AN+MrAAWWGMXBO\n",
       "QFYWL4ASC0DE+JWBxyGSQQBmACOI8RfkZZAQbwIDswBICKqMIQsRjfkTGBi/AOnHDOENDWAWAxsw\n",
       "6OVBUXSa4QVEcnpHRztECKwMOR2cWe+zgaEcaIuM2c3DF8AsnlNfTjOwgzKUTAYwokBC9f//f4EK\n",
       "gZUhJyRwvhTAZAXiEcIwgI0Bk5WARwhqAPMCGFeYAYPFaIBHCJxCgKUELLMyIGTgLGZ8QgyMq8HU\n",
       "jKPklok5wJQMAC8Bfe6a/9VcAAAAAElFTkSuQmCC\n",
       "\" style=\"display:inline;vertical-align:middle;\" /></a><br>"
      ],
      "text/plain": [
       "<IPython.core.display.HTML object>"
      ]
     },
     "metadata": {},
     "output_type": "display_data"
    }
   ],
   "source": [
    "# some non-standard enumerated sets pretending to be multi-sets (but not!)\n",
    "set_12131, set_1a1b2a = (\n",
    "    Set(one, two, one, three, one),\n",
    "    Set(one, a, one, b, two, a))"
   ]
  },
  {
   "cell_type": "markdown",
   "metadata": {},
   "source": [
    "### Testing the `SetEquiv.conclude()` method<br/>\n",
    "\n",
    "The `conclude()` method is a general method with the following format:<br/>\n",
    "\n",
    "<div style=\"width: 50%; border: 1px solid green; padding: 5px; margin: 20px; background-color: gainsboro; font-family:courier\">conclude(**defaults_config)</div>\n",
    "\n",
    "and attempts to conclude the equivalence in various ways: (1) using simple reflexivity (A equiv A); (2) via an evaluation (if one side is an irreducible); or (3) via transitivity."
   ]
  },
  {
   "cell_type": "code",
   "execution_count": 10,
   "metadata": {},
   "outputs": [
    {
     "data": {
      "text/html": [
       "<span style=\"font-size:20px;\"> <a class=\"ProveItLink\" href=\"../__pv_it/demonstrations/321b9d74804aff0870094b5f85721cfa60ea37160/proof.ipynb\" style=\"text-decoration: none\">&nbsp;&#x22A2;&nbsp;&nbsp;</a><a class=\"ProveItLink\" href=\"../__pv_it/demonstrations/06daae90a22dc53524b81248ba3a2045b8e1637e0/expr.ipynb\"><img src=\"data:image/png;base64,iVBORw0KGgoAAAANSUhEUgAAADsAAAAOBAMAAABjvHmeAAAAMFBMVEX///8AAAAAAAAAAAAAAAAA\n",
       "AAAAAAAAAAAAAAAAAAAAAAAAAAAAAAAAAAAAAAAAAAAv3aB7AAAAD3RSTlMAEHa7q2Yiie9Umd0y\n",
       "zUTye3nKAAAACXBIWXMAAA7EAAAOxAGVKw4bAAAAr0lEQVQY02NgYGBUdnFlK2AAMjx2AkkmBjCA\n",
       "i2ooMnCuDgAyuHWigXwWiDRMVHgPkLM+AUioMjBeYWA4BZaFi94QADJegIQcgFrv8G0DS8NE2X+C\n",
       "eGAtIJv0fzwAMeGi+RtADBkGGBAAk3DRegUGLAAuuj8BLrZ6NwhsQRHtRzISAeCi+0E05wE0abgo\n",
       "2Mfs6HbDRfNBjihEtxsuyvmVgeE5utVIolImXg8wfQYVBQB8qjdc96k7gwAAAABJRU5ErkJggg==\n",
       "\" style=\"display:inline;vertical-align:middle;\" /></a></span>"
      ],
      "text/plain": [
       "|- C equiv C"
      ]
     },
     "metadata": {},
     "output_type": "display_data"
    }
   ],
   "source": [
    "SetEquiv(C, C).conclude()"
   ]
  },
  {
   "cell_type": "code",
   "execution_count": 11,
   "metadata": {},
   "outputs": [
    {
     "name": "stdout",
     "output_type": "stream",
     "text": [
      "ProofFailure: Unable to prove {1, 2, 3} equiv {a, b, c}:\n",
      "Unable to automatically conclude by standard means.  To try to prove this via transitive implication relations, try 'conclude_via_transitivity'.\n"
     ]
    }
   ],
   "source": [
    "# As one would expect, we cannot conclude a set-equivalence between \n",
    "# two arbitrary sets\n",
    "try:\n",
    "    SetEquiv(Set(one, two, three), Set(a, b, c)).conclude()\n",
    "    assert False, \"Should not get this far!\"\n",
    "except ProofFailure as the_error:\n",
    "    print(\"ProofFailure: {}\".format(the_error))"
   ]
  },
  {
   "cell_type": "code",
   "execution_count": 12,
   "metadata": {},
   "outputs": [
    {
     "name": "stdout",
     "output_type": "stream",
     "text": [
      "ProofFailure: Unable to prove {1, d, 3} equiv {a, b, c} assuming {a = 1, b = d, c = 3}:\n",
      "Unable to automatically conclude by standard means.  To try to prove this via transitive implication relations, try 'conclude_via_transitivity'.\n"
     ]
    }
   ],
   "source": [
    "# This also doesn't work even with these proper assumptions because\n",
    "# these substitutions are not made automatically.\n",
    "try:\n",
    "    SetEquiv(Set(one, d, three), Set(a, b, c)).conclude(\n",
    "        assumptions=[Equals(a, one), Equals(b, d), Equals(c, three)])\n",
    "    assert False, \"Should not get this far!\"\n",
    "except ProofFailure as the_error:\n",
    "    print(\"ProofFailure: {}\".format(the_error))"
   ]
  },
  {
   "cell_type": "code",
   "execution_count": 13,
   "metadata": {},
   "outputs": [
    {
     "data": {
      "text/html": [
       "<span style=\"font-size:20px;\"><a class=\"ProveItLink\" href=\"../__pv_it/demonstrations/27c2109b4bcc6da83e759bd610d6c0877c3a03360/expr.ipynb\"><img src=\"data:image/png;base64,iVBORw0KGgoAAAANSUhEUgAAADAAAAAOBAMAAACbXIJpAAAAMFBMVEX///8AAAAAAAAAAAAAAAAA\n",
       "AAAAAAAAAAAAAAAAAAAAAAAAAAAAAAAAAAAAAAAAAAAv3aB7AAAAD3RSTlMAIquJdkTvuxBmmd1U\n",
       "zTKBpmoTAAAACXBIWXMAAA7EAAAOxAGVKw4bAAAAaElEQVQY02NgwAb4dmAVZmha+wO7BAMLeRKM\n",
       "yo4OWCXCBNjBGlfvBoFNcAmOTAauDdh0cH1g4DbAJsFWwNAfgE2i34FhPgM2O/oPMOjyCGDRwe7A\n",
       "s4sL3Sjmj0BXqdgJ+aGJM6n91QQAV4wjtpQsiA4AAAAASUVORK5CYII=\n",
       "\" style=\"display:inline;vertical-align:middle;\" /></a>, <a class=\"ProveItLink\" href=\"../__pv_it/demonstrations/a48af4431b8a321955379e31f3459976bc09db890/expr.ipynb\"><img src=\"data:image/png;base64,iVBORw0KGgoAAAANSUhEUgAAAC8AAAAOBAMAAABN+VgMAAAAMFBMVEX///8AAAAAAAAAAAAAAAAA\n",
       "AAAAAAAAAAAAAAAAAAAAAAAAAAAAAAAAAAAAAAAAAAAv3aB7AAAAD3RSTlMAELvv3c2ZVESJq3Yi\n",
       "MmZ3LnoBAAAACXBIWXMAAA7EAAAOxAGVKw4bAAAAoklEQVQY02NgVHZgQAM8aUEXgBRrArrEIQbO\n",
       "H0CKvwBdYg0DgzGQ6hdAl7AXYFh/gIFhCro4wxIGhvVAS6J2L8eQYvBnYGD8KiAP1MeQ4gICXhBx\n",
       "3t8MDOwfGZg3oGtgWcDAwBbAwD8BXSIJJDmBoR/dwXwLIN7IF0Czo5KB5wAD/wVGOzQNvBMYuAUY\n",
       "uB4woYfJkbS0FKBzV+ZheOL//68MAKvBJSn2+GgqAAAAAElFTkSuQmCC\n",
       "\" style=\"display:inline;vertical-align:middle;\" /></a>, <a class=\"ProveItLink\" href=\"../__pv_it/demonstrations/526a7134e8ade6a248637ee37a1968395a2a30770/expr.ipynb\"><img src=\"data:image/png;base64,iVBORw0KGgoAAAANSUhEUgAAAC8AAAAOBAMAAABN+VgMAAAAMFBMVEX///8AAAAAAAAAAAAAAAAA\n",
       "AAAAAAAAAAAAAAAAAAAAAAAAAAAAAAAAAAAAAAAAAAAv3aB7AAAAD3RSTlMAiXZmMiLdVJm77xBE\n",
       "q833A+o+AAAACXBIWXMAAA7EAAAOxAGVKw4bAAAAg0lEQVQY02NgwASsgp0HGLCBHQzs37FK6Bdw\n",
       "/8MqceoAA3YJBgb2zyBSSNkBXeKYAZAIK+CYAKTa0kAgFyzudBekNJGBSwHDKKCrOH5js2T9Bgau\n",
       "CRiiLgwM8wsY9kPNQbLj/waQBD/QAWgBsBZsFNBJjGjONYb4Q9BYG80Ong5gIAIAipwjHGAJiswA\n",
       "AAAASUVORK5CYII=\n",
       "\" style=\"display:inline;vertical-align:middle;\" /></a> <a class=\"ProveItLink\" href=\"../__pv_it/demonstrations/2d1a8f72d0841f80165bc18552624af06741986f0/proof.ipynb\" style=\"text-decoration: none\">&nbsp;&#x22A2;&nbsp;&nbsp;</a><a class=\"ProveItLink\" href=\"../__pv_it/demonstrations/3976b7d219879b8bb54791446332d0e34f693bc70/expr.ipynb\"><img src=\"data:image/png;base64,iVBORw0KGgoAAAANSUhEUgAAAKMAAAAVBAMAAADY0UPbAAAAMFBMVEX///8AAAAAAAAAAAAAAAAA\n",
       "AAAAAAAAAAAAAAAAAAAAAAAAAAAAAAAAAAAAAAAAAAAv3aB7AAAAD3RSTlMAEER2zVSJ3Zki72ar\n",
       "MruaaVGaAAAACXBIWXMAAA7EAAAOxAGVKw4bAAACWklEQVQ4y4VVTWgTQRh9s2s3TZO0C94kWPXk\n",
       "saB40IqxJw8q8aL0lICHFn9AD7WIQnMoJKdUEFSkqOhBVKgBD56EQBWxRZqjghfrxYOgMYmgInXm\n",
       "m5/s7uy232Hy5uO9N9/OfJkBwPYgKdKTcdlkgebv351oiU+fY5KbCCR/oM2H3GW9Tu1kS6Jb0+t8\n",
       "/KYKW5nhowsjMLHzcciT+N4lID+vaffg/ZQmFZSKwJRMpw6/LANZaEEgjoVmU4bhast3wFMCbg+j\n",
       "BWN5COw48CHOsreV5XMfazcEcB5ipG/Z5CWecK7GWDrtrSzfAmtqM1FqGEv+1TjyZ1eMZaTmGEse\n",
       "c3r9azCWFH7AZPHsTTnbtjxeVPl9rxR/sBC2zHXU7/h7Ph60G0UInCf4LlcYPcp+y16ZQV3x7zbC\n",
       "lqmmRuLE78sSqrMirkMLdjRQVSQfj6SuLIDgL04gbFk3aIgn2etipEgSLABX5HQe+EVggaoW/Fzd\n",
       "D1lmVJG5FoZ5f3gT0e8mwRKYbF/u7Mg2WpIbKvjDzZDlaaSpiUbaZFnyrb3kAtZB5oduy0HSso7e\n",
       "h8CJM6qhDNcXaKhJH34O1l5yAeshW5ikFvgn9lWAv/zQFJ8sPX5q4s+C27ValVCmEezLaCd+wZlK\n",
       "hXX5bBVfQYCfwcVAX2ZXuqtIiatjbmOjK9He2joSLfMHPi63MMury0/zhQXwzr/wg61OcQo2SrCU\n",
       "MeBHQdSyDBttaulZQPLdB/qyHoOFRNtFwwiw3QKSn9a3k9sX9d+EZzGvgbnOxiyg+HfeJL89F4ox\n",
       "2WQB8f8DUvWl2fbXT90AAAAASUVORK5CYII=\n",
       "\" style=\"display:inline;vertical-align:middle;\" /></a></span>"
      ],
      "text/plain": [
       "{a = 1, b = 2, c = 3} |- {1, 2, 3} equiv {a, b, c}"
      ]
     },
     "metadata": {},
     "output_type": "display_data"
    }
   ],
   "source": [
    "# But evaluations to irreducible values are special in this regard and we can prove the following.\n",
    "SetEquiv(Set(one, two, three), Set(a, b, c)).conclude(\n",
    "        assumptions=[Equals(a, one), Equals(b, two), Equals(c, three)])"
   ]
  },
  {
   "cell_type": "markdown",
   "metadata": {},
   "source": [
    "### Testing the `SetEquiv.conclude_via_reflexivity()` method<br/>\n",
    "\n",
    "The `conclude_via_reflexivity()` method has the following format:<br/>\n",
    "\n",
    "<div style=\"width: 50%; border: 1px solid green; padding: 5px; margin: 20px; background-color: gainsboro; font-family:courier\">conclude_via_reflexivity(**defaults_config)</div>\n",
    "\n",
    "and attempts to prove and return self of the form A equiv A."
   ]
  },
  {
   "cell_type": "code",
   "execution_count": 14,
   "metadata": {},
   "outputs": [
    {
     "data": {
      "text/html": [
       "<span style=\"font-size:20px;\"> <a class=\"ProveItLink\" href=\"../__pv_it/demonstrations/de8c7c2460496af93018e1beaa632f252fabc2720/proof.ipynb\" style=\"text-decoration: none\">&nbsp;&#x22A2;&nbsp;&nbsp;</a><a class=\"ProveItLink\" href=\"../__pv_it/theorems/dd8e2a83d0cbc249da7f02652195bc6aef3035680/expr.ipynb\"><img src=\"data:image/png;base64,iVBORw0KGgoAAAANSUhEUgAAADsAAAAPBAMAAACo4Ko7AAAAMFBMVEX///8AAAAAAAAAAAAAAAAA\n",
       "AAAAAAAAAAAAAAAAAAAAAAAAAAAAAAAAAAAAAAAAAAAv3aB7AAAAD3RSTlMAIs1UmauJMnZmRLsQ\n",
       "3e++988cAAAACXBIWXMAAA7EAAAOxAGVKw4bAAAAsklEQVQY02NgAAEhBmwALqoPoY6+NQCSDWii\n",
       "DMz/IfSNymtAMgBNlIElXgBEcUxgOBTAwO6AKsrAkJhfAKJYgTioYC1UECbKwNjQD7KTgQ1kwv9X\n",
       "UFmYKAMLg/0EuHN5YAy46GKG+gRMb8FFHRjkwa5luQsGUJfDRDm2uMRvwNAMFz3BwMB/AUMaLgr0\n",
       "J+8DDGmYKBfQfUwf0O2Gi8oBMfdHdM0w0dP/dRiY939C8xlMFACDQDrwavcODwAAAABJRU5ErkJg\n",
       "gg==\n",
       "\" style=\"display:inline;vertical-align:middle;\" /></a></span>"
      ],
      "text/plain": [
       "|- A equiv A"
      ]
     },
     "metadata": {},
     "output_type": "display_data"
    }
   ],
   "source": [
    "# Notice that reflexivity of set equivalence should generally\n",
    "# not require any assumptions\n",
    "SetEquiv(A, A).conclude_via_reflexivity()"
   ]
  },
  {
   "cell_type": "code",
   "execution_count": 15,
   "metadata": {},
   "outputs": [
    {
     "data": {
      "text/html": [
       "<span style=\"font-size:20px;\"> <a class=\"ProveItLink\" href=\"../__pv_it/demonstrations/5897e4229ec5784d8377c59129fca20dbe50307f0/proof.ipynb\" style=\"text-decoration: none\">&nbsp;&#x22A2;&nbsp;&nbsp;</a><a class=\"ProveItLink\" href=\"../__pv_it/demonstrations/dfc10b85f24f63dcaca1a403282e3ec47e8b34dd0/expr.ipynb\"><img src=\"data:image/png;base64,iVBORw0KGgoAAAANSUhEUgAAAKUAAAAVBAMAAADVzzOcAAAAMFBMVEX///8AAAAAAAAAAAAAAAAA\n",
       "AAAAAAAAAAAAAAAAAAAAAAAAAAAAAAAAAAAAAAAAAAAv3aB7AAAAD3RSTlMAEER2zVSJ3Zki72ar\n",
       "MruaaVGaAAAACXBIWXMAAA7EAAAOxAGVKw4bAAACc0lEQVQ4y41VTWgTQRT+piGbbLqJC71JYaNH\n",
       "T1sUQUsxFLyppBelJxcqCmoxHmorCO2hkD2lC9JWpWjAkwpa8OBBxUKrogebkygIRrwqtrY5qMg6\n",
       "Mzu72d3ZpM5hft6875u3770vAUD2ouOYdxKMXQDqqLce2NOZM/9Ol43dAJ++sDm9GTHemP0ePhZW\n",
       "vNDeTtA5BRmg2ica4fM3NimViEsTl4qhs7jNDD2xAA0y4DaUn+HzOdlFc5Cry5yDIMeADwmcb4D7\n",
       "O3DmNqH9kjlpBrTjPVcTOB/pWHd2iLMC7a/MST8cR34XEzhfA+uNRE711SHTt2Y2xGZssBEh0EPP\n",
       "LI1dD+zT/vv7nwvObIlO+5xCUM3Pgn2xnG0iVZfahQF67uGH32X5LVHeCdSAw2x7a5m2ygNkg4Cu\n",
       "ifUKcibUFt9XJ9nwbhhg9zKqwXetiNXCXeBOmX7EMHt6g1lEGE2xeoH3H42FyQFz7EkxamKd44GT\n",
       "tTLyNbrNNWH4XfnM7wCP+0wxLi0GeAjid2WvCJPaeFKHhVIMEy/ETdrCTb4xzASVCWmRLfT6lTwJ\n",
       "lfcS8dJ6WhdlNMpYSzuE2d4DA7zCu2jailDqUj4pgLSglUa5W95CSufIP7R0wHm/NQpmeioLgxZU\n",
       "nbLtCtn28qo0Ys0Y9NJXnJqZ4W6Ltl3lSJbX8VB/ktXxpSFkLtPiua5bwiSL4OzTAXTi7D/4cbXB\n",
       "3aZdd5sjoVx4rMs6GvE3aT2mI8jSiriNdNSmFcDwX5yKjPQ420ohgTz7IqKJjTagT0ZilkuqFTgH\n",
       "F20XKhjp/6ElubWRVJH8l/1l57+ChaS7LgD1IpXmP4c0nvaxzRdaAAAAAElFTkSuQmCC\n",
       "\" style=\"display:inline;vertical-align:middle;\" /></a></span>"
      ],
      "text/plain": [
       "|- {a, 2, c} equiv {a, 2, c}"
      ]
     },
     "metadata": {},
     "output_type": "display_data"
    }
   ],
   "source": [
    "SetEquiv(Set(a, two, c), Set(a, two, c)).conclude_via_reflexivity()"
   ]
  },
  {
   "cell_type": "code",
   "execution_count": 16,
   "metadata": {},
   "outputs": [
    {
     "data": {
      "text/html": [
       "<span style=\"font-size:20px;\"> <a class=\"ProveItLink\" href=\"../__pv_it/demonstrations/64da4546f1b4c2d9361872e0e463bd8ec12444cf0/proof.ipynb\" style=\"text-decoration: none\">&nbsp;&#x22A2;&nbsp;&nbsp;</a><a class=\"ProveItLink\" href=\"../__pv_it/demonstrations/46c24c040f1ff52567a571523e000f66927eb3ca0/expr.ipynb\"><img src=\"data:image/png;base64,iVBORw0KGgoAAAANSUhEUgAAADoAAAAPBAMAAABHIsEFAAAAMFBMVEX///8AAAAAAAAAAAAAAAAA\n",
       "AAAAAAAAAAAAAAAAAAAAAAAAAAAAAAAAAAAAAAAAAAAv3aB7AAAAD3RSTlMAZs3vu90iq0QQiTKZ\n",
       "VHZ+Ip2vAAAACXBIWXMAAA7EAAAOxAGVKw4bAAAA60lEQVQY02MQMvFXNRFgQAWMyi6fgh1BLId0\n",
       "hnaRCSAWZ3EskOQDMVnYCjgKPUGyWQws3AUgIdbXogsYGNghsgsYHLZDZHkSFEBCDxk41RkY9sBk\n",
       "jzHBZB1AQkAD2LU5wuCyLBBZ9plgk4HGMrz/3ACTrZwOkd1yKQHuXLD7QLLcvmog2WTVry/RfASU\n",
       "NYqPmwDWKzgJInQ0FATCIbILJcEudchimSiAqXeBpyBElvuAJxbZPSwQkxlOp2CR5dnmAJGdwieA\n",
       "Ye8CToeHINkcBkYBDwy9BxgEWRoYgHHkxuCifwE9jr4ksDj9BQCu4j6A5OEJ7QAAAABJRU5ErkJg\n",
       "gg==\n",
       "\" style=\"display:inline;vertical-align:middle;\" /></a></span>"
      ],
      "text/plain": [
       "|- Real equiv Real"
      ]
     },
     "metadata": {},
     "output_type": "display_data"
    }
   ],
   "source": [
    "# We can use standard pre-defined sets as well\n",
    "SetEquiv(Real, Real).conclude_via_reflexivity()"
   ]
  },
  {
   "cell_type": "code",
   "execution_count": 17,
   "metadata": {},
   "outputs": [
    {
     "data": {
      "text/html": [
       "<span style=\"font-size:20px;\"> <a class=\"ProveItLink\" href=\"../__pv_it/demonstrations/99bab3b99bb58a81a64ad686fa2d1d101beb82200/proof.ipynb\" style=\"text-decoration: none\">&nbsp;&#x22A2;&nbsp;&nbsp;</a><a class=\"ProveItLink\" href=\"../__pv_it/demonstrations/0d59b9e21d47a5dd19a4e89afcb654f5fe4c0bc60/expr.ipynb\"><img src=\"data:image/png;base64,iVBORw0KGgoAAAANSUhEUgAAAKQAAAAVBAMAAAA6DViiAAAAMFBMVEX///8AAAAAAAAAAAAAAAAA\n",
       "AAAAAAAAAAAAAAAAAAAAAAAAAAAAAAAAAAAAAAAAAAAv3aB7AAAAD3RSTlMAEER2zVSJ3Zki72ar\n",
       "MruaaVGaAAAACXBIWXMAAA7EAAAOxAGVKw4bAAACiUlEQVQ4y31VS2gTURQ9b2q+zWfAjUhxohvF\n",
       "TQcsgtpiLAguKowr6SoBxRZRiAtbiy6yEFoQ2oBYRAIWXYgomp0LFxbSduGPgBsFBa0bEaGtNoKK\n",
       "6H2fSTLzZvIg7533uefed9+5GQBsF8JaYjRotYvBjYoYBnaGnsD7TwGLXQzSr03qIxueCL6WFJof\n",
       "X6X+m1p+fpH6HoG9BjvuuTc6M5sDMosEoyWPny1lRVJGwQHG5Cw29KQIpAT2GRxT4zZEmmrTdyLr\n",
       "yLGnCSvfojwENgK8DaJsqvGwwzaDKftNORp3kG1T0nVSx42pAErDTcPeHEIox9qwUGtNizyM37kA\n",
       "yo5Z5E8nZWLlgC3XR/Ytu/4vez3A7CCpnrqucl8fVKnC7prajOd51JWMvADbNC2prfTgK+oP6kLh\n",
       "BsZ9rEkP1hH2S66/edmgJ1ggdIu42QPES65CkrZ7cXJ/W4YwPcnbFYG5wfYaptUhE3fdi9NLJehX\n",
       "HeaO1xEruiFki+pIkgJnS44vSGEwB0zI6VXgp7v1mALvO4r0LI3Jj7Bk7om5X5CkG8hwnQ1rBcIN\n",
       "HoF9l9MJGFJGH4A1sjyt9G7ZeNaS5ZxIUnZDUBZMLZdkwH6gd92VZVy+wj+TU4rS4m9kOViKVBhn\n",
       "alBeOUguioufhZZLMmBNpPKjQgJ/eV45eCguHl1QlBk7cikuqiVVy5QF6K116tKvxM84WS7zasEL\n",
       "fIEAT726ZPXz1SHELhBauQYBsGdmFaGUffvf1RuY5M8xTo45MGb434a/ek5oIIxSqcb0A42yqIHu\n",
       "lFENyE2hd1k5th8I2flb22CrBmQtJpqtsxrgZaV/PVoGtgb481O7uRz+7TnnBKx2MZinrf9ZsKmn\n",
       "em7WTgAAAABJRU5ErkJggg==\n",
       "\" style=\"display:inline;vertical-align:middle;\" /></a></span>"
      ],
      "text/plain": [
       "|- {a, b, 3} equiv {a, b, 3}"
      ]
     },
     "metadata": {},
     "output_type": "display_data"
    }
   ],
   "source": [
    "# in fact, reflexivity is captured generally in the conclude()\n",
    "# method, allowing Prove-It to prove() reflexive set equivalence claims\n",
    "SetEquiv(Set(a, b, three), Set(a, b, three)).prove()"
   ]
  },
  {
   "cell_type": "code",
   "execution_count": 18,
   "metadata": {},
   "outputs": [
    {
     "name": "stdout",
     "output_type": "stream",
     "text": [
      "AssertionError: Proof step failed:\n",
      "Attempting to instantiate |- forall_{A, B | A = B} (A equiv B) with {A: A, B: B}:\n",
      "Unsatisfied condition: A = B. For debugging purposes, this is accessible via Instantiation.unsatisfied_condition with applicable assumptions in Instantiation.condition_assumptions.\n"
     ]
    }
   ],
   "source": [
    "# If the 'self' object on which we call the conclude_via_reflexivity() method\n",
    "# is not actually reflexive (i.e. the lhs and rhs are not literally the same),\n",
    "# we get an error:\n",
    "try:\n",
    "    SetEquiv(A, B).conclude_via_reflexivity()\n",
    "    assert False, \"Should not make it this far!\"\n",
    "except ProofFailure as the_error:\n",
    "    print(\"AssertionError: {}\".format(the_error))"
   ]
  },
  {
   "cell_type": "code",
   "execution_count": 19,
   "metadata": {},
   "outputs": [
    {
     "data": {
      "text/html": [
       "<span style=\"font-size:20px;\"><a class=\"ProveItLink\" href=\"../__pv_it/theorems/f499420995aa101afb63b56c7e1317b0571a23ed0/expr.ipynb\"><img src=\"data:image/png;base64,iVBORw0KGgoAAAANSUhEUgAAADsAAAAPBAMAAACo4Ko7AAAAMFBMVEX///8AAAAAAAAAAAAAAAAA\n",
       "AAAAAAAAAAAAAAAAAAAAAAAAAAAAAAAAAAAAAAAAAAAv3aB7AAAAD3RSTlMAIs1UmauJMnZmRLsQ\n",
       "3e++988cAAAACXBIWXMAAA7EAAAOxAGVKw4bAAAA0ElEQVQY02NgAAEhBrxAH0OEc//X0KDtEDbz\n",
       "f0wdfBsYGOILwEyWeAEMafkGBob1DmBmYn4BhvR8oND8BhCLsaHfAEM6Hoj1wIayMNhPwJB+zcBw\n",
       "9DqYtZihPgFE+94FgatgMfbfHa2aEIUODPIB6Jo5PjIw2IHN5NjiEr8BXZr7AQMD23cQ6wQDA/8F\n",
       "dGl+oHmcPyBmM/A+QLe7Hmgw6y8ggwvIYPqArrsf6Kd6BSBDDmTTR3RpPaC+RwcYGE7/12Fg3v8p\n",
       "AVU2+n9oqDYwrAC4pDgIOe/RLAAAAABJRU5ErkJggg==\n",
       "\" style=\"display:inline;vertical-align:middle;\" /></a> <a class=\"ProveItLink\" href=\"../__pv_it/demonstrations/8b6fc807039386335f415ba6b6788e581a67ce1c0/proof.ipynb\" style=\"text-decoration: none\">&nbsp;&#x22A2;&nbsp;&nbsp;</a><a class=\"ProveItLink\" href=\"../__pv_it/theorems/2ee8dc2018014830ed832e2e3d65a4df89f102480/expr.ipynb\"><img src=\"data:image/png;base64,iVBORw0KGgoAAAANSUhEUgAAADsAAAAPBAMAAACo4Ko7AAAAMFBMVEX///8AAAAAAAAAAAAAAAAA\n",
       "AAAAAAAAAAAAAAAAAAAAAAAAAAAAAAAAAAAAAAAAAAAv3aB7AAAAD3RSTlMAIs1UmauJMnZmRLsQ\n",
       "3e++988cAAAACXBIWXMAAA7EAAAOxAGVKw4bAAAA+UlEQVQY02NgAAEhBrxAH0zyxF0GkhxgNuf+\n",
       "r6FB2yGyzP/BFG/73AQGBlaIGN8GBob4AjCTJV4ARHUy8KgyMJRApOUbGBjWO4CZiflgZQFArepc\n",
       "FyHS84FC8xtALMaGfgMQDTSZof/fAoh0PBDrgQ1lYbCfAHflASj9moHh6HUwazFDfQK6X9h/d7Rq\n",
       "QpgODPIBINr3LghcBYtxfGRgsAObybHFJX4Dum7uBwwMbN9BrBMMDPwX0KX5geZx/oCYzcD7AF26\n",
       "Hmgw6y8ggwvIYPqAbnc/0E/1CkCGHMimj+i69YD6HgE9efq/DgPz/k9oPov+HxqqDQwrAPAyQLUO\n",
       "1tWZAAAAAElFTkSuQmCC\n",
       "\" style=\"display:inline;vertical-align:middle;\" /></a></span>"
      ],
      "text/plain": [
       "{A = B} |- A equiv B"
      ]
     },
     "metadata": {},
     "output_type": "display_data"
    }
   ],
   "source": [
    "SetEquiv(A, B).conclude_via_reflexivity(assumptions=[Equals(A, B)])"
   ]
  },
  {
   "cell_type": "markdown",
   "metadata": {},
   "source": [
    "### Testing the `SetEquiv.conclude_as_folded()` method<br/>\n",
    "\n",
    "The `conclude_as_folded()` method has the following format:<br/>\n",
    "\n",
    "<div style=\"width: 50%; border: 1px solid green; padding: 5px; margin: 20px; background-color: gainsboro; font-family:courier\">conclude_as_folded(**defaults_config)</div>\n",
    "\n",
    "and is described as attempting to conclude `A set_equiv B` from $\\forall_{x} [(x \\in A) = (x \\in B)]$. This is somewhat confusing, since the method is called on the `SetEquiv(A, B)` object itself."
   ]
  },
  {
   "cell_type": "code",
   "execution_count": 20,
   "metadata": {},
   "outputs": [
    {
     "data": {
      "text/html": [
       "<span style=\"font-size:20px;\"><a class=\"ProveItLink\" href=\"../__pv_it/axioms/24808a060d5765eabdffd0b8f7717d720b4d994d0/expr.ipynb\"><img src=\"data:image/png;base64,iVBORw0KGgoAAAANSUhEUgAAANUAAAAVBAMAAAAjhrYEAAAAMFBMVEX///8AAAAAAAAAAAAAAAAA\n",
       "AAAAAAAAAAAAAAAAAAAAAAAAAAAAAAAAAAAAAAAAAAAv3aB7AAAAD3RSTlMAq1RmmUTNIjK7EInv\n",
       "3XZ/CtNrAAAACXBIWXMAAA7EAAAOxAGVKw4bAAAC90lEQVRIx41VTWgTQRT+svnZNGliglCoICko\n",
       "XlQsUhQvtuAvSKV48KBFgh7EHDReBKFqPKskiKUgto0gQj2I9iJeNCAiKkoUFD0sxKqIHtIWpenJ\n",
       "+t7OZjMzyS4OfJPJm2/mzXzvzVugveUJJryb+Z82ZcN8x5lkH3VzXuvOAeFau3nOz9cxByn+s06e\n",
       "2UgwHnitO0P42mb14O9YSadPFZDsh409bDspzcey1N31cmWsUBcp62Yv/ksgsAzkYOMyi12SpkN0\n",
       "AOzy8hXKkPDBId3swTf/kuJ/gAHY4DPG+6T5bu4qSgAnrY/N8aOnBepf6ZsqfPy0rKw9CNKdguSv\n",
       "u2wjSNeIyMQNrFRWMoRPtyQza/N8rhO6sjIfh381R4EF2vwFoV/gjWW9lpkHWCkKday+5sqsnXlS\n",
       "dELYwhI/1JWV+WaupVEJsbUkRDwlsB+4Ka/jM/MZQvhSG9YT5xCKnHHbeDxscXsHnR9pPaXiVL2H\n",
       "zxbMCpyFmZJ9vSckSKjtGCyvZoOszxAuMXmTdi+FL0VkPg/jGWtcEegqx0fkdc/57mQpYK/9P0oi\n",
       "W5+dLLmxO8M5W9R8yXxc5euKzL5F4GSKLggYNSU1XF/AW/HepAdxH1hVpd/RDr6afMy07IuEQaoy\n",
       "4YoAsjupq+/7llc1RLiBe2yoyhIiwUs2a/FS+AmXHv1NXYbOYVQFMEt5k8z3RpxHNkXoqiE2HqjA\n",
       "rjz1VvZz6i5w7dHupfCTbrlMNsjfEudGSQBjFO0gpqIOgfOZ8tNYvlMJ2+4j7ksf420bzruQm8LH\n",
       "8aY5QhqM5pw3wUCAKwEaTcI1vnwVsYO19VtFwHqPOIFYycGYXqI1HzRfCh+3x8WLDEwvpnuu27KO\n",
       "CDjsSvMLlGDXn+Sdwo9bNUpUj6peoxQ+jk5aSiHBBQdCnXg25Aztwjrg9zkS5Vlp/ny7NLvlOfT9\n",
       "iVvEJjgqeb+l59ss/nz+jijfErfNaI+qvU20Wfz5fJLOpzE5Zy/6LE12WObHxw+Bf3lAyhCyTuT2\n",
       "AAAAAElFTkSuQmCC\n",
       "\" style=\"display:inline;vertical-align:middle;\" /></a> <a class=\"ProveItLink\" href=\"../__pv_it/demonstrations/7ac905d4507d13266b6e508712dfef539e4c30ed0/proof.ipynb\" style=\"text-decoration: none\">&nbsp;&#x22A2;&nbsp;&nbsp;</a><a class=\"ProveItLink\" href=\"../__pv_it/theorems/2ee8dc2018014830ed832e2e3d65a4df89f102480/expr.ipynb\"><img src=\"data:image/png;base64,iVBORw0KGgoAAAANSUhEUgAAADsAAAAPBAMAAACo4Ko7AAAAMFBMVEX///8AAAAAAAAAAAAAAAAA\n",
       "AAAAAAAAAAAAAAAAAAAAAAAAAAAAAAAAAAAAAAAAAAAv3aB7AAAAD3RSTlMAIs1UmauJMnZmRLsQ\n",
       "3e++988cAAAACXBIWXMAAA7EAAAOxAGVKw4bAAAA+UlEQVQY02NgAAEhBrxAH0zyxF0GkhxgNuf+\n",
       "r6FB2yGyzP/BFG/73AQGBlaIGN8GBob4AjCTJV4ARHUy8KgyMJRApOUbGBjWO4CZiflgZQFArepc\n",
       "FyHS84FC8xtALMaGfgMQDTSZof/fAoh0PBDrgQ1lYbCfAHflASj9moHh6HUwazFDfQK6X9h/d7Rq\n",
       "QpgODPIBINr3LghcBYtxfGRgsAObybHFJX4Dum7uBwwMbN9BrBMMDPwX0KX5geZx/oCYzcD7AF26\n",
       "Hmgw6y8ggwvIYPqAbnc/0E/1CkCGHMimj+i69YD6HgE9efq/DgPz/k9oPov+HxqqDQwrAPAyQLUO\n",
       "1tWZAAAAAElFTkSuQmCC\n",
       "\" style=\"display:inline;vertical-align:middle;\" /></a></span>"
      ],
      "text/plain": [
       "{forall_{x} ((x in A) = (x in B))} |- A equiv B"
      ]
     },
     "metadata": {},
     "output_type": "display_data"
    }
   ],
   "source": [
    "SetEquiv(A, B).conclude_as_folded(assumptions=[Forall(x, Equals(InSet(x, A), InSet(x, B)))])"
   ]
  },
  {
   "cell_type": "code",
   "execution_count": 21,
   "metadata": {},
   "outputs": [
    {
     "data": {
      "text/html": [
       "<span style=\"font-size:20px;\"><a class=\"ProveItLink\" href=\"../__pv_it/demonstrations/991a84bd4dc7658ad34707795782fd12b92642d80/expr.ipynb\"><img src=\"data:image/png;base64,iVBORw0KGgoAAAANSUhEUgAAAT8AAAAVBAMAAADCyPR8AAAAMFBMVEX///8AAAAAAAAAAAAAAAAA\n",
       "AAAAAAAAAAAAAAAAAAAAAAAAAAAAAAAAAAAAAAAAAAAv3aB7AAAAD3RSTlMAq1RmmUTNIjK7EInv\n",
       "3XZ/CtNrAAAACXBIWXMAAA7EAAAOxAGVKw4bAAAEM0lEQVRIx31Wb4hUVRQ/8+bNv/dmxlVD2Ax5\n",
       "YPTBEkeNoi+5sZsllg1BX2RrR0WEPuRbEUNSmqAPkVjbhyik7AUrqIiz+iGKRZ2QvhjqKCaoDDzR\n",
       "UhYZFwVX9st2zzn3zbx333174Ldz9p17f+/3zj333AsQN1dCY0eqkGS7cEoOEvjiZn0wP1WyirLD\n",
       "0IW2e4ms+X4Ry/h6Po39t3l+qo+A0YdPlofDL0pobBXqOxiI3L3+R3ZykxtEZgtIdSc+Sc9lzEbS\n",
       "+VMr/C9SlSuMN/HBjvDYGkNnZ0TomZ1SYG4MzvGKj4PxCMDGd2RjKU7gsiOKIDsQC37M+IJf1TOz\n",
       "wkgQCPBQaki5UGyS99CxnkjW9IA6J4FLEbjAiQVfZuAn2+FoUSJURD+3r2sEFmchNUPecBUCgXBB\n",
       "VZLApQgc8WICix4hLT4wGw6+ING1zCeePoMtSD0NKupx8MptqsAELkXgmXh6sxXGxXb773Bwo4TV\n",
       "efbAaXywx9MvsbDStHQ+rASvPKUKRK6Tt49OOlEuGp1bek9u+y2dRTJw9k6dg3Yf422AQ2HCbRIm\n",
       "3PbfVXbQekXgt5L+m4V1sXpUkK9Q3bXJ+gK+gfIysxXlMnHvDLsF3szWE6/BTW+/Y44xVbrGGIVc\n",
       "X1jgVYlXYZ23GB/0dmHuvCLwSrdpiF2ce4TeS2oGBVfaTc+mKlGufeJ/6zywbmw6Rf7YW+gQldFk\n",
       "FDw7cjz8JVHnfEFe1ED7BulbUo0KNHu7/7J4+OtWTKoqUHDlOV9hrtHtOH8aShNBPheQZ3JGkSo/\n",
       "zTD8LOgEAlzi7PdUfHkoKnC1/P0K4BdRYr+h/mGNQAjS0+PKb8A9OgYNTo7QOUJFWuQRSJVpMqD2\n",
       "uvjTeeuuG11iyMzAcfwNbbfvIgKNCfiUnDkPBfLZsFKtQeIacS0vyoWHRcOHdd02+B4NaPjdY8Zo\n",
       "MeC0aNdltz8rm+FhhvV9qgmU9Y6mURPZAYAp8v6kJbZpk7ymZlBwHas+BzZEuXCjNhxYYrgWCqyL\n",
       "eiRHlGaVqdJjDNgnviUNh/Ny5imG8XS8mSHNWScq8JwLeHBA7trQUIu8taE+uFEVKLhWff0OvA9R\n",
       "Lhxd8I1rJjREfaYqhQFyRFnbss2YEwxI1XHCTDDzIMPa5D+/hgunf3NY4MLLWyrQFokrzc3N1cjL\n",
       "DOFlgQX+owoUXOMdY9BRuHC0tez30ftQuim8pYNADkyunZJUpSpDFm0zuMqV6oxQ+/8jctRRkXhx\n",
       "j1tvSxWYwBU6SVbEHArul+CuZNdM6eJxHz/yFYE2aLyW9mqQwBUSOBFzKDgowX3o37NTgf+DhMYe\n",
       "BM5JiHvU6/bGJ+m5+NyhZfdVh6jwihW5ZnXtmITGPg9qvHdx7nknKno1ei4+d0hqzCGqgsvQTPUZ\n",
       "utAbTuI9/TM87cuunk9juxfNT3WP8T8nHlOR0Emz1gAAAABJRU5ErkJggg==\n",
       "\" style=\"display:inline;vertical-align:middle;\" /></a> <a class=\"ProveItLink\" href=\"../__pv_it/demonstrations/d5e96527ab1528e1e88401121a3d07831cb9cfe80/proof.ipynb\" style=\"text-decoration: none\">&nbsp;&#x22A2;&nbsp;&nbsp;</a><a class=\"ProveItLink\" href=\"../__pv_it/demonstrations/3976b7d219879b8bb54791446332d0e34f693bc70/expr.ipynb\"><img src=\"data:image/png;base64,iVBORw0KGgoAAAANSUhEUgAAAKMAAAAVBAMAAADY0UPbAAAAMFBMVEX///8AAAAAAAAAAAAAAAAA\n",
       "AAAAAAAAAAAAAAAAAAAAAAAAAAAAAAAAAAAAAAAAAAAv3aB7AAAAD3RSTlMAEER2zVSJ3Zki72ar\n",
       "MruaaVGaAAAACXBIWXMAAA7EAAAOxAGVKw4bAAACWklEQVQ4y4VVTWgTQRh9s2s3TZO0C94kWPXk\n",
       "saB40IqxJw8q8aL0lICHFn9AD7WIQnMoJKdUEFSkqOhBVKgBD56EQBWxRZqjghfrxYOgMYmgInXm\n",
       "m5/s7uy232Hy5uO9N9/OfJkBwPYgKdKTcdlkgebv351oiU+fY5KbCCR/oM2H3GW9Tu1kS6Jb0+t8\n",
       "/KYKW5nhowsjMLHzcciT+N4lID+vaffg/ZQmFZSKwJRMpw6/LANZaEEgjoVmU4bhast3wFMCbg+j\n",
       "BWN5COw48CHOsreV5XMfazcEcB5ipG/Z5CWecK7GWDrtrSzfAmtqM1FqGEv+1TjyZ1eMZaTmGEse\n",
       "c3r9azCWFH7AZPHsTTnbtjxeVPl9rxR/sBC2zHXU7/h7Ph60G0UInCf4LlcYPcp+y16ZQV3x7zbC\n",
       "lqmmRuLE78sSqrMirkMLdjRQVSQfj6SuLIDgL04gbFk3aIgn2etipEgSLABX5HQe+EVggaoW/Fzd\n",
       "D1lmVJG5FoZ5f3gT0e8mwRKYbF/u7Mg2WpIbKvjDzZDlaaSpiUbaZFnyrb3kAtZB5oduy0HSso7e\n",
       "h8CJM6qhDNcXaKhJH34O1l5yAeshW5ikFvgn9lWAv/zQFJ8sPX5q4s+C27ValVCmEezLaCd+wZlK\n",
       "hXX5bBVfQYCfwcVAX2ZXuqtIiatjbmOjK9He2joSLfMHPi63MMury0/zhQXwzr/wg61OcQo2SrCU\n",
       "MeBHQdSyDBttaulZQPLdB/qyHoOFRNtFwwiw3QKSn9a3k9sX9d+EZzGvgbnOxiyg+HfeJL89F4ox\n",
       "2WQB8f8DUvWl2fbXT90AAAAASUVORK5CYII=\n",
       "\" style=\"display:inline;vertical-align:middle;\" /></a></span>"
      ],
      "text/plain": [
       "{forall_{x} ((x in {1, 2, 3}) = (x in {a, b, c}))} |- {1, 2, 3} equiv {a, b, c}"
      ]
     },
     "metadata": {},
     "output_type": "display_data"
    }
   ],
   "source": [
    "SetEquiv(Set(one, two , three), Set(a, b, c)).conclude_as_folded(\n",
    "        assumptions=[Forall(x, Equals(InSet(x, Set(one, two, three)), InSet(x, Set(a, b, c))))])"
   ]
  },
  {
   "cell_type": "code",
   "execution_count": 22,
   "metadata": {},
   "outputs": [
    {
     "data": {
      "text/html": [
       "<span style=\"font-size:20px;\"><a class=\"ProveItLink\" href=\"../__pv_it/demonstrations/a8c95fff12bb5be1270efbf5780f416caab66fdf0/expr.ipynb\"><img src=\"data:image/png;base64,iVBORw0KGgoAAAANSUhEUgAAANMAAAAVBAMAAAAumMZDAAAAMFBMVEX///8AAAAAAAAAAAAAAAAA\n",
       "AAAAAAAAAAAAAAAAAAAAAAAAAAAAAAAAAAAAAAAAAAAv3aB7AAAAD3RSTlMAq1RmmUTNIjK7EInv\n",
       "3XZ/CtNrAAAACXBIWXMAAA7EAAAOxAGVKw4bAAADCUlEQVRIx41VTWgTURCe7G6SzaaJBU8VsQWl\n",
       "F5UWLZVeNFB/ClqpHjyoaLAHIVCbghSKVePRP7oHS1FoG7GI6aHYXkQEzcVDFSUKih4Wtv4geoie\n",
       "jAhS37x52bz9SXTgW96bnbcz872ZWQC/ZAXqSfQ/df/+XrKNECyjAGHbr/4QYNq9PDu03AlwAgjN\n",
       "qNwoW2wWCJZhho8+rXI/yNYcgUM9eUgyd4g9qDstvTfShGBRVtkjkveq7wYam+cgprNcMsBxCYk2\n",
       "pfdaJyFYtFbGupryqnvrudKyLOou4MAI4/LNNAlIlzdtva2uHzzJsecz70eLrt1Xy0o7rlgaTXkO\n",
       "lSUQke3aBRwJn6nxFbW/Y1iDXlpdhB/5VssqNM8IjHQSXljWc9lwv8DCyr1HPNtR6WY06EBuF720\n",
       "sqowyuuuLvFwMhKBl9sZ4fFmQh/ALfnYoEAquUEreWvmMExgrXXjut9CeYVLDFmDFbufb5weMseH\n",
       "/mCGapowAtFm2dVrgppVf4d4dcjkpOAiGm/xZJVg6e+AXfm13JVUFtt5aSpFQiwfH5CPPSXooJEP\n",
       "nTFsvRcFcmN3K1brhMdVE/tCDvbS5homa5Kr2B2MVv9BUGxXVVRdsfM0FAypExYA1iCpxwNcAbyk\n",
       "TUHKSk/h5YSLBEjvZI/yvk9ZF4EAJ7MGL4iSzB8k8MhWz10hgRCuwDzfyH3VN4YElgiwxCommW2J\n",
       "iOaaIRQG1kOcK8q1sseiZURAjyermA3GZKgIfDwlbclVASeSahJgnF20CjO6eL9I6LhygNUbv2an\n",
       "wcfxqxXRDLKwSlZ+zRXDZHnKcXWWte0k9QICQtj/UKm+v06YKyu9dNJoOSouYTUDyuxPduaNx5Ve\n",
       "AuOgvWkb7W5P5quTfQpuDrdBgl1lwqk9vVj94yRyBGlcPKwNJpoZJe9geufaHZu2XOPjvABRE09r\n",
       "Yomz1D9P3cPBN427Gtr3ygNZ+/y4OrhgSqC+jPk0sYZ/bdPz83Ck4OqNIPEHYpgNzDGO4FiiNqGu\n",
       "JAOOXWhg/4XwF+nmzg9vVT1hAAAAAElFTkSuQmCC\n",
       "\" style=\"display:inline;vertical-align:middle;\" /></a> <a class=\"ProveItLink\" href=\"../__pv_it/demonstrations/1acc30e8a53bfaf39d059f20e9c8ffed17dab57b0/proof.ipynb\" style=\"text-decoration: none\">&nbsp;&#x22A2;&nbsp;&nbsp;</a><a class=\"ProveItLink\" href=\"../__pv_it/demonstrations/91bd03a46f5c443253f7d212b5997bddfbe53e5b0/expr.ipynb\"><img src=\"data:image/png;base64,iVBORw0KGgoAAAANSUhEUgAAADoAAAAPBAMAAABHIsEFAAAAMFBMVEX///8AAAAAAAAAAAAAAAAA\n",
       "AAAAAAAAAAAAAAAAAAAAAAAAAAAAAAAAAAAAAAAAAAAv3aB7AAAAD3RSTlMAIs1UmauJMnZmRLsQ\n",
       "3e++988cAAAACXBIWXMAAA7EAAAOxAGVKw4bAAAA6UlEQVQY02NgAAEhBlTAqbf7072dMJ4+mOSJ\n",
       "uwwkOUBMbsYArsg9EEnm/2CKt31uAgMDK0Q2gWFDKUSWJV4ARHUy8KgyMJTAZB2ZILKJ+QUgKgCo\n",
       "UZ3rIlyWGyzJ2NBvAKKBxjL0/1sAk405CjGYwX4C3LkHGKCy7JsVwczFDPUJaF7iZnx0/wZEoQOD\n",
       "fACI9r0LAlchsplzFMCSHFtc4jdg6E3YMxPMOsHAwH8BU7aE+wDEYAbeB5iyLIUgA7mA7mX6gGFv\n",
       "As+GTiBDDsT5iKHXgWEm9wKG0/91GJj3f0pAj6PfAtybPgMA7cpBpOM4CJYAAAAASUVORK5CYII=\n",
       "\" style=\"display:inline;vertical-align:middle;\" /></a></span>"
      ],
      "text/plain": [
       "{forall_{x} ((x in A) = (x in Real))} |- A equiv Real"
      ]
     },
     "metadata": {},
     "output_type": "display_data"
    }
   ],
   "source": [
    "# We can use standard pre-defined sets as well\n",
    "SetEquiv(A, Real).conclude_as_folded(assumptions=[Forall(x, Equals(InSet(x, A), InSet(x, Real)))])"
   ]
  },
  {
   "cell_type": "code",
   "execution_count": 23,
   "metadata": {},
   "outputs": [
    {
     "name": "stdout",
     "output_type": "stream",
     "text": [
      "InstantiationFailure: Proof step failed:\n",
      "Attempting to instantiate |- forall_{A, B | forall_{x} ((x in A) = (x in B))} (A equiv B) with {A: {1, 2, 3}, B: {a, b, c}}:\n",
      "Unsatisfied condition: forall_{x} ((x in {1, 2, 3}) = (x in {a, b, c})). For debugging purposes, this is accessible via Instantiation.unsatisfied_condition with applicable assumptions in Instantiation.condition_assumptions.\n"
     ]
    }
   ],
   "source": [
    "# We must already know or assume that the membership claims are equal\n",
    "try:\n",
    "    SetEquiv(Set(one, two , three), Set(a, b, c)).conclude_as_folded()\n",
    "    assert False, \"Should not make it this far!\"\n",
    "except InstantiationFailure as the_error:\n",
    "    print(\"InstantiationFailure: {}\".format(the_error))"
   ]
  },
  {
   "cell_type": "markdown",
   "metadata": {},
   "source": [
    "### Testing the `SetEquiv.unfold()` method<br/>\n",
    "\n",
    "The `unfold()` method has the following format:<br/>\n",
    "\n",
    "<div style=\"width: 50%; border: 1px solid green; padding: 5px; margin: 20px; background-color: gainsboro; font-family:courier\">unfold(**defaults_config)</div>\n",
    "\n",
    "and from A set_equiv B attempts to derive $\\forall_{x} [ (x \\in A) = (x \\in B)]$."
   ]
  },
  {
   "cell_type": "code",
   "execution_count": 24,
   "metadata": {},
   "outputs": [
    {
     "data": {
      "text/html": [
       "<span style=\"font-size:20px;\"><a class=\"ProveItLink\" href=\"../__pv_it/theorems/2ee8dc2018014830ed832e2e3d65a4df89f102480/expr.ipynb\"><img src=\"data:image/png;base64,iVBORw0KGgoAAAANSUhEUgAAADsAAAAPBAMAAACo4Ko7AAAAMFBMVEX///8AAAAAAAAAAAAAAAAA\n",
       "AAAAAAAAAAAAAAAAAAAAAAAAAAAAAAAAAAAAAAAAAAAv3aB7AAAAD3RSTlMAIs1UmauJMnZmRLsQ\n",
       "3e++988cAAAACXBIWXMAAA7EAAAOxAGVKw4bAAAA+UlEQVQY02NgAAEhBrxAH0zyxF0GkhxgNuf+\n",
       "r6FB2yGyzP/BFG/73AQGBlaIGN8GBob4AjCTJV4ARHUy8KgyMJRApOUbGBjWO4CZiflgZQFArepc\n",
       "FyHS84FC8xtALMaGfgMQDTSZof/fAoh0PBDrgQ1lYbCfAHflASj9moHh6HUwazFDfQK6X9h/d7Rq\n",
       "QpgODPIBINr3LghcBYtxfGRgsAObybHFJX4Dum7uBwwMbN9BrBMMDPwX0KX5geZx/oCYzcD7AF26\n",
       "Hmgw6y8ggwvIYPqAbnc/0E/1CkCGHMimj+i69YD6HgE9efq/DgPz/k9oPov+HxqqDQwrAPAyQLUO\n",
       "1tWZAAAAAElFTkSuQmCC\n",
       "\" style=\"display:inline;vertical-align:middle;\" /></a> <a class=\"ProveItLink\" href=\"../__pv_it/demonstrations/f43f31a1102e22ca25090d44d0bc6035c11fe6000/proof.ipynb\" style=\"text-decoration: none\">&nbsp;&#x22A2;&nbsp;&nbsp;</a><a class=\"ProveItLink\" href=\"../__pv_it/axioms/24808a060d5765eabdffd0b8f7717d720b4d994d0/expr.ipynb\"><img src=\"data:image/png;base64,iVBORw0KGgoAAAANSUhEUgAAANUAAAAVBAMAAAAjhrYEAAAAMFBMVEX///8AAAAAAAAAAAAAAAAA\n",
       "AAAAAAAAAAAAAAAAAAAAAAAAAAAAAAAAAAAAAAAAAAAv3aB7AAAAD3RSTlMAq1RmmUTNIjK7EInv\n",
       "3XZ/CtNrAAAACXBIWXMAAA7EAAAOxAGVKw4bAAAC90lEQVRIx41VTWgTQRT+svnZNGliglCoICko\n",
       "XlQsUhQvtuAvSKV48KBFgh7EHDReBKFqPKskiKUgto0gQj2I9iJeNCAiKkoUFD0sxKqIHtIWpenJ\n",
       "+t7OZjMzyS4OfJPJm2/mzXzvzVugveUJJryb+Z82ZcN8x5lkH3VzXuvOAeFau3nOz9cxByn+s06e\n",
       "2UgwHnitO0P42mb14O9YSadPFZDsh409bDspzcey1N31cmWsUBcp62Yv/ksgsAzkYOMyi12SpkN0\n",
       "AOzy8hXKkPDBId3swTf/kuJ/gAHY4DPG+6T5bu4qSgAnrY/N8aOnBepf6ZsqfPy0rKw9CNKdguSv\n",
       "u2wjSNeIyMQNrFRWMoRPtyQza/N8rhO6sjIfh381R4EF2vwFoV/gjWW9lpkHWCkKday+5sqsnXlS\n",
       "dELYwhI/1JWV+WaupVEJsbUkRDwlsB+4Ka/jM/MZQvhSG9YT5xCKnHHbeDxscXsHnR9pPaXiVL2H\n",
       "zxbMCpyFmZJ9vSckSKjtGCyvZoOszxAuMXmTdi+FL0VkPg/jGWtcEegqx0fkdc/57mQpYK/9P0oi\n",
       "W5+dLLmxO8M5W9R8yXxc5euKzL5F4GSKLggYNSU1XF/AW/HepAdxH1hVpd/RDr6afMy07IuEQaoy\n",
       "4YoAsjupq+/7llc1RLiBe2yoyhIiwUs2a/FS+AmXHv1NXYbOYVQFMEt5k8z3RpxHNkXoqiE2HqjA\n",
       "rjz1VvZz6i5w7dHupfCTbrlMNsjfEudGSQBjFO0gpqIOgfOZ8tNYvlMJ2+4j7ksf420bzruQm8LH\n",
       "8aY5QhqM5pw3wUCAKwEaTcI1vnwVsYO19VtFwHqPOIFYycGYXqI1HzRfCh+3x8WLDEwvpnuu27KO\n",
       "CDjsSvMLlGDXn+Sdwo9bNUpUj6peoxQ+jk5aSiHBBQdCnXg25Aztwjrg9zkS5Vlp/ny7NLvlOfT9\n",
       "iVvEJjgqeb+l59ss/nz+jijfErfNaI+qvU20Wfz5fJLOpzE5Zy/6LE12WObHxw+Bf3lAyhCyTuT2\n",
       "AAAAAElFTkSuQmCC\n",
       "\" style=\"display:inline;vertical-align:middle;\" /></a></span>"
      ],
      "text/plain": [
       "{A equiv B} |- forall_{x} ((x in A) = (x in B))"
      ]
     },
     "metadata": {},
     "output_type": "display_data"
    }
   ],
   "source": [
    "SetEquiv(A, B).unfold(assumptions=[SetEquiv(A, B)])"
   ]
  },
  {
   "cell_type": "code",
   "execution_count": 25,
   "metadata": {},
   "outputs": [
    {
     "data": {
      "text/html": [
       "<span style=\"font-size:20px;\"><a class=\"ProveItLink\" href=\"../__pv_it/demonstrations/3976b7d219879b8bb54791446332d0e34f693bc70/expr.ipynb\"><img src=\"data:image/png;base64,iVBORw0KGgoAAAANSUhEUgAAAKMAAAAVBAMAAADY0UPbAAAAMFBMVEX///8AAAAAAAAAAAAAAAAA\n",
       "AAAAAAAAAAAAAAAAAAAAAAAAAAAAAAAAAAAAAAAAAAAv3aB7AAAAD3RSTlMAEER2zVSJ3Zki72ar\n",
       "MruaaVGaAAAACXBIWXMAAA7EAAAOxAGVKw4bAAACWklEQVQ4y4VVTWgTQRh9s2s3TZO0C94kWPXk\n",
       "saB40IqxJw8q8aL0lICHFn9AD7WIQnMoJKdUEFSkqOhBVKgBD56EQBWxRZqjghfrxYOgMYmgInXm\n",
       "m5/s7uy232Hy5uO9N9/OfJkBwPYgKdKTcdlkgebv351oiU+fY5KbCCR/oM2H3GW9Tu1kS6Jb0+t8\n",
       "/KYKW5nhowsjMLHzcciT+N4lID+vaffg/ZQmFZSKwJRMpw6/LANZaEEgjoVmU4bhast3wFMCbg+j\n",
       "BWN5COw48CHOsreV5XMfazcEcB5ipG/Z5CWecK7GWDrtrSzfAmtqM1FqGEv+1TjyZ1eMZaTmGEse\n",
       "c3r9azCWFH7AZPHsTTnbtjxeVPl9rxR/sBC2zHXU7/h7Ph60G0UInCf4LlcYPcp+y16ZQV3x7zbC\n",
       "lqmmRuLE78sSqrMirkMLdjRQVSQfj6SuLIDgL04gbFk3aIgn2etipEgSLABX5HQe+EVggaoW/Fzd\n",
       "D1lmVJG5FoZ5f3gT0e8mwRKYbF/u7Mg2WpIbKvjDzZDlaaSpiUbaZFnyrb3kAtZB5oduy0HSso7e\n",
       "h8CJM6qhDNcXaKhJH34O1l5yAeshW5ikFvgn9lWAv/zQFJ8sPX5q4s+C27ValVCmEezLaCd+wZlK\n",
       "hXX5bBVfQYCfwcVAX2ZXuqtIiatjbmOjK9He2joSLfMHPi63MMury0/zhQXwzr/wg61OcQo2SrCU\n",
       "MeBHQdSyDBttaulZQPLdB/qyHoOFRNtFwwiw3QKSn9a3k9sX9d+EZzGvgbnOxiyg+HfeJL89F4ox\n",
       "2WQB8f8DUvWl2fbXT90AAAAASUVORK5CYII=\n",
       "\" style=\"display:inline;vertical-align:middle;\" /></a> <a class=\"ProveItLink\" href=\"../__pv_it/demonstrations/f09ee063e30cd088b5fa5ac80e7e26bf55843eb60/proof.ipynb\" style=\"text-decoration: none\">&nbsp;&#x22A2;&nbsp;&nbsp;</a><a class=\"ProveItLink\" href=\"../__pv_it/demonstrations/991a84bd4dc7658ad34707795782fd12b92642d80/expr.ipynb\"><img src=\"data:image/png;base64,iVBORw0KGgoAAAANSUhEUgAAAT8AAAAVBAMAAADCyPR8AAAAMFBMVEX///8AAAAAAAAAAAAAAAAA\n",
       "AAAAAAAAAAAAAAAAAAAAAAAAAAAAAAAAAAAAAAAAAAAv3aB7AAAAD3RSTlMAq1RmmUTNIjK7EInv\n",
       "3XZ/CtNrAAAACXBIWXMAAA7EAAAOxAGVKw4bAAAEM0lEQVRIx31Wb4hUVRQ/8+bNv/dmxlVD2Ax5\n",
       "YPTBEkeNoi+5sZsllg1BX2RrR0WEPuRbEUNSmqAPkVjbhyik7AUrqIiz+iGKRZ2QvhjqKCaoDDzR\n",
       "UhYZFwVX9st2zzn3zbx333174Ldz9p17f+/3zj333AsQN1dCY0eqkGS7cEoOEvjiZn0wP1WyirLD\n",
       "0IW2e4ms+X4Ry/h6Po39t3l+qo+A0YdPlofDL0pobBXqOxiI3L3+R3ZykxtEZgtIdSc+Sc9lzEbS\n",
       "+VMr/C9SlSuMN/HBjvDYGkNnZ0TomZ1SYG4MzvGKj4PxCMDGd2RjKU7gsiOKIDsQC37M+IJf1TOz\n",
       "wkgQCPBQaki5UGyS99CxnkjW9IA6J4FLEbjAiQVfZuAn2+FoUSJURD+3r2sEFmchNUPecBUCgXBB\n",
       "VZLApQgc8WICix4hLT4wGw6+ING1zCeePoMtSD0NKupx8MptqsAELkXgmXh6sxXGxXb773Bwo4TV\n",
       "efbAaXywx9MvsbDStHQ+rASvPKUKRK6Tt49OOlEuGp1bek9u+y2dRTJw9k6dg3Yf422AQ2HCbRIm\n",
       "3PbfVXbQekXgt5L+m4V1sXpUkK9Q3bXJ+gK+gfIysxXlMnHvDLsF3szWE6/BTW+/Y44xVbrGGIVc\n",
       "X1jgVYlXYZ23GB/0dmHuvCLwSrdpiF2ce4TeS2oGBVfaTc+mKlGufeJ/6zywbmw6Rf7YW+gQldFk\n",
       "FDw7cjz8JVHnfEFe1ED7BulbUo0KNHu7/7J4+OtWTKoqUHDlOV9hrtHtOH8aShNBPheQZ3JGkSo/\n",
       "zTD8LOgEAlzi7PdUfHkoKnC1/P0K4BdRYr+h/mGNQAjS0+PKb8A9OgYNTo7QOUJFWuQRSJVpMqD2\n",
       "uvjTeeuuG11iyMzAcfwNbbfvIgKNCfiUnDkPBfLZsFKtQeIacS0vyoWHRcOHdd02+B4NaPjdY8Zo\n",
       "MeC0aNdltz8rm+FhhvV9qgmU9Y6mURPZAYAp8v6kJbZpk7ymZlBwHas+BzZEuXCjNhxYYrgWCqyL\n",
       "eiRHlGaVqdJjDNgnviUNh/Ny5imG8XS8mSHNWScq8JwLeHBA7trQUIu8taE+uFEVKLhWff0OvA9R\n",
       "Lhxd8I1rJjREfaYqhQFyRFnbss2YEwxI1XHCTDDzIMPa5D+/hgunf3NY4MLLWyrQFokrzc3N1cjL\n",
       "DOFlgQX+owoUXOMdY9BRuHC0tez30ftQuim8pYNADkyunZJUpSpDFm0zuMqV6oxQ+/8jctRRkXhx\n",
       "j1tvSxWYwBU6SVbEHArul+CuZNdM6eJxHz/yFYE2aLyW9mqQwBUSOBFzKDgowX3o37NTgf+DhMYe\n",
       "BM5JiHvU6/bGJ+m5+NyhZfdVh6jwihW5ZnXtmITGPg9qvHdx7nknKno1ei4+d0hqzCGqgsvQTPUZ\n",
       "utAbTuI9/TM87cuunk9juxfNT3WP8T8nHlOR0Emz1gAAAABJRU5ErkJggg==\n",
       "\" style=\"display:inline;vertical-align:middle;\" /></a></span>"
      ],
      "text/plain": [
       "{{1, 2, 3} equiv {a, b, c}} |- forall_{x} ((x in {1, 2, 3}) = (x in {a, b, c}))"
      ]
     },
     "metadata": {},
     "output_type": "display_data"
    }
   ],
   "source": [
    "SetEquiv(Set(one, two , three), Set(a, b, c)).unfold(\n",
    "        assumptions=[SetEquiv(Set(one, two , three), Set(a, b, c))])"
   ]
  },
  {
   "cell_type": "code",
   "execution_count": 26,
   "metadata": {},
   "outputs": [
    {
     "data": {
      "text/html": [
       "<span style=\"font-size:20px;\"><a class=\"ProveItLink\" href=\"../__pv_it/demonstrations/91bd03a46f5c443253f7d212b5997bddfbe53e5b0/expr.ipynb\"><img src=\"data:image/png;base64,iVBORw0KGgoAAAANSUhEUgAAADoAAAAPBAMAAABHIsEFAAAAMFBMVEX///8AAAAAAAAAAAAAAAAA\n",
       "AAAAAAAAAAAAAAAAAAAAAAAAAAAAAAAAAAAAAAAAAAAv3aB7AAAAD3RSTlMAIs1UmauJMnZmRLsQ\n",
       "3e++988cAAAACXBIWXMAAA7EAAAOxAGVKw4bAAAA6UlEQVQY02NgAAEhBlTAqbf7072dMJ4+mOSJ\n",
       "uwwkOUBMbsYArsg9EEnm/2CKt31uAgMDK0Q2gWFDKUSWJV4ARHUy8KgyMJTAZB2ZILKJ+QUgKgCo\n",
       "UZ3rIlyWGyzJ2NBvAKKBxjL0/1sAk405CjGYwX4C3LkHGKCy7JsVwczFDPUJaF7iZnx0/wZEoQOD\n",
       "fACI9r0LAlchsplzFMCSHFtc4jdg6E3YMxPMOsHAwH8BU7aE+wDEYAbeB5iyLIUgA7mA7mX6gGFv\n",
       "As+GTiBDDsT5iKHXgWEm9wKG0/91GJj3f0pAj6PfAtybPgMA7cpBpOM4CJYAAAAASUVORK5CYII=\n",
       "\" style=\"display:inline;vertical-align:middle;\" /></a> <a class=\"ProveItLink\" href=\"../__pv_it/demonstrations/bfa2eea33c0671fbc5657377408025f90fe472a70/proof.ipynb\" style=\"text-decoration: none\">&nbsp;&#x22A2;&nbsp;&nbsp;</a><a class=\"ProveItLink\" href=\"../__pv_it/demonstrations/a8c95fff12bb5be1270efbf5780f416caab66fdf0/expr.ipynb\"><img src=\"data:image/png;base64,iVBORw0KGgoAAAANSUhEUgAAANMAAAAVBAMAAAAumMZDAAAAMFBMVEX///8AAAAAAAAAAAAAAAAA\n",
       "AAAAAAAAAAAAAAAAAAAAAAAAAAAAAAAAAAAAAAAAAAAv3aB7AAAAD3RSTlMAq1RmmUTNIjK7EInv\n",
       "3XZ/CtNrAAAACXBIWXMAAA7EAAAOxAGVKw4bAAADCUlEQVRIx41VTWgTURCe7G6SzaaJBU8VsQWl\n",
       "F5UWLZVeNFB/ClqpHjyoaLAHIVCbghSKVePRP7oHS1FoG7GI6aHYXkQEzcVDFSUKih4Wtv4geoie\n",
       "jAhS37x52bz9SXTgW96bnbcz872ZWQC/ZAXqSfQ/df/+XrKNECyjAGHbr/4QYNq9PDu03AlwAgjN\n",
       "qNwoW2wWCJZhho8+rXI/yNYcgUM9eUgyd4g9qDstvTfShGBRVtkjkveq7wYam+cgprNcMsBxCYk2\n",
       "pfdaJyFYtFbGupryqnvrudKyLOou4MAI4/LNNAlIlzdtva2uHzzJsecz70eLrt1Xy0o7rlgaTXkO\n",
       "lSUQke3aBRwJn6nxFbW/Y1iDXlpdhB/5VssqNM8IjHQSXljWc9lwv8DCyr1HPNtR6WY06EBuF720\n",
       "sqowyuuuLvFwMhKBl9sZ4fFmQh/ALfnYoEAquUEreWvmMExgrXXjut9CeYVLDFmDFbufb5weMseH\n",
       "/mCGapowAtFm2dVrgppVf4d4dcjkpOAiGm/xZJVg6e+AXfm13JVUFtt5aSpFQiwfH5CPPSXooJEP\n",
       "nTFsvRcFcmN3K1brhMdVE/tCDvbS5homa5Kr2B2MVv9BUGxXVVRdsfM0FAypExYA1iCpxwNcAbyk\n",
       "TUHKSk/h5YSLBEjvZI/yvk9ZF4EAJ7MGL4iSzB8k8MhWz10hgRCuwDzfyH3VN4YElgiwxCommW2J\n",
       "iOaaIRQG1kOcK8q1sseiZURAjyermA3GZKgIfDwlbclVASeSahJgnF20CjO6eL9I6LhygNUbv2an\n",
       "wcfxqxXRDLKwSlZ+zRXDZHnKcXWWte0k9QICQtj/UKm+v06YKyu9dNJoOSouYTUDyuxPduaNx5Ve\n",
       "AuOgvWkb7W5P5quTfQpuDrdBgl1lwqk9vVj94yRyBGlcPKwNJpoZJe9geufaHZu2XOPjvABRE09r\n",
       "Yomz1D9P3cPBN427Gtr3ygNZ+/y4OrhgSqC+jPk0sYZ/bdPz83Ck4OqNIPEHYpgNzDGO4FiiNqGu\n",
       "JAOOXWhg/4XwF+nmzg9vVT1hAAAAAElFTkSuQmCC\n",
       "\" style=\"display:inline;vertical-align:middle;\" /></a></span>"
      ],
      "text/plain": [
       "{A equiv Real} |- forall_{x} ((x in A) = (x in Real))"
      ]
     },
     "metadata": {},
     "output_type": "display_data"
    }
   ],
   "source": [
    "# We can use standard pre-defined sets as well\n",
    "SetEquiv(A, Real).unfold(assumptions=[SetEquiv(A, Real)])"
   ]
  },
  {
   "cell_type": "code",
   "execution_count": 27,
   "metadata": {},
   "outputs": [
    {
     "name": "stdout",
     "output_type": "stream",
     "text": [
      "InstantiationFailure: Proof step failed:\n",
      "Attempting to instantiate |- forall_{A, B | A equiv B} [forall_{x} ((x in A) = (x in B))] with {A: {1, 2, 3}, B: {a, b, c}}:\n",
      "Unsatisfied condition: {1, 2, 3} equiv {a, b, c}. For debugging purposes, this is accessible via Instantiation.unsatisfied_condition with applicable assumptions in Instantiation.condition_assumptions.\n"
     ]
    }
   ],
   "source": [
    "# We must already know or assume that the SetEquiv holds in one direction\n",
    "try:\n",
    "    SetEquiv(Set(one, two , three), Set(a, b, c)).unfold()\n",
    "    assert False, \"Should not make it this far!\"\n",
    "except InstantiationFailure as the_error:\n",
    "    print(\"InstantiationFailure: {}\".format(the_error))"
   ]
  },
  {
   "cell_type": "markdown",
   "metadata": {},
   "source": [
    "### Testing the `SetEquiv.derive_reversed()` method<br/>\n",
    "\n",
    "The `derive_reversed()` method has the following format:<br/>\n",
    "\n",
    "<div style=\"width: 50%; border: 1px solid green; padding: 5px; margin: 20px; background-color: gainsboro; font-family:courier\">derive_reversed(**defaults_config)</div>\n",
    "\n",
    "and from A set_equiv B attempts to derive B set_equiv A. This derivation is also an automatic side-effect."
   ]
  },
  {
   "cell_type": "code",
   "execution_count": 28,
   "metadata": {},
   "outputs": [
    {
     "data": {
      "text/html": [
       "<span style=\"font-size:20px;\"><a class=\"ProveItLink\" href=\"../__pv_it/theorems/2ee8dc2018014830ed832e2e3d65a4df89f102480/expr.ipynb\"><img src=\"data:image/png;base64,iVBORw0KGgoAAAANSUhEUgAAADsAAAAPBAMAAACo4Ko7AAAAMFBMVEX///8AAAAAAAAAAAAAAAAA\n",
       "AAAAAAAAAAAAAAAAAAAAAAAAAAAAAAAAAAAAAAAAAAAv3aB7AAAAD3RSTlMAIs1UmauJMnZmRLsQ\n",
       "3e++988cAAAACXBIWXMAAA7EAAAOxAGVKw4bAAAA+UlEQVQY02NgAAEhBrxAH0zyxF0GkhxgNuf+\n",
       "r6FB2yGyzP/BFG/73AQGBlaIGN8GBob4AjCTJV4ARHUy8KgyMJRApOUbGBjWO4CZiflgZQFArepc\n",
       "FyHS84FC8xtALMaGfgMQDTSZof/fAoh0PBDrgQ1lYbCfAHflASj9moHh6HUwazFDfQK6X9h/d7Rq\n",
       "QpgODPIBINr3LghcBYtxfGRgsAObybHFJX4Dum7uBwwMbN9BrBMMDPwX0KX5geZx/oCYzcD7AF26\n",
       "Hmgw6y8ggwvIYPqAbnc/0E/1CkCGHMimj+i69YD6HgE9efq/DgPz/k9oPov+HxqqDQwrAPAyQLUO\n",
       "1tWZAAAAAElFTkSuQmCC\n",
       "\" style=\"display:inline;vertical-align:middle;\" /></a> <a class=\"ProveItLink\" href=\"../__pv_it/demonstrations/f96c31d01988b31a3cb0e7958fe3bb6d8a4c11560/proof.ipynb\" style=\"text-decoration: none\">&nbsp;&#x22A2;&nbsp;&nbsp;</a><a class=\"ProveItLink\" href=\"../__pv_it/theorems/64ce83c197b559a3346c83d03b24881cab5757470/expr.ipynb\"><img src=\"data:image/png;base64,iVBORw0KGgoAAAANSUhEUgAAADsAAAAPBAMAAACo4Ko7AAAAMFBMVEX///8AAAAAAAAAAAAAAAAA\n",
       "AAAAAAAAAAAAAAAAAAAAAAAAAAAAAAAAAAAAAAAAAAAv3aB7AAAAD3RSTlMAZrurzTLvInZEmRDd\n",
       "VIkafcLnAAAACXBIWXMAAA7EAAAOxAGVKw4bAAAA9klEQVQY02NgwA1KwKTQf2NjpwAQa3POBSDZ\n",
       "AJP2h1BJDAzMX0GME4HngKQBVJb3P5hi/8HAwPkLyOAQYNhiwMC6ACrNZV8AohiBOhmBShiYgdgk\n",
       "YE4BVPr5e7CNzB8YGFjSgQw+kAn/M6Gy7A39IJcwsCkwcNsEwNzDDWNwMdwXANHxGh0mApjemssQ\n",
       "/wBE9xcw8CaC1Z8BA6jLFzDUg1lqQPw+AF0zh9YqewUQ4zMQyzegS+9gYOA/AKRZPwIJ+wno0kDf\n",
       "8ySATPkOVPIF3W5OoGNZgD5mYAGqmeaNrrkMiJmAGpn1Pxub6KLLbvrvzcCr/+UBALUVPjdHvMSF\n",
       "AAAAAElFTkSuQmCC\n",
       "\" style=\"display:inline;vertical-align:middle;\" /></a></span>"
      ],
      "text/plain": [
       "{A equiv B} |- B equiv A"
      ]
     },
     "metadata": {},
     "output_type": "display_data"
    }
   ],
   "source": [
    "SetEquiv(A, B).derive_reversed(assumptions=[SetEquiv(A, B)])"
   ]
  },
  {
   "cell_type": "code",
   "execution_count": 29,
   "metadata": {},
   "outputs": [
    {
     "data": {
      "text/html": [
       "<span style=\"font-size:20px;\"><a class=\"ProveItLink\" href=\"../__pv_it/demonstrations/3976b7d219879b8bb54791446332d0e34f693bc70/expr.ipynb\"><img src=\"data:image/png;base64,iVBORw0KGgoAAAANSUhEUgAAAKMAAAAVBAMAAADY0UPbAAAAMFBMVEX///8AAAAAAAAAAAAAAAAA\n",
       "AAAAAAAAAAAAAAAAAAAAAAAAAAAAAAAAAAAAAAAAAAAv3aB7AAAAD3RSTlMAEER2zVSJ3Zki72ar\n",
       "MruaaVGaAAAACXBIWXMAAA7EAAAOxAGVKw4bAAACWklEQVQ4y4VVTWgTQRh9s2s3TZO0C94kWPXk\n",
       "saB40IqxJw8q8aL0lICHFn9AD7WIQnMoJKdUEFSkqOhBVKgBD56EQBWxRZqjghfrxYOgMYmgInXm\n",
       "m5/s7uy232Hy5uO9N9/OfJkBwPYgKdKTcdlkgebv351oiU+fY5KbCCR/oM2H3GW9Tu1kS6Jb0+t8\n",
       "/KYKW5nhowsjMLHzcciT+N4lID+vaffg/ZQmFZSKwJRMpw6/LANZaEEgjoVmU4bhast3wFMCbg+j\n",
       "BWN5COw48CHOsreV5XMfazcEcB5ipG/Z5CWecK7GWDrtrSzfAmtqM1FqGEv+1TjyZ1eMZaTmGEse\n",
       "c3r9azCWFH7AZPHsTTnbtjxeVPl9rxR/sBC2zHXU7/h7Ph60G0UInCf4LlcYPcp+y16ZQV3x7zbC\n",
       "lqmmRuLE78sSqrMirkMLdjRQVSQfj6SuLIDgL04gbFk3aIgn2etipEgSLABX5HQe+EVggaoW/Fzd\n",
       "D1lmVJG5FoZ5f3gT0e8mwRKYbF/u7Mg2WpIbKvjDzZDlaaSpiUbaZFnyrb3kAtZB5oduy0HSso7e\n",
       "h8CJM6qhDNcXaKhJH34O1l5yAeshW5ikFvgn9lWAv/zQFJ8sPX5q4s+C27ValVCmEezLaCd+wZlK\n",
       "hXX5bBVfQYCfwcVAX2ZXuqtIiatjbmOjK9He2joSLfMHPi63MMury0/zhQXwzr/wg61OcQo2SrCU\n",
       "MeBHQdSyDBttaulZQPLdB/qyHoOFRNtFwwiw3QKSn9a3k9sX9d+EZzGvgbnOxiyg+HfeJL89F4ox\n",
       "2WQB8f8DUvWl2fbXT90AAAAASUVORK5CYII=\n",
       "\" style=\"display:inline;vertical-align:middle;\" /></a> <a class=\"ProveItLink\" href=\"../__pv_it/demonstrations/84e37c83c7e5140e1efb8746ba1b0e35914e4eff0/proof.ipynb\" style=\"text-decoration: none\">&nbsp;&#x22A2;&nbsp;&nbsp;</a><a class=\"ProveItLink\" href=\"../__pv_it/demonstrations/a5f5882d5b1617365c5326288852b6b9d1db9f200/expr.ipynb\"><img src=\"data:image/png;base64,iVBORw0KGgoAAAANSUhEUgAAAKMAAAAVBAMAAADY0UPbAAAAMFBMVEX///8AAAAAAAAAAAAAAAAA\n",
       "AAAAAAAAAAAAAAAAAAAAAAAAAAAAAAAAAAAAAAAAAAAv3aB7AAAAD3RSTlMAEER2zVSJ3Zki72ar\n",
       "MruaaVGaAAAACXBIWXMAAA7EAAAOxAGVKw4bAAACYUlEQVQ4y4VVTWgTQRT+JjE/m+62QT1JsNWL\n",
       "HiOKB+kh5uRxPUlPCXiwVMWImAp6yCFgDtIWBKlSaKmHIoUS8KoQaLxYhJxEUbCtFw+KjTaCSIkz\n",
       "b2a23Z3ddiC7b96+79s3731vA4CdRMSyxsK8h0dwEODciciQzxumL17M4gBAorvXd3zJF/Jd3nJL\n",
       "Lr/myS4JRue2Cpit/1DWk/FNDUhWfCSXfLtr8nbnU5VfW54rV1d5WOu4JevAaii5ChCg7IVQxps4\n",
       "2oJT23XFFaU9g8yCjOlhuBBKGeuGUNr81+6cmjEpM13YfyVwEUPhlIGcJWVSkPQXEZJlBfaODi41\n",
       "91LOXX0s3YdWR11Ffva1V0sqFkIo+Upt6QPe10/TPN3YC/yU0hi+yORBrLuYAi6YOqkHKL9IIcAZ\n",
       "fQcFeMbTPdbEQ2iJPJcvLwtjnlJOT9KijlvLAcoHniU6LgBzRb6ZBqpeDn/ImKasWdsNzEd7xE+Z\n",
       "Xvee8V4RwJni2BWwX9JdRUzKaEUWtBg894cNP+UrdXc6GOwpwGAL7DcGtrQs0xTNXd6owBwojzJR\n",
       "xlMyhrpESQDecdaDXRiD2O2IugrjH28aMIFgLXc7ThJ4D5yh+EyLDj6hRfQVV2o1ts13a/gGMni7\n",
       "b/pE5JNqkstCDIt1r9GoUPxA06/L3PmPqx1M8rflxrlfGMnrL7ORlPbb7TWk+Kcj1e/3CxSP041N\n",
       "GNOTyAaNyCxpXTaABmXSMPanLJvxqtILenvEMOSo+Jc3UCxvxkuA5X3O8obBlk3KeS3+OIx4DZh9\n",
       "E/lXcsMNcT5ysS/gPw3Lp6oh5QDUAAAAAElFTkSuQmCC\n",
       "\" style=\"display:inline;vertical-align:middle;\" /></a></span>"
      ],
      "text/plain": [
       "{{1, 2, 3} equiv {a, b, c}} |- {a, b, c} equiv {1, 2, 3}"
      ]
     },
     "metadata": {},
     "output_type": "display_data"
    }
   ],
   "source": [
    "SetEquiv(Set(one, two , three), Set(a, b, c)).derive_reversed(\n",
    "        assumptions=[SetEquiv(Set(one, two , three), Set(a, b, c))])"
   ]
  },
  {
   "cell_type": "code",
   "execution_count": 30,
   "metadata": {},
   "outputs": [
    {
     "data": {
      "text/html": [
       "<span style=\"font-size:20px;\"><a class=\"ProveItLink\" href=\"../__pv_it/demonstrations/91bd03a46f5c443253f7d212b5997bddfbe53e5b0/expr.ipynb\"><img src=\"data:image/png;base64,iVBORw0KGgoAAAANSUhEUgAAADoAAAAPBAMAAABHIsEFAAAAMFBMVEX///8AAAAAAAAAAAAAAAAA\n",
       "AAAAAAAAAAAAAAAAAAAAAAAAAAAAAAAAAAAAAAAAAAAv3aB7AAAAD3RSTlMAIs1UmauJMnZmRLsQ\n",
       "3e++988cAAAACXBIWXMAAA7EAAAOxAGVKw4bAAAA6UlEQVQY02NgAAEhBlTAqbf7072dMJ4+mOSJ\n",
       "uwwkOUBMbsYArsg9EEnm/2CKt31uAgMDK0Q2gWFDKUSWJV4ARHUy8KgyMJTAZB2ZILKJ+QUgKgCo\n",
       "UZ3rIlyWGyzJ2NBvAKKBxjL0/1sAk405CjGYwX4C3LkHGKCy7JsVwczFDPUJaF7iZnx0/wZEoQOD\n",
       "fACI9r0LAlchsplzFMCSHFtc4jdg6E3YMxPMOsHAwH8BU7aE+wDEYAbeB5iyLIUgA7mA7mX6gGFv\n",
       "As+GTiBDDsT5iKHXgWEm9wKG0/91GJj3f0pAj6PfAtybPgMA7cpBpOM4CJYAAAAASUVORK5CYII=\n",
       "\" style=\"display:inline;vertical-align:middle;\" /></a> <a class=\"ProveItLink\" href=\"../__pv_it/demonstrations/c68091154b26c3efd73e9856edff52c5033907810/proof.ipynb\" style=\"text-decoration: none\">&nbsp;&#x22A2;&nbsp;&nbsp;</a><a class=\"ProveItLink\" href=\"../__pv_it/demonstrations/e9fce6179d6c243486939a14e05a84f2a4b9b1270/expr.ipynb\"><img src=\"data:image/png;base64,iVBORw0KGgoAAAANSUhEUgAAADkAAAAPBAMAAACsFXoGAAAAMFBMVEX///8AAAAAAAAAAAAAAAAA\n",
       "AAAAAAAAAAAAAAAAAAAAAAAAAAAAAAAAAAAAAAAAAAAv3aB7AAAAD3RSTlMAZs3vu90iq0QQiTKZ\n",
       "VHZ+Ip2vAAAACXBIWXMAAA7EAAAOxAGVKw4bAAAA50lEQVQY02MQMvFXNRFgwAKSQIRDOkO7yAQQ\n",
       "a7rpBSD5ACarD5bNYmDhLgCx4jZGAckCqCTvf6gsT4ICkMEnwDCpgIH7AFSWpz4BJusAZLADcdGG\n",
       "1gSo7LL1GyCy7DNBxnGB9P+3gEqyPXh/ASK75RJMAwMnjMHDcB/kE4dk1a8vMf3Ty7B/AViv4CSI\n",
       "6lAwgLr5AEN+AViWZSJmaPD5nKl3AMtyH/DEkJ3HwMAfAHHV6RQMWaCvWQ0gslP4BNDs5QAKMH0A\n",
       "yeYwMAp4oGlNBmKWbwwMwDhyY3DRv4AiOeW/JgOv/6cFAF5/PGItm3qjAAAAAElFTkSuQmCC\n",
       "\" style=\"display:inline;vertical-align:middle;\" /></a></span>"
      ],
      "text/plain": [
       "{A equiv Real} |- Real equiv A"
      ]
     },
     "metadata": {},
     "output_type": "display_data"
    }
   ],
   "source": [
    "# We can use standard pre-defined sets as well\n",
    "SetEquiv(A, Real).derive_reversed(assumptions=[SetEquiv(A, Real)])"
   ]
  },
  {
   "cell_type": "code",
   "execution_count": 31,
   "metadata": {},
   "outputs": [
    {
     "name": "stdout",
     "output_type": "stream",
     "text": [
      "InstantiationFailure: Proof step failed:\n",
      "Attempting to instantiate |- forall_{A, B | A equiv B} (B equiv A) with {A: {1, 2, 3}, B: {a, b, c}}:\n",
      "Unsatisfied condition: {1, 2, 3} equiv {a, b, c}. For debugging purposes, this is accessible via Instantiation.unsatisfied_condition with applicable assumptions in Instantiation.condition_assumptions.\n"
     ]
    }
   ],
   "source": [
    "# We must already know or assume that the SetEquiv holds in one direction\n",
    "try:\n",
    "    SetEquiv(Set(one, two , three), Set(a, b, c)).derive_reversed()\n",
    "    assert False, \"Should not make it this far!\"\n",
    "except InstantiationFailure as the_error:\n",
    "    print(\"InstantiationFailure: {}\".format(the_error))"
   ]
  },
  {
   "cell_type": "markdown",
   "metadata": {},
   "source": [
    "### Testing the `SetEquiv.deduce_not_equiv()` method<br/>\n",
    "\n",
    "The `deduce_not_equiv()` method has the following format:<br/>\n",
    "\n",
    "<div style=\"width: 50%; border: 1px solid green; padding: 5px; margin: 20px; background-color: gainsboro; font-family:courier\">deduce_not_equiv(**defaults_config)</div>\n",
    "\n",
    "and attempts to deduce A not_equiv B assuming not(A equiv B), but where self is (A equiv B). This can be a bit confusing …"
   ]
  },
  {
   "cell_type": "code",
   "execution_count": 32,
   "metadata": {},
   "outputs": [
    {
     "data": {
      "text/html": [
       "<span style=\"font-size:20px;\"><a class=\"ProveItLink\" href=\"../__pv_it/axioms/bb2eac1bdd2ce216d9324209ccfd47261e333bcc0/expr.ipynb\"><img src=\"data:image/png;base64,iVBORw0KGgoAAAANSUhEUgAAAFoAAAAVBAMAAAA0iOSIAAAAMFBMVEX///8AAAAAAAAAAAAAAAAA\n",
       "AAAAAAAAAAAAAAAAAAAAAAAAAAAAAAAAAAAAAAAAAAAv3aB7AAAAD3RSTlMAmd0iq3ZUiRDNZu9E\n",
       "uzLWhN+VAAAACXBIWXMAAA7EAAAOxAGVKw4bAAABeUlEQVQoz2NgQAADBryAGYXHmgCmLHGp5glA\n",
       "5qVDqPkQqmUTSDNEwdr/Li5zHzBEISnmmACm2P5DuKqv1IGkA4Szl4GB5R8DZwNCNeMCCOUPdj7r\n",
       "AoZOBwY+AYiLvwLd8ZGBSwChmhtCFdc/AFEsQOz54BDE41z/gBioYwdCdSbEmIB4sGfZQeb/3wOR\n",
       "YvnAwMC5mYFhFkK1OMQhDPkLEF6BWXuBgcMJaGUJQjVE4zGG9wUYYff+aqgnyIyVDEJKQKAIZKqB\n",
       "JQQY7MHhwKgEBpAwiTdgYNsFpLMhmk2AGOxG1ouC/hcwzL4NxCDPv0dT3crAwK+AofoLEK8HRtRp\n",
       "hGo1iEMYmDagK+b7BST8DzAwJEH4hkB8FZQUgH7h/IDubtbPQB0/QSkAYQIoeKyBmPczutmcQNtO\n",
       "z4AHMhg8YmDo/T+Dge3+T7QgZLn/xcXzGoilgxBkesBAADAj+R85zWAHjAuQOJcJqbZF5vQSUo1i\n",
       "HHMAfsWsBgwA6E9SmsnrJU0AAAAASUVORK5CYII=\n",
       "\" style=\"display:inline;vertical-align:middle;\" /></a> <a class=\"ProveItLink\" href=\"../__pv_it/demonstrations/0e1b1822ce151753ea456085264dd401b0d85ecc0/proof.ipynb\" style=\"text-decoration: none\">&nbsp;&#x22A2;&nbsp;&nbsp;</a><a class=\"ProveItLink\" href=\"../__pv_it/axioms/040e9a1f9b739ee8859835262ddf22eb997ee4790/expr.ipynb\"><img src=\"data:image/png;base64,iVBORw0KGgoAAAANSUhEUgAAADsAAAATBAMAAADc9GjbAAAAMFBMVEX///8AAAAAAAAAAAAAAAAA\n",
       "AAAAAAAAAAAAAAAAAAAAAAAAAAAAAAAAAAAAAAAAAAAv3aB7AAAAD3RSTlMAIs1UmauJMnZmRLsQ\n",
       "3e++988cAAAACXBIWXMAAA7EAAAOxAGVKw4bAAABHklEQVQoz2NgAAEhBrxAH8FkhFCc+7+GBm2H\n",
       "sJn/I6RhBvFtYGCILwAzWeIFQBSXvgYDw3YOiLR8AwPDegcwMzEfrKx2uvUrZofTEOn5QKH5DWDr\n",
       "GvoNQHQgA8PafYtvQaTjgVgPbCgLg/0EEA1Sq/fJACL9moHh6HUwazFDfQLM3QpQBvvvjlZNCNOB\n",
       "QT4AKsq6AMrg+MjAYAc2k2OLS/wGqOhqmP+4HzAwsH0HsU4wMPBfADF87979e/fuVbA0P9A8zh8Q\n",
       "sxl4H0DDCuYGhnqgway/QIEBZDB9gAjywgOvH+inepA75UA2fYQIZsKl9YD6Hh1gYDj9X4eBef8n\n",
       "kKm+997ehdod/T80VNsALeLg3sIOqvFH+3b80gUYIgAmy0ZTyExn/wAAAABJRU5ErkJggg==\n",
       "\" style=\"display:inline;vertical-align:middle;\" /></a></span>"
      ],
      "text/plain": [
       "{[not](A equiv B)} |- A not_equiv B"
      ]
     },
     "metadata": {},
     "output_type": "display_data"
    }
   ],
   "source": [
    "SetEquiv(A, B).deduce_not_equiv(assumptions=[Not(SetEquiv(A, B))])"
   ]
  },
  {
   "cell_type": "code",
   "execution_count": 33,
   "metadata": {},
   "outputs": [
    {
     "data": {
      "text/html": [
       "<span style=\"font-size:20px;\"><a class=\"ProveItLink\" href=\"../__pv_it/demonstrations/9dfbd54a65bdff75fe84c7590e077f0a02e145770/expr.ipynb\"><img src=\"data:image/png;base64,iVBORw0KGgoAAAANSUhEUgAAAMQAAAAVBAMAAADr6lzSAAAAMFBMVEX///8AAAAAAAAAAAAAAAAA\n",
       "AAAAAAAAAAAAAAAAAAAAAAAAAAAAAAAAAAAAAAAAAAAv3aB7AAAAD3RSTlMAmd0iq3ZUiRDNZu9E\n",
       "uzLWhN+VAAAACXBIWXMAAA7EAAAOxAGVKw4bAAAC1klEQVRIx41VP2hTQRj/kvfSvDYxTYpQMkjT\n",
       "oImIQ8SKk5ilQypIh4qiS2gHFYe0IS4K2iEdRKVxE+mQQQcHRSqClBaqq0ulFjoUjX9AcGlBrKlI\n",
       "43ff3b179y4pHtx73933+93v/nzfHYAqOaz3lqFTsSba9XYmEN7SukJFrHPTHSXg27rZtxeB4aOj\n",
       "3p7LWEuMEDsseo4lPwrr5NQGfj/wRnUeJwOcW9IU7s9rGgx/0dN2avgpsxGSTbHSFbjNt8GJQ6nI\n",
       "vVgO/cjiN092WZ/4A63FnN2eOQTqkhESEnYOIi/4dmzDbE2OF6rDnTzE4u0ktg2JnrhqR8AvEWmC\n",
       "/ZOs6CL0uhI21kLjba6NRLRpSMBr1b5qSNgpsHelu1SX44UZpLUIbSTCKVPikWr3GxJYgltyfkf0\n",
       "8RzvKEPXT/BW9/BYUYidey6cFUUitaRPYlPEXGzsLH4vmYHJCNGX8Ikf6uxDh++slYEDAv8U+tJY\n",
       "BtHMMM+CT+Kga7GIOk1TDKSpUEQR4W4d+kCG8Cu++klmEP4adw1hxc21Csu6RGBFRQN2OoWiL4GJ\n",
       "MACQddf0m4wBWhXhNzUJ+LyuSzwW/1gD9mE8huf8+0SEJXD+8mYWojxsl/iBMPw7JZGR+agkuibh\n",
       "OBm9TZIomZcFEpxf0LMl0yJAXOxyU39c3BRY17SIooj5DnABGCySp426Cf6zYARnG+zaBOF22bkw\n",
       "4w8GgcA/U/OpuBJhjAqWzNZgIpFydliK1j15YYT+GozH44QbgfdABobTLYHvV+AvkmGf2RmBIF6F\n",
       "wVarVYM0m9WbxAZ0lKie/zrcIFx1CifCjPCNJ9MCf1SBgw1tkCvS6JrWs9WU8OEUgTktT8LTfaUY\n",
       "k+6lAP8nETYJZXm7yrLqzV/HfUpm9FT2FZXwMyaB4U9p7wnI/GVR5XarZ8tZMCVcgsKNavhVLVXR\n",
       "Z+0vdn67K218exAIH8rBP3kluriRU2DHAAAAAElFTkSuQmCC\n",
       "\" style=\"display:inline;vertical-align:middle;\" /></a> <a class=\"ProveItLink\" href=\"../__pv_it/demonstrations/f12aa2f12f722c98f993082031195cdd578492fb0/proof.ipynb\" style=\"text-decoration: none\">&nbsp;&#x22A2;&nbsp;&nbsp;</a><a class=\"ProveItLink\" href=\"../__pv_it/demonstrations/e9d59e687c6547a5e9b9d1b93e78eaf44c9577650/expr.ipynb\"><img src=\"data:image/png;base64,iVBORw0KGgoAAAANSUhEUgAAAKMAAAAVBAMAAADY0UPbAAAAMFBMVEX///8AAAAAAAAAAAAAAAAA\n",
       "AAAAAAAAAAAAAAAAAAAAAAAAAAAAAAAAAAAAAAAAAAAv3aB7AAAAD3RSTlMAEER2zVSJ3Zki72ar\n",
       "MruaaVGaAAAACXBIWXMAAA7EAAAOxAGVKw4bAAACe0lEQVQ4y4VVQWgTQRR9mzXbpknaBW9SWhVE\n",
       "TxJQPEgPUS/iQdeL0osJeEixCiroggrNoZCcUkFRkaJSD0WFGvBcCFQRLdLcRBDBehGxaEyiiEid\n",
       "+TOzO5vdtQO782b2vTd/5/+dBWBsR1xLjUfNxgsUf++2WEu8/xgx+R+B4Cdb7Ja9oNapHm0KdGti\n",
       "ld2/6jGIjgReG5kPeBLfOg8MTyvaPVg/xNuVUXCAkka/KTou0NrhwKjkMUxl+Qp4TMDsYjTvWSaO\n",
       "HQLWzCjL7kaWT22sXCeTOQz5lm8XT80lyyMRlonWRpYvgRW5mSjUPUsW/M4vOy5GWPbEHGHJ2pRa\n",
       "/yo8yxy7jnQc32T29A3xZNPSmCPN9yxKfn8+aJlty37sDbvv9/Odl4ALEo/wzabR6AHjt3h+CTXJ\n",
       "v1sPWvY1FOIZv++oUWarBFywpY6KJNl4KHRFDjh/9iCCljUPDbBJ47ny3C17EswAl8VwGvhJYIai\n",
       "5vxszQ5YpmWQ2SYGWX1YtCIqrvvLda/RAy5YgCHKlzknRBktiA3l/MFGwPIEUlREQy2yLNhqqaJi\n",
       "MIHRRvq7Kst+0hpttQ9axg2KoQjT5migQS9+xttivWyMLjL5cXD5X76vHPxhSZN8srRY1vjHgtvV\n",
       "aoVQuq7XJTAZqMRPOFkuGx02WsZnEGA5OKfVZeZ1Zxl9/OiYWl/vCLSruurXZeXKvCv3UhwK+94t\n",
       "NeGy6IYn2MIcWJPPbL3UqR1HGJV6S0gXJO1e0GvpJUBDyvJD1CdohYDgmw/UYZ1DCPGyo7bmW3oC\n",
       "bA4BwU+p08n0Rf4/4YkETe0k9o6zXAhI/p0X8f+es07EbLyA+P8AdVWs8x2aB4oAAAAASUVORK5C\n",
       "YII=\n",
       "\" style=\"display:inline;vertical-align:middle;\" /></a></span>"
      ],
      "text/plain": [
       "{[not]({1, 2, 3} equiv {a, b, c})} |- {1, 2, 3} not_equiv {a, b, c}"
      ]
     },
     "metadata": {},
     "output_type": "display_data"
    }
   ],
   "source": [
    "SetEquiv(Set(one, two, three), Set(a, b, c)).deduce_not_equiv(assumptions=[Not(SetEquiv(Set(one, two, three), Set(a, b, c)))])"
   ]
  },
  {
   "cell_type": "code",
   "execution_count": 34,
   "metadata": {},
   "outputs": [
    {
     "name": "stdout",
     "output_type": "stream",
     "text": [
      "InstantiationFailure: Proof step failed assuming {[not]({1, 2, 3} equiv {a, b, c})}:\n",
      "Attempting to instantiate |- forall_{A, B | [not](A equiv B)} (A not_equiv B) with {A: {1, 2, 4}, B: {a, b, c}}:\n",
      "Unsatisfied condition: [not]({1, 2, 4} equiv {a, b, c}). For debugging purposes, this is accessible via Instantiation.unsatisfied_condition with applicable assumptions in Instantiation.condition_assumptions.\n"
     ]
    }
   ],
   "source": [
    "# despite the apparent disconnect between the 'self' SetEquiv, that SetEquiv must\n",
    "# use the same sets being used in the conclusion\n",
    "try:\n",
    "    SetEquiv(Set(one, two, four), Set(a, b, c)).deduce_not_equiv(\n",
    "            assumptions=[Not(SetEquiv(Set(one, two, three), Set(a, b, c)))])\n",
    "    assert False, \"Should not make it this far!\"\n",
    "except InstantiationFailure as the_error:\n",
    "    print(\"InstantiationFailure: {}\".format(the_error))"
   ]
  },
  {
   "cell_type": "markdown",
   "metadata": {},
   "source": [
    "### Testing the `SetEquiv.apply_transitivity()` method<br/>\n",
    "\n",
    "The `apply_transitivity()` method has the following format:<br/>\n",
    "\n",
    "<div style=\"width: 50%; border: 1px solid green; padding: 5px; margin: 20px; background-color: gainsboro; font-family:courier\">apply_transitivity(other, **defaults_config)</div>\n",
    "\n",
    "From A set_equiv B (self) and B set_equiv C (other) attempt to derive and return A set_equiv C.\n",
    "If \"other\" is not a SetEquiv, reverse roles and call 'apply_transitivity' from the \"other\" side."
   ]
  },
  {
   "cell_type": "code",
   "execution_count": 35,
   "metadata": {},
   "outputs": [
    {
     "data": {
      "text/html": [
       "<span style=\"font-size:20px;\"><a class=\"ProveItLink\" href=\"../__pv_it/demonstrations/c40a4b5f67b38a6d260de64993997c96e2a07bcf0/expr.ipynb\"><img src=\"data:image/png;base64,iVBORw0KGgoAAAANSUhEUgAAAKUAAAAVBAMAAADVzzOcAAAAMFBMVEX///8AAAAAAAAAAAAAAAAA\n",
       "AAAAAAAAAAAAAAAAAAAAAAAAAAAAAAAAAAAAAAAAAAAv3aB7AAAAD3RSTlMAEER2zVSJ3Zki72ar\n",
       "MruaaVGaAAAACXBIWXMAAA7EAAAOxAGVKw4bAAACH0lEQVQ4y42VMUwUQRiF397m7jzgYEsLEw8b\n",
       "jJUFlUAg1KhrQ2J1VwkhJGhhDNEECxK2ulABMQYIpZqwnYXNFRIVMFxiAQUUUJuQ06NQi3Pm35l/\n",
       "Z9lb9qaYfZm89+3Mzr8zAKxbSGqFx+1GOwgM9idacHzaZjA9kG2IrvhMv8h7UA/UyvSZ6H+qqe0+\n",
       "F70NHQhthSfVksoeOjqQewrcWGyo8XXkfgWU1yi7wFQwnB/5WAF6oANsw3VkL4LA14eSOaUtsDXz\n",
       "G/COhH2Bm2PMHII1ARwxk20Yda2myo4mMLcdHCxLkdlCX8isiUnez8wzk224U0Ia8wtwoL4Uyj4z\n",
       "KzLyt8RM05b9l8IUbUE9My/BTGoOmGnYMODHmNfGoszib/Uc/i76e/FyoQDb8GO/bjIp8MaPMvM1\n",
       "reS+b7gkl17I9gocMGxq3xVTBt6OI8qssuoSg9Zn99I0g4BhkxsWMmWgWHUizG71/mIdvWICufHL\n",
       "Sw8C2oYT4Nw1mBTorUWYkyhQkfQ1iFl2Yt+TAtqGlhNlUoD33aJZVGA7UnXVaO0ziH1PGWAbPsi1\n",
       "WyFzhksj9wf022DV85ZIdftmfZpNBtiGT7I+SWFu2azPnt3mHvLyHFlotZqBuu2dIZEZ2jKeOENI\n",
       "7W9P+GbNU3uEuEpgpgRCSwVxdSUzMWBv6uP7LmIKi3FmB4GC/g3sMBVeE+/b3A8dBNZ2kq+XWbfN\n",
       "aFrgP+tirODfiezpAAAAAElFTkSuQmCC\n",
       "\" style=\"display:inline;vertical-align:middle;\" /></a>, <a class=\"ProveItLink\" href=\"../__pv_it/demonstrations/9217be636d639c95b04f55486dc9717db1ddfacb0/expr.ipynb\"><img src=\"data:image/png;base64,iVBORw0KGgoAAAANSUhEUgAAAKMAAAAVBAMAAADY0UPbAAAAMFBMVEX///8AAAAAAAAAAAAAAAAA\n",
       "AAAAAAAAAAAAAAAAAAAAAAAAAAAAAAAAAAAAAAAAAAAv3aB7AAAAD3RSTlMAEER2zVSJ3Zki72ar\n",
       "MruaaVGaAAAACXBIWXMAAA7EAAAOxAGVKw4bAAACWUlEQVQ4y4VVPWgUQRh9s+ft5UhOBmxEgjlt\n",
       "BKuAYuEPiaksoq6NkioLghF/UIskCEJSCHfVJWChSFDBQvwhd2BhIUIgin+BHFiooIXYWAgxMSuo\n",
       "yDnf/OxudncuUyxvvnnv7bczb3cBsO2wjeJQVtUuMPzd26yW+PQlo9hGoPj5ZeFePdLU9zlVK+vl\n",
       "91xcvuvG3oyKaw5GsPWexVPy3YvALbgrqrQZ+UCZvDpKliOqXDjwxAe6YAQ4ZLEcMYzXwANV6vPY\n",
       "ql7ti1nuAxsEPkSWwXqWdY7FaVnaWUaW5Zxo8bBzObR0ltezfAks6s1E/m+GpU/zP+XQUnba1lKM\n",
       "CVPc0ciwlIMjtNwwv9/Ts13PFJg5ec3wO/rpWvqpde8WmnHLvelGSNBzkP1WCRlFTQLnPpa45t+U\n",
       "XRXmjCIfxC1vq2Yq4zSuwAiGOe6qKPgabGmgovkzA7JSi7qo85gle+4lmpSCq8AvOZvSZEwBY5pf\n",
       "qlGx0zT5GVjyYpbuQPK5pWAMjnqYWVOeBVsx/I3kdhxFFaIWX2s5zFN7SYIAHTJGzByBAJ0/DJ8O\n",
       "sOQjxxktPaIHZ5HlGaT2kgT/aO9oXSTOIcACdPUPaT4xrlerFfTQ0T+lXEqEC9OJECEK0Vt8g3zN\n",
       "xBmcl+ArTkxOxnI50WqtonCJslAVnw2JFuqDDatl92mxNi66c88+5hJ07/k431wbdTGOIY0slipu\n",
       "PAlSlj7SqJ2liyTQ/Nwdc2i9SCEKYHKEgk1IAs0vmrclF4mif8LDjL+BEYQ37k3yb7yw/3vOeRlV\n",
       "u0Dy/wM9W6BXmCBtLQAAAABJRU5ErkJggg==\n",
       "\" style=\"display:inline;vertical-align:middle;\" /></a> <a class=\"ProveItLink\" href=\"../__pv_it/demonstrations/838cdc0373373aa7196062a3dff3e09aaea816930/proof.ipynb\" style=\"text-decoration: none\">&nbsp;&#x22A2;&nbsp;&nbsp;</a><a class=\"ProveItLink\" href=\"../__pv_it/demonstrations/77867491a2a10dde1677b525a64c6207a386cc1a0/expr.ipynb\"><img src=\"data:image/png;base64,iVBORw0KGgoAAAANSUhEUgAAAKMAAAAVBAMAAADY0UPbAAAAMFBMVEX///8AAAAAAAAAAAAAAAAA\n",
       "AAAAAAAAAAAAAAAAAAAAAAAAAAAAAAAAAAAAAAAAAAAv3aB7AAAAD3RSTlMAEER2zVSJ3Zki72ar\n",
       "MruaaVGaAAAACXBIWXMAAA7EAAAOxAGVKw4bAAACVklEQVQ4y41VTWgTQRh9s6ubpknagd4kWPXk\n",
       "saB40IppTx6qxIvSUwIeWvwBPbRFFJpDITmlhYKKFC16EBVqwIMnIVBFbJHmqODFevEgaEwiqEid\n",
       "+eYn2d1syXeYffvx3ptvZ76dAcAOISrik92y0QLDP3ow0hKfPndJ7iJQ/L11MaSum3lKZ2sK3Z7e\n",
       "FuM3XdjGjBhdGMH+xxGexPeuAemFuk7dh/dTmRSQywJTKh07+TIPJGEEOB1hOWUZrrF8Bzwl4LYw\n",
       "nLGWJ8AmgA9ty1bvls85tpYkcB5isG1ZFSWecW5YS6feu+VbYEsvJnIVaym+Gqf+HLCWJOrRUsS8\n",
       "fjo3YS0pOKzlnvXRrH478kqBlYvLht+X8VumGvo5+l6Mx8OFSMHwGPutOmQGZVXAE3znmn+v4reM\n",
       "VQ2SO/5AFVOck3ELRpDjeKTYeQ32VVCE4q+Mw29ZtqhfJNnrbKBIEiwAv+htUa8GFoFZKH6qzH2W\n",
       "CV1kqoYB0SneePC7STALR7XRmkmvgcmGJv5A1Wd5HnFqosE6WeZ4aC2loIU+UrCG+e8bSPyA5tsd\n",
       "Z1RDHi6XqL9KH34JobWUgn9y7aT6r9gYCVgLycyk5pOlJ/ZP/iy4UyoVCSUqnX3ZGVKwia9gTbXy\n",
       "Vwl8wYVCoaMvkxvNTcTk0TG/s9NU6HBpG5GW6Wkx3Zyozrv8ghNIH/u4XutsdYpzCKMIS3Uk8SAI\n",
       "WeYRRrtZeggCzXdXzaaNIIRkAwbDCoYQBJofN+eU2xa174RnXW4DI7ATjwT5d99E3z1Xsl2y0QLi\n",
       "/wc3i6XZd4H1fwAAAABJRU5ErkJggg==\n",
       "\" style=\"display:inline;vertical-align:middle;\" /></a></span>"
      ],
      "text/plain": [
       "{{1, 2, 3} equiv {2, 3, 1}, {2, 3, 1} equiv {b, c, a}} |- {1, 2, 3} equiv {b, c, a}"
      ]
     },
     "metadata": {},
     "output_type": "display_data"
    }
   ],
   "source": [
    "SetEquiv(Set(one, two, three), Set(two, three, one)).apply_transitivity(\n",
    "    SetEquiv(Set(two, three, one), Set(b, c, a)),\n",
    "    assumptions=[SetEquiv(Set(one, two, three), Set(two, three, one)),\n",
    "                 SetEquiv(Set(two, three, one), Set(b, c, a))])"
   ]
  },
  {
   "cell_type": "code",
   "execution_count": 36,
   "metadata": {},
   "outputs": [
    {
     "data": {
      "text/html": [
       "<span style=\"font-size:20px;\"><a class=\"ProveItLink\" href=\"../__pv_it/theorems/2ee8dc2018014830ed832e2e3d65a4df89f102480/expr.ipynb\"><img src=\"data:image/png;base64,iVBORw0KGgoAAAANSUhEUgAAADsAAAAPBAMAAACo4Ko7AAAAMFBMVEX///8AAAAAAAAAAAAAAAAA\n",
       "AAAAAAAAAAAAAAAAAAAAAAAAAAAAAAAAAAAAAAAAAAAv3aB7AAAAD3RSTlMAIs1UmauJMnZmRLsQ\n",
       "3e++988cAAAACXBIWXMAAA7EAAAOxAGVKw4bAAAA+UlEQVQY02NgAAEhBrxAH0zyxF0GkhxgNuf+\n",
       "r6FB2yGyzP/BFG/73AQGBlaIGN8GBob4AjCTJV4ARHUy8KgyMJRApOUbGBjWO4CZiflgZQFArepc\n",
       "FyHS84FC8xtALMaGfgMQDTSZof/fAoh0PBDrgQ1lYbCfAHflASj9moHh6HUwazFDfQK6X9h/d7Rq\n",
       "QpgODPIBINr3LghcBYtxfGRgsAObybHFJX4Dum7uBwwMbN9BrBMMDPwX0KX5geZx/oCYzcD7AF26\n",
       "Hmgw6y8ggwvIYPqAbnc/0E/1CkCGHMimj+i69YD6HgE9efq/DgPz/k9oPov+HxqqDQwrAPAyQLUO\n",
       "1tWZAAAAAElFTkSuQmCC\n",
       "\" style=\"display:inline;vertical-align:middle;\" /></a>, <a class=\"ProveItLink\" href=\"../__pv_it/theorems/c082a1f3e1d4883f429c30ba16e4f7e0dc041aaa0/expr.ipynb\"><img src=\"data:image/png;base64,iVBORw0KGgoAAAANSUhEUgAAAD0AAAAOBAMAAABuognZAAAAMFBMVEX///8AAAAAAAAAAAAAAAAA\n",
       "AAAAAAAAAAAAAAAAAAAAAAAAAAAAAAAAAAAAAAAAAAAv3aB7AAAAD3RSTlMAZrurzTLvInZEmRDd\n",
       "VIkafcLnAAAACXBIWXMAAA7EAAAOxAGVKw4bAAAA+ElEQVQY02NgYBD6b2zsFMAABNxmZ4EkBwMY\n",
       "cDcZG7I/ALGSGBiYv4IYPK0yQAFmiHxbNwPvGgEgg/0HAwPnL5BQIwO3MwNDFFh601Egsb4ASDAC\n",
       "9TL+AIkZADW7ch4Hy7ttABLTQCzmDwwMLOkgFsi2/m8TQEy+vyASbBSbAgO3TQADDGwAk/UHQORW\n",
       "EBGv0WEiwIAG3jfAmf0FDLyJYNaaMyBwGMQ8XwCXVwMpD0DTn4+w6zMQyzegyZ8HEbwgXawfgYT9\n",
       "BDR5sM/5QCyO70A1X9DtrwcZ+BrEYkkAhoM3uvt5gabOA1nPrP/Z2ESXAQPsUrYC2QkALhBApAnb\n",
       "sxkAAAAASUVORK5CYII=\n",
       "\" style=\"display:inline;vertical-align:middle;\" /></a> <a class=\"ProveItLink\" href=\"../__pv_it/demonstrations/cd01b79a0e08a446ea58c7772df4a0afbb965e3a0/proof.ipynb\" style=\"text-decoration: none\">&nbsp;&#x22A2;&nbsp;&nbsp;</a><a class=\"ProveItLink\" href=\"../__pv_it/theorems/db459a6bb74aff8993cf8b072a18984fcf5a8cf30/expr.ipynb\"><img src=\"data:image/png;base64,iVBORw0KGgoAAAANSUhEUgAAADsAAAAPBAMAAACo4Ko7AAAAMFBMVEX///8AAAAAAAAAAAAAAAAA\n",
       "AAAAAAAAAAAAAAAAAAAAAAAAAAAAAAAAAAAAAAAAAAAv3aB7AAAAD3RSTlMAIs1UmauJMnZmRLsQ\n",
       "3e++988cAAAACXBIWXMAAA7EAAAOxAGVKw4bAAAA50lEQVQY02NgAAEhBrxAH0zyxF0GkhwQIZ7u\n",
       "0EjGBDCT+T+Y4m2fC+SzQqT7ehiYfSeAmSzxAiCqk4FHlYGhBCx0+jqQ8AcLMyTmF4CoAKBWda6L\n",
       "YCG9A0BiHZjJ2NBvAKJBNvX/WwBisn0GkRCDWBjsJ8BdeQBMyl8AkcfB7MUM9QloXslvQLAdGOQD\n",
       "QLTvXRC4CmLeF4DLcmxxid+Apvs9wqITDAz8F9Ck74ODowBiNgPvAzRpsI/ZQCwuoKuZPqDZLQ9y\n",
       "Wg6IJQfE3B/RdDP/ZGBYBrL69H8dBub9n9B9dmRrCCh8ANROO9+zaVutAAAAAElFTkSuQmCC\n",
       "\" style=\"display:inline;vertical-align:middle;\" /></a></span>"
      ],
      "text/plain": [
       "{A equiv B, B equiv C} |- A equiv C"
      ]
     },
     "metadata": {},
     "output_type": "display_data"
    }
   ],
   "source": [
    "SetEquiv(A, B).apply_transitivity(\n",
    "    SetEquiv(B, C), assumptions=[SetEquiv(A, B), SetEquiv(B, C)])"
   ]
  },
  {
   "cell_type": "markdown",
   "metadata": {},
   "source": [
    "### Testing the `SetEquiv.deduce_in_bool()` method<br/>\n",
    "\n",
    "The `deduce_in_bool()` method has the following format:<br/>\n",
    "\n",
    "<div style=\"width: 50%; border: 1px solid green; padding: 5px; margin: 20px; background-color: gainsboro; font-family:courier\">deduce_in_bool(**defaults_config):</div>\n",
    "\n",
    "and attempts to deduce and return that this `SetEquiv` claim is in the `Boolean` set."
   ]
  },
  {
   "cell_type": "code",
   "execution_count": 37,
   "metadata": {},
   "outputs": [
    {
     "data": {
      "text/html": [
       "<span style=\"font-size:20px;\"> <a class=\"ProveItLink\" href=\"../__pv_it/demonstrations/1669a8bee74be3b74460aa3ca3b385c7131b43ca0/proof.ipynb\" style=\"text-decoration: none\">&nbsp;&#x22A2;&nbsp;&nbsp;</a><a class=\"ProveItLink\" href=\"../__pv_it/demonstrations/31ca42e194483478b36334c47a1c6063c2bbdb340/expr.ipynb\"><img src=\"data:image/png;base64,iVBORw0KGgoAAAANSUhEUgAAAN0AAAAVBAMAAAAwUfbwAAAAMFBMVEX///8AAAAAAAAAAAAAAAAA\n",
       "AAAAAAAAAAAAAAAAAAAAAAAAAAAAAAAAAAAAAAAAAAAv3aB7AAAAD3RSTlMAInZUiRDNmWbv3US7\n",
       "qzJazP2FAAAACXBIWXMAAA7EAAAOxAGVKw4bAAAC0UlEQVRIx4VWTWgTQRT+NmmS5rcRRC+CRVCq\n",
       "IEYQQS+JXorB0tCDFxWjIFiKNAdtTkJA8aTgRShtwaCiEg0U8benrdCLpRov8eAPOQiKIFVKPXgw\n",
       "zr6Znc3O7LoDu/tm5/veNzPv7ZsFkAVwfB5+zdjr9TaIYPgOh3Lsmij5juPHkgcpiJAcVF7umpsc\n",
       "b1qT3MeuvMX+brvYPPVGWBuHl9l9hXdOzrCZgfuxCCqMGjmxCEPqLMzHxtkPQKTM7CJ7vp8UeoaJ\n",
       "Ub5bkQryORq12u1vd9m9RXbRAwbpxCJE1Q0wX+BQCojVBAB7BCKdRfwG37U1nCrbeqEajrWQqdh6\n",
       "GgzSiUXor+h6l9NAHKpefB3pX2QlZzEg9RgW7c5C1tbTYG493BSRft24J/WiwH5NL11H+q89q3zN\n",
       "1uuzyN1ZyPWpMEXvHJ/LmZKzvndXgAuaHmuJn8JIPoCMHwUIUk+DKXoj1N9UcvJlrFkQ05hS9FZF\n",
       "Nmd2f2b3nXrKT3nAHD0iXKX+aSd+C+N/LgJ3rIycVvSa0rISbyslX6xBjfKTExSYo0eEA9Qv9+bL\n",
       "0LMSWECM9rxbL2ZKFMsKRNo5pYJwggJz9IiwSiufYVN8ZOulkgVLD1+X3HrXxTPTQWqNZcqEup2c\n",
       "oMAcPSK8pHibvetLwaT95BVE6oUL2EDGwDo5yuu1a8UD5ugR4SD16269Ml658pM8fwG2kxVv0UYd\n",
       "gRo/IiiwkqNHhGvU3+bSCw/ytCW90Swiv63o3K9W62T113q+P1crajCyyIkg0IeGqAy9+QSHh1mB\n",
       "tfU+3TpfQ4NNL9Htdstk4Xl1GX56KowscsIJD/kH+/EpZ+yYe0vnQ6LT6zFc0i0fvQCCISKXPCrq\n",
       "mWhUVyW9D7r1Xz1fQqzmczou9laQMeiWKCauFkzY4ncan7ALAuRp6rYi0zopmLDo+7vBgMalnP/v\n",
       "yIjHWCAhlPUe/Ae7S+sV5+n0LQAAAABJRU5ErkJggg==\n",
       "\" style=\"display:inline;vertical-align:middle;\" /></a></span>"
      ],
      "text/plain": [
       "|- ({1, 2, 3} equiv {2, 3, 1}) in BOOLEAN"
      ]
     },
     "metadata": {},
     "output_type": "display_data"
    }
   ],
   "source": [
    "SetEquiv(Set(one, two, three), Set(two, three, one)).deduce_in_bool()"
   ]
  },
  {
   "cell_type": "code",
   "execution_count": 38,
   "metadata": {},
   "outputs": [
    {
     "data": {
      "text/html": [
       "<span style=\"font-size:20px;\"> <a class=\"ProveItLink\" href=\"../__pv_it/demonstrations/25d8ccd463574de48502165e6478d6f457dbe8cf0/proof.ipynb\" style=\"text-decoration: none\">&nbsp;&#x22A2;&nbsp;&nbsp;</a><a class=\"ProveItLink\" href=\"../__pv_it/demonstrations/c7a09b66157590ec9dfe571fea9d35cbc1a1087a0/expr.ipynb\"><img src=\"data:image/png;base64,iVBORw0KGgoAAAANSUhEUgAAAMkAAAAVBAMAAAAeFNdiAAAAMFBMVEX///8AAAAAAAAAAAAAAAAA\n",
       "AAAAAAAAAAAAAAAAAAAAAAAAAAAAAAAAAAAAAAAAAAAv3aB7AAAAD3RSTlMAInZUiRDNmWbv3US7\n",
       "qzJazP2FAAAACXBIWXMAAA7EAAAOxAGVKw4bAAADFElEQVRIx32VXUgUURTH/7MfruvuyvRB9hAo\n",
       "UZG9uEEE9dIWfZAkDj4UUcJWFImIPqS+KCwU0UOBL4GY4lJRZAkSFSUEW+BLUNoHFuTGEoESlIYY\n",
       "JdF27pk7MztfXdjZM2fO//7unXPOHQAqgGNj8BurVC+vS6BsFRffWQJJ+rVqvs8rZzye2QUFhFV8\n",
       "mwBiNY64LYPtLaNiQdvot0tovhrCqq5Xcn17eygiPqXfNQ/QeqDPwwLMSsHwmRG6f0nWZudycveV\n",
       "0x+BcJrsevp/3y4pSg6N+vs4guAiEMrq/utzN+mqI+v5OiqnurO8T/rKnPvOPcbuOBDJGKI6GZFQ\n",
       "Ee1jqy4Z/mlSAhkcnkJlh0UJGBSLXN7hppxPAFE4KdElJH6w9WQMFoViMV0YVy3KXJuLgqsyby9G\n",
       "bpmUMmC7i5LIIvFX6oO/TEpIiIvXYM2Y8qCcZTN2UrP28voCcM5FoVGxII3xjJUXMcKwKAHVoHzY\n",
       "8MmYpIEdazQr+02jKQnvclDmZUV+zhdotj53JQvBWhiUCVRTudQK8yI7Tlh5GW9Z7gRuiKrqd1CM\n",
       "tHKNKYtsRkZ48NthQcqkULXTfqtFoe/g23Rp9jc/0kAvWpkes1MiOTNqmJzNp5x9LgTlagklQuUS\n",
       "nibMPDfyAC3nnkGJx1KCgtkJO+WK/P8OTJJyv+v4EYKVMCjxNCJULqFWUZacvVzpXuLI8RvjtrUo\n",
       "wRRWsFHUBCW45M4LCZ7m87/f6aVPRbkgz4Od7MnaKWk8t9UYg74AG9ka4jcW6nPlRfb+kC6gGo/S\n",
       "6g8K12V+sN5GCdbopceiRhWi1aHc7u7OsnWptF9sQ6f8kYIO1GrSx42BsqRJeYA9B+iMNET54bYM\n",
       "xKlXUSwW02zFusVp6UvpKb7hMFT1dhq+u3pbzTzU4zYNTvKZXFEwlyZSorkt/73YwtinyNjYIXnC\n",
       "yMHnmykKwcP6HyVk9/HZ6zWeQbatGE1wW5G0W+Qh4PNgnd+38Dhk28L8Rtmtox7r8xCE++WSPYdC\n",
       "gUpv0veLvPqtl8glUBrEl131nuMfCZzkDgRzj2UAAAAASUVORK5CYII=\n",
       "\" style=\"display:inline;vertical-align:middle;\" /></a></span>"
      ],
      "text/plain": [
       "|- ({1, 2, 3} equiv {4, 5}) in BOOLEAN"
      ]
     },
     "metadata": {},
     "output_type": "display_data"
    }
   ],
   "source": [
    "SetEquiv(Set(one, two, three), Set(four, five)).deduce_in_bool()"
   ]
  },
  {
   "cell_type": "code",
   "execution_count": 39,
   "metadata": {},
   "outputs": [
    {
     "data": {
      "text/html": [
       "<span style=\"font-size:20px;\"> <a class=\"ProveItLink\" href=\"../__pv_it/demonstrations/245822dd2c6baa7db22c11826535a7381f814d480/proof.ipynb\" style=\"text-decoration: none\">&nbsp;&#x22A2;&nbsp;&nbsp;</a><a class=\"ProveItLink\" href=\"../__pv_it/demonstrations/9533ee7e3790fb29d3eef58b2ebca7a6de9d3a490/expr.ipynb\"><img src=\"data:image/png;base64,iVBORw0KGgoAAAANSUhEUgAAAN0AAAAVBAMAAAAwUfbwAAAAMFBMVEX///8AAAAAAAAAAAAAAAAA\n",
       "AAAAAAAAAAAAAAAAAAAAAAAAAAAAAAAAAAAAAAAAAAAv3aB7AAAAD3RSTlMAInZUiRDNmWbv3US7\n",
       "qzJazP2FAAAACXBIWXMAAA7EAAAOxAGVKw4bAAADPUlEQVRIx31WXUgUURg94+y4/+tWUhBEFhUV\n",
       "hBtED724SSRJ4uJDISVNhZBIuA/lRhQNFNRLYG+hhktFhSSI9OvTJPhSmGZgD2lsERRBZS1GFLTd\n",
       "e+fO793ZCztzdu4537k/3/1mACQBHBqFX1uRLPe0gkDaTq9Jv+6qFPl1Z3zlifkyfZUE+DpJLmOe\n",
       "h1sHe7pG6CB3kF8DVX8xQ6zqfclHuuccYcRmjH8d/WRkqGOYCiwaapteuGJP0RFpHkN9TOp8Cygq\n",
       "wc3k/qaH+0k6Wo3VOgi5CATyxvObn2+Tq2He7KQpWTSknKGb6aXT6/cEu2NAUDMJ9dwvnkS4j6H6\n",
       "lPLL8iMDPjCDRNaMaNOqijiiCn6XRb+LcSAMr194CfEfDD0dhe1HuJgrjCfNiDYtOoAa0S9shKt6\n",
       "PnzH8qsGdgp+8Tzi/7hS/m35Bai4NGBFdNLQoAl+1exR9FjGnt+rS8ApwY+0yCIH45q9f2yrnBFt\n",
       "WvQeB2sal5u9AbbTKzN2vrSNpIETFPd6/L4bWYgPCwUyqT4x5XtdtMS2d9z3GqZJlC0Uh9gSH7X3\n",
       "b7zrz2ngFs3I6x6/ERPQ/JSKDAaHWWOjNgQ2zczPdg1nyW0t/SezYarOfNn8KAOyIdLcqNsvqFus\n",
       "IfKw47i3ghgCB40kD20XAHpmlDlimKCLnegnQ7xv+sWiaeqHT5Nuv6v8/g2YJsq9Qu0yBCYtUUDM\n",
       "WINBKH/p1nXTtaXzU3Tn/GLQ2XqygmD7yWksY6CUoX7ykrh/U05azRL3U34itGiWK5mlWd7tp2LC\n",
       "lZ/M8iOwkaEbbD0DfcL+MYFFC8/Q9SRIKSKukmq9j+ULm9p6l59chxbLrzUJWk4g3c3l8gxdcZ4/\n",
       "eE6YTQtp5PwxNIFd2SwPF0yzU2gVOv0BGptIlTb9FoZOahgmo4yUSiWVoWiO1msfP5uGxzlSrynq\n",
       "2PB+tsD9ImzXlfmHhmLT4DR7P0QK1vGli54RkY+fv8DoXc2P5H5ez3gLZZ3yAMqgSn7lBEbvGZ+3\n",
       "4zPwgkBbG0QUVEVRRQGrPpLu43fYLAiw3qZu1K6JoooChVafmN8HhUSI0vmU79dB7etyogoCqYX2\n",
       "rSvf+R+2EPp1NICBsQAAAABJRU5ErkJggg==\n",
       "\" style=\"display:inline;vertical-align:middle;\" /></a></span>"
      ],
      "text/plain": [
       "|- ({1, 2, 3} equiv {2, 3, a}) in BOOLEAN"
      ]
     },
     "metadata": {},
     "output_type": "display_data"
    }
   ],
   "source": [
    "SetEquiv(Set(one, two, three), Set(two, three, a)).deduce_in_bool(assumptions=[Equals(a, one)])"
   ]
  },
  {
   "cell_type": "markdown",
   "metadata": {},
   "source": [
    "### Testing the `SetNotEquiv.derive_reversed()` method<br/>\n",
    "\n",
    "The `derive_reversed()` method has the following format:<br/>\n",
    "\n",
    "<div style=\"width: 50%; border: 1px solid green; padding: 5px; margin: 20px; background-color: gainsboro; font-family:courier\">derive_reversed(**defaults_config)</div>\n",
    "\n",
    "and from A not_equiv B attempts to derive B not_equiv A. This derivation is also an automatic side-effect in the side_effects() method."
   ]
  },
  {
   "cell_type": "code",
   "execution_count": 40,
   "metadata": {},
   "outputs": [
    {
     "data": {
      "text/html": [
       "<span style=\"font-size:20px;\"><a class=\"ProveItLink\" href=\"../__pv_it/axioms/040e9a1f9b739ee8859835262ddf22eb997ee4790/expr.ipynb\"><img src=\"data:image/png;base64,iVBORw0KGgoAAAANSUhEUgAAADsAAAATBAMAAADc9GjbAAAAMFBMVEX///8AAAAAAAAAAAAAAAAA\n",
       "AAAAAAAAAAAAAAAAAAAAAAAAAAAAAAAAAAAAAAAAAAAv3aB7AAAAD3RSTlMAIs1UmauJMnZmRLsQ\n",
       "3e++988cAAAACXBIWXMAAA7EAAAOxAGVKw4bAAABHklEQVQoz2NgAAEhBrxAH8FkhFCc+7+GBm2H\n",
       "sJn/I6RhBvFtYGCILwAzWeIFQBSXvgYDw3YOiLR8AwPDegcwMzEfrKx2uvUrZofTEOn5QKH5DWDr\n",
       "GvoNQHQgA8PafYtvQaTjgVgPbCgLg/0EEA1Sq/fJACL9moHh6HUwazFDfQLM3QpQBvvvjlZNCNOB\n",
       "QT4AKsq6AMrg+MjAYAc2k2OLS/wGqOhqmP+4HzAwsH0HsU4wMPBfADF87979e/fuVbA0P9A8zh8Q\n",
       "sxl4H0DDCuYGhnqgway/QIEBZDB9gAjywgOvH+inepA75UA2fYQIZsKl9YD6Hh1gYDj9X4eBef8n\n",
       "kKm+997ehdod/T80VNsALeLg3sIOqvFH+3b80gUYIgAmy0ZTyExn/wAAAABJRU5ErkJggg==\n",
       "\" style=\"display:inline;vertical-align:middle;\" /></a> <a class=\"ProveItLink\" href=\"../__pv_it/demonstrations/0127ed9cafe9a3850521ccd9f3d822acafb1b9da0/proof.ipynb\" style=\"text-decoration: none\">&nbsp;&#x22A2;&nbsp;&nbsp;</a><a class=\"ProveItLink\" href=\"../__pv_it/theorems/81adfd4b67c4f3bd7b302abb473517e45d0afc400/expr.ipynb\"><img src=\"data:image/png;base64,iVBORw0KGgoAAAANSUhEUgAAADsAAAATBAMAAADc9GjbAAAAMFBMVEX///8AAAAAAAAAAAAAAAAA\n",
       "AAAAAAAAAAAAAAAAAAAAAAAAAAAAAAAAAAAAAAAAAAAv3aB7AAAAD3RSTlMAZrurzTLvInZEmRDd\n",
       "VIkafcLnAAAACXBIWXMAAA7EAAAOxAGVKw4bAAABGUlEQVQoz2NgwA1KwKTQf2NjpwC4YAGc5Q+h\n",
       "khgYmL/CxNgdYCze/xCBHwwMnL9ArClfGhiYAhqg0lz2YIMYgToZgUoYWA/Gqk24xa0AlX7+Hmwj\n",
       "8wcGBpZ0EKOAgfNQ5p0JUFsa+i+AaDYFBm4bkEIOIGbJ94WZzXBfAETHa3SYCKB6BgTmMsQ/ANH9\n",
       "BQy8iTBBS7j0AoZ6AxCtBsTvof7mhLmLgUNrlT2Y8xmI5UG+4Tpz5vyZM2fAehh2MDDwHwB55yOQ\n",
       "sIc6Vw7JbAaeBJAp34FKvkAFD8BkOYGOZfkA8gpQzTRviCAf3AdlQMwE1Mis/9nYRBfi0zNpZ6B2\n",
       "b/rvzcCr/+UBahRaMuADrAp4pZkC8OvGEAEAtC1BYqSv/IkAAAAASUVORK5CYII=\n",
       "\" style=\"display:inline;vertical-align:middle;\" /></a></span>"
      ],
      "text/plain": [
       "{A not_equiv B} |- B not_equiv A"
      ]
     },
     "metadata": {},
     "output_type": "display_data"
    }
   ],
   "source": [
    "SetNotEquiv(A, B).derive_reversed(assumptions=[SetNotEquiv(A, B)])"
   ]
  },
  {
   "cell_type": "code",
   "execution_count": 41,
   "metadata": {},
   "outputs": [
    {
     "data": {
      "text/html": [
       "<span style=\"font-size:20px;\"><a class=\"ProveItLink\" href=\"../__pv_it/demonstrations/e9d59e687c6547a5e9b9d1b93e78eaf44c9577650/expr.ipynb\"><img src=\"data:image/png;base64,iVBORw0KGgoAAAANSUhEUgAAAKMAAAAVBAMAAADY0UPbAAAAMFBMVEX///8AAAAAAAAAAAAAAAAA\n",
       "AAAAAAAAAAAAAAAAAAAAAAAAAAAAAAAAAAAAAAAAAAAv3aB7AAAAD3RSTlMAEER2zVSJ3Zki72ar\n",
       "MruaaVGaAAAACXBIWXMAAA7EAAAOxAGVKw4bAAACe0lEQVQ4y4VVQWgTQRR9mzXbpknaBW9SWhVE\n",
       "TxJQPEgPUS/iQdeL0osJeEixCiroggrNoZCcUkFRkaJSD0WFGvBcCFQRLdLcRBDBehGxaEyiiEid\n",
       "+TOzO5vdtQO782b2vTd/5/+dBWBsR1xLjUfNxgsUf++2WEu8/xgx+R+B4Cdb7Ja9oNapHm0KdGti\n",
       "ld2/6jGIjgReG5kPeBLfOg8MTyvaPVg/xNuVUXCAkka/KTou0NrhwKjkMUxl+Qp4TMDsYjTvWSaO\n",
       "HQLWzCjL7kaWT22sXCeTOQz5lm8XT80lyyMRlonWRpYvgRW5mSjUPUsW/M4vOy5GWPbEHGHJ2pRa\n",
       "/yo8yxy7jnQc32T29A3xZNPSmCPN9yxKfn8+aJlty37sDbvv9/Odl4ALEo/wzabR6AHjt3h+CTXJ\n",
       "v1sPWvY1FOIZv++oUWarBFywpY6KJNl4KHRFDjh/9iCCljUPDbBJ47ny3C17EswAl8VwGvhJYIai\n",
       "5vxszQ5YpmWQ2SYGWX1YtCIqrvvLda/RAy5YgCHKlzknRBktiA3l/MFGwPIEUlREQy2yLNhqqaJi\n",
       "MIHRRvq7Kst+0hpttQ9axg2KoQjT5migQS9+xttivWyMLjL5cXD5X76vHPxhSZN8srRY1vjHgtvV\n",
       "aoVQuq7XJTAZqMRPOFkuGx02WsZnEGA5OKfVZeZ1Zxl9/OiYWl/vCLSruurXZeXKvCv3UhwK+94t\n",
       "NeGy6IYn2MIcWJPPbL3UqR1HGJV6S0gXJO1e0GvpJUBDyvJD1CdohYDgmw/UYZ1DCPGyo7bmW3oC\n",
       "bA4BwU+p08n0Rf4/4YkETe0k9o6zXAhI/p0X8f+es07EbLyA+P8AdVWs8x2aB4oAAAAASUVORK5C\n",
       "YII=\n",
       "\" style=\"display:inline;vertical-align:middle;\" /></a> <a class=\"ProveItLink\" href=\"../__pv_it/demonstrations/1f5f0eb16f98aa5fee683e2af89c2fc2b541ff3c0/proof.ipynb\" style=\"text-decoration: none\">&nbsp;&#x22A2;&nbsp;&nbsp;</a><a class=\"ProveItLink\" href=\"../__pv_it/demonstrations/0fb452e04ab103fdc3cb73186046fa01107654530/expr.ipynb\"><img src=\"data:image/png;base64,iVBORw0KGgoAAAANSUhEUgAAAKMAAAAVBAMAAADY0UPbAAAAMFBMVEX///8AAAAAAAAAAAAAAAAA\n",
       "AAAAAAAAAAAAAAAAAAAAAAAAAAAAAAAAAAAAAAAAAAAv3aB7AAAAD3RSTlMAEER2zVSJ3Zki72ar\n",
       "MruaaVGaAAAACXBIWXMAAA7EAAAOxAGVKw4bAAACe0lEQVQ4y4WVP2hTURTGv5uYv81Lg24SbBQH\n",
       "x4jiIB1iQHCMU+2UgENLVYyDfUKlZgiYQdqCIlUKljqIFmpAcFIIbV0sQhZFQTCti4hio4kgUuL9\n",
       "n/dyX+xb3ndPzvd759577g0Acgh9nsioV3RvCrsZjh/sm/Jx04z5swnsYgg0nbEDj1wp3xx6Trzy\n",
       "jGhdkcH58nep7o5vKUOw6IKccY3GHJPKdEPJsqwj0sBlsQ6khHxOGnqQbS/k4VYa8Xq6G/JLZGwO\n",
       "0UWxHm0MZTyRvqYH0pp6+zV1jjRMZLSJ2B9hXMKgN7Kn5jFVi296aSTlUWURsR2VnK86kQvnb4vw\n",
       "nrXhnIQfe6mQfvbD09MwkfQJbasJTqlfw7Rc32P8EK0xdIqIiUSuYgY4qZ13lCj3ID+JJYY1/AbS\n",
       "cJ+Wu7+Km7pFHoqPF5h4kFPOVbXxyz3I61qxHWeGhSwdzAKTuobfXMzyqsm6ZPoakrieciPDDY2k\n",
       "e8UN1gz1roD8FOFJ+EQbrYgFzXKbbd+wbbvG9PtNN/KFfFt1xNvSEK+B/MLAtmrLMM+mIX1U2PPc\n",
       "faA0MlDAPS4GmxzJDXTHSRuxzCjYaIetKxN/6WSBCQUquvuKIQkT74CjPD9a4xOfUE30GSOlEmnR\n",
       "0Qa+gAu63Ze6BzJYdSODtC3YYYlcq1SKPH+g6u7L5IkPa3XY9GvJcRpnInjhWUIhw/YTW60lD8Ve\n",
       "tzYQoldHqNPpZHg+jlS2YJyeQKJX6CpXvW6Ss4bRQAYNofxWwwtZMPPlSi+q4T5DiKNCu6LeNekD\n",
       "RdJmvjBE9HWWNgRZllU6bhJ9oPww8pVh/lXfv5KLOY/grRz+a/gHUSGutZEdStgAAAAASUVORK5C\n",
       "YII=\n",
       "\" style=\"display:inline;vertical-align:middle;\" /></a></span>"
      ],
      "text/plain": [
       "{{1, 2, 3} not_equiv {a, b, c}} |- {a, b, c} not_equiv {1, 2, 3}"
      ]
     },
     "metadata": {},
     "output_type": "display_data"
    }
   ],
   "source": [
    "SetNotEquiv(Set(one, two , three), Set(a, b, c)).derive_reversed(\n",
    "        assumptions=[SetNotEquiv(Set(one, two , three), Set(a, b, c))])"
   ]
  },
  {
   "cell_type": "code",
   "execution_count": 42,
   "metadata": {},
   "outputs": [
    {
     "data": {
      "text/html": [
       "<span style=\"font-size:20px;\"><a class=\"ProveItLink\" href=\"../__pv_it/demonstrations/58dcddaa3f0586712b8202dfe79de39ff71997770/expr.ipynb\"><img src=\"data:image/png;base64,iVBORw0KGgoAAAANSUhEUgAAADoAAAATBAMAAAAzNgPlAAAAMFBMVEX///8AAAAAAAAAAAAAAAAA\n",
       "AAAAAAAAAAAAAAAAAAAAAAAAAAAAAAAAAAAAAAAAAAAv3aB7AAAAD3RSTlMAIs1UmauJMnZmRLsQ\n",
       "3e++988cAAAACXBIWXMAAA7EAAAOxAGVKw4bAAABEUlEQVQoz2NgAAEhBlTAqbf7072dMJ4+QoIR\n",
       "THIzBnBF7oGIMP9HyApBZRMYNpRCRFjiBUAUl74GA8N2DpisIxNENjG/AETVTrd+xexwGi7LDbGq\n",
       "od8ARAcyMKzdt/gWTDbmKMRgBvsJILoBiPU+GUBl2TcrgmUXM9QnwFyswAB11aP7Nw6AmQ4M8gFQ\n",
       "WdYFMNnMORCFHFtc4jdAZVczwGQT9swEs04wMPBfADF87979e/fuVahsCfcBiMEMvA+gIZiA0MtS\n",
       "CDKQC+hepg8QQV4GhCzPhk4gQw7E+QgRzETIOjDM5F7AcPq/DgPz/k8gI33vvb0LsRcYR78FuDd9\n",
       "Rok4mH+wg2p8kgzb8coWoAsAAIe2R0KQ4XqrAAAAAElFTkSuQmCC\n",
       "\" style=\"display:inline;vertical-align:middle;\" /></a> <a class=\"ProveItLink\" href=\"../__pv_it/demonstrations/ae0b63db446b1fd28b83a6650c49ba39ef20ad770/proof.ipynb\" style=\"text-decoration: none\">&nbsp;&#x22A2;&nbsp;&nbsp;</a><a class=\"ProveItLink\" href=\"../__pv_it/demonstrations/5c97329577cceffe81118c474f22fba6b52eb5870/expr.ipynb\"><img src=\"data:image/png;base64,iVBORw0KGgoAAAANSUhEUgAAADkAAAATBAMAAADYAbjmAAAAMFBMVEX///8AAAAAAAAAAAAAAAAA\n",
       "AAAAAAAAAAAAAAAAAAAAAAAAAAAAAAAAAAAAAAAAAAAv3aB7AAAAD3RSTlMAZs3vu90iq0QQiTKZ\n",
       "VHZ+Ip2vAAAACXBIWXMAAA7EAAAOxAGVKw4bAAABDElEQVQoz2MQMvFXNRFgwAKSQIRDOkO7yAS4\n",
       "WAKcpQ+WzWJg4S6ACbEpwFi8/6GyPAlgsaZPDxhYNjyAyvLUJ8BkHYAM7sC9zg13OB2gssvWb4DI\n",
       "ss8EmcyewMARYnG1AWrFg/cXILJbLoEM4QNiJntdmMEM90E+cUhW/foSxRdg0MuwfwFYr+AkuFgF\n",
       "nHWAIb8ALMsyERYaHDAnMfD5nKl3AMtyH/AE2xQaGh8aGgrx+jwGBv4AiKtOp0B1SCEZzMBqAJGd\n",
       "wgc1OgAmyQEUYPoAks1hYBTwAItxwWMjGYhZvjEwAOPIjcFF/wLIXuNQqL1T/msy8Pp/WoASZxUM\n",
       "eAC3Az5Zlg149WKIAACRx0AHqE/5XwAAAABJRU5ErkJggg==\n",
       "\" style=\"display:inline;vertical-align:middle;\" /></a></span>"
      ],
      "text/plain": [
       "{A not_equiv Real} |- Real not_equiv A"
      ]
     },
     "metadata": {},
     "output_type": "display_data"
    }
   ],
   "source": [
    "# We can use standard pre-defined sets as well\n",
    "SetNotEquiv(A, Real).derive_reversed(assumptions=[SetNotEquiv(A, Real)])"
   ]
  },
  {
   "cell_type": "code",
   "execution_count": 43,
   "metadata": {},
   "outputs": [
    {
     "name": "stdout",
     "output_type": "stream",
     "text": [
      "InstantiationFailure: Proof step failed:\n",
      "Attempting to instantiate |- forall_{A, B | A not_equiv B} (B not_equiv A) with {A: {1, 2, 3}, B: {a, b, c}}:\n",
      "Unsatisfied condition: {1, 2, 3} not_equiv {a, b, c}. For debugging purposes, this is accessible via Instantiation.unsatisfied_condition with applicable assumptions in Instantiation.condition_assumptions.\n"
     ]
    }
   ],
   "source": [
    "# We must already know or assume that the SetNotEquiv holds in one direction\n",
    "try:\n",
    "    SetNotEquiv(Set(one, two , three), Set(a, b, c)).derive_reversed()\n",
    "    assert False, \"Should not make it this far!\"\n",
    "except InstantiationFailure as the_error:\n",
    "    print(\"InstantiationFailure: {}\".format(the_error))"
   ]
  },
  {
   "cell_type": "markdown",
   "metadata": {},
   "source": [
    "### Testing the `SetNotEquiv.definition()` method<br/>\n",
    "\n",
    "The `definition()` method has the following format:<br/>\n",
    "\n",
    "<div style=\"width: 50%; border: 1px solid green; padding: 5px; margin: 20px; background-color: gainsboro; font-family:courier\">definition(**defaults_config):</div>\n",
    "\n",
    "and returns (A not_equiv B) = Not(A equiv B) starting with self (A not_equiv B)."
   ]
  },
  {
   "cell_type": "code",
   "execution_count": 44,
   "metadata": {},
   "outputs": [
    {
     "data": {
      "text/html": [
       "<span style=\"font-size:20px;\"> <a class=\"ProveItLink\" href=\"../__pv_it/demonstrations/24edf29d73bd63828f995a7a1e6fbeacb00839ce0/proof.ipynb\" style=\"text-decoration: none\">&nbsp;&#x22A2;&nbsp;&nbsp;</a><a class=\"ProveItLink\" href=\"../__pv_it/axioms/b0bcc8f24b80642a25521f93ec65bd4aafc04ce50/expr.ipynb\"><img src=\"data:image/png;base64,iVBORw0KGgoAAAANSUhEUgAAANEAAAAVBAMAAAAqbRZ+AAAAMFBMVEX///8AAAAAAAAAAAAAAAAA\n",
       "AAAAAAAAAAAAAAAAAAAAAAAAAAAAAAAAAAAAAAAAAAAv3aB7AAAAD3RSTlMAInZUiRDNmWbv3US7\n",
       "qzJazP2FAAAACXBIWXMAAA7EAAAOxAGVKw4bAAAC5klEQVRIx4VVTWgTURCeZLNp/luKCIrQqJce\n",
       "1ORQCpVC682LGDx4ilDEggG1ORRaCoWeLIjYXPRgPURyqsUS7EVFMPYiXpJ4EQRDchOCkPpD0doa\n",
       "583s275923YffJm3szPfzJuZfQGAPjh0+fZT9nkZaLZk70/T89GDDKNJt87y4XWa400cRPDCAgzx\n",
       "85QryVBtt/GpCjDodh5S9sY4ieAmCfNzSWSiEvgXgGByLkZ3z1ceL1wBaLYgmNEDmWr+V1mMcaTI\n",
       "uXsYOe4gmMQtomeBlD1NKmV06jpAlVOCAazb2zyE8noky4fXLIv57yQGwbwN8NVBsIhbRJiVFy63\n",
       "hGg/GF028lnWLaFqCY0f6pHC6kOBfgNH/pGs44HuRJ86CMJYFMQwtyaZoiZ/BHj9YX2VDZuIHB71\n",
       "ph5pWG0TV7Lf/5OkaFrqT9lBEMQSIKa5HjBGFRFzltuyJusJwLU1lJf0SNNqJXkg8sbvPZ1srEUQ\n",
       "qBM44XXojMvJk+1O7Jw6S2/vEuMzWnWxVw8ZpAyj6cQv14RKgtAEocQpwUDdeh8vy48GezwieEZ0\n",
       "ipIMjLMSSXNNfLv0ao70zx0ERoGwTLr3M82KRfNG8sXQICD63NEjLcvjY3ZhSuzMzPyO60ySILFJ\n",
       "IK8rAL1FK6VtmVIv8oR+4OaVZyQT+7vtiiQJogVCiYsHkYJ1M8h+QQcPHv+Lm/N6n0pKJKpeD2LF\n",
       "FUkSGEXChujngn2bQMQ2TOGAd8R43NcpNmQkzDAmxvWlfZ2pfZIEoQpBjPAxUVT+xuGizZfDFB5l\n",
       "tKGmpY69GGGfqEfN9Z8gCcSHgGgDZLuTYNS2RNnmVh7LlL50G41bNFirOkVbHeUimLWtDIx2b2hW\n",
       "NkGkTIi0HK/tGVeu9qKucfisgdc6ztDuz29uQ8d9ylOj+ix6Rpq18M6hrboNT7hVqk/M4z8bfBUG\n",
       "ZB3q1uG01lJ9zIpHJJEKpeNLHm7o3ydnh0+/R6STjP8QRNfupEdOJQAAAABJRU5ErkJggg==\n",
       "\" style=\"display:inline;vertical-align:middle;\" /></a></span>"
      ],
      "text/plain": [
       "|- (A not_equiv B) = [not](A equiv B)"
      ]
     },
     "metadata": {},
     "output_type": "display_data"
    }
   ],
   "source": [
    "SetNotEquiv(A, B).definition()"
   ]
  },
  {
   "cell_type": "code",
   "execution_count": 45,
   "metadata": {},
   "outputs": [
    {
     "data": {
      "text/html": [
       "<span style=\"font-size:20px;\"> <a class=\"ProveItLink\" href=\"../__pv_it/demonstrations/6b78ae28d94d45f7fb6a3fb6e3ac6ecccfa8495f0/proof.ipynb\" style=\"text-decoration: none\">&nbsp;&#x22A2;&nbsp;&nbsp;</a><a class=\"ProveItLink\" href=\"../__pv_it/demonstrations/b1ae66fa310c78a8914358ccdbaa616ab92e9fe10/expr.ipynb\"><img src=\"data:image/png;base64,iVBORw0KGgoAAAANSUhEUgAAAaoAAAAVBAMAAADlSrfRAAAAMFBMVEX///8AAAAAAAAAAAAAAAAA\n",
       "AAAAAAAAAAAAAAAAAAAAAAAAAAAAAAAAAAAAAAAAAAAv3aB7AAAAD3RSTlMAInZUiRDNmWbv3US7\n",
       "qzJazP2FAAAACXBIWXMAAA7EAAAOxAGVKw4bAAAECUlEQVRYw5VYTWgTQRT+Ns02JmlC/EFRKgZE\n",
       "qRftoVbsxRzEg1AMHhRRMeBF8PdQjEiFHERFFHoRLEVaKaK0anNRqF5SwYMHNSIo/mFQQejB+oNF\n",
       "EYwzszuT2Z2JMx147NvN+9733ts3szMBkAGwu4xmY2FG99QEcHS/yJ6ogXsfc6M1AhxOHekkcjDf\n",
       "1Dr9VvObEZDMakCd0s1KIqvvYG60RgClZdRdRDZRD9PczZLjT/x6bu4nr6StqpbbDOhQebskvSVH\n",
       "5CckL07xUE1D674apQXxQGZAhydugVy3kuvLo9y6gm1ef+1Eyw8gOiL1TcG7mgGtSqndgnSzA55d\n",
       "w0s7on+g0ibWnicFSDHdAkBpicRKXpDAOt86lUF8gGnrOt3ZRlZ3Z7Noq2V5VgbAvGPhrBgTHyfA\n",
       "HXMvz4BBqLQdcA8Dn0VWBgClJRJXgoz/ROob0ybLaLhP3/j4qLzBrcAScCmcVVy+GVCCHM7jfUal\n",
       "JW2VOpK8qslKD7jEpFst/QhSf3n7/xLuyRtJ3hzqKcMScCCcVbc8rQpKkK+B9zWVNkdNfpc1WekB\n",
       "B5j0KUHSZv7qK/dKwj2dsK3D+wFLQG84qz65G3NKkGRMQKVlwzexAfQyYSU9HrKe8dflD+9IMSID\n",
       "4vlirlgAzrDox9iohl9eK51jsULQS/o79LSiFhaAM0zouulcDgV5S3QKWVucH+L5G74UWgA2hmMa\n",
       "5UmSCZ2gn66lpaCXRFVDe5JBPP82gI1Mhsjti3LQOlYRoZApib1+2yHpP7cCzISzGuIlIbHEiYPl\n",
       "BxH00g89LR9WgBkmlOvzw6D1Rf/6BXhKirql7DfTBG8mG8CkKat0fz7gZV5VRyvvHmwAk0xoB+Jx\n",
       "wJp89+czpZ6n1t4XnY7TgsAC0BOeV6NSVqwDvd2D8NIFJ6OlFcMG0MPkQWBJY4BPwCqmXWFvNiqm\n",
       "bWNVsgBcCMf0gGdF5lVbNrCkUWw6h0jeRZhWnlc2gAtMekWQ2zKgn2g414vFEaadkz8cRCkFs/o/\n",
       "oC+clbzUR6siSO5lWbF4EvsKKq2EsgD0MZnmQb4bPlzCGClCol6vF5iWLNJdo+8+NjYomskGMB6O\n",
       "aVqeIiM8SOFlol6fReIaQrRKVgbAOJNEjZeezZC8qgn3bxB8V/8FOEpQiZp0c1t2LGHXQ6GF5lFT\n",
       "AKUlwnahIsgoNJrvK13RZNUUENjLekuWvN89Gwiygc3ZZdUUQGmpTBF9Df9lO1Qt5p8g2qRamwHt\n",
       "6vlqSl7OMvLuQWDdrEIrHzvNgHZf9hBZwU+pDZuGtsuvelrybwZMqVntkQ9bFXnTIrARKLTyvwJm\n",
       "wJQvDrFwTnU2PTkveq55aARENH87OPKpfwE9Qz/H3GiNAEpL5B/2MMYEO2F8aAAAAABJRU5ErkJg\n",
       "gg==\n",
       "\" style=\"display:inline;vertical-align:middle;\" /></a></span>"
      ],
      "text/plain": [
       "|- ({1, 2, 3} not_equiv {1, 2, 3}) = [not]({1, 2, 3} equiv {1, 2, 3})"
      ]
     },
     "metadata": {},
     "output_type": "display_data"
    }
   ],
   "source": [
    "# Notice the definition does not depend on the Truth of the SetNotEquiv claim:\n",
    "SetNotEquiv(Set(one, two, three), Set(one, two, three)).definition()"
   ]
  },
  {
   "cell_type": "code",
   "execution_count": 46,
   "metadata": {},
   "outputs": [
    {
     "data": {
      "text/html": [
       "<span style=\"font-size:20px;\"> <a class=\"ProveItLink\" href=\"../__pv_it/demonstrations/b4a94d2084fc6f549e5f046c524b7ddf5a3785050/proof.ipynb\" style=\"text-decoration: none\">&nbsp;&#x22A2;&nbsp;&nbsp;</a><a class=\"ProveItLink\" href=\"../__pv_it/demonstrations/dbd7f84706143d3d249e916dd6d0883081ad34b00/expr.ipynb\"><img src=\"data:image/png;base64,iVBORw0KGgoAAAANSUhEUgAAAaUAAAAVBAMAAAAUQexcAAAAMFBMVEX///8AAAAAAAAAAAAAAAAA\n",
       "AAAAAAAAAAAAAAAAAAAAAAAAAAAAAAAAAAAAAAAAAAAv3aB7AAAAD3RSTlMAInZUiRDNmWbv3US7\n",
       "qzJazP2FAAAACXBIWXMAAA7EAAAOxAGVKw4bAAAFjElEQVRYw4VYa2gcVRQ+s7uTzT6zalEMFreV\n",
       "SvzRdoWkYv9kkWI10HboD0WM7EIpCjGaHyErJeIgYov4WAQhNUpWUmmJjyyCSvRHN4UipaixLfFR\n",
       "axcVCgFtbExQhK7nnvuYO3Nn04GTnDv3PO537rnnnlkAyAHA43Vo91j3hr1tr0DyVthMTpdCsr9s\n",
       "6xRuyYW8XEeB5CVBpIA05LQ3/8dp8916Ckw+lQ/RKWiDu5Du/rS90+zPIQ7WUSD5T4AT9CL1MwNL\n",
       "0sptY98IbsPus/j3azPW/T6Pg2/77DP5HtNtr8ZHi0iroHm1Kk83BbdrHJMgvcC35sdpFg6utOrb\n",
       "tDM1fcjkIy4nu4wvBvD/989K6w3YxzPLHoH+As2qlCnz/wP+5T7pG7HJDiPMdlkbPIIUq+le74DY\n",
       "f5x7FKIrfBaf5LZXEH6G+JgPBHSM6COaPMgp7solbhfWMzlIVHm2rECprAB8tpaHdDMfhmnFwNQ5\n",
       "EsREjuTznFqi9PodwFHObS/YawpAD9jDAFfCMHUVDEyHOSUgiCmxCpm/iEtNQpfClD3x25n6fXYj\n",
       "BFNq1cAEbwUxJfRB1cA05cBlnthzdfAwYUZlnkm9F4bppGNgSjhEOwxMmRpkrkvRflcCwO1LfTi5\n",
       "sx6CKeCMJp8KYtqhH6eygekngMtNOf2PsllkIv/W27rxr6HDJRo1MLEsXpY7cEIps3PaMXXAs2dd\n",
       "2CSqW8e5rSIPYptfF/J7gphG9TwsGpjwmZXMF64fgKMt2/M6vPm8mH+gp8knYwtEFM+xgPWrQi27\n",
       "9Rf8e496f6tkmMJcLi1yrnTQ5slqTcO4kH+Z1j5Dz0Jw41g8IV72e81eE8yvl3DDIlWjcJKC8mqv\n",
       "OSWerN2FeIPLd5aJWKm0JgKYPlIcq3t3qsN4UZY/VLAnIF5Tlf1Nvr9FxpD8/cEVTUuIWD2STOJ2\n",
       "1+81uaBSE2uOxevOIVLh62EKnles7Ake+mOMIflolWgS1RfrfuvxhneyMSj2ogCVEu9JIb7MIMhd\n",
       "+5uYF8gEyV8NYpqU8cClJ1B/4xD4vY57slgw4IkDAQOk4HnFXesiLs73jclnl4mYqyun/dZfk9nQ\n",
       "hDS7KoZEHs3KPGIKiQaURIN0DFI8qu/wvGfyczfClB13fF475Tb9CfAtBuXBYPdFCp5XhHaSYp3g\n",
       "kWbyqSrRtLz5Pet4yd/Eb4BVwqSahpf0VqGUhzfU9cRjZV/zmoydwfM0rWGi3OOdgvLaCxY/Hi2H\n",
       "YfI3DapV8Lzi9cTTopRXTUa0RnTKV/dI6HeALcQlFij3HpZGa3odLRVgMZqz2eg6POaSAtbglJB/\n",
       "NbiiUxITnqd03lf3mGq2CBGHrL1LuRerGueJKXheu5p4tojBY1bn8p0Noj0K074csAscrOOVSo24\n",
       "Tle7n9Cmq2NK56PH49RnwA/wFVfFI7FXyI8GMenFndVcgUl67a5UDnFrR/T7KXgFeV4zbnqEGDz9\n",
       "MVHL2R2BtCQxXZoadmEGQ5ZstVpl4uDzyll1P8Vnjqo8ogbx3N6N2yD5PjueuxEtU4g99KIj5D8I\n",
       "rmhJPxo1iUl5nW211ri1VIX1sG0weV7tC9hgkcKuI1uEfLJOlGzqV3LUMTk1ezHsDu8zFehCNpaU\n",
       "bGqDj31tgafa1643CbzqMxia7OZEzaZaYgxMTs5mG2GYiqbCQLBj5XVN72oP+5YYM63dAFPRdF8T\n",
       "rTGjeb1T2A8mx7sMTGUt0ErBzpsKY/TpYDzzegnL6Z3CftOa6DL8H5VVQ85TYPL4lUQEg6B1Cp5N\n",
       "j7MnxD5p5pVCxFQg+XkT06D+MdVQnYKu6lljldT4VWDFkIv45FmkGIGFFq3nC+1/j9gTMreOAslH\n",
       "Qn5OsPTv+ZvZ9/T59t/uG8Lm1lEg+U2c/geJWJtfs/ArYAAAAABJRU5ErkJggg==\n",
       "\" style=\"display:inline;vertical-align:middle;\" /></a></span>"
      ],
      "text/plain": [
       "|- ({1, 2, 3} not_equiv {a, b, c}) = [not]({1, 2, 3} equiv {a, b, c})"
      ]
     },
     "metadata": {},
     "output_type": "display_data"
    }
   ],
   "source": [
    "# Notice the definition does not depend on the Truth of the SetNotEquiv claim,\n",
    "# nor on any assumptions supplied:\n",
    "SetNotEquiv(Set(one, two, three), Set(a, b, c)).definition(assumptions=[Equals(a, one)])"
   ]
  },
  {
   "cell_type": "markdown",
   "metadata": {},
   "source": [
    "### Testing the `SetNotEquiv.unfold()` method<br/>\n",
    "\n",
    "The `unfold()` method has the following format:<br/>\n",
    "\n",
    "<div style=\"width: 50%; border: 1px solid green; padding: 5px; margin: 20px; background-color: gainsboro; font-family:courier\">unfold(**defaults_config):</div>\n",
    "\n",
    "and attempts to derive and return Not(SetEquiv(A, B)) from known or assumed SetNotEquiv(A, B)."
   ]
  },
  {
   "cell_type": "code",
   "execution_count": 47,
   "metadata": {},
   "outputs": [
    {
     "data": {
      "text/html": [
       "<span style=\"font-size:20px;\"><a class=\"ProveItLink\" href=\"../__pv_it/axioms/040e9a1f9b739ee8859835262ddf22eb997ee4790/expr.ipynb\"><img src=\"data:image/png;base64,iVBORw0KGgoAAAANSUhEUgAAADsAAAATBAMAAADc9GjbAAAAMFBMVEX///8AAAAAAAAAAAAAAAAA\n",
       "AAAAAAAAAAAAAAAAAAAAAAAAAAAAAAAAAAAAAAAAAAAv3aB7AAAAD3RSTlMAIs1UmauJMnZmRLsQ\n",
       "3e++988cAAAACXBIWXMAAA7EAAAOxAGVKw4bAAABHklEQVQoz2NgAAEhBrxAH8FkhFCc+7+GBm2H\n",
       "sJn/I6RhBvFtYGCILwAzWeIFQBSXvgYDw3YOiLR8AwPDegcwMzEfrKx2uvUrZofTEOn5QKH5DWDr\n",
       "GvoNQHQgA8PafYtvQaTjgVgPbCgLg/0EEA1Sq/fJACL9moHh6HUwazFDfQLM3QpQBvvvjlZNCNOB\n",
       "QT4AKsq6AMrg+MjAYAc2k2OLS/wGqOhqmP+4HzAwsH0HsU4wMPBfADF87979e/fuVbA0P9A8zh8Q\n",
       "sxl4H0DDCuYGhnqgway/QIEBZDB9gAjywgOvH+inepA75UA2fYQIZsKl9YD6Hh1gYDj9X4eBef8n\n",
       "kKm+997ehdod/T80VNsALeLg3sIOqvFH+3b80gUYIgAmy0ZTyExn/wAAAABJRU5ErkJggg==\n",
       "\" style=\"display:inline;vertical-align:middle;\" /></a> <a class=\"ProveItLink\" href=\"../__pv_it/demonstrations/deeaabf7ff55b0feac61e6b9a5f14b68e027a47e0/proof.ipynb\" style=\"text-decoration: none\">&nbsp;&#x22A2;&nbsp;&nbsp;</a><a class=\"ProveItLink\" href=\"../__pv_it/axioms/bb2eac1bdd2ce216d9324209ccfd47261e333bcc0/expr.ipynb\"><img src=\"data:image/png;base64,iVBORw0KGgoAAAANSUhEUgAAAFoAAAAVBAMAAAA0iOSIAAAAMFBMVEX///8AAAAAAAAAAAAAAAAA\n",
       "AAAAAAAAAAAAAAAAAAAAAAAAAAAAAAAAAAAAAAAAAAAv3aB7AAAAD3RSTlMAmd0iq3ZUiRDNZu9E\n",
       "uzLWhN+VAAAACXBIWXMAAA7EAAAOxAGVKw4bAAABeUlEQVQoz2NgQAADBryAGYXHmgCmLHGp5glA\n",
       "5qVDqPkQqmUTSDNEwdr/Li5zHzBEISnmmACm2P5DuKqv1IGkA4Szl4GB5R8DZwNCNeMCCOUPdj7r\n",
       "AoZOBwY+AYiLvwLd8ZGBSwChmhtCFdc/AFEsQOz54BDE41z/gBioYwdCdSbEmIB4sGfZQeb/3wOR\n",
       "YvnAwMC5mYFhFkK1OMQhDPkLEF6BWXuBgcMJaGUJQjVE4zGG9wUYYff+aqgnyIyVDEJKQKAIZKqB\n",
       "JQQY7MHhwKgEBpAwiTdgYNsFpLMhmk2AGOxG1ouC/hcwzL4NxCDPv0dT3crAwK+AofoLEK8HRtRp\n",
       "hGo1iEMYmDagK+b7BST8DzAwJEH4hkB8FZQUgH7h/IDubtbPQB0/QSkAYQIoeKyBmPczutmcQNtO\n",
       "z4AHMhg8YmDo/T+Dge3+T7QgZLn/xcXzGoilgxBkesBAADAj+R85zWAHjAuQOJcJqbZF5vQSUo1i\n",
       "HHMAfsWsBgwA6E9SmsnrJU0AAAAASUVORK5CYII=\n",
       "\" style=\"display:inline;vertical-align:middle;\" /></a></span>"
      ],
      "text/plain": [
       "{A not_equiv B} |- [not](A equiv B)"
      ]
     },
     "metadata": {},
     "output_type": "display_data"
    }
   ],
   "source": [
    "SetNotEquiv(A, B).unfold(assumptions=[SetNotEquiv(A, B)])"
   ]
  },
  {
   "cell_type": "code",
   "execution_count": 48,
   "metadata": {},
   "outputs": [
    {
     "data": {
      "text/html": [
       "<span style=\"font-size:20px;\"><a class=\"ProveItLink\" href=\"../__pv_it/demonstrations/e9d59e687c6547a5e9b9d1b93e78eaf44c9577650/expr.ipynb\"><img src=\"data:image/png;base64,iVBORw0KGgoAAAANSUhEUgAAAKMAAAAVBAMAAADY0UPbAAAAMFBMVEX///8AAAAAAAAAAAAAAAAA\n",
       "AAAAAAAAAAAAAAAAAAAAAAAAAAAAAAAAAAAAAAAAAAAv3aB7AAAAD3RSTlMAEER2zVSJ3Zki72ar\n",
       "MruaaVGaAAAACXBIWXMAAA7EAAAOxAGVKw4bAAACe0lEQVQ4y4VVQWgTQRR9mzXbpknaBW9SWhVE\n",
       "TxJQPEgPUS/iQdeL0osJeEixCiroggrNoZCcUkFRkaJSD0WFGvBcCFQRLdLcRBDBehGxaEyiiEid\n",
       "+TOzO5vdtQO782b2vTd/5/+dBWBsR1xLjUfNxgsUf++2WEu8/xgx+R+B4Cdb7Ja9oNapHm0KdGti\n",
       "ld2/6jGIjgReG5kPeBLfOg8MTyvaPVg/xNuVUXCAkka/KTou0NrhwKjkMUxl+Qp4TMDsYjTvWSaO\n",
       "HQLWzCjL7kaWT22sXCeTOQz5lm8XT80lyyMRlonWRpYvgRW5mSjUPUsW/M4vOy5GWPbEHGHJ2pRa\n",
       "/yo8yxy7jnQc32T29A3xZNPSmCPN9yxKfn8+aJlty37sDbvv9/Odl4ALEo/wzabR6AHjt3h+CTXJ\n",
       "v1sPWvY1FOIZv++oUWarBFywpY6KJNl4KHRFDjh/9iCCljUPDbBJ47ny3C17EswAl8VwGvhJYIai\n",
       "5vxszQ5YpmWQ2SYGWX1YtCIqrvvLda/RAy5YgCHKlzknRBktiA3l/MFGwPIEUlREQy2yLNhqqaJi\n",
       "MIHRRvq7Kst+0hpttQ9axg2KoQjT5migQS9+xttivWyMLjL5cXD5X76vHPxhSZN8srRY1vjHgtvV\n",
       "aoVQuq7XJTAZqMRPOFkuGx02WsZnEGA5OKfVZeZ1Zxl9/OiYWl/vCLSruurXZeXKvCv3UhwK+94t\n",
       "NeGy6IYn2MIcWJPPbL3UqR1HGJV6S0gXJO1e0GvpJUBDyvJD1CdohYDgmw/UYZ1DCPGyo7bmW3oC\n",
       "bA4BwU+p08n0Rf4/4YkETe0k9o6zXAhI/p0X8f+es07EbLyA+P8AdVWs8x2aB4oAAAAASUVORK5C\n",
       "YII=\n",
       "\" style=\"display:inline;vertical-align:middle;\" /></a> <a class=\"ProveItLink\" href=\"../__pv_it/demonstrations/cb87b14c6e7078bdc8fb446883c8e6f44853c7b40/proof.ipynb\" style=\"text-decoration: none\">&nbsp;&#x22A2;&nbsp;&nbsp;</a><a class=\"ProveItLink\" href=\"../__pv_it/demonstrations/9dfbd54a65bdff75fe84c7590e077f0a02e145770/expr.ipynb\"><img src=\"data:image/png;base64,iVBORw0KGgoAAAANSUhEUgAAAMQAAAAVBAMAAADr6lzSAAAAMFBMVEX///8AAAAAAAAAAAAAAAAA\n",
       "AAAAAAAAAAAAAAAAAAAAAAAAAAAAAAAAAAAAAAAAAAAv3aB7AAAAD3RSTlMAmd0iq3ZUiRDNZu9E\n",
       "uzLWhN+VAAAACXBIWXMAAA7EAAAOxAGVKw4bAAAC1klEQVRIx41VP2hTQRj/kvfSvDYxTYpQMkjT\n",
       "oImIQ8SKk5ilQypIh4qiS2gHFYe0IS4K2iEdRKVxE+mQQQcHRSqClBaqq0ulFjoUjX9AcGlBrKlI\n",
       "43ff3b179y4pHtx73933+93v/nzfHYAqOaz3lqFTsSba9XYmEN7SukJFrHPTHSXg27rZtxeB4aOj\n",
       "3p7LWEuMEDsseo4lPwrr5NQGfj/wRnUeJwOcW9IU7s9rGgx/0dN2avgpsxGSTbHSFbjNt8GJQ6nI\n",
       "vVgO/cjiN092WZ/4A63FnN2eOQTqkhESEnYOIi/4dmzDbE2OF6rDnTzE4u0ktg2JnrhqR8AvEWmC\n",
       "/ZOs6CL0uhI21kLjba6NRLRpSMBr1b5qSNgpsHelu1SX44UZpLUIbSTCKVPikWr3GxJYgltyfkf0\n",
       "8RzvKEPXT/BW9/BYUYidey6cFUUitaRPYlPEXGzsLH4vmYHJCNGX8Ikf6uxDh++slYEDAv8U+tJY\n",
       "BtHMMM+CT+Kga7GIOk1TDKSpUEQR4W4d+kCG8Cu++klmEP4adw1hxc21Csu6RGBFRQN2OoWiL4GJ\n",
       "MACQddf0m4wBWhXhNzUJ+LyuSzwW/1gD9mE8huf8+0SEJXD+8mYWojxsl/iBMPw7JZGR+agkuibh\n",
       "OBm9TZIomZcFEpxf0LMl0yJAXOxyU39c3BRY17SIooj5DnABGCySp426Cf6zYARnG+zaBOF22bkw\n",
       "4w8GgcA/U/OpuBJhjAqWzNZgIpFydliK1j15YYT+GozH44QbgfdABobTLYHvV+AvkmGf2RmBIF6F\n",
       "wVarVYM0m9WbxAZ0lKie/zrcIFx1CifCjPCNJ9MCf1SBgw1tkCvS6JrWs9WU8OEUgTktT8LTfaUY\n",
       "k+6lAP8nETYJZXm7yrLqzV/HfUpm9FT2FZXwMyaB4U9p7wnI/GVR5XarZ8tZMCVcgsKNavhVLVXR\n",
       "Z+0vdn67K218exAIH8rBP3kluriRU2DHAAAAAElFTkSuQmCC\n",
       "\" style=\"display:inline;vertical-align:middle;\" /></a></span>"
      ],
      "text/plain": [
       "{{1, 2, 3} not_equiv {a, b, c}} |- [not]({1, 2, 3} equiv {a, b, c})"
      ]
     },
     "metadata": {},
     "output_type": "display_data"
    }
   ],
   "source": [
    "SetNotEquiv(Set(one, two , three), Set(a, b, c)).unfold(\n",
    "        assumptions=[SetNotEquiv(Set(one, two , three), Set(a, b, c))])"
   ]
  },
  {
   "cell_type": "code",
   "execution_count": 49,
   "metadata": {},
   "outputs": [
    {
     "data": {
      "text/html": [
       "<span style=\"font-size:20px;\"><a class=\"ProveItLink\" href=\"../__pv_it/demonstrations/c000ea33f96ac1a6c8b452ff5e1b32274fba8ce00/expr.ipynb\"><img src=\"data:image/png;base64,iVBORw0KGgoAAAANSUhEUgAAADsAAAATBAMAAADc9GjbAAAAMFBMVEX///8AAAAAAAAAAAAAAAAA\n",
       "AAAAAAAAAAAAAAAAAAAAAAAAAAAAAAAAAAAAAAAAAAAv3aB7AAAAD3RSTlMAZrurzTLvInZEmRDd\n",
       "VIkafcLnAAAACXBIWXMAAA7EAAAOxAGVKw4bAAABIklEQVQoz2NgwApEkvR9kgTATKH/xsZOAXAZ\n",
       "djCpUMwwWWgDmJnEwMD8FS5dApGuY2BiNQAr/8HAwPkLxOL092BgUOWASnMVOIBYjECdjD9ArBjR\n",
       "S5m8CzbBpRVALOYPDAws6SCWOQPDHLW5J6HSzLvBhrMpMHDbgJ3WAMRuXy5ApYOuFIBY8RodJgJw\n",
       "dztAaIUynz/dYFZ/AQNvIkyaeQJUuk5wC4SlBsTvYf6exACTZtoIMfIzEMuDrGVYc+bMnzNnDkOk\n",
       "WRdogxisH4GEPdRMxgdw3QxLi0AMju9AJV+gojwMCOlNHCDTWRIYGKZ5Q0UfwqWrGBgFNIFO1f9s\n",
       "bKILEVtzLOcMxG5gjKkzKPlfQI1HmLdwgCC8sgyq+KUD0AUAoPxFWxpU9WwAAAAASUVORK5CYII=\n",
       "\" style=\"display:inline;vertical-align:middle;\" /></a> <a class=\"ProveItLink\" href=\"../__pv_it/demonstrations/2ec0f2d45b6fa3284bcd326cdc700102852afc3c0/proof.ipynb\" style=\"text-decoration: none\">&nbsp;&#x22A2;&nbsp;&nbsp;</a><a class=\"ProveItLink\" href=\"../__pv_it/demonstrations/702bde6d109a5bec15ff39cdaa3a7620d9ff00740/expr.ipynb\"><img src=\"data:image/png;base64,iVBORw0KGgoAAAANSUhEUgAAAFoAAAAVBAMAAAA0iOSIAAAAMFBMVEX///8AAAAAAAAAAAAAAAAA\n",
       "AAAAAAAAAAAAAAAAAAAAAAAAAAAAAAAAAAAAAAAAAAAv3aB7AAAAD3RSTlMAmd0iq3ZUiRDNZu9E\n",
       "uzLWhN+VAAAACXBIWXMAAA7EAAAOxAGVKw4bAAABiklEQVQoz2NgQABmBrwATToMuyqu2Xd/at9i\n",
       "YOAJQBZlKwDK3P/i4nkPxOPwVgOSrCAmL7MDj9cNBoYoZNWdIIL7AgOD/wMggyluEVA3C0R1AcOF\n",
       "JwwMnA1IqqVAhD3QuvMCDCCDOKYwMDyEqRbmBFosgKR6A4hYDzR3PciBDkCD5/Eow1XzAhk7kJw9\n",
       "AUT6A/FsAyABdAZD/O8DMNUeLUDGLIRqRpA8w14GhhY9uBjEoUDVfNcmAxklCNWcC4AE39/QkFno\n",
       "QcjLvFNfFaRxJYOQEhAoggIhARRinxkYskHaIOJKKhDVVSvAzsyG6DYBhR3IjbxAr7L/wzC74MYq\n",
       "EOM9mmp+YFBwfcVU/ZAX5JLTCNVgl7wHuoLlD6ZqxsfAWGNIgvANQWKgUI4HBt77CRjuLuC4AIr2\n",
       "tQgT2B1AQQ1MPDsbMMwWYFjFC3SoOEKMT4GBwfe/i8vcBMw0+NeA9+Y3BgYdJFE9BgKAWQGJs5CQ\n",
       "asYFyM4zIKDaFpnDcYGA6ssoPFP8ilkNGABfnlcfhmTJbQAAAABJRU5ErkJggg==\n",
       "\" style=\"display:inline;vertical-align:middle;\" /></a></span>"
      ],
      "text/plain": [
       "{B not_equiv Real} |- [not](B equiv Real)"
      ]
     },
     "metadata": {},
     "output_type": "display_data"
    }
   ],
   "source": [
    "# We can use standard pre-defined sets as well\n",
    "SetNotEquiv(B, Real).unfold(assumptions=[SetNotEquiv(B, Real)])"
   ]
  },
  {
   "cell_type": "code",
   "execution_count": 50,
   "metadata": {},
   "outputs": [
    {
     "name": "stdout",
     "output_type": "stream",
     "text": [
      "InstantiationFailure: Proof step failed:\n",
      "Attempting to instantiate |- forall_{A, B | A not_equiv B} [not](A equiv B) with {A: {1, 2, 3}, B: {a, b, c}}:\n",
      "Unsatisfied condition: {1, 2, 3} not_equiv {a, b, c}. For debugging purposes, this is accessible via Instantiation.unsatisfied_condition with applicable assumptions in Instantiation.condition_assumptions.\n"
     ]
    }
   ],
   "source": [
    "# We must already know or assume that the SetNotEquiv holds in one direction\n",
    "try:\n",
    "    SetNotEquiv(Set(one, two , three), Set(a, b, c)).unfold()\n",
    "    assert False, \"Should not make it this far!\"\n",
    "except InstantiationFailure as the_error:\n",
    "    print(\"InstantiationFailure: {}\".format(the_error))"
   ]
  },
  {
   "cell_type": "markdown",
   "metadata": {},
   "source": [
    "### Testing the `SetNotEquiv.conclude_as_folded()` method<br/>\n",
    "\n",
    "The `conclude_as_folded()` method has the following format:<br/>\n",
    "\n",
    "<div style=\"width: 50%; border: 1px solid green; padding: 5px; margin: 20px; background-color: gainsboro; font-family:courier\">conclude_as_folded(**defaults_config):</div>\n",
    "\n",
    "and attempts to conclude the NotSetEquiv(A, B) from the known or assumed Not(SetEquiv(A, B))."
   ]
  },
  {
   "cell_type": "code",
   "execution_count": 51,
   "metadata": {},
   "outputs": [
    {
     "data": {
      "text/html": [
       "<span style=\"font-size:20px;\"><a class=\"ProveItLink\" href=\"../__pv_it/axioms/bb2eac1bdd2ce216d9324209ccfd47261e333bcc0/expr.ipynb\"><img src=\"data:image/png;base64,iVBORw0KGgoAAAANSUhEUgAAAFoAAAAVBAMAAAA0iOSIAAAAMFBMVEX///8AAAAAAAAAAAAAAAAA\n",
       "AAAAAAAAAAAAAAAAAAAAAAAAAAAAAAAAAAAAAAAAAAAv3aB7AAAAD3RSTlMAmd0iq3ZUiRDNZu9E\n",
       "uzLWhN+VAAAACXBIWXMAAA7EAAAOxAGVKw4bAAABeUlEQVQoz2NgQAADBryAGYXHmgCmLHGp5glA\n",
       "5qVDqPkQqmUTSDNEwdr/Li5zHzBEISnmmACm2P5DuKqv1IGkA4Szl4GB5R8DZwNCNeMCCOUPdj7r\n",
       "AoZOBwY+AYiLvwLd8ZGBSwChmhtCFdc/AFEsQOz54BDE41z/gBioYwdCdSbEmIB4sGfZQeb/3wOR\n",
       "YvnAwMC5mYFhFkK1OMQhDPkLEF6BWXuBgcMJaGUJQjVE4zGG9wUYYff+aqgnyIyVDEJKQKAIZKqB\n",
       "JQQY7MHhwKgEBpAwiTdgYNsFpLMhmk2AGOxG1ouC/hcwzL4NxCDPv0dT3crAwK+AofoLEK8HRtRp\n",
       "hGo1iEMYmDagK+b7BST8DzAwJEH4hkB8FZQUgH7h/IDubtbPQB0/QSkAYQIoeKyBmPczutmcQNtO\n",
       "z4AHMhg8YmDo/T+Dge3+T7QgZLn/xcXzGoilgxBkesBAADAj+R85zWAHjAuQOJcJqbZF5vQSUo1i\n",
       "HHMAfsWsBgwA6E9SmsnrJU0AAAAASUVORK5CYII=\n",
       "\" style=\"display:inline;vertical-align:middle;\" /></a> <a class=\"ProveItLink\" href=\"../__pv_it/demonstrations/0e1b1822ce151753ea456085264dd401b0d85ecc0/proof.ipynb\" style=\"text-decoration: none\">&nbsp;&#x22A2;&nbsp;&nbsp;</a><a class=\"ProveItLink\" href=\"../__pv_it/axioms/040e9a1f9b739ee8859835262ddf22eb997ee4790/expr.ipynb\"><img src=\"data:image/png;base64,iVBORw0KGgoAAAANSUhEUgAAADsAAAATBAMAAADc9GjbAAAAMFBMVEX///8AAAAAAAAAAAAAAAAA\n",
       "AAAAAAAAAAAAAAAAAAAAAAAAAAAAAAAAAAAAAAAAAAAv3aB7AAAAD3RSTlMAIs1UmauJMnZmRLsQ\n",
       "3e++988cAAAACXBIWXMAAA7EAAAOxAGVKw4bAAABHklEQVQoz2NgAAEhBrxAH8FkhFCc+7+GBm2H\n",
       "sJn/I6RhBvFtYGCILwAzWeIFQBSXvgYDw3YOiLR8AwPDegcwMzEfrKx2uvUrZofTEOn5QKH5DWDr\n",
       "GvoNQHQgA8PafYtvQaTjgVgPbCgLg/0EEA1Sq/fJACL9moHh6HUwazFDfQLM3QpQBvvvjlZNCNOB\n",
       "QT4AKsq6AMrg+MjAYAc2k2OLS/wGqOhqmP+4HzAwsH0HsU4wMPBfADF87979e/fuVbA0P9A8zh8Q\n",
       "sxl4H0DDCuYGhnqgway/QIEBZDB9gAjywgOvH+inepA75UA2fYQIZsKl9YD6Hh1gYDj9X4eBef8n\n",
       "kKm+997ehdod/T80VNsALeLg3sIOqvFH+3b80gUYIgAmy0ZTyExn/wAAAABJRU5ErkJggg==\n",
       "\" style=\"display:inline;vertical-align:middle;\" /></a></span>"
      ],
      "text/plain": [
       "{[not](A equiv B)} |- A not_equiv B"
      ]
     },
     "metadata": {},
     "output_type": "display_data"
    }
   ],
   "source": [
    "SetNotEquiv(A, B).conclude_as_folded(assumptions=[Not(SetEquiv(A, B))])"
   ]
  },
  {
   "cell_type": "code",
   "execution_count": 52,
   "metadata": {},
   "outputs": [
    {
     "data": {
      "text/html": [
       "<span style=\"font-size:20px;\"><a class=\"ProveItLink\" href=\"../__pv_it/demonstrations/e68a811477cb36a134bec86b9c5d191aef42f85d0/expr.ipynb\"><img src=\"data:image/png;base64,iVBORw0KGgoAAAANSUhEUgAAAMcAAAAVBAMAAAAA3efRAAAAMFBMVEX///8AAAAAAAAAAAAAAAAA\n",
       "AAAAAAAAAAAAAAAAAAAAAAAAAAAAAAAAAAAAAAAAAAAv3aB7AAAAD3RSTlMAmd0iq3ZUiRDNZu9E\n",
       "uzLWhN+VAAAACXBIWXMAAA7EAAAOxAGVKw4bAAAC1UlEQVRIx31VQWgTQRR9yaabNWnTpAhSQWyD\n",
       "VvCUarVHI1ShB0VQUPDQoAfxlFoqIh4aIR6kijmIiBRcwZOnop6k0lrw5KVgCz2IjVURPGhADKmI\n",
       "8c/szM5sJtmBmX375/15f2f+nwVUy1G/s4RO7XCunTXEwbooV1Wtq0B9rtTRJ3WizVyYA76s0/A2\n",
       "YLpEvchcNqXfcP9HEdO1XRRwT957Kz+ncHCKY+bg0zB65UNgyVUWhqsZnAoNU/Q8+liIWCuY8Tbj\n",
       "Juw6EB/w7Hu/76PRU5zSaU4axYIuMsWGh5oh4krrhBCJ5ZCc52ii4Gz5IhTa7TxSabmMonXVca9i\n",
       "iDzRDEm0iiQbiP3i6N0SlEiM+nh1OSeXUbTuBfSaIknt1C4bIrEBxP6JWfuPLxJnMTcX/GV0Goqu\n",
       "IbJNM+0wRKhFawIsu+pM+Pbryyha934BRq4ekrPxvHJ7xIb+FpGfXg7h61iVwp83s7Q/QEudOSnE\n",
       "XmCDVjnPcKKCviy1QcJDLJ9etYjskYBll1X3MiTLG4/Pc1A0mV2zLvrocYS92SK2Eeq0ydb4UlAk\n",
       "suJ7L5Kx/KC1pj0HjUZZwNpugKW5M04qqVpABJ/WgyJPxfMHsEH068YV4jlIWqqKHu9rX8P5y45j\n",
       "jm2d9iVDskSViD2Jgxw0S0zEbphnsqrTehtCxPmNRE1eILbIl2Hqa4Hs4jrfgHMcveTbFZ83zoQ7\n",
       "+LRknm0XIaeOWIWuxxv84NVmYtoXmcmBFTiswUxmgKNnep2gpRIULeFSnXC0hgvptFguMqnom1Jk\n",
       "bPG+iyzFE202mxWOujPsguwgomh4k6ELkqHy2c/HqkIkqp1ktOrXFtvIkok6iHR28GYPaPREWveJ\n",
       "ow0KE2nn4M3u1PnvIUqUtVswUaRiioQ68PvAWtH5d2WJwv8lBdGsa4qEOjjsPugJ/H8tmrW2Fzr+\n",
       "TEePt/uPhzhY02zuNPAfyuLKrMcKG6AAAAAASUVORK5CYII=\n",
       "\" style=\"display:inline;vertical-align:middle;\" /></a> <a class=\"ProveItLink\" href=\"../__pv_it/demonstrations/6679a0136aa72c41de4d9f0b0643b3af9b706dff0/proof.ipynb\" style=\"text-decoration: none\">&nbsp;&#x22A2;&nbsp;&nbsp;</a><a class=\"ProveItLink\" href=\"../__pv_it/demonstrations/cde4aa29e3b41bdda9067e5dce1d3f4bbcc5d5b90/expr.ipynb\"><img src=\"data:image/png;base64,iVBORw0KGgoAAAANSUhEUgAAAKcAAAAVBAMAAADROuOhAAAAMFBMVEX///8AAAAAAAAAAAAAAAAA\n",
       "AAAAAAAAAAAAAAAAAAAAAAAAAAAAAAAAAAAAAAAAAAAv3aB7AAAAD3RSTlMAEER2zVSJ3Zki72ar\n",
       "MruaaVGaAAAACXBIWXMAAA7EAAAOxAGVKw4bAAAChElEQVQ4y4VVTWgTQRT+1rC73XYjC16kFI2C\n",
       "FDxIBPHgpUHxImLjRfGiAUVBhUYProjQHArZUwz4V6Vo8SL+YHNXQVBRodiAYBH8qXgTQ61NERFZ\n",
       "Z97Mzs7aZH2QmdmZ7/vmzbz3JgCM9ehql+sdJtMIzgHRb1nXHZN97S2fTCPg/Wfemgu8nZVkJ9jT\n",
       "lKOjtRyw8onmheiIMD7W0mGafeONVWYHejksRW/A+iFGq2EuidXILomOTzlzGMlpMM2ORRhgSIq+\n",
       "Au6K0VDRaCvRFcM7gFZGibp19E5qsHTRKQ8zIjgbc4hFZx8fvGVW1ijR3gW4vzRYuugLYEZeKszf\n",
       "SpQdYPDrhtOxp2W4fzRYuiiz0Wgw2FCiefbb1S4iJsD+rsHIJg5fjER7CknR7KIcvJlmLmcmVewL\n",
       "ciAI+JTXYHTvdzDPVLbx8fVGUtRWScTD6qjQulHmCALO6zBu/Q1UWXeTnWdiO5Kitfh6WNQwsFN+\n",
       "bIoOKQg9cwkYswvAGV5vz4rI1ryEaF/k6Adgnm16hBys+v5P3yfnJOFREsbsAQye4hbfVNSMEt0H\n",
       "R6RU6HG0qDe+WSlyjAhmCdc0GPdwEX08doe8RPT5V7aEjGfwmft0LisKlK1OS4S3wGYiEIwTjCW4\n",
       "BfacHI8zZKQOqoyrQVDFWh7fh3qeAicSos7ZICgTgWBE+IL9lYqep9NTuxvw2c6jYdiGfYpnSMBf\n",
       "CilaPXfbl3dKU3YYhgUiEIwIA1vfPW0mkp9yQ2XA3uRZ9YT6H+FfUUstlJYpfEQH0U4EIRrXzCr1\n",
       "tOcVRJYPWjErnYAxKj9VM2olE0P6ZWE3tbc6lWDco278efc/hyud1tIIzkmWtH8B/F+3VIYL568A\n",
       "AAAASUVORK5CYII=\n",
       "\" style=\"display:inline;vertical-align:middle;\" /></a></span>"
      ],
      "text/plain": [
       "{[not]({1, 2, 3} equiv {2, 3, a})} |- {1, 2, 3} not_equiv {2, 3, a}"
      ]
     },
     "metadata": {},
     "output_type": "display_data"
    }
   ],
   "source": [
    "SetNotEquiv(Set(one, two, three), Set(two, three, a)).conclude_as_folded(\n",
    "        assumptions=[Not(SetEquiv(Set(one, two, three), Set(two, three, a)))])"
   ]
  },
  {
   "cell_type": "markdown",
   "metadata": {},
   "source": [
    "### Testing the `SetNotEquiv.derive_contradiction()` method<br/>\n",
    "\n",
    "The `derive_contradiction()` method has the following format:<br/>\n",
    "\n",
    "<div style=\"width: 50%; border: 1px solid green; padding: 5px; margin: 20px; background-color: gainsboro; font-family:courier\">derive_contradiction(**defaults_config):</div>\n",
    "\n",
    "and from A not_equiv B, and assuming (A equiv B), derives and returns FALSE."
   ]
  },
  {
   "cell_type": "code",
   "execution_count": 53,
   "metadata": {},
   "outputs": [
    {
     "data": {
      "text/html": [
       "<span style=\"font-size:20px;\"><a class=\"ProveItLink\" href=\"../__pv_it/theorems/2ee8dc2018014830ed832e2e3d65a4df89f102480/expr.ipynb\"><img src=\"data:image/png;base64,iVBORw0KGgoAAAANSUhEUgAAADsAAAAPBAMAAACo4Ko7AAAAMFBMVEX///8AAAAAAAAAAAAAAAAA\n",
       "AAAAAAAAAAAAAAAAAAAAAAAAAAAAAAAAAAAAAAAAAAAv3aB7AAAAD3RSTlMAIs1UmauJMnZmRLsQ\n",
       "3e++988cAAAACXBIWXMAAA7EAAAOxAGVKw4bAAAA+UlEQVQY02NgAAEhBrxAH0zyxF0GkhxgNuf+\n",
       "r6FB2yGyzP/BFG/73AQGBlaIGN8GBob4AjCTJV4ARHUy8KgyMJRApOUbGBjWO4CZiflgZQFArepc\n",
       "FyHS84FC8xtALMaGfgMQDTSZof/fAoh0PBDrgQ1lYbCfAHflASj9moHh6HUwazFDfQK6X9h/d7Rq\n",
       "QpgODPIBINr3LghcBYtxfGRgsAObybHFJX4Dum7uBwwMbN9BrBMMDPwX0KX5geZx/oCYzcD7AF26\n",
       "Hmgw6y8ggwvIYPqAbnc/0E/1CkCGHMimj+i69YD6HgE9efq/DgPz/k9oPov+HxqqDQwrAPAyQLUO\n",
       "1tWZAAAAAElFTkSuQmCC\n",
       "\" style=\"display:inline;vertical-align:middle;\" /></a>, <a class=\"ProveItLink\" href=\"../__pv_it/axioms/040e9a1f9b739ee8859835262ddf22eb997ee4790/expr.ipynb\"><img src=\"data:image/png;base64,iVBORw0KGgoAAAANSUhEUgAAADsAAAATBAMAAADc9GjbAAAAMFBMVEX///8AAAAAAAAAAAAAAAAA\n",
       "AAAAAAAAAAAAAAAAAAAAAAAAAAAAAAAAAAAAAAAAAAAv3aB7AAAAD3RSTlMAIs1UmauJMnZmRLsQ\n",
       "3e++988cAAAACXBIWXMAAA7EAAAOxAGVKw4bAAABHklEQVQoz2NgAAEhBrxAH8FkhFCc+7+GBm2H\n",
       "sJn/I6RhBvFtYGCILwAzWeIFQBSXvgYDw3YOiLR8AwPDegcwMzEfrKx2uvUrZofTEOn5QKH5DWDr\n",
       "GvoNQHQgA8PafYtvQaTjgVgPbCgLg/0EEA1Sq/fJACL9moHh6HUwazFDfQLM3QpQBvvvjlZNCNOB\n",
       "QT4AKsq6AMrg+MjAYAc2k2OLS/wGqOhqmP+4HzAwsH0HsU4wMPBfADF87979e/fuVbA0P9A8zh8Q\n",
       "sxl4H0DDCuYGhnqgway/QIEBZDB9gAjywgOvH+inepA75UA2fYQIZsKl9YD6Hh1gYDj9X4eBef8n\n",
       "kKm+997ehdod/T80VNsALeLg3sIOqvFH+3b80gUYIgAmy0ZTyExn/wAAAABJRU5ErkJggg==\n",
       "\" style=\"display:inline;vertical-align:middle;\" /></a> <a class=\"ProveItLink\" href=\"../__pv_it/demonstrations/293f4ee644340aae4882fb9f6830dc07366900760/proof.ipynb\" style=\"text-decoration: none\">&nbsp;&#x22A2;&nbsp;&nbsp;</a><a class=\"ProveItLink\" href=\"../../../booleans/__pv_it/common/e0f123f2e4f322e1eba7f861749cda9fd9d99a120/expr.ipynb\"><img src=\"data:image/png;base64,iVBORw0KGgoAAAANSUhEUgAAAA4AAAAPBAMAAAAmOuNHAAAAHlBMVEX///8AAAAAAAAAAAAAAAAA\n",
       "AAAAAAAAAAAAAAAAAACGjDitAAAACXRSTlMARGZUdpnd76sKo+zpAAAACXBIWXMAAA7EAAAOxAGV\n",
       "Kw4bAAAAGElEQVQI12NgQAAhKG1CSzosLa08LS0DAJuOBVCdynDUAAAAAElFTkSuQmCC\n",
       "\" style=\"display:inline;vertical-align:middle;\" /></a></span>"
      ],
      "text/plain": [
       "{A equiv B, A not_equiv B} |- FALSE"
      ]
     },
     "metadata": {},
     "output_type": "display_data"
    }
   ],
   "source": [
    "SetNotEquiv(A, B).derive_contradiction(assumptions=[SetEquiv(A, B), SetNotEquiv(A, B)])"
   ]
  },
  {
   "cell_type": "code",
   "execution_count": 54,
   "metadata": {},
   "outputs": [
    {
     "data": {
      "text/html": [
       "<span style=\"font-size:20px;\"><a class=\"ProveItLink\" href=\"../__pv_it/demonstrations/7f41b9f6928666b7a0801aae2f08374326b7fe5e0/expr.ipynb\"><img src=\"data:image/png;base64,iVBORw0KGgoAAAANSUhEUgAAAKcAAAAVBAMAAADROuOhAAAAMFBMVEX///8AAAAAAAAAAAAAAAAA\n",
       "AAAAAAAAAAAAAAAAAAAAAAAAAAAAAAAAAAAAAAAAAAAv3aB7AAAAD3RSTlMAEER2zVSJ3Zki72ar\n",
       "MruaaVGaAAAACXBIWXMAAA7EAAAOxAGVKw4bAAACYklEQVQ4y41VTWjUQBh96bLZps2WgBcpBaMX\n",
       "wVMF6UGRLoK3qutF8dSAUkGErgetQqE9FDandUHUKqJ79Qebmwc9FKr4Q2kLgj+gWPGq1Nr20Iqk\n",
       "880kk5ndTfAdJt9m3nvz7cz3TQAYe5CKm/U2L7ME1hnxPLA7nVNccFpfZgnw5TuN+VUaP0Ziyz++\n",
       "FEUjNRfomRXJvbvMxhykYHrql0pT8JMGs8I0b05Epvdh/hHRTuQ3xCxD4fAzD7ARC6xljLoKTcH5\n",
       "mAMMRqZvgUciGiwb69L0EIwh4JM0tevoaii0bNMZB4vicPa5SEzZJtjHOq5J065V2JsKLdv0NbAY\n",
       "bSryf6WpR5QtN8m0AvufQss2ZZiIg72BNOWIKPE2/1ZoHPfO3ohNO0u6aXEtCt7Ps5RzjZaiEQJ8\n",
       "61dohI6HWGEuBym+G+imhdk4omO1xNFWxwjjSAQYV2mE3gBV9nhQZjkfgW5aS3Jip4a+o02JRoLO\n",
       "ZY3GcB24QiX9soxizdFMu+NEvwIrbNFzbnOTCcELncbwFAaVuEmLip6RpqdgiZIKHWKLftPABXkP\n",
       "dxQaZbiGbjq7YUc7ffpV9JBzDHrzhP8vs9Gyp1zwAdjPBZxGAmMDdoldJxeSChmtg3fGbd+vYhed\n",
       "73O1TlXwNr3q+xUu4DQu+IHTk5Nqnc7PDAUYYytPhOE6CpeoQny6KVJMC2EYlriA07igb+Dz3JJW\n",
       "/Lw2ZAWc1BzamKYLmk1NOeH9n2k7gTBNemaHvNr7m9tHRbYAU/yWldehnMkllN6g9YuRKTAe88f0\n",
       "q/SPw612c1kC6yIr2m2ID7A6Zki2GgAAAABJRU5ErkJggg==\n",
       "\" style=\"display:inline;vertical-align:middle;\" /></a>, <a class=\"ProveItLink\" href=\"../__pv_it/demonstrations/cde4aa29e3b41bdda9067e5dce1d3f4bbcc5d5b90/expr.ipynb\"><img src=\"data:image/png;base64,iVBORw0KGgoAAAANSUhEUgAAAKcAAAAVBAMAAADROuOhAAAAMFBMVEX///8AAAAAAAAAAAAAAAAA\n",
       "AAAAAAAAAAAAAAAAAAAAAAAAAAAAAAAAAAAAAAAAAAAv3aB7AAAAD3RSTlMAEER2zVSJ3Zki72ar\n",
       "MruaaVGaAAAACXBIWXMAAA7EAAAOxAGVKw4bAAAChElEQVQ4y4VVTWgTQRT+1rC73XYjC16kFI2C\n",
       "FDxIBPHgpUHxImLjRfGiAUVBhUYProjQHArZUwz4V6Vo8SL+YHNXQVBRodiAYBH8qXgTQ61NERFZ\n",
       "Z97Mzs7aZH2QmdmZ7/vmzbz3JgCM9ehql+sdJtMIzgHRb1nXHZN97S2fTCPg/Wfemgu8nZVkJ9jT\n",
       "lKOjtRyw8onmheiIMD7W0mGafeONVWYHejksRW/A+iFGq2EuidXILomOTzlzGMlpMM2ORRhgSIq+\n",
       "Au6K0VDRaCvRFcM7gFZGibp19E5qsHTRKQ8zIjgbc4hFZx8fvGVW1ijR3gW4vzRYuugLYEZeKszf\n",
       "SpQdYPDrhtOxp2W4fzRYuiiz0Wgw2FCiefbb1S4iJsD+rsHIJg5fjER7CknR7KIcvJlmLmcmVewL\n",
       "ciAI+JTXYHTvdzDPVLbx8fVGUtRWScTD6qjQulHmCALO6zBu/Q1UWXeTnWdiO5Kitfh6WNQwsFN+\n",
       "bIoOKQg9cwkYswvAGV5vz4rI1ryEaF/k6Adgnm16hBys+v5P3yfnJOFREsbsAQye4hbfVNSMEt0H\n",
       "R6RU6HG0qDe+WSlyjAhmCdc0GPdwEX08doe8RPT5V7aEjGfwmft0LisKlK1OS4S3wGYiEIwTjCW4\n",
       "BfacHI8zZKQOqoyrQVDFWh7fh3qeAicSos7ZICgTgWBE+IL9lYqep9NTuxvw2c6jYdiGfYpnSMBf\n",
       "CilaPXfbl3dKU3YYhgUiEIwIA1vfPW0mkp9yQ2XA3uRZ9YT6H+FfUUstlJYpfEQH0U4EIRrXzCr1\n",
       "tOcVRJYPWjErnYAxKj9VM2olE0P6ZWE3tbc6lWDco278efc/hyud1tIIzkmWtH8B/F+3VIYL568A\n",
       "AAAASUVORK5CYII=\n",
       "\" style=\"display:inline;vertical-align:middle;\" /></a> <a class=\"ProveItLink\" href=\"../__pv_it/demonstrations/99510f4d5bed097f15e1a9d09202fda8ad03e4310/proof.ipynb\" style=\"text-decoration: none\">&nbsp;&#x22A2;&nbsp;&nbsp;</a><a class=\"ProveItLink\" href=\"../../../booleans/__pv_it/common/e0f123f2e4f322e1eba7f861749cda9fd9d99a120/expr.ipynb\"><img src=\"data:image/png;base64,iVBORw0KGgoAAAANSUhEUgAAAA4AAAAPBAMAAAAmOuNHAAAAHlBMVEX///8AAAAAAAAAAAAAAAAA\n",
       "AAAAAAAAAAAAAAAAAACGjDitAAAACXRSTlMARGZUdpnd76sKo+zpAAAACXBIWXMAAA7EAAAOxAGV\n",
       "Kw4bAAAAGElEQVQI12NgQAAhKG1CSzosLa08LS0DAJuOBVCdynDUAAAAAElFTkSuQmCC\n",
       "\" style=\"display:inline;vertical-align:middle;\" /></a></span>"
      ],
      "text/plain": [
       "{{1, 2, 3} equiv {2, 3, a}, {1, 2, 3} not_equiv {2, 3, a}} |- FALSE"
      ]
     },
     "metadata": {},
     "output_type": "display_data"
    }
   ],
   "source": [
    "SetNotEquiv(Set(one, two, three), Set(two, three, a)).derive_contradiction(\n",
    "        assumptions=[SetNotEquiv(Set(one, two, three), Set(two, three, a)),\n",
    "                     SetEquiv(Set(one, two, three), Set(two, three, a))])"
   ]
  },
  {
   "cell_type": "markdown",
   "metadata": {},
   "source": [
    "### Testing the `SetNotEquiv.deduce_in_bool()` method<br/>\n",
    "\n",
    "The `deduce_in_bool()` method has the following format:<br/>\n",
    "\n",
    "<div style=\"width: 50%; border: 1px solid green; padding: 5px; margin: 20px; background-color: gainsboro; font-family:courier\">deduce_in_bool(**defaults_config):</div>\n",
    "\n",
    "and attempts to deduce and return that this `SetNotEquiv` claim is in the `Boolean` set."
   ]
  },
  {
   "cell_type": "code",
   "execution_count": 55,
   "metadata": {},
   "outputs": [
    {
     "data": {
      "text/html": [
       "<span style=\"font-size:20px;\"> <a class=\"ProveItLink\" href=\"../__pv_it/demonstrations/0f5d3aeadc543d2b3e9c6b5de845413a331fd8480/proof.ipynb\" style=\"text-decoration: none\">&nbsp;&#x22A2;&nbsp;&nbsp;</a><a class=\"ProveItLink\" href=\"../__pv_it/demonstrations/1f52b6341fb998b878eec8838aadb282d5cb4b480/expr.ipynb\"><img src=\"data:image/png;base64,iVBORw0KGgoAAAANSUhEUgAAAN0AAAAVBAMAAAAwUfbwAAAAMFBMVEX///8AAAAAAAAAAAAAAAAA\n",
       "AAAAAAAAAAAAAAAAAAAAAAAAAAAAAAAAAAAAAAAAAAAv3aB7AAAAD3RSTlMAInZUiRDNmWbv3US7\n",
       "qzJazP2FAAAACXBIWXMAAA7EAAAOxAGVKw4bAAAC7klEQVRIx4VWS2gTURQ9aTtJk0nSCFI3gkFQ\n",
       "qiBGEMVuEt0Ui6WhWwWjIliKtAttVkLA4krBjVBNoQVBy9hgEK2f1VToQku1buqiKgUFQZBWSrtw\n",
       "YX1z530mb2bIwMzc9+4597zPnfsGQAbA2TrCrsiRoN5mhEiouyXH7qFiqB+/5wNIzQhmVus8ODE8\n",
       "WHMGeZTdeYf9S4TYNfqBWzt7Fthz0UPLuC+HoMPooiAOoUsfhf0scnkFMErM7mXvz8NcL2Kj310t\n",
       "YwT5HHnlWpXcd28ADDKIQ4jqC2C/wskkEKtwAA5zRCqD+F131TZwviT1ZreySK5mhZ4PBhnEIbSP\n",
       "+PVupoA4dL34JlJ/yDKr6JB66env7+rHDVvo+WCNerjHd/q99UjqRYFjPr3UFFL/xKjyFaHH5mPO\n",
       "VLvrcn46TNO74o7lYlHN79MYcM2nx67EOjfMaeFFi7Mpk5fk/vlgml4ftTuLKl8GagU+jFFNb41n\n",
       "c/rQN/Y8IPs7hTEaAFN6RLhF7Qtq/94M/r0OPHSyblzTq0nLSbw9OdFaEWk6HgBTekQ4Qe2SN1+6\n",
       "ZouoMvZyvVEvZksUywoYyzyayfs5QYMpPSKs0cwfWJY1I/SSZsHRw8/5Rr07/J1eRXIDaBui6Jb1\n",
       "lJGXIAkaTOkR4TV9kLZ3fknYtJ5uBZF6rQXsIKNjkwLlhWNMkhcDYEqPCN3UnmrUK+FtQ35S5B/A\n",
       "PrLiS7RQpwVFkXv9sKLSI8Jtau9t0GvNumlLev0ZGFvO7jwul6fIaq94vj+2TBWvngYji4JwAn1o\n",
       "iMpcs5/jVA8rsELv6+TVCiw2vMT29naJLLwsL8iPLWbdt8T+OV06jCwK4hKeuBX1ywtXbv/ERzof\n",
       "EqvwVOTWot+S3hX4usIJEb745hlez/hFdVXS2+C3hDdtB+iFEmKVkNNxzltBBuC3eDFhZ4Pqak7Y\n",
       "HXYan4OngqhTWVnGOJ+fh9ScMBf6u8GAkRu58N+RvgBfU0JLJtj5H0US8S0QRQ21AAAAAElFTkSu\n",
       "QmCC\n",
       "\" style=\"display:inline;vertical-align:middle;\" /></a></span>"
      ],
      "text/plain": [
       "|- ({1, 2, 3} not_equiv {2, 3, 1}) in BOOLEAN"
      ]
     },
     "metadata": {},
     "output_type": "display_data"
    }
   ],
   "source": [
    "SetNotEquiv(Set(one, two, three), Set(two, three, one)).deduce_in_bool()"
   ]
  },
  {
   "cell_type": "code",
   "execution_count": 56,
   "metadata": {},
   "outputs": [
    {
     "data": {
      "text/html": [
       "<span style=\"font-size:20px;\"> <a class=\"ProveItLink\" href=\"../__pv_it/demonstrations/94e7fe539b91926c204a1366eceba028b43b48520/proof.ipynb\" style=\"text-decoration: none\">&nbsp;&#x22A2;&nbsp;&nbsp;</a><a class=\"ProveItLink\" href=\"../__pv_it/demonstrations/89abfa24185ec487230342fe8ccff0fbf4d37b010/expr.ipynb\"><img src=\"data:image/png;base64,iVBORw0KGgoAAAANSUhEUgAAAMkAAAAVBAMAAAAeFNdiAAAAMFBMVEX///8AAAAAAAAAAAAAAAAA\n",
       "AAAAAAAAAAAAAAAAAAAAAAAAAAAAAAAAAAAAAAAAAAAv3aB7AAAAD3RSTlMAInZUiRDNmWbv3US7\n",
       "qzJazP2FAAAACXBIWXMAAA7EAAAOxAGVKw4bAAADN0lEQVRIx3WVW0hUQRjH/2d3j0fdC6cL2kPg\n",
       "EhXaixtEkS9t0YUkcfElooKtKBIRfUh9UVhIoocCXwJLZReCLielJUpKCE6BDwWlXbBAN5YKjKA0\n",
       "RCmJtpk5M+fsuezA2fPtd+Y/v5n5vm8GgArgeBal2jrVy+sSSNvpT8lRfDHytCVKfo/MeXyzC/KQ\n",
       "VfyYBIJRR79twx2tY3RCO8izh2q+C2F192s+v/29pEdoukjGF8YEmOfO9DmN/H9FrFrndPQH0tlZ\n",
       "QE4Su5G8P3RwiqSj2diPo/AvAYFM0b4kjXcj+x3j3rurB7ivzLlu/TH2hgAlJUT1vEdYRcUAs+pj\n",
       "8opFGV+JIpSPWhSfoEybvvJON+ViGKiAk1KxjPAvZj3JwqJE7nx5kd0l6xblW7uLgms8bi+1Wyal\n",
       "DNjpooQzCP/jev9vk0KWGBwdashaI8Y9KOeZGTydsNbyph+44KKQVrnIjYmUSfHRbU+fseLiUwXl\n",
       "4+ZPYpAm5qhKWNFvGYtzeLeDssAz8nMuT0YbMP1VwqCCDRCUSdSQJdZR8xJznLLiMtG62gXcpJkz\n",
       "6KCIsLIck5ZM/6xINSqImxSS7WS9NaTwsJv9TRZHv3Y8gSGimcnaKYpu9koT50m+TQhyPxOUq0UU\n",
       "haSLPEMwCyxRbmiaNioooWCcUjA/aadc5e+fwBRRHmSTUDTtPhGzSFPBWghKKAmFpEugjaYldch6\n",
       "8VpC0NmOsbK1KP441jCjkKAU/7KQ9JtiIniay/15b6Q+ScpFfh40ME/GTkniuS3HGOgrsIVZI2zH\n",
       "Amb0LbFR+yOGIEBAZPaHqesK+7DJRvFHjdRjomYVtNQh3e7pyTDrcnG9ECPloPzlgk7UJbiPFQbK\n",
       "YiblIfYdImekEOXS7SnQU6+yUCgkmRXsoaclpyjadU3ExRixt/CWdUN1X5fw3WOf5blHBmTr8BQ7\n",
       "kyvz5tRoSBJuy1zLLBxrsXVjPon3DR7hJwxv7HwzRQF4WFwZ0T0oAbtPSZW4pZ6Bly1tLXBbCq+x\n",
       "UN4SeQjYebCx1F14ArxsabPuOss6xucXKRJ5CORBPmXPJpGOUl+s5I28/p2XyCWQmujNrnqP8R/8\n",
       "Qeomj3knHwAAAABJRU5ErkJggg==\n",
       "\" style=\"display:inline;vertical-align:middle;\" /></a></span>"
      ],
      "text/plain": [
       "|- ({1, 2, 3} not_equiv {4, 5}) in BOOLEAN"
      ]
     },
     "metadata": {},
     "output_type": "display_data"
    }
   ],
   "source": [
    "SetNotEquiv(Set(one, two, three), Set(four, five)).deduce_in_bool()"
   ]
  },
  {
   "cell_type": "code",
   "execution_count": 57,
   "metadata": {},
   "outputs": [
    {
     "data": {
      "text/html": [
       "<span style=\"font-size:20px;\"> <a class=\"ProveItLink\" href=\"../__pv_it/demonstrations/662be4f07ab9c44c6929360219c070a274ea23210/proof.ipynb\" style=\"text-decoration: none\">&nbsp;&#x22A2;&nbsp;&nbsp;</a><a class=\"ProveItLink\" href=\"../__pv_it/demonstrations/83dcf81b5699b5dae98454d0b53e45f39020edc40/expr.ipynb\"><img src=\"data:image/png;base64,iVBORw0KGgoAAAANSUhEUgAAAN0AAAAVBAMAAAAwUfbwAAAAMFBMVEX///8AAAAAAAAAAAAAAAAA\n",
       "AAAAAAAAAAAAAAAAAAAAAAAAAAAAAAAAAAAAAAAAAAAv3aB7AAAAD3RSTlMAInZUiRDNmWbv3US7\n",
       "qzJazP2FAAAACXBIWXMAAA7EAAAOxAGVKw4bAAADXklEQVRIx32WX0hTURzHv3fbdf/nKjEIohUV\n",
       "FYQLosAXl0SSJA5fQkpaiZBIuIdyEUWDhHoJ7M3ScFCUXJSGlJVPN8GHitIK6kGN9QeCoLKGEgWt\n",
       "c8495/7Z3XZg9/52zu/7+5w/v/PbAIQBHMmiXFsTLtVbQSDtos9wuWFHlHx64mXloYUSY5UE+DZD\n",
       "HhNFnTuGe7vH6SR3k08DVX8VIdb2veQz3X+eeATmTDI+bSrQ3VDT9NwS+wWdUboIqE5IXfOAnCB2\n",
       "M3m/6+U8SUWrtluH4cwDroxprxLau9nsJifREDWHbqaPrmLeI+wLAO60cKjjvGAY3gFm1UXlFYM3\n",
       "uRJBIBcREQ03Rx7HEjbeZTvvUhDwopjnXUbwJ7MeZ2HwQqOfnmb3yqqIaLj5h1Bt53m1cI5nyh2d\n",
       "VwXssfGCGQT/caXzt84j6/GPDdVn9fWZ3NCQtvGqWJf/RNxY36t+4LSNR5pviRtTaZ3noDFGOk0R\n",
       "DTf/KDfWN64Woy6WZrVxI1/axmPASWr3FfF+aKeEj4s5AhrQ+2uF0WdxC+18z7nXMEuibKe2h23x\n",
       "ceP8prr/nAFu0awbLOKNC4Pmp5TX++dFmg5a3UR+tqdxjrw20G9ONs2EOV+2TcYxRNRvs1aeW9W9\n",
       "RkhnR6fYNt7PBSY3kjy0XQRu0wvylgBDdLNDNxRFGRO8gD9GefgyY+Vd5e/vwCxRHtCiK8o9Iman\n",
       "ogmEWyiHgLYHw5D/0qProZOj65NV8/oCUNl+soJg8JwxrGJGIU55zmUh6bdUEN2tepnz5F/wLIly\n",
       "5WRplrHyEpi25CdDfga2MOsm20+Xni8ZS8brbt45up/EkvMIJki1PsjyhS1tk4XnjKBF57WGQcsJ\n",
       "pLupVIZZV8z3jxhpM89w86TJ/WPWNOqTSR7OHWO3UC906n00NpEqLXiLI6fSUMgsfYVCIcEsf4rW\n",
       "a85zK9cVcX5UYLjhYYrUa2p1bP7wOsd5Pnbq8sIDDbd1eJb9Pvhy+vWlmx63W/r65osqSDmBNrqO\n",
       "5/QhXs948yTNchdKWJwXUkvwSgm00bNlfh2fgBcE2tpgt9z8zgZyhqiigFUfSS3DOyoKAm0Rvduw\n",
       "2nmahEyiigKZVp9AuT8UEnGULkTL/juoeVNKVEEgtdCxjaUH/wM/1wCcSu24XgAAAABJRU5ErkJg\n",
       "gg==\n",
       "\" style=\"display:inline;vertical-align:middle;\" /></a></span>"
      ],
      "text/plain": [
       "|- ({1, 2, 3} not_equiv {2, 3, a}) in BOOLEAN"
      ]
     },
     "metadata": {},
     "output_type": "display_data"
    }
   ],
   "source": [
    "SetNotEquiv(Set(one, two, three), Set(two, three, a)).deduce_in_bool(assumptions=[Equals(a, one)])"
   ]
  },
  {
   "cell_type": "code",
   "execution_count": 58,
   "metadata": {},
   "outputs": [],
   "source": [
    "%end demonstrations"
   ]
  },
  {
   "cell_type": "code",
   "execution_count": null,
   "metadata": {},
   "outputs": [],
   "source": []
  }
 ],
 "metadata": {
  "kernelspec": {
   "display_name": "Python 3",
   "language": "python",
   "name": "python3"
  }
 },
 "nbformat": 4,
 "nbformat_minor": 0
}