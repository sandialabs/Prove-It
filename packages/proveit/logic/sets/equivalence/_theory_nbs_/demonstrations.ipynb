{
 "cells": [
  {
   "cell_type": "markdown",
   "metadata": {},
   "source": [
    "Demonstrations for the theory of <a class=\"ProveItLink\" href=\"theory.ipynb\">proveit.logic.sets.equivalence</a>\n",
    "========"
   ]
  },
  {
   "cell_type": "code",
   "execution_count": null,
   "metadata": {},
   "outputs": [],
   "source": [
    "import proveit\n",
    "from proveit import a, b, c, d, e, x, A, B, C\n",
    "from proveit import InstantiationFailure, ProofFailure\n",
    "from proveit.logic import Equals, Forall, InSet, Not, Set, SetEquiv, SetNotEquiv\n",
    "from proveit.numbers import one, two, three, four, five, Real\n",
    "from proveit.logic.sets.equivalence  import set_equiv_def, set_not_equiv_def\n",
    "from proveit.logic.sets.equivalence import (\n",
    "        set_equiv_reflexivity, set_equiv_reversal, set_equiv_transitivity)\n",
    "%begin demonstrations"
   ]
  },
  {
   "cell_type": "markdown",
   "metadata": {},
   "source": [
    "# Set Equivalence $A \\cong B$ and Set Non-Equivalence $A\\not\\cong B$\n",
    "\n",
    "## [Under Construction]"
   ]
  },
  {
   "cell_type": "markdown",
   "metadata": {},
   "source": [
    "<div style=\"line-height:1.4; font-size:14pt\">\n",
    "<a href='#introduction'>Introduction</a><br>\n",
    "<a href='#simple_expressions'>Simple Expressions involving set equivalence</a><br>\n",
    "<a href='#common_attributes'>Common Attributes of a set equivalence</a><br>\n",
    "<a href='#axioms'>Axioms</a><br>\n",
    "<a href='#theorems_and_conjectures'>Theorems & Conjectures</a><br>\n",
    "<a href='#further_demonstrations'>Further Demonstrations</a><br>\n",
    "    <ol>\n",
    "        <li><a href='#demo01'>TBA</a></li>\n",
    "        <li><a href='#demo02'>TBA</a></li>\n",
    "        <li><a href='#demo03'>TBA</a></li>\n",
    "    </ol>\n",
    "<a href='#misc_testing'>Miscellaneous Testing</a><br>\n",
    "</div>"
   ]
  },
  {
   "cell_type": "markdown",
   "metadata": {},
   "source": [
    "## Introduction <a id='introduction'></a>"
   ]
  },
  {
   "cell_type": "markdown",
   "metadata": {},
   "source": [
    "<font size=3>The Set Equivalence class, <font style=\"font-family:courier\">SetEquiv</font>, is intended to capture the membership equivalence of 2 structures A and B. $A \\cong B$, coded in Prove-It by <font style=\"font-family:courier\">SetEquiv(A, B)</font> is a claim that all elements of A are also elements of B and vice-versa, and uses the congruence symbol $\\cong$ to distinguish the <font style=\"font-family:courier\">SetEquiv</font> claim from the stronger claim that $A = B$.</font>"
   ]
  },
  {
   "cell_type": "markdown",
   "metadata": {},
   "source": [
    "## Simple Expressions Set Equivalence<a id='simple_expressions'></a>"
   ]
  },
  {
   "cell_type": "markdown",
   "metadata": {},
   "source": [
    "<font size=3>Set Equivalence expressions are easy to construct …</font>"
   ]
  },
  {
   "cell_type": "markdown",
   "metadata": {},
   "source": [
    "## Common Attributes of Set Equivalence Expressions<a id='common_attributes'></a>"
   ]
  },
  {
   "cell_type": "markdown",
   "metadata": {},
   "source": [
    "<font size=3>Let's look at some simple examples of set equivalence expressions and their common attributes.</font>"
   ]
  },
  {
   "cell_type": "code",
   "execution_count": null,
   "metadata": {},
   "outputs": [],
   "source": [
    "SetEquiv(A, B)"
   ]
  },
  {
   "cell_type": "markdown",
   "metadata": {},
   "source": [
    "## Axioms <a id='axioms'></a>"
   ]
  },
  {
   "cell_type": "markdown",
   "metadata": {},
   "source": [
    "<font size=3>The axiomatic basis for set equivalence currently consists of two axioms, one defining set equivalence in terms of membership and one defining set non-equivlance (these can be found in the [set equivalence theorems Jupyter Python notebook](axioms.ipynb) ):</font>"
   ]
  },
  {
   "cell_type": "code",
   "execution_count": null,
   "metadata": {},
   "outputs": [],
   "source": [
    "set_equiv_def"
   ]
  },
  {
   "cell_type": "code",
   "execution_count": null,
   "metadata": {},
   "outputs": [],
   "source": [
    "set_not_equiv_def"
   ]
  },
  {
   "cell_type": "markdown",
   "metadata": {},
   "source": [
    "## Theorems & Conjectures<a id='theorems_and_conjectures'></a>"
   ]
  },
  {
   "cell_type": "markdown",
   "metadata": {},
   "source": [
    "<font size=3>The `logic.sets/equivalence` theory already has a number of related theorems and conjectures established, many of which are related to set equivalence being an equivalence relation. Some illustrative examples of the theorems are shown below, and the remainder can be found in the [set equivalence theorems Jupyter Python notebook](theorems.ipynb).</font>"
   ]
  },
  {
   "cell_type": "code",
   "execution_count": null,
   "metadata": {},
   "outputs": [],
   "source": [
    "set_equiv_reflexivity"
   ]
  },
  {
   "cell_type": "code",
   "execution_count": null,
   "metadata": {},
   "outputs": [],
   "source": [
    "set_equiv_reversal"
   ]
  },
  {
   "cell_type": "code",
   "execution_count": null,
   "metadata": {},
   "outputs": [],
   "source": [
    "set_equiv_transitivity"
   ]
  },
  {
   "cell_type": "markdown",
   "metadata": {},
   "source": [
    "## Demonstrations <a id='further_demonstrations'></a>"
   ]
  },
  {
   "cell_type": "markdown",
   "metadata": {},
   "source": [
    "<div style=\"width: 90%; border: 3px solid green; padding: 10px; margin: 0px;\"><a id='demo01'></a><font size=4><b>1.</b> TBA.</font></div><br>\n",
    "<font size=3>Under Construction</font>"
   ]
  },
  {
   "cell_type": "markdown",
   "metadata": {},
   "source": [
    "<div style=\"width: 90%; border: 3px solid green; padding: 10px; margin: 0px;\"><a id='demo02'></a><font size=4><b>2.</b> TBA.</font></div><br>\n",
    "<font size=3>Under Construction</font>"
   ]
  },
  {
   "cell_type": "markdown",
   "metadata": {},
   "source": [
    "<div style=\"width: 90%; border: 3px solid green; padding: 10px; margin: 0px;\"><a id='demo03'></a><font size=4><b>3.</b> TBA.</font></div><br>\n",
    "<font size=3>Under construction</font>"
   ]
  },
  {
   "cell_type": "markdown",
   "metadata": {},
   "source": [
    "## Miscellaneous Testing\n",
    "<font size=3>The material below was developed to test various SetEquiv-related methods. Some of this material could be integrated into the `_demonstrations_` page eventually and/or deleted as development continues.</font>"
   ]
  },
  {
   "cell_type": "markdown",
   "metadata": {},
   "source": [
    "### Some Example `Sets` For Testing"
   ]
  },
  {
   "cell_type": "code",
   "execution_count": null,
   "metadata": {},
   "outputs": [],
   "source": [
    "# some standard enumerated sets\n",
    "from proveit import e\n",
    "set_12345, set_abcde, set_1a2b3c, power_set_of_ab, empty_set = (\n",
    "    Set(one, two, three, four, five),\n",
    "    Set(a, b, c, d, e),\n",
    "    Set(one, a, two, b, three, c),\n",
    "    Set(Set(), Set(a), Set(b), Set(a,b)),\n",
    "    Set())"
   ]
  },
  {
   "cell_type": "code",
   "execution_count": null,
   "metadata": {},
   "outputs": [],
   "source": [
    "# some non-standard enumerated sets pretending to be multi-sets (but not!)\n",
    "set_12131, set_1a1b2a = (\n",
    "    Set(one, two, one, three, one),\n",
    "    Set(one, a, one, b, two, a))"
   ]
  },
  {
   "cell_type": "markdown",
   "metadata": {},
   "source": [
    "### Testing the `SetEquiv.conclude()` method<br/>\n",
    "\n",
    "The `conclude()` method is a general method with the following format:<br/>\n",
    "\n",
    "<div style=\"width: 50%; border: 1px solid green; padding: 5px; margin: 20px; background-color: gainsboro; font-family:courier\">conclude(**defaults_config)</div>\n",
    "\n",
    "and attempts to conclude the equivalence in various ways: (1) using simple reflexivity (A equiv A); (2) via an evaluation (if one side is an irreducible); or (3) via transitivity."
   ]
  },
  {
   "cell_type": "code",
   "execution_count": null,
   "metadata": {},
   "outputs": [],
   "source": [
    "SetEquiv(C, C).conclude()"
   ]
  },
  {
   "cell_type": "code",
   "execution_count": null,
   "metadata": {},
   "outputs": [],
   "source": [
    "# As one would expect, we cannot conclude a set-equivalence between \n",
    "# two arbitrary sets\n",
    "try:\n",
    "    SetEquiv(Set(one, two, three), Set(a, b, c)).conclude()\n",
    "    assert False, \"Should not get this far!\"\n",
    "except ProofFailure as the_error:\n",
    "    print(\"ProofFailure: {}\".format(the_error))"
   ]
  },
  {
   "cell_type": "code",
   "execution_count": null,
   "metadata": {},
   "outputs": [],
   "source": [
    "# This also doesn't work even with these proper assumptions because\n",
    "# these substitutions are not made automatically.  But just wait...\n",
    "try:\n",
    "    SetEquiv(Set(one, two, three), Set(a, b, c)).conclude(\n",
    "            assumptions=[Equals(a, one), Equals(b, two), Equals(c, three)])\n",
    "    assert False, \"Should not get this far!\"\n",
    "except ProofFailure as the_error:\n",
    "    print(\"ProofFailure: {}\".format(the_error))"
   ]
  },
  {
   "cell_type": "code",
   "execution_count": null,
   "metadata": {},
   "outputs": [],
   "source": [
    "# If we turn on 'simplify_with_known_evaluations' (which is off by\n",
    "# default to avoid over-simplification issues), then it can figure it out.\n",
    "SetEquiv(Set(one, two, three), Set(a, b, c)).conclude_as_folded(\n",
    "        assumptions=[Equals(a, one), Equals(b, two), Equals(c, three)],\n",
    "        simplify_with_known_evaluations=True)"
   ]
  },
  {
   "cell_type": "markdown",
   "metadata": {},
   "source": [
    "### Testing the `SetEquiv.conclude_via_reflexivity()` method<br/>\n",
    "\n",
    "The `conclude_via_reflexivity()` method has the following format:<br/>\n",
    "\n",
    "<div style=\"width: 50%; border: 1px solid green; padding: 5px; margin: 20px; background-color: gainsboro; font-family:courier\">conclude_via_reflexivity(**defaults_config)</div>\n",
    "\n",
    "and attempts to prove and return self of the form A equiv A."
   ]
  },
  {
   "cell_type": "code",
   "execution_count": null,
   "metadata": {},
   "outputs": [],
   "source": [
    "# Notice that reflexivity of set equivalence should generally\n",
    "# not require any assumptions\n",
    "SetEquiv(A, A).conclude_via_reflexivity()"
   ]
  },
  {
   "cell_type": "code",
   "execution_count": null,
   "metadata": {},
   "outputs": [],
   "source": [
    "SetEquiv(Set(a, two, c), Set(a, two, c)).conclude_via_reflexivity()"
   ]
  },
  {
   "cell_type": "code",
   "execution_count": null,
   "metadata": {},
   "outputs": [],
   "source": [
    "# We can use standard pre-defined sets as well\n",
    "SetEquiv(Real, Real).conclude_via_reflexivity()"
   ]
  },
  {
   "cell_type": "code",
   "execution_count": null,
   "metadata": {},
   "outputs": [],
   "source": [
    "# in fact, reflexivity is captured generally in the conclude()\n",
    "# method, allowing Prove-It to prove() reflexive set equivalence claims\n",
    "SetEquiv(Set(a, b, three), Set(a, b, three)).prove()"
   ]
  },
  {
   "cell_type": "code",
   "execution_count": null,
   "metadata": {},
   "outputs": [],
   "source": [
    "# If the 'self' object on which we call the conclude_via_reflexivity() method\n",
    "# is not actually reflexive (i.e. the lhs and rhs are not literally the same),\n",
    "# we get an error:\n",
    "try:\n",
    "    SetEquiv(A, B).conclude_via_reflexivity()\n",
    "    assert False, \"Should not make it this far!\"\n",
    "except AssertionError as the_error:\n",
    "    print(\"AssertionError: {}\".format(the_error))"
   ]
  },
  {
   "cell_type": "code",
   "execution_count": null,
   "metadata": {},
   "outputs": [],
   "source": [
    "# And this occurs even if we have established or assumed that Equals(lhs, rhs);\n",
    "# this still isn't a pure reflexive form\n",
    "try:\n",
    "    SetEquiv(A, B).conclude_via_reflexivity(assumptions=[Equals(A, B)])\n",
    "    assert False, \"Should not make it this far!\"\n",
    "except AssertionError as the_error:\n",
    "    print(\"AssertionError: {}\".format(the_error))"
   ]
  },
  {
   "cell_type": "markdown",
   "metadata": {},
   "source": [
    "### Testing the `SetEquiv.conclude_as_folded()` method<br/>\n",
    "\n",
    "The `conclude_as_folded()` method has the following format:<br/>\n",
    "\n",
    "<div style=\"width: 50%; border: 1px solid green; padding: 5px; margin: 20px; background-color: gainsboro; font-family:courier\">conclude_as_folded(**defaults_config)</div>\n",
    "\n",
    "and is described as attempting to conclude `A set_equiv B` from $\\forall_{x} [(x \\in A) = (x \\in B)]$. This is somewhat confusing, since the method is called on the `SetEquiv(A, B)` object itself."
   ]
  },
  {
   "cell_type": "code",
   "execution_count": null,
   "metadata": {},
   "outputs": [],
   "source": [
    "SetEquiv(A, B).conclude_as_folded(assumptions=[Forall(x, Equals(InSet(x, A), InSet(x, B)))])"
   ]
  },
  {
   "cell_type": "code",
   "execution_count": null,
   "metadata": {},
   "outputs": [],
   "source": [
    "SetEquiv(Set(one, two , three), Set(a, b, c)).conclude_as_folded(\n",
    "        assumptions=[Forall(x, Equals(InSet(x, Set(one, two, three)), InSet(x, Set(a, b, c))))])"
   ]
  },
  {
   "cell_type": "code",
   "execution_count": null,
   "metadata": {},
   "outputs": [],
   "source": [
    "# We can use standard pre-defined sets as well\n",
    "SetEquiv(A, Real).conclude_as_folded(assumptions=[Forall(x, Equals(InSet(x, A), InSet(x, Real)))])"
   ]
  },
  {
   "cell_type": "code",
   "execution_count": null,
   "metadata": {},
   "outputs": [],
   "source": [
    "# We must already know or assume that the membership claims are equal\n",
    "try:\n",
    "    SetEquiv(Set(one, two , three), Set(a, b, c)).conclude_as_folded()\n",
    "    assert False, \"Should not make it this far!\"\n",
    "except InstantiationFailure as the_error:\n",
    "    print(\"InstantiationFailure: {}\".format(the_error))"
   ]
  },
  {
   "cell_type": "markdown",
   "metadata": {},
   "source": [
    "### Testing the `SetEquiv.unfold()` method<br/>\n",
    "\n",
    "The `unfold()` method has the following format:<br/>\n",
    "\n",
    "<div style=\"width: 50%; border: 1px solid green; padding: 5px; margin: 20px; background-color: gainsboro; font-family:courier\">unfold(**defaults_config)</div>\n",
    "\n",
    "and from A set_equiv B attempts to derive $\\forall_{x} [ (x \\in A) = (x \\in B)]$."
   ]
  },
  {
   "cell_type": "code",
   "execution_count": null,
   "metadata": {},
   "outputs": [],
   "source": [
    "SetEquiv(A, B).unfold(assumptions=[SetEquiv(A, B)])"
   ]
  },
  {
   "cell_type": "code",
   "execution_count": null,
   "metadata": {},
   "outputs": [],
   "source": [
    "SetEquiv(Set(one, two , three), Set(a, b, c)).unfold(\n",
    "        assumptions=[SetEquiv(Set(one, two , three), Set(a, b, c))])"
   ]
  },
  {
   "cell_type": "code",
   "execution_count": null,
   "metadata": {},
   "outputs": [],
   "source": [
    "# We can use standard pre-defined sets as well\n",
    "SetEquiv(A, Real).unfold(assumptions=[SetEquiv(A, Real)])"
   ]
  },
  {
   "cell_type": "code",
   "execution_count": null,
   "metadata": {},
   "outputs": [],
   "source": [
    "# We must already know or assume that the SetEquiv holds in one direction\n",
    "try:\n",
    "    SetEquiv(Set(one, two , three), Set(a, b, c)).unfold()\n",
    "    assert False, \"Should not make it this far!\"\n",
    "except InstantiationFailure as the_error:\n",
    "    print(\"InstantiationFailure: {}\".format(the_error))"
   ]
  },
  {
   "cell_type": "markdown",
   "metadata": {},
   "source": [
    "### Testing the `SetEquiv.derive_reversed()` method<br/>\n",
    "\n",
    "The `derive_reversed()` method has the following format:<br/>\n",
    "\n",
    "<div style=\"width: 50%; border: 1px solid green; padding: 5px; margin: 20px; background-color: gainsboro; font-family:courier\">derive_reversed(**defaults_config)</div>\n",
    "\n",
    "and from A set_equiv B attempts to derive B set_equiv A. This derivation is also an automatic side-effect."
   ]
  },
  {
   "cell_type": "code",
   "execution_count": null,
   "metadata": {},
   "outputs": [],
   "source": [
    "SetEquiv(A, B).derive_reversed(assumptions=[SetEquiv(A, B)])"
   ]
  },
  {
   "cell_type": "code",
   "execution_count": null,
   "metadata": {},
   "outputs": [],
   "source": [
    "SetEquiv(Set(one, two , three), Set(a, b, c)).derive_reversed(\n",
    "        assumptions=[SetEquiv(Set(one, two , three), Set(a, b, c))])"
   ]
  },
  {
   "cell_type": "code",
   "execution_count": null,
   "metadata": {},
   "outputs": [],
   "source": [
    "# We can use standard pre-defined sets as well\n",
    "SetEquiv(A, Real).derive_reversed(assumptions=[SetEquiv(A, Real)])"
   ]
  },
  {
   "cell_type": "code",
   "execution_count": null,
   "metadata": {},
   "outputs": [],
   "source": [
    "# We must already know or assume that the SetEquiv holds in one direction\n",
    "try:\n",
    "    SetEquiv(Set(one, two , three), Set(a, b, c)).derive_reversed()\n",
    "    assert False, \"Should not make it this far!\"\n",
    "except InstantiationFailure as the_error:\n",
    "    print(\"InstantiationFailure: {}\".format(the_error))"
   ]
  },
  {
   "cell_type": "markdown",
   "metadata": {},
   "source": [
    "### Testing the `SetEquiv.deduce_not_equiv()` method<br/>\n",
    "\n",
    "The `deduce_not_equiv()` method has the following format:<br/>\n",
    "\n",
    "<div style=\"width: 50%; border: 1px solid green; padding: 5px; margin: 20px; background-color: gainsboro; font-family:courier\">deduce_not_equiv(**defaults_config)</div>\n",
    "\n",
    "and attempts to deduce A not_equiv B assuming not(A equiv B), but where self is (A equiv B). This can be a bit confusing …"
   ]
  },
  {
   "cell_type": "code",
   "execution_count": null,
   "metadata": {},
   "outputs": [],
   "source": [
    "SetEquiv(A, B).deduce_not_equiv(assumptions=[Not(SetEquiv(A, B))])"
   ]
  },
  {
   "cell_type": "code",
   "execution_count": null,
   "metadata": {},
   "outputs": [],
   "source": [
    "SetEquiv(Set(one, two, three), Set(a, b, c)).deduce_not_equiv(assumptions=[Not(SetEquiv(Set(one, two, three), Set(a, b, c)))])"
   ]
  },
  {
   "cell_type": "code",
   "execution_count": null,
   "metadata": {},
   "outputs": [],
   "source": [
    "# despite the apparent disconnect between the 'self' SetEquiv, that SetEquiv must\n",
    "# use the same sets being used in the conclusion\n",
    "try:\n",
    "    SetEquiv(Set(one, two, four), Set(a, b, c)).deduce_not_equiv(\n",
    "            assumptions=[Not(SetEquiv(Set(one, two, three), Set(a, b, c)))])\n",
    "    assert False, \"Should not make it this far!\"\n",
    "except InstantiationFailure as the_error:\n",
    "    print(\"InstantiationFailure: {}\".format(the_error))"
   ]
  },
  {
   "cell_type": "markdown",
   "metadata": {},
   "source": [
    "### Testing the `SetEquiv.apply_transitivity()` method<br/>\n",
    "\n",
    "The `apply_transitivity()` method has the following format:<br/>\n",
    "\n",
    "<div style=\"width: 50%; border: 1px solid green; padding: 5px; margin: 20px; background-color: gainsboro; font-family:courier\">apply_transitivity(other, **defaults_config)</div>\n",
    "\n",
    "From A set_equiv B (self) and B set_equiv C (other) attempt to derive and return A set_equiv C.\n",
    "If \"other\" is not a SetEquiv, reverse roles and call 'apply_transitivity' from the \"other\" side."
   ]
  },
  {
   "cell_type": "code",
   "execution_count": null,
   "metadata": {},
   "outputs": [],
   "source": [
    "SetEquiv(Set(one, two, three), Set(two, three, one)).apply_transitivity(\n",
    "    SetEquiv(Set(two, three, one), Set(b, c, a)),\n",
    "    assumptions=[SetEquiv(Set(one, two, three), Set(two, three, one)),\n",
    "                 SetEquiv(Set(two, three, one), Set(b, c, a))])"
   ]
  },
  {
   "cell_type": "code",
   "execution_count": null,
   "metadata": {},
   "outputs": [],
   "source": [
    "SetEquiv(A, B).apply_transitivity(\n",
    "    SetEquiv(B, C), assumptions=[SetEquiv(A, B), SetEquiv(B, C)])"
   ]
  },
  {
   "cell_type": "markdown",
   "metadata": {},
   "source": [
    "### Testing the `SetEquiv.deduce_in_bool()` method<br/>\n",
    "\n",
    "The `deduce_in_bool()` method has the following format:<br/>\n",
    "\n",
    "<div style=\"width: 50%; border: 1px solid green; padding: 5px; margin: 20px; background-color: gainsboro; font-family:courier\">deduce_in_bool(**defaults_config):</div>\n",
    "\n",
    "and attempts to deduce and return that this `SetEquiv` claim is in the `Boolean` set."
   ]
  },
  {
   "cell_type": "code",
   "execution_count": null,
   "metadata": {},
   "outputs": [],
   "source": [
    "SetEquiv(Set(one, two, three), Set(two, three, one)).deduce_in_bool()"
   ]
  },
  {
   "cell_type": "code",
   "execution_count": null,
   "metadata": {},
   "outputs": [],
   "source": [
    "SetEquiv(Set(one, two, three), Set(four, five)).deduce_in_bool()"
   ]
  },
  {
   "cell_type": "code",
   "execution_count": null,
   "metadata": {},
   "outputs": [],
   "source": [
    "SetEquiv(Set(one, two, three), Set(two, three, a)).deduce_in_bool(assumptions=[Equals(a, one)])"
   ]
  },
  {
   "cell_type": "markdown",
   "metadata": {},
   "source": [
    "### Testing the `SetNotEquiv.derive_reversed()` method<br/>\n",
    "\n",
    "The `derive_reversed()` method has the following format:<br/>\n",
    "\n",
    "<div style=\"width: 50%; border: 1px solid green; padding: 5px; margin: 20px; background-color: gainsboro; font-family:courier\">derive_reversed(**defaults_config)</div>\n",
    "\n",
    "and from A not_equiv B attempts to derive B not_equiv A. This derivation is also an automatic side-effect in the side_effects() method."
   ]
  },
  {
   "cell_type": "code",
   "execution_count": null,
   "metadata": {},
   "outputs": [],
   "source": [
    "SetNotEquiv(A, B).derive_reversed(assumptions=[SetNotEquiv(A, B)])"
   ]
  },
  {
   "cell_type": "code",
   "execution_count": null,
   "metadata": {},
   "outputs": [],
   "source": [
    "SetNotEquiv(Set(one, two , three), Set(a, b, c)).derive_reversed(\n",
    "        assumptions=[SetNotEquiv(Set(one, two , three), Set(a, b, c))])"
   ]
  },
  {
   "cell_type": "code",
   "execution_count": null,
   "metadata": {},
   "outputs": [],
   "source": [
    "# We can use standard pre-defined sets as well\n",
    "SetNotEquiv(A, Real).derive_reversed(assumptions=[SetNotEquiv(A, Real)])"
   ]
  },
  {
   "cell_type": "code",
   "execution_count": null,
   "metadata": {},
   "outputs": [],
   "source": [
    "# We must already know or assume that the SetNotEquiv holds in one direction\n",
    "try:\n",
    "    SetNotEquiv(Set(one, two , three), Set(a, b, c)).derive_reversed()\n",
    "    assert False, \"Should not make it this far!\"\n",
    "except InstantiationFailure as the_error:\n",
    "    print(\"InstantiationFailure: {}\".format(the_error))"
   ]
  },
  {
   "cell_type": "markdown",
   "metadata": {},
   "source": [
    "### Testing the `SetNotEquiv.definition()` method<br/>\n",
    "\n",
    "The `definition()` method has the following format:<br/>\n",
    "\n",
    "<div style=\"width: 50%; border: 1px solid green; padding: 5px; margin: 20px; background-color: gainsboro; font-family:courier\">definition(**defaults_config):</div>\n",
    "\n",
    "and returns (A not_equiv B) = Not(A equiv B) starting with self (A not_equiv B)."
   ]
  },
  {
   "cell_type": "code",
   "execution_count": null,
   "metadata": {},
   "outputs": [],
   "source": [
    "SetNotEquiv(A, B).definition()"
   ]
  },
  {
   "cell_type": "code",
   "execution_count": null,
   "metadata": {},
   "outputs": [],
   "source": [
    "# Notice the definition does not depend on the Truth of the SetNotEquiv claim:\n",
    "SetNotEquiv(Set(one, two, three), Set(one, two, three)).definition()"
   ]
  },
  {
   "cell_type": "code",
   "execution_count": null,
   "metadata": {},
   "outputs": [],
   "source": [
    "# Notice the definition does not depend on the Truth of the SetNotEquiv claim,\n",
    "# nor on any assumptions supplied:\n",
    "SetNotEquiv(Set(one, two, three), Set(a, b, c)).definition(assumptions=[Equals(a, one)])"
   ]
  },
  {
   "cell_type": "markdown",
   "metadata": {},
   "source": [
    "### Testing the `SetNotEquiv.unfold()` method<br/>\n",
    "\n",
    "The `unfold()` method has the following format:<br/>\n",
    "\n",
    "<div style=\"width: 50%; border: 1px solid green; padding: 5px; margin: 20px; background-color: gainsboro; font-family:courier\">unfold(**defaults_config):</div>\n",
    "\n",
    "and attempts to derive and return Not(SetEquiv(A, B)) from known or assumed SetNotEquiv(A, B)."
   ]
  },
  {
   "cell_type": "code",
   "execution_count": null,
   "metadata": {},
   "outputs": [],
   "source": [
    "SetNotEquiv(A, B).unfold(assumptions=[SetNotEquiv(A, B)])"
   ]
  },
  {
   "cell_type": "code",
   "execution_count": null,
   "metadata": {},
   "outputs": [],
   "source": [
    "SetNotEquiv(Set(one, two , three), Set(a, b, c)).unfold(\n",
    "        assumptions=[SetNotEquiv(Set(one, two , three), Set(a, b, c))])"
   ]
  },
  {
   "cell_type": "code",
   "execution_count": null,
   "metadata": {},
   "outputs": [],
   "source": [
    "# We can use standard pre-defined sets as well\n",
    "SetNotEquiv(B, Real).unfold(assumptions=[SetNotEquiv(B, Real)])"
   ]
  },
  {
   "cell_type": "code",
   "execution_count": null,
   "metadata": {},
   "outputs": [],
   "source": [
    "# We must already know or assume that the SetNotEquiv holds in one direction\n",
    "try:\n",
    "    SetNotEquiv(Set(one, two , three), Set(a, b, c)).unfold()\n",
    "    assert False, \"Should not make it this far!\"\n",
    "except InstantiationFailure as the_error:\n",
    "    print(\"InstantiationFailure: {}\".format(the_error))"
   ]
  },
  {
   "cell_type": "markdown",
   "metadata": {},
   "source": [
    "### Testing the `SetNotEquiv.conclude_as_folded()` method<br/>\n",
    "\n",
    "The `conclude_as_folded()` method has the following format:<br/>\n",
    "\n",
    "<div style=\"width: 50%; border: 1px solid green; padding: 5px; margin: 20px; background-color: gainsboro; font-family:courier\">conclude_as_folded(**defaults_config):</div>\n",
    "\n",
    "and attempts to conclude the NotSetEquiv(A, B) from the known or assumed Not(SetEquiv(A, B))."
   ]
  },
  {
   "cell_type": "code",
   "execution_count": null,
   "metadata": {},
   "outputs": [],
   "source": [
    "SetNotEquiv(A, B).conclude_as_folded(assumptions=[Not(SetEquiv(A, B))])"
   ]
  },
  {
   "cell_type": "code",
   "execution_count": null,
   "metadata": {},
   "outputs": [],
   "source": [
    "SetNotEquiv(Set(one, two, three), Set(two, three, a)).conclude_as_folded(\n",
    "        assumptions=[Not(SetEquiv(Set(one, two, three), Set(two, three, a)))])"
   ]
  },
  {
   "cell_type": "markdown",
   "metadata": {},
   "source": [
    "### Testing the `SetNotEquiv.derive_contradiction()` method<br/>\n",
    "\n",
    "The `derive_contradiction()` method has the following format:<br/>\n",
    "\n",
    "<div style=\"width: 50%; border: 1px solid green; padding: 5px; margin: 20px; background-color: gainsboro; font-family:courier\">derive_contradiction(**defaults_config):</div>\n",
    "\n",
    "and from A not_equiv B, and assuming (A equiv B), derives and returns FALSE."
   ]
  },
  {
   "cell_type": "code",
   "execution_count": null,
   "metadata": {},
   "outputs": [],
   "source": [
    "SetNotEquiv(A, B).derive_contradiction(assumptions=[SetEquiv(A, B), SetNotEquiv(A, B)])"
   ]
  },
  {
   "cell_type": "code",
   "execution_count": null,
   "metadata": {},
   "outputs": [],
   "source": [
    "SetNotEquiv(Set(one, two, three), Set(two, three, a)).derive_contradiction(\n",
    "        assumptions=[SetNotEquiv(Set(one, two, three), Set(two, three, a)),\n",
    "                     SetEquiv(Set(one, two, three), Set(two, three, a))])"
   ]
  },
  {
   "cell_type": "markdown",
   "metadata": {},
   "source": [
    "### Testing the `SetNotEquiv.deduce_in_bool()` method<br/>\n",
    "\n",
    "The `deduce_in_bool()` method has the following format:<br/>\n",
    "\n",
    "<div style=\"width: 50%; border: 1px solid green; padding: 5px; margin: 20px; background-color: gainsboro; font-family:courier\">deduce_in_bool(**defaults_config):</div>\n",
    "\n",
    "and attempts to deduce and return that this `SetNotEquiv` claim is in the `Boolean` set."
   ]
  },
  {
   "cell_type": "code",
   "execution_count": null,
   "metadata": {},
   "outputs": [],
   "source": [
    "SetNotEquiv(Set(one, two, three), Set(two, three, one)).deduce_in_bool()"
   ]
  },
  {
   "cell_type": "code",
   "execution_count": null,
   "metadata": {},
   "outputs": [],
   "source": [
    "SetNotEquiv(Set(one, two, three), Set(four, five)).deduce_in_bool()"
   ]
  },
  {
   "cell_type": "code",
   "execution_count": null,
   "metadata": {},
   "outputs": [],
   "source": [
    "SetNotEquiv(Set(one, two, three), Set(two, three, a)).deduce_in_bool(assumptions=[Equals(a, one)])"
   ]
  },
  {
   "cell_type": "code",
   "execution_count": null,
   "metadata": {},
   "outputs": [],
   "source": [
    "%end demonstrations"
   ]
  },
  {
   "cell_type": "code",
   "execution_count": null,
   "metadata": {},
   "outputs": [],
   "source": []
  }
 ],
 "metadata": {
  "kernelspec": {
   "display_name": "Python 3",
   "language": "python",
   "name": "python3"
  }
 },
 "nbformat": 4,
 "nbformat_minor": 0
}
