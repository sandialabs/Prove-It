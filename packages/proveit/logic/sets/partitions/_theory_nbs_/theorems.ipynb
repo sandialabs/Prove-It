{
 "cells": [
  {
   "cell_type": "markdown",
   "metadata": {},
   "source": [
    "Theorems (or conjectures) for the theory of <a class=\"ProveItLink\" href=\"theory.ipynb\">proveit.logic.sets.partitions</a>\n",
    "========"
   ]
  },
  {
   "cell_type": "code",
   "execution_count": null,
   "metadata": {},
   "outputs": [],
   "source": [
    "import proveit\n",
    "# Prepare this notebook for defining the theorems of a theory:\n",
    "%theorems_notebook # Keep this at the top following 'import proveit'.\n",
    "\n",
    "from proveit import A, P, S, X\n",
    "from proveit.logic import And, Equals, Forall, in_bool, InSet, NotEquals\n",
    "from proveit.logic.sets import Disjoint, EmptySet, Partitions, PowerSet, SetOfAll, UnionAll"
   ]
  },
  {
   "cell_type": "code",
   "execution_count": null,
   "metadata": {},
   "outputs": [],
   "source": [
    "%begin theorems"
   ]
  },
  {
   "cell_type": "code",
   "execution_count": null,
   "metadata": {},
   "outputs": [],
   "source": [
    "partitions_membership_def = (\n",
    "    Forall((S, X),\n",
    "    Equals(InSet(X, Partitions(S)),\n",
    "           InSet(X, SetOfAll(P, P,\n",
    "               conditions = [Forall(A, NotEquals(A, EmptySet), domain = P), Disjoint(P),\n",
    "                             Equals(UnionAll(A, A, domain = P), S)],\n",
    "               domain = PowerSet(PowerSet(S))))\n",
    "    ))\n",
    ")"
   ]
  },
  {
   "cell_type": "code",
   "execution_count": null,
   "metadata": {},
   "outputs": [],
   "source": [
    "partitions_membership_unfolding = (\n",
    "    Forall((S, X),\n",
    "    InSet(X, SetOfAll(P, P,\n",
    "               conditions = [Forall(A, NotEquals(A, EmptySet), domain = P), Disjoint(P),\n",
    "                             Equals(UnionAll(A, A, domain = P), S)],\n",
    "               domain = PowerSet(PowerSet(S)))), conditions = [InSet(X, Partitions(S))])\n",
    ")"
   ]
  },
  {
   "cell_type": "code",
   "execution_count": null,
   "metadata": {},
   "outputs": [],
   "source": [
    "partitions_membership_folding = (\n",
    "    Forall((S, X),\n",
    "    InSet(X, Partitions(S)),\n",
    "    conditions = [InSet(X, SetOfAll(P, P,\n",
    "               conditions = [Forall(A, NotEquals(A, EmptySet), domain = P), Disjoint(P),\n",
    "                             Equals(UnionAll(A, A, domain = P), S)],\n",
    "               domain = PowerSet(PowerSet(S))))])\n",
    ")"
   ]
  },
  {
   "cell_type": "code",
   "execution_count": null,
   "metadata": {},
   "outputs": [],
   "source": [
    "partitions_membership_is_bool = (\n",
    "    Forall((S, X), in_bool(InSet(X, Partitions(S))))\n",
    ")"
   ]
  },
  {
   "cell_type": "code",
   "execution_count": null,
   "metadata": {},
   "outputs": [],
   "source": [
    "%end theorems"
   ]
  }
 ],
 "metadata": {
  "kernelspec": {
   "display_name": "Python 3",
   "language": "python",
   "name": "python3"
  }
 },
 "nbformat": 4,
 "nbformat_minor": 0
}
