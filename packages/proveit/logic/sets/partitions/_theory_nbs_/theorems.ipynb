{
 "cells": [
  {
   "cell_type": "markdown",
   "metadata": {},
   "source": [
    "Theorems (or conjectures) for the theory of <a class=\"ProveItLink\" href=\"theory.ipynb\">proveit.logic.sets.partitions</a>\n",
    "========"
   ]
  },
  {
   "cell_type": "code",
   "execution_count": null,
   "metadata": {},
   "outputs": [],
   "source": [
    "import proveit\n",
    "# Prepare this notebook for defining the theorems of a theory:\n",
    "%theorems_notebook # Keep this at the top following 'import proveit'.\n",
    "\n",
    "from proveit import x, A, B, P, S, X\n",
    "from proveit.logic import And, Equals, Forall, in_bool, InSet, NotEquals\n",
    "from proveit.logic.sets import (Disjoint, EmptySet, Partitions, PowerSet,\n",
    "        SetOfAll, SubsetEq, UnionAll)"
   ]
  },
  {
   "cell_type": "code",
   "execution_count": null,
   "metadata": {},
   "outputs": [],
   "source": [
    "%begin theorems"
   ]
  },
  {
   "cell_type": "code",
   "execution_count": null,
   "metadata": {},
   "outputs": [],
   "source": [
    "partitions_membership_def = (\n",
    "    Forall((S, X),\n",
    "    Equals(InSet(X, Partitions(S)),\n",
    "           InSet(X, SetOfAll(P, P,\n",
    "               conditions = [Equals(UnionAll(A, A, domain = P), S),\n",
    "                             Forall(A, NotEquals(A, EmptySet), domain = P),\n",
    "                             Forall((A,B), Disjoint(A, B), domain = P)],\n",
    "               domain = PowerSet(PowerSet(S))))\n",
    "    ))\n",
    ")"
   ]
  },
  {
   "cell_type": "code",
   "execution_count": null,
   "metadata": {},
   "outputs": [],
   "source": [
    "partitions_membership_unfolding = (\n",
    "    Forall((S, X),\n",
    "    InSet(X, SetOfAll(P, P,\n",
    "               conditions = [Equals(UnionAll(A, A, domain = P), S),\n",
    "                             Forall(A, NotEquals(A, EmptySet), domain = P),\n",
    "                             Forall((A,B), Disjoint(A, B), domain = P)],\n",
    "               domain = PowerSet(PowerSet(S)))), conditions = [InSet(X, Partitions(S))])\n",
    ")"
   ]
  },
  {
   "cell_type": "code",
   "execution_count": null,
   "metadata": {},
   "outputs": [],
   "source": [
    "partitions_membership_folding = (\n",
    "    Forall((S, X),\n",
    "    InSet(X, Partitions(S)),\n",
    "    conditions = [InSet(X, SetOfAll(P, P,\n",
    "               conditions = [Equals(UnionAll(A, A, domain = P), S),\n",
    "                             Forall(A, NotEquals(A, EmptySet), domain = P),\n",
    "                             Forall((A,B), Disjoint(A, B), domain = P)],\n",
    "               domain = PowerSet(PowerSet(S))))])\n",
    ")"
   ]
  },
  {
   "cell_type": "code",
   "execution_count": null,
   "metadata": {},
   "outputs": [],
   "source": [
    "partition_elements_are_subsets = Forall((x, X, S), SubsetEq(x, S), conditions = [InSet(X, Partitions(S)), InSet(x, X)])"
   ]
  },
  {
   "cell_type": "code",
   "execution_count": null,
   "metadata": {},
   "outputs": [],
   "source": [
    "partitions_membership_is_bool = (\n",
    "    Forall((S, X), in_bool(InSet(X, Partitions(S))))\n",
    ")"
   ]
  },
  {
   "cell_type": "code",
   "execution_count": null,
   "metadata": {},
   "outputs": [],
   "source": [
    "%end theorems"
   ]
  }
 ],
 "metadata": {
  "kernelspec": {
   "display_name": "Python 3",
   "language": "python",
   "name": "python3"
  }
 },
 "nbformat": 4,
 "nbformat_minor": 0
}
