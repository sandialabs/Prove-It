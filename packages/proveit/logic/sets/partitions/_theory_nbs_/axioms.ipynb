{
 "cells": [
  {
   "cell_type": "markdown",
   "metadata": {},
   "source": [
    "Axioms for the theory of <a class=\"ProveItLink\" href=\"theory.ipynb\">proveit.logic.sets.partitions</a>\n",
    "========"
   ]
  },
  {
   "cell_type": "code",
   "execution_count": null,
   "metadata": {},
   "outputs": [],
   "source": [
    "import proveit\n",
    "# Prepare this notebook for defining the axioms of a theory:\n",
    "%axioms_notebook # Keep this at the top following 'import proveit'.\n",
    "\n",
    "from proveit import A, B, P, S\n",
    "from proveit.logic import And, Equals, Forall, NotEquals\n",
    "from proveit.logic.sets import Disjoint, EmptySet, Partitions, PowerSet, SetOfAll, UnionAll"
   ]
  },
  {
   "cell_type": "code",
   "execution_count": null,
   "metadata": {},
   "outputs": [],
   "source": [
    "%begin axioms"
   ]
  },
  {
   "cell_type": "markdown",
   "metadata": {},
   "source": [
    "A __partition__ $P$ of a set $S$ is a set of non-empty mutually disjoint subsets of $S$ whose union is $S$. This means that a partition $P$ of a set $S$ is a _subset_ of $\\mathcal{P}(S)$, the power set of $S$, and thus $P$ is an _element_ of $\\mathcal{P}(\\mathcal{P}(S))$, and the set of all partitions is a subset of $\\mathcal{P}(\\mathcal{P}(S))$. Using set comprehension, we can formulate this as:\n",
    "$$\\forall_{S} \\Big[\n",
    "\\texttt{Partitions}(S) =\n",
    "\\{P \\,|\\, \\big(\\forall_{A \\in P} (A \\ne \\emptyset)\\big) \\land\n",
    "\\texttt{Disjoint}(P)                                    \\land\n",
    "\\big(\\big(\\bigcup\\limits_{A \\in P} A\\big) = S\\big)      \n",
    "\\}_{P \\in \\mathcal{P}(\\mathcal{P}(S))}\n",
    "\\Big]$$\n",
    "and as an axiomatic definition in Prove-It as:"
   ]
  },
  {
   "cell_type": "code",
   "execution_count": null,
   "metadata": {},
   "outputs": [],
   "source": [
    "partitions_def = (\n",
    "    Forall(S,\n",
    "    Equals(Partitions(S),\n",
    "           SetOfAll(P, P,\n",
    "               conditions = [Equals(UnionAll(A, A, domain = P), S),\n",
    "                             Forall(A, NotEquals(A, EmptySet), domain = P),\n",
    "                             Forall((A, B), Disjoint(A, B), domain = P)],\n",
    "               domain = PowerSet(PowerSet(S)))\n",
    "    ))\n",
    ")"
   ]
  },
  {
   "cell_type": "code",
   "execution_count": null,
   "metadata": {},
   "outputs": [],
   "source": [
    "%end axioms"
   ]
  }
 ],
 "metadata": {
  "kernelspec": {
   "display_name": "Python 3",
   "language": "python",
   "name": "python3"
  }
 },
 "nbformat": 4,
 "nbformat_minor": 0
}
