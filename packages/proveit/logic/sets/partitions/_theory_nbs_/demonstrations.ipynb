{
 "cells": [
  {
   "cell_type": "markdown",
   "metadata": {},
   "source": [
    "Demonstrations for the theory of <a class=\"ProveItLink\" href=\"theory.ipynb\">proveit.logic.sets.partitions</a>\n",
    "========"
   ]
  },
  {
   "cell_type": "code",
   "execution_count": null,
   "metadata": {},
   "outputs": [],
   "source": [
    "import proveit\n",
    "from proveit import P, S\n",
    "from proveit.logic import InClass, InSet\n",
    "from proveit.logic.sets import Partitions\n",
    "%begin demonstrations"
   ]
  },
  {
   "cell_type": "code",
   "execution_count": null,
   "metadata": {},
   "outputs": [],
   "source": []
  },
  {
   "cell_type": "markdown",
   "metadata": {},
   "source": [
    "### Testing of Partition-related Classes & Methods"
   ]
  },
  {
   "cell_type": "markdown",
   "metadata": {},
   "source": [
    "#### Basic Constructions"
   ]
  },
  {
   "cell_type": "markdown",
   "metadata": {},
   "source": [
    "Partitions(S) denotes the set of all partitions of set $S$."
   ]
  },
  {
   "cell_type": "code",
   "execution_count": null,
   "metadata": {},
   "outputs": [],
   "source": [
    "Partitions(S)"
   ]
  },
  {
   "cell_type": "markdown",
   "metadata": {},
   "source": [
    "We can claim that $P$ is a partition of set $S$ by claiming that $P$ is in `Partitions(S)`."
   ]
  },
  {
   "cell_type": "code",
   "execution_count": null,
   "metadata": {},
   "outputs": [],
   "source": [
    "InSet(P, Partitions(S))"
   ]
  },
  {
   "cell_type": "markdown",
   "metadata": {},
   "source": [
    "#### Testing `PartitionsMembership` methods"
   ]
  },
  {
   "cell_type": "code",
   "execution_count": null,
   "metadata": {},
   "outputs": [],
   "source": [
    "InSet(P, Partitions(S)).deduce_in_bool()"
   ]
  },
  {
   "cell_type": "code",
   "execution_count": null,
   "metadata": {},
   "outputs": [],
   "source": [
    "InSet(P, Partitions(S)).definition()"
   ]
  },
  {
   "cell_type": "code",
   "execution_count": null,
   "metadata": {},
   "outputs": [],
   "source": [
    "InSet(P, Partitions(S)).as_defined()"
   ]
  },
  {
   "cell_type": "code",
   "execution_count": null,
   "metadata": {},
   "outputs": [],
   "source": [
    "in_partitions_means_in_setofall = InSet(P, Partitions(S)).unfold(assumptions = [InSet(P, Partitions(S))])"
   ]
  },
  {
   "cell_type": "code",
   "execution_count": null,
   "metadata": {},
   "outputs": [],
   "source": [
    "temp_assumption = in_partitions_means_in_setofall.expr"
   ]
  },
  {
   "cell_type": "code",
   "execution_count": null,
   "metadata": {},
   "outputs": [],
   "source": [
    "InSet(P, Partitions(S)).conclude(assumptions = [temp_assumption])"
   ]
  },
  {
   "cell_type": "markdown",
   "metadata": {},
   "source": [
    "#### Utilizing the Partitions(S) Concept"
   ]
  },
  {
   "cell_type": "markdown",
   "metadata": {},
   "source": [
    "The sets $A = \\{1, 2, 3, 4, 5\\}$ and $B = \\{6, 7, 8, 9, 10\\}$ form a partition of the set $C = \\{1, 2, \\ldots, 10\\}$. Can we prove that $\\{A, B\\} \\in \\texttt{Partitions}(C)$?"
   ]
  },
  {
   "cell_type": "code",
   "execution_count": null,
   "metadata": {},
   "outputs": [],
   "source": [
    "from proveit import x, A, B, C\n",
    "from proveit.logic import Equals, Exists, Forall, Not, NotEquals, NotExists\n",
    "from proveit.logic.sets import Disjoint, EmptySet, Set, Union\n",
    "from proveit.numbers import one, five, six, Interval, num"
   ]
  },
  {
   "cell_type": "code",
   "execution_count": null,
   "metadata": {},
   "outputs": [],
   "source": [
    "A, B, C, partition_set = [\n",
    "    Interval(one, five), Interval(six, num(10)), Interval(one, num(10)), Set(Interval(one, five), Interval(six, num(10)))]"
   ]
  },
  {
   "cell_type": "code",
   "execution_count": null,
   "metadata": {},
   "outputs": [],
   "source": [
    "partition_set"
   ]
  },
  {
   "cell_type": "code",
   "execution_count": null,
   "metadata": {},
   "outputs": [],
   "source": [
    "Disjoint(A, B).conclude()"
   ]
  },
  {
   "cell_type": "markdown",
   "metadata": {},
   "source": [
    "In the definition of a partition, we need all partitioning sets to be mutually disjoint, which will not be easy to confirm, as illustrated here:"
   ]
  },
  {
   "cell_type": "code",
   "execution_count": null,
   "metadata": {},
   "outputs": [],
   "source": [
    "try:\n",
    "    Forall((A, B), Disjoint(A, B), domain = partition_set).prove()\n",
    "except Exception as the_exception:\n",
    "    print(f\"Exception: {the_exception}\")"
   ]
  },
  {
   "cell_type": "markdown",
   "metadata": {},
   "source": [
    "How do we prove that $A$ and $B$ are each _not_ the empty set? It turns out that it's not straighforward despite the fact that we have, and can “do”, the following:"
   ]
  },
  {
   "cell_type": "code",
   "execution_count": null,
   "metadata": {},
   "outputs": [],
   "source": [
    "from proveit.logic.sets import nothing_is_in_empty\n",
    "nothing_is_in_empty"
   ]
  },
  {
   "cell_type": "code",
   "execution_count": null,
   "metadata": {},
   "outputs": [],
   "source": [
    "nothing_is_in_empty.inner_expr().instance_expr.unfold_not_in()"
   ]
  },
  {
   "cell_type": "code",
   "execution_count": null,
   "metadata": {},
   "outputs": [],
   "source": [
    "one_is_not_in_emptyset = nothing_is_in_empty.instantiate({x: one})"
   ]
  },
  {
   "cell_type": "code",
   "execution_count": null,
   "metadata": {},
   "outputs": [],
   "source": [
    "one_is_in_A = InSet(one, A).prove()"
   ]
  },
  {
   "cell_type": "markdown",
   "metadata": {},
   "source": [
    "The fact that $1 \\in \\{1, 2, 3, 4, 5\\}$ but $1 \\notin \\emptyset$ does not, however, allow Prove-It to automatically conclude that $\\{1, 2, 3, 4, 5\\}$ is not the empty set."
   ]
  },
  {
   "cell_type": "markdown",
   "metadata": {},
   "source": [
    "So, we'll put the non-equality with the EmptySet into the assumptions … but this is still a nightmare:"
   ]
  },
  {
   "cell_type": "code",
   "execution_count": null,
   "metadata": {},
   "outputs": [],
   "source": [
    "try:\n",
    "    InSet(partition_set, Partitions(C)).conclude(\n",
    "    assumptions = [NotEquals(A, EmptySet), NotEquals(B, EmptySet), Equals(Union(A, B), C)])\n",
    "except Exception as the_exception:\n",
    "    print(f\"Exception: {the_exception}\")"
   ]
  },
  {
   "cell_type": "code",
   "execution_count": null,
   "metadata": {},
   "outputs": [],
   "source": [
    "%end demonstrations"
   ]
  }
 ],
 "metadata": {
  "kernelspec": {
   "display_name": "Python 3",
   "language": "python",
   "name": "python3"
  }
 },
 "nbformat": 4,
 "nbformat_minor": 0
}
