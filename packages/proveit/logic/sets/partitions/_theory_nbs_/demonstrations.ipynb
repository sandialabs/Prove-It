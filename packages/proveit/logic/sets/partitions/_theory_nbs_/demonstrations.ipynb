{
 "cells": [
  {
   "cell_type": "markdown",
   "metadata": {},
   "source": [
    "Demonstrations for the theory of <a class=\"ProveItLink\" href=\"theory.ipynb\">proveit.logic.sets.partitions</a>\n",
    "========"
   ]
  },
  {
   "cell_type": "code",
   "execution_count": null,
   "metadata": {},
   "outputs": [],
   "source": [
    "import proveit\n",
    "from proveit import x, A, B, C, P, S, defaults\n",
    "from proveit.logic import Equals, Forall, InClass, InSet, NotEquals\n",
    "from proveit.logic.sets import Disjoint, EmptySet, Partitions, PowerSet, Set, SetOfAll, UnionAll\n",
    "from proveit.numbers import one, five, six, num, Interval\n",
    "%begin demonstrations"
   ]
  },
  {
   "cell_type": "markdown",
   "metadata": {},
   "source": [
    "### Testing of Partition-related Classes & Methods"
   ]
  },
  {
   "cell_type": "markdown",
   "metadata": {},
   "source": [
    "#### Basic Constructions"
   ]
  },
  {
   "cell_type": "markdown",
   "metadata": {},
   "source": [
    "Partitions(S) denotes the set of all partitions of set $S$."
   ]
  },
  {
   "cell_type": "code",
   "execution_count": null,
   "metadata": {},
   "outputs": [],
   "source": [
    "Partitions(S)"
   ]
  },
  {
   "cell_type": "markdown",
   "metadata": {},
   "source": [
    "We can claim that $P$ is a partition of set $S$ by claiming that $P$ is in `Partitions(S)`."
   ]
  },
  {
   "cell_type": "code",
   "execution_count": null,
   "metadata": {},
   "outputs": [],
   "source": [
    "InSet(P, Partitions(S))"
   ]
  },
  {
   "cell_type": "markdown",
   "metadata": {},
   "source": [
    "#### Testing `PartitionsMembership` methods"
   ]
  },
  {
   "cell_type": "code",
   "execution_count": null,
   "metadata": {},
   "outputs": [],
   "source": [
    "InSet(P, Partitions(S)).deduce_in_bool()"
   ]
  },
  {
   "cell_type": "code",
   "execution_count": null,
   "metadata": {},
   "outputs": [],
   "source": [
    "InSet(P, Partitions(S)).definition()"
   ]
  },
  {
   "cell_type": "code",
   "execution_count": null,
   "metadata": {},
   "outputs": [],
   "source": [
    "InSet(P, Partitions(S)).as_defined()"
   ]
  },
  {
   "cell_type": "code",
   "execution_count": null,
   "metadata": {},
   "outputs": [],
   "source": [
    "in_partitions_means_in_setofall = InSet(P, Partitions(S)).unfold(assumptions = [InSet(P, Partitions(S))])"
   ]
  },
  {
   "cell_type": "code",
   "execution_count": null,
   "metadata": {},
   "outputs": [],
   "source": [
    "temp_assumption = in_partitions_means_in_setofall.expr"
   ]
  },
  {
   "cell_type": "code",
   "execution_count": null,
   "metadata": {},
   "outputs": [],
   "source": [
    "InSet(P, Partitions(S)).conclude(assumptions = [temp_assumption])"
   ]
  },
  {
   "cell_type": "markdown",
   "metadata": {},
   "source": [
    "#### Checking Side-Effects of `Partitions(S)` Membership\n",
    "\n",
    "If $P \\in \\texttt{Partitions}(S)$, then we know that:\n",
    "- $\\bigcup\\limits_{A \\in P} A = S$\n",
    "- $\\forall_{A \\in P}\\big(A \\ne \\emptyset\\big)$\n",
    "- $\\forall_{A, B \\in P}\\big(\\texttt{disjoint}(A, B)\\big)$\n"
   ]
  },
  {
   "cell_type": "code",
   "execution_count": null,
   "metadata": {},
   "outputs": [],
   "source": [
    "defaults.assumptions = [InSet(P, Partitions(S))]"
   ]
  },
  {
   "cell_type": "code",
   "execution_count": null,
   "metadata": {},
   "outputs": [],
   "source": [
    "InSet(P, SetOfAll(P, P,\n",
    "                  conditions = [Equals(UnionAll(A, A, domain = P), S),\n",
    "                                Forall(A, NotEquals(A, EmptySet), domain = P),\n",
    "                                Forall((A, B), Disjoint(A, B), domain = P)],\n",
    "                  domain = PowerSet(PowerSet(S)))).prove()"
   ]
  },
  {
   "cell_type": "code",
   "execution_count": null,
   "metadata": {},
   "outputs": [],
   "source": [
    "defaults.assumptions = []"
   ]
  },
  {
   "cell_type": "markdown",
   "metadata": {},
   "source": [
    "#### Utilizing the Partitions(S) Concept?"
   ]
  },
  {
   "cell_type": "markdown",
   "metadata": {},
   "source": [
    "At the time of this writing (August 2025), the Partitions concept is difficult to use at the level of proofs, because we still lack some infrastructure development to support the establishment of the required conditions that the elements of the supposed partition all consist of non-empty mutually-disjoint subsets of the original set whose union gives the original set.\n",
    "\n",
    "For example, the sets $A = \\{1, 2, 3, 4, 5\\}$ and $B = \\{6, 7, 8, 9, 10\\}$ form a partition of the set $C = \\{1, 2, \\ldots, 10\\}$. Can we prove that $\\{A, B\\} \\in \\texttt{Partitions}(C)$? Not at this time. It's difficult to even prove that $A$ and $B$ are each not equal to the empty set. And though we can pretty easily prove that $A$ and $B$ are disjoint, due to prior development of the enumerated set Set() class, it is then still difficult to convert that to a proof that $\\forall_{A, B \\in P}\\big(\\texttt{disjoint}(A, B)\\big)$ for $P = \\{A, B\\}$.\n",
    "\n",
    "Nevertheless, it could and will be useful to be able to posit or assumer that some set of sets, say $P$, is a partition of some other set, say $S$, allowing us to then conclude that elements of $P$ are non-empty mutually-disjoint subsets of $S$ whose union gives $S$. The accessibility of such conclusions will depend on the development in the SetOfAll class."
   ]
  },
  {
   "cell_type": "code",
   "execution_count": null,
   "metadata": {},
   "outputs": [],
   "source": [
    "A, B, C, partition_set = [\n",
    "    Interval(one, five), Interval(six, num(10)), Interval(one, num(10)), Set(Interval(one, five), Interval(six, num(10)))]"
   ]
  },
  {
   "cell_type": "code",
   "execution_count": null,
   "metadata": {},
   "outputs": [],
   "source": [
    "partition_set"
   ]
  },
  {
   "cell_type": "code",
   "execution_count": null,
   "metadata": {},
   "outputs": [],
   "source": [
    "Disjoint(A, B).conclude()"
   ]
  },
  {
   "cell_type": "code",
   "execution_count": null,
   "metadata": {},
   "outputs": [],
   "source": [
    "%end demonstrations"
   ]
  }
 ],
 "metadata": {
  "kernelspec": {
   "display_name": "Python 3",
   "language": "python",
   "name": "python3"
  }
 },
 "nbformat": 4,
 "nbformat_minor": 0
}
