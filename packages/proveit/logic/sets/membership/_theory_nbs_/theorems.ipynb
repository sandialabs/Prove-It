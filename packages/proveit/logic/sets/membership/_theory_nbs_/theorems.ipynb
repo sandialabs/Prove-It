{
 "cells": [
  {
   "cell_type": "markdown",
   "metadata": {},
   "source": [
    "Theorems (or conjectures) for the theory of <a class=\"ProveItLink\" href=\"theory.ipynb\">proveit.logic.sets.membership</a>\n",
    "========"
   ]
  },
  {
   "cell_type": "code",
   "execution_count": null,
   "metadata": {},
   "outputs": [],
   "source": [
    "import proveit\n",
    "# Prepare this notebook for defining the theorems of a theory:\n",
    "%theorems_notebook # Keep this at the top following 'import proveit'.\n",
    "from proveit import ExprTuple, IndexedVar\n",
    "from proveit.logic import Forall, Not, Equals, InSet, NotInSet, EmptySet, in_bool\n",
    "from proveit import i, m, n, x, S\n",
    "from proveit.numbers import zero, num, Natural, Exp, Interval\n",
    "%begin theorems"
   ]
  },
  {
   "cell_type": "raw",
   "metadata": {},
   "source": [
    "exp_set_0 = Forall(S, InSet(ExprTuple(), Exp(S, zero)))"
   ]
  },
  {
   "cell_type": "raw",
   "metadata": {},
   "source": [
    "def nvars(n):\n",
    "    return [proveit._common_.__getattr__(chr(ord('a')+k)) for k in range(n)]\n",
    "exp_set_1, exp_set_2, exp_set_3, exp_set_4, exp_set_5, exp_set_6, exp_set_7, exp_set_8, exp_set_9 = \\\n",
    "    [Forall(S, Forall(nvars(n), InSet(ExprTuple(*nvars(n)), Exp(S, num(n))), domain=S)) for n in range(1, 10)]"
   ]
  },
  {
   "cell_type": "raw",
   "metadata": {},
   "source": [
    "mem_exp_set_length = Forall(\n",
    "    m,\n",
    "    Forall(S,\n",
    "           Forall(x,\n",
    "                  Equals(Len(x), m),\n",
    "                  domain = Exp(S, m))),\n",
    "    domain = Natural)"
   ]
  },
  {
   "cell_type": "raw",
   "metadata": {},
   "source": [
    "mem_exp_set_item_set = Forall(\n",
    "    m,\n",
    "    Forall(S, Forall(x, Forall(i, InSet(IndexedVar(x,i),S),\n",
    "                               domain = Interval(num(1),m)),\n",
    "                     domain = Exp(S, m))),\n",
    "    domain = Natural)"
   ]
  },
  {
   "cell_type": "code",
   "execution_count": null,
   "metadata": {},
   "outputs": [],
   "source": [
    "# Proven. Used by the NotInSet class's deduce_in_bool() method\n",
    "not_in_set_is_bool = Forall( (x, S), in_bool(NotInSet(x, S)), conditions=[in_bool(InSet(x, S))] )"
   ]
  },
  {
   "cell_type": "code",
   "execution_count": null,
   "metadata": {},
   "outputs": [],
   "source": [
    "unfold_not_in_set = Forall((x, S), Not(InSet(x, S)), conditions=[NotInSet(x, S)])"
   ]
  },
  {
   "cell_type": "code",
   "execution_count": null,
   "metadata": {},
   "outputs": [],
   "source": [
    "fold_not_in_set = Forall((x, S), NotInSet(x, S), conditions=[Not(InSet(x, S))])"
   ]
  },
  {
   "cell_type": "code",
   "execution_count": null,
   "metadata": {},
   "outputs": [],
   "source": [
    "double_negated_membership = Forall((x, S), Not(NotInSet(x, S)), conditions=[InSet(x, S)])"
   ]
  },
  {
   "cell_type": "markdown",
   "metadata": {},
   "source": [
    "Might be useful to have an additional theorem here along the lines of:\n",
    "$(x\\in S \\Rightarrow \\bot) \\Rightarrow (x\\notin S)$\n",
    "(a form of “deny_via_contradiction” or some similar name)"
   ]
  },
  {
   "cell_type": "code",
   "execution_count": null,
   "metadata": {},
   "outputs": [],
   "source": [
    "%end theorems"
   ]
  },
  {
   "cell_type": "code",
   "execution_count": null,
   "metadata": {},
   "outputs": [],
   "source": []
  }
 ],
 "metadata": {
  "kernelspec": {
   "display_name": "Python 3",
   "language": "python",
   "name": "python3"
  }
 },
 "nbformat": 4,
 "nbformat_minor": 0
}
