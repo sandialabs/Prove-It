{
 "cells": [
  {
   "cell_type": "markdown",
   "metadata": {},
   "source": [
    "Theorems (or conjectures) for the theory of <a class=\"ProveItLink\" href=\"theory.ipynb\">proveit.logic.sets.membership</a>\n",
    "========"
   ]
  },
  {
   "cell_type": "code",
   "execution_count": 1,
   "metadata": {},
   "outputs": [
    {
     "name": "stdout",
     "output_type": "stream",
     "text": [
      "Defining theorems for theory 'proveit.logic.sets.membership'\n",
      "Subsequent end-of-cell assignments will define theorems\n",
      "'%end theorems' will finalize the definitions\n"
     ]
    }
   ],
   "source": [
    "import proveit\n",
    "# Prepare this notebook for defining the theorems of a theory:\n",
    "%theorems_notebook # Keep this at the top following 'import proveit'.\n",
    "from proveit import ExprTuple, IndexedVar\n",
    "from proveit.logic import Forall, Not, Equals, InSet, NotInSet, EmptySet, in_bool\n",
    "from proveit import i, m, n, x, S\n",
    "from proveit.numbers import zero, num, Natural, Exp, Interval\n",
    "%begin theorems"
   ]
  },
  {
   "cell_type": "raw",
   "metadata": {},
   "source": [
    "exp_set_0 = Forall(S, InSet(ExprTuple(), Exp(S, zero)))"
   ]
  },
  {
   "cell_type": "raw",
   "metadata": {},
   "source": [
    "def nvars(n):\n",
    "    return [proveit._common_.__getattr__(chr(ord('a')+k)) for k in range(n)]\n",
    "exp_set_1, exp_set_2, exp_set_3, exp_set_4, exp_set_5, exp_set_6, exp_set_7, exp_set_8, exp_set_9 = \\\n",
    "    [Forall(S, Forall(nvars(n), InSet(ExprTuple(*nvars(n)), Exp(S, num(n))), domain=S)) for n in range(1, 10)]"
   ]
  },
  {
   "cell_type": "raw",
   "metadata": {},
   "source": [
    "mem_exp_set_length = Forall(\n",
    "    m,\n",
    "    Forall(S,\n",
    "           Forall(x,\n",
    "                  Equals(Len(x), m),\n",
    "                  domain = Exp(S, m))),\n",
    "    domain = Natural)"
   ]
  },
  {
   "cell_type": "raw",
   "metadata": {},
   "source": [
    "mem_exp_set_item_set = Forall(\n",
    "    m,\n",
    "    Forall(S, Forall(x, Forall(i, InSet(IndexedVar(x,i),S),\n",
    "                               domain = Interval(num(1),m)),\n",
    "                     domain = Exp(S, m))),\n",
    "    domain = Natural)"
   ]
  },
  {
   "cell_type": "code",
   "execution_count": 2,
   "metadata": {},
   "outputs": [
    {
     "data": {
      "text/html": [
       "<strong id=\"not_in_set_is_bool\"><a class=\"ProveItLink\" href=\"proofs/not_in_set_is_bool/thm_proof.ipynb\">not_in_set_is_bool</a> (conjecture with conjecture-based proof):<br></strong> <a class=\"ProveItLink\" href=\"../__pv_it/theorems/265b5c6a403d82b7d4fb8a5f0077fd83fb92d2300/theorem_expr.ipynb\"><img src=\"data:image/png;base64,iVBORw0KGgoAAAANSUhEUgAAAP0AAAAXCAMAAAD3NLkqAAAARVBMVEX///8AAAAAAAAAAAAAAAAA\n",
       "AAAAAAAAAAAAAAAAAAAAAAAAAAAAAAAAAAAAAAAAAAAAAAAAAAAAAAAAAAAAAAAAAAAAAAAeYafp\n",
       "AAAAFnRSTlMAq1RmmUTNIjK7EInv3Xbp8+P355HBoPSVsQAAAAlwSFlzAAAOxAAADsQBlSsOGwAA\n",
       "A4hJREFUWMPdWAmu3CAMZV+Du3P/oxbIZgNJZqRWUxVV9Sg8J35e4TP27yzbyXvUq8//DPyvLxBU\n",
       "XiwT5s81PLw+Ld5ksySuTzg/toX8KHkRqbxYjndqSsXIZGEET/b7StmasNJvcKUPp340GYKh8mqd\n",
       "9q6MagiDz3dZgdgXxtGWHzv88KX1Hw29klRerUS1VBOyuUyqV9hLseV7g+8ei+Kj7JdOzirXp/Tl\n",
       "K8mN7HDNL2HAp2RG9tujCpebs81nq95QOelqBoq13JFneTXerU+NHPBj7LmVW2dp8KV6KC3xs4kf\n",
       "qQwAPLh4JqRtOdp1hZBzRO6IqCPasQvUrhcg8Yjhqun78JKRNGDPfRJeZL+HbZflQ8CBqUR7suze\n",
       "J3NZfDdDIt9Menhhn8ySkwoIbvn+3yTdIoAEh16AP60vyZx6qs/waFRSQ49JgkhpK7PA+JHLZj7s\n",
       "A/ic914hUNMwV10PpN7essJr2OOUiaiudplN2YfeYQ6497rT05FuAovMCuH6pqeJbH7DBFyrz2/f\n",
       "UxpHk8qbMrJ0xdflO/ZVRASvtpqbRszn7LvJW6aPm+mtjj42K3sWg7hn337iLA9+MpfkXv3bY710\n",
       "+FnsKweP4eaoJwBly79joMjuSOyHyXto4KMW1msWn5st9jKG+8xv/bzoh0C+Rof9nnw2byiRrs4F\n",
       "HXuD4VFslQCWcc/MYQHk7CV9AWqqRIM4G+sJRSJROplaFjdYBliGUiO8RuYcRFA2dNd0E50TTCIb\n",
       "AK7ZC8Bwu/AjlcrnkWlBqMzn7LUnGpp4CelVHNqssXcK+jazD6tViuyCKuw1yvTiYTrsy0CIdM4p\n",
       "PLWNmLCvVQdRUTh6bUZ5HtYMnLMXnGhI49sSvZ7zZHOte9afLlzCMqgSOqGkIHnuf4Ru/GquOD9B\n",
       "SVO8xngwi/fnHa+Hb73yrPPV8+T8j347TzTcyYfq1cxHmxv7IS+To3Kyfv7y5OQ6XNlTP3Zv8T3c\n",
       "LiyaNqJDNVe16HLLrrveqYGOS1SvFeC5ubJ3A/v9inJzVXm6w6n3rugDvNRjOabUm98i6iGw3p3t\n",
       "Rddj3mKNEus9alSvwY5NYcBE7yd2ekvlGKuHS+ibl9RbuLi4JOLE6o5dsZZ2X0tbu59vToDTSf3S\n",
       "JdS/9/eJO7gOj+yZeuVz6mWbLFDZL/5wo3iP/C1csmf2LD7fjKRm/8/qHPbMPvzTdH4DX5sewaAm\n",
       "9xgAAAAASUVORK5CYII=\n",
       "\" style=\"display:inline;vertical-align:middle;\" /></a><br>"
      ],
      "text/plain": [
       "<IPython.core.display.HTML object>"
      ]
     },
     "metadata": {},
     "output_type": "display_data"
    }
   ],
   "source": [
    "# Proven. Used by the NotInSet class's deduce_in_bool() method\n",
    "not_in_set_is_bool = Forall( (x, S), in_bool(NotInSet(x, S)), conditions=[in_bool(InSet(x, S))] )"
   ]
  },
  {
   "cell_type": "code",
   "execution_count": 3,
   "metadata": {},
   "outputs": [
    {
     "data": {
      "text/html": [
       "<strong id=\"unfold_not_in_set\"><a class=\"ProveItLink\" href=\"proofs/unfold_not_in_set/thm_proof.ipynb\">unfold_not_in_set</a> (established theorem):<br></strong> <a class=\"ProveItLink\" href=\"../__pv_it/theorems/698ac32a88558710a20dc514951e97c4ca050a9b0/theorem_expr.ipynb\"><img src=\"data:image/png;base64,iVBORw0KGgoAAAANSUhEUgAAAMIAAAAXCAMAAABuzGCfAAAAPFBMVEX///8AAAAAAAAAAAAAAAAA\n",
       "AAAAAAAAAAAAAAAAAAAAAAAAAAAAAAAAAAAAAAAAAAAAAAAAAAAAAAAAAAAo1xBWAAAAE3RSTlMA\n",
       "q1RmmUTNIjK7EInv3XbPqdvtPAm6/gAAAAlwSFlzAAAOxAAADsQBlSsOGwAAApxJREFUWMPVV4uS\n",
       "nSAM5RFeQdi2/P+/FgQUFPTajtsps7PZ9SSYkxdIyHcs9Rj4bD9Fvmt59hS4WcK3km7PGX+JAbNP\n",
       "gZk+gLWEi8i9+LpKEFVBvpQWlE+ByTIp5mjC6iwWp6PUNQ3KvJQE4E+BiTqsgq/Eef4ny8rHspco\n",
       "LI+BVCHGxdWlKei2D5bidpK8xEK+1QnyKRDdlB5Pz0J2VGcmsrqd5JL4usW+VUf2BkDvKWrbVIGS\n",
       "OOicEKze/7W0kbACBj/yZw5xPX4uZxVfgbinp56AI9eDhYe4aIW4bKSi9dcgo9Z77nfnLlrejC2I\n",
       "y9EFty3oAK6Sd0joTnVSYehNCLWB2NLKlAArhuWaWkcHckNBe2q+fowtyHLcuUarAIktdE7rpZI9\n",
       "vw5C2a6+I8v0WnkxM+gNBUilSHFscUth/dN30R69hdeOKC0jlk5Kwsse3oOKP9sc44ebSLP5prqe\n",
       "kEgnFrVezhR2QIRogHszukERFSMVihpznbSsjACvCDVEbnv7EAwfFHyrmmPmxcQin6kdBWgBNILQ\n",
       "FEnbRudc0u4w37jppFrolq24cdOLyCDQIYVNVfAOOFps0++0MsCCRogURJsseTpmwdl+s8qlSrp7\n",
       "HZoiwJxlMumFrMqlMebrp2FjC6LdhEIGEGLMGXDWl40ReJjmggKlu5YTvWynwV7JOTDd3cmcVXUK\n",
       "Q2nmgUV8yeTAmAPrbDbHC0Zfja6X2/OFWLmeNZj8gjVrVI0o7KppJtdmG1jsN7LzkIG/vzuerorg\n",
       "08mU7q8LS8d2up+rcTtvqjHoup78A4tkNLvFmz++3tdEX16v2dURfBh49ldsBzH/YDBPgftPB3Uf\n",
       "BIGfU7j93lP+KXD3Jat6Oa5T8oACRfL/rDHrf8vgNxUyFOiy7tStAAAAAElFTkSuQmCC\n",
       "\" style=\"display:inline;vertical-align:middle;\" /></a><br>"
      ],
      "text/plain": [
       "<IPython.core.display.HTML object>"
      ]
     },
     "metadata": {},
     "output_type": "display_data"
    }
   ],
   "source": [
    "unfold_not_in_set = Forall((x, S), Not(InSet(x, S)), conditions=[NotInSet(x, S)])"
   ]
  },
  {
   "cell_type": "code",
   "execution_count": 4,
   "metadata": {},
   "outputs": [
    {
     "data": {
      "text/html": [
       "<strong id=\"fold_not_in_set\"><a class=\"ProveItLink\" href=\"proofs/fold_not_in_set/thm_proof.ipynb\">fold_not_in_set</a> (established theorem):<br></strong> <a class=\"ProveItLink\" href=\"../__pv_it/theorems/9150c63d36d5380bd6073fe1318aa179e576dc510/theorem_expr.ipynb\"><img src=\"data:image/png;base64,iVBORw0KGgoAAAANSUhEUgAAALwAAAAXCAMAAACGTNW0AAAAP1BMVEX///8AAAAAAAAAAAAAAAAA\n",
       "AAAAAAAAAAAAAAAAAAAAAAAAAAAAAAAAAAAAAAAAAAAAAAAAAAAAAAAAAAAAAADFBd4eAAAAFHRS\n",
       "TlMAq1RmmUTNIjK7EInv3Xbp8+P3nXbhrUQAAAAJcEhZcwAADsQAAA7EAZUrDhsAAAKiSURBVFjD\n",
       "zVeJjtwgDOU+DLjtlv//1kISEiBAZqtqpmiV1RDbPF8Ph5APL/13bzX5Dxay5WsFkxcS85Oevxl/\n",
       "P3bmlq8N7eWFcI5wmbzOaIU8vXx/KkCt31/g9mVzvMHGkpTTOW3fH3jxkOzQiYvtH99c5qIqK8fe\n",
       "D96vusGGHz9Dk5poqnonPgHnh/fqAxU/P1MqBEJNuxd3qGbfVvmXD3l594GqKWcCIgXjruTrXA99\n",
       "R0CMrnLH5YIX24aFV06bxvCFZsc7EfLLLlIkIjTkwXsNHtOi5ait9DUtj0H2HCLH091ZT3M5x3yZ\n",
       "uLkejkhznYGlMjn7V41JHtDGWBqF+RJ0NzyeZd9NJA/g4ea5QWqt7EzIvjL9cejmWV0jJpfyr6/0\n",
       "uJ8oYtGKxb5asAF9At/TceI0MzLRh9JXer6uEbAD+uOl8o996Y8klfJCFDr9ndzE2znCLun4VMaK\n",
       "vmsTPZzAKiZJIgC1xTBOr46HFAuH0SMmqAm1RJ02MUZb3yNj8Fq1ylCL1SaYGFyYOc6S0BzGq6wQ\n",
       "ieyED6wXRfH9GO3pmZlksKIjYCLSIXhn95VMStsqy+berEzIznm377NoQCTwskqMYh3JJypylU7l\n",
       "RSUYK9KDPaHLyCdbjLbKXO1+sd6E6fTNHkwQKdBMcNYUyZeEjqYlFZReQuHGMcZfNb5Hop55xuBP\n",
       "TIeyudLfmujLhgQzZVj+29nENvM7WHc9oT1xauNjyOeLLaJUL8GL0lqXcnXhtSbwduuI70/y06FO\n",
       "YL5S8qzpWb568/SsHxuWWN0op0iXiLYmrB5rjuL6NOMuBYYzpp1dov2ttbVzX5NwV4cZhMcZ1y4G\n",
       "EgnfAE/ES98xIymNY1n6NCitThx/JUxT5V4Y61YD0Gc/9V8AD/8czh+fBRQIyHz8GAAAAABJRU5E\n",
       "rkJggg==\n",
       "\" style=\"display:inline;vertical-align:middle;\" /></a><br>"
      ],
      "text/plain": [
       "<IPython.core.display.HTML object>"
      ]
     },
     "metadata": {},
     "output_type": "display_data"
    }
   ],
   "source": [
    "fold_not_in_set = Forall((x, S), NotInSet(x, S), conditions=[Not(InSet(x, S))])"
   ]
  },
  {
   "cell_type": "code",
   "execution_count": 5,
   "metadata": {},
   "outputs": [
    {
     "data": {
      "text/html": [
       "<strong id=\"double_negated_membership\"><a class=\"ProveItLink\" href=\"proofs/double_negated_membership/thm_proof.ipynb\">double_negated_membership</a> (conjecture without proof):<br></strong> <a class=\"ProveItLink\" href=\"../__pv_it/theorems/940dd61f3f675692191bc125dfe493f6266b9af50/theorem_expr.ipynb\"><img src=\"data:image/png;base64,iVBORw0KGgoAAAANSUhEUgAAAMIAAAAXCAMAAABuzGCfAAAAP1BMVEX///8AAAAAAAAAAAAAAAAA\n",
       "AAAAAAAAAAAAAAAAAAAAAAAAAAAAAAAAAAAAAAAAAAAAAAAAAAAAAAAAAAAAAADFBd4eAAAAFHRS\n",
       "TlMAq1RmmUTNIjK7EInv3Xbp8+P3nXbhrUQAAAAJcEhZcwAADsQAAA7EAZUrDhsAAAKoSURBVFjD\n",
       "zVeJctwgDOUQl7Bpm/L/31owhwHj9TLTzUSTiRJLwnq6kAn5DlLLgvfMFPkucmxVkEjijUC4ltP6\n",
       "nPEPIWB2VZBI01EfwFrCRcCefT04iIr5Q2lBuSrIdLqWyMSYo/FtgiKvUJX5UBKArwoy7YM6HIwf\n",
       "wHn6J/GCx7IPQdiWBbFCzP7r996lyeu2D7bsduQ8x0J+qhPkqiC4KR0SqvtnPjmq02NZ3I582yNt\n",
       "9lN1ZB8E6BxFbZsqULEyxk5B720DytKGwyEw+JY/6xAkfxCEMx11BM7SPwYLd4M+94FomTlcNlzR\n",
       "8muSUescdyf4x5YfDUJTpujCXgk6AVfRu1A3J1Q5vxTQGe9LA7Gt5TEBVkzLNUZCe/IAQTtqjJga\n",
       "hDodTy7RyoIIF7qi0bG0/3yFX9fXgc/HlZckHt8rX8wM+gABQN8aPEM4/uyKBs1kQPLSEfm52Dou\n",
       "a+E5Byr81DnGh02kgVBVXVPsF4NaL1cIp0D4YIHYXQjDpYDZSPmsxvaOW5YLzylCDZH1bOe96brx\n",
       "hFBVsc3MxSDfqR0EaAUYKpDGSNo2OkQMg6N4XOcbNx1XG63ZCgc3zYgMPJ1CqKqic3k0OKffhZKA\n",
       "eY0QIIg2WZINl0KYBrY/rGApvDHwTRVgyjK56YWkyqU5iE0NQr/td1vcIUAIMWfAWV82XwKHaS4o\n",
       "UHpq7aLn7TQ4SzkFptudzFVVnxUwMYgv0Xc7kL6dzfyvNWEi3d/fau95fb4RK4+7BqNfcGSNqhmE\n",
       "U7W5FCcGzUZ29RPWvxTGFfGyKoKLV1PcXzcWr+24n6t5O1fVEPUSzYnBYXS3xd8KHrfmovBScb63\n",
       "Ti3Qxl4Q9x8MZlXwuDUX8ObFN47A9yE8fzq7RQF9+pJVPZ/XKfmPEH4UqR/o0z/FuhVKs6XdVQAA\n",
       "AABJRU5ErkJggg==\n",
       "\" style=\"display:inline;vertical-align:middle;\" /></a><br>"
      ],
      "text/plain": [
       "<IPython.core.display.HTML object>"
      ]
     },
     "metadata": {},
     "output_type": "display_data"
    }
   ],
   "source": [
    "double_negated_membership = Forall((x, S), Not(NotInSet(x, S)), conditions=[InSet(x, S)])"
   ]
  },
  {
   "cell_type": "markdown",
   "metadata": {},
   "source": [
    "Might be useful to have an additional theorem here along the lines of:\n",
    "$(x\\in S \\Rightarrow \\bot) \\Rightarrow (x\\notin S)$\n",
    "(a form of “deny_via_contradiction” or some similar name)"
   ]
  },
  {
   "cell_type": "code",
   "execution_count": 6,
   "metadata": {},
   "outputs": [
    {
     "name": "stdout",
     "output_type": "stream",
     "text": [
      "These theorems may now be imported from the theory package: proveit.logic.sets.membership\n"
     ]
    }
   ],
   "source": [
    "%end theorems"
   ]
  },
  {
   "cell_type": "code",
   "execution_count": null,
   "metadata": {},
   "outputs": [],
   "source": []
  }
 ],
 "metadata": {
  "kernelspec": {
   "display_name": "Python 3",
   "language": "python",
   "name": "python3"
  }
 },
 "nbformat": 4,
 "nbformat_minor": 0
}