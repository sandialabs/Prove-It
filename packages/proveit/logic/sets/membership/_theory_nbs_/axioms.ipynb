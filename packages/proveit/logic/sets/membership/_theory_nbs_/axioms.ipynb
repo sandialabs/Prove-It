{
 "cells": [
  {
   "cell_type": "markdown",
   "metadata": {},
   "source": [
    "Axioms for the theory of <a class=\"ProveItLink\" href=\"theory.ipynb\">proveit.logic.sets.membership</a>\n",
    "========"
   ]
  },
  {
   "cell_type": "code",
   "execution_count": null,
   "metadata": {},
   "outputs": [],
   "source": [
    "import proveit\n",
    "# Prepare this notebook for defining the axioms of a theory:\n",
    "%axioms_notebook # Keep this at the top following 'import proveit'.\n",
    "from proveit.logic import Forall, And, Not, Equals, InSet, in_bool, NotInSet, EmptySet\n",
    "from proveit.numbers import Exp, Natural, one\n",
    "from proveit import x, S, f, i, n\n",
    "from proveit.logic.sets import each_x_in_S\n",
    "%begin axioms"
   ]
  },
  {
   "cell_type": "markdown",
   "metadata": {},
   "source": [
    "**Set membership should be either true or false (though one might not know which it is), and thus we might naively expect to include here an axiom for set membership being in the Boolean set, something like**<br>\n",
    "> $\\text{membership_in_bool} = \\forall_{x, S}\\;(x\\in S) \\in Boolean$\n",
    "\n",
    "**This would be problematic, however, and open up the system to Russell's paradox. Instead we use whether or not membership can be proven to be in the Boolean set to dictate whether something is a set or not.**"
   ]
  },
  {
   "cell_type": "markdown",
   "metadata": {},
   "source": [
    "**Define an exponentiated set.**"
   ]
  },
  {
   "cell_type": "markdown",
   "metadata": {},
   "source": [
    "Bob has a good suggestion to move this to a new theory, proveit.logic.sets.cartesian_product, as a theorem.  The axioms would define S^n = S x S x ... S and the axiom would be a more general one about membership in a general cartesian product."
   ]
  },
  {
   "cell_type": "raw",
   "metadata": {},
   "source": [
    "exp_set_def = Forall(n, Forall((x, S), Equals(InSet(x, Exp(S, n)), \n",
    "                                            And(Equals(Len(x), n), \n",
    "                                                each_x_in_S))),\n",
    "                   domain=Natural)"
   ]
  },
  {
   "cell_type": "markdown",
   "metadata": {},
   "source": [
    "**$x \\notin S$ is defined as the negation of $x \\in S$ for all $x$ and $S$:**"
   ]
  },
  {
   "cell_type": "code",
   "execution_count": null,
   "metadata": {},
   "outputs": [],
   "source": [
    "#not_in_set_def = Forall((x, S), Equals(NotInSet(x, S), Not(InSet(x, S))))"
   ]
  },
  {
   "cell_type": "code",
   "execution_count": null,
   "metadata": {},
   "outputs": [],
   "source": [
    "%end axioms"
   ]
  },
  {
   "cell_type": "code",
   "execution_count": null,
   "metadata": {},
   "outputs": [],
   "source": []
  }
 ],
 "metadata": {
  "kernelspec": {
   "display_name": "Python 3 (ipykernel)",
   "language": "python",
   "name": "python3"
  }
 },
 "nbformat": 4,
 "nbformat_minor": 0
}
