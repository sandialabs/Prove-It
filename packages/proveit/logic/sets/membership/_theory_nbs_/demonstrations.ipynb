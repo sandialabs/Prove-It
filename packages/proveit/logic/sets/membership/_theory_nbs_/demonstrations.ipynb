{
 "cells": [
  {
   "cell_type": "markdown",
   "metadata": {},
   "source": [
    "Demonstrations for the theory of <a class=\"ProveItLink\" href=\"theory.ipynb\">proveit.logic.sets.membership</a>\n",
    "========"
   ]
  },
  {
   "cell_type": "code",
   "execution_count": 1,
   "metadata": {},
   "outputs": [],
   "source": [
    "import proveit\n",
    "from proveit import ExprTuple, InstantiationFailure, ProofFailure, UnsatisfiedPrerequisites\n",
    "from proveit.logic import (Forall, Equals, EvaluationError, InSet, Not, NotEquals,\n",
    "                           NotInSet, EmptySet, Set)\n",
    "from proveit import a, b, c, d, e, f, i, x, y, A, B, C, D, E, F, G, H, I, S, T\n",
    "from proveit.numbers import zero, one, two, three, four, five, six, seven, eight, nine, num, Exp\n",
    "from proveit.numbers import Add, Integer, Mult, Natural, NaturalPos, Real, RealNeg, RealPos\n",
    "from proveit.numbers.number_sets.number_set import NumberSet\n",
    "%begin demonstrations"
   ]
  },
  {
   "cell_type": "markdown",
   "metadata": {},
   "source": [
    "# Membership $\\in$\n",
    "### UNDER CONSTRUCTION"
   ]
  },
  {
   "cell_type": "markdown",
   "metadata": {},
   "source": [
    "<div style=\"line-height:1.4; font-size:14pt\">\n",
    "\n",
    "<a href='#introduction'>Introduction</a><br>\n",
    "<a href='#simple_expressions'>Simple Expressions involving Membership $(\\in)$</a><br>\n",
    "<a href='#common_attributes'>Common Attributes of a Membership $(\\in)$ Expression</a><br>\n",
    "<a href='#axioms'>Axioms</a><br>\n",
    "<a href='#further_demonstrations'>Further Demonstrations</a><br>\n",
    "    <ol>\n",
    "        <li><a href='#demo01'>$(x\\in A)\\wedge(A\\subset B)\\Rightarrow (x\\in B)$</a></li>\n",
    "        <li><a href='#demo02'>$\\forall_{x\\in A}(x\\in B) \\Rightarrow (A \\subseteq B)$</a></li>\n",
    "        <li><a href='#demo03'>$(x\\in B)\\wedge(A\\supset B)\\Rightarrow (x\\in A)$</a></li>\n",
    "    </ol>\n",
    "\n",
    "</div>\n"
   ]
  },
  {
   "cell_type": "markdown",
   "metadata": {},
   "source": [
    "## Introduction <a id='introduction'></a>"
   ]
  },
  {
   "cell_type": "markdown",
   "metadata": {},
   "source": [
    "<font size=4>Set membership (*e.g.*, $x \\in S$) (along with the related concepts of subset $\\subset, \\subseteq$, and superset $\\supset, \\supseteq$), is often critical in proofs, either as a goal in itself or as a condition or assumption appearing in a proof. For example, one might need to define a variable $x$ to be a natural number, $x \\in \\mathbb{N}$, to be used in a particulat theory, or we might want to prove that a number resides (or doesn't reside) in a particular set, for example that $\\sqrt{2} \\not\\in \\mathbb{Q}$.<br>\n",
    "This ``_demonstrations_`` notebook explores such membership expressions and related methods. (Set containment expressions involving $\\subset$, $\\subseteq$, $\\supset$, etc., are explored more thoroughly in their own ``_demonstrations_`` notebook in ``proveit.logic.sets.inclusion``)</font>"
   ]
  },
  {
   "cell_type": "markdown",
   "metadata": {},
   "source": [
    "## Simple Expressions Involving Membership ($\\in$, $\\not\\in$)<a id='simple_expressions'></a>"
   ]
  },
  {
   "cell_type": "markdown",
   "metadata": {},
   "source": [
    "<font size=4>It is straightforward to construct membership expressions. Here are some basic examples of such expressions:</font>"
   ]
  },
  {
   "cell_type": "code",
   "execution_count": 2,
   "metadata": {},
   "outputs": [
    {
     "data": {
      "text/html": [
       "<a class=\"ProveItLink\" href=\"../__pv_it/demonstrations/0b34a89219cb1b85abad8f0011f8b9bb7b4db6640/expr.ipynb\"><img src=\"data:image/png;base64,iVBORw0KGgoAAAANSUhEUgAAADMAAAAPBAMAAAC7N+rPAAAAMFBMVEX///8AAAAAAAAAAAAAAAAA\n",
       "AAAAAAAAAAAAAAAAAAAAAAAAAAAAAAAAAAAAAAAAAAAv3aB7AAAAD3RSTlMAEHarMolUmd1mIs3v\n",
       "RLtmgJDEAAAACXBIWXMAAA7EAAAOxAGVKw4bAAAAy0lEQVQY02NgwAbYykM5L2CVYXjEwPgeuwx7\n",
       "AQPDbBQRphcd3WAGvwMDwyVkGd5NAlDW/QkMDC5AWkhZJDQBJLAaJsMg/9UBTBcwGbE3gBi74Po5\n",
       "//+3AlELOD8yTwAJbECYLfT+D5BkYWCHiLGc6Ojo6INJ1oO9xaMA5jA+gJsHsg5s/f0FjGAHNMCk\n",
       "hIF4PVBI7oINAytYRAkmlQHEpUCc71jDcA0swp0AlaoIYGA1ANLiSmyVEDFGu4sQqYLLxWZoQccb\n",
       "Bw0oCAAApzEq4252YdgAAAAASUVORK5CYII=\n",
       "\" style=\"display:inline;vertical-align:middle;\" /></a>"
      ],
      "text/plain": [
       "x in S"
      ]
     },
     "metadata": {},
     "output_type": "display_data"
    }
   ],
   "source": [
    "# set membership\n",
    "InSet(x, S)"
   ]
  },
  {
   "cell_type": "code",
   "execution_count": 3,
   "metadata": {},
   "outputs": [
    {
     "data": {
      "text/html": [
       "<a class=\"ProveItLink\" href=\"../__pv_it/demonstrations/39b66641d977fdb2a4fb09415237037f478036ce0/expr.ipynb\"><img src=\"data:image/png;base64,iVBORw0KGgoAAAANSUhEUgAAAC8AAAAWCAMAAABnjDX7AAAAP1BMVEX///8AAAAAAAAAAAAAAAAA\n",
       "AAAAAAAAAAAAAAAAAAAAAAAAAAAAAAAAAAAAAAAAAAAAAAAAAAAAAAAAAAAAAADFBd4eAAAAFHRS\n",
       "TlMAEHarMolUmd1mIs3vRLvp8+P3nXqVZZ4AAAAJcEhZcwAADsQAAA7EAZUrDhsAAAEKSURBVDjL\n",
       "lZPbcsMwCEQFuiB0a5vq/7+1kHQq5KnjRA/22FqxyzF27o0VLvaLfUgc8oW+wio9CpC/sDf7WY5S\n",
       "ex6I+goz9AyPp3oTl6J0M8o81eLIH5+5/h1lecUwy//qXhGcN2kba/cwNSEgeggxpsVRwUA1BWa6\n",
       "x9ObI7Hy6GjFrWrLuOtTfOhZNnmKPS/9Ab4IWWnd82hKqhv3lnP+usllmPxiX+Yv4Wa9HajMtKNm\n",
       "qB8vzIdnV04AG/h9ViKhxO1Ni3Xnm74y8NF12kcjaztRNGkGINF361+TP4yK0gMdIiCploi3uOBv\n",
       "HTY9V0SC03Hg7ziEz8IWy6uT/8oq4y35Af71Ov/xfgC8xQcNs5703gAAAABJRU5ErkJggg==\n",
       "\" style=\"display:inline;vertical-align:middle;\" /></a>"
      ],
      "text/plain": [
       "x not-in emptyset"
      ]
     },
     "metadata": {},
     "output_type": "display_data"
    }
   ],
   "source": [
    "NotInSet(x, EmptySet)"
   ]
  },
  {
   "cell_type": "code",
   "execution_count": 4,
   "metadata": {},
   "outputs": [
    {
     "data": {
      "text/html": [
       "<a class=\"ProveItLink\" href=\"../../../../numbers/numerals/decimals/__pv_it/theorems/c5da86d5508e181a625c8aa785bd1ba0345b9e710/expr.ipynb\"><img src=\"data:image/png;base64,iVBORw0KGgoAAAANSUhEUgAAADIAAAAQBAMAAACmdTG/AAAAMFBMVEX///8AAAAAAAAAAAAAAAAA\n",
       "AAAAAAAAAAAAAAAAAAAAAAAAAAAAAAAAAAAAAAAAAAAv3aB7AAAAD3RSTlMAIpnNuzKJRKvvEN12\n",
       "ZlQ4bmvwAAAACXBIWXMAAA7EAAAOxAGVKw4bAAAA6UlEQVQY02NgQAdc+12sGNjmT2dgVDIJQJVi\n",
       "eVDBwLCegUGEge07qgzHRrYLDJwMDI0MDDPRZJ4wGDJwMzDMX8DQLwAWObJ7twFYRvaAMEimm4Gh\n",
       "H2xR8SmYHoFWngRuMHM/iGC0gpsmwMLgDpZh/QMimQUQMqwKq1eDWNwNYBmECwQY7vF5glgqYH7k\n",
       "biBwgMpwLOgEMnjBWhiWIOvhagCZ9oyBEWQFN7IMQwwL0P4EBp4FQD7PAXjoAD3BE8LAIK2kpA0W\n",
       "sIPJMD8AEspAz/z//xkssMJ9AZhmtZ8CJBcjh1eZNyR0oAAAgjkuwI39QLgAAAAASUVORK5CYII=\n",
       "\" style=\"display:inline;vertical-align:middle;\" /></a>"
      ],
      "text/plain": [
       "2 in Natural"
      ]
     },
     "metadata": {},
     "output_type": "display_data"
    }
   ],
   "source": [
    "InSet(two, Natural)"
   ]
  },
  {
   "cell_type": "code",
   "execution_count": 5,
   "metadata": {},
   "outputs": [
    {
     "data": {
      "text/html": [
       "<a class=\"ProveItLink\" href=\"../__pv_it/demonstrations/682a7359781989d423a3b3123a32e6ddbb0a59fe0/expr.ipynb\"><img src=\"data:image/png;base64,iVBORw0KGgoAAAANSUhEUgAAAF0AAAAXCAMAAABebLP7AAAAP1BMVEX///8AAAAAAAAAAAAAAAAA\n",
       "AAAAAAAAAAAAAAAAAAAAAAAAAAAAAAAAAAAAAAAAAAAAAAAAAAAAAAAAAAAAAADFBd4eAAAAFHRS\n",
       "TlMAInZUiRDNmWbv3US7qzLp8+P3ndw5NuIAAAAJcEhZcwAADsQAAA7EAZUrDhsAAAGRSURBVEjH\n",
       "tZXJdsMgDEVBDAGBaJvy/99aIHYNMjjJIlr4MNjXGh5IiM/YTXzS4jGUV+/JN9c5HdTVewHm69Zs\n",
       "A4M5xjbTPvvA6EqvwKllD9x0jzpHlQhtajL33dil20ijl0PZwjEmlEI3H3zdicV8fZSlm1vBYaO7\n",
       "mQCwG5MqrlrZr+6++2VenN2i98x5iPj1jUfMJB0IaSd0tUyMFjvdDuEFC0ZQ6n2XdQ76TL+tagry\n",
       "n66pV2Itw1isQq+4GE50u0i7LOs73fWsll8HnF70ZdAgO6uoVnk56KqvjT3LiNoPlVCRF3GTv7F4\n",
       "WMmpkx095a7Wvrzwcy+PONIFlWos6DwvLfKdHrqPTIXqMeAH3ZAwyHU7zUygatlTq7lCJnQGedBF\n",
       "gv7yehQX1leM36vafwQgAjtecZMnJE4f1MYsT1Vr1SD2trIrhR+ehMsGEHOmFhkOtTF0D71kks0+\n",
       "ru4sTM86gWQOuF8di2bsK13EPW1S/J6b3pnLNiKfuB6v59dm4nt/1+qtDivhahd4aPQ6+Q/Tywt2\n",
       "xi3iMwAAAABJRU5ErkJggg==\n",
       "\" style=\"display:inline;vertical-align:middle;\" /></a>"
      ],
      "text/plain": [
       "(-4) not-in NaturalPos"
      ]
     },
     "metadata": {},
     "output_type": "display_data"
    }
   ],
   "source": [
    "NotInSet(num(-4), NaturalPos)"
   ]
  },
  {
   "cell_type": "markdown",
   "metadata": {},
   "source": [
    "Exponentiated sets are not currently needed.  They will likely be resurrected later and moved to a more appropriate theory package."
   ]
  },
  {
   "cell_type": "code",
   "execution_count": 6,
   "metadata": {},
   "outputs": [],
   "source": [
    "#InSet(ExprTuple(), Exp(S, zero)).prove()"
   ]
  },
  {
   "cell_type": "code",
   "execution_count": 7,
   "metadata": {},
   "outputs": [],
   "source": [
    "#InSet(ExprTuple(A),Exp(S,one)).prove([InSet(A,S)])"
   ]
  },
  {
   "cell_type": "code",
   "execution_count": 8,
   "metadata": {},
   "outputs": [],
   "source": [
    "#InSet(ExprTuple(A,B),Exp(S,two)).prove([InSet(A,S), InSet(B,S)])"
   ]
  },
  {
   "cell_type": "code",
   "execution_count": 9,
   "metadata": {},
   "outputs": [],
   "source": [
    "#InSet(ExprTuple(A,B,C),Exp(S,three)).prove([InSet(A,S), InSet(B,S),InSet(C,S)])"
   ]
  },
  {
   "cell_type": "code",
   "execution_count": 10,
   "metadata": {},
   "outputs": [],
   "source": [
    "#InSet(ExprTuple(A,B,C, D),Exp(S,four)).prove([InSet(A,S), InSet(B,S),InSet(C,S), InSet(D,S)])"
   ]
  },
  {
   "cell_type": "code",
   "execution_count": 11,
   "metadata": {},
   "outputs": [],
   "source": [
    "#InSet(ExprTuple(A,B,C, D, E),Exp(S,five)).prove([InSet(A,S), InSet(B,S),InSet(C,S), InSet(D,S), InSet(E,S)])"
   ]
  },
  {
   "cell_type": "code",
   "execution_count": 12,
   "metadata": {},
   "outputs": [],
   "source": [
    "#InSet(ExprTuple(A,B,C, D, E, F),Exp(S,six)).prove([InSet(A,S), InSet(B,S),InSet(C,S), InSet(D,S), InSet(E,S), InSet(F,S)])"
   ]
  },
  {
   "cell_type": "code",
   "execution_count": 13,
   "metadata": {},
   "outputs": [],
   "source": [
    "#InSet(ExprTuple(A,B,C, D, E, F, G),Exp(S,seven)).prove([InSet(A,S), InSet(B,S),InSet(C,S), InSet(D,S), InSet(E,S), InSet(F,S), InSet(G,S)])"
   ]
  },
  {
   "cell_type": "code",
   "execution_count": 14,
   "metadata": {},
   "outputs": [],
   "source": [
    "#InSet(ExprTuple(A,B,C, D, E, F, G, H),Exp(S,eight)).prove([InSet(A,S), InSet(B,S),InSet(C,S), InSet(D,S), InSet(E,S), InSet(F,S), InSet(G,S), InSet(H,S)])"
   ]
  },
  {
   "cell_type": "code",
   "execution_count": 15,
   "metadata": {},
   "outputs": [],
   "source": [
    "#InSet(ExprTuple(A,B,C, D, E, F, G, H, I),Exp(S,nine)).prove([InSet(A,S), InSet(B,S),InSet(C,S), InSet(D,S), InSet(E,S), InSet(F,S), InSet(G,S), InSet(H,S), InSet(I,S)])"
   ]
  },
  {
   "cell_type": "code",
   "execution_count": 16,
   "metadata": {},
   "outputs": [
    {
     "data": {
      "text/html": [
       "<span style=\"font-size:20px;\"><a class=\"ProveItLink\" href=\"../__pv_it/theorems/6d66ef15ae974e95094ed8ed211a8a6beb2861b50/expr.ipynb\"><img src=\"data:image/png;base64,iVBORw0KGgoAAAANSUhEUgAAADMAAAAVCAMAAADciiYzAAAAP1BMVEX///8AAAAAAAAAAAAAAAAA\n",
       "AAAAAAAAAAAAAAAAAAAAAAAAAAAAAAAAAAAAAAAAAAAAAAAAAAAAAAAAAAAAAADFBd4eAAAAFHRS\n",
       "TlMAEHarMolUmd1mIs3vRLvp8+P3nXqVZZ4AAAAJcEhZcwAADsQAAA7EAZUrDhsAAAD5SURBVDjL\n",
       "tZPdksMgCIUFVDRG+7O8/7MWTduE7taZXKwXOirg5znq3KQt7nwrcDrFk51H5hBcrrMctrsNtYMm\n",
       "03OSrcBjyOVrPLZ0uabjvvgxVPySUQuCI2+WJG+XHKuASOBDiLvGXTCwECAS9iLKiYSOd/zSjckf\n",
       "EFm00WZZXvpcUfKe86c5gE1k3QD7UYbDryml21279kt+eeu/Gg7ooYfrDZrXreJbE+UDMMZYc+D5\n",
       "JBaBUbQ66pThYA66yvbZPEvwiIrigTWnHllKtOaoqCM4bMcBa9XIOVqUezWysavERHH21PJPaKpb\n",
       "+eefs7TzHzTE8zk03X0AEF4GZaKk3CoAAAAASUVORK5CYII=\n",
       "\" style=\"display:inline;vertical-align:middle;\" /></a> <a class=\"ProveItLink\" href=\"../__pv_it/demonstrations/241d1bb2c3e00b5a88816ee24a8267020688a5630/proof.ipynb\" style=\"text-decoration: none\">&nbsp;&#x22A2;&nbsp;&nbsp;</a><a class=\"ProveItLink\" href=\"../__pv_it/theorems/fe3a8deeda9e1011cacaa4108184281bcacedd730/expr.ipynb\"><img src=\"data:image/png;base64,iVBORw0KGgoAAAANSUhEUgAAAFIAAAAVBAMAAAAnX6R8AAAAMFBMVEX///8AAAAAAAAAAAAAAAAA\n",
       "AAAAAAAAAAAAAAAAAAAAAAAAAAAAAAAAAAAAAAAAAAAv3aB7AAAAD3RSTlMAmd0iq3ZUiRDNZu9E\n",
       "uzLWhN+VAAAACXBIWXMAAA7EAAAOxAGVKw4bAAABUklEQVQoz2NgQABmBpwATSoMt0qeAGQeWwF2\n",
       "VYniBWsYopBFOrEr5A1g6P3AwNmAJCSFXaUgAwPXBAYuASShDcjyrJeUNCGsfxBX7kBy5gRkH0yF\n",
       "2cbzi4GB7wEDwyyEJCPQQxyhHs/LQBxLuLM4/teB6RKESs4FQNUMIQFCIM5khPj6/18MgNRKBiEl\n",
       "IFAEMpkSGBgWM6xv8AJJI7mEI/Y/yAfZEJ4JEHMfYGB4wCAJ5vNtAmrXhbvrD5B4j6qSgWErxJwL\n",
       "cCOBbuL4BqRPI1SCbGfg+czQARJQgNvtAIz0H0BGEoRvCIkLjjssGxjAcRoKDzsFSKgwrEW4nN2B\n",
       "ge1f4waeBHBAJMDcqA4NIHGESj4FBg7RgMRlEEt9T0BV8ji6gHXpIMWLHkoyq4XFJjSBKiBxFjLg\n",
       "AYwLkJOXAR6VtsgcpEDEBJdReKa4FbIaMAAAxUc/AKBsMVYAAAAASUVORK5CYII=\n",
       "\" style=\"display:inline;vertical-align:middle;\" /></a></span>"
      ],
      "text/plain": [
       "{x not-in S} |- [not](x in S)"
      ]
     },
     "metadata": {},
     "output_type": "display_data"
    }
   ],
   "source": [
    "Not(InSet(x,S)).prove(assumptions=[NotInSet(x,S)])"
   ]
  },
  {
   "cell_type": "code",
   "execution_count": 17,
   "metadata": {},
   "outputs": [
    {
     "data": {
      "text/html": [
       "<span style=\"font-size:20px;\"><a class=\"ProveItLink\" href=\"../__pv_it/theorems/fe3a8deeda9e1011cacaa4108184281bcacedd730/expr.ipynb\"><img src=\"data:image/png;base64,iVBORw0KGgoAAAANSUhEUgAAAFIAAAAVBAMAAAAnX6R8AAAAMFBMVEX///8AAAAAAAAAAAAAAAAA\n",
       "AAAAAAAAAAAAAAAAAAAAAAAAAAAAAAAAAAAAAAAAAAAv3aB7AAAAD3RSTlMAmd0iq3ZUiRDNZu9E\n",
       "uzLWhN+VAAAACXBIWXMAAA7EAAAOxAGVKw4bAAABUklEQVQoz2NgQABmBpwATSoMt0qeAGQeWwF2\n",
       "VYniBWsYopBFOrEr5A1g6P3AwNmAJCSFXaUgAwPXBAYuASShDcjyrJeUNCGsfxBX7kBy5gRkH0yF\n",
       "2cbzi4GB7wEDwyyEJCPQQxyhHs/LQBxLuLM4/teB6RKESs4FQNUMIQFCIM5khPj6/18MgNRKBiEl\n",
       "IFAEMpkSGBgWM6xv8AJJI7mEI/Y/yAfZEJ4JEHMfYGB4wCAJ5vNtAmrXhbvrD5B4j6qSgWErxJwL\n",
       "cCOBbuL4BqRPI1SCbGfg+czQARJQgNvtAIz0H0BGEoRvCIkLjjssGxjAcRoKDzsFSKgwrEW4nN2B\n",
       "ge1f4waeBHBAJMDcqA4NIHGESj4FBg7RgMRlEEt9T0BV8ji6gHXpIMWLHkoyq4XFJjSBKiBxFjLg\n",
       "AYwLkJOXAR6VtsgcpEDEBJdReKa4FbIaMAAAxUc/AKBsMVYAAAAASUVORK5CYII=\n",
       "\" style=\"display:inline;vertical-align:middle;\" /></a> <a class=\"ProveItLink\" href=\"../__pv_it/demonstrations/ce20959894c2660c21f89d97f1c9337368b190e10/proof.ipynb\" style=\"text-decoration: none\">&nbsp;&#x22A2;&nbsp;&nbsp;</a><a class=\"ProveItLink\" href=\"../__pv_it/theorems/6d66ef15ae974e95094ed8ed211a8a6beb2861b50/expr.ipynb\"><img src=\"data:image/png;base64,iVBORw0KGgoAAAANSUhEUgAAADMAAAAVCAMAAADciiYzAAAAP1BMVEX///8AAAAAAAAAAAAAAAAA\n",
       "AAAAAAAAAAAAAAAAAAAAAAAAAAAAAAAAAAAAAAAAAAAAAAAAAAAAAAAAAAAAAADFBd4eAAAAFHRS\n",
       "TlMAEHarMolUmd1mIs3vRLvp8+P3nXqVZZ4AAAAJcEhZcwAADsQAAA7EAZUrDhsAAAD5SURBVDjL\n",
       "tZPdksMgCIUFVDRG+7O8/7MWTduE7taZXKwXOirg5znq3KQt7nwrcDrFk51H5hBcrrMctrsNtYMm\n",
       "03OSrcBjyOVrPLZ0uabjvvgxVPySUQuCI2+WJG+XHKuASOBDiLvGXTCwECAS9iLKiYSOd/zSjckf\n",
       "EFm00WZZXvpcUfKe86c5gE1k3QD7UYbDryml21279kt+eeu/Gg7ooYfrDZrXreJbE+UDMMZYc+D5\n",
       "JBaBUbQ66pThYA66yvbZPEvwiIrigTWnHllKtOaoqCM4bMcBa9XIOVqUezWysavERHH21PJPaKpb\n",
       "+eefs7TzHzTE8zk03X0AEF4GZaKk3CoAAAAASUVORK5CYII=\n",
       "\" style=\"display:inline;vertical-align:middle;\" /></a></span>"
      ],
      "text/plain": [
       "{[not](x in S)} |- x not-in S"
      ]
     },
     "metadata": {},
     "output_type": "display_data"
    }
   ],
   "source": [
    "NotInSet(x,S).prove(assumptions=[Not(InSet(x,S))])"
   ]
  },
  {
   "cell_type": "code",
   "execution_count": 18,
   "metadata": {},
   "outputs": [
    {
     "data": {
      "text/html": [
       "<strong id=\"example_membership\">example_membership:</strong> <a class=\"ProveItLink\" href=\"../../../../numbers/ordering/__pv_it/theorems/27094ede24067904bb8353fa305df8461a3a4be40/expr.ipynb\"><img src=\"data:image/png;base64,iVBORw0KGgoAAAANSUhEUgAAADMAAAAQBAMAAABJt1qBAAAAMFBMVEX///8AAAAAAAAAAAAAAAAA\n",
       "AAAAAAAAAAAAAAAAAAAAAAAAAAAAAAAAAAAAAAAAAAAv3aB7AAAAD3RSTlMAIquJdkTvuxBmmd1U\n",
       "zTKBpmoTAAAACXBIWXMAAA7EAAAOxAGVKw4bAAAA3ElEQVQY02NgwADd32sbGMy+BTBgATWsCgwc\n",
       "H7DJMGgLWDIwJGCV0ingFWDYgCLkvnv3BRCtOIXxAqpUrAeUocj0wBksxajs6AASYLwBU6PIUMAe\n",
       "AJIKE2D/ARIAmg+XesWxAyjFkcnABTaXlwEhxXngONCFXB8YuA1AAs92A0EBRIpBgwkoxVbA0A/2\n",
       "eDuSLoYmDqBJ/Q4M88EC3MhSfA5A/f0HGHR5QC5gcYBJ1QGxH1CK3YFnFxdY5A5MCsTgAnqeQ8VO\n",
       "yA8s0lTaAKbffgPq4LiAElDB1buRBQCzkDPDLBuujwAAAABJRU5ErkJggg==\n",
       "\" style=\"display:inline;vertical-align:middle;\" /></a><br>"
      ],
      "text/plain": [
       "<IPython.core.display.HTML object>"
      ]
     },
     "metadata": {},
     "output_type": "display_data"
    }
   ],
   "source": [
    "example_membership = InSet(a, Natural)"
   ]
  },
  {
   "cell_type": "code",
   "execution_count": 19,
   "metadata": {},
   "outputs": [
    {
     "data": {
      "text/html": [
       "<a class=\"ProveItLink\" href=\"../../../../__pv_it/common/c06c606ec12678c58933ac85412ecadc2ae28be60/expr.ipynb\"><img src=\"data:image/png;base64,iVBORw0KGgoAAAANSUhEUgAAAAsAAAAJBAMAAAAWSsseAAAAMFBMVEX///8AAAAAAAAAAAAAAAAA\n",
       "AAAAAAAAAAAAAAAAAAAAAAAAAAAAAAAAAAAAAAAAAAAv3aB7AAAAD3RSTlMAIquJdkTvuxBmmd1U\n",
       "zTKBpmoTAAAACXBIWXMAAA7EAAAOxAGVKw4bAAAARUlEQVQI12NgYFR2dGBgYAgTYP/BwMCRycC1\n",
       "gYGB6wMDtwEDA1sBQ38AA0O/A8N8oIr+Awy6PAIM7A48u7iAKlXshPwYAE2lCqdX0eXEAAAAAElF\n",
       "TkSuQmCC\n",
       "\" style=\"display:inline;vertical-align:middle;\" /></a>"
      ],
      "text/plain": [
       "a"
      ]
     },
     "metadata": {},
     "output_type": "display_data"
    }
   ],
   "source": [
    "example_membership.element"
   ]
  },
  {
   "cell_type": "code",
   "execution_count": 20,
   "metadata": {},
   "outputs": [
    {
     "data": {
      "text/html": [
       "<span style=\"font-size:20px;\"> <a class=\"ProveItLink\" href=\"../__pv_it/demonstrations/51d9a1ecef1d2aa581c30d87200e9103fef85edf0/proof.ipynb\" style=\"text-decoration: none\">&nbsp;&#x22A2;&nbsp;&nbsp;</a><a class=\"ProveItLink\" href=\"../__pv_it/demonstrations/61a09c971c186047731b7e2417e94d9934cde3590/expr.ipynb\"><img src=\"data:image/png;base64,iVBORw0KGgoAAAANSUhEUgAAAGgAAAAVBAMAAABYjraNAAAAMFBMVEX///8AAAAAAAAAAAAAAAAA\n",
       "AAAAAAAAAAAAAAAAAAAAAAAAAAAAAAAAAAAAAAAAAAAv3aB7AAAAD3RSTlMAInZUiRDNmWbv3US7\n",
       "qzJazP2FAAAACXBIWXMAAA7EAAAOxAGVKw4bAAAB0UlEQVQ4y32UvUvDUBTFT9Iv26YlU3FQiKIg\n",
       "IhJEBMUhf4BKJofS0qoUdLKDOBcEFwUnQVRQEVqMgg4qdBCig2DbQUQEUUTcFEEXnX3vJaZpTHyQ\n",
       "cO9Jfu/ed3MIABGei/N6wMt/tcBhLQf/1kZUcry7d/m9/kCCfredBPkMyABdTj0qJdJHCGTdoNiO\n",
       "v4AwEFSdUMEv6ggVXKFhTCACNOX/QE3yNd3Otno0jVWONUsJCmHVPExFK1pQFgN25rTzt5L4xCsU\n",
       "mmZpdFK1KsWaFczRyd62sTFxOas9UUCVQqMsTahWe53dt8ZWZVH4olJQrEPxfDJJgkWWTtTPVNwq\n",
       "qdglX2UNoW0G1QchYsF3RYJBlmZtg+CXctgAQp+IKFR61cjSTSim3pPgg2bxdaIfmBD0YwqFdWSO\n",
       "qJSyVwpc0/bKzCC6rRJ0gbaXkbDCpIgdwotAgiGWbjdAQVwQSMadj86At6wmPJPsnQTLLG1vgPro\n",
       "TAXJVwoxber3YZC6eJ5cc/XUgBR/Rx5vpOWbsdZepqWrxgeJz26S+zi59g3XP54YxpipMZdHnu2W\n",
       "OK5oDQbmzNNERwwbmctpycblbmfg/D+oxUNP/Qd57chJ3gzv/v/4AUPIZQuoIap4AAAAAElFTkSu\n",
       "QmCC\n",
       "\" style=\"display:inline;vertical-align:middle;\" /></a></span>"
      ],
      "text/plain": [
       "|- (a in Natural) in BOOLEAN"
      ]
     },
     "metadata": {},
     "output_type": "display_data"
    }
   ],
   "source": [
    "example_membership.deduce_in_bool()"
   ]
  },
  {
   "cell_type": "markdown",
   "metadata": {},
   "source": [
    "## Miscellaneous Testing\n",
    "The material below was developed to test various membership-related methods. Some of this material could be integrated into the `demonstrations` page eventually and/or deleted as development continues."
   ]
  },
  {
   "cell_type": "markdown",
   "metadata": {},
   "source": [
    "### Testing the `InSet` class methods\n",
    "<br/>\n",
    "The `InSet` class currently has the following prover-related class methods:<br/>\n",
    "    <div style=\"width: 75%; border: 1px solid green; padding: 5px; margin: 20px; background-color: gainsboro; font-family:courier\">deduce_not_in(self, **defaults_config)<br/>\n",
    "    deduce_in_bool(self, **defaults_config)<br/>\n",
    "    conclude(self, **defaults_config)<br/>\n",
    "    shallow_simlification(self, *, must_evaluate=False, **defaults_config)</div>\n",
    "</font>"
   ]
  },
  {
   "cell_type": "markdown",
   "metadata": {},
   "source": [
    "### `InSet.deduce_not_in()`\n",
    "\n",
    "Deduce x not in S assuming not(A in S), where self = (x in S). This is a somewhat odd method called on a membership object to actually conclude the negation of the membership claim. Some examples appear below:"
   ]
  },
  {
   "cell_type": "code",
   "execution_count": 21,
   "metadata": {},
   "outputs": [
    {
     "data": {
      "text/html": [
       "<span style=\"font-size:20px;\"><a class=\"ProveItLink\" href=\"../__pv_it/theorems/fe3a8deeda9e1011cacaa4108184281bcacedd730/expr.ipynb\"><img src=\"data:image/png;base64,iVBORw0KGgoAAAANSUhEUgAAAFIAAAAVBAMAAAAnX6R8AAAAMFBMVEX///8AAAAAAAAAAAAAAAAA\n",
       "AAAAAAAAAAAAAAAAAAAAAAAAAAAAAAAAAAAAAAAAAAAv3aB7AAAAD3RSTlMAmd0iq3ZUiRDNZu9E\n",
       "uzLWhN+VAAAACXBIWXMAAA7EAAAOxAGVKw4bAAABUklEQVQoz2NgQABmBpwATSoMt0qeAGQeWwF2\n",
       "VYniBWsYopBFOrEr5A1g6P3AwNmAJCSFXaUgAwPXBAYuASShDcjyrJeUNCGsfxBX7kBy5gRkH0yF\n",
       "2cbzi4GB7wEDwyyEJCPQQxyhHs/LQBxLuLM4/teB6RKESs4FQNUMIQFCIM5khPj6/18MgNRKBiEl\n",
       "IFAEMpkSGBgWM6xv8AJJI7mEI/Y/yAfZEJ4JEHMfYGB4wCAJ5vNtAmrXhbvrD5B4j6qSgWErxJwL\n",
       "cCOBbuL4BqRPI1SCbGfg+czQARJQgNvtAIz0H0BGEoRvCIkLjjssGxjAcRoKDzsFSKgwrEW4nN2B\n",
       "ge1f4waeBHBAJMDcqA4NIHGESj4FBg7RgMRlEEt9T0BV8ji6gHXpIMWLHkoyq4XFJjSBKiBxFjLg\n",
       "AYwLkJOXAR6VtsgcpEDEBJdReKa4FbIaMAAAxUc/AKBsMVYAAAAASUVORK5CYII=\n",
       "\" style=\"display:inline;vertical-align:middle;\" /></a> <a class=\"ProveItLink\" href=\"../__pv_it/demonstrations/ce20959894c2660c21f89d97f1c9337368b190e10/proof.ipynb\" style=\"text-decoration: none\">&nbsp;&#x22A2;&nbsp;&nbsp;</a><a class=\"ProveItLink\" href=\"../__pv_it/theorems/6d66ef15ae974e95094ed8ed211a8a6beb2861b50/expr.ipynb\"><img src=\"data:image/png;base64,iVBORw0KGgoAAAANSUhEUgAAADMAAAAVCAMAAADciiYzAAAAP1BMVEX///8AAAAAAAAAAAAAAAAA\n",
       "AAAAAAAAAAAAAAAAAAAAAAAAAAAAAAAAAAAAAAAAAAAAAAAAAAAAAAAAAAAAAADFBd4eAAAAFHRS\n",
       "TlMAEHarMolUmd1mIs3vRLvp8+P3nXqVZZ4AAAAJcEhZcwAADsQAAA7EAZUrDhsAAAD5SURBVDjL\n",
       "tZPdksMgCIUFVDRG+7O8/7MWTduE7taZXKwXOirg5znq3KQt7nwrcDrFk51H5hBcrrMctrsNtYMm\n",
       "03OSrcBjyOVrPLZ0uabjvvgxVPySUQuCI2+WJG+XHKuASOBDiLvGXTCwECAS9iLKiYSOd/zSjckf\n",
       "EFm00WZZXvpcUfKe86c5gE1k3QD7UYbDryml21279kt+eeu/Gg7ooYfrDZrXreJbE+UDMMZYc+D5\n",
       "JBaBUbQ66pThYA66yvbZPEvwiIrigTWnHllKtOaoqCM4bMcBa9XIOVqUezWysavERHH21PJPaKpb\n",
       "+eefs7TzHzTE8zk03X0AEF4GZaKk3CoAAAAASUVORK5CYII=\n",
       "\" style=\"display:inline;vertical-align:middle;\" /></a></span>"
      ],
      "text/plain": [
       "{[not](x in S)} |- x not-in S"
      ]
     },
     "metadata": {},
     "output_type": "display_data"
    }
   ],
   "source": [
    "# Here is a simple, literal example. Notice that the 'self' on which the method\n",
    "# is called is actually the opposite claim from the conclusion being drawn.\n",
    "InSet(x, S).deduce_not_in(assumptions=[Not(InSet(x, S))])"
   ]
  },
  {
   "cell_type": "code",
   "execution_count": 22,
   "metadata": {},
   "outputs": [
    {
     "name": "stdout",
     "output_type": "stream",
     "text": [
      "ProofFailure (InstantiationFailure):Proof step failed assuming {[not](x in S)}:\n",
      "Attempting to instantiate |- forall_{x, S | [not](x in S)} (x not-in S) with {x: y, S: T}:\n",
      "Unsatisfied condition: [not](y in T). For debugging purposes, this is accessible via Instantiation.unsatisfied_condition with applicable assumptions in Instantiation.condition_assumptions.\n"
     ]
    }
   ],
   "source": [
    "# Even though the deduction involves the negation of the 'self' membership object,\n",
    "# the self membership object args must match the assumptions\n",
    "try:\n",
    "    InSet(y, T).deduce_not_in(assumptions=[Not(InSet(x, S))])\n",
    "    assert False, \"Expecting an InstantiationFailure; should not make it to this point!\"\n",
    "except InstantiationFailure as the_error:\n",
    "    print(\"ProofFailure (InstantiationFailure):{}\".format(the_error))"
   ]
  },
  {
   "cell_type": "code",
   "execution_count": 23,
   "metadata": {},
   "outputs": [
    {
     "data": {
      "text/html": [
       "<span style=\"font-size:20px;\"> <a class=\"ProveItLink\" href=\"../__pv_it/demonstrations/65cc14718d6d616111005e82c445eaf36cc374bb0/proof.ipynb\" style=\"text-decoration: none\">&nbsp;&#x22A2;&nbsp;&nbsp;</a><a class=\"ProveItLink\" href=\"../__pv_it/demonstrations/6699fbf136c61fa3e150922a29fa231f835fd2940/expr.ipynb\"><img src=\"data:image/png;base64,iVBORw0KGgoAAAANSUhEUgAAAFUAAAAVCAMAAAAAc1IEAAAAP1BMVEX///8AAAAAAAAAAAAAAAAA\n",
       "AAAAAAAAAAAAAAAAAAAAAAAAAAAAAAAAAAAAAAAAAAAAAAAAAAAAAAAAAAAAAADFBd4eAAAAFHRS\n",
       "TlMAIomZu0QQVHbN72bdMqvp8+P3ncdxcugAAAAJcEhZcwAADsQAAA7EAZUrDhsAAAF4SURBVDjL\n",
       "lZXbeoQgDIQ5QzBk2y3v/6wVtBoO6paL/Rac/MA4oBDXTbZdZ614aNLLJ4kAx3sBrHssSWR2kVRK\n",
       "GztT8J7PBzNhh5dag0nbf7NVOV1r/EDVzUwKdx9IQ26p0pTn2XJdKECXYaCimFFrRUulamaMXGdj\n",
       "maSjBoOvL4TPqLH2KctOtzqwMJmF4ASlj9daH1FOnc4ih8ry8l1nyQ11Nyy3uhSoWRiUrSyhe3dw\n",
       "T015KwiRO8AyAGNYhYzLPRX3HEpOiiyOERG/3+uPOZgELGYzqj60jmDlprp5c07havza/CZt3B11\n",
       "OU+MqgvIVcOoNajY1xm6oXpVNiTZGYzUOSBCEFb31EkGTs9UHa59tb2tZRnyCr4La0tVW96P8yhR\n",
       "l4aNzq4j7e3i6D3cTweVKGagsgjcbxnMtUE/+2D+jzJrBi5O7GnnJGE3VHAfqZX4D1WacYyfmT+j\n",
       "wqRWwxVV+clM4w08g7q4XFFpugFN/vG7pTbNLzjvDT1MvIjnAAAAAElFTkSuQmCC\n",
       "\" style=\"display:inline;vertical-align:middle;\" /></a></span>"
      ],
      "text/plain": [
       "|- 3 not-in {1, 2}"
      ]
     },
     "metadata": {},
     "output_type": "display_data"
    }
   ],
   "source": [
    "# Notice that we can prove simple non-memberships automatically,\n",
    "# without the deduce_not_in()\n",
    "NotInSet(three, Set(one, two)).prove()"
   ]
  },
  {
   "cell_type": "code",
   "execution_count": 24,
   "metadata": {},
   "outputs": [
    {
     "data": {
      "text/html": [
       "<span style=\"font-size:20px;\"><a class=\"ProveItLink\" href=\"../../../../numbers/ordering/__pv_it/theorems/ef097190be07bfef385d06d66c6c1568183e809c0/expr.ipynb\"><img src=\"data:image/png;base64,iVBORw0KGgoAAAANSUhEUgAAADAAAAAUCAMAAAD84U6VAAAAPFBMVEX///8AAAAAAAAAAAAAAAAA\n",
       "AAAAAAAAAAAAAAAAAAAAAAAAAAAAAAAAAAAAAAAAAAAAAAAAAAAAAAAAAAAo1xBWAAAAE3RSTlMA\n",
       "IquJdkTvuxBmmd1UzTLn9enzF+Xi+wAAAAlwSFlzAAAOxAAADsQBlSsOGwAAAMpJREFUKM+VktkS\n",
       "wyAIRRV3XLrw//9aNNMmJqmOPDiiwOGiQowMvViy4va9dzZOE1w5ehmnAOhcSlOAPHqGZoJMD1C7\n",
       "BAlKS31JyLJ3QWtoXRnLN24HYmz2eNb1R/GUPS8c6m1oURNAahUtN4JU/ajOCk5DxNwmxWHWNaAZ\n",
       "A7aKhkfrqcoNdKhVe3+9NyXQvQJS1VF3kEXqSubz0Kl85TompIii6zldvgFwrGunHrQqEnQZAjhM\n",
       "Yfj7yEmtfesbwNjCKiAuAkQZ3H0AP6IGQkFa83wAAAAASUVORK5CYII=\n",
       "\" style=\"display:inline;vertical-align:middle;\" /></a>, <a class=\"ProveItLink\" href=\"../__pv_it/demonstrations/636b551eaa2c463238c85b046347f565e22cd1360/expr.ipynb\"><img src=\"data:image/png;base64,iVBORw0KGgoAAAANSUhEUgAAADAAAAAUCAMAAAD84U6VAAAAPFBMVEX///8AAAAAAAAAAAAAAAAA\n",
       "AAAAAAAAAAAAAAAAAAAAAAAAAAAAAAAAAAAAAAAAAAAAAAAAAAAAAAAAAAAo1xBWAAAAE3RSTlMA\n",
       "IquJdkTvuxBmmd1UzTLn9enzF+Xi+wAAAAlwSFlzAAAOxAAADsQBlSsOGwAAALtJREFUKM+Vk9kS\n",
       "gyAMRQMJSNi68P//2qBTWnTUSR4YlSvnZgHgKmIAVdRFp4elKgFWCzA6vTsFGItk6PC57AFIxD0r\n",
       "52VnaaOCMa3xePb1RzEpy57ULXheVXeAhLJ4MRLbeJ0yiLseDgu+dyc0dwPw3yaG1tPl9ndW9/56\n",
       "b5nYSbY9SS5gC+TpyLKfosabU6mP/JpThMlzjoc5XC2hlDVYwmos1UuAaJGZzqY3o3KKivIesBaQ\n",
       "lAC4ujcfd/IFINnKg08AAAAASUVORK5CYII=\n",
       "\" style=\"display:inline;vertical-align:middle;\" /></a>, <a class=\"ProveItLink\" href=\"../__pv_it/demonstrations/fd549569c8f48a38cc8bfed22be04fdc683f6e970/expr.ipynb\"><img src=\"data:image/png;base64,iVBORw0KGgoAAAANSUhEUgAAADIAAAAUCAMAAAD4FJ6oAAAAPFBMVEX///8AAAAAAAAAAAAAAAAA\n",
       "AAAAAAAAAAAAAAAAAAAAAAAAAAAAAAAAAAAAAAAAAAAAAAAAAAAAAAAAAAAo1xBWAAAAE3RSTlMA\n",
       "IquJdkTvuxBmmd1UzTLn9enzF+Xi+wAAAAlwSFlzAAAOxAAADsQBlSsOGwAAALdJREFUKM+VkkkS\n",
       "AyEIRXGezeD975pWk2paO1iycAEfHl8FoMJb2IxspkzSnmwxec6VSEL4nFOF3NWwOScC1aFuIJC6\n",
       "FcaFZHKuDpAqy92K0kfNnDv60OLxrOdJQjKrXdMtIF9ZakNLPYMYnQz3j2W6vpctauEEyWypxl1B\n",
       "86qH17s7+nnBMtvugCeIl7FpeLGLzBztMXi47B6nn4RllkuRGZeZgvyRYYjY/fQ3kFW4fUjYhkAm\n",
       "qx/yyAZnNhKNiQAAAABJRU5ErkJggg==\n",
       "\" style=\"display:inline;vertical-align:middle;\" /></a> <a class=\"ProveItLink\" href=\"../__pv_it/demonstrations/b17d6593729ea91ab61440f4d515ceb7a0d2be3d0/proof.ipynb\" style=\"text-decoration: none\">&nbsp;&#x22A2;&nbsp;&nbsp;</a><a class=\"ProveItLink\" href=\"../__pv_it/demonstrations/3dc4c50e651be99302c77ddfc01ead7b6fcc1dcd0/expr.ipynb\"><img src=\"data:image/png;base64,iVBORw0KGgoAAAANSUhEUgAAAGcAAAAVCAMAAABsdQABAAAARVBMVEX///8AAAAAAAAAAAAAAAAA\n",
       "AAAAAAAAAAAAAAAAAAAAAAAAAAAAAAAAAAAAAAAAAAAAAAAAAAAAAAAAAAAAAAAAAAAAAAAeYafp\n",
       "AAAAFnRSTlMAIquJdkTvuxBmmd1UzTLp8+P355HBkdhaQwAAAAlwSFlzAAAOxAAADsQBlSsOGwAA\n",
       "AbJJREFUSMeVVVmWhCAMZAkQwTg79z/qINCyiErz0086qSJFJTB2vXj7iUqxtxdf+WMMYf0FpPB9\n",
       "HrYJg08R9dfqYzga7WYZSNv914j7ONvIJF/wZKdr8WuTebHav4/olDyzVJLghgeMcx+fNOLJyTMr\n",
       "p1zyKIKAJbZhPdJNy5YVPjK4kMChWDH6DGl4OEYCQHTSSYClPdUOuWWFDyV0sLgpclB0/AKdKxIv\n",
       "+nAK9HVTcBfwrGkUqSFBp0y97DBFDho0D+Mx6mVvXR/CyX4nQ2ZFeKrL+iM42V67sL6+nTOVDKTq\n",
       "srysCj0bo4NEQYFJmyjH0SwY4WV7BZvNXR2TVe1tbU4G6CDlfkj0e8WL7/rm5Krc1ZGhLiHlt4Ow\n",
       "hUxSY8wUxI6BByFK2Ytm8NtL/heVTxenyk4HKZMPTIBdnWUFOajZNU/hEQHV2GS8fBlJ563sdJA5\n",
       "EwXIjQsoyCjMD17woJA2FeBcjpFyWfbGLjst5E1n//6FweOGc6ea4Pi888BDOBEt2fPOPQ83g9Gq\n",
       "e1edfQbj94UuB+1g9PP+PTiDjmkwT5LBGj6A3Irpl6fKkinrH/3FDptHG1jPAAAAAElFTkSuQmCC\n",
       "\" style=\"display:inline;vertical-align:middle;\" /></a></span>"
      ],
      "text/plain": [
       "{a != b, a != c, a != d} |- a not-in {b, c, d}"
      ]
     },
     "metadata": {},
     "output_type": "display_data"
    }
   ],
   "source": [
    "# The deduce_not_in() is more about a folding of the assumption or\n",
    "# judgment about the negation of a membership claim or the negation of\n",
    "# element equalities\n",
    "InSet(a, Set(b, c, d)).deduce_not_in(assumptions=[NotEquals(a, b), NotEquals(a, c), NotEquals(a, d)])"
   ]
  },
  {
   "cell_type": "markdown",
   "metadata": {},
   "source": [
    "### `InSet.deduce_in_bool()`"
   ]
  },
  {
   "cell_type": "code",
   "execution_count": 25,
   "metadata": {},
   "outputs": [
    {
     "data": {
      "text/html": [
       "<span style=\"font-size:20px;\"> <a class=\"ProveItLink\" href=\"../__pv_it/demonstrations/459b4c3af58d7b3046920e867c5884881d9b83910/proof.ipynb\" style=\"text-decoration: none\">&nbsp;&#x22A2;&nbsp;&nbsp;</a><a class=\"ProveItLink\" href=\"../__pv_it/demonstrations/ff0b8f1117d1abd0422b517d3b1d16f596d61c270/expr.ipynb\"><img src=\"data:image/png;base64,iVBORw0KGgoAAAANSUhEUgAAAJ8AAAAVBAMAAACqHiFtAAAAMFBMVEX///8AAAAAAAAAAAAAAAAA\n",
       "AAAAAAAAAAAAAAAAAAAAAAAAAAAAAAAAAAAAAAAAAAAv3aB7AAAAD3RSTlMAInZUiRDNmWbv3US7\n",
       "qzJazP2FAAAACXBIWXMAAA7EAAAOxAGVKw4bAAACYklEQVQ4y3WVT2gTQRTGv3Xzx3YTiSh6EQyC\n",
       "Ur00h1LQi1FEQZQuvYioEBXBIlIPtrkoBBTpoQUvgmilAUFhNRCKiu1pFbwIWkXQgy0UEQQPVimV\n",
       "4sF03tudbGZ2dgibb9++77czb/4sgAJM7VQTSW0TOazEx+tKxuglN9GxYV48c4padM/k8FCDetEH\n",
       "bB19r5v2E++nhLYTrEPXhCf3Qcge3eJPWxe+AukKLB8D+gCPiidfhkNglHAC9jKQqguZ0Yfgv8SB\n",
       "HJCtIV9A1+04EOgNPVFCbyn9NwSuvxIH3sgDXeK3gvyfoHJvvUcGYJQw04QE4g5UDwEzQL/oQB35\n",
       "/xRyzrnmHsoE0exVCbwI1SOAH28CV/mm+zddt7jmIbcTRJutSeBxqB5/erBRlu9Z4kVwNirIqAZc\n",
       "ClfJt4VFMUou6C2oHn926N8I8JBvGnyttB9adzVgQwqaZWuZ1F7NI4bc88LFfdJZnxfsPc/znjLv\n",
       "c1MFBgncpkTwzHnqtOohYM4pB8AJjqQj1483KnAi/P8FzImddZjeN6N5CAifh2yXsZFC9aiG7xSg\n",
       "TEDLJaC9QnofVA8DK3gt5HdgJ4V2GBY2MzmB1AMecoonZRyqh4B2kSbfelyt8osyJRU4UABtjCCB\n",
       "1VjHOgwWXOTxn+HgEXEAiDXWarV4stLzzzuBC1OXa/BcmUDKqdLhEACfQPHsmpzj06Z7sWM7OseU\n",
       "rcflc+OKgVZd9wQttsc1YAoGRSxxqpjbK2N0txSDiKssFWhb0vl72hjdLmsdHcyROllL7AjVomiM\n",
       "Xi8lfgI2f6JTy/wpwhrG6bUjsHzkXwAAAABJRU5ErkJggg==\n",
       "\" style=\"display:inline;vertical-align:middle;\" /></a></span>"
      ],
      "text/plain": [
       "|- (2 in {1, 2, 3}) in BOOLEAN"
      ]
     },
     "metadata": {},
     "output_type": "display_data"
    }
   ],
   "source": [
    "# Membership claims are Boolean values\n",
    "InSet(two, Set(one, two, three)).deduce_in_bool()"
   ]
  },
  {
   "cell_type": "code",
   "execution_count": 26,
   "metadata": {},
   "outputs": [
    {
     "data": {
      "text/html": [
       "<span style=\"font-size:20px;\"> <a class=\"ProveItLink\" href=\"../__pv_it/demonstrations/a6c338d1a703117045a71e6fa7bd12a7560080aa0/proof.ipynb\" style=\"text-decoration: none\">&nbsp;&#x22A2;&nbsp;&nbsp;</a><a class=\"ProveItLink\" href=\"../__pv_it/demonstrations/1f9a02d27936e65ce943e35e87395e3f9442acd00/expr.ipynb\"><img src=\"data:image/png;base64,iVBORw0KGgoAAAANSUhEUgAAAJ8AAAAVBAMAAACqHiFtAAAAMFBMVEX///8AAAAAAAAAAAAAAAAA\n",
       "AAAAAAAAAAAAAAAAAAAAAAAAAAAAAAAAAAAAAAAAAAAv3aB7AAAAD3RSTlMAInZUiRDNmWbv3US7\n",
       "qzJazP2FAAAACXBIWXMAAA7EAAAOxAGVKw4bAAACbElEQVQ4y3WVS2jUUBSG/5h5OK8SH6gLwUFQ\n",
       "qpvOQgTdOIooiNLQjYgKoyJYSqmL2tlUGFDEhYIbQbSlAUEhOjAUFVsQouBG0PpCF3agiFBx4YNS\n",
       "URHjPSfJZHLn5i4yf+7h/3LPufeeAWBANQ43EDdWkEOLDS8pKWcHzFhH16yI5YrS7Oaxof46rWIL\n",
       "vc3Lph3E+xJAV4+88IS2e1R48i+F7JYtzqR28gOQrNBLXY7uE5H3Qz5Qc9DrVeAg9AUgYQmZklNw\n",
       "HmJnHkjXKEEVEOjxPQUDmSusekrJnz5w6elO4LkCkCH9edCv3DP7lgKYWUThB6upBgIgrkoeAqaA\n",
       "raTLHjB33FSv0ELhnx/QfwXAU5JHAF+dB4bpI4YHXGWqUxYj+90X07UAeEDyOJN99bL3nTXwgMfC\n",
       "goxIwG/+KfnYnBML4IJekDzOdP+fM8BNytgHVlpB7ZoEbO0a7bK2QGqb5BEpdz8wcUPsl+EBu67b\n",
       "tn2Xee8aUWDaafkmxOTRE7ToqIeA+VyZgMvhAZOha/5pFHjZ//0KzIibtYe+NyV5CAiHUn7UbP5+\n",
       "S1NWWMPnEaBexjIWrklAfZH0dkQ9DKzgCb+M83O94mAz8xOwgdU4p5zgTbkkeQioF/3N/8vPVCkK\n",
       "7DVAFwPa7WrVYnWx7RwOSx7nHnbtFQ2A9Kj7mgsye78d2JwYrMEWC8u6rlthlatSc/CAdxDxbByb\n",
       "4W6TnWu7jrn9kavH5TM7FQM1S/Z4o+OOS8AEFIpY3FVU47FydlMg+tCp0nSa18b13yPK2XVBrcPG\n",
       "HKpDtdiFUC2Kytmzpdi/gJVvuKGog/8BiaWxvrGQxSYAAAAASUVORK5CYII=\n",
       "\" style=\"display:inline;vertical-align:middle;\" /></a></span>"
      ],
      "text/plain": [
       "|- (4 in {1, 2, 3}) in BOOLEAN"
      ]
     },
     "metadata": {},
     "output_type": "display_data"
    }
   ],
   "source": [
    "# False membership claims are Boolean values\n",
    "InSet(four, Set(one, two, three)).deduce_in_bool()"
   ]
  },
  {
   "cell_type": "code",
   "execution_count": 27,
   "metadata": {},
   "outputs": [
    {
     "data": {
      "text/html": [
       "<span style=\"font-size:20px;\"> <a class=\"ProveItLink\" href=\"../__pv_it/demonstrations/46ee395cecab416a9bdb41786f46c59d5d50336b0/proof.ipynb\" style=\"text-decoration: none\">&nbsp;&#x22A2;&nbsp;&nbsp;</a><a class=\"ProveItLink\" href=\"../__pv_it/demonstrations/be940c3f28886f1cd66140887707eb4c304722fe0/expr.ipynb\"><img src=\"data:image/png;base64,iVBORw0KGgoAAAANSUhEUgAAAJ8AAAAVBAMAAACqHiFtAAAAMFBMVEX///8AAAAAAAAAAAAAAAAA\n",
       "AAAAAAAAAAAAAAAAAAAAAAAAAAAAAAAAAAAAAAAAAAAv3aB7AAAAD3RSTlMAInZUiRDNmWbv3US7\n",
       "qzJazP2FAAAACXBIWXMAAA7EAAAOxAGVKw4bAAACjElEQVQ4y3WVS2gTURSG/yRN0iSTNoLoRuko\n",
       "VFrxEUEE3TS6KYq1Q7dWMioFSyntojYrIaC4UnQjBFswIFgZDRSp9bEahW4a6guJCx90IYiCtFLi\n",
       "ogvjvWfuvGcuZHLmnDnf3Pufc+8AyCFonJ1H2Igc4pfQcDQf6B1TQjPwewnIyB7n3tmJ0RqfxeHA\n",
       "nD7O+2VCt0+/EdbW/jq7rrBfjzdFfxIZ+QzE1UDgKRb5NCGAER2DhgLxSfTlKYqEdwn6cxyXgGQ5\n",
       "DAgcFDnZHFK3DSU2UFSNaPukH3g1C6Rczn2apvqBqSayf8jKzKBTAHFHqL2sPbCACeCIk7fYHTzD\n",
       "KrL/LHXLInrJeMUFxZ7h+2vAFNfo4y6qWWQkeMlspNeFkXloRgfofptiF2WoVjDe8yInNbkrYbfk\n",
       "tAe4JrqkY/83du3l5nVynLc1fDm6eRm4z0pXQbJKQLt3Kx5gzW4oVuUu3rtH6VZ1FqVnUcEMK/Q6\n",
       "0gXu+qmxoXNeY94NTOpWHqsQ4g1GXKMZ32Upj02glClwYEpHkQDDVtaPJTfwpvjvWIW0AbSNcaGo\n",
       "MXXnDCXofMlFGbcM5e16r7iAsQK2kNHZJCDto2PkqbqBKl4zYB6NGK9HVPZXmZjfgW6yUu9oySe5\n",
       "8wY9uNsFjMm8+JIcm0uS76IbOJhD/C+XdK5UqpLVXrb7cIoeTFhni76AE/3sAGA6fDiz8wD5ztUV\n",
       "B/DrvfEyNOZJt1otlSw8K9XN1z0ydveXp0bGntm3dNqkV51bZWHZufVIPsVvUTQi1MucFltPDN8e\n",
       "hxvYBr9F0ZBTBXgV6O01jSH4LdpHO8KO3+FAb5eptV1424pXQifCtZADvVfy4d+UARaLBn+K8B/r\n",
       "OqU7Rg4riAAAAABJRU5ErkJggg==\n",
       "\" style=\"display:inline;vertical-align:middle;\" /></a></span>"
      ],
      "text/plain": [
       "|- (a in {1, 2, 3}) in BOOLEAN"
      ]
     },
     "metadata": {},
     "output_type": "display_data"
    }
   ],
   "source": [
    "# Membership claims with unknown verity are also Boolean values\n",
    "InSet(a, Set(one, two, three)).deduce_in_bool()"
   ]
  },
  {
   "cell_type": "code",
   "execution_count": 28,
   "metadata": {},
   "outputs": [
    {
     "data": {
      "text/html": [
       "<span style=\"font-size:20px;\"> <a class=\"ProveItLink\" href=\"../__pv_it/demonstrations/95b5647ebf7837d7aa4b1768fd91e8d5d1bc5e200/proof.ipynb\" style=\"text-decoration: none\">&nbsp;&#x22A2;&nbsp;&nbsp;</a><a class=\"ProveItLink\" href=\"../__pv_it/demonstrations/bc6d54940803197d2ef88a81e784573b67a9ecbd0/expr.ipynb\"><img src=\"data:image/png;base64,iVBORw0KGgoAAAANSUhEUgAAAJ4AAAAVBAMAAABF3EpTAAAAMFBMVEX///8AAAAAAAAAAAAAAAAA\n",
       "AAAAAAAAAAAAAAAAAAAAAAAAAAAAAAAAAAAAAAAAAAAv3aB7AAAAD3RSTlMAInZUiRDNmWbv3US7\n",
       "qzJazP2FAAAACXBIWXMAAA7EAAAOxAGVKw4bAAACo0lEQVQ4y4VVTWgTQRT+kuwm2/w0PVUFxRBa\n",
       "UfGQiggWxCAeVIwsHgShwagUKiKsUMRDoaEHL4r4g1hqwUKlYqzgoQqi0FhQsFoMtgiih3gRKkhL\n",
       "i0HoxTczO7PZdVcHMnzzZt8335v35gVAG3yG/gKBI9TFpqDdcM7PuuVpMB9+vgYSGQ/NwzeNkS8E\n",
       "dkF/O+b1iPxyr7/fkSh2wATmCGz1uCQTmfbiE+glIGp5+TTvCasSFBYpnsMEoqaXr6y1VRErA+nc\n",
       "//gSSu+tl6bgM6y/+IxcDS0Ep+VROyqVki+fWgtixofb9sXNViYUXwm75TaNZ51B+tSNiA3u0CcO\n",
       "OG0qfan1efQTPJ+d53XQ69ajZa+J1ab9S/aNGJ8fW5KvwC3tpoq3c/sCP0VvmCdZEUadSoxR2KFx\n",
       "DAgJN/BBeqV5mWxj02VuOOXc38S9BybGeXG0sM+iTnwbKEvxPG7yxYkyLsqNzXU+M7l7uKHUlI/w\n",
       "lV7c5WLSebIsVmhUeYDnaBqUmgaB+9Jrn3g9n4hwiaHWEfKZtPlQnWJ8JGSaHdij5LUOENeoXI1C\n",
       "X5NYpE5j5z3nzNUmfagmWbxUflxLvKmYatBX5FNegbEsN+aESvZ5N4djLr4oZoivrg/zSsq48vub\n",
       "MgFy1FeRKnVBRC9u9BCbrnKYdfHtZFlPlZOivM64+Ci5R/UGLWbQbVkcIbTmRN0vKjOn+PJah4Uf\n",
       "JGDhkjAV35lNfNrBIRMVshQ7vn2sc4TIssP3SNzGV9GJwmff8/4Srzc9g6lZ73uLqFfPUaym+EL2\n",
       "J4kj4r3Zw7D8Opzi0xwT/fba0TE+1kj8xivfJnvdBseUiaHJ4wKz8t4Y0Gx7fFu67HdOyhkauiDu\n",
       "bDhIB3PN+FnXzf/j/6NAUYd9/3bwB8rPnl0/Hk4yAAAAAElFTkSuQmCC\n",
       "\" style=\"display:inline;vertical-align:middle;\" /></a></span>"
      ],
      "text/plain": [
       "|- (b in {c, d, f}) in BOOLEAN"
      ]
     },
     "metadata": {},
     "output_type": "display_data"
    }
   ],
   "source": [
    "# Membership claims with unknown verity are also Boolean values\n",
    "InSet(b, Set(c, d, f)).deduce_in_bool()"
   ]
  },
  {
   "cell_type": "code",
   "execution_count": 29,
   "metadata": {},
   "outputs": [
    {
     "data": {
      "text/html": [
       "<span style=\"font-size:20px;\"> <a class=\"ProveItLink\" href=\"../__pv_it/demonstrations/95b5647ebf7837d7aa4b1768fd91e8d5d1bc5e200/proof.ipynb\" style=\"text-decoration: none\">&nbsp;&#x22A2;&nbsp;&nbsp;</a><a class=\"ProveItLink\" href=\"../__pv_it/demonstrations/bc6d54940803197d2ef88a81e784573b67a9ecbd0/expr.ipynb\"><img src=\"data:image/png;base64,iVBORw0KGgoAAAANSUhEUgAAAJ4AAAAVBAMAAABF3EpTAAAAMFBMVEX///8AAAAAAAAAAAAAAAAA\n",
       "AAAAAAAAAAAAAAAAAAAAAAAAAAAAAAAAAAAAAAAAAAAv3aB7AAAAD3RSTlMAInZUiRDNmWbv3US7\n",
       "qzJazP2FAAAACXBIWXMAAA7EAAAOxAGVKw4bAAACo0lEQVQ4y4VVTWgTQRT+kuwm2/w0PVUFxRBa\n",
       "UfGQiggWxCAeVIwsHgShwagUKiKsUMRDoaEHL4r4g1hqwUKlYqzgoQqi0FhQsFoMtgiih3gRKkhL\n",
       "i0HoxTczO7PZdVcHMnzzZt8335v35gVAG3yG/gKBI9TFpqDdcM7PuuVpMB9+vgYSGQ/NwzeNkS8E\n",
       "dkF/O+b1iPxyr7/fkSh2wATmCGz1uCQTmfbiE+glIGp5+TTvCasSFBYpnsMEoqaXr6y1VRErA+nc\n",
       "//gSSu+tl6bgM6y/+IxcDS0Ep+VROyqVki+fWgtixofb9sXNViYUXwm75TaNZ51B+tSNiA3u0CcO\n",
       "OG0qfan1efQTPJ+d53XQ69ajZa+J1ab9S/aNGJ8fW5KvwC3tpoq3c/sCP0VvmCdZEUadSoxR2KFx\n",
       "DAgJN/BBeqV5mWxj02VuOOXc38S9BybGeXG0sM+iTnwbKEvxPG7yxYkyLsqNzXU+M7l7uKHUlI/w\n",
       "lV7c5WLSebIsVmhUeYDnaBqUmgaB+9Jrn3g9n4hwiaHWEfKZtPlQnWJ8JGSaHdij5LUOENeoXI1C\n",
       "X5NYpE5j5z3nzNUmfagmWbxUflxLvKmYatBX5FNegbEsN+aESvZ5N4djLr4oZoivrg/zSsq48vub\n",
       "MgFy1FeRKnVBRC9u9BCbrnKYdfHtZFlPlZOivM64+Ci5R/UGLWbQbVkcIbTmRN0vKjOn+PJah4Uf\n",
       "JGDhkjAV35lNfNrBIRMVshQ7vn2sc4TIssP3SNzGV9GJwmff8/4Srzc9g6lZ73uLqFfPUaym+EL2\n",
       "J4kj4r3Zw7D8Opzi0xwT/fba0TE+1kj8xivfJnvdBseUiaHJ4wKz8t4Y0Gx7fFu67HdOyhkauiDu\n",
       "bDhIB3PN+FnXzf/j/6NAUYd9/3bwB8rPnl0/Hk4yAAAAAElFTkSuQmCC\n",
       "\" style=\"display:inline;vertical-align:middle;\" /></a></span>"
      ],
      "text/plain": [
       "|- (b in {c, d, f}) in BOOLEAN"
      ]
     },
     "metadata": {},
     "output_type": "display_data"
    }
   ],
   "source": [
    "# Membership claims with unknown verity are also Boolean values\n",
    "InSet(b, Set(c, d, f)).deduce_in_bool(assumptions=[Equals(b, d)])"
   ]
  },
  {
   "cell_type": "code",
   "execution_count": 30,
   "metadata": {},
   "outputs": [
    {
     "data": {
      "text/html": [
       "<span style=\"font-size:20px;\"> <a class=\"ProveItLink\" href=\"../__pv_it/demonstrations/f6280dbffe6712f11e99e91850738fa7ad4181f70/proof.ipynb\" style=\"text-decoration: none\">&nbsp;&#x22A2;&nbsp;&nbsp;</a><a class=\"ProveItLink\" href=\"../__pv_it/demonstrations/4400bc3ab4b159da6a0fe46ddc1a3e4460e643090/expr.ipynb\"><img src=\"data:image/png;base64,iVBORw0KGgoAAAANSUhEUgAAAMEAAAAVBAMAAAANw5eWAAAAMFBMVEX///8AAAAAAAAAAAAAAAAA\n",
       "AAAAAAAAAAAAAAAAAAAAAAAAAAAAAAAAAAAAAAAAAAAv3aB7AAAAD3RSTlMAInZUiRDNmWbv3US7\n",
       "qzJazP2FAAAACXBIWXMAAA7EAAAOxAGVKw4bAAACnUlEQVRIx52VTWgTQRTH//nYrfnOQTwJDQWl\n",
       "FcVYVNBLo5eiWFx6taWrUrCU0hxqFUFcUDx5FdQWLIgiq4EitUYv3Qo92FBUlKr4QW5SQURKcvDk\n",
       "m9nd7O5kExMHdpn5z5v5zcd7bwCk4VNOzaP1EtjHfg27g1k/cVxpg4CfK0AsI4i7ZifHCmyh+yG9\n",
       "mhOH9DFA8r7d/FHHqylb+0v0X6OvW7QxngRGPwOSCsh5sfM4fcPTFbMhfZgUCI4i5dGXNe1lcRlG\n",
       "EUfiQIcGpLJ+BAQrdnOvPbgoKsFNjKim/ZZ8PeFqAohQdcmeYLeuq00JvaISm0HKIuCmBV3VH9QI\n",
       "MnDQno/K4o5/7aGOwO5Ms+zPmcwzirOHt9eAKapOdL3jTjeK/yDEHtr2A7y9TXFuerCQ42Cpqoyw\n",
       "oJCdyJhumZDc843+Pax6nQunnXt4MfbnPHAPCFUQYc4sOyF0q51TIj/pZL5yiDdV9013LyqYIXdS\n",
       "kaLdYEOnYjDA+rwf4ZKu39b1gkiIkJm0TohffE93aJLHNiEeyzFCNIcltoah2qDvK63uIVlGfBMI\n",
       "j1P9OQ8Qw72HOAx2ShQOV9iAqOPKa60SUhVO4DngMFfmvAQVL8mqLJnnnqn3JakJgYmRN/yUjjHt\n",
       "Bu/p8hBCGeZiCS1uhuNZLyH8GzxggZNpkUCKVGWBrDnxMMV75FqCMBZwtJ9SGK3z/UVTGi4pLkLi\n",
       "U/Ujoiz7fb07oXkJXNGZ9bMLJXtFj8xM9eWpabNz9jXPrdGyK5MsrLqzBi8HPKmm190IKZ49B6wb\n",
       "iJ2wsoZV6vKVQMh59KK7Efbad2gNXo9lP7Gnlqczjd+dQXhywPZGdkN+Yqd9XcEmL5sD57643PCR\n",
       "9Vtl4HK2nXd6gKyDaf/OvxCKtprb5OGiAAAAAElFTkSuQmCC\n",
       "\" style=\"display:inline;vertical-align:middle;\" /></a></span>"
      ],
      "text/plain": [
       "|- (b in {1, 1 + 1, 3}) in BOOLEAN"
      ]
     },
     "metadata": {},
     "output_type": "display_data"
    }
   ],
   "source": [
    "# Membership claims with unknown verity are also Boolean values\n",
    "# Here we don't know the value of the variable b:\n",
    "InSet(b, Set(one, Add(one, one), three)).deduce_in_bool()"
   ]
  },
  {
   "cell_type": "code",
   "execution_count": 31,
   "metadata": {},
   "outputs": [
    {
     "data": {
      "text/html": [
       "<span style=\"font-size:20px;\"> <a class=\"ProveItLink\" href=\"../__pv_it/demonstrations/f6280dbffe6712f11e99e91850738fa7ad4181f70/proof.ipynb\" style=\"text-decoration: none\">&nbsp;&#x22A2;&nbsp;&nbsp;</a><a class=\"ProveItLink\" href=\"../__pv_it/demonstrations/4400bc3ab4b159da6a0fe46ddc1a3e4460e643090/expr.ipynb\"><img src=\"data:image/png;base64,iVBORw0KGgoAAAANSUhEUgAAAMEAAAAVBAMAAAANw5eWAAAAMFBMVEX///8AAAAAAAAAAAAAAAAA\n",
       "AAAAAAAAAAAAAAAAAAAAAAAAAAAAAAAAAAAAAAAAAAAv3aB7AAAAD3RSTlMAInZUiRDNmWbv3US7\n",
       "qzJazP2FAAAACXBIWXMAAA7EAAAOxAGVKw4bAAACnUlEQVRIx52VTWgTQRTH//nYrfnOQTwJDQWl\n",
       "FcVYVNBLo5eiWFx6taWrUrCU0hxqFUFcUDx5FdQWLIgiq4EitUYv3Qo92FBUlKr4QW5SQURKcvDk\n",
       "m9nd7O5kExMHdpn5z5v5zcd7bwCk4VNOzaP1EtjHfg27g1k/cVxpg4CfK0AsI4i7ZifHCmyh+yG9\n",
       "mhOH9DFA8r7d/FHHqylb+0v0X6OvW7QxngRGPwOSCsh5sfM4fcPTFbMhfZgUCI4i5dGXNe1lcRlG\n",
       "EUfiQIcGpLJ+BAQrdnOvPbgoKsFNjKim/ZZ8PeFqAohQdcmeYLeuq00JvaISm0HKIuCmBV3VH9QI\n",
       "MnDQno/K4o5/7aGOwO5Ms+zPmcwzirOHt9eAKapOdL3jTjeK/yDEHtr2A7y9TXFuerCQ42Cpqoyw\n",
       "oJCdyJhumZDc843+Pax6nQunnXt4MfbnPHAPCFUQYc4sOyF0q51TIj/pZL5yiDdV9013LyqYIXdS\n",
       "kaLdYEOnYjDA+rwf4ZKu39b1gkiIkJm0TohffE93aJLHNiEeyzFCNIcltoah2qDvK63uIVlGfBMI\n",
       "j1P9OQ8Qw72HOAx2ShQOV9iAqOPKa60SUhVO4DngMFfmvAQVL8mqLJnnnqn3JakJgYmRN/yUjjHt\n",
       "Bu/p8hBCGeZiCS1uhuNZLyH8GzxggZNpkUCKVGWBrDnxMMV75FqCMBZwtJ9SGK3z/UVTGi4pLkLi\n",
       "U/Ujoiz7fb07oXkJXNGZ9bMLJXtFj8xM9eWpabNz9jXPrdGyK5MsrLqzBi8HPKmm190IKZ49B6wb\n",
       "iJ2wsoZV6vKVQMh59KK7Efbad2gNXo9lP7Gnlqczjd+dQXhywPZGdkN+Yqd9XcEmL5sD57643PCR\n",
       "9Vtl4HK2nXd6gKyDaf/OvxCKtprb5OGiAAAAAElFTkSuQmCC\n",
       "\" style=\"display:inline;vertical-align:middle;\" /></a></span>"
      ],
      "text/plain": [
       "|- (b in {1, 1 + 1, 3}) in BOOLEAN"
      ]
     },
     "metadata": {},
     "output_type": "display_data"
    }
   ],
   "source": [
    "# Here is a Membership claim that is False, involving assumptions\n",
    "# about the value of variable b; notice the assumption is irrelevant\n",
    "InSet(b, Set(one, Add(one, one), three)).deduce_in_bool(assumptions=[Equals(b, zero)])"
   ]
  },
  {
   "cell_type": "markdown",
   "metadata": {},
   "source": [
    "### `InSet.conclude()`"
   ]
  },
  {
   "cell_type": "code",
   "execution_count": 32,
   "metadata": {},
   "outputs": [
    {
     "data": {
      "text/html": [
       "<span style=\"font-size:20px;\"> <a class=\"ProveItLink\" href=\"../__pv_it/demonstrations/83a68a8901e3959900eeb1c84d518a9a9d07c25b0/proof.ipynb\" style=\"text-decoration: none\">&nbsp;&#x22A2;&nbsp;&nbsp;</a><a class=\"ProveItLink\" href=\"../__pv_it/demonstrations/45e1b7550ece59493f0d9872014078b3c8c542b80/expr.ipynb\"><img src=\"data:image/png;base64,iVBORw0KGgoAAAANSUhEUgAAAGcAAAAVBAMAAACphe0AAAAAMFBMVEX///8AAAAAAAAAAAAAAAAA\n",
       "AAAAAAAAAAAAAAAAAAAAAAAAAAAAAAAAAAAAAAAAAAAv3aB7AAAAD3RSTlMAIpnNuzKJRKvvEN12\n",
       "ZlQ4bmvwAAAACXBIWXMAAA7EAAAOxAGVKw4bAAABt0lEQVQ4y2NgwAKWFzDgAowPcUjwmC/AqYkh\n",
       "wgukVckkAE38PUgP6y4oT0jZFcoSS3IHkh5ALMLA9h1NUzYQr1D+BXWPA0M+xLVcCgzvH0BkGxkY\n",
       "ZmLRxMAD1cQhwMA5AeLqfwzrDSCy8xcw9AuABY/s3m2AqYnzFwPHRzCLfToDP1RTNwNDP9hTxaew\n",
       "27SBgeMr3LcXoLIMDPvBbrfC7jwg4P4AZbDvhckysP4BkcwCcEXKaJriD0Bo1hOtQPIkxKAGsCZE\n",
       "/M1F07QDERnA0JN/AGKpgPmRu4HAAaSnuQBVE5MDXBMwVBi4moG6eMEWMSyBywR5oWq6AaVZAxhY\n",
       "/jEwsJkD2c8YGEHe4UbEkweKJr4EBkEwg/8XWBMovbAmMPCAkg3PAczQ4wIxwhgYTjGAVHA2gJ2X\n",
       "CWRKKylpg5XaoWpiA8YoKAEwblJS2sD1GSjCewEeT/v///8MVrrCfQGSJo7Oz70M3MBEy/3//38D\n",
       "ht0guSIld3g8wUCZN3IyAoNXMAbfAlR3YAKEcAKMwcZASNNJGIMLHjhrGFDTCyaAxDkoBOFCiKDl\n",
       "moujHNB4gLuMyADKAQAFnXOVyBhnuwAAAABJRU5ErkJggg==\n",
       "\" style=\"display:inline;vertical-align:middle;\" /></a></span>"
      ],
      "text/plain": [
       "|- 2 in {1, 2, 3}"
      ]
     },
     "metadata": {},
     "output_type": "display_data"
    }
   ],
   "source": [
    "# A simple membership claim can be deduced using conclude()\n",
    "InSet(two, Set(one, two, three)).conclude()"
   ]
  },
  {
   "cell_type": "code",
   "execution_count": 33,
   "metadata": {},
   "outputs": [
    {
     "name": "stdout",
     "output_type": "stream",
     "text": [
      "Proof Failure (Type Error): Proof step failed:\n",
      "Attempting to instantiate |- forall_{n in Natural} [forall_{x, y_{1}, y_{2}, ..., y_{n} | (x = y_{1}) or  (x = y_{2}) or  ... or  (x = y_{n})} (x in {y_{1}, y_{2}, ..., y_{n}})] with {n: 3, x: 4, y: (1, 2, 3)}:\n",
      "Unsatisfied condition: (4 = 1) or (4 = 2) or (4 = 3). For debugging purposes, this is accessible via Instantiation.unsatisfied_condition with applicable assumptions in Instantiation.condition_assumptions.\n"
     ]
    }
   ],
   "source": [
    "# We should not be able to conclude a False membership claim\n",
    "try:\n",
    "    InSet(four, Set(one, two, three)).conclude()\n",
    "    assert False, \"Expecting a ProofFailure (TypeError); should not make it this far!\"\n",
    "except InstantiationFailure as the_error:\n",
    "    print(\"Proof Failure (Type Error): {}\".format(the_error))"
   ]
  },
  {
   "cell_type": "code",
   "execution_count": 34,
   "metadata": {},
   "outputs": [
    {
     "data": {
      "text/html": [
       "<span style=\"font-size:20px;\"><a class=\"ProveItLink\" href=\"../__pv_it/demonstrations/db6adddf22e63f824dbf5e4d2b05d9b6ef9ac8490/expr.ipynb\"><img src=\"data:image/png;base64,iVBORw0KGgoAAAANSUhEUgAAADEAAAAOBAMAAAB0nulXAAAAMFBMVEX///8AAAAAAAAAAAAAAAAA\n",
       "AAAAAAAAAAAAAAAAAAAAAAAAAAAAAAAAAAAAAAAAAAAv3aB7AAAAD3RSTlMAIquJdkTvuxBmmd1U\n",
       "zTKBpmoTAAAACXBIWXMAAA7EAAAOxAGVKw4bAAAAmElEQVQY02NgwAIYV11/wIAViDMwf8Uuo8jA\n",
       "kIZdJr+BQV8Aq4w2A4M+0CJGZUcHTMn9QBwmwP4DxF69GwQ2QST4vjAwcGQycG3A0MKtwMDA9YGB\n",
       "2wBDZjkQsxUw9AegS3ACtTD0OzDMZ0C35zADowBD/wEGXR40x/MZMLA0MLA78OziQjNMetWq1UC3\n",
       "qdgJ+aF75v//vwwAyLIlNSbHnCQAAAAASUVORK5CYII=\n",
       "\" style=\"display:inline;vertical-align:middle;\" /></a> <a class=\"ProveItLink\" href=\"../__pv_it/demonstrations/95cdafc125ea5db959650bf341acd4877fe831c00/proof.ipynb\" style=\"text-decoration: none\">&nbsp;&#x22A2;&nbsp;&nbsp;</a><a class=\"ProveItLink\" href=\"../__pv_it/demonstrations/ef2d276946017cf20bb785a4d9734a1c0093ed560/expr.ipynb\"><img src=\"data:image/png;base64,iVBORw0KGgoAAAANSUhEUgAAAGkAAAAVBAMAAAC3TN2zAAAAMFBMVEX///8AAAAAAAAAAAAAAAAA\n",
       "AAAAAAAAAAAAAAAAAAAAAAAAAAAAAAAAAAAAAAAAAAAv3aB7AAAAD3RSTlMAIquJdkTvuxBmmd1U\n",
       "zTKBpmoTAAAACXBIWXMAAA7EAAAOxAGVKw4bAAABn0lEQVQ4y2NgwAY4QhlwAcaDOKV8I3BKMTyq\n",
       "wCHB8wNI8O2Amb7q+gMIS9iqFEgW4dDFvIGBoWntDyhPnIH5K8TdCxjOH2BgsMaji4EFpkuRgSEN\n",
       "zGD5w9B/AUOX++7dF7Doym9g0BcAMVhTGfgxdMV6YLdLm4FBH+oxhvMToLoYlR0dwPQNHC4Egv1Q\n",
       "mnUnA1RXmAA7WJ5XAK6I6wKqLr4vUNpJD0i6gQImk4FrA1gXwmixCai6uBVgLFAYygMx1wcGbgOQ\n",
       "wLPdQFAAYgldZUDVtRzOYgMKcugeYGArYOgPAAm0Ixy0vAFFFyfUKr4HDOx/gL4GGtrvwDAf4gyE\n",
       "C9kVUHQdZmAE+5n/B1jXeaCZ/QcYdHlAgiwOmGHIAbbCgIGlAcRiUwC70AxkrgPPLi6w2juoupg/\n",
       "MoCTAoP0qlWrwSzOCfD44lCxE/IDq20qbUDSxaT2V5OBG5SC9////xfCilpVyoCRooKrkVMUGJxg\n",
       "wGThTb1gYMCAycKliyUBlqfhIYRgMazFlcv/wLQjDEKUDpm4crmUDu5ywwiYoADVgGz5eXn8BgAA\n",
       "AABJRU5ErkJggg==\n",
       "\" style=\"display:inline;vertical-align:middle;\" /></a></span>"
      ],
      "text/plain": [
       "{a = 2} |- a in {1, 2, 3}"
      ]
     },
     "metadata": {},
     "output_type": "display_data"
    }
   ],
   "source": [
    "InSet(a, Set(one, two, three)).conclude(assumptions=[Equals(a, two)])"
   ]
  },
  {
   "cell_type": "code",
   "execution_count": 35,
   "metadata": {},
   "outputs": [
    {
     "data": {
      "text/html": [
       "<span style=\"font-size:20px;\"><a class=\"ProveItLink\" href=\"../../../equality/__pv_it/theorems/0c05bc69ad09972c0f30b6295165b137f80c451e0/expr.ipynb\"><img src=\"data:image/png;base64,iVBORw0KGgoAAAANSUhEUgAAADIAAAAOBAMAAACfqVJUAAAAMFBMVEX///8AAAAAAAAAAAAAAAAA\n",
       "AAAAAAAAAAAAAAAAAAAAAAAAAAAAAAAAAAAAAAAAAAAv3aB7AAAAD3RSTlMAIquJdkTvuxBmmd1U\n",
       "zTKBpmoTAAAACXBIWXMAAA7EAAAOxAGVKw4bAAAAnElEQVQY02NgwA7eZjHgAn9wSbD+wCXDvAGX\n",
       "DO8CBgZGZUcHdHEhk/cHGBjCBNjBZq7eDQKbwJYkMtQ3MHBkMnChm9k2gWEtAwPXBwZuAzSZ9QwM\n",
       "mxkY2AoY+gPQZNIZOL4yMPQ7MMxnQLWH4wsD5wegzAEGXR4BFC0cfxiYLhxkYHfg2cWFZloJw+kF\n",
       "Cxg4VOyE/NBkmpwfqjwAALqDKvftWnHGAAAAAElFTkSuQmCC\n",
       "\" style=\"display:inline;vertical-align:middle;\" /></a> <a class=\"ProveItLink\" href=\"../__pv_it/demonstrations/1670f60e69e14d16b4eec8f97f6be203fbd5e5940/proof.ipynb\" style=\"text-decoration: none\">&nbsp;&#x22A2;&nbsp;&nbsp;</a><a class=\"ProveItLink\" href=\"../__pv_it/demonstrations/b486f98e438f850941137008dead310c97505f6b0/expr.ipynb\"><img src=\"data:image/png;base64,iVBORw0KGgoAAAANSUhEUgAAAGcAAAAVBAMAAACphe0AAAAAMFBMVEX///8AAAAAAAAAAAAAAAAA\n",
       "AAAAAAAAAAAAAAAAAAAAAAAAAAAAAAAAAAAAAAAAAAAv3aB7AAAAD3RSTlMAIquJdkTvuxBmmd1U\n",
       "zTKBpmoTAAAACXBIWXMAAA7EAAAOxAGVKw4bAAABsklEQVQ4y2NgwAZaAxhwAMaDuGRYrjbgkmJ4\n",
       "VIFD4nwDA0fZBiwSb7MYGIpwaLIGYt4F2GT+QCRxaeI/gEWC9Qe6Jpbq3XsRmuKxeYt5A5om1isN\n",
       "yDZhdQXIzWAJRmVHBxAt24DivEsuOlCeiecDCEPI5P0BqKYwAfYfIPoiwsC1DAwcfxv6BcAc6QNc\n",
       "BRCnJDLUAw12AzI5Mhm4wKF7ARGBmQwMPD8Y2MAOYNgMY7RNAJnGIA+0jesDA7cBkM2XvXv37u1g\n",
       "PbrA9MB1gYEfJMzA9QNm1nqQAUBbdA8wsBUw9IMSDUcB3KZXwEgHGhQPDnQ2uHg6A8dXUAheZWDo\n",
       "d2CYDxZDSgFF4GhaDw6ZfgeoIMcXBs4PkOTC0H+AQZcH5GUXlMjlfwD0LAcokicwMASAGBx/GJgu\n",
       "AJOrGZDN7sCziwscBweQNTFNYF/A0A8MHGDQMT8AMRhKGE4vgMYTh4qdkB/YevUIJE0cyiuBHtsB\n",
       "5BjP9IAwmpwfqjxAj3VWc+RkBAYnMBj4EywYGGAwcGtygwWYAzoDklywAnlomLDAMwBCDhioOAqC\n",
       "RQdwlhFGQCkAigVlt/CS268AAAAASUVORK5CYII=\n",
       "\" style=\"display:inline;vertical-align:middle;\" /></a></span>"
      ],
      "text/plain": [
       "{a = d} |- a in {b, c, d}"
      ]
     },
     "metadata": {},
     "output_type": "display_data"
    }
   ],
   "source": [
    "InSet(a, Set(b, c, d)).conclude(assumptions=[Equals(a, d)])"
   ]
  },
  {
   "cell_type": "code",
   "execution_count": 36,
   "metadata": {},
   "outputs": [
    {
     "data": {
      "text/html": [
       "<span style=\"font-size:20px;\"><a class=\"ProveItLink\" href=\"../__pv_it/demonstrations/ad9c329b7d6ded6129da0e1d6babfbbbcb5e6e200/expr.ipynb\"><img src=\"data:image/png;base64,iVBORw0KGgoAAAANSUhEUgAAAFMAAAAVBAMAAADInc9CAAAAMFBMVEX///8AAAAAAAAAAAAAAAAA\n",
       "AAAAAAAAAAAAAAAAAAAAAAAAAAAAAAAAAAAAAAAAAAAv3aB7AAAAD3RSTlMAELvv3c2ZVESJq3Yi\n",
       "MmZ3LnoBAAAACXBIWXMAAA7EAAAOxAGVKw4bAAABgElEQVQoz2NgwAIkGtAEeGoYsAPuCAF0oVuK\n",
       "QIJR2QFdvB6okict6AKEd3KaBpDUAjFZE9CVTgHiQwycP8AcxgSG+gKIGAN/ATalaxgYjCGu+c4g\n",
       "HwBV2g9z2CYXlwC4UnsBhvUHQBwOCwZ+mNIpUJWtG5FNXcLAsP4CzO0PoKqidi8Hh0cgigOAwB/K\n",
       "5fCDijF+FZAH2cR6AK40FUzy/obweHetBZKbgZj9IwPzBpBSRHjbgSmWBfDAA3r8PBCzBTDwTwDy\n",
       "L7sAgQJI5VJIXCXB9TJ/BFq+tICBZQJDPyi4hOAy10Axw8AHNZT3AgPTdwYGzghwsOaDgosFEa7g\n",
       "mKlk4AG7nv8jWCkoBvkvMILdxr0BJQR4JzBwCzCCbF8AdsBkIJPrARMkZsNRlB5JS0sBRxPfA3i4\n",
       "Mq7MgyiQ0hBAUur///9XBhZHIKstTQMpoiCgUwUpYiGgED1asCUXCJhASOlmGINxA1oMYoDzsGTJ\n",
       "DReChBIm4MlCT8I8s4AiAJKlWVcKNipYAAAAAElFTkSuQmCC\n",
       "\" style=\"display:inline;vertical-align:middle;\" /></a> <a class=\"ProveItLink\" href=\"../__pv_it/demonstrations/890bd9dfa15f975ed30ba1a3eda8def8cce2dec40/proof.ipynb\" style=\"text-decoration: none\">&nbsp;&#x22A2;&nbsp;&nbsp;</a><a class=\"ProveItLink\" href=\"../__pv_it/demonstrations/bef4db206acb4e8a07f3049063224ac300e4b6d10/expr.ipynb\"><img src=\"data:image/png;base64,iVBORw0KGgoAAAANSUhEUgAAAGcAAAAVBAMAAACphe0AAAAAMFBMVEX///8AAAAAAAAAAAAAAAAA\n",
       "AAAAAAAAAAAAAAAAAAAAAAAAAAAAAAAAAAAAAAAAAAAv3aB7AAAAD3RSTlMAELvv3c2ZVESJq3Yi\n",
       "MmZ3LnoBAAAACXBIWXMAAA7EAAAOxAGVKw4bAAABqklEQVQ4y2NgwAIYOxhwAZ4aXDJbG3FqYril\n",
       "CDJV2QFdnP0jkOB1hJmdFnQBwjo5TQNIaoGYrAnomjiBxkilfoTyDjFw/oA4OoGhvoCBYQqIzV+A\n",
       "TRMDN0zTGgYGYzCD+zuDfABUU78AVHaTi0sAFk32AgzrD4AYHBYM/DBNU6CSrRux27SEgWE91FMM\n",
       "9Q+g6qN2Lwf7NxCH84DAH0pz+EEtYfwqIA+ynfUAXA1bAKom3t9QetdaILkZEr7MG0CaEAYffoCq\n",
       "iWUBjAUKvfMFYGP5JwD5l12AQAEkcyqCAVVTEpzFDBRkXFrAwDKBoR8U6EII1yQJoGjig1rEe4GB\n",
       "6TvQxxHgaMoHKWJBOI9pAYqmSgYesH/5P4I11QNV819gtAM7ZwNm6DGCLZjAwC0AYjEvADtvMpDJ\n",
       "9YAJko7CUTVx/mEAJwCGI2lpKWAW3wN4PDGuzIMoldIQQNLEtfjrOgYWUKL1////K4TVlqaBlBgg\n",
       "oFMFORmBQSEDJmsK9iyD0DSBAZOFQxO3ASwHwwMHwWJIxZGlv8N0I8xBFAV2OLL0seW4y4hZwJQA\n",
       "AEolafGdbchdAAAAAElFTkSuQmCC\n",
       "\" style=\"display:inline;vertical-align:middle;\" /></a></span>"
      ],
      "text/plain": [
       "{b in {2, 3}} |- b in {1, 2, 3}"
      ]
     },
     "metadata": {},
     "output_type": "display_data"
    }
   ],
   "source": [
    "InSet(b, Set(one, two, three)).conclude(assumptions=[InSet(b, Set(two, three))])"
   ]
  },
  {
   "cell_type": "code",
   "execution_count": 37,
   "metadata": {},
   "outputs": [
    {
     "data": {
      "text/html": [
       "<span style=\"font-size:20px;\"><a class=\"ProveItLink\" href=\"../../../../numbers/ordering/__pv_it/theorems/27094ede24067904bb8353fa305df8461a3a4be40/expr.ipynb\"><img src=\"data:image/png;base64,iVBORw0KGgoAAAANSUhEUgAAADMAAAAQBAMAAABJt1qBAAAAMFBMVEX///8AAAAAAAAAAAAAAAAA\n",
       "AAAAAAAAAAAAAAAAAAAAAAAAAAAAAAAAAAAAAAAAAAAv3aB7AAAAD3RSTlMAIquJdkTvuxBmmd1U\n",
       "zTKBpmoTAAAACXBIWXMAAA7EAAAOxAGVKw4bAAAA3ElEQVQY02NgwADd32sbGMy+BTBgATWsCgwc\n",
       "H7DJMGgLWDIwJGCV0ingFWDYgCLkvnv3BRCtOIXxAqpUrAeUocj0wBksxajs6AASYLwBU6PIUMAe\n",
       "AJIKE2D/ARIAmg+XesWxAyjFkcnABTaXlwEhxXngONCFXB8YuA1AAs92A0EBRIpBgwkoxVbA0A/2\n",
       "eDuSLoYmDqBJ/Q4M88EC3MhSfA5A/f0HGHR5QC5gcYBJ1QGxH1CK3YFnFxdY5A5MCsTgAnqeQ8VO\n",
       "yA8s0lTaAKbffgPq4LiAElDB1buRBQCzkDPDLBuujwAAAABJRU5ErkJggg==\n",
       "\" style=\"display:inline;vertical-align:middle;\" /></a> <a class=\"ProveItLink\" href=\"../__pv_it/demonstrations/e3512418baf6f665da1daf9e63447c1a18503f4f0/proof.ipynb\" style=\"text-decoration: none\">&nbsp;&#x22A2;&nbsp;&nbsp;</a><a class=\"ProveItLink\" href=\"../__pv_it/demonstrations/1a96420871f93ded42ef7a1f6e9802732bc1eec20/expr.ipynb\"><img src=\"data:image/png;base64,iVBORw0KGgoAAAANSUhEUgAAADIAAAAQBAMAAACmdTG/AAAAMFBMVEX///8AAAAAAAAAAAAAAAAA\n",
       "AAAAAAAAAAAAAAAAAAAAAAAAAAAAAAAAAAAAAAAAAAAv3aB7AAAAD3RSTlMAIquJdkTvuxBmmd1U\n",
       "zTKBpmoTAAAACXBIWXMAAA7EAAAOxAGVKw4bAAAA3klEQVQY02NgwAA8175d3102AVOCgaXoAcMF\n",
       "XiwSDFwLGFgm2GCTYRJgaOcoQDGlevdeEM3BwLCO6QGSBOuVBhiTT+EViGJUdnQA0bJwCQb2hgoQ\n",
       "FSbA/gNEX0RoP8wJUsuRycC1AcS9gJCBuJnrAwO3Acjs7N27d2+HOOWAKQNDAwNbAUN/AEgvwp3t\n",
       "jEC2IkO/A8N8MH8DXEYP6COODwz9Bxh0eQSAfBe4mxdEAb27gYHdgWcXF0iA9wDczTcYGGsKGDhU\n",
       "7IT8wF5Xj4DIhNWml+enGyAHgjkkdKAAAEfmMVewssrcAAAAAElFTkSuQmCC\n",
       "\" style=\"display:inline;vertical-align:middle;\" /></a></span>"
      ],
      "text/plain": [
       "{a in Natural} |- a in Integer"
      ]
     },
     "metadata": {},
     "output_type": "display_data"
    }
   ],
   "source": [
    "# But there are a number of standard set memberships that can be deduced\n",
    "# based on subset memberships\n",
    "InSet(a, Integer).conclude(assumptions=[InSet(a, Natural)])"
   ]
  },
  {
   "cell_type": "code",
   "execution_count": 38,
   "metadata": {},
   "outputs": [
    {
     "data": {
      "text/html": [
       "<span style=\"font-size:20px;\"><a class=\"ProveItLink\" href=\"../__pv_it/demonstrations/958ae704e16504ef965a9f88e3b43fa3f23f98830/expr.ipynb\"><img src=\"data:image/png;base64,iVBORw0KGgoAAAANSUhEUgAAADEAAAAOBAMAAAB0nulXAAAAMFBMVEX///8AAAAAAAAAAAAAAAAA\n",
       "AAAAAAAAAAAAAAAAAAAAAAAAAAAAAAAAAAAAAAAAAAAv3aB7AAAAD3RSTlMAIquJdkTvuxBmmd1U\n",
       "zTKBpmoTAAAACXBIWXMAAA7EAAAOxAGVKw4bAAAAkUlEQVQY02NgwAIYjZcHMGAFXQw8f7DL+B/g\n",
       "+ItdJiyAAYcMAwPPT5B1yo4OGDLRE0BaBdh/gDird4PAJrDEE6UHDAwcmQxcGzBNA7qN6wMDtwGm\n",
       "RfkNDGwFDP3o3nrHwFB/gKHfgWE+A5o9/xvAMgcYdHkEUPUkgU1jd+DZxYVm2kywfzhU7IT80GRY\n",
       "VwFDFADGlCpwSKxZPgAAAABJRU5ErkJggg==\n",
       "\" style=\"display:inline;vertical-align:middle;\" /></a> <a class=\"ProveItLink\" href=\"../__pv_it/demonstrations/0268721ef60ea7a9b150710f0d2ecc4427c476cb0/proof.ipynb\" style=\"text-decoration: none\">&nbsp;&#x22A2;&nbsp;&nbsp;</a><a class=\"ProveItLink\" href=\"../__pv_it/demonstrations/e52f5a8e9625608ba30d47e11ccb851908b362960/expr.ipynb\"><img src=\"data:image/png;base64,iVBORw0KGgoAAAANSUhEUgAAAI0AAAAVBAMAAACJRXC4AAAAMFBMVEX///8AAAAAAAAAAAAAAAAA\n",
       "AAAAAAAAAAAAAAAAAAAAAAAAAAAAAAAAAAAAAAAAAAAv3aB7AAAAD3RSTlMAIquJdkTvuxBmmd1U\n",
       "zTKBpmoTAAAACXBIWXMAAA7EAAAOxAGVKw4bAAABl0lEQVQ4y2NgwAY4QhmIB4wHcUr5RpBgDsOj\n",
       "ChwSPD+ABN8OGBfBwhARtioFkkU4zGHewMDQtPYHlIdgMaCLcCxgOH+AgcEajzkMLHDdcBbrBDQR\n",
       "lj8M/RcwzHHfvfsCXnN4HNBEWFMZ+DHMifUg5B4Mc4Dg/ASoOYzKjmBpxhsMZJjDupMBak6YADtY\n",
       "lFcAbg7XBWLN4XPSA5JuoCDPZODaADYH4UOxCST4Cxhf8kDM9YGB2wAk8Gw3EBSAWEJXGbCYw7V7\n",
       "97bs3bsV0MxhAzI5dA8wsBUw9AeABNoRqWx5A5Hu4XvAwP4HGJ5Ai/sdGOaDxbgR/mJXINIc/h9g\n",
       "c84D7e0/wKDLAwpiFgfM+OLAYw5Ijk0B7C8zkN0OPLu4wJJ3UM1h/sgATqwQFqo5MDnOCfD0w6Fi\n",
       "J+QHyTWlDUjmMKn91WTgBuVHMAvFHIRc1KpSBox8EVyNnC/A4ARqOeCAzEPI4c2nYGCAIg7Pp2hy\n",
       "uMxhSYCViw64Sy8kubW4Sso/MAPxlIIIOWCWwAGkdEgpn42A2QIA+cGDJiuc0ksAAAAASUVORK5C\n",
       "YII=\n",
       "\" style=\"display:inline;vertical-align:middle;\" /></a></span>"
      ],
      "text/plain": [
       "{a = 3} |- a in {1, 1 + 1, 3}"
      ]
     },
     "metadata": {},
     "output_type": "display_data"
    }
   ],
   "source": [
    "# Verify that the conclude() method is not automatically simplifying aspects of the\n",
    "# of set elements\n",
    "InSet(a, Set(one, Add(one, one), three)).conclude(assumptions=[Equals(a, three)])"
   ]
  },
  {
   "cell_type": "code",
   "execution_count": 39,
   "metadata": {},
   "outputs": [
    {
     "data": {
      "text/html": [
       "<span style=\"font-size:20px;\"><a class=\"ProveItLink\" href=\"../__pv_it/demonstrations/db6adddf22e63f824dbf5e4d2b05d9b6ef9ac8490/expr.ipynb\"><img src=\"data:image/png;base64,iVBORw0KGgoAAAANSUhEUgAAADEAAAAOBAMAAAB0nulXAAAAMFBMVEX///8AAAAAAAAAAAAAAAAA\n",
       "AAAAAAAAAAAAAAAAAAAAAAAAAAAAAAAAAAAAAAAAAAAv3aB7AAAAD3RSTlMAIquJdkTvuxBmmd1U\n",
       "zTKBpmoTAAAACXBIWXMAAA7EAAAOxAGVKw4bAAAAmElEQVQY02NgwAIYV11/wIAViDMwf8Uuo8jA\n",
       "kIZdJr+BQV8Aq4w2A4M+0CJGZUcHTMn9QBwmwP4DxF69GwQ2QST4vjAwcGQycG3A0MKtwMDA9YGB\n",
       "2wBDZjkQsxUw9AegS3ACtTD0OzDMZ0C35zADowBD/wEGXR40x/MZMLA0MLA78OziQjNMetWq1UC3\n",
       "qdgJ+aF75v//vwwAyLIlNSbHnCQAAAAASUVORK5CYII=\n",
       "\" style=\"display:inline;vertical-align:middle;\" /></a> <a class=\"ProveItLink\" href=\"../__pv_it/demonstrations/e36df4aefa85014165afb5a8acb5e3c9d0534ff50/proof.ipynb\" style=\"text-decoration: none\">&nbsp;&#x22A2;&nbsp;&nbsp;</a><a class=\"ProveItLink\" href=\"../__pv_it/demonstrations/c14a3f1ce8ce73e6027b33479c39575c8f8e6e2c0/expr.ipynb\"><img src=\"data:image/png;base64,iVBORw0KGgoAAAANSUhEUgAAAIIAAAAVBAMAAAB4Tis1AAAAMFBMVEX///8AAAAAAAAAAAAAAAAA\n",
       "AAAAAAAAAAAAAAAAAAAAAAAAAAAAAAAAAAAAAAAAAAAv3aB7AAAAD3RSTlMAIquJdkTvuxBmmd1U\n",
       "zTKBpmoTAAAACXBIWXMAAA7EAAAOxAGVKw4bAAABv0lEQVQ4y2NgwAZaAxiIAjICOCRYrjYQZwKf\n",
       "Og6F50Hir+GSCBYD46rrD6As4+VAh7IrYDfBmoGBQ+s+VB+CBQTiDMxfIawuBp4/DAzMG3CawMDg\n",
       "D9eHYDEoMjCkQQUPcPxFN4GlevdeQibkNzDoQ0IvLIAB3QTWKw2E3aDNwKAPDQgGnp9QExiVHR1A\n",
       "ArINRPgCCPbDGNEToCaECbD/AAlcRChai8cEvi9QxhMloGNYEoBBncnABfbMBUSUZeIxgRsef6C4\n",
       "YARirg8M3AYgs7N37969HWyAbgA2E/ohVixnQA5WhqY7DGwFDP0gHRwFcJlXFdhM4F4AIjlhTnjH\n",
       "wFB/gIHBNoCh34FhPlgIKV6KcPviMAMjJDb/N4BM4AEGYf8BBl0ekKALlhTVgG4CnwEDSwMHiJUE\n",
       "9gUzMCTZHXh2cYGEeA+gmmAvwABKdRAWDEivWrUaEiIz4emBQ8VOyA+c/tUjkE1Qyr80gWF3A4wF\n",
       "Swz///9l4N4BSoCrQDkLNVWzmqOkanCEYc+8J+AsvDkLrAC7vAFBE9xgjBas0hwOcCbXBewmyMMC\n",
       "1QF7EYZgtk3AbgLjogPElXLCOgwMAFpufHXNblWfAAAAAElFTkSuQmCC\n",
       "\" style=\"display:inline;vertical-align:middle;\" /></a></span>"
      ],
      "text/plain": [
       "{a = 2} |- a in {1, 1 * 2, 3}"
      ]
     },
     "metadata": {},
     "output_type": "display_data"
    }
   ],
   "source": [
    "# Verify that the conclude() method is not automatically simplifying aspects of the\n",
    "# of set elements, even when checking for equalities\n",
    "InSet(a, Set(one, Mult(one, two), three)).conclude(assumptions=[Equals(a, two)])"
   ]
  },
  {
   "cell_type": "markdown",
   "metadata": {},
   "source": [
    "### `InSet.evaluation()`"
   ]
  },
  {
   "cell_type": "code",
   "execution_count": 40,
   "metadata": {},
   "outputs": [
    {
     "data": {
      "text/html": [
       "<span style=\"font-size:20px;\"> <a class=\"ProveItLink\" href=\"../__pv_it/demonstrations/50420bd0c4e9f2fcc06b2fb8d4526f584308f2120/proof.ipynb\" style=\"text-decoration: none\">&nbsp;&#x22A2;&nbsp;&nbsp;</a><a class=\"ProveItLink\" href=\"../__pv_it/demonstrations/bc58a4bc1a114a2d6f8a9973f4d7413cbb8ae2180/expr.ipynb\"><img src=\"data:image/png;base64,iVBORw0KGgoAAAANSUhEUgAAAKMAAAAVBAMAAADY0UPbAAAAMFBMVEX///8AAAAAAAAAAAAAAAAA\n",
       "AAAAAAAAAAAAAAAAAAAAAAAAAAAAAAAAAAAAAAAAAAAv3aB7AAAAD3RSTlMAInZUiRDNmWbv3US7\n",
       "qzJazP2FAAAACXBIWXMAAA7EAAAOxAGVKw4bAAACK0lEQVQ4y2NgYBBgwAaiNzDgAsIgHYwMuAGT\n",
       "AVbR7ACcOvjuAOW4FXAbaQIinqOL2oNMfAU3lq8AQjO61ABdz3MByNRA18K+CgwuMLAmgLhr0eW9\n",
       "GBhYr+fDjeS6AKHDGZg/MzCwLAAy2bB4gxnsdPYGkDexGcnAoA/XpQU1Ut+A9RvUSI4CXEZygogX\n",
       "udAQPLVqGTYj+dqgRu7cwAAzkmEqLiPNQIQDxEjupADsrmRhuwDX9QNmZAYuI0tAjhOAGCkWgMPj\n",
       "iggjdzXAjPTFZSTILgkGiJGJCMkyZCMZG+BGPrr7AOiECSBmG0o0Ixm5GORvqJEJcBMZZyAbycKA\n",
       "5HFgjDN+BrEscblyNjDuBCBG8s0C2rcGbOK1DchGNiIZyTAfKBibDGS8x2OkEAPESNYDcLnnR5GM\n",
       "ZFSAG/mOgeE8MLe5gWzcictIoMf33r378wqIvQAheRbJSO67d+/PdQAz/weAjGT+CmJb4QrLQ2D2\n",
       "XDCphCWpQ0zlBGYzqDqgx1nA0dODy5WQpPAHTLIZoBrpL8AAyixAwH+AIR4UeR1I6bIEl5GvQETN\n",
       "/0vgwLyzFdnIu/NzGxhWgZzJfv6vAtdSUBiUg4oNiJGrMY3kbgAXCA+QhXxQMiTYYnjyN4UrAxvJ\n",
       "uABX2YYt9yMbyQIXckA1ElzeYAcHsYpqwhhBMAYrosxlBwWrDO4iOAarqDwspuAGMSEkIxtwOgWW\n",
       "kLGJ1hrg1CFyGVzU4JIGAK6gj9CLttugAAAAAElFTkSuQmCC\n",
       "\" style=\"display:inline;vertical-align:middle;\" /></a></span>"
      ],
      "text/plain": [
       "|- (4 in {1, 4, 3}) = TRUE"
      ]
     },
     "metadata": {},
     "output_type": "display_data"
    }
   ],
   "source": [
    "InSet(four, Set(one, four, three)).evaluation()"
   ]
  },
  {
   "cell_type": "code",
   "execution_count": 41,
   "metadata": {},
   "outputs": [
    {
     "data": {
      "text/html": [
       "<span style=\"font-size:20px;\"> <a class=\"ProveItLink\" href=\"../__pv_it/demonstrations/9380d717752902a7d66ea78971a7ca35e8f32fca0/proof.ipynb\" style=\"text-decoration: none\">&nbsp;&#x22A2;&nbsp;&nbsp;</a><a class=\"ProveItLink\" href=\"../__pv_it/demonstrations/f323c4d2654dc0c290406030fe0ddd7906763a020/expr.ipynb\"><img src=\"data:image/png;base64,iVBORw0KGgoAAAANSUhEUgAAAMYAAAAVBAMAAADvH4zvAAAAMFBMVEX///8AAAAAAAAAAAAAAAAA\n",
       "AAAAAAAAAAAAAAAAAAAAAAAAAAAAAAAAAAAAAAAAAAAv3aB7AAAAD3RSTlMAInZUiRDNmWbv3US7\n",
       "qzJazP2FAAAACXBIWXMAAA7EAAAOxAGVKw4bAAACQUlEQVRIx2NgYBBgwAaiNzAQD4RBZjDilmcy\n",
       "wCqaHUCCHXx3gKq5FXDKmzAwiJedQxe1B1nxCm7PKzQbGV1qNiCzeC4AmRpYTN8BIlgTGBgPMPij\n",
       "h4wXUOZ6PtRkBAsGwhmYPyOzWBYAmWxYvG4EItgbGHgFGDgnYNrBwKAP1wRn7YDyDVi/IbPAdnAU\n",
       "4LCDE4i+MvB+hMTCqVXL8NthBKF2bmD4hswC28EwFYcdZgwMvAsYeP+B2NxJAYT8YQQTYf6BzILY\n",
       "kYHDjhIwk+sDiBQLYCDajl0NyCyIHb447IDY/R6c7hIRcmUE7Hh09wEyiwkcn23gCF4FBheQ1C8G\n",
       "M9eCyQRE2pxBMKw+I7MYwTxLHP6YDbb7ADgnzQLavwZsxbUN2OyoWrVq5qpVEPcwzIdLglixyaDQ\n",
       "wGdHLyQbHIBLPT+K3x/vGBjOGyCz3ECO2onDDlBYMTswCILYCxByZ/Hb8T8AZgeExfwVxLbCER+H\n",
       "gPgJA4MqiK2EJQ8GYLVjLiiEWOEsBhZwnPfg8AcwvTEuLy8He4HNANUOfwEGaHb2F0C1owOUK+IT\n",
       "YCxo2i3BYccrYOb4//8/OEmx3tmKbMfd+bkNDKsCYCxkO7jLgSUh11IYC2rHajQLYGmE6wGSILcP\n",
       "SlkCTpkBmO6CAVM4C2wH4wIcRTu2ggzZDhYsZTUMOKDawd6Aq/44iFVUE8YIwl0zsSIqJXZQWMvg\n",
       "VBmDVVQeFv0KeGpQBDOyAadrwXkaqymMtQYk1LUil0FWCuCQBQAnratCYvrEiAAAAABJRU5ErkJg\n",
       "gg==\n",
       "\" style=\"display:inline;vertical-align:middle;\" /></a></span>"
      ],
      "text/plain": [
       "|- (2 in {1, 1 + 3, 3}) = FALSE"
      ]
     },
     "metadata": {},
     "output_type": "display_data"
    }
   ],
   "source": [
    "# And we should be able to shallow_evaluate a False claim\n",
    "InSet(two, Set(one, Add(one, three), three)).evaluation()"
   ]
  },
  {
   "cell_type": "markdown",
   "metadata": {},
   "source": [
    "### `InSet.shallow_simplification()`"
   ]
  },
  {
   "cell_type": "code",
   "execution_count": 42,
   "metadata": {},
   "outputs": [
    {
     "data": {
      "text/html": [
       "<span style=\"font-size:20px;\"> <a class=\"ProveItLink\" href=\"../__pv_it/demonstrations/8dede7de95afb30cebcb787a1f522b0dc743f2900/proof.ipynb\" style=\"text-decoration: none\">&nbsp;&#x22A2;&nbsp;&nbsp;</a><a class=\"ProveItLink\" href=\"../__pv_it/demonstrations/7d5cfbd61af2f78a813cdbb1a27c944fa96980560/expr.ipynb\"><img src=\"data:image/png;base64,iVBORw0KGgoAAAANSUhEUgAAAVMAAAAVBAMAAAAJExCCAAAAMFBMVEX///8AAAAAAAAAAAAAAAAA\n",
       "AAAAAAAAAAAAAAAAAAAAAAAAAAAAAAAAAAAAAAAAAAAv3aB7AAAAD3RSTlMAInZUiRDNmWbv3US7\n",
       "qzJazP2FAAAACXBIWXMAAA7EAAAOxAGVKw4bAAADG0lEQVRIx5WXS2gTQRjHv32kSbs1BBVfKEYP\n",
       "oidDUEEv5iAeROniRUSLURGEUvRQqkiEPakHD7kIWikNSAVXhSAUWkWoghdBDFZ8QAPFSyUHH5QG\n",
       "BaHOYx+zs192swvd/Hfmy+/7d77ZmQkA5AC7TtWh+2sNZShYDwpPvYCkcMZRC1i/OmQmoGXnSbSR\n",
       "RzAofMcUJIU/o2oPvS3K/Qep05ZntyUZVw5V6qLqbxC5M5wGhWvLAWR2EuLhqkWKUaZtT+UcR0jP\n",
       "50sOzVfudQK0JVHpNSJ7QoXA4TTYRw6OLkMX8AsAaYvWCbMKsNvL7alp57mQaouK0TKXZQoOZ8E+\n",
       "UnWtGlYE/CZAL236Pux86639MNpqkX/M1KEtKp79jmwVh3eyquUj4L0m7KNNJU4zzplxo1r0Jtwf\n",
       "UfHsF2WrODzOKgrvsWCEBuc4bZ0JXVt9bomKZz8mW8Xh8VYRuN5gI7EBOO2sn2Q0xuq35oKo1CqV\n",
       "N9j8tNnVcIc5DE+XY6xi8EwZHtASObSyv17cjZ0AS6JS2NN+eVRx+EYrdgKE4VoV7hPDOU7LjpHR\n",
       "eMKcfqpjVq/Z9j3bdl7oCa+TqsHzRPyUraLwLUOAWCXFeDTmFAODZ39R2mrgtNSsl2PxTfSo/gB4\n",
       "XxDVYfq/zSBWw/BsxYweVRRuVGmNXjabfz/Snpqf5F201RXTpXHFN6AD8lzF4Wxri7CKwrUavGZt\n",
       "4+y+HdkCTNTqOK1MylOgs9fqtjyqONxfAUzUKgrPzDoLzD927ykErQ7kwNk3BnJBq7fognem7Con\n",
       "+4hsFYfzYA+u/5asovB0CVq0s7Lygc2n+SnRanNi2ALbdJVo1bhCzhF9k65ysj+WreJwFuzBV31t\n",
       "fwlaReF9pGlBQBtHAxsr+37wDFIUH/YGa6rUZKs4XK/hcC0fAd+EnTGCVvVg+7T4UArS0pZMweG+\n",
       "1SDcsCLgV8nfK9TqLlcc73zmTeWDG9DmcAgK51tbMrhC17rTaORW9yXId6apvjxp4b5QuOLtRd3D\n",
       "+9lPIjReuV5I8Jti7Rw7lyAYFL5+DpLCtwH8B4N6QKGYB0t8AAAAAElFTkSuQmCC\n",
       "\" style=\"display:inline;vertical-align:middle;\" /></a></span>"
      ],
      "text/plain": [
       "|- (4 in {1, 1 + 3, 3}) = (4 in {1, 1 + 3, 3})"
      ]
     },
     "metadata": {},
     "output_type": "display_data"
    }
   ],
   "source": [
    "# A simple membership claim can be deduced using shallow_simplification\n",
    "# Notice we can evaluate 1+3 to find it equals 4, but we leave the 1+3\n",
    "# (Works with/without must_evaluate=True)\n",
    "InSet(four, Set(one, Add(one, three), three)).shallow_simplification()"
   ]
  },
  {
   "cell_type": "code",
   "execution_count": 43,
   "metadata": {},
   "outputs": [
    {
     "name": "stdout",
     "output_type": "stream",
     "text": [
      "EvaluationError: Evaluation of (a = 1) or (a = (1 + 3)) or (a = 3) under assumptions {} is not known\n"
     ]
    }
   ],
   "source": [
    "# We should not be able to shallow_evaluate a claim of unknown verity\n",
    "try:\n",
    "    InSet(a, Set(one, Add(one, three), three)).shallow_simplification(must_evaluate=True)\n",
    "    assert False, \"Expecting an EvaluationError; should not make it this far!\"\n",
    "except EvaluationError as the_error:\n",
    "    print(\"EvaluationError: {}\".format(the_error))"
   ]
  },
  {
   "cell_type": "code",
   "execution_count": 44,
   "metadata": {},
   "outputs": [
    {
     "data": {
      "text/html": [
       "<span style=\"font-size:20px;\"><a class=\"ProveItLink\" href=\"../__pv_it/demonstrations/167a96dfd8a9b08073a5528ee3a18b59c03f70e30/expr.ipynb\"><img src=\"data:image/png;base64,iVBORw0KGgoAAAANSUhEUgAAADEAAAAOBAMAAAB0nulXAAAAMFBMVEX///8AAAAAAAAAAAAAAAAA\n",
       "AAAAAAAAAAAAAAAAAAAAAAAAAAAAAAAAAAAAAAAAAAAv3aB7AAAAD3RSTlMAIquJdkTvuxBmmd1U\n",
       "zTKBpmoTAAAACXBIWXMAAA7EAAAOxAGVKw4bAAAAiElEQVQY02NgwAr4FjDgANwKuGS8ccnwzcUl\n",
       "w8wLkmFUdnRAl3EEy4QJsP8A8VbvBoFNICbjBJAMRyYD1wZ0wxhAMlwfGLgN0GQmgmXYChj6A1Al\n",
       "GB3AMv0ODPMZUO1hVVLSTzJg6D/AoMsjgO44NqAedgeeXVwYHuIvALpNxU7ID12Cq/6TAwBi5hzg\n",
       "fP4AQQAAAABJRU5ErkJggg==\n",
       "\" style=\"display:inline;vertical-align:middle;\" /></a> <a class=\"ProveItLink\" href=\"../__pv_it/demonstrations/3efb8b4349e0b76c406896c601e1633fcab27f9c0/proof.ipynb\" style=\"text-decoration: none\">&nbsp;&#x22A2;&nbsp;&nbsp;</a><a class=\"ProveItLink\" href=\"../__pv_it/demonstrations/df5648cd887fb5db1928a69a72adc465c70464380/expr.ipynb\"><img src=\"data:image/png;base64,iVBORw0KGgoAAAANSUhEUgAAAMcAAAAVBAMAAAAA3efRAAAAMFBMVEX///8AAAAAAAAAAAAAAAAA\n",
       "AAAAAAAAAAAAAAAAAAAAAAAAAAAAAAAAAAAAAAAAAAAv3aB7AAAAD3RSTlMAInZUiRDNmWbv3US7\n",
       "qzJazP2FAAAACXBIWXMAAA7EAAAOxAGVKw4bAAACYklEQVRIx2NgYBBgwAaiNzAQD4RBZjDiUcBk\n",
       "gFU0O4AES/juAFVzK+BWYIJV1B5kxyu4Ra/QrRRxPw1hMLrUAP3McwHI1EA3hH0VGFxgYE3AaokX\n",
       "AwPr9Xyo0QgWDLAWMNhDQiCcgfkzAwPLAiCTDYvnmcHeY2/AZQkDgz5cF5y1AxqanxniIa7TN2D9\n",
       "BrWEowCXJZwoMXFq1TL8lhhBKO7ZDPwQS3ZuYIBZwjAVlyVmSCLcSQGEfGKEiDVYEDD/gFmSgcuS\n",
       "ElDkXVEEs8UCGIi2hHsFjLWrAWaJLy5LQLbvFOD5CmInIiTLCFjCp3sPynp09wEwnCeAmG0oSQrJ\n",
       "ksXApDKDgR3sEkRCY5xBOLhg+QuUuhg/g1iWuHwyG2j3BwYuB5DrZgFdsAZsx7UN2CypWrVq5qpV\n",
       "ayFCnF9hkvOBkrHJQMZ7PJZwHmCIBxnKegAu9/wofp/wPWDgATue4R0Dw3mgn9xABuzEZQkwuOIV\n",
       "GPrBIgsQkmfxW8L/FWbJ/wCQJcxgb1nhipNDQEsMGK4xg4o4JSyZMQCrJZwXQMEFEpwLDi4WcMT3\n",
       "4PIJMNnxKDAvZwex2QxQLfEXYABlZwgLxRKOBmA+Act1IOWTElyWvALGxSU/WT1wiXRnK7Ild+fn\n",
       "NjCsCoCxUFLX9nJgAQmS4y4HFZAQS1ZjWsIN1sf1AFnIB6VYATsFtdQzQnEmXA5sCeMCXCU9tlIN\n",
       "2RIWVPEdyByEHNgSHGUtCBzEKqoJYwThqasQcuygfCyDW2UMVlF5WBrAU90hyUU24HQupATBagxj\n",
       "rQEJ1a/IZVA9IYBLGgDPSKD8CvRmnQAAAABJRU5ErkJggg==\n",
       "\" style=\"display:inline;vertical-align:middle;\" /></a></span>"
      ],
      "text/plain": [
       "{a = 4} |- (a in {1, 1 + 3, 3}) = TRUE"
      ]
     },
     "metadata": {},
     "output_type": "display_data"
    }
   ],
   "source": [
    "# But we should be able to shallow_evaluate with the appropriate assumption(s)\n",
    "InSet(a, Set(one, Add(one, three), three)).shallow_simplification(must_evaluate=True,\n",
    "                                                                  assumptions=[Equals(a, four)])"
   ]
  },
  {
   "cell_type": "code",
   "execution_count": 45,
   "metadata": {},
   "outputs": [
    {
     "data": {
      "text/html": [
       "<span style=\"font-size:20px;\"><a class=\"ProveItLink\" href=\"../__pv_it/demonstrations/db6adddf22e63f824dbf5e4d2b05d9b6ef9ac8490/expr.ipynb\"><img src=\"data:image/png;base64,iVBORw0KGgoAAAANSUhEUgAAADEAAAAOBAMAAAB0nulXAAAAMFBMVEX///8AAAAAAAAAAAAAAAAA\n",
       "AAAAAAAAAAAAAAAAAAAAAAAAAAAAAAAAAAAAAAAAAAAv3aB7AAAAD3RSTlMAIquJdkTvuxBmmd1U\n",
       "zTKBpmoTAAAACXBIWXMAAA7EAAAOxAGVKw4bAAAAmElEQVQY02NgwAIYV11/wIAViDMwf8Uuo8jA\n",
       "kIZdJr+BQV8Aq4w2A4M+0CJGZUcHTMn9QBwmwP4DxF69GwQ2QST4vjAwcGQycG3A0MKtwMDA9YGB\n",
       "2wBDZjkQsxUw9AegS3ACtTD0OzDMZ0C35zADowBD/wEGXR40x/MZMLA0MLA78OziQjNMetWq1UC3\n",
       "qdgJ+aF75v//vwwAyLIlNSbHnCQAAAAASUVORK5CYII=\n",
       "\" style=\"display:inline;vertical-align:middle;\" /></a> <a class=\"ProveItLink\" href=\"../__pv_it/demonstrations/86438fe11645ebbf9a9811f0b70374f664a4e6a40/proof.ipynb\" style=\"text-decoration: none\">&nbsp;&#x22A2;&nbsp;&nbsp;</a><a class=\"ProveItLink\" href=\"../__pv_it/demonstrations/990137ef7ebe9bc697843c8d1dd7d629f6b93e1b0/expr.ipynb\"><img src=\"data:image/png;base64,iVBORw0KGgoAAAANSUhEUgAAAMcAAAAVBAMAAAAA3efRAAAAMFBMVEX///8AAAAAAAAAAAAAAAAA\n",
       "AAAAAAAAAAAAAAAAAAAAAAAAAAAAAAAAAAAAAAAAAAAv3aB7AAAAD3RSTlMAInZUiRDNmWbv3US7\n",
       "qzJazP2FAAAACXBIWXMAAA7EAAAOxAGVKw4bAAACZklEQVRIx2NgYBBgwAaiNzAQD4RBZjDiUcBk\n",
       "gFU0O4AES/juAFVzK+BWYIJV1B5kxyu4Ra/QrRRxPw1hMLrUAP3McwHI1MBiDncDiGRNwGqJF1Dm\n",
       "ej7UaAQLBlgLGOwhIRDOwPyZgYFlAZDJhsXzzGDvsTfgsoSBQR+uC87aAQ3NzwzxENfpG7B+g1rC\n",
       "UYDLEk6UmDi1ahl+S4ygoTCbgR9iyc4NDDBLGKbissQMOQCTAgj5xAgRa7AgYP4BsyQDlyUloMi7\n",
       "oghmiwUwEG0J9woYa1cDzBJfXJaAbN8pwPMVxE5ESJYRsIRP9x6U9ejuA2A4TwAx28CRvAoMLiBb\n",
       "shiYVGYwsINdgkhojDMIBxcsf4FSF+NnEMsSl09mA+3+wMDlAHLdLKAL1oDtuLYBmyVVq1bNXLVq\n",
       "LUSI8ytMcj5QMjYZyHiPxxLOAwzxIENZD8Dlnh/F7xO+Bww8YMczvGNgOA/0kxvIgJ24LAEGV7wC\n",
       "Qz9YZAFC8ix+S/i/wiz5HwCyhBnsLStccXIIaIkBwzVmUBGnhCUzBmC1hPMCKLhAgnPBwcUCjvge\n",
       "XD4BJjseBebl7CA2mwGqJf4CDKDsDGGhWMLRAMwnYLkOpHxSgsuSV8C4uOQnqwcuke5sRbbk7vzc\n",
       "BoZVATAWSuraXg4sIEFy3OWgAhJiyWo0G4Aht3IWKOS4HiBneR+UYgXsFNRSzwjFmXA5sCWMC3CV\n",
       "9NhKNWRLWFDFdyBzEHJgS3CUtSBwEKuoJowRhKeuQsixg/KxDG6VMVhF5WFpAE91hyQX2YDTuZAS\n",
       "BKsxjLUGJFS/IpdB9YQALmkAtuig63cqm8wAAAAASUVORK5CYII=\n",
       "\" style=\"display:inline;vertical-align:middle;\" /></a></span>"
      ],
      "text/plain": [
       "{a = 2} |- (a in {1, 1 + 3, 3}) = FALSE"
      ]
     },
     "metadata": {},
     "output_type": "display_data"
    }
   ],
   "source": [
    "# But we should be able to shallow_evaluate with the appropriate assumption(s)\n",
    "InSet(a, Set(one, Add(one, three), three)).shallow_simplification(must_evaluate=True,\n",
    "                                                                  assumptions=[Equals(a, two)])"
   ]
  },
  {
   "cell_type": "markdown",
   "metadata": {},
   "source": [
    "### Testing the `NotInSet` class methods\n",
    "<br/>\n",
    "The `NotInSet` class currently has the following prover-related class methods:<br/>\n",
    "    <div style=\"width: 75%; border: 1px solid green; padding: 5px; margin: 20px; background-color: gainsboro; font-family:courier\">deduce_in_bool(self, **defaults_config)<br/>\n",
    "    unfold_not_in(self, **defaults_config)<br/>\n",
    "    conclude(self, **defaults_config)<br/>\n",
    "    conclude_as_folded(self, **defaults_config)<br/>\n",
    "    shallow_evaluation(self, **defaults_config)</div>\n",
    "</font>"
   ]
  },
  {
   "cell_type": "markdown",
   "metadata": {},
   "source": [
    "### `NotInSet.deduce_in_bool()`"
   ]
  },
  {
   "cell_type": "code",
   "execution_count": 46,
   "metadata": {},
   "outputs": [
    {
     "data": {
      "text/html": [
       "<span style=\"font-size:20px;\"> <a class=\"ProveItLink\" href=\"../__pv_it/demonstrations/718f9ce0f7a815bc24163906b6f5d3562241eec50/proof.ipynb\" style=\"text-decoration: none\">&nbsp;&#x22A2;&nbsp;&nbsp;</a><a class=\"ProveItLink\" href=\"../__pv_it/demonstrations/7bf65fe596ee6c7617f1a1cffb664a538ae0397c0/expr.ipynb\"><img src=\"data:image/png;base64,iVBORw0KGgoAAAANSUhEUgAAAJ8AAAAVCAMAAABv7sxsAAAARVBMVEX///8AAAAAAAAAAAAAAAAA\n",
       "AAAAAAAAAAAAAAAAAAAAAAAAAAAAAAAAAAAAAAAAAAAAAAAAAAAAAAAAAAAAAAAAAAAAAAAeYafp\n",
       "AAAAFnRSTlMAInZUiRDNmWbv3US7qzLp8+P355HBP3RuygAAAAlwSFlzAAAOxAAADsQBlSsOGwAA\n",
       "ApFJREFUSMedl9eW4yAMQKkCRNnO/3/qAjE2RXYyw0vOyIAu6sNYWZw9rOWj9p59fXHJb+77YAn5\n",
       "9BX0tBe8/gYfSzEc57x4h4MuQAaH8WUJqc5LDHXx+JfMnS7hysmNgZBmkVImHPYO/SJh3z0m1Edw\n",
       "0A1QwynHuO81kzsVvpwcDeSFj4f6PY/btWlPkuPRzSM0X3mD4qxeaexlWIIPGcFXN698sQWWc6On\n",
       "KprOsBy15iM+K1nlOS9MFmY+ERB//IQP+VwTxDzEv3fVmhsfc3rTgwgEX5HJU67YxOdBlGti+th+\n",
       "7VPMaTGGzHblA7vpIewXuS2ZYXp2CD7x8RYlGtinfEc45EXg0a5Hmdr07PmhS7Sp4S28/I580Pxk\n",
       "l2Jg4Jkv5flAErF7QFyRaWHVs/EhuIymqEDZvbvwUanGnX3mIzKs5y/PZ5mVbtVD+VdYX9S7V0Gw\n",
       "fOZLrsbsr9+I4aKL4NkjnwmENnfs1BFkt/Kip66w8tUfdfDx5paBT7ftau4syQT9xGcX66Xm2tAL\n",
       "4Pk67xY9pP1q9QuHf32sK7uoprqH28n4wNcaER/iKbc9B9/VepjEu/q68gELQ0C74f2iyP1WSPf8\n",
       "vShTe1stFnq67/CvGvIjzHpu+aSYcj2Pxi7BEtM9n3oV4t4diuHQ1IWDzFq6/p017dBD8JUdSihT\n",
       "+/wV3DnH6zU6hj/6ji9GlyFWxdjnBMxtwSjzBbjPBwMfTk06Br+MSC6Ea37BdNcG//4Lc9+ZlJzB\n",
       "ROQxJbuO8uUSrzY9Y9KZzya/Oz5FnCRll6PeDlizt28mWk6kvnCrRBPxTcmu1kPd+7T0zX5FjNVD\n",
       "E+jE1ARMaTlbT/jqhM/piTuSe02U3/n/Q53HxJfw/gNKuhbsG2RongAAAABJRU5ErkJggg==\n",
       "\" style=\"display:inline;vertical-align:middle;\" /></a></span>"
      ],
      "text/plain": [
       "|- (4 not-in {1, 2, 3}) in BOOLEAN"
      ]
     },
     "metadata": {},
     "output_type": "display_data"
    }
   ],
   "source": [
    "# Membership claims are Boolean values\n",
    "NotInSet(four, Set(one, two, three)).deduce_in_bool()"
   ]
  },
  {
   "cell_type": "code",
   "execution_count": 47,
   "metadata": {},
   "outputs": [
    {
     "data": {
      "text/html": [
       "<span style=\"font-size:20px;\"> <a class=\"ProveItLink\" href=\"../__pv_it/demonstrations/de2e3a91c3194e4715c64afb6651f3087c6a6edf0/proof.ipynb\" style=\"text-decoration: none\">&nbsp;&#x22A2;&nbsp;&nbsp;</a><a class=\"ProveItLink\" href=\"../__pv_it/demonstrations/533f0dcfcf8872cd59fd54bf880d136e51651f300/expr.ipynb\"><img src=\"data:image/png;base64,iVBORw0KGgoAAAANSUhEUgAAAJ8AAAAVCAMAAABv7sxsAAAARVBMVEX///8AAAAAAAAAAAAAAAAA\n",
       "AAAAAAAAAAAAAAAAAAAAAAAAAAAAAAAAAAAAAAAAAAAAAAAAAAAAAAAAAAAAAAAAAAAAAAAeYafp\n",
       "AAAAFnRSTlMAInZUiRDNmWbv3US7qzLp8+P355HBP3RuygAAAAlwSFlzAAAOxAAADsQBlSsOGwAA\n",
       "AotJREFUSMedV9mW5CAIdcU9s/v/nzpqYiRKUun2ofsUJZcLshVj5XD2cKYvdQjs64dLfoP34gj5\n",
       "9C3oy10I+hv82JbioRfEJzreRcjgfNojIVVzyxiIGwWMP8nc2W1+5kkgcKVMPOIdO5Cwn5yJ1QkO\n",
       "uhHU0JBi+aPy+nbmIlJ+f+RkIE/8CARtmksSqy4vQvMrPijOKqRp7qSWFs4tdz0j+NUozPwIBFGp\n",
       "6QyTqjWv+FnJash3QNfMpYyzV0Tvf/yEl/wIhOBqNBd+zF1Vqx3vgeBXZHKXp6ad8sifAKLApO11\n",
       "/BaEnrJ25gc4A3c7RPwSt6UyjMKPmUc6tSzRwN7yWxAO897OqkyhmuNENtb60MInNfmy5VH70N7J\n",
       "Ts3AwDM/jNA+i9RfQIzMtMhr4GT+eXDZm2LCo+bnkV9AlRp39pmfT4uo1y/PpyXpZjvU+wobink3\n",
       "GoKJyHFXc/bXb++HkCcI7JEfRpgKpzYlkD3Kk5164syv/lOIn8W+63ZdXSfLZqJ+4men6G3taWNv\n",
       "gKd3wU12yPjV7hfH+7Yxwvml7/lFMz3wmxBKZ2l3Dn5j9DDp7/rrzA9YPBJ6a3U8Sl0UeVga6Vq/\n",
       "g+VA6DKX0PsqVB8oaEI88JOi1zr3ph7kTUmWtN3zU3sj7tMBI5wya+n+d+lpICl+5YYSytQ5f/St\n",
       "dlA16RT/6Dt+KbkMqRr2fU9ACKcsFMJ9P0D8/GVIpximFcnFOPYXv92Nwb//4nXuXIycyUTUMSUb\n",
       "qnwCCWqxg4vOvNv87vgpQpOUnarm44J1fe2bjZYTpS+WBUcT+U3JxuihcJ+OvrmviLUaDYHOmNqA\n",
       "KSvn6Ilf3fA5vXEn8q5J8ju/P9SpJr5E7z9JRBduplWwQwAAAABJRU5ErkJggg==\n",
       "\" style=\"display:inline;vertical-align:middle;\" /></a></span>"
      ],
      "text/plain": [
       "|- (2 not-in {1, 2, 3}) in BOOLEAN"
      ]
     },
     "metadata": {},
     "output_type": "display_data"
    }
   ],
   "source": [
    "# False membership claims are Boolean values\n",
    "NotInSet(two, Set(one, two, three)).deduce_in_bool()"
   ]
  },
  {
   "cell_type": "code",
   "execution_count": 48,
   "metadata": {},
   "outputs": [
    {
     "data": {
      "text/html": [
       "<span style=\"font-size:20px;\"> <a class=\"ProveItLink\" href=\"../__pv_it/demonstrations/599e00b3fd0f911e7a3429a6797fdb931654748c0/proof.ipynb\" style=\"text-decoration: none\">&nbsp;&#x22A2;&nbsp;&nbsp;</a><a class=\"ProveItLink\" href=\"../__pv_it/demonstrations/f916284b6193ddebf173674b62668ece159533410/expr.ipynb\"><img src=\"data:image/png;base64,iVBORw0KGgoAAAANSUhEUgAAAJ8AAAAVCAMAAABv7sxsAAAAP1BMVEX///8AAAAAAAAAAAAAAAAA\n",
       "AAAAAAAAAAAAAAAAAAAAAAAAAAAAAAAAAAAAAAAAAAAAAAAAAAAAAAAAAAAAAADFBd4eAAAAFHRS\n",
       "TlMAInZUiRDNmWbv3US7qzLp8+P3ndw5NuIAAAAJcEhZcwAADsQAAA7EAZUrDhsAAAKdSURBVEjH\n",
       "nZdZdt0gDEAZxSjSpux/rQVsbIxl3sBHcoIRumgOY2VxtljTRx0C+2Jxyen73lhCrr6CvpyFoL/h\n",
       "YwnjJhjEKxzvImRwHjdLSLW+d/xL5k6X/MzJjYGYpj2lTNwNHvebhH31llgfwUE3QA3Ls+biTuU3\n",
       "J6OBPPHxWL/ny3Ft2pvkKDt7hOYrb1Cc1SvN+jmeEXzVCjMftsBy7uKqiqYzXGWteYvPSlYt7haR\n",
       "EP3PHw/v8bm2gXmM/+CqOWc+5vSspiwg+MqefHRvAKEZprft1z5hTvM9MttJFuyshrIfclsyw/Ts\n",
       "4KgEH3KL1zCZg3PBt4dDvj3T21lW4aSGyA8tPKrhLcEVx8RBKVRH2akYGFjzpTwJJIHdBeKIJDu8\n",
       "GjgZfx5c9qao8FtyaVc5zZANQKQad3bN5/G+1/OX515npZvUkP4VNhT1bisIpvnFn6UwuRKzf3/L\n",
       "j3jQIQS25DOR8rnbj2oEuVv5qqatOPPVX6rzufpZD9VLt3J27SzJRL3is7P1UnNt7AWwPy+4qxra\n",
       "frX6xd2/usWNzVPh8zdJXPC1RsTHeMrt0M539h7pn+rrzAcsio2vXoHAjjbOhGDhVkjv+XtSphYc\n",
       "tVgcew4H/6ozPwajCbHgk6LnesWU3rCBCCSmZz61FeLeHIrhvKnLj3vWkvXPjB0fJMVXTiihTO3z\n",
       "e+wKlTiKgUjj721W6ToQXQasen2fE3xuC8a94gFzzAcnnx+btMYYphHJxXjOLz49NRD7T8Vr4xl0\n",
       "nFFH5DG1d8ry6ZJwU3OhMO9Nfk981HRGTmyHrHk5YF29/TDRciL1xW2a0ER8a3IE7b2Hx88mW/1w\n",
       "XhFj9dkDDmJq7iHV9N4TP53wOT1xI3nWoPzq/w/V5cRHeP8BzoYWL3ha734AAAAASUVORK5CYII=\n",
       "\" style=\"display:inline;vertical-align:middle;\" /></a></span>"
      ],
      "text/plain": [
       "|- (a not-in {1, 2, 3}) in BOOLEAN"
      ]
     },
     "metadata": {},
     "output_type": "display_data"
    }
   ],
   "source": [
    "# Membership claims with unknown verity are also Boolean values\n",
    "NotInSet(a, Set(one, two, three)).deduce_in_bool()"
   ]
  },
  {
   "cell_type": "code",
   "execution_count": 49,
   "metadata": {},
   "outputs": [
    {
     "data": {
      "text/html": [
       "<span style=\"font-size:20px;\"> <a class=\"ProveItLink\" href=\"../__pv_it/demonstrations/478bd2c98e2d4a1e074bbc948957b1fb92efed5a0/proof.ipynb\" style=\"text-decoration: none\">&nbsp;&#x22A2;&nbsp;&nbsp;</a><a class=\"ProveItLink\" href=\"../__pv_it/demonstrations/062e5518f00ceee589ce2e2c67736478115ef0ed0/expr.ipynb\"><img src=\"data:image/png;base64,iVBORw0KGgoAAAANSUhEUgAAAJ4AAAAVCAMAAACALKdSAAAAP1BMVEX///8AAAAAAAAAAAAAAAAA\n",
       "AAAAAAAAAAAAAAAAAAAAAAAAAAAAAAAAAAAAAAAAAAAAAAAAAAAAAAAAAAAAAADFBd4eAAAAFHRS\n",
       "TlMAInZUiRDNmWbv3US7qzLp8+P3ndw5NuIAAAAJcEhZcwAADsQAAA7EAZUrDhsAAAKcSURBVEjH\n",
       "nVdXYi0hCLUgNvQ197/Wp9Psmdz4kUxQ4NAJY/lwtj3jlfKe/eRwyTcSX4+Q+ztU/VP06kfwWAx0\n",
       "cnrxgsZZwoTWhdMREopXyLql0O5Pmb4EF9HqiagBTia6ZAnzYgkVEziqA5/Cy0968VL3oQT3IjlN\n",
       "gYAQreyZUb3CyxYAzx8ZgdlJzmeA8wbPz9610l9RfZiN/g48I1lxt91JFuR+/Xb4Cbz5vhFbL60a\n",
       "FeWDM7xMkriW7FEoFuJn3psTpOGon2hGRQvvBW6gZO7FEoQINb68JIjCrTIQwnTYeQARxwQxIReg\n",
       "npmbguNzJpbSUMIFqJaolJ+p9DQlLF9m7AH6wstdxqGp9YHNDDSnXqoihH1QN2YjX+WeQ5ucztKc\n",
       "bFqGfYThqsS4vaLioHucrTtuNE7dOMXm+/attA28XWkI47N+6xu/JLg7mM3J+udv/kFN+PBqM3ry\n",
       "kk4P6qFRthMn4AkwVuqh6Dg0wCu/4IZ3SPaPfao8hiGTor5ahKWpfdCRIP7LUobbPF+9p2jnvdL1\n",
       "6A7uAazxipub3tP4VRpz8qSYtGEYR450287aw0NGp6qSI8rWgheCeb3ra+l8l32hbnjFuoCsDP42\n",
       "8G1+Qi2NxmVC7OFJcRd5yARq8aAcm16Fd9YsxFLvl0RRfKKZZpV2VINfBVpDp2gBD0rrgiwtuitt\n",
       "QXejWoW/83JyawAw5mimzqnrtYDIg4gNbayMCs/5ThF1igRaorqxuLieAOYfUDdrllNDLsZ7pemw\n",
       "YubjgJoVNTD0tza9DTxYTd4LZegD9zDrt42qD/Vyf+W0WhXtWLKL3fKmOeqH4jNy6KM9Vi2fw2q/\n",
       "4uNQXW2+N80I3Rr+9AX6cJ3nKyVh/VQH+bP/NeBmFJ+g+w+GfxUKQAOeBQAAAABJRU5ErkJggg==\n",
       "\" style=\"display:inline;vertical-align:middle;\" /></a></span>"
      ],
      "text/plain": [
       "|- (b not-in {c, d, f}) in BOOLEAN"
      ]
     },
     "metadata": {},
     "output_type": "display_data"
    }
   ],
   "source": [
    "# Membership claims with unknown verity are also Boolean values\n",
    "NotInSet(b, Set(c, d, f)).deduce_in_bool()"
   ]
  },
  {
   "cell_type": "code",
   "execution_count": 50,
   "metadata": {},
   "outputs": [
    {
     "data": {
      "text/html": [
       "<span style=\"font-size:20px;\"> <a class=\"ProveItLink\" href=\"../__pv_it/demonstrations/478bd2c98e2d4a1e074bbc948957b1fb92efed5a0/proof.ipynb\" style=\"text-decoration: none\">&nbsp;&#x22A2;&nbsp;&nbsp;</a><a class=\"ProveItLink\" href=\"../__pv_it/demonstrations/062e5518f00ceee589ce2e2c67736478115ef0ed0/expr.ipynb\"><img src=\"data:image/png;base64,iVBORw0KGgoAAAANSUhEUgAAAJ4AAAAVCAMAAACALKdSAAAAP1BMVEX///8AAAAAAAAAAAAAAAAA\n",
       "AAAAAAAAAAAAAAAAAAAAAAAAAAAAAAAAAAAAAAAAAAAAAAAAAAAAAAAAAAAAAADFBd4eAAAAFHRS\n",
       "TlMAInZUiRDNmWbv3US7qzLp8+P3ndw5NuIAAAAJcEhZcwAADsQAAA7EAZUrDhsAAAKcSURBVEjH\n",
       "nVdXYi0hCLUgNvQ197/Wp9Psmdz4kUxQ4NAJY/lwtj3jlfKe/eRwyTcSX4+Q+ztU/VP06kfwWAx0\n",
       "cnrxgsZZwoTWhdMREopXyLql0O5Pmb4EF9HqiagBTia6ZAnzYgkVEziqA5/Cy0968VL3oQT3IjlN\n",
       "gYAQreyZUb3CyxYAzx8ZgdlJzmeA8wbPz9610l9RfZiN/g48I1lxt91JFuR+/Xb4Cbz5vhFbL60a\n",
       "FeWDM7xMkriW7FEoFuJn3psTpOGon2hGRQvvBW6gZO7FEoQINb68JIjCrTIQwnTYeQARxwQxIReg\n",
       "npmbguNzJpbSUMIFqJaolJ+p9DQlLF9m7AH6wstdxqGp9YHNDDSnXqoihH1QN2YjX+WeQ5ucztKc\n",
       "bFqGfYThqsS4vaLioHucrTtuNE7dOMXm+/attA28XWkI47N+6xu/JLg7mM3J+udv/kFN+PBqM3ry\n",
       "kk4P6qFRthMn4AkwVuqh6Dg0wCu/4IZ3SPaPfao8hiGTor5ahKWpfdCRIP7LUobbPF+9p2jnvdL1\n",
       "6A7uAazxipub3tP4VRpz8qSYtGEYR450287aw0NGp6qSI8rWgheCeb3ra+l8l32hbnjFuoCsDP42\n",
       "8G1+Qi2NxmVC7OFJcRd5yARq8aAcm16Fd9YsxFLvl0RRfKKZZpV2VINfBVpDp2gBD0rrgiwtuitt\n",
       "QXejWoW/83JyawAw5mimzqnrtYDIg4gNbayMCs/5ThF1igRaorqxuLieAOYfUDdrllNDLsZ7pemw\n",
       "YubjgJoVNTD0tza9DTxYTd4LZegD9zDrt42qD/Vyf+W0WhXtWLKL3fKmOeqH4jNy6KM9Vi2fw2q/\n",
       "4uNQXW2+N80I3Rr+9AX6cJ3nKyVh/VQH+bP/NeBmFJ+g+w+GfxUKQAOeBQAAAABJRU5ErkJggg==\n",
       "\" style=\"display:inline;vertical-align:middle;\" /></a></span>"
      ],
      "text/plain": [
       "|- (b not-in {c, d, f}) in BOOLEAN"
      ]
     },
     "metadata": {},
     "output_type": "display_data"
    }
   ],
   "source": [
    "# False Membership claims with assumption-based variable values are Boolean values\n",
    "NotInSet(b, Set(c, d, f)).deduce_in_bool(assumptions=[Equals(b, d)])"
   ]
  },
  {
   "cell_type": "code",
   "execution_count": 51,
   "metadata": {},
   "outputs": [
    {
     "data": {
      "text/html": [
       "<span style=\"font-size:20px;\"> <a class=\"ProveItLink\" href=\"../__pv_it/demonstrations/6acf3447795c493befc69580f6415d4baa1718520/proof.ipynb\" style=\"text-decoration: none\">&nbsp;&#x22A2;&nbsp;&nbsp;</a><a class=\"ProveItLink\" href=\"../__pv_it/demonstrations/b3494f6a8cd3347de8b1b701c1d2ee4c97e8a5620/expr.ipynb\"><img src=\"data:image/png;base64,iVBORw0KGgoAAAANSUhEUgAAAMEAAAAVCAMAAADIM3qXAAAAP1BMVEX///8AAAAAAAAAAAAAAAAA\n",
       "AAAAAAAAAAAAAAAAAAAAAAAAAAAAAAAAAAAAAAAAAAAAAAAAAAAAAAAAAAAAAADFBd4eAAAAFHRS\n",
       "TlMAInZUiRDNmWbv3US7qzLp8+P3ndw5NuIAAAAJcEhZcwAADsQAAA7EAZUrDhsAAAKeSURBVEjH\n",
       "vVdZYuMgDGUVu2emw/3PWrABs8hxmjblI3EUIelpNyHpUHJ5pr+kc+RNh3KK63ziMH79H8iBE5x8\n",
       "FwKyBX8Id+zOYGs8RDA2HP7kIjvXG4tK7X/x2Ozf7AIFIZF7HiqE8iWwvmhj+k6OzzApyB2ChOJt\n",
       "hXCqIWlEASmDgjiagpCWg/FItXuGD/KnyOMIEkpB00MysgCOWC6NcRHnT7aau5KcvuVhWa2MMMrX\n",
       "6ikEmpMcNVO0LfqZt3/+WvgGAs5ueZzJUZ4RECNnU9IBBEGicVisO0QDkyRs34rBEwhKfelJPujZ\n",
       "FCwGgepUw0qUO4GxcCYSzakogfwGAmf1LF90HYQiVZErWTIbxIk2paJMH60VQ37SkwUK3oBgY6GG\n",
       "mplK1J3vgKJ1YMFEq5I4y7tGaZpKQFoCNfpdWXQYQVs34aZDcFnJTLtkonGde6OojjGpcv59pA/f\n",
       "7A/gyLMIVK48a8z+Fe4QEFPIMsCBYYtnjA4hvSkVQf4SFYEVez+qPpCZW4z9dVNe/ngMtj2BfB0I\n",
       "1UnujIH0lzHI08DXLNpFqFO+XYZBNzN/EEHcCQXBOfO5vZpJMwIg/tASky9kn+eMuGWsIL1Ivoag\n",
       "cZrQZZE4K7lzPGMPECQVpW+FRPC9ycCnYTAiEEfbqtO0Iz1EsFzTGp0HtccXUzAEiUMwofKuVWpI\n",
       "KD0uMR/LHto0hGAiZNDE1lXtJF0jQK6lSKu22Z0IrBtM8W5akY33525qN3z10P+FH0f5Mrd3Kx8s\n",
       "Yfx6TUavNfl0XhAWUwZL1TNvBpcIxIP9y11vyei1Jl/drtdjTqHvRBRpYsysGzMjrxz8Wp35mO6H\n",
       "0lB+gSzbdN3AXwOAX2u90H/1PZNi8gLKqQJ/23uyqLLZlwB8AlPzGKz2b9i+AAAAAElFTkSuQmCC\n",
       "\" style=\"display:inline;vertical-align:middle;\" /></a></span>"
      ],
      "text/plain": [
       "|- (b not-in {1, 1 + 1, 3}) in BOOLEAN"
      ]
     },
     "metadata": {},
     "output_type": "display_data"
    }
   ],
   "source": [
    "# Membership claims with unknown verity are also Boolean values\n",
    "# Here we don't know the value of the variable b:\n",
    "NotInSet(b, Set(one, Add(one, one), three)).deduce_in_bool()"
   ]
  },
  {
   "cell_type": "code",
   "execution_count": 52,
   "metadata": {},
   "outputs": [
    {
     "data": {
      "text/html": [
       "<span style=\"font-size:20px;\"> <a class=\"ProveItLink\" href=\"../__pv_it/demonstrations/6acf3447795c493befc69580f6415d4baa1718520/proof.ipynb\" style=\"text-decoration: none\">&nbsp;&#x22A2;&nbsp;&nbsp;</a><a class=\"ProveItLink\" href=\"../__pv_it/demonstrations/b3494f6a8cd3347de8b1b701c1d2ee4c97e8a5620/expr.ipynb\"><img src=\"data:image/png;base64,iVBORw0KGgoAAAANSUhEUgAAAMEAAAAVCAMAAADIM3qXAAAAP1BMVEX///8AAAAAAAAAAAAAAAAA\n",
       "AAAAAAAAAAAAAAAAAAAAAAAAAAAAAAAAAAAAAAAAAAAAAAAAAAAAAAAAAAAAAADFBd4eAAAAFHRS\n",
       "TlMAInZUiRDNmWbv3US7qzLp8+P3ndw5NuIAAAAJcEhZcwAADsQAAA7EAZUrDhsAAAKeSURBVEjH\n",
       "vVdZYuMgDGUVu2emw/3PWrABs8hxmjblI3EUIelpNyHpUHJ5pr+kc+RNh3KK63ziMH79H8iBE5x8\n",
       "FwKyBX8Id+zOYGs8RDA2HP7kIjvXG4tK7X/x2Ozf7AIFIZF7HiqE8iWwvmhj+k6OzzApyB2ChOJt\n",
       "hXCqIWlEASmDgjiagpCWg/FItXuGD/KnyOMIEkpB00MysgCOWC6NcRHnT7aau5KcvuVhWa2MMMrX\n",
       "6ikEmpMcNVO0LfqZt3/+WvgGAs5ueZzJUZ4RECNnU9IBBEGicVisO0QDkyRs34rBEwhKfelJPujZ\n",
       "FCwGgepUw0qUO4GxcCYSzakogfwGAmf1LF90HYQiVZErWTIbxIk2paJMH60VQ37SkwUK3oBgY6GG\n",
       "mplK1J3vgKJ1YMFEq5I4y7tGaZpKQFoCNfpdWXQYQVs34aZDcFnJTLtkonGde6OojjGpcv59pA/f\n",
       "7A/gyLMIVK48a8z+Fe4QEFPIMsCBYYtnjA4hvSkVQf4SFYEVez+qPpCZW4z9dVNe/ngMtj2BfB0I\n",
       "1UnujIH0lzHI08DXLNpFqFO+XYZBNzN/EEHcCQXBOfO5vZpJMwIg/tASky9kn+eMuGWsIL1Ivoag\n",
       "cZrQZZE4K7lzPGMPECQVpW+FRPC9ycCnYTAiEEfbqtO0Iz1EsFzTGp0HtccXUzAEiUMwofKuVWpI\n",
       "KD0uMR/LHto0hGAiZNDE1lXtJF0jQK6lSKu22Z0IrBtM8W5akY33525qN3z10P+FH0f5Mrd3Kx8s\n",
       "Yfx6TUavNfl0XhAWUwZL1TNvBpcIxIP9y11vyei1Jl/drtdjTqHvRBRpYsysGzMjrxz8Wp35mO6H\n",
       "0lB+gSzbdN3AXwOAX2u90H/1PZNi8gLKqQJ/23uyqLLZlwB8AlPzGKz2b9i+AAAAAElFTkSuQmCC\n",
       "\" style=\"display:inline;vertical-align:middle;\" /></a></span>"
      ],
      "text/plain": [
       "|- (b not-in {1, 1 + 1, 3}) in BOOLEAN"
      ]
     },
     "metadata": {},
     "output_type": "display_data"
    }
   ],
   "source": [
    "# Here is a Membership claim that is False, involving assumptions\n",
    "# about the value of variable b; notice the assumption is irrelevant\n",
    "NotInSet(b, Set(one, Add(one, one), three)).deduce_in_bool(assumptions=[Equals(b, two)])"
   ]
  },
  {
   "cell_type": "markdown",
   "metadata": {},
   "source": [
    "### `NotInSet.unfold_not_in()`\n",
    "\n",
    "From $(x \\notin y)$, derive and return $\\lnot(x \\in y)$."
   ]
  },
  {
   "cell_type": "code",
   "execution_count": 53,
   "metadata": {},
   "outputs": [
    {
     "data": {
      "text/html": [
       "<span style=\"font-size:20px;\"><a class=\"ProveItLink\" href=\"../__pv_it/theorems/6d66ef15ae974e95094ed8ed211a8a6beb2861b50/expr.ipynb\"><img src=\"data:image/png;base64,iVBORw0KGgoAAAANSUhEUgAAADMAAAAVCAMAAADciiYzAAAAP1BMVEX///8AAAAAAAAAAAAAAAAA\n",
       "AAAAAAAAAAAAAAAAAAAAAAAAAAAAAAAAAAAAAAAAAAAAAAAAAAAAAAAAAAAAAADFBd4eAAAAFHRS\n",
       "TlMAEHarMolUmd1mIs3vRLvp8+P3nXqVZZ4AAAAJcEhZcwAADsQAAA7EAZUrDhsAAAD5SURBVDjL\n",
       "tZPdksMgCIUFVDRG+7O8/7MWTduE7taZXKwXOirg5znq3KQt7nwrcDrFk51H5hBcrrMctrsNtYMm\n",
       "03OSrcBjyOVrPLZ0uabjvvgxVPySUQuCI2+WJG+XHKuASOBDiLvGXTCwECAS9iLKiYSOd/zSjckf\n",
       "EFm00WZZXvpcUfKe86c5gE1k3QD7UYbDryml21279kt+eeu/Gg7ooYfrDZrXreJbE+UDMMZYc+D5\n",
       "JBaBUbQ66pThYA66yvbZPEvwiIrigTWnHllKtOaoqCM4bMcBa9XIOVqUezWysavERHH21PJPaKpb\n",
       "+eefs7TzHzTE8zk03X0AEF4GZaKk3CoAAAAASUVORK5CYII=\n",
       "\" style=\"display:inline;vertical-align:middle;\" /></a> <a class=\"ProveItLink\" href=\"../__pv_it/demonstrations/241d1bb2c3e00b5a88816ee24a8267020688a5630/proof.ipynb\" style=\"text-decoration: none\">&nbsp;&#x22A2;&nbsp;&nbsp;</a><a class=\"ProveItLink\" href=\"../__pv_it/theorems/fe3a8deeda9e1011cacaa4108184281bcacedd730/expr.ipynb\"><img src=\"data:image/png;base64,iVBORw0KGgoAAAANSUhEUgAAAFIAAAAVBAMAAAAnX6R8AAAAMFBMVEX///8AAAAAAAAAAAAAAAAA\n",
       "AAAAAAAAAAAAAAAAAAAAAAAAAAAAAAAAAAAAAAAAAAAv3aB7AAAAD3RSTlMAmd0iq3ZUiRDNZu9E\n",
       "uzLWhN+VAAAACXBIWXMAAA7EAAAOxAGVKw4bAAABUklEQVQoz2NgQABmBpwATSoMt0qeAGQeWwF2\n",
       "VYniBWsYopBFOrEr5A1g6P3AwNmAJCSFXaUgAwPXBAYuASShDcjyrJeUNCGsfxBX7kBy5gRkH0yF\n",
       "2cbzi4GB7wEDwyyEJCPQQxyhHs/LQBxLuLM4/teB6RKESs4FQNUMIQFCIM5khPj6/18MgNRKBiEl\n",
       "IFAEMpkSGBgWM6xv8AJJI7mEI/Y/yAfZEJ4JEHMfYGB4wCAJ5vNtAmrXhbvrD5B4j6qSgWErxJwL\n",
       "cCOBbuL4BqRPI1SCbGfg+czQARJQgNvtAIz0H0BGEoRvCIkLjjssGxjAcRoKDzsFSKgwrEW4nN2B\n",
       "ge1f4waeBHBAJMDcqA4NIHGESj4FBg7RgMRlEEt9T0BV8ji6gHXpIMWLHkoyq4XFJjSBKiBxFjLg\n",
       "AYwLkJOXAR6VtsgcpEDEBJdReKa4FbIaMAAAxUc/AKBsMVYAAAAASUVORK5CYII=\n",
       "\" style=\"display:inline;vertical-align:middle;\" /></a></span>"
      ],
      "text/plain": [
       "{x not-in S} |- [not](x in S)"
      ]
     },
     "metadata": {},
     "output_type": "display_data"
    }
   ],
   "source": [
    "# Here is a simple, literal example. Notice that the 'self' on which the method\n",
    "# is called is actually the opposite claim from the conclusion being drawn.\n",
    "NotInSet(x, S).unfold_not_in(assumptions=[NotInSet(x, S)])"
   ]
  },
  {
   "cell_type": "code",
   "execution_count": 54,
   "metadata": {},
   "outputs": [
    {
     "data": {
      "text/html": [
       "<span style=\"font-size:20px;\"> <a class=\"ProveItLink\" href=\"../__pv_it/demonstrations/5cb9bcad034be052cebceb68c09c5ab9c411ab1a0/proof.ipynb\" style=\"text-decoration: none\">&nbsp;&#x22A2;&nbsp;&nbsp;</a><a class=\"ProveItLink\" href=\"../__pv_it/demonstrations/957c7efa9577a4b6fecf4e9df0cc66f2bd77762f0/expr.ipynb\"><img src=\"data:image/png;base64,iVBORw0KGgoAAAANSUhEUgAAAHUAAAAVBAMAAACK3rzVAAAAMFBMVEX///8AAAAAAAAAAAAAAAAA\n",
       "AAAAAAAAAAAAAAAAAAAAAAAAAAAAAAAAAAAAAAAAAAAv3aB7AAAAD3RSTlMAmd0iq3ZUiRDNZu9E\n",
       "uzLWhN+VAAAACXBIWXMAAA7EAAAOxAGVKw4bAAAB3UlEQVQ4y22UyytEURzHvzN3XswYM1JiNSYp\n",
       "So1Hycoom1nQFEpZUBay8shOmtnYkSmUpIzyB0yWmjIWynLyKAsJKUtKiY3xO+eecc85zqlz+93v\n",
       "/X3u73F/5wLOSsC0NkqaYM3+d/bOmFDvQVaXXu7ocqFIc0D/0r3uuMDQ5yrf3fxA1xv2zrzkFMgh\n",
       "EMGCHnyZngwdCtYqI1PiGrAnObny8H5iK/efBaYF60kgWBDakeQUBEJF1Nus9yreYWCDX/B8CC0o\n",
       "9WHeLo+XEdrNmuPG4PkRWo1UcBOHOrk9kDXnTMv9LjR/0mH3aYfHR7m97cjNGvuWBqaYUZtDQ5xW\n",
       "K9ntds68z07DrFONbaM9yJx8BVvoo12sdoPCn9D7ujiaKqmsq8w+Z4rg8LvChh9R98melf/CPN2p\n",
       "7DEv9YC1RopLOdd/2SxiTr03CutbRK+YNZ9w6qZ9Swkn7ZwxYZgNjr8Ck8Aq75WTHFboNi++b82M\n",
       "ymYSCHyz8luj0ZjQXIsO+0z7PGqfhcDIpcwOn+3kEafA7kqlkhOsWzqb7kdpQENrykzyUrV56ZHc\n",
       "ayPGo//H+jWtRfa6NrJTVWNdnTWrLHttGtnBatvSzklns1an/HSstIm1GvW/gbXClDHgF5mdbyTl\n",
       "wb1PAAAAAElFTkSuQmCC\n",
       "\" style=\"display:inline;vertical-align:middle;\" /></a></span>"
      ],
      "text/plain": [
       "|- [not](3 in {1, 2})"
      ]
     },
     "metadata": {},
     "output_type": "display_data"
    }
   ],
   "source": [
    "# Notice that we can unfold simple non-memberships automatically,\n",
    "# without invoking assumptions\n",
    "NotInSet(three, Set(one, two)).unfold_not_in()"
   ]
  },
  {
   "cell_type": "code",
   "execution_count": 55,
   "metadata": {},
   "outputs": [
    {
     "data": {
      "text/html": [
       "<span style=\"font-size:20px;\"><a class=\"ProveItLink\" href=\"../__pv_it/demonstrations/3dc4c50e651be99302c77ddfc01ead7b6fcc1dcd0/expr.ipynb\"><img src=\"data:image/png;base64,iVBORw0KGgoAAAANSUhEUgAAAGcAAAAVCAMAAABsdQABAAAARVBMVEX///8AAAAAAAAAAAAAAAAA\n",
       "AAAAAAAAAAAAAAAAAAAAAAAAAAAAAAAAAAAAAAAAAAAAAAAAAAAAAAAAAAAAAAAAAAAAAAAeYafp\n",
       "AAAAFnRSTlMAIquJdkTvuxBmmd1UzTLp8+P355HBkdhaQwAAAAlwSFlzAAAOxAAADsQBlSsOGwAA\n",
       "AbJJREFUSMeVVVmWhCAMZAkQwTg79z/qINCyiErz0086qSJFJTB2vXj7iUqxtxdf+WMMYf0FpPB9\n",
       "HrYJg08R9dfqYzga7WYZSNv914j7ONvIJF/wZKdr8WuTebHav4/olDyzVJLghgeMcx+fNOLJyTMr\n",
       "p1zyKIKAJbZhPdJNy5YVPjK4kMChWDH6DGl4OEYCQHTSSYClPdUOuWWFDyV0sLgpclB0/AKdKxIv\n",
       "+nAK9HVTcBfwrGkUqSFBp0y97DBFDho0D+Mx6mVvXR/CyX4nQ2ZFeKrL+iM42V67sL6+nTOVDKTq\n",
       "srysCj0bo4NEQYFJmyjH0SwY4WV7BZvNXR2TVe1tbU4G6CDlfkj0e8WL7/rm5Krc1ZGhLiHlt4Ow\n",
       "hUxSY8wUxI6BByFK2Ytm8NtL/heVTxenyk4HKZMPTIBdnWUFOajZNU/hEQHV2GS8fBlJ563sdJA5\n",
       "EwXIjQsoyCjMD17woJA2FeBcjpFyWfbGLjst5E1n//6FweOGc6ea4Pi888BDOBEt2fPOPQ83g9Gq\n",
       "e1edfQbj94UuB+1g9PP+PTiDjmkwT5LBGj6A3Irpl6fKkinrH/3FDptHG1jPAAAAAElFTkSuQmCC\n",
       "\" style=\"display:inline;vertical-align:middle;\" /></a> <a class=\"ProveItLink\" href=\"../__pv_it/demonstrations/9123540e6120ecdf460da997b23f386b9a2661730/proof.ipynb\" style=\"text-decoration: none\">&nbsp;&#x22A2;&nbsp;&nbsp;</a><a class=\"ProveItLink\" href=\"../__pv_it/demonstrations/ea68d40a0896daafe2892a41d1dc9b45c56931340/expr.ipynb\"><img src=\"data:image/png;base64,iVBORw0KGgoAAAANSUhEUgAAAIYAAAAVBAMAAABxpYtPAAAAMFBMVEX///8AAAAAAAAAAAAAAAAA\n",
       "AAAAAAAAAAAAAAAAAAAAAAAAAAAAAAAAAAAAAAAAAAAv3aB7AAAAD3RSTlMAmd0iq3ZUiRDNZu9E\n",
       "uzLWhN+VAAAACXBIWXMAAA7EAAAOxAGVKw4bAAACMElEQVQ4y2NgQAADBmyA4wwDDsCcDCJQhFgT\n",
       "sKqMPIHLDIYnNxgYeAKQRdKxqmP7wcDQuwmLxMuNDAxXgHQUspsnYDWDXQFITMQm842BoQhIcTYg\n",
       "hBgX4DbjGxYJnh8QM7gEEGLcKCpilZQmwM0AKcdqOMgMhh0IsUxkBScjkJWC3YIOOAWgZsxCiImD\n",
       "Iso9GBzMzDNQrON0DYHGGXvoOgjDpPR9AtSMEoQZIONOG/CCnc2JSCqMQC/1z+D4DEkRagyykMDY\n",
       "zHAfGJbRIPZKBiElIFAEMtWAUbOLgRHsbE6E0dbAoM5vYNgK5jAVQBndCxgkgZQ9yHnZUJcB8R6g\n",
       "nR9AqoDgNcjgC2CZOUACqPw7WJ08LB7lGRjUQenBE2jIexQzuC8w9B8A8XvhzuCTbQAp54HE7l6Y\n",
       "8F4Gjj+g4AHZcBphBtAv/QEM6yFuRviF1wGUPBjBwcTxFZYevzJwfWAAe5KBIQkiZgjEV4FmJDB4\n",
       "soGCkzUAJV7+gfwPUv4LGJogBsc3BpYJwBxXDVKxFmEhMIp4A9gUGcGcaShmeDFcZOD4CeQAI6UO\n",
       "zLjKkCQASx/iCDMeAY13rTOJA3Na7jQgmdFSCIwcJaAIe9XSBjCjJfyx6wOoGToIM5geIKfC45eQ\n",
       "0jokAzegMyBmMCMlYuS8g57nwAwGdAbEDJS8ehmrGawboIxWBnQGOOEw2CKr7sVe4MHyPTyqEHEG\n",
       "TNdoVjMHYDXE0A1neVoCTKWsBgwAltt2iJUIJ+QAAAAASUVORK5CYII=\n",
       "\" style=\"display:inline;vertical-align:middle;\" /></a></span>"
      ],
      "text/plain": [
       "{a not-in {b, c, d}} |- [not](a in {b, c, d})"
      ]
     },
     "metadata": {},
     "output_type": "display_data"
    }
   ],
   "source": [
    "# The unfold_not_in() is more about a folding of the assumption or\n",
    "# judgment about the negation of a membership claim or the negation of\n",
    "# element equalities\n",
    "NotInSet(a, Set(b, c, d)).unfold_not_in(assumptions=[NotInSet(a, Set(b, c, d))])"
   ]
  },
  {
   "cell_type": "code",
   "execution_count": 56,
   "metadata": {},
   "outputs": [
    {
     "data": {
      "text/html": [
       "<span style=\"font-size:20px;\"><a class=\"ProveItLink\" href=\"../../../../numbers/ordering/__pv_it/theorems/ef097190be07bfef385d06d66c6c1568183e809c0/expr.ipynb\"><img src=\"data:image/png;base64,iVBORw0KGgoAAAANSUhEUgAAADAAAAAUCAMAAAD84U6VAAAAPFBMVEX///8AAAAAAAAAAAAAAAAA\n",
       "AAAAAAAAAAAAAAAAAAAAAAAAAAAAAAAAAAAAAAAAAAAAAAAAAAAAAAAAAAAo1xBWAAAAE3RSTlMA\n",
       "IquJdkTvuxBmmd1UzTLn9enzF+Xi+wAAAAlwSFlzAAAOxAAADsQBlSsOGwAAAMpJREFUKM+VktkS\n",
       "wyAIRRV3XLrw//9aNNMmJqmOPDiiwOGiQowMvViy4va9dzZOE1w5ehmnAOhcSlOAPHqGZoJMD1C7\n",
       "BAlKS31JyLJ3QWtoXRnLN24HYmz2eNb1R/GUPS8c6m1oURNAahUtN4JU/ajOCk5DxNwmxWHWNaAZ\n",
       "A7aKhkfrqcoNdKhVe3+9NyXQvQJS1VF3kEXqSubz0Kl85TompIii6zldvgFwrGunHrQqEnQZAjhM\n",
       "Yfj7yEmtfesbwNjCKiAuAkQZ3H0AP6IGQkFa83wAAAAASUVORK5CYII=\n",
       "\" style=\"display:inline;vertical-align:middle;\" /></a>, <a class=\"ProveItLink\" href=\"../__pv_it/demonstrations/636b551eaa2c463238c85b046347f565e22cd1360/expr.ipynb\"><img src=\"data:image/png;base64,iVBORw0KGgoAAAANSUhEUgAAADAAAAAUCAMAAAD84U6VAAAAPFBMVEX///8AAAAAAAAAAAAAAAAA\n",
       "AAAAAAAAAAAAAAAAAAAAAAAAAAAAAAAAAAAAAAAAAAAAAAAAAAAAAAAAAAAo1xBWAAAAE3RSTlMA\n",
       "IquJdkTvuxBmmd1UzTLn9enzF+Xi+wAAAAlwSFlzAAAOxAAADsQBlSsOGwAAALtJREFUKM+Vk9kS\n",
       "gyAMRQMJSNi68P//2qBTWnTUSR4YlSvnZgHgKmIAVdRFp4elKgFWCzA6vTsFGItk6PC57AFIxD0r\n",
       "52VnaaOCMa3xePb1RzEpy57ULXheVXeAhLJ4MRLbeJ0yiLseDgu+dyc0dwPw3yaG1tPl9ndW9/56\n",
       "b5nYSbY9SS5gC+TpyLKfosabU6mP/JpThMlzjoc5XC2hlDVYwmos1UuAaJGZzqY3o3KKivIesBaQ\n",
       "lAC4ujcfd/IFINnKg08AAAAASUVORK5CYII=\n",
       "\" style=\"display:inline;vertical-align:middle;\" /></a>, <a class=\"ProveItLink\" href=\"../__pv_it/demonstrations/fd549569c8f48a38cc8bfed22be04fdc683f6e970/expr.ipynb\"><img src=\"data:image/png;base64,iVBORw0KGgoAAAANSUhEUgAAADIAAAAUCAMAAAD4FJ6oAAAAPFBMVEX///8AAAAAAAAAAAAAAAAA\n",
       "AAAAAAAAAAAAAAAAAAAAAAAAAAAAAAAAAAAAAAAAAAAAAAAAAAAAAAAAAAAo1xBWAAAAE3RSTlMA\n",
       "IquJdkTvuxBmmd1UzTLn9enzF+Xi+wAAAAlwSFlzAAAOxAAADsQBlSsOGwAAALdJREFUKM+VkkkS\n",
       "AyEIRXGezeD975pWk2paO1iycAEfHl8FoMJb2IxspkzSnmwxec6VSEL4nFOF3NWwOScC1aFuIJC6\n",
       "FcaFZHKuDpAqy92K0kfNnDv60OLxrOdJQjKrXdMtIF9ZakNLPYMYnQz3j2W6vpctauEEyWypxl1B\n",
       "86qH17s7+nnBMtvugCeIl7FpeLGLzBztMXi47B6nn4RllkuRGZeZgvyRYYjY/fQ3kFW4fUjYhkAm\n",
       "qx/yyAZnNhKNiQAAAABJRU5ErkJggg==\n",
       "\" style=\"display:inline;vertical-align:middle;\" /></a> <a class=\"ProveItLink\" href=\"../__pv_it/demonstrations/18813392ff92096d5a8952544ce407039a41ffa70/proof.ipynb\" style=\"text-decoration: none\">&nbsp;&#x22A2;&nbsp;&nbsp;</a><a class=\"ProveItLink\" href=\"../__pv_it/demonstrations/ea68d40a0896daafe2892a41d1dc9b45c56931340/expr.ipynb\"><img src=\"data:image/png;base64,iVBORw0KGgoAAAANSUhEUgAAAIYAAAAVBAMAAABxpYtPAAAAMFBMVEX///8AAAAAAAAAAAAAAAAA\n",
       "AAAAAAAAAAAAAAAAAAAAAAAAAAAAAAAAAAAAAAAAAAAv3aB7AAAAD3RSTlMAmd0iq3ZUiRDNZu9E\n",
       "uzLWhN+VAAAACXBIWXMAAA7EAAAOxAGVKw4bAAACMElEQVQ4y2NgQAADBmyA4wwDDsCcDCJQhFgT\n",
       "sKqMPIHLDIYnNxgYeAKQRdKxqmP7wcDQuwmLxMuNDAxXgHQUspsnYDWDXQFITMQm842BoQhIcTYg\n",
       "hBgX4DbjGxYJnh8QM7gEEGLcKCpilZQmwM0AKcdqOMgMhh0IsUxkBScjkJWC3YIOOAWgZsxCiImD\n",
       "Iso9GBzMzDNQrON0DYHGGXvoOgjDpPR9AtSMEoQZIONOG/CCnc2JSCqMQC/1z+D4DEkRagyykMDY\n",
       "zHAfGJbRIPZKBiElIFAEMtWAUbOLgRHsbE6E0dbAoM5vYNgK5jAVQBndCxgkgZQ9yHnZUJcB8R6g\n",
       "nR9AqoDgNcjgC2CZOUACqPw7WJ08LB7lGRjUQenBE2jIexQzuC8w9B8A8XvhzuCTbQAp54HE7l6Y\n",
       "8F4Gjj+g4AHZcBphBtAv/QEM6yFuRviF1wGUPBjBwcTxFZYevzJwfWAAe5KBIQkiZgjEV4FmJDB4\n",
       "soGCkzUAJV7+gfwPUv4LGJogBsc3BpYJwBxXDVKxFmEhMIp4A9gUGcGcaShmeDFcZOD4CeQAI6UO\n",
       "zLjKkCQASx/iCDMeAY13rTOJA3Na7jQgmdFSCIwcJaAIe9XSBjCjJfyx6wOoGToIM5geIKfC45eQ\n",
       "0jokAzegMyBmMCMlYuS8g57nwAwGdAbEDJS8ehmrGawboIxWBnQGOOEw2CKr7sVe4MHyPTyqEHEG\n",
       "TNdoVjMHYDXE0A1neVoCTKWsBgwAltt2iJUIJ+QAAAAASUVORK5CYII=\n",
       "\" style=\"display:inline;vertical-align:middle;\" /></a></span>"
      ],
      "text/plain": [
       "{a != b, a != c, a != d} |- [not](a in {b, c, d})"
      ]
     },
     "metadata": {},
     "output_type": "display_data"
    }
   ],
   "source": [
    "# The unfold_not_in() is more about a folding of the assumption or\n",
    "# judgment about the negation of a membership claim or the negation of\n",
    "# element equalities\n",
    "NotInSet(a, Set(b, c, d)).unfold_not_in(assumptions=[NotEquals(a, b), NotEquals(a, c), NotEquals(a, d)])"
   ]
  },
  {
   "cell_type": "markdown",
   "metadata": {},
   "source": [
    "### `NotInSet.conclude()`"
   ]
  },
  {
   "cell_type": "code",
   "execution_count": 57,
   "metadata": {},
   "outputs": [
    {
     "data": {
      "text/html": [
       "<span style=\"font-size:20px;\"> <a class=\"ProveItLink\" href=\"../__pv_it/demonstrations/c51957f3007c5db04b527a3868cf50b500121bd60/proof.ipynb\" style=\"text-decoration: none\">&nbsp;&#x22A2;&nbsp;&nbsp;</a><a class=\"ProveItLink\" href=\"../__pv_it/demonstrations/26fda78f586e111f872d9fbb17325b26f19f951b0/expr.ipynb\"><img src=\"data:image/png;base64,iVBORw0KGgoAAAANSUhEUgAAAGgAAAAVCAMAAACdfluMAAAAP1BMVEX///8AAAAAAAAAAAAAAAAA\n",
       "AAAAAAAAAAAAAAAAAAAAAAAAAAAAAAAAAAAAAAAAAAAAAAAAAAAAAAAAAAAAAADFBd4eAAAAFHRS\n",
       "TlMAMpndq3ZmzYkiRO+7EFTp8+P3nWR1Q7oAAAAJcEhZcwAADsQAAA7EAZUrDhsAAAG1SURBVEjH\n",
       "nZbZcsMgDEVZBGJvm+r/v7UG24lY4nqih2RQJA5cJE2EeGu+X+YQxAfmi/8vBDNfGQz5E5CQkFii\n",
       "VIsAvir0jJZ6IHqlMMnB55xKhwSJ7aRhAqlOKacPAUEh9SCf6u/UhWfVDle63KrLAqTFClSDBxC0\n",
       "R4ixE7oyMuGQKy32IJP017fGe6DY1kD80UOsF5xATnSggCYLkLdv1H4CkqMmhWyfa3wH8rXcMoq7\n",
       "oENpGj1B2z7Xb2sOwqqBNUNp4DVI0pAgDZyimHgKN4DmJhI+2mvQopqeVef3b+t7kIxa65/H9pGe\n",
       "GMAgLkEqrXo1HpEZsAjfrsxAubVF6XVQrLsXIDveRzbV0tlI9ZwBqlEExxtIj1ux7p5BpeZ6Xt7U\n",
       "Yg4QmyoisiMZI8I0kRZV95pJ7YwmM9e+3yGdY71MXGMsIC9Abm/Ns++F16qaZi5h7aqPtqckgld5\n",
       "ZnhMk/oZDBAJoe6gj+GqqRky1/YiG/ocqk6/m+z216Wt6t6MoNfT5DuuKxDmW8HulusC5BdNYeLk\n",
       "yuaOq58qwwnKAk6Tc7HpkpPZVOkNltdUUD76z+D2vD8+5A88xTv4MAAAAABJRU5ErkJggg==\n",
       "\" style=\"display:inline;vertical-align:middle;\" /></a></span>"
      ],
      "text/plain": [
       "|- 4 not-in {1, 2, 3}"
      ]
     },
     "metadata": {},
     "output_type": "display_data"
    }
   ],
   "source": [
    "# A simple nonmembership claim can be deduced using conclude()\n",
    "NotInSet(four, Set(one, two, three)).conclude()"
   ]
  },
  {
   "cell_type": "code",
   "execution_count": 58,
   "metadata": {},
   "outputs": [
    {
     "name": "stdout",
     "output_type": "stream",
     "text": [
      "Proof Failure (InstantiationFailure): Proof step failed:\n",
      "Attempting to instantiate |- forall_{n in Natural} [forall_{x, y_{1}, y_{2}, ..., y_{n} | (x != y_{1}), (x != y_{2}), ..., (x != y_{n})} (x not-in {y_{1}, y_{2}, ..., y_{n}})] with {n: 3, x: 2, y: (1, 2, 3)}:\n",
      "Unsatisfied condition: 2 != 2. For debugging purposes, this is accessible via Instantiation.unsatisfied_condition with applicable assumptions in Instantiation.condition_assumptions.\n"
     ]
    }
   ],
   "source": [
    "# We should not be able to conclude a False nonmembership claim\n",
    "try:\n",
    "    NotInSet(two, Set(one, two, three)).conclude()\n",
    "    assert False, \"Expecting a ProofFailure (TypeError); should not make it this far!\"\n",
    "except InstantiationFailure as the_error:\n",
    "    print(\"Proof Failure (InstantiationFailure): {}\".format(the_error))"
   ]
  },
  {
   "cell_type": "code",
   "execution_count": 59,
   "metadata": {},
   "outputs": [
    {
     "data": {
      "text/html": [
       "<span style=\"font-size:20px;\"><a class=\"ProveItLink\" href=\"../__pv_it/demonstrations/167a96dfd8a9b08073a5528ee3a18b59c03f70e30/expr.ipynb\"><img src=\"data:image/png;base64,iVBORw0KGgoAAAANSUhEUgAAADEAAAAOBAMAAAB0nulXAAAAMFBMVEX///8AAAAAAAAAAAAAAAAA\n",
       "AAAAAAAAAAAAAAAAAAAAAAAAAAAAAAAAAAAAAAAAAAAv3aB7AAAAD3RSTlMAIquJdkTvuxBmmd1U\n",
       "zTKBpmoTAAAACXBIWXMAAA7EAAAOxAGVKw4bAAAAiElEQVQY02NgwAr4FjDgANwKuGS8ccnwzcUl\n",
       "w8wLkmFUdnRAl3EEy4QJsP8A8VbvBoFNICbjBJAMRyYD1wZ0wxhAMlwfGLgN0GQmgmXYChj6A1Al\n",
       "GB3AMv0ODPMZUO1hVVLSTzJg6D/AoMsjgO44NqAedgeeXVwYHuIvALpNxU7ID12Cq/6TAwBi5hzg\n",
       "fP4AQQAAAABJRU5ErkJggg==\n",
       "\" style=\"display:inline;vertical-align:middle;\" /></a> <a class=\"ProveItLink\" href=\"../__pv_it/demonstrations/ec0b87446bb37e64b274fe05414c171ca4a138160/proof.ipynb\" style=\"text-decoration: none\">&nbsp;&#x22A2;&nbsp;&nbsp;</a><a class=\"ProveItLink\" href=\"../__pv_it/demonstrations/e7783d37447e248694350659d76ebb76fb3a20360/expr.ipynb\"><img src=\"data:image/png;base64,iVBORw0KGgoAAAANSUhEUgAAAGkAAAAVCAMAAAByvDCyAAAAP1BMVEX///8AAAAAAAAAAAAAAAAA\n",
       "AAAAAAAAAAAAAAAAAAAAAAAAAAAAAAAAAAAAAAAAAAAAAAAAAAAAAAAAAAAAAADFBd4eAAAAFHRS\n",
       "TlMAIquJdkTvuxBmmd1UzTLp8+P3nYVkb20AAAAJcEhZcwAADsQAAA7EAZUrDhsAAAG8SURBVEjH\n",
       "nZbZdgMhCIYVN1ywber7P2vVyRwddZbGi+SI4Ke/QMLY+eDDHJVi/x888FsfwsNUksIPSCyCwTuP\n",
       "wzSk3T/6MZI7RyYeTUI489bAwDXJHbUSfpMQHKWBxE1ZT70/unq40IeejmG5ucuRBPUltO6lLhBM\n",
       "dEuSxn99e3pI0tUAqXt6pcsNb0mKJDKIz+9UlyANEVk9ewzlICSXnewl6ZDYY9Jb7TQe2NtjqNL5\n",
       "1qaLpqKClWOC0DUppmNElLDLIrcXRF3IrpOSFsXEuLbXJD+n8p57fPt29dJetMNo7/3PK3+YxgFS\n",
       "7JLkzIKu354IlFm6uGBXDFirIwzauFboK5IdbhSrcGYvqHJOrPLaNBTSnJet0BekUCThXZan6vMm\n",
       "be0F6wSItUYoJVNuIs2513ixai+x2TR06oktI0y+U/COdXtTGIvpQBJbie4dIF/GuzJ8Z7N2ricE\n",
       "KSIH2e2N8Jrb9k4C0ImgbOH3TutTHdTbVEbvHfaiG9lfYXLunXSj9jqLHFzZLkj0zF0sQpe2UxJf\n",
       "1YbUowXl7LWyde1lOkNY4dNoXW26smFrL+NY/0RyB+GT/xFiC/sD2KoPajeIThQAAAAASUVORK5C\n",
       "YII=\n",
       "\" style=\"display:inline;vertical-align:middle;\" /></a></span>"
      ],
      "text/plain": [
       "{a = 4} |- a not-in {1, 2, 3}"
      ]
     },
     "metadata": {},
     "output_type": "display_data"
    }
   ],
   "source": [
    "NotInSet(a, Set(one, two, three)).conclude(assumptions=[Equals(a, four)],\n",
    "                                           simplify_with_known_evaluations=True)"
   ]
  },
  {
   "cell_type": "code",
   "execution_count": 60,
   "metadata": {},
   "outputs": [
    {
     "data": {
      "text/html": [
       "<span style=\"font-size:20px;\"><a class=\"ProveItLink\" href=\"../../../../numbers/ordering/__pv_it/theorems/ef097190be07bfef385d06d66c6c1568183e809c0/expr.ipynb\"><img src=\"data:image/png;base64,iVBORw0KGgoAAAANSUhEUgAAADAAAAAUCAMAAAD84U6VAAAAPFBMVEX///8AAAAAAAAAAAAAAAAA\n",
       "AAAAAAAAAAAAAAAAAAAAAAAAAAAAAAAAAAAAAAAAAAAAAAAAAAAAAAAAAAAo1xBWAAAAE3RSTlMA\n",
       "IquJdkTvuxBmmd1UzTLn9enzF+Xi+wAAAAlwSFlzAAAOxAAADsQBlSsOGwAAAMpJREFUKM+VktkS\n",
       "wyAIRRV3XLrw//9aNNMmJqmOPDiiwOGiQowMvViy4va9dzZOE1w5ehmnAOhcSlOAPHqGZoJMD1C7\n",
       "BAlKS31JyLJ3QWtoXRnLN24HYmz2eNb1R/GUPS8c6m1oURNAahUtN4JU/ajOCk5DxNwmxWHWNaAZ\n",
       "A7aKhkfrqcoNdKhVe3+9NyXQvQJS1VF3kEXqSubz0Kl85TompIii6zldvgFwrGunHrQqEnQZAjhM\n",
       "Yfj7yEmtfesbwNjCKiAuAkQZ3H0AP6IGQkFa83wAAAAASUVORK5CYII=\n",
       "\" style=\"display:inline;vertical-align:middle;\" /></a>, <a class=\"ProveItLink\" href=\"../__pv_it/demonstrations/636b551eaa2c463238c85b046347f565e22cd1360/expr.ipynb\"><img src=\"data:image/png;base64,iVBORw0KGgoAAAANSUhEUgAAADAAAAAUCAMAAAD84U6VAAAAPFBMVEX///8AAAAAAAAAAAAAAAAA\n",
       "AAAAAAAAAAAAAAAAAAAAAAAAAAAAAAAAAAAAAAAAAAAAAAAAAAAAAAAAAAAo1xBWAAAAE3RSTlMA\n",
       "IquJdkTvuxBmmd1UzTLn9enzF+Xi+wAAAAlwSFlzAAAOxAAADsQBlSsOGwAAALtJREFUKM+Vk9kS\n",
       "gyAMRQMJSNi68P//2qBTWnTUSR4YlSvnZgHgKmIAVdRFp4elKgFWCzA6vTsFGItk6PC57AFIxD0r\n",
       "52VnaaOCMa3xePb1RzEpy57ULXheVXeAhLJ4MRLbeJ0yiLseDgu+dyc0dwPw3yaG1tPl9ndW9/56\n",
       "b5nYSbY9SS5gC+TpyLKfosabU6mP/JpThMlzjoc5XC2hlDVYwmos1UuAaJGZzqY3o3KKivIesBaQ\n",
       "lAC4ujcfd/IFINnKg08AAAAASUVORK5CYII=\n",
       "\" style=\"display:inline;vertical-align:middle;\" /></a>, <a class=\"ProveItLink\" href=\"../__pv_it/demonstrations/fd549569c8f48a38cc8bfed22be04fdc683f6e970/expr.ipynb\"><img src=\"data:image/png;base64,iVBORw0KGgoAAAANSUhEUgAAADIAAAAUCAMAAAD4FJ6oAAAAPFBMVEX///8AAAAAAAAAAAAAAAAA\n",
       "AAAAAAAAAAAAAAAAAAAAAAAAAAAAAAAAAAAAAAAAAAAAAAAAAAAAAAAAAAAo1xBWAAAAE3RSTlMA\n",
       "IquJdkTvuxBmmd1UzTLn9enzF+Xi+wAAAAlwSFlzAAAOxAAADsQBlSsOGwAAALdJREFUKM+VkkkS\n",
       "AyEIRXGezeD975pWk2paO1iycAEfHl8FoMJb2IxspkzSnmwxec6VSEL4nFOF3NWwOScC1aFuIJC6\n",
       "FcaFZHKuDpAqy92K0kfNnDv60OLxrOdJQjKrXdMtIF9ZakNLPYMYnQz3j2W6vpctauEEyWypxl1B\n",
       "86qH17s7+nnBMtvugCeIl7FpeLGLzBztMXi47B6nn4RllkuRGZeZgvyRYYjY/fQ3kFW4fUjYhkAm\n",
       "qx/yyAZnNhKNiQAAAABJRU5ErkJggg==\n",
       "\" style=\"display:inline;vertical-align:middle;\" /></a> <a class=\"ProveItLink\" href=\"../__pv_it/demonstrations/b17d6593729ea91ab61440f4d515ceb7a0d2be3d0/proof.ipynb\" style=\"text-decoration: none\">&nbsp;&#x22A2;&nbsp;&nbsp;</a><a class=\"ProveItLink\" href=\"../__pv_it/demonstrations/3dc4c50e651be99302c77ddfc01ead7b6fcc1dcd0/expr.ipynb\"><img src=\"data:image/png;base64,iVBORw0KGgoAAAANSUhEUgAAAGcAAAAVCAMAAABsdQABAAAARVBMVEX///8AAAAAAAAAAAAAAAAA\n",
       "AAAAAAAAAAAAAAAAAAAAAAAAAAAAAAAAAAAAAAAAAAAAAAAAAAAAAAAAAAAAAAAAAAAAAAAeYafp\n",
       "AAAAFnRSTlMAIquJdkTvuxBmmd1UzTLp8+P355HBkdhaQwAAAAlwSFlzAAAOxAAADsQBlSsOGwAA\n",
       "AbJJREFUSMeVVVmWhCAMZAkQwTg79z/qINCyiErz0086qSJFJTB2vXj7iUqxtxdf+WMMYf0FpPB9\n",
       "HrYJg08R9dfqYzga7WYZSNv914j7ONvIJF/wZKdr8WuTebHav4/olDyzVJLghgeMcx+fNOLJyTMr\n",
       "p1zyKIKAJbZhPdJNy5YVPjK4kMChWDH6DGl4OEYCQHTSSYClPdUOuWWFDyV0sLgpclB0/AKdKxIv\n",
       "+nAK9HVTcBfwrGkUqSFBp0y97DBFDho0D+Mx6mVvXR/CyX4nQ2ZFeKrL+iM42V67sL6+nTOVDKTq\n",
       "srysCj0bo4NEQYFJmyjH0SwY4WV7BZvNXR2TVe1tbU4G6CDlfkj0e8WL7/rm5Krc1ZGhLiHlt4Ow\n",
       "hUxSY8wUxI6BByFK2Ytm8NtL/heVTxenyk4HKZMPTIBdnWUFOajZNU/hEQHV2GS8fBlJ563sdJA5\n",
       "EwXIjQsoyCjMD17woJA2FeBcjpFyWfbGLjst5E1n//6FweOGc6ea4Pi888BDOBEt2fPOPQ83g9Gq\n",
       "e1edfQbj94UuB+1g9PP+PTiDjmkwT5LBGj6A3Irpl6fKkinrH/3FDptHG1jPAAAAAElFTkSuQmCC\n",
       "\" style=\"display:inline;vertical-align:middle;\" /></a></span>"
      ],
      "text/plain": [
       "{a != b, a != c, a != d} |- a not-in {b, c, d}"
      ]
     },
     "metadata": {},
     "output_type": "display_data"
    }
   ],
   "source": [
    "NotInSet(a, Set(b, c, d)).conclude(assumptions=[NotEquals(a, b), NotEquals(a, c), NotEquals(a, d)])"
   ]
  },
  {
   "cell_type": "code",
   "execution_count": 61,
   "metadata": {},
   "outputs": [
    {
     "data": {
      "text/html": [
       "<span style=\"font-size:20px;\"><a class=\"ProveItLink\" href=\"../__pv_it/demonstrations/0ec6ed5578e824d31f05f5d64f0c9dee8312f05a0/expr.ipynb\"><img src=\"data:image/png;base64,iVBORw0KGgoAAAANSUhEUgAAADIAAAAVCAMAAAAzSE0NAAAARVBMVEX///8AAAAAAAAAAAAAAAAA\n",
       "AAAAAAAAAAAAAAAAAAAAAAAAAAAAAAAAAAAAAAAAAAAAAAAAAAAAAAAAAAAAAAAAAAAAAAAeYafp\n",
       "AAAAFnRSTlMAIquJdkTvuxBmmd1UzTLp8+P355HBkdhaQwAAAAlwSFlzAAAOxAAADsQBlSsOGwAA\n",
       "AQhJREFUOMudU4tyAyEIVHzgqZg2bfz/Tw3Sqjknd2m6480wCBzsilLH0OptUOhWJl89YUrot7OM\n",
       "AsO0CKXVkHOC6KYZJXFTJp+mpGlCGytgO0ew3PblYzYhQ8WipL1ncGQ5Zr3m0UocZIKx2k5uhamw\n",
       "Doqhnd+injvFOhgl0WOz+4xspisI1XEOS4sowzv+G6vQY0bPPjE+r6zbIyFZGdeZ8O0m1CHCD5GL\n",
       "AOzU2PkOtXW41UWPtG+L6RNtOLx9rR6Qyv0VWq7h4p7g2D3QaiFH5BTVDKK8isLsCh0as4wB1hQN\n",
       "dgYFwK8dX84jeUTk54zmQP/vG7+YRP/blL9C49vr+GIrngFOb+8yXgd8ylSkGQAAAABJRU5ErkJg\n",
       "gg==\n",
       "\" style=\"display:inline;vertical-align:middle;\" /></a> <a class=\"ProveItLink\" href=\"../__pv_it/demonstrations/65530874a8ee60b38979299fe9e5cf64eefb54b50/proof.ipynb\" style=\"text-decoration: none\">&nbsp;&#x22A2;&nbsp;&nbsp;</a><a class=\"ProveItLink\" href=\"../__pv_it/demonstrations/909de7eaf979351c3360ef074e1b566c2eaaec760/expr.ipynb\"><img src=\"data:image/png;base64,iVBORw0KGgoAAAANSUhEUgAAADMAAAAVCAMAAADciiYzAAAAP1BMVEX///8AAAAAAAAAAAAAAAAA\n",
       "AAAAAAAAAAAAAAAAAAAAAAAAAAAAAAAAAAAAAAAAAAAAAAAAAAAAAAAAAAAAAADFBd4eAAAAFHRS\n",
       "TlMAIquJdkTvuxBmmd1UzTLp8+P3nYVkb20AAAAJcEhZcwAADsQAAA7EAZUrDhsAAAENSURBVDjL\n",
       "nVPtcsQgCEREwQ+89ur7P2vVpImm08xd+eEAcWWzqwB/h4H3Q2VPJFXmUVlfvbuBFDxzzuBGKfV2\n",
       "TJwOxGTAhp75W0yacszcuJpLdw3i9PhIemJMIDB6g3FKAljmOabXZA+MQUuGJo27RKKwYqCxY7dj\n",
       "nO+NKqfGnXegK6bEJroMjPiuR5x46mLOgYGQIfPQLQ7Fkz198Smlz2dbeMUAtr8cGM/DqtMM6Q2b\n",
       "4dccEITBTWonHurFmIukGwYKwTahn4gK+biSRODiiuFdeCqDL7c5OUWYdmlezBmdnwulG0myxSBN\n",
       "uwSfbpataPW7Hqttc4Qvy003/dfLeT0Mv/9AL+a8FHj/+RtLrwdJ2ks5NAAAAABJRU5ErkJggg==\n",
       "\" style=\"display:inline;vertical-align:middle;\" /></a></span>"
      ],
      "text/plain": [
       "{a not-in Integer} |- a not-in Natural"
      ]
     },
     "metadata": {},
     "output_type": "display_data"
    }
   ],
   "source": [
    "NotInSet(a, Natural).conclude(assumptions=[NotInSet(a, Integer)])"
   ]
  },
  {
   "cell_type": "code",
   "execution_count": 62,
   "metadata": {},
   "outputs": [
    {
     "data": {
      "text/html": [
       "<span style=\"font-size:20px;\"><a class=\"ProveItLink\" href=\"../__pv_it/demonstrations/167a96dfd8a9b08073a5528ee3a18b59c03f70e30/expr.ipynb\"><img src=\"data:image/png;base64,iVBORw0KGgoAAAANSUhEUgAAADEAAAAOBAMAAAB0nulXAAAAMFBMVEX///8AAAAAAAAAAAAAAAAA\n",
       "AAAAAAAAAAAAAAAAAAAAAAAAAAAAAAAAAAAAAAAAAAAv3aB7AAAAD3RSTlMAIquJdkTvuxBmmd1U\n",
       "zTKBpmoTAAAACXBIWXMAAA7EAAAOxAGVKw4bAAAAiElEQVQY02NgwAr4FjDgANwKuGS8ccnwzcUl\n",
       "w8wLkmFUdnRAl3EEy4QJsP8A8VbvBoFNICbjBJAMRyYD1wZ0wxhAMlwfGLgN0GQmgmXYChj6A1Al\n",
       "GB3AMv0ODPMZUO1hVVLSTzJg6D/AoMsjgO44NqAedgeeXVwYHuIvALpNxU7ID12Cq/6TAwBi5hzg\n",
       "fP4AQQAAAABJRU5ErkJggg==\n",
       "\" style=\"display:inline;vertical-align:middle;\" /></a> <a class=\"ProveItLink\" href=\"../__pv_it/demonstrations/6f4f0b4faf659b9d1aace7932f6f7bef3b8a61360/proof.ipynb\" style=\"text-decoration: none\">&nbsp;&#x22A2;&nbsp;&nbsp;</a><a class=\"ProveItLink\" href=\"../__pv_it/demonstrations/8118bfd2dd2cb42695032a65c0db57e6f8900ee20/expr.ipynb\"><img src=\"data:image/png;base64,iVBORw0KGgoAAAANSUhEUgAAAI0AAAAVCAMAAABMtZ25AAAARVBMVEX///8AAAAAAAAAAAAAAAAA\n",
       "AAAAAAAAAAAAAAAAAAAAAAAAAAAAAAAAAAAAAAAAAAAAAAAAAAAAAAAAAAAAAAAAAAAAAAAeYafp\n",
       "AAAAFnRSTlMAIquJdkTvuxBmmd1UzTLp8+P355HBkdhaQwAAAAlwSFlzAAAOxAAADsQBlSsOGwAA\n",
       "AbhJREFUSMe9luuWxBAMgIlbUN2793/URadDUebMTtefOTJJfE0kQchg0eMWhSDXLLrQuZLDcsed\n",
       "wItoyAoKpyrlbvG7/mpby55sqkMZM+oWbwUTa3NIDLNbusA4X3ntyerV0UGTPnIp3Z+v4/9ZnXdO\n",
       "bmVCz3R4BEHvpjRcWfv27v5Cs/CZjpAx+FMa4Xiwg5VcS3O7jvrongLjtLClqZbQkX+gEVYf3QsZ\n",
       "il0Vmi4Vv668Gfd6mpXDngEut5stI50p0uY6zYZQqS/K1FZTdPs1PtUPy8DShvXxaa3KLOAEeZTG\n",
       "RHsrkxsLExoib1IEF3hkPBN9PgwTBFuOMTW5Wb4qNmtKktobTvxe9NFK+7rPNAWXm+WraHza32i2\n",
       "Vo9pA47kwcWDH2FqX21N4ZM0u6aEIlNsu8UqWC3WkOL4kMCq2RxomE/gexctZUOa2k7rtt8gcLZS\n",
       "4Gs5U9QXntEASO8gurD3KZhl5zQdO2HMfWqOJsP3TxgN9mQy5ANHk7KNzdBuROPwEXU2mrnt1Bza\n",
       "DWio6gxS2TwS+HNPq66dcefwS4fQ18InYbp2KM9D2X2HUQPLVe9itrn+BT7NEtgzzaCXAAAAAElF\n",
       "TkSuQmCC\n",
       "\" style=\"display:inline;vertical-align:middle;\" /></a></span>"
      ],
      "text/plain": [
       "{a = 4} |- a not-in {1, 1 + 1, 3}"
      ]
     },
     "metadata": {},
     "output_type": "display_data"
    }
   ],
   "source": [
    "NotInSet(a, Set(one, Add(one, one), three)).conclude(assumptions=[Equals(a, four)])"
   ]
  },
  {
   "cell_type": "code",
   "execution_count": 63,
   "metadata": {},
   "outputs": [
    {
     "data": {
      "text/html": [
       "<span style=\"font-size:20px;\"><a class=\"ProveItLink\" href=\"../__pv_it/demonstrations/0253dbed1258e1c128ba9f6ec6b2a0640e2a18320/expr.ipynb\"><img src=\"data:image/png;base64,iVBORw0KGgoAAAANSUhEUgAAADAAAAAUCAMAAAD84U6VAAAAPFBMVEX///8AAAAAAAAAAAAAAAAA\n",
       "AAAAAAAAAAAAAAAAAAAAAAAAAAAAAAAAAAAAAAAAAAAAAAAAAAAAAAAAAAAo1xBWAAAAE3RSTlMA\n",
       "IquJdkTvuxBmmd1UzTLn9enzF+Xi+wAAAAlwSFlzAAAOxAAADsQBlSsOGwAAALFJREFUKM+VktkS\n",
       "wyAIRRF3XNKW///XxiQda2LiyAMjg8cLAsCTkYMpy7YNw4i3uZ4dUuIBkLGN1QiwYg7QJ4EKCJRK\n",
       "qAuQxA2gzZqxVY7CZsureLwCzvjt1lDgBxAXH+S5A4IbwJTpONZDgQNwXNr1/LcPpfb3Z+8EO0Bc\n",
       "PSaIzZOp8+VHSXZViIGgqTlSZzCSxb4kSmaBKg8EEA0n9P0hRzm31t0OnszPCoRJAcgPuS++iAXk\n",
       "5DVTgAAAAABJRU5ErkJggg==\n",
       "\" style=\"display:inline;vertical-align:middle;\" /></a>, <a class=\"ProveItLink\" href=\"../__pv_it/demonstrations/6bea360928de6ec1d21061661cc139b45a0a1d780/expr.ipynb\"><img src=\"data:image/png;base64,iVBORw0KGgoAAAANSUhEUgAAADEAAAAUCAMAAAATIyWrAAAAPFBMVEX///8AAAAAAAAAAAAAAAAA\n",
       "AAAAAAAAAAAAAAAAAAAAAAAAAAAAAAAAAAAAAAAAAAAAAAAAAAAAAAAAAAAo1xBWAAAAE3RSTlMA\n",
       "IquJdkTvuxBmmd1UzTLn9enzF+Xi+wAAAAlwSFlzAAAOxAAADsQBlSsOGwAAAM5JREFUKM+VU1kS\n",
       "wyAIFbVuqF24/10rZKZjqjWVDzIk8hYwSq0iBbUX1XcFpFR8vejoDwB3G7qtKXRXaODs3JoCusIR\n",
       "e9IEi4ZbT6E0SiYRCtpYsENHmcAhCZZrnzx9BplQ4v7grM/OiIGDi3LsLwoBSEKE5ttFmiz02I/j\n",
       "RxgGPaGIh8Qg0iJ1SKz/+TrcdD4yywBoHZmnVlQ+gZbhRlXRbdt73zgyJnXSnQcXgImDBxS0NRW0\n",
       "rWsKJInyY93ZbN7yCcVFxG0K3KVQyz/tDVi7BkJLzT4sAAAAAElFTkSuQmCC\n",
       "\" style=\"display:inline;vertical-align:middle;\" /></a>, <a class=\"ProveItLink\" href=\"../__pv_it/demonstrations/9193cf2d2da2f35428d04e71c05155cd5c6d25070/expr.ipynb\"><img src=\"data:image/png;base64,iVBORw0KGgoAAAANSUhEUgAAADEAAAAUCAMAAAATIyWrAAAAPFBMVEX///8AAAAAAAAAAAAAAAAA\n",
       "AAAAAAAAAAAAAAAAAAAAAAAAAAAAAAAAAAAAAAAAAAAAAAAAAAAAAAAAAAAo1xBWAAAAE3RSTlMA\n",
       "IquJdkTvuxBmmd1UzTLn9enzF+Xi+wAAAAlwSFlzAAAOxAAADsQBlSsOGwAAAM1JREFUKM+VklcS\n",
       "wyAMREH0YlJ0/7sG4YRg45EHfTA08XaFhOAierEWxQ0LqVR05ibDlf/cxzpkzDwChoWmyx43HiGH\n",
       "hbGkiM8wMG1lDLsnUFrq6XiT0xspfHn1yGEvZEwtHk8aB07RAK0U3oZ27R7xq1VEmid1VhCvvFmS\n",
       "YumbPJobRGmCXIV4JM8Bh9Yg/a/37qb7wGZ0zyBpsIl8eHQ7d5SFrspVRk5RHHTnyUUI/T88aFUk\n",
       "6MIiqBSR6cSsFrv8CsFHWEakVYQo3OEHpigGsxwS+bcAAAAASUVORK5CYII=\n",
       "\" style=\"display:inline;vertical-align:middle;\" /></a> <a class=\"ProveItLink\" href=\"../__pv_it/demonstrations/55d50e7446f2350f25a8f0356fb2c540bcf1726c0/proof.ipynb\" style=\"text-decoration: none\">&nbsp;&#x22A2;&nbsp;&nbsp;</a><a class=\"ProveItLink\" href=\"../__pv_it/demonstrations/231694ec46a6438b73175ce122b3633ea50160a60/expr.ipynb\"><img src=\"data:image/png;base64,iVBORw0KGgoAAAANSUhEUgAAAIIAAAAVCAMAAAC9vsY0AAAARVBMVEX///8AAAAAAAAAAAAAAAAA\n",
       "AAAAAAAAAAAAAAAAAAAAAAAAAAAAAAAAAAAAAAAAAAAAAAAAAAAAAAAAAAAAAAAAAAAAAAAeYafp\n",
       "AAAAFnRSTlMAIquJdkTvuxBmmd1UzTLp8+P355HBkdhaQwAAAAlwSFlzAAAOxAAADsQBlSsOGwAA\n",
       "AdxJREFUSMetVuvCwxAMJe6X+O7e/1E/dK1S1nWbP5v0SI4TCYTMB22nWgjyzkE9PcWg3s84Cv1W\n",
       "CiSA0meI/czHFR7cceHIljdqLarQ2Riz6qangvsUbKM7c0s2wGLswo1sSzSVF8bGj7ZlP37vdDra\n",
       "zxXNB+H4kAKUZEvZIlN0HfGMAlfOfXziqxRksULcHzshsyhnFATytBTC6yqUNRBD/8FH0zqlwDjl\n",
       "NYOlEjSSlyncEhoPe3SmdSpkEkpVH1h0M7w7nPgkhRA7T4HDqjBfjomWmZKtWcFBUyBUmicpuEHh\n",
       "rRVBl19bdHJsIyldGl/fzqlKAFCQRymsx/2mniLTg5rrGRMJqcqyLYQua5hvxbO1kZ2q4Gz9b3oN\n",
       "QsmBWhtD3pouqTKx6weHaqmN7EoifBaX7osyFuSNwtJydZkAku3S4ImTsL2zY0XocwqhpDeX+PZZ\n",
       "wi4RbDmOKkX0SbsaNKUHwpwCW1pNk3IWR7cedTYPtwcbc+wLGjgLFHjY9Xz1o2cUAGREyB7cdjVV\n",
       "W98RysAGLBKp9Zq606B//1KHdpMGXRN95fIegu9QQP0Iml15HAzBcwp0UMtc9hbNLzAYgy1OGfsB\n",
       "rdgbrzAYg7U0MzyMX0Dg3/t2ZIvDf8nsEiEhbbaEAAAAAElFTkSuQmCC\n",
       "\" style=\"display:inline;vertical-align:middle;\" /></a></span>"
      ],
      "text/plain": [
       "{a != 1, a != 2, a != 3} |- a not-in {1, 1 * 2, 3}"
      ]
     },
     "metadata": {},
     "output_type": "display_data"
    }
   ],
   "source": [
    "NotInSet(a, Set(one, Mult(one, two), three)).conclude(\n",
    "    assumptions=[NotEquals(a, one), NotEquals(a, two), NotEquals(a, three)])"
   ]
  },
  {
   "cell_type": "code",
   "execution_count": 64,
   "metadata": {},
   "outputs": [
    {
     "data": {
      "text/html": [
       "<span style=\"font-size:20px;\"><a class=\"ProveItLink\" href=\"../__pv_it/demonstrations/0253dbed1258e1c128ba9f6ec6b2a0640e2a18320/expr.ipynb\"><img src=\"data:image/png;base64,iVBORw0KGgoAAAANSUhEUgAAADAAAAAUCAMAAAD84U6VAAAAPFBMVEX///8AAAAAAAAAAAAAAAAA\n",
       "AAAAAAAAAAAAAAAAAAAAAAAAAAAAAAAAAAAAAAAAAAAAAAAAAAAAAAAAAAAo1xBWAAAAE3RSTlMA\n",
       "IquJdkTvuxBmmd1UzTLn9enzF+Xi+wAAAAlwSFlzAAAOxAAADsQBlSsOGwAAALFJREFUKM+VktkS\n",
       "wyAIRRF3XNKW///XxiQda2LiyAMjg8cLAsCTkYMpy7YNw4i3uZ4dUuIBkLGN1QiwYg7QJ4EKCJRK\n",
       "qAuQxA2gzZqxVY7CZsureLwCzvjt1lDgBxAXH+S5A4IbwJTpONZDgQNwXNr1/LcPpfb3Z+8EO0Bc\n",
       "PSaIzZOp8+VHSXZViIGgqTlSZzCSxb4kSmaBKg8EEA0n9P0hRzm31t0OnszPCoRJAcgPuS++iAXk\n",
       "5DVTgAAAAABJRU5ErkJggg==\n",
       "\" style=\"display:inline;vertical-align:middle;\" /></a>, <a class=\"ProveItLink\" href=\"../__pv_it/demonstrations/6bea360928de6ec1d21061661cc139b45a0a1d780/expr.ipynb\"><img src=\"data:image/png;base64,iVBORw0KGgoAAAANSUhEUgAAADEAAAAUCAMAAAATIyWrAAAAPFBMVEX///8AAAAAAAAAAAAAAAAA\n",
       "AAAAAAAAAAAAAAAAAAAAAAAAAAAAAAAAAAAAAAAAAAAAAAAAAAAAAAAAAAAo1xBWAAAAE3RSTlMA\n",
       "IquJdkTvuxBmmd1UzTLn9enzF+Xi+wAAAAlwSFlzAAAOxAAADsQBlSsOGwAAAM5JREFUKM+VU1kS\n",
       "wyAIFbVuqF24/10rZKZjqjWVDzIk8hYwSq0iBbUX1XcFpFR8vejoDwB3G7qtKXRXaODs3JoCusIR\n",
       "e9IEi4ZbT6E0SiYRCtpYsENHmcAhCZZrnzx9BplQ4v7grM/OiIGDi3LsLwoBSEKE5ttFmiz02I/j\n",
       "RxgGPaGIh8Qg0iJ1SKz/+TrcdD4yywBoHZmnVlQ+gZbhRlXRbdt73zgyJnXSnQcXgImDBxS0NRW0\n",
       "rWsKJInyY93ZbN7yCcVFxG0K3KVQyz/tDVi7BkJLzT4sAAAAAElFTkSuQmCC\n",
       "\" style=\"display:inline;vertical-align:middle;\" /></a>, <a class=\"ProveItLink\" href=\"../__pv_it/demonstrations/9193cf2d2da2f35428d04e71c05155cd5c6d25070/expr.ipynb\"><img src=\"data:image/png;base64,iVBORw0KGgoAAAANSUhEUgAAADEAAAAUCAMAAAATIyWrAAAAPFBMVEX///8AAAAAAAAAAAAAAAAA\n",
       "AAAAAAAAAAAAAAAAAAAAAAAAAAAAAAAAAAAAAAAAAAAAAAAAAAAAAAAAAAAo1xBWAAAAE3RSTlMA\n",
       "IquJdkTvuxBmmd1UzTLn9enzF+Xi+wAAAAlwSFlzAAAOxAAADsQBlSsOGwAAAM1JREFUKM+VklcS\n",
       "wyAMREH0YlJ0/7sG4YRg45EHfTA08XaFhOAierEWxQ0LqVR05ibDlf/cxzpkzDwChoWmyx43HiGH\n",
       "hbGkiM8wMG1lDLsnUFrq6XiT0xspfHn1yGEvZEwtHk8aB07RAK0U3oZ27R7xq1VEmid1VhCvvFmS\n",
       "YumbPJobRGmCXIV4JM8Bh9Yg/a/37qb7wGZ0zyBpsIl8eHQ7d5SFrspVRk5RHHTnyUUI/T88aFUk\n",
       "6MIiqBSR6cSsFrv8CsFHWEakVYQo3OEHpigGsxwS+bcAAAAASUVORK5CYII=\n",
       "\" style=\"display:inline;vertical-align:middle;\" /></a> <a class=\"ProveItLink\" href=\"../__pv_it/demonstrations/899e4c3fe83d5d0b55632bd61fe8bd488edf95fc0/proof.ipynb\" style=\"text-decoration: none\">&nbsp;&#x22A2;&nbsp;&nbsp;</a><a class=\"ProveItLink\" href=\"../__pv_it/demonstrations/8118bfd2dd2cb42695032a65c0db57e6f8900ee20/expr.ipynb\"><img src=\"data:image/png;base64,iVBORw0KGgoAAAANSUhEUgAAAI0AAAAVCAMAAABMtZ25AAAARVBMVEX///8AAAAAAAAAAAAAAAAA\n",
       "AAAAAAAAAAAAAAAAAAAAAAAAAAAAAAAAAAAAAAAAAAAAAAAAAAAAAAAAAAAAAAAAAAAAAAAeYafp\n",
       "AAAAFnRSTlMAIquJdkTvuxBmmd1UzTLp8+P355HBkdhaQwAAAAlwSFlzAAAOxAAADsQBlSsOGwAA\n",
       "AbhJREFUSMe9luuWxBAMgIlbUN2793/URadDUebMTtefOTJJfE0kQchg0eMWhSDXLLrQuZLDcsed\n",
       "wItoyAoKpyrlbvG7/mpby55sqkMZM+oWbwUTa3NIDLNbusA4X3ntyerV0UGTPnIp3Z+v4/9ZnXdO\n",
       "bmVCz3R4BEHvpjRcWfv27v5Cs/CZjpAx+FMa4Xiwg5VcS3O7jvrongLjtLClqZbQkX+gEVYf3QsZ\n",
       "il0Vmi4Vv668Gfd6mpXDngEut5stI50p0uY6zYZQqS/K1FZTdPs1PtUPy8DShvXxaa3KLOAEeZTG\n",
       "RHsrkxsLExoib1IEF3hkPBN9PgwTBFuOMTW5Wb4qNmtKktobTvxe9NFK+7rPNAWXm+WraHza32i2\n",
       "Vo9pA47kwcWDH2FqX21N4ZM0u6aEIlNsu8UqWC3WkOL4kMCq2RxomE/gexctZUOa2k7rtt8gcLZS\n",
       "4Gs5U9QXntEASO8gurD3KZhl5zQdO2HMfWqOJsP3TxgN9mQy5ANHk7KNzdBuROPwEXU2mrnt1Bza\n",
       "DWio6gxS2TwS+HNPq66dcefwS4fQ18InYbp2KM9D2X2HUQPLVe9itrn+BT7NEtgzzaCXAAAAAElF\n",
       "TkSuQmCC\n",
       "\" style=\"display:inline;vertical-align:middle;\" /></a></span>"
      ],
      "text/plain": [
       "{a != 1, a != 2, a != 3} |- a not-in {1, 1 + 1, 3}"
      ]
     },
     "metadata": {},
     "output_type": "display_data"
    }
   ],
   "source": [
    "# So do this one -- finding that when a!=1, a!=2, a!=3, then a not in {1, 1+1, 3}.\n",
    "NotInSet(a, Set(one, Add(one, one), three)).conclude(\n",
    "        assumptions=[NotEquals(a, one), NotEquals(a, two), NotEquals(a, three)])"
   ]
  },
  {
   "cell_type": "code",
   "execution_count": 65,
   "metadata": {},
   "outputs": [
    {
     "data": {
      "text/html": [
       "<span style=\"font-size:20px;\"><a class=\"ProveItLink\" href=\"../__pv_it/demonstrations/0253dbed1258e1c128ba9f6ec6b2a0640e2a18320/expr.ipynb\"><img src=\"data:image/png;base64,iVBORw0KGgoAAAANSUhEUgAAADAAAAAUCAMAAAD84U6VAAAAPFBMVEX///8AAAAAAAAAAAAAAAAA\n",
       "AAAAAAAAAAAAAAAAAAAAAAAAAAAAAAAAAAAAAAAAAAAAAAAAAAAAAAAAAAAo1xBWAAAAE3RSTlMA\n",
       "IquJdkTvuxBmmd1UzTLn9enzF+Xi+wAAAAlwSFlzAAAOxAAADsQBlSsOGwAAALFJREFUKM+VktkS\n",
       "wyAIRRF3XNKW///XxiQda2LiyAMjg8cLAsCTkYMpy7YNw4i3uZ4dUuIBkLGN1QiwYg7QJ4EKCJRK\n",
       "qAuQxA2gzZqxVY7CZsureLwCzvjt1lDgBxAXH+S5A4IbwJTpONZDgQNwXNr1/LcPpfb3Z+8EO0Bc\n",
       "PSaIzZOp8+VHSXZViIGgqTlSZzCSxb4kSmaBKg8EEA0n9P0hRzm31t0OnszPCoRJAcgPuS++iAXk\n",
       "5DVTgAAAAABJRU5ErkJggg==\n",
       "\" style=\"display:inline;vertical-align:middle;\" /></a>, <a class=\"ProveItLink\" href=\"../__pv_it/demonstrations/9193cf2d2da2f35428d04e71c05155cd5c6d25070/expr.ipynb\"><img src=\"data:image/png;base64,iVBORw0KGgoAAAANSUhEUgAAADEAAAAUCAMAAAATIyWrAAAAPFBMVEX///8AAAAAAAAAAAAAAAAA\n",
       "AAAAAAAAAAAAAAAAAAAAAAAAAAAAAAAAAAAAAAAAAAAAAAAAAAAAAAAAAAAo1xBWAAAAE3RSTlMA\n",
       "IquJdkTvuxBmmd1UzTLn9enzF+Xi+wAAAAlwSFlzAAAOxAAADsQBlSsOGwAAAM1JREFUKM+VklcS\n",
       "wyAMREH0YlJ0/7sG4YRg45EHfTA08XaFhOAierEWxQ0LqVR05ibDlf/cxzpkzDwChoWmyx43HiGH\n",
       "hbGkiM8wMG1lDLsnUFrq6XiT0xspfHn1yGEvZEwtHk8aB07RAK0U3oZ27R7xq1VEmid1VhCvvFmS\n",
       "YumbPJobRGmCXIV4JM8Bh9Yg/a/37qb7wGZ0zyBpsIl8eHQ7d5SFrspVRk5RHHTnyUUI/T88aFUk\n",
       "6MIiqBSR6cSsFrv8CsFHWEakVYQo3OEHpigGsxwS+bcAAAAASUVORK5CYII=\n",
       "\" style=\"display:inline;vertical-align:middle;\" /></a>, <a class=\"ProveItLink\" href=\"../__pv_it/demonstrations/7d626a32fccb760958840723d2e59c0b0e0d61ef0/expr.ipynb\"><img src=\"data:image/png;base64,iVBORw0KGgoAAAANSUhEUgAAADEAAAAUCAMAAAATIyWrAAAAPFBMVEX///8AAAAAAAAAAAAAAAAA\n",
       "AAAAAAAAAAAAAAAAAAAAAAAAAAAAAAAAAAAAAAAAAAAAAAAAAAAAAAAAAAAo1xBWAAAAE3RSTlMA\n",
       "IquJdkTvuxBmmd1UzTLn9enzF+Xi+wAAAAlwSFlzAAAOxAAADsQBlSsOGwAAAMJJREFUKM+VktkS\n",
       "wyAIRRGNu3bh//+1apq0oVbH++BkIIcrCMBI3sKasuEBPyFMZoGAEwueVzPCCFbBpTGx8bSEgxAo\n",
       "lVA/RGIWShzEpkvK0DlIH5pu93p+fISDN2G1a7/NLCQchKc2N8m7YKN34iR0fSZL29hi77MRluq3\n",
       "o6/VqPd/PPdu8BxcFWmUhYglgAnipWjqbpRuBUzxiMHD5d6xv0DUFs2iklmgylMLb4hQ9Z87ysUt\n",
       "/9PFQG7ZIqxaQB4lX6InBWuqIFHBAAAAAElFTkSuQmCC\n",
       "\" style=\"display:inline;vertical-align:middle;\" /></a> <a class=\"ProveItLink\" href=\"../__pv_it/demonstrations/1874d2fc6313b94b5b7a238d5e23b843bedff7ee0/proof.ipynb\" style=\"text-decoration: none\">&nbsp;&#x22A2;&nbsp;&nbsp;</a><a class=\"ProveItLink\" href=\"../__pv_it/demonstrations/2ea44fe4c57b4d39be52a8758d1d7f358447a3940/expr.ipynb\"><img src=\"data:image/png;base64,iVBORw0KGgoAAAANSUhEUgAAAI0AAAAVCAMAAABMtZ25AAAARVBMVEX///8AAAAAAAAAAAAAAAAA\n",
       "AAAAAAAAAAAAAAAAAAAAAAAAAAAAAAAAAAAAAAAAAAAAAAAAAAAAAAAAAAAAAAAAAAAAAAAeYafp\n",
       "AAAAFnRSTlMAIquJdkTvuxBmmd1UzTLp8+P355HBkdhaQwAAAAlwSFlzAAAOxAAADsQBlSsOGwAA\n",
       "AeRJREFUSMe1ltt24yAMRUFcDYh2pq3+/1MH8KRcbadJw0sWREdskJDM2Mng/dQqxV4zeODXRmjb\n",
       "mURlX0TDIhh7adLOAt3so5+Vq7Xh/M6hibPQ7b8GLvSuC4zwe7jAIQ07r9YmGJN90BRrD53749H/\n",
       "X83lYud5TW3dFEpmaD3q7qGRxvu3d3yGJshuqosBUJ+uccNLGoUySSGyX6SBIgcanLKJhoOQvNHy\n",
       "8pYsst+k+R986lV8olE63Z5pvGG5zW3w5vB5mkjdIk+pdaORe0ZZndPNNWHDRbFhXG/P03gY4lRp\n",
       "OIVy5nJ5XtQDaJ/Gn7/em8oCqNi9NC7rvS5uuv2d6TQbb2hSmcDEo7OJbQqBLRoRhiJVi+Wjd7P1\n",
       "N7On6jeNyOe1JZQbjXVmenC1WD5IE/L18/rCFeRBGkQt9bbEC5DVxiWTH+XG/eY3ZX9EE8umuXR0\n",
       "lvr2pvYsNkkVvGPN9imAEI9pxF7CLDU1QBA/p+He5eEHHSMzNB4pIgcZ275jPuwRDYAmhPzA/Hen\n",
       "rGuHNJ7KwE6X8poI5FVn+PxKrcEfdIa64VmnXFa/Y90ZDdp7zMVZzx265pXuhIabRSMd2y+z8rFP\n",
       "q6XO4TF8WBDSuPggzFJn9fFVwvrjDcKrvovF7vofu7YR0OKpITAAAAAASUVORK5CYII=\n",
       "\" style=\"display:inline;vertical-align:middle;\" /></a></span>"
      ],
      "text/plain": [
       "{a != 1, a != 3, a != 4} |- a not-in {1, 1 + 2, 4}"
      ]
     },
     "metadata": {},
     "output_type": "display_data"
    }
   ],
   "source": [
    "NotInSet(a, Set(one, Add(one, two), four)).conclude(\n",
    "        assumptions=[NotEquals(a, one), NotEquals(a, three), NotEquals(a, four)])"
   ]
  },
  {
   "cell_type": "markdown",
   "metadata": {},
   "source": [
    "### `NotInSet.conclude_as_folded()`\n",
    "\n",
    "Attempt to conclude x not in S via Not(x in S)."
   ]
  },
  {
   "cell_type": "code",
   "execution_count": 66,
   "metadata": {},
   "outputs": [
    {
     "data": {
      "text/html": [
       "<span style=\"font-size:20px;\"> <a class=\"ProveItLink\" href=\"../__pv_it/demonstrations/4854163dd8e79368359ddae27fe18598e771c4e10/proof.ipynb\" style=\"text-decoration: none\">&nbsp;&#x22A2;&nbsp;&nbsp;</a><a class=\"ProveItLink\" href=\"../__pv_it/demonstrations/afc434f733be884f603e141c91b504a0b7e8b4d60/expr.ipynb\"><img src=\"data:image/png;base64,iVBORw0KGgoAAAANSUhEUgAAAGgAAAAVCAMAAACdfluMAAAAP1BMVEX///8AAAAAAAAAAAAAAAAA\n",
       "AAAAAAAAAAAAAAAAAAAAAAAAAAAAAAAAAAAAAAAAAAAAAAAAAAAAAAAAAAAAAADFBd4eAAAAFHRS\n",
       "TlMAiXaZIs1UEN1mu6syRO/p8+P3nVnUXQcAAAAJcEhZcwAADsQAAA7EAZUrDhsAAAHESURBVEjH\n",
       "nZZbsuMgDER5SyDg3smw/7WOwZjwiscVPuJCRhxoq1Vh7ONQ4xRCYF8MZdT/lmjoZ0IH+AbEPLkr\n",
       "kXMh1WZBPzOpYTxORCWldn6KcS5dlcDVnbQ5dMGFJAelOFYBSeo0gpTL79OwHGQ5nOlzbXlwN4OQ\n",
       "7UBZxAlE5YwxDkJnBiTd554XM0O2cPjzi/oZKJY5pV6TEPMFR1CSRfh6zbJKC2DkH9+ovKLkZ01M\n",
       "sl0uXCDbNM/lBpo9BVWl0xwJaPtclfgJEq2sswZWTKWh70Fdfg0IukQRcQDxBlpNxFS09yCkNXZV\n",
       "nSpPOAmhnchHRPzzOn5aISrSgd2CpNt5NdaVQNlC5zcyrRig2MKMOkgHdyA738cX1dxlpHJOVw5j\n",
       "39m4mKhz9xZksiiqL+9U1lRQtY6N88cWLMgZtKm6d08q4gvoQpE66Xj1MmYTx84F2pC/AfHTmpfv\n",
       "mUKZB3YhZu3io9yXuBh2BnotnbqBiGLSlHfA2lwxlaG70FFcB/pqqhw/dXb7l7uj6j60oPengSeh\n",
       "O5CGR4v5o9ANSG1MIeISAvEkNBbadAKzgacluNl0y4Guq4yDtteUZL76z8DPvH9yJQ9nsh+zvQAA\n",
       "AABJRU5ErkJggg==\n",
       "\" style=\"display:inline;vertical-align:middle;\" /></a></span>"
      ],
      "text/plain": [
       "|- 0 not-in {1, 2, 3}"
      ]
     },
     "metadata": {},
     "output_type": "display_data"
    }
   ],
   "source": [
    "NotInSet(zero, Set(one, two, three)).conclude_as_folded()"
   ]
  },
  {
   "cell_type": "code",
   "execution_count": 67,
   "metadata": {},
   "outputs": [
    {
     "data": {
      "text/html": [
       "<span style=\"font-size:20px;\"><a class=\"ProveItLink\" href=\"../__pv_it/demonstrations/ea68d40a0896daafe2892a41d1dc9b45c56931340/expr.ipynb\"><img src=\"data:image/png;base64,iVBORw0KGgoAAAANSUhEUgAAAIYAAAAVBAMAAABxpYtPAAAAMFBMVEX///8AAAAAAAAAAAAAAAAA\n",
       "AAAAAAAAAAAAAAAAAAAAAAAAAAAAAAAAAAAAAAAAAAAv3aB7AAAAD3RSTlMAmd0iq3ZUiRDNZu9E\n",
       "uzLWhN+VAAAACXBIWXMAAA7EAAAOxAGVKw4bAAACMElEQVQ4y2NgQAADBmyA4wwDDsCcDCJQhFgT\n",
       "sKqMPIHLDIYnNxgYeAKQRdKxqmP7wcDQuwmLxMuNDAxXgHQUspsnYDWDXQFITMQm842BoQhIcTYg\n",
       "hBgX4DbjGxYJnh8QM7gEEGLcKCpilZQmwM0AKcdqOMgMhh0IsUxkBScjkJWC3YIOOAWgZsxCiImD\n",
       "Iso9GBzMzDNQrON0DYHGGXvoOgjDpPR9AtSMEoQZIONOG/CCnc2JSCqMQC/1z+D4DEkRagyykMDY\n",
       "zHAfGJbRIPZKBiElIFAEMtWAUbOLgRHsbE6E0dbAoM5vYNgK5jAVQBndCxgkgZQ9yHnZUJcB8R6g\n",
       "nR9AqoDgNcjgC2CZOUACqPw7WJ08LB7lGRjUQenBE2jIexQzuC8w9B8A8XvhzuCTbQAp54HE7l6Y\n",
       "8F4Gjj+g4AHZcBphBtAv/QEM6yFuRviF1wGUPBjBwcTxFZYevzJwfWAAe5KBIQkiZgjEV4FmJDB4\n",
       "soGCkzUAJV7+gfwPUv4LGJogBsc3BpYJwBxXDVKxFmEhMIp4A9gUGcGcaShmeDFcZOD4CeQAI6UO\n",
       "zLjKkCQASx/iCDMeAY13rTOJA3Na7jQgmdFSCIwcJaAIe9XSBjCjJfyx6wOoGToIM5geIKfC45eQ\n",
       "0jokAzegMyBmMCMlYuS8g57nwAwGdAbEDJS8ehmrGawboIxWBnQGOOEw2CKr7sVe4MHyPTyqEHEG\n",
       "TNdoVjMHYDXE0A1neVoCTKWsBgwAltt2iJUIJ+QAAAAASUVORK5CYII=\n",
       "\" style=\"display:inline;vertical-align:middle;\" /></a> <a class=\"ProveItLink\" href=\"../__pv_it/demonstrations/b6200702195bc77945a6c67a1190e7b0ea87340e0/proof.ipynb\" style=\"text-decoration: none\">&nbsp;&#x22A2;&nbsp;&nbsp;</a><a class=\"ProveItLink\" href=\"../__pv_it/demonstrations/3dc4c50e651be99302c77ddfc01ead7b6fcc1dcd0/expr.ipynb\"><img src=\"data:image/png;base64,iVBORw0KGgoAAAANSUhEUgAAAGcAAAAVCAMAAABsdQABAAAARVBMVEX///8AAAAAAAAAAAAAAAAA\n",
       "AAAAAAAAAAAAAAAAAAAAAAAAAAAAAAAAAAAAAAAAAAAAAAAAAAAAAAAAAAAAAAAAAAAAAAAeYafp\n",
       "AAAAFnRSTlMAIquJdkTvuxBmmd1UzTLp8+P355HBkdhaQwAAAAlwSFlzAAAOxAAADsQBlSsOGwAA\n",
       "AbJJREFUSMeVVVmWhCAMZAkQwTg79z/qINCyiErz0086qSJFJTB2vXj7iUqxtxdf+WMMYf0FpPB9\n",
       "HrYJg08R9dfqYzga7WYZSNv914j7ONvIJF/wZKdr8WuTebHav4/olDyzVJLghgeMcx+fNOLJyTMr\n",
       "p1zyKIKAJbZhPdJNy5YVPjK4kMChWDH6DGl4OEYCQHTSSYClPdUOuWWFDyV0sLgpclB0/AKdKxIv\n",
       "+nAK9HVTcBfwrGkUqSFBp0y97DBFDho0D+Mx6mVvXR/CyX4nQ2ZFeKrL+iM42V67sL6+nTOVDKTq\n",
       "srysCj0bo4NEQYFJmyjH0SwY4WV7BZvNXR2TVe1tbU4G6CDlfkj0e8WL7/rm5Krc1ZGhLiHlt4Ow\n",
       "hUxSY8wUxI6BByFK2Ytm8NtL/heVTxenyk4HKZMPTIBdnWUFOajZNU/hEQHV2GS8fBlJ563sdJA5\n",
       "EwXIjQsoyCjMD17woJA2FeBcjpFyWfbGLjst5E1n//6FweOGc6ea4Pi888BDOBEt2fPOPQ83g9Gq\n",
       "e1edfQbj94UuB+1g9PP+PTiDjmkwT5LBGj6A3Irpl6fKkinrH/3FDptHG1jPAAAAAElFTkSuQmCC\n",
       "\" style=\"display:inline;vertical-align:middle;\" /></a></span>"
      ],
      "text/plain": [
       "{[not](a in {b, c, d})} |- a not-in {b, c, d}"
      ]
     },
     "metadata": {},
     "output_type": "display_data"
    }
   ],
   "source": [
    "NotInSet(a, Set(b, c, d)).conclude_as_folded(assumptions=[Not(InSet(a, Set(b, c, d)))])"
   ]
  },
  {
   "cell_type": "code",
   "execution_count": 68,
   "metadata": {},
   "outputs": [
    {
     "data": {
      "text/html": [
       "<span style=\"font-size:20px;\"><a class=\"ProveItLink\" href=\"../__pv_it/demonstrations/fd549569c8f48a38cc8bfed22be04fdc683f6e970/expr.ipynb\"><img src=\"data:image/png;base64,iVBORw0KGgoAAAANSUhEUgAAADIAAAAUCAMAAAD4FJ6oAAAAPFBMVEX///8AAAAAAAAAAAAAAAAA\n",
       "AAAAAAAAAAAAAAAAAAAAAAAAAAAAAAAAAAAAAAAAAAAAAAAAAAAAAAAAAAAo1xBWAAAAE3RSTlMA\n",
       "IquJdkTvuxBmmd1UzTLn9enzF+Xi+wAAAAlwSFlzAAAOxAAADsQBlSsOGwAAALdJREFUKM+VkkkS\n",
       "AyEIRXGezeD975pWk2paO1iycAEfHl8FoMJb2IxspkzSnmwxec6VSEL4nFOF3NWwOScC1aFuIJC6\n",
       "FcaFZHKuDpAqy92K0kfNnDv60OLxrOdJQjKrXdMtIF9ZakNLPYMYnQz3j2W6vpctauEEyWypxl1B\n",
       "86qH17s7+nnBMtvugCeIl7FpeLGLzBztMXi47B6nn4RllkuRGZeZgvyRYYjY/fQ3kFW4fUjYhkAm\n",
       "qx/yyAZnNhKNiQAAAABJRU5ErkJggg==\n",
       "\" style=\"display:inline;vertical-align:middle;\" /></a>, <a class=\"ProveItLink\" href=\"../__pv_it/demonstrations/636b551eaa2c463238c85b046347f565e22cd1360/expr.ipynb\"><img src=\"data:image/png;base64,iVBORw0KGgoAAAANSUhEUgAAADAAAAAUCAMAAAD84U6VAAAAPFBMVEX///8AAAAAAAAAAAAAAAAA\n",
       "AAAAAAAAAAAAAAAAAAAAAAAAAAAAAAAAAAAAAAAAAAAAAAAAAAAAAAAAAAAo1xBWAAAAE3RSTlMA\n",
       "IquJdkTvuxBmmd1UzTLn9enzF+Xi+wAAAAlwSFlzAAAOxAAADsQBlSsOGwAAALtJREFUKM+Vk9kS\n",
       "gyAMRQMJSNi68P//2qBTWnTUSR4YlSvnZgHgKmIAVdRFp4elKgFWCzA6vTsFGItk6PC57AFIxD0r\n",
       "52VnaaOCMa3xePb1RzEpy57ULXheVXeAhLJ4MRLbeJ0yiLseDgu+dyc0dwPw3yaG1tPl9ndW9/56\n",
       "b5nYSbY9SS5gC+TpyLKfosabU6mP/JpThMlzjoc5XC2hlDVYwmos1UuAaJGZzqY3o3KKivIesBaQ\n",
       "lAC4ujcfd/IFINnKg08AAAAASUVORK5CYII=\n",
       "\" style=\"display:inline;vertical-align:middle;\" /></a>, <a class=\"ProveItLink\" href=\"../__pv_it/demonstrations/05b93f272fdc259baa4e5cb0290fa502430650640/expr.ipynb\"><img src=\"data:image/png;base64,iVBORw0KGgoAAAANSUhEUgAAADMAAAAUCAMAAAAX1vWWAAAAPFBMVEX///8AAAAAAAAAAAAAAAAA\n",
       "AAAAAAAAAAAAAAAAAAAAAAAAAAAAAAAAAAAAAAAAAAAAAAAAAAAAAAAAAAAo1xBWAAAAE3RSTlMA\n",
       "IquJdkTvuxBmmd1UzTLn9enzF+Xi+wAAAAlwSFlzAAAOxAAADsQBlSsOGwAAANJJREFUOMuVk9kO\n",
       "AyEIRRUXXNAu/v+/Vmdq21GDKQ/GoHK4gEJwFpz41zLOUZTi42AePQqyJRYDk8uSQZaDcvSYshFo\n",
       "ZoyKfSdBaamnC2nEeLARwhnP1kP8UkM87HZv65VV3pGd9cfFLaYmVN6FDKWtUY1qwqyQSi9fa5wr\n",
       "Zo/5lMAdOfry0+qm4/E8VV30IPQ3ra+QBF0Cp1UjbC8u1g3FIC7500JNLUEX4ECrLEHnLYYKNwKk\n",
       "lj8DuDcLDIFI3ET7BSaiSxwmLtR4HST7cfiBfwHD2gXhDX102wAAAABJRU5ErkJggg==\n",
       "\" style=\"display:inline;vertical-align:middle;\" /></a> <a class=\"ProveItLink\" href=\"../__pv_it/demonstrations/ad440d055091174368b507e5c3b3d1990ab9a1560/proof.ipynb\" style=\"text-decoration: none\">&nbsp;&#x22A2;&nbsp;&nbsp;</a><a class=\"ProveItLink\" href=\"../__pv_it/demonstrations/8a0f761b23ffb3b5229871f051d5106d3764330c0/expr.ipynb\"><img src=\"data:image/png;base64,iVBORw0KGgoAAAANSUhEUgAAAGoAAAAVCAMAAACZi4uxAAAAP1BMVEX///8AAAAAAAAAAAAAAAAA\n",
       "AAAAAAAAAAAAAAAAAAAAAAAAAAAAAAAAAAAAAAAAAAAAAAAAAAAAAAAAAAAAAADFBd4eAAAAFHRS\n",
       "TlMAIquJdkTvuxBmmd1UzTLp8+P3nYVkb20AAAAJcEhZcwAADsQAAA7EAZUrDhsAAAGxSURBVEjH\n",
       "nVXpdu4gCHTBXey9re//rI1ZPnFLcuqPnDgZhOAAjK0Xb7dWKfaXxSN/5KClO0Bl/+SKJWHsE4Pu\n",
       "Yqb0hNq/cOKl3K2MeOA1+ZKh/Zrjsycpko4z4361nzu2yi+yqaM6UnfnCkz4+hdw7eopzjacNVsh\n",
       "WCbS3dn44qqqyeeNCwkciDqL9Cyu7Ao99VclAVwbmxM6CN8aK73p3pDcY6kDB51ILtcDvXgPm2dv\n",
       "ur/KnyNAH5WpXTmJ5AfHomJ8Z1V6+89BFhF0wfGc6uueBJ8/5LNmdAjh//f2MDVneCl/oO/YTI4x\n",
       "k04jcHOmy4E21yKyBZDtXSR/FfxAv7AbVWzvJVS7Z9TlrqAGdZ4FP6GfGFtY1FZj9zQKZLUpAjDl\n",
       "FzE29Ctt+bhHVRHW3p08ZGE2JAbPyOEYu6Ii6SB0m09xHNqTqSK7FNQQpwCZuIBEL/F76OKXK0oP\n",
       "4WRJ6RxYirSquOkt7keaTYH41ImiXSNevHKF9lZPFVwhUTCMb1zxiXjPgm/nMqyQYJrG1lU8DW0y\n",
       "i/hkQMESceDJlLdXqxnXdGZyL15Mw5mhPAx/Ac+dDeVjpsZBAAAAAElFTkSuQmCC\n",
       "\" style=\"display:inline;vertical-align:middle;\" /></a></span>"
      ],
      "text/plain": [
       "{a != d, a != c, a != f} |- a not-in {d, c, f}"
      ]
     },
     "metadata": {},
     "output_type": "display_data"
    }
   ],
   "source": [
    "# This is an interesting example\n",
    "NotInSet(a, Set(d, c, f)).conclude_as_folded(assumptions=[NotEquals(a, c), NotEquals(a, d), NotEquals(a, f)])"
   ]
  },
  {
   "cell_type": "markdown",
   "metadata": {},
   "source": [
    "### `NotInSet.shallow_simplification()`\n",
    "\n",
    "Attempt to evaluate whether some x ∉ S is TRUE or FALSE using the 'definition' method of the domain's 'nonmembership_object' if there is one."
   ]
  },
  {
   "cell_type": "code",
   "execution_count": 69,
   "metadata": {},
   "outputs": [
    {
     "data": {
      "text/html": [
       "<span style=\"font-size:20px;\"> <a class=\"ProveItLink\" href=\"../__pv_it/demonstrations/d4447122d5f025b1d5c38c93dffc69800f7a4f900/proof.ipynb\" style=\"text-decoration: none\">&nbsp;&#x22A2;&nbsp;&nbsp;</a><a class=\"ProveItLink\" href=\"../__pv_it/demonstrations/27e39001496327b52f9db02ede1227e9bdfa0d260/expr.ipynb\"><img src=\"data:image/png;base64,iVBORw0KGgoAAAANSUhEUgAAALYAAAAVCAMAAADcpuR2AAAAP1BMVEX///8AAAAAAAAAAAAAAAAA\n",
       "AAAAAAAAAAAAAAAAAAAAAAAAAAAAAAAAAAAAAAAAAAAAAAAAAAAAAAAAAAAAAADFBd4eAAAAFHRS\n",
       "TlMAInZUiRDNmWbv3US7qzLp8+P3ndw5NuIAAAAJcEhZcwAADsQAAA7EAZUrDhsAAAKPSURBVEjH\n",
       "rZfZdtwgDEABs4Nom/L/31rA2CwWiUnDw5wZmREX7SYkLUrWa34mnCM/s+hBV4e8Wuz45KEU417p\n",
       "xP/RhnL5DBrAV12O7es5eLmwUtKH5yEw7o0XdLAYflCjQTlXfvKOiVLa+md/aWf6K0plu5X+JmQ5\n",
       "wKcPHh8BoEYJt2ekgJIRw7bDLYUqNx2daU20XAzqnk5dmvh2iyoXhRJexjw4CIad7YNhsxGbZWIR\n",
       "5bAHUHVabWKb6rpMAbFPDubtr99WvscOWg7YzmRfvcImRmxhH6dSKAogtuh2kgkCYcfanIzYNR30\n",
       "G2ypt7AV70MitmzK0SYk2cBmFMF2duIBzfhljQ6bwxZ2f8sQWyGSOVz0XJiUXGPTpGnGDgxmh+Wi\n",
       "R2vus5ZLWq5qBoptD7wOSCy/qdFr7Ow2NEiQtuBPM9P27DBb1jatwinfmcmkq/75SB9NSEE6ssTW\n",
       "FMeu2T55rea+AHlcnv4mtu6PFKWOH3Mz8WKFTYvCETuU+PCDub08sc/Q4bch3J617yApzZLSvmDb\n",
       "p3Nhhe0gr2igS/FY9ozYppasqemSw27Ftq9fQjmONWsy4p4t4FlJRngDvez8VYJE9BmQZGfo8S4l\n",
       "/Za1a+GhVuXV2VceED7B5md0Tj0w+l6m9VW32zaqSgURcwEcCvHX2MHWil1WxyDg4znsXecApIkI\n",
       "MpXtRirlYwTWyVyyxDlKtW1pZgP1mEmIfTUPu7uS2bDYov9yn6Jr0dybAZCujMiwbZ06ajfn1uUQ\n",
       "gw1lCDbmXP5K1KtTehObePzdgmI5wh5lSiATPiIT6IvA3XSp36U+SzRiCeydhz5aHobDXonSyXfT\n",
       "9d94LaOoTny0oQqOn3qX5Lcqtkv9D7VLFad3didbAAAAAElFTkSuQmCC\n",
       "\" style=\"display:inline;vertical-align:middle;\" /></a></span>"
      ],
      "text/plain": [
       "|- (2 not-in {1, 4, 3, 5}) = TRUE"
      ]
     },
     "metadata": {},
     "output_type": "display_data"
    }
   ],
   "source": [
    "# A simple nonmembership claim can be deduced using shallow_simplification\n",
    "NotInSet(two, Set(one, four, three, five)).shallow_simplification(must_evaluate=True)"
   ]
  },
  {
   "cell_type": "code",
   "execution_count": 70,
   "metadata": {},
   "outputs": [
    {
     "data": {
      "text/html": [
       "<span style=\"font-size:20px;\"> <a class=\"ProveItLink\" href=\"../__pv_it/demonstrations/7eb0e305fdc8a5bbdb7df34cadaf1627058c55b70/proof.ipynb\" style=\"text-decoration: none\">&nbsp;&#x22A2;&nbsp;&nbsp;</a><a class=\"ProveItLink\" href=\"../__pv_it/demonstrations/6ce29a1096ca75fd8c7cece6f01bf34788cd951d0/expr.ipynb\"><img src=\"data:image/png;base64,iVBORw0KGgoAAAANSUhEUgAAAMYAAAAVCAMAAAAq72HuAAAAP1BMVEX///8AAAAAAAAAAAAAAAAA\n",
       "AAAAAAAAAAAAAAAAAAAAAAAAAAAAAAAAAAAAAAAAAAAAAAAAAAAAAAAAAAAAAADFBd4eAAAAFHRS\n",
       "TlMAInZUiRDNmWbv3US7qzLp8+P3ndw5NuIAAAAJcEhZcwAADsQAAA7EAZUrDhsAAAJZSURBVFjD\n",
       "tVfZluQgCHXftWd6/P9vHWMS0ajVMdXlQ50614BcQECE0sJovq573Fr0mYUpnh16axH6YlPw9lth\n",
       "+YdooODdoduSdWnKsgOkFC4MVLffxpNEMD2dEdY6nDHp7Bxz52lE/WS1NNVKYlxkZS79sNgljGwR\n",
       "ZvbM8lLEi8kj7JqQMnuCTrFDfZ8E0xCUsMlM3Od01Pr6nUEjGpu/Bib3mFXtfrKWRzHFQL2SizR2\n",
       "y3W2wMf6chFnvv4Y8Q4N2iS51VtsWxoNBuqR5ks06K7AZwU+wu2wgnDkw3vRoP1dpVFNsYqGUEs0\n",
       "JKtTKMLN27KTC/TbNKzp7StYRYP5JRo16xDhVLGll7paIcV7NALx1wDXGIG7qcS0KI30m6pu1N+I\n",
       "Ub3AWv1CUtEphmGP6qVoaKio0lUu0on53+/0AyD2wqK7NHYXat27UA8kT4x7Qc/MeEhD1Yfx3Ecu\n",
       "fgvS8XeiEXLuuCYcLcaKo+xaNEpS5WaOcd0wTCdW2uwjGjHvtzQaDIYERM3S3XDHn5ArFgFvE2T7\n",
       "FtRXKr5AQ/uSQHyAJfXVFXdL0TgKGzZyW5X/BfXhBQ22d8qmJ7OIX9JQ6uwRIAZYW3CbRvAzjWCO\n",
       "jpGXqGek736YPc/xXkfht7NNGQcBm1Yqmzy1j4EgBlhDw9x6D8CwY8LkE/WPuZSMk2EELOW3Zp5b\n",
       "YqAem8U5fTqEjYbMAQ12z1u3xEC9VIs0kBu/tfDojpGuDPIHL5ypWBkSsFvXOBZhozch7lrwMxZj\n",
       "MV6GBPfgGYuHOsejGZaefuotzopqssriP1rtFpPZ5ASUAAAAAElFTkSuQmCC\n",
       "\" style=\"display:inline;vertical-align:middle;\" /></a></span>"
      ],
      "text/plain": [
       "|- (2 not-in {1, 1 + 3, 3}) = TRUE"
      ]
     },
     "metadata": {},
     "output_type": "display_data"
    }
   ],
   "source": [
    "# A simple nonmembership claim can be deduced using shallow_simplification\n",
    "# Notice we can evaluate 1+3 to find 1+3 != 2, but we leave the 1+3\n",
    "NotInSet(two, Set(one, Add(one, three), three)).shallow_simplification(must_evaluate=True)"
   ]
  },
  {
   "cell_type": "code",
   "execution_count": 71,
   "metadata": {},
   "outputs": [
    {
     "data": {
      "text/html": [
       "<span style=\"font-size:20px;\"> <a class=\"ProveItLink\" href=\"../__pv_it/demonstrations/daa819ad6561cf02632e92b44422c017a1970f7e0/proof.ipynb\" style=\"text-decoration: none\">&nbsp;&#x22A2;&nbsp;&nbsp;</a><a class=\"ProveItLink\" href=\"../__pv_it/demonstrations/3f41701e8914e7ccd99187754766a2a9d94121950/expr.ipynb\"><img src=\"data:image/png;base64,iVBORw0KGgoAAAANSUhEUgAAAMYAAAAVCAMAAAAq72HuAAAAP1BMVEX///8AAAAAAAAAAAAAAAAA\n",
       "AAAAAAAAAAAAAAAAAAAAAAAAAAAAAAAAAAAAAAAAAAAAAAAAAAAAAAAAAAAAAADFBd4eAAAAFHRS\n",
       "TlMAInZUiRDNmWbv3US7qzLp8+P3ndw5NuIAAAAJcEhZcwAADsQAAA7EAZUrDhsAAAJMSURBVFjD\n",
       "tZdZduQgDEWZZ0i6mv2vtT0CMiJtXCk+klPPSHBBCEHI0igZt+s36T35TKOcjga91Rj/4aOSsK/y\n",
       "8kMYJMVw+PZs3pqL4kcjrmHffEIk1+NgGlxwIXTwYy2cozFzb+6+9JOqiC52/TQcVLjdJmqVL1PG\n",
       "tGtA6m0l+FA73PdBMNyCsm26ADEEwxEMY+2MTLnXvIHfl9nKrIZadW/0JIYtIWEUxGDBfX079Q4G\n",
       "B0Hu7bq3EANo1T2xcgqDF6eCAAyvmCQxvbcbvD+rPJuh1mAoM4WhzwPOKMCga3RKRX4bw7t+fkVr\n",
       "MEScwjip6fK/xVBr7jbXWWj1HkZi8brBrcZKhBNTV1C7pkXcv+NnSF0wsHxBrfmFoOJDjdZv3E7t\n",
       "ht0zqqEQI9mF/M9r+RMqRFSe3MXYl9DafgktYnlqMqoDJOUHGHT72WDIdfbism5JB/nObqQtdgLY\n",
       "DqiJslB+bjf2oPJxbdlG0V4YrjMr1+wjjLx9hxhAq0UC4W7qbIRmINv0YYz4/grqM5WcwNj9bwEk\n",
       "EW1x3xzxMLUbbWLLraniXU5pMUTeylBwJx/aEMOY846oZlWDCbdcBPcwUrHUIefImhrp1Rez5zgx\n",
       "2qziOrYr5WDVhpnKa32UgdWsagDD/ec9cE0hLg06mr8iLF0GxUidqbxV89wyq+6pm6zTh0UYVmQi\n",
       "GOJeIX3LrLrXZhKDBPytRbEzxro0KB+8cIZmpUigYd4jbiKwNyHtruBnFLiZLEVCePCMpahPvDSj\n",
       "OvJPvcVFcc1mKf4B7zsWHyvzyLgAAAAASUVORK5CYII=\n",
       "\" style=\"display:inline;vertical-align:middle;\" /></a></span>"
      ],
      "text/plain": [
       "|- (4 not-in {1, 1 + 3, 3}) = FALSE"
      ]
     },
     "metadata": {},
     "output_type": "display_data"
    }
   ],
   "source": [
    "# And we should be able to shallow_evaluate a False claim\n",
    "NotInSet(four, Set(one, Add(one, three), three)).shallow_simplification(must_evaluate=True)"
   ]
  },
  {
   "cell_type": "code",
   "execution_count": 72,
   "metadata": {},
   "outputs": [
    {
     "name": "stdout",
     "output_type": "stream",
     "text": [
      "EvaluationError: Evaluation of (a != 1) and (a != (1 + 3)) and (a != 3) under assumptions {} is not known\n"
     ]
    }
   ],
   "source": [
    "# We should not be able to shallow_evaluate a claim of unknown verity\n",
    "try:\n",
    "    NotInSet(a, Set(one, Add(one, three), three)).shallow_simplification(must_evaluate=True)\n",
    "    assert False, \"Expecting an EvaluationError; should not make it this far!\"\n",
    "except EvaluationError as the_error:\n",
    "    print(\"EvaluationError: {}\".format(the_error))"
   ]
  },
  {
   "cell_type": "code",
   "execution_count": 73,
   "metadata": {},
   "outputs": [
    {
     "data": {
      "text/html": [
       "<span style=\"font-size:20px;\"><a class=\"ProveItLink\" href=\"../__pv_it/demonstrations/e5cdb7b0875a7582d01503bca5f5fa09e5049d610/expr.ipynb\"><img src=\"data:image/png;base64,iVBORw0KGgoAAAANSUhEUgAAADEAAAAPBAMAAAC/wjryAAAAMFBMVEX///8AAAAAAAAAAAAAAAAA\n",
       "AAAAAAAAAAAAAAAAAAAAAAAAAAAAAAAAAAAAAAAAAAAv3aB7AAAAD3RSTlMAIquJdkTvuxBmmd1U\n",
       "zTKBpmoTAAAACXBIWXMAAA7EAAAOxAGVKw4bAAAAlklEQVQY02NgwAL4GBgaGbACtr+3d2CX4c7f\n",
       "3IBdhokBFyAow6js6IAuM8XoAZAKE2D/AeKu3g0Cm0BM9gbGrwwMHJkMXBswDaxmYOD6wMBtgCmz\n",
       "XoCBrYChPwBNuBYo84Ch34FhPgOaPdkMDPoMDP0HGHR5BFD1AE1PB7rDgWcXF5ppUgwsGUC3qdgJ\n",
       "+aHJMK7SamAAAIHBIv7zLODoAAAAAElFTkSuQmCC\n",
       "\" style=\"display:inline;vertical-align:middle;\" /></a> <a class=\"ProveItLink\" href=\"../__pv_it/demonstrations/25e7913c6453bc51ed70d183446ccdd4091812820/proof.ipynb\" style=\"text-decoration: none\">&nbsp;&#x22A2;&nbsp;&nbsp;</a><a class=\"ProveItLink\" href=\"../__pv_it/demonstrations/c997a3a44b58cd9c0ea049c49850a0768912cb9b0/expr.ipynb\"><img src=\"data:image/png;base64,iVBORw0KGgoAAAANSUhEUgAAAMcAAAAVCAMAAADFLQrQAAAARVBMVEX///8AAAAAAAAAAAAAAAAA\n",
       "AAAAAAAAAAAAAAAAAAAAAAAAAAAAAAAAAAAAAAAAAAAAAAAAAAAAAAAAAAAAAAAAAAAAAAAeYafp\n",
       "AAAAFnRSTlMAInZUiRDNmWbv3US7qzLp8+P355HBP3RuygAAAAlwSFlzAAAOxAAADsQBlSsOGwAA\n",
       "Ak9JREFUWMO1l+mC3CAIgL3w1m23re//qM2p0Ug2Zmb8FyLIJ4hIyDQouRjNT3COfGZQTpE1bw7G\n",
       "r/5KqOZKBx/iIDH4zbZjD9S5uDZezU07RbRnnp6s2XMhlHeoyO+LMf2j28oexqQH8np6taqwa3IF\n",
       "JVPjc0/WDlDLXnBMtJk/ZcFFEHLk1DW6JR2Oecc6Pp9lTjcTJn8hSUxUzGs1ymHwc+Ot/folX+Hg\n",
       "daI7M0e34qhExTwxMMbBsbRykk2mQiRv5NjOmMZEBw6pxzjUfsppEIyWZemSoe3heQOHsxoVHThE\n",
       "GOPYuZ2ZirYvjsilhuvGDyVf5IgsNCE+ilhJci3RytRdwK6VAoxeNEpce2WDGv2OvOKYiJZf3IzF\n",
       "w6x1VaUFKl8l0czwv7+t9YUiSEfucqybaExnE81ZdRdBkBtJTI84zOwupOwnLO6Leuei8vBSPOKS\n",
       "P/4YkFok8k65wXiseQVp/tapuTdsq5Yv3GccaZlQcVSi0i4QbsfOh2crx2wnSJJ7NTbJ3ekyOtcr\n",
       "GOEwIScRnEWT+cM592Px2OrbjMOtIsXzKVHbynLkEImuG3CozJsM59B6vyyyXhHVdVeJMY64d0xM\n",
       "RBpYPPRL/g9gHCGYJMO8uM29YZHh9coptTWFWa+IKg5773lQGh8bsTl//02NiUX6kuIq3Gp/bukV\n",
       "89SOtu14R9bpOTsc4t523dIr5pUe5SAeeX3Rzkljp2oIT548mF5uF6h/YBHREZ1nIj3dxQ8xunqQ\n",
       "2wX/5GVL+750GzWqAv/U+1xk02wY4z/JTRZmfTH56QAAAABJRU5ErkJggg==\n",
       "\" style=\"display:inline;vertical-align:middle;\" /></a></span>"
      ],
      "text/plain": [
       "{a = 5} |- (a not-in {1, 1 + 3, 3}) = TRUE"
      ]
     },
     "metadata": {},
     "output_type": "display_data"
    }
   ],
   "source": [
    "# But we should be able to shallow_evaluate with the appropriate assumption(s)\n",
    "NotInSet(a, Set(one, Add(one, three), three)).shallow_simplification(must_evaluate=True,\n",
    "                                                                     assumptions=[Equals(a, five)])"
   ]
  },
  {
   "cell_type": "code",
   "execution_count": 74,
   "metadata": {},
   "outputs": [
    {
     "data": {
      "text/html": [
       "<span style=\"font-size:20px;\"><a class=\"ProveItLink\" href=\"../__pv_it/demonstrations/27c2109b4bcc6da83e759bd610d6c0877c3a03360/expr.ipynb\"><img src=\"data:image/png;base64,iVBORw0KGgoAAAANSUhEUgAAADAAAAAOBAMAAACbXIJpAAAAMFBMVEX///8AAAAAAAAAAAAAAAAA\n",
       "AAAAAAAAAAAAAAAAAAAAAAAAAAAAAAAAAAAAAAAAAAAv3aB7AAAAD3RSTlMAIquJdkTvuxBmmd1U\n",
       "zTKBpmoTAAAACXBIWXMAAA7EAAAOxAGVKw4bAAAAaElEQVQY02NgwAb4dmAVZmha+wO7BAMLeRKM\n",
       "yo4OWCXCBNjBGlfvBoFNcAmOTAauDdh0cH1g4DbAJsFWwNAfgE2i34FhPgM2O/oPMOjyCGDRwe7A\n",
       "s4sL3Sjmj0BXqdgJ+aGJM6n91QQAV4wjtpQsiA4AAAAASUVORK5CYII=\n",
       "\" style=\"display:inline;vertical-align:middle;\" /></a> <a class=\"ProveItLink\" href=\"../__pv_it/demonstrations/bb53f2e8cd63ee433f30b1384ad6b9b4f97f59da0/proof.ipynb\" style=\"text-decoration: none\">&nbsp;&#x22A2;&nbsp;&nbsp;</a><a class=\"ProveItLink\" href=\"../__pv_it/demonstrations/ff2ae28abe4ff47ebede838897343b48663ce62b0/expr.ipynb\"><img src=\"data:image/png;base64,iVBORw0KGgoAAAANSUhEUgAAAMcAAAAVCAMAAADFLQrQAAAARVBMVEX///8AAAAAAAAAAAAAAAAA\n",
       "AAAAAAAAAAAAAAAAAAAAAAAAAAAAAAAAAAAAAAAAAAAAAAAAAAAAAAAAAAAAAAAAAAAAAAAeYafp\n",
       "AAAAFnRSTlMAInZUiRDNmWbv3US7qzLp8+P355HBP3RuygAAAAlwSFlzAAAOxAAADsQBlSsOGwAA\n",
       "AlBJREFUWMO1l+mC3CAIgL3w1m23re//qM2p0Ug2Zmb8FyLIJ4hIyDQouRjNT3COfGZQTpE1bw7G\n",
       "r/5KqOZKBx/iIDH4zbZjD9S5uDZezU07RbRnnp6s2XMhlHeoyO+LMX3TeZcngrycqKpVhV11gpKp\n",
       "8bknaweoZS84JtrMn7LgIgg5cuoa3ZIOx7xjHZ/PMqebCZO/kCQmKua1GuUw+Lnx1n79kq9w8DrR\n",
       "nZmjW3FUomKeGBjj4FhaOckmUyGSN3JsZ0xjogOH1GMcaj/lNAhGy7J0ydD28LyBw1mNig4cIoxx\n",
       "7NzOTEXbF0fkUsN144eSL3JEFpoQH0WsJLkuO6jsYQRkAbtWCjB60Shx7ZUNavQ78opjIlp+cTMW\n",
       "D7PWVZUWqHyVRDPD//621heKIB25y7FuojGdTTRn1V0EQW4kMT3iMLO7kLKfsLgv6p2LysNL8YhL\n",
       "/vhjQGqRyDvlBuOx5hWk+Vun5t6wrVq+cJ9xpGVCxVGJSrtAuB07H56tHLOdIEnu1dgkd6fL6Fyv\n",
       "YITDhJxEcBZN5g/n3I/FY6tvMw63ihTPp0RtK8uRQyS6bsChMm8ynEPr/bLIekVU110lxjji3jEx\n",
       "EWlg8dAv+T+AcYRgkgzz4jb3hkWG1yun1NYUZr0iqjjsT8+DtpDYiM38+29qTCzSlxRX4Vb7c0uv\n",
       "mKd2tG3HO7JOz9nhEPfa6lt6xbzSoxzEI68v2jlp7FQN4cmTB9PL7QL1DywiOqLzTKSnu/ghRlcP\n",
       "crvgn7xsad+XbqNGVeCfep+LbJoNY/wH9DsWZBSnPjwAAAAASUVORK5CYII=\n",
       "\" style=\"display:inline;vertical-align:middle;\" /></a></span>"
      ],
      "text/plain": [
       "{a = 1} |- (a not-in {1, 1 + 3, 3}) = FALSE"
      ]
     },
     "metadata": {},
     "output_type": "display_data"
    }
   ],
   "source": [
    "# But we should be able to shallow_evaluate with the appropriate assumption(s)\n",
    "NotInSet(a, Set(one, Add(one, three), three)).shallow_simplification(must_evaluate=True,\n",
    "                                                                     assumptions=[Equals(a, one)])"
   ]
  },
  {
   "cell_type": "code",
   "execution_count": 75,
   "metadata": {},
   "outputs": [],
   "source": [
    "%end demonstrations"
   ]
  },
  {
   "cell_type": "code",
   "execution_count": null,
   "metadata": {},
   "outputs": [],
   "source": []
  }
 ],
 "metadata": {
  "kernelspec": {
   "display_name": "Python 3",
   "language": "python",
   "name": "python3"
  }
 },
 "nbformat": 4,
 "nbformat_minor": 0
}