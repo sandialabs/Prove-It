{
 "cells": [
  {
   "cell_type": "markdown",
   "metadata": {},
   "source": [
    "Demonstrations for the theory of <a class=\"ProveItLink\" href=\"theory.ipynb\">proveit.logic.sets.membership</a>\n",
    "========"
   ]
  },
  {
   "cell_type": "code",
   "execution_count": null,
   "metadata": {},
   "outputs": [],
   "source": [
    "import proveit\n",
    "from proveit import ExprTuple, InstantiationFailure, ProofFailure, UnsatisfiedPrerequisites\n",
    "from proveit.logic import (Forall, Equals, EvaluationError, InSet, Not, NotEquals,\n",
    "                           NotInSet, EmptySet, Set)\n",
    "from proveit import a, b, c, d, e, f, i, x, y, A, B, C, D, E, F, G, H, I, S, T\n",
    "from proveit.numbers import zero, one, two, three, four, five, six, seven, eight, nine, num, Exp\n",
    "from proveit.numbers import Add, Integer, Mult, Natural, NaturalPos, Real, RealNeg, RealPos\n",
    "from proveit.numbers.number_sets.number_set import NumberSet\n",
    "%begin demonstrations"
   ]
  },
  {
   "cell_type": "markdown",
   "metadata": {},
   "source": [
    "# Membership $\\in$\n",
    "### UNDER CONSTRUCTION"
   ]
  },
  {
   "cell_type": "markdown",
   "metadata": {},
   "source": [
    "<div style=\"line-height:1.4; font-size:14pt\">\n",
    "\n",
    "<a href='#introduction'>Introduction</a><br>\n",
    "<a href='#simple_expressions'>Simple Expressions involving Membership $(\\in)$</a><br>\n",
    "<a href='#common_attributes'>Common Attributes of a Membership $(\\in)$ Expression</a><br>\n",
    "<a href='#axioms'>Axioms</a><br>\n",
    "<a href='#further_demonstrations'>Further Demonstrations</a><br>\n",
    "    <ol>\n",
    "        <li><a href='#demo01'>$(x\\in A)\\wedge(A\\subset B)\\Rightarrow (x\\in B)$</a></li>\n",
    "        <li><a href='#demo02'>$\\forall_{x\\in A}(x\\in B) \\Rightarrow (A \\subseteq B)$</a></li>\n",
    "        <li><a href='#demo03'>$(x\\in B)\\wedge(A\\supset B)\\Rightarrow (x\\in A)$</a></li>\n",
    "    </ol>\n",
    "\n",
    "</div>\n"
   ]
  },
  {
   "cell_type": "markdown",
   "metadata": {},
   "source": [
    "## Introduction <a id='introduction'></a>"
   ]
  },
  {
   "cell_type": "markdown",
   "metadata": {},
   "source": [
    "<font size=4>Set membership (*e.g.*, $x \\in S$) (along with the related concepts of subset $\\subset, \\subseteq$, and superset $\\supset, \\supseteq$), is often critical in proofs, either as a goal in itself or as a condition or assumption appearing in a proof. For example, one might need to define a variable $x$ to be a natural number, $x \\in \\mathbb{N}$, to be used in a particulat theory, or we might want to prove that a number resides (or doesn't reside) in a particular set, for example that $\\sqrt{2} \\not\\in \\mathbb{Q}$.<br>\n",
    "This ``_demonstrations_`` notebook explores such membership expressions and related methods. (Set containment expressions involving $\\subset$, $\\subseteq$, $\\supset$, etc., are explored more thoroughly in their own ``_demonstrations_`` notebook in ``proveit.logic.sets.inclusion``)</font>"
   ]
  },
  {
   "cell_type": "markdown",
   "metadata": {},
   "source": [
    "## Simple Expressions Involving Membership ($\\in$, $\\not\\in$)<a id='simple_expressions'></a>"
   ]
  },
  {
   "cell_type": "markdown",
   "metadata": {},
   "source": [
    "<font size=4>It is straightforward to construct membership expressions. Here are some basic examples of such expressions:</font>"
   ]
  },
  {
   "cell_type": "code",
   "execution_count": null,
   "metadata": {},
   "outputs": [],
   "source": [
    "# set membership\n",
    "InSet(x, S)"
   ]
  },
  {
   "cell_type": "code",
   "execution_count": null,
   "metadata": {},
   "outputs": [],
   "source": [
    "NotInSet(x, EmptySet)"
   ]
  },
  {
   "cell_type": "code",
   "execution_count": null,
   "metadata": {},
   "outputs": [],
   "source": [
    "InSet(two, Natural)"
   ]
  },
  {
   "cell_type": "code",
   "execution_count": null,
   "metadata": {},
   "outputs": [],
   "source": [
    "NotInSet(num(-4), NaturalPos)"
   ]
  },
  {
   "cell_type": "markdown",
   "metadata": {},
   "source": [
    "Exponentiated sets are not currently needed.  They will likely be resurrected later and moved to a more appropriate theory package."
   ]
  },
  {
   "cell_type": "code",
   "execution_count": null,
   "metadata": {},
   "outputs": [],
   "source": [
    "#InSet(ExprTuple(), Exp(S, zero)).prove()"
   ]
  },
  {
   "cell_type": "code",
   "execution_count": null,
   "metadata": {},
   "outputs": [],
   "source": [
    "#InSet(ExprTuple(A),Exp(S,one)).prove([InSet(A,S)])"
   ]
  },
  {
   "cell_type": "code",
   "execution_count": null,
   "metadata": {},
   "outputs": [],
   "source": [
    "#InSet(ExprTuple(A,B),Exp(S,two)).prove([InSet(A,S), InSet(B,S)])"
   ]
  },
  {
   "cell_type": "code",
   "execution_count": null,
   "metadata": {},
   "outputs": [],
   "source": [
    "#InSet(ExprTuple(A,B,C),Exp(S,three)).prove([InSet(A,S), InSet(B,S),InSet(C,S)])"
   ]
  },
  {
   "cell_type": "code",
   "execution_count": null,
   "metadata": {},
   "outputs": [],
   "source": [
    "#InSet(ExprTuple(A,B,C, D),Exp(S,four)).prove([InSet(A,S), InSet(B,S),InSet(C,S), InSet(D,S)])"
   ]
  },
  {
   "cell_type": "code",
   "execution_count": null,
   "metadata": {},
   "outputs": [],
   "source": [
    "#InSet(ExprTuple(A,B,C, D, E),Exp(S,five)).prove([InSet(A,S), InSet(B,S),InSet(C,S), InSet(D,S), InSet(E,S)])"
   ]
  },
  {
   "cell_type": "code",
   "execution_count": null,
   "metadata": {},
   "outputs": [],
   "source": [
    "#InSet(ExprTuple(A,B,C, D, E, F),Exp(S,six)).prove([InSet(A,S), InSet(B,S),InSet(C,S), InSet(D,S), InSet(E,S), InSet(F,S)])"
   ]
  },
  {
   "cell_type": "code",
   "execution_count": null,
   "metadata": {},
   "outputs": [],
   "source": [
    "#InSet(ExprTuple(A,B,C, D, E, F, G),Exp(S,seven)).prove([InSet(A,S), InSet(B,S),InSet(C,S), InSet(D,S), InSet(E,S), InSet(F,S), InSet(G,S)])"
   ]
  },
  {
   "cell_type": "code",
   "execution_count": null,
   "metadata": {},
   "outputs": [],
   "source": [
    "#InSet(ExprTuple(A,B,C, D, E, F, G, H),Exp(S,eight)).prove([InSet(A,S), InSet(B,S),InSet(C,S), InSet(D,S), InSet(E,S), InSet(F,S), InSet(G,S), InSet(H,S)])"
   ]
  },
  {
   "cell_type": "code",
   "execution_count": null,
   "metadata": {},
   "outputs": [],
   "source": [
    "#InSet(ExprTuple(A,B,C, D, E, F, G, H, I),Exp(S,nine)).prove([InSet(A,S), InSet(B,S),InSet(C,S), InSet(D,S), InSet(E,S), InSet(F,S), InSet(G,S), InSet(H,S), InSet(I,S)])"
   ]
  },
  {
   "cell_type": "code",
   "execution_count": null,
   "metadata": {},
   "outputs": [],
   "source": [
    "Not(InSet(x,S)).prove(assumptions=[NotInSet(x,S)])"
   ]
  },
  {
   "cell_type": "code",
   "execution_count": null,
   "metadata": {},
   "outputs": [],
   "source": [
    "NotInSet(x,S).prove(assumptions=[Not(InSet(x,S))])"
   ]
  },
  {
   "cell_type": "code",
   "execution_count": null,
   "metadata": {},
   "outputs": [],
   "source": [
    "example_membership = InSet(a, Natural)"
   ]
  },
  {
   "cell_type": "code",
   "execution_count": null,
   "metadata": {},
   "outputs": [],
   "source": [
    "example_membership.element"
   ]
  },
  {
   "cell_type": "code",
   "execution_count": null,
   "metadata": {},
   "outputs": [],
   "source": [
    "example_membership.deduce_in_bool()"
   ]
  },
  {
   "cell_type": "markdown",
   "metadata": {},
   "source": [
    "## Miscellaneous Testing\n",
    "The material below was developed to test various membership-related methods. Some of this material could be integrated into the `demonstrations` page eventually and/or deleted as development continues."
   ]
  },
  {
   "cell_type": "markdown",
   "metadata": {},
   "source": [
    "### Testing the `InSet` class methods\n",
    "<br/>\n",
    "The `InSet` class currently has the following prover-related class methods:<br/>\n",
    "    <div style=\"width: 75%; border: 1px solid green; padding: 5px; margin: 20px; background-color: gainsboro; font-family:courier\">deduce_not_in(self, **defaults_config)<br/>\n",
    "    deduce_in_bool(self, **defaults_config)<br/>\n",
    "    conclude(self, **defaults_config)<br/>\n",
    "    shallow_simlification(self, *, must_evaluate=False, **defaults_config)</div>\n",
    "</font>"
   ]
  },
  {
   "cell_type": "markdown",
   "metadata": {},
   "source": [
    "### `InSet.deduce_not_in()`\n",
    "\n",
    "Deduce x not in S assuming not(A in S), where self = (x in S). This is a somewhat odd method called on a membership object to actually conclude the negation of the membership claim. Some examples appear below:"
   ]
  },
  {
   "cell_type": "code",
   "execution_count": null,
   "metadata": {},
   "outputs": [],
   "source": [
    "# Here is a simple, literal example. Notice that the 'self' on which the method\n",
    "# is called is actually the opposite claim from the conclusion being drawn.\n",
    "InSet(x, S).deduce_not_in(assumptions=[Not(InSet(x, S))])"
   ]
  },
  {
   "cell_type": "code",
   "execution_count": null,
   "metadata": {},
   "outputs": [],
   "source": [
    "# Even though the deduction involves the negation of the 'self' membership object,\n",
    "# the self membership object args must match the assumptions\n",
    "try:\n",
    "    InSet(y, T).deduce_not_in(assumptions=[Not(InSet(x, S))])\n",
    "    assert False, \"Expecting an InstantiationFailure; should not make it to this point!\"\n",
    "except InstantiationFailure as the_error:\n",
    "    print(\"ProofFailure (InstantiationFailure):{}\".format(the_error))"
   ]
  },
  {
   "cell_type": "code",
   "execution_count": null,
   "metadata": {},
   "outputs": [],
   "source": [
    "# Notice that we can prove simple non-memberships automatically,\n",
    "# without the deduce_not_in()\n",
    "NotInSet(three, Set(one, two)).prove()"
   ]
  },
  {
   "cell_type": "code",
   "execution_count": null,
   "metadata": {},
   "outputs": [],
   "source": [
    "# The deduce_not_in() is more about a folding of the assumption or\n",
    "# judgment about the negation of a membership claim or the negation of\n",
    "# element equalities\n",
    "InSet(a, Set(b, c, d)).deduce_not_in(assumptions=[NotEquals(a, b), NotEquals(a, c), NotEquals(a, d)])"
   ]
  },
  {
   "cell_type": "markdown",
   "metadata": {},
   "source": [
    "### `InSet.deduce_in_bool()`"
   ]
  },
  {
   "cell_type": "code",
   "execution_count": null,
   "metadata": {},
   "outputs": [],
   "source": [
    "# Membership claims are Boolean values\n",
    "InSet(two, Set(one, two, three)).deduce_in_bool()"
   ]
  },
  {
   "cell_type": "code",
   "execution_count": null,
   "metadata": {},
   "outputs": [],
   "source": [
    "# False membership claims are Boolean values\n",
    "InSet(four, Set(one, two, three)).deduce_in_bool()"
   ]
  },
  {
   "cell_type": "code",
   "execution_count": null,
   "metadata": {},
   "outputs": [],
   "source": [
    "# Membership claims with unknown verity are also Boolean values\n",
    "InSet(a, Set(one, two, three)).deduce_in_bool()"
   ]
  },
  {
   "cell_type": "code",
   "execution_count": null,
   "metadata": {},
   "outputs": [],
   "source": [
    "# Membership claims with unknown verity are also Boolean values\n",
    "InSet(b, Set(c, d, f)).deduce_in_bool()"
   ]
  },
  {
   "cell_type": "code",
   "execution_count": null,
   "metadata": {},
   "outputs": [],
   "source": [
    "# Membership claims with unknown verity are also Boolean values\n",
    "InSet(b, Set(c, d, f)).deduce_in_bool(assumptions=[Equals(b, d)])"
   ]
  },
  {
   "cell_type": "code",
   "execution_count": null,
   "metadata": {},
   "outputs": [],
   "source": [
    "# Membership claims with unknown verity are also Boolean values\n",
    "# Here we don't know the value of the variable b:\n",
    "InSet(b, Set(one, Add(one, one), three)).deduce_in_bool()"
   ]
  },
  {
   "cell_type": "code",
   "execution_count": null,
   "metadata": {},
   "outputs": [],
   "source": [
    "# Here is a Membership claim that is False, involving assumptions\n",
    "# about the value of variable b; notice the assumption is irrelevant\n",
    "InSet(b, Set(one, Add(one, one), three)).deduce_in_bool(assumptions=[Equals(b, zero)])"
   ]
  },
  {
   "cell_type": "markdown",
   "metadata": {},
   "source": [
    "### `InSet.conclude()`"
   ]
  },
  {
   "cell_type": "code",
   "execution_count": null,
   "metadata": {},
   "outputs": [],
   "source": [
    "# A simple membership claim can be deduced using conclude()\n",
    "InSet(two, Set(one, two, three)).conclude()"
   ]
  },
  {
   "cell_type": "code",
   "execution_count": null,
   "metadata": {},
   "outputs": [],
   "source": [
    "# We should not be able to conclude a False membership claim\n",
    "try:\n",
    "    InSet(four, Set(one, two, three)).conclude()\n",
    "    assert False, \"Expecting a ProofFailure (TypeError); should not make it this far!\"\n",
    "except InstantiationFailure as the_error:\n",
    "    print(\"Proof Failure (Type Error): {}\".format(the_error))"
   ]
  },
  {
   "cell_type": "code",
   "execution_count": null,
   "metadata": {},
   "outputs": [],
   "source": [
    "InSet(a, Set(one, two, three)).conclude(assumptions=[Equals(a, two)])"
   ]
  },
  {
   "cell_type": "code",
   "execution_count": null,
   "metadata": {},
   "outputs": [],
   "source": [
    "InSet(a, Set(b, c, d)).conclude(assumptions=[Equals(a, d)])"
   ]
  },
  {
   "cell_type": "code",
   "execution_count": null,
   "metadata": {},
   "outputs": [],
   "source": [
    "InSet(b, Set(one, two, three)).conclude(assumptions=[InSet(b, Set(two, three))])"
   ]
  },
  {
   "cell_type": "code",
   "execution_count": null,
   "metadata": {},
   "outputs": [],
   "source": [
    "# But there are a number of standard set memberships that can be deduced\n",
    "# based on subset memberships\n",
    "InSet(a, Integer).conclude(assumptions=[InSet(a, Natural)])"
   ]
  },
  {
   "cell_type": "code",
   "execution_count": null,
   "metadata": {},
   "outputs": [],
   "source": [
    "# Verify that the conclude() method is not automatically simplifying aspects of the\n",
    "# of set elements\n",
    "InSet(a, Set(one, Add(one, one), three)).conclude(assumptions=[Equals(a, three)])"
   ]
  },
  {
   "cell_type": "code",
   "execution_count": null,
   "metadata": {},
   "outputs": [],
   "source": [
    "# Verify that the conclude() method is not automatically simplifying aspects of the\n",
    "# of set elements, even when checking for equalities\n",
    "InSet(a, Set(one, Mult(one, two), three)).conclude(assumptions=[Equals(a, two)])"
   ]
  },
  {
   "cell_type": "markdown",
   "metadata": {},
   "source": [
    "### `InSet.evaluation()`"
   ]
  },
  {
   "cell_type": "code",
   "execution_count": null,
   "metadata": {},
   "outputs": [],
   "source": [
    "InSet(four, Set(one, four, three)).evaluation()"
   ]
  },
  {
   "cell_type": "code",
   "execution_count": null,
   "metadata": {},
   "outputs": [],
   "source": [
    "# And we should be able to shallow_evaluate a False claim\n",
    "InSet(two, Set(one, Add(one, three), three)).evaluation()"
   ]
  },
  {
   "cell_type": "markdown",
   "metadata": {},
   "source": [
    "### `InSet.shallow_simplification()`"
   ]
  },
  {
   "cell_type": "code",
   "execution_count": null,
   "metadata": {},
   "outputs": [],
   "source": [
    "# A simple membership claim can be deduced using shallow_simplification\n",
    "# Notice we can evaluate 1+3 to find it equals 4, but we leave the 1+3\n",
    "# (Works with/without must_evaluate=True)\n",
    "InSet(four, Set(one, Add(one, three), three)).shallow_simplification()"
   ]
  },
  {
   "cell_type": "code",
   "execution_count": null,
   "metadata": {},
   "outputs": [],
   "source": [
    "# We should not be able to shallow_evaluate a claim of unknown verity\n",
    "try:\n",
    "    InSet(a, Set(one, Add(one, three), three)).shallow_simplification(must_evaluate=True)\n",
    "    assert False, \"Expecting an EvaluationError; should not make it this far!\"\n",
    "except EvaluationError as the_error:\n",
    "    print(\"EvaluationError: {}\".format(the_error))"
   ]
  },
  {
   "cell_type": "code",
   "execution_count": null,
   "metadata": {},
   "outputs": [],
   "source": [
    "# But we should be able to shallow_evaluate with the appropriate assumption(s)\n",
    "InSet(a, Set(one, Add(one, three), three)).shallow_simplification(must_evaluate=True,\n",
    "                                                                  assumptions=[Equals(a, four)])"
   ]
  },
  {
   "cell_type": "code",
   "execution_count": null,
   "metadata": {},
   "outputs": [],
   "source": [
    "# But we should be able to shallow_evaluate with the appropriate assumption(s)\n",
    "InSet(a, Set(one, Add(one, three), three)).shallow_simplification(must_evaluate=True,\n",
    "                                                                  assumptions=[Equals(a, two)])"
   ]
  },
  {
   "cell_type": "markdown",
   "metadata": {},
   "source": [
    "### Testing the `NotInSet` class methods\n",
    "<br/>\n",
    "The `NotInSet` class currently has the following prover-related class methods:<br/>\n",
    "    <div style=\"width: 75%; border: 1px solid green; padding: 5px; margin: 20px; background-color: gainsboro; font-family:courier\">deduce_in_bool(self, **defaults_config)<br/>\n",
    "    unfold_not_in(self, **defaults_config)<br/>\n",
    "    conclude(self, **defaults_config)<br/>\n",
    "    conclude_as_folded(self, **defaults_config)<br/>\n",
    "    shallow_evaluation(self, **defaults_config)</div>\n",
    "</font>"
   ]
  },
  {
   "cell_type": "markdown",
   "metadata": {},
   "source": [
    "### `NotInSet.deduce_in_bool()`"
   ]
  },
  {
   "cell_type": "code",
   "execution_count": null,
   "metadata": {},
   "outputs": [],
   "source": [
    "# Membership claims are Boolean values\n",
    "NotInSet(four, Set(one, two, three)).deduce_in_bool()"
   ]
  },
  {
   "cell_type": "code",
   "execution_count": null,
   "metadata": {},
   "outputs": [],
   "source": [
    "# False membership claims are Boolean values\n",
    "NotInSet(two, Set(one, two, three)).deduce_in_bool()"
   ]
  },
  {
   "cell_type": "code",
   "execution_count": null,
   "metadata": {},
   "outputs": [],
   "source": [
    "# Membership claims with unknown verity are also Boolean values\n",
    "NotInSet(a, Set(one, two, three)).deduce_in_bool()"
   ]
  },
  {
   "cell_type": "code",
   "execution_count": null,
   "metadata": {},
   "outputs": [],
   "source": [
    "# Membership claims with unknown verity are also Boolean values\n",
    "NotInSet(b, Set(c, d, f)).deduce_in_bool()"
   ]
  },
  {
   "cell_type": "code",
   "execution_count": null,
   "metadata": {},
   "outputs": [],
   "source": [
    "# False Membership claims with assumption-based variable values are Boolean values\n",
    "NotInSet(b, Set(c, d, f)).deduce_in_bool(assumptions=[Equals(b, d)])"
   ]
  },
  {
   "cell_type": "code",
   "execution_count": null,
   "metadata": {},
   "outputs": [],
   "source": [
    "# Membership claims with unknown verity are also Boolean values\n",
    "# Here we don't know the value of the variable b:\n",
    "NotInSet(b, Set(one, Add(one, one), three)).deduce_in_bool()"
   ]
  },
  {
   "cell_type": "code",
   "execution_count": null,
   "metadata": {},
   "outputs": [],
   "source": [
    "# Here is a Membership claim that is False, involving assumptions\n",
    "# about the value of variable b; notice the assumption is irrelevant\n",
    "NotInSet(b, Set(one, Add(one, one), three)).deduce_in_bool(assumptions=[Equals(b, two)])"
   ]
  },
  {
   "cell_type": "markdown",
   "metadata": {},
   "source": [
    "### `NotInSet.unfold_not_in()`\n",
    "\n",
    "From $(x \\notin y)$, derive and return $\\lnot(x \\in y)$."
   ]
  },
  {
   "cell_type": "code",
   "execution_count": null,
   "metadata": {},
   "outputs": [],
   "source": [
    "# Here is a simple, literal example. Notice that the 'self' on which the method\n",
    "# is called is actually the opposite claim from the conclusion being drawn.\n",
    "NotInSet(x, S).unfold_not_in(assumptions=[NotInSet(x, S)])"
   ]
  },
  {
   "cell_type": "code",
   "execution_count": null,
   "metadata": {},
   "outputs": [],
   "source": [
    "# Notice that we can unfold simple non-memberships automatically,\n",
    "# without invoking assumptions\n",
    "NotInSet(three, Set(one, two)).unfold_not_in()"
   ]
  },
  {
   "cell_type": "code",
   "execution_count": null,
   "metadata": {},
   "outputs": [],
   "source": [
    "# The unfold_not_in() is more about a folding of the assumption or\n",
    "# judgment about the negation of a membership claim or the negation of\n",
    "# element equalities\n",
    "NotInSet(a, Set(b, c, d)).unfold_not_in(assumptions=[NotInSet(a, Set(b, c, d))])"
   ]
  },
  {
   "cell_type": "code",
   "execution_count": null,
   "metadata": {},
   "outputs": [],
   "source": [
    "# The unfold_not_in() is more about a folding of the assumption or\n",
    "# judgment about the negation of a membership claim or the negation of\n",
    "# element equalities\n",
    "NotInSet(a, Set(b, c, d)).unfold_not_in(assumptions=[NotEquals(a, b), NotEquals(a, c), NotEquals(a, d)])"
   ]
  },
  {
   "cell_type": "markdown",
   "metadata": {},
   "source": [
    "### `NotInSet.conclude()`"
   ]
  },
  {
   "cell_type": "code",
   "execution_count": null,
   "metadata": {},
   "outputs": [],
   "source": [
    "# A simple nonmembership claim can be deduced using conclude()\n",
    "NotInSet(four, Set(one, two, three)).conclude()"
   ]
  },
  {
   "cell_type": "code",
   "execution_count": null,
   "metadata": {},
   "outputs": [],
   "source": [
    "# We should not be able to conclude a False nonmembership claim\n",
    "try:\n",
    "    NotInSet(two, Set(one, two, three)).conclude()\n",
    "    assert False, \"Expecting a ProofFailure (TypeError); should not make it this far!\"\n",
    "except InstantiationFailure as the_error:\n",
    "    print(\"Proof Failure (InstantiationFailure): {}\".format(the_error))"
   ]
  },
  {
   "cell_type": "code",
   "execution_count": null,
   "metadata": {},
   "outputs": [],
   "source": [
    "NotInSet(a, Set(one, two, three)).conclude(assumptions=[Equals(a, four)],\n",
    "                                           simplify_with_known_evaluations=True)"
   ]
  },
  {
   "cell_type": "code",
   "execution_count": null,
   "metadata": {},
   "outputs": [],
   "source": [
    "NotInSet(a, Set(b, c, d)).conclude(assumptions=[NotEquals(a, b), NotEquals(a, c), NotEquals(a, d)])"
   ]
  },
  {
   "cell_type": "code",
   "execution_count": null,
   "metadata": {},
   "outputs": [],
   "source": [
    "NotInSet(a, Natural).conclude(assumptions=[NotInSet(a, Integer)])"
   ]
  },
  {
   "cell_type": "code",
   "execution_count": null,
   "metadata": {},
   "outputs": [],
   "source": [
    "NotInSet(a, Set(one, Add(one, one), three)).conclude(assumptions=[Equals(a, four)])"
   ]
  },
  {
   "cell_type": "code",
   "execution_count": null,
   "metadata": {},
   "outputs": [],
   "source": [
    "NotInSet(a, Set(one, Mult(one, two), three)).conclude(\n",
    "    assumptions=[NotEquals(a, one), NotEquals(a, two), NotEquals(a, three)])"
   ]
  },
  {
   "cell_type": "code",
   "execution_count": null,
   "metadata": {},
   "outputs": [],
   "source": [
    "# So do this one -- finding that when a!=1, a!=2, a!=3, then a not in {1, 1+1, 3}.\n",
    "NotInSet(a, Set(one, Add(one, one), three)).conclude(\n",
    "        assumptions=[NotEquals(a, one), NotEquals(a, two), NotEquals(a, three)])"
   ]
  },
  {
   "cell_type": "code",
   "execution_count": null,
   "metadata": {},
   "outputs": [],
   "source": [
    "NotInSet(a, Set(one, Add(one, two), four)).conclude(\n",
    "        assumptions=[NotEquals(a, one), NotEquals(a, three), NotEquals(a, four)])"
   ]
  },
  {
   "cell_type": "markdown",
   "metadata": {},
   "source": [
    "### `NotInSet.conclude_as_folded()`\n",
    "\n",
    "Attempt to conclude x not in S via Not(x in S)."
   ]
  },
  {
   "cell_type": "code",
   "execution_count": null,
   "metadata": {},
   "outputs": [],
   "source": [
    "NotInSet(zero, Set(one, two, three)).conclude_as_folded()"
   ]
  },
  {
   "cell_type": "code",
   "execution_count": null,
   "metadata": {},
   "outputs": [],
   "source": [
    "NotInSet(a, Set(b, c, d)).conclude_as_folded(assumptions=[Not(InSet(a, Set(b, c, d)))])"
   ]
  },
  {
   "cell_type": "code",
   "execution_count": null,
   "metadata": {},
   "outputs": [],
   "source": [
    "# This is an interesting example\n",
    "NotInSet(a, Set(d, c, f)).conclude_as_folded(assumptions=[NotEquals(a, c), NotEquals(a, d), NotEquals(a, f)])"
   ]
  },
  {
   "cell_type": "markdown",
   "metadata": {},
   "source": [
    "### `NotInSet.shallow_simplification()`\n",
    "\n",
    "Attempt to evaluate whether some x ∉ S is TRUE or FALSE using the 'definition' method of the domain's 'nonmembership_object' if there is one."
   ]
  },
  {
   "cell_type": "code",
   "execution_count": null,
   "metadata": {},
   "outputs": [],
   "source": [
    "# A simple nonmembership claim can be deduced using shallow_simplification\n",
    "NotInSet(two, Set(one, four, three, five)).shallow_simplification(must_evaluate=True)"
   ]
  },
  {
   "cell_type": "code",
   "execution_count": null,
   "metadata": {},
   "outputs": [],
   "source": [
    "# A simple nonmembership claim can be deduced using shallow_simplification\n",
    "# Notice we can evaluate 1+3 to find 1+3 != 2, but we leave the 1+3\n",
    "NotInSet(two, Set(one, Add(one, three), three)).shallow_simplification(must_evaluate=True)"
   ]
  },
  {
   "cell_type": "code",
   "execution_count": null,
   "metadata": {},
   "outputs": [],
   "source": [
    "# And we should be able to shallow_evaluate a False claim\n",
    "NotInSet(four, Set(one, Add(one, three), three)).shallow_simplification(must_evaluate=True)"
   ]
  },
  {
   "cell_type": "code",
   "execution_count": null,
   "metadata": {},
   "outputs": [],
   "source": [
    "# We should not be able to shallow_evaluate a claim of unknown verity\n",
    "try:\n",
    "    NotInSet(a, Set(one, Add(one, three), three)).shallow_simplification(must_evaluate=True)\n",
    "    assert False, \"Expecting an EvaluationError; should not make it this far!\"\n",
    "except EvaluationError as the_error:\n",
    "    print(\"EvaluationError: {}\".format(the_error))"
   ]
  },
  {
   "cell_type": "code",
   "execution_count": null,
   "metadata": {},
   "outputs": [],
   "source": [
    "# But we should be able to shallow_evaluate with the appropriate assumption(s)\n",
    "NotInSet(a, Set(one, Add(one, three), three)).shallow_simplification(must_evaluate=True,\n",
    "                                                                     assumptions=[Equals(a, five)])"
   ]
  },
  {
   "cell_type": "code",
   "execution_count": null,
   "metadata": {},
   "outputs": [],
   "source": [
    "# But we should be able to shallow_evaluate with the appropriate assumption(s)\n",
    "NotInSet(a, Set(one, Add(one, three), three)).shallow_simplification(must_evaluate=True,\n",
    "                                                                     assumptions=[Equals(a, one)])"
   ]
  },
  {
   "cell_type": "code",
   "execution_count": null,
   "metadata": {},
   "outputs": [],
   "source": [
    "%end demonstrations"
   ]
  },
  {
   "cell_type": "code",
   "execution_count": null,
   "metadata": {},
   "outputs": [],
   "source": []
  }
 ],
 "metadata": {
  "kernelspec": {
   "display_name": "Python 3 (ipykernel)",
   "language": "python",
   "name": "python3"
  }
 },
 "nbformat": 4,
 "nbformat_minor": 0
}
