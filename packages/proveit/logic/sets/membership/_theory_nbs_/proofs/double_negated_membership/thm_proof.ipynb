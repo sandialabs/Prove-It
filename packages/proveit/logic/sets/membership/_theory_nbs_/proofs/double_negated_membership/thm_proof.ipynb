{
 "cells": [
  {
   "cell_type": "markdown",
   "metadata": {},
   "source": [
    "Proof of <a class=\"ProveItLink\" href=\"../../../../../../_theory_nbs_/theory.ipynb\">proveit</a>.<a class=\"ProveItLink\" href=\"../../../../../_theory_nbs_/theory.ipynb\">logic</a>.<a class=\"ProveItLink\" href=\"../../../../_theory_nbs_/theory.ipynb\">sets</a>.<a class=\"ProveItLink\" href=\"../../theory.ipynb\">membership</a>.<a class=\"ProveItLink\" href=\"../../theorems.ipynb#double_negated_membership\">double_negated_membership</a> theorem\n",
    "========"
   ]
  },
  {
   "cell_type": "code",
   "execution_count": 1,
   "metadata": {},
   "outputs": [],
   "source": [
    "import proveit\n",
    "theory = proveit.Theory() # the theorem's theory"
   ]
  },
  {
   "cell_type": "code",
   "execution_count": 2,
   "metadata": {},
   "outputs": [
    {
     "data": {
      "text/html": [
       "With these <a href=\"allowed_presumptions.txt\">allowed</a>/<a href=\"disallowed_presumptions.txt\">disallowed</a> theorem/theory presumptions (e.g., to avoid circular dependencies), we begin our proof of<br><strong id=\"double_negated_membership\">double_negated_membership:</strong> <a class=\"ProveItLink\" href=\"../../../__pv_it/theorems/84d1e146e6fabc5123bad27baefa6ca8ff139c720/expr.ipynb\"><img src=\"data:image/png;base64,iVBORw0KGgoAAAANSUhEUgAAAMIAAAAXCAMAAABuzGCfAAAAP1BMVEX///8AAAAAAAAAAAAAAAAA\n",
       "AAAAAAAAAAAAAAAAAAAAAAAAAAAAAAAAAAAAAAAAAAAAAAAAAAAAAAAAAAAAAADFBd4eAAAAFHRS\n",
       "TlMAq1RmmUTNIjK7EInv3Xbp8+P3nXbhrUQAAAAJcEhZcwAADsQAAA7EAZUrDhsAAAKoSURBVFjD\n",
       "zVeJctwgDOUQl7Bpm/L/31owhwHj9TLTzUSTiRJLwnq6kAn5DlLLgvfMFPkucmxVkEjijUC4ltP6\n",
       "nPEPIWB2VZBI01EfwFrCRcCefT04iIr5Q2lBuSrIdLqWyMSYo/FtgiKvUJX5UBKArwoy7YM6HIwf\n",
       "wHn6J/GCx7IPQdiWBbFCzP7r996lyeu2D7bsduQ8x0J+qhPkqiC4KR0SqvtnPjmq02NZ3I582yNt\n",
       "9lN1ZB8E6BxFbZsqULEyxk5B720DytKGwyEw+JY/6xAkfxCEMx11BM7SPwYLd4M+94FomTlcNlzR\n",
       "8muSUescdyf4x5YfDUJTpujCXgk6AVfRu1A3J1Q5vxTQGe9LA7Gt5TEBVkzLNUZCe/IAQTtqjJga\n",
       "hDodTy7RyoIIF7qi0bG0/3yFX9fXgc/HlZckHt8rX8wM+gABQN8aPEM4/uyKBs1kQPLSEfm52Dou\n",
       "a+E5Byr81DnGh02kgVBVXVPsF4NaL1cIp0D4YIHYXQjDpYDZSPmsxvaOW5YLzylCDZH1bOe96brx\n",
       "hFBVsc3MxSDfqR0EaAUYKpDGSNo2OkQMg6N4XOcbNx1XG63ZCgc3zYgMPJ1CqKqic3k0OKffhZKA\n",
       "eY0QIIg2WZINl0KYBrY/rGApvDHwTRVgyjK56YWkyqU5iE0NQr/td1vcIUAIMWfAWV82XwKHaS4o\n",
       "UHpq7aLn7TQ4SzkFptudzFVVnxUwMYgv0Xc7kL6dzfyvNWEi3d/fau95fb4RK4+7BqNfcGSNqhmE\n",
       "U7W5FCcGzUZ29RPWvxTGFfGyKoKLV1PcXzcWr+24n6t5O1fVEPUSzYnBYXS3xd8KHrfmovBScb63\n",
       "Ti3Qxl4Q9x8MZlXwuDUX8ObFN47A9yE8fzq7RQF9+pJVPZ/XKfmPEH4UqR/o0z/FuhVKs6XdVQAA\n",
       "AABJRU5ErkJggg==\n",
       "\" style=\"display:inline;vertical-align:middle;\" /></a><br>(see <a class=\"ProveItLink\" href=\"../../../__pv_it/theorems/940dd61f3f675692191bc125dfe493f6266b9af50/dependencies.ipynb\">dependencies</a>)<br>"
      ],
      "text/plain": [
       "<IPython.core.display.HTML object>"
      ]
     },
     "metadata": {},
     "output_type": "display_data"
    }
   ],
   "source": [
    "%proving double_negated_membership"
   ]
  },
  {
   "cell_type": "code",
   "execution_count": null,
   "metadata": {},
   "outputs": [],
   "source": []
  }
 ],
 "metadata": {
  "kernelspec": {
   "display_name": "Python 3",
   "language": "python",
   "name": "python3"
  }
 },
 "nbformat": 4,
 "nbformat_minor": 0
}