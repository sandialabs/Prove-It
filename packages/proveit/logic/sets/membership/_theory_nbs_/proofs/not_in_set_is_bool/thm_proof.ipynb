{
 "cells": [
  {
   "cell_type": "markdown",
   "metadata": {},
   "source": [
    "Proof of <a class=\"ProveItLink\" href=\"../../../../../../_theory_nbs_/theory.ipynb\">proveit</a>.<a class=\"ProveItLink\" href=\"../../../../../_theory_nbs_/theory.ipynb\">logic</a>.<a class=\"ProveItLink\" href=\"../../../../_theory_nbs_/theory.ipynb\">sets</a>.<a class=\"ProveItLink\" href=\"../../theory.ipynb\">membership</a>.<a class=\"ProveItLink\" href=\"../../theorems.ipynb#not_in_set_is_bool\">not_in_set_is_bool</a> theorem\n",
    "========"
   ]
  },
  {
   "cell_type": "code",
   "execution_count": 1,
   "metadata": {},
   "outputs": [],
   "source": [
    "import proveit\n",
    "from proveit import defaults\n",
    "from proveit import x, A, S\n",
    "from proveit.logic import InSet\n",
    "from proveit.logic.booleans.negation import closure\n",
    "from proveit.logic.sets.membership  import not_in_set_def\n",
    "theory = proveit.Theory() # the theorem's theory"
   ]
  },
  {
   "cell_type": "code",
   "execution_count": 2,
   "metadata": {},
   "outputs": [
    {
     "data": {
      "text/html": [
       "With these <a href=\"allowed_presumptions.txt\">allowed</a>/<a href=\"disallowed_presumptions.txt\">disallowed</a> theorem/theory presumptions (e.g., to avoid circular dependencies), we begin our proof of<br><strong id=\"not_in_set_is_bool\">not_in_set_is_bool:</strong> <a class=\"ProveItLink\" href=\"../../../__pv_it/theorems/2972c64ba9fbc89f6d223beaaf44dec5b29d32b90/expr.ipynb\"><img src=\"data:image/png;base64,iVBORw0KGgoAAAANSUhEUgAAAP0AAAAXCAMAAAD3NLkqAAAARVBMVEX///8AAAAAAAAAAAAAAAAA\n",
       "AAAAAAAAAAAAAAAAAAAAAAAAAAAAAAAAAAAAAAAAAAAAAAAAAAAAAAAAAAAAAAAAAAAAAAAeYafp\n",
       "AAAAFnRSTlMAq1RmmUTNIjK7EInv3Xbp8+P355HBoPSVsQAAAAlwSFlzAAAOxAAADsQBlSsOGwAA\n",
       "A4hJREFUWMPdWAmu3CAMZV+Du3P/oxbIZgNJZqRWUxVV9Sg8J35e4TP27yzbyXvUq8//DPyvLxBU\n",
       "XiwT5s81PLw+Ld5ksySuTzg/toX8KHkRqbxYjndqSsXIZGEET/b7StmasNJvcKUPp340GYKh8mqd\n",
       "9q6MagiDz3dZgdgXxtGWHzv88KX1Hw29klRerUS1VBOyuUyqV9hLseV7g+8ei+Kj7JdOzirXp/Tl\n",
       "K8mN7HDNL2HAp2RG9tujCpebs81nq95QOelqBoq13JFneTXerU+NHPBj7LmVW2dp8KV6KC3xs4kf\n",
       "qQwAPLh4JqRtOdp1hZBzRO6IqCPasQvUrhcg8Yjhqun78JKRNGDPfRJeZL+HbZflQ8CBqUR7suze\n",
       "J3NZfDdDIt9Menhhn8ySkwoIbvn+3yTdIoAEh16AP60vyZx6qs/waFRSQ49JgkhpK7PA+JHLZj7s\n",
       "A/ic914hUNMwV10PpN7essJr2OOUiaiudplN2YfeYQ6497rT05FuAovMCuH6pqeJbH7DBFyrz2/f\n",
       "UxpHk8qbMrJ0xdflO/ZVRASvtpqbRszn7LvJW6aPm+mtjj42K3sWg7hn337iLA9+MpfkXv3bY710\n",
       "+FnsKweP4eaoJwBly79joMjuSOyHyXto4KMW1msWn5st9jKG+8xv/bzoh0C+Rof9nnw2byiRrs4F\n",
       "HXuD4VFslQCWcc/MYQHk7CV9AWqqRIM4G+sJRSJROplaFjdYBliGUiO8RuYcRFA2dNd0E50TTCIb\n",
       "AK7ZC8Bwu/AjlcrnkWlBqMzn7LUnGpp4CelVHNqssXcK+jazD6tViuyCKuw1yvTiYTrsy0CIdM4p\n",
       "PLWNmLCvVQdRUTh6bUZ5HtYMnLMXnGhI49sSvZ7zZHOte9afLlzCMqgSOqGkIHnuf4Ru/GquOD9B\n",
       "SVO8xngwi/fnHa+Hb73yrPPV8+T8j347TzTcyYfq1cxHmxv7IS+To3Kyfv7y5OQ6XNlTP3Zv8T3c\n",
       "LiyaNqJDNVe16HLLrrveqYGOS1SvFeC5ubJ3A/v9inJzVXm6w6n3rugDvNRjOabUm98i6iGw3p3t\n",
       "Rddj3mKNEus9alSvwY5NYcBE7yd2ekvlGKuHS+ibl9RbuLi4JOLE6o5dsZZ2X0tbu59vToDTSf3S\n",
       "JdS/9/eJO7gOj+yZeuVz6mWbLFDZL/5wo3iP/C1csmf2LD7fjKRm/8/qHPbMPvzTdH4DX5sewaAm\n",
       "9xgAAAAASUVORK5CYII=\n",
       "\" style=\"display:inline;vertical-align:middle;\" /></a><br>(see <a class=\"ProveItLink\" href=\"../../../__pv_it/theorems/265b5c6a403d82b7d4fb8a5f0077fd83fb92d2300/dependencies.ipynb\">dependencies</a>)<br>"
      ],
      "text/plain": [
       "<IPython.core.display.HTML object>"
      ]
     },
     "metadata": {},
     "output_type": "display_data"
    }
   ],
   "source": [
    "%proving not_in_set_is_bool"
   ]
  },
  {
   "cell_type": "code",
   "execution_count": 3,
   "metadata": {},
   "outputs": [
    {
     "data": {
      "text/html": [
       "<strong id=\"defaults.assumptions\">defaults.assumptions:</strong> <a class=\"ProveItLink\" href=\"../../../__pv_it/_proof_not_in_set_is_bool/6e87ebeba466abfdde75cf03f73f53d739bb0fd40/expr.ipynb\"><img src=\"data:image/png;base64,iVBORw0KGgoAAAANSUhEUgAAAHcAAAAVBAMAAACOK2zoAAAAMFBMVEX///8AAAAAAAAAAAAAAAAA\n",
       "AAAAAAAAAAAAAAAAAAAAAAAAAAAAAAAAAAAAAAAAAAAv3aB7AAAAD3RSTlMAInZUiRDNmWbv3US7\n",
       "qzJazP2FAAAACXBIWXMAAA7EAAAOxAGVKw4bAAAB+klEQVQ4y3VUMYgTQRR92WSzSWYTUgURizWc\n",
       "IKIQDkk4qwVblTRyTYQoCNoFCSpWEeEsImQRrskVF1AiRosgXnFdvMJCLVIoCqeQwsrGiCiCmPhn\n",
       "ZnfNxJ0Pb2f/+/tm//z5MwDykNBYTMMLiVGS0BlzVN94/PJndx94xp2TPqKs0nTbOLpE2swpXBjC\n",
       "aAFmXSLKbAe1KZLVZXErkR8BlwGrJRFlN4BUHanGf+JUaQzcBdKQWFjUq0Ffvs3kijdVXogp13QV\n",
       "ZXLLSoEuBWmyX0BuAlxReRJnD7hAsoUmuRxm8d3n0zxWCJdozs+J8SwU3mZHjr2lMTEW03JYOOHc\n",
       "4rGL/5LozP/w3dyAwtusv/2oKsrxgFyO2+hUP/DYQuXN43OPhjUoPKVttKnUcQ9b5HJMcF2Ect3B\n",
       "YPA0+ND6TY+vKk9ijJ4TMw3FwH35t1H4Y94F32ncVXkhtqmCXpg22Dec52MvTJr2MvaDXk5B4YU4\n",
       "SWn3sEcuwXyd9eDyWDH4iIKwOHUPCi/Eq1SwkdgHQny27jFxPJLBIbEe+rvUhMLbzE2sNMTEX8gl\n",
       "mNecyh2Z7ccdX8zefxKCJwpvXH0jThUyQ2SohTgWWuxM0J7+ge5F8wch2n659VXTHZubhBc+tHZI\n",
       "c8Pwvav50JpmZpt3bsyR0Jmhud8OA38BNvp7mYjDrQwAAAAASUVORK5CYII=\n",
       "\" style=\"display:inline;vertical-align:middle;\" /></a><br>"
      ],
      "text/plain": [
       "<IPython.core.display.HTML object>"
      ]
     },
     "metadata": {},
     "output_type": "display_data"
    }
   ],
   "source": [
    "defaults.assumptions = not_in_set_is_bool.all_conditions()"
   ]
  },
  {
   "cell_type": "code",
   "execution_count": 4,
   "metadata": {},
   "outputs": [
    {
     "data": {
      "text/html": [
       "<span style=\"font-size:20px;\"> <a class=\"ProveItLink\" href=\"../../../../../booleans/negation/_theory_nbs_/proofs/closure/thm_proof.ipynb\" style=\"text-decoration: none\">&nbsp;&#x22A2;&nbsp;&nbsp;</a><a class=\"ProveItLink\" href=\"../../../../../booleans/negation/__pv_it/theorems/63d2d1127aa0220ef21e2837c5f2bee240fe4c1d0/expr.ipynb\"><img src=\"data:image/png;base64,iVBORw0KGgoAAAANSUhEUgAAAJsAAAAVBAMAAACj9YEXAAAAMFBMVEX///8AAAAAAAAAAAAAAAAA\n",
       "AAAAAAAAAAAAAAAAAAAAAAAAAAAAAAAAAAAAAAAAAAAv3aB7AAAAD3RSTlMAq1RmmUTNIjK7EInv\n",
       "3XZ/CtNrAAAACXBIWXMAAA7EAAAOxAGVKw4bAAAChElEQVQ4y4VUTWjUQBR+TTa73U03evFQPGxA\n",
       "EMG/PajgRRasIvTgopeiIpUq4lZqtVAoVLqCV9sg1hJBjd56kdSLVA/WgyBqtUgtCAYCIoL/eKjH\n",
       "+t7M62STbdYPvuzk7Zsv728GoDUGmY3ItfBtDcuWjDAMYIQJp483l+c3AJzE9XoybEqT28qMcAH5\n",
       "KeGVN8Lhe1WwygAH6P1silqhVzKCtoKPrJeUK5uDDkAN4AoVw0mRy5QlGywlrJBeaZLTbUxzl/yS\n",
       "aafIdTAjPHpax+dLLtrtYEnJYRIdHuj48Wxa6TYzo6aGv+jTfeLFGPBUdG1DPuqg1nwQvEqT62ZG\n",
       "ucJOyn1GNtlTyX79sRF/TUz4EMAtYfSa5fpUJIwjMIFRwB6INTBvLL1dxO06JnwRcmJYCi+4d/2n\n",
       "F1dr+U4yExCo/hUYI+dt4t/ehlZYu7Gt2hyuPbNKNvMPPsY7JyH0L21hv+dMUTbUsW50lWgKJsjQ\n",
       "jmUKPrAcOMfR8hslQ9mJnjcYBmaOcub9FLkHAOsWcH1CpOM0RAdOHnszRzHvE7bwFI976A89jier\n",
       "5DDfIm3ZLiwLMTkMSiPLw5qYITjI3wu7XtfZ7w5TyFXAoKHChGCvsPyMye3AVtD+UdGJHvgu3Cm6\n",
       "q5/Zb0YNhcAobf2rhidrKznf/IaRZ6jrbSKW7iclTz/nutepdib7XWNKTK/UQLu7jHveyxPdeUwe\n",
       "jvOuuFGgWFWXDMBYvd2X0ZkWW4t1yeSFx1UzZuUhW8VltTqKPbPlPKPcOFvprCfPOyRvhQj7lcMz\n",
       "KBw+AyMYiTbQ7yr3KWYcI2urNV1MhVl3MmaYZsYxtbZc/r+3ey6UjF/mKdu+APwDN+eg1EeU4WMA\n",
       "AAAASUVORK5CYII=\n",
       "\" style=\"display:inline;vertical-align:middle;\" /></a></span>"
      ],
      "text/plain": [
       "|- forall_{A in BOOLEAN} ([not](A) in BOOLEAN)"
      ]
     },
     "metadata": {},
     "output_type": "display_data"
    }
   ],
   "source": [
    "closure"
   ]
  },
  {
   "cell_type": "code",
   "execution_count": 5,
   "metadata": {},
   "outputs": [
    {
     "data": {
      "text/html": [
       "<strong id=\"closure_spec\">closure_spec:</strong> <span style=\"font-size:20px;\"><a class=\"ProveItLink\" href=\"../../../__pv_it/theorems/1cde4367c20ed40a671f20174f85f2aaa5c513fe0/expr.ipynb\"><img src=\"data:image/png;base64,iVBORw0KGgoAAAANSUhEUgAAAGgAAAAVBAMAAABYjraNAAAAMFBMVEX///8AAAAAAAAAAAAAAAAA\n",
       "AAAAAAAAAAAAAAAAAAAAAAAAAAAAAAAAAAAAAAAAAAAv3aB7AAAAD3RSTlMAInZUiRDNmWbv3US7\n",
       "qzJazP2FAAAACXBIWXMAAA7EAAAOxAGVKw4bAAABpElEQVQ4y2NgYBBgwAkYcUkwGeDWxK2Apnbl\n",
       "sW+zbgMZJjg0mJc4dDNooAnycCuIxW5gYE3ArodHgSHmAwNbALqmBhaBAwzsDdg1lTMwcCQwcBRg\n",
       "aOIwuMDAieroU6uWQVj/ID6aiioO1pTAYIbi8SSYc7h/MDDwPWBgyEAVB2rilXBgKAEyWZWuPnEG\n",
       "iYnBvcD63w9M+zKgiPNwq2pdgRjFzqCrUAUSS0RY2v//LygC2xhQxHm4l81fHsCwGMhsZOgPuAES\n",
       "QwpJVp3/E4CUJQOKONB5TN2pDLOBzAcMZWAhvlmrVq1aA1PA/htIvEcVB2piOLAFrImBYRLE9ANw\n",
       "i4ARwfoZSO9EFQdr4gE7j4H7I0MoiF4Ad9wFYML7CmRYMaCIgzWxMRwCqjjNO4HBASSmBJNkBipj\n",
       "Bwn1MKCIgzUZgcKU+V/4BG5wsmWDJV72JdDQLmFAEefhdmBRKWB4BbSpSMG8GeKqO1uhmriv3wUr\n",
       "XI0izpR5BpzKuR6gJAkfWDKCZqgFWMXRkyQqwJWcD+LTJINDPAafJlwmMirg1sOEvfwAAPZlZ5Tc\n",
       "0sebAAAAAElFTkSuQmCC\n",
       "\" style=\"display:inline;vertical-align:middle;\" /></a> <a class=\"ProveItLink\" href=\"../../../__pv_it/_proof_not_in_set_is_bool/4727107d3d158391aa01de611a6fbfb9409127530/proof.ipynb\" style=\"text-decoration: none\">&nbsp;&#x22A2;&nbsp;&nbsp;</a><a class=\"ProveItLink\" href=\"../../../__pv_it/_proof_not_in_set_is_bool/d23025f93e5c2128268b3906705f0ad41599b2bb0/expr.ipynb\"><img src=\"data:image/png;base64,iVBORw0KGgoAAAANSUhEUgAAAIkAAAAVBAMAAACArtDCAAAAMFBMVEX///8AAAAAAAAAAAAAAAAA\n",
       "AAAAAAAAAAAAAAAAAAAAAAAAAAAAAAAAAAAAAAAAAAAv3aB7AAAAD3RSTlMAInZUiRDNmWbv3US7\n",
       "qzJazP2FAAAACXBIWXMAAA7EAAAOxAGVKw4bAAACLElEQVQ4y31UO2gUURQ9s5vZjTubZbGwshgi\n",
       "yiIRLMSg1SYWNipDINqssIkETGWQ9YOVEtFCIYtgoykWFIvRSAgxGKuJZVIkKcRAFLaw0UZFAkEx\n",
       "632/mTtxdg+cmffumzkz97x7H4AiIlhoC6vjcuoomxxor+K4ijEcnr4yPjNLg2MsmC4nK/TXyg9Q\n",
       "okFp90owZ41tAnaVxc4ni+RdVH4g40EyrvIWA3kge5vFbiar3AC6q+iegORulckeYA+P1WNP9Pm+\n",
       "+tEd5chjKAozl/0XoUoGOM5t4dlh4aDxdRsoNIHLUKTIqBf9y/pdoMbey5K5du+HL6fkzo6ZsN06\n",
       "J+9nNYF9XuTu0EzZiCtkyKMsjri35CSqo6nWXzG5pwmMRL68G/99DXhGL/oC5FuOSucOprwNqRKp\n",
       "230t4dgJTaDK3S0teHhqSnONnKb6aeK6CnwV0oHJ9Q9dvmui8ISWXhmVvFP+TwV4pAKV8HuUp/2L\n",
       "7ouasAP+L3kEIqNQRWQE5yeGRSAX5kMr1hYNTmoCjbhKFe+NyoSsUXulpw7ZBynTM+mG2j081AR6\n",
       "YyppV2+dQtca0jsX6o7qz0vGk+d6g2swhZEJOziYx+Bp4BtTKTRgX3X7J9Xs4oqqiqzz8bN866Um\n",
       "JfnpjXrm0PSq7Olck8m8jnXA/LLPi9lqKMriPaM7QCPWX/fRAaJvY73LscSPgGIHlf2aiaiwMSuE\n",
       "5M8ttT1P+Sm4t71IqqiYhH9YHIls5rWPgwAAAABJRU5ErkJggg==\n",
       "\" style=\"display:inline;vertical-align:middle;\" /></a></span><br>"
      ],
      "text/plain": [
       "<IPython.core.display.HTML object>"
      ]
     },
     "metadata": {},
     "output_type": "display_data"
    }
   ],
   "source": [
    "closure_spec = closure.instantiate({A:InSet(x, S)})"
   ]
  },
  {
   "cell_type": "code",
   "execution_count": 6,
   "metadata": {},
   "outputs": [
    {
     "data": {
      "text/html": [
       "<span style=\"font-size:20px;\"> <a class=\"ProveItLink\" href=\"../../axioms.ipynb#not_in_set_def\" style=\"text-decoration: none\">&nbsp;&#x22A2;&nbsp;&nbsp;</a><a class=\"ProveItLink\" href=\"../../../__pv_it/axioms/0592f2e31092a6f12b70ad6e1b04d96f0a4266170/expr.ipynb\"><img src=\"data:image/png;base64,iVBORw0KGgoAAAANSUhEUgAAAQIAAAAWCAMAAAAcoWJbAAAAP1BMVEX///8AAAAAAAAAAAAAAAAA\n",
       "AAAAAAAAAAAAAAAAAAAAAAAAAAAAAAAAAAAAAAAAAAAAAAAAAAAAAAAAAAAAAADFBd4eAAAAFHRS\n",
       "TlMAq1RmmUTNIjK7EInv3Xbp8+P3nXbhrUQAAAAJcEhZcwAADsQAAA7EAZUrDhsAAAL6SURBVFjD\n",
       "5VjZstsgDGU1Bmza3vL/31pwbAcJhJXbvlWTyckA5mChNUJ8SxzC+SruOH+h+zfH/uY2VZKCSMgS\n",
       "xuM2fUbDn3iQixiivOeV5u6kIkRCVokeMyZGoW15Bf0JDX+CWt8RAzT2vjOuWYQFIiXvrQ/xVeXB\n",
       "55l9jGj4E4SMiFu8r8p57pZGQ6Rkh0+ZA/Rxfm34NPwJYvmIGOClj8j2rw3h0Fv9/uPn3l5XXls3\n",
       "3AKbhj/x4i0CzGRM3KI+dcq2LrVAHIWdJQUhVzCUXzzra3TRXBr+xMmLx8bEALeqt31jhxgTIYaU\n",
       "ZFhjY0WuWhby2JBzbHQSJZeGnCB4u8gxJgZojgU+cFWA9Vi8KckkzNv1j8CqUebTuYi8Qq5+K8js\n",
       "jciOhuQneDsZEwN08voaWFZMSacVRjkFULvKUuz+feRlGPRD8jlffqy2J02f2zcKMizegR2MiCFW\n",
       "A4h26Hb1JteMopEFWPVjAPlaXevXV/nqkozJ58N400HQwye6bmnOe0if3DpiiPVFl0nslVMVHD+B\n",
       "0QffJxh9OeY5bLe/VQHB27kBQYxwuR03JePK584nelBJI0c4gm5ZEgIoCGBREM7ju3yuUvtTLNgV\n",
       "oYI5L3YCihhhVKfjJiekF8vNkXL2elhs3Ri8FbJqsgngKQkLa5+L8A7z+rEQ87iRcIbB27kyRYzQ\n",
       "bfK2mkLQRL+gTMaBEqYVlddgylFse2mLgkVBuekIU6F5zMFk2pzydjGAIsbYHDg3Zh9e1oa7n73F\n",
       "YIruldEKmt+XBQnBCCuNlO9Fu31SwbpPJwheD3lpYoxtVH37/kvBfe+wrxBHQeh39LhQBUa9P9cf\n",
       "5PYT3pLFp7w3McZ7fhNxOWqOUM3DHNYju3oDtxof/FPwSadDbs/psbgtXncQk2otVPvHTdWysfbZ\n",
       "g4rLO4i9rh+CHa8rJbf33/635yLGOG5GZp28nyRiTtfJewdy++C/qwJ8ebOD2KkluwQRy0MPlJi3\n",
       "SG1PTwgeMcaxv4n/Rv4AIvwdMCUnlXYAAAAASUVORK5CYII=\n",
       "\" style=\"display:inline;vertical-align:middle;\" /></a></span>"
      ],
      "text/plain": [
       "|- forall_{x, S} ((x not-in S) = [not](x in S))"
      ]
     },
     "metadata": {},
     "output_type": "display_data"
    }
   ],
   "source": [
    "not_in_set_def"
   ]
  },
  {
   "cell_type": "code",
   "execution_count": 7,
   "metadata": {},
   "outputs": [
    {
     "data": {
      "text/html": [
       "<strong id=\"not_in_set_def_spec\">not_in_set_def_spec:</strong> <span style=\"font-size:20px;\"> <a class=\"ProveItLink\" href=\"../../../__pv_it/_proof_not_in_set_is_bool/f3b7fb107231ece1e05fc044ee0a59dbbf49d2560/proof.ipynb\" style=\"text-decoration: none\">&nbsp;&#x22A2;&nbsp;&nbsp;</a><a class=\"ProveItLink\" href=\"../../../__pv_it/axioms/ce7f792044f7a5837c99bd77e2d8b5ca1c2334100/expr.ipynb\"><img src=\"data:image/png;base64,iVBORw0KGgoAAAANSUhEUgAAAL8AAAAVCAMAAAAgs8+8AAAAP1BMVEX///8AAAAAAAAAAAAAAAAA\n",
       "AAAAAAAAAAAAAAAAAAAAAAAAAAAAAAAAAAAAAAAAAAAAAAAAAAAAAAAAAAAAAADFBd4eAAAAFHRS\n",
       "TlMAInZUiRDNmWbv3US7qzLp8+P3ndw5NuIAAAAJcEhZcwAADsQAAA7EAZUrDhsAAAI4SURBVEjH\n",
       "pZdZluMgDEUxg4WZqjrN/tfa8lQGghCp5iPvmEEXgRBECCyLGJXlw/r5jtMWuqN+Rks17L+afr2X\n",
       "czzSPMOlys29Velh9xTrbwWgtbAe+XYGR5pnuG/d37inmnU8Dnz1GXavTcijnSkLaZ7jNqXHPRSY\n",
       "VXS1N3CIPeAWeC5pHuwn0+9yD91GoRvc17crFyqnMvY2fgO2jxtOLhaei6robfSrNCKmqiqfq5bO\n",
       "2pVdQ9I8x22q+lxUuE6RkTKapPWTE5Y9vJooNTnrwiEd2X3XTAPBbQ9Ln4t6u4KhJKMU8IT7uidY\n",
       "2yRJm7HEO/XaxztwRXncIneI4balz0V1p+N22ftguDy8tZtijAw537GrNm79L/OFd1A1UNz3Hehx\n",
       "UbczPe6bA9XItCHszwt/wtve5yunpsweX9/enrFqILhH4bmoBWCrYsXsw3V9Rdo7Gq9qv/3v/Alu\n",
       "Gz0EF9Wp54zjXhpTJf46+ZuLveSrl3Jc/DtFzH/MFXNc1ONeQ6e9iLtTRbqQUvj6grqH/SQVG6au\n",
       "zWr+UDYQ3DbXUlzUMxWpnAygHV8u16rq5I9rrOusCewThsywQ24b9xQXNR2+GUCvFVhVb9vLV+kH\n",
       "hI8Q49PJeW7+yQ0bCG6Y5O7qEgm3f3Vo7vE6Fhz/cCHND7jCz3EPHTzCuPflzBOMND/z+GO4pwby\n",
       "DxZzOpcwAyPNh+WX07+5lxpqGlr9cmaCy+fjhtkVuXUh/ggyjzM5uX6UebphjnvoP5evFSVW/8YX\n",
       "AAAAAElFTkSuQmCC\n",
       "\" style=\"display:inline;vertical-align:middle;\" /></a></span><br>"
      ],
      "text/plain": [
       "<IPython.core.display.HTML object>"
      ]
     },
     "metadata": {},
     "output_type": "display_data"
    }
   ],
   "source": [
    "not_in_set_def_spec = not_in_set_def.instantiate({x:x, S:S})"
   ]
  },
  {
   "cell_type": "code",
   "execution_count": 8,
   "metadata": {},
   "outputs": [
    {
     "data": {
      "text/html": [
       "<span style=\"font-size:20px;\"><a class=\"ProveItLink\" href=\"../../../__pv_it/theorems/1cde4367c20ed40a671f20174f85f2aaa5c513fe0/expr.ipynb\"><img src=\"data:image/png;base64,iVBORw0KGgoAAAANSUhEUgAAAGgAAAAVBAMAAABYjraNAAAAMFBMVEX///8AAAAAAAAAAAAAAAAA\n",
       "AAAAAAAAAAAAAAAAAAAAAAAAAAAAAAAAAAAAAAAAAAAv3aB7AAAAD3RSTlMAInZUiRDNmWbv3US7\n",
       "qzJazP2FAAAACXBIWXMAAA7EAAAOxAGVKw4bAAABpElEQVQ4y2NgYBBgwAkYcUkwGeDWxK2Apnbl\n",
       "sW+zbgMZJjg0mJc4dDNooAnycCuIxW5gYE3ArodHgSHmAwNbALqmBhaBAwzsDdg1lTMwcCQwcBRg\n",
       "aOIwuMDAieroU6uWQVj/ID6aiioO1pTAYIbi8SSYc7h/MDDwPWBgyEAVB2rilXBgKAEyWZWuPnEG\n",
       "iYnBvcD63w9M+zKgiPNwq2pdgRjFzqCrUAUSS0RY2v//LygC2xhQxHm4l81fHsCwGMhsZOgPuAES\n",
       "QwpJVp3/E4CUJQOKONB5TN2pDLOBzAcMZWAhvlmrVq1aA1PA/htIvEcVB2piOLAFrImBYRLE9ANw\n",
       "i4ARwfoZSO9EFQdr4gE7j4H7I0MoiF4Ad9wFYML7CmRYMaCIgzWxMRwCqjjNO4HBASSmBJNkBipj\n",
       "Bwn1MKCIgzUZgcKU+V/4BG5wsmWDJV72JdDQLmFAEefhdmBRKWB4BbSpSMG8GeKqO1uhmriv3wUr\n",
       "XI0izpR5BpzKuR6gJAkfWDKCZqgFWMXRkyQqwJWcD+LTJINDPAafJlwmMirg1sOEvfwAAPZlZ5Tc\n",
       "0sebAAAAAElFTkSuQmCC\n",
       "\" style=\"display:inline;vertical-align:middle;\" /></a> <a class=\"ProveItLink\" href=\"../../../__pv_it/_proof_not_in_set_is_bool/a08e127c7bd93d03445d38073431c332978cba590/proof.ipynb\" style=\"text-decoration: none\">&nbsp;&#x22A2;&nbsp;&nbsp;</a><a class=\"ProveItLink\" href=\"../../../__pv_it/theorems/57357fa357225c9fecfa801f6d0ec33d232717430/expr.ipynb\"><img src=\"data:image/png;base64,iVBORw0KGgoAAAANSUhEUgAAAGgAAAAVCAMAAACdfluMAAAAP1BMVEX///8AAAAAAAAAAAAAAAAA\n",
       "AAAAAAAAAAAAAAAAAAAAAAAAAAAAAAAAAAAAAAAAAAAAAAAAAAAAAAAAAAAAAADFBd4eAAAAFHRS\n",
       "TlMAInZUiRDNmWbv3US7qzLp8+P3ndw5NuIAAAAJcEhZcwAADsQAAA7EAZUrDhsAAAHOSURBVEjH\n",
       "nVZbYsMgDAODzZttHfc/60xeBRKSbXw0LVGwLMtOheAlxd2Sf74xW6BubxNObgR4ONe7SIWcT2H5\n",
       "rfQtPKdhQxmjtbD8MNiHFGIlIwmXSEj3YBOGh2seGMttsu9AzEVL/sIHPdDyQ1yzXOxCz5rfBLJK\n",
       "VFXcncrRf3z6LuWS2/o4HPG86ByIt9RcuUCAIuV+r6wC5HWb7Ii/yChJyzYwuxUQIGHW+rCgrBUY\n",
       "K4il6Ca0bpwizxWrZkDwSbecWG5IIMxRE6p9YkcL28Ir7S1kGx4kr2rkyRVvmILfMrCyHsJSHWLQ\n",
       "ta8QYil7YVVTYZqZAWzgY9zm3qqHabHZcV2/XvwRz5Yv+1Olxy8rDoHqRR+BFg+1OmHF62Fo2L1S\n",
       "235wPf4yo9pF8ZBucRTLh9g20NBEuNVelg2l/LTh+kC0NnrlE0Sq9N7zCECEoSH3cw+r2iYNgHkg\n",
       "BbtBVcloOFBotCI1NBFbUvemNu2cJHURiAEaNBPOK0k0TEgZqzqhXqE3nREhmZTeIB86fOzwQC7G\n",
       "9/T2eToa7LeO3Ug5vZGGuoQ7/M1gfBrOjwN5EHL2ppTx4clHwODZGVyr/1KcEZu8ktPTX4C/xPkB\n",
       "brIOUkJq0akAAAAASUVORK5CYII=\n",
       "\" style=\"display:inline;vertical-align:middle;\" /></a></span>"
      ],
      "text/plain": [
       "{(x in S) in BOOLEAN} |- (x not-in S) in BOOLEAN"
      ]
     },
     "metadata": {},
     "output_type": "display_data"
    },
    {
     "name": "stdout",
     "output_type": "stream",
     "text": [
      "not_in_set_is_bool may now be readily provable (assuming required theorems are usable).  Simply execute \"%qed\".\n"
     ]
    }
   ],
   "source": [
    "not_in_set_def_spec.sub_left_side_into(closure_spec)"
   ]
  },
  {
   "cell_type": "code",
   "execution_count": 9,
   "metadata": {},
   "outputs": [
    {
     "name": "stdout",
     "output_type": "stream",
     "text": [
      "proveit.logic.sets.membership.not_in_set_is_bool has been proven.\n"
     ]
    },
    {
     "data": {
      "text/html": [
       "<table><tr><th>&nbsp;</th><th>step type</th><th>requirements</th><th>statement</th></tr>\n",
       "<tr><td><a name=\"0x4160544de7af3666_step0\">0</a></td><td>generalization</td><td><a href=\"#0x4160544de7af3666_step1\">1</a></td><td><span style=\"font-size:20px;\"> <a class=\"ProveItLink\" href=\"../../../__pv_it/_proof_not_in_set_is_bool/5208ab6038f33cef527430d0a9aa87f492d9b2d90/proof.ipynb\" style=\"text-decoration: none\">&nbsp;&#x22A2;&nbsp;&nbsp;</a><a class=\"ProveItLink\" href=\"../../../__pv_it/theorems/2972c64ba9fbc89f6d223beaaf44dec5b29d32b90/expr.ipynb\"><img src=\"data:image/png;base64,iVBORw0KGgoAAAANSUhEUgAAAP0AAAAXCAMAAAD3NLkqAAAARVBMVEX///8AAAAAAAAAAAAAAAAA\n",
       "AAAAAAAAAAAAAAAAAAAAAAAAAAAAAAAAAAAAAAAAAAAAAAAAAAAAAAAAAAAAAAAAAAAAAAAeYafp\n",
       "AAAAFnRSTlMAq1RmmUTNIjK7EInv3Xbp8+P355HBoPSVsQAAAAlwSFlzAAAOxAAADsQBlSsOGwAA\n",
       "A4hJREFUWMPdWAmu3CAMZV+Du3P/oxbIZgNJZqRWUxVV9Sg8J35e4TP27yzbyXvUq8//DPyvLxBU\n",
       "XiwT5s81PLw+Ld5ksySuTzg/toX8KHkRqbxYjndqSsXIZGEET/b7StmasNJvcKUPp340GYKh8mqd\n",
       "9q6MagiDz3dZgdgXxtGWHzv88KX1Hw29klRerUS1VBOyuUyqV9hLseV7g+8ei+Kj7JdOzirXp/Tl\n",
       "K8mN7HDNL2HAp2RG9tujCpebs81nq95QOelqBoq13JFneTXerU+NHPBj7LmVW2dp8KV6KC3xs4kf\n",
       "qQwAPLh4JqRtOdp1hZBzRO6IqCPasQvUrhcg8Yjhqun78JKRNGDPfRJeZL+HbZflQ8CBqUR7suze\n",
       "J3NZfDdDIt9Menhhn8ySkwoIbvn+3yTdIoAEh16AP60vyZx6qs/waFRSQ49JgkhpK7PA+JHLZj7s\n",
       "A/ic914hUNMwV10PpN7essJr2OOUiaiudplN2YfeYQ6497rT05FuAovMCuH6pqeJbH7DBFyrz2/f\n",
       "UxpHk8qbMrJ0xdflO/ZVRASvtpqbRszn7LvJW6aPm+mtjj42K3sWg7hn337iLA9+MpfkXv3bY710\n",
       "+FnsKweP4eaoJwBly79joMjuSOyHyXto4KMW1msWn5st9jKG+8xv/bzoh0C+Rof9nnw2byiRrs4F\n",
       "HXuD4VFslQCWcc/MYQHk7CV9AWqqRIM4G+sJRSJROplaFjdYBliGUiO8RuYcRFA2dNd0E50TTCIb\n",
       "AK7ZC8Bwu/AjlcrnkWlBqMzn7LUnGpp4CelVHNqssXcK+jazD6tViuyCKuw1yvTiYTrsy0CIdM4p\n",
       "PLWNmLCvVQdRUTh6bUZ5HtYMnLMXnGhI49sSvZ7zZHOte9afLlzCMqgSOqGkIHnuf4Ru/GquOD9B\n",
       "SVO8xngwi/fnHa+Hb73yrPPV8+T8j347TzTcyYfq1cxHmxv7IS+To3Kyfv7y5OQ6XNlTP3Zv8T3c\n",
       "LiyaNqJDNVe16HLLrrveqYGOS1SvFeC5ubJ3A/v9inJzVXm6w6n3rugDvNRjOabUm98i6iGw3p3t\n",
       "Rddj3mKNEus9alSvwY5NYcBE7yd2ekvlGKuHS+ibl9RbuLi4JOLE6o5dsZZ2X0tbu59vToDTSf3S\n",
       "JdS/9/eJO7gOj+yZeuVz6mWbLFDZL/5wo3iP/C1csmf2LD7fjKRm/8/qHPbMPvzTdH4DX5sewaAm\n",
       "9xgAAAAASUVORK5CYII=\n",
       "\" style=\"display:inline;vertical-align:middle;\" /></a></span></td></tr>\n",
       "<tr><td><a name=\"0x4160544de7af3666_step1\">1</a></td><td>instantiation</td><td><a href=\"#0x4160544de7af3666_step2\">2</a>, <a href=\"#0x4160544de7af3666_step3\">3</a>, <a href=\"#0x4160544de7af3666_step4\">4</a></td><td><span style=\"font-size:20px;\"><a class=\"ProveItLink\" href=\"../../../__pv_it/theorems/1cde4367c20ed40a671f20174f85f2aaa5c513fe0/expr.ipynb\"><img src=\"data:image/png;base64,iVBORw0KGgoAAAANSUhEUgAAAGgAAAAVBAMAAABYjraNAAAAMFBMVEX///8AAAAAAAAAAAAAAAAA\n",
       "AAAAAAAAAAAAAAAAAAAAAAAAAAAAAAAAAAAAAAAAAAAv3aB7AAAAD3RSTlMAInZUiRDNmWbv3US7\n",
       "qzJazP2FAAAACXBIWXMAAA7EAAAOxAGVKw4bAAABpElEQVQ4y2NgYBBgwAkYcUkwGeDWxK2Apnbl\n",
       "sW+zbgMZJjg0mJc4dDNooAnycCuIxW5gYE3ArodHgSHmAwNbALqmBhaBAwzsDdg1lTMwcCQwcBRg\n",
       "aOIwuMDAieroU6uWQVj/ID6aiioO1pTAYIbi8SSYc7h/MDDwPWBgyEAVB2rilXBgKAEyWZWuPnEG\n",
       "iYnBvcD63w9M+zKgiPNwq2pdgRjFzqCrUAUSS0RY2v//LygC2xhQxHm4l81fHsCwGMhsZOgPuAES\n",
       "QwpJVp3/E4CUJQOKONB5TN2pDLOBzAcMZWAhvlmrVq1aA1PA/htIvEcVB2piOLAFrImBYRLE9ANw\n",
       "i4ARwfoZSO9EFQdr4gE7j4H7I0MoiF4Ad9wFYML7CmRYMaCIgzWxMRwCqjjNO4HBASSmBJNkBipj\n",
       "Bwn1MKCIgzUZgcKU+V/4BG5wsmWDJV72JdDQLmFAEefhdmBRKWB4BbSpSMG8GeKqO1uhmriv3wUr\n",
       "XI0izpR5BpzKuR6gJAkfWDKCZqgFWMXRkyQqwJWcD+LTJINDPAafJlwmMirg1sOEvfwAAPZlZ5Tc\n",
       "0sebAAAAAElFTkSuQmCC\n",
       "\" style=\"display:inline;vertical-align:middle;\" /></a> <a class=\"ProveItLink\" href=\"../../../__pv_it/_proof_not_in_set_is_bool/a08e127c7bd93d03445d38073431c332978cba590/proof.ipynb\" style=\"text-decoration: none\">&nbsp;&#x22A2;&nbsp;&nbsp;</a><a class=\"ProveItLink\" href=\"../../../__pv_it/theorems/57357fa357225c9fecfa801f6d0ec33d232717430/expr.ipynb\"><img src=\"data:image/png;base64,iVBORw0KGgoAAAANSUhEUgAAAGgAAAAVCAMAAACdfluMAAAAP1BMVEX///8AAAAAAAAAAAAAAAAA\n",
       "AAAAAAAAAAAAAAAAAAAAAAAAAAAAAAAAAAAAAAAAAAAAAAAAAAAAAAAAAAAAAADFBd4eAAAAFHRS\n",
       "TlMAInZUiRDNmWbv3US7qzLp8+P3ndw5NuIAAAAJcEhZcwAADsQAAA7EAZUrDhsAAAHOSURBVEjH\n",
       "nVZbYsMgDAODzZttHfc/60xeBRKSbXw0LVGwLMtOheAlxd2Sf74xW6BubxNObgR4ONe7SIWcT2H5\n",
       "rfQtPKdhQxmjtbD8MNiHFGIlIwmXSEj3YBOGh2seGMttsu9AzEVL/sIHPdDyQ1yzXOxCz5rfBLJK\n",
       "VFXcncrRf3z6LuWS2/o4HPG86ByIt9RcuUCAIuV+r6wC5HWb7Ii/yChJyzYwuxUQIGHW+rCgrBUY\n",
       "K4il6Ca0bpwizxWrZkDwSbecWG5IIMxRE6p9YkcL28Ir7S1kGx4kr2rkyRVvmILfMrCyHsJSHWLQ\n",
       "ta8QYil7YVVTYZqZAWzgY9zm3qqHabHZcV2/XvwRz5Yv+1Olxy8rDoHqRR+BFg+1OmHF62Fo2L1S\n",
       "235wPf4yo9pF8ZBucRTLh9g20NBEuNVelg2l/LTh+kC0NnrlE0Sq9N7zCECEoSH3cw+r2iYNgHkg\n",
       "BbtBVcloOFBotCI1NBFbUvemNu2cJHURiAEaNBPOK0k0TEgZqzqhXqE3nREhmZTeIB86fOzwQC7G\n",
       "9/T2eToa7LeO3Ug5vZGGuoQ7/M1gfBrOjwN5EHL2ppTx4clHwODZGVyr/1KcEZu8ktPTX4C/xPkB\n",
       "brIOUkJq0akAAAAASUVORK5CYII=\n",
       "\" style=\"display:inline;vertical-align:middle;\" /></a></span></td></tr>\n",
       "<tr><td>&nbsp;</td><td colspan=4 style=\"text-align:left\"><span style=\"font-size:20px;\"><a class=\"ProveItLink\" href=\"../../../__pv_it/_proof_not_in_set_is_bool/1d99392da58b40374b949787020ddefb47f454cd0/expr.ipynb\"><img src=\"data:image/png;base64,iVBORw0KGgoAAAANSUhEUgAAADsAAAAVBAMAAAAKrYvGAAAAMFBMVEX///8AAAAAAAAAAAAAAAAA\n",
       "AAAAAAAAAAAAAAAAAAAAAAAAAAAAAAAAAAAAAAAAAAAv3aB7AAAAD3RSTlMAdrurzZkQ7zJUiSLd\n",
       "ZkQEbk8lAAAACXBIWXMAAA7EAAAOxAGVKw4bAAABHElEQVQoz2NgQAYb8PAYGBgnoHAfgkmh/8pG\n",
       "rgkg1iw01RfA1BcGBqYyIM3mgGaaG4jg+MjAwAnEDKwX0KSvgs34AcS/gAx2NFkGdpCVTB+AGKiE\n",
       "YQq6NAvIOH4FBoZ+ASAjCiHBbSUNFOEyYABL7ToJEvNFSD/fwPSNgYEX5FZ5q1X3wGIn4bJstQys\n",
       "B4AOLgCy9WGCdXBp1g8MPAuAfvoA8Ta6NLsCQ/4DBgY+oG6OXzBBhOH5Agz3gRQn0ALGfzBBRYT0\n",
       "BAYTzg0MvEA/sXyACS6GSzMJcB5lBTphAQOr/icBqGAP0CYlINBmYDNcsVmCgYHnAXIg8TSghdoe\n",
       "FB5vAJp0LCpXG5XLrYDKT0LlMqGlJm4BFK40AwMAeV42yYcqVGcAAAAASUVORK5CYII=\n",
       "\" style=\"display:inline;vertical-align:middle;\" /></a> : <a class=\"ProveItLink\" href=\"../../../__pv_it/_proof_not_in_set_is_bool/d8b023e580e5c5d2e8ba2b64a3d58b8696dc44110/expr.ipynb\"><img src=\"data:image/png;base64,iVBORw0KGgoAAAANSUhEUgAAAD4AAAAQBAMAAAC8SdExAAAAMFBMVEX///8AAAAAAAAAAAAAAAAA\n",
       "AAAAAAAAAAAAAAAAAAAAAAAAAAAAAAAAAAAAAAAAAAAv3aB7AAAAD3RSTlMAMrsiq4l2RO8QZpnd\n",
       "VM2humBGAAAACXBIWXMAAA7EAAAOxAGVKw4bAAAAzElEQVQY02NgwAHYTuj963FnwA2Y2BPsphTg\n",
       "k1/AaqCAV57rggOmeNKZMw/g8g8wpOsyEfpZrALg4iZhZiCK+SXC/MwcV7g0ezOD/gQgzWeAkD/X\n",
       "f3oCjDdjAcMeEM2H7D625XDT9jMwHAXREmeAQAEqz6BQCpNvYuD8DqInIetnUGCCcji/MXB9ADF4\n",
       "UOVh1nH+ZWB5cBkU7Ako8tdgPDWGOxs2gBhvEfIBrKkbGISUgMCAYUqqsJsASHiKOsRPbC+UsMdf\n",
       "qc4ZpFAFAIbwN/uxrLzpAAAAAElFTkSuQmCC\n",
       "\" style=\"display:inline;vertical-align:middle;\" /></a>, <a class=\"ProveItLink\" href=\"../../../../../../__pv_it/common/a0d9d672aa5e272d907247690c152cc2c6daafb70/expr.ipynb\"><img src=\"data:image/png;base64,iVBORw0KGgoAAAANSUhEUgAAAAsAAAAJBAMAAAAWSsseAAAAMFBMVEX///8AAAAAAAAAAAAAAAAA\n",
       "AAAAAAAAAAAAAAAAAAAAAAAAAAAAAAAAAAAAAAAAAAAv3aB7AAAAD3RSTlMAEHarMolUmd1mIs3v\n",
       "RLtmgJDEAAAACXBIWXMAAA7EAAAOxAGVKw4bAAAAQklEQVQI12NgEFIWCU1gYChgMmJvYOBcwPmR\n",
       "eQIDCwP7BgYQ4FEAU/cXMAowyF2wYWBlYMh3rGG4xsAgrsRWmcAAAFEjCyBvD0T9AAAAAElFTkSu\n",
       "QmCC\n",
       "\" style=\"display:inline;vertical-align:middle;\" /></a> : <a class=\"ProveItLink\" href=\"../../../__pv_it/axioms/6d66ef15ae974e95094ed8ed211a8a6beb2861b50/expr.ipynb\"><img src=\"data:image/png;base64,iVBORw0KGgoAAAANSUhEUgAAADMAAAAVCAMAAADciiYzAAAAP1BMVEX///8AAAAAAAAAAAAAAAAA\n",
       "AAAAAAAAAAAAAAAAAAAAAAAAAAAAAAAAAAAAAAAAAAAAAAAAAAAAAAAAAAAAAADFBd4eAAAAFHRS\n",
       "TlMAEHarMolUmd1mIs3vRLvp8+P3nXqVZZ4AAAAJcEhZcwAADsQAAA7EAZUrDhsAAAD5SURBVDjL\n",
       "tZPdksMgCIUFVDRG+7O8/7MWTduE7taZXKwXOirg5znq3KQt7nwrcDrFk51H5hBcrrMctrsNtYMm\n",
       "03OSrcBjyOVrPLZ0uabjvvgxVPySUQuCI2+WJG+XHKuASOBDiLvGXTCwECAS9iLKiYSOd/zSjckf\n",
       "EFm00WZZXvpcUfKe86c5gE1k3QD7UYbDryml21279kt+eeu/Gg7ooYfrDZrXreJbE+UDMMZYc+D5\n",
       "JBaBUbQ66pThYA66yvbZPEvwiIrigTWnHllKtOaoqCM4bMcBa9XIOVqUezWysavERHH21PJPaKpb\n",
       "+eefs7TzHzTE8zk03X0AEF4GZaKk3CoAAAAASUVORK5CYII=\n",
       "\" style=\"display:inline;vertical-align:middle;\" /></a>, <a class=\"ProveItLink\" href=\"../../../../../../__pv_it/common/ff7dba4ef0bbe791ab573bf2d9c220a304399ac80/expr.ipynb\"><img src=\"data:image/png;base64,iVBORw0KGgoAAAANSUhEUgAAAAsAAAANBAMAAACN24kIAAAAMFBMVEX///8AAAAAAAAAAAAAAAAA\n",
       "AAAAAAAAAAAAAAAAAAAAAAAAAAAAAAAAAAAAAAAAAAAv3aB7AAAAD3RSTlMAEHaZZquJVO8y3btE\n",
       "zSKD2s2pAAAACXBIWXMAAA7EAAAOxAGVKw4bAAAAVklEQVQI12NgVHZgEGVgYGNvYPBnYJjOvIAh\n",
       "moFBgEOBoYmBgeG8AOdPIGXLwNQApLYycAcAKVOG8w5ASjTJ/gEDCOQCMdsFxnYgxaXAmgCk2J1s\n",
       "gCQAaFoNDtFIIdEAAAAASUVORK5CYII=\n",
       "\" style=\"display:inline;vertical-align:middle;\" /></a> : <a class=\"ProveItLink\" href=\"../../../__pv_it/axioms/fe3a8deeda9e1011cacaa4108184281bcacedd730/expr.ipynb\"><img src=\"data:image/png;base64,iVBORw0KGgoAAAANSUhEUgAAAFIAAAAVBAMAAAAnX6R8AAAAMFBMVEX///8AAAAAAAAAAAAAAAAA\n",
       "AAAAAAAAAAAAAAAAAAAAAAAAAAAAAAAAAAAAAAAAAAAv3aB7AAAAD3RSTlMAmd0iq3ZUiRDNZu9E\n",
       "uzLWhN+VAAAACXBIWXMAAA7EAAAOxAGVKw4bAAABUklEQVQoz2NgQABmBpwATSoMt0qeAGQeWwF2\n",
       "VYniBWsYopBFOrEr5A1g6P3AwNmAJCSFXaUgAwPXBAYuASShDcjyrJeUNCGsfxBX7kBy5gRkH0yF\n",
       "2cbzi4GB7wEDwyyEJCPQQxyhHs/LQBxLuLM4/teB6RKESs4FQNUMIQFCIM5khPj6/18MgNRKBiEl\n",
       "IFAEMpkSGBgWM6xv8AJJI7mEI/Y/yAfZEJ4JEHMfYGB4wCAJ5vNtAmrXhbvrD5B4j6qSgWErxJwL\n",
       "cCOBbuL4BqRPI1SCbGfg+czQARJQgNvtAIz0H0BGEoRvCIkLjjssGxjAcRoKDzsFSKgwrEW4nN2B\n",
       "ge1f4waeBHBAJMDcqA4NIHGESj4FBg7RgMRlEEt9T0BV8ji6gHXpIMWLHkoyq4XFJjSBKiBxFjLg\n",
       "AYwLkJOXAR6VtsgcpEDEBJdReKa4FbIaMAAAxUc/AKBsMVYAAAAASUVORK5CYII=\n",
       "\" style=\"display:inline;vertical-align:middle;\" /></a></span></td></tr><tr><td><a name=\"0x4160544de7af3666_step2\">2</a></td><td>theorem</td><td></td><td><span style=\"font-size:20px;\"> <a class=\"ProveItLink\" href=\"../../../../../equality/_theory_nbs_/proofs/sub_left_side_into/thm_proof.ipynb\" style=\"text-decoration: none\">&nbsp;&#x22A2;&nbsp;&nbsp;</a><a class=\"ProveItLink\" href=\"../../../../../equality/__pv_it/theorems/fa7b338ac0e02abe373a31648947826ee50d3a400/expr.ipynb\"><img src=\"data:image/png;base64,iVBORw0KGgoAAAANSUhEUgAAAMIAAAAXBAMAAACrPI2eAAAAMFBMVEX///8AAAAAAAAAAAAAAAAA\n",
       "AAAAAAAAAAAAAAAAAAAAAAAAAAAAAAAAAAAAAAAAAAAv3aB7AAAAD3RSTlMAq1RmmUTNIjK7EInv\n",
       "3XZ/CtNrAAAACXBIWXMAAA7EAAAOxAGVKw4bAAACs0lEQVRIx7VWS2gTURQ9k5l08uuYQkFEKQVB\n",
       "wQ9moyCoRIpUqEjQlVZsUEFwNV2KYutWlI4ULLowUQTNRqKIixahVNxUlFFwWRg/IEWIWfhNQL3v\n",
       "N3kxDIikF97c+w7nvfNy372PACtjrnA2VsqcQeHjAZBlwfru7Lv8++qaU2UWbVbQe2Af86e7dPRv\n",
       "QHKRfKqokJ4yLrJsed0RSPwCYjRg5RRk5pkI0oNdyv4PGk0KMi1sESbJ9XQpSck6DVLBhhZ2Enix\n",
       "tPS8SwqrKNtTVD0YoXH/7b05ys0DYD9wI2qJ1TbbKFIRrUC7n3stD468M2D5wA5gHDZVbLw0snd1\n",
       "588W7siXR30uzIKY5SMVPq+d284DkjFds2HQDWyhXcpptnQ38CRKwfSR9nFLgqORCiUVPKO6gsVL\n",
       "dorKK+AX3U9HiFIw8nDqonNEiUe3Q6hABcVuBMdoFPewaAF4RUn+cGGYJsezotelQmYQvVn4Eue1\n",
       "LYnQyEg0lQK/jDE3RWfZStHDM6zpGhinBH80vBPUkkEjMa8pTJTtfthFicfYRTCidZ1sOiTD+aoU\n",
       "bgKVwjqkKdxJ4zw7gfmytolcLhlMktxt3/E0hV21d2XEPYnHvZDIn09FRk9dKVCJbrt0AIdk4RqM\n",
       "amRlSfNn16gagabQxz6xrMQTXouok63Sz0BCV4A7tdgQS+cbRcvIl+Qyf9l7C5lJTeEpz7IncZ4l\n",
       "RhRZCsma9YaA7atogjZOVe35x8inqsQY02rJ/s6dD4E7gSSG2439XVRm2DPhG+iUZumUCzg4WiuT\n",
       "iw1d0xSWm7w+ZyDwpCuJcq0i6zajgrPteEy5u5jW+yHsNI5XQqIwRdat0iEl7KhyA/Fip4LlCnw4\n",
       "JApTZN1seeeO247nlDv8CZ0KmOU4e55yOqzI/2XtfxVS2vff7Q+ss7Q23lQ/yQAAAABJRU5ErkJg\n",
       "gg==\n",
       "\" style=\"display:inline;vertical-align:middle;\" /></a></span></td></tr>\n",
       "<tr><td>&nbsp;</td><td colspan=4 style-\"text-align:left\"><a class=\"ProveItLink\" href=\"../../../../../equality/_theory_nbs_/proofs/sub_left_side_into/thm_proof.ipynb\">proveit.logic.equality.sub_left_side_into</a></td></tr><tr><td><a name=\"0x4160544de7af3666_step3\">3</a></td><td>instantiation</td><td><a href=\"#0x4160544de7af3666_step5\">5</a>, <a href=\"#0x4160544de7af3666_step6\">6</a></td><td><span style=\"font-size:20px;\"><a class=\"ProveItLink\" href=\"../../../__pv_it/theorems/1cde4367c20ed40a671f20174f85f2aaa5c513fe0/expr.ipynb\"><img src=\"data:image/png;base64,iVBORw0KGgoAAAANSUhEUgAAAGgAAAAVBAMAAABYjraNAAAAMFBMVEX///8AAAAAAAAAAAAAAAAA\n",
       "AAAAAAAAAAAAAAAAAAAAAAAAAAAAAAAAAAAAAAAAAAAv3aB7AAAAD3RSTlMAInZUiRDNmWbv3US7\n",
       "qzJazP2FAAAACXBIWXMAAA7EAAAOxAGVKw4bAAABpElEQVQ4y2NgYBBgwAkYcUkwGeDWxK2Apnbl\n",
       "sW+zbgMZJjg0mJc4dDNooAnycCuIxW5gYE3ArodHgSHmAwNbALqmBhaBAwzsDdg1lTMwcCQwcBRg\n",
       "aOIwuMDAieroU6uWQVj/ID6aiioO1pTAYIbi8SSYc7h/MDDwPWBgyEAVB2rilXBgKAEyWZWuPnEG\n",
       "iYnBvcD63w9M+zKgiPNwq2pdgRjFzqCrUAUSS0RY2v//LygC2xhQxHm4l81fHsCwGMhsZOgPuAES\n",
       "QwpJVp3/E4CUJQOKONB5TN2pDLOBzAcMZWAhvlmrVq1aA1PA/htIvEcVB2piOLAFrImBYRLE9ANw\n",
       "i4ARwfoZSO9EFQdr4gE7j4H7I0MoiF4Ad9wFYML7CmRYMaCIgzWxMRwCqjjNO4HBASSmBJNkBipj\n",
       "Bwn1MKCIgzUZgcKU+V/4BG5wsmWDJV72JdDQLmFAEefhdmBRKWB4BbSpSMG8GeKqO1uhmriv3wUr\n",
       "XI0izpR5BpzKuR6gJAkfWDKCZqgFWMXRkyQqwJWcD+LTJINDPAafJlwmMirg1sOEvfwAAPZlZ5Tc\n",
       "0sebAAAAAElFTkSuQmCC\n",
       "\" style=\"display:inline;vertical-align:middle;\" /></a> <a class=\"ProveItLink\" href=\"../../../__pv_it/_proof_not_in_set_is_bool/4727107d3d158391aa01de611a6fbfb9409127530/proof.ipynb\" style=\"text-decoration: none\">&nbsp;&#x22A2;&nbsp;&nbsp;</a><a class=\"ProveItLink\" href=\"../../../__pv_it/_proof_not_in_set_is_bool/d23025f93e5c2128268b3906705f0ad41599b2bb0/expr.ipynb\"><img src=\"data:image/png;base64,iVBORw0KGgoAAAANSUhEUgAAAIkAAAAVBAMAAACArtDCAAAAMFBMVEX///8AAAAAAAAAAAAAAAAA\n",
       "AAAAAAAAAAAAAAAAAAAAAAAAAAAAAAAAAAAAAAAAAAAv3aB7AAAAD3RSTlMAInZUiRDNmWbv3US7\n",
       "qzJazP2FAAAACXBIWXMAAA7EAAAOxAGVKw4bAAACLElEQVQ4y31UO2gUURQ9s5vZjTubZbGwshgi\n",
       "yiIRLMSg1SYWNipDINqssIkETGWQ9YOVEtFCIYtgoykWFIvRSAgxGKuJZVIkKcRAFLaw0UZFAkEx\n",
       "632/mTtxdg+cmffumzkz97x7H4AiIlhoC6vjcuoomxxor+K4ijEcnr4yPjNLg2MsmC4nK/TXyg9Q\n",
       "okFp90owZ41tAnaVxc4ni+RdVH4g40EyrvIWA3kge5vFbiar3AC6q+iegORulckeYA+P1WNP9Pm+\n",
       "+tEd5chjKAozl/0XoUoGOM5t4dlh4aDxdRsoNIHLUKTIqBf9y/pdoMbey5K5du+HL6fkzo6ZsN06\n",
       "J+9nNYF9XuTu0EzZiCtkyKMsjri35CSqo6nWXzG5pwmMRL68G/99DXhGL/oC5FuOSucOprwNqRKp\n",
       "230t4dgJTaDK3S0teHhqSnONnKb6aeK6CnwV0oHJ9Q9dvmui8ISWXhmVvFP+TwV4pAKV8HuUp/2L\n",
       "7ouasAP+L3kEIqNQRWQE5yeGRSAX5kMr1hYNTmoCjbhKFe+NyoSsUXulpw7ZBynTM+mG2j081AR6\n",
       "YyppV2+dQtca0jsX6o7qz0vGk+d6g2swhZEJOziYx+Bp4BtTKTRgX3X7J9Xs4oqqiqzz8bN866Um\n",
       "JfnpjXrm0PSq7Olck8m8jnXA/LLPi9lqKMriPaM7QCPWX/fRAaJvY73LscSPgGIHlf2aiaiwMSuE\n",
       "5M8ttT1P+Sm4t71IqqiYhH9YHIls5rWPgwAAAABJRU5ErkJggg==\n",
       "\" style=\"display:inline;vertical-align:middle;\" /></a></span></td></tr>\n",
       "<tr><td>&nbsp;</td><td colspan=4 style=\"text-align:left\"><span style=\"font-size:20px;\"><a class=\"ProveItLink\" href=\"../../../../../../__pv_it/common/09585084922504426caf1db2ff588a23a0932a960/expr.ipynb\"><img src=\"data:image/png;base64,iVBORw0KGgoAAAANSUhEUgAAAA8AAAAPBAMAAADJ+Ih5AAAAMFBMVEX///8AAAAAAAAAAAAAAAAA\n",
       "AAAAAAAAAAAAAAAAAAAAAAAAAAAAAAAAAAAAAAAAAAAv3aB7AAAAD3RSTlMAIs1UmauJMnZmRLsQ\n",
       "3e++988cAAAACXBIWXMAAA7EAAAOxAGVKw4bAAAAXklEQVQI12NgAAEhBijQh9LM/6EMlngBCCMx\n",
       "vwBMMzb0G0BkGOwngBmLGeoTwAwHBvkAEM2xxSV+A4hxgoGB/wJEhoH3AZDmAupg+gBkyAEx90cG\n",
       "htP/dRiY939KAABt3hLO6mcEjQAAAABJRU5ErkJggg==\n",
       "\" style=\"display:inline;vertical-align:middle;\" /></a> : <a class=\"ProveItLink\" href=\"../../../__pv_it/axioms/0b34a89219cb1b85abad8f0011f8b9bb7b4db6640/expr.ipynb\"><img src=\"data:image/png;base64,iVBORw0KGgoAAAANSUhEUgAAADMAAAAPBAMAAAC7N+rPAAAAMFBMVEX///8AAAAAAAAAAAAAAAAA\n",
       "AAAAAAAAAAAAAAAAAAAAAAAAAAAAAAAAAAAAAAAAAAAv3aB7AAAAD3RSTlMAEHarMolUmd1mIs3v\n",
       "RLtmgJDEAAAACXBIWXMAAA7EAAAOxAGVKw4bAAAAy0lEQVQY02NgwAbYykM5L2CVYXjEwPgeuwx7\n",
       "AQPDbBQRphcd3WAGvwMDwyVkGd5NAlDW/QkMDC5AWkhZJDQBJLAaJsMg/9UBTBcwGbE3gBi74Po5\n",
       "//+3AlELOD8yTwAJbECYLfT+D5BkYWCHiLGc6Ojo6INJ1oO9xaMA5jA+gJsHsg5s/f0FjGAHNMCk\n",
       "hIF4PVBI7oINAytYRAkmlQHEpUCc71jDcA0swp0AlaoIYGA1ANLiSmyVEDFGu4sQqYLLxWZoQccb\n",
       "Bw0oCAAApzEq4252YdgAAAAASUVORK5CYII=\n",
       "\" style=\"display:inline;vertical-align:middle;\" /></a></span></td></tr><tr><td><a name=\"0x4160544de7af3666_step4\">4</a></td><td>instantiation</td><td><a href=\"#0x4160544de7af3666_step7\">7</a></td><td><span style=\"font-size:20px;\"> <a class=\"ProveItLink\" href=\"../../../__pv_it/_proof_not_in_set_is_bool/f3b7fb107231ece1e05fc044ee0a59dbbf49d2560/proof.ipynb\" style=\"text-decoration: none\">&nbsp;&#x22A2;&nbsp;&nbsp;</a><a class=\"ProveItLink\" href=\"../../../__pv_it/axioms/ce7f792044f7a5837c99bd77e2d8b5ca1c2334100/expr.ipynb\"><img src=\"data:image/png;base64,iVBORw0KGgoAAAANSUhEUgAAAL8AAAAVCAMAAAAgs8+8AAAAP1BMVEX///8AAAAAAAAAAAAAAAAA\n",
       "AAAAAAAAAAAAAAAAAAAAAAAAAAAAAAAAAAAAAAAAAAAAAAAAAAAAAAAAAAAAAADFBd4eAAAAFHRS\n",
       "TlMAInZUiRDNmWbv3US7qzLp8+P3ndw5NuIAAAAJcEhZcwAADsQAAA7EAZUrDhsAAAI4SURBVEjH\n",
       "pZdZluMgDEUxg4WZqjrN/tfa8lQGghCp5iPvmEEXgRBECCyLGJXlw/r5jtMWuqN+Rks17L+afr2X\n",
       "czzSPMOlys29Velh9xTrbwWgtbAe+XYGR5pnuG/d37inmnU8Dnz1GXavTcijnSkLaZ7jNqXHPRSY\n",
       "VXS1N3CIPeAWeC5pHuwn0+9yD91GoRvc17crFyqnMvY2fgO2jxtOLhaei6robfSrNCKmqiqfq5bO\n",
       "2pVdQ9I8x22q+lxUuE6RkTKapPWTE5Y9vJooNTnrwiEd2X3XTAPBbQ9Ln4t6u4KhJKMU8IT7uidY\n",
       "2yRJm7HEO/XaxztwRXncIneI4balz0V1p+N22ftguDy8tZtijAw537GrNm79L/OFd1A1UNz3Hehx\n",
       "UbczPe6bA9XItCHszwt/wtve5yunpsweX9/enrFqILhH4bmoBWCrYsXsw3V9Rdo7Gq9qv/3v/Alu\n",
       "Gz0EF9Wp54zjXhpTJf46+ZuLveSrl3Jc/DtFzH/MFXNc1ONeQ6e9iLtTRbqQUvj6grqH/SQVG6au\n",
       "zWr+UDYQ3DbXUlzUMxWpnAygHV8u16rq5I9rrOusCewThsywQ24b9xQXNR2+GUCvFVhVb9vLV+kH\n",
       "hI8Q49PJeW7+yQ0bCG6Y5O7qEgm3f3Vo7vE6Fhz/cCHND7jCz3EPHTzCuPflzBOMND/z+GO4pwby\n",
       "DxZzOpcwAyPNh+WX07+5lxpqGlr9cmaCy+fjhtkVuXUh/ggyjzM5uX6UebphjnvoP5evFSVW/8YX\n",
       "AAAAAElFTkSuQmCC\n",
       "\" style=\"display:inline;vertical-align:middle;\" /></a></span></td></tr>\n",
       "<tr><td>&nbsp;</td><td colspan=4 style=\"text-align:left\"><span style=\"font-size:20px;\"><a class=\"ProveItLink\" href=\"../../../../../../__pv_it/common/a0d9d672aa5e272d907247690c152cc2c6daafb70/expr.ipynb\"><img src=\"data:image/png;base64,iVBORw0KGgoAAAANSUhEUgAAAAsAAAAJBAMAAAAWSsseAAAAMFBMVEX///8AAAAAAAAAAAAAAAAA\n",
       "AAAAAAAAAAAAAAAAAAAAAAAAAAAAAAAAAAAAAAAAAAAv3aB7AAAAD3RSTlMAEHarMolUmd1mIs3v\n",
       "RLtmgJDEAAAACXBIWXMAAA7EAAAOxAGVKw4bAAAAQklEQVQI12NgEFIWCU1gYChgMmJvYOBcwPmR\n",
       "eQIDCwP7BgYQ4FEAU/cXMAowyF2wYWBlYMh3rGG4xsAgrsRWmcAAAFEjCyBvD0T9AAAAAElFTkSu\n",
       "QmCC\n",
       "\" style=\"display:inline;vertical-align:middle;\" /></a> : <a class=\"ProveItLink\" href=\"../../../../../../__pv_it/common/a0d9d672aa5e272d907247690c152cc2c6daafb70/expr.ipynb\"><img src=\"data:image/png;base64,iVBORw0KGgoAAAANSUhEUgAAAAsAAAAJBAMAAAAWSsseAAAAMFBMVEX///8AAAAAAAAAAAAAAAAA\n",
       "AAAAAAAAAAAAAAAAAAAAAAAAAAAAAAAAAAAAAAAAAAAv3aB7AAAAD3RSTlMAEHarMolUmd1mIs3v\n",
       "RLtmgJDEAAAACXBIWXMAAA7EAAAOxAGVKw4bAAAAQklEQVQI12NgEFIWCU1gYChgMmJvYOBcwPmR\n",
       "eQIDCwP7BgYQ4FEAU/cXMAowyF2wYWBlYMh3rGG4xsAgrsRWmcAAAFEjCyBvD0T9AAAAAElFTkSu\n",
       "QmCC\n",
       "\" style=\"display:inline;vertical-align:middle;\" /></a>, <a class=\"ProveItLink\" href=\"../../../../../../__pv_it/common/38f47c5670ea8c5b56253448e95d8afb56bc09b40/expr.ipynb\"><img src=\"data:image/png;base64,iVBORw0KGgoAAAANSUhEUgAAAA0AAAAOBAMAAAAGUYvhAAAAMFBMVEX///8AAAAAAAAAAAAAAAAA\n",
       "AAAAAAAAAAAAAAAAAAAAAAAAAAAAAAAAAAAAAAAAAAAv3aB7AAAAD3RSTlMAVJmJZkS7dhDNMqsi\n",
       "791pxlESAAAACXBIWXMAAA7EAAAOxAGVKw4bAAAAX0lEQVQI12NgYGBUMmYJYGBgSGfgyAdSTAoM\n",
       "DJ5Amn8BA0M4kI53YGBYBaT7PwMFgIDl//89YEZ7/l8GCNAHamcBKRFgYOgG0ucbGBjkgLQyEOsZ\n",
       "MDBvANIK0dobgRQAj4AQu33LPq4AAAAASUVORK5CYII=\n",
       "\" style=\"display:inline;vertical-align:middle;\" /></a> : <a class=\"ProveItLink\" href=\"../../../../../../__pv_it/common/38f47c5670ea8c5b56253448e95d8afb56bc09b40/expr.ipynb\"><img src=\"data:image/png;base64,iVBORw0KGgoAAAANSUhEUgAAAA0AAAAOBAMAAAAGUYvhAAAAMFBMVEX///8AAAAAAAAAAAAAAAAA\n",
       "AAAAAAAAAAAAAAAAAAAAAAAAAAAAAAAAAAAAAAAAAAAv3aB7AAAAD3RSTlMAVJmJZkS7dhDNMqsi\n",
       "791pxlESAAAACXBIWXMAAA7EAAAOxAGVKw4bAAAAX0lEQVQI12NgYGBUMmYJYGBgSGfgyAdSTAoM\n",
       "DJ5Amn8BA0M4kI53YGBYBaT7PwMFgIDl//89YEZ7/l8GCNAHamcBKRFgYOgG0ucbGBjkgLQyEOsZ\n",
       "MDBvANIK0dobgRQAj4AQu33LPq4AAAAASUVORK5CYII=\n",
       "\" style=\"display:inline;vertical-align:middle;\" /></a></span></td></tr><tr><td><a name=\"0x4160544de7af3666_step5\">5</a></td><td>conjecture</td><td></td><td><span style=\"font-size:20px;\"> <a class=\"ProveItLink\" href=\"../../../../../booleans/negation/_theory_nbs_/proofs/closure/thm_proof.ipynb\" style=\"text-decoration: none\">&nbsp;&#x22A2;&nbsp;&nbsp;</a><a class=\"ProveItLink\" href=\"../../../../../booleans/negation/__pv_it/theorems/63d2d1127aa0220ef21e2837c5f2bee240fe4c1d0/expr.ipynb\"><img src=\"data:image/png;base64,iVBORw0KGgoAAAANSUhEUgAAAJsAAAAVBAMAAACj9YEXAAAAMFBMVEX///8AAAAAAAAAAAAAAAAA\n",
       "AAAAAAAAAAAAAAAAAAAAAAAAAAAAAAAAAAAAAAAAAAAv3aB7AAAAD3RSTlMAq1RmmUTNIjK7EInv\n",
       "3XZ/CtNrAAAACXBIWXMAAA7EAAAOxAGVKw4bAAAChElEQVQ4y4VUTWjUQBR+TTa73U03evFQPGxA\n",
       "EMG/PajgRRasIvTgopeiIpUq4lZqtVAoVLqCV9sg1hJBjd56kdSLVA/WgyBqtUgtCAYCIoL/eKjH\n",
       "+t7M62STbdYPvuzk7Zsv728GoDUGmY3ItfBtDcuWjDAMYIQJp483l+c3AJzE9XoybEqT28qMcAH5\n",
       "KeGVN8Lhe1WwygAH6P1silqhVzKCtoKPrJeUK5uDDkAN4AoVw0mRy5QlGywlrJBeaZLTbUxzl/yS\n",
       "aafIdTAjPHpax+dLLtrtYEnJYRIdHuj48Wxa6TYzo6aGv+jTfeLFGPBUdG1DPuqg1nwQvEqT62ZG\n",
       "ucJOyn1GNtlTyX79sRF/TUz4EMAtYfSa5fpUJIwjMIFRwB6INTBvLL1dxO06JnwRcmJYCi+4d/2n\n",
       "F1dr+U4yExCo/hUYI+dt4t/ehlZYu7Gt2hyuPbNKNvMPPsY7JyH0L21hv+dMUTbUsW50lWgKJsjQ\n",
       "jmUKPrAcOMfR8hslQ9mJnjcYBmaOcub9FLkHAOsWcH1CpOM0RAdOHnszRzHvE7bwFI976A89jier\n",
       "5DDfIm3ZLiwLMTkMSiPLw5qYITjI3wu7XtfZ7w5TyFXAoKHChGCvsPyMye3AVtD+UdGJHvgu3Cm6\n",
       "q5/Zb0YNhcAobf2rhidrKznf/IaRZ6jrbSKW7iclTz/nutepdib7XWNKTK/UQLu7jHveyxPdeUwe\n",
       "jvOuuFGgWFWXDMBYvd2X0ZkWW4t1yeSFx1UzZuUhW8VltTqKPbPlPKPcOFvprCfPOyRvhQj7lcMz\n",
       "KBw+AyMYiTbQ7yr3KWYcI2urNV1MhVl3MmaYZsYxtbZc/r+3ey6UjF/mKdu+APwDN+eg1EeU4WMA\n",
       "AAAASUVORK5CYII=\n",
       "\" style=\"display:inline;vertical-align:middle;\" /></a></span></td></tr>\n",
       "<tr><td>&nbsp;</td><td colspan=4 style-\"text-align:left\"><a class=\"ProveItLink\" href=\"../../../../../booleans/negation/_theory_nbs_/proofs/closure/thm_proof.ipynb\">proveit.logic.booleans.negation.closure</a></td></tr><tr><td><a name=\"0x4160544de7af3666_step6\">6</a></td><td>assumption</td><td></td><td><span style=\"font-size:20px;\"><a class=\"ProveItLink\" href=\"../../../__pv_it/theorems/1cde4367c20ed40a671f20174f85f2aaa5c513fe0/expr.ipynb\"><img src=\"data:image/png;base64,iVBORw0KGgoAAAANSUhEUgAAAGgAAAAVBAMAAABYjraNAAAAMFBMVEX///8AAAAAAAAAAAAAAAAA\n",
       "AAAAAAAAAAAAAAAAAAAAAAAAAAAAAAAAAAAAAAAAAAAv3aB7AAAAD3RSTlMAInZUiRDNmWbv3US7\n",
       "qzJazP2FAAAACXBIWXMAAA7EAAAOxAGVKw4bAAABpElEQVQ4y2NgYBBgwAkYcUkwGeDWxK2Apnbl\n",
       "sW+zbgMZJjg0mJc4dDNooAnycCuIxW5gYE3ArodHgSHmAwNbALqmBhaBAwzsDdg1lTMwcCQwcBRg\n",
       "aOIwuMDAieroU6uWQVj/ID6aiioO1pTAYIbi8SSYc7h/MDDwPWBgyEAVB2rilXBgKAEyWZWuPnEG\n",
       "iYnBvcD63w9M+zKgiPNwq2pdgRjFzqCrUAUSS0RY2v//LygC2xhQxHm4l81fHsCwGMhsZOgPuAES\n",
       "QwpJVp3/E4CUJQOKONB5TN2pDLOBzAcMZWAhvlmrVq1aA1PA/htIvEcVB2piOLAFrImBYRLE9ANw\n",
       "i4ARwfoZSO9EFQdr4gE7j4H7I0MoiF4Ad9wFYML7CmRYMaCIgzWxMRwCqjjNO4HBASSmBJNkBipj\n",
       "Bwn1MKCIgzUZgcKU+V/4BG5wsmWDJV72JdDQLmFAEefhdmBRKWB4BbSpSMG8GeKqO1uhmriv3wUr\n",
       "XI0izpR5BpzKuR6gJAkfWDKCZqgFWMXRkyQqwJWcD+LTJINDPAafJlwmMirg1sOEvfwAAPZlZ5Tc\n",
       "0sebAAAAAElFTkSuQmCC\n",
       "\" style=\"display:inline;vertical-align:middle;\" /></a> <a class=\"ProveItLink\" href=\"../../../__pv_it/_proof_not_in_set_is_bool/b4857a5fb1c1e1c3355432c31bf04639c3e003400/proof.ipynb\" style=\"text-decoration: none\">&nbsp;&#x22A2;&nbsp;&nbsp;</a><a class=\"ProveItLink\" href=\"../../../__pv_it/theorems/1cde4367c20ed40a671f20174f85f2aaa5c513fe0/expr.ipynb\"><img src=\"data:image/png;base64,iVBORw0KGgoAAAANSUhEUgAAAGgAAAAVBAMAAABYjraNAAAAMFBMVEX///8AAAAAAAAAAAAAAAAA\n",
       "AAAAAAAAAAAAAAAAAAAAAAAAAAAAAAAAAAAAAAAAAAAv3aB7AAAAD3RSTlMAInZUiRDNmWbv3US7\n",
       "qzJazP2FAAAACXBIWXMAAA7EAAAOxAGVKw4bAAABpElEQVQ4y2NgYBBgwAkYcUkwGeDWxK2Apnbl\n",
       "sW+zbgMZJjg0mJc4dDNooAnycCuIxW5gYE3ArodHgSHmAwNbALqmBhaBAwzsDdg1lTMwcCQwcBRg\n",
       "aOIwuMDAieroU6uWQVj/ID6aiioO1pTAYIbi8SSYc7h/MDDwPWBgyEAVB2rilXBgKAEyWZWuPnEG\n",
       "iYnBvcD63w9M+zKgiPNwq2pdgRjFzqCrUAUSS0RY2v//LygC2xhQxHm4l81fHsCwGMhsZOgPuAES\n",
       "QwpJVp3/E4CUJQOKONB5TN2pDLOBzAcMZWAhvlmrVq1aA1PA/htIvEcVB2piOLAFrImBYRLE9ANw\n",
       "i4ARwfoZSO9EFQdr4gE7j4H7I0MoiF4Ad9wFYML7CmRYMaCIgzWxMRwCqjjNO4HBASSmBJNkBipj\n",
       "Bwn1MKCIgzUZgcKU+V/4BG5wsmWDJV72JdDQLmFAEefhdmBRKWB4BbSpSMG8GeKqO1uhmriv3wUr\n",
       "XI0izpR5BpzKuR6gJAkfWDKCZqgFWMXRkyQqwJWcD+LTJINDPAafJlwmMirg1sOEvfwAAPZlZ5Tc\n",
       "0sebAAAAAElFTkSuQmCC\n",
       "\" style=\"display:inline;vertical-align:middle;\" /></a></span></td></tr>\n",
       "<tr><td><a name=\"0x4160544de7af3666_step7\">7</a></td><td>axiom</td><td></td><td><span style=\"font-size:20px;\"> <a class=\"ProveItLink\" href=\"../../axioms.ipynb#not_in_set_def\" style=\"text-decoration: none\">&nbsp;&#x22A2;&nbsp;&nbsp;</a><a class=\"ProveItLink\" href=\"../../../__pv_it/axioms/0592f2e31092a6f12b70ad6e1b04d96f0a4266170/expr.ipynb\"><img src=\"data:image/png;base64,iVBORw0KGgoAAAANSUhEUgAAAQIAAAAWCAMAAAAcoWJbAAAAP1BMVEX///8AAAAAAAAAAAAAAAAA\n",
       "AAAAAAAAAAAAAAAAAAAAAAAAAAAAAAAAAAAAAAAAAAAAAAAAAAAAAAAAAAAAAADFBd4eAAAAFHRS\n",
       "TlMAq1RmmUTNIjK7EInv3Xbp8+P3nXbhrUQAAAAJcEhZcwAADsQAAA7EAZUrDhsAAAL6SURBVFjD\n",
       "5VjZstsgDGU1Bmza3vL/31pwbAcJhJXbvlWTyckA5mChNUJ8SxzC+SruOH+h+zfH/uY2VZKCSMgS\n",
       "xuM2fUbDn3iQixiivOeV5u6kIkRCVokeMyZGoW15Bf0JDX+CWt8RAzT2vjOuWYQFIiXvrQ/xVeXB\n",
       "55l9jGj4E4SMiFu8r8p57pZGQ6Rkh0+ZA/Rxfm34NPwJYvmIGOClj8j2rw3h0Fv9/uPn3l5XXls3\n",
       "3AKbhj/x4i0CzGRM3KI+dcq2LrVAHIWdJQUhVzCUXzzra3TRXBr+xMmLx8bEALeqt31jhxgTIYaU\n",
       "ZFhjY0WuWhby2JBzbHQSJZeGnCB4u8gxJgZojgU+cFWA9Vi8KckkzNv1j8CqUebTuYi8Qq5+K8js\n",
       "jciOhuQneDsZEwN08voaWFZMSacVRjkFULvKUuz+feRlGPRD8jlffqy2J02f2zcKMizegR2MiCFW\n",
       "A4h26Hb1JteMopEFWPVjAPlaXevXV/nqkozJ58N400HQwye6bmnOe0if3DpiiPVFl0nslVMVHD+B\n",
       "0QffJxh9OeY5bLe/VQHB27kBQYxwuR03JePK584nelBJI0c4gm5ZEgIoCGBREM7ju3yuUvtTLNgV\n",
       "oYI5L3YCihhhVKfjJiekF8vNkXL2elhs3Ri8FbJqsgngKQkLa5+L8A7z+rEQ87iRcIbB27kyRYzQ\n",
       "bfK2mkLQRL+gTMaBEqYVlddgylFse2mLgkVBuekIU6F5zMFk2pzydjGAIsbYHDg3Zh9e1oa7n73F\n",
       "YIruldEKmt+XBQnBCCuNlO9Fu31SwbpPJwheD3lpYoxtVH37/kvBfe+wrxBHQeh39LhQBUa9P9cf\n",
       "5PYT3pLFp7w3McZ7fhNxOWqOUM3DHNYju3oDtxof/FPwSadDbs/psbgtXncQk2otVPvHTdWysfbZ\n",
       "g4rLO4i9rh+CHa8rJbf33/635yLGOG5GZp28nyRiTtfJewdy++C/qwJ8ebOD2KkluwQRy0MPlJi3\n",
       "SG1PTwgeMcaxv4n/Rv4AIvwdMCUnlXYAAAAASUVORK5CYII=\n",
       "\" style=\"display:inline;vertical-align:middle;\" /></a></span></td></tr>\n",
       "<tr><td>&nbsp;</td><td colspan=4 style-\"text-align:left\"><a class=\"ProveItLink\" href=\"../../axioms.ipynb#not_in_set_def\">proveit.logic.sets.membership.not_in_set_def</a></td></tr></table>"
      ],
      "text/plain": [
       "\tstep type\trequirements\tstatement\n",
       "0\tgeneralization\t1\t|- forall_{x, S | (x in S) in BOOLEAN} ((x not-in S) in BOOLEAN)\n",
       "1\tinstantiation\t2, 3, 4\t{(x in S) in BOOLEAN} |- (x not-in S) in BOOLEAN\n",
       "\tP(_a) : _a in BOOLEAN, x : x not-in S, y : [not](x in S)\n",
       "2\ttheorem\t\t|- forall_{P, x, y | P(y), x = y} P(x)\n",
       "\tproveit.logic.equality.sub_left_side_into\n",
       "3\tinstantiation\t5, 6\t{(x in S) in BOOLEAN} |- [not](x in S) in BOOLEAN\n",
       "\tA : x in S\n",
       "4\tinstantiation\t7\t|- (x not-in S) = [not](x in S)\n",
       "\tx : x, S : S\n",
       "5\tconjecture\t\t|- forall_{A in BOOLEAN} ([not](A) in BOOLEAN)\n",
       "\tproveit.logic.booleans.negation.closure\n",
       "6\tassumption\t\t{(x in S) in BOOLEAN} |- (x in S) in BOOLEAN\n",
       "7\taxiom\t\t|- forall_{x, S} ((x not-in S) = [not](x in S))\n",
       "\tproveit.logic.sets.membership.not_in_set_def"
      ]
     },
     "execution_count": 9,
     "metadata": {},
     "output_type": "execute_result"
    }
   ],
   "source": [
    "%qed"
   ]
  },
  {
   "cell_type": "code",
   "execution_count": null,
   "metadata": {},
   "outputs": [],
   "source": []
  }
 ],
 "metadata": {
  "kernelspec": {
   "display_name": "Python 3",
   "language": "python",
   "name": "python3"
  }
 },
 "nbformat": 4,
 "nbformat_minor": 0
}