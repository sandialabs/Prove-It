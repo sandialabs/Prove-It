{
 "cells": [
  {
   "cell_type": "markdown",
   "metadata": {},
   "source": [
    "Proof of <a class=\"ProveItLink\" href=\"../../../../../../_theory_nbs_/theory.ipynb\">proveit</a>.<a class=\"ProveItLink\" href=\"../../../../../_theory_nbs_/theory.ipynb\">logic</a>.<a class=\"ProveItLink\" href=\"../../../../_theory_nbs_/theory.ipynb\">sets</a>.<a class=\"ProveItLink\" href=\"../../theory.ipynb\">membership</a>.<a class=\"ProveItLink\" href=\"../../theorems.ipynb#fold_not_in_set\">fold_not_in_set</a> theorem\n",
    "========\n",
    "*** see <a href=\"../__pv_it/37a0e0955551f7186966242f3c5b5edd6b57745c0/dependencies.ipynb\" class=\"ProveItLink\">dependencies</a> ***"
   ]
  },
  {
   "cell_type": "code",
   "execution_count": 1,
   "metadata": {},
   "outputs": [],
   "source": [
    "import proveit\n",
    "from proveit import x, S\n",
    "from proveit.logic.sets.membership  import not_in_set_def\n",
    "theory = proveit.Theory() # the theorem's theory"
   ]
  },
  {
   "cell_type": "code",
   "execution_count": 2,
   "metadata": {},
   "outputs": [
    {
     "data": {
      "text/html": [
       "With these <a href=\"allowed_presumptions.txt\">allowed</a>/<a href=\"disallowed_presumptions.txt\">disallowed</a> theorem/theory presumptions (e.g., to avoid circular dependencies), we begin our proof of<br><strong id=\"fold_not_in_set\">fold_not_in_set:</strong> <a class=\"ProveItLink\" href=\"../../../__pv_it/theorems/0eb297eb6a509e3bcbcda7093ab3386d46b09d250/expr.ipynb\"><img src=\"data:image/png;base64,iVBORw0KGgoAAAANSUhEUgAAALwAAAAXCAMAAACGTNW0AAAAP1BMVEX///8AAAAAAAAAAAAAAAAA\n",
       "AAAAAAAAAAAAAAAAAAAAAAAAAAAAAAAAAAAAAAAAAAAAAAAAAAAAAAAAAAAAAADFBd4eAAAAFHRS\n",
       "TlMAq1RmmUTNIjK7EInv3Xbp8+P3nXbhrUQAAAAJcEhZcwAADsQAAA7EAZUrDhsAAAKiSURBVFjD\n",
       "zVeJjtwgDOU+DLjtlv//1kISEiBAZqtqpmiV1RDbPF8Ph5APL/13bzX5Dxay5WsFkxcS85Oevxl/\n",
       "P3bmlq8N7eWFcI5wmbzOaIU8vXx/KkCt31/g9mVzvMHGkpTTOW3fH3jxkOzQiYvtH99c5qIqK8fe\n",
       "D96vusGGHz9Dk5poqnonPgHnh/fqAxU/P1MqBEJNuxd3qGbfVvmXD3l594GqKWcCIgXjruTrXA99\n",
       "R0CMrnLH5YIX24aFV06bxvCFZsc7EfLLLlIkIjTkwXsNHtOi5ait9DUtj0H2HCLH091ZT3M5x3yZ\n",
       "uLkejkhznYGlMjn7V41JHtDGWBqF+RJ0NzyeZd9NJA/g4ea5QWqt7EzIvjL9cejmWV0jJpfyr6/0\n",
       "uJ8oYtGKxb5asAF9At/TceI0MzLRh9JXer6uEbAD+uOl8o996Y8klfJCFDr9ndzE2znCLun4VMaK\n",
       "vmsTPZzAKiZJIgC1xTBOr46HFAuH0SMmqAm1RJ02MUZb3yNj8Fq1ylCL1SaYGFyYOc6S0BzGq6wQ\n",
       "ieyED6wXRfH9GO3pmZlksKIjYCLSIXhn95VMStsqy+berEzIznm377NoQCTwskqMYh3JJypylU7l\n",
       "RSUYK9KDPaHLyCdbjLbKXO1+sd6E6fTNHkwQKdBMcNYUyZeEjqYlFZReQuHGMcZfNb5Hop55xuBP\n",
       "TIeyudLfmujLhgQzZVj+29nENvM7WHc9oT1xauNjyOeLLaJUL8GL0lqXcnXhtSbwduuI70/y06FO\n",
       "YL5S8qzpWb568/SsHxuWWN0op0iXiLYmrB5rjuL6NOMuBYYzpp1dov2ttbVzX5NwV4cZhMcZ1y4G\n",
       "EgnfAE/ES98xIymNY1n6NCitThx/JUxT5V4Y61YD0Gc/9V8AD/8czh+fBRQIyHz8GAAAAABJRU5E\n",
       "rkJggg==\n",
       "\" style=\"display:inline;vertical-align:middle;\" /></a><br>(see <a class=\"ProveItLink\" href=\"../../../__pv_it/theorems/9150c63d36d5380bd6073fe1318aa179e576dc510/dependencies.ipynb\">dependencies</a>)<br>"
      ],
      "text/plain": [
       "<IPython.core.display.HTML object>"
      ]
     },
     "metadata": {},
     "output_type": "display_data"
    }
   ],
   "source": [
    "%proving fold_not_in_set"
   ]
  },
  {
   "cell_type": "code",
   "execution_count": 3,
   "metadata": {},
   "outputs": [
    {
     "data": {
      "text/html": [
       "<span style=\"font-size:20px;\"> <a class=\"ProveItLink\" href=\"../../axioms.ipynb#not_in_set_def\" style=\"text-decoration: none\">&nbsp;&#x22A2;&nbsp;&nbsp;</a><a class=\"ProveItLink\" href=\"../../../__pv_it/axioms/0592f2e31092a6f12b70ad6e1b04d96f0a4266170/expr.ipynb\"><img src=\"data:image/png;base64,iVBORw0KGgoAAAANSUhEUgAAAQIAAAAWCAMAAAAcoWJbAAAAP1BMVEX///8AAAAAAAAAAAAAAAAA\n",
       "AAAAAAAAAAAAAAAAAAAAAAAAAAAAAAAAAAAAAAAAAAAAAAAAAAAAAAAAAAAAAADFBd4eAAAAFHRS\n",
       "TlMAq1RmmUTNIjK7EInv3Xbp8+P3nXbhrUQAAAAJcEhZcwAADsQAAA7EAZUrDhsAAAL6SURBVFjD\n",
       "5VjZstsgDGU1Bmza3vL/31pwbAcJhJXbvlWTyckA5mChNUJ8SxzC+SruOH+h+zfH/uY2VZKCSMgS\n",
       "xuM2fUbDn3iQixiivOeV5u6kIkRCVokeMyZGoW15Bf0JDX+CWt8RAzT2vjOuWYQFIiXvrQ/xVeXB\n",
       "55l9jGj4E4SMiFu8r8p57pZGQ6Rkh0+ZA/Rxfm34NPwJYvmIGOClj8j2rw3h0Fv9/uPn3l5XXls3\n",
       "3AKbhj/x4i0CzGRM3KI+dcq2LrVAHIWdJQUhVzCUXzzra3TRXBr+xMmLx8bEALeqt31jhxgTIYaU\n",
       "ZFhjY0WuWhby2JBzbHQSJZeGnCB4u8gxJgZojgU+cFWA9Vi8KckkzNv1j8CqUebTuYi8Qq5+K8js\n",
       "jciOhuQneDsZEwN08voaWFZMSacVRjkFULvKUuz+feRlGPRD8jlffqy2J02f2zcKMizegR2MiCFW\n",
       "A4h26Hb1JteMopEFWPVjAPlaXevXV/nqkozJ58N400HQwye6bmnOe0if3DpiiPVFl0nslVMVHD+B\n",
       "0QffJxh9OeY5bLe/VQHB27kBQYxwuR03JePK584nelBJI0c4gm5ZEgIoCGBREM7ju3yuUvtTLNgV\n",
       "oYI5L3YCihhhVKfjJiekF8vNkXL2elhs3Ri8FbJqsgngKQkLa5+L8A7z+rEQ87iRcIbB27kyRYzQ\n",
       "bfK2mkLQRL+gTMaBEqYVlddgylFse2mLgkVBuekIU6F5zMFk2pzydjGAIsbYHDg3Zh9e1oa7n73F\n",
       "YIruldEKmt+XBQnBCCuNlO9Fu31SwbpPJwheD3lpYoxtVH37/kvBfe+wrxBHQeh39LhQBUa9P9cf\n",
       "5PYT3pLFp7w3McZ7fhNxOWqOUM3DHNYju3oDtxof/FPwSadDbs/psbgtXncQk2otVPvHTdWysfbZ\n",
       "g4rLO4i9rh+CHa8rJbf33/635yLGOG5GZp28nyRiTtfJewdy++C/qwJ8ebOD2KkluwQRy0MPlJi3\n",
       "SG1PTwgeMcaxv4n/Rv4AIvwdMCUnlXYAAAAASUVORK5CYII=\n",
       "\" style=\"display:inline;vertical-align:middle;\" /></a></span>"
      ],
      "text/plain": [
       "|- forall_{x, S} ((x not-in S) = [not](x in S))"
      ]
     },
     "metadata": {},
     "output_type": "display_data"
    }
   ],
   "source": [
    "not_in_set_def"
   ]
  },
  {
   "cell_type": "code",
   "execution_count": 4,
   "metadata": {},
   "outputs": [
    {
     "data": {
      "text/html": [
       "<strong id=\"not_in_set_def_spec\">not_in_set_def_spec:</strong> <span style=\"font-size:20px;\"> <a class=\"ProveItLink\" href=\"../../../__pv_it/_proof_fold_not_in_set/f3b7fb107231ece1e05fc044ee0a59dbbf49d2560/proof.ipynb\" style=\"text-decoration: none\">&nbsp;&#x22A2;&nbsp;&nbsp;</a><a class=\"ProveItLink\" href=\"../../../__pv_it/axioms/ce7f792044f7a5837c99bd77e2d8b5ca1c2334100/expr.ipynb\"><img src=\"data:image/png;base64,iVBORw0KGgoAAAANSUhEUgAAAL8AAAAVCAMAAAAgs8+8AAAAP1BMVEX///8AAAAAAAAAAAAAAAAA\n",
       "AAAAAAAAAAAAAAAAAAAAAAAAAAAAAAAAAAAAAAAAAAAAAAAAAAAAAAAAAAAAAADFBd4eAAAAFHRS\n",
       "TlMAInZUiRDNmWbv3US7qzLp8+P3ndw5NuIAAAAJcEhZcwAADsQAAA7EAZUrDhsAAAI4SURBVEjH\n",
       "pZdZluMgDEUxg4WZqjrN/tfa8lQGghCp5iPvmEEXgRBECCyLGJXlw/r5jtMWuqN+Rks17L+afr2X\n",
       "czzSPMOlys29Velh9xTrbwWgtbAe+XYGR5pnuG/d37inmnU8Dnz1GXavTcijnSkLaZ7jNqXHPRSY\n",
       "VXS1N3CIPeAWeC5pHuwn0+9yD91GoRvc17crFyqnMvY2fgO2jxtOLhaei6robfSrNCKmqiqfq5bO\n",
       "2pVdQ9I8x22q+lxUuE6RkTKapPWTE5Y9vJooNTnrwiEd2X3XTAPBbQ9Ln4t6u4KhJKMU8IT7uidY\n",
       "2yRJm7HEO/XaxztwRXncIneI4balz0V1p+N22ftguDy8tZtijAw537GrNm79L/OFd1A1UNz3Hehx\n",
       "UbczPe6bA9XItCHszwt/wtve5yunpsweX9/enrFqILhH4bmoBWCrYsXsw3V9Rdo7Gq9qv/3v/Alu\n",
       "Gz0EF9Wp54zjXhpTJf46+ZuLveSrl3Jc/DtFzH/MFXNc1ONeQ6e9iLtTRbqQUvj6grqH/SQVG6au\n",
       "zWr+UDYQ3DbXUlzUMxWpnAygHV8u16rq5I9rrOusCewThsywQ24b9xQXNR2+GUCvFVhVb9vLV+kH\n",
       "hI8Q49PJeW7+yQ0bCG6Y5O7qEgm3f3Vo7vE6Fhz/cCHND7jCz3EPHTzCuPflzBOMND/z+GO4pwby\n",
       "DxZzOpcwAyPNh+WX07+5lxpqGlr9cmaCy+fjhtkVuXUh/ggyjzM5uX6UebphjnvoP5evFSVW/8YX\n",
       "AAAAAElFTkSuQmCC\n",
       "\" style=\"display:inline;vertical-align:middle;\" /></a></span><br>"
      ],
      "text/plain": [
       "<IPython.core.display.HTML object>"
      ]
     },
     "metadata": {},
     "output_type": "display_data"
    }
   ],
   "source": [
    "not_in_set_def_spec = not_in_set_def.instantiate({x:x, S:S})"
   ]
  },
  {
   "cell_type": "code",
   "execution_count": 5,
   "metadata": {},
   "outputs": [
    {
     "data": {
      "text/html": [
       "<span style=\"font-size:20px;\"><a class=\"ProveItLink\" href=\"../../../__pv_it/axioms/fe3a8deeda9e1011cacaa4108184281bcacedd730/expr.ipynb\"><img src=\"data:image/png;base64,iVBORw0KGgoAAAANSUhEUgAAAFIAAAAVBAMAAAAnX6R8AAAAMFBMVEX///8AAAAAAAAAAAAAAAAA\n",
       "AAAAAAAAAAAAAAAAAAAAAAAAAAAAAAAAAAAAAAAAAAAv3aB7AAAAD3RSTlMAmd0iq3ZUiRDNZu9E\n",
       "uzLWhN+VAAAACXBIWXMAAA7EAAAOxAGVKw4bAAABUklEQVQoz2NgQABmBpwATSoMt0qeAGQeWwF2\n",
       "VYniBWsYopBFOrEr5A1g6P3AwNmAJCSFXaUgAwPXBAYuASShDcjyrJeUNCGsfxBX7kBy5gRkH0yF\n",
       "2cbzi4GB7wEDwyyEJCPQQxyhHs/LQBxLuLM4/teB6RKESs4FQNUMIQFCIM5khPj6/18MgNRKBiEl\n",
       "IFAEMpkSGBgWM6xv8AJJI7mEI/Y/yAfZEJ4JEHMfYGB4wCAJ5vNtAmrXhbvrD5B4j6qSgWErxJwL\n",
       "cCOBbuL4BqRPI1SCbGfg+czQARJQgNvtAIz0H0BGEoRvCIkLjjssGxjAcRoKDzsFSKgwrEW4nN2B\n",
       "ge1f4waeBHBAJMDcqA4NIHGESj4FBg7RgMRlEEt9T0BV8ji6gHXpIMWLHkoyq4XFJjSBKiBxFjLg\n",
       "AYwLkJOXAR6VtsgcpEDEBJdReKa4FbIaMAAAxUc/AKBsMVYAAAAASUVORK5CYII=\n",
       "\" style=\"display:inline;vertical-align:middle;\" /></a> <a class=\"ProveItLink\" href=\"../../../__pv_it/_proof_fold_not_in_set/5cb85b83f1c777b65ad590af0cc5bcb0a3ced0e50/proof.ipynb\" style=\"text-decoration: none\">&nbsp;&#x22A2;&nbsp;&nbsp;</a><a class=\"ProveItLink\" href=\"../../../__pv_it/axioms/6d66ef15ae974e95094ed8ed211a8a6beb2861b50/expr.ipynb\"><img src=\"data:image/png;base64,iVBORw0KGgoAAAANSUhEUgAAADMAAAAVCAMAAADciiYzAAAAP1BMVEX///8AAAAAAAAAAAAAAAAA\n",
       "AAAAAAAAAAAAAAAAAAAAAAAAAAAAAAAAAAAAAAAAAAAAAAAAAAAAAAAAAAAAAADFBd4eAAAAFHRS\n",
       "TlMAEHarMolUmd1mIs3vRLvp8+P3nXqVZZ4AAAAJcEhZcwAADsQAAA7EAZUrDhsAAAD5SURBVDjL\n",
       "tZPdksMgCIUFVDRG+7O8/7MWTduE7taZXKwXOirg5znq3KQt7nwrcDrFk51H5hBcrrMctrsNtYMm\n",
       "03OSrcBjyOVrPLZ0uabjvvgxVPySUQuCI2+WJG+XHKuASOBDiLvGXTCwECAS9iLKiYSOd/zSjckf\n",
       "EFm00WZZXvpcUfKe86c5gE1k3QD7UYbDryml21279kt+eeu/Gg7ooYfrDZrXreJbE+UDMMZYc+D5\n",
       "JBaBUbQ66pThYA66yvbZPEvwiIrigTWnHllKtOaoqCM4bMcBa9XIOVqUezWysavERHH21PJPaKpb\n",
       "+eefs7TzHzTE8zk03X0AEF4GZaKk3CoAAAAASUVORK5CYII=\n",
       "\" style=\"display:inline;vertical-align:middle;\" /></a></span>"
      ],
      "text/plain": [
       "{[not](x in S)} |- x not-in S"
      ]
     },
     "metadata": {},
     "output_type": "display_data"
    },
    {
     "name": "stdout",
     "output_type": "stream",
     "text": [
      "fold_not_in_set may now be readily provable (assuming required theorems are usable).  Simply execute \"%qed\".\n"
     ]
    }
   ],
   "source": [
    "not_in_set_def_spec.derive_left_via_equality(assumptions=[not_in_set_def_spec.rhs])"
   ]
  },
  {
   "cell_type": "code",
   "execution_count": 6,
   "metadata": {},
   "outputs": [
    {
     "name": "stdout",
     "output_type": "stream",
     "text": [
      "proveit.logic.sets.membership.fold_not_in_set has been proven.\n"
     ]
    },
    {
     "data": {
      "text/html": [
       "<table><tr><th>&nbsp;</th><th>step type</th><th>requirements</th><th>statement</th></tr>\n",
       "<tr><td><a name=\"0x712db643bfc5aa7_step0\">0</a></td><td>generalization</td><td><a href=\"#0x712db643bfc5aa7_step1\">1</a></td><td><span style=\"font-size:20px;\"> <a class=\"ProveItLink\" href=\"../../../__pv_it/_proof_fold_not_in_set/b5fcc611b6fb49c4665d6bf0d63a7e678b13709d0/proof.ipynb\" style=\"text-decoration: none\">&nbsp;&#x22A2;&nbsp;&nbsp;</a><a class=\"ProveItLink\" href=\"../../../__pv_it/theorems/0eb297eb6a509e3bcbcda7093ab3386d46b09d250/expr.ipynb\"><img src=\"data:image/png;base64,iVBORw0KGgoAAAANSUhEUgAAALwAAAAXCAMAAACGTNW0AAAAP1BMVEX///8AAAAAAAAAAAAAAAAA\n",
       "AAAAAAAAAAAAAAAAAAAAAAAAAAAAAAAAAAAAAAAAAAAAAAAAAAAAAAAAAAAAAADFBd4eAAAAFHRS\n",
       "TlMAq1RmmUTNIjK7EInv3Xbp8+P3nXbhrUQAAAAJcEhZcwAADsQAAA7EAZUrDhsAAAKiSURBVFjD\n",
       "zVeJjtwgDOU+DLjtlv//1kISEiBAZqtqpmiV1RDbPF8Ph5APL/13bzX5Dxay5WsFkxcS85Oevxl/\n",
       "P3bmlq8N7eWFcI5wmbzOaIU8vXx/KkCt31/g9mVzvMHGkpTTOW3fH3jxkOzQiYvtH99c5qIqK8fe\n",
       "D96vusGGHz9Dk5poqnonPgHnh/fqAxU/P1MqBEJNuxd3qGbfVvmXD3l594GqKWcCIgXjruTrXA99\n",
       "R0CMrnLH5YIX24aFV06bxvCFZsc7EfLLLlIkIjTkwXsNHtOi5ait9DUtj0H2HCLH091ZT3M5x3yZ\n",
       "uLkejkhznYGlMjn7V41JHtDGWBqF+RJ0NzyeZd9NJA/g4ea5QWqt7EzIvjL9cejmWV0jJpfyr6/0\n",
       "uJ8oYtGKxb5asAF9At/TceI0MzLRh9JXer6uEbAD+uOl8o996Y8klfJCFDr9ndzE2znCLun4VMaK\n",
       "vmsTPZzAKiZJIgC1xTBOr46HFAuH0SMmqAm1RJ02MUZb3yNj8Fq1ylCL1SaYGFyYOc6S0BzGq6wQ\n",
       "ieyED6wXRfH9GO3pmZlksKIjYCLSIXhn95VMStsqy+berEzIznm377NoQCTwskqMYh3JJypylU7l\n",
       "RSUYK9KDPaHLyCdbjLbKXO1+sd6E6fTNHkwQKdBMcNYUyZeEjqYlFZReQuHGMcZfNb5Hop55xuBP\n",
       "TIeyudLfmujLhgQzZVj+29nENvM7WHc9oT1xauNjyOeLLaJUL8GL0lqXcnXhtSbwduuI70/y06FO\n",
       "YL5S8qzpWb568/SsHxuWWN0op0iXiLYmrB5rjuL6NOMuBYYzpp1dov2ttbVzX5NwV4cZhMcZ1y4G\n",
       "EgnfAE/ES98xIymNY1n6NCitThx/JUxT5V4Y61YD0Gc/9V8AD/8czh+fBRQIyHz8GAAAAABJRU5E\n",
       "rkJggg==\n",
       "\" style=\"display:inline;vertical-align:middle;\" /></a></span></td></tr>\n",
       "<tr><td><a name=\"0x712db643bfc5aa7_step1\">1</a></td><td>instantiation</td><td><a href=\"#0x712db643bfc5aa7_step2\">2</a>, <a href=\"#0x712db643bfc5aa7_step3\">3</a>, <a href=\"#0x712db643bfc5aa7_step4\">4</a></td><td><span style=\"font-size:20px;\"><a class=\"ProveItLink\" href=\"../../../__pv_it/axioms/fe3a8deeda9e1011cacaa4108184281bcacedd730/expr.ipynb\"><img src=\"data:image/png;base64,iVBORw0KGgoAAAANSUhEUgAAAFIAAAAVBAMAAAAnX6R8AAAAMFBMVEX///8AAAAAAAAAAAAAAAAA\n",
       "AAAAAAAAAAAAAAAAAAAAAAAAAAAAAAAAAAAAAAAAAAAv3aB7AAAAD3RSTlMAmd0iq3ZUiRDNZu9E\n",
       "uzLWhN+VAAAACXBIWXMAAA7EAAAOxAGVKw4bAAABUklEQVQoz2NgQABmBpwATSoMt0qeAGQeWwF2\n",
       "VYniBWsYopBFOrEr5A1g6P3AwNmAJCSFXaUgAwPXBAYuASShDcjyrJeUNCGsfxBX7kBy5gRkH0yF\n",
       "2cbzi4GB7wEDwyyEJCPQQxyhHs/LQBxLuLM4/teB6RKESs4FQNUMIQFCIM5khPj6/18MgNRKBiEl\n",
       "IFAEMpkSGBgWM6xv8AJJI7mEI/Y/yAfZEJ4JEHMfYGB4wCAJ5vNtAmrXhbvrD5B4j6qSgWErxJwL\n",
       "cCOBbuL4BqRPI1SCbGfg+czQARJQgNvtAIz0H0BGEoRvCIkLjjssGxjAcRoKDzsFSKgwrEW4nN2B\n",
       "ge1f4waeBHBAJMDcqA4NIHGESj4FBg7RgMRlEEt9T0BV8ji6gHXpIMWLHkoyq4XFJjSBKiBxFjLg\n",
       "AYwLkJOXAR6VtsgcpEDEBJdReKa4FbIaMAAAxUc/AKBsMVYAAAAASUVORK5CYII=\n",
       "\" style=\"display:inline;vertical-align:middle;\" /></a> <a class=\"ProveItLink\" href=\"../../../__pv_it/_proof_fold_not_in_set/5cb85b83f1c777b65ad590af0cc5bcb0a3ced0e50/proof.ipynb\" style=\"text-decoration: none\">&nbsp;&#x22A2;&nbsp;&nbsp;</a><a class=\"ProveItLink\" href=\"../../../__pv_it/axioms/6d66ef15ae974e95094ed8ed211a8a6beb2861b50/expr.ipynb\"><img src=\"data:image/png;base64,iVBORw0KGgoAAAANSUhEUgAAADMAAAAVCAMAAADciiYzAAAAP1BMVEX///8AAAAAAAAAAAAAAAAA\n",
       "AAAAAAAAAAAAAAAAAAAAAAAAAAAAAAAAAAAAAAAAAAAAAAAAAAAAAAAAAAAAAADFBd4eAAAAFHRS\n",
       "TlMAEHarMolUmd1mIs3vRLvp8+P3nXqVZZ4AAAAJcEhZcwAADsQAAA7EAZUrDhsAAAD5SURBVDjL\n",
       "tZPdksMgCIUFVDRG+7O8/7MWTduE7taZXKwXOirg5znq3KQt7nwrcDrFk51H5hBcrrMctrsNtYMm\n",
       "03OSrcBjyOVrPLZ0uabjvvgxVPySUQuCI2+WJG+XHKuASOBDiLvGXTCwECAS9iLKiYSOd/zSjckf\n",
       "EFm00WZZXvpcUfKe86c5gE1k3QD7UYbDryml21279kt+eeu/Gg7ooYfrDZrXreJbE+UDMMZYc+D5\n",
       "JBaBUbQ66pThYA66yvbZPEvwiIrigTWnHllKtOaoqCM4bMcBa9XIOVqUezWysavERHH21PJPaKpb\n",
       "+eefs7TzHzTE8zk03X0AEF4GZaKk3CoAAAAASUVORK5CYII=\n",
       "\" style=\"display:inline;vertical-align:middle;\" /></a></span></td></tr>\n",
       "<tr><td>&nbsp;</td><td colspan=4 style=\"text-align:left\"><span style=\"font-size:20px;\"><a class=\"ProveItLink\" href=\"../../../../../../__pv_it/common/de55da274ba0f49c86925fbf3828021c04d27faf0/expr.ipynb\"><img src=\"data:image/png;base64,iVBORw0KGgoAAAANSUhEUgAAABAAAAAOBAMAAADUAYG5AAAAMFBMVEX///8AAAAAAAAAAAAAAAAA\n",
       "AAAAAAAAAAAAAAAAAAAAAAAAAAAAAAAAAAAAAAAAAAAv3aB7AAAAD3RSTlMAdrurzZkQ7zJUiSLd\n",
       "ZkQEbk8lAAAACXBIWXMAAA7EAAAOxAGVKw4bAAAAWklEQVQI12NgYBD6r2zkmsAABF8YGJjKgDTH\n",
       "RwYGTiBmYPwBxL+ADKYPQAzkMPArMDD0CzCAiV0nQZrkrVbdA9EM+gxQ8AVKc/yCMhj/QRksHyA0\n",
       "q/4nkBkMAGrBE2oHiyZAAAAAAElFTkSuQmCC\n",
       "\" style=\"display:inline;vertical-align:middle;\" /></a> : <a class=\"ProveItLink\" href=\"../../../__pv_it/axioms/6d66ef15ae974e95094ed8ed211a8a6beb2861b50/expr.ipynb\"><img src=\"data:image/png;base64,iVBORw0KGgoAAAANSUhEUgAAADMAAAAVCAMAAADciiYzAAAAP1BMVEX///8AAAAAAAAAAAAAAAAA\n",
       "AAAAAAAAAAAAAAAAAAAAAAAAAAAAAAAAAAAAAAAAAAAAAAAAAAAAAAAAAAAAAADFBd4eAAAAFHRS\n",
       "TlMAEHarMolUmd1mIs3vRLvp8+P3nXqVZZ4AAAAJcEhZcwAADsQAAA7EAZUrDhsAAAD5SURBVDjL\n",
       "tZPdksMgCIUFVDRG+7O8/7MWTduE7taZXKwXOirg5znq3KQt7nwrcDrFk51H5hBcrrMctrsNtYMm\n",
       "03OSrcBjyOVrPLZ0uabjvvgxVPySUQuCI2+WJG+XHKuASOBDiLvGXTCwECAS9iLKiYSOd/zSjckf\n",
       "EFm00WZZXvpcUfKe86c5gE1k3QD7UYbDryml21279kt+eeu/Gg7ooYfrDZrXreJbE+UDMMZYc+D5\n",
       "JBaBUbQ66pThYA66yvbZPEvwiIrigTWnHllKtOaoqCM4bMcBa9XIOVqUezWysavERHH21PJPaKpb\n",
       "+eefs7TzHzTE8zk03X0AEF4GZaKk3CoAAAAASUVORK5CYII=\n",
       "\" style=\"display:inline;vertical-align:middle;\" /></a>, <a class=\"ProveItLink\" href=\"../../../../../../__pv_it/common/d72bb8b07403efe79afab564c36a28e21330e5f90/expr.ipynb\"><img src=\"data:image/png;base64,iVBORw0KGgoAAAANSUhEUgAAAA8AAAASBAMAAAB2sJk8AAAAMFBMVEX///8AAAAAAAAAAAAAAAAA\n",
       "AAAAAAAAAAAAAAAAAAAAAAAAAAAAAAAAAAAAAAAAAAAv3aB7AAAAD3RSTlMAIomZq2bNMhC7791E\n",
       "VHYkqjbgAAAACXBIWXMAAA7EAAAOxAGVKw4bAAAAgklEQVQI12NgYGBUVnJlAAG1AgaWBCDdNgFI\n",
       "LAbibJCoPwMD83cQQ7+AQR4kw2B/gMH+AoiRL8CwvwFIc/xiYPgFEmD9ysCwG8ToSgBp5LnAYCXA\n",
       "wFB/IVyUaSFQlG/hAyYXkAaGkknaBxgKwLZyHuATgDAcroFpBub/3yEM9l1AawBt/xzBtQnGvwAA\n",
       "AABJRU5ErkJggg==\n",
       "\" style=\"display:inline;vertical-align:middle;\" /></a> : <a class=\"ProveItLink\" href=\"../../../__pv_it/axioms/fe3a8deeda9e1011cacaa4108184281bcacedd730/expr.ipynb\"><img src=\"data:image/png;base64,iVBORw0KGgoAAAANSUhEUgAAAFIAAAAVBAMAAAAnX6R8AAAAMFBMVEX///8AAAAAAAAAAAAAAAAA\n",
       "AAAAAAAAAAAAAAAAAAAAAAAAAAAAAAAAAAAAAAAAAAAv3aB7AAAAD3RSTlMAmd0iq3ZUiRDNZu9E\n",
       "uzLWhN+VAAAACXBIWXMAAA7EAAAOxAGVKw4bAAABUklEQVQoz2NgQABmBpwATSoMt0qeAGQeWwF2\n",
       "VYniBWsYopBFOrEr5A1g6P3AwNmAJCSFXaUgAwPXBAYuASShDcjyrJeUNCGsfxBX7kBy5gRkH0yF\n",
       "2cbzi4GB7wEDwyyEJCPQQxyhHs/LQBxLuLM4/teB6RKESs4FQNUMIQFCIM5khPj6/18MgNRKBiEl\n",
       "IFAEMpkSGBgWM6xv8AJJI7mEI/Y/yAfZEJ4JEHMfYGB4wCAJ5vNtAmrXhbvrD5B4j6qSgWErxJwL\n",
       "cCOBbuL4BqRPI1SCbGfg+czQARJQgNvtAIz0H0BGEoRvCIkLjjssGxjAcRoKDzsFSKgwrEW4nN2B\n",
       "ge1f4waeBHBAJMDcqA4NIHGESj4FBg7RgMRlEEt9T0BV8ji6gHXpIMWLHkoyq4XFJjSBKiBxFjLg\n",
       "AYwLkJOXAR6VtsgcpEDEBJdReKa4FbIaMAAAxUc/AKBsMVYAAAAASUVORK5CYII=\n",
       "\" style=\"display:inline;vertical-align:middle;\" /></a></span></td></tr><tr><td><a name=\"0x712db643bfc5aa7_step2\">2</a></td><td>theorem</td><td></td><td><span style=\"font-size:20px;\"> <a class=\"ProveItLink\" href=\"../../../../../equality/_theory_nbs_/proofs/lhs_via_equality/thm_proof.ipynb\" style=\"text-decoration: none\">&nbsp;&#x22A2;&nbsp;&nbsp;</a><a class=\"ProveItLink\" href=\"../../../../../equality/__pv_it/theorems/031640b4b39fda11207f722712c88a33cea8f6040/expr.ipynb\"><img src=\"data:image/png;base64,iVBORw0KGgoAAAANSUhEUgAAAIwAAAAVBAMAAABmhxuGAAAAMFBMVEX///8AAAAAAAAAAAAAAAAA\n",
       "AAAAAAAAAAAAAAAAAAAAAAAAAAAAAAAAAAAAAAAAAAAv3aB7AAAAD3RSTlMAq1RmmUTNIjK7EInv\n",
       "3XZ/CtNrAAAACXBIWXMAAA7EAAAOxAGVKw4bAAABx0lEQVQ4y6VUPUsDQRQck5gzRmOEoKiNYGeV\n",
       "xk4lFqJgk0owlYUgCELE0kC0sVXRRpu7XxBErBRBtFMUPzohEO1EiBH8Dqhv97L3NmdAjQ/23s7s\n",
       "7Oztvr1DGBRdqDpuP1faJiwMiv5k9TZ4BgJHWKCesVy9S90H4PmA3wKCndXbhF6pFeGNAv5/7ClQ\n",
       "oEZWJ9ns8T9smuhAlnLAMLBRYdj3SxuymLugPAODil5rjgy0CvouP2S/bEmm8NjjdnPSmaxY4L5j\n",
       "t0fqrWCcUh+wR2k0iVRSs3Gw9wzBM+XisIBZojw5ecIRMiZASt8y2zCuiSFUUFMcVl4bO8b7xfMA\n",
       "OAfS87RugW0YN3SiMVyawSzqispma0rcwHfMxIAW6gb32YZx2jIi8K1TrGosQk/KJiUW8Z7muymJ\n",
       "0vvDbMO4N39jqRnMwq82ipp58bDZQ1FC7YgZN2tFZtZnvuX08jdEZVpDApdawRkfyln2pph1R5rM\n",
       "6zeRms0sRjUbG9OA8aKJWeX+wMwdOvUDGAPX7YZmY2MauC1arGZVxfBQq41lym6xxB63UqkqRkKs\n",
       "9HBVZiNxwq1Uqooh9zsdL7OR+PtBlFQ/hvGn38UXqIeD+S1ymPUAAAAASUVORK5CYII=\n",
       "\" style=\"display:inline;vertical-align:middle;\" /></a></span></td></tr>\n",
       "<tr><td>&nbsp;</td><td colspan=4 style-\"text-align:left\"><a class=\"ProveItLink\" href=\"../../../../../equality/_theory_nbs_/proofs/lhs_via_equality/thm_proof.ipynb\">proveit.logic.equality.lhs_via_equality</a></td></tr><tr><td><a name=\"0x712db643bfc5aa7_step3\">3</a></td><td>assumption</td><td></td><td><span style=\"font-size:20px;\"><a class=\"ProveItLink\" href=\"../../../__pv_it/axioms/fe3a8deeda9e1011cacaa4108184281bcacedd730/expr.ipynb\"><img src=\"data:image/png;base64,iVBORw0KGgoAAAANSUhEUgAAAFIAAAAVBAMAAAAnX6R8AAAAMFBMVEX///8AAAAAAAAAAAAAAAAA\n",
       "AAAAAAAAAAAAAAAAAAAAAAAAAAAAAAAAAAAAAAAAAAAv3aB7AAAAD3RSTlMAmd0iq3ZUiRDNZu9E\n",
       "uzLWhN+VAAAACXBIWXMAAA7EAAAOxAGVKw4bAAABUklEQVQoz2NgQABmBpwATSoMt0qeAGQeWwF2\n",
       "VYniBWsYopBFOrEr5A1g6P3AwNmAJCSFXaUgAwPXBAYuASShDcjyrJeUNCGsfxBX7kBy5gRkH0yF\n",
       "2cbzi4GB7wEDwyyEJCPQQxyhHs/LQBxLuLM4/teB6RKESs4FQNUMIQFCIM5khPj6/18MgNRKBiEl\n",
       "IFAEMpkSGBgWM6xv8AJJI7mEI/Y/yAfZEJ4JEHMfYGB4wCAJ5vNtAmrXhbvrD5B4j6qSgWErxJwL\n",
       "cCOBbuL4BqRPI1SCbGfg+czQARJQgNvtAIz0H0BGEoRvCIkLjjssGxjAcRoKDzsFSKgwrEW4nN2B\n",
       "ge1f4waeBHBAJMDcqA4NIHGESj4FBg7RgMRlEEt9T0BV8ji6gHXpIMWLHkoyq4XFJjSBKiBxFjLg\n",
       "AYwLkJOXAR6VtsgcpEDEBJdReKa4FbIaMAAAxUc/AKBsMVYAAAAASUVORK5CYII=\n",
       "\" style=\"display:inline;vertical-align:middle;\" /></a> <a class=\"ProveItLink\" href=\"../../../__pv_it/_proof_fold_not_in_set/9db6e7076d2cd3475c8f4f8fc53770827b731cb00/proof.ipynb\" style=\"text-decoration: none\">&nbsp;&#x22A2;&nbsp;&nbsp;</a><a class=\"ProveItLink\" href=\"../../../__pv_it/axioms/fe3a8deeda9e1011cacaa4108184281bcacedd730/expr.ipynb\"><img src=\"data:image/png;base64,iVBORw0KGgoAAAANSUhEUgAAAFIAAAAVBAMAAAAnX6R8AAAAMFBMVEX///8AAAAAAAAAAAAAAAAA\n",
       "AAAAAAAAAAAAAAAAAAAAAAAAAAAAAAAAAAAAAAAAAAAv3aB7AAAAD3RSTlMAmd0iq3ZUiRDNZu9E\n",
       "uzLWhN+VAAAACXBIWXMAAA7EAAAOxAGVKw4bAAABUklEQVQoz2NgQABmBpwATSoMt0qeAGQeWwF2\n",
       "VYniBWsYopBFOrEr5A1g6P3AwNmAJCSFXaUgAwPXBAYuASShDcjyrJeUNCGsfxBX7kBy5gRkH0yF\n",
       "2cbzi4GB7wEDwyyEJCPQQxyhHs/LQBxLuLM4/teB6RKESs4FQNUMIQFCIM5khPj6/18MgNRKBiEl\n",
       "IFAEMpkSGBgWM6xv8AJJI7mEI/Y/yAfZEJ4JEHMfYGB4wCAJ5vNtAmrXhbvrD5B4j6qSgWErxJwL\n",
       "cCOBbuL4BqRPI1SCbGfg+czQARJQgNvtAIz0H0BGEoRvCIkLjjssGxjAcRoKDzsFSKgwrEW4nN2B\n",
       "ge1f4waeBHBAJMDcqA4NIHGESj4FBg7RgMRlEEt9T0BV8ji6gHXpIMWLHkoyq4XFJjSBKiBxFjLg\n",
       "AYwLkJOXAR6VtsgcpEDEBJdReKa4FbIaMAAAxUc/AKBsMVYAAAAASUVORK5CYII=\n",
       "\" style=\"display:inline;vertical-align:middle;\" /></a></span></td></tr>\n",
       "<tr><td><a name=\"0x712db643bfc5aa7_step4\">4</a></td><td>instantiation</td><td><a href=\"#0x712db643bfc5aa7_step5\">5</a></td><td><span style=\"font-size:20px;\"> <a class=\"ProveItLink\" href=\"../../../__pv_it/_proof_fold_not_in_set/f3b7fb107231ece1e05fc044ee0a59dbbf49d2560/proof.ipynb\" style=\"text-decoration: none\">&nbsp;&#x22A2;&nbsp;&nbsp;</a><a class=\"ProveItLink\" href=\"../../../__pv_it/axioms/ce7f792044f7a5837c99bd77e2d8b5ca1c2334100/expr.ipynb\"><img src=\"data:image/png;base64,iVBORw0KGgoAAAANSUhEUgAAAL8AAAAVCAMAAAAgs8+8AAAAP1BMVEX///8AAAAAAAAAAAAAAAAA\n",
       "AAAAAAAAAAAAAAAAAAAAAAAAAAAAAAAAAAAAAAAAAAAAAAAAAAAAAAAAAAAAAADFBd4eAAAAFHRS\n",
       "TlMAInZUiRDNmWbv3US7qzLp8+P3ndw5NuIAAAAJcEhZcwAADsQAAA7EAZUrDhsAAAI4SURBVEjH\n",
       "pZdZluMgDEUxg4WZqjrN/tfa8lQGghCp5iPvmEEXgRBECCyLGJXlw/r5jtMWuqN+Rks17L+afr2X\n",
       "czzSPMOlys29Velh9xTrbwWgtbAe+XYGR5pnuG/d37inmnU8Dnz1GXavTcijnSkLaZ7jNqXHPRSY\n",
       "VXS1N3CIPeAWeC5pHuwn0+9yD91GoRvc17crFyqnMvY2fgO2jxtOLhaei6robfSrNCKmqiqfq5bO\n",
       "2pVdQ9I8x22q+lxUuE6RkTKapPWTE5Y9vJooNTnrwiEd2X3XTAPBbQ9Ln4t6u4KhJKMU8IT7uidY\n",
       "2yRJm7HEO/XaxztwRXncIneI4balz0V1p+N22ftguDy8tZtijAw537GrNm79L/OFd1A1UNz3Hehx\n",
       "UbczPe6bA9XItCHszwt/wtve5yunpsweX9/enrFqILhH4bmoBWCrYsXsw3V9Rdo7Gq9qv/3v/Alu\n",
       "Gz0EF9Wp54zjXhpTJf46+ZuLveSrl3Jc/DtFzH/MFXNc1ONeQ6e9iLtTRbqQUvj6grqH/SQVG6au\n",
       "zWr+UDYQ3DbXUlzUMxWpnAygHV8u16rq5I9rrOusCewThsywQ24b9xQXNR2+GUCvFVhVb9vLV+kH\n",
       "hI8Q49PJeW7+yQ0bCG6Y5O7qEgm3f3Vo7vE6Fhz/cCHND7jCz3EPHTzCuPflzBOMND/z+GO4pwby\n",
       "DxZzOpcwAyPNh+WX07+5lxpqGlr9cmaCy+fjhtkVuXUh/ggyjzM5uX6UebphjnvoP5evFSVW/8YX\n",
       "AAAAAElFTkSuQmCC\n",
       "\" style=\"display:inline;vertical-align:middle;\" /></a></span></td></tr>\n",
       "<tr><td>&nbsp;</td><td colspan=4 style=\"text-align:left\"><span style=\"font-size:20px;\"><a class=\"ProveItLink\" href=\"../../../../../../__pv_it/common/a0d9d672aa5e272d907247690c152cc2c6daafb70/expr.ipynb\"><img src=\"data:image/png;base64,iVBORw0KGgoAAAANSUhEUgAAAAsAAAAJBAMAAAAWSsseAAAAMFBMVEX///8AAAAAAAAAAAAAAAAA\n",
       "AAAAAAAAAAAAAAAAAAAAAAAAAAAAAAAAAAAAAAAAAAAv3aB7AAAAD3RSTlMAEHarMolUmd1mIs3v\n",
       "RLtmgJDEAAAACXBIWXMAAA7EAAAOxAGVKw4bAAAAQklEQVQI12NgEFIWCU1gYChgMmJvYOBcwPmR\n",
       "eQIDCwP7BgYQ4FEAU/cXMAowyF2wYWBlYMh3rGG4xsAgrsRWmcAAAFEjCyBvD0T9AAAAAElFTkSu\n",
       "QmCC\n",
       "\" style=\"display:inline;vertical-align:middle;\" /></a> : <a class=\"ProveItLink\" href=\"../../../../../../__pv_it/common/a0d9d672aa5e272d907247690c152cc2c6daafb70/expr.ipynb\"><img src=\"data:image/png;base64,iVBORw0KGgoAAAANSUhEUgAAAAsAAAAJBAMAAAAWSsseAAAAMFBMVEX///8AAAAAAAAAAAAAAAAA\n",
       "AAAAAAAAAAAAAAAAAAAAAAAAAAAAAAAAAAAAAAAAAAAv3aB7AAAAD3RSTlMAEHarMolUmd1mIs3v\n",
       "RLtmgJDEAAAACXBIWXMAAA7EAAAOxAGVKw4bAAAAQklEQVQI12NgEFIWCU1gYChgMmJvYOBcwPmR\n",
       "eQIDCwP7BgYQ4FEAU/cXMAowyF2wYWBlYMh3rGG4xsAgrsRWmcAAAFEjCyBvD0T9AAAAAElFTkSu\n",
       "QmCC\n",
       "\" style=\"display:inline;vertical-align:middle;\" /></a>, <a class=\"ProveItLink\" href=\"../../../../../../__pv_it/common/38f47c5670ea8c5b56253448e95d8afb56bc09b40/expr.ipynb\"><img src=\"data:image/png;base64,iVBORw0KGgoAAAANSUhEUgAAAA0AAAAOBAMAAAAGUYvhAAAAMFBMVEX///8AAAAAAAAAAAAAAAAA\n",
       "AAAAAAAAAAAAAAAAAAAAAAAAAAAAAAAAAAAAAAAAAAAv3aB7AAAAD3RSTlMAVJmJZkS7dhDNMqsi\n",
       "791pxlESAAAACXBIWXMAAA7EAAAOxAGVKw4bAAAAX0lEQVQI12NgYGBUMmYJYGBgSGfgyAdSTAoM\n",
       "DJ5Amn8BA0M4kI53YGBYBaT7PwMFgIDl//89YEZ7/l8GCNAHamcBKRFgYOgG0ucbGBjkgLQyEOsZ\n",
       "MDBvANIK0dobgRQAj4AQu33LPq4AAAAASUVORK5CYII=\n",
       "\" style=\"display:inline;vertical-align:middle;\" /></a> : <a class=\"ProveItLink\" href=\"../../../../../../__pv_it/common/38f47c5670ea8c5b56253448e95d8afb56bc09b40/expr.ipynb\"><img src=\"data:image/png;base64,iVBORw0KGgoAAAANSUhEUgAAAA0AAAAOBAMAAAAGUYvhAAAAMFBMVEX///8AAAAAAAAAAAAAAAAA\n",
       "AAAAAAAAAAAAAAAAAAAAAAAAAAAAAAAAAAAAAAAAAAAv3aB7AAAAD3RSTlMAVJmJZkS7dhDNMqsi\n",
       "791pxlESAAAACXBIWXMAAA7EAAAOxAGVKw4bAAAAX0lEQVQI12NgYGBUMmYJYGBgSGfgyAdSTAoM\n",
       "DJ5Amn8BA0M4kI53YGBYBaT7PwMFgIDl//89YEZ7/l8GCNAHamcBKRFgYOgG0ucbGBjkgLQyEOsZ\n",
       "MDBvANIK0dobgRQAj4AQu33LPq4AAAAASUVORK5CYII=\n",
       "\" style=\"display:inline;vertical-align:middle;\" /></a></span></td></tr><tr><td><a name=\"0x712db643bfc5aa7_step5\">5</a></td><td>axiom</td><td></td><td><span style=\"font-size:20px;\"> <a class=\"ProveItLink\" href=\"../../axioms.ipynb#not_in_set_def\" style=\"text-decoration: none\">&nbsp;&#x22A2;&nbsp;&nbsp;</a><a class=\"ProveItLink\" href=\"../../../__pv_it/axioms/0592f2e31092a6f12b70ad6e1b04d96f0a4266170/expr.ipynb\"><img src=\"data:image/png;base64,iVBORw0KGgoAAAANSUhEUgAAAQIAAAAWCAMAAAAcoWJbAAAAP1BMVEX///8AAAAAAAAAAAAAAAAA\n",
       "AAAAAAAAAAAAAAAAAAAAAAAAAAAAAAAAAAAAAAAAAAAAAAAAAAAAAAAAAAAAAADFBd4eAAAAFHRS\n",
       "TlMAq1RmmUTNIjK7EInv3Xbp8+P3nXbhrUQAAAAJcEhZcwAADsQAAA7EAZUrDhsAAAL6SURBVFjD\n",
       "5VjZstsgDGU1Bmza3vL/31pwbAcJhJXbvlWTyckA5mChNUJ8SxzC+SruOH+h+zfH/uY2VZKCSMgS\n",
       "xuM2fUbDn3iQixiivOeV5u6kIkRCVokeMyZGoW15Bf0JDX+CWt8RAzT2vjOuWYQFIiXvrQ/xVeXB\n",
       "55l9jGj4E4SMiFu8r8p57pZGQ6Rkh0+ZA/Rxfm34NPwJYvmIGOClj8j2rw3h0Fv9/uPn3l5XXls3\n",
       "3AKbhj/x4i0CzGRM3KI+dcq2LrVAHIWdJQUhVzCUXzzra3TRXBr+xMmLx8bEALeqt31jhxgTIYaU\n",
       "ZFhjY0WuWhby2JBzbHQSJZeGnCB4u8gxJgZojgU+cFWA9Vi8KckkzNv1j8CqUebTuYi8Qq5+K8js\n",
       "jciOhuQneDsZEwN08voaWFZMSacVRjkFULvKUuz+feRlGPRD8jlffqy2J02f2zcKMizegR2MiCFW\n",
       "A4h26Hb1JteMopEFWPVjAPlaXevXV/nqkozJ58N400HQwye6bmnOe0if3DpiiPVFl0nslVMVHD+B\n",
       "0QffJxh9OeY5bLe/VQHB27kBQYxwuR03JePK584nelBJI0c4gm5ZEgIoCGBREM7ju3yuUvtTLNgV\n",
       "oYI5L3YCihhhVKfjJiekF8vNkXL2elhs3Ri8FbJqsgngKQkLa5+L8A7z+rEQ87iRcIbB27kyRYzQ\n",
       "bfK2mkLQRL+gTMaBEqYVlddgylFse2mLgkVBuekIU6F5zMFk2pzydjGAIsbYHDg3Zh9e1oa7n73F\n",
       "YIruldEKmt+XBQnBCCuNlO9Fu31SwbpPJwheD3lpYoxtVH37/kvBfe+wrxBHQeh39LhQBUa9P9cf\n",
       "5PYT3pLFp7w3McZ7fhNxOWqOUM3DHNYju3oDtxof/FPwSadDbs/psbgtXncQk2otVPvHTdWysfbZ\n",
       "g4rLO4i9rh+CHa8rJbf33/635yLGOG5GZp28nyRiTtfJewdy++C/qwJ8ebOD2KkluwQRy0MPlJi3\n",
       "SG1PTwgeMcaxv4n/Rv4AIvwdMCUnlXYAAAAASUVORK5CYII=\n",
       "\" style=\"display:inline;vertical-align:middle;\" /></a></span></td></tr>\n",
       "<tr><td>&nbsp;</td><td colspan=4 style-\"text-align:left\"><a class=\"ProveItLink\" href=\"../../axioms.ipynb#not_in_set_def\">proveit.logic.sets.membership.not_in_set_def</a></td></tr></table>"
      ],
      "text/plain": [
       "\tstep type\trequirements\tstatement\n",
       "0\tgeneralization\t1\t|- forall_{x, S | [not](x in S)} (x not-in S)\n",
       "1\tinstantiation\t2, 3, 4\t{[not](x in S)} |- x not-in S\n",
       "\tP : x not-in S, Q : [not](x in S)\n",
       "2\ttheorem\t\t|- forall_{P, Q | Q, P = Q} P\n",
       "\tproveit.logic.equality.lhs_via_equality\n",
       "3\tassumption\t\t{[not](x in S)} |- [not](x in S)\n",
       "4\tinstantiation\t5\t|- (x not-in S) = [not](x in S)\n",
       "\tx : x, S : S\n",
       "5\taxiom\t\t|- forall_{x, S} ((x not-in S) = [not](x in S))\n",
       "\tproveit.logic.sets.membership.not_in_set_def"
      ]
     },
     "execution_count": 6,
     "metadata": {},
     "output_type": "execute_result"
    }
   ],
   "source": [
    "%qed"
   ]
  },
  {
   "cell_type": "code",
   "execution_count": null,
   "metadata": {},
   "outputs": [],
   "source": []
  }
 ],
 "metadata": {
  "kernelspec": {
   "display_name": "Python 3",
   "language": "python",
   "name": "python3"
  }
 },
 "nbformat": 4,
 "nbformat_minor": 0
}