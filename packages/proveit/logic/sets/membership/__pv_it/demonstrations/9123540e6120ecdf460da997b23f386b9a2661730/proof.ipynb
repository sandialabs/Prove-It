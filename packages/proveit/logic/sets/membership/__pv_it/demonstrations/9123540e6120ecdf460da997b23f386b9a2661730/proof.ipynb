{
 "cells": [
  {
   "cell_type": "markdown",
   "metadata": {},
   "source": [
    "Show the Proof\n",
    "========"
   ]
  },
  {
   "cell_type": "code",
   "execution_count": 1,
   "metadata": {},
   "outputs": [
    {
     "data": {
      "text/html": [
       "<table><tr><th>&nbsp;</th><th>step type</th><th>requirements</th><th>statement</th></tr>\n",
       "<tr><td><a name=\"proveit.logic.sets.membership.demonstrations.9123540e6120ecdf460da997b23f386b9a2661730_step0\">0</a></td><td>instantiation</td><td><a href=\"#proveit.logic.sets.membership.demonstrations.9123540e6120ecdf460da997b23f386b9a2661730_step1\">1</a>, <a href=\"#proveit.logic.sets.membership.demonstrations.9123540e6120ecdf460da997b23f386b9a2661730_step2\">2</a></td><td><span style=\"font-size:20px;\"><a class=\"ProveItLink\" href=\"../3dc4c50e651be99302c77ddfc01ead7b6fcc1dcd0/expr.ipynb\"><img src=\"../3dc4c50e651be99302c77ddfc01ead7b6fcc1dcd0/expr.png\" style=\"display:inline;vertical-align:middle;\" /></a> <a class=\"ProveItLink\" href=\"proof.ipynb\" style=\"text-decoration: none\">&nbsp;&#x22A2;&nbsp;&nbsp;</a><a class=\"ProveItLink\" href=\"../ea68d40a0896daafe2892a41d1dc9b45c56931340/expr.ipynb\"><img src=\"../ea68d40a0896daafe2892a41d1dc9b45c56931340/expr.png\" style=\"display:inline;vertical-align:middle;\" /></a></span></td></tr>\n",
       "<tr><td>&nbsp;</td><td colspan=4 style=\"text-align:left\"><span style=\"font-size:20px;\"><a class=\"ProveItLink\" href=\"../../../../../../__pv_it/common/a0d9d672aa5e272d907247690c152cc2c6daafb70/expr.ipynb\"><img src=\"../../../../../../__pv_it/common/a0d9d672aa5e272d907247690c152cc2c6daafb70/expr.png\" style=\"display:inline;vertical-align:middle;\" /></a> : <a class=\"ProveItLink\" href=\"../../../../../../__pv_it/common/c06c606ec12678c58933ac85412ecadc2ae28be60/expr.ipynb\"><img src=\"../../../../../../__pv_it/common/c06c606ec12678c58933ac85412ecadc2ae28be60/expr.png\" style=\"display:inline;vertical-align:middle;\" /></a>, <a class=\"ProveItLink\" href=\"../../../../../../__pv_it/common/38f47c5670ea8c5b56253448e95d8afb56bc09b40/expr.ipynb\"><img src=\"../../../../../../__pv_it/common/38f47c5670ea8c5b56253448e95d8afb56bc09b40/expr.png\" style=\"display:inline;vertical-align:middle;\" /></a> : <a class=\"ProveItLink\" href=\"../80ff6e345e617dc612395a6fedebb157f2d9aac50/expr.ipynb\"><img src=\"../80ff6e345e617dc612395a6fedebb157f2d9aac50/expr.png\" style=\"display:inline;vertical-align:middle;\" /></a></span></td></tr><tr><td><a name=\"proveit.logic.sets.membership.demonstrations.9123540e6120ecdf460da997b23f386b9a2661730_step1\">1</a></td><td>theorem</td><td></td><td><span style=\"font-size:20px;\"> <a class=\"ProveItLink\" href=\"../../../_theory_nbs_/proofs/unfold_not_in_set/thm_proof.ipynb\" style=\"text-decoration: none\">&nbsp;&#x22A2;&nbsp;&nbsp;</a><a class=\"ProveItLink\" href=\"../../theorems/9efd1661041a93f39d7fa3cecc4b6a654560b2030/expr.ipynb\"><img src=\"../../theorems/9efd1661041a93f39d7fa3cecc4b6a654560b2030/expr.png\" style=\"display:inline;vertical-align:middle;\" /></a></span></td></tr>\n",
       "<tr><td>&nbsp;</td><td colspan=4 style-\"text-align:left\"><a class=\"ProveItLink\" href=\"../../../_theory_nbs_/proofs/unfold_not_in_set/thm_proof.ipynb\">proveit.logic.sets.membership.unfold_not_in_set</a></td></tr><tr><td><a name=\"proveit.logic.sets.membership.demonstrations.9123540e6120ecdf460da997b23f386b9a2661730_step2\">2</a></td><td>assumption</td><td></td><td><span style=\"font-size:20px;\"><a class=\"ProveItLink\" href=\"../3dc4c50e651be99302c77ddfc01ead7b6fcc1dcd0/expr.ipynb\"><img src=\"../3dc4c50e651be99302c77ddfc01ead7b6fcc1dcd0/expr.png\" style=\"display:inline;vertical-align:middle;\" /></a> <a class=\"ProveItLink\" href=\"../f03db414678cff167957b486a76edb7332278b9f0/proof.ipynb\" style=\"text-decoration: none\">&nbsp;&#x22A2;&nbsp;&nbsp;</a><a class=\"ProveItLink\" href=\"../3dc4c50e651be99302c77ddfc01ead7b6fcc1dcd0/expr.ipynb\"><img src=\"../3dc4c50e651be99302c77ddfc01ead7b6fcc1dcd0/expr.png\" style=\"display:inline;vertical-align:middle;\" /></a></span></td></tr>\n",
       "</table>"
      ],
      "text/plain": [
       "<proveit._core_.proof._ShowProof at 0x7fa27e7aaa20>"
      ]
     },
     "execution_count": 1,
     "metadata": {},
     "output_type": "execute_result"
    }
   ],
   "source": [
    "import proveit\n",
    "# Automation is not needed when only showing a stored proof:\n",
    "proveit.defaults.automation = False # This will speed things up.\n",
    "proveit.defaults.inline_pngs = False # Makes files smaller.\n",
    "%show_proof"
   ]
  },
  {
   "cell_type": "code",
   "execution_count": null,
   "metadata": {},
   "outputs": [],
   "source": []
  }
 ],
 "metadata": {
  "kernelspec": {
   "display_name": "Python 3",
   "language": "python",
   "name": "python3"
  }
 },
 "nbformat": 4,
 "nbformat_minor": 0
}