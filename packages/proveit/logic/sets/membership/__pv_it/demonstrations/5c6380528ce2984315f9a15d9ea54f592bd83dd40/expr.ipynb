{
 "cells": [
  {
   "cell_type": "markdown",
   "metadata": {},
   "source": [
    "Expression of type <a class=\"ProveItLink\" href=\"../../../../../../../../doc/html/api/proveit.logic.Equals.html\">Equals</a>\n",
    "=======================\n",
    "# from the theory of <a class=\"ProveItLink\" href=\"../../../_theory_nbs_/theory.ipynb\">proveit.logic.sets.membership</a>"
   ]
  },
  {
   "cell_type": "code",
   "execution_count": 1,
   "metadata": {},
   "outputs": [],
   "source": [
    "import proveit\n",
    "# Automation is not needed when building an expression:\n",
    "proveit.defaults.automation = False # This will speed things up.\n",
    "proveit.defaults.inline_pngs = False # Makes files smaller.\n",
    "%load_expr # Load the stored expression as 'stored_expr'\n",
    "# import Expression classes needed to build the expression\n",
    "from proveit import a\n",
    "from proveit.logic import And, Equals, NotEquals, NotInSet, Set\n",
    "from proveit.numbers import Add, one, three"
   ]
  },
  {
   "cell_type": "code",
   "execution_count": 2,
   "metadata": {},
   "outputs": [
    {
     "data": {
      "text/html": [
       "<strong id=\"expr\">expr:</strong> <a class=\"ProveItLink\" href=\"expr.ipynb\"><img src=\"expr.png\" style=\"display:inline;vertical-align:middle;\" /></a><br>"
      ],
      "text/plain": [
       "<IPython.core.display.HTML object>"
      ]
     },
     "metadata": {},
     "output_type": "display_data"
    }
   ],
   "source": [
    "# build up the expression from sub-expressions\n",
    "sub_expr1 = Add(one, three)\n",
    "expr = Equals(NotInSet(a, Set(one, sub_expr1, three)), And(NotEquals(a, one), NotEquals(a, sub_expr1), NotEquals(a, three)))"
   ]
  },
  {
   "cell_type": "code",
   "execution_count": 3,
   "metadata": {},
   "outputs": [
    {
     "name": "stdout",
     "output_type": "stream",
     "text": [
      "Passed sanity check: expr matches stored_expr\n"
     ]
    }
   ],
   "source": [
    "# check that the built expression is the same as the stored expression\n",
    "assert expr == stored_expr\n",
    "assert expr._style_id == stored_expr._style_id\n",
    "print(\"Passed sanity check: expr matches stored_expr\")"
   ]
  },
  {
   "cell_type": "code",
   "execution_count": 4,
   "metadata": {},
   "outputs": [
    {
     "name": "stdout",
     "output_type": "stream",
     "text": [
      "\\left(a \\notin \\left\\{1, 1 + 3, 3\\right\\}\\right) = \\left(\\left(a \\neq 1\\right) \\land \\left(a \\neq \\left(1 + 3\\right)\\right) \\land \\left(a \\neq 3\\right)\\right)\n"
     ]
    }
   ],
   "source": [
    "# Show the LaTeX representation of the expression for convenience if you need it.\n",
    "print(stored_expr.latex())"
   ]
  },
  {
   "cell_type": "code",
   "execution_count": 5,
   "metadata": {},
   "outputs": [
    {
     "data": {
      "text/html": [
       "<table>\n",
       "<tr><th>name</th><th>description</th><th>default</th><th>current value</th><th>related methods</th></tr><tr><td>operation</td><td>'infix' or 'function' style formatting</td><td>infix</td><td>infix</td><td></td></tr>\n",
       "<tr><td>wrap_positions</td><td>position(s) at which wrapping is to occur; '2 n - 1' is after the nth operand, '2 n' is after the nth operation.</td><td>()</td><td>()</td><td>('with_wrapping_at', 'with_wrap_before_operator', 'with_wrap_after_operator', 'without_wrapping', 'wrap_positions')</td></tr>\n",
       "<tr><td>justification</td><td>if any wrap positions are set, justify to the 'left', 'center', or 'right'</td><td>center</td><td>center</td><td>('with_justification',)</td></tr>\n",
       "<tr><td>direction</td><td>Direction of the relation (normal or reversed)</td><td>normal</td><td>normal</td><td>('with_direction_reversed', 'is_reversed')</td></tr>\n",
       "</table>\n"
      ],
      "text/plain": [
       "style name: operation\n",
       "description: 'infix' or 'function' style formatting\n",
       "default: infix\n",
       "current value: infix\n",
       "related methods: ()\n",
       "style name: wrap_positions\n",
       "description: position(s) at which wrapping is to occur; '2 n - 1' is after the nth operand, '2 n' is after the nth operation.\n",
       "default: ()\n",
       "current value: ()\n",
       "related methods: ('with_wrapping_at', 'with_wrap_before_operator', 'with_wrap_after_operator', 'without_wrapping', 'wrap_positions')\n",
       "style name: justification\n",
       "description: if any wrap positions are set, justify to the 'left', 'center', or 'right'\n",
       "default: center\n",
       "current value: center\n",
       "related methods: ('with_justification',)\n",
       "style name: direction\n",
       "description: Direction of the relation (normal or reversed)\n",
       "default: normal\n",
       "current value: normal\n",
       "related methods: ('with_direction_reversed', 'is_reversed')"
      ]
     },
     "metadata": {},
     "output_type": "display_data"
    }
   ],
   "source": [
    "stored_expr.style_options()"
   ]
  },
  {
   "cell_type": "code",
   "execution_count": 6,
   "metadata": {},
   "outputs": [
    {
     "data": {
      "text/html": [
       "<table><tr><th>&nbsp;</th><th>core type</th><th>sub-expressions</th><th>expression</th></tr>\n",
       "<tr><td>0</td><td>Operation</td><td>operator:&nbsp;1<br>operands:&nbsp;2<br></td><td><a class=\"ProveItLink\" href=\"expr.ipynb\"><img src=\"expr.png\" style=\"display:inline;vertical-align:middle;\" /></a></td></tr>\n",
       "<tr><td>1</td><td>Literal</td><td></td><td><a class=\"ProveItLink\" href=\"../../../../../equality/__pv_it/common/fb96dc12b2aa8801dda64d0132b396c63d1502bb0/expr.ipynb\"><img src=\"../../../../../equality/__pv_it/common/fb96dc12b2aa8801dda64d0132b396c63d1502bb0/expr.png\" style=\"display:inline;vertical-align:middle;\" /></a></td></tr>\n",
       "<tr><td>2</td><td>ExprTuple</td><td>3, 4</td><td><a class=\"ProveItLink\" href=\"../975d2c6adf66a1e4fb090a72c5886a502f07bd180/expr.ipynb\"><img src=\"../975d2c6adf66a1e4fb090a72c5886a502f07bd180/expr.png\" style=\"display:inline;vertical-align:middle;\" /></a></td></tr>\n",
       "<tr><td>3</td><td>Operation</td><td>operator:&nbsp;5<br>operands:&nbsp;6<br></td><td><a class=\"ProveItLink\" href=\"../0a8cf8f117c28f62bf6f1c21b031deff1392bbaf0/expr.ipynb\"><img src=\"../0a8cf8f117c28f62bf6f1c21b031deff1392bbaf0/expr.png\" style=\"display:inline;vertical-align:middle;\" /></a></td></tr>\n",
       "<tr><td>4</td><td>Operation</td><td>operator:&nbsp;7<br>operands:&nbsp;8<br></td><td><a class=\"ProveItLink\" href=\"../66273dcf6ef3502a1469ee5e011fb971e83672190/expr.ipynb\"><img src=\"../66273dcf6ef3502a1469ee5e011fb971e83672190/expr.png\" style=\"display:inline;vertical-align:middle;\" /></a></td></tr>\n",
       "<tr><td>5</td><td>Literal</td><td></td><td><a class=\"ProveItLink\" href=\"../../common/f4affea88ec78899b0259567586c16d1e6a484950/expr.ipynb\"><img src=\"../../common/f4affea88ec78899b0259567586c16d1e6a484950/expr.png\" style=\"display:inline;vertical-align:middle;\" /></a></td></tr>\n",
       "<tr><td>6</td><td>ExprTuple</td><td>20, 9</td><td><a class=\"ProveItLink\" href=\"../21b6d9a1be974305890a42988e5fa9cf339fc4f80/expr.ipynb\"><img src=\"../21b6d9a1be974305890a42988e5fa9cf339fc4f80/expr.png\" style=\"display:inline;vertical-align:middle;\" /></a></td></tr>\n",
       "<tr><td>7</td><td>Literal</td><td></td><td><a class=\"ProveItLink\" href=\"../../../../../booleans/conjunction/__pv_it/common/42118ff318bd65d98b1393f64ce7c2269feef76e0/expr.ipynb\"><img src=\"../../../../../booleans/conjunction/__pv_it/common/42118ff318bd65d98b1393f64ce7c2269feef76e0/expr.png\" style=\"display:inline;vertical-align:middle;\" /></a></td></tr>\n",
       "<tr><td>8</td><td>ExprTuple</td><td>10, 11, 12</td><td><a class=\"ProveItLink\" href=\"../bf462888dfae49f83ea9711c4cc6397956cdcd5c0/expr.ipynb\"><img src=\"../bf462888dfae49f83ea9711c4cc6397956cdcd5c0/expr.png\" style=\"display:inline;vertical-align:middle;\" /></a></td></tr>\n",
       "<tr><td>9</td><td>Operation</td><td>operator:&nbsp;13<br>operands:&nbsp;14<br></td><td><a class=\"ProveItLink\" href=\"../1efe861cc45a1b0c146bfe796675a0366953977d0/expr.ipynb\"><img src=\"../1efe861cc45a1b0c146bfe796675a0366953977d0/expr.png\" style=\"display:inline;vertical-align:middle;\" /></a></td></tr>\n",
       "<tr><td>10</td><td>Operation</td><td>operator:&nbsp;17<br>operands:&nbsp;15<br></td><td><a class=\"ProveItLink\" href=\"../0253dbed1258e1c128ba9f6ec6b2a0640e2a18320/expr.ipynb\"><img src=\"../0253dbed1258e1c128ba9f6ec6b2a0640e2a18320/expr.png\" style=\"display:inline;vertical-align:middle;\" /></a></td></tr>\n",
       "<tr><td>11</td><td>Operation</td><td>operator:&nbsp;17<br>operands:&nbsp;16<br></td><td><a class=\"ProveItLink\" href=\"../05dd918e1e9d15f698f90b2a679963f9d06848f60/expr.ipynb\"><img src=\"../05dd918e1e9d15f698f90b2a679963f9d06848f60/expr.png\" style=\"display:inline;vertical-align:middle;\" /></a></td></tr>\n",
       "<tr><td>12</td><td>Operation</td><td>operator:&nbsp;17<br>operands:&nbsp;18<br></td><td><a class=\"ProveItLink\" href=\"../9193cf2d2da2f35428d04e71c05155cd5c6d25070/expr.ipynb\"><img src=\"../9193cf2d2da2f35428d04e71c05155cd5c6d25070/expr.png\" style=\"display:inline;vertical-align:middle;\" /></a></td></tr>\n",
       "<tr><td>13</td><td>Literal</td><td></td><td><a class=\"ProveItLink\" href=\"../../../../enumeration/__pv_it/common/0ead90ccbf4f17bc585a51f8aa904bb77916ae6e0/expr.ipynb\"><img src=\"../../../../enumeration/__pv_it/common/0ead90ccbf4f17bc585a51f8aa904bb77916ae6e0/expr.png\" style=\"display:inline;vertical-align:middle;\" /></a></td></tr>\n",
       "<tr><td>14</td><td>ExprTuple</td><td>23, 19, 24</td><td><a class=\"ProveItLink\" href=\"../663fb546e96bd372a3c16286e28dbe5d6f3d33220/expr.ipynb\"><img src=\"../663fb546e96bd372a3c16286e28dbe5d6f3d33220/expr.png\" style=\"display:inline;vertical-align:middle;\" /></a></td></tr>\n",
       "<tr><td>15</td><td>ExprTuple</td><td>20, 23</td><td><a class=\"ProveItLink\" href=\"../017eacf4fbcd5ccb1afa72357dfba07ebe7b0eca0/expr.ipynb\"><img src=\"../017eacf4fbcd5ccb1afa72357dfba07ebe7b0eca0/expr.png\" style=\"display:inline;vertical-align:middle;\" /></a></td></tr>\n",
       "<tr><td>16</td><td>ExprTuple</td><td>20, 19</td><td><a class=\"ProveItLink\" href=\"../b25fe1caa26fe6df606a5856e90e70ce88fa5d530/expr.ipynb\"><img src=\"../b25fe1caa26fe6df606a5856e90e70ce88fa5d530/expr.png\" style=\"display:inline;vertical-align:middle;\" /></a></td></tr>\n",
       "<tr><td>17</td><td>Literal</td><td></td><td><a class=\"ProveItLink\" href=\"../../../../../equality/__pv_it/common/d96270bc9bb1bad54f773b1c04bfb343a739642c0/expr.ipynb\"><img src=\"../../../../../equality/__pv_it/common/d96270bc9bb1bad54f773b1c04bfb343a739642c0/expr.png\" style=\"display:inline;vertical-align:middle;\" /></a></td></tr>\n",
       "<tr><td>18</td><td>ExprTuple</td><td>20, 24</td><td><a class=\"ProveItLink\" href=\"../75b933aa77ecc6ddc66e9fde7077ecf56090dd180/expr.ipynb\"><img src=\"../75b933aa77ecc6ddc66e9fde7077ecf56090dd180/expr.png\" style=\"display:inline;vertical-align:middle;\" /></a></td></tr>\n",
       "<tr><td>19</td><td>Operation</td><td>operator:&nbsp;21<br>operands:&nbsp;22<br></td><td><a class=\"ProveItLink\" href=\"../3f944c20b784c8f954d394480bb92a7826616bb40/expr.ipynb\"><img src=\"../3f944c20b784c8f954d394480bb92a7826616bb40/expr.png\" style=\"display:inline;vertical-align:middle;\" /></a></td></tr>\n",
       "<tr><td>20</td><td>Variable</td><td></td><td><a class=\"ProveItLink\" href=\"../../../../../../__pv_it/common/c06c606ec12678c58933ac85412ecadc2ae28be60/expr.ipynb\"><img src=\"../../../../../../__pv_it/common/c06c606ec12678c58933ac85412ecadc2ae28be60/expr.png\" style=\"display:inline;vertical-align:middle;\" /></a></td></tr>\n",
       "<tr><td>21</td><td>Literal</td><td></td><td><a class=\"ProveItLink\" href=\"../../../../../../numbers/addition/__pv_it/common/4b7effaab3619a1c2c38fe2dee8601df8ec714590/expr.ipynb\"><img src=\"../../../../../../numbers/addition/__pv_it/common/4b7effaab3619a1c2c38fe2dee8601df8ec714590/expr.png\" style=\"display:inline;vertical-align:middle;\" /></a></td></tr>\n",
       "<tr><td>22</td><td>ExprTuple</td><td>23, 24</td><td><a class=\"ProveItLink\" href=\"../7818a612e3a13034f9173d608653609e4f92ad0f0/expr.ipynb\"><img src=\"../7818a612e3a13034f9173d608653609e4f92ad0f0/expr.png\" style=\"display:inline;vertical-align:middle;\" /></a></td></tr>\n",
       "<tr><td>23</td><td>Literal</td><td></td><td><a class=\"ProveItLink\" href=\"../../../../../../numbers/numerals/__pv_it/common/682157d4892d216d9e5626ed533aff9b56b9506e0/expr.ipynb\"><img src=\"../../../../../../numbers/numerals/__pv_it/common/682157d4892d216d9e5626ed533aff9b56b9506e0/expr.png\" style=\"display:inline;vertical-align:middle;\" /></a></td></tr>\n",
       "<tr><td>24</td><td>Literal</td><td></td><td><a class=\"ProveItLink\" href=\"../../../../../../numbers/numerals/__pv_it/common/1943b60945420e340d305780feff5c1aff2740ff0/expr.ipynb\"><img src=\"../../../../../../numbers/numerals/__pv_it/common/1943b60945420e340d305780feff5c1aff2740ff0/expr.png\" style=\"display:inline;vertical-align:middle;\" /></a></td></tr>\n",
       "</table>\n"
      ],
      "text/plain": [
       "0. (a not-in {1, 1 + 3, 3}) = ((a != 1) and (a != (1 + 3)) and (a != 3))\n",
       "   core type: Operation\n",
       "   operator: 1\n",
       "   operands: 2\n",
       "1. =\n",
       "   core type: Literal\n",
       "   sub-expressions: \n",
       "2. (a not-in {1, 1 + 3, 3}, (a != 1) and (a != (1 + 3)) and (a != 3))\n",
       "   core type: ExprTuple\n",
       "   sub-expressions: 3, 4\n",
       "3. a not-in {1, 1 + 3, 3}\n",
       "   core type: Operation\n",
       "   operator: 5\n",
       "   operands: 6\n",
       "4. (a != 1) and (a != (1 + 3)) and (a != 3)\n",
       "   core type: Operation\n",
       "   operator: 7\n",
       "   operands: 8\n",
       "5. not-in\n",
       "   core type: Literal\n",
       "   sub-expressions: \n",
       "6. (a, {1, 1 + 3, 3})\n",
       "   core type: ExprTuple\n",
       "   sub-expressions: 20, 9\n",
       "7. and\n",
       "   core type: Literal\n",
       "   sub-expressions: \n",
       "8. (a != 1, a != (1 + 3), a != 3)\n",
       "   core type: ExprTuple\n",
       "   sub-expressions: 10, 11, 12\n",
       "9. {1, 1 + 3, 3}\n",
       "   core type: Operation\n",
       "   operator: 13\n",
       "   operands: 14\n",
       "10. a != 1\n",
       "    core type: Operation\n",
       "    operator: 17\n",
       "    operands: 15\n",
       "11. a != (1 + 3)\n",
       "    core type: Operation\n",
       "    operator: 17\n",
       "    operands: 16\n",
       "12. a != 3\n",
       "    core type: Operation\n",
       "    operator: 17\n",
       "    operands: 18\n",
       "13. Set\n",
       "    core type: Literal\n",
       "    sub-expressions: \n",
       "14. (1, 1 + 3, 3)\n",
       "    core type: ExprTuple\n",
       "    sub-expressions: 23, 19, 24\n",
       "15. (a, 1)\n",
       "    core type: ExprTuple\n",
       "    sub-expressions: 20, 23\n",
       "16. (a, 1 + 3)\n",
       "    core type: ExprTuple\n",
       "    sub-expressions: 20, 19\n",
       "17. !=\n",
       "    core type: Literal\n",
       "    sub-expressions: \n",
       "18. (a, 3)\n",
       "    core type: ExprTuple\n",
       "    sub-expressions: 20, 24\n",
       "19. 1 + 3\n",
       "    core type: Operation\n",
       "    operator: 21\n",
       "    operands: 22\n",
       "20. a\n",
       "    core type: Variable\n",
       "    sub-expressions: \n",
       "21. +\n",
       "    core type: Literal\n",
       "    sub-expressions: \n",
       "22. (1, 3)\n",
       "    core type: ExprTuple\n",
       "    sub-expressions: 23, 24\n",
       "23. 1\n",
       "    core type: Literal\n",
       "    sub-expressions: \n",
       "24. 3\n",
       "    core type: Literal\n",
       "    sub-expressions: "
      ]
     },
     "metadata": {},
     "output_type": "display_data"
    }
   ],
   "source": [
    "# display the expression information\n",
    "stored_expr.expr_info()"
   ]
  },
  {
   "cell_type": "code",
   "execution_count": null,
   "metadata": {},
   "outputs": [],
   "source": []
  }
 ],
 "metadata": {
  "kernelspec": {
   "display_name": "Python 3",
   "language": "python",
   "name": "python3"
  }
 },
 "nbformat": 4,
 "nbformat_minor": 0
}