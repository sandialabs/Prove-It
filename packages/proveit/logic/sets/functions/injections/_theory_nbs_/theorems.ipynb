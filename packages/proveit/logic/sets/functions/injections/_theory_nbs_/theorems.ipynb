{
 "cells": [
  {
   "cell_type": "markdown",
   "metadata": {},
   "source": [
    "Theorems (or conjectures) for the theory of <a class=\"ProveItLink\" href=\"theory.ipynb\">proveit.logic.sets.functions.injections</a>\n",
    "========"
   ]
  },
  {
   "cell_type": "code",
   "execution_count": null,
   "metadata": {},
   "outputs": [],
   "source": [
    "import proveit\n",
    "# Prepare this notebook for defining the theorems of a theory:\n",
    "%theorems_notebook # Keep this at the top following 'import proveit'.\n",
    "\n",
    "from proveit import a, b, f, n, x, A, B, C, fa, fb, fx\n",
    "from proveit.logic import (\n",
    "    And, Forall, Equals, NotEquals, InSet, Disjoint,\n",
    "    Functions, image_of_set, Injections)\n",
    "from proveit.numbers import Natural"
   ]
  },
  {
   "cell_type": "code",
   "execution_count": null,
   "metadata": {},
   "outputs": [],
   "source": [
    "%begin theorems"
   ]
  },
  {
   "cell_type": "code",
   "execution_count": null,
   "metadata": {},
   "outputs": [],
   "source": [
    "membership_unfolding = Forall(\n",
    "    (A, B), Forall(\n",
    "        f, And(InSet(f, Functions(A, B)),\n",
    "               Forall((a, b), NotEquals(fa, fb),\n",
    "                      domain=A, condition=NotEquals(a, b))),\n",
    "        domain=Injections(A, B)))"
   ]
  },
  {
   "cell_type": "code",
   "execution_count": null,
   "metadata": {},
   "outputs": [],
   "source": [
    "membership_folding = Forall(\n",
    "    (A, B), Forall(\n",
    "        f,  InSet(f, Injections(A, B)),\n",
    "        domain=Functions(A, B),\n",
    "        condition=Forall((a, b), NotEquals(fa, fb),\n",
    "                         domain=A, condition=NotEquals(a, b))))"
   ]
  },
  {
   "cell_type": "markdown",
   "metadata": {},
   "source": [
    "An injection is a function."
   ]
  },
  {
   "cell_type": "code",
   "execution_count": null,
   "metadata": {},
   "outputs": [],
   "source": [
    "injection_is_function = Forall(\n",
    "    (A, B), Forall(f, InSet(f, Functions(A, B)),\n",
    "                   domain=Injections(A, B)))"
   ]
  },
  {
   "cell_type": "markdown",
   "metadata": {},
   "source": [
    "### Useful properties of injections"
   ]
  },
  {
   "cell_type": "code",
   "execution_count": null,
   "metadata": {},
   "outputs": [],
   "source": [
    "disjoint_set_images_are_disjoint = Forall(\n",
    "    (A, B, C), Forall(\n",
    "        f, Disjoint(image_of_set(f, A), image_of_set(f, B)),\n",
    "        domain = Injections(A, C)),\n",
    "    condition = Disjoint(A, B))"
   ]
  },
  {
   "cell_type": "code",
   "execution_count": null,
   "metadata": {},
   "outputs": [],
   "source": [
    "%end theorems"
   ]
  }
 ],
 "metadata": {
  "kernelspec": {
   "display_name": "Python 3",
   "language": "python",
   "name": "python3"
  }
 },
 "nbformat": 4,
 "nbformat_minor": 0
}
