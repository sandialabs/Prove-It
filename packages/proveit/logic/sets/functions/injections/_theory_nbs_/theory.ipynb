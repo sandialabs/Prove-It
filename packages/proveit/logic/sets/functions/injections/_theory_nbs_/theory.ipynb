{
 "cells": [
  {
   "cell_type": "markdown",
   "metadata": {},
   "source": [
    "Theory of <a class=\"ProveItLink\" href=\"../../../../../_theory_nbs_/theory.ipynb\">proveit</a>.<a class=\"ProveItLink\" href=\"../../../../_theory_nbs_/theory.ipynb\">logic</a>.<a class=\"ProveItLink\" href=\"../../../_theory_nbs_/theory.ipynb\">sets</a>.<a class=\"ProveItLink\" href=\"../../_theory_nbs_/theory.ipynb\">functions</a>.injections\n",
    "========\n",
    "\n",
    "Provide description here."
   ]
  },
  {
   "cell_type": "code",
   "execution_count": 1,
   "metadata": {},
   "outputs": [
    {
     "data": {
      "text/html": [
       "<h3>Local content of this theory</h3>"
      ],
      "text/plain": [
       "<IPython.core.display.HTML object>"
      ]
     },
     "metadata": {},
     "output_type": "display_data"
    },
    {
     "data": {
      "text/html": [
       "<table><tr>\n",
       "<th><a class=\"ProveItLink\" href=\"common.ipynb\">common expressions</a></th>\n",
       "<th><a class=\"ProveItLink\" href=\"axioms.ipynb\">axioms</a></th>\n",
       "<th><a class=\"ProveItLink\" href=\"theorems.ipynb\">theorems</a></th>\n",
       "<th><a class=\"ProveItLink\" href=\"demonstrations.ipynb\">demonstrations</a></th>\n",
       "</tr></table>\n",
       "<h3>Sub-theories</h3>\n"
      ],
      "text/plain": [
       "<IPython.core.display.HTML object>"
      ]
     },
     "metadata": {},
     "output_type": "display_data"
    },
    {
     "data": {
      "text/html": [
       "<h3>All axioms contained within this theory</h3>"
      ],
      "text/plain": [
       "<IPython.core.display.HTML object>"
      ]
     },
     "metadata": {},
     "output_type": "display_data"
    },
    {
     "data": {
      "text/html": [
       "<dt><a class=\"ProveItLink\" href=\"axioms.ipynb#injective_def\">proveit.logic.sets.functions.injections.injective_def</a></dt><dd><a class=\"ProveItLink\" href=\"../__pv_it/axioms/2b2f642643127f05db20f5f1c25ec967e12d64980/expr.ipynb\"><img src=\"data:image/png;base64,iVBORw0KGgoAAAANSUhEUgAAAmQAAABACAMAAACDbZuHAAAAUVBMVEX///8AAAAAAAAAAAAAAAAA\n",
       "AAAAAAAAAAAAAAAAAAAAAAAAAAAAAAAAAAAAAAAAAAAAAAAAAAAAAAAAAAAAAAAAAAAAAAAAAAAA\n",
       "AAAAAAAAAAAsiKZwAAAAGnRSTlMAq1RmmUTNIjK7EInv3Xbh+fvl1/Ptyef16aOoTZEAAAAJcEhZ\n",
       "cwAADsQAAA7EAZUrDhsAAAwjSURBVHja7Z2L1qQoDoBFkKsyO72zN9//QdcbSBAIVlVr9bScM+0/\n",
       "lpUS+AwhhNg031ZYe+LidpwKveKu5h/S81+a6+YpV5VubvdxONtbFvmcnJHWkgsr3K90yeGhLFPi\n",
       "B5AviLRvQdZNRZ77kuXlzylvvh2yhpIHp1z3KvC/cibkTche+Y4ofi57/WHINMCWoVdUQNao9sEp\n",
       "U5Q5NtvFkOkesZ+4aT4LmbQ2HNAH9IoayHT/DJjZHm7vhoxxzI7XH4ZsuiRAyPbYFVWQnTQcf6vS\n",
       "Hh7AiyGTI2LBDab5mZB1ZDRmagNLrdHvQCaQUf93LgO7FzJOMAj1T4VsMvkWu6Gb1PrwDmQp0+Mp\n",
       "bjQSd0LWYs8/Uc0FkMnlvpV9BzLaPzRlVYm6E7IBY+i8WzWCTPAMZGocR7NBtgJC2HbuJcjE+Eww\n",
       "87pE3geZxDpGxpqOGaNPQcZHVJNpumoyjmoyOlFIpsKVPEB2tDyeslPF7oOMYNfT6AJDJHaDELJ2\n",
       "RCDTYyNlwyehIiAmq8l6td24PEDG+ANT1ocw3gaZHrGHn/B4MO/UKU3GyMHqE4aPZldahs0DpLGW\n",
       "icwV4XdHu1WUHSCz4wNTHgx6F2QU8180PYnkR4RZNUyFZyEzwozy9fpYkbljusEWQta+80t/+/GS\n",
       "3wWZQi8foV/AwFGs41YXNZmwk355o0Ity4zvvBcHyORj+ZfGS3ETZCPqnwBalpJ+ICycOGpkuGSz\n",
       "fnkn7GdImmSaDAnDX18SYPTLzi/pPZB1I+a/jN0CIzCUuEBssq6d9cs7TtI2CiEYlbWWcJpwYcC7\n",
       "Y0NQnhWnqSfJPZCxsTvn4hDQ6uGY4c8OtTtvlYF5hl2VfusX9SFkj8+/YJT190DG0SWjDmLYAvGy\n",
       "d5pCpSGzirFpdhl8qvl8+R//+HMuP5Y/f3h988c/53//+tN/uJQxvAW1tZSfTUDIHkdZyf7Wt0CG\n",
       "h9BGmgza/VqVNZm2lb9SrBEPMXda0U0uH8jqh4SwK6+DTOB2fwSZIkWrPIJs6/LhnTVFCeYW0lmv\n",
       "xKm3xyart/zZHZC1+JMvIh8edJBaW4Kso25QfqNCcG6xmWQTbDxpkz2zy5K+UHdAZkeLXaLBJSKe\n",
       "KPA2D5novTHweqBX5Cfjq8yu9/othOxZIS935QAg27V7S1+DrEoCq+gUsLDaxghrojqdhEyrcVxI\n",
       "aOc/Xp71mXA2S/zq+H7f0BnbPSwVLPARQMa69GhRD1mVBFWxDAMCkRIRzp1RxWWlnz4xB8tKT5h/\n",
       "oQxB80yQSddN4mzEoIOsSgKvGMdYH7DDq4aj2yAzw0NSU9fds03mTA7TvghZlYS+4smn/ppB6bpQ\n",
       "mtsgU88kslRUYE3MkFE3MXvZ8K+RMFbMErS322gQivOdkD2Ty2IhgQm+zC5XX3pvXoasRkINZI06\n",
       "7eC8C7Lu2a50DjK2mOThsp0+CdlRwmuQnd+ecRdk5gmMLZvXgaZfIBPE/eMY64OZoFQjM4YpWYAs\n",
       "kqAZo4eRsAYyfdovcBdk/eMlOwfZooJM0L0G+LToMo9K7L0OnLFQgqKHNCx6rFJSpxXETZDZZ0cc\n",
       "0pGBY32FrLXAaO8kWNFZIwfpWIIMSkhMJCsha3r5S0D2KLLTkE180AArC3d6L9fogZYgCyW0pD/6\n",
       "MmohO5k56ibI7GORnYfMtEH8gYX7vcRoKWVENkXIQglUvWr4z7TS74dM9M/U8rRNNrVaEMUsocmx\n",
       "mGSasDJkoQTG3oBMD+LbIdPDM1i+AFkTKKppKmlIYFWteInEvA9EYQQSFH0DssyGkSxk1+eMTdfv\n",
       "KaAc/GSg2BUpGV3SjbIMGWa899VxQeLLNzTqJ/ziTci24L/5Em1W3vQyQiDDJbDxU6poqItaoF/e\n",
       "g2QYht/RILNTvVdW6hZl1EFNBYPCYlppNvKuWfJQUD6a2RWbskIykMke+9XC6PftgfO/8bRyW6Gu\n",
       "C9YZoiiMQpeXBWUgoyxt01ToqCD0Qpx5yOQHHlRZ9aP3QiaqzotPiBeHcy4MgtoKUT0MWixApF+A\n",
       "TLUk2eW2xjzfTWpbP4EzHZw3vOjYmaV09qshyzVKdD5bC6brxTshuzAHWVPzGoPQLVqEDKMiCZlJ\n",
       "b/hoaMVmWLEHLQYXY0nKIGTVO0mi7GOrFEtrIHs9Yv2tkmuUNm7ZTC3kcaA7iNGqH6AQL8xDZnG3\n",
       "kYhi/F8vpzaSdBV7u5k5Dpt4kjIAWTvW3xTIPrZJif0n8drFcmOvR6y/NavNNEoivDPtBTrGOKTE\n",
       "cBYJcUcPmcbncKC3r4NMj/hI4822MIgDTVIGIEtkKMs/bWH2sU1KZFDqgScgez1i/Z2SaxRG68xi\n",
       "eXzKU2L2wFEWHf3v4KsyNNx4duEO8gG9es993Yc/giUpA/Ej+QxlSPYxk9rAO40VpEvYZC9HrL9T\n",
       "co2SmsynXmahxLEDj2KCc07IdtwhY+izxcJeuDThCqZi/ItB2hAhNElZAFkpQxmSfcxJgU/pEBsy\n",
       "HLT3ldOAXKO0qZtI6JruqMhSYoJzTsh23CHDA52AZXwhZBSdXvpsnt42q0pSFkBWzFBWzj7mpBgS\n",
       "mdrQ7Npu8dWI9XdGy0yj+POCGCtsohYZ8zEthhNrSQuEbMcdsg41ykBKkgshE2ieAqUSzyGepGyH\n",
       "rJyhrJx9zEkBsUbzz0ENuH1aEW8e26QAmOor08opbBR3vpsVssumE9Riy9Pxn/8e83QkxOh5l7Re\n",
       "Bx0nhPIIMvTFMrATrsy02GM7FX0UWxDlUJGkbIcMyVBWzD7mpLR9bCoDtxB3WqOBEev+Kzxtr4CI\n",
       "9kZh85iEmFyjbOfXV6Ox4ViL7OOZErPuWV6DVp2Q7bhDJjDHugW9diVkBlOyfn207wKXBOjCVJIy\n",
       "D9khQxlItoNkH3NSZPCDq1sZOP4c5XHE+v4d9wxLS5Tq9sq3dZBt5JKDPs41ynZ+TWvu3k0l467p\n",
       "EsozKWap4KqInJDtuEOGbsVQfXMTZAJLueI1WdCeFUnKXF+jGcqK2ceclK6PHVPhW5g8ZFHEetCi\n",
       "2zPMWPgwRxHtBciIAGKSkIFG2c4vFqbv/a7HFVlSzELp9hpUJ6Q7ajKJuKvIXZA1nJ8fLiuSlDk8\n",
       "sAxl5exjfrgcDo7Y8KXofP/DreFpQ60RXuxk5+mD0z2KaA8hA19vOgPEpIdL0Cjr+TUjkt+IEdRi\n",
       "Uef/+yuROy0hZvWSsXXMcUK2Y2iTCWSOJ2+DjCL35l/fFbxbqyJJ2YYHmqGsnH3MG/7qQHS4HMp3\n",
       "ArmLkxVBq9vJgrMsVrlRRHsImf86U3P51/Qf9WIAEplGWc+vm++n+XkroloAxx7UjUcxzYyHe/Ot\n",
       "E7Id62eXfGhug0wjy5fe/bJPwGuSlK14oBnKkOxjXh/ungLfB8F6jEfFx5vPweZ7dNNMyDQb64Ai\n",
       "iyPaQ8jg150C3MSAamYaZTs/Q9JOVi2LapH2EWbFELrv43dCtuMOGbIHO0pmePFb4liPyNseEDmk\n",
       "7f4mmaRsxqMiQxmSfcxBNviW34craRPTWxdsMhsz+5LxbEsxMgGy6KVNehzRHkIGvu4V4CYGjPaZ\n",
       "RtnOa2KNFMTKqBZ5RZYRY/wy1QCbJPD4E2SG19wImUZMf2/b+gCxmiRl5iPBtJsUgfhZ+LFOs3uK\n",
       "6q0bx7VRpYGDZWQsq8TX5+Hyx7/VOlyOib7JNUoimi6qRZt86jAxTog71q5dHnr54jf3IusRXsmv\n",
       "a7KVSco+ChmjJyFr+tmm6qhew9UnW2oxYQKXXBDRntJk7utNuITtxACTNtMoidXwqBY8+bogTIwT\n",
       "4o61URjssLRy8Yvuh6IqC0yb2a6qTFL2ScjQsIrjDXWMttbQZg1Xl2ydmwhvx4UR7QnI/NcBmU4M\n",
       "NP0zjXJY+Y5qQROKDBfjhHhhHjJKyhZZdzNkSMYl0obGSWWSsk9CpsRpyEL1ADwT88iXubXMOwkQ\n",
       "P2KuUQ7ew6gWqUhWXIwT4oXtkbHlPjwgeDVkSEaV/ekStl7kR2L8F3vQolCXbr+rXspU5wEuNUp0\n",
       "Pq5FbesAMU7ILqwuxp8eo4wuhyx096Qe5m9/YVEJhPpQ7CRk7ZfvBqzarSQSm27fhGwuJxP06rLa\n",
       "+fZ9l/wj+y5/vZ2bdhg2F215N0o08eQLIu9Apru5nB2qxPPG279viXfXywUR/X/ea4BdWgTnAgAA\n",
       "AABJRU5ErkJggg==\n",
       "\" style=\"display:inline;vertical-align:middle;\" /></a></dd>"
      ],
      "text/plain": [
       "<IPython.core.display.HTML object>"
      ]
     },
     "metadata": {},
     "output_type": "display_data"
    }
   ],
   "source": [
    "import proveit\n",
    "%theory # toggles between interactive and static modes"
   ]
  },
  {
   "cell_type": "code",
   "execution_count": null,
   "metadata": {},
   "outputs": [],
   "source": []
  }
 ],
 "metadata": {
  "kernelspec": {
   "display_name": "Python 3",
   "language": "python",
   "name": "python3"
  }
 },
 "nbformat": 4,
 "nbformat_minor": 0
}