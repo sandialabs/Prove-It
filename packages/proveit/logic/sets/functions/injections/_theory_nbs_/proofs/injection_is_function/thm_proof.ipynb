{
 "cells": [
  {
   "cell_type": "markdown",
   "metadata": {},
   "source": [
    "Proof of <a class=\"ProveItLink\" href=\"../../../../../../../_theory_nbs_/theory.ipynb\">proveit</a>.<a class=\"ProveItLink\" href=\"../../../../../../_theory_nbs_/theory.ipynb\">logic</a>.<a class=\"ProveItLink\" href=\"../../../../../_theory_nbs_/theory.ipynb\">sets</a>.<a class=\"ProveItLink\" href=\"../../../../_theory_nbs_/theory.ipynb\">functions</a>.<a class=\"ProveItLink\" href=\"../../theory.ipynb\">injections</a>.<a class=\"ProveItLink\" href=\"../../theorems.ipynb#injection_is_function\">injection_is_function</a> theorem\n",
    "========"
   ]
  },
  {
   "cell_type": "code",
   "execution_count": 1,
   "metadata": {},
   "outputs": [],
   "source": [
    "import proveit\n",
    "theory = proveit.Theory() # the theorem's theory"
   ]
  },
  {
   "cell_type": "code",
   "execution_count": 2,
   "metadata": {},
   "outputs": [
    {
     "data": {
      "text/html": [
       "With these <a href=\"allowed_presumptions.txt\">allowed</a>/<a href=\"disallowed_presumptions.txt\">disallowed</a> theorem/theory presumptions (e.g., to avoid circular dependencies), we begin our proof of<br><strong id=\"injection_is_function\">injection_is_function:</strong> <a class=\"ProveItLink\" href=\"../../../__pv_it/theorems/fde7e8a76ad45ae256d0e35520c5ee0f03785dd40/expr.ipynb\"><img src=\"data:image/png;base64,iVBORw0KGgoAAAANSUhEUgAAAVoAAABACAMAAABstU8NAAAAQlBMVEX///8AAAAAAAAAAAAAAAAA\n",
       "AAAAAAAAAAAAAAAAAAAAAAAAAAAAAAAAAAAAAAAAAAAAAAAAAAAAAAAAAAAAAAAAAACGKEuzAAAA\n",
       "FXRSTlMAq1RmmUTNIjK7EInv3Xbh+fvl1/OhCx0iAAAACXBIWXMAAA7EAAAOxAGVKw4bAAAE80lE\n",
       "QVR42u2c6XajOBBGte9Sd3pG7/+qAxJglVjMEtyZg+qHj2PswlwVXy0QI3TeeOzNo2bQROJC0CW0\n",
       "vDPVWFameixX0TaMq+Ya2oa2oW3W0Da0DW2zhrahbWgb2oa2oW1oG9qGtqFtaBvahrahbWj/n2jl\n",
       "7ncG7y9fgxp8yCegDfsPzHKwJOLcDpMXHgBaPP1B6Dm0FzzcZcS+njNrzX60Yne4UB0j7kxoNXkJ\n",
       "tETLJs9CnkN7wcNNZorQs1htn5sALYkHzkSnc2hFNXkRpkCrxqCT+qQgXPBwkzFanphc749ahuPu\n",
       "8JAxDBjY5IWyUmtH0JacRHvBw13ZufyOFdegfWdiGa2VNq7ktDBDToe30h7x6MWZAi0dlvi4fo9o\n",
       "z3u4SWlLcPDmHi6CWY9aGVBYuzWDsPoVPEaWky8vgpYVguuX0Tt7vkI47eEmPZi+CMXOY1bmf7Ml\n",
       "CKwX27VU7Jel1mCvCi8Wl2hZiutSkMxBtHMPf9VEQScGsEVuaS3vaKi4FiCkyiQq6hACHnY2eqGi\n",
       "RCvx+DCSdYXeKB278oVptYF25mFm2jkXvh+i7dzOd+tJkWrA9xabaYylD6weRoCxE3LCI46WXogD\n",
       "LUP/ESDmQG9oOhOC22oZag/zQLqtLFNzFI4XxRR4b1auzvQC2qAZ6yqE1ybmocXIQbSMtEpBUBGg\n",
       "JQGsJ1cgwLJW0biFtvLwc9DCLGb0RtSafNDrN7VyAYJnDO9UIExeOIzajgotYAYkcN0MG083G13o\n",
       "4S+jLQRB4+1UVEAZsp13azuCKVCN+Q6nWJ4EwUO0lhQf6xAxAQpjShlW2zME4OEgWllomN3cuhOt\n",
       "fq1yJfAhrKLl9E2nWx3CILUdYgHSmIZoZZEL+luRS2FNUmsw20YrHUYn0SriJ3jUbm3di3YqgLq4\n",
       "qBKAICto5XjIeqUdq+ta4QYByDE1xb6tJl9FUHblgMVFC5Ohzr5jPfnCCp0WhAmewqJvelQgQc23\n",
       "7kar/HIWSzGiuZmjNTrGhIj0TxbLLwsOEE+zGQJlxfPVoWKoS5b8Fh7VpaHiPrR5YpWGKy99OY4W\n",
       "TQNYNt/IrV5vdC+UgdmL9GgN7aA4ffVlbKZsUhZ7IwiX0QbR584OrUG8lyvN8yun0OYhCcFL5/+b\n",
       "oeJFtK/BUI2WJck0LHZ1RprFURFt3zAQhD4StQzRbh3BayfQIt3vzmsj0GfRFrO/7UnmuyU/ixay\n",
       "UsFNIzOjqeqH9TTw2dYg96NNBSwNTH4YrZb70HJzEq1hjG6gBX30gXkWW2y9F9H2M6zdUL7l2lhq\n",
       "U8rV30T79mrMGlpN8z+TqYC15jO09uS/VPnF1lth9CPtnsuOQ+nGmFqK2qqPPhC2eqn1fhJagrM6\n",
       "BrosCFUffeS0Gxoz0Ho/KmpzrwdHIS+0Yx9tRJom/fr91dmf/PTPNGT69U//+O/X17T1NXqCrfej\n",
       "0DJW9uQV2rqPPrS/PHqCrfej0OoElQqdjEC0dR99ZMY1dGiw9X4U2lxbKbsUtbM++oCNPmDr/SS0\n",
       "ZohJMAwcsBR99Om6tmq9n4RWDUoqy8tpGW3ZRx/vd4ar/lXr/SS00w0kxvZay9/PEC7Zc9Bqsji5\n",
       "bWivo7UhoIYWffD+2oa2oW1oG9qGtqFtaBvahrah/cFod/9c5aPQfsPPVRq+++cqH4U2/VwlNx9b\n",
       "yLvuCo8/VBAQ+g8zvDRN+QR3xQAAAABJRU5ErkJggg==\n",
       "\" style=\"display:inline;vertical-align:middle;\" /></a><br>(see <a class=\"ProveItLink\" href=\"../../../__pv_it/theorems/52bf4b6962c9c2decdc842c85d0939f361060a350/dependencies.ipynb\">dependencies</a>)<br>"
      ],
      "text/plain": [
       "<IPython.core.display.HTML object>"
      ]
     },
     "metadata": {},
     "output_type": "display_data"
    }
   ],
   "source": [
    "%proving injection_is_function"
   ]
  },
  {
   "cell_type": "code",
   "execution_count": null,
   "metadata": {},
   "outputs": [],
   "source": []
  }
 ],
 "metadata": {
  "kernelspec": {
   "display_name": "Python 3",
   "language": "python",
   "name": "python3"
  }
 },
 "nbformat": 4,
 "nbformat_minor": 0
}