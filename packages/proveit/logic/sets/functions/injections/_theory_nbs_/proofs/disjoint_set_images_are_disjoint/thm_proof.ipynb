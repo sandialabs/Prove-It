{
 "cells": [
  {
   "cell_type": "markdown",
   "metadata": {},
   "source": [
    "Proof of <a class=\"ProveItLink\" href=\"../../../../../../../_theory_nbs_/theory.ipynb\">proveit</a>.<a class=\"ProveItLink\" href=\"../../../../../../_theory_nbs_/theory.ipynb\">logic</a>.<a class=\"ProveItLink\" href=\"../../../../../_theory_nbs_/theory.ipynb\">sets</a>.<a class=\"ProveItLink\" href=\"../../../../_theory_nbs_/theory.ipynb\">functions</a>.<a class=\"ProveItLink\" href=\"../../theory.ipynb\">injections</a>.<a class=\"ProveItLink\" href=\"../../theorems.ipynb#disjoint_set_images_are_disjoint\">disjoint_set_images_are_disjoint</a> theorem\n",
    "========"
   ]
  },
  {
   "cell_type": "code",
   "execution_count": 1,
   "metadata": {},
   "outputs": [],
   "source": [
    "import proveit\n",
    "theory = proveit.Theory() # the theorem's theory"
   ]
  },
  {
   "cell_type": "code",
   "execution_count": 2,
   "metadata": {},
   "outputs": [
    {
     "data": {
      "text/html": [
       "With these <a href=\"allowed_presumptions.txt\">allowed</a>/<a href=\"disallowed_presumptions.txt\">disallowed</a> theorem/theory presumptions (e.g., to avoid circular dependencies), we begin our proof of<br><strong id=\"disjoint_set_images_are_disjoint\">disjoint_set_images_are_disjoint:</strong> <a class=\"ProveItLink\" href=\"../../../__pv_it/theorems/a84861677288e51ae77545097161dfb46fdedc550/expr.ipynb\"><img src=\"data:image/png;base64,iVBORw0KGgoAAAANSUhEUgAAAjYAAABACAMAAAA+jM3yAAAAQlBMVEX///8AAAAAAAAAAAAAAAAA\n",
       "AAAAAAAAAAAAAAAAAAAAAAAAAAAAAAAAAAAAAAAAAAAAAAAAAAAAAAAAAAAAAAAAAACGKEuzAAAA\n",
       "FXRSTlMAq1RmmUTNIjK7EInv3Xbh+fvl1/OhCx0iAAAACXBIWXMAAA7EAAAOxAGVKw4bAAAIWUlE\n",
       "QVR42u2c6WLcKAyAzWFOQ9vd9fu/6nIbbGwzkzSdSaUfbcYQcX0ISTgzTW8u8+rFTCBfIixMN57e\n",
       "H5vZiYAF/RoRfra/BTawll8tC2ADAtiAADaADWAD2AA2gA1gA9iAADYggA1gA9gANoANYAPYADYg\n",
       "gA0IYAPYADaADWAD2AA2gA0IYAMC2AA23YH/OTWAzasLPy2x83U1PtZArYZfdIADNu8j9nyBlDyp\n",
       "xlmcGDvUQqWm21hWU6tz2KDyAZN3xublxmHN4jcyX5ruaKOavbxcdhbr6gPVuvldgXiv2sTSjNiu\n",
       "6r2WTU3WQuS6IidMilpNpc5hQ4uRYvydsXm9cfB1Dv2j9UO08rb3dP9rFQKK1c+RcMul5Sar4cdq\n",
       "E16z/WXq2Kmopaem0rLI1FdRq9nUOQ0ib1Mu3/qQesFxBGym3dpdf3TdrziipHEoZtnUtrpXbaKF\n",
       "TEJ73uxOS1GzaeGrrZnOajZ1HrwMkcZvjc0LjmN9Jkqx1VovzTh3hHHUqzZprtf8x4aLOs7W/lFR\n",
       "s2khSQFJ+GQ1RZ3HhiTK2Ju7xK83jmewEdWphZszav/3ypT3qnE72fJHk+zg3Ry0FDWVFpSmlC28\n",
       "UVPUhUhqMV4W/e6R1CuNQ2trhceGs8VvZ2GJtcwvW5hyRa2lpVSwhXJrkdvbGK0GIZy9180AoMUg\n",
       "2j/eaOM3e+eGFEem7VVHS1FTaYmujUJGtGqKujAGGkqlends7schl2Wxn4+I09qujwrzqqO1YShH\n",
       "uX6nK28KRHBCpU2lrsSTIoJPYrZlbYzFetrxutoc9GQCyMHyjmgRq7QO4u1BVlPUheGF042jKz/t\n",
       "TujHJx/z2+btNTbHcRym5nfFWKJtVbItkpqkK5uDWxD677ExOi6PiKWe51BEWmwMrsOy029HqKvR\n",
       "UDX3Bi+H4G5Ai40uNS65gaymqIvpPr9B9Vxvlkq5kKsL9ams27PIR/9V/L8LXmzwmczJ0JqCTByZ\n",
       "B5qn1+m+/Tj+FDYq7mm1YTMZt4Nj4w4bkZwPbxUSNrKYggqbZa7D6tPGq2pWUuoiKVnsxn5vjmiR\n",
       "iY7iWmc1RV3EBtvWkdTNF1HEVbYbuHNkQFYo72Ne5m2lbfz7ao4bqxEZUmik+VlfYrMfx5/CRhyx\n",
       "Udqs0dl1g8PJV/bLO4qNNgMLruLMlm/7mZdbj7ijJRurHEgVNXNrbdxck2opZ9E4ANGHImV1cIrD\n",
       "MD3HRg4HwQnHLVl32XwngVVfLrTjeAwbXjlF+rL0CWvDVYlra2tDT7DRRxMtzw/frVpaEZOXF+8p\n",
       "GdEiskeNciSY1RR1CRuN6/WwyU+r6yhDyvGY9Avcx8a6oMFZGyX9elpMNPGJdj8TrsAdbKFASSOw\n",
       "RdOM1pDsNmPNd3IyNTbtOB7CRuAt60/0VemAb8PkzrfBgSNEkm+z0NjzuYMN27CR9TXQ+X4o1eYc\n",
       "KJechNy5iiNakmvj8GGNmu3/jA2vIwH365TVXpQlhKLibqCenauwCYGc18vXeKpwm57K2a9/LIj0\n",
       "ObpE2BmcjTWP6SU2fEHT04dUAUMg5v0QYbEVx9IRbHiw+ChuW49EtNCSJ2xE8N6YLsCwDRvNCjZV\n",
       "/MwvckC5Gs9GRuY0cVgLVZZ/SMvElnQisX1sXmL0fAO+UTH57zOrHJnoW6gt2l/oJTY8pCG9b6PW\n",
       "kLzCKuYxkkPloFZrruc+RGxmOdb8LC+xqcfxPDbxTi9c0WzG6yFsJkVD3sYgV+KiczW7jzZ668FY\n",
       "c+fmo3lKpQKtCxJYroF6hHKsIcyIL5uqOSO+hu5i/0NcYBNaNKXv91omVO4xN8Nu5vb/3osTbkAa\n",
       "VSnouGIbp8XO4S42cRUzNm6d1/CbDhuyJHUJG/8hY4PRWPPiBpsbucXGMn9AOmxUJFTO8cmj2Fyl\n",
       "jh+4+zBlF1A0VG3nkGWfRH1ES1HDzXSKjd2H97HKXJ6g1LTlI9ZGpSRRsTbMHrBRZMPhpvmbQ+rD\n",
       "2JSjkITjtHr2KdhYepU5OUq6PHSbiuH7akcLQGoP/1ktRc1213nAJnlVfksovWGgQlgYnqgYqTXv\n",
       "ltW+jff7+JKwCcssIzah09wd8hs28cQSorjEl80Hd/t3YSPsUvxtJYnw7yWRMsi69APYyKW9QLr/\n",
       "hdBhIxUbqHaM/pqw/EktRU31ZsEeGxpOV0VXNk/hvQzCXKSjaTzoRLpP8Qe3OnOJJ+2m2zChkIsv\n",
       "MbUkpGw8Nq7EUj6FgvAPWVwzOjhascvXzfdH9jQ2T12mWP4RbLi26KFm46UEsZQPVDvDIG21J7UU\n",
       "NdXcX78Uigee9PM2R0N3cxXUS+ThoYGdYuPwJhfYNLno8SsQ2s2VP+DbPCbcPl3N8k9pLKup1V1i\n",
       "M6v7J0PYzCwE39dc8YHGetvlFBtJ4pdcC4tkar7GRj/3ncymmyv/bdi8plxiQwaeDGHDkb2/69Tq\n",
       "vvkee6fYpHCMUtGzNrtc9Li5kb1cOWDznC39BB3quRon2GAUndjmPewKm10u+gHvJlwz7HLlgM27\n",
       "yZm1SYl12fdtci5aMf9q14+fv7z8E37+12T58dM/+e/XVuglJKJ2uXLA5rtgQ2kV0e+x2eeiH2mP\n",
       "+aNylysHbL4LNjIAQ1j8ow7cYrPPRY+LiPcNu1w5YPNdsInxtdA9a3PIRT+c+tnlygGbb4KNSrak\n",
       "eU8mrXmVi342b7PLlQM23wQbkTwXXr/Nyg656EdFZ21trhyw+SbYlIs5Ff5u9Zju+1QBbL4FNhJ3\n",
       "37wBbACbK2y0tRNgA9g8HkkBNoANYAPYADaADWAD2AA2gA1gA9gANoANYPOp2HgxgM3XCAvT/f7Y\n",
       "qNmLAGy+RkSYbjX9TcLW3/RtWuvfdUhN0/9akFSVuzmTEgAAAABJRU5ErkJggg==\n",
       "\" style=\"display:inline;vertical-align:middle;\" /></a><br>(see <a class=\"ProveItLink\" href=\"../../../__pv_it/theorems/1e56829d5e2a1c3fd21dc4d01503390e59e02f290/dependencies.ipynb\">dependencies</a>)<br>"
      ],
      "text/plain": [
       "<IPython.core.display.HTML object>"
      ]
     },
     "metadata": {},
     "output_type": "display_data"
    }
   ],
   "source": [
    "%proving disjoint_set_images_are_disjoint"
   ]
  },
  {
   "cell_type": "code",
   "execution_count": null,
   "metadata": {},
   "outputs": [],
   "source": []
  }
 ],
 "metadata": {
  "kernelspec": {
   "display_name": "Python 3",
   "language": "python",
   "name": "python3"
  }
 },
 "nbformat": 4,
 "nbformat_minor": 0
}