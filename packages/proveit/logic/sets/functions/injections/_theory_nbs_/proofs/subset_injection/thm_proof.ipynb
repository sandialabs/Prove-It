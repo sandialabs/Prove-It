{
 "cells": [
  {
   "cell_type": "markdown",
   "metadata": {},
   "source": [
    "Proof of <a class=\"ProveItLink\" href=\"../../../../../../../_theory_nbs_/theory.ipynb\">proveit</a>.<a class=\"ProveItLink\" href=\"../../../../../../_theory_nbs_/theory.ipynb\">logic</a>.<a class=\"ProveItLink\" href=\"../../../../../_theory_nbs_/theory.ipynb\">sets</a>.<a class=\"ProveItLink\" href=\"../../../../_theory_nbs_/theory.ipynb\">functions</a>.<a class=\"ProveItLink\" href=\"../../theory.ipynb\">injections</a>.<a class=\"ProveItLink\" href=\"../../theorems.ipynb#subset_injection\">subset_injection</a> theorem\n",
    "========"
   ]
  },
  {
   "cell_type": "code",
   "execution_count": 1,
   "metadata": {},
   "outputs": [],
   "source": [
    "import proveit\n",
    "theory = proveit.Theory() # the theorem's theory"
   ]
  },
  {
   "cell_type": "code",
   "execution_count": 2,
   "metadata": {},
   "outputs": [
    {
     "data": {
      "text/html": [
       "With these <a href=\"allowed_presumptions.txt\">allowed</a>/<a href=\"disallowed_presumptions.txt\">disallowed</a> theorem/theory presumptions (e.g., to avoid circular dependencies), we begin our proof of<br><strong id=\"subset_injection\">subset_injection:</strong> <a class=\"ProveItLink\" href=\"../../../__pv_it/theorems/abb99c910b306db3003e7b7932ea4b3fb115982e0/expr.ipynb\"><img src=\"data:image/png;base64,iVBORw0KGgoAAAANSUhEUgAAAdkAAABACAMAAABhh/0PAAAAQlBMVEX///8AAAAAAAAAAAAAAAAA\n",
       "AAAAAAAAAAAAAAAAAAAAAAAAAAAAAAAAAAAAAAAAAAAAAAAAAAAAAAAAAAAAAAAAAACGKEuzAAAA\n",
       "FXRSTlMAq1RmmUTNIjK7EInv3Xbh+fvl1/OhCx0iAAAACXBIWXMAAA7EAAAOxAGVKw4bAAAG00lE\n",
       "QVR42u2d67ajKBBGuV8Kpad7xvd/1RE1SiFek5yQXtSPs84ypkQ2BVUfJiGkCJNdsJZUe97U0JeM\n",
       "lEJW9mYqlheYCV1ZENlK5KXWVLKVbCVbyVaylWwlW8lWq2SrVbKVbCVbyVayley3kRVXOooF3Zb/\n",
       "QKPCdSD8Bwoq2Xt9SK+czegPxuaI1LRQyd4wrshryQLyKA7POCRLOK1kr5tp4LVkjffxhmV7eMYx\n",
       "WWJZJXvZlCMvjlnCIm6+OTrjDFnAw6+SPZUQwTvJSto511/Bc+/gPtkkF6hkT1jryFtj1gwxa2Uf\n",
       "d+0TZHWnK9lrq+zVkL1F1gwdYP19ssS6SvaSUUveRNb25aibyPIhcKmYjt0hy5tK9pJd1xwSslod\n",
       "xizwMWbVMzGr42eferJLKxj/ONkyGpNMxjpRLZyDS2RVt08WOmIMUT0WHXHaJAveUko50S4hS1qB\n",
       "yAo5t0B/nGwZjcEqRcLFUXM002GyrFuR1U51bglPJwIk573QG2eQuEbyASYTLU/JCoXImkcztCUf\n",
       "J1tGY/Ayq1JxR9pLMSto97pRCradHt0Vo9eYrO/wOvsQkx37PNkyGoNJ0qShCVZv297UJlmnXffE\n",
       "c9Qejwo1k5RNus72s4NBZPm0oilSANkiGoMTKFzNOrz8SeVhN2a170PpiWHKkKjsFldGrMia6ELD\n",
       "itGEQdc2rgSyRTRmOzXmtGmpiNNeOJiNRQilZ7LBeCTp6PMxYFZkIbrQQFYM51gogmwJjUHJThJw\n",
       "HUpr8nleRFayEErPjFNm45D1O1UPatxAVtPHnxn+1cuv9qHgLtl1Y1KzTdP41yN0vVuaK3oYBo3W\n",
       "THWUQYnhPU/t1/plmLfrXAyTdYlSEd7qZISliZpvbNdXcMLGd+RpKOqisi7NZGcPzg6mtzytlYq0\n",
       "MSt7Xz1kaK5hEpcw6A3j2tGbzZP1Vog+N45eBRVO//XP72B/hn//PJy0v/4Nf//7Pb84WDc3oelW\n",
       "sYPJioQs83j0OTROeTuWUcvNtuN4iMSslOzkASzqlpWnHNm0MR8mm8QsTqDA7scsjHPLc58elUou\n",
       "Mbtcw5wh2/ckj+Y3adBsN2YMS8HOJmdx1pbc4cODxRBST1mySWMKI2vpZnqTITv1UNs806goSRPL\n",
       "bOzOrLOheoxzPE8UJbjmJdDyNKUwbJPs5EG7tMhHnjbI4sZcJKuj3MvtvnqSrMaJbbLCe79HVj5K\n",
       "uGdE8fh29YxuXgkxWZ6S1XHu4LFM1XvjXNB5caS5cWoTsKMHxpJOwp42yOqGkrtkDVue9OJu79Wz\n",
       "ZAGlo7pLMgDFtsnqR6jaJ0QoXM9OBZRcUpyYrE7r2YDLRDMpXgqHxRGWIq4RR2RnDxJHZ+ppgyyh\n",
       "5jbZfuaDGZMK+o3xzJv1q6fJ4vtlafQBtRKyZMF23TD5sPDP7brH4c4AYSkVMp8bm2jcZbTtPn11\n",
       "NJLQRhLLYJ3nI7ZFdvYANLPMrob9iuyF6WmHLGFuSEUjyfIWWRXfW+bpVOnsrrr4bvETqYuwQ9an\n",
       "Vdt4ipyPUJoRNG3eA1Z/U09vI+tVWOZ7skBkaJmV45FbZEUTAVOndMJPkY0T9xXZaQINEza4EREM\n",
       "aU+It+EINEPMebkxG0ceQviaaBVYPP1IzArCxyeL2mdils+B0Fo4J2d/imycuKdkxZC9gOj6GmrY\n",
       "huSqc0FdYGNhPiS3Qjif6OA262GcqyalAnl6F1njm3meAMv7YSU9nwfh/KrX58nCnJbwaP+0SLJx\n",
       "Gr+/h8xOHMkrFdfL8Q2y/TDiG2T3JK0LCWekp2XJEisuu/8MWRmn4Ltk10mfhJ8ma/n4JVHGUzsJ\n",
       "WnPM7khaR9Zm9bQ8Wd58CVmnyEmy/MSRfbLU2kg3vkN2WuSEMOvZeEfSOux7m9PT8mShk99BFsF8\n",
       "1bOL+j0xy+i4MHqeW2d3JK1DGzdQEj0tTxbHQrlk8eRV+lOp3I65UG6djSSt1QbKtGsybqAMmynZ\n",
       "DZRET9sgSxrzDWQb9k1khSArLetBdk/SOr7ekLonetoW2YsfsvwMWY8bWTpZy8eeHVdrhsjuSVpH\n",
       "Nm2gJHraFlmiePFkdaO/iuw4DxqXi9k9SetkTZzoaZtkodWFk4U2IVk4WZhSY7T5NlHZlbRO1rOJ\n",
       "nrZJduNJtk33P/49FdPk9j1kzZTu6ViOGMnuS1oHNmueWE/bJkt02V+9DKslqXCy/BGQMIiUiVLx\n",
       "cjOU/DVWNFnLsju1lezXk3X5Z1Eq2a8nu5/XVrKVbCVbyVaylWwlW8lWspVsJVvJVrKVbAlkT//i\n",
       "YSV71EFF/eIhyNO/eFjJHt3G0JfwjUPyXZ957/6i2ZiQ/wHwVUemBE0d/AAAAABJRU5ErkJggg==\n",
       "\" style=\"display:inline;vertical-align:middle;\" /></a><br>(see <a class=\"ProveItLink\" href=\"../../../__pv_it/theorems/e94abdfa120f1ec0f885d86658cf6f0231b9c3280/dependencies.ipynb\">dependencies</a>)<br>"
      ],
      "text/plain": [
       "<IPython.core.display.HTML object>"
      ]
     },
     "metadata": {},
     "output_type": "display_data"
    }
   ],
   "source": [
    "%proving subset_injection"
   ]
  },
  {
   "cell_type": "code",
   "execution_count": null,
   "metadata": {},
   "outputs": [],
   "source": []
  }
 ],
 "metadata": {
  "kernelspec": {
   "display_name": "Python 3",
   "language": "python",
   "name": "python3"
  }
 },
 "nbformat": 4,
 "nbformat_minor": 0
}