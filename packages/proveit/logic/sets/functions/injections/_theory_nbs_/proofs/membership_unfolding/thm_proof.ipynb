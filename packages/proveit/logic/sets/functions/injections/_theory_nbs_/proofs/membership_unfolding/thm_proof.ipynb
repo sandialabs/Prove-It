{
 "cells": [
  {
   "cell_type": "markdown",
   "metadata": {},
   "source": [
    "Proof of <a class=\"ProveItLink\" href=\"../../../../../../../_theory_nbs_/theory.ipynb\">proveit</a>.<a class=\"ProveItLink\" href=\"../../../../../../_theory_nbs_/theory.ipynb\">logic</a>.<a class=\"ProveItLink\" href=\"../../../../../_theory_nbs_/theory.ipynb\">sets</a>.<a class=\"ProveItLink\" href=\"../../../../_theory_nbs_/theory.ipynb\">functions</a>.<a class=\"ProveItLink\" href=\"../../theory.ipynb\">injections</a>.<a class=\"ProveItLink\" href=\"../../theorems.ipynb#membership_unfolding\">membership_unfolding</a> theorem\n",
    "========"
   ]
  },
  {
   "cell_type": "code",
   "execution_count": 1,
   "metadata": {},
   "outputs": [],
   "source": [
    "import proveit\n",
    "theory = proveit.Theory() # the theorem's theory"
   ]
  },
  {
   "cell_type": "code",
   "execution_count": 2,
   "metadata": {},
   "outputs": [
    {
     "data": {
      "text/html": [
       "With these <a href=\"allowed_presumptions.txt\">allowed</a>/<a href=\"disallowed_presumptions.txt\">disallowed</a> theorem/theory presumptions (e.g., to avoid circular dependencies), we begin our proof of<br><strong id=\"membership_unfolding\">membership_unfolding:</strong> <a class=\"ProveItLink\" href=\"../../../__pv_it/theorems/a407d18e0487c71802f6a4bf355055f7f9886bc20/expr.ipynb\"><img src=\"data:image/png;base64,iVBORw0KGgoAAAANSUhEUgAAAokAAABACAMAAABBcR1GAAAAUVBMVEX///8AAAAAAAAAAAAAAAAA\n",
       "AAAAAAAAAAAAAAAAAAAAAAAAAAAAAAAAAAAAAAAAAAAAAAAAAAAAAAAAAAAAAAAAAAAAAAAAAAAA\n",
       "AAAAAAAAAAAsiKZwAAAAGnRSTlMAq1RmmUTNIjK7EInv3Xbh+fvl1/Ptyef16aOoTZEAAAAJcEhZ\n",
       "cwAADsQAAA7EAZUrDhsAAAlFSURBVHja7Z2JkqM4D4AxNr4Az17/sbz/gy74wvIBhCTdqW2paoYp\n",
       "Jwgsf5YlCzJdd1uGZZO5Q0F5RrjlqO+eIXFYRaIpUZ4SuWH0JIloRZQXyYQkoiCJKChIIgqSiIKC\n",
       "JKIgiSgoSCIKkoiCgiSiIIkoKEgiCpKIgoIkoiCJKChIIgqSiCSiIIlXhQ4fbXkyz7P4gcSZtd8O\n",
       "OvZDSOzZZ48I/7nuj1J7EOpHkKjjSItHpqt8wZSXly76zSSKS+3iBdpF0eZJ7Kj5CSQqGtC43sMR\n",
       "rOfiJitWy2A+m8SWVbL2VjeYvq496Nh1BRK7WQMSyb6g0Xsk3tfwvik/hTsaE/uNo75OIr88z6ha\n",
       "FrIKVzJqMfQKid9luZZV0vau3Q2pSjZzLVpNM9QRdUUSDQEksmh/Lu6ReF/D24SN+SK9IkLk8RIA\n",
       "SOyXBzz+5IaGLDJq4Rn0Y18h8Zss17KKLh01r81dVQQxNS2cZTrCMZKoF52SKAOYQt1cne9reJss\n",
       "fogZTWfdoK77REaWy3CIxXiDsKiFwoxJz7xC4jdZrmUVVnpAWkn8JKnswZRa4hvMQUc8xstwCuLE\n",
       "gOrY3yTxvoZ3iQyTbUrvNsPQqHkVXidxFOPSSF9MQSj1X6UbkUHLpOEyR4ZKnPg9lmtZZap9t5y8\n",
       "SpQklFqStqDDH3cSmQIkhg8ejqEjibc1vG/Tyi+xKWfwZ1MGbnTbJwrTmdavEpT7Q8Qbgk9i18KB\n",
       "g5nz4Ip/n+VaVulrd8ELPzmULrGmJWkLOvxxJ9FMMHeeNt8wT+P93PmuhncJ4TBcXHtPppmwNDPW\n",
       "R6sz2wLFVhIx18NETWaZaBlJliLAUJB/n+VaVontgoxGmEo36iFtXQsnxpAe6PDHncTUb25fZXZt\n",
       "SWMo/SCJpYbCo0/TZF5u03HVSmpXU+WEXsyhOQGJQ7+t8C08epXHAsqsVvcXC1oozy4HfSm/arnX\n",
       "S8sqoX3YXLvykOzdYHbSzP/7//Y3tHpFi17Wua5drB10UJ6RKPcIyJIoSPgrgDjJNGVf1hSdlflS\n",
       "QmKhoTudSC8LCWtX5b5x7pOsQp5t5+0kMntCsz8GkmOcvfuJplr6Kb/JdPss3MC55YrEF7i3y99M\n",
       "fXrDKr5d236wuexGayRrWnpLsvM+QYc/7iSKZQAk2ikJwnUQItE5W9JLEgsN30zi7EdoGpJdGXCW\n",
       "WxVXURUSjWJszZ33j9gMZVkG4O+D2dLVWSYXJHakjKlMhZblJK+n08BLdOpsK6CmpmUV385s2zyW\n",
       "3bCDXoG/qsV20K0rQYc/7iTqnMTeACcxSLCQuhCALkckZho+xScmNocJi1YHPlG73rd/GXLgAJ3g\n",
       "PG3qHLUMU75/p+cKiU3LkRAcSEOUGupe4oBE72jJeEQisIpvt1FvZGSYzgeypsWS7H+LLugYSp8I\n",
       "V+fNFGkN0MSR3L+jZ3pEYqbhMRJFstiNh58+sTorcpx1JAz5WT9PrUvCbEeG1IbY0Yur836JsEfD\n",
       "+kp40LJc8H2MpU4w8xIHJBIB1NRXZ2AV167tfIqOZ++GXRj+/sutCsCaFS1uN5G5YDPo8Mc0ThQZ\n",
       "iWOfGNcE1xq3bSllRHaHJAINj5Eo+z2AouPRp5dJJH6E1D5qWb5kTJPEIew5LNf64sPE1awcZCyq\n",
       "wD4tZfPScnqkZhRxkNYkSBf1tsxLpCSC07thBGoAOA2ruHZtGSK860XWjXQDFE6aUku3eTsXce46\n",
       "/LGdO29lWpLMOhgU2jBRE3ZMopiOo+7D1TmyJgnf9o2l6Y0sP71OYrj/fQtCLFksxvsGibFkrRpF\n",
       "lnw/kU9+6XGjFD3rvlcSBypJ+3hhOT2LxEmYtduG5WFE5iVSEuPpTG3yn/UPjWpgPxtW8e0bSv0a\n",
       "abOsG/W91JYWsl5cMWgKf9xJpNl+Ygyp/dfHkSR75o7BYiQzEjsiX0CiL55zMPlukBjmmpzrCYud\n",
       "W2rQJYlaLYu9dL/9o7qPM0rofsPjDz1c4+dosN0nSVNJ3klchrdMKjJG7a7HAFxi7iVSEuHpwZV6\n",
       "NdBkDav4dk3MKAXxvmAeTl1iQ8sYi4czNElSYyEFiWDWwbTcfWVY5DGJZ3tYZyQavi07K4m6Gzb7\n",
       "qsG13CIxBuXxgUNWfm0YVbva98Qep9MiTn4Jn1fveX86ZYvv1pum3Ho4j3nuJVISwenRlXo1mb0b\n",
       "Vqk8ngm70Ven5pmWoCMcm3VnODw0xpt6dFBq6/pPVuenSYzen7occ37GJ8b1wBXde1JbjA/2E19A\n",
       "IqMPkmh3gRXVvreLGx05HnmJhMT99G11/uO/yq3OS22QW1apPO4Au1FxiRe0BB3h2HoWB55kgxbN\n",
       "Fj509jkfypdx29fuu7eRKM0UHwDQisrtoUpqhsqn10mMy5St1s9K8+5rSTx9uKbiE7c4b6DauYB1\n",
       "/tkAP9k5SLxEzSeG04FRgposZ2lYpXi2AXaDVlziuZagI+qKJFLSHazOgPdjY94m8VZty4gHSOx8\n",
       "xdMtU9Qw8cUkKvEwiQOjvRlp51yAZC69FzHLSb1EhcR4OsA3qMn8b8MqxTYr7EZtdTrXEnREXfsz\n",
       "2+IiiYO+SaJmxdqUkqinO6+L7GkbqD82SIwTVVyvdo8veY/FhqjmlHx+1QXocVtoG5Ok7nn70z63\n",
       "rJK1Z924ah2gJejYdT3+HsvZA+1NEhV1/19QUh1ISRzv/S8wM9xY8klkg8RGcP05wp9wAWckfvh7\n",
       "g1/4bp8PRNPqQEJiVia47hQV3FhyZYAWiZ/+vjM/eN/5+jstVRL7T+65mWe/3w1fy3oHiT1xOQao\n",
       "DiQkZmWCBzoRwp+0/ihJ94Pl3/Pu/lt8okvWYNy6kxjKBHrzCvOv337f5A/77z/jwy6/ftta/vp9\n",
       "/zB5BAbUH382iR2SeEQiY8meQ05iUSZ44Ho+aQT1RyQRSWyS6N56h9WBSGJRJrgs8REYUH9EEpHE\n",
       "JolukwZUByKJZZngeowvwE37+iOSiCS2SAw1HPBcoceoUia4nDqH/URYf0QSkcQWiaHSJtJXXxyJ\n",
       "tTLBVQmPwGT1RyQRSWyRGCvgaXXga98eQEESO9VXn1REElG+mMTRmA5JRPmI3BlJREESUZBEJBEF\n",
       "SURBEpFEFCQRSUQSkUSUzyJxkxlJRHlKuOXoGRL1sIlEElGeG0LLkf4y7t/0m7ILkvgvkX8AiP1d\n",
       "ADFVCMsAAAAASUVORK5CYII=\n",
       "\" style=\"display:inline;vertical-align:middle;\" /></a><br>(see <a class=\"ProveItLink\" href=\"../../../__pv_it/theorems/e2cc47c2a2a9bb353c4d89104f2eeb97abd23b6b0/dependencies.ipynb\">dependencies</a>)<br>"
      ],
      "text/plain": [
       "<IPython.core.display.HTML object>"
      ]
     },
     "metadata": {},
     "output_type": "display_data"
    }
   ],
   "source": [
    "%proving membership_unfolding"
   ]
  },
  {
   "cell_type": "code",
   "execution_count": null,
   "metadata": {},
   "outputs": [],
   "source": []
  }
 ],
 "metadata": {
  "kernelspec": {
   "display_name": "Python 3",
   "language": "python",
   "name": "python3"
  }
 },
 "nbformat": 4,
 "nbformat_minor": 0
}