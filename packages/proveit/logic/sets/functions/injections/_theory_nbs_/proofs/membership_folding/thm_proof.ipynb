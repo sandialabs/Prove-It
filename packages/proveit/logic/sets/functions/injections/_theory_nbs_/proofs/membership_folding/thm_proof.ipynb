{
 "cells": [
  {
   "cell_type": "markdown",
   "metadata": {},
   "source": [
    "Proof of <a class=\"ProveItLink\" href=\"../../../../../../../_theory_nbs_/theory.ipynb\">proveit</a>.<a class=\"ProveItLink\" href=\"../../../../../../_theory_nbs_/theory.ipynb\">logic</a>.<a class=\"ProveItLink\" href=\"../../../../../_theory_nbs_/theory.ipynb\">sets</a>.<a class=\"ProveItLink\" href=\"../../../../_theory_nbs_/theory.ipynb\">functions</a>.<a class=\"ProveItLink\" href=\"../../theory.ipynb\">injections</a>.<a class=\"ProveItLink\" href=\"../../theorems.ipynb#membership_folding\">membership_folding</a> theorem\n",
    "========"
   ]
  },
  {
   "cell_type": "code",
   "execution_count": 1,
   "metadata": {},
   "outputs": [],
   "source": [
    "import proveit\n",
    "theory = proveit.Theory() # the theorem's theory"
   ]
  },
  {
   "cell_type": "code",
   "execution_count": 2,
   "metadata": {},
   "outputs": [
    {
     "data": {
      "text/html": [
       "With these <a href=\"allowed_presumptions.txt\">allowed</a>/<a href=\"disallowed_presumptions.txt\">disallowed</a> theorem/theory presumptions (e.g., to avoid circular dependencies), we begin our proof of<br><strong id=\"membership_folding\">membership_folding:</strong> <a class=\"ProveItLink\" href=\"../../../__pv_it/theorems/2c47d494842680fd774b3e16a65e107bf59ab8970/expr.ipynb\"><img src=\"data:image/png;base64,iVBORw0KGgoAAAANSUhEUgAAAioAAAAmCAMAAADds0DTAAAAUVBMVEX///8AAAAAAAAAAAAAAAAA\n",
       "AAAAAAAAAAAAAAAAAAAAAAAAAAAAAAAAAAAAAAAAAAAAAAAAAAAAAAAAAAAAAAAAAAAAAAAAAAAA\n",
       "AAAAAAAAAAAsiKZwAAAAGnRSTlMAq1RmmUTNIjK7EInv3Xah18O17eXJ4fn78xm5uRAAAAAJcEhZ\n",
       "cwAADsQAAA7EAZUrDhsAAAd9SURBVHja7VwJl5s2EEb3BUrapm2q//9DqwsYHWCD12vvW+a9JEae\n",
       "kTTSp7mEMwxnCTtPZLjoHFH8jktNw0jaf9Bcd1rPQgVd+/3AnqC3XeoxgkJOutN6QeXTifAPXmpd\n",
       "9EhvctyEykDQBZU3IHls4W8vtbR2Ao/TTY7bUBkUvqDyeuLmw5caAyDY8RbHPVDRBTouqLyE8MEY\n",
       "8SBUGHLG+BEssUafh0oZT11QeQlNZngmVLx/iw6EecswPQAV4cQFlRdHKkcTz1NQkS7ixZ6HyqDM\n",
       "BZXXElLDk6CinHMmQ4VE04JobjsDFTJeUHktHa6m1Ust+E2rokmyKvwRqyIchq3rLDA5Mf/T4t/Z\n",
       "/4jimRqjj0GFu32oaDdIOXC/zwIYgw2oEG92kCeuZGM/JgqhQtkyAXECKqfFvy+RcqMNkiM+BBXs\n",
       "GqgIw51ZDYihweUYa6nY4CjMSHKIyMkaKpRDqMh5GuKgB03zPy3+jUOV0n2MmKljVoUi95HHUriE\n",
       "IOZoDRXrCrc03wsZfAYqp8W/L43FxrMmHbJq8sQ3oWKEyef/DFnRWjmZ/7U1VPA6UGglOcbgwymo\n",
       "nBX/xlFtUVUxVQTBuNW7VkVYf9jPn0vc3A+hbDr4KGqoyHWg2DoGEE+jOQeVs+JXAhQPGhonRIvk\n",
       "Rt9wQDQc9gdSiKkfqmg0tWGtXgeKrTSyQH+pj0ClFa9nIg70SxQqVuWzCYud5yoq1NvCtivQZKAB\n",
       "OCVPNzmAUGE4HPYHDiZWdUKmrLWIk14FZZ1dbBVo/mteghG4Qqmcz+aoklvzr8Q1pSXkUb/fYrZw\n",
       "DDCRVak5nXw2eAgr1VieO8ObijcyS64gJ+3lyrgATrkm/FZYS6PQIzUtWx5rm2JkPJIeVEwJoCBq\n",
       "wJqYQhkSLVZ7WbnMvxRXhEXlpUUq3EKArTebLhaO0YUKS+jWTy77rf0nNerxGDjNouLNzMhATtYe\n",
       "f+ZYkfiWOEru3JPqQ8UqSn0GtH6reeD+59/fgX7Fzz/nPnxzaPnv9/plIFfMQI3z7sgOVGgJFWwL\n",
       "NDM5QqOYXClxm1ApxXNAT6msrUrVr2/ojtGFSh7AyOdCZa0SJTUoqxhAJIFErXJkni1n5mxDj9Kq\n",
       "VFGtVvtWRacVdNMDSjJeaDVbqDkB2oWK3wdioUfmxe1z0ExPZHv+QByjMWbNlrQOqOrXN7DeGH2o\n",
       "EK4CPdn/TJUa+VkbYo0oSwKLvZh5E7N03u/rlbOtIZRQUehG0Fkudd65aTyvoyzRK+fIFc22ZidW\n",
       "CfoAcVsU6UKBhhCK5M78oThR9eFA/X4hVzFGHyrxs31y7Wa9W0lq5Gc9ibkaH1JNGkH7l/9DAG9m\n",
       "tpMeLF2T0jY3FUX6Uhnawdo9qLC5MuHOK1kFzjlU8QryXqxSB7sCVIWC24WBSQwjNKI7UIHilEKV\n",
       "wNbX/cbpZSNejLEBleB7mpiPTTc90n6uUHbAVKWGWh7SKyArBzCbiTd/FeATX2LNnKwxhBrmPMI1\n",
       "Lg5vQ0XM66fOl2tr7PKs2LgcdwAVUdVVwvasC+ZTEYNABTFtYKsSjLWAeDpp2V3EtzNR1a9RK7lJ\n",
       "NGNsQMUHjbg9cV1DbOhwR8KtTdMBRqUa+Xn087Io52ptTJGNS2IOoUp8eyxzytZnjnQzqo16Kqa7\n",
       "S62Vc3E/cfhwNl0uwz203BUWd8ird2K9FBpUAmAGl66ymJO7daGVPaU/prYqtpcZWtMZYwMqPoxs\n",
       "azeLxyA+L6BLFMHvgQotXU65r1mN5E3DEVZEa+CAfv2tFgeUA9nE7GZ1Nh3QwIFavd94MKN2C/vP\n",
       "pqKwrzehkj1HsDvp1In0A6KJDndBRee+wa6iqt823SzH2IKKVOl7QuwCRMxtPCXwqGis3QZUoGiq\n",
       "mMwdVEHlrEZ6HkOowoheQwmJWpUTsw9VUuySOTuxBx3XFeR3RV8vgwrIz2qo0Bh1aOp8PhWvxgl3\n",
       "JhTH8J3zzy59EGvJDlX9gtFypFKOsQWVIVV9iQFeg5J4oy1goEjWhLWCyixqvAX68ZOG5DZ3UA6x\n",
       "qpGeGSXYGgIYoH2TIxSWNINj5myDCrJgS+n7bs5eBhWQn+2/BYePz5/QJRIIFroswTUmqNu6CZUl\n",
       "gF/9hHfdIW5koS6VHRC21nLShQoUpUUHdQY8q1FX0HKIUgRNhHbqczNnr06iZ9tKwOsk7wkVkKzt\n",
       "QoXpo/NXuJNUH1XzBlRCMhqTZp0Kc4jNvjKdcVzFtbQV9Vbljz9ptCq5g9LQATWqvcyPvK8yZM6f\n",
       "u1hQR68nXgUVBhKtXaiQw/M3varAB0MFG2zDlUtMHFlCzVpwsSFbEWpiPajMosEVzothq1pNuGyC\n",
       "ahTvMuYbIcw2VF6ZMydh3YUdvwhUYH7wGa9hK3WkBkAUrDrc7R6xNxJmO9FpGvXdXlHf9Jg9Br0n\n",
       "oB37GlCBL3J+5Tf273xlowcVwl47dcO/BFSKiuk3+HGHfsdJjfIrQKV4O/z6HdCLLCL/AlCxfLig\n",
       "8nri5O2hIkZxQeUd3OIk3hwqesLDh0Hl+r/gHqDu69avX+r1f31TpNd60SuwIt96erpNEv8HIKdG\n",
       "/I12zO8AAAAASUVORK5CYII=\n",
       "\" style=\"display:inline;vertical-align:middle;\" /></a><br>(see <a class=\"ProveItLink\" href=\"../../../__pv_it/theorems/85927ab0b2e46b7968c3dfb1591a3b2527f6731e0/dependencies.ipynb\">dependencies</a>)<br>"
      ],
      "text/plain": [
       "<IPython.core.display.HTML object>"
      ]
     },
     "metadata": {},
     "output_type": "display_data"
    },
    {
     "name": "stdout",
     "output_type": "stream",
     "text": [
      "membership_folding may now be readily provable (assuming required theorems are usable).  Simply execute \"%qed\".\n"
     ]
    }
   ],
   "source": [
    "%proving membership_folding"
   ]
  },
  {
   "cell_type": "code",
   "execution_count": null,
   "metadata": {},
   "outputs": [],
   "source": []
  }
 ],
 "metadata": {
  "kernelspec": {
   "display_name": "Python 3",
   "language": "python",
   "name": "python3"
  }
 },
 "nbformat": 4,
 "nbformat_minor": 0
}