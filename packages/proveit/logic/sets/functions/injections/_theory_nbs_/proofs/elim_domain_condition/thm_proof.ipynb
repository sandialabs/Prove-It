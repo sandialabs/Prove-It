{
 "cells": [
  {
   "cell_type": "markdown",
   "metadata": {},
   "source": [
    "Proof of <a class=\"ProveItLink\" href=\"../../../../../../../_theory_nbs_/theory.ipynb\">proveit</a>.<a class=\"ProveItLink\" href=\"../../../../../../_theory_nbs_/theory.ipynb\">logic</a>.<a class=\"ProveItLink\" href=\"../../../../../_theory_nbs_/theory.ipynb\">sets</a>.<a class=\"ProveItLink\" href=\"../../../../_theory_nbs_/theory.ipynb\">functions</a>.<a class=\"ProveItLink\" href=\"../../theory.ipynb\">injections</a>.<a class=\"ProveItLink\" href=\"../../theorems.ipynb#elim_domain_condition\">elim_domain_condition</a> theorem\n",
    "========"
   ]
  },
  {
   "cell_type": "code",
   "execution_count": 1,
   "metadata": {},
   "outputs": [],
   "source": [
    "import proveit\n",
    "theory = proveit.Theory() # the theorem's theory"
   ]
  },
  {
   "cell_type": "code",
   "execution_count": 2,
   "metadata": {},
   "outputs": [
    {
     "data": {
      "text/html": [
       "With these <a href=\"allowed_presumptions.txt\">allowed</a>/<a href=\"disallowed_presumptions.txt\">disallowed</a> theorem/theory presumptions (e.g., to avoid circular dependencies), we begin our proof of<br><strong id=\"elim_domain_condition\">elim_domain_condition:</strong> <a class=\"ProveItLink\" href=\"../../../__pv_it/theorems/473e23a10664d9c18c84d3c3510c9b2664f46cf10/expr.ipynb\"><img src=\"data:image/png;base64,iVBORw0KGgoAAAANSUhEUgAAAioAAABACAMAAAADHqyUAAAASFBMVEX///8AAAAAAAAAAAAAAAAA\n",
       "AAAAAAAAAAAAAAAAAAAAAAAAAAAAAAAAAAAAAAAAAAAAAAAAAAAAAAAAAAAAAAAAAAAAAAAAAACC\n",
       "gUnDAAAAF3RSTlMAq1RmmUTNIjK7EInv3XbxweH5++XX832FJ1cAAAAJcEhZcwAADsQAAA7EAZUr\n",
       "DhsAAAfzSURBVHja7ZzXuqQoEIBBcpDd2Zld3v9NVzBRmLU9naiLmfO1ZbUtP0UFFKHzwnyQGhX5\n",
       "bOFxnCt0CRXWiCz38sNFhmG+ikq5jV8jtqBSpKBSpKBSpKBSpKBSpKBS7mBBpaBSpKBSpKBSpKDy\n",
       "iUKP3Pkq9GDIT1xV+CId/tJcF1RegxR8RLvCP3hptmVE1rqg8gJCOHosKhpYpJsa26ggggsqzxdp\n",
       "9WNRkc6le0HqTY0dqCBVFVSeLtygx6LSqCQgOLulsQsVDYAuqDxDKq/vRIVhb0zzDY44oy+gAgOq\n",
       "gsozpDboTlSa9S2uH6xxDPUVVIQXBZXnRipHncopVGQcHOUuoIKUKag8VbBCN6GivPemQ4VE14Jp\n",
       "99kpVIgtqDxVjhfTMlQE3/QqmrRehV/yKiLZUNugMl5FRc6hcsHCd64/An5AjdGHUOF+HRXtkZSI\n",
       "N8MsknFfQIU0bgc3wpWcoIJqmqJC2XAF4hwqFyx8o5BsoA2WW84dolL5CSrCcG9GB2JoWHKMc1Qs\n",
       "aAA30i6I2MsJKpSnqMj+MsThJbRD5YKFrwxVsuXDVkwd8ioU+0dOSeFdN5p0gorzIFbp+0KmOonK\n",
       "BQvfKBZnNzHjxKm6Eb6IihHGX3j2yomJl5Pd/26CSjV+U0CFdAEGR2dROW/hK6NaWFUxMIRg3OlV\n",
       "ryJcM9cvzMkqbxDhfsJbMUFFjt8UF0kbKK6tOY3KeQtfnwARbGtM0+RGbyxANMz1K+lDPRuqaFzP\n",
       "hLV6/KaICo066XqpD6IytVBkOTSALsGDWHM+MUhQYVWY61cmZaWyhEw55zAnM8lyenURFYH7f3pS\n",
       "bLIWSuWbbI4quYLKxMJbibLWusebNY1ZPJcrV5AccGP5VlhL4zmXbrUDc9q1MXJlySwqBqAS3YFh\n",
       "yY8Ev4ZEjzXXrRxLcLmFt5L7UnyJ524ag5kvOKFdyhtR86g4RWmTASVHNQ/qv/75HeRP/PNPb6T+\n",
       "9W/497/fw8EoPr0EZftBl3OoUIhK5QDOTIJJ1i6lxK+hklkoqCyjknkVGNVqte5VdDsw115UwngK\n",
       "a++h+gRoHZVmlEkCh0N80n3WNVlDJbNQUNmNisKrMWeGSjdwtb1yUSByln3gintXsxarhIJIcroD\n",
       "RbpQoSGEYolWUQEWPggVkazrZvXoXlQETF+yKMm5NVRYX5XwD/u5XajSIMNnYxWSoSKS+Cu8WicN\n",
       "TGKoojFdR0XYdw1qV1GR1bgZmZi1o7tR0SDlET6L8Hi1jIroh0VdKNdmdRXe2mR2mOopKiKrqwTv\n",
       "MzqNJt0xOKkgtpBMflKGCsLyE1FpfL0ehp2HQqd0lZPTo/tRQZYuRrVxUiqmZ1HRyvs4nlX443S6\n",
       "bNKBwkOvMGkhgxIcy1FJA5Usg2tVmJfrqLyx7EMFVSbmG2hsZJxDhaeh68xDHsyo1cL+3QIL+3oR\n",
       "lW41DH5Hm5YaHaPajQXoo1FxPMT5DSoasTDOirWfnEOF2oQAvqtE/zRUkvwsR4XGkENT3+RTsTVO\n",
       "uDehADf7i77Mq1BE2s2q9SWvQoaZWiu9r8LwNFSS/Gx9o8QW8btQSd2RVRvhGDF5Tl6JbHE8LmA4\n",
       "icLrqABt6ezQLteKNIswc8SxyVEn9qOih1CRJPtJXhOVJFtbRYXpk6hoSsevSFfmzSefbG6CsCXs\n",
       "2iIyM3QLINCmmLsIgEqufTStAH2QWVSQoofNPwkVlmRaq6hsti+XUFEkeZntEVQqnpnQ2d4Ok074\n",
       "iL0W06GVDis1MGay/hzOdQAq5lyDv84QbssN86gQ+y6omGR9vGcbNtisswMVNkWlM0HzqoPOPcbc\n",
       "kkdTerI2RXcRqU6KykR772AqWFxo+yDzqGjP3gSVFI87UKmwTbfDTVAJOz7DIp3Uh1mGymCinaz9\n",
       "Gek+O62aL5fUD8HNoORIlv1zPEEF6HCxor1XhnZt2geZRwVM1ldGBbSIb/EqBPS8clSaCBCrkCSO\n",
       "B4Ym2fCwfmeifYphOAOUGoWPE3T4Wb1S1nHL2hTtRUCdBJVee9Ku7Xq0bbs2tm4X2rWgD7KACjoa\n",
       "Dz0JFUDHLahQuoYKiY+8SXBA4jhakktoIlYxxjP6Dzo3DlAZlBhwKnmbor0IqDOiMqO9+1507VrQ\n",
       "B1lC5eA7M56EigNXeQsqiqD1WKWNq//6Ww3i61Azx1hDE8Mt6iNxuYjKoER4a7L9ZXmbor0IqDOi\n",
       "MqO9U4Z2LeiDLKGCOHl9VIQVt6MC3esUlZASC3DAdZmNw9BET0Z3BliAJqh0StKgrBKTbTTDmc6I\n",
       "ypz20TIe6IMsoqJr8eqo6BqycQcqGk7LDBVhY1RH03Ro2GrZh7WDiRqlZ4AePUQlUUo2BiRtiniK\n",
       "6XkFmwf6Yc60T9VVYB9kEZWF7daL5n/+XXDZ2nAPKhIu9rlXoY4ZBx9gGGqWPSqDiVjdTc4Yq70a\n",
       "exr/6T4ZlcSwDThtU7RmRXcRIt0q3KGSax+Rvl2b9UGWUUHixTvxOr8Jd6BCKELH6io6r6sMJhjs\n",
       "tetdjy9qE+KQxfHGuc7P7oJ7V3k8KqrKdq4cqdayOjcBmyT0EYO60QMqqPwUKibf8ncElfYdD8BE\n",
       "+pIA8pBnAgoqL4LKdFFOsdnqLCNZLa5Ou59kWxWiXEHlRVF5fSmoFFQKKgWVgkpBpaBSUCmoFFQK\n",
       "KgWVgkpB5ZGoBKkLKh+OCo/jfAkVzYLIgsqHoyLjOJd3coVJc9dbmzz+pPv0PxB0UgpEBFdeAAAA\n",
       "AElFTkSuQmCC\n",
       "\" style=\"display:inline;vertical-align:middle;\" /></a><br>(see <a class=\"ProveItLink\" href=\"../../../__pv_it/theorems/db1cee4e4cf6f1ac822e954272026b9f7e932dbc0/dependencies.ipynb\">dependencies</a>)<br>"
      ],
      "text/plain": [
       "<IPython.core.display.HTML object>"
      ]
     },
     "metadata": {},
     "output_type": "display_data"
    }
   ],
   "source": [
    "%proving elim_domain_condition"
   ]
  },
  {
   "cell_type": "code",
   "execution_count": null,
   "metadata": {},
   "outputs": [],
   "source": []
  }
 ],
 "metadata": {
  "kernelspec": {
   "display_name": "Python 3",
   "language": "python",
   "name": "python3"
  }
 },
 "nbformat": 4,
 "nbformat_minor": 0
}