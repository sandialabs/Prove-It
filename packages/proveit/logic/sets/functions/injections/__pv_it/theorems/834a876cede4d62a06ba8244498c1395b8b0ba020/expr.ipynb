{
 "cells": [
  {
   "cell_type": "markdown",
   "metadata": {},
   "source": [
    "Expression of type <a class=\"ProveItLink\" href=\"../../../../../../../../../doc/html/api/proveit.ExprTuple.html\">ExprTuple</a>\n",
    "=======================\n",
    "# from the theory of <a class=\"ProveItLink\" href=\"../../../_theory_nbs_/theory.ipynb\">proveit.logic.sets.functions.injections</a>"
   ]
  },
  {
   "cell_type": "code",
   "execution_count": 1,
   "metadata": {},
   "outputs": [],
   "source": [
    "import proveit\n",
    "# Automation is not needed when building an expression:\n",
    "proveit.defaults.automation = False # This will speed things up.\n",
    "proveit.defaults.inline_pngs = False # Makes files smaller.\n",
    "%load_expr # Load the stored expression as 'stored_expr'\n",
    "# import Expression classes needed to build the expression\n",
    "from proveit import A, B, C, Conditional, ExprTuple, Lambda, f\n",
    "from proveit.logic import Forall, InSet, Injections, SubsetEq"
   ]
  },
  {
   "cell_type": "code",
   "execution_count": 2,
   "metadata": {},
   "outputs": [
    {
     "data": {
      "text/html": [
       "<strong id=\"expr\">expr:</strong> <a class=\"ProveItLink\" href=\"expr.ipynb\"><img src=\"expr.png\" style=\"display:inline;vertical-align:middle;\" /></a><br>"
      ],
      "text/plain": [
       "<IPython.core.display.HTML object>"
      ]
     },
     "metadata": {},
     "output_type": "display_data"
    }
   ],
   "source": [
    "# build up the expression from sub-expressions\n",
    "expr = ExprTuple(Lambda([A, B, C], Conditional(Forall(instance_param_or_params = [f], instance_expr = InSet(f, Injections(A, C)), domain = Injections(B, C)), SubsetEq(A, B))))"
   ]
  },
  {
   "cell_type": "code",
   "execution_count": 3,
   "metadata": {},
   "outputs": [
    {
     "name": "stdout",
     "output_type": "stream",
     "text": [
      "Passed sanity check: expr matches stored_expr\n"
     ]
    }
   ],
   "source": [
    "# check that the built expression is the same as the stored expression\n",
    "assert expr == stored_expr\n",
    "assert expr._style_id == stored_expr._style_id\n",
    "print(\"Passed sanity check: expr matches stored_expr\")"
   ]
  },
  {
   "cell_type": "code",
   "execution_count": 4,
   "metadata": {},
   "outputs": [
    {
     "name": "stdout",
     "output_type": "stream",
     "text": [
      "\\left(\\left(A, B, C\\right) \\mapsto \\left\\{\\forall_{f \\in \\left[B \\xrightarrow[]{\\text{1-to-1}} C\\right]}~\\left(f \\in \\left[A \\xrightarrow[]{\\text{1-to-1}} C\\right]\\right) \\textrm{ if } A \\subseteq B\\right..\\right)\n"
     ]
    }
   ],
   "source": [
    "# Show the LaTeX representation of the expression for convenience if you need it.\n",
    "print(stored_expr.latex())"
   ]
  },
  {
   "cell_type": "code",
   "execution_count": 5,
   "metadata": {},
   "outputs": [
    {
     "data": {
      "text/html": [
       "no style options"
      ],
      "text/plain": [
       "no style options"
      ]
     },
     "metadata": {},
     "output_type": "display_data"
    }
   ],
   "source": [
    "stored_expr.style_options()"
   ]
  },
  {
   "cell_type": "code",
   "execution_count": 6,
   "metadata": {},
   "outputs": [
    {
     "data": {
      "text/html": [
       "<table><tr><th>&nbsp;</th><th>core type</th><th>sub-expressions</th><th>expression</th></tr>\n",
       "<tr><td>0</td><td>ExprTuple</td><td>1</td><td><a class=\"ProveItLink\" href=\"expr.ipynb\"><img src=\"expr.png\" style=\"display:inline;vertical-align:middle;\" /></a></td></tr>\n",
       "<tr><td>1</td><td>Lambda</td><td>parameters:&nbsp;2<br>body:&nbsp;3<br></td><td><a class=\"ProveItLink\" href=\"../8db28983c6ae44ecd4eaa18501681dda1e9201360/expr.ipynb\"><img src=\"../8db28983c6ae44ecd4eaa18501681dda1e9201360/expr.png\" style=\"display:inline;vertical-align:middle;\" /></a></td></tr>\n",
       "<tr><td>2</td><td>ExprTuple</td><td>24, 25, 26</td><td><a class=\"ProveItLink\" href=\"../d51baa19aad8aa05970422a7dd7ced7a27c6238d0/expr.ipynb\"><img src=\"../d51baa19aad8aa05970422a7dd7ced7a27c6238d0/expr.png\" style=\"display:inline;vertical-align:middle;\" /></a></td></tr>\n",
       "<tr><td>3</td><td>Conditional</td><td>value:&nbsp;4<br>condition:&nbsp;5<br></td><td><a class=\"ProveItLink\" href=\"../75d22a6c363b60737ab10f27c555b59ef18edd520/expr.ipynb\"><img src=\"../75d22a6c363b60737ab10f27c555b59ef18edd520/expr.png\" style=\"display:inline;vertical-align:middle;\" /></a></td></tr>\n",
       "<tr><td>4</td><td>Operation</td><td>operator:&nbsp;6<br>operand:&nbsp;10<br></td><td><a class=\"ProveItLink\" href=\"../93d5bdd27bffaf9bdad266b82691869571384a420/expr.ipynb\"><img src=\"../93d5bdd27bffaf9bdad266b82691869571384a420/expr.png\" style=\"display:inline;vertical-align:middle;\" /></a></td></tr>\n",
       "<tr><td>5</td><td>Operation</td><td>operator:&nbsp;8<br>operands:&nbsp;9<br></td><td><a class=\"ProveItLink\" href=\"../ece2c7adf642bdcf5e43a296c2f8af56784390940/expr.ipynb\"><img src=\"../ece2c7adf642bdcf5e43a296c2f8af56784390940/expr.png\" style=\"display:inline;vertical-align:middle;\" /></a></td></tr>\n",
       "<tr><td>6</td><td>Literal</td><td></td><td><a class=\"ProveItLink\" href=\"../../../../../../booleans/quantification/universality/__pv_it/common/083d2baa0b8ecab1d230f9ec29a15aa1355809fb0/expr.ipynb\"><img src=\"../../../../../../booleans/quantification/universality/__pv_it/common/083d2baa0b8ecab1d230f9ec29a15aa1355809fb0/expr.png\" style=\"display:inline;vertical-align:middle;\" /></a></td></tr>\n",
       "<tr><td>7</td><td>ExprTuple</td><td>10</td><td><a class=\"ProveItLink\" href=\"../e3e6b7381ae045e38dd8cce73365da5d66523b860/expr.ipynb\"><img src=\"../e3e6b7381ae045e38dd8cce73365da5d66523b860/expr.png\" style=\"display:inline;vertical-align:middle;\" /></a></td></tr>\n",
       "<tr><td>8</td><td>Literal</td><td></td><td><a class=\"ProveItLink\" href=\"../../../../../inclusion/__pv_it/common/af21bfd7d93759eac7fe399a50aaac31ae45d8cf0/expr.ipynb\"><img src=\"../../../../../inclusion/__pv_it/common/af21bfd7d93759eac7fe399a50aaac31ae45d8cf0/expr.png\" style=\"display:inline;vertical-align:middle;\" /></a></td></tr>\n",
       "<tr><td>9</td><td>ExprTuple</td><td>24, 25</td><td><a class=\"ProveItLink\" href=\"../e791ee87807ed43d7ac6262f8f70c4ffc8f24c940/expr.ipynb\"><img src=\"../e791ee87807ed43d7ac6262f8f70c4ffc8f24c940/expr.png\" style=\"display:inline;vertical-align:middle;\" /></a></td></tr>\n",
       "<tr><td>10</td><td>Lambda</td><td>parameter:&nbsp;19<br>body:&nbsp;12<br></td><td><a class=\"ProveItLink\" href=\"../e71ea59ab7ae9fc7dc12e2b470155eb54cd2f8db0/expr.ipynb\"><img src=\"../e71ea59ab7ae9fc7dc12e2b470155eb54cd2f8db0/expr.png\" style=\"display:inline;vertical-align:middle;\" /></a></td></tr>\n",
       "<tr><td>11</td><td>ExprTuple</td><td>19</td><td><a class=\"ProveItLink\" href=\"../dcd60a965dafb827c89a2770706e77d319eb7bb50/expr.ipynb\"><img src=\"../dcd60a965dafb827c89a2770706e77d319eb7bb50/expr.png\" style=\"display:inline;vertical-align:middle;\" /></a></td></tr>\n",
       "<tr><td>12</td><td>Conditional</td><td>value:&nbsp;13<br>condition:&nbsp;14<br></td><td><a class=\"ProveItLink\" href=\"../fcdeb6d3bdf463d513d3a2c998c21ec1730b8c2a0/expr.ipynb\"><img src=\"../fcdeb6d3bdf463d513d3a2c998c21ec1730b8c2a0/expr.png\" style=\"display:inline;vertical-align:middle;\" /></a></td></tr>\n",
       "<tr><td>13</td><td>Operation</td><td>operator:&nbsp;16<br>operands:&nbsp;15<br></td><td><a class=\"ProveItLink\" href=\"../20e2a7501d9c48d224a165304bf99ed175f5f8b90/expr.ipynb\"><img src=\"../20e2a7501d9c48d224a165304bf99ed175f5f8b90/expr.png\" style=\"display:inline;vertical-align:middle;\" /></a></td></tr>\n",
       "<tr><td>14</td><td>Operation</td><td>operator:&nbsp;16<br>operands:&nbsp;17<br></td><td><a class=\"ProveItLink\" href=\"../5e7b82ba843f22bdc0afc7d2cf9f248cc713c9c00/expr.ipynb\"><img src=\"../5e7b82ba843f22bdc0afc7d2cf9f248cc713c9c00/expr.png\" style=\"display:inline;vertical-align:middle;\" /></a></td></tr>\n",
       "<tr><td>15</td><td>ExprTuple</td><td>19, 18</td><td><a class=\"ProveItLink\" href=\"../e1d337591b64453e14764de73e71a5502e5b31050/expr.ipynb\"><img src=\"../e1d337591b64453e14764de73e71a5502e5b31050/expr.png\" style=\"display:inline;vertical-align:middle;\" /></a></td></tr>\n",
       "<tr><td>16</td><td>Literal</td><td></td><td><a class=\"ProveItLink\" href=\"../../../../../membership/__pv_it/common/477487d8796864d23d5810f83761435f25167f690/expr.ipynb\"><img src=\"../../../../../membership/__pv_it/common/477487d8796864d23d5810f83761435f25167f690/expr.png\" style=\"display:inline;vertical-align:middle;\" /></a></td></tr>\n",
       "<tr><td>17</td><td>ExprTuple</td><td>19, 20</td><td><a class=\"ProveItLink\" href=\"../4dddfa694be1c584abad9d081a5d5d99719d25bd0/expr.ipynb\"><img src=\"../4dddfa694be1c584abad9d081a5d5d99719d25bd0/expr.png\" style=\"display:inline;vertical-align:middle;\" /></a></td></tr>\n",
       "<tr><td>18</td><td>Operation</td><td>operator:&nbsp;22<br>operands:&nbsp;21<br></td><td><a class=\"ProveItLink\" href=\"../f1cd5de72a420e04381d064b9c6ece768059f7f00/expr.ipynb\"><img src=\"../f1cd5de72a420e04381d064b9c6ece768059f7f00/expr.png\" style=\"display:inline;vertical-align:middle;\" /></a></td></tr>\n",
       "<tr><td>19</td><td>Variable</td><td></td><td><a class=\"ProveItLink\" href=\"../../../../../../../__pv_it/common/01b6dbb444a31fc38af4c2379badef6c75b363710/expr.ipynb\"><img src=\"../../../../../../../__pv_it/common/01b6dbb444a31fc38af4c2379badef6c75b363710/expr.png\" style=\"display:inline;vertical-align:middle;\" /></a></td></tr>\n",
       "<tr><td>20</td><td>Operation</td><td>operator:&nbsp;22<br>operands:&nbsp;23<br></td><td><a class=\"ProveItLink\" href=\"../671e22ff63c8f955a79096113d271d1350dc8f1c0/expr.ipynb\"><img src=\"../671e22ff63c8f955a79096113d271d1350dc8f1c0/expr.png\" style=\"display:inline;vertical-align:middle;\" /></a></td></tr>\n",
       "<tr><td>21</td><td>ExprTuple</td><td>24, 26</td><td><a class=\"ProveItLink\" href=\"../78265c0185c64ef6296f70f467400ed6e58161d40/expr.ipynb\"><img src=\"../78265c0185c64ef6296f70f467400ed6e58161d40/expr.png\" style=\"display:inline;vertical-align:middle;\" /></a></td></tr>\n",
       "<tr><td>22</td><td>Literal</td><td></td><td><a class=\"ProveItLink\" href=\"../../common/9732b79cd346b8d4e34560d9e00a1266966cd3250/expr.ipynb\"><img src=\"../../common/9732b79cd346b8d4e34560d9e00a1266966cd3250/expr.png\" style=\"display:inline;vertical-align:middle;\" /></a></td></tr>\n",
       "<tr><td>23</td><td>ExprTuple</td><td>25, 26</td><td><a class=\"ProveItLink\" href=\"../a9390a3776c41bafcfeaeb252f9361f9957c4a060/expr.ipynb\"><img src=\"../a9390a3776c41bafcfeaeb252f9361f9957c4a060/expr.png\" style=\"display:inline;vertical-align:middle;\" /></a></td></tr>\n",
       "<tr><td>24</td><td>Variable</td><td></td><td><a class=\"ProveItLink\" href=\"../../../../../../../__pv_it/common/09585084922504426caf1db2ff588a23a0932a960/expr.ipynb\"><img src=\"../../../../../../../__pv_it/common/09585084922504426caf1db2ff588a23a0932a960/expr.png\" style=\"display:inline;vertical-align:middle;\" /></a></td></tr>\n",
       "<tr><td>25</td><td>Variable</td><td></td><td><a class=\"ProveItLink\" href=\"../../../../../../../__pv_it/common/a9162d1c3cc0470c02e5daf414500903a7a419230/expr.ipynb\"><img src=\"../../../../../../../__pv_it/common/a9162d1c3cc0470c02e5daf414500903a7a419230/expr.png\" style=\"display:inline;vertical-align:middle;\" /></a></td></tr>\n",
       "<tr><td>26</td><td>Variable</td><td></td><td><a class=\"ProveItLink\" href=\"../../../../../../../__pv_it/common/9fba9f29e823606ff4fdf2f1c6d5d08d906e850a0/expr.ipynb\"><img src=\"../../../../../../../__pv_it/common/9fba9f29e823606ff4fdf2f1c6d5d08d906e850a0/expr.png\" style=\"display:inline;vertical-align:middle;\" /></a></td></tr>\n",
       "</table>\n"
      ],
      "text/plain": [
       "0. ((A, B, C) -> {forall_{f in Injections(B, C)} (f in Injections(A, C)) if A subset_eq B.)\n",
       "   core type: ExprTuple\n",
       "   sub-expressions: 1\n",
       "1. (A, B, C) -> {forall_{f in Injections(B, C)} (f in Injections(A, C)) if A subset_eq B.\n",
       "   core type: Lambda\n",
       "   parameters: 2\\n   body: 3\n",
       "2. (A, B, C)\n",
       "   core type: ExprTuple\n",
       "   sub-expressions: 24, 25, 26\n",
       "3. {forall_{f in Injections(B, C)} (f in Injections(A, C)) if A subset_eq B.\n",
       "   core type: Conditional\n",
       "   value: 4\n",
       "   condition: 5\n",
       "4. forall_{f in Injections(B, C)} (f in Injections(A, C))\n",
       "   core type: Operation\n",
       "   operator: 6\n",
       "   operand: 10\n",
       "5. A subset_eq B\n",
       "   core type: Operation\n",
       "   operator: 8\n",
       "   operands: 9\n",
       "6. forall\n",
       "   core type: Literal\n",
       "   sub-expressions: \n",
       "7. (f -> {f in Injections(A, C) if f in Injections(B, C).)\n",
       "   core type: ExprTuple\n",
       "   sub-expressions: 10\n",
       "8. subset_eq\n",
       "   core type: Literal\n",
       "   sub-expressions: \n",
       "9. (A, B)\n",
       "   core type: ExprTuple\n",
       "   sub-expressions: 24, 25\n",
       "10. f -> {f in Injections(A, C) if f in Injections(B, C).\n",
       "    core type: Lambda\n",
       "    parameter: 19\n",
       "    body: 12\n",
       "11. (f)\n",
       "    core type: ExprTuple\n",
       "    sub-expressions: 19\n",
       "12. {f in Injections(A, C) if f in Injections(B, C).\n",
       "    core type: Conditional\n",
       "    value: 13\n",
       "    condition: 14\n",
       "13. f in Injections(A, C)\n",
       "    core type: Operation\n",
       "    operator: 16\n",
       "    operands: 15\n",
       "14. f in Injections(B, C)\n",
       "    core type: Operation\n",
       "    operator: 16\n",
       "    operands: 17\n",
       "15. (f, Injections(A, C))\n",
       "    core type: ExprTuple\n",
       "    sub-expressions: 19, 18\n",
       "16. in\n",
       "    core type: Literal\n",
       "    sub-expressions: \n",
       "17. (f, Injections(B, C))\n",
       "    core type: ExprTuple\n",
       "    sub-expressions: 19, 20\n",
       "18. Injections(A, C)\n",
       "    core type: Operation\n",
       "    operator: 22\n",
       "    operands: 21\n",
       "19. f\n",
       "    core type: Variable\n",
       "    sub-expressions: \n",
       "20. Injections(B, C)\n",
       "    core type: Operation\n",
       "    operator: 22\n",
       "    operands: 23\n",
       "21. (A, C)\n",
       "    core type: ExprTuple\n",
       "    sub-expressions: 24, 26\n",
       "22. Injections\n",
       "    core type: Literal\n",
       "    sub-expressions: \n",
       "23. (B, C)\n",
       "    core type: ExprTuple\n",
       "    sub-expressions: 25, 26\n",
       "24. A\n",
       "    core type: Variable\n",
       "    sub-expressions: \n",
       "25. B\n",
       "    core type: Variable\n",
       "    sub-expressions: \n",
       "26. C\n",
       "    core type: Variable\n",
       "    sub-expressions: "
      ]
     },
     "metadata": {},
     "output_type": "display_data"
    }
   ],
   "source": [
    "# display the expression information\n",
    "stored_expr.expr_info()"
   ]
  },
  {
   "cell_type": "code",
   "execution_count": null,
   "metadata": {},
   "outputs": [],
   "source": []
  }
 ],
 "metadata": {
  "kernelspec": {
   "display_name": "Python 3",
   "language": "python",
   "name": "python3"
  }
 },
 "nbformat": 4,
 "nbformat_minor": 0
}