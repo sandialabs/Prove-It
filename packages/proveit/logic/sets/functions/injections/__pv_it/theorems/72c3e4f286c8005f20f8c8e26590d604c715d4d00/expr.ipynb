{
 "cells": [
  {
   "cell_type": "markdown",
   "metadata": {},
   "source": [
    "Expression of type <a class=\"ProveItLink\" href=\"../../../../../../../../../doc/html/api/proveit.logic.Forall.html\">Forall</a>\n",
    "=======================\n",
    "# from the theory of <a class=\"ProveItLink\" href=\"../../../_theory_nbs_/theory.ipynb\">proveit.logic.sets.functions.injections</a>"
   ]
  },
  {
   "cell_type": "code",
   "execution_count": 1,
   "metadata": {},
   "outputs": [],
   "source": [
    "import proveit\n",
    "# Automation is not needed when building an expression:\n",
    "proveit.defaults.automation = False # This will speed things up.\n",
    "proveit.defaults.inline_pngs = False # Makes files smaller.\n",
    "%load_expr # Load the stored expression as 'stored_expr'\n",
    "# import Expression classes needed to build the expression\n",
    "from proveit import A, B, a, b, f, fa, fb\n",
    "from proveit.logic import And, Forall, Functions, InSet, Injections, NotEquals"
   ]
  },
  {
   "cell_type": "code",
   "execution_count": 2,
   "metadata": {},
   "outputs": [
    {
     "data": {
      "text/html": [
       "<strong id=\"expr\">expr:</strong> <a class=\"ProveItLink\" href=\"expr.ipynb\"><img src=\"expr.png\" style=\"display:inline;vertical-align:middle;\" /></a><br>"
      ],
      "text/plain": [
       "<IPython.core.display.HTML object>"
      ]
     },
     "metadata": {},
     "output_type": "display_data"
    }
   ],
   "source": [
    "# build up the expression from sub-expressions\n",
    "expr = Forall(instance_param_or_params = [f], instance_expr = And(InSet(f, Functions(A, B)), Forall(instance_param_or_params = [a, b], instance_expr = NotEquals(fa, fb), domain = A, condition = NotEquals(a, b))), domain = Injections(A, B))"
   ]
  },
  {
   "cell_type": "code",
   "execution_count": 3,
   "metadata": {},
   "outputs": [
    {
     "name": "stdout",
     "output_type": "stream",
     "text": [
      "Passed sanity check: expr matches stored_expr\n"
     ]
    }
   ],
   "source": [
    "# check that the built expression is the same as the stored expression\n",
    "assert expr == stored_expr\n",
    "assert expr._style_id == stored_expr._style_id\n",
    "print(\"Passed sanity check: expr matches stored_expr\")"
   ]
  },
  {
   "cell_type": "code",
   "execution_count": 4,
   "metadata": {},
   "outputs": [
    {
     "name": "stdout",
     "output_type": "stream",
     "text": [
      "\\forall_{f \\in \\left[A \\xrightarrow[]{\\text{1-to-1}} B\\right]}~\\left(\\left(f \\in \\left[A \\rightarrow B\\right]\\right) \\land \\left[\\forall_{a, b \\in A~|~a \\neq b}~\\left(f\\left(a\\right) \\neq f\\left(b\\right)\\right)\\right]\\right)\n"
     ]
    }
   ],
   "source": [
    "# Show the LaTeX representation of the expression for convenience if you need it.\n",
    "print(stored_expr.latex())"
   ]
  },
  {
   "cell_type": "code",
   "execution_count": 5,
   "metadata": {},
   "outputs": [
    {
     "data": {
      "text/html": [
       "<table>\n",
       "<tr><th>name</th><th>description</th><th>default</th><th>current value</th><th>related methods</th></tr><tr><td>with_wrapping</td><td>If 'True', wrap the Expression after the parameters</td><td>None</td><td>None/False</td><td>('with_wrapping',)</td></tr>\n",
       "<tr><td>condition_wrapping</td><td>Wrap 'before' or 'after' the condition (or None).</td><td>None</td><td>None/False</td><td>('with_wrap_after_condition', 'with_wrap_before_condition')</td></tr>\n",
       "<tr><td>wrap_params</td><td>If 'True', wraps every two parameters AND wraps the Expression after the parameters</td><td>None</td><td>None/False</td><td>('with_params',)</td></tr>\n",
       "<tr><td>justification</td><td>justify to the 'left', 'center', or 'right' in the array cells</td><td>center</td><td>center</td><td>('with_justification',)</td></tr>\n",
       "</table>\n"
      ],
      "text/plain": [
       "style name: with_wrapping\n",
       "description: If 'True', wrap the Expression after the parameters\n",
       "default: None\n",
       "current value: None/False\n",
       "related methods: ('with_wrapping',)\n",
       "style name: condition_wrapping\n",
       "description: Wrap 'before' or 'after' the condition (or None).\n",
       "default: None\n",
       "current value: None/False\n",
       "related methods: ('with_wrap_after_condition', 'with_wrap_before_condition')\n",
       "style name: wrap_params\n",
       "description: If 'True', wraps every two parameters AND wraps the Expression after the parameters\n",
       "default: None\n",
       "current value: None/False\n",
       "related methods: ('with_params',)\n",
       "style name: justification\n",
       "description: justify to the 'left', 'center', or 'right' in the array cells\n",
       "default: center\n",
       "current value: center\n",
       "related methods: ('with_justification',)"
      ]
     },
     "metadata": {},
     "output_type": "display_data"
    }
   ],
   "source": [
    "stored_expr.style_options()"
   ]
  },
  {
   "cell_type": "code",
   "execution_count": 6,
   "metadata": {},
   "outputs": [
    {
     "data": {
      "text/html": [
       "<table><tr><th>&nbsp;</th><th>core type</th><th>sub-expressions</th><th>expression</th></tr>\n",
       "<tr><td>0</td><td>Operation</td><td>operator:&nbsp;13<br>operand:&nbsp;2<br></td><td><a class=\"ProveItLink\" href=\"expr.ipynb\"><img src=\"expr.png\" style=\"display:inline;vertical-align:middle;\" /></a></td></tr>\n",
       "<tr><td>1</td><td>ExprTuple</td><td>2</td><td><a class=\"ProveItLink\" href=\"../13c2f5015d9e1b4a750c8ca7cd016d40438526c90/expr.ipynb\"><img src=\"../13c2f5015d9e1b4a750c8ca7cd016d40438526c90/expr.png\" style=\"display:inline;vertical-align:middle;\" /></a></td></tr>\n",
       "<tr><td>2</td><td>Lambda</td><td>parameter:&nbsp;33<br>body:&nbsp;4<br></td><td><a class=\"ProveItLink\" href=\"../fec212e8355dcf29874b8c660151015d5dfebf4b0/expr.ipynb\"><img src=\"../fec212e8355dcf29874b8c660151015d5dfebf4b0/expr.png\" style=\"display:inline;vertical-align:middle;\" /></a></td></tr>\n",
       "<tr><td>3</td><td>ExprTuple</td><td>33</td><td><a class=\"ProveItLink\" href=\"../dcd60a965dafb827c89a2770706e77d319eb7bb50/expr.ipynb\"><img src=\"../dcd60a965dafb827c89a2770706e77d319eb7bb50/expr.png\" style=\"display:inline;vertical-align:middle;\" /></a></td></tr>\n",
       "<tr><td>4</td><td>Conditional</td><td>value:&nbsp;5<br>condition:&nbsp;6<br></td><td><a class=\"ProveItLink\" href=\"../d9975eb604ee144fbb1dc90f80badf0eb719a8530/expr.ipynb\"><img src=\"../d9975eb604ee144fbb1dc90f80badf0eb719a8530/expr.png\" style=\"display:inline;vertical-align:middle;\" /></a></td></tr>\n",
       "<tr><td>5</td><td>Operation</td><td>operator:&nbsp;25<br>operands:&nbsp;7<br></td><td><a class=\"ProveItLink\" href=\"../3c55c09dea9ff44e0279e48471f577843fa6142f0/expr.ipynb\"><img src=\"../3c55c09dea9ff44e0279e48471f577843fa6142f0/expr.png\" style=\"display:inline;vertical-align:middle;\" /></a></td></tr>\n",
       "<tr><td>6</td><td>Operation</td><td>operator:&nbsp;36<br>operands:&nbsp;8<br></td><td><a class=\"ProveItLink\" href=\"../8446c1bc118e83fef0b1dc6bfff2509c63690a010/expr.ipynb\"><img src=\"../8446c1bc118e83fef0b1dc6bfff2509c63690a010/expr.png\" style=\"display:inline;vertical-align:middle;\" /></a></td></tr>\n",
       "<tr><td>7</td><td>ExprTuple</td><td>9, 10</td><td><a class=\"ProveItLink\" href=\"../260e1ae4e263b3075e1986f56a015e4a41f071850/expr.ipynb\"><img src=\"../260e1ae4e263b3075e1986f56a015e4a41f071850/expr.png\" style=\"display:inline;vertical-align:middle;\" /></a></td></tr>\n",
       "<tr><td>8</td><td>ExprTuple</td><td>33, 11</td><td><a class=\"ProveItLink\" href=\"../c1e5e6e6ab8954ad4261d22ad645251479f69e000/expr.ipynb\"><img src=\"../c1e5e6e6ab8954ad4261d22ad645251479f69e000/expr.png\" style=\"display:inline;vertical-align:middle;\" /></a></td></tr>\n",
       "<tr><td>9</td><td>Operation</td><td>operator:&nbsp;36<br>operands:&nbsp;12<br></td><td><a class=\"ProveItLink\" href=\"../0de5a198d2ebc8c13cbce1714f42ea0caf1f318b0/expr.ipynb\"><img src=\"../0de5a198d2ebc8c13cbce1714f42ea0caf1f318b0/expr.png\" style=\"display:inline;vertical-align:middle;\" /></a></td></tr>\n",
       "<tr><td>10</td><td>Operation</td><td>operator:&nbsp;13<br>operand:&nbsp;17<br></td><td><a class=\"ProveItLink\" href=\"../d7f7a03b29e2378222e026bf471ef905d7f569220/expr.ipynb\"><img src=\"../d7f7a03b29e2378222e026bf471ef905d7f569220/expr.png\" style=\"display:inline;vertical-align:middle;\" /></a></td></tr>\n",
       "<tr><td>11</td><td>Operation</td><td>operator:&nbsp;15<br>operands:&nbsp;19<br></td><td><a class=\"ProveItLink\" href=\"../ee7cd9a0d8d4c03e993b83c1852aa629cd6250c90/expr.ipynb\"><img src=\"../ee7cd9a0d8d4c03e993b83c1852aa629cd6250c90/expr.png\" style=\"display:inline;vertical-align:middle;\" /></a></td></tr>\n",
       "<tr><td>12</td><td>ExprTuple</td><td>33, 16</td><td><a class=\"ProveItLink\" href=\"../d0aa61b85238c64be019d26509b77a625c5ecbbf0/expr.ipynb\"><img src=\"../d0aa61b85238c64be019d26509b77a625c5ecbbf0/expr.png\" style=\"display:inline;vertical-align:middle;\" /></a></td></tr>\n",
       "<tr><td>13</td><td>Literal</td><td></td><td><a class=\"ProveItLink\" href=\"../../../../../../booleans/quantification/universality/__pv_it/common/083d2baa0b8ecab1d230f9ec29a15aa1355809fb0/expr.ipynb\"><img src=\"../../../../../../booleans/quantification/universality/__pv_it/common/083d2baa0b8ecab1d230f9ec29a15aa1355809fb0/expr.png\" style=\"display:inline;vertical-align:middle;\" /></a></td></tr>\n",
       "<tr><td>14</td><td>ExprTuple</td><td>17</td><td><a class=\"ProveItLink\" href=\"../8c67ed00527ed67911e19060154ce2b99873cbac0/expr.ipynb\"><img src=\"../8c67ed00527ed67911e19060154ce2b99873cbac0/expr.png\" style=\"display:inline;vertical-align:middle;\" /></a></td></tr>\n",
       "<tr><td>15</td><td>Literal</td><td></td><td><a class=\"ProveItLink\" href=\"../../common/9732b79cd346b8d4e34560d9e00a1266966cd3250/expr.ipynb\"><img src=\"../../common/9732b79cd346b8d4e34560d9e00a1266966cd3250/expr.png\" style=\"display:inline;vertical-align:middle;\" /></a></td></tr>\n",
       "<tr><td>16</td><td>Operation</td><td>operator:&nbsp;18<br>operands:&nbsp;19<br></td><td><a class=\"ProveItLink\" href=\"../56e73cef164fa342ebc4ffaaf9b6cd920c1787140/expr.ipynb\"><img src=\"../56e73cef164fa342ebc4ffaaf9b6cd920c1787140/expr.png\" style=\"display:inline;vertical-align:middle;\" /></a></td></tr>\n",
       "<tr><td>17</td><td>Lambda</td><td>parameters:&nbsp;39<br>body:&nbsp;20<br></td><td><a class=\"ProveItLink\" href=\"../741166a5e3d8559b97636bbcf6fd2b8f3f6b752c0/expr.ipynb\"><img src=\"../741166a5e3d8559b97636bbcf6fd2b8f3f6b752c0/expr.png\" style=\"display:inline;vertical-align:middle;\" /></a></td></tr>\n",
       "<tr><td>18</td><td>Literal</td><td></td><td><a class=\"ProveItLink\" href=\"../../../../__pv_it/common/02ebbf96e6abbec25aabdbf00e53179656546f630/expr.ipynb\"><img src=\"../../../../__pv_it/common/02ebbf96e6abbec25aabdbf00e53179656546f630/expr.png\" style=\"display:inline;vertical-align:middle;\" /></a></td></tr>\n",
       "<tr><td>19</td><td>ExprTuple</td><td>40, 21</td><td><a class=\"ProveItLink\" href=\"../e791ee87807ed43d7ac6262f8f70c4ffc8f24c940/expr.ipynb\"><img src=\"../e791ee87807ed43d7ac6262f8f70c4ffc8f24c940/expr.png\" style=\"display:inline;vertical-align:middle;\" /></a></td></tr>\n",
       "<tr><td>20</td><td>Conditional</td><td>value:&nbsp;22<br>condition:&nbsp;23<br></td><td><a class=\"ProveItLink\" href=\"../280c323253d10498d24b1eedd4c7214b93162dcd0/expr.ipynb\"><img src=\"../280c323253d10498d24b1eedd4c7214b93162dcd0/expr.png\" style=\"display:inline;vertical-align:middle;\" /></a></td></tr>\n",
       "<tr><td>21</td><td>Variable</td><td></td><td><a class=\"ProveItLink\" href=\"../../../../../../../__pv_it/common/a9162d1c3cc0470c02e5daf414500903a7a419230/expr.ipynb\"><img src=\"../../../../../../../__pv_it/common/a9162d1c3cc0470c02e5daf414500903a7a419230/expr.png\" style=\"display:inline;vertical-align:middle;\" /></a></td></tr>\n",
       "<tr><td>22</td><td>Operation</td><td>operator:&nbsp;38<br>operands:&nbsp;24<br></td><td><a class=\"ProveItLink\" href=\"../2b63aacbccbe22b9e319df751b4a6382c6d5ca3a0/expr.ipynb\"><img src=\"../2b63aacbccbe22b9e319df751b4a6382c6d5ca3a0/expr.png\" style=\"display:inline;vertical-align:middle;\" /></a></td></tr>\n",
       "<tr><td>23</td><td>Operation</td><td>operator:&nbsp;25<br>operands:&nbsp;26<br></td><td><a class=\"ProveItLink\" href=\"../6cbad4cb0efdac6959de3be6b2a219f3436122e90/expr.ipynb\"><img src=\"../6cbad4cb0efdac6959de3be6b2a219f3436122e90/expr.png\" style=\"display:inline;vertical-align:middle;\" /></a></td></tr>\n",
       "<tr><td>24</td><td>ExprTuple</td><td>27, 28</td><td><a class=\"ProveItLink\" href=\"../0187fd221285b5d85c5a4f2a5e5918f0e93078b00/expr.ipynb\"><img src=\"../0187fd221285b5d85c5a4f2a5e5918f0e93078b00/expr.png\" style=\"display:inline;vertical-align:middle;\" /></a></td></tr>\n",
       "<tr><td>25</td><td>Literal</td><td></td><td><a class=\"ProveItLink\" href=\"../../../../../../booleans/conjunction/__pv_it/common/42118ff318bd65d98b1393f64ce7c2269feef76e0/expr.ipynb\"><img src=\"../../../../../../booleans/conjunction/__pv_it/common/42118ff318bd65d98b1393f64ce7c2269feef76e0/expr.png\" style=\"display:inline;vertical-align:middle;\" /></a></td></tr>\n",
       "<tr><td>26</td><td>ExprTuple</td><td>29, 30, 31</td><td><a class=\"ProveItLink\" href=\"../7e051e42bb9e278697ddca33e3123334bdf0c7390/expr.ipynb\"><img src=\"../7e051e42bb9e278697ddca33e3123334bdf0c7390/expr.png\" style=\"display:inline;vertical-align:middle;\" /></a></td></tr>\n",
       "<tr><td>27</td><td>Operation</td><td>operator:&nbsp;33<br>operand:&nbsp;41<br></td><td><a class=\"ProveItLink\" href=\"../../../../../../../__pv_it/common/87a201cf64512173f031b6f78a7cd5ef415a99ec0/expr.ipynb\"><img src=\"../../../../../../../__pv_it/common/87a201cf64512173f031b6f78a7cd5ef415a99ec0/expr.png\" style=\"display:inline;vertical-align:middle;\" /></a></td></tr>\n",
       "<tr><td>28</td><td>Operation</td><td>operator:&nbsp;33<br>operand:&nbsp;42<br></td><td><a class=\"ProveItLink\" href=\"../../../../../../../__pv_it/common/f7c42e5722975eba184a89eadc6ac91c8e9658490/expr.ipynb\"><img src=\"../../../../../../../__pv_it/common/f7c42e5722975eba184a89eadc6ac91c8e9658490/expr.png\" style=\"display:inline;vertical-align:middle;\" /></a></td></tr>\n",
       "<tr><td>29</td><td>Operation</td><td>operator:&nbsp;36<br>operands:&nbsp;35<br></td><td><a class=\"ProveItLink\" href=\"../04e61fc7e2bd2ea2d1eb7a36fe8458865d81df9b0/expr.ipynb\"><img src=\"../04e61fc7e2bd2ea2d1eb7a36fe8458865d81df9b0/expr.png\" style=\"display:inline;vertical-align:middle;\" /></a></td></tr>\n",
       "<tr><td>30</td><td>Operation</td><td>operator:&nbsp;36<br>operands:&nbsp;37<br></td><td><a class=\"ProveItLink\" href=\"../ebed3cd7afdd0348acaa5d3f080ab73b082294160/expr.ipynb\"><img src=\"../ebed3cd7afdd0348acaa5d3f080ab73b082294160/expr.png\" style=\"display:inline;vertical-align:middle;\" /></a></td></tr>\n",
       "<tr><td>31</td><td>Operation</td><td>operator:&nbsp;38<br>operands:&nbsp;39<br></td><td><a class=\"ProveItLink\" href=\"../ef097190be07bfef385d06d66c6c1568183e809c0/expr.ipynb\"><img src=\"../ef097190be07bfef385d06d66c6c1568183e809c0/expr.png\" style=\"display:inline;vertical-align:middle;\" /></a></td></tr>\n",
       "<tr><td>32</td><td>ExprTuple</td><td>41</td><td><a class=\"ProveItLink\" href=\"../../../../../../../__pv_it/common/4dfbea54d9ab139e516c3d361fb9092516f9e2710/expr.ipynb\"><img src=\"../../../../../../../__pv_it/common/4dfbea54d9ab139e516c3d361fb9092516f9e2710/expr.png\" style=\"display:inline;vertical-align:middle;\" /></a></td></tr>\n",
       "<tr><td>33</td><td>Variable</td><td></td><td><a class=\"ProveItLink\" href=\"../../../../../../../__pv_it/common/01b6dbb444a31fc38af4c2379badef6c75b363710/expr.ipynb\"><img src=\"../../../../../../../__pv_it/common/01b6dbb444a31fc38af4c2379badef6c75b363710/expr.png\" style=\"display:inline;vertical-align:middle;\" /></a></td></tr>\n",
       "<tr><td>34</td><td>ExprTuple</td><td>42</td><td><a class=\"ProveItLink\" href=\"../../../../../../../__pv_it/common/aa9afb286c61bdccbd2125a13442930aa7bfad490/expr.ipynb\"><img src=\"../../../../../../../__pv_it/common/aa9afb286c61bdccbd2125a13442930aa7bfad490/expr.png\" style=\"display:inline;vertical-align:middle;\" /></a></td></tr>\n",
       "<tr><td>35</td><td>ExprTuple</td><td>41, 40</td><td><a class=\"ProveItLink\" href=\"../479037c3a48bb1d9ec16942cc4ed1e37c414ddba0/expr.ipynb\"><img src=\"../479037c3a48bb1d9ec16942cc4ed1e37c414ddba0/expr.png\" style=\"display:inline;vertical-align:middle;\" /></a></td></tr>\n",
       "<tr><td>36</td><td>Literal</td><td></td><td><a class=\"ProveItLink\" href=\"../../../../../membership/__pv_it/common/477487d8796864d23d5810f83761435f25167f690/expr.ipynb\"><img src=\"../../../../../membership/__pv_it/common/477487d8796864d23d5810f83761435f25167f690/expr.png\" style=\"display:inline;vertical-align:middle;\" /></a></td></tr>\n",
       "<tr><td>37</td><td>ExprTuple</td><td>42, 40</td><td><a class=\"ProveItLink\" href=\"../633f1cf1475b12424fea56747b892648baba26870/expr.ipynb\"><img src=\"../633f1cf1475b12424fea56747b892648baba26870/expr.png\" style=\"display:inline;vertical-align:middle;\" /></a></td></tr>\n",
       "<tr><td>38</td><td>Literal</td><td></td><td><a class=\"ProveItLink\" href=\"../../../../../../equality/__pv_it/common/d96270bc9bb1bad54f773b1c04bfb343a739642c0/expr.ipynb\"><img src=\"../../../../../../equality/__pv_it/common/d96270bc9bb1bad54f773b1c04bfb343a739642c0/expr.png\" style=\"display:inline;vertical-align:middle;\" /></a></td></tr>\n",
       "<tr><td>39</td><td>ExprTuple</td><td>41, 42</td><td><a class=\"ProveItLink\" href=\"../3dcd5ceea6334d8cb48fe14fdae236293aa9a6050/expr.ipynb\"><img src=\"../3dcd5ceea6334d8cb48fe14fdae236293aa9a6050/expr.png\" style=\"display:inline;vertical-align:middle;\" /></a></td></tr>\n",
       "<tr><td>40</td><td>Variable</td><td></td><td><a class=\"ProveItLink\" href=\"../../../../../../../__pv_it/common/09585084922504426caf1db2ff588a23a0932a960/expr.ipynb\"><img src=\"../../../../../../../__pv_it/common/09585084922504426caf1db2ff588a23a0932a960/expr.png\" style=\"display:inline;vertical-align:middle;\" /></a></td></tr>\n",
       "<tr><td>41</td><td>Variable</td><td></td><td><a class=\"ProveItLink\" href=\"../../../../../../../__pv_it/common/c06c606ec12678c58933ac85412ecadc2ae28be60/expr.ipynb\"><img src=\"../../../../../../../__pv_it/common/c06c606ec12678c58933ac85412ecadc2ae28be60/expr.png\" style=\"display:inline;vertical-align:middle;\" /></a></td></tr>\n",
       "<tr><td>42</td><td>Variable</td><td></td><td><a class=\"ProveItLink\" href=\"../../../../../../../__pv_it/common/195236b98c6c564a75b5dbada74b173bc52d5c3e0/expr.ipynb\"><img src=\"../../../../../../../__pv_it/common/195236b98c6c564a75b5dbada74b173bc52d5c3e0/expr.png\" style=\"display:inline;vertical-align:middle;\" /></a></td></tr>\n",
       "</table>\n"
      ],
      "text/plain": [
       "0. forall_{f in Injections(A, B)} ((f in [A -> B]) and [forall_{a, b in A | a != b} (f(a) != f(b))])\n",
       "   core type: Operation\n",
       "   operator: 13\n",
       "   operand: 2\n",
       "1. (f -> {(f in [A -> B]) and [forall_{a, b in A | a != b} (f(a) != f(b))] if f in Injections(A, B).)\n",
       "   core type: ExprTuple\n",
       "   sub-expressions: 2\n",
       "2. f -> {(f in [A -> B]) and [forall_{a, b in A | a != b} (f(a) != f(b))] if f in Injections(A, B).\n",
       "   core type: Lambda\n",
       "   parameter: 33\n",
       "   body: 4\n",
       "3. (f)\n",
       "   core type: ExprTuple\n",
       "   sub-expressions: 33\n",
       "4. {(f in [A -> B]) and [forall_{a, b in A | a != b} (f(a) != f(b))] if f in Injections(A, B).\n",
       "   core type: Conditional\n",
       "   value: 5\n",
       "   condition: 6\n",
       "5. (f in [A -> B]) and [forall_{a, b in A | a != b} (f(a) != f(b))]\n",
       "   core type: Operation\n",
       "   operator: 25\n",
       "   operands: 7\n",
       "6. f in Injections(A, B)\n",
       "   core type: Operation\n",
       "   operator: 36\n",
       "   operands: 8\n",
       "7. (f in [A -> B], forall_{a, b in A | a != b} (f(a) != f(b)))\n",
       "   core type: ExprTuple\n",
       "   sub-expressions: 9, 10\n",
       "8. (f, Injections(A, B))\n",
       "   core type: ExprTuple\n",
       "   sub-expressions: 33, 11\n",
       "9. f in [A -> B]\n",
       "   core type: Operation\n",
       "   operator: 36\n",
       "   operands: 12\n",
       "10. forall_{a, b in A | a != b} (f(a) != f(b))\n",
       "    core type: Operation\n",
       "    operator: 13\n",
       "    operand: 17\n",
       "11. Injections(A, B)\n",
       "    core type: Operation\n",
       "    operator: 15\n",
       "    operands: 19\n",
       "12. (f, [A -> B])\n",
       "    core type: ExprTuple\n",
       "    sub-expressions: 33, 16\n",
       "13. forall\n",
       "    core type: Literal\n",
       "    sub-expressions: \n",
       "14. ((a, b) -> {f(a) != f(b) if a in A ,  b in A ,  a != b.)\n",
       "    core type: ExprTuple\n",
       "    sub-expressions: 17\n",
       "15. Injections\n",
       "    core type: Literal\n",
       "    sub-expressions: \n",
       "16. [A -> B]\n",
       "    core type: Operation\n",
       "    operator: 18\n",
       "    operands: 19\n",
       "17. (a, b) -> {f(a) != f(b) if a in A ,  b in A ,  a != b.\n",
       "    core type: Lambda\n",
       "    parameters: 39\\n    body: 20\n",
       "18. Functions\n",
       "    core type: Literal\n",
       "    sub-expressions: \n",
       "19. (A, B)\n",
       "    core type: ExprTuple\n",
       "    sub-expressions: 40, 21\n",
       "20. {f(a) != f(b) if a in A ,  b in A ,  a != b.\n",
       "    core type: Conditional\n",
       "    value: 22\n",
       "    condition: 23\n",
       "21. B\n",
       "    core type: Variable\n",
       "    sub-expressions: \n",
       "22. f(a) != f(b)\n",
       "    core type: Operation\n",
       "    operator: 38\n",
       "    operands: 24\n",
       "23. (a in A) and (b in A) and (a != b)\n",
       "    core type: Operation\n",
       "    operator: 25\n",
       "    operands: 26\n",
       "24. (f(a), f(b))\n",
       "    core type: ExprTuple\n",
       "    sub-expressions: 27, 28\n",
       "25. and\n",
       "    core type: Literal\n",
       "    sub-expressions: \n",
       "26. (a in A, b in A, a != b)\n",
       "    core type: ExprTuple\n",
       "    sub-expressions: 29, 30, 31\n",
       "27. f(a)\n",
       "    core type: Operation\n",
       "    operator: 33\n",
       "    operand: 41\n",
       "28. f(b)\n",
       "    core type: Operation\n",
       "    operator: 33\n",
       "    operand: 42\n",
       "29. a in A\n",
       "    core type: Operation\n",
       "    operator: 36\n",
       "    operands: 35\n",
       "30. b in A\n",
       "    core type: Operation\n",
       "    operator: 36\n",
       "    operands: 37\n",
       "31. a != b\n",
       "    core type: Operation\n",
       "    operator: 38\n",
       "    operands: 39\n",
       "32. (a)\n",
       "    core type: ExprTuple\n",
       "    sub-expressions: 41\n",
       "33. f\n",
       "    core type: Variable\n",
       "    sub-expressions: \n",
       "34. (b)\n",
       "    core type: ExprTuple\n",
       "    sub-expressions: 42\n",
       "35. (a, A)\n",
       "    core type: ExprTuple\n",
       "    sub-expressions: 41, 40\n",
       "36. in\n",
       "    core type: Literal\n",
       "    sub-expressions: \n",
       "37. (b, A)\n",
       "    core type: ExprTuple\n",
       "    sub-expressions: 42, 40\n",
       "38. !=\n",
       "    core type: Literal\n",
       "    sub-expressions: \n",
       "39. (a, b)\n",
       "    core type: ExprTuple\n",
       "    sub-expressions: 41, 42\n",
       "40. A\n",
       "    core type: Variable\n",
       "    sub-expressions: \n",
       "41. a\n",
       "    core type: Variable\n",
       "    sub-expressions: \n",
       "42. b\n",
       "    core type: Variable\n",
       "    sub-expressions: "
      ]
     },
     "metadata": {},
     "output_type": "display_data"
    }
   ],
   "source": [
    "# display the expression information\n",
    "stored_expr.expr_info()"
   ]
  },
  {
   "cell_type": "code",
   "execution_count": null,
   "metadata": {},
   "outputs": [],
   "source": []
  }
 ],
 "metadata": {
  "kernelspec": {
   "display_name": "Python 3",
   "language": "python",
   "name": "python3"
  }
 },
 "nbformat": 4,
 "nbformat_minor": 0
}