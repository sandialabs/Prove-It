{
 "cells": [
  {
   "cell_type": "markdown",
   "metadata": {},
   "source": [
    "Proof of <a class=\"ProveItLink\" href=\"../../../../../../../_theory_nbs_/theory.ipynb\">proveit</a>.<a class=\"ProveItLink\" href=\"../../../../../../_theory_nbs_/theory.ipynb\">logic</a>.<a class=\"ProveItLink\" href=\"../../../../../_theory_nbs_/theory.ipynb\">sets</a>.<a class=\"ProveItLink\" href=\"../../../../_theory_nbs_/theory.ipynb\">functions</a>.<a class=\"ProveItLink\" href=\"../../theory.ipynb\">bijections</a>.<a class=\"ProveItLink\" href=\"../../theorems.ipynb#bijection_is_surjection\">bijection_is_surjection</a> theorem\n",
    "========"
   ]
  },
  {
   "cell_type": "code",
   "execution_count": 1,
   "metadata": {},
   "outputs": [],
   "source": [
    "import proveit\n",
    "theory = proveit.Theory() # the theorem's theory"
   ]
  },
  {
   "cell_type": "code",
   "execution_count": 2,
   "metadata": {},
   "outputs": [
    {
     "data": {
      "text/html": [
       "With these <a href=\"allowed_presumptions.txt\">allowed</a>/<a href=\"disallowed_presumptions.txt\">disallowed</a> theorem/theory presumptions (e.g., to avoid circular dependencies), we begin our proof of<br><strong id=\"bijection_is_surjection\">bijection_is_surjection:</strong> <a class=\"ProveItLink\" href=\"../../../__pv_it/theorems/7522d026072b3fe0bdfdd3e48188f26185b723db0/expr.ipynb\"><img src=\"data:image/png;base64,iVBORw0KGgoAAAANSUhEUgAAAYMAAABACAMAAADPseuOAAAAQlBMVEX///8AAAAAAAAAAAAAAAAA\n",
       "AAAAAAAAAAAAAAAAAAAAAAAAAAAAAAAAAAAAAAAAAAAAAAAAAAAAAAAAAAAAAAAAAACGKEuzAAAA\n",
       "FXRSTlMAq1RmmUTNIjK7EInv3Xbh+fvl1/OhCx0iAAAACXBIWXMAAA7EAAAOxAGVKw4bAAAGSUlE\n",
       "QVR42u2c6briKBCG2ffQ0z3D/d/qQDYpsihobLuFH+f4RMWkXmr7MCLUPHhIY0B9tA4xWpCgZxjw\n",
       "OFQ3ZfNQyYBPMuhWfMFwnUFn0Edn0Bn00Rl0Bn10Bp1BH51BZ/CWwSqujiTlhl52Jml2kx4ZYb6J\n",
       "AcMVLyb48vU+GV8N5nsYUIE+kQGi+GsYKGc+kwHS5FsYCIs+lIGBq+PvZUCC+VQGRaL6exkMFn0s\n",
       "AxnkNzBQlW7wVgZI229ggDX6YAbUfQOD6narZCDFhQxkvoccGdw+m9AmBu0TXBmKJGzXrDV1DMTT\n",
       "C4zqEHAcQquSARoYYMD4+rGyiUH7BBf2Z9CCFqt7Hl8wIOEFTu6mgIiDKhkwARio5cOlbotF7RNc\n",
       "mA5E0QZxXecHDIenF5QMfrYTKxn4APPBIiJZ0sagfYIL8x+GJ1oA8HqIQxwzsNKGyi9Oebl1RjX/\n",
       "9yUDks2eGNA5ilcnoYVB8wQXpmTQHVj4XUAuvDn3A+njSq1cUYRtnHFZo06WDFQ2+xglXVoUg7Ot\n",
       "DJoneE9ZRLEbMMsrHnMvFrG0UmsLjGE/HRg8bHOyyWYfGbDxNXnANHUMthP85iHhIp7j8mnlkDPg\n",
       "JK3U2iVFdFmbae89FnRbm4JTGhlIvPxZRaUsFiodYmXHtDpmsJlgO7Rzzr/c1jbOindLUwKIgHMX\n",
       "d3MyG99U3bR5uAr9lNWJo3sMbNGjpfdanl0auAQ6Opl3Jz1aOcF2XFa2KrzroRzUmeANU+SMQx8w\n",
       "8JqxWBfdnjYivfzHPz/T+DU+/jf9/e/n7UgaAXysdos11Q4DVjAgHqwOrsCSnWIpDScMigl+OwPo\n",
       "BzAlG33HD8x08fVf6ucCLMPFkeay6A6DaD+aWd0jgUs9wwz0TKuAE3wYA43Pc2fBYLbO4GrPBOZ6\n",
       "taRdPHvHaT5IlX32fg/buNhpUMqwOtWLwAS1DGQWR+3ps48ykKCoKRKR96cMOG0UK4pLnNNBZCH2\n",
       "8gEtGcgss6WbOvLgP6YDg9kpA+kwamWgyG2Xm9qzZx9mYPJKSIYiUwlywkAul64rG+WyPxDTRNwt\n",
       "qzNnIMv+IPmLyuUti7PGcrL+5kIgA4QVao9Fq5UVFqndVJ54tX32cQbIsaOUPC4ozc0+A6NDGG1G\n",
       "0oOq6tQCC+BVsFuNDXs0vmGQJ4OimptewoM6ZVDpqAcMELFjGZIJIG0MhM6ln+2ZW32uVVyinwCt\n",
       "whwzmKNhchVjJxxmTMnnseh5Bl6kQiAyMIgnA2o+HWljwNzNtOIh0eG9DPJSrWTAxrhuWIhl1ij3\n",
       "UhFs6tAIQm/xA4ZoBA6OtTCgyzobtHlMxnovg7xUO1fVyYNaRS0DaFTl3aq4Gk1jzOOeel4+62UF\n",
       "A7PkPOqZvIoBa2eQ122nDLhpY2AYo2cMgBTSUHcA9WSfAdKsdvp6BkMzA57XXKcM7gmHRww0nW9a\n",
       "Vh5rzTcMbNsducOuenLAgLrLGXjXzMAK9GgsamSwxGLG1J4fFFJIgy6ZqycHDEzgr2YQA6Q1MVoO\n",
       "ivj4Yo7DuEk9Ha5jAMx+AQOClwBO92NRIYU06JK5enLAAC61VzBIDp2qhbG9SrWWcvnhGgbQg67w\n",
       "A6p3tLEbg0UKORIjh+nwr2NdEqgnRwxQZdK5x0CNF6v9VKzH/xOD9XANA2j1KxgwBnSXgkEphTTo\n",
       "kkA9OWRQ99X3uwymBBM/VKarxguD9XAFA19+4eD1DDSdbaDHQSCDUgpp0CWBenLIAAn6ej8QHjAw\n",
       "dD38OAPp5OUM5iCg7J4fbKSQhhYDqCfHDMwgX8hgTAEy2nFkkIKPCUip9fDDDMxQ2PwCBmZZ5EBz\n",
       "ng2YSSHN/QFUT44ZHGzeH01/934061O/Z3CIvbxLYdEyux6+186t96MtYeJSBmoJ9jLfgp4Y5FJI\n",
       "7Vh0yUI9OWGA5Af+tpLZXPkFDOian4xN+YDf14ueGQqjP3y8nIEm+zsJncH7GNj9ncJaBrYzeE6r\n",
       "eJ4B7Qzez2DavTSakXT37u6WZmdwLYNl95KL6ZV7W5qdwbUM5t1LxKNBU0Wbb2l2Bm/yg3n3krOZ\n",
       "wc6WZmdwcT6Ydi/T18R56n+3W5qdwbvrot4fdAZ/EoPHf3O8M9i1ytO/OW7447853hnsnvxoQfM2\n",
       "4hfdhxP++FiE0P+uAkNn3cFHgAAAAABJRU5ErkJggg==\n",
       "\" style=\"display:inline;vertical-align:middle;\" /></a><br>(see <a class=\"ProveItLink\" href=\"../../../__pv_it/theorems/23a9471ec6afcd9c78dcba174b5c6818cdb944770/dependencies.ipynb\">dependencies</a>)<br>"
      ],
      "text/plain": [
       "<IPython.core.display.HTML object>"
      ]
     },
     "metadata": {},
     "output_type": "display_data"
    }
   ],
   "source": [
    "%proving bijection_is_surjection"
   ]
  },
  {
   "cell_type": "code",
   "execution_count": null,
   "metadata": {},
   "outputs": [],
   "source": []
  }
 ],
 "metadata": {
  "kernelspec": {
   "display_name": "Python 3",
   "language": "python",
   "name": "python3"
  }
 },
 "nbformat": 4,
 "nbformat_minor": 0
}