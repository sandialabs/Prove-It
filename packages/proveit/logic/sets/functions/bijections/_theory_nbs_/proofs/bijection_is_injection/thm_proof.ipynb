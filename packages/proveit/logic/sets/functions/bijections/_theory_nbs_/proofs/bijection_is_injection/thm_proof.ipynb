{
 "cells": [
  {
   "cell_type": "markdown",
   "metadata": {},
   "source": [
    "Proof of <a class=\"ProveItLink\" href=\"../../../../../../../_theory_nbs_/theory.ipynb\">proveit</a>.<a class=\"ProveItLink\" href=\"../../../../../../_theory_nbs_/theory.ipynb\">logic</a>.<a class=\"ProveItLink\" href=\"../../../../../_theory_nbs_/theory.ipynb\">sets</a>.<a class=\"ProveItLink\" href=\"../../../../_theory_nbs_/theory.ipynb\">functions</a>.<a class=\"ProveItLink\" href=\"../../theory.ipynb\">bijections</a>.<a class=\"ProveItLink\" href=\"../../theorems.ipynb#bijection_is_injection\">bijection_is_injection</a> theorem\n",
    "========"
   ]
  },
  {
   "cell_type": "code",
   "execution_count": 1,
   "metadata": {},
   "outputs": [],
   "source": [
    "import proveit\n",
    "theory = proveit.Theory() # the theorem's theory"
   ]
  },
  {
   "cell_type": "code",
   "execution_count": 2,
   "metadata": {},
   "outputs": [
    {
     "data": {
      "text/html": [
       "With these <a href=\"allowed_presumptions.txt\">allowed</a>/<a href=\"disallowed_presumptions.txt\">disallowed</a> theorem/theory presumptions (e.g., to avoid circular dependencies), we begin our proof of<br><strong id=\"bijection_is_injection\">bijection_is_injection:</strong> <a class=\"ProveItLink\" href=\"../../../__pv_it/theorems/8cd7934b25c63fade26959469e9580c3cd7608b30/expr.ipynb\"><img src=\"data:image/png;base64,iVBORw0KGgoAAAANSUhEUgAAAY4AAABACAMAAAA6T2A+AAAAQlBMVEX///8AAAAAAAAAAAAAAAAA\n",
       "AAAAAAAAAAAAAAAAAAAAAAAAAAAAAAAAAAAAAAAAAAAAAAAAAAAAAAAAAAAAAAAAAACGKEuzAAAA\n",
       "FXRSTlMAq1RmmUTNIjK7EInv3Xbh+fvl1/OhCx0iAAAACXBIWXMAAA7EAAAOxAGVKw4bAAAGUklE\n",
       "QVR42u2c6bqjKBCG2Velp3uG+7/VEbdQiBvGJH1C/ejOc2JQ66UWPmIQKjfug7Wo2nUTvS8JuoSD\n",
       "d6aqL59gKrjyKo7qxqdaU3FUHNUqjoqjWsVRcVSrOCqOiqPiqDh+Cg524u5IkIzoS64qnMmEV0aY\n",
       "L8LB8ImDCX5pGAwcVGu+BgcV6Lk4DBiR7R6xjwNR/C04VGOei0M5F+8ltLtHHMCBNPkSHMKiJ0cH\n",
       "IpGzXbN3xCEcBkyan4uDeHMnDo69td0ZHHXWXMABC9zPxdFadGt0qD46NO8meHsFh/TyC3Cok8FR\n",
       "hkP1DtDuAg6k7RfgwBrdhEN3qwY74qB9iGA2/q0IB22+AMfpFV2KQ4rd6DB0iA5xKTpktEHe4Xhc\n",
       "BqFlOC6McF+uksmS0FpzCofw2ziMR0oh0blSRr5dwUG78MGdCa0WOFDLYhyMz1cgy3BcGOG2JWDi\n",
       "TIvVTiJIcBC/wCGt8PYRCJaF9GSdY3LlCBAOQ/LEXi1wMBHjUNN1SF2YrC6McFvpEKkYxPWp6GDY\n",
       "P3NqSe9Gj7EFDudB7Zh0LEsKcVwY4TZNCCcXmrBwuu1MrOKw0vry7485uYxWNf7vFjjI40wBBx0T\n",
       "vkClOMpHuK2Sw1WHhSmdC2c2o0O6bs6Wzy2y0LPwNHEbucChHmfqE2oTZkrb2GIc5SO8pLGiuGkx\n",
       "i5sms5OsWJizF9qSNl86DG4zpdw8ztTjYP0xcW41J3EsR3ivyWRqe1Bfsw1HjIOTMGcvTC6i00ZP\n",
       "O+ewoJlGN766HofE0z+zrhXlTaV91yUyrTZwLEZYmG6axj3f77YbFuf6XALpgIsXe6Wc9Z+5sgHi\n",
       "4NR0Q19AGprFYeEyMHzW8ugmwd3QPvRyCuZjGZiOsLD7WmCFcxfGYdcKPjCk1s50HofTjHWdVfSu\n",
       "Ed3Rv/753duf8Prfdrb+9X+/H28G8+AKdDM5VuVwMIiDODBluAITeUi71G/hSEZ4N44kOmAlN3o7\n",
       "Osxw85celOACzIcp0qbGahtH50kaAXBILFRf09JNkQSO8GE4NN4utBDH6Jy2uXBNsFlQU7HGU8xs\n",
       "1Y6wYIg+78BCMaxgKGVYbWtWYISTOGSUaO3mu0dxSNgWJVXLuS0cnK6rJEctuduxdHRYRLZ20ASH\n",
       "jOpheHwmLhR96TCYbeOQDUaFOBR5bOBTu/XuYRwGtFLSJ1VNkHUccrp1Xb4sT9cdYhiTN/OUjXHI\n",
       "ZN0RokjFYpvF0Sp2ALG4pQQHwgoVJ6vZ4QqLsKJVjji1fPc4DtSw1UreTy7NTRaH0d73PiPhRWmr\n",
       "a4Ev8KwfRtItWAbyFEdcOJLOcDiEe7WN41z4ruBAxPZ9TCS8lOEQGuhPyyu3elMkuV3EASKJWcUx\n",
       "Zs4QP8YOZExfyXeS1WUcToT+ocNhEA++1Hz4SxkO1kRuFkfkjvfhiPq+FAfrS4BhvmvUekmaCm/D\n",
       "IpAg9JLoYIgOm8/tpeig84xrtTkkpb0PR9T3bW8C7M2qUhzQv8o1sxRsNO2SInfU8cW7Th7HYeby\n",
       "SKP9iM/EEXWBmzi4KcRhGKMbOIAGU9KvAN0miwNpdnb0d+HgUQe3iWNX0lzDoenwsLlyWGu+wGEL\n",
       "tes2q9vkcdDmb8FhBTqYrEpxjImbMZWLjkSDOeExndNt8jiM538JjhjBHTgIHrK9o/lklWgwJ2zW\n",
       "SWPdJo8DTLpPxgGk2Vuig+qlUvfAMWkwvUo66aR/hpd/oEw66aTzn0edFOg2KzjQyQL1LhyAwC04\n",
       "GIu1nwRHqsGcOt+okwLdZg3HuecJ3oXDgau8BYemgzt0bwTiSDWYEzbrpEC3WcOBBP18HLKRt+MY\n",
       "0oSyuehYaDAnbEYKdJtVHKaVn47DtND/d+Aw49wHwvjoykiDKV93QN1mFUf+Kwqro7/h2cAxj9yL\n",
       "Q42VQcbb6wOOWIM5bZNOmug26ziQ/PCf2jKpF+7AQadZbGyoHXxfs7pkCqMfY8/HoUl256PieA8O\n",
       "m936PIvDVhzPE0ku46AVx3txDPuxRjNCcX6PtuJ4HY5pP5aL/tDcHm3F8Toc434s4p1vu/443qOt\n",
       "ON4QHeN+LGcDjswebcXxwtox7MeGb9zzbrW93KOtON7YWdV1R8XxA3Ac/kn8imPPQdd/Et/wwz+J\n",
       "X3Hs3UbvS/My+Hc9/eR/ULJC6H8PSUQC45zz+gAAAABJRU5ErkJggg==\n",
       "\" style=\"display:inline;vertical-align:middle;\" /></a><br>(see <a class=\"ProveItLink\" href=\"../../../__pv_it/theorems/34934950772f8cd9855d58d403b990e25b3fea200/dependencies.ipynb\">dependencies</a>)<br>"
      ],
      "text/plain": [
       "<IPython.core.display.HTML object>"
      ]
     },
     "metadata": {},
     "output_type": "display_data"
    },
    {
     "name": "stdout",
     "output_type": "stream",
     "text": [
      "bijection_is_injection may now be readily provable (assuming required theorems are usable).  Simply execute \"%qed\".\n"
     ]
    }
   ],
   "source": [
    "%proving bijection_is_injection"
   ]
  },
  {
   "cell_type": "code",
   "execution_count": null,
   "metadata": {},
   "outputs": [],
   "source": []
  }
 ],
 "metadata": {
  "kernelspec": {
   "display_name": "Python 3",
   "language": "python",
   "name": "python3"
  }
 },
 "nbformat": 4,
 "nbformat_minor": 0
}