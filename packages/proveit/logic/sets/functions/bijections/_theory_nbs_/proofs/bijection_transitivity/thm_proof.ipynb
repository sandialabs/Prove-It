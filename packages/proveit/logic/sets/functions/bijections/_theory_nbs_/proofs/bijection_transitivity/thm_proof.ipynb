{
 "cells": [
  {
   "cell_type": "markdown",
   "metadata": {},
   "source": [
    "Proof of <a class=\"ProveItLink\" href=\"../../../../../../../_theory_nbs_/theory.ipynb\">proveit</a>.<a class=\"ProveItLink\" href=\"../../../../../../_theory_nbs_/theory.ipynb\">logic</a>.<a class=\"ProveItLink\" href=\"../../../../../_theory_nbs_/theory.ipynb\">sets</a>.<a class=\"ProveItLink\" href=\"../../../../_theory_nbs_/theory.ipynb\">functions</a>.<a class=\"ProveItLink\" href=\"../../theory.ipynb\">bijections</a>.<a class=\"ProveItLink\" href=\"../../theorems.ipynb#bijection_transitivity\">bijection_transitivity</a> theorem\n",
    "========"
   ]
  },
  {
   "cell_type": "code",
   "execution_count": 1,
   "metadata": {},
   "outputs": [],
   "source": [
    "import proveit\n",
    "theory = proveit.Theory() # the theorem's theory"
   ]
  },
  {
   "cell_type": "code",
   "execution_count": 2,
   "metadata": {},
   "outputs": [
    {
     "data": {
      "text/html": [
       "With these <a href=\"allowed_presumptions.txt\">allowed</a>/<a href=\"disallowed_presumptions.txt\">disallowed</a> theorem/theory presumptions (e.g., to avoid circular dependencies), we begin our proof of<br><strong id=\"bijection_transitivity\">bijection_transitivity:</strong> <a class=\"ProveItLink\" href=\"../../../__pv_it/theorems/b1665f3fa3cdffd5f9b5efc09924056f9bef6e640/expr.ipynb\"><img src=\"data:image/png;base64,iVBORw0KGgoAAAANSUhEUgAAAlkAAABNCAMAAACi/oHRAAAARVBMVEX///8AAAAAAAAAAAAAAAAA\n",
       "AAAAAAAAAAAAAAAAAAAAAAAAAAAAAAAAAAAAAAAAAAAAAAAAAAAAAAAAAAAAAAAAAAAAAAAeYafp\n",
       "AAAAFnRSTlMAq1RmmUTNIjK7EInv3Xbh+fvl1/Pp3hX/qAAAAAlwSFlzAAAOxAAADsQBlSsOGwAA\n",
       "DuZJREFUeNrtXemahCCSlENOYXZ2Znz/R10vFBDk8ujZr/zR1drVBQFBkiRJVNf9vQvD2E3iguN0\n",
       "oTdqOBck5t8EEbXI/gaUCJYyXH/kIn0CKojdJLsDvAhjWJueqfwuKADzKpQQlhJc5qLqUzqmmheR\n",
       "2M2fZFaHsgstAfMJsxwsqKIGEnxILDhc85rZf2eDuJdZwuldnHxHRm90PHOKKwKTw6z7wASxcFhB\n",
       "UfQZsUSqbCJjNzd0B9NaWbcq+Y6c3hCZjCkCk8GsG8EEsYihfG7rR/oVswBJea4icnNPd0CrqfWQ\n",
       "ekdWb2S6T2VgsmbD28CEseCKuQ3wj4jFxoT7rmTs5nZm9WCUcmpSjbQULcyiWQO1DEwps9rAhLHQ\n",
       "CgNER/gNswhJMU9Ebh6wWWwZ5nziulAtzOq4zBlT4klmtYGJYOGyvIe5+oRYMGWyHGNabFlrmMXG\n",
       "pT10C7PQcPs0UcesWjARLDm4ziNIf2KyUkCd4GBxpNDvDkrCncHHcZRbZ6ytB/D2rIpZOVNAIZh8\n",
       "Zt0BJoKlamrjwwfESvKZ2TM786Z5LKUo6w4ypoa5QOswJ+lhjqbuAtNFOPN7o1M4DZ1WMssv9xYw\n",
       "ndB8+kzUUXmFJY0rNC994GmBlK+BxtjNHIVjAyxiFhyvmSXGjrGOTB9KraaND/OBbyiY3xvYN44S\n",
       "XiErtFluubeA0YOe3wSxQldYMKno5ZG8TiwxpnwNJybhBSgG2PMym4WBbyioJKM8RrTE84iVWmMa\n",
       "eYe77NFbzAb7vaE93ghFCqMtF1C8cm8AI7jaSIrXFoph0WOV/WBvMwsl7eQAYjdTu3q00lxNF4kz\n",
       "S1LZgFHTc/XZ9qr93oBeQRqB/gLZqaxLKF65N2Ahe937obvCAmsasB/l28ziyYW3Uye3gtK16z3R\n",
       "4tpmUT0NufopH+LzWDT9chrnzCtIdYxfIOuKoHjltmORR20Z7q6wsKoGHN/24cWYXKhEl4YIDApg\n",
       "e9UnUrMhnodcwzaWCrtZAqizBy/cguBEI0KjyOA0ZVGUDcUrtxkLtfpBXGMRVQ3I354OUdJKOqtc\n",
       "b8nrTgWEpvysHs5DrsEuQ+6v7rjWGhB0XqmHaufaCRuMJLOXzXOh+OU2Y5HnWTWKpWoC1m9PhyAV\n",
       "JnWNr2uJqTsOSNKDx8s/tWR1aHfBoFdnF5otdbc37LZkS6lOrpIFZt0/PLosBcUvtxmLOgdAoliq\n",
       "OMLeXh0OyYVGb3PPuZn6w6n7oLaLR5ilOcbT2vD4syDz2//xP/+cr/9dfv+X+ZDp8fzk3/88/jhf\n",
       "o1MDEwE0ywK3N2wLBZY3aB1GtvjyR3grCcUvtxmL3Q+iu8Yy4pqeHsdXMwAz3KwLm+U68IInBrpY\n",
       "u3Vs2cTq3eRXY//MEi3aG4JskYcgsvW3IzMhCcUvtxmLOpgF2SPMIsnZ6dYLJqNZV8zi4Nq99rpj\n",
       "axDVsEphrmfNjDNrJvWob2KipDgIBi3WyoKTgHIqtxkLPmZD+YifNZXw6t4hTs/Z1F6KODfd4NZV\n",
       "68vu6JEZPPX19Tzrzd05nAi3N9CZ9fau5QFmCcbba64ElFO5zVjo3u/7blkUS93iGo2vZmmRdGxE\n",
       "2Fx3bqg/YAm86A467Ovf6hRHP55Fhi20SAK+ib30Q3u1rY2+A4yYq+Rsc11COZfbjmULxvTHNmwM\n",
       "S2W2FXs3ojVkRDkGHLmBvvERgPci3B2Cj+PSDXD+pXYBLJ3agn1bGIZ6w05oBPtzpkNgeqAlVnlQ\n",
       "QuU2Y5lKxBwA3IfXhjYWVjcDi3F8k1k5CwbCIzeBxNle8uvdnadHSlFatYOsI/hPQYligZWLvPHN\n",
       "WCnN4TEeQjdTK5OsIfsZs6TKRcZmk8bSDf8ds2wssnJtrd7MpIE5EQBkj5H9RnGR571+xiwOcpGB\n",
       "6d8E0d3fZZaNhVfWgry5ONQ5axthc32/QVZiyDPdgRt7I72EMmAWL6t/cpDciaV23xW8ub8js1ai\n",
       "HMduHmWWauuNnFN2hWDqmXUjlurTg3h80eSCrMKcnP7iBP/a7tBDW29IUojsQWbdiUWSajMy/eeB\n",
       "AD56cppnbRQIe5krSte8ud2xHsqbMyuhBtGzevm9McBCZDcy60ksA6xm1mQ5j0mfPHpwmuRtQTnD\n",
       "RJJHmGUO5S1xwHnVGT6rl90beWZCPiJ+8iQWXR3v1HOolBkI9NmIvMp06gYWu7mrO/ZDeXRer82H\n",
       "88Jn9bJ7I3NoF4HJZNajWKpN1rQSnitgdg3ksyGIIZNZDSJHmd1hDuVNvTG/au+sXnFv6MxKFoHJ\n",
       "ZNaTWHT9RuXKLGR2bx8OmeSGOJzkybJMyhKbRbTTG4Gzepm9QbPT00vAFNmsR7DQod472s7jraln\n",
       "g3yaWZntKhSN3NzVHeZQ3tIb85QRPquX1xtCZdv6EjC5ftZjWApwRZmFl/mf51WjesM9X3XTOXJA\n",
       "S7b4c8U910N5AkyLCjTMOXGBs3qJeI3R9ux4gSEqAJOtU/oUFt4SKehXZlFgfqzcwTj+ocJ2Qxkf\n",
       "sZTYORWuwXxIPrDgHfO3kiiL3fy9SxTFEv42GBuLaMoKZRtXZ3Ml+4OsPbsIVNj8QMpbnParCQ2J\n",
       "RiD0XyjW+7sqObo571Db/vtV4kTPnNzOdfFxSBYYDVKIQ7PhHbnRGP66rXC6bG5yM1sWCHkbmzXR\n",
       "ak+EhGA4wg9Ia+SsL3RHnPPxcHH1DL49A5HBrmU2vEAJfpQqdPHvWX4tPMkX8t6ZJeFBR3QETDX2\n",
       "8ii0q05CR40QBvvcCdSlB9/OLER+jMpn1v060tlC3swk41FLzwLjgzjCjcHM/pcd8V/cLHHE4wZ8\n",
       "R9Thor7Dz1XLZ9YTOtK5OdP9nuZ52B1rtbkQ2s6jmFZ90j4bsHLqOPyw+2DwGWYR+SNUyWx4v450\n",
       "rpB3H0ogPsIKEpv9zX0udE/Br/tK/f4EbGB1KJCimpkFx5/JqmXWXTrSmY5uiFliXQbIre4LWZY7\n",
       "c4ZvdpfWB3R966I4uDwRw2K9dHAR2J7Aqn4mq95m3aQjnSnkDQPHwtYarLqNWOtl62m5w4svJvBI\n",
       "+vUBItMwkHidetd/EBhLrcOWhbcmsLKfyWpl1g060nlC3ihw6AFhx1Xa5saT43T2pFK+HaiTCLA+\n",
       "wCxatapRkhJ9JJ4WG4Q0fPvKt39kQMxl1s060nmpsedDDxxuvnwvOqb2RIrTQcvzycs+ZVCaU6N3\n",
       "P03WhFw1idRQR4aE/7zX7mtopOq6YHBAXDwN0mNW6DMapJejzMo7NX0+9CCNyACaMwGRxMLceW3Y\n",
       "pZ8kCyudDGkDs6LeP5TO2leEnm9UQ+7r0ambshWBlUeKQ+oTpcwKfUaDjrQr6m1nM2cJeePWCark\n",
       "Qo1yXcceUg2zYkcy7YOMtix46ICjiSb7mxyb5jFSHQU1rmBIXLyUWYHPaNGR9kS9bWZlCXnzN88b\n",
       "9o0qEofs9Z3MstM6bFnwULqHcUGRPx6FE3Mpvs7i4uXMCn5G7XUS9baZlSXkTd48I01LVCQCyWLH\n",
       "NkEOs/yQWoxZg019EXx+9jbC4cJ0bnBAnLuLiYu7IFMK5W0C5X5rnUS9bcRZQt7Dqxq4Y8GoYmef\n",
       "7AhaRJjldLefbRFhFiTht8CgyTc7XeGs4xSzguLcUXFxG2RSobxRoNxrrbOot82sLCHvd+UkVYl7\n",
       "i2R0abg1utAaCCaPxAyXOyrKLFszG+/FuLLg5rlbiPmWZPfbkimZzSkDw2DNh6faRfNJI+LiFrPS\n",
       "CuWtAuVOawVEvW1m5Qh503f1s0CqSlhZl7+4sFa7a6PjOX9Vd4cSlcslT3P78DsdzWzb+thOp3nu\n",
       "FmIyA/wMgTWzCHhi9G7tYqc5Y+LiFrOSCuXNAuVOawVEvV3dh7Rz3r8rrqzLVqLQFTZiHrMQXfVd\n",
       "AIpYKUdzm+6S165mtrLl7SzXYHvuFQK3kQi9EclPzDrXLnY0KiYubjMr5cG3C5TbrRUQ9XaZJTO6\n",
       "+tWNuFIiCzKENbyXRmenBfC//6Oc60hipYBENLOtEhxVwe25Vwgb3dc4s861i4hzn8TFz8xKynqf\n",
       "P+Ok6r0qeW+q3ovAd1zVOyDq7TIrbSDAu19EVygxSImkFzZrwasvPCtbp5phMyQ9zWyLWY6Pbz23\n",
       "CjErpT5ps861C4tzx8XFD2alZL3vECi3Wysg6l3KLPXyFq9KLA4dP0t53kWAWYsGjxBhZnma23wX\n",
       "VXc0s63Z0EmePZ7bhZiItR+5DjLLq11YfCguLm7NhglZ7xsEyp3WCoh6F/pZ4u2vdJIFy5een5Yb\n",
       "ztpQ8L4Dgw3e6wCPmMYieZrZ1ra/Y2LW534hJpEb8QSzArULinNfiItbzLqW9b5DoNxprYCod6EK\n",
       "HRxfPq7Q5xd43l+1NLznRocjE7P0Z38YnT4nnuVpZh/xA1cWfH3uF2JiEdjzTzk/fnahf1x77+R7\n",
       "BMXFxeqO2vGsK1nvOwTKvdY6i3oXfmc2eP37fofsYXX+ymQryX6xWXgayRCjGARfp3r3olzNbKaC\n",
       "Dvz23C9E9e7r9t45kiWmnyPYNd9DtfPFuWPi4uuWr82suKz3PQLlfmudRL3dSGl/Xz/fdeHsmH9g\n",
       "+B2y1837hpZm9p4G5aXhhtKjqHJfy432WZw7XuE+8Z9fqf2mc8bZ+PrZvaavgT0EvRuYddLMXneX\n",
       "z7LgKLAAMrvU+I3zo6VZNK8xKy3krcf3jxsPDWuGQ9C7hllbnOGsmc1n8xiQBecns2mU6+gr3ynz\n",
       "GLNwI7PSQt5keJ1YE5vrT+Afgt41zNr8zrNm9hItCsiCn6NIhmuc/lczSzUyK7k0ZOMXJ2FaZuBd\n",
       "9lrW5MFTDMI2mkbCM/5zk2mi3yCWVsNDzKrTHj2YlRbyBp+chJENpaIPjOwfvjKZdYv0ssWspI6v\n",
       "GD/R3hANllK8+0Wf/z+YdY/0conarx7pJ+2hG4yW/OmFlDLrJullSyE3OXEM+KMGaTnoPLAfocqY\n",
       "dZP08sGsDJP11Xlj2GAsfyJHdTarWXp5Z5ZOe1nosxbBDeEggn6MKvOz7pFeNsxKC3kD/mGTqHp6\n",
       "lGl4/5jV3SC9bDErLeTdf6pw1qKvRslPNWR3K97WKc0Q8lbfLt/7BsNDf078Z1dayNt5x/8BcqGu\n",
       "189lsjUAAAAASUVORK5CYII=\n",
       "\" style=\"display:inline;vertical-align:middle;\" /></a><br>(see <a class=\"ProveItLink\" href=\"../../../__pv_it/theorems/018ec0da3cb2b7cbb2572af9098a0f24a8bccdc00/dependencies.ipynb\">dependencies</a>)<br>"
      ],
      "text/plain": [
       "<IPython.core.display.HTML object>"
      ]
     },
     "metadata": {},
     "output_type": "display_data"
    }
   ],
   "source": [
    "%proving bijection_transitivity"
   ]
  },
  {
   "cell_type": "code",
   "execution_count": null,
   "metadata": {},
   "outputs": [],
   "source": []
  }
 ],
 "metadata": {
  "kernelspec": {
   "display_name": "Python 3",
   "language": "python",
   "name": "python3"
  }
 },
 "nbformat": 4,
 "nbformat_minor": 0
}