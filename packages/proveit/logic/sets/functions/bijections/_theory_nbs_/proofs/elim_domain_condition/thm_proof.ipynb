{
 "cells": [
  {
   "cell_type": "markdown",
   "metadata": {},
   "source": [
    "Proof of <a class=\"ProveItLink\" href=\"../../../../../../../_theory_nbs_/theory.ipynb\">proveit</a>.<a class=\"ProveItLink\" href=\"../../../../../../_theory_nbs_/theory.ipynb\">logic</a>.<a class=\"ProveItLink\" href=\"../../../../../_theory_nbs_/theory.ipynb\">sets</a>.<a class=\"ProveItLink\" href=\"../../../../_theory_nbs_/theory.ipynb\">functions</a>.<a class=\"ProveItLink\" href=\"../../theory.ipynb\">bijections</a>.<a class=\"ProveItLink\" href=\"../../theorems.ipynb#elim_domain_condition\">elim_domain_condition</a> theorem\n",
    "========"
   ]
  },
  {
   "cell_type": "code",
   "execution_count": 1,
   "metadata": {},
   "outputs": [],
   "source": [
    "import proveit\n",
    "theory = proveit.Theory() # the theorem's theory"
   ]
  },
  {
   "cell_type": "code",
   "execution_count": 2,
   "metadata": {},
   "outputs": [
    {
     "data": {
      "text/html": [
       "With these <a href=\"allowed_presumptions.txt\">allowed</a>/<a href=\"disallowed_presumptions.txt\">disallowed</a> theorem/theory presumptions (e.g., to avoid circular dependencies), we begin our proof of<br><strong id=\"elim_domain_condition\">elim_domain_condition:</strong> <a class=\"ProveItLink\" href=\"../../../__pv_it/theorems/3c4d8efcac98dc0f3aa0ea6d0eb80bc1b87dce540/expr.ipynb\"><img src=\"data:image/png;base64,iVBORw0KGgoAAAANSUhEUgAAAioAAABACAMAAAADHqyUAAAASFBMVEX///8AAAAAAAAAAAAAAAAA\n",
       "AAAAAAAAAAAAAAAAAAAAAAAAAAAAAAAAAAAAAAAAAAAAAAAAAAAAAAAAAAAAAAAAAAAAAAAAAACC\n",
       "gUnDAAAAF3RSTlMAq1RmmUTNIjK7EInv3XbxweH5++XX832FJ1cAAAAJcEhZcwAADsQAAA7EAZUr\n",
       "DhsAAAibSURBVHja7Zxpm6QoDIBBblB2Zy/+/z9dAQ+CeJdd09Xkw0w/VTGF8hJCAiJ0XZjz0qEq\n",
       "ny089HODbqHCepH1WX64SN/Nd1Gpj/HHSFtRqVJRqVJRqVJRqVJRqVJRqU+wolJRqVJRqVJRqVJR\n",
       "+UShZ55842sw5Cta5X9I+7801xWV34MUfEa7wV/YtDYyIjtdUfkNhHD0WlQ0sEh3NfZRQQRXVN4v\n",
       "stWvRUVam+4F6XY1DqCCVFNRebtwg16LSq+SgGDbPY1DqGgAdEXlHdI4/SQqDDtj+l+wxBp9AxUY\n",
       "UFVU3iGdQU+i0s9vYf5gvWPo7qAinKiovDdSOetULqEiQ+coewMVpExF5a2CFXoIFeWcMwMqJLgW\n",
       "TIfPLqFC2orKW+V8Mi1DRfBdr6JJ9Cr8llcRyYbaHpW5FQ25hsoNCz9z/hHwA2qMPoUKd9uoaIek\n",
       "RLzvZpH0+woqpHc7uBeu5AIV1NEUFcqmFohrqNyw8BOFZB1tsNxz7hCVxi1QEYY7MzsQQ/2UY6yl\n",
       "YkUDuJE4IWInF6hQnqIix2aI01PogMoNCz8yVMmmj7Zh6pRXodi9ckgKZ4fepAtUrAOxylgXMs1F\n",
       "VG5Y+InS4uwhZpxY1fXCV1ExwrgbZ6+sWHg5OfxvF6g08y95VMgQYHB0FZXrFn5kVAuzKgaGEIxb\n",
       "velVhO3H+o0x2eQFIjwO+FYsUJHzL4VJsvUUd625jMp1Cz9+AURw22GaLm70zgRE/Vi/s3zoiqGK\n",
       "xl0hrNXzLwVUaNBJ50t9EpWlhSrroQF0CQ7EmuWFQYIKa/xYvzMoG5UtyJS1FnNSWCynrQuoCDz+\n",
       "M5LSJnOhVK5fzVElN1BZWPhWotq2ta83a3qzuLRWbiA54MHyvbCWhmtuPWoLxrSNMXLTkiIqBqAS\n",
       "3IFhyU2CuyHBY5WqlXMKLrfwreS5Jb7EpYfG4MoXXBCn8l5UGRWrKO1XQMm3mnv1X3/97eWf8Oc/\n",
       "o5Hu17/+3//+nr4M4tImqHbsdFlChUJUGgtwZhIMsjiVEreFSmahorKOSuZVYFSr1bZX0bFj7r2o\n",
       "hPEU1tFDjQugbVT6XiYJHBbxRfVZd2QLlcxCReUwKgpvxpwZKkPHde2dRoHIWY6BKx5dzVas4hMi\n",
       "yeUWJOl8hoYQiiXaRAVY+CBURDKvm81vj6Ii4PIli5Ks3UKFjVkJ97LbHUKVHhlejFVIhopI4i//\n",
       "ap00MAmhisZ0GxXRftegdhMV2cybkYnZ+vYwKhoseYTLIjzerKMixm5RN9K1WV6FR5usnYZ6iorI\n",
       "8ire+8xOo1/uGJxkECMki1vKUEFYfiIqva/XU7dzn+iUtrFy+e1xVFBLV6PaMCgV00VUtHIu9Gfj\n",
       "/7i8XDZpR+GpVpiUkEEKjuWopIFKtoKLKszJbVS+sRxDBTUmrDfQXMi4hgpPQ9fCIQ9m1GZi/2mB\n",
       "iX29isowG3q/o02kRoeodmcC+mhULPdxfo+KRsz3s2Lxk2uo0DYhgB9K0b8NlWR9lqNCQ8ihqevX\n",
       "U6E0TrgzPgFXvKMf5lUoInGzanfLq5BppHZKH8swvA2VZH22vVFij/hDqKTuqFU74Rgx+Zq8Ednk\n",
       "eF5AdxKFt1EB2tK2U7lcK9JPwswSyxbfWnEcFT2FiiTZT/IIKvQuKslqbRMVpi+ioimdfyKdmXdP\n",
       "PrW5CcLWbj0mkZmhewCBMkWpEQCVXPvssgLUQYqoIHW6B6+i0t1EhSUrrU1UdsuXa6gokrzM9gwq\n",
       "Dc9M6Gxvh0kHfMBei2XXSouVmhgzWX0O5zoAFXOtwN9lCMd0QxkV0n4RKra9iYpJ5sdntmGDzToH\n",
       "UGFLVAYTNM866NxjlNwuTenJyhRDI1KdFJWF9tHOVDC5EOsgZVS0Y8+gEs+IadXJxuLVo2MnUEnx\n",
       "eAKVBrfpdrgFKn7Hp5+kk/wwy1CZTMTBOl6R7rPTqv9xSd0U3ExKlmSrf44XqAAdLja0D4/gMXGb\n",
       "1kHKqIDB+kJUxjNiIW/ml1blo2PHUQFe6RGvQkDNK0eljwCx8ncyfzEVyabD+oOJeIphugKkGoUL\n",
       "A3S6rVEpq7hlZYrYCKiToDJqL8q1Q402lmtD6XalXAvqICuooLPx0CFUpjNiIb/hz4qVj44dRwXQ\n",
       "8QgqlG6hQkK7JfhC4tBbkktoImQx5ivGDwY3DlCZlBhwKnmZIjYC6syoFLQPP4uhXAvqIGuonHxn\n",
       "xjFUxjNicRBhmx0dO4+KBa18BBVF0HasEuPqP/5Uk7jO58wx1tDE9IjGSFyuojIpER5NxjvLyxSx\n",
       "EVBnRqWgfVCmci2og6yhgjh5yqtwC1ApHB07iopoxeOoQPe6RMXDLsAXdljZWAxNjGQMV4AJaIHK\n",
       "oCQNyjIx2UYznOnMqJS0z6bxQB1kFRXdiZejMp0RC6j4Gad8dOwgKrqDbDyBiobDMkNFtCGqo+ly\n",
       "aNpqOYa1k4kOpVeAGj1EJVFKNgYkZYpwiRl5BZsHxm7OtC/lVWAdZBWVle3Wq+aPvQsunhHT2NF+\n",
       "2vETYuHo2E7ObnoXXDY3PIOKhJN97lWoZX3bwYOabmREZTIRsrvJFXO2NzwQ/8/wyawkpm3AaZki\n",
       "mhVDI0S6VXhAJdc+I2O5NquDrKOCxG9eidf5Q3gCFUIROpdX0XleZTLBYK1dHzq+qI2PQ1b7G+c6\n",
       "X7sL7rvK61FRTbZz5Uy2lnW5Ceg56Ss6dacGVFH5KlRMvuXvDCoxUAcm0jwjecmZgNuomIrKq1ZA\n",
       "2aScYrNXWUayWZ2dDp9k284+LJNRJ1EhFZWHUPn9ZQ+VuEdSK9r4V7kWN05WVCoqaN4jyXhULW2c\n",
       "rKhUVBAa90gi1ve7X2OnGycrKhWV1KsMeyQZHVApbJysqFRUwm2GPZL+rRLMZ2GXGycrKhWVu1JR\n",
       "qahUVE6j4qWrqHw4Kjz08y1UNPMiKyofjooM/VzfyeUHzVNvbXL4k57T/9KrWYn9kN4yAAAAAElF\n",
       "TkSuQmCC\n",
       "\" style=\"display:inline;vertical-align:middle;\" /></a><br>(see <a class=\"ProveItLink\" href=\"../../../__pv_it/theorems/e25fd43482835bc0ed007223885acfb44847a1fc0/dependencies.ipynb\">dependencies</a>)<br>"
      ],
      "text/plain": [
       "<IPython.core.display.HTML object>"
      ]
     },
     "metadata": {},
     "output_type": "display_data"
    }
   ],
   "source": [
    "%proving elim_domain_condition"
   ]
  },
  {
   "cell_type": "code",
   "execution_count": null,
   "metadata": {},
   "outputs": [],
   "source": []
  }
 ],
 "metadata": {
  "kernelspec": {
   "display_name": "Python 3",
   "language": "python",
   "name": "python3"
  }
 },
 "nbformat": 4,
 "nbformat_minor": 0
}