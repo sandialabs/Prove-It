{
 "cells": [
  {
   "cell_type": "markdown",
   "metadata": {},
   "source": [
    "Proof of <a class=\"ProveItLink\" href=\"../../../../../../../_theory_nbs_/theory.ipynb\">proveit</a>.<a class=\"ProveItLink\" href=\"../../../../../../_theory_nbs_/theory.ipynb\">logic</a>.<a class=\"ProveItLink\" href=\"../../../../../_theory_nbs_/theory.ipynb\">sets</a>.<a class=\"ProveItLink\" href=\"../../../../_theory_nbs_/theory.ipynb\">functions</a>.<a class=\"ProveItLink\" href=\"../../theory.ipynb\">bijections</a>.<a class=\"ProveItLink\" href=\"../../theorems.ipynb#bijection_is_function\">bijection_is_function</a> theorem\n",
    "========"
   ]
  },
  {
   "cell_type": "code",
   "execution_count": 1,
   "metadata": {},
   "outputs": [],
   "source": [
    "import proveit\n",
    "theory = proveit.Theory() # the theorem's theory"
   ]
  },
  {
   "cell_type": "code",
   "execution_count": 2,
   "metadata": {},
   "outputs": [
    {
     "data": {
      "text/html": [
       "With these <a href=\"allowed_presumptions.txt\">allowed</a>/<a href=\"disallowed_presumptions.txt\">disallowed</a> theorem/theory presumptions (e.g., to avoid circular dependencies), we begin our proof of<br><strong id=\"bijection_is_function\">bijection_is_function:</strong> <a class=\"ProveItLink\" href=\"../../../__pv_it/theorems/5031f89642a5961ad67230681aba661aa8badb700/expr.ipynb\"><img src=\"data:image/png;base64,iVBORw0KGgoAAAANSUhEUgAAAVoAAABACAMAAABstU8NAAAAQlBMVEX///8AAAAAAAAAAAAAAAAA\n",
       "AAAAAAAAAAAAAAAAAAAAAAAAAAAAAAAAAAAAAAAAAAAAAAAAAAAAAAAAAAAAAAAAAACGKEuzAAAA\n",
       "FXRSTlMAq1RmmUTNIjK7EInv3Xbh+fvl1/OhCx0iAAAACXBIWXMAAA7EAAAOxAGVKw4bAAAFNUlE\n",
       "QVR42u2c6XajOBBGta+g7vSM3v9VR0iAVWIxCJPOHFQ/fBxjF+ZSfLWIGKF6436wHjWDJiIXgi6h\n",
       "5cFUY1mYGrBcRdswblrX0Da0DW2zhrahbWibNbQNbUPb0Da0DW1D29A2tA1tQ9vQNrQNbUP7/0Qr\n",
       "D7/T9f3lNajRh3wCWnf8wCwHp0TU7TB64Q6gxfMfhNahveDhLiP29ZxZa46jFYfDhWrvcTCh1ezF\n",
       "0Rwtmz0LWYf2goebzGShZ7HavzYBWuJPXImdTqHl1exFmAytmoJO6kpBuODhJmM0vzC5Ph61DPvD\n",
       "4SG9GzGw2QtludZOoC2pRHvBw13ZOf+OBVen+2BiHa2V1m/kNLdATse30gHx5KUzGVo6nuLz+j2h\n",
       "rfdwk9Lm4ODNPVw4sx210iG3dWsGYeUreIqsTr68CJpXCN1wGvvO1lcI1R5u0oP5i1Dc9Zjl+d/s\n",
       "CQIbxHYrFffrUmtwrzIvFudoWYzrXJDMSbRLD3/VREbHO7BF7mktDzSU3woQUmQS5bVzDo87m7xQ\n",
       "kaOVeHqYyHaZ3ijtQ/nCtNpBu/CwMN11nfs8RBvcLnfbkyzVgO8tdtMYix/YPAwHY8elhEc6mnsh\n",
       "HWgZho8AMQd6Q+OV4Lq9lqH0sAyk28oytUTR8ayYAu9NyhVMr6B1mrFQIbw2sR6a9xxEy0QrFwTl\n",
       "AVriwPnkCgRY0irq99AWHn4OWpjFjN6JWpMOevumVi5A8EzhHQuE2QuHURuo0AymQwKXzbDp6W6j\n",
       "Cz38ZbSZIGi8n4oyKGO267utHcEUqKZ8h2Msz4LQQ7SWZB8LiJgAhTGlDKv9GQLwcBKtzDTM7m49\n",
       "iFa/znIh8M5touX0TadbHMIotQGxAGlMQ7QyywXDrci5sEapNZjto5UdRpVoFelneNTubT2Kdi6A\n",
       "QlwUCUCQDbRyOmS90Y6Vda3oRgFIMTXHvi0mX1lQhnLA4qyFSVAX37GcfGGFqgVhhqewGJoe5YhT\n",
       "y62H0ap+PYvFGNHcLNEa7X1ERIYnq+WXBQeI59kMgbLS882hoitLlvQW7tWloeIxtGliFYcrL305\n",
       "jxbNA1i23Mit3m50L5SByYvs0RbaUXGG6svYRNnELPZGEC6jdWLInQGtQXyQK83TK1Vo05CE4LXr\n",
       "/81Q8SLa12CoRMuiZBrmQ50RZ3FUeDs0DAShb4lahmg4j+C1CrRID7vrtRHoe9Fms7/9Sea7U16L\n",
       "FrJSrptHZkZTNQzrqeOLrU4eRxsLWOqY/Ga0Wh5Dy00lWsMY3UEL+ugT8yy22nqvoh1mWIehfGRt\n",
       "LLYp+dnfRft2NWYLrabpn8mUw1rzBVpb+S9V/WrrrTD6kXbPsuNYujGm1qK26KNPhK1ea72fhJbg\n",
       "pI6OrgtC0UefuezGxgy03o+K2tTrwVHIC+3URxsRp0m/fn8F+5Oe/pmHTL/+GR7//fqat75GT7D1\n",
       "fhRaxvKevEBb9tGn9pdGT7D1fhRaHaFSoaMRiLbso8/MuMYODbbej0Kbaitl16J20UefsMkHbL2f\n",
       "hNaMMQmGgSOWrI+urmuL1vtJaNWopDJfTkto8z76fL8zrvoXrfeT0M43kBg7aC1/P0O4ZM9Bq8nq\n",
       "5LahvY7WOoeuo7UN7ensfsxoQ/s5tGnNxmhGKF5fx2lo69BOazZcxLeureM0tHVoxzUbxAOnULPl\n",
       "6zgN7cWoHddsOEtoV9ZxGtpKrU1rNsMNlTy0Wct1nIb2QxVCq2sb2hvRHv65ykeh/cDPVRp++Ocq\n",
       "H4U2/lwlN992Iu+6K9z/UEFA6D+g+Tbzs8NnfgAAAABJRU5ErkJggg==\n",
       "\" style=\"display:inline;vertical-align:middle;\" /></a><br>(see <a class=\"ProveItLink\" href=\"../../../__pv_it/theorems/85f2c13e721cd7b8b7e3ae2e8da7c0d3cc180e160/dependencies.ipynb\">dependencies</a>)<br>"
      ],
      "text/plain": [
       "<IPython.core.display.HTML object>"
      ]
     },
     "metadata": {},
     "output_type": "display_data"
    }
   ],
   "source": [
    "%proving bijection_is_function"
   ]
  },
  {
   "cell_type": "code",
   "execution_count": null,
   "metadata": {},
   "outputs": [],
   "source": []
  }
 ],
 "metadata": {
  "kernelspec": {
   "display_name": "Python 3",
   "language": "python",
   "name": "python3"
  }
 },
 "nbformat": 4,
 "nbformat_minor": 0
}