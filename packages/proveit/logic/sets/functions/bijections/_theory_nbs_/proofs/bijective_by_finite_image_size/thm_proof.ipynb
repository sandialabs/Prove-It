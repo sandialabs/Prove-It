{
 "cells": [
  {
   "cell_type": "markdown",
   "metadata": {},
   "source": [
    "Proof of <a class=\"ProveItLink\" href=\"../../../../../../../_theory_nbs_/theory.ipynb\">proveit</a>.<a class=\"ProveItLink\" href=\"../../../../../../_theory_nbs_/theory.ipynb\">logic</a>.<a class=\"ProveItLink\" href=\"../../../../../_theory_nbs_/theory.ipynb\">sets</a>.<a class=\"ProveItLink\" href=\"../../../../_theory_nbs_/theory.ipynb\">functions</a>.<a class=\"ProveItLink\" href=\"../../theory.ipynb\">bijections</a>.<a class=\"ProveItLink\" href=\"../../theorems.ipynb#bijective_by_finite_image_size\">bijective_by_finite_image_size</a> theorem\n",
    "========"
   ]
  },
  {
   "cell_type": "code",
   "execution_count": 1,
   "metadata": {},
   "outputs": [],
   "source": [
    "import proveit\n",
    "theory = proveit.Theory() # the theorem's theory"
   ]
  },
  {
   "cell_type": "code",
   "execution_count": 2,
   "metadata": {},
   "outputs": [
    {
     "data": {
      "text/html": [
       "With these <a href=\"allowed_presumptions.txt\">allowed</a>/<a href=\"disallowed_presumptions.txt\">disallowed</a> theorem/theory presumptions (e.g., to avoid circular dependencies), we begin our proof of<br><strong id=\"bijective_by_finite_image_size\">bijective_by_finite_image_size:</strong> <a class=\"ProveItLink\" href=\"../../../__pv_it/theorems/9ec505d55151c2022c41c4cd8a550c8265fde8a80/expr.ipynb\"><img src=\"data:image/png;base64,iVBORw0KGgoAAAANSUhEUgAAAf8AAAAmCAMAAAD9aWLfAAAAQlBMVEX///8AAAAAAAAAAAAAAAAA\n",
       "AAAAAAAAAAAAAAAAAAAAAAAAAAAAAAAAAAAAAAAAAAAAAAAAAAAAAAAAAAAAAAAAAACGKEuzAAAA\n",
       "FXRSTlMAq1RmmUTNIjK7EInv3Xbh+fvl1/OhCx0iAAAACXBIWXMAAA7EAAAOxAGVKw4bAAAG3ElE\n",
       "QVR42u2c6bacKBCAkX1RMskM7/+qIypKsdra5tzcND9yOoDF8lFQVeJF6HrCbk4EffNE8Z8+I9T3\n",
       "SvtfmutC7mX+A/r+iQ7fYkbGlbScdCH3w7+aCH/vjGggkHZrvJk/IsOH/wtJvjZD3RmR1k7Rf6du\n",
       "jXfzRwp/+J9P3Lx7RnBE1469Gu/nr2PmH/49e04/yJ8Nzpi5AUus0b+LPzBoPvzbaTLoSf2Xi/4r\n",
       "Nmvl9Nv4Cyc+/E+e/q/6R1f4S7csAnuFP7vAHynz4X8uDQo9w1/NrrfZ+JNlExjolvcSfxstAJEX\n",
       "iyJ/Mn74n0svh3LSGRG8p/+arPrPL+m/PhaoxXm7zJZIC4ej3KPH+Npobwj48ts/1ClqjH6NP3dN\n",
       "/tohKRGfcYiIT4N/1gM5bF3EptSuJSVNn2iUS/cthItL/G8I+OKJQHpmkCN+iT92KX9huDOHVhrq\n",
       "sRlrqajUKPXAqCO5aXlS83K7e7w35k95xF+GLotXD7tttDcEfPXjH+7eI2bqNf2ng3urSuQ9sJva\n",
       "U1Jul9ACf+viXSEsEYOv8b8h4IunEdBkqTNg1TQnXudvhHHycus2WzpZD5AI7Y21dgP3mD8GpWRb\n",
       "Oq9HnbfRXhfw1c0/cKYaeCwzbnVb/4WdNe26TuDs5YDJDINwbGBea5eTnL/cS5fc0S/jaTRX+V8X\n",
       "8AeZ/2QYp4HGFrbu7f/Ua9oNkzihnfZgOfZ3u7DWrhly/novXXLpshsofZl/RwDMp5XfJfkCiLDV\n",
       "p2jaGD1T1EsCKq8DRlnZ1o35M+w17YZS4NSecrZWlZNau+FlIvD0d0FL7nKIiKovLyZqmI8aDLXR\n",
       "JgI0BdaIHsEZqAq/kydC11kiguYS0pytpjpT1Hf/gEsNj3Letf/o8tCdEImFKiXqxsSEa+3iscTf\n",
       "AOvAN2PyUKK0g/Kx6XlQ3uukujpaKEARFnfUQDUq8QdP4E2QHlIRzHT5bzXVmaJeYo4BnwrMzXrm\n",
       "zUlV+FtF6WyHR+uP++o//vnp06/l568gZPrxr//3v5974ZJcowfQUmW1dqUr8YdeAbal9UypDGEd\n",
       "6xeVqa92KABaqUyOtscfPrGtpCOusItYz9wG/1BTnSl6Tf+h8aVVR//12mN3510O46xt/hX4p+2y\n",
       "sc9/Zkfs5i4SaS2FoSMsMZttygb/Q4DPHIEjaBEf2vy3JzDdklrNkykXYXCHf6ipzhSFY+YYc4u/\n",
       "GlrGWTYjm7xpvBF+TExMVT9Ljv0/bTcEExvnv5/XtSlN2DjP/SjAAsdy3v8xa/EPApb5BDNs43BT\n",
       "Rf/hE2jQq4Gdi1hdIl+b7gEwEsnca+b8QVH8dDTmzP6LjRK4iyFrm/wZqQaAT6fUxByr5t/x9jBr\n",
       "N8wt5E8gf7HZdkJbvm3HjMT852VlVYO/iIxDSsHun95yKfAHTwSzj6lcxJpX1f+jpjpThNIxp35L\n",
       "bG8LlxhIHDf4izBkdT0AmPr/WQ9AYLjWbvAMY/4C+v9e5YL5NdjtyCB8VRC88temYCFE1s5w2G8q\n",
       "1hpqjBnA3Bb4K9JSpUiEbPM/aqozRSgdc3aq0obxpQfFKhaxVs4t+yH2P656gCax9hvmH5JTrd2J\n",
       "leI/rBAVXjPkoo4SSQP0f/YqbS/aHYmItu7UbynwH0t+jVS5iPb+H9VM+SdF8Ol9zNkGrOKQem6e\n",
       "GdWO/743NS+iT7LmvKNS/FdX+Au3yPLED99z3ZDtcI6/XoRrE51G0I7KfuvyLZsJZSKsbeh/XFPt\n",
       "XSgW1caczvh4DJSfCuQ+xr/XA1IJa1FSIH04Eil/5vtvjX9IKBn2ltUQOcl/vdO2vKeki1WgqYv9\n",
       "mJy/LNvISqBUxJJV4Q9qqtCFclFtzOmkhoU5Kc3Rk/y7QcluD1TRzjheycakD0eidf9HL6+Z2auj\n",
       "DSuxtlpz/pW1mzscm0+imjJjx7JedCrpsHGR6P38I/y7UYJuD8oBiWNVxKQdOcP/0mgV3ixBpk/y\n",
       "35/IlUKUM87yZ/omf6To/Rk5Fegd0e0kCt6hLd70ZU48xt8Ev7j63ivlb2zVrU3uOoX3AWf5E3SX\n",
       "Pxmf4b9e+Ndqtjq8WVX5DuCtKSJtOHqM/4l1Wvld3NSK/xNNmUmG6NZtHgDsiRkJF/4XP9ybdeXv\n",
       "AJ7iH11i+9z/7fjg/IEZ2S/8C29f+tBd+TuAh/jHh82Hf2/a5PtnJFz4Xz3PwSbfATzNP77D+uHf\n",
       "Y8Wf0n9uAf/CdwDP8LccffifT5y8f0bChf+Fv9/wy98BPMJfgBddH/5dE3AS75+R9cK/Hhydd30f\n",
       "lCp8B/AMfz1h9D7+f8Pf/ylf9PyjZiT6Sz/Rq7b7f//n70hCfp+x6Myf/R8kZkTd8NimAAAAAABJ\n",
       "RU5ErkJggg==\n",
       "\" style=\"display:inline;vertical-align:middle;\" /></a><br>(see <a class=\"ProveItLink\" href=\"../../../__pv_it/theorems/7acc36530ed493a7c1c36e37e7038879c02dcef20/dependencies.ipynb\">dependencies</a>)<br>"
      ],
      "text/plain": [
       "<IPython.core.display.HTML object>"
      ]
     },
     "metadata": {},
     "output_type": "display_data"
    }
   ],
   "source": [
    "%proving bijective_by_finite_image_size"
   ]
  },
  {
   "cell_type": "code",
   "execution_count": null,
   "metadata": {},
   "outputs": [],
   "source": []
  }
 ],
 "metadata": {
  "kernelspec": {
   "display_name": "Python 3",
   "language": "python",
   "name": "python3"
  }
 },
 "nbformat": 4,
 "nbformat_minor": 0
}