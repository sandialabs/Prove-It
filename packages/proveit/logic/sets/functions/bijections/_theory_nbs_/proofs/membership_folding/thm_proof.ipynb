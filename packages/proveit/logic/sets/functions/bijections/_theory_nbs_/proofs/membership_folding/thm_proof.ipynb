{
 "cells": [
  {
   "cell_type": "markdown",
   "metadata": {},
   "source": [
    "Proof of <a class=\"ProveItLink\" href=\"../../../../../../../_theory_nbs_/theory.ipynb\">proveit</a>.<a class=\"ProveItLink\" href=\"../../../../../../_theory_nbs_/theory.ipynb\">logic</a>.<a class=\"ProveItLink\" href=\"../../../../../_theory_nbs_/theory.ipynb\">sets</a>.<a class=\"ProveItLink\" href=\"../../../../_theory_nbs_/theory.ipynb\">functions</a>.<a class=\"ProveItLink\" href=\"../../theory.ipynb\">bijections</a>.<a class=\"ProveItLink\" href=\"../../theorems.ipynb#membership_folding\">membership_folding</a> theorem\n",
    "========"
   ]
  },
  {
   "cell_type": "code",
   "execution_count": 1,
   "metadata": {},
   "outputs": [],
   "source": [
    "import proveit\n",
    "theory = proveit.Theory() # the theorem's theory"
   ]
  },
  {
   "cell_type": "code",
   "execution_count": 2,
   "metadata": {},
   "outputs": [
    {
     "data": {
      "text/html": [
       "With these <a href=\"allowed_presumptions.txt\">allowed</a>/<a href=\"disallowed_presumptions.txt\">disallowed</a> theorem/theory presumptions (e.g., to avoid circular dependencies), we begin our proof of<br><strong id=\"membership_folding\">membership_folding:</strong> <a class=\"ProveItLink\" href=\"../../../__pv_it/theorems/af27e184e402c6922c80c47b9e2e99073975aa310/expr.ipynb\"><img src=\"data:image/png;base64,iVBORw0KGgoAAAANSUhEUgAAAg4AAABACAMAAABFqA8+AAAAQlBMVEX///8AAAAAAAAAAAAAAAAA\n",
       "AAAAAAAAAAAAAAAAAAAAAAAAAAAAAAAAAAAAAAAAAAAAAAAAAAAAAAAAAAAAAAAAAACGKEuzAAAA\n",
       "FXRSTlMAq1RmmUTNIjK7EInv3Xbh+fvl1/OhCx0iAAAACXBIWXMAAA7EAAAOxAGVKw4bAAAHlUlE\n",
       "QVR42u2da5urKAyARe6gnD2zy///qysiFhDxSjttyYeZPq3FaF5CEsA2zXnB2kjfVHl/IaMt2+YS\n",
       "DngQVu/lBwgzpryKQ72NHyVdxaFKxaFKxaFKxaFKxaFKxaFKxaFKxaFKxaFKxeG9BR25u62ZM4DP\n",
       "0MqcSJhXgoiKw/NoAEeObsEz3YDlgPWi4vAkgaS5FwcRtIg2j9jGoYGg4vAcYZ24FwemlL+WoN88\n",
       "YgcODW8rDk8RIpubvUPTesZW3dYRu3AQAbQVh1LSalESBwy0lMMZFFRSXMAhDHAqDqWkl01R78BG\n",
       "78Dx0MH7KzhQTSsO5SOHo87hFA5sNABXF3BouKw4FBfAm0I4cK21nHCAo4sAaHrvFA6wqzgUl+MF\n",
       "pQgHSja9g4DWO5BL3oF6CyQHHB5atPAcDhda+NyxgoZvICnFIRyIzuMgdMNYQwZTUs+2KzjAwX2A\n",
       "QQhnCxyaHvk4IDxrQM/hcKGFTxUYGVMCtuWIQxxavcCBSqLlwxFIZIYHqRSiK0cE7sAOXkCzBQ6I\n",
       "+DgwpwY9PNxNOFxo4WNDh8jVdy3mh7wDAvrOrkW1miyGFjgoHcQObh5DtidxuNDCp0oHohsVsaB4\n",
       "PwhZxUFSqS/sX1F04a3Y9F8tcGgfZzI4wGnAJ81ZHM638LGRZFh1kOGQjokSWe9A1dBnL/StNp7Q\n",
       "AK7jdnSBA3ucaRzQOkNq38nTOJxv4SsSCwi6HiA/aRAbgwUyffZKWN4nQwcB+kQoKR5nGnFA4zH+\n",
       "2CYO4rBs4buFRl1bB/FdOuD2cMCt6bNXOlfLo0SHK6UAgYlE09duxIEC98fR0HnjFuN6yJIQZxkc\n",
       "Fi0shHddp+6/73Jo9ug6gTtVWTk/C3GgYRxAtkJJNH7n0voHFfRNZePStoNJHGRYhjJfldi7yOBq\n",
       "4Oh5UjNojzJU3MJCyqWg7Ohtu1mV1PmxxmHWGHzBDq2D8DQOiiM0ZBbep4KYw//889fIz/jyxzXS\n",
       "//nX/P3v7/zhKNpXgXfOsCyFAwpxaFWALGZB77HDHtQ5HKIWvh2HyDuEkaTgee8g7M2/9qAETHwg\n",
       "nadxiUUeh8GS0ANANWQx6yl6mMMhaqHiEODAQTbOi3CYjNN3V5QKolXmgkXgXEYudjAFA+/rKihU\n",
       "mQoGhAiwJotD0MJBG1BvnJPZT98FBxqmBVGoolQOB+yy9isTQuE1TqHDgAVJxg4wwoF68ZB5fIcf\n",
       "KIyhgwAojwPdiOgyNmDtYwEnlLlP3wYHEaQSVEdRFWnXcaDu1vMLZcmo7kBsm7ibu6yPA43qDsaL\n",
       "PDr/kEZI4FXRLAiLS4pwaAA7b4PZ4AwQU1BjqlVs+en74NB0aDWSHDsXxyKJg+BajzZrzYvTqab0\n",
       "jQHm+Stv6jIoQ+EYBz9wiDIjewjWLI/DFRs8DN7KMY5uHoXv98SB+OFiYoE9ljxbpC4tYZFarOIw\n",
       "jVzGfwhpyRBjJLkxWFzGQRETvw44iAabe8mxfec9cUCdZ2Wyq9z8Mhy8vCfGAY0hgEB6yFPGKVlI\n",
       "tDRFqOQVFfAOqIF28V//1t4Bzj2u52LfVM7LcPDynvwk/BbVZ3EI7ctUN0+FCg6HQQkrqPDiU0X3\n",
       "mANdUSVf6KP7cRBzeAa99QhFcEBXcfCyoCwOWJzEQSAEMzYIauAnwuWwbB6Zg29pclqVR7geKJD2\n",
       "Tvywlc7i0F/EAXsZTBaHzSm1NRw4tA+bZApwjhc2kCfnbvsg93XZcBYHp8ktqvRNSoE0DrB7Eg6q\n",
       "u4iD9MayMktnp4ETIZbqklEN/MAN40HuC/U2Dm4Iv0WVxzShr0AaB6FxGRzsPhvBe9YqsLr95gAO\n",
       "PgIlcGiBHe0VTHvoqAZ+pCdMBcqgbJ7BwWlylyrzNKGvwEooK0kRHNw+m7F2ZFKW9Pab/TgE3qWI\n",
       "d4B2rQVPD9iuBm5n6aZpup/+wDRdWDbPeQeryQlV8tOEgQJrmc3RAGkXDvM+mzH/N/tt0ttv9uMQ\n",
       "EFAEB4S8CkZsg7gGfuh8dpouLJvncLCa3KaKmyYMFFjD4eB+/n04uH02Aw7mv4q23xzHQQVaFsGB\n",
       "Q3s7+ChtaIO4Bn4kw58qlWHZPIeD1eQuVeZpwkCB1boHgaW8A1EBDontN3txoB0tjoN1k0ymuuSi\n",
       "Bn6ifhSWzXM4TA77JlVmjgIFVnEQPb0dh3mfzYiDGR3S22924iD60P4lcBBThwsmpqdb6dXAT9cd\n",
       "orJ5BgenyT2qzHWHUIH1qiglR5zgzmdD2X02Amg0DBFm8Epsv9moW83PhnLesygObBqOqb+80trA\n",
       "r4EflmmaLi6bZ3BwmtyjipsmjBTIFMnpL/+pDxFfegkcoOtFQpoBe1n7uVcyOMyalFSFgeZj5H4c\n",
       "eJtc+fACHFY0qTg8EweZXvr1AhxWNDmgiqw43JBZvBQHep8qsOLw9jhcUcUuyhMcteZ5i8mVehWH\n",
       "r8HBLcrDxB6UWqlXcfgaHKZFeQ0eWjSZqb9Sr+Lwfd5hWpSH0YRDYqVexeF7Yge7KM9se8em5Lhc\n",
       "qVdx+CYcat2h4lBxuA+H3T/JXnH45XLDT7ILvPsn2SsOv1zGn2TH4mnwlXr6y+GnpNypypnz/2r5\n",
       "H1fdVgkaM23zAAAAAElFTkSuQmCC\n",
       "\" style=\"display:inline;vertical-align:middle;\" /></a><br>(see <a class=\"ProveItLink\" href=\"../../../__pv_it/theorems/12fe348e52c947d02ca461484821b4f45de3a11c0/dependencies.ipynb\">dependencies</a>)<br>"
      ],
      "text/plain": [
       "<IPython.core.display.HTML object>"
      ]
     },
     "metadata": {},
     "output_type": "display_data"
    },
    {
     "name": "stdout",
     "output_type": "stream",
     "text": [
      "membership_folding may now be readily provable (assuming required theorems are usable).  Simply execute \"%qed\".\n"
     ]
    }
   ],
   "source": [
    "%proving membership_folding"
   ]
  },
  {
   "cell_type": "code",
   "execution_count": null,
   "metadata": {},
   "outputs": [],
   "source": []
  }
 ],
 "metadata": {
  "kernelspec": {
   "display_name": "Python 3",
   "language": "python",
   "name": "python3"
  }
 },
 "nbformat": 4,
 "nbformat_minor": 0
}