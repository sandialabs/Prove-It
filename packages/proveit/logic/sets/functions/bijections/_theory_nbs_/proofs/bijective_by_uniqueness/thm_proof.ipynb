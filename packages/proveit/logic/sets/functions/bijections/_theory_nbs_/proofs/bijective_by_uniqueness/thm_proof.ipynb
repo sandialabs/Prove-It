{
 "cells": [
  {
   "cell_type": "markdown",
   "metadata": {},
   "source": [
    "Proof of <a class=\"ProveItLink\" href=\"../../../../../../../_theory_nbs_/theory.ipynb\">proveit</a>.<a class=\"ProveItLink\" href=\"../../../../../../_theory_nbs_/theory.ipynb\">logic</a>.<a class=\"ProveItLink\" href=\"../../../../../_theory_nbs_/theory.ipynb\">sets</a>.<a class=\"ProveItLink\" href=\"../../../../_theory_nbs_/theory.ipynb\">functions</a>.<a class=\"ProveItLink\" href=\"../../theory.ipynb\">bijections</a>.<a class=\"ProveItLink\" href=\"../../theorems.ipynb#bijective_by_uniqueness\">bijective_by_uniqueness</a> theorem\n",
    "========"
   ]
  },
  {
   "cell_type": "code",
   "execution_count": 1,
   "metadata": {},
   "outputs": [],
   "source": [
    "import proveit\n",
    "theory = proveit.Theory() # the theorem's theory"
   ]
  },
  {
   "cell_type": "code",
   "execution_count": 2,
   "metadata": {},
   "outputs": [
    {
     "data": {
      "text/html": [
       "With these <a href=\"allowed_presumptions.txt\">allowed</a>/<a href=\"disallowed_presumptions.txt\">disallowed</a> theorem/theory presumptions (e.g., to avoid circular dependencies), we begin our proof of<br><strong id=\"bijective_by_uniqueness\">bijective_by_uniqueness:</strong> <a class=\"ProveItLink\" href=\"../../../__pv_it/theorems/75ace9e778082f7622baa877b58ff6643fc51c260/expr.ipynb\"><img src=\"data:image/png;base64,iVBORw0KGgoAAAANSUhEUgAAAlYAAAAmCAMAAAAxxiXFAAAAUVBMVEX///8AAAAAAAAAAAAAAAAA\n",
       "AAAAAAAAAAAAAAAAAAAAAAAAAAAAAAAAAAAAAAAAAAAAAAAAAAAAAAAAAAAAAAAAAAAAAAAAAAAA\n",
       "AAAAAAAAAAAsiKZwAAAAGnRSTlMAq1RmmUTNIjK7EInv3Xbt5cnn9enz4fn719+hSDwAAAAJcEhZ\n",
       "cwAADsQAAA7EAZUrDhsAAAkHSURBVHja7VyJtqyoDpVJmaS733s9PP//Q1tUNEDAufr2uuVa93rk\n",
       "1NkhYRuSANU0Ny5Om+/1st3oMF7sx1PBd0uPP+hWb63Rw2Vo8mXI63ajP66R7cQh2QMqRQ/XLtZ+\n",
       "GfK+3X54WjUM9pDd7a60+kuR9+22Tysd8ZTvfuJpWjUKzunqZmDUmi9FPmC3XVpJ53rw2O9+4nFa\n",
       "afii6Hvehg5fZ/UJux2YBCkgjbN7n3ieVnGweC/i7r/O6iN2O0crQQZjxtF2zBn9MVp1Q7e1Rg+n\n",
       "I4TtpSN933c/L0/cqD69YrdXvJWcvJUS42zUf4xWjYLvirrhcIjagoV/fGS7Y+3dM/hd1srYFbu9\n",
       "Rys5TMPrrtBK7Fisw2jF4NTL7PWRBBW6f5xWjh5rF64AwPUZ/ACzwZ2g1enKZkqrrsVppYZhMAut\n",
       "5oElfGk7RSsnCoovgoERN1p1A4Wz4Piw9Zqe0FiCCXQSdw3mmSAYOF1utpCCZs7Y4V2TuQep4gSY\n",
       "Fe44rWQSeEA5x2jVDnveSrPZW7XHvFXSBa0aXPEgeDMiyPl6WNfwD3xlZ3tikmBAuYlW12CeuDR4\n",
       "fQ2RliLta9/QMVQybdnBCTDhfpxWbCjKOUYrOtRppYdGyqYdQTsw6hVaZV2QpMMU3wSvRgQCeFQ6\n",
       "az1K8F1nZn3SJrS6BvPExcGYWiqURtrXUcWKhTKPXnZwAsx6Z1fslsg5RitO0kSrM+1gNsdkuPcx\n",
       "xjneFT6BqWrUdg1LAhYrvglejQho5SDZp4dAPnOmPGpJQqtrMI/kIyDqgWmWrScvwFll7nUXJ8CE\n",
       "5QucVghjLCnKmQZEjWll35ZpZTozyOtBaD6RZF1onMEUh4IT7WdfJpv4IdjkVOQ9mJRWl2CeiKzg\n",
       "HNjj7aCvOQFE7qx2cQLMcmeHY7bBlOT4nrRO171V50ZXcP29pbyq6iyCYIpHgoP2gFYS9mp+sP4N\n",
       "6e2pagNMaBbxV2CemANXgYzYnvC0XTtHtDSLEzU5h7JYEMXRbpoTNIlglntpEmSmZrdYjk+19N4k\n",
       "yL0ruJES9VVVZxFdZthUcNAe0ErDXs0PXBY8dqWQA8m50OoCzBMX9D+Dy9tHgzjiGj5bFKy58uk1\n",
       "6P/zX/9/zDYExzTUbiF3gGFtRqsFdr4GXrFbLKeU60BaCepdwY0Xl2b+c0hjLo0ZNhYctIcRRYQz\n",
       "PUxurytX3TSWJ+e02oPZRebHPwpfQAoGTWbtrPNc0A2ZjUTtrrNCcSSdiblUMwPMci+H7LSlRbvF\n",
       "ckrhA6QVn/7ozpqbS177rhypwaWDWHDQPqKVyaZ6L8qsBQLN4xRAW4kEeiI3RwxzhFUxci2FLONa\n",
       "AULFvF3G2a9M03OBkBnBGVWz/hW0LoJZ7pVMULegg7HdYjmNtMHHqQKtnOJ8TMgUAPcf/+PPv/z1\n",
       "6/Tz/1dP+cefvuX3v7ZfTv4z6kHShZJhE8FB+4hW0I7zA3XwVVFMRKNtkBgR81YJDB7EOqKUKCBX\n",
       "aFVxgkD7KPwE7XZz0MLuOyscZ0qZ5PJyBxix56261nRFbxWHy1rteCs9qzHcWd8TrahH7JgBU8HC\n",
       "HqLVSAa2WT7JOIW07hitYhg0vOayglyhFSmXWIGvVgRtF77gonVaF5yCoP/9Pr/EEW1RnMnlhW0n\n",
       "AWa5F2OrPmFtTCtFqvF0Sqtl4PobS24yzQoUOWDYVHDQvh5b+VrTKo4SG1eeXNMSJPpgCK02GF+M\n",
       "W+txwnkAkq2dpMiQVhFAI0wMFP2Vw7xSaNejbyR2CrlnAiTcRZMvBGcZgDAKAWa5l7yVUDW7Ncn7\n",
       "6lyVViIUNYYb+U1XU7Vg2Exw0D6iFcvz3Q5U6RLDu6QwH1JIh9BqhXGdj22XaHV0oaMD9GtVO8gq\n",
       "qtvNAHyq+/4y/mMbUOzGyTZmImung9TczqlMljWjhRwcZ96dJoLxAsxyL9AqXxWO7BbL8YakFVp1\n",
       "QW91fT9Tpm7WBUTxXHDQHtAqX2ueJhkJJqp4CsQ3HFqOZTABhk1cXx467Z2mUyvrS8iAVhFA8HIr\n",
       "UOzX+0IE3M/5x+gDKGdB6V7sOysMx1esjOPBsAFmuZeq7LJqtyxc1kQJjdNKq2GYOkv9D1dLDEZW\n",
       "VcUMiwkO2kflUNHgD2vEHhcbjSHIzrNW7STG8JUiY2+Ia1g7rznRArIqAGxebgFKYoBgq2S3a4+k\n",
       "zl0cv1B0fMo4po1hwr3krZqq3ZDducKo+uLN07XkGnhfqD2sRowWb+BeVIQwUdLvSrUNbuu08lPV\n",
       "alXP7hFWmjqyQgD8JPjrb2qaBFegpFLMF+sncwi2rJwsG7foWgmK4xmlw1J/gAn340vNq91yOaWJ\n",
       "6zVa7XWBFQqJqxEBraKMEkkv9cw0bUCwhlQYGCBkRqtxNvajwAPMSHsxxBV4DFkhAE20wSAAJf7V\n",
       "87dX2QaWfAk52V3BEGdVwund7CwhzAp3ZmOMLsr5NK12u6DQIG4zIqBVlFEi6eUSEU97cPgUgms+\n",
       "tCJnH614K+6EcX7ZdN7KM8Y2qp06tM5XGLJCAGIyBqCkL/4PGdgIUiwEJXbCTuCWcOj4C5HArHDH\n",
       "abXaDZHzMK34LsX3uoBX0jYjAlphiSDq+XY8tOL12KrZYHQXIjY9bespJR+FcuAWS21AyftTyJLT\n",
       "9nRfyNEdJglOgNngTmw6VvwkOy7T6oFTEZhhgRE3WgkYSossVVU0JHNiZ8kY7IOv0crDjEG2OOLw\n",
       "cVqBvzwK9PHrBK1Onx+4SitnX1d7o5WBw2KyMTJrSW7PUHpLImsjzaY4yh3KiFFaUbiidhDoR6aV\n",
       "HsQ7tJpPBmrVS+qrxoUDgy/RKtq2bO9s5Nw42T50TvBfetbQ9b1lV+z2KK3CycCpFOkTPPzA4Du0\n",
       "ijzjTTdpZfO93rfbMVqtJwM7n2r6dRf8wOA7tHrOWX2/h+hDdjtGq3AycKTVHITGBwbfpZWDGrm7\n",
       "tGjZlyPv2+2Mt2pdRCvkwOAbtOos/AYGezeW0T/zNy98zG4HY6twMnCilZ/18AODL9BKw22kur9/\n",
       "8Kprv99F9Lrdjn536HwyUJOBj1OfrzIjBwYfvNbvDo0rieqJGaz7Ru0/vd20wB7+Btv2WInwTuQ3\n",
       "AAAAAElFTkSuQmCC\n",
       "\" style=\"display:inline;vertical-align:middle;\" /></a><br>(see <a class=\"ProveItLink\" href=\"../../../__pv_it/theorems/59385d7c94c4bac9681704b84a7c3ac3d1845b580/dependencies.ipynb\">dependencies</a>)<br>"
      ],
      "text/plain": [
       "<IPython.core.display.HTML object>"
      ]
     },
     "metadata": {},
     "output_type": "display_data"
    }
   ],
   "source": [
    "%proving bijective_by_uniqueness"
   ]
  },
  {
   "cell_type": "code",
   "execution_count": null,
   "metadata": {},
   "outputs": [],
   "source": []
  }
 ],
 "metadata": {
  "kernelspec": {
   "display_name": "Python 3",
   "language": "python",
   "name": "python3"
  }
 },
 "nbformat": 4,
 "nbformat_minor": 0
}