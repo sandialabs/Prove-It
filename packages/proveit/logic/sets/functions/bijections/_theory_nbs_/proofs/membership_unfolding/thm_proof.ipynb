{
 "cells": [
  {
   "cell_type": "markdown",
   "metadata": {},
   "source": [
    "Proof of <a class=\"ProveItLink\" href=\"../../../../../../../_theory_nbs_/theory.ipynb\">proveit</a>.<a class=\"ProveItLink\" href=\"../../../../../../_theory_nbs_/theory.ipynb\">logic</a>.<a class=\"ProveItLink\" href=\"../../../../../_theory_nbs_/theory.ipynb\">sets</a>.<a class=\"ProveItLink\" href=\"../../../../_theory_nbs_/theory.ipynb\">functions</a>.<a class=\"ProveItLink\" href=\"../../theory.ipynb\">bijections</a>.<a class=\"ProveItLink\" href=\"../../theorems.ipynb#membership_unfolding\">membership_unfolding</a> theorem\n",
    "========"
   ]
  },
  {
   "cell_type": "code",
   "execution_count": 1,
   "metadata": {},
   "outputs": [],
   "source": [
    "import proveit\n",
    "theory = proveit.Theory() # the theorem's theory"
   ]
  },
  {
   "cell_type": "code",
   "execution_count": 2,
   "metadata": {},
   "outputs": [
    {
     "data": {
      "text/html": [
       "With these <a href=\"allowed_presumptions.txt\">allowed</a>/<a href=\"disallowed_presumptions.txt\">disallowed</a> theorem/theory presumptions (e.g., to avoid circular dependencies), we begin our proof of<br><strong id=\"membership_unfolding\">membership_unfolding:</strong> <a class=\"ProveItLink\" href=\"../../../__pv_it/theorems/9f71333ecb584b673da531a84e2d67ce5bb524fc0/expr.ipynb\"><img src=\"data:image/png;base64,iVBORw0KGgoAAAANSUhEUgAAAmgAAABACAMAAACZUXsJAAAAQlBMVEX///8AAAAAAAAAAAAAAAAA\n",
       "AAAAAAAAAAAAAAAAAAAAAAAAAAAAAAAAAAAAAAAAAAAAAAAAAAAAAAAAAAAAAAAAAACGKEuzAAAA\n",
       "FXRSTlMAq1RmmUTNIjK7EInv3Xbh+fvl1/OhCx0iAAAACXBIWXMAAA7EAAAOxAGVKw4bAAAIz0lE\n",
       "QVR42u2d6bqkKBKGRXZQuqtnuP9bHXFJAUEB5Rw7h/hRFU9mFukHL0GwZXVdsWFtbOyaNTsxMmPS\n",
       "d3dAw5OxVpXNzowZSm6C1mqxWZoNDbRmDbRmDbQGWrMGWrMGWrMGWgOtWQOtWQOtWbMGWrMGWrMG\n",
       "2peAhvqwf2W92QWGP/KE5puE8QQRZcJ+WUxYwUHNV4OGQNi/bhvwo519aRM2ihJhbxATUOCr+WbQ\n",
       "IAn7j7SNcEpEl5+4bqYOggJhbwLNUeCp+WLQ2CCC/iNtw5Syz+GNl59IaKaO99nC3gWao8BV88Wg\n",
       "ERn2H2qb3sJIDVefSGomkUZQBTFPgWYrcNV8L2i9FkG/AmgYaCmnb1BQSXEDtLTcq4aYp0CLp8Xf\n",
       "C9oow36NiMbmiMbx1I3HO6BRTfOEvQ40W4Gj5mtBY1a/Z5kxoAw0NtcGVzdA67jMEvY+0BwFtv+1\n",
       "oAEe9p8FjWut5QoanMMaQOtrRaDBIUvYC0GzFdj+14JmL1FmL1f6bUPJZUQTcIlo5FZEo9d3OKqI\n",
       "eQ40W4HtT6Dtz9HDMtDKS6g4ctKgv2SpUoqstiH6HDShO8Y6MlUrteo8AhqcQh6YjHB2aKZuRBnC\n",
       "krQkicmzZAWWP4GG8OcRaBlo5SVUM6jDvjEJ2EUg99qm14e2oZJouQcvicxgKZVCNPIJJwAsox/Q\n",
       "7NBMyA83so8LS9KSIKYghKUpsPzpKdn2IDR39N9AKy+hXopGwv6iGfOsiIaAfrIDUa3W6kOHZlIe\n",
       "BWIkcWFJWmqISVVg+aY7bPufsi8ErbyEeukpCPvzU3sto/g4GYm2jaRSl9+SVvQYbdn6tzo0U+99\n",
       "k4IAR4UFtFQRc5CQqsDyDWhwTayyk8QPaMUl1JsLyLBvqtpNnTBR4jQIUDX1zPIe1B+yLrBWGxno\n",
       "oZmY901jx3hU2EFLJTEHCakKLH8e4AfTCcZBFoNWXMLPTzohGEaA7DmYuBhtkOmZNyY5YzjBEWAM\n",
       "pNLC/aZe+nmv/b6vpZqYsVCB5c+gofnz9lgvMkE7luAbH4ZBPc6TnEoFwSSijy4ZaOcxgtMXu21w\n",
       "b3rmjS7Uc3/eyJVSgMDA4kDo6Zx44olxP11NjCchXcHuz6BRsP2xcTZYwzjjeppDI85OQDuUcLBq\n",
       "81EGgosAfWw0om6KQq7yZzT/mzuLnsrtgGpJxvsBBptJHrSN0aHV01JPjCshXcHuL3NjU4y0kk7p\n",
       "yIFz5AycULAWbP0Sfhk0rHHQnxNU518vg/5kPNw2iiM0TdT2dwUxn/7r7z/G/pn9/2xlTC+bV/77\n",
       "Z3/TmHaegA9bJbNQM9nxC8yfUKqLiHG1FItZ1fyzK1glfBS4EtIV7P4CWq+c3oCZM8otaQDUZ6B5\n",
       "Jbw4orn5s+DnQUAsFXHrR+AwcUjfAso2ZYs3kyDrEkcsonlzgXpiXAnpCnzQJkaghZbqyOGEhxjh\n",
       "GWheCXmgUSswy9N3HwCNg/NU3W2btaLG4UZPcDN0tiXIYAsS0QxnWy1CMTGelmpiXAkZCrwczUiy\n",
       "ilLu8i7VCkIEWHcKmlNCHmis37MQKM/eTQaNWlMf6s6yvCmJUmdtg7d1mxur6Z7yNcGZmosEMxx4\n",
       "5MbanXTF+NOrWmJcCRkKvFmn2aID1sDpJmRziiYAOgeNDqArjWh7ussAMauDTPWKHd9NB01Y3Uo4\n",
       "UzOqvUyS9PG2oVs18PLVdH8Riixl4uHTMe1msmeV+xCxT8QcMQctlcR4EtIVUG8d7ZN2LgFWSgms\n",
       "FecFsaMo7/QGYA+ANi8cLbnJHiALQOsGFPb9/Nl0IY5FsG0E13p+it44pQsc0qkX8NmPtg42OLPK\n",
       "vZrB53WmgmIOWiqJcSTkKLD8446s8ufNy0ewZueg5Q0gR9AUMYnhBJrosElqOV5eKQON8LAfOi2N\n",
       "JT/dtalt7gbOxRKmLSZ08vtXxMQUWP4BtHUgNzFPyIU5Mc8FLobO26B9ojRcplnjrYiGhpA/1TlJ\n",
       "2X/5PdDk1YzwIyZVy0+DZiuwfB80NKdaAulpPjsfQIFES7Nc23fVQGNq+OzGCw6nyIkVVDjwbjpo\n",
       "0OpXuz9yQbpXg8avvvkjJlVLiRj0kALLPz/MdNFjikETJe2haAZowkpJdx9a58XeCdrlPuRHTKqW\n",
       "EjHjQwos/xQ0LApBEwjBE9CcHa6CuY+zKRYGreMo7HevBg1fTwh/QIwanlFg+6egXfWuKGgcLv/N\n",
       "BVOAc3wATZaduhndFZe1PiKgxS5JvBs0eT0aVhCz3EcVfGS9AtFrqvkKbL/O5ZQ1j0CIhSKat8OV\n",
       "XmPcXXFZNsUioAlrli00/peAltAcz4vZ7qPOq15mghG+ppqvIOY/BVoPlvRdwfDQ6e1wZYT0bTPK\n",
       "3hSLgBbtWm8GLWnMelrM5z7qvL5g7qWGr6lmK3DUVIlocDkXx8M52rbDVX4MwtkUi4HW2YlgZlL4\n",
       "W6CltcbDYrb7qFO1mr+Vd021XIGjpgpoCFkrcj5o/g5XzvetZwicTbEoaOW/WvVboKm0p3xYzOc+\n",
       "qg1a4JpqrgJXTRXQOFzqg8/Wu6D5O1zp9jlD4GyKRUHrCAz7bwWNDol7kA+L2e6jzqCZsTJ8TTVT\n",
       "gaemCmhLbGcyFNEOO1wFS3HOplgcNDHSoP9S0MSY2hZPi1nuowqg0TRgmlEjcE01V4GvpgZoYo1X\n",
       "zjmylRJrh6t4Hc3dFIuD5tzVoDk/Efsbv2G7jgNJ9iYxEQW+mhqgsTUDo/Y1gwU0e4cr17YzBN6m\n",
       "2AloHWVh/40mcmrklWJsBQc1NUCDW+gR0uRoxwXbR42Brtn77XnQeB88mdZAa6A9C5oMnifOBU02\n",
       "0Bpol7PO+6DBBloDrQpoyy0BwVFvfp8+eHWggdZAuw3adksAk/VnAAJXBxpoDbTboK23BDoMlis/\n",
       "9tWBBloD7bmItt4SwGgFLXB1oIHWQLufoy23BMwPIWGz4n+8OtBAa6BVmHVmWAPt/wE0Y2MDrdlp\n",
       "08+Y3AFNYGOsgdbstIVmTMSPYV3pFx91A+3fYf8Dyb1qFrN10wUAAAAASUVORK5CYII=\n",
       "\" style=\"display:inline;vertical-align:middle;\" /></a><br>(see <a class=\"ProveItLink\" href=\"../../../__pv_it/theorems/273010fa1eff89a9421797542fcb85b608541b220/dependencies.ipynb\">dependencies</a>)<br>"
      ],
      "text/plain": [
       "<IPython.core.display.HTML object>"
      ]
     },
     "metadata": {},
     "output_type": "display_data"
    }
   ],
   "source": [
    "%proving membership_unfolding"
   ]
  },
  {
   "cell_type": "code",
   "execution_count": null,
   "metadata": {},
   "outputs": [],
   "source": []
  }
 ],
 "metadata": {
  "kernelspec": {
   "display_name": "Python 3",
   "language": "python",
   "name": "python3"
  }
 },
 "nbformat": 4,
 "nbformat_minor": 0
}