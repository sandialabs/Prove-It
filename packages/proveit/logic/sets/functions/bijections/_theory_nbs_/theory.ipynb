{
 "cells": [
  {
   "cell_type": "markdown",
   "metadata": {},
   "source": [
    "Theory of <a class=\"ProveItLink\" href=\"../../../../../_theory_nbs_/theory.ipynb\">proveit</a>.<a class=\"ProveItLink\" href=\"../../../../_theory_nbs_/theory.ipynb\">logic</a>.<a class=\"ProveItLink\" href=\"../../../_theory_nbs_/theory.ipynb\">sets</a>.<a class=\"ProveItLink\" href=\"../../_theory_nbs_/theory.ipynb\">functions</a>.bijections\n",
    "========\n",
    "\n",
    "Bijections are 1-to-1 and onto functions."
   ]
  },
  {
   "cell_type": "code",
   "execution_count": 1,
   "metadata": {},
   "outputs": [
    {
     "data": {
      "text/html": [
       "<h3>Local content of this theory</h3>"
      ],
      "text/plain": [
       "<IPython.core.display.HTML object>"
      ]
     },
     "metadata": {},
     "output_type": "display_data"
    },
    {
     "data": {
      "text/html": [
       "<table><tr>\n",
       "<th><a class=\"ProveItLink\" href=\"common.ipynb\">common expressions</a></th>\n",
       "<th><a class=\"ProveItLink\" href=\"axioms.ipynb\">axioms</a></th>\n",
       "<th><a class=\"ProveItLink\" href=\"theorems.ipynb\">theorems</a></th>\n",
       "<th><a class=\"ProveItLink\" href=\"demonstrations.ipynb\">demonstrations</a></th>\n",
       "</tr></table>\n",
       "<h3>Sub-theories</h3>\n"
      ],
      "text/plain": [
       "<IPython.core.display.HTML object>"
      ]
     },
     "metadata": {},
     "output_type": "display_data"
    },
    {
     "data": {
      "text/html": [
       "<h3>All axioms contained within this theory</h3>"
      ],
      "text/plain": [
       "<IPython.core.display.HTML object>"
      ]
     },
     "metadata": {},
     "output_type": "display_data"
    },
    {
     "data": {
      "text/html": [
       "<dt><a class=\"ProveItLink\" href=\"axioms.ipynb#bijective_def\">proveit.logic.sets.functions.bijections.bijective_def</a></dt><dd><a class=\"ProveItLink\" href=\"../__pv_it/axioms/11baf34a26927fa841541f3e826bbe3990c964c40/expr.ipynb\"><img src=\"data:image/png;base64,iVBORw0KGgoAAAANSUhEUgAAAkoAAABNCAMAAABuZ7s6AAAAQlBMVEX///8AAAAAAAAAAAAAAAAA\n",
       "AAAAAAAAAAAAAAAAAAAAAAAAAAAAAAAAAAAAAAAAAAAAAAAAAAAAAAAAAAAAAAAAAACGKEuzAAAA\n",
       "FXRSTlMAq1RmmUTNIjK7EInv3Xbh+fvl1/OhCx0iAAAACXBIWXMAAA7EAAAOxAGVKw4bAAALI0lE\n",
       "QVR42u2d2YKkKBBFVRCVbVb//1fHJTUJBSMUXKYsH3pqurMtb3mEAOF0lj3x4AX9s0XbHeyKi+q/\n",
       "key/kkJmv0fKo26HI9/9F0WJ3LQ9pyzyCyPrkaHavJalahXdjBhEoqRYd5S7H2/k5jORPRyljOWv\n",
       "bUDUMnrPAMtjUaqO/LVCbz/StZZpUZKATY5+goBS1hSvZUn7qgl2B0pSI4WNUFlSlGprjdseo5+g\n",
       "oCT1a7u40nfbb0EpF1gZLdOi1H3EAcVq7BMklPbVcz/ryJtnoFS3SG1l9jVKO1Eq81apjgfLrJIx\n",
       "KFXHevcfUXm3xSNQEgI7qTwTpa4SG0qdjmdpYlDKGvVWlLLGPAGlAmuUfK1ncpTqIXhjY1Bi+rUo\n",
       "1a19AEoCu2e7ZxsXKFUigFLTtq36oDRikPPP7x1CydfMv6ZZ0vej5OF5+5xcKbkLJdGirZJkY6sk\n",
       "0FaJdazl3SGaeoVSZvhrUSpWj9H1KOVYJbS4JJXXutiDUtEiKMk2q+tMdCetHC6CrZJuPtddr1Di\n",
       "4rUoZa24GyXZYpXQYqpAF2Wzq1Xi+eqiKiVa9W2AFO+7NGUtrwKfAIMV+5lL4SuUbPtelKZH6z6U\n",
       "GFpfaABGuWzEbGO6QwRRUpVahtxz2Gp1wfXnv3aFUhHznf7nR9mqm1Fq0JE+vEQF+51SWLnZKlW2\n",
       "aysiquGCr56+TwWmqxVK9Yvr7qzV96IkW3Sg5A7gWK5Nzt3BmUQ6ON63FTELToy3VJK58ZTd8pKl\n",
       "LU8dwy2a5KtRYi02rbcYYcPxnqiQWqkshuUKMUOTZpGwsdbmgnkmA+DVceMcL3inYhc/5qtRyrH5\n",
       "yUWnUUH0BVZ28+HvRN1IC6p8OyYs5jfQEKX3znd3N0rcipJGv18JYCvA52s9PfWNHyXbcN6N4Jw/\n",
       "laL/+B9//tUffw9f/j23HX/80//671/zHw5H617BNBU31/IQpfdOLHXhYdl7MUqEUgm2SrDqls12\n",
       "qyTH/qY1MZlKsMJzauGmAdwvSt8uAvYwF6NUoLNKC5SafLMmXqD0ubEm5t1YDSr7eiqs5575t1aa\n",
       "A8M69mKUOF5cVGBUpOG0obVbKJVselxinrUqW5dKTmEAUXrxCK5jp7kRJYFPxEiX9WpZpYsijFKl\n",
       "52Hq8YVEi3klMZ6z1HNb5aL05ve5/c3XN6KkCdPDmoeq7mF+pymlFyXZtO1wv4v+i8MjK+VeYD6/\n",
       "y/0iA6coyxejJOHLzotRagmr2oTTbHrWvJaq2XxxcvYBX5y8ejdcCxqGa1GqKHuluP4SIkgdyG0o\n",
       "KfNmkjID+vdrUSoow3Q2PeqmkbRFHLeh1OSvRkmAIdy1KNmWwIacWGfOIpBTUOKxKL16ANdPkKjb\n",
       "UFItZdl2s/cWH0XJRKJUvnfLyfgogjdU16KUk96O7V59fxAlqyNRUuLVJHUtg1ig9L0RBTuIEvEU\n",
       "DelFg9w7xCaiNG58k42pC5sH98PtQEkXb0fJLFDi850T1UGUiKcQtHdWe592GkrTxrdhXrEfGvr3\n",
       "w9FRsvrdJHWlr16gVE93otq7AW1GiXgKQ1yUoev0KM0b36p+hNhvgPPvh6Oj9PZGqYOnXdZK00sB\n",
       "VRxFiXgKTURpnxOHhtK08a1Dqf+vXeyH24+SfXml5EWJTa9Bj5fdtFPolvj0C3ZSqyQsQMmzH46K\n",
       "UqWrt6NUrFHKxhVlWh1HiXYKTZ2IkaZKjdK88W1Aqe/R/PvhiChJ8/buzY8SH2oTdyGq3IvS+hSe\n",
       "g26MrPa4HokuynHjm8y72p/pfn2bZz8cNpEyuSizhr2epKz0oFTl0y8TSW7hW3djeKV4U2+htDiF\n",
       "5Jz5UCI/ytWzd5jJ8pek3kQqlygNrYkq3RkD8KLOhMa+ks3ngqdoWOlhgbFfr+wPOiRzm4tq/J/C\n",
       "goq5rMHqxXF845sYd2a74Sn8qy9a+uSjK1v+UeLlB4WZI4AE9DjeVqmDgDnw2Ey4lewwgSIN20TJ\n",
       "PUWRa++sAL2Dcxcq/Sjx8tPCjBFAAnIcP0qqcFi00NFRtZYxntfZNkruKVgTKLuJKLkTS6nFyyfY\n",
       "cuni5cdZpD8RQAJqnNpTdvfDYWeHaw0Lo6FUkt5ZPBcl9xScR00GuLLl1OLlU2y5VPFycot0KpRg\n",
       "AmKc0otS5jQ63XBNuRakEaLKV+eAlQHOKQJDZSpK7tLs1OLlU2y5VPFy+jCpUAIJiHECKLmFUgY3\n",
       "WI/vmsq2RlByL9A/lDc0lNwl0+eKl5PZcmkl0AlhUqEEE9DiYCh9NpP1VY1UI1VDkW+wDs4tNgI/\n",
       "MkF7ceLKls8VLyez5dLEyyeESYYSSECLU6xWBsARxlDxSN6KMhvMfUx0D67i/u4zgFIdWH7RkF7n\n",
       "urLlS8TLKWy5FPHyGWGSoQQTkDzSbLVeaSsL+sPxosQCL9pz0nolV7Z8mng5tS2XsvTzjDDpUAIJ\n",
       "SCtZ7WoV5UZnKI+g1BR5HZoTo/xs3IIqVrzsMy8ftuVuoUTZqHtGmHQogQSkfcdwqf42Smh0L0rK\n",
       "WtL3JpwzWrzs8wcct+Uuzcv7xMunhNl5bLmjQQKKR5qDTubabQKMsnnJvaRY8bLHvBxjy12alzfF\n",
       "ywoRW6cIc6QZCrqjQQKKR7q5cR9c2VIqCuH/OjsgXvaZl2OOhXl5S7wsjdgIdluYDXc0SEDxSIsb\n",
       "d+eSNnq7suVI8XKkeXklXl6al7fEy5blZTjYRWHQBG4EkIDikdY3OgOylvB5d8IgTrwca15eiZeX\n",
       "5uUt8bLJ6iYc7KIwaAI3AkhA8UhDmcjFKBnCKpPQAG6/eDnavGz8hcZsXt4QLxdqtZHrjjBYAjcC\n",
       "SEDwSFe3+pVyygUWoSHpTvFyvHl5IV5emZeDMsHx6mCbcEsYLAFUINjg9fkrX3EjSrYlDJmLQCu7\n",
       "V7ycwLwMxcsr83JYvDxuDDQyy24OgySAKKlgd+y/mepGlEp8NsCVLUeJl9fm5ZV4+WNbHsXLg4R5\n",
       "U7y8Mi+HbbnjJC2YYLsozL4EECUeihPoYoobUZL4EC7cKu0TLycxL0Px8sq8HETpI4YCG8jvCYMk\n",
       "iEHJ3Ort7r59dRilfeLlFOZlKF5em5eDtdI0PcmDY6KLwmAJImoluZgkvBolhdbdrmw5QrycxLy8\n",
       "KIZX5uWgeNnMA7Ps3jBYgrB5DL1RxaJwuxqlEi0cXdnycfFyEvPyclZmZV4OiZe/Wy6czYN3hEET\n",
       "BN9I4+9zF6XS9f8eHP6PnLiy5YPi5UTmZSBe9pmXQ+LlfP792t4aBk0ApyhLfxzanbwcJY5OyLuy\n",
       "5R8lXn5kGB1Y+4zGqZf9y+Uoleh8Bdeer3+CePmRYVwfosl2xFm9xLn+X/TW2CCEOc/DjxIvXxKG\n",
       "H48AEqBxhM7uRslinbB0cL9OvByNEv5K6JIw5niEXQO49Tuc61HK0DGcK1u+TLwcixJFvHxBmN1+\n",
       "zG8EkACNk69qqRtQUlhB5y5Rv0q8HF9oUNaHpg8Tbf39RgAJsDhy3SDcgJLECm9XtnyWeDk5ShTH\n",
       "afow8dbfgKUVi2Pb6gEodZeBPDDuI3GOeDk5SrSOJXWYBNbfr6VV7+knNc+egBK+SdXdJ36GeDk9\n",
       "SkTxcuIwCay/c4SdjZJ8BkoF9reOO3FuQokqXk4cJoH1d4oAEli0UmLZM1DKOLYdzpUtnyBeTo0S\n",
       "XbycOEy89ffzKZAAjePdZnwPSplBfqKubPkM8XJalHaIl1OHibb+jhFAAjRO6aU0GqXh2H37UGWV\n",
       "u2z+DPFy/HFQvPykMN8IIAEaxywHombEIOpiJBuO/ebhEntmXNnyjxIvPzEMSIDGWX9gpIBl/wF+\n",
       "UZjguKejIAAAAABJRU5ErkJggg==\n",
       "\" style=\"display:inline;vertical-align:middle;\" /></a></dd>"
      ],
      "text/plain": [
       "<IPython.core.display.HTML object>"
      ]
     },
     "metadata": {},
     "output_type": "display_data"
    }
   ],
   "source": [
    "import proveit\n",
    "%theory # toggles between interactive and static modes"
   ]
  },
  {
   "cell_type": "code",
   "execution_count": null,
   "metadata": {},
   "outputs": [],
   "source": []
  }
 ],
 "metadata": {
  "kernelspec": {
   "display_name": "Python 3",
   "language": "python",
   "name": "python3"
  }
 },
 "nbformat": 4,
 "nbformat_minor": 0
}