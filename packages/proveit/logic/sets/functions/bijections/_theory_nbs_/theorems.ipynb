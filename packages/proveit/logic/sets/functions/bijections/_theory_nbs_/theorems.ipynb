{
 "cells": [
  {
   "cell_type": "markdown",
   "metadata": {},
   "source": [
    "Theorems (or conjectures) for the theory of <a class=\"ProveItLink\" href=\"theory.ipynb\">proveit.logic.sets.functions.bijections</a>\n",
    "========"
   ]
  },
  {
   "cell_type": "code",
   "execution_count": null,
   "metadata": {},
   "outputs": [],
   "source": [
    "import proveit\n",
    "# Prepare this notebook for defining the theorems of a theory:\n",
    "%theorems_notebook # Keep this at the top following 'import proveit'.\n",
    "\n",
    "from proveit import f, g, n, x, y, A, B, C, fx, fy, gx\n",
    "from proveit import Function, Lambda, Conditional\n",
    "from proveit.relation import total_ordering\n",
    "from proveit.logic import (\n",
    "    And, Implies, Forall, Equals, NotEquals, InSet, Card,\n",
    "    Functions, Image, Bijections, Injections, Surjections)\n",
    "from proveit.numbers import Natural"
   ]
  },
  {
   "cell_type": "code",
   "execution_count": null,
   "metadata": {},
   "outputs": [],
   "source": [
    "%begin theorems"
   ]
  },
  {
   "cell_type": "code",
   "execution_count": null,
   "metadata": {},
   "outputs": [],
   "source": [
    "membership_unfolding = Forall(\n",
    "    (A, B), Forall(\n",
    "        f, And(InSet(f, Injections(A, B)),\n",
    "                   InSet(f, Surjections(A, B))),\n",
    "        domain=Bijections(A, B)))"
   ]
  },
  {
   "cell_type": "code",
   "execution_count": null,
   "metadata": {},
   "outputs": [],
   "source": [
    "membership_folding = Forall(\n",
    "    (A, B), Forall(\n",
    "        f, InSet(f, Bijections(A, B)),\n",
    "        conditions=[InSet(f, Injections(A, B)),\n",
    "                    InSet(f, Surjections(A, B))]))"
   ]
  },
  {
   "cell_type": "markdown",
   "metadata": {},
   "source": [
    "A bijection is a function, an injection, and a surjection."
   ]
  },
  {
   "cell_type": "code",
   "execution_count": null,
   "metadata": {},
   "outputs": [],
   "source": [
    "bijection_is_function = Forall(\n",
    "    (A, B), Forall(f, InSet(f, Functions(A, B)),\n",
    "                   domain=Bijections(A, B)))"
   ]
  },
  {
   "cell_type": "code",
   "execution_count": null,
   "metadata": {},
   "outputs": [],
   "source": [
    "bijection_is_injection = Forall(\n",
    "    (A, B), Forall(f, InSet(f, Injections(A, B)),\n",
    "                   domain=Bijections(A, B)))"
   ]
  },
  {
   "cell_type": "code",
   "execution_count": null,
   "metadata": {},
   "outputs": [],
   "source": [
    "bijection_is_surjection = Forall(\n",
    "    (A, B), Forall(f, InSet(f, Surjections(A, B)),\n",
    "                   domain=Bijections(A, B)))"
   ]
  },
  {
   "cell_type": "code",
   "execution_count": null,
   "metadata": {},
   "outputs": [],
   "source": [
    "elim_domain_condition = Forall(\n",
    "    (A, B), Forall(f, InSet(f, Bijections(A, B)),\n",
    "                   condition=InSet(Lambda(x, Conditional(fx, InSet(x, A))),\n",
    "                                   Bijections(A, B))))"
   ]
  },
  {
   "cell_type": "markdown",
   "metadata": {},
   "source": [
    "If mapped unique elements of a function are unique, then the function is a bijection onto its image."
   ]
  },
  {
   "cell_type": "code",
   "execution_count": null,
   "metadata": {},
   "outputs": [],
   "source": [
    "bijective_by_uniqueness = Forall(\n",
    "    (f, A), \n",
    "    Implies(Forall((x, y), NotEquals(fx, fy),\n",
    "                   domain=A, condition=NotEquals(x, y)),\n",
    "            InSet(f, Bijections(A, Image(f, A)))))"
   ]
  },
  {
   "cell_type": "code",
   "execution_count": null,
   "metadata": {},
   "outputs": [],
   "source": [
    "bijection_transitivity = Forall(\n",
    "    (f, g, A, B, C), \n",
    "    Implies(And(InSet(f, Bijections(A, B)), InSet(g, Bijections(B, C))),\n",
    "            InSet(Lambda(x, Conditional(Function(g, fx), InSet(x, A))), \n",
    "                  Bijections(A, C)))\n",
    "    .with_wrap_before_operator())"
   ]
  },
  {
   "cell_type": "markdown",
   "metadata": {},
   "source": [
    "If the domain is finite, we know the function is a bijection if its image covers the codomain and is the same size as the domain."
   ]
  },
  {
   "cell_type": "code",
   "execution_count": null,
   "metadata": {},
   "outputs": [],
   "source": [
    "bijective_by_finite_image_size = Forall(\n",
    "    n, Forall(\n",
    "        (f, A), InSet(f, Bijections(A, Image(f, A))),\n",
    "        condition=total_ordering(\n",
    "            Equals(Card(Image(f, A)), Card(A)),\n",
    "            Equals(Card(A), n))),\n",
    "    domain=Natural)"
   ]
  },
  {
   "cell_type": "code",
   "execution_count": null,
   "metadata": {},
   "outputs": [],
   "source": [
    "%end theorems"
   ]
  },
  {
   "cell_type": "code",
   "execution_count": null,
   "metadata": {},
   "outputs": [],
   "source": []
  }
 ],
 "metadata": {
  "kernelspec": {
   "display_name": "Python 3",
   "language": "python",
   "name": "python3"
  }
 },
 "nbformat": 4,
 "nbformat_minor": 0
}
