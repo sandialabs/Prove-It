{
 "cells": [
  {
   "cell_type": "markdown",
   "metadata": {},
   "source": [
    "Theorems (or conjectures) for the theory of <a class=\"ProveItLink\" href=\"theory.ipynb\">proveit.logic.sets.functions.bijections</a>\n",
    "========"
   ]
  },
  {
   "cell_type": "code",
   "execution_count": 1,
   "metadata": {},
   "outputs": [],
   "source": [
    "import proveit\n",
    "# Prepare this notebook for defining the theorems of a theory:\n",
    "%theorems_notebook # Keep this at the top following 'import proveit'.\n",
    "\n",
    "from proveit import f, g, n, x, y, A, B, C, fx, fy, gx\n",
    "from proveit import Function, Lambda, Conditional\n",
    "from proveit.relation import total_ordering\n",
    "from proveit.logic import (\n",
    "    And, Implies, Forall, Equals, NotEquals, InSet, Card,\n",
    "    Functions, Image, Bijections, Injections, Surjections)\n",
    "from proveit.numbers import Natural"
   ]
  },
  {
   "cell_type": "code",
   "execution_count": 2,
   "metadata": {},
   "outputs": [
    {
     "name": "stdout",
     "output_type": "stream",
     "text": [
      "Defining theorems for theory 'proveit.logic.sets.functions.bijections'\n",
      "Subsequent end-of-cell assignments will define theorems\n",
      "'%end theorems' will finalize the definitions\n"
     ]
    }
   ],
   "source": [
    "%begin theorems"
   ]
  },
  {
   "cell_type": "code",
   "execution_count": 3,
   "metadata": {},
   "outputs": [
    {
     "data": {
      "text/html": [
       "<strong id=\"membership_unfolding\"><a class=\"ProveItLink\" href=\"proofs/membership_unfolding/thm_proof.ipynb\">membership_unfolding</a> (conjecture without proof):<br></strong> <a class=\"ProveItLink\" href=\"../__pv_it/theorems/273010fa1eff89a9421797542fcb85b608541b220/theorem_expr.ipynb\"><img src=\"data:image/png;base64,iVBORw0KGgoAAAANSUhEUgAAAmgAAABACAMAAACZUXsJAAAAQlBMVEX///8AAAAAAAAAAAAAAAAA\n",
       "AAAAAAAAAAAAAAAAAAAAAAAAAAAAAAAAAAAAAAAAAAAAAAAAAAAAAAAAAAAAAAAAAACGKEuzAAAA\n",
       "FXRSTlMAq1RmmUTNIjK7EInv3Xbh+fvl1/OhCx0iAAAACXBIWXMAAA7EAAAOxAGVKw4bAAAIz0lE\n",
       "QVR42u2d6bqkKBKGRXZQuqtnuP9bHXFJAUEB5Rw7h/hRFU9mFukHL0GwZXVdsWFtbOyaNTsxMmPS\n",
       "d3dAw5OxVpXNzowZSm6C1mqxWZoNDbRmDbRmDbQGWrMGWrMGWrMGWgOtWQOtWQOtWbMGWrMGWrMG\n",
       "2peAhvqwf2W92QWGP/KE5puE8QQRZcJ+WUxYwUHNV4OGQNi/bhvwo519aRM2ihJhbxATUOCr+WbQ\n",
       "IAn7j7SNcEpEl5+4bqYOggJhbwLNUeCp+WLQ2CCC/iNtw5Syz+GNl59IaKaO99nC3gWao8BV88Wg\n",
       "ERn2H2qb3sJIDVefSGomkUZQBTFPgWYrcNV8L2i9FkG/AmgYaCmnb1BQSXEDtLTcq4aYp0CLp8Xf\n",
       "C9oow36NiMbmiMbx1I3HO6BRTfOEvQ40W4Gj5mtBY1a/Z5kxoAw0NtcGVzdA67jMEvY+0BwFtv+1\n",
       "oAEe9p8FjWut5QoanMMaQOtrRaDBIUvYC0GzFdj+14JmL1FmL1f6bUPJZUQTcIlo5FZEo9d3OKqI\n",
       "eQ40W4HtT6Dtz9HDMtDKS6g4ctKgv2SpUoqstiH6HDShO8Y6MlUrteo8AhqcQh6YjHB2aKZuRBnC\n",
       "krQkicmzZAWWP4GG8OcRaBlo5SVUM6jDvjEJ2EUg99qm14e2oZJouQcvicxgKZVCNPIJJwAsox/Q\n",
       "7NBMyA83so8LS9KSIKYghKUpsPzpKdn2IDR39N9AKy+hXopGwv6iGfOsiIaAfrIDUa3W6kOHZlIe\n",
       "BWIkcWFJWmqISVVg+aY7bPufsi8ErbyEeukpCPvzU3sto/g4GYm2jaRSl9+SVvQYbdn6tzo0U+99\n",
       "k4IAR4UFtFQRc5CQqsDyDWhwTayyk8QPaMUl1JsLyLBvqtpNnTBR4jQIUDX1zPIe1B+yLrBWGxno\n",
       "oZmY901jx3hU2EFLJTEHCakKLH8e4AfTCcZBFoNWXMLPTzohGEaA7DmYuBhtkOmZNyY5YzjBEWAM\n",
       "pNLC/aZe+nmv/b6vpZqYsVCB5c+gofnz9lgvMkE7luAbH4ZBPc6TnEoFwSSijy4ZaOcxgtMXu21w\n",
       "b3rmjS7Uc3/eyJVSgMDA4kDo6Zx44olxP11NjCchXcHuz6BRsP2xcTZYwzjjeppDI85OQDuUcLBq\n",
       "81EGgosAfWw0om6KQq7yZzT/mzuLnsrtgGpJxvsBBptJHrSN0aHV01JPjCshXcHuL3NjU4y0kk7p\n",
       "yIFz5AycULAWbP0Sfhk0rHHQnxNU518vg/5kPNw2iiM0TdT2dwUxn/7r7z/G/pn9/2xlTC+bV/77\n",
       "Z3/TmHaegA9bJbNQM9nxC8yfUKqLiHG1FItZ1fyzK1glfBS4EtIV7P4CWq+c3oCZM8otaQDUZ6B5\n",
       "Jbw4orn5s+DnQUAsFXHrR+AwcUjfAso2ZYs3kyDrEkcsonlzgXpiXAnpCnzQJkaghZbqyOGEhxjh\n",
       "GWheCXmgUSswy9N3HwCNg/NU3W2btaLG4UZPcDN0tiXIYAsS0QxnWy1CMTGelmpiXAkZCrwczUiy\n",
       "ilLu8i7VCkIEWHcKmlNCHmis37MQKM/eTQaNWlMf6s6yvCmJUmdtg7d1mxur6Z7yNcGZmosEMxx4\n",
       "5MbanXTF+NOrWmJcCRkKvFmn2aID1sDpJmRziiYAOgeNDqArjWh7ussAMauDTPWKHd9NB01Y3Uo4\n",
       "UzOqvUyS9PG2oVs18PLVdH8Riixl4uHTMe1msmeV+xCxT8QcMQctlcR4EtIVUG8d7ZN2LgFWSgms\n",
       "FecFsaMo7/QGYA+ANi8cLbnJHiALQOsGFPb9/Nl0IY5FsG0E13p+it44pQsc0qkX8NmPtg42OLPK\n",
       "vZrB53WmgmIOWiqJcSTkKLD8446s8ufNy0ewZueg5Q0gR9AUMYnhBJrosElqOV5eKQON8LAfOi2N\n",
       "JT/dtalt7gbOxRKmLSZ08vtXxMQUWP4BtHUgNzFPyIU5Mc8FLobO26B9ojRcplnjrYiGhpA/1TlJ\n",
       "2X/5PdDk1YzwIyZVy0+DZiuwfB80NKdaAulpPjsfQIFES7Nc23fVQGNq+OzGCw6nyIkVVDjwbjpo\n",
       "0OpXuz9yQbpXg8avvvkjJlVLiRj0kALLPz/MdNFjikETJe2haAZowkpJdx9a58XeCdrlPuRHTKqW\n",
       "EjHjQwos/xQ0LApBEwjBE9CcHa6CuY+zKRYGreMo7HevBg1fTwh/QIwanlFg+6egXfWuKGgcLv/N\n",
       "BVOAc3wATZaduhndFZe1PiKgxS5JvBs0eT0aVhCz3EcVfGS9AtFrqvkKbL/O5ZQ1j0CIhSKat8OV\n",
       "XmPcXXFZNsUioAlrli00/peAltAcz4vZ7qPOq15mghG+ppqvIOY/BVoPlvRdwfDQ6e1wZYT0bTPK\n",
       "3hSLgBbtWm8GLWnMelrM5z7qvL5g7qWGr6lmK3DUVIlocDkXx8M52rbDVX4MwtkUi4HW2YlgZlL4\n",
       "W6CltcbDYrb7qFO1mr+Vd021XIGjpgpoCFkrcj5o/g5XzvetZwicTbEoaOW/WvVboKm0p3xYzOc+\n",
       "qg1a4JpqrgJXTRXQOFzqg8/Wu6D5O1zp9jlD4GyKRUHrCAz7bwWNDol7kA+L2e6jzqCZsTJ8TTVT\n",
       "gaemCmhLbGcyFNEOO1wFS3HOplgcNDHSoP9S0MSY2hZPi1nuowqg0TRgmlEjcE01V4GvpgZoYo1X\n",
       "zjmylRJrh6t4Hc3dFIuD5tzVoDk/Efsbv2G7jgNJ9iYxEQW+mhqgsTUDo/Y1gwU0e4cr17YzBN6m\n",
       "2AloHWVh/40mcmrklWJsBQc1NUCDW+gR0uRoxwXbR42Brtn77XnQeB88mdZAa6A9C5oMnifOBU02\n",
       "0Bpol7PO+6DBBloDrQpoyy0BwVFvfp8+eHWggdZAuw3adksAk/VnAAJXBxpoDbTboK23BDoMlis/\n",
       "9tWBBloD7bmItt4SwGgFLXB1oIHWQLufoy23BMwPIWGz4n+8OtBAa6BVmHVmWAPt/wE0Y2MDrdlp\n",
       "08+Y3AFNYGOsgdbstIVmTMSPYV3pFx91A+3fYf8Dyb1qFrN10wUAAAAASUVORK5CYII=\n",
       "\" style=\"display:inline;vertical-align:middle;\" /></a><br>"
      ],
      "text/plain": [
       "<IPython.core.display.HTML object>"
      ]
     },
     "metadata": {},
     "output_type": "display_data"
    }
   ],
   "source": [
    "membership_unfolding = Forall(\n",
    "    (A, B), Forall(\n",
    "        f, And(InSet(f, Injections(A, B)),\n",
    "                   InSet(f, Surjections(A, B))),\n",
    "        domain=Bijections(A, B)))"
   ]
  },
  {
   "cell_type": "code",
   "execution_count": 4,
   "metadata": {},
   "outputs": [
    {
     "data": {
      "text/html": [
       "<strong id=\"membership_folding\"><a class=\"ProveItLink\" href=\"proofs/membership_folding/thm_proof.ipynb\">membership_folding</a> (conjecture without proof):<br></strong> <a class=\"ProveItLink\" href=\"../__pv_it/theorems/12fe348e52c947d02ca461484821b4f45de3a11c0/theorem_expr.ipynb\"><img src=\"data:image/png;base64,iVBORw0KGgoAAAANSUhEUgAAAg4AAABACAMAAABFqA8+AAAAQlBMVEX///8AAAAAAAAAAAAAAAAA\n",
       "AAAAAAAAAAAAAAAAAAAAAAAAAAAAAAAAAAAAAAAAAAAAAAAAAAAAAAAAAAAAAAAAAACGKEuzAAAA\n",
       "FXRSTlMAq1RmmUTNIjK7EInv3Xbh+fvl1/OhCx0iAAAACXBIWXMAAA7EAAAOxAGVKw4bAAAHlUlE\n",
       "QVR42u2da5urKAyARe6gnD2zy///qysiFhDxSjttyYeZPq3FaF5CEsA2zXnB2kjfVHl/IaMt2+YS\n",
       "DngQVu/lBwgzpryKQ72NHyVdxaFKxaFKxaFKxaFKxaFKxaFKxaFKxaFKxaFKxeG9BR25u62ZM4DP\n",
       "0MqcSJhXgoiKw/NoAEeObsEz3YDlgPWi4vAkgaS5FwcRtIg2j9jGoYGg4vAcYZ24FwemlL+WoN88\n",
       "YgcODW8rDk8RIpubvUPTesZW3dYRu3AQAbQVh1LSalESBwy0lMMZFFRSXMAhDHAqDqWkl01R78BG\n",
       "78Dx0MH7KzhQTSsO5SOHo87hFA5sNABXF3BouKw4FBfAm0I4cK21nHCAo4sAaHrvFA6wqzgUl+MF\n",
       "pQgHSja9g4DWO5BL3oF6CyQHHB5atPAcDhda+NyxgoZvICnFIRyIzuMgdMNYQwZTUs+2KzjAwX2A\n",
       "QQhnCxyaHvk4IDxrQM/hcKGFTxUYGVMCtuWIQxxavcCBSqLlwxFIZIYHqRSiK0cE7sAOXkCzBQ6I\n",
       "+DgwpwY9PNxNOFxo4WNDh8jVdy3mh7wDAvrOrkW1miyGFjgoHcQObh5DtidxuNDCp0oHohsVsaB4\n",
       "PwhZxUFSqS/sX1F04a3Y9F8tcGgfZzI4wGnAJ81ZHM638LGRZFh1kOGQjokSWe9A1dBnL/StNp7Q\n",
       "AK7jdnSBA3ucaRzQOkNq38nTOJxv4SsSCwi6HiA/aRAbgwUyffZKWN4nQwcB+kQoKR5nGnFA4zH+\n",
       "2CYO4rBs4buFRl1bB/FdOuD2cMCt6bNXOlfLo0SHK6UAgYlE09duxIEC98fR0HnjFuN6yJIQZxkc\n",
       "Fi0shHddp+6/73Jo9ug6gTtVWTk/C3GgYRxAtkJJNH7n0voHFfRNZePStoNJHGRYhjJfldi7yOBq\n",
       "4Oh5UjNojzJU3MJCyqWg7Ohtu1mV1PmxxmHWGHzBDq2D8DQOiiM0ZBbep4KYw//889fIz/jyxzXS\n",
       "//nX/P3v7/zhKNpXgXfOsCyFAwpxaFWALGZB77HDHtQ5HKIWvh2HyDuEkaTgee8g7M2/9qAETHwg\n",
       "nadxiUUeh8GS0ANANWQx6yl6mMMhaqHiEODAQTbOi3CYjNN3V5QKolXmgkXgXEYudjAFA+/rKihU\n",
       "mQoGhAiwJotD0MJBG1BvnJPZT98FBxqmBVGoolQOB+yy9isTQuE1TqHDgAVJxg4wwoF68ZB5fIcf\n",
       "KIyhgwAojwPdiOgyNmDtYwEnlLlP3wYHEaQSVEdRFWnXcaDu1vMLZcmo7kBsm7ibu6yPA43qDsaL\n",
       "PDr/kEZI4FXRLAiLS4pwaAA7b4PZ4AwQU1BjqlVs+en74NB0aDWSHDsXxyKJg+BajzZrzYvTqab0\n",
       "jQHm+Stv6jIoQ+EYBz9wiDIjewjWLI/DFRs8DN7KMY5uHoXv98SB+OFiYoE9ljxbpC4tYZFarOIw\n",
       "jVzGfwhpyRBjJLkxWFzGQRETvw44iAabe8mxfec9cUCdZ2Wyq9z8Mhy8vCfGAY0hgEB6yFPGKVlI\n",
       "tDRFqOQVFfAOqIF28V//1t4Bzj2u52LfVM7LcPDynvwk/BbVZ3EI7ctUN0+FCg6HQQkrqPDiU0X3\n",
       "mANdUSVf6KP7cRBzeAa99QhFcEBXcfCyoCwOWJzEQSAEMzYIauAnwuWwbB6Zg29pclqVR7geKJD2\n",
       "Tvywlc7i0F/EAXsZTBaHzSm1NRw4tA+bZApwjhc2kCfnbvsg93XZcBYHp8ktqvRNSoE0DrB7Eg6q\n",
       "u4iD9MayMktnp4ETIZbqklEN/MAN40HuC/U2Dm4Iv0WVxzShr0AaB6FxGRzsPhvBe9YqsLr95gAO\n",
       "PgIlcGiBHe0VTHvoqAZ+pCdMBcqgbJ7BwWlylyrzNKGvwEooK0kRHNw+m7F2ZFKW9Pab/TgE3qWI\n",
       "d4B2rQVPD9iuBm5n6aZpup/+wDRdWDbPeQeryQlV8tOEgQJrmc3RAGkXDvM+mzH/N/tt0ttv9uMQ\n",
       "EFAEB4S8CkZsg7gGfuh8dpouLJvncLCa3KaKmyYMFFjD4eB+/n04uH02Aw7mv4q23xzHQQVaFsGB\n",
       "Q3s7+ChtaIO4Bn4kw58qlWHZPIeD1eQuVeZpwkCB1boHgaW8A1EBDontN3txoB0tjoN1k0ymuuSi\n",
       "Bn6ifhSWzXM4TA77JlVmjgIFVnEQPb0dh3mfzYiDGR3S22924iD60P4lcBBThwsmpqdb6dXAT9cd\n",
       "orJ5BgenyT2qzHWHUIH1qiglR5zgzmdD2X02Amg0DBFm8Epsv9moW83PhnLesygObBqOqb+80trA\n",
       "r4EflmmaLi6bZ3BwmtyjipsmjBTIFMnpL/+pDxFfegkcoOtFQpoBe1n7uVcyOMyalFSFgeZj5H4c\n",
       "eJtc+fACHFY0qTg8EweZXvr1AhxWNDmgiqw43JBZvBQHep8qsOLw9jhcUcUuyhMcteZ5i8mVehWH\n",
       "r8HBLcrDxB6UWqlXcfgaHKZFeQ0eWjSZqb9Sr+Lwfd5hWpSH0YRDYqVexeF7Yge7KM9se8em5Lhc\n",
       "qVdx+CYcat2h4lBxuA+H3T/JXnH45XLDT7ILvPsn2SsOv1zGn2TH4mnwlXr6y+GnpNypypnz/2r5\n",
       "H1fdVgkaM23zAAAAAElFTkSuQmCC\n",
       "\" style=\"display:inline;vertical-align:middle;\" /></a><br>"
      ],
      "text/plain": [
       "<IPython.core.display.HTML object>"
      ]
     },
     "metadata": {},
     "output_type": "display_data"
    }
   ],
   "source": [
    "membership_folding = Forall(\n",
    "    (A, B), Forall(\n",
    "        f, InSet(f, Bijections(A, B)),\n",
    "        conditions=[InSet(f, Injections(A, B)),\n",
    "                    InSet(f, Surjections(A, B))]))"
   ]
  },
  {
   "cell_type": "markdown",
   "metadata": {},
   "source": [
    "A bijection is a function, an injection, and a surjection."
   ]
  },
  {
   "cell_type": "code",
   "execution_count": 5,
   "metadata": {},
   "outputs": [
    {
     "data": {
      "text/html": [
       "<strong id=\"bijection_is_function\"><a class=\"ProveItLink\" href=\"proofs/bijection_is_function/thm_proof.ipynb\">bijection_is_function</a> (conjecture without proof):<br></strong> <a class=\"ProveItLink\" href=\"../__pv_it/theorems/85f2c13e721cd7b8b7e3ae2e8da7c0d3cc180e160/theorem_expr.ipynb\"><img src=\"data:image/png;base64,iVBORw0KGgoAAAANSUhEUgAAAVoAAABACAMAAABstU8NAAAAQlBMVEX///8AAAAAAAAAAAAAAAAA\n",
       "AAAAAAAAAAAAAAAAAAAAAAAAAAAAAAAAAAAAAAAAAAAAAAAAAAAAAAAAAAAAAAAAAACGKEuzAAAA\n",
       "FXRSTlMAq1RmmUTNIjK7EInv3Xbh+fvl1/OhCx0iAAAACXBIWXMAAA7EAAAOxAGVKw4bAAAFNUlE\n",
       "QVR42u2c6XajOBBGta+g7vSM3v9VR0iAVWIxCJPOHFQ/fBxjF+ZSfLWIGKF6436wHjWDJiIXgi6h\n",
       "5cFUY1mYGrBcRdswblrX0Da0DW2zhrahbWibNbQNbUPb0Da0DW1D29A2tA1tQ9vQNrQNbUP7/0Qr\n",
       "D7/T9f3lNajRh3wCWnf8wCwHp0TU7TB64Q6gxfMfhNahveDhLiP29ZxZa46jFYfDhWrvcTCh1ezF\n",
       "0Rwtmz0LWYf2goebzGShZ7HavzYBWuJPXImdTqHl1exFmAytmoJO6kpBuODhJmM0vzC5Ph61DPvD\n",
       "4SG9GzGw2QtludZOoC2pRHvBw13ZOf+OBVen+2BiHa2V1m/kNLdATse30gHx5KUzGVo6nuLz+j2h\n",
       "rfdwk9Lm4ODNPVw4sx210iG3dWsGYeUreIqsTr68CJpXCN1wGvvO1lcI1R5u0oP5i1Dc9Zjl+d/s\n",
       "CQIbxHYrFffrUmtwrzIvFudoWYzrXJDMSbRLD3/VREbHO7BF7mktDzSU3woQUmQS5bVzDo87m7xQ\n",
       "kaOVeHqYyHaZ3ijtQ/nCtNpBu/CwMN11nfs8RBvcLnfbkyzVgO8tdtMYix/YPAwHY8elhEc6mnsh\n",
       "HWgZho8AMQd6Q+OV4Lq9lqH0sAyk28oytUTR8ayYAu9NyhVMr6B1mrFQIbw2sR6a9xxEy0QrFwTl\n",
       "AVriwPnkCgRY0irq99AWHn4OWpjFjN6JWpMOevumVi5A8EzhHQuE2QuHURuo0AymQwKXzbDp6W6j\n",
       "Cz38ZbSZIGi8n4oyKGO267utHcEUqKZ8h2Msz4LQQ7SWZB8LiJgAhTGlDKv9GQLwcBKtzDTM7m49\n",
       "iFa/znIh8M5touX0TadbHMIotQGxAGlMQ7QyywXDrci5sEapNZjto5UdRpVoFelneNTubT2Kdi6A\n",
       "QlwUCUCQDbRyOmS90Y6Vda3oRgFIMTXHvi0mX1lQhnLA4qyFSVAX37GcfGGFqgVhhqewGJoe5YhT\n",
       "y62H0ap+PYvFGNHcLNEa7X1ERIYnq+WXBQeI59kMgbLS882hoitLlvQW7tWloeIxtGliFYcrL305\n",
       "jxbNA1i23Mit3m50L5SByYvs0RbaUXGG6svYRNnELPZGEC6jdWLInQGtQXyQK83TK1Vo05CE4LXr\n",
       "/81Q8SLa12CoRMuiZBrmQ50RZ3FUeDs0DAShb4lahmg4j+C1CrRID7vrtRHoe9Fms7/9Sea7U16L\n",
       "FrJSrptHZkZTNQzrqeOLrU4eRxsLWOqY/Ga0Wh5Dy00lWsMY3UEL+ugT8yy22nqvoh1mWIehfGRt\n",
       "LLYp+dnfRft2NWYLrabpn8mUw1rzBVpb+S9V/WrrrTD6kXbPsuNYujGm1qK26KNPhK1ea72fhJbg\n",
       "pI6OrgtC0UefuezGxgy03o+K2tTrwVHIC+3URxsRp0m/fn8F+5Oe/pmHTL/+GR7//fqat75GT7D1\n",
       "fhRaxvKevEBb9tGn9pdGT7D1fhRaHaFSoaMRiLbso8/MuMYODbbej0Kbaitl16J20UefsMkHbL2f\n",
       "hNaMMQmGgSOWrI+urmuL1vtJaNWopDJfTkto8z76fL8zrvoXrfeT0M43kBg7aC1/P0O4ZM9Bq8nq\n",
       "5LahvY7WOoeuo7UN7ensfsxoQ/s5tGnNxmhGKF5fx2lo69BOazZcxLeureM0tHVoxzUbxAOnULPl\n",
       "6zgN7cWoHddsOEtoV9ZxGtpKrU1rNsMNlTy0Wct1nIb2QxVCq2sb2hvRHv65ykeh/cDPVRp++Ocq\n",
       "H4U2/lwlN992Iu+6K9z/UEFA6D+g+Tbzs8NnfgAAAABJRU5ErkJggg==\n",
       "\" style=\"display:inline;vertical-align:middle;\" /></a><br>"
      ],
      "text/plain": [
       "<IPython.core.display.HTML object>"
      ]
     },
     "metadata": {},
     "output_type": "display_data"
    }
   ],
   "source": [
    "bijection_is_function = Forall(\n",
    "    (A, B), Forall(f, InSet(f, Functions(A, B)),\n",
    "                   domain=Bijections(A, B)))"
   ]
  },
  {
   "cell_type": "code",
   "execution_count": 6,
   "metadata": {},
   "outputs": [
    {
     "data": {
      "text/html": [
       "<strong id=\"bijection_is_injection\"><a class=\"ProveItLink\" href=\"proofs/bijection_is_injection/thm_proof.ipynb\">bijection_is_injection</a> (conjecture without proof):<br></strong> <a class=\"ProveItLink\" href=\"../__pv_it/theorems/34934950772f8cd9855d58d403b990e25b3fea200/theorem_expr.ipynb\"><img src=\"data:image/png;base64,iVBORw0KGgoAAAANSUhEUgAAAY4AAABACAMAAAA6T2A+AAAAQlBMVEX///8AAAAAAAAAAAAAAAAA\n",
       "AAAAAAAAAAAAAAAAAAAAAAAAAAAAAAAAAAAAAAAAAAAAAAAAAAAAAAAAAAAAAAAAAACGKEuzAAAA\n",
       "FXRSTlMAq1RmmUTNIjK7EInv3Xbh+fvl1/OhCx0iAAAACXBIWXMAAA7EAAAOxAGVKw4bAAAGUklE\n",
       "QVR42u2c6bqjKBCG2Velp3uG+7/VEbdQiBvGJH1C/ejOc2JQ66UWPmIQKjfug7Wo2nUTvS8JuoSD\n",
       "d6aqL59gKrjyKo7qxqdaU3FUHNUqjoqjWsVRcVSrOCqOiqPiqDh+Cg524u5IkIzoS64qnMmEV0aY\n",
       "L8LB8ImDCX5pGAwcVGu+BgcV6Lk4DBiR7R6xjwNR/C04VGOei0M5F+8ltLtHHMCBNPkSHMKiJ0cH\n",
       "IpGzXbN3xCEcBkyan4uDeHMnDo69td0ZHHXWXMABC9zPxdFadGt0qD46NO8meHsFh/TyC3Cok8FR\n",
       "hkP1DtDuAg6k7RfgwBrdhEN3qwY74qB9iGA2/q0IB22+AMfpFV2KQ4rd6DB0iA5xKTpktEHe4Xhc\n",
       "BqFlOC6McF+uksmS0FpzCofw2ziMR0oh0blSRr5dwUG78MGdCa0WOFDLYhyMz1cgy3BcGOG2JWDi\n",
       "TIvVTiJIcBC/wCGt8PYRCJaF9GSdY3LlCBAOQ/LEXi1wMBHjUNN1SF2YrC6McFvpEKkYxPWp6GDY\n",
       "P3NqSe9Gj7EFDudB7Zh0LEsKcVwY4TZNCCcXmrBwuu1MrOKw0vry7485uYxWNf7vFjjI40wBBx0T\n",
       "vkClOMpHuK2Sw1WHhSmdC2c2o0O6bs6Wzy2y0LPwNHEbucChHmfqE2oTZkrb2GIc5SO8pLGiuGkx\n",
       "i5sms5OsWJizF9qSNl86DG4zpdw8ztTjYP0xcW41J3EsR3ivyWRqe1Bfsw1HjIOTMGcvTC6i00ZP\n",
       "O+ewoJlGN766HofE0z+zrhXlTaV91yUyrTZwLEZYmG6axj3f77YbFuf6XALpgIsXe6Wc9Z+5sgHi\n",
       "4NR0Q19AGprFYeEyMHzW8ugmwd3QPvRyCuZjGZiOsLD7WmCFcxfGYdcKPjCk1s50HofTjHWdVfSu\n",
       "Ed3Rv/753duf8Prfdrb+9X+/H28G8+AKdDM5VuVwMIiDODBluAITeUi71G/hSEZ4N44kOmAlN3o7\n",
       "Osxw85celOACzIcp0qbGahtH50kaAXBILFRf09JNkQSO8GE4NN4utBDH6Jy2uXBNsFlQU7HGU8xs\n",
       "1Y6wYIg+78BCMaxgKGVYbWtWYISTOGSUaO3mu0dxSNgWJVXLuS0cnK6rJEctuduxdHRYRLZ20ASH\n",
       "jOpheHwmLhR96TCYbeOQDUaFOBR5bOBTu/XuYRwGtFLSJ1VNkHUccrp1Xb4sT9cdYhiTN/OUjXHI\n",
       "ZN0RokjFYpvF0Sp2ALG4pQQHwgoVJ6vZ4QqLsKJVjji1fPc4DtSw1UreTy7NTRaH0d73PiPhRWmr\n",
       "a4Ev8KwfRtItWAbyFEdcOJLOcDiEe7WN41z4ruBAxPZ9TCS8lOEQGuhPyyu3elMkuV3EASKJWcUx\n",
       "Zs4QP8YOZExfyXeS1WUcToT+ocNhEA++1Hz4SxkO1kRuFkfkjvfhiPq+FAfrS4BhvmvUekmaCm/D\n",
       "IpAg9JLoYIgOm8/tpeig84xrtTkkpb0PR9T3bW8C7M2qUhzQv8o1sxRsNO2SInfU8cW7Th7HYeby\n",
       "SKP9iM/EEXWBmzi4KcRhGKMbOIAGU9KvAN0miwNpdnb0d+HgUQe3iWNX0lzDoenwsLlyWGu+wGEL\n",
       "tes2q9vkcdDmb8FhBTqYrEpxjImbMZWLjkSDOeExndNt8jiM538JjhjBHTgIHrK9o/lklWgwJ2zW\n",
       "SWPdJo8DTLpPxgGk2Vuig+qlUvfAMWkwvUo66aR/hpd/oEw66aTzn0edFOg2KzjQyQL1LhyAwC04\n",
       "GIu1nwRHqsGcOt+okwLdZg3HuecJ3oXDgau8BYemgzt0bwTiSDWYEzbrpEC3WcOBBP18HLKRt+MY\n",
       "0oSyuehYaDAnbEYKdJtVHKaVn47DtND/d+Aw49wHwvjoykiDKV93QN1mFUf+Kwqro7/h2cAxj9yL\n",
       "Q42VQcbb6wOOWIM5bZNOmug26ziQ/PCf2jKpF+7AQadZbGyoHXxfs7pkCqMfY8/HoUl256PieA8O\n",
       "m936PIvDVhzPE0ku46AVx3txDPuxRjNCcX6PtuJ4HY5pP5aL/tDcHm3F8Toc434s4p1vu/443qOt\n",
       "ON4QHeN+LGcDjswebcXxwtox7MeGb9zzbrW93KOtON7YWdV1R8XxA3Ac/kn8imPPQdd/Et/wwz+J\n",
       "X3Hs3UbvS/My+Hc9/eR/ULJC6H8PSUQC45zz+gAAAABJRU5ErkJggg==\n",
       "\" style=\"display:inline;vertical-align:middle;\" /></a><br>"
      ],
      "text/plain": [
       "<IPython.core.display.HTML object>"
      ]
     },
     "metadata": {},
     "output_type": "display_data"
    }
   ],
   "source": [
    "bijection_is_injection = Forall(\n",
    "    (A, B), Forall(f, InSet(f, Injections(A, B)),\n",
    "                   domain=Bijections(A, B)))"
   ]
  },
  {
   "cell_type": "code",
   "execution_count": 7,
   "metadata": {},
   "outputs": [
    {
     "data": {
      "text/html": [
       "<strong id=\"bijection_is_surjection\"><a class=\"ProveItLink\" href=\"proofs/bijection_is_surjection/thm_proof.ipynb\">bijection_is_surjection</a> (conjecture without proof):<br></strong> <a class=\"ProveItLink\" href=\"../__pv_it/theorems/23a9471ec6afcd9c78dcba174b5c6818cdb944770/theorem_expr.ipynb\"><img src=\"data:image/png;base64,iVBORw0KGgoAAAANSUhEUgAAAYMAAABACAMAAADPseuOAAAAQlBMVEX///8AAAAAAAAAAAAAAAAA\n",
       "AAAAAAAAAAAAAAAAAAAAAAAAAAAAAAAAAAAAAAAAAAAAAAAAAAAAAAAAAAAAAAAAAACGKEuzAAAA\n",
       "FXRSTlMAq1RmmUTNIjK7EInv3Xbh+fvl1/OhCx0iAAAACXBIWXMAAA7EAAAOxAGVKw4bAAAGSUlE\n",
       "QVR42u2c6briKBCG2ffQ0z3D/d/qQDYpsihobLuFH+f4RMWkXmr7MCLUPHhIY0B9tA4xWpCgZxjw\n",
       "OFQ3ZfNQyYBPMuhWfMFwnUFn0Edn0Bn00Rl0Bn10Bp1BH51BZ/CWwSqujiTlhl52Jml2kx4ZYb6J\n",
       "AcMVLyb48vU+GV8N5nsYUIE+kQGi+GsYKGc+kwHS5FsYCIs+lIGBq+PvZUCC+VQGRaL6exkMFn0s\n",
       "AxnkNzBQlW7wVgZI229ggDX6YAbUfQOD6narZCDFhQxkvoccGdw+m9AmBu0TXBmKJGzXrDV1DMTT\n",
       "C4zqEHAcQquSARoYYMD4+rGyiUH7BBf2Z9CCFqt7Hl8wIOEFTu6mgIiDKhkwARio5cOlbotF7RNc\n",
       "mA5E0QZxXecHDIenF5QMfrYTKxn4APPBIiJZ0sagfYIL8x+GJ1oA8HqIQxwzsNKGyi9Oebl1RjX/\n",
       "9yUDks2eGNA5ilcnoYVB8wQXpmTQHVj4XUAuvDn3A+njSq1cUYRtnHFZo06WDFQ2+xglXVoUg7Ot\n",
       "DJoneE9ZRLEbMMsrHnMvFrG0UmsLjGE/HRg8bHOyyWYfGbDxNXnANHUMthP85iHhIp7j8mnlkDPg\n",
       "JK3U2iVFdFmbae89FnRbm4JTGhlIvPxZRaUsFiodYmXHtDpmsJlgO7Rzzr/c1jbOindLUwKIgHMX\n",
       "d3MyG99U3bR5uAr9lNWJo3sMbNGjpfdanl0auAQ6Opl3Jz1aOcF2XFa2KrzroRzUmeANU+SMQx8w\n",
       "8JqxWBfdnjYivfzHPz/T+DU+/jf9/e/n7UgaAXysdos11Q4DVjAgHqwOrsCSnWIpDScMigl+OwPo\n",
       "BzAlG33HD8x08fVf6ucCLMPFkeay6A6DaD+aWd0jgUs9wwz0TKuAE3wYA43Pc2fBYLbO4GrPBOZ6\n",
       "taRdPHvHaT5IlX32fg/buNhpUMqwOtWLwAS1DGQWR+3ps48ykKCoKRKR96cMOG0UK4pLnNNBZCH2\n",
       "8gEtGcgss6WbOvLgP6YDg9kpA+kwamWgyG2Xm9qzZx9mYPJKSIYiUwlywkAul64rG+WyPxDTRNwt\n",
       "qzNnIMv+IPmLyuUti7PGcrL+5kIgA4QVao9Fq5UVFqndVJ54tX32cQbIsaOUPC4ozc0+A6NDGG1G\n",
       "0oOq6tQCC+BVsFuNDXs0vmGQJ4OimptewoM6ZVDpqAcMELFjGZIJIG0MhM6ln+2ZW32uVVyinwCt\n",
       "whwzmKNhchVjJxxmTMnnseh5Bl6kQiAyMIgnA2o+HWljwNzNtOIh0eG9DPJSrWTAxrhuWIhl1ij3\n",
       "UhFs6tAIQm/xA4ZoBA6OtTCgyzobtHlMxnovg7xUO1fVyYNaRS0DaFTl3aq4Gk1jzOOeel4+62UF\n",
       "A7PkPOqZvIoBa2eQ122nDLhpY2AYo2cMgBTSUHcA9WSfAdKsdvp6BkMzA57XXKcM7gmHRww0nW9a\n",
       "Vh5rzTcMbNsducOuenLAgLrLGXjXzMAK9GgsamSwxGLG1J4fFFJIgy6ZqycHDEzgr2YQA6Q1MVoO\n",
       "ivj4Yo7DuEk9Ha5jAMx+AQOClwBO92NRIYU06JK5enLAAC61VzBIDp2qhbG9SrWWcvnhGgbQg67w\n",
       "A6p3tLEbg0UKORIjh+nwr2NdEqgnRwxQZdK5x0CNF6v9VKzH/xOD9XANA2j1KxgwBnSXgkEphTTo\n",
       "kkA9OWRQ99X3uwymBBM/VKarxguD9XAFA19+4eD1DDSdbaDHQSCDUgpp0CWBenLIAAn6ej8QHjAw\n",
       "dD38OAPp5OUM5iCg7J4fbKSQhhYDqCfHDMwgX8hgTAEy2nFkkIKPCUip9fDDDMxQ2PwCBmZZ5EBz\n",
       "ng2YSSHN/QFUT44ZHGzeH01/934061O/Z3CIvbxLYdEyux6+186t96MtYeJSBmoJ9jLfgp4Y5FJI\n",
       "7Vh0yUI9OWGA5Af+tpLZXPkFDOian4xN+YDf14ueGQqjP3y8nIEm+zsJncH7GNj9ncJaBrYzeE6r\n",
       "eJ4B7Qzez2DavTSakXT37u6WZmdwLYNl95KL6ZV7W5qdwbUM5t1LxKNBU0Wbb2l2Bm/yg3n3krOZ\n",
       "wc6WZmdwcT6Ydi/T18R56n+3W5qdwbvrot4fdAZ/EoPHf3O8M9i1ytO/OW7447853hnsnvxoQfM2\n",
       "4hfdhxP++FiE0P+uAkNn3cFHgAAAAABJRU5ErkJggg==\n",
       "\" style=\"display:inline;vertical-align:middle;\" /></a><br>"
      ],
      "text/plain": [
       "<IPython.core.display.HTML object>"
      ]
     },
     "metadata": {},
     "output_type": "display_data"
    }
   ],
   "source": [
    "bijection_is_surjection = Forall(\n",
    "    (A, B), Forall(f, InSet(f, Surjections(A, B)),\n",
    "                   domain=Bijections(A, B)))"
   ]
  },
  {
   "cell_type": "code",
   "execution_count": 8,
   "metadata": {},
   "outputs": [
    {
     "data": {
      "text/html": [
       "<strong id=\"elim_domain_condition\"><a class=\"ProveItLink\" href=\"proofs/elim_domain_condition/thm_proof.ipynb\">elim_domain_condition</a> (conjecture without proof):<br></strong> <a class=\"ProveItLink\" href=\"../__pv_it/theorems/e25fd43482835bc0ed007223885acfb44847a1fc0/theorem_expr.ipynb\"><img src=\"data:image/png;base64,iVBORw0KGgoAAAANSUhEUgAAAioAAABACAMAAAADHqyUAAAASFBMVEX///8AAAAAAAAAAAAAAAAA\n",
       "AAAAAAAAAAAAAAAAAAAAAAAAAAAAAAAAAAAAAAAAAAAAAAAAAAAAAAAAAAAAAAAAAAAAAAAAAACC\n",
       "gUnDAAAAF3RSTlMAq1RmmUTNIjK7EInv3XbxweH5++XX832FJ1cAAAAJcEhZcwAADsQAAA7EAZUr\n",
       "DhsAAAibSURBVHja7Zxpm6QoDIBBblB2Zy/+/z9dAQ+CeJdd09Xkw0w/VTGF8hJCAiJ0XZjz0qEq\n",
       "ny089HODbqHCepH1WX64SN/Nd1Gpj/HHSFtRqVJRqVJRqVJRqVJRqVJRqU+wolJRqVJRqVJRqVJR\n",
       "+UShZ55842sw5Cta5X9I+7801xWV34MUfEa7wV/YtDYyIjtdUfkNhHD0WlQ0sEh3NfZRQQRXVN4v\n",
       "stWvRUVam+4F6XY1DqCCVFNRebtwg16LSq+SgGDbPY1DqGgAdEXlHdI4/SQqDDtj+l+wxBp9AxUY\n",
       "UFVU3iGdQU+i0s9vYf5gvWPo7qAinKiovDdSOetULqEiQ+coewMVpExF5a2CFXoIFeWcMwMqJLgW\n",
       "TIfPLqFC2orKW+V8Mi1DRfBdr6JJ9Cr8llcRyYbaHpW5FQ25hsoNCz9z/hHwA2qMPoUKd9uoaIek\n",
       "RLzvZpH0+woqpHc7uBeu5AIV1NEUFcqmFohrqNyw8BOFZB1tsNxz7hCVxi1QEYY7MzsQQ/2UY6yl\n",
       "YkUDuJE4IWInF6hQnqIix2aI01PogMoNCz8yVMmmj7Zh6pRXodi9ckgKZ4fepAtUrAOxylgXMs1F\n",
       "VG5Y+InS4uwhZpxY1fXCV1ExwrgbZ6+sWHg5OfxvF6g08y95VMgQYHB0FZXrFn5kVAuzKgaGEIxb\n",
       "velVhO3H+o0x2eQFIjwO+FYsUJHzL4VJsvUUd625jMp1Cz9+AURw22GaLm70zgRE/Vi/s3zoiqGK\n",
       "xl0hrNXzLwVUaNBJ50t9EpWlhSrroQF0CQ7EmuWFQYIKa/xYvzMoG5UtyJS1FnNSWCynrQuoCDz+\n",
       "M5LSJnOhVK5fzVElN1BZWPhWotq2ta83a3qzuLRWbiA54MHyvbCWhmtuPWoLxrSNMXLTkiIqBqAS\n",
       "3IFhyU2CuyHBY5WqlXMKLrfwreS5Jb7EpYfG4MoXXBCn8l5UGRWrKO1XQMm3mnv1X3/97eWf8Oc/\n",
       "o5Hu17/+3//+nr4M4tImqHbsdFlChUJUGgtwZhIMsjiVEreFSmahorKOSuZVYFSr1bZX0bFj7r2o\n",
       "hPEU1tFDjQugbVT6XiYJHBbxRfVZd2QLlcxCReUwKgpvxpwZKkPHde2dRoHIWY6BKx5dzVas4hMi\n",
       "yeUWJOl8hoYQiiXaRAVY+CBURDKvm81vj6Ii4PIli5Ks3UKFjVkJ97LbHUKVHhlejFVIhopI4i//\n",
       "ap00MAmhisZ0GxXRftegdhMV2cybkYnZ+vYwKhoseYTLIjzerKMixm5RN9K1WV6FR5usnYZ6iorI\n",
       "8ire+8xOo1/uGJxkECMki1vKUEFYfiIqva/XU7dzn+iUtrFy+e1xVFBLV6PaMCgV00VUtHIu9Gfj\n",
       "/7i8XDZpR+GpVpiUkEEKjuWopIFKtoKLKszJbVS+sRxDBTUmrDfQXMi4hgpPQ9fCIQ9m1GZi/2mB\n",
       "iX29isowG3q/o02kRoeodmcC+mhULPdxfo+KRsz3s2Lxk2uo0DYhgB9K0b8NlWR9lqNCQ8ihqevX\n",
       "U6E0TrgzPgFXvKMf5lUoInGzanfLq5BppHZKH8swvA2VZH22vVFij/hDqKTuqFU74Rgx+Zq8Ednk\n",
       "eF5AdxKFt1EB2tK2U7lcK9JPwswSyxbfWnEcFT2FiiTZT/IIKvQuKslqbRMVpi+ioimdfyKdmXdP\n",
       "PrW5CcLWbj0mkZmhewCBMkWpEQCVXPvssgLUQYqoIHW6B6+i0t1EhSUrrU1UdsuXa6gokrzM9gwq\n",
       "Dc9M6Gxvh0kHfMBei2XXSouVmhgzWX0O5zoAFXOtwN9lCMd0QxkV0n4RKra9iYpJ5sdntmGDzToH\n",
       "UGFLVAYTNM866NxjlNwuTenJyhRDI1KdFJWF9tHOVDC5EOsgZVS0Y8+gEs+IadXJxuLVo2MnUEnx\n",
       "eAKVBrfpdrgFKn7Hp5+kk/wwy1CZTMTBOl6R7rPTqv9xSd0U3ExKlmSrf44XqAAdLja0D4/gMXGb\n",
       "1kHKqIDB+kJUxjNiIW/ml1blo2PHUQFe6RGvQkDNK0eljwCx8ncyfzEVyabD+oOJeIphugKkGoUL\n",
       "A3S6rVEpq7hlZYrYCKiToDJqL8q1Q402lmtD6XalXAvqICuooLPx0CFUpjNiIb/hz4qVj44dRwXQ\n",
       "8QgqlG6hQkK7JfhC4tBbkktoImQx5ivGDwY3DlCZlBhwKnmZIjYC6syoFLQPP4uhXAvqIGuonHxn\n",
       "xjFUxjNicRBhmx0dO4+KBa18BBVF0HasEuPqP/5Uk7jO58wx1tDE9IjGSFyuojIpER5NxjvLyxSx\n",
       "EVBnRqWgfVCmci2og6yhgjh5yqtwC1ApHB07iopoxeOoQPe6RMXDLsAXdljZWAxNjGQMV4AJaIHK\n",
       "oCQNyjIx2UYznOnMqJS0z6bxQB1kFRXdiZejMp0RC6j4Gad8dOwgKrqDbDyBiobDMkNFtCGqo+ly\n",
       "aNpqOYa1k4kOpVeAGj1EJVFKNgYkZYpwiRl5BZsHxm7OtC/lVWAdZBWVle3Wq+aPvQsunhHT2NF+\n",
       "2vETYuHo2E7ObnoXXDY3PIOKhJN97lWoZX3bwYOabmREZTIRsrvJFXO2NzwQ/8/wyawkpm3AaZki\n",
       "mhVDI0S6VXhAJdc+I2O5NquDrKOCxG9eidf5Q3gCFUIROpdX0XleZTLBYK1dHzq+qI2PQ1b7G+c6\n",
       "X7sL7rvK61FRTbZz5Uy2lnW5Ceg56Ss6dacGVFH5KlRMvuXvDCoxUAcm0jwjecmZgNuomIrKq1ZA\n",
       "2aScYrNXWUayWZ2dDp9k284+LJNRJ1EhFZWHUPn9ZQ+VuEdSK9r4V7kWN05WVCoqaN4jyXhULW2c\n",
       "rKhUVBAa90gi1ve7X2OnGycrKhWV1KsMeyQZHVApbJysqFRUwm2GPZL+rRLMZ2GXGycrKhWVu1JR\n",
       "qahUVE6j4qWrqHw4Kjz08y1UNPMiKyofjooM/VzfyeUHzVNvbXL4k57T/9KrWYn9kN4yAAAAAElF\n",
       "TkSuQmCC\n",
       "\" style=\"display:inline;vertical-align:middle;\" /></a><br>"
      ],
      "text/plain": [
       "<IPython.core.display.HTML object>"
      ]
     },
     "metadata": {},
     "output_type": "display_data"
    }
   ],
   "source": [
    "elim_domain_condition = Forall(\n",
    "    (A, B), Forall(f, InSet(f, Bijections(A, B)),\n",
    "                   condition=InSet(Lambda(x, Conditional(fx, InSet(x, A))),\n",
    "                                   Bijections(A, B))))"
   ]
  },
  {
   "cell_type": "markdown",
   "metadata": {},
   "source": [
    "If mapped unique elements of a function are unique, then the function is a bijection onto its image."
   ]
  },
  {
   "cell_type": "code",
   "execution_count": 9,
   "metadata": {},
   "outputs": [
    {
     "data": {
      "text/html": [
       "<strong id=\"bijective_by_uniqueness\"><a class=\"ProveItLink\" href=\"proofs/bijective_by_uniqueness/thm_proof.ipynb\">bijective_by_uniqueness</a> (conjecture without proof):<br></strong> <a class=\"ProveItLink\" href=\"../__pv_it/theorems/59385d7c94c4bac9681704b84a7c3ac3d1845b580/theorem_expr.ipynb\"><img src=\"data:image/png;base64,iVBORw0KGgoAAAANSUhEUgAAAlYAAAAmCAMAAAAxxiXFAAAAUVBMVEX///8AAAAAAAAAAAAAAAAA\n",
       "AAAAAAAAAAAAAAAAAAAAAAAAAAAAAAAAAAAAAAAAAAAAAAAAAAAAAAAAAAAAAAAAAAAAAAAAAAAA\n",
       "AAAAAAAAAAAsiKZwAAAAGnRSTlMAq1RmmUTNIjK7EInv3Xbt5cnn9enz4fn719+hSDwAAAAJcEhZ\n",
       "cwAADsQAAA7EAZUrDhsAAAkHSURBVHja7VyJtqyoDpVJmaS733s9PP//Q1tUNEDAufr2uuVa93rk\n",
       "1NkhYRuSANU0Ny5Om+/1st3oMF7sx1PBd0uPP+hWb63Rw2Vo8mXI63ajP66R7cQh2QMqRQ/XLtZ+\n",
       "GfK+3X54WjUM9pDd7a60+kuR9+22Tysd8ZTvfuJpWjUKzunqZmDUmi9FPmC3XVpJ53rw2O9+4nFa\n",
       "afii6Hvehg5fZ/UJux2YBCkgjbN7n3ieVnGweC/i7r/O6iN2O0crQQZjxtF2zBn9MVp1Q7e1Rg+n\n",
       "I4TtpSN933c/L0/cqD69YrdXvJWcvJUS42zUf4xWjYLvirrhcIjagoV/fGS7Y+3dM/hd1srYFbu9\n",
       "Rys5TMPrrtBK7Fisw2jF4NTL7PWRBBW6f5xWjh5rF64AwPUZ/ACzwZ2g1enKZkqrrsVppYZhMAut\n",
       "5oElfGk7RSsnCoovgoERN1p1A4Wz4Piw9Zqe0FiCCXQSdw3mmSAYOF1utpCCZs7Y4V2TuQep4gSY\n",
       "Fe44rWQSeEA5x2jVDnveSrPZW7XHvFXSBa0aXPEgeDMiyPl6WNfwD3xlZ3tikmBAuYlW12CeuDR4\n",
       "fQ2RliLta9/QMVQybdnBCTDhfpxWbCjKOUYrOtRppYdGyqYdQTsw6hVaZV2QpMMU3wSvRgQCeFQ6\n",
       "az1K8F1nZn3SJrS6BvPExcGYWiqURtrXUcWKhTKPXnZwAsx6Z1fslsg5RitO0kSrM+1gNsdkuPcx\n",
       "xjneFT6BqWrUdg1LAhYrvglejQho5SDZp4dAPnOmPGpJQqtrMI/kIyDqgWmWrScvwFll7nUXJ8CE\n",
       "5QucVghjLCnKmQZEjWll35ZpZTozyOtBaD6RZF1onMEUh4IT7WdfJpv4IdjkVOQ9mJRWl2CeiKzg\n",
       "HNjj7aCvOQFE7qx2cQLMcmeHY7bBlOT4nrRO171V50ZXcP29pbyq6iyCYIpHgoP2gFYS9mp+sP4N\n",
       "6e2pagNMaBbxV2CemANXgYzYnvC0XTtHtDSLEzU5h7JYEMXRbpoTNIlglntpEmSmZrdYjk+19N4k\n",
       "yL0ruJES9VVVZxFdZthUcNAe0ErDXs0PXBY8dqWQA8m50OoCzBMX9D+Dy9tHgzjiGj5bFKy58uk1\n",
       "6P/zX/9/zDYExzTUbiF3gGFtRqsFdr4GXrFbLKeU60BaCepdwY0Xl2b+c0hjLo0ZNhYctIcRRYQz\n",
       "PUxurytX3TSWJ+e02oPZRebHPwpfQAoGTWbtrPNc0A2ZjUTtrrNCcSSdiblUMwPMci+H7LSlRbvF\n",
       "ckrhA6QVn/7ozpqbS177rhypwaWDWHDQPqKVyaZ6L8qsBQLN4xRAW4kEeiI3RwxzhFUxci2FLONa\n",
       "AULFvF3G2a9M03OBkBnBGVWz/hW0LoJZ7pVMULegg7HdYjmNtMHHqQKtnOJ8TMgUAPcf/+PPv/z1\n",
       "6/Tz/1dP+cefvuX3v7ZfTv4z6kHShZJhE8FB+4hW0I7zA3XwVVFMRKNtkBgR81YJDB7EOqKUKCBX\n",
       "aFVxgkD7KPwE7XZz0MLuOyscZ0qZ5PJyBxix56261nRFbxWHy1rteCs9qzHcWd8TrahH7JgBU8HC\n",
       "HqLVSAa2WT7JOIW07hitYhg0vOayglyhFSmXWIGvVgRtF77gonVaF5yCoP/9Pr/EEW1RnMnlhW0n\n",
       "AWa5F2OrPmFtTCtFqvF0Sqtl4PobS24yzQoUOWDYVHDQvh5b+VrTKo4SG1eeXNMSJPpgCK02GF+M\n",
       "W+txwnkAkq2dpMiQVhFAI0wMFP2Vw7xSaNejbyR2CrlnAiTcRZMvBGcZgDAKAWa5l7yVUDW7Ncn7\n",
       "6lyVViIUNYYb+U1XU7Vg2Exw0D6iFcvz3Q5U6RLDu6QwH1JIh9BqhXGdj22XaHV0oaMD9GtVO8gq\n",
       "qtvNAHyq+/4y/mMbUOzGyTZmImung9TczqlMljWjhRwcZ96dJoLxAsxyL9AqXxWO7BbL8YakFVp1\n",
       "QW91fT9Tpm7WBUTxXHDQHtAqX2ueJhkJJqp4CsQ3HFqOZTABhk1cXx467Z2mUyvrS8iAVhFA8HIr\n",
       "UOzX+0IE3M/5x+gDKGdB6V7sOysMx1esjOPBsAFmuZeq7LJqtyxc1kQJjdNKq2GYOkv9D1dLDEZW\n",
       "VcUMiwkO2kflUNHgD2vEHhcbjSHIzrNW7STG8JUiY2+Ia1g7rznRArIqAGxebgFKYoBgq2S3a4+k\n",
       "zl0cv1B0fMo4po1hwr3krZqq3ZDducKo+uLN07XkGnhfqD2sRowWb+BeVIQwUdLvSrUNbuu08lPV\n",
       "alXP7hFWmjqyQgD8JPjrb2qaBFegpFLMF+sncwi2rJwsG7foWgmK4xmlw1J/gAn340vNq91yOaWJ\n",
       "6zVa7XWBFQqJqxEBraKMEkkv9cw0bUCwhlQYGCBkRqtxNvajwAPMSHsxxBV4DFkhAE20wSAAJf7V\n",
       "87dX2QaWfAk52V3BEGdVwund7CwhzAp3ZmOMLsr5NK12u6DQIG4zIqBVlFEi6eUSEU97cPgUgms+\n",
       "tCJnH614K+6EcX7ZdN7KM8Y2qp06tM5XGLJCAGIyBqCkL/4PGdgIUiwEJXbCTuCWcOj4C5HArHDH\n",
       "abXaDZHzMK34LsX3uoBX0jYjAlphiSDq+XY8tOL12KrZYHQXIjY9bespJR+FcuAWS21AyftTyJLT\n",
       "9nRfyNEdJglOgNngTmw6VvwkOy7T6oFTEZhhgRE3WgkYSossVVU0JHNiZ8kY7IOv0crDjEG2OOLw\n",
       "cVqBvzwK9PHrBK1Onx+4SitnX1d7o5WBw2KyMTJrSW7PUHpLImsjzaY4yh3KiFFaUbiidhDoR6aV\n",
       "HsQ7tJpPBmrVS+qrxoUDgy/RKtq2bO9s5Nw42T50TvBfetbQ9b1lV+z2KK3CycCpFOkTPPzA4Du0\n",
       "ijzjTTdpZfO93rfbMVqtJwM7n2r6dRf8wOA7tHrOWX2/h+hDdjtGq3AycKTVHITGBwbfpZWDGrm7\n",
       "tGjZlyPv2+2Mt2pdRCvkwOAbtOos/AYGezeW0T/zNy98zG4HY6twMnCilZ/18AODL9BKw22kur9/\n",
       "8Kprv99F9Lrdjn536HwyUJOBj1OfrzIjBwYfvNbvDo0rieqJGaz7Ru0/vd20wB7+Btv2WInwTuQ3\n",
       "AAAAAElFTkSuQmCC\n",
       "\" style=\"display:inline;vertical-align:middle;\" /></a><br>"
      ],
      "text/plain": [
       "<IPython.core.display.HTML object>"
      ]
     },
     "metadata": {},
     "output_type": "display_data"
    }
   ],
   "source": [
    "bijective_by_uniqueness = Forall(\n",
    "    (f, A), \n",
    "    Implies(Forall((x, y), NotEquals(fx, fy),\n",
    "                   domain=A, condition=NotEquals(x, y)),\n",
    "            InSet(f, Bijections(A, Image(f, A)))))"
   ]
  },
  {
   "cell_type": "code",
   "execution_count": 10,
   "metadata": {},
   "outputs": [
    {
     "data": {
      "text/html": [
       "<strong id=\"bijection_transitivity\"><a class=\"ProveItLink\" href=\"proofs/bijection_transitivity/thm_proof.ipynb\">bijection_transitivity</a> (conjecture without proof):<br></strong> <a class=\"ProveItLink\" href=\"../__pv_it/theorems/018ec0da3cb2b7cbb2572af9098a0f24a8bccdc00/theorem_expr.ipynb\"><img src=\"data:image/png;base64,iVBORw0KGgoAAAANSUhEUgAAAlkAAABNCAMAAACi/oHRAAAARVBMVEX///8AAAAAAAAAAAAAAAAA\n",
       "AAAAAAAAAAAAAAAAAAAAAAAAAAAAAAAAAAAAAAAAAAAAAAAAAAAAAAAAAAAAAAAAAAAAAAAeYafp\n",
       "AAAAFnRSTlMAq1RmmUTNIjK7EInv3Xbh+fvl1/Pp3hX/qAAAAAlwSFlzAAAOxAAADsQBlSsOGwAA\n",
       "DuZJREFUeNrtXemahCCSlENOYXZ2Znz/R10vFBDk8ujZr/zR1drVBQFBkiRJVNf9vQvD2E3iguN0\n",
       "oTdqOBck5t8EEbXI/gaUCJYyXH/kIn0CKojdJLsDvAhjWJueqfwuKADzKpQQlhJc5qLqUzqmmheR\n",
       "2M2fZFaHsgstAfMJsxwsqKIGEnxILDhc85rZf2eDuJdZwuldnHxHRm90PHOKKwKTw6z7wASxcFhB\n",
       "UfQZsUSqbCJjNzd0B9NaWbcq+Y6c3hCZjCkCk8GsG8EEsYihfG7rR/oVswBJea4icnNPd0CrqfWQ\n",
       "ekdWb2S6T2VgsmbD28CEseCKuQ3wj4jFxoT7rmTs5nZm9WCUcmpSjbQULcyiWQO1DEwps9rAhLHQ\n",
       "CgNER/gNswhJMU9Ebh6wWWwZ5nziulAtzOq4zBlT4klmtYGJYOGyvIe5+oRYMGWyHGNabFlrmMXG\n",
       "pT10C7PQcPs0UcesWjARLDm4ziNIf2KyUkCd4GBxpNDvDkrCncHHcZRbZ6ytB/D2rIpZOVNAIZh8\n",
       "Zt0BJoKlamrjwwfESvKZ2TM786Z5LKUo6w4ypoa5QOswJ+lhjqbuAtNFOPN7o1M4DZ1WMssv9xYw\n",
       "ndB8+kzUUXmFJY0rNC994GmBlK+BxtjNHIVjAyxiFhyvmSXGjrGOTB9KraaND/OBbyiY3xvYN44S\n",
       "XiErtFluubeA0YOe3wSxQldYMKno5ZG8TiwxpnwNJybhBSgG2PMym4WBbyioJKM8RrTE84iVWmMa\n",
       "eYe77NFbzAb7vaE93ghFCqMtF1C8cm8AI7jaSIrXFoph0WOV/WBvMwsl7eQAYjdTu3q00lxNF4kz\n",
       "S1LZgFHTc/XZ9qr93oBeQRqB/gLZqaxLKF65N2Ahe937obvCAmsasB/l28ziyYW3Uye3gtK16z3R\n",
       "4tpmUT0NufopH+LzWDT9chrnzCtIdYxfIOuKoHjltmORR20Z7q6wsKoGHN/24cWYXKhEl4YIDApg\n",
       "e9UnUrMhnodcwzaWCrtZAqizBy/cguBEI0KjyOA0ZVGUDcUrtxkLtfpBXGMRVQ3I354OUdJKOqtc\n",
       "b8nrTgWEpvysHs5DrsEuQ+6v7rjWGhB0XqmHaufaCRuMJLOXzXOh+OU2Y5HnWTWKpWoC1m9PhyAV\n",
       "JnWNr2uJqTsOSNKDx8s/tWR1aHfBoFdnF5otdbc37LZkS6lOrpIFZt0/PLosBcUvtxmLOgdAoliq\n",
       "OMLeXh0OyYVGb3PPuZn6w6n7oLaLR5ilOcbT2vD4syDz2//xP/+cr/9dfv+X+ZDp8fzk3/88/jhf\n",
       "o1MDEwE0ywK3N2wLBZY3aB1GtvjyR3grCcUvtxmL3Q+iu8Yy4pqeHsdXMwAz3KwLm+U68IInBrpY\n",
       "u3Vs2cTq3eRXY//MEi3aG4JskYcgsvW3IzMhCcUvtxmLOpgF2SPMIsnZ6dYLJqNZV8zi4Nq99rpj\n",
       "axDVsEphrmfNjDNrJvWob2KipDgIBi3WyoKTgHIqtxkLPmZD+YifNZXw6t4hTs/Z1F6KODfd4NZV\n",
       "68vu6JEZPPX19Tzrzd05nAi3N9CZ9fau5QFmCcbba64ElFO5zVjo3u/7blkUS93iGo2vZmmRdGxE\n",
       "2Fx3bqg/YAm86A467Ovf6hRHP55Fhi20SAK+ib30Q3u1rY2+A4yYq+Rsc11COZfbjmULxvTHNmwM\n",
       "S2W2FXs3ojVkRDkGHLmBvvERgPci3B2Cj+PSDXD+pXYBLJ3agn1bGIZ6w05oBPtzpkNgeqAlVnlQ\n",
       "QuU2Y5lKxBwA3IfXhjYWVjcDi3F8k1k5CwbCIzeBxNle8uvdnadHSlFatYOsI/hPQYligZWLvPHN\n",
       "WCnN4TEeQjdTK5OsIfsZs6TKRcZmk8bSDf8ds2wssnJtrd7MpIE5EQBkj5H9RnGR571+xiwOcpGB\n",
       "6d8E0d3fZZaNhVfWgry5ONQ5axthc32/QVZiyDPdgRt7I72EMmAWL6t/cpDciaV23xW8ub8js1ai\n",
       "HMduHmWWauuNnFN2hWDqmXUjlurTg3h80eSCrMKcnP7iBP/a7tBDW29IUojsQWbdiUWSajMy/eeB\n",
       "AD56cppnbRQIe5krSte8ud2xHsqbMyuhBtGzevm9McBCZDcy60ksA6xm1mQ5j0mfPHpwmuRtQTnD\n",
       "RJJHmGUO5S1xwHnVGT6rl90beWZCPiJ+8iQWXR3v1HOolBkI9NmIvMp06gYWu7mrO/ZDeXRer82H\n",
       "88Jn9bJ7I3NoF4HJZNajWKpN1rQSnitgdg3ksyGIIZNZDSJHmd1hDuVNvTG/au+sXnFv6MxKFoHJ\n",
       "ZNaTWHT9RuXKLGR2bx8OmeSGOJzkybJMyhKbRbTTG4Gzepm9QbPT00vAFNmsR7DQod472s7jraln\n",
       "g3yaWZntKhSN3NzVHeZQ3tIb85QRPquX1xtCZdv6EjC5ftZjWApwRZmFl/mf51WjesM9X3XTOXJA\n",
       "S7b4c8U910N5AkyLCjTMOXGBs3qJeI3R9ux4gSEqAJOtU/oUFt4SKehXZlFgfqzcwTj+ocJ2Qxkf\n",
       "sZTYORWuwXxIPrDgHfO3kiiL3fy9SxTFEv42GBuLaMoKZRtXZ3Ml+4OsPbsIVNj8QMpbnParCQ2J\n",
       "RiD0XyjW+7sqObo571Db/vtV4kTPnNzOdfFxSBYYDVKIQ7PhHbnRGP66rXC6bG5yM1sWCHkbmzXR\n",
       "ak+EhGA4wg9Ia+SsL3RHnPPxcHH1DL49A5HBrmU2vEAJfpQqdPHvWX4tPMkX8t6ZJeFBR3QETDX2\n",
       "8ii0q05CR40QBvvcCdSlB9/OLER+jMpn1v060tlC3swk41FLzwLjgzjCjcHM/pcd8V/cLHHE4wZ8\n",
       "R9Thor7Dz1XLZ9YTOtK5OdP9nuZ52B1rtbkQ2s6jmFZ90j4bsHLqOPyw+2DwGWYR+SNUyWx4v450\n",
       "rpB3H0ogPsIKEpv9zX0udE/Br/tK/f4EbGB1KJCimpkFx5/JqmXWXTrSmY5uiFliXQbIre4LWZY7\n",
       "c4ZvdpfWB3R966I4uDwRw2K9dHAR2J7Aqn4mq95m3aQjnSnkDQPHwtYarLqNWOtl62m5w4svJvBI\n",
       "+vUBItMwkHidetd/EBhLrcOWhbcmsLKfyWpl1g060nlC3ihw6AFhx1Xa5saT43T2pFK+HaiTCLA+\n",
       "wCxatapRkhJ9JJ4WG4Q0fPvKt39kQMxl1s060nmpsedDDxxuvnwvOqb2RIrTQcvzycs+ZVCaU6N3\n",
       "P03WhFw1idRQR4aE/7zX7mtopOq6YHBAXDwN0mNW6DMapJejzMo7NX0+9CCNyACaMwGRxMLceW3Y\n",
       "pZ8kCyudDGkDs6LeP5TO2leEnm9UQ+7r0ambshWBlUeKQ+oTpcwKfUaDjrQr6m1nM2cJeePWCark\n",
       "Qo1yXcceUg2zYkcy7YOMtix46ICjiSb7mxyb5jFSHQU1rmBIXLyUWYHPaNGR9kS9bWZlCXnzN88b\n",
       "9o0qEofs9Z3MstM6bFnwULqHcUGRPx6FE3Mpvs7i4uXMCn5G7XUS9baZlSXkTd48I01LVCQCyWLH\n",
       "NkEOs/yQWoxZg019EXx+9jbC4cJ0bnBAnLuLiYu7IFMK5W0C5X5rnUS9bcRZQt7Dqxq4Y8GoYmef\n",
       "7AhaRJjldLefbRFhFiTht8CgyTc7XeGs4xSzguLcUXFxG2RSobxRoNxrrbOot82sLCHvd+UkVYl7\n",
       "i2R0abg1utAaCCaPxAyXOyrKLFszG+/FuLLg5rlbiPmWZPfbkimZzSkDw2DNh6faRfNJI+LiFrPS\n",
       "CuWtAuVOawVEvW1m5Qh503f1s0CqSlhZl7+4sFa7a6PjOX9Vd4cSlcslT3P78DsdzWzb+thOp3nu\n",
       "FmIyA/wMgTWzCHhi9G7tYqc5Y+LiFrOSCuXNAuVOawVEvV3dh7Rz3r8rrqzLVqLQFTZiHrMQXfVd\n",
       "AIpYKUdzm+6S165mtrLl7SzXYHvuFQK3kQi9EclPzDrXLnY0KiYubjMr5cG3C5TbrRUQ9XaZJTO6\n",
       "+tWNuFIiCzKENbyXRmenBfC//6Oc60hipYBENLOtEhxVwe25Vwgb3dc4s861i4hzn8TFz8xKynqf\n",
       "P+Ok6r0qeW+q3ovAd1zVOyDq7TIrbSDAu19EVygxSImkFzZrwasvPCtbp5phMyQ9zWyLWY6Pbz23\n",
       "CjErpT5ps861C4tzx8XFD2alZL3vECi3Wysg6l3KLPXyFq9KLA4dP0t53kWAWYsGjxBhZnma23wX\n",
       "VXc0s63Z0EmePZ7bhZiItR+5DjLLq11YfCguLm7NhglZ7xsEyp3WCoh6F/pZ4u2vdJIFy5een5Yb\n",
       "ztpQ8L4Dgw3e6wCPmMYieZrZ1ra/Y2LW534hJpEb8QSzArULinNfiItbzLqW9b5DoNxprYCod6EK\n",
       "HRxfPq7Q5xd43l+1NLznRocjE7P0Z38YnT4nnuVpZh/xA1cWfH3uF2JiEdjzTzk/fnahf1x77+R7\n",
       "BMXFxeqO2vGsK1nvOwTKvdY6i3oXfmc2eP37fofsYXX+ymQryX6xWXgayRCjGARfp3r3olzNbKaC\n",
       "Dvz23C9E9e7r9t45kiWmnyPYNd9DtfPFuWPi4uuWr82suKz3PQLlfmudRL3dSGl/Xz/fdeHsmH9g\n",
       "+B2y1837hpZm9p4G5aXhhtKjqHJfy432WZw7XuE+8Z9fqf2mc8bZ+PrZvaavgT0EvRuYddLMXneX\n",
       "z7LgKLAAMrvU+I3zo6VZNK8xKy3krcf3jxsPDWuGQ9C7hllbnOGsmc1n8xiQBecns2mU6+gr3ynz\n",
       "GLNwI7PSQt5keJ1YE5vrT+Afgt41zNr8zrNm9hItCsiCn6NIhmuc/lczSzUyK7k0ZOMXJ2FaZuBd\n",
       "9lrW5MFTDMI2mkbCM/5zk2mi3yCWVsNDzKrTHj2YlRbyBp+chJENpaIPjOwfvjKZdYv0ssWspI6v\n",
       "GD/R3hANllK8+0Wf/z+YdY/0conarx7pJ+2hG4yW/OmFlDLrJullSyE3OXEM+KMGaTnoPLAfocqY\n",
       "dZP08sGsDJP11Xlj2GAsfyJHdTarWXp5Z5ZOe1nosxbBDeEggn6MKvOz7pFeNsxKC3kD/mGTqHp6\n",
       "lGl4/5jV3SC9bDErLeTdf6pw1qKvRslPNWR3K97WKc0Q8lbfLt/7BsNDf078Z1dayNt5x/8BcqGu\n",
       "189lsjUAAAAASUVORK5CYII=\n",
       "\" style=\"display:inline;vertical-align:middle;\" /></a><br>"
      ],
      "text/plain": [
       "<IPython.core.display.HTML object>"
      ]
     },
     "metadata": {},
     "output_type": "display_data"
    }
   ],
   "source": [
    "bijection_transitivity = Forall(\n",
    "    (f, g, A, B, C), \n",
    "    Implies(And(InSet(f, Bijections(A, B)), InSet(g, Bijections(B, C))),\n",
    "            InSet(Lambda(x, Conditional(Function(g, fx), InSet(x, A))), \n",
    "                  Bijections(A, C)))\n",
    "    .with_wrap_before_operator())"
   ]
  },
  {
   "cell_type": "markdown",
   "metadata": {},
   "source": [
    "If the domain is finite, we know the function is a bijection if its image covers the codomain and is the same size as the domain."
   ]
  },
  {
   "cell_type": "code",
   "execution_count": 11,
   "metadata": {},
   "outputs": [
    {
     "data": {
      "text/html": [
       "<strong id=\"bijective_by_finite_image_size\"><a class=\"ProveItLink\" href=\"proofs/bijective_by_finite_image_size/thm_proof.ipynb\">bijective_by_finite_image_size</a> (conjecture without proof):<br></strong> <a class=\"ProveItLink\" href=\"../__pv_it/theorems/7acc36530ed493a7c1c36e37e7038879c02dcef20/theorem_expr.ipynb\"><img src=\"data:image/png;base64,iVBORw0KGgoAAAANSUhEUgAAAeQAAAAmCAMAAAAiJxjAAAAAQlBMVEX///8AAAAAAAAAAAAAAAAA\n",
       "AAAAAAAAAAAAAAAAAAAAAAAAAAAAAAAAAAAAAAAAAAAAAAAAAAAAAAAAAAAAAAAAAACGKEuzAAAA\n",
       "FXRSTlMAq1RmmUTNIjK7EInv3Xbh+fvl1/OhCx0iAAAACXBIWXMAAA7EAAAOxAGVKw4bAAAGsElE\n",
       "QVR42u2c15btJgxA6dUmuUn4/1+NcRXVx+2uk4l58jBYIG8EkmAGofOF+KFQ9AMKI/95rVkYlhke\n",
       "jDCF2vOQMfoZheGfoXU34lS9KdT+3yFTca/WJhLIdlvcDBlR/EJOizr2FXa1Vs714Md+t8XdkJEm\n",
       "L+SkCHu31gQgdN1ei/shm4jrCzk4UuZByBx7a4cOHHXW/C7IsZPxQh6WU4uetGQ1WrLmg331vw2y\n",
       "9PKFDPfHoxHGGcjKj6TdGcj8BGSk7QsZFKzRM5D1EKHaGTIdzRmzue4QZAcpy/z3RZul3QsZlMN5\n",
       "jVRrKfYs2dDJksUpSzZgFjqSd8xdAaf0BNZuQybn1L0g4CtW69g4mLXmGGThm5CNR0ohMXxzCUyq\n",
       "BTkdgsLLEIktdexowWZ7BiGzdTUQ8hTkCwK+IRESI7JYdeQQZOJTyNIKbzfzsiygsc4xWWmBCkOw\n",
       "eiu+n940otzxmscEkJmAkNUyZnl0c5rVvSDgG7bkeLHtCNfHLJlhf+/czobgFvtltNwxZTlk56NF\n",
       "fJkHlpyDfEHAF5QuQsZTV9vpfiiiDtlK69Xp3l0+P7IhyLW/rtbxAhfuB9uoQi2d58fxbOqs7nkB\n",
       "3+B3RducjbdKLpxpW7J0g82cn9wkT2zbdLdeV3kiah0LmkFW26jG2i5M1r6zZyGfF/BlzjXFXY8Z\n",
       "dF/N3nLNgs1c8DdToukQwk68OWS1ji3OIBsfu2NsNGxtTkPeERDVs8pzUb6MRLjqayztjH2qgozN\n",
       "0EfeUNmRhJA5CTZzYXaTzI/xNYdstde84+VMC0bEm5yxdlz0ZTXmlT2zPITXuKZuIsCwyEMwHdyz\n",
       "dOE5eWGd1TwRwXIRac3c8mMXUEWQZby9il3Hi40vXUkXuMQ2ZH2H70mtY9IVINs4sAr92Dx7phzW\n",
       "Iec6aBUCN2aq6sYCNOVwoDb6jiXI8QtkFmRwKoLbXchzy48hc8+jqCTSf9qGhqIrkJ1mbHBywRwT\n",
       "ofkff/4K5a/x+e9FyFAdav75tf0yFB+NIBlC7CPyWsfKFyCzGDJxpVnLmFpyHC7MHFuf07GA2D3k\n",
       "qnM7kBN/cp4uW/y9ipj2yAbkpeVJS46dHqN3LNlMo/JXDhu44G2/qwQ57Zh3+5AHQNTNERdVQ9Qe\n",
       "51GIInxw5hqQNwGhsotiKYcEbkJeXiBsLnryGfpchCU7kJeWWROgWAOyxk2vKNV6Ftd3FxJuqW+n\n",
       "62v/tlynHS/5s8aeHD7e1JehvBs+cCejaUzUsFwT3oK8CBi/Z/SFXZR8KVoyTZBgAzKzkYgp4gjN\n",
       "2ZoOokDo2jJtAhRLHS/oDXSx0+NcEzKn1bzmxyXz7bqq37UdYmUdL18wgpwmO+XsVEnjxLx8cgoh\n",
       "D3PH6QZkCbwyxqLFOrkbUYDMWMnf4joXMdVVLXlrmTYBiiWeP3RmpU8cE0EakOWilj6f8sri5GwI\n",
       "Ub6z1vESXAHIMomTg/Esjg928wpPxWQFZIJsbGHXBi4I3jwnDW2DWWsx/LYFyJo2DQaIUG3IW8u8\n",
       "yapYajms4fQYrHnF3TTa+3H1IuHhbBBlU1e64Xch1dc67nkhGcJRnuycK9RoWQopG1nyEJi5vSwu\n",
       "EAFW2iQqKEDuikGD0rmI9nINWuZNVsXS9VLDbHDuF1ndTmveXJqXg3tVC3JRIa1papClH2UFrFv8\n",
       "Nq2fDn8G2Uw3vC3YPKBzk0M2lasZPcpEONewZNhS53vvqljyVbtNGfFRfvI5yHtDoJUcz5plADiB\n",
       "l55C5kEBZ8NLUqtllZi8gw8hT3eaxgM7Nu7UhnkQJuSQVcU51RKlIsaqCuSoZdYEKJZ8uGWK9doI\n",
       "9Cjk3TTc7hB0cfPfTv8ATuClt26GmPFIkx9Vd5lulSmZQ67Nz9ydnz1+3RSKDsXJwzoyD5SC895n\n",
       "IO+G07tDKEfuG3qAE0QNt1//0WR2wbj5DPL6QmHmy3LFrZCRZte1/iyB2aHLRRYCLHBcueHkXj4H\n",
       "2S6xZe1kJoVsXT0wTC7iLLnseyHT7iHI001rowdPIPgzlQvYt5YNpxXoOcj7c7HyXF6eij/JptDP\n",
       "JMP1mj+i9XLTegxYgz9VvoD9EGR4h+m9rRlP+vu0Xm9ay+DZhWRV+QL2M5CjreGFXI3TL2q93LSe\n",
       "gjfskgvYD0OOLiO+kNHRv1w9ZMnCRZALF7AfgewEeiGnWS/6gNbLTesRclifyxewn4As44OYF/Lo\n",
       "e/XyAa2nm9YGezYs0iFDU7iA/Qhk0xN0I+Sf8j9Dyjf2/ltab/8dBB74XP+fIT+nSPVzdDF5SPgv\n",
       "uElCBMev18AAAAAASUVORK5CYII=\n",
       "\" style=\"display:inline;vertical-align:middle;\" /></a><br>"
      ],
      "text/plain": [
       "<IPython.core.display.HTML object>"
      ]
     },
     "metadata": {},
     "output_type": "display_data"
    }
   ],
   "source": [
    "bijective_by_finite_image_size = Forall(\n",
    "    n, Forall(\n",
    "        (f, A), InSet(f, Bijections(A, Image(f, A))),\n",
    "        condition=total_ordering(\n",
    "            Equals(Card(Image(f, A)), Card(A)),\n",
    "            Equals(Card(A), n))),\n",
    "    domain=Natural)"
   ]
  },
  {
   "cell_type": "code",
   "execution_count": 12,
   "metadata": {},
   "outputs": [
    {
     "name": "stdout",
     "output_type": "stream",
     "text": [
      "These theorems may now be imported from the theory package: proveit.logic.sets.functions.bijections\n"
     ]
    }
   ],
   "source": [
    "%end theorems"
   ]
  },
  {
   "cell_type": "code",
   "execution_count": null,
   "metadata": {},
   "outputs": [],
   "source": []
  }
 ],
 "metadata": {
  "kernelspec": {
   "display_name": "Python 3",
   "language": "python",
   "name": "python3"
  }
 },
 "nbformat": 4,
 "nbformat_minor": 0
}