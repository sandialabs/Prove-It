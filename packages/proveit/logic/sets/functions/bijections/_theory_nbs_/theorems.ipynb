{
 "cells": [
  {
   "cell_type": "markdown",
   "metadata": {},
   "source": [
    "Theorems (or conjectures) for the theory of <a class=\"ProveItLink\" href=\"theory.ipynb\">proveit.logic.sets.functions.bijections</a>\n",
    "========"
   ]
  },
  {
   "cell_type": "code",
   "execution_count": null,
   "metadata": {},
   "outputs": [],
   "source": [
    "import proveit\n",
    "# Prepare this notebook for defining the theorems of a theory:\n",
    "%theorems_notebook # Keep this at the top following 'import proveit'.\n",
    "\n",
    "from proveit import f, n, x, A, B, C, fx\n",
    "from proveit.relation import total_ordering\n",
    "from proveit.logic import (\n",
    "    And, Forall, Equals, InSet, Card,\n",
    "    Functions, image_of_set, Bijections, Injections, Surjections)\n",
    "from proveit.numbers import Natural"
   ]
  },
  {
   "cell_type": "code",
   "execution_count": null,
   "metadata": {},
   "outputs": [],
   "source": [
    "%begin theorems"
   ]
  },
  {
   "cell_type": "code",
   "execution_count": null,
   "metadata": {},
   "outputs": [],
   "source": [
    "membership_unfolding = Forall(\n",
    "    (A, B), Forall(\n",
    "        f, And(InSet(f, Injections(A, B)),\n",
    "                   InSet(f, Surjections(A, B))),\n",
    "        domain=Bijections(A, B)))"
   ]
  },
  {
   "cell_type": "code",
   "execution_count": null,
   "metadata": {},
   "outputs": [],
   "source": [
    "membership_folding = Forall(\n",
    "    (A, B), Forall(\n",
    "        f, InSet(f, Bijections(A, B)),\n",
    "        conditions=[InSet(f, Injections(A, B)),\n",
    "                    InSet(f, Surjections(A, B))]))"
   ]
  },
  {
   "cell_type": "markdown",
   "metadata": {},
   "source": [
    "A bijection is a function, an injection, and a surjection."
   ]
  },
  {
   "cell_type": "code",
   "execution_count": null,
   "metadata": {},
   "outputs": [],
   "source": [
    "bijection_is_function = Forall(\n",
    "    (A, B), Forall(f, InSet(f, Functions(A, B)),\n",
    "                   domain=Bijections(A, B)))"
   ]
  },
  {
   "cell_type": "code",
   "execution_count": null,
   "metadata": {},
   "outputs": [],
   "source": [
    "bijection_is_injection = Forall(\n",
    "    (A, B), Forall(f, InSet(f, Injections(A, B)),\n",
    "                   domain=Bijections(A, B)))"
   ]
  },
  {
   "cell_type": "code",
   "execution_count": null,
   "metadata": {},
   "outputs": [],
   "source": [
    "bijection_is_surjection = Forall(\n",
    "    (A, B), Forall(f, InSet(f, Surjections(A, B)),\n",
    "                   domain=Bijections(A, B)))"
   ]
  },
  {
   "cell_type": "markdown",
   "metadata": {},
   "source": [
    "If the domain is finite, we know the function is a bijection if its image covers the codomain and is the same size as the domain."
   ]
  },
  {
   "cell_type": "code",
   "execution_count": null,
   "metadata": {},
   "outputs": [],
   "source": [
    "bijective_by_finite_image_size = Forall(\n",
    "    n, Forall(\n",
    "        (f, A), InSet(f, Bijections(A, image_of_set(f, A))),\n",
    "        condition=total_ordering(\n",
    "            Equals(Card(image_of_set(f, A)), Card(A)),\n",
    "            Equals(Card(A), n))),\n",
    "    domain=Natural)"
   ]
  },
  {
   "cell_type": "code",
   "execution_count": null,
   "metadata": {},
   "outputs": [],
   "source": [
    "%end theorems"
   ]
  },
  {
   "cell_type": "code",
   "execution_count": null,
   "metadata": {},
   "outputs": [],
   "source": []
  }
 ],
 "metadata": {
  "kernelspec": {
   "display_name": "Python 3",
   "language": "python",
   "name": "python3"
  }
 },
 "nbformat": 4,
 "nbformat_minor": 0
}
