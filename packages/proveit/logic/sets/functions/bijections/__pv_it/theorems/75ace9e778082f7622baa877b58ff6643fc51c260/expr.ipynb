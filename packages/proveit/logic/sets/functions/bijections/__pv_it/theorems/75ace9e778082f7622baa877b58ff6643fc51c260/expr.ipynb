{
 "cells": [
  {
   "cell_type": "markdown",
   "metadata": {},
   "source": [
    "Expression of type <a class=\"ProveItLink\" href=\"../../../../../../../../../doc/html/api/proveit.logic.Forall.html\">Forall</a>\n",
    "=======================\n",
    "# from the theory of <a class=\"ProveItLink\" href=\"../../../_theory_nbs_/theory.ipynb\">proveit.logic.sets.functions.bijections</a>"
   ]
  },
  {
   "cell_type": "code",
   "execution_count": 1,
   "metadata": {},
   "outputs": [],
   "source": [
    "import proveit\n",
    "# Automation is not needed when building an expression:\n",
    "proveit.defaults.automation = False # This will speed things up.\n",
    "proveit.defaults.inline_pngs = False # Makes files smaller.\n",
    "%load_expr # Load the stored expression as 'stored_expr'\n",
    "# import Expression classes needed to build the expression\n",
    "from proveit import A, f, fx, fy, x, y\n",
    "from proveit.logic import Bijections, Forall, Image, Implies, InSet, NotEquals"
   ]
  },
  {
   "cell_type": "code",
   "execution_count": 2,
   "metadata": {},
   "outputs": [
    {
     "data": {
      "text/html": [
       "<strong id=\"expr\">expr:</strong> <a class=\"ProveItLink\" href=\"expr.ipynb\"><img src=\"expr.png\" style=\"display:inline;vertical-align:middle;\" /></a><br>"
      ],
      "text/plain": [
       "<IPython.core.display.HTML object>"
      ]
     },
     "metadata": {},
     "output_type": "display_data"
    }
   ],
   "source": [
    "# build up the expression from sub-expressions\n",
    "expr = Forall(instance_param_or_params = [f, A], instance_expr = Implies(Forall(instance_param_or_params = [x, y], instance_expr = NotEquals(fx, fy), domain = A, condition = NotEquals(x, y)), InSet(f, Bijections(A, Image(f, A)))))"
   ]
  },
  {
   "cell_type": "code",
   "execution_count": 3,
   "metadata": {},
   "outputs": [
    {
     "name": "stdout",
     "output_type": "stream",
     "text": [
      "Passed sanity check: expr matches stored_expr\n"
     ]
    }
   ],
   "source": [
    "# check that the built expression is the same as the stored expression\n",
    "assert expr == stored_expr\n",
    "assert expr._style_id == stored_expr._style_id\n",
    "print(\"Passed sanity check: expr matches stored_expr\")"
   ]
  },
  {
   "cell_type": "code",
   "execution_count": 4,
   "metadata": {},
   "outputs": [
    {
     "name": "stdout",
     "output_type": "stream",
     "text": [
      "\\forall_{f, A}~\\left(\\left[\\forall_{x, y \\in A~|~x \\neq y}~\\left(f\\left(x\\right) \\neq f\\left(y\\right)\\right)\\right] \\Rightarrow \\left(f \\in \\left[A \\xrightarrow[\\text{onto}]{\\text{1-to-1}} f^{\\rightarrow}(A)\\right]\\right)\\right)\n"
     ]
    }
   ],
   "source": [
    "# Show the LaTeX representation of the expression for convenience if you need it.\n",
    "print(stored_expr.latex())"
   ]
  },
  {
   "cell_type": "code",
   "execution_count": 5,
   "metadata": {},
   "outputs": [
    {
     "data": {
      "text/html": [
       "<table>\n",
       "<tr><th>name</th><th>description</th><th>default</th><th>current value</th><th>related methods</th></tr><tr><td>with_wrapping</td><td>If 'True', wrap the Expression after the parameters</td><td>None</td><td>None/False</td><td>('with_wrapping',)</td></tr>\n",
       "<tr><td>condition_wrapping</td><td>Wrap 'before' or 'after' the condition (or None).</td><td>None</td><td>None/False</td><td>('with_wrap_after_condition', 'with_wrap_before_condition')</td></tr>\n",
       "<tr><td>wrap_params</td><td>If 'True', wraps every two parameters AND wraps the Expression after the parameters</td><td>None</td><td>None/False</td><td>('with_params',)</td></tr>\n",
       "<tr><td>justification</td><td>justify to the 'left', 'center', or 'right' in the array cells</td><td>center</td><td>center</td><td>('with_justification',)</td></tr>\n",
       "</table>\n"
      ],
      "text/plain": [
       "style name: with_wrapping\n",
       "description: If 'True', wrap the Expression after the parameters\n",
       "default: None\n",
       "current value: None/False\n",
       "related methods: ('with_wrapping',)\n",
       "style name: condition_wrapping\n",
       "description: Wrap 'before' or 'after' the condition (or None).\n",
       "default: None\n",
       "current value: None/False\n",
       "related methods: ('with_wrap_after_condition', 'with_wrap_before_condition')\n",
       "style name: wrap_params\n",
       "description: If 'True', wraps every two parameters AND wraps the Expression after the parameters\n",
       "default: None\n",
       "current value: None/False\n",
       "related methods: ('with_params',)\n",
       "style name: justification\n",
       "description: justify to the 'left', 'center', or 'right' in the array cells\n",
       "default: center\n",
       "current value: center\n",
       "related methods: ('with_justification',)"
      ]
     },
     "metadata": {},
     "output_type": "display_data"
    }
   ],
   "source": [
    "stored_expr.style_options()"
   ]
  },
  {
   "cell_type": "code",
   "execution_count": 6,
   "metadata": {},
   "outputs": [
    {
     "data": {
      "text/html": [
       "<table><tr><th>&nbsp;</th><th>core type</th><th>sub-expressions</th><th>expression</th></tr>\n",
       "<tr><td>0</td><td>Operation</td><td>operator:&nbsp;8<br>operand:&nbsp;2<br></td><td><a class=\"ProveItLink\" href=\"expr.ipynb\"><img src=\"expr.png\" style=\"display:inline;vertical-align:middle;\" /></a></td></tr>\n",
       "<tr><td>1</td><td>ExprTuple</td><td>2</td><td><a class=\"ProveItLink\" href=\"../ceb63243c7d8e5092893698e11ddd5724989002e0/expr.ipynb\"><img src=\"../ceb63243c7d8e5092893698e11ddd5724989002e0/expr.png\" style=\"display:inline;vertical-align:middle;\" /></a></td></tr>\n",
       "<tr><td>2</td><td>Lambda</td><td>parameters:&nbsp;23<br>body:&nbsp;3<br></td><td><a class=\"ProveItLink\" href=\"../23df6bdf7d69ecf3dcc055441c076dc518c542f60/expr.ipynb\"><img src=\"../23df6bdf7d69ecf3dcc055441c076dc518c542f60/expr.png\" style=\"display:inline;vertical-align:middle;\" /></a></td></tr>\n",
       "<tr><td>3</td><td>Operation</td><td>operator:&nbsp;4<br>operands:&nbsp;5<br></td><td><a class=\"ProveItLink\" href=\"../c4c75ca0917102cb09d7eeced88de65e7c67e06c0/expr.ipynb\"><img src=\"../c4c75ca0917102cb09d7eeced88de65e7c67e06c0/expr.png\" style=\"display:inline;vertical-align:middle;\" /></a></td></tr>\n",
       "<tr><td>4</td><td>Literal</td><td></td><td><a class=\"ProveItLink\" href=\"../../../../../../booleans/implication/__pv_it/common/02bdb382575728da8cdbaed545b9096ea7a1bd5b0/expr.ipynb\"><img src=\"../../../../../../booleans/implication/__pv_it/common/02bdb382575728da8cdbaed545b9096ea7a1bd5b0/expr.png\" style=\"display:inline;vertical-align:middle;\" /></a></td></tr>\n",
       "<tr><td>5</td><td>ExprTuple</td><td>6, 7</td><td><a class=\"ProveItLink\" href=\"../8287728fe929be4e116eb3f47452accd8b489cda0/expr.ipynb\"><img src=\"../8287728fe929be4e116eb3f47452accd8b489cda0/expr.png\" style=\"display:inline;vertical-align:middle;\" /></a></td></tr>\n",
       "<tr><td>6</td><td>Operation</td><td>operator:&nbsp;8<br>operand:&nbsp;11<br></td><td><a class=\"ProveItLink\" href=\"../e37d2a09841a4c9f7edc852b4c41cec6cc3998030/expr.ipynb\"><img src=\"../e37d2a09841a4c9f7edc852b4c41cec6cc3998030/expr.png\" style=\"display:inline;vertical-align:middle;\" /></a></td></tr>\n",
       "<tr><td>7</td><td>Operation</td><td>operator:&nbsp;33<br>operands:&nbsp;10<br></td><td><a class=\"ProveItLink\" href=\"../6e48dc56a435f86d3bef41b7b22d1addb448e8790/expr.ipynb\"><img src=\"../6e48dc56a435f86d3bef41b7b22d1addb448e8790/expr.png\" style=\"display:inline;vertical-align:middle;\" /></a></td></tr>\n",
       "<tr><td>8</td><td>Literal</td><td></td><td><a class=\"ProveItLink\" href=\"../../../../../../booleans/quantification/universality/__pv_it/common/083d2baa0b8ecab1d230f9ec29a15aa1355809fb0/expr.ipynb\"><img src=\"../../../../../../booleans/quantification/universality/__pv_it/common/083d2baa0b8ecab1d230f9ec29a15aa1355809fb0/expr.png\" style=\"display:inline;vertical-align:middle;\" /></a></td></tr>\n",
       "<tr><td>9</td><td>ExprTuple</td><td>11</td><td><a class=\"ProveItLink\" href=\"../44609c03bf15646b57616cef08be30b5d6d110c40/expr.ipynb\"><img src=\"../44609c03bf15646b57616cef08be30b5d6d110c40/expr.png\" style=\"display:inline;vertical-align:middle;\" /></a></td></tr>\n",
       "<tr><td>10</td><td>ExprTuple</td><td>30, 12</td><td><a class=\"ProveItLink\" href=\"../3c68886ac2d26b7feda435ff9a3ec525deb4dd770/expr.ipynb\"><img src=\"../3c68886ac2d26b7feda435ff9a3ec525deb4dd770/expr.png\" style=\"display:inline;vertical-align:middle;\" /></a></td></tr>\n",
       "<tr><td>11</td><td>Lambda</td><td>parameters:&nbsp;36<br>body:&nbsp;13<br></td><td><a class=\"ProveItLink\" href=\"../0f8d1e7a1cc3cd4ef952a2d5febcbfed36a442360/expr.ipynb\"><img src=\"../0f8d1e7a1cc3cd4ef952a2d5febcbfed36a442360/expr.png\" style=\"display:inline;vertical-align:middle;\" /></a></td></tr>\n",
       "<tr><td>12</td><td>Operation</td><td>operator:&nbsp;14<br>operands:&nbsp;15<br></td><td><a class=\"ProveItLink\" href=\"../1052c40fa8143093ed6af20c66479faaf13354580/expr.ipynb\"><img src=\"../1052c40fa8143093ed6af20c66479faaf13354580/expr.png\" style=\"display:inline;vertical-align:middle;\" /></a></td></tr>\n",
       "<tr><td>13</td><td>Conditional</td><td>value:&nbsp;16<br>condition:&nbsp;17<br></td><td><a class=\"ProveItLink\" href=\"../e1ad24bca543d6ae9360c7d8d6fd114a515b2c400/expr.ipynb\"><img src=\"../e1ad24bca543d6ae9360c7d8d6fd114a515b2c400/expr.png\" style=\"display:inline;vertical-align:middle;\" /></a></td></tr>\n",
       "<tr><td>14</td><td>Literal</td><td></td><td><a class=\"ProveItLink\" href=\"../../common/4d5b70c2a4c97df1b8c27c8cfe8e6aacede0cb130/expr.ipynb\"><img src=\"../../common/4d5b70c2a4c97df1b8c27c8cfe8e6aacede0cb130/expr.png\" style=\"display:inline;vertical-align:middle;\" /></a></td></tr>\n",
       "<tr><td>15</td><td>ExprTuple</td><td>37, 18</td><td><a class=\"ProveItLink\" href=\"../cf1b7b429db3edbccafd2fc610609e63e995e1940/expr.ipynb\"><img src=\"../cf1b7b429db3edbccafd2fc610609e63e995e1940/expr.png\" style=\"display:inline;vertical-align:middle;\" /></a></td></tr>\n",
       "<tr><td>16</td><td>Operation</td><td>operator:&nbsp;35<br>operands:&nbsp;19<br></td><td><a class=\"ProveItLink\" href=\"../40fd0347f245fbb45eee0c189aec3871c0c2cc2c0/expr.ipynb\"><img src=\"../40fd0347f245fbb45eee0c189aec3871c0c2cc2c0/expr.png\" style=\"display:inline;vertical-align:middle;\" /></a></td></tr>\n",
       "<tr><td>17</td><td>Operation</td><td>operator:&nbsp;20<br>operands:&nbsp;21<br></td><td><a class=\"ProveItLink\" href=\"../0a46cd1e842d7c773b6ebace55070734923c8bb30/expr.ipynb\"><img src=\"../0a46cd1e842d7c773b6ebace55070734923c8bb30/expr.png\" style=\"display:inline;vertical-align:middle;\" /></a></td></tr>\n",
       "<tr><td>18</td><td>Operation</td><td>operator:&nbsp;22<br>operands:&nbsp;23<br></td><td><a class=\"ProveItLink\" href=\"../c2d249343af82d52bc0f34a2743e3438b4d717390/expr.ipynb\"><img src=\"../c2d249343af82d52bc0f34a2743e3438b4d717390/expr.png\" style=\"display:inline;vertical-align:middle;\" /></a></td></tr>\n",
       "<tr><td>19</td><td>ExprTuple</td><td>24, 25</td><td><a class=\"ProveItLink\" href=\"../5cb1f98146ea4588149f2900be236ab7b6a488230/expr.ipynb\"><img src=\"../5cb1f98146ea4588149f2900be236ab7b6a488230/expr.png\" style=\"display:inline;vertical-align:middle;\" /></a></td></tr>\n",
       "<tr><td>20</td><td>Literal</td><td></td><td><a class=\"ProveItLink\" href=\"../../../../../../booleans/conjunction/__pv_it/common/42118ff318bd65d98b1393f64ce7c2269feef76e0/expr.ipynb\"><img src=\"../../../../../../booleans/conjunction/__pv_it/common/42118ff318bd65d98b1393f64ce7c2269feef76e0/expr.png\" style=\"display:inline;vertical-align:middle;\" /></a></td></tr>\n",
       "<tr><td>21</td><td>ExprTuple</td><td>26, 27, 28</td><td><a class=\"ProveItLink\" href=\"../35fd86652069e34d0015938f4d4ce3738b6358870/expr.ipynb\"><img src=\"../35fd86652069e34d0015938f4d4ce3738b6358870/expr.png\" style=\"display:inline;vertical-align:middle;\" /></a></td></tr>\n",
       "<tr><td>22</td><td>Literal</td><td></td><td><a class=\"ProveItLink\" href=\"../../../../images/__pv_it/common/dd0191592de31e376dabd0ebbe405d35adcb2c8d0/expr.ipynb\"><img src=\"../../../../images/__pv_it/common/dd0191592de31e376dabd0ebbe405d35adcb2c8d0/expr.png\" style=\"display:inline;vertical-align:middle;\" /></a></td></tr>\n",
       "<tr><td>23</td><td>ExprTuple</td><td>30, 37</td><td><a class=\"ProveItLink\" href=\"../7267bdc18720c36e9f152f52ec58c702f01bd5280/expr.ipynb\"><img src=\"../7267bdc18720c36e9f152f52ec58c702f01bd5280/expr.png\" style=\"display:inline;vertical-align:middle;\" /></a></td></tr>\n",
       "<tr><td>24</td><td>Operation</td><td>operator:&nbsp;30<br>operand:&nbsp;38<br></td><td><a class=\"ProveItLink\" href=\"../../../../../../../__pv_it/common/6774f61458aed4cc9eb250f92b3634f1d09b19a40/expr.ipynb\"><img src=\"../../../../../../../__pv_it/common/6774f61458aed4cc9eb250f92b3634f1d09b19a40/expr.png\" style=\"display:inline;vertical-align:middle;\" /></a></td></tr>\n",
       "<tr><td>25</td><td>Operation</td><td>operator:&nbsp;30<br>operand:&nbsp;39<br></td><td><a class=\"ProveItLink\" href=\"../../../../../../../__pv_it/common/06ea2446fcc086288e80a0ce3d5eebc763658e570/expr.ipynb\"><img src=\"../../../../../../../__pv_it/common/06ea2446fcc086288e80a0ce3d5eebc763658e570/expr.png\" style=\"display:inline;vertical-align:middle;\" /></a></td></tr>\n",
       "<tr><td>26</td><td>Operation</td><td>operator:&nbsp;33<br>operands:&nbsp;32<br></td><td><a class=\"ProveItLink\" href=\"../bffc8f58d953dcb8331468867a32979a833e73840/expr.ipynb\"><img src=\"../bffc8f58d953dcb8331468867a32979a833e73840/expr.png\" style=\"display:inline;vertical-align:middle;\" /></a></td></tr>\n",
       "<tr><td>27</td><td>Operation</td><td>operator:&nbsp;33<br>operands:&nbsp;34<br></td><td><a class=\"ProveItLink\" href=\"../16ef6c66eb83fd42a2b2c08927dc5090f9d9ec8d0/expr.ipynb\"><img src=\"../16ef6c66eb83fd42a2b2c08927dc5090f9d9ec8d0/expr.png\" style=\"display:inline;vertical-align:middle;\" /></a></td></tr>\n",
       "<tr><td>28</td><td>Operation</td><td>operator:&nbsp;35<br>operands:&nbsp;36<br></td><td><a class=\"ProveItLink\" href=\"../9aa017d91adf68d05723ae7ce3aae01306229f580/expr.ipynb\"><img src=\"../9aa017d91adf68d05723ae7ce3aae01306229f580/expr.png\" style=\"display:inline;vertical-align:middle;\" /></a></td></tr>\n",
       "<tr><td>29</td><td>ExprTuple</td><td>38</td><td><a class=\"ProveItLink\" href=\"../../../../../../../__pv_it/common/eacfeccc0521684fcb20fe8f5180ac50fca471f20/expr.ipynb\"><img src=\"../../../../../../../__pv_it/common/eacfeccc0521684fcb20fe8f5180ac50fca471f20/expr.png\" style=\"display:inline;vertical-align:middle;\" /></a></td></tr>\n",
       "<tr><td>30</td><td>Variable</td><td></td><td><a class=\"ProveItLink\" href=\"../../../../../../../__pv_it/common/01b6dbb444a31fc38af4c2379badef6c75b363710/expr.ipynb\"><img src=\"../../../../../../../__pv_it/common/01b6dbb444a31fc38af4c2379badef6c75b363710/expr.png\" style=\"display:inline;vertical-align:middle;\" /></a></td></tr>\n",
       "<tr><td>31</td><td>ExprTuple</td><td>39</td><td><a class=\"ProveItLink\" href=\"../../../../../../../__pv_it/common/8ec7f6fe639763828b300003a52d700ece4a5c240/expr.ipynb\"><img src=\"../../../../../../../__pv_it/common/8ec7f6fe639763828b300003a52d700ece4a5c240/expr.png\" style=\"display:inline;vertical-align:middle;\" /></a></td></tr>\n",
       "<tr><td>32</td><td>ExprTuple</td><td>38, 37</td><td><a class=\"ProveItLink\" href=\"../dd56fa97225795c53cc6b814c99b8e98e0e999f10/expr.ipynb\"><img src=\"../dd56fa97225795c53cc6b814c99b8e98e0e999f10/expr.png\" style=\"display:inline;vertical-align:middle;\" /></a></td></tr>\n",
       "<tr><td>33</td><td>Literal</td><td></td><td><a class=\"ProveItLink\" href=\"../../../../../membership/__pv_it/common/477487d8796864d23d5810f83761435f25167f690/expr.ipynb\"><img src=\"../../../../../membership/__pv_it/common/477487d8796864d23d5810f83761435f25167f690/expr.png\" style=\"display:inline;vertical-align:middle;\" /></a></td></tr>\n",
       "<tr><td>34</td><td>ExprTuple</td><td>39, 37</td><td><a class=\"ProveItLink\" href=\"../d0a1eef51df1f2fb4d3f633368b4033f3818c1160/expr.ipynb\"><img src=\"../d0a1eef51df1f2fb4d3f633368b4033f3818c1160/expr.png\" style=\"display:inline;vertical-align:middle;\" /></a></td></tr>\n",
       "<tr><td>35</td><td>Literal</td><td></td><td><a class=\"ProveItLink\" href=\"../../../../../../equality/__pv_it/common/d96270bc9bb1bad54f773b1c04bfb343a739642c0/expr.ipynb\"><img src=\"../../../../../../equality/__pv_it/common/d96270bc9bb1bad54f773b1c04bfb343a739642c0/expr.png\" style=\"display:inline;vertical-align:middle;\" /></a></td></tr>\n",
       "<tr><td>36</td><td>ExprTuple</td><td>38, 39</td><td><a class=\"ProveItLink\" href=\"../bbaa48af4605eceb7fbc4af345a1eb6de480e1c50/expr.ipynb\"><img src=\"../bbaa48af4605eceb7fbc4af345a1eb6de480e1c50/expr.png\" style=\"display:inline;vertical-align:middle;\" /></a></td></tr>\n",
       "<tr><td>37</td><td>Variable</td><td></td><td><a class=\"ProveItLink\" href=\"../../../../../../../__pv_it/common/09585084922504426caf1db2ff588a23a0932a960/expr.ipynb\"><img src=\"../../../../../../../__pv_it/common/09585084922504426caf1db2ff588a23a0932a960/expr.png\" style=\"display:inline;vertical-align:middle;\" /></a></td></tr>\n",
       "<tr><td>38</td><td>Variable</td><td></td><td><a class=\"ProveItLink\" href=\"../../../../../../../__pv_it/common/a0d9d672aa5e272d907247690c152cc2c6daafb70/expr.ipynb\"><img src=\"../../../../../../../__pv_it/common/a0d9d672aa5e272d907247690c152cc2c6daafb70/expr.png\" style=\"display:inline;vertical-align:middle;\" /></a></td></tr>\n",
       "<tr><td>39</td><td>Variable</td><td></td><td><a class=\"ProveItLink\" href=\"../../../../../../../__pv_it/common/ff7dba4ef0bbe791ab573bf2d9c220a304399ac80/expr.ipynb\"><img src=\"../../../../../../../__pv_it/common/ff7dba4ef0bbe791ab573bf2d9c220a304399ac80/expr.png\" style=\"display:inline;vertical-align:middle;\" /></a></td></tr>\n",
       "</table>\n"
      ],
      "text/plain": [
       "0. forall_{f, A} ([forall_{x, y in A | x != y} (f(x) != f(y))] => (f in Bijections(A, f^*(A))))\n",
       "   core type: Operation\n",
       "   operator: 8\n",
       "   operand: 2\n",
       "1. ((f, A) -> ([forall_{x, y in A | x != y} (f(x) != f(y))] => (f in Bijections(A, f^*(A)))))\n",
       "   core type: ExprTuple\n",
       "   sub-expressions: 2\n",
       "2. (f, A) -> ([forall_{x, y in A | x != y} (f(x) != f(y))] => (f in Bijections(A, f^*(A))))\n",
       "   core type: Lambda\n",
       "   parameters: 23\\n   body: 3\n",
       "3. [forall_{x, y in A | x != y} (f(x) != f(y))] => (f in Bijections(A, f^*(A)))\n",
       "   core type: Operation\n",
       "   operator: 4\n",
       "   operands: 5\n",
       "4. =>\n",
       "   core type: Literal\n",
       "   sub-expressions: \n",
       "5. (forall_{x, y in A | x != y} (f(x) != f(y)), f in Bijections(A, f^*(A)))\n",
       "   core type: ExprTuple\n",
       "   sub-expressions: 6, 7\n",
       "6. forall_{x, y in A | x != y} (f(x) != f(y))\n",
       "   core type: Operation\n",
       "   operator: 8\n",
       "   operand: 11\n",
       "7. f in Bijections(A, f^*(A))\n",
       "   core type: Operation\n",
       "   operator: 33\n",
       "   operands: 10\n",
       "8. forall\n",
       "   core type: Literal\n",
       "   sub-expressions: \n",
       "9. ((x, y) -> {f(x) != f(y) if x in A ,  y in A ,  x != y.)\n",
       "   core type: ExprTuple\n",
       "   sub-expressions: 11\n",
       "10. (f, Bijections(A, f^*(A)))\n",
       "    core type: ExprTuple\n",
       "    sub-expressions: 30, 12\n",
       "11. (x, y) -> {f(x) != f(y) if x in A ,  y in A ,  x != y.\n",
       "    core type: Lambda\n",
       "    parameters: 36\\n    body: 13\n",
       "12. Bijections(A, f^*(A))\n",
       "    core type: Operation\n",
       "    operator: 14\n",
       "    operands: 15\n",
       "13. {f(x) != f(y) if x in A ,  y in A ,  x != y.\n",
       "    core type: Conditional\n",
       "    value: 16\n",
       "    condition: 17\n",
       "14. Bijections\n",
       "    core type: Literal\n",
       "    sub-expressions: \n",
       "15. (A, f^*(A))\n",
       "    core type: ExprTuple\n",
       "    sub-expressions: 37, 18\n",
       "16. f(x) != f(y)\n",
       "    core type: Operation\n",
       "    operator: 35\n",
       "    operands: 19\n",
       "17. (x in A) and (y in A) and (x != y)\n",
       "    core type: Operation\n",
       "    operator: 20\n",
       "    operands: 21\n",
       "18. f^*(A)\n",
       "    core type: Operation\n",
       "    operator: 22\n",
       "    operands: 23\n",
       "19. (f(x), f(y))\n",
       "    core type: ExprTuple\n",
       "    sub-expressions: 24, 25\n",
       "20. and\n",
       "    core type: Literal\n",
       "    sub-expressions: \n",
       "21. (x in A, y in A, x != y)\n",
       "    core type: ExprTuple\n",
       "    sub-expressions: 26, 27, 28\n",
       "22. IMAGE\n",
       "    core type: Literal\n",
       "    sub-expressions: \n",
       "23. (f, A)\n",
       "    core type: ExprTuple\n",
       "    sub-expressions: 30, 37\n",
       "24. f(x)\n",
       "    core type: Operation\n",
       "    operator: 30\n",
       "    operand: 38\n",
       "25. f(y)\n",
       "    core type: Operation\n",
       "    operator: 30\n",
       "    operand: 39\n",
       "26. x in A\n",
       "    core type: Operation\n",
       "    operator: 33\n",
       "    operands: 32\n",
       "27. y in A\n",
       "    core type: Operation\n",
       "    operator: 33\n",
       "    operands: 34\n",
       "28. x != y\n",
       "    core type: Operation\n",
       "    operator: 35\n",
       "    operands: 36\n",
       "29. (x)\n",
       "    core type: ExprTuple\n",
       "    sub-expressions: 38\n",
       "30. f\n",
       "    core type: Variable\n",
       "    sub-expressions: \n",
       "31. (y)\n",
       "    core type: ExprTuple\n",
       "    sub-expressions: 39\n",
       "32. (x, A)\n",
       "    core type: ExprTuple\n",
       "    sub-expressions: 38, 37\n",
       "33. in\n",
       "    core type: Literal\n",
       "    sub-expressions: \n",
       "34. (y, A)\n",
       "    core type: ExprTuple\n",
       "    sub-expressions: 39, 37\n",
       "35. !=\n",
       "    core type: Literal\n",
       "    sub-expressions: \n",
       "36. (x, y)\n",
       "    core type: ExprTuple\n",
       "    sub-expressions: 38, 39\n",
       "37. A\n",
       "    core type: Variable\n",
       "    sub-expressions: \n",
       "38. x\n",
       "    core type: Variable\n",
       "    sub-expressions: \n",
       "39. y\n",
       "    core type: Variable\n",
       "    sub-expressions: "
      ]
     },
     "metadata": {},
     "output_type": "display_data"
    }
   ],
   "source": [
    "# display the expression information\n",
    "stored_expr.expr_info()"
   ]
  },
  {
   "cell_type": "code",
   "execution_count": null,
   "metadata": {},
   "outputs": [],
   "source": []
  }
 ],
 "metadata": {
  "kernelspec": {
   "display_name": "Python 3",
   "language": "python",
   "name": "python3"
  }
 },
 "nbformat": 4,
 "nbformat_minor": 0
}