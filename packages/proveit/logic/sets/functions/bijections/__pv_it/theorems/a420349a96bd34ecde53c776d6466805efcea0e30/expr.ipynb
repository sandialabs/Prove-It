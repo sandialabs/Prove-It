{
 "cells": [
  {
   "cell_type": "markdown",
   "metadata": {},
   "source": [
    "Expression of type <a class=\"ProveItLink\" href=\"../../../../../../../../../doc/html/api/proveit.ExprTuple.html\">ExprTuple</a>\n",
    "=======================\n",
    "# from the theory of <a class=\"ProveItLink\" href=\"../../../_theory_nbs_/theory.ipynb\">proveit.logic.sets.functions.bijections</a>"
   ]
  },
  {
   "cell_type": "code",
   "execution_count": 1,
   "metadata": {},
   "outputs": [],
   "source": [
    "import proveit\n",
    "# Automation is not needed when building an expression:\n",
    "proveit.defaults.automation = False # This will speed things up.\n",
    "proveit.defaults.inline_pngs = False # Makes files smaller.\n",
    "%load_expr # Load the stored expression as 'stored_expr'\n",
    "# import Expression classes needed to build the expression\n",
    "from proveit import A, B, Conditional, ExprTuple, Lambda, f\n",
    "from proveit.logic import And, Bijections, InSet, Injections, Surjections"
   ]
  },
  {
   "cell_type": "code",
   "execution_count": 2,
   "metadata": {},
   "outputs": [
    {
     "data": {
      "text/html": [
       "<strong id=\"expr\">expr:</strong> <a class=\"ProveItLink\" href=\"expr.ipynb\"><img src=\"expr.png\" style=\"display:inline;vertical-align:middle;\" /></a><br>"
      ],
      "text/plain": [
       "<IPython.core.display.HTML object>"
      ]
     },
     "metadata": {},
     "output_type": "display_data"
    }
   ],
   "source": [
    "# build up the expression from sub-expressions\n",
    "expr = ExprTuple(Lambda(f, Conditional(InSet(f, Bijections(A, B)), And(InSet(f, Injections(A, B)), InSet(f, Surjections(A, B))))))"
   ]
  },
  {
   "cell_type": "code",
   "execution_count": 3,
   "metadata": {},
   "outputs": [
    {
     "name": "stdout",
     "output_type": "stream",
     "text": [
      "Passed sanity check: expr matches stored_expr\n"
     ]
    }
   ],
   "source": [
    "# check that the built expression is the same as the stored expression\n",
    "assert expr == stored_expr\n",
    "assert expr._style_id == stored_expr._style_id\n",
    "print(\"Passed sanity check: expr matches stored_expr\")"
   ]
  },
  {
   "cell_type": "code",
   "execution_count": 4,
   "metadata": {},
   "outputs": [
    {
     "name": "stdout",
     "output_type": "stream",
     "text": [
      "\\left(f \\mapsto \\left\\{f \\in \\left[A \\xrightarrow[\\text{onto}]{\\text{1-to-1}} B\\right] \\textrm{ if } f \\in \\left[A \\xrightarrow[]{\\text{1-to-1}} B\\right] ,  f \\in \\left[A \\xrightarrow[\\text{onto}]{} B\\right]\\right..\\right)\n"
     ]
    }
   ],
   "source": [
    "# Show the LaTeX representation of the expression for convenience if you need it.\n",
    "print(stored_expr.latex())"
   ]
  },
  {
   "cell_type": "code",
   "execution_count": 5,
   "metadata": {},
   "outputs": [
    {
     "data": {
      "text/html": [
       "no style options"
      ],
      "text/plain": [
       "no style options"
      ]
     },
     "metadata": {},
     "output_type": "display_data"
    }
   ],
   "source": [
    "stored_expr.style_options()"
   ]
  },
  {
   "cell_type": "code",
   "execution_count": 6,
   "metadata": {},
   "outputs": [
    {
     "data": {
      "text/html": [
       "<table><tr><th>&nbsp;</th><th>core type</th><th>sub-expressions</th><th>expression</th></tr>\n",
       "<tr><td>0</td><td>ExprTuple</td><td>1</td><td><a class=\"ProveItLink\" href=\"expr.ipynb\"><img src=\"expr.png\" style=\"display:inline;vertical-align:middle;\" /></a></td></tr>\n",
       "<tr><td>1</td><td>Lambda</td><td>parameter:&nbsp;17<br>body:&nbsp;3<br></td><td><a class=\"ProveItLink\" href=\"../a7b459a416da3d2b376c39834571d2950fe082fa0/expr.ipynb\"><img src=\"../a7b459a416da3d2b376c39834571d2950fe082fa0/expr.png\" style=\"display:inline;vertical-align:middle;\" /></a></td></tr>\n",
       "<tr><td>2</td><td>ExprTuple</td><td>17</td><td><a class=\"ProveItLink\" href=\"../dcd60a965dafb827c89a2770706e77d319eb7bb50/expr.ipynb\"><img src=\"../dcd60a965dafb827c89a2770706e77d319eb7bb50/expr.png\" style=\"display:inline;vertical-align:middle;\" /></a></td></tr>\n",
       "<tr><td>3</td><td>Conditional</td><td>value:&nbsp;4<br>condition:&nbsp;5<br></td><td><a class=\"ProveItLink\" href=\"../0b2bdc21bac98ac4e67ee558f059b314d41c28a00/expr.ipynb\"><img src=\"../0b2bdc21bac98ac4e67ee558f059b314d41c28a00/expr.png\" style=\"display:inline;vertical-align:middle;\" /></a></td></tr>\n",
       "<tr><td>4</td><td>Operation</td><td>operator:&nbsp;14<br>operands:&nbsp;6<br></td><td><a class=\"ProveItLink\" href=\"../0017b46c18006e670eb4b984f65c6ee14138683d0/expr.ipynb\"><img src=\"../0017b46c18006e670eb4b984f65c6ee14138683d0/expr.png\" style=\"display:inline;vertical-align:middle;\" /></a></td></tr>\n",
       "<tr><td>5</td><td>Operation</td><td>operator:&nbsp;7<br>operands:&nbsp;8<br></td><td><a class=\"ProveItLink\" href=\"../4b43acf07349ddb823bbe80a98b4d691ce42fa5e0/expr.ipynb\"><img src=\"../4b43acf07349ddb823bbe80a98b4d691ce42fa5e0/expr.png\" style=\"display:inline;vertical-align:middle;\" /></a></td></tr>\n",
       "<tr><td>6</td><td>ExprTuple</td><td>17, 9</td><td><a class=\"ProveItLink\" href=\"../da6937a8b45b9260e44de2bb13f204dfa68aa9460/expr.ipynb\"><img src=\"../da6937a8b45b9260e44de2bb13f204dfa68aa9460/expr.png\" style=\"display:inline;vertical-align:middle;\" /></a></td></tr>\n",
       "<tr><td>7</td><td>Literal</td><td></td><td><a class=\"ProveItLink\" href=\"../../../../../../booleans/conjunction/__pv_it/common/42118ff318bd65d98b1393f64ce7c2269feef76e0/expr.ipynb\"><img src=\"../../../../../../booleans/conjunction/__pv_it/common/42118ff318bd65d98b1393f64ce7c2269feef76e0/expr.png\" style=\"display:inline;vertical-align:middle;\" /></a></td></tr>\n",
       "<tr><td>8</td><td>ExprTuple</td><td>10, 11</td><td><a class=\"ProveItLink\" href=\"../f16c0777a4c0fbd12b59558c4254b79d9b982ef60/expr.ipynb\"><img src=\"../f16c0777a4c0fbd12b59558c4254b79d9b982ef60/expr.png\" style=\"display:inline;vertical-align:middle;\" /></a></td></tr>\n",
       "<tr><td>9</td><td>Operation</td><td>operator:&nbsp;12<br>operands:&nbsp;21<br></td><td><a class=\"ProveItLink\" href=\"../b5125ad4412e906ecc145afffe447ae51a7380970/expr.ipynb\"><img src=\"../b5125ad4412e906ecc145afffe447ae51a7380970/expr.png\" style=\"display:inline;vertical-align:middle;\" /></a></td></tr>\n",
       "<tr><td>10</td><td>Operation</td><td>operator:&nbsp;14<br>operands:&nbsp;13<br></td><td><a class=\"ProveItLink\" href=\"../08e15bc10caf2ec3c6c33076047ff29ad0c1bb480/expr.ipynb\"><img src=\"../08e15bc10caf2ec3c6c33076047ff29ad0c1bb480/expr.png\" style=\"display:inline;vertical-align:middle;\" /></a></td></tr>\n",
       "<tr><td>11</td><td>Operation</td><td>operator:&nbsp;14<br>operands:&nbsp;15<br></td><td><a class=\"ProveItLink\" href=\"../52a12ed27d6dfcadee80857c7c3602a6ce4b9c520/expr.ipynb\"><img src=\"../52a12ed27d6dfcadee80857c7c3602a6ce4b9c520/expr.png\" style=\"display:inline;vertical-align:middle;\" /></a></td></tr>\n",
       "<tr><td>12</td><td>Literal</td><td></td><td><a class=\"ProveItLink\" href=\"../../common/4d5b70c2a4c97df1b8c27c8cfe8e6aacede0cb130/expr.ipynb\"><img src=\"../../common/4d5b70c2a4c97df1b8c27c8cfe8e6aacede0cb130/expr.png\" style=\"display:inline;vertical-align:middle;\" /></a></td></tr>\n",
       "<tr><td>13</td><td>ExprTuple</td><td>17, 16</td><td><a class=\"ProveItLink\" href=\"../27f2e2b17c6de493c6a7a4502866689fa74c6fb20/expr.ipynb\"><img src=\"../27f2e2b17c6de493c6a7a4502866689fa74c6fb20/expr.png\" style=\"display:inline;vertical-align:middle;\" /></a></td></tr>\n",
       "<tr><td>14</td><td>Literal</td><td></td><td><a class=\"ProveItLink\" href=\"../../../../../membership/__pv_it/common/477487d8796864d23d5810f83761435f25167f690/expr.ipynb\"><img src=\"../../../../../membership/__pv_it/common/477487d8796864d23d5810f83761435f25167f690/expr.png\" style=\"display:inline;vertical-align:middle;\" /></a></td></tr>\n",
       "<tr><td>15</td><td>ExprTuple</td><td>17, 18</td><td><a class=\"ProveItLink\" href=\"../b932424fcbbc7c31630b681512b1068a06a7e3e40/expr.ipynb\"><img src=\"../b932424fcbbc7c31630b681512b1068a06a7e3e40/expr.png\" style=\"display:inline;vertical-align:middle;\" /></a></td></tr>\n",
       "<tr><td>16</td><td>Operation</td><td>operator:&nbsp;19<br>operands:&nbsp;21<br></td><td><a class=\"ProveItLink\" href=\"../4c940c42dea9e90fc356e8a75d20b0a7575172f90/expr.ipynb\"><img src=\"../4c940c42dea9e90fc356e8a75d20b0a7575172f90/expr.png\" style=\"display:inline;vertical-align:middle;\" /></a></td></tr>\n",
       "<tr><td>17</td><td>Variable</td><td></td><td><a class=\"ProveItLink\" href=\"../../../../../../../__pv_it/common/01b6dbb444a31fc38af4c2379badef6c75b363710/expr.ipynb\"><img src=\"../../../../../../../__pv_it/common/01b6dbb444a31fc38af4c2379badef6c75b363710/expr.png\" style=\"display:inline;vertical-align:middle;\" /></a></td></tr>\n",
       "<tr><td>18</td><td>Operation</td><td>operator:&nbsp;20<br>operands:&nbsp;21<br></td><td><a class=\"ProveItLink\" href=\"../c50ed451471c768acc73c82e0e29ab8b1181fce50/expr.ipynb\"><img src=\"../c50ed451471c768acc73c82e0e29ab8b1181fce50/expr.png\" style=\"display:inline;vertical-align:middle;\" /></a></td></tr>\n",
       "<tr><td>19</td><td>Literal</td><td></td><td><a class=\"ProveItLink\" href=\"../../../../injections/__pv_it/common/9732b79cd346b8d4e34560d9e00a1266966cd3250/expr.ipynb\"><img src=\"../../../../injections/__pv_it/common/9732b79cd346b8d4e34560d9e00a1266966cd3250/expr.png\" style=\"display:inline;vertical-align:middle;\" /></a></td></tr>\n",
       "<tr><td>20</td><td>Literal</td><td></td><td><a class=\"ProveItLink\" href=\"../../../../surjections/__pv_it/common/a1ab0dc195de13bb952d3560db466de4f469c97b0/expr.ipynb\"><img src=\"../../../../surjections/__pv_it/common/a1ab0dc195de13bb952d3560db466de4f469c97b0/expr.png\" style=\"display:inline;vertical-align:middle;\" /></a></td></tr>\n",
       "<tr><td>21</td><td>ExprTuple</td><td>22, 23</td><td><a class=\"ProveItLink\" href=\"../e791ee87807ed43d7ac6262f8f70c4ffc8f24c940/expr.ipynb\"><img src=\"../e791ee87807ed43d7ac6262f8f70c4ffc8f24c940/expr.png\" style=\"display:inline;vertical-align:middle;\" /></a></td></tr>\n",
       "<tr><td>22</td><td>Variable</td><td></td><td><a class=\"ProveItLink\" href=\"../../../../../../../__pv_it/common/09585084922504426caf1db2ff588a23a0932a960/expr.ipynb\"><img src=\"../../../../../../../__pv_it/common/09585084922504426caf1db2ff588a23a0932a960/expr.png\" style=\"display:inline;vertical-align:middle;\" /></a></td></tr>\n",
       "<tr><td>23</td><td>Variable</td><td></td><td><a class=\"ProveItLink\" href=\"../../../../../../../__pv_it/common/a9162d1c3cc0470c02e5daf414500903a7a419230/expr.ipynb\"><img src=\"../../../../../../../__pv_it/common/a9162d1c3cc0470c02e5daf414500903a7a419230/expr.png\" style=\"display:inline;vertical-align:middle;\" /></a></td></tr>\n",
       "</table>\n"
      ],
      "text/plain": [
       "0. (f -> {f in Bijections(A, B) if f in Injections(A, B) ,  f in Surjections(A, B).)\n",
       "   core type: ExprTuple\n",
       "   sub-expressions: 1\n",
       "1. f -> {f in Bijections(A, B) if f in Injections(A, B) ,  f in Surjections(A, B).\n",
       "   core type: Lambda\n",
       "   parameter: 17\n",
       "   body: 3\n",
       "2. (f)\n",
       "   core type: ExprTuple\n",
       "   sub-expressions: 17\n",
       "3. {f in Bijections(A, B) if f in Injections(A, B) ,  f in Surjections(A, B).\n",
       "   core type: Conditional\n",
       "   value: 4\n",
       "   condition: 5\n",
       "4. f in Bijections(A, B)\n",
       "   core type: Operation\n",
       "   operator: 14\n",
       "   operands: 6\n",
       "5. (f in Injections(A, B)) and (f in Surjections(A, B))\n",
       "   core type: Operation\n",
       "   operator: 7\n",
       "   operands: 8\n",
       "6. (f, Bijections(A, B))\n",
       "   core type: ExprTuple\n",
       "   sub-expressions: 17, 9\n",
       "7. and\n",
       "   core type: Literal\n",
       "   sub-expressions: \n",
       "8. (f in Injections(A, B), f in Surjections(A, B))\n",
       "   core type: ExprTuple\n",
       "   sub-expressions: 10, 11\n",
       "9. Bijections(A, B)\n",
       "   core type: Operation\n",
       "   operator: 12\n",
       "   operands: 21\n",
       "10. f in Injections(A, B)\n",
       "    core type: Operation\n",
       "    operator: 14\n",
       "    operands: 13\n",
       "11. f in Surjections(A, B)\n",
       "    core type: Operation\n",
       "    operator: 14\n",
       "    operands: 15\n",
       "12. Bijections\n",
       "    core type: Literal\n",
       "    sub-expressions: \n",
       "13. (f, Injections(A, B))\n",
       "    core type: ExprTuple\n",
       "    sub-expressions: 17, 16\n",
       "14. in\n",
       "    core type: Literal\n",
       "    sub-expressions: \n",
       "15. (f, Surjections(A, B))\n",
       "    core type: ExprTuple\n",
       "    sub-expressions: 17, 18\n",
       "16. Injections(A, B)\n",
       "    core type: Operation\n",
       "    operator: 19\n",
       "    operands: 21\n",
       "17. f\n",
       "    core type: Variable\n",
       "    sub-expressions: \n",
       "18. Surjections(A, B)\n",
       "    core type: Operation\n",
       "    operator: 20\n",
       "    operands: 21\n",
       "19. Injections\n",
       "    core type: Literal\n",
       "    sub-expressions: \n",
       "20. Surjections\n",
       "    core type: Literal\n",
       "    sub-expressions: \n",
       "21. (A, B)\n",
       "    core type: ExprTuple\n",
       "    sub-expressions: 22, 23\n",
       "22. A\n",
       "    core type: Variable\n",
       "    sub-expressions: \n",
       "23. B\n",
       "    core type: Variable\n",
       "    sub-expressions: "
      ]
     },
     "metadata": {},
     "output_type": "display_data"
    }
   ],
   "source": [
    "# display the expression information\n",
    "stored_expr.expr_info()"
   ]
  },
  {
   "cell_type": "code",
   "execution_count": null,
   "metadata": {},
   "outputs": [],
   "source": []
  }
 ],
 "metadata": {
  "kernelspec": {
   "display_name": "Python 3",
   "language": "python",
   "name": "python3"
  }
 },
 "nbformat": 4,
 "nbformat_minor": 0
}