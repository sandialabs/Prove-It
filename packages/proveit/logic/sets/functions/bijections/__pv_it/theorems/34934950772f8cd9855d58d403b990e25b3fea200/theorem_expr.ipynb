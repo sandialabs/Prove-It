{
 "cells": [
  {
   "cell_type": "markdown",
   "metadata": {},
   "source": [
    "Theorem <a class=\"ProveItLink\" href=\"../../../_theorems_.ipynb#bijection_is_injection\">bijection_is_injection</a> of type <a class=\"ProveItLink\" href=\"../../../../../../../../../doc/html/api/proveit.logic.Forall.html\">Forall</a>\n",
    "=======================\n",
    "# from the theory of <a class=\"ProveItLink\" href=\"../../../_theory_nbs_/theory.ipynb\">proveit.logic.sets.functions.bijections</a>\n",
    "*** see <a class=\"ProveItLink\" href=\"dependencies.ipynb\">dependencies</a> ***"
   ]
  },
  {
   "cell_type": "code",
   "execution_count": 1,
   "metadata": {},
   "outputs": [],
   "source": [
    "import proveit\n",
    "# Automation is not needed when only building an expression:\n",
    "proveit.defaults.automation = False # This will speed things up.\n",
    "proveit.defaults.inline_pngs = False # Makes files smaller.\n",
    "%load_theorem_expr # Load the stored theorem expression as 'stored_expr'\n",
    "# import the special expression\n",
    "from proveit.logic.sets.functions.bijections import bijection_is_injection"
   ]
  },
  {
   "cell_type": "code",
   "execution_count": 2,
   "metadata": {},
   "outputs": [
    {
     "name": "stdout",
     "output_type": "stream",
     "text": [
      "Passed sanity check: bijection_is_injection matches stored_expr\n"
     ]
    }
   ],
   "source": [
    "# check that the built expression is the same as the stored expression\n",
    "assert bijection_is_injection.expr == stored_expr\n",
    "assert bijection_is_injection.expr._style_id == stored_expr._style_id\n",
    "print(\"Passed sanity check: bijection_is_injection matches stored_expr\")"
   ]
  },
  {
   "cell_type": "code",
   "execution_count": 3,
   "metadata": {},
   "outputs": [
    {
     "name": "stdout",
     "output_type": "stream",
     "text": [
      "\\forall_{A, B}~\\left[\\forall_{f \\in \\left[A \\xrightarrow[\\text{onto}]{\\text{1-to-1}} B\\right]}~\\left(f \\in \\left[A \\xrightarrow[]{\\text{1-to-1}} B\\right]\\right)\\right]\n"
     ]
    }
   ],
   "source": [
    "# Show the LaTeX representation of the expression for convenience if you need it.\n",
    "print(stored_expr.latex())"
   ]
  },
  {
   "cell_type": "code",
   "execution_count": 4,
   "metadata": {},
   "outputs": [
    {
     "data": {
      "text/html": [
       "<table>\n",
       "<tr><th>name</th><th>description</th><th>default</th><th>current value</th><th>related methods</th></tr><tr><td>with_wrapping</td><td>If 'True', wrap the Expression after the parameters</td><td>None</td><td>None/False</td><td>('with_wrapping',)</td></tr>\n",
       "<tr><td>condition_wrapping</td><td>Wrap 'before' or 'after' the condition (or None).</td><td>None</td><td>None/False</td><td>('with_wrap_after_condition', 'with_wrap_before_condition')</td></tr>\n",
       "<tr><td>wrap_params</td><td>If 'True', wraps every two parameters AND wraps the Expression after the parameters</td><td>None</td><td>None/False</td><td>('with_params',)</td></tr>\n",
       "<tr><td>justification</td><td>justify to the 'left', 'center', or 'right' in the array cells</td><td>center</td><td>center</td><td>('with_justification',)</td></tr>\n",
       "</table>\n"
      ],
      "text/plain": [
       "style name: with_wrapping\n",
       "description: If 'True', wrap the Expression after the parameters\n",
       "default: None\n",
       "current value: None/False\n",
       "related methods: ('with_wrapping',)\n",
       "style name: condition_wrapping\n",
       "description: Wrap 'before' or 'after' the condition (or None).\n",
       "default: None\n",
       "current value: None/False\n",
       "related methods: ('with_wrap_after_condition', 'with_wrap_before_condition')\n",
       "style name: wrap_params\n",
       "description: If 'True', wraps every two parameters AND wraps the Expression after the parameters\n",
       "default: None\n",
       "current value: None/False\n",
       "related methods: ('with_params',)\n",
       "style name: justification\n",
       "description: justify to the 'left', 'center', or 'right' in the array cells\n",
       "default: center\n",
       "current value: center\n",
       "related methods: ('with_justification',)"
      ]
     },
     "metadata": {},
     "output_type": "display_data"
    }
   ],
   "source": [
    "stored_expr.style_options()"
   ]
  },
  {
   "cell_type": "code",
   "execution_count": 5,
   "metadata": {},
   "outputs": [
    {
     "data": {
      "text/html": [
       "<table><tr><th>&nbsp;</th><th>core type</th><th>sub-expressions</th><th>expression</th></tr>\n",
       "<tr><td>0</td><td>Operation</td><td>operator:&nbsp;4<br>operand:&nbsp;2<br></td><td><a class=\"ProveItLink\" href=\"../8cd7934b25c63fade26959469e9580c3cd7608b30/expr.ipynb\"><img src=\"../8cd7934b25c63fade26959469e9580c3cd7608b30/expr.png\" style=\"display:inline;vertical-align:middle;\" /></a></td></tr>\n",
       "<tr><td>1</td><td>ExprTuple</td><td>2</td><td><a class=\"ProveItLink\" href=\"../9d7e58751221a46af9d21b9d313673ff37a46ec20/expr.ipynb\"><img src=\"../9d7e58751221a46af9d21b9d313673ff37a46ec20/expr.png\" style=\"display:inline;vertical-align:middle;\" /></a></td></tr>\n",
       "<tr><td>2</td><td>Lambda</td><td>parameters:&nbsp;19<br>body:&nbsp;3<br></td><td><a class=\"ProveItLink\" href=\"../4de967ae0f547dd286ea7897a72a229d2cddb9f60/expr.ipynb\"><img src=\"../4de967ae0f547dd286ea7897a72a229d2cddb9f60/expr.png\" style=\"display:inline;vertical-align:middle;\" /></a></td></tr>\n",
       "<tr><td>3</td><td>Operation</td><td>operator:&nbsp;4<br>operand:&nbsp;6<br></td><td><a class=\"ProveItLink\" href=\"../0836966850cdb3ca6e606973b0275be0979f5d2e0/expr.ipynb\"><img src=\"../0836966850cdb3ca6e606973b0275be0979f5d2e0/expr.png\" style=\"display:inline;vertical-align:middle;\" /></a></td></tr>\n",
       "<tr><td>4</td><td>Literal</td><td></td><td><a class=\"ProveItLink\" href=\"../../../../../../booleans/quantification/universality/__pv_it/common/083d2baa0b8ecab1d230f9ec29a15aa1355809fb0/expr.ipynb\"><img src=\"../../../../../../booleans/quantification/universality/__pv_it/common/083d2baa0b8ecab1d230f9ec29a15aa1355809fb0/expr.png\" style=\"display:inline;vertical-align:middle;\" /></a></td></tr>\n",
       "<tr><td>5</td><td>ExprTuple</td><td>6</td><td><a class=\"ProveItLink\" href=\"../8820aed8b4dd3bfd5beecec9025c86a37301edc60/expr.ipynb\"><img src=\"../8820aed8b4dd3bfd5beecec9025c86a37301edc60/expr.png\" style=\"display:inline;vertical-align:middle;\" /></a></td></tr>\n",
       "<tr><td>6</td><td>Lambda</td><td>parameter:&nbsp;15<br>body:&nbsp;8<br></td><td><a class=\"ProveItLink\" href=\"../213a549eda677b05f6e3005926a88a903670d4c40/expr.ipynb\"><img src=\"../213a549eda677b05f6e3005926a88a903670d4c40/expr.png\" style=\"display:inline;vertical-align:middle;\" /></a></td></tr>\n",
       "<tr><td>7</td><td>ExprTuple</td><td>15</td><td><a class=\"ProveItLink\" href=\"../dcd60a965dafb827c89a2770706e77d319eb7bb50/expr.ipynb\"><img src=\"../dcd60a965dafb827c89a2770706e77d319eb7bb50/expr.png\" style=\"display:inline;vertical-align:middle;\" /></a></td></tr>\n",
       "<tr><td>8</td><td>Conditional</td><td>value:&nbsp;9<br>condition:&nbsp;10<br></td><td><a class=\"ProveItLink\" href=\"../4a077ff9bb60b7174e901c9962bd052a9d7c96870/expr.ipynb\"><img src=\"../4a077ff9bb60b7174e901c9962bd052a9d7c96870/expr.png\" style=\"display:inline;vertical-align:middle;\" /></a></td></tr>\n",
       "<tr><td>9</td><td>Operation</td><td>operator:&nbsp;12<br>operands:&nbsp;11<br></td><td><a class=\"ProveItLink\" href=\"../08e15bc10caf2ec3c6c33076047ff29ad0c1bb480/expr.ipynb\"><img src=\"../08e15bc10caf2ec3c6c33076047ff29ad0c1bb480/expr.png\" style=\"display:inline;vertical-align:middle;\" /></a></td></tr>\n",
       "<tr><td>10</td><td>Operation</td><td>operator:&nbsp;12<br>operands:&nbsp;13<br></td><td><a class=\"ProveItLink\" href=\"../0017b46c18006e670eb4b984f65c6ee14138683d0/expr.ipynb\"><img src=\"../0017b46c18006e670eb4b984f65c6ee14138683d0/expr.png\" style=\"display:inline;vertical-align:middle;\" /></a></td></tr>\n",
       "<tr><td>11</td><td>ExprTuple</td><td>15, 14</td><td><a class=\"ProveItLink\" href=\"../27f2e2b17c6de493c6a7a4502866689fa74c6fb20/expr.ipynb\"><img src=\"../27f2e2b17c6de493c6a7a4502866689fa74c6fb20/expr.png\" style=\"display:inline;vertical-align:middle;\" /></a></td></tr>\n",
       "<tr><td>12</td><td>Literal</td><td></td><td><a class=\"ProveItLink\" href=\"../../../../../membership/__pv_it/common/477487d8796864d23d5810f83761435f25167f690/expr.ipynb\"><img src=\"../../../../../membership/__pv_it/common/477487d8796864d23d5810f83761435f25167f690/expr.png\" style=\"display:inline;vertical-align:middle;\" /></a></td></tr>\n",
       "<tr><td>13</td><td>ExprTuple</td><td>15, 16</td><td><a class=\"ProveItLink\" href=\"../da6937a8b45b9260e44de2bb13f204dfa68aa9460/expr.ipynb\"><img src=\"../da6937a8b45b9260e44de2bb13f204dfa68aa9460/expr.png\" style=\"display:inline;vertical-align:middle;\" /></a></td></tr>\n",
       "<tr><td>14</td><td>Operation</td><td>operator:&nbsp;17<br>operands:&nbsp;19<br></td><td><a class=\"ProveItLink\" href=\"../4c940c42dea9e90fc356e8a75d20b0a7575172f90/expr.ipynb\"><img src=\"../4c940c42dea9e90fc356e8a75d20b0a7575172f90/expr.png\" style=\"display:inline;vertical-align:middle;\" /></a></td></tr>\n",
       "<tr><td>15</td><td>Variable</td><td></td><td><a class=\"ProveItLink\" href=\"../../../../../../../__pv_it/common/01b6dbb444a31fc38af4c2379badef6c75b363710/expr.ipynb\"><img src=\"../../../../../../../__pv_it/common/01b6dbb444a31fc38af4c2379badef6c75b363710/expr.png\" style=\"display:inline;vertical-align:middle;\" /></a></td></tr>\n",
       "<tr><td>16</td><td>Operation</td><td>operator:&nbsp;18<br>operands:&nbsp;19<br></td><td><a class=\"ProveItLink\" href=\"../b5125ad4412e906ecc145afffe447ae51a7380970/expr.ipynb\"><img src=\"../b5125ad4412e906ecc145afffe447ae51a7380970/expr.png\" style=\"display:inline;vertical-align:middle;\" /></a></td></tr>\n",
       "<tr><td>17</td><td>Literal</td><td></td><td><a class=\"ProveItLink\" href=\"../../../../injections/__pv_it/common/9732b79cd346b8d4e34560d9e00a1266966cd3250/expr.ipynb\"><img src=\"../../../../injections/__pv_it/common/9732b79cd346b8d4e34560d9e00a1266966cd3250/expr.png\" style=\"display:inline;vertical-align:middle;\" /></a></td></tr>\n",
       "<tr><td>18</td><td>Literal</td><td></td><td><a class=\"ProveItLink\" href=\"../../common/4d5b70c2a4c97df1b8c27c8cfe8e6aacede0cb130/expr.ipynb\"><img src=\"../../common/4d5b70c2a4c97df1b8c27c8cfe8e6aacede0cb130/expr.png\" style=\"display:inline;vertical-align:middle;\" /></a></td></tr>\n",
       "<tr><td>19</td><td>ExprTuple</td><td>20, 21</td><td><a class=\"ProveItLink\" href=\"../e791ee87807ed43d7ac6262f8f70c4ffc8f24c940/expr.ipynb\"><img src=\"../e791ee87807ed43d7ac6262f8f70c4ffc8f24c940/expr.png\" style=\"display:inline;vertical-align:middle;\" /></a></td></tr>\n",
       "<tr><td>20</td><td>Variable</td><td></td><td><a class=\"ProveItLink\" href=\"../../../../../../../__pv_it/common/09585084922504426caf1db2ff588a23a0932a960/expr.ipynb\"><img src=\"../../../../../../../__pv_it/common/09585084922504426caf1db2ff588a23a0932a960/expr.png\" style=\"display:inline;vertical-align:middle;\" /></a></td></tr>\n",
       "<tr><td>21</td><td>Variable</td><td></td><td><a class=\"ProveItLink\" href=\"../../../../../../../__pv_it/common/a9162d1c3cc0470c02e5daf414500903a7a419230/expr.ipynb\"><img src=\"../../../../../../../__pv_it/common/a9162d1c3cc0470c02e5daf414500903a7a419230/expr.png\" style=\"display:inline;vertical-align:middle;\" /></a></td></tr>\n",
       "</table>\n"
      ],
      "text/plain": [
       "0. forall_{A, B} [forall_{f in Bijections(A, B)} (f in Injections(A, B))]\n",
       "   core type: Operation\n",
       "   operator: 4\n",
       "   operand: 2\n",
       "1. ((A, B) -> [forall_{f in Bijections(A, B)} (f in Injections(A, B))])\n",
       "   core type: ExprTuple\n",
       "   sub-expressions: 2\n",
       "2. (A, B) -> [forall_{f in Bijections(A, B)} (f in Injections(A, B))]\n",
       "   core type: Lambda\n",
       "   parameters: 19\\n   body: 3\n",
       "3. forall_{f in Bijections(A, B)} (f in Injections(A, B))\n",
       "   core type: Operation\n",
       "   operator: 4\n",
       "   operand: 6\n",
       "4. forall\n",
       "   core type: Literal\n",
       "   sub-expressions: \n",
       "5. (f -> {f in Injections(A, B) if f in Bijections(A, B).)\n",
       "   core type: ExprTuple\n",
       "   sub-expressions: 6\n",
       "6. f -> {f in Injections(A, B) if f in Bijections(A, B).\n",
       "   core type: Lambda\n",
       "   parameter: 15\n",
       "   body: 8\n",
       "7. (f)\n",
       "   core type: ExprTuple\n",
       "   sub-expressions: 15\n",
       "8. {f in Injections(A, B) if f in Bijections(A, B).\n",
       "   core type: Conditional\n",
       "   value: 9\n",
       "   condition: 10\n",
       "9. f in Injections(A, B)\n",
       "   core type: Operation\n",
       "   operator: 12\n",
       "   operands: 11\n",
       "10. f in Bijections(A, B)\n",
       "    core type: Operation\n",
       "    operator: 12\n",
       "    operands: 13\n",
       "11. (f, Injections(A, B))\n",
       "    core type: ExprTuple\n",
       "    sub-expressions: 15, 14\n",
       "12. in\n",
       "    core type: Literal\n",
       "    sub-expressions: \n",
       "13. (f, Bijections(A, B))\n",
       "    core type: ExprTuple\n",
       "    sub-expressions: 15, 16\n",
       "14. Injections(A, B)\n",
       "    core type: Operation\n",
       "    operator: 17\n",
       "    operands: 19\n",
       "15. f\n",
       "    core type: Variable\n",
       "    sub-expressions: \n",
       "16. Bijections(A, B)\n",
       "    core type: Operation\n",
       "    operator: 18\n",
       "    operands: 19\n",
       "17. Injections\n",
       "    core type: Literal\n",
       "    sub-expressions: \n",
       "18. Bijections\n",
       "    core type: Literal\n",
       "    sub-expressions: \n",
       "19. (A, B)\n",
       "    core type: ExprTuple\n",
       "    sub-expressions: 20, 21\n",
       "20. A\n",
       "    core type: Variable\n",
       "    sub-expressions: \n",
       "21. B\n",
       "    core type: Variable\n",
       "    sub-expressions: "
      ]
     },
     "metadata": {},
     "output_type": "display_data"
    }
   ],
   "source": [
    "# display the expression information\n",
    "stored_expr.expr_info()"
   ]
  },
  {
   "cell_type": "code",
   "execution_count": null,
   "metadata": {},
   "outputs": [],
   "source": []
  }
 ],
 "metadata": {
  "kernelspec": {
   "display_name": "Python 3",
   "language": "python",
   "name": "python3"
  }
 },
 "nbformat": 4,
 "nbformat_minor": 0
}