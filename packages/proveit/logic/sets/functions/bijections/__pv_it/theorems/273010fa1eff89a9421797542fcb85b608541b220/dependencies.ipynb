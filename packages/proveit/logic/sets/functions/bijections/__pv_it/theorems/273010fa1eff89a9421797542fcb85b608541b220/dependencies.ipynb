{
 "cells": [
  {
   "cell_type": "markdown",
   "metadata": {},
   "source": [
    "Theorem Dependencies\n",
    "=======================\n",
    "\n",
    "## <a class=\"ProveItLink\" href=\"../../../_theory_nbs_/theory.ipynb\">proveit.logic.sets.functions.bijections</a>.<a class=\"ProveItLink\" href=\"../../../_theorems_.ipynb#membership_unfolding\">membership_unfolding</a> \n",
    "***see <a class=\"ProveItLink\" href=\"../../../_theory_nbs_/proofs/membership_unfolding/thm_proof.ipynb\">proof</a>***"
   ]
  },
  {
   "cell_type": "code",
   "execution_count": 1,
   "metadata": {},
   "outputs": [],
   "source": [
    "import proveit\n",
    "# Automation is not needed when querying dependencies:\n",
    "proveit.defaults.automation = False # This will speed things up.\n",
    "proveit.defaults.inline_pngs = False # Makes files smaller.\n",
    "from proveit.logic.sets.functions.bijections import membership_unfolding"
   ]
  },
  {
   "cell_type": "code",
   "execution_count": 2,
   "metadata": {},
   "outputs": [
    {
     "data": {
      "text/html": [
       "<h3>Unproven conjectures required (directly or indirectly) to prove membership_unfolding</h3>"
      ],
      "text/plain": [
       "<IPython.core.display.HTML object>"
      ]
     },
     "metadata": {},
     "output_type": "display_data"
    },
    {
     "data": {
      "text/html": [
       "<dl>"
      ],
      "text/plain": [
       "<IPython.core.display.HTML object>"
      ]
     },
     "metadata": {},
     "output_type": "display_data"
    },
    {
     "data": {
      "text/html": [
       "<dt><a class=\"ProveItLink\" href=\"../../../_theory_nbs_/proofs/membership_unfolding/thm_proof.ipynb\">proveit.logic.sets.functions.bijections.membership_unfolding</a></dt><dd><a class=\"ProveItLink\" href=\"../9f71333ecb584b673da531a84e2d67ce5bb524fc0/expr.ipynb\"><img src=\"../9f71333ecb584b673da531a84e2d67ce5bb524fc0/expr.png\" style=\"display:inline;vertical-align:middle;\" /></a></dd>"
      ],
      "text/plain": [
       "<IPython.core.display.HTML object>"
      ]
     },
     "metadata": {},
     "output_type": "display_data"
    },
    {
     "data": {
      "text/html": [
       "</dl>"
      ],
      "text/plain": [
       "<IPython.core.display.HTML object>"
      ]
     },
     "metadata": {},
     "output_type": "display_data"
    },
    {
     "data": {
      "text/html": [
       "<h3>Theorems/conjectures that depend directly on membership_unfolding</h3>"
      ],
      "text/plain": [
       "<IPython.core.display.HTML object>"
      ]
     },
     "metadata": {},
     "output_type": "display_data"
    },
    {
     "data": {
      "text/html": [
       "<dl>"
      ],
      "text/plain": [
       "<IPython.core.display.HTML object>"
      ]
     },
     "metadata": {},
     "output_type": "display_data"
    },
    {
     "data": {
      "text/html": [
       "<dt><a class=\"ProveItLink\" href=\"../../../../../../../physics/quantum/QPE/_theory_nbs_/proofs/_fail_sum/thm_proof.ipynb\">proveit.physics.quantum.QPE._fail_sum</a></dt><dd><a class=\"ProveItLink\" href=\"../../../../../../../physics/quantum/QPE/__pv_it/theorems/efda8f561f3e9cc875e5c0e28271ead4dd9247f40/expr.ipynb\"><img src=\"../../../../../../../physics/quantum/QPE/__pv_it/theorems/efda8f561f3e9cc875e5c0e28271ead4dd9247f40/expr.png\" style=\"display:inline;vertical-align:middle;\" /></a></dd>"
      ],
      "text/plain": [
       "<IPython.core.display.HTML object>"
      ]
     },
     "metadata": {},
     "output_type": "display_data"
    },
    {
     "data": {
      "text/html": [
       "<dt><a class=\"ProveItLink\" href=\"../../../../../../../physics/quantum/QPE/_theory_nbs_/proofs/_pfail_in_real/thm_proof.ipynb\">proveit.physics.quantum.QPE._pfail_in_real</a></dt><dd><a class=\"ProveItLink\" href=\"../../../../../../../physics/quantum/QPE/__pv_it/theorems/f9779487b95c49342eebdd1d14b6a9a552b079860/expr.ipynb\"><img src=\"../../../../../../../physics/quantum/QPE/__pv_it/theorems/f9779487b95c49342eebdd1d14b6a9a552b079860/expr.png\" style=\"display:inline;vertical-align:middle;\" /></a></dd>"
      ],
      "text/plain": [
       "<IPython.core.display.HTML object>"
      ]
     },
     "metadata": {},
     "output_type": "display_data"
    },
    {
     "data": {
      "text/html": [
       "<dt><a class=\"ProveItLink\" href=\"../../../../../../../physics/quantum/QPE/_theory_nbs_/proofs/_precision_guarantee/thm_proof.ipynb\">proveit.physics.quantum.QPE._precision_guarantee</a></dt><dd><a class=\"ProveItLink\" href=\"../../../../../../../physics/quantum/QPE/__pv_it/theorems/faf28ac0959c329529068cc213adcda8cf3356a80/expr.ipynb\"><img src=\"../../../../../../../physics/quantum/QPE/__pv_it/theorems/faf28ac0959c329529068cc213adcda8cf3356a80/expr.png\" style=\"display:inline;vertical-align:middle;\" /></a></dd>"
      ],
      "text/plain": [
       "<IPython.core.display.HTML object>"
      ]
     },
     "metadata": {},
     "output_type": "display_data"
    },
    {
     "data": {
      "text/html": [
       "</dl>"
      ],
      "text/plain": [
       "<IPython.core.display.HTML object>"
      ]
     },
     "metadata": {},
     "output_type": "display_data"
    }
   ],
   "source": [
    "%dependencies membership_unfolding"
   ]
  }
 ],
 "metadata": {
  "kernelspec": {
   "display_name": "Python 3",
   "language": "python",
   "name": "python3"
  }
 },
 "nbformat": 4,
 "nbformat_minor": 0
}