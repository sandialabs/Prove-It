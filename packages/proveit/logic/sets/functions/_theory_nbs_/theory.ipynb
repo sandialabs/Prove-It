{
 "cells": [
  {
   "cell_type": "markdown",
   "metadata": {},
   "source": [
    "Theory of <a class=\"ProveItLink\" href=\"../../../../_theory_nbs_/theory.ipynb\">proveit</a>.<a class=\"ProveItLink\" href=\"../../../_theory_nbs_/theory.ipynb\">logic</a>.<a class=\"ProveItLink\" href=\"../../_theory_nbs_/theory.ipynb\">sets</a>.functions\n",
    "========\n",
    "\n",
    "Provide description here."
   ]
  },
  {
   "cell_type": "code",
   "execution_count": 1,
   "metadata": {},
   "outputs": [
    {
     "data": {
      "text/html": [
       "<h3>Local content of this theory</h3>"
      ],
      "text/plain": [
       "<IPython.core.display.HTML object>"
      ]
     },
     "metadata": {},
     "output_type": "display_data"
    },
    {
     "data": {
      "text/html": [
       "<table><tr>\n",
       "<th><a class=\"ProveItLink\" href=\"common.ipynb\">common expressions</a></th>\n",
       "<th><a class=\"ProveItLink\" href=\"axioms.ipynb\">axioms</a></th>\n",
       "<th><a class=\"ProveItLink\" href=\"theorems.ipynb\">theorems</a></th>\n",
       "<th><a class=\"ProveItLink\" href=\"demonstrations.ipynb\">demonstrations</a></th>\n",
       "</tr></table>\n",
       "<h3>Sub-theories</h3>\n",
       "<table>\n",
       "<tr><th><a class=\"ProveItLink\" href=\"../images/_theory_nbs_/theory.ipynb\">images</a></th><td>An image is a set obtained from applying a function to the elements of another set.</td></tr>\n",
       "<tr><th><a class=\"ProveItLink\" href=\"../injections/_theory_nbs_/theory.ipynb\">injections</a></th><td>An injection is a 1-to-1 function.  Distinct elements map distinctly.</td></tr>\n",
       "<tr><th><a class=\"ProveItLink\" href=\"../surjections/_theory_nbs_/theory.ipynb\">surjections</a></th><td>A surjection is an onto function.  Its image covers the codomain.</td></tr>\n",
       "<tr><th><a class=\"ProveItLink\" href=\"../bijections/_theory_nbs_/theory.ipynb\">bijections</a></th><td>A bijection is a 1-to-1 and onto function.</td></tr>\n",
       "</table>\n"
      ],
      "text/plain": [
       "<IPython.core.display.HTML object>"
      ]
     },
     "metadata": {},
     "output_type": "display_data"
    },
    {
     "data": {
      "text/html": [
       "<h3>All axioms contained within this theory</h3>"
      ],
      "text/plain": [
       "<IPython.core.display.HTML object>"
      ]
     },
     "metadata": {},
     "output_type": "display_data"
    },
    {
     "data": {
      "text/html": [
       "<dt><a class=\"ProveItLink\" href=\"axioms.ipynb#functions_def\">proveit.logic.sets.functions.functions_def</a></dt><dd><a class=\"ProveItLink\" href=\"../__pv_it/axioms/2228d474e096a5d243ea8bec4457f92ddc17cb330/expr.ipynb\"><img src=\"data:image/png;base64,iVBORw0KGgoAAAANSUhEUgAAAZkAAAAWBAMAAADgGvxEAAAAMFBMVEX///8AAAAAAAAAAAAAAAAA\n",
       "AAAAAAAAAAAAAAAAAAAAAAAAAAAAAAAAAAAAAAAAAAAv3aB7AAAAD3RSTlMAq1RmmUTNIjK7EInv\n",
       "3XZ/CtNrAAAACXBIWXMAAA7EAAAOxAGVKw4bAAAFqklEQVRYw9VYb2gcVRCfu729P3vJ5YKhNFLJ\n",
       "FbVQrPbUWMkHmwtG21JbA4JoW9ozoYTGotcvQtAk6xdBjCZWQk2wzRVKof6BpKBQQzGNVKtSuYpK\n",
       "ClnY2kKpaGxrm6YpJr6Z997u3u3umfabD+beZOfNe/ObNzM7G4DFjJyg0pEw9P9S/XMSIrevF/Hg\n",
       "c2Wsww1zsLiRSHFyjXgLPy9bRvlzUE0fPf/xmwe/3W/xdr4jTkn8+97yez8gCGDjl15WhS97KCnD\n",
       "V6qXfIho4LwbTQCnYNrnwOAI/obG8haPPnWtbliort6lk4BZgtNT+Li9LBgty4npLJ3wQrPaCw1U\n",
       "9APU6YgmnHehCaFm2C84DtPvaG/K4nF0uNZ9BxCYJQFawqY3MVL6y6IJpTkxA+8f8kLTdMNLrYcF\n",
       "2I4MolEyLjRRjIlOvxOfpN+JF/MWj6PelV3zAOo1EqAl9dxv8VRZNBWCmHHCyYn9xq82mvjrs84k\n",
       "kw5vZJneaCIa+N6dN+joo34njuOPOmfz3A5x+iXD4ImqsHOVeRKgJWxSmNPD5dNmhSCA4/yB+kre\n",
       "eTfdiavOmJcXUcdod47QtLnRPMomv+IR5GFdsHmenjxxnv9dPgiwCA9/SwK0BOWnDeOH8mg2CoKH\n",
       "T9fQg9fyRZGWCf7tXF6wg/rgJFUBGHWjqTCMqRG/0EaBsuxMRvDa9N3vsHuMU8WKdDgzU7tHJwFa\n",
       "gvL1AEXJkHdt3mZ5d54/aC/KGzUVveVcvpJP0ZvT59qAo1mDDzYZOM4IvZAOsZKjtOJLqDIlH4Jz\n",
       "5iaGj67JUTr6DkwvwaVMgJagfA9EELPWzO9RO0XT29fGNsg33E+CICLyI1uEJgSRK0VvJ+6cBCsN\n",
       "q9IczSr33bBD95Q8/VQeWEl53KNL/nFozN/Fgo5SyJEWf+Ug+DWQAC1BeSxPNsUe43vFeQ4oBUjI\n",
       "/DspCIK8EkdZcBpnLTSXmptugu18w1ig+Isx9fgsR9Pn8fYcIgmN92oHcPpKFqMK2mC1xevwNJ1L\n",
       "x/fiEbwIf4RKOglwR5QHTUJbJa79hR95gmVAuVyKhuclaP1OqzQWEP84TVV30lSV5AUHbd7mgeYh\n",
       "64pD67ler1mE5riDJ6NUcu8RexsMCVY1UYA7kjy7Ft2+TJRL8yW+SQo+S5dGWixZnOe0R4jNU05T\n",
       "3+J+6WPqgesczYPuvIGwwuxIXOheJ1uFRDhZFGnv27x6Az5mNtK5ldZBUSw+dS0kiLcI+VEqEg1i\n",
       "S36p0HO+fqnUOiAIKoTzpp1onmPzq0407VZQQ1+Wo2nwuJv4Cob6YqC/VV61GZKXFTOt+0BeGwiM\n",
       "AyttCi1MWF0fZmZ0BkhAVQDlb5BLmkWgwR80PwFajdQalTW2RzSL4ZQjm/F6h3Pu981u5tJv8hzN\n",
       "Rg80kROMScdMXeUxoOpWolIpjlyXfHD20LiaEoUboNUqfWz9tg5exSlKUB6g9P9AvFvG6ihQamzb\n",
       "4V1BIi9ZqtRukVZpwzN5WLnwssNSXk1qsSNMiQr9i1cPTXdflQNl1+DgXuwxR+dkCBUcJacA2mbz\n",
       "vkcwxrhBBwd4KAewrd0LXIA7Vtqd+SkRaKIwsu5yh1UwdU7QZCX6MWdnU34wNJGC7xdBL+Si3OWm\n",
       "9QIAmESHJ22ejy4xb91vFHcRXXzHLvvNxfzyCSVBVUobgcgcaD9bvX2GKJhsve3vFI4mlPbRi4x/\n",
       "ARn+8sZ4u+roL5fLcK4v6UW9m1Tc0ZZHWQz2pkInQHt2Z3QC1twa22C3ovuIKoeyd4im01dv89bp\n",
       "PHTivT+ThEMz8nEsB2cP27yA7tfpowAz2JZT0y7tD5YsP0KkXMjdIZp95fW0Y4MDJT1OP6xdZ/Ml\n",
       "sEoHCtiOtjy2nPlHlX3TllLwJif3l/Qi/i9w0v5GWLxetwd/0W8xEySmWhzyOL5CFPlXGv6n41+L\n",
       "B5EIApTT3wAAAABJRU5ErkJggg==\n",
       "\" style=\"display:inline;vertical-align:middle;\" /></a></dd>"
      ],
      "text/plain": [
       "<IPython.core.display.HTML object>"
      ]
     },
     "metadata": {},
     "output_type": "display_data"
    },
    {
     "data": {
      "text/html": [
       "<h4>proveit.logic.sets.functions.images</h4>"
      ],
      "text/plain": [
       "<IPython.core.display.HTML object>"
      ]
     },
     "metadata": {},
     "output_type": "display_data"
    },
    {
     "data": {
      "text/html": [
       "<dt><a class=\"ProveItLink\" href=\"../images/_theory_nbs_/axioms.ipynb#set_image_def\">proveit.logic.sets.functions.images.set_image_def</a></dt><dd><a class=\"ProveItLink\" href=\"../images/__pv_it/axioms/b0847d02082266150472c17f24c0e55906adbc420/expr.ipynb\"><img src=\"data:image/png;base64,iVBORw0KGgoAAAANSUhEUgAAAP0AAAAZBAMAAAAIzjVbAAAAMFBMVEX///8AAAAAAAAAAAAAAAAA\n",
       "AAAAAAAAAAAAAAAAAAAAAAAAAAAAAAAAAAAAAAAAAAAv3aB7AAAAD3RSTlMAq1RmmUTNIjK7EInv\n",
       "3XZ/CtNrAAAACXBIWXMAAA7EAAAOxAGVKw4bAAADyUlEQVRIx7VWS0hUURg+3hnnce/MOERYguRE\n",
       "VAuLsYVCEDHSlIVCQ20kAqdEAjfdNkEgzAStejBJgY0Lm4VFQ2HqJspMUwIxDIlcCiPpJszEhYVQ\n",
       "9v/n3Me5954ZN3pg/jmP77/f+V/nHEJKtHqyo829xboU40eJbef3Piy9/twyWqJSNZRFGs/4Taom\n",
       "0HtYSHCyNP8jyyiPIhSh/ZuElBecCqGOHDdgUAa83SsiCAI8jJ0DQveM07/md2zo2wOilvWvw++7\n",
       "UyOa4zRq9VkK7BYxhID8NHauCdNjEKWyd4K8zWL7qxI5yRJjE4Qn59AYJboG0aE6cFTEIG+AZ4om\n",
       "QgUNZuCg5roQbMddx3ZWA7F1xYrwMw0NSjSgkJ+0s90pEdFihhrYppt5Az/Num/G0iCni/AzjYA5\n",
       "PV2U/xzsDvbpES7+5L4JrQl+h1hiFH5F2OaF/EweslhZhH8ZfjPz85+Fi5Uojs3s1oZoVbN2bkTR\n",
       "uUNifk0DoQMLL0YiDCjmR1edJYQvDtnoZan8Z4sXtAskg6nZQPcyTxutInKG00BoLLTPPcuAy0L+\n",
       "TBrj6kVtOc4S5lVaX7xCff2Hx3+lMkZSqHHEUbCTnAZAXapro6yOAVPCFEtBivtzCia6v54RjxnA\n",
       "b7TUVnn8J1oIj+M1WDAZO31lgtMAqI+4aREiUK4UbeA1aEgFmn4VLM/L7xcs9iuzDv4BAOPsZfvX\n",
       "7vRyGhQaoB9DoNJhA1O6FNqcxGNYqh5mVe4JW/j9YYf/oZyDeDQedcS/m9Og0DZVzjFg1HZayVPU\n",
       "M3hHDHdi9zibL7iNc6vKtEBvfeghLNhVU8Oe/5oGQPOJaqJowPc6xreQxTApa8ZR0UU3HGfuT4fG\n",
       "+eKkGWI2rKQutPG3UYwOfk0DoNG7LVArDGjUX5ylWesXlCdQlKXNy849MrTBFyeJWggegFGbnUR6\n",
       "ug4FOCfmjxrQ/hXpFGbdnLa00rSohrRjuUCj22jqTrFpruACCSsCL8w0l+6zYv5GO5QCYSmkVnki\n",
       "ee0yYWdFO38VyYM0tmvc/SeFr1oI+DvHvGB4fkPDhFIgLLlIn49cZHOtNLqy4WviGye+CdISJv3r\n",
       "CXMq2Ju0MvSY3VvC49zU6LEAqbmQNQ1wkUNMmkdqILqusMUyyfa5XcS1qBLnI8ixFeM4i3AaeR4o\n",
       "T1KDvOSe5n5a+kHj6/79MLxU8v2nXX3G20UVrDZGnFAEeodgoUtJuuG0xTmIQkWEf/8pKyDsAZUG\n",
       "t/e5vfThB/E+wd5HIp/v2PL9uyPv/5fZrJ5gbvDFf1Ts+BbBYfHjAAAAAElFTkSuQmCC\n",
       "\" style=\"display:inline;vertical-align:middle;\" /></a></dd>"
      ],
      "text/plain": [
       "<IPython.core.display.HTML object>"
      ]
     },
     "metadata": {},
     "output_type": "display_data"
    },
    {
     "data": {
      "text/html": [
       "<h4>proveit.logic.sets.functions.injections</h4>"
      ],
      "text/plain": [
       "<IPython.core.display.HTML object>"
      ]
     },
     "metadata": {},
     "output_type": "display_data"
    },
    {
     "data": {
      "text/html": [
       "<dt><a class=\"ProveItLink\" href=\"../injections/_theory_nbs_/axioms.ipynb#injective_def\">proveit.logic.sets.functions.injections.injective_def</a></dt><dd><a class=\"ProveItLink\" href=\"../injections/__pv_it/axioms/2b2f642643127f05db20f5f1c25ec967e12d64980/expr.ipynb\"><img src=\"data:image/png;base64,iVBORw0KGgoAAAANSUhEUgAAAmQAAABACAMAAACDbZuHAAAAUVBMVEX///8AAAAAAAAAAAAAAAAA\n",
       "AAAAAAAAAAAAAAAAAAAAAAAAAAAAAAAAAAAAAAAAAAAAAAAAAAAAAAAAAAAAAAAAAAAAAAAAAAAA\n",
       "AAAAAAAAAAAsiKZwAAAAGnRSTlMAq1RmmUTNIjK7EInv3Xbh+fvl1/Ptyef16aOoTZEAAAAJcEhZ\n",
       "cwAADsQAAA7EAZUrDhsAAAwjSURBVHja7Z2L1qQoDoBFkKsyO72zN9//QdcbSBAIVlVr9bScM+0/\n",
       "lpUS+AwhhNg031ZYe+LidpwKveKu5h/S81+a6+YpV5VubvdxONtbFvmcnJHWkgsr3K90yeGhLFPi\n",
       "B5AviLRvQdZNRZ77kuXlzylvvh2yhpIHp1z3KvC/cibkTche+Y4ofi57/WHINMCWoVdUQNao9sEp\n",
       "U5Q5NtvFkOkesZ+4aT4LmbQ2HNAH9IoayHT/DJjZHm7vhoxxzI7XH4ZsuiRAyPbYFVWQnTQcf6vS\n",
       "Hh7AiyGTI2LBDab5mZB1ZDRmagNLrdHvQCaQUf93LgO7FzJOMAj1T4VsMvkWu6Gb1PrwDmQp0+Mp\n",
       "bjQSd0LWYs8/Uc0FkMnlvpV9BzLaPzRlVYm6E7IBY+i8WzWCTPAMZGocR7NBtgJC2HbuJcjE+Eww\n",
       "87pE3geZxDpGxpqOGaNPQcZHVJNpumoyjmoyOlFIpsKVPEB2tDyeslPF7oOMYNfT6AJDJHaDELJ2\n",
       "RCDTYyNlwyehIiAmq8l6td24PEDG+ANT1ocw3gaZHrGHn/B4MO/UKU3GyMHqE4aPZldahs0DpLGW\n",
       "icwV4XdHu1WUHSCz4wNTHgx6F2QU8180PYnkR4RZNUyFZyEzwozy9fpYkbljusEWQta+80t/+/GS\n",
       "3wWZQi8foV/AwFGs41YXNZmwk355o0Ity4zvvBcHyORj+ZfGS3ETZCPqnwBalpJ+ICycOGpkuGSz\n",
       "fnkn7GdImmSaDAnDX18SYPTLzi/pPZB1I+a/jN0CIzCUuEBssq6d9cs7TtI2CiEYlbWWcJpwYcC7\n",
       "Y0NQnhWnqSfJPZCxsTvn4hDQ6uGY4c8OtTtvlYF5hl2VfusX9SFkj8+/YJT190DG0SWjDmLYAvGy\n",
       "d5pCpSGzirFpdhl8qvl8+R//+HMuP5Y/f3h988c/53//+tN/uJQxvAW1tZSfTUDIHkdZyf7Wt0CG\n",
       "h9BGmgza/VqVNZm2lb9SrBEPMXda0U0uH8jqh4SwK6+DTOB2fwSZIkWrPIJs6/LhnTVFCeYW0lmv\n",
       "xKm3xyart/zZHZC1+JMvIh8edJBaW4Kso25QfqNCcG6xmWQTbDxpkz2zy5K+UHdAZkeLXaLBJSKe\n",
       "KPA2D5novTHweqBX5Cfjq8yu9/othOxZIS935QAg27V7S1+DrEoCq+gUsLDaxghrojqdhEyrcVxI\n",
       "aOc/Xp71mXA2S/zq+H7f0BnbPSwVLPARQMa69GhRD1mVBFWxDAMCkRIRzp1RxWWlnz4xB8tKT5h/\n",
       "oQxB80yQSddN4mzEoIOsSgKvGMdYH7DDq4aj2yAzw0NSU9fds03mTA7TvghZlYS+4smn/ppB6bpQ\n",
       "mtsgU88kslRUYE3MkFE3MXvZ8K+RMFbMErS322gQivOdkD2Ty2IhgQm+zC5XX3pvXoasRkINZI06\n",
       "7eC8C7Lu2a50DjK2mOThsp0+CdlRwmuQnd+ecRdk5gmMLZvXgaZfIBPE/eMY64OZoFQjM4YpWYAs\n",
       "kqAZo4eRsAYyfdovcBdk/eMlOwfZooJM0L0G+LToMo9K7L0OnLFQgqKHNCx6rFJSpxXETZDZZ0cc\n",
       "0pGBY32FrLXAaO8kWNFZIwfpWIIMSkhMJCsha3r5S0D2KLLTkE180AArC3d6L9fogZYgCyW0pD/6\n",
       "MmohO5k56ibI7GORnYfMtEH8gYX7vcRoKWVENkXIQglUvWr4z7TS74dM9M/U8rRNNrVaEMUsocmx\n",
       "mGSasDJkoQTG3oBMD+LbIdPDM1i+AFkTKKppKmlIYFWteInEvA9EYQQSFH0DssyGkSxk1+eMTdfv\n",
       "KaAc/GSg2BUpGV3SjbIMGWa899VxQeLLNzTqJ/ziTci24L/5Em1W3vQyQiDDJbDxU6poqItaoF/e\n",
       "g2QYht/RILNTvVdW6hZl1EFNBYPCYlppNvKuWfJQUD6a2RWbskIykMke+9XC6PftgfO/8bRyW6Gu\n",
       "C9YZoiiMQpeXBWUgoyxt01ToqCD0Qpx5yOQHHlRZ9aP3QiaqzotPiBeHcy4MgtoKUT0MWixApF+A\n",
       "TLUk2eW2xjzfTWpbP4EzHZw3vOjYmaV09qshyzVKdD5bC6brxTshuzAHWVPzGoPQLVqEDKMiCZlJ\n",
       "b/hoaMVmWLEHLQYXY0nKIGTVO0mi7GOrFEtrIHs9Yv2tkmuUNm7ZTC3kcaA7iNGqH6AQL8xDZnG3\n",
       "kYhi/F8vpzaSdBV7u5k5Dpt4kjIAWTvW3xTIPrZJif0n8drFcmOvR6y/NavNNEoivDPtBTrGOKTE\n",
       "cBYJcUcPmcbncKC3r4NMj/hI4822MIgDTVIGIEtkKMs/bWH2sU1KZFDqgScgez1i/Z2SaxRG68xi\n",
       "eXzKU2L2wFEWHf3v4KsyNNx4duEO8gG9es993Yc/giUpA/Ej+QxlSPYxk9rAO40VpEvYZC9HrL9T\n",
       "co2SmsynXmahxLEDj2KCc07IdtwhY+izxcJeuDThCqZi/ItB2hAhNElZAFkpQxmSfcxJgU/pEBsy\n",
       "HLT3ldOAXKO0qZtI6JruqMhSYoJzTsh23CHDA52AZXwhZBSdXvpsnt42q0pSFkBWzFBWzj7mpBgS\n",
       "mdrQ7Npu8dWI9XdGy0yj+POCGCtsohYZ8zEthhNrSQuEbMcdsg41ykBKkgshE2ieAqUSzyGepGyH\n",
       "rJyhrJx9zEkBsUbzz0ENuH1aEW8e26QAmOor08opbBR3vpsVssumE9Riy9Pxn/8e83QkxOh5l7Re\n",
       "Bx0nhPIIMvTFMrATrsy02GM7FX0UWxDlUJGkbIcMyVBWzD7mpLR9bCoDtxB3WqOBEev+Kzxtr4CI\n",
       "9kZh85iEmFyjbOfXV6Ox4ViL7OOZErPuWV6DVp2Q7bhDJjDHugW9diVkBlOyfn207wKXBOjCVJIy\n",
       "D9khQxlItoNkH3NSZPCDq1sZOP4c5XHE+v4d9wxLS5Tq9sq3dZBt5JKDPs41ynZ+TWvu3k0l467p\n",
       "EsozKWap4KqInJDtuEOGbsVQfXMTZAJLueI1WdCeFUnKXF+jGcqK2ceclK6PHVPhW5g8ZFHEetCi\n",
       "2zPMWPgwRxHtBciIAGKSkIFG2c4vFqbv/a7HFVlSzELp9hpUJ6Q7ajKJuKvIXZA1nJ8fLiuSlDk8\n",
       "sAxl5exjfrgcDo7Y8KXofP/DreFpQ60RXuxk5+mD0z2KaA8hA19vOgPEpIdL0Cjr+TUjkt+IEdRi\n",
       "Uef/+yuROy0hZvWSsXXMcUK2Y2iTCWSOJ2+DjCL35l/fFbxbqyJJ2YYHmqGsnH3MG/7qQHS4HMp3\n",
       "ArmLkxVBq9vJgrMsVrlRRHsImf86U3P51/Qf9WIAEplGWc+vm++n+XkroloAxx7UjUcxzYyHe/Ot\n",
       "E7Id62eXfGhug0wjy5fe/bJPwGuSlK14oBnKkOxjXh/ungLfB8F6jEfFx5vPweZ7dNNMyDQb64Ai\n",
       "iyPaQ8jg150C3MSAamYaZTs/Q9JOVi2LapH2EWbFELrv43dCtuMOGbIHO0pmePFb4liPyNseEDmk\n",
       "7f4mmaRsxqMiQxmSfcxBNviW34craRPTWxdsMhsz+5LxbEsxMgGy6KVNehzRHkIGvu4V4CYGjPaZ\n",
       "RtnOa2KNFMTKqBZ5RZYRY/wy1QCbJPD4E2SG19wImUZMf2/b+gCxmiRl5iPBtJsUgfhZ+LFOs3uK\n",
       "6q0bx7VRpYGDZWQsq8TX5+Hyx7/VOlyOib7JNUoimi6qRZt86jAxTog71q5dHnr54jf3IusRXsmv\n",
       "a7KVSco+ChmjJyFr+tmm6qhew9UnW2oxYQKXXBDRntJk7utNuITtxACTNtMoidXwqBY8+bogTIwT\n",
       "4o61URjssLRy8Yvuh6IqC0yb2a6qTFL2ScjQsIrjDXWMttbQZg1Xl2ydmwhvx4UR7QnI/NcBmU4M\n",
       "NP0zjXJY+Y5qQROKDBfjhHhhHjJKyhZZdzNkSMYl0obGSWWSsk9CpsRpyEL1ADwT88iXubXMOwkQ\n",
       "P2KuUQ7ew6gWqUhWXIwT4oXtkbHlPjwgeDVkSEaV/ekStl7kR2L8F3vQolCXbr+rXspU5wEuNUp0\n",
       "Pq5FbesAMU7ILqwuxp8eo4wuhyx096Qe5m9/YVEJhPpQ7CRk7ZfvBqzarSQSm27fhGwuJxP06rLa\n",
       "+fZ9l/wj+y5/vZ2bdhg2F215N0o08eQLIu9Apru5nB2qxPPG279viXfXywUR/X/ea4BdWgTnAgAA\n",
       "AABJRU5ErkJggg==\n",
       "\" style=\"display:inline;vertical-align:middle;\" /></a></dd>"
      ],
      "text/plain": [
       "<IPython.core.display.HTML object>"
      ]
     },
     "metadata": {},
     "output_type": "display_data"
    },
    {
     "data": {
      "text/html": [
       "<h4>proveit.logic.sets.functions.surjections</h4>"
      ],
      "text/plain": [
       "<IPython.core.display.HTML object>"
      ]
     },
     "metadata": {},
     "output_type": "display_data"
    },
    {
     "data": {
      "text/html": [
       "<dt><a class=\"ProveItLink\" href=\"../surjections/_theory_nbs_/axioms.ipynb#surjective_def\">proveit.logic.sets.functions.surjections.surjective_def</a></dt><dd><a class=\"ProveItLink\" href=\"../surjections/__pv_it/axioms/eeddd6b66b031a33f7115b1fedaaa1b29629166e0/expr.ipynb\"><img src=\"data:image/png;base64,iVBORw0KGgoAAAANSUhEUgAAAdgAAAA/CAMAAAB0MSklAAAAP1BMVEX///8AAAAAAAAAAAAAAAAA\n",
       "AAAAAAAAAAAAAAAAAAAAAAAAAAAAAAAAAAAAAAAAAAAAAAAAAAAAAAAAAAAAAADFBd4eAAAAFHRS\n",
       "TlMAq1RmmUTNIjK7EInv3Xbh+fvl8+nnyKUAAAAJcEhZcwAADsQAAA7EAZUrDhsAAAmuSURBVHja\n",
       "7Z3plqsqEEYVkBnuxPs/61UTCQXIYNKGXuvw49gnoUjJFiiGL5mm62lxWzKdVsTWMqD2wtDmAZ5+\n",
       "KpGteLn9JamchkyJY3Sngqa3wC5r4n1GltYqc+4oDc0/XnP6UXHcDErWCvh/vkF5F+wVG1bOgOk0\n",
       "JNgJz2OCnYTKOH03WKkr/SbXclCwk0BjgpUZireDJbX2SNU0KlipB+2MUerY3WC547VgSA4Ltm/0\n",
       "vzMZ8m2wtFY1Rk3jgmW1+OBrTTZx7GawqFYzvLPB3gs2G6YMkaj4LlgjKhlmMY0MFutp1CbLvwmW\n",
       "V2dX3WsNMVhGfxIsc4MGxpMm3wQ7uyp52FUTpWQfWOrerSIsnJvXRAVPwGailEEScV8EK12tWjAs\n",
       "UM285mAEFjn3gadfPB9DnoAldFCwS9TX3QoW1+Y600wj7xbR12LJ/H7gypx93h1JwFo3KNhJ0++B\n",
       "FdXseobFx1StMGuip2AVU65z6Xqy7OT5w0/AIVjUXfx9fTH7GlhXDXkdmE6oaN9ooVYWWyyza5Pq\n",
       "vSNETiIBqlkClg8bPSHYF98JdnHVWWDoHJ61mQkIeGWlKybJ/TXNwbJDrJxNJniSP7hF+O4AMn8L\n",
       "LHFL1TngjoMbt5RVxtgFbU2qew0BiSgyF9bameLMdAf6REyQvr7aqPW3wNLqqhLs6Fg0ntFa8ETS\n",
       "B7dtlAURmn0MVshvQ0Gwo649rRGM/BLY+lGLBbRpBEvn+mgcIg/WCkLWqPj1rqR79r/+/mdN/z7+\n",
       "3C///eNf2ZMLP1c8n3wfhkGwo05ko+jiRrCsHjvBFhvFTlKUW6y0jY9Pehs0fJ6OJn8Exb8FLAKu\n",
       "3QgW1esEghVzOciJwD5LN93LuRwEZfwIj+ajGf+SMZaDhnMjWOtsvVGHMaeO8ltbArvgYyTvvQsY\n",
       "lD2H2LWeaHaMHTUqXgN28x2wpD4FlCF7lgTRFJ2DZdrHEJ1LT9E8lj4KWrRvxyHYcXcB1mfOQbCv\n",
       "PgTha2DbShANizbhHgVKnho5i0VmwUrh3A4CbX/0Ba4qdGv2OwAvgHCBYhkWrAnD4hUsWYoTxQaw\n",
       "bSXQhqYU7hfnzqEsShSXFH9mggiWFOWwYEEFr2D5UTWsd5P7ANtWgm6oE6JfvGhTp3czWGWG5bp2\n",
       "iQscY4/BRKGLYNtKaNlQwwd8I2TbBtkVsOQ6WDGPC3YOx/8NLMaFlZ0msE0ltICVh2/YEvZjYM11\n",
       "sOMGxRmw02NJR6vLYJtKaNoCF73z/wtgrb4Mdhn1mOJj2oEjsGSPC8MFU9kJNi0h0xhbwHafFmsA\n",
       "a7FVcg2cDUd2zb3Mbj9w83i5D6yi028Cy+bjnwOCDqYAXDiiFBG8ADYqQRKCU7AtzGTvdKIOVqwl\n",
       "SvOcgm4RGdfhy11gNRoYrApXAR6ebk1NLWGW8AawOevAXgsUsASBUwleG9juNlEFy3cfhV3Byv36\n",
       "AOtf7gFr9fS7wCILAp+Fg9W8x243diWwsITcxKYR7KT5Z8E+Ovf1Htjm7HyA9S/3gB26webArkxw\n",
       "8KKFSow9jzS4BDYsAc06N+9pPD/Yp6JsbbHUArAS+5c7wNqRR9jcGLtNQIMdDgtPWTJnMSYzn4pg\n",
       "wxKwuBwVb5WNPwp2H1bZCmcHu/W90k2c+5fbwTLNfh1YFhwP3IbHcDDZh1iZ7bQCsGEJhLwDVhr2\n",
       "UbCTstukWM6OrB3wtvWqiPIvt4OVZuiOODeP3V58Ncg1BFZzMEo+kLJcuBru7gQliGyb061bQazn\n",
       "2x5u+w6Kk7saHWw4wE7wuNEjy+J4GWw1/jHN6+dsxLO7chmcK9w+S8A+96s3+FI9GMu9H6p0xSD+\n",
       "ldXP/ZM+n0y0uwO7nn2olMStY9Gum8HUqW15Ak3NYLk+6dWWP5X/k0m7aWpcSqlFC3mwOD85tE1D\n",
       "IYuu9WSNebsreJbBOhzM1EY515WQmvUYg4WCIthFXgAr0JyvZ9xyJNcieG2Zly8w8ro4u99KWWyz\n",
       "g7m3lnyup0uL7ffK2zQYs/YzT9UWlgOrrD3LXJ+ZIAWvzyhdtoNtP8sGdbCPUixudDDn2Ot8LFI5\n",
       "lyzud8vb2AYYc3NXfAXseVjpqo3p2FwPN9mrGlkFD5l3uBTqYJ+lxDOtaAmt7BifWZIrdKlxGgfk\n",
       "ud6maozBKdA7lQCmmvvYEyJgCaWikQVge/SxQAf7LCWKD6ShWQcDx5R4JfdYW4FbWy+XMOl262VT\n",
       "NSZg1nGvKKtW5zq6ThmNbCKRBdtS5/rYRAYLdbAqdzp87QDnJedgzrE1t0pyQZeaVjAjea6WjcZw\n",
       "ELoTLK6FxYjC614vcMs0I5ENwJb0sYkMFupgj1LgSrWZuMg4mHFseu1Hh7mgS03L4JE819vUjKG2\n",
       "5U6wrKbxIApeU41sbrUxAFvUx5r8WPbUwR6lqDkKlcITteeO7e+yOFfskmo5xxPJc71NxTjSj96q\n",
       "aNeVAwvHMxk+m1AXkju3/AJb1sei+NtfgQ72KAXsGm4fF7b0c8d2Fplc0KWg8FPdTyzP9TaV/UwL\n",
       "x6BbwarKavGxfRJso0QaWVoMnir6WCiDjXSwRylIh1Hu7o1MHEwdy91G6hJqOGsQy3O9TcVYwLdv\n",
       "Bcsqsiy9wOsU6zyyElkPNtHHglYRy2AjHexRCk82rIJ5+alj2dtIXeIN9RXLc71N2VhGD/S9X+BF\n",
       "aS9YGKJkJbIHkqo+FspgIx3sUcqi40lrcOLt1LETsLFLS0OLjeW53qZsHH/V0r1gcXnCk+mKo5P3\n",
       "pgC2po+FMthYB+u7YpMsTrx+ouDcsXxXHLsUFH42xibyXG+DihEKjd69F6wsLxcfZwaDs4ORRja3\n",
       "XPlEUtXHRoFXpIP1wZNInqLX8vO5Y7nbSF3CdXVUIs/1NkVjFk8Gbv72U1LsTo6A/hXYJ+c2Mkqt\n",
       "B5KqPjaex0Y6WN/uXzMaj84fqS44lrmN1CVS3wZJ5LnepmisYhI3g5XF8IkbeM2EKBmJ7IakQR8L\n",
       "ZLCpDvYAazyw2X8Ot1PVseQ2ci6Z2o50Rp7rbUrGab3e/Q3j5SPXx8aq32DNaGQTiaz6yP79sxRW\n",
       "nmqXHMvkivvLCxpMb1M0Junqy90/9mBKTfZY6H5cGzWyHwVLyut2bY6drdeTC8fhvE3JODMw3A62\n",
       "rFcTLLg2amQ/Cbaq/W5zTGTvsV9YHtgUjee0/7gdbFmcc0xU92ujRvaTYEXtA9scy38llbhwOMbb\n",
       "lIxxZuPnfrBlIRSz8NqC5CNnnvZVBVuv+jbHcrnsBa7epmTMcsd93wV74UcLpflzDPWjKd7P+8CP\n",
       "Fsrlwo8Wjnke/Pem5CT7/qOFi/wfthFlI4HX+E4AAAAASUVORK5CYII=\n",
       "\" style=\"display:inline;vertical-align:middle;\" /></a></dd>"
      ],
      "text/plain": [
       "<IPython.core.display.HTML object>"
      ]
     },
     "metadata": {},
     "output_type": "display_data"
    },
    {
     "data": {
      "text/html": [
       "<h4>proveit.logic.sets.functions.bijections</h4>"
      ],
      "text/plain": [
       "<IPython.core.display.HTML object>"
      ]
     },
     "metadata": {},
     "output_type": "display_data"
    },
    {
     "data": {
      "text/html": [
       "<dt><a class=\"ProveItLink\" href=\"../bijections/_theory_nbs_/axioms.ipynb#bijective_def\">proveit.logic.sets.functions.bijections.bijective_def</a></dt><dd><a class=\"ProveItLink\" href=\"../bijections/__pv_it/axioms/11baf34a26927fa841541f3e826bbe3990c964c40/expr.ipynb\"><img src=\"data:image/png;base64,iVBORw0KGgoAAAANSUhEUgAAAkoAAABNCAMAAABuZ7s6AAAAQlBMVEX///8AAAAAAAAAAAAAAAAA\n",
       "AAAAAAAAAAAAAAAAAAAAAAAAAAAAAAAAAAAAAAAAAAAAAAAAAAAAAAAAAAAAAAAAAACGKEuzAAAA\n",
       "FXRSTlMAq1RmmUTNIjK7EInv3Xbh+fvl1/OhCx0iAAAACXBIWXMAAA7EAAAOxAGVKw4bAAALI0lE\n",
       "QVR42u2d2YKkKBBFVRCVbVb//1fHJTUJBSMUXKYsH3pqurMtb3mEAOF0lj3x4AX9s0XbHeyKi+q/\n",
       "key/kkJmv0fKo26HI9/9F0WJ3LQ9pyzyCyPrkaHavJalahXdjBhEoqRYd5S7H2/k5jORPRyljOWv\n",
       "bUDUMnrPAMtjUaqO/LVCbz/StZZpUZKATY5+goBS1hSvZUn7qgl2B0pSI4WNUFlSlGprjdseo5+g\n",
       "oCT1a7u40nfbb0EpF1gZLdOi1H3EAcVq7BMklPbVcz/ryJtnoFS3SG1l9jVKO1Eq81apjgfLrJIx\n",
       "KFXHevcfUXm3xSNQEgI7qTwTpa4SG0qdjmdpYlDKGvVWlLLGPAGlAmuUfK1ncpTqIXhjY1Bi+rUo\n",
       "1a19AEoCu2e7ZxsXKFUigFLTtq36oDRikPPP7x1CydfMv6ZZ0vej5OF5+5xcKbkLJdGirZJkY6sk\n",
       "0FaJdazl3SGaeoVSZvhrUSpWj9H1KOVYJbS4JJXXutiDUtEiKMk2q+tMdCetHC6CrZJuPtddr1Di\n",
       "4rUoZa24GyXZYpXQYqpAF2Wzq1Xi+eqiKiVa9W2AFO+7NGUtrwKfAIMV+5lL4SuUbPtelKZH6z6U\n",
       "GFpfaABGuWzEbGO6QwRRUpVahtxz2Gp1wfXnv3aFUhHznf7nR9mqm1Fq0JE+vEQF+51SWLnZKlW2\n",
       "aysiquGCr56+TwWmqxVK9Yvr7qzV96IkW3Sg5A7gWK5Nzt3BmUQ6ON63FTELToy3VJK58ZTd8pKl\n",
       "LU8dwy2a5KtRYi02rbcYYcPxnqiQWqkshuUKMUOTZpGwsdbmgnkmA+DVceMcL3inYhc/5qtRyrH5\n",
       "yUWnUUH0BVZ28+HvRN1IC6p8OyYs5jfQEKX3znd3N0rcipJGv18JYCvA52s9PfWNHyXbcN6N4Jw/\n",
       "laL/+B9//tUffw9f/j23HX/80//671/zHw5H617BNBU31/IQpfdOLHXhYdl7MUqEUgm2SrDqls12\n",
       "qyTH/qY1MZlKsMJzauGmAdwvSt8uAvYwF6NUoLNKC5SafLMmXqD0ubEm5t1YDSr7eiqs5575t1aa\n",
       "A8M69mKUOF5cVGBUpOG0obVbKJVselxinrUqW5dKTmEAUXrxCK5jp7kRJYFPxEiX9WpZpYsijFKl\n",
       "52Hq8YVEi3klMZ6z1HNb5aL05ve5/c3XN6KkCdPDmoeq7mF+pymlFyXZtO1wv4v+i8MjK+VeYD6/\n",
       "y/0iA6coyxejJOHLzotRagmr2oTTbHrWvJaq2XxxcvYBX5y8ejdcCxqGa1GqKHuluP4SIkgdyG0o\n",
       "KfNmkjID+vdrUSoow3Q2PeqmkbRFHLeh1OSvRkmAIdy1KNmWwIacWGfOIpBTUOKxKL16ANdPkKjb\n",
       "UFItZdl2s/cWH0XJRKJUvnfLyfgogjdU16KUk96O7V59fxAlqyNRUuLVJHUtg1ig9L0RBTuIEvEU\n",
       "DelFg9w7xCaiNG58k42pC5sH98PtQEkXb0fJLFDi850T1UGUiKcQtHdWe592GkrTxrdhXrEfGvr3\n",
       "w9FRsvrdJHWlr16gVE93otq7AW1GiXgKQ1yUoev0KM0b36p+hNhvgPPvh6Oj9PZGqYOnXdZK00sB\n",
       "VRxFiXgKTURpnxOHhtK08a1Dqf+vXeyH24+SfXml5EWJTa9Bj5fdtFPolvj0C3ZSqyQsQMmzH46K\n",
       "UqWrt6NUrFHKxhVlWh1HiXYKTZ2IkaZKjdK88W1Aqe/R/PvhiChJ8/buzY8SH2oTdyGq3IvS+hSe\n",
       "g26MrPa4HokuynHjm8y72p/pfn2bZz8cNpEyuSizhr2epKz0oFTl0y8TSW7hW3djeKV4U2+htDiF\n",
       "5Jz5UCI/ytWzd5jJ8pek3kQqlygNrYkq3RkD8KLOhMa+ks3ngqdoWOlhgbFfr+wPOiRzm4tq/J/C\n",
       "goq5rMHqxXF845sYd2a74Sn8qy9a+uSjK1v+UeLlB4WZI4AE9DjeVqmDgDnw2Ey4lewwgSIN20TJ\n",
       "PUWRa++sAL2Dcxcq/Sjx8tPCjBFAAnIcP0qqcFi00NFRtZYxntfZNkruKVgTKLuJKLkTS6nFyyfY\n",
       "cuni5cdZpD8RQAJqnNpTdvfDYWeHaw0Lo6FUkt5ZPBcl9xScR00GuLLl1OLlU2y5VPFycot0KpRg\n",
       "AmKc0otS5jQ63XBNuRakEaLKV+eAlQHOKQJDZSpK7tLs1OLlU2y5VPFy+jCpUAIJiHECKLmFUgY3\n",
       "WI/vmsq2RlByL9A/lDc0lNwl0+eKl5PZcmkl0AlhUqEEE9DiYCh9NpP1VY1UI1VDkW+wDs4tNgI/\n",
       "MkF7ceLKls8VLyez5dLEyyeESYYSSECLU6xWBsARxlDxSN6KMhvMfUx0D67i/u4zgFIdWH7RkF7n\n",
       "urLlS8TLKWy5FPHyGWGSoQQTkDzSbLVeaSsL+sPxosQCL9pz0nolV7Z8mng5tS2XsvTzjDDpUAIJ\n",
       "SCtZ7WoV5UZnKI+g1BR5HZoTo/xs3IIqVrzsMy8ftuVuoUTZqHtGmHQogQSkfcdwqf42Smh0L0rK\n",
       "WtL3JpwzWrzs8wcct+Uuzcv7xMunhNl5bLmjQQKKR5qDTubabQKMsnnJvaRY8bLHvBxjy12alzfF\n",
       "ywoRW6cIc6QZCrqjQQKKR7q5cR9c2VIqCuH/OjsgXvaZl2OOhXl5S7wsjdgIdluYDXc0SEDxSIsb\n",
       "d+eSNnq7suVI8XKkeXklXl6al7fEy5blZTjYRWHQBG4EkIDikdY3OgOylvB5d8IgTrwca15eiZeX\n",
       "5uUt8bLJ6iYc7KIwaAI3AkhA8UhDmcjFKBnCKpPQAG6/eDnavGz8hcZsXt4QLxdqtZHrjjBYAjcC\n",
       "SEDwSFe3+pVyygUWoSHpTvFyvHl5IV5emZeDMsHx6mCbcEsYLAFUINjg9fkrX3EjSrYlDJmLQCu7\n",
       "V7ycwLwMxcsr83JYvDxuDDQyy24OgySAKKlgd+y/mepGlEp8NsCVLUeJl9fm5ZV4+WNbHsXLg4R5\n",
       "U7y8Mi+HbbnjJC2YYLsozL4EECUeihPoYoobUZL4EC7cKu0TLycxL0Px8sq8HETpI4YCG8jvCYMk\n",
       "iEHJ3Ort7r59dRilfeLlFOZlKF5em5eDtdI0PcmDY6KLwmAJImoluZgkvBolhdbdrmw5QrycxLy8\n",
       "KIZX5uWgeNnMA7Ps3jBYgrB5DL1RxaJwuxqlEi0cXdnycfFyEvPyclZmZV4OiZe/Wy6czYN3hEET\n",
       "BN9I4+9zF6XS9f8eHP6PnLiy5YPi5UTmZSBe9pmXQ+LlfP792t4aBk0ApyhLfxzanbwcJY5OyLuy\n",
       "5R8lXn5kGB1Y+4zGqZf9y+Uoleh8Bdeer3+CePmRYVwfosl2xFm9xLn+X/TW2CCEOc/DjxIvXxKG\n",
       "H48AEqBxhM7uRslinbB0cL9OvByNEv5K6JIw5niEXQO49Tuc61HK0DGcK1u+TLwcixJFvHxBmN1+\n",
       "zG8EkACNk69qqRtQUlhB5y5Rv0q8HF9oUNaHpg8Tbf39RgAJsDhy3SDcgJLECm9XtnyWeDk5ShTH\n",
       "afow8dbfgKUVi2Pb6gEodZeBPDDuI3GOeDk5SrSOJXWYBNbfr6VV7+knNc+egBK+SdXdJ36GeDk9\n",
       "SkTxcuIwCay/c4SdjZJ8BkoF9reOO3FuQokqXk4cJoH1d4oAEli0UmLZM1DKOLYdzpUtnyBeTo0S\n",
       "XbycOEy89ffzKZAAjePdZnwPSplBfqKubPkM8XJalHaIl1OHibb+jhFAAjRO6aU0GqXh2H37UGWV\n",
       "u2z+DPFy/HFQvPykMN8IIAEaxywHombEIOpiJBuO/ebhEntmXNnyjxIvPzEMSIDGWX9gpIBl/wF+\n",
       "UZjguKejIAAAAABJRU5ErkJggg==\n",
       "\" style=\"display:inline;vertical-align:middle;\" /></a></dd>"
      ],
      "text/plain": [
       "<IPython.core.display.HTML object>"
      ]
     },
     "metadata": {},
     "output_type": "display_data"
    }
   ],
   "source": [
    "import proveit\n",
    "%theory # toggles between interactive and static modes"
   ]
  },
  {
   "cell_type": "code",
   "execution_count": null,
   "metadata": {},
   "outputs": [],
   "source": []
  }
 ],
 "metadata": {
  "kernelspec": {
   "display_name": "Python 3",
   "language": "python",
   "name": "python3"
  }
 },
 "nbformat": 4,
 "nbformat_minor": 0
}