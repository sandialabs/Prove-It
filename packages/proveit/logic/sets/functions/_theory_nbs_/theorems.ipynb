{
 "cells": [
  {
   "cell_type": "markdown",
   "metadata": {},
   "source": [
    "Theorems (or conjectures) for the theory of <a class=\"ProveItLink\" href=\"theory.ipynb\">proveit.logic.sets.functions</a>\n",
    "========"
   ]
  },
  {
   "cell_type": "code",
   "execution_count": 1,
   "metadata": {},
   "outputs": [],
   "source": [
    "import proveit\n",
    "# Prepare this notebook for defining the theorems of a theory:\n",
    "%theorems_notebook # Keep this at the top following 'import proveit'.\n",
    "\n",
    "from proveit import Lambda, Conditional\n",
    "from proveit import f, x, A, B, fx\n",
    "from proveit.logic import Forall, Equals, InSet\n",
    "from proveit.logic.sets import Functions"
   ]
  },
  {
   "cell_type": "code",
   "execution_count": 2,
   "metadata": {},
   "outputs": [
    {
     "name": "stdout",
     "output_type": "stream",
     "text": [
      "Defining theorems for theory 'proveit.logic.sets.functions'\n",
      "Subsequent end-of-cell assignments will define theorems\n",
      "'%end theorems' will finalize the definitions\n"
     ]
    }
   ],
   "source": [
    "%begin theorems"
   ]
  },
  {
   "cell_type": "code",
   "execution_count": 3,
   "metadata": {},
   "outputs": [
    {
     "data": {
      "text/html": [
       "<strong id=\"membership_unfolding\"><a class=\"ProveItLink\" href=\"proofs/membership_unfolding/thm_proof.ipynb\">membership_unfolding</a> (conjecture without proof):<br></strong> <a class=\"ProveItLink\" href=\"../__pv_it/theorems/6764c949ae74147eea6f13bb051d5907d95cd4420/theorem_expr.ipynb\"><img src=\"data:image/png;base64,iVBORw0KGgoAAAANSUhEUgAAAUwAAAAZBAMAAACodAqcAAAAMFBMVEX///8AAAAAAAAAAAAAAAAA\n",
       "AAAAAAAAAAAAAAAAAAAAAAAAAAAAAAAAAAAAAAAAAAAv3aB7AAAAD3RSTlMAq1RmmUTNIjK7EInv\n",
       "3XZ/CtNrAAAACXBIWXMAAA7EAAAOxAGVKw4bAAAEn0lEQVRYw82Xf2gcRRTH393e3d7tpXsXLGql\n",
       "kC2Kf4kepq34h81Jo2mp1oAg1UKNLSKVgtc/C7a3/ikNNlUCWUG7gVLwRyENVSiHeI0giij1B1ih\n",
       "C5tWKYrEKNamEavz3szsj9udrX9U7EB2X+77duczb96bmQXIaDnvW7gBmul9lamX4AZpg9cb0/Ts\n",
       "bAc9xW6pnFvihdcdszp6DYfzKfYOlfMO8cZBqOO/tysxs+R0zBze8g2Fnp/Ba6HjBjZOQcJbO/Jr\n",
       "/81TJHDMh/DX55SYWXI6ZgHjWVLN4zG6nhi3Ahvb8wm/vgmAARsFjvkS5siEEjNLTscs4wTsU+kb\n",
       "6Tr3pBvY2NYm/No+wNNNFDhmiT1QtZSYWbIiNzE0syq9i5ficmjz2Ln8/qPnjXFriBXOkI8Cx9Qa\n",
       "6lJhv2fJCkwsyzFVapJQPRPavCOenE/8FPwywP72tFDgmPC5532WUekZsgKzz/POzSjkAgra6i+b\n",
       "wjYWbjvIIl+lStUjKfopwPRZEgTmJoDXSXFTMQNZPo/FYSQq83CIWbCh0vMuIx62mi/tAsz7j7LH\n",
       "KbCRuitfWZjfBSQIzL2g01iMT8jh5d87m+0IppCNYbFokO+7kTW8fGTLySnIhZjMf2/PKAL/FZTm\n",
       "bVva98GQexOb/27PMm1eBrirQYLArLh8Sa7+xuNyBsxuBFPIlXU2lOedUY75YbSoHgD4OYrJov+e\n",
       "1F5ZNRnz76Ou7glsGx6moS7iddxjja8qFYZQXSJBYOZ9PoptX/DjRhO0xQimkGtsGodtEc3iuM8d\n",
       "qNOVrCZjmHcHFVTYRLfAX2B+ELGp1yIF5q1w6DXWjXaVBIEJYxtI8Z/hD1twvBHdLEnOr54VewVi\n",
       "mqU6d/iBFkEwvo5hljRGZX5/YAQuiCmU/mLSD4d28TK8zV5Ppb8ixDzE+spdIkFizlKBmTz80L6w\n",
       "9tbYns7l++VgsUO/IMKFP+lXBx+0Y5jVO1noL+YmdhpiXwj8oeIHEUTbmMx1gRW8Ro6mH2D+wqrp\n",
       "0BgJEvNFGuo2lmA804yVMUwuDwM8LjGLtsze8i2UzNPNGKZ+mhmNim8X+bSE/nzl0S9JO790tFu0\n",
       "xDoFsDPA3MOe+tglQWLmqO62dAZckWnt0Sgml18DWO84joWYhc6JZTjlYPurhcnM+o1iAk1HrQXa\n",
       "bsd5VfiLceHs5helbWz177gXp5v3OD0pFrJVf/f377a4IDF5+shlYo7tpXbyIMdWq4Mymj7oS+Kp\n",
       "GUrm4lIck9o4tMo8SKE/wFksrHpo87Zf3Le/4cX3r/0Qx2QzWrOMGdCXwfgmed40lkGs2XXAqeSL\n",
       "F62PbReONxOYevd9aPKNIeJPh4w1Jav3wLEx46QSxSycBuOxZ8tzsP7PzmYriVlmyaVPccxH6nD0\n",
       "D04zwlLzhc5JNrGJaG7dvuDCPpyXiD8bawu+OxbaYkyqIxgKsWiKk4Hq9K7hJvyOI5d32cI9MZd6\n",
       "ejdOOZM92+YEbBgJ7R7e3oZCCuZTCszKmmB3rCs+QiXmtb6FDqTYF1XOTDDPJTEbCszqAvxLzP/l\n",
       "yzLlO91JnSDtzf/0O/2jfwC3JDONpRzmZgAAAABJRU5ErkJggg==\n",
       "\" style=\"display:inline;vertical-align:middle;\" /></a><br>"
      ],
      "text/plain": [
       "<IPython.core.display.HTML object>"
      ]
     },
     "metadata": {},
     "output_type": "display_data"
    }
   ],
   "source": [
    "membership_unfolding = Forall(\n",
    "    (A, B), Forall(f, Forall(x, InSet(fx, B), domain=A),\n",
    "                   domain=Functions(A, B)))"
   ]
  },
  {
   "cell_type": "code",
   "execution_count": 4,
   "metadata": {},
   "outputs": [
    {
     "data": {
      "text/html": [
       "<strong id=\"membership_folding\"><a class=\"ProveItLink\" href=\"proofs/membership_folding/thm_proof.ipynb\">membership_folding</a> (conjecture without proof):<br></strong> <a class=\"ProveItLink\" href=\"../__pv_it/theorems/99ca33f9796b49360c5d4fcbb895158dc1d3e2360/theorem_expr.ipynb\"><img src=\"data:image/png;base64,iVBORw0KGgoAAAANSUhEUgAAAWwAAAAZBAMAAADnKQlMAAAAMFBMVEX///8AAAAAAAAAAAAAAAAA\n",
       "AAAAAAAAAAAAAAAAAAAAAAAAAAAAAAAAAAAAAAAAAAAv3aB7AAAAD3RSTlMAq1RmmUTNIjK7EInv\n",
       "3XZ/CtNrAAAACXBIWXMAAA7EAAAOxAGVKw4bAAAE3UlEQVRYw82Yb2gcVRDAJ7v3Z28v3SRYSj9U\n",
       "usGC6If2oNdiP7S9kNNaCnpQKIkpGisijR964idRkxU/BQOeqWJOrNmAFKQUzxCk9LCe6QcrxZKq\n",
       "oEIPzz9QoiWm2taYYup7M29v397tbuAQ24HsZHdm3/7eezOzswcQIm3Vb+EOFKP6Vag9BneobL09\n",
       "2HH/RbRWXWYL8rcR+ye/i8kcTWkw+D7m8jhhd3J1TyB2mLllUUr8GCnbftixRZ87dtzq6jpscRcj\n",
       "hdgP8qvPBGKHmVuW43j8aMz0w97ihw1fsAKxhC5DiP0K35dCIHaYuWXpxeNsv+9q9/zllwwrANFr\n",
       "6JJG7Bi7N2kGYoeZW5YKP0SXxdl8tTroYidfXJI8LwutsovqCrq02xxbTQWnHrseZm45tIlyjs4O\n",
       "/OpZ7WHjD8l1k/MGYZET+xxdYimsJF9Wq+dDKkmIuVWJ8IxUN1zM4PYPeYMko/wpua4Rur0A+t2Y\n",
       "kpDsROyHAd5Bk+2LXTejZEJ57vVoo8Faqw/LiwF00Hks78GOmtpNeWNEWr3+3sK6FLmog4j9HMSx\n",
       "yunn0GH0WnmvJWELs57FZ+EopwP4Vf7c93tJyz7a5L6ZCYjUlxBzZcRqeDcgdgTiV+Ux52kxf8+D\n",
       "cpZclApiJ2yRCxRT6hwYFQlbmBPbrDo2q/h6pw/2FD8c7SPNZIAT/1hkt+8EuALRkrPj+LwtdDJW\n",
       "ZVKoY89ne/7GQKqS/HAdvd5lf59SkGiLiK3UaMJ9Fyj4M6AuStjC3EGzLojLSb/3MNb4ZaGBqlAW\n",
       "HdcC7KaK62J/QicfeFZbZ5HzjzzmAdo5vgO7a+gSpdWGwV0Uek/SmCacTMkvdzQrG6ZdbPVwsegX\n",
       "2rw0dJ83uTZ+Gd7DC6dBQ82C/jXAtCdI3vAmHWHzQLokDanRVDWephtzFCRzhD09RAn0EHqM/Jxe\n",
       "7+lJyLwDXGx29GsqsJlQC6gvtxUOgZIRaxlf2dpjudUsgcl4QbRHNRl7P9NH5KJACWuwV5B2Q6Rk\n",
       "gbBfwjjtY9HHZSfoaz3YZM7K2KfA0+4kKfei3BjJoE4lahb/Z7+TL1PMp9/x5yPGr4uzQxJ2nGfV\n",
       "ZL6pbsfY9YNDYkNKhN2G4bevvNEWYTiSk7HJfFTGnlLEEqWznHiAJqFwmkSKdAd7tlaA7cVi0eT5\n",
       "wilHnZ3n0aQ4CTT1lu1g65M3bLjv1rMu9inKt8mrXevGxYasyUmNq+FUpFmAJ6zmxvWcjN32gg2v\n",
       "nkmLxNTvJwKNG9st0mOsMWZB8pqTL9ElN0jgO74t9Vo0cEx+uYcKd3lZ7rfZbnaYegniy6B/09xv\n",
       "68sytvYmC4PRJDxPIeDMiS/ihzbX8crHrGqzsE3gSo7YcJJty4IzGuuGumNmQL+9GnavhB35DPRH\n",
       "n9ZmYfvN8l6zGVuryNjwNiBEf5YHyeaFp9yrY6QfGViwIZGH+ASf15HyzLiwU07m4fvj0Bo2tqMN\n",
       "XzdK0NeNmvFg83o5ocIJnJEJM+7rJS20U5JPFIsOjV6/mf23a0+L2Il8M/ZjAdiJbqsR+67fHgCD\n",
       "78uVXPwYPTCSh/H1pFEayCJuhRj2ZVr9W/JSjlrZBuxUAHbSCcuGD4ZN2ZJ8ehrO1JymBeqtiSPb\n",
       "/rcv96bfSfKh/rpH6w1W+7/7neTsv1ZHPLsHzHAwAAAAAElFTkSuQmCC\n",
       "\" style=\"display:inline;vertical-align:middle;\" /></a><br>"
      ],
      "text/plain": [
       "<IPython.core.display.HTML object>"
      ]
     },
     "metadata": {},
     "output_type": "display_data"
    }
   ],
   "source": [
    "membership_folding = Forall(\n",
    "    (A, B), Forall(f, InSet(f, Functions(A, B)),\n",
    "                   condition=Forall(x, InSet(fx, B), domain=A)))"
   ]
  },
  {
   "cell_type": "code",
   "execution_count": 5,
   "metadata": {},
   "outputs": [
    {
     "data": {
      "text/html": [
       "<strong id=\"elim_domain_condition\"><a class=\"ProveItLink\" href=\"proofs/elim_domain_condition/thm_proof.ipynb\">elim_domain_condition</a> (conjecture without proof):<br></strong> <a class=\"ProveItLink\" href=\"../__pv_it/theorems/a18301ec1e16edfd168e59fe8ae7029819f091710/theorem_expr.ipynb\"><img src=\"data:image/png;base64,iVBORw0KGgoAAAANSUhEUgAAAcEAAAAZCAMAAAB+f2UsAAAANlBMVEX///8AAAAAAAAAAAAAAAAA\n",
       "AAAAAAAAAAAAAAAAAAAAAAAAAAAAAAAAAAAAAAAAAAAAAAAAAABHL6OuAAAAEXRSTlMAq1RmmUTN\n",
       "IjK7EInv3XbxwTnOfi0AAAAJcEhZcwAADsQAAA7EAZUrDhsAAAVWSURBVGje7VqJjqQ4DCX3RbKb\n",
       "///ZgZyOIRRFl6alno5GrRqwjZ3nM7Asjxfx3qvld33fChsC9Av88ncLv38x9ovgF5d6J2L0J8JO\n",
       "w4f+IvjlHb2fxZwYkH+6fbsYEQCCpN2i7AGCz9l/xKKu/+bO2fsIyng7UZoYybak0U1MYB1B3uRK\n",
       "9QDB5+w/YVkQSI7old5GkMZ4/zGrya1j1E2MtA1BXaNImSdZ9Dn7T1gc5J2VCnM/BjmJtz1exZw0\n",
       "ReRNDOO9DlY0HX2C4HP2n7DW/lNEDF8wW7Pv5SmCTrk4aWvCAVlWSFlCsohZbUOwdjNvV1Y5NEP/\n",
       "Yl9DYRL14z0hg53GoApLiBOXp/wweJeEK1fVxUjWt3/dXcWv7mEv+pT9JyTRZjQjqyd8aDXtRRbl\n",
       "eyGcdX7+vAxa4jUQ40hHkKcbMIfbdxA8si9QU6DHdeJnDptEIUN42GsMTR057I26b/ORXQKN46jg\n",
       "SV/XERRb+Ok483mKOgodTQiB1IcVMQykQEXqn2rMClK0NnFrk7nRMwQRu+WgvENdyPX+6F5Tiggm\n",
       "Zt7AkpsKx1/COphy1IHMCM/tx+zgSEuhsiavOhmeGKYbEsZwCLnnoSuDYugKitjOMJTZIUXn7Qrr\n",
       "dKIf2Q0T+gmCoKZkERYxiO6zOiEXrTrZdR2IMeLclKpDoyETm5dz+w8hLMB0gPzRl2WOCAbD+daL\n",
       "9jvcjytG6LxmrSrCLKojQJCGwWeEXqFv5/TO4hTBkX1oyV4jKE4QzCK4wM+zKLxO8zaHqCJTig6d\n",
       "hswIu17Q/gsEUSNjzTwGbX5S9DNnFnIwvQZrbkWrGAFjcNt/FmDFkVDVNKZaz+anaoCdkhWOFRjB\n",
       "ELja/oGiEwRGsIooBlYWMK9Ys22n5rEXzkYURjWRKRkCQENmhF0vaP9FFsU10s8RLOXAr7N6Mrqq\n",
       "ri0PyZFZs6iHCDoKmDYwuBzGScY40cscQcjOBudDCG6jDjGLpOB6c1YmRxHl3LCxwDZb7QFhIxyh\n",
       "MhFyfWRKhgDSkBlhp4L2YwRN93sUwptPzRAU7MWxGmqCShnckJRDJ2MggmolIPGMRS+VAUv4BYKQ\n",
       "nfMLBFkyWg/XNVHZ8fQoQhQNK0u7UsEDCDYiMYQgNiVDAGnIjLDpNdiPEXSk+9Qh59NzBFV9jpkc\n",
       "yuB5UK4la5YwKQiWSaaO4yDEtsbLEVDMsu5HDWHtA+yGLZd1MKv93/+mrbi/JtaE2FEEbbtTLdVT\n",
       "BBsRk1kmPTUl6wBpCLLZGaTXaD9GUPtJI5NAN8IeENwKQExI0P3H6Tzhxu65HWvTMZS9GBBEYxds\n",
       "jfNprYj6AkFYNfUlgvvMoIbroZgRyCii4VVYoHMeESxE2l2ZknWANGRG2PWC9h+asfbCj5/0acKZ\n",
       "6anaF1YJZb+cI1hSzN5aW5cNs6mQX2VR6Hnj6eCI4JZAnEyVvNvbBsnWyVQRvuScwgJLC0IQEIFJ\n",
       "CpiyVGsIOnwgR0Kk12D/AaZ8vrylC0nvbv2HEKxDN0aQp4pmedz62fSuhMno9nmWLvcQ1GM1QTHI\n",
       "g3BhPC7kCiNYReTjEsDSzk8siTz9qRc6kWonD9CUJFVVCDpN+j8iHPUa7T8GWtLJGyuXv4tgexN0\n",
       "/Y6e3jpVO3HKN+ZBe5gHqwiBqoS99frKplI22yuCaMit07gLE5JSLHD1lxFs3nyJoLDvImgomjre\n",
       "OJMRHotA28I/8AaZvITkLfb8luH21n/mO5n9GKG/gbpE8NVXE0cEHZ6C3kBwkQGLGD5aYJ/w4M8j\n",
       "+N3ra186vf5eFN42L95NLJpepTL7AWsNDpiXOl2zf/cK3q/sDycFLk5nOUwXAAAAAElFTkSuQmCC\n",
       "\" style=\"display:inline;vertical-align:middle;\" /></a><br>"
      ],
      "text/plain": [
       "<IPython.core.display.HTML object>"
      ]
     },
     "metadata": {},
     "output_type": "display_data"
    }
   ],
   "source": [
    "elim_domain_condition = Forall(\n",
    "    (A, B), Forall(f, InSet(f, Functions(A, B)),\n",
    "                   condition=InSet(Lambda(x, Conditional(fx, InSet(x, A))),\n",
    "                                   Functions(A, B))))"
   ]
  },
  {
   "cell_type": "code",
   "execution_count": 6,
   "metadata": {},
   "outputs": [
    {
     "name": "stdout",
     "output_type": "stream",
     "text": [
      "These theorems may now be imported from the theory package: proveit.logic.sets.functions\n"
     ]
    }
   ],
   "source": [
    "%end theorems"
   ]
  }
 ],
 "metadata": {
  "kernelspec": {
   "display_name": "Python 3",
   "language": "python",
   "name": "python3"
  }
 },
 "nbformat": 4,
 "nbformat_minor": 0
}