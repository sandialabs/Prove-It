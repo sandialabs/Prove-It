{
 "cells": [
  {
   "cell_type": "markdown",
   "metadata": {},
   "source": [
    "Proof of <a class=\"ProveItLink\" href=\"../../../../../../_theory_nbs_/theory.ipynb\">proveit</a>.<a class=\"ProveItLink\" href=\"../../../../../_theory_nbs_/theory.ipynb\">logic</a>.<a class=\"ProveItLink\" href=\"../../../../_theory_nbs_/theory.ipynb\">sets</a>.<a class=\"ProveItLink\" href=\"../../theory.ipynb\">functions</a>.<a class=\"ProveItLink\" href=\"../../theorems.ipynb#membership_unfolding\">membership_unfolding</a> theorem\n",
    "========"
   ]
  },
  {
   "cell_type": "code",
   "execution_count": 1,
   "metadata": {},
   "outputs": [],
   "source": [
    "import proveit\n",
    "theory = proveit.Theory() # the theorem's theory"
   ]
  },
  {
   "cell_type": "code",
   "execution_count": 2,
   "metadata": {},
   "outputs": [
    {
     "data": {
      "text/html": [
       "With these <a href=\"allowed_presumptions.txt\">allowed</a>/<a href=\"disallowed_presumptions.txt\">disallowed</a> theorem/theory presumptions (e.g., to avoid circular dependencies), we begin our proof of<br><strong id=\"membership_unfolding\">membership_unfolding:</strong> <a class=\"ProveItLink\" href=\"../../../__pv_it/theorems/738b3fd9afebaf62ca6c74678a75cba7d20e56800/expr.ipynb\"><img src=\"data:image/png;base64,iVBORw0KGgoAAAANSUhEUgAAAUwAAAAZBAMAAACodAqcAAAAMFBMVEX///8AAAAAAAAAAAAAAAAA\n",
       "AAAAAAAAAAAAAAAAAAAAAAAAAAAAAAAAAAAAAAAAAAAv3aB7AAAAD3RSTlMAq1RmmUTNIjK7EInv\n",
       "3XZ/CtNrAAAACXBIWXMAAA7EAAAOxAGVKw4bAAAEn0lEQVRYw82Xf2gcRRTH393e3d7tpXsXLGql\n",
       "kC2Kf4kepq34h81Jo2mp1oAg1UKNLSKVgtc/C7a3/ikNNlUCWUG7gVLwRyENVSiHeI0giij1B1ih\n",
       "C5tWKYrEKNamEavz3szsj9udrX9U7EB2X+77duczb96bmQXIaDnvW7gBmul9lamX4AZpg9cb0/Ts\n",
       "bAc9xW6pnFvihdcdszp6DYfzKfYOlfMO8cZBqOO/tysxs+R0zBze8g2Fnp/Ba6HjBjZOQcJbO/Jr\n",
       "/81TJHDMh/DX55SYWXI6ZgHjWVLN4zG6nhi3Ahvb8wm/vgmAARsFjvkS5siEEjNLTscs4wTsU+kb\n",
       "6Tr3pBvY2NYm/No+wNNNFDhmiT1QtZSYWbIiNzE0syq9i5ficmjz2Ln8/qPnjXFriBXOkI8Cx9Qa\n",
       "6lJhv2fJCkwsyzFVapJQPRPavCOenE/8FPwywP72tFDgmPC5532WUekZsgKzz/POzSjkAgra6i+b\n",
       "wjYWbjvIIl+lStUjKfopwPRZEgTmJoDXSXFTMQNZPo/FYSQq83CIWbCh0vMuIx62mi/tAsz7j7LH\n",
       "KbCRuitfWZjfBSQIzL2g01iMT8jh5d87m+0IppCNYbFokO+7kTW8fGTLySnIhZjMf2/PKAL/FZTm\n",
       "bVva98GQexOb/27PMm1eBrirQYLArLh8Sa7+xuNyBsxuBFPIlXU2lOedUY75YbSoHgD4OYrJov+e\n",
       "1F5ZNRnz76Ou7glsGx6moS7iddxjja8qFYZQXSJBYOZ9PoptX/DjRhO0xQimkGtsGodtEc3iuM8d\n",
       "qNOVrCZjmHcHFVTYRLfAX2B+ELGp1yIF5q1w6DXWjXaVBIEJYxtI8Z/hD1twvBHdLEnOr54VewVi\n",
       "mqU6d/iBFkEwvo5hljRGZX5/YAQuiCmU/mLSD4d28TK8zV5Ppb8ixDzE+spdIkFizlKBmTz80L6w\n",
       "9tbYns7l++VgsUO/IMKFP+lXBx+0Y5jVO1noL+YmdhpiXwj8oeIHEUTbmMx1gRW8Ro6mH2D+wqrp\n",
       "0BgJEvNFGuo2lmA804yVMUwuDwM8LjGLtsze8i2UzNPNGKZ+mhmNim8X+bSE/nzl0S9JO790tFu0\n",
       "xDoFsDPA3MOe+tglQWLmqO62dAZckWnt0Sgml18DWO84joWYhc6JZTjlYPurhcnM+o1iAk1HrQXa\n",
       "bsd5VfiLceHs5helbWz177gXp5v3OD0pFrJVf/f377a4IDF5+shlYo7tpXbyIMdWq4Mymj7oS+Kp\n",
       "GUrm4lIck9o4tMo8SKE/wFksrHpo87Zf3Le/4cX3r/0Qx2QzWrOMGdCXwfgmed40lkGs2XXAqeSL\n",
       "F62PbReONxOYevd9aPKNIeJPh4w1Jav3wLEx46QSxSycBuOxZ8tzsP7PzmYriVlmyaVPccxH6nD0\n",
       "D04zwlLzhc5JNrGJaG7dvuDCPpyXiD8bawu+OxbaYkyqIxgKsWiKk4Hq9K7hJvyOI5d32cI9MZd6\n",
       "ejdOOZM92+YEbBgJ7R7e3oZCCuZTCszKmmB3rCs+QiXmtb6FDqTYF1XOTDDPJTEbCszqAvxLzP/l\n",
       "yzLlO91JnSDtzf/0O/2jfwC3JDONpRzmZgAAAABJRU5ErkJggg==\n",
       "\" style=\"display:inline;vertical-align:middle;\" /></a><br>(see <a class=\"ProveItLink\" href=\"../../../__pv_it/theorems/6764c949ae74147eea6f13bb051d5907d95cd4420/dependencies.ipynb\">dependencies</a>)<br>"
      ],
      "text/plain": [
       "<IPython.core.display.HTML object>"
      ]
     },
     "metadata": {},
     "output_type": "display_data"
    }
   ],
   "source": [
    "%proving membership_unfolding"
   ]
  },
  {
   "cell_type": "code",
   "execution_count": null,
   "metadata": {},
   "outputs": [],
   "source": []
  }
 ],
 "metadata": {
  "kernelspec": {
   "display_name": "Python 3",
   "language": "python",
   "name": "python3"
  }
 },
 "nbformat": 4,
 "nbformat_minor": 0
}