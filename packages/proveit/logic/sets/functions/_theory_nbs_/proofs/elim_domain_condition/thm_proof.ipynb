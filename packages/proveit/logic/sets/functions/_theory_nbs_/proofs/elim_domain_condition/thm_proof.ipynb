{
 "cells": [
  {
   "cell_type": "markdown",
   "metadata": {},
   "source": [
    "Proof of <a class=\"ProveItLink\" href=\"../../../../../../_theory_nbs_/theory.ipynb\">proveit</a>.<a class=\"ProveItLink\" href=\"../../../../../_theory_nbs_/theory.ipynb\">logic</a>.<a class=\"ProveItLink\" href=\"../../../../_theory_nbs_/theory.ipynb\">sets</a>.<a class=\"ProveItLink\" href=\"../../theory.ipynb\">functions</a>.<a class=\"ProveItLink\" href=\"../../theorems.ipynb#elim_domain_condition\">elim_domain_condition</a> theorem\n",
    "========"
   ]
  },
  {
   "cell_type": "code",
   "execution_count": 1,
   "metadata": {},
   "outputs": [],
   "source": [
    "import proveit\n",
    "theory = proveit.Theory() # the theorem's theory"
   ]
  },
  {
   "cell_type": "code",
   "execution_count": 2,
   "metadata": {},
   "outputs": [
    {
     "data": {
      "text/html": [
       "With these <a href=\"allowed_presumptions.txt\">allowed</a>/<a href=\"disallowed_presumptions.txt\">disallowed</a> theorem/theory presumptions (e.g., to avoid circular dependencies), we begin our proof of<br><strong id=\"elim_domain_condition\">elim_domain_condition:</strong> <a class=\"ProveItLink\" href=\"../../../__pv_it/theorems/bb4a8b6c5077fa669d65e1b360f9f888585deba00/expr.ipynb\"><img src=\"data:image/png;base64,iVBORw0KGgoAAAANSUhEUgAAAcEAAAAZCAMAAAB+f2UsAAAANlBMVEX///8AAAAAAAAAAAAAAAAA\n",
       "AAAAAAAAAAAAAAAAAAAAAAAAAAAAAAAAAAAAAAAAAAAAAAAAAABHL6OuAAAAEXRSTlMAq1RmmUTN\n",
       "IjK7EInv3XbxwTnOfi0AAAAJcEhZcwAADsQAAA7EAZUrDhsAAAVWSURBVGje7VqJjqQ4DCX3RbKb\n",
       "///ZgZyOIRRFl6alno5GrRqwjZ3nM7Asjxfx3qvld33fChsC9Av88ncLv38x9ovgF5d6J2L0J8JO\n",
       "w4f+IvjlHb2fxZwYkH+6fbsYEQCCpN2i7AGCz9l/xKKu/+bO2fsIyng7UZoYybak0U1MYB1B3uRK\n",
       "9QDB5+w/YVkQSI7old5GkMZ4/zGrya1j1E2MtA1BXaNImSdZ9Dn7T1gc5J2VCnM/BjmJtz1exZw0\n",
       "ReRNDOO9DlY0HX2C4HP2n7DW/lNEDF8wW7Pv5SmCTrk4aWvCAVlWSFlCsohZbUOwdjNvV1Y5NEP/\n",
       "Yl9DYRL14z0hg53GoApLiBOXp/wweJeEK1fVxUjWt3/dXcWv7mEv+pT9JyTRZjQjqyd8aDXtRRbl\n",
       "eyGcdX7+vAxa4jUQ40hHkKcbMIfbdxA8si9QU6DHdeJnDptEIUN42GsMTR057I26b/ORXQKN46jg\n",
       "SV/XERRb+Ok483mKOgodTQiB1IcVMQykQEXqn2rMClK0NnFrk7nRMwQRu+WgvENdyPX+6F5Tiggm\n",
       "Zt7AkpsKx1/COphy1IHMCM/tx+zgSEuhsiavOhmeGKYbEsZwCLnnoSuDYugKitjOMJTZIUXn7Qrr\n",
       "dKIf2Q0T+gmCoKZkERYxiO6zOiEXrTrZdR2IMeLclKpDoyETm5dz+w8hLMB0gPzRl2WOCAbD+daL\n",
       "9jvcjytG6LxmrSrCLKojQJCGwWeEXqFv5/TO4hTBkX1oyV4jKE4QzCK4wM+zKLxO8zaHqCJTig6d\n",
       "hswIu17Q/gsEUSNjzTwGbX5S9DNnFnIwvQZrbkWrGAFjcNt/FmDFkVDVNKZaz+anaoCdkhWOFRjB\n",
       "ELja/oGiEwRGsIooBlYWMK9Ys22n5rEXzkYURjWRKRkCQENmhF0vaP9FFsU10s8RLOXAr7N6Mrqq\n",
       "ri0PyZFZs6iHCDoKmDYwuBzGScY40cscQcjOBudDCG6jDjGLpOB6c1YmRxHl3LCxwDZb7QFhIxyh\n",
       "MhFyfWRKhgDSkBlhp4L2YwRN93sUwptPzRAU7MWxGmqCShnckJRDJ2MggmolIPGMRS+VAUv4BYKQ\n",
       "nfMLBFkyWg/XNVHZ8fQoQhQNK0u7UsEDCDYiMYQgNiVDAGnIjLDpNdiPEXSk+9Qh59NzBFV9jpkc\n",
       "yuB5UK4la5YwKQiWSaaO4yDEtsbLEVDMsu5HDWHtA+yGLZd1MKv93/+mrbi/JtaE2FEEbbtTLdVT\n",
       "BBsRk1kmPTUl6wBpCLLZGaTXaD9GUPtJI5NAN8IeENwKQExI0P3H6Tzhxu65HWvTMZS9GBBEYxds\n",
       "jfNprYj6AkFYNfUlgvvMoIbroZgRyCii4VVYoHMeESxE2l2ZknWANGRG2PWC9h+asfbCj5/0acKZ\n",
       "6anaF1YJZb+cI1hSzN5aW5cNs6mQX2VR6Hnj6eCI4JZAnEyVvNvbBsnWyVQRvuScwgJLC0IQEIFJ\n",
       "CpiyVGsIOnwgR0Kk12D/AaZ8vrylC0nvbv2HEKxDN0aQp4pmedz62fSuhMno9nmWLvcQ1GM1QTHI\n",
       "g3BhPC7kCiNYReTjEsDSzk8siTz9qRc6kWonD9CUJFVVCDpN+j8iHPUa7T8GWtLJGyuXv4tgexN0\n",
       "/Y6e3jpVO3HKN+ZBe5gHqwiBqoS99frKplI22yuCaMit07gLE5JSLHD1lxFs3nyJoLDvImgomjre\n",
       "OJMRHotA28I/8AaZvITkLfb8luH21n/mO5n9GKG/gbpE8NVXE0cEHZ6C3kBwkQGLGD5aYJ/w4M8j\n",
       "+N3ra186vf5eFN42L95NLJpepTL7AWsNDpiXOl2zf/cK3q/sDycFLk5nOUwXAAAAAElFTkSuQmCC\n",
       "\" style=\"display:inline;vertical-align:middle;\" /></a><br>(see <a class=\"ProveItLink\" href=\"../../../__pv_it/theorems/a18301ec1e16edfd168e59fe8ae7029819f091710/dependencies.ipynb\">dependencies</a>)<br>"
      ],
      "text/plain": [
       "<IPython.core.display.HTML object>"
      ]
     },
     "metadata": {},
     "output_type": "display_data"
    }
   ],
   "source": [
    "%proving elim_domain_condition"
   ]
  },
  {
   "cell_type": "code",
   "execution_count": null,
   "metadata": {},
   "outputs": [],
   "source": []
  }
 ],
 "metadata": {
  "kernelspec": {
   "display_name": "Python 3",
   "language": "python",
   "name": "python3"
  }
 },
 "nbformat": 4,
 "nbformat_minor": 0
}