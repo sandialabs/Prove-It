{
 "cells": [
  {
   "cell_type": "markdown",
   "metadata": {},
   "source": [
    "Proof of <a class=\"ProveItLink\" href=\"../../../../../../_theory_nbs_/theory.ipynb\">proveit</a>.<a class=\"ProveItLink\" href=\"../../../../../_theory_nbs_/theory.ipynb\">logic</a>.<a class=\"ProveItLink\" href=\"../../../../_theory_nbs_/theory.ipynb\">sets</a>.<a class=\"ProveItLink\" href=\"../../theory.ipynb\">functions</a>.<a class=\"ProveItLink\" href=\"../../theorems.ipynb#membership_folding\">membership_folding</a> theorem\n",
    "========"
   ]
  },
  {
   "cell_type": "code",
   "execution_count": 1,
   "metadata": {},
   "outputs": [],
   "source": [
    "import proveit\n",
    "theory = proveit.Theory() # the theorem's theory"
   ]
  },
  {
   "cell_type": "code",
   "execution_count": 2,
   "metadata": {},
   "outputs": [
    {
     "data": {
      "text/html": [
       "With these <a href=\"allowed_presumptions.txt\">allowed</a>/<a href=\"disallowed_presumptions.txt\">disallowed</a> theorem/theory presumptions (e.g., to avoid circular dependencies), we begin our proof of<br><strong id=\"membership_folding\">membership_folding:</strong> <a class=\"ProveItLink\" href=\"../../../__pv_it/theorems/88d15975e2cc82e7c421fae111ae50dee4bf66300/expr.ipynb\"><img src=\"data:image/png;base64,iVBORw0KGgoAAAANSUhEUgAAAWwAAAAZBAMAAADnKQlMAAAAMFBMVEX///8AAAAAAAAAAAAAAAAA\n",
       "AAAAAAAAAAAAAAAAAAAAAAAAAAAAAAAAAAAAAAAAAAAv3aB7AAAAD3RSTlMAq1RmmUTNIjK7EInv\n",
       "3XZ/CtNrAAAACXBIWXMAAA7EAAAOxAGVKw4bAAAE3UlEQVRYw82Yb2gcVRDAJ7v3Z28v3SRYSj9U\n",
       "usGC6If2oNdiP7S9kNNaCnpQKIkpGisijR964idRkxU/BQOeqWJOrNmAFKQUzxCk9LCe6QcrxZKq\n",
       "oEIPzz9QoiWm2taYYup7M29v397tbuAQ24HsZHdm3/7eezOzswcQIm3Vb+EOFKP6Vag9BneobL09\n",
       "2HH/RbRWXWYL8rcR+ye/i8kcTWkw+D7m8jhhd3J1TyB2mLllUUr8GCnbftixRZ87dtzq6jpscRcj\n",
       "hdgP8qvPBGKHmVuW43j8aMz0w97ihw1fsAKxhC5DiP0K35dCIHaYuWXpxeNsv+9q9/zllwwrANFr\n",
       "6JJG7Bi7N2kGYoeZW5YKP0SXxdl8tTroYidfXJI8LwutsovqCrq02xxbTQWnHrseZm45tIlyjs4O\n",
       "/OpZ7WHjD8l1k/MGYZET+xxdYimsJF9Wq+dDKkmIuVWJ8IxUN1zM4PYPeYMko/wpua4Rur0A+t2Y\n",
       "kpDsROyHAd5Bk+2LXTejZEJ57vVoo8Faqw/LiwF00Hks78GOmtpNeWNEWr3+3sK6FLmog4j9HMSx\n",
       "yunn0GH0WnmvJWELs57FZ+EopwP4Vf7c93tJyz7a5L6ZCYjUlxBzZcRqeDcgdgTiV+Ux52kxf8+D\n",
       "cpZclApiJ2yRCxRT6hwYFQlbmBPbrDo2q/h6pw/2FD8c7SPNZIAT/1hkt+8EuALRkrPj+LwtdDJW\n",
       "ZVKoY89ne/7GQKqS/HAdvd5lf59SkGiLiK3UaMJ9Fyj4M6AuStjC3EGzLojLSb/3MNb4ZaGBqlAW\n",
       "HdcC7KaK62J/QicfeFZbZ5HzjzzmAdo5vgO7a+gSpdWGwV0Uek/SmCacTMkvdzQrG6ZdbPVwsegX\n",
       "2rw0dJ83uTZ+Gd7DC6dBQ82C/jXAtCdI3vAmHWHzQLokDanRVDWephtzFCRzhD09RAn0EHqM/Jxe\n",
       "7+lJyLwDXGx29GsqsJlQC6gvtxUOgZIRaxlf2dpjudUsgcl4QbRHNRl7P9NH5KJACWuwV5B2Q6Rk\n",
       "gbBfwjjtY9HHZSfoaz3YZM7K2KfA0+4kKfei3BjJoE4lahb/Z7+TL1PMp9/x5yPGr4uzQxJ2nGfV\n",
       "ZL6pbsfY9YNDYkNKhN2G4bevvNEWYTiSk7HJfFTGnlLEEqWznHiAJqFwmkSKdAd7tlaA7cVi0eT5\n",
       "wilHnZ3n0aQ4CTT1lu1g65M3bLjv1rMu9inKt8mrXevGxYasyUmNq+FUpFmAJ6zmxvWcjN32gg2v\n",
       "nkmLxNTvJwKNG9st0mOsMWZB8pqTL9ElN0jgO74t9Vo0cEx+uYcKd3lZ7rfZbnaYegniy6B/09xv\n",
       "68sytvYmC4PRJDxPIeDMiS/ihzbX8crHrGqzsE3gSo7YcJJty4IzGuuGumNmQL+9GnavhB35DPRH\n",
       "n9ZmYfvN8l6zGVuryNjwNiBEf5YHyeaFp9yrY6QfGViwIZGH+ASf15HyzLiwU07m4fvj0Bo2tqMN\n",
       "XzdK0NeNmvFg83o5ocIJnJEJM+7rJS20U5JPFIsOjV6/mf23a0+L2Il8M/ZjAdiJbqsR+67fHgCD\n",
       "78uVXPwYPTCSh/H1pFEayCJuhRj2ZVr9W/JSjlrZBuxUAHbSCcuGD4ZN2ZJ8ehrO1JymBeqtiSPb\n",
       "/rcv96bfSfKh/rpH6w1W+7/7neTsv1ZHPLsHzHAwAAAAAElFTkSuQmCC\n",
       "\" style=\"display:inline;vertical-align:middle;\" /></a><br>(see <a class=\"ProveItLink\" href=\"../../../__pv_it/theorems/99ca33f9796b49360c5d4fcbb895158dc1d3e2360/dependencies.ipynb\">dependencies</a>)<br>"
      ],
      "text/plain": [
       "<IPython.core.display.HTML object>"
      ]
     },
     "metadata": {},
     "output_type": "display_data"
    },
    {
     "name": "stdout",
     "output_type": "stream",
     "text": [
      "membership_folding may now be readily provable (assuming required theorems are usable).  Simply execute \"%qed\".\n"
     ]
    }
   ],
   "source": [
    "%proving membership_folding"
   ]
  },
  {
   "cell_type": "code",
   "execution_count": null,
   "metadata": {},
   "outputs": [],
   "source": []
  }
 ],
 "metadata": {
  "kernelspec": {
   "display_name": "Python 3",
   "language": "python",
   "name": "python3"
  }
 },
 "nbformat": 4,
 "nbformat_minor": 0
}