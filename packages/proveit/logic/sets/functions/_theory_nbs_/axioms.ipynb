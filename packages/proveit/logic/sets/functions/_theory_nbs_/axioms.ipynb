{
 "cells": [
  {
   "cell_type": "markdown",
   "metadata": {},
   "source": [
    "Axioms for the theory of <a class=\"ProveItLink\" href=\"theory.ipynb\">proveit.logic.sets.functions</a>\n",
    "========"
   ]
  },
  {
   "cell_type": "code",
   "execution_count": 1,
   "metadata": {},
   "outputs": [],
   "source": [
    "import proveit\n",
    "# Prepare this notebook for defining the axioms of a theory:\n",
    "%axioms_notebook # Keep this at the top following 'import proveit'.\n",
    "\n",
    "from proveit import f, x, A, B, fx\n",
    "from proveit.logic import Forall, Equals, InSet\n",
    "from proveit.logic.sets import Functions"
   ]
  },
  {
   "cell_type": "code",
   "execution_count": 2,
   "metadata": {},
   "outputs": [
    {
     "name": "stdout",
     "output_type": "stream",
     "text": [
      "Defining axioms for theory 'proveit.logic.sets.functions'\n",
      "Subsequent end-of-cell assignments will define axioms\n",
      "%end_axioms will finalize the definitions\n"
     ]
    }
   ],
   "source": [
    "%begin axioms"
   ]
  },
  {
   "cell_type": "markdown",
   "metadata": {},
   "source": [
    "A function from a domain $A$ to codomain $B$ must map any element in $A$ to an element in $B$."
   ]
  },
  {
   "cell_type": "code",
   "execution_count": 3,
   "metadata": {},
   "outputs": [
    {
     "data": {
      "text/html": [
       "<strong id=\"functions_def\">functions_def:</strong> <a class=\"ProveItLink\" href=\"../__pv_it/axioms/d3cd9a40d7883f6a265be1d241164e322365a6aa0/axiom_expr.ipynb\"><img src=\"data:image/png;base64,iVBORw0KGgoAAAANSUhEUgAAAZkAAAAWBAMAAADgGvxEAAAAMFBMVEX///8AAAAAAAAAAAAAAAAA\n",
       "AAAAAAAAAAAAAAAAAAAAAAAAAAAAAAAAAAAAAAAAAAAv3aB7AAAAD3RSTlMAq1RmmUTNIjK7EInv\n",
       "3XZ/CtNrAAAACXBIWXMAAA7EAAAOxAGVKw4bAAAFqklEQVRYw9VYb2gcVRCfu729P3vJ5YKhNFLJ\n",
       "FbVQrPbUWMkHmwtG21JbA4JoW9ozoYTGotcvQtAk6xdBjCZWQk2wzRVKof6BpKBQQzGNVKtSuYpK\n",
       "ClnY2kKpaGxrm6YpJr6Z997u3u3umfabD+beZOfNe/ObNzM7G4DFjJyg0pEw9P9S/XMSIrevF/Hg\n",
       "c2Wsww1zsLiRSHFyjXgLPy9bRvlzUE0fPf/xmwe/3W/xdr4jTkn8+97yez8gCGDjl15WhS97KCnD\n",
       "V6qXfIho4LwbTQCnYNrnwOAI/obG8haPPnWtbliort6lk4BZgtNT+Li9LBgty4npLJ3wQrPaCw1U\n",
       "9APU6YgmnHehCaFm2C84DtPvaG/K4nF0uNZ9BxCYJQFawqY3MVL6y6IJpTkxA+8f8kLTdMNLrYcF\n",
       "2I4MolEyLjRRjIlOvxOfpN+JF/MWj6PelV3zAOo1EqAl9dxv8VRZNBWCmHHCyYn9xq82mvjrs84k\n",
       "kw5vZJneaCIa+N6dN+joo34njuOPOmfz3A5x+iXD4ImqsHOVeRKgJWxSmNPD5dNmhSCA4/yB+kre\n",
       "eTfdiavOmJcXUcdod47QtLnRPMomv+IR5GFdsHmenjxxnv9dPgiwCA9/SwK0BOWnDeOH8mg2CoKH\n",
       "T9fQg9fyRZGWCf7tXF6wg/rgJFUBGHWjqTCMqRG/0EaBsuxMRvDa9N3vsHuMU8WKdDgzU7tHJwFa\n",
       "gvL1AEXJkHdt3mZ5d54/aC/KGzUVveVcvpJP0ZvT59qAo1mDDzYZOM4IvZAOsZKjtOJLqDIlH4Jz\n",
       "5iaGj67JUTr6DkwvwaVMgJagfA9EELPWzO9RO0XT29fGNsg33E+CICLyI1uEJgSRK0VvJ+6cBCsN\n",
       "q9IczSr33bBD95Q8/VQeWEl53KNL/nFozN/Fgo5SyJEWf+Ug+DWQAC1BeSxPNsUe43vFeQ4oBUjI\n",
       "/DspCIK8EkdZcBpnLTSXmptugu18w1ig+Isx9fgsR9Pn8fYcIgmN92oHcPpKFqMK2mC1xevwNJ1L\n",
       "x/fiEbwIf4RKOglwR5QHTUJbJa79hR95gmVAuVyKhuclaP1OqzQWEP84TVV30lSV5AUHbd7mgeYh\n",
       "64pD67ler1mE5riDJ6NUcu8RexsMCVY1UYA7kjy7Ft2+TJRL8yW+SQo+S5dGWixZnOe0R4jNU05T\n",
       "3+J+6WPqgesczYPuvIGwwuxIXOheJ1uFRDhZFGnv27x6Az5mNtK5ldZBUSw+dS0kiLcI+VEqEg1i\n",
       "S36p0HO+fqnUOiAIKoTzpp1onmPzq0407VZQQ1+Wo2nwuJv4Cob6YqC/VV61GZKXFTOt+0BeGwiM\n",
       "AyttCi1MWF0fZmZ0BkhAVQDlb5BLmkWgwR80PwFajdQalTW2RzSL4ZQjm/F6h3Pu981u5tJv8hzN\n",
       "Rg80kROMScdMXeUxoOpWolIpjlyXfHD20LiaEoUboNUqfWz9tg5exSlKUB6g9P9AvFvG6ihQamzb\n",
       "4V1BIi9ZqtRukVZpwzN5WLnwssNSXk1qsSNMiQr9i1cPTXdflQNl1+DgXuwxR+dkCBUcJacA2mbz\n",
       "vkcwxrhBBwd4KAewrd0LXIA7Vtqd+SkRaKIwsu5yh1UwdU7QZCX6MWdnU34wNJGC7xdBL+Si3OWm\n",
       "9QIAmESHJ22ejy4xb91vFHcRXXzHLvvNxfzyCSVBVUobgcgcaD9bvX2GKJhsve3vFI4mlPbRi4x/\n",
       "ARn+8sZ4u+roL5fLcK4v6UW9m1Tc0ZZHWQz2pkInQHt2Z3QC1twa22C3ovuIKoeyd4im01dv89bp\n",
       "PHTivT+ThEMz8nEsB2cP27yA7tfpowAz2JZT0y7tD5YsP0KkXMjdIZp95fW0Y4MDJT1OP6xdZ/Ml\n",
       "sEoHCtiOtjy2nPlHlX3TllLwJif3l/Qi/i9w0v5GWLxetwd/0W8xEySmWhzyOL5CFPlXGv6n41+L\n",
       "B5EIApTT3wAAAABJRU5ErkJggg==\n",
       "\" style=\"display:inline;vertical-align:middle;\" /></a><br>"
      ],
      "text/plain": [
       "<IPython.core.display.HTML object>"
      ]
     },
     "metadata": {},
     "output_type": "display_data"
    }
   ],
   "source": [
    "functions_def = Forall(\n",
    "    (f, A, B), Equals(InSet(f, Functions(A, B)),\n",
    "                      Forall(x, InSet(fx, B), domain=A)))"
   ]
  },
  {
   "cell_type": "code",
   "execution_count": 4,
   "metadata": {},
   "outputs": [
    {
     "name": "stdout",
     "output_type": "stream",
     "text": [
      "These axioms may now be imported from the theory package: proveit.logic.sets.functions\n"
     ]
    }
   ],
   "source": [
    "%end axioms"
   ]
  }
 ],
 "metadata": {
  "kernelspec": {
   "display_name": "Python 3",
   "language": "python",
   "name": "python3"
  }
 },
 "nbformat": 4,
 "nbformat_minor": 0
}