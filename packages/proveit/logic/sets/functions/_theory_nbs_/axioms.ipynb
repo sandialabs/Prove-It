{
 "cells": [
  {
   "cell_type": "markdown",
   "metadata": {},
   "source": [
    "Axioms for the theory of <a class=\"ProveItLink\" href=\"theory.ipynb\">proveit.logic.sets.functions</a>\n",
    "========"
   ]
  },
  {
   "cell_type": "code",
   "execution_count": null,
   "metadata": {},
   "outputs": [],
   "source": [
    "import proveit\n",
    "# Prepare this notebook for defining the axioms of a theory:\n",
    "%axioms_notebook # Keep this at the top following 'import proveit'.\n",
    "\n",
    "from proveit import f, x, A, B, R, fx, Conditional, ConditionalSet, Function\n",
    "from proveit.logic import And, Equals, FALSE, Forall, InSet, NotInSet\n",
    "from proveit.logic.sets import Functions, Restriction, SubsetEq\n",
    "from proveit.logic.sets.functions import undefined"
   ]
  },
  {
   "cell_type": "code",
   "execution_count": null,
   "metadata": {},
   "outputs": [],
   "source": [
    "%begin axioms"
   ]
  },
  {
   "cell_type": "markdown",
   "metadata": {},
   "source": [
    "Specifying a function $f:A\\rightarrow B$ with domain $A$ and codomain $B$ means two things: (1) for all $x \\in A$ we have $f(x) \\in B$; and (2) if $x \\notin A$, then $f(x)$ is undefined (otherwise we should re-define the domain $A$)."
   ]
  },
  {
   "cell_type": "code",
   "execution_count": null,
   "metadata": {},
   "outputs": [],
   "source": [
    "functions_def = Forall(\n",
    "    (f, A, B), Equals(InSet(f, Functions(A, B)),\n",
    "                      And(Forall(x, InSet(fx, B), domain=A),\n",
    "    Forall(x, Equals(fx, undefined), conditions = [NotInSet(x, A)]))))"
   ]
  },
  {
   "cell_type": "markdown",
   "metadata": {},
   "source": [
    "The restriction of a function $f:A \\rightarrow B$ to some new domain $R \\subseteq A$ creates a new function $f\\vert_{R}:R \\rightarrow B$ whose outputs agree with the original function on the restricted domain:"
   ]
  },
  {
   "cell_type": "code",
   "execution_count": null,
   "metadata": {},
   "outputs": [],
   "source": [
    "restriction_def = (\n",
    "    Forall((A, B, R),\n",
    "    Forall(f,\n",
    "    Forall(x,\n",
    "           Equals(\n",
    "           Function(Restriction(f, R), x),\n",
    "           ConditionalSet(Conditional(fx, InSet(x, R)), Conditional(undefined, NotInSet(x, R)))\n",
    "           )),\n",
    "    domain = Functions(A, B)),\n",
    "    conditions = [SubsetEq(R, A)]\n",
    "    )\n",
    ")"
   ]
  },
  {
   "cell_type": "code",
   "execution_count": null,
   "metadata": {},
   "outputs": [],
   "source": [
    "%end axioms"
   ]
  }
 ],
 "metadata": {
  "kernelspec": {
   "display_name": "Python 3",
   "language": "python",
   "name": "python3"
  }
 },
 "nbformat": 4,
 "nbformat_minor": 0
}
