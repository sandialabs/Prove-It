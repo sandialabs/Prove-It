{
 "cells": [
  {
   "cell_type": "markdown",
   "metadata": {},
   "source": [
    "Theorems (or conjectures) for the theory of <a class=\"ProveItLink\" href=\"theory.ipynb\">proveit.logic.sets.functions.images</a>\n",
    "========"
   ]
  },
  {
   "cell_type": "code",
   "execution_count": 1,
   "metadata": {},
   "outputs": [],
   "source": [
    "import proveit\n",
    "# Prepare this notebook for defining the theorems of a theory:\n",
    "%theorems_notebook # Keep this at the top following 'import proveit'.\n",
    "\n",
    "from proveit import f, A, B, S\n",
    "from proveit.logic import Forall, SubsetEq, Functions, Image"
   ]
  },
  {
   "cell_type": "code",
   "execution_count": 2,
   "metadata": {},
   "outputs": [
    {
     "name": "stdout",
     "output_type": "stream",
     "text": [
      "Defining theorems for theory 'proveit.logic.sets.functions.images'\n",
      "Subsequent end-of-cell assignments will define theorems\n",
      "'%end theorems' will finalize the definitions\n"
     ]
    }
   ],
   "source": [
    "%begin theorems"
   ]
  },
  {
   "cell_type": "code",
   "execution_count": 3,
   "metadata": {},
   "outputs": [
    {
     "data": {
      "text/html": [
       "<strong id=\"function_image_is_within_codomain\"><a class=\"ProveItLink\" href=\"proofs/function_image_is_within_codomain/thm_proof.ipynb\">function_image_is_within_codomain</a> (conjecture without proof):<br></strong> <a class=\"ProveItLink\" href=\"../__pv_it/theorems/7e78928856a3eded28c0cb0e4f3304d8ad0ee4c60/theorem_expr.ipynb\"><img src=\"data:image/png;base64,iVBORw0KGgoAAAANSUhEUgAAAWIAAAAZBAMAAAD54Dn/AAAAMFBMVEX///8AAAAAAAAAAAAAAAAA\n",
       "AAAAAAAAAAAAAAAAAAAAAAAAAAAAAAAAAAAAAAAAAAAv3aB7AAAAD3RSTlMAq1RmmUTNIjK7EInv\n",
       "3XZ/CtNrAAAACXBIWXMAAA7EAAAOxAGVKw4bAAAEyElEQVRYw8WYb2gcVRDA525378/eubmIthUs\n",
       "var0m/XgQiEfjCmtNiWURP0Sq9T6QUoLyvlRtGYLflAoNqaUckWbU6Tgh9qzIBIOa5t+qFIsUQQr\n",
       "uHAYSgWlXrT+a7Xxzcx7u29v7zTHil3I7duZebO/e29m3lwAYl6rvQr8f5fjfRHbx87YHsZ7si7f\n",
       "HOK0/nApLOq+ZZWbSPyt/vBuWLSj66wdTFzA291xiBN4S5Z6mJOs46fZqNFTZqUSJTc3jHEn6mlw\n",
       "qb9/twukKcODKNoVh9jEQEz1kn/H6PP9/cXZKl5/VaToKNgzAHtkkr3peZ7L408BEr+zpgz7MIam\n",
       "4hBncJue72XOJvqce4zX2KlLkTkMsAFggFf+2WAN0jcArKusKUNKTMsVY8UxfvWTvcw5jR/WNfn0\n",
       "nBL1uRSrefoix7VNM8T6GjdYUwZDBEcqXuaVe0zAJBnn5uXjFiV6UqC8ImgokG/XJiRaQnqONeJl\n",
       "n3ne+XjEec/7pt7DFBONjTs/H+bHmhKduE5hmyu016D8FNirXdYI4hGAI/7MTv47CWs6selCVp+c\n",
       "P9zR3WBBDngR+5qajkTG0hKWDQNhMwVNe+DolRUlqSljGKVJa39C2levNrbSV7VOLXyH9yzPevzK\n",
       "kAs5kdmVwFYSi/kUi+9skpsIYRPlVEHcQmkz6WoGLHpv5k+MEIzptE78YwWSZ6VGEGdrOToncz9x\n",
       "lM+DQ5mxHjKtgDjZhANgH5IupK3avSPwAQ4PTgC8dschJtZMlFMFkaf33aevf14e1WPizq+d17Rv\n",
       "iL+PXdaUkYUTb+ICL9AwGC2ZvYWAOI9Ll1X5K20V8XqOOpH85ohaY2ViBU7DxB+1ExsYymKtrdNB\n",
       "BeRrUfw90GQNpfkQiZtP8dwiHKc4+1ke5EzcVxIn/wvKhbRVxCkDY3Lt+SIs+FGhTJxx32k4Kl6H\n",
       "tqh4C0NFRH+SljcVNEgZgQJrxlmDxCfpkHHgIVJPLgys4uD5g49LJnaWDgLcpXo+aauIc+swzQyR\n",
       "0VOK2DchETtVxFnKuQs6MYruFfdR9oPz+rf7LeZvgvpXqUHiF8nTBPxA6vvBvo1fdc+iRgxvjxXg\n",
       "URUU0lYRp88AH1lWSREHJvsqyqkipvKV/kUnRtG2OmtMrpTWrDqlUyIYntgjNUicIPFoYw3VI+F5\n",
       "EjfEFhVdI66B1aJ90239ukm7ki2BsbtanSZiNMlR1zDzlXKqiDO47cmWToyi4Yc33koR0tYwJ2YW\n",
       "+1dMK43fbTqq3MwJUhw8onoFIraK2HzI09zRS1NQ6fMuZOpyjTWT732nfsG6iOtVCGFdDIZ7ux49\n",
       "e/X+WGx4X9GuQ/oa2F+CGGwEWBkQC/8Jsbujrm8bJT5Rk2dRQjfBwspOA2LR0axNhXuZgfY+qVsH\n",
       "pYjNM2CPPZ2Zgw3XG1uLIAYjmxsVjfjl0Q8ptsQJwrZR4v3YwrlErJmYwgs7DYhFlfz6WBjGL5yq\n",
       "kdzmeUG3qWnafoMkIwM/8/79Nwgukz1blSeIuuxg6BOL+jG0JezGnoqyt1+kaSPeHhksn3h6lZ8q\n",
       "XUyDyH0pqvRFl7u+6nKH33mlyCBEnKjKvqIT8anm8oljXMv4ZZr+Z/Uz0f9XZA93tBxs/hf/rzj7\n",
       "N5ayM+mU0JwpAAAAAElFTkSuQmCC\n",
       "\" style=\"display:inline;vertical-align:middle;\" /></a><br>"
      ],
      "text/plain": [
       "<IPython.core.display.HTML object>"
      ]
     },
     "metadata": {},
     "output_type": "display_data"
    }
   ],
   "source": [
    "function_image_is_within_codomain = Forall(\n",
    "    (A, B, S), Forall(\n",
    "        f, SubsetEq(Image(f, S), B),\n",
    "        domain=Functions(A, B)),\n",
    "    condition=SubsetEq(S, A))"
   ]
  },
  {
   "cell_type": "code",
   "execution_count": 4,
   "metadata": {},
   "outputs": [
    {
     "name": "stdout",
     "output_type": "stream",
     "text": [
      "These theorems may now be imported from the theory package: proveit.logic.sets.functions.images\n"
     ]
    }
   ],
   "source": [
    "%end theorems"
   ]
  }
 ],
 "metadata": {
  "kernelspec": {
   "display_name": "Python 3",
   "language": "python",
   "name": "python3"
  }
 },
 "nbformat": 4,
 "nbformat_minor": 0
}