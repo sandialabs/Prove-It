{
 "cells": [
  {
   "cell_type": "markdown",
   "metadata": {},
   "source": [
    "Axioms for the theory of <a class=\"ProveItLink\" href=\"theory.ipynb\">proveit.logic.sets.functions.images</a>\n",
    "========"
   ]
  },
  {
   "cell_type": "code",
   "execution_count": 1,
   "metadata": {},
   "outputs": [],
   "source": [
    "import proveit\n",
    "# Prepare this notebook for defining the axioms of a theory:\n",
    "%axioms_notebook # Keep this at the top following 'import proveit'.\n",
    "\n",
    "from proveit import f, x, fx, A\n",
    "from proveit.logic import Forall, Equals, SetOfAll, Image"
   ]
  },
  {
   "cell_type": "code",
   "execution_count": 2,
   "metadata": {},
   "outputs": [
    {
     "name": "stdout",
     "output_type": "stream",
     "text": [
      "Defining axioms for theory 'proveit.logic.sets.functions.images'\n",
      "Subsequent end-of-cell assignments will define axioms\n",
      "%end_axioms will finalize the definitions\n"
     ]
    }
   ],
   "source": [
    "%begin axioms"
   ]
  },
  {
   "cell_type": "markdown",
   "metadata": {},
   "source": [
    "The image of a set under a function is the set obtained by applying the function to each element of that original set."
   ]
  },
  {
   "cell_type": "code",
   "execution_count": 3,
   "metadata": {},
   "outputs": [
    {
     "data": {
      "text/html": [
       "<strong id=\"set_image_def\">set_image_def:</strong> <a class=\"ProveItLink\" href=\"../__pv_it/axioms/544cbfbfe831ab1c78f2807b470f2eb8b8485ba40/axiom_expr.ipynb\"><img src=\"data:image/png;base64,iVBORw0KGgoAAAANSUhEUgAAAP0AAAAZBAMAAAAIzjVbAAAAMFBMVEX///8AAAAAAAAAAAAAAAAA\n",
       "AAAAAAAAAAAAAAAAAAAAAAAAAAAAAAAAAAAAAAAAAAAv3aB7AAAAD3RSTlMAq1RmmUTNIjK7EInv\n",
       "3XZ/CtNrAAAACXBIWXMAAA7EAAAOxAGVKw4bAAADyUlEQVRIx7VWS0hUURg+3hnnce/MOERYguRE\n",
       "VAuLsYVCEDHSlIVCQ20kAqdEAjfdNkEgzAStejBJgY0Lm4VFQ2HqJspMUwIxDIlcCiPpJszEhYVQ\n",
       "9v/n3Me5954ZN3pg/jmP77/f+V/nHEJKtHqyo829xboU40eJbef3Piy9/twyWqJSNZRFGs/4Taom\n",
       "0HtYSHCyNP8jyyiPIhSh/ZuElBecCqGOHDdgUAa83SsiCAI8jJ0DQveM07/md2zo2wOilvWvw++7\n",
       "UyOa4zRq9VkK7BYxhID8NHauCdNjEKWyd4K8zWL7qxI5yRJjE4Qn59AYJboG0aE6cFTEIG+AZ4om\n",
       "QgUNZuCg5roQbMddx3ZWA7F1xYrwMw0NSjSgkJ+0s90pEdFihhrYppt5Az/Num/G0iCni/AzjYA5\n",
       "PV2U/xzsDvbpES7+5L4JrQl+h1hiFH5F2OaF/EweslhZhH8ZfjPz85+Fi5Uojs3s1oZoVbN2bkTR\n",
       "uUNifk0DoQMLL0YiDCjmR1edJYQvDtnoZan8Z4sXtAskg6nZQPcyTxutInKG00BoLLTPPcuAy0L+\n",
       "TBrj6kVtOc4S5lVaX7xCff2Hx3+lMkZSqHHEUbCTnAZAXapro6yOAVPCFEtBivtzCia6v54RjxnA\n",
       "b7TUVnn8J1oIj+M1WDAZO31lgtMAqI+4aREiUK4UbeA1aEgFmn4VLM/L7xcs9iuzDv4BAOPsZfvX\n",
       "7vRyGhQaoB9DoNJhA1O6FNqcxGNYqh5mVe4JW/j9YYf/oZyDeDQedcS/m9Og0DZVzjFg1HZayVPU\n",
       "M3hHDHdi9zibL7iNc6vKtEBvfeghLNhVU8Oe/5oGQPOJaqJowPc6xreQxTApa8ZR0UU3HGfuT4fG\n",
       "+eKkGWI2rKQutPG3UYwOfk0DoNG7LVArDGjUX5ylWesXlCdQlKXNy849MrTBFyeJWggegFGbnUR6\n",
       "ug4FOCfmjxrQ/hXpFGbdnLa00rSohrRjuUCj22jqTrFpruACCSsCL8w0l+6zYv5GO5QCYSmkVnki\n",
       "ee0yYWdFO38VyYM0tmvc/SeFr1oI+DvHvGB4fkPDhFIgLLlIn49cZHOtNLqy4WviGye+CdISJv3r\n",
       "CXMq2Ju0MvSY3VvC49zU6LEAqbmQNQ1wkUNMmkdqILqusMUyyfa5XcS1qBLnI8ixFeM4i3AaeR4o\n",
       "T1KDvOSe5n5a+kHj6/79MLxU8v2nXX3G20UVrDZGnFAEeodgoUtJuuG0xTmIQkWEf/8pKyDsAZUG\n",
       "t/e5vfThB/E+wd5HIp/v2PL9uyPv/5fZrJ5gbvDFf1Ts+BbBYfHjAAAAAElFTkSuQmCC\n",
       "\" style=\"display:inline;vertical-align:middle;\" /></a><br>"
      ],
      "text/plain": [
       "<IPython.core.display.HTML object>"
      ]
     },
     "metadata": {},
     "output_type": "display_data"
    }
   ],
   "source": [
    "set_image_def = Forall(\n",
    "    (f, A), Equals(Image(f, A), \n",
    "                   SetOfAll(x, fx, domain=A)))"
   ]
  },
  {
   "cell_type": "code",
   "execution_count": 4,
   "metadata": {},
   "outputs": [
    {
     "name": "stdout",
     "output_type": "stream",
     "text": [
      "These axioms may now be imported from the theory package: proveit.logic.sets.functions.images\n"
     ]
    }
   ],
   "source": [
    "%end axioms"
   ]
  }
 ],
 "metadata": {
  "kernelspec": {
   "display_name": "Python 3",
   "language": "python",
   "name": "python3"
  }
 },
 "nbformat": 4,
 "nbformat_minor": 0
}