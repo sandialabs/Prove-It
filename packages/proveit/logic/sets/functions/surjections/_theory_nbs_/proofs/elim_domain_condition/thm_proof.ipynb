{
 "cells": [
  {
   "cell_type": "markdown",
   "metadata": {},
   "source": [
    "Proof of <a class=\"ProveItLink\" href=\"../../../../../../../_theory_nbs_/theory.ipynb\">proveit</a>.<a class=\"ProveItLink\" href=\"../../../../../../_theory_nbs_/theory.ipynb\">logic</a>.<a class=\"ProveItLink\" href=\"../../../../../_theory_nbs_/theory.ipynb\">sets</a>.<a class=\"ProveItLink\" href=\"../../../../_theory_nbs_/theory.ipynb\">functions</a>.<a class=\"ProveItLink\" href=\"../../theory.ipynb\">surjections</a>.<a class=\"ProveItLink\" href=\"../../theorems.ipynb#elim_domain_condition\">elim_domain_condition</a> theorem\n",
    "========"
   ]
  },
  {
   "cell_type": "code",
   "execution_count": 1,
   "metadata": {},
   "outputs": [],
   "source": [
    "import proveit\n",
    "theory = proveit.Theory() # the theorem's theory"
   ]
  },
  {
   "cell_type": "code",
   "execution_count": 2,
   "metadata": {},
   "outputs": [
    {
     "data": {
      "text/html": [
       "With these <a href=\"allowed_presumptions.txt\">allowed</a>/<a href=\"disallowed_presumptions.txt\">disallowed</a> theorem/theory presumptions (e.g., to avoid circular dependencies), we begin our proof of<br><strong id=\"elim_domain_condition\">elim_domain_condition:</strong> <a class=\"ProveItLink\" href=\"../../../__pv_it/theorems/47a4f6d835626bf97bc392256430705d5c8cc4bb0/expr.ipynb\"><img src=\"data:image/png;base64,iVBORw0KGgoAAAANSUhEUgAAAhQAAABACAMAAAB1JB4fAAAASFBMVEX///8AAAAAAAAAAAAAAAAA\n",
       "AAAAAAAAAAAAAAAAAAAAAAAAAAAAAAAAAAAAAAAAAAAAAAAAAAAAAAAAAAAAAAAAAAAAAAAAAACC\n",
       "gUnDAAAAF3RSTlMAq1RmmUTNIjK7EInv3XbxweH5++XX832FJ1cAAAAJcEhZcwAADsQAAA7EAZUr\n",
       "DhsAAAf4SURBVHja7Z3nmusoEkCFyEHM7N6Z5f3fdAkSplAytuUOpn5098dFZQkORQWsOwyPC3VB\n",
       "pqHLbxEWZ3QcnoKCehF9LH+NiDChz0LRh/EXiulQdOlQdOlQdOlQdOlQdOlQdOlQdOlQdOlQdOlQ\n",
       "dPFCWoZ7DGUIfNmtBO0q/KWY6lB8IROopfeILjcJiQYxqQ7FVwlmw7eEYsCoQ/FFIoz6plAMcuxQ\n",
       "fI0wPXxXKBTgtUPxNhmd+rZQQG+nQ/E2mfTwfaHgjncovsCjaDUUb4VikLpD8X5BcvjOUGDToXi/\n",
       "tKehKig4uxIKXhzM9FDcPnrEj0HxhIYP2j04bCBaqyYo2NMrEEvnkBcmxQqKYSIlFITmj+WPQfGE\n",
       "ho8RXE2pRuLMSkMoRvcCs2zSHoacWEFBWAmFWD6bN+96MxRPaPgcl6Iy/maksslSEOSeXnHc2Xne\n",
       "yAoK64BPsdRD9PggFE9o+BgxqBq5iggrJy9sFwrNtWv9go3lK3Ml5t92BcV4Ux+gwLMj0O7ILFA8\n",
       "ruFz/EyYpdDwa3WUWXVoKbj1S7l1yY2kNlfLIjZ8BYW4qY/7mgmQTkY/DMXjGj4z+MDITIiUgYU6\n",
       "2T5IWMrNXvy06VIoNG04muqmPkJBYp9yi1ONUKw1dKl2c7jMZ/t96J8XUNAxLOXmNTfKKgKS1lrE\n",
       "8EZIWt5ShIKj5cfChCm2LyGdD5+IFAdQrDT8KJHGGPsiXdrrQlsR6QgZAaPJzhxNEq9pH18L1qlN\n",
       "rupo8CYUGkARl7imxZOBR8DRCllzAMVKw4+SFwfSAm2NFIXxJbgg7b5e5DYUVhLio4/iXxUL3f/z\n",
       "3z9B/ol//xt+/u/PrSWIKz9XmmV6xRYUBEIxWkArFWDhpN0PuyMoKg0dimNLAf1MJY8thUqz8cA7\n",
       "HygrWVxMzRJ8HEPh5xMXGNiBrSqpasJHUFQaOhTHUEh06BBWUMyzNZnmOwEOrFhcSbSYjyOfIiQY\n",
       "isstSG+FjAfGBInhEAqgoUOxdjTBmqpcGGuPoKBLwO+ee7DZpfBwsE2fAldQ8MI5Ci8hKR2I6FIo\n",
       "RI6h4OanuplvgUKBcIO7yv1i4z4UfJkL2ZrSrPIULCmiJi/fEgpe5SmCRbkZAh9qaFQk3BIOq+eo\n",
       "oBiQ6FDsQzEYsutnxjUnqdqEQknn4iSO4Y+2oFSXU4JyNawoh4LkFa2hKB2KKmRKXagTx1D8YHkH\n",
       "FKx0JjeO+lMtD9PclwhMc6tdKOYNLNgSpRMfKvqZJ9tHh+IYCmKKuWZ3JazfC0URENVQkOgaKOJ8\n",
       "LBNru5g5HVJXm4/RobgbCpwX4iTVfcH7e6EoAqLjmv4Z0HdBUZoYI4/HH+tV4DvyamtrF7BbY4kO\n",
       "oWiIoSy/HwqV/ThsCb8KCvI4FEV4dAgFVQ9CoQi5fUS5mZ48pjArFZjuPXRKtFJNzlABSfutmyih\n",
       "qDvf592DUsAmFIMkrTP8ABTTw1DQIrQ5hOK0KrcHhcTFyzUboBhZrUJVxxAK91tEGJzi61kUFkmZ\n",
       "adJVMQrVfUoodEuBeqoITZH8NhTYXA+FNQ9DoYst7ZqDu+AEyTkUdAOKWQWpA3pVW4EtI0pKTqqk\n",
       "/XwTZZ8CilXn42mTMG5PpYBtKJSjL4fCYquVj1onMVrfmSIXD36m5jYoShCugGJEpjyCVUNh/Z4a\n",
       "ttUihUprKLKKtBaXS8qzXT6A9+NPXPZCcieLqxiboRUUoE8BxarzyawsVciyFLANBViLr4EiGDo1\n",
       "zXmnENGk7XdpboEC2JhLLAUGBZ4KCu+dIRke4daeC0K3r2XPKtKx9nwJSNJxF9df4fWlTlV5qUra\n",
       "p5uAfW5QLJ1TEXKuQqaS42EVEpQCdqAYjHgtFCI+u7Qpa+B/JyhycwsUgINLoCDkAAocb1iAdoHi\n",
       "tAgmKhVUzr5NumRpmO0xgCJ3osBQ1En7dBOwT4Zio/PJAMxVSFAK2IOi8U0Ep1AkL8V/aFweaIEi\n",
       "NzdAYcGtXQKFxMOhT5Ec3b/+llncxMNgIlWpyOOy+MZiF4rcCbOkMz1ZnbSfyQR9MhQbnY/X6uLi\n",
       "gFLAHhQDwxdYCmYBFArn5vuh4IZfDgW0kysoAs8ctNs5qLCoUrEwMF8Cto8VFHMnoYcqs1Gdc0JV\n",
       "nwzFVuf7sl6gFLALhZr4K6GIGyr3ExuhCPuFHw0hcvPdUKgJUnAFFAquNQgFN9HjImUkks/xZUcz\n",
       "q5gix8sloMgMoSg6FUfQiqR9vEQvZIJjavPcVp0b8hSwFLALxc4B3V31p++80jZ67MgRv2mEnUwT\n",
       "nZvP8lz5nVeVZb8GCgF35cpSEEv9TYPByU+QocgqYga0uOSWEY1DEX7MLbdOPB8nLZP2SS2foeDl\n",
       "kdMERd35XJYqZFUK2Idi4N+xlKzq570CCkyGoSlPoVZ5iqyCwmKxuusraEoHf2F3alHd5x21j58k\n",
       "r4dCjtXJioaMJp1WKqAdJK+YvuPaR4fiAih0fbasAYrZZwYqytwcfsl58Seg0B2KR6OPah8tATmp\n",
       "kg5i3N9cmiqY+9H9Oq1zNxS4Q/EiKL6/7EMh7GiF92TIGF41KRAL1fLU2KH4UCjiaRgfRlKWOo26\n",
       "aOxQfCYUManuQxTqpznEsB4KlRs7FB9qKUI0NHkOyAwFGXBu7FB8qE9BLbY0fnefhnSlklgsjR2K\n",
       "T4Wi5yk6FB2Kl0ARZOpQ/BooWJzRp6BQ4b9Lp6JD8WugEHFG+xuJwvJ46ZtsHPrxI/J/Z6pQbhzp\n",
       "JgcAAAAASUVORK5CYII=\n",
       "\" style=\"display:inline;vertical-align:middle;\" /></a><br>(see <a class=\"ProveItLink\" href=\"../../../__pv_it/theorems/086b80dfcf5b9343bc9bc14402c46f7d42e091760/dependencies.ipynb\">dependencies</a>)<br>"
      ],
      "text/plain": [
       "<IPython.core.display.HTML object>"
      ]
     },
     "metadata": {},
     "output_type": "display_data"
    }
   ],
   "source": [
    "%proving elim_domain_condition"
   ]
  },
  {
   "cell_type": "code",
   "execution_count": null,
   "metadata": {},
   "outputs": [],
   "source": []
  }
 ],
 "metadata": {
  "kernelspec": {
   "display_name": "Python 3",
   "language": "python",
   "name": "python3"
  }
 },
 "nbformat": 4,
 "nbformat_minor": 0
}