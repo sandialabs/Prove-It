{
 "cells": [
  {
   "cell_type": "markdown",
   "metadata": {},
   "source": [
    "Theory of <a class=\"ProveItLink\" href=\"../../../../../_theory_nbs_/theory.ipynb\">proveit</a>.<a class=\"ProveItLink\" href=\"../../../../_theory_nbs_/theory.ipynb\">logic</a>.<a class=\"ProveItLink\" href=\"../../../_theory_nbs_/theory.ipynb\">sets</a>.<a class=\"ProveItLink\" href=\"../../_theory_nbs_/theory.ipynb\">functions</a>.surjections\n",
    "========\n",
    "\n",
    "Provide description here."
   ]
  },
  {
   "cell_type": "code",
   "execution_count": 1,
   "metadata": {},
   "outputs": [
    {
     "data": {
      "text/html": [
       "<h3>Local content of this theory</h3>"
      ],
      "text/plain": [
       "<IPython.core.display.HTML object>"
      ]
     },
     "metadata": {},
     "output_type": "display_data"
    },
    {
     "data": {
      "text/html": [
       "<table><tr>\n",
       "<th><a class=\"ProveItLink\" href=\"common.ipynb\">common expressions</a></th>\n",
       "<th><a class=\"ProveItLink\" href=\"axioms.ipynb\">axioms</a></th>\n",
       "<th><a class=\"ProveItLink\" href=\"theorems.ipynb\">theorems</a></th>\n",
       "<th><a class=\"ProveItLink\" href=\"demonstrations.ipynb\">demonstrations</a></th>\n",
       "</tr></table>\n",
       "<h3>Sub-theories</h3>\n"
      ],
      "text/plain": [
       "<IPython.core.display.HTML object>"
      ]
     },
     "metadata": {},
     "output_type": "display_data"
    },
    {
     "data": {
      "text/html": [
       "<h3>All axioms contained within this theory</h3>"
      ],
      "text/plain": [
       "<IPython.core.display.HTML object>"
      ]
     },
     "metadata": {},
     "output_type": "display_data"
    },
    {
     "data": {
      "text/html": [
       "<dt><a class=\"ProveItLink\" href=\"axioms.ipynb#surjective_def\">proveit.logic.sets.functions.surjections.surjective_def</a></dt><dd><a class=\"ProveItLink\" href=\"../__pv_it/axioms/eeddd6b66b031a33f7115b1fedaaa1b29629166e0/expr.ipynb\"><img src=\"data:image/png;base64,iVBORw0KGgoAAAANSUhEUgAAAdgAAAA/CAMAAAB0MSklAAAAP1BMVEX///8AAAAAAAAAAAAAAAAA\n",
       "AAAAAAAAAAAAAAAAAAAAAAAAAAAAAAAAAAAAAAAAAAAAAAAAAAAAAAAAAAAAAADFBd4eAAAAFHRS\n",
       "TlMAq1RmmUTNIjK7EInv3Xbh+fvl8+nnyKUAAAAJcEhZcwAADsQAAA7EAZUrDhsAAAmuSURBVHja\n",
       "7Z3plqsqEEYVkBnuxPs/61UTCQXIYNKGXuvw49gnoUjJFiiGL5mm62lxWzKdVsTWMqD2wtDmAZ5+\n",
       "KpGteLn9JamchkyJY3Sngqa3wC5r4n1GltYqc+4oDc0/XnP6UXHcDErWCvh/vkF5F+wVG1bOgOk0\n",
       "JNgJz2OCnYTKOH03WKkr/SbXclCwk0BjgpUZireDJbX2SNU0KlipB+2MUerY3WC547VgSA4Ltm/0\n",
       "vzMZ8m2wtFY1Rk3jgmW1+OBrTTZx7GawqFYzvLPB3gs2G6YMkaj4LlgjKhlmMY0MFutp1CbLvwmW\n",
       "V2dX3WsNMVhGfxIsc4MGxpMm3wQ7uyp52FUTpWQfWOrerSIsnJvXRAVPwGailEEScV8EK12tWjAs\n",
       "UM285mAEFjn3gadfPB9DnoAldFCwS9TX3QoW1+Y600wj7xbR12LJ/H7gypx93h1JwFo3KNhJ0++B\n",
       "FdXseobFx1StMGuip2AVU65z6Xqy7OT5w0/AIVjUXfx9fTH7GlhXDXkdmE6oaN9ooVYWWyyza5Pq\n",
       "vSNETiIBqlkClg8bPSHYF98JdnHVWWDoHJ61mQkIeGWlKybJ/TXNwbJDrJxNJniSP7hF+O4AMn8L\n",
       "LHFL1TngjoMbt5RVxtgFbU2qew0BiSgyF9bameLMdAf6REyQvr7aqPW3wNLqqhLs6Fg0ntFa8ETS\n",
       "B7dtlAURmn0MVshvQ0Gwo649rRGM/BLY+lGLBbRpBEvn+mgcIg/WCkLWqPj1rqR79r/+/mdN/z7+\n",
       "3C///eNf2ZMLP1c8n3wfhkGwo05ko+jiRrCsHjvBFhvFTlKUW6y0jY9Pehs0fJ6OJn8Exb8FLAKu\n",
       "3QgW1esEghVzOciJwD5LN93LuRwEZfwIj+ajGf+SMZaDhnMjWOtsvVGHMaeO8ltbArvgYyTvvQsY\n",
       "lD2H2LWeaHaMHTUqXgN28x2wpD4FlCF7lgTRFJ2DZdrHEJ1LT9E8lj4KWrRvxyHYcXcB1mfOQbCv\n",
       "PgTha2DbShANizbhHgVKnho5i0VmwUrh3A4CbX/0Ba4qdGv2OwAvgHCBYhkWrAnD4hUsWYoTxQaw\n",
       "bSXQhqYU7hfnzqEsShSXFH9mggiWFOWwYEEFr2D5UTWsd5P7ANtWgm6oE6JfvGhTp3czWGWG5bp2\n",
       "iQscY4/BRKGLYNtKaNlQwwd8I2TbBtkVsOQ6WDGPC3YOx/8NLMaFlZ0msE0ltICVh2/YEvZjYM11\n",
       "sOMGxRmw02NJR6vLYJtKaNoCF73z/wtgrb4Mdhn1mOJj2oEjsGSPC8MFU9kJNi0h0xhbwHafFmsA\n",
       "a7FVcg2cDUd2zb3Mbj9w83i5D6yi028Cy+bjnwOCDqYAXDiiFBG8ADYqQRKCU7AtzGTvdKIOVqwl\n",
       "SvOcgm4RGdfhy11gNRoYrApXAR6ebk1NLWGW8AawOevAXgsUsASBUwleG9juNlEFy3cfhV3Byv36\n",
       "AOtf7gFr9fS7wCILAp+Fg9W8x243diWwsITcxKYR7KT5Z8E+Ovf1Htjm7HyA9S/3gB26webArkxw\n",
       "8KKFSow9jzS4BDYsAc06N+9pPD/Yp6JsbbHUArAS+5c7wNqRR9jcGLtNQIMdDgtPWTJnMSYzn4pg\n",
       "wxKwuBwVb5WNPwp2H1bZCmcHu/W90k2c+5fbwTLNfh1YFhwP3IbHcDDZh1iZ7bQCsGEJhLwDVhr2\n",
       "UbCTstukWM6OrB3wtvWqiPIvt4OVZuiOODeP3V58Ncg1BFZzMEo+kLJcuBru7gQliGyb061bQazn\n",
       "2x5u+w6Kk7saHWw4wE7wuNEjy+J4GWw1/jHN6+dsxLO7chmcK9w+S8A+96s3+FI9GMu9H6p0xSD+\n",
       "ldXP/ZM+n0y0uwO7nn2olMStY9Gum8HUqW15Ak3NYLk+6dWWP5X/k0m7aWpcSqlFC3mwOD85tE1D\n",
       "IYuu9WSNebsreJbBOhzM1EY515WQmvUYg4WCIthFXgAr0JyvZ9xyJNcieG2Zly8w8ro4u99KWWyz\n",
       "g7m3lnyup0uL7ffK2zQYs/YzT9UWlgOrrD3LXJ+ZIAWvzyhdtoNtP8sGdbCPUixudDDn2Ot8LFI5\n",
       "lyzud8vb2AYYc3NXfAXseVjpqo3p2FwPN9mrGlkFD5l3uBTqYJ+lxDOtaAmt7BifWZIrdKlxGgfk\n",
       "ud6maozBKdA7lQCmmvvYEyJgCaWikQVge/SxQAf7LCWKD6ShWQcDx5R4JfdYW4FbWy+XMOl262VT\n",
       "NSZg1nGvKKtW5zq6ThmNbCKRBdtS5/rYRAYLdbAqdzp87QDnJedgzrE1t0pyQZeaVjAjea6WjcZw\n",
       "ELoTLK6FxYjC614vcMs0I5ENwJb0sYkMFupgj1LgSrWZuMg4mHFseu1Hh7mgS03L4JE819vUjKG2\n",
       "5U6wrKbxIApeU41sbrUxAFvUx5r8WPbUwR6lqDkKlcITteeO7e+yOFfskmo5xxPJc71NxTjSj96q\n",
       "aNeVAwvHMxk+m1AXkju3/AJb1sei+NtfgQ72KAXsGm4fF7b0c8d2Fplc0KWg8FPdTyzP9TaV/UwL\n",
       "x6BbwarKavGxfRJso0QaWVoMnir6WCiDjXSwRylIh1Hu7o1MHEwdy91G6hJqOGsQy3O9TcVYwLdv\n",
       "Bcsqsiy9wOsU6zyyElkPNtHHglYRy2AjHexRCk82rIJ5+alj2dtIXeIN9RXLc71N2VhGD/S9X+BF\n",
       "aS9YGKJkJbIHkqo+FspgIx3sUcqi40lrcOLt1LETsLFLS0OLjeW53qZsHH/V0r1gcXnCk+mKo5P3\n",
       "pgC2po+FMthYB+u7YpMsTrx+ouDcsXxXHLsUFH42xibyXG+DihEKjd69F6wsLxcfZwaDs4ORRja3\n",
       "XPlEUtXHRoFXpIP1wZNInqLX8vO5Y7nbSF3CdXVUIs/1NkVjFk8Gbv72U1LsTo6A/hXYJ+c2Mkqt\n",
       "B5KqPjaex0Y6WN/uXzMaj84fqS44lrmN1CVS3wZJ5LnepmisYhI3g5XF8IkbeM2EKBmJ7IakQR8L\n",
       "ZLCpDvYAazyw2X8Ot1PVseQ2ci6Z2o50Rp7rbUrGab3e/Q3j5SPXx8aq32DNaGQTiaz6yP79sxRW\n",
       "nmqXHMvkivvLCxpMb1M0Junqy90/9mBKTfZY6H5cGzWyHwVLyut2bY6drdeTC8fhvE3JODMw3A62\n",
       "rFcTLLg2amQ/Cbaq/W5zTGTvsV9YHtgUjee0/7gdbFmcc0xU92ujRvaTYEXtA9scy38llbhwOMbb\n",
       "lIxxZuPnfrBlIRSz8NqC5CNnnvZVBVuv+jbHcrnsBa7epmTMcsd93wV74UcLpflzDPWjKd7P+8CP\n",
       "Fsrlwo8Wjnke/Pem5CT7/qOFi/wfthFlI4HX+E4AAAAASUVORK5CYII=\n",
       "\" style=\"display:inline;vertical-align:middle;\" /></a></dd>"
      ],
      "text/plain": [
       "<IPython.core.display.HTML object>"
      ]
     },
     "metadata": {},
     "output_type": "display_data"
    }
   ],
   "source": [
    "import proveit\n",
    "%theory # toggles between interactive and static modes"
   ]
  },
  {
   "cell_type": "code",
   "execution_count": null,
   "metadata": {},
   "outputs": [],
   "source": []
  }
 ],
 "metadata": {
  "kernelspec": {
   "display_name": "Python 3",
   "language": "python",
   "name": "python3"
  }
 },
 "nbformat": 4,
 "nbformat_minor": 0
}