{
 "cells": [
  {
   "cell_type": "markdown",
   "metadata": {},
   "source": [
    "Expression of type <a class=\"ProveItLink\" href=\"../../../../../../../../../doc/html/api/proveit.ExprTuple.html\">ExprTuple</a>\n",
    "=======================\n",
    "# from the theory of <a class=\"ProveItLink\" href=\"../../../_theory_nbs_/theory.ipynb\">proveit.logic.sets.functions.surjections</a>"
   ]
  },
  {
   "cell_type": "code",
   "execution_count": 1,
   "metadata": {},
   "outputs": [],
   "source": [
    "import proveit\n",
    "# Automation is not needed when building an expression:\n",
    "proveit.defaults.automation = False # This will speed things up.\n",
    "proveit.defaults.inline_pngs = False # Makes files smaller.\n",
    "%load_expr # Load the stored expression as 'stored_expr'\n",
    "# import Expression classes needed to build the expression\n",
    "from proveit import A, B, ExprTuple, Lambda, f\n",
    "from proveit.logic import And, Equals, Functions, Image, InSet, Surjections"
   ]
  },
  {
   "cell_type": "code",
   "execution_count": 2,
   "metadata": {},
   "outputs": [
    {
     "data": {
      "text/html": [
       "<strong id=\"expr\">expr:</strong> <a class=\"ProveItLink\" href=\"expr.ipynb\"><img src=\"expr.png\" style=\"display:inline;vertical-align:middle;\" /></a><br>"
      ],
      "text/plain": [
       "<IPython.core.display.HTML object>"
      ]
     },
     "metadata": {},
     "output_type": "display_data"
    }
   ],
   "source": [
    "# build up the expression from sub-expressions\n",
    "expr = ExprTuple(Lambda(f, Equals(InSet(f, Surjections(A, B)), And(InSet(f, Functions(A, B)), Equals(Image(f, A), B))).with_wrapping_at(2)))"
   ]
  },
  {
   "cell_type": "code",
   "execution_count": 3,
   "metadata": {},
   "outputs": [
    {
     "name": "stdout",
     "output_type": "stream",
     "text": [
      "Passed sanity check: expr matches stored_expr\n"
     ]
    }
   ],
   "source": [
    "# check that the built expression is the same as the stored expression\n",
    "assert expr == stored_expr\n",
    "assert expr._style_id == stored_expr._style_id\n",
    "print(\"Passed sanity check: expr matches stored_expr\")"
   ]
  },
  {
   "cell_type": "code",
   "execution_count": 4,
   "metadata": {},
   "outputs": [
    {
     "name": "stdout",
     "output_type": "stream",
     "text": [
      "\\left(f \\mapsto \\left(\\begin{array}{c} \\begin{array}{l} \\left(f \\in \\left[A \\xrightarrow[\\text{onto}]{} B\\right]\\right) =  \\\\ \\left(\\left(f \\in \\left[A \\rightarrow B\\right]\\right) \\land \\left(f^{\\rightarrow}(A) = B\\right)\\right) \\end{array} \\end{array}\\right)\\right)\n"
     ]
    }
   ],
   "source": [
    "# Show the LaTeX representation of the expression for convenience if you need it.\n",
    "print(stored_expr.latex())"
   ]
  },
  {
   "cell_type": "code",
   "execution_count": 5,
   "metadata": {},
   "outputs": [
    {
     "data": {
      "text/html": [
       "no style options"
      ],
      "text/plain": [
       "no style options"
      ]
     },
     "metadata": {},
     "output_type": "display_data"
    }
   ],
   "source": [
    "stored_expr.style_options()"
   ]
  },
  {
   "cell_type": "code",
   "execution_count": 6,
   "metadata": {},
   "outputs": [
    {
     "data": {
      "text/html": [
       "<table><tr><th>&nbsp;</th><th>core type</th><th>sub-expressions</th><th>expression</th></tr>\n",
       "<tr><td>0</td><td>ExprTuple</td><td>1</td><td><a class=\"ProveItLink\" href=\"expr.ipynb\"><img src=\"expr.png\" style=\"display:inline;vertical-align:middle;\" /></a></td></tr>\n",
       "<tr><td>1</td><td>Lambda</td><td>parameter:&nbsp;25<br>body:&nbsp;3<br></td><td><a class=\"ProveItLink\" href=\"../7f3abe632ff536d08b30de37d706e59387f052140/expr.ipynb\"><img src=\"../7f3abe632ff536d08b30de37d706e59387f052140/expr.png\" style=\"display:inline;vertical-align:middle;\" /></a></td></tr>\n",
       "<tr><td>2</td><td>ExprTuple</td><td>25</td><td><a class=\"ProveItLink\" href=\"../dcd60a965dafb827c89a2770706e77d319eb7bb50/expr.ipynb\"><img src=\"../dcd60a965dafb827c89a2770706e77d319eb7bb50/expr.png\" style=\"display:inline;vertical-align:middle;\" /></a></td></tr>\n",
       "<tr><td>3</td><td>Operation</td><td>operator:&nbsp;16<br>operands:&nbsp;4<br></td><td><a class=\"ProveItLink\" href=\"../e4200511afe711484864156bad48434db73436800/expr.ipynb\"><img src=\"../e4200511afe711484864156bad48434db73436800/expr.png\" style=\"display:inline;vertical-align:middle;\" /></a></td></tr>\n",
       "<tr><td>4</td><td>ExprTuple</td><td>5, 6</td><td><a class=\"ProveItLink\" href=\"../50a4749604d6af7f09b6c5ae33d021f5f02cad190/expr.ipynb\"><img src=\"../50a4749604d6af7f09b6c5ae33d021f5f02cad190/expr.png\" style=\"display:inline;vertical-align:middle;\" /></a></td></tr>\n",
       "<tr><td>5</td><td>Operation</td><td>operator:&nbsp;14<br>operands:&nbsp;7<br></td><td><a class=\"ProveItLink\" href=\"../b08c5cdce148fbea3a971070a5442dd6f4e9f9070/expr.ipynb\"><img src=\"../b08c5cdce148fbea3a971070a5442dd6f4e9f9070/expr.png\" style=\"display:inline;vertical-align:middle;\" /></a></td></tr>\n",
       "<tr><td>6</td><td>Operation</td><td>operator:&nbsp;8<br>operands:&nbsp;9<br></td><td><a class=\"ProveItLink\" href=\"../1d305e06859ed4b9ecd3ddf2c90d171c585ac90a0/expr.ipynb\"><img src=\"../1d305e06859ed4b9ecd3ddf2c90d171c585ac90a0/expr.png\" style=\"display:inline;vertical-align:middle;\" /></a></td></tr>\n",
       "<tr><td>7</td><td>ExprTuple</td><td>25, 10</td><td><a class=\"ProveItLink\" href=\"../bbbff2c8f8abcc2ed4836402c9cf9c865a25c7b50/expr.ipynb\"><img src=\"../bbbff2c8f8abcc2ed4836402c9cf9c865a25c7b50/expr.png\" style=\"display:inline;vertical-align:middle;\" /></a></td></tr>\n",
       "<tr><td>8</td><td>Literal</td><td></td><td><a class=\"ProveItLink\" href=\"../../../../../../booleans/conjunction/__pv_it/common/42118ff318bd65d98b1393f64ce7c2269feef76e0/expr.ipynb\"><img src=\"../../../../../../booleans/conjunction/__pv_it/common/42118ff318bd65d98b1393f64ce7c2269feef76e0/expr.png\" style=\"display:inline;vertical-align:middle;\" /></a></td></tr>\n",
       "<tr><td>9</td><td>ExprTuple</td><td>11, 12</td><td><a class=\"ProveItLink\" href=\"../f4697cd83945ed5ae35a06fac3cd47f2c29599a70/expr.ipynb\"><img src=\"../f4697cd83945ed5ae35a06fac3cd47f2c29599a70/expr.png\" style=\"display:inline;vertical-align:middle;\" /></a></td></tr>\n",
       "<tr><td>10</td><td>Operation</td><td>operator:&nbsp;13<br>operands:&nbsp;21<br></td><td><a class=\"ProveItLink\" href=\"../6bb4517547abd986db43b5d183aa4acff414a8180/expr.ipynb\"><img src=\"../6bb4517547abd986db43b5d183aa4acff414a8180/expr.png\" style=\"display:inline;vertical-align:middle;\" /></a></td></tr>\n",
       "<tr><td>11</td><td>Operation</td><td>operator:&nbsp;14<br>operands:&nbsp;15<br></td><td><a class=\"ProveItLink\" href=\"../0de5a198d2ebc8c13cbce1714f42ea0caf1f318b0/expr.ipynb\"><img src=\"../0de5a198d2ebc8c13cbce1714f42ea0caf1f318b0/expr.png\" style=\"display:inline;vertical-align:middle;\" /></a></td></tr>\n",
       "<tr><td>12</td><td>Operation</td><td>operator:&nbsp;16<br>operands:&nbsp;17<br></td><td><a class=\"ProveItLink\" href=\"../f711cf9aebf6aa26fc8e77127b639662d820ad230/expr.ipynb\"><img src=\"../f711cf9aebf6aa26fc8e77127b639662d820ad230/expr.png\" style=\"display:inline;vertical-align:middle;\" /></a></td></tr>\n",
       "<tr><td>13</td><td>Literal</td><td></td><td><a class=\"ProveItLink\" href=\"../../common/a1ab0dc195de13bb952d3560db466de4f469c97b0/expr.ipynb\"><img src=\"../../common/a1ab0dc195de13bb952d3560db466de4f469c97b0/expr.png\" style=\"display:inline;vertical-align:middle;\" /></a></td></tr>\n",
       "<tr><td>14</td><td>Literal</td><td></td><td><a class=\"ProveItLink\" href=\"../../../../../membership/__pv_it/common/477487d8796864d23d5810f83761435f25167f690/expr.ipynb\"><img src=\"../../../../../membership/__pv_it/common/477487d8796864d23d5810f83761435f25167f690/expr.png\" style=\"display:inline;vertical-align:middle;\" /></a></td></tr>\n",
       "<tr><td>15</td><td>ExprTuple</td><td>25, 18</td><td><a class=\"ProveItLink\" href=\"../d0aa61b85238c64be019d26509b77a625c5ecbbf0/expr.ipynb\"><img src=\"../d0aa61b85238c64be019d26509b77a625c5ecbbf0/expr.png\" style=\"display:inline;vertical-align:middle;\" /></a></td></tr>\n",
       "<tr><td>16</td><td>Literal</td><td></td><td><a class=\"ProveItLink\" href=\"../../../../../../equality/__pv_it/common/fb96dc12b2aa8801dda64d0132b396c63d1502bb0/expr.ipynb\"><img src=\"../../../../../../equality/__pv_it/common/fb96dc12b2aa8801dda64d0132b396c63d1502bb0/expr.png\" style=\"display:inline;vertical-align:middle;\" /></a></td></tr>\n",
       "<tr><td>17</td><td>ExprTuple</td><td>19, 24</td><td><a class=\"ProveItLink\" href=\"../60ad71e08eb5cdbfd376d09d63909c69566042310/expr.ipynb\"><img src=\"../60ad71e08eb5cdbfd376d09d63909c69566042310/expr.png\" style=\"display:inline;vertical-align:middle;\" /></a></td></tr>\n",
       "<tr><td>18</td><td>Operation</td><td>operator:&nbsp;20<br>operands:&nbsp;21<br></td><td><a class=\"ProveItLink\" href=\"../56e73cef164fa342ebc4ffaaf9b6cd920c1787140/expr.ipynb\"><img src=\"../56e73cef164fa342ebc4ffaaf9b6cd920c1787140/expr.png\" style=\"display:inline;vertical-align:middle;\" /></a></td></tr>\n",
       "<tr><td>19</td><td>Operation</td><td>operator:&nbsp;22<br>operands:&nbsp;23<br></td><td><a class=\"ProveItLink\" href=\"../c2d249343af82d52bc0f34a2743e3438b4d717390/expr.ipynb\"><img src=\"../c2d249343af82d52bc0f34a2743e3438b4d717390/expr.png\" style=\"display:inline;vertical-align:middle;\" /></a></td></tr>\n",
       "<tr><td>20</td><td>Literal</td><td></td><td><a class=\"ProveItLink\" href=\"../../../../__pv_it/common/02ebbf96e6abbec25aabdbf00e53179656546f630/expr.ipynb\"><img src=\"../../../../__pv_it/common/02ebbf96e6abbec25aabdbf00e53179656546f630/expr.png\" style=\"display:inline;vertical-align:middle;\" /></a></td></tr>\n",
       "<tr><td>21</td><td>ExprTuple</td><td>26, 24</td><td><a class=\"ProveItLink\" href=\"../e791ee87807ed43d7ac6262f8f70c4ffc8f24c940/expr.ipynb\"><img src=\"../e791ee87807ed43d7ac6262f8f70c4ffc8f24c940/expr.png\" style=\"display:inline;vertical-align:middle;\" /></a></td></tr>\n",
       "<tr><td>22</td><td>Literal</td><td></td><td><a class=\"ProveItLink\" href=\"../../../../images/__pv_it/common/dd0191592de31e376dabd0ebbe405d35adcb2c8d0/expr.ipynb\"><img src=\"../../../../images/__pv_it/common/dd0191592de31e376dabd0ebbe405d35adcb2c8d0/expr.png\" style=\"display:inline;vertical-align:middle;\" /></a></td></tr>\n",
       "<tr><td>23</td><td>ExprTuple</td><td>25, 26</td><td><a class=\"ProveItLink\" href=\"../7267bdc18720c36e9f152f52ec58c702f01bd5280/expr.ipynb\"><img src=\"../7267bdc18720c36e9f152f52ec58c702f01bd5280/expr.png\" style=\"display:inline;vertical-align:middle;\" /></a></td></tr>\n",
       "<tr><td>24</td><td>Variable</td><td></td><td><a class=\"ProveItLink\" href=\"../../../../../../../__pv_it/common/a9162d1c3cc0470c02e5daf414500903a7a419230/expr.ipynb\"><img src=\"../../../../../../../__pv_it/common/a9162d1c3cc0470c02e5daf414500903a7a419230/expr.png\" style=\"display:inline;vertical-align:middle;\" /></a></td></tr>\n",
       "<tr><td>25</td><td>Variable</td><td></td><td><a class=\"ProveItLink\" href=\"../../../../../../../__pv_it/common/01b6dbb444a31fc38af4c2379badef6c75b363710/expr.ipynb\"><img src=\"../../../../../../../__pv_it/common/01b6dbb444a31fc38af4c2379badef6c75b363710/expr.png\" style=\"display:inline;vertical-align:middle;\" /></a></td></tr>\n",
       "<tr><td>26</td><td>Variable</td><td></td><td><a class=\"ProveItLink\" href=\"../../../../../../../__pv_it/common/09585084922504426caf1db2ff588a23a0932a960/expr.ipynb\"><img src=\"../../../../../../../__pv_it/common/09585084922504426caf1db2ff588a23a0932a960/expr.png\" style=\"display:inline;vertical-align:middle;\" /></a></td></tr>\n",
       "</table>\n"
      ],
      "text/plain": [
       "0. (f -> ((f in Surjections(A, B)) =  \\\\ ((f in [A -> B]) and (f^*(A) = B))))\n",
       "   core type: ExprTuple\n",
       "   sub-expressions: 1\n",
       "1. f -> ((f in Surjections(A, B)) =  \\\\ ((f in [A -> B]) and (f^*(A) = B)))\n",
       "   core type: Lambda\n",
       "   parameter: 25\n",
       "   body: 3\n",
       "2. (f)\n",
       "   core type: ExprTuple\n",
       "   sub-expressions: 25\n",
       "3. (f in Surjections(A, B)) =  \\\\ ((f in [A -> B]) and (f^*(A) = B))\n",
       "   core type: Operation\n",
       "   operator: 16\n",
       "   operands: 4\n",
       "4. (f in Surjections(A, B), (f in [A -> B]) and (f^*(A) = B))\n",
       "   core type: ExprTuple\n",
       "   sub-expressions: 5, 6\n",
       "5. f in Surjections(A, B)\n",
       "   core type: Operation\n",
       "   operator: 14\n",
       "   operands: 7\n",
       "6. (f in [A -> B]) and (f^*(A) = B)\n",
       "   core type: Operation\n",
       "   operator: 8\n",
       "   operands: 9\n",
       "7. (f, Surjections(A, B))\n",
       "   core type: ExprTuple\n",
       "   sub-expressions: 25, 10\n",
       "8. and\n",
       "   core type: Literal\n",
       "   sub-expressions: \n",
       "9. (f in [A -> B], f^*(A) = B)\n",
       "   core type: ExprTuple\n",
       "   sub-expressions: 11, 12\n",
       "10. Surjections(A, B)\n",
       "    core type: Operation\n",
       "    operator: 13\n",
       "    operands: 21\n",
       "11. f in [A -> B]\n",
       "    core type: Operation\n",
       "    operator: 14\n",
       "    operands: 15\n",
       "12. f^*(A) = B\n",
       "    core type: Operation\n",
       "    operator: 16\n",
       "    operands: 17\n",
       "13. Surjections\n",
       "    core type: Literal\n",
       "    sub-expressions: \n",
       "14. in\n",
       "    core type: Literal\n",
       "    sub-expressions: \n",
       "15. (f, [A -> B])\n",
       "    core type: ExprTuple\n",
       "    sub-expressions: 25, 18\n",
       "16. =\n",
       "    core type: Literal\n",
       "    sub-expressions: \n",
       "17. (f^*(A), B)\n",
       "    core type: ExprTuple\n",
       "    sub-expressions: 19, 24\n",
       "18. [A -> B]\n",
       "    core type: Operation\n",
       "    operator: 20\n",
       "    operands: 21\n",
       "19. f^*(A)\n",
       "    core type: Operation\n",
       "    operator: 22\n",
       "    operands: 23\n",
       "20. Functions\n",
       "    core type: Literal\n",
       "    sub-expressions: \n",
       "21. (A, B)\n",
       "    core type: ExprTuple\n",
       "    sub-expressions: 26, 24\n",
       "22. IMAGE\n",
       "    core type: Literal\n",
       "    sub-expressions: \n",
       "23. (f, A)\n",
       "    core type: ExprTuple\n",
       "    sub-expressions: 25, 26\n",
       "24. B\n",
       "    core type: Variable\n",
       "    sub-expressions: \n",
       "25. f\n",
       "    core type: Variable\n",
       "    sub-expressions: \n",
       "26. A\n",
       "    core type: Variable\n",
       "    sub-expressions: "
      ]
     },
     "metadata": {},
     "output_type": "display_data"
    }
   ],
   "source": [
    "# display the expression information\n",
    "stored_expr.expr_info()"
   ]
  },
  {
   "cell_type": "code",
   "execution_count": null,
   "metadata": {},
   "outputs": [],
   "source": []
  }
 ],
 "metadata": {
  "kernelspec": {
   "display_name": "Python 3",
   "language": "python",
   "name": "python3"
  }
 },
 "nbformat": 4,
 "nbformat_minor": 0
}