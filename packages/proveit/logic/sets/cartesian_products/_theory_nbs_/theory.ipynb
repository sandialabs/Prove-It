{
 "cells": [
  {
   "cell_type": "markdown",
   "metadata": {},
   "source": [
    "Theory of <a class=\"ProveItLink\" href=\"../../../../_theory_nbs_/theory.ipynb\">proveit</a>.<a class=\"ProveItLink\" href=\"../../../_theory_nbs_/theory.ipynb\">logic</a>.<a class=\"ProveItLink\" href=\"../../_theory_nbs_/theory.ipynb\">sets</a>.cartesian_products\n",
    "========\n",
    "\n",
    "Provide description here."
   ]
  },
  {
   "cell_type": "code",
   "execution_count": 1,
   "metadata": {},
   "outputs": [
    {
     "data": {
      "text/html": [
       "<h3>Local content of this theory</h3>"
      ],
      "text/plain": [
       "<IPython.core.display.HTML object>"
      ]
     },
     "metadata": {},
     "output_type": "display_data"
    },
    {
     "data": {
      "text/html": [
       "<table><tr>\n",
       "<th><a class=\"ProveItLink\" href=\"common.ipynb\">common expressions</a></th>\n",
       "<th><a class=\"ProveItLink\" href=\"axioms.ipynb\">axioms</a></th>\n",
       "<th><a class=\"ProveItLink\" href=\"theorems.ipynb\">theorems</a></th>\n",
       "<th><a class=\"ProveItLink\" href=\"demonstrations.ipynb\">demonstrations</a></th>\n",
       "</tr></table>\n",
       "<h3>Sub-theories</h3>\n"
      ],
      "text/plain": [
       "<IPython.core.display.HTML object>"
      ]
     },
     "metadata": {},
     "output_type": "display_data"
    },
    {
     "data": {
      "text/html": [
       "<h3>All axioms contained within this theory</h3>"
      ],
      "text/plain": [
       "<IPython.core.display.HTML object>"
      ]
     },
     "metadata": {},
     "output_type": "display_data"
    },
    {
     "data": {
      "text/html": [
       "<dt><a class=\"ProveItLink\" href=\"axioms.ipynb#cart_prod_def\">proveit.logic.sets.cartesian_products.cart_prod_def</a></dt><dd><a class=\"ProveItLink\" href=\"../__pv_it/axioms/66321768f896b82968f6f3bbc5ba0b5e96a7f9e00/expr.ipynb\"><img src=\"data:image/png;base64,iVBORw0KGgoAAAANSUhEUgAAA9cAAAAzBAMAAABvZOYTAAAAMFBMVEX///8AAAAAAAAAAAAAAAAA\n",
       "AAAAAAAAAAAAAAAAAAAAAAAAAAAAAAAAAAAAAAAAAAAv3aB7AAAAD3RSTlMAq1RmmUTNIjK7EInv\n",
       "3XZ/CtNrAAAACXBIWXMAAA7EAAAOxAGVKw4bAAAMUElEQVR42u1cf4xURx3/3u67e3vvdvfWGI22\n",
       "BjaxrbF4ZW0RhT/KtoA2RdoVTW0s0a3GkNBElsTU0HKwbUys6cFtoqSckfKaNiRAyy0Yq0JsFxtC\n",
       "sWndYjW19syjbURKhRPkhzRlnXkz8+bHm7l714NjX3Lf5O29me98v/feft5838x35rMAEcTZscOF\n",
       "aYm1RMYw02oVr9A1bp6GaZKynWDc3WrVooFdulJX2lGYRmuSknqDniTbHeyr5aKtb2VfxiuwL7P/\n",
       "yy99MQE7WZbLb+mbkWq7bMKrPGGEuUWnR474Sk8uHmCvrUjFRF3bilZ3jRq8GBVGES3epkd85c/x\n",
       "APsfcnGbvhWtnm3CdPaEwRYtulxyxFc+58YB7GRDLi/UN6PVt5wzuDEqjCJaJIvkiK90FeMAdloJ\n",
       "2zL2x0ZGykJ1z4PnDe8sk8L8lpMs/kiP2ErnuTiAfVKOnglpoHXXu3L1uuwpPmND73qb3ZtRIc3x\n",
       "TBYA36NHfOXeOID9qly0UEd3Tlz16B5/wLxSrEZSTJzmo+nXAfqrtGBUSONvkwXAbnrEV2a77Q92\n",
       "Sgm/XQWELBzxlvqFiliNYlU+9T5v2l/F6MGYClmMFjCXHmCN+JKLHdjDXvuD3aGMzzJ5gC/CAvej\n",
       "PsRSNX4K7P+gjj+XddSgmxLFzt1XqQq1aysWfDBLj/hKd7P9wU4rfSiNLqMKXyaFAdzJaqwaDdcW\n",
       "3fI/gI3/Zh016L9EUYSlqkLt2opFIIP0iK8kz7U/2IOFMNgAr5DCdrnaQZHqA+C5wQA6qjgD66sR\n",
       "wWaumCynR3zFOd3+YJ+shMM4nkfs8AtytYWONznYPChTxXwKdoQwTi3mfOlE7u3N1GVfrN/ZsL/9\n",
       "wf6l+urxwNmEXuT+6DvrCdUAX0fHKg42H24xBfw+6gCNWDhfeAF9R0fQ+Tx6xFi2tD/Yh9RcRw4S\n",
       "559qdPoDMviuUA02HsttrTCw+UQqUJCVPq4YRrNz5yzQj7CFvasM52EJOmdHjOV5CrYflD49Ltgd\n",
       "fvpiSleXnf+qU7EmOHd419xISk9scnn11rMufLZ1HwO7o0pXrrhijSspIFNEH68B+whbdHipBhxG\n",
       "NX+hR4xlQYmAvRgXVowLtlWS5rZTMs2+qNbIAfieLTRdKlb3GZzZRXuCF5+uZmv2aBVsNG+xm/EG\n",
       "e9AjYD8EhgSiDHYKR4A1U3qFiVNqzRx9wzkRwF7zyI/dif379ahvJ2tFsHAqJ+YbZoaLBGy8eteT\n",
       "H/+djbOTe6Z2dhhav+jWd06h+sFVz+md/anVmuC//xoKZPYM13/C18Qba+jNEbCTBTEbZQb7JvS3\n",
       "PKVXmA2tTDr6COTULudlPEaPWINdo6Pxl0dGXooAdnpk5M36lF5hz4VQ1Tp9y3WX85GrkCPWki5T\n",
       "sG8D+IX+y5bAtqrQLb71HDAVuLiTukLrAkzLpZFMk4K9Gmx9TsiSwEaNVovap6umAn8EXpzUFXaM\n",
       "TqN0qcBuULC73R4lZ9K/pJTcr4KNuv+vpXl63lTgoeHUNNhtBnbCE8dnqSNDpURuL9weAvsGaXzW\n",
       "OeAZClzufmU6jLdZGIfyzUL1IhSQEzdbUO9ZtHTRYhHsriRCNPvOuq+QcUuXEPulAhfvXjGm/+p4\n",
       "JXyq1bPAEN4nONaO/Unu5Ne7juS0cqnMJt/Sb1oxD9BgD5pCJxduPJKdV4Uszh4kHv6mVw/17J7r\n",
       "0HjraEeN5KQ9S+jnUoE/Amzp2ZdnKoOV8KlWz+zD+wTfAiNRwFgfUfRkgDGdMirBtyd2LfeDycw0\n",
       "IRgnDRJ4pE7DjtM5BvZadPbk8kI6l82RVeJEde+1YbBtvE5W6Pb8sVhnNdsAm47i/cKyd9TVkrvh\n",
       "PTFkwABLUOPTzhsWy619/ThJFcwGMBAFjPWRRUcGGNspoxJkCxMyWwUGM5PMGq/BKuHBKOgc9xYZ\n",
       "2HgN4IF/Qm/VqvvLewhsK1sLgQ2f8M1I97P27b4AD1PKmF9oOOp4asm+mcLc6wAcgVSfy07TMCy3\n",
       "PuAvJ0pf2Rn1mreBkShgrI8sIhlgTySnAZWA7X2MZJYIUnmqmTq+pR3aGS+XlRCTgysFx4EM10Fc\n",
       "4pyBOlYmD3OHhobyiapTL6vzbCoD5I3ggY36HQXbL1RSDTWKw/pq8tabFs/CscA5Bz/bARmXndpK\n",
       "R/Yrg9ZkrHhaveaFYCQKGOsji0AGcP4ayWlAJaDJ+Whm1syKwUx9sVGQx03Mc4/UaWgNgS2EUHkR\n",
       "jsH6FDxKejYs89QMGnlLNZ6FolOHTvT/T/lg80J3CXbiIv3AQaI3nzgGB1BQQzUHU2fmY7DZKWwS\n",
       "GtNK2pqJusTpswEahjtuTHrIyskA2c+XTE4DZoJIJUi7EzD7zfNVg5n6XvkYbaZ9j28ZCZ4R7pE6\n",
       "TavZrNl5EWx7FPXteRZJkiVLkM1pwYY77jnhpv4AX83BU2dLGGxeuA11+3zqIAxU8Efe2g/Ond+H\n",
       "zU7ZyuNW37jxeAGDzU6tKj4ljSuskrRmoj7xmA2QMMS0RHnSYHMyQCZVMzgNmAkgUgnIZuZoZrZ3\n",
       "Mq83U6X5U/L3Ot1w8geuziN12qXGAn+DVwB2Zw5WwOp3wcabrjasADCATW6GnbwhFHpcFAz4P2Vn\n",
       "zUQ9kwxa4TBOT/dmBUfsjLam8ik1XNUVooCig9XPiVly++qj3tjwyu05GWAWXeAPObXFtyGnElBS\n",
       "bCQzC2YX9GahUR7dPrBEcy/3u1qP1GmPOhOeCaDblrRzaCgcVBSwv0X/bnwpzwurWk3oDC6BnTm5\n",
       "bKnjKGuVem8PO+1qfcBt2RlrTWWBEo3YQxsQBZb6GwBfZbrOg7BVMFle6R47LaO0D8gA6Mu/BrRO\n",
       "xd0bApUgWY5utgwG63ozdcBYSRSDiKPei/h4CB6p06QaWg7pwdYnYGSwC6ZCUnMWaqU91Y5BBpX5\n",
       "Jd5GKhEFFN3TBbw5/El6p84LYDUDcoBOSPtAAjJAKkdGkmGnYq5RYCUkGnozZ99HXNWsCOtzVKGY\n",
       "KfIQGwAfZvciSFn1yANCgzkWYtzFDw/2VImOJCARBRTdnQB/h9QJ+q1Yo5Cpc3KARvz2wrNFDzwX\n",
       "JXtXQ045M0FiJaRG9WYWhUgwy/580cwaVShmiqCZ7gk6KaX3IiS1X0YO/waCR64aZY6FThgDkoDV\n",
       "0IMdEAUU3SFw0NQ8QcFO12C4xMkBGiHtedinB54mO02t0+3CXNHjrITOht6st2SfV8x2oTlKkyoU\n",
       "MyV9jDrvMwxsci+CsqZ65G+XBnPMpSMG9J/OM/owHhAFhHc2qncuQnKUgz3swQJODtAIac8SxQIZ\n",
       "AA/+btU6zYhRnLMSiDZslnQJ2Bkx5uIlKKJQzMIpFTIzOczuJaAtoJFsyCO7Dew0oTw8vV77g002\n",
       "+XLBbACJKCDrnFPQUf6Mf6d4M8VwHj6eqPjkAM3eCvSWJO1ZolggAzRZull2CiIzQWIlkK9RYwY9\n",
       "TdkM5yT8LCtWKGbKdx4k3x+n9/JAQFtgAV7wGNwGdqrCSka6bQ62MhynswqBKCDrHoe+YtHHBTMA\n",
       "ur3EaxYhBwSEAJkZ4LdniWJOBsCre9BdDTnFEjATJFaCb64zgw2ubLYWt8FvUKyQzYILJB/+UuRm\n",
       "OiX074XTFhC8ecVjcBvsEIXw3OP1MxuppkoUkHVPHP/JjKqPSwbn9mb8dvW/yNoLLvphgjMDRlzW\n",
       "niaKORmgAwOU8kJOsTBmgsxK8L8fnRlbKmJm21srIbH1bJ0oFLPgAv0PfxKxEX9sYPcS0BZQxSfp\n",
       "tDXwyG4DO1XwisfPbCSVefLroBIFZB2Ze2Bcrg96oE8OuD6csnCVRLGWDCA7xRIwE5hgsPtN1/JD\n",
       "+JHezFf0R/sWMkF6ldIWfAB/NyInGNlt9IevpzsXB7DhPrmoTfLLqwoUlyAkEHJAeMkxWOVhiWIt\n",
       "GWBOCOyQ9GkWPpiZvfmR27VGRBFx7Sb4qSZGW9B6ZLehWSz6jhsLsAfk/QyYDWAgCgT19rPve/68\n",
       "iIhPDnDC89hdoCSKtWQAyalWMCshRKhhZulWS7+PzlfYUbe7s13rjLagnbmwfHctTPA5DLEAOytf\n",
       "H55emhgBUn1WcRNu7mm/0sfGcmqU0PP3Ic1Msn0C35imP8Tl5yzVH6pdB2ZGwCSZAnoyQCSnR+ES\n",
       "mRnE9qLfxtGw47tgYmDPv1I/Lt+Vh2mZnKTIkpuzY1dEsKd/XD6+so30U/zj8v8Hwh9j6Q33RbMA\n",
       "AAAASUVORK5CYII=\n",
       "\" style=\"display:inline;vertical-align:middle;\" /></a></dd>"
      ],
      "text/plain": [
       "<IPython.core.display.HTML object>"
      ]
     },
     "metadata": {},
     "output_type": "display_data"
    },
    {
     "data": {
      "text/html": [
       "<dt><a class=\"ProveItLink\" href=\"axioms.ipynb#cart_exp_def\">proveit.logic.sets.cartesian_products.cart_exp_def</a></dt><dd><a class=\"ProveItLink\" href=\"../__pv_it/axioms/c0ce8eb8933c92961f912dc440e89961bc796e3d0/expr.ipynb\"><img src=\"data:image/png;base64,iVBORw0KGgoAAAANSUhEUgAAAbwAAAAVCAMAAAAKCqt/AAAAM1BMVEX///8AAAAAAAAAAAAAAAAA\n",
       "AAAAAAAAAAAAAAAAAAAAAAAAAAAAAAAAAAAAAAAAAAAAAADxgEwMAAAAEHRSTlMAq1RmmUTNIjK7\n",
       "EInv3XZehM4hfQAAAAlwSFlzAAAOxAAADsQBlSsOGwAABH9JREFUaN69WomSrCAM5JRLefz/1z6u\n",
       "KCIKjrpU7WYO7IQ0hBAGobeaXRY52FXUH1BGpbUYWarkbwifNPHHzw2BitvuHmiGD9NMqg805TNF\n",
       "aMb+O/wTwiftZy3cfmANgK7g3uGbswh9TN4QGDHbS8aMQfSftpN/5/xUYmZA1YaQAXrzZrDbqZ2D\n",
       "a8MYpqIOS1/jbDMdQEF6h7N1RJN4TN4ImJ7WlypMIq2cZ92/krN/twzM9g1hA7hsg91O7Rx8gAVf\n",
       "uziASb/EXWk6gGbpHS5htQj1PGyOgLF1VjKWNjzvpdkvOuufEQ71I/mKUABc9h/rdmrnaJQNvGk3\n",
       "pU38He52pgNolsHhwKchz8kbAZvXV05CEBdhZoXVRxXqD3s+Aly2wW6ndo5uSnPwQCIPze8svb3p\n",
       "AJpkcDjNM2xCL5DXByPrV9ylzlIijnOkFdh2R70iFAC5YdFY+Mdu7X5ndt7borKyqVi3A9rGTAfQ\n",
       "JKPD5yW02bxBXh9sy0i0c+aXbHdFOAKIlD6LXRbd0NPs19TCLdbCWL/1SGNUN+PhC2QT+Ja2MdMB\n",
       "NMnocBa/VnfWuTklrwtWTEnqfMPnaRJbioYbCEeAOPbaSw09zX4tOw1SIZxrF/I90gml0mKcIXcb\n",
       "bF/bmOkAmmR0uMDwb3zyn5K3B+PGWmp39pTppLbKudt7S4FwBPCjP3qpoafZ76iFc7SEOCacja4c\n",
       "CJvJOjLf0jZmOoAmmRwe1knniC0WFvfHGXfI24GRMGK5H/FcKWKO3ySvQqgAxEnlodYjOhWKpEX7\n",
       "NccjJyGWsGk9RhQxYQ8zx571qMVIPaRrOoAmmbwcfDydRwIVQj3ByHirmO6RV4KliYLbrqcQ1smP\n",
       "5LUBDh440TNGXqANrbRd5wUpq1BJD59fIK82HUB5sfK8s6k9O2dIqJjYQJm33jDGFv/HT8pjBVjK\n",
       "lUQz6OnMqXD65p6XEdoAh9hzomcwbPqpF2lbTMz9BLrIDFzUkMkjy/OweTAdQJPMDjckn8/qAvFW\n",
       "5iGScGEhU7lYeRtYOLY6RVslg8IQdjvLzQhNgOOu39bTTyHAzrjaUuz0PIqLk3vaUnLYpOp5wnIw\n",
       "HUCTzA4XeSurC8R6s4BIHzYJHyAPwCIgYa7KhCDdZXEy71Lq0VQXnwI08u2mnka/VBrJBZLtARGP\n",
       "ySlTUQZdzbR4xoVzXjlXBrSNmQ6gSYLDc4IrqgIxpyV5njKr+uQBGEohhlcZmoTp5E/mDOMfyjoZ\n",
       "oQUAqsVUJMYNPY1+aGHb/00Lj8LGTzmzl+Vf7jcTOAou/Ja2MdOXHfghx9wXiOmkYiOJPG0gFTFX\n",
       "5K1jIc2ywvNrqDcvsj7SIpYPLALQLA8O3xeIpdmtPE+H7VVYynwDl2WfLbo8rtm+VfX9UAujH1gE\n",
       "oFnWDq8LxFulJN2FXV2VHsmT4SrqGGjU44tm9ScX6Q+0PL2huQQFWTu8LhAL+FWCXNIF3R3yzpp+\n",
       "PDKt/oK8B1o+mV0ACrLrcG3CnjdEixn+UYV4/CsBYf+CvZ+12C+4A9As7TLz/3z5LXuEFF27AAAA\n",
       "AElFTkSuQmCC\n",
       "\" style=\"display:inline;vertical-align:middle;\" /></a></dd>"
      ],
      "text/plain": [
       "<IPython.core.display.HTML object>"
      ]
     },
     "metadata": {},
     "output_type": "display_data"
    }
   ],
   "source": [
    "import proveit\n",
    "%theory # toggles between interactive and static modes"
   ]
  },
  {
   "cell_type": "code",
   "execution_count": null,
   "metadata": {},
   "outputs": [],
   "source": []
  }
 ],
 "metadata": {
  "kernelspec": {
   "display_name": "Python 3",
   "language": "python",
   "name": "python3"
  }
 },
 "nbformat": 4,
 "nbformat_minor": 0
}