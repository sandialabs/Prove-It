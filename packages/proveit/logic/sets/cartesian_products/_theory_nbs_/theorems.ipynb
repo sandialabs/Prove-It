{
 "cells": [
  {
   "cell_type": "markdown",
   "metadata": {},
   "source": [
    "Theorems (or conjectures) for the theory of <a class=\"ProveItLink\" href=\"theory.ipynb\">proveit.logic.sets.cartesian_products</a>\n",
    "========"
   ]
  },
  {
   "cell_type": "code",
   "execution_count": 1,
   "metadata": {},
   "outputs": [],
   "source": [
    "import proveit\n",
    "# Prepare this notebook for defining the theorems of a theory:\n",
    "%theorems_notebook # Keep this at the top following 'import proveit'.\n",
    "\n",
    "from proveit import ExprRange, ExprTuple, IndexedVar\n",
    "from proveit import k, m, x, y, A, B, S\n",
    "from proveit.core_expr_types import x_1_to_m\n",
    "from proveit.logic import (in_bool, And, Forall, Equals,\n",
    "                           InSet, ProperSubset, SubsetEq, CartExp, CartProd)\n",
    "from proveit.numbers import NaturalPos, one"
   ]
  },
  {
   "cell_type": "code",
   "execution_count": 2,
   "metadata": {},
   "outputs": [
    {
     "name": "stdout",
     "output_type": "stream",
     "text": [
      "Defining theorems for theory 'proveit.logic.sets.cartesian_products'\n",
      "Subsequent end-of-cell assignments will define theorems\n",
      "'%end theorems' will finalize the definitions\n"
     ]
    }
   ],
   "source": [
    "%begin theorems"
   ]
  },
  {
   "cell_type": "code",
   "execution_count": 3,
   "metadata": {},
   "outputs": [
    {
     "data": {
      "text/html": [
       "<strong id=\"cart_exp_abstract_membership_def\"><a class=\"ProveItLink\" href=\"proofs/cart_exp_abstract_membership_def/thm_proof.ipynb\">cart_exp_abstract_membership_def</a> (conjecture without proof):<br></strong> <a class=\"ProveItLink\" href=\"../__pv_it/theorems/c18f951bba6fb35a36e41dd075921d3635743ffa0/theorem_expr.ipynb\"><img src=\"data:image/png;base64,iVBORw0KGgoAAAANSUhEUgAAAjUAAAAWBAMAAADKnHAaAAAAMFBMVEX///8AAAAAAAAAAAAAAAAA\n",
       "AAAAAAAAAAAAAAAAAAAAAAAAAAAAAAAAAAAAAAAAAAAv3aB7AAAAD3RSTlMAq1RmmUTNIjK7EInv\n",
       "3XZ/CtNrAAAACXBIWXMAAA7EAAAOxAGVKw4bAAAGIUlEQVRYw+VYXWgcVRQ+O7Ob2cxu1lXBapGw\n",
       "YO2LWoPVal7alN1qNaZOo1ho07jUh4KgbF4K/mwy+qKYWNeHYqPUrFiKUWi3BYU2IIkiiKKGopJC\n",
       "FyamGNOHGA1qrWI892fu3Jm9u7P77CGH7N57zrf3fnPOuWcuQBOSqtr1Jw2u9eTu+5bTC0fVJoW6\n",
       "iC1KQ5dC0zAFTxvuWZKE1WDyR651xLznM5iBeYg5Cs4zdRFblIYug03DDEqKm06TsVvCuImQf1qX\n",
       "Yk6rMFWJlpvS95zMwxXoBVionb9N7VXhrpYCzqrvooynqQctSHU1QQsFJ5auIjc7yMTBMG6iZE1t\n",
       "quA8wVUl74A5AREnPg3n0btcE1J5pdcJ4aqCq++ikuOg/QbwVBPcMHBiyRW5eZGwWwrjJk7C61nV\n",
       "XJarQqI9AFsgaadKxooNek/NvPp5ZoWrCq6ui1J+yZh/YMkLp4aDE0uuyA15nIlMaL0hZJ5RzU1z\n",
       "9WSpWmUBcY1NMncEI0cv4U9/GXRN+ovPseoPApG5+kU1Ji1CKQMWIDfJcig3HJxYcsVN6/jw2sJr\n",
       "8Wb8p0oBLc/Uk8cvu5+eQOhXYDfmotGJv/dk0Hej/CX2TNlD5K4okYIIazG2LhjDWr5BHVnF/XUF\n",
       "oFzxkDg4seRKDqCvq9WvwrlJVqsXVQUvWmFqLq8fpXFleMl96m/fMXg66IsFGk7Ovz9Fo/ZQWUL0\n",
       "XI05gKLth8PvZNi/iMH1zy85o2dravV+UlbTAShXPCQOTiy5Em52ArylZkTmJmpDuyoyXaKjMO/0\n",
       "gb9g62tr6yRTWiuiVSp0sSSQelKd0VnfcUAfsudatF0exBgO+PdIXCpvOOaqpQWz6/C1aKnnA1Di\n",
       "GBNIHJxYciXcDIGRVpcnmRu0GZIS4JOFn9mnjgzTe2Fb+Xq6Tgnh5MQ/0rfbgz+Ah5de0K9GaMSL\n",
       "tOjI+FyNOcGDGCu+7N8jusSsC2D8C/pKTU7hOcUZk6BE4AgkBk4suRJu2svB1q7Ya+kzAW4wtj7y\n",
       "LDZBnC8iaTG14X42MEbCQmT1IxL068Flfw4QhygjJY6pXb3gIsquRYkHPmYEelZ0Mc3fQbvK0Myn\n",
       "aWxym2/LYrHFuZr+R0Ii4MSSK9m05siPOj4/bmnpc/BQkJtNcilGZtN+bgC+YQOTXkqRNJZOwAEF\n",
       "N+jM+mWzJG3U5+puSBpTcAPaCiEmGaiJWF4nMKimw7hxwYklVxox+a2ScQ5tta1RqCRyfbkdEjdt\n",
       "Om4idWn4ATKwKl5S3JyC2J/wAR0QUO+ijkg16o5gvTlPD4iCSW1m5ZySXEUiSGOKnIJIHjoqiOYv\n",
       "imtlwo02G5ZTLjix5Eq5OYMni549PJ/qtll7rb20x6kE4yaxEV0XI6UDtKX6y23b2h2q5pHINNBn\n",
       "lnJkLnqldXTXtqIwad3Ma/4ySIiSqyig3lhNLSYuGDGnLLjB8PeTMzSn9FJYLXbBiSVXys0L+BDf\n",
       "G+hKplNplhGafe7WGm4M/BnoancolLnhV3eKHXjalePTMRbwB1yvvgo/PKUjGwKH+p2vPgz97KzJ\n",
       "SIieq3fwemPi5MWel7S9dHzEhm0Abyf8P7GZ9je0LfCgXDcJyQV3WxJUyk0E7Z/7CTtDHHiUcRNN\n",
       "lYLcwI20faSpZGIquPVplqq5y9lwF0+lIzyse3Zvv05e5/dBbl7D951lLctIMW/a6yF6rmRxRt4P\n",
       "R1ZyiH76jv5Rl/0AlwAeW/T/RCyH75rQYfmhuJuE5IJ3WEK9E6oTxkjabhkfH89otlnJB/obLmO0\n",
       "zvRLfekcV0/2Hauq+lRjNjjS4UuM2Fn+zjDX+hVFiEuxaaCip96mv4AlGInDKIsb6HdU9zfG9MfQ\n",
       "Y1ZgO+u22dUVNPUup3qzrH37FIgtSohLtmmgrKeCG2MFI6c7ynpf3YJUWnm3tWvfcjn+KezMTYnu\n",
       "t73ANFQUb/FvKg3bCy1z09gl7JrBb+mq2HQsjU370GUwjpI6cFC0L6p7P81/CVOSm5MGoiBiUn1T\n",
       "WGqZm8YuzZPtPmiitZedH46P116tJXy91l7/5DDXsDtnxQINR2k63HpSNXRZbBpm0dPURav1ZUAX\n",
       "/E/kP+mL5Ty73JGMAAAAAElFTkSuQmCC\n",
       "\" style=\"display:inline;vertical-align:middle;\" /></a><br>"
      ],
      "text/plain": [
       "<IPython.core.display.HTML object>"
      ]
     },
     "metadata": {},
     "output_type": "display_data"
    }
   ],
   "source": [
    "cart_exp_abstract_membership_def = Forall(\n",
    "    m, Forall((x, S), \n",
    "              Equals(InSet(x, CartExp(S, m)),\n",
    "                     InSet(x, CartProd(ExprRange(k, S, one, m))))),\n",
    "    domain=NaturalPos)"
   ]
  },
  {
   "cell_type": "code",
   "execution_count": 4,
   "metadata": {},
   "outputs": [
    {
     "data": {
      "text/html": [
       "<strong id=\"cart_exp_explicit_membership_def\"><a class=\"ProveItLink\" href=\"proofs/cart_exp_explicit_membership_def/thm_proof.ipynb\">cart_exp_explicit_membership_def</a> (conjecture without proof):<br></strong> <a class=\"ProveItLink\" href=\"../__pv_it/theorems/f04d1f5f6484abadd680a16a54bddcad4aac1e680/theorem_expr.ipynb\"><img src=\"data:image/png;base64,iVBORw0KGgoAAAANSUhEUgAAAycAAAAXBAMAAADjFS2qAAAAMFBMVEX///8AAAAAAAAAAAAAAAAA\n",
       "AAAAAAAAAAAAAAAAAAAAAAAAAAAAAAAAAAAAAAAAAAAv3aB7AAAAD3RSTlMAq1RmmUTNIjK7EInv\n",
       "3XZ/CtNrAAAACXBIWXMAAA7EAAAOxAGVKw4bAAAHdUlEQVRo3u1Zb2wURRR/3bvrXvfa5fwXhJjm\n",
       "EqofLGA1pVo+wCFFibV61EQTbPSiH0j4IMcXEhXoSvyAUup9IVIS4IyEWAn1IDFRCOTQGI1EPI2Y\n",
       "il5ypaBCQi0SBNHknJnd+bOzc7dbLvETL3mX2Zn3mzf73s57b+YA/OnSONRNusD1zjPTcf2mcHqd\n",
       "K+GUCSbisFmygkz6cf0+gbMC10ORsro/tHx4wuy2lONB9HpxZ29yJR4yE/4yLwgcS0Ec983zcUoA\n",
       "odqk5TnXR5Perrbe/KL3Bzqa42ZcNe6rF+M9uJkjqlG7j2l6joZSZgdynsPIKSvwwBofpwQQqk37\n",
       "Ba6PGnNyT1MZRqdf+xVmWeG8atxPL8EzXCzBUcEQh9VCdCIjXfuF9oCxF2AtMEZOeQOHx6yPUwII\n",
       "1ablAtdHoaTc04M609AKQ9CSUI376bXxFHcwzVGBEMaPaiE6Ubij5vuE0SxdAJ3AGDkF+zuW8HFK\n",
       "AKHaVBC4TvraidS7S441rpP4/hVcgMEoH/fqliK9hKe4ybs4KhDCfDCljrPORM3K0Qulku20WRbJ\n",
       "JM05xsgpIeTIRr9EH0CodtxMc66XXrbT7Cs0TEWuAEQtfRrtle4wG/fqltK0hGe44lsMFQzRElWH\n",
       "EGciuE81+OxF2noRmXYrsm4HY+QU+KZUOulbffkL1d6jec7G1NxtQhiWHhUkSRwivxtY6jAqn2BD\n",
       "xVHOW3+RjXt1u6eR8RSn5RszFBUM0a5OtnQi6EU8NvHBUTHQ6GtZ86N/SAUcizPGTlkJsMvXKf5C\n",
       "tbMz/w4gDBPlPsFm7keVR90SXSBVHUsrl8WTABnvK2H6TtTtnsaLt+dtzGhJigqGWANtyld2JiL7\n",
       "KWm2houuQZ4jK5XZQHIUZeyU9aDH1eWD4JSqQsEIZ2DKD8PS3B18SHpUkCQxn/wK0cW4UBETwPwq\n",
       "ut3TePE2DpU0ZygqECIah5acYtV0IvgeWToTutEg5nsxFYzt/RdvrAJj7JSmXEzKVJt6U6ET+EPh\n",
       "TvEKBTnoHZ/83Ul2Kc4WPIbfq8sRsh8PHJpbdRpbgtE7xBQonpZ+YnvpqjwukFKvAm/j7gaYoijX\n",
       "0qohGiwwVcdIOhF8gbAQdqeoIbyPWSp6GumKTjPGltbKot+iEyMpLX4EnnA7xS0UkBYSNbJTAE4h\n",
       "Hr7ExPBjEmqFsFPiwwD5VnlyRV+g8ac8rnCKS68CP0APFQcpyrW0agh0njGKikRIJ8JOQdO5/TbK\n",
       "oxdOK2hXRgqMyeefXiKW4CjtaEvCkHc7xS0UvA6Oe8MXRK7BhwAL2H7Cj1dhsPqNjw2gZAOZHQyk\n",
       "Qr8B0riQU9R6vfgF9MQXToCIoEurgsCVwKPqoyOZCIcvVGNlDDHGtbDWe4gH0ZBWZEyccngtvzrC\n",
       "x3zQtjxXzsd6+npWcKdgIZh6/BzNUEKTk9R5hd3FoSMwZWNHQwG7HL8RWozzuBi/ueF9Ny7R+chU\n",
       "fHIn6uq2VbEqp2iXSoy6vcdvWa8S302tpadBRCx2nFIFgX21QZFF6UToxA6jqXtQhqY2xmebsvgJ\n",
       "4foslGVMnLIReZ5eHZF9pVlH7pV3ChYyM3MancJOaAqnK6nzj79pchMKPu36vkIkQVZj/AXsEY6h\n",
       "bZy2+3iDSxiLPocTMOG8AkqVVFH4Z6kK7pW/WY9eNZ7gSDzYCS4EXlpVRAibt8kCafV8Iiz6wNtP\n",
       "Qj+zMaaX6Or68mSB4qGBOAWlKqBXR8/YTgmbWckpWCgEe6Kg77JDIWr2n3Mnf9IpxtW2yzRTFRkb\n",
       "T5XbHnI+kVKOPUZRqdKCy5Uf8GeWdBpcQh9Lo4M0NsNpe+45qx0TRe68zfV5nJacotCrxBMcyenD\n",
       "4EJEz9RANOCoFC2LiyYNNhFsB9g3pS1PMBuTqLXDiWbJVctuJzsrxZiXVM7VUdfIyEhCs4x8WnKK\n",
       "TdcAtpxhzYIxLRngmssnKJTS9rjAfN9qPM6+ipv3e49gTKKhHC3g+Kw7sT3yaUl56aR7sq5Xrwov\n",
       "48bdSwuAqHYcsCQbE3p+d8lVkG3izJ3iXB1ts3cK9Jfd5xTnoyvotPrGzUxUuiDCnZ3zOvvtA28/\n",
       "eh86Ity3CcaJ8RdM6ij95KuflaDZMrP6tOV3v6cY9+oNgut0Ly2QJp8bVHY9V/vGljmFXh014a8i\n",
       "lAIz7j7RE9oYS4eJUw44zaYUGHn0RH6czoXZ5lQ74K5lALNZts1w5sYZ41/j1jdRoPLW+1xiEO2V\n",
       "UDbJ/VyFvONevUFwDEGWFkyTmt6VbKzc31nOzCn06kjHuWn7GlbLupwSPn/8InHKUMJurkSb4zMY\n",
       "ykS/RD9OZ5O1H5eIqH9lz1FmClzlUyb0+rrjANwJ31YqqFDwLpZLrILGjN6aY6/oZwIhjHr0BsEx\n",
       "BFlaME1qGpVsrPyHRvhovcf0AyMjnr5jrv/ocfiyA2Msh2ymsYGEUwu2Q7FD7Ce0WeB6yMzMfDyI\n",
       "Xi9uc50r4bug7C/zG2fzl5nfnQyfTEDE3s/rKijVrWZHvJxzGjoPrRmh/xb9PxQS2h2qTrH/Fs2Y\n",
       "/gMm4LAlh29Q9QAAAABJRU5ErkJggg==\n",
       "\" style=\"display:inline;vertical-align:middle;\" /></a><br>"
      ],
      "text/plain": [
       "<IPython.core.display.HTML object>"
      ]
     },
     "metadata": {},
     "output_type": "display_data"
    }
   ],
   "source": [
    "cart_exp_explicit_membership_def = Forall(\n",
    "    m, Forall((x_1_to_m, S), \n",
    "              Equals(InSet(ExprTuple(x_1_to_m), CartExp(S, m)),\n",
    "                     And(ExprRange(k, InSet(IndexedVar(x, k), S),\n",
    "                                   one, m)))),\n",
    "    domain=NaturalPos)"
   ]
  },
  {
   "cell_type": "code",
   "execution_count": 5,
   "metadata": {},
   "outputs": [
    {
     "data": {
      "text/html": [
       "<strong id=\"cart_exp_unfold_abstract\"><a class=\"ProveItLink\" href=\"proofs/cart_exp_unfold_abstract/thm_proof.ipynb\">cart_exp_unfold_abstract</a> (conjecture without proof):<br></strong> <a class=\"ProveItLink\" href=\"../__pv_it/theorems/532df5e83f5a52d9d17543118976bf457c9f583d0/theorem_expr.ipynb\"><img src=\"data:image/png;base64,iVBORw0KGgoAAAANSUhEUgAAAfoAAAAZBAMAAAArnPHiAAAAMFBMVEX///8AAAAAAAAAAAAAAAAA\n",
       "AAAAAAAAAAAAAAAAAAAAAAAAAAAAAAAAAAAAAAAAAAAv3aB7AAAAD3RSTlMAq1RmmUTNIjK7EInv\n",
       "3XZ/CtNrAAAACXBIWXMAAA7EAAAOxAGVKw4bAAAFqUlEQVRYw91Yb2gcRRR/t7t3e7d3tzlFbBUJ\n",
       "gdZ+qSYHiYV8aa/misFYPWNRsLWG+qFYEC5fhFrTnH5RbKynEOop2gSlGIRmLSq2AUmVgihC8A9W\n",
       "9OBiqzH9UNOGikYxvjczezd7N/f3Q6Ed7u3evtn35zfz5s2bBWik+fI/wHXX7Pw3jb0YgOuydV8N\n",
       "9Gkl12xekdlin8Kf9NVCb3co2b80r6mWiL/QsJrdghB9jG7r6qL30U2Lt4J+o5KrOXRJzuipso71\n",
       "A85dUF1E1Q58OA5wrhFfmEEbYRAh+m3E3FsXvUFOBtItgLeGlOxjdHkbrKNl/FABppaguojKQgK6\n",
       "OiAw0YAz3OA+4NQNz9GaydZFH6QY2d/K1BvqgOmjrgTApjJ+EkBXjxcTUS6tyzA9BHqiAV+4wR7g\n",
       "1M2GLNxRf93TWJ1oBX3E87SYz3Nss0htGbEApfZX9SU8W23Jn4E2VPplfV+EwcgEp27Q4w0ktQDP\n",
       "j0OtoN8gPzx8wV2ApOtxtP0iqyfSbgD6lwGCGfq3pjzYtBrmu1DTE6AUk5S7BgNxTojp63z+qwbQ\n",
       "R/L5n51W0A8gHZ9/b4biy9xXjEHSNf1PRmxXZwFG2H9r9RPxBj4TWwpbFNl964HFwqGT5ZnS/y1e\n",
       "PlCLScpdg+EYJ0TfD/CG0u2wB72RgVBlXjHqo6cpSdjtxpwnbdLQg766usaF6rq8ZfVS2nVa+CyJ\n",
       "OK8WrOWUVrYGgvNrwc0gFWKycmGQEgsRoh8GM6ZOER70+NKwNNifnvudZeiKNSg6Sg3LST2tr/ji\n",
       "nrohylLN8aP/uvPjumwtrgpsIy945xBF/KkfwfwP9IpNAXM+3KEWk5ULgzR6RIg+NBEuC6SRgZR+\n",
       "uhw9BshHJUYnBJfK0R++ZVx09KzrGXQDGM7g3IDB1+xYHhtbghFh8wFxHym5bFwRTue9c4gilnUF\n",
       "tBWuzXqKlIl3IisAr6jFvMqZQfKdCNFrhYAniHIpLXYK7q1A3yknPRy4WBl6o7/Y0ZmNpDZK6NE7\n",
       "nsanZCig00rs8DqIEWJdrooetCWCHvEmIMySIZTZVRe9a9A/y4ll8s3ydoui2mYDnHBye3KbjD6g\n",
       "IwL7/MF7iLEsKmWOnnF5rcU6QpljcLcU+Zhs0xYljagn8ifxPjrhCU4Lx9RcqRr54BuCqIPaPBmo\n",
       "bYWhv7Nu5LsGtTlOhP4EJmK97/C83ZvhBaD2/CMFp2LuwxtQbsGX3UOMP/7mNQxHT1yL7ymsI4rV\n",
       "7Vy8WF7BVOo2nkPtglTSMXcHvImJfDIcdfoiEZz16RTcbHoqqEiMRX5v3aznGtSznAj9szje7+yK\n",
       "R2J2jIemljl1eyV68zQFZqjA52j9JQk9cf3cIdYxCb9Cu5vecSPqeuk+GGQPe4obChrd7rCbvCkZ\n",
       "P7k7V2nrsv6kHxcZzcAWgDfDHnRYstB+P6AWk3Y81yCNLxGh92HPM79hHYSMhzh6w85WoIe1LMoY\n",
       "KAtjWUJPXP3JXO61UkepvQzw7kWtj6/vyXERs0Gc5MSDW28UBQm6YFJaMfw33SAyAZl7mv37jv2Y\n",
       "yGMA5wF2LHhN7EhivoXv1WIl5UWD0RSn4gm3HcZoYW3K5XIdWsZyhsr3e9HG2HofdOupUJEbZPE6\n",
       "WHkYiHricOdbotI923zdVFvEnGtY0YigIvovYBFGg3CIzz0MFpTne3P2Y0hYDmzlFaVAz7i8ZCp2\n",
       "SHGpPn30NI++p5XTVLXjUp+E3lzC2e81eDmHR247pv66cf/OixPBz6A/OZOW5p64sJ/muNghtSNK\n",
       "D0LNn5ZrizR+AKWinxX+Lnp/DM/4wxfAfJ1W6l6xm1f5tqNJDkmn7JO5caWxKfWhPNs0+toiR5oa\n",
       "RTaSFV+23s/lUvW+bD2qRF99qNUH1oPNh34tEbvxWFoQ1Np3vXhz6K/9b7rVvueb1zB2O//5/3fA\n",
       "kz3lroGMAAAAAElFTkSuQmCC\n",
       "\" style=\"display:inline;vertical-align:middle;\" /></a><br>"
      ],
      "text/plain": [
       "<IPython.core.display.HTML object>"
      ]
     },
     "metadata": {},
     "output_type": "display_data"
    }
   ],
   "source": [
    "cart_exp_unfold_abstract = Forall(\n",
    "    m, Forall((x, S), \n",
    "              InSet(x, CartProd(ExprRange(k, S, one, m))),\n",
    "              condition=InSet(x, CartExp(S, m))),\n",
    "    domain=NaturalPos)"
   ]
  },
  {
   "cell_type": "code",
   "execution_count": 6,
   "metadata": {},
   "outputs": [
    {
     "data": {
      "text/html": [
       "<strong id=\"cart_exp_unfold_explicit\"><a class=\"ProveItLink\" href=\"proofs/cart_exp_unfold_explicit/thm_proof.ipynb\">cart_exp_unfold_explicit</a> (conjecture without proof):<br></strong> <a class=\"ProveItLink\" href=\"../__pv_it/theorems/d58fe5a3305e05a77b4ed0adb3861370ebd02c6d0/theorem_expr.ipynb\"><img src=\"data:image/png;base64,iVBORw0KGgoAAAANSUhEUgAAAsgAAAAZBAMAAADeeMXmAAAAMFBMVEX///8AAAAAAAAAAAAAAAAA\n",
       "AAAAAAAAAAAAAAAAAAAAAAAAAAAAAAAAAAAAAAAAAAAv3aB7AAAAD3RSTlMAq1RmmUTNIjK7EInv\n",
       "3XZ/CtNrAAAACXBIWXMAAA7EAAAOxAGVKw4bAAAHZklEQVRo3u1ab2xTVRQ/e31dX1+3Uv8FIUpq\n",
       "mHyZzOoAgx9gwCZEHNaZaPgTafQDkUQpX0im/KnEDyBjLiaLlAQokRjnAhQSDX8iqRqCkaiNUaNo\n",
       "k86BOKITJAiipp77993Xvrav88tET3Je77vv/s5793fvPefcuwG4kTtzcfhfxibB3OfuGsbG3af7\n",
       "uFZrU62mtueWxN01oc1a/60kf8+1knjzTqjaEOWmZ7h6m6e4Iskh8jO1Ksl15EeLjBeOtTTTstK0\n",
       "OD0Thh1QtSHKSXOVz2s/7okGkS2iSHIHqVxVlWQ9ij/148Yzv8m1nPjzMHAR6lPsLhC2UO4Qh50b\n",
       "CUNmlaW9G8w9AKuBaSu8RFxRX1WSDTLju8eNt1jAtZy0A3hi4Gljd/tjFsoVwvzKuZEwpFde0jpa\n",
       "mQUwA5i20rELhKuSTIfk8LghOcO1yFPuynF2rjH/+jG7G77NQrlCBO+LOr5WGGpwfDqSy7FBmJCg\n",
       "3rghxbQVPDgo9S4CX+t4in9ajGlR2Ho+JUqXAQzs6TPsNrtVotwhGg3ntc0NwTSnh09cEKWVyOkW\n",
       "pDXCFKn7JJc77YLkhlzuu/R4IVlPMzVHJ2+zltc6wRiYhSP09xCPdyyYuEc0O0cpYQgWox4Yeuu4\n",
       "6gF8q2Xx4B8J6sFDTJHkRQA7XZCsJ8CfGi8kizmiw1C+U9YqxMwtXCJ0zGKt41qbQLlDrIImx9dy\n",
       "Q3S+twWn6FnbQ1n0FAoTgfp4qkjyWvCFnEOpjWRstHbsM4/PhJqykwo5a2OY6QMwN3WLUzZvjhSI\n",
       "A76H3mBsPyNQrhAY5RudJpQwBLiH88Q91+vU+Kf63AN7/iTdzTBFkv2pQJGX37A46nlfMiM+Zie8\n",
       "UzO53hPDP9L8iN3OHMvIKGakNESZJuAhwg+bfgY6vtw3En0FL6/S4u0AowLFEIOHJldC1CUg6DTE\n",
       "whCcRCzodhffg7Zy0pU/iu8yLjJFkrW8OgbGUDKqhY7BwyUkt4wh7rXQlwiSzVBtI0RCQO+kfmbG\n",
       "M7+1ozlRRDLAp6TNz8y8Faxwhpm/4u8KkdTuFyiGaIPOSgjMp81s6QdJQ4RkNGcfhwHLWxC3jKvG\n",
       "m2FKc4Y5arqI/dDm6JAuIbnek6+ZZHxDyCJZj9aGxkiiLxJmtBE4KXdswl2A9yq8DTCdx37JBr7U\n",
       "dx34A5Kg6mFQEVdgU6ICgkTG+c5bEWoI6JHPyrip+pRGWdqLugkfaVmmhOTD2BnPgt6h4OwE2wZq\n",
       "m5/MpwPtne0dKsmBaYgLnt24UKSYVlHJO+2Vl/kRiV9+xujCs8IxK0VL1Ers67BlZocZ08PW9oyo\n",
       "2V+XIdOBkzwqs4AsSyVgtnitLwYq4kFOchkE4X6dQyQQhnBHBwPROzBqCd5I1+UcnM7zD08fU0Ly\n",
       "ehzFN1ZEGkLBEJvzWuLY3aUz2YduGs7X9T3N65SiJUWVv/zOQgMjGb87GJ9Uz5lSisogqZVNYj1T\n",
       "M1kt3egRc4olR9q1fRlvWJIskfq3PBcjXQW6UHeADQHvVUDQJesnzB3Ejpu/8YJliDS995VHoEvy\n",
       "RkR2vDNNP1Ammq3MzcMLP+A2BSseZyTrwb4Skonbh4g/n4BuukpI0dvSYSeJPle8WNMlheSlxF3t\n",
       "NsC3k3kuLHadtbsQWilkKXgj0owZCkbrzovIkaVqLsk33Q+SZHPSMk6Z99abKH1fkguNcb1gQxhn\n",
       "KiDqSP8MwnQjydi+EAVpCLYD7BvVFoQlb9RL9HPv0fbYvJvpzI8ylUedU6CH+KxZyWQyrCXMdKyU\n",
       "ZLZjjIMxPSWKDXCwaCpOUD2AiY5LIfkucrkKsJn1kBQz5sUiA1et4lbwPJtMvmaZseRrrtb6pKHy\n",
       "aM526ODLlqKYdKfcIcqlkIki3qgs35Wz5QYbuEqSP4IR2GTANjaToStfnCeLRAW9I88hsejDi12w\n",
       "0soDusSZkp+ThhMk4xPJJinGjaLzBFI5Y+qMriPUXRhpmxlLxNmLneSSJDBSimJctvnirhBlRJw8\n",
       "Sd4qnmIJkn0XcUxm62xT54lCMOR4aO/LvIvpD5JsplkRMMEaxDt64ZU8D8DKeQATwRb41gdiOiV5\n",
       "kBf9UYHGC69s6WuINrOwRB2LNKMcTMaZVia52wHFHmx5OeUKUU5eL+LNScjZJj3fFCR7Q7iVXHsB\n",
       "fMSvb1/FM6/Smbxk+WiKkGx8wIq42YaesHEKeuLGKVHJ8gC8W9R+PK6QjH3Uz524QEnuCbMipmjY\n",
       "kKDxwiv9iTdpBoU96SYrQppRHFGfkuW+uOZEZSpUFJXPCgV3iHIyUMSb4wm1mAglf34aTCajjmcX\n",
       "qkciOSArHgviRaYDvJLnAZryPmt3QeSMBAVSebVhmM/4ZshGGJFHk/2OPdjItZIE406o2hBlxOdi\n",
       "z3Ce65j+xmf8hAksi8r1hb+QO7nylvHEnuUBy4pJBp5C954OC9CaQlZpyCv3wjmYgrP+RvkL+Zj/\n",
       "kBoB2y6ypNJ+x0kOpBxASkOPDT8T/lskP/cP/+9C/Km9prPS1I1BcTD34d8daTdUH313+gAAAABJ\n",
       "RU5ErkJggg==\n",
       "\" style=\"display:inline;vertical-align:middle;\" /></a><br>"
      ],
      "text/plain": [
       "<IPython.core.display.HTML object>"
      ]
     },
     "metadata": {},
     "output_type": "display_data"
    }
   ],
   "source": [
    "cart_exp_unfold_explicit = Forall(\n",
    "    m, Forall((x_1_to_m, S), \n",
    "              And(ExprRange(k, InSet(IndexedVar(x, k), S), one, m)),\n",
    "              condition=InSet(ExprTuple(x_1_to_m), CartExp(S, m))),\n",
    "    domain=NaturalPos)"
   ]
  },
  {
   "cell_type": "code",
   "execution_count": 7,
   "metadata": {},
   "outputs": [
    {
     "data": {
      "text/html": [
       "<strong id=\"cart_exp_fold_abstract\"><a class=\"ProveItLink\" href=\"proofs/cart_exp_fold_abstract/thm_proof.ipynb\">cart_exp_fold_abstract</a> (conjecture without proof):<br></strong> <a class=\"ProveItLink\" href=\"../__pv_it/theorems/d7a258330b2da71aa23c8d995889b7f59d7fbb570/theorem_expr.ipynb\"><img src=\"data:image/png;base64,iVBORw0KGgoAAAANSUhEUgAAAaYAAAAZBAMAAACItJckAAAAMFBMVEX///8AAAAAAAAAAAAAAAAA\n",
       "AAAAAAAAAAAAAAAAAAAAAAAAAAAAAAAAAAAAAAAAAAAv3aB7AAAAD3RSTlMAq1RmmUTNIjK7EInv\n",
       "3XZ/CtNrAAAACXBIWXMAAA7EAAAOxAGVKw4bAAAE9UlEQVRYw9VYX2gcRRj/bncvu9lLNosvsSjh\n",
       "xKoPYj3QFAsSrtyFBGPttYKlRNqjPhT7IFsEodKaU3xo9doeSohXMN2qD4ZCPPsQMcFwpYiFIgR9\n",
       "EISDDamtjXJGfPAvxG9m9s/s3i67CveQD5KbnfnN7Pxmvvl93yxAEku1voMtYlrrm2TAHthC9tgW\n",
       "4mRENz3+RFtfe8+GbCFOWjaySR2+BldhFeAQ46STn/vjOSXCddMeDq8Wikvigfky/AETyDtHOY2S\n",
       "hqPxnBLhumhqObx+FtSLkLKUJhBtOEY5vY7/5Vo8p0S4LpqUC6/OA+yEvopWkzcqeLAopx4TIJON\n",
       "55QI10Xr8z3dabXYvg1UyCmawp0Sa0ivzyScxFwCCUBAIlwX7UH+4bl1p3QYp3Ua9kGPIQ8hn54c\n",
       "1b2vW60bSXQvCa6LhgoA86sfLxFXkY+51Z/8XeFRGZ1yGge4EDpKxs8pFCd1yJARM7eHQuqsaAF3\n",
       "Sy/gX14bklbIdLyXiJubgxxeLFNOx0HWw4+fn5MfN9keIQvUG+w07LXxOO+lpUCHl3fc3bky1NLL\n",
       "az9C3nlCVRMN8a9ULhAu5y/+wy9pk3LqNTOB95yaKIlXOzj5cIIF5yHA6dy2aVB1r43HuXYpOPN7\n",
       "4GdIN8I47QBlAyadpy8BFJCYMFRbaK4G7+Wmjz0IJ8HiaSur9ZKgL8JTHZx8OFShVICTNE7+lew2\n",
       "Bac55i9TGw3O/DR8QcIKj3kbx0HvapJAT+TW4YTDMS+d87adHClOjdNsn6A8wr2iiJ4ijEjQyBT3\n",
       "FEd9uRHFtcduEmceyIHscdJuvjYGa6TU77b9RCMKX6a24iVnjn0LcMWH0RpQwJ/fSP7mhg+abR82\n",
       "VNN+i7ftUybneyuM0xVUEbFwblXbVWHJhfDGAavRsU8UpxnbeshbtM13weN0O1U7olJfeMVt06zl\n",
       "QJmYXPaSM9tu4dpv5zG4cBmyH7/8iZMR8m6+AHOle5lwaa6oPGIrortvNcbpJJ6BD5/P9emaznZV\n",
       "qCw+EMKJ4ESYVWjNB3t1j1Ou16qk6Sof9NoWrGCZ+EYNZCc5c5KeWdZtwVO/zEu0YfuvtAOzTwEe\n",
       "fetp2E8fjjjIPQ0q394BaDBOKXS3V29hRMaKZxknSat1ckpRAfudVpiQ3uDO04AB4ov1+jtwn9dG\n",
       "58iX6dA4ATs5U+poM1h3vgJnQjip6Gp4vh1OZwE+agsF5oqXpm1/y+/bfRd/OvtL3F1jCKrQn4Wd\n",
       "+J6sUFEb5Y74ZGtIk5yjdNbO/WxOVTAUql1n3DatUfCXWXd8cpMzuhnXYSpHfc/F4NkiRwt35ATn\n",
       "e/2+kDD5fis0pz3F35+uwx2YUojkkH2C/Vb4/elkpizBZZB0SBkuJ7m5gHHkgq0Rdhs983xZbWBH\n",
       "ohFuckbte3jShLYPwzRiN8Agd3TEfJJso8Bxkjdwp3ZJGIRYXNT0cE7SD8vrUM1Kb058xmnEM5Nt\n",
       "E07QGGwAayPbNugrK19B1QB0Njc5Y8LdxpnP+DC4sLgS48Ulgw5o20wCStR5HE5pHe9Gx9dBJhp7\n",
       "9qh9BYy653oBgYtP6uf16YjoyTtN6N0o+g4zF1KKNroCHXf3y/V6Ke7unjbDODEbi7sGGUkrg+PJ\n",
       "Vjyn2//7e4QI0ZwyZsxQiyF1w5FosdS970ZR3/fkjpo4TmpInfmf0HHf9679C2F6UUFdrkVNAAAA\n",
       "AElFTkSuQmCC\n",
       "\" style=\"display:inline;vertical-align:middle;\" /></a><br>"
      ],
      "text/plain": [
       "<IPython.core.display.HTML object>"
      ]
     },
     "metadata": {},
     "output_type": "display_data"
    }
   ],
   "source": [
    "cart_exp_fold_abstract = Forall(\n",
    "    m, Forall((x, S), \n",
    "              InSet(x, CartExp(S, m)),\n",
    "              condition=InSet(x, CartProd(ExprRange(k, S, one, m)))),\n",
    "    domain=NaturalPos)"
   ]
  },
  {
   "cell_type": "code",
   "execution_count": 8,
   "metadata": {},
   "outputs": [
    {
     "data": {
      "text/html": [
       "<strong id=\"cart_exp_fold_explicit\"><a class=\"ProveItLink\" href=\"proofs/cart_exp_fold_explicit/thm_proof.ipynb\">cart_exp_fold_explicit</a> (conjecture without proof):<br></strong> <a class=\"ProveItLink\" href=\"../__pv_it/theorems/c45ca1def4add9d5461e29a80cb5fa3e24e3ab940/theorem_expr.ipynb\"><img src=\"data:image/png;base64,iVBORw0KGgoAAAANSUhEUgAAAnwAAAAZBAMAAABZZe6lAAAAMFBMVEX///8AAAAAAAAAAAAAAAAA\n",
       "AAAAAAAAAAAAAAAAAAAAAAAAAAAAAAAAAAAAAAAAAAAv3aB7AAAAD3RSTlMAq1RmmUTNIjK7EInv\n",
       "3XZ/CtNrAAAACXBIWXMAAA7EAAAOxAGVKw4bAAAGrklEQVRYw+1ZXWwUVRQ+OzPb2U67w0QfDMQ0\n",
       "a0BNqOJGCooPWKCVxgos5cFAiWzkgciDDi8kGLAr4QGk4kZDYEmEUYixkpSFBxSIZJEQjURtiD+x\n",
       "ySbTtIjwsNYYBcWk3t+ZOz/bnbDRrMaT3Lt37pxz5t5v7vmbBYhCsfJ38D/5SS9ficbY9O/al8la\n",
       "PaRGeAbM/y/Cp6doq4vidvh8x+MVY/wgwHMUPgP/zK4NXyS+xqB21uqj8cCM1HVOXrfgIlyAMfR+\n",
       "0gS+bnxjU234IvE1BGlZ2uqkJss/cxi0I+pwFm5BL7raTOB7Fdt5vjZ8kfgagpQ0bXWS3OnXiyYW\n",
       "QsxOlACHjA4CHwa5JVUbvkh8DUGtrNVLnzNP+nb5WzKYkcMerzWn59VJNGy1MHxyOkJkQAyR+BqC\n",
       "HmCtXtpIQ8iL3Ig3IAR2wwA6f3IeHcSmNIm8X5TLl6NE3ih8DUG9rA2PvX9OMBetMmvvqWkFfQIn\n",
       "Sb/VcYEnbqMzB6uhyVTbsCkaBL4egENR4IvC1xC0kbVOvU0ZEVwXjNkrphX0CSwEb7SUp6buEX1j\n",
       "lsC3BVQjVFuLF76qfFGIueEHQ9M0lhaEJrqB7Euqkg/rzugKbbIp/xETIshj8KR197SxwifwEOmF\n",
       "ED585E9xISUCX7PVkvHq2dGbkS/g1+WBL8gXgfori/GJBxqy5YCC+PnxHxm2C0KFFf/kgrAU19WC\n",
       "6BJtCVDw1o/y/efgKdQfPzmr2lqZgENvkEnks8rf86lVwgYSkwQ+yRYjQmKskJGMs/B0AD4vXzSS\n",
       "bLoIBt874r19M/cDzMOr6CeuyfCtggrHi76kzmcBPi0CfCg2oqObqLjm+CUxg2kMuNVz1teT5zm5\n",
       "mozdn+Aa4/T0QXaxINOFDou0WIFiAD4vX+QcIibA1y1mUT24L+FyhiSoSsa3Cia82Zd8eQ+wX4tg\n",
       "vChUmpoFkgNf/CZ8AL/CQK7qcomAQw+T3hHH735AuI0VY/hOoRXKy/aN6YtytBSRdj5rF1u6VnR1\n",
       "e+DDfFBZPsGdjzB0yTs5I81K7zxfinOf1kS/4NqbpJNJQZisggn7giVi0ydeWe6trFwttDggbShz\n",
       "L3bfBD60a21/rIQOxRMYPitYqQAX4EgALKIbEtHsFV1lnsK3HdnD0fXpVkM3YIjgmjt7f8jpw3y6\n",
       "ObOJLVMYCg7cO6lPvQUufGrWvc+M4qffEVISdltbBeEhQXiO9wGI7Vos/zzftV8LTzhQe+S1Z6CP\n",
       "wqf9hn5vHSvFsfaPySWcyNJ594oKcCQ4Vs52VhRJruIe/CKFL4agfvkHlFSjiTUUPkXPB+HDfDIc\n",
       "ToB6iPoCNOyb8BoTmRTo3VWGC18878rHaYjT5vxM5gHWChrXCMJrvfChy3Szze0voAXT67Qdq0jL\n",
       "Uuz0lS3QVtpzHsVudZRcQhKj/TWwLjnKBTgSAN9Q3TPXseRh9ZK7PHaQET5YtcEgJFOwsFAopKSc\n",
       "VswG4aN0E2DnqDMsaZO+83dTvLAgPunCJxmuvPxCofAmtpkNaEf47n2CRrIKJrzHqx6zzXDcQ0AL\n",
       "2VeONtdFgeSa6zbLc8lpLviQAJV5vfgZVrT5aIf4ve8zuA4DCdhLTx/02YG8j8XEEvJHo87QRPWz\n",
       "N/qjyY7ZHX0fkSen+FcG0uMNcvkEiajIuLYxs9sjaNwrCPuMF7MNgikvnd/dngtq4bW+W+8T+Nyt\n",
       "qJ2qKe6MkxvgGRI1vzosE+BTJxHqixSU3NH0TDfCP5dub8kqZPvH2bA5g4ZakXdkcl6+NdOOWRQD\n",
       "YqYndDjytIJZAoASed1GsklwNZJVMOGKoJ2wqaXT0Cldh0tS0aeFL/IAay58w+7h273LEi6d0OEI\n",
       "cyTwG5n2a3RegC9uoOpkyw1QD2LHsYl9HQ3Cp1w9f4NsfzBFhz14mPgUBk3c0cnm3HuwlLDs6v1Q\n",
       "CB1oT448bMPm1dN1DiHUbCY+QR04GskqmPABQDepdsa2sr9iwUEtq6R8Wvgih5zog1Sdvm2LtctX\n",
       "U1MhpYxQs3Ak3BcQTuRxgY/1xwuFTM2P9Xj7NCC1WDYfgjOZhHYYSYvzDL5+QV47U9jvbldy8mOi\n",
       "0V0Fjq2Sm2s5bCNSMSn7tXDIbNrq++Jf48+Sa3f8X8e+yymIU+/70tQIH+I3Z7EE8yq0mcI8h08x\n",
       "HXmRUBa3jvRco5gemOQmI4dNM/RM7Jpfyz9Od/xXkRw2lKuxMPjgbGipjg5aGh+7sJu4xHV9eFW2\n",
       "sHq6geCr939e003uQzN+muWEkBVhprrqv5f08sW/AGYe/8lGa447AAAAAElFTkSuQmCC\n",
       "\" style=\"display:inline;vertical-align:middle;\" /></a><br>"
      ],
      "text/plain": [
       "<IPython.core.display.HTML object>"
      ]
     },
     "metadata": {},
     "output_type": "display_data"
    }
   ],
   "source": [
    "cart_exp_fold_explicit = Forall(\n",
    "    m, Forall((x_1_to_m, S), \n",
    "              InSet(ExprTuple(x_1_to_m), CartExp(S, m)),\n",
    "              conditions=ExprRange(k, InSet(IndexedVar(x, k), S), one, m)),\n",
    "    domain=NaturalPos)"
   ]
  },
  {
   "cell_type": "code",
   "execution_count": 9,
   "metadata": {},
   "outputs": [
    {
     "data": {
      "text/html": [
       "<strong id=\"in_cart_exp_is_bool\"><a class=\"ProveItLink\" href=\"proofs/in_cart_exp_is_bool/thm_proof.ipynb\">in_cart_exp_is_bool</a> (conjecture without proof):<br></strong> <a class=\"ProveItLink\" href=\"../__pv_it/theorems/6b88fdf84a870d4ef2f198b9ae5b648f983d809f0/theorem_expr.ipynb\"><img src=\"data:image/png;base64,iVBORw0KGgoAAAANSUhEUgAAAYoAAAAZCAMAAAAYJZl7AAAAM1BMVEX///8AAAAAAAAAAAAAAAAA\n",
       "AAAAAAAAAAAAAAAAAAAAAAAAAAAAAAAAAAAAAAAAAAAAAADxgEwMAAAAEHRSTlMAq1RmmUTNIjK7\n",
       "EInv3XZehM4hfQAAAAlwSFlzAAAOxAAADsQBlSsOGwAABTZJREFUaN7tWomS5CYM5TSXUfz/Xxth\n",
       "wAYMtN3r2SSVpbZMzyDUlp7uWULeW9R7r8if9XwBao69yXD5o9PvF+f/eyhUsz9UoOAagBLgRn/D\n",
       "Rf2B4gwNrN6fLcvliipcKTKg4RcSPoai1Szbsnoqa3qEgh5UjL8BxYv8fsNirt5v3xPCOcL/shCE\n",
       "3tAjROQAH4U2Qf9qsRGLgx6hEPLQpHoDihf5/fyyS73fXSYYszUbWh5+0iv+lNPuYj9Dgep3Cj+U\n",
       "9AiFzmaszCsB6kV+P78Er/e710TUHgq8okMASqo2olP2uAUFZyl+ZPqQKzIsjr0CxYv8fn6tzd6N\n",
       "7gYrTV+5zRa1HgLNRqJncEOSTlc7v35AsVT0AYqcun896S5VKfAfSOJsqffOkgtcIo7coohaE0lT\n",
       "JFY00y18fj1CQRV3Ff2utjXA5lf3EhTv8fv5+OTq3WJdarUr/Fn1Qr/dNqeHTB0l0+shbVvw1NX0\n",
       "OxRiZ2vsAxncDIon/MRN81Xnc14rPjrKBpx3EWpSIMKTeenBN1x08Da8cLHedYTCL+vmha3odygU\n",
       "zY/75jSDYsZPOgAOunivA107Zs3l+SRzvqINQW4RXrA+51z1pJ2roGVLKP/UKlkw2zZIMGydd1ox\n",
       "QAGXyWMSfYzrwYCdnHeFXgQKvtLPUEz4sWCaeiMdKFKzYzsQxt9dTzRQY2TNV7r6DNCDFWO6OCqy\n",
       "tqz2QCQq7ekYbHFdy0Gx9VVWiNe9HqEImyvpIxRBkFHiyiIxuttt8qo5FGN+0QBoD4p0oxeEY6si\n",
       "5KWk1B2+0daOswAFvjnrlvwNFPvHKo7ZXkHOc8bol4hynV8/oEjCy9IrUAscRhW0zq0zBACCXEKg\n",
       "ywshx4OPkx+AUPjvqAJ5M6gxZYw1YXVewhdPuQ8YaNPXFnz3nHue7V7BY/S7lNdNgNqLI2RibfPV\n",
       "HR8NnUQ/GzJPZtcLKJaSPkHhWDKYdrp1isQ0kwpyvp57xckPFKGGLIeksG2G1+9Vf+6NgtRyPi0Q\n",
       "1EBobyuLK/gyUZ2hAYl11cfRtWk+doveT9e6KAEYqloMSkRuptdPKBiU9AkKlVJAO90qRMJoi24u\n",
       "70GR+QVfRjGLmGOZ2OgAihCbenFNmvOpbNBEaG9lBenJV9ZnwXq0AHmy6NSdcWebtgKhkKU5LBfb\n",
       "EN61NWu3Qh5cT0nCgRMVfW7HaNSWaqZbhUhsr07A3IIi89tjRxGObIwBAyjQ81kvTjJ6PpG1S+1t\n",
       "jGeGNXy1qc5iroiGrlsotC93K9CImeCsDkdG2qZ6lFRQOpwleDm7DstqzDmZPekvQ/J6ulWIFKCw\n",
       "Lmvb3R6SB2YZjGhuygygwA50b0aYgwrsqMGsx/DmIeDo8x0qviEKFWcJCugGKOJ1vffrZNMOPua1\n",
       "5rPrmf4CRT3dKkSK5SCDG9128TUrccuuVhs4CRoVPoJCm11XDFWm6SBtB61F+z97yIrvHp7PswiF\n",
       "hn7kPmZxgry1Hk4WD/oWina6dYoU+yugj6AgGKSx97LBOVhow8OUX43SNv4Uz9B3q7F//HU6xAhi\n",
       "Yh432ZQrvjvZccYWWJxJKd1ce1+jyOjou/V0Hn3Qt1C0061DJO1jD/8QijLiDybG/eLV6MrHz6fF\n",
       "10iatS4Ez6amTpVG76xX5eff2bcm+k8xPeg//kG1K+43UEh7HwoAvtXOpY4nuqycfY9Qz44U1Psv\n",
       "LlDf0v++v20PvqgHhWKXBJtaNBuKOpiNfCdzKi7Jv3m9DMXz/wfVI9fu2vvb4jn14q+O/vEF3q/8\n",
       "b4qEKnTSSBO+AAAAAElFTkSuQmCC\n",
       "\" style=\"display:inline;vertical-align:middle;\" /></a><br>"
      ],
      "text/plain": [
       "<IPython.core.display.HTML object>"
      ]
     },
     "metadata": {},
     "output_type": "display_data"
    }
   ],
   "source": [
    "in_cart_exp_is_bool = Forall(\n",
    "    m, Forall((x, S), \n",
    "              in_bool(InSet(x, CartExp(S, m))),\n",
    "              condition=Forall(y, in_bool(InSet(y, S)))),\n",
    "    domain=NaturalPos)"
   ]
  },
  {
   "cell_type": "code",
   "execution_count": 10,
   "metadata": {},
   "outputs": [
    {
     "data": {
      "text/html": [
       "<strong id=\"cart_exp_proper_subset\"><a class=\"ProveItLink\" href=\"proofs/cart_exp_proper_subset/thm_proof.ipynb\">cart_exp_proper_subset</a> (conjecture without proof):<br></strong> <a class=\"ProveItLink\" href=\"../__pv_it/theorems/7fc6a2b24beee970fb4a3265d258bca38153abbd0/theorem_expr.ipynb\"><img src=\"data:image/png;base64,iVBORw0KGgoAAAANSUhEUgAAATAAAAAZBAMAAABEAW+KAAAAMFBMVEX///8AAAAAAAAAAAAAAAAA\n",
       "AAAAAAAAAAAAAAAAAAAAAAAAAAAAAAAAAAAAAAAAAAAv3aB7AAAAD3RSTlMAq1RmmUTNIjK7EInv\n",
       "3XZ/CtNrAAAACXBIWXMAAA7EAAAOxAGVKw4bAAAECElEQVRIx72XTWzTWBDH/7Xj2HGKcSVAXIBo\n",
       "Vxz2RCQKogcgFQXBZleE7QGEEIQDQsCBcOUrhhviK3DCCLZBICS0WxRWXJYctqWHZbXaVQVIcCCS\n",
       "CxIIhCAU6GZBfDy/F9vPjUNcEB0p8ceMn39vZt68MRBG2ip3MJmiVW6GM4xismX+JIDJ7lnnomf6\n",
       "g1PN7BxtbrLA7jO8LNQFQxjESBMzV7uRgen24dvWYKHsgkQosSGqkC9nUUO6waLrQ0fHNsPVakkK\n",
       "ttxWbW0NFsouSC6yw7wqWUOWMoCAtP6LqGqedjsFO2C7udAaLJRdkCxjh+7/gHZDK8hVoyEJ3wPS\n",
       "K0/bScGiRSCeaA0Wyi5IBuh/fE8NyBOviIUUqwhnK5UKYxSJSnzvaduLNpiYDJHbxCCUXVCKZelh\n",
       "vzYKrEE0J88u2tfKjpxXJUmUo3962miSrsp/KpW/w6zKMHYBEmG5nxJe+m73e1xoL0CdxQU4rlOw\n",
       "lcDpwCHjfjDXrjjuze56D56TvcYgJZS3vtvTufPjPz+bkeSuxSwF2wVZD56rH8yxU2/QW4delVfR\n",
       "WcYco1/dSSt96atOHZ2SYGPJL3yDZ7nz5zkIQ3z0ByhYrBjP+In2pTPiYAOYYxcfZdMahjbgA/uD\n",
       "IChXTJMEaTHw1IkTfehxT/f//CsU3hdn7Ie5UCpVCiZYfE4rI2ZG0K/h+wYwx27dvyxjUxCrPJh0\n",
       "xALSbPxpwFIeTCWqd74KwYPZvlxqedcS8xiySzijHjKysCSCUrznx57lvi2pbmdtZi9MoD/Jg2lR\n",
       "3a0n16He4kNpz/GeLyrDnC/sZTGHi5owzMB+I5VWXHZsROsy2HYgHFxrlRo8Ru3I+7GC3so/6JwJ\n",
       "HsyKZHHOqZjzu53QxGxX9JLfzqCyS0ckpVcZ45O/wMD2Eree35Bs1zUdlyixcW1uANhe6v519exZ\n",
       "DHUaDyYZJOV64eTfuRS39mU7GftyvsXqeShKtBu2j6swNlgbmdzuh5hqkBu9DCyiFRrB2qgT0uU5\n",
       "xXoa5TMcWKR85Q2+gZN/8msnUMNQ+8aK+O7DDl8vcWK9U177XnTMOMnrpmS4tmc2jtjpsNA0zYRg\n",
       "qKVsQx2r+53wGCyNsIkvFxbkGvbAyT+p5jxxN7jwSr+7W9J42cf3YzfwGHkFh5nH8JPVpB8jLp2a\n",
       "UEuQ30C9zYVSIsk5ihgLV76I/pTb/33Wtu+AyVXis64IKVZ2imSg6cFgkUGoq7co17HwbXlVggP7\n",
       "QceFsYxKy6q4s3zVi00sN9GOt8CBSTrptXY9gWyPfHRrvS9s2sEK3HnMt42ZtMD6smmivRKdSUNr\n",
       "/YtpZlq31uubgQXJ/gmCPfqCnj85EbCv+pX0ie9K+at8Vw59BK8sAggoqGchAAAAAElFTkSuQmCC\n",
       "\" style=\"display:inline;vertical-align:middle;\" /></a><br>"
      ],
      "text/plain": [
       "<IPython.core.display.HTML object>"
      ]
     },
     "metadata": {},
     "output_type": "display_data"
    }
   ],
   "source": [
    "cart_exp_proper_subset = Forall(\n",
    "    m, Forall((A, B), ProperSubset(CartExp(A, m), CartExp(B, m)),\n",
    "              condition=ProperSubset(A, B)),\n",
    "    domain=NaturalPos)"
   ]
  },
  {
   "cell_type": "code",
   "execution_count": 11,
   "metadata": {},
   "outputs": [
    {
     "data": {
      "text/html": [
       "<strong id=\"cart_exp_subset_eq\"><a class=\"ProveItLink\" href=\"proofs/cart_exp_subset_eq/thm_proof.ipynb\">cart_exp_subset_eq</a> (conjecture without proof):<br></strong> <a class=\"ProveItLink\" href=\"../__pv_it/theorems/f4913e9eac84d0330c69581b7197019a013d751b0/theorem_expr.ipynb\"><img src=\"data:image/png;base64,iVBORw0KGgoAAAANSUhEUgAAATAAAAAZBAMAAABEAW+KAAAAMFBMVEX///8AAAAAAAAAAAAAAAAA\n",
       "AAAAAAAAAAAAAAAAAAAAAAAAAAAAAAAAAAAAAAAAAAAv3aB7AAAAD3RSTlMAq1RmmUTNIjK7EInv\n",
       "3XZ/CtNrAAAACXBIWXMAAA7EAAAOxAGVKw4bAAAEE0lEQVRIx72XX4gTRxzHv7ebzW4257oHVvqi\n",
       "BksffDLgKd6DmsNTtKmY9h4qIhofRFTQ+Fr/ZNu3UltDQTCivUhLQfQkii81D73zHqqIcrSCPriw\n",
       "p6AoovFPr6nin/mTzc5eNs2epRm425n5/XbnMzPf+c0vQJjSZd9EJ4th/xHOMYpOl0UdAFMbtd6l\n",
       "j827R1v5udZcp8DucLws9MVjGMVEC7eGdTMHM+njo/ZgofyCilTmn6hCPZtFDekmj763PT07rIbV\n",
       "SDKwVdS0vT1YKL+g8gt/LKySM+RoI6jL2jhh27bF61eIqeZZdzKwr+gyF9qDhfILKiv5o/9voNsy\n",
       "CmqV0Wi7c54I3wDKC8/ay8CiJSCeaA8Wyi+ojLD/8X01IE9WRS6kaHvY44JMTPIbz9pdomByMoS2\n",
       "iUMovyCJZdnjoPEM+AzRnDq3RNsfiFGS7HL0d88aTbJTec22r4Y5lWH8AkqEaz8lPfd1Z4V6dwH6\n",
       "HMtrx00GtgY4FvjJuB+s4VeaMnLjvAfPiZ4xKAntldirmULj8I+PZyeFtpxlYHuhmsFz9YO5fvpl\n",
       "1vXNi8paNsuY63SGNOPFYjEHbSh9wY2jMxL8W+pTX9AVh3ySgzQm7v4IA4uV4hk/0YF0Rh5tAnP9\n",
       "4s/4tMZhjPjAfktAP8Kry4BH7j6xlx4M9P/jG2NcqB+nLwtbqVUZmOSImtYmihnJvIhPmsBcvw3X\n",
       "uWJTkKsimHLIQax+1mYBK0Qw3QFeBwURVuharnC8tsJXDNnlgtMAIZeWR1COD6wbWOW7kup+zlY+\n",
       "YALDSRHMiJrYV69fgv6nuJV0jrf90vN2SaPHYp6wa9I4BztPIq288vsJo8/i14H09RdOuWnFmB8Z\n",
       "H6tZV/5u74cQwZxIFvPdiLmo392aGF2KQfK3x38z9mxs5Dgk9GqTovgLHGw/EeJPm5LdpmHiFCO2\n",
       "Ln4cALafCXZDXT3LoM8SwRSLSG4Qrv5OpoSzr1IxDuV8ZMqv7pUUJdZNO6dEGArWRcxf3sNMi3QM\n",
       "crCIUWgG62KfSVfmleoyymcEsEjl3EuchKs/9S93o8ahD02WsODtrhZJ6NDTntk/iD0zMkLaMxeH\n",
       "qByWkOOekCy9nG2KY/V1JzwWlxG2iOHCgVpz7yyiP6XmvnFr2jH5gJiPXcYD5DV8y1cMnzst8jGy\n",
       "pDMTehnqS+g3hK1UiDhJHEkz1nwJw6lG/vde174LplbJmvVFSLCiEsnAMIPBIqPQ12/TLmHJq8ra\n",
       "hAD2qYmfJzNEOSTAynsqF7y9ieWCBl9n217aMyXjLQhgiklyrb0PodKA/d32el7YMoOVhHqszfz1\n",
       "6eZKbCZNqfXpYjHTPrXeOA0wHJwm2P3/kPMnW4B1Fdld2cFfSf/yu1L9X35Xjr0DxHcJgCcJ0fsA\n",
       "AAAASUVORK5CYII=\n",
       "\" style=\"display:inline;vertical-align:middle;\" /></a><br>"
      ],
      "text/plain": [
       "<IPython.core.display.HTML object>"
      ]
     },
     "metadata": {},
     "output_type": "display_data"
    }
   ],
   "source": [
    "cart_exp_subset_eq = Forall(\n",
    "    m, Forall((A, B), SubsetEq(CartExp(A, m), CartExp(B, m)),\n",
    "              condition=SubsetEq(A, B)),\n",
    "    domain=NaturalPos)"
   ]
  },
  {
   "cell_type": "code",
   "execution_count": 12,
   "metadata": {},
   "outputs": [
    {
     "name": "stdout",
     "output_type": "stream",
     "text": [
      "These theorems may now be imported from the theory package: proveit.logic.sets.cartesian_products\n"
     ]
    }
   ],
   "source": [
    "%end theorems"
   ]
  }
 ],
 "metadata": {
  "kernelspec": {
   "display_name": "Python 3",
   "language": "python",
   "name": "python3"
  }
 },
 "nbformat": 4,
 "nbformat_minor": 0
}