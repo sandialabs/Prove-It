{
 "cells": [
  {
   "cell_type": "markdown",
   "metadata": {},
   "source": [
    "Theorems (or conjectures) for the theory of <a class=\"ProveItLink\" href=\"theory.ipynb\">proveit.logic.sets.cartesian_products</a>\n",
    "========"
   ]
  },
  {
   "cell_type": "code",
   "execution_count": null,
   "metadata": {},
   "outputs": [],
   "source": [
    "import proveit\n",
    "# Prepare this notebook for defining the theorems of a theory:\n",
    "%theorems_notebook # Keep this at the top following 'import proveit'.\n",
    "\n",
    "from proveit import ExprRange, ExprTuple, IndexedVar\n",
    "from proveit import k, m, x, y, S\n",
    "from proveit.core_expr_types import x_1_to_m\n",
    "from proveit.logic import (in_bool, And, Forall, Equals,\n",
    "                           InSet, CartExp, CartProd)\n",
    "from proveit.numbers import NaturalPos, one"
   ]
  },
  {
   "cell_type": "code",
   "execution_count": null,
   "metadata": {},
   "outputs": [],
   "source": [
    "%begin theorems"
   ]
  },
  {
   "cell_type": "code",
   "execution_count": null,
   "metadata": {},
   "outputs": [],
   "source": [
    "cart_exp_abstract_membership_def = Forall(\n",
    "    m, Forall((x, S), \n",
    "              Equals(InSet(x, CartExp(S, m)),\n",
    "                     InSet(x, CartProd(ExprRange(k, S, one, m))))),\n",
    "    domain=NaturalPos)"
   ]
  },
  {
   "cell_type": "code",
   "execution_count": null,
   "metadata": {},
   "outputs": [],
   "source": [
    "cart_exp_explicit_membership_def = Forall(\n",
    "    m, Forall((x_1_to_m, S), \n",
    "              Equals(InSet(ExprTuple(x_1_to_m), CartExp(S, m)),\n",
    "                     And(ExprRange(k, InSet(IndexedVar(x, k), S),\n",
    "                                   one, m)))),\n",
    "    domain=NaturalPos)"
   ]
  },
  {
   "cell_type": "code",
   "execution_count": null,
   "metadata": {},
   "outputs": [],
   "source": [
    "cart_exp_unfold_abstract = Forall(\n",
    "    m, Forall((x, S), \n",
    "              InSet(x, CartProd(ExprRange(k, S, one, m))),\n",
    "              condition=InSet(x, CartExp(S, m))),\n",
    "    domain=NaturalPos)"
   ]
  },
  {
   "cell_type": "code",
   "execution_count": null,
   "metadata": {},
   "outputs": [],
   "source": [
    "cart_exp_unfold_explicit = Forall(\n",
    "    m, Forall((x_1_to_m, S), \n",
    "              And(ExprRange(k, InSet(IndexedVar(x, k), S), one, m)),\n",
    "              condition=InSet(ExprTuple(x_1_to_m), CartExp(S, m))),\n",
    "    domain=NaturalPos)"
   ]
  },
  {
   "cell_type": "code",
   "execution_count": null,
   "metadata": {},
   "outputs": [],
   "source": [
    "cart_exp_fold_abstract = Forall(\n",
    "    m, Forall((x, S), \n",
    "              InSet(x, CartExp(S, m)),\n",
    "              condition=InSet(x, CartProd(ExprRange(k, S, one, m)))),\n",
    "    domain=NaturalPos)"
   ]
  },
  {
   "cell_type": "code",
   "execution_count": null,
   "metadata": {},
   "outputs": [],
   "source": [
    "cart_exp_fold_explicit = Forall(\n",
    "    m, Forall((x_1_to_m, S), \n",
    "              InSet(ExprTuple(x_1_to_m), CartExp(S, m)),\n",
    "              conditions=ExprRange(k, InSet(IndexedVar(x, k), S), one, m)),\n",
    "    domain=NaturalPos)"
   ]
  },
  {
   "cell_type": "code",
   "execution_count": null,
   "metadata": {},
   "outputs": [],
   "source": [
    "in_cart_exp_is_bool = Forall(\n",
    "    m, Forall((x, S), \n",
    "              in_bool(InSet(x, CartExp(S, m))),\n",
    "              condition=Forall(y, in_bool(InSet(y, S)))),\n",
    "    domain=NaturalPos)"
   ]
  },
  {
   "cell_type": "code",
   "execution_count": null,
   "metadata": {},
   "outputs": [],
   "source": [
    "%end theorems"
   ]
  }
 ],
 "metadata": {
  "kernelspec": {
   "display_name": "Python 3",
   "language": "python",
   "name": "python3"
  }
 },
 "nbformat": 4,
 "nbformat_minor": 0
}
