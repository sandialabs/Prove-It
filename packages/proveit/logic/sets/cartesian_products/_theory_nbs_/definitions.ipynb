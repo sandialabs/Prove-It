{
 "cells": [
  {
   "cell_type": "markdown",
   "metadata": {},
   "source": [
    "Conservative definitions for the theory of <a class=\"ProveItLink\" href=\"theory.ipynb\">proveit.logic.sets.cartesian_products</a>\n",
    "========"
   ]
  },
  {
   "cell_type": "code",
   "execution_count": null,
   "metadata": {},
   "outputs": [],
   "source": [
    "import proveit\n",
    "# Prepare this notebook for defining the conservative definitions of a theory:\n",
    "%definitions_notebook # Keep this at the top following 'import proveit'.\n",
    "\n",
    "from proveit import ExprTuple, ExprRange\n",
    "from proveit import k, m, x, S\n",
    "from proveit.core_expr_types import a_1_to_m, A_1_to_m\n",
    "from proveit.logic import And, Forall, InSet, Equals,  CartProd, CartExp\n",
    "from proveit.logic.sets.cartesian_products import a_in_A__1_to_m\n",
    "from proveit.numbers import NaturalPos, one"
   ]
  },
  {
   "cell_type": "code",
   "execution_count": null,
   "metadata": {},
   "outputs": [],
   "source": [
    "%begin defining_properties"
   ]
  },
  {
   "cell_type": "markdown",
   "metadata": {},
   "source": [
    "A Cartesian product set is the set of tuples whose elements are contained in the respective sets of the product."
   ]
  },
  {
   "cell_type": "code",
   "execution_count": null,
   "metadata": {},
   "outputs": [],
   "source": [
    "cart_prod_def = Forall(\n",
    "    m, Forall((x, A_1_to_m, a_1_to_m), \n",
    "              Equals(InSet(x, CartProd(A_1_to_m)),\n",
    "                     And(Equals(x, ExprTuple(a_1_to_m)),\n",
    "                         a_in_A__1_to_m)).with_wrap_after_operator()),\n",
    "    domain=NaturalPos)"
   ]
  },
  {
   "cell_type": "markdown",
   "metadata": {},
   "source": [
    "A Cartesian exponentiation is the set defined by the Cartesian product of the base repeated the number of times indicated by the exponent."
   ]
  },
  {
   "cell_type": "code",
   "execution_count": null,
   "metadata": {},
   "outputs": [],
   "source": [
    "cart_exp_def = Forall(\n",
    "    m, Forall(S, \n",
    "              Equals(CartExp(S, m), \n",
    "                     CartProd(ExprRange(k, S, one, m)))),\n",
    "    domain=NaturalPos)"
   ]
  },
  {
   "cell_type": "code",
   "execution_count": null,
   "metadata": {},
   "outputs": [],
   "source": [
    "%end defining_properties"
   ]
  }
 ],
 "metadata": {
  "kernelspec": {
   "display_name": "Python 3 (ipykernel)",
   "language": "python",
   "name": "python3"
  }
 },
 "nbformat": 4,
 "nbformat_minor": 0
}
