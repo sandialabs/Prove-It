{
 "cells": [
  {
   "cell_type": "markdown",
   "metadata": {},
   "source": [
    "Proof of <a class=\"ProveItLink\" href=\"../../../../../../_theory_nbs_/theory.ipynb\">proveit</a>.<a class=\"ProveItLink\" href=\"../../../../../_theory_nbs_/theory.ipynb\">logic</a>.<a class=\"ProveItLink\" href=\"../../../../_theory_nbs_/theory.ipynb\">sets</a>.<a class=\"ProveItLink\" href=\"../../theory.ipynb\">cartesian_products</a>.<a class=\"ProveItLink\" href=\"../../theorems.ipynb#in_cart_exp_is_bool\">in_cart_exp_is_bool</a> theorem\n",
    "========"
   ]
  },
  {
   "cell_type": "code",
   "execution_count": 1,
   "metadata": {},
   "outputs": [],
   "source": [
    "import proveit\n",
    "theory = proveit.Theory() # the theorem's theory"
   ]
  },
  {
   "cell_type": "code",
   "execution_count": 2,
   "metadata": {},
   "outputs": [
    {
     "data": {
      "text/html": [
       "With these <a href=\"allowed_presumptions.txt\">allowed</a>/<a href=\"disallowed_presumptions.txt\">disallowed</a> theorem/theory presumptions (e.g., to avoid circular dependencies), we begin our proof of<br><strong id=\"in_cart_exp_is_bool\">in_cart_exp_is_bool:</strong> <a class=\"ProveItLink\" href=\"../../../__pv_it/theorems/714466517f86a4389efda05352b9772ba2323f050/expr.ipynb\"><img src=\"data:image/png;base64,iVBORw0KGgoAAAANSUhEUgAAAYoAAAAZCAMAAAAYJZl7AAAAM1BMVEX///8AAAAAAAAAAAAAAAAA\n",
       "AAAAAAAAAAAAAAAAAAAAAAAAAAAAAAAAAAAAAAAAAAAAAADxgEwMAAAAEHRSTlMAq1RmmUTNIjK7\n",
       "EInv3XZehM4hfQAAAAlwSFlzAAAOxAAADsQBlSsOGwAABTZJREFUaN7tWomS5CYM5TSXUfz/Xxth\n",
       "wAYMtN3r2SSVpbZMzyDUlp7uWULeW9R7r8if9XwBao69yXD5o9PvF+f/eyhUsz9UoOAagBLgRn/D\n",
       "Rf2B4gwNrN6fLcvliipcKTKg4RcSPoai1Szbsnoqa3qEgh5UjL8BxYv8fsNirt5v3xPCOcL/shCE\n",
       "3tAjROQAH4U2Qf9qsRGLgx6hEPLQpHoDihf5/fyyS73fXSYYszUbWh5+0iv+lNPuYj9Dgep3Cj+U\n",
       "9AiFzmaszCsB6kV+P78Er/e710TUHgq8okMASqo2olP2uAUFZyl+ZPqQKzIsjr0CxYv8fn6tzd6N\n",
       "7gYrTV+5zRa1HgLNRqJncEOSTlc7v35AsVT0AYqcun896S5VKfAfSOJsqffOkgtcIo7coohaE0lT\n",
       "JFY00y18fj1CQRV3Ff2utjXA5lf3EhTv8fv5+OTq3WJdarUr/Fn1Qr/dNqeHTB0l0+shbVvw1NX0\n",
       "OxRiZ2vsAxncDIon/MRN81Xnc14rPjrKBpx3EWpSIMKTeenBN1x08Da8cLHedYTCL+vmha3odygU\n",
       "zY/75jSDYsZPOgAOunivA107Zs3l+SRzvqINQW4RXrA+51z1pJ2roGVLKP/UKlkw2zZIMGydd1ox\n",
       "QAGXyWMSfYzrwYCdnHeFXgQKvtLPUEz4sWCaeiMdKFKzYzsQxt9dTzRQY2TNV7r6DNCDFWO6OCqy\n",
       "tqz2QCQq7ekYbHFdy0Gx9VVWiNe9HqEImyvpIxRBkFHiyiIxuttt8qo5FGN+0QBoD4p0oxeEY6si\n",
       "5KWk1B2+0daOswAFvjnrlvwNFPvHKo7ZXkHOc8bol4hynV8/oEjCy9IrUAscRhW0zq0zBACCXEKg\n",
       "ywshx4OPkx+AUPjvqAJ5M6gxZYw1YXVewhdPuQ8YaNPXFnz3nHue7V7BY/S7lNdNgNqLI2RibfPV\n",
       "HR8NnUQ/GzJPZtcLKJaSPkHhWDKYdrp1isQ0kwpyvp57xckPFKGGLIeksG2G1+9Vf+6NgtRyPi0Q\n",
       "1EBobyuLK/gyUZ2hAYl11cfRtWk+doveT9e6KAEYqloMSkRuptdPKBiU9AkKlVJAO90qRMJoi24u\n",
       "70GR+QVfRjGLmGOZ2OgAihCbenFNmvOpbNBEaG9lBenJV9ZnwXq0AHmy6NSdcWebtgKhkKU5LBfb\n",
       "EN61NWu3Qh5cT0nCgRMVfW7HaNSWaqZbhUhsr07A3IIi89tjRxGObIwBAyjQ81kvTjJ6PpG1S+1t\n",
       "jGeGNXy1qc5iroiGrlsotC93K9CImeCsDkdG2qZ6lFRQOpwleDm7DstqzDmZPekvQ/J6ulWIFKCw\n",
       "Lmvb3R6SB2YZjGhuygygwA50b0aYgwrsqMGsx/DmIeDo8x0qviEKFWcJCugGKOJ1vffrZNMOPua1\n",
       "5rPrmf4CRT3dKkSK5SCDG9128TUrccuuVhs4CRoVPoJCm11XDFWm6SBtB61F+z97yIrvHp7PswiF\n",
       "hn7kPmZxgry1Hk4WD/oWina6dYoU+yugj6AgGKSx97LBOVhow8OUX43SNv4Uz9B3q7F//HU6xAhi\n",
       "Yh432ZQrvjvZccYWWJxJKd1ce1+jyOjou/V0Hn3Qt1C0061DJO1jD/8QijLiDybG/eLV6MrHz6fF\n",
       "10iatS4Ez6amTpVG76xX5eff2bcm+k8xPeg//kG1K+43UEh7HwoAvtXOpY4nuqycfY9Qz44U1Psv\n",
       "LlDf0v++v20PvqgHhWKXBJtaNBuKOpiNfCdzKi7Jv3m9DMXz/wfVI9fu2vvb4jn14q+O/vEF3q/8\n",
       "b4qEKnTSSBO+AAAAAElFTkSuQmCC\n",
       "\" style=\"display:inline;vertical-align:middle;\" /></a><br>(see <a class=\"ProveItLink\" href=\"../../../__pv_it/theorems/6b88fdf84a870d4ef2f198b9ae5b648f983d809f0/dependencies.ipynb\">dependencies</a>)<br>"
      ],
      "text/plain": [
       "<IPython.core.display.HTML object>"
      ]
     },
     "metadata": {},
     "output_type": "display_data"
    }
   ],
   "source": [
    "%proving in_cart_exp_is_bool"
   ]
  },
  {
   "cell_type": "code",
   "execution_count": null,
   "metadata": {},
   "outputs": [],
   "source": []
  }
 ],
 "metadata": {
  "kernelspec": {
   "display_name": "Python 3",
   "language": "python",
   "name": "python3"
  }
 },
 "nbformat": 4,
 "nbformat_minor": 0
}