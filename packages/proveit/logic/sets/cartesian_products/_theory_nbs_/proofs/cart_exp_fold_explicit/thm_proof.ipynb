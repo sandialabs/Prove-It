{
 "cells": [
  {
   "cell_type": "markdown",
   "metadata": {},
   "source": [
    "Proof of <a class=\"ProveItLink\" href=\"../../../../../../_theory_nbs_/theory.ipynb\">proveit</a>.<a class=\"ProveItLink\" href=\"../../../../../_theory_nbs_/theory.ipynb\">logic</a>.<a class=\"ProveItLink\" href=\"../../../../_theory_nbs_/theory.ipynb\">sets</a>.<a class=\"ProveItLink\" href=\"../../theory.ipynb\">cartesian_products</a>.<a class=\"ProveItLink\" href=\"../../theorems.ipynb#cart_exp_fold_explicit\">cart_exp_fold_explicit</a> theorem\n",
    "========"
   ]
  },
  {
   "cell_type": "code",
   "execution_count": 1,
   "metadata": {},
   "outputs": [],
   "source": [
    "import proveit\n",
    "theory = proveit.Theory() # the theorem's theory"
   ]
  },
  {
   "cell_type": "code",
   "execution_count": 2,
   "metadata": {},
   "outputs": [
    {
     "data": {
      "text/html": [
       "With these <a href=\"allowed_presumptions.txt\">allowed</a>/<a href=\"disallowed_presumptions.txt\">disallowed</a> theorem/theory presumptions (e.g., to avoid circular dependencies), we begin our proof of<br><strong id=\"cart_exp_fold_explicit\">cart_exp_fold_explicit:</strong> <a class=\"ProveItLink\" href=\"../../../__pv_it/theorems/240b722e77e56f6df659c98bcdeefd2e1754a5aa0/expr.ipynb\"><img src=\"data:image/png;base64,iVBORw0KGgoAAAANSUhEUgAAAnwAAAAZBAMAAABZZe6lAAAAMFBMVEX///8AAAAAAAAAAAAAAAAA\n",
       "AAAAAAAAAAAAAAAAAAAAAAAAAAAAAAAAAAAAAAAAAAAv3aB7AAAAD3RSTlMAq1RmmUTNIjK7EInv\n",
       "3XZ/CtNrAAAACXBIWXMAAA7EAAAOxAGVKw4bAAAGrklEQVRYw+1ZXWwUVRQ+OzPb2U67w0QfDMQ0\n",
       "a0BNqOJGCooPWKCVxgos5cFAiWzkgciDDi8kGLAr4QGk4kZDYEmEUYixkpSFBxSIZJEQjURtiD+x\n",
       "ySbTtIjwsNYYBcWk3t+ZOz/bnbDRrMaT3Lt37pxz5t5v7vmbBYhCsfJ38D/5SS9ficbY9O/al8la\n",
       "PaRGeAbM/y/Cp6doq4vidvh8x+MVY/wgwHMUPgP/zK4NXyS+xqB21uqj8cCM1HVOXrfgIlyAMfR+\n",
       "0gS+bnxjU234IvE1BGlZ2uqkJss/cxi0I+pwFm5BL7raTOB7Fdt5vjZ8kfgagpQ0bXWS3OnXiyYW\n",
       "QsxOlACHjA4CHwa5JVUbvkh8DUGtrNVLnzNP+nb5WzKYkcMerzWn59VJNGy1MHxyOkJkQAyR+BqC\n",
       "HmCtXtpIQ8iL3Ig3IAR2wwA6f3IeHcSmNIm8X5TLl6NE3ih8DUG9rA2PvX9OMBetMmvvqWkFfQIn\n",
       "Sb/VcYEnbqMzB6uhyVTbsCkaBL4egENR4IvC1xC0kbVOvU0ZEVwXjNkrphX0CSwEb7SUp6buEX1j\n",
       "lsC3BVQjVFuLF76qfFGIueEHQ9M0lhaEJrqB7Euqkg/rzugKbbIp/xETIshj8KR197SxwifwEOmF\n",
       "ED585E9xISUCX7PVkvHq2dGbkS/g1+WBL8gXgfori/GJBxqy5YCC+PnxHxm2C0KFFf/kgrAU19WC\n",
       "6BJtCVDw1o/y/efgKdQfPzmr2lqZgENvkEnks8rf86lVwgYSkwQ+yRYjQmKskJGMs/B0AD4vXzSS\n",
       "bLoIBt874r19M/cDzMOr6CeuyfCtggrHi76kzmcBPi0CfCg2oqObqLjm+CUxg2kMuNVz1teT5zm5\n",
       "mozdn+Aa4/T0QXaxINOFDou0WIFiAD4vX+QcIibA1y1mUT24L+FyhiSoSsa3Cia82Zd8eQ+wX4tg\n",
       "vChUmpoFkgNf/CZ8AL/CQK7qcomAQw+T3hHH735AuI0VY/hOoRXKy/aN6YtytBSRdj5rF1u6VnR1\n",
       "e+DDfFBZPsGdjzB0yTs5I81K7zxfinOf1kS/4NqbpJNJQZisggn7giVi0ydeWe6trFwttDggbShz\n",
       "L3bfBD60a21/rIQOxRMYPitYqQAX4EgALKIbEtHsFV1lnsK3HdnD0fXpVkM3YIjgmjt7f8jpw3y6\n",
       "ObOJLVMYCg7cO6lPvQUufGrWvc+M4qffEVISdltbBeEhQXiO9wGI7Vos/zzftV8LTzhQe+S1Z6CP\n",
       "wqf9hn5vHSvFsfaPySWcyNJ594oKcCQ4Vs52VhRJruIe/CKFL4agfvkHlFSjiTUUPkXPB+HDfDIc\n",
       "ToB6iPoCNOyb8BoTmRTo3VWGC18878rHaYjT5vxM5gHWChrXCMJrvfChy3Szze0voAXT67Qdq0jL\n",
       "Uuz0lS3QVtpzHsVudZRcQhKj/TWwLjnKBTgSAN9Q3TPXseRh9ZK7PHaQET5YtcEgJFOwsFAopKSc\n",
       "VswG4aN0E2DnqDMsaZO+83dTvLAgPunCJxmuvPxCofAmtpkNaEf47n2CRrIKJrzHqx6zzXDcQ0AL\n",
       "2VeONtdFgeSa6zbLc8lpLviQAJV5vfgZVrT5aIf4ve8zuA4DCdhLTx/02YG8j8XEEvJHo87QRPWz\n",
       "N/qjyY7ZHX0fkSen+FcG0uMNcvkEiajIuLYxs9sjaNwrCPuMF7MNgikvnd/dngtq4bW+W+8T+Nyt\n",
       "qJ2qKe6MkxvgGRI1vzosE+BTJxHqixSU3NH0TDfCP5dub8kqZPvH2bA5g4ZakXdkcl6+NdOOWRQD\n",
       "YqYndDjytIJZAoASed1GsklwNZJVMOGKoJ2wqaXT0Cldh0tS0aeFL/IAay58w+7h273LEi6d0OEI\n",
       "cyTwG5n2a3RegC9uoOpkyw1QD2LHsYl9HQ3Cp1w9f4NsfzBFhz14mPgUBk3c0cnm3HuwlLDs6v1Q\n",
       "CB1oT448bMPm1dN1DiHUbCY+QR04GskqmPABQDepdsa2sr9iwUEtq6R8Wvgih5zog1Sdvm2LtctX\n",
       "U1MhpYxQs3Ak3BcQTuRxgY/1xwuFTM2P9Xj7NCC1WDYfgjOZhHYYSYvzDL5+QV47U9jvbldy8mOi\n",
       "0V0Fjq2Sm2s5bCNSMSn7tXDIbNrq++Jf48+Sa3f8X8e+yymIU+/70tQIH+I3Z7EE8yq0mcI8h08x\n",
       "HXmRUBa3jvRco5gemOQmI4dNM/RM7Jpfyz9Od/xXkRw2lKuxMPjgbGipjg5aGh+7sJu4xHV9eFW2\n",
       "sHq6geCr939e003uQzN+muWEkBVhprrqv5f08sW/AGYe/8lGa447AAAAAElFTkSuQmCC\n",
       "\" style=\"display:inline;vertical-align:middle;\" /></a><br>(see <a class=\"ProveItLink\" href=\"../../../__pv_it/theorems/c45ca1def4add9d5461e29a80cb5fa3e24e3ab940/dependencies.ipynb\">dependencies</a>)<br>"
      ],
      "text/plain": [
       "<IPython.core.display.HTML object>"
      ]
     },
     "metadata": {},
     "output_type": "display_data"
    }
   ],
   "source": [
    "%proving cart_exp_fold_explicit"
   ]
  },
  {
   "cell_type": "code",
   "execution_count": null,
   "metadata": {},
   "outputs": [],
   "source": []
  }
 ],
 "metadata": {
  "kernelspec": {
   "display_name": "Python 3",
   "language": "python",
   "name": "python3"
  }
 },
 "nbformat": 4,
 "nbformat_minor": 0
}