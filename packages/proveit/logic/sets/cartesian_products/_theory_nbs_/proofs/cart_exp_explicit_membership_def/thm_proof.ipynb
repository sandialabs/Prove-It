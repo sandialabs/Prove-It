{
 "cells": [
  {
   "cell_type": "markdown",
   "metadata": {},
   "source": [
    "Proof of <a class=\"ProveItLink\" href=\"../../../../../../_theory_nbs_/theory.ipynb\">proveit</a>.<a class=\"ProveItLink\" href=\"../../../../../_theory_nbs_/theory.ipynb\">logic</a>.<a class=\"ProveItLink\" href=\"../../../../_theory_nbs_/theory.ipynb\">sets</a>.<a class=\"ProveItLink\" href=\"../../theory.ipynb\">cartesian_products</a>.<a class=\"ProveItLink\" href=\"../../theorems.ipynb#cart_exp_explicit_membership_def\">cart_exp_explicit_membership_def</a> theorem\n",
    "========"
   ]
  },
  {
   "cell_type": "code",
   "execution_count": 1,
   "metadata": {},
   "outputs": [],
   "source": [
    "import proveit\n",
    "theory = proveit.Theory() # the theorem's theory"
   ]
  },
  {
   "cell_type": "code",
   "execution_count": 2,
   "metadata": {},
   "outputs": [
    {
     "data": {
      "text/html": [
       "With these <a href=\"allowed_presumptions.txt\">allowed</a>/<a href=\"disallowed_presumptions.txt\">disallowed</a> theorem/theory presumptions (e.g., to avoid circular dependencies), we begin our proof of<br><strong id=\"cart_exp_explicit_membership_def\">cart_exp_explicit_membership_def:</strong> <a class=\"ProveItLink\" href=\"../../../__pv_it/theorems/19d8896652f9d2253b770bf34bc203c31aff08e10/expr.ipynb\"><img src=\"data:image/png;base64,iVBORw0KGgoAAAANSUhEUgAAAycAAAAXBAMAAADjFS2qAAAAMFBMVEX///8AAAAAAAAAAAAAAAAA\n",
       "AAAAAAAAAAAAAAAAAAAAAAAAAAAAAAAAAAAAAAAAAAAv3aB7AAAAD3RSTlMAq1RmmUTNIjK7EInv\n",
       "3XZ/CtNrAAAACXBIWXMAAA7EAAAOxAGVKw4bAAAHdUlEQVRo3u1Zb2wURRR/3bvrXvfa5fwXhJjm\n",
       "EqofLGA1pVo+wCFFibV61EQTbPSiH0j4IMcXEhXoSvyAUup9IVIS4IyEWAn1IDFRCOTQGI1EPI2Y\n",
       "il5ypaBCQi0SBNHknJnd+bOzc7dbLvETL3mX2Zn3mzf73s57b+YA/OnSONRNusD1zjPTcf2mcHqd\n",
       "K+GUCSbisFmygkz6cf0+gbMC10ORsro/tHx4wuy2lONB9HpxZ29yJR4yE/4yLwgcS0Ec983zcUoA\n",
       "odqk5TnXR5Perrbe/KL3Bzqa42ZcNe6rF+M9uJkjqlG7j2l6joZSZgdynsPIKSvwwBofpwQQqk37\n",
       "Ba6PGnNyT1MZRqdf+xVmWeG8atxPL8EzXCzBUcEQh9VCdCIjXfuF9oCxF2AtMEZOeQOHx6yPUwII\n",
       "1ablAtdHoaTc04M609AKQ9CSUI376bXxFHcwzVGBEMaPaiE6Ubij5vuE0SxdAJ3AGDkF+zuW8HFK\n",
       "AKHaVBC4TvraidS7S441rpP4/hVcgMEoH/fqliK9hKe4ybs4KhDCfDCljrPORM3K0Qulku20WRbJ\n",
       "JM05xsgpIeTIRr9EH0CodtxMc66XXrbT7Cs0TEWuAEQtfRrtle4wG/fqltK0hGe44lsMFQzRElWH\n",
       "EGciuE81+OxF2noRmXYrsm4HY+QU+KZUOulbffkL1d6jec7G1NxtQhiWHhUkSRwivxtY6jAqn2BD\n",
       "xVHOW3+RjXt1u6eR8RSn5RszFBUM0a5OtnQi6EU8NvHBUTHQ6GtZ86N/SAUcizPGTlkJsMvXKf5C\n",
       "tbMz/w4gDBPlPsFm7keVR90SXSBVHUsrl8WTABnvK2H6TtTtnsaLt+dtzGhJigqGWANtyld2JiL7\n",
       "KWm2houuQZ4jK5XZQHIUZeyU9aDH1eWD4JSqQsEIZ2DKD8PS3B18SHpUkCQxn/wK0cW4UBETwPwq\n",
       "ut3TePE2DpU0ZygqECIah5acYtV0IvgeWToTutEg5nsxFYzt/RdvrAJj7JSmXEzKVJt6U6ET+EPh\n",
       "TvEKBTnoHZ/83Ul2Kc4WPIbfq8sRsh8PHJpbdRpbgtE7xBQonpZ+YnvpqjwukFKvAm/j7gaYoijX\n",
       "0qohGiwwVcdIOhF8gbAQdqeoIbyPWSp6GumKTjPGltbKot+iEyMpLX4EnnA7xS0UkBYSNbJTAE4h\n",
       "Hr7ExPBjEmqFsFPiwwD5VnlyRV+g8ac8rnCKS68CP0APFQcpyrW0agh0njGKikRIJ8JOQdO5/TbK\n",
       "oxdOK2hXRgqMyeefXiKW4CjtaEvCkHc7xS0UvA6Oe8MXRK7BhwAL2H7Cj1dhsPqNjw2gZAOZHQyk\n",
       "Qr8B0riQU9R6vfgF9MQXToCIoEurgsCVwKPqoyOZCIcvVGNlDDHGtbDWe4gH0ZBWZEyccngtvzrC\n",
       "x3zQtjxXzsd6+npWcKdgIZh6/BzNUEKTk9R5hd3FoSMwZWNHQwG7HL8RWozzuBi/ueF9Ny7R+chU\n",
       "fHIn6uq2VbEqp2iXSoy6vcdvWa8S302tpadBRCx2nFIFgX21QZFF6UToxA6jqXtQhqY2xmebsvgJ\n",
       "4foslGVMnLIReZ5eHZF9pVlH7pV3ChYyM3MancJOaAqnK6nzj79pchMKPu36vkIkQVZj/AXsEY6h\n",
       "bZy2+3iDSxiLPocTMOG8AkqVVFH4Z6kK7pW/WY9eNZ7gSDzYCS4EXlpVRAibt8kCafV8Iiz6wNtP\n",
       "Qj+zMaaX6Or68mSB4qGBOAWlKqBXR8/YTgmbWckpWCgEe6Kg77JDIWr2n3Mnf9IpxtW2yzRTFRkb\n",
       "T5XbHnI+kVKOPUZRqdKCy5Uf8GeWdBpcQh9Lo4M0NsNpe+45qx0TRe68zfV5nJacotCrxBMcyenD\n",
       "4EJEz9RANOCoFC2LiyYNNhFsB9g3pS1PMBuTqLXDiWbJVctuJzsrxZiXVM7VUdfIyEhCs4x8WnKK\n",
       "TdcAtpxhzYIxLRngmssnKJTS9rjAfN9qPM6+ipv3e49gTKKhHC3g+Kw7sT3yaUl56aR7sq5Xrwov\n",
       "48bdSwuAqHYcsCQbE3p+d8lVkG3izJ3iXB1ts3cK9Jfd5xTnoyvotPrGzUxUuiDCnZ3zOvvtA28/\n",
       "eh86Ity3CcaJ8RdM6ij95KuflaDZMrP6tOV3v6cY9+oNgut0Ly2QJp8bVHY9V/vGljmFXh014a8i\n",
       "lAIz7j7RE9oYS4eJUw44zaYUGHn0RH6czoXZ5lQ74K5lALNZts1w5sYZ41/j1jdRoPLW+1xiEO2V\n",
       "UDbJ/VyFvONevUFwDEGWFkyTmt6VbKzc31nOzCn06kjHuWn7GlbLupwSPn/8InHKUMJurkSb4zMY\n",
       "ykS/RD9OZ5O1H5eIqH9lz1FmClzlUyb0+rrjANwJ31YqqFDwLpZLrILGjN6aY6/oZwIhjHr0BsEx\n",
       "BFlaME1qGpVsrPyHRvhovcf0AyMjnr5jrv/ocfiyA2Msh2ymsYGEUwu2Q7FD7Ce0WeB6yMzMfDyI\n",
       "Xi9uc50r4bug7C/zG2fzl5nfnQyfTEDE3s/rKijVrWZHvJxzGjoPrRmh/xb9PxQS2h2qTrH/Fs2Y\n",
       "/gMm4LAlh29Q9QAAAABJRU5ErkJggg==\n",
       "\" style=\"display:inline;vertical-align:middle;\" /></a><br>(see <a class=\"ProveItLink\" href=\"../../../__pv_it/theorems/f04d1f5f6484abadd680a16a54bddcad4aac1e680/dependencies.ipynb\">dependencies</a>)<br>"
      ],
      "text/plain": [
       "<IPython.core.display.HTML object>"
      ]
     },
     "metadata": {},
     "output_type": "display_data"
    }
   ],
   "source": [
    "%proving cart_exp_explicit_membership_def"
   ]
  },
  {
   "cell_type": "code",
   "execution_count": null,
   "metadata": {},
   "outputs": [],
   "source": []
  }
 ],
 "metadata": {
  "kernelspec": {
   "display_name": "Python 3",
   "language": "python",
   "name": "python3"
  }
 },
 "nbformat": 4,
 "nbformat_minor": 0
}