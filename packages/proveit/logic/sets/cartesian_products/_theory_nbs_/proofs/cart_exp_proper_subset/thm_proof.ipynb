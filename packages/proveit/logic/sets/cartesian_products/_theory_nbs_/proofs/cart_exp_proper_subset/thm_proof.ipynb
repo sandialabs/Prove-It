{
 "cells": [
  {
   "cell_type": "markdown",
   "metadata": {},
   "source": [
    "Proof of <a class=\"ProveItLink\" href=\"../../../../../../_theory_nbs_/theory.ipynb\">proveit</a>.<a class=\"ProveItLink\" href=\"../../../../../_theory_nbs_/theory.ipynb\">logic</a>.<a class=\"ProveItLink\" href=\"../../../../_theory_nbs_/theory.ipynb\">sets</a>.<a class=\"ProveItLink\" href=\"../../theory.ipynb\">cartesian_products</a>.<a class=\"ProveItLink\" href=\"../../theorems.ipynb#cart_exp_proper_subset\">cart_exp_proper_subset</a> theorem\n",
    "========"
   ]
  },
  {
   "cell_type": "code",
   "execution_count": 1,
   "metadata": {},
   "outputs": [],
   "source": [
    "import proveit\n",
    "theory = proveit.Theory() # the theorem's theory"
   ]
  },
  {
   "cell_type": "code",
   "execution_count": 2,
   "metadata": {},
   "outputs": [
    {
     "data": {
      "text/html": [
       "With these <a href=\"allowed_presumptions.txt\">allowed</a>/<a href=\"disallowed_presumptions.txt\">disallowed</a> theorem/theory presumptions (e.g., to avoid circular dependencies), we begin our proof of<br><strong id=\"cart_exp_proper_subset\">cart_exp_proper_subset:</strong> <a class=\"ProveItLink\" href=\"../../../__pv_it/theorems/d1be9496d0988b8580f53c21c5ee303dd862ef300/expr.ipynb\"><img src=\"data:image/png;base64,iVBORw0KGgoAAAANSUhEUgAAATAAAAAZBAMAAABEAW+KAAAAMFBMVEX///8AAAAAAAAAAAAAAAAA\n",
       "AAAAAAAAAAAAAAAAAAAAAAAAAAAAAAAAAAAAAAAAAAAv3aB7AAAAD3RSTlMAq1RmmUTNIjK7EInv\n",
       "3XZ/CtNrAAAACXBIWXMAAA7EAAAOxAGVKw4bAAAECElEQVRIx72XTWzTWBDH/7Xj2HGKcSVAXIBo\n",
       "Vxz2RCQKogcgFQXBZleE7QGEEIQDQsCBcOUrhhviK3DCCLZBICS0WxRWXJYctqWHZbXaVQVIcCCS\n",
       "CxIIhCAU6GZBfDy/F9vPjUNcEB0p8ceMn39vZt68MRBG2ip3MJmiVW6GM4xismX+JIDJ7lnnomf6\n",
       "g1PN7BxtbrLA7jO8LNQFQxjESBMzV7uRgen24dvWYKHsgkQosSGqkC9nUUO6waLrQ0fHNsPVakkK\n",
       "ttxWbW0NFsouSC6yw7wqWUOWMoCAtP6LqGqedjsFO2C7udAaLJRdkCxjh+7/gHZDK8hVoyEJ3wPS\n",
       "K0/bScGiRSCeaA0Wyi5IBuh/fE8NyBOviIUUqwhnK5UKYxSJSnzvaduLNpiYDJHbxCCUXVCKZelh\n",
       "vzYKrEE0J88u2tfKjpxXJUmUo3962miSrsp/KpW/w6zKMHYBEmG5nxJe+m73e1xoL0CdxQU4rlOw\n",
       "lcDpwCHjfjDXrjjuze56D56TvcYgJZS3vtvTufPjPz+bkeSuxSwF2wVZD56rH8yxU2/QW4delVfR\n",
       "WcYco1/dSSt96atOHZ2SYGPJL3yDZ7nz5zkIQ3z0ByhYrBjP+In2pTPiYAOYYxcfZdMahjbgA/uD\n",
       "IChXTJMEaTHw1IkTfehxT/f//CsU3hdn7Ie5UCpVCiZYfE4rI2ZG0K/h+wYwx27dvyxjUxCrPJh0\n",
       "xALSbPxpwFIeTCWqd74KwYPZvlxqedcS8xiySzijHjKysCSCUrznx57lvi2pbmdtZi9MoD/Jg2lR\n",
       "3a0n16He4kNpz/GeLyrDnC/sZTGHi5owzMB+I5VWXHZsROsy2HYgHFxrlRo8Ru3I+7GC3so/6JwJ\n",
       "HsyKZHHOqZjzu53QxGxX9JLfzqCyS0ckpVcZ45O/wMD2Eree35Bs1zUdlyixcW1uANhe6v519exZ\n",
       "DHUaDyYZJOV64eTfuRS39mU7GftyvsXqeShKtBu2j6swNlgbmdzuh5hqkBu9DCyiFRrB2qgT0uU5\n",
       "xXoa5TMcWKR85Q2+gZN/8msnUMNQ+8aK+O7DDl8vcWK9U177XnTMOMnrpmS4tmc2jtjpsNA0zYRg\n",
       "qKVsQx2r+53wGCyNsIkvFxbkGvbAyT+p5jxxN7jwSr+7W9J42cf3YzfwGHkFh5nH8JPVpB8jLp2a\n",
       "UEuQ30C9zYVSIsk5ihgLV76I/pTb/33Wtu+AyVXis64IKVZ2imSg6cFgkUGoq7co17HwbXlVggP7\n",
       "QceFsYxKy6q4s3zVi00sN9GOt8CBSTrptXY9gWyPfHRrvS9s2sEK3HnMt42ZtMD6smmivRKdSUNr\n",
       "/YtpZlq31uubgQXJ/gmCPfqCnj85EbCv+pX0ie9K+at8Vw59BK8sAggoqGchAAAAAElFTkSuQmCC\n",
       "\" style=\"display:inline;vertical-align:middle;\" /></a><br>(see <a class=\"ProveItLink\" href=\"../../../__pv_it/theorems/7fc6a2b24beee970fb4a3265d258bca38153abbd0/dependencies.ipynb\">dependencies</a>)<br>"
      ],
      "text/plain": [
       "<IPython.core.display.HTML object>"
      ]
     },
     "metadata": {},
     "output_type": "display_data"
    }
   ],
   "source": [
    "%proving cart_exp_proper_subset"
   ]
  },
  {
   "cell_type": "code",
   "execution_count": null,
   "metadata": {},
   "outputs": [],
   "source": []
  }
 ],
 "metadata": {
  "kernelspec": {
   "display_name": "Python 3",
   "language": "python",
   "name": "python3"
  }
 },
 "nbformat": 4,
 "nbformat_minor": 0
}