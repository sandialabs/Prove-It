{
 "cells": [
  {
   "cell_type": "markdown",
   "metadata": {},
   "source": [
    "Proof of <a class=\"ProveItLink\" href=\"../../../../../../_theory_nbs_/theory.ipynb\">proveit</a>.<a class=\"ProveItLink\" href=\"../../../../../_theory_nbs_/theory.ipynb\">logic</a>.<a class=\"ProveItLink\" href=\"../../../../_theory_nbs_/theory.ipynb\">sets</a>.<a class=\"ProveItLink\" href=\"../../theory.ipynb\">cartesian_products</a>.<a class=\"ProveItLink\" href=\"../../theorems.ipynb#cart_exp_subset_eq\">cart_exp_subset_eq</a> theorem\n",
    "========"
   ]
  },
  {
   "cell_type": "code",
   "execution_count": 1,
   "metadata": {},
   "outputs": [],
   "source": [
    "import proveit\n",
    "theory = proveit.Theory() # the theorem's theory"
   ]
  },
  {
   "cell_type": "code",
   "execution_count": 2,
   "metadata": {},
   "outputs": [
    {
     "data": {
      "text/html": [
       "With these <a href=\"allowed_presumptions.txt\">allowed</a>/<a href=\"disallowed_presumptions.txt\">disallowed</a> theorem/theory presumptions (e.g., to avoid circular dependencies), we begin our proof of<br><strong id=\"cart_exp_subset_eq\">cart_exp_subset_eq:</strong> <a class=\"ProveItLink\" href=\"../../../__pv_it/theorems/463a5648ff1f85b0b1322012009320e891182d290/expr.ipynb\"><img src=\"data:image/png;base64,iVBORw0KGgoAAAANSUhEUgAAATAAAAAZBAMAAABEAW+KAAAAMFBMVEX///8AAAAAAAAAAAAAAAAA\n",
       "AAAAAAAAAAAAAAAAAAAAAAAAAAAAAAAAAAAAAAAAAAAv3aB7AAAAD3RSTlMAq1RmmUTNIjK7EInv\n",
       "3XZ/CtNrAAAACXBIWXMAAA7EAAAOxAGVKw4bAAAEE0lEQVRIx72XX4gTRxzHv7ebzW4257oHVvqi\n",
       "BksffDLgKd6DmsNTtKmY9h4qIhofRFTQ+Fr/ZNu3UltDQTCivUhLQfQkii81D73zHqqIcrSCPriw\n",
       "p6AoovFPr6nin/mTzc5eNs2epRm425n5/XbnMzPf+c0vQJjSZd9EJ4th/xHOMYpOl0UdAFMbtd6l\n",
       "j827R1v5udZcp8DucLws9MVjGMVEC7eGdTMHM+njo/ZgofyCilTmn6hCPZtFDekmj763PT07rIbV\n",
       "SDKwVdS0vT1YKL+g8gt/LKySM+RoI6jL2jhh27bF61eIqeZZdzKwr+gyF9qDhfILKiv5o/9voNsy\n",
       "CmqV0Wi7c54I3wDKC8/ay8CiJSCeaA8Wyi+ojLD/8X01IE9WRS6kaHvY44JMTPIbz9pdomByMoS2\n",
       "iUMovyCJZdnjoPEM+AzRnDq3RNsfiFGS7HL0d88aTbJTec22r4Y5lWH8AkqEaz8lPfd1Z4V6dwH6\n",
       "HMtrx00GtgY4FvjJuB+s4VeaMnLjvAfPiZ4xKAntldirmULj8I+PZyeFtpxlYHuhmsFz9YO5fvpl\n",
       "1vXNi8paNsuY63SGNOPFYjEHbSh9wY2jMxL8W+pTX9AVh3ySgzQm7v4IA4uV4hk/0YF0Rh5tAnP9\n",
       "4s/4tMZhjPjAfktAP8Kry4BH7j6xlx4M9P/jG2NcqB+nLwtbqVUZmOSImtYmihnJvIhPmsBcvw3X\n",
       "uWJTkKsimHLIQax+1mYBK0Qw3QFeBwURVuharnC8tsJXDNnlgtMAIZeWR1COD6wbWOW7kup+zlY+\n",
       "YALDSRHMiJrYV69fgv6nuJV0jrf90vN2SaPHYp6wa9I4BztPIq288vsJo8/i14H09RdOuWnFmB8Z\n",
       "H6tZV/5u74cQwZxIFvPdiLmo392aGF2KQfK3x38z9mxs5Dgk9GqTovgLHGw/EeJPm5LdpmHiFCO2\n",
       "Ln4cALafCXZDXT3LoM8SwRSLSG4Qrv5OpoSzr1IxDuV8ZMqv7pUUJdZNO6dEGArWRcxf3sNMi3QM\n",
       "crCIUWgG62KfSVfmleoyymcEsEjl3EuchKs/9S93o8ahD02WsODtrhZJ6NDTntk/iD0zMkLaMxeH\n",
       "qByWkOOekCy9nG2KY/V1JzwWlxG2iOHCgVpz7yyiP6XmvnFr2jH5gJiPXcYD5DV8y1cMnzst8jGy\n",
       "pDMTehnqS+g3hK1UiDhJHEkz1nwJw6lG/vde174LplbJmvVFSLCiEsnAMIPBIqPQ12/TLmHJq8ra\n",
       "hAD2qYmfJzNEOSTAynsqF7y9ieWCBl9n217aMyXjLQhgiklyrb0PodKA/d32el7YMoOVhHqszfz1\n",
       "6eZKbCZNqfXpYjHTPrXeOA0wHJwm2P3/kPMnW4B1Fdld2cFfSf/yu1L9X35Xjr0DxHcJgCcJ0fsA\n",
       "AAAASUVORK5CYII=\n",
       "\" style=\"display:inline;vertical-align:middle;\" /></a><br>(see <a class=\"ProveItLink\" href=\"../../../__pv_it/theorems/f4913e9eac84d0330c69581b7197019a013d751b0/dependencies.ipynb\">dependencies</a>)<br>"
      ],
      "text/plain": [
       "<IPython.core.display.HTML object>"
      ]
     },
     "metadata": {},
     "output_type": "display_data"
    }
   ],
   "source": [
    "%proving cart_exp_subset_eq"
   ]
  },
  {
   "cell_type": "code",
   "execution_count": null,
   "metadata": {},
   "outputs": [],
   "source": []
  }
 ],
 "metadata": {
  "kernelspec": {
   "display_name": "Python 3",
   "language": "python",
   "name": "python3"
  }
 },
 "nbformat": 4,
 "nbformat_minor": 0
}