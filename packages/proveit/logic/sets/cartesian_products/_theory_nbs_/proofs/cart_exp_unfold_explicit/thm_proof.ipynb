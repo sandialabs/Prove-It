{
 "cells": [
  {
   "cell_type": "markdown",
   "metadata": {},
   "source": [
    "Proof of <a class=\"ProveItLink\" href=\"../../../../../../_theory_nbs_/theory.ipynb\">proveit</a>.<a class=\"ProveItLink\" href=\"../../../../../_theory_nbs_/theory.ipynb\">logic</a>.<a class=\"ProveItLink\" href=\"../../../../_theory_nbs_/theory.ipynb\">sets</a>.<a class=\"ProveItLink\" href=\"../../theory.ipynb\">cartesian_products</a>.<a class=\"ProveItLink\" href=\"../../theorems.ipynb#cart_exp_unfold_explicit\">cart_exp_unfold_explicit</a> theorem\n",
    "========"
   ]
  },
  {
   "cell_type": "code",
   "execution_count": 1,
   "metadata": {},
   "outputs": [],
   "source": [
    "import proveit\n",
    "theory = proveit.Theory() # the theorem's theory"
   ]
  },
  {
   "cell_type": "code",
   "execution_count": 2,
   "metadata": {},
   "outputs": [
    {
     "data": {
      "text/html": [
       "With these <a href=\"allowed_presumptions.txt\">allowed</a>/<a href=\"disallowed_presumptions.txt\">disallowed</a> theorem/theory presumptions (e.g., to avoid circular dependencies), we begin our proof of<br><strong id=\"cart_exp_unfold_explicit\">cart_exp_unfold_explicit:</strong> <a class=\"ProveItLink\" href=\"../../../__pv_it/theorems/80add890581012efdef83872d811e382ecb990c00/expr.ipynb\"><img src=\"data:image/png;base64,iVBORw0KGgoAAAANSUhEUgAAAsgAAAAZBAMAAADeeMXmAAAAMFBMVEX///8AAAAAAAAAAAAAAAAA\n",
       "AAAAAAAAAAAAAAAAAAAAAAAAAAAAAAAAAAAAAAAAAAAv3aB7AAAAD3RSTlMAq1RmmUTNIjK7EInv\n",
       "3XZ/CtNrAAAACXBIWXMAAA7EAAAOxAGVKw4bAAAHZklEQVRo3u1ab2xTVRQ/e31dX1+3Uv8FIUpq\n",
       "mHyZzOoAgx9gwCZEHNaZaPgTafQDkUQpX0im/KnEDyBjLiaLlAQokRjnAhQSDX8iqRqCkaiNUaNo\n",
       "k86BOKITJAiipp77993Xvrav88tET3Je77vv/s5793fvPefcuwG4kTtzcfhfxibB3OfuGsbG3af7\n",
       "uFZrU62mtueWxN01oc1a/60kf8+1knjzTqjaEOWmZ7h6m6e4Iskh8jO1Ksl15EeLjBeOtTTTstK0\n",
       "OD0Thh1QtSHKSXOVz2s/7okGkS2iSHIHqVxVlWQ9ij/148Yzv8m1nPjzMHAR6lPsLhC2UO4Qh50b\n",
       "CUNmlaW9G8w9AKuBaSu8RFxRX1WSDTLju8eNt1jAtZy0A3hi4Gljd/tjFsoVwvzKuZEwpFde0jpa\n",
       "mQUwA5i20rELhKuSTIfk8LghOcO1yFPuynF2rjH/+jG7G77NQrlCBO+LOr5WGGpwfDqSy7FBmJCg\n",
       "3rghxbQVPDgo9S4CX+t4in9ajGlR2Ho+JUqXAQzs6TPsNrtVotwhGg3ntc0NwTSnh09cEKWVyOkW\n",
       "pDXCFKn7JJc77YLkhlzuu/R4IVlPMzVHJ2+zltc6wRiYhSP09xCPdyyYuEc0O0cpYQgWox4Yeuu4\n",
       "6gF8q2Xx4B8J6sFDTJHkRQA7XZCsJ8CfGi8kizmiw1C+U9YqxMwtXCJ0zGKt41qbQLlDrIImx9dy\n",
       "Q3S+twWn6FnbQ1n0FAoTgfp4qkjyWvCFnEOpjWRstHbsM4/PhJqykwo5a2OY6QMwN3WLUzZvjhSI\n",
       "A76H3mBsPyNQrhAY5RudJpQwBLiH88Q91+vU+Kf63AN7/iTdzTBFkv2pQJGX37A46nlfMiM+Zie8\n",
       "UzO53hPDP9L8iN3OHMvIKGakNESZJuAhwg+bfgY6vtw3En0FL6/S4u0AowLFEIOHJldC1CUg6DTE\n",
       "whCcRCzodhffg7Zy0pU/iu8yLjJFkrW8OgbGUDKqhY7BwyUkt4wh7rXQlwiSzVBtI0RCQO+kfmbG\n",
       "M7+1ozlRRDLAp6TNz8y8Faxwhpm/4u8KkdTuFyiGaIPOSgjMp81s6QdJQ4RkNGcfhwHLWxC3jKvG\n",
       "m2FKc4Y5arqI/dDm6JAuIbnek6+ZZHxDyCJZj9aGxkiiLxJmtBE4KXdswl2A9yq8DTCdx37JBr7U\n",
       "dx34A5Kg6mFQEVdgU6ICgkTG+c5bEWoI6JHPyrip+pRGWdqLugkfaVmmhOTD2BnPgt6h4OwE2wZq\n",
       "m5/MpwPtne0dKsmBaYgLnt24UKSYVlHJO+2Vl/kRiV9+xujCs8IxK0VL1Ers67BlZocZ08PW9oyo\n",
       "2V+XIdOBkzwqs4AsSyVgtnitLwYq4kFOchkE4X6dQyQQhnBHBwPROzBqCd5I1+UcnM7zD08fU0Ly\n",
       "ehzFN1ZEGkLBEJvzWuLY3aUz2YduGs7X9T3N65SiJUWVv/zOQgMjGb87GJ9Uz5lSisogqZVNYj1T\n",
       "M1kt3egRc4olR9q1fRlvWJIskfq3PBcjXQW6UHeADQHvVUDQJesnzB3Ejpu/8YJliDS995VHoEvy\n",
       "RkR2vDNNP1Ammq3MzcMLP+A2BSseZyTrwb4Skonbh4g/n4BuukpI0dvSYSeJPle8WNMlheSlxF3t\n",
       "NsC3k3kuLHadtbsQWilkKXgj0owZCkbrzovIkaVqLsk33Q+SZHPSMk6Z99abKH1fkguNcb1gQxhn\n",
       "KiDqSP8MwnQjydi+EAVpCLYD7BvVFoQlb9RL9HPv0fbYvJvpzI8ylUedU6CH+KxZyWQyrCXMdKyU\n",
       "ZLZjjIMxPSWKDXCwaCpOUD2AiY5LIfkucrkKsJn1kBQz5sUiA1et4lbwPJtMvmaZseRrrtb6pKHy\n",
       "aM526ODLlqKYdKfcIcqlkIki3qgs35Wz5QYbuEqSP4IR2GTANjaToStfnCeLRAW9I88hsejDi12w\n",
       "0soDusSZkp+ThhMk4xPJJinGjaLzBFI5Y+qMriPUXRhpmxlLxNmLneSSJDBSimJctvnirhBlRJw8\n",
       "Sd4qnmIJkn0XcUxm62xT54lCMOR4aO/LvIvpD5JsplkRMMEaxDt64ZU8D8DKeQATwRb41gdiOiV5\n",
       "kBf9UYHGC69s6WuINrOwRB2LNKMcTMaZVia52wHFHmx5OeUKUU5eL+LNScjZJj3fFCR7Q7iVXHsB\n",
       "fMSvb1/FM6/Smbxk+WiKkGx8wIq42YaesHEKeuLGKVHJ8gC8W9R+PK6QjH3Uz524QEnuCbMipmjY\n",
       "kKDxwiv9iTdpBoU96SYrQppRHFGfkuW+uOZEZSpUFJXPCgV3iHIyUMSb4wm1mAglf34aTCajjmcX\n",
       "qkciOSArHgviRaYDvJLnAZryPmt3QeSMBAVSebVhmM/4ZshGGJFHk/2OPdjItZIE406o2hBlxOdi\n",
       "z3Ce65j+xmf8hAksi8r1hb+QO7nylvHEnuUBy4pJBp5C954OC9CaQlZpyCv3wjmYgrP+RvkL+Zj/\n",
       "kBoB2y6ypNJ+x0kOpBxASkOPDT8T/lskP/cP/+9C/Km9prPS1I1BcTD34d8daTdUH313+gAAAABJ\n",
       "RU5ErkJggg==\n",
       "\" style=\"display:inline;vertical-align:middle;\" /></a><br>(see <a class=\"ProveItLink\" href=\"../../../__pv_it/theorems/d58fe5a3305e05a77b4ed0adb3861370ebd02c6d0/dependencies.ipynb\">dependencies</a>)<br>"
      ],
      "text/plain": [
       "<IPython.core.display.HTML object>"
      ]
     },
     "metadata": {},
     "output_type": "display_data"
    }
   ],
   "source": [
    "%proving cart_exp_unfold_explicit"
   ]
  },
  {
   "cell_type": "code",
   "execution_count": null,
   "metadata": {},
   "outputs": [],
   "source": []
  }
 ],
 "metadata": {
  "kernelspec": {
   "display_name": "Python 3",
   "language": "python",
   "name": "python3"
  }
 },
 "nbformat": 4,
 "nbformat_minor": 0
}