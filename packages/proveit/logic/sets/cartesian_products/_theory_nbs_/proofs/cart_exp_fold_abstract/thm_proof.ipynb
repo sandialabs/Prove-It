{
 "cells": [
  {
   "cell_type": "markdown",
   "metadata": {},
   "source": [
    "Proof of <a class=\"ProveItLink\" href=\"../../../../../../_theory_nbs_/theory.ipynb\">proveit</a>.<a class=\"ProveItLink\" href=\"../../../../../_theory_nbs_/theory.ipynb\">logic</a>.<a class=\"ProveItLink\" href=\"../../../../_theory_nbs_/theory.ipynb\">sets</a>.<a class=\"ProveItLink\" href=\"../../theory.ipynb\">cartesian_products</a>.<a class=\"ProveItLink\" href=\"../../theorems.ipynb#cart_exp_fold_abstract\">cart_exp_fold_abstract</a> theorem\n",
    "========"
   ]
  },
  {
   "cell_type": "code",
   "execution_count": 1,
   "metadata": {},
   "outputs": [],
   "source": [
    "import proveit\n",
    "theory = proveit.Theory() # the theorem's theory"
   ]
  },
  {
   "cell_type": "code",
   "execution_count": 2,
   "metadata": {},
   "outputs": [
    {
     "data": {
      "text/html": [
       "With these <a href=\"allowed_presumptions.txt\">allowed</a>/<a href=\"disallowed_presumptions.txt\">disallowed</a> theorem/theory presumptions (e.g., to avoid circular dependencies), we begin our proof of<br><strong id=\"cart_exp_fold_abstract\">cart_exp_fold_abstract:</strong> <a class=\"ProveItLink\" href=\"../../../__pv_it/theorems/40353b522816981fe77e298d32438f43df46bb2d0/expr.ipynb\"><img src=\"data:image/png;base64,iVBORw0KGgoAAAANSUhEUgAAAaYAAAAZBAMAAACItJckAAAAMFBMVEX///8AAAAAAAAAAAAAAAAA\n",
       "AAAAAAAAAAAAAAAAAAAAAAAAAAAAAAAAAAAAAAAAAAAv3aB7AAAAD3RSTlMAq1RmmUTNIjK7EInv\n",
       "3XZ/CtNrAAAACXBIWXMAAA7EAAAOxAGVKw4bAAAE9UlEQVRYw9VYX2gcRRj/bncvu9lLNosvsSjh\n",
       "xKoPYj3QFAsSrtyFBGPttYKlRNqjPhT7IFsEodKaU3xo9doeSohXMN2qD4ZCPPsQMcFwpYiFIgR9\n",
       "EISDDamtjXJGfPAvxG9m9s/s3i67CveQD5KbnfnN7Pxmvvl93yxAEku1voMtYlrrm2TAHthC9tgW\n",
       "4mRENz3+RFtfe8+GbCFOWjaySR2+BldhFeAQ46STn/vjOSXCddMeDq8Wikvigfky/AETyDtHOY2S\n",
       "hqPxnBLhumhqObx+FtSLkLKUJhBtOEY5vY7/5Vo8p0S4LpqUC6/OA+yEvopWkzcqeLAopx4TIJON\n",
       "55QI10Xr8z3dabXYvg1UyCmawp0Sa0ivzyScxFwCCUBAIlwX7UH+4bl1p3QYp3Ua9kGPIQ8hn54c\n",
       "1b2vW60bSXQvCa6LhgoA86sfLxFXkY+51Z/8XeFRGZ1yGge4EDpKxs8pFCd1yJARM7eHQuqsaAF3\n",
       "Sy/gX14bklbIdLyXiJubgxxeLFNOx0HWw4+fn5MfN9keIQvUG+w07LXxOO+lpUCHl3fc3bky1NLL\n",
       "az9C3nlCVRMN8a9ULhAu5y/+wy9pk3LqNTOB95yaKIlXOzj5cIIF5yHA6dy2aVB1r43HuXYpOPN7\n",
       "4GdIN8I47QBlAyadpy8BFJCYMFRbaK4G7+Wmjz0IJ8HiaSur9ZKgL8JTHZx8OFShVICTNE7+lew2\n",
       "Bac55i9TGw3O/DR8QcIKj3kbx0HvapJAT+TW4YTDMS+d87adHClOjdNsn6A8wr2iiJ4ijEjQyBT3\n",
       "FEd9uRHFtcduEmceyIHscdJuvjYGa6TU77b9RCMKX6a24iVnjn0LcMWH0RpQwJ/fSP7mhg+abR82\n",
       "VNN+i7ftUybneyuM0xVUEbFwblXbVWHJhfDGAavRsU8UpxnbeshbtM13weN0O1U7olJfeMVt06zl\n",
       "QJmYXPaSM9tu4dpv5zG4cBmyH7/8iZMR8m6+AHOle5lwaa6oPGIrortvNcbpJJ6BD5/P9emaznZV\n",
       "qCw+EMKJ4ESYVWjNB3t1j1Ou16qk6Sof9NoWrGCZ+EYNZCc5c5KeWdZtwVO/zEu0YfuvtAOzTwEe\n",
       "fetp2E8fjjjIPQ0q394BaDBOKXS3V29hRMaKZxknSat1ckpRAfudVpiQ3uDO04AB4ov1+jtwn9dG\n",
       "58iX6dA4ATs5U+poM1h3vgJnQjip6Gp4vh1OZwE+agsF5oqXpm1/y+/bfRd/OvtL3F1jCKrQn4Wd\n",
       "+J6sUFEb5Y74ZGtIk5yjdNbO/WxOVTAUql1n3DatUfCXWXd8cpMzuhnXYSpHfc/F4NkiRwt35ATn\n",
       "e/2+kDD5fis0pz3F35+uwx2YUojkkH2C/Vb4/elkpizBZZB0SBkuJ7m5gHHkgq0Rdhs983xZbWBH\n",
       "ohFuckbte3jShLYPwzRiN8Agd3TEfJJso8Bxkjdwp3ZJGIRYXNT0cE7SD8vrUM1Kb058xmnEM5Nt\n",
       "E07QGGwAayPbNugrK19B1QB0Njc5Y8LdxpnP+DC4sLgS48Ulgw5o20wCStR5HE5pHe9Gx9dBJhp7\n",
       "9qh9BYy653oBgYtP6uf16YjoyTtN6N0o+g4zF1KKNroCHXf3y/V6Ke7unjbDODEbi7sGGUkrg+PJ\n",
       "Vjyn2//7e4QI0ZwyZsxQiyF1w5FosdS970ZR3/fkjpo4TmpInfmf0HHf9679C2F6UUFdrkVNAAAA\n",
       "AElFTkSuQmCC\n",
       "\" style=\"display:inline;vertical-align:middle;\" /></a><br>(see <a class=\"ProveItLink\" href=\"../../../__pv_it/theorems/d7a258330b2da71aa23c8d995889b7f59d7fbb570/dependencies.ipynb\">dependencies</a>)<br>"
      ],
      "text/plain": [
       "<IPython.core.display.HTML object>"
      ]
     },
     "metadata": {},
     "output_type": "display_data"
    }
   ],
   "source": [
    "%proving cart_exp_fold_abstract"
   ]
  },
  {
   "cell_type": "code",
   "execution_count": null,
   "metadata": {},
   "outputs": [],
   "source": []
  }
 ],
 "metadata": {
  "kernelspec": {
   "display_name": "Python 3",
   "language": "python",
   "name": "python3"
  }
 },
 "nbformat": 4,
 "nbformat_minor": 0
}