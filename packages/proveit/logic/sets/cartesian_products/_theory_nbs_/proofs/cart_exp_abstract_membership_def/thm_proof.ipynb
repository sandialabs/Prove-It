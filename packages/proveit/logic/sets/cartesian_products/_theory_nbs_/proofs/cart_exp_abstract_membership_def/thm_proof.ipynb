{
 "cells": [
  {
   "cell_type": "markdown",
   "metadata": {},
   "source": [
    "Proof of <a class=\"ProveItLink\" href=\"../../../../../../_theory_nbs_/theory.ipynb\">proveit</a>.<a class=\"ProveItLink\" href=\"../../../../../_theory_nbs_/theory.ipynb\">logic</a>.<a class=\"ProveItLink\" href=\"../../../../_theory_nbs_/theory.ipynb\">sets</a>.<a class=\"ProveItLink\" href=\"../../theory.ipynb\">cartesian_products</a>.<a class=\"ProveItLink\" href=\"../../theorems.ipynb#cart_exp_abstract_membership_def\">cart_exp_abstract_membership_def</a> theorem\n",
    "========"
   ]
  },
  {
   "cell_type": "code",
   "execution_count": 1,
   "metadata": {},
   "outputs": [],
   "source": [
    "import proveit\n",
    "theory = proveit.Theory() # the theorem's theory"
   ]
  },
  {
   "cell_type": "code",
   "execution_count": 2,
   "metadata": {},
   "outputs": [
    {
     "data": {
      "text/html": [
       "With these <a href=\"allowed_presumptions.txt\">allowed</a>/<a href=\"disallowed_presumptions.txt\">disallowed</a> theorem/theory presumptions (e.g., to avoid circular dependencies), we begin our proof of<br><strong id=\"cart_exp_abstract_membership_def\">cart_exp_abstract_membership_def:</strong> <a class=\"ProveItLink\" href=\"../../../__pv_it/theorems/dd118126922cb5e15ad73dbc3295f2218c356fa80/expr.ipynb\"><img src=\"data:image/png;base64,iVBORw0KGgoAAAANSUhEUgAAAjUAAAAWBAMAAADKnHAaAAAAMFBMVEX///8AAAAAAAAAAAAAAAAA\n",
       "AAAAAAAAAAAAAAAAAAAAAAAAAAAAAAAAAAAAAAAAAAAv3aB7AAAAD3RSTlMAq1RmmUTNIjK7EInv\n",
       "3XZ/CtNrAAAACXBIWXMAAA7EAAAOxAGVKw4bAAAGIUlEQVRYw+VYXWgcVRQ+O7Ob2cxu1lXBapGw\n",
       "YO2LWoPVal7alN1qNaZOo1ho07jUh4KgbF4K/mwy+qKYWNeHYqPUrFiKUWi3BYU2IIkiiKKGopJC\n",
       "FyamGNOHGA1qrWI892fu3Jm9u7P77CGH7N57zrf3fnPOuWcuQBOSqtr1Jw2u9eTu+5bTC0fVJoW6\n",
       "iC1KQ5dC0zAFTxvuWZKE1WDyR651xLznM5iBeYg5Cs4zdRFblIYug03DDEqKm06TsVvCuImQf1qX\n",
       "Yk6rMFWJlpvS95zMwxXoBVionb9N7VXhrpYCzqrvooynqQctSHU1QQsFJ5auIjc7yMTBMG6iZE1t\n",
       "quA8wVUl74A5AREnPg3n0btcE1J5pdcJ4aqCq++ikuOg/QbwVBPcMHBiyRW5eZGwWwrjJk7C61nV\n",
       "XJarQqI9AFsgaadKxooNek/NvPp5ZoWrCq6ui1J+yZh/YMkLp4aDE0uuyA15nIlMaL0hZJ5RzU1z\n",
       "9WSpWmUBcY1NMncEI0cv4U9/GXRN+ovPseoPApG5+kU1Ji1CKQMWIDfJcig3HJxYcsVN6/jw2sJr\n",
       "8Wb8p0oBLc/Uk8cvu5+eQOhXYDfmotGJv/dk0Hej/CX2TNlD5K4okYIIazG2LhjDWr5BHVnF/XUF\n",
       "oFzxkDg4seRKDqCvq9WvwrlJVqsXVQUvWmFqLq8fpXFleMl96m/fMXg66IsFGk7Ovz9Fo/ZQWUL0\n",
       "XI05gKLth8PvZNi/iMH1zy85o2dravV+UlbTAShXPCQOTiy5Em52ArylZkTmJmpDuyoyXaKjMO/0\n",
       "gb9g62tr6yRTWiuiVSp0sSSQelKd0VnfcUAfsudatF0exBgO+PdIXCpvOOaqpQWz6/C1aKnnA1Di\n",
       "GBNIHJxYciXcDIGRVpcnmRu0GZIS4JOFn9mnjgzTe2Fb+Xq6Tgnh5MQ/0rfbgz+Ah5de0K9GaMSL\n",
       "tOjI+FyNOcGDGCu+7N8jusSsC2D8C/pKTU7hOcUZk6BE4AgkBk4suRJu2svB1q7Ya+kzAW4wtj7y\n",
       "LDZBnC8iaTG14X42MEbCQmT1IxL068Flfw4QhygjJY6pXb3gIsquRYkHPmYEelZ0Mc3fQbvK0Myn\n",
       "aWxym2/LYrHFuZr+R0Ii4MSSK9m05siPOj4/bmnpc/BQkJtNcilGZtN+bgC+YQOTXkqRNJZOwAEF\n",
       "N+jM+mWzJG3U5+puSBpTcAPaCiEmGaiJWF4nMKimw7hxwYklVxox+a2ScQ5tta1RqCRyfbkdEjdt\n",
       "Om4idWn4ATKwKl5S3JyC2J/wAR0QUO+ijkg16o5gvTlPD4iCSW1m5ZySXEUiSGOKnIJIHjoqiOYv\n",
       "imtlwo02G5ZTLjix5Eq5OYMni549PJ/qtll7rb20x6kE4yaxEV0XI6UDtKX6y23b2h2q5pHINNBn\n",
       "lnJkLnqldXTXtqIwad3Ma/4ySIiSqyig3lhNLSYuGDGnLLjB8PeTMzSn9FJYLXbBiSVXys0L+BDf\n",
       "G+hKplNplhGafe7WGm4M/BnoancolLnhV3eKHXjalePTMRbwB1yvvgo/PKUjGwKH+p2vPgz97KzJ\n",
       "SIieq3fwemPi5MWel7S9dHzEhm0Abyf8P7GZ9je0LfCgXDcJyQV3WxJUyk0E7Z/7CTtDHHiUcRNN\n",
       "lYLcwI20faSpZGIquPVplqq5y9lwF0+lIzyse3Zvv05e5/dBbl7D951lLctIMW/a6yF6rmRxRt4P\n",
       "R1ZyiH76jv5Rl/0AlwAeW/T/RCyH75rQYfmhuJuE5IJ3WEK9E6oTxkjabhkfH89otlnJB/obLmO0\n",
       "zvRLfekcV0/2Hauq+lRjNjjS4UuM2Fn+zjDX+hVFiEuxaaCip96mv4AlGInDKIsb6HdU9zfG9MfQ\n",
       "Y1ZgO+u22dUVNPUup3qzrH37FIgtSohLtmmgrKeCG2MFI6c7ynpf3YJUWnm3tWvfcjn+KezMTYnu\n",
       "t73ANFQUb/FvKg3bCy1z09gl7JrBb+mq2HQsjU370GUwjpI6cFC0L6p7P81/CVOSm5MGoiBiUn1T\n",
       "WGqZm8YuzZPtPmiitZedH46P116tJXy91l7/5DDXsDtnxQINR2k63HpSNXRZbBpm0dPURav1ZUAX\n",
       "/E/kP+mL5Ty73JGMAAAAAElFTkSuQmCC\n",
       "\" style=\"display:inline;vertical-align:middle;\" /></a><br>(see <a class=\"ProveItLink\" href=\"../../../__pv_it/theorems/c18f951bba6fb35a36e41dd075921d3635743ffa0/dependencies.ipynb\">dependencies</a>)<br>"
      ],
      "text/plain": [
       "<IPython.core.display.HTML object>"
      ]
     },
     "metadata": {},
     "output_type": "display_data"
    }
   ],
   "source": [
    "%proving cart_exp_abstract_membership_def"
   ]
  },
  {
   "cell_type": "code",
   "execution_count": null,
   "metadata": {},
   "outputs": [],
   "source": []
  }
 ],
 "metadata": {
  "kernelspec": {
   "display_name": "Python 3",
   "language": "python",
   "name": "python3"
  }
 },
 "nbformat": 4,
 "nbformat_minor": 0
}