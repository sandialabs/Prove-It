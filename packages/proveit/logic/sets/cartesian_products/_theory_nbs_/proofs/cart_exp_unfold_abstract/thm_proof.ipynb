{
 "cells": [
  {
   "cell_type": "markdown",
   "metadata": {},
   "source": [
    "Proof of <a class=\"ProveItLink\" href=\"../../../../../../_theory_nbs_/theory.ipynb\">proveit</a>.<a class=\"ProveItLink\" href=\"../../../../../_theory_nbs_/theory.ipynb\">logic</a>.<a class=\"ProveItLink\" href=\"../../../../_theory_nbs_/theory.ipynb\">sets</a>.<a class=\"ProveItLink\" href=\"../../theory.ipynb\">cartesian_products</a>.<a class=\"ProveItLink\" href=\"../../theorems.ipynb#cart_exp_unfold_abstract\">cart_exp_unfold_abstract</a> theorem\n",
    "========"
   ]
  },
  {
   "cell_type": "code",
   "execution_count": 1,
   "metadata": {},
   "outputs": [],
   "source": [
    "import proveit\n",
    "theory = proveit.Theory() # the theorem's theory"
   ]
  },
  {
   "cell_type": "code",
   "execution_count": 2,
   "metadata": {},
   "outputs": [
    {
     "data": {
      "text/html": [
       "With these <a href=\"allowed_presumptions.txt\">allowed</a>/<a href=\"disallowed_presumptions.txt\">disallowed</a> theorem/theory presumptions (e.g., to avoid circular dependencies), we begin our proof of<br><strong id=\"cart_exp_unfold_abstract\">cart_exp_unfold_abstract:</strong> <a class=\"ProveItLink\" href=\"../../../__pv_it/theorems/b7ae5bc7c978971d19198e17ba71917defd4ce930/expr.ipynb\"><img src=\"data:image/png;base64,iVBORw0KGgoAAAANSUhEUgAAAfoAAAAZBAMAAAArnPHiAAAAMFBMVEX///8AAAAAAAAAAAAAAAAA\n",
       "AAAAAAAAAAAAAAAAAAAAAAAAAAAAAAAAAAAAAAAAAAAv3aB7AAAAD3RSTlMAq1RmmUTNIjK7EInv\n",
       "3XZ/CtNrAAAACXBIWXMAAA7EAAAOxAGVKw4bAAAFqUlEQVRYw91Yb2gcRRR/t7t3e7d3tzlFbBUJ\n",
       "gdZ+qSYHiYV8aa/misFYPWNRsLWG+qFYEC5fhFrTnH5RbKynEOop2gSlGIRmLSq2AUmVgihC8A9W\n",
       "9OBiqzH9UNOGikYxvjczezd7N/f3Q6Ed7u3evtn35zfz5s2bBWik+fI/wHXX7Pw3jb0YgOuydV8N\n",
       "9Gkl12xekdlin8Kf9NVCb3co2b80r6mWiL/QsJrdghB9jG7r6qL30U2Lt4J+o5KrOXRJzuipso71\n",
       "A85dUF1E1Q58OA5wrhFfmEEbYRAh+m3E3FsXvUFOBtItgLeGlOxjdHkbrKNl/FABppaguojKQgK6\n",
       "OiAw0YAz3OA+4NQNz9GaydZFH6QY2d/K1BvqgOmjrgTApjJ+EkBXjxcTUS6tyzA9BHqiAV+4wR7g\n",
       "1M2GLNxRf93TWJ1oBX3E87SYz3Nss0htGbEApfZX9SU8W23Jn4E2VPplfV+EwcgEp27Q4w0ktQDP\n",
       "j0OtoN8gPzx8wV2ApOtxtP0iqyfSbgD6lwGCGfq3pjzYtBrmu1DTE6AUk5S7BgNxTojp63z+qwbQ\n",
       "R/L5n51W0A8gHZ9/b4biy9xXjEHSNf1PRmxXZwFG2H9r9RPxBj4TWwpbFNl964HFwqGT5ZnS/y1e\n",
       "PlCLScpdg+EYJ0TfD/CG0u2wB72RgVBlXjHqo6cpSdjtxpwnbdLQg766usaF6rq8ZfVS2nVa+CyJ\n",
       "OK8WrOWUVrYGgvNrwc0gFWKycmGQEgsRoh8GM6ZOER70+NKwNNifnvudZeiKNSg6Sg3LST2tr/ji\n",
       "nrohylLN8aP/uvPjumwtrgpsIy945xBF/KkfwfwP9IpNAXM+3KEWk5ULgzR6RIg+NBEuC6SRgZR+\n",
       "uhw9BshHJUYnBJfK0R++ZVx09KzrGXQDGM7g3IDB1+xYHhtbghFh8wFxHym5bFwRTue9c4gilnUF\n",
       "tBWuzXqKlIl3IisAr6jFvMqZQfKdCNFrhYAniHIpLXYK7q1A3yknPRy4WBl6o7/Y0ZmNpDZK6NE7\n",
       "nsanZCig00rs8DqIEWJdrooetCWCHvEmIMySIZTZVRe9a9A/y4ll8s3ydoui2mYDnHBye3KbjD6g\n",
       "IwL7/MF7iLEsKmWOnnF5rcU6QpljcLcU+Zhs0xYljagn8ifxPjrhCU4Lx9RcqRr54BuCqIPaPBmo\n",
       "bYWhv7Nu5LsGtTlOhP4EJmK97/C83ZvhBaD2/CMFp2LuwxtQbsGX3UOMP/7mNQxHT1yL7ymsI4rV\n",
       "7Vy8WF7BVOo2nkPtglTSMXcHvImJfDIcdfoiEZz16RTcbHoqqEiMRX5v3aznGtSznAj9szje7+yK\n",
       "R2J2jIemljl1eyV68zQFZqjA52j9JQk9cf3cIdYxCb9Cu5vecSPqeuk+GGQPe4obChrd7rCbvCkZ\n",
       "P7k7V2nrsv6kHxcZzcAWgDfDHnRYstB+P6AWk3Y81yCNLxGh92HPM79hHYSMhzh6w85WoIe1LMoY\n",
       "KAtjWUJPXP3JXO61UkepvQzw7kWtj6/vyXERs0Gc5MSDW28UBQm6YFJaMfw33SAyAZl7mv37jv2Y\n",
       "yGMA5wF2LHhN7EhivoXv1WIl5UWD0RSn4gm3HcZoYW3K5XIdWsZyhsr3e9HG2HofdOupUJEbZPE6\n",
       "WHkYiHricOdbotI923zdVFvEnGtY0YigIvovYBFGg3CIzz0MFpTne3P2Y0hYDmzlFaVAz7i8ZCp2\n",
       "SHGpPn30NI++p5XTVLXjUp+E3lzC2e81eDmHR247pv66cf/OixPBz6A/OZOW5p64sJ/muNghtSNK\n",
       "D0LNn5ZrizR+AKWinxX+Lnp/DM/4wxfAfJ1W6l6xm1f5tqNJDkmn7JO5caWxKfWhPNs0+toiR5oa\n",
       "RTaSFV+23s/lUvW+bD2qRF99qNUH1oPNh34tEbvxWFoQ1Np3vXhz6K/9b7rVvueb1zB2O//5/3fA\n",
       "kz3lroGMAAAAAElFTkSuQmCC\n",
       "\" style=\"display:inline;vertical-align:middle;\" /></a><br>(see <a class=\"ProveItLink\" href=\"../../../__pv_it/theorems/532df5e83f5a52d9d17543118976bf457c9f583d0/dependencies.ipynb\">dependencies</a>)<br>"
      ],
      "text/plain": [
       "<IPython.core.display.HTML object>"
      ]
     },
     "metadata": {},
     "output_type": "display_data"
    }
   ],
   "source": [
    "%proving cart_exp_unfold_abstract"
   ]
  },
  {
   "cell_type": "code",
   "execution_count": null,
   "metadata": {},
   "outputs": [],
   "source": []
  }
 ],
 "metadata": {
  "kernelspec": {
   "display_name": "Python 3",
   "language": "python",
   "name": "python3"
  }
 },
 "nbformat": 4,
 "nbformat_minor": 0
}