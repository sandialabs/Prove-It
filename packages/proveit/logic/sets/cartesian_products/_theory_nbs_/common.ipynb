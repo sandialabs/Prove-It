{
 "cells": [
  {
   "cell_type": "markdown",
   "metadata": {},
   "source": [
    "Common expressions for the theory of <a class=\"ProveItLink\" href=\"theory.ipynb\">proveit.logic.sets.cartesian_products</a>\n",
    "========"
   ]
  },
  {
   "cell_type": "code",
   "execution_count": 1,
   "metadata": {},
   "outputs": [],
   "source": [
    "import proveit\n",
    "# Prepare this notebook for defining the common expressions of a theory:\n",
    "%common_expressions_notebook # Keep this at the top following 'import proveit'.\n",
    "\n",
    "from proveit import ExprRange, IndexedVar\n",
    "from proveit import a, k, m, A\n",
    "from proveit.logic import InSet\n",
    "from proveit.numbers import one"
   ]
  },
  {
   "cell_type": "code",
   "execution_count": 2,
   "metadata": {},
   "outputs": [
    {
     "name": "stdout",
     "output_type": "stream",
     "text": [
      "Defining common sub-expressions for theory 'proveit.logic.sets.cartesian_products'\n",
      "Subsequent end-of-cell assignments will define common sub-expressions\n",
      "%end_common will finalize the definitions\n"
     ]
    }
   ],
   "source": [
    "%begin common"
   ]
  },
  {
   "cell_type": "code",
   "execution_count": 3,
   "metadata": {},
   "outputs": [
    {
     "data": {
      "text/html": [
       "<strong id=\"a_in_A__1_to_m\">a_in_A__1_to_m:</strong> <a class=\"ProveItLink\" href=\"../__pv_it/common/49159e32422436313b0d7f4c59b602f113663e0f0/common_expr.ipynb\"><img src=\"data:image/png;base64,iVBORw0KGgoAAAANSUhEUgAAAUsAAAAVBAMAAAA9atGeAAAAMFBMVEX///8AAAAAAAAAAAAAAAAA\n",
       "AAAAAAAAAAAAAAAAAAAAAAAAAAAAAAAAAAAAAAAAAAAv3aB7AAAAD3RSTlMAInZUiRDNmWbv3US7\n",
       "qzJazP2FAAAACXBIWXMAAA7EAAAOxAGVKw4bAAADmUlEQVRIx5WXT0gUURzHf7Ozu7N/bFxEhUJx\n",
       "NAoJrT2IkARuHTpElkiEB8EtErq5h0AJhL2Uh6T2EkhRLURJW0QUQR6CrUvQIRepToGLl6hDrmQS\n",
       "/XF7/+fNzuxzGlj88Xvv+z7f9+Y37z0BIAE+HrmT5keg/ceAfroGkqourezvUym3W2kvTf/GLSVa\n",
       "TZXAnN2n7D3Jh82KlJ5SCcIVFnQrx+3bbgknpSkhdiit6qxXeTQhcqeVww9ym+FhRS811QGmbCOr\n",
       "6m2s8BqaFblp5fgz6yyIZFTjZrexaYMpO+oum7eF+zw+fLLMoqhYnJxKEWze4tnrChdRz3r1BFN2\n",
       "f23n+Fn7bWnWAV7qYT5/Pa1SNAW+8/C8wma/R64OmLIv4OT7Tvu7bJVqyoBB7i5Y4rmUSpHRf/Jw\n",
       "SGHTRa0Ppmw858VEww+ROyMpn8Ea/6wjaXlZ6yniSXODx5cVNl3U+mDKvos+u3kw8hBiw8rvNAMd\n",
       "aBFHcUrnJRlLcsWpoQ+1CgO0v8AaDipsCqr0uMHis8/BTTR2BWIpWN1HUuaNQqHwiNX0m6mVIphd\n",
       "eDSTbzTRJ1yRgYu1ip6pmT/AGtYUNgXVftxgu6mCBdEijCP2AN3RpOYRgEZkUcc24znJJlX8ho6y\n",
       "UxFCxfYLWMOi2iaj2lo3WJRSDi//uAXXgNuEvLz0EMsxm3peeulUcYnalBQG+j3gDQPql07HmL3a\n",
       "Vep+5w2OTK/2BubKhP0aCZLwUU/wYbvsSWTp2UccRvBk8bfYYAkFHKtRvOCnHG6YA6ZwPiTDqS1X\n",
       "5uEW9HqDRxez0VKgRNhDGKwvGGL2YbFh7cSm1plNvA+FNtnOxBTmPadCw4WxlGANeNMhivF0bSCo\n",
       "2kgatkhPD3DLXmgsYy76fUXK5RPt+4XN0KfnNBirToC+tJmiNmO4jgpoKcy8ULQNOxShpc1hOFQ9\n",
       "xxoeAlPE8LG5ACzAGZu6wzJJ4XmCl+ELqTHEjolDiddS/Lh9ZtH9ANvcRSKMeCyOioyW8FSQBi0v\n",
       "FM7RcEZQo+VAUauUvcG3oQc6TMK2bwh1S57YJBeOoOMS0vbts/ctiDTQ20XQ1Rh03Es60HpGit63\n",
       "FK2C1nPOoOxXLNk8eaTORffohgVakW0UqGr43eVOteqtIA1tIBSOh2Y49SWEE9qy92zjJXQyte+h\n",
       "7DFfF33qzard4BQPNeK+w9OMP6rE1iw/XTuluMmPIKD+Z8cfVbD/AWTEDdlo/fhwAAAAAElFTkSu\n",
       "QmCC\n",
       "\" style=\"display:inline;vertical-align:middle;\" /></a><br>"
      ],
      "text/plain": [
       "<IPython.core.display.HTML object>"
      ]
     },
     "metadata": {},
     "output_type": "display_data"
    }
   ],
   "source": [
    "a_in_A__1_to_m = ExprRange(k, InSet(IndexedVar(a, k), IndexedVar(A, k)),\n",
    "                           one, m)"
   ]
  },
  {
   "cell_type": "code",
   "execution_count": 4,
   "metadata": {},
   "outputs": [
    {
     "name": "stdout",
     "output_type": "stream",
     "text": [
      "These common expressions may now be imported from the theory package: proveit.logic.sets.cartesian_products\n"
     ]
    }
   ],
   "source": [
    "%end common"
   ]
  },
  {
   "cell_type": "code",
   "execution_count": null,
   "metadata": {},
   "outputs": [],
   "source": []
  }
 ],
 "metadata": {
  "kernelspec": {
   "display_name": "Python 3",
   "language": "python",
   "name": "python3"
  }
 },
 "nbformat": 4,
 "nbformat_minor": 0
}