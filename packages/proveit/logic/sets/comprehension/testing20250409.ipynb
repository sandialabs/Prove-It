{
 "cells": [
  {
   "cell_type": "code",
   "execution_count": null,
   "id": "d5930929-b155-4697-9eb1-f6db48a41db9",
   "metadata": {},
   "outputs": [],
   "source": [
    "import proveit\n",
    "from proveit import a, b, i, j, n, x, y, Q, ExprTuple, Function\n",
    "from proveit.logic import And, Exists, Equals, Forall, InSet, NotEquals, SetOfAll\n",
    "from proveit.numbers import (\n",
    "        zero, one, two, Exp, frac, greater, greater_eq, LessEq, Integer, Interval,\n",
    "        num, number_ordering, Real)\n",
    "\n",
    "%begin testing"
   ]
  },
  {
   "cell_type": "code",
   "execution_count": null,
   "id": "5891d1ee-bf9c-466c-a378-c6f82ea75eb9",
   "metadata": {},
   "outputs": [],
   "source": [
    "SetOfAll_examples = (\n",
    "    SetOfAll(x, x, condition=greater(x, zero), domain=Real),\n",
    "    SetOfAll(x, x, conditions=[greater(x, zero), greater(one, x)], domain=Real),\n",
    "    SetOfAll(x, x, conditions=[number_ordering(greater(one, x), greater(x, zero))], domain=Real),\n",
    "    SetOfAll(x, x, conditions=[And(greater(one, x), greater(x, zero))], domain=Real),\n",
    "    SetOfAll(x, Exp(x, two), domain=Real),\n",
    "    SetOfAll(x, Exp(x, two), conditions=[greater_eq(x, zero)], domain=Real),\n",
    "    SetOfAll(x, Exp(x, two), conditions=[LessEq(zero, x), LessEq(x, one)], domain=Real),\n",
    "    SetOfAll(x, Exp(x, two), conditions=[number_ordering(LessEq(zero, x), LessEq(x, one))], domain=Real),\n",
    "    SetOfAll(x, Exp(x, two), conditions=[And(LessEq(zero, x), LessEq(x, one))], domain=Real),\n",
    "    SetOfAll(i, ExprTuple(i, zero), conditions = [LessEq(zero, i), LessEq(i, num(10))], domain = Integer),\n",
    "    SetOfAll(i, ExprTuple(i, zero), conditions = [number_ordering(LessEq(zero, i), LessEq(i, num(10)))],\n",
    "            domain = Integer),\n",
    "    SetOfAll(i, ExprTuple(i, zero), domain = Interval(zero, num(10))),\n",
    "    SetOfAll((i,j), ExprTuple(i, j), domain = Integer),\n",
    "    SetOfAll((i,j), ExprTuple(i, j), conditions = [LessEq(zero, i)], domain = Integer),\n",
    "    SetOfAll((i,j), ExprTuple(i, j), conditions = [LessEq(zero, i), LessEq(i, num(10)), LessEq(zero, j), LessEq(j, num(10))],\n",
    "            domain = Integer),\n",
    "    SetOfAll((i,j), ExprTuple(i, j), conditions = [LessEq(zero, i), LessEq(i, num(10))], domain = Integer),\n",
    "    SetOfAll((i,j), ExprTuple(i, j),\n",
    "        conditions = [number_ordering(LessEq(zero, i), LessEq(i, num(10))),\n",
    "                      number_ordering(LessEq(zero, j), LessEq(j, num(10)))],\n",
    "        domain = Integer)\n",
    ")\n",
    "print() # to suppress output from above\n",
    "\n",
    "# for n, example_set in enumerate(SetOfAll_examples):\n",
    "#     print(f\"({n})\")\n",
    "#     display(example_set)\n",
    "#     print()"
   ]
  },
  {
   "cell_type": "code",
   "execution_count": null,
   "id": "310d6645-5c06-4b2b-a4ae-bd11ba36dac0",
   "metadata": {},
   "outputs": [],
   "source": [
    "SetOfAllMembership_examples = []\n",
    "for example_set in SetOfAll_examples:\n",
    "    SetOfAllMembership_examples.append(InSet(a, example_set))\n",
    "\n",
    "for n, example_membership in enumerate(SetOfAllMembership_examples):\n",
    "    print(f\"({n})\")\n",
    "    display(example_membership)\n",
    "    print()"
   ]
  },
  {
   "cell_type": "code",
   "execution_count": null,
   "id": "f4354afb-7d3b-42d0-a711-6806d5e94f6b",
   "metadata": {},
   "outputs": [],
   "source": [
    "# for i, the_expr in enumerate(SetOfAllMembership_examples):\n",
    "\n",
    "#     # the_expr = SetOfAllMembership_examples[4]\n",
    "#     print(f\"({i}) The expression to prove is:\")\n",
    "#     display(the_expr)\n",
    "\n",
    "#     the_element = the_expr.element\n",
    "#     the_instance_vars = the_expr.domain.all_instance_vars()\n",
    "#     the_instance_elem = the_expr.domain.instance_element\n",
    "#     the_explicit_conditions = the_expr.domain.explicit_conditions()\n",
    "#     the_domains = the_expr.domain.all_domains()\n",
    "    \n",
    "#     if len(the_instance_vars) == 1 and the_instance_vars[0]==the_instance_elem:\n",
    "#         # we have something like a in {x | Q(x)}_{x in S}\n",
    "#         the_explicit_conditions_replacements = []\n",
    "#         for explicit_condition in the_explicit_conditions:\n",
    "#             the_explicit_conditions_replacements += [explicit_condition.basic_replaced({the_instance_vars[0]:the_element})]\n",
    "#         if len(the_explicit_conditions_replacements) == 0:\n",
    "#             the_assumption = InSet(the_element, the_domains[0])\n",
    "#         elif len(the_explicit_conditions_replacements) == 1:\n",
    "#             the_assumption = And(InSet(the_element, the_domains[0]), the_explicit_conditions_replacements[0])\n",
    "#         else:\n",
    "#             the_assumption = And(InSet(the_element, the_domains[0]), *the_explicit_conditions_replacements)\n",
    "#         print(f\"The constructed assumption is:\")\n",
    "#         display(the_assumption)\n",
    "#     else:\n",
    "#         # we have something like a in {f(x) | Q(x)}_{x in S}, perhaps with multiple instance variables\n",
    "#         if len(the_instance_vars) == 1:\n",
    "#             the_assumption = Exists(the_instance_vars[0], Equals(the_element, the_instance_elem),\n",
    "#                                     conditions=the_explicit_conditions, domains=the_domains)\n",
    "#         else:\n",
    "#             the_assumption = Exists(the_instance_vars, Equals(the_element, the_instance_elem),\n",
    "#                                     conditions=the_explicit_conditions, domains=the_domains)\n",
    "#         print(f\"The constructed assumption is:\")\n",
    "#         display(the_assumption)\n",
    "\n",
    "#     print()\n",
    "\n",
    "#     print(f\"The conclude() result is: \")\n",
    "#     try:\n",
    "#         display(the_expr.conclude(assumptions = [the_assumption]))\n",
    "#         print()\n",
    "#     except Exception as the_exception:\n",
    "#         print(f\"Exception: {the_exception}\")\n",
    "#         print()"
   ]
  },
  {
   "cell_type": "code",
   "execution_count": null,
   "id": "0e049dfe-0dc3-4e29-a4a2-85b4c5368b6c",
   "metadata": {},
   "outputs": [],
   "source": [
    "SetOfAllMembership_examples[6].domain.condition"
   ]
  },
  {
   "cell_type": "code",
   "execution_count": null,
   "id": "2fa4e6e5-64b8-42c9-964a-2d3143ef59ed",
   "metadata": {},
   "outputs": [],
   "source": [
    "SetOfAllMembership_examples[6].domain.domain_conditions()"
   ]
  },
  {
   "cell_type": "code",
   "execution_count": null,
   "id": "b324bb19-a6fc-408d-abf2-50d139c80084",
   "metadata": {},
   "outputs": [],
   "source": [
    "SetOfAllMembership_examples[6].domain.conditions"
   ]
  },
  {
   "cell_type": "code",
   "execution_count": null,
   "id": "5665c3fe-5cda-4ff4-bb25-ba4c6b08fc24",
   "metadata": {},
   "outputs": [],
   "source": [
    "len(SetOfAllMembership_examples[6].domain.conditions)"
   ]
  },
  {
   "cell_type": "code",
   "execution_count": null,
   "id": "d6b56c62-3aa1-4d33-bfc4-817597049f2d",
   "metadata": {},
   "outputs": [],
   "source": [
    "SetOfAllMembership_examples[6].domain.all_domains()"
   ]
  },
  {
   "cell_type": "code",
   "execution_count": null,
   "id": "cb913540-2732-458a-b9cf-b438af04f9aa",
   "metadata": {},
   "outputs": [],
   "source": [
    "SetOfAllMembership_examples[6].domain.explicit_domains()"
   ]
  },
  {
   "cell_type": "code",
   "execution_count": null,
   "id": "beafc94a-93fc-4d3a-a623-8b63c1eccfc3",
   "metadata": {},
   "outputs": [],
   "source": [
    "len(SetOfAllMembership_examples[6].domain.explicit_domains())"
   ]
  },
  {
   "cell_type": "code",
   "execution_count": null,
   "id": "a3ec7619-dce0-40fc-ab3d-e8c94ca7344d",
   "metadata": {},
   "outputs": [],
   "source": [
    "SetOfAllMembership_examples[6].domain.explicit_conditions()"
   ]
  },
  {
   "cell_type": "code",
   "execution_count": null,
   "id": "e104da2e-305c-4a87-a5de-20349b4a3ad6",
   "metadata": {},
   "outputs": [],
   "source": [
    "SetOfAllMembership_examples[6].domain.operands[0].body"
   ]
  },
  {
   "cell_type": "code",
   "execution_count": null,
   "id": "49d02b19-6a77-49dc-95fe-b10946f2dd26",
   "metadata": {},
   "outputs": [],
   "source": [
    "# creating and possibly simplifying an Exists\n",
    "from proveit import i, j, ExprTuple\n",
    "from proveit.numbers import zero, num\n",
    "existential_examples = (\n",
    "    Exists((i, j), ExprTuple(i, j), conditions=[LessEq(zero, i), LessEq(i, num(10))]),\n",
    "    Exists((i, j), ExprTuple(i, j), conditions=[And(LessEq(zero, i), LessEq(i, num(10)))]),\n",
    "    Exists((i, j), ExprTuple(i, j), conditions=[LessEq(zero, i), LessEq(i, num(10))], domains=[Integer, Integer]),\n",
    "    Exists((i, j), ExprTuple(i, j), conditions=[And(LessEq(zero, i), LessEq(i, num(10)))], domains=[Integer, Integer])\n",
    ")\n",
    "\n",
    "for i, example in enumerate(existential_examples):\n",
    "    print(f\"({i})\")\n",
    "    display(example)\n",
    "    print()\n",
    "\n",
    "print()\n",
    "print(\"And notice this: \")\n",
    "print(f\"existential_examples[0] == existential_examples[1] = {existential_examples[0] == existential_examples[1]}\")\n",
    "print(f\"existential_examples[2] == existential_examples[3] = {existential_examples[2] == existential_examples[3]}\")"
   ]
  },
  {
   "cell_type": "markdown",
   "id": "7a8b7ef1-ca3d-4242-9a8d-41ea6bb44236",
   "metadata": {},
   "source": [
    "Trying to simplify WITHIN an existential …"
   ]
  },
  {
   "cell_type": "code",
   "execution_count": null,
   "id": "5766eee2-e9ce-45ea-b01c-5df156b7265e",
   "metadata": {},
   "outputs": [],
   "source": [
    "from proveit import i, j\n",
    "problem_exists = Exists((i, j), ExprTuple(i, j), conditions=[And(LessEq(zero, i), LessEq(i, num(10)))], domains=[Integer, Integer])"
   ]
  },
  {
   "cell_type": "code",
   "execution_count": null,
   "id": "0c03d03e-ad95-4c09-b430-ffe885649245",
   "metadata": {},
   "outputs": [],
   "source": [
    "problem_exists.operands[0].body.condition"
   ]
  },
  {
   "cell_type": "code",
   "execution_count": null,
   "id": "9ca193d9-12e6-4c77-a4c5-eb49a921f751",
   "metadata": {},
   "outputs": [],
   "source": [
    "problem_exists.operands[0].body.condition"
   ]
  },
  {
   "cell_type": "code",
   "execution_count": null,
   "id": "f3027638-06f6-4027-b5a1-833a9e4a0566",
   "metadata": {},
   "outputs": [],
   "source": [
    "SetOfAllMembership_examples[6].domain.operands[0].body.condition"
   ]
  },
  {
   "cell_type": "code",
   "execution_count": null,
   "id": "c96b36ce-a342-4f9c-8d0d-6318e1f24f85",
   "metadata": {},
   "outputs": [],
   "source": [
    "# from proveit import i, j\n",
    "# from proveit.logic import in_bool\n",
    "# problem_exists.inner_expr().operands[0].body.condition.shallow_simplification(assumptions=[in_bool(LessEq(zero, i)), in_bool(LessEq(i, num(10)))])"
   ]
  },
  {
   "cell_type": "code",
   "execution_count": null,
   "id": "f56f7f55-a77d-4b8c-a76c-b6b0f673b953",
   "metadata": {},
   "outputs": [],
   "source": [
    "i = 12\n",
    "for the_expr in [SetOfAllMembership_examples[i]]:\n",
    "\n",
    "    print(f\"({i}) The expression to prove is:\")\n",
    "    display(the_expr)\n",
    "    print()\n",
    "\n",
    "    the_element = the_expr.element\n",
    "    the_instance_vars = the_expr.domain.all_instance_vars()\n",
    "    the_instance_elem = the_expr.domain.instance_element\n",
    "    the_explicit_conditions = the_expr.domain.explicit_conditions()\n",
    "    the_domains = the_expr.domain.all_domains()\n",
    "    \n",
    "    if len(the_instance_vars) == 1 and the_instance_vars[0]==the_instance_elem:\n",
    "        # we have something like a in {x | Q(x)}_{x in S}\n",
    "        the_explicit_conditions_replacements = []\n",
    "        for explicit_condition in the_explicit_conditions:\n",
    "            the_explicit_conditions_replacements += [explicit_condition.basic_replaced({the_instance_vars[0]:the_element})]\n",
    "        if len(the_explicit_conditions_replacements) == 0:\n",
    "            the_assumption = InSet(the_element, the_domains[0])\n",
    "        elif len(the_explicit_conditions_replacements) == 1:\n",
    "            the_assumption = And(InSet(the_element, the_domains[0]), the_explicit_conditions_replacements[0])\n",
    "        else:\n",
    "            the_assumption = And(InSet(the_element, the_domains[0]), *the_explicit_conditions_replacements)\n",
    "        print(f\"The constructed assumption is:\")\n",
    "        display(the_assumption)\n",
    "    else:\n",
    "        # we have something like a in {f(x) | Q(x)}_{x in S}, perhaps with multiple instance variables\n",
    "        if len(the_instance_vars) == 1:\n",
    "            the_assumption = Exists(the_instance_vars[0], Equals(the_element, the_instance_elem),\n",
    "                                    conditions=the_explicit_conditions, domains=the_domains)\n",
    "        else:\n",
    "            the_assumption = Exists(the_instance_vars, Equals(the_element, the_instance_elem),\n",
    "                                    conditions=the_explicit_conditions, domains=the_domains)\n",
    "        print(f\"The constructed assumption is:\")\n",
    "        display(the_assumption)\n",
    "\n",
    "    the_expr.conclude(assumptions = [the_assumption])\n",
    "    \n",
    "    try:\n",
    "        display(the_expr.conclude(assumptions = [the_assumption]))\n",
    "        print()\n",
    "    except Exception as the_exception:\n",
    "        print(f\"Exception: {the_exception}\")\n",
    "        print()"
   ]
  },
  {
   "cell_type": "code",
   "execution_count": null,
   "id": "6e3a5971-7f7f-4237-aa64-c9e8992e769d",
   "metadata": {},
   "outputs": [],
   "source": [
    "# Ask WW about case [7] where it's clear we're \"double-dipping\" into the conclude() method\n",
    "# even with the try-except block approach turned off. What's really happening there?\n",
    "i = 1\n",
    "for the_expr in [SetOfAllMembership_examples[i]]:\n",
    "\n",
    "    print(f\"({i}) The expression to prove is:\")\n",
    "    display(the_expr)\n",
    "    print()\n",
    "\n",
    "    the_element = the_expr.element\n",
    "    the_instance_vars = the_expr.domain.all_instance_vars()\n",
    "    the_instance_elem = the_expr.domain.instance_element\n",
    "    the_explicit_conditions = the_expr.domain.explicit_conditions()\n",
    "    the_domains = the_expr.domain.all_domains()\n",
    "    \n",
    "    if len(the_instance_vars) == 1 and the_instance_vars[0]==the_instance_elem:\n",
    "        # we have something like a in {x | Q(x)}_{x in S}\n",
    "        the_explicit_conditions_replacements = []\n",
    "        for explicit_condition in the_explicit_conditions:\n",
    "            the_explicit_conditions_replacements += [explicit_condition.basic_replaced({the_instance_vars[0]:the_element})]\n",
    "        if len(the_explicit_conditions_replacements) == 0:\n",
    "            the_assumption = InSet(the_element, the_domains[0])\n",
    "        elif len(the_explicit_conditions_replacements) == 1:\n",
    "            the_assumption = And(InSet(the_element, the_domains[0]), the_explicit_conditions_replacements[0])\n",
    "        else:\n",
    "            the_assumption = And(InSet(the_element, the_domains[0]), *the_explicit_conditions_replacements)\n",
    "        print(f\"The constructed assumption is:\")\n",
    "        display(the_assumption)\n",
    "    else:\n",
    "        # we have something like a in {f(x) | Q(x)}_{x in S}, perhaps with multiple instance variables\n",
    "        if len(the_instance_vars) == 1:\n",
    "            the_assumption = Exists(the_instance_vars[0], Equals(the_element, the_instance_elem),\n",
    "                                    conditions=the_explicit_conditions, domains=the_domains)\n",
    "        else:\n",
    "            the_assumption = Exists(the_instance_vars, Equals(the_element, the_instance_elem),\n",
    "                                    conditions=the_explicit_conditions, domains=the_domains)\n",
    "        print(f\"The constructed assumption is:\")\n",
    "        display(the_assumption)\n",
    "\n",
    "    print()\n",
    "\n",
    "    # print(f\"The conclude() result is: \")\n",
    "\n",
    "    the_expr.conclude(assumptions = [the_assumption])\n",
    "    \n",
    "    try:\n",
    "        display(the_expr.conclude(assumptions = [the_assumption]))\n",
    "        print()\n",
    "    except Exception as the_exception:\n",
    "        print(f\"Exception: {the_exception}\")\n",
    "        print()"
   ]
  },
  {
   "cell_type": "code",
   "execution_count": null,
   "id": "2fd6347c-e962-4910-9dbe-243c0a03f56f",
   "metadata": {},
   "outputs": [],
   "source": []
  }
 ],
 "metadata": {
  "kernelspec": {
   "display_name": "Python 3",
   "language": "python",
   "name": "python3"
  }
 },
 "nbformat": 4,
 "nbformat_minor": 0
}
