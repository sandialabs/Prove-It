{
 "cells": [
  {
   "cell_type": "markdown",
   "metadata": {},
   "source": [
    "Expression of type <a class=\"ProveItLink\" href=\"../../../../../../../../doc/html/api/proveit.ExprTuple.html\">ExprTuple</a>\n",
    "=======================\n",
    "# from the theory of <a class=\"ProveItLink\" href=\"../../../_theory_nbs_/theory.ipynb\">proveit.logic.sets.comprehension</a>"
   ]
  },
  {
   "cell_type": "code",
   "execution_count": 1,
   "metadata": {},
   "outputs": [],
   "source": [
    "import proveit\n",
    "# Automation is not needed when building an expression:\n",
    "proveit.defaults.automation = False # This will speed things up.\n",
    "proveit.defaults.inline_pngs = False # Makes files smaller.\n",
    "%load_expr # Load the stored expression as 'stored_expr'\n",
    "# import Expression classes needed to build the expression\n",
    "from proveit import ExprTuple, Lambda, Q, f, x\n",
    "from proveit.core_expr_types import Q__y_1_to_n, S_1_to_n, f__y_1_to_n, y_1_to_n\n",
    "from proveit.logic import Equals, Exists, Implies, InSet\n",
    "from proveit.logic.sets import general_comprehension_fyn"
   ]
  },
  {
   "cell_type": "code",
   "execution_count": 2,
   "metadata": {},
   "outputs": [
    {
     "data": {
      "text/html": [
       "<strong id=\"expr\">expr:</strong> <a class=\"ProveItLink\" href=\"expr.ipynb\"><img src=\"expr.png\" style=\"display:inline;vertical-align:middle;\" /></a><br>"
      ],
      "text/plain": [
       "<IPython.core.display.HTML object>"
      ]
     },
     "metadata": {},
     "output_type": "display_data"
    }
   ],
   "source": [
    "# build up the expression from sub-expressions\n",
    "expr = ExprTuple(Lambda([S_1_to_n, Q, f, x], Implies(Exists(instance_param_or_params = [y_1_to_n], instance_expr = Equals(x, f__y_1_to_n), domains = [S_1_to_n], condition = Q__y_1_to_n), InSet(x, general_comprehension_fyn)).with_wrapping_at(1)))"
   ]
  },
  {
   "cell_type": "code",
   "execution_count": 3,
   "metadata": {},
   "outputs": [
    {
     "name": "stdout",
     "output_type": "stream",
     "text": [
      "Passed sanity check: expr matches stored_expr\n"
     ]
    }
   ],
   "source": [
    "# check that the built expression is the same as the stored expression\n",
    "assert expr == stored_expr\n",
    "assert expr._style_id == stored_expr._style_id\n",
    "print(\"Passed sanity check: expr matches stored_expr\")"
   ]
  },
  {
   "cell_type": "code",
   "execution_count": 4,
   "metadata": {},
   "outputs": [
    {
     "name": "stdout",
     "output_type": "stream",
     "text": [
      "\\left(\\left(S_{1}, S_{2}, \\ldots, S_{n}, Q, f, x\\right) \\mapsto \\left(\\begin{array}{c} \\begin{array}{l} \\left[\\exists_{\\left(y_{1} \\in S_{1}\\right), \\left(y_{2} \\in S_{2}\\right), \\ldots, \\left(y_{n} \\in S_{n}\\right)~|~Q\\left(y_{1}, y_{2}, \\ldots, y_{n}\\right)}~\\left(x = f\\left(y_{1}, y_{2}, \\ldots, y_{n}\\right)\\right)\\right] \\\\  \\Rightarrow \\left(x \\in \\left\\{f\\left(y_{1}, y_{2}, \\ldots, y_{n}\\right)~|~Q\\left(y_{1}, y_{2}, \\ldots, y_{n}\\right)\\right\\}_{\\left(y_{1} \\in S_{1}\\right), \\left(y_{2} \\in S_{2}\\right), \\ldots, \\left(y_{n} \\in S_{n}\\right)}\\right) \\end{array} \\end{array}\\right)\\right)\n"
     ]
    }
   ],
   "source": [
    "# Show the LaTeX representation of the expression for convenience if you need it.\n",
    "print(stored_expr.latex())"
   ]
  },
  {
   "cell_type": "code",
   "execution_count": 5,
   "metadata": {},
   "outputs": [
    {
     "data": {
      "text/html": [
       "no style options"
      ],
      "text/plain": [
       "no style options"
      ]
     },
     "metadata": {},
     "output_type": "display_data"
    }
   ],
   "source": [
    "stored_expr.style_options()"
   ]
  },
  {
   "cell_type": "code",
   "execution_count": 6,
   "metadata": {},
   "outputs": [
    {
     "data": {
      "text/html": [
       "<table><tr><th>&nbsp;</th><th>core type</th><th>sub-expressions</th><th>expression</th></tr>\n",
       "<tr><td>0</td><td>ExprTuple</td><td>1</td><td><a class=\"ProveItLink\" href=\"expr.ipynb\"><img src=\"expr.png\" style=\"display:inline;vertical-align:middle;\" /></a></td></tr>\n",
       "<tr><td>1</td><td>Lambda</td><td>parameters:&nbsp;2<br>body:&nbsp;3<br></td><td><a class=\"ProveItLink\" href=\"../421429089a9f0ca21d740f342698c3e364e5fbd20/expr.ipynb\"><img src=\"../421429089a9f0ca21d740f342698c3e364e5fbd20/expr.png\" style=\"display:inline;vertical-align:middle;\" /></a></td></tr>\n",
       "<tr><td>2</td><td>ExprTuple</td><td>4, 32, 26, 23</td><td><a class=\"ProveItLink\" href=\"../27cbc463d08d7f75045d8e6e48e4f7676499c8680/expr.ipynb\"><img src=\"../27cbc463d08d7f75045d8e6e48e4f7676499c8680/expr.png\" style=\"display:inline;vertical-align:middle;\" /></a></td></tr>\n",
       "<tr><td>3</td><td>Operation</td><td>operator:&nbsp;5<br>operands:&nbsp;6<br></td><td><a class=\"ProveItLink\" href=\"../e8d861ad8922e625b94c688ae8977cf1eaaaff4a0/expr.ipynb\"><img src=\"../e8d861ad8922e625b94c688ae8977cf1eaaaff4a0/expr.png\" style=\"display:inline;vertical-align:middle;\" /></a></td></tr>\n",
       "<tr><td>4</td><td>ExprRange</td><td>lambda_map:&nbsp;7<br>start_index:&nbsp;39<br>end_index:&nbsp;40<br></td><td><a class=\"ProveItLink\" href=\"../../../../../../core_expr_types/__pv_it/common/37a1835fe63b404334feb6a5357d0a1664dabcbc0/expr.ipynb\"><img src=\"../../../../../../core_expr_types/__pv_it/common/37a1835fe63b404334feb6a5357d0a1664dabcbc0/expr.png\" style=\"display:inline;vertical-align:middle;\" /></a></td></tr>\n",
       "<tr><td>5</td><td>Literal</td><td></td><td><a class=\"ProveItLink\" href=\"../../../../../booleans/implication/__pv_it/common/02bdb382575728da8cdbaed545b9096ea7a1bd5b0/expr.ipynb\"><img src=\"../../../../../booleans/implication/__pv_it/common/02bdb382575728da8cdbaed545b9096ea7a1bd5b0/expr.png\" style=\"display:inline;vertical-align:middle;\" /></a></td></tr>\n",
       "<tr><td>6</td><td>ExprTuple</td><td>8, 9</td><td><a class=\"ProveItLink\" href=\"../00e2d74685481c54fc9affe1cb5e649fd78789870/expr.ipynb\"><img src=\"../00e2d74685481c54fc9affe1cb5e649fd78789870/expr.png\" style=\"display:inline;vertical-align:middle;\" /></a></td></tr>\n",
       "<tr><td>7</td><td>Lambda</td><td>parameter:&nbsp;46<br>body:&nbsp;41<br></td><td><a class=\"ProveItLink\" href=\"../../../../../../core_expr_types/__pv_it/common/df0b4fca3019c43cea64dc947b213dc42bb179980/expr.ipynb\"><img src=\"../../../../../../core_expr_types/__pv_it/common/df0b4fca3019c43cea64dc947b213dc42bb179980/expr.png\" style=\"display:inline;vertical-align:middle;\" /></a></td></tr>\n",
       "<tr><td>8</td><td>Operation</td><td>operator:&nbsp;10<br>operand:&nbsp;13<br></td><td><a class=\"ProveItLink\" href=\"../0a191900813f4674d6c5c4a2ad3ffc5ec19894fb0/expr.ipynb\"><img src=\"../0a191900813f4674d6c5c4a2ad3ffc5ec19894fb0/expr.png\" style=\"display:inline;vertical-align:middle;\" /></a></td></tr>\n",
       "<tr><td>9</td><td>Operation</td><td>operator:&nbsp;36<br>operands:&nbsp;12<br></td><td><a class=\"ProveItLink\" href=\"../39626badca6e51c12c926f033d2727efc4ca0eda0/expr.ipynb\"><img src=\"../39626badca6e51c12c926f033d2727efc4ca0eda0/expr.png\" style=\"display:inline;vertical-align:middle;\" /></a></td></tr>\n",
       "<tr><td>10</td><td>Literal</td><td></td><td><a class=\"ProveItLink\" href=\"../../../../../booleans/quantification/existence/__pv_it/common/fedc3809ed9823aab11264c156786a59540352e70/expr.ipynb\"><img src=\"../../../../../booleans/quantification/existence/__pv_it/common/fedc3809ed9823aab11264c156786a59540352e70/expr.png\" style=\"display:inline;vertical-align:middle;\" /></a></td></tr>\n",
       "<tr><td>11</td><td>ExprTuple</td><td>13</td><td><a class=\"ProveItLink\" href=\"../d38637bc981422111e74969b0b48a6e7ea551a4b0/expr.ipynb\"><img src=\"../d38637bc981422111e74969b0b48a6e7ea551a4b0/expr.png\" style=\"display:inline;vertical-align:middle;\" /></a></td></tr>\n",
       "<tr><td>12</td><td>ExprTuple</td><td>23, 14</td><td><a class=\"ProveItLink\" href=\"../caf8cc0280d2798f6c1cf07c114f62a6e4768cd80/expr.ipynb\"><img src=\"../caf8cc0280d2798f6c1cf07c114f62a6e4768cd80/expr.png\" style=\"display:inline;vertical-align:middle;\" /></a></td></tr>\n",
       "<tr><td>13</td><td>Lambda</td><td>parameters:&nbsp;33<br>body:&nbsp;15<br></td><td><a class=\"ProveItLink\" href=\"../25f75f2ed80f3f890a7e53df473250c14bdad4420/expr.ipynb\"><img src=\"../25f75f2ed80f3f890a7e53df473250c14bdad4420/expr.png\" style=\"display:inline;vertical-align:middle;\" /></a></td></tr>\n",
       "<tr><td>14</td><td>Operation</td><td>operator:&nbsp;16<br>operand:&nbsp;19<br></td><td><a class=\"ProveItLink\" href=\"../../../../__pv_it/common/8cfdcb2e58bc7aaedc7223403ac4f2df21d9170e0/expr.ipynb\"><img src=\"../../../../__pv_it/common/8cfdcb2e58bc7aaedc7223403ac4f2df21d9170e0/expr.png\" style=\"display:inline;vertical-align:middle;\" /></a></td></tr>\n",
       "<tr><td>15</td><td>Conditional</td><td>value:&nbsp;18<br>condition:&nbsp;25<br></td><td><a class=\"ProveItLink\" href=\"../ef44ec52d96c5a469c47dc612534e517076c48dc0/expr.ipynb\"><img src=\"../ef44ec52d96c5a469c47dc612534e517076c48dc0/expr.png\" style=\"display:inline;vertical-align:middle;\" /></a></td></tr>\n",
       "<tr><td>16</td><td>Literal</td><td></td><td><a class=\"ProveItLink\" href=\"../../common/b4bb00fffb81c35677d73fdf9e971725e2b59ae40/expr.ipynb\"><img src=\"../../common/b4bb00fffb81c35677d73fdf9e971725e2b59ae40/expr.png\" style=\"display:inline;vertical-align:middle;\" /></a></td></tr>\n",
       "<tr><td>17</td><td>ExprTuple</td><td>19</td><td><a class=\"ProveItLink\" href=\"../../../../__pv_it/common/0f738e59ba4fe8fb6c9215e9683b2ff85a8ef4990/expr.ipynb\"><img src=\"../../../../__pv_it/common/0f738e59ba4fe8fb6c9215e9683b2ff85a8ef4990/expr.png\" style=\"display:inline;vertical-align:middle;\" /></a></td></tr>\n",
       "<tr><td>18</td><td>Operation</td><td>operator:&nbsp;20<br>operands:&nbsp;21<br></td><td><a class=\"ProveItLink\" href=\"../981d78dad9e6eb7bf659fb9b901f442bf41d53dc0/expr.ipynb\"><img src=\"../981d78dad9e6eb7bf659fb9b901f442bf41d53dc0/expr.png\" style=\"display:inline;vertical-align:middle;\" /></a></td></tr>\n",
       "<tr><td>19</td><td>Lambda</td><td>parameters:&nbsp;33<br>body:&nbsp;22<br></td><td><a class=\"ProveItLink\" href=\"../../../../__pv_it/common/6002ba5bf4a7dd94f475b6999eceda04b9c77b8f0/expr.ipynb\"><img src=\"../../../../__pv_it/common/6002ba5bf4a7dd94f475b6999eceda04b9c77b8f0/expr.png\" style=\"display:inline;vertical-align:middle;\" /></a></td></tr>\n",
       "<tr><td>20</td><td>Literal</td><td></td><td><a class=\"ProveItLink\" href=\"../../../../../equality/__pv_it/common/fb96dc12b2aa8801dda64d0132b396c63d1502bb0/expr.ipynb\"><img src=\"../../../../../equality/__pv_it/common/fb96dc12b2aa8801dda64d0132b396c63d1502bb0/expr.png\" style=\"display:inline;vertical-align:middle;\" /></a></td></tr>\n",
       "<tr><td>21</td><td>ExprTuple</td><td>23, 24</td><td><a class=\"ProveItLink\" href=\"../f922e35d804a4d56579a5e51c3327d773ee10e600/expr.ipynb\"><img src=\"../f922e35d804a4d56579a5e51c3327d773ee10e600/expr.png\" style=\"display:inline;vertical-align:middle;\" /></a></td></tr>\n",
       "<tr><td>22</td><td>Conditional</td><td>value:&nbsp;24<br>condition:&nbsp;25<br></td><td><a class=\"ProveItLink\" href=\"../../../../__pv_it/common/2b9362c453bc6a2eca6ca9ff025368e85f9c75440/expr.ipynb\"><img src=\"../../../../__pv_it/common/2b9362c453bc6a2eca6ca9ff025368e85f9c75440/expr.png\" style=\"display:inline;vertical-align:middle;\" /></a></td></tr>\n",
       "<tr><td>23</td><td>Variable</td><td></td><td><a class=\"ProveItLink\" href=\"../../../../../../__pv_it/common/a0d9d672aa5e272d907247690c152cc2c6daafb70/expr.ipynb\"><img src=\"../../../../../../__pv_it/common/a0d9d672aa5e272d907247690c152cc2c6daafb70/expr.png\" style=\"display:inline;vertical-align:middle;\" /></a></td></tr>\n",
       "<tr><td>24</td><td>Operation</td><td>operator:&nbsp;26<br>operands:&nbsp;33<br></td><td><a class=\"ProveItLink\" href=\"../../../../../../core_expr_types/__pv_it/common/60bfa5e9a2fce657b7a87b0a2aa72ecbc09325350/expr.ipynb\"><img src=\"../../../../../../core_expr_types/__pv_it/common/60bfa5e9a2fce657b7a87b0a2aa72ecbc09325350/expr.png\" style=\"display:inline;vertical-align:middle;\" /></a></td></tr>\n",
       "<tr><td>25</td><td>Operation</td><td>operator:&nbsp;27<br>operands:&nbsp;28<br></td><td><a class=\"ProveItLink\" href=\"../../../../__pv_it/common/b689b8cf5e0cd52b955217f270210851bbc5d0170/expr.ipynb\"><img src=\"../../../../__pv_it/common/b689b8cf5e0cd52b955217f270210851bbc5d0170/expr.png\" style=\"display:inline;vertical-align:middle;\" /></a></td></tr>\n",
       "<tr><td>26</td><td>Variable</td><td></td><td><a class=\"ProveItLink\" href=\"../../../../../../__pv_it/common/01b6dbb444a31fc38af4c2379badef6c75b363710/expr.ipynb\"><img src=\"../../../../../../__pv_it/common/01b6dbb444a31fc38af4c2379badef6c75b363710/expr.png\" style=\"display:inline;vertical-align:middle;\" /></a></td></tr>\n",
       "<tr><td>27</td><td>Literal</td><td></td><td><a class=\"ProveItLink\" href=\"../../../../../booleans/conjunction/__pv_it/common/42118ff318bd65d98b1393f64ce7c2269feef76e0/expr.ipynb\"><img src=\"../../../../../booleans/conjunction/__pv_it/common/42118ff318bd65d98b1393f64ce7c2269feef76e0/expr.png\" style=\"display:inline;vertical-align:middle;\" /></a></td></tr>\n",
       "<tr><td>28</td><td>ExprTuple</td><td>29, 30</td><td><a class=\"ProveItLink\" href=\"../../../../__pv_it/common/ccf71d92cae84c2ec67b00acff55ea28b65b94920/expr.ipynb\"><img src=\"../../../../__pv_it/common/ccf71d92cae84c2ec67b00acff55ea28b65b94920/expr.png\" style=\"display:inline;vertical-align:middle;\" /></a></td></tr>\n",
       "<tr><td>29</td><td>ExprRange</td><td>lambda_map:&nbsp;31<br>start_index:&nbsp;39<br>end_index:&nbsp;40<br></td><td><a class=\"ProveItLink\" href=\"../../../../__pv_it/common/da20f7695abc6ae8d951bb146afae5c907473fca0/expr.ipynb\"><img src=\"../../../../__pv_it/common/da20f7695abc6ae8d951bb146afae5c907473fca0/expr.png\" style=\"display:inline;vertical-align:middle;\" /></a></td></tr>\n",
       "<tr><td>30</td><td>Operation</td><td>operator:&nbsp;32<br>operands:&nbsp;33<br></td><td><a class=\"ProveItLink\" href=\"../../../../../../core_expr_types/__pv_it/common/e38d9e725daa55259ff29a69c9848df141c43acc0/expr.ipynb\"><img src=\"../../../../../../core_expr_types/__pv_it/common/e38d9e725daa55259ff29a69c9848df141c43acc0/expr.png\" style=\"display:inline;vertical-align:middle;\" /></a></td></tr>\n",
       "<tr><td>31</td><td>Lambda</td><td>parameter:&nbsp;46<br>body:&nbsp;34<br></td><td><a class=\"ProveItLink\" href=\"../../../../__pv_it/common/3df1023f940f3e81fbd559030326cf21ecf088f50/expr.ipynb\"><img src=\"../../../../__pv_it/common/3df1023f940f3e81fbd559030326cf21ecf088f50/expr.png\" style=\"display:inline;vertical-align:middle;\" /></a></td></tr>\n",
       "<tr><td>32</td><td>Variable</td><td></td><td><a class=\"ProveItLink\" href=\"../../../../../../__pv_it/common/d72bb8b07403efe79afab564c36a28e21330e5f90/expr.ipynb\"><img src=\"../../../../../../__pv_it/common/d72bb8b07403efe79afab564c36a28e21330e5f90/expr.png\" style=\"display:inline;vertical-align:middle;\" /></a></td></tr>\n",
       "<tr><td>33</td><td>ExprTuple</td><td>35</td><td><a class=\"ProveItLink\" href=\"../../../../../../core_expr_types/__pv_it/common/3e6f103b1536f1d5f586682ee3b57d9899deba720/expr.ipynb\"><img src=\"../../../../../../core_expr_types/__pv_it/common/3e6f103b1536f1d5f586682ee3b57d9899deba720/expr.png\" style=\"display:inline;vertical-align:middle;\" /></a></td></tr>\n",
       "<tr><td>34</td><td>Operation</td><td>operator:&nbsp;36<br>operands:&nbsp;37<br></td><td><a class=\"ProveItLink\" href=\"../../../../__pv_it/common/b5a16ad436a75fe884103a876b9556f9fd940cc10/expr.ipynb\"><img src=\"../../../../__pv_it/common/b5a16ad436a75fe884103a876b9556f9fd940cc10/expr.png\" style=\"display:inline;vertical-align:middle;\" /></a></td></tr>\n",
       "<tr><td>35</td><td>ExprRange</td><td>lambda_map:&nbsp;38<br>start_index:&nbsp;39<br>end_index:&nbsp;40<br></td><td><a class=\"ProveItLink\" href=\"../../../../../../core_expr_types/__pv_it/common/bcf5ce1b1593e9c2c261618d94fd21c2cd04eae40/expr.ipynb\"><img src=\"../../../../../../core_expr_types/__pv_it/common/bcf5ce1b1593e9c2c261618d94fd21c2cd04eae40/expr.png\" style=\"display:inline;vertical-align:middle;\" /></a></td></tr>\n",
       "<tr><td>36</td><td>Literal</td><td></td><td><a class=\"ProveItLink\" href=\"../../../../membership/__pv_it/common/477487d8796864d23d5810f83761435f25167f690/expr.ipynb\"><img src=\"../../../../membership/__pv_it/common/477487d8796864d23d5810f83761435f25167f690/expr.png\" style=\"display:inline;vertical-align:middle;\" /></a></td></tr>\n",
       "<tr><td>37</td><td>ExprTuple</td><td>42, 41</td><td><a class=\"ProveItLink\" href=\"../../../../__pv_it/common/7da9e335898e4f64b947bf5e5e32c949a29f4ea90/expr.ipynb\"><img src=\"../../../../__pv_it/common/7da9e335898e4f64b947bf5e5e32c949a29f4ea90/expr.png\" style=\"display:inline;vertical-align:middle;\" /></a></td></tr>\n",
       "<tr><td>38</td><td>Lambda</td><td>parameter:&nbsp;46<br>body:&nbsp;42<br></td><td><a class=\"ProveItLink\" href=\"../../../../../../core_expr_types/__pv_it/common/47ca082a5e3217d68f414fa9b5fb4cf7b07e06430/expr.ipynb\"><img src=\"../../../../../../core_expr_types/__pv_it/common/47ca082a5e3217d68f414fa9b5fb4cf7b07e06430/expr.png\" style=\"display:inline;vertical-align:middle;\" /></a></td></tr>\n",
       "<tr><td>39</td><td>Literal</td><td></td><td><a class=\"ProveItLink\" href=\"../../../../../../numbers/numerals/__pv_it/common/682157d4892d216d9e5626ed533aff9b56b9506e0/expr.ipynb\"><img src=\"../../../../../../numbers/numerals/__pv_it/common/682157d4892d216d9e5626ed533aff9b56b9506e0/expr.png\" style=\"display:inline;vertical-align:middle;\" /></a></td></tr>\n",
       "<tr><td>40</td><td>Variable</td><td></td><td><a class=\"ProveItLink\" href=\"../../../../../../__pv_it/common/8968bb04eb3f7dfa02353397ce929b025bbd79c20/expr.ipynb\"><img src=\"../../../../../../__pv_it/common/8968bb04eb3f7dfa02353397ce929b025bbd79c20/expr.png\" style=\"display:inline;vertical-align:middle;\" /></a></td></tr>\n",
       "<tr><td>41</td><td>IndexedVar</td><td>variable:&nbsp;43<br>index:&nbsp;46<br></td><td><a class=\"ProveItLink\" href=\"../../../../../../core_expr_types/__pv_it/common/6b89cdf8fc850cb96799963f38ddb4c2de5a92d00/expr.ipynb\"><img src=\"../../../../../../core_expr_types/__pv_it/common/6b89cdf8fc850cb96799963f38ddb4c2de5a92d00/expr.png\" style=\"display:inline;vertical-align:middle;\" /></a></td></tr>\n",
       "<tr><td>42</td><td>IndexedVar</td><td>variable:&nbsp;44<br>index:&nbsp;46<br></td><td><a class=\"ProveItLink\" href=\"../../../../../../core_expr_types/__pv_it/common/dd83f4522fafc6cf7fa80e461f3330c821446f0a0/expr.ipynb\"><img src=\"../../../../../../core_expr_types/__pv_it/common/dd83f4522fafc6cf7fa80e461f3330c821446f0a0/expr.png\" style=\"display:inline;vertical-align:middle;\" /></a></td></tr>\n",
       "<tr><td>43</td><td>Variable</td><td></td><td><a class=\"ProveItLink\" href=\"../../../../../../__pv_it/common/38f47c5670ea8c5b56253448e95d8afb56bc09b40/expr.ipynb\"><img src=\"../../../../../../__pv_it/common/38f47c5670ea8c5b56253448e95d8afb56bc09b40/expr.png\" style=\"display:inline;vertical-align:middle;\" /></a></td></tr>\n",
       "<tr><td>44</td><td>Variable</td><td></td><td><a class=\"ProveItLink\" href=\"../../../../../../__pv_it/common/ff7dba4ef0bbe791ab573bf2d9c220a304399ac80/expr.ipynb\"><img src=\"../../../../../../__pv_it/common/ff7dba4ef0bbe791ab573bf2d9c220a304399ac80/expr.png\" style=\"display:inline;vertical-align:middle;\" /></a></td></tr>\n",
       "<tr><td>45</td><td>ExprTuple</td><td>46</td><td><a class=\"ProveItLink\" href=\"../../../../../../core_expr_types/__pv_it/common/4b0dd6be36d76552eda6a95d5b4a27f5a5b62f900/expr.ipynb\"><img src=\"../../../../../../core_expr_types/__pv_it/common/4b0dd6be36d76552eda6a95d5b4a27f5a5b62f900/expr.png\" style=\"display:inline;vertical-align:middle;\" /></a></td></tr>\n",
       "<tr><td>46</td><td>Variable</td><td></td><td><a class=\"ProveItLink\" href=\"../../../../../../core_expr_types/__pv_it/common/006c465e50948aa2b52285e2de47974f741255cc0/expr.ipynb\"><img src=\"../../../../../../core_expr_types/__pv_it/common/006c465e50948aa2b52285e2de47974f741255cc0/expr.png\" style=\"display:inline;vertical-align:middle;\" /></a></td></tr>\n",
       "</table>\n"
      ],
      "text/plain": [
       "0. ((S_{1}, S_{2}, ..., S_{n}, Q, f, x) -> ([exists_{(y_{1} in S_{1}), (y_{2} in S_{2}), ..., (y_{n} in S_{n}) | Q(y_{1}, y_{2}, ..., y_{n})} (x = f(y_{1}, y_{2}, ..., y_{n}))] \\\\  => (x in {f(y_{1}, y_{2}, ..., y_{n}) s.t. Q(y_{1}, y_{2}, ..., y_{n})}_{(y_{1} in S_{1}), (y_{2} in S_{2}), ..., (y_{n} in S_{n})})))\n",
       "   core type: ExprTuple\n",
       "   sub-expressions: 1\n",
       "1. (S_{1}, S_{2}, ..., S_{n}, Q, f, x) -> ([exists_{(y_{1} in S_{1}), (y_{2} in S_{2}), ..., (y_{n} in S_{n}) | Q(y_{1}, y_{2}, ..., y_{n})} (x = f(y_{1}, y_{2}, ..., y_{n}))] \\\\  => (x in {f(y_{1}, y_{2}, ..., y_{n}) s.t. Q(y_{1}, y_{2}, ..., y_{n})}_{(y_{1} in S_{1}), (y_{2} in S_{2}), ..., (y_{n} in S_{n})}))\n",
       "   core type: Lambda\n",
       "   parameters: 2\\n   body: 3\n",
       "2. (S_{1}, S_{2}, ..., S_{n}, Q, f, x)\n",
       "   core type: ExprTuple\n",
       "   sub-expressions: 4, 32, 26, 23\n",
       "3. [exists_{(y_{1} in S_{1}), (y_{2} in S_{2}), ..., (y_{n} in S_{n}) | Q(y_{1}, y_{2}, ..., y_{n})} (x = f(y_{1}, y_{2}, ..., y_{n}))] \\\\  => (x in {f(y_{1}, y_{2}, ..., y_{n}) s.t. Q(y_{1}, y_{2}, ..., y_{n})}_{(y_{1} in S_{1}), (y_{2} in S_{2}), ..., (y_{n} in S_{n})})\n",
       "   core type: Operation\n",
       "   operator: 5\n",
       "   operands: 6\n",
       "4. S_{1}, S_{2}, ..., S_{n}\n",
       "   core type: ExprRange\n",
       "   lambda_map: 7\n",
       "   start_index: 39\n",
       "   end_index: 40\n",
       "5. =>\n",
       "   core type: Literal\n",
       "   sub-expressions: \n",
       "6. (exists_{(y_{1} in S_{1}), (y_{2} in S_{2}), ..., (y_{n} in S_{n}) | Q(y_{1}, y_{2}, ..., y_{n})} (x = f(y_{1}, y_{2}, ..., y_{n})), x in {f(y_{1}, y_{2}, ..., y_{n}) s.t. Q(y_{1}, y_{2}, ..., y_{n})}_{(y_{1} in S_{1}), (y_{2} in S_{2}), ..., (y_{n} in S_{n})})\n",
       "   core type: ExprTuple\n",
       "   sub-expressions: 8, 9\n",
       "7. _a -> S_{_a}\n",
       "   core type: Lambda\n",
       "   parameter: 46\n",
       "   body: 41\n",
       "8. exists_{(y_{1} in S_{1}), (y_{2} in S_{2}), ..., (y_{n} in S_{n}) | Q(y_{1}, y_{2}, ..., y_{n})} (x = f(y_{1}, y_{2}, ..., y_{n}))\n",
       "   core type: Operation\n",
       "   operator: 10\n",
       "   operand: 13\n",
       "9. x in {f(y_{1}, y_{2}, ..., y_{n}) s.t. Q(y_{1}, y_{2}, ..., y_{n})}_{(y_{1} in S_{1}), (y_{2} in S_{2}), ..., (y_{n} in S_{n})}\n",
       "   core type: Operation\n",
       "   operator: 36\n",
       "   operands: 12\n",
       "10. exists\n",
       "    core type: Literal\n",
       "    sub-expressions: \n",
       "11. ((y_{1}, y_{2}, ..., y_{n}) -> {x = f(y_{1}, y_{2}, ..., y_{n}) if (y_{1} in S_{1}) ,  (y_{2} in S_{2}) ,  ... ,  (y_{n} in S_{n}) ,  Q(y_{1}, y_{2}, ..., y_{n}).)\n",
       "    core type: ExprTuple\n",
       "    sub-expressions: 13\n",
       "12. (x, {f(y_{1}, y_{2}, ..., y_{n}) s.t. Q(y_{1}, y_{2}, ..., y_{n})}_{(y_{1} in S_{1}), (y_{2} in S_{2}), ..., (y_{n} in S_{n})})\n",
       "    core type: ExprTuple\n",
       "    sub-expressions: 23, 14\n",
       "13. (y_{1}, y_{2}, ..., y_{n}) -> {x = f(y_{1}, y_{2}, ..., y_{n}) if (y_{1} in S_{1}) ,  (y_{2} in S_{2}) ,  ... ,  (y_{n} in S_{n}) ,  Q(y_{1}, y_{2}, ..., y_{n}).\n",
       "    core type: Lambda\n",
       "    parameters: 33\\n    body: 15\n",
       "14. {f(y_{1}, y_{2}, ..., y_{n}) s.t. Q(y_{1}, y_{2}, ..., y_{n})}_{(y_{1} in S_{1}), (y_{2} in S_{2}), ..., (y_{n} in S_{n})}\n",
       "    core type: Operation\n",
       "    operator: 16\n",
       "    operand: 19\n",
       "15. {x = f(y_{1}, y_{2}, ..., y_{n}) if (y_{1} in S_{1}) ,  (y_{2} in S_{2}) ,  ... ,  (y_{n} in S_{n}) ,  Q(y_{1}, y_{2}, ..., y_{n}).\n",
       "    core type: Conditional\n",
       "    value: 18\n",
       "    condition: 25\n",
       "16. SetOfAll\n",
       "    core type: Literal\n",
       "    sub-expressions: \n",
       "17. ((y_{1}, y_{2}, ..., y_{n}) -> {f(y_{1}, y_{2}, ..., y_{n}) if (y_{1} in S_{1}) ,  (y_{2} in S_{2}) ,  ... ,  (y_{n} in S_{n}) ,  Q(y_{1}, y_{2}, ..., y_{n}).)\n",
       "    core type: ExprTuple\n",
       "    sub-expressions: 19\n",
       "18. x = f(y_{1}, y_{2}, ..., y_{n})\n",
       "    core type: Operation\n",
       "    operator: 20\n",
       "    operands: 21\n",
       "19. (y_{1}, y_{2}, ..., y_{n}) -> {f(y_{1}, y_{2}, ..., y_{n}) if (y_{1} in S_{1}) ,  (y_{2} in S_{2}) ,  ... ,  (y_{n} in S_{n}) ,  Q(y_{1}, y_{2}, ..., y_{n}).\n",
       "    core type: Lambda\n",
       "    parameters: 33\\n    body: 22\n",
       "20. =\n",
       "    core type: Literal\n",
       "    sub-expressions: \n",
       "21. (x, f(y_{1}, y_{2}, ..., y_{n}))\n",
       "    core type: ExprTuple\n",
       "    sub-expressions: 23, 24\n",
       "22. {f(y_{1}, y_{2}, ..., y_{n}) if (y_{1} in S_{1}) ,  (y_{2} in S_{2}) ,  ... ,  (y_{n} in S_{n}) ,  Q(y_{1}, y_{2}, ..., y_{n}).\n",
       "    core type: Conditional\n",
       "    value: 24\n",
       "    condition: 25\n",
       "23. x\n",
       "    core type: Variable\n",
       "    sub-expressions: \n",
       "24. f(y_{1}, y_{2}, ..., y_{n})\n",
       "    core type: Operation\n",
       "    operator: 26\n",
       "    operands: 33\n",
       "25. (y_{1} in S_{1}) and  (y_{2} in S_{2}) and  ... and  (y_{n} in S_{n}) and Q(y_{1}, y_{2}, ..., y_{n})\n",
       "    core type: Operation\n",
       "    operator: 27\n",
       "    operands: 28\n",
       "26. f\n",
       "    core type: Variable\n",
       "    sub-expressions: \n",
       "27. and\n",
       "    core type: Literal\n",
       "    sub-expressions: \n",
       "28. ((y_{1} in S_{1}), (y_{2} in S_{2}), ..., (y_{n} in S_{n}), Q(y_{1}, y_{2}, ..., y_{n}))\n",
       "    core type: ExprTuple\n",
       "    sub-expressions: 29, 30\n",
       "29. (y_{1} in S_{1}), (y_{2} in S_{2}), ..., (y_{n} in S_{n})\n",
       "    core type: ExprRange\n",
       "    lambda_map: 31\n",
       "    start_index: 39\n",
       "    end_index: 40\n",
       "30. Q(y_{1}, y_{2}, ..., y_{n})\n",
       "    core type: Operation\n",
       "    operator: 32\n",
       "    operands: 33\n",
       "31. _a -> (y_{_a} in S_{_a})\n",
       "    core type: Lambda\n",
       "    parameter: 46\n",
       "    body: 34\n",
       "32. Q\n",
       "    core type: Variable\n",
       "    sub-expressions: \n",
       "33. (y_{1}, y_{2}, ..., y_{n})\n",
       "    core type: ExprTuple\n",
       "    sub-expressions: 35\n",
       "34. y_{_a} in S_{_a}\n",
       "    core type: Operation\n",
       "    operator: 36\n",
       "    operands: 37\n",
       "35. y_{1}, y_{2}, ..., y_{n}\n",
       "    core type: ExprRange\n",
       "    lambda_map: 38\n",
       "    start_index: 39\n",
       "    end_index: 40\n",
       "36. in\n",
       "    core type: Literal\n",
       "    sub-expressions: \n",
       "37. (y_{_a}, S_{_a})\n",
       "    core type: ExprTuple\n",
       "    sub-expressions: 42, 41\n",
       "38. _a -> y_{_a}\n",
       "    core type: Lambda\n",
       "    parameter: 46\n",
       "    body: 42\n",
       "39. 1\n",
       "    core type: Literal\n",
       "    sub-expressions: \n",
       "40. n\n",
       "    core type: Variable\n",
       "    sub-expressions: \n",
       "41. S_{_a}\n",
       "    core type: IndexedVar\n",
       "variable: 43\n",
       "index: 46\n",
       "42. y_{_a}\n",
       "    core type: IndexedVar\n",
       "variable: 44\n",
       "index: 46\n",
       "43. S\n",
       "    core type: Variable\n",
       "    sub-expressions: \n",
       "44. y\n",
       "    core type: Variable\n",
       "    sub-expressions: \n",
       "45. (_a)\n",
       "    core type: ExprTuple\n",
       "    sub-expressions: 46\n",
       "46. _a\n",
       "    core type: Variable\n",
       "    sub-expressions: "
      ]
     },
     "metadata": {},
     "output_type": "display_data"
    }
   ],
   "source": [
    "# display the expression information\n",
    "stored_expr.expr_info()"
   ]
  },
  {
   "cell_type": "code",
   "execution_count": null,
   "metadata": {},
   "outputs": [],
   "source": []
  }
 ],
 "metadata": {
  "kernelspec": {
   "display_name": "Python 3",
   "language": "python",
   "name": "python3"
  }
 },
 "nbformat": 4,
 "nbformat_minor": 0
}