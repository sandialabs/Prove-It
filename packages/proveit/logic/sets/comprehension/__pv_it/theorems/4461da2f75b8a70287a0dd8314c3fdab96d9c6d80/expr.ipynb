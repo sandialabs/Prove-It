{
 "cells": [
  {
   "cell_type": "markdown",
   "metadata": {},
   "source": [
    "Expression of type <a class=\"ProveItLink\" href=\"../../../../../../../../doc/html/api/proveit.logic.Equals.html\">Equals</a>\n",
    "=======================\n",
    "# from the theory of <a class=\"ProveItLink\" href=\"../../../_theory_nbs_/theory.ipynb\">proveit.logic.sets.comprehension</a>"
   ]
  },
  {
   "cell_type": "code",
   "execution_count": 1,
   "metadata": {},
   "outputs": [],
   "source": [
    "import proveit\n",
    "# Automation is not needed when building an expression:\n",
    "proveit.defaults.automation = False # This will speed things up.\n",
    "proveit.defaults.inline_pngs = False # Makes files smaller.\n",
    "%load_expr # Load the stored expression as 'stored_expr'\n",
    "# import Expression classes needed to build the expression\n",
    "from proveit import Qx, S, x\n",
    "from proveit.logic import And, Equals, InSet\n",
    "from proveit.logic.sets import basic_comprehension_y"
   ]
  },
  {
   "cell_type": "code",
   "execution_count": 2,
   "metadata": {},
   "outputs": [
    {
     "data": {
      "text/html": [
       "<strong id=\"expr\">expr:</strong> <a class=\"ProveItLink\" href=\"expr.ipynb\"><img src=\"expr.png\" style=\"display:inline;vertical-align:middle;\" /></a><br>"
      ],
      "text/plain": [
       "<IPython.core.display.HTML object>"
      ]
     },
     "metadata": {},
     "output_type": "display_data"
    }
   ],
   "source": [
    "# build up the expression from sub-expressions\n",
    "expr = Equals(InSet(x, basic_comprehension_y), And(InSet(x, S), Qx))"
   ]
  },
  {
   "cell_type": "code",
   "execution_count": 3,
   "metadata": {},
   "outputs": [
    {
     "name": "stdout",
     "output_type": "stream",
     "text": [
      "Passed sanity check: expr matches stored_expr\n"
     ]
    }
   ],
   "source": [
    "# check that the built expression is the same as the stored expression\n",
    "assert expr == stored_expr\n",
    "assert expr._style_id == stored_expr._style_id\n",
    "print(\"Passed sanity check: expr matches stored_expr\")"
   ]
  },
  {
   "cell_type": "code",
   "execution_count": 4,
   "metadata": {},
   "outputs": [
    {
     "name": "stdout",
     "output_type": "stream",
     "text": [
      "\\left(x \\in \\left\\{y~|~Q\\left(y\\right)\\right\\}_{y \\in S}\\right) = \\left(\\left(x \\in S\\right) \\land Q\\left(x\\right)\\right)\n"
     ]
    }
   ],
   "source": [
    "# Show the LaTeX representation of the expression for convenience if you need it.\n",
    "print(stored_expr.latex())"
   ]
  },
  {
   "cell_type": "code",
   "execution_count": 5,
   "metadata": {},
   "outputs": [
    {
     "data": {
      "text/html": [
       "<table>\n",
       "<tr><th>name</th><th>description</th><th>default</th><th>current value</th><th>related methods</th></tr><tr><td>operation</td><td>'infix' or 'function' style formatting</td><td>infix</td><td>infix</td><td></td></tr>\n",
       "<tr><td>wrap_positions</td><td>position(s) at which wrapping is to occur; '2 n - 1' is after the nth operand, '2 n' is after the nth operation.</td><td>()</td><td>()</td><td>('with_wrapping_at', 'with_wrap_before_operator', 'with_wrap_after_operator', 'without_wrapping', 'wrap_positions')</td></tr>\n",
       "<tr><td>justification</td><td>if any wrap positions are set, justify to the 'left', 'center', or 'right'</td><td>center</td><td>center</td><td>('with_justification',)</td></tr>\n",
       "<tr><td>direction</td><td>Direction of the relation (normal or reversed)</td><td>normal</td><td>normal</td><td>('with_direction_reversed', 'is_reversed')</td></tr>\n",
       "</table>\n"
      ],
      "text/plain": [
       "style name: operation\n",
       "description: 'infix' or 'function' style formatting\n",
       "default: infix\n",
       "current value: infix\n",
       "related methods: ()\n",
       "style name: wrap_positions\n",
       "description: position(s) at which wrapping is to occur; '2 n - 1' is after the nth operand, '2 n' is after the nth operation.\n",
       "default: ()\n",
       "current value: ()\n",
       "related methods: ('with_wrapping_at', 'with_wrap_before_operator', 'with_wrap_after_operator', 'without_wrapping', 'wrap_positions')\n",
       "style name: justification\n",
       "description: if any wrap positions are set, justify to the 'left', 'center', or 'right'\n",
       "default: center\n",
       "current value: center\n",
       "related methods: ('with_justification',)\n",
       "style name: direction\n",
       "description: Direction of the relation (normal or reversed)\n",
       "default: normal\n",
       "current value: normal\n",
       "related methods: ('with_direction_reversed', 'is_reversed')"
      ]
     },
     "metadata": {},
     "output_type": "display_data"
    }
   ],
   "source": [
    "stored_expr.style_options()"
   ]
  },
  {
   "cell_type": "code",
   "execution_count": 6,
   "metadata": {},
   "outputs": [
    {
     "data": {
      "text/html": [
       "<table><tr><th>&nbsp;</th><th>core type</th><th>sub-expressions</th><th>expression</th></tr>\n",
       "<tr><td>0</td><td>Operation</td><td>operator:&nbsp;1<br>operands:&nbsp;2<br></td><td><a class=\"ProveItLink\" href=\"expr.ipynb\"><img src=\"expr.png\" style=\"display:inline;vertical-align:middle;\" /></a></td></tr>\n",
       "<tr><td>1</td><td>Literal</td><td></td><td><a class=\"ProveItLink\" href=\"../../../../../equality/__pv_it/common/fb96dc12b2aa8801dda64d0132b396c63d1502bb0/expr.ipynb\"><img src=\"../../../../../equality/__pv_it/common/fb96dc12b2aa8801dda64d0132b396c63d1502bb0/expr.png\" style=\"display:inline;vertical-align:middle;\" /></a></td></tr>\n",
       "<tr><td>2</td><td>ExprTuple</td><td>3, 4</td><td><a class=\"ProveItLink\" href=\"../52c4fba328caaf1e299f8fe0e684db1e9faaac620/expr.ipynb\"><img src=\"../52c4fba328caaf1e299f8fe0e684db1e9faaac620/expr.png\" style=\"display:inline;vertical-align:middle;\" /></a></td></tr>\n",
       "<tr><td>3</td><td>Operation</td><td>operator:&nbsp;22<br>operands:&nbsp;5<br></td><td><a class=\"ProveItLink\" href=\"../94702c5df795fc73305b94c4c41b57d2fce2088b0/expr.ipynb\"><img src=\"../94702c5df795fc73305b94c4c41b57d2fce2088b0/expr.png\" style=\"display:inline;vertical-align:middle;\" /></a></td></tr>\n",
       "<tr><td>4</td><td>Operation</td><td>operator:&nbsp;18<br>operands:&nbsp;6<br></td><td><a class=\"ProveItLink\" href=\"../b7df7a77b9a82d9195a92b4bcf211af65fba27cc0/expr.ipynb\"><img src=\"../b7df7a77b9a82d9195a92b4bcf211af65fba27cc0/expr.png\" style=\"display:inline;vertical-align:middle;\" /></a></td></tr>\n",
       "<tr><td>5</td><td>ExprTuple</td><td>15, 7</td><td><a class=\"ProveItLink\" href=\"../a3fdbe6dd79643abfffb3d9995c3d659787a755e0/expr.ipynb\"><img src=\"../a3fdbe6dd79643abfffb3d9995c3d659787a755e0/expr.png\" style=\"display:inline;vertical-align:middle;\" /></a></td></tr>\n",
       "<tr><td>6</td><td>ExprTuple</td><td>8, 9</td><td><a class=\"ProveItLink\" href=\"../426316cce1258ee0bd9701e5c7658a056aa133db0/expr.ipynb\"><img src=\"../426316cce1258ee0bd9701e5c7658a056aa133db0/expr.png\" style=\"display:inline;vertical-align:middle;\" /></a></td></tr>\n",
       "<tr><td>7</td><td>Operation</td><td>operator:&nbsp;10<br>operand:&nbsp;14<br></td><td><a class=\"ProveItLink\" href=\"../../../../__pv_it/common/3c12ac131af9fb6a89d8a224333f6479bfd361da0/expr.ipynb\"><img src=\"../../../../__pv_it/common/3c12ac131af9fb6a89d8a224333f6479bfd361da0/expr.png\" style=\"display:inline;vertical-align:middle;\" /></a></td></tr>\n",
       "<tr><td>8</td><td>Operation</td><td>operator:&nbsp;22<br>operands:&nbsp;12<br></td><td><a class=\"ProveItLink\" href=\"../e15daefd530e6af1913a3a751ea70ed093591b3d0/expr.ipynb\"><img src=\"../e15daefd530e6af1913a3a751ea70ed093591b3d0/expr.png\" style=\"display:inline;vertical-align:middle;\" /></a></td></tr>\n",
       "<tr><td>9</td><td>Operation</td><td>operator:&nbsp;24<br>operand:&nbsp;15<br></td><td><a class=\"ProveItLink\" href=\"../../../../../../__pv_it/common/fce49534291e406d3d43684e225f1a2779a61f030/expr.ipynb\"><img src=\"../../../../../../__pv_it/common/fce49534291e406d3d43684e225f1a2779a61f030/expr.png\" style=\"display:inline;vertical-align:middle;\" /></a></td></tr>\n",
       "<tr><td>10</td><td>Literal</td><td></td><td><a class=\"ProveItLink\" href=\"../../common/b4bb00fffb81c35677d73fdf9e971725e2b59ae40/expr.ipynb\"><img src=\"../../common/b4bb00fffb81c35677d73fdf9e971725e2b59ae40/expr.png\" style=\"display:inline;vertical-align:middle;\" /></a></td></tr>\n",
       "<tr><td>11</td><td>ExprTuple</td><td>14</td><td><a class=\"ProveItLink\" href=\"../../../../__pv_it/common/d72e058fb0dce837683b8f5df073affefe5827bd0/expr.ipynb\"><img src=\"../../../../__pv_it/common/d72e058fb0dce837683b8f5df073affefe5827bd0/expr.png\" style=\"display:inline;vertical-align:middle;\" /></a></td></tr>\n",
       "<tr><td>12</td><td>ExprTuple</td><td>15, 26</td><td><a class=\"ProveItLink\" href=\"../c7c06b26a27420fe15bf7758f31a7b4d4d978d0b0/expr.ipynb\"><img src=\"../c7c06b26a27420fe15bf7758f31a7b4d4d978d0b0/expr.png\" style=\"display:inline;vertical-align:middle;\" /></a></td></tr>\n",
       "<tr><td>13</td><td>ExprTuple</td><td>15</td><td><a class=\"ProveItLink\" href=\"../../../../../../__pv_it/common/eacfeccc0521684fcb20fe8f5180ac50fca471f20/expr.ipynb\"><img src=\"../../../../../../__pv_it/common/eacfeccc0521684fcb20fe8f5180ac50fca471f20/expr.png\" style=\"display:inline;vertical-align:middle;\" /></a></td></tr>\n",
       "<tr><td>14</td><td>Lambda</td><td>parameter:&nbsp;27<br>body:&nbsp;16<br></td><td><a class=\"ProveItLink\" href=\"../../../../__pv_it/common/c2c5813dc49be10b17fb822a2c79d2ed543a79e30/expr.ipynb\"><img src=\"../../../../__pv_it/common/c2c5813dc49be10b17fb822a2c79d2ed543a79e30/expr.png\" style=\"display:inline;vertical-align:middle;\" /></a></td></tr>\n",
       "<tr><td>15</td><td>Variable</td><td></td><td><a class=\"ProveItLink\" href=\"../../../../../../__pv_it/common/a0d9d672aa5e272d907247690c152cc2c6daafb70/expr.ipynb\"><img src=\"../../../../../../__pv_it/common/a0d9d672aa5e272d907247690c152cc2c6daafb70/expr.png\" style=\"display:inline;vertical-align:middle;\" /></a></td></tr>\n",
       "<tr><td>16</td><td>Conditional</td><td>value:&nbsp;27<br>condition:&nbsp;17<br></td><td><a class=\"ProveItLink\" href=\"../../../../__pv_it/common/459d8200156701c35bc1f21aec0a8bad483682ec0/expr.ipynb\"><img src=\"../../../../__pv_it/common/459d8200156701c35bc1f21aec0a8bad483682ec0/expr.png\" style=\"display:inline;vertical-align:middle;\" /></a></td></tr>\n",
       "<tr><td>17</td><td>Operation</td><td>operator:&nbsp;18<br>operands:&nbsp;19<br></td><td><a class=\"ProveItLink\" href=\"../../../../__pv_it/common/eb88ef9ebc805e5d3da500a395f6d015cd14de020/expr.ipynb\"><img src=\"../../../../__pv_it/common/eb88ef9ebc805e5d3da500a395f6d015cd14de020/expr.png\" style=\"display:inline;vertical-align:middle;\" /></a></td></tr>\n",
       "<tr><td>18</td><td>Literal</td><td></td><td><a class=\"ProveItLink\" href=\"../../../../../booleans/conjunction/__pv_it/common/42118ff318bd65d98b1393f64ce7c2269feef76e0/expr.ipynb\"><img src=\"../../../../../booleans/conjunction/__pv_it/common/42118ff318bd65d98b1393f64ce7c2269feef76e0/expr.png\" style=\"display:inline;vertical-align:middle;\" /></a></td></tr>\n",
       "<tr><td>19</td><td>ExprTuple</td><td>20, 21</td><td><a class=\"ProveItLink\" href=\"../../../../__pv_it/common/7341c04d6223310c92df2a3be52312b8ca3d8a810/expr.ipynb\"><img src=\"../../../../__pv_it/common/7341c04d6223310c92df2a3be52312b8ca3d8a810/expr.png\" style=\"display:inline;vertical-align:middle;\" /></a></td></tr>\n",
       "<tr><td>20</td><td>Operation</td><td>operator:&nbsp;22<br>operands:&nbsp;23<br></td><td><a class=\"ProveItLink\" href=\"../../../../__pv_it/common/df7055fd552fa2fe9c58660bfdae0ffb5db3e08a0/expr.ipynb\"><img src=\"../../../../__pv_it/common/df7055fd552fa2fe9c58660bfdae0ffb5db3e08a0/expr.png\" style=\"display:inline;vertical-align:middle;\" /></a></td></tr>\n",
       "<tr><td>21</td><td>Operation</td><td>operator:&nbsp;24<br>operand:&nbsp;27<br></td><td><a class=\"ProveItLink\" href=\"../../../../../../__pv_it/common/5941bdda6544fc36bf4c4fbcb7f152f93ac5c5ab0/expr.ipynb\"><img src=\"../../../../../../__pv_it/common/5941bdda6544fc36bf4c4fbcb7f152f93ac5c5ab0/expr.png\" style=\"display:inline;vertical-align:middle;\" /></a></td></tr>\n",
       "<tr><td>22</td><td>Literal</td><td></td><td><a class=\"ProveItLink\" href=\"../../../../membership/__pv_it/common/477487d8796864d23d5810f83761435f25167f690/expr.ipynb\"><img src=\"../../../../membership/__pv_it/common/477487d8796864d23d5810f83761435f25167f690/expr.png\" style=\"display:inline;vertical-align:middle;\" /></a></td></tr>\n",
       "<tr><td>23</td><td>ExprTuple</td><td>27, 26</td><td><a class=\"ProveItLink\" href=\"../../../../__pv_it/common/c542d16e0bf7874c9fd45461064f816e6f151c020/expr.ipynb\"><img src=\"../../../../__pv_it/common/c542d16e0bf7874c9fd45461064f816e6f151c020/expr.png\" style=\"display:inline;vertical-align:middle;\" /></a></td></tr>\n",
       "<tr><td>24</td><td>Variable</td><td></td><td><a class=\"ProveItLink\" href=\"../../../../../../__pv_it/common/d72bb8b07403efe79afab564c36a28e21330e5f90/expr.ipynb\"><img src=\"../../../../../../__pv_it/common/d72bb8b07403efe79afab564c36a28e21330e5f90/expr.png\" style=\"display:inline;vertical-align:middle;\" /></a></td></tr>\n",
       "<tr><td>25</td><td>ExprTuple</td><td>27</td><td><a class=\"ProveItLink\" href=\"../../../../../../__pv_it/common/8ec7f6fe639763828b300003a52d700ece4a5c240/expr.ipynb\"><img src=\"../../../../../../__pv_it/common/8ec7f6fe639763828b300003a52d700ece4a5c240/expr.png\" style=\"display:inline;vertical-align:middle;\" /></a></td></tr>\n",
       "<tr><td>26</td><td>Variable</td><td></td><td><a class=\"ProveItLink\" href=\"../../../../../../__pv_it/common/38f47c5670ea8c5b56253448e95d8afb56bc09b40/expr.ipynb\"><img src=\"../../../../../../__pv_it/common/38f47c5670ea8c5b56253448e95d8afb56bc09b40/expr.png\" style=\"display:inline;vertical-align:middle;\" /></a></td></tr>\n",
       "<tr><td>27</td><td>Variable</td><td></td><td><a class=\"ProveItLink\" href=\"../../../../../../__pv_it/common/ff7dba4ef0bbe791ab573bf2d9c220a304399ac80/expr.ipynb\"><img src=\"../../../../../../__pv_it/common/ff7dba4ef0bbe791ab573bf2d9c220a304399ac80/expr.png\" style=\"display:inline;vertical-align:middle;\" /></a></td></tr>\n",
       "</table>\n"
      ],
      "text/plain": [
       "0. (x in {y s.t. Q(y)}_{y in S}) = ((x in S) and Q(x))\n",
       "   core type: Operation\n",
       "   operator: 1\n",
       "   operands: 2\n",
       "1. =\n",
       "   core type: Literal\n",
       "   sub-expressions: \n",
       "2. (x in {y s.t. Q(y)}_{y in S}, (x in S) and Q(x))\n",
       "   core type: ExprTuple\n",
       "   sub-expressions: 3, 4\n",
       "3. x in {y s.t. Q(y)}_{y in S}\n",
       "   core type: Operation\n",
       "   operator: 22\n",
       "   operands: 5\n",
       "4. (x in S) and Q(x)\n",
       "   core type: Operation\n",
       "   operator: 18\n",
       "   operands: 6\n",
       "5. (x, {y s.t. Q(y)}_{y in S})\n",
       "   core type: ExprTuple\n",
       "   sub-expressions: 15, 7\n",
       "6. (x in S, Q(x))\n",
       "   core type: ExprTuple\n",
       "   sub-expressions: 8, 9\n",
       "7. {y s.t. Q(y)}_{y in S}\n",
       "   core type: Operation\n",
       "   operator: 10\n",
       "   operand: 14\n",
       "8. x in S\n",
       "   core type: Operation\n",
       "   operator: 22\n",
       "   operands: 12\n",
       "9. Q(x)\n",
       "   core type: Operation\n",
       "   operator: 24\n",
       "   operand: 15\n",
       "10. SetOfAll\n",
       "    core type: Literal\n",
       "    sub-expressions: \n",
       "11. (y -> {y if y in S ,  Q(y).)\n",
       "    core type: ExprTuple\n",
       "    sub-expressions: 14\n",
       "12. (x, S)\n",
       "    core type: ExprTuple\n",
       "    sub-expressions: 15, 26\n",
       "13. (x)\n",
       "    core type: ExprTuple\n",
       "    sub-expressions: 15\n",
       "14. y -> {y if y in S ,  Q(y).\n",
       "    core type: Lambda\n",
       "    parameter: 27\n",
       "    body: 16\n",
       "15. x\n",
       "    core type: Variable\n",
       "    sub-expressions: \n",
       "16. {y if y in S ,  Q(y).\n",
       "    core type: Conditional\n",
       "    value: 27\n",
       "    condition: 17\n",
       "17. (y in S) and Q(y)\n",
       "    core type: Operation\n",
       "    operator: 18\n",
       "    operands: 19\n",
       "18. and\n",
       "    core type: Literal\n",
       "    sub-expressions: \n",
       "19. (y in S, Q(y))\n",
       "    core type: ExprTuple\n",
       "    sub-expressions: 20, 21\n",
       "20. y in S\n",
       "    core type: Operation\n",
       "    operator: 22\n",
       "    operands: 23\n",
       "21. Q(y)\n",
       "    core type: Operation\n",
       "    operator: 24\n",
       "    operand: 27\n",
       "22. in\n",
       "    core type: Literal\n",
       "    sub-expressions: \n",
       "23. (y, S)\n",
       "    core type: ExprTuple\n",
       "    sub-expressions: 27, 26\n",
       "24. Q\n",
       "    core type: Variable\n",
       "    sub-expressions: \n",
       "25. (y)\n",
       "    core type: ExprTuple\n",
       "    sub-expressions: 27\n",
       "26. S\n",
       "    core type: Variable\n",
       "    sub-expressions: \n",
       "27. y\n",
       "    core type: Variable\n",
       "    sub-expressions: "
      ]
     },
     "metadata": {},
     "output_type": "display_data"
    }
   ],
   "source": [
    "# display the expression information\n",
    "stored_expr.expr_info()"
   ]
  },
  {
   "cell_type": "code",
   "execution_count": null,
   "metadata": {},
   "outputs": [],
   "source": []
  }
 ],
 "metadata": {
  "kernelspec": {
   "display_name": "Python 3",
   "language": "python",
   "name": "python3"
  }
 },
 "nbformat": 4,
 "nbformat_minor": 0
}