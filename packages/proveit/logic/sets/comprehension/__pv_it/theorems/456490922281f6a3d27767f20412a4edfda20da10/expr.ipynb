{
 "cells": [
  {
   "cell_type": "markdown",
   "metadata": {},
   "source": [
    "Expression of type <a class=\"ProveItLink\" href=\"../../../../../../../../doc/html/api/proveit.logic.Forall.html\">Forall</a>\n",
    "=======================\n",
    "# from the theory of <a class=\"ProveItLink\" href=\"../../../_theory_nbs_/theory.ipynb\">proveit.logic.sets.comprehension</a>"
   ]
  },
  {
   "cell_type": "code",
   "execution_count": 1,
   "metadata": {},
   "outputs": [],
   "source": [
    "import proveit\n",
    "# Automation is not needed when building an expression:\n",
    "proveit.defaults.automation = False # This will speed things up.\n",
    "proveit.defaults.inline_pngs = False # Makes files smaller.\n",
    "%load_expr # Load the stored expression as 'stored_expr'\n",
    "# import Expression classes needed to build the expression\n",
    "from proveit import Q, Qx, S, x\n",
    "from proveit.logic import Forall, InSet\n",
    "from proveit.logic.sets import basic_comprehension_y"
   ]
  },
  {
   "cell_type": "code",
   "execution_count": 2,
   "metadata": {},
   "outputs": [
    {
     "data": {
      "text/html": [
       "<strong id=\"expr\">expr:</strong> <a class=\"ProveItLink\" href=\"expr.ipynb\"><img src=\"expr.png\" style=\"display:inline;vertical-align:middle;\" /></a><br>"
      ],
      "text/plain": [
       "<IPython.core.display.HTML object>"
      ]
     },
     "metadata": {},
     "output_type": "display_data"
    }
   ],
   "source": [
    "# build up the expression from sub-expressions\n",
    "expr = Forall(instance_param_or_params = [S, Q], instance_expr = Forall(instance_param_or_params = [x], instance_expr = InSet(x, basic_comprehension_y), domain = S, condition = Qx))"
   ]
  },
  {
   "cell_type": "code",
   "execution_count": 3,
   "metadata": {},
   "outputs": [
    {
     "name": "stdout",
     "output_type": "stream",
     "text": [
      "Passed sanity check: expr matches stored_expr\n"
     ]
    }
   ],
   "source": [
    "# check that the built expression is the same as the stored expression\n",
    "assert expr == stored_expr\n",
    "assert expr._style_id == stored_expr._style_id\n",
    "print(\"Passed sanity check: expr matches stored_expr\")"
   ]
  },
  {
   "cell_type": "code",
   "execution_count": 4,
   "metadata": {},
   "outputs": [
    {
     "name": "stdout",
     "output_type": "stream",
     "text": [
      "\\forall_{S, Q}~\\left[\\forall_{x \\in S~|~Q\\left(x\\right)}~\\left(x \\in \\left\\{y~|~Q\\left(y\\right)\\right\\}_{y \\in S}\\right)\\right]\n"
     ]
    }
   ],
   "source": [
    "# Show the LaTeX representation of the expression for convenience if you need it.\n",
    "print(stored_expr.latex())"
   ]
  },
  {
   "cell_type": "code",
   "execution_count": 5,
   "metadata": {},
   "outputs": [
    {
     "data": {
      "text/html": [
       "<table>\n",
       "<tr><th>name</th><th>description</th><th>default</th><th>current value</th><th>related methods</th></tr><tr><td>with_wrapping</td><td>If 'True', wrap the Expression after the parameters</td><td>None</td><td>None/False</td><td>('with_wrapping',)</td></tr>\n",
       "<tr><td>condition_wrapping</td><td>Wrap 'before' or 'after' the condition (or None).</td><td>None</td><td>None/False</td><td>('with_wrap_after_condition', 'with_wrap_before_condition')</td></tr>\n",
       "<tr><td>wrap_params</td><td>If 'True', wraps every two parameters AND wraps the Expression after the parameters</td><td>None</td><td>None/False</td><td>('with_params',)</td></tr>\n",
       "<tr><td>justification</td><td>justify to the 'left', 'center', or 'right' in the array cells</td><td>center</td><td>center</td><td>('with_justification',)</td></tr>\n",
       "</table>\n"
      ],
      "text/plain": [
       "style name: with_wrapping\n",
       "description: If 'True', wrap the Expression after the parameters\n",
       "default: None\n",
       "current value: None/False\n",
       "related methods: ('with_wrapping',)\n",
       "style name: condition_wrapping\n",
       "description: Wrap 'before' or 'after' the condition (or None).\n",
       "default: None\n",
       "current value: None/False\n",
       "related methods: ('with_wrap_after_condition', 'with_wrap_before_condition')\n",
       "style name: wrap_params\n",
       "description: If 'True', wraps every two parameters AND wraps the Expression after the parameters\n",
       "default: None\n",
       "current value: None/False\n",
       "related methods: ('with_params',)\n",
       "style name: justification\n",
       "description: justify to the 'left', 'center', or 'right' in the array cells\n",
       "default: center\n",
       "current value: center\n",
       "related methods: ('with_justification',)"
      ]
     },
     "metadata": {},
     "output_type": "display_data"
    }
   ],
   "source": [
    "stored_expr.style_options()"
   ]
  },
  {
   "cell_type": "code",
   "execution_count": 6,
   "metadata": {},
   "outputs": [
    {
     "data": {
      "text/html": [
       "<table><tr><th>&nbsp;</th><th>core type</th><th>sub-expressions</th><th>expression</th></tr>\n",
       "<tr><td>0</td><td>Operation</td><td>operator:&nbsp;5<br>operand:&nbsp;2<br></td><td><a class=\"ProveItLink\" href=\"expr.ipynb\"><img src=\"expr.png\" style=\"display:inline;vertical-align:middle;\" /></a></td></tr>\n",
       "<tr><td>1</td><td>ExprTuple</td><td>2</td><td><a class=\"ProveItLink\" href=\"../05f72b6abc269209a40b9b2907e571feae18c48d0/expr.ipynb\"><img src=\"../05f72b6abc269209a40b9b2907e571feae18c48d0/expr.png\" style=\"display:inline;vertical-align:middle;\" /></a></td></tr>\n",
       "<tr><td>2</td><td>Lambda</td><td>parameters:&nbsp;3<br>body:&nbsp;4<br></td><td><a class=\"ProveItLink\" href=\"../eed754a9fa3414201f92b1b700d029c8bf1b3cac0/expr.ipynb\"><img src=\"../eed754a9fa3414201f92b1b700d029c8bf1b3cac0/expr.png\" style=\"display:inline;vertical-align:middle;\" /></a></td></tr>\n",
       "<tr><td>3</td><td>ExprTuple</td><td>32, 30</td><td><a class=\"ProveItLink\" href=\"../8419a9e4052c98091914cf25456c9cd802e683430/expr.ipynb\"><img src=\"../8419a9e4052c98091914cf25456c9cd802e683430/expr.png\" style=\"display:inline;vertical-align:middle;\" /></a></td></tr>\n",
       "<tr><td>4</td><td>Operation</td><td>operator:&nbsp;5<br>operand:&nbsp;7<br></td><td><a class=\"ProveItLink\" href=\"../477baf6206275a682040688a6377ba5c5a2761080/expr.ipynb\"><img src=\"../477baf6206275a682040688a6377ba5c5a2761080/expr.png\" style=\"display:inline;vertical-align:middle;\" /></a></td></tr>\n",
       "<tr><td>5</td><td>Literal</td><td></td><td><a class=\"ProveItLink\" href=\"../../../../../booleans/quantification/universality/__pv_it/common/083d2baa0b8ecab1d230f9ec29a15aa1355809fb0/expr.ipynb\"><img src=\"../../../../../booleans/quantification/universality/__pv_it/common/083d2baa0b8ecab1d230f9ec29a15aa1355809fb0/expr.png\" style=\"display:inline;vertical-align:middle;\" /></a></td></tr>\n",
       "<tr><td>6</td><td>ExprTuple</td><td>7</td><td><a class=\"ProveItLink\" href=\"../3613be14e03e2b85ce82d876495816cbc22f8ff80/expr.ipynb\"><img src=\"../3613be14e03e2b85ce82d876495816cbc22f8ff80/expr.png\" style=\"display:inline;vertical-align:middle;\" /></a></td></tr>\n",
       "<tr><td>7</td><td>Lambda</td><td>parameter:&nbsp;21<br>body:&nbsp;8<br></td><td><a class=\"ProveItLink\" href=\"../5b89646b4a8d177bce9d51a1470530726a40f0370/expr.ipynb\"><img src=\"../5b89646b4a8d177bce9d51a1470530726a40f0370/expr.png\" style=\"display:inline;vertical-align:middle;\" /></a></td></tr>\n",
       "<tr><td>8</td><td>Conditional</td><td>value:&nbsp;9<br>condition:&nbsp;10<br></td><td><a class=\"ProveItLink\" href=\"../5fce556b706f6a466794842964b95e01a734f1d30/expr.ipynb\"><img src=\"../5fce556b706f6a466794842964b95e01a734f1d30/expr.png\" style=\"display:inline;vertical-align:middle;\" /></a></td></tr>\n",
       "<tr><td>9</td><td>Operation</td><td>operator:&nbsp;28<br>operands:&nbsp;11<br></td><td><a class=\"ProveItLink\" href=\"../94702c5df795fc73305b94c4c41b57d2fce2088b0/expr.ipynb\"><img src=\"../94702c5df795fc73305b94c4c41b57d2fce2088b0/expr.png\" style=\"display:inline;vertical-align:middle;\" /></a></td></tr>\n",
       "<tr><td>10</td><td>Operation</td><td>operator:&nbsp;24<br>operands:&nbsp;12<br></td><td><a class=\"ProveItLink\" href=\"../b7df7a77b9a82d9195a92b4bcf211af65fba27cc0/expr.ipynb\"><img src=\"../b7df7a77b9a82d9195a92b4bcf211af65fba27cc0/expr.png\" style=\"display:inline;vertical-align:middle;\" /></a></td></tr>\n",
       "<tr><td>11</td><td>ExprTuple</td><td>21, 13</td><td><a class=\"ProveItLink\" href=\"../a3fdbe6dd79643abfffb3d9995c3d659787a755e0/expr.ipynb\"><img src=\"../a3fdbe6dd79643abfffb3d9995c3d659787a755e0/expr.png\" style=\"display:inline;vertical-align:middle;\" /></a></td></tr>\n",
       "<tr><td>12</td><td>ExprTuple</td><td>14, 15</td><td><a class=\"ProveItLink\" href=\"../426316cce1258ee0bd9701e5c7658a056aa133db0/expr.ipynb\"><img src=\"../426316cce1258ee0bd9701e5c7658a056aa133db0/expr.png\" style=\"display:inline;vertical-align:middle;\" /></a></td></tr>\n",
       "<tr><td>13</td><td>Operation</td><td>operator:&nbsp;16<br>operand:&nbsp;20<br></td><td><a class=\"ProveItLink\" href=\"../../../../__pv_it/common/3c12ac131af9fb6a89d8a224333f6479bfd361da0/expr.ipynb\"><img src=\"../../../../__pv_it/common/3c12ac131af9fb6a89d8a224333f6479bfd361da0/expr.png\" style=\"display:inline;vertical-align:middle;\" /></a></td></tr>\n",
       "<tr><td>14</td><td>Operation</td><td>operator:&nbsp;28<br>operands:&nbsp;18<br></td><td><a class=\"ProveItLink\" href=\"../e15daefd530e6af1913a3a751ea70ed093591b3d0/expr.ipynb\"><img src=\"../e15daefd530e6af1913a3a751ea70ed093591b3d0/expr.png\" style=\"display:inline;vertical-align:middle;\" /></a></td></tr>\n",
       "<tr><td>15</td><td>Operation</td><td>operator:&nbsp;30<br>operand:&nbsp;21<br></td><td><a class=\"ProveItLink\" href=\"../../../../../../__pv_it/common/fce49534291e406d3d43684e225f1a2779a61f030/expr.ipynb\"><img src=\"../../../../../../__pv_it/common/fce49534291e406d3d43684e225f1a2779a61f030/expr.png\" style=\"display:inline;vertical-align:middle;\" /></a></td></tr>\n",
       "<tr><td>16</td><td>Literal</td><td></td><td><a class=\"ProveItLink\" href=\"../../common/b4bb00fffb81c35677d73fdf9e971725e2b59ae40/expr.ipynb\"><img src=\"../../common/b4bb00fffb81c35677d73fdf9e971725e2b59ae40/expr.png\" style=\"display:inline;vertical-align:middle;\" /></a></td></tr>\n",
       "<tr><td>17</td><td>ExprTuple</td><td>20</td><td><a class=\"ProveItLink\" href=\"../../../../__pv_it/common/d72e058fb0dce837683b8f5df073affefe5827bd0/expr.ipynb\"><img src=\"../../../../__pv_it/common/d72e058fb0dce837683b8f5df073affefe5827bd0/expr.png\" style=\"display:inline;vertical-align:middle;\" /></a></td></tr>\n",
       "<tr><td>18</td><td>ExprTuple</td><td>21, 32</td><td><a class=\"ProveItLink\" href=\"../c7c06b26a27420fe15bf7758f31a7b4d4d978d0b0/expr.ipynb\"><img src=\"../c7c06b26a27420fe15bf7758f31a7b4d4d978d0b0/expr.png\" style=\"display:inline;vertical-align:middle;\" /></a></td></tr>\n",
       "<tr><td>19</td><td>ExprTuple</td><td>21</td><td><a class=\"ProveItLink\" href=\"../../../../../../__pv_it/common/eacfeccc0521684fcb20fe8f5180ac50fca471f20/expr.ipynb\"><img src=\"../../../../../../__pv_it/common/eacfeccc0521684fcb20fe8f5180ac50fca471f20/expr.png\" style=\"display:inline;vertical-align:middle;\" /></a></td></tr>\n",
       "<tr><td>20</td><td>Lambda</td><td>parameter:&nbsp;33<br>body:&nbsp;22<br></td><td><a class=\"ProveItLink\" href=\"../../../../__pv_it/common/c2c5813dc49be10b17fb822a2c79d2ed543a79e30/expr.ipynb\"><img src=\"../../../../__pv_it/common/c2c5813dc49be10b17fb822a2c79d2ed543a79e30/expr.png\" style=\"display:inline;vertical-align:middle;\" /></a></td></tr>\n",
       "<tr><td>21</td><td>Variable</td><td></td><td><a class=\"ProveItLink\" href=\"../../../../../../__pv_it/common/a0d9d672aa5e272d907247690c152cc2c6daafb70/expr.ipynb\"><img src=\"../../../../../../__pv_it/common/a0d9d672aa5e272d907247690c152cc2c6daafb70/expr.png\" style=\"display:inline;vertical-align:middle;\" /></a></td></tr>\n",
       "<tr><td>22</td><td>Conditional</td><td>value:&nbsp;33<br>condition:&nbsp;23<br></td><td><a class=\"ProveItLink\" href=\"../../../../__pv_it/common/459d8200156701c35bc1f21aec0a8bad483682ec0/expr.ipynb\"><img src=\"../../../../__pv_it/common/459d8200156701c35bc1f21aec0a8bad483682ec0/expr.png\" style=\"display:inline;vertical-align:middle;\" /></a></td></tr>\n",
       "<tr><td>23</td><td>Operation</td><td>operator:&nbsp;24<br>operands:&nbsp;25<br></td><td><a class=\"ProveItLink\" href=\"../../../../__pv_it/common/eb88ef9ebc805e5d3da500a395f6d015cd14de020/expr.ipynb\"><img src=\"../../../../__pv_it/common/eb88ef9ebc805e5d3da500a395f6d015cd14de020/expr.png\" style=\"display:inline;vertical-align:middle;\" /></a></td></tr>\n",
       "<tr><td>24</td><td>Literal</td><td></td><td><a class=\"ProveItLink\" href=\"../../../../../booleans/conjunction/__pv_it/common/42118ff318bd65d98b1393f64ce7c2269feef76e0/expr.ipynb\"><img src=\"../../../../../booleans/conjunction/__pv_it/common/42118ff318bd65d98b1393f64ce7c2269feef76e0/expr.png\" style=\"display:inline;vertical-align:middle;\" /></a></td></tr>\n",
       "<tr><td>25</td><td>ExprTuple</td><td>26, 27</td><td><a class=\"ProveItLink\" href=\"../../../../__pv_it/common/7341c04d6223310c92df2a3be52312b8ca3d8a810/expr.ipynb\"><img src=\"../../../../__pv_it/common/7341c04d6223310c92df2a3be52312b8ca3d8a810/expr.png\" style=\"display:inline;vertical-align:middle;\" /></a></td></tr>\n",
       "<tr><td>26</td><td>Operation</td><td>operator:&nbsp;28<br>operands:&nbsp;29<br></td><td><a class=\"ProveItLink\" href=\"../../../../__pv_it/common/df7055fd552fa2fe9c58660bfdae0ffb5db3e08a0/expr.ipynb\"><img src=\"../../../../__pv_it/common/df7055fd552fa2fe9c58660bfdae0ffb5db3e08a0/expr.png\" style=\"display:inline;vertical-align:middle;\" /></a></td></tr>\n",
       "<tr><td>27</td><td>Operation</td><td>operator:&nbsp;30<br>operand:&nbsp;33<br></td><td><a class=\"ProveItLink\" href=\"../../../../../../__pv_it/common/5941bdda6544fc36bf4c4fbcb7f152f93ac5c5ab0/expr.ipynb\"><img src=\"../../../../../../__pv_it/common/5941bdda6544fc36bf4c4fbcb7f152f93ac5c5ab0/expr.png\" style=\"display:inline;vertical-align:middle;\" /></a></td></tr>\n",
       "<tr><td>28</td><td>Literal</td><td></td><td><a class=\"ProveItLink\" href=\"../../../../membership/__pv_it/common/477487d8796864d23d5810f83761435f25167f690/expr.ipynb\"><img src=\"../../../../membership/__pv_it/common/477487d8796864d23d5810f83761435f25167f690/expr.png\" style=\"display:inline;vertical-align:middle;\" /></a></td></tr>\n",
       "<tr><td>29</td><td>ExprTuple</td><td>33, 32</td><td><a class=\"ProveItLink\" href=\"../../../../__pv_it/common/c542d16e0bf7874c9fd45461064f816e6f151c020/expr.ipynb\"><img src=\"../../../../__pv_it/common/c542d16e0bf7874c9fd45461064f816e6f151c020/expr.png\" style=\"display:inline;vertical-align:middle;\" /></a></td></tr>\n",
       "<tr><td>30</td><td>Variable</td><td></td><td><a class=\"ProveItLink\" href=\"../../../../../../__pv_it/common/d72bb8b07403efe79afab564c36a28e21330e5f90/expr.ipynb\"><img src=\"../../../../../../__pv_it/common/d72bb8b07403efe79afab564c36a28e21330e5f90/expr.png\" style=\"display:inline;vertical-align:middle;\" /></a></td></tr>\n",
       "<tr><td>31</td><td>ExprTuple</td><td>33</td><td><a class=\"ProveItLink\" href=\"../../../../../../__pv_it/common/8ec7f6fe639763828b300003a52d700ece4a5c240/expr.ipynb\"><img src=\"../../../../../../__pv_it/common/8ec7f6fe639763828b300003a52d700ece4a5c240/expr.png\" style=\"display:inline;vertical-align:middle;\" /></a></td></tr>\n",
       "<tr><td>32</td><td>Variable</td><td></td><td><a class=\"ProveItLink\" href=\"../../../../../../__pv_it/common/38f47c5670ea8c5b56253448e95d8afb56bc09b40/expr.ipynb\"><img src=\"../../../../../../__pv_it/common/38f47c5670ea8c5b56253448e95d8afb56bc09b40/expr.png\" style=\"display:inline;vertical-align:middle;\" /></a></td></tr>\n",
       "<tr><td>33</td><td>Variable</td><td></td><td><a class=\"ProveItLink\" href=\"../../../../../../__pv_it/common/ff7dba4ef0bbe791ab573bf2d9c220a304399ac80/expr.ipynb\"><img src=\"../../../../../../__pv_it/common/ff7dba4ef0bbe791ab573bf2d9c220a304399ac80/expr.png\" style=\"display:inline;vertical-align:middle;\" /></a></td></tr>\n",
       "</table>\n"
      ],
      "text/plain": [
       "0. forall_{S, Q} [forall_{x in S | Q(x)} (x in {y s.t. Q(y)}_{y in S})]\n",
       "   core type: Operation\n",
       "   operator: 5\n",
       "   operand: 2\n",
       "1. ((S, Q) -> [forall_{x in S | Q(x)} (x in {y s.t. Q(y)}_{y in S})])\n",
       "   core type: ExprTuple\n",
       "   sub-expressions: 2\n",
       "2. (S, Q) -> [forall_{x in S | Q(x)} (x in {y s.t. Q(y)}_{y in S})]\n",
       "   core type: Lambda\n",
       "   parameters: 3\\n   body: 4\n",
       "3. (S, Q)\n",
       "   core type: ExprTuple\n",
       "   sub-expressions: 32, 30\n",
       "4. forall_{x in S | Q(x)} (x in {y s.t. Q(y)}_{y in S})\n",
       "   core type: Operation\n",
       "   operator: 5\n",
       "   operand: 7\n",
       "5. forall\n",
       "   core type: Literal\n",
       "   sub-expressions: \n",
       "6. (x -> {x in {y s.t. Q(y)}_{y in S} if x in S ,  Q(x).)\n",
       "   core type: ExprTuple\n",
       "   sub-expressions: 7\n",
       "7. x -> {x in {y s.t. Q(y)}_{y in S} if x in S ,  Q(x).\n",
       "   core type: Lambda\n",
       "   parameter: 21\n",
       "   body: 8\n",
       "8. {x in {y s.t. Q(y)}_{y in S} if x in S ,  Q(x).\n",
       "   core type: Conditional\n",
       "   value: 9\n",
       "   condition: 10\n",
       "9. x in {y s.t. Q(y)}_{y in S}\n",
       "   core type: Operation\n",
       "   operator: 28\n",
       "   operands: 11\n",
       "10. (x in S) and Q(x)\n",
       "    core type: Operation\n",
       "    operator: 24\n",
       "    operands: 12\n",
       "11. (x, {y s.t. Q(y)}_{y in S})\n",
       "    core type: ExprTuple\n",
       "    sub-expressions: 21, 13\n",
       "12. (x in S, Q(x))\n",
       "    core type: ExprTuple\n",
       "    sub-expressions: 14, 15\n",
       "13. {y s.t. Q(y)}_{y in S}\n",
       "    core type: Operation\n",
       "    operator: 16\n",
       "    operand: 20\n",
       "14. x in S\n",
       "    core type: Operation\n",
       "    operator: 28\n",
       "    operands: 18\n",
       "15. Q(x)\n",
       "    core type: Operation\n",
       "    operator: 30\n",
       "    operand: 21\n",
       "16. SetOfAll\n",
       "    core type: Literal\n",
       "    sub-expressions: \n",
       "17. (y -> {y if y in S ,  Q(y).)\n",
       "    core type: ExprTuple\n",
       "    sub-expressions: 20\n",
       "18. (x, S)\n",
       "    core type: ExprTuple\n",
       "    sub-expressions: 21, 32\n",
       "19. (x)\n",
       "    core type: ExprTuple\n",
       "    sub-expressions: 21\n",
       "20. y -> {y if y in S ,  Q(y).\n",
       "    core type: Lambda\n",
       "    parameter: 33\n",
       "    body: 22\n",
       "21. x\n",
       "    core type: Variable\n",
       "    sub-expressions: \n",
       "22. {y if y in S ,  Q(y).\n",
       "    core type: Conditional\n",
       "    value: 33\n",
       "    condition: 23\n",
       "23. (y in S) and Q(y)\n",
       "    core type: Operation\n",
       "    operator: 24\n",
       "    operands: 25\n",
       "24. and\n",
       "    core type: Literal\n",
       "    sub-expressions: \n",
       "25. (y in S, Q(y))\n",
       "    core type: ExprTuple\n",
       "    sub-expressions: 26, 27\n",
       "26. y in S\n",
       "    core type: Operation\n",
       "    operator: 28\n",
       "    operands: 29\n",
       "27. Q(y)\n",
       "    core type: Operation\n",
       "    operator: 30\n",
       "    operand: 33\n",
       "28. in\n",
       "    core type: Literal\n",
       "    sub-expressions: \n",
       "29. (y, S)\n",
       "    core type: ExprTuple\n",
       "    sub-expressions: 33, 32\n",
       "30. Q\n",
       "    core type: Variable\n",
       "    sub-expressions: \n",
       "31. (y)\n",
       "    core type: ExprTuple\n",
       "    sub-expressions: 33\n",
       "32. S\n",
       "    core type: Variable\n",
       "    sub-expressions: \n",
       "33. y\n",
       "    core type: Variable\n",
       "    sub-expressions: "
      ]
     },
     "metadata": {},
     "output_type": "display_data"
    }
   ],
   "source": [
    "# display the expression information\n",
    "stored_expr.expr_info()"
   ]
  },
  {
   "cell_type": "code",
   "execution_count": null,
   "metadata": {},
   "outputs": [],
   "source": []
  }
 ],
 "metadata": {
  "kernelspec": {
   "display_name": "Python 3",
   "language": "python",
   "name": "python3"
  }
 },
 "nbformat": 4,
 "nbformat_minor": 0
}