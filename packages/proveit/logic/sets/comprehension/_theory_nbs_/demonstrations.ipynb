{
 "cells": [
  {
   "cell_type": "markdown",
   "metadata": {},
   "source": [
    "Demonstrations for the theory of <a class=\"ProveItLink\" href=\"theory.ipynb\">proveit.logic.sets.comprehension</a>\n",
    "========"
   ]
  },
  {
   "cell_type": "code",
   "execution_count": null,
   "metadata": {},
   "outputs": [],
   "source": [
    "import proveit\n",
    "from proveit import a, b, i, j, x, y, Q, ExprTuple, Function\n",
    "from proveit.logic import And, Forall, InSet, NotEquals, SetOfAll\n",
    "from proveit.numbers import (\n",
    "        zero, one, two, Exp, frac, greater, greater_eq, LessEq, Integer,\n",
    "        num, number_ordering, Real)\n",
    "\n",
    "%begin demonstrations"
   ]
  },
  {
   "cell_type": "markdown",
   "metadata": {},
   "source": [
    "Just some formatting checks below.  Nothing important.  Remove them when we put in something serious."
   ]
  },
  {
   "cell_type": "code",
   "execution_count": null,
   "metadata": {},
   "outputs": [],
   "source": [
    "SetOfAll((a, b), frac(a, b), conditions=[NotEquals(b, zero)], domain=Integer)"
   ]
  },
  {
   "cell_type": "code",
   "execution_count": null,
   "metadata": {},
   "outputs": [],
   "source": [
    "SetOfAll((a, b), frac(a, b), conditions=[NotEquals(b, zero)], domains=(Integer, Real))"
   ]
  },
  {
   "cell_type": "code",
   "execution_count": null,
   "metadata": {},
   "outputs": [],
   "source": [
    "Forall((a, b), frac(a, b), domains=(Integer, Real))"
   ]
  },
  {
   "cell_type": "markdown",
   "metadata": {},
   "source": [
    "### Some example expressions to use for testing:"
   ]
  },
  {
   "cell_type": "code",
   "execution_count": null,
   "metadata": {},
   "outputs": [],
   "source": [
    "positive_reals = SetOfAll(x, x, condition=greater(x, zero), domain=Real)"
   ]
  },
  {
   "cell_type": "code",
   "execution_count": null,
   "metadata": {},
   "outputs": [],
   "source": [
    "unit_interval = SetOfAll(x, x, conditions=[greater(x, zero), greater(one, x)], domain=Real)"
   ]
  },
  {
   "cell_type": "code",
   "execution_count": null,
   "metadata": {},
   "outputs": [],
   "source": [
    "unit_interval_with_number_ordering = SetOfAll(x, x, conditions=[number_ordering(greater(one, x), greater(x, zero))], domain=Real)"
   ]
  },
  {
   "cell_type": "code",
   "execution_count": null,
   "metadata": {},
   "outputs": [],
   "source": [
    "squares_of_positive_reals = SetOfAll(x, Exp(x, two), conditions=[greater_eq(x, zero)], domain=Real)"
   ]
  },
  {
   "cell_type": "code",
   "execution_count": null,
   "metadata": {},
   "outputs": [],
   "source": [
    "squares_of_unit_interval = SetOfAll(x, Exp(x, two), conditions=[LessEq(zero, x), LessEq(x, one)], domain=Real)"
   ]
  },
  {
   "cell_type": "code",
   "execution_count": null,
   "metadata": {},
   "outputs": [],
   "source": [
    "squares_of_unit_interval_with_number_ordering = (\n",
    "    SetOfAll(x, Exp(x, two), conditions=[number_ordering(LessEq(zero, x), LessEq(x, one))], domain=Real))"
   ]
  },
  {
   "cell_type": "code",
   "execution_count": null,
   "metadata": {},
   "outputs": [],
   "source": [
    "# the number_ordering() process above seems to interefere with some InSet conclusion later in the unfold\n",
    "# so we try it without\n",
    "some_lattice_points = SetOfAll(i, ExprTuple(i, zero),\n",
    "        conditions = [LessEq(zero, i), LessEq(i, num(10))], domain = Integer)"
   ]
  },
  {
   "cell_type": "code",
   "execution_count": null,
   "metadata": {},
   "outputs": [],
   "source": [
    "some_lattice_points_with_number_ordering = SetOfAll(i, ExprTuple(i, zero),\n",
    "        conditions = [number_ordering(LessEq(zero, i), LessEq(i, num(10)))], domain = Integer)"
   ]
  },
  {
   "cell_type": "code",
   "execution_count": null,
   "metadata": {},
   "outputs": [],
   "source": [
    "# this does not format correctly as a set of tuples or set of 2D points\n",
    "# unless we put additional parentheses inside the ExprTuple like this: ExprTuple((i, zero))\n",
    "from proveit.numbers import Interval\n",
    "some_lattice_points_with_no_condition = SetOfAll(i, ExprTuple(i, zero),\n",
    "        domain = Interval(zero, num(10)))"
   ]
  },
  {
   "cell_type": "code",
   "execution_count": null,
   "metadata": {},
   "outputs": [],
   "source": [
    "# this does not format correctly as a set of tuples or set of 2D points\n",
    "# unless we put additional parentheses inside the ExprTuple like this: ExprTuple((i, zero))\n",
    "from proveit.numbers import Interval\n",
    "some_lattice_points_with_no_condition_02 = SetOfAll(i, ExprTuple((i, zero)),\n",
    "        domain = Interval(zero, num(10)))"
   ]
  },
  {
   "cell_type": "code",
   "execution_count": null,
   "metadata": {},
   "outputs": [],
   "source": [
    "some_more_lattice_points = SetOfAll((i,j), ExprTuple(i, j),\n",
    "        conditions = [LessEq(zero, i), LessEq(i, num(10)),\n",
    "                      LessEq(zero, j), LessEq(j, num(10))],\n",
    "        domain = Integer)"
   ]
  },
  {
   "cell_type": "code",
   "execution_count": null,
   "metadata": {},
   "outputs": [],
   "source": [
    "some_more_lattice_points_with_number_ordering = SetOfAll((i,j), ExprTuple(i, j),\n",
    "        conditions = [number_ordering(LessEq(zero, i), LessEq(i, num(10))),\n",
    "                      number_ordering(LessEq(zero, j), LessEq(j, num(10)))],\n",
    "        domain = Integer)"
   ]
  },
  {
   "cell_type": "markdown",
   "metadata": {},
   "source": [
    "### Grabbing pieces of a `SetOfAll` set comprehension:"
   ]
  },
  {
   "cell_type": "code",
   "execution_count": null,
   "metadata": {},
   "outputs": [],
   "source": [
    "squares_of_unit_interval.instance_var"
   ]
  },
  {
   "cell_type": "code",
   "execution_count": null,
   "metadata": {},
   "outputs": [],
   "source": [
    "# instance_vars is no longer an attribute, but all_instance_vars() will work\n",
    "squares_of_unit_interval.all_instance_vars()"
   ]
  },
  {
   "cell_type": "code",
   "execution_count": null,
   "metadata": {},
   "outputs": [],
   "source": [
    "some_more_lattice_points.all_instance_vars()"
   ]
  },
  {
   "cell_type": "code",
   "execution_count": null,
   "metadata": {},
   "outputs": [],
   "source": [
    "squares_of_unit_interval.instance_param_or_params"
   ]
  },
  {
   "cell_type": "code",
   "execution_count": null,
   "metadata": {},
   "outputs": [],
   "source": [
    "squares_of_unit_interval.all_conditions()"
   ]
  },
  {
   "cell_type": "code",
   "execution_count": null,
   "metadata": {},
   "outputs": [],
   "source": [
    "some_more_lattice_points.all_conditions()"
   ]
  },
  {
   "cell_type": "code",
   "execution_count": null,
   "metadata": {},
   "outputs": [],
   "source": [
    "squares_of_unit_interval.conditions"
   ]
  },
  {
   "cell_type": "code",
   "execution_count": null,
   "metadata": {},
   "outputs": [],
   "source": [
    "# conditions attribute includes explicit condition(s) AND the domain restriction\n",
    "positive_reals.conditions"
   ]
  },
  {
   "cell_type": "code",
   "execution_count": null,
   "metadata": {},
   "outputs": [],
   "source": [
    "positive_reals.domain"
   ]
  },
  {
   "cell_type": "code",
   "execution_count": null,
   "metadata": {},
   "outputs": [],
   "source": [
    "# for condition(s) not including the domain restriction(s):\n",
    "positive_reals.explicit_conditions()"
   ]
  },
  {
   "cell_type": "code",
   "execution_count": null,
   "metadata": {},
   "outputs": [],
   "source": [
    "some_more_lattice_points.explicit_conditions()"
   ]
  },
  {
   "cell_type": "code",
   "execution_count": null,
   "metadata": {},
   "outputs": [],
   "source": [
    "len(positive_reals.explicit_conditions())"
   ]
  },
  {
   "cell_type": "code",
   "execution_count": null,
   "metadata": {},
   "outputs": [],
   "source": [
    "len(some_more_lattice_points.explicit_conditions())"
   ]
  },
  {
   "cell_type": "code",
   "execution_count": null,
   "metadata": {},
   "outputs": [],
   "source": [
    "And(*squares_of_unit_interval.explicit_conditions())"
   ]
  },
  {
   "cell_type": "code",
   "execution_count": null,
   "metadata": {},
   "outputs": [],
   "source": [
    "positive_reals.effective_condition()"
   ]
  },
  {
   "cell_type": "code",
   "execution_count": null,
   "metadata": {},
   "outputs": [],
   "source": [
    "squares_of_unit_interval.all_domains()"
   ]
  },
  {
   "cell_type": "code",
   "execution_count": null,
   "metadata": {},
   "outputs": [],
   "source": [
    "len(squares_of_unit_interval.all_instance_vars())"
   ]
  },
  {
   "cell_type": "code",
   "execution_count": null,
   "metadata": {},
   "outputs": [],
   "source": [
    "squares_of_unit_interval.instance_element"
   ]
  },
  {
   "cell_type": "code",
   "execution_count": null,
   "metadata": {},
   "outputs": [],
   "source": [
    "Function(Q, squares_of_unit_interval.all_instance_vars())"
   ]
  },
  {
   "cell_type": "code",
   "execution_count": null,
   "metadata": {},
   "outputs": [],
   "source": [
    "Function(Q, some_more_lattice_points.all_instance_vars())"
   ]
  },
  {
   "cell_type": "markdown",
   "metadata": {},
   "source": [
    "### Testing `SetOfAll.unfold_membership()` method"
   ]
  },
  {
   "cell_type": "markdown",
   "metadata": {},
   "source": [
    "#### A Reminder of some SetOfAll comprehensions created earlier:"
   ]
  },
  {
   "cell_type": "code",
   "execution_count": null,
   "metadata": {},
   "outputs": [],
   "source": [
    "positive_reals"
   ]
  },
  {
   "cell_type": "code",
   "execution_count": null,
   "metadata": {},
   "outputs": [],
   "source": [
    "unit_interval"
   ]
  },
  {
   "cell_type": "code",
   "execution_count": null,
   "metadata": {},
   "outputs": [],
   "source": [
    "unit_interval_with_number_ordering"
   ]
  },
  {
   "cell_type": "code",
   "execution_count": null,
   "metadata": {},
   "outputs": [],
   "source": [
    "squares_of_unit_interval"
   ]
  },
  {
   "cell_type": "code",
   "execution_count": null,
   "metadata": {},
   "outputs": [],
   "source": [
    "some_lattice_points"
   ]
  },
  {
   "cell_type": "code",
   "execution_count": null,
   "metadata": {},
   "outputs": [],
   "source": [
    "some_lattice_points_with_no_condition"
   ]
  },
  {
   "cell_type": "code",
   "execution_count": null,
   "metadata": {},
   "outputs": [],
   "source": [
    "some_more_lattice_points"
   ]
  },
  {
   "cell_type": "code",
   "execution_count": null,
   "metadata": {},
   "outputs": [],
   "source": [
    "some_more_lattice_points_with_number_ordering"
   ]
  },
  {
   "cell_type": "markdown",
   "metadata": {},
   "source": [
    "#### Examples (both working and not working) of the `unfold_membership()` method"
   ]
  },
  {
   "cell_type": "code",
   "execution_count": null,
   "metadata": {},
   "outputs": [],
   "source": [
    "# still developing the unfold_membership() method\n",
    "display(positive_reals)\n",
    "try:\n",
    "    temp_result = positive_reals.unfold_membership(a, assumptions=[InSet(a, positive_reals)])\n",
    "    # temp_result = positive_reals.unfold_membership(a)\n",
    "    display(temp_result)\n",
    "except Exception as the_error:\n",
    "    print(\"Exception: {}\".format(the_error))"
   ]
  },
  {
   "cell_type": "code",
   "execution_count": null,
   "metadata": {},
   "outputs": [],
   "source": [
    "# still developing the unfold_membership() method\n",
    "display(unit_interval)\n",
    "try:\n",
    "    temp_result = unit_interval.unfold_membership(a, assumptions=[InSet(a, unit_interval)])\n",
    "    # temp_result = positive_reals.unfold_membership(a)\n",
    "    display(temp_result)\n",
    "except Exception as the_error:\n",
    "    print(\"Exception: {}\".format(the_error))"
   ]
  },
  {
   "cell_type": "code",
   "execution_count": null,
   "metadata": {},
   "outputs": [],
   "source": [
    "# still developing the unfold_membership() method\n",
    "display(unit_interval_with_number_ordering)\n",
    "try:\n",
    "    temp_result = unit_interval_with_number_ordering.unfold_membership(a, assumptions=[InSet(a, unit_interval_with_number_ordering)])\n",
    "    # temp_result = positive_reals.unfold_membership(a)\n",
    "    display(temp_result)\n",
    "except Exception as the_error:\n",
    "    print(\"Exception: {}\".format(the_error))"
   ]
  },
  {
   "cell_type": "code",
   "execution_count": null,
   "metadata": {},
   "outputs": [],
   "source": [
    "# still developing the unfold_membership() method\n",
    "display(squares_of_positive_reals)\n",
    "try:\n",
    "    temp_result = squares_of_positive_reals.unfold_membership(a, assumptions=[InSet(a, squares_of_positive_reals)])\n",
    "    # temp_result = positive_reals.unfold_membership(a)\n",
    "    display(temp_result)\n",
    "except Exception as the_error:\n",
    "    print(\"Exception: {}\".format(the_error))"
   ]
  },
  {
   "cell_type": "code",
   "execution_count": null,
   "metadata": {},
   "outputs": [],
   "source": [
    "# still developing the unfold_membership() method\n",
    "display(squares_of_unit_interval)\n",
    "try:\n",
    "    temp_result = squares_of_unit_interval.unfold_membership(a, assumptions=[InSet(a, squares_of_unit_interval)])\n",
    "    # temp_result = positive_reals.unfold_membership(a)\n",
    "    display(temp_result)\n",
    "except Exception as the_error:\n",
    "    print(\"Exception: {}\".format(the_error))"
   ]
  },
  {
   "cell_type": "code",
   "execution_count": null,
   "metadata": {},
   "outputs": [],
   "source": [
    "# still developing the unfold_membership() method\n",
    "display(squares_of_unit_interval_with_number_ordering)\n",
    "try:\n",
    "    temp_result = squares_of_unit_interval_with_number_ordering.unfold_membership(\n",
    "        a, assumptions=[InSet(a, squares_of_unit_interval_with_number_ordering)])\n",
    "    # temp_result = positive_reals.unfold_membership(a)\n",
    "    display(temp_result)\n",
    "except Exception as the_error:\n",
    "    print(\"Exception: {}\".format(the_error))"
   ]
  },
  {
   "cell_type": "code",
   "execution_count": null,
   "metadata": {},
   "outputs": [],
   "source": [
    "# still developing the unfold_membership() method\n",
    "display(some_lattice_points)\n",
    "try:\n",
    "    temp_result = some_lattice_points.unfold_membership(a, assumptions=[InSet(a, some_lattice_points)])\n",
    "    display(temp_result)\n",
    "except Exception as the_error:\n",
    "    print(\"Exception: {}\".format(the_error))"
   ]
  },
  {
   "cell_type": "code",
   "execution_count": null,
   "metadata": {},
   "outputs": [],
   "source": [
    "# still developing the unfold_membership() method\n",
    "display(some_lattice_points_with_number_ordering)\n",
    "try:\n",
    "    temp_result = some_lattice_points_with_number_ordering.unfold_membership(a, assumptions=[InSet(a, some_lattice_points_with_number_ordering)])\n",
    "    display(temp_result)\n",
    "except Exception as the_error:\n",
    "    print(\"Exception: {}\".format(the_error))"
   ]
  },
  {
   "cell_type": "code",
   "execution_count": null,
   "metadata": {},
   "outputs": [],
   "source": [
    "# still developing the unfold_membership() method\n",
    "display(some_lattice_points_with_no_condition)\n",
    "try:\n",
    "    temp_result = some_lattice_points_with_no_condition.unfold_membership(\n",
    "            a, assumptions=[InSet(a, some_lattice_points_with_no_condition)])\n",
    "    display(temp_result)\n",
    "except Exception as the_error:\n",
    "    print(\"Exception: {}\".format(the_error))"
   ]
  },
  {
   "cell_type": "code",
   "execution_count": null,
   "metadata": {},
   "outputs": [],
   "source": [
    "# still developing the unfold_membership() method\n",
    "display(some_lattice_points_with_no_condition_02)\n",
    "try:\n",
    "    temp_result = some_lattice_points_with_no_condition_02.unfold_membership(\n",
    "            a, assumptions=[InSet(a, some_lattice_points_with_no_condition_02)])\n",
    "    display(temp_result)\n",
    "except Exception as the_error:\n",
    "    print(\"Exception: {}\".format(the_error))"
   ]
  },
  {
   "cell_type": "code",
   "execution_count": null,
   "metadata": {},
   "outputs": [],
   "source": [
    "# still developing the unfold_membership() method\n",
    "display(some_more_lattice_points)\n",
    "try:\n",
    "    temp_result = some_more_lattice_points.unfold_membership(a, assumptions=[InSet(a, some_more_lattice_points)])\n",
    "    display(temp_result)\n",
    "except Exception as the_error:\n",
    "    print(\"Exception: {}\".format(the_error))"
   ]
  },
  {
   "cell_type": "code",
   "execution_count": null,
   "metadata": {},
   "outputs": [],
   "source": [
    "# still developing the unfold_membership() method\n",
    "display(some_more_lattice_points_with_number_ordering)\n",
    "try:\n",
    "    temp_result = some_more_lattice_points_with_number_ordering.unfold_membership(\n",
    "        a, assumptions=[InSet(a, some_more_lattice_points_with_number_ordering)])\n",
    "    display(temp_result)\n",
    "except Exception as the_error:\n",
    "    print(\"Exception: {}\".format(the_error))"
   ]
  },
  {
   "cell_type": "code",
   "execution_count": null,
   "metadata": {},
   "outputs": [],
   "source": [
    "%end demonstrations"
   ]
  }
 ],
 "metadata": {
  "kernelspec": {
   "display_name": "Python 3",
   "language": "python",
   "name": "python3"
  }
 },
 "nbformat": 4,
 "nbformat_minor": 0
}
