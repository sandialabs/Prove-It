{
 "cells": [
  {
   "cell_type": "markdown",
   "metadata": {},
   "source": [
    "Demonstrations for the theory of <a class=\"ProveItLink\" href=\"theory.ipynb\">proveit.logic.sets.comprehension</a>\n",
    "========"
   ]
  },
  {
   "cell_type": "code",
   "execution_count": null,
   "metadata": {},
   "outputs": [],
   "source": [
    "import proveit\n",
    "from proveit import a, b, i, j, x, y, Q, Qx, ExprTuple, Function\n",
    "from proveit.logic import And, Forall, InSet, Not, NotEquals, SetOfAll\n",
    "from proveit.numbers import (\n",
    "        zero, one, two, Exp, frac, greater, greater_eq, Integer, IntegerNeg,\n",
    "        Interval, LessEq, num, number_ordering, Real)\n",
    "\n",
    "%begin demonstrations"
   ]
  },
  {
   "cell_type": "markdown",
   "metadata": {},
   "source": [
    "Just some formatting checks below.  Nothing important.  Remove them when we put in something serious."
   ]
  },
  {
   "cell_type": "code",
   "execution_count": null,
   "metadata": {},
   "outputs": [],
   "source": [
    "SetOfAll((a, b), frac(a, b), conditions=[NotEquals(b, zero)], domain=Integer)"
   ]
  },
  {
   "cell_type": "code",
   "execution_count": null,
   "metadata": {},
   "outputs": [],
   "source": [
    "SetOfAll((a, b), frac(a, b), conditions=[NotEquals(b, zero)], domains=(Integer, Real))"
   ]
  },
  {
   "cell_type": "code",
   "execution_count": null,
   "metadata": {},
   "outputs": [],
   "source": [
    "Forall((a, b), frac(a, b), domains=(Integer, Real))"
   ]
  },
  {
   "cell_type": "markdown",
   "metadata": {},
   "source": [
    "### Some example expressions to use for testing:"
   ]
  },
  {
   "cell_type": "code",
   "execution_count": null,
   "metadata": {},
   "outputs": [],
   "source": [
    "from proveit import i, j\n",
    "SetOfAll_examples = (\n",
    "    SetOfAll(x, x, condition=greater(x, zero), domain=Real),\n",
    "    SetOfAll(x, x, conditions=[greater(x, zero), greater(one, x)], domain=Real),\n",
    "    SetOfAll(x, x, conditions=[number_ordering(greater(one, x), greater(x, zero))], domain=Real),\n",
    "    SetOfAll(x, x, conditions=[And(greater(one, x), greater(x, zero))], domain=Real),\n",
    "    SetOfAll(x, Exp(x, two), domain=Real),\n",
    "    SetOfAll(x, Exp(x, two), conditions=[greater_eq(x, zero)], domain=Real),\n",
    "    SetOfAll(x, Exp(x, two), conditions=[LessEq(zero, x), LessEq(x, one)], domain=Real),\n",
    "    SetOfAll(x, Exp(x, two), conditions=[number_ordering(LessEq(zero, x), LessEq(x, one))], domain=Real),\n",
    "    SetOfAll(x, Exp(x, two), conditions=[And(LessEq(zero, x), LessEq(x, one))], domain=Real),\n",
    "    SetOfAll(i, ExprTuple(i, zero), conditions = [LessEq(zero, i), LessEq(i, num(10))], domain = Integer),\n",
    "    SetOfAll(i, ExprTuple(i, zero), conditions = [number_ordering(LessEq(zero, i), LessEq(i, num(10)))],\n",
    "            domain = Integer),\n",
    "    SetOfAll(i, ExprTuple(i, zero), domain = Interval(zero, num(10))),\n",
    "    SetOfAll((i,j), ExprTuple(i, j), domain = Integer),\n",
    "    SetOfAll((i,j), ExprTuple(i, j), conditions = [LessEq(zero, i)], domain = Integer),\n",
    "    SetOfAll((i,j), ExprTuple(i, j), conditions = [LessEq(zero, i), LessEq(i, num(10)), LessEq(zero, j), LessEq(j, num(10))],\n",
    "            domain = Integer),\n",
    "    SetOfAll((i,j), ExprTuple(i, j), conditions = [LessEq(zero, i), LessEq(i, num(10))], domain = Integer),\n",
    "    SetOfAll((i,j), ExprTuple(i, j),\n",
    "        conditions = [number_ordering(LessEq(zero, i), LessEq(i, num(10))),\n",
    "                      number_ordering(LessEq(zero, j), LessEq(j, num(10)))],\n",
    "        domain = Integer)\n",
    ")\n",
    "print() # to suppress output from above\n",
    "\n",
    "for n, example_set in enumerate(SetOfAll_examples):\n",
    "    print(f\"({n})\")\n",
    "    display(example_set)\n",
    "    print()"
   ]
  },
  {
   "cell_type": "markdown",
   "metadata": {},
   "source": [
    "And some `SetOfAllMembership` objects, based on the `SetOfAll` examples above:"
   ]
  },
  {
   "cell_type": "code",
   "execution_count": null,
   "metadata": {},
   "outputs": [],
   "source": [
    "from proveit import a\n",
    "SetOfAllMembership_examples = []\n",
    "for example in SetOfAll_examples:\n",
    "    SetOfAllMembership_examples.append(InSet(a, example))\n",
    "for n, example in enumerate(SetOfAllMembership_examples):\n",
    "    print(f\"({n})\")\n",
    "    display(example)\n",
    "    print()"
   ]
  },
  {
   "cell_type": "markdown",
   "metadata": {},
   "source": [
    "### Grabbing pieces of a `SetOfAll` set comprehension:"
   ]
  },
  {
   "cell_type": "markdown",
   "metadata": {},
   "source": [
    "A quick reminder of some specific examples of `SetOfAll` objects:"
   ]
  },
  {
   "cell_type": "code",
   "execution_count": null,
   "metadata": {},
   "outputs": [],
   "source": [
    "display(SetOfAll_examples[6])\n",
    "display(SetOfAll_examples[14])\n",
    "display(SetOfAll_examples[10])"
   ]
  },
  {
   "cell_type": "code",
   "execution_count": null,
   "metadata": {},
   "outputs": [],
   "source": [
    "# in cases of a single instance variable, we can use the instance_var attribute\n",
    "SetOfAll_examples[6].instance_var"
   ]
  },
  {
   "cell_type": "code",
   "execution_count": null,
   "metadata": {},
   "outputs": [],
   "source": [
    "# but all_instance_vars() will work for single or multiple instance variables\n",
    "SetOfAll_examples[6].all_instance_vars()"
   ]
  },
  {
   "cell_type": "code",
   "execution_count": null,
   "metadata": {},
   "outputs": [],
   "source": [
    "SetOfAll_examples[13].all_instance_vars()"
   ]
  },
  {
   "cell_type": "code",
   "execution_count": null,
   "metadata": {},
   "outputs": [],
   "source": [
    "# the instance_param_or_params attribute can be useful\n",
    "SetOfAll_examples[6].instance_param_or_params"
   ]
  },
  {
   "cell_type": "code",
   "execution_count": null,
   "metadata": {},
   "outputs": [],
   "source": [
    "SetOfAll_examples[13].instance_param_or_params"
   ]
  },
  {
   "cell_type": "code",
   "execution_count": null,
   "metadata": {},
   "outputs": [],
   "source": [
    "# conditions attribute and all_conditions() function return domains and explicit conditions\n",
    "SetOfAll_examples[6].all_conditions()"
   ]
  },
  {
   "cell_type": "code",
   "execution_count": null,
   "metadata": {},
   "outputs": [],
   "source": [
    "SetOfAll_examples[6].conditions"
   ]
  },
  {
   "cell_type": "code",
   "execution_count": null,
   "metadata": {},
   "outputs": [],
   "source": [
    "SetOfAll_examples[14].all_conditions()"
   ]
  },
  {
   "cell_type": "code",
   "execution_count": null,
   "metadata": {},
   "outputs": [],
   "source": [
    "SetOfAll_examples[14].conditions"
   ]
  },
  {
   "cell_type": "code",
   "execution_count": null,
   "metadata": {},
   "outputs": [],
   "source": [
    "SetOfAll_examples[10].all_conditions()"
   ]
  },
  {
   "cell_type": "code",
   "execution_count": null,
   "metadata": {},
   "outputs": [],
   "source": [
    "SetOfAll_examples[10].conditions"
   ]
  },
  {
   "cell_type": "code",
   "execution_count": null,
   "metadata": {},
   "outputs": [],
   "source": [
    "# explicit_conditions returns a tuple of explicit (non-overall-domain) conditions\n",
    "SetOfAll_examples[10].explicit_conditions()"
   ]
  },
  {
   "cell_type": "code",
   "execution_count": null,
   "metadata": {},
   "outputs": [],
   "source": [
    "# for a single domain we can use the domain attribute\n",
    "SetOfAll_examples[0].domain"
   ]
  },
  {
   "cell_type": "code",
   "execution_count": null,
   "metadata": {},
   "outputs": [],
   "source": [
    "# for multiple domains, we can use the all_domains() method\n",
    "SetOfAll_examples[14].all_domains()"
   ]
  },
  {
   "cell_type": "code",
   "execution_count": null,
   "metadata": {},
   "outputs": [],
   "source": [
    "# to obtain JUST the explicit conditions, w/out the domain:\n",
    "SetOfAll_examples[0].explicit_conditions()"
   ]
  },
  {
   "cell_type": "code",
   "execution_count": null,
   "metadata": {},
   "outputs": [],
   "source": [
    "SetOfAll_examples[14].explicit_conditions()"
   ]
  },
  {
   "cell_type": "code",
   "execution_count": null,
   "metadata": {},
   "outputs": [],
   "source": [
    "# to obtain a Boolean conjunction of all conditions\n",
    "SetOfAll_examples[0].effective_condition()"
   ]
  },
  {
   "cell_type": "code",
   "execution_count": null,
   "metadata": {},
   "outputs": [],
   "source": [
    "SetOfAll_examples[14].effective_condition()"
   ]
  },
  {
   "cell_type": "code",
   "execution_count": null,
   "metadata": {},
   "outputs": [],
   "source": [
    "# to obtain the instance element\n",
    "SetOfAll_examples[6].instance_element"
   ]
  },
  {
   "cell_type": "markdown",
   "metadata": {},
   "source": [
    "### Testing `SetOfAll.superset_reduction()` method"
   ]
  },
  {
   "cell_type": "code",
   "execution_count": null,
   "metadata": {},
   "outputs": [],
   "source": [
    "setofall_example = SetOfAll(x, x, condition = Qx, domain = Integer)"
   ]
  },
  {
   "cell_type": "code",
   "execution_count": null,
   "metadata": {},
   "outputs": [],
   "source": [
    "forall_not_Q_condition = Forall(x, Not(Qx), domain = IntegerNeg)"
   ]
  },
  {
   "cell_type": "code",
   "execution_count": null,
   "metadata": {},
   "outputs": [],
   "source": [
    "setofall_example.superset_reduction(IntegerNeg, assumptions = [forall_not_Q_condition])"
   ]
  },
  {
   "cell_type": "markdown",
   "metadata": {},
   "source": [
    "### Testing `SetOfAll.unfold_membership()` method"
   ]
  },
  {
   "cell_type": "markdown",
   "metadata": {},
   "source": [
    "#### Checking Instantiation Process for Methods in `SetOfAll` and `SetOfAllMembership` classes"
   ]
  },
  {
   "cell_type": "markdown",
   "metadata": {},
   "source": [
    "In part, investigating the instantiation process to investigate why many of the methods work for MOST of the `SetOfAll` and `SetOfAllMembership` expressions, but NOT for such expressions that have both multiple instance variables AND multiple explicit conditions. The problem seems to be arising because the instantiation process is not producing a `SetOfAll` expression that exactly matches the original `SetOfAll` expression, possibly (though not at all for sure) related to conjunctions vs. lists of explicit conditions."
   ]
  },
  {
   "cell_type": "markdown",
   "metadata": {},
   "source": [
    "Looking at instantiation of the SetOfAll unfold theorem and its instantiation for multiple instance_vars and multiple explicit_conditions."
   ]
  },
  {
   "cell_type": "code",
   "execution_count": null,
   "metadata": {},
   "outputs": [],
   "source": [
    "from proveit.logic.sets.comprehension import unfold\n",
    "unfold"
   ]
  },
  {
   "cell_type": "code",
   "execution_count": null,
   "metadata": {},
   "outputs": [],
   "source": [
    "SetOfAllMembership_examples[9]"
   ]
  },
  {
   "cell_type": "code",
   "execution_count": null,
   "metadata": {},
   "outputs": [],
   "source": [
    "from proveit import f, n, x, S, Q\n",
    "from proveit.logic import And\n",
    "the_expr = SetOfAllMembership_examples[9]\n",
    "_n_sub = num(len(the_expr.domain.all_instance_vars()))\n",
    "_S_sub = the_expr.domain.all_domains()\n",
    "_Q_op  = Function(Q, the_expr.domain.all_instance_vars())\n",
    "_Q_op_sub = And(*the_expr.domain.explicit_conditions())\n",
    "_f_op = Function(f, the_expr.domain.all_instance_vars())\n",
    "_f_op_sub = the_expr.domain.instance_element\n",
    "_y_sub    = the_expr.domain.all_instance_vars()\n",
    "element = the_expr.element\n",
    "\n",
    "print(f\"_n_sub    = {_n_sub}\")\n",
    "print(f\"_S_sub    = {_S_sub}\")\n",
    "print(f\"_Q_op     = {_Q_op}\")\n",
    "print(f\"_Q_op_sub = {_Q_op_sub}\")\n",
    "print(f\"_f_op     = {_f_op}\")\n",
    "print(f\"_f_op_sub    = {_f_op_sub}\")\n",
    "print(f\"_y_sub    = {_y_sub}\")\n",
    "print(f\"element   = {element}\")\n",
    "\n",
    "# this works fine\n",
    "unfold_inst = unfold.instantiate({n:_n_sub, S:_S_sub, _Q_op:_Q_op_sub, _f_op:_f_op_sub, y:_y_sub, x:element})"
   ]
  },
  {
   "cell_type": "code",
   "execution_count": null,
   "metadata": {},
   "outputs": [],
   "source": [
    "from proveit import f, n, x, Q\n",
    "from proveit.logic import And\n",
    "\n",
    "temp_test_expr = SetOfAllMembership_examples[15]\n",
    "_n_sub = num(len(temp_test_expr.domain.all_instance_vars()))\n",
    "_S_sub = temp_test_expr.domain.all_domains()\n",
    "_Q_op  = Function(Q, temp_test_expr.domain.all_instance_vars())\n",
    "_Q_op_sub = And(*temp_test_expr.domain.explicit_conditions())\n",
    "_f_op = Function(f, temp_test_expr.domain.all_instance_vars())\n",
    "_f_op_sub = temp_test_expr.domain.instance_element\n",
    "_y_sub    = temp_test_expr.domain.all_instance_vars()\n",
    "element = temp_test_expr.element\n",
    "\n",
    "print(f\"Membership expression is:\")\n",
    "display(temp_test_expr)\n",
    "\n",
    "print(f\"_n_sub    = {_n_sub}\")\n",
    "print(f\"_S_sub    = {_S_sub}\")\n",
    "print(f\"_Q_op     = {_Q_op}\")\n",
    "print(f\"_Q_op_sub = {_Q_op_sub}\")\n",
    "print(f\"_f_op     = {_f_op}\")\n",
    "print(f\"_f_op_sub    = {_f_op_sub}\")\n",
    "print(f\"_y_sub    = {_y_sub}\")\n",
    "print(f\"element   = {element}\")\n",
    "\n",
    "unfold_inst = unfold.instantiate({n:_n_sub, S:_S_sub, _Q_op:_Q_op_sub, _f_op:_f_op_sub, y:_y_sub, x:element},\n",
    "                                auto_simplify=True)"
   ]
  },
  {
   "cell_type": "code",
   "execution_count": null,
   "metadata": {},
   "outputs": [],
   "source": [
    "# the instantiation process creates an antecedent that doesn't match the original SetOfAll membership expression\n",
    "# leading to a failure in the final derive_consequent() step:\n",
    "temp_test_expr = SetOfAllMembership_examples[15]\n",
    "print(f\"Membership expression is:\")\n",
    "display(temp_test_expr)\n",
    "try:\n",
    "    temp_test_expr.unfold(assumptions=[temp_test_expr])\n",
    "except Exception as the_exception:\n",
    "    print(f\"the_exception: {the_exception}\")"
   ]
  },
  {
   "cell_type": "code",
   "execution_count": null,
   "metadata": {},
   "outputs": [],
   "source": [
    "# this works if we trivially cite the instantiation's resulting antecedent as the assumption\n",
    "# for deriving the consequent\n",
    "temp_test_expr = SetOfAllMembership_examples[15]\n",
    "print(f\"Membership expression is:\")\n",
    "display(temp_test_expr)\n",
    "try:\n",
    "    temp_result = temp_test_expr.unfold(assumptions=[unfold_inst.antecedent])\n",
    "    display(temp_result)\n",
    "except Exception as the_exception:\n",
    "    print(f\"the_exception: {the_exception}\")"
   ]
  },
  {
   "cell_type": "code",
   "execution_count": null,
   "metadata": {},
   "outputs": [],
   "source": [
    "# some instantiation substitution values\n",
    "from proveit import f, n, x, Q\n",
    "from proveit.logic import And\n",
    "temp_test_expr = SetOfAllMembership_examples[14]\n",
    "print(f\"Membership expression temp_test_expr is:\")\n",
    "display(temp_test_expr)\n",
    "_n_sub = num(len(temp_test_expr.domain.instance_vars))\n",
    "_S_sub = temp_test_expr.domain.all_domains()\n",
    "_Q_op  = Function(Q, temp_test_expr.domain.instance_vars)\n",
    "_Q_op_sub = And(*temp_test_expr.domain.explicit_conditions())\n",
    "_f_op = Function(f, temp_test_expr.domain.all_instance_vars())\n",
    "_f_op_sub = temp_test_expr.domain.instance_element\n",
    "_y_sub    = temp_test_expr.domain.all_instance_vars()\n",
    "element = temp_test_expr.element\n",
    "\n",
    "print(f\"_n_sub    = {_n_sub}\")\n",
    "print(f\"_S_sub    = {_S_sub}\")\n",
    "print(f\"_Q_op     = {_Q_op}\")\n",
    "print(f\"_Q_op_sub = {_Q_op_sub}\")\n",
    "print(f\"_f_op     = {_f_op}\")\n",
    "print(f\"_f_op_sub    = {_f_op_sub}\")\n",
    "print(f\"_y_sub    = {_y_sub}\")\n",
    "print(f\"element   = {element}\")\n",
    "\n",
    "unfold_inst = unfold.instantiate({n:_n_sub, S:_S_sub, _Q_op:_Q_op_sub, _f_op:_f_op_sub, y:_y_sub, x:element},\n",
    "                                preserved_exprs = {temp_test_expr},\n",
    "                                auto_simplify=True)"
   ]
  },
  {
   "cell_type": "code",
   "execution_count": null,
   "metadata": {},
   "outputs": [],
   "source": [
    "# Notice that the antecedent is not the same as the original membership object\n",
    "# and in fact Prove-It cannot automatically prove they are equal\n",
    "temp_test_expr == unfold_inst.antecedent"
   ]
  },
  {
   "cell_type": "code",
   "execution_count": null,
   "metadata": {},
   "outputs": [],
   "source": [
    "# so we cannot routinely derive the consequent assuming our original membership object\n",
    "try:\n",
    "    temp_result = unfold_inst.derive_consequent(assumptions=[temp_test_expr])\n",
    "    display(temp_result)\n",
    "except Exception as the_exception:\n",
    "    print(f\"the_exception: {the_exception}\")"
   ]
  },
  {
   "cell_type": "markdown",
   "metadata": {},
   "source": [
    "#### Examples (both working and not working) of the `SetOfAll.unfold_membership()` method"
   ]
  },
  {
   "cell_type": "markdown",
   "metadata": {},
   "source": [
    "Here we test the `SetOfAll.unfold_membership()` method. This method may be a bit obsolete now with the SetOfAllMembership class having been established (beginning early March 2025).\n",
    "\n",
    "As with the `SetOfAllMembership` methods tested and demonstrated below, the `SetOfAll.unfold_membership()` method raises errors when the `SetOfAll` object combines multiple instance variables with multiple explicit conditions. The reasons for the error under those specific circumstances remain unclear but seem to be related to an instantiation step not recreating an expression exactly equivalent to the original `SetOfAll` expression."
   ]
  },
  {
   "cell_type": "code",
   "execution_count": null,
   "metadata": {},
   "outputs": [],
   "source": [
    "SetOfAll_examples"
   ]
  },
  {
   "cell_type": "code",
   "execution_count": null,
   "metadata": {},
   "outputs": [],
   "source": [
    "# testing the SetOfAll.unfold_membership() method\n",
    "for n, the_expr in enumerate(SetOfAll_examples):\n",
    "    print(f\"({n})\")\n",
    "    display(the_expr)\n",
    "    try:\n",
    "        temp_result = the_expr.unfold_membership(a, assumptions=[InSet(a, the_expr)])\n",
    "        display(temp_result)\n",
    "        print()\n",
    "    except Exception as the_error:\n",
    "        print(\"Exception: {}\".format(the_error))"
   ]
  },
  {
   "cell_type": "markdown",
   "metadata": {},
   "source": [
    "#### Examples (both working and not working) of the `SetOfAllMembership.unfold()` method"
   ]
  },
  {
   "cell_type": "markdown",
   "metadata": {},
   "source": [
    "First we recall some membership expressions with our SetOfAll comprehensions, and establish some subsets for testing:"
   ]
  },
  {
   "cell_type": "code",
   "execution_count": null,
   "metadata": {},
   "outputs": [],
   "source": [
    "for n, example in enumerate(SetOfAllMembership_examples):\n",
    "    print(f\"({n})\")\n",
    "    display(example)"
   ]
  },
  {
   "cell_type": "code",
   "execution_count": null,
   "metadata": {},
   "outputs": [],
   "source": [
    "# examples where instance_expr is just the single instance variable\n",
    "SetOfAllMembership_examples_simple_instances = SetOfAllMembership_examples[0:4]\n",
    "print(\"SetOfAllMembership_examples_simple_instances:\")\n",
    "for example in SetOfAllMembership_examples_simple_instances:\n",
    "    display(example)\n",
    "print()\n",
    "\n",
    "# examples where instance_expr is a function of one or more instance variables\n",
    "SetOfAllMembership_examples_complex_instances = SetOfAllMembership_examples[4:]\n",
    "print(\"SetOfAllMembership_examples_complex_instances:\")\n",
    "for example in SetOfAllMembership_examples_complex_instances:\n",
    "    display(example)\n",
    "print()\n",
    "\n",
    "# examples where instance_expr is a function of more than one instance variables\n",
    "SetOfAllMembership_examples_multi_variable = SetOfAllMembership_examples[9:]\n",
    "print(\"SetOfAllMembership_examples_multi_variable:\")\n",
    "for example in SetOfAllMembership_examples_multi_variable:\n",
    "    display(example)\n",
    "print()"
   ]
  },
  {
   "cell_type": "code",
   "execution_count": null,
   "metadata": {},
   "outputs": [],
   "source": [
    "# testing the SetOfAllMembership.unfold() method\n",
    "for n, the_expr in enumerate(SetOfAllMembership_examples):\n",
    "    print(f\"({n}) The original expression is:\")\n",
    "    display(the_expr)\n",
    "    try:\n",
    "        temp_result = the_expr.unfold(assumptions=[the_expr])\n",
    "        print(f\"The unfolding produces: \")\n",
    "        display(temp_result)\n",
    "        print()\n",
    "    except Exception as the_error:\n",
    "        print(\"Exception: {}\".format(the_error))\n",
    "        print()"
   ]
  },
  {
   "cell_type": "markdown",
   "metadata": {},
   "source": [
    "### Examples (both working and not working) of the `SetOfAllMembership.definition()` method"
   ]
  },
  {
   "cell_type": "markdown",
   "metadata": {},
   "source": [
    "Generally working for a variety of examples, except when we use a SetOfAll comprehension set that has 2 (or more?) instance variables combined with 2 or more explicit conditions. In those cases, the instantiation process produces a set of conditions combined in a conjunction, which ends up not matching the original membership object, leading to an error message.\n",
    "\n",
    "When we have multiple instance variables, but no explicit conditions: OK.\n",
    "\n",
    "When we have multiple instance variables, and exactly one explicit condition: OK.\n",
    "\n",
    "When we have multiple instance variables, but 2 or more explicit conditions: ERROR."
   ]
  },
  {
   "cell_type": "code",
   "execution_count": null,
   "metadata": {},
   "outputs": [],
   "source": [
    "# testing the SetOfAllMembership.definition() method\n",
    "for i, the_expr in enumerate(SetOfAllMembership_examples):\n",
    "    print(f\"({i}) the_expr:\")\n",
    "    display(the_expr)\n",
    "    print()\n",
    "    print(\"with result: \")\n",
    "    try:\n",
    "        temp_result = the_expr.definition()\n",
    "        display(temp_result)\n",
    "    except Exception as the_error:\n",
    "        print(\"Exception: {}\".format(the_error))\n",
    "    print(\"\\n\")"
   ]
  },
  {
   "cell_type": "markdown",
   "metadata": {},
   "source": [
    "### Examples (both working and not working) of the `SetOfAllMembership.conclude()` method"
   ]
  },
  {
   "cell_type": "markdown",
   "metadata": {},
   "source": [
    "Some of the cases don't immediately work because the assumption isn't quite right, being returned in a mechanical way from the SetOfAll.unfold() method. Some of those cases are then tested more carefully further below.\n",
    "\n",
    "More puzzling: some of the cases don't work on the FIRST run, but work on subsequent runs. An example of one of those cases is the simple SetOfAllMembership_examples[2]: $a \\in \\{x \\,|\\, 1 > x > 0\\}_{x \\in \\mathbb{R}}$.\n",
    "\n",
    "A couple cases once again involve expressions with BOTH multiple instance variables AND multiple explicit conditions simultaneously, and these are continuing to prove problematic for somewhat mysterious reasons."
   ]
  },
  {
   "cell_type": "code",
   "execution_count": null,
   "metadata": {},
   "outputs": [],
   "source": [
    "# experimenting with InSet and Exists with empty explicit conditions\n",
    "# Creating an Exists with empty explicit conditions automatically simplifies\n",
    "# to no conditions at all (which doesn't seem to always happen when instantiating\n",
    "# an existential --- see further below).\n",
    "from proveit import a, x, y, S, Q, Function\n",
    "from proveit.logic import Equals, Exists\n",
    "from proveit.logic.sets import InSet\n",
    "from proveit.numbers import two, Exp, Real\n",
    "from proveit.logic.sets.comprehension import fold, fold_basic_comprehension, SetOfAll\n",
    "print(f\"The fold theorem:\")\n",
    "display(fold)\n",
    "print()\n",
    "the_expr = InSet(a, SetOfAll(x, Exp(x, two), domain=Real))\n",
    "print(\"the_expr:\")\n",
    "display(the_expr)\n",
    "print()\n",
    "the_exists = Exists(x, Equals(a, Exp(x, two)), conditions=the_expr.domain.explicit_conditions(),\n",
    "                       domains = the_expr.domain.all_domains())\n",
    "print(\"the_exists:\")\n",
    "display(the_exists)\n",
    "print()\n",
    "the_exists_02 = Exists(x, Equals(a, Exp(x, two)), conditions=[],\n",
    "                       domains = the_expr.domain.all_domains())\n",
    "print(\"the_exists_02:\")\n",
    "display(the_exists_02)\n",
    "print()\n",
    "the_exists_03 = Exists(x, Equals(a, Exp(x, two)), conditions=ExprTuple(),\n",
    "                       domains = the_expr.domain.all_domains())\n",
    "print(\"the_exists_03:\")\n",
    "display(the_exists_03)\n",
    "print()"
   ]
  },
  {
   "cell_type": "code",
   "execution_count": null,
   "metadata": {},
   "outputs": [],
   "source": [
    "# experimenting with instance element that is a function but empty () conditions\n",
    "from proveit import a, n, x, y, S, Q, ExprTuple, Function\n",
    "from proveit.logic import Exists\n",
    "from proveit.logic.sets import InSet\n",
    "from proveit.numbers import two, Exp, Real\n",
    "from proveit.logic.sets.comprehension import fold, fold_basic_comprehension, SetOfAll\n",
    "print(f\"The fold theorem:\")\n",
    "display(fold)\n",
    "print(f\"\")\n",
    "the_expr = InSet(a, SetOfAll(x, Exp(x, two), domain=Real))\n",
    "print(f\"the_expr:\")\n",
    "display(the_expr)\n",
    "print()\n",
    "the_element = the_expr.element\n",
    "_x_sub = the_element\n",
    "_y_sub = the_expr.domain.all_instance_vars()\n",
    "_S_sub = the_expr.domain.all_domains()\n",
    "# this works:\n",
    "_Q_op, _Q_op_sub = (\n",
    "                Function(Q, the_expr.domain.all_instance_vars()), And())\n",
    "# this doesn't:\n",
    "# _Q_op, _Q_op_sub = (\n",
    "#                 Function(Q, the_expr.domain.all_instance_vars()), the_expr.domain.explicit_conditions())\n",
    "# what about this? End up with side-effect errors ...\n",
    "# _Q_op, _Q_op_sub = (\n",
    "#                 Function(Q, the_expr.domain.all_instance_vars()), ExprTuple())\n",
    "_n_sub = num(len(the_expr.domain.all_instance_vars()))\n",
    "_f_op, _f_sub = (\n",
    "        Function(f, the_expr.domain.all_instance_vars()),\n",
    "        the_expr.domain.instance_element)\n",
    "# the_assumption = Exists(x, Equals(a, Exp(x, two)), conditions=the_expr.domain.explicit_conditions(),\n",
    "#                        domains = the_expr.domain.all_domains())\n",
    "the_assumption = Exists(x, Equals(a, Exp(x, two)), conditions=ExprTuple(),\n",
    "                       domains = the_expr.domain.all_domains())\n",
    "print(f\"the_assumption (constructed):\")\n",
    "display(the_assumption)\n",
    "print()\n",
    "temp_instantiation = fold.instantiate({n:_n_sub, S:_S_sub, \n",
    "                _Q_op:_Q_op_sub, _f_op:_f_sub,\n",
    "                x:_x_sub, y:_y_sub},\n",
    "                preserved_exprs = {the_expr.domain},\n",
    "                # preserved_exprs = {the_expr.domain, *the_expr.domain.explicit_conditions()}, # added domain.condition here\n",
    "                auto_simplify = True)\n",
    "print(f\"temp_instantiation:\")\n",
    "display(temp_instantiation)\n",
    "print()\n",
    "print(\"The derived consequent: \")\n",
    "temp_instantiation.derive_consequent(assumptions = [the_assumption])"
   ]
  },
  {
   "cell_type": "markdown",
   "metadata": {},
   "source": [
    "The following demonstrates a problem with the instantiation of the SetofAllMembership fold theorem when we have conjunction of explicit conditions (which also arises when we have a number_ordering of conditions): the instantiation of the existential antecedent does not preserve the explicit conditions as a conjunction. This means that the user-expected assumption for the antecedent does not work as an assumption for the later consequent derivation."
   ]
  },
  {
   "cell_type": "code",
   "execution_count": null,
   "metadata": {},
   "outputs": [],
   "source": [
    "from proveit import n, x, y, S, Q, Function\n",
    "from proveit.logic import Exists\n",
    "from proveit.logic.sets.comprehension import fold\n",
    "the_expr = SetOfAllMembership_examples[2]\n",
    "print(\"the_expr = \")\n",
    "display(the_expr)\n",
    "print()\n",
    "\n",
    "# construct the related existential assumption, for a single instance variable case\n",
    "the_assumption = Exists(the_expr.domain.all_instance_vars(),\n",
    "                 Equals(the_expr.element, the_expr.domain.instance_element),\n",
    "                 condition = the_expr.domain.explicit_conditions()[0],\n",
    "                 domains = the_expr.domain.all_domains())\n",
    "print(\"the_assumption = \")\n",
    "display(the_assumption)\n",
    "print()\n",
    "\n",
    "\n",
    "explicit_conditions = the_expr.domain.explicit_conditions()[0]\n",
    "_Q_op, _Q_op_sub = (\n",
    "                Function(Q, the_expr.domain.all_instance_vars()),\n",
    "                explicit_conditions)\n",
    "print(\"_Q_op_sub = \")\n",
    "display(_Q_op_sub)\n",
    "print()\n",
    "_n_sub = num(len(the_expr.domain.all_instance_vars()))\n",
    "_S_sub = the_expr.domain.all_domains()\n",
    "_f_op, _f_sub = (\n",
    "        Function(f, the_expr.domain.all_instance_vars()),\n",
    "        the_expr.domain.instance_element)\n",
    "temp_preserved_exprs = {the_expr.domain, *the_expr.domain.explicit_conditions()}\n",
    "print(\"The temp_preserved_exprs are: \")\n",
    "for each_expr in temp_preserved_exprs:\n",
    "    display(each_expr)\n",
    "print()\n",
    "temp_inst = fold.instantiate(\n",
    "                {n:_n_sub, S:_S_sub, \n",
    "                _Q_op:_Q_op_sub, _f_op:_f_sub,\n",
    "                x:element, y:the_expr.domain.all_instance_vars()},\n",
    "                # preserved_exprs = {the_expr.domain, *the_expr.domain.all_conditions()},\n",
    "                preserved_exprs = {the_expr.domain, *the_expr.domain.explicit_conditions()}, # added domain.condition here\n",
    "                auto_simplify = True)\n",
    "print(\"temp_inst = \")\n",
    "display(temp_inst)\n",
    "print()\n",
    "\n",
    "print(\"temp_inst.antecedent.all_conditions() = \")\n",
    "display(temp_inst.antecedent.all_conditions())\n",
    "print()\n",
    "\n",
    "print(\"deriving the consequent,\")\n",
    "print(\"using the antecedent as an assumption:\")\n",
    "temp_conseq = temp_inst.derive_consequent(assumptions = [temp_inst.antecedent])\n",
    "display(temp_conseq)\n",
    "print()\n",
    "\n",
    "print(\"deriving the consequent,\")\n",
    "print(\"using the constructed the_assumption as an assumption:\")\n",
    "try:\n",
    "    temp_conseq = temp_inst.derive_consequent(assumptions = [the_assumption])\n",
    "    display(temp_conseq)\n",
    "except Exception as the_exception:\n",
    "    print(f\"Exception: {the_exception}\")\n",
    "print()"
   ]
  },
  {
   "cell_type": "markdown",
   "metadata": {},
   "source": [
    "A similar demonstration, now using the `SetOfAllMembership.conclude()` method itself, which in turn is instantiating the SetOfAllMembership `unfold` theorem that we explicitly/manually performed above. Notice that a problem arises not because of the `instance_element` being more complicated ($x^2$, for example, instead of just $x$), per se, but because of the result depending on the instantiation of the `fold` theorem (instead of the simpler fold_basic_comprehension theorem, which isn't relevant for the $x^2$ case):"
   ]
  },
  {
   "cell_type": "code",
   "execution_count": null,
   "metadata": {},
   "outputs": [],
   "source": [
    "# testing the SetOfAllMembership.conclude() method\n",
    "# w/alternative way to construct the desired/necessary assumption\n",
    "\n",
    "from proveit.logic import Exists, Equals\n",
    "\n",
    "the_expr = SetOfAllMembership_examples[7]\n",
    "print(f\"The expression to prove is:\")\n",
    "display(the_expr)\n",
    "the_element = the_expr.element\n",
    "the_instance_vars = the_expr.domain.all_instance_vars()\n",
    "the_instance_elem = the_expr.domain.instance_element\n",
    "the_explicit_conditions = the_expr.domain.explicit_conditions()\n",
    "the_domains = the_expr.domain.all_domains()\n",
    "\n",
    "the_explicit_conditions_replacements = []\n",
    "for explicit_condition in the_explicit_conditions:\n",
    "        the_explicit_conditions_replacements += [explicit_condition.basic_replaced({the_instance_vars[0]:the_element})]\n",
    "\n",
    "if len(the_instance_vars) == 1 and the_instance_vars[0]==the_instance_elem:\n",
    "    # we have something like a in {x | Q(x)}_{x in S}\n",
    "    the_explicit_conditions_replacements = []\n",
    "    for explicit_condition in the_explicit_conditions:\n",
    "        the_explicit_conditions_replacements += [explicit_condition.basic_replaced({the_instance_vars[0]:the_element})]\n",
    "    if len(the_explicit_conditions_replacements) == 0:\n",
    "        the_assumption = InSet(the_element, the_domains[0])\n",
    "    elif len(the_explicit_conditions_replacements) == 1:\n",
    "        the_assumption = And(InSet(the_element, the_domains[0]), the_explicit_conditions_replacements[0])\n",
    "    else:\n",
    "        the_assumption = And(InSet(the_element, the_domains[0]), *the_explicit_conditions_replacements)\n",
    "    print(f\"The constructed assumption is:\")\n",
    "    display(the_assumption)\n",
    "else:\n",
    "    # we have something like a in {f(x) | Q(x)}_{x in S}\n",
    "    the_assumption = Exists(x, Equals(the_element, the_instance_elem), conditions=the_explicit_conditions, domains=the_domains)\n",
    "    print(f\"The constructed assumption is:\")\n",
    "    display(the_assumption)\n",
    "\n",
    "print(f\"The conclude() result is: \")\n",
    "try:\n",
    "    display(the_expr.conclude(assumptions = [the_assumption]))\n",
    "except Exception as the_exception:\n",
    "    print(f\"Exception: {the_exception}\")"
   ]
  },
  {
   "cell_type": "code",
   "execution_count": null,
   "metadata": {},
   "outputs": [],
   "source": [
    "# testing the SetOfAllMembership.conclude() method\n",
    "# w/alternative way to construct the desired/necessary assumption\n",
    "\n",
    "from proveit.logic import Exists, Equals\n",
    "\n",
    "for i, the_expr in enumerate(SetOfAllMembership_examples):\n",
    "\n",
    "    print(f\"({i}) The expression to prove is:\")\n",
    "    display(the_expr)\n",
    "    the_element = the_expr.element\n",
    "    the_instance_vars = the_expr.domain.all_instance_vars()\n",
    "    the_instance_elem = the_expr.domain.instance_element\n",
    "    the_explicit_conditions = the_expr.domain.explicit_conditions()\n",
    "    the_domains = the_expr.domain.all_domains()\n",
    "    \n",
    "    if len(the_instance_vars) == 1 and the_instance_vars[0]==the_instance_elem:\n",
    "        # we have something like a in {x | Q(x)}_{x in S}\n",
    "        the_explicit_conditions_replacements = []\n",
    "        for explicit_condition in the_explicit_conditions:\n",
    "            the_explicit_conditions_replacements += [explicit_condition.basic_replaced({the_instance_vars[0]:the_element})]\n",
    "        if len(the_explicit_conditions_replacements) == 0:\n",
    "            the_assumption = InSet(the_element, the_domains[0])\n",
    "        elif len(the_explicit_conditions_replacements) == 1:\n",
    "            the_assumption = And(InSet(the_element, the_domains[0]), the_explicit_conditions_replacements[0])\n",
    "        else:\n",
    "            the_assumption = And(InSet(the_element, the_domains[0]), *the_explicit_conditions_replacements)\n",
    "        print(f\"The constructed assumption is:\")\n",
    "        display(the_assumption)\n",
    "    else:\n",
    "        # we have something like a in {f(x) | Q(x)}_{x in S}, perhaps with multiple instance variables\n",
    "        if len(the_instance_vars) == 1:\n",
    "            the_assumption = Exists(the_instance_vars[0], Equals(the_element, the_instance_elem),\n",
    "                                    conditions=the_explicit_conditions, domains=the_domains)\n",
    "        else:\n",
    "            the_assumption = Exists(the_instance_vars, Equals(the_element, the_instance_elem),\n",
    "                                    conditions=the_explicit_conditions, domains=the_domains)\n",
    "        print(f\"The constructed assumption is:\")\n",
    "        display(the_assumption)\n",
    "    \n",
    "    print(f\"The conclude() result is: \")\n",
    "    try:\n",
    "        display(the_expr.conclude(assumptions = [the_assumption], preserve_expr = the_expr.domain))\n",
    "        print()\n",
    "    except Exception as the_exception:\n",
    "        print(f\"Exception: {the_exception}\")\n",
    "        print()"
   ]
  },
  {
   "cell_type": "markdown",
   "metadata": {},
   "source": [
    "WORKING HERE 20250414."
   ]
  },
  {
   "cell_type": "code",
   "execution_count": null,
   "metadata": {},
   "outputs": [],
   "source": [
    "# testing the SetOfAllMembership.conclude() method\n",
    "# Somewhat artificial way to test these, because in each case we need to know\n",
    "# or assume the rhs of the definition or \"unfolding\" of the SetOfAllMembership expression\n",
    "for i, the_expr in enumerate(SetOfAllMembership_examples):\n",
    "    print(f\"\\n({i}) Trying to conclude:\")\n",
    "    display(the_expr)\n",
    "    try:\n",
    "        # the_assumption = the_expr.definition().rhs\n",
    "        the_assumption = the_expr.unfold(assumptions=[the_expr]).expr\n",
    "        print(f\"with the assumption:\")\n",
    "        display(the_assumption)\n",
    "        print(f\"with the result:\")\n",
    "        temp_result = the_expr.conclude(assumptions=[the_assumption])\n",
    "        display(temp_result)\n",
    "    except Exception as the_error:\n",
    "        print(\"Exception: {}\".format(the_error))"
   ]
  },
  {
   "cell_type": "markdown",
   "metadata": {},
   "source": [
    "### Examples of the `SetOfAllMembership.deduce_in_bool()` method"
   ]
  },
  {
   "cell_type": "code",
   "execution_count": null,
   "metadata": {},
   "outputs": [],
   "source": [
    "# testing the SetOfAllMembership.deduce_in_bool() method\n",
    "for the_expr in SetOfAllMembership_examples:\n",
    "    try:\n",
    "        temp_result = the_expr.deduce_in_bool()\n",
    "        display(temp_result)\n",
    "    except Exception as the_error:\n",
    "        print(\"Exception: {}\".format(the_error))"
   ]
  },
  {
   "cell_type": "markdown",
   "metadata": {},
   "source": [
    "### SetOfAllNonmembership"
   ]
  },
  {
   "cell_type": "code",
   "execution_count": null,
   "metadata": {},
   "outputs": [],
   "source": [
    "from proveit import a\n",
    "from proveit.logic.sets import NotInSet\n",
    "SetOfAllNonmembership_examples = []\n",
    "for n, example in enumerate(SetOfAll_examples):\n",
    "    SetOfAllNonmembership_examples.append(NotInSet(a, example))\n",
    "    print(f\"({n})\")\n",
    "    display(SetOfAllNonmembership_examples[n])"
   ]
  },
  {
   "cell_type": "markdown",
   "metadata": {},
   "source": [
    "### Examples (both working and not working) of the `SetOfAllNonmembership.definition()` method"
   ]
  },
  {
   "cell_type": "code",
   "execution_count": null,
   "metadata": {},
   "outputs": [],
   "source": [
    "# testing the SetOfAllNonmembership.definition() method\n",
    "for the_expr in SetOfAllNonmembership_examples:\n",
    "    print(f\"\\nDeriving definition (equality) of:\")\n",
    "    display(the_expr)\n",
    "    try:\n",
    "        temp_result = the_expr.definition()\n",
    "        display(temp_result)\n",
    "    except Exception as the_error:\n",
    "        print(\"Exception: {}\".format(the_error))"
   ]
  },
  {
   "cell_type": "markdown",
   "metadata": {},
   "source": [
    "### Examples (both working and not working) of the `SetOfAllNonmembership.conclude()` method"
   ]
  },
  {
   "cell_type": "markdown",
   "metadata": {},
   "source": [
    "As with the `SetOfAllMembership` cases under the `conclude()` method, some of the cases for the `SetOfAllNonmembership.conclude()` don't immediately work, possibly because the assumption construction isn't quite right for the instantiated version of the theorem. Some of those cases are then tested more carefully further below. The non-matching of constructed assumption vs. instantiation component proves to be a thorny problem with no easy fix.\n",
    "\n",
    "A few cases once again involve expressions with BOTH multiple instance variables AND multiple explicit conditions simultaneously, and these are continuing to prove problematic for somewhat mysterious reasons."
   ]
  },
  {
   "cell_type": "code",
   "execution_count": null,
   "metadata": {},
   "outputs": [],
   "source": [
    "# testing the SetOfAllNonmembership.conclude() method\n",
    "# Somewhat artificial way to test these, because in each case we need to know\n",
    "# or assume the rhs of the definition of the SetOfAllNonmembership expression\n",
    "from proveit.logic import Not\n",
    "for n, the_expr in enumerate(SetOfAllNonmembership_examples):\n",
    "\n",
    "    print(f\"\\n({n}) Trying to conclude:\")\n",
    "    display(the_expr)\n",
    "    \n",
    "    the_element = the_expr.element\n",
    "    the_instance_vars = the_expr.domain.all_instance_vars()\n",
    "    the_instance_elem = the_expr.domain.instance_element\n",
    "    the_explicit_conditions = the_expr.domain.explicit_conditions()\n",
    "    the_domains = the_expr.domain.all_domains()\n",
    "\n",
    "    if len(the_instance_vars) == 1 and the_instance_vars[0]==the_instance_elem:\n",
    "        # we have something like a notin {x | Q(x)}_{x in S}\n",
    "        the_explicit_conditions_replacements = []\n",
    "        for explicit_condition in the_explicit_conditions:\n",
    "            the_explicit_conditions_replacements += [explicit_condition.basic_replaced({the_instance_vars[0]:the_element})]\n",
    "        if len(the_explicit_conditions_replacements) == 0:\n",
    "            the_assumption = NotInSet(the_element, the_domains[0])\n",
    "        elif len(the_explicit_conditions_replacements) == 1:\n",
    "            the_assumption = And(NotInSet(the_element, the_domains[0]), Not(the_explicit_conditions_replacements[0]))\n",
    "        else:\n",
    "            the_assumption = And(NotInSet(the_element, the_domains[0]), Not(And(*the_explicit_conditions_replacements)))\n",
    "        print(f\"The constructed assumption is:\")\n",
    "        display(the_assumption)\n",
    "    else:\n",
    "        # we have something like a notin {f(x) | Q(x)}_{x in S}, perhaps with multiple instance variables\n",
    "        if len(the_instance_vars) == 1:\n",
    "            the_assumption = Forall(the_instance_vars[0], NotEquals(the_element, the_instance_elem),\n",
    "                                    conditions=the_explicit_conditions, domains=the_domains)\n",
    "            if len(the_explicit_conditions) > 1:\n",
    "                possible_inst_assumption = Forall(the_instance_vars[0], NotEquals(the_element, the_instance_elem),\n",
    "                                    conditions=[And(*the_explicit_conditions)], domains=the_domains)\n",
    "        else:\n",
    "            the_assumption = Forall(the_instance_vars, NotEquals(the_element, the_instance_elem),\n",
    "                                    conditions=the_explicit_conditions, domains=the_domains)\n",
    "            if len(the_explicit_conditions) > 1:\n",
    "                possible_inst_assumption = Forall(the_instance_vars, NotEquals(the_element, the_instance_elem),\n",
    "                                    conditions=[And(*the_explicit_conditions)], domains=the_domains)\n",
    "        print(f\"The constructed assumption is:\")\n",
    "        display(the_assumption)\n",
    "        if len(the_explicit_conditions) > 1:\n",
    "            print(f\"The constructed possible_inst_assumption is:\")\n",
    "            display(possible_inst_assumption)\n",
    "            print(f\"the_assumption==possible_inst_assumption = {the_assumption==possible_inst_assumption}\")\n",
    "            if the_assumption!=possible_inst_assumption:\n",
    "                try:\n",
    "                    Equals(the_assumption, possible_inst_assumption).prove()\n",
    "                    print(f\"Equality proof succeeded!\")\n",
    "                except:\n",
    "                    print(f\"Equality proof did not succeed!\")\n",
    "                    pass\n",
    "    \n",
    "    print(f\"The result is:\")\n",
    "\n",
    "    try:\n",
    "        # the_old_assumption = the_expr.definition().rhs\n",
    "        # print(f\"with the old assumption:\")\n",
    "        # display(the_old_assumption)\n",
    "        temp_result = the_expr.conclude(assumptions=[the_assumption])\n",
    "        display(temp_result)\n",
    "    except Exception as the_error:\n",
    "        print(\"Exception: {}\".format(the_error))"
   ]
  },
  {
   "cell_type": "markdown",
   "metadata": {},
   "source": [
    "#### Some Investigations of SetOfAllNonmembership expressions\n",
    "\n",
    "Investigating SetOfAllNonmembership expressions to see if/how to modify the conjunction (logical AND) groupings in the domain's Conditional condition."
   ]
  },
  {
   "cell_type": "code",
   "execution_count": null,
   "metadata": {},
   "outputs": [],
   "source": [
    "# testing the SetOfAllNonmembership.conclude() method\n",
    "# without the try-except block so we can see the error trace\n",
    "# keep commented-out unless actively reviewing\n",
    "# from proveit.logic import Not\n",
    "# i = 16\n",
    "# for the_expr in [SetOfAllNonmembership_examples[i]]:\n",
    "\n",
    "#     print(f\"\\n({i}) Trying to conclude:\")\n",
    "#     display(the_expr)\n",
    "    \n",
    "#     the_element = the_expr.element\n",
    "#     the_instance_vars = the_expr.domain.all_instance_vars()\n",
    "#     the_instance_elem = the_expr.domain.instance_element\n",
    "#     the_explicit_conditions = the_expr.domain.explicit_conditions()\n",
    "#     the_domains = the_expr.domain.all_domains()\n",
    "\n",
    "#     if len(the_instance_vars) == 1 and the_instance_vars[0]==the_instance_elem:\n",
    "#         # we have something like a notin {x | Q(x)}_{x in S}\n",
    "#         the_explicit_conditions_replacements = []\n",
    "#         for explicit_condition in the_explicit_conditions:\n",
    "#             the_explicit_conditions_replacements += [explicit_condition.basic_replaced({the_instance_vars[0]:the_element})]\n",
    "#         if len(the_explicit_conditions_replacements) == 0:\n",
    "#             the_assumption = NotInSet(the_element, the_domains[0])\n",
    "#         elif len(the_explicit_conditions_replacements) == 1:\n",
    "#             the_assumption = And(NotInSet(the_element, the_domains[0]), Not(the_explicit_conditions_replacements[0]))\n",
    "#         else:\n",
    "#             the_assumption = And(NotInSet(the_element, the_domains[0]), Not(And(*the_explicit_conditions_replacements)))\n",
    "#         print(f\"The constructed assumption is:\")\n",
    "#         display(the_assumption)\n",
    "#     else:\n",
    "#         # we have something like a notin {f(x) | Q(x)}_{x in S}, perhaps with multiple instance variables\n",
    "#         if len(the_instance_vars) == 1:\n",
    "#             the_assumption = Forall(the_instance_vars[0], NotEquals(the_element, the_instance_elem),\n",
    "#                                     conditions=the_explicit_conditions, domains=the_domains)\n",
    "#             if len(the_explicit_conditions) > 1:\n",
    "#                 possible_inst_assumption = Forall(the_instance_vars[0], NotEquals(the_element, the_instance_elem),\n",
    "#                                     conditions=[And(*the_explicit_conditions)], domains=the_domains)\n",
    "#         else:\n",
    "#             the_assumption = Forall(the_instance_vars, NotEquals(the_element, the_instance_elem),\n",
    "#                                     conditions=the_explicit_conditions, domains=the_domains)\n",
    "#             if len(the_explicit_conditions) > 1:\n",
    "#                 possible_inst_assumption = Forall(the_instance_vars, NotEquals(the_element, the_instance_elem),\n",
    "#                                     conditions=[And(*the_explicit_conditions)], domains=the_domains)\n",
    "#         print(f\"The constructed assumption is:\")\n",
    "#         display(the_assumption)\n",
    "#         if len(the_explicit_conditions) > 1:\n",
    "#             print(f\"The constructed possible_inst_assumption is:\")\n",
    "#             display(possible_inst_assumption)\n",
    "#             print(f\"the_assumption==possible_inst_assumption = {the_assumption==possible_inst_assumption}\")\n",
    "#             if the_assumption!=possible_inst_assumption:\n",
    "#                 try:\n",
    "#                     Equals(the_assumption, possible_inst_assumption).prove()\n",
    "#                     print(f\"Equality proof succeeded!\")\n",
    "#                 except:\n",
    "#                     print(f\"Equality proof did not succeed!\")\n",
    "#                     pass\n",
    "    \n",
    "#     print(f\"The result is:\")\n",
    "#     temp_result = the_expr.conclude(assumptions=[the_assumption])\n",
    "#     display(temp_result)"
   ]
  },
  {
   "cell_type": "code",
   "execution_count": null,
   "metadata": {},
   "outputs": [],
   "source": [
    "the_expr = SetOfAllNonmembership_examples[16]\n",
    "display(the_expr)\n",
    "the_element = the_expr.element\n",
    "the_instance_vars = the_expr.domain.all_instance_vars()\n",
    "the_instance_elem = the_expr.domain.instance_element\n",
    "the_explicit_conditions = the_expr.domain.explicit_conditions()\n",
    "the_domains = the_expr.domain.all_domains()\n",
    "the_assumption = Forall(the_instance_vars, NotEquals(the_element, the_instance_elem),\n",
    "                                    conditions=the_explicit_conditions, domains=the_domains)\n",
    "display(the_assumption)\n",
    "possible_inst_assumption = Forall(the_instance_vars, NotEquals(the_element, the_instance_elem),\n",
    "                                    conditions=[And(*the_explicit_conditions)], domains=the_domains)\n",
    "display(possible_inst_assumption)"
   ]
  },
  {
   "cell_type": "code",
   "execution_count": null,
   "metadata": {},
   "outputs": [],
   "source": [
    "from proveit import i, j\n",
    "from proveit.numbers import zero, LessEq, num, number_ordering\n",
    "LessEq(zero, i).deduce_in_bool(assumptions=[InSet(i, Integer)])\n",
    "LessEq(zero, i).deduce_in_bool(assumptions=[InSet(i, Integer)])\n",
    "number_ordering(LessEq(zero, j), LessEq(j, num(10))).deduce_in_bool(assumptions=[InSet(j, Integer)])"
   ]
  },
  {
   "cell_type": "code",
   "execution_count": null,
   "metadata": {},
   "outputs": [],
   "source": [
    "And._simplification_directives_.ungroup"
   ]
  },
  {
   "cell_type": "code",
   "execution_count": null,
   "metadata": {},
   "outputs": [],
   "source": [
    "possible_inst_assumption.inner_expr().operands[0].body.condition.shallow_simplify(\n",
    "    assumptions=[InSet(i, Integer), InSet(j, Integer), possible_inst_assumption])"
   ]
  },
  {
   "cell_type": "code",
   "execution_count": null,
   "metadata": {},
   "outputs": [],
   "source": [
    "%end demonstrations"
   ]
  }
 ],
 "metadata": {
  "kernelspec": {
   "display_name": "Python 3",
   "language": "python",
   "name": "python3"
  }
 },
 "nbformat": 4,
 "nbformat_minor": 0
}
