{
 "cells": [
  {
   "cell_type": "markdown",
   "metadata": {},
   "source": [
    "Demonstrations for the theory of <a class=\"ProveItLink\" href=\"theory.ipynb\">proveit.logic.sets.comprehension</a>\n",
    "========"
   ]
  },
  {
   "cell_type": "code",
   "execution_count": 1,
   "metadata": {},
   "outputs": [],
   "source": [
    "import proveit\n",
    "from proveit import a, b, x, y, Q, Function\n",
    "from proveit.logic import And, Forall, InSet, NotEquals, SetOfAll\n",
    "from proveit.numbers import (\n",
    "        zero, one, two, Exp, frac, greater, greater_eq, LessEq, Integer, Real)\n",
    "%begin demonstrations"
   ]
  },
  {
   "cell_type": "markdown",
   "metadata": {},
   "source": [
    "Just some formatting checks below.  Nothing important.  Remove them when we put in something serious."
   ]
  },
  {
   "cell_type": "code",
   "execution_count": 2,
   "metadata": {},
   "outputs": [
    {
     "data": {
      "text/html": [
       "<a class=\"ProveItLink\" href=\"../__pv_it/demonstrations/ac758434a137fe923317ff86a622d7e143d5ddc80/expr.ipynb\"><img src=\"data:image/png;base64,iVBORw0KGgoAAAANSUhEUgAAAJYAAAAqCAMAAABm11LeAAAAPFBMVEX///8AAAAAAAAAAAAAAAAA\n",
       "AAAAAAAAAAAAAAAAAAAAAAAAAAAAAAAAAAAAAAAAAAAAAAAAAAAAAAAAAAAo1xBWAAAAE3RSTlMA\n",
       "dt0yIs3vqxBmu0SZiVTn9enzKryueAAAAAlwSFlzAAAOxAAADsQBlSsOGwAAAt5JREFUWMPNmIty\n",
       "4yAMRXk/BKK7y///6wIuBifUjh9xqulkPI3BJ+IiXUPIFJRx8pawzB4eK5gU87VGKuh1XI5Jc5BK\n",
       "6TaLSoAQzXVchrFjA3WjMCrn3LMr19HFY+vI5HzpY/kHXqov5Y8Na2uoIKcsumux9MlhJmax20h+\n",
       "G1bIWpMkiN+ERSBlKzBPlmoQn8YymiIXmi6LK76iNW/ehzWODsuAGlcPDosRSL24EYsQOd7u0CdY\n",
       "hlxGxZ1YZVc8J0svGmEZBTdiuXFjgn5bQJkw1DsPYsU9WDiUlltMEcs685rXrovsCL7Zs3osqSnV\n",
       "T+so+2SZivU9Lx7q/HLzx/Q7MSafYmKl8KzE15/8WTMmIk5Y1R8x2O87YNsPdViTYBRdSVbDqh3f\n",
       "SNiZL8f6J8QWP2D5ktq4tBhuWTPM9LWLbWob97lfIf32D+mwiudxD0VCPnSnSVuh3RXYbr+Liu/A\n",
       "Ko/ys4aLtv7+mxQ270aAKUPm9UcMzKnag8Wrhe2S9Zhvq9p6l+Qe8W8i0texdCKCpZTCczdiufnM\n",
       "KYJjHnxXq9boH8rcYCcbj1TzheU9hzV0CKvGJmwa/wuwhg5hFWu77F3SqgcOYQ3LIrkDa+QQ1rCY\n",
       "uQVr5BDoStnh5BassUN4xysGl/BUQQF9+hvsxKVDeOsLma6y5FQDJKFkm42GDtzj2CG8B6vWW++/\n",
       "L1JB5EHYgR0aOoTLsAxaimK2n0kuKQm0L8/dK2rvA4cO4eRJUvTzmZJIMBWLpk1MfSrgfbkRYd5D\n",
       "2EnpwSFcEW16n/j4bAwgZclK4rpkGUqwPxgzaw7hXNCWepVkTXUvLa8TGZTId2FSfHq+mRuh/dkh\n",
       "nArO2qls2eBg61OzAVaB8JYfF3jmwDlJofb7gUM4h9U3CJWl5WyqQDj1B5t11Xw+Fr27S88iX3lx\n",
       "8DZQzGUgZYlwT0sdEvWcwGqtKYLU5GPRb3WDWVuOfD6cIb8xNuT7H3TfGJPpdu6ZAAAAAElFTkSu\n",
       "QmCC\n",
       "\" style=\"display:inline;vertical-align:middle;\" /></a>"
      ],
      "text/plain": [
       "{(a / b) s.t. b != 0}_{a, b in Integer}"
      ]
     },
     "metadata": {},
     "output_type": "display_data"
    }
   ],
   "source": [
    "SetOfAll((a, b), frac(a, b), conditions=[NotEquals(b, zero)], domain=Integer)"
   ]
  },
  {
   "cell_type": "code",
   "execution_count": 3,
   "metadata": {},
   "outputs": [
    {
     "data": {
      "text/html": [
       "<a class=\"ProveItLink\" href=\"../__pv_it/demonstrations/1de898b04857066d4e36fecdf153c7716370a6280/expr.ipynb\"><img src=\"data:image/png;base64,iVBORw0KGgoAAAANSUhEUgAAAKwAAAAqCAMAAAAZBkAvAAAAPFBMVEX///8AAAAAAAAAAAAAAAAA\n",
       "AAAAAAAAAAAAAAAAAAAAAAAAAAAAAAAAAAAAAAAAAAAAAAAAAAAAAAAAAAAo1xBWAAAAE3RSTlMA\n",
       "dt0yIs3vqxBmu0SZiVTn9enzKryueAAAAAlwSFlzAAAOxAAADsQBlSsOGwAAAyhJREFUWMPVWYuW\n",
       "4iAMJbxfYR/8/78uUFugotUj3To4Z86MjeE23CQ3lZBlAWXklGWomeyRU8HrPwqBwzTfjgo9FatU\n",
       "jXOZcNs4bwNN6UywqoGmZT42P9O/izOZQEX928fyDs4MhvQznTUskDaHNzpykv+ZznTMqWUi+Rlg\n",
       "QyaxIIF/P1hiU2QD9aSjGf9SsFoBMq6g6xH4CoW9/u9gh6sFq60c1jVmu08geH49WELEsBLZ9ixE\n",
       "yM2AfwHYkoN3gVWdICifsteDdcNWbNsktMVhWA2ngo1vgcURZV3nIhaisPUI2g756WKHvbsDKxSA\n",
       "2jNBtIHVK9ibX5woi8ThjXfVICbJp+MNnKdl/fqdf6/R5REXsKvQpHaWgrPHerMFuzBRwuPAVrCr\n",
       "HNLCTomto922sa4HYH05h9jJMtcXM71cdbG6NnHGJMKFP77pFmxRj64vX2LXjxfOhmoU6KTRAyV7\n",
       "B2xB4NeUKZz983dh7lYRrF2iqV/f4uVBQb4Flq3jRA3s/myMrIQp5zBPHvMIb4BVCaftOBru2y/N\n",
       "7XYLp505JL0nZBT6vi4Pqon2CIp108cpYEeq6qlEDIfz2nlgR6rqKdjjMn2mkLlXVc/AGiQXgh2o\n",
       "qmdgqb4S7EBVwZMyyciVYIeq6rxqo6RFn37Wexe7bAwUhVcCxtWgU1XngWWgrE30ysMPatjIpHBn\n",
       "ACS9gxxHzoaqaj5Y72/8STWbBV4r99pKNgNIL2L0UG6OVNU0sBoNYD40aPtK+5QiiWBQujUoYEH7\n",
       "kfoeqaoPFXNcN8oDL8sM0214DA81SyFVF/CtQaYBtxt4bBnaq6opsm5z7xNqlkWOawKrCyk3wZau\n",
       "GNEaAEn5V7Fr2hTLgar6bEE9JZnzJXPCCFtWvoIpv9KWulLWq9Yg0wBdaPWAeayqPptGaf22otQY\n",
       "axIuVmPpAst74w1sHlBkaA0yWOewOeqwaaR7VfUZ2Lb5yUxZZ9K+dSbDkl2O5uxbGqLJZ14NltKl\n",
       "Zz6Qfm3g8yYA5lDw9WmTUUoBWqEym9NZMw+lSG0GToDApDm9IJctjZmSO80Rjgy+aDlNfs46SpV/\n",
       "q74bjZYL3iAAAAAASUVORK5CYII=\n",
       "\" style=\"display:inline;vertical-align:middle;\" /></a>"
      ],
      "text/plain": [
       "{(a / b) s.t. b != 0}_{a in Integer, b in Real}"
      ]
     },
     "metadata": {},
     "output_type": "display_data"
    }
   ],
   "source": [
    "SetOfAll((a, b), frac(a, b), conditions=[NotEquals(b, zero)], domains=(Integer, Real))"
   ]
  },
  {
   "cell_type": "code",
   "execution_count": 4,
   "metadata": {},
   "outputs": [
    {
     "data": {
      "text/html": [
       "<a class=\"ProveItLink\" href=\"../__pv_it/demonstrations/107de9fcdc5ccc07a8b1f1f0eccac06ee2efd6220/expr.ipynb\"><img src=\"data:image/png;base64,iVBORw0KGgoAAAANSUhEUgAAAGEAAAAlBAMAAACg4ZrqAAAAMFBMVEX///8AAAAAAAAAAAAAAAAA\n",
       "AAAAAAAAAAAAAAAAAAAAAAAAAAAAAAAAAAAAAAAAAAAv3aB7AAAAD3RSTlMAq1RmmUTNIjK7EInv\n",
       "3XZ/CtNrAAAACXBIWXMAAA7EAAAOxAGVKw4bAAACAElEQVQ4y2NgIAGwSz9/wEASiCng/EWSBq7D\n",
       "DCwXSNLB8oGBdwNJOngmMKwPIEnH+gcM9qR5fL0CgxhTASk6OB8wXWEhLazkdhS+YGAQALGVSdHo\n",
       "CiLSSdHRCIr9CaToYFvAwMCtQIoOZgOgLtJC+ezdu6dJ0+HBwDCLNB2FDOwCSFzGk1tmOwDpNmho\n",
       "MN1OEUPLFJwLuGHJi+PhzADeAu51C0A6Qam0T3Iqw4MN3NUQ6f8g8AFoyAO4x10agCHB0FQMTqhA\n",
       "NgvQxQwPHjCvQ3NWgh2QWG23nYHPAMx3ADmKof+dFMNjBrAOviVoOjZlAZPMdY7vDCshwV3UAKLe\n",
       "LnjCBfbKgw2Vj9F01AA9zuLAcYAhGMxdxw2mJjOYsYLtfOC5Ez2wGIFm8gTwCTCYzZw5U4Fhwy6G\n",
       "VUDREwyOzJkzZ04CumortiSxvoDTakE3iMWqYcCwC0h/YDjEsQHij9BdUFUrzyJl4YL+4AWcoFDl\n",
       "ZmFgvcC1geEW8wRIzAJDF+7zFIQOVme9zQzsM4AsQ8HX0wQ4DjG0vGNgqAS6lzUvm8slAarsE7rb\n",
       "Vs+cCY1MJkim2zlzKrI8K57yLQqrKDee8s0Ae16Se6hAYvGTxfWdNB36CxjOkabDjYHhN2k6bjOw\n",
       "fiJNxycGFtLqD4YfDGsMSNMhzDCFNA0MC7cArQAAb7OFnwrhkZ4AAAAASUVORK5CYII=\n",
       "\" style=\"display:inline;vertical-align:middle;\" /></a>"
      ],
      "text/plain": [
       "forall_{a in Integer, b in Real} (a / b)"
      ]
     },
     "metadata": {},
     "output_type": "display_data"
    }
   ],
   "source": [
    "Forall((a, b), frac(a, b), domains=(Integer, Real))"
   ]
  },
  {
   "cell_type": "markdown",
   "metadata": {},
   "source": [
    "Some example expressions to use for testing:"
   ]
  },
  {
   "cell_type": "code",
   "execution_count": 5,
   "metadata": {},
   "outputs": [
    {
     "data": {
      "text/html": [
       "<strong id=\"positive_reals\">positive_reals:</strong> <a class=\"ProveItLink\" href=\"../__pv_it/demonstrations/43a0993a27469e312150b72c9f684b5b6ec72f4c0/expr.ipynb\"><img src=\"data:image/png;base64,iVBORw0KGgoAAAANSUhEUgAAAIQAAAAXBAMAAAA4mPp5AAAAMFBMVEX///8AAAAAAAAAAAAAAAAA\n",
       "AAAAAAAAAAAAAAAAAAAAAAAAAAAAAAAAAAAAAAAAAAAv3aB7AAAAD3RSTlMAEER2zVSJ3Zki72ar\n",
       "MruaaVGaAAAACXBIWXMAAA7EAAAOxAGVKw4bAAAB90lEQVQ4y2NgYGBUYkCACQz4AGckdnETRSRO\n",
       "El4jGO48xCbK+pGBKCPYkjuB5BusUgXEGeHKIA70ZToFRnAXMLA9IMMIRm84k+8A2Muku0KsGMbi\n",
       "b2Dg/YrHCEbjg9dSkYwQtpFNCwCzmMsEIMrkgUb8xmEEhwMQM9gYtCMZ0cB8mAPqOO4KiBnzExh4\n",
       "PzMwWGEzYtYGBoadDPsFTiOM4J7A/ZFnAyzSPSbAjPgGpAIwTZjjBCQuMLQghwUv2GkwwOQDcod8\n",
       "AgMT0BWMRzDN4O0DO3QxanByGSAZ4ScACU5WYHCyOWHxCDC2gMp+MggiG6E/gVEA5hEfsEf4HjBw\n",
       "AyM1XgA5YZd5HDGAxAjjI54FDAkII+QUTjGwwZJUBSTncS8A+y4Lrv/yuUcMBgls0yBGsP6VWMAU\n",
       "gDAi/mIXgyoDaqQylDJIXUCKVI5eIGFgwC0MdUWzQcRWpLCQMGbthpgoDE9aDBLJZxkgRjBbTO5k\n",
       "sGYAG8EsQSiBV6OHHMgIS54HrowPwEYkzLMmIacijNjAZ3CBCZxsDPrywL5dQIoR4PTDP4GB2+/d\n",
       "u6dAjySBPMz5lQQjGFeDyFsME3gTIGGhlAiiZxxFUmOLv+zMAVrKuSCFoYHhISQs2CQYyAHNasYC\n",
       "DPOAMczk7MbY4cBALmDMe/cIwgIAFih2FleBfc4AAAAASUVORK5CYII=\n",
       "\" style=\"display:inline;vertical-align:middle;\" /></a><br>"
      ],
      "text/plain": [
       "<IPython.core.display.HTML object>"
      ]
     },
     "metadata": {},
     "output_type": "display_data"
    }
   ],
   "source": [
    "positive_reals = SetOfAll(x, x, condition=greater(x, zero), domain=Real)"
   ]
  },
  {
   "cell_type": "code",
   "execution_count": 6,
   "metadata": {},
   "outputs": [
    {
     "data": {
      "text/html": [
       "<strong id=\"squares_of_unit_interval\">squares_of_unit_interval:</strong> <a class=\"ProveItLink\" href=\"../__pv_it/demonstrations/eee744b6b06caf075eaedf6e5663a5ed8755afd50/expr.ipynb\"><img src=\"data:image/png;base64,iVBORw0KGgoAAAANSUhEUgAAAMsAAAAcBAMAAAA97laXAAAAMFBMVEX///8AAAAAAAAAAAAAAAAA\n",
       "AAAAAAAAAAAAAAAAAAAAAAAAAAAAAAAAAAAAAAAAAAAv3aB7AAAAD3RSTlMAVLvNEInvq2Yy3XZE\n",
       "mSKtCrTNAAAACXBIWXMAAA7EAAAOxAGVKw4bAAACr0lEQVRIx7WWTWjUQBTHX9akmzDJds+CdA0K\n",
       "Sj20RVhFlFCsxZalEe1pi+TuRVqpFS8revKge7AHPVWwoNVCwMIiq7AigjcXVlQUS04ehPpBV7AI\n",
       "rclMJtmdjLuh251DGN7kzW/ee//5AAibOHnZgK41Ya/f0UBb2LnZ2DZEQ+itpDY6X/XoA65ZsmhP\n",
       "NnyM0xFnkWtNDjQgSdKmOsLofEwm7N8z2mCk/GoLgILzNd0Ok9oHHIx4JOwPwhgvo8IJXJVaPRZm\n",
       "Db7zohl5HFRvAaRMdAp5mWQBxcKkDt59x00aWvTFmLgIQj0yQzAcD9OztfWTXxvZn6i3CsovdjAM\n",
       "lmBmuJiEhxkvnZ5MByaCEcuX5s/Q5B/HJZlwMX+IJfDIPYQ4mImC+6miqw0nwJR/KJTsT9SkZr14\n",
       "fpig/CUG6jE6CAymjycSxQtZduR6ssBgbsFtYy7ADFHMb5JG6pGMYOQnHMzNoscCrWGT+pgi1ELF\n",
       "ZknSTFBJNKHHGps0+GZHMSopYI8dwQBcYBXrSkCgEgg8WAlwoyG1gbeOaLAYdRNOMoLOgEwFHXow\n",
       "gubWBittuDILEhONeChpgclsT8vLlTdpk0fz9pz5777pu/MeXjIYYSNnqWnmsLkPp4riOrAewlFy\n",
       "4m1Gt+fusx+OUUyuLHxMs9F8tvdcY9eUy18BWDIiHmTBs+tzTRilpFeQBOdN5oQGiHMRCK2v8hDz\n",
       "xVUxQnDD3hZGgvaY8uoLB3nicjEr1TgYcQm3YmAYbxwdw4OPGAxypnelh7EspFR/gbk940Vjt789\n",
       "ZehX4A3GaPtxHMiK/Piso0t6GX9d0V3XdT2NkEQUmd3Z91jyMBaZlYJ5HAVSXxstX1bbauoB7/tV\n",
       "GtAgYeDawLlqt56Y2vP8insbu71XT81cDbraRnS9Qnr/AODSuAdPBjKIAAAAAElFTkSuQmCC\n",
       "\" style=\"display:inline;vertical-align:middle;\" /></a><br>"
      ],
      "text/plain": [
       "<IPython.core.display.HTML object>"
      ]
     },
     "metadata": {},
     "output_type": "display_data"
    }
   ],
   "source": [
    "squares_of_unit_interval = SetOfAll(x, Exp(x, two), conditions=[greater_eq(x, zero), LessEq(x, one)], domain=Real)"
   ]
  },
  {
   "cell_type": "markdown",
   "metadata": {},
   "source": [
    "Grabbing pieces of the comprehension:"
   ]
  },
  {
   "cell_type": "code",
   "execution_count": 7,
   "metadata": {},
   "outputs": [
    {
     "data": {
      "text/html": [
       "<a class=\"ProveItLink\" href=\"../../../../__pv_it/common/a0d9d672aa5e272d907247690c152cc2c6daafb70/expr.ipynb\"><img src=\"data:image/png;base64,iVBORw0KGgoAAAANSUhEUgAAAAsAAAAJBAMAAAAWSsseAAAAMFBMVEX///8AAAAAAAAAAAAAAAAA\n",
       "AAAAAAAAAAAAAAAAAAAAAAAAAAAAAAAAAAAAAAAAAAAv3aB7AAAAD3RSTlMAEHarMolUmd1mIs3v\n",
       "RLtmgJDEAAAACXBIWXMAAA7EAAAOxAGVKw4bAAAAQklEQVQI12NgEFIWCU1gYChgMmJvYOBcwPmR\n",
       "eQIDCwP7BgYQ4FEAU/cXMAowyF2wYWBlYMh3rGG4xsAgrsRWmcAAAFEjCyBvD0T9AAAAAElFTkSu\n",
       "QmCC\n",
       "\" style=\"display:inline;vertical-align:middle;\" /></a>"
      ],
      "text/plain": [
       "x"
      ]
     },
     "metadata": {},
     "output_type": "display_data"
    }
   ],
   "source": [
    "squares_of_unit_interval.instance_var"
   ]
  },
  {
   "cell_type": "code",
   "execution_count": 8,
   "metadata": {},
   "outputs": [
    {
     "data": {
      "text/html": [
       "<a class=\"ProveItLink\" href=\"../../../../__pv_it/common/eacfeccc0521684fcb20fe8f5180ac50fca471f20/expr.ipynb\"><img src=\"data:image/png;base64,iVBORw0KGgoAAAANSUhEUgAAABgAAAAVBAMAAACuxzMVAAAAMFBMVEX///8AAAAAAAAAAAAAAAAA\n",
       "AAAAAAAAAAAAAAAAAAAAAAAAAAAAAAAAAAAAAAAAAAAv3aB7AAAAD3RSTlMAInZUiRDNmWbv3US7\n",
       "qzJazP2FAAAACXBIWXMAAA7EAAAOxAGVKw4bAAAAt0lEQVQY02NgYBBgAANGEMFkAOFwKwAJEwYo\n",
       "0GBgYE2AcdgCGNgbYByOAgZOBjiYymCG4GQwlADJIN04F6CZvkAuA0MB0yX2BQwMbQyLgToFOL7y\n",
       "As2xZJjNwMDHwA42/z2Iw8DACbKdYSdIGQPDfgHWAAYGK4ZDDAwxG24ysACFeoDmMdg/rWTYDOSU\n",
       "MLxiYAhXYq4AOX01A9cDmAMYF4CcBwUgJx+EcWSAOAbGAYkyKkDYTAIMAEI7Hl9jb5QLAAAAAElF\n",
       "TkSuQmCC\n",
       "\" style=\"display:inline;vertical-align:middle;\" /></a>"
      ],
      "text/plain": [
       "(x)"
      ]
     },
     "metadata": {},
     "output_type": "display_data"
    }
   ],
   "source": [
    "# instance_vars is no longer an attribute, but all_instance_vars() will work\n",
    "squares_of_unit_interval.all_instance_vars()"
   ]
  },
  {
   "cell_type": "code",
   "execution_count": 9,
   "metadata": {},
   "outputs": [
    {
     "data": {
      "text/html": [
       "<a class=\"ProveItLink\" href=\"../../../../__pv_it/common/a0d9d672aa5e272d907247690c152cc2c6daafb70/expr.ipynb\"><img src=\"data:image/png;base64,iVBORw0KGgoAAAANSUhEUgAAAAsAAAAJBAMAAAAWSsseAAAAMFBMVEX///8AAAAAAAAAAAAAAAAA\n",
       "AAAAAAAAAAAAAAAAAAAAAAAAAAAAAAAAAAAAAAAAAAAv3aB7AAAAD3RSTlMAEHarMolUmd1mIs3v\n",
       "RLtmgJDEAAAACXBIWXMAAA7EAAAOxAGVKw4bAAAAQklEQVQI12NgEFIWCU1gYChgMmJvYOBcwPmR\n",
       "eQIDCwP7BgYQ4FEAU/cXMAowyF2wYWBlYMh3rGG4xsAgrsRWmcAAAFEjCyBvD0T9AAAAAElFTkSu\n",
       "QmCC\n",
       "\" style=\"display:inline;vertical-align:middle;\" /></a>"
      ],
      "text/plain": [
       "x"
      ]
     },
     "metadata": {},
     "output_type": "display_data"
    }
   ],
   "source": [
    "squares_of_unit_interval.instance_param_or_params"
   ]
  },
  {
   "cell_type": "code",
   "execution_count": 10,
   "metadata": {},
   "outputs": [
    {
     "data": {
      "text/html": [
       "<a class=\"ProveItLink\" href=\"../__pv_it/demonstrations/371ba75b98c3272a967dd51d0d6cd1cb3f66344f0/expr.ipynb\"><img src=\"data:image/png;base64,iVBORw0KGgoAAAANSUhEUgAAALcAAAAVBAMAAAD2lGJJAAAAMFBMVEX///8AAAAAAAAAAAAAAAAA\n",
       "AAAAAAAAAAAAAAAAAAAAAAAAAAAAAAAAAAAAAAAAAAAv3aB7AAAAD3RSTlMAInZUiRDNmWbv3US7\n",
       "qzJazP2FAAAACXBIWXMAAA7EAAAOxAGVKw4bAAACeUlEQVQ4y7VVTWgTQRT+spvpbpPskoNYFIU1\n",
       "IJ4COWg9NmCPFRaxViRqqohSrA1SSvUgEcE/BINHLRJ/qrKIFMWjmApebMUgCBY85KAXEbRgFTyI\n",
       "M7Ozu7PJZg+VLmR23nzzvrz53nuzALJYk4fTKoUI5OLMu7GZ6n+RP2XD9kiosRkvrtndXQe3xR3Y\n",
       "nKVB09hIOZp8HTJmM7xGTvjTngK5E+WmjrLx4NQKHY8BWrUbuZZt/9+9d73ZVWAowkt/6B5WYeSX\n",
       "gN4QqrxxHgTkjXZn5b5Q6i0w0CmaD3PyXhv9Mpo+YgeRG8PNztCE+2/ge0chBAfj5D1VTNLXnvyh\n",
       "Qb51vS3J8q1f5MyHmajH2SJh5K6eJPfh8y4+G3mEEHmyCZakivJeq7PF0UDzDWN/toq5D/PDjdMA\n",
       "Ej8pucVtDXnrLM/iUYTJ9TLu0TGrrxg8jrKU0Mv7PCl8mJOf9MiL3D6P6/ZHNjHaydUabtGqhOay\n",
       "mjcdx3ksyDP7BaEPc1nGuSyU/KUbeQtTAuprk8X8wchpYt2NpCFFblZee4aApVqjmg94abjRJaHp\n",
       "GpOFRpEl3Kku1/m5TZ7hwUGtLYKqIXRaxnBkKap1vAJKc0tI8sWcTF6iDUwgw0FoV0DVYCBZMGoo\n",
       "RjaR3sBuesAvZ/BMdLVP3ge9uoDDZQmW2j9VILc5qP4dqaWDildP8VdymdVREV9pgebUaRcnn577\n",
       "t+I8FicKqVkZlq6ZyXwLDCSnrZ0X2rvJWPpFCyg1h1Qr1KJDov29Z0fcrRoLYiNVphK7o7hqENP0\n",
       "Nx+3gViy4fCnFQniAAef+HaC1XUpjlxZNYgM67aEtTbf0C3AP5vXqjVDixndAAAAAElFTkSuQmCC\n",
       "\" style=\"display:inline;vertical-align:middle;\" /></a>"
      ],
      "text/plain": [
       "(x in Real, x >= 0, x <= 1)"
      ]
     },
     "metadata": {},
     "output_type": "display_data"
    }
   ],
   "source": [
    "squares_of_unit_interval.all_conditions()"
   ]
  },
  {
   "cell_type": "code",
   "execution_count": 11,
   "metadata": {},
   "outputs": [
    {
     "data": {
      "text/html": [
       "<a class=\"ProveItLink\" href=\"../__pv_it/demonstrations/371ba75b98c3272a967dd51d0d6cd1cb3f66344f0/expr.ipynb\"><img src=\"data:image/png;base64,iVBORw0KGgoAAAANSUhEUgAAALcAAAAVBAMAAAD2lGJJAAAAMFBMVEX///8AAAAAAAAAAAAAAAAA\n",
       "AAAAAAAAAAAAAAAAAAAAAAAAAAAAAAAAAAAAAAAAAAAv3aB7AAAAD3RSTlMAInZUiRDNmWbv3US7\n",
       "qzJazP2FAAAACXBIWXMAAA7EAAAOxAGVKw4bAAACeUlEQVQ4y7VVTWgTQRT+spvpbpPskoNYFIU1\n",
       "IJ4COWg9NmCPFRaxViRqqohSrA1SSvUgEcE/BINHLRJ/qrKIFMWjmApebMUgCBY85KAXEbRgFTyI\n",
       "M7Ozu7PJZg+VLmR23nzzvrz53nuzALJYk4fTKoUI5OLMu7GZ6n+RP2XD9kiosRkvrtndXQe3xR3Y\n",
       "nKVB09hIOZp8HTJmM7xGTvjTngK5E+WmjrLx4NQKHY8BWrUbuZZt/9+9d73ZVWAowkt/6B5WYeSX\n",
       "gN4QqrxxHgTkjXZn5b5Q6i0w0CmaD3PyXhv9Mpo+YgeRG8PNztCE+2/ge0chBAfj5D1VTNLXnvyh\n",
       "Qb51vS3J8q1f5MyHmajH2SJh5K6eJPfh8y4+G3mEEHmyCZakivJeq7PF0UDzDWN/toq5D/PDjdMA\n",
       "Ej8pucVtDXnrLM/iUYTJ9TLu0TGrrxg8jrKU0Mv7PCl8mJOf9MiL3D6P6/ZHNjHaydUabtGqhOay\n",
       "mjcdx3ksyDP7BaEPc1nGuSyU/KUbeQtTAuprk8X8wchpYt2NpCFFblZee4aApVqjmg94abjRJaHp\n",
       "GpOFRpEl3Kku1/m5TZ7hwUGtLYKqIXRaxnBkKap1vAJKc0tI8sWcTF6iDUwgw0FoV0DVYCBZMGoo\n",
       "RjaR3sBuesAvZ/BMdLVP3ge9uoDDZQmW2j9VILc5qP4dqaWDildP8VdymdVREV9pgebUaRcnn577\n",
       "t+I8FicKqVkZlq6ZyXwLDCSnrZ0X2rvJWPpFCyg1h1Qr1KJDov29Z0fcrRoLYiNVphK7o7hqENP0\n",
       "Nx+3gViy4fCnFQniAAef+HaC1XUpjlxZNYgM67aEtTbf0C3AP5vXqjVDixndAAAAAElFTkSuQmCC\n",
       "\" style=\"display:inline;vertical-align:middle;\" /></a>"
      ],
      "text/plain": [
       "(x in Real, x >= 0, x <= 1)"
      ]
     },
     "metadata": {},
     "output_type": "display_data"
    }
   ],
   "source": [
    "squares_of_unit_interval.conditions"
   ]
  },
  {
   "cell_type": "code",
   "execution_count": 12,
   "metadata": {},
   "outputs": [
    {
     "data": {
      "text/html": [
       "<a class=\"ProveItLink\" href=\"../__pv_it/demonstrations/dc8488a68670d54cdeaf72290a8272ad5eae105c0/expr.ipynb\"><img src=\"data:image/png;base64,iVBORw0KGgoAAAANSUhEUgAAAHsAAAAVBAMAAACUF4xmAAAAMFBMVEX///8AAAAAAAAAAAAAAAAA\n",
       "AAAAAAAAAAAAAAAAAAAAAAAAAAAAAAAAAAAAAAAAAAAv3aB7AAAAD3RSTlMAInZUiRDNmWbv3US7\n",
       "qzJazP2FAAAACXBIWXMAAA7EAAAOxAGVKw4bAAACD0lEQVQ4y2NgYBBgIBOANTIZYEpwZJ75tvIE\n",
       "Ie2bQIQJNhkexgvcN47i0eqiLsDA1MDAwJqAXbsDw4G3uHWzGbAuZGBIZWBgb8ClvZANt/YuBgYf\n",
       "BoZ2BgZOFGGmU6uWwbXzoOkJQ9h0loHBPoCBM4DBDFkBd1IAwvarsWjaWb0UYMzvDAzvDRjYGhhK\n",
       "gJwg3TgXcPiLBSAcz3c4EapL6eoTZwhTyxUqBNLewMBygSEDyCtgusS+ACSciPD7tPWLoGaxM+gq\n",
       "VMH8XAqmGL8AtSswcCQwLAbGsgDHV16wvxIQ2j1aYZxGhv6AGzAJs0K4dgcG5gkMsxkY+BjYIUr5\n",
       "Zq1atWoN1PFHO6A6HjCUIQXAtqsgxwO171dg4PsA0g4MfkiYsB5AirjnPLCAYJiErP0oNOjsDRi4\n",
       "J4AcDzRJgBWsdgGSdvaHMMO4PzKEwh1/EUydYQD6iIF5AcMhBoaYDTcZWMCiSkjaWQ9oMDAADWU9\n",
       "zTuBwQEWdIUQupMB5COOAwy+QGc8rWTYDE2LcO0FDB08G1i/MTAw/wufwG2AGnEMXAas84Bx4sDw\n",
       "ioEhXIm5AiLPemcrLMf9EeA59plhVQADa5GCeTNEVguebFhLdB8ADdnAwPUAJdn5QBItDDAHIHGi\n",
       "0LOHFNCiAnxZmgVvhq8A4oP4FAThk2QERU0MPhUK+CR5QKUVowK5ZZ0iAwMAfdJ3rCGTV3oAAAAA\n",
       "SUVORK5CYII=\n",
       "\" style=\"display:inline;vertical-align:middle;\" /></a>"
      ],
      "text/plain": [
       "(x in Real, x > 0)"
      ]
     },
     "metadata": {},
     "output_type": "display_data"
    }
   ],
   "source": [
    "positive_reals.conditions"
   ]
  },
  {
   "cell_type": "code",
   "execution_count": 13,
   "metadata": {},
   "outputs": [
    {
     "data": {
      "text/html": [
       "<a class=\"ProveItLink\" href=\"../../../../numbers/number_sets/real_numbers/__pv_it/common/93cac87a1a47e613f7a83b23ef7891599a1a4cca0/expr.ipynb\"><img src=\"data:image/png;base64,iVBORw0KGgoAAAANSUhEUgAAAA8AAAAPBAMAAADJ+Ih5AAAAMFBMVEX///8AAAAAAAAAAAAAAAAA\n",
       "AAAAAAAAAAAAAAAAAAAAAAAAAAAAAAAAAAAAAAAAAAAv3aB7AAAAD3RSTlMAZs3vu90iq0QQiTKZ\n",
       "VHZ+Ip2vAAAACXBIWXMAAA7EAAAOxAGVKw4bAAAAX0lEQVQI12MQMvFXNRFgAAKHdIZ2kQkgRhYD\n",
       "C3cBhMGToABjOEAY7DOhUlsuJYAYyapfX4K1ZwlOYoAwWCZCDMziPuAJYTCcToEypvCB5BxyGBgF\n",
       "PBgYgLa7MbjoXwAAK2IYKL6KYFkAAAAASUVORK5CYII=\n",
       "\" style=\"display:inline;vertical-align:middle;\" /></a>"
      ],
      "text/plain": [
       "Real"
      ]
     },
     "metadata": {},
     "output_type": "display_data"
    }
   ],
   "source": [
    "positive_reals.domain"
   ]
  },
  {
   "cell_type": "code",
   "execution_count": 14,
   "metadata": {},
   "outputs": [
    {
     "data": {
      "text/plain": [
       "1"
      ]
     },
     "metadata": {},
     "output_type": "display_data"
    }
   ],
   "source": [
    "len(positive_reals.explicit_conditions())"
   ]
  },
  {
   "cell_type": "code",
   "execution_count": 15,
   "metadata": {},
   "outputs": [
    {
     "data": {
      "text/html": [
       "<a class=\"ProveItLink\" href=\"../__pv_it/demonstrations/03c641ab59bf41f48063f8d7a9d22f09ae97e2f20/expr.ipynb\"><img src=\"data:image/png;base64,iVBORw0KGgoAAAANSUhEUgAAAJcAAAAVBAMAAAC5yWGZAAAAMFBMVEX///8AAAAAAAAAAAAAAAAA\n",
       "AAAAAAAAAAAAAAAAAAAAAAAAAAAAAAAAAAAAAAAAAAAv3aB7AAAAD3RSTlMAInZUiRDNmWbv3US7\n",
       "qzJazP2FAAAACXBIWXMAAA7EAAAOxAGVKw4bAAACWklEQVQ4y41VTWgTQRT+kslmN9kkLl4EEVzj\n",
       "pZdCD6LYi6F6FYKowVA1UkQPVqJIqT1FBb0ILoInL4u1KAoS9OTJ1KsgRShYBAmiF1G0asWT+ObN\n",
       "bjY73S3O4c3Om4/v/c5bAA7SVuY/NIPFNNmx1Hvb1TU708meSrEr+S43cQEY0ZSilgyuLJBTHcBo\n",
       "RTrjbPQ9haaDfD1gDrw/qrOIU1Ien1kjeRowO0N3h++FX5aPXA9WW52agcVZjct6oKxlJdkNoBC7\n",
       "zd4PfCktQRDijjqNvFO7h2Q0kxXq2K3ZCu43tVH5CQRx+19UUK0YNoqDyfIdXKLt0OiJA2FNxRmu\n",
       "8Uki+wMcDPKeZ6VJ+Teqyx/3s7bxEDGy3BLbbmffmP6gH6alb9trqPwArrMq7whOHtmGiVF3jrM+\n",
       "hTiZ1cI8ScdaKw/qYJ8LyX4Be1n1FViQe5Hcv4Jb9bfyUNbJhIe71CUwo2SIaRVmDTZ59o1174Gq\n",
       "3AtdoI+ZALlFC7PyXZIRytWLTQUQVIDn3H5kqhmSAbdTCmB7MkzghWPUtdagJiPEeNiy5lgQJuxV\n",
       "HElsDeHjJTDZXUFOb1qPY7/JqZIvXCai5MJ4VfZQS2xaqyeLv+/TZTzTn9M8jvXBjYOrUrxWxRd/\n",
       "G54djQZxXj23VdU4n6lhqmJ23ehoTFDa8Vh+LkvxQabYh3HR3XNNx5ZXflOBi10U++lTBRk/fn6y\n",
       "ARZbMXjLiSs2BdRbTl9yCiwOjaBHvCJft2n40tBUbjI28jXTIzG5gbFF7Wz00rFsKOOm3mfX/R42\n",
       "p5PtAP4BMoeKbOvmeBsAAAAASUVORK5CYII=\n",
       "\" style=\"display:inline;vertical-align:middle;\" /></a>"
      ],
      "text/plain": [
       "(x >= 0) and (x <= 1)"
      ]
     },
     "metadata": {},
     "output_type": "display_data"
    }
   ],
   "source": [
    "And(*squares_of_unit_interval.explicit_conditions())"
   ]
  },
  {
   "cell_type": "code",
   "execution_count": 16,
   "metadata": {},
   "outputs": [
    {
     "data": {
      "text/html": [
       "<a class=\"ProveItLink\" href=\"../__pv_it/demonstrations/9d386f267f2a5a62f42db965e16aa270ea75d0a10/expr.ipynb\"><img src=\"data:image/png;base64,iVBORw0KGgoAAAANSUhEUgAAAJkAAAAVBAMAAACnAFEqAAAAMFBMVEX///8AAAAAAAAAAAAAAAAA\n",
       "AAAAAAAAAAAAAAAAAAAAAAAAAAAAAAAAAAAAAAAAAAAv3aB7AAAAD3RSTlMAInZUiRDNmWbv3US7\n",
       "qzJazP2FAAAACXBIWXMAAA7EAAAOxAGVKw4bAAACmklEQVQ4y42UTWgTQRTH//mYbNLdhuDBg3hY\n",
       "48FSCOxBKnpJwAoiFRbBFkKVVBD0lkgt1VNUtLUIBkEPChIVBaNoUBQ8GZWIaJUoBCqKVFEEUar4\n",
       "dRFx3sxmd7PdBPewM2/m8Zt5/3nvAUig4xf4jxX7E5ygsXgjunv21+VHgKp7d1Z2pt2g32q/HS3Q\n",
       "UOfqQJ9nPZTxJw2uSiBYBFjOn5ZB7QsQMaUdtgIY9odFDHYO2AkoxU60QoSHnJd21jpz0p82AwwB\n",
       "U0CsbTn4uHLJpml8clKu972SY8nlO+zc4ymQNhEzMeCGqTtM527NbXyyS9rlz1I2tyxsk/1Gv4EF\n",
       "A5EixrmxJbV9UAiz1HQijT8Y45PNlvgR8f4KfwSWbL5fL736N1hcohURbojD88EXSpmWxxzdTl0/\n",
       "T+gjUuVESAjIT4eClL6/pddemYQ/OE1HNIcLXOpE9GevECHn0DYeFsZaYfLXvUhjD4/gAI6bcy2/\n",
       "gYJNyyBUwhkgDkVi4qcrlcpVK9L6NE0WxMYbIEljrArMY8Il3u0mRcppd3XEvxKNe0k9Wc2VIR81\n",
       "ivSOWOeHZVs04ISbVrdeIW1ALVGkHJxgQv+yi6a8Jfa6Vu4qhhUp1G/Yakf6XAyz4OEjVMZ9YLT6\n",
       "EmGxmnTRWI3K6piQi7QhMTQd7ElvCa36minI8Sgo/GiNUiD9YR9uWhVi0/KY1nhclEA4SL9ndMkG\n",
       "Qn9HSqrRniH8zuysyJ9PwEgyNCn32etbrR7yJ6E9/A5cIZOUxjt6pjLYHn3NIencb2cvG0/Nc2YV\n",
       "PfNtxTAkK8tuZ+X2grzmmme9Fb7MqWv/z9sTpro5U0u4181hube3dGvUlAOj3Wjeo5yM9OlidFJA\n",
       "7+wQXHSVJZ2dVwD/AJgikavjVYL1AAAAAElFTkSuQmCC\n",
       "\" style=\"display:inline;vertical-align:middle;\" /></a>"
      ],
      "text/plain": [
       "(x in Real) and (x > 0)"
      ]
     },
     "metadata": {},
     "output_type": "display_data"
    }
   ],
   "source": [
    "positive_reals.effective_condition()"
   ]
  },
  {
   "cell_type": "code",
   "execution_count": 17,
   "metadata": {},
   "outputs": [
    {
     "data": {
      "text/html": [
       "<a class=\"ProveItLink\" href=\"../__pv_it/demonstrations/28f654591fe9228ce4d093fcaa2a046edcc49f7c0/expr.ipynb\"><img src=\"data:image/png;base64,iVBORw0KGgoAAAANSUhEUgAAABsAAAAVBAMAAABF8IgWAAAAMFBMVEX///8AAAAAAAAAAAAAAAAA\n",
       "AAAAAAAAAAAAAAAAAAAAAAAAAAAAAAAAAAAAAAAAAAAv3aB7AAAAD3RSTlMAInZUiRDNmWbv3US7\n",
       "qzJazP2FAAAACXBIWXMAAA7EAAAOxAGVKw4bAAAA1klEQVQY02NgYBBggAIwg8mgbc75rDkNDAyb\n",
       "QFwTBoYDsgx7ewIYmIBCrAlArggDD98FBoZUBgb2BjCXXQAo3M7AwMkA5R4AsgMYzCBc3lCgYrYG\n",
       "hhII940Z0BqWCwwZIK5k1i9VIM2RwLAYLNsRBrKTeQLDbDCXJwJoAQPfByiXr+AokOaeAFXMUCcD\n",
       "UryA4RCEGwNyIccBBl8QV5yBo+E00IUODK8YGIA+OshwJt+AgWsDA9cDBjiQAqovQHArgPggnMcI\n",
       "9AVDDJzLAwodRgUYV5GBAQDelDP9RUjNCQAAAABJRU5ErkJggg==\n",
       "\" style=\"display:inline;vertical-align:middle;\" /></a>"
      ],
      "text/plain": [
       "(Real)"
      ]
     },
     "metadata": {},
     "output_type": "display_data"
    }
   ],
   "source": [
    "squares_of_unit_interval.all_domains()"
   ]
  },
  {
   "cell_type": "code",
   "execution_count": 18,
   "metadata": {},
   "outputs": [
    {
     "data": {
      "text/plain": [
       "1"
      ]
     },
     "metadata": {},
     "output_type": "display_data"
    }
   ],
   "source": [
    "len(squares_of_unit_interval.all_instance_vars())"
   ]
  },
  {
   "cell_type": "code",
   "execution_count": 19,
   "metadata": {},
   "outputs": [
    {
     "data": {
      "text/html": [
       "<a class=\"ProveItLink\" href=\"../__pv_it/demonstrations/8620413974b8eb8cdc253ac2a9675a3696072d3c0/expr.ipynb\"><img src=\"data:image/png;base64,iVBORw0KGgoAAAANSUhEUgAAABQAAAATBAMAAABiojCGAAAAMFBMVEX///8AAAAAAAAAAAAAAAAA\n",
       "AAAAAAAAAAAAAAAAAAAAAAAAAAAAAAAAAAAAAAAAAAAv3aB7AAAAD3RSTlMAEHarMolUmd1mIs3v\n",
       "RLtmgJDEAAAACXBIWXMAAA7EAAAOxAGVKw4bAAAAd0lEQVQI12NgAAPGUGMBCIuBnYG9Acrkv8D1\n",
       "BcrkFIAzGRhYG+BMD5g2Bq6HcMHlDKtggk9cCqFMnv//PzAwCCmLhCZABAqYjKA2cS7g/Mg8Acxk\n",
       "YWDfADeHRwHOvL+AEWKT3AUbBlaIWL5jDcM1CFNcia0SYiwAjqgW8QovdywAAAAASUVORK5CYII=\n",
       "\" style=\"display:inline;vertical-align:middle;\" /></a>"
      ],
      "text/plain": [
       "x^{2}"
      ]
     },
     "metadata": {},
     "output_type": "display_data"
    }
   ],
   "source": [
    "squares_of_unit_interval.instance_element"
   ]
  },
  {
   "cell_type": "code",
   "execution_count": 20,
   "metadata": {},
   "outputs": [
    {
     "data": {
      "text/html": [
       "<a class=\"ProveItLink\" href=\"../__pv_it/demonstrations/2e3d2f6fd48a49ad89cb22a7101a0062518f9cbc0/expr.ipynb\"><img src=\"data:image/png;base64,iVBORw0KGgoAAAANSUhEUgAAAC0AAAAVBAMAAAAgHXppAAAAMFBMVEX///8AAAAAAAAAAAAAAAAA\n",
       "AAAAAAAAAAAAAAAAAAAAAAAAAAAAAAAAAAAAAAAAAAAv3aB7AAAAD3RSTlMAIomZq2bNMhC7791E\n",
       "VHYkqjbgAAAACXBIWXMAAA7EAAAOxAGVKw4bAAABM0lEQVQY02NgQAKMUFqAARW8hdLnIKqUlVzB\n",
       "DF4FqDhfAIhUK2BgSQAx2uAaM0C8CUBiMYhnChcPBuJsEMMfRCyAi3M1MDB/BzH0C4DGJ8DF2QIY\n",
       "5EHGMNgfYGBgBlrL8c6jSJeBgcmBwf4CSDxfAKyIgZnhyQNrBgbWBIb9DUBhjl9AghuoIpAhvgHo\n",
       "aN4FDCARBtavIMuAZhUwmIH47B8YdoPorgSoOAPDOhDBswDoQp4LDFYCUHMYeD4ydADN2cBQfyFc\n",
       "lGkhSBHnAwaOOSwLGIDOYp3AwLfwAZMLyG6Q43i/Ny8Aagc7uWSS9gGgfUDLNjBw2D24HAsyEmwV\n",
       "5wE+cIhvh/tXGkxyOlyDhxYEQEKQ+f93iDwsnhjBYcPAvgscFgwcE6DinGgRKQelHzIwAACPCz/5\n",
       "c4ZXDAAAAABJRU5ErkJggg==\n",
       "\" style=\"display:inline;vertical-align:middle;\" /></a>"
      ],
      "text/plain": [
       "Q(x)"
      ]
     },
     "metadata": {},
     "output_type": "display_data"
    }
   ],
   "source": [
    "Function(Q, squares_of_unit_interval.all_instance_vars())"
   ]
  },
  {
   "cell_type": "markdown",
   "metadata": {},
   "source": [
    "### Testing `SetOfAll.unfold_membership()` method"
   ]
  },
  {
   "cell_type": "code",
   "execution_count": 21,
   "metadata": {},
   "outputs": [
    {
     "data": {
      "text/html": [
       "<a class=\"ProveItLink\" href=\"../__pv_it/demonstrations/ca812bf2d24d24c359d82bcdd8e04fe1b46baafd0/expr.ipynb\"><img src=\"data:image/png;base64,iVBORw0KGgoAAAANSUhEUgAAAKoAAAAXBAMAAABpDMkaAAAAMFBMVEX///8AAAAAAAAAAAAAAAAA\n",
       "AAAAAAAAAAAAAAAAAAAAAAAAAAAAAAAAAAAAAAAAAAAv3aB7AAAAD3RSTlMAIquJdkTvuxBmmd1U\n",
       "zTKBpmoTAAAACXBIWXMAAA7EAAAOxAGVKw4bAAACRklEQVQ4y2NgwAY4QpE4Agz4AONBBmKBbwQS\n",
       "xxS/2kcVRBrK84OBKFOZTRYCySIiTWXeQJypdxi6gcFjTV1TOTcwMBcQNNV99+4LBE3luAlnsiuA\n",
       "wwq/qbEeRLm1eQuMxb+Age8PDlMZlR0dwPQNlBDgcNF4bINkKoLPsrkBoqwfaOpPHKaGCbCDo5wX\n",
       "kS65gAHBxeDksBrJVASfgXMXxFh5Awa+LwwMbtgSfCYDF9jDvAgxsQkMDBMZ5jdoIpmK4ANT3i0B\n",
       "mKmfgdQBTFO5PjBwG4AYz3YDQQGIJXQVSDxgWIsSrgg+ELBeArm234CBFehWDl1MY9kKGPoDQIx2\n",
       "uBDfcrAPU9BiKwXJ1OsNkNjiAcYW81VMt/Y7MMwHM7gZkJMMUOdHhg5kU+F8YAhcAocAewEDJzBK\n",
       "zjcgZ8vNt3SBkd9/gEGXB6SIxQE5DXCUMiUwGCBMReIDYwsSsZwJ4Hg1g+t7ol7K4GDALAy00IFn\n",
       "Fxc0/yGZyvOvK4H1AMJUJD48ZTHsYWh7gJSyuNYBCQcHzhagI1TshPzAgk2lDUhuXeJwag5SuCL4\n",
       "LfBcwNBloscAMZXFS2QhgycD2FSWLpQgDq4mJsfuRI8ZkKmOTAV3OMAJyMFA3JOyMgth6gR2hwes\n",
       "E8CmLjfHoY4lgRRTwemYX4CB83p5eQ0wBEwP4Kg1/pBgKjBzgvIQgwCfASRcQy1wqJTSQeL44a+3\n",
       "jIBOY0ywZVjAUAEJV+YuBiqBJcEuDQziwGTGeuUyx6oLDFQEHOblpRAWALGUkr/BZ0YVAAAAAElF\n",
       "TkSuQmCC\n",
       "\" style=\"display:inline;vertical-align:middle;\" /></a>"
      ],
      "text/plain": [
       "a in {x s.t. x > 0}_{x in Real}"
      ]
     },
     "metadata": {},
     "output_type": "display_data"
    }
   ],
   "source": [
    "InSet(a, positive_reals)"
   ]
  },
  {
   "cell_type": "code",
   "execution_count": 22,
   "metadata": {},
   "outputs": [
    {
     "name": "stdout",
     "output_type": "stream",
     "text": [
      "(1) SetOfAll.unfold_membership(): inside first if.\n",
      "_Q_op = \n"
     ]
    },
    {
     "data": {
      "text/html": [
       "<a class=\"ProveItLink\" href=\"../__pv_it/demonstrations/2e3d2f6fd48a49ad89cb22a7101a0062518f9cbc0/expr.ipynb\"><img src=\"data:image/png;base64,iVBORw0KGgoAAAANSUhEUgAAAC0AAAAVBAMAAAAgHXppAAAAMFBMVEX///8AAAAAAAAAAAAAAAAA\n",
       "AAAAAAAAAAAAAAAAAAAAAAAAAAAAAAAAAAAAAAAAAAAv3aB7AAAAD3RSTlMAIomZq2bNMhC7791E\n",
       "VHYkqjbgAAAACXBIWXMAAA7EAAAOxAGVKw4bAAABM0lEQVQY02NgQAKMUFqAARW8hdLnIKqUlVzB\n",
       "DF4FqDhfAIhUK2BgSQAx2uAaM0C8CUBiMYhnChcPBuJsEMMfRCyAi3M1MDB/BzH0C4DGJ8DF2QIY\n",
       "5EHGMNgfYGBgBlrL8c6jSJeBgcmBwf4CSDxfAKyIgZnhyQNrBgbWBIb9DUBhjl9AghuoIpAhvgHo\n",
       "aN4FDCARBtavIMuAZhUwmIH47B8YdoPorgSoOAPDOhDBswDoQp4LDFYCUHMYeD4ydADN2cBQfyFc\n",
       "lGkhSBHnAwaOOSwLGIDOYp3AwLfwAZMLyG6Q43i/Ny8Aagc7uWSS9gGgfUDLNjBw2D24HAsyEmwV\n",
       "5wE+cIhvh/tXGkxyOlyDhxYEQEKQ+f93iDwsnhjBYcPAvgscFgwcE6DinGgRKQelHzIwAACPCz/5\n",
       "c4ZXDAAAAABJRU5ErkJggg==\n",
       "\" style=\"display:inline;vertical-align:middle;\" /></a>"
      ],
      "text/plain": [
       "Q(x)"
      ]
     },
     "metadata": {},
     "output_type": "display_data"
    },
    {
     "name": "stdout",
     "output_type": "stream",
     "text": [
      "_Q_op_sub = \n"
     ]
    },
    {
     "data": {
      "text/html": [
       "<a class=\"ProveItLink\" href=\"../../../../numbers/number_sets/real_numbers/__pv_it/theorems/0c04c146b0f7b92967ed28917fb83981f8ee0b1b0/expr.ipynb\"><img src=\"data:image/png;base64,iVBORw0KGgoAAAANSUhEUgAAADEAAAAQBAMAAABNQoq8AAAAMFBMVEX///8AAAAAAAAAAAAAAAAA\n",
       "AAAAAAAAAAAAAAAAAAAAAAAAAAAAAAAAAAAAAAAAAAAv3aB7AAAAD3RSTlMAEHarMolUmd1mIs3v\n",
       "RLtmgJDEAAAACXBIWXMAAA7EAAAOxAGVKw4bAAAAv0lEQVQY02NgwAZC1RdgFWfgTmDswi4zg4Eh\n",
       "DokrPQHOfMzAkC+AkGGMUIAxvzMw+CcwMAgpi4QmgAU0AqFqQDJAEwqYjNgboOYXgimur0AZBQbO\n",
       "BZwfmWFWZFfBZQIYWBjYNyAsu20IMg0ocx9kKY8CksxDqAvyQVbfX8AIc2K2FZh6x8AwX4BB7oIN\n",
       "AyvMh1UQeg4DQzVQm2MNwzUGFFczcCQwHmFgEFdiqwR7h1EDbh9jqbIDUuhITGAgEgAAPjAn/CdE\n",
       "pSIAAAAASUVORK5CYII=\n",
       "\" style=\"display:inline;vertical-align:middle;\" /></a>"
      ],
      "text/plain": [
       "x > 0"
      ]
     },
     "metadata": {},
     "output_type": "display_data"
    },
    {
     "name": "stdout",
     "output_type": "stream",
     "text": [
      "SetOfAll.unfold_membership(): end\n",
      "Exception: @prover method <function SetOfAll.unfold_membership at 0x7f4199096ae8> is expected to return a proven Judgment, not None of type <class 'NoneType'>.\n"
     ]
    }
   ],
   "source": [
    "# still developing the unfold_membership() method\n",
    "try:\n",
    "    positive_reals.unfold_membership(a, assumptions=[InSet(a, positive_reals)])\n",
    "except Exception as the_error:\n",
    "    print(\"Exception: {}\".format(the_error))"
   ]
  },
  {
   "cell_type": "code",
   "execution_count": null,
   "metadata": {},
   "outputs": [],
   "source": []
  },
  {
   "cell_type": "code",
   "execution_count": 23,
   "metadata": {},
   "outputs": [],
   "source": [
    "%end demonstrations"
   ]
  }
 ],
 "metadata": {
  "kernelspec": {
   "display_name": "Python 3",
   "language": "python",
   "name": "python3"
  }
 },
 "nbformat": 4,
 "nbformat_minor": 0
}