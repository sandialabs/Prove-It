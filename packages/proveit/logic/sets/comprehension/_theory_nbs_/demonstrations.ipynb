{
 "cells": [
  {
   "cell_type": "markdown",
   "metadata": {},
   "source": [
    "Demonstrations for the theory of <a class=\"ProveItLink\" href=\"theory.ipynb\">proveit.logic.sets.comprehension</a>\n",
    "========"
   ]
  },
  {
   "cell_type": "code",
   "execution_count": null,
   "metadata": {},
   "outputs": [],
   "source": [
    "import proveit\n",
    "from proveit import a, b, i, j, x, y, Q, ExprTuple, Function\n",
    "from proveit.logic import And, Forall, InSet, NotEquals, SetOfAll\n",
    "from proveit.numbers import (\n",
    "        zero, one, two, Exp, frac, greater, greater_eq, LessEq, Integer,\n",
    "        num, number_ordering, Real)\n",
    "\n",
    "%begin demonstrations"
   ]
  },
  {
   "cell_type": "markdown",
   "metadata": {},
   "source": [
    "Just some formatting checks below.  Nothing important.  Remove them when we put in something serious."
   ]
  },
  {
   "cell_type": "code",
   "execution_count": null,
   "metadata": {},
   "outputs": [],
   "source": [
    "SetOfAll((a, b), frac(a, b), conditions=[NotEquals(b, zero)], domain=Integer)"
   ]
  },
  {
   "cell_type": "code",
   "execution_count": null,
   "metadata": {},
   "outputs": [],
   "source": [
    "SetOfAll((a, b), frac(a, b), conditions=[NotEquals(b, zero)], domains=(Integer, Real))"
   ]
  },
  {
   "cell_type": "code",
   "execution_count": null,
   "metadata": {},
   "outputs": [],
   "source": [
    "Forall((a, b), frac(a, b), domains=(Integer, Real))"
   ]
  },
  {
   "cell_type": "markdown",
   "metadata": {},
   "source": [
    "### Some example expressions to use for testing:"
   ]
  },
  {
   "cell_type": "code",
   "execution_count": null,
   "metadata": {},
   "outputs": [],
   "source": [
    "positive_reals = SetOfAll(x, x, condition=greater(x, zero), domain=Real)"
   ]
  },
  {
   "cell_type": "code",
   "execution_count": null,
   "metadata": {},
   "outputs": [],
   "source": [
    "unit_interval = SetOfAll(x, x, conditions=[greater(x, zero), greater(one, x)], domain=Real)"
   ]
  },
  {
   "cell_type": "code",
   "execution_count": null,
   "metadata": {},
   "outputs": [],
   "source": [
    "unit_interval_with_number_ordering = SetOfAll(x, x, conditions=[number_ordering(greater(one, x), greater(x, zero))], domain=Real)"
   ]
  },
  {
   "cell_type": "code",
   "execution_count": null,
   "metadata": {},
   "outputs": [],
   "source": [
    "squares_of_positive_reals = SetOfAll(x, Exp(x, two), conditions=[greater_eq(x, zero)], domain=Real)"
   ]
  },
  {
   "cell_type": "code",
   "execution_count": null,
   "metadata": {},
   "outputs": [],
   "source": [
    "squares_of_unit_interval = SetOfAll(x, Exp(x, two), conditions=[LessEq(zero, x), LessEq(x, one)], domain=Real)"
   ]
  },
  {
   "cell_type": "code",
   "execution_count": null,
   "metadata": {},
   "outputs": [],
   "source": [
    "squares_of_unit_interval_with_number_ordering = (\n",
    "    SetOfAll(x, Exp(x, two), conditions=[number_ordering(LessEq(zero, x), LessEq(x, one))], domain=Real))"
   ]
  },
  {
   "cell_type": "code",
   "execution_count": null,
   "metadata": {},
   "outputs": [],
   "source": [
    "# the number_ordering() process above seems to interefere with some InSet conclusion later in the unfold\n",
    "# so we try it without\n",
    "some_lattice_points = SetOfAll(i, ExprTuple(i, zero),\n",
    "        conditions = [LessEq(zero, i), LessEq(i, num(10))], domain = Integer)"
   ]
  },
  {
   "cell_type": "code",
   "execution_count": null,
   "metadata": {},
   "outputs": [],
   "source": [
    "some_lattice_points_with_number_ordering = SetOfAll(i, ExprTuple(i, zero),\n",
    "        conditions = [number_ordering(LessEq(zero, i), LessEq(i, num(10)))], domain = Integer)"
   ]
  },
  {
   "cell_type": "code",
   "execution_count": null,
   "metadata": {},
   "outputs": [],
   "source": [
    "# this does not format correctly as a set of tuples or set of 2D points\n",
    "# unless we put additional parentheses inside the ExprTuple like this: ExprTuple((i, zero))\n",
    "from proveit.numbers import Interval\n",
    "some_lattice_points_with_no_condition = SetOfAll(i, ExprTuple(i, zero),\n",
    "        domain = Interval(zero, num(10)))"
   ]
  },
  {
   "cell_type": "code",
   "execution_count": null,
   "metadata": {},
   "outputs": [],
   "source": [
    "# this does not format correctly as a set of tuples or set of 2D points\n",
    "# unless we put additional parentheses inside the ExprTuple like this: ExprTuple((i, zero))\n",
    "from proveit.numbers import Interval\n",
    "some_lattice_points_with_no_condition_02 = SetOfAll(i, ExprTuple((i, zero)),\n",
    "        domain = Interval(zero, num(10)))"
   ]
  },
  {
   "cell_type": "code",
   "execution_count": null,
   "metadata": {},
   "outputs": [],
   "source": [
    "some_more_lattice_points = SetOfAll((i,j), ExprTuple(i, j),\n",
    "        conditions = [LessEq(zero, i), LessEq(i, num(10)),\n",
    "                      LessEq(zero, j), LessEq(j, num(10))],\n",
    "        domain = Integer)"
   ]
  },
  {
   "cell_type": "code",
   "execution_count": null,
   "metadata": {},
   "outputs": [],
   "source": [
    "some_more_lattice_points_limited_conditions = SetOfAll((i,j), ExprTuple(i, j),\n",
    "        conditions = [LessEq(zero, i), LessEq(i, num(10))],\n",
    "        domain = Integer)"
   ]
  },
  {
   "cell_type": "code",
   "execution_count": null,
   "metadata": {},
   "outputs": [],
   "source": [
    "some_more_lattice_points_with_no_conditions = SetOfAll((i,j), ExprTuple(i, j),\n",
    "        domain = Integer)"
   ]
  },
  {
   "cell_type": "code",
   "execution_count": null,
   "metadata": {},
   "outputs": [],
   "source": [
    "some_more_lattice_points_with_one_condition = SetOfAll((i,j), ExprTuple(i, j),\n",
    "        conditions = [LessEq(zero, i)],\n",
    "        domain = Integer)"
   ]
  },
  {
   "cell_type": "code",
   "execution_count": null,
   "metadata": {},
   "outputs": [],
   "source": [
    "some_more_lattice_points_with_number_ordering = SetOfAll((i,j), ExprTuple(i, j),\n",
    "        conditions = [number_ordering(LessEq(zero, i), LessEq(i, num(10))),\n",
    "                      number_ordering(LessEq(zero, j), LessEq(j, num(10)))],\n",
    "        domain = Integer)"
   ]
  },
  {
   "cell_type": "markdown",
   "metadata": {},
   "source": [
    "### Grabbing pieces of a `SetOfAll` set comprehension:"
   ]
  },
  {
   "cell_type": "code",
   "execution_count": null,
   "metadata": {},
   "outputs": [],
   "source": [
    "# in cases of a single instance variable, we can use the instance_var attribute\n",
    "squares_of_unit_interval.instance_var"
   ]
  },
  {
   "cell_type": "code",
   "execution_count": null,
   "metadata": {},
   "outputs": [],
   "source": [
    "# but all_instance_vars() will work for single or multiple instance variables\n",
    "squares_of_unit_interval.all_instance_vars()"
   ]
  },
  {
   "cell_type": "code",
   "execution_count": null,
   "metadata": {},
   "outputs": [],
   "source": [
    "some_more_lattice_points.all_instance_vars()"
   ]
  },
  {
   "cell_type": "code",
   "execution_count": null,
   "metadata": {},
   "outputs": [],
   "source": [
    "squares_of_unit_interval.instance_param_or_params"
   ]
  },
  {
   "cell_type": "code",
   "execution_count": null,
   "metadata": {},
   "outputs": [],
   "source": [
    "# conditions attribute and all_conditions() function return domains and explicit conditions\n",
    "squares_of_unit_interval.all_conditions()"
   ]
  },
  {
   "cell_type": "code",
   "execution_count": null,
   "metadata": {},
   "outputs": [],
   "source": [
    "some_more_lattice_points.all_conditions()"
   ]
  },
  {
   "cell_type": "code",
   "execution_count": null,
   "metadata": {},
   "outputs": [],
   "source": [
    "squares_of_unit_interval.conditions"
   ]
  },
  {
   "cell_type": "code",
   "execution_count": null,
   "metadata": {},
   "outputs": [],
   "source": [
    "# for a single domain we can use the domain attribute\n",
    "positive_reals.domain"
   ]
  },
  {
   "cell_type": "code",
   "execution_count": null,
   "metadata": {},
   "outputs": [],
   "source": [
    "# for multiple domains, we can use the all_domains() method\n",
    "some_more_lattice_points.all_domains()"
   ]
  },
  {
   "cell_type": "code",
   "execution_count": null,
   "metadata": {},
   "outputs": [],
   "source": [
    "# to obtain JUST the explicit conditions, w/out the domain:\n",
    "positive_reals.explicit_conditions()"
   ]
  },
  {
   "cell_type": "code",
   "execution_count": null,
   "metadata": {},
   "outputs": [],
   "source": [
    "some_more_lattice_points.explicit_conditions()"
   ]
  },
  {
   "cell_type": "code",
   "execution_count": null,
   "metadata": {},
   "outputs": [],
   "source": [
    "# to obtain a Boolean conjunction of all conditions\n",
    "positive_reals.effective_condition()"
   ]
  },
  {
   "cell_type": "code",
   "execution_count": null,
   "metadata": {},
   "outputs": [],
   "source": [
    "# to obtain the instance element\n",
    "squares_of_unit_interval.instance_element"
   ]
  },
  {
   "cell_type": "markdown",
   "metadata": {},
   "source": [
    "### Testing `SetOfAll.unfold_membership()` method"
   ]
  },
  {
   "cell_type": "markdown",
   "metadata": {},
   "source": [
    "#### A Reminder of some SetOfAll comprehensions created earlier:"
   ]
  },
  {
   "cell_type": "code",
   "execution_count": null,
   "metadata": {},
   "outputs": [],
   "source": [
    "positive_reals"
   ]
  },
  {
   "cell_type": "code",
   "execution_count": null,
   "metadata": {},
   "outputs": [],
   "source": [
    "unit_interval"
   ]
  },
  {
   "cell_type": "code",
   "execution_count": null,
   "metadata": {},
   "outputs": [],
   "source": [
    "unit_interval_with_number_ordering"
   ]
  },
  {
   "cell_type": "code",
   "execution_count": null,
   "metadata": {},
   "outputs": [],
   "source": [
    "squares_of_unit_interval"
   ]
  },
  {
   "cell_type": "code",
   "execution_count": null,
   "metadata": {},
   "outputs": [],
   "source": [
    "some_lattice_points"
   ]
  },
  {
   "cell_type": "code",
   "execution_count": null,
   "metadata": {},
   "outputs": [],
   "source": [
    "some_lattice_points_with_no_condition"
   ]
  },
  {
   "cell_type": "code",
   "execution_count": null,
   "metadata": {},
   "outputs": [],
   "source": [
    "some_more_lattice_points"
   ]
  },
  {
   "cell_type": "code",
   "execution_count": null,
   "metadata": {},
   "outputs": [],
   "source": [
    "some_more_lattice_points_with_number_ordering"
   ]
  },
  {
   "cell_type": "markdown",
   "metadata": {},
   "source": [
    "#### Checking Instantiation Process for Methods in `SetOfAll` and `SetOfAllMembership` classes"
   ]
  },
  {
   "cell_type": "markdown",
   "metadata": {},
   "source": [
    "In part, investigating the instantiation process to investigate why many of the methods work for MOST of the `SetOfAll` and `SetOfAllMembership` expressions, but NOT for such expressions that have both multiple instance variables AND multiple explicit conditions. The problem seems to be arising because the instantiation process is not producing a `SetOfAll` expression that exactly matches the original `SetOfAll` expression, possibly (though not at all for sure) related to conjunctions vs. lists of explicit conditions."
   ]
  },
  {
   "cell_type": "markdown",
   "metadata": {},
   "source": [
    "Looking at instantiation of the SetOfAll unfold theorem and its instantiation for multiple instance_vars and multiple explicit_conditions."
   ]
  },
  {
   "cell_type": "code",
   "execution_count": null,
   "metadata": {},
   "outputs": [],
   "source": [
    "from proveit.logic.sets.comprehension import unfold\n",
    "unfold"
   ]
  },
  {
   "cell_type": "code",
   "execution_count": null,
   "metadata": {},
   "outputs": [],
   "source": [
    "a_in_some_lattice_points = InSet(a, some_lattice_points)"
   ]
  },
  {
   "cell_type": "code",
   "execution_count": null,
   "metadata": {},
   "outputs": [],
   "source": [
    "from proveit import f, n, x, S, Q\n",
    "from proveit.logic import And\n",
    "_n_sub = num(len(a_in_some_lattice_points.domain.all_instance_vars()))\n",
    "_S_sub = a_in_some_lattice_points.domain.all_domains()\n",
    "_Q_op  = Function(Q, a_in_some_lattice_points.domain.all_instance_vars())\n",
    "_Q_op_sub = And(*a_in_some_lattice_points.domain.explicit_conditions())\n",
    "_f_op = Function(f, a_in_some_lattice_points.domain.all_instance_vars())\n",
    "_f_op_sub = a_in_some_lattice_points.domain.instance_element\n",
    "_y_sub    = a_in_some_lattice_points.domain.all_instance_vars()\n",
    "element = a_in_some_lattice_points.element\n",
    "\n",
    "print(f\"_n_sub    = {_n_sub}\")\n",
    "print(f\"_S_sub    = {_S_sub}\")\n",
    "print(f\"_Q_op     = {_Q_op}\")\n",
    "print(f\"_Q_op_sub = {_Q_op_sub}\")\n",
    "print(f\"_f_op     = {_f_op}\")\n",
    "print(f\"_f_op_sub    = {_f_op_sub}\")\n",
    "print(f\"_y_sub    = {_y_sub}\")\n",
    "print(f\"element   = {element}\")\n",
    "\n",
    "# this works fine\n",
    "unfold_inst = unfold.instantiate({n:_n_sub, S:_S_sub, _Q_op:_Q_op_sub, _f_op:_f_op_sub, y:_y_sub, x:element})"
   ]
  },
  {
   "cell_type": "code",
   "execution_count": null,
   "metadata": {},
   "outputs": [],
   "source": [
    "# Much of the time, the auto_simplify =True/False doesn't seem to matter\n",
    "a_in_some_lattice_points.unfold(assumptions=[a_in_some_lattice_points])"
   ]
  },
  {
   "cell_type": "code",
   "execution_count": null,
   "metadata": {},
   "outputs": [],
   "source": [
    "a_in_some_more_lattice_points_limited_conditions = InSet(a, some_more_lattice_points_limited_conditions)"
   ]
  },
  {
   "cell_type": "code",
   "execution_count": null,
   "metadata": {},
   "outputs": [],
   "source": [
    "from proveit import f, n, x, Q\n",
    "from proveit.logic import And\n",
    "_n_sub = num(len(a_in_some_more_lattice_points_limited_conditions.domain.all_instance_vars()))\n",
    "_S_sub = a_in_some_more_lattice_points_limited_conditions.domain.all_domains()\n",
    "_Q_op  = Function(Q, a_in_some_more_lattice_points_limited_conditions.domain.all_instance_vars())\n",
    "_Q_op_sub = And(*a_in_some_more_lattice_points_limited_conditions.domain.explicit_conditions())\n",
    "_f_op = Function(f, a_in_some_more_lattice_points_limited_conditions.domain.all_instance_vars())\n",
    "_f_op_sub = a_in_some_more_lattice_points_limited_conditions.domain.instance_element\n",
    "_y_sub    = a_in_some_more_lattice_points_limited_conditions.domain.all_instance_vars()\n",
    "element = a_in_some_more_lattice_points_limited_conditions.element\n",
    "\n",
    "print(f\"_n_sub    = {_n_sub}\")\n",
    "print(f\"_S_sub    = {_S_sub}\")\n",
    "print(f\"_Q_op     = {_Q_op}\")\n",
    "print(f\"_Q_op_sub = {_Q_op_sub}\")\n",
    "print(f\"_f_op     = {_f_op}\")\n",
    "print(f\"_f_op_sub    = {_f_op_sub}\")\n",
    "print(f\"_y_sub    = {_y_sub}\")\n",
    "print(f\"element   = {element}\")\n",
    "\n",
    "unfold_inst = unfold.instantiate({n:_n_sub, S:_S_sub, _Q_op:_Q_op_sub, _f_op:_f_op_sub, y:_y_sub, x:element},\n",
    "                                auto_simplify=True)"
   ]
  },
  {
   "cell_type": "code",
   "execution_count": null,
   "metadata": {},
   "outputs": [],
   "source": [
    "# the instantiation process creates an antecedent that doesn't match the original SetOfAll membership expression\n",
    "# leading to a failure in the final derive_consequent() step:\n",
    "try:\n",
    "    a_in_some_more_lattice_points_limited_conditions.unfold(assumptions=[a_in_some_more_lattice_points_limited_conditions])\n",
    "except Exception as the_exception:\n",
    "    print(f\"the_exception: {the_exception}\")"
   ]
  },
  {
   "cell_type": "code",
   "execution_count": null,
   "metadata": {},
   "outputs": [],
   "source": [
    "# this works if we trivially cite the instantiation's resulting antecedent as the assumption\n",
    "# for deriving the consequent\n",
    "try:\n",
    "    temp_result = a_in_some_more_lattice_points_limited_conditions.unfold(assumptions=[unfold_inst.antecedent])\n",
    "    display(temp_result)\n",
    "except Exception as the_exception:\n",
    "    print(f\"the_exception: {the_exception}\")"
   ]
  },
  {
   "cell_type": "code",
   "execution_count": null,
   "metadata": {},
   "outputs": [],
   "source": [
    "a_in_some_more_lattice_points = InSet(a, some_more_lattice_points)"
   ]
  },
  {
   "cell_type": "code",
   "execution_count": null,
   "metadata": {},
   "outputs": [],
   "source": [
    "# some instantiation substitution values\n",
    "from proveit import f, n, x, Q\n",
    "from proveit.logic import And\n",
    "_n_sub = num(len(a_in_some_more_lattice_points.domain.instance_vars))\n",
    "_S_sub = a_in_some_more_lattice_points.domain.all_domains()\n",
    "_Q_op  = Function(Q, a_in_some_more_lattice_points.domain.instance_vars)\n",
    "# _Q_op_sub = ExprTuple(*a_in_some_more_lattice_points.domain.explicit_conditions())\n",
    "_Q_op_sub = And(*a_in_some_more_lattice_points.domain.explicit_conditions())\n",
    "_f_op = Function(f, a_in_some_more_lattice_points.domain.all_instance_vars())\n",
    "_f_op_sub = a_in_some_more_lattice_points.domain.instance_element\n",
    "_y_sub    = a_in_some_more_lattice_points.domain.all_instance_vars()\n",
    "element = a_in_some_more_lattice_points.element\n",
    "\n",
    "print(f\"_n_sub    = {_n_sub}\")\n",
    "print(f\"_S_sub    = {_S_sub}\")\n",
    "print(f\"_Q_op     = {_Q_op}\")\n",
    "print(f\"_Q_op_sub = {_Q_op_sub}\")\n",
    "print(f\"_f_op     = {_f_op}\")\n",
    "print(f\"_f_op_sub    = {_f_op_sub}\")\n",
    "print(f\"_y_sub    = {_y_sub}\")\n",
    "print(f\"element   = {element}\")\n",
    "\n",
    "unfold_inst = unfold.instantiate({n:_n_sub, S:_S_sub, _Q_op:_Q_op_sub, _f_op:_f_op_sub, y:_y_sub, x:element},\n",
    "                                auto_simplify=True)"
   ]
  },
  {
   "cell_type": "code",
   "execution_count": null,
   "metadata": {},
   "outputs": [],
   "source": [
    "# Notice that the antecedent is not the same as the original membership object\n",
    "# and in fact Prove-It cannot automatically prove they are equal\n",
    "a_in_some_more_lattice_points == unfold_inst.antecedent"
   ]
  },
  {
   "cell_type": "code",
   "execution_count": null,
   "metadata": {},
   "outputs": [],
   "source": [
    "# so we cannot routinely derive the consequent assuming our original membership object\n",
    "try:\n",
    "    temp_result = unfold_inst.derive_consequent(assumptions=[a_in_some_more_lattice_points])\n",
    "    display(temp_result)\n",
    "except Exception as the_exception:\n",
    "    print(f\"the_exception: {the_exception}\")"
   ]
  },
  {
   "cell_type": "markdown",
   "metadata": {},
   "source": [
    "#### Examples (both working and not working) of the `SetOfAll.unfold_membership()` method"
   ]
  },
  {
   "cell_type": "markdown",
   "metadata": {},
   "source": [
    "Here we test the `SetOfAll.unfold_membership()` method. This method may be a bit obsolete now with the SetOfAllMembership class having been established (beginning early March 2025).\n",
    "\n",
    "As with the `SetOfAllMembership` methods tested and demonstrated below, the `SetOfAll.unfold_membership()` method raises errors when the `SetOfAll` object combines multiple instance variables with multiple explicit conditions. The reasons for the error under those specific circumstances remain unclear but seem to be related to an instantiation step not recreating an expression exactly equivalent to the original `SetOfAll` expression."
   ]
  },
  {
   "cell_type": "code",
   "execution_count": null,
   "metadata": {},
   "outputs": [],
   "source": [
    "SetOfAll_examples = (\n",
    "    positive_reals, unit_interval, unit_interval_with_number_ordering,\n",
    "    squares_of_positive_reals, squares_of_unit_interval, squares_of_unit_interval_with_number_ordering,\n",
    "    some_lattice_points, some_lattice_points_with_number_ordering, some_lattice_points_with_no_condition,\n",
    "    some_more_lattice_points_with_no_conditions, some_more_lattice_points_with_one_condition,\n",
    "    some_more_lattice_points_limited_conditions, some_more_lattice_points\n",
    ")"
   ]
  },
  {
   "cell_type": "code",
   "execution_count": null,
   "metadata": {},
   "outputs": [],
   "source": [
    "# testing the SetOfAll.unfold_membership() method\n",
    "for the_expr in SetOfAll_examples:\n",
    "    print(f\"\")\n",
    "    display(the_expr)\n",
    "    try:\n",
    "        temp_result = the_expr.unfold_membership(a, assumptions=[InSet(a, the_expr)])\n",
    "        display(temp_result)\n",
    "    except Exception as the_error:\n",
    "        print(\"Exception: {}\".format(the_error))"
   ]
  },
  {
   "cell_type": "markdown",
   "metadata": {},
   "source": [
    "#### Examples (both working and not working) of the `SetOfAllMembership.unfold()` method"
   ]
  },
  {
   "cell_type": "markdown",
   "metadata": {},
   "source": [
    "First we create some membership expressions with our SetOfAll comprehensions:"
   ]
  },
  {
   "cell_type": "code",
   "execution_count": null,
   "metadata": {},
   "outputs": [],
   "source": [
    "SetOfAllMembership_examples = (\n",
    "    InSet(a, positive_reals), InSet(a, unit_interval), InSet(a, unit_interval_with_number_ordering),\n",
    "    InSet(a, squares_of_positive_reals), InSet(a, squares_of_unit_interval),\n",
    "    InSet(a, squares_of_unit_interval_with_number_ordering), InSet(a, some_lattice_points),\n",
    "    InSet(a, some_lattice_points_with_number_ordering), InSet(a, some_lattice_points_with_no_condition),\n",
    "    InSet(a, some_more_lattice_points_with_no_conditions),\n",
    "    InSet(a, some_more_lattice_points_with_one_condition),\n",
    "    InSet(a, some_more_lattice_points_limited_conditions),\n",
    "    InSet(a, some_more_lattice_points)\n",
    ")"
   ]
  },
  {
   "cell_type": "code",
   "execution_count": null,
   "metadata": {},
   "outputs": [],
   "source": [
    "# testing the SetOfAllMembership.unfold() method\n",
    "for the_expr in SetOfAllMembership_examples:\n",
    "    print(f\"\")\n",
    "    display(the_expr)\n",
    "    try:\n",
    "        temp_result = the_expr.unfold(assumptions=[the_expr])\n",
    "        display(temp_result)\n",
    "    except Exception as the_error:\n",
    "        print(\"Exception: {}\".format(the_error))"
   ]
  },
  {
   "cell_type": "markdown",
   "metadata": {},
   "source": [
    "### Examples (both working and not working) of the `SetOfAllMembership.definition()` method"
   ]
  },
  {
   "cell_type": "markdown",
   "metadata": {},
   "source": [
    "Generally working for a variety of examples, except when we use a SetOfAll comprehension set that has 2 (or more?) instance variables combined with 2 or more explicit conditions. In those cases, the instantiation process produces a set of conditions combined in a conjunction, which ends up not matching the original membership object, leading to an error message.\n",
    "\n",
    "When we have multiple instance variables, but no explicit conditions: OK.\n",
    "\n",
    "When we have multiple instance variables, and exactly one explicit condition: OK.\n",
    "\n",
    "When we have multiple instance variables, but 2 or more explicit conditions: ERROR."
   ]
  },
  {
   "cell_type": "code",
   "execution_count": null,
   "metadata": {},
   "outputs": [],
   "source": [
    "# testing the SetOfAllMembership.definition() method\n",
    "for the_expr in SetOfAllMembership_examples:\n",
    "    print(f\"\")\n",
    "    display(the_expr)\n",
    "    try:\n",
    "        temp_result = the_expr.definition()\n",
    "        display(temp_result)\n",
    "    except Exception as the_error:\n",
    "        print(\"Exception: {}\".format(the_error))"
   ]
  },
  {
   "cell_type": "markdown",
   "metadata": {},
   "source": [
    "### Examples (both working and not working) of the `SetOfAllMembership.conclude()` method"
   ]
  },
  {
   "cell_type": "markdown",
   "metadata": {},
   "source": [
    "Some of the cases don't immediately work because the assumption isn't quite right, being returned in a mechanical way from the SetOfAll.unfold() method. Some of those cases are then tested more carefully further below.\n",
    "\n",
    "More puzzling: some of the cases don't work on the FIRST run, but work on subsequent runs. Very strange! An example of one of those cases is the simple SetOfAllMembership_examples[2]: $a \\in \\{x \\,|\\, 1 > x > 0\\}_{x \\in \\mathbb{R}}$.\n",
    "\n",
    "A couple cases once again involve expressions with BOTH multiple instance variables AND multiple explicit conditions simultaneously, and these are continuing to prove problematic for somewhat mysterious reasons."
   ]
  },
  {
   "cell_type": "code",
   "execution_count": null,
   "metadata": {},
   "outputs": [],
   "source": [
    "# testing the SetOfAllMembership.conclude() method\n",
    "# Somewhat artificial way to test these, because in each case we need to know\n",
    "# or assume the rhs of the definition or \"unfolding\" of the SetOfAllMembership expression\n",
    "for the_expr in SetOfAllMembership_examples:\n",
    "    print(f\"\\nTrying to conclude:\")\n",
    "    display(the_expr)\n",
    "    try:\n",
    "        # the_assumption = the_expr.definition().rhs\n",
    "        the_assumption = the_expr.unfold(assumptions=[the_expr]).expr\n",
    "        print(f\"with the assumption:\")\n",
    "        display(the_assumption)\n",
    "        print()\n",
    "        temp_result = the_expr.conclude(assumptions=[the_assumption])\n",
    "        display(temp_result)\n",
    "    except Exception as the_error:\n",
    "        print(\"Exception: {}\".format(the_error))"
   ]
  },
  {
   "cell_type": "code",
   "execution_count": null,
   "metadata": {},
   "outputs": [],
   "source": [
    "# example of one that works just by running it a second time!\n",
    "the_expr = SetOfAllMembership_examples[2]\n",
    "print(f\"Trying to conclude:\")\n",
    "display(the_expr)\n",
    "try:\n",
    "    the_assumption = the_expr.unfold(assumptions=[the_expr]).expr\n",
    "    print(f\"with the assumption:\")\n",
    "    display(the_assumption)\n",
    "    print()\n",
    "    temp_result = the_expr.conclude(assumptions=[the_assumption])\n",
    "    display(temp_result)\n",
    "except Exception as the_error:\n",
    "    print(\"Exception: {}\".format(the_error))"
   ]
  },
  {
   "cell_type": "code",
   "execution_count": null,
   "metadata": {},
   "outputs": [],
   "source": [
    "# this one does NOT work simply by running it twice\n",
    "# must construct the assumption more carefully\n",
    "from proveit.logic import Equals, Exists\n",
    "display(SetOfAllMembership_examples[5])\n",
    "the_assumption = Exists(x, Equals(a, Exp(x, two)),\n",
    "                        conditions=[number_ordering(LessEq(zero, x), LessEq(x, one))],\n",
    "                        domain=Real)\n",
    "display(the_assumption)\n",
    "SetOfAllMembership_examples[5].conclude(assumptions=[the_assumption])"
   ]
  },
  {
   "cell_type": "markdown",
   "metadata": {},
   "source": [
    "### Examples (both working and not working) of the `SetOfAllMembership.deduce_in_bool()` method"
   ]
  },
  {
   "cell_type": "code",
   "execution_count": null,
   "metadata": {},
   "outputs": [],
   "source": [
    "# testing the SetOfAllMembership.deduce_in_bool() method\n",
    "for the_expr in SetOfAllMembership_examples:\n",
    "    try:\n",
    "        temp_result = the_expr.deduce_in_bool()\n",
    "        display(temp_result)\n",
    "    except Exception as the_error:\n",
    "        print(\"Exception: {}\".format(the_error))"
   ]
  },
  {
   "cell_type": "markdown",
   "metadata": {},
   "source": [
    "### SetOfAllNonmembership"
   ]
  },
  {
   "cell_type": "code",
   "execution_count": null,
   "metadata": {},
   "outputs": [],
   "source": [
    "from proveit.logic.sets import NotInSet\n",
    "SetOfAllNonmembership_examples = (\n",
    "    NotInSet(a, positive_reals), NotInSet(a, unit_interval), NotInSet(a, unit_interval_with_number_ordering),\n",
    "    NotInSet(a, squares_of_positive_reals), NotInSet(a, squares_of_unit_interval),\n",
    "    NotInSet(a, squares_of_unit_interval_with_number_ordering), NotInSet(a, some_lattice_points),\n",
    "    NotInSet(a, some_lattice_points_with_number_ordering), NotInSet(a, some_lattice_points_with_no_condition),\n",
    "    NotInSet(a, some_more_lattice_points_with_no_conditions),\n",
    "    NotInSet(a, some_more_lattice_points_with_one_condition),\n",
    "    NotInSet(a, some_more_lattice_points_limited_conditions),\n",
    "    NotInSet(a, some_more_lattice_points)\n",
    ")"
   ]
  },
  {
   "cell_type": "markdown",
   "metadata": {},
   "source": [
    "### Examples (both working and not working) of the `SetOfAllNonmembership.definition()` method"
   ]
  },
  {
   "cell_type": "code",
   "execution_count": null,
   "metadata": {},
   "outputs": [],
   "source": [
    "# testing the SetOfAllNonmembership.definition() method\n",
    "for the_expr in SetOfAllNonmembership_examples:\n",
    "    print(f\"\\nDeriving definition (equality) of:\")\n",
    "    display(the_expr)\n",
    "    try:\n",
    "        temp_result = the_expr.definition()\n",
    "        display(temp_result)\n",
    "    except Exception as the_error:\n",
    "        print(\"Exception: {}\".format(the_error))"
   ]
  },
  {
   "cell_type": "markdown",
   "metadata": {},
   "source": [
    "### Examples (both working and not working) of the `SetOfAllNonmembership.conclude()` method"
   ]
  },
  {
   "cell_type": "markdown",
   "metadata": {},
   "source": [
    "As with the SetOfAllMembership cases under the `conclude()` method, some of the cases for the `SetOfAllNonmembership.conclude()` don't immediately work, possibly because the assumption isn't quite right. Some of those cases are then tested more carefully further below. Similarly, some of the cases don't work on the FIRST run, but work on subsequent runs. An example of one of those cases is the simple SetOfAllNonmembership_examples[2]: $a \\notin \\{x \\,|\\, 1 > x > 0\\}_{x \\in \\mathbb{R}}$.\n",
    "\n",
    "A couple cases once again involve expressions with BOTH multiple instance variables AND multiple explicit conditions simultaneously, and these are continuing to prove problematic for somewhat mysterious reasons."
   ]
  },
  {
   "cell_type": "code",
   "execution_count": null,
   "metadata": {},
   "outputs": [],
   "source": [
    "# testing the SetOfAllNonmembership.conclude() method\n",
    "# Somewhat artificial way to test these, because in each case we need to know\n",
    "# or assume the rhs of the definition of the SetOfAllNonmembership expression\n",
    "for the_expr in SetOfAllNonmembership_examples:\n",
    "    print(f\"\\nTrying to conclude:\")\n",
    "    display(the_expr)\n",
    "    try:\n",
    "        the_assumption = the_expr.definition().rhs\n",
    "        print(f\"with the assumption:\")\n",
    "        display(the_assumption)\n",
    "        temp_result = the_expr.conclude(assumptions=[the_assumption])\n",
    "        display(temp_result)\n",
    "    except Exception as the_error:\n",
    "        print(\"Exception: {}\".format(the_error))"
   ]
  },
  {
   "cell_type": "code",
   "execution_count": null,
   "metadata": {},
   "outputs": [],
   "source": [
    "%end demonstrations"
   ]
  }
 ],
 "metadata": {
  "kernelspec": {
   "display_name": "Python 3",
   "language": "python",
   "name": "python3"
  }
 },
 "nbformat": 4,
 "nbformat_minor": 0
}
