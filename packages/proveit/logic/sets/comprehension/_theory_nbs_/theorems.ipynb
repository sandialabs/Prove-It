{
 "cells": [
  {
   "cell_type": "markdown",
   "metadata": {},
   "source": [
    "Theorems (or conjectures) for the theory of <a class=\"ProveItLink\" href=\"theory.ipynb\">proveit.logic.sets.comprehension</a>\n",
    "========"
   ]
  },
  {
   "cell_type": "code",
   "execution_count": 1,
   "metadata": {},
   "outputs": [],
   "source": [
    "import proveit\n",
    "# Prepare this notebook for defining the theorems of a theory:\n",
    "%theorems_notebook # Keep this at the top following 'import proveit'.\n",
    "from proveit.logic import And, Implies, Forall, Equals, InSet, SetOfAll, Exists, SubsetEq\n",
    "from proveit import f, n, x, y, S, Q, R, fx, Qx, Qy, Rx\n",
    "from proveit.core_expr_types import (x_1_to_n, y_1_to_n, f__x_1_to_n, f__y_1_to_n, \n",
    "                                     Q__x_1_to_n, Q__y_1_to_n, R__x_1_to_n, R__y_1_to_n, S_1_to_n)\n",
    "from proveit.logic.sets import basic_comprehension_y, general_comprehension_fyn\n",
    "from proveit.numbers import NaturalPos"
   ]
  },
  {
   "cell_type": "code",
   "execution_count": 2,
   "metadata": {},
   "outputs": [
    {
     "name": "stdout",
     "output_type": "stream",
     "text": [
      "Defining theorems for theory 'proveit.logic.sets.comprehension'\n",
      "Subsequent end-of-cell assignments will define theorems\n",
      "'%end theorems' will finalize the definitions\n"
     ]
    }
   ],
   "source": [
    "%begin theorems"
   ]
  },
  {
   "cell_type": "code",
   "execution_count": 3,
   "metadata": {},
   "outputs": [],
   "source": [
    "# original, replaced below\n",
    "# maintained here temporarily until replacement verified\n",
    "# unfold = Forall((k, l), Forall((S, iter_q1k, f, x), \n",
    "#                                Implies(InSet(x, general_comprehension_fy),\n",
    "#                                        Exists(yy, Equals(x, f_y_iter1l),\n",
    "#                                               domain=Exp(S, l),\n",
    "#                                               conditions=[iter_q1k_y_iter1l])).with_wrap_before_operator()),\n",
    "#                 domains=(Natural, NaturalPos))"
   ]
  },
  {
   "cell_type": "code",
   "execution_count": 4,
   "metadata": {},
   "outputs": [
    {
     "data": {
      "text/html": [
       "<strong id=\"unfold\"><a class=\"ProveItLink\" href=\"proofs/unfold/thm_proof.ipynb\">unfold</a> (established theorem):<br></strong> <a class=\"ProveItLink\" href=\"../__pv_it/theorems/bb16c7888022d86601a875b3caee8d63803945420/theorem_expr.ipynb\"><img src=\"data:image/png;base64,iVBORw0KGgoAAAANSUhEUgAAA6IAAABABAMAAADystegAAAAMFBMVEX///8AAAAAAAAAAAAAAAAA\n",
       "AAAAAAAAAAAAAAAAAAAAAAAAAAAAAAAAAAAAAAAAAAAv3aB7AAAAD3RSTlMAq1RmmUTNIjK7EInv\n",
       "3XZ/CtNrAAAACXBIWXMAAA7EAAAOxAGVKw4bAAAQBUlEQVR42u1dDZAcRRV++3e7O3u3d2gVEqDC\n",
       "pkBICSQrJvhHJZdKIpQxZIUKJQlFVihFohbrT0WBkFspSlEu5AAjHKUw4U8xVO4CGkoi4SoUxoIS\n",
       "jggaKc9sJCVGYrgkxIRgOOe97pnp7umZ2XWTmxx1XTW786bfdM/21z/vvenvDuD4SckCjKe60iNm\n",
       "U7enRkaOHJPnuliRZ41DVWfKvCbLxlL23TIysq8eRA8s/MKxeKx8WZYT5XGo6k0fVeRdHOmFC+tC\n",
       "dPjYPNWSiix3m+NI1ZuyygKV7bfPNkeHqPGscuGr40DV33jPK/Lm4wDRpDLJxg+PA1V/Um2Oc8zo\n",
       "EV1VleW2/nGc6k9dypLV1hk9ol9UER5fRhtZSJX+Hz8YOaLOI9hpgp/mwyVBSDdRZSWgkEpzxX6z\n",
       "MsqIJgaUC9dGjmhbj3Jhv5+T8yVx8P69iSqvtE9yJU8lheaKzUwY5RkmrXopU6tRI7pKacPMQR/F\n",
       "qaytkhvxO97MYpsvqojeOG89u3Z2s8VmO0Z5kL6iyK2dUSN6mjqN+NXyNPta341d4JGm6lyqIJr7\n",
       "CsCJZPyXmy02NzjKiH5GdR2GI0bUeFu5ECsHI7r5chyjs5uqdJqMqHGt3beTxWaLHXVE31JR2h8x\n",
       "oolD6qyhTFu7hobKAqIp5q0ONFVpqykh2oIoxPDXtTZd7KgjOlVx/uB3ESOaVQttl1fIy/4lj1HW\n",
       "YvGmZkdoKUqILsBGyWHXOrPpYkcdUdUOgQWVaBFtV03ddmxtY8/Jtz1OptxSedZNnPoyzY4W7Otm\n",
       "g+GOZ1nSJFEh1yEimn6H1p8D1sc8q+qdRVjjLgqSpFs1BAUsdtQR7VMXiqnFaBFdohqtXdjnkrCj\n",
       "Np+6fUUxAdpr9mjoP0e0omRJk0SFRFlENEkOQAva2Fdb1+IDMNO5S5Y0SVTAYvMDo4woaxCxATui\n",
       "RXRBSTeLfBxmmh+kdnYdLxbQ76Jlo60AmcJ8iDkDXJY0SVKID4iIttHS3IfXtgLcnBwUghyypEmi\n",
       "Ahab3jfaiKpDonUgWkSvUz3yJdjKVdso7x6yEgKRPpFBP5U9dQkMeBFaa8b5fPIjae36k31nR1Kw\n",
       "4R0WEW2nJpiJk9VzAKal9SI8yEcxScbGE3zjBkxdKHbNVaOMaKdqmRyOFtEjPis9b6VHneu33CvY\n",
       "RxaiaPWuqt7+b/vhUOqE+f5Pf9h9J5CSxygufQaZiM9hlzIzhzJ77OUQpSQk/VdHVBCL3VCKGNH8\n",
       "vkgRZVaJF9HUQfgltbabcYfwac26+BZuN8C5tmON0gE+KesSU+fT46CIqOW3XALJLcBmXWt2sNZC\n",
       "W4Ok9lL6UICH7yydeBN7F3iWX1iJf4flOynuHyfO+6yj8bcjRTSuBhigy5r9jNWxAaD1IV9TIgxs\n",
       "7GZrFG+7gyFqApc+hYgamqnRVpj2iT3YpRM9IqKZfYkfFH9LTXcf9RlLFcExgEsJExE1NTO5rTD7\n",
       "9p282BzCm/CM08V7ZlBfYwMqLN9N070obHr9n+ys0/UNJIvhnUgRzb/nscYtsOKHHhpIsdn3KhnR\n",
       "9AHHT0h2YHjEQtT4D9gSKvWV+SU8cSVUMKY/C1u48yP4o7tXAF+A1wO+Q15SJETpfpLQJ3GKlMsm\n",
       "hQevKLZWWLHkvYj+TmZHbwniNVjFkKPPsHy3z0gO2e0TVgNMcayAxa5vIN1zhCNK954ehmi4VmMp\n",
       "6TENMRpnXFw74zwmrlltiojG2a/J4BA6ZedBNkaHTFvCvXFtuD8O49f08pc+bIX0ujLgrNhWkhDN\n",
       "TNj4KmTwbCXWuMny0RFRKogkWGmyQqg0t2xb4YZ/QLvJiiVE5wq/Z06VxaJiLAhBvyYs320ecTAn\n",
       "L+LRMg4z013lGe8jHFGq5ZowRMO1GgwZeRaoFsUHWfwzMQqY5L9mGwFSZojGTVu6Hs8+4p3bbYVY\n",
       "jayXm+S4rpVWwxu0PtPUt4GvtKwgS0rf6xQiJUdhIlzBiyVEByG1g0PE3vNYUyN7F5ujERWW7yTL\n",
       "jHA04XX63O+8w2W6Uz2Ptd1kiH4P57SeMETDtRoMnHnenSX9XHREdFIL/8XTsCEfKzBEc8CldGfa\n",
       "+rXeF22OQms12Vl14/wuonewuGKi08Idd18RojiJkvRt+A4rRI1a2Aq/hzkZViwimi7DunazWzDW\n",
       "8yN38b6FYzss303LwNU0WLO/9Y69cDLdp70OYYUhimM4VwhDNFyrweC2Z5tYwm/jGFqqf7HfomUr\n",
       "8Dc4BRii66yDpOtvvcUEo+aNANoKXdB2c9Xtki6iC0aYkXw3tNVi/QxRLIik9D23fpYVoqxYjsIw\n",
       "bJvMisV9cKkeuOFc2EUzxqVM9YEFHSSmUIfnp6bMFfNJTMmj5XJgJVHzMySNM/baePS4xr+Y7i8x\n",
       "RBNFMULjh2i4VoPelMfaMvyCLmgCzLjQ1uqB03daT37jdZsAEEKSXhoZ0XgAgsLnIf8EdQcV0ZWb\n",
       "bf83PsNq2PSGd2tUEEmtIyPDrBCv/0AKqQ54s8iKfcxqoLi1NJwCEzPnWhCe39vbW7Ds5NQwiRlE\n",
       "gee3Qp+YT2JGRnQSkCbr6tf29t6J9vUS26bq4bOwkk4rcFv3D0NDL4TbuqFazSIKP/ZzXWeJc8OK\n",
       "Jip9w4HE472ma80Ve+MHeFO/as3EbRaEt1HLFXAAo0gzJc9PQ7eYT6Iy6/4QSDMx97x+yNBqcok1\n",
       "E8G0S8+2Z93UQX9ELUvq3nBEQ7WaRvQCGPPJmrK3Wa2FEGZNZs/FKiRa/vVaJ9+yx8R8FCnf6KcP\n",
       "6wsDLJZmfBfeQu0+C+BDMKWnzfbVc2VvqLzIEf0GpHWvo/plRLmW7RFLLq/OZab05h4+Wz6k7j3o\n",
       "8yLaVxrziN4NcMYnywRh+h5E7JZ5TwIDuALdBTs/WZXyUaT8zBbormS2ZDbTRI6aJ6XRkMcGvWjO\n",
       "xgrEqsuALx6tBX9Es6a0NS79yq/hgg4xikGIMi3HIwbR5RX9BUEBLqvAcrZ03aVSofq8lq2m1421\n",
       "tBiMSrZIEMLa3l7erCiiaVuw85/KS/kosny7ESHVzzQH89Mtk+83vattp+b1RdxM3u2t/ZkaRzRe\n",
       "a5GiE5NyZtL0IMq0HI9YcnlFG1ZQQLsxyVZ8jx2rQdRagMZ6SlZitcsgs/txKTqHojVXpUye3yKT\n",
       "N0lk+TwtQhk1jY74E6LqGji7SLraYJ+DKJRnSNGJ02udOfAgyrQcj1hyecX1UVDA6Dl72TzpBex/\n",
       "+Z0rLgxC9Pyxv5A+lZqh3X6KAd1EHfksYfjR9NHkweF8OQjRx5daahRzpujE5A+vyMGv5rwypyQh\n",
       "ilquRyy5vKJhLyjgvkkKYPMI+RuxnqsCLCNnF9AYTkbIdaPu+8zgOpZr3s046ygstyZPijmz6MTk\n",
       "3AOLNWN0eYfoMXOX95KdqjmDCjyht9NCUpIKK2Zr1SBEjT/DeKqz52yFIERjVjtTzJlFJyZD5y4N\n",
       "oqjleszAXN4BY1jtWu6bGtxOsor6UpaNvvZKkPcCsMwcx6rOsLhuOnP8UZYw5syiE5NhbYsGUdlj\n",
       "5i5vJSOvh6RAfjGFDBbBH5m9xMZmt7vwtuoQTVfHsaovPQzhiGLMmUUnJkNqitcfZZaT7TFbTjC5\n",
       "vJAtuZ6x9UEK5Bdb4vJvrft+EU+gD+9ID2xwu0lbMP03NjQ+A/ul/NBWfcb9VRFRFnOm6MR0gB3e\n",
       "mBFD1PaYLSeYXF4MJTmesXXGFNAvtjTSs3acnMYTDHNZXxcv3uNMq9lDgU/dMg5cQPqY/vL2iogo\n",
       "izljdCLzp4rrUiqIuh5znEcFzJrgGdtn5BejRqpzHalOA+cOu28ceJ8iGsIjbZb+WglA9CXwOqpu\n",
       "dCIAUfKYF7Hz60YGBc+YnzG/GDXSe1/DkztPAucOe+rY//5ENIyH2iz99coARP8LPqGHMERtJ9jx\n",
       "eDVntsbXS3iyqSbfgarvhiGaHBoa+uuYC/X68lCPEv2Vtj7oEU0faQrRZlNqbz1jtBnmdTR+Ytkv\n",
       "52jRX5f6IsqbNCpEaWPd+w9Rfx7q0aK/TvNFNPFepIjCdq3jbI5xRH15qEeN/oqHHtHkoWgRXaAz\n",
       "Cp29GWMVUV8e6lGjv+KhR7RlOFpEZ2rnp0+PcUTnWce6Hb/YqD63L/01lKeq0l/x0CPaPhgtol2d\n",
       "sjwfyWhD2zs9iIZQRXwJIv8HlSQpXTyrfiPUObvaOjrzE4kAxX7Ry7y5a/YgkwmvoTxVlf6Khx7R\n",
       "Vf3RItqqZ32dWbARjaP3UgilingIIs5mGaXL1EElyfLrtJkm0YDn5FS11bqvkjgc80xACv3VJksy\n",
       "GmoAq9FDf8VDj+hb1WgRzekDu8bXSvIYDaGKSAQRmR/SOJWEI8o206xp4Mc4VT1nPaTnT1hiUuiv\n",
       "DlmSaKgBrEYP/RUPPaI/hWgRTb+nvbzsSWXWDaGKiAQRhR/SOJWEIco308xtxGQxXUTBRUBICv3V\n",
       "IUsSDTWI1ajSX1N+Y9TYGzGi8GXdOjp0jbqOhlBFRIKIwg9pnEqSdSZIa+kSKhbvFKNyHXaHcKqi\n",
       "tyJLKoaprqN+9FeioTJWo4+Hi+qcLEk81UEfRO0/JxQdojN1hsrlqq0bRhURCCIqPyQuL6R1UEkY\n",
       "omwzjVgxiKfuoKgdtt8OO1XdZz1l6VQNVUZHf3VoqIzV6G0N7BeobpMlcXMPHlpEWwajRrRPE+JM\n",
       "l1VEw6gknCCC3BGBH0KbZRqnkjBE2WYasWK3DulhHxjM94i3A/FQp/7oc7gbQPlhGvqryFNdaSqs\n",
       "V4n+apMl0fnBQ4toVzFqRHVctGzVRZRF6sOoJJwggtwRgR9Cm2Uap5IwRNlmGrFitw4pxfpjNSUy\n",
       "shLgoT3x2R43Wkt/dXmqyGokSeapOvxYTpZEnioeWkSfgagRNTSmUVqJ64ZTSThBBLkjAj+ENsso\n",
       "s244lYQjyjbTiBW7dcgrc6m1Kt4ONg9V03119FeXhkqsxgD6KydLIk/1Jp+4rtOcEf4N7N1BxqNz\n",
       "FkQlcQkixB1x+SG4WYblu1tmwqkkHFG2mUaseK1Th1xidYl0OxAPVZf09FeHhspYjQH0V0aWpDj/\n",
       "bB9EHf8nQkTbavUgGkQlEQgiyarID8HNMiyf7Zap1EUl4YiyzTRixd0Fuw6pxPjsn0i388fVJA/9\n",
       "lciSDg2VWI1B9FdGlkSeKnFVdYh2laJHNHWwHkQDqSQuQQS5I+4ODNos86i4E6YeKokTM6LNNGLF\n",
       "BacOscSfw13S7a49riYP/dUJHhINVR+1FOivTndgfUeH6AkQPaK4gIQjGkglcQgiCpUEN8vwfJ7q\n",
       "oZI4iNJmGqHilOnUIZY4MVWWbqdba8G/uVn6K1FgNYgmnj8eEM3W6kA0kCoSRBDh+TzVQSVxEaXN\n",
       "NELFCXBOxRIvfVO+fdSSBtHl1YYQPUb/Cc/Y5o+ou183jCpihuTLDnugbjqkAKi7qmOZ8kPPei9e\n",
       "zdutvv+EZyw8Nv8JD74L4+koDQ4+S2QWLlz0PxB61gDcb2KTAAAAAElFTkSuQmCC\n",
       "\" style=\"display:inline;vertical-align:middle;\" /></a><br>"
      ],
      "text/plain": [
       "<IPython.core.display.HTML object>"
      ]
     },
     "metadata": {},
     "output_type": "display_data"
    }
   ],
   "source": [
    "unfold = \\\n",
    "    Forall(n,\n",
    "    Forall((S_1_to_n, Q, f, x),\n",
    "        Implies(\n",
    "            InSet(x, general_comprehension_fyn),\n",
    "            Exists(y_1_to_n, Equals(x, f__y_1_to_n), domains=[S_1_to_n], conditions=[Q__y_1_to_n])\n",
    "        ).with_wrap_before_operator()\n",
    "    ),\n",
    "    domain=NaturalPos\n",
    "    )"
   ]
  },
  {
   "cell_type": "code",
   "execution_count": 5,
   "metadata": {},
   "outputs": [],
   "source": [
    "# original, replaced below\n",
    "# maintained here temporarily until replacement verified\n",
    "# fold = Forall((k, l),\n",
    "#               Forall((S, iter_q1k, f, x), \n",
    "#                      Implies(Exists(yy, Equals(x, f_y_iter1l),\n",
    "#               domain=Exp(S, l),\n",
    "#               conditions=[iter_q1k_y_iter1l]),\n",
    "#               InSet(x, general_comprehension_fy)).with_wrap_after_operator()),\n",
    "#        domains=(Natural, NaturalPos))"
   ]
  },
  {
   "cell_type": "code",
   "execution_count": 6,
   "metadata": {},
   "outputs": [
    {
     "data": {
      "text/html": [
       "<strong id=\"fold\"><a class=\"ProveItLink\" href=\"proofs/fold/thm_proof.ipynb\">fold</a> (established theorem):<br></strong> <a class=\"ProveItLink\" href=\"../__pv_it/theorems/040ec2b3e17ca82cfc494303a243a9712f915a250/theorem_expr.ipynb\"><img src=\"data:image/png;base64,iVBORw0KGgoAAAANSUhEUgAAA70AAABABAMAAAAkFw3FAAAAMFBMVEX///8AAAAAAAAAAAAAAAAA\n",
       "AAAAAAAAAAAAAAAAAAAAAAAAAAAAAAAAAAAAAAAAAAAv3aB7AAAAD3RSTlMAq1RmmUTNIjK7EInv\n",
       "3XZ/CtNrAAAACXBIWXMAAA7EAAAOxAGVKw4bAAAQoUlEQVR42u1dDZAUxRV+tz83e7O3e2dSZUQN\n",
       "LiUxlApsjJBoLFgKUAxBNhqsCJa3kUqMJCnWikWiEm61NNHk5M4fgmclcVBjYkhxi0asiOIVloHC\n",
       "ip4GEkLVhUUplUjOAyUgRi/9+me653/Xg5s76l7V3E3P+6Znpr/p7tev+80CDBOp6/0HjIq7pHtf\n",
       "O465xwcGPjouGV+mJupHafSRL9aA1ZfwnaUDA5lq+D204JvH5a0snBD8aoPUB5yq1cwv7OP/71jQ\n",
       "UhW//cenYFqKJwS/rw9S71fyFbbVyG9DWew1hsiv/gLY+J3X29v74kijN1L20sQ2Gr76KuQNvtXG\n",
       "r755OPAbK4BL/X19pPH7mKdmfVvGV1+F1Btsq41fONcYBvy2l04Ifmd6ajZfZfjqq5Bojm018pvK\n",
       "DQN+vwUnBL/dnsV21F9flWzjW238Rg6Hz695DyOb30jBS5Ps8ddXJYv5Vhu/cH34/KY6Tgh+Y8R8\n",
       "0vtO/cUTjqb19FdzXL9uJujNpsKachEVsJ5vNfI7uRQ6v+2ZE4Lf+izhEPZU5mECBwC9va8yTVNF\n",
       "6MvnQlSWoTXlIipgKt9q5LcxFzq/Z4CD34mkcIhpHyl6nFLhTWKAXmk8i56X59hYlXDPS6VICX4J\n",
       "phufdkBaS1yfyMyDug59KjvMUmvXn+qVNQMIS5hvNfIb6w+bX/198Kq/Uxw3sOmNtxUygvRSpoAX\n",
       "VGAb2L/0pr1FN7h3AZo1JQ9Qgovd2kih1+FlaKys/A9/cJrKwTzPkqEA0crxrUZ+4++FzW/0iBe/\n",
       "ls5p5ZhVAJMgQW8hTl0FQXqlpCzdnAUqsIzf+HWgbQnoFW1lUlb4BcKIU54z9cSSJoPBidKubi8d\n",
       "4tXbw/A2x45X861GfuEvYfPb0O/FbyyvVJM5fIjBip46zoP0ijYPnlCOZfxi0V9qhQfJEqV9hvhh\n",
       "+IOj/73H1McKsB9MfmnqQh9+KeD8L/fl+J1N/AT8zi+GzG9Thxe/KYBrmjkL1DcHpLFht0uN1CC9\n",
       "YqIrSDuUYym/GrYl0xEe3wN1/GR5piLyoLhUQwX0VXXd4PRCviz00NCMZCNN6PBgKazeurNYBECf\n",
       "8gJsIfsX8K1WfidnQ+a3pezF7zLQK0cT1C2gs5fg3Q/Y3cJ4/BOkl6IgHVCOpfzW4Rj1WQKHdU1G\n",
       "G2/bzTPVBl8eFJdKNkPkyKPdcUdBaoeEHmLN2B8SfvX/gkgldgF0Ffghc8cEaOsKgP6RuXyrld/W\n",
       "5pD5nZ938svmF64C7eGedIf2ILkyI0MffwAwSVT0D9Vfvjev6jHJ9FI4kj2EhAqlyW9jmbrTyJGb\n",
       "J8I+uAkrkXkNC2dmdualEj2gX1YZf57T8dEv9KCftvcwq7+9hkjhRVKEY9gu/Im4IwF1lTi+STv4\n",
       "Viu/jd0h87vUcK+/AONIhSrXVW4jDx+9vrPzXmzGWgCTcJei79b7VT0mmV4KRzJ7TkKZ3KXwS7hP\n",
       "HEY4nAZjExPprYlrWMTMTl5qp1cv2qzokwXGb8TgKS2nkX7ibOdbIQCNpViuBBp5O3Crmd+GoyHz\n",
       "61gRYvJLSi6VbywBITRBG/HLydsOmGSNItcXSUup6DFpb5858vwrzrFkRdNq+9yQixupLKVsB2yF\n",
       "FC1jcQ1rjy6yk5c63/35xtVnTP0G+GOG8ZsEnrrpztvJVZydtglohdRtJYih9yT7CfhNHwyXX+0D\n",
       "T36JmZMqtTBCsVGGGQCfYck+0MumviFv0WOS6teafzhyUkfKkhVL9yn21ZYL315MLww7ycMSfvFk\n",
       "fg1rjmZ2fWZNcXeK/PMxqf8XaRbglqWbSP9ODtDUKwMD2J07fZMC8HVIP0nfa7rVzG/k/XD5jbzv\n",
       "yS8pkMjMXzJCb8JBxJxZG4ssuRoSm039HKt+jtC3FRNb8I+JrCsts0BZerUyPrpx7ElGkTI1/oIC\n",
       "8ktOFtew5CizW23aXB2uDzjtEqk/0+zGkVCZSrv7xSSAXmX1J+E38UG4/KY/9uQ3XobfwX2MUP3P\n",
       "nav44V2sKCNCnzQqqh6TTG++QgKZgjcWqlCa5rRw/xV8g9QlAteLDVnaPkfkNdQczewUVlcEPOqK\n",
       "QZRSkW2186t/JPilZsCZQfwGo2p0kB705BcugbHxAqx8yfLuYTJGHnWh0C8d6LHYayTJ9VxM5Bo4\n",
       "J6tCaTpWtPDb+lkD4XWVKyGx/wk82byGmqOZXawIQyq18gsDgt/Z+P+6IH6DUTXad0cc/Jrrn5PG\n",
       "Fe+4noT+4Wywnosf0vQ1C37rd9ALx6eVxcnmmWqO5sEpQ8puuveFWk/ZbXB+b0UDoyOI32BUbVJ/\n",
       "2EdpBBw3qj7PCLqGViW8+oyHiSwtcn5x+VYyE8RvMKrG8ffRwBY8A6NSlTzm9rI9lOf8RrNBa4+R\n",
       "32BUje7nQJttxihx1drKu1wOnpER9vNfe3tfCrafA1HHmN9oYZS4auULvvzO4WN/f34DUceY3zZj\n",
       "lLeqjVWXrmx+VvB7A2huE9tlK78ctahvWkkcFkshLKIAAN7p46P8R+2rgLuC+P3eKG3VD3a3+fHb\n",
       "YCTVWRJt+1NwEaEyZ+WXoSIVulqEirkUwuKXUgBwZRGWs3HiffYAta7uAP/W0VHaqhcXW+X5iuA3\n",
       "UpGGE65hGZc0YoaDX4ZqBHP+W1kKodrFCiDSQ6xgNqZysBXEb6o8ylr10lr04RcK08wxCTpxz6zk\n",
       "cBbDxi9DNWXliFEuhVD7VQWAK1DYQs9x1BeV3rvikmr5bR/tfmvpgMt+/D6xhPAwc+VevoZlwudW\n",
       "JOFPs7bPylv4RRSkB+4zc5BLIVRPiwI4GV1ClMcorcVv1XVcW619Ncazr1mg9iWDKJOiy573kaqF\n",
       "hux+foj5jXb79L+wnDSzj1ydbSwyp/mE5MOLXOrvctoYPzy/ma1vUFZNWAQBXHA8VU9TMZpZtqFS\n",
       "qpbf97wUby5UEoNZDH+NufeU4yUdhGuFhuve+uDQ8qsd9OO3jpT6zW9Ck8HWsEyA3D4XfhEFBknw\n",
       "9Q1y1YQqhjLbhD7TdloVGlhNbypWOz5KHPa3u45BaG06a+f3lrnr2bFzBlPWtA28Z4gr8Haf8S+T\n",
       "sXA1X8MyAdbWu/BL9zLohGbrG+SqCfXtRUB09nm04O+HhfA3ZnWxetsmG75Gf349AzhY0NaxCK2V\n",
       "i2k5v8nvsi4F9EG5Vmi47nNDzO/FgfxuhVkJtoZlAsQnOce/rNo0Q12Rr28wV02sVZY4UEBkH/Rg\n",
       "cvkP1/00izvQhWdo3RvkS5PyH//UFfz5PQahtXJhDeNXx5g7GrcTyw6qL8yFwO+7jiMPlSz8av2w\n",
       "cwLzUE0B2OP0XzF+b5/7NPD1DeaqibYMW91A/mQY4BStgAhtxp5TNdwhFRf/Xbaoz7SKnfOD9KjQ\n",
       "N9pGXvt6ewsKv8cktLbRsPBbjznX9bMx3mBkWwj8Ti7Zj+wuWviNN8M7WbqGJfH3ohzC2vjldc8w\n",
       "FzXQBQ7SGuF7PekpBkXEc+soFKtKxJJH7JBrtytmIJusPeuV/7bW32MSWluftfA7H4soia/dWYMr\n",
       "68Uh8NvusAhfAWv7zNoouRzGm1++voEKLnCIm5WS7+nNkScZQjuwC3fuPQXUZRDUunE3kL8ih9FE\n",
       "1u35/Ua8QW2JtX32DK3V92Zhja8nTwEkm1V+2YI/+trNdWQUFLJrga8Pgd8uR5fyPzd+PUx+F2NH\n",
       "yS/qsicQP8jjzqaK9QyEfmjLkIXu7OYddCu9r1x6bAz5rJd2N/soi1dobTLSDdP9HkUFRAsqv2zB\n",
       "EF12sNiRUVDIrgWOcaD7h5hfViDqiOmjwfE7WIkfcD9+Vka2N9Fi9GgdvhbKxPPyrPCMuYTWwm3k\n",
       "dRijbzzJ0/lFAWKo1a3yyww+6lZ7TeAe4W9AYMiumi0N123NDDG/ZffyDY1fGmjjdvz71GHSgn8T\n",
       "4hNKbVi1add8w7eZOcFu3h5aC0ZjBV6OQazH67IUIPqZfpXfJsr2dHx9XuS4RB/PJzBkV82Wzq/o\n",
       "Jw8twU05uxX/cbj8wm73w8ueVu0FHub8uOz7L6VV0yu0FlqMxJGmvHbE87IIEI9lrb/IpU7DZl8U\n",
       "uIh4TwJDdpVsabhuEt9DTy8lb0yD9FJ8/J0Vd35jR0Lmd37Rrf/tvc5iD7YUdeQzpYygmqV7yBla\n",
       "S8b56e6o4cMvBVBfu2SP8ktGRpdDDEMysX2mOIkIDNlVsqU3M5ncdtQRTizmxlnwf5BeqYzOwGRz\n",
       "mj3m3v/W94fM73RXJ4KIymtF7eP502k8DqQrNv+GW2itzojHF4CAPEJrKYD62sWkh+A3cTD6s+yz\n",
       "9KX7jciI8muAGrLr7Nl1W7Y0XPdZAIshn9jTmZdz4yz4P0gvxTIksEI5tslemk09IfPbmnM5qAmT\n",
       "tgsZnfzzr6EXlMi1Vn7dQmtpDC3MgBbypHcbLOWMr6UA6mtnwytl/Lt/BXADar3ICPm1huzKIF1L\n",
       "3mq2NFwXO5DZyoPNKoE6N07He0F6KSrSDmVYhz3XXg6Z30Y3G6hBNIDUT/hoX2Qmu781qwyVX9fQ\n",
       "WhpMu2YTafcxVJimzLBauoOhtQwwlvaRqbyF38SYjTuISUfkboGj9dcaskszsYTsyuuybGm4LvLb\n",
       "I8P92VyGnBunwf9Beik9yncF7FCGbbe34O+WQuY36eaANudz621L6Rf9WvVPuobW8mDaDQA3wo+8\n",
       "Q2sRgL52gJ9Y/c9EVsFbtF8vcRzl1xqyG3E20Gdbs6Xhus/RtsgM92cGopwbHw/BekurJr8rYIcy\n",
       "7GT7bf0KQuZX+9hPG/NyLSO/7qG1OCGSLOibQXvgzq96hdYyAPW1y9kJk997mMczmmM4xq81ZDfp\n",
       "vKWyNVs6O0H4jXfI7xBcwZDm5DmaGUKPU+hSH580G+zfISBI+l0BKkpWisli95fpB8LmF77jp4x6\n",
       "TS8Rq9YjtBaDaVOVujI0Dgz0e4XWUgDztctoG5Pf+QOsVVvNcNqGDyv2kN11TvuqYsmWheteTF6O\n",
       "ZvkdgqmdnZ0ZZfIcI8mFHqfQpb4RusD+HQJEnkZaf+YdM6Fce5ccUCjldyR0fqf7LYLRD3pV+4Ne\n",
       "obUYTBuZNltJuYwUJUCJyzb5vXuzaAMVHJ5mDeC1vXHWbGm4Ln66HOdKxHcIfkGLUU6eY5sq9DiF\n",
       "LvUazrXZ2mdE7oCtbFpdQvk0O8Xavfn1PaHz2+W7+OJ+L8WNn1ISgwitZV0tFccqbq3yybPFcF1t\n",
       "fYbZT+I7BHTe05w8x+D/tVLfkFf1sIrr5aQ6InfG++m0ugJlafohgbh9uUtrNnR+PbtYKhfBiBdS\n",
       "kcV3CLQHQJk8R1VbxtTPsehjJa6Xk+qIxO8K4LS6CqVp2l4kC7ZrPw+h86v7Glhd+RHP7yKQ3yFY\n",
       "29nJHwj5xXWMGaGnU+hS/0xa6IUgkn5XgE6rK1Capmsi7TSaZRvm99t959Acb+TIk1jR5TsEdPKc\n",
       "aOKG0Fu/Q1CPPzXF9KL0EYnfFWDT6gqJNE0/JGAvSnOCJUx+U7693NaR30A/A97fGYhWoeemMCLN\n",
       "7wq4YQE227vf/DDgN+4Xwg9TRz6/upfCqE5fRU4Mm7Y3difBMOAXXT7eUp+FUalSltuGmtFtw4Lf\n",
       "Br8GWh/9tcmq2wn7j08uL9XG73H6fUl9p592mTHKXJX1xN7ULeb/q/x9SX3B8fl9Sfixn1IrjTJX\n",
       "nfzWzpewru5YsMD4P5oo1pZPDpZLAAAAAElFTkSuQmCC\n",
       "\" style=\"display:inline;vertical-align:middle;\" /></a><br>"
      ],
      "text/plain": [
       "<IPython.core.display.HTML object>"
      ]
     },
     "metadata": {},
     "output_type": "display_data"
    }
   ],
   "source": [
    "fold = \\\n",
    "    Forall(n,\n",
    "    Forall((S_1_to_n, Q, f, x),\n",
    "        Implies(\n",
    "            Exists(y_1_to_n, Equals(x, f__y_1_to_n), domains=[S_1_to_n], conditions=[Q__y_1_to_n]),\n",
    "            InSet(x, general_comprehension_fyn)\n",
    "        ).with_wrap_before_operator()\n",
    "    ),\n",
    "    domain=NaturalPos\n",
    "    )"
   ]
  },
  {
   "cell_type": "code",
   "execution_count": 7,
   "metadata": {},
   "outputs": [],
   "source": [
    "# original, replaced below\n",
    "# maintained here temporarily until replacement verified\n",
    "# basic_comprehension = Forall((k, l),\n",
    "#     Forall((S, iter_q1k, x),\n",
    "#            Equals(InSet(x, basic_comprehension_y),\n",
    "#                   And(InSet(x, S), iter_q1k_x)).with_wrap_before_operator()),\n",
    "# domains=(Natural, NaturalPos))"
   ]
  },
  {
   "cell_type": "code",
   "execution_count": 8,
   "metadata": {},
   "outputs": [
    {
     "data": {
      "text/html": [
       "<strong id=\"basic_comprehension\"><a class=\"ProveItLink\" href=\"proofs/basic_comprehension/thm_proof.ipynb\">basic_comprehension</a> (conjecture without proof):<br></strong> <a class=\"ProveItLink\" href=\"../__pv_it/theorems/2ffba01b9e72d392d9b38de8d2293d55a42222250/theorem_expr.ipynb\"><img src=\"data:image/png;base64,iVBORw0KGgoAAAANSUhEUgAAAc4AAAAmBAMAAAC/qGbYAAAAMFBMVEX///8AAAAAAAAAAAAAAAAA\n",
       "AAAAAAAAAAAAAAAAAAAAAAAAAAAAAAAAAAAAAAAAAAAv3aB7AAAAD3RSTlMAq1RmmUTNIjK7EInv\n",
       "3XZ/CtNrAAAACXBIWXMAAA7EAAAOxAGVKw4bAAAG+0lEQVRo3rVZfYhUVRQ/87Vv5s3u25FCUEMf\n",
       "uNgfKY5RlhC7s65m4McOBf6hkkMikmBNCJKxuWNIf6SxYxa1SvEMlbZ0m5XaCrMmNQyjWKzEtK3Z\n",
       "WjIpNj8Sl03c7td797737hueNu/AOfN873rP+Z17z8e9C+CL5guyxnTAgGBJXe97aDTFZa0pfi5g\n",
       "nPCyb0/OFWTNaU7QOCN+1yd+isvaU0IPGugrPsfVlbgMIH5OBY3zoM+NO9vgMgBqDRqn38RyXpAB\n",
       "UGc+YJzKdX/hOcZlIAFaCnpB9/gaFSpyKaP9Wf7sXhqF/yh3y/NhWfIyL53MOWvVb3yKh3zhbExz\n",
       "KSFtrRC4H7o+/0p/YhUktu6W2nVFMqlO2YvIdB7ENMLjjFFk6EBCdHpVnF15Lj2zlAOn8sGRO8hD\n",
       "2NyUv2GxUzrD9+5X9zCWUdPi0v10Opu3XBq1NGWAhgwsxL/rquJsEaSEjoIEZ38BQjnS1lnFyXCO\n",
       "tehhd63JUZaGcwV6LtHpEB0GT42wnjFEc7AVu6JYFedEQfrEeQDPeAI/tVlRmPHE+be7EqQpy2gB\n",
       "mitHp0POOAOeGuE+xqBRvySrdyRfCJIH0JuDZ7xxbsBiGhY8x5zyxDm74HxTz1imb5RGJ+0utDlZ\n",
       "b431BmUIj0IEea2ueh76V5BWHnjKqLKe0VEsP0fmh/nmW+OJs8vl5xmMJfpiV1GNK9DpUOTFi94a\n",
       "69KUIY4y3TeDg19Xx3mVS3Vk8nYSEZsMcd+qw2nYK+DsJMrbkaujKCn0toGK0l2fJ873XTt0MePe\n",
       "oXeO6HZ96vjH5LeP5at1Eo3MzGSKMqjI+EcAdlfvJq5wGYWhylJH5kJZJBkuszxFcbYT257OU3eW\n",
       "ZkLkEj3u/CUvXKRIRAcJpcy1x5zRpkYHHPpaxi/nrdPTOmiSaGRmojAmDHAT4BlQ8NQrR5pJlPw5\n",
       "ssjZDl3h8gFoMUj25ptDOQ7wAjJmkoDzF+x99QbeVzrE9aWkyZhJC5kMp6shOk05ko+MhdJ2faBe\n",
       "HMchOJNYlYIGw6XRNBN5nzAJuoSRRKsdrkAXfrE8Dx2OQhm7xmWB1YA42u2DPxKYE9H/Nuor8K2A\n",
       "8wZJsHin12dBRZ/QdzK/OlEGtDHjfPMl5TiuCHZ9ZOWxLcTcUAG0ikujaWb8EmWAfzDCOprcQjgx\n",
       "oU0SLXqvJzA4Kh+zDe/61UZ8VMA5SE5DOaY1NgZdaK+sQv9MroVbwQnEQXZ9aHlVbMsqVivVAbdG\n",
       "ZmasTJnghFwz7epwW9iJ7MGxBNrwlkUynLHr8C7+HeA27SQxqpUFnNMgpsOSPNtFaE1wXM5yn+1Y\n",
       "sLjjk+1b5MC8atj04YymjLHpSJcw362RmYlXLTzA4hMO45ZBG99lNgNJbPGFUPEJMwCvWlJ9LVQG\n",
       "Ekwj9j5hJyRSAs4u/cGNyZOsecGfsC/mIf7U2iRD3VkrWNyt81uUe7J3QRJs+siOK7HpCPxNLo2m\n",
       "mZEiZVosOoiFb7fjH1xh6vBDOlExi7d605Lh0X3lGImwOt2GsxVWpwWc2slKcgJZB5zWoylc80id\n",
       "sOrKggIPFkl26qM8+6Ul8CjY9EXPs5KCp4vgjZAoODWaZmJ/EJ+QYhHC4wyI4e163GrYG3k2OmFJ\n",
       "dVml6V4KftIKEefez9rzYj+0dc/RLOB548jj6pRhfND9gY6NDSFwmnkEImeorqzrio7yvpFwm27X\n",
       "F43dOYG8wtOFMLJ4xanRNLMhSxni18ycqtMm91VYAd+RNzv46e9JQfIs/Im97+t3nMsSWY1McJb4\n",
       "GCUIZYCO7W00dkAPXXYaLJIbmYYCZZk+Fk0Drv5e1EjoecYQHuM3KKG8WoKOjb0vpkEtKeV+sJLg\n",
       "EkHK+/hkTj3mxJmaYfbS/XBQZ205GvvcLLgIj9FBNFgkXRLu0iOZqnc+rpgWNDJqM7v6pOmU6LbF\n",
       "H0H8GCitQ5MV/LBs5Yjl5BaDSwmhXNpQCZUcOKPjtNAk8vAzTEEPm80T2BSYCnO7u7t1M1hkp9LX\n",
       "GXvSZjdyrpEtedE8iiXsF2FhvD8yvfRBaD91LmXXWDqEmxc67xPiP+lm5Zs+nGVWq8dJYH0F28Vg\n",
       "YQ20jXoYe5LbCYJGsABT0I6EjkNduXyOPggbIsOlrP9tFTzwh+vzFnauQgqVPjzyLFrEhGEGCy12\n",
       "7kkrlL1Iq3J3xDTCBca4CtsGENQbsuzBcU8lva26HWqalwPlDTNYWJYKlvr9XZhf47IG1+/5BHLj\n",
       "e93dVjGpD/wPD8duxR39tdEZqix3J7JgSfO5FesLXP5vijWXbs/bt09+Nww9q0YCCiMt8PD83e/A\n",
       "NYKsOXUE/ueVk35HHspzWWtSTwe9nId85zllPZe1pkQ6aJy7/A99VpA1pv1Bw1RxAfsPxy0UMyvR\n",
       "1e8AAAAASUVORK5CYII=\n",
       "\" style=\"display:inline;vertical-align:middle;\" /></a><br>"
      ],
      "text/plain": [
       "<IPython.core.display.HTML object>"
      ]
     },
     "metadata": {},
     "output_type": "display_data"
    }
   ],
   "source": [
    "basic_comprehension = \\\n",
    "    Forall((S, Q, x),\n",
    "        Equals(InSet(x, basic_comprehension_y),\n",
    "               And(InSet(x, S), Qx))\n",
    "    )"
   ]
  },
  {
   "cell_type": "code",
   "execution_count": 9,
   "metadata": {},
   "outputs": [],
   "source": [
    "# original, replaced below\n",
    "# maintained here temporarily until replacement verified\n",
    "# unfold_basic_comprehension = Forall(k, Forall((S, iter_q1k), \n",
    "#                                             Forall(x, And(InSet(x, S), iter_q1k_x),\n",
    "#                                                    domain=basic_comprehension_y)),\n",
    "#                                   domain=NaturalPos)"
   ]
  },
  {
   "cell_type": "code",
   "execution_count": 10,
   "metadata": {},
   "outputs": [
    {
     "data": {
      "text/html": [
       "<strong id=\"unfold_basic_comprehension\"><a class=\"ProveItLink\" href=\"proofs/unfold_basic_comprehension/thm_proof.ipynb\">unfold_basic_comprehension</a> (conjecture without proof):<br></strong> <a class=\"ProveItLink\" href=\"../__pv_it/theorems/cfd8216527ef804509eb58f3863155b01868617a0/theorem_expr.ipynb\"><img src=\"data:image/png;base64,iVBORw0KGgoAAAANSUhEUgAAAXUAAAAlBAMAAABPKmS4AAAAMFBMVEX///8AAAAAAAAAAAAAAAAA\n",
       "AAAAAAAAAAAAAAAAAAAAAAAAAAAAAAAAAAAAAAAAAAAv3aB7AAAAD3RSTlMAq1RmmUTNIjK7EInv\n",
       "3XZ/CtNrAAAACXBIWXMAAA7EAAAOxAGVKw4bAAAFjklEQVRYw+1ZbWgcRRh+7mNv7/aS6wW/I8ao\n",
       "IX+0etS2Wn8kkUZTjTYHSqGNH2f7o1qobo2okdhcRISS0B7WaFMRrkWUqg3XqlVR4/kBEUUJiFBq\n",
       "DzemEtNASC3SUArnvDOze7u52+ufq0TNC8/O7uy+s8/MvF+3B5SRm/KnsUDFn8+nyz5wDRawVC1y\n",
       "X+S+yH2R+3+MuypR5vb57ukS/zj33yRcRDHKq5I8JEHco9Re58bdQ403ViHq3oxAKWloz6zARNFq\n",
       "f/DpRZYql0hMgLjfQR2b3bj746wJ6BXi/pZECQkZODCLgLSDcL3sPpKEJwGH2hYJxr2PZpdy4x6k\n",
       "bemulMmslighrYAvAV+LuDqYkJMlYt/AobZcgnGnqVrTLLZ3muHhSnHPShRkKpcTNOeEtX8nuicu\n",
       "Ee1WOlwNhxr5qISP2U7A3VdvZk2iUuaeECjIupOml7KCNZgENonLsR2iWJyj4xdJh1ogJkD8f8jl\n",
       "vnfnXpXLHc9Uqm7NCGgztf18L9Ut5i0t/zFvD0nHFC7Wy225I+5QC0cFiPsaYK87d38SIUcg9b1f\n",
       "OG9xrCp/XYSh/+7Sw5kr5se4cS+cQaA5f4ouVooHdS8fuoPb8hO6Q425BQdx3waVHLJzpilJT07P\n",
       "tNm5s3vbHAQGbOfSxSMjJ9jwKwrzOVSae3W9wC1oTvPIZ7NVbSpPJn0Dv2Dx4xi1v9KqaefgUPNm\n",
       "BYh7KB1mm+I1sItboI4e3Z6b9uJD83LnFYNAYxF3ZTPUUWhR0dcJ5zP2LB4XSOJOuQ45JmaM8//F\n",
       "DpwDLgdmqD3HN/o0HGrBWQHi7jVo+lXgecg7xgZJ2bnfaLmqfw1QivtShrtEJqC1TJ+XO/Cj6Dhg\n",
       "3WImof3J2gf4HrA3HqSTHB3eS8ChpmQFeE2QaGKHJTFeMfQyu/HN2rkHfCx0RU5sb5NJj/FSxkW+\n",
       "FdxVCgbNqGapOsqyNMXbxvI2A+UM3uEdlsWwTVPPynXgQ/jreXRU6nGPDocaLS+Bcz9M3h7J7ya1\n",
       "S0k1a+cebmTPTHpSGzWxysybhpekBwrced77DE9DM84GsyAve9A1dxK0QU8WPHZFzPqFbzd1rTKn\n",
       "pNKou+pv7QqPSlVTzZcS4Nx7uKXu76CGomUgaueufklbGjKSCq9qgo8Czy3FVIF7Fb3zEayHun8s\n",
       "koLCOgMnS3KX0c0792ZWEdlwo2mOv0gHb6cD2QH20NxGjXBNWqqaamak5dw9FF/SUMhUvqbZOnyV\n",
       "HIeZlA7fY0NDL6Ovll1diTobdzan4Bl61pPxGAiyTu/jJbkHxzi0tUbDMtGzb1DEX79ycQ2fzc90\n",
       "qOWBgQec1z+PIwmHWnVcwKqB2YR4UfMKNuCnEjXwAPSgSFHj/A3fFriHWpR0dQw7aMSqJLeZHjvj\n",
       "ndNW1XtUoiCdb+TsiVYdK7KzeESHQ+15CYu7PwqPrmXQ0zX8UqyIu5o9wuL2XtNXcVSZtfnq6G1/\n",
       "bOJGWp18WNiw3VdVA5fNL6PcM29RtR2KNlqqzoKuwP3F9o8Q/Arq7eO1avG6r+2cSaM7aXJvWJWw\n",
       "xcin6mrSOkI6vKtfBbUW9+WtLVT8xy0iuoCrdJf4/jVnqYq1SMm6d97vJi9ZT8uwy+8m7ZMhkZs0\n",
       "PRSz51XcrxlQMngbu0XMZs9cb/gR5pMdmiyMkBJwldeKfeR4vaXqnP887htoXqeOlf3Nx+Kfx1jn\n",
       "qAnQexUbpw11SoIazv3alj50iYVambSUt0u4SKTMnphqkxLzufPV3Bovyz3Alrgp4+QeoPAQTt83\n",
       "zSIv0w6y0OeJT2B9K7OZZxA0Fsx3ghcKp85l4mNpDM/y/LIH71LHsrKruSC/cUQmZhEhUx0Z+f3f\n",
       "9n3mSYrzDa0ZXDC5cNz7mxa/6f0vuS/w/5v+BirUe7Hh2g/3AAAAAElFTkSuQmCC\n",
       "\" style=\"display:inline;vertical-align:middle;\" /></a><br>"
      ],
      "text/plain": [
       "<IPython.core.display.HTML object>"
      ]
     },
     "metadata": {},
     "output_type": "display_data"
    }
   ],
   "source": [
    "unfold_basic_comprehension = \\\n",
    "    Forall((S, Q), \n",
    "    Forall(x, And(InSet(x, S), Qx),\n",
    "        domain=basic_comprehension_y)\n",
    "    )"
   ]
  },
  {
   "cell_type": "code",
   "execution_count": 11,
   "metadata": {},
   "outputs": [],
   "source": [
    "# original, replaced below\n",
    "# maintained here temporarily until replacement verified\n",
    "# in_superset_if_in_comprehension = \\\n",
    "#     Forall(k,\n",
    "#     Forall((S, iter_q1k), \n",
    "#     Forall(x, InSet(x, S), \n",
    "#         domain=basic_comprehension_y)),\n",
    "#         domain=NaturalPos)"
   ]
  },
  {
   "cell_type": "code",
   "execution_count": 12,
   "metadata": {},
   "outputs": [
    {
     "data": {
      "text/html": [
       "<strong id=\"in_superset_if_in_comprehension\"><a class=\"ProveItLink\" href=\"proofs/in_superset_if_in_comprehension/thm_proof.ipynb\">in_superset_if_in_comprehension</a> (conjecture without proof):<br></strong> <a class=\"ProveItLink\" href=\"../__pv_it/theorems/31413caa3afd1754d211111be95bcc9437c515ff0/theorem_expr.ipynb\"><img src=\"data:image/png;base64,iVBORw0KGgoAAAANSUhEUgAAAR4AAAAlBAMAAABmLZs/AAAAMFBMVEX///8AAAAAAAAAAAAAAAAA\n",
       "AAAAAAAAAAAAAAAAAAAAAAAAAAAAAAAAAAAAAAAAAAAv3aB7AAAAD3RSTlMAq1RmmUTNIjK7EInv\n",
       "3XZ/CtNrAAAACXBIWXMAAA7EAAAOxAGVKw4bAAAEM0lEQVRYw+2YXWgUVxTHz87M7szuJmsKRauI\n",
       "BJX4oLahtYG+xC1GIqTUpYVCjR9LfbAtKGOFSiDUSSk+WKtL/YgJWLYiaCiEaFs/QVbFF6WwKAr9\n",
       "WJgYRUpgiRWh5GU95567uzPZvSvCmpSSgZ07e+6c2d+c+z/n3rsA6kMrFFphOo/1hcla3VoTTPdx\n",
       "c5ZnlmeW5//CY6u7zBngiTWr+4Iu84jfXKLiCYi2XlV6ucK+tGvkbRhjnrXUbFPxGAlsQ3Z9cCLJ\n",
       "6vawC0MTEEoLnj4au5SKx6Lw9dQpPIYizh0AehL0uOAhrGizUj+fY3u2TjwNfjEdz93jq39ZPTcF\n",
       "j47QIbWe38I2WSeeFp9+d6SLV08ALAdgK+fXb7ncLTVPQy7310ideLrwMzx6+rIYjS/TJVkVLoj2\n",
       "DPOsAxhU8xgOhNNeo/5zWQ++u5fxKOC7/pKu/jwKQDy2yMhOSaHVhceUMW3MsxNMEm13vt2hzvF8\n",
       "p5cH+3b6HrrfkxeyFS56gr+gKqOKunUb77L1yYCQtUcEkb8LGWxWME84HcVHaS4cpL6PbOi1vfVw\n",
       "EH4t+h2Yf8QnAsnDLj9KYzf6KQR3A2MHBndaKJPc76VIP8XTQebR3BBrn2qfhrE0Ul6e10tvYqyb\n",
       "IkrmkS5rpRHztQYP/pDLMSmXGAxX5B9sN8r5ItmOpzmtYgbZg2OmT3h5Qjo+IPbgq04uoMSzuYmr\n",
       "OvNIl6y0Y+1Q8dym0xY7IuSVLY0WqYLWzSslz1mqMbHCIeqci59oxssTbUH3R4HUJ/KN2iDiTlqZ\n",
       "Mg+7mElp1+IQzFbn+QFgKLEQouJLvqRSii+l8DuSp1e87In11FDmh5q8POZVCmnYdYJChtanYJ7I\n",
       "xlJlHnYJpqQdL2BH9QTDhH5j33vwAY9rsQYbf3Kqi3JAPAHKqzQEaZiuk658eobX6DTHBv2zgYHv\n",
       "oW8BOowE3DIPu9C9wm4hT4tblec7gJN5bQ2DROZvkDzBV18Rprue9UawmSexw7AB7lRZb+wH2+Ky\n",
       "OArQmGhwyjzsQhjCjuNlZrwUB8bvy6tGx1egLxbnC7kAynp4DFxa2JER6N01vLe1gsfMnMO6MljU\n",
       "c6OzxZNf0iUr7THXr2fThXnFUhp/7mxb4vmm6zxY18B8d3SBWRmf97vzaehxJI+25qiHR7r0S3vY\n",
       "LvOs6ojT4ilRfEx/LZ6eyvWhRmGMDyvWh5GLA1wPT8EhX30WLt3SPsT1cLlrQFS8wMCj0hOGavH0\n",
       "V/KQwszHf9Rcr24CWBRM+niEi2GzvZN5Fsf7YBf3tjmesVOvZe1KHqGc7YmaPCEXPhz3z1/scknY\n",
       "aRrbi+kSSIzBxx04XrvBcl/q/uLrKVuC0nAWzybFoxGOwU9keFO++Qzvd2JjE7yduHLl4X9h//UF\n",
       "1iFY2vGiS7mXxvNt++x+edp5ZuD/w2ed4ho0HfJ2HAAAAABJRU5ErkJggg==\n",
       "\" style=\"display:inline;vertical-align:middle;\" /></a><br>"
      ],
      "text/plain": [
       "<IPython.core.display.HTML object>"
      ]
     },
     "metadata": {},
     "output_type": "display_data"
    }
   ],
   "source": [
    "in_superset_if_in_comprehension = \\\n",
    "    Forall((S, Q), \n",
    "    Forall(x, InSet(x, S), \n",
    "        domain=basic_comprehension_y))"
   ]
  },
  {
   "cell_type": "code",
   "execution_count": 13,
   "metadata": {},
   "outputs": [],
   "source": [
    "# original, replaced below\n",
    "# maintained here temporarily until replacement verified\n",
    "# comprehension_is_subset = \\\n",
    "#     Forall(k,\n",
    "#     Forall((S, iter_q1k), \n",
    "#         SubsetEq(basic_comprehension_y, S)),\n",
    "#         domain=NaturalPos)"
   ]
  },
  {
   "cell_type": "code",
   "execution_count": 14,
   "metadata": {},
   "outputs": [
    {
     "data": {
      "text/html": [
       "<strong id=\"comprehension_is_subset\"><a class=\"ProveItLink\" href=\"proofs/comprehension_is_subset/thm_proof.ipynb\">comprehension_is_subset</a> (conjecture without proof):<br></strong> <a class=\"ProveItLink\" href=\"../__pv_it/theorems/8b145ab0fb968752fa785e637a3fdb3e588686420/theorem_expr.ipynb\"><img src=\"data:image/png;base64,iVBORw0KGgoAAAANSUhEUgAAAPQAAAAmBAMAAAAB96vpAAAAMFBMVEX///8AAAAAAAAAAAAAAAAA\n",
       "AAAAAAAAAAAAAAAAAAAAAAAAAAAAAAAAAAAAAAAAAAAv3aB7AAAAD3RSTlMAq1RmmUTNIjK7EInv\n",
       "3XZ/CtNrAAAACXBIWXMAAA7EAAAOxAGVKw4bAAAEbklEQVRYw7VYWWgTQRj+N5tjuzkaCyoVlIDi\n",
       "iyj7ID6ItCkeVIqkXi8KNiri9ZKKCNJqo4j6oLYeVaqoW19EPJr6UJFKKQUPEKUIoi+BgOKB4hEt\n",
       "rQfW+Wd2ZzfpbjYUdiGzs/v/+b9//nNmAUpe3hi4ccm7nHnqwJ3rpOrEISZdghajThwnVJeg4YwT\n",
       "w263kOGWw6I8v12D9jpYPJxxDTowWpre7pqrAS6VJlezJFxvUnYiU8q47UmVD72kNPkHHd9tMN4E\n",
       "G4t5IlrR2UR+UnX5ZmqLAXX3bEuqNDoh1jh0S0OvQifzdBXwsSLqjOlZ1i8SKeE4LMfH7dZ5/42i\n",
       "DVtAB3cATKPe4EVnVzGv+fqYzWZfs+kVkK9iiCfhEHqww5JfSNpByzvJEIqjBEUnLSwBffS9kVXk\n",
       "X4vQSt/AT9wTtG4SoagdtB/fCWiUkMGt2kLLr4x5ZZrFhWcMRKK231rXyowddCKN8zEyzOUkv2IL\n",
       "LZiCs4mwHcdAygM8y2af2kArOrT8VoFuAzrwi5puhAwNnBiM2kKbl9bzJ80sQdKnHuCibfyzeICg\n",
       "ZxBqDWhvngrEBNjKidjlIoOWgg6ZY3d8fDqd/ANohgD6dOOXGlQnMvCW14V2Ct1K1n7YO8zqC4MO\n",
       "03zrQZwXnEgUgEDeErrZ/HDn6l96/0NyUUV5nhy0k2ffdgg85m5BnOZtZFBDOXhuQFfSxdWiPx5y\n",
       "ooRR173FshcUPiaokJ8I6meRKpDbfPJbWbBqaSVWqCZVGjOtGl0qPwIGrRF9qE9fo2WbUgx7o7li\n",
       "GjQka1hIkfocQPm1hQanFWqF5kYGTdJqDXipdV5womd4Qpf1Dbz5QCfb+CsM1jZV8zXcxToUGT+r\n",
       "F5EHPMx4hMNprUYyaCkvHlMepFht0okiqUtBHmanqjsBFjAvEMCpenGfz7JCaxCtVOi1BLmFMJM3\n",
       "8zzIceg6mo88rz8fhN4ZdNbLid6MKbm89TgSRbSivvGyVkhXZWgWahEpYGSr4CMKhhS9aYBeKZm4\n",
       "7oFEygQtVfe/BIluLTkx3Mh4N0UJ3ht9YcVtNL66roqJGNG9EqOFvCLuU8M8JvwdpmrWV9Q0O4HW\n",
       "5XBaJx5gvHLutzQos6bw9ZfivPkiWyUhdZMk1uIPW43AHNShg0l5qAj6tIc2FzGuE5cy3sC14UiH\n",
       "j0HKc77bQhu+OdJwD07EYO+sKSq3kUgVw+gN54RMEXRinBXECxqRdj+sfEJGyIk7u7rOgEzyjknP\n",
       "Zo2mqV1FrR2TaZ2c4w0nr8eDp2Z58S7lJDMD3NCIFajxLQV9HkpLVNE1APttV11Z4AsfZkDbTGOT\n",
       "c46Oe6tM26H0hK2lpil6vqWKer9J6wrk1DTdFrqpIABFGlsvy9662cTP0vNktahi/bJ++31iX2kp\n",
       "PY2TgL4OpDjJ97s6S7MNlSYHJ3Pam+Ur51827dW4nkwCeu2ncrhCTgf3Ra4dPt45MfgVt45cjx0/\n",
       "PLxyCfq284eSfS4d+M6WYZi0O59xMGv/A9ogI5DxqENlAAAAAElFTkSuQmCC\n",
       "\" style=\"display:inline;vertical-align:middle;\" /></a><br>"
      ],
      "text/plain": [
       "<IPython.core.display.HTML object>"
      ]
     },
     "metadata": {},
     "output_type": "display_data"
    }
   ],
   "source": [
    "comprehension_is_subset = \\\n",
    "    Forall((S, Q), SubsetEq(basic_comprehension_y, S))"
   ]
  },
  {
   "cell_type": "code",
   "execution_count": 15,
   "metadata": {},
   "outputs": [
    {
     "data": {
      "text/html": [
       "<strong id=\"subset_via_condition_constraint\"><a class=\"ProveItLink\" href=\"proofs/subset_via_condition_constraint/thm_proof.ipynb\">subset_via_condition_constraint</a> (conjecture without proof):<br></strong> <a class=\"ProveItLink\" href=\"../__pv_it/theorems/32bb6d2745a2a9012460a9c051a8b1d43c73632b0/theorem_expr.ipynb\"><img src=\"data:image/png;base64,iVBORw0KGgoAAAANSUhEUgAAA9gAAABRCAMAAAAeo/7OAAAAPFBMVEX///8AAAAAAAAAAAAAAAAA\n",
       "AAAAAAAAAAAAAAAAAAAAAAAAAAAAAAAAAAAAAAAAAAAAAAAAAAAAAAAAAAAo1xBWAAAAE3RSTlMA\n",
       "q1RmmUTNIjK7EInv3XZAMFB8JI59vgAAAAlwSFlzAAAOxAAADsQBlSsOGwAAE8hJREFUeNrtXYva\n",
       "rKCtVUFRUHpOff93rTeuBog6M/pv4Wt3/4pmAmaRcDGrKHKBSjkMA8vdkMtU5GQLVe6Gf6M0uQty\n",
       "MYWQ3AcZ2Ll8sLBH/PRrgd2OSyn/GnzrDOyHh8E3xsC1fDyw2cC9K8OKxM8BW5Cp1H/LamgZ99im\n",
       "usqh2C/MVFAhSrurK3HrqEIe77FFuZs0TKX8ILD/4EpT1fM4sKkeqJq8kPYDI23aZTg10RK/OXBq\n",
       "+OND8R7SjLwa2LwniTl2q4ZD1mXYff11NKqTe6pDqpvxROjjgV1DyHs3sMuYO2icEVvk3Y7ve8dB\n",
       "vxhtlv3t/pBHgd3xB5hxl4HtqVwnga3eZ15K+3qhY6tDcvVndXu/NyQK7PYBkRwbqwxs551FrWar\n",
       "7Ie59CID7+vm2VkY34ZcuvU7l7LkrQjETfFa3DQgJEKtTYVCcfIAy+iGDGyrVFGHrYBN26dEXP+8\n",
       "wzagapQxKX85zXRlKQs6wI9Ga3G/HhJBmj2w6WCVkT4g9JQZ2NCULgZsVqp/lsHgcCO9Lr8sABqh\n",
       "zvW89C37w/IPNmwY9eDJRzW13g5yEjabKi+WjTBOvEjLruVClOXxUdj5Abfxfdxjz9OF29dfuj4D\n",
       "OzbMQcBenLXYfDtmm74WUhLZwoi5LAAyStTZAV+qL9iZK9bdSAUtxQH557ykVcbeskqFon797Vlt\n",
       "ur2QVkpvRLZr6eJQjxuDJcI3kxSwC970Nx/fqHaz7BcDuxw5CtiV1H/z4HGWVpZdV6vbtTWsiLJM\n",
       "4KoAyKwih/0iUn3B7iLQip2GJuRfK27DBg1H3muIWYjp9ThcAcBVtfP0io3tGXV6cKCvkx6bNeJ2\n",
       "0x+bDGwd7iXWMxvzB9leOQ0NzJRqU1rtwAZDYwaQywKgR8PeIirVE+z2Rrl4066Jy788GeLOQDvD\n",
       "aPY8tNemZL6pWnZrOQ8AW9cSfhbYRgQlU1RAvVEkOMcennB0qfSb/F5gk7FCAltUygDXdzy9dDb9\n",
       "x/Zv1ktfo0i71lppvSwAKJvh7YUmpHqCXWD31eKs2ojOscvQjBq402lYO70Q0jJSCIProluGVD5F\n",
       "HeU8NAkHa9tb8Wqn/x2s2sTwvhfBST2fW1JKkC7usetHnFyqR5GBvZlMIhI3wGZ9qWKuxULZfCLA\n",
       "XjDh9ruV49i5NlBRE7RdFAAGggUsNCXVE+zYJxun+fh66CukcxG5DOEautNtmOyZnLeX7LWvdbOp\n",
       "GltO+82fa2DzLf70aot2+SxC1Zo/gEuQCMblfFGZh9pwCwCbPeSAw9hnYG+vNLXCYt5Y2dqDM1n8\n",
       "yHyJbZtgtfPOeUWXb9xUrTWmewLqSq5xLihA18adwlZptDI1oFohb+P8BhnmcUHEGl3ATQkGSHv9\n",
       "dg1ry06Iod7WsjaQLrpTKadRgFRudDysHzZ5tUrBQX32NOjhQ/9l/oBElNJMrYuhjgK7a59hz50X\n",
       "i78W2GQUaGBrB6OAsTa1rTbTIU23lErFdvVo1VqHkzwB/Ty+BAXo2vjpJi2z8F8AKNV9ZyFgL1Ps\n",
       "aow1uoCbEnMqOwOBGjav9Ulz5wAAR8+xKyDoYpPqjIVq97KAm+YZCKXr6MLUb4U89kPsWXr2/Fpg\n",
       "l2N9GNjKDtt+e6GbjbemT9dwcP1iRCHABJyeALb+FRCga+OhuAbHJpTQmqyfOoJSTXUsFF+m2KKP\n",
       "NbqAmxJR1NcPblhXOudICY0AGxibWde2LeWB2n2BRIzLgFItwNYfoTw80ULrrYu/Fth9suENvE7F\n",
       "+kI02x6ssnETna7fd5cOAuS8AMQFJKBY96ICAlTtLGB5HvpnXdwyQivZqQUvSKpVvWkGAJstE8xy\n",
       "KGoWbPT84/umhNQE9XN+X6s6jk5U2flmxUQzinVNTULvVSUZ4BJhBtBN9dxZUhAzRP8BYBeju2b0\n",
       "VmCnp9gQsBcjo3I+68Ft6DI906ItpWLb1tSwZ4u/qgABajsKFqBqO7Y93/bM/UfLtISWrVrRAaWa\n",
       "ahc0FrBlN4pJUtsswAs0evnxXVOCakL67UG7zKp7Z4WNh+chceRicJ28yWj4dGA3bgj6VmBXY3cC\n",
       "2P5RER2VcjFPZmuwVllmtRcwwUeGBajaTQC09FxBSs37XDUPSbWr7T4I9kew0RXYlJCagAIctVPE\n",
       "5H1mYk32nw5s6h6kfCuwaXLtDPxQ09mHbWUf2WHWtdszK5YcAc0UNA6RIXirXZ+pgVUeQOZyUKwS\n",
       "QSu0q50HwyALNNpRSCsbVnOvAP1LFvN0YBPXVb0V2M2Y3HttoLzi4vD3BeqkNbkoAMx/c1amo1kK\n",
       "2AH5sKET9J3FH8qPJ4ehfziwW3cn+63A7seT+4/86gP8C7/IP9AU9nH539E6l9Cq0ZiBvVtDzCWX\n",
       "v17czYSXApt9LO0yr4MB5Z39wc6p8wSVWZXzwZ4pgzO7fCmwq/HAJ7uxU4OyqUOu/85E93amez1T\n",
       "Tk9pn6FyW+Z8NZvXONIRjbMs/lJgyxF/dr8ksQHC6XkqzDrTvYnunS+7QGDLbhy7cjtx+jCVuzKD\n",
       "egXVgEd26Wz0vBTYYkR/bFfGrF04jl+UrT5ccXei+/1H3DuPvfYB05+GPEdlMbwDt7LbPukOxoQV\n",
       "vifcb3xeCuwSzTFGotbuWmBf1Tp2ujvR/f6QtQ9slRqqUy/uOSq/A9htI9OQEejgRThR6Azsz/BT\n",
       "KWD/CbarDptakvUMDezajstvT3Rf+OxFPrDltoqqM4I+R+VXAJvj2NcHggb24AH7M/xUCth/gu2q\n",
       "wQJ7iJ9ndCzQ/j/3J7rXmXtDwG62b0LVrORBKr8C2CXufE6MXs4bqHsP2J/hp1LA/hNsV8OIWyci\n",
       "CS9mWSAp+6E0lFO3J7rfBXE+sLcp9lAeUvknyflfAWzsONogfRBxtnCXOfZH+Kn0HPsvsF31SGCn\n",
       "CECcjLX2dsP9ie53qwMesOuxk1KUJt0hTuWfJOeX/b+P6xY7ea6Ri1cAsD/CT6WB/RfYrvoR91Ff\n",
       "4nwasw8QO7kx7090rzPdB4AtlqSc1pYxSuXfJOdn479PgcjQq2IN7s5qD+yP8FOZVfE/wHbVj6gl\n",
       "iaGMv5qmdjrW/oHbE937ScR9YDcriEzoglL5N8n5pwGn+eehje64Cnf8GQL2MX4qkQD2H2C7GlHA\n",
       "bhNfirTUbqQzMbw/0b1JxwcDe93w42bfD63y95PzF0IPmVcpkU6cT/0VpxJ2uZvjwssaALbLT4WY\n",
       "IkWB7Unj1GqCFNJJLu1wyWyX9lw0kctgE5O3jqhYr0xO9ewjUs5xqfsT3e9+zQV2vQ5tldkewKr8\n",
       "g+T8xkddpUQ68/yPOJWKBvvZaody7q3zYdN2QMXmpwJizoHOlWTLrw23+z/j/2lFHGkdqVXr6mUH\n",
       "zNkbtrhktpcKcNGEL4PjafrWcfx/jFtJDnW2l3ac0P2J7nWmexjYdLUCMXuDFq3yj5Lzi16H5EEz\n",
       "RlEinXr+R5xKk5yyRnUcQS2f/ccB9n9HjYUmrGZVLh/br8kfkx7bk2Z+TlkJtUzO4pLZ8LFe3oEM\n",
       "vgziMX0rymO36XjdAjZzck59INF9JL89JtG93r4Cgc369T4yAXv7fYzK6OT8kXT9iOT8uluvUiKd\n",
       "e/43nEoL0LvEkdKt53ATR8BjW/xUkJrVVEmXIVZQSofpv3UM2La0qtT5g3TUZp9jtbhkNsxBXDTB\n",
       "yyBq07eigC3TA6UFbGft7COJ7qH89vhE9zrTPQRsMZc1PVGjvr3AqIxPzr//40Byft2tVymRQvRH\n",
       "CfKjn3AqHVmRKHHALvbA1vxU1qTHqFm1Vc2kCr+SHttiu7IjwlKN3aK3/JzmktFwArhogpdhQCZv\n",
       "Ra2Kd+ndVAvY1O38uxPdm0z3gcUzwGCPqvy15PyqW69SIoXoj1LkRz/hVDpQUJPsGgS24qeyJj2W\n",
       "mlU7heJVjQY2s4YYqm/XG2DWxpzFJaO7x6fIcS4nuWQKmM3mBLD7Dg3saa7i7c/cneh+v+iaBPZR\n",
       "lb+XnF9161VOJZ/+SBlPglLpN5xKB4oYTwNb8VNZkx5LzbnfaSE7LLA129WydqaBQvZ3Wlwy1gqL\n",
       "S5HjXE5zycBsNp5zQgCbI86TqyNSQ7f75vHeRPfAgd50ooWDKn8vOb/a5b7KqeTTHynjSVAq/YZT\n",
       "yebibVOrZ/VpYBuoqUmPpeYMbC7UgphIA9uLtTa7oWsmWvt7FYtLZtUOoMgpYOKbUPtgNhtvEQOx\n",
       "Ndgi7lFHpMieSvbeRPdALv40sE+r/OHk/Fy7gIucSj79kTKeBKXSbziVDhSMKU7usY8CW096LDWX\n",
       "SKmuZPzHGez3lmVTsQTojHDZrmeSV3oam0tmubKnyNldjnPJhNhsPBtCnBWvMAtsjJahu+5MdF8A\n",
       "X/oizgA8QmUmSmfx6xynEkh/pIwnQan0G06lAwUTPE5QHmLAtiY9Rs11R16WJ4C9sc4tnnlCgZwP\n",
       "F2vKG4dLZmWC2VHk7C6nuGRgNhsvLEH0FBkfwpD64nKeUwmmP1KsSXFKpd9wKh0pmLwgcpdoITTp\n",
       "0Wq2w/pp9RlgqxUZNQjXVM219p7Ou6IjKzeiRHPJ2Gw2XqGInpJjzpZ5d7nCqQTRH2njiVEq/YhT\n",
       "6RCwEQ+66b6iqZHA3jsE7K7altE0vNhYrv2/B5x7RXPJuJfxXDIxshtMzjORU4/fX85zKkH0R1FO\n",
       "JVP5G06lI6VHfCpJnSj0yznPhJpUmHY3Q4iyJsQEg7+MzsVEEFlKaQb2A8pVSqQT9Ec/4lQ6UgbE\n",
       "RnaX0w/PWwPpwyflmGH1gHKVEol/4xf5b5pigI3IPNFkwgAcE0gGdi5PKRhg95niZ16NSGuLC8Wf\n",
       "R/Fzkt3nJnX1r2Zmn4uhuEtH91ZgD+mzPALToAdS/Jxj97lLXaNtZvaJeOP0khDLNLprnJ1caJOI\n",
       "fexHUvwk2X3mQyCTqk7OsdvUtbTNzD5BYKd7pnbXg98KbJk+oYI5oPJMip8ku49olqaVRscb1TXa\n",
       "voXZ58TMEfHZgnuY8q3ArtP7XRXi5P0zKX4S7D68UZv4vcmDTh6gbQZ2oHDECejSPQH9VmDz9LI4\n",
       "IoHKUyl+4uw+zWCM4Qnq9jwDO2WK6TPmgzsrfCuwp35IqouIfx5K8RNl96FmiiHUn7eq25AM7FTw\n",
       "mFzZ5N7JjNcCW6T98dAcATZI8cPX7DBw+rtoJSrsCAmIsfsw6zQtVbMNhLqXtQ1K0NpmYAfnzyyN\n",
       "/TIDe42bkxaazj6cpPgRK7kF3MvRStTgFBIQY/eh1uiviTYR6l7WNihBa/sGZp9TpcQcp6oysNeZ\n",
       "XbLlJHlCJUXx01YrU0YJfXISrUT1eFBAjN3HmouZ8C2t7mVtwxK0tm9g9jlnq91hc34vsGlyN6tN\n",
       "2Fma4odv2cbnf3Y0WFblORIsW7qveRjY1lyM6OlIWt3L2obVNdq+gdnnRGHptbPWD0DfC+w6vYWQ\n",
       "OhaAoPhZVspnqiCABstUniTBMgL86zGPrX+Hm/NMGHUvaxtS12grmjrDGAodk9CSvhN6L7CLPjmj\n",
       "o9cpfpZJ+Dp33LPl6MqzJFiWdDe4jbD7LPO1JSUXNYwsGHUvaxtS16Q41rOEw+fGPZd29XlodeqU\n",
       "eX8k11SZHkWbvsjA1oNcyj3UyTsSFD8b2lfI+2w5VqUhwTrClWMLcGm7Yuw+8wSDtIwUwmJawqgL\n",
       "aPsZdbW2Oqkl4sPlGGHX5echr4mJJZJ0XecKJhIXGdimv5Lr4gPFAxui+FmT2in+O48tx6ncRGEo\n",
       "cqxLSoBP2xVl95H9nLPQnSZj1N1r+yF1qfB6M7ilhiPsuvw8NDiFbeUIXdfJSDw5fpa7W94M7HTu\n",
       "o2SXJih+ZoMQkq4947PlOJUbCVaMK2fH72ME+LRdMXaf5TMqIZZb2iPqAtp+Rl2trerNECMEkrDr\n",
       "8vPQo0GHfZCu60QZkg6I733Um4GNOIHbCzSwwxQ/ovGmkvarFiq/JQcqg/M97gtwKLAw7D6zj7Fy\n",
       "FCPV9bX9hLpGW9Wba067JSmu3alYwq7Lz0PgKmCZX6PrsieEiKUzloHt9MdVl52i+JnNmPeVixRh\n",
       "2fhWaUiwjnDlWAIc2i4Mu8801bXPkabVBbX9hLpG2603l2S9XM4e3eaGwBJ2XX4eKGv+4L3M79F1\n",
       "BRZlA/6HFhnYzjictMsmfkeK4meYPFO5idCrUWopxFQaEqxDXDmWAJsCC8XuQ8fRWdhOqgtp+wl1\n",
       "LW23c3wLwRXjswJzsv2jhF3e85qSK0HYheDrMjqZim/RdVkOOxkUQQ7q3cCukjq3ffSOFMVPRZTd\n",
       "GBosjQVTaUiwDnHlGAEObReK3acd+uqQupC2n1DXaKuYfTZyrHkMmEL2w4Rd3vOakitB2IXi69pk\n",
       "Wvg5RNd1yvkgvv8gRQa257eSvS7jdzyQ4uccu89d6mptDbPPBoV5TW0hfjtI2OU9rym5EoRdKL6u\n",
       "TeYP6Lr0mJwOxMFTvi8HtkMQGOg2UeTy45ei1vNW94cn7LLJtczzipIrTthlnnf/sUUqmT+g61Kj\n",
       "RfoLw7rnXwb2Uv5Y2qq2T85g8vHlX5c1Oq8o6RobumnCLodcSz+v9qPihF3meZewyxapZf6Arms1\n",
       "T8Rmmb+3WQyjmSt9oHCylL922LdO93uXyfl+/E4Wb8kUt/oRwi5DrqWf15RcUcIu+3l/gq1EGpk/\n",
       "oOtaHkbgmu8QtwKRZDvK5XFLH2xZo1ri0EOEXRa5lno+ytdlap3n3WHG8HUpmb+g68oll3+vTH60\n",
       "JvLA6oaKFMlnnneqtMiDMm25ueSSS3Gc5op/+PkPqHT+oQ+V/wGDuvmQlaCInAAAAABJRU5ErkJg\n",
       "gg==\n",
       "\" style=\"display:inline;vertical-align:middle;\" /></a><br>"
      ],
      "text/plain": [
       "<IPython.core.display.HTML object>"
      ]
     },
     "metadata": {},
     "output_type": "display_data"
    }
   ],
   "source": [
    "subset_via_condition_constraint = \\\n",
    "    Forall(\n",
    "    n, Forall((f, Q, R, S_1_to_n), \n",
    "              Implies(Forall(x_1_to_n, Q__x_1_to_n, domains=[S_1_to_n], condition=R__x_1_to_n),\n",
    "                      SubsetEq(SetOfAll(x_1_to_n, f__x_1_to_n, domains=[S_1_to_n], condition=R__x_1_to_n), \n",
    "                               SetOfAll(y_1_to_n, f__y_1_to_n, domains=[S_1_to_n], condition=Q__y_1_to_n))\n",
    "                      .with_wrap_after_operator())\n",
    "              .with_wrap_after_operator()),\n",
    "    domain=NaturalPos)"
   ]
  },
  {
   "cell_type": "code",
   "execution_count": 16,
   "metadata": {},
   "outputs": [],
   "source": [
    "# original, replaced below\n",
    "# maintained here temporarily until replacement verified\n",
    "# fold_basic_comprehension = \\\n",
    "#     Forall(k,\n",
    "#     Forall((S, iter_q1k), \n",
    "#     Forall(x,\n",
    "#         InSet(x, basic_comprehension_y),\n",
    "#         domain=S, conditions=[iter_q1k_x])))"
   ]
  },
  {
   "cell_type": "code",
   "execution_count": 17,
   "metadata": {},
   "outputs": [
    {
     "data": {
      "text/html": [
       "<strong id=\"fold_basic_comprehension\"><a class=\"ProveItLink\" href=\"proofs/fold_basic_comprehension/thm_proof.ipynb\">fold_basic_comprehension</a> (conjecture without proof):<br></strong> <a class=\"ProveItLink\" href=\"../__pv_it/theorems/abaa9174c7e8c0146558866892a61dafd7e9bfa50/theorem_expr.ipynb\"><img src=\"data:image/png;base64,iVBORw0KGgoAAAANSUhEUgAAAXAAAAAmBAMAAAAvl91SAAAAMFBMVEX///8AAAAAAAAAAAAAAAAA\n",
       "AAAAAAAAAAAAAAAAAAAAAAAAAAAAAAAAAAAAAAAAAAAv3aB7AAAAD3RSTlMAq1RmmUTNIjK7EInv\n",
       "3XZ/CtNrAAAACXBIWXMAAA7EAAAOxAGVKw4bAAAGBUlEQVRYw7WZa2gcVRTHz+7O7szOPrr2g5pW\n",
       "w0JL/aDWBR8fRNqUqE2pmqVqwQa6a4rURoSJFqE0tquIoqRm2zRKK5ZpEbQ0JmnBiLaENeKDiiUo\n",
       "RRBXtjS2tS0xTSyxEYzn3Dvv7ISmyR2Yx+bOzP3dc//ncScA/ltwaioDN7xJaZj/TW1hp8apyZnu\n",
       "Cqbm0scqELHt0vn5pDDwUF4IeCglGrxdFwIOe0SDvyCGG7p1seDBSUHgUkoseKJPELg8IRa8Q5DE\n",
       "AT4QC17jG4mfdlhverNmn17Sqr7gIbHg434N5zbY17GstzVpZK2NuCs1VWdtZ5qDM7glfuABdp59\n",
       "/lQmrsdpLfDta4/yPu40B0A/o1UNl6jj4I/QabMfuESvjmizzxOjPg2xoSrgsecBbmY6srJWi/de\n",
       "O6zkOfhrpLWiH7hCg942e6UE8rMAV7fgIU6GlKy5vc8XPDnKwSMopFjaV+M08mOzB497ZvnPcjnv\n",
       "Cx6hvwWIJ26/QPcDD/7DwUM4yIi/c96L5xuoOha4w/j6izNZvLFA18SzzGqKZPzAlTEjqvxYLv/g\n",
       "Dx4vl3+7gVyygM15z5lPjtNkyi0uqfTUg5qyweVrTLpX8bAWdTOcgYPYlPIDV8cN8AaA/f7gUgGi\n",
       "VaOS5Pp1BztWPDGrLlkrDbm9m1yr7y7DeTm4xEwYoTi0Cf8WLMFKXlwmS1Wx/jPAW0Gm4TeNrKAZ\n",
       "Sw4Ma05wbGt1PRYeOHuBzlHj96WR1dhN1jOYDgIPaaHJAJneIcW2DCjpxyFQtMETLEL2EuVPAK/j\n",
       "UDF7IT7IY1XB/zXAozo9H6xAB2FtBvk7VwLaD5+Zv9+t6QJYDsqoA3y9Bm0azS0blCWqHCEpRuiC\n",
       "9jJuDLX1OZxrOAXxig2+gBl2JY3wGwAdm04B7+RgczXwvw3wYCXC/ZmSzd24r3GBL7d8U2qgI/aS\n",
       "ssGDqASpyJOBEX1ti4PBB4dtz1qDugtPQkfBYXFSk/otcHDI6Qr6aZhG05+dCRzyK7g3YeUgk2uv\n",
       "dIFHQth5cnjHajhr5nLNBt9ZYMkGux5ZjRo75gHPaSo5SMLulbIhzsNlR1TBQLgOJDbPKBV4lGmb\n",
       "LOIpjU2RmhqHY2Sn5FSnmTdOuMBjy7Dr84Fis8qz1F/XeJLg4JTvYiU5D0mtJpKGpZZz0k2Hs7dB\n",
       "jOWMiiuqIPxuB7gyFnorc4JZ4wDuu9ngQkV6cVWRmlEF2tjUH2qk4EcifdYFLn+Fh0y0UghzYHXp\n",
       "FQc4BdJIKlyEEBxQAJ4xH+0l1HveeQxtSVuzC1xKhcedcfzyDji6iF0dZYvsHPYk9TnCoUukshnH\n",
       "IUB60yGMw4lnnPURrw5vZQ6kQWjLvn170LMg5wD/mmShsRvpsbetxEcJ/KORYD2XzMEu3QGuLh6e\n",
       "cIIrNcdPoyfTGp7uHWhE6yey/N6NKaR1iVS56ixrw2lWsETrwnoiU6WsbQdNYSFjnVm6cPC9sAF+\n",
       "BgUfVUroI5ZUIp7qp+lDV8qP5T1lbRecZ37KfLYf91f5vWplUim5RcqVf9JeyQW0IxgKH7ywaXo9\n",
       "Lpf6oY6nqVUAtzjA217ueRNfNwRtsTxG8RErz5RmKLL6oTvtAd8dZEMJ1eGY1EG8quf3yoeGkkW3\n",
       "SPnQLfA31n4O7WnYWnuTrk23+BNNIzpsI3M0PHxcc4DLq84sQku/D9IfAxfpbJa1fmtlihi/w2Lv\n",
       "QqJxitkaX5CoBPqMepWyQKAvUHGLlFfp7hUQ2eEpteKzAlK/2NfliGumyOp6UAnGHZZA1DG/tS42\n",
       "LBnOesF3DYIR8YMrKClEyTrdGdJ6vOAWKS+DXOBh8qCdt+vXtXQzweUrv6Jt+CxIdk2y1++5rQsd\n",
       "5i9MG5dhNVL89oVM9TlwizSnTQMPMbc6DbMChxfJbF+yy/u9S9q5b8H698At0v45LpbdK3SVHR1l\n",
       "ZG92fsA/hk6PSAfFrvJj8/TNszacn+7dQr8dfj8/4E9e8i4K04LBHxD0Ieuc6K+1kYwQbnO1IA5c\n",
       "/UUI+Kfp6wGf0/+AXhHy2bPTSLSivmLTpBYEvFS1ouz/KbecA4s0054AAAAASUVORK5CYII=\n",
       "\" style=\"display:inline;vertical-align:middle;\" /></a><br>"
      ],
      "text/plain": [
       "<IPython.core.display.HTML object>"
      ]
     },
     "metadata": {},
     "output_type": "display_data"
    }
   ],
   "source": [
    "fold_basic_comprehension = \\\n",
    "    Forall((S, Q), \n",
    "    Forall(x,\n",
    "        InSet(x, basic_comprehension_y),\n",
    "        domain=S, conditions=[Qx]))"
   ]
  },
  {
   "cell_type": "code",
   "execution_count": 18,
   "metadata": {},
   "outputs": [
    {
     "name": "stdout",
     "output_type": "stream",
     "text": [
      "These theorems may now be imported from the theory package: proveit.logic.sets.comprehension\n"
     ]
    }
   ],
   "source": [
    "%end theorems"
   ]
  },
  {
   "cell_type": "code",
   "execution_count": null,
   "metadata": {},
   "outputs": [],
   "source": []
  }
 ],
 "metadata": {
  "kernelspec": {
   "display_name": "Python 3",
   "language": "python",
   "name": "python3"
  }
 },
 "nbformat": 4,
 "nbformat_minor": 0
}