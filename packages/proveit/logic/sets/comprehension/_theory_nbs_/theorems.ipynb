{
 "cells": [
  {
   "cell_type": "markdown",
   "metadata": {},
   "source": [
    "Theorems (or conjectures) for the theory of <a class=\"ProveItLink\" href=\"theory.ipynb\">proveit.logic.sets.comprehension</a>\n",
    "========"
   ]
  },
  {
   "cell_type": "code",
   "execution_count": null,
   "metadata": {},
   "outputs": [],
   "source": [
    "import proveit\n",
    "# Prepare this notebook for defining the theorems of a theory:\n",
    "%theorems_notebook # Keep this at the top following 'import proveit'.\n",
    "from proveit.logic import (And, Difference, Implies, Forall, Equals, InSet,\n",
    "                           Not, SetOfAll, Exists, SubsetEq)\n",
    "from proveit import f, n, x, y, A, S, Q, R, fx, Qx, Qy, Rx\n",
    "from proveit.core_expr_types import (x_1_to_n, y_1_to_n, f__x_1_to_n, f__y_1_to_n, \n",
    "                                     Q__x_1_to_n, Q__y_1_to_n, R__x_1_to_n, R__y_1_to_n, S_1_to_n)\n",
    "from proveit.logic.sets import basic_comprehension_y, general_comprehension_fyn\n",
    "from proveit.numbers import NaturalPos\n"
   ]
  },
  {
   "cell_type": "code",
   "execution_count": null,
   "metadata": {},
   "outputs": [],
   "source": [
    "%begin theorems"
   ]
  },
  {
   "cell_type": "code",
   "execution_count": null,
   "metadata": {},
   "outputs": [],
   "source": [
    "# original, replaced below\n",
    "# maintained here temporarily until replacement verified\n",
    "# unfold = Forall((k, l), Forall((S, iter_q1k, f, x), \n",
    "#                                Implies(InSet(x, general_comprehension_fy),\n",
    "#                                        Exists(yy, Equals(x, f_y_iter1l),\n",
    "#                                               domain=Exp(S, l),\n",
    "#                                               conditions=[iter_q1k_y_iter1l])).with_wrap_before_operator()),\n",
    "#                 domains=(Natural, NaturalPos))"
   ]
  },
  {
   "cell_type": "code",
   "execution_count": null,
   "metadata": {},
   "outputs": [],
   "source": [
    "unfold = \\\n",
    "    Forall(n,\n",
    "    Forall((S_1_to_n, Q, f, x),\n",
    "        Implies(\n",
    "            InSet(x, general_comprehension_fyn),\n",
    "            Exists(y_1_to_n, Equals(x, f__y_1_to_n), domains=[S_1_to_n], conditions=[Q__y_1_to_n])\n",
    "        ).with_wrap_before_operator()\n",
    "    ),\n",
    "    domain=NaturalPos\n",
    "    )"
   ]
  },
  {
   "cell_type": "code",
   "execution_count": null,
   "metadata": {},
   "outputs": [],
   "source": [
    "# original, replaced below\n",
    "# maintained here temporarily until replacement verified\n",
    "# fold = Forall((k, l),\n",
    "#               Forall((S, iter_q1k, f, x), \n",
    "#                      Implies(Exists(yy, Equals(x, f_y_iter1l),\n",
    "#               domain=Exp(S, l),\n",
    "#               conditions=[iter_q1k_y_iter1l]),\n",
    "#               InSet(x, general_comprehension_fy)).with_wrap_after_operator()),\n",
    "#        domains=(Natural, NaturalPos))"
   ]
  },
  {
   "cell_type": "code",
   "execution_count": null,
   "metadata": {},
   "outputs": [],
   "source": [
    "fold = \\\n",
    "    Forall(n,\n",
    "    Forall((S_1_to_n, Q, f, x),\n",
    "        Implies(\n",
    "            Exists(y_1_to_n, Equals(x, f__y_1_to_n), domains=[S_1_to_n], conditions=[Q__y_1_to_n]),\n",
    "            InSet(x, general_comprehension_fyn)\n",
    "        ).with_wrap_before_operator()\n",
    "    ),\n",
    "    domain=NaturalPos\n",
    "    )"
   ]
  },
  {
   "cell_type": "code",
   "execution_count": null,
   "metadata": {},
   "outputs": [],
   "source": [
    "# original, replaced below\n",
    "# maintained here temporarily until replacement verified\n",
    "# basic_comprehension = Forall((k, l),\n",
    "#     Forall((S, iter_q1k, x),\n",
    "#            Equals(InSet(x, basic_comprehension_y),\n",
    "#                   And(InSet(x, S), iter_q1k_x)).with_wrap_before_operator()),\n",
    "# domains=(Natural, NaturalPos))"
   ]
  },
  {
   "cell_type": "code",
   "execution_count": null,
   "metadata": {},
   "outputs": [],
   "source": [
    "basic_comprehension = \\\n",
    "    Forall((S, Q, x),\n",
    "        Equals(InSet(x, basic_comprehension_y),\n",
    "               And(InSet(x, S), Qx))\n",
    "    )"
   ]
  },
  {
   "cell_type": "code",
   "execution_count": null,
   "metadata": {},
   "outputs": [],
   "source": [
    "# original, replaced below\n",
    "# maintained here temporarily until replacement verified\n",
    "# unfold_basic_comprehension = Forall(k, Forall((S, iter_q1k), \n",
    "#                                             Forall(x, And(InSet(x, S), iter_q1k_x),\n",
    "#                                                    domain=basic_comprehension_y)),\n",
    "#                                   domain=NaturalPos)"
   ]
  },
  {
   "cell_type": "code",
   "execution_count": null,
   "metadata": {},
   "outputs": [],
   "source": [
    "unfold_basic_comprehension = \\\n",
    "    Forall((S, Q), \n",
    "    Forall(x, And(InSet(x, S), Qx),\n",
    "        domain=basic_comprehension_y)\n",
    "    )"
   ]
  },
  {
   "cell_type": "code",
   "execution_count": null,
   "metadata": {},
   "outputs": [],
   "source": [
    "# original, replaced below\n",
    "# maintained here temporarily until replacement verified\n",
    "# in_superset_if_in_comprehension = \\\n",
    "#     Forall(k,\n",
    "#     Forall((S, iter_q1k), \n",
    "#     Forall(x, InSet(x, S), \n",
    "#         domain=basic_comprehension_y)),\n",
    "#         domain=NaturalPos)"
   ]
  },
  {
   "cell_type": "code",
   "execution_count": null,
   "metadata": {},
   "outputs": [],
   "source": [
    "in_superset_if_in_comprehension = \\\n",
    "    Forall((S, Q), \n",
    "    Forall(x, InSet(x, S), \n",
    "        domain=basic_comprehension_y))"
   ]
  },
  {
   "cell_type": "code",
   "execution_count": null,
   "metadata": {},
   "outputs": [],
   "source": [
    "# original, replaced below\n",
    "# maintained here temporarily until replacement verified\n",
    "# comprehension_is_subset = \\\n",
    "#     Forall(k,\n",
    "#     Forall((S, iter_q1k), \n",
    "#         SubsetEq(basic_comprehension_y, S)),\n",
    "#         domain=NaturalPos)"
   ]
  },
  {
   "cell_type": "code",
   "execution_count": null,
   "metadata": {},
   "outputs": [],
   "source": [
    "comprehension_is_subset = \\\n",
    "    Forall((S, Q), SubsetEq(basic_comprehension_y, S))"
   ]
  },
  {
   "cell_type": "code",
   "execution_count": null,
   "metadata": {},
   "outputs": [],
   "source": [
    "subset_via_condition_constraint = \\\n",
    "    Forall(\n",
    "    n, Forall((f, Q, R, S_1_to_n), \n",
    "              Implies(Forall(x_1_to_n, Q__x_1_to_n, domains=[S_1_to_n], condition=R__x_1_to_n),\n",
    "                      SubsetEq(SetOfAll(x_1_to_n, f__x_1_to_n, domains=[S_1_to_n], condition=R__x_1_to_n), \n",
    "                               SetOfAll(y_1_to_n, f__y_1_to_n, domains=[S_1_to_n], condition=Q__y_1_to_n))\n",
    "                      .with_wrap_after_operator())\n",
    "              .with_wrap_after_operator()),\n",
    "    domain=NaturalPos)"
   ]
  },
  {
   "cell_type": "code",
   "execution_count": null,
   "metadata": {},
   "outputs": [],
   "source": [
    "# original, replaced below\n",
    "# maintained here temporarily until replacement verified\n",
    "# fold_basic_comprehension = \\\n",
    "#     Forall(k,\n",
    "#     Forall((S, iter_q1k), \n",
    "#     Forall(x,\n",
    "#         InSet(x, basic_comprehension_y),\n",
    "#         domain=S, conditions=[iter_q1k_x])))"
   ]
  },
  {
   "cell_type": "code",
   "execution_count": null,
   "metadata": {},
   "outputs": [],
   "source": [
    "fold_basic_comprehension = \\\n",
    "    Forall((S, Q), \n",
    "    Forall(x,\n",
    "        InSet(x, basic_comprehension_y),\n",
    "        domain=S, conditions=[Qx]))"
   ]
  },
  {
   "cell_type": "code",
   "execution_count": null,
   "metadata": {},
   "outputs": [],
   "source": [
    "comprehension_superset_reduction = Forall((A, S, Q),\n",
    "        Implies(\n",
    "        Forall(y, Not(Qy), domain = A),\n",
    "        Equals(basic_comprehension_y,\n",
    "               SetOfAll(y, y, Difference(S, A), conditions=[Qy])))\n",
    "    )"
   ]
  },
  {
   "cell_type": "code",
   "execution_count": null,
   "metadata": {},
   "outputs": [],
   "source": [
    "%end theorems"
   ]
  },
  {
   "cell_type": "code",
   "execution_count": null,
   "metadata": {},
   "outputs": [],
   "source": []
  }
 ],
 "metadata": {
  "kernelspec": {
   "display_name": "Python 3",
   "language": "python",
   "name": "python3"
  }
 },
 "nbformat": 4,
 "nbformat_minor": 0
}
