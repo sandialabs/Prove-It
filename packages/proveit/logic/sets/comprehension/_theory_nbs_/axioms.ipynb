{
 "cells": [
  {
   "cell_type": "markdown",
   "metadata": {},
   "source": [
    "Axioms for the theory of <a class=\"ProveItLink\" href=\"theory.ipynb\">proveit.logic.sets.comprehension</a>\n",
    "========"
   ]
  },
  {
   "cell_type": "code",
   "execution_count": 1,
   "metadata": {},
   "outputs": [
    {
     "name": "stdout",
     "output_type": "stream",
     "text": [
      "Defining axioms for theory 'proveit.logic.sets.comprehension'\n",
      "Subsequent end-of-cell assignments will define axioms\n",
      "%end_axioms will finalize the definitions\n"
     ]
    }
   ],
   "source": [
    "import proveit\n",
    "# Prepare this notebook for defining the axioms of a theory:\n",
    "%axioms_notebook # Keep this at the top following 'import proveit'.\n",
    "from proveit.logic import Forall, And, Equals, InSet, SetOfAll, Exists\n",
    "from proveit import n, x, Q, f, Qy\n",
    "from proveit.core_expr_types import y_1_to_n, f__y_1_to_n, Q__y_1_to_n, S_1_to_n\n",
    "from proveit.logic.sets import general_comprehension_fyn\n",
    "from proveit.numbers import Exp, Natural, NaturalPos\n",
    "%begin axioms"
   ]
  },
  {
   "cell_type": "markdown",
   "metadata": {},
   "source": [
    "**Define general set comprehension any mapping $y \\mapsto f(y)$ applied to the set of elements $y$ of $S$ such that $Q(y)$:**\n",
    "TODO: CHANGE THIS TO A DEFINITION USING UnionOfAll:\n",
    "{f(x) | Q(x)}_{x in S} = Union_{x in S | Q(x)} {f(x)}"
   ]
  },
  {
   "cell_type": "code",
   "execution_count": 2,
   "metadata": {},
   "outputs": [
    {
     "data": {
      "text/html": [
       "<strong id=\"comprehension_def\">comprehension_def:</strong> <a class=\"ProveItLink\" href=\"../__pv_it/axioms/5ad875b2e32506a6898ed251f565063f8710d0040/axiom_expr.ipynb\"><img src=\"data:image/png;base64,iVBORw0KGgoAAAANSUhEUgAAA6IAAABABAMAAADystegAAAAMFBMVEX///8AAAAAAAAAAAAAAAAA\n",
       "AAAAAAAAAAAAAAAAAAAAAAAAAAAAAAAAAAAAAAAAAAAv3aB7AAAAD3RSTlMAq1RmmUTNIjK7EInv\n",
       "3XZ/CtNrAAAACXBIWXMAAA7EAAAOxAGVKw4bAAAQt0lEQVR42u1dD4wU1Rn/bv/c7s7e3p1tYkVb\n",
       "PCKtpApsDdBqDBwBKy1BrlpMASOrprXSNG5bQ6tSbmtMq/HkTi3FM20d/NdYDHdgS1NRvGAojaZ6\n",
       "Wmkp6dVFSJWK5wFSEAvX+b7vvZn35s/O0i03Qu5LZm++ed+8mX2/ee993zfvtwfw0ZFEC4xKVfKE\n",
       "WdPpyeHhYyflvq5w6TNHoapS0jt13VjKf+uHhw9Ug+ihBV87GbfVWND1eGEUqmrlcy59r0B6wYKq\n",
       "EB06OXe1pKjrHeYoUtVKxjVBZXrl3pboEDVecB341ihQ1Tfeiy59y0cA0YRrkI0dHQWqenH7HBea\n",
       "0SPaWdL1XO8oTtVLu2vKyrVGj+h1boRHp9ETmUhdz3/scOSI2rcgZUyQ5eNtipKq4ZLFCpUUa6v2\n",
       "u8URRjTe5zpwU+SI5rpcBw4GBTlfVzvvmzVc8lq5k23zXKSltmrTY0Z4hEm5o5TJpagR7XS1Yfpw\n",
       "gOFkbqvEJvwbq2Wybcy7Eb197no+dkGt1WaaR7iTvu7SG1qjRvRc9zASdJXn+M/6DnwEnqjpmktd\n",
       "iGa/CXAmOf+FWqvN9o8wol90hw5DESNqvO86UFeojOiWhdhHZ9V00Sk6osZN8tlO5GutdsQRfc+N\n",
       "0sGIEY0fcY8armFr78BAQUE0ydFqX00XbTA1ROsRhTr8dg01VzviiE52BX/wh4gRzbgrbdJnyKv/\n",
       "pfdRbrFYTaMj1Oc1ROdjo2Tx0fpMzdWOOKJuPwTmF6NFtMnt6jZhaxuDZ9+zgVy5pfqoG//kqzQ6\n",
       "WrCvmwWG0591zUdUg2yzimjqA5p/Dlkfc61L78nDGmdS0DS/WUMxwGpHHNEe90QxOR8tokvcTms7\n",
       "PnMJ2FWeR4990eUCNJVlb+i9UPWidM1HVIN4QUU0QQFAPfrYN1jHYn0wwz5L13xENcBqG/tGGFFu\n",
       "ELUBm6NFdH6b3yjyeZhhfpza2Qm8OKHfTtNGrgXSLfOgzu7guuYjmkGsT0U0R1NzDx57DeCORL+S\n",
       "5NA1H1ENsNrUgZFG1N0lGvqiRfRmd0S+BFu5JJ3yjgFLEIjUmQz9ZL7rNjDgZWgoG9PE4Efa2vVn\n",
       "B46OZCDhHVIRbaImmIGD1VYA07J6GR4VvZg0Y9MZgXkDNleqXXP9CCPa6vZMjkaL6LGAmV600pP2\n",
       "8TsfUvwjC1H0ejtLK9+VN4daK8wLvvujzjuBpN5HceozyEXcio+UmT6SHpTTIWoJSATPjmigVrux\n",
       "LWJEGw9Eiih7JV5Ek4fh19TaTsF9yqc16uJbuH0AE2VgjdohMSj7CZuL4bFfRdSKW66ExDbgUdca\n",
       "Hay5UFqQ1tSWOlIhwrenTjyJ3wWeH5RWEn/Dym2JBeeJGwPm0dj7kSIacycYoN0a/YxVdX1A80Nj\n",
       "2ZVh4L6bKVO+7T5G1AShXYKIGj5DozSY8oVBfKTjXSqi6QPxn+Sfpab7JT0zlimCY4DQ4iYiavqM\n",
       "5NJg1so9otoswhv39NPFg9PpWeMOFVbuyFQvCpt3v817rU5soHkMH0SKaONxjzdugRU78lhfkkff\n",
       "63VEU4fsOCHRjOkRC1Hj3yA1NOopiEO442hoYEx9AbaJ4EeJR/etADEBrwd8h7wkT4jS+aRhTGJX\n",
       "qddNBo9ek28ocrUUvajxTnpXdxvEytDJyNFnWLnzzGgB2coxqwAm2V7AYic20M45JhClc88LQzTc\n",
       "6sQk4XENMRtnXFEefxGra1aZKqIx/jZp7ELn7DnMfXTAlBqujcvh+jjMX9PLX/qQBql1BcBRMdem\n",
       "IZoes2k7pHHvXrziZitGR0SpItLgXpMrodqcuqXBbf+EJpOrJUQvU77P7BLnouo4CUHfJqzcaR61\n",
       "MyfmiGyZgJltOz39fVggSle5MQzRcKsTTBl5Jqh6Vwyy+BdqFjAhvs0OAqTAiMZMqd2Ke5/1ju3S\n",
       "oK5M3ssP9byuJavgLZqfaejbKGZarsjSUg/ZlWhiG4yFa0S1hGg/JHcJiPg9jzU08rvYLPWosHJb\n",
       "LDfCtoTd9HnQfofLtpM9t/WGyYj+CMe0rjBEw61OMHHmeXeWCArREdFx9eIbT8GGfKqFEc2C0FKt\n",
       "Kevbel+02QYNpURrycnzO4jex3nFeKuFO66+IkRxECXtFvg+V+LOWkiDP8LsNFeLiKYKsK7J7FCc\n",
       "9cbhB8SzhX07rNyRZeBYGtzs730gJ062fc4bEBYZUezD2ZYwRMOtTjC57VkmFg9aOIae6t/kW7RM\n",
       "Ef4B5wAjus7aSLv1rjtNMMreDKA0aIfcHSXnkXQQnT/MTvJqyJXrehlRrIi01IN3fZkrcc1YtsEQ\n",
       "7JjA1eI6uGQX3DYR9tKIcRWbPjK/mdQk2ojy5KTL1HJSk3pvWQhcEzU/I2mM3y/x6HKcf1UebmNE\n",
       "43k1QxOEaLjVCUZTHm/LCEq6oAsw/XJp1QXn7bHu/PabNwMghKS9MjzsEwEoBl+BxqfpcXAjeu8W\n",
       "Gf/GplsNm9r4YZkqIq1heHiIK/HGD2SQbIZ38lztU1YDxayp4RwYm55oQTitu7u7xfKTk0OkphEF\n",
       "Ud4APWo5qWkd0XFAlvyo39TdfT/610ukT9UlRmGXnNsifN0/DQy8FO7rhlrViij8NCh0namODStq\n",
       "uOhbNiSe6DVVrq3a2z8mmnq7NRLnLAjvoZZrwQ6MKo2UojwFHWo5qa5R924gy/hlF/VCmmaTK62R\n",
       "CKZcdYEcdZOHgxG1PKmHwhENtaoZ0UvhlBdryN5htRZCmDHZn6srkmrF12vtcssfU8tRpXKjlz6s\n",
       "P5hgsSxje/EUaveZAJ+ASV05GatnC95UeV4g+h1I+b2O6tURFVYyItZCXr+QmeSdQTFaPuZee9Dj\n",
       "RbSn7ZRHdDXA+IsLBGHqQUTszrm/Awa4CB0tsjxR0spRpfL0Nugoprelt9BAjpZnpdCRxwadM3tT\n",
       "EepKy0BMHg0twYhmTG1pXOr138KlzWoWgxBlKzsiBjXkVeMFxQCuLsJynroecFOheryerc9Td6rJ\n",
       "YjCKmTxBCGu7u0WzooqubYssf6ZRK0eVy2UjQrKXLfsbp1ou3++7V8mgZvci4Sbv8179+bJANFau\n",
       "17IT47JmwvQgylZ2RKyFvKoPqxig35jgGd/jx/ogak1Ap7okinXlqyG9b4OWnUPVGquSpiiv18mb\n",
       "pHK5kEWoo6XRHHtaNV0DF+TJ1jfZZyMKheladuK8cmsWPIiylR0RayGvOj8qBpg955fN417C569x\n",
       "z4rLKyE67dSfSJ9JTvddfooJ3XgV5SyYfjQDLEVyuLFQCdENSy0zyjlTdmLCp1dk4TezX5/dpiGK\n",
       "Vk5ErIW8qmOvGOC6SUpgiwz5W3Vd11fwjOxVQKewGCHHjarPMytfY7nPuxl7HoXl1uBJOWfOTkzI\n",
       "PrLYp48ub1YjZhHyXrnH7c6ggRCMdupJS1Bl+Uy5VAlR468wKlU+Oa9BJUTrrHamnDNnJyZA614f\n",
       "RNHKiZiBQ94+Y8j9aDlvanA5SSc9SxnufU3FStELwDJzFKsq0+J+w5kdj7JgzpmzExNgbb0PonrE\n",
       "LELeYlqfD8mA4mJKGSyCP7O/xH2zw5l4G/wQTZVGsapOHodwRDHnzNmJCZCc5I1H2XOSEbMVBFPI\n",
       "C5k2JzK2PsiA4mJLXf69dT/O4w704Bmpvo3OY5KrRP+tGxgdf4Pk3YGWoKKHSyqinHOm7MRUgF3e\n",
       "nBEjKiNmKwimkBdTSXZkbO2xAcbFlkVq5q6zU7iDaS7rzxWLB+1hNXOkwl3XjwIXLPFA//GNoooo\n",
       "55wxO5H+S9EJKV2IOhFzTGQFzLISGcs9iovRItm6jkyngH2GfDYOnY6IhpFbi7VVnaqM6CvgDVSd\n",
       "7EQFRCliXsT7Nw/3K5Gx2OO4GC1S+3fizv1ngX2GjHIOno6IhpBbayGpJsu8VUD0PxCQeghDVAbB\n",
       "9jDgsyctvt2GO5vL+hlo+mFlROcNDAxsPdUADSa3Mvm1FpIq5Qp2V0I0dawmRGuV5P7wPvrmqYZo\n",
       "MLmVyK+1kVRxzQFugYiKJo0KUVpYd7ohGkxuJfJrbSTVeKvYgmqJH48UUXjjNES0L7AFKVarjaQK\n",
       "L/IWiGjiSLSIzi+edogGk1uZilgbSRX5c7gFIlo/FC2iM/KnHaK4ENsmwGrjIZNf50JN5Nf1vAUi\n",
       "2tQfLaLtrbqOzu3AwKsuRAPpH2XRLULKHTk/+FaErXZDsepDR/tS+O7IJsCq30dwVLCT1UB+ncZb\n",
       "IKKdvdEi2tBfsY9OtJpjiw/9Qy6FSbAaVu50E++SF3tVjbAVq/EaN+8p+vFOgrumnXlpUQiw+uNb\n",
       "ws/XJJtVUiVZq0CV1MivF/IWiOh7pWgRzR6tYtTVhiSN/ZHs5VxG5XJHdAa+TiQRttxyyRshtS1k\n",
       "LHQ1j7wUUiFLnl+lQWHy61bJZpVUSdYqUCU18msnb4GI/hyiRTR1vApEVfqHi/1Bv9MQVu7IZVqv\n",
       "chFJliqI4sruL+m8kzBZqiBqE2A1eU4iKtisEx0fuLNUiSqpkl+v4S0IUWN/xIjCN6qYR3MA1zaL\n",
       "dnexP8j9CCt3pF+x9BBJNjiIEmF0hs47Uc5UxDm4QRl1bQKsNo/y+nd8S+1Dfr0kjPwqqJITeQtC\n",
       "VP6cUHSIziiG99FlYJSP8itYN/tjPH6ElTsjQsGx9BJJxjuI0u9kPavxTpQz1S7hHJSXypQVAqwm\n",
       "3G+RpOpDfqUuXIH8KqmSF/MWhGh9f9SI9vSGI7oQUo/0N3YhRUxhfxBjbCHQB5Xj2hilnJbKLNS/\n",
       "QhdbsuImkix0EG3Au7rO5p3QAhz7GtozYldnXyrbrBJgVdtDdvjhR35FqqRGUKUd20BSJefyFoRo\n",
       "ez5qRAO5aEqmfpzVaXrrynfs1NgfqBKPQJbj2hilnJbK3K0H/81syeOTm0hyt4Jonn5zUvBOxAIc\n",
       "eQ1N7OrsS6X7VQKsenU+FUmqfuRXfGx08iv9iqNtIKiS23kLQvR5iBpR43hYH6W2yrU1lMD6ugr7\n",
       "A1Ue6kQ5ro1RymmpjD7qIuMELYk44iGSKKNupjVp5vKSdyIW4MhraGJX51xqR9DDyxMuk1Q95Fem\n",
       "SlYgvzJVMoV0xv5ARO3mjPA3sPeFI5rDZljCEDrsD1IHgekhVJ5p08pRHVTWyjDjBC2ZOOImkgwq\n",
       "ntG2S96+ASTvRCzAkddwahQH1dPB+SFJl0jyK+bZfcivRJWsRH5lqiTm+XELQNT+VZcIEc2VQxHN\n",
       "FCE262cMocP+IHU1MD2Eyufo5XNkOa+VKTLjBC2ZOOImkqxWopdbxp5hFm3eCS/AkddwahQH1dNB\n",
       "YTPqYpNfVws2K1ElbW4rUSUrkV+ZKnkr8BaAaHtb9IgmD4ciagXvv4IHGEJlfcVO9ldjspzWxjjl\n",
       "qHK5FGSckCUTR1xEEuH7ytzMV63WlbwTXoBjX8OpMeZUZ9jUT8OfBG+TX58UbFY7eeholciv9uNA\n",
       "WwCiZ0D0iOLvGIQgCpfD2GQBVr6kuY+oJoqCHoLluDZGEVRFufgCyDghSyaOqKkkS08UNUTbP2VK\n",
       "3olYgGNfw1lZs8ipLuH0zBBya6r8vzdWY5G3AETjL34UEM2UQxHNmle942uCedd8eLn4utb2DARY\n",
       "2jlciWj9dtB4J3nnTKcxlYNTYUTFH9HlpRNC9CT9JzwjyDesd9brmgEmZpXlSoo0UIRtsXIFYaeP\n",
       "kLz7d19EbxAtV91/wjMWnJz/hAc/gFH5P3UOMd2mFyxY9F+XXu7QwuOWAAAAAABJRU5ErkJggg==\n",
       "\" style=\"display:inline;vertical-align:middle;\" /></a><br>"
      ],
      "text/plain": [
       "<IPython.core.display.HTML object>"
      ]
     },
     "metadata": {},
     "output_type": "display_data"
    }
   ],
   "source": [
    "comprehension_def = Forall(n, \n",
    "                           Forall((S_1_to_n, Q, f, x), \n",
    "                                  Equals(InSet(x, general_comprehension_fyn),\n",
    "                                         Exists(y_1_to_n, Equals(x, f__y_1_to_n), \n",
    "                                                domains=[S_1_to_n], conditions=[Q__y_1_to_n]))\\\n",
    "                                  .with_wrap_before_operator()),\n",
    "                          domain=NaturalPos)"
   ]
  },
  {
   "cell_type": "markdown",
   "metadata": {},
   "source": [
    "NOTE: Comprehension defines a subset of some set $S$, and a \"universal\" set must not be allowed.  Otherwise you could define Russell's set,  $R = \\{x~|~x \\notin x\\}_x$, which results in paradox upon asking whether or not $R \\in R$ (if it is, then it cannot be; if it is not, then it must be).  But if $x \\in S$ can only be true if $S$ is a \"properly\" defined set which cannot contain itself, then Russell's paradox is avoided.  Note that, although using the same notation in formatting, set membership is distinct from class membership, and we *cannot* apply subset comprehension to proper classes."
   ]
  },
  {
   "cell_type": "code",
   "execution_count": 3,
   "metadata": {},
   "outputs": [
    {
     "name": "stdout",
     "output_type": "stream",
     "text": [
      "These axioms may now be imported from the theory package: proveit.logic.sets.comprehension\n"
     ]
    }
   ],
   "source": [
    "%end axioms"
   ]
  },
  {
   "cell_type": "code",
   "execution_count": null,
   "metadata": {},
   "outputs": [],
   "source": []
  }
 ],
 "metadata": {
  "kernelspec": {
   "display_name": "Python 3",
   "language": "python",
   "name": "python3"
  }
 },
 "nbformat": 4,
 "nbformat_minor": 0
}