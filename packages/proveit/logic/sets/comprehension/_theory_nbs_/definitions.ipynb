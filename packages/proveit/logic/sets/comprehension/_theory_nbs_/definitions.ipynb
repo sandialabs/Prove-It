{
 "cells": [
  {
   "cell_type": "markdown",
   "metadata": {},
   "source": [
    "Conservative definitions for the theory of <a class=\"ProveItLink\" href=\"theory.ipynb\">proveit.logic.sets.comprehension</a>\n",
    "========"
   ]
  },
  {
   "cell_type": "code",
   "execution_count": null,
   "metadata": {},
   "outputs": [],
   "source": [
    "import proveit\n",
    "# Prepare this notebook for defining the conservative definitions of a theory:\n",
    "%definitions_notebook # Keep this at the top following 'import proveit'.\n",
    "\n",
    "from proveit.logic import Forall, And, Equals, InSet, SetOfAll, Exists\n",
    "from proveit import n, x, Q, f, Qy\n",
    "from proveit.core_expr_types import y_1_to_n, f__y_1_to_n, Q__y_1_to_n, S_1_to_n\n",
    "from proveit.logic.sets import general_comprehension_fyn\n",
    "from proveit.numbers import Exp, Natural, NaturalPos"
   ]
  },
  {
   "cell_type": "code",
   "execution_count": null,
   "metadata": {},
   "outputs": [],
   "source": [
    "%begin defining_properties"
   ]
  },
  {
   "cell_type": "markdown",
   "metadata": {},
   "source": [
    "**Define general set comprehension any mapping $y \\mapsto f(y)$ applied to the set of elements $y$ of $S$ such that $Q(y)$:**\n",
    "\n",
    "Could define this using UnionOfAll instead."
   ]
  },
  {
   "cell_type": "code",
   "execution_count": null,
   "metadata": {},
   "outputs": [],
   "source": [
    "comprehension_def = Forall(n, \n",
    "                           Forall((S_1_to_n, Q, f, x), \n",
    "                                  Equals(InSet(x, general_comprehension_fyn),\n",
    "                                         Exists(y_1_to_n, Equals(x, f__y_1_to_n), \n",
    "                                                domains=[S_1_to_n], conditions=[Q__y_1_to_n]))\\\n",
    "                                  .with_wrap_before_operator()),\n",
    "                          domain=NaturalPos)"
   ]
  },
  {
   "cell_type": "markdown",
   "metadata": {},
   "source": [
    "NOTE: Comprehension defines a subset of some set $S$, and a \"universal\" set must not be allowed.  Otherwise you could define Russell's set,  $R = \\{x~|~x \\notin x\\}_x$, which results in paradox upon asking whether or not $R \\in R$ (if it is, then it cannot be; if it is not, then it must be).  But if $x \\in S$ can only be true if $S$ is a \"properly\" defined set which cannot contain itself, then Russell's paradox is avoided.  Note that, although using the same notation in formatting, set membership is distinct from class membership, and we *cannot* apply subset comprehension to proper classes."
   ]
  },
  {
   "cell_type": "code",
   "execution_count": null,
   "metadata": {},
   "outputs": [],
   "source": [
    "%end defining_properties"
   ]
  }
 ],
 "metadata": {
  "kernelspec": {
   "display_name": "Python 3 (ipykernel)",
   "language": "python",
   "name": "python3"
  }
 },
 "nbformat": 4,
 "nbformat_minor": 0
}
