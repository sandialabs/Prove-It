{
 "cells": [
  {
   "cell_type": "markdown",
   "metadata": {},
   "source": [
    "Theory of <a class=\"ProveItLink\" href=\"../../../../_theory_nbs_/theory.ipynb\">proveit</a>.<a class=\"ProveItLink\" href=\"../../../_theory_nbs_/theory.ipynb\">logic</a>.<a class=\"ProveItLink\" href=\"../../_theory_nbs_/theory.ipynb\">sets</a>.comprehension\n",
    "========\n",
    "\n",
    "Subset comprehension is a way to define a subset of a set by listing properties/conditions of the elements of the subset.  For example, $\\{x~|~Q(x)\\}_{x \\in S}$, is the subset of $S$ for which every element $x$ satisfies the condition $Q(x)$.  \n",
    "\n",
    "More generally, comprehension may define a set by mapping subset elements via some function.  For example, $\\{f(x)~|~Q(x)\\}_{x \\in S}$ is the set that contains only and all $f(x)$ elements such that $x \\in S$ and $Q(x)$ is `TRUE`.  This furthermore generalizes to mapping any number of elements and specifying any number of conditions.  For example, $\\{f(x, y)~|~Q(x, y), R(x, y)\\}_{x, y \\in S}$ is the set that contains only and all of $f(x, y)$ elements such that $x \\in S$, $y \\in S$, $Q(x, y)$, and $R(x, y)$.  It is also possible not to specify any conditions and simply define a direct map of a set: $\\{f(x)\\}_{x \\in S}$ or $\\{f(x, y)\\}_{x, y \\in S}$.\n",
    "\n",
    "To avoid Russell's paradox (the set of all sets which, paradoxically, do not contain themselves), axioms should not define sets that can contain themselves (making *sub*set comprehension safe).  We can generally *avoid* reflexive membership (a set containing itself) by making sure that sets have well-defined rank (defined as the least ordinal number greater than the rank of any member of the set).  A set with well-defined rank cannot contain itself directly or indirectly; moreover, it may be convenient to prove that this property (having a well-defined rank) holds via induction. An exception may be enumerated sets of classes which Prove-It does not prevent.  These may not have a well-defined rank but are in no danger of containing themselves intrinsically (without  assumptions or axioms).\n",
    "\n",
    "As an obvious corollary, *no* universal set should be defined via axioms."
   ]
  },
  {
   "cell_type": "code",
   "execution_count": null,
   "metadata": {},
   "outputs": [],
   "source": [
    "import proveit\n",
    "%theory"
   ]
  },
  {
   "cell_type": "code",
   "execution_count": null,
   "metadata": {},
   "outputs": [],
   "source": []
  }
 ],
 "metadata": {
  "kernelspec": {
   "display_name": "Python 3",
   "language": "python",
   "name": "python3"
  }
 },
 "nbformat": 4,
 "nbformat_minor": 0
}
