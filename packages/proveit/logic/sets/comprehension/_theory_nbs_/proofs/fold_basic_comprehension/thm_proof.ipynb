{
 "cells": [
  {
   "cell_type": "markdown",
   "metadata": {},
   "source": [
    "Proof of <a class=\"ProveItLink\" href=\"../../../../../../_theory_nbs_/theory.ipynb\">proveit</a>.<a class=\"ProveItLink\" href=\"../../../../../_theory_nbs_/theory.ipynb\">logic</a>.<a class=\"ProveItLink\" href=\"../../../../_theory_nbs_/theory.ipynb\">sets</a>.<a class=\"ProveItLink\" href=\"../../theory.ipynb\">comprehension</a>.<a class=\"ProveItLink\" href=\"../../theorems.ipynb#fold_basic_comprehension\">fold_basic_comprehension</a> theorem\n",
    "========"
   ]
  },
  {
   "cell_type": "code",
   "execution_count": 1,
   "metadata": {},
   "outputs": [],
   "source": [
    "import proveit\n",
    "theory = proveit.Theory() # the theorem's theory"
   ]
  },
  {
   "cell_type": "code",
   "execution_count": 2,
   "metadata": {},
   "outputs": [
    {
     "data": {
      "text/html": [
       "With these <a href=\"allowed_presumptions.txt\">allowed</a>/<a href=\"disallowed_presumptions.txt\">disallowed</a> theorem/theory presumptions (e.g., to avoid circular dependencies), we begin our proof of<br><strong id=\"fold_basic_comprehension\">fold_basic_comprehension:</strong> <a class=\"ProveItLink\" href=\"../../../__pv_it/theorems/456490922281f6a3d27767f20412a4edfda20da10/expr.ipynb\"><img src=\"data:image/png;base64,iVBORw0KGgoAAAANSUhEUgAAAXAAAAAmBAMAAAAvl91SAAAAMFBMVEX///8AAAAAAAAAAAAAAAAA\n",
       "AAAAAAAAAAAAAAAAAAAAAAAAAAAAAAAAAAAAAAAAAAAv3aB7AAAAD3RSTlMAq1RmmUTNIjK7EInv\n",
       "3XZ/CtNrAAAACXBIWXMAAA7EAAAOxAGVKw4bAAAGBUlEQVRYw7WZa2gcVRTHz+7O7szOPrr2g5pW\n",
       "w0JL/aDWBR8fRNqUqE2pmqVqwQa6a4rURoSJFqE0tquIoqRm2zRKK5ZpEbQ0JmnBiLaENeKDiiUo\n",
       "RRBXtjS2tS0xTSyxEYzn3Dvv7ISmyR2Yx+bOzP3dc//ncScA/ltwaioDN7xJaZj/TW1hp8apyZnu\n",
       "Cqbm0scqELHt0vn5pDDwUF4IeCglGrxdFwIOe0SDvyCGG7p1seDBSUHgUkoseKJPELg8IRa8Q5DE\n",
       "AT4QC17jG4mfdlhverNmn17Sqr7gIbHg434N5zbY17GstzVpZK2NuCs1VWdtZ5qDM7glfuABdp59\n",
       "/lQmrsdpLfDta4/yPu40B0A/o1UNl6jj4I/QabMfuESvjmizzxOjPg2xoSrgsecBbmY6srJWi/de\n",
       "O6zkOfhrpLWiH7hCg942e6UE8rMAV7fgIU6GlKy5vc8XPDnKwSMopFjaV+M08mOzB497ZvnPcjnv\n",
       "Cx6hvwWIJ26/QPcDD/7DwUM4yIi/c96L5xuoOha4w/j6izNZvLFA18SzzGqKZPzAlTEjqvxYLv/g\n",
       "Dx4vl3+7gVyygM15z5lPjtNkyi0uqfTUg5qyweVrTLpX8bAWdTOcgYPYlPIDV8cN8AaA/f7gUgGi\n",
       "VaOS5Pp1BztWPDGrLlkrDbm9m1yr7y7DeTm4xEwYoTi0Cf8WLMFKXlwmS1Wx/jPAW0Gm4TeNrKAZ\n",
       "Sw4Ma05wbGt1PRYeOHuBzlHj96WR1dhN1jOYDgIPaaHJAJneIcW2DCjpxyFQtMETLEL2EuVPAK/j\n",
       "UDF7IT7IY1XB/zXAozo9H6xAB2FtBvk7VwLaD5+Zv9+t6QJYDsqoA3y9Bm0azS0blCWqHCEpRuiC\n",
       "9jJuDLX1OZxrOAXxig2+gBl2JY3wGwAdm04B7+RgczXwvw3wYCXC/ZmSzd24r3GBL7d8U2qgI/aS\n",
       "ssGDqASpyJOBEX1ti4PBB4dtz1qDugtPQkfBYXFSk/otcHDI6Qr6aZhG05+dCRzyK7g3YeUgk2uv\n",
       "dIFHQth5cnjHajhr5nLNBt9ZYMkGux5ZjRo75gHPaSo5SMLulbIhzsNlR1TBQLgOJDbPKBV4lGmb\n",
       "LOIpjU2RmhqHY2Sn5FSnmTdOuMBjy7Dr84Fis8qz1F/XeJLg4JTvYiU5D0mtJpKGpZZz0k2Hs7dB\n",
       "jOWMiiuqIPxuB7gyFnorc4JZ4wDuu9ngQkV6cVWRmlEF2tjUH2qk4EcifdYFLn+Fh0y0UghzYHXp\n",
       "FQc4BdJIKlyEEBxQAJ4xH+0l1HveeQxtSVuzC1xKhcedcfzyDji6iF0dZYvsHPYk9TnCoUukshnH\n",
       "IUB60yGMw4lnnPURrw5vZQ6kQWjLvn170LMg5wD/mmShsRvpsbetxEcJ/KORYD2XzMEu3QGuLh6e\n",
       "cIIrNcdPoyfTGp7uHWhE6yey/N6NKaR1iVS56ixrw2lWsETrwnoiU6WsbQdNYSFjnVm6cPC9sAF+\n",
       "BgUfVUroI5ZUIp7qp+lDV8qP5T1lbRecZ37KfLYf91f5vWplUim5RcqVf9JeyQW0IxgKH7ywaXo9\n",
       "Lpf6oY6nqVUAtzjA217ueRNfNwRtsTxG8RErz5RmKLL6oTvtAd8dZEMJ1eGY1EG8quf3yoeGkkW3\n",
       "SPnQLfA31n4O7WnYWnuTrk23+BNNIzpsI3M0PHxcc4DLq84sQku/D9IfAxfpbJa1fmtlihi/w2Lv\n",
       "QqJxitkaX5CoBPqMepWyQKAvUHGLlFfp7hUQ2eEpteKzAlK/2NfliGumyOp6UAnGHZZA1DG/tS42\n",
       "LBnOesF3DYIR8YMrKClEyTrdGdJ6vOAWKS+DXOBh8qCdt+vXtXQzweUrv6Jt+CxIdk2y1++5rQsd\n",
       "5i9MG5dhNVL89oVM9TlwizSnTQMPMbc6DbMChxfJbF+yy/u9S9q5b8H698At0v45LpbdK3SVHR1l\n",
       "ZG92fsA/hk6PSAfFrvJj8/TNszacn+7dQr8dfj8/4E9e8i4K04LBHxD0Ieuc6K+1kYwQbnO1IA5c\n",
       "/UUI+Kfp6wGf0/+AXhHy2bPTSLSivmLTpBYEvFS1ouz/KbecA4s0054AAAAASUVORK5CYII=\n",
       "\" style=\"display:inline;vertical-align:middle;\" /></a><br>(see <a class=\"ProveItLink\" href=\"../../../__pv_it/theorems/abaa9174c7e8c0146558866892a61dafd7e9bfa50/dependencies.ipynb\">dependencies</a>)<br>"
      ],
      "text/plain": [
       "<IPython.core.display.HTML object>"
      ]
     },
     "metadata": {},
     "output_type": "display_data"
    }
   ],
   "source": [
    "%proving fold_basic_comprehension"
   ]
  },
  {
   "cell_type": "code",
   "execution_count": null,
   "metadata": {},
   "outputs": [],
   "source": []
  }
 ],
 "metadata": {
  "kernelspec": {
   "display_name": "Python 3",
   "language": "python",
   "name": "python3"
  }
 },
 "nbformat": 4,
 "nbformat_minor": 0
}