{
 "cells": [
  {
   "cell_type": "markdown",
   "metadata": {},
   "source": [
    "Proof of <a class=\"ProveItLink\" href=\"../../../../../../_theory_nbs_/theory.ipynb\">proveit</a>.<a class=\"ProveItLink\" href=\"../../../../../_theory_nbs_/theory.ipynb\">logic</a>.<a class=\"ProveItLink\" href=\"../../../../_theory_nbs_/theory.ipynb\">sets</a>.<a class=\"ProveItLink\" href=\"../../theory.ipynb\">comprehension</a>.<a class=\"ProveItLink\" href=\"../../theorems.ipynb#subset_via_condition_constraint\">subset_via_condition_constraint</a> theorem\n",
    "========"
   ]
  },
  {
   "cell_type": "code",
   "execution_count": 1,
   "metadata": {},
   "outputs": [],
   "source": [
    "import proveit\n",
    "theory = proveit.Theory() # the theorem's theory"
   ]
  },
  {
   "cell_type": "code",
   "execution_count": 2,
   "metadata": {},
   "outputs": [
    {
     "data": {
      "text/html": [
       "With these <a href=\"allowed_presumptions.txt\">allowed</a>/<a href=\"disallowed_presumptions.txt\">disallowed</a> theorem/theory presumptions (e.g., to avoid circular dependencies), we begin our proof of<br><strong id=\"subset_via_condition_constraint\">subset_via_condition_constraint:</strong> <a class=\"ProveItLink\" href=\"../../../__pv_it/theorems/f2ff24f32dd31cd802701bf7d1d71f70cfe0bad00/expr.ipynb\"><img src=\"data:image/png;base64,iVBORw0KGgoAAAANSUhEUgAAA9gAAABRCAMAAAAeo/7OAAAAPFBMVEX///8AAAAAAAAAAAAAAAAA\n",
       "AAAAAAAAAAAAAAAAAAAAAAAAAAAAAAAAAAAAAAAAAAAAAAAAAAAAAAAAAAAo1xBWAAAAE3RSTlMA\n",
       "q1RmmUTNIjK7EInv3XZAMFB8JI59vgAAAAlwSFlzAAAOxAAADsQBlSsOGwAAE8hJREFUeNrtXYva\n",
       "rKCtVUFRUHpOff93rTeuBog6M/pv4Wt3/4pmAmaRcDGrKHKBSjkMA8vdkMtU5GQLVe6Gf6M0uQty\n",
       "MYWQ3AcZ2Ll8sLBH/PRrgd2OSyn/GnzrDOyHh8E3xsC1fDyw2cC9K8OKxM8BW5Cp1H/LamgZ99im\n",
       "usqh2C/MVFAhSrurK3HrqEIe77FFuZs0TKX8ILD/4EpT1fM4sKkeqJq8kPYDI23aZTg10RK/OXBq\n",
       "+OND8R7SjLwa2LwniTl2q4ZD1mXYff11NKqTe6pDqpvxROjjgV1DyHs3sMuYO2icEVvk3Y7ve8dB\n",
       "vxhtlv3t/pBHgd3xB5hxl4HtqVwnga3eZ15K+3qhY6tDcvVndXu/NyQK7PYBkRwbqwxs551FrWar\n",
       "7Ie59CID7+vm2VkY34ZcuvU7l7LkrQjETfFa3DQgJEKtTYVCcfIAy+iGDGyrVFGHrYBN26dEXP+8\n",
       "wzagapQxKX85zXRlKQs6wI9Ga3G/HhJBmj2w6WCVkT4g9JQZ2NCULgZsVqp/lsHgcCO9Lr8sABqh\n",
       "zvW89C37w/IPNmwY9eDJRzW13g5yEjabKi+WjTBOvEjLruVClOXxUdj5Abfxfdxjz9OF29dfuj4D\n",
       "OzbMQcBenLXYfDtmm74WUhLZwoi5LAAyStTZAV+qL9iZK9bdSAUtxQH557ykVcbeskqFon797Vlt\n",
       "ur2QVkpvRLZr6eJQjxuDJcI3kxSwC970Nx/fqHaz7BcDuxw5CtiV1H/z4HGWVpZdV6vbtTWsiLJM\n",
       "4KoAyKwih/0iUn3B7iLQip2GJuRfK27DBg1H3muIWYjp9ThcAcBVtfP0io3tGXV6cKCvkx6bNeJ2\n",
       "0x+bDGwd7iXWMxvzB9leOQ0NzJRqU1rtwAZDYwaQywKgR8PeIirVE+z2Rrl4066Jy788GeLOQDvD\n",
       "aPY8tNemZL6pWnZrOQ8AW9cSfhbYRgQlU1RAvVEkOMcennB0qfSb/F5gk7FCAltUygDXdzy9dDb9\n",
       "x/Zv1ktfo0i71lppvSwAKJvh7YUmpHqCXWD31eKs2ojOscvQjBq402lYO70Q0jJSCIProluGVD5F\n",
       "HeU8NAkHa9tb8Wqn/x2s2sTwvhfBST2fW1JKkC7usetHnFyqR5GBvZlMIhI3wGZ9qWKuxULZfCLA\n",
       "XjDh9ruV49i5NlBRE7RdFAAGggUsNCXVE+zYJxun+fh66CukcxG5DOEautNtmOyZnLeX7LWvdbOp\n",
       "GltO+82fa2DzLf70aot2+SxC1Zo/gEuQCMblfFGZh9pwCwCbPeSAw9hnYG+vNLXCYt5Y2dqDM1n8\n",
       "yHyJbZtgtfPOeUWXb9xUrTWmewLqSq5xLihA18adwlZptDI1oFohb+P8BhnmcUHEGl3ATQkGSHv9\n",
       "dg1ry06Iod7WsjaQLrpTKadRgFRudDysHzZ5tUrBQX32NOjhQ/9l/oBElNJMrYuhjgK7a59hz50X\n",
       "i78W2GQUaGBrB6OAsTa1rTbTIU23lErFdvVo1VqHkzwB/Ty+BAXo2vjpJi2z8F8AKNV9ZyFgL1Ps\n",
       "aow1uoCbEnMqOwOBGjav9Ulz5wAAR8+xKyDoYpPqjIVq97KAm+YZCKXr6MLUb4U89kPsWXr2/Fpg\n",
       "l2N9GNjKDtt+e6GbjbemT9dwcP1iRCHABJyeALb+FRCga+OhuAbHJpTQmqyfOoJSTXUsFF+m2KKP\n",
       "NbqAmxJR1NcPblhXOudICY0AGxibWde2LeWB2n2BRIzLgFItwNYfoTw80ULrrYu/Fth9suENvE7F\n",
       "+kI02x6ssnETna7fd5cOAuS8AMQFJKBY96ICAlTtLGB5HvpnXdwyQivZqQUvSKpVvWkGAJstE8xy\n",
       "KGoWbPT84/umhNQE9XN+X6s6jk5U2flmxUQzinVNTULvVSUZ4BJhBtBN9dxZUhAzRP8BYBeju2b0\n",
       "VmCnp9gQsBcjo3I+68Ft6DI906ItpWLb1tSwZ4u/qgABajsKFqBqO7Y93/bM/UfLtISWrVrRAaWa\n",
       "ahc0FrBlN4pJUtsswAs0evnxXVOCakL67UG7zKp7Z4WNh+chceRicJ28yWj4dGA3bgj6VmBXY3cC\n",
       "2P5RER2VcjFPZmuwVllmtRcwwUeGBajaTQC09FxBSs37XDUPSbWr7T4I9kew0RXYlJCagAIctVPE\n",
       "5H1mYk32nw5s6h6kfCuwaXLtDPxQ09mHbWUf2WHWtdszK5YcAc0UNA6RIXirXZ+pgVUeQOZyUKwS\n",
       "QSu0q50HwyALNNpRSCsbVnOvAP1LFvN0YBPXVb0V2M2Y3HttoLzi4vD3BeqkNbkoAMx/c1amo1kK\n",
       "2AH5sKET9J3FH8qPJ4ehfziwW3cn+63A7seT+4/86gP8C7/IP9AU9nH539E6l9Cq0ZiBvVtDzCWX\n",
       "v17czYSXApt9LO0yr4MB5Z39wc6p8wSVWZXzwZ4pgzO7fCmwq/HAJ7uxU4OyqUOu/85E93amez1T\n",
       "Tk9pn6FyW+Z8NZvXONIRjbMs/lJgyxF/dr8ksQHC6XkqzDrTvYnunS+7QGDLbhy7cjtx+jCVuzKD\n",
       "egXVgEd26Wz0vBTYYkR/bFfGrF04jl+UrT5ccXei+/1H3DuPvfYB05+GPEdlMbwDt7LbPukOxoQV\n",
       "vifcb3xeCuwSzTFGotbuWmBf1Tp2ujvR/f6QtQ9slRqqUy/uOSq/A9htI9OQEejgRThR6Azsz/BT\n",
       "KWD/CbarDptakvUMDezajstvT3Rf+OxFPrDltoqqM4I+R+VXAJvj2NcHggb24AH7M/xUCth/gu2q\n",
       "wQJ7iJ9ndCzQ/j/3J7rXmXtDwG62b0LVrORBKr8C2CXufE6MXs4bqHsP2J/hp1LA/hNsV8OIWyci\n",
       "CS9mWSAp+6E0lFO3J7rfBXE+sLcp9lAeUvknyflfAWzsONogfRBxtnCXOfZH+Kn0HPsvsF31SGCn\n",
       "CECcjLX2dsP9ie53qwMesOuxk1KUJt0hTuWfJOeX/b+P6xY7ea6Ri1cAsD/CT6WB/RfYrvoR91Ff\n",
       "4nwasw8QO7kx7090rzPdB4AtlqSc1pYxSuXfJOdn479PgcjQq2IN7s5qD+yP8FOZVfE/wHbVj6gl\n",
       "iaGMv5qmdjrW/oHbE937ScR9YDcriEzoglL5N8n5pwGn+eehje64Cnf8GQL2MX4qkQD2H2C7GlHA\n",
       "bhNfirTUbqQzMbw/0b1JxwcDe93w42bfD63y95PzF0IPmVcpkU6cT/0VpxJ2uZvjwssaALbLT4WY\n",
       "IkWB7Unj1GqCFNJJLu1wyWyX9lw0kctgE5O3jqhYr0xO9ewjUs5xqfsT3e9+zQV2vQ5tldkewKr8\n",
       "g+T8xkddpUQ68/yPOJWKBvvZaody7q3zYdN2QMXmpwJizoHOlWTLrw23+z/j/2lFHGkdqVXr6mUH\n",
       "zNkbtrhktpcKcNGEL4PjafrWcfx/jFtJDnW2l3ac0P2J7nWmexjYdLUCMXuDFq3yj5Lzi16H5EEz\n",
       "RlEinXr+R5xKk5yyRnUcQS2f/ccB9n9HjYUmrGZVLh/br8kfkx7bk2Z+TlkJtUzO4pLZ8LFe3oEM\n",
       "vgziMX0rymO36XjdAjZzck59INF9JL89JtG93r4Cgc369T4yAXv7fYzK6OT8kXT9iOT8uluvUiKd\n",
       "e/43nEoL0LvEkdKt53ATR8BjW/xUkJrVVEmXIVZQSofpv3UM2La0qtT5g3TUZp9jtbhkNsxBXDTB\n",
       "yyBq07eigC3TA6UFbGft7COJ7qH89vhE9zrTPQRsMZc1PVGjvr3AqIxPzr//40Byft2tVymRQvRH\n",
       "CfKjn3AqHVmRKHHALvbA1vxU1qTHqFm1Vc2kCr+SHttiu7IjwlKN3aK3/JzmktFwArhogpdhQCZv\n",
       "Ra2Kd+ndVAvY1O38uxPdm0z3gcUzwGCPqvy15PyqW69SIoXoj1LkRz/hVDpQUJPsGgS24qeyJj2W\n",
       "mlU7heJVjQY2s4YYqm/XG2DWxpzFJaO7x6fIcS4nuWQKmM3mBLD7Dg3saa7i7c/cneh+v+iaBPZR\n",
       "lb+XnF9161VOJZ/+SBlPglLpN5xKB4oYTwNb8VNZkx5LzbnfaSE7LLA129WydqaBQvZ3Wlwy1gqL\n",
       "S5HjXE5zycBsNp5zQgCbI86TqyNSQ7f75vHeRPfAgd50ooWDKn8vOb/a5b7KqeTTHynjSVAq/YZT\n",
       "yebibVOrZ/VpYBuoqUmPpeYMbC7UgphIA9uLtTa7oWsmWvt7FYtLZtUOoMgpYOKbUPtgNhtvEQOx\n",
       "Ndgi7lFHpMieSvbeRPdALv40sE+r/OHk/Fy7gIucSj79kTKeBKXSbziVDhSMKU7usY8CW096LDWX\n",
       "SKmuZPzHGez3lmVTsQTojHDZrmeSV3oam0tmubKnyNldjnPJhNhsPBtCnBWvMAtsjJahu+5MdF8A\n",
       "X/oizgA8QmUmSmfx6xynEkh/pIwnQan0G06lAwUTPE5QHmLAtiY9Rs11R16WJ4C9sc4tnnlCgZwP\n",
       "F2vKG4dLZmWC2VHk7C6nuGRgNhsvLEH0FBkfwpD64nKeUwmmP1KsSXFKpd9wKh0pmLwgcpdoITTp\n",
       "0Wq2w/pp9RlgqxUZNQjXVM219p7Ou6IjKzeiRHPJ2Gw2XqGInpJjzpZ5d7nCqQTRH2njiVEq/YhT\n",
       "6RCwEQ+66b6iqZHA3jsE7K7altE0vNhYrv2/B5x7RXPJuJfxXDIxshtMzjORU4/fX85zKkH0R1FO\n",
       "JVP5G06lI6VHfCpJnSj0yznPhJpUmHY3Q4iyJsQEg7+MzsVEEFlKaQb2A8pVSqQT9Ec/4lQ6UgbE\n",
       "RnaX0w/PWwPpwyflmGH1gHKVEol/4xf5b5pigI3IPNFkwgAcE0gGdi5PKRhg95niZ16NSGuLC8Wf\n",
       "R/Fzkt3nJnX1r2Zmn4uhuEtH91ZgD+mzPALToAdS/Jxj97lLXaNtZvaJeOP0khDLNLprnJ1caJOI\n",
       "fexHUvwk2X3mQyCTqk7OsdvUtbTNzD5BYKd7pnbXg98KbJk+oYI5oPJMip8ku49olqaVRscb1TXa\n",
       "voXZ58TMEfHZgnuY8q3ArtP7XRXi5P0zKX4S7D68UZv4vcmDTh6gbQZ2oHDECejSPQH9VmDz9LI4\n",
       "IoHKUyl+4uw+zWCM4Qnq9jwDO2WK6TPmgzsrfCuwp35IqouIfx5K8RNl96FmiiHUn7eq25AM7FTw\n",
       "mFzZ5N7JjNcCW6T98dAcATZI8cPX7DBw+rtoJSrsCAmIsfsw6zQtVbMNhLqXtQ1K0NpmYAfnzyyN\n",
       "/TIDe42bkxaazj6cpPgRK7kF3MvRStTgFBIQY/eh1uiviTYR6l7WNihBa/sGZp9TpcQcp6oysNeZ\n",
       "XbLlJHlCJUXx01YrU0YJfXISrUT1eFBAjN3HmouZ8C2t7mVtwxK0tm9g9jlnq91hc34vsGlyN6tN\n",
       "2Fma4odv2cbnf3Y0WFblORIsW7qveRjY1lyM6OlIWt3L2obVNdq+gdnnRGHptbPWD0DfC+w6vYWQ\n",
       "OhaAoPhZVspnqiCABstUniTBMgL86zGPrX+Hm/NMGHUvaxtS12grmjrDGAodk9CSvhN6L7CLPjmj\n",
       "o9cpfpZJ+Dp33LPl6MqzJFiWdDe4jbD7LPO1JSUXNYwsGHUvaxtS16Q41rOEw+fGPZd29XlodeqU\n",
       "eX8k11SZHkWbvsjA1oNcyj3UyTsSFD8b2lfI+2w5VqUhwTrClWMLcGm7Yuw+8wSDtIwUwmJawqgL\n",
       "aPsZdbW2Oqkl4sPlGGHX5echr4mJJZJ0XecKJhIXGdimv5Lr4gPFAxui+FmT2in+O48tx6ncRGEo\n",
       "cqxLSoBP2xVl95H9nLPQnSZj1N1r+yF1qfB6M7ilhiPsuvw8NDiFbeUIXdfJSDw5fpa7W94M7HTu\n",
       "o2SXJih+ZoMQkq4947PlOJUbCVaMK2fH72ME+LRdMXaf5TMqIZZb2iPqAtp+Rl2trerNECMEkrDr\n",
       "8vPQo0GHfZCu60QZkg6I733Um4GNOIHbCzSwwxQ/ovGmkvarFiq/JQcqg/M97gtwKLAw7D6zj7Fy\n",
       "FCPV9bX9hLpGW9Wba067JSmu3alYwq7Lz0PgKmCZX6PrsieEiKUzloHt9MdVl52i+JnNmPeVixRh\n",
       "2fhWaUiwjnDlWAIc2i4Mu8801bXPkabVBbX9hLpG2603l2S9XM4e3eaGwBJ2XX4eKGv+4L3M79F1\n",
       "BRZlA/6HFhnYzjictMsmfkeK4meYPFO5idCrUWopxFQaEqxDXDmWAJsCC8XuQ8fRWdhOqgtp+wl1\n",
       "LW23c3wLwRXjswJzsv2jhF3e85qSK0HYheDrMjqZim/RdVkOOxkUQQ7q3cCukjq3ffSOFMVPRZTd\n",
       "GBosjQVTaUiwDnHlGAEObReK3acd+uqQupC2n1DXaKuYfTZyrHkMmEL2w4Rd3vOakitB2IXi69pk\n",
       "Wvg5RNd1yvkgvv8gRQa257eSvS7jdzyQ4uccu89d6mptDbPPBoV5TW0hfjtI2OU9rym5EoRdKL6u\n",
       "TeYP6Lr0mJwOxMFTvi8HtkMQGOg2UeTy45ei1vNW94cn7LLJtczzipIrTthlnnf/sUUqmT+g61Kj\n",
       "RfoLw7rnXwb2Uv5Y2qq2T85g8vHlX5c1Oq8o6RobumnCLodcSz+v9qPihF3meZewyxapZf6Arms1\n",
       "T8Rmmb+3WQyjmSt9oHCylL922LdO93uXyfl+/E4Wb8kUt/oRwi5DrqWf15RcUcIu+3l/gq1EGpk/\n",
       "oOtaHkbgmu8QtwKRZDvK5XFLH2xZo1ri0EOEXRa5lno+ytdlap3n3WHG8HUpmb+g68oll3+vTH60\n",
       "JvLA6oaKFMlnnneqtMiDMm25ueSSS3Gc5op/+PkPqHT+oQ+V/wGDuvmQlaCInAAAAABJRU5ErkJg\n",
       "gg==\n",
       "\" style=\"display:inline;vertical-align:middle;\" /></a><br>(see <a class=\"ProveItLink\" href=\"../../../__pv_it/theorems/32bb6d2745a2a9012460a9c051a8b1d43c73632b0/dependencies.ipynb\">dependencies</a>)<br>"
      ],
      "text/plain": [
       "<IPython.core.display.HTML object>"
      ]
     },
     "metadata": {},
     "output_type": "display_data"
    }
   ],
   "source": [
    "%proving subset_via_condition_constraint"
   ]
  },
  {
   "cell_type": "code",
   "execution_count": null,
   "metadata": {},
   "outputs": [],
   "source": []
  }
 ],
 "metadata": {
  "kernelspec": {
   "display_name": "Python 3",
   "language": "python",
   "name": "python3"
  }
 },
 "nbformat": 4,
 "nbformat_minor": 0
}