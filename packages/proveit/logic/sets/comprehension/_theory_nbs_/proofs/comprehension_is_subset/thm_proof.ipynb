{
 "cells": [
  {
   "cell_type": "markdown",
   "metadata": {},
   "source": [
    "Proof of <a class=\"ProveItLink\" href=\"../../../../../../_theory_nbs_/theory.ipynb\">proveit</a>.<a class=\"ProveItLink\" href=\"../../../../../_theory_nbs_/theory.ipynb\">logic</a>.<a class=\"ProveItLink\" href=\"../../../../_theory_nbs_/theory.ipynb\">sets</a>.<a class=\"ProveItLink\" href=\"../../theory.ipynb\">comprehension</a>.<a class=\"ProveItLink\" href=\"../../theorems.ipynb#comprehension_is_subset\">comprehension_is_subset</a> theorem\n",
    "========"
   ]
  },
  {
   "cell_type": "code",
   "execution_count": 1,
   "metadata": {},
   "outputs": [],
   "source": [
    "import proveit\n",
    "theory = proveit.Theory() # the theorem's theory"
   ]
  },
  {
   "cell_type": "code",
   "execution_count": 2,
   "metadata": {},
   "outputs": [
    {
     "data": {
      "text/html": [
       "With these <a href=\"allowed_presumptions.txt\">allowed</a>/<a href=\"disallowed_presumptions.txt\">disallowed</a> theorem/theory presumptions (e.g., to avoid circular dependencies), we begin our proof of<br><strong id=\"comprehension_is_subset\">comprehension_is_subset:</strong> <a class=\"ProveItLink\" href=\"../../../__pv_it/theorems/fc54189e83e2635a1ea6081f4cd98607cd43806e0/expr.ipynb\"><img src=\"data:image/png;base64,iVBORw0KGgoAAAANSUhEUgAAAPQAAAAmBAMAAAAB96vpAAAAMFBMVEX///8AAAAAAAAAAAAAAAAA\n",
       "AAAAAAAAAAAAAAAAAAAAAAAAAAAAAAAAAAAAAAAAAAAv3aB7AAAAD3RSTlMAq1RmmUTNIjK7EInv\n",
       "3XZ/CtNrAAAACXBIWXMAAA7EAAAOxAGVKw4bAAAEbklEQVRYw7VYWWgTQRj+N5tjuzkaCyoVlIDi\n",
       "iyj7ID6ItCkeVIqkXi8KNiri9ZKKCNJqo4j6oLYeVaqoW19EPJr6UJFKKQUPEKUIoi+BgOKB4hEt\n",
       "rQfW+Wd2ZzfpbjYUdiGzs/v/+b9//nNmAUpe3hi4ccm7nHnqwJ3rpOrEISZdghajThwnVJeg4YwT\n",
       "w263kOGWw6I8v12D9jpYPJxxDTowWpre7pqrAS6VJlezJFxvUnYiU8q47UmVD72kNPkHHd9tMN4E\n",
       "G4t5IlrR2UR+UnX5ZmqLAXX3bEuqNDoh1jh0S0OvQifzdBXwsSLqjOlZ1i8SKeE4LMfH7dZ5/42i\n",
       "DVtAB3cATKPe4EVnVzGv+fqYzWZfs+kVkK9iiCfhEHqww5JfSNpByzvJEIqjBEUnLSwBffS9kVXk\n",
       "X4vQSt/AT9wTtG4SoagdtB/fCWiUkMGt2kLLr4x5ZZrFhWcMRKK231rXyowddCKN8zEyzOUkv2IL\n",
       "LZiCs4mwHcdAygM8y2af2kArOrT8VoFuAzrwi5puhAwNnBiM2kKbl9bzJ80sQdKnHuCibfyzeICg\n",
       "ZxBqDWhvngrEBNjKidjlIoOWgg6ZY3d8fDqd/ANohgD6dOOXGlQnMvCW14V2Ct1K1n7YO8zqC4MO\n",
       "03zrQZwXnEgUgEDeErrZ/HDn6l96/0NyUUV5nhy0k2ffdgg85m5BnOZtZFBDOXhuQFfSxdWiPx5y\n",
       "ooRR173FshcUPiaokJ8I6meRKpDbfPJbWbBqaSVWqCZVGjOtGl0qPwIGrRF9qE9fo2WbUgx7o7li\n",
       "GjQka1hIkfocQPm1hQanFWqF5kYGTdJqDXipdV5womd4Qpf1Dbz5QCfb+CsM1jZV8zXcxToUGT+r\n",
       "F5EHPMx4hMNprUYyaCkvHlMepFht0okiqUtBHmanqjsBFjAvEMCpenGfz7JCaxCtVOi1BLmFMJM3\n",
       "8zzIceg6mo88rz8fhN4ZdNbLid6MKbm89TgSRbSivvGyVkhXZWgWahEpYGSr4CMKhhS9aYBeKZm4\n",
       "7oFEygQtVfe/BIluLTkx3Mh4N0UJ3ht9YcVtNL66roqJGNG9EqOFvCLuU8M8JvwdpmrWV9Q0O4HW\n",
       "5XBaJx5gvHLutzQos6bw9ZfivPkiWyUhdZMk1uIPW43AHNShg0l5qAj6tIc2FzGuE5cy3sC14UiH\n",
       "j0HKc77bQhu+OdJwD07EYO+sKSq3kUgVw+gN54RMEXRinBXECxqRdj+sfEJGyIk7u7rOgEzyjknP\n",
       "Zo2mqV1FrR2TaZ2c4w0nr8eDp2Z58S7lJDMD3NCIFajxLQV9HkpLVNE1APttV11Z4AsfZkDbTGOT\n",
       "c46Oe6tM26H0hK2lpil6vqWKer9J6wrk1DTdFrqpIABFGlsvy9662cTP0vNktahi/bJ++31iX2kp\n",
       "PY2TgL4OpDjJ97s6S7MNlSYHJ3Pam+Ur51827dW4nkwCeu2ncrhCTgf3Ra4dPt45MfgVt45cjx0/\n",
       "PLxyCfq284eSfS4d+M6WYZi0O59xMGv/A9ogI5DxqENlAAAAAElFTkSuQmCC\n",
       "\" style=\"display:inline;vertical-align:middle;\" /></a><br>(see <a class=\"ProveItLink\" href=\"../../../__pv_it/theorems/8b145ab0fb968752fa785e637a3fdb3e588686420/dependencies.ipynb\">dependencies</a>)<br>"
      ],
      "text/plain": [
       "<IPython.core.display.HTML object>"
      ]
     },
     "metadata": {},
     "output_type": "display_data"
    }
   ],
   "source": [
    "%proving comprehension_is_subset"
   ]
  },
  {
   "cell_type": "code",
   "execution_count": null,
   "metadata": {},
   "outputs": [],
   "source": []
  }
 ],
 "metadata": {
  "kernelspec": {
   "display_name": "Python 3",
   "language": "python",
   "name": "python3"
  }
 },
 "nbformat": 4,
 "nbformat_minor": 0
}