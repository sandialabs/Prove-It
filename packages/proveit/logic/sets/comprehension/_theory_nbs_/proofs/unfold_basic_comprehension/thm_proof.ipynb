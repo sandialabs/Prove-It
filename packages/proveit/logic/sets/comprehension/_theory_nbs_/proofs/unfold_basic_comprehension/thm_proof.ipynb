{
 "cells": [
  {
   "cell_type": "markdown",
   "metadata": {},
   "source": [
    "Proof of <a class=\"ProveItLink\" href=\"../../../../../../_theory_nbs_/theory.ipynb\">proveit</a>.<a class=\"ProveItLink\" href=\"../../../../../_theory_nbs_/theory.ipynb\">logic</a>.<a class=\"ProveItLink\" href=\"../../../../_theory_nbs_/theory.ipynb\">sets</a>.<a class=\"ProveItLink\" href=\"../../theory.ipynb\">comprehension</a>.<a class=\"ProveItLink\" href=\"../../theorems.ipynb#unfold_basic_comprehension\">unfold_basic_comprehension</a> theorem\n",
    "========"
   ]
  },
  {
   "cell_type": "code",
   "execution_count": 1,
   "metadata": {},
   "outputs": [],
   "source": [
    "import proveit\n",
    "theory = proveit.Theory() # the theorem's theory"
   ]
  },
  {
   "cell_type": "code",
   "execution_count": 2,
   "metadata": {},
   "outputs": [
    {
     "data": {
      "text/html": [
       "With these <a href=\"allowed_presumptions.txt\">allowed</a>/<a href=\"disallowed_presumptions.txt\">disallowed</a> theorem/theory presumptions (e.g., to avoid circular dependencies), we begin our proof of<br><strong id=\"unfold_basic_comprehension\">unfold_basic_comprehension:</strong> <a class=\"ProveItLink\" href=\"../../../__pv_it/theorems/96f69805ba022a86121dfe9b3e67b3e74c83b8db0/expr.ipynb\"><img src=\"data:image/png;base64,iVBORw0KGgoAAAANSUhEUgAAAXUAAAAlBAMAAABPKmS4AAAAMFBMVEX///8AAAAAAAAAAAAAAAAA\n",
       "AAAAAAAAAAAAAAAAAAAAAAAAAAAAAAAAAAAAAAAAAAAv3aB7AAAAD3RSTlMAq1RmmUTNIjK7EInv\n",
       "3XZ/CtNrAAAACXBIWXMAAA7EAAAOxAGVKw4bAAAFjklEQVRYw+1ZbWgcRRh+7mNv7/aS6wW/I8ao\n",
       "IX+0etS2Wn8kkUZTjTYHSqGNH2f7o1qobo2okdhcRISS0B7WaFMRrkWUqg3XqlVR4/kBEUUJiFBq\n",
       "DzemEtNASC3SUArnvDOze7u52+ufq0TNC8/O7uy+s8/MvF+3B5SRm/KnsUDFn8+nyz5wDRawVC1y\n",
       "X+S+yH2R+3+MuypR5vb57ukS/zj33yRcRDHKq5I8JEHco9Re58bdQ403ViHq3oxAKWloz6zARNFq\n",
       "f/DpRZYql0hMgLjfQR2b3bj746wJ6BXi/pZECQkZODCLgLSDcL3sPpKEJwGH2hYJxr2PZpdy4x6k\n",
       "bemulMmslighrYAvAV+LuDqYkJMlYt/AobZcgnGnqVrTLLZ3muHhSnHPShRkKpcTNOeEtX8nuicu\n",
       "Ee1WOlwNhxr5qISP2U7A3VdvZk2iUuaeECjIupOml7KCNZgENonLsR2iWJyj4xdJh1ogJkD8f8jl\n",
       "vnfnXpXLHc9Uqm7NCGgztf18L9Ut5i0t/zFvD0nHFC7Wy225I+5QC0cFiPsaYK87d38SIUcg9b1f\n",
       "OG9xrCp/XYSh/+7Sw5kr5se4cS+cQaA5f4ouVooHdS8fuoPb8hO6Q425BQdx3waVHLJzpilJT07P\n",
       "tNm5s3vbHAQGbOfSxSMjJ9jwKwrzOVSae3W9wC1oTvPIZ7NVbSpPJn0Dv2Dx4xi1v9KqaefgUPNm\n",
       "BYh7KB1mm+I1sItboI4e3Z6b9uJD83LnFYNAYxF3ZTPUUWhR0dcJ5zP2LB4XSOJOuQ45JmaM8//F\n",
       "DpwDLgdmqD3HN/o0HGrBWQHi7jVo+lXgecg7xgZJ2bnfaLmqfw1QivtShrtEJqC1TJ+XO/Cj6Dhg\n",
       "3WImof3J2gf4HrA3HqSTHB3eS8ChpmQFeE2QaGKHJTFeMfQyu/HN2rkHfCx0RU5sb5NJj/FSxkW+\n",
       "FdxVCgbNqGapOsqyNMXbxvI2A+UM3uEdlsWwTVPPynXgQ/jreXRU6nGPDocaLS+Bcz9M3h7J7ya1\n",
       "S0k1a+cebmTPTHpSGzWxysybhpekBwrced77DE9DM84GsyAve9A1dxK0QU8WPHZFzPqFbzd1rTKn\n",
       "pNKou+pv7QqPSlVTzZcS4Nx7uKXu76CGomUgaueufklbGjKSCq9qgo8Czy3FVIF7Fb3zEayHun8s\n",
       "koLCOgMnS3KX0c0792ZWEdlwo2mOv0gHb6cD2QH20NxGjXBNWqqaamak5dw9FF/SUMhUvqbZOnyV\n",
       "HIeZlA7fY0NDL6Ovll1diTobdzan4Bl61pPxGAiyTu/jJbkHxzi0tUbDMtGzb1DEX79ycQ2fzc90\n",
       "qOWBgQec1z+PIwmHWnVcwKqB2YR4UfMKNuCnEjXwAPSgSFHj/A3fFriHWpR0dQw7aMSqJLeZHjvj\n",
       "ndNW1XtUoiCdb+TsiVYdK7KzeESHQ+15CYu7PwqPrmXQ0zX8UqyIu5o9wuL2XtNXcVSZtfnq6G1/\n",
       "bOJGWp18WNiw3VdVA5fNL6PcM29RtR2KNlqqzoKuwP3F9o8Q/Arq7eO1avG6r+2cSaM7aXJvWJWw\n",
       "xcin6mrSOkI6vKtfBbUW9+WtLVT8xy0iuoCrdJf4/jVnqYq1SMm6d97vJi9ZT8uwy+8m7ZMhkZs0\n",
       "PRSz51XcrxlQMngbu0XMZs9cb/gR5pMdmiyMkBJwldeKfeR4vaXqnP887htoXqeOlf3Nx+Kfx1jn\n",
       "qAnQexUbpw11SoIazv3alj50iYVambSUt0u4SKTMnphqkxLzufPV3Bovyz3Alrgp4+QeoPAQTt83\n",
       "zSIv0w6y0OeJT2B9K7OZZxA0Fsx3ghcKp85l4mNpDM/y/LIH71LHsrKruSC/cUQmZhEhUx0Z+f3f\n",
       "9n3mSYrzDa0ZXDC5cNz7mxa/6f0vuS/w/5v+BirUe7Hh2g/3AAAAAElFTkSuQmCC\n",
       "\" style=\"display:inline;vertical-align:middle;\" /></a><br>(see <a class=\"ProveItLink\" href=\"../../../__pv_it/theorems/cfd8216527ef804509eb58f3863155b01868617a0/dependencies.ipynb\">dependencies</a>)<br>"
      ],
      "text/plain": [
       "<IPython.core.display.HTML object>"
      ]
     },
     "metadata": {},
     "output_type": "display_data"
    }
   ],
   "source": [
    "%proving unfold_basic_comprehension"
   ]
  },
  {
   "cell_type": "code",
   "execution_count": null,
   "metadata": {},
   "outputs": [],
   "source": []
  }
 ],
 "metadata": {
  "kernelspec": {
   "display_name": "Python 3",
   "language": "python",
   "name": "python3"
  }
 },
 "nbformat": 4,
 "nbformat_minor": 0
}