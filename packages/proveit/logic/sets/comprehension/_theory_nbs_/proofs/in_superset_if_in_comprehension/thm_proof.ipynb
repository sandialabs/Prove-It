{
 "cells": [
  {
   "cell_type": "markdown",
   "metadata": {},
   "source": [
    "Proof of <a class=\"ProveItLink\" href=\"../../../../../../_theory_nbs_/theory.ipynb\">proveit</a>.<a class=\"ProveItLink\" href=\"../../../../../_theory_nbs_/theory.ipynb\">logic</a>.<a class=\"ProveItLink\" href=\"../../../../_theory_nbs_/theory.ipynb\">sets</a>.<a class=\"ProveItLink\" href=\"../../theory.ipynb\">comprehension</a>.<a class=\"ProveItLink\" href=\"../../theorems.ipynb#in_superset_if_in_comprehension\">in_superset_if_in_comprehension</a> theorem\n",
    "========"
   ]
  },
  {
   "cell_type": "code",
   "execution_count": 1,
   "metadata": {},
   "outputs": [],
   "source": [
    "import proveit\n",
    "theory = proveit.Theory() # the theorem's theory"
   ]
  },
  {
   "cell_type": "code",
   "execution_count": 2,
   "metadata": {},
   "outputs": [
    {
     "data": {
      "text/html": [
       "With these <a href=\"allowed_presumptions.txt\">allowed</a>/<a href=\"disallowed_presumptions.txt\">disallowed</a> theorem/theory presumptions (e.g., to avoid circular dependencies), we begin our proof of<br><strong id=\"in_superset_if_in_comprehension\">in_superset_if_in_comprehension:</strong> <a class=\"ProveItLink\" href=\"../../../__pv_it/theorems/1d62ab5f1bd05d0ac18bce5b1178a90f0223c6d10/expr.ipynb\"><img src=\"data:image/png;base64,iVBORw0KGgoAAAANSUhEUgAAAR4AAAAlBAMAAABmLZs/AAAAMFBMVEX///8AAAAAAAAAAAAAAAAA\n",
       "AAAAAAAAAAAAAAAAAAAAAAAAAAAAAAAAAAAAAAAAAAAv3aB7AAAAD3RSTlMAq1RmmUTNIjK7EInv\n",
       "3XZ/CtNrAAAACXBIWXMAAA7EAAAOxAGVKw4bAAAEM0lEQVRYw+2YXWgUVxTHz87M7szuJmsKRauI\n",
       "BJX4oLahtYG+xC1GIqTUpYVCjR9LfbAtKGOFSiDUSSk+WKtL/YgJWLYiaCiEaFs/QVbFF6WwKAr9\n",
       "WJgYRUpgiRWh5GU95567uzPZvSvCmpSSgZ07e+6c2d+c+z/n3rsA6kMrFFphOo/1hcla3VoTTPdx\n",
       "c5ZnlmeW5//CY6u7zBngiTWr+4Iu84jfXKLiCYi2XlV6ucK+tGvkbRhjnrXUbFPxGAlsQ3Z9cCLJ\n",
       "6vawC0MTEEoLnj4au5SKx6Lw9dQpPIYizh0AehL0uOAhrGizUj+fY3u2TjwNfjEdz93jq39ZPTcF\n",
       "j47QIbWe38I2WSeeFp9+d6SLV08ALAdgK+fXb7ncLTVPQy7310ideLrwMzx6+rIYjS/TJVkVLoj2\n",
       "DPOsAxhU8xgOhNNeo/5zWQ++u5fxKOC7/pKu/jwKQDy2yMhOSaHVhceUMW3MsxNMEm13vt2hzvF8\n",
       "p5cH+3b6HrrfkxeyFS56gr+gKqOKunUb77L1yYCQtUcEkb8LGWxWME84HcVHaS4cpL6PbOi1vfVw\n",
       "EH4t+h2Yf8QnAsnDLj9KYzf6KQR3A2MHBndaKJPc76VIP8XTQebR3BBrn2qfhrE0Ul6e10tvYqyb\n",
       "IkrmkS5rpRHztQYP/pDLMSmXGAxX5B9sN8r5ItmOpzmtYgbZg2OmT3h5Qjo+IPbgq04uoMSzuYmr\n",
       "OvNIl6y0Y+1Q8dym0xY7IuSVLY0WqYLWzSslz1mqMbHCIeqci59oxssTbUH3R4HUJ/KN2iDiTlqZ\n",
       "Mg+7mElp1+IQzFbn+QFgKLEQouJLvqRSii+l8DuSp1e87In11FDmh5q8POZVCmnYdYJChtanYJ7I\n",
       "xlJlHnYJpqQdL2BH9QTDhH5j33vwAY9rsQYbf3Kqi3JAPAHKqzQEaZiuk658eobX6DTHBv2zgYHv\n",
       "oW8BOowE3DIPu9C9wm4hT4tblec7gJN5bQ2DROZvkDzBV18Rprue9UawmSexw7AB7lRZb+wH2+Ky\n",
       "OArQmGhwyjzsQhjCjuNlZrwUB8bvy6tGx1egLxbnC7kAynp4DFxa2JER6N01vLe1gsfMnMO6MljU\n",
       "c6OzxZNf0iUr7THXr2fThXnFUhp/7mxb4vmm6zxY18B8d3SBWRmf97vzaehxJI+25qiHR7r0S3vY\n",
       "LvOs6ojT4ilRfEx/LZ6eyvWhRmGMDyvWh5GLA1wPT8EhX30WLt3SPsT1cLlrQFS8wMCj0hOGavH0\n",
       "V/KQwszHf9Rcr24CWBRM+niEi2GzvZN5Fsf7YBf3tjmesVOvZe1KHqGc7YmaPCEXPhz3z1/scknY\n",
       "aRrbi+kSSIzBxx04XrvBcl/q/uLrKVuC0nAWzybFoxGOwU9keFO++Qzvd2JjE7yduHLl4X9h//UF\n",
       "1iFY2vGiS7mXxvNt++x+edp5ZuD/w2ed4ho0HfJ2HAAAAABJRU5ErkJggg==\n",
       "\" style=\"display:inline;vertical-align:middle;\" /></a><br>(see <a class=\"ProveItLink\" href=\"../../../__pv_it/theorems/31413caa3afd1754d211111be95bcc9437c515ff0/dependencies.ipynb\">dependencies</a>)<br>"
      ],
      "text/plain": [
       "<IPython.core.display.HTML object>"
      ]
     },
     "metadata": {},
     "output_type": "display_data"
    }
   ],
   "source": [
    "%proving in_superset_if_in_comprehension"
   ]
  },
  {
   "cell_type": "code",
   "execution_count": null,
   "metadata": {},
   "outputs": [],
   "source": []
  }
 ],
 "metadata": {
  "kernelspec": {
   "display_name": "Python 3",
   "language": "python",
   "name": "python3"
  }
 },
 "nbformat": 4,
 "nbformat_minor": 0
}