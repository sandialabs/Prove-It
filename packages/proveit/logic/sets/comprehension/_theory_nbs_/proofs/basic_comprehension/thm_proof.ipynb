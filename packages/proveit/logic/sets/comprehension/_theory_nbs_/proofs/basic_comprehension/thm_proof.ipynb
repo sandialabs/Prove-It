{
 "cells": [
  {
   "cell_type": "markdown",
   "metadata": {},
   "source": [
    "Proof of <a class=\"ProveItLink\" href=\"../../../../../../_theory_nbs_/theory.ipynb\">proveit</a>.<a class=\"ProveItLink\" href=\"../../../../../_theory_nbs_/theory.ipynb\">logic</a>.<a class=\"ProveItLink\" href=\"../../../../_theory_nbs_/theory.ipynb\">sets</a>.<a class=\"ProveItLink\" href=\"../../theory.ipynb\">comprehension</a>.<a class=\"ProveItLink\" href=\"../../theorems.ipynb#basic_comprehension\">basic_comprehension</a> theorem\n",
    "========"
   ]
  },
  {
   "cell_type": "code",
   "execution_count": 1,
   "metadata": {},
   "outputs": [],
   "source": [
    "import proveit\n",
    "theory = proveit.Theory() # the theorem's theory"
   ]
  },
  {
   "cell_type": "code",
   "execution_count": 2,
   "metadata": {},
   "outputs": [
    {
     "data": {
      "text/html": [
       "With these <a href=\"allowed_presumptions.txt\">allowed</a>/<a href=\"disallowed_presumptions.txt\">disallowed</a> theorem/theory presumptions (e.g., to avoid circular dependencies), we begin our proof of<br><strong id=\"basic_comprehension\">basic_comprehension:</strong> <a class=\"ProveItLink\" href=\"../../../__pv_it/theorems/ae682a8ed5d94e14c00d090d671d9796530f9f210/expr.ipynb\"><img src=\"data:image/png;base64,iVBORw0KGgoAAAANSUhEUgAAAc4AAAAmBAMAAAC/qGbYAAAAMFBMVEX///8AAAAAAAAAAAAAAAAA\n",
       "AAAAAAAAAAAAAAAAAAAAAAAAAAAAAAAAAAAAAAAAAAAv3aB7AAAAD3RSTlMAq1RmmUTNIjK7EInv\n",
       "3XZ/CtNrAAAACXBIWXMAAA7EAAAOxAGVKw4bAAAG+0lEQVRo3rVZfYhUVRQ/87Vv5s3u25FCUEMf\n",
       "uNgfKY5RlhC7s65m4McOBf6hkkMikmBNCJKxuWNIf6SxYxa1SvEMlbZ0m5XaCrMmNQyjWKzEtK3Z\n",
       "WjIpNj8Sl03c7td797737hueNu/AOfN873rP+Z17z8e9C+CL5guyxnTAgGBJXe97aDTFZa0pfi5g\n",
       "nPCyb0/OFWTNaU7QOCN+1yd+isvaU0IPGugrPsfVlbgMIH5OBY3zoM+NO9vgMgBqDRqn38RyXpAB\n",
       "UGc+YJzKdX/hOcZlIAFaCnpB9/gaFSpyKaP9Wf7sXhqF/yh3y/NhWfIyL53MOWvVb3yKh3zhbExz\n",
       "KSFtrRC4H7o+/0p/YhUktu6W2nVFMqlO2YvIdB7ENMLjjFFk6EBCdHpVnF15Lj2zlAOn8sGRO8hD\n",
       "2NyUv2GxUzrD9+5X9zCWUdPi0v10Opu3XBq1NGWAhgwsxL/rquJsEaSEjoIEZ38BQjnS1lnFyXCO\n",
       "tehhd63JUZaGcwV6LtHpEB0GT42wnjFEc7AVu6JYFedEQfrEeQDPeAI/tVlRmPHE+be7EqQpy2gB\n",
       "mitHp0POOAOeGuE+xqBRvySrdyRfCJIH0JuDZ7xxbsBiGhY8x5zyxDm74HxTz1imb5RGJ+0utDlZ\n",
       "b431BmUIj0IEea2ueh76V5BWHnjKqLKe0VEsP0fmh/nmW+OJs8vl5xmMJfpiV1GNK9DpUOTFi94a\n",
       "69KUIY4y3TeDg19Xx3mVS3Vk8nYSEZsMcd+qw2nYK+DsJMrbkaujKCn0toGK0l2fJ873XTt0MePe\n",
       "oXeO6HZ96vjH5LeP5at1Eo3MzGSKMqjI+EcAdlfvJq5wGYWhylJH5kJZJBkuszxFcbYT257OU3eW\n",
       "ZkLkEj3u/CUvXKRIRAcJpcy1x5zRpkYHHPpaxi/nrdPTOmiSaGRmojAmDHAT4BlQ8NQrR5pJlPw5\n",
       "ssjZDl3h8gFoMUj25ptDOQ7wAjJmkoDzF+x99QbeVzrE9aWkyZhJC5kMp6shOk05ko+MhdJ2faBe\n",
       "HMchOJNYlYIGw6XRNBN5nzAJuoSRRKsdrkAXfrE8Dx2OQhm7xmWB1YA42u2DPxKYE9H/Nuor8K2A\n",
       "8wZJsHin12dBRZ/QdzK/OlEGtDHjfPMl5TiuCHZ9ZOWxLcTcUAG0ikujaWb8EmWAfzDCOprcQjgx\n",
       "oU0SLXqvJzA4Kh+zDe/61UZ8VMA5SE5DOaY1NgZdaK+sQv9MroVbwQnEQXZ9aHlVbMsqVivVAbdG\n",
       "ZmasTJnghFwz7epwW9iJ7MGxBNrwlkUynLHr8C7+HeA27SQxqpUFnNMgpsOSPNtFaE1wXM5yn+1Y\n",
       "sLjjk+1b5MC8atj04YymjLHpSJcw362RmYlXLTzA4hMO45ZBG99lNgNJbPGFUPEJMwCvWlJ9LVQG\n",
       "Ekwj9j5hJyRSAs4u/cGNyZOsecGfsC/mIf7U2iRD3VkrWNyt81uUe7J3QRJs+siOK7HpCPxNLo2m\n",
       "mZEiZVosOoiFb7fjH1xh6vBDOlExi7d605Lh0X3lGImwOt2GsxVWpwWc2slKcgJZB5zWoylc80id\n",
       "sOrKggIPFkl26qM8+6Ul8CjY9EXPs5KCp4vgjZAoODWaZmJ/EJ+QYhHC4wyI4e163GrYG3k2OmFJ\n",
       "dVml6V4KftIKEefez9rzYj+0dc/RLOB548jj6pRhfND9gY6NDSFwmnkEImeorqzrio7yvpFwm27X\n",
       "F43dOYG8wtOFMLJ4xanRNLMhSxni18ycqtMm91VYAd+RNzv46e9JQfIs/Im97+t3nMsSWY1McJb4\n",
       "GCUIZYCO7W00dkAPXXYaLJIbmYYCZZk+Fk0Drv5e1EjoecYQHuM3KKG8WoKOjb0vpkEtKeV+sJLg\n",
       "EkHK+/hkTj3mxJmaYfbS/XBQZ205GvvcLLgIj9FBNFgkXRLu0iOZqnc+rpgWNDJqM7v6pOmU6LbF\n",
       "H0H8GCitQ5MV/LBs5Yjl5BaDSwmhXNpQCZUcOKPjtNAk8vAzTEEPm80T2BSYCnO7u7t1M1hkp9LX\n",
       "GXvSZjdyrpEtedE8iiXsF2FhvD8yvfRBaD91LmXXWDqEmxc67xPiP+lm5Zs+nGVWq8dJYH0F28Vg\n",
       "YQ20jXoYe5LbCYJGsABT0I6EjkNduXyOPggbIsOlrP9tFTzwh+vzFnauQgqVPjzyLFrEhGEGCy12\n",
       "7kkrlL1Iq3J3xDTCBca4CtsGENQbsuzBcU8lva26HWqalwPlDTNYWJYKlvr9XZhf47IG1+/5BHLj\n",
       "e93dVjGpD/wPD8duxR39tdEZqix3J7JgSfO5FesLXP5vijWXbs/bt09+Nww9q0YCCiMt8PD83e/A\n",
       "NYKsOXUE/ueVk35HHspzWWtSTwe9nId85zllPZe1pkQ6aJy7/A99VpA1pv1Bw1RxAfsPxy0UMyvR\n",
       "1e8AAAAASUVORK5CYII=\n",
       "\" style=\"display:inline;vertical-align:middle;\" /></a><br>(see <a class=\"ProveItLink\" href=\"../../../__pv_it/theorems/2ffba01b9e72d392d9b38de8d2293d55a42222250/dependencies.ipynb\">dependencies</a>)<br>"
      ],
      "text/plain": [
       "<IPython.core.display.HTML object>"
      ]
     },
     "metadata": {},
     "output_type": "display_data"
    }
   ],
   "source": [
    "%proving basic_comprehension"
   ]
  },
  {
   "cell_type": "code",
   "execution_count": null,
   "metadata": {},
   "outputs": [],
   "source": []
  }
 ],
 "metadata": {
  "kernelspec": {
   "display_name": "Python 3",
   "language": "python",
   "name": "python3"
  }
 },
 "nbformat": 4,
 "nbformat_minor": 0
}