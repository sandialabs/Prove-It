{
 "cells": [
  {
   "cell_type": "markdown",
   "metadata": {},
   "source": [
    "Theorems (or conjectures) for the theory of <a class=\"ProveItLink\" href=\"theory.ipynb\">proveit.logic.sets</a>\n",
    "========"
   ]
  },
  {
   "cell_type": "code",
   "execution_count": 1,
   "metadata": {},
   "outputs": [
    {
     "name": "stdout",
     "output_type": "stream",
     "text": [
      "Defining theorems for theory 'proveit.logic.sets'\n",
      "Subsequent end-of-cell assignments will define theorems\n",
      "'%end theorems' will finalize the definitions\n"
     ]
    }
   ],
   "source": [
    "import proveit\n",
    "# Prepare this notebook for defining the theorems of a theory:\n",
    "%theorems_notebook # Keep this at the top following 'import proveit'.\n",
    "from proveit import x, A, B, S\n",
    "from proveit.logic import Boolean, EmptySet, Forall, Intersect, InSet, NotInSet\n",
    "from proveit.logic import SetEquiv, SubsetEq, Union\n",
    "\n",
    "%begin theorems"
   ]
  },
  {
   "cell_type": "markdown",
   "metadata": {},
   "source": [
    "**Nothing is in the empty set (everything is *not* in the empty set):**"
   ]
  },
  {
   "cell_type": "code",
   "execution_count": 2,
   "metadata": {},
   "outputs": [
    {
     "data": {
      "text/html": [
       "<strong id=\"nothing_is_in_empty\"><a class=\"ProveItLink\" href=\"proofs/nothing_is_in_empty/thm_proof.ipynb\">nothing_is_in_empty</a> (conjecture without proof):<br></strong> <a class=\"ProveItLink\" href=\"../__pv_it/theorems/2dbba5016b7f6a5164b15e065b542a084807f8990/theorem_expr.ipynb\"><img src=\"data:image/png;base64,iVBORw0KGgoAAAANSUhEUgAAAF0AAAAWCAMAAACVMGBeAAAAP1BMVEX///8AAAAAAAAAAAAAAAAA\n",
       "AAAAAAAAAAAAAAAAAAAAAAAAAAAAAAAAAAAAAAAAAAAAAAAAAAAAAAAAAAAAAADFBd4eAAAAFHRS\n",
       "TlMAq1RmmUTNIjK7EInv3Xbp8+P3nXbhrUQAAAAJcEhZcwAADsQAAA7EAZUrDhsAAAHLSURBVEjH\n",
       "tVXblsMgCFRBjTf25v9/64qxiSbVdh/W05OTRhhgGFGIf1jbH+3t+7sKtvTSY1ikltvGn2k761GW\n",
       "F038V3ZBZ94qrIk4MUQqgTAyNcRwqI8MZsV4s67shBDKcQRwj4qOwNZNvWGNnjrTwEA28ztgR1qY\n",
       "chtXHXHp4zMdxSVgSnyuNMSCDC2zaflqTow25IXsBBiB0/W5cmUYOSZecdo5bDueSPotdDVarnvo\n",
       "SlaVqFxtApOONbbzU7214gqNJEngSXPVAdCIzgLb0YHjWvl4TJq2JwsFCnIh4uyxuYi9wAIrqDGj\n",
       "4iPtoKfoUR/HG4cWbMzp13d5uI73Uprd0bcqHUWLnh7o9ZWGc+BuUjPECt9yrUfHVuGDPCK05feM\n",
       "GTZnpXk/CD0NtgH5iDZYlZrUG3lkhXTCjMp3tCeqhWSvTltEQuM4FBIjhd1mP7LCxtZTqFiXAVqF\n",
       "JVTePBZ03Yc2Sl6MWVE++UHKnU2+TZs6UIXHkqlCGOry8luPSgZTyG2f0k0pW7yP5jS/DeAnuKKZ\n",
       "UxPhdLbpcgtEEUw9NiMEvjPZXw8/JB2Ibh5uNpvnc3W9J27CfrbC4s5yb999lp5/l4vRzOC/l4cN\n",
       "CD5TuG0AAAAASUVORK5CYII=\n",
       "\" style=\"display:inline;vertical-align:middle;\" /></a><br>"
      ],
      "text/plain": [
       "<IPython.core.display.HTML object>"
      ]
     },
     "metadata": {},
     "output_type": "display_data"
    }
   ],
   "source": [
    "nothing_is_in_empty = Forall(x, NotInSet(x, EmptySet))"
   ]
  },
  {
   "cell_type": "markdown",
   "metadata": {},
   "source": [
    "### Identities Involving Unions, Intersections, and Equivalences"
   ]
  },
  {
   "cell_type": "code",
   "execution_count": 3,
   "metadata": {},
   "outputs": [
    {
     "data": {
      "text/html": [
       "<strong id=\"union_with_superset_is_superset\"><a class=\"ProveItLink\" href=\"proofs/union_with_superset_is_superset/thm_proof.ipynb\">union_with_superset_is_superset</a> (conjecture without proof):<br></strong> <a class=\"ProveItLink\" href=\"../__pv_it/theorems/bc8629a1e88d9e915a3eaf2b4aefd758b314d9500/theorem_expr.ipynb\"><img src=\"data:image/png;base64,iVBORw0KGgoAAAANSUhEUgAAAOcAAAAXBAMAAAACSEUKAAAAMFBMVEX///8AAAAAAAAAAAAAAAAA\n",
       "AAAAAAAAAAAAAAAAAAAAAAAAAAAAAAAAAAAAAAAAAAAv3aB7AAAAD3RSTlMAq1RmmUTNIjK7EInv\n",
       "3XZ/CtNrAAAACXBIWXMAAA7EAAAOxAGVKw4bAAADR0lEQVRIx7VWS2gTURQ9+Uw+kzaNInQjGLQb\n",
       "F2oX1V1rg1EKsTTqpirYKPhBEdulVNsIXbgQDIhIXJgoRRBEUzcqAa2uBFGqGwUtDHZhK2Jbi7U/\n",
       "ie/e9yZNpk1shF44My/3zHvnzb333Qnwn+ZWKGWdFRMrsC8KQjq2HH+k1EQiAjTYVLGmPSMhzDVh\n",
       "Jesime3+eh7q69+Lq19NCmcdUSJ206+TFYveVRC2jUUTdOlnh9fAvQmc5nH1aKPYmk0+eQt6CkRc\n",
       "ogAlKhbdpSAs9JuuQ3TpYkcYcMTQwOMR6EeBPh47m4EdIMKVBnzBikUHFcTk7hmLqPitGahKQ2bP\n",
       "dkr7wP6aOGdUEA4RYlflKY1JCOvx/ywW1aYATxwuTiqlfXwhyk92CM9lMPFmePh1xaLOjISwZvtU\n",
       "saiee8IRCOSfTsvbw/m4SbQANwspc1lzoC8nSruVr6IFPfOW8O7MTXZyWi3myOVqIYkuuHlP+itm\n",
       "tGcjo1yC5qP3xfZ8yWRSrHP4R1NcOquDErQ596RFVB/LiXTbOeWtw2Tv5KwHqQVIwpv2cch9nBps\n",
       "hWeiSPR5EPp1mUgDV5WzKioBjIVDsxZRsZNfUMtYrC0qCbsh66j9rVmWgUJR7YoBr2xdVfkDtyiq\n",
       "G8CfvCidP4io6+IFtEFrdCmtQUXEmthnHOXblOqOpqjfFUC3HNbU57ttPryU+s/kuUEXWkkXe3bP\n",
       "iZcZsojeFuhNK+IR9w4/9jA1Piv7lylqOGPYqPRz18wFRNNh4IDAOfIcpCZDK9GaVNiOhCWnWwQi\n",
       "UMQFDmc7vssqqJssFNXi/kFemexOm3kMqOwJbgpVikJjPwa9kcrM+QkYQP5ELVprRh4jJmxckZHs\n",
       "hrQ8IB2Fos7swBwHhs+UZhaHZ4ihp6bT2Jw7Q67usye+8Qxt3RoKfHXUItq8L7QWRYT4DvSS+H7g\n",
       "fKGoAfeMapNasKBJf1QobRf/TYgI1gT1DEJAbYGoJhIsKjHCcQvAlv8CNyiU/ySUJ5wvoLcd97xE\n",
       "SzjbWSC6N4D+6Si0p6I5OPsij/Mz6RR5y/0JKPnlWkLYF4fe8s1XT0iUtJI7WkIcWrEoehRK2dcV\n",
       "E/XLi9qSsveuurlXce2/8prVZztSSakAAAAASUVORK5CYII=\n",
       "\" style=\"display:inline;vertical-align:middle;\" /></a><br>"
      ],
      "text/plain": [
       "<IPython.core.display.HTML object>"
      ]
     },
     "metadata": {},
     "output_type": "display_data"
    }
   ],
   "source": [
    "union_with_superset_is_superset = Forall(\n",
    "        (A, S),\n",
    "        SetEquiv(Union(A, S), S),\n",
    "        conditions=[SubsetEq(A, S)])"
   ]
  },
  {
   "cell_type": "code",
   "execution_count": 4,
   "metadata": {},
   "outputs": [
    {
     "data": {
      "text/html": [
       "<strong id=\"intersection_with_superset_is_set\"><a class=\"ProveItLink\" href=\"proofs/intersection_with_superset_is_set/thm_proof.ipynb\">intersection_with_superset_is_set</a> (conjecture without proof):<br></strong> <a class=\"ProveItLink\" href=\"../__pv_it/theorems/0d8e62072501b30372e81fb7558fae13958443820/theorem_expr.ipynb\"><img src=\"data:image/png;base64,iVBORw0KGgoAAAANSUhEUgAAAOkAAAAXBAMAAAAcgXW5AAAAMFBMVEX///8AAAAAAAAAAAAAAAAA\n",
       "AAAAAAAAAAAAAAAAAAAAAAAAAAAAAAAAAAAAAAAAAAAv3aB7AAAAD3RSTlMAq1RmmUTNIjK7EInv\n",
       "3XZ/CtNrAAAACXBIWXMAAA7EAAAOxAGVKw4bAAADSklEQVRIx7VWTUhUURQ+8/PmzbzR8QVRLYKG\n",
       "chP0MwsLWmRKJsIUSm2kokYiCls0LcUyA2kVKFTEtHEKiYIWY5sKoaxVFIUFUVDGQxcpRGqSqRXT\n",
       "Oefe+3zz5odG8MB57849373fueece94ALFN0qaXshSUJy5cxqbh/opBdswr6gthj+Dbpx6aySb0Z\n",
       "oSiBabexOp7ZAeM8NNa/w2dEWQgbiQHsox+nyma9IxVlu2D1rbnWIiZCFtybhkCaxpUTu9E3j1rG\n",
       "2HaAS3TuvrJZ90pFqf9Fz+CX5N1GJoIGdCEBvjoaj4PRBtCjljG2BtilcLRs1mGpuLhznl6XcR+9\n",
       "nWfmRVZfgkig57T2Qa4S2Io0+DDKgfLTmhCK0hX5Qa919KjlOprFk3cDnKAflPqpPzL0EhtAytej\n",
       "o6/KZvVnhKLUeWfpNUIPjqSRfcSGQRudVgOBDWMAmgBu5trEvmpgFGIld0nxZNHgb5v1HBv3ZGfo\n",
       "Tu7Mv00Ci0lHpM63x3ghLE/GJ7gQFfQ+BiucSqVwoyPfa7vFZGVUKHmnz7hYjckspXwLjQ+MkrxV\n",
       "J2GsF62hdJjDHub0wDYITuewPo2CcV0k04JeOVnRIhRgsqF+wcWK2//ER2/eWSWWCLyWKKbWN6o4\n",
       "TSerdsWCkGhiFUsXz2Y1sFj/5rJi4A06wVE3qcJqFIkEVx5YbfyalY1SsUYCJnSKYVXM7q52hCn9\n",
       "n3NYDXRaX8TB1rwSlFgvYR/wLYtAI5umFmLgZLX8CdgoHcheVRtg+2GFQ6hnc1hpTy7vXe68KqyP\n",
       "mtJ5jmgrfBNhqJ5xsmrdkWGGk9xuNtV1N4XqFKz+pJPV/0lemri78yss++ThuowPbUiLe3Lcyeof\n",
       "GlyEW+raaarRB0dYjf65NGzOnsEZbqoDtEJbvYqr+70rqza2UjUN+ipcJPaDAB1OVgv0edkxtaij\n",
       "YX+UWuIDO1LMcsEeYRCrokYG6gHWOlg1TDLWY5wc8pvgsb/INVJLtK9YqS+HgDwDo/lk8Dk0NQwl\n",
       "Haz7TRiYawHtMXYJf0/8ob2SLlOo5L+CjqJBcH/hvEvDUOlGbPQJLS43ihnynD3836zQJbWYRIoG\n",
       "4qt7IlaY1ZMSfXjlRV/Jzf8BszHZ2qiwbhMAAAAASUVORK5CYII=\n",
       "\" style=\"display:inline;vertical-align:middle;\" /></a><br>"
      ],
      "text/plain": [
       "<IPython.core.display.HTML object>"
      ]
     },
     "metadata": {},
     "output_type": "display_data"
    }
   ],
   "source": [
    "intersection_with_superset_is_set = Forall(\n",
    "        (A, S),\n",
    "        SetEquiv(Intersect(A, S), A),\n",
    "        conditions=[SubsetEq(A, S)])"
   ]
  },
  {
   "cell_type": "code",
   "execution_count": 5,
   "metadata": {},
   "outputs": [
    {
     "data": {
      "text/html": [
       "<strong id=\"set_subset_eq_of_union_with_set\"><a class=\"ProveItLink\" href=\"proofs/set_subset_eq_of_union_with_set/thm_proof.ipynb\">set_subset_eq_of_union_with_set</a> (conjecture with conjecture-based proof):<br></strong> <a class=\"ProveItLink\" href=\"../__pv_it/theorems/f64a213357b2d18caf0cc9a424c7f3eea439ed3a0/theorem_expr.ipynb\"><img src=\"data:image/png;base64,iVBORw0KGgoAAAANSUhEUgAAATMAAAAXBAMAAACVPLX5AAAAMFBMVEX///8AAAAAAAAAAAAAAAAA\n",
       "AAAAAAAAAAAAAAAAAAAAAAAAAAAAAAAAAAAAAAAAAAAv3aB7AAAAD3RSTlMAq1RmmUTNIjK7EInv\n",
       "3XZ/CtNrAAAACXBIWXMAAA7EAAAOxAGVKw4bAAAEUUlEQVRIx71XXYjcVBQ+k8xPktnNzoJ/fZqI\n",
       "pSqKzcO2L2I7xdW2FHXQl/6ArrYi3S3rqFAQdTeCLwvaDWLRKehOFYQ+VGKFarsPHQuK4g9DKbIP\n",
       "HYiuUgTZbv2p1qLrueckuZmZzPSl44WTk3Pvufd8997zkwD0seW6jlR6TatcTeEatB8Y4FjHgGkR\n",
       "25887dGACkK4pS/IFI9Ydrlj5A5mT7d1q3MXh294C0wbiO4TfU/1Bdr7zNYG0My3m82mI94MPkdl\n",
       "RTx16ilRz4ALUHRgHF+RXhZH7vYF2r3MNv1JTJuM/CdtMyuKnkG6dLo8mPYBHivBCL4iZWsAeasv\n",
       "0Or0zL/wF/Gj0rMHmH18ymmDthE7NvowgJiQVNxBtj+uxtc2Zf5K/Ho5sobDw79gtUErIu2rQFZg\n",
       "Qvqm2fyqL9DSHAUl5TfisTjdxuOw1m6D9iXA4QU86ALTFoBD1F9rWznB2q14Fp0Zx0+WsuRRGUu7\n",
       "Qq5WkCq76fkwzHqt0LTLS9+LMXWM6Zmg3/iCJsz8Pr/ViSInX4tjVMsA6+IwWDlUUCb2nLWk+qDF\n",
       "O8xdjJ0LtTN8nDBdaIVmYsDciRtS6kx6LV8mFOwSagPMegQtg2dwOFoS34zQwoFVB0PljBfIvvfs\n",
       "bSyRs9OyP49uukxiQ0L7jHC8MVp0W6HpaDiPQaMtMyk+R8H2b4mlSqAuR9CEh3wSLYk5MF0OrntL\n",
       "THk8kH0v/y5JEpqBe/snnkoiaB8ADDVCaHzdQ/hU/8UDqTPB2Ab2kcd5QQuO2hLa+mpVJr0GLWT+\n",
       "OLUZFuPKx4Bl33vuJEnyQsX1nmPXK7deKCbZQWFeF86rkofO4lqpP/C0GkxwjLZpwv2c9RZHbgIJ\n",
       "TQ/rXVAMseydT7lPGG5ceTWw7I9+7QiJmy7MPRLVI2N4Z7jQO8JV7KCEZcTU/RSDFxDlrAgBlwle\n",
       "pMPcDr/QtHvAuC4GLe/IpCcW2QFg676TsePKO4Bl33vlJ1LhqbhuTpzLHAd15kRYqD4UVoUJqhNr\n",
       "LHhvgTT2odLnNU47lHpSpL5tvkjI0dR0WUIzCnfJHIq2bhYuUQF1b7X6eqQ8E8joa3khcdMaYMxd\n",
       "qsHtKxNt2eY1gCMr46DMXRL2c8e/myTTq1aGh/dSFi4zBbUXjRDE01jFZPIAuPEQaHcvUvXVXLb7\n",
       "KlQ0DsNAeTWwjNBMeaGw0C0ZDzq9k/VLAXFDnxiyDA9yf4NxNnahMINBqLmeDINc/Ti6MGXpUHkp\n",
       "yNoI7QBJ3Ea6mVZLV/8uiAI6/SkYDz2pnYb1V+a3WnFoIoDMIMO/SeKDu5Zq8LzYeKiM/UJWJieq\n",
       "NklyqmwPNJuhr0mV5I9jN+FjSIm96/KbVHfY63dBlFCNE9WD4bgITykbbrw/uR3pCU1sSW+vhzsT\n",
       "oaU2fMSbTaP+5oQ6XukiTXU9F78XtPMBtTQ7EZpsJ7mqtrV1PaT/7XfI6PxA6eipXSsA/wHHEh1v\n",
       "uuqvGAAAAABJRU5ErkJggg==\n",
       "\" style=\"display:inline;vertical-align:middle;\" /></a><br>"
      ],
      "text/plain": [
       "<IPython.core.display.HTML object>"
      ]
     },
     "metadata": {},
     "output_type": "display_data"
    }
   ],
   "source": [
    "set_subset_eq_of_union_with_set = Forall(\n",
    "    (A, B),\n",
    "    SubsetEq(A, Union(A, B)),\n",
    "    condition=Forall(x, InSet(InSet(x, B), Boolean)))"
   ]
  },
  {
   "cell_type": "code",
   "execution_count": 6,
   "metadata": {},
   "outputs": [
    {
     "data": {
      "text/html": [
       "<strong id=\"intersection_is_subset_eq\"><a class=\"ProveItLink\" href=\"proofs/intersection_is_subset_eq/thm_proof.ipynb\">intersection_is_subset_eq</a> (conjecture with conjecture-based proof):<br></strong> <a class=\"ProveItLink\" href=\"../__pv_it/theorems/d128656b1184d8f64303405e0e790e8da6f0892c0/theorem_expr.ipynb\"><img src=\"data:image/png;base64,iVBORw0KGgoAAAANSUhEUgAAATQAAAAXBAMAAAB34K6AAAAAMFBMVEX///8AAAAAAAAAAAAAAAAA\n",
       "AAAAAAAAAAAAAAAAAAAAAAAAAAAAAAAAAAAAAAAAAAAv3aB7AAAAD3RSTlMAq1RmmUTNIjK7EInv\n",
       "3XZ/CtNrAAAACXBIWXMAAA7EAAAOxAGVKw4bAAAENklEQVRIx7VXa2gUVxQ++0h2ZrYZN6BWf+2W\n",
       "CrbgY35oQEo1Ynwh1VD/+ALjCzEROyoUpJJsQYSAmEUUXUGyikj9YRktaDU/jP4ovtkfCv5wZTSK\n",
       "CBJf9Y1Nzz3nzsydZF0V3ANn7/3uOffe7z7OubMAVZSE1IoOn2v5MnJXKs7UUtahxi3b/CtbUqL+\n",
       "bVWYRR1WlNonYVOs+2n9yH0AfWU7/gJkmSnqa6tC7YhUlIlMLTZydzM3fJUDSGehtsDQPFAqlbLe\n",
       "kgbEYgrwu9juXFWozZCKMv2V+NVu23/MYjIdeGDLGyHWSEjbYCv94mlEaBG8k5mqUOuVihP89loU\n",
       "23GuRCu1TMMtmob0LhE6pjKDU2fF/l2CmIWbV52r1sKK0m4+E8Uo8TOVWtKo65HQKkIjQsHpPhZb\n",
       "hZarpdLlqlCLO6wojdHnoiiKn23UchHg4E0sjxMKxW8cJlpsmQOwn5oKg0YuM9tY3Ad7SKtbHtVa\n",
       "rJgJMto7n9pGulxv+u/QhjUQSqkD/AxdDls2QoIsxgUydP7bM5dCRadLUlA5xjC8JqujsLPnEG1b\n",
       "fT0TuNdlWMUIiadhaiaGxThBexwdYYhaI3Sk2KIXkhTQyWc8fRHMXp+ayHwH/U5YM7xRdo7e4znX\n",
       "OBK7zqbvGFF+aGYFeNg0/U2Ymo5TJEVodIFvkGLubkrn2BJ1OQoWXaMighH9xKcmbsHffi/MgXGZ\n",
       "l+JzFOdWiV0neYhQmJqB63sfpjYMVxj7DyvL/DTjyZ9oLUpLC8eMu4IHzMAxK6DWkM8HSQ971OGy\n",
       "7rXPlmlcOp+Qad11Np8hFD5QccS3wtS6sFfkBVbG87VsVs8T6nql5QQt04RZnAv7JlGMS2o6mH7S\n",
       "Ew8hPm8PIrmVRk51HgOM3aYrWYFYdJcVFsq3R6H2GIOpS8TlFHI16pf4z6olnzVh2UrXZxE8ItOP\n",
       "YAxXqCWzQdKrwfkXA1i6m62xVOfFwNh1tt0nF+6aYk2IPei2Q9TW42j/iJQwTw592nuotoqpX0lL\n",
       "hJrm9aQpe+BUHc0BNSM1IcihOM834qLYEFuXz+/ynTslxruWFIhFK5Ia3S8L8P1AG7bQ1h5GHT1Q\n",
       "X7+OTuPGoER0dKAVot0vHcVi4iRE8Ty+bUHyAPh6P2g/9NFTp+V43h1gaxyG0nkMMEZqZnCgcFNq\n",
       "pQ+24scteB+GZQwHEm/BuK4cKHRiEGo5JwiDRO9JvKqUpT3nfpm1kdpOQiyTpFZ6MayPWuLnwFiw\n",
       "RjsPDe965mZUajpeElNm+L0E5y/tL8AWsbOeM7YLHN3QlrcIBV11uyK1LVz8VCopH0WqJbhNSl0P\n",
       "kqCe5SUsBT+hGqfzezy7CM8AG7lQe+Xvrb2fbFlSllpk6l+8oDhuwewye29/ALVL/aCY9idbrLLU\n",
       "AjnDr+ogmVwBVe3v0GAxhn6gDGkpfCkC/wOFZyQaF2Y0GgAAAABJRU5ErkJggg==\n",
       "\" style=\"display:inline;vertical-align:middle;\" /></a><br>"
      ],
      "text/plain": [
       "<IPython.core.display.HTML object>"
      ]
     },
     "metadata": {},
     "output_type": "display_data"
    }
   ],
   "source": [
    "intersection_is_subset_eq = Forall(\n",
    "        (A, B),\n",
    "        SubsetEq(Intersect(A, B), A),\n",
    "    condition=Forall(x, InSet(InSet(x, B), Boolean)))"
   ]
  },
  {
   "cell_type": "code",
   "execution_count": 7,
   "metadata": {},
   "outputs": [
    {
     "data": {
      "text/html": [
       "<strong id=\"intersection_subset_eq_union\"><a class=\"ProveItLink\" href=\"proofs/intersection_subset_eq_union/thm_proof.ipynb\">intersection_subset_eq_union</a> (conjecture with conjecture-based proof):<br></strong> <a class=\"ProveItLink\" href=\"../__pv_it/theorems/33097b974abf7754dbe319fc36772dd57d9ff5000/theorem_expr.ipynb\"><img src=\"data:image/png;base64,iVBORw0KGgoAAAANSUhEUgAAAO8AAAAWBAMAAADaw9ZbAAAAMFBMVEX///8AAAAAAAAAAAAAAAAA\n",
       "AAAAAAAAAAAAAAAAAAAAAAAAAAAAAAAAAAAAAAAAAAAv3aB7AAAAD3RSTlMAq1RmmUTNIjK7EInv\n",
       "3XZ/CtNrAAAACXBIWXMAAA7EAAAOxAGVKw4bAAADnUlEQVRIx71WXUhTcRQ/29p2d+emQkk9xAaB\n",
       "EBktEMGHcmJF4kNRL1JShkhkUfYiRKYTIuhBNiIoonIRBD0Us4d68KFl9E0xog8fGqx8ECFK+1BL\n",
       "ys7H/+7j7sN66cDv3t1z/+f8zj0f//8ASkq3QlFx/qXuH1ySeP0ClJ7CK+ypfN0HoW8vbLFHoYIe\n",
       "VhUhXqOAcsT0yjY0XVl1HmA8z8ga45tjyqSvX6isPBACbwAYm0m3vzCv3i4gbwuiWn9gs3pZFgHw\n",
       "hcARlcfJZDI5xr+uiWIdE7vYT5A1TwAscwBdwBigrEQKEy8JCOinj+syOKGf7JKX/ZjkvUGwidNT\n",
       "E2mrJrk1ztLVw1nntDp/Y2W+AdQCgyJ2+wsTlymg3LkbwqtGpD3yjQ2oaEDyp/xNbzNWcb66j8+Z\n",
       "iG2osCF5WZRhwy9yFClxtQKapj5TcBZit0k/+RCHMA0d9GDZnimx1KbP+8VEbMHcOx4hAoLnyeSz\n",
       "IsQtCphpWBcw3Gjpil2hog5zJ2XVR3oraP1qIsam0Fdi5O4KwVaAC7w0mkfcoQCwA8KxXDfaj0/v\n",
       "+V0dXQYyRg5uCrtfmzcRhy9/qqJ3tnbBUaXXH7Pd6W8jzSHl46UCxg/9FbluvNg7NeSnhp6OZog9\n",
       "fkmRc9pE/LkbrPepFnGBK+rmArm/yHwmwBtXPh4ogPfsJl8k140LF7mpf8Jp/6oj2dvkpsYfJuKL\n",
       "CGpRbUpgTUmBWl/wzYITMmUmvglQnsh1U14hPQptxuBlE+vYgL/SxBpbUAZoDOxxAbRvZIPUPrHz\n",
       "w42AOdXYTp64qWK4yPIdf6zlpZ25qV6CeMeJ6TbmQKNm82FU1oQAbvGO4IUtsi+M1y43fFxWsAfU\n",
       "DphbMQjT5NTz0ivLjN50EctOY5O1R4zJp6bQZiiMiAB62VErfGS7DaAvNYiHFXrJ32wu8SF0+jCa\n",
       "njfYfUltmTQpTkrPEO911X64ynoH6tq61LzxzPGuAC0jPo4ZWfuN3WBQcH2hC6xDM7HsnXcF7fjc\n",
       "v69NM6glQB+aicLqhYMc5u03h8mxhQ6VM1yL7QJ1ACIfBzCKO7AxTp6QoOSBnDBrxhY5a08oiGBR\n",
       "yv16DJw/QX+VPvqCYBwCRSWrn5XULkLclDlI0Pwe6Ns6tVGomx9pzhwZ5xRKyDGxTybTx6Kr9P8L\n",
       "OgrzjkOr6fm6QgnJj0uPlDSguPJi22WOLiUo8eeowOf1lSSeUMiRAPw3+QNjXOlHLRb0IwAAAABJ\n",
       "RU5ErkJggg==\n",
       "\" style=\"display:inline;vertical-align:middle;\" /></a><br>"
      ],
      "text/plain": [
       "<IPython.core.display.HTML object>"
      ]
     },
     "metadata": {},
     "output_type": "display_data"
    }
   ],
   "source": [
    "intersection_subset_eq_union = Forall(\n",
    "        (A, B),\n",
    "        SubsetEq(Intersect(A, B), Union(A, B)))"
   ]
  },
  {
   "cell_type": "code",
   "execution_count": 8,
   "metadata": {},
   "outputs": [
    {
     "name": "stdout",
     "output_type": "stream",
     "text": [
      "These theorems may now be imported from the theory package: proveit.logic.sets\n"
     ]
    }
   ],
   "source": [
    "%end theorems"
   ]
  },
  {
   "cell_type": "code",
   "execution_count": null,
   "metadata": {},
   "outputs": [],
   "source": []
  }
 ],
 "metadata": {
  "kernelspec": {
   "display_name": "Python 3",
   "language": "python",
   "name": "python3"
  }
 },
 "nbformat": 4,
 "nbformat_minor": 0
}