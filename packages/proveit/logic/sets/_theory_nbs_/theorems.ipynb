{
 "cells": [
  {
   "cell_type": "markdown",
   "metadata": {},
   "source": [
    "Theorems (or conjectures) for the theory of <a class=\"ProveItLink\" href=\"theory.ipynb\">proveit.logic.sets</a>\n",
    "========"
   ]
  },
  {
   "cell_type": "code",
   "execution_count": null,
   "metadata": {},
   "outputs": [],
   "source": [
    "import proveit\n",
    "# Prepare this notebook for defining the theorems of a theory:\n",
    "%theorems_notebook # Keep this at the top following 'import proveit'.\n",
    "from proveit import x, A, B, S\n",
    "from proveit.logic import (Boolean, Card, EmptySet, Equals,\n",
    "                           Exists, Forall, Intersect, InSet, NotInSet)\n",
    "from proveit.logic import SetEquiv, SubsetEq, Union\n",
    "from proveit.numbers import one, greater_eq, LessEq, Natural\n",
    "\n",
    "%begin theorems"
   ]
  },
  {
   "cell_type": "markdown",
   "metadata": {},
   "source": [
    "**Nothing is in the empty set (everything is *not* in the empty set):**"
   ]
  },
  {
   "cell_type": "code",
   "execution_count": null,
   "metadata": {},
   "outputs": [],
   "source": [
    "nothing_is_in_empty = Forall(x, NotInSet(x, EmptySet))"
   ]
  },
  {
   "cell_type": "markdown",
   "metadata": {},
   "source": [
    "### Identities Involving Unions, Intersections, and Equivalences"
   ]
  },
  {
   "cell_type": "code",
   "execution_count": null,
   "metadata": {},
   "outputs": [],
   "source": [
    "union_with_superset_is_superset = Forall(\n",
    "        (A, S),\n",
    "        SetEquiv(Union(A, S), S),\n",
    "        conditions=[SubsetEq(A, S)])"
   ]
  },
  {
   "cell_type": "code",
   "execution_count": null,
   "metadata": {},
   "outputs": [],
   "source": [
    "intersection_with_superset_is_set = Forall(\n",
    "        (A, S),\n",
    "        SetEquiv(Intersect(A, S), A),\n",
    "        conditions=[SubsetEq(A, S)])"
   ]
  },
  {
   "cell_type": "code",
   "execution_count": null,
   "metadata": {},
   "outputs": [],
   "source": [
    "set_subset_eq_of_union_with_set = Forall(\n",
    "    (A, B),\n",
    "    SubsetEq(A, Union(A, B)),\n",
    "    condition=Forall(x, InSet(InSet(x, B), Boolean)))"
   ]
  },
  {
   "cell_type": "code",
   "execution_count": null,
   "metadata": {},
   "outputs": [],
   "source": [
    "intersection_is_subset_eq = Forall(\n",
    "        (A, B),\n",
    "        SubsetEq(Intersect(A, B), A),\n",
    "    condition=Forall(x, InSet(InSet(x, B), Boolean)))"
   ]
  },
  {
   "cell_type": "code",
   "execution_count": null,
   "metadata": {},
   "outputs": [],
   "source": [
    "intersection_subset_eq_union = Forall(\n",
    "        (A, B),\n",
    "        SubsetEq(Intersect(A, B), Union(A, B)))"
   ]
  },
  {
   "cell_type": "markdown",
   "metadata": {},
   "source": [
    "### Existence, Subsets, & Cardinality"
   ]
  },
  {
   "cell_type": "code",
   "execution_count": null,
   "metadata": {},
   "outputs": [],
   "source": [
    "element_implies_non_zero_card = (\n",
    "    Forall(S, greater_eq(Card(S), one),\n",
    "    conditions = [Exists(x, InSet(x, S))])\n",
    ")"
   ]
  },
  {
   "cell_type": "code",
   "execution_count": null,
   "metadata": {},
   "outputs": [],
   "source": [
    "card_finite_subset_lesseq_card_superset = Forall((A, B),\n",
    "LessEq(Card(A), Card(B)),\n",
    "conditions = [InSet(Card(A), Natural), SubsetEq(A, B)])"
   ]
  },
  {
   "cell_type": "code",
   "execution_count": null,
   "metadata": {},
   "outputs": [],
   "source": [
    "finite_subset_with_card_of_superset_is_superset = (\n",
    "        Forall((A, B),\n",
    "                Equals(A, B),\n",
    "        conditions = [InSet(Card(A), Natural), SubsetEq(A, B), Equals(Card(A), Card(B))])\n",
    ")"
   ]
  },
  {
   "cell_type": "code",
   "execution_count": null,
   "metadata": {},
   "outputs": [],
   "source": [
    "%end theorems"
   ]
  },
  {
   "cell_type": "code",
   "execution_count": null,
   "metadata": {},
   "outputs": [],
   "source": []
  }
 ],
 "metadata": {
  "kernelspec": {
   "display_name": "Python 3",
   "language": "python",
   "name": "python3"
  }
 },
 "nbformat": 4,
 "nbformat_minor": 0
}
