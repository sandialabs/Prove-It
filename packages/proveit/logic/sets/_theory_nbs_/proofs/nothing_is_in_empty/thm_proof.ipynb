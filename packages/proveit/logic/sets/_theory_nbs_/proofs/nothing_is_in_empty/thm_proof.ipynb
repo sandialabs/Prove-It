{
 "cells": [
  {
   "cell_type": "markdown",
   "metadata": {},
   "source": [
    "Proof of <a class=\"ProveItLink\" href=\"../../../../../_theory_nbs_/theory.ipynb\">proveit</a>.<a class=\"ProveItLink\" href=\"../../../../_theory_nbs_/theory.ipynb\">logic</a>.<a class=\"ProveItLink\" href=\"../../theory.ipynb\">sets</a>.<a class=\"ProveItLink\" href=\"../../theorems.ipynb#nothing_is_in_empty\">nothing_is_in_empty</a> theorem\n",
    "========"
   ]
  },
  {
   "cell_type": "code",
   "execution_count": 1,
   "metadata": {},
   "outputs": [],
   "source": [
    "import proveit\n",
    "theory = proveit.Theory() # the theorem's theory"
   ]
  },
  {
   "cell_type": "code",
   "execution_count": 2,
   "metadata": {},
   "outputs": [
    {
     "data": {
      "text/html": [
       "With these <a href=\"allowed_presumptions.txt\">allowed</a>/<a href=\"disallowed_presumptions.txt\">disallowed</a> theorem/theory presumptions (e.g., to avoid circular dependencies), we begin our proof of<br><strong id=\"nothing_is_in_empty\">nothing_is_in_empty:</strong> <a class=\"ProveItLink\" href=\"../../../__pv_it/theorems/bbc32fa783405c4ca5e66baddd843e757538edab0/expr.ipynb\"><img src=\"data:image/png;base64,iVBORw0KGgoAAAANSUhEUgAAAF0AAAAWCAMAAACVMGBeAAAAP1BMVEX///8AAAAAAAAAAAAAAAAA\n",
       "AAAAAAAAAAAAAAAAAAAAAAAAAAAAAAAAAAAAAAAAAAAAAAAAAAAAAAAAAAAAAADFBd4eAAAAFHRS\n",
       "TlMAq1RmmUTNIjK7EInv3Xbp8+P3nXbhrUQAAAAJcEhZcwAADsQAAA7EAZUrDhsAAAHLSURBVEjH\n",
       "tVXblsMgCFRBjTf25v9/64qxiSbVdh/W05OTRhhgGFGIf1jbH+3t+7sKtvTSY1ikltvGn2k761GW\n",
       "F038V3ZBZ94qrIk4MUQqgTAyNcRwqI8MZsV4s67shBDKcQRwj4qOwNZNvWGNnjrTwEA28ztgR1qY\n",
       "chtXHXHp4zMdxSVgSnyuNMSCDC2zaflqTow25IXsBBiB0/W5cmUYOSZecdo5bDueSPotdDVarnvo\n",
       "SlaVqFxtApOONbbzU7214gqNJEngSXPVAdCIzgLb0YHjWvl4TJq2JwsFCnIh4uyxuYi9wAIrqDGj\n",
       "4iPtoKfoUR/HG4cWbMzp13d5uI73Uprd0bcqHUWLnh7o9ZWGc+BuUjPECt9yrUfHVuGDPCK05feM\n",
       "GTZnpXk/CD0NtgH5iDZYlZrUG3lkhXTCjMp3tCeqhWSvTltEQuM4FBIjhd1mP7LCxtZTqFiXAVqF\n",
       "JVTePBZ03Yc2Sl6MWVE++UHKnU2+TZs6UIXHkqlCGOry8luPSgZTyG2f0k0pW7yP5jS/DeAnuKKZ\n",
       "UxPhdLbpcgtEEUw9NiMEvjPZXw8/JB2Ibh5uNpvnc3W9J27CfrbC4s5yb999lp5/l4vRzOC/l4cN\n",
       "CD5TuG0AAAAASUVORK5CYII=\n",
       "\" style=\"display:inline;vertical-align:middle;\" /></a><br>(see <a class=\"ProveItLink\" href=\"../../../__pv_it/theorems/2dbba5016b7f6a5164b15e065b542a084807f8990/dependencies.ipynb\">dependencies</a>)<br>"
      ],
      "text/plain": [
       "<IPython.core.display.HTML object>"
      ]
     },
     "metadata": {},
     "output_type": "display_data"
    }
   ],
   "source": [
    "%proving nothing_is_in_empty"
   ]
  },
  {
   "cell_type": "code",
   "execution_count": null,
   "metadata": {},
   "outputs": [],
   "source": []
  }
 ],
 "metadata": {
  "kernelspec": {
   "display_name": "Python 3",
   "language": "python",
   "name": "python3"
  }
 },
 "nbformat": 4,
 "nbformat_minor": 0
}