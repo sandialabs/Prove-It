{
 "cells": [
  {
   "cell_type": "markdown",
   "metadata": {},
   "source": [
    "Proof of <a class=\"ProveItLink\" href=\"../../../../../_theory_nbs_/theory.ipynb\">proveit</a>.<a class=\"ProveItLink\" href=\"../../../../_theory_nbs_/theory.ipynb\">logic</a>.<a class=\"ProveItLink\" href=\"../../theory.ipynb\">sets</a>.<a class=\"ProveItLink\" href=\"../../theorems.ipynb#intersection_with_superset_is_set\">intersection_with_superset_is_set</a> theorem\n",
    "========"
   ]
  },
  {
   "cell_type": "code",
   "execution_count": 1,
   "metadata": {},
   "outputs": [],
   "source": [
    "import proveit\n",
    "theory = proveit.Theory() # the theorem's theory"
   ]
  },
  {
   "cell_type": "code",
   "execution_count": 2,
   "metadata": {},
   "outputs": [
    {
     "data": {
      "text/html": [
       "With these <a href=\"allowed_presumptions.txt\">allowed</a>/<a href=\"disallowed_presumptions.txt\">disallowed</a> theorem/theory presumptions (e.g., to avoid circular dependencies), we begin our proof of<br><strong id=\"intersection_with_superset_is_set\">intersection_with_superset_is_set:</strong> <a class=\"ProveItLink\" href=\"../../../__pv_it/theorems/c2ed74eafb6e8924061b5cedc9a414da0858e1e40/expr.ipynb\"><img src=\"data:image/png;base64,iVBORw0KGgoAAAANSUhEUgAAAOkAAAAXBAMAAAAcgXW5AAAAMFBMVEX///8AAAAAAAAAAAAAAAAA\n",
       "AAAAAAAAAAAAAAAAAAAAAAAAAAAAAAAAAAAAAAAAAAAv3aB7AAAAD3RSTlMAq1RmmUTNIjK7EInv\n",
       "3XZ/CtNrAAAACXBIWXMAAA7EAAAOxAGVKw4bAAADSklEQVRIx7VWTUhUURQ+8/PmzbzR8QVRLYKG\n",
       "chP0MwsLWmRKJsIUSm2kokYiCls0LcUyA2kVKFTEtHEKiYIWY5sKoaxVFIUFUVDGQxcpRGqSqRXT\n",
       "Oefe+3zz5odG8MB57849373fueece94ALFN0qaXshSUJy5cxqbh/opBdswr6gthj+Dbpx6aySb0Z\n",
       "oSiBabexOp7ZAeM8NNa/w2dEWQgbiQHsox+nyma9IxVlu2D1rbnWIiZCFtybhkCaxpUTu9E3j1rG\n",
       "2HaAS3TuvrJZ90pFqf9Fz+CX5N1GJoIGdCEBvjoaj4PRBtCjljG2BtilcLRs1mGpuLhznl6XcR+9\n",
       "nWfmRVZfgkig57T2Qa4S2Io0+DDKgfLTmhCK0hX5Qa919KjlOprFk3cDnKAflPqpPzL0EhtAytej\n",
       "o6/KZvVnhKLUeWfpNUIPjqSRfcSGQRudVgOBDWMAmgBu5trEvmpgFGIld0nxZNHgb5v1HBv3ZGfo\n",
       "Tu7Mv00Ci0lHpM63x3ghLE/GJ7gQFfQ+BiucSqVwoyPfa7vFZGVUKHmnz7hYjckspXwLjQ+MkrxV\n",
       "J2GsF62hdJjDHub0wDYITuewPo2CcV0k04JeOVnRIhRgsqF+wcWK2//ER2/eWSWWCLyWKKbWN6o4\n",
       "TSerdsWCkGhiFUsXz2Y1sFj/5rJi4A06wVE3qcJqFIkEVx5YbfyalY1SsUYCJnSKYVXM7q52hCn9\n",
       "n3NYDXRaX8TB1rwSlFgvYR/wLYtAI5umFmLgZLX8CdgoHcheVRtg+2GFQ6hnc1hpTy7vXe68KqyP\n",
       "mtJ5jmgrfBNhqJ5xsmrdkWGGk9xuNtV1N4XqFKz+pJPV/0lemri78yss++ThuowPbUiLe3Lcyeof\n",
       "GlyEW+raaarRB0dYjf65NGzOnsEZbqoDtEJbvYqr+70rqza2UjUN+ipcJPaDAB1OVgv0edkxtaij\n",
       "YX+UWuIDO1LMcsEeYRCrokYG6gHWOlg1TDLWY5wc8pvgsb/INVJLtK9YqS+HgDwDo/lk8Dk0NQwl\n",
       "Haz7TRiYawHtMXYJf0/8ob2SLlOo5L+CjqJBcH/hvEvDUOlGbPQJLS43ihnynD3836zQJbWYRIoG\n",
       "4qt7IlaY1ZMSfXjlRV/Jzf8BszHZ2qiwbhMAAAAASUVORK5CYII=\n",
       "\" style=\"display:inline;vertical-align:middle;\" /></a><br>(see <a class=\"ProveItLink\" href=\"../../../__pv_it/theorems/0d8e62072501b30372e81fb7558fae13958443820/dependencies.ipynb\">dependencies</a>)<br>"
      ],
      "text/plain": [
       "<IPython.core.display.HTML object>"
      ]
     },
     "metadata": {},
     "output_type": "display_data"
    }
   ],
   "source": [
    "%proving intersection_with_superset_is_set"
   ]
  },
  {
   "cell_type": "code",
   "execution_count": null,
   "metadata": {},
   "outputs": [],
   "source": []
  }
 ],
 "metadata": {
  "kernelspec": {
   "display_name": "Python 3",
   "language": "python",
   "name": "python3"
  }
 },
 "nbformat": 4,
 "nbformat_minor": 0
}