{
 "cells": [
  {
   "cell_type": "markdown",
   "metadata": {},
   "source": [
    "Axioms for the theory of <a class=\"ProveItLink\" href=\"theory.ipynb\">proveit.logic.sets</a>\n",
    "========"
   ]
  },
  {
   "cell_type": "code",
   "execution_count": null,
   "metadata": {},
   "outputs": [],
   "source": [
    "import proveit\n",
    "# Prepare this notebook for defining the axioms of a theory:\n",
    "%axioms_notebook # Keep this at the top following 'import proveit'.\n",
    "\n",
    "from proveit import a, e, f, n, x, y, z, A, B, F, X, Y\n",
    "from proveit import Function, ExprTuple\n",
    "from proveit.core_expr_types import w_1_to_n\n",
    "from proveit.logic import (Not, And, Implies, Iff, Forall, Exists, Equals, \n",
    "                           UniqueExists, InSet, NotInSet, \n",
    "                           Union, Set, SubsetEq)\n",
    "from proveit.logic.sets.successor import OrdinalSuccessor\n",
    "from proveit.numbers import NaturalPos"
   ]
  },
  {
   "cell_type": "code",
   "execution_count": null,
   "metadata": {},
   "outputs": [],
   "source": [
    "%begin axioms"
   ]
  },
  {
   "cell_type": "markdown",
   "metadata": {},
   "source": [
    "### ZF-axioms\n",
    "\n",
    "With some differences.  We have no assumption that our domain of discourse is restricted to sets.  Still, we can use these axioms to dictate existence of mathematical objects that have particular set membership properties.  We do not assume that objects with the same set membership properties are the same and therefore exclude the axiom of extensionality.  This is important since we mathematical objects may not be sets.  In our system, set membership is Boolean if and only if the object is a set.  Furthermore, you may wish to define an object with set membership but also other properties (e.g., an ordered set).  Also, we do no restrict ourselves to first order logic.  So axiom schema are simply axioms quantifying over functions."
   ]
  },
  {
   "cell_type": "markdown",
   "metadata": {},
   "source": [
    "Every non-empty set $x$ contains a member $y$ such that $x$ and $y$ are disjoint sets."
   ]
  },
  {
   "cell_type": "code",
   "execution_count": null,
   "metadata": {},
   "outputs": [],
   "source": [
    "regularity = Forall(\n",
    "    x, Implies(Exists(a, InSet(a, x)), \n",
    "               Exists(y, Not(Exists(z, InSet(z, x), domain=y)),\n",
    "                      domain=x)))"
   ]
  },
  {
   "cell_type": "markdown",
   "metadata": {},
   "source": [
    "For any set, there exists a subset with specific properties defined by a function."
   ]
  },
  {
   "cell_type": "code",
   "execution_count": null,
   "metadata": {},
   "outputs": [],
   "source": [
    "specification = Forall((f, z), Exists(\n",
    "            y, Forall(\n",
    "                x, Iff(InSet(x, y),\n",
    "                       And(InSet(x, z),\n",
    "                           Function(f, x))))))"
   ]
  },
  {
   "cell_type": "markdown",
   "metadata": {},
   "source": [
    "There exists a set containing any two elements."
   ]
  },
  {
   "cell_type": "code",
   "execution_count": null,
   "metadata": {},
   "outputs": [],
   "source": [
    "pairing = Forall((x, y), Exists(z, And(InSet(x, z), InSet(y, z))))"
   ]
  },
  {
   "cell_type": "markdown",
   "metadata": {},
   "source": [
    "The union over the elements of a set exists."
   ]
  },
  {
   "cell_type": "code",
   "execution_count": null,
   "metadata": {},
   "outputs": [],
   "source": [
    "union = Forall(F, Exists(A, Forall(Y, Forall(x, InSet(x, A),\n",
    "                                             domain=Y),\n",
    "                                   domain=F)))"
   ]
  },
  {
   "cell_type": "markdown",
   "metadata": {},
   "source": [
    "The image of a set under any definable function will also fall inside a set.  The function is represented by $f$ which is essentionally a mapping from $A$ to $B$."
   ]
  },
  {
   "cell_type": "code",
   "execution_count": null,
   "metadata": {},
   "outputs": [],
   "source": [
    "replacement = Forall(\n",
    "    (f, A), Exists(\n",
    "        B, Forall(\n",
    "            x, Exists(\n",
    "                y, Equals(y, Function(f, x)),\n",
    "                domain=B),\n",
    "            domain=A)))"
   ]
  },
  {
   "cell_type": "markdown",
   "metadata": {},
   "source": [
    "There exists a set having infinitely many members."
   ]
  },
  {
   "cell_type": "code",
   "execution_count": null,
   "metadata": {},
   "outputs": [],
   "source": [
    "infinity = Exists(\n",
    "    X, Exists(\n",
    "        e, And(\n",
    "            Forall(z, NotInSet(z, e)),\n",
    "            Forall(y, InSet(OrdinalSuccessor(y), X),\n",
    "                   domain=X)),\n",
    "        domain=X))"
   ]
  },
  {
   "cell_type": "markdown",
   "metadata": {},
   "source": [
    "For any set $x$, there is a set $y$ that contains every subset of $x$:"
   ]
  },
  {
   "cell_type": "code",
   "execution_count": null,
   "metadata": {},
   "outputs": [],
   "source": [
    "power_set = Forall(x, Exists(y, Forall(z, Implies(SubsetEq(z, x),\n",
    "                                                  InSet(z, y)))))"
   ]
  },
  {
   "cell_type": "code",
   "execution_count": null,
   "metadata": {},
   "outputs": [],
   "source": [
    "%end axioms"
   ]
  },
  {
   "cell_type": "code",
   "execution_count": null,
   "metadata": {},
   "outputs": [],
   "source": []
  }
 ],
 "metadata": {
  "kernelspec": {
   "display_name": "Python 3 (ipykernel)",
   "language": "python",
   "name": "python3"
  }
 },
 "nbformat": 4,
 "nbformat_minor": 0
}
