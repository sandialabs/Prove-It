{
 "cells": [
  {
   "cell_type": "markdown",
   "metadata": {},
   "source": [
    "Common expressions for the theory of <a class=\"ProveItLink\" href=\"theory.ipynb\">proveit.logic.sets</a>\n",
    "========"
   ]
  },
  {
   "cell_type": "code",
   "execution_count": 1,
   "metadata": {},
   "outputs": [
    {
     "name": "stdout",
     "output_type": "stream",
     "text": [
      "Defining common sub-expressions for theory 'proveit.logic.sets'\n",
      "Subsequent end-of-cell assignments will define common sub-expressions\n",
      "%end_common will finalize the definitions\n"
     ]
    }
   ],
   "source": [
    "import proveit\n",
    "# Prepare this notebook for defining the common expressions of a theory:\n",
    "%common_expressions_notebook # Keep this at the top following 'import proveit'.\n",
    "from proveit import Lambda, ExprRange, IndexedVar\n",
    "from proveit import i, l, m, n, x, y, A, S, fy, Qy\n",
    "from proveit.core_expr_types import y_1_to_n, f__y_1_to_n, Q__y_1_to_n, S_1_to_n, R__y_1_to_n\n",
    "from proveit.logic import (And, Or, Equals, NotEquals, Set, InSet, NotInSet, SubsetEq,\n",
    "                           SetOfAll, UnionAll, IntersectAll)\n",
    "from proveit.numbers import one\n",
    "from proveit.logic.sets.empty_set import EmptySetLiteral\n",
    "%begin common"
   ]
  },
  {
   "cell_type": "code",
   "execution_count": 2,
   "metadata": {},
   "outputs": [
    {
     "data": {
      "text/html": [
       "<strong id=\"EmptySet\">EmptySet:</strong> <a class=\"ProveItLink\" href=\"../__pv_it/common/14ad8e1c9ef8153d2c47e36a445312fe7a3c45900/common_expr.ipynb\"><img src=\"data:image/png;base64,iVBORw0KGgoAAAANSUhEUgAAAAoAAAASBAMAAACQmVJ4AAAAMFBMVEX///8AAAAAAAAAAAAAAAAA\n",
       "AAAAAAAAAAAAAAAAAAAAAAAAAAAAAAAAAAAAAAAAAAAv3aB7AAAAD3RSTlMAMlRm3bsiEJmr74l2\n",
       "zURt5drLAAAACXBIWXMAAA7EAAAOxAGVKw4bAAAAaklEQVQI12NgYGBgBGIGZREgIZreCSTdGboE\n",
       "GJgCGJwDGDg2sIV9YGAx4DH/xsBlwFv+j4FfgYXhE5DUBpEGfez/gOIObP8YeA9OYPzOwN1jwLeA\n",
       "gdG3gHsDA0MLQ0kBA4PtmXagmduAGAAn+xbkG2d8ZAAAAABJRU5ErkJggg==\n",
       "\" style=\"display:inline;vertical-align:middle;\" /></a><br>"
      ],
      "text/plain": [
       "<IPython.core.display.HTML object>"
      ]
     },
     "metadata": {},
     "output_type": "display_data"
    }
   ],
   "source": [
    "EmptySet = EmptySetLiteral()"
   ]
  },
  {
   "cell_type": "code",
   "execution_count": 3,
   "metadata": {},
   "outputs": [
    {
     "data": {
      "text/html": [
       "<strong id=\"each_x_in_S\">each_x_in_S:</strong> <a class=\"ProveItLink\" href=\"../__pv_it/common/cdc82fb15cb341581ae5436c60113e2d1538fd480/common_expr.ipynb\"><img src=\"data:image/png;base64,iVBORw0KGgoAAAANSUhEUgAAASIAAAAVBAMAAAAQmP4kAAAAMFBMVEX///8AAAAAAAAAAAAAAAAA\n",
       "AAAAAAAAAAAAAAAAAAAAAAAAAAAAAAAAAAAAAAAAAAAv3aB7AAAAD3RSTlMAInZUiRDNmWbv3US7\n",
       "qzJazP2FAAAACXBIWXMAAA7EAAAOxAGVKw4bAAADMUlEQVRIx5VWTWgUMRR+M9PZ2d2xS/HgQQod\n",
       "VwQPLfSgFr1YUETEylDUelh1VQSPixStniqiPVTsKghiDy7UH1hFin/gQawe24sIRQWFARXRQ63o\n",
       "ilDs+pI0mZ/MZDSw2XnJ9+V7eUleAgBtoCxaohFT/mesRIDerQbZTsBYnTLifXV3Gp2JrVMAegZ7\n",
       "R2Gtbxu9KWB9WKWnpAsxs5yMWeZAaR4yrmjYC2ngoypNFd0XsxSzOgmQLUO2IhqGIA08ohJV0X2x\n",
       "nNzXWa+zwC2yhb0ieqoSVp+u34IAOOcqRGW6xEexDRLo8Rq+zX4DFDyAY2IfSCtsH3bD4Iwi5DJd\n",
       "5qPYIFr9XQe2ihOnia1gNnfR/z7eYOHONIuzH7eIEVe4EXDLy2SPZLrMRzESgIr+yqrxroyfU8aa\n",
       "f4hxXnRhACzock4LxCGIgLOKgyLTZT6KTeAobdlG6zDsY4NlfJDZ2SRLv5HbeQzkGRhz38Duvlna\n",
       "Uo6CjWqyRz5dlHKM2DguH1jYUyiyMH2pY5nigV7A6hsn5SYBPDhBogp0ooVriL0LAXBhPtkjn86L\n",
       "zEexcYolqdJgHpUEHoNs/sD/J8EhAS7jbwE6PDKvqSjYrqo9YnQRl6kYsQliPmszXe5RXsBxk2oN\n",
       "/NgUDDvY32EPnGMeQS0KNmrqVWP0kYtFluRqMWIvMCqTb6FFDKbze4zY5HjABWK5LK2aM61VII07\n",
       "KKYIEXCWzNqUvQnRzdGrcCmej2J4tDd/OgUP/Okd4ct6Y+ngkwRh/mJH21gcqNo418JNdgy6I2A6\n",
       "6sHyEoF8+Jaga/1laMTzUewrwEDRGOr2Pdo/w5KEZb9+Twl3SFXHxkINzONOz1k02xnGfPcIQuA8\n",
       "2St54u5t8lHhVZje6iztN4mPYnkvGDhaHk7Xg1lFo+0GceGeaKtoLG3ZO/ktwMpKWq+X83WInvOs\n",
       "ihfLRzH/Hk3alOwubiGVuEfb5z67istUfnWE6R2Q/+Alij3n3m376cSC2mndT18MPJ9fbzbj34D0\n",
       "OJvyQGH6U9C3Q6JYKe1dx1x2Ivkj4ZFDNXW549/oTExz1Bg9+HZenjLgKnV3Gp2I/QUA7Oxu+v6t\n",
       "ZQAAAABJRU5ErkJggg==\n",
       "\" style=\"display:inline;vertical-align:middle;\" /></a><br>"
      ],
      "text/plain": [
       "<IPython.core.display.HTML object>"
      ]
     },
     "metadata": {},
     "output_type": "display_data"
    }
   ],
   "source": [
    "each_x_in_S = ExprRange(i, InSet(IndexedVar(x, i), S), one, n)"
   ]
  },
  {
   "cell_type": "code",
   "execution_count": 4,
   "metadata": {},
   "outputs": [
    {
     "data": {
      "text/html": [
       "<strong id=\"x_equals_any_y\">x_equals_any_y:</strong> <a class=\"ProveItLink\" href=\"../__pv_it/common/c62408e7277e236fda16df2eaed1cff09d51000e0/common_expr.ipynb\"><img src=\"data:image/png;base64,iVBORw0KGgoAAAANSUhEUgAAAT0AAAAVBAMAAADGPSRBAAAAMFBMVEX///8AAAAAAAAAAAAAAAAA\n",
       "AAAAAAAAAAAAAAAAAAAAAAAAAAAAAAAAAAAAAAAAAAAv3aB7AAAAD3RSTlMAInZUiRDNmWbv3US7\n",
       "qzJazP2FAAAACXBIWXMAAA7EAAAOxAGVKw4bAAAC90lEQVRIx5WXS2gTQRzGv81mu5tn14MK4mEN\n",
       "Yr0UehCLHrTY0puwCNIeWm0PgsfgMyriqqAXpYviSZCCoKAgQU89RQVPooSCoKAQfFx60AjqMXUe\n",
       "mzQz+5jNH7I72czv+/4zO68AsJEYdoonQmhIG3aa3zNjyZWeyw9UQMFJmZ5KiFvvUal40gMVgN0p\n",
       "81MKUWtjQVXrBL2UXHIp055RA0OuAIgxiBC1Nj1VpZv0YlHFYgtpAKsqANKPAwhR65yyUo62GMvk\n",
       "s4V9Vb+4ewIgxSBCxHqvstIQa+ck+ZymBTWAkwIgxSBCxPoMuR0ZPTYlzSVjxMM8L2abCJpMm84A\n",
       "o/Lh+2QsgMMCIIUglOxMrWlbq5lVkyLmExY0n6zuYykYMWwcl1rION3OMTHqXIwFcEMA5AnSL5Ts\n",
       "TK0fkqtt/S1Jg/UbwT5jlqZG6tMp10SeDUQC4CqW3I8RgDH1hdbZJwBS9AvFO/Mg1vcJATM01d2c\n",
       "gzvlCm1buc2eLGKc3QmAFs5FAiZYb/wSADn6hGKdu21pMzvkwi+i4ZY70KlbwQ9W08VefugpiMBw\n",
       "XeuQ4ooAhJflPqE452Ar8tnrQsM2XHEUkA7K+Dw/nY/yfPkluu8Xhd84GgFYLstvvwDIIQjFOFu1\n",
       "ryPc+jUwV/+ErKzyDsUmT83icpnbdXYngPG25GMiCkCWErcEILRrbQjFOs+ueDmbWZO14OCPC3gh\n",
       "17qMhsfzM3kmxqPe4qF3ZvzCWBSANTdYOTaA42SIGf+CgigU67x5F4ZdZr0GzFT0WugoMX/ois3z\n",
       "ywfdECy2BDBOOePXIwHtDS0+FYA83e4edwuCULzzKhvExDrfilu8p4Oht00aPknAVmwiB8DlVMeX\n",
       "RKEHOF9m1lY1skp2wbgb5FeL2P1jAO39z7OpNn6lUBvPDnDrV9GNc0oT0Kb/ONDkWZgA5NbXyWK5\n",
       "PeX5L0Go0MROj1vPRdbSr10KSkX5FK4CYnzDoRRi1priOL4j9P9CAWTslPmphKj1f0cw7rez4QzV\n",
       "AAAAAElFTkSuQmCC\n",
       "\" style=\"display:inline;vertical-align:middle;\" /></a><br>"
      ],
      "text/plain": [
       "<IPython.core.display.HTML object>"
      ]
     },
     "metadata": {},
     "output_type": "display_data"
    }
   ],
   "source": [
    "x_equals_any_y = Or(ExprRange(i, Equals(x, IndexedVar(y, i)), one, n))"
   ]
  },
  {
   "cell_type": "code",
   "execution_count": 5,
   "metadata": {},
   "outputs": [
    {
     "data": {
      "text/html": [
       "<strong id=\"x_notequals_all_y\">x_notequals_all_y:</strong> <a class=\"ProveItLink\" href=\"../__pv_it/common/e8b056ad1986fe252a9e575aafd9868d45f1f60e0/common_expr.ipynb\"><img src=\"data:image/png;base64,iVBORw0KGgoAAAANSUhEUgAAAT0AAAAVCAMAAAADzclAAAAAPFBMVEX///8AAAAAAAAAAAAAAAAA\n",
       "AAAAAAAAAAAAAAAAAAAAAAAAAAAAAAAAAAAAAAAAAAAAAAAAAAAAAAAAAAAo1xBWAAAAE3RSTlMA\n",
       "InZUiRDNmWbv3US7qzLn9enz+YF6hwAAAAlwSFlzAAAOxAAADsQBlSsOGwAAAwhJREFUWMO1mNkW\n",
       "pCoMRZkig0Lf2/7/vzaghTIJOPBQy1UK+ySBEEDINoyeNPzSN991/2LI0J/Qxpccrt7OpIl6SOhB\n",
       "DLanioIkyhoDmaWhRDQGeExoIwbbc0W7JJha3y2m8cGUxInFgX2BkCIYHfPWB4o2SbwVVqNb4wge\n",
       "a1OxuBcICSIltNoXijZJshmGdoKVEM9pPUdvXyDEiJTQXmUfKHKSaCuKc0cYpiiWKs4arxBihOrI\n",
       "S58rcpL4nj+BEA2G5QllisIAxM96iIdnOsnI504/QhXRQ4gQKaFnjygpemSzl/SLqV3ERBPEVUAo\n",
       "3/78535DR4aom/ZijVPAlKApL8yaFDFCiBApoTlJKooe2ewlqc3xArvXgLS4DIOhG0vbhQCHQVSm\n",
       "CVcdaWonVBFVAjCmNeSIjNC1BeSKbtgcT2mJ5JZO3QbNC+lgTrZTmytdmWh/DCEhZuYUFu33enLU\n",
       "tzuhhqgTuJ8NOSIjNFpN0bjNSVTWYFvpNSqkl9kGy/ZzZBq8N8u0lAKVea+CqBNW2xGvJkXkhEa5\n",
       "cqVo1ObobxnWlfvG9gKIcsD/f7dMcCRMHyziTTm8dzyFupTTdOVmiBZBwMl7ByIn9FXKJUWDNgsu\n",
       "7JLjh9WLdz4sM9LSZ8jLU4SthPTv52SQWE7FwX6KDktiI9QQlwT7scoQOaFVrpQVjdsMYpY2R0oc\n",
       "JG2VAF0NcDvSHMezsLFx7SImYu+FogQJkp119lqjjLgmIBNyfUAUCLBOtYcLReM2YyBu2BWCJONd\n",
       "ANwmVcoFbYXBVj2M8BXH3lMhkYQ90u4qv4ftszLimoAXyBAFAlK8+lBXdMdmW98cGdhJUmb4JoJN\n",
       "cSrC1wn8NgFbF2DcgxhstxVJ25Fzv1tvkgTvvjvZBwFJY+81Dt13CXgxxuz3bPzVK6rbilbvemoO\n",
       "SdUTsSiEQdmpq/3/mE0rI9v6unvmvibI1TXUhRhsNxX58y9h4iQJaspK1TwVhM+jFxKPCX13HiNX\n",
       "Vo8VBUm4UrWbPiWkbdlDQg9isD1VtEn6By8OICu5r0vGAAAAAElFTkSuQmCC\n",
       "\" style=\"display:inline;vertical-align:middle;\" /></a><br>"
      ],
      "text/plain": [
       "<IPython.core.display.HTML object>"
      ]
     },
     "metadata": {},
     "output_type": "display_data"
    }
   ],
   "source": [
    "x_notequals_all_y = And(ExprRange(i, NotEquals(x, IndexedVar(y, i)), one, n))"
   ]
  },
  {
   "cell_type": "code",
   "execution_count": 6,
   "metadata": {},
   "outputs": [
    {
     "data": {
      "text/html": [
       "<strong id=\"x_in_any_A\">x_in_any_A:</strong> <a class=\"ProveItLink\" href=\"../__pv_it/common/0e66a6fe3dd07c7210ffb722b393757ad3a53dc40/common_expr.ipynb\"><img src=\"data:image/png;base64,iVBORw0KGgoAAAANSUhEUgAAAUsAAAAVBAMAAAA9atGeAAAAMFBMVEX///8AAAAAAAAAAAAAAAAA\n",
       "AAAAAAAAAAAAAAAAAAAAAAAAAAAAAAAAAAAAAAAAAAAv3aB7AAAAD3RSTlMAInZUiRDNmWbv3US7\n",
       "qzJazP2FAAAACXBIWXMAAA7EAAAOxAGVKw4bAAADoklEQVRIx6VXXUgUURT+Zsb9cVbHJUooDDfB\n",
       "8EHJhyiKQKPoIZIWCZLYSiuhtxYKtEBYgurFwJdeCkoIjbYepD/yqa2XwCAXoYcocgkijEolk+jP\n",
       "7s/cmbkzzs5IF+bO2Xvvd75zzz3n3FkASQS0ZIgRuSkI25Jh16itftO15vuee8IXonTzdyIV0spg\n",
       "csG/2VfHKaEr55rwhUTnTKEppJnB5CZ/pNtvobYkpF7avaLde9r5Q9qEmdG0DJFaNZ00UghHzvlj\n",
       "Ob+VsWkROJdod552L9mEL2Rg3hTiWRkitTi1sKqEcOScv1KOlYn8qJB37i+ZUiXdvm7FngxpzueF\n",
       "TypW/xWjVyBB5DYsYi8MOeff4lyYOJa20yG1ScR3lG66gvyKsREJ8qjRllep34R4EhJEbrvIc9qj\n",
       "yYec858hr86WI7vZaG3a4Xa0iSOpKJpu0dlPJ0TpdRBltR9C7IAE8WbxsFuTHznnp9vOqlMxButx\n",
       "6LqP2XYRTOzg3gENlqcEJOoIoUSrsSDki5AgrhwqQU25NfmRc/6bpE/Gv1cz451xlEU9cWIXHdKG\n",
       "6MAXYITNOCFRZ9hD+QMc6KAJvg0SRG5GEXrarWkZcivth3CNoBDjS4yr+Xz+rhnPz/umCzAa6EYN\n",
       "VmeiSY3lrwSZIYh8wUymvoHflOEckWchQVytB1s9mrzk9rbm6EqSSvzWiDimOoEaYqJGzUwwb2rt\n",
       "5gk7IRkbESEjP4FfqCdJOg4J4qnqPR5Ny5Bb0TRE/Q48SUbSolJYboc+ZJqp8fHhzxCHbkF055kD\n",
       "t4ELzMztkCCuphsFjyYvebz/fYs6WGL8z4hHxl6jgk3b8Z7I8auPWRjnSpve8DknRLVv78fiittL\n",
       "nkFIEPdVfnnMo8lL3jWeqyyqRcZPKkfbh7MktVgsWcVqLb0o5k0zYzzrDnVbxcaGHLdKHY2MSXLG\n",
       "xohZamzIUfKKLJoCPeDRZTR5yNdsRE2JcpPnE3CwQevnSyJvH/KFmaVeaJOL7dxMne9dVGoJcvgF\n",
       "L3eRycU0diydAOrowB04ITpNpFtCEMUdQeRTmIHeyvj1knQT7LPvK54E1Mx1rsiSIA8m8tJ9qGSV\n",
       "JJThUB9IAeTX0Yx6g/HHs2UVMTP7XZ8OZSF1Xz+my3xTrECTMkf8ORjj/E/LrtyzkIJScI2WhdxY\n",
       "It9gdSG/N8tqShRJ3VrfyPkzgbqq3LUv83/0K9Ik+JXAPwQbPD4OgqjJkGYGk3P+f//iBlWtBmUi\n",
       "AAAAAElFTkSuQmCC\n",
       "\" style=\"display:inline;vertical-align:middle;\" /></a><br>"
      ],
      "text/plain": [
       "<IPython.core.display.HTML object>"
      ]
     },
     "metadata": {},
     "output_type": "display_data"
    }
   ],
   "source": [
    "x_in_any_A = Or(ExprRange(i, InSet(x, IndexedVar(A, i)), one, m))"
   ]
  },
  {
   "cell_type": "code",
   "execution_count": 7,
   "metadata": {},
   "outputs": [
    {
     "data": {
      "text/html": [
       "<strong id=\"x_notin_all_A\">x_notin_all_A:</strong> <a class=\"ProveItLink\" href=\"../__pv_it/common/ad376b8ac1c3c58936134a9b5cffa1c959ece9fa0/common_expr.ipynb\"><img src=\"data:image/png;base64,iVBORw0KGgoAAAANSUhEUgAAAUsAAAAVCAMAAAD4mjyfAAAASFBMVEX///8AAAAAAAAAAAAAAAAA\n",
       "AAAAAAAAAAAAAAAAAAAAAAAAAAAAAAAAAAAAAAAAAAAAAAAAAAAAAAAAAAAAAAAAAAAAAAAAAACC\n",
       "gUnDAAAAF3RSTlMAInZUiRDNmWbv3US7qzLp8+P3neeRwauqSyUAAAAJcEhZcwAADsQAAA7EAZUr\n",
       "DhsAAANfSURBVFjDrZlpg5wgDIYFRQ6Bttvd8v//aUFHrnB4kA+7OhN88nKEyEyTNTS1rP3tKB80\n",
       "BnLT0CCg98Rz028lhbZrer/hLu4+5QHkpg1QnoY2L80HalWimDwq1gn7AeU+5KYNUR6HRtY2kG6F\n",
       "IIzpjOGSjfgDSh8CKB3L3Acpj0KjncEWJYoyeS5hNAlTZHE+oHQhkNK23H2Q8ig03sonUvz6DQNe\n",
       "0GJ0/iEnyZRX6aDyJsRSHkAgpZMdM/dRyn1oc31otxWTScGmCE/YgNW1smRItUyWxtqEFCgXIIAy\n",
       "9eZZ4j5MuQ+NfvIvwVgRvUQpBbkUUMop1KUNsD4WlSb1NV4LVcoOKVH6EEjp7zSx+zDlPrRzpK0b\n",
       "VniiIUnsXAbrkM1CtQFbIIvYrulMC/MJUA5xkHIBAilty92HKfehiWM4mG3OjJ3YodfXSonlwkHm\n",
       "mCAkiJt5VkyIqGmVslYKuQhClkUpAiAFyoUKJ3J/pxxOez7xIx273ECTWa25EOLPl/0js6xMqd3N\n",
       "9g81xn40dSgWjkyDo4GtUXbITqlDnIJz0kSQAqVpwP2V8sJYmfOJ+8OTsIgsFnDkcDIfcbPvy41n\n",
       "dRsRoC8BZYdASgIxm5sNOoOUKM2CCLi/VA4SAD9nurtxlRMhSXklivPcfcHzvgxXZxh0ztcTpIhi\n",
       "IZdAGAl9GSAlypU6Pbi/Us4os4tS2TpLaq9f4mMotkk5pyix2uWwgcy+sfRVKohjMq9xo1fXKsWt\n",
       "OUDJIbaByCElypXCO7i/UU7Yxu09V27f8qEdVcZsNKH82KlCCp5BiYXONSY/5X/oy7PEiDZAqdNa\n",
       "pkRZZ1DIAcikzy3DQwoUYtbaRTGoN8oRwe7RbrWcIdn/eu8MQu1YzJQl64Wor42kicSYfXub3cWS\n",
       "9qU404/ybbQXUKcQJb97ECRJDilRBK1elNzfKbdVlN2kolThQhO6ui7Y38W+3zVfen1fovYe0KD8\n",
       "/OtAkO0RhC5Abtor5Vy7jd1l8r0SOEJj9Nb5Xa0vOwcFLyhIaq0puXIacc/eKEfmMzdtmqQhNImq\n",
       "IrrHyctqFnzJ9zmFG2fXArpnL5Rv6vN+hJQ7TzhbEHntuO9ZWGkl+Y4iB/9KMUR5GhqqvDqoG8dZ\n",
       "fZXvKXj4Dz4DlEeh/QfJEySeJO/KvAAAAABJRU5ErkJggg==\n",
       "\" style=\"display:inline;vertical-align:middle;\" /></a><br>"
      ],
      "text/plain": [
       "<IPython.core.display.HTML object>"
      ]
     },
     "metadata": {},
     "output_type": "display_data"
    }
   ],
   "source": [
    "x_notin_all_A = And(ExprRange(i, NotInSet(x, IndexedVar(A, i)), one, m))"
   ]
  },
  {
   "cell_type": "code",
   "execution_count": 8,
   "metadata": {},
   "outputs": [
    {
     "data": {
      "text/html": [
       "<strong id=\"x_in_every_A\">x_in_every_A:</strong> <a class=\"ProveItLink\" href=\"../__pv_it/common/2dec7f50bdd98ccde445c0257b0c33cd89e812d60/common_expr.ipynb\"><img src=\"data:image/png;base64,iVBORw0KGgoAAAANSUhEUgAAAUsAAAAVBAMAAAA9atGeAAAAMFBMVEX///8AAAAAAAAAAAAAAAAA\n",
       "AAAAAAAAAAAAAAAAAAAAAAAAAAAAAAAAAAAAAAAAAAAv3aB7AAAAD3RSTlMAInZUiRDNmWbv3US7\n",
       "qzJazP2FAAAACXBIWXMAAA7EAAAOxAGVKw4bAAADpklEQVRIx6VXXUgUURQ+M/vrrI5LlFAYboLh\n",
       "g9I+RFEEGkUPkbRIlIiVVkJvLRRogbAE1YvBvvRSUAuh0dSD9Ec+tfUSGOQi9BBFLUKEUalkEv1t\n",
       "93fn3js7OyMdmL1n7r3f+c79OefMAkAcPCTuo0cWDfxK3O8cPek23MDae+qAK0Trp20s4dNLb3LO\n",
       "v9nVxiluK6MMuELCC0xp9emmNznjD/W7TQyUuDZImyBbujukg7sZTskQVXZ5WbLJKX8k4zYz8p5f\n",
       "nEu06WVG3SEji0yJpmWIIqFxL0s2OeWvke/KlDXO9Z37i0yroXvT+oa9SpA2y+K+BFf/5b1XQIKo\n",
       "V/LyRAVLlckp/xZxYuxYyg6HxCZ+YmG66Nxn+ipBHrXY+ir9G1dPggRRxDDzTksu5JT/DGq624/s\n",
       "Jr0NKWHboYMfSbBArktnmB6ECNEGBaJ04AdXu0CCOCJnwGHJjZzy42Wn9ZlIDr8PCKbuw3wnv2nk\n",
       "VMPxQLq8UxwiuhFLmktcvwgSRJEB2Oqw5EZO+W+i33j0ex1xXrzwaWhCm9iDuwJZ3PEFYIyMiJCw\n",
       "eO1B+wNwoOsV0reBBJHFLICRUi1VIC+HfRauIRRE6BTzqmVZd9l9fj70Pg9mM16oSfLMO4BmMiRC\n",
       "5hDCyrNgGhr5jRnOIX0eJIgsdUXQE6olJ7m9rAU8E4USrRohYagboB65GMBuxrIsx/VyN8uQPiHL\n",
       "oJ6fAL+gCQXpJEgQWQ6ioZxqqQJ5+TZl8b4DPImHyCHkxG0HI8vcJD84U0eS7KjKEEM8c4DbABeI\n",
       "m9tBgjiT+2nVkpM8Ojzbro8WCf8ztCMTryFIhu0TimVo6SMeRvPMIVqzRYhuV+/HvMTtRc8oSBBZ\n",
       "crxmVyfvmczUFPQC4UeZo+PDWRRaJDLLS1+LntpF5mYER9153P2SJRsbcryc6vDNmEaBb46xVGND\n",
       "jiJfQ8tMgSheWm1RteQgX7MR6ouYGz2fAA41B4bplNDbh3RiX2kQAtPLndRNA9cMHL8wi38kyOEX\n",
       "NN2FppdTsKN0AqARd9wBEWLgtHSLK3V4gplQLTnJZ2AOjCThN4pSJdhn1yuaC7Cb65QaIkEeTFnS\n",
       "uWppLQ5aztcHkgf5dWiDJpPwR9NVDRE3h+W+6pDGrx9TVb4pVmBJW0D7ORqh/E+rztyzlAAtr/RW\n",
       "hdwooW+wRp/fm1UtxQqoMq1vofx9nrZq1brc93/0K7LE+TXPPwQbHHvsBdHjPt30Jqf8/wChuAcM\n",
       "qc5QaAAAAABJRU5ErkJggg==\n",
       "\" style=\"display:inline;vertical-align:middle;\" /></a><br>"
      ],
      "text/plain": [
       "<IPython.core.display.HTML object>"
      ]
     },
     "metadata": {},
     "output_type": "display_data"
    }
   ],
   "source": [
    "x_in_every_A = And(ExprRange(i, InSet(x, IndexedVar(A, i)), one, m))"
   ]
  },
  {
   "cell_type": "code",
   "execution_count": 9,
   "metadata": {},
   "outputs": [
    {
     "data": {
      "text/html": [
       "<strong id=\"x_notin_some_A\">x_notin_some_A:</strong> <a class=\"ProveItLink\" href=\"../__pv_it/common/8aea2b9a67b5749692cd213b12001635b50161d20/common_expr.ipynb\"><img src=\"data:image/png;base64,iVBORw0KGgoAAAANSUhEUgAAAUsAAAAVCAMAAAD4mjyfAAAASFBMVEX///8AAAAAAAAAAAAAAAAA\n",
       "AAAAAAAAAAAAAAAAAAAAAAAAAAAAAAAAAAAAAAAAAAAAAAAAAAAAAAAAAAAAAAAAAAAAAAAAAACC\n",
       "gUnDAAAAF3RSTlMAInZUiRDNmWbv3US7qzLp8+P3neeRwauqSyUAAAAJcEhZcwAADsQAAA7EAZUr\n",
       "DhsAAANgSURBVFjDrZnZYtwgDEXNZhYDbdOk/P+fFuwx+zIe4CHxZISPhLB0cbbNDrD1Rv/bVTZg\n",
       "DeThAIuA3hKirt1OKnP39PMBh7jnlA8gD8eCyFPXEO7eUKsaxeResYHbH1CeQx6OJZHHrpG9D6RH\n",
       "xQlj2jlU/kqHjfQBpQupU9qjZr4o8sg1Oki2qFGUyWsJo/7KOyt1mPGc0oXUKe1RM18UeeQa79UT\n",
       "KX79FkX6MMCmCICT3Ie4tPAuxFKeQqqUNxYmMl8VuXcNtV05dkg2VU4FcIOmqNq7zzJ+fUeDTZty\n",
       "QiqUEaRG6Y3SfFnk3jX6qr8EQkU0xijqWKReU6grG8XzgVXe6qJnpEk5ITXKCFKjdFVLYb4scu/a\n",
       "nWlrBhXcaGDtIKkzIWkWqk3RAllgXxmFsNxPBeWEVChjSIXS7z65+bLIvWviSgez05mxGzus+t6Q\n",
       "WK7IAnNtEBKCQzwTEyKa2qTsDSEXQQjG6m7DEaRCeUPhROZzkZcdnm/8avwuaTTZ1ZoLIf582R8y\n",
       "q8qU2m4mL30BfTZ1JBZcYhGNC3ODckJOShvi7nNvmhhSUvojN5+KvJIrc9/xvHmyq4mMKnb058vI\n",
       "vIJDfi0PnorgHZRrWVBOSElJIOZwu0EXkJIyVuax+WTkRQHg9053H5xyIqnoENV97r7g+VoikSgQ\n",
       "naSvSRHV9pFAGAlrmUAKylAWJeZTkTPK7EOp7Hnn1qvWNQmvVBybckZRYbVl+iieoIOlR6kQHJPJ\n",
       "kUolh4YmxfWCgpJD7ARRgRSU0ek7NZ+JnLCD289cub7lXbtUBjKaUH51qlBgUCGxwP2MyZf8D2tJ\n",
       "4/5GMpnbpuyoEHIFZNN3y0ggGYWYvXVRdWomckCgu5d7Wm6X7G99LgahNheIsqRIEPV1kLSQGHO2\n",
       "N+QucLqWItkimYJuU4iS3yMIkKQKySiCNi9q5nORWxVlm1RUKpxron2cZX+xPd+J3iHNryXoa+YO\n",
       "5effAALsigDwBuThmIqca9fYXSU/lcDlGqOP3t+11nLwomCCAqTWmpJ33kY8GzORA/Pam7ZM0uCa\n",
       "BM0ghgczvBsM37L9nMKNG+859GxMRH6ol2IFyr1PuGcQOXgdMOVWqiTnKHLxfymWRJ66BhpHWvVA\n",
       "boyjnKfA5f/wWRB55Np/wE8kjL1GEi4AAAAASUVORK5CYII=\n",
       "\" style=\"display:inline;vertical-align:middle;\" /></a><br>"
      ],
      "text/plain": [
       "<IPython.core.display.HTML object>"
      ]
     },
     "metadata": {},
     "output_type": "display_data"
    }
   ],
   "source": [
    "x_notin_some_A = Or(ExprRange(i, NotInSet(x, IndexedVar(A, i)), one, m))"
   ]
  },
  {
   "cell_type": "code",
   "execution_count": 10,
   "metadata": {},
   "outputs": [
    {
     "data": {
      "text/html": [
       "<strong id=\"x_singletons_range\">x_singletons_range:</strong> <a class=\"ProveItLink\" href=\"../__pv_it/common/36be1dd22f785840716c6772742013547bc4effc0/common_expr.ipynb\"><img src=\"data:image/png;base64,iVBORw0KGgoAAAANSUhEUgAAALsAAAAVBAMAAADsqILHAAAAMFBMVEX///8AAAAAAAAAAAAAAAAA\n",
       "AAAAAAAAAAAAAAAAAAAAAAAAAAAAAAAAAAAAAAAAAAAv3aB7AAAAD3RSTlMAEER2zVSJ3Zki72ar\n",
       "MruaaVGaAAAACXBIWXMAAA7EAAAOxAGVKw4bAAACF0lEQVQ4y+2VvUvDQBjG32tpbfqhkS4iflTB\n",
       "TTBQQRCHUnC2TuqkoLagDjrpWFEQFKSLRUWw4CRdiijoICraRUUqoi466KxgQQcH0cvlLrlL2ugf\n",
       "YKDX973nya9N8z4NAKBmMA5pgGtECVZSYHuIbkZqb+J3H564RpQCV7ItXnRTkqsoml6M0ixVHtvR\n",
       "zW6N5J4UNxNGaZbM/S9q4h//BzwKn9yNlsEHu+rjsb/ieZBG8kTwC7qUBbrZaZygSpB0nnoo1pmx\n",
       "w5tBGmk9B3AAR/IFoF2134zpJ6iSL+Ur+nMofolnXvqwwxsgeqikjSguCjCP15sOkr0zxidSgH4r\n",
       "cgV13eXpHIilGJMCyySKW+rSR37CqJ5STfIqAFUh6QuXI6HyeB5Eb0aURdHxCdUUPyibUtqWQrJP\n",
       "VvGWXFozTUD7h+EkI+Ebjp79GRii+DHildksNITOwU1rN7m1yEpmbg2EdrKwzUh41/VVk3HEKJ6M\n",
       "E3pn+MHrRWjB9b3MBrMxQnW90N0aSApGoMjNPZpT+veAx8M0vTCoCbuW8CdLT/rcV0zhZUYtkrTQ\n",
       "3RTkVxyZEqnl8C5ZlFZhTe97rX+Wottb8CQLtni3KEmvj7N6P2QNrOjehIpbhjeimO4Zxqs2uEFR\n",
       "8n5/v9EUA1IseJO7FZzjjGSKIsqSN6WEBLU5grFOTkk3Ja3m+SfkRIzrBAnSeftnregmpB8Yi5qO\n",
       "AbgcqAAAAABJRU5ErkJggg==\n",
       "\" style=\"display:inline;vertical-align:middle;\" /></a><br>"
      ],
      "text/plain": [
       "<IPython.core.display.HTML object>"
      ]
     },
     "metadata": {},
     "output_type": "display_data"
    }
   ],
   "source": [
    "x_singletons_range = ExprRange(i, Set(IndexedVar(x, i)), one, n)"
   ]
  },
  {
   "cell_type": "code",
   "execution_count": 11,
   "metadata": {},
   "outputs": [
    {
     "data": {
      "text/html": [
       "<strong id=\"each_A_in_S\">each_A_in_S:</strong> <a class=\"ProveItLink\" href=\"../__pv_it/common/9f07a3e1fba5b4eea9515033df6848c412c900c60/common_expr.ipynb\"><img src=\"data:image/png;base64,iVBORw0KGgoAAAANSUhEUgAAAVcAAAAVBAMAAAAA+LD4AAAAMFBMVEX///8AAAAAAAAAAAAAAAAA\n",
       "AAAAAAAAAAAAAAAAAAAAAAAAAAAAAAAAAAAAAAAAAAAv3aB7AAAAD3RSTlMAInZUiRDNmWbv3US7\n",
       "qzJazP2FAAAACXBIWXMAAA7EAAAOxAGVKw4bAAADpElEQVRIx51XTWgTQRR+m2Sz+Wm2UaSiKI09\n",
       "9VCxB7EoQiOKJ39CDyIlYisWBA8WrFSEQvBgD/UnF0EQIeIfRpDgD+hBiIIIPbRBEA+lGjx4KGpT\n",
       "rKWo7Tozb39md3azMQ8yOzNvvi/v7bx5bxYAkuAnkjjVFMhDko2vCnSzfluddfGUc6YpkIfoXNJA\n",
       "/WVPaLMd+2c81vSMpCeg0znbFMhDdK5wzXsJ5QvkAGR0KKjxyq5isfiY9VpSkK1BOIPzIXwJrqDA\n",
       "JAFV64CcstfGBb0OYwW+IQAlx8bKZy5yvm4xu6MAkQGIDOOoXyd2Aaknkj4gh8j3bVwwtmBTi3zj\n",
       "AFEc7zlctWhuW5hVDL7rOOqcwacLqD/pB3KG6pUSzxVat2pTi3zRDOzA6E5tszYrUbJOyTLxkVh0\n",
       "CoeFb/h0AXEWeYAcElPLHBesDfy0qUW+cA5GcC+gN2cqw9xeaYfY8yDGaDqM/rqABnxBwrka5Lhg\n",
       "OLhsU4t8oYru/lOYT5vK7xzmmrZC/+oSepEMYhyKILXiC3LIIPRwXPFuddEWsiIfCds76Be0E+1R\n",
       "dGczfwy6tDx57DS8uMc6HEjeN0tPvVTxBdmFWBPLWFwKSCu2kiLyBfNwkwX7u9HPZVA7ChhNNlbl\n",
       "D2nmWfcTQAfrcCAFFIYq+ILskqhCIGVyQdfo2F+bXuRTa7i2D6CVaIMFWzIhQhMxDfyXRkbst4xF\n",
       "UGtJYsf4PPiB7HKEqAoml0zs/m3Ti3zxPO4CCapY3jQWTpvvn2yG9It0dhnZXek2tw5BkQwaGy75\n",
       "gcSScNbkUsjvIcD41Y5K5xS48xHr3tDozmG1M4w9NqMXHzqh0EN02QgPrOA8CEIMJc8+h/ogELa5\n",
       "zeCCF6x2yxM34BZsBXe+SJnllw20pC1YxsKzSSy3yl09AbH8cpE2U0ZSMkAwh57FD+jl0QN0nFgs\n",
       "L4HeRGi8tlR1Lomex+mk1DdACoCeywQ+YvAcQFYbguD0Utoy1ozr+MdZtoWPaPOBNl9ow4Okt42B\n",
       "YjSBPQC9SVAP1RRyydNLGditnYREStUD04UvVoKYVTFFY81E4lDwoPWwpjGQh/Bc0WqgLNWq7gs3\n",
       "gnndqGsslx+YcCBp6se5xkAewhvQTt5tpDzsvpDmh9fW/+5fZJlPKRbNKyLKJifQAkU1jd3tLjBQ\n",
       "tR7IQywueEXqnfQ+48on0atE9v/4UJoCeUi2sWUtSXZ38v/wEG4iTYG8DkRj3z/kjv0PqtQyVjlx\n",
       "YGUAAAAASUVORK5CYII=\n",
       "\" style=\"display:inline;vertical-align:middle;\" /></a><br>"
      ],
      "text/plain": [
       "<IPython.core.display.HTML object>"
      ]
     },
     "metadata": {},
     "output_type": "display_data"
    }
   ],
   "source": [
    "each_A_in_S = And(ExprRange(i, SubsetEq(IndexedVar(A, i), S), one, m))"
   ]
  },
  {
   "cell_type": "code",
   "execution_count": 12,
   "metadata": {},
   "outputs": [
    {
     "data": {
      "text/html": [
       "<strong id=\"general_comprehension_fy\">general_comprehension_fy:</strong> <a class=\"ProveItLink\" href=\"../__pv_it/common/ee8480ef25fbf5c4f7b21dd050a2af777ad5201e0/common_expr.ipynb\"><img src=\"data:image/png;base64,iVBORw0KGgoAAAANSUhEUgAAAKMAAAAZBAMAAACvE4OgAAAAMFBMVEX///8AAAAAAAAAAAAAAAAA\n",
       "AAAAAAAAAAAAAAAAAAAAAAAAAAAAAAAAAAAAAAAAAAAv3aB7AAAAD3RSTlMAEER2zVSJ3Zki72ar\n",
       "MruaaVGaAAAACXBIWXMAAA7EAAAOxAGVKw4bAAACoklEQVRIx62VTWgTQRTH/7v5cDefC60eepBV\n",
       "xIOCBFQoWiX04sGDexCqVWgQaVQKFj0IYtWD1I+CWfEiKlYpgkWEQHrwYgmoOajQnERKIfUiiLpU\n",
       "wYOVUt/MZNNMZs0pA3mzO/z3N2/ee/MCQNuMtWFKEw0XraNJYh5F4Ni1qellt5j0jL9wQtE3SxY+\n",
       "BxEjP/lkDFvsJVdf3duKNE8Nvxd6SfI9CBkd5dPIvEO2218NWy3Ik1UkslAk+TbIpzuYYsJfjV+V\n",
       "kd2LZJ5BkbRB6uL4jxvLT2TkAWbmVEkbpLCRbGP5oIQ0Vpg9W1Uk/0fG311ixzAo9F0T0MoUWwk5\n",
       "yc6Ngq1IApEG3zbNqyZcBHKDiC8BMxKywHKHQ64i2ROEvF/kblSZXecg6VxHgnwalJBXWO60ZVUy\n",
       "6ajEh/18GuI2ZkPDFGLkck1CLvMU/1Ul2huVmbzNKzDvI1nua+TyNgl5gZmerCqJ9gccPFVeuwV0\n",
       "KhZbFqABCTkH3cEtV5UMWRJs685S1S+fKYHP8C0Yf1ZC1pxXD6LTAZIzjdP2eTYiGR4NjjR/iYIi\n",
       "j42yzmI2LiFD05noBytA0iiiGyy/MSDhIyNLYit61iq9f+jxnHx7Fr7kbVRVCSH1PuKEeN2ki7zn\n",
       "caRRFl+OcUcoDeZoa3NL2SFXlRCyK23NY6M4zOo3//YcD9dL4SW1HPSwDBQVZPlwgISQdwawH9uF\n",
       "aH2B+RaiPnDZ71gpF+dRoYdHSgs2VlcCJNfoV8FrzHie58CCziJo/gZKN+vfaYs41kuVh68KMnnR\n",
       "USXacx7TF/jI25kDkzeDe2+bCuuumEKNv5x9SiE3ScwRts0YuZayREYSLjoxjsxmYf5gyE/jpztC\n",
       "1NwUJWqD59no1EhktqDDQy/lpPd/5iG7D2Ti59QAAAAASUVORK5CYII=\n",
       "\" style=\"display:inline;vertical-align:middle;\" /></a><br>"
      ],
      "text/plain": [
       "<IPython.core.display.HTML object>"
      ]
     },
     "metadata": {},
     "output_type": "display_data"
    }
   ],
   "source": [
    "general_comprehension_fy = SetOfAll(y, fy, S, conditions=[Qy])"
   ]
  },
  {
   "cell_type": "code",
   "execution_count": 13,
   "metadata": {},
   "outputs": [
    {
     "data": {
      "text/html": [
       "<strong id=\"general_comprehension_fyn\">general_comprehension_fyn:</strong> <a class=\"ProveItLink\" href=\"../__pv_it/common/8cfdcb2e58bc7aaedc7223403ac4f2df21d9170e0/common_expr.ipynb\"><img src=\"data:image/png;base64,iVBORw0KGgoAAAANSUhEUgAAAigAAAAaBAMAAABvDro5AAAAMFBMVEX///8AAAAAAAAAAAAAAAAA\n",
       "AAAAAAAAAAAAAAAAAAAAAAAAAAAAAAAAAAAAAAAAAAAv3aB7AAAAD3RSTlMAEER2zVSJ3Zki72ar\n",
       "MruaaVGaAAAACXBIWXMAAA7EAAAOxAGVKw4bAAAGdElEQVRYw9VYb4wTRRR/216vu233bhOERCFS\n",
       "NPABDNfkEA8QrSZ+MkL1DCJqOOSPES6mhzHyheS8GMAceDUQRGO4UzwNIcYKmPBBpQYkmgjZ5IIg\n",
       "ESmoHwjQ3KFoCEKdN29md7bbFkKTnjdJpzv7fvub2d+8eTNvAUC7B9xiwO2XTJmrynduueCQjGeh\n",
       "vmXWFKVxfw1E9zpXL5aagqnbpw0kWPXL2bpqEhqh/w3LsNFRA1MwWyrK9g2ddG9RLSOch9XFuorS\n",
       "mKa/o4OsvqMmqkdKRGl8AuAwXmjJWmgbLFa9NBqiRJ5CB+2tieqAVxRtAfJ2s0rP1kIb7R4tUVpw\n",
       "OmCgJqqI5RGlAZljw2iobYgfjpYovNNQTW4ODVmPKH020l9n1dO1DfHxURLlq0+/RzdncXZcL2g5\n",
       "x6q1ZWFStcdVQGNOFcW4gbV+GYO4j8jbS5miAjrrLopO3vGnnOqOJRAddiULDcDBqpoqgGhSFUW/\n",
       "wimv0lSXEHl7KVNUwH72m1tXUd7nPm+gl0M4BWZqI8Ty2n5hPa6n4Zi26ker0uMcIHf3AVWUMN/r\n",
       "J+O91yRuopCNepnQ+W0lWgKIxhL260/VUZMPHqX34bMSiYMGuyCSGHpAmK1IAnbpoKcrPc8B8k2G\n",
       "VVGauUQHUfOPBM5sFTzUSzdsrLgqOUA0zuCNw3VUxXzbciMLEwUCI3DGhmekvcUyrzfHyZHKFgTI\n",
       "s6fXU5BS+xhIFMKFpLi8l8vQb1c8x/JhUJmOA8TJC1XKFoR8N7O7pUragNgmHs6oZssHYwxbv44o\n",
       "b0JwIGpVEYUDeofacExpVRS2GU8FfTfQ8uE4F8F7+aKKKBxw4OtWPKPgYJbi3O31Sbd83nyOpqbP\n",
       "Pq11n63Y3aNPHCpBOVb4CNeyKcHluUjj0Oh4jXohyCrj4wIwcXo2wiYpmldFMa9Ef86u5nP3myTi\n",
       "olgge8E9RStPiwBt7x5AUb9hv9VoUPeroWPnANrFkg3w9ES1mw8W4hBK8KUn7W7xbKheKMeSKP1x\n",
       "uafqucA1EmUyRsXN0MKiwgkLtL/ELefCBbwzC5ot2tGVc8rcrSAiaackQlH489SL2VVC6XIjwBiX\n",
       "hBHa0fmWrCvzq28Rh82cm2Go9k02HRpjJRkIlR61UQJFLImylDTDMR9pu0qihLtQ0+V9GTAwBXid\n",
       "vXYYvXkdiAsXcIiv+3DcI4p5bNVaMPHqhMRxT0Ei6mWnJUgcynWSlgNiCR6m1gpRwiwTzwkVeJYI\n",
       "1+RHiZXgtVNy2pyV30JWekVJK0ylUMSSKJupvZ77S1LElCf5vRUAO+A9FjH868cBfAab2Nu/6/t0\n",
       "cA7m8NHaAsdFISLWi9FtZCSJn5YBIrbebYORFqJsAy0xYvJortFKffiGOEQvBq/9bnrf4gVQ7O4n\n",
       "mqSL9EERi6KEco85Kd0KuCslRMHFldQGwbh0+g12WeaEJQHDsP4FJZ10RLlIiQNL6TiORGkE0cvO\n",
       "0yctTuKnJUA/hI/blE6iKDPBGJ8O5tFvAySGtvhfcuOZ4NqntsVhBjGN78sF2nuk3Y3PeULyhgsV\n",
       "VoZlewKEz4pDVVMGXoUjANsXLmc9srAbTsQ6IFIssnA2zh8RJSCQg9nM/fI+UfqKFNHPE85Y8XeC\n",
       "iHgvnxeLROKnJcB9EFzDFhltcgDPs3XfEUscZ8sruqBQ+ANDcgtgE34F1z6gDcP+QqGQYiE9MByB\n",
       "ydLufkPKEZLOyw5UWBnWYKfxaJvY4JlXPtcmI0MQH9/XU3GvLwU0ZXyinBgE4aIlRN5e/LQKgCnK\n",
       "BraHRhuOR2xgKpjcv6Zyxbrk8hD2DFsXP3GHSLGJMuCUb/mYeUIemLEIFGi058sOgd3xnQLfWsM5\n",
       "cI5zNd/3nTVRwwc9prXRmaJAGrZbSIWzIhL+QM1W0Doce1Mcmiy+g0Esg4EN7RMQISoMtIhsz7NH\n",
       "XGjoITQw7FgqzBVDvb+TCjtxXW7ZtCpDzfNgDjp2tlsbl/BNT254mdU2t59KmbvhVAarFDofImP2\n",
       "Ng/0qJEUnjl2CjtW3QkXSAXtlcI5cbuLNqOQtDdazC8nFApi/S0Lkt3NnVIwDTgyDPOmqNB0cK8l\n",
       "N7YxU96CQ4EkDH3iyQ2xqTOHmSLtC4tq+tpQ/AfQHnBOFOyKtRE5CRapH0q1XGgNx46p0mjNmF3W\n",
       "gElPtro96iY+6D5QAVkmgfq/F+sm961bfU6r1sd/tezn4y/qgQsAAAAASUVORK5CYII=\n",
       "\" style=\"display:inline;vertical-align:middle;\" /></a><br>"
      ],
      "text/plain": [
       "<IPython.core.display.HTML object>"
      ]
     },
     "metadata": {},
     "output_type": "display_data"
    }
   ],
   "source": [
    "general_comprehension_fyn = SetOfAll(y_1_to_n, f__y_1_to_n, domains=[S_1_to_n], \n",
    "                                     conditions=[Q__y_1_to_n])"
   ]
  },
  {
   "cell_type": "code",
   "execution_count": 14,
   "metadata": {},
   "outputs": [
    {
     "data": {
      "text/html": [
       "<strong id=\"basic_comprehension_y\">basic_comprehension_y:</strong> <a class=\"ProveItLink\" href=\"../__pv_it/common/3c12ac131af9fb6a89d8a224333f6479bfd361da0/common_expr.ipynb\"><img src=\"data:image/png;base64,iVBORw0KGgoAAAANSUhEUgAAAIAAAAAZBAMAAAALeTtzAAAAMFBMVEX///8AAAAAAAAAAAAAAAAA\n",
       "AAAAAAAAAAAAAAAAAAAAAAAAAAAAAAAAAAAAAAAAAAAv3aB7AAAAD3RSTlMAEER2zVSJ3Zki72ar\n",
       "MruaaVGaAAAACXBIWXMAAA7EAAAOxAGVKw4bAAACUklEQVQ4y2NgYGBUYoADTgZ0wImgOCMZsAIT\n",
       "RQSbTQFd1hRCMRkAiTsPseln/ciAaQBnRtppiGwCVMYaRLzBZgBbARYDUi4w8DiAGCIwGRYBIJFO\n",
       "rAEiD4DEChCrGybD3UCKAe4g4jyIWACXWkiCARx/QWT+BWAQOMClvPEZINzNwHgAYcB8kA8Y+oFs\n",
       "jgS4ZA4uAziAliREMXB/QBjQHwAi/ScAg24DXHILUMgKmwGzNjDwBrQz8DxAGFAPCnHGX0CCPQAu\n",
       "GQVyWgCm/jlOQLUMixm4DBAG/AIH+28gwaUAl7wPMvQIpgm8fUDrmD4y3L+AMKAcREg5QAyASWqB\n",
       "pJ2weIHvADgcrJBi4TwDUwBD1wSIF2CS4UAcL4CilSnZ2hYSC0BD3iAZcD9g72y2lWDTDeCS+4A4\n",
       "C6738rlHDAzBDLwfIAZwHGD6jWQA80oDtjNgy9gOwCXbkKORoxeayg5ADGA8ZvETOSXeeZauwAAK\n",
       "FF6EZBHUAOUDQF3grMUANHcCLCWyOaBmZz4FZlAYMNTCJDkLIAYwGnzkXcAIjnMG+38boCkxhUEq\n",
       "AM2AAyFgegdMkmMDxABO0QLmB0wbwJKMEX9AHgb6pJjhGFqBwvH/L8SgCVDJeSBeCxDzJPAYcPu9\n",
       "e/cUmEIY9EFlx1cGhmgLBTQDeKsgTgI6FiL5EsRZDYpZBa4LvOBiRhVq7IyjiJhlvoCeTCZDJYAh\n",
       "wpkDMpT9AtBacNnWw8BwkoF0wNr9BGgzyKLejrQJZBggyfAa6Jm8d48YyASHmRwYKALaZihcAF8e\n",
       "lr4A5571AAAAAElFTkSuQmCC\n",
       "\" style=\"display:inline;vertical-align:middle;\" /></a><br>"
      ],
      "text/plain": [
       "<IPython.core.display.HTML object>"
      ]
     },
     "metadata": {},
     "output_type": "display_data"
    }
   ],
   "source": [
    "basic_comprehension_y = SetOfAll(y, y, S, conditions=[Qy])"
   ]
  },
  {
   "cell_type": "code",
   "execution_count": 15,
   "metadata": {},
   "outputs": [
    {
     "data": {
      "text/html": [
       "<strong id=\"general_unionall_Ryn\">general_unionall_Ryn:</strong> <a class=\"ProveItLink\" href=\"../__pv_it/common/2d039308f57cad1e4f0f366cb912eaa6ef8614e50/common_expr.ipynb\"><img src=\"data:image/png;base64,iVBORw0KGgoAAAANSUhEUgAAAe8AAAAyBAMAAACHcE67AAAAMFBMVEX///8AAAAAAAAAAAAAAAAA\n",
       "AAAAAAAAAAAAAAAAAAAAAAAAAAAAAAAAAAAAAAAAAAAv3aB7AAAAD3RSTlMAIjLN3e+rEGaJdlSZ\n",
       "RLtjq/IuAAAACXBIWXMAAA7EAAAOxAGVKw4bAAAGB0lEQVRo3u1abYhUVRh+7uzM3Pm4d/aWRRSi\n",
       "Q7Q/0tAJKqMfOYm1EImz/Ur94RQhKGE3IkGFdsgfga3tRFTuSjVJidpiE/SlCG4WZuDmQtD6Ee1k\n",
       "sEniMFq5JuF0vu69587suAtzh7jsPOCdc+77nPPe53yf1wU8xc1WIpDErMJ9ViKYml3Cl9vC023h\n",
       "beFt4Z5AaaKs4WfhHzdR9oz/hB+oTpQv0EQ830QtsZz/evw6MD9Lfl9sqpYlvhMeuAYkLpHE8aaq\n",
       "6fOd8NhloIMKzzRVTcj0m/COCrC4RKZ4cyfDjpzfhHeWoDxGfjWytm05DjVrW9ShHDbdqKhMj2b9\n",
       "Jnz8j33PJUWX5T9HpGJbovEM+m9UVKZHUn4T/r6hbqTzM1hEoPgtwiV1m7As1NLYqA6sazR7OV1k\n",
       "4hm/Cb+fjHa6g4dGoWI1QoUFHwqLGSpgtQatkWNOt1qh4jfhV4DeLBcOfRKLk/jMngVm4HLnqHK5\n",
       "UVFOF2m/9bh+FTgyzIc6tBQ+giP8G8QyEbOxcEbve2U/LR5P+0y4NkmmeSFADjFk0CaymODC2bye\n",
       "oC8QTZNBXQdKoHR1x1PooYtbyeMPe9Q+IbRG+K1EeH/hLN+PtCwdAES4+ie1HcM4WervMtGbEq/Y\n",
       "w85RurIlhUmxG3qKpfZ+25LQU3RgIAftIaIvQBpWXT90iff4ctqjmwZPGlB+J6Otm+SegHgEhwWB\n",
       "0cMFNr2Dox5/2fPWZtKbRWuxjDVEiguPc7dvAnNxE/BlHZsTCD2U1IbJCneL15/Tn6tNtAp9VOdL\n",
       "RS48ylSpa6Ccu/M7clSpHyoQ9PkILkw2e8WZAr3W1F5ptlh4wsDjWA/cvnSQnEbp6C2E8whVqxWo\n",
       "hfrjKvnH6D8hthNQSp5PwmviEvVPqwMwaglfDVkzlSqNbx+xbnD1bEpw6LTVvP6clUX2e6S71cJx\n",
       "RxNlP2jBfvMv6/i/DcwyKCtXjamn1z6CWYfY2mq1uhqzEPrbE++ijTbaaKON/wnxRmeNwszsDj5t\n",
       "7ERwh2fkeAauvMCOuv1ocO9uFu1oYD+9f3tSstuI1N9xLarFFXeD2OCQMUXFNwi8tOKwL1+cF2y8\n",
       "CBwSMUg9X2sP7CmPIl7AYjh2B65ovptqcblw/V4oPW7H050N8t4L16R+0o7SZwbg37Sk1n6Cdl8I\n",
       "CMOxOxiRMzVUweXC6Q36B1fF02KJ98KDwJmsULqXPa9afzGwq8bO/1e5M2f9McIud01pqaZaquAy\n",
       "4SwO2u9y7Eo6/bzHbrdd3gufQ+7tk4GMuOJSfHJdRE8O19hf5pqq5yHZnetJymHWUQWXOQjTcNxb\n",
       "csWQk1L0oNPsmtKVJ/gFytZ0jH2RzgWrh69YJrf9FH+99WRWsjv9U3KYdVTBZcYQnbAPyBVDTjq4\n",
       "7TMcwFSuPMEXpAvy4QKNTkYeLpcv0Kj0OAtWYpFkPzs0im3lcrkIE3pFPzRi2Z3dKcuZLONQhXWR\n",
       "JJy0b+CS7BiODxfWY4OruKdYRGOtoeTCbvI1bO08C8wDzfLxJewZtYK7WccWoZRC6K0bf4ESZ7KM\n",
       "Q60f6olh3QzmZMdwfLiwAk+2bqiTNSaYHAeof9b4x4CneXY/1LxlN8gUTNAAopZF2FDQxeybKUM8\n",
       "6OJGmX2nDkKiRkZeyzOus7j1vLr7QZdj6kb4cNW4TK+4inuKhIH48d+40nm0u46eGDB49lcE1tj2\n",
       "xCiUc1TNPd+/QX4uMntXMdCDLoM+iiTLmIdKRJJDjR+gLUKN9nY2d8M605AdEzeWD1eNh19PuYp7\n",
       "GzfI4wWc50rV98oXxetuvsjHbTvd4jeXy2IWakluL9r1FHEajBlOznFRn1FS9oZhDfyf1YLLcdzx\n",
       "IdWoGomcq7i3+Bob9BT3L4FkNdLxY5Y9arrOy+/EmF23o+ckRfKUGcTeMdf2HtvBbLLw+c+aLsdj\n",
       "tg+5xnDhR3dxbxE1T+0jh9VVRfklzdKzdM6yL62mJXNH9S921o44B3XaGqDMTTiYcx2J4zvtc7kl\n",
       "vGOF23EOlg+5Rn173l3cY5jTvDdnWk6d1ocxI8cz/8Qm8B8C+PH+QJIkkwAAAABJRU5ErkJggg==\n",
       "\" style=\"display:inline;vertical-align:middle;\" /></a><br>"
      ],
      "text/plain": [
       "<IPython.core.display.HTML object>"
      ]
     },
     "metadata": {},
     "output_type": "display_data"
    }
   ],
   "source": [
    "general_unionall_Ryn = UnionAll(y_1_to_n, R__y_1_to_n, domains=[S_1_to_n], \n",
    "                                conditions=[Q__y_1_to_n])"
   ]
  },
  {
   "cell_type": "code",
   "execution_count": 16,
   "metadata": {},
   "outputs": [
    {
     "data": {
      "text/html": [
       "<strong id=\"general_intersectall_Ryn\">general_intersectall_Ryn:</strong> <a class=\"ProveItLink\" href=\"../__pv_it/common/70ad729b09e884f3f75079d9978d433d5124c9e10/common_expr.ipynb\"><img src=\"data:image/png;base64,iVBORw0KGgoAAAANSUhEUgAAAe8AAAAxBAMAAAAB5DwVAAAAMFBMVEX///8AAAAAAAAAAAAAAAAA\n",
       "AAAAAAAAAAAAAAAAAAAAAAAAAAAAAAAAAAAAAAAAAAAv3aB7AAAAD3RSTlMAMonN7yK73VREdqtm\n",
       "EJkMR4w7AAAACXBIWXMAAA7EAAAOxAGVKw4bAAAGAklEQVRo3u1abYhUVRh+ZnbuzL0zc+9Ospj4\n",
       "I4ftA1mMhrCCSpyCBZOgIcsgyB2JBjcN119iYQxSCFY2GISYtqOUhco6CRkoxIQQKbRe7APRH65F\n",
       "xaLpSH5Uukzn6957zo7jLswd7LL7/rj3nPs857znOd/nzAB+24z5lx9MYerZ0vq1R+pXc1NOt17v\n",
       "B4zVf0854e8/RZ/GM8Upplu7zDv5c1fa76qFtP6PxOg//G1cbbvwz1tIu8330vTlRWB1m6a33fWV\n",
       "hRVsMkm3kEu86ne59pecsV5uU0OTrtRXIe8fWsplgd/FWu0EOvPt0R36l4wnOoGcbymbYb/LNd8J\n",
       "RDLtER6/BHRQ4dmWsonYPpdrrROIDbRHeEcNmEN6k95axXZUgyacDCHtDfK2yNx26jzMiouYQ1Wc\n",
       "vlVSmR6uBE344Ku7vk6JJku/hWTNRcJ6FsdvlVSmJzNBE/5AzjxIx2esiFDxDyTy5hGBzLIGcNDs\n",
       "Ptxs9HK6s7POBk04mT076QoeKcHEYkTKsz8TiB0pY7EFq5ljTndqoRY04deBMxUuHMYY5qSw0R0F\n",
       "duhSZ0m71Cwpp4tw0FrcuEH2RiO8q8PK4BN4wn9FPJu0mwtn9OFv9tDk+kDAhFtjZJiXQ2QTQzpt\n",
       "tIKVXDgb1yvpB4QHSKduMEqgdPPo0+ilk1s+YMKfI8KPl7fy9ciq0A5AhJt/UewcBslUf6eNMxnx\n",
       "iT3cGKVrpzIYE6thkISHu7ursB4l+kIkf/PA0BXe4mtpi57uuZiD9hrxvZ7E3oR4xEYEgdETZTa8\n",
       "Y6WgTW6urWEVkeHCdb6G3Q0sw/PAe40XQ7agR1LWCJnhXkBghQ9TnT8WufAwU2Uugrb8jj/JVqWx\n",
       "q0DQ+xCblWr1iHNbhUdzeB0HgGcX9pDdKPVYTqQRqddrMBuPxJTA6B8hPg/Q8sEVbubx7pAzUqlS\n",
       "/dioc4JrZFOCR6e1FljheLGFtJ8iwML/XzYtfKoJP+wEEhVM27RN27RN220wvdn2rTw53LO3mzsR\n",
       "3JFJOZ6EKz/saMP1Ts++ney2owm+Zc+xlIS7lmw84zpUhyvOBvGeodxNMr7FxUs7Nvvygjv7YD+w\n",
       "SdxBGunxeGhvoQS9jDnwcM+U23yV6nC5cOMhaL2q4wnMSPsv3JLayTpLn1mAl2nBePwCbb4I2Z3A\n",
       "wz0blSPjqILLhdMT9O9KxhPaAv+Fx4BtFaF0H3vecP4xMHcczn9V7qw6f0aYq+Y0IOU0niq4TDi7\n",
       "Bz2uOFaCXjvvdettrv/Cl5Bz+1goK4641PZfrXJo8zj8Z66pvgoS7pqW8ZgNVMFlDhL055t75Iwh\n",
       "B6Xbg06766aufLEPoZ0ciLMSGVywufm6A6n4dv755MWKhHvtk/eYDVTBZWCEDtjH5IwhBz17aSN2\n",
       "42aufLF3SBOkE2V6O5l8uFBYQW+lB9llJWZK+NahEo4UCoUibBg1Y9Oog3urU4UzWcSjCnSmJJzU\n",
       "b+iK7BieD8UO4JCS3FebSe9aI6lZ60lp2Ny5FVgKGuX9S+BZs4YZrGGL0PIRnGnof6E8Z7KIR23s\n",
       "6tERw45VZcfwfCi2Dk+0r6uTOSaWGgSof1b554AveXQPzLSD58gQjNI7WquCRE5DF8NPUIZ40MmN\n",
       "Moe3b4BETY5+l2Zcb3Lr/X7n44pj6kb4UHJcY9SU5L5aNAf9/Mtc6VLaXGcvdOd49BWEFrl4tARt\n",
       "OVVz1y/3klc/w7uKoV505eijSKKMuSlPJHlUfTetEQq6y9myQ4ftnOyYuHF8KDlu/jajJPfVyN7g\n",
       "J6ziSs37Cv3i83o+yesuTpf4E4WCGIVWiuNFN58itoAxE6klCvULLeMuGE7H/9gsK451z4eUo5mL\n",
       "VpXk/tpvOGRkuH/JSNQiDb/DwcO2sl++P85ww/0VnoRInDJj2LdDWd7jRxkmC+/7ylYc73B9yDkm\n",
       "yh+oyf21sL19F9msPlmUP9Io3UtXHXxhXb5E66hfY3vtpLdRp7UByjyNDVVlS6zPc/fljvCOdarj\n",
       "Khwfco7GsbSa3GezJ/huTzadOaGP3KQcT76ILdh/p2jozHGKMnwAAAAASUVORK5CYII=\n",
       "\" style=\"display:inline;vertical-align:middle;\" /></a><br>"
      ],
      "text/plain": [
       "<IPython.core.display.HTML object>"
      ]
     },
     "metadata": {},
     "output_type": "display_data"
    }
   ],
   "source": [
    "general_intersectall_Ryn = IntersectAll(y_1_to_n, R__y_1_to_n, domains=[S_1_to_n], \n",
    "                                        conditions=[Q__y_1_to_n])"
   ]
  },
  {
   "cell_type": "code",
   "execution_count": 17,
   "metadata": {},
   "outputs": [
    {
     "name": "stdout",
     "output_type": "stream",
     "text": [
      "These common expressions may now be imported from the theory package: proveit.logic.sets\n"
     ]
    }
   ],
   "source": [
    "%end common"
   ]
  },
  {
   "cell_type": "code",
   "execution_count": null,
   "metadata": {},
   "outputs": [],
   "source": []
  }
 ],
 "metadata": {
  "kernelspec": {
   "display_name": "Python 3",
   "language": "python",
   "name": "python3"
  }
 },
 "nbformat": 4,
 "nbformat_minor": 0
}