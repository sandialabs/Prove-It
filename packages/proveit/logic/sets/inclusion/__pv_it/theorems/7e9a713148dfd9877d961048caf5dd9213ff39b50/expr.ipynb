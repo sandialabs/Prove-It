{
 "cells": [
  {
   "cell_type": "markdown",
   "metadata": {},
   "source": [
    "Expression of type <a class=\"ProveItLink\" href=\"../../../../../../../../doc/html/api/proveit.Conditional.html\">Conditional</a>\n",
    "=======================\n",
    "# from the theory of <a class=\"ProveItLink\" href=\"../../../_theory_nbs_/theory.ipynb\">proveit.logic.sets.inclusion</a>"
   ]
  },
  {
   "cell_type": "code",
   "execution_count": 1,
   "metadata": {},
   "outputs": [],
   "source": [
    "import proveit\n",
    "# Automation is not needed when building an expression:\n",
    "proveit.defaults.automation = False # This will speed things up.\n",
    "proveit.defaults.inline_pngs = False # Makes files smaller.\n",
    "%load_expr # Load the stored expression as 'stored_expr'\n",
    "# import Expression classes needed to build the expression\n",
    "from proveit import A, B, Conditional, Px, Py, x, y\n",
    "from proveit.logic import Exists, Implies, SubsetEq"
   ]
  },
  {
   "cell_type": "code",
   "execution_count": 2,
   "metadata": {},
   "outputs": [
    {
     "data": {
      "text/html": [
       "<strong id=\"expr\">expr:</strong> <a class=\"ProveItLink\" href=\"expr.ipynb\"><img src=\"expr.png\" style=\"display:inline;vertical-align:middle;\" /></a><br>"
      ],
      "text/plain": [
       "<IPython.core.display.HTML object>"
      ]
     },
     "metadata": {},
     "output_type": "display_data"
    }
   ],
   "source": [
    "# build up the expression from sub-expressions\n",
    "expr = Conditional(Implies(Exists(instance_param_or_params = [x], instance_expr = Px, domain = A), Exists(instance_param_or_params = [y], instance_expr = Py, domain = B)), SubsetEq(A, B))"
   ]
  },
  {
   "cell_type": "code",
   "execution_count": 3,
   "metadata": {},
   "outputs": [
    {
     "name": "stdout",
     "output_type": "stream",
     "text": [
      "Passed sanity check: expr matches stored_expr\n"
     ]
    }
   ],
   "source": [
    "# check that the built expression is the same as the stored expression\n",
    "assert expr == stored_expr\n",
    "assert expr._style_id == stored_expr._style_id\n",
    "print(\"Passed sanity check: expr matches stored_expr\")"
   ]
  },
  {
   "cell_type": "code",
   "execution_count": 4,
   "metadata": {},
   "outputs": [
    {
     "name": "stdout",
     "output_type": "stream",
     "text": [
      "\\left\\{\\left[\\exists_{x \\in A}~P\\left(x\\right)\\right] \\Rightarrow \\left[\\exists_{y \\in B}~P\\left(y\\right)\\right] \\textrm{ if } A \\subseteq B\\right..\n"
     ]
    }
   ],
   "source": [
    "# Show the LaTeX representation of the expression for convenience if you need it.\n",
    "print(stored_expr.latex())"
   ]
  },
  {
   "cell_type": "code",
   "execution_count": 5,
   "metadata": {},
   "outputs": [
    {
     "data": {
      "text/html": [
       "<table>\n",
       "<tr><th>name</th><th>description</th><th>default</th><th>current value</th><th>related methods</th></tr><tr><td>condition_delimiter</td><td>'comma' or 'and'</td><td>comma</td><td>comma</td><td>('with_comma_delimiter', 'with_conjunction_delimiter')</td></tr>\n",
       "</table>\n"
      ],
      "text/plain": [
       "style name: condition_delimiter\n",
       "description: 'comma' or 'and'\n",
       "default: comma\n",
       "current value: comma\n",
       "related methods: ('with_comma_delimiter', 'with_conjunction_delimiter')"
      ]
     },
     "metadata": {},
     "output_type": "display_data"
    }
   ],
   "source": [
    "stored_expr.style_options()"
   ]
  },
  {
   "cell_type": "code",
   "execution_count": 6,
   "metadata": {},
   "outputs": [
    {
     "data": {
      "text/html": [
       "<table><tr><th>&nbsp;</th><th>core type</th><th>sub-expressions</th><th>expression</th></tr>\n",
       "<tr><td>0</td><td>Conditional</td><td>value:&nbsp;1<br>condition:&nbsp;2<br></td><td><a class=\"ProveItLink\" href=\"expr.ipynb\"><img src=\"expr.png\" style=\"display:inline;vertical-align:middle;\" /></a></td></tr>\n",
       "<tr><td>1</td><td>Operation</td><td>operator:&nbsp;3<br>operands:&nbsp;4<br></td><td><a class=\"ProveItLink\" href=\"../9a0c61f1e8dd04ae7e36e3aef55c28ec805195af0/expr.ipynb\"><img src=\"../9a0c61f1e8dd04ae7e36e3aef55c28ec805195af0/expr.png\" style=\"display:inline;vertical-align:middle;\" /></a></td></tr>\n",
       "<tr><td>2</td><td>Operation</td><td>operator:&nbsp;5<br>operands:&nbsp;6<br></td><td><a class=\"ProveItLink\" href=\"../db7a164f644801bfd111812bb9a6a278f180c2b50/expr.ipynb\"><img src=\"../db7a164f644801bfd111812bb9a6a278f180c2b50/expr.png\" style=\"display:inline;vertical-align:middle;\" /></a></td></tr>\n",
       "<tr><td>3</td><td>Literal</td><td></td><td><a class=\"ProveItLink\" href=\"../../../../../booleans/implication/__pv_it/common/02bdb382575728da8cdbaed545b9096ea7a1bd5b0/expr.ipynb\"><img src=\"../../../../../booleans/implication/__pv_it/common/02bdb382575728da8cdbaed545b9096ea7a1bd5b0/expr.png\" style=\"display:inline;vertical-align:middle;\" /></a></td></tr>\n",
       "<tr><td>4</td><td>ExprTuple</td><td>7, 8</td><td><a class=\"ProveItLink\" href=\"../ea15a7b1eee1511ac61b017faa1fea79988527090/expr.ipynb\"><img src=\"../ea15a7b1eee1511ac61b017faa1fea79988527090/expr.png\" style=\"display:inline;vertical-align:middle;\" /></a></td></tr>\n",
       "<tr><td>5</td><td>Literal</td><td></td><td><a class=\"ProveItLink\" href=\"../../common/af21bfd7d93759eac7fe399a50aaac31ae45d8cf0/expr.ipynb\"><img src=\"../../common/af21bfd7d93759eac7fe399a50aaac31ae45d8cf0/expr.png\" style=\"display:inline;vertical-align:middle;\" /></a></td></tr>\n",
       "<tr><td>6</td><td>ExprTuple</td><td>27, 29</td><td><a class=\"ProveItLink\" href=\"../e791ee87807ed43d7ac6262f8f70c4ffc8f24c940/expr.ipynb\"><img src=\"../e791ee87807ed43d7ac6262f8f70c4ffc8f24c940/expr.png\" style=\"display:inline;vertical-align:middle;\" /></a></td></tr>\n",
       "<tr><td>7</td><td>Operation</td><td>operator:&nbsp;10<br>operand:&nbsp;12<br></td><td><a class=\"ProveItLink\" href=\"../bcd3767e56e7ecbe8437ca4c5fc30cd0f7f69f480/expr.ipynb\"><img src=\"../bcd3767e56e7ecbe8437ca4c5fc30cd0f7f69f480/expr.png\" style=\"display:inline;vertical-align:middle;\" /></a></td></tr>\n",
       "<tr><td>8</td><td>Operation</td><td>operator:&nbsp;10<br>operand:&nbsp;13<br></td><td><a class=\"ProveItLink\" href=\"../04b4855c45cf7bef79c49aae39a0c56d4f0390d80/expr.ipynb\"><img src=\"../04b4855c45cf7bef79c49aae39a0c56d4f0390d80/expr.png\" style=\"display:inline;vertical-align:middle;\" /></a></td></tr>\n",
       "<tr><td>9</td><td>ExprTuple</td><td>12</td><td><a class=\"ProveItLink\" href=\"../a3b2eaf7e140a8b392ce62d4d1c1b9da6110cd8e0/expr.ipynb\"><img src=\"../a3b2eaf7e140a8b392ce62d4d1c1b9da6110cd8e0/expr.png\" style=\"display:inline;vertical-align:middle;\" /></a></td></tr>\n",
       "<tr><td>10</td><td>Literal</td><td></td><td><a class=\"ProveItLink\" href=\"../../../../../booleans/quantification/existence/__pv_it/common/fedc3809ed9823aab11264c156786a59540352e70/expr.ipynb\"><img src=\"../../../../../booleans/quantification/existence/__pv_it/common/fedc3809ed9823aab11264c156786a59540352e70/expr.png\" style=\"display:inline;vertical-align:middle;\" /></a></td></tr>\n",
       "<tr><td>11</td><td>ExprTuple</td><td>13</td><td><a class=\"ProveItLink\" href=\"../1f4b857d59efa12de63b1ec62574be0a09e41d890/expr.ipynb\"><img src=\"../1f4b857d59efa12de63b1ec62574be0a09e41d890/expr.png\" style=\"display:inline;vertical-align:middle;\" /></a></td></tr>\n",
       "<tr><td>12</td><td>Lambda</td><td>parameter:&nbsp;26<br>body:&nbsp;14<br></td><td><a class=\"ProveItLink\" href=\"../a244e806334c3f9f351a67a204c647b147ef05ce0/expr.ipynb\"><img src=\"../a244e806334c3f9f351a67a204c647b147ef05ce0/expr.png\" style=\"display:inline;vertical-align:middle;\" /></a></td></tr>\n",
       "<tr><td>13</td><td>Lambda</td><td>parameter:&nbsp;28<br>body:&nbsp;15<br></td><td><a class=\"ProveItLink\" href=\"../ee4cf7ec43a7fc6bc25b3065877fd40980211fe50/expr.ipynb\"><img src=\"../ee4cf7ec43a7fc6bc25b3065877fd40980211fe50/expr.png\" style=\"display:inline;vertical-align:middle;\" /></a></td></tr>\n",
       "<tr><td>14</td><td>Conditional</td><td>value:&nbsp;16<br>condition:&nbsp;17<br></td><td><a class=\"ProveItLink\" href=\"../4ecd23172039d7279329905615a08bcd0974f7130/expr.ipynb\"><img src=\"../4ecd23172039d7279329905615a08bcd0974f7130/expr.png\" style=\"display:inline;vertical-align:middle;\" /></a></td></tr>\n",
       "<tr><td>15</td><td>Conditional</td><td>value:&nbsp;18<br>condition:&nbsp;19<br></td><td><a class=\"ProveItLink\" href=\"../093d243dc92513ecddcb603a19e6d8d21c42e52a0/expr.ipynb\"><img src=\"../093d243dc92513ecddcb603a19e6d8d21c42e52a0/expr.png\" style=\"display:inline;vertical-align:middle;\" /></a></td></tr>\n",
       "<tr><td>16</td><td>Operation</td><td>operator:&nbsp;22<br>operand:&nbsp;26<br></td><td><a class=\"ProveItLink\" href=\"../../../../../../__pv_it/common/32fc7f13c9e7e89074583aa5bfc208d125f839970/expr.ipynb\"><img src=\"../../../../../../__pv_it/common/32fc7f13c9e7e89074583aa5bfc208d125f839970/expr.png\" style=\"display:inline;vertical-align:middle;\" /></a></td></tr>\n",
       "<tr><td>17</td><td>Operation</td><td>operator:&nbsp;24<br>operands:&nbsp;21<br></td><td><a class=\"ProveItLink\" href=\"../bffc8f58d953dcb8331468867a32979a833e73840/expr.ipynb\"><img src=\"../bffc8f58d953dcb8331468867a32979a833e73840/expr.png\" style=\"display:inline;vertical-align:middle;\" /></a></td></tr>\n",
       "<tr><td>18</td><td>Operation</td><td>operator:&nbsp;22<br>operand:&nbsp;28<br></td><td><a class=\"ProveItLink\" href=\"../../../../../../__pv_it/common/da54d8e4a8a27a02e3008e3dbdbc9c2042ade4470/expr.ipynb\"><img src=\"../../../../../../__pv_it/common/da54d8e4a8a27a02e3008e3dbdbc9c2042ade4470/expr.png\" style=\"display:inline;vertical-align:middle;\" /></a></td></tr>\n",
       "<tr><td>19</td><td>Operation</td><td>operator:&nbsp;24<br>operands:&nbsp;25<br></td><td><a class=\"ProveItLink\" href=\"../569783d32d698768774c304892c5b84b10f50b360/expr.ipynb\"><img src=\"../569783d32d698768774c304892c5b84b10f50b360/expr.png\" style=\"display:inline;vertical-align:middle;\" /></a></td></tr>\n",
       "<tr><td>20</td><td>ExprTuple</td><td>26</td><td><a class=\"ProveItLink\" href=\"../../../../../../__pv_it/common/eacfeccc0521684fcb20fe8f5180ac50fca471f20/expr.ipynb\"><img src=\"../../../../../../__pv_it/common/eacfeccc0521684fcb20fe8f5180ac50fca471f20/expr.png\" style=\"display:inline;vertical-align:middle;\" /></a></td></tr>\n",
       "<tr><td>21</td><td>ExprTuple</td><td>26, 27</td><td><a class=\"ProveItLink\" href=\"../dd56fa97225795c53cc6b814c99b8e98e0e999f10/expr.ipynb\"><img src=\"../dd56fa97225795c53cc6b814c99b8e98e0e999f10/expr.png\" style=\"display:inline;vertical-align:middle;\" /></a></td></tr>\n",
       "<tr><td>22</td><td>Variable</td><td></td><td><a class=\"ProveItLink\" href=\"../../../../../../__pv_it/common/de55da274ba0f49c86925fbf3828021c04d27faf0/expr.ipynb\"><img src=\"../../../../../../__pv_it/common/de55da274ba0f49c86925fbf3828021c04d27faf0/expr.png\" style=\"display:inline;vertical-align:middle;\" /></a></td></tr>\n",
       "<tr><td>23</td><td>ExprTuple</td><td>28</td><td><a class=\"ProveItLink\" href=\"../../../../../../__pv_it/common/8ec7f6fe639763828b300003a52d700ece4a5c240/expr.ipynb\"><img src=\"../../../../../../__pv_it/common/8ec7f6fe639763828b300003a52d700ece4a5c240/expr.png\" style=\"display:inline;vertical-align:middle;\" /></a></td></tr>\n",
       "<tr><td>24</td><td>Literal</td><td></td><td><a class=\"ProveItLink\" href=\"../../../../membership/__pv_it/common/477487d8796864d23d5810f83761435f25167f690/expr.ipynb\"><img src=\"../../../../membership/__pv_it/common/477487d8796864d23d5810f83761435f25167f690/expr.png\" style=\"display:inline;vertical-align:middle;\" /></a></td></tr>\n",
       "<tr><td>25</td><td>ExprTuple</td><td>28, 29</td><td><a class=\"ProveItLink\" href=\"../787fe960e9ab6fceff9f4b2fb35a4235767ffca30/expr.ipynb\"><img src=\"../787fe960e9ab6fceff9f4b2fb35a4235767ffca30/expr.png\" style=\"display:inline;vertical-align:middle;\" /></a></td></tr>\n",
       "<tr><td>26</td><td>Variable</td><td></td><td><a class=\"ProveItLink\" href=\"../../../../../../__pv_it/common/a0d9d672aa5e272d907247690c152cc2c6daafb70/expr.ipynb\"><img src=\"../../../../../../__pv_it/common/a0d9d672aa5e272d907247690c152cc2c6daafb70/expr.png\" style=\"display:inline;vertical-align:middle;\" /></a></td></tr>\n",
       "<tr><td>27</td><td>Variable</td><td></td><td><a class=\"ProveItLink\" href=\"../../../../../../__pv_it/common/09585084922504426caf1db2ff588a23a0932a960/expr.ipynb\"><img src=\"../../../../../../__pv_it/common/09585084922504426caf1db2ff588a23a0932a960/expr.png\" style=\"display:inline;vertical-align:middle;\" /></a></td></tr>\n",
       "<tr><td>28</td><td>Variable</td><td></td><td><a class=\"ProveItLink\" href=\"../../../../../../__pv_it/common/ff7dba4ef0bbe791ab573bf2d9c220a304399ac80/expr.ipynb\"><img src=\"../../../../../../__pv_it/common/ff7dba4ef0bbe791ab573bf2d9c220a304399ac80/expr.png\" style=\"display:inline;vertical-align:middle;\" /></a></td></tr>\n",
       "<tr><td>29</td><td>Variable</td><td></td><td><a class=\"ProveItLink\" href=\"../../../../../../__pv_it/common/a9162d1c3cc0470c02e5daf414500903a7a419230/expr.ipynb\"><img src=\"../../../../../../__pv_it/common/a9162d1c3cc0470c02e5daf414500903a7a419230/expr.png\" style=\"display:inline;vertical-align:middle;\" /></a></td></tr>\n",
       "</table>\n"
      ],
      "text/plain": [
       "0. {[exists_{x in A} P(x)] => [exists_{y in B} P(y)] if A subset_eq B.\n",
       "   core type: Conditional\n",
       "   value: 1\n",
       "   condition: 2\n",
       "1. [exists_{x in A} P(x)] => [exists_{y in B} P(y)]\n",
       "   core type: Operation\n",
       "   operator: 3\n",
       "   operands: 4\n",
       "2. A subset_eq B\n",
       "   core type: Operation\n",
       "   operator: 5\n",
       "   operands: 6\n",
       "3. =>\n",
       "   core type: Literal\n",
       "   sub-expressions: \n",
       "4. (exists_{x in A} P(x), exists_{y in B} P(y))\n",
       "   core type: ExprTuple\n",
       "   sub-expressions: 7, 8\n",
       "5. subset_eq\n",
       "   core type: Literal\n",
       "   sub-expressions: \n",
       "6. (A, B)\n",
       "   core type: ExprTuple\n",
       "   sub-expressions: 27, 29\n",
       "7. exists_{x in A} P(x)\n",
       "   core type: Operation\n",
       "   operator: 10\n",
       "   operand: 12\n",
       "8. exists_{y in B} P(y)\n",
       "   core type: Operation\n",
       "   operator: 10\n",
       "   operand: 13\n",
       "9. (x -> {P(x) if x in A.)\n",
       "   core type: ExprTuple\n",
       "   sub-expressions: 12\n",
       "10. exists\n",
       "    core type: Literal\n",
       "    sub-expressions: \n",
       "11. (y -> {P(y) if y in B.)\n",
       "    core type: ExprTuple\n",
       "    sub-expressions: 13\n",
       "12. x -> {P(x) if x in A.\n",
       "    core type: Lambda\n",
       "    parameter: 26\n",
       "    body: 14\n",
       "13. y -> {P(y) if y in B.\n",
       "    core type: Lambda\n",
       "    parameter: 28\n",
       "    body: 15\n",
       "14. {P(x) if x in A.\n",
       "    core type: Conditional\n",
       "    value: 16\n",
       "    condition: 17\n",
       "15. {P(y) if y in B.\n",
       "    core type: Conditional\n",
       "    value: 18\n",
       "    condition: 19\n",
       "16. P(x)\n",
       "    core type: Operation\n",
       "    operator: 22\n",
       "    operand: 26\n",
       "17. x in A\n",
       "    core type: Operation\n",
       "    operator: 24\n",
       "    operands: 21\n",
       "18. P(y)\n",
       "    core type: Operation\n",
       "    operator: 22\n",
       "    operand: 28\n",
       "19. y in B\n",
       "    core type: Operation\n",
       "    operator: 24\n",
       "    operands: 25\n",
       "20. (x)\n",
       "    core type: ExprTuple\n",
       "    sub-expressions: 26\n",
       "21. (x, A)\n",
       "    core type: ExprTuple\n",
       "    sub-expressions: 26, 27\n",
       "22. P\n",
       "    core type: Variable\n",
       "    sub-expressions: \n",
       "23. (y)\n",
       "    core type: ExprTuple\n",
       "    sub-expressions: 28\n",
       "24. in\n",
       "    core type: Literal\n",
       "    sub-expressions: \n",
       "25. (y, B)\n",
       "    core type: ExprTuple\n",
       "    sub-expressions: 28, 29\n",
       "26. x\n",
       "    core type: Variable\n",
       "    sub-expressions: \n",
       "27. A\n",
       "    core type: Variable\n",
       "    sub-expressions: \n",
       "28. y\n",
       "    core type: Variable\n",
       "    sub-expressions: \n",
       "29. B\n",
       "    core type: Variable\n",
       "    sub-expressions: "
      ]
     },
     "metadata": {},
     "output_type": "display_data"
    }
   ],
   "source": [
    "# display the expression information\n",
    "stored_expr.expr_info()"
   ]
  },
  {
   "cell_type": "code",
   "execution_count": null,
   "metadata": {},
   "outputs": [],
   "source": []
  }
 ],
 "metadata": {
  "kernelspec": {
   "display_name": "Python 3",
   "language": "python",
   "name": "python3"
  }
 },
 "nbformat": 4,
 "nbformat_minor": 0
}