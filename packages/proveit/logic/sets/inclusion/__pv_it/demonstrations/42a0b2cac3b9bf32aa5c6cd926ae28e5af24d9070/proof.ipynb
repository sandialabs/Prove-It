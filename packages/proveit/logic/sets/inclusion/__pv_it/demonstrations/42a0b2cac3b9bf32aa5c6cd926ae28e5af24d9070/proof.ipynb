{
 "cells": [
  {
   "cell_type": "markdown",
   "metadata": {},
   "source": [
    "Show the Proof\n",
    "========"
   ]
  },
  {
   "cell_type": "code",
   "execution_count": 1,
   "metadata": {},
   "outputs": [
    {
     "data": {
      "text/html": [
       "<table><tr><th>&nbsp;</th><th>step type</th><th>requirements</th><th>statement</th></tr>\n",
       "<tr><td><a name=\"proveit.logic.sets.inclusion.demonstrations.42a0b2cac3b9bf32aa5c6cd926ae28e5af24d9070_step0\">0</a></td><td>instantiation</td><td><a href=\"#proveit.logic.sets.inclusion.demonstrations.42a0b2cac3b9bf32aa5c6cd926ae28e5af24d9070_step1\">1</a>, <a href=\"#proveit.logic.sets.inclusion.demonstrations.42a0b2cac3b9bf32aa5c6cd926ae28e5af24d9070_step2\">2</a></td><td><span style=\"font-size:20px;\"> <a class=\"ProveItLink\" href=\"proof.ipynb\" style=\"text-decoration: none\">&nbsp;&#x22A2;&nbsp;&nbsp;</a><a class=\"ProveItLink\" href=\"../8862f16ae6f700ddc09856db1876468cf27a14060/expr.ipynb\"><img src=\"../8862f16ae6f700ddc09856db1876468cf27a14060/expr.png\" style=\"display:inline;vertical-align:middle;\" /></a></span></td></tr>\n",
       "<tr><td>&nbsp;</td><td colspan=4 style=\"text-align:left\"><span style=\"font-size:20px;\"><a class=\"ProveItLink\" href=\"../../../../../../__pv_it/common/09585084922504426caf1db2ff588a23a0932a960/expr.ipynb\"><img src=\"../../../../../../__pv_it/common/09585084922504426caf1db2ff588a23a0932a960/expr.png\" style=\"display:inline;vertical-align:middle;\" /></a> : <a class=\"ProveItLink\" href=\"../5a86bd2a694276e779f53f3a47316aa442b080b80/expr.ipynb\"><img src=\"../5a86bd2a694276e779f53f3a47316aa442b080b80/expr.png\" style=\"display:inline;vertical-align:middle;\" /></a>, <a class=\"ProveItLink\" href=\"../../../../../../__pv_it/common/a9162d1c3cc0470c02e5daf414500903a7a419230/expr.ipynb\"><img src=\"../../../../../../__pv_it/common/a9162d1c3cc0470c02e5daf414500903a7a419230/expr.png\" style=\"display:inline;vertical-align:middle;\" /></a> : <a class=\"ProveItLink\" href=\"../5a86bd2a694276e779f53f3a47316aa442b080b80/expr.ipynb\"><img src=\"../5a86bd2a694276e779f53f3a47316aa442b080b80/expr.png\" style=\"display:inline;vertical-align:middle;\" /></a></span></td></tr><tr><td><a name=\"proveit.logic.sets.inclusion.demonstrations.42a0b2cac3b9bf32aa5c6cd926ae28e5af24d9070_step1\">1</a></td><td>theorem</td><td></td><td><span style=\"font-size:20px;\"> <a class=\"ProveItLink\" href=\"../../../_theory_nbs_/proofs/subset_eq_via_equivalence/thm_proof.ipynb\" style=\"text-decoration: none\">&nbsp;&#x22A2;&nbsp;&nbsp;</a><a class=\"ProveItLink\" href=\"../../theorems/fce06bb79d050201fd7469ba4ebaf40f7696e01c0/expr.ipynb\"><img src=\"../../theorems/fce06bb79d050201fd7469ba4ebaf40f7696e01c0/expr.png\" style=\"display:inline;vertical-align:middle;\" /></a></span></td></tr>\n",
       "<tr><td>&nbsp;</td><td colspan=4 style-\"text-align:left\"><a class=\"ProveItLink\" href=\"../../../_theory_nbs_/proofs/subset_eq_via_equivalence/thm_proof.ipynb\">proveit.logic.sets.inclusion.subset_eq_via_equivalence</a></td></tr><tr><td><a name=\"proveit.logic.sets.inclusion.demonstrations.42a0b2cac3b9bf32aa5c6cd926ae28e5af24d9070_step2\">2</a></td><td>instantiation</td><td><a href=\"#proveit.logic.sets.inclusion.demonstrations.42a0b2cac3b9bf32aa5c6cd926ae28e5af24d9070_step3\">3</a></td><td><span style=\"font-size:20px;\"> <a class=\"ProveItLink\" href=\"../b716b11f76f48b75a1072d73369d31ef0a776d5f0/proof.ipynb\" style=\"text-decoration: none\">&nbsp;&#x22A2;&nbsp;&nbsp;</a><a class=\"ProveItLink\" href=\"../fc2fee717d55948aec8748ce4ac2c84260136fff0/expr.ipynb\"><img src=\"../fc2fee717d55948aec8748ce4ac2c84260136fff0/expr.png\" style=\"display:inline;vertical-align:middle;\" /></a></span></td></tr>\n",
       "<tr><td>&nbsp;</td><td colspan=4 style=\"text-align:left\"><span style=\"font-size:20px;\"><a class=\"ProveItLink\" href=\"../../../../../../__pv_it/common/09585084922504426caf1db2ff588a23a0932a960/expr.ipynb\"><img src=\"../../../../../../__pv_it/common/09585084922504426caf1db2ff588a23a0932a960/expr.png\" style=\"display:inline;vertical-align:middle;\" /></a> : <a class=\"ProveItLink\" href=\"../5a86bd2a694276e779f53f3a47316aa442b080b80/expr.ipynb\"><img src=\"../5a86bd2a694276e779f53f3a47316aa442b080b80/expr.png\" style=\"display:inline;vertical-align:middle;\" /></a></span></td></tr><tr><td><a name=\"proveit.logic.sets.inclusion.demonstrations.42a0b2cac3b9bf32aa5c6cd926ae28e5af24d9070_step3\">3</a></td><td>theorem</td><td></td><td><span style=\"font-size:20px;\"> <a class=\"ProveItLink\" href=\"../../../../equivalence/_theory_nbs_/proofs/set_equiv_reflexivity/thm_proof.ipynb\" style=\"text-decoration: none\">&nbsp;&#x22A2;&nbsp;&nbsp;</a><a class=\"ProveItLink\" href=\"../../../../equivalence/__pv_it/theorems/e899271b152f486d849b55561e20ad802e6737ac0/expr.ipynb\"><img src=\"../../../../equivalence/__pv_it/theorems/e899271b152f486d849b55561e20ad802e6737ac0/expr.png\" style=\"display:inline;vertical-align:middle;\" /></a></span></td></tr>\n",
       "<tr><td>&nbsp;</td><td colspan=4 style-\"text-align:left\"><a class=\"ProveItLink\" href=\"../../../../equivalence/_theory_nbs_/proofs/set_equiv_reflexivity/thm_proof.ipynb\">proveit.logic.sets.equivalence.set_equiv_reflexivity</a></td></tr></table>"
      ],
      "text/plain": [
       "<proveit._core_.proof._ShowProof at 0x7f2cdd552cf8>"
      ]
     },
     "execution_count": 1,
     "metadata": {},
     "output_type": "execute_result"
    }
   ],
   "source": [
    "import proveit\n",
    "# Automation is not needed when only showing a stored proof:\n",
    "proveit.defaults.automation = False # This will speed things up.\n",
    "proveit.defaults.inline_pngs = False # Makes files smaller.\n",
    "%show_proof"
   ]
  },
  {
   "cell_type": "code",
   "execution_count": null,
   "metadata": {},
   "outputs": [],
   "source": []
  }
 ],
 "metadata": {
  "kernelspec": {
   "display_name": "Python 3",
   "language": "python",
   "name": "python3"
  }
 },
 "nbformat": 4,
 "nbformat_minor": 0
}