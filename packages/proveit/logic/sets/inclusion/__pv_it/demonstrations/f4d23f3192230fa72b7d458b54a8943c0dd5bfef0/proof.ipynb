{
 "cells": [
  {
   "cell_type": "markdown",
   "metadata": {},
   "source": [
    "Show the Proof\n",
    "========"
   ]
  },
  {
   "cell_type": "code",
   "execution_count": 1,
   "metadata": {},
   "outputs": [
    {
     "data": {
      "text/html": [
       "<table><tr><th>&nbsp;</th><th>step type</th><th>requirements</th><th>statement</th></tr>\n",
       "<tr><td><a name=\"proveit.logic.sets.inclusion.demonstrations.f4d23f3192230fa72b7d458b54a8943c0dd5bfef0_step0\">0</a></td><td>instantiation</td><td><a href=\"#proveit.logic.sets.inclusion.demonstrations.f4d23f3192230fa72b7d458b54a8943c0dd5bfef0_step1\">1</a>, <a href=\"#proveit.logic.sets.inclusion.demonstrations.f4d23f3192230fa72b7d458b54a8943c0dd5bfef0_step2\">2</a></td><td><span style=\"font-size:20px;\"><a class=\"ProveItLink\" href=\"../874ef26eb324929868501f055cc1e68d3f93ea810/expr.ipynb\"><img src=\"../874ef26eb324929868501f055cc1e68d3f93ea810/expr.png\" style=\"display:inline;vertical-align:middle;\" /></a> <a class=\"ProveItLink\" href=\"proof.ipynb\" style=\"text-decoration: none\">&nbsp;&#x22A2;&nbsp;&nbsp;</a><a class=\"ProveItLink\" href=\"../bf1918c2cc16c04a21efbf25b0287ced4ddce0b90/expr.ipynb\"><img src=\"../bf1918c2cc16c04a21efbf25b0287ced4ddce0b90/expr.png\" style=\"display:inline;vertical-align:middle;\" /></a></span></td></tr>\n",
       "<tr><td>&nbsp;</td><td colspan=4 style=\"text-align:left\"><span style=\"font-size:20px;\"><a class=\"ProveItLink\" href=\"../../../../../../__pv_it/common/09585084922504426caf1db2ff588a23a0932a960/expr.ipynb\"><img src=\"../../../../../../__pv_it/common/09585084922504426caf1db2ff588a23a0932a960/expr.png\" style=\"display:inline;vertical-align:middle;\" /></a> : <a class=\"ProveItLink\" href=\"../a93e84b995a514d2615b5d248182f5bc6cad3c140/expr.ipynb\"><img src=\"../a93e84b995a514d2615b5d248182f5bc6cad3c140/expr.png\" style=\"display:inline;vertical-align:middle;\" /></a>, <a class=\"ProveItLink\" href=\"../../../../../../__pv_it/common/a9162d1c3cc0470c02e5daf414500903a7a419230/expr.ipynb\"><img src=\"../../../../../../__pv_it/common/a9162d1c3cc0470c02e5daf414500903a7a419230/expr.png\" style=\"display:inline;vertical-align:middle;\" /></a> : <a class=\"ProveItLink\" href=\"../../../../enumeration/__pv_it/theorems/8420ecc321b2e659dc10bf249b6d1aa25e4903210/expr.ipynb\"><img src=\"../../../../enumeration/__pv_it/theorems/8420ecc321b2e659dc10bf249b6d1aa25e4903210/expr.png\" style=\"display:inline;vertical-align:middle;\" /></a></span></td></tr><tr><td><a name=\"proveit.logic.sets.inclusion.demonstrations.f4d23f3192230fa72b7d458b54a8943c0dd5bfef0_step1\">1</a></td><td>theorem</td><td></td><td><span style=\"font-size:20px;\"> <a class=\"ProveItLink\" href=\"../../../_theory_nbs_/proofs/subset_eq_via_equivalence/thm_proof.ipynb\" style=\"text-decoration: none\">&nbsp;&#x22A2;&nbsp;&nbsp;</a><a class=\"ProveItLink\" href=\"../../theorems/fce06bb79d050201fd7469ba4ebaf40f7696e01c0/expr.ipynb\"><img src=\"../../theorems/fce06bb79d050201fd7469ba4ebaf40f7696e01c0/expr.png\" style=\"display:inline;vertical-align:middle;\" /></a></span></td></tr>\n",
       "<tr><td>&nbsp;</td><td colspan=4 style-\"text-align:left\"><a class=\"ProveItLink\" href=\"../../../_theory_nbs_/proofs/subset_eq_via_equivalence/thm_proof.ipynb\">proveit.logic.sets.inclusion.subset_eq_via_equivalence</a></td></tr><tr><td><a name=\"proveit.logic.sets.inclusion.demonstrations.f4d23f3192230fa72b7d458b54a8943c0dd5bfef0_step2\">2</a></td><td>assumption</td><td></td><td><span style=\"font-size:20px;\"><a class=\"ProveItLink\" href=\"../874ef26eb324929868501f055cc1e68d3f93ea810/expr.ipynb\"><img src=\"../874ef26eb324929868501f055cc1e68d3f93ea810/expr.png\" style=\"display:inline;vertical-align:middle;\" /></a> <a class=\"ProveItLink\" href=\"../a72213e97e59c8e268bdd1949ebae4ce8a8bf6370/proof.ipynb\" style=\"text-decoration: none\">&nbsp;&#x22A2;&nbsp;&nbsp;</a><a class=\"ProveItLink\" href=\"../874ef26eb324929868501f055cc1e68d3f93ea810/expr.ipynb\"><img src=\"../874ef26eb324929868501f055cc1e68d3f93ea810/expr.png\" style=\"display:inline;vertical-align:middle;\" /></a></span></td></tr>\n",
       "</table>"
      ],
      "text/plain": [
       "<proveit._core_.proof._ShowProof at 0x7f930cce0828>"
      ]
     },
     "execution_count": 1,
     "metadata": {},
     "output_type": "execute_result"
    }
   ],
   "source": [
    "import proveit\n",
    "# Automation is not needed when only showing a stored proof:\n",
    "proveit.defaults.automation = False # This will speed things up.\n",
    "proveit.defaults.inline_pngs = False # Makes files smaller.\n",
    "%show_proof"
   ]
  },
  {
   "cell_type": "code",
   "execution_count": null,
   "metadata": {},
   "outputs": [],
   "source": []
  }
 ],
 "metadata": {
  "kernelspec": {
   "display_name": "Python 3",
   "language": "python",
   "name": "python3"
  }
 },
 "nbformat": 4,
 "nbformat_minor": 0
}