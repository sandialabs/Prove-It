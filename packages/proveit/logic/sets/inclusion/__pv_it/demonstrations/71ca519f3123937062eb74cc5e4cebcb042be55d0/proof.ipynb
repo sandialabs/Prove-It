{
 "cells": [
  {
   "cell_type": "markdown",
   "metadata": {},
   "source": [
    "Show the Proof\n",
    "========"
   ]
  },
  {
   "cell_type": "code",
   "execution_count": 1,
   "metadata": {},
   "outputs": [
    {
     "data": {
      "text/html": [
       "<table><tr><th>&nbsp;</th><th>step type</th><th>requirements</th><th>statement</th></tr>\n",
       "<tr><td><a name=\"proveit.logic.sets.inclusion.demonstrations.71ca519f3123937062eb74cc5e4cebcb042be55d0_step0\">0</a></td><td>instantiation</td><td><a href=\"#proveit.logic.sets.inclusion.demonstrations.71ca519f3123937062eb74cc5e4cebcb042be55d0_step1\">1</a>, <a href=\"#proveit.logic.sets.inclusion.demonstrations.71ca519f3123937062eb74cc5e4cebcb042be55d0_step2\">2</a>, <a href=\"#proveit.logic.sets.inclusion.demonstrations.71ca519f3123937062eb74cc5e4cebcb042be55d0_step3\">3</a></td><td><span style=\"font-size:20px;\"><a class=\"ProveItLink\" href=\"../99a73bbf94d51cc48a696001ab61cd94dabdccab0/expr.ipynb\"><img src=\"../99a73bbf94d51cc48a696001ab61cd94dabdccab0/expr.png\" style=\"display:inline;vertical-align:middle;\" /></a>, <a class=\"ProveItLink\" href=\"../../theorems/fd887bd5ac8499adb0944f106e649fd3447c9f0d0/expr.ipynb\"><img src=\"../../theorems/fd887bd5ac8499adb0944f106e649fd3447c9f0d0/expr.png\" style=\"display:inline;vertical-align:middle;\" /></a> <a class=\"ProveItLink\" href=\"proof.ipynb\" style=\"text-decoration: none\">&nbsp;&#x22A2;&nbsp;&nbsp;</a><a class=\"ProveItLink\" href=\"../../theorems/bffc8f58d953dcb8331468867a32979a833e73840/expr.ipynb\"><img src=\"../../theorems/bffc8f58d953dcb8331468867a32979a833e73840/expr.png\" style=\"display:inline;vertical-align:middle;\" /></a></span></td></tr>\n",
       "<tr><td>&nbsp;</td><td colspan=4 style=\"text-align:left\"><span style=\"font-size:20px;\"><a class=\"ProveItLink\" href=\"../../../../../../__pv_it/common/09585084922504426caf1db2ff588a23a0932a960/expr.ipynb\"><img src=\"../../../../../../__pv_it/common/09585084922504426caf1db2ff588a23a0932a960/expr.png\" style=\"display:inline;vertical-align:middle;\" /></a> : <a class=\"ProveItLink\" href=\"../../../../../../__pv_it/common/a9162d1c3cc0470c02e5daf414500903a7a419230/expr.ipynb\"><img src=\"../../../../../../__pv_it/common/a9162d1c3cc0470c02e5daf414500903a7a419230/expr.png\" style=\"display:inline;vertical-align:middle;\" /></a>, <a class=\"ProveItLink\" href=\"../../../../../../__pv_it/common/a9162d1c3cc0470c02e5daf414500903a7a419230/expr.ipynb\"><img src=\"../../../../../../__pv_it/common/a9162d1c3cc0470c02e5daf414500903a7a419230/expr.png\" style=\"display:inline;vertical-align:middle;\" /></a> : <a class=\"ProveItLink\" href=\"../../../../../../__pv_it/common/09585084922504426caf1db2ff588a23a0932a960/expr.ipynb\"><img src=\"../../../../../../__pv_it/common/09585084922504426caf1db2ff588a23a0932a960/expr.png\" style=\"display:inline;vertical-align:middle;\" /></a>, <a class=\"ProveItLink\" href=\"../../../../../../__pv_it/common/a0d9d672aa5e272d907247690c152cc2c6daafb70/expr.ipynb\"><img src=\"../../../../../../__pv_it/common/a0d9d672aa5e272d907247690c152cc2c6daafb70/expr.png\" style=\"display:inline;vertical-align:middle;\" /></a> : <a class=\"ProveItLink\" href=\"../../../../../../__pv_it/common/a0d9d672aa5e272d907247690c152cc2c6daafb70/expr.ipynb\"><img src=\"../../../../../../__pv_it/common/a0d9d672aa5e272d907247690c152cc2c6daafb70/expr.png\" style=\"display:inline;vertical-align:middle;\" /></a></span></td></tr><tr><td><a name=\"proveit.logic.sets.inclusion.demonstrations.71ca519f3123937062eb74cc5e4cebcb042be55d0_step1\">1</a></td><td>theorem</td><td></td><td><span style=\"font-size:20px;\"> <a class=\"ProveItLink\" href=\"../../../_theory_nbs_/proofs/unfold_subset_eq/thm_proof.ipynb\" style=\"text-decoration: none\">&nbsp;&#x22A2;&nbsp;&nbsp;</a><a class=\"ProveItLink\" href=\"../../theorems/ffb57c6ecaa9512f7208b5cea9aeeaa8cfa4a4e50/expr.ipynb\"><img src=\"../../theorems/ffb57c6ecaa9512f7208b5cea9aeeaa8cfa4a4e50/expr.png\" style=\"display:inline;vertical-align:middle;\" /></a></span></td></tr>\n",
       "<tr><td>&nbsp;</td><td colspan=4 style-\"text-align:left\"><a class=\"ProveItLink\" href=\"../../../_theory_nbs_/proofs/unfold_subset_eq/thm_proof.ipynb\">proveit.logic.sets.inclusion.unfold_subset_eq</a></td></tr><tr><td><a name=\"proveit.logic.sets.inclusion.demonstrations.71ca519f3123937062eb74cc5e4cebcb042be55d0_step2\">2</a></td><td>instantiation</td><td><a href=\"#proveit.logic.sets.inclusion.demonstrations.71ca519f3123937062eb74cc5e4cebcb042be55d0_step4\">4</a>, <a href=\"#proveit.logic.sets.inclusion.demonstrations.71ca519f3123937062eb74cc5e4cebcb042be55d0_step5\">5</a></td><td><span style=\"font-size:20px;\"><a class=\"ProveItLink\" href=\"../99a73bbf94d51cc48a696001ab61cd94dabdccab0/expr.ipynb\"><img src=\"../99a73bbf94d51cc48a696001ab61cd94dabdccab0/expr.png\" style=\"display:inline;vertical-align:middle;\" /></a> <a class=\"ProveItLink\" href=\"../40e4ac6d0541fb9184d752316ac96d7eb80828b30/proof.ipynb\" style=\"text-decoration: none\">&nbsp;&#x22A2;&nbsp;&nbsp;</a><a class=\"ProveItLink\" href=\"../ef30b59e5d361aec67721f56de6d475e89d7cb740/expr.ipynb\"><img src=\"../ef30b59e5d361aec67721f56de6d475e89d7cb740/expr.png\" style=\"display:inline;vertical-align:middle;\" /></a></span></td></tr>\n",
       "<tr><td>&nbsp;</td><td colspan=4 style=\"text-align:left\"><span style=\"font-size:20px;\"><a class=\"ProveItLink\" href=\"../../../../../../__pv_it/common/09585084922504426caf1db2ff588a23a0932a960/expr.ipynb\"><img src=\"../../../../../../__pv_it/common/09585084922504426caf1db2ff588a23a0932a960/expr.png\" style=\"display:inline;vertical-align:middle;\" /></a> : <a class=\"ProveItLink\" href=\"../../../../../../__pv_it/common/a9162d1c3cc0470c02e5daf414500903a7a419230/expr.ipynb\"><img src=\"../../../../../../__pv_it/common/a9162d1c3cc0470c02e5daf414500903a7a419230/expr.png\" style=\"display:inline;vertical-align:middle;\" /></a>, <a class=\"ProveItLink\" href=\"../../../../../../__pv_it/common/a9162d1c3cc0470c02e5daf414500903a7a419230/expr.ipynb\"><img src=\"../../../../../../__pv_it/common/a9162d1c3cc0470c02e5daf414500903a7a419230/expr.png\" style=\"display:inline;vertical-align:middle;\" /></a> : <a class=\"ProveItLink\" href=\"../../../../../../__pv_it/common/09585084922504426caf1db2ff588a23a0932a960/expr.ipynb\"><img src=\"../../../../../../__pv_it/common/09585084922504426caf1db2ff588a23a0932a960/expr.png\" style=\"display:inline;vertical-align:middle;\" /></a></span></td></tr><tr><td><a name=\"proveit.logic.sets.inclusion.demonstrations.71ca519f3123937062eb74cc5e4cebcb042be55d0_step3\">3</a></td><td>assumption</td><td></td><td><span style=\"font-size:20px;\"><a class=\"ProveItLink\" href=\"../../theorems/fd887bd5ac8499adb0944f106e649fd3447c9f0d0/expr.ipynb\"><img src=\"../../theorems/fd887bd5ac8499adb0944f106e649fd3447c9f0d0/expr.png\" style=\"display:inline;vertical-align:middle;\" /></a> <a class=\"ProveItLink\" href=\"../d3401f85ae5ee215ed560d73f2fab5f4c1b6a8550/proof.ipynb\" style=\"text-decoration: none\">&nbsp;&#x22A2;&nbsp;&nbsp;</a><a class=\"ProveItLink\" href=\"../../theorems/fd887bd5ac8499adb0944f106e649fd3447c9f0d0/expr.ipynb\"><img src=\"../../theorems/fd887bd5ac8499adb0944f106e649fd3447c9f0d0/expr.png\" style=\"display:inline;vertical-align:middle;\" /></a></span></td></tr>\n",
       "<tr><td><a name=\"proveit.logic.sets.inclusion.demonstrations.71ca519f3123937062eb74cc5e4cebcb042be55d0_step4\">4</a></td><td>theorem</td><td></td><td><span style=\"font-size:20px;\"> <a class=\"ProveItLink\" href=\"../../../_theory_nbs_/proofs/relax_proper_subset/thm_proof.ipynb\" style=\"text-decoration: none\">&nbsp;&#x22A2;&nbsp;&nbsp;</a><a class=\"ProveItLink\" href=\"../../theorems/902afb1e6249d7c2feb1149d34fff9880d2b647b0/expr.ipynb\"><img src=\"../../theorems/902afb1e6249d7c2feb1149d34fff9880d2b647b0/expr.png\" style=\"display:inline;vertical-align:middle;\" /></a></span></td></tr>\n",
       "<tr><td>&nbsp;</td><td colspan=4 style-\"text-align:left\"><a class=\"ProveItLink\" href=\"../../../_theory_nbs_/proofs/relax_proper_subset/thm_proof.ipynb\">proveit.logic.sets.inclusion.relax_proper_subset</a></td></tr><tr><td><a name=\"proveit.logic.sets.inclusion.demonstrations.71ca519f3123937062eb74cc5e4cebcb042be55d0_step5\">5</a></td><td>assumption</td><td></td><td><span style=\"font-size:20px;\"><a class=\"ProveItLink\" href=\"../99a73bbf94d51cc48a696001ab61cd94dabdccab0/expr.ipynb\"><img src=\"../99a73bbf94d51cc48a696001ab61cd94dabdccab0/expr.png\" style=\"display:inline;vertical-align:middle;\" /></a> <a class=\"ProveItLink\" href=\"../6a40872442e1a742e93afabc25fcd862ea4a7d350/proof.ipynb\" style=\"text-decoration: none\">&nbsp;&#x22A2;&nbsp;&nbsp;</a><a class=\"ProveItLink\" href=\"../99a73bbf94d51cc48a696001ab61cd94dabdccab0/expr.ipynb\"><img src=\"../99a73bbf94d51cc48a696001ab61cd94dabdccab0/expr.png\" style=\"display:inline;vertical-align:middle;\" /></a></span></td></tr>\n",
       "</table>"
      ],
      "text/plain": [
       "<proveit._core_.proof._ShowProof at 0x7ff9e3c46198>"
      ]
     },
     "execution_count": 1,
     "metadata": {},
     "output_type": "execute_result"
    }
   ],
   "source": [
    "import proveit\n",
    "# Automation is not needed when only showing a stored proof:\n",
    "proveit.defaults.automation = False # This will speed things up.\n",
    "proveit.defaults.inline_pngs = False # Makes files smaller.\n",
    "%show_proof"
   ]
  },
  {
   "cell_type": "code",
   "execution_count": null,
   "metadata": {},
   "outputs": [],
   "source": []
  }
 ],
 "metadata": {
  "kernelspec": {
   "display_name": "Python 3",
   "language": "python",
   "name": "python3"
  }
 },
 "nbformat": 4,
 "nbformat_minor": 0
}