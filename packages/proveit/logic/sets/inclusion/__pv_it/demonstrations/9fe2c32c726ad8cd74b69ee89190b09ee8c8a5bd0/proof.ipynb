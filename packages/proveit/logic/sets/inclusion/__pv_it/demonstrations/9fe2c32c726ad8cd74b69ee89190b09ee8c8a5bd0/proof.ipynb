{
 "cells": [
  {
   "cell_type": "markdown",
   "metadata": {},
   "source": [
    "Show the Proof\n",
    "========"
   ]
  },
  {
   "cell_type": "code",
   "execution_count": 1,
   "metadata": {},
   "outputs": [
    {
     "data": {
      "text/html": [
       "<table><tr><th>&nbsp;</th><th>step type</th><th>requirements</th><th>statement</th></tr>\n",
       "<tr><td><a name=\"proveit.logic.sets.inclusion.demonstrations.9fe2c32c726ad8cd74b69ee89190b09ee8c8a5bd0_step0\">0</a></td><td>instantiation</td><td><a href=\"#proveit.logic.sets.inclusion.demonstrations.9fe2c32c726ad8cd74b69ee89190b09ee8c8a5bd0_step1\">1</a>, <a href=\"#proveit.logic.sets.inclusion.demonstrations.9fe2c32c726ad8cd74b69ee89190b09ee8c8a5bd0_step2\">2</a></td><td><span style=\"font-size:20px;\"><a class=\"ProveItLink\" href=\"../e8df50723d896cb4b33a5a2d005764d6a20e4c160/expr.ipynb\"><img src=\"../e8df50723d896cb4b33a5a2d005764d6a20e4c160/expr.png\" style=\"display:inline;vertical-align:middle;\" /></a> <a class=\"ProveItLink\" href=\"proof.ipynb\" style=\"text-decoration: none\">&nbsp;&#x22A2;&nbsp;&nbsp;</a><a class=\"ProveItLink\" href=\"../../theorems/a5d50527cb9cf4fab27177e8917157a31f5004530/expr.ipynb\"><img src=\"../../theorems/a5d50527cb9cf4fab27177e8917157a31f5004530/expr.png\" style=\"display:inline;vertical-align:middle;\" /></a></span></td></tr>\n",
       "<tr><td>&nbsp;</td><td colspan=4 style=\"text-align:left\"><span style=\"font-size:20px;\"><a class=\"ProveItLink\" href=\"../../../../../../__pv_it/common/09585084922504426caf1db2ff588a23a0932a960/expr.ipynb\"><img src=\"../../../../../../__pv_it/common/09585084922504426caf1db2ff588a23a0932a960/expr.png\" style=\"display:inline;vertical-align:middle;\" /></a> : <a class=\"ProveItLink\" href=\"../../../../../../__pv_it/common/09585084922504426caf1db2ff588a23a0932a960/expr.ipynb\"><img src=\"../../../../../../__pv_it/common/09585084922504426caf1db2ff588a23a0932a960/expr.png\" style=\"display:inline;vertical-align:middle;\" /></a>, <a class=\"ProveItLink\" href=\"../../../../../../__pv_it/common/a9162d1c3cc0470c02e5daf414500903a7a419230/expr.ipynb\"><img src=\"../../../../../../__pv_it/common/a9162d1c3cc0470c02e5daf414500903a7a419230/expr.png\" style=\"display:inline;vertical-align:middle;\" /></a> : <a class=\"ProveItLink\" href=\"../../../../../../__pv_it/common/a9162d1c3cc0470c02e5daf414500903a7a419230/expr.ipynb\"><img src=\"../../../../../../__pv_it/common/a9162d1c3cc0470c02e5daf414500903a7a419230/expr.png\" style=\"display:inline;vertical-align:middle;\" /></a>, <a class=\"ProveItLink\" href=\"../../../../../../__pv_it/common/de55da274ba0f49c86925fbf3828021c04d27faf0/expr.ipynb\"><img src=\"../../../../../../__pv_it/common/de55da274ba0f49c86925fbf3828021c04d27faf0/expr.png\" style=\"display:inline;vertical-align:middle;\" /></a> : <a class=\"ProveItLink\" href=\"../../../../../../__pv_it/common/de55da274ba0f49c86925fbf3828021c04d27faf0/expr.ipynb\"><img src=\"../../../../../../__pv_it/common/de55da274ba0f49c86925fbf3828021c04d27faf0/expr.png\" style=\"display:inline;vertical-align:middle;\" /></a></span></td></tr><tr><td><a name=\"proveit.logic.sets.inclusion.demonstrations.9fe2c32c726ad8cd74b69ee89190b09ee8c8a5bd0_step1\">1</a></td><td>theorem</td><td></td><td><span style=\"font-size:20px;\"> <a class=\"ProveItLink\" href=\"../../../_theory_nbs_/proofs/inclusive_universal_quantification/thm_proof.ipynb\" style=\"text-decoration: none\">&nbsp;&#x22A2;&nbsp;&nbsp;</a><a class=\"ProveItLink\" href=\"../../theorems/7670e18015f317ffce243168f089b165c3e331c60/expr.ipynb\"><img src=\"../../theorems/7670e18015f317ffce243168f089b165c3e331c60/expr.png\" style=\"display:inline;vertical-align:middle;\" /></a></span></td></tr>\n",
       "<tr><td>&nbsp;</td><td colspan=4 style-\"text-align:left\"><a class=\"ProveItLink\" href=\"../../../_theory_nbs_/proofs/inclusive_universal_quantification/thm_proof.ipynb\">proveit.logic.sets.inclusion.inclusive_universal_quantification</a></td></tr><tr><td><a name=\"proveit.logic.sets.inclusion.demonstrations.9fe2c32c726ad8cd74b69ee89190b09ee8c8a5bd0_step2\">2</a></td><td>assumption</td><td></td><td><span style=\"font-size:20px;\"><a class=\"ProveItLink\" href=\"../e8df50723d896cb4b33a5a2d005764d6a20e4c160/expr.ipynb\"><img src=\"../e8df50723d896cb4b33a5a2d005764d6a20e4c160/expr.png\" style=\"display:inline;vertical-align:middle;\" /></a> <a class=\"ProveItLink\" href=\"../f02f2d355b82176d115f2d24e327f519d40403030/proof.ipynb\" style=\"text-decoration: none\">&nbsp;&#x22A2;&nbsp;&nbsp;</a><a class=\"ProveItLink\" href=\"../e8df50723d896cb4b33a5a2d005764d6a20e4c160/expr.ipynb\"><img src=\"../e8df50723d896cb4b33a5a2d005764d6a20e4c160/expr.png\" style=\"display:inline;vertical-align:middle;\" /></a></span></td></tr>\n",
       "</table>"
      ],
      "text/plain": [
       "<proveit._core_.proof._ShowProof at 0x7f3e605379b0>"
      ]
     },
     "execution_count": 1,
     "metadata": {},
     "output_type": "execute_result"
    }
   ],
   "source": [
    "import proveit\n",
    "# Automation is not needed when only showing a stored proof:\n",
    "proveit.defaults.automation = False # This will speed things up.\n",
    "proveit.defaults.inline_pngs = False # Makes files smaller.\n",
    "%show_proof"
   ]
  },
  {
   "cell_type": "code",
   "execution_count": null,
   "metadata": {},
   "outputs": [],
   "source": []
  }
 ],
 "metadata": {
  "kernelspec": {
   "display_name": "Python 3",
   "language": "python",
   "name": "python3"
  }
 },
 "nbformat": 4,
 "nbformat_minor": 0
}