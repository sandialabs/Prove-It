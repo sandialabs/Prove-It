{
 "cells": [
  {
   "cell_type": "markdown",
   "metadata": {},
   "source": [
    "Theorems (or conjectures) for the theory of <a class=\"ProveItLink\" href=\"theory.ipynb\">proveit.logic.sets.inclusion</a>\n",
    "========"
   ]
  },
  {
   "cell_type": "code",
   "execution_count": 1,
   "metadata": {},
   "outputs": [
    {
     "name": "stdout",
     "output_type": "stream",
     "text": [
      "Defining theorems for theory 'proveit.logic.sets.inclusion'\n",
      "Subsequent end-of-cell assignments will define theorems\n",
      "'%end theorems' will finalize the definitions\n"
     ]
    }
   ],
   "source": [
    "import proveit\n",
    "# Prepare this notebook for defining the theorems of a theory:\n",
    "%theorems_notebook # Keep this at the top following 'import proveit'.\n",
    "from proveit.logic import And, Forall, Exists, Implies, in_bool, InSet, Equals, Not, NotInSet\n",
    "from proveit.logic import SetEquiv, SetNotEquiv, SubsetEq, NotSubsetEq, superset_eq\n",
    "from proveit.logic import ProperSubset, NotProperSubset\n",
    "from proveit import A, B, C, x, y, P, Px, Py\n",
    "%begin theorems"
   ]
  },
  {
   "cell_type": "code",
   "execution_count": 2,
   "metadata": {},
   "outputs": [
    {
     "data": {
      "text/html": [
       "<strong id=\"unfold_subset_eq\"><a class=\"ProveItLink\" href=\"proofs/unfold_subset_eq/thm_proof.ipynb\">unfold_subset_eq</a> (established theorem):<br></strong> <a class=\"ProveItLink\" href=\"../__pv_it/theorems/4af274e9122834611cbed60dca952537d7b4045e0/theorem_expr.ipynb\"><img src=\"data:image/png;base64,iVBORw0KGgoAAAANSUhEUgAAAPcAAAAXBAMAAAAl5sTiAAAAMFBMVEX///8AAAAAAAAAAAAAAAAA\n",
       "AAAAAAAAAAAAAAAAAAAAAAAAAAAAAAAAAAAAAAAAAAAv3aB7AAAAD3RSTlMAq1RmmUTNIjK7EInv\n",
       "3XZ/CtNrAAAACXBIWXMAAA7EAAAOxAGVKw4bAAADeUlEQVRIx72WX0gUQRjAv727vb3bs/UkkQrC\n",
       "o6LHOFKKHswLqRTLhCAkoy4hQl86H6XS7TGSOoSDTipXkKBQuMQCuYdOe6iIQqiHHlzYMpAiTMv0\n",
       "MKi+ndm9nTvbNQ9q4G5n5/t2fjPfvxmAIpukys4KgpMw9hcTOLRA8xoK752Ep+kMQb2/vRg4pz9c\n",
       "YRu5K/XH4X2/ysraZZDCBH5QHzpfDNyj790bs5HftRl/DsBlAToI/IrunngxcJ9utC47eZ1NJPwE\n",
       "4BcBqgncq+AjVJTPcfUwaifP5L19VNUo6bhx125cQImiz+BG63uLC7gqfETtXJ4nOPHJ7HHziHuK\n",
       "vzAJ2Zeq+qI4eImqTqdsxB4UiHNbrhHLCB258ZI4iFsxxwJBAq8H6CfjSsHnZke0g3tk8Bd8lNPF\n",
       "neEM77SjkB+VN+7MVegJ4o4SeCcIJN3EZ0R6dTHdQLLfb+oP6wtNJpMx8A00jt204PhdZ8GShs3C\n",
       "sQHDaC/UKhsJ3FL4EgPXE90tGQL3K7ReBL7SiJgCKZMHfxwCMUG7NQCfmSLTDw9NpeubE4auYV4U\n",
       "y3CIvvSq2GhG3dKVcIW+eTKDS6MLa3lFIyIC7nkWzvdq4DfsVg5Qy8B35eLNU5/TteAAdEq4Z+18\n",
       "AX+1qMTTnUN0PxnWztKvQjASZuGSNwgXjf4kiK8ZuNeN00gfug/DjKVrmR34ZbhPXnJs3zf8q9S3\n",
       "PEXhoyQWJcNGPTPVm4CFa54obDMrRNUBmYEHdmK8zXLxNjFu6dLm19BXXAZINkha7jhaxgUs6d6N\n",
       "U/glstoWw5s1IJazcF7GEDgOZjwMRhi4MIGdsF+T+bCla4iD4MoOZXgaA225JED5qQ6aigTOkc00\n",
       "pisVw609zQzck36wAoNgxoPwnT3ViI1KY+BuTyb7DF3DvlMgNmk7dtO3wQRNSW5goayij3iimTkX\n",
       "JWTK1K1whk01DYSsWX8xHvjsqiO1F2K+lKVrtLd5Kdh6W82vhZfZGdCwpSExBcIKiG8Ys+sGxRxs\n",
       "JOvpUWAkUgAXMo8gQsuUoUtbtXOBrGPgngkQj53zTcKeH+mGEAM/EoShpWbgx7HIuC+kx/pWXSaa\n",
       "WucU6JItXSPiYo7XnPjq64iL6fvXc5MRx5OJgkLreEzrSyuEn1wHfK0rWLeTcBajbLoAHraBc0lS\n",
       "2/9fE/494jfbbuMHQpKW3AAAAABJRU5ErkJggg==\n",
       "\" style=\"display:inline;vertical-align:middle;\" /></a><br>"
      ],
      "text/plain": [
       "<IPython.core.display.HTML object>"
      ]
     },
     "metadata": {},
     "output_type": "display_data"
    }
   ],
   "source": [
    "# Proven\n",
    "unfold_subset_eq = Forall((A, B), Forall(x, InSet(x, B), domain=A), conditions=SubsetEq(A, B))"
   ]
  },
  {
   "cell_type": "code",
   "execution_count": 3,
   "metadata": {},
   "outputs": [
    {
     "data": {
      "text/html": [
       "<strong id=\"unfold_subset_eq_contrapositive\"><a class=\"ProveItLink\" href=\"proofs/unfold_subset_eq_contrapositive/thm_proof.ipynb\">unfold_subset_eq_contrapositive</a> (conjecture without proof):<br></strong> <a class=\"ProveItLink\" href=\"../__pv_it/theorems/c96b8807198606dc0a75d44f59587616b068bb870/theorem_expr.ipynb\"><img src=\"data:image/png;base64,iVBORw0KGgoAAAANSUhEUgAAARYAAAAZCAMAAADDsvEcAAAAS1BMVEX///8AAAAAAAAAAAAAAAAA\n",
       "AAAAAAAAAAAAAAAAAAAAAAAAAAAAAAAAAAAAAAAAAAAAAAAAAAAAAAAAAAAAAAAAAAAAAAAAAAAA\n",
       "AADXrLZzAAAAGHRSTlMAq1RmmUTNIjK7EInv3XbP4duh6fPj951y2Qx9AAAACXBIWXMAAA7EAAAO\n",
       "xAGVKw4bAAADiUlEQVRYw91ZiXLcIAzlNCCOpFfK/39pwTYYzOFNmnUzZTI7O9ZKwg/pSSgI3b+w\n",
       "tVagr7pc2B35F44X9MUXpf8hLOKjUvE/w+LmGbBAB49tR9wdsOAsJPRGWJ7mluipWOLehvyOKM2w\n",
       "MJ6F4kZYnuUWLkLx8Fsg6X0dSgGWDJ9QdybRs9yyi9izPR3s96OhLHNLSjZNbuWWJ7k1M9ZR9sdP\n",
       "24STFtrLpA4JlkS795XNpWT7z3VLxub44gBh2fKtQ86ns1lo3puxcRl9cyV6ilu2mwPnMEhdhKKI\n",
       "4dljHhbJJaWexhkWtiKoisIFF75bovsALK3bmYej1ZJT0zQbcNghdlDJyuzUtUEUkJM+HQ49Ilng\n",
       "9JFe0hSupfJMa6aKRw1JZgWt1iUGihUsjVs08dCIBtb3tp2GHVAfcob2Ce10AsKnbRBzJHg8MV0U\n",
       "Lu1LGqQr4s5MNr0rgKqqX6tYt3Nnt9ewSIdfXvnMutmkESxWJYyMOfvrLXyoEw0zFipReij9AQtx\n",
       "FfNxacpYw2tEUz/edFJQdQfSKtawnNxew8JC3mGYWjcHzNVLhCPrVj3YfuRTsvEiWsLmyqRzaClD\n",
       "20RbYOl407uCOLFnq3hq/g+3zjER/roesiz2oIDn1o+7L4+9CEDVsNgRidkUdMQWsGhSJJ2r4094\n",
       "RymrCps6o7IpkPosOoonWLJbJxBWaCE9D1m2nrfjc+vKpWzG8U11iS7iDZNzWnf/iKoCFmFwkRF1\n",
       "xq45DJgNYckKvD65juIJluyWru/TJ/UsW82rC+tbgSVeAjNblTm8kgZEkd5TpTZ3K/CppyoUAr9r\n",
       "7OHEEMLzESxZAXCHWirF8w26cOvFmFs2GV2UevmmFJlZl2sSAAuxQRitwhfwG4eabrxfw5XEL1tg\n",
       "Wd4fLLjNm6wZImTqqEAXCjWjdRTHgwVpqkmI6shk2Hgm3KF1O25r6G+tQiWatdXC9ucteyLEggt6\n",
       "e2FYqW2URIVCDBxZUEurOIAlxLJeqh5O9WQKjngcWqfsXZOW/kXzDAtbsx2YX3g4JBIj1+vYNZFB\n",
       "iJcKESSd2rmu4ihamOPaOeh7yDKhvsvcjA6tq9Gc4oGrevrJfDpH0Hu6is+czvU9wGvEnF8MXEa7\n",
       "e+CqniCdwsLhi8Hy2BxPuP5zfD3uFI/Mcil6JyxYqeJO9PmwYED3rI+NuP92yrhc/p+oL70HFWet\n",
       "oX8AS00fYh+IpiUAAAAASUVORK5CYII=\n",
       "\" style=\"display:inline;vertical-align:middle;\" /></a><br>"
      ],
      "text/plain": [
       "<IPython.core.display.HTML object>"
      ]
     },
     "metadata": {},
     "output_type": "display_data"
    }
   ],
   "source": [
    "unfold_subset_eq_contrapositive = Forall((A, B), Forall(x, NotInSet(x, A), conditions=NotInSet(x, B)), conditions=SubsetEq(A, B))"
   ]
  },
  {
   "cell_type": "code",
   "execution_count": 4,
   "metadata": {},
   "outputs": [
    {
     "data": {
      "text/html": [
       "<strong id=\"fold_subset_eq\"><a class=\"ProveItLink\" href=\"proofs/fold_subset_eq/thm_proof.ipynb\">fold_subset_eq</a> (established theorem):<br></strong> <a class=\"ProveItLink\" href=\"../__pv_it/theorems/365a70dd2ca3348c173455395291ba7a48cf36720/theorem_expr.ipynb\"><img src=\"data:image/png;base64,iVBORw0KGgoAAAANSUhEUgAAAO8AAAAXBAMAAAARnwX+AAAAMFBMVEX///8AAAAAAAAAAAAAAAAA\n",
       "AAAAAAAAAAAAAAAAAAAAAAAAAAAAAAAAAAAAAAAAAAAv3aB7AAAAD3RSTlMAq1RmmUTNIjK7EInv\n",
       "3XZ/CtNrAAAACXBIWXMAAA7EAAAOxAGVKw4bAAADeUlEQVRIx7VWXUgUURQ++zuzM+uoYD8+OVEv\n",
       "QdRC5ktoK22Z+JDQixWkERKV4PoSRKZjD4H0oESQK9TO9hBESItJBAthQlFEsVCRDy2sWYkRm/an\n",
       "Jmnn3jt/rqPrwzpw595z/757v/OdMwOwHg+XYzwM6/R8ZPBNK42fwFJEGlvzi+uM08o7tWzEFZ0u\n",
       "3tgHUgDgALFP5xf4Dqt26cCTqVRqlDX9vQBlCpwF6CKc9OYXeD+rqmdYfWXCHOpMAzQGoRz5UAFE\n",
       "Ob/Aw/QtXpyltfDeMrRPwZIGvwoupNubZxczUXVIP2jtqLeMlWFpCYMXUV+lUi/zC+xm2go6fzKN\n",
       "WcdeAMTQ3SJq+hBAP+1Ts5avfqvloZjWG+Q6AB6Zn6dml2UOP5cZO0XUjaS0AUdDSnhOh7p/JWoV\n",
       "0vBRP6krnGCP1eCjdUN95rwCmR2cm6Zmm2WmhHrbgedyogx8qkidIDKPuJIgDRvAHrxGzAZXKNIx\n",
       "xyK4uhLgG3jiWp+f7jcZqp5j57Cs8+HWImqOx0hzppkTGl4zKQTBNWUAA1LyyM6NumBClJ0SlCqQ\n",
       "4DSBBTzyPzY3YK4rxAO7FvBC5G5NVcxFJ9kqGQYCJnBFJGIX5OQWmZpPYYltOgLCG4BBK9WE+A/M\n",
       "bjbX9eB8x2+8bRKNQXpSCQ6yCB8v3wwmsA8kuyA/jwvCpV75LkvKC7ur8ebbdD6JzI5gaWV2bIOh\n",
       "2++oyR5k0UVu00791YBeIk8lCCUWYFFZGuRDrDqKa+EWT7enuogFaSdbgxtyhMuoJv3jN/WU2YIs\n",
       "P1O1iHNQN9UlylTNXZ31JrBQtFNL76EQEdtDZm0hrxnqiYhMdMEhf9264JIgRP+osH3xXBZRpYvF\n",
       "xWcIgwVGUpEQT2HugkYznAA29QO/dzyoSez2fdZLMPhhDq7quvDMmlTDaM4cc8loIWeFshAH7i8I\n",
       "by1UQzeqnO+Nc0xFAb+ii6tdbHJjLFJdqDCAVGf0zcrX+hlBzp+AcLiZH4GK+UStbAX2oZ+kNHiu\n",
       "E6qdmS8Bvdf9+fFX4PqIF1oTQ9ewvmFE65K05k6lzM+i9oeSHSlOa6yb6canBASaHS6DGKRdRrK4\n",
       "F4no7hKM3YRcn1lfdsI9ZgvsqHqg0L8Z6SlceMf6amySirlbRw7gieyOgC0wIyNUZzVFdfX0vX5/\n",
       "iuoaelZ7/gPEH8vREamuRQAAAABJRU5ErkJggg==\n",
       "\" style=\"display:inline;vertical-align:middle;\" /></a><br>"
      ],
      "text/plain": [
       "<IPython.core.display.HTML object>"
      ]
     },
     "metadata": {},
     "output_type": "display_data"
    }
   ],
   "source": [
    "# Proven\n",
    "fold_subset_eq = Forall((A, B), SubsetEq(A, B), condition=Forall(x, InSet(x, B), domain=A))"
   ]
  },
  {
   "cell_type": "code",
   "execution_count": 5,
   "metadata": {},
   "outputs": [
    {
     "data": {
      "text/html": [
       "<strong id=\"unfold_not_subset_eq\"><a class=\"ProveItLink\" href=\"proofs/unfold_not_subset_eq/thm_proof.ipynb\">unfold_not_subset_eq</a> (established theorem):<br></strong> <a class=\"ProveItLink\" href=\"../__pv_it/theorems/713f851fe5cd428ee53f5be2e2afd774736cf7da0/theorem_expr.ipynb\"><img src=\"data:image/png;base64,iVBORw0KGgoAAAANSUhEUgAAANcAAAAbBAMAAAAdeQdJAAAAMFBMVEX///8AAAAAAAAAAAAAAAAA\n",
       "AAAAAAAAAAAAAAAAAAAAAAAAAAAAAAAAAAAAAAAAAAAv3aB7AAAAD3RSTlMAq1RmmUTNIjK7EInv\n",
       "3XZ/CtNrAAAACXBIWXMAAA7EAAAOxAGVKw4bAAADTUlEQVRIx71WX0hTURj/bXd39+5u3jYwCSIc\n",
       "CVEENkiCHqyJFYlFg15EohYhkUGuZ0vXY1AkvtTC3IQIhAQNX2IPLqN/RCHVQ0GDSz1EEKVltpS0\n",
       "c8+5m99NxpyYH/x2zvnOued3zvf9zjkDVmoxUleWMTaGlZseJI0PgjJabPBxC36zUVM+2XZSdw7z\n",
       "wj25ZNTuhUDgTBx6CBz7Td/psrk0uos7othhkem3stlsXNSfAY4c0A6OS+b+e8omc4VIo1EUDb94\n",
       "oZ5bTI8yD8jTQB043CnAGyybzEcbGf7r7czxcohIQWIuiRH6UhwSW6K7/JRtoSkTIe3Sv/NyPely\n",
       "sMi6nzCEBF5ks8/LJ2umIRX6CDt/8JJm09cDbRNLn9cvcBC4uZzpt9pap0jdzfMnB9U5njI/6brW\n",
       "/7XK7JWiAueh+JdDZhfRK7ahrGlhoIKn3AVlimuCzvYtBudDM9IZAU/KG+EdqX/0VlA5lswBPMrL\n",
       "jbl9/PvP+xp+c9cEGdbHMMbCqE4KOA2hD+0pLy5Pp5v4GfHkP7hrxjzRl4hBTTaP3ihCphnAH3oQ\n",
       "uJl73ct65IwAonuEcoWWpAnoGRvZWBBam1BsPfClEMYCGQ+jGYj3IoWRApdqSqaatZ0TArjXzjta\n",
       "XgqxhiFNUjL5igFPDLVmvZKtU3j782QsZx62dBxl6BAhCrQWLlB2zNUZcws9ArggsmGcFGINYihE\n",
       "yXS3H52WYsehvRbeERIrU9OKGY2kOM7y/fx15WbeY+3W6eAnxMH9Og7wkd0f6zaAkhmuKDYLfSjz\n",
       "OxusO+8qIVMnoCVnUti2cNauMUdyKlDVa9YqIgKWtVjZqIdWScnkOEthDbhiWT4HwsJdESeTvi15\n",
       "bi5ayF8J6eqUlZbuCCFzpUdmMSD0wfKp/LQuvTCZqq4kWaNNpTrjiIu04ASVvgElB1ek1sqnnLM+\n",
       "uE6m8the4cP8sNOd82eFPC1MTOuC2jCUWWhvSBhlJhZ2JjZyfXSnMJTf0SB93Eo9UeZqFlfkegDt\n",
       "SJs6jl1z6aYgITvkx+2ZCKR3iURM6kiP9hYWa5DJukqQfbJgMyddje3uimPVrbUY2eDqcyFUhMzx\n",
       "OMHCiP9ntv+CUaydycYakmmrM81f0VLIIJV1uLAAAAAASUVORK5CYII=\n",
       "\" style=\"display:inline;vertical-align:middle;\" /></a><br>"
      ],
      "text/plain": [
       "<IPython.core.display.HTML object>"
      ]
     },
     "metadata": {},
     "output_type": "display_data"
    }
   ],
   "source": [
    "# Proven\n",
    "unfold_not_subset_eq = Forall((A, B), Not(SubsetEq(A, B)), conditions=[NotSubsetEq(A, B)])"
   ]
  },
  {
   "cell_type": "code",
   "execution_count": 6,
   "metadata": {},
   "outputs": [
    {
     "data": {
      "text/html": [
       "<strong id=\"fold_not_subset_eq\"><a class=\"ProveItLink\" href=\"proofs/fold_not_subset_eq/thm_proof.ipynb\">fold_not_subset_eq</a> (established theorem):<br></strong> <a class=\"ProveItLink\" href=\"../__pv_it/theorems/e219b11b6d1671f6e2a8d30d06f85a846bfee38c0/theorem_expr.ipynb\"><img src=\"data:image/png;base64,iVBORw0KGgoAAAANSUhEUgAAANEAAAAYBAMAAACW8wWgAAAAMFBMVEX///8AAAAAAAAAAAAAAAAA\n",
       "AAAAAAAAAAAAAAAAAAAAAAAAAAAAAAAAAAAAAAAAAAAv3aB7AAAAD3RSTlMAq1RmmUTNIjK7EInv\n",
       "3XZ/CtNrAAAACXBIWXMAAA7EAAAOxAGVKw4bAAADT0lEQVRIx7VWTWgTQRT+ks3mZ9OmKRTRUxcV\n",
       "RBQMWL2INsUfLBUM9FIVbEVErJWm52qbXoSC0CCIjZdsQTxZqKUXzcHagyhSCahYpMFYD6UgtfWn\n",
       "9gdb38zsNJtNcopd2J2ZN/vme/O9b94usEWXd4vW9RRYKvNG0f+GNCPw2nKWY3nzF+kOss6uMoGc\n",
       "I7xxL+RMn0SjJBertw0iEAJOsvHVMpEeieaARJrLTE9OiW5FHKiNoR3oY7uOl4l0XDQNf0R7exaO\n",
       "mDnVmwVaw6ijHRuAXy8TaZw//d3LvNU+bu4SqCfI+iwqDCjEoLvcNAkl9AR+8NYRAUblXC3dHVG4\n",
       "CWYyk3lTJpJLCCLs/CmEQXdazr0GhihlflLeaeABtxk2d+tgD2fFBpCVHRYwoOreNT6k1Csj8gCv\n",
       "zH+5zDRI2+6Chytde8Wn+n+lGnk2fZY1lQh7Pia7P5FIROFNNo0N5mKp1EVonkU+7BLZ51eARLKf\n",
       "AnFSKn2Gn6/jFyQraQTG7UhD/Plch3ZPGI4C36DKwCv4AnMnGlZkeeiTnj5ay09C8dIBcGaFIFre\n",
       "inSGoSzYkfihU+9k4TPLSg0JCuyQ5JA0IvOv4F3HdulZRXwp6+TMom8ThSN7SXjpGA7ZkXh+A+4g\n",
       "uk3DBLR3OYFx9hiX00LlH7TNsjRAazl+037YEqM8tABOiZP2tU4EZEES9SzrasNO07B+sIGStltS\n",
       "xLTRTHenWTJqQtL1O5EwQO4KKw43uSBaiHiRAa3GgvSUFJBW2WtqjPLXDJnMoTBwzlyOSdjD6Ema\n",
       "5LbeyGRENeogx5eGeRBE4WhK1RpmBnoj+XsKOlksrtSTVVMaLJkeoqRfSjkNLblkYO/GdWHYJ113\n",
       "bFRXX2PcVkakKUAAMZEBtNpUHvTG+enxLMu6RclUl3PsYcp20gor9q3NHtFSpWsj8KxCe2/LU5gp\n",
       "QiXq6Rw08Sh6DQwTe/PyjTrb9zZeqgYTNS+gnb3incDhtVSjblcE7gNngni4FIFKiYsqnamxu8Js\n",
       "SiLvm+r6nMnIPElN2bGdlr4V6ULRcqfFC3tFvuyFodB1vgSSq+h/gMXakzdxpODVWbshVAIJz8zW\n",
       "keB1T1yHStX29jJ+d7RibxilXIsy8A+lHsPFvvQx6wAAAABJRU5ErkJggg==\n",
       "\" style=\"display:inline;vertical-align:middle;\" /></a><br>"
      ],
      "text/plain": [
       "<IPython.core.display.HTML object>"
      ]
     },
     "metadata": {},
     "output_type": "display_data"
    }
   ],
   "source": [
    "# Proven\n",
    "fold_not_subset_eq = Forall((A, B), NotSubsetEq(A, B), conditions=[Not(SubsetEq(A, B))])"
   ]
  },
  {
   "cell_type": "code",
   "execution_count": 7,
   "metadata": {},
   "outputs": [
    {
     "data": {
      "text/html": [
       "<strong id=\"refined_nonmembership\"><a class=\"ProveItLink\" href=\"proofs/refined_nonmembership/thm_proof.ipynb\">refined_nonmembership</a> (conjecture without proof):<br></strong> <a class=\"ProveItLink\" href=\"../__pv_it/theorems/de83126afc1a9525eeabc9cefca884d1d2dd3aca0/theorem_expr.ipynb\"><img src=\"data:image/png;base64,iVBORw0KGgoAAAANSUhEUgAAAOgAAAAXCAMAAAA2s/OGAAAAS1BMVEX///8AAAAAAAAAAAAAAAAA\n",
       "AAAAAAAAAAAAAAAAAAAAAAAAAAAAAAAAAAAAAAAAAAAAAAAAAAAAAAAAAAAAAAAAAAAAAAAAAAAA\n",
       "AADXrLZzAAAAGHRSTlMAq1RmmUTNIjK7EInv3XbP4duh6fPj951y2Qx9AAAACXBIWXMAAA7EAAAO\n",
       "xAGVKw4bAAADHElEQVRYw9VY63KmIAyVm0DAtLvtdnn/J12CoqCC9vuxY52OXwdDyOXkBBiGH/Po\n",
       "V7/q4Uc9yLufRzjxcEw/CunN1mEunuwnd93Php05H5YYkWdSrcNPTjGM/e+bG0VsQijSvYZC2ycn\n",
       "VF7AbTqbw8KSOyELcDv+ZEd9r3rt9PE5HVLutAsmT49OiiVW46MrtG2dGhEGZo5MhAOGnLyRnPQT\n",
       "Pd49GrmLdYDIwLgCfZoQeVbBkoo0A95RgcoUDVvQM3zPiANxvOKKMN3mIda1kOEgt5JMFCrwmOgY\n",
       "CxNy9gRFQrP8yob6YlFjg3RO2rYdexJbpzubHn1Lje0uN80pFFGXCBGpGzWNjSZK4dche8V9TqYr\n",
       "6NmFkpdEih76244u08FWjN9TY5C9vauenJ+/kvuygqmhwvvzFV92R1BSRtbNgyY1Go4VFSnjSySw\n",
       "BE0R7jqap9u6LXfUyFg8DLpyfgtaZVwM52nDgFkoZIgrv6S/BDkOY7nN8KQFphUsiFLHv6ajy3S9\n",
       "I7e9mk0P7VuANeVK6JLJ1BsBqgY6tXhjysDg09JCC5BjjQ4dUAi50Tfqgdlh5C1H83ReR3mvZtOT\n",
       "coKqJbesgbkaGNleBBFxUAc6VKLeAw5iNlJ7ViCvrpBUM8BWXSKtalrQXaerOid7NZueJGibckV7\n",
       "iO3CgPQzo25sxA9h0dl+m7dGuT0VopHzHAuwqy0dCmYJul2j63RgJyVaqVn0iNHat1/W8qYckUmC\n",
       "HsiYPy5FBRZgXwrqsg0hIZTTP7OH02ErjPM6pq6tWBmmILr6iGfPp9cMcVST9ZhoykpFZ3Kzpe32\n",
       "Jv46G1m3t7PTUwPc1CDAzUZDIgcKNI1EVLix3iTY0+mUXFOU6KZmr8fClv1KrvJGfuskenUkkKlY\n",
       "QYZRxYBzwlVw1L/5nIL4I1E5RDh1tJxObru8YajU7PVo+9usG5hSri6Q1iHyxqnrSoTfGDnZMNzZ\n",
       "o9dN753ioS4OpK1lbpy6bP+kreB65DVHd3ruXW1oPB9n15cwFzcK4sZIx1FmbbHX7elhL50CnnY7\n",
       "d+ea5H9Y+Q+kiRwA0DmKmwAAAABJRU5ErkJggg==\n",
       "\" style=\"display:inline;vertical-align:middle;\" /></a><br>"
      ],
      "text/plain": [
       "<IPython.core.display.HTML object>"
      ]
     },
     "metadata": {},
     "output_type": "display_data"
    }
   ],
   "source": [
    "refined_nonmembership = Forall((A, B, x), NotInSet(x, A), \n",
    "                              conditions=[SubsetEq(A, B),\n",
    "                                         NotInSet(x, B)])"
   ]
  },
  {
   "cell_type": "code",
   "execution_count": 8,
   "metadata": {},
   "outputs": [
    {
     "data": {
      "text/html": [
       "<strong id=\"unfold_proper_subset\"><a class=\"ProveItLink\" href=\"proofs/unfold_proper_subset/thm_proof.ipynb\">unfold_proper_subset</a> (established theorem):<br></strong> <a class=\"ProveItLink\" href=\"../__pv_it/theorems/1aef3d7ec1ebd252d9b27b5c8a4b7c19d34047600/theorem_expr.ipynb\"><img src=\"data:image/png;base64,iVBORw0KGgoAAAANSUhEUgAAAS0AAAAXBAMAAACsWwSiAAAAMFBMVEX///8AAAAAAAAAAAAAAAAA\n",
       "AAAAAAAAAAAAAAAAAAAAAAAAAAAAAAAAAAAAAAAAAAAv3aB7AAAAD3RSTlMAq1RmmUTNIjK7EInv\n",
       "3XZ/CtNrAAAACXBIWXMAAA7EAAAOxAGVKw4bAAAEWklEQVRIx8VWW4ibRRQ+m2Q3yZ8mm4V6e0pQ\n",
       "EUorTXEp+lCbtVUsazG0L/XaiBRxXdz0RZDWbvoiFCwbROiuqPkXRFiwslsLPuSha6HiBSXe2j70\n",
       "h2gfSqHY7Wq3N9r1XGbmn3+TbTQvPXCSmTn/mfnmnG/ODEDHEqWf0n/4ps1IUErtJ20jf6Kmstx8\n",
       "a7lvuhutvJbdRRHgZRBN08ADHcAKTePPammPNFnD1Ut9d48DnG3hpW1NEeyZw53mRJ+kgdc6wPUZ\n",
       "qlOUxRbV2HnP805Lc0UFIFOGHle6RywvbVPiB3st4oIh0f2EuNIBrk2okRw3IxlhxLvnfPMoZnBn\n",
       "HsJ57jknLS9twzSPvAkwntI+A1fwp1+UNpTIdoBrljYuza+O8eadU5Z5Iw5txPW/515qXcH3MjY4\n",
       "+OiqE6H8lHJJ7LlKc7qsYdxyTyf0ohQ+JARpXOSNdRUsewZ1GMP4KveSsYrvZWxwD8BLH237Xbns\n",
       "S80TyXKiP3reDx3gihDtB6UJazmfge19BzBJVJvh3mpFYfYyNqCYDS/obOVDf1PU0qJPA3zIw+6S\n",
       "lfPq32mJi7akgrENxni5/ZY5du2vP9i6HuRgPeh7GZuuDaqmZGM36CQXRXdDlGuF8y1bD/xT2yJH\n",
       "RR+Gz83JiVUHj+rznaRd/qI2MMoz7LZwpZDCawjEGnZMQ9I1XsYWTH4Eopco1bOicTfBpsS8FJ46\n",
       "pGYDuI7hXLGZiQkkxAaAC2p0BTmdYAgfbM7wt0kLVxznSBCNx3jxMqQaxsvYSJ4zLuc3D1yjPcyJ\n",
       "hhrCix0/CX4823M2ru73cMZBidlKPEdNuL4A6K2DXzVYejGC4VvYeFFVLaduvIwNtnreTc/7WeiC\n",
       "y9yk9WZFofg4jzdekfWycDhn40r1pE0hOQ7Or015RB4mJcK7fFxjOEfXZWw8rKvqE8bL2Cg9034a\n",
       "Ac5QHuuicGSIl4enpB6e7b8XbFyNSBEmFUdvPTKgyRanvHxC+8vJBYIyeZc5Oxcx62NE6ceoV9dl\n",
       "nb2MLZD77eo+C1dEYS+TdodizgZwVtq4ustIt+2guTepTykdZS4Ce2m5KzL4wsf6HhpGz29cVUrC\n",
       "hCZe1l7GhvKlOZcU8mpJSgmXky4OwWAt4yoKjRYsXJHazHW4HzT3opf12aQYHASYWhyCUHVhOlhF\n",
       "7lvs63udk09Fs4tmjjWUl2+DrWewejK/nOqCC6sW38AIFkQVixBOWSgEO+060YDoVdgDmnvd+hwB\n",
       "xSVZbvtIqwf7p4PdwBUh8o5Sk93erDMN0evg/GblkdgzD3G5l0ddOKzzyPdrON/2WsgF+/3B7oHW\n",
       "74FNxv1rcJ7dFTsO62/UtmQtXM+k4dOFgsPVNDxSO/q+X6EI66EABs/z3zlK3l6yajz4Fh1vDnCl\n",
       "xfsmZHdsY2KC66otDtmn2sXrELTw8qWZBwQ8vvQh/fxyuFrJPn5K3P6bVKmV1+3knNKA5P4Prjsl\n",
       "pTu5+L/boysLbRUULwAAAABJRU5ErkJggg==\n",
       "\" style=\"display:inline;vertical-align:middle;\" /></a><br>"
      ],
      "text/plain": [
       "<IPython.core.display.HTML object>"
      ]
     },
     "metadata": {},
     "output_type": "display_data"
    }
   ],
   "source": [
    "# Proven\n",
    "unfold_proper_subset = Forall((A, B), And(SubsetEq(A, B), SetNotEquiv(B, A)), conditions=[ProperSubset(A, B)])"
   ]
  },
  {
   "cell_type": "code",
   "execution_count": 9,
   "metadata": {},
   "outputs": [
    {
     "data": {
      "text/html": [
       "<strong id=\"fold_proper_subset\"><a class=\"ProveItLink\" href=\"proofs/fold_proper_subset/thm_proof.ipynb\">fold_proper_subset</a> (established theorem):<br></strong> <a class=\"ProveItLink\" href=\"../__pv_it/theorems/936e9d85b314a7f1dbc5aea0354eae229b3042c00/theorem_expr.ipynb\"><img src=\"data:image/png;base64,iVBORw0KGgoAAAANSUhEUgAAAQgAAAAdBAMAAACktO9QAAAAMFBMVEX///8AAAAAAAAAAAAAAAAA\n",
       "AAAAAAAAAAAAAAAAAAAAAAAAAAAAAAAAAAAAAAAAAAAv3aB7AAAAD3RSTlMAq1RmmUTNIjK7EInv\n",
       "3XZ/CtNrAAAACXBIWXMAAA7EAAAOxAGVKw4bAAAD8klEQVRIx71WW2gTQRQ9eTXJpk1b8PmVqOCP\n",
       "LUbUQj/UiG8qGPRHrWikFFEE2x9BFJMiCAUlQRQbqSYFESoqiQhS8mEVFK0oRS36E1gtCIL4omqt\n",
       "YL0zs49pk5rakg7szuw87pydc8+9A5S8tPx72IkZKF4/r45ONO5QgSrWWFRCEEtEdSRvwJb8Wj2n\n",
       "AxgENrDvA6XDoIR5ZR3NHyqPA74oylJoY7TESwfCHhCVL981IkTEviBsQYYDHn/pQJSL6u69qGh8\n",
       "yOVyb0RzDXWtISB9sBHSshK6xGIhAfWz+NHTd80hHz2H6YCagGe53NMSgmgQbGApp0V5LQ09AbrY\n",
       "oWSAzcClaWziLNLZxN/bEUuz2hIyR1y/Pr3lo3VAK5xV0wDxbiLta+UFfwcR4ZvIxHt/AjXsfGoA\n",
       "d8oTmjoGa7pg96DResj3O7/exxXYJs1x95IkhqkRIzPqdPzyWuFupjkJxC2gsp81WqU5lXQ2tj/U\n",
       "2ENPeLXoTI0TuParTN/K+FBstNYVQECGSPsyHfRV0csaFdK0GFFh+U6NWnpuHxKh7TGv2oeyW7ik\n",
       "3WLqSva6QT2eRCLRAley4U4HtypKr7wEmwxDffqEK8xFWBj4IoUuXj7T78VYPK2n54TwS883EdH7\n",
       "4e01QSh88J4fygWxdBXwEWjUjtwaNpZYnqmuYEA31KRvlWE7MHM/+WezCeIwoXuU0lRsEX+x8zmv\n",
       "LBRHv5gg7MxpHWdUuLWwO4uinACwjHzSnjaWrLv+vv5UWjeU0bc6C3SPHoI1+YO7cPdsnfX5o9XV\n",
       "B3kEGzCBqftFmPXjZsAEwUn0llXhuDbtAZSXItDHKbyUBYwlASidQ4ahOt1sRXSswzReNsK2HlT6\n",
       "JV/bKLLK4Ip5MEHwa4BqD2OhtuLP8rVk1hqENUCcVPjlJWHTUI2RsIOTTHGcDUY151yZJYHYxdiI\n",
       "EuU7oLtMF5l1xGncnUJ5SFoi4o0wFDMMXywG4pgU47O+lMZ5JGSCWMCgZjMj6ILuMk6SlStOFyFH\n",
       "WoAQS3oSyURC1Q3tMQx3FwNxUVZ+JCo4xz5Jou2MDTiH9XRP/DuGOR1xlnM4HfqSuZKhWpNytcj1\n",
       "z7xo0GlX+pU0nCNQXmGMYzKVk+oaOLRICjeJDq9qpd69cNMO+hJH2jAktP/f95/7ULY1ux6g7nd2\n",
       "i18CQcrcWoWrP0Jw9FCwsh3J3jnHu+08qHoojGhLejopmqnCkJ7Bp5aO5Pwi8mHhBKUT7TLlheXy\n",
       "hIGpg9idB0JE4rxi9EqSDxfW/n+XQD4IjxbhLAmeOzShGsl/hXmH8BfW/rSKEwWTq8goJtSWYtqf\n",
       "gaLEi2h/RsrJItqfTPkLxAz1HtKEl2sAAAAASUVORK5CYII=\n",
       "\" style=\"display:inline;vertical-align:middle;\" /></a><br>"
      ],
      "text/plain": [
       "<IPython.core.display.HTML object>"
      ]
     },
     "metadata": {},
     "output_type": "display_data"
    }
   ],
   "source": [
    "# Proven\n",
    "fold_proper_subset = Forall((A, B), ProperSubset(A, B), conditions=[And(SubsetEq(A, B), SetNotEquiv(B, A))])"
   ]
  },
  {
   "cell_type": "code",
   "execution_count": 10,
   "metadata": {},
   "outputs": [
    {
     "data": {
      "text/html": [
       "<strong id=\"unfold_not_proper_subset\"><a class=\"ProveItLink\" href=\"proofs/unfold_not_proper_subset/thm_proof.ipynb\">unfold_not_proper_subset</a> (established theorem):<br></strong> <a class=\"ProveItLink\" href=\"../__pv_it/theorems/8472c4f267526f5b423e2e9f5e2e7b5ef3806f8a0/theorem_expr.ipynb\"><img src=\"data:image/png;base64,iVBORw0KGgoAAAANSUhEUgAAANcAAAAXCAMAAACvSyozAAAAPFBMVEX///8AAAAAAAAAAAAAAAAA\n",
       "AAAAAAAAAAAAAAAAAAAAAAAAAAAAAAAAAAAAAAAAAAAAAAAAAAAAAAAAAAAo1xBWAAAAE3RSTlMA\n",
       "q1RmmUTNIjK7EInv3XbF6cnBaQLLagAAAAlwSFlzAAAOxAAADsQBlSsOGwAAAsdJREFUWMPVWNuS\n",
       "rCAM5A4B5Fz4/389yEWDioO1W55aHiY7ZhrppBNgCXl96MeOZ/Nq8l9GYDMOrR5PLAO2dHvO+Bu0\n",
       "mJtyqDgxF4cYaRoKTA5MJZCtkNtUbyTQqikHi3FqOg/Z0JiJKVuZJGtawjS8kS7BpxyCxpko61i0\n",
       "J6PI+RM1jwKRdOwNXn7K4bQrGdiLD5Yyuse8/opXfr5yWS2vgVKvVJeacehAQsRhNspdpo9WtSpf\n",
       "3KpxWa3PcfDuFRm6GYdYCwzp0i76rrwsbVl0FFmRH4JF83xY3Lnob751Q/EJh0ypMhERpfIaZCKE\n",
       "EOiO5QpZTdtHW5dHIjYQhXMC0KNTg+kAxMkRkJClqEss2xCdY4ubjmhBI/GG0lyYb8SYx3ZNlUMh\n",
       "cZ22+ZKn8De8NoBxFH79Bj0AJuEcI9/iiRwBhEj9cH+LoQNe4Nv7TUsgtix0IZHGB1ybpYXGMa8N\n",
       "IFyan+ohcIqXLXPF5fSb02g5be2QSN9ZRThiEojCE3mWK5ePeTVA3imkGwN7uXVr3h1NmCjPy6i8\n",
       "eGuLNSps6axjyqJVEqG6rY9zQXGVwJFWAVjaOS+AyRuOvMTBIfn5IDXYzGt5JX5qO1h1VnuKRNXX\n",
       "RK4SS8WQ1wbIKwr8Brg34tNoDt1eDfjAoS4bovJVdFtW2m7RLIpq6mGORnsoLx3liNcGYElKFu6A\n",
       "KbQDSVWHTQfZvEi2/rF3egtUHncPuh16d20vsredqNbFmL680gFs1Od3gHZtLxwB1zeaAbGho6rC\n",
       "wcU56ijqpbcIXmS09m3ryoptrv6RDhGAgEYd+QqIjqbnO4f4vkP1qR5FLjQrYhK0WQPOVXTr5tq1\n",
       "MbgGJLX8sfvOfwHM4NE5Hb58TWo3kk83k9EBfwhjfyGPuxVaeOqYHu29HyIk7VNeU1cCHZ46Zv/B\n",
       "oHs7vGWTh7yYJD966B+wxn/hXhghkkegjgAAAABJRU5ErkJggg==\n",
       "\" style=\"display:inline;vertical-align:middle;\" /></a><br>"
      ],
      "text/plain": [
       "<IPython.core.display.HTML object>"
      ]
     },
     "metadata": {},
     "output_type": "display_data"
    }
   ],
   "source": [
    "# Proven\n",
    "unfold_not_proper_subset = Forall((A, B), Not(ProperSubset(A, B)), condition=NotProperSubset(A, B))"
   ]
  },
  {
   "cell_type": "code",
   "execution_count": 11,
   "metadata": {},
   "outputs": [
    {
     "data": {
      "text/html": [
       "<strong id=\"fold_not_proper_subset\"><a class=\"ProveItLink\" href=\"proofs/fold_not_proper_subset/thm_proof.ipynb\">fold_not_proper_subset</a> (established theorem):<br></strong> <a class=\"ProveItLink\" href=\"../__pv_it/theorems/fd0046bf95af39ea0c0feb404e96ee4732cea8be0/theorem_expr.ipynb\"><img src=\"data:image/png;base64,iVBORw0KGgoAAAANSUhEUgAAANEAAAAXCAMAAACiVVp0AAAAPFBMVEX///8AAAAAAAAAAAAAAAAA\n",
       "AAAAAAAAAAAAAAAAAAAAAAAAAAAAAAAAAAAAAAAAAAAAAAAAAAAAAAAAAAAo1xBWAAAAE3RSTlMA\n",
       "q1RmmUTNIjK7EInv3Xb341Cp3V2mrwAAAAlwSFlzAAAOxAAADsQBlSsOGwAAAuBJREFUWMPVWEdy\n",
       "3DAQJHKGbOP/fzXicpBI6qCijcPWckU0pqcnQcfxLy3x6vYfWB5D8/j6Jaq3+5lPn+jzjMnLhLCB\n",
       "TzwsX5KqeyQqBBQXVzK5JFGg7APxsmi6EwWHNaNsOVy2UEQh/YFHAWUTSaiXJaJdjFAUVh6WaMyd\n",
       "4EvEBZoko5VWWga/zMjCByNMGNTwyjn39cu57ndSXyOFmY1sSHUNfzuLoAHCHz50LpbcRM3YKFGM\n",
       "tmq+zZLyxMa6tKx5O+igATQlEoxC7cQ610saaVSVM4kyzd8VKIr65uytm8VTCD//xAEBFuWRAVJE\n",
       "uYDNEsmgvPfos5kkpQVqH80aK2G1DNQYCkvMroQQtoZYQc1ecbj3mQjQfL4px77UD2wrJWybPIaB\n",
       "rOwimLi8094y0mgBIQ1ScYkRik1BbhmoAZTGWqfGEsdmPyjbDpRVs8zLd3WBSQuDAtFSSm4ZnZ3t\n",
       "hKBGbqC43jLSZW9woFKgTcdsQpJWxG2VlHgY4xzqbXFOTHLLyM0QQ0eAUFOzOKOuKuHsAI5niWQr\n",
       "HygUh2BXWxHwWORGedfBCKEIunrNCMxhDUKjsRmeUJN5qjmVkcUYlNovn8tNTaPIjLepqBxlEQiY\n",
       "Pmly7GtE14yMKiu+xNQEwfpJsYNio19MtUG0w1U3NHC2kCh2oRprjW3rAUCCWI0MCnqIfRHYpUbR\n",
       "GowmCNxHVgclRxSZ40XHyTNbh9MXUD60sr9HjdBnTP0c5NiyUQgwgOTYj1OTvGP0MfGEEGZOowY1\n",
       "e9zJ65nij1F5Frh6T7jphlHiJNVebYplOmczvc4jelYGAHEo0aURhPJTkyX0khHX35520w85oTQN\n",
       "nB0yuZTwYFJT7MJnU+uK+RAihsrpzwFKiQ3Arn0/mdLu7g+7YXyzja3OrKVjslUvQPSVPe6JROr6\n",
       "isf09xgd9BtXxuW7wu83yCe3+hsDtpf0rSuNfkqIsP/kPzaPGemfs+4vSTEXL/CJm7kAAAAASUVO\n",
       "RK5CYII=\n",
       "\" style=\"display:inline;vertical-align:middle;\" /></a><br>"
      ],
      "text/plain": [
       "<IPython.core.display.HTML object>"
      ]
     },
     "metadata": {},
     "output_type": "display_data"
    }
   ],
   "source": [
    "# Proven\n",
    "fold_not_proper_subset = Forall((A, B), NotProperSubset(A, B), condition=Not(ProperSubset(A, B)))"
   ]
  },
  {
   "cell_type": "code",
   "execution_count": 12,
   "metadata": {},
   "outputs": [
    {
     "data": {
      "text/html": [
       "<strong id=\"superset_membership_from_proper_subset\"><a class=\"ProveItLink\" href=\"proofs/superset_membership_from_proper_subset/thm_proof.ipynb\">superset_membership_from_proper_subset</a> (established theorem):<br></strong> <a class=\"ProveItLink\" href=\"../__pv_it/theorems/2235dee58a3fecd7484ea00ab222055c7e10c0220/theorem_expr.ipynb\"><img src=\"data:image/png;base64,iVBORw0KGgoAAAANSUhEUgAAAPcAAAAXBAMAAAAl5sTiAAAAMFBMVEX///8AAAAAAAAAAAAAAAAA\n",
       "AAAAAAAAAAAAAAAAAAAAAAAAAAAAAAAAAAAAAAAAAAAv3aB7AAAAD3RSTlMAq1RmmUTNIjK7EInv\n",
       "3XZ/CtNrAAAACXBIWXMAAA7EAAAOxAGVKw4bAAADd0lEQVRIx7WWX0gUQRzHv/d37/bsPEmkgvCo\n",
       "6DGOlKIH80IqxTIhCMmoS4jQl85HqXR7jKQO4aCTyhMkKBJOsSDuodMeKqIQ6qEHF7YMpAhTMz0M\n",
       "qtmZ2925013lwIG7nZ3fb+cz8/s3AxTZ/LJkrSBYCaMbmMCi+ZrXUfhiJTzPZgio/d3FwG3qwx4y\n",
       "kdtTaw4f+ldW1i7BH6Lwo+rQ5WLgTnXv7qiJ/KHJ+BvAlgU6KPyG6p5YMXCParQuM3mdSST8BVyL\n",
       "QDWFu5PkESzK52T1GDWTZ/LevslyhHYcZNcOsoCSpDqDg1jfXVzAVZFHxMzleYIz37WebY7gXpFf\n",
       "iIbsO1l+Wxy8RJanUiZiJxGIsztuUcsIHfp4SQziTpJjvgCF1wP9dDxZ8LnWEc3gTgnego90XbIz\n",
       "MsNn5STyo/LOg9kKNUEcEQrvhEDTTXxNpTcX0w00+72a/hO9GHgGGsfuGnDyXWfBknTdLSSMDqI2\n",
       "uZXCDYWfUdhfqm7JULg3yeqFb4FFxCT8mTz4CzKPZySRIMuvAX5wRaYfTzWl29vjmi4zLxFLOMZe\n",
       "emXSWEbdU5XICj1zdAa7whbW8p5FRBiOOR7u6lWARrajcqCWg+/T481Zb+jqcIBNiUfGzufJr5Yo\n",
       "udjOETlMh5WL7KsghkM83O8O6Lk4AfEDB3c7yDT+r93HMW3oGmaHaxmP6YvO9vwif5XqlicZfJTG\n",
       "oj9no57p6m3g4YozgkGtQlQdkTi4by+JtxlbrE2MGbqseRWIcVsGNBv8in4cLZMFLKnejTH4Nbra\n",
       "lpw3ayCW83CXRELgNLR4GAxzcGGcdEJeRXKFDN2cOAB7dijjYiZr05OAyM91sFSkcBvdTGO6Mplz\n",
       "a08zB3emR1awC1o8CL/5U43aqDQKR3si0ZfTzdl3EmKTsmc/exuMs5S0DcyXVfRRTzRz56KfMCXm\n",
       "VlzgU02BkMVVaPHgyq46UnsR9aQM3Vz7lJeCrffl/Fp4nZ+BGLY0KKYgrED8yJldNegCvKxK9CQx\n",
       "HC6AC5lnCLMyxXRzrdq6QNZxcOc4xFOXPBM48CfdEOTgJwIYWmoWaWlxXEmP9a26TDS1zibRJem6\n",
       "WsRFLa85sdXXETvX9+YV0wQtMqY3GfF5Il5QaC2PaXVphfCzZvA1avt6V7BuK+EMibKpAnho4/DN\n",
       "bcLmI/4DAvPgMMgumckAAAAASUVORK5CYII=\n",
       "\" style=\"display:inline;vertical-align:middle;\" /></a><br>"
      ],
      "text/plain": [
       "<IPython.core.display.HTML object>"
      ]
     },
     "metadata": {},
     "output_type": "display_data"
    }
   ],
   "source": [
    "superset_membership_from_proper_subset = Forall((A, B), Forall(x, InSet(x, B), domain=A),\n",
    "                                      condition=ProperSubset(A, B))"
   ]
  },
  {
   "cell_type": "code",
   "execution_count": 13,
   "metadata": {},
   "outputs": [
    {
     "data": {
      "text/html": [
       "<strong id=\"subset_eq_reflexive\"><a class=\"ProveItLink\" href=\"proofs/subset_eq_reflexive/thm_proof.ipynb\">subset_eq_reflexive</a> (established theorem):<br></strong> <a class=\"ProveItLink\" href=\"../__pv_it/theorems/e353e99c6089a9fdc628ee637e185c788ed840990/theorem_expr.ipynb\"><img src=\"data:image/png;base64,iVBORw0KGgoAAAANSUhEUgAAAGwAAAAVBAMAAABRZRb3AAAAMFBMVEX///8AAAAAAAAAAAAAAAAA\n",
       "AAAAAAAAAAAAAAAAAAAAAAAAAAAAAAAAAAAAAAAAAAAv3aB7AAAAD3RSTlMAq1RmmUTNIjK7EInv\n",
       "3XZ/CtNrAAAACXBIWXMAAA7EAAAOxAGVKw4bAAABz0lEQVQ4y4VTzStEURT/GW+88YbBwnqmrBSZ\n",
       "hZSNRj5SErGRLEhSlI+NEvn4C1gopTSzUhaEjWSBnYhslIVXEyulfJWPpHHPuffp3nrMqfvOvffX\n",
       "75x7fuc8wMds/Gt/wbcS7fPDJoFgGiimfZmBBLbZ5T350cbEugOaaD9kIOvSVSlaZM113XkvZIYC\n",
       "prBAz1kyaA3S1b+zC42Oa5gVFafcBDERjhm0I/6Gpz/Yb+os7B1S3lPkxkVSszQpxWzkhX2pIWL6\n",
       "kVIMAOeue2bQLKlIIvDK3tDTQpVIgx2gBVjlq5SC8ghAMBb64tKKdVonFiloDTABmxHnREGFMRnX\n",
       "fuZnGbQE5uhcAeSnwh0swYuCCvh431j/ycdLjRVZboyS6otCgbRUpPtCpzliEr71drBtAUUUppdq\n",
       "ruOrdL/+SEusG1lqh/5GFFJ7KsXaHeb8aFZYvkiELjVHIm9Jj8cKxtXI1Yo1w0V340GBYXG2KWZS\n",
       "Njq47w3XDAWl2WkVK4evWg+iqgOhSzjJtxTKMyPmFG9khhFIvokOXP1qBMx543qNLGb/qitqKfIm\n",
       "szobzYp7m2M47YOeJsbwtrmu9uOwTfkGc5ayZFvxv579nxUZxw/2EmcFadtSWgAAAABJRU5ErkJg\n",
       "gg==\n",
       "\" style=\"display:inline;vertical-align:middle;\" /></a><br>"
      ],
      "text/plain": [
       "<IPython.core.display.HTML object>"
      ]
     },
     "metadata": {},
     "output_type": "display_data"
    }
   ],
   "source": [
    "# Proven\n",
    "subset_eq_reflexive = Forall(A, SubsetEq(A, A))"
   ]
  },
  {
   "cell_type": "code",
   "execution_count": 14,
   "metadata": {},
   "outputs": [
    {
     "data": {
      "text/html": [
       "<strong id=\"relax_proper_subset\"><a class=\"ProveItLink\" href=\"proofs/relax_proper_subset/thm_proof.ipynb\">relax_proper_subset</a> (established theorem):<br></strong> <a class=\"ProveItLink\" href=\"../__pv_it/theorems/eb88793cee21935582512677cf53bda00078daa60/theorem_expr.ipynb\"><img src=\"data:image/png;base64,iVBORw0KGgoAAAANSUhEUgAAALkAAAAXBAMAAACllfPxAAAAMFBMVEX///8AAAAAAAAAAAAAAAAA\n",
       "AAAAAAAAAAAAAAAAAAAAAAAAAAAAAAAAAAAAAAAAAAAv3aB7AAAAD3RSTlMAq1RmmUTNIjK7EInv\n",
       "3XZ/CtNrAAAACXBIWXMAAA7EAAAOxAGVKw4bAAACzklEQVRIx61VT0hUQRj/7b7dfe/N2qZg0iVc\n",
       "6tSphSToYK70h8QgwYtUlB0k2g7q2dL1EgRB4imj2idEpwQNb3vI7FARhVCQhx4sdRAhSk23TSn7\n",
       "ZubN7rgpW88GZueb+XZ+M9/v933zAN/NrODvwXbaR3lG51b+89SrubHPB3hwXAyRhT88h9drai6n\n",
       "EUsAx/n8kg/0h3I4oNDnXdedleZLIFAAUsAgj27IB/pROTR/l+P1uZIgv4DwMtBAkTlANO4DfUr8\n",
       "RvsKYmTvSx6Dlgw6ocqBQexE/NAu1eyPLYkx0FZyBYisyHPqBP3adV/5QA9JUZPBb1JczVU1BLYn\n",
       "TXFRxpwE7ohFp2y7Mtim6PxiRG/cWhPTQc116/6XOu41KLxemCIr2QvhurGcbUlzw1Z/fpRWlpVp\n",
       "nbzt2Tvi8grmopj2auhfexB8xskjaWwnKjiLSgKNGcSmNqA/IRxrYmSEaq8R+KzCF5vmjzX/kIdp\n",
       "6Hf5JrqSRfwHc5KzjjdSkiSMBR09fDMHtMr71wJNOjoj10/JY6KEzqNpIk+Y37LziFjLXZS74hhL\n",
       "6OixSHUxZafB3urMcG0+yHlXEdziOtfT4cEZMh6nBAhOCN/Ap4bd0NFzoU6MqjI52KxEsOlyaKfe\n",
       "Leeju1RWxKi+rDwnmRfpVSFqh8doI1itjh5OkwztUJqMJj0Mnm4mDz3jvYVn73kvQYRWz6VU0gbE\n",
       "dVqz9Y5H7UCbhh7KTqxiL5Qm5oqKfwYsk3ewf/3KxlQNZBZr6oYFecUKixFoWlKLC3pG5mAW0Ael\n",
       "SbigdsxWLLhrRYti3xln4zBXwd5pzIRJ4SXYMvoBB2OKGf5G/d07R/E/BTvdZU3j0Fq2Ja6hn6rG\n",
       "g3wbEzVkdGcnh4t77Q3fnpDrll5gLwfKX96gZtu6IzoiqklvrNKzbZd/+s5shb5Z66/gnytfSPwL\n",
       "+raa+R8wfgOmtqfSVWwZ9AAAAABJRU5ErkJggg==\n",
       "\" style=\"display:inline;vertical-align:middle;\" /></a><br>"
      ],
      "text/plain": [
       "<IPython.core.display.HTML object>"
      ]
     },
     "metadata": {},
     "output_type": "display_data"
    }
   ],
   "source": [
    "# Proven\n",
    "relax_proper_subset = Forall((A, B), SubsetEq(A, B), conditions=[ProperSubset(A, B)])"
   ]
  },
  {
   "cell_type": "code",
   "execution_count": 15,
   "metadata": {},
   "outputs": [
    {
     "data": {
      "text/html": [
       "<strong id=\"subset_eq_via_equivalence\"><a class=\"ProveItLink\" href=\"proofs/subset_eq_via_equivalence/thm_proof.ipynb\">subset_eq_via_equivalence</a> (conjecture without proof):<br></strong> <a class=\"ProveItLink\" href=\"../__pv_it/theorems/af3b867efb8c83e2f897318469fb85bb216817880/theorem_expr.ipynb\"><img src=\"data:image/png;base64,iVBORw0KGgoAAAANSUhEUgAAALkAAAAXBAMAAACllfPxAAAAMFBMVEX///8AAAAAAAAAAAAAAAAA\n",
       "AAAAAAAAAAAAAAAAAAAAAAAAAAAAAAAAAAAAAAAAAAAv3aB7AAAAD3RSTlMAq1RmmUTNIjK7EInv\n",
       "3XZ/CtNrAAAACXBIWXMAAA7EAAAOxAGVKw4bAAAC0ElEQVRIx61VTWgTQRT+kk2yyaauCdTSi3RB\n",
       "L54MWAoeahP8wVLBgpeiovFQxHhoe1ab9CIIgqVe/E8K1ZOFKr3lYK3gD2IJKNiDC0EPpSDa1hpj\n",
       "i9Y3M7ubSVRitw7szpt5O9+8972fBVwPtY6+HxsZ78Udyb/pT9ATYcI2F+DeCT4FFn7T7F6LRs9k\n",
       "oMeA/Wx92gX6PTHttNHnTdOcFeILwFMGUsAQ827YBfpeMSW+ifniXCUgPwH/MtBKnuWAsOECfYq/\n",
       "w+fKfNbeVjQKbSl0Q0MOCrETcEO7iOagvsRnT3dF5SGyAs/oIehXpvnSBbpPBDXu/SKCK6kahqFt\n",
       "zZBflDEHgRt8M1dz3Ba0P6Izw4heI7jKl0OS6sqdT01Mq5B7A1B5VmrPuerScr4zw4SQ/fH9jC0F\n",
       "s12T1yx5kyFMUBf5ckBC/9wP7xNGHoUmlAtzzsKCQKUAfaoK/ZGB8FPCInPagY+2+/zQ/L7Ed3GZ\n",
       "hH6LHSKTgsS/tyg465kRIYlDWZDR/ZeL2H73JkBENwIdMrpWBH4IHmMVdOZNB2n8zMrkHr5XPCVO\n",
       "GRiPyeh6III4fM1jBDcN7bXMDIvNO7HudcCDLM4t9LW3QMLDFAfBAa5Lf2hthoxe9CUZKW0zrEx2\n",
       "JewghMg4HKGnT6xHt9hZoVN9BUuMZFak53lQeyxG26E1yuj+DIXBd53GVRaT0biFwdJNZa5nrV54\n",
       "7LbVCQK0ezxlJ62Hm9OVb+GXE3S6W0L35R+sOGUSh/rV9r8ALVvKYcfa2epU9WQXo00jnDynwnQC\n",
       "5bdMAyfljCxCLTtlYsDvLGbrFtwFRyIGNxvaBNQVaG8kZvxE+ZLNTDqHcZsZ1qP+rc+R/4+hHe4N\n",
       "TqNtNd9pSOiHIhgrWR4qffnJEedsqOrf4zPNSge2WmVt5/VKcqiOZVq9th2q/fUdXQc6Buvo52o3\n",
       "YutB39BQ/wPGL81zqz5PSX1PAAAAAElFTkSuQmCC\n",
       "\" style=\"display:inline;vertical-align:middle;\" /></a><br>"
      ],
      "text/plain": [
       "<IPython.core.display.HTML object>"
      ]
     },
     "metadata": {},
     "output_type": "display_data"
    }
   ],
   "source": [
    "subset_eq_via_equivalence = Forall((A, B), SubsetEq(A, B), conditions=[SetEquiv(A, B)])"
   ]
  },
  {
   "cell_type": "code",
   "execution_count": 16,
   "metadata": {},
   "outputs": [
    {
     "data": {
      "text/html": [
       "<strong id=\"subset_eq_via_equality\"><a class=\"ProveItLink\" href=\"proofs/subset_eq_via_equality/thm_proof.ipynb\">subset_eq_via_equality</a> (established theorem):<br></strong> <a class=\"ProveItLink\" href=\"../__pv_it/theorems/396df5701eb5290e07500585ea550ae38bac50ce0/theorem_expr.ipynb\"><img src=\"data:image/png;base64,iVBORw0KGgoAAAANSUhEUgAAALkAAAAXBAMAAACllfPxAAAAMFBMVEX///8AAAAAAAAAAAAAAAAA\n",
       "AAAAAAAAAAAAAAAAAAAAAAAAAAAAAAAAAAAAAAAAAAAv3aB7AAAAD3RSTlMAq1RmmUTNIjK7EInv\n",
       "3XZ/CtNrAAAACXBIWXMAAA7EAAAOxAGVKw4bAAACuUlEQVRIx61VTWgTQRT+stvNbjZ1baAWL9IF\n",
       "T54MWAQPtSn+YKhiwEspovUgYgVbz2oTj4Jg6UlFzQriyUCVXiQHaz2oiFLQgwcXgh5EEG1rG2OL\n",
       "1jczO8kkKrFbB3bf23n7vp33fW9mgdDDbBIfwVrGO/GNwb/Fj9DVxpzNIcC1CW6is79FdqwkEidz\n",
       "cJLAHvZ8IgT6HWG2BujODd/3c8J/BkQqwBBwgVU3FgJ9lzC937ixTtdoNn8CxgLQRZV5QNwNgT7F\n",
       "7/GzFW4LioY6Ten0hVYPOrETDUO7UHPUmed2gxKKEFnRJ3QR9Avffx4CvUWImtK+cqt2TusY7E0k\n",
       "QZw6Zh9wjU96DenSsf+IzhZG9LrWMqe9TQldvvm5g0V1+uQZmDxkP+WhiwvFNJc+Jl++m5Oele+b\n",
       "vBL461yxBHOOC6mifxmB9piRR9LEvHiG6yMI1GfgTNWhP6xp3g18kuXzpI+7e7/zxxkF/TpLoiVZ\n",
       "xL9WEqL2vxSSpKDPqujGpVI1rx3oUdFtCv1Q+5MPVk0PRQy2ysGdfK50TGS5KCRVdCdaq3oa9iuV\n",
       "GabNWyFDpvqSxXTupGeNFXR/iINgL49l33dthIpeahlE+iqNJG2Tbb1ShBir6BBdw0L6xIBEd2h/\n",
       "WWVGMtuk5/ja+gNGu2G3q+hGTsgQaHIrFfis3UwWyYt9ZDyQJ0GUZg8PyaaN8Lm+YqcXUJvNKOgt\n",
       "xXtL1W2Sgrko65+BnS972LJyqr5VI/m5RMc4J6/KlkOgOUEtjqodWYJZkcyQJkZFZrxpuuHOVz1i\n",
       "cL1rT8Bcgv1aYcYgheflS1kPBckMO6P+7Zyj+h/BPnjcmsb25WLaVdD3t+F2OahQHy5OjldzY3X/\n",
       "ngO+XzuBg6Oy8eTVFD/WZGV2s2M71vjrG1gFOkabxD80TiRXg76mYf4HjF/GIqPh4z99sgAAAABJ\n",
       "RU5ErkJggg==\n",
       "\" style=\"display:inline;vertical-align:middle;\" /></a><br>"
      ],
      "text/plain": [
       "<IPython.core.display.HTML object>"
      ]
     },
     "metadata": {},
     "output_type": "display_data"
    }
   ],
   "source": [
    "subset_eq_via_equality = Forall((A, B), SubsetEq(A, B), conditions=[Equals(A, B)])"
   ]
  },
  {
   "cell_type": "markdown",
   "metadata": {},
   "source": [
    "### Transitivity Theorems"
   ]
  },
  {
   "cell_type": "code",
   "execution_count": 17,
   "metadata": {},
   "outputs": [
    {
     "data": {
      "text/html": [
       "<strong id=\"transitivity_subset_subset\"><a class=\"ProveItLink\" href=\"proofs/transitivity_subset_subset/thm_proof.ipynb\">transitivity_subset_subset</a> (conjecture without proof):<br></strong> <a class=\"ProveItLink\" href=\"../__pv_it/theorems/9909b9338352019fa0a025a767c4891db37b9f660/theorem_expr.ipynb\"><img src=\"data:image/png;base64,iVBORw0KGgoAAAANSUhEUgAAAPcAAAAXBAMAAAAl5sTiAAAAMFBMVEX///8AAAAAAAAAAAAAAAAA\n",
       "AAAAAAAAAAAAAAAAAAAAAAAAAAAAAAAAAAAAAAAAAAAv3aB7AAAAD3RSTlMAq1RmmUTNIjK7EInv\n",
       "3XZ/CtNrAAAACXBIWXMAAA7EAAAOxAGVKw4bAAADXUlEQVRIx7VWW0gUURj+nN1xdmd1UtqgHqKh\n",
       "egmCFpLerJUski1c8EWyiz1IYIH6bOkaEUQ+VC+2UTiCRGKCilC5kCUFUVRLCfnQ0laEKBFlZaZ0\n",
       "OZc9M4ddZQ12D8zMufznfP/5/u8/Z4B8FS3LeDPyWN5zF+qXGz9CnhJa2ZR7bGWQfQq/ZA7p06Wr\n",
       "tUEjAOyhzeO5B7/BP9uWAP80A+VAAI1AB+XmYu7Bd/NPxc+Mkb5J8qpuRhnhxQJ8Zu7B77O3r3U+\n",
       "1Z5OJBKTrHaSIOIQUGTBRagvzEPIudDajFnePndbjPhYz1mCSpCfJRJPcw/u5noLKt+4xl7bI+1x\n",
       "+r5JvCBa3wdcZb3WcuvYKv0PcLotQDU9i6xZELZHxpKpiouQ0wKNpZv+mHWd/x6rirCa4Y/1U4e8\n",
       "YtqtiKh5ukMjV9LMaXkXGh3ltWKT+6195b44br0Vp4tCZOG1fGEnFnDFYTCxqC+Ba5DBx8iCnqFo\n",
       "lMwuJwkjm19YF+0CDpvwcqGhiK05XVnxizU7HPAXgmYPyUIlyd2qfc4JCsLFcnMrGd8sg6udhLAQ\n",
       "36Yf2CWZu++wrTwhT1AC18mE36zZIu2cmZJlVOpn/U7WmTzGZ5kYoPHSKBFnZHCjsMROynHoryTz\n",
       "YS4lyowp0U7V8oY3HfBqSruPOkCVN9zIlsZevsKHsrVsS3FhLcCT7nr0pC6NP9srIo65zkSD9ZLg\n",
       "vFRWNeRp4qINOGqnI1QZLnq0nWJTa1NBLIfuZ1sKpoGrERLcGohI9wQdc5Uv/VACp3mkUV67ub4a\n",
       "nBOAJF+dJbKxgO0hFNtgpaLZTuNVRB00JXB3bGgBGyEirf2Aba5wrqloFJEPcejdcxa2/D3Bz9Q1\n",
       "dib3XvIzNRbb6WeQRSI8mjhKKwXEdaNZAk9Cm0crRKTVedjmGj9RSskzJRacTEv8uuvieBXltF0j\n",
       "fK4y9UFoC9AngH7oj4CPEu2U2ll4OYntFgaCcMy7+DkQhmHvpmylVw/h9AH06gbPOHYsxqoIiZ0m\n",
       "ekOfLQl8fwl658I6O1pcTbGRy4Ra27yPkaZX3ptxFJftTyXjKlXsmnTPeWULX5QdMunmd6PRrrQ/\n",
       "hmzXdIZ3B0VFtZYBX9p8qdKWBXwqvcPORhdWAh5A3ouWt5X/AZEL1FVZvJ3HAAAAAElFTkSuQmCC\n",
       "\" style=\"display:inline;vertical-align:middle;\" /></a><br>"
      ],
      "text/plain": [
       "<IPython.core.display.HTML object>"
      ]
     },
     "metadata": {},
     "output_type": "display_data"
    }
   ],
   "source": [
    "# working\n",
    "transitivity_subset_subset = Forall((A, B, C), ProperSubset(A, C), conditions=[ProperSubset(A, B), ProperSubset(B, C)])"
   ]
  },
  {
   "cell_type": "code",
   "execution_count": 18,
   "metadata": {},
   "outputs": [
    {
     "data": {
      "text/html": [
       "<strong id=\"transitivity_subset_eq_subset\"><a class=\"ProveItLink\" href=\"proofs/transitivity_subset_eq_subset/thm_proof.ipynb\">transitivity_subset_eq_subset</a> (conjecture without proof):<br></strong> <a class=\"ProveItLink\" href=\"../__pv_it/theorems/78fc9ada8543397b223f70c05327150d477d39930/theorem_expr.ipynb\"><img src=\"data:image/png;base64,iVBORw0KGgoAAAANSUhEUgAAAPcAAAAXBAMAAAAl5sTiAAAAMFBMVEX///8AAAAAAAAAAAAAAAAA\n",
       "AAAAAAAAAAAAAAAAAAAAAAAAAAAAAAAAAAAAAAAAAAAv3aB7AAAAD3RSTlMAq1RmmUTNIjK7EInv\n",
       "3XZ/CtNrAAAACXBIWXMAAA7EAAAOxAGVKw4bAAADY0lEQVRIx7VWXUgUURT+dnbH2Z3VSWmDeoiG\n",
       "6iUIEpLerJUski1c8EW0H3uQwALXZ0vXiCDyoYKwjcIRJBITTITKhSwpiKKSCvKhpa0IUSL6NVP6\n",
       "OffenR92tTXYvXBnzr33zP3OPec75w6Qr6ZkWY8gj+2tMKFhsfX91IuZsC732NIgfxV8ylxSp0qW\n",
       "K4NaKbCDDQ/lHvyKeG1aAPzDNKQ9pWgCOphvzuQefLt4VfzIWOmboEd1BGXkFwPw67kHv8Of/tbZ\n",
       "1HgqkUhMcOkIIWIvUGjATa4vyEPIBdHatC9ifPKGueLnMycIlZAfJxKPcg/uEXwLSl8Fx15aK+3j\n",
       "7HmVrCCu7wIu8lljsX0slv4HODsWIOveeT50ha2V0WRKcJNzWqDwdFMf8KlT3+JVUS5pgXg/M8hn\n",
       "fnaN5v2xWCwCb3do+EKaOmtvQiMjQirShd3KZ2GLbdZrs7pIRAuf4Q/bsYB7HBoni/wMuAQn+KgO\n",
       "9bwQyylhnOqnV8W6gH06fIJoKOR7TlVW/OTDDhv8qelmL2WhlBRm1T4RDgrCzXNzI62vd4LLnUn4\n",
       "UmYHgG0Odc9NfpSH1IMOcJU8/IsPWxwn56rkLZnZ2bCVTyYPiq90DLB4KcwRx53gWkExWlPyGNTn\n",
       "DvUhQSVytVd3uJ2x5ZUY2uDVzH4/M4Axb6iJb42dYod3ZSv5kcZNbRM86WnA2tSl8XtzRdRWVzlp\n",
       "sNpBOB+jVQ31ZkHaUpvtbIUxw81K21H+aW0qiOVQA/xIwTRwOUrBrYEZ6Z6grS6Lre85wFkeKcyv\n",
       "3SJQjXYFoOSrN8xsdPEzhOJrjFQ021m8CpmBugPcE78+hx6YkVa+w1KXhK8ZaaQUhHccaveMgQ1/\n",
       "DouausLK5N6zAc7GIiv9NNokKqKJA0xwkelaxAGehDJrFmKKtDwLS10RFaWE+qS54URa4tdfNsur\n",
       "2Y5ZEvlzma4OQpmD+gLoh3ofeO9wO3MtcTDELWw3MBCErd4l6kAYmnWasqVePeTTu1CrG71j2DIf\n",
       "r6LTderoDX00HOC7i9E7E4Z8i4qMuzk+fI5ca6n3cZPUytvTNuOy/alkXKWSJTnuOd/it4clkUld\n",
       "aX8M2a7pDOvqTEE2lgJe96/N27KAT6ZPWNnoxsLgrhiv7enq+WtK3nb+C1AG1yzAefvVAAAAAElF\n",
       "TkSuQmCC\n",
       "\" style=\"display:inline;vertical-align:middle;\" /></a><br>"
      ],
      "text/plain": [
       "<IPython.core.display.HTML object>"
      ]
     },
     "metadata": {},
     "output_type": "display_data"
    }
   ],
   "source": [
    "transitivity_subset_eq_subset = Forall((A, B, C), ProperSubset(A, C), conditions=[SubsetEq(A, B), ProperSubset(B, C)])"
   ]
  },
  {
   "cell_type": "code",
   "execution_count": 19,
   "metadata": {},
   "outputs": [
    {
     "data": {
      "text/html": [
       "<strong id=\"transitivity_subset_subset_eq\"><a class=\"ProveItLink\" href=\"proofs/transitivity_subset_subset_eq/thm_proof.ipynb\">transitivity_subset_subset_eq</a> (conjecture without proof):<br></strong> <a class=\"ProveItLink\" href=\"../__pv_it/theorems/ce9d5b4dabf026712f3ff4178df06170b0aa1f380/theorem_expr.ipynb\"><img src=\"data:image/png;base64,iVBORw0KGgoAAAANSUhEUgAAAPcAAAAXBAMAAAAl5sTiAAAAMFBMVEX///8AAAAAAAAAAAAAAAAA\n",
       "AAAAAAAAAAAAAAAAAAAAAAAAAAAAAAAAAAAAAAAAAAAv3aB7AAAAD3RSTlMAq1RmmUTNIjK7EInv\n",
       "3XZ/CtNrAAAACXBIWXMAAA7EAAAOxAGVKw4bAAADYklEQVRIx71WXUgUURT+nN1xdmd1UtqgHqKh\n",
       "egmChKQ3ayWLZAsXfJHsxx4ksEB9ttw1Igh8qF5so3AEicQEFaFyIUsKoqiWCvKhpa0IUSLKykzp\n",
       "5/7snbnsrqzF2oWZOffec+937jnfOXeA5WpajvkWLGN7y01oWGz+EHlKqLAh/9jKIPsUfsqc0qdK\n",
       "V2qDRhmwi3aP5h/8Kv9syQL+YRrKvjI0AR3UN+fyD76Tfyq/Z8z0TZBXTQvKiV8swGfmH/wOe/va\n",
       "5lL9qUQiMcGk4wQRB4AiCy7i+sJlCDknWrsxw/tnbogZHxs5TVAJ8uNE4lH+wd2cbwHlC+fYS3sm\n",
       "HKfva8QKwvU9wCU2ai22j83SvwCnxwJU07PAugUhe2YsmRJcxDmt0Fi66Q/Y0NmvseoIkwx/rJ8a\n",
       "5BXLrkeE5OkOjlyU1W9Fo12k9yY4Oso1ik1ut/aZ2+KY9VpUF4XQwmv5Qk4s4IrDYGRRnwGXIYOP\n",
       "kQ09Q9EoWV1BEkZS7+MHO2jCy4mGIjYyVVX5g3U7HPCnws0ekoVKkptV94Q7KAAXy83NZH6jDK52\n",
       "EocF+en9wA5JvYsf5SF5AhK4Thb8ZN1W6eRMlWyjUjsbtrPB5BG+ysQAjZdGHXFKBjcKS+ykHIf+\n",
       "3FHXOLvC1DOm5HbKlle864DXULf7qAGUecNNbGvs5ju8K1/NjhQX2gI86W5AT+rS+LW1MuKoKxxx\n",
       "rUQ4L6VVLXmaOWnLHLbTGcoMFy1tJxjf6lJBrIDuZ0cKpIGrERLcWohI9wQcdZVvfU8Cp3mkUb92\n",
       "c341OhWAJF+9JbKxgJ0hGFtnpaIZpvEqogaaErg7NjSP9RCR1r7BVteZ+aCkUUQ+xKF3z1rY9PsY\n",
       "r6mr7EzuPe9nbCy2088gm0R4NHGYCgVkQ6NFAk9Cm0MbRKTVOTjqw0wuJc+k2HAiLfHrr4jyKtpJ\n",
       "WyL+XGHqg9Dmob8A+qHfB95LbqeunYGXOzFsYSAAR919k9WBEAz7NOVLvXrI6rvQaxo949i2EKsm\n",
       "zu400Rv8aEnge0vQOxvSWWlxNcdGLhDX2uqop0VGr7o97TAu159KxlWq2JJ0z3llDV+UFZl09Sx/\n",
       "DLmu6Qzr9gtBtRYBz66erbXnAJ9MH7Cz0YWlgNvqa6K8tv//39B/b38AG3TW8PkhWOIAAAAASUVO\n",
       "RK5CYII=\n",
       "\" style=\"display:inline;vertical-align:middle;\" /></a><br>"
      ],
      "text/plain": [
       "<IPython.core.display.HTML object>"
      ]
     },
     "metadata": {},
     "output_type": "display_data"
    }
   ],
   "source": [
    "transitivity_subset_subset_eq = Forall((A, B, C), ProperSubset(A, C), conditions=[ProperSubset(A, B), SubsetEq(B, C)])"
   ]
  },
  {
   "cell_type": "code",
   "execution_count": 20,
   "metadata": {},
   "outputs": [
    {
     "data": {
      "text/html": [
       "<strong id=\"transitivity_subset_eq_subset_eq\"><a class=\"ProveItLink\" href=\"proofs/transitivity_subset_eq_subset_eq/thm_proof.ipynb\">transitivity_subset_eq_subset_eq</a> (established theorem):<br></strong> <a class=\"ProveItLink\" href=\"../__pv_it/theorems/29ae097d3d5fe900e9a6c007f7ce9c946c79b1cf0/theorem_expr.ipynb\"><img src=\"data:image/png;base64,iVBORw0KGgoAAAANSUhEUgAAAPcAAAAXBAMAAAAl5sTiAAAAMFBMVEX///8AAAAAAAAAAAAAAAAA\n",
       "AAAAAAAAAAAAAAAAAAAAAAAAAAAAAAAAAAAAAAAAAAAv3aB7AAAAD3RSTlMAq1RmmUTNIjK7EInv\n",
       "3XZ/CtNrAAAACXBIWXMAAA7EAAAOxAGVKw4bAAADa0lEQVRIx71WXUhUQRT+9ud6d+/qTWmDeogu\n",
       "1UsQJCS9WStZJFu44ItoP/YggQWuz5a7RgSBDxWEbRReQSIxwcSHciFLCqKolgryoaWtCFEi+jVT\n",
       "+jkzc//a0rVYuzB3zsw5d74z53xz5gKL9cg59FEs4vNSuNAwl34vtWImrMk/tnuAdwXvflcpEyVL\n",
       "5QG1FNjGhgfyD35RdBtM8Il0Oj0mxDeTcO8qRRPQzmJzMv/gW0VX8UX0x8ctTS/zoTqKMoqLDgS0\n",
       "/IPf4O9A67SI9FNbc4gQsRso1OGh0BcsQsoF0drUD7x3RSxNgM8cI1RCvp9O38s/uFfwLeT+KHhn\n",
       "a2Ip9r5EXhDXdwDn+Kw+1zoWS/8CnG0LkDTfLB+225qRjCF4KDgtkPlxU+7wqROfklVxLqnBZB9z\n",
       "yG9+dpnmA4lEIgpfV3jorNP8WiLRSaMX4eFhYVukCb/l93zYYoM/N6uLm2jh1wMROxfwpKByskiP\n",
       "gPNwgo9oUM4IsZwOjMO8V6R0jwa/IBoK+cxEZcVX4YsN/tAMs49OoTsjElL7QFAjBA8/m+tJv9YJ\n",
       "LnVk4DfcDgJbHOadYit3qYUc4ApF+JtIXam9c25K0ZKYnw2b+WRmv/hKQz+zlFkgjjrB1YJitBry\n",
       "KJTHtrks2BWjUPs0R9gZW56JcaMFXs38DzAHGPMGm/jS2C5WeFW2nG8pZVqb4BlvA1Ybl8b3jRVx\n",
       "29wtEFc6COdntKqh1izG3ctMPseYhjHDw0rbYc63WiOJ5VCCfEuhLHApTsmtgZnp7pBtLomg3nKA\n",
       "s3Mks7h2GYmqv2CUV3b46nXzNLr4HsLJVbqRzRjLVyFzUHOAe5NXZtANM9PyZ1jmCncfjDRuA9yX\n",
       "gtI1pWPdj4PZp7DnVJCzscgqPCotEhfZxD4muGhBNeoAz0CeNgsxZVqahm0+yOUSalYJH8tZCo5Y\n",
       "EsVziaYMQJ6B8gTog3IbeO0IOwstcTDMPYzp6A/BNvde5XUgAtXaTdlCrx76+iaU6kbfKDbNJqto\n",
       "dx0aesJvdQf4zmL0TEUgUTmJepqTQ6cptJY56lmRUSqvT9qM++VPxZtO21eqQdrsq9RtSY57zj/3\n",
       "7THPvpRc17Q/+z+qzhQkfSHgdfMt3pYDfDx7wqpDHvwZ3JXgtT3bfEVC1Pb//xv6789P2pjfHPcP\n",
       "a5UAAAAASUVORK5CYII=\n",
       "\" style=\"display:inline;vertical-align:middle;\" /></a><br>"
      ],
      "text/plain": [
       "<IPython.core.display.HTML object>"
      ]
     },
     "metadata": {},
     "output_type": "display_data"
    }
   ],
   "source": [
    "# Proven\n",
    "transitivity_subset_eq_subset_eq = Forall((A, B, C), SubsetEq(A, C), conditions=[SubsetEq(A, B), SubsetEq(B, C)])"
   ]
  },
  {
   "cell_type": "markdown",
   "metadata": {},
   "source": [
    "### Misc Identities."
   ]
  },
  {
   "cell_type": "code",
   "execution_count": 21,
   "metadata": {},
   "outputs": [
    {
     "data": {
      "text/html": [
       "<strong id=\"inclusive_universal_quantification\"><a class=\"ProveItLink\" href=\"proofs/inclusive_universal_quantification/thm_proof.ipynb\">inclusive_universal_quantification</a> (conjecture without proof):<br></strong> <a class=\"ProveItLink\" href=\"../__pv_it/theorems/b9231893f09eef4a846e8d2e4dc516483c890e4c0/theorem_expr.ipynb\"><img src=\"data:image/png;base64,iVBORw0KGgoAAAANSUhEUgAAAY4AAAAXBAMAAADuNLVwAAAAMFBMVEX///8AAAAAAAAAAAAAAAAA\n",
       "AAAAAAAAAAAAAAAAAAAAAAAAAAAAAAAAAAAAAAAAAAAv3aB7AAAAD3RSTlMAq1RmmUTNIjK7EInv\n",
       "3XZ/CtNrAAAACXBIWXMAAA7EAAAOxAGVKw4bAAAExklEQVRYw9VXXWgcVRT+9mcyu7PtZoN90BZ0\n",
       "oEUQW1w0Vgq2XUnVxlANCFKL6GoRoT50fREq1ayPUiVR0GZVkhGkULVlrYkvi2WNBILFsqiRPBjZ\n",
       "tBGt2GTVSPoD1XP/Zu/szq67rD54IDlnZ775zv3uPffMHaBzyyA+n20NarqP+D7TLg9zF+dc1s4s\n",
       "biM22CL2nPSP05/PQ+3yGGX6N8ldgv3e2ImOW1n+ZjTx8cs9bz3AomBeXUo20NEmz3mug7l72c9n\n",
       "OpBhpVn+pjTdBHnXoeCYe+lAAx1t8nQ5XAe5l1mZjXSgI8yntinNMK37bawE+txLvQ10tMkTSnEd\n",
       "5JiimN2BjjU8f1OaZdq9y6wUitWnHF3H266Odnm+5DrIhWg6uzrZHjfz/E1pxtkfjSGYdi91JXUd\n",
       "r7g62uXZL3SQ+2p+/kwnOgZEn2lGcxmIXGMlSHNpLa0/coqeSOg6Qnm3X7XKc7IPFjWFj4UOcrvV\n",
       "sjoNnk6pwB+wX+TfXa2OWjzlNj+zxSIgjIXyHhp5WugIz3NbcXX48MCPJ78ZoQqwVegg9xxM3uys\n",
       "GbHEK4V+/jJ6dGWiJ8MCtesIEMnlcnkdRPa1yK9otEY2o/rlb4VP+NyvpUHchZ3OdVQaRc8+Dz6l\n",
       "dNTyRMYHJkbreSL2HgRoZJuFDnJRRxDGfhdLXEK8KINYSdchAbc4GohsWuRXNCz1Qm6wiqcMFbW5\n",
       "6XIW93FMxduvjk2jAc924Nd6HgtnsYZa17DQQS5YFvtq71nuAim+XjyIV3QdEhBJaKCqDkVDtiur\n",
       "40Xbd3UA/LLhXQ/z2Qwa8KwDdvrwGFcwTPcfEzrIIb2D3yw/KTA2TiRlsDah65AArNdA1boSNEv3\n",
       "L2biSS8ew+rty+oKxio+oNkrefbHdxn3XMJ4jAUEIHmmYH3jwxNO82XaInSQw6kDvPjEemPofO/1\n",
       "InDMddB0KADu1EBkYzI/o4lnbuiyj9fgsawmPlqG9WagCBpPaERfD2Oker5iPCe7nVcheMxrd9yT\n",
       "redBNIHXKdwmdJDDYT7re2UVboclhn/30jlH16EA+FkDiZbH8zOaEMYieLgGj4Pu6zqB4KX3i4bN\n",
       "W6em43ntnMh4XtiCC5KHtuJ7qXoehBPGH6LrT8rmH+ByBwo3ObIch3iCHvWU1KEA7LcLIntN5hc0\n",
       "q9QDqanZGr7/rzG1cUuwHixvup2VxqCuY1TTwXk24EbJQ1vR/LOeB9aGRcqFWaFj1j1L0siyohzx\n",
       "BA++8OpwAaGyBmIjympHpUjRxBEvXrc5N3rRc77K1J7bZzEjeWgrGpd8eWK07c0S12GW1B1axG7b\n",
       "ysO8AutbsGDVq4MD2Eh3QYK0o5rKfziWDlPn1PEe63WjvubfH3NGRfIMOTiR8uH5FB/Z4pA6KZw4\n",
       "tH4O66GnI1PYerXQT2+ZKVy46ug6JCCXe4cmWYCUHa3mD/94+heYoy6+Nn9UTTw70jbTsWlbWvCE\n",
       "DhYm3oAPzw9Ue8Ah8f1xqOZ+sC7Q+m4jO147pA9zuQbfddaIJqiJDisTTf4Dz8bFQTGHTMfRmvv7\n",
       "6oIWdJhlxFr9rn5J+p9oA33vo0PyBMqPtMQTp+m4OM2dx5J1gVcHO1/lUvjPzdiR//dJM/gf2N/+\n",
       "Z5MRzr0kLgAAAABJRU5ErkJggg==\n",
       "\" style=\"display:inline;vertical-align:middle;\" /></a><br>"
      ],
      "text/plain": [
       "<IPython.core.display.HTML object>"
      ]
     },
     "metadata": {},
     "output_type": "display_data"
    }
   ],
   "source": [
    "inclusive_universal_quantification = Forall(\n",
    "    (A, B, P), Implies(Forall(x, Px, domain=A),\n",
    "                       Forall(y, Py, domain=B)),\n",
    "    condition = superset_eq(A, B))"
   ]
  },
  {
   "cell_type": "code",
   "execution_count": 22,
   "metadata": {},
   "outputs": [
    {
     "data": {
      "text/html": [
       "<strong id=\"inclusive_existential_quantification\"><a class=\"ProveItLink\" href=\"proofs/inclusive_existential_quantification/thm_proof.ipynb\">inclusive_existential_quantification</a> (conjecture without proof):<br></strong> <a class=\"ProveItLink\" href=\"../__pv_it/theorems/581f289623c43f813c5bbacbef60d87515ff0db40/theorem_expr.ipynb\"><img src=\"data:image/png;base64,iVBORw0KGgoAAAANSUhEUgAAAY4AAAAXBAMAAADuNLVwAAAAMFBMVEX///8AAAAAAAAAAAAAAAAA\n",
       "AAAAAAAAAAAAAAAAAAAAAAAAAAAAAAAAAAAAAAAAAAAv3aB7AAAAD3RSTlMAq1RmmUTNIjK7EInv\n",
       "3XZ/CtNrAAAACXBIWXMAAA7EAAAOxAGVKw4bAAAEvklEQVRYw9VXbWhbVRh+8nF7k5stTXE/nAO9\n",
       "sOEfNxa0TAZui9SvWqYBQeYHGjdEmD8W/wiTaeNPmdIqaBuR9goyqLoRaytKUGKlMBRHmFb6Y5F0\n",
       "q8jEdVEr3QdM3/Nxb87NvWlSoz98IX3f3vuc5z3P+XjPuUDnlkW8kmsPqjtNfNuslYe5C/MOa2cW\n",
       "NxFLt4k9K/0T9PNptFYerUp/prlLsP83d6LjFpY/XKlUzjTpRXz8cs9b97MoWLAfJZvoWCPPOa6D\n",
       "ubvZv890IMPI2F2iifG3boK8Y1FwzHl0cJX5WANPl8V1kHuZLbPhDnSEky3zD9G8b2dLoM951PtP\n",
       "dHh5QimugxxTFDM70LGudf6LtHsvsqVQqreyVB1vt6fDh+drroNciIazq5PtcXPr/OPsR30IZpxH\n",
       "XUlVxyvt6fDhOSB0kPu2UvmmEx0DrfNfBiLX2BKksTSWbjg6SS0Sqo5QoS0dKs+JPhhUoz4SOsjd\n",
       "Z0+r1aR1yg78AQea5rfxlFv/3BSTgDAWqnup5xnRiNUnsuV2dLh4ClsRqgE7hA5yz0Hntdc4KaZ4\n",
       "udjPD6NHlqd6siywiwAHfJbPjyggstM8f5DVS3d+SUj9+q34Me/gegLcjj3WdbQ0Sq59HtwvdXh4\n",
       "IuMDU6Nenoi5FwHq2Vahg1zUEoSx38UUlxEvySBWVnUwwETaDSKb9YxjZCGfrhNShpq9uelxDvdw\n",
       "TM1dr47NognPLuBXL4+BU1hHpWtI6CAXrIptvu8Ud4EUny8exGuqDgYYgRvkq+OunEooyr6jA+CP\n",
       "Nfd86M9m0YRnA7DHh0e7giF6/7jQQQ6Z3fxl9SmBMXE8KYP1CVUHAXS5Hx2Qs65k/qV7F7PxJFRC\n",
       "Giz79GXrCtoK3qfRK7v2xw9Z1/7QFhCA5JmB8Z0PTzjDp2mb0EEOkwd5YzHfGDzXe70ILH0DFB0M\n",
       "EJQj5YDIxpT88ezGLnOijpdl3x74aBXGm4ESqD+hYXU+tGH3Pj/Rbb0KwaNfu+3OnJcH0QRep3Cn\n",
       "0EEOR/io75OrcBcM0f07ls5aqg4G0ORQOyBR8pz8IYxF8FAdL+yQc1wnELz0XkkzeelUdDzfcH68\n",
       "sA3nJQ9txXdTXh6EE9ofoupPy+If4HIHijdZcjkOcrYeu5XUwQBGQsQOiOw11/1uhWpgPp8364To\n",
       "/2vMrj1lGA9Ut9zKlkZa1THaeE/chBslD21F/U8vD4xNi5QLc0LHnHOXpJ7lxHLEkzz4yq1DACYB\n",
       "F4j1KKdclSIlHUfdhKrNO9GLrvtVtvHePoeTkoe2onbJlydG214vcx162X5Dk9htGgXoV2B8Dxas\n",
       "uHVwAMKf8jXLQcpVzc5/JJYJUyGv4xus14n6Vv/+mNdqkmfQwvGUD88n+NAUl9Rp4cSl9UsYDz4d\n",
       "mcGOq8V+OmVmcP6qpeoQAOAxdg4KkG0j9fzhn774Bfqogndb1B54dsNeTceWnRnBEzpUnHoDPjw/\n",
       "0toDDovvj8MN74OeQKm7zWyisUsf5PNNvoSMYUXQKjqMbDTZgmfzYlqMIdMx0vD+UU/Qhg69ili7\n",
       "39UvSf8zbSCfzz6bJ1B9uC2eOA3HhVnuXJb0BA06Nub5/eq/Nm134d8nzeJ/YH8DdImUV7H/Ex0A\n",
       "AAAASUVORK5CYII=\n",
       "\" style=\"display:inline;vertical-align:middle;\" /></a><br>"
      ],
      "text/plain": [
       "<IPython.core.display.HTML object>"
      ]
     },
     "metadata": {},
     "output_type": "display_data"
    }
   ],
   "source": [
    "inclusive_existential_quantification = Forall(\n",
    "    (A, B, P), Implies(Exists(x, Px, domain=A), \n",
    "                       Exists(y, Py, domain=B)),\n",
    "    condition = SubsetEq(A, B))"
   ]
  },
  {
   "cell_type": "markdown",
   "metadata": {},
   "source": [
    "### Theorems establishing containment claims as being Boolean (i.e. T or F)."
   ]
  },
  {
   "cell_type": "code",
   "execution_count": 23,
   "metadata": {},
   "outputs": [
    {
     "data": {
      "text/html": [
       "<strong id=\"subset_eq_is_bool\"><a class=\"ProveItLink\" href=\"proofs/subset_eq_is_bool/thm_proof.ipynb\">subset_eq_is_bool</a> (conjecture without proof):<br></strong> <a class=\"ProveItLink\" href=\"../__pv_it/theorems/10dd5282ff60d925b1bada11bd2f85b7db9844b80/theorem_expr.ipynb\"><img src=\"data:image/png;base64,iVBORw0KGgoAAAANSUhEUgAAALcAAAAWBAMAAABwABDnAAAAMFBMVEX///8AAAAAAAAAAAAAAAAA\n",
       "AAAAAAAAAAAAAAAAAAAAAAAAAAAAAAAAAAAAAAAAAAAv3aB7AAAAD3RSTlMAq1RmmUTNIjK7EInv\n",
       "3XZ/CtNrAAAACXBIWXMAAA7EAAAOxAGVKw4bAAAC/klEQVQ4y61VTUhUURT+ZsZRZ54zJmQkLWYg\n",
       "aJPVLExoUQ70Q+IiqY1olCESDUMpgRAYjpugRcwsIiswn0sXxdgmwkUmFP1gSZgV9GDChfSnFqX9\n",
       "QHbuufe9efPmp00HDu/ec8/97jnnfvc8oKT0KC0hFSW2lpRgWCpJXzEfb8ax5+2Vlela4BiN1wnD\n",
       "5iIbtyolOZO36Bn5UrPhKjDvsPu8mb7RVgQjwH4xP1kY298plcS9pmzvDcN4LYdVKSCUQLnuBI9o\n",
       "PbQUAwZF2VKFwcsiUsUwJGt4YSG7PEAFOR6FJ5oH7glTQRrA52rhwuBVSknu3EtwLq9sy01kaqID\n",
       "nqhiDxtzFjjlW6XDQ5GVFyn5FqWUW2aJA3C12pZDpHFKqEte7Gnditx1Nk2ohDxtGE+LgLcopapg\n",
       "B5cnJ4zHwKgo/7ikk26V5cPnTfTVqDQHgets1PPAu2CGdRjJtPgO2lYrfy6+49VG5JDC5517Pktg\n",
       "HipNLyqYjv5HvHTx20RzQrm9UApEMcBOvXZCrwL1Ip96nnbaLjS4k6jinqSxrnEhta+SvTMITiq3\n",
       "B0oRvLwvxIwK2FlBbtoPGiQ5Dyqv8UaBI9VBlmU6ICML2faMPy7i1rIT/BZQPWOS05RqysXzhwZH\n",
       "OfGULXKkfHTDIsbOPWzLnJD0C+NmxFkWYnJAptOdBU+Sm+s7DbbxdCYHnAJ2C8vtGGeOA/JlzDds\n",
       "NN1uKPUKusp0Rmute18iFiZFpXfxdDEHfDtlJXLp56tqwyde2g3/etNtXGm/2LIqbR3D5vOP06kP\n",
       "dYut5WELPK19pFzLBL9cTI6WiRDHRMgD5ku5JHVsLQb3yEo6l6d1azU1pxjwpWxEde2SRPFr3BUR\n",
       "sB5ckDD5kCnqFyYVAwmp/2joqtreu/L5m3LeGh2h2w/706j4Bf+s1VSjyGtLhdtbIdlrOdyH/1B3\n",
       "5RQaf080Z9vYkNIskGFkW66Sc0UScrZat2M+prSkDBU2+5z/uXbn6RmpJX+FRX6WC05DBP9V/gIj\n",
       "zrq0eMe46AAAAABJRU5ErkJggg==\n",
       "\" style=\"display:inline;vertical-align:middle;\" /></a><br>"
      ],
      "text/plain": [
       "<IPython.core.display.HTML object>"
      ]
     },
     "metadata": {},
     "output_type": "display_data"
    }
   ],
   "source": [
    "subset_eq_is_bool = Forall((A, B), in_bool(SubsetEq(A, B)))"
   ]
  },
  {
   "cell_type": "code",
   "execution_count": 24,
   "metadata": {},
   "outputs": [
    {
     "data": {
      "text/html": [
       "<strong id=\"not_subset_eq_is_bool\"><a class=\"ProveItLink\" href=\"proofs/not_subset_eq_is_bool/thm_proof.ipynb\">not_subset_eq_is_bool</a> (conjecture without proof):<br></strong> <a class=\"ProveItLink\" href=\"../__pv_it/theorems/049096878bab5f67b90b72e541e9fa7e078790da0/theorem_expr.ipynb\"><img src=\"data:image/png;base64,iVBORw0KGgoAAAANSUhEUgAAALcAAAAYBAMAAABKCnGXAAAAMFBMVEX///8AAAAAAAAAAAAAAAAA\n",
       "AAAAAAAAAAAAAAAAAAAAAAAAAAAAAAAAAAAAAAAAAAAv3aB7AAAAD3RSTlMAq1RmmUTNIjK7EInv\n",
       "3XZ/CtNrAAAACXBIWXMAAA7EAAAOxAGVKw4bAAADLElEQVRIx7VVTUhUURT+Zp7jOO85Y4JF0mIG\n",
       "gjZZzcKEiFLoh8RFQ23EIg2JaLBSAiEw1E3QIuYtoj8onxvBRTG6iXCRCUU/WBJqGT6acCH9qUVp\n",
       "P5Cd+/PeOG/eGEId+Hj3nnved88599xzgZVLAf6NNEtkSDBj5l/m12UlFBEgaU1rd2bY+FKOfyYv\n",
       "zw+vBo7QeBVTrM9BvlGC5HRa+1p8lK7PxWuuAlOOnwK+VGt3DKEosIfNj7tzqw0CJN5FqXtnTg6/\n",
       "EsNCHQh3IN9wkke1ZlqKA50sbbo7eV5UgA3DIofnp+HpkMvtlJD6KihVWeRKhBJSDr6vFnEnL5Qg\n",
       "uXOPU6ovgR5ruZJUlbTBE5nsG+a4TU7xFhpQyLP8HCnfIEGxpWa5A54Y0G8thwlNFFCjONhThu25\n",
       "50ySWIl52DSf5iCvkaCsYAtPD3NjxFp+DHSz9PeJcjLstLz/tI6+GqVmH3CdK40s8kZYbh1AIsm+\n",
       "dEJK0rpLP2be8tUKZBRFwDf+fJTIFEpNC/y8HNVHfOnC14Fq68ReSABVaOdGLUgXR2gBKGPxlPFp\n",
       "w5IDDW2lUvEO0tjQYkynfRHVO4LQoDR7IIHQpd1hXV7OTpuEzLTvNEjwOCi95oQkh36INHO0QUqc\n",
       "Z+0z/vFQbc05yW8DRTzVeRGstciLKBblNw0O88D1JZ5DD9AJMx8bxHVOHRXlF8GtqDMtVMlBHo46\n",
       "ptrhJ8jM840Gm/h0JIOcHPYyTX+cR4694mZMldu+3ZTwsXIV4fSUWDtjlqowwbbaxqczGeSbKSoW\n",
       "Sxs/qlp85Es7oJZYZn0SbeyXBaGrP2ma4vo30a4PDbta8yM2eVL7QLHmsbIS17lmIMzLgJjbY9Ls\n",
       "okDvYhzervmk3cu4lC4WF5/ghGOiEZXWiSJqusa7IoIxu1ESJ99kiJyzSjHYIbBUsnucX2bbd1dc\n",
       "f0vO2aODdPoRNQn/T6ijlpK1JEdbKtBd25ub7LIN7kPdf6xgCBW/BqrTbeyKRJroDVWzzLklZ925\n",
       "s1qt1zHvlcj1xNkeuEjA+c7VOXdPCaRle/ZTmOOxnHYqon99seP4j9K8EuM/ceDC9XKe5UgAAAAA\n",
       "SUVORK5CYII=\n",
       "\" style=\"display:inline;vertical-align:middle;\" /></a><br>"
      ],
      "text/plain": [
       "<IPython.core.display.HTML object>"
      ]
     },
     "metadata": {},
     "output_type": "display_data"
    }
   ],
   "source": [
    "not_subset_eq_is_bool = Forall((A, B), in_bool(NotSubsetEq(A, B)))"
   ]
  },
  {
   "cell_type": "code",
   "execution_count": 25,
   "metadata": {},
   "outputs": [
    {
     "data": {
      "text/html": [
       "<strong id=\"proper_subset_is_bool\"><a class=\"ProveItLink\" href=\"proofs/proper_subset_is_bool/thm_proof.ipynb\">proper_subset_is_bool</a> (conjecture without proof):<br></strong> <a class=\"ProveItLink\" href=\"../__pv_it/theorems/c2d67a764fa2a98bd7efec4e38ac50fa310a9b3c0/theorem_expr.ipynb\"><img src=\"data:image/png;base64,iVBORw0KGgoAAAANSUhEUgAAALcAAAAWBAMAAABwABDnAAAAMFBMVEX///8AAAAAAAAAAAAAAAAA\n",
       "AAAAAAAAAAAAAAAAAAAAAAAAAAAAAAAAAAAAAAAAAAAv3aB7AAAAD3RSTlMAq1RmmUTNIjK7EInv\n",
       "3XZ/CtNrAAAACXBIWXMAAA7EAAAOxAGVKw4bAAAC+UlEQVQ4y61VTWgTURCeZJum2W22FqxYPCQg\n",
       "eLFqDrXgQRvwB0sPFr2UVjRSihiCtggFoZL0IniQ5CD+Qe32mIOSeinSg7Wg+EO1SK0KLqz0IP61\n",
       "UbT1B4zz5r3dbDfZPTkw7LyZt9+bmfftLICnDAj1kKDHq56iRrmiDLntCRiOd95eWZltAjiG9jrm\n",
       "2Ozy4lahKGcqgtLY18YN1wAWHf5QwBga7wI1BrCfrU9Wx5YTXFH8pcpwfQ4gkoFazQkeUwYwlAQY\n",
       "YW3LVQeviXFlZqSyh2lsyPE4SPEKcCmKDWkFOleJVgevF4oyeS/DjQ+6rr/mZju62vGAJ6LZo/qC\n",
       "BY711msgYWa1Li3fIhRrM5Z5Ahcmy+EIagoL6uMXe1qzMvedLSAqIs/q+lMX8E6h2BXYQe2RX9nC\n",
       "jwHGWRETnE6a1ZaPXzbhU8HWHAS4QU6tArwPzLQOQ7bAnr6ucrTu19I7irbBGlKEAgvP5xFMwtYM\n",
       "QpDoKD+i0MXvUx2ivfBCKEAc0rTJ3kB1FaCF1dNCy4TtQtWdSBX/NNqaQuko3zh750CdFtseCAX1\n",
       "8r4IMWrEzgrcpvxEI0t1YHv1NwIccr3oKeIBBk+n+xk9fMitohP8NkDDHDMGbeANWIv0F42jVHjO\n",
       "ljnkQnjDLMfEHvIZJzj9onAr5mwLMjlM5YRt4Fnc5vuBxjZazq0Bx4T9zHMnSZXDAf5lLLZuNLfd\n",
       "FBpgdC2an5Upy8jCLOv0LlourQHfjlWxWobpqrrhM4V2g7ze3DYhdJi9skqu/jJ4Ck99qFlsrY1a\n",
       "4AXlE9Zaw/jlI3J0TkWIi4icNvl2iWu+lAT/2ApxMd9kMra51Nh4igBf8kHU3MNJlLpOUxHCFm1V\n",
       "xKRDZnBemFQMZ7japXfU+vzNgS66HbjLP39TzlvWEbz9qFyA4G+Q562hGoeKsVR9vFWTvdaG+yAf\n",
       "6q+bgbY/Ux3lMXZVqKecc/lDOUet37HOC/UUl9NDzhnd4zzd4Or5K3T5Wb53OmLwX+Uf4Ki1X4Oo\n",
       "4coAAAAASUVORK5CYII=\n",
       "\" style=\"display:inline;vertical-align:middle;\" /></a><br>"
      ],
      "text/plain": [
       "<IPython.core.display.HTML object>"
      ]
     },
     "metadata": {},
     "output_type": "display_data"
    }
   ],
   "source": [
    "proper_subset_is_bool = Forall((A, B), in_bool(ProperSubset(A, B)))"
   ]
  },
  {
   "cell_type": "code",
   "execution_count": 26,
   "metadata": {},
   "outputs": [
    {
     "data": {
      "text/html": [
       "<strong id=\"not_proper_subset_is_bool\"><a class=\"ProveItLink\" href=\"proofs/not_proper_subset_is_bool/thm_proof.ipynb\">not_proper_subset_is_bool</a> (conjecture without proof):<br></strong> <a class=\"ProveItLink\" href=\"../__pv_it/theorems/74d56e36dfe1b316b5640dc2180744091b355abd0/theorem_expr.ipynb\"><img src=\"data:image/png;base64,iVBORw0KGgoAAAANSUhEUgAAALcAAAAWCAMAAAC18P3mAAAAPFBMVEX///8AAAAAAAAAAAAAAAAA\n",
       "AAAAAAAAAAAAAAAAAAAAAAAAAAAAAAAAAAAAAAAAAAAAAAAAAAAAAAAAAAAo1xBWAAAAE3RSTlMA\n",
       "q1RmmUTNIjK7EInv3Xb341Cp3V2mrwAAAAlwSFlzAAAOxAAADsQBlSsOGwAAAuBJREFUSMe9V9mW\n",
       "pSAMlC3s9Ezz//86rBoQr3r69PDQaa8FVJIiwW37wZCT/eEyvwM/j0BHW1eFJZab63VEuNnHOw0R\n",
       "nCfigJP9NWXvaFM72jogrrBKD49Mx0jSAK0KsbuddSYrwVTiBc7FvuO7BBgYbXMiLnlXfmi46giJ\n",
       "5QWYW96Jq5VbnZXhqgdc6nfh5my07YnEhfuKzBqNVRsi8hJ//oQ3o00dBd59tfQdbzfZuoi0cQxt\n",
       "0N77rz/eDz+zhmKNvzPnSR7OvNtPGc5avOClumG0NYxhCxH7ryAldxNzuJM+2qauZgdw0gQEs4o3\n",
       "kawdpQJ32Tfv7EuZ2NHWhyxwRMF4uT45Vd6G9CxYgiuSWZ1LEzzpexU4L3M1ApsHvHuEcKRECrWK\n",
       "yJFWuE7hVlGHEMgxl6GsLepD4u3BRd+raYFL0v902k7hCha5tfxUEDwdbQt3OnFoJbggEurhpa4T\n",
       "p26etNBJYKKlosJzqK1Ah2uQKPNlJzdnWoy2nCbOUz3RUxkR52KhXd9J9QQck6pu09AT72wsgtMw\n",
       "OCmUww2M1EoVb3mbOiv6Q6nkIu89J72cbOIIi9FX8c7VW2M4bAwxDRtgQTpaDhi71UkLq0eZyS7Q\n",
       "c7hVP7skNq+pHydd8gYMtxQd4eQBh6FDMMaJOi0VRltXnhp97kmLXtjknfjD3vjR23DNmwYMl44g\n",
       "lYxiLvI25BS0Xrm6lX2Oxg0TxCLcqWq3bO8+DdUU6IJ3Athg+QhH4UzFw5JoJnnLKOZce2xNuigV\n",
       "EjT/Y5FY3d853mS/VB38PF7eEC3wpABO6+M+OMO7SjJLNco73SNOQuktw6uPbfXb6lodPsHkpGlR\n",
       "JsFT+C7SXAiNrS6YcizP2e53oc93InjSw6a72Xs4L0I3PIJIdZTmxhRt7jqrO5eWo10N9uj28PIq\n",
       "ege/uSD2Qms+LOMfhVu/u/nfwMXdnjKMdvWd8+h77x3tO/jLz7b/O/4B3SYX202MuYYAAAAASUVO\n",
       "RK5CYII=\n",
       "\" style=\"display:inline;vertical-align:middle;\" /></a><br>"
      ],
      "text/plain": [
       "<IPython.core.display.HTML object>"
      ]
     },
     "metadata": {},
     "output_type": "display_data"
    }
   ],
   "source": [
    "not_proper_subset_is_bool = Forall((A, B), in_bool(NotProperSubset(A, B)))"
   ]
  },
  {
   "cell_type": "code",
   "execution_count": 27,
   "metadata": {},
   "outputs": [
    {
     "name": "stdout",
     "output_type": "stream",
     "text": [
      "These theorems may now be imported from the theory package: proveit.logic.sets.inclusion\n"
     ]
    }
   ],
   "source": [
    "%end theorems"
   ]
  },
  {
   "cell_type": "code",
   "execution_count": null,
   "metadata": {},
   "outputs": [],
   "source": []
  }
 ],
 "metadata": {
  "kernelspec": {
   "display_name": "Python 3",
   "language": "python",
   "name": "python3"
  }
 },
 "nbformat": 4,
 "nbformat_minor": 0
}