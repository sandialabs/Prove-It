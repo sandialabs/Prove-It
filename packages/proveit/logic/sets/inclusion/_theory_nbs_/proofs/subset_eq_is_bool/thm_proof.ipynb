{
 "cells": [
  {
   "cell_type": "markdown",
   "metadata": {},
   "source": [
    "Proof of <a class=\"ProveItLink\" href=\"../../../../../../_theory_nbs_/theory.ipynb\">proveit</a>.<a class=\"ProveItLink\" href=\"../../../../../_theory_nbs_/theory.ipynb\">logic</a>.<a class=\"ProveItLink\" href=\"../../../../_theory_nbs_/theory.ipynb\">sets</a>.<a class=\"ProveItLink\" href=\"../../theory.ipynb\">inclusion</a>.<a class=\"ProveItLink\" href=\"../../theorems.ipynb#subset_eq_is_bool\">subset_eq_is_bool</a> theorem\n",
    "========"
   ]
  },
  {
   "cell_type": "code",
   "execution_count": 1,
   "metadata": {},
   "outputs": [],
   "source": [
    "import proveit\n",
    "from proveit import ExprTuple, IndexedVar, Function, Variable\n",
    "from proveit import a, k, l, n, x, y, z, A, B, P, Q, Px, Qx\n",
    "# from proveit.logic import iter_q1k_x_iter1l, x_iter1l\n",
    "from proveit.numbers import zero, one, two, Natural, NaturalPos\n",
    "from proveit.logic import And, Equals, Forall, InSet, TRUE, FALSE, Or, Boolean\n",
    "from proveit.core_expr_types import x_1_to_n\n",
    "from proveit.logic.sets.inclusion  import subset_eq_def\n",
    "from proveit.logic.booleans.quantification.universality  import forall_in_bool\n",
    "theory = proveit.Theory() # the theorem's theory"
   ]
  },
  {
   "cell_type": "code",
   "execution_count": 2,
   "metadata": {},
   "outputs": [
    {
     "data": {
      "text/html": [
       "With these <a href=\"allowed_presumptions.txt\">allowed</a>/<a href=\"disallowed_presumptions.txt\">disallowed</a> theorem/theory presumptions (e.g., to avoid circular dependencies), we begin our proof of<br><strong id=\"subset_eq_is_bool\">subset_eq_is_bool:</strong> <a class=\"ProveItLink\" href=\"../../../__pv_it/theorems/70c62906dbdb3ed409ad87564540c480b4626bd10/expr.ipynb\"><img src=\"data:image/png;base64,iVBORw0KGgoAAAANSUhEUgAAALcAAAAWBAMAAABwABDnAAAAMFBMVEX///8AAAAAAAAAAAAAAAAA\n",
       "AAAAAAAAAAAAAAAAAAAAAAAAAAAAAAAAAAAAAAAAAAAv3aB7AAAAD3RSTlMAq1RmmUTNIjK7EInv\n",
       "3XZ/CtNrAAAACXBIWXMAAA7EAAAOxAGVKw4bAAAC/klEQVQ4y61VTUhUURT+ZsZRZ54zJmQkLWYg\n",
       "aJPVLExoUQ70Q+IiqY1olCESDUMpgRAYjpugRcwsIiswn0sXxdgmwkUmFP1gSZgV9GDChfSnFqX9\n",
       "QHbuufe9efPmp00HDu/ec8/97jnnfvc8oKT0KC0hFSW2lpRgWCpJXzEfb8ax5+2Vlela4BiN1wnD\n",
       "5iIbtyolOZO36Bn5UrPhKjDvsPu8mb7RVgQjwH4xP1kY298plcS9pmzvDcN4LYdVKSCUQLnuBI9o\n",
       "PbQUAwZF2VKFwcsiUsUwJGt4YSG7PEAFOR6FJ5oH7glTQRrA52rhwuBVSknu3EtwLq9sy01kaqID\n",
       "nqhiDxtzFjjlW6XDQ5GVFyn5FqWUW2aJA3C12pZDpHFKqEte7Gnditx1Nk2ohDxtGE+LgLcopapg\n",
       "B5cnJ4zHwKgo/7ikk26V5cPnTfTVqDQHgets1PPAu2CGdRjJtPgO2lYrfy6+49VG5JDC5517Pktg\n",
       "HipNLyqYjv5HvHTx20RzQrm9UApEMcBOvXZCrwL1Ip96nnbaLjS4k6jinqSxrnEhta+SvTMITiq3\n",
       "B0oRvLwvxIwK2FlBbtoPGiQ5Dyqv8UaBI9VBlmU6ICML2faMPy7i1rIT/BZQPWOS05RqysXzhwZH\n",
       "OfGULXKkfHTDIsbOPWzLnJD0C+NmxFkWYnJAptOdBU+Sm+s7DbbxdCYHnAJ2C8vtGGeOA/JlzDds\n",
       "NN1uKPUKusp0Rmute18iFiZFpXfxdDEHfDtlJXLp56tqwyde2g3/etNtXGm/2LIqbR3D5vOP06kP\n",
       "dYut5WELPK19pFzLBL9cTI6WiRDHRMgD5ku5JHVsLQb3yEo6l6d1azU1pxjwpWxEde2SRPFr3BUR\n",
       "sB5ckDD5kCnqFyYVAwmp/2joqtreu/L5m3LeGh2h2w/706j4Bf+s1VSjyGtLhdtbIdlrOdyH/1B3\n",
       "5RQaf080Z9vYkNIskGFkW66Sc0UScrZat2M+prSkDBU2+5z/uXbn6RmpJX+FRX6WC05DBP9V/gIj\n",
       "zrq0eMe46AAAAABJRU5ErkJggg==\n",
       "\" style=\"display:inline;vertical-align:middle;\" /></a><br>(see <a class=\"ProveItLink\" href=\"../../../__pv_it/theorems/10dd5282ff60d925b1bada11bd2f85b7db9844b80/dependencies.ipynb\">dependencies</a>)<br>"
      ],
      "text/plain": [
       "<IPython.core.display.HTML object>"
      ]
     },
     "metadata": {},
     "output_type": "display_data"
    }
   ],
   "source": [
    "%proving subset_eq_is_bool"
   ]
  },
  {
   "cell_type": "code",
   "execution_count": 3,
   "metadata": {},
   "outputs": [
    {
     "data": {
      "text/html": [
       "<span style=\"font-size:20px;\"> <a class=\"ProveItLink\" href=\"../../axioms.ipynb#subset_eq_def\" style=\"text-decoration: none\">&nbsp;&#x22A2;&nbsp;&nbsp;</a><a class=\"ProveItLink\" href=\"../../../__pv_it/axioms/0a73f44893619de306ad70c8de110c34b161d8b90/expr.ipynb\"><img src=\"data:image/png;base64,iVBORw0KGgoAAAANSUhEUgAAATUAAAAWBAMAAABTfhYbAAAAMFBMVEX///8AAAAAAAAAAAAAAAAA\n",
       "AAAAAAAAAAAAAAAAAAAAAAAAAAAAAAAAAAAAAAAAAAAv3aB7AAAAD3RSTlMAq1RmmUTNIjK7EInv\n",
       "3XZ/CtNrAAAACXBIWXMAAA7EAAAOxAGVKw4bAAAERElEQVRIx81XXWgUSRCu/d+dzU426In6sgEP\n",
       "X/xbNCg+nAno+YM/F04QUdHVI4hBMHkRAmrWF0GMZpELGuHODYiQ45REiHIEcQ0o3omyiKIPLkxO\n",
       "ISgaf1ATFYzV1d2zO9MzE3yzobZmqnu+/rqqu7oWwLO1CPFoEdX08tE3f2KdEgEmmRVAr+WCbb/b\n",
       "mJChmAYmgf3fq3M7R2AqyR5nuYybIwTbPqUzcPZNzbTTAE9Ubj7260+7oPr7HM0CT08TN6Z+Zubd\n",
       "ziBahgvDmxC2Z6VSSYSsKgeQykI4r3ALNuJv2C0s513sAq+Zex7VYRb/nPPgYJoLe0zxmY6MlLvb\n",
       "MZo7GiDQoHCLsmi0uUVtuYtd4NVxbqjYquO1LgsRgu3KtSx58mFFdz2a6hHvP3W/sbVfcuNWsLxh\n",
       "IDIWvKo8cUMVQL+EXUBmC0HPGq+Iv6+xojuFshfd+ZvKbRH+Zty2m6Vj03M7XjhN3Ji6UyrddkFZ\n",
       "KwRDCgsotpZV/AvQw7Zev8qtqlR63OeCGsQObXTmMfJrpFnBiyeJG1OrAc5Ql7KlySHcKb9CJ011\n",
       "uKI3+nF0mHoX04wlaknOLZiFmA1Pkw/MIUEYNtaD9cBIvECGuDHVChEC1G7RiKPvBtdkxeh7QgAa\n",
       "oJ0GtVYmvzGAucybc1W/IWSrzfi3RE3g7lgC9fkptkBIPH+BuDEVy8dpE8Xf8ixTBF1u1htCQP99\n",
       "RYrOcqJishgOi4/jQ6dD7j1TTsAnZnQxdU0euCqcLgsr+UsHc3bOghd9TQhM+Q3OffNdUj5MCq/t\n",
       "3C4CVBdlVpGtGj0Z+IIP2xy4zTePQnA1vz46jApuAHw26FXxQtxvTEFmGXUZO/mXtXAhbY8pZrAE\n",
       "d2ZTGasTh/ne48M8db9BOIBU9KeHVslrQw8nK2IKoTH4yxYIiecv8pgyZ1yio6ILL7c/qZsuR/8p\n",
       "JMTyDHdmzw/mFn+F27iTeWepg9/is3HciC+3SxN53QhKR8YM0Lp8BaDDpZdvY4kXyPGzwD48QAva\n",
       "DC9oxE+gTZWj+4UcYIhj3Lb1D3ln7UXSN/NmmrFyi1xHnY4Z2RAPQihr7mJMDv7xc4UQ33+7zK8k\n",
       "HssxA1yBjw7Q2sEUeQSJtcsEe5xL70Qz+M9+sOWrGRM1NXsI/4FTHULOr26BwJ7u7pM402D/J5kr\n",
       "iqBtMH5cyN96uvI2vEQjISTMNK8jJeI4hHeaedqzXCapxoquNVIHtET5kgyIjEurtbrDQFhvkIMc\n",
       "4aBp2IiLrNX6IPIJtPtm1dIADje5U0XgyC1SuIyniBI7i+xb2V3njbecI5gVQfA6aL80RYdg8efB\n",
       "NeWb/5SQMg86jNaFt7nWlhu2juahjTl+XRLOfZBBinnWtFQUDai1kd/23mvNQM7tlHfdq/3T3WW7\n",
       "vXJecMR8QF3AFvsaDC6edbvqhauT/F845NXJCsSXN2DEbk/D99S+AiaFO+dj7lWNAAAAAElFTkSu\n",
       "QmCC\n",
       "\" style=\"display:inline;vertical-align:middle;\" /></a></span>"
      ],
      "text/plain": [
       "|- forall_{A, B} ((A subset_eq B) = [forall_{x in A} (x in B)])"
      ]
     },
     "metadata": {},
     "output_type": "display_data"
    }
   ],
   "source": [
    "subset_eq_def"
   ]
  },
  {
   "cell_type": "code",
   "execution_count": 4,
   "metadata": {},
   "outputs": [
    {
     "data": {
      "text/html": [
       "<strong id=\"subset_eq_def_inst\">subset_eq_def_inst:</strong> <span style=\"font-size:20px;\"> <a class=\"ProveItLink\" href=\"../../../__pv_it/_proof_subset_eq_is_bool/99a1fa96a19e693c150cd2e8738c201103c773500/proof.ipynb\" style=\"text-decoration: none\">&nbsp;&#x22A2;&nbsp;&nbsp;</a><a class=\"ProveItLink\" href=\"../../../__pv_it/axioms/369d595e9ce73ec272a603a3113a2b2655115f130/expr.ipynb\"><img src=\"data:image/png;base64,iVBORw0KGgoAAAANSUhEUgAAAO4AAAAVBAMAAACzlc/LAAAAMFBMVEX///8AAAAAAAAAAAAAAAAA\n",
       "AAAAAAAAAAAAAAAAAAAAAAAAAAAAAAAAAAAAAAAAAAAv3aB7AAAAD3RSTlMAInZUiRDNmWbv3US7\n",
       "qzJazP2FAAAACXBIWXMAAA7EAAAOxAGVKw4bAAADHUlEQVRIx4WWTWgTQRSA3+anu6nNz0kItDQW\n",
       "iloN7aEU66VVe3IQQxG8JBKRgkXFCMUqghYPPQkNoh6sSsXbClJQRC81KYigoQ0eBLEhOaigUGIV\n",
       "vfhT38zOprOd2exAsrPvzXxv5s17bwcAYtC0abKo51HzKU2RGgf4+tjrVrdxWxKSiHiY5cgmPCT0\n",
       "W69npQHG8t/KuyWAHQq7ZfrY44buV0pFHoFglgn961y72zRN7sZQAaBag5aUbPcSfRx3McuRUhN4\n",
       "BPQpJtOr1pl83rYxrhM98iIHRk62u0oPquBilyOlJvAIhCzZvsM1ttT7wrgZFM3g2JuyXbrmgNsp\n",
       "hhxv6MCsxCMwYAVZopdRwvPCjCr+xtENJ2W7Bm6pxe14B8SXp90qHoEJyzUwxJzjYN0ByNCjPqSI\n",
       "59umecPNLkWOJo+N0J1oY0oe4Zt5DPVh+lwVpkf+dCWZdpqtzGStzO1eBni5yVwj/OiknO+tPkc3\n",
       "ElPyCDxgshx0MmKHmIVrAIPUC4OK/XaAVt4UxffsHiKNmPEzPOV0oMgjMMtEryarLDpbBVBbHmPn\n",
       "H3bqCrttqYAdCpFkiXYDP2w1IiOgW8H0hTqpIPG43VGA6NzmFIjihozv2HmusOtPNHYyyTIBFq4L\n",
       "djGorTKXVvO4nzGjWvNMeWpjXB3XEP6Nnb2K84XsVfzrOrc95uNLTZwR/IyJGgumnA4UeQQWacmk\n",
       "WfGNKTMfGuHRiyFRp966pqrPBzBQfbGVlj6+Ix+ct9WITM+/hwATb1R3kUdYksSp99cs7ZPXdp0c\n",
       "xwXdSvG8kOzGqddgMQLPLNkC7LTViBz6dBFzhLYTjVkij8BXXNz6GPiXfw074SvrlcppVkwequyG\n",
       "2aniYqdLpRIOmxip2p5C5NEu/wWrnGXepBQ8Aq01j48aaHOu38FIXoOP3M3QaZOcSHRgVuIRRdX3\n",
       "LvO23Xggq2NG0S56O2rXaw8k5SGh6JCxoHVeJ9pdv/v6rv3doC3R3l0IXmnkQrGp3XaLkPbab9Hj\n",
       "vnGkVJp36tOePEI/RR6XFvmydNDjftUUSXk9s/8BI07fqsq+I7UAAAAASUVORK5CYII=\n",
       "\" style=\"display:inline;vertical-align:middle;\" /></a></span><br>"
      ],
      "text/plain": [
       "<IPython.core.display.HTML object>"
      ]
     },
     "metadata": {},
     "output_type": "display_data"
    }
   ],
   "source": [
    "subset_eq_def_inst = subset_eq_def.instantiate()"
   ]
  },
  {
   "cell_type": "code",
   "execution_count": 5,
   "metadata": {},
   "outputs": [
    {
     "data": {
      "text/html": [
       "<strong id=\"subset_eq_def_inst_rhs\">subset_eq_def_inst_rhs:</strong> <a class=\"ProveItLink\" href=\"../../../__pv_it/theorems/337a7f044b6a14048e4b1c9c190ed1e6fa6121e30/expr.ipynb\"><img src=\"data:image/png;base64,iVBORw0KGgoAAAANSUhEUgAAAHwAAAAVBAMAAAB2y5cfAAAAMFBMVEX///8AAAAAAAAAAAAAAAAA\n",
       "AAAAAAAAAAAAAAAAAAAAAAAAAAAAAAAAAAAAAAAAAAAv3aB7AAAAD3RSTlMAq1RmmUTNIjK7EInv\n",
       "3XZ/CtNrAAAACXBIWXMAAA7EAAAOxAGVKw4bAAACFklEQVQ4y2NgwA8K8MixMxACfAp4JFkfMDAI\n",
       "gBjKuFRoYxVlnv9RUGwGA8NjBgZXED8dh26uBOziPBMYGOQbGNgWMDSCPDEBh3YWA+zi9UBnxzsw\n",
       "MDuATGDgxuVDHhTey7t3oa6xbwBioBGnGJiBFrDh8roaMifsFZwpD8Q5wEhJZmA4e/fuaVzavYF4\n",
       "3cMVu0GuY89CiJ9kYFh4A0hvZGDwYGCYhaZrAYwBNJ3BgU+O5QKQZkMkAY6f7x6CpBjMGBgKGdgF\n",
       "0ML7BIx1CRhJBcy/GEEhiORDvu8MDDogMR0GBs4F3AEwUx/OBDG5P8HUHQWKMbBAwqvnLhBAoojz\n",
       "AFDRDyCjn4GB6QHcXJcGMBVxDkk7MPgfgNkrEbbzA53L/A/IiAHiBDsg8c79SQEfNJYfJCI5HhjB\n",
       "BVygwOBFaO8HKmT8CmToAvEmYJDyFUiyKUDN52Nwg6mbB7Q0QIaBGyz8AK79PTAU+0FesgTiGpBT\n",
       "GOZxMARDJCMY3sDUASNGv8uHIQjMSYJrzwFml2MLoBHLCPYxMDDNZs6cCYxh793ysJjrZWBY8o7J\n",
       "GZIoF06FCkv+FxTMBItdhUflAXaGbqjbGeoboKK8DcgRGj33LmoWYr8AZdRwJ7AAoxDEBHqBH5YH\n",
       "gHkCH4DnKJan+14xsM8AsQ4ycPmnwhRMx6u9EpW7eubMAFSRlXi1TydUWLE/wFeSFTAAAKsBdeim\n",
       "MMRjAAAAAElFTkSuQmCC\n",
       "\" style=\"display:inline;vertical-align:middle;\" /></a><br>"
      ],
      "text/plain": [
       "<IPython.core.display.HTML object>"
      ]
     },
     "metadata": {},
     "output_type": "display_data"
    }
   ],
   "source": [
    "subset_eq_def_inst_rhs = subset_eq_def_inst.rhs"
   ]
  },
  {
   "cell_type": "code",
   "execution_count": 6,
   "metadata": {},
   "outputs": [],
   "source": [
    "# this somehow loses the domain A for x\n",
    "#subset_eq_def_inst_rhs.deduce_in_bool()"
   ]
  },
  {
   "cell_type": "code",
   "execution_count": 7,
   "metadata": {},
   "outputs": [
    {
     "data": {
      "text/html": [
       "<a class=\"ProveItLink\" href=\"../../../__pv_it/_proof_subset_eq_is_bool/c37417a1bed82bac974ae424f56d3e74500521ea0/expr.ipynb\"><img src=\"data:image/png;base64,iVBORw0KGgoAAAANSUhEUgAAAK4AAAAVBAMAAAAtL8hrAAAAMFBMVEX///8AAAAAAAAAAAAAAAAA\n",
       "AAAAAAAAAAAAAAAAAAAAAAAAAAAAAAAAAAAAAAAAAAAv3aB7AAAAD3RSTlMAdt0yiUSrVGaZzSK7\n",
       "EO91eSXLAAAACXBIWXMAAA7EAAAOxAGVKw4bAAACqElEQVQ4y4WVTWgTQRTH35pNutndtJugQQ/V\n",
       "EBGxiAQRb5IqjV48BCroRY2gOUgwUTyIh1oPXopgwAp+gK4HRagNexIp0qb2ZleMKAUhh1qtB1FE\n",
       "RAU/0Dez+zbZdHezMMmb/5v5ZebNfyeQ2AjBjxGQU7D5AHJdsEIlIBnWVhCEbc9+LZ1gaoF1z/lN\n",
       "PeupSi9+FE/OAaxduTI1rE0t5FG9xnoTPtiY7q331gHKGZAbHtxR0aijupMVqu7DjY566zNYgaNV\n",
       "kKpeXKlSQJX9puhXxV538Z6mB6zoSgYbsj87XMpxro6qhEuS/cp73nVMdxsUlrHV0CoPiOvkkBt5\n",
       "PMjUpXT6vR93HNvL5Kshvp8pBwufABaYwfYS18mp4f7Eca5eBXjegXMAuB6oCseiKffhhv7EkywF\n",
       "Y8SdaNV34MuWBlMfgVLocME7ijajpwzpb4QfX8sbwm+AEaaNEFdvOzfh0iRT1YaYp3UkTRaKP2nU\n",
       "MmoQtSaFsGDprdbkRRz0DYOszW3lkAv1A0zt0Zxju5HhX8Nv27hoCs3aRcuMfbhB6SsGR2xuK8e5\n",
       "Klf1i/gRv7XOEGy3avfb6oBGNWK84CmHm8WBke8YnKE6pFxcmav7JrFiRkmuNO3qwU0aNQvQzJ8C\n",
       "kXfiDncDWizLqnOZuHEX9zRXp9muYDYEh6zUMKynUeijC7tuw0HekZ23p4aG/diwfJhz59TwoLi6\n",
       "ytUIryoe8ZhpmpgfHyqT0bYDvIn3XLcmxUqHLbX0r1h8yLVNxKWcUDPt+4yssKjADrsMMJOx1VUZ\n",
       "1wu3n95juoBTDqEjR9xpUY+i41iI1eijXbGLJeBh11Iu8F6PrtndD8ociz5A7M49ys8Hcp9AN671\n",
       "vDbNvDvfDOTO+3L3dPl/U7SgPym0W2LZK/Mfqbil9hwHl80AAAAASUVORK5CYII=\n",
       "\" style=\"display:inline;vertical-align:middle;\" /></a>"
      ],
      "text/plain": [
       "[forall_{x in A} (x in B)] in BOOLEAN"
      ]
     },
     "metadata": {},
     "output_type": "display_data"
    }
   ],
   "source": [
    "# addition 20200730 by wdc\n",
    "InSet(Forall(x, InSet(x, B), domain=A), Boolean)"
   ]
  },
  {
   "cell_type": "code",
   "execution_count": 8,
   "metadata": {},
   "outputs": [],
   "source": [
    "# addition 20200730 by wdc\n",
    "# still loses the domain A for x\n",
    "#Forall(x, InSet(x, B), domain=A).deduce_in_bool()"
   ]
  },
  {
   "cell_type": "code",
   "execution_count": 9,
   "metadata": {},
   "outputs": [],
   "source": [
    "# subset_eq_def_spec_r_h_s.deduce_in_bool()"
   ]
  },
  {
   "cell_type": "code",
   "execution_count": 10,
   "metadata": {},
   "outputs": [
    {
     "data": {
      "text/html": [
       "<span style=\"font-size:20px;\"> <a class=\"ProveItLink\" href=\"../../../../../booleans/quantification/universality/_theory_nbs_/axioms.ipynb#forall_in_bool\" style=\"text-decoration: none\">&nbsp;&#x22A2;&nbsp;&nbsp;</a><a class=\"ProveItLink\" href=\"../../../../../booleans/quantification/universality/__pv_it/axioms/1b39e2c22b081dc382c4103afab9326d41f53ed00/expr.ipynb\"><img src=\"data:image/png;base64,iVBORw0KGgoAAAANSUhEUgAAAbcAAAAWBAMAAACxjs8nAAAAMFBMVEX///8AAAAAAAAAAAAAAAAA\n",
       "AAAAAAAAAAAAAAAAAAAAAAAAAAAAAAAAAAAAAAAAAAAv3aB7AAAAD3RSTlMAq1RmmUTNIjK7EInv\n",
       "3XZ/CtNrAAAACXBIWXMAAA7EAAAOxAGVKw4bAAAFWUlEQVRYw71YfWhbVRQ/yXsv7+WlSVtUtCoj\n",
       "oo5itYbZ+YFDA6065gdxA8FtakBBHMNlIJPq2OL+Et1qFEqt4Pp0Q5yDGmenjOKojjG3oXSjjlkW\n",
       "eFvroEpj/lBbV7Sec9/XfR9JJhEP5L3zkXNyfvfce+69AahLiVI+SJ2D2bPQIMkNe1fJQa6atodi\n",
       "mUDISTjYKDa40JC3pOPDk8Ts8U0bT2WYCfNuIdWNtcGF6BVOubQdFLe+cxDNLL7d9pxGIYuNjc2U\n",
       "HxwUnpY3XMVMCO4B0jxfG5xItYvkeKWapbj1nQPpD4DoCXx/1GDhI1oAuDXwZZSZENxrNEMLtcEp\n",
       "VKFel1JMUdz6zkGk/I1Fww90NwhOSAeCWxZiJgRH6GPJOmtuA74OuJRNbEbUdw5crvP4WUBmrNE1\n",
       "e8IGl3i/dMYGF2EmzFvAEkTqNZQ78JV1KZcycPWdgyhawQ8CDGcbBfesBU56UXMqd/W9zESN8LtS\n",
       "6WQ9cE2l0jn34n/YWMt1nYOoGSfyW9jORAo5fP7jUa72HtFPavnaN+1J9JkFbovmNJThU0VmInAr\n",
       "Ad4LCFLkwYl5iGreMaO4VZxrEwJ79TT1A+q/6cQScdyxeUQ/iXBef9QS7rTAOU2t8NTGv1YxE4Hb\n",
       "DHJLQJA0Dw6/sRm5J38baTV75mkDXBXn2vTrdaPL6R3HEgk54VIoBXvMGWqI6mirVs35Lrhfu8IS\n",
       "brXAZfmGMvWERiYCF9Vcu7Q8cRBWtHjAYXkoiDAOMXNYjxrgPM6XR0NWU0JXBURMTCmbYQ1RhOrV\n",
       "y8OD3BwwwSm4PEo/WuCiUpFMlFlYd1pCX1s/3BDTRM0LrpONTSgNiYoLHO/8b7Y5Gxw+6ZwRtsGQ\n",
       "2JyR56u7f++w601waoGvXBQKZGLDnr3Pns8r6cChp2Mw0jPRk+HARQRKoSkJ8RbXtDScyw9NWzs8\n",
       "xzrkVioLJhNnneOZnKpx4EgUtBrgpDn4BLruLtPo32ZNy3E3uCyZGLgDuIsJ3X3TxnEG2m/eFvOu\n",
       "OYgtpUWwXZOvNJW7TXDknMi1RcwOx7HcvuZWJn63tgQcsH2Z6yFmVE4FW6TZr/pxYQ5qf2gMiury\n",
       "I3AMFfdY4MoucGGdTAzcVizGnvWpppxR3PbYh+t84OSviVtRvqA5TZjFJWcBdisgs67J2NXT7nXI\n",
       "lNyhqWIFRt/b33gEVhvgPs3aIuzSmKjSDGYPSwrP7x2TkvJwFi4ZG5IBzhm8wjo4PMJMDFwIrwav\n",
       "XIRmTWJH43ZIz/jAwTXEtToZ7jLBhdi9Yg5gx6RhQHZMrXiGfI7v5UN/6ub8RER7y+HupAEuPmmL\n",
       "NFIkwgSYjzjlU9JAfUy/aRn+rC7R8eYHC5zattaIefH4EN0KyOS0uiW4AoUXBgffQXD7I959zqQj\n",
       "TorxPHesU8bw/jRpsznFc64iZdeaDt80c+5ibM3dYosvwcu8aH/L3iCa8mI6D/K4nYR0yDx+WU1/\n",
       "nMv7W+hRlKJROakz+D4nzwWfWbfGsiIDt99koxlQiyixh6nsLMR9yXa5wdnjKb/7+ip+eO1MbG47\n",
       "xHfkzdN78F6f4vKuwNl247CB++v5YHAzC9zWOuDEFX86/DMDtzNpsNh0lW9gZ045hg9TGcpv8R8y\n",
       "rR4qf7Ggg6rbdVlcrHCiczazucch8blxUakCrpfLW2qBX1LQi3NNOZOD0GXcxPd549K0NJZ1TMO8\n",
       "wrbBUMZhaq3vnOi6LSU8Pdb/m164A9XBDfjyVg8N9gccnAP/jJB1+Ir//6LvZBIko7KbFnGS2UhM\n",
       "5QfQkfIF2dbQnSCBhZ89Ws2UOJeB/5IEjk8FKf9n+gcn8ZaK2QN6jAAAAABJRU5ErkJggg==\n",
       "\" style=\"display:inline;vertical-align:middle;\" /></a></span>"
      ],
      "text/plain": [
       "|- forall_{n in NaturalPos} [forall_{P} ([forall_{x_{1}, x_{2}, ..., x_{n}} P(x_{1}, x_{2}, ..., x_{n})] in BOOLEAN)]"
      ]
     },
     "metadata": {},
     "output_type": "display_data"
    }
   ],
   "source": [
    "forall_in_bool"
   ]
  },
  {
   "cell_type": "code",
   "execution_count": 11,
   "metadata": {},
   "outputs": [
    {
     "data": {
      "text/html": [
       "<strong id=\"forall_in_bool_inst\">forall_in_bool_inst:</strong> <span style=\"font-size:20px;\"> <a class=\"ProveItLink\" href=\"../../../__pv_it/_proof_subset_eq_is_bool/1a072e6624563e3e3903ee3bd9d2ee1ec6a86b480/proof.ipynb\" style=\"text-decoration: none\">&nbsp;&#x22A2;&nbsp;&nbsp;</a><a class=\"ProveItLink\" href=\"../../../__pv_it/_proof_subset_eq_is_bool/e0c972aa024c2daa14eebfd17d545c312925ff860/expr.ipynb\"><img src=\"data:image/png;base64,iVBORw0KGgoAAAANSUhEUgAAAJYAAAAVBAMAAABWCwqnAAAAMFBMVEX///8AAAAAAAAAAAAAAAAA\n",
       "AAAAAAAAAAAAAAAAAAAAAAAAAAAAAAAAAAAAAAAAAAAv3aB7AAAAD3RSTlMAdt0yiUSrVGaZzSK7\n",
       "EO91eSXLAAAACXBIWXMAAA7EAAAOxAGVKw4bAAACX0lEQVQ4y4WUT2jUQBTGv7jZbJLNymZR0UNx\n",
       "WRGxiCwevEmruHoR3IPgSV1F91CKVvEgHrQevIjgggqCIPEm1JWcRIqUXS+C9U9EEIQeSrEgqKgU\n",
       "im0RfTPJJJNuNg5MMvO9zC8z37wZlLagt7joX/JUEwcBtQRNGUthZYs9o5Sdr5bnzjC1wbqX5NjF\n",
       "ZMrNv83m4yo29s7AyhYnP9ZJvct6E1Kk4PSZ0jdAW4DpJbDGVbdD6m5mQkeKGON9nPpFK1yC3kpi\n",
       "6WMNUtl/VNmhtXEzXlQG/Za+QJV430OWiHGWQ6pO0zDl0ZdjVj/0RFP7SR9+BR4JVhgjlvZsmKlz\n",
       "lcpnefgdqu83fNjP5zrpRfPtoHCqChwQrDBmZQdKp7l6G3gjs+i/aCknjfKqTRnq2iPMyhuCNRH5\n",
       "Nfhju8fUp8g3ZNY2ssXV/2h8C6Q93ewi94XeVwTLkbxXrreZanlqXWbNAxkY/ocZMqCyw9ffUj1M\n",
       "axwKWFGMWOgcYWquGLOescicop9rUrIsUr1F8vGAFcU4y+Kqc40e9v1NbrhG4IRb4M6WQ1TmNz3O\n",
       "0QouiDWWYyyTqwfblCruqBkkWReYqZ+Fyjt2lGgrxFtmZ0mw7BjrPFenyHod3UwQoT2/uucBjvKO\n",
       "GWaxOUvLa/s5U4vHrOywuq7FVa3KhBUxaBfwyc7d8z8sjB4LMvXdYnPkJWttFSwRU568Du4JYcds\n",
       "PmitqcYS/5A4Q+JYlsNRq2KCNaU6RtBkhzelsKNfS70LjfV7B4Q2ncp6jv+x5DKTypruy9qXcHXn\n",
       "iykohbKwNJ8U+Qdamo6pqX6hkQAAAABJRU5ErkJggg==\n",
       "\" style=\"display:inline;vertical-align:middle;\" /></a></span><br>"
      ],
      "text/plain": [
       "<IPython.core.display.HTML object>"
      ]
     },
     "metadata": {},
     "output_type": "display_data"
    }
   ],
   "source": [
    "forall_in_bool_inst = forall_in_bool.instantiate(\n",
    "        {n:one, Px:InSet(x, B), x:ExprTuple(x)})"
   ]
  },
  {
   "cell_type": "code",
   "execution_count": 12,
   "metadata": {},
   "outputs": [],
   "source": [
    "# from the original, kept here temporarily to guide update\n",
    "# forall_in_bool_spec = forall_in_bool.instantiate({k:one, l:one, Px:InSet(x, B), QQ:[Q]}, relabel_map={xx:[x]})"
   ]
  },
  {
   "cell_type": "code",
   "execution_count": 13,
   "metadata": {},
   "outputs": [],
   "source": [
    "# in proof.py we would likely use the same check_param_var method used in lambda_expr.py"
   ]
  },
  {
   "cell_type": "code",
   "execution_count": 14,
   "metadata": {},
   "outputs": [
    {
     "data": {
      "text/html": [
       "<strong id=\"forall_piece\">forall_piece:</strong> <a class=\"ProveItLink\" href=\"../../../__pv_it/_proof_subset_eq_is_bool/066d7af6afc168d8c3f6e410db2956a2dcb7ac940/expr.ipynb\"><img src=\"data:image/png;base64,iVBORw0KGgoAAAANSUhEUgAAAGUAAAAVBAMAAACtcD09AAAAMFBMVEX///8AAAAAAAAAAAAAAAAA\n",
       "AAAAAAAAAAAAAAAAAAAAAAAAAAAAAAAAAAAAAAAAAAAv3aB7AAAAD3RSTlMAq1RmmUTNIjK7EInv\n",
       "3XZ/CtNrAAAACXBIWXMAAA7EAAAOxAGVKw4bAAABw0lEQVQ4y31TPUsDQRB9uVy+LjEkCAEFUdAf\n",
       "ECQgNqYQPxrFykaRw0ZMdfZRYq1gEGxE4wkiaCX5ARqwEBElpc3BKYpoEQ2KSaXO3uUue5jcwC4z\n",
       "s/t237ydBf5bAC6mtE4/umEWaMSY089nhbOWm4d/4/HlHKJJYIzFS/zicZsbrgFPHcgA66yAPL82\n",
       "2hoS+AF8X0AK8KtAuI9fLDm2vmqabDheusNLuIgKL/HzO8qR+Wj2zfI8H7TxigYBbjXtht8lkgRS\n",
       "pXujaBDK2PlIHlJPjkiRapPALo9h54h40KeMoPkcW4VKIsk4Eo8VBGI8poOKG0Ja7TQwzfy7AuGS\n",
       "cad6Q2p4hsdEKMph3Aw2NTJT1T0aF8QtSHUJukMCAwPcmcFJM1+lkdZJb6arPEJTZeJJaXKDr4ZT\n",
       "I7AhwU+aeuk8oUxOkbSJKl3+xiOFdEg7nhKMDorqFiZaI9w304BRzZIEXhSCjUXSUqgflXzmEYu2\n",
       "nERpPtN4C3hyLFezSZQhTesDg2Z0uKOaL3pQjSe2Dbq2YsGS/WvuHZLM7WuOxsCq5WTDsmj5Kbia\n",
       "3cLi87ndWCHFDeL8A5ZJeTdMmxPX3DAvwB/r4GPcBTBl5wAAAABJRU5ErkJggg==\n",
       "\" style=\"display:inline;vertical-align:middle;\" /></a><br>"
      ],
      "text/plain": [
       "<IPython.core.display.HTML object>"
      ]
     },
     "metadata": {},
     "output_type": "display_data"
    }
   ],
   "source": [
    "forall_piece = forall_in_bool_inst.operands[0]"
   ]
  },
  {
   "cell_type": "code",
   "execution_count": 15,
   "metadata": {},
   "outputs": [
    {
     "data": {
      "text/html": [
       "<strong id=\"x_1\">x_1:</strong> <a class=\"ProveItLink\" href=\"../../../__pv_it/_proof_subset_eq_is_bool/466a18b49cf959ea10747d565be38b5c15f8285e0/expr.ipynb\"><img src=\"data:image/png;base64,iVBORw0KGgoAAAANSUhEUgAAABMAAAAMBAMAAABy/puxAAAAMFBMVEX///8AAAAAAAAAAAAAAAAA\n",
       "AAAAAAAAAAAAAAAAAAAAAAAAAAAAAAAAAAAAAAAAAAAv3aB7AAAAD3RSTlMAEHarMolUmd1mIs3v\n",
       "RLtmgJDEAAAACXBIWXMAAA7EAAAOxAGVKw4bAAAAVElEQVQI12NgEFIWCU1gAIMCJiP2BjCLcwHn\n",
       "R+YJDJIbGBhYGNhBpBJYgkcBSLCBmfcXMAqAmXIXbBhYIaL5jjUM1yBMcSW2ygSYWjDAyuSK/qoA\n",
       "AM4VEbP51urOAAAAAElFTkSuQmCC\n",
       "\" style=\"display:inline;vertical-align:middle;\" /></a><br>"
      ],
      "text/plain": [
       "<IPython.core.display.HTML object>"
      ]
     },
     "metadata": {},
     "output_type": "display_data"
    }
   ],
   "source": [
    "x_1 = IndexedVar(x, one)"
   ]
  },
  {
   "cell_type": "code",
   "execution_count": 16,
   "metadata": {},
   "outputs": [
    {
     "data": {
      "text/html": [
       "<span style=\"font-size:20px;\"><a class=\"ProveItLink\" href=\"../../../__pv_it/_proof_subset_eq_is_bool/066d7af6afc168d8c3f6e410db2956a2dcb7ac940/expr.ipynb\"><img src=\"data:image/png;base64,iVBORw0KGgoAAAANSUhEUgAAAGUAAAAVBAMAAACtcD09AAAAMFBMVEX///8AAAAAAAAAAAAAAAAA\n",
       "AAAAAAAAAAAAAAAAAAAAAAAAAAAAAAAAAAAAAAAAAAAv3aB7AAAAD3RSTlMAq1RmmUTNIjK7EInv\n",
       "3XZ/CtNrAAAACXBIWXMAAA7EAAAOxAGVKw4bAAABw0lEQVQ4y31TPUsDQRB9uVy+LjEkCAEFUdAf\n",
       "ECQgNqYQPxrFykaRw0ZMdfZRYq1gEGxE4wkiaCX5ARqwEBElpc3BKYpoEQ2KSaXO3uUue5jcwC4z\n",
       "s/t237ydBf5bAC6mtE4/umEWaMSY089nhbOWm4d/4/HlHKJJYIzFS/zicZsbrgFPHcgA66yAPL82\n",
       "2hoS+AF8X0AK8KtAuI9fLDm2vmqabDheusNLuIgKL/HzO8qR+Wj2zfI8H7TxigYBbjXtht8lkgRS\n",
       "pXujaBDK2PlIHlJPjkiRapPALo9h54h40KeMoPkcW4VKIsk4Eo8VBGI8poOKG0Ja7TQwzfy7AuGS\n",
       "cad6Q2p4hsdEKMph3Aw2NTJT1T0aF8QtSHUJukMCAwPcmcFJM1+lkdZJb6arPEJTZeJJaXKDr4ZT\n",
       "I7AhwU+aeuk8oUxOkbSJKl3+xiOFdEg7nhKMDorqFiZaI9w304BRzZIEXhSCjUXSUqgflXzmEYu2\n",
       "nERpPtN4C3hyLFezSZQhTesDg2Z0uKOaL3pQjSe2Dbq2YsGS/WvuHZLM7WuOxsCq5WTDsmj5Kbia\n",
       "3cLi87ndWCHFDeL8A5ZJeTdMmxPX3DAvwB/r4GPcBTBl5wAAAABJRU5ErkJggg==\n",
       "\" style=\"display:inline;vertical-align:middle;\" /></a> <a class=\"ProveItLink\" href=\"../../../__pv_it/_proof_subset_eq_is_bool/ebcea717d0b0bd55afd2805366416d864f4279dd0/proof.ipynb\" style=\"text-decoration: none\">&nbsp;&#x22A2;&nbsp;&nbsp;</a><a class=\"ProveItLink\" href=\"../../../__pv_it/theorems/fd887bd5ac8499adb0944f106e649fd3447c9f0d0/expr.ipynb\"><img src=\"data:image/png;base64,iVBORw0KGgoAAAANSUhEUgAAADUAAAAPBAMAAAC2KZqIAAAAMFBMVEX///8AAAAAAAAAAAAAAAAA\n",
       "AAAAAAAAAAAAAAAAAAAAAAAAAAAAAAAAAAAAAAAAAAAv3aB7AAAAD3RSTlMAEHarMolUmd1mIs3v\n",
       "RLtmgJDEAAAACXBIWXMAAA7EAAAOxAGVKw4bAAAA3ElEQVQY02NgwAI43382tn7CgB3wPGBgsHfA\n",
       "LrdegYHhfgGyiF5HxwYIaz5Qz3wFJKnbinCmPRDvWcDAIKQsEpoAZHNtRCg7x8Ag3AKkC5iM2BuA\n",
       "NPcCuBTLPyXlnSD3LuD8yDwBJIfQxvSLgSEHKMbCwA5xgE8HEDwAM/kOMDCwfgF7BuIgOYQ+fgOg\n",
       "eZ9ArPsLGAWAFAdCzh9oHvNfoPILNgysYEsQ/tEHOssfaFO+Yw3DNbDINrjcHgYG3tNAs8SV2CoT\n",
       "wCLCbwUgUnb/jY33JaCG4tUXsDCDAABwgzI50p7dfQAAAABJRU5ErkJggg==\n",
       "\" style=\"display:inline;vertical-align:middle;\" /></a></span>"
      ],
      "text/plain": [
       "{forall_{x} (x in B)} |- x in B"
      ]
     },
     "metadata": {},
     "output_type": "display_data"
    }
   ],
   "source": [
    "# updated/adapted from original; not clear why this is being done\n",
    "forall_piece.instantiate({x_1:ExprTuple(x)}, assumptions=[forall_piece])"
   ]
  },
  {
   "cell_type": "code",
   "execution_count": 17,
   "metadata": {},
   "outputs": [
    {
     "data": {
      "text/html": [
       "<span style=\"font-size:20px;\"> <a class=\"ProveItLink\" href=\"../../../__pv_it/_proof_subset_eq_is_bool/1a072e6624563e3e3903ee3bd9d2ee1ec6a86b480/proof.ipynb\" style=\"text-decoration: none\">&nbsp;&#x22A2;&nbsp;&nbsp;</a><a class=\"ProveItLink\" href=\"../../../__pv_it/_proof_subset_eq_is_bool/e0c972aa024c2daa14eebfd17d545c312925ff860/expr.ipynb\"><img src=\"data:image/png;base64,iVBORw0KGgoAAAANSUhEUgAAAJYAAAAVBAMAAABWCwqnAAAAMFBMVEX///8AAAAAAAAAAAAAAAAA\n",
       "AAAAAAAAAAAAAAAAAAAAAAAAAAAAAAAAAAAAAAAAAAAv3aB7AAAAD3RSTlMAdt0yiUSrVGaZzSK7\n",
       "EO91eSXLAAAACXBIWXMAAA7EAAAOxAGVKw4bAAACX0lEQVQ4y4WUT2jUQBTGv7jZbJLNymZR0UNx\n",
       "WRGxiCwevEmruHoR3IPgSV1F91CKVvEgHrQevIjgggqCIPEm1JWcRIqUXS+C9U9EEIQeSrEgqKgU\n",
       "im0RfTPJJJNuNg5MMvO9zC8z37wZlLagt7joX/JUEwcBtQRNGUthZYs9o5Sdr5bnzjC1wbqX5NjF\n",
       "ZMrNv83m4yo29s7AyhYnP9ZJvct6E1Kk4PSZ0jdAW4DpJbDGVbdD6m5mQkeKGON9nPpFK1yC3kpi\n",
       "6WMNUtl/VNmhtXEzXlQG/Za+QJV430OWiHGWQ6pO0zDl0ZdjVj/0RFP7SR9+BR4JVhgjlvZsmKlz\n",
       "lcpnefgdqu83fNjP5zrpRfPtoHCqChwQrDBmZQdKp7l6G3gjs+i/aCknjfKqTRnq2iPMyhuCNRH5\n",
       "Nfhju8fUp8g3ZNY2ssXV/2h8C6Q93ewi94XeVwTLkbxXrreZanlqXWbNAxkY/ocZMqCyw9ffUj1M\n",
       "axwKWFGMWOgcYWquGLOescicop9rUrIsUr1F8vGAFcU4y+Kqc40e9v1NbrhG4IRb4M6WQ1TmNz3O\n",
       "0QouiDWWYyyTqwfblCruqBkkWReYqZ+Fyjt2lGgrxFtmZ0mw7BjrPFenyHod3UwQoT2/uucBjvKO\n",
       "GWaxOUvLa/s5U4vHrOywuq7FVa3KhBUxaBfwyc7d8z8sjB4LMvXdYnPkJWttFSwRU568Du4JYcds\n",
       "PmitqcYS/5A4Q+JYlsNRq2KCNaU6RtBkhzelsKNfS70LjfV7B4Q2ncp6jv+x5DKTypruy9qXcHXn\n",
       "iykohbKwNJ8U+Qdamo6pqX6hkQAAAABJRU5ErkJggg==\n",
       "\" style=\"display:inline;vertical-align:middle;\" /></a></span>"
      ],
      "text/plain": [
       "|- [forall_{x} (x in B)] in BOOLEAN"
      ]
     },
     "metadata": {},
     "output_type": "display_data"
    }
   ],
   "source": [
    "# recall:\n",
    "forall_in_bool_inst"
   ]
  },
  {
   "cell_type": "code",
   "execution_count": 18,
   "metadata": {},
   "outputs": [
    {
     "data": {
      "text/html": [
       "<strong id=\"the_inner_expr\">the_inner_expr:</strong> <a class=\"ProveItLink\" href=\"../../../__pv_it/_proof_subset_eq_is_bool/d7a0ec232386c920329220b80bf0ac55441c0f0e0/expr.ipynb\"><img src=\"data:image/png;base64,iVBORw0KGgoAAAANSUhEUgAAAQMAAAAyCAMAAABvXk5FAAAANlBMVEX///8AAAAAAAAAAAAAAAAA\n",
       "AAAAAAAAAAAAAAAAAAAAAAAAAAAAAAAAAAAAAAAAAAAAAAAAAABHL6OuAAAAEXRSTlMAIrt2mRCJ\n",
       "ZkSrMu/dzVTz6YZJ0GMAAAAJcEhZcwAADsQAAA7EAZUrDhsAAAVLSURBVGje7ZuJcuMoEECB5r52\n",
       "+f+fXUAggUCyFMXZzHqpKSfl0Aae+qQ9CJWBCUGfNLSB/VsQKPuBlcFa/Us+VRqLuzd4ED9Cn8vf\n",
       "87nMmRaCDHTQFWfUOUdn+P5xGPkHMUDMtOZPwmSKUy8+Y88A4fBHMYja35hQmPlD8oqB2zNAfxgD\n",
       "HTa/yIL6rQwAv5EBa1wAG93Bv8igi0+e/gIGAoBzln0kxQAEkIyveUlH4x+pL7vgAHphUEXqsPR8\n",
       "r1hxwJtW2u6P9uQMm+BbGfgUP6jLu1E+mZCIywmTGeQA62h2sT77GNmLlE93pwxkmk8Cm5/ak5MI\n",
       "vwq+n4EM6bDErO5TZ4e6BA6ZDk7cFhcakUG5J3tlJqUm1B49eSDsKLRtgu/2B0zyhUF+IoFvDBap\n",
       "KMwWB8uqP6giV+yW5rhsN9/y19+2G+HAy7SC72XAqPK+ZQADA1KDTGGwiVxhkBMV1pzT7nOxg/O1\n",
       "gm+2BZmOfMpgpweNyAUGi6gIR15QuyNTaAXfyiD/JRq3xhMGCtXfHdn8QSNyiUHypsohj6cMHD48\n",
       "QCP4fgYQdFzItQzSmi4/IpUMEudKQeXKqxG5EhditEU+hs91C/JiftAKvoeBVsYoHH+AB8YtaBWM\n",
       "0p7EV8RdSK6IMC8lLKszmvMDq9AmcpQfaFJHosQUcI0VzKtf3r59LPguPfiv187/M9jXSTrwj2TQ\n",
       "1ssQ5GcycFtINvanbjL5m+4TzdcY+PUKkRqMPnTQkspRo9HHjnx4ZhVDHzx8zGOYpZ/NIPdavscW\n",
       "MLrT68BPlkG3uyrHy6ly+O/wieDvRCjwX11HwqVoGCMFccEZq2QnNcSp9Xbduscatd5kbJmXF+ez\n",
       "rw5BQlBxOJL2C+JaRkDSwbFjCwSY70Vu7bXHORJz676ofF313kVe+kFqqdjZVQbxfDyW/Mtmpk6v\n",
       "6S09zpWpWPelqyJg8mL2dWsurZClIyjoDQbCF8UU04oouO+rmUyjn5U49y9mzw2ZpCvEXlFEMVqx\n",
       "sDBswmCQWxmU9ww7r5meMvCuYSDKU3avZs/s08Fkq6pobOkTOzEwmMgtDBQWRcWd+IbaedcJaW9G\n",
       "KG/9lMm3webQvOpsBqCY5o2+4LnVLu6AqRIOudozmMkln8jAqroNrp4z2HdC2hsy1/lqmrdKDjOv\n",
       "OjuuCQrazsLci+pAIOJaH6RwewYzucjAOhPWDFC4xwyGTkjbObG+ZYBVfZmPMlvgZOEMqU1J50YC\n",
       "S13jjaiZ3cDg0CeCkEVHvHnMYOiEdMoqu5idVODEbZfZSVtot3ttalulCynE9PmMDjsGU7mFQfrB\n",
       "G6lHDIZOyAkDDycecZudfu3yNzaPptV5ixoi93owlVsZlARBPtaDsRMy0e51Xw6JcjgAiuO/6ezS\n",
       "lGSbUdm5OxA1PBTEQ4fRnjJwjdQzBvtOSLce9Ay4L0YIGCmCnJ/MZkTGgiVNbiwfjt1BZOFq7rxn\n",
       "MJNbGXhopB7ZwtAJ6TonqmeA69e5RBbcVXjLbB80o5GBbAG5SV7lTNHlGgDp2GWdyC2OgAOnfUS+\n",
       "xeBVJ6TJD7Td1TFqmzb2HZfZjMan56nods8UkX1MVWvBtE60Y5d1kANnCNnqxlXqYY50Nmr2Mq6j\n",
       "zVi9n5X+kpMhV97lana21is5bNErBuoZg4M6BhvEHUJ0Pvt5fXZfal+MNTsJT7+rnO1l3BcFyWEs\n",
       "AciDO5tajt5jMC9iu3q5yYG/eIFA7uyLkae07zKYU4f2O5rPm225mrrcQcHw5Ts7XO/K5H2pIf93\n",
       "/b2aR582dt/Zzt/d/zAE0lo8eI2P/T8c/wBs5zW6CxbT4wAAAABJRU5ErkJggg==\n",
       "\" style=\"display:inline;vertical-align:middle;\" /></a><br>"
      ],
      "text/plain": [
       "<IPython.core.display.HTML object>"
      ]
     },
     "metadata": {},
     "output_type": "display_data"
    }
   ],
   "source": [
    "# updated this from original; not clear why this is being done\n",
    "the_inner_expr = forall_in_bool_inst.inner_expr()"
   ]
  },
  {
   "cell_type": "code",
   "execution_count": 19,
   "metadata": {},
   "outputs": [
    {
     "data": {
      "text/html": [
       "<strong id=\"forall_in_bool_inst_expr\">forall_in_bool_inst_expr:</strong> <a class=\"ProveItLink\" href=\"../../../__pv_it/_proof_subset_eq_is_bool/e0c972aa024c2daa14eebfd17d545c312925ff860/expr.ipynb\"><img src=\"data:image/png;base64,iVBORw0KGgoAAAANSUhEUgAAAJYAAAAVBAMAAABWCwqnAAAAMFBMVEX///8AAAAAAAAAAAAAAAAA\n",
       "AAAAAAAAAAAAAAAAAAAAAAAAAAAAAAAAAAAAAAAAAAAv3aB7AAAAD3RSTlMAdt0yiUSrVGaZzSK7\n",
       "EO91eSXLAAAACXBIWXMAAA7EAAAOxAGVKw4bAAACX0lEQVQ4y4WUT2jUQBTGv7jZbJLNymZR0UNx\n",
       "WRGxiCwevEmruHoR3IPgSV1F91CKVvEgHrQevIjgggqCIPEm1JWcRIqUXS+C9U9EEIQeSrEgqKgU\n",
       "im0RfTPJJJNuNg5MMvO9zC8z37wZlLagt7joX/JUEwcBtQRNGUthZYs9o5Sdr5bnzjC1wbqX5NjF\n",
       "ZMrNv83m4yo29s7AyhYnP9ZJvct6E1Kk4PSZ0jdAW4DpJbDGVbdD6m5mQkeKGON9nPpFK1yC3kpi\n",
       "6WMNUtl/VNmhtXEzXlQG/Za+QJV430OWiHGWQ6pO0zDl0ZdjVj/0RFP7SR9+BR4JVhgjlvZsmKlz\n",
       "lcpnefgdqu83fNjP5zrpRfPtoHCqChwQrDBmZQdKp7l6G3gjs+i/aCknjfKqTRnq2iPMyhuCNRH5\n",
       "Nfhju8fUp8g3ZNY2ssXV/2h8C6Q93ewi94XeVwTLkbxXrreZanlqXWbNAxkY/ocZMqCyw9ffUj1M\n",
       "axwKWFGMWOgcYWquGLOescicop9rUrIsUr1F8vGAFcU4y+Kqc40e9v1NbrhG4IRb4M6WQ1TmNz3O\n",
       "0QouiDWWYyyTqwfblCruqBkkWReYqZ+Fyjt2lGgrxFtmZ0mw7BjrPFenyHod3UwQoT2/uucBjvKO\n",
       "GWaxOUvLa/s5U4vHrOywuq7FVa3KhBUxaBfwyc7d8z8sjB4LMvXdYnPkJWttFSwRU568Du4JYcds\n",
       "PmitqcYS/5A4Q+JYlsNRq2KCNaU6RtBkhzelsKNfS70LjfV7B4Q2ncp6jv+x5DKTypruy9qXcHXn\n",
       "iykohbKwNJ8U+Qdamo6pqX6hkQAAAABJRU5ErkJggg==\n",
       "\" style=\"display:inline;vertical-align:middle;\" /></a><br>"
      ],
      "text/plain": [
       "<IPython.core.display.HTML object>"
      ]
     },
     "metadata": {},
     "output_type": "display_data"
    }
   ],
   "source": [
    "forall_in_bool_inst_expr = forall_in_bool_inst.expr"
   ]
  },
  {
   "cell_type": "code",
   "execution_count": 20,
   "metadata": {},
   "outputs": [],
   "source": [
    "# from original, but this no longer works:\n",
    "# the_inner_expr.operands[1]"
   ]
  },
  {
   "cell_type": "code",
   "execution_count": 21,
   "metadata": {},
   "outputs": [],
   "source": [
    "# from original, but no longer works:\n",
    "# forall_in_bool_spec_expr.expr_info()"
   ]
  },
  {
   "cell_type": "code",
   "execution_count": 22,
   "metadata": {},
   "outputs": [
    {
     "data": {
      "text/html": [
       "<table><tr><th>&nbsp;</th><th>core type</th><th>sub-expressions</th><th>expression</th></tr>\n",
       "<tr><td>0</td><td>Operation</td><td>operator:&nbsp;9<br>operands:&nbsp;1<br></td><td><a class=\"ProveItLink\" href=\"../../../__pv_it/_proof_subset_eq_is_bool/e0c972aa024c2daa14eebfd17d545c312925ff860/expr.ipynb\"><img src=\"data:image/png;base64,iVBORw0KGgoAAAANSUhEUgAAAJYAAAAVBAMAAABWCwqnAAAAMFBMVEX///8AAAAAAAAAAAAAAAAA\n",
       "AAAAAAAAAAAAAAAAAAAAAAAAAAAAAAAAAAAAAAAAAAAv3aB7AAAAD3RSTlMAdt0yiUSrVGaZzSK7\n",
       "EO91eSXLAAAACXBIWXMAAA7EAAAOxAGVKw4bAAACX0lEQVQ4y4WUT2jUQBTGv7jZbJLNymZR0UNx\n",
       "WRGxiCwevEmruHoR3IPgSV1F91CKVvEgHrQevIjgggqCIPEm1JWcRIqUXS+C9U9EEIQeSrEgqKgU\n",
       "im0RfTPJJJNuNg5MMvO9zC8z37wZlLagt7joX/JUEwcBtQRNGUthZYs9o5Sdr5bnzjC1wbqX5NjF\n",
       "ZMrNv83m4yo29s7AyhYnP9ZJvct6E1Kk4PSZ0jdAW4DpJbDGVbdD6m5mQkeKGON9nPpFK1yC3kpi\n",
       "6WMNUtl/VNmhtXEzXlQG/Za+QJV430OWiHGWQ6pO0zDl0ZdjVj/0RFP7SR9+BR4JVhgjlvZsmKlz\n",
       "lcpnefgdqu83fNjP5zrpRfPtoHCqChwQrDBmZQdKp7l6G3gjs+i/aCknjfKqTRnq2iPMyhuCNRH5\n",
       "Nfhju8fUp8g3ZNY2ssXV/2h8C6Q93ewi94XeVwTLkbxXrreZanlqXWbNAxkY/ocZMqCyw9ffUj1M\n",
       "axwKWFGMWOgcYWquGLOescicop9rUrIsUr1F8vGAFcU4y+Kqc40e9v1NbrhG4IRb4M6WQ1TmNz3O\n",
       "0QouiDWWYyyTqwfblCruqBkkWReYqZ+Fyjt2lGgrxFtmZ0mw7BjrPFenyHod3UwQoT2/uucBjvKO\n",
       "GWaxOUvLa/s5U4vHrOywuq7FVa3KhBUxaBfwyc7d8z8sjB4LMvXdYnPkJWttFSwRU568Du4JYcds\n",
       "PmitqcYS/5A4Q+JYlsNRq2KCNaU6RtBkhzelsKNfS70LjfV7B4Q2ncp6jv+x5DKTypruy9qXcHXn\n",
       "iykohbKwNJ8U+Qdamo6pqX6hkQAAAABJRU5ErkJggg==\n",
       "\" style=\"display:inline;vertical-align:middle;\" /></a></td></tr>\n",
       "<tr><td>1</td><td>ExprTuple</td><td>2, 3</td><td><a class=\"ProveItLink\" href=\"../../../__pv_it/_proof_subset_eq_is_bool/93ae3c75ab83381f1465f19fb1f4dde6cc971a710/expr.ipynb\"><img src=\"data:image/png;base64,iVBORw0KGgoAAAANSUhEUgAAAI0AAAAVBAMAAACJRXC4AAAAMFBMVEX///8AAAAAAAAAAAAAAAAA\n",
       "AAAAAAAAAAAAAAAAAAAAAAAAAAAAAAAAAAAAAAAAAAAv3aB7AAAAD3RSTlMAInZUiRDNmWbv3US7\n",
       "qzJazP2FAAAACXBIWXMAAA7EAAAOxAGVKw4bAAACaElEQVQ4y32UT4jTQBTGv6ZJmm7aEjwsriDE\n",
       "6iIosouIeizuVTEI6kUhCgUFD6uIiMJS9bAHhY3iQVbBwsKKQWQRPXirFQX/gD3oIrrFHjwJ4tZD\n",
       "9bKrb16bZFpjBmYy78ub38x7eRMAFv5tKSQ0K1ZQxmNcNyZxHgUT5f7LzuznnrADDfHYLXumS7GA\n",
       "a3+azVMtKJVAyJn28NEFFjQXF4V0TF5w6D8nuQPkV4FyxKmoVo2FTAXfRUJqsv/5eEzqJ2D+AqYl\n",
       "jjHeYCEL6A6g9mXJkw3ltT/fnRl0FoNYWUfmuCzspFcUnt6XHlcyzOPBKuSXyfE69UrEya8tsXCW\n",
       "zFnfvylzMvRKK374OiGM4RCDbA3apxYdvhFyRre8Bwsn6DEFvJA5Yr8MttkXBj7Aj3pxURzFcEPO\n",
       "/N17DgtzZK5HqiFzhihZlzDjfBSGFOOYhfQtEbcXxaVcLbNwW5iOuiBzsmS1cI7nBQraf9DVX1Hf\n",
       "T3EVliMOao9ZEJy03Zdm5gA3eK5JBbFCfcam1HsyJ8fCHJ/9Mg3F05utKC6YbRwURjXEFH7T8IX2\n",
       "SFdljs5CXdgTFKNiLem9IsrZ0N7kPfDtKEaF1CZWR+RZnNEJONtZ2Cc8RijNBuqF3gL6jOnVw57J\n",
       "WD2sUJ3CeVoO6qLDnJK6aZKFb1xgLTG2wwCq0M7Yu650E7T0pFeF71aai885bpE/34Fy8i3fdyEM\n",
       "tcLVXvjXeShn3dwb3IugreOid/oEY7I3H1HdTKBPI7HxNVYHhGfBZdi6ZzS8x1YSpvtvODAgHInx\n",
       "1GpJnO4u9oCQsmNc1yRxNsQIfwE1X5JVyEizVgAAAABJRU5ErkJggg==\n",
       "\" style=\"display:inline;vertical-align:middle;\" /></a></td></tr>\n",
       "<tr><td>2</td><td>Operation</td><td>operator:&nbsp;4<br>operand:&nbsp;6<br></td><td><a class=\"ProveItLink\" href=\"../../../__pv_it/_proof_subset_eq_is_bool/066d7af6afc168d8c3f6e410db2956a2dcb7ac940/expr.ipynb\"><img src=\"data:image/png;base64,iVBORw0KGgoAAAANSUhEUgAAAGUAAAAVBAMAAACtcD09AAAAMFBMVEX///8AAAAAAAAAAAAAAAAA\n",
       "AAAAAAAAAAAAAAAAAAAAAAAAAAAAAAAAAAAAAAAAAAAv3aB7AAAAD3RSTlMAq1RmmUTNIjK7EInv\n",
       "3XZ/CtNrAAAACXBIWXMAAA7EAAAOxAGVKw4bAAABw0lEQVQ4y31TPUsDQRB9uVy+LjEkCAEFUdAf\n",
       "ECQgNqYQPxrFykaRw0ZMdfZRYq1gEGxE4wkiaCX5ARqwEBElpc3BKYpoEQ2KSaXO3uUue5jcwC4z\n",
       "s/t237ydBf5bAC6mtE4/umEWaMSY089nhbOWm4d/4/HlHKJJYIzFS/zicZsbrgFPHcgA66yAPL82\n",
       "2hoS+AF8X0AK8KtAuI9fLDm2vmqabDheusNLuIgKL/HzO8qR+Wj2zfI8H7TxigYBbjXtht8lkgRS\n",
       "pXujaBDK2PlIHlJPjkiRapPALo9h54h40KeMoPkcW4VKIsk4Eo8VBGI8poOKG0Ja7TQwzfy7AuGS\n",
       "cad6Q2p4hsdEKMph3Aw2NTJT1T0aF8QtSHUJukMCAwPcmcFJM1+lkdZJb6arPEJTZeJJaXKDr4ZT\n",
       "I7AhwU+aeuk8oUxOkbSJKl3+xiOFdEg7nhKMDorqFiZaI9w304BRzZIEXhSCjUXSUqgflXzmEYu2\n",
       "nERpPtN4C3hyLFezSZQhTesDg2Z0uKOaL3pQjSe2Dbq2YsGS/WvuHZLM7WuOxsCq5WTDsmj5Kbia\n",
       "3cLi87ndWCHFDeL8A5ZJeTdMmxPX3DAvwB/r4GPcBTBl5wAAAABJRU5ErkJggg==\n",
       "\" style=\"display:inline;vertical-align:middle;\" /></a></td></tr>\n",
       "<tr><td>3</td><td>Literal</td><td></td><td><a class=\"ProveItLink\" href=\"../../../../../booleans/__pv_it/common/97424376de9815ad99f7180e3191b1cf4ab2a5710/expr.ipynb\"><img src=\"data:image/png;base64,iVBORw0KGgoAAAANSUhEUgAAAA0AAAAPBAMAAADNDVhEAAAALVBMVEX///8AAAAAAAAAAAAAAAAA\n",
       "AAAAAAAAAAAAAAAAAAAAAAAAAAAAAAAAAAAAAADAOrOgAAAADnRSTlMAdt3vu82rRCIQZolUmTPz\n",
       "mNMAAAAJcEhZcwAADsQAAA7EAZUrDhsAAABSSURBVAjXYxAyiQtWK2BgYHAo5IhMB9FVDDtYIPQa\n",
       "NijNCqEzVoPVTVTbAKKLgh/dhIhLlU4A0yzsGyA0gwOUDoDQPAJAupph414GBlETP5B9AKijF9Z/\n",
       "obYMAAAAAElFTkSuQmCC\n",
       "\" style=\"display:inline;vertical-align:middle;\" /></a></td></tr>\n",
       "<tr><td>4</td><td>Literal</td><td></td><td><a class=\"ProveItLink\" href=\"../../../../../booleans/quantification/universality/__pv_it/common/083d2baa0b8ecab1d230f9ec29a15aa1355809fb0/expr.ipynb\"><img src=\"data:image/png;base64,iVBORw0KGgoAAAANSUhEUgAAAAwAAAAOBAMAAADpk+DfAAAAMFBMVEX///8AAAAAAAAAAAAAAAAA\n",
       "AAAAAAAAAAAAAAAAAAAAAAAAAAAAAAAAAAAAAAAAAAAv3aB7AAAAD3RSTlMAq1RmmUTNIjK7EInv\n",
       "3XZ/CtNrAAAACXBIWXMAAA7EAAAOxAGVKw4bAAAAU0lEQVQI12MQYAACZQZXEJXO0Agk2ScwsC1g\n",
       "YOBWYGA2YGBgA4qcvXv3NJDyYGCYBaQKGdhBmjgXcAcAKaYHIBUMDAl2YGpTFpiqARvLwNjAwAAA\n",
       "a4AMcVC25hAAAAAASUVORK5CYII=\n",
       "\" style=\"display:inline;vertical-align:middle;\" /></a></td></tr>\n",
       "<tr><td>5</td><td>ExprTuple</td><td>6</td><td><a class=\"ProveItLink\" href=\"../../../__pv_it/_proof_subset_eq_is_bool/0f05ad1143ad3c97bcc39984dd75bc271092ba310/expr.ipynb\"><img src=\"data:image/png;base64,iVBORw0KGgoAAAANSUhEUgAAAH8AAAAVCAMAAABYDMEdAAAANlBMVEX///8AAAAAAAAAAAAAAAAA\n",
       "AAAAAAAAAAAAAAAAAAAAAAAAAAAAAAAAAAAAAAAAAAAAAAAAAABHL6OuAAAAEXRSTlMAInZUiRDN\n",
       "mWbv3US7qzLz6SJmQj4AAAAJcEhZcwAADsQAAA7EAZUrDhsAAAHBSURBVEjHnVZZkuUgDCMGs0MP\n",
       "979sO2wJCbzpBz+qpBCWZbMwRuNgG2OLdCf2BYBvrLJFysPBiFxsLPIVSfuUAg3pY5auawoZUW6E\n",
       "/5ZkfIaQsgCJ5W9GpTfif0k6UvHaJZX9UNWXE82fqv3otg8k8JbG6I8ueRMWHaYaQMhXTuJQbjVW\n",
       "f2m/k4DvvyFVw03JQ1b7CFVrJAQIGIVofW2HFcavRnpy2CFxXX4MttjAROjYpDDKEAIwZacRub9/\n",
       "NdKTw+T0VIjJAyntoZiWHW3Vro+zPMiCnsanst4yq6QXh83rAinL4qbN46ajcVXjmc6d/vPPDiMl\n",
       "d/np5pxo2uzBLl/DidqGZEhH425lgmXFqbHuE92cg36afwpsaH/mTEd7naPutAlxGj8OjXWRRs5T\n",
       "dMtSt21QdXPb0UNV7lg4VYn5UmNjFdKbwwDW5Scdsh/IHetW4CmiorXcldmH/V9Ibw7pnFxL0lSz\n",
       "u4dt/xLGkicqks6VXtxqIo6O2hUHg3fjERD65XPNs+5CGzfO/w8kJ/zr/H1eB/aGWm3E3yK9bq+C\n",
       "fucl44/98IcfcLFp//MA8Pvxm/aGB+wkAbvh212e8RdkyQ520nzAQwAAAABJRU5ErkJggg==\n",
       "\" style=\"display:inline;vertical-align:middle;\" /></a></td></tr>\n",
       "<tr><td>6</td><td>Lambda</td><td>parameter:&nbsp;11<br>body:&nbsp;8<br></td><td><a class=\"ProveItLink\" href=\"../../../__pv_it/_proof_subset_eq_is_bool/9c5dc23f32590420a3f988d655ad873aef7d30e40/expr.ipynb\"><img src=\"data:image/png;base64,iVBORw0KGgoAAAANSUhEUgAAAHAAAAAVCAMAAACpB5qQAAAANlBMVEX///8AAAAAAAAAAAAAAAAA\n",
       "AAAAAAAAAAAAAAAAAAAAAAAAAAAAAAAAAAAAAAAAAAAAAAAAAABHL6OuAAAAEXRSTlMAEHarMolU\n",
       "md1mIs3vRLvz6fgHHdMAAAAJcEhZcwAADsQAAA7EAZUrDhsAAAGLSURBVEjHrVVZdsMgDJTY95b7\n",
       "X7YyYCdgnBZe+SHO0zAjaRAAy8vB5toEMrVLGNkOSsmFYJty5rR8EkWrXedDvxYfUtl4Lowelwn1\n",
       "mkiXaxlj1iVj/XvHhk6HD6HJ0OorYGtmtFfiMEux+0/1mtRjRaNnk8N4rrsPVbg/CoSMcRRSnu4z\n",
       "HaT/0s0yIwbcvD21hchNTRQkPw6hanAG2kwpVHr/8q2FIwb89JKJnBhJ81fjLVXIuqPECNxOCak1\n",
       "b9pNTemGgXmpWS46VDjjFHngSFa/x399m27lHF8lqj9vGBHO6K4gqXlMNu9Qyu0c9tg1ckOEkfCG\n",
       "wTTNMHPoTAoxtFtCmSNOCUXnBnO5pMeMKs987GnWJlQZ0haBH7xyju3dkFjNZ8QAY88tJGJ/zTpQ\n",
       "WaAmcHxp/3APi60nGBI2mem+FTBcVaJrhZrEKW0f3gAp+iKV9GcY5Cn2V5Ffk/sVZ+LqLDXi+fWR\n",
       "6TbaxtFqlof3H8bv/43+ahu3z+fSBgjTPuGeWMd2+cpT9wOB9gvNvvgGTgAAAABJRU5ErkJggg==\n",
       "\" style=\"display:inline;vertical-align:middle;\" /></a></td></tr>\n",
       "<tr><td>7</td><td>ExprTuple</td><td>11</td><td><a class=\"ProveItLink\" href=\"../../../../../../__pv_it/common/eacfeccc0521684fcb20fe8f5180ac50fca471f20/expr.ipynb\"><img src=\"data:image/png;base64,iVBORw0KGgoAAAANSUhEUgAAABgAAAAVBAMAAACuxzMVAAAAMFBMVEX///8AAAAAAAAAAAAAAAAA\n",
       "AAAAAAAAAAAAAAAAAAAAAAAAAAAAAAAAAAAAAAAAAAAv3aB7AAAAD3RSTlMAInZUiRDNmWbv3US7\n",
       "qzJazP2FAAAACXBIWXMAAA7EAAAOxAGVKw4bAAAAt0lEQVQY02NgYBBgAANGEMFkAOFwKwAJEwYo\n",
       "0GBgYE2AcdgCGNgbYByOAgZOBjiYymCG4GQwlADJIN04F6CZvkAuA0MB0yX2BQwMbQyLgToFOL7y\n",
       "As2xZJjNwMDHwA42/z2Iw8DACbKdYSdIGQPDfgHWAAYGK4ZDDAwxG24ysACFeoDmMdg/rWTYDOSU\n",
       "MLxiYAhXYq4AOX01A9cDmAMYF4CcBwUgJx+EcWSAOAbGAYkyKkDYTAIMAEI7Hl9jb5QLAAAAAElF\n",
       "TkSuQmCC\n",
       "\" style=\"display:inline;vertical-align:middle;\" /></a></td></tr>\n",
       "<tr><td>8</td><td>Operation</td><td>operator:&nbsp;9<br>operands:&nbsp;10<br></td><td><a class=\"ProveItLink\" href=\"../../../__pv_it/theorems/fd887bd5ac8499adb0944f106e649fd3447c9f0d0/expr.ipynb\"><img src=\"data:image/png;base64,iVBORw0KGgoAAAANSUhEUgAAADUAAAAPBAMAAAC2KZqIAAAAMFBMVEX///8AAAAAAAAAAAAAAAAA\n",
       "AAAAAAAAAAAAAAAAAAAAAAAAAAAAAAAAAAAAAAAAAAAv3aB7AAAAD3RSTlMAEHarMolUmd1mIs3v\n",
       "RLtmgJDEAAAACXBIWXMAAA7EAAAOxAGVKw4bAAAA3ElEQVQY02NgwAI43382tn7CgB3wPGBgsHfA\n",
       "LrdegYHhfgGyiF5HxwYIaz5Qz3wFJKnbinCmPRDvWcDAIKQsEpoAZHNtRCg7x8Ag3AKkC5iM2BuA\n",
       "NPcCuBTLPyXlnSD3LuD8yDwBJIfQxvSLgSEHKMbCwA5xgE8HEDwAM/kOMDCwfgF7BuIgOYQ+fgOg\n",
       "eZ9ArPsLGAWAFAdCzh9oHvNfoPILNgysYEsQ/tEHOssfaFO+Yw3DNbDINrjcHgYG3tNAs8SV2CoT\n",
       "wCLCbwUgUnb/jY33JaCG4tUXsDCDAABwgzI50p7dfQAAAABJRU5ErkJggg==\n",
       "\" style=\"display:inline;vertical-align:middle;\" /></a></td></tr>\n",
       "<tr><td>9</td><td>Literal</td><td></td><td><a class=\"ProveItLink\" href=\"../../../../membership/__pv_it/common/477487d8796864d23d5810f83761435f25167f690/expr.ipynb\"><img src=\"data:image/png;base64,iVBORw0KGgoAAAANSUhEUgAAAAwAAAAMBAMAAACkW0HUAAAAKlBMVEX///8AAAAAAAAAAAAAAAAA\n",
       "AAAAAAAAAAAAAAAAAAAAAAAAAAAAAAAAAADmU0mKAAAADXRSTlMAdrvdzUQQIjLvVKuJ3kDT2wAA\n",
       "AAlwSFlzAAAOxAAADsQBlSsOGwAAADpJREFUCNdjYGAQMjZ2YGAIEWMAAnY3EMnAUgChwCRDpzEQ\n",
       "KDAkQXjMEIpRAEJ7Qahs1QQwHaNs7AAA8KcF/23LEVMAAAAASUVORK5CYII=\n",
       "\" style=\"display:inline;vertical-align:middle;\" /></a></td></tr>\n",
       "<tr><td>10</td><td>ExprTuple</td><td>11, 12</td><td><a class=\"ProveItLink\" href=\"../../../__pv_it/theorems/99fe0127a7d916a13d2f03d2399aecc2585b282d0/expr.ipynb\"><img src=\"data:image/png;base64,iVBORw0KGgoAAAANSUhEUgAAADIAAAAVBAMAAAD2uKAMAAAAMFBMVEX///8AAAAAAAAAAAAAAAAA\n",
       "AAAAAAAAAAAAAAAAAAAAAAAAAAAAAAAAAAAAAAAAAAAv3aB7AAAAD3RSTlMAInZUiRDNmWbv3US7\n",
       "qzJazP2FAAAACXBIWXMAAA7EAAAOxAGVKw4bAAABLklEQVQoz2NgYBBgwASMIILJAIsMtwKQMEER\n",
       "4jj/9+61cwwMGgwMrAmoqjkPMDDcf8DAFsDA3oAqIw80Z38BA0cBAyeaDf0PgBgoO5XBDE3mPhBn\n",
       "Ap2bwVACZAXpxrnAXDiHgSF2HZD2BcoxMBQwXWJfAJHg+6OkCxJiaGNYDHSpAMdXXqhDmD4yMFiC\n",
       "2JYMs4HqGNjhTueZwMDA8g/IeA+SAXpCASbDfwFoxicgYyfINKAHBFgDIDLvgSbx/gYyrBgOMTDE\n",
       "bLjJwMLAAJbTBzr4PcjsHqDrGOyfVjJsZmD9BpLJBIbmNJCaEoZXDAzhSswVQO+sAgrc+X/3bg7Y\n",
       "a6sZuB7ALGcOQI6gBaCggwIW5EACBfRBGCcIWUYGiGNgHAVkGZB6RgUssc0kwAAAuDw/SR7HpVAA\n",
       "AAAASUVORK5CYII=\n",
       "\" style=\"display:inline;vertical-align:middle;\" /></a></td></tr>\n",
       "<tr><td>11</td><td>Variable</td><td></td><td><a class=\"ProveItLink\" href=\"../../../../../../__pv_it/common/a0d9d672aa5e272d907247690c152cc2c6daafb70/expr.ipynb\"><img src=\"data:image/png;base64,iVBORw0KGgoAAAANSUhEUgAAAAsAAAAJBAMAAAAWSsseAAAAMFBMVEX///8AAAAAAAAAAAAAAAAA\n",
       "AAAAAAAAAAAAAAAAAAAAAAAAAAAAAAAAAAAAAAAAAAAv3aB7AAAAD3RSTlMAEHarMolUmd1mIs3v\n",
       "RLtmgJDEAAAACXBIWXMAAA7EAAAOxAGVKw4bAAAAQklEQVQI12NgEFIWCU1gYChgMmJvYOBcwPmR\n",
       "eQIDCwP7BgYQ4FEAU/cXMAowyF2wYWBlYMh3rGG4xsAgrsRWmcAAAFEjCyBvD0T9AAAAAElFTkSu\n",
       "QmCC\n",
       "\" style=\"display:inline;vertical-align:middle;\" /></a></td></tr>\n",
       "<tr><td>12</td><td>Variable</td><td></td><td><a class=\"ProveItLink\" href=\"../../../../../../__pv_it/common/a9162d1c3cc0470c02e5daf414500903a7a419230/expr.ipynb\"><img src=\"data:image/png;base64,iVBORw0KGgoAAAANSUhEUgAAABAAAAAOBAMAAADUAYG5AAAAMFBMVEX///8AAAAAAAAAAAAAAAAA\n",
       "AAAAAAAAAAAAAAAAAAAAAAAAAAAAAAAAAAAAAAAAAAAv3aB7AAAAD3RSTlMAZrurzTLvInZEmRDd\n",
       "VIkafcLnAAAACXBIWXMAAA7EAAAOxAGVKw4bAAAAb0lEQVQI12NgYBD6b2zsFMAABEkMDMxfgTT7\n",
       "DwYGzl9ABiOQxwjkMDB/YGBgSQcy2BQYuG1AiuM1OkwEQJr6Cxh4E0EMNSB+D5L6DMTyDQwMrB+B\n",
       "DPsJDAwc34GcL0AOSwIDwzRvoHH6n41NdBkYAF/iFeJ4bEa2AAAAAElFTkSuQmCC\n",
       "\" style=\"display:inline;vertical-align:middle;\" /></a></td></tr>\n",
       "</table>\n"
      ],
      "text/plain": [
       "0. [forall_{x} (x in B)] in BOOLEAN\n",
       "   core type: Operation\n",
       "   operator: 9\n",
       "   operands: 1\n",
       "1. (forall_{x} (x in B), BOOLEAN)\n",
       "   core type: ExprTuple\n",
       "   sub-expressions: 2, 3\n",
       "2. forall_{x} (x in B)\n",
       "   core type: Operation\n",
       "   operator: 4\n",
       "   operand: 6\n",
       "3. BOOLEAN\n",
       "   core type: Literal\n",
       "   sub-expressions: \n",
       "4. forall\n",
       "   core type: Literal\n",
       "   sub-expressions: \n",
       "5. (x -> (x in B))\n",
       "   core type: ExprTuple\n",
       "   sub-expressions: 6\n",
       "6. x -> (x in B)\n",
       "   core type: Lambda\n",
       "   parameter: 11\n",
       "   body: 8\n",
       "7. (x)\n",
       "   core type: ExprTuple\n",
       "   sub-expressions: 11\n",
       "8. x in B\n",
       "   core type: Operation\n",
       "   operator: 9\n",
       "   operands: 10\n",
       "9. in\n",
       "   core type: Literal\n",
       "   sub-expressions: \n",
       "10. (x, B)\n",
       "    core type: ExprTuple\n",
       "    sub-expressions: 11, 12\n",
       "11. x\n",
       "    core type: Variable\n",
       "    sub-expressions: \n",
       "12. B\n",
       "    core type: Variable\n",
       "    sub-expressions: "
      ]
     },
     "metadata": {},
     "output_type": "display_data"
    }
   ],
   "source": [
    "forall_in_bool_inst_expr.expr_info()"
   ]
  },
  {
   "cell_type": "code",
   "execution_count": 23,
   "metadata": {},
   "outputs": [],
   "source": [
    "# original\n",
    "# Q1 = Variable('Q1');\n",
    "# Q2 = Variable('Q2');\n",
    "# forall_in_bool_spec_testing = forall_in_bool.instantiate({k:one, l:one, Px:InSet(x, B), QQ:[Q1]})"
   ]
  },
  {
   "cell_type": "code",
   "execution_count": 24,
   "metadata": {},
   "outputs": [
    {
     "data": {
      "text/html": [
       "<span style=\"font-size:20px;\"> <a class=\"ProveItLink\" href=\"../../../../../booleans/quantification/universality/_theory_nbs_/axioms.ipynb#forall_in_bool\" style=\"text-decoration: none\">&nbsp;&#x22A2;&nbsp;&nbsp;</a><a class=\"ProveItLink\" href=\"../../../../../booleans/quantification/universality/__pv_it/axioms/1b39e2c22b081dc382c4103afab9326d41f53ed00/expr.ipynb\"><img src=\"data:image/png;base64,iVBORw0KGgoAAAANSUhEUgAAAbcAAAAWBAMAAACxjs8nAAAAMFBMVEX///8AAAAAAAAAAAAAAAAA\n",
       "AAAAAAAAAAAAAAAAAAAAAAAAAAAAAAAAAAAAAAAAAAAv3aB7AAAAD3RSTlMAq1RmmUTNIjK7EInv\n",
       "3XZ/CtNrAAAACXBIWXMAAA7EAAAOxAGVKw4bAAAFWUlEQVRYw71YfWhbVRQ/yXsv7+WlSVtUtCoj\n",
       "oo5itYbZ+YFDA6065gdxA8FtakBBHMNlIJPq2OL+Et1qFEqt4Pp0Q5yDGmenjOKojjG3oXSjjlkW\n",
       "eFvroEpj/lBbV7Sec9/XfR9JJhEP5L3zkXNyfvfce+69AahLiVI+SJ2D2bPQIMkNe1fJQa6atodi\n",
       "mUDISTjYKDa40JC3pOPDk8Ts8U0bT2WYCfNuIdWNtcGF6BVOubQdFLe+cxDNLL7d9pxGIYuNjc2U\n",
       "HxwUnpY3XMVMCO4B0jxfG5xItYvkeKWapbj1nQPpD4DoCXx/1GDhI1oAuDXwZZSZENxrNEMLtcEp\n",
       "VKFel1JMUdz6zkGk/I1Fww90NwhOSAeCWxZiJgRH6GPJOmtuA74OuJRNbEbUdw5crvP4WUBmrNE1\n",
       "e8IGl3i/dMYGF2EmzFvAEkTqNZQ78JV1KZcycPWdgyhawQ8CDGcbBfesBU56UXMqd/W9zESN8LtS\n",
       "6WQ9cE2l0jn34n/YWMt1nYOoGSfyW9jORAo5fP7jUa72HtFPavnaN+1J9JkFbovmNJThU0VmInAr\n",
       "Ad4LCFLkwYl5iGreMaO4VZxrEwJ79TT1A+q/6cQScdyxeUQ/iXBef9QS7rTAOU2t8NTGv1YxE4Hb\n",
       "DHJLQJA0Dw6/sRm5J38baTV75mkDXBXn2vTrdaPL6R3HEgk54VIoBXvMGWqI6mirVs35Lrhfu8IS\n",
       "brXAZfmGMvWERiYCF9Vcu7Q8cRBWtHjAYXkoiDAOMXNYjxrgPM6XR0NWU0JXBURMTCmbYQ1RhOrV\n",
       "y8OD3BwwwSm4PEo/WuCiUpFMlFlYd1pCX1s/3BDTRM0LrpONTSgNiYoLHO/8b7Y5Gxw+6ZwRtsGQ\n",
       "2JyR56u7f++w601waoGvXBQKZGLDnr3Pns8r6cChp2Mw0jPRk+HARQRKoSkJ8RbXtDScyw9NWzs8\n",
       "xzrkVioLJhNnneOZnKpx4EgUtBrgpDn4BLruLtPo32ZNy3E3uCyZGLgDuIsJ3X3TxnEG2m/eFvOu\n",
       "OYgtpUWwXZOvNJW7TXDknMi1RcwOx7HcvuZWJn63tgQcsH2Z6yFmVE4FW6TZr/pxYQ5qf2gMiury\n",
       "I3AMFfdY4MoucGGdTAzcVizGnvWpppxR3PbYh+t84OSviVtRvqA5TZjFJWcBdisgs67J2NXT7nXI\n",
       "lNyhqWIFRt/b33gEVhvgPs3aIuzSmKjSDGYPSwrP7x2TkvJwFi4ZG5IBzhm8wjo4PMJMDFwIrwav\n",
       "XIRmTWJH43ZIz/jAwTXEtToZ7jLBhdi9Yg5gx6RhQHZMrXiGfI7v5UN/6ub8RER7y+HupAEuPmmL\n",
       "NFIkwgSYjzjlU9JAfUy/aRn+rC7R8eYHC5zattaIefH4EN0KyOS0uiW4AoUXBgffQXD7I959zqQj\n",
       "TorxPHesU8bw/jRpsznFc64iZdeaDt80c+5ibM3dYosvwcu8aH/L3iCa8mI6D/K4nYR0yDx+WU1/\n",
       "nMv7W+hRlKJROakz+D4nzwWfWbfGsiIDt99koxlQiyixh6nsLMR9yXa5wdnjKb/7+ip+eO1MbG47\n",
       "xHfkzdN78F6f4vKuwNl247CB++v5YHAzC9zWOuDEFX86/DMDtzNpsNh0lW9gZ045hg9TGcpv8R8y\n",
       "rR4qf7Ggg6rbdVlcrHCiczazucch8blxUakCrpfLW2qBX1LQi3NNOZOD0GXcxPd549K0NJZ1TMO8\n",
       "wrbBUMZhaq3vnOi6LSU8Pdb/m164A9XBDfjyVg8N9gccnAP/jJB1+Ir//6LvZBIko7KbFnGS2UhM\n",
       "5QfQkfIF2dbQnSCBhZ89Ws2UOJeB/5IEjk8FKf9n+gcn8ZaK2QN6jAAAAABJRU5ErkJggg==\n",
       "\" style=\"display:inline;vertical-align:middle;\" /></a></span>"
      ],
      "text/plain": [
       "|- forall_{n in NaturalPos} [forall_{P} ([forall_{x_{1}, x_{2}, ..., x_{n}} P(x_{1}, x_{2}, ..., x_{n})] in BOOLEAN)]"
      ]
     },
     "metadata": {},
     "output_type": "display_data"
    }
   ],
   "source": [
    "forall_in_bool"
   ]
  },
  {
   "cell_type": "code",
   "execution_count": 25,
   "metadata": {},
   "outputs": [
    {
     "data": {
      "text/html": [
       "<strong id=\"forall_in_bool_spec_testing\">forall_in_bool_spec_testing:</strong> <span style=\"font-size:20px;\"> <a class=\"ProveItLink\" href=\"../../../__pv_it/_proof_subset_eq_is_bool/1a072e6624563e3e3903ee3bd9d2ee1ec6a86b480/proof.ipynb\" style=\"text-decoration: none\">&nbsp;&#x22A2;&nbsp;&nbsp;</a><a class=\"ProveItLink\" href=\"../../../__pv_it/_proof_subset_eq_is_bool/ab1e72c477db713ffb3d3f962681da83c83079d90/expr.ipynb\"><img src=\"data:image/png;base64,iVBORw0KGgoAAAANSUhEUgAAAMMAAAAWBAMAAACPojUFAAAAMFBMVEX///8AAAAAAAAAAAAAAAAA\n",
       "AAAAAAAAAAAAAAAAAAAAAAAAAAAAAAAAAAAAAAAAAAAv3aB7AAAAD3RSTlMAdt0yiUSrVGaZzSK7\n",
       "EO91eSXLAAAACXBIWXMAAA7EAAAOxAGVKw4bAAADB0lEQVRIx7WVS2gTQRjHvyTNo7vZmMRLVbAh\n",
       "0hZEIe1BDx7aiqn4oA8RfIBFCwasFUU8iAeJIAhFsWC9KV0RSqGvCEVQRLeCeijaePMgWKRFMREf\n",
       "0VatUr9vZl9Zp00vDsxj/9/M/Ga/+WYGoutgqZSB5SUZ82JTJZcc6Tq1TIQ3/O9c0fzoSHUryYfp\n",
       "86x45Bkqxnqb0ljVZYVdLi+kUkMJqBAsV2uTh4+SfJ2+BoXDFRWLstsAnaAcGxUjIA/gK4CUFSD2\n",
       "w64gyZvIlZpwdDmuXhnCRqgHoFKMkL+gm35CoEeIuOQjmfhlYp+HMEsxLHyfHQjX4/h63goUMCPm\n",
       "o4kwbYSQSA7gUiWxD85h7kuQswrFCO8t84PoUg5gwEBYNkQcv8jkt/H4tBjRi374zTz2vRhx32qH\n",
       "NFA6cBlNBsKyaW0vqxuYfA3guRiBKyufo4Y0X4ywRUf9eKSTAq7bQFg2bc/I15tMvgsyBa6rcVUG\n",
       "lG47ogbA/Ycab6Y44pXKDarVpzID/vdYnzcQqn27Kw5mSQ5my/CAeAdBzkFt1I6YAVgxRY2raYbw\n",
       "RGJM96Bv4xt4nxeYW9BR9TrCZkNE0NtAsj9Mu30a8w1e2RFumlT5APwv/Byh2GJ8llaAZ7tdR9hs\n",
       "hACNyeoF3NYCdXUgaljA7IPyXDECYmYXzw8sTraygUmHjSFUJm8fxqnIhc0OxDhOMRfYkm7OOBAR\n",
       "64BgIHh+0UViICJFCH+YyQ9xt0MYXdDPELIZXxiIsPYONJ2gj5aMhZDMoyrhXrUP8wBPOmzaXmjc\n",
       "wWUf7lYIN9QzzxCbNxp96sgTXduqwAOQ+tSfNhFK1yH94E3OpjqfUavKQJi21flJ/ablKdjjzbrT\n",
       "3FEmwp1g1RNYowsGAry7jQvEuKpi5lxOm4GQc1dWDoADQXcbpqd+1YkQ3pjJEk/SvSOpbAbGRhtt\n",
       "CJhgZd9CQl/Hzm/hRRAPoDQC4ICij7cQr/mWvCv97E0sjthqPbiPOvgtVDttxoQcXubD6sJwi86U\n",
       "7CZVwf9IfwHzesnLU84rGQAAAABJRU5ErkJggg==\n",
       "\" style=\"display:inline;vertical-align:middle;\" /></a></span><br>"
      ],
      "text/plain": [
       "<IPython.core.display.HTML object>"
      ]
     },
     "metadata": {},
     "output_type": "display_data"
    }
   ],
   "source": [
    "# new version?\n",
    "Q1 = Variable('Q1');\n",
    "Q2 = Variable('Q2');\n",
    "forall_in_bool_spec_testing = forall_in_bool.instantiate({n:one, Px:InSet(x, B), x:(Q1)})"
   ]
  },
  {
   "cell_type": "code",
   "execution_count": 26,
   "metadata": {},
   "outputs": [],
   "source": [
    "# original; can't seem to relabel now in this way? Even using\n",
    "# a defined IndexedVar(Q1, one)\n",
    "# forall_in_bool_spec_testing.relabel({Q1:Q2})"
   ]
  },
  {
   "cell_type": "code",
   "execution_count": 27,
   "metadata": {},
   "outputs": [],
   "source": [
    "# forall_in_bool_spec_spec = forall_in_bool_spec.instantiate({xx:[x]})"
   ]
  },
  {
   "cell_type": "code",
   "execution_count": 28,
   "metadata": {},
   "outputs": [],
   "source": [
    "# forall_in_bool_spec_spec_spec = forall_in_bool_spec_spec.instantiate({x_iter1l:[x]})"
   ]
  },
  {
   "cell_type": "code",
   "execution_count": 29,
   "metadata": {},
   "outputs": [],
   "source": [
    "# original\n",
    "# subset_eq_def_spec_r_h_s"
   ]
  },
  {
   "cell_type": "code",
   "execution_count": 30,
   "metadata": {},
   "outputs": [
    {
     "data": {
      "text/html": [
       "<a class=\"ProveItLink\" href=\"../../../__pv_it/theorems/337a7f044b6a14048e4b1c9c190ed1e6fa6121e30/expr.ipynb\"><img src=\"data:image/png;base64,iVBORw0KGgoAAAANSUhEUgAAAHwAAAAVBAMAAAB2y5cfAAAAMFBMVEX///8AAAAAAAAAAAAAAAAA\n",
       "AAAAAAAAAAAAAAAAAAAAAAAAAAAAAAAAAAAAAAAAAAAv3aB7AAAAD3RSTlMAq1RmmUTNIjK7EInv\n",
       "3XZ/CtNrAAAACXBIWXMAAA7EAAAOxAGVKw4bAAACFklEQVQ4y2NgwA8K8MixMxACfAp4JFkfMDAI\n",
       "gBjKuFRoYxVlnv9RUGwGA8NjBgZXED8dh26uBOziPBMYGOQbGNgWMDSCPDEBh3YWA+zi9UBnxzsw\n",
       "MDuATGDgxuVDHhTey7t3oa6xbwBioBGnGJiBFrDh8roaMifsFZwpD8Q5wEhJZmA4e/fuaVzavYF4\n",
       "3cMVu0GuY89CiJ9kYFh4A0hvZGDwYGCYhaZrAYwBNJ3BgU+O5QKQZkMkAY6f7x6CpBjMGBgKGdgF\n",
       "0ML7BIx1CRhJBcy/GEEhiORDvu8MDDogMR0GBs4F3AEwUx/OBDG5P8HUHQWKMbBAwqvnLhBAoojz\n",
       "AFDRDyCjn4GB6QHcXJcGMBVxDkk7MPgfgNkrEbbzA53L/A/IiAHiBDsg8c79SQEfNJYfJCI5HhjB\n",
       "BVygwOBFaO8HKmT8CmToAvEmYJDyFUiyKUDN52Nwg6mbB7Q0QIaBGyz8AK79PTAU+0FesgTiGpBT\n",
       "GOZxMARDJCMY3sDUASNGv8uHIQjMSYJrzwFml2MLoBHLCPYxMDDNZs6cCYxh793ysJjrZWBY8o7J\n",
       "GZIoF06FCkv+FxTMBItdhUflAXaGbqjbGeoboKK8DcgRGj33LmoWYr8AZdRwJ7AAoxDEBHqBH5YH\n",
       "gHkCH4DnKJan+14xsM8AsQ4ycPmnwhRMx6u9EpW7eubMAFSRlXi1TydUWLE/wFeSFTAAAKsBdeim\n",
       "MMRjAAAAAElFTkSuQmCC\n",
       "\" style=\"display:inline;vertical-align:middle;\" /></a>"
      ],
      "text/plain": [
       "forall_{x in A} (x in B)"
      ]
     },
     "metadata": {},
     "output_type": "display_data"
    }
   ],
   "source": [
    "# new\n",
    "subset_eq_def_inst_rhs"
   ]
  },
  {
   "cell_type": "code",
   "execution_count": 31,
   "metadata": {},
   "outputs": [],
   "source": [
    "# original\n",
    "# subset_eq_def_spec_r_h_s.all_instance_vars()"
   ]
  },
  {
   "cell_type": "code",
   "execution_count": 32,
   "metadata": {},
   "outputs": [
    {
     "data": {
      "text/html": [
       "<a class=\"ProveItLink\" href=\"../../../../../../__pv_it/common/eacfeccc0521684fcb20fe8f5180ac50fca471f20/expr.ipynb\"><img src=\"data:image/png;base64,iVBORw0KGgoAAAANSUhEUgAAABgAAAAVBAMAAACuxzMVAAAAMFBMVEX///8AAAAAAAAAAAAAAAAA\n",
       "AAAAAAAAAAAAAAAAAAAAAAAAAAAAAAAAAAAAAAAAAAAv3aB7AAAAD3RSTlMAInZUiRDNmWbv3US7\n",
       "qzJazP2FAAAACXBIWXMAAA7EAAAOxAGVKw4bAAAAt0lEQVQY02NgYBBgAANGEMFkAOFwKwAJEwYo\n",
       "0GBgYE2AcdgCGNgbYByOAgZOBjiYymCG4GQwlADJIN04F6CZvkAuA0MB0yX2BQwMbQyLgToFOL7y\n",
       "As2xZJjNwMDHwA42/z2Iw8DACbKdYSdIGQPDfgHWAAYGK4ZDDAwxG24ysACFeoDmMdg/rWTYDOSU\n",
       "MLxiYAhXYq4AOX01A9cDmAMYF4CcBwUgJx+EcWSAOAbGAYkyKkDYTAIMAEI7Hl9jb5QLAAAAAElF\n",
       "TkSuQmCC\n",
       "\" style=\"display:inline;vertical-align:middle;\" /></a>"
      ],
      "text/plain": [
       "(x)"
      ]
     },
     "metadata": {},
     "output_type": "display_data"
    }
   ],
   "source": [
    "# new\n",
    "subset_eq_def_inst_rhs.all_instance_vars()"
   ]
  },
  {
   "cell_type": "code",
   "execution_count": 33,
   "metadata": {},
   "outputs": [],
   "source": [
    "# original\n",
    "# PxNew = Operation(P, [y, *subset_eq_def_spec_r_h_s.all_instance_vars(), z])"
   ]
  },
  {
   "cell_type": "code",
   "execution_count": 34,
   "metadata": {},
   "outputs": [
    {
     "data": {
      "text/html": [
       "<strong id=\"PxNew\">PxNew:</strong> <a class=\"ProveItLink\" href=\"../../../__pv_it/_proof_subset_eq_is_bool/7e1ad77b549c61cd9fd7e8babaeb5d4adc4e0ecd0/expr.ipynb\"><img src=\"data:image/png;base64,iVBORw0KGgoAAAANSUhEUgAAAFUAAAAVBAMAAADFg78FAAAAMFBMVEX///8AAAAAAAAAAAAAAAAA\n",
       "AAAAAAAAAAAAAAAAAAAAAAAAAAAAAAAAAAAAAAAAAAAv3aB7AAAAD3RSTlMAdrurzZkQ7zJUiSLd\n",
       "ZkQEbk8lAAAACXBIWXMAAA7EAAAOxAGVKw4bAAABr0lEQVQoz31TPUjDQBT+0jZpfhqNiosOVjo6\n",
       "tHYRnOqgm1BQEIRq2iKIixVEcBFxEISCHcTBxVrFoVNncXCSCg5xcNU6OkiriJQO6rukSX+gOXh3\n",
       "37333eV7712A9lFCz9Ed4nK9uW/mPPgXis7qDJ31poIzzOUb8OzQKsRcuJhjk/gJSGTgDTfus3l7\n",
       "naxBwO9GhZ/J9NTIiI8TV66PfbU/CBxrBJZJ8rCBtBVLDq0Xm3XJlhUDcgQm7+aBueYBWcrg1SLE\n",
       "uUn+zkTCTOESUFnmY9PFF9NHB44oHDU3akn98VrJKjquKf0MwbCtaA/Q/Rq2zI0IvlXCDcpLrFnl\n",
       "dbio6mLdTlyzAwpDfXSv2LBdTPQiuExzWy0JuoU+IJAGEs/92txxshA8ERZBqjIFmUQRlHLwUgJU\n",
       "Ll/N5lKyWEDVwCYpPT9cwjsEJvCgMFKmrubBh79sXVmy9MVqCYF7YG1ASlB5H+nivLRdAQKV9s4E\n",
       "9tl8RXbq+CTdRrcdXVTjkGPCLqG845MdlOhs+QQCmpd4glMtJJ26BTu5KUhPK+zltVzOKU/XT6Ro\n",
       "vZ/ZKPAPSldYD0AIJ7IAAAAASUVORK5CYII=\n",
       "\" style=\"display:inline;vertical-align:middle;\" /></a><br>"
      ],
      "text/plain": [
       "<IPython.core.display.HTML object>"
      ]
     },
     "metadata": {},
     "output_type": "display_data"
    }
   ],
   "source": [
    "# new\n",
    "PxNew = Function(P, [y, *subset_eq_def_inst_rhs.all_instance_vars(), z])"
   ]
  },
  {
   "cell_type": "code",
   "execution_count": 35,
   "metadata": {},
   "outputs": [],
   "source": [
    "# original\n",
    "# subset_eq_def_spec_r_h_s.instance_expr"
   ]
  },
  {
   "cell_type": "code",
   "execution_count": 36,
   "metadata": {},
   "outputs": [
    {
     "data": {
      "text/html": [
       "<a class=\"ProveItLink\" href=\"../../../__pv_it/theorems/fd887bd5ac8499adb0944f106e649fd3447c9f0d0/expr.ipynb\"><img src=\"data:image/png;base64,iVBORw0KGgoAAAANSUhEUgAAADUAAAAPBAMAAAC2KZqIAAAAMFBMVEX///8AAAAAAAAAAAAAAAAA\n",
       "AAAAAAAAAAAAAAAAAAAAAAAAAAAAAAAAAAAAAAAAAAAv3aB7AAAAD3RSTlMAEHarMolUmd1mIs3v\n",
       "RLtmgJDEAAAACXBIWXMAAA7EAAAOxAGVKw4bAAAA3ElEQVQY02NgwAI43382tn7CgB3wPGBgsHfA\n",
       "LrdegYHhfgGyiF5HxwYIaz5Qz3wFJKnbinCmPRDvWcDAIKQsEpoAZHNtRCg7x8Ag3AKkC5iM2BuA\n",
       "NPcCuBTLPyXlnSD3LuD8yDwBJIfQxvSLgSEHKMbCwA5xgE8HEDwAM/kOMDCwfgF7BuIgOYQ+fgOg\n",
       "eZ9ArPsLGAWAFAdCzh9oHvNfoPILNgysYEsQ/tEHOssfaFO+Yw3DNbDINrjcHgYG3tNAs8SV2CoT\n",
       "wCLCbwUgUnb/jY33JaCG4tUXsDCDAABwgzI50p7dfQAAAABJRU5ErkJggg==\n",
       "\" style=\"display:inline;vertical-align:middle;\" /></a>"
      ],
      "text/plain": [
       "x in B"
      ]
     },
     "metadata": {},
     "output_type": "display_data"
    }
   ],
   "source": [
    "# new\n",
    "subset_eq_def_inst_rhs.instance_expr"
   ]
  },
  {
   "cell_type": "code",
   "execution_count": 37,
   "metadata": {},
   "outputs": [],
   "source": [
    "# subset_eq_def_spec_r_h_s.deduce_in_bool()"
   ]
  },
  {
   "cell_type": "code",
   "execution_count": 38,
   "metadata": {},
   "outputs": [],
   "source": [
    "#subset_eq_def_inst_rhs.deduce_in_bool()"
   ]
  },
  {
   "cell_type": "code",
   "execution_count": 39,
   "metadata": {},
   "outputs": [],
   "source": [
    "# %qed"
   ]
  },
  {
   "cell_type": "code",
   "execution_count": null,
   "metadata": {},
   "outputs": [],
   "source": []
  }
 ],
 "metadata": {
  "kernelspec": {
   "display_name": "Python 3",
   "language": "python",
   "name": "python3"
  }
 },
 "nbformat": 4,
 "nbformat_minor": 0
}