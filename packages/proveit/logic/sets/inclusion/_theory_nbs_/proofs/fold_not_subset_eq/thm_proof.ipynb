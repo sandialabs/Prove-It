{
 "cells": [
  {
   "cell_type": "markdown",
   "metadata": {},
   "source": [
    "Proof of <a class=\"ProveItLink\" href=\"../../../../../../_theory_nbs_/theory.ipynb\">proveit</a>.<a class=\"ProveItLink\" href=\"../../../../../_theory_nbs_/theory.ipynb\">logic</a>.<a class=\"ProveItLink\" href=\"../../../../_theory_nbs_/theory.ipynb\">sets</a>.<a class=\"ProveItLink\" href=\"../../theory.ipynb\">inclusion</a>.<a class=\"ProveItLink\" href=\"../../theorems.ipynb#fold_not_subset_eq\">fold_not_subset_eq</a> theorem\n",
    "========"
   ]
  },
  {
   "cell_type": "code",
   "execution_count": 1,
   "metadata": {},
   "outputs": [],
   "source": [
    "# import sys\n",
    "# sys.path.append('..') # allows access to modules in parent theory\n",
    "import proveit\n",
    "from proveit.logic.sets.inclusion  import not_subset_eq_def"
   ]
  },
  {
   "cell_type": "code",
   "execution_count": 2,
   "metadata": {},
   "outputs": [
    {
     "data": {
      "text/html": [
       "With these <a href=\"allowed_presumptions.txt\">allowed</a>/<a href=\"disallowed_presumptions.txt\">disallowed</a> theorem/theory presumptions (e.g., to avoid circular dependencies), we begin our proof of<br><strong id=\"fold_not_subset_eq\">fold_not_subset_eq:</strong> <a class=\"ProveItLink\" href=\"../../../__pv_it/theorems/b540f1826ea1153ce57888078add8db2027481ea0/expr.ipynb\"><img src=\"data:image/png;base64,iVBORw0KGgoAAAANSUhEUgAAANEAAAAYBAMAAACW8wWgAAAAMFBMVEX///8AAAAAAAAAAAAAAAAA\n",
       "AAAAAAAAAAAAAAAAAAAAAAAAAAAAAAAAAAAAAAAAAAAv3aB7AAAAD3RSTlMAq1RmmUTNIjK7EInv\n",
       "3XZ/CtNrAAAACXBIWXMAAA7EAAAOxAGVKw4bAAADT0lEQVRIx7VWTWgTQRT+ks3mZ9OmKRTRUxcV\n",
       "RBQMWL2INsUfLBUM9FIVbEVErJWm52qbXoSC0CCIjZdsQTxZqKUXzcHagyhSCahYpMFYD6UgtfWn\n",
       "9gdb38zsNJtNcopd2J2ZN/vme/O9b94usEWXd4vW9RRYKvNG0f+GNCPw2nKWY3nzF+kOss6uMoGc\n",
       "I7xxL+RMn0SjJBertw0iEAJOsvHVMpEeieaARJrLTE9OiW5FHKiNoR3oY7uOl4l0XDQNf0R7exaO\n",
       "mDnVmwVaw6ijHRuAXy8TaZw//d3LvNU+bu4SqCfI+iwqDCjEoLvcNAkl9AR+8NYRAUblXC3dHVG4\n",
       "CWYyk3lTJpJLCCLs/CmEQXdazr0GhihlflLeaeABtxk2d+tgD2fFBpCVHRYwoOreNT6k1Csj8gCv\n",
       "zH+5zDRI2+6Chytde8Wn+n+lGnk2fZY1lQh7Pia7P5FIROFNNo0N5mKp1EVonkU+7BLZ51eARLKf\n",
       "AnFSKn2Gn6/jFyQraQTG7UhD/Plch3ZPGI4C36DKwCv4AnMnGlZkeeiTnj5ay09C8dIBcGaFIFre\n",
       "inSGoSzYkfihU+9k4TPLSg0JCuyQ5JA0IvOv4F3HdulZRXwp6+TMom8ThSN7SXjpGA7ZkXh+A+4g\n",
       "uk3DBLR3OYFx9hiX00LlH7TNsjRAazl+037YEqM8tABOiZP2tU4EZEES9SzrasNO07B+sIGStltS\n",
       "xLTRTHenWTJqQtL1O5EwQO4KKw43uSBaiHiRAa3GgvSUFJBW2WtqjPLXDJnMoTBwzlyOSdjD6Ema\n",
       "5LbeyGRENeogx5eGeRBE4WhK1RpmBnoj+XsKOlksrtSTVVMaLJkeoqRfSjkNLblkYO/GdWHYJ113\n",
       "bFRXX2PcVkakKUAAMZEBtNpUHvTG+enxLMu6RclUl3PsYcp20gor9q3NHtFSpWsj8KxCe2/LU5gp\n",
       "QiXq6Rw08Sh6DQwTe/PyjTrb9zZeqgYTNS+gnb3incDhtVSjblcE7gNngni4FIFKiYsqnamxu8Js\n",
       "SiLvm+r6nMnIPElN2bGdlr4V6ULRcqfFC3tFvuyFodB1vgSSq+h/gMXakzdxpODVWbshVAIJz8zW\n",
       "keB1T1yHStX29jJ+d7RibxilXIsy8A+lHsPFvvQx6wAAAABJRU5ErkJggg==\n",
       "\" style=\"display:inline;vertical-align:middle;\" /></a><br>(see <a class=\"ProveItLink\" href=\"../../../__pv_it/theorems/e219b11b6d1671f6e2a8d30d06f85a846bfee38c0/dependencies.ipynb\">dependencies</a>)<br>"
      ],
      "text/plain": [
       "<IPython.core.display.HTML object>"
      ]
     },
     "metadata": {},
     "output_type": "display_data"
    }
   ],
   "source": [
    "%proving fold_not_subset_eq"
   ]
  },
  {
   "cell_type": "code",
   "execution_count": 3,
   "metadata": {},
   "outputs": [
    {
     "data": {
      "text/html": [
       "<span style=\"font-size:20px;\"> <a class=\"ProveItLink\" href=\"../../axioms.ipynb#not_subset_eq_def\" style=\"text-decoration: none\">&nbsp;&#x22A2;&nbsp;&nbsp;</a><a class=\"ProveItLink\" href=\"../../../__pv_it/axioms/fa6d2eeca38ae0bae56c100793dd172eed9163fb0/expr.ipynb\"><img src=\"data:image/png;base64,iVBORw0KGgoAAAANSUhEUgAAARkAAAAYBAMAAAA8FZQ1AAAAMFBMVEX///8AAAAAAAAAAAAAAAAA\n",
       "AAAAAAAAAAAAAAAAAAAAAAAAAAAAAAAAAAAAAAAAAAAv3aB7AAAAD3RSTlMAq1RmmUTNIjK7EInv\n",
       "3XZ/CtNrAAAACXBIWXMAAA7EAAAOxAGVKw4bAAAD/UlEQVRIx81WS2hTQRS9SZpPX9o0BRVdSAKC\n",
       "ICrNoggiaosfLCIW3UgRrYiI8Vc3glht3QguSoIIimgbNwUXSnUj0oW14h8lFMUifRh1IYJo/dXW\n",
       "ovXOne97eTG4EL1w8l5m7p137m9mAP5cIvCPpE3AIdWOf+FSdr9V8PhGWzkysSQHykE9usyhEyx4\n",
       "2yl5xTm1lvrIFgNxNjCnhOJ8AZT9evQ5fwR6PtbOOAPw2ttOir+PHqHRIq3FU7W1uzohlgKFVWx8\n",
       "pzcZq5WDrTklxt7aI4+G+WtVFiDRCaGcl52SXv6oE2xi523b7uTv9wF84wBpUDjGopj1ZlOR4mCv\n",
       "CZ7W42/AJ9aCDszR1gYINHjZKVnBH43feAfs0+UR/ol5/gJQDwrMs2jSm02VAMq1G8TBeqacBViO\n",
       "Q8uR0QMvOyUD9Bs9PE7PS0atBnAogIyqcgoB9CNUomzmCqAbhQ/E2NcMcFVOJxB7cPXtXnaqbHjW\n",
       "jsY+0XO6MeXD5IXuIlIaj2z7YQk2awUw9lBH0We883Ia036BldAVLzuVNV7EDf7P9DQrCuvOmo3x\n",
       "jcY11gCcpcmiYiSnueMbIEOrYpUF+uQmOPH+Jc0uoq/aJHEAZ7BC5EUwGZkkm7gxlel+P4PNBlo1\n",
       "DkCYVKx7pHLiS3+TLNMhAXQNOkjpAOgWimFdLmCrLXB7MSTJYX1XJ3lswx8p4yabD23gv8WSOaBR\n",
       "mYs2U53xxAbyEBsQ6rcFIHZqZSIrtuFjcrFKVIuy2sy42dyWTYPfrqLF365snKChvKF2DsGaIzKq\n",
       "4S/wIt70mJcWtuyom81lgBpapyIJM+ViNXHeErC5LBsLO++H2e8kLFqsJ4MDGtDKd/rCNl5aSbiU\n",
       "cmeKRZwCZj3VO1sG1Xxf8WWhu26GDDaUqQrECC+jZn34srpO4H9/XgOupikZsJpvaa/rlffdAsGU\n",
       "2tl7p6WMtEOGcVvsjk23ZINeVLJjbKM6WqzaFjDqLjLGiiOrAe3kzyZ4RzpLwZom9a8ItLMq4Xsp\n",
       "bN1r2/xk2IM07+RcDa3spLC2DbO49vB9L3hdngwhHN2cFpuAhNjp1/YnqFmQSoeMZhfHxak0+HvG\n",
       "+pwH4ix25lHDPHWz6TIvQ3mwesZyMG9qt1PJxw7dk9QazRoibEiCWA2i+7LDqzs5TCk+YMP5oguQ\n",
       "aTNc9hJ1xAAXzGxN0uqD8HewnqiDpAHcZ2IkC789I5WdkvqybFYY4CveBGv9jsggLJrsb9Jn6GkB\n",
       "/eUXrHGc7h4qXt+0qXTc6dZR5znizW4QEg7xu/5fFCh1Cy36tGGnLjvZMqFhdCUc0uIuiQKHliXF\n",
       "t06P+6zD5mgZNm8MOCRVNsdp+J+k7a+u/gtJyha8EVNJ2gAAAABJRU5ErkJggg==\n",
       "\" style=\"display:inline;vertical-align:middle;\" /></a></span>"
      ],
      "text/plain": [
       "|- forall_{A, B} ((A not_subset_eq B) = [not](A subset_eq B))"
      ]
     },
     "metadata": {},
     "output_type": "display_data"
    }
   ],
   "source": [
    "# Pull in the definition of NotSubsetEq\n",
    "not_subset_eq_def"
   ]
  },
  {
   "cell_type": "code",
   "execution_count": 4,
   "metadata": {},
   "outputs": [
    {
     "data": {
      "text/html": [
       "<strong id=\"not_subset_eq_def_inst\">not_subset_eq_def_inst:</strong> <span style=\"font-size:20px;\"> <a class=\"ProveItLink\" href=\"../../../__pv_it/_proof_fold_not_subset_eq/b074aac40583c0e09812c627a1d7b9b5317d752b0/proof.ipynb\" style=\"text-decoration: none\">&nbsp;&#x22A2;&nbsp;&nbsp;</a><a class=\"ProveItLink\" href=\"../../../__pv_it/axioms/f53b5f0246bd8b945538e1509a4e69f9f61a41a60/expr.ipynb\"><img src=\"data:image/png;base64,iVBORw0KGgoAAAANSUhEUgAAANEAAAAYBAMAAACW8wWgAAAAMFBMVEX///8AAAAAAAAAAAAAAAAA\n",
       "AAAAAAAAAAAAAAAAAAAAAAAAAAAAAAAAAAAAAAAAAAAv3aB7AAAAD3RSTlMAInZUiRDNmWbv3US7\n",
       "qzJazP2FAAAACXBIWXMAAA7EAAAOxAGVKw4bAAAC+ElEQVRIx71VTWgTQRR+m83mP2koIihKW714\n",
       "qDSHUqgIjXgWg4eeWqhgwKpgDoX2Uggi9iI0Fz1YD5HgoSnUoh701NiL4MH0pAeNyclDQRJ/KKKt\n",
       "6Zs3M7uzs9j1Uh98O7Mz87735s2bNwBeScEBSVofiLn+DD8d4x/4aX0gQ/+HnalbroXxfq+y0OFy\n",
       "ktub+pulpwIwzP9vOlOPeROp7zbevQU45VUeVvpmlppQx7NKEASKQLC4L2ZXTA9Wlx+s8m60BtBs\n",
       "QSinU1iq/+O8GevYBNWqmyCPXUS4SIPhJg/95wFItoROH8ZtvQCRgm5J6HCZ4838V5AEtgiCBewi\n",
       "onzw3EXitx7ZTgIs4tAiLr6nW4qqPyX6Bg/9AUkAGkEUg4IY4efZP0SHnFwDOC8XNhHTuNWruqUR\n",
       "9Zh4JHsD30ESgEYQwhAgZng8YIwiEkKU5cKHAJMs4hd0SzNqJHlCFMyfIAlAIwhuErjDz6BNGl8w\n",
       "Y7LyAu+cOE2zd4ixSrLJ+uomQ+RhPJP6AYLAqQCCIDJFqHCXoI84joOTagE841HGM6rvqSINY67E\n",
       "Mjwmxi4IAufWCQKzRFiisdezzZooD7ZXCVwQZOfc1i0tyeqA3kXpYAZn53c89UUSpDoE0roE0EPH\n",
       "E87AJ7mwB3ki37Dz0teShRn6y3MBJEG8RKjw4EGMstVacW5lG5WSv7FzRj+nimKJohdGLPOx644l\n",
       "SWCWCRvsPIt2NRl/bzs1hAneZnbv6nvakJbQwwQriy+ccjb5IacTRGoElsJHWFDFHV+/JovJNLpw\n",
       "P6clNYma9iyFDRaPuqjvz9/oBOwiILYAJrp5MOvbWXfx/NhtNG5QYq3olrbUVC6DVd/OwdnuFW2V\n",
       "TRBbI8Ra7vnLnpJslD0PmKqz6vsAHuXQ6meqBvvWU/4cqDoLvpbmBF65WJ9UnaIv5JhXV9VJuN5s\n",
       "nqIuAqPGARP7vOweWiGqjlXz2RJzhdwxXK/3be9LnvYqu3R6fSwNCGiSh/8l6QNj3gPI/9ZY5CKP\n",
       "yQAAAABJRU5ErkJggg==\n",
       "\" style=\"display:inline;vertical-align:middle;\" /></a></span><br>"
      ],
      "text/plain": [
       "<IPython.core.display.HTML object>"
      ]
     },
     "metadata": {},
     "output_type": "display_data"
    }
   ],
   "source": [
    "not_subset_eq_def_inst = not_subset_eq_def.instantiate()"
   ]
  },
  {
   "cell_type": "code",
   "execution_count": 5,
   "metadata": {},
   "outputs": [
    {
     "data": {
      "text/html": [
       "<span style=\"font-size:20px;\"><a class=\"ProveItLink\" href=\"../../../__pv_it/axioms/f43a96138feea14ad205ba8888cca7ad3836bc940/expr.ipynb\"><img src=\"data:image/png;base64,iVBORw0KGgoAAAANSUhEUgAAAFoAAAAVBAMAAAA0iOSIAAAAMFBMVEX///8AAAAAAAAAAAAAAAAA\n",
       "AAAAAAAAAAAAAAAAAAAAAAAAAAAAAAAAAAAAAAAAAAAv3aB7AAAAD3RSTlMAmd0iq3ZUiRDNZu9E\n",
       "uzLWhN+VAAAACXBIWXMAAA7EAAAOxAGVKw4bAAABfElEQVQoz2NgQAADBryAGYXHmgCmLHGp5glA\n",
       "5qVDqPmY6tb+d3GZ+4AhCkmIYwKYYvsPs+qSkpLSAwh7LwMDyz8GzgaEasYFEMof4ny+qQhvMH8F\n",
       "uuMjA5cAQjU3hCquh5jXhORnrn9ADNSxAyGUCTEmIB7iWR8kR7J8YGDg3MzAMAshJA5xCEM+xEUT\n",
       "kFRzX2DgcAJaWYIQgmg8xvC+AOxsByTV76+GeoLMWMkgBPS5kiKQqQaWEGCwB6tjRlYdb8DAtgtI\n",
       "Z0O4JkC8BxxsFwX9L4CFFJBU3wZikOffo6luZWDgh6iTQlL9BYjXA2PyNEK1GsQhDEwbwEKcB+CK\n",
       "+X4BCX8gPwnCNwTiq6CkAPQL5wdI1LqcgCegz0AdP0EpAGEdKHisgZj3MzQR1cJinhNo2+kZ8EAG\n",
       "g0cMDL3/ZzCw3f9ZgJqmWO5/cfG8BmLpIASZHjAQAMxI4YScZrADaLqDgMsoUuBYU0KxzxaZ00vI\n",
       "bBTjmAPwK2Y1YAAAhYZSOww94fEAAAAASUVORK5CYII=\n",
       "\" style=\"display:inline;vertical-align:middle;\" /></a> <a class=\"ProveItLink\" href=\"../../../__pv_it/_proof_fold_not_subset_eq/aa04a497c874eee9ea41adf8c38de496180617760/proof.ipynb\" style=\"text-decoration: none\">&nbsp;&#x22A2;&nbsp;&nbsp;</a><a class=\"ProveItLink\" href=\"../../../__pv_it/axioms/672834769cf65c7eb1064976d830e7fc35b718a20/expr.ipynb\"><img src=\"data:image/png;base64,iVBORw0KGgoAAAANSUhEUgAAADsAAAAYBAMAAAC2M5gYAAAAMFBMVEX///8AAAAAAAAAAAAAAAAA\n",
       "AAAAAAAAAAAAAAAAAAAAAAAAAAAAAAAAAAAAAAAAAAAv3aB7AAAAD3RSTlMAIs1UmauJMnZmRLsQ\n",
       "3e++988cAAAACXBIWXMAAA7EAAAOxAGVKw4bAAABNklEQVQoz2NgQAPsDHgBLxYxIQRzBhZpfQTz\n",
       "DoTi3P81NGg7hM38HyrXfffe2+sQJt8GBob4AjCTJV4ATBc1MrAWQFXKNzAwrHcAMxPzwYI8FxkY\n",
       "DsEsmQ8Umt8AYjE29BuAaNYFDAzJMOl4INYDG8rCYD8BRDMB8QWY9GsGhqMQZyxmqE8A0aVAByfA\n",
       "Qud3R6smhOnAIB8AokWBBhyASnN8ZGCwA5vJscUlfgM0wEphZnM/YGBg+w5inWBg4AdbyWLAEA6T\n",
       "5geax/kDYjYD7wOwx27xKMCk64EGs/4CMriADKYPYLFDIRNg0v1AP9WDFMuBbPoIEVyve/cuxDd6\n",
       "QH2PgO48/V+HgXn/J4iHzGCao/+HhmoboMecIt6kwL4BnyzL/bt3YXYTm5CQwDT80jr4pQUwRABo\n",
       "IEeXjrsOdwAAAABJRU5ErkJggg==\n",
       "\" style=\"display:inline;vertical-align:middle;\" /></a></span>"
      ],
      "text/plain": [
       "{[not](A subset_eq B)} |- A not_subset_eq B"
      ]
     },
     "metadata": {},
     "output_type": "display_data"
    },
    {
     "name": "stdout",
     "output_type": "stream",
     "text": [
      "fold_not_subset_eq may now be readily provable (assuming required theorems are usable).  Simply execute \"%qed\".\n"
     ]
    }
   ],
   "source": [
    "not_subset_eq_def_inst.derive_left_via_equality(assumptions=[not_subset_eq_def_inst.rhs])"
   ]
  },
  {
   "cell_type": "code",
   "execution_count": 6,
   "metadata": {},
   "outputs": [
    {
     "name": "stdout",
     "output_type": "stream",
     "text": [
      "proveit.logic.sets.inclusion.fold_not_subset_eq has been proven.\n"
     ]
    },
    {
     "data": {
      "text/html": [
       "<table><tr><th>&nbsp;</th><th>step type</th><th>requirements</th><th>statement</th></tr>\n",
       "<tr><td><a name=\"-0x129886f1131fec07_step0\">0</a></td><td>generalization</td><td><a href=\"#-0x129886f1131fec07_step1\">1</a></td><td><span style=\"font-size:20px;\"> <a class=\"ProveItLink\" href=\"../../../__pv_it/_proof_fold_not_subset_eq/40f0a5730d07b4274f001d87074da0266613ed080/proof.ipynb\" style=\"text-decoration: none\">&nbsp;&#x22A2;&nbsp;&nbsp;</a><a class=\"ProveItLink\" href=\"../../../__pv_it/theorems/b540f1826ea1153ce57888078add8db2027481ea0/expr.ipynb\"><img src=\"data:image/png;base64,iVBORw0KGgoAAAANSUhEUgAAANEAAAAYBAMAAACW8wWgAAAAMFBMVEX///8AAAAAAAAAAAAAAAAA\n",
       "AAAAAAAAAAAAAAAAAAAAAAAAAAAAAAAAAAAAAAAAAAAv3aB7AAAAD3RSTlMAq1RmmUTNIjK7EInv\n",
       "3XZ/CtNrAAAACXBIWXMAAA7EAAAOxAGVKw4bAAADT0lEQVRIx7VWTWgTQRT+ks3mZ9OmKRTRUxcV\n",
       "RBQMWL2INsUfLBUM9FIVbEVErJWm52qbXoSC0CCIjZdsQTxZqKUXzcHagyhSCahYpMFYD6UgtfWn\n",
       "9gdb38zsNJtNcopd2J2ZN/vme/O9b94usEWXd4vW9RRYKvNG0f+GNCPw2nKWY3nzF+kOss6uMoGc\n",
       "I7xxL+RMn0SjJBertw0iEAJOsvHVMpEeieaARJrLTE9OiW5FHKiNoR3oY7uOl4l0XDQNf0R7exaO\n",
       "mDnVmwVaw6ijHRuAXy8TaZw//d3LvNU+bu4SqCfI+iwqDCjEoLvcNAkl9AR+8NYRAUblXC3dHVG4\n",
       "CWYyk3lTJpJLCCLs/CmEQXdazr0GhihlflLeaeABtxk2d+tgD2fFBpCVHRYwoOreNT6k1Csj8gCv\n",
       "zH+5zDRI2+6Chytde8Wn+n+lGnk2fZY1lQh7Pia7P5FIROFNNo0N5mKp1EVonkU+7BLZ51eARLKf\n",
       "AnFSKn2Gn6/jFyQraQTG7UhD/Plch3ZPGI4C36DKwCv4AnMnGlZkeeiTnj5ay09C8dIBcGaFIFre\n",
       "inSGoSzYkfihU+9k4TPLSg0JCuyQ5JA0IvOv4F3HdulZRXwp6+TMom8ThSN7SXjpGA7ZkXh+A+4g\n",
       "uk3DBLR3OYFx9hiX00LlH7TNsjRAazl+037YEqM8tABOiZP2tU4EZEES9SzrasNO07B+sIGStltS\n",
       "xLTRTHenWTJqQtL1O5EwQO4KKw43uSBaiHiRAa3GgvSUFJBW2WtqjPLXDJnMoTBwzlyOSdjD6Ema\n",
       "5LbeyGRENeogx5eGeRBE4WhK1RpmBnoj+XsKOlksrtSTVVMaLJkeoqRfSjkNLblkYO/GdWHYJ113\n",
       "bFRXX2PcVkakKUAAMZEBtNpUHvTG+enxLMu6RclUl3PsYcp20gor9q3NHtFSpWsj8KxCe2/LU5gp\n",
       "QiXq6Rw08Sh6DQwTe/PyjTrb9zZeqgYTNS+gnb3incDhtVSjblcE7gNngni4FIFKiYsqnamxu8Js\n",
       "SiLvm+r6nMnIPElN2bGdlr4V6ULRcqfFC3tFvuyFodB1vgSSq+h/gMXakzdxpODVWbshVAIJz8zW\n",
       "keB1T1yHStX29jJ+d7RibxilXIsy8A+lHsPFvvQx6wAAAABJRU5ErkJggg==\n",
       "\" style=\"display:inline;vertical-align:middle;\" /></a></span></td></tr>\n",
       "<tr><td><a name=\"-0x129886f1131fec07_step1\">1</a></td><td>instantiation</td><td><a href=\"#-0x129886f1131fec07_step2\">2</a>, <a href=\"#-0x129886f1131fec07_step3\">3</a>, <a href=\"#-0x129886f1131fec07_step4\">4</a></td><td><span style=\"font-size:20px;\"><a class=\"ProveItLink\" href=\"../../../__pv_it/axioms/f43a96138feea14ad205ba8888cca7ad3836bc940/expr.ipynb\"><img src=\"data:image/png;base64,iVBORw0KGgoAAAANSUhEUgAAAFoAAAAVBAMAAAA0iOSIAAAAMFBMVEX///8AAAAAAAAAAAAAAAAA\n",
       "AAAAAAAAAAAAAAAAAAAAAAAAAAAAAAAAAAAAAAAAAAAv3aB7AAAAD3RSTlMAmd0iq3ZUiRDNZu9E\n",
       "uzLWhN+VAAAACXBIWXMAAA7EAAAOxAGVKw4bAAABfElEQVQoz2NgQAADBryAGYXHmgCmLHGp5glA\n",
       "5qVDqPmY6tb+d3GZ+4AhCkmIYwKYYvsPs+qSkpLSAwh7LwMDyz8GzgaEasYFEMof4ny+qQhvMH8F\n",
       "uuMjA5cAQjU3hCquh5jXhORnrn9ADNSxAyGUCTEmIB7iWR8kR7J8YGDg3MzAMAshJA5xCEM+xEUT\n",
       "kFRzX2DgcAJaWYIQgmg8xvC+AOxsByTV76+GeoLMWMkgBPS5kiKQqQaWEGCwB6tjRlYdb8DAtgtI\n",
       "Z0O4JkC8BxxsFwX9L4CFFJBU3wZikOffo6luZWDgh6iTQlL9BYjXA2PyNEK1GsQhDEwbwEKcB+CK\n",
       "+X4BCX8gPwnCNwTiq6CkAPQL5wdI1LqcgCegz0AdP0EpAGEdKHisgZj3MzQR1cJinhNo2+kZ8EAG\n",
       "g0cMDL3/ZzCw3f9ZgJqmWO5/cfG8BmLpIASZHjAQAMxI4YScZrADaLqDgMsoUuBYU0KxzxaZ00vI\n",
       "bBTjmAPwK2Y1YAAAhYZSOww94fEAAAAASUVORK5CYII=\n",
       "\" style=\"display:inline;vertical-align:middle;\" /></a> <a class=\"ProveItLink\" href=\"../../../__pv_it/_proof_fold_not_subset_eq/aa04a497c874eee9ea41adf8c38de496180617760/proof.ipynb\" style=\"text-decoration: none\">&nbsp;&#x22A2;&nbsp;&nbsp;</a><a class=\"ProveItLink\" href=\"../../../__pv_it/axioms/672834769cf65c7eb1064976d830e7fc35b718a20/expr.ipynb\"><img src=\"data:image/png;base64,iVBORw0KGgoAAAANSUhEUgAAADsAAAAYBAMAAAC2M5gYAAAAMFBMVEX///8AAAAAAAAAAAAAAAAA\n",
       "AAAAAAAAAAAAAAAAAAAAAAAAAAAAAAAAAAAAAAAAAAAv3aB7AAAAD3RSTlMAIs1UmauJMnZmRLsQ\n",
       "3e++988cAAAACXBIWXMAAA7EAAAOxAGVKw4bAAABNklEQVQoz2NgQAPsDHgBLxYxIQRzBhZpfQTz\n",
       "DoTi3P81NGg7hM38HyrXfffe2+sQJt8GBob4AjCTJV4ATBc1MrAWQFXKNzAwrHcAMxPzwYI8FxkY\n",
       "DsEsmQ8Umt8AYjE29BuAaNYFDAzJMOl4INYDG8rCYD8BRDMB8QWY9GsGhqMQZyxmqE8A0aVAByfA\n",
       "Qud3R6smhOnAIB8AokWBBhyASnN8ZGCwA5vJscUlfgM0wEphZnM/YGBg+w5inWBg4AdbyWLAEA6T\n",
       "5geax/kDYjYD7wOwx27xKMCk64EGs/4CMriADKYPYLFDIRNg0v1AP9WDFMuBbPoIEVyve/cuxDd6\n",
       "QH2PgO48/V+HgXn/J4iHzGCao/+HhmoboMecIt6kwL4BnyzL/bt3YXYTm5CQwDT80jr4pQUwRABo\n",
       "IEeXjrsOdwAAAABJRU5ErkJggg==\n",
       "\" style=\"display:inline;vertical-align:middle;\" /></a></span></td></tr>\n",
       "<tr><td>&nbsp;</td><td colspan=4 style=\"text-align:left\"><span style=\"font-size:20px;\"><a class=\"ProveItLink\" href=\"../../../../../../__pv_it/common/de55da274ba0f49c86925fbf3828021c04d27faf0/expr.ipynb\"><img src=\"data:image/png;base64,iVBORw0KGgoAAAANSUhEUgAAABAAAAAOBAMAAADUAYG5AAAAMFBMVEX///8AAAAAAAAAAAAAAAAA\n",
       "AAAAAAAAAAAAAAAAAAAAAAAAAAAAAAAAAAAAAAAAAAAv3aB7AAAAD3RSTlMAdrurzZkQ7zJUiSLd\n",
       "ZkQEbk8lAAAACXBIWXMAAA7EAAAOxAGVKw4bAAAAWklEQVQI12NgYBD6r2zkmsAABF8YGJjKgDTH\n",
       "RwYGTiBmYPwBxL+ADKYPQAzkMPArMDD0CzCAiV0nQZrkrVbdA9EM+gxQ8AVKc/yCMhj/QRksHyA0\n",
       "q/4nkBkMAGrBE2oHiyZAAAAAAElFTkSuQmCC\n",
       "\" style=\"display:inline;vertical-align:middle;\" /></a> : <a class=\"ProveItLink\" href=\"../../../__pv_it/axioms/672834769cf65c7eb1064976d830e7fc35b718a20/expr.ipynb\"><img src=\"data:image/png;base64,iVBORw0KGgoAAAANSUhEUgAAADsAAAAYBAMAAAC2M5gYAAAAMFBMVEX///8AAAAAAAAAAAAAAAAA\n",
       "AAAAAAAAAAAAAAAAAAAAAAAAAAAAAAAAAAAAAAAAAAAv3aB7AAAAD3RSTlMAIs1UmauJMnZmRLsQ\n",
       "3e++988cAAAACXBIWXMAAA7EAAAOxAGVKw4bAAABNklEQVQoz2NgQAPsDHgBLxYxIQRzBhZpfQTz\n",
       "DoTi3P81NGg7hM38HyrXfffe2+sQJt8GBob4AjCTJV4ATBc1MrAWQFXKNzAwrHcAMxPzwYI8FxkY\n",
       "DsEsmQ8Umt8AYjE29BuAaNYFDAzJMOl4INYDG8rCYD8BRDMB8QWY9GsGhqMQZyxmqE8A0aVAByfA\n",
       "Qud3R6smhOnAIB8AokWBBhyASnN8ZGCwA5vJscUlfgM0wEphZnM/YGBg+w5inWBg4AdbyWLAEA6T\n",
       "5geax/kDYjYD7wOwx27xKMCk64EGs/4CMriADKYPYLFDIRNg0v1AP9WDFMuBbPoIEVyve/cuxDd6\n",
       "QH2PgO48/V+HgXn/J4iHzGCao/+HhmoboMecIt6kwL4BnyzL/bt3YXYTm5CQwDT80jr4pQUwRABo\n",
       "IEeXjrsOdwAAAABJRU5ErkJggg==\n",
       "\" style=\"display:inline;vertical-align:middle;\" /></a>, <a class=\"ProveItLink\" href=\"../../../../../../__pv_it/common/d72bb8b07403efe79afab564c36a28e21330e5f90/expr.ipynb\"><img src=\"data:image/png;base64,iVBORw0KGgoAAAANSUhEUgAAAA8AAAASBAMAAAB2sJk8AAAAMFBMVEX///8AAAAAAAAAAAAAAAAA\n",
       "AAAAAAAAAAAAAAAAAAAAAAAAAAAAAAAAAAAAAAAAAAAv3aB7AAAAD3RSTlMAIomZq2bNMhC7791E\n",
       "VHYkqjbgAAAACXBIWXMAAA7EAAAOxAGVKw4bAAAAgklEQVQI12NgYGBUVnJlAAG1AgaWBCDdNgFI\n",
       "LAbibJCoPwMD83cQQ7+AQR4kw2B/gMH+AoiRL8CwvwFIc/xiYPgFEmD9ysCwG8ToSgBp5LnAYCXA\n",
       "wFB/IVyUaSFQlG/hAyYXkAaGkknaBxgKwLZyHuATgDAcroFpBub/3yEM9l1AawBt/xzBtQnGvwAA\n",
       "AABJRU5ErkJggg==\n",
       "\" style=\"display:inline;vertical-align:middle;\" /></a> : <a class=\"ProveItLink\" href=\"../../../__pv_it/axioms/f43a96138feea14ad205ba8888cca7ad3836bc940/expr.ipynb\"><img src=\"data:image/png;base64,iVBORw0KGgoAAAANSUhEUgAAAFoAAAAVBAMAAAA0iOSIAAAAMFBMVEX///8AAAAAAAAAAAAAAAAA\n",
       "AAAAAAAAAAAAAAAAAAAAAAAAAAAAAAAAAAAAAAAAAAAv3aB7AAAAD3RSTlMAmd0iq3ZUiRDNZu9E\n",
       "uzLWhN+VAAAACXBIWXMAAA7EAAAOxAGVKw4bAAABfElEQVQoz2NgQAADBryAGYXHmgCmLHGp5glA\n",
       "5qVDqPmY6tb+d3GZ+4AhCkmIYwKYYvsPs+qSkpLSAwh7LwMDyz8GzgaEasYFEMof4ny+qQhvMH8F\n",
       "uuMjA5cAQjU3hCquh5jXhORnrn9ADNSxAyGUCTEmIB7iWR8kR7J8YGDg3MzAMAshJA5xCEM+xEUT\n",
       "kFRzX2DgcAJaWYIQgmg8xvC+AOxsByTV76+GeoLMWMkgBPS5kiKQqQaWEGCwB6tjRlYdb8DAtgtI\n",
       "Z0O4JkC8BxxsFwX9L4CFFJBU3wZikOffo6luZWDgh6iTQlL9BYjXA2PyNEK1GsQhDEwbwEKcB+CK\n",
       "+X4BCX8gPwnCNwTiq6CkAPQL5wdI1LqcgCegz0AdP0EpAGEdKHisgZj3MzQR1cJinhNo2+kZ8EAG\n",
       "g0cMDL3/ZzCw3f9ZgJqmWO5/cfG8BmLpIASZHjAQAMxI4YScZrADaLqDgMsoUuBYU0KxzxaZ00vI\n",
       "bBTjmAPwK2Y1YAAAhYZSOww94fEAAAAASUVORK5CYII=\n",
       "\" style=\"display:inline;vertical-align:middle;\" /></a></span></td></tr><tr><td><a name=\"-0x129886f1131fec07_step2\">2</a></td><td>theorem</td><td></td><td><span style=\"font-size:20px;\"> <a class=\"ProveItLink\" href=\"../../../../../equality/_theory_nbs_/proofs/lhs_via_equality/thm_proof.ipynb\" style=\"text-decoration: none\">&nbsp;&#x22A2;&nbsp;&nbsp;</a><a class=\"ProveItLink\" href=\"../../../../../equality/__pv_it/theorems/031640b4b39fda11207f722712c88a33cea8f6040/expr.ipynb\"><img src=\"data:image/png;base64,iVBORw0KGgoAAAANSUhEUgAAAIwAAAAVBAMAAABmhxuGAAAAMFBMVEX///8AAAAAAAAAAAAAAAAA\n",
       "AAAAAAAAAAAAAAAAAAAAAAAAAAAAAAAAAAAAAAAAAAAv3aB7AAAAD3RSTlMAq1RmmUTNIjK7EInv\n",
       "3XZ/CtNrAAAACXBIWXMAAA7EAAAOxAGVKw4bAAABx0lEQVQ4y6VUPUsDQRQck5gzRmOEoKiNYGeV\n",
       "xk4lFqJgk0owlYUgCELE0kC0sVXRRpu7XxBErBRBtFMUPzohEO1EiBH8Dqhv97L3NmdAjQ/23s7s\n",
       "7Oztvr1DGBRdqDpuP1faJiwMiv5k9TZ4BgJHWKCesVy9S90H4PmA3wKCndXbhF6pFeGNAv5/7ClQ\n",
       "oEZWJ9ns8T9smuhAlnLAMLBRYdj3SxuymLugPAODil5rjgy0CvouP2S/bEmm8NjjdnPSmaxY4L5j\n",
       "t0fqrWCcUh+wR2k0iVRSs3Gw9wzBM+XisIBZojw5ecIRMiZASt8y2zCuiSFUUFMcVl4bO8b7xfMA\n",
       "OAfS87RugW0YN3SiMVyawSzqispma0rcwHfMxIAW6gb32YZx2jIi8K1TrGosQk/KJiUW8Z7muymJ\n",
       "0vvDbMO4N39jqRnMwq82ipp58bDZQ1FC7YgZN2tFZtZnvuX08jdEZVpDApdawRkfyln2pph1R5rM\n",
       "6zeRms0sRjUbG9OA8aKJWeX+wMwdOvUDGAPX7YZmY2MauC1arGZVxfBQq41lym6xxB63UqkqRkKs\n",
       "9HBVZiNxwq1Uqooh9zsdL7OR+PtBlFQ/hvGn38UXqIeD+S1ymPUAAAAASUVORK5CYII=\n",
       "\" style=\"display:inline;vertical-align:middle;\" /></a></span></td></tr>\n",
       "<tr><td>&nbsp;</td><td colspan=4 style-\"text-align:left\"><a class=\"ProveItLink\" href=\"../../../../../equality/_theory_nbs_/proofs/lhs_via_equality/thm_proof.ipynb\">proveit.logic.equality.lhs_via_equality</a></td></tr><tr><td><a name=\"-0x129886f1131fec07_step3\">3</a></td><td>assumption</td><td></td><td><span style=\"font-size:20px;\"><a class=\"ProveItLink\" href=\"../../../__pv_it/axioms/f43a96138feea14ad205ba8888cca7ad3836bc940/expr.ipynb\"><img src=\"data:image/png;base64,iVBORw0KGgoAAAANSUhEUgAAAFoAAAAVBAMAAAA0iOSIAAAAMFBMVEX///8AAAAAAAAAAAAAAAAA\n",
       "AAAAAAAAAAAAAAAAAAAAAAAAAAAAAAAAAAAAAAAAAAAv3aB7AAAAD3RSTlMAmd0iq3ZUiRDNZu9E\n",
       "uzLWhN+VAAAACXBIWXMAAA7EAAAOxAGVKw4bAAABfElEQVQoz2NgQAADBryAGYXHmgCmLHGp5glA\n",
       "5qVDqPmY6tb+d3GZ+4AhCkmIYwKYYvsPs+qSkpLSAwh7LwMDyz8GzgaEasYFEMof4ny+qQhvMH8F\n",
       "uuMjA5cAQjU3hCquh5jXhORnrn9ADNSxAyGUCTEmIB7iWR8kR7J8YGDg3MzAMAshJA5xCEM+xEUT\n",
       "kFRzX2DgcAJaWYIQgmg8xvC+AOxsByTV76+GeoLMWMkgBPS5kiKQqQaWEGCwB6tjRlYdb8DAtgtI\n",
       "Z0O4JkC8BxxsFwX9L4CFFJBU3wZikOffo6luZWDgh6iTQlL9BYjXA2PyNEK1GsQhDEwbwEKcB+CK\n",
       "+X4BCX8gPwnCNwTiq6CkAPQL5wdI1LqcgCegz0AdP0EpAGEdKHisgZj3MzQR1cJinhNo2+kZ8EAG\n",
       "g0cMDL3/ZzCw3f9ZgJqmWO5/cfG8BmLpIASZHjAQAMxI4YScZrADaLqDgMsoUuBYU0KxzxaZ00vI\n",
       "bBTjmAPwK2Y1YAAAhYZSOww94fEAAAAASUVORK5CYII=\n",
       "\" style=\"display:inline;vertical-align:middle;\" /></a> <a class=\"ProveItLink\" href=\"../../../__pv_it/_proof_fold_not_subset_eq/61d8305fb7b2e856d2b36bd6e6b03ace57ef58d80/proof.ipynb\" style=\"text-decoration: none\">&nbsp;&#x22A2;&nbsp;&nbsp;</a><a class=\"ProveItLink\" href=\"../../../__pv_it/axioms/f43a96138feea14ad205ba8888cca7ad3836bc940/expr.ipynb\"><img src=\"data:image/png;base64,iVBORw0KGgoAAAANSUhEUgAAAFoAAAAVBAMAAAA0iOSIAAAAMFBMVEX///8AAAAAAAAAAAAAAAAA\n",
       "AAAAAAAAAAAAAAAAAAAAAAAAAAAAAAAAAAAAAAAAAAAv3aB7AAAAD3RSTlMAmd0iq3ZUiRDNZu9E\n",
       "uzLWhN+VAAAACXBIWXMAAA7EAAAOxAGVKw4bAAABfElEQVQoz2NgQAADBryAGYXHmgCmLHGp5glA\n",
       "5qVDqPmY6tb+d3GZ+4AhCkmIYwKYYvsPs+qSkpLSAwh7LwMDyz8GzgaEasYFEMof4ny+qQhvMH8F\n",
       "uuMjA5cAQjU3hCquh5jXhORnrn9ADNSxAyGUCTEmIB7iWR8kR7J8YGDg3MzAMAshJA5xCEM+xEUT\n",
       "kFRzX2DgcAJaWYIQgmg8xvC+AOxsByTV76+GeoLMWMkgBPS5kiKQqQaWEGCwB6tjRlYdb8DAtgtI\n",
       "Z0O4JkC8BxxsFwX9L4CFFJBU3wZikOffo6luZWDgh6iTQlL9BYjXA2PyNEK1GsQhDEwbwEKcB+CK\n",
       "+X4BCX8gPwnCNwTiq6CkAPQL5wdI1LqcgCegz0AdP0EpAGEdKHisgZj3MzQR1cJinhNo2+kZ8EAG\n",
       "g0cMDL3/ZzCw3f9ZgJqmWO5/cfG8BmLpIASZHjAQAMxI4YScZrADaLqDgMsoUuBYU0KxzxaZ00vI\n",
       "bBTjmAPwK2Y1YAAAhYZSOww94fEAAAAASUVORK5CYII=\n",
       "\" style=\"display:inline;vertical-align:middle;\" /></a></span></td></tr>\n",
       "<tr><td><a name=\"-0x129886f1131fec07_step4\">4</a></td><td>instantiation</td><td><a href=\"#-0x129886f1131fec07_step5\">5</a></td><td><span style=\"font-size:20px;\"> <a class=\"ProveItLink\" href=\"../../../__pv_it/_proof_fold_not_subset_eq/b074aac40583c0e09812c627a1d7b9b5317d752b0/proof.ipynb\" style=\"text-decoration: none\">&nbsp;&#x22A2;&nbsp;&nbsp;</a><a class=\"ProveItLink\" href=\"../../../__pv_it/axioms/f53b5f0246bd8b945538e1509a4e69f9f61a41a60/expr.ipynb\"><img src=\"data:image/png;base64,iVBORw0KGgoAAAANSUhEUgAAANEAAAAYBAMAAACW8wWgAAAAMFBMVEX///8AAAAAAAAAAAAAAAAA\n",
       "AAAAAAAAAAAAAAAAAAAAAAAAAAAAAAAAAAAAAAAAAAAv3aB7AAAAD3RSTlMAInZUiRDNmWbv3US7\n",
       "qzJazP2FAAAACXBIWXMAAA7EAAAOxAGVKw4bAAAC+ElEQVRIx71VTWgTQRR+m83mP2koIihKW714\n",
       "qDSHUqgIjXgWg4eeWqhgwKpgDoX2Uggi9iI0Fz1YD5HgoSnUoh701NiL4MH0pAeNyclDQRJ/KKKt\n",
       "6Zs3M7uzs9j1Uh98O7Mz87735s2bNwBeScEBSVofiLn+DD8d4x/4aX0gQ/+HnalbroXxfq+y0OFy\n",
       "ktub+pulpwIwzP9vOlOPeROp7zbevQU45VUeVvpmlppQx7NKEASKQLC4L2ZXTA9Wlx+s8m60BtBs\n",
       "QSinU1iq/+O8GevYBNWqmyCPXUS4SIPhJg/95wFItoROH8ZtvQCRgm5J6HCZ4838V5AEtgiCBewi\n",
       "onzw3EXitx7ZTgIs4tAiLr6nW4qqPyX6Bg/9AUkAGkEUg4IY4efZP0SHnFwDOC8XNhHTuNWruqUR\n",
       "9Zh4JHsD30ESgEYQwhAgZng8YIwiEkKU5cKHAJMs4hd0SzNqJHlCFMyfIAlAIwhuErjDz6BNGl8w\n",
       "Y7LyAu+cOE2zd4ixSrLJ+uomQ+RhPJP6AYLAqQCCIDJFqHCXoI84joOTagE841HGM6rvqSINY67E\n",
       "Mjwmxi4IAufWCQKzRFiisdezzZooD7ZXCVwQZOfc1i0tyeqA3kXpYAZn53c89UUSpDoE0roE0EPH\n",
       "E87AJ7mwB3ki37Dz0teShRn6y3MBJEG8RKjw4EGMstVacW5lG5WSv7FzRj+nimKJohdGLPOx644l\n",
       "SWCWCRvsPIt2NRl/bzs1hAneZnbv6nvakJbQwwQriy+ccjb5IacTRGoElsJHWFDFHV+/JovJNLpw\n",
       "P6clNYma9iyFDRaPuqjvz9/oBOwiILYAJrp5MOvbWXfx/NhtNG5QYq3olrbUVC6DVd/OwdnuFW2V\n",
       "TRBbI8Ra7vnLnpJslD0PmKqz6vsAHuXQ6meqBvvWU/4cqDoLvpbmBF65WJ9UnaIv5JhXV9VJuN5s\n",
       "nqIuAqPGARP7vOweWiGqjlXz2RJzhdwxXK/3be9LnvYqu3R6fSwNCGiSh/8l6QNj3gPI/9ZY5CKP\n",
       "yQAAAABJRU5ErkJggg==\n",
       "\" style=\"display:inline;vertical-align:middle;\" /></a></span></td></tr>\n",
       "<tr><td>&nbsp;</td><td colspan=4 style=\"text-align:left\"><span style=\"font-size:20px;\"><a class=\"ProveItLink\" href=\"../../../../../../__pv_it/common/09585084922504426caf1db2ff588a23a0932a960/expr.ipynb\"><img src=\"data:image/png;base64,iVBORw0KGgoAAAANSUhEUgAAAA8AAAAPBAMAAADJ+Ih5AAAAMFBMVEX///8AAAAAAAAAAAAAAAAA\n",
       "AAAAAAAAAAAAAAAAAAAAAAAAAAAAAAAAAAAAAAAAAAAv3aB7AAAAD3RSTlMAIs1UmauJMnZmRLsQ\n",
       "3e++988cAAAACXBIWXMAAA7EAAAOxAGVKw4bAAAAXklEQVQI12NgAAEhBijQh9LM/6EMlngBCCMx\n",
       "vwBMMzb0G0BkGOwngBmLGeoTwAwHBvkAEM2xxSV+A4hxgoGB/wJEhoH3AZDmAupg+gBkyAEx90cG\n",
       "htP/dRiY939KAABt3hLO6mcEjQAAAABJRU5ErkJggg==\n",
       "\" style=\"display:inline;vertical-align:middle;\" /></a> : <a class=\"ProveItLink\" href=\"../../../../../../__pv_it/common/09585084922504426caf1db2ff588a23a0932a960/expr.ipynb\"><img src=\"data:image/png;base64,iVBORw0KGgoAAAANSUhEUgAAAA8AAAAPBAMAAADJ+Ih5AAAAMFBMVEX///8AAAAAAAAAAAAAAAAA\n",
       "AAAAAAAAAAAAAAAAAAAAAAAAAAAAAAAAAAAAAAAAAAAv3aB7AAAAD3RSTlMAIs1UmauJMnZmRLsQ\n",
       "3e++988cAAAACXBIWXMAAA7EAAAOxAGVKw4bAAAAXklEQVQI12NgAAEhBijQh9LM/6EMlngBCCMx\n",
       "vwBMMzb0G0BkGOwngBmLGeoTwAwHBvkAEM2xxSV+A4hxgoGB/wJEhoH3AZDmAupg+gBkyAEx90cG\n",
       "htP/dRiY939KAABt3hLO6mcEjQAAAABJRU5ErkJggg==\n",
       "\" style=\"display:inline;vertical-align:middle;\" /></a>, <a class=\"ProveItLink\" href=\"../../../../../../__pv_it/common/a9162d1c3cc0470c02e5daf414500903a7a419230/expr.ipynb\"><img src=\"data:image/png;base64,iVBORw0KGgoAAAANSUhEUgAAABAAAAAOBAMAAADUAYG5AAAAMFBMVEX///8AAAAAAAAAAAAAAAAA\n",
       "AAAAAAAAAAAAAAAAAAAAAAAAAAAAAAAAAAAAAAAAAAAv3aB7AAAAD3RSTlMAZrurzTLvInZEmRDd\n",
       "VIkafcLnAAAACXBIWXMAAA7EAAAOxAGVKw4bAAAAb0lEQVQI12NgYBD6b2zsFMAABEkMDMxfgTT7\n",
       "DwYGzl9ABiOQxwjkMDB/YGBgSQcy2BQYuG1AiuM1OkwEQJr6Cxh4E0EMNSB+D5L6DMTyDQwMrB+B\n",
       "DPsJDAwc34GcL0AOSwIDwzRvoHH6n41NdBkYAF/iFeJ4bEa2AAAAAElFTkSuQmCC\n",
       "\" style=\"display:inline;vertical-align:middle;\" /></a> : <a class=\"ProveItLink\" href=\"../../../../../../__pv_it/common/a9162d1c3cc0470c02e5daf414500903a7a419230/expr.ipynb\"><img src=\"data:image/png;base64,iVBORw0KGgoAAAANSUhEUgAAABAAAAAOBAMAAADUAYG5AAAAMFBMVEX///8AAAAAAAAAAAAAAAAA\n",
       "AAAAAAAAAAAAAAAAAAAAAAAAAAAAAAAAAAAAAAAAAAAv3aB7AAAAD3RSTlMAZrurzTLvInZEmRDd\n",
       "VIkafcLnAAAACXBIWXMAAA7EAAAOxAGVKw4bAAAAb0lEQVQI12NgYBD6b2zsFMAABEkMDMxfgTT7\n",
       "DwYGzl9ABiOQxwjkMDB/YGBgSQcy2BQYuG1AiuM1OkwEQJr6Cxh4E0EMNSB+D5L6DMTyDQwMrB+B\n",
       "DPsJDAwc34GcL0AOSwIDwzRvoHH6n41NdBkYAF/iFeJ4bEa2AAAAAElFTkSuQmCC\n",
       "\" style=\"display:inline;vertical-align:middle;\" /></a></span></td></tr><tr><td><a name=\"-0x129886f1131fec07_step5\">5</a></td><td>axiom</td><td></td><td><span style=\"font-size:20px;\"> <a class=\"ProveItLink\" href=\"../../axioms.ipynb#not_subset_eq_def\" style=\"text-decoration: none\">&nbsp;&#x22A2;&nbsp;&nbsp;</a><a class=\"ProveItLink\" href=\"../../../__pv_it/axioms/fa6d2eeca38ae0bae56c100793dd172eed9163fb0/expr.ipynb\"><img src=\"data:image/png;base64,iVBORw0KGgoAAAANSUhEUgAAARkAAAAYBAMAAAA8FZQ1AAAAMFBMVEX///8AAAAAAAAAAAAAAAAA\n",
       "AAAAAAAAAAAAAAAAAAAAAAAAAAAAAAAAAAAAAAAAAAAv3aB7AAAAD3RSTlMAq1RmmUTNIjK7EInv\n",
       "3XZ/CtNrAAAACXBIWXMAAA7EAAAOxAGVKw4bAAAD/UlEQVRIx81WS2hTQRS9SZpPX9o0BRVdSAKC\n",
       "ICrNoggiaosfLCIW3UgRrYiI8Vc3glht3QguSoIIimgbNwUXSnUj0oW14h8lFMUifRh1IYJo/dXW\n",
       "ovXOne97eTG4EL1w8l5m7p137m9mAP5cIvCPpE3AIdWOf+FSdr9V8PhGWzkysSQHykE9usyhEyx4\n",
       "2yl5xTm1lvrIFgNxNjCnhOJ8AZT9evQ5fwR6PtbOOAPw2ttOir+PHqHRIq3FU7W1uzohlgKFVWx8\n",
       "pzcZq5WDrTklxt7aI4+G+WtVFiDRCaGcl52SXv6oE2xi523b7uTv9wF84wBpUDjGopj1ZlOR4mCv\n",
       "CZ7W42/AJ9aCDszR1gYINHjZKVnBH43feAfs0+UR/ol5/gJQDwrMs2jSm02VAMq1G8TBeqacBViO\n",
       "Q8uR0QMvOyUD9Bs9PE7PS0atBnAogIyqcgoB9CNUomzmCqAbhQ/E2NcMcFVOJxB7cPXtXnaqbHjW\n",
       "jsY+0XO6MeXD5IXuIlIaj2z7YQk2awUw9lBH0We883Ia036BldAVLzuVNV7EDf7P9DQrCuvOmo3x\n",
       "jcY11gCcpcmiYiSnueMbIEOrYpUF+uQmOPH+Jc0uoq/aJHEAZ7BC5EUwGZkkm7gxlel+P4PNBlo1\n",
       "DkCYVKx7pHLiS3+TLNMhAXQNOkjpAOgWimFdLmCrLXB7MSTJYX1XJ3lswx8p4yabD23gv8WSOaBR\n",
       "mYs2U53xxAbyEBsQ6rcFIHZqZSIrtuFjcrFKVIuy2sy42dyWTYPfrqLF365snKChvKF2DsGaIzKq\n",
       "4S/wIt70mJcWtuyom81lgBpapyIJM+ViNXHeErC5LBsLO++H2e8kLFqsJ4MDGtDKd/rCNl5aSbiU\n",
       "cmeKRZwCZj3VO1sG1Xxf8WWhu26GDDaUqQrECC+jZn34srpO4H9/XgOupikZsJpvaa/rlffdAsGU\n",
       "2tl7p6WMtEOGcVvsjk23ZINeVLJjbKM6WqzaFjDqLjLGiiOrAe3kzyZ4RzpLwZom9a8ItLMq4Xsp\n",
       "bN1r2/xk2IM07+RcDa3spLC2DbO49vB9L3hdngwhHN2cFpuAhNjp1/YnqFmQSoeMZhfHxak0+HvG\n",
       "+pwH4ix25lHDPHWz6TIvQ3mwesZyMG9qt1PJxw7dk9QazRoibEiCWA2i+7LDqzs5TCk+YMP5oguQ\n",
       "aTNc9hJ1xAAXzGxN0uqD8HewnqiDpAHcZ2IkC789I5WdkvqybFYY4CveBGv9jsggLJrsb9Jn6GkB\n",
       "/eUXrHGc7h4qXt+0qXTc6dZR5znizW4QEg7xu/5fFCh1Cy36tGGnLjvZMqFhdCUc0uIuiQKHliXF\n",
       "t06P+6zD5mgZNm8MOCRVNsdp+J+k7a+u/gtJyha8EVNJ2gAAAABJRU5ErkJggg==\n",
       "\" style=\"display:inline;vertical-align:middle;\" /></a></span></td></tr>\n",
       "<tr><td>&nbsp;</td><td colspan=4 style-\"text-align:left\"><a class=\"ProveItLink\" href=\"../../axioms.ipynb#not_subset_eq_def\">proveit.logic.sets.inclusion.not_subset_eq_def</a></td></tr></table>"
      ],
      "text/plain": [
       "\tstep type\trequirements\tstatement\n",
       "0\tgeneralization\t1\t|- forall_{A, B | [not](A subset_eq B)} (A not_subset_eq B)\n",
       "1\tinstantiation\t2, 3, 4\t{[not](A subset_eq B)} |- A not_subset_eq B\n",
       "\tP : A not_subset_eq B, Q : [not](A subset_eq B)\n",
       "2\ttheorem\t\t|- forall_{P, Q | Q, P = Q} P\n",
       "\tproveit.logic.equality.lhs_via_equality\n",
       "3\tassumption\t\t{[not](A subset_eq B)} |- [not](A subset_eq B)\n",
       "4\tinstantiation\t5\t|- (A not_subset_eq B) = [not](A subset_eq B)\n",
       "\tA : A, B : B\n",
       "5\taxiom\t\t|- forall_{A, B} ((A not_subset_eq B) = [not](A subset_eq B))\n",
       "\tproveit.logic.sets.inclusion.not_subset_eq_def"
      ]
     },
     "execution_count": 6,
     "metadata": {},
     "output_type": "execute_result"
    }
   ],
   "source": [
    "%qed"
   ]
  },
  {
   "cell_type": "code",
   "execution_count": null,
   "metadata": {},
   "outputs": [],
   "source": []
  }
 ],
 "metadata": {
  "kernelspec": {
   "display_name": "Python 3",
   "language": "python",
   "name": "python3"
  }
 },
 "nbformat": 4,
 "nbformat_minor": 0
}