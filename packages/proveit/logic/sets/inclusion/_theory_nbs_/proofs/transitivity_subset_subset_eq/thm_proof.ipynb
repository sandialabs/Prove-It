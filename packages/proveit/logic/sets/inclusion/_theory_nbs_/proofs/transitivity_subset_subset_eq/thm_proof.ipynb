{
 "cells": [
  {
   "cell_type": "markdown",
   "metadata": {},
   "source": [
    "Proof of <a class=\"ProveItLink\" href=\"../../../../../../_theory_nbs_/theory.ipynb\">proveit</a>.<a class=\"ProveItLink\" href=\"../../../../../_theory_nbs_/theory.ipynb\">logic</a>.<a class=\"ProveItLink\" href=\"../../../../_theory_nbs_/theory.ipynb\">sets</a>.<a class=\"ProveItLink\" href=\"../../theory.ipynb\">inclusion</a>.<a class=\"ProveItLink\" href=\"../../theorems.ipynb#transitivity_subset_subset_eq\">transitivity_subset_subset_eq</a> theorem\n",
    "========"
   ]
  },
  {
   "cell_type": "code",
   "execution_count": 1,
   "metadata": {},
   "outputs": [],
   "source": [
    "import sys\n",
    "sys.path.append('..') # allows access to modules in parent theory\n",
    "import proveit"
   ]
  },
  {
   "cell_type": "code",
   "execution_count": 2,
   "metadata": {},
   "outputs": [
    {
     "data": {
      "text/html": [
       "With these <a href=\"allowed_presumptions.txt\">allowed</a>/<a href=\"disallowed_presumptions.txt\">disallowed</a> theorem/theory presumptions (e.g., to avoid circular dependencies), we begin our proof of<br><strong id=\"transitivity_subset_subset_eq\">transitivity_subset_subset_eq:</strong> <a class=\"ProveItLink\" href=\"../../../__pv_it/theorems/67652320ca5f65ee43fe037b8f4733c3dfd382090/expr.ipynb\"><img src=\"data:image/png;base64,iVBORw0KGgoAAAANSUhEUgAAAPcAAAAXBAMAAAAl5sTiAAAAMFBMVEX///8AAAAAAAAAAAAAAAAA\n",
       "AAAAAAAAAAAAAAAAAAAAAAAAAAAAAAAAAAAAAAAAAAAv3aB7AAAAD3RSTlMAq1RmmUTNIjK7EInv\n",
       "3XZ/CtNrAAAACXBIWXMAAA7EAAAOxAGVKw4bAAADYklEQVRIx71WXUgUURT+nN1xdmd1UtqgHqKh\n",
       "egmChKQ3ayWLZAsXfJHsxx4ksEB9ttw1Igh8qF5so3AEicQEFaFyIUsKoqiWCvKhpa0IUSLKykzp\n",
       "5/7snbnsrqzF2oWZOffec+937jnfOXeA5WpajvkWLGN7y01oWGz+EHlKqLAh/9jKIPsUfsqc0qdK\n",
       "V2qDRhmwi3aP5h/8Kv9syQL+YRrKvjI0AR3UN+fyD76Tfyq/Z8z0TZBXTQvKiV8swGfmH/wOe/va\n",
       "5lL9qUQiMcGk4wQRB4AiCy7i+sJlCDknWrsxw/tnbogZHxs5TVAJ8uNE4lH+wd2cbwHlC+fYS3sm\n",
       "HKfva8QKwvU9wCU2ai22j83SvwCnxwJU07PAugUhe2YsmRJcxDmt0Fi66Q/Y0NmvseoIkwx/rJ8a\n",
       "5BXLrkeE5OkOjlyU1W9Fo12k9yY4Oso1ik1ut/aZ2+KY9VpUF4XQwmv5Qk4s4IrDYGRRnwGXIYOP\n",
       "kQ09Q9EoWV1BEkZS7+MHO2jCy4mGIjYyVVX5g3U7HPCnws0ekoVKkptV94Q7KAAXy83NZH6jDK52\n",
       "EocF+en9wA5JvYsf5SF5AhK4Thb8ZN1W6eRMlWyjUjsbtrPB5BG+ysQAjZdGHXFKBjcKS+ykHIf+\n",
       "3FHXOLvC1DOm5HbKlle864DXULf7qAGUecNNbGvs5ju8K1/NjhQX2gI86W5AT+rS+LW1MuKoKxxx\n",
       "rUQ4L6VVLXmaOWnLHLbTGcoMFy1tJxjf6lJBrIDuZ0cKpIGrERLcWohI9wQcdZVvfU8Cp3mkUb92\n",
       "c341OhWAJF+9JbKxgJ0hGFtnpaIZpvEqogaaErg7NjSP9RCR1r7BVteZ+aCkUUQ+xKF3z1rY9PsY\n",
       "r6mr7EzuPe9nbCy2088gm0R4NHGYCgVkQ6NFAk9Cm0MbRKTVOTjqw0wuJc+k2HAiLfHrr4jyKtpJ\n",
       "WyL+XGHqg9Dmob8A+qHfB95LbqeunYGXOzFsYSAAR919k9WBEAz7NOVLvXrI6rvQaxo949i2EKsm\n",
       "zu400Rv8aEnge0vQOxvSWWlxNcdGLhDX2uqop0VGr7o97TAu159KxlWq2JJ0z3llDV+UFZl09Sx/\n",
       "DLmu6Qzr9gtBtRYBz66erbXnAJ9MH7Cz0YWlgNvqa6K8tv//39B/b38AG3TW8PkhWOIAAAAASUVO\n",
       "RK5CYII=\n",
       "\" style=\"display:inline;vertical-align:middle;\" /></a><br>(see <a class=\"ProveItLink\" href=\"../../../__pv_it/theorems/ce9d5b4dabf026712f3ff4178df06170b0aa1f380/dependencies.ipynb\">dependencies</a>)<br>"
      ],
      "text/plain": [
       "<IPython.core.display.HTML object>"
      ]
     },
     "metadata": {},
     "output_type": "display_data"
    },
    {
     "name": "stdout",
     "output_type": "stream",
     "text": [
      "transitivity_subset_subset_eq may now be readily provable (assuming required theorems are usable).  Simply execute \"%qed\".\n"
     ]
    }
   ],
   "source": [
    "%proving transitivity_subset_subset_eq"
   ]
  },
  {
   "cell_type": "code",
   "execution_count": null,
   "metadata": {},
   "outputs": [],
   "source": []
  }
 ],
 "metadata": {
  "kernelspec": {
   "display_name": "Python 3",
   "language": "python",
   "name": "python3"
  }
 },
 "nbformat": 4,
 "nbformat_minor": 0
}