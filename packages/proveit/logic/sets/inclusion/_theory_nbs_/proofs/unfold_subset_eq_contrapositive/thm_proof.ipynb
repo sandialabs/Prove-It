{
 "cells": [
  {
   "cell_type": "markdown",
   "metadata": {},
   "source": [
    "Proof of <a class=\"ProveItLink\" href=\"../../../../../../_theory_nbs_/theory.ipynb\">proveit</a>.<a class=\"ProveItLink\" href=\"../../../../../_theory_nbs_/theory.ipynb\">logic</a>.<a class=\"ProveItLink\" href=\"../../../../_theory_nbs_/theory.ipynb\">sets</a>.<a class=\"ProveItLink\" href=\"../../theory.ipynb\">inclusion</a>.<a class=\"ProveItLink\" href=\"../../theorems.ipynb#unfold_subset_eq_contrapositive\">unfold_subset_eq_contrapositive</a> theorem\n",
    "========"
   ]
  },
  {
   "cell_type": "code",
   "execution_count": 1,
   "metadata": {},
   "outputs": [],
   "source": [
    "import proveit\n",
    "from proveit import x, A, B\n",
    "from proveit.logic import Boolean, InSet, SubsetEq\n",
    "from proveit.logic.sets.inclusion import unfold_subset_eq\n",
    "theory = proveit.Theory() # the theorem's theory"
   ]
  },
  {
   "cell_type": "code",
   "execution_count": 2,
   "metadata": {},
   "outputs": [
    {
     "data": {
      "text/html": [
       "With these <a href=\"allowed_presumptions.txt\">allowed</a>/<a href=\"disallowed_presumptions.txt\">disallowed</a> theorem/theory presumptions (e.g., to avoid circular dependencies), we begin our proof of<br><strong id=\"unfold_subset_eq_contrapositive\">unfold_subset_eq_contrapositive:</strong> <a class=\"ProveItLink\" href=\"../../../__pv_it/theorems/a8228dd8ebc9927b6af5068935fc7a6dd0e58bd20/expr.ipynb\"><img src=\"data:image/png;base64,iVBORw0KGgoAAAANSUhEUgAAARYAAAAZCAMAAADDsvEcAAAAS1BMVEX///8AAAAAAAAAAAAAAAAA\n",
       "AAAAAAAAAAAAAAAAAAAAAAAAAAAAAAAAAAAAAAAAAAAAAAAAAAAAAAAAAAAAAAAAAAAAAAAAAAAA\n",
       "AADXrLZzAAAAGHRSTlMAq1RmmUTNIjK7EInv3XbP4duh6fPj951y2Qx9AAAACXBIWXMAAA7EAAAO\n",
       "xAGVKw4bAAADiUlEQVRYw91ZiXLcIAzlNCCOpFfK/39pwTYYzOFNmnUzZTI7O9ZKwg/pSSgI3b+w\n",
       "tVagr7pc2B35F44X9MUXpf8hLOKjUvE/w+LmGbBAB49tR9wdsOAsJPRGWJ7mluipWOLehvyOKM2w\n",
       "MJ6F4kZYnuUWLkLx8Fsg6X0dSgGWDJ9QdybRs9yyi9izPR3s96OhLHNLSjZNbuWWJ7k1M9ZR9sdP\n",
       "24STFtrLpA4JlkS795XNpWT7z3VLxub44gBh2fKtQ86ns1lo3puxcRl9cyV6ilu2mwPnMEhdhKKI\n",
       "4dljHhbJJaWexhkWtiKoisIFF75bovsALK3bmYej1ZJT0zQbcNghdlDJyuzUtUEUkJM+HQ49Ilng\n",
       "9JFe0hSupfJMa6aKRw1JZgWt1iUGihUsjVs08dCIBtb3tp2GHVAfcob2Ce10AsKnbRBzJHg8MV0U\n",
       "Lu1LGqQr4s5MNr0rgKqqX6tYt3Nnt9ewSIdfXvnMutmkESxWJYyMOfvrLXyoEw0zFipReij9AQtx\n",
       "FfNxacpYw2tEUz/edFJQdQfSKtawnNxew8JC3mGYWjcHzNVLhCPrVj3YfuRTsvEiWsLmyqRzaClD\n",
       "20RbYOl407uCOLFnq3hq/g+3zjER/roesiz2oIDn1o+7L4+9CEDVsNgRidkUdMQWsGhSJJ2r4094\n",
       "RymrCps6o7IpkPosOoonWLJbJxBWaCE9D1m2nrfjc+vKpWzG8U11iS7iDZNzWnf/iKoCFmFwkRF1\n",
       "xq45DJgNYckKvD65juIJluyWru/TJ/UsW82rC+tbgSVeAjNblTm8kgZEkd5TpTZ3K/CppyoUAr9r\n",
       "7OHEEMLzESxZAXCHWirF8w26cOvFmFs2GV2UevmmFJlZl2sSAAuxQRitwhfwG4eabrxfw5XEL1tg\n",
       "Wd4fLLjNm6wZImTqqEAXCjWjdRTHgwVpqkmI6shk2Hgm3KF1O25r6G+tQiWatdXC9ucteyLEggt6\n",
       "e2FYqW2URIVCDBxZUEurOIAlxLJeqh5O9WQKjngcWqfsXZOW/kXzDAtbsx2YX3g4JBIj1+vYNZFB\n",
       "iJcKESSd2rmu4ihamOPaOeh7yDKhvsvcjA6tq9Gc4oGrevrJfDpH0Hu6is+czvU9wGvEnF8MXEa7\n",
       "e+CqniCdwsLhi8Hy2BxPuP5zfD3uFI/Mcil6JyxYqeJO9PmwYED3rI+NuP92yrhc/p+oL70HFWet\n",
       "oX8AS00fYh+IpiUAAAAASUVORK5CYII=\n",
       "\" style=\"display:inline;vertical-align:middle;\" /></a><br>(see <a class=\"ProveItLink\" href=\"../../../__pv_it/theorems/c96b8807198606dc0a75d44f59587616b068bb870/dependencies.ipynb\">dependencies</a>)<br>"
      ],
      "text/plain": [
       "<IPython.core.display.HTML object>"
      ]
     },
     "metadata": {},
     "output_type": "display_data"
    },
    {
     "name": "stdout",
     "output_type": "stream",
     "text": [
      "unfold_subset_eq_contrapositive may now be readily provable (assuming required theorems are usable).  Simply execute \"%qed\".\n"
     ]
    }
   ],
   "source": [
    "%proving unfold_subset_eq_contrapositive"
   ]
  },
  {
   "cell_type": "code",
   "execution_count": 3,
   "metadata": {},
   "outputs": [
    {
     "data": {
      "text/html": [
       "<span style=\"font-size:20px;\"> <a class=\"ProveItLink\" href=\"../unfold_subset_eq/thm_proof.ipynb\" style=\"text-decoration: none\">&nbsp;&#x22A2;&nbsp;&nbsp;</a><a class=\"ProveItLink\" href=\"../../../__pv_it/theorems/ffb57c6ecaa9512f7208b5cea9aeeaa8cfa4a4e50/expr.ipynb\"><img src=\"data:image/png;base64,iVBORw0KGgoAAAANSUhEUgAAAPcAAAAXBAMAAAAl5sTiAAAAMFBMVEX///8AAAAAAAAAAAAAAAAA\n",
       "AAAAAAAAAAAAAAAAAAAAAAAAAAAAAAAAAAAAAAAAAAAv3aB7AAAAD3RSTlMAq1RmmUTNIjK7EInv\n",
       "3XZ/CtNrAAAACXBIWXMAAA7EAAAOxAGVKw4bAAADeUlEQVRIx72WX0gUQRjAv727vb3bs/UkkQrC\n",
       "o6LHOFKKHswLqRTLhCAkoy4hQl86H6XS7TGSOoSDTipXkKBQuMQCuYdOe6iIQqiHHlzYMpAiTMv0\n",
       "MKi+ndm9nTvbNQ9q4G5n5/t2fjPfvxmAIpukys4KgpMw9hcTOLRA8xoK752Ep+kMQb2/vRg4pz9c\n",
       "YRu5K/XH4X2/ysraZZDCBH5QHzpfDNyj790bs5HftRl/DsBlAToI/IrunngxcJ9utC47eZ1NJPwE\n",
       "4BcBqgncq+AjVJTPcfUwaifP5L19VNUo6bhx125cQImiz+BG63uLC7gqfETtXJ4nOPHJ7HHziHuK\n",
       "vzAJ2Zeq+qI4eImqTqdsxB4UiHNbrhHLCB258ZI4iFsxxwJBAq8H6CfjSsHnZke0g3tk8Bd8lNPF\n",
       "neEM77SjkB+VN+7MVegJ4o4SeCcIJN3EZ0R6dTHdQLLfb+oP6wtNJpMx8A00jt204PhdZ8GShs3C\n",
       "sQHDaC/UKhsJ3FL4EgPXE90tGQL3K7ReBL7SiJgCKZMHfxwCMUG7NQCfmSLTDw9NpeubE4auYV4U\n",
       "y3CIvvSq2GhG3dKVcIW+eTKDS6MLa3lFIyIC7nkWzvdq4DfsVg5Qy8B35eLNU5/TteAAdEq4Z+18\n",
       "AX+1qMTTnUN0PxnWztKvQjASZuGSNwgXjf4kiK8ZuNeN00gfug/DjKVrmR34ZbhPXnJs3zf8q9S3\n",
       "PEXhoyQWJcNGPTPVm4CFa54obDMrRNUBmYEHdmK8zXLxNjFu6dLm19BXXAZINkha7jhaxgUs6d6N\n",
       "U/glstoWw5s1IJazcF7GEDgOZjwMRhi4MIGdsF+T+bCla4iD4MoOZXgaA225JED5qQ6aigTOkc00\n",
       "pisVw609zQzck36wAoNgxoPwnT3ViI1KY+BuTyb7DF3DvlMgNmk7dtO3wQRNSW5goayij3iimTkX\n",
       "JWTK1K1whk01DYSsWX8xHvjsqiO1F2K+lKVrtLd5Kdh6W82vhZfZGdCwpSExBcIKiG8Ys+sGxRxs\n",
       "JOvpUWAkUgAXMo8gQsuUoUtbtXOBrGPgngkQj53zTcKeH+mGEAM/EoShpWbgx7HIuC+kx/pWXSaa\n",
       "WucU6JItXSPiYo7XnPjq64iL6fvXc5MRx5OJgkLreEzrSyuEn1wHfK0rWLeTcBajbLoAHraBc0lS\n",
       "2/9fE/494jfbbuMHQpKW3AAAAABJRU5ErkJggg==\n",
       "\" style=\"display:inline;vertical-align:middle;\" /></a></span>"
      ],
      "text/plain": [
       "|- forall_{A, B | A subset_eq B} [forall_{x in A} (x in B)]"
      ]
     },
     "metadata": {},
     "output_type": "display_data"
    }
   ],
   "source": [
    "unfold_subset_eq"
   ]
  },
  {
   "cell_type": "code",
   "execution_count": 4,
   "metadata": {},
   "outputs": [
    {
     "data": {
      "text/html": [
       "<strong id=\"unfold_subset_eq_spec\">unfold_subset_eq_spec:</strong> <span style=\"font-size:20px;\"><a class=\"ProveItLink\" href=\"../../../__pv_it/theorems/db7a164f644801bfd111812bb9a6a278f180c2b50/expr.ipynb\"><img src=\"data:image/png;base64,iVBORw0KGgoAAAANSUhEUgAAADsAAAASBAMAAAAXqLt+AAAAMFBMVEX///8AAAAAAAAAAAAAAAAA\n",
       "AAAAAAAAAAAAAAAAAAAAAAAAAAAAAAAAAAAAAAAAAAAv3aB7AAAAD3RSTlMAIs1UmauJMnZmRLsQ\n",
       "3e++988cAAAACXBIWXMAAA7EAAAOxAGVKw4bAAAA/UlEQVQoz2NgAAEhBrxAH0OEc//X0KDtEDbz\n",
       "f6hg9927d69DmHwbGBjiC8BMlngBMF3UiNAu38DAsN4BzEzMByvjuYhk+nyg0PwGEIuxod8ARLMu\n",
       "QJKOB2I9sKEsDPYTQDQTstteMzAchThjMUN9AoguRZJl/93RqglhOjDIB4BoUSRpjo8MDHZgMzm2\n",
       "uMRvADF4kaS5HzAwsH0HsU4wMPBfALthAkKaH2ge5w+I2Qy8D8BiWgjpeqBS1l9ABheQwfQBLHY0\n",
       "6gBMuh/op3oFIEMOZNNHiOCyvbBA1QPqewRUfPq/DgPz/k8JqDES/T80VNuAgYqA5e5dRIRCAACA\n",
       "ZT/mFM9iAgAAAABJRU5ErkJggg==\n",
       "\" style=\"display:inline;vertical-align:middle;\" /></a>, <a class=\"ProveItLink\" href=\"../../../__pv_it/theorems/bffc8f58d953dcb8331468867a32979a833e73840/expr.ipynb\"><img src=\"data:image/png;base64,iVBORw0KGgoAAAANSUhEUgAAADUAAAAQBAMAAABEqSrGAAAAMFBMVEX///8AAAAAAAAAAAAAAAAA\n",
       "AAAAAAAAAAAAAAAAAAAAAAAAAAAAAAAAAAAAAAAAAAAv3aB7AAAAD3RSTlMAEHarMolUmd1mIs3v\n",
       "RLtmgJDEAAAACXBIWXMAAA7EAAAOxAGVKw4bAAAAzklEQVQY02NgwAFWM+AG+3FLsf3HLcduvwCF\n",
       "z/SioxvGjop3QJbi3SQAZ3Mp6CcAKSFlkdAEsMsEkIxkyJ8ApAqYjNgbQPxdSGZcY/APYGDgXMD5\n",
       "kRmkhmEDklwBw3oDBgYWBnaIIMuJjo6OPqirnpfbPwAxeBTAfMYHCG1CDAz8YHvuL2AEu6IB2UgG\n",
       "jgMMDHIXbBhYwQJKCN8A7ef+wMCQ71gDdBUIcCfA5NYAMd8vBgZxJbZKiCCj3UWIlNz/jQxs738H\n",
       "oARMHCLMQAAAARYsAl5K88AAAAAASUVORK5CYII=\n",
       "\" style=\"display:inline;vertical-align:middle;\" /></a> <a class=\"ProveItLink\" href=\"../../../__pv_it/_proof_unfold_subset_eq_contrapositive/fcf0b8e5f92c04215c8607ef921874eae9943a540/proof.ipynb\" style=\"text-decoration: none\">&nbsp;&#x22A2;&nbsp;&nbsp;</a><a class=\"ProveItLink\" href=\"../../../__pv_it/theorems/fd887bd5ac8499adb0944f106e649fd3447c9f0d0/expr.ipynb\"><img src=\"data:image/png;base64,iVBORw0KGgoAAAANSUhEUgAAADUAAAAPBAMAAAC2KZqIAAAAMFBMVEX///8AAAAAAAAAAAAAAAAA\n",
       "AAAAAAAAAAAAAAAAAAAAAAAAAAAAAAAAAAAAAAAAAAAv3aB7AAAAD3RSTlMAEHarMolUmd1mIs3v\n",
       "RLtmgJDEAAAACXBIWXMAAA7EAAAOxAGVKw4bAAAA3ElEQVQY02NgwAI43382tn7CgB3wPGBgsHfA\n",
       "LrdegYHhfgGyiF5HxwYIaz5Qz3wFJKnbinCmPRDvWcDAIKQsEpoAZHNtRCg7x8Ag3AKkC5iM2BuA\n",
       "NPcCuBTLPyXlnSD3LuD8yDwBJIfQxvSLgSEHKMbCwA5xgE8HEDwAM/kOMDCwfgF7BuIgOYQ+fgOg\n",
       "eZ9ArPsLGAWAFAdCzh9oHvNfoPILNgysYEsQ/tEHOssfaFO+Yw3DNbDINrjcHgYG3tNAs8SV2CoT\n",
       "wCLCbwUgUnb/jY33JaCG4tUXsDCDAABwgzI50p7dfQAAAABJRU5ErkJggg==\n",
       "\" style=\"display:inline;vertical-align:middle;\" /></a></span><br>"
      ],
      "text/plain": [
       "<IPython.core.display.HTML object>"
      ]
     },
     "metadata": {},
     "output_type": "display_data"
    }
   ],
   "source": [
    "unfold_subset_eq_spec = unfold_subset_eq.instantiate(\n",
    "        {x:x}, assumptions=[SubsetEq(A, B), InSet(x, A)])"
   ]
  },
  {
   "cell_type": "code",
   "execution_count": 5,
   "metadata": {},
   "outputs": [
    {
     "data": {
      "text/html": [
       "<strong id=\"unfold_subset_eq_spec_as_imp\">unfold_subset_eq_spec_as_imp:</strong> <span style=\"font-size:20px;\"><a class=\"ProveItLink\" href=\"../../../__pv_it/theorems/db7a164f644801bfd111812bb9a6a278f180c2b50/expr.ipynb\"><img src=\"data:image/png;base64,iVBORw0KGgoAAAANSUhEUgAAADsAAAASBAMAAAAXqLt+AAAAMFBMVEX///8AAAAAAAAAAAAAAAAA\n",
       "AAAAAAAAAAAAAAAAAAAAAAAAAAAAAAAAAAAAAAAAAAAv3aB7AAAAD3RSTlMAIs1UmauJMnZmRLsQ\n",
       "3e++988cAAAACXBIWXMAAA7EAAAOxAGVKw4bAAAA/UlEQVQoz2NgAAEhBrxAH0OEc//X0KDtEDbz\n",
       "f6hg9927d69DmHwbGBjiC8BMlngBMF3UiNAu38DAsN4BzEzMByvjuYhk+nyg0PwGEIuxod8ARLMu\n",
       "QJKOB2I9sKEsDPYTQDQTstteMzAchThjMUN9AoguRZJl/93RqglhOjDIB4BoUSRpjo8MDHZgMzm2\n",
       "uMRvADF4kaS5HzAwsH0HsU4wMPBfALthAkKaH2ge5w+I2Qy8D8BiWgjpeqBS1l9ABheQwfQBLHY0\n",
       "6gBMuh/op3oFIEMOZNNHiOCyvbBA1QPqewRUfPq/DgPz/k8JqDES/T80VNuAgYqA5e5dRIRCAACA\n",
       "ZT/mFM9iAgAAAABJRU5ErkJggg==\n",
       "\" style=\"display:inline;vertical-align:middle;\" /></a> <a class=\"ProveItLink\" href=\"../../../__pv_it/_proof_unfold_subset_eq_contrapositive/7f039f83440726b71621c388b8f50ce3d0718f1d0/proof.ipynb\" style=\"text-decoration: none\">&nbsp;&#x22A2;&nbsp;&nbsp;</a><a class=\"ProveItLink\" href=\"../../../__pv_it/_proof_unfold_subset_eq_contrapositive/fcee6e12be38b0d07c3d5a83a5037f38966df59f0/expr.ipynb\"><img src=\"data:image/png;base64,iVBORw0KGgoAAAANSUhEUgAAAKcAAAAVBAMAAADROuOhAAAAMFBMVEX///8AAAAAAAAAAAAAAAAA\n",
       "AAAAAAAAAAAAAAAAAAAAAAAAAAAAAAAAAAAAAAAAAAAv3aB7AAAAD3RSTlMAInZUiRDNmWbv3US7\n",
       "qzJazP2FAAAACXBIWXMAAA7EAAAOxAGVKw4bAAAChklEQVQ4y4VUTWgTURCeTbJu2vy4FOnBi2vE\n",
       "m8EepEUQVPSoEATtpZX4Bw0IBhFtC4WIQo8NHjxYD4GC4CI1+IcHodFjC0YERaGhe9CDXtr6h2ib\n",
       "OjNvu29X3m4W3tv3ZuabN9/MvAcAJoR/ap0GnSCxvhCtVgR4pNTsinLKkH1h2i0reGJFoYgfUton\n",
       "m+ut968ZohfDnB5Ep3BBoTgVAuhqACw5BDEqYU4nVnGaVChGQwA7LIC5MkG6AvLYvH3PXSa2ten0\n",
       "gqdLby6rAcge23bJTjk4LIL0+w1SZ6WPnth3Sqwkkm24KQ0k7Nlub7mEo2QS5AquTuRPH+Ue6JU+\n",
       "oRz/TfG+kZKb4mdgnfTcu09HuEV8Sb8LMDzLkBHCx94aNRKf8QXdl/1BJeWwxm36HpZFV2DwBuSt\n",
       "cd7ITs6u5fIjAjKDs5n8mWGaPmIGaOvE1Z/AfqbTjfN1mCp8YKe+emBh91cYMo1HgCG8Ze9gPA/c\n",
       "/F+bWCPRis+pXqpT7XBy4KoQfSEKItlpPD/RZsg0d5glQA2JR8kfyoI/0t7D4DoFuCVEQ1K7FdOf\n",
       "/MaQGdrPmTqXqOZjD3Cf6NdkTm2RcqIPqVU4yRvpdBmpZ/4y5BWeVv8ICZbnPIvnOC5R1mXw8MLt\n",
       "Vwv0hUwV+LLGLE+9F2u2XGTIcbyPn8fgsSjs5uOiEeumKfrH98CA6LJ4e7CaErbnPH0J479dYMhX\n",
       "gMFcfFRY6ItPxb/5qwAHNs4jvbq8UY7bOjXQL1sDN8RueMHt7cWNVusiuUFItxO4Use8ayq+7YpX\n",
       "dDZg8WTeLv4PSZajHkfl4zEJHSEvowy0hkKYNjtChqIslHi90RGiWREWO5XSHoiG/AOoV5qZWzEJ\n",
       "ZQAAAABJRU5ErkJggg==\n",
       "\" style=\"display:inline;vertical-align:middle;\" /></a></span><br>"
      ],
      "text/plain": [
       "<IPython.core.display.HTML object>"
      ]
     },
     "metadata": {},
     "output_type": "display_data"
    }
   ],
   "source": [
    "unfold_subset_eq_spec_as_imp = unfold_subset_eq_spec.as_implication(hypothesis=InSet(x,A))"
   ]
  },
  {
   "cell_type": "code",
   "execution_count": 6,
   "metadata": {},
   "outputs": [
    {
     "data": {
      "text/html": [
       "<span style=\"font-size:20px;\"><a class=\"ProveItLink\" href=\"../../../__pv_it/theorems/db7a164f644801bfd111812bb9a6a278f180c2b50/expr.ipynb\"><img src=\"data:image/png;base64,iVBORw0KGgoAAAANSUhEUgAAADsAAAASBAMAAAAXqLt+AAAAMFBMVEX///8AAAAAAAAAAAAAAAAA\n",
       "AAAAAAAAAAAAAAAAAAAAAAAAAAAAAAAAAAAAAAAAAAAv3aB7AAAAD3RSTlMAIs1UmauJMnZmRLsQ\n",
       "3e++988cAAAACXBIWXMAAA7EAAAOxAGVKw4bAAAA/UlEQVQoz2NgAAEhBrxAH0OEc//X0KDtEDbz\n",
       "f6hg9927d69DmHwbGBjiC8BMlngBMF3UiNAu38DAsN4BzEzMByvjuYhk+nyg0PwGEIuxod8ARLMu\n",
       "QJKOB2I9sKEsDPYTQDQTstteMzAchThjMUN9AoguRZJl/93RqglhOjDIB4BoUSRpjo8MDHZgMzm2\n",
       "uMRvADF4kaS5HzAwsH0HsU4wMPBfALthAkKaH2ge5w+I2Qy8D8BiWgjpeqBS1l9ABheQwfQBLHY0\n",
       "6gBMuh/op3oFIEMOZNNHiOCyvbBA1QPqewRUfPq/DgPz/k8JqDES/T80VNuAgYqA5e5dRIRCAACA\n",
       "ZT/mFM9iAgAAAABJRU5ErkJggg==\n",
       "\" style=\"display:inline;vertical-align:middle;\" /></a>, <a class=\"ProveItLink\" href=\"../../../__pv_it/_proof_unfold_subset_eq_contrapositive/b722695e347c4018a65877c03793115e907a818e0/expr.ipynb\"><img src=\"data:image/png;base64,iVBORw0KGgoAAAANSUhEUgAAAGkAAAAVBAMAAAC3TN2zAAAAMFBMVEX///8AAAAAAAAAAAAAAAAA\n",
       "AAAAAAAAAAAAAAAAAAAAAAAAAAAAAAAAAAAAAAAAAAAv3aB7AAAAD3RSTlMAInZUiRDNmWbv3US7\n",
       "qzJazP2FAAAACXBIWXMAAA7EAAAOxAGVKw4bAAABy0lEQVQ4y2NgYBBgwA1wyjEZ4JBgTGBg2IQm\n",
       "pjUnP3PtBiDDBJdxbB+ARjagCR7YxJh6m4GBNQGXLnugLoZUdF07GBx5GBjYG3Dpqv0IJNoxdTXz\n",
       "MjBwogjqrFoFs5tF5B+Q5AyAeP7UqmVwXWwMDGbImrapIthCTJ9BngM7hTspAGHXxRYGhhIgM0g3\n",
       "zgUUkozIvihg/gGy8QKILRaACI2gtQ4MDBkgBUyX2BeADEaKHm4Dvi9AigPs4ESEv3Zl/iplYFgM\n",
       "lBHg+MoLcgkbklXsDIx/gRTzBBAnATk0NLYFMMxmYOBjYIcIv1wFBAeg4VJe+wdI8YGCn28WUHwN\n",
       "TBcPtwNIFzCkFMBCMQirWIEiv0AOBdnFegDZLh6GAyAXMjDsF2AF+ZcL2YEMDCtBLgT5l2EBqq4E\n",
       "hkNAKzbcZGABx4oCXHYHEOeDQgNsjRKKLmYFBl9g0nlaybAZLJYMT7kgh50HBim7AzhJwlP4gS0M\n",
       "Tu4MDK8YGMKVmCsgwrGnIRHDev5bAIPN/xSgozeA+Xe2QjSpzTkPTvNcD5ATx5ZTq1BTsxQ09nyg\n",
       "KQoKOAoY8IEKHOIH8WliPIBDIgafLh5cRQCjAh5ditiFAV60cKWnhDnrAAAAAElFTkSuQmCC\n",
       "\" style=\"display:inline;vertical-align:middle;\" /></a> <a class=\"ProveItLink\" href=\"../../../__pv_it/_proof_unfold_subset_eq_contrapositive/f0aca09514eb1fb349f5f444ba4eded7bc94f4dd0/proof.ipynb\" style=\"text-decoration: none\">&nbsp;&#x22A2;&nbsp;&nbsp;</a><a class=\"ProveItLink\" href=\"../../../__pv_it/_proof_unfold_subset_eq_contrapositive/37ef575b14780979fafacea4d19edbc5b69a9ae40/expr.ipynb\"><img src=\"data:image/png;base64,iVBORw0KGgoAAAANSUhEUgAAAOoAAAAVBAMAAAC6fm+xAAAAMFBMVEX///8AAAAAAAAAAAAAAAAA\n",
       "AAAAAAAAAAAAAAAAAAAAAAAAAAAAAAAAAAAAAAAAAAAv3aB7AAAAD3RSTlMAInZUiRDNmWbv3US7\n",
       "qzJazP2FAAAACXBIWXMAAA7EAAAOxAGVKw4bAAACyElEQVRIx42VPWhTURTH/y/PZ5Lmw9BBURSf\n",
       "LYKDUgep6KLFuRgE6xIhIoEKgkGKhk4VxSyFRkEQdAh0ECJoUBEKDmkdRDvUxSJCSAYXXdI6VJc2\n",
       "nnvu+7gvyXvJgd9LcnL//3ty7kcApOCGhoBIwTvYRxbkodnfh04q2dGgWd9YdMcoBvHYC8RMCU4p\n",
       "ef18z+Hz7Xr9ZhOhOTBd4ZH5eFDcIo5JjKySn/IZ/xxI7AA5SDpjCgN4QG/TY3eaCavFF3xW4w/1\n",
       "5S9QhKQzCujvAYQbtCkieSaqflHyDDteqchGROh3RmjmaFpiRTzdS+bjAUxcbNLzCTOu9kDtNt4f\n",
       "td8lNqgtj4g5iRXJWg+Znwc0c0zs22lmRu0BbQRj5NvPCzzKXcFoDcYPKnTXV4kdD1xZXw+EcU4U\n",
       "PMlMKwrxO8I4Yc7yB/dotlZG1oUikpUAsxURr/OOrK8H3qIlqnvILNIgtiCHIWrBPSykv7PCFYyl\n",
       "oD8V3StJnBjnsy5kXMYL+Hsgj8OiTWeYZ3bbKRWtAk3ckYlfwkeu3GdCbIXkhsQJ40YVUsZxCP4e\n",
       "oU93G+Jdi+mcFXgsExnXfJtYELdKSeLeNhPoNWsvj0vAnjK9LjGLyqyiO4ht4jL3zd2r/+jRIDe9\n",
       "LLHXtXINdoedWX08IBZQFHyWWbFnpXTchLGaKIH3ZMi0BaFNmnlL7KaaxI4P1rm1R+6Dr0dMHDqx\n",
       "OPPMpNIwOhX6zpVSTNZ+3dmWVONSzjoVyjHRso6sr8d+URBVzyd1Br8VRbIM47Z5+r78dHVV3j2J\n",
       "te36+kduWFVi301NR9bPI9POQV/boopfQjDUVCSvPLfZuy8Vz0WDAxadf6QeWbCHVmYieSVXRGAU\n",
       "fC73Igb2EH82gmUlF08FKbSapCs8smCPgxYZ9dTXghTCr6enRxbssWyhmUpyOEhxxKI7hjGgRyjF\n",
       "/Adl3MyXBeWyuAAAAABJRU5ErkJggg==\n",
       "\" style=\"display:inline;vertical-align:middle;\" /></a></span>"
      ],
      "text/plain": [
       "{A subset_eq B, (x in A) in BOOLEAN} |- [not](x in B) => [not](x in A)"
      ]
     },
     "metadata": {},
     "output_type": "display_data"
    }
   ],
   "source": [
    "unfold_subset_eq_spec_as_imp.contrapose(assumptions=[InSet(InSet(x, A), Boolean)])"
   ]
  },
  {
   "cell_type": "code",
   "execution_count": null,
   "metadata": {},
   "outputs": [],
   "source": []
  }
 ],
 "metadata": {
  "kernelspec": {
   "display_name": "Python 3",
   "language": "python",
   "name": "python3"
  }
 },
 "nbformat": 4,
 "nbformat_minor": 0
}