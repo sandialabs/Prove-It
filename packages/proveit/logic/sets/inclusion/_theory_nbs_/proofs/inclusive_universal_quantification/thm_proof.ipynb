{
 "cells": [
  {
   "cell_type": "markdown",
   "metadata": {},
   "source": [
    "Proof of <a class=\"ProveItLink\" href=\"../../../../../../_theory_nbs_/theory.ipynb\">proveit</a>.<a class=\"ProveItLink\" href=\"../../../../../_theory_nbs_/theory.ipynb\">logic</a>.<a class=\"ProveItLink\" href=\"../../../../_theory_nbs_/theory.ipynb\">sets</a>.<a class=\"ProveItLink\" href=\"../../theory.ipynb\">inclusion</a>.<a class=\"ProveItLink\" href=\"../../theorems.ipynb#inclusive_universal_quantification\">inclusive_universal_quantification</a> theorem\n",
    "========"
   ]
  },
  {
   "cell_type": "code",
   "execution_count": 1,
   "metadata": {},
   "outputs": [],
   "source": [
    "import proveit\n",
    "theory = proveit.Theory() # the theorem's theory"
   ]
  },
  {
   "cell_type": "code",
   "execution_count": 2,
   "metadata": {},
   "outputs": [
    {
     "data": {
      "text/html": [
       "With these <a href=\"allowed_presumptions.txt\">allowed</a>/<a href=\"disallowed_presumptions.txt\">disallowed</a> theorem/theory presumptions (e.g., to avoid circular dependencies), we begin our proof of<br><strong id=\"inclusive_universal_quantification\">inclusive_universal_quantification:</strong> <a class=\"ProveItLink\" href=\"../../../__pv_it/theorems/7670e18015f317ffce243168f089b165c3e331c60/expr.ipynb\"><img src=\"data:image/png;base64,iVBORw0KGgoAAAANSUhEUgAAAY4AAAAXBAMAAADuNLVwAAAAMFBMVEX///8AAAAAAAAAAAAAAAAA\n",
       "AAAAAAAAAAAAAAAAAAAAAAAAAAAAAAAAAAAAAAAAAAAv3aB7AAAAD3RSTlMAq1RmmUTNIjK7EInv\n",
       "3XZ/CtNrAAAACXBIWXMAAA7EAAAOxAGVKw4bAAAExklEQVRYw9VXXWgcVRT+9mcyu7PtZoN90BZ0\n",
       "oEUQW1w0Vgq2XUnVxlANCFKL6GoRoT50fREq1ayPUiVR0GZVkhGkULVlrYkvi2WNBILFsqiRPBjZ\n",
       "tBGt2GTVSPoD1XP/Zu/szq67rD54IDlnZ775zv3uPffMHaBzyyA+n20NarqP+D7TLg9zF+dc1s4s\n",
       "biM22CL2nPSP05/PQ+3yGGX6N8ldgv3e2ImOW1n+ZjTx8cs9bz3AomBeXUo20NEmz3mug7l72c9n\n",
       "OpBhpVn+pjTdBHnXoeCYe+lAAx1t8nQ5XAe5l1mZjXSgI8yntinNMK37bawE+txLvQ10tMkTSnEd\n",
       "5JiimN2BjjU8f1OaZdq9y6wUitWnHF3H266Odnm+5DrIhWg6uzrZHjfz/E1pxtkfjSGYdi91JXUd\n",
       "r7g62uXZL3SQ+2p+/kwnOgZEn2lGcxmIXGMlSHNpLa0/coqeSOg6Qnm3X7XKc7IPFjWFj4UOcrvV\n",
       "sjoNnk6pwB+wX+TfXa2OWjzlNj+zxSIgjIXyHhp5WugIz3NbcXX48MCPJ78ZoQqwVegg9xxM3uys\n",
       "GbHEK4V+/jJ6dGWiJ8MCtesIEMnlcnkdRPa1yK9otEY2o/rlb4VP+NyvpUHchZ3OdVQaRc8+Dz6l\n",
       "dNTyRMYHJkbreSL2HgRoZJuFDnJRRxDGfhdLXEK8KINYSdchAbc4GohsWuRXNCz1Qm6wiqcMFbW5\n",
       "6XIW93FMxduvjk2jAc924Nd6HgtnsYZa17DQQS5YFvtq71nuAim+XjyIV3QdEhBJaKCqDkVDtiur\n",
       "40Xbd3UA/LLhXQ/z2Qwa8KwDdvrwGFcwTPcfEzrIIb2D3yw/KTA2TiRlsDah65AArNdA1boSNEv3\n",
       "L2biSS8ew+rty+oKxio+oNkrefbHdxn3XMJ4jAUEIHmmYH3jwxNO82XaInSQw6kDvPjEemPofO/1\n",
       "InDMddB0KADu1EBkYzI/o4lnbuiyj9fgsawmPlqG9WagCBpPaERfD2Oker5iPCe7nVcheMxrd9yT\n",
       "redBNIHXKdwmdJDDYT7re2UVboclhn/30jlH16EA+FkDiZbH8zOaEMYieLgGj4Pu6zqB4KX3i4bN\n",
       "W6em43ntnMh4XtiCC5KHtuJ7qXoehBPGH6LrT8rmH+ByBwo3ObIch3iCHvWU1KEA7LcLIntN5hc0\n",
       "q9QDqanZGr7/rzG1cUuwHixvup2VxqCuY1TTwXk24EbJQ1vR/LOeB9aGRcqFWaFj1j1L0siyohzx\n",
       "BA++8OpwAaGyBmIjympHpUjRxBEvXrc5N3rRc77K1J7bZzEjeWgrGpd8eWK07c0S12GW1B1axG7b\n",
       "ysO8AutbsGDVq4MD2Eh3QYK0o5rKfziWDlPn1PEe63WjvubfH3NGRfIMOTiR8uH5FB/Z4pA6KZw4\n",
       "tH4O66GnI1PYerXQT2+ZKVy46ug6JCCXe4cmWYCUHa3mD/94+heYoy6+Nn9UTTw70jbTsWlbWvCE\n",
       "DhYm3oAPzw9Ue8Ah8f1xqOZ+sC7Q+m4jO147pA9zuQbfddaIJqiJDisTTf4Dz8bFQTGHTMfRmvv7\n",
       "6oIWdJhlxFr9rn5J+p9oA33vo0PyBMqPtMQTp+m4OM2dx5J1gVcHO1/lUvjPzdiR//dJM/gf2N/+\n",
       "Z5MRzr0kLgAAAABJRU5ErkJggg==\n",
       "\" style=\"display:inline;vertical-align:middle;\" /></a><br>(see <a class=\"ProveItLink\" href=\"../../../__pv_it/theorems/b9231893f09eef4a846e8d2e4dc516483c890e4c0/dependencies.ipynb\">dependencies</a>)<br>"
      ],
      "text/plain": [
       "<IPython.core.display.HTML object>"
      ]
     },
     "metadata": {},
     "output_type": "display_data"
    }
   ],
   "source": [
    "%proving inclusive_universal_quantification"
   ]
  },
  {
   "cell_type": "code",
   "execution_count": null,
   "metadata": {},
   "outputs": [],
   "source": []
  }
 ],
 "metadata": {
  "kernelspec": {
   "display_name": "Python 3",
   "language": "python",
   "name": "python3"
  }
 },
 "nbformat": 4,
 "nbformat_minor": 0
}