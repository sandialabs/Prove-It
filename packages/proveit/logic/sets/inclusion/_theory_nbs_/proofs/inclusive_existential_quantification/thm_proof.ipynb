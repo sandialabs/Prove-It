{
 "cells": [
  {
   "cell_type": "markdown",
   "metadata": {},
   "source": [
    "Proof of <a class=\"ProveItLink\" href=\"../../../../../../_theory_nbs_/theory.ipynb\">proveit</a>.<a class=\"ProveItLink\" href=\"../../../../../_theory_nbs_/theory.ipynb\">logic</a>.<a class=\"ProveItLink\" href=\"../../../../_theory_nbs_/theory.ipynb\">sets</a>.<a class=\"ProveItLink\" href=\"../../theory.ipynb\">inclusion</a>.<a class=\"ProveItLink\" href=\"../../theorems.ipynb#inclusive_existential_quantification\">inclusive_existential_quantification</a> theorem\n",
    "========"
   ]
  },
  {
   "cell_type": "code",
   "execution_count": 1,
   "metadata": {},
   "outputs": [],
   "source": [
    "import proveit\n",
    "theory = proveit.Theory() # the theorem's theory"
   ]
  },
  {
   "cell_type": "code",
   "execution_count": 2,
   "metadata": {},
   "outputs": [
    {
     "data": {
      "text/html": [
       "With these <a href=\"allowed_presumptions.txt\">allowed</a>/<a href=\"disallowed_presumptions.txt\">disallowed</a> theorem/theory presumptions (e.g., to avoid circular dependencies), we begin our proof of<br><strong id=\"inclusive_existential_quantification\">inclusive_existential_quantification:</strong> <a class=\"ProveItLink\" href=\"../../../__pv_it/theorems/f3bf0946f8a7a9c061021dd6df29db96daab748d0/expr.ipynb\"><img src=\"data:image/png;base64,iVBORw0KGgoAAAANSUhEUgAAAY4AAAAXBAMAAADuNLVwAAAAMFBMVEX///8AAAAAAAAAAAAAAAAA\n",
       "AAAAAAAAAAAAAAAAAAAAAAAAAAAAAAAAAAAAAAAAAAAv3aB7AAAAD3RSTlMAq1RmmUTNIjK7EInv\n",
       "3XZ/CtNrAAAACXBIWXMAAA7EAAAOxAGVKw4bAAAEvklEQVRYw9VXbWhbVRh+8nF7k5stTXE/nAO9\n",
       "sOEfNxa0TAZui9SvWqYBQeYHGjdEmD8W/wiTaeNPmdIqaBuR9goyqLoRaytKUGKlMBRHmFb6Y5F0\n",
       "q8jEdVEr3QdM3/Nxb87NvWlSoz98IX3f3vuc5z3P+XjPuUDnlkW8kmsPqjtNfNuslYe5C/MOa2cW\n",
       "NxFLt4k9K/0T9PNptFYerUp/prlLsP83d6LjFpY/XKlUzjTpRXz8cs9b97MoWLAfJZvoWCPPOa6D\n",
       "ubvZv890IMPI2F2iifG3boK8Y1FwzHl0cJX5WANPl8V1kHuZLbPhDnSEky3zD9G8b2dLoM951PtP\n",
       "dHh5QimugxxTFDM70LGudf6LtHsvsqVQqreyVB1vt6fDh+drroNciIazq5PtcXPr/OPsR30IZpxH\n",
       "XUlVxyvt6fDhOSB0kPu2UvmmEx0DrfNfBiLX2BKksTSWbjg6SS0Sqo5QoS0dKs+JPhhUoz4SOsjd\n",
       "Z0+r1aR1yg78AQea5rfxlFv/3BSTgDAWqnup5xnRiNUnsuV2dLh4ClsRqgE7hA5yz0Hntdc4KaZ4\n",
       "udjPD6NHlqd6siywiwAHfJbPjyggstM8f5DVS3d+SUj9+q34Me/gegLcjj3WdbQ0Sq59HtwvdXh4\n",
       "IuMDU6Nenoi5FwHq2Vahg1zUEoSx38UUlxEvySBWVnUwwETaDSKb9YxjZCGfrhNShpq9uelxDvdw\n",
       "TM1dr47NognPLuBXL4+BU1hHpWtI6CAXrIptvu8Ud4EUny8exGuqDgYYgRvkq+OunEooyr6jA+CP\n",
       "Nfd86M9m0YRnA7DHh0e7giF6/7jQQQ6Z3fxl9SmBMXE8KYP1CVUHAXS5Hx2Qs65k/qV7F7PxJFRC\n",
       "Giz79GXrCtoK3qfRK7v2xw9Z1/7QFhCA5JmB8Z0PTzjDp2mb0EEOkwd5YzHfGDzXe70ILH0DFB0M\n",
       "EJQj5YDIxpT88ezGLnOijpdl3x74aBXGm4ESqD+hYXU+tGH3Pj/Rbb0KwaNfu+3OnJcH0QRep3Cn\n",
       "0EEOR/io75OrcBcM0f07ls5aqg4G0ORQOyBR8pz8IYxF8FAdL+yQc1wnELz0XkkzeelUdDzfcH68\n",
       "sA3nJQ9txXdTXh6EE9ofoupPy+If4HIHijdZcjkOcrYeu5XUwQBGQsQOiOw11/1uhWpgPp8364To\n",
       "/2vMrj1lGA9Ut9zKlkZa1THaeE/chBslD21F/U8vD4xNi5QLc0LHnHOXpJ7lxHLEkzz4yq1DACYB\n",
       "F4j1KKdclSIlHUfdhKrNO9GLrvtVtvHePoeTkoe2onbJlydG214vcx162X5Dk9htGgXoV2B8Dxas\n",
       "uHVwAMKf8jXLQcpVzc5/JJYJUyGv4xus14n6Vv/+mNdqkmfQwvGUD88n+NAUl9Rp4cSl9UsYDz4d\n",
       "mcGOq8V+OmVmcP6qpeoQAOAxdg4KkG0j9fzhn774Bfqogndb1B54dsNeTceWnRnBEzpUnHoDPjw/\n",
       "0toDDovvj8MN74OeQKm7zWyisUsf5PNNvoSMYUXQKjqMbDTZgmfzYlqMIdMx0vD+UU/Qhg69ili7\n",
       "39UvSf8zbSCfzz6bJ1B9uC2eOA3HhVnuXJb0BA06Nub5/eq/Nm134d8nzeJ/YH8DdImUV7H/Ex0A\n",
       "AAAASUVORK5CYII=\n",
       "\" style=\"display:inline;vertical-align:middle;\" /></a><br>(see <a class=\"ProveItLink\" href=\"../../../__pv_it/theorems/581f289623c43f813c5bbacbef60d87515ff0db40/dependencies.ipynb\">dependencies</a>)<br>"
      ],
      "text/plain": [
       "<IPython.core.display.HTML object>"
      ]
     },
     "metadata": {},
     "output_type": "display_data"
    }
   ],
   "source": [
    "%proving inclusive_existential_quantification"
   ]
  },
  {
   "cell_type": "code",
   "execution_count": null,
   "metadata": {},
   "outputs": [],
   "source": []
  }
 ],
 "metadata": {
  "kernelspec": {
   "display_name": "Python 3",
   "language": "python",
   "name": "python3"
  }
 },
 "nbformat": 4,
 "nbformat_minor": 0
}