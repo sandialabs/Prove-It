{
 "cells": [
  {
   "cell_type": "markdown",
   "metadata": {},
   "source": [
    "Proof of <a class=\"ProveItLink\" href=\"../../../../../../_theory_nbs_/theory.ipynb\">proveit</a>.<a class=\"ProveItLink\" href=\"../../../../../_theory_nbs_/theory.ipynb\">logic</a>.<a class=\"ProveItLink\" href=\"../../../../_theory_nbs_/theory.ipynb\">sets</a>.<a class=\"ProveItLink\" href=\"../../theory.ipynb\">inclusion</a>.<a class=\"ProveItLink\" href=\"../../theorems.ipynb#transitivity_subset_eq_subset\">transitivity_subset_eq_subset</a> theorem\n",
    "========"
   ]
  },
  {
   "cell_type": "code",
   "execution_count": 1,
   "metadata": {},
   "outputs": [],
   "source": [
    "import sys\n",
    "sys.path.append('..') # allows access to modules in parent theory\n",
    "import proveit"
   ]
  },
  {
   "cell_type": "code",
   "execution_count": 2,
   "metadata": {},
   "outputs": [
    {
     "data": {
      "text/html": [
       "With these <a href=\"allowed_presumptions.txt\">allowed</a>/<a href=\"disallowed_presumptions.txt\">disallowed</a> theorem/theory presumptions (e.g., to avoid circular dependencies), we begin our proof of<br><strong id=\"transitivity_subset_eq_subset\">transitivity_subset_eq_subset:</strong> <a class=\"ProveItLink\" href=\"../../../__pv_it/theorems/7bf6c87e4d9bed06269892fe737efb2387b4847f0/expr.ipynb\"><img src=\"data:image/png;base64,iVBORw0KGgoAAAANSUhEUgAAAPcAAAAXBAMAAAAl5sTiAAAAMFBMVEX///8AAAAAAAAAAAAAAAAA\n",
       "AAAAAAAAAAAAAAAAAAAAAAAAAAAAAAAAAAAAAAAAAAAv3aB7AAAAD3RSTlMAq1RmmUTNIjK7EInv\n",
       "3XZ/CtNrAAAACXBIWXMAAA7EAAAOxAGVKw4bAAADY0lEQVRIx7VWXUgUURT+dnbH2Z3VSWmDeoiG\n",
       "6iUIEpLerJUski1c8EW0H3uQwALXZ0vXiCDyoYKwjcIRJBITTITKhSwpiKKSCvKhpa0IUSL6NVP6\n",
       "OffenR92tTXYvXBnzr33zP3OPec75w6Qr6ZkWY8gj+2tMKFhsfX91IuZsC732NIgfxV8ylxSp0qW\n",
       "K4NaKbCDDQ/lHvyKeG1aAPzDNKQ9pWgCOphvzuQefLt4VfzIWOmboEd1BGXkFwPw67kHv8Of/tbZ\n",
       "1HgqkUhMcOkIIWIvUGjATa4vyEPIBdHatC9ifPKGueLnMycIlZAfJxKPcg/uEXwLSl8Fx15aK+3j\n",
       "7HmVrCCu7wIu8lljsX0slv4HODsWIOveeT50ha2V0WRKcJNzWqDwdFMf8KlT3+JVUS5pgXg/M8hn\n",
       "fnaN5v2xWCwCb3do+EKaOmtvQiMjQirShd3KZ2GLbdZrs7pIRAuf4Q/bsYB7HBoni/wMuAQn+KgO\n",
       "9bwQyylhnOqnV8W6gH06fIJoKOR7TlVW/OTDDhv8qelmL2WhlBRm1T4RDgrCzXNzI62vd4LLnUn4\n",
       "UmYHgG0Odc9NfpSH1IMOcJU8/IsPWxwn56rkLZnZ2bCVTyYPiq90DLB4KcwRx53gWkExWlPyGNTn\n",
       "DvUhQSVytVd3uJ2x5ZUY2uDVzH4/M4Axb6iJb42dYod3ZSv5kcZNbRM86WnA2tSl8XtzRdRWVzlp\n",
       "sNpBOB+jVQ31ZkHaUpvtbIUxw81K21H+aW0qiOVQA/xIwTRwOUrBrYEZ6Z6grS6Lre85wFkeKcyv\n",
       "3SJQjXYFoOSrN8xsdPEzhOJrjFQ021m8CpmBugPcE78+hx6YkVa+w1KXhK8ZaaQUhHccaveMgQ1/\n",
       "DouausLK5N6zAc7GIiv9NNokKqKJA0xwkelaxAGehDJrFmKKtDwLS10RFaWE+qS54URa4tdfNsur\n",
       "2Y5ZEvlzma4OQpmD+gLoh3ofeO9wO3MtcTDELWw3MBCErd4l6kAYmnWasqVePeTTu1CrG71j2DIf\n",
       "r6LTderoDX00HOC7i9E7E4Z8i4qMuzk+fI5ca6n3cZPUytvTNuOy/alkXKWSJTnuOd/it4clkUld\n",
       "aX8M2a7pDOvqTEE2lgJe96/N27KAT6ZPWNnoxsLgrhiv7enq+WtK3nb+C1AG1yzAefvVAAAAAElF\n",
       "TkSuQmCC\n",
       "\" style=\"display:inline;vertical-align:middle;\" /></a><br>(see <a class=\"ProveItLink\" href=\"../../../__pv_it/theorems/78fc9ada8543397b223f70c05327150d477d39930/dependencies.ipynb\">dependencies</a>)<br>"
      ],
      "text/plain": [
       "<IPython.core.display.HTML object>"
      ]
     },
     "metadata": {},
     "output_type": "display_data"
    },
    {
     "name": "stdout",
     "output_type": "stream",
     "text": [
      "transitivity_subset_eq_subset may now be readily provable (assuming required theorems are usable).  Simply execute \"%qed\".\n"
     ]
    }
   ],
   "source": [
    "%proving transitivity_subset_eq_subset"
   ]
  },
  {
   "cell_type": "code",
   "execution_count": null,
   "metadata": {},
   "outputs": [],
   "source": []
  }
 ],
 "metadata": {
  "kernelspec": {
   "display_name": "Python 3",
   "language": "python",
   "name": "python3"
  }
 },
 "nbformat": 4,
 "nbformat_minor": 0
}