{
 "cells": [
  {
   "cell_type": "markdown",
   "metadata": {},
   "source": [
    "Proof of <a class=\"ProveItLink\" href=\"../../../../../../_theory_nbs_/theory.ipynb\">proveit</a>.<a class=\"ProveItLink\" href=\"../../../../../_theory_nbs_/theory.ipynb\">logic</a>.<a class=\"ProveItLink\" href=\"../../../../_theory_nbs_/theory.ipynb\">sets</a>.<a class=\"ProveItLink\" href=\"../../theory.ipynb\">inclusion</a>.<a class=\"ProveItLink\" href=\"../../theorems.ipynb#not_subset_eq_is_bool\">not_subset_eq_is_bool</a> theorem\n",
    "========"
   ]
  },
  {
   "cell_type": "code",
   "execution_count": 1,
   "metadata": {},
   "outputs": [],
   "source": [
    "import proveit\n",
    "theory = proveit.Theory() # the theorem's theory"
   ]
  },
  {
   "cell_type": "code",
   "execution_count": 2,
   "metadata": {},
   "outputs": [
    {
     "data": {
      "text/html": [
       "With these <a href=\"allowed_presumptions.txt\">allowed</a>/<a href=\"disallowed_presumptions.txt\">disallowed</a> theorem/theory presumptions (e.g., to avoid circular dependencies), we begin our proof of<br><strong id=\"not_subset_eq_is_bool\">not_subset_eq_is_bool:</strong> <a class=\"ProveItLink\" href=\"../../../__pv_it/theorems/6a8c99d0c5a13f6d0c1777aab7456a973f60adb70/expr.ipynb\"><img src=\"data:image/png;base64,iVBORw0KGgoAAAANSUhEUgAAALcAAAAYBAMAAABKCnGXAAAAMFBMVEX///8AAAAAAAAAAAAAAAAA\n",
       "AAAAAAAAAAAAAAAAAAAAAAAAAAAAAAAAAAAAAAAAAAAv3aB7AAAAD3RSTlMAq1RmmUTNIjK7EInv\n",
       "3XZ/CtNrAAAACXBIWXMAAA7EAAAOxAGVKw4bAAADLElEQVRIx7VVTUhUURT+Zp7jOO85Y4JF0mIG\n",
       "gjZZzcKEiFLoh8RFQ23EIg2JaLBSAiEw1E3QIuYtoj8onxvBRTG6iXCRCUU/WBJqGT6acCH9qUVp\n",
       "P5Cd+/PeOG/eGEId+Hj3nnved88599xzgZVLAf6NNEtkSDBj5l/m12UlFBEgaU1rd2bY+FKOfyYv\n",
       "zw+vBo7QeBVTrM9BvlGC5HRa+1p8lK7PxWuuAlOOnwK+VGt3DKEosIfNj7tzqw0CJN5FqXtnTg6/\n",
       "EsNCHQh3IN9wkke1ZlqKA50sbbo7eV5UgA3DIofnp+HpkMvtlJD6KihVWeRKhBJSDr6vFnEnL5Qg\n",
       "uXOPU6ovgR5ruZJUlbTBE5nsG+a4TU7xFhpQyLP8HCnfIEGxpWa5A54Y0G8thwlNFFCjONhThu25\n",
       "50ySWIl52DSf5iCvkaCsYAtPD3NjxFp+DHSz9PeJcjLstLz/tI6+GqVmH3CdK40s8kZYbh1AIsm+\n",
       "dEJK0rpLP2be8tUKZBRFwDf+fJTIFEpNC/y8HNVHfOnC14Fq68ReSABVaOdGLUgXR2gBKGPxlPFp\n",
       "w5IDDW2lUvEO0tjQYkynfRHVO4LQoDR7IIHQpd1hXV7OTpuEzLTvNEjwOCi95oQkh36INHO0QUqc\n",
       "Z+0z/vFQbc05yW8DRTzVeRGstciLKBblNw0O88D1JZ5DD9AJMx8bxHVOHRXlF8GtqDMtVMlBHo46\n",
       "ptrhJ8jM840Gm/h0JIOcHPYyTX+cR4694mZMldu+3ZTwsXIV4fSUWDtjlqowwbbaxqczGeSbKSoW\n",
       "Sxs/qlp85Es7oJZYZn0SbeyXBaGrP2ma4vo30a4PDbta8yM2eVL7QLHmsbIS17lmIMzLgJjbY9Ls\n",
       "okDvYhzervmk3cu4lC4WF5/ghGOiEZXWiSJqusa7IoIxu1ESJ99kiJyzSjHYIbBUsnucX2bbd1dc\n",
       "f0vO2aODdPoRNQn/T6ijlpK1JEdbKtBd25ub7LIN7kPdf6xgCBW/BqrTbeyKRJroDVWzzLklZ925\n",
       "s1qt1zHvlcj1xNkeuEjA+c7VOXdPCaRle/ZTmOOxnHYqon99seP4j9K8EuM/ceDC9XKe5UgAAAAA\n",
       "SUVORK5CYII=\n",
       "\" style=\"display:inline;vertical-align:middle;\" /></a><br>(see <a class=\"ProveItLink\" href=\"../../../__pv_it/theorems/049096878bab5f67b90b72e541e9fa7e078790da0/dependencies.ipynb\">dependencies</a>)<br>"
      ],
      "text/plain": [
       "<IPython.core.display.HTML object>"
      ]
     },
     "metadata": {},
     "output_type": "display_data"
    }
   ],
   "source": [
    "%proving not_subset_eq_is_bool"
   ]
  },
  {
   "cell_type": "code",
   "execution_count": null,
   "metadata": {},
   "outputs": [],
   "source": []
  }
 ],
 "metadata": {
  "kernelspec": {
   "display_name": "Python 3",
   "language": "python",
   "name": "python3"
  }
 },
 "nbformat": 4,
 "nbformat_minor": 0
}