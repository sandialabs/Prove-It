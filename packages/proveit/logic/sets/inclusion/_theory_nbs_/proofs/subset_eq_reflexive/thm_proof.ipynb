{
 "cells": [
  {
   "cell_type": "markdown",
   "metadata": {},
   "source": [
    "Proof of <a class=\"ProveItLink\" href=\"../../../../../../_theory_nbs_/theory.ipynb\">proveit</a>.<a class=\"ProveItLink\" href=\"../../../../../_theory_nbs_/theory.ipynb\">logic</a>.<a class=\"ProveItLink\" href=\"../../../../_theory_nbs_/theory.ipynb\">sets</a>.<a class=\"ProveItLink\" href=\"../../theory.ipynb\">inclusion</a>.<a class=\"ProveItLink\" href=\"../../theorems.ipynb#subset_eq_reflexive\">subset_eq_reflexive</a> theorem\n",
    "========"
   ]
  },
  {
   "cell_type": "code",
   "execution_count": 1,
   "metadata": {},
   "outputs": [],
   "source": [
    "import proveit\n",
    "from proveit import A, B, x\n",
    "from proveit.logic.sets.inclusion import fold_subset_eq\n",
    "theory = proveit.Theory() # the theorem's theory"
   ]
  },
  {
   "cell_type": "code",
   "execution_count": 2,
   "metadata": {},
   "outputs": [
    {
     "data": {
      "text/html": [
       "With these <a href=\"allowed_presumptions.txt\">allowed</a>/<a href=\"disallowed_presumptions.txt\">disallowed</a> theorem/theory presumptions (e.g., to avoid circular dependencies), we begin our proof of<br><strong id=\"subset_eq_reflexive\">subset_eq_reflexive:</strong> <a class=\"ProveItLink\" href=\"../../../__pv_it/theorems/2a19e3d591ef9bab71b0a9af46e46881e197d3430/expr.ipynb\"><img src=\"data:image/png;base64,iVBORw0KGgoAAAANSUhEUgAAAGwAAAAVBAMAAABRZRb3AAAAMFBMVEX///8AAAAAAAAAAAAAAAAA\n",
       "AAAAAAAAAAAAAAAAAAAAAAAAAAAAAAAAAAAAAAAAAAAv3aB7AAAAD3RSTlMAq1RmmUTNIjK7EInv\n",
       "3XZ/CtNrAAAACXBIWXMAAA7EAAAOxAGVKw4bAAABz0lEQVQ4y4VTzStEURT/GW+88YbBwnqmrBSZ\n",
       "hZSNRj5SErGRLEhSlI+NEvn4C1gopTSzUhaEjWSBnYhslIVXEyulfJWPpHHPuffp3nrMqfvOvffX\n",
       "75x7fuc8wMds/Gt/wbcS7fPDJoFgGiimfZmBBLbZ5T350cbEugOaaD9kIOvSVSlaZM113XkvZIYC\n",
       "prBAz1kyaA3S1b+zC42Oa5gVFafcBDERjhm0I/6Gpz/Yb+os7B1S3lPkxkVSszQpxWzkhX2pIWL6\n",
       "kVIMAOeue2bQLKlIIvDK3tDTQpVIgx2gBVjlq5SC8ghAMBb64tKKdVonFiloDTABmxHnREGFMRnX\n",
       "fuZnGbQE5uhcAeSnwh0swYuCCvh431j/ycdLjRVZboyS6otCgbRUpPtCpzliEr71drBtAUUUppdq\n",
       "ruOrdL/+SEusG1lqh/5GFFJ7KsXaHeb8aFZYvkiELjVHIm9Jj8cKxtXI1Yo1w0V340GBYXG2KWZS\n",
       "Njq47w3XDAWl2WkVK4evWg+iqgOhSzjJtxTKMyPmFG9khhFIvokOXP1qBMx543qNLGb/qitqKfIm\n",
       "szobzYp7m2M47YOeJsbwtrmu9uOwTfkGc5ayZFvxv579nxUZxw/2EmcFadtSWgAAAABJRU5ErkJg\n",
       "gg==\n",
       "\" style=\"display:inline;vertical-align:middle;\" /></a><br>(see <a class=\"ProveItLink\" href=\"../../../__pv_it/theorems/e353e99c6089a9fdc628ee637e185c788ed840990/dependencies.ipynb\">dependencies</a>)<br>"
      ],
      "text/plain": [
       "<IPython.core.display.HTML object>"
      ]
     },
     "metadata": {},
     "output_type": "display_data"
    },
    {
     "name": "stdout",
     "output_type": "stream",
     "text": [
      "subset_eq_reflexive may now be readily provable (assuming required theorems are usable).  Simply execute \"%qed\".\n"
     ]
    }
   ],
   "source": [
    "%proving subset_eq_reflexive"
   ]
  },
  {
   "cell_type": "code",
   "execution_count": 3,
   "metadata": {},
   "outputs": [
    {
     "name": "stdout",
     "output_type": "stream",
     "text": [
      "proveit.logic.sets.inclusion.subset_eq_reflexive has been proven.\n"
     ]
    },
    {
     "data": {
      "text/html": [
       "<table><tr><th>&nbsp;</th><th>step type</th><th>requirements</th><th>statement</th></tr>\n",
       "<tr><td><a name=\"0x4f757bb6d2d02c9e_step0\">0</a></td><td>generalization</td><td><a href=\"#0x4f757bb6d2d02c9e_step1\">1</a></td><td><span style=\"font-size:20px;\"> <a class=\"ProveItLink\" href=\"../../../__pv_it/_proof_subset_eq_reflexive/6567475e832972c404b550814152e07c7d345cc00/proof.ipynb\" style=\"text-decoration: none\">&nbsp;&#x22A2;&nbsp;&nbsp;</a><a class=\"ProveItLink\" href=\"../../../__pv_it/theorems/2a19e3d591ef9bab71b0a9af46e46881e197d3430/expr.ipynb\"><img src=\"data:image/png;base64,iVBORw0KGgoAAAANSUhEUgAAAGwAAAAVBAMAAABRZRb3AAAAMFBMVEX///8AAAAAAAAAAAAAAAAA\n",
       "AAAAAAAAAAAAAAAAAAAAAAAAAAAAAAAAAAAAAAAAAAAv3aB7AAAAD3RSTlMAq1RmmUTNIjK7EInv\n",
       "3XZ/CtNrAAAACXBIWXMAAA7EAAAOxAGVKw4bAAABz0lEQVQ4y4VTzStEURT/GW+88YbBwnqmrBSZ\n",
       "hZSNRj5SErGRLEhSlI+NEvn4C1gopTSzUhaEjWSBnYhslIVXEyulfJWPpHHPuffp3nrMqfvOvffX\n",
       "75x7fuc8wMds/Gt/wbcS7fPDJoFgGiimfZmBBLbZ5T350cbEugOaaD9kIOvSVSlaZM113XkvZIYC\n",
       "prBAz1kyaA3S1b+zC42Oa5gVFafcBDERjhm0I/6Gpz/Yb+os7B1S3lPkxkVSszQpxWzkhX2pIWL6\n",
       "kVIMAOeue2bQLKlIIvDK3tDTQpVIgx2gBVjlq5SC8ghAMBb64tKKdVonFiloDTABmxHnREGFMRnX\n",
       "fuZnGbQE5uhcAeSnwh0swYuCCvh431j/ycdLjRVZboyS6otCgbRUpPtCpzliEr71drBtAUUUppdq\n",
       "ruOrdL/+SEusG1lqh/5GFFJ7KsXaHeb8aFZYvkiELjVHIm9Jj8cKxtXI1Yo1w0V340GBYXG2KWZS\n",
       "Njq47w3XDAWl2WkVK4evWg+iqgOhSzjJtxTKMyPmFG9khhFIvokOXP1qBMx543qNLGb/qitqKfIm\n",
       "szobzYp7m2M47YOeJsbwtrmu9uOwTfkGc5ayZFvxv579nxUZxw/2EmcFadtSWgAAAABJRU5ErkJg\n",
       "gg==\n",
       "\" style=\"display:inline;vertical-align:middle;\" /></a></span></td></tr>\n",
       "<tr><td><a name=\"0x4f757bb6d2d02c9e_step1\">1</a></td><td>instantiation</td><td><a href=\"#0x4f757bb6d2d02c9e_step2\">2</a>, <a href=\"#0x4f757bb6d2d02c9e_step3\">3</a></td><td><span style=\"font-size:20px;\"> <a class=\"ProveItLink\" href=\"../../../__pv_it/_proof_subset_eq_reflexive/c881cbbda1fcb667918f0825cd6fff0ffd3582bb0/proof.ipynb\" style=\"text-decoration: none\">&nbsp;&#x22A2;&nbsp;&nbsp;</a><a class=\"ProveItLink\" href=\"../../../__pv_it/theorems/f42de4bb2ce292c235d88b89922dd44fadcc6ded0/expr.ipynb\"><img src=\"data:image/png;base64,iVBORw0KGgoAAAANSUhEUgAAADsAAAASBAMAAAAXqLt+AAAAMFBMVEX///8AAAAAAAAAAAAAAAAA\n",
       "AAAAAAAAAAAAAAAAAAAAAAAAAAAAAAAAAAAAAAAAAAAv3aB7AAAAD3RSTlMAIs1UmauJMnZmRLsQ\n",
       "3e++988cAAAACXBIWXMAAA7EAAAOxAGVKw4bAAAAt0lEQVQoz2NgAAEhBmwALqqPVRomyvwfyuDY\n",
       "e/fu3QJ0UZZ4ATDNriGApBkmypCYD9FxFlkWLsrY0G8AZkQhy8JFWRjsJ4AZCsjScNHFDPUJYKsD\n",
       "kKVhogwODPJgCUYUaZgoxxaX+A1gkQtIsnDREwwM/BAJTyRpuKgDAwPvA7AQ0wJksyGiXED3MX0A\n",
       "C/GEroHJwkXlgJj7I1QwGxaoMNHT/3UYmPd/SkCNDeyiFAHfu3eRIhQEAJS6NvdHNxgCAAAAAElF\n",
       "TkSuQmCC\n",
       "\" style=\"display:inline;vertical-align:middle;\" /></a></span></td></tr>\n",
       "<tr><td>&nbsp;</td><td colspan=4 style=\"text-align:left\"><span style=\"font-size:20px;\"><a class=\"ProveItLink\" href=\"../../../../../../__pv_it/common/09585084922504426caf1db2ff588a23a0932a960/expr.ipynb\"><img src=\"data:image/png;base64,iVBORw0KGgoAAAANSUhEUgAAAA8AAAAPBAMAAADJ+Ih5AAAAMFBMVEX///8AAAAAAAAAAAAAAAAA\n",
       "AAAAAAAAAAAAAAAAAAAAAAAAAAAAAAAAAAAAAAAAAAAv3aB7AAAAD3RSTlMAIs1UmauJMnZmRLsQ\n",
       "3e++988cAAAACXBIWXMAAA7EAAAOxAGVKw4bAAAAXklEQVQI12NgAAEhBijQh9LM/6EMlngBCCMx\n",
       "vwBMMzb0G0BkGOwngBmLGeoTwAwHBvkAEM2xxSV+A4hxgoGB/wJEhoH3AZDmAupg+gBkyAEx90cG\n",
       "htP/dRiY939KAABt3hLO6mcEjQAAAABJRU5ErkJggg==\n",
       "\" style=\"display:inline;vertical-align:middle;\" /></a> : <a class=\"ProveItLink\" href=\"../../../../../../__pv_it/common/09585084922504426caf1db2ff588a23a0932a960/expr.ipynb\"><img src=\"data:image/png;base64,iVBORw0KGgoAAAANSUhEUgAAAA8AAAAPBAMAAADJ+Ih5AAAAMFBMVEX///8AAAAAAAAAAAAAAAAA\n",
       "AAAAAAAAAAAAAAAAAAAAAAAAAAAAAAAAAAAAAAAAAAAv3aB7AAAAD3RSTlMAIs1UmauJMnZmRLsQ\n",
       "3e++988cAAAACXBIWXMAAA7EAAAOxAGVKw4bAAAAXklEQVQI12NgAAEhBijQh9LM/6EMlngBCCMx\n",
       "vwBMMzb0G0BkGOwngBmLGeoTwAwHBvkAEM2xxSV+A4hxgoGB/wJEhoH3AZDmAupg+gBkyAEx90cG\n",
       "htP/dRiY939KAABt3hLO6mcEjQAAAABJRU5ErkJggg==\n",
       "\" style=\"display:inline;vertical-align:middle;\" /></a>, <a class=\"ProveItLink\" href=\"../../../../../../__pv_it/common/a9162d1c3cc0470c02e5daf414500903a7a419230/expr.ipynb\"><img src=\"data:image/png;base64,iVBORw0KGgoAAAANSUhEUgAAABAAAAAOBAMAAADUAYG5AAAAMFBMVEX///8AAAAAAAAAAAAAAAAA\n",
       "AAAAAAAAAAAAAAAAAAAAAAAAAAAAAAAAAAAAAAAAAAAv3aB7AAAAD3RSTlMAZrurzTLvInZEmRDd\n",
       "VIkafcLnAAAACXBIWXMAAA7EAAAOxAGVKw4bAAAAb0lEQVQI12NgYBD6b2zsFMAABEkMDMxfgTT7\n",
       "DwYGzl9ABiOQxwjkMDB/YGBgSQcy2BQYuG1AiuM1OkwEQJr6Cxh4E0EMNSB+D5L6DMTyDQwMrB+B\n",
       "DPsJDAwc34GcL0AOSwIDwzRvoHH6n41NdBkYAF/iFeJ4bEa2AAAAAElFTkSuQmCC\n",
       "\" style=\"display:inline;vertical-align:middle;\" /></a> : <a class=\"ProveItLink\" href=\"../../../../../../__pv_it/common/09585084922504426caf1db2ff588a23a0932a960/expr.ipynb\"><img src=\"data:image/png;base64,iVBORw0KGgoAAAANSUhEUgAAAA8AAAAPBAMAAADJ+Ih5AAAAMFBMVEX///8AAAAAAAAAAAAAAAAA\n",
       "AAAAAAAAAAAAAAAAAAAAAAAAAAAAAAAAAAAAAAAAAAAv3aB7AAAAD3RSTlMAIs1UmauJMnZmRLsQ\n",
       "3e++988cAAAACXBIWXMAAA7EAAAOxAGVKw4bAAAAXklEQVQI12NgAAEhBijQh9LM/6EMlngBCCMx\n",
       "vwBMMzb0G0BkGOwngBmLGeoTwAwHBvkAEM2xxSV+A4hxgoGB/wJEhoH3AZDmAupg+gBkyAEx90cG\n",
       "htP/dRiY939KAABt3hLO6mcEjQAAAABJRU5ErkJggg==\n",
       "\" style=\"display:inline;vertical-align:middle;\" /></a>, <a class=\"ProveItLink\" href=\"../../../../../../__pv_it/common/a0d9d672aa5e272d907247690c152cc2c6daafb70/expr.ipynb\"><img src=\"data:image/png;base64,iVBORw0KGgoAAAANSUhEUgAAAAsAAAAJBAMAAAAWSsseAAAAMFBMVEX///8AAAAAAAAAAAAAAAAA\n",
       "AAAAAAAAAAAAAAAAAAAAAAAAAAAAAAAAAAAAAAAAAAAv3aB7AAAAD3RSTlMAEHarMolUmd1mIs3v\n",
       "RLtmgJDEAAAACXBIWXMAAA7EAAAOxAGVKw4bAAAAQklEQVQI12NgEFIWCU1gYChgMmJvYOBcwPmR\n",
       "eQIDCwP7BgYQ4FEAU/cXMAowyF2wYWBlYMh3rGG4xsAgrsRWmcAAAFEjCyBvD0T9AAAAAElFTkSu\n",
       "QmCC\n",
       "\" style=\"display:inline;vertical-align:middle;\" /></a> : <a class=\"ProveItLink\" href=\"../../../__pv_it/_proof_subset_eq_reflexive/006c465e50948aa2b52285e2de47974f741255cc0/expr.ipynb\"><img src=\"data:image/png;base64,iVBORw0KGgoAAAANSUhEUgAAABgAAAAJBAMAAADa0/H1AAAAMFBMVEX///8AAAAAAAAAAAAAAAAA\n",
       "AAAAAAAAAAAAAAAAAAAAAAAAAAAAAAAAAAAAAAAAAAAv3aB7AAAAD3RSTlMAMrsiq4l2RO8QZpnd\n",
       "VM2humBGAAAACXBIWXMAAA7EAAAOxAGVKw4bAAAASUlEQVQI12NggAKTMDMYk4G9mUF/AowzYwHD\n",
       "HrjMfgaGo3BOEwPndxib8xsD1wc45y8Dy4PLMJ4aw50NGxiElIDAgGFKqrCbAAD2sxBIUZwn3gAA\n",
       "AABJRU5ErkJggg==\n",
       "\" style=\"display:inline;vertical-align:middle;\" /></a></span></td></tr><tr><td><a name=\"0x4f757bb6d2d02c9e_step2\">2</a></td><td>theorem</td><td></td><td><span style=\"font-size:20px;\"> <a class=\"ProveItLink\" href=\"../fold_subset_eq/thm_proof.ipynb\" style=\"text-decoration: none\">&nbsp;&#x22A2;&nbsp;&nbsp;</a><a class=\"ProveItLink\" href=\"../../../__pv_it/theorems/104bbd8a360019a8dc7f0e04015813f9e7ec5e9f0/expr.ipynb\"><img src=\"data:image/png;base64,iVBORw0KGgoAAAANSUhEUgAAAO8AAAAXBAMAAAARnwX+AAAAMFBMVEX///8AAAAAAAAAAAAAAAAA\n",
       "AAAAAAAAAAAAAAAAAAAAAAAAAAAAAAAAAAAAAAAAAAAv3aB7AAAAD3RSTlMAq1RmmUTNIjK7EInv\n",
       "3XZ/CtNrAAAACXBIWXMAAA7EAAAOxAGVKw4bAAADeUlEQVRIx7VWXUgUURQ++zuzM+uoYD8+OVEv\n",
       "QdRC5ktoK22Z+JDQixWkERKV4PoSRKZjD4H0oESQK9TO9hBESItJBAthQlFEsVCRDy2sWYkRm/an\n",
       "Jmnn3jt/rqPrwzpw595z/757v/OdMwOwHg+XYzwM6/R8ZPBNK42fwFJEGlvzi+uM08o7tWzEFZ0u\n",
       "3tgHUgDgALFP5xf4Dqt26cCTqVRqlDX9vQBlCpwF6CKc9OYXeD+rqmdYfWXCHOpMAzQGoRz5UAFE\n",
       "Ob/Aw/QtXpyltfDeMrRPwZIGvwoupNubZxczUXVIP2jtqLeMlWFpCYMXUV+lUi/zC+xm2go6fzKN\n",
       "WcdeAMTQ3SJq+hBAP+1Ts5avfqvloZjWG+Q6AB6Zn6dml2UOP5cZO0XUjaS0AUdDSnhOh7p/JWoV\n",
       "0vBRP6krnGCP1eCjdUN95rwCmR2cm6Zmm2WmhHrbgedyogx8qkidIDKPuJIgDRvAHrxGzAZXKNIx\n",
       "xyK4uhLgG3jiWp+f7jcZqp5j57Cs8+HWImqOx0hzppkTGl4zKQTBNWUAA1LyyM6NumBClJ0SlCqQ\n",
       "4DSBBTzyPzY3YK4rxAO7FvBC5G5NVcxFJ9kqGQYCJnBFJGIX5OQWmZpPYYltOgLCG4BBK9WE+A/M\n",
       "bjbX9eB8x2+8bRKNQXpSCQ6yCB8v3wwmsA8kuyA/jwvCpV75LkvKC7ur8ebbdD6JzI5gaWV2bIOh\n",
       "2++oyR5k0UVu00791YBeIk8lCCUWYFFZGuRDrDqKa+EWT7enuogFaSdbgxtyhMuoJv3jN/WU2YIs\n",
       "P1O1iHNQN9UlylTNXZ31JrBQtFNL76EQEdtDZm0hrxnqiYhMdMEhf9264JIgRP+osH3xXBZRpYvF\n",
       "xWcIgwVGUpEQT2HugkYznAA29QO/dzyoSez2fdZLMPhhDq7quvDMmlTDaM4cc8loIWeFshAH7i8I\n",
       "by1UQzeqnO+Nc0xFAb+ii6tdbHJjLFJdqDCAVGf0zcrX+hlBzp+AcLiZH4GK+UStbAX2oZ+kNHiu\n",
       "E6qdmS8Bvdf9+fFX4PqIF1oTQ9ewvmFE65K05k6lzM+i9oeSHSlOa6yb6canBASaHS6DGKRdRrK4\n",
       "F4no7hKM3YRcn1lfdsI9ZgvsqHqg0L8Z6SlceMf6amySirlbRw7gieyOgC0wIyNUZzVFdfX0vX5/\n",
       "iuoaelZ7/gPEH8vREamuRQAAAABJRU5ErkJggg==\n",
       "\" style=\"display:inline;vertical-align:middle;\" /></a></span></td></tr>\n",
       "<tr><td>&nbsp;</td><td colspan=4 style-\"text-align:left\"><a class=\"ProveItLink\" href=\"../fold_subset_eq/thm_proof.ipynb\">proveit.logic.sets.inclusion.fold_subset_eq</a></td></tr><tr><td><a name=\"0x4f757bb6d2d02c9e_step3\">3</a></td><td>generalization</td><td><a href=\"#0x4f757bb6d2d02c9e_step4\">4</a></td><td><span style=\"font-size:20px;\"> <a class=\"ProveItLink\" href=\"../../../__pv_it/_proof_subset_eq_reflexive/60ee06ef6d87721d03ee40c3572c43472289e3490/proof.ipynb\" style=\"text-decoration: none\">&nbsp;&#x22A2;&nbsp;&nbsp;</a><a class=\"ProveItLink\" href=\"../../../__pv_it/_proof_subset_eq_reflexive/1f0080cabb371163db65560f368d770b82a4aec50/expr.ipynb\"><img src=\"data:image/png;base64,iVBORw0KGgoAAAANSUhEUgAAAJQAAAAVBAMAAABS/tqaAAAAMFBMVEX///8AAAAAAAAAAAAAAAAA\n",
       "AAAAAAAAAAAAAAAAAAAAAAAAAAAAAAAAAAAAAAAAAAAv3aB7AAAAD3RSTlMAq1RmmUTNIjK7EInv\n",
       "3XZ/CtNrAAAACXBIWXMAAA7EAAAOxAGVKw4bAAACGElEQVQ4y2NgIAYUEFTBzkAc4FPAL1/GwMD6\n",
       "gIFBAMRWxq9Um4BV+UD8mIHBFcROx6uSKwG/SUz/gQTbAoZGkEcn4FXKYoDfKBZ5YFgyO4BMY+DG\n",
       "HxY82IJv7t1rMPb2/Q1A8hQDM9BKNvy2qmEKseYtQETeg/cgpyQzMJy9e/c0fqO8keJc+vkDcJwt\n",
       "QPIfgz4oBDYyMHgwMMzCagJcdTJCLKaA8xd6PAUx9G8AUmYMDIUM7AJY4+0EjHUJIXaYgeUCiIEc\n",
       "pw4M9SADdBgYOBdwB6CYwfFwJkiA+xNM4CjCLx8YeEEu4ACGyt2b0AiY4iIPSgH9wFTxAC3UXRrA\n",
       "VMQ5TKN4JjCsB1nDhZR61jEw8INcGgNyrB1ceLXddgY+aCp6kIjpwfUPGOzBjAvI/mPgPQCkdYF4\n",
       "UxY8KK5zfGdYCXU3gxtMeB7CKAUGMSZQ3n6HSBagxPQByLAE4hp4qLM4cBxgCIawIxjewIQ3wvVx\n",
       "PmC6wgJisMETdQ1I+Ds0yTA2wIMigE+AwWzmzJlAhd675WGpoRcYzkDBmdMZuOR2FL4Au18yCiK3\n",
       "8n8WA9P8b8C4uIoS4OsLOK0WdEP9x1APs4K3AUty34nIOJDEewE1sxX0By/gBDsG6E1+mCeAOZUw\n",
       "gOd5dhcXF1cGVme9zQzsM0ASBxm4/FNhyqYTYVQlNsHVM2eipllYpOIF04krkNkfEC6zCxgAYj93\n",
       "V7xbxQMAAAAASUVORK5CYII=\n",
       "\" style=\"display:inline;vertical-align:middle;\" /></a></span></td></tr>\n",
       "<tr><td><a name=\"0x4f757bb6d2d02c9e_step4\">4</a></td><td>assumption</td><td></td><td><span style=\"font-size:20px;\"><a class=\"ProveItLink\" href=\"../../../__pv_it/_proof_subset_eq_reflexive/938c32b81c5d2d434d8f3268e5f1acaf94d25eca0/expr.ipynb\"><img src=\"data:image/png;base64,iVBORw0KGgoAAAANSUhEUgAAAEAAAAAQBAMAAABUyWQaAAAAMFBMVEX///8AAAAAAAAAAAAAAAAA\n",
       "AAAAAAAAAAAAAAAAAAAAAAAAAAAAAAAAAAAAAAAAAAAv3aB7AAAAD3RSTlMAMrsiq4l2RO8QZpnd\n",
       "VM2humBGAAAACXBIWXMAAA7EAAAOxAGVKw4bAAAAzklEQVQoz2NgwAeYHzDgB3wfCCi4T0jBls9Y\n",
       "BJPOnIHZzGr6EVO+LhPBNmP7i+CYhJmB3f0SSfEG3l9wNnszg/4EkLsNEPLsFxi/wjkzFjDsAXsM\n",
       "yQBuBuYvcM5+BoajIFriDBAoQJ27e8snuIImBs7vIHoSwgDOBAaGP3DONwYucKDwINvAwHACruAv\n",
       "A8uDy0AGWwJcQRUQv4fz1BjubNgAYryFR1QDkNA3YBBSAgIDhimpwm4CIPEp6hMgZur/m8Bw6f9T\n",
       "zKAs1TmDHMkAr4g2NZ6TzgEAAAAASUVORK5CYII=\n",
       "\" style=\"display:inline;vertical-align:middle;\" /></a> <a class=\"ProveItLink\" href=\"../../../__pv_it/_proof_subset_eq_reflexive/2e04950293e83483d46f82585cc6a3f9b7a817df0/proof.ipynb\" style=\"text-decoration: none\">&nbsp;&#x22A2;&nbsp;&nbsp;</a><a class=\"ProveItLink\" href=\"../../../__pv_it/_proof_subset_eq_reflexive/938c32b81c5d2d434d8f3268e5f1acaf94d25eca0/expr.ipynb\"><img src=\"data:image/png;base64,iVBORw0KGgoAAAANSUhEUgAAAEAAAAAQBAMAAABUyWQaAAAAMFBMVEX///8AAAAAAAAAAAAAAAAA\n",
       "AAAAAAAAAAAAAAAAAAAAAAAAAAAAAAAAAAAAAAAAAAAv3aB7AAAAD3RSTlMAMrsiq4l2RO8QZpnd\n",
       "VM2humBGAAAACXBIWXMAAA7EAAAOxAGVKw4bAAAAzklEQVQoz2NgwAeYHzDgB3wfCCi4T0jBls9Y\n",
       "BJPOnIHZzGr6EVO+LhPBNmP7i+CYhJmB3f0SSfEG3l9wNnszg/4EkLsNEPLsFxi/wjkzFjDsAXsM\n",
       "yQBuBuYvcM5+BoajIFriDBAoQJ27e8snuIImBs7vIHoSwgDOBAaGP3DONwYucKDwINvAwHACruAv\n",
       "A8uDy0AGWwJcQRUQv4fz1BjubNgAYryFR1QDkNA3YBBSAgIDhimpwm4CIPEp6hMgZur/m8Bw6f9T\n",
       "zKAs1TmDHMkAr4g2NZ6TzgEAAAAASUVORK5CYII=\n",
       "\" style=\"display:inline;vertical-align:middle;\" /></a></span></td></tr>\n",
       "</table>"
      ],
      "text/plain": [
       "\tstep type\trequirements\tstatement\n",
       "0\tgeneralization\t1\t|- forall_{A} (A subset_eq A)\n",
       "1\tinstantiation\t2, 3\t|- A subset_eq A\n",
       "\tA : A, B : A, x : _a\n",
       "2\ttheorem\t\t|- forall_{A, B | forall_{x in A} (x in B)} (A subset_eq B)\n",
       "\tproveit.logic.sets.inclusion.fold_subset_eq\n",
       "3\tgeneralization\t4\t|- forall_{_a in A} (_a in A)\n",
       "4\tassumption\t\t{_a in A} |- _a in A"
      ]
     },
     "execution_count": 3,
     "metadata": {},
     "output_type": "execute_result"
    }
   ],
   "source": [
    "%qed"
   ]
  },
  {
   "cell_type": "code",
   "execution_count": null,
   "metadata": {},
   "outputs": [],
   "source": []
  }
 ],
 "metadata": {
  "kernelspec": {
   "display_name": "Python 3",
   "language": "python",
   "name": "python3"
  }
 },
 "nbformat": 4,
 "nbformat_minor": 0
}