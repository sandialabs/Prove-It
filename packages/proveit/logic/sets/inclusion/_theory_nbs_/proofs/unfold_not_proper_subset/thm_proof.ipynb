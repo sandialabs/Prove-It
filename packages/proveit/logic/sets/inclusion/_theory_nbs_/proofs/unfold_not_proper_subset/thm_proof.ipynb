{
 "cells": [
  {
   "cell_type": "markdown",
   "metadata": {},
   "source": [
    "Proof of <a class=\"ProveItLink\" href=\"../../../../../../_theory_nbs_/theory.ipynb\">proveit</a>.<a class=\"ProveItLink\" href=\"../../../../../_theory_nbs_/theory.ipynb\">logic</a>.<a class=\"ProveItLink\" href=\"../../../../_theory_nbs_/theory.ipynb\">sets</a>.<a class=\"ProveItLink\" href=\"../../theory.ipynb\">inclusion</a>.<a class=\"ProveItLink\" href=\"../../theorems.ipynb#unfold_not_proper_subset\">unfold_not_proper_subset</a> theorem\n",
    "========"
   ]
  },
  {
   "cell_type": "code",
   "execution_count": 1,
   "metadata": {},
   "outputs": [],
   "source": [
    "import proveit\n",
    "from proveit.logic.sets.inclusion  import not_proper_subset_def\n",
    "theory = proveit.Theory() # the theorem's theory"
   ]
  },
  {
   "cell_type": "code",
   "execution_count": 2,
   "metadata": {},
   "outputs": [
    {
     "data": {
      "text/html": [
       "With these <a href=\"allowed_presumptions.txt\">allowed</a>/<a href=\"disallowed_presumptions.txt\">disallowed</a> theorem/theory presumptions (e.g., to avoid circular dependencies), we begin our proof of<br><strong id=\"unfold_not_proper_subset\">unfold_not_proper_subset:</strong> <a class=\"ProveItLink\" href=\"../../../__pv_it/theorems/0575070a6bdaac0ee4eb37a3a0ca233cab400e770/expr.ipynb\"><img src=\"data:image/png;base64,iVBORw0KGgoAAAANSUhEUgAAANcAAAAXCAMAAACvSyozAAAAPFBMVEX///8AAAAAAAAAAAAAAAAA\n",
       "AAAAAAAAAAAAAAAAAAAAAAAAAAAAAAAAAAAAAAAAAAAAAAAAAAAAAAAAAAAo1xBWAAAAE3RSTlMA\n",
       "q1RmmUTNIjK7EInv3XbF6cnBaQLLagAAAAlwSFlzAAAOxAAADsQBlSsOGwAAAsdJREFUWMPVWNuS\n",
       "rCAM5A4B5Fz4/389yEWDioO1W55aHiY7ZhrppBNgCXl96MeOZ/Nq8l9GYDMOrR5PLAO2dHvO+Bu0\n",
       "mJtyqDgxF4cYaRoKTA5MJZCtkNtUbyTQqikHi3FqOg/Z0JiJKVuZJGtawjS8kS7BpxyCxpko61i0\n",
       "J6PI+RM1jwKRdOwNXn7K4bQrGdiLD5Yyuse8/opXfr5yWS2vgVKvVJeacehAQsRhNspdpo9WtSpf\n",
       "3KpxWa3PcfDuFRm6GYdYCwzp0i76rrwsbVl0FFmRH4JF83xY3Lnob751Q/EJh0ypMhERpfIaZCKE\n",
       "EOiO5QpZTdtHW5dHIjYQhXMC0KNTg+kAxMkRkJClqEss2xCdY4ubjmhBI/GG0lyYb8SYx3ZNlUMh\n",
       "cZ22+ZKn8De8NoBxFH79Bj0AJuEcI9/iiRwBhEj9cH+LoQNe4Nv7TUsgtix0IZHGB1ybpYXGMa8N\n",
       "IFyan+ohcIqXLXPF5fSb02g5be2QSN9ZRThiEojCE3mWK5ePeTVA3imkGwN7uXVr3h1NmCjPy6i8\n",
       "eGuLNSps6axjyqJVEqG6rY9zQXGVwJFWAVjaOS+AyRuOvMTBIfn5IDXYzGt5JX5qO1h1VnuKRNXX\n",
       "RK4SS8WQ1wbIKwr8Brg34tNoDt1eDfjAoS4bovJVdFtW2m7RLIpq6mGORnsoLx3liNcGYElKFu6A\n",
       "KbQDSVWHTQfZvEi2/rF3egtUHncPuh16d20vsredqNbFmL680gFs1Od3gHZtLxwB1zeaAbGho6rC\n",
       "wcU56ijqpbcIXmS09m3ryoptrv6RDhGAgEYd+QqIjqbnO4f4vkP1qR5FLjQrYhK0WQPOVXTr5tq1\n",
       "MbgGJLX8sfvOfwHM4NE5Hb58TWo3kk83k9EBfwhjfyGPuxVaeOqYHu29HyIk7VNeU1cCHZ46Zv/B\n",
       "oHs7vGWTh7yYJD966B+wxn/hXhghkkegjgAAAABJRU5ErkJggg==\n",
       "\" style=\"display:inline;vertical-align:middle;\" /></a><br>(see <a class=\"ProveItLink\" href=\"../../../__pv_it/theorems/8472c4f267526f5b423e2e9f5e2e7b5ef3806f8a0/dependencies.ipynb\">dependencies</a>)<br>"
      ],
      "text/plain": [
       "<IPython.core.display.HTML object>"
      ]
     },
     "metadata": {},
     "output_type": "display_data"
    }
   ],
   "source": [
    "%proving unfold_not_proper_subset"
   ]
  },
  {
   "cell_type": "code",
   "execution_count": 3,
   "metadata": {},
   "outputs": [
    {
     "data": {
      "text/html": [
       "<span style=\"font-size:20px;\"> <a class=\"ProveItLink\" href=\"../../axioms.ipynb#not_proper_subset_def\" style=\"text-decoration: none\">&nbsp;&#x22A2;&nbsp;&nbsp;</a><a class=\"ProveItLink\" href=\"../../../__pv_it/axioms/7d2ab8ca139d19ea56c6739c6bcb2fc80d1d3ffc0/expr.ipynb\"><img src=\"data:image/png;base64,iVBORw0KGgoAAAANSUhEUgAAARkAAAAWCAMAAADD7xhEAAAAPFBMVEX///8AAAAAAAAAAAAAAAAA\n",
       "AAAAAAAAAAAAAAAAAAAAAAAAAAAAAAAAAAAAAAAAAAAAAAAAAAAAAAAAAAAo1xBWAAAAE3RSTlMA\n",
       "q1RmmUTNIjK7EInv3Xb341Cp3V2mrwAAAAlwSFlzAAAOxAAADsQBlSsOGwAAAzZJREFUWMPlWMmC\n",
       "2yAMNavZpy3//6+1wSQIkMFNbtVhXjLY6KGdbNsHsjf44Tb//uCXCHzpPNsWKMS8qxw+yw2+jwjP\n",
       "9N0vIATupBCASF7rlD3bj1qIWWQcPas0+Mp0jOQQqVU6GXuib7IwJtAIQgAgF68tnwWRkRAvlnFI\n",
       "LBOoxGVTkZgWpFnXN1lACHQyJlCjKkGz62chwxnE6xuJAwMr0mZ2zIErIk8u5Ov6JgtjAn1pGRMA\n",
       "WMxk6TPLuAbzJruNMDyC9t7//PIe/JtdT7GLoDPL+u4XEAKnLBGokV0mf1i4qISYPRG2EGsLK2kP\n",
       "D4o2ZI4gvpS67GDJVvXdLyAEesEIAHTJos4+TCYLMX8587w6pPH7uILlLDekONKSVX33CwgBrMz0\n",
       "BADytKireF6oh52RU9Ie3lKxYkpSee9DRkUdQiDvd9nb8dxXQjp9KJEbAoPChxEAuJPypxjGqbrf\n",
       "Rm4t75qLpxAvjx2lrdpJIk0v5CpJXWFG3cwTl57KbnyZwGACwghAPMPFVsa1IFOZT1u11J2AmGod\n",
       "50dr0E1LEn3j0a5oUsWH0wLcer/4ck5gNEVgBCDSAIwrlKuHUpLbWpxaxuS3om/ID+ak4tbSGTbh\n",
       "vmAZjMBAUAINyo1VtgibrDd0NFUyNs2mEt3VIU+OlA+ynJUOcR2L+lmd8RSxzJTAsMxgBBq0tBpC\n",
       "DxtxCUYixjhRXTwGiJtg/XR+DmGD+fbK8oOgfE3rs5jR7eVq54sE8DIzINDg7kiVS7CopDJjSOf4\n",
       "ts3t5R1dz6BSDELmGCKuiH1ZjU9nBrSvzwgM+xlKoMUqJI5GZEk0TZnZY6tB+RrNcUNLWuj54X1M\n",
       "o93vNmbI6zb3ThAvZpZR/nYBJ0DEEwIt1kUm2UHBMnNcL7p0KjOSV7ej6x+rB8N5mxl+PkChG9wT\n",
       "2MQTAi1W2+S8PNu2sdlIJhXgPifaSxgyh61MjfhtcaBvfeGD63FHiKeCY3g80lOd0cJktOecN7pt\n",
       "6h3ikPXSnWPtmo/q0R//BlcItIhmwuQHEw1xGOnmozMP9a0vLEvr5AkhMTvVHiCOyuPSr5iLPkf1\n",
       "7OEzwxQCLaKZsP3X8hf5WiEujFvRCQAAAABJRU5ErkJggg==\n",
       "\" style=\"display:inline;vertical-align:middle;\" /></a></span>"
      ],
      "text/plain": [
       "|- forall_{A, B} ((A not_proper_subset B) = [not](A proper_subset B))"
      ]
     },
     "metadata": {},
     "output_type": "display_data"
    }
   ],
   "source": [
    "# pull in the definition of not proper subset\n",
    "not_proper_subset_def"
   ]
  },
  {
   "cell_type": "code",
   "execution_count": 4,
   "metadata": {},
   "outputs": [
    {
     "data": {
      "text/html": [
       "<strong id=\"not_proper_subset_def_inst\">not_proper_subset_def_inst:</strong> <span style=\"font-size:20px;\"> <a class=\"ProveItLink\" href=\"../../../__pv_it/_proof_unfold_not_proper_subset/8cc7f2787628e12c1ec6a3de805b496e1e4d0e4e0/proof.ipynb\" style=\"text-decoration: none\">&nbsp;&#x22A2;&nbsp;&nbsp;</a><a class=\"ProveItLink\" href=\"../../../__pv_it/axioms/ebe408ccd7f1cbc5ef8d50291dff3bd4628e58140/expr.ipynb\"><img src=\"data:image/png;base64,iVBORw0KGgoAAAANSUhEUgAAANEAAAAVCAMAAADvnft/AAAAPFBMVEX///8AAAAAAAAAAAAAAAAA\n",
       "AAAAAAAAAAAAAAAAAAAAAAAAAAAAAAAAAAAAAAAAAAAAAAAAAAAAAAAAAAAo1xBWAAAAE3RSTlMA\n",
       "InZUiRDNmWbv3US7qzL341CpD4pfwQAAAAlwSFlzAAAOxAAADsQBlSsOGwAAAolJREFUWMOtl9mW\n",
       "5CAIQGOMMa49M/7/vw5RSdy1TjUvdBcuVxAk2wZCtq+EfD3wlwCeZXaaWs/mJM76C6p9beNsn66h\n",
       "AzASBEBNj9R6utYcq7N/L+2cATm19UTXyr75Pl1DG6CUnAABgmaZT6hrLhjIExHhiMZ5w8nmDOxc\n",
       "MnQAaskIEMBrnjmYG9e41NaUN9eFACvHvcf4nIBfS4Y2QCN3MgIE8Fqk4w5yuDwcu5ZS/vyRMvv5\n",
       "iqOuuK6YB0ksGWqAQHDLiAABQNM05mTfdpemqT0P8JgqQwSxjlEWwaHnNJPouWKoACJBLQUBAoDm\n",
       "aVry+x4ncEyG4aR9iZlBvx1meumOFUMJgAS9NHoIEAB06l0F3rEu2cEo/3OFa53e9928c6/X0Vwm\n",
       "8s7sRnEIEAkamV0QIABoSTMPQcYl/GFYHaI9ZC8VuCAVsxjFfZLz8szQBth6d7UkQADQQiUpyDmU\n",
       "Gl2UOFUXMh3nP1lspyVXlM4mpjJUAHWR7REgAOh3QRbKlpPFpnWINnQjlrpNiV84UQ3wDJoSIADo\n",
       "N+h4CxK4e23KG5f4woITcaic5ZGknRMNATbZS6OCAAFAa2zK1FV3Iffj1+gH4iWGdc+nKZnFSJfN\n",
       "H+GFoQXQe5crAgQAjWWPoGd0+mafqhEieANihJ/Tdmvz+3SaiaENAATNAlkSIABo68PFoPHzRnr/\n",
       "8eIxLf6WMTJPk/heJKlmJ7JyaOgBgMGoBQIEuLW0w6f+36EbPUh5g+S8EesuMAaAQCwQIIDX4y5z\n",
       "pasedKFpI8Y/NXwgCBC0HvS617GyHtEro7r7aPLtgRAgajbgkewr1vw7SH9qWBYEQE36X9V26Wt7\n",
       "0cfdfcj+3YEQwOv/BbYZxB7QoyUAAAAASUVORK5CYII=\n",
       "\" style=\"display:inline;vertical-align:middle;\" /></a></span><br>"
      ],
      "text/plain": [
       "<IPython.core.display.HTML object>"
      ]
     },
     "metadata": {},
     "output_type": "display_data"
    }
   ],
   "source": [
    "not_proper_subset_def_inst = not_proper_subset_def.instantiate()"
   ]
  },
  {
   "cell_type": "code",
   "execution_count": 5,
   "metadata": {},
   "outputs": [
    {
     "data": {
      "text/html": [
       "<span style=\"font-size:20px;\"><a class=\"ProveItLink\" href=\"../../../__pv_it/axioms/383c26c8d3a8d6e108037796d2245b8d1edf6ce10/expr.ipynb\"><img src=\"data:image/png;base64,iVBORw0KGgoAAAANSUhEUgAAADsAAAAUCAMAAAAEAbViAAAAPFBMVEX///8AAAAAAAAAAAAAAAAA\n",
       "AAAAAAAAAAAAAAAAAAAAAAAAAAAAAAAAAAAAAAAAAAAAAAAAAAAAAAAAAAAo1xBWAAAAE3RSTlMA\n",
       "Is1UmauJMnZmRLsQ3e/341Cpc/gJSAAAAAlwSFlzAAAOxAAADsQBlSsOGwAAARBJREFUOMudU1mW\n",
       "wyAMY99NZ+r737VsAQK8mb7oJ8Q4ki07hHRQRk4QgfwPhqeo9rdX6xFlAvN6inI8fnvLyYiVTOJ0\n",
       "ISTSg6xcAhRNeToUPaaowruE8QDw+gG4hW3Lso0j0xlikM+CTKUy3Cqbam3uxF6lyA3bkRKgXLGt\n",
       "jdpukKMalyQ1qonelfAmq9EbYySbZERxYcqss95lTTWURztsESL57Bd7ndhHFpu1l7GhWoYwJiHP\n",
       "suSqrdvc6CGOnEzDd1l9+SnRVaPsvpQixdi+ya3dxFENoZecnxeLuYNsmmpVi4U3pOUuB54PY0rB\n",
       "x99VV/Yfgf/9W/G3yksJy05+BRbIU1j1+FMCz2XJF01+AAJ3CI7C7GWSAAAAAElFTkSuQmCC\n",
       "\" style=\"display:inline;vertical-align:middle;\" /></a> <a class=\"ProveItLink\" href=\"../../../__pv_it/_proof_unfold_not_proper_subset/39f49d6bcab0d5c3a9c7c2f42aa58a219dd689680/proof.ipynb\" style=\"text-decoration: none\">&nbsp;&#x22A2;&nbsp;&nbsp;</a><a class=\"ProveItLink\" href=\"../../../__pv_it/axioms/2f07c213e838276419483630a478a7313d8b80320/expr.ipynb\"><img src=\"data:image/png;base64,iVBORw0KGgoAAAANSUhEUgAAAFoAAAAVBAMAAAA0iOSIAAAAMFBMVEX///8AAAAAAAAAAAAAAAAA\n",
       "AAAAAAAAAAAAAAAAAAAAAAAAAAAAAAAAAAAAAAAAAAAv3aB7AAAAD3RSTlMAmd0iq3ZUiRDNZu9E\n",
       "uzLWhN+VAAAACXBIWXMAAA7EAAAOxAGVKw4bAAABeElEQVQoz2NgQAADBryAGYXHmgCmLHGp5glA\n",
       "5qVDqPmY6tb+d3GZ+4AhCkmIYwKYYvuPxdi9DAws/xg4GxAijAsglD+m85m/At3xkYFLACHEDaGK\n",
       "6x9AvXFJSUkJwub6B8RAHTsQqjMhxgTEQzzLNx1hB8sHBgbOzQwMsxCqxSEOYciHuKgJyUHcFxg4\n",
       "nIDWlCCEIBqPMbwvADN8kNz9/mqoJ8iMlQxCQNcpKQKZamAJAQZ7BzBjApLqeAMGtl1AOhvCNQHi\n",
       "PWCvXRT0vwB2tgOS6ttADPL8ezTVrQwM/Apg3yKr/gLE64ExeRqhWg3iEAamDWAhBYRivl9Awv8A\n",
       "A0MShG8IxFdBSQHoF84PYCEppAT0GajjJygFIMRAwWMNxLyfwVzOA3AZTqBtp2fAAxkMHjEw9P6f\n",
       "wcB2/yc4CDmunIDFzf0vLp7XQCwdhGqmB2gJtBYe87DkguQX5DSDHUDTHQRcJqTaFpnTS0g1inHM\n",
       "AfgVsxowAAAwf1Exg0qG+QAAAABJRU5ErkJggg==\n",
       "\" style=\"display:inline;vertical-align:middle;\" /></a></span>"
      ],
      "text/plain": [
       "{A not_proper_subset B} |- [not](A proper_subset B)"
      ]
     },
     "metadata": {},
     "output_type": "display_data"
    },
    {
     "name": "stdout",
     "output_type": "stream",
     "text": [
      "unfold_not_proper_subset may now be readily provable (assuming required theorems are usable).  Simply execute \"%qed\".\n"
     ]
    }
   ],
   "source": [
    "not_proper_subset_def_inst.derive_right_via_equality(assumptions=[not_proper_subset_def_inst.lhs])"
   ]
  },
  {
   "cell_type": "code",
   "execution_count": 6,
   "metadata": {},
   "outputs": [
    {
     "name": "stdout",
     "output_type": "stream",
     "text": [
      "proveit.logic.sets.inclusion.unfold_not_proper_subset has been proven.\n"
     ]
    },
    {
     "data": {
      "text/html": [
       "<table><tr><th>&nbsp;</th><th>step type</th><th>requirements</th><th>statement</th></tr>\n",
       "<tr><td><a name=\"0x295b991d1aa9a5c0_step0\">0</a></td><td>generalization</td><td><a href=\"#0x295b991d1aa9a5c0_step1\">1</a></td><td><span style=\"font-size:20px;\"> <a class=\"ProveItLink\" href=\"../../../__pv_it/_proof_unfold_not_proper_subset/7efa3d480860549e0de9ab1dbb94413ffd9082ce0/proof.ipynb\" style=\"text-decoration: none\">&nbsp;&#x22A2;&nbsp;&nbsp;</a><a class=\"ProveItLink\" href=\"../../../__pv_it/theorems/0575070a6bdaac0ee4eb37a3a0ca233cab400e770/expr.ipynb\"><img src=\"data:image/png;base64,iVBORw0KGgoAAAANSUhEUgAAANcAAAAXCAMAAACvSyozAAAAPFBMVEX///8AAAAAAAAAAAAAAAAA\n",
       "AAAAAAAAAAAAAAAAAAAAAAAAAAAAAAAAAAAAAAAAAAAAAAAAAAAAAAAAAAAo1xBWAAAAE3RSTlMA\n",
       "q1RmmUTNIjK7EInv3XbF6cnBaQLLagAAAAlwSFlzAAAOxAAADsQBlSsOGwAAAsdJREFUWMPVWNuS\n",
       "rCAM5A4B5Fz4/389yEWDioO1W55aHiY7ZhrppBNgCXl96MeOZ/Nq8l9GYDMOrR5PLAO2dHvO+Bu0\n",
       "mJtyqDgxF4cYaRoKTA5MJZCtkNtUbyTQqikHi3FqOg/Z0JiJKVuZJGtawjS8kS7BpxyCxpko61i0\n",
       "J6PI+RM1jwKRdOwNXn7K4bQrGdiLD5Yyuse8/opXfr5yWS2vgVKvVJeacehAQsRhNspdpo9WtSpf\n",
       "3KpxWa3PcfDuFRm6GYdYCwzp0i76rrwsbVl0FFmRH4JF83xY3Lnob751Q/EJh0ypMhERpfIaZCKE\n",
       "EOiO5QpZTdtHW5dHIjYQhXMC0KNTg+kAxMkRkJClqEss2xCdY4ubjmhBI/GG0lyYb8SYx3ZNlUMh\n",
       "cZ22+ZKn8De8NoBxFH79Bj0AJuEcI9/iiRwBhEj9cH+LoQNe4Nv7TUsgtix0IZHGB1ybpYXGMa8N\n",
       "IFyan+ohcIqXLXPF5fSb02g5be2QSN9ZRThiEojCE3mWK5ePeTVA3imkGwN7uXVr3h1NmCjPy6i8\n",
       "eGuLNSps6axjyqJVEqG6rY9zQXGVwJFWAVjaOS+AyRuOvMTBIfn5IDXYzGt5JX5qO1h1VnuKRNXX\n",
       "RK4SS8WQ1wbIKwr8Brg34tNoDt1eDfjAoS4bovJVdFtW2m7RLIpq6mGORnsoLx3liNcGYElKFu6A\n",
       "KbQDSVWHTQfZvEi2/rF3egtUHncPuh16d20vsredqNbFmL680gFs1Od3gHZtLxwB1zeaAbGho6rC\n",
       "wcU56ijqpbcIXmS09m3ryoptrv6RDhGAgEYd+QqIjqbnO4f4vkP1qR5FLjQrYhK0WQPOVXTr5tq1\n",
       "MbgGJLX8sfvOfwHM4NE5Hb58TWo3kk83k9EBfwhjfyGPuxVaeOqYHu29HyIk7VNeU1cCHZ46Zv/B\n",
       "oHs7vGWTh7yYJD966B+wxn/hXhghkkegjgAAAABJRU5ErkJggg==\n",
       "\" style=\"display:inline;vertical-align:middle;\" /></a></span></td></tr>\n",
       "<tr><td><a name=\"0x295b991d1aa9a5c0_step1\">1</a></td><td>instantiation</td><td><a href=\"#0x295b991d1aa9a5c0_step2\">2</a>, <a href=\"#0x295b991d1aa9a5c0_step3\">3</a>, <a href=\"#0x295b991d1aa9a5c0_step4\">4</a></td><td><span style=\"font-size:20px;\"><a class=\"ProveItLink\" href=\"../../../__pv_it/axioms/383c26c8d3a8d6e108037796d2245b8d1edf6ce10/expr.ipynb\"><img src=\"data:image/png;base64,iVBORw0KGgoAAAANSUhEUgAAADsAAAAUCAMAAAAEAbViAAAAPFBMVEX///8AAAAAAAAAAAAAAAAA\n",
       "AAAAAAAAAAAAAAAAAAAAAAAAAAAAAAAAAAAAAAAAAAAAAAAAAAAAAAAAAAAo1xBWAAAAE3RSTlMA\n",
       "Is1UmauJMnZmRLsQ3e/341Cpc/gJSAAAAAlwSFlzAAAOxAAADsQBlSsOGwAAARBJREFUOMudU1mW\n",
       "wyAMY99NZ+r737VsAQK8mb7oJ8Q4ki07hHRQRk4QgfwPhqeo9rdX6xFlAvN6inI8fnvLyYiVTOJ0\n",
       "ISTSg6xcAhRNeToUPaaowruE8QDw+gG4hW3Lso0j0xlikM+CTKUy3Cqbam3uxF6lyA3bkRKgXLGt\n",
       "jdpukKMalyQ1qonelfAmq9EbYySbZERxYcqss95lTTWURztsESL57Bd7ndhHFpu1l7GhWoYwJiHP\n",
       "suSqrdvc6CGOnEzDd1l9+SnRVaPsvpQixdi+ya3dxFENoZecnxeLuYNsmmpVi4U3pOUuB54PY0rB\n",
       "x99VV/Yfgf/9W/G3yksJy05+BRbIU1j1+FMCz2XJF01+AAJ3CI7C7GWSAAAAAElFTkSuQmCC\n",
       "\" style=\"display:inline;vertical-align:middle;\" /></a> <a class=\"ProveItLink\" href=\"../../../__pv_it/_proof_unfold_not_proper_subset/39f49d6bcab0d5c3a9c7c2f42aa58a219dd689680/proof.ipynb\" style=\"text-decoration: none\">&nbsp;&#x22A2;&nbsp;&nbsp;</a><a class=\"ProveItLink\" href=\"../../../__pv_it/axioms/2f07c213e838276419483630a478a7313d8b80320/expr.ipynb\"><img src=\"data:image/png;base64,iVBORw0KGgoAAAANSUhEUgAAAFoAAAAVBAMAAAA0iOSIAAAAMFBMVEX///8AAAAAAAAAAAAAAAAA\n",
       "AAAAAAAAAAAAAAAAAAAAAAAAAAAAAAAAAAAAAAAAAAAv3aB7AAAAD3RSTlMAmd0iq3ZUiRDNZu9E\n",
       "uzLWhN+VAAAACXBIWXMAAA7EAAAOxAGVKw4bAAABeElEQVQoz2NgQAADBryAGYXHmgCmLHGp5glA\n",
       "5qVDqPmY6tb+d3GZ+4AhCkmIYwKYYvuPxdi9DAws/xg4GxAijAsglD+m85m/At3xkYFLACHEDaGK\n",
       "6x9AvXFJSUkJwub6B8RAHTsQqjMhxgTEQzzLNx1hB8sHBgbOzQwMsxCqxSEOYciHuKgJyUHcFxg4\n",
       "nIDWlCCEIBqPMbwvADN8kNz9/mqoJ8iMlQxCQNcpKQKZamAJAQZ7BzBjApLqeAMGtl1AOhvCNQHi\n",
       "PWCvXRT0vwB2tgOS6ttADPL8ezTVrQwM/Apg3yKr/gLE64ExeRqhWg3iEAamDWAhBYRivl9Awv8A\n",
       "A0MShG8IxFdBSQHoF84PYCEppAT0GajjJygFIMRAwWMNxLyfwVzOA3AZTqBtp2fAAxkMHjEw9P6f\n",
       "wcB2/yc4CDmunIDFzf0vLp7XQCwdhGqmB2gJtBYe87DkguQX5DSDHUDTHQRcJqTaFpnTS0g1inHM\n",
       "AfgVsxowAAAwf1Exg0qG+QAAAABJRU5ErkJggg==\n",
       "\" style=\"display:inline;vertical-align:middle;\" /></a></span></td></tr>\n",
       "<tr><td>&nbsp;</td><td colspan=4 style=\"text-align:left\"><span style=\"font-size:20px;\"><a class=\"ProveItLink\" href=\"../../../../../../__pv_it/common/de55da274ba0f49c86925fbf3828021c04d27faf0/expr.ipynb\"><img src=\"data:image/png;base64,iVBORw0KGgoAAAANSUhEUgAAABAAAAAOBAMAAADUAYG5AAAAMFBMVEX///8AAAAAAAAAAAAAAAAA\n",
       "AAAAAAAAAAAAAAAAAAAAAAAAAAAAAAAAAAAAAAAAAAAv3aB7AAAAD3RSTlMAdrurzZkQ7zJUiSLd\n",
       "ZkQEbk8lAAAACXBIWXMAAA7EAAAOxAGVKw4bAAAAWklEQVQI12NgYBD6r2zkmsAABF8YGJjKgDTH\n",
       "RwYGTiBmYPwBxL+ADKYPQAzkMPArMDD0CzCAiV0nQZrkrVbdA9EM+gxQ8AVKc/yCMhj/QRksHyA0\n",
       "q/4nkBkMAGrBE2oHiyZAAAAAAElFTkSuQmCC\n",
       "\" style=\"display:inline;vertical-align:middle;\" /></a> : <a class=\"ProveItLink\" href=\"../../../__pv_it/axioms/383c26c8d3a8d6e108037796d2245b8d1edf6ce10/expr.ipynb\"><img src=\"data:image/png;base64,iVBORw0KGgoAAAANSUhEUgAAADsAAAAUCAMAAAAEAbViAAAAPFBMVEX///8AAAAAAAAAAAAAAAAA\n",
       "AAAAAAAAAAAAAAAAAAAAAAAAAAAAAAAAAAAAAAAAAAAAAAAAAAAAAAAAAAAo1xBWAAAAE3RSTlMA\n",
       "Is1UmauJMnZmRLsQ3e/341Cpc/gJSAAAAAlwSFlzAAAOxAAADsQBlSsOGwAAARBJREFUOMudU1mW\n",
       "wyAMY99NZ+r737VsAQK8mb7oJ8Q4ki07hHRQRk4QgfwPhqeo9rdX6xFlAvN6inI8fnvLyYiVTOJ0\n",
       "ISTSg6xcAhRNeToUPaaowruE8QDw+gG4hW3Lso0j0xlikM+CTKUy3Cqbam3uxF6lyA3bkRKgXLGt\n",
       "jdpukKMalyQ1qonelfAmq9EbYySbZERxYcqss95lTTWURztsESL57Bd7ndhHFpu1l7GhWoYwJiHP\n",
       "suSqrdvc6CGOnEzDd1l9+SnRVaPsvpQixdi+ya3dxFENoZecnxeLuYNsmmpVi4U3pOUuB54PY0rB\n",
       "x99VV/Yfgf/9W/G3yksJy05+BRbIU1j1+FMCz2XJF01+AAJ3CI7C7GWSAAAAAElFTkSuQmCC\n",
       "\" style=\"display:inline;vertical-align:middle;\" /></a>, <a class=\"ProveItLink\" href=\"../../../../../../__pv_it/common/d72bb8b07403efe79afab564c36a28e21330e5f90/expr.ipynb\"><img src=\"data:image/png;base64,iVBORw0KGgoAAAANSUhEUgAAAA8AAAASBAMAAAB2sJk8AAAAMFBMVEX///8AAAAAAAAAAAAAAAAA\n",
       "AAAAAAAAAAAAAAAAAAAAAAAAAAAAAAAAAAAAAAAAAAAv3aB7AAAAD3RSTlMAIomZq2bNMhC7791E\n",
       "VHYkqjbgAAAACXBIWXMAAA7EAAAOxAGVKw4bAAAAgklEQVQI12NgYGBUVnJlAAG1AgaWBCDdNgFI\n",
       "LAbibJCoPwMD83cQQ7+AQR4kw2B/gMH+AoiRL8CwvwFIc/xiYPgFEmD9ysCwG8ToSgBp5LnAYCXA\n",
       "wFB/IVyUaSFQlG/hAyYXkAaGkknaBxgKwLZyHuATgDAcroFpBub/3yEM9l1AawBt/xzBtQnGvwAA\n",
       "AABJRU5ErkJggg==\n",
       "\" style=\"display:inline;vertical-align:middle;\" /></a> : <a class=\"ProveItLink\" href=\"../../../__pv_it/axioms/2f07c213e838276419483630a478a7313d8b80320/expr.ipynb\"><img src=\"data:image/png;base64,iVBORw0KGgoAAAANSUhEUgAAAFoAAAAVBAMAAAA0iOSIAAAAMFBMVEX///8AAAAAAAAAAAAAAAAA\n",
       "AAAAAAAAAAAAAAAAAAAAAAAAAAAAAAAAAAAAAAAAAAAv3aB7AAAAD3RSTlMAmd0iq3ZUiRDNZu9E\n",
       "uzLWhN+VAAAACXBIWXMAAA7EAAAOxAGVKw4bAAABeElEQVQoz2NgQAADBryAGYXHmgCmLHGp5glA\n",
       "5qVDqPmY6tb+d3GZ+4AhCkmIYwKYYvuPxdi9DAws/xg4GxAijAsglD+m85m/At3xkYFLACHEDaGK\n",
       "6x9AvXFJSUkJwub6B8RAHTsQqjMhxgTEQzzLNx1hB8sHBgbOzQwMsxCqxSEOYciHuKgJyUHcFxg4\n",
       "nIDWlCCEIBqPMbwvADN8kNz9/mqoJ8iMlQxCQNcpKQKZamAJAQZ7BzBjApLqeAMGtl1AOhvCNQHi\n",
       "PWCvXRT0vwB2tgOS6ttADPL8ezTVrQwM/Apg3yKr/gLE64ExeRqhWg3iEAamDWAhBYRivl9Awv8A\n",
       "A0MShG8IxFdBSQHoF84PYCEppAT0GajjJygFIMRAwWMNxLyfwVzOA3AZTqBtp2fAAxkMHjEw9P6f\n",
       "wcB2/yc4CDmunIDFzf0vLp7XQCwdhGqmB2gJtBYe87DkguQX5DSDHUDTHQRcJqTaFpnTS0g1inHM\n",
       "AfgVsxowAAAwf1Exg0qG+QAAAABJRU5ErkJggg==\n",
       "\" style=\"display:inline;vertical-align:middle;\" /></a></span></td></tr><tr><td><a name=\"0x295b991d1aa9a5c0_step2\">2</a></td><td>theorem</td><td></td><td><span style=\"font-size:20px;\"> <a class=\"ProveItLink\" href=\"../../../../../equality/_theory_nbs_/proofs/rhs_via_equality/thm_proof.ipynb\" style=\"text-decoration: none\">&nbsp;&#x22A2;&nbsp;&nbsp;</a><a class=\"ProveItLink\" href=\"../../../../../equality/__pv_it/theorems/b71cc6ded84759b8e6fdf7e824529c371b14ed8e0/expr.ipynb\"><img src=\"data:image/png;base64,iVBORw0KGgoAAAANSUhEUgAAAIkAAAAVBAMAAACArtDCAAAAMFBMVEX///8AAAAAAAAAAAAAAAAA\n",
       "AAAAAAAAAAAAAAAAAAAAAAAAAAAAAAAAAAAAAAAAAAAv3aB7AAAAD3RSTlMAq1RmmUTNIjK7EInv\n",
       "3XZ/CtNrAAAACXBIWXMAAA7EAAAOxAGVKw4bAAAB3klEQVQ4y51UTShEURT+xsx4w2OaiSgbU8rC\n",
       "apYWaCxEUd5KmdXslJKR7dSMjS3FBgtvZaVJmixINNQsRCM7mfzspAZRhOKcO+bNGWPB++qd777z\n",
       "vvfde8+9HfhAaINdaKmdBqI+Ho/ZdtlKwBEBZthw3q7JGv95CFSbgB6w6zLBoRVwBsnJronrleNe\n",
       "AjjO5Y7susRVKYYNYABY/m2av7gMq1JMRoEpaHTa7tXB3mZO3eX7laCmoBt9Tvmjggsoii6pqKj9\n",
       "YLmp04rQDewSjUQRiwoXZxZ6VrCCJfpQkicKVVequI3APb2Q0jUvXBwheB8EM0qiHIf1CMdID8c0\n",
       "cErlonI7H4RLXQD1PsGqppaoFe4AhtSyNsf54r1hKgQ00VDfFy5xU2u02LVEWBCiuUDntJ5RwhjP\n",
       "4TzJdxDxmVf7hEtX/saUjDKRN3Ol+wt5R4JDYbkHPIGsrh/lXC7CzMqugYT1pS6oaBFhnMmTPhB/\n",
       "FndUErHO8JZuQJyGtRuITSdng8JFe4HKKy6iJGKdr9364F3dBjxpaL3XLZpwuX03VV6x1VMsEa/v\n",
       "8/XHha6ixx1Kyh1Z+TIURQTPxc+GEOaJHs8rXMIVHe5b9CvUZieMCpdgZV8x/thQ/9MhvgB6V4K4\n",
       "K/k90gAAAABJRU5ErkJggg==\n",
       "\" style=\"display:inline;vertical-align:middle;\" /></a></span></td></tr>\n",
       "<tr><td>&nbsp;</td><td colspan=4 style-\"text-align:left\"><a class=\"ProveItLink\" href=\"../../../../../equality/_theory_nbs_/proofs/rhs_via_equality/thm_proof.ipynb\">proveit.logic.equality.rhs_via_equality</a></td></tr><tr><td><a name=\"0x295b991d1aa9a5c0_step3\">3</a></td><td>assumption</td><td></td><td><span style=\"font-size:20px;\"><a class=\"ProveItLink\" href=\"../../../__pv_it/axioms/383c26c8d3a8d6e108037796d2245b8d1edf6ce10/expr.ipynb\"><img src=\"data:image/png;base64,iVBORw0KGgoAAAANSUhEUgAAADsAAAAUCAMAAAAEAbViAAAAPFBMVEX///8AAAAAAAAAAAAAAAAA\n",
       "AAAAAAAAAAAAAAAAAAAAAAAAAAAAAAAAAAAAAAAAAAAAAAAAAAAAAAAAAAAo1xBWAAAAE3RSTlMA\n",
       "Is1UmauJMnZmRLsQ3e/341Cpc/gJSAAAAAlwSFlzAAAOxAAADsQBlSsOGwAAARBJREFUOMudU1mW\n",
       "wyAMY99NZ+r737VsAQK8mb7oJ8Q4ki07hHRQRk4QgfwPhqeo9rdX6xFlAvN6inI8fnvLyYiVTOJ0\n",
       "ISTSg6xcAhRNeToUPaaowruE8QDw+gG4hW3Lso0j0xlikM+CTKUy3Cqbam3uxF6lyA3bkRKgXLGt\n",
       "jdpukKMalyQ1qonelfAmq9EbYySbZERxYcqss95lTTWURztsESL57Bd7ndhHFpu1l7GhWoYwJiHP\n",
       "suSqrdvc6CGOnEzDd1l9+SnRVaPsvpQixdi+ya3dxFENoZecnxeLuYNsmmpVi4U3pOUuB54PY0rB\n",
       "x99VV/Yfgf/9W/G3yksJy05+BRbIU1j1+FMCz2XJF01+AAJ3CI7C7GWSAAAAAElFTkSuQmCC\n",
       "\" style=\"display:inline;vertical-align:middle;\" /></a> <a class=\"ProveItLink\" href=\"../../../__pv_it/_proof_unfold_not_proper_subset/40e037f9e26422a9190c940303e6448490de239d0/proof.ipynb\" style=\"text-decoration: none\">&nbsp;&#x22A2;&nbsp;&nbsp;</a><a class=\"ProveItLink\" href=\"../../../__pv_it/axioms/383c26c8d3a8d6e108037796d2245b8d1edf6ce10/expr.ipynb\"><img src=\"data:image/png;base64,iVBORw0KGgoAAAANSUhEUgAAADsAAAAUCAMAAAAEAbViAAAAPFBMVEX///8AAAAAAAAAAAAAAAAA\n",
       "AAAAAAAAAAAAAAAAAAAAAAAAAAAAAAAAAAAAAAAAAAAAAAAAAAAAAAAAAAAo1xBWAAAAE3RSTlMA\n",
       "Is1UmauJMnZmRLsQ3e/341Cpc/gJSAAAAAlwSFlzAAAOxAAADsQBlSsOGwAAARBJREFUOMudU1mW\n",
       "wyAMY99NZ+r737VsAQK8mb7oJ8Q4ki07hHRQRk4QgfwPhqeo9rdX6xFlAvN6inI8fnvLyYiVTOJ0\n",
       "ISTSg6xcAhRNeToUPaaowruE8QDw+gG4hW3Lso0j0xlikM+CTKUy3Cqbam3uxF6lyA3bkRKgXLGt\n",
       "jdpukKMalyQ1qonelfAmq9EbYySbZERxYcqss95lTTWURztsESL57Bd7ndhHFpu1l7GhWoYwJiHP\n",
       "suSqrdvc6CGOnEzDd1l9+SnRVaPsvpQixdi+ya3dxFENoZecnxeLuYNsmmpVi4U3pOUuB54PY0rB\n",
       "x99VV/Yfgf/9W/G3yksJy05+BRbIU1j1+FMCz2XJF01+AAJ3CI7C7GWSAAAAAElFTkSuQmCC\n",
       "\" style=\"display:inline;vertical-align:middle;\" /></a></span></td></tr>\n",
       "<tr><td><a name=\"0x295b991d1aa9a5c0_step4\">4</a></td><td>instantiation</td><td><a href=\"#0x295b991d1aa9a5c0_step5\">5</a></td><td><span style=\"font-size:20px;\"> <a class=\"ProveItLink\" href=\"../../../__pv_it/_proof_unfold_not_proper_subset/8cc7f2787628e12c1ec6a3de805b496e1e4d0e4e0/proof.ipynb\" style=\"text-decoration: none\">&nbsp;&#x22A2;&nbsp;&nbsp;</a><a class=\"ProveItLink\" href=\"../../../__pv_it/axioms/ebe408ccd7f1cbc5ef8d50291dff3bd4628e58140/expr.ipynb\"><img src=\"data:image/png;base64,iVBORw0KGgoAAAANSUhEUgAAANEAAAAVCAMAAADvnft/AAAAPFBMVEX///8AAAAAAAAAAAAAAAAA\n",
       "AAAAAAAAAAAAAAAAAAAAAAAAAAAAAAAAAAAAAAAAAAAAAAAAAAAAAAAAAAAo1xBWAAAAE3RSTlMA\n",
       "InZUiRDNmWbv3US7qzL341CpD4pfwQAAAAlwSFlzAAAOxAAADsQBlSsOGwAAAolJREFUWMOtl9mW\n",
       "5CAIQGOMMa49M/7/vw5RSdy1TjUvdBcuVxAk2wZCtq+EfD3wlwCeZXaaWs/mJM76C6p9beNsn66h\n",
       "AzASBEBNj9R6utYcq7N/L+2cATm19UTXyr75Pl1DG6CUnAABgmaZT6hrLhjIExHhiMZ5w8nmDOxc\n",
       "MnQAaskIEMBrnjmYG9e41NaUN9eFACvHvcf4nIBfS4Y2QCN3MgIE8Fqk4w5yuDwcu5ZS/vyRMvv5\n",
       "iqOuuK6YB0ksGWqAQHDLiAABQNM05mTfdpemqT0P8JgqQwSxjlEWwaHnNJPouWKoACJBLQUBAoDm\n",
       "aVry+x4ncEyG4aR9iZlBvx1meumOFUMJgAS9NHoIEAB06l0F3rEu2cEo/3OFa53e9928c6/X0Vwm\n",
       "8s7sRnEIEAkamV0QIABoSTMPQcYl/GFYHaI9ZC8VuCAVsxjFfZLz8szQBth6d7UkQADQQiUpyDmU\n",
       "Gl2UOFUXMh3nP1lspyVXlM4mpjJUAHWR7REgAOh3QRbKlpPFpnWINnQjlrpNiV84UQ3wDJoSIADo\n",
       "N+h4CxK4e23KG5f4woITcaic5ZGknRMNATbZS6OCAAFAa2zK1FV3Iffj1+gH4iWGdc+nKZnFSJfN\n",
       "H+GFoQXQe5crAgQAjWWPoGd0+mafqhEieANihJ/Tdmvz+3SaiaENAATNAlkSIABo68PFoPHzRnr/\n",
       "8eIxLf6WMTJPk/heJKlmJ7JyaOgBgMGoBQIEuLW0w6f+36EbPUh5g+S8EesuMAaAQCwQIIDX4y5z\n",
       "pasedKFpI8Y/NXwgCBC0HvS617GyHtEro7r7aPLtgRAgajbgkewr1vw7SH9qWBYEQE36X9V26Wt7\n",
       "0cfdfcj+3YEQwOv/BbYZxB7QoyUAAAAASUVORK5CYII=\n",
       "\" style=\"display:inline;vertical-align:middle;\" /></a></span></td></tr>\n",
       "<tr><td>&nbsp;</td><td colspan=4 style=\"text-align:left\"><span style=\"font-size:20px;\"><a class=\"ProveItLink\" href=\"../../../../../../__pv_it/common/09585084922504426caf1db2ff588a23a0932a960/expr.ipynb\"><img src=\"data:image/png;base64,iVBORw0KGgoAAAANSUhEUgAAAA8AAAAPBAMAAADJ+Ih5AAAAMFBMVEX///8AAAAAAAAAAAAAAAAA\n",
       "AAAAAAAAAAAAAAAAAAAAAAAAAAAAAAAAAAAAAAAAAAAv3aB7AAAAD3RSTlMAIs1UmauJMnZmRLsQ\n",
       "3e++988cAAAACXBIWXMAAA7EAAAOxAGVKw4bAAAAXklEQVQI12NgAAEhBijQh9LM/6EMlngBCCMx\n",
       "vwBMMzb0G0BkGOwngBmLGeoTwAwHBvkAEM2xxSV+A4hxgoGB/wJEhoH3AZDmAupg+gBkyAEx90cG\n",
       "htP/dRiY939KAABt3hLO6mcEjQAAAABJRU5ErkJggg==\n",
       "\" style=\"display:inline;vertical-align:middle;\" /></a> : <a class=\"ProveItLink\" href=\"../../../../../../__pv_it/common/09585084922504426caf1db2ff588a23a0932a960/expr.ipynb\"><img src=\"data:image/png;base64,iVBORw0KGgoAAAANSUhEUgAAAA8AAAAPBAMAAADJ+Ih5AAAAMFBMVEX///8AAAAAAAAAAAAAAAAA\n",
       "AAAAAAAAAAAAAAAAAAAAAAAAAAAAAAAAAAAAAAAAAAAv3aB7AAAAD3RSTlMAIs1UmauJMnZmRLsQ\n",
       "3e++988cAAAACXBIWXMAAA7EAAAOxAGVKw4bAAAAXklEQVQI12NgAAEhBijQh9LM/6EMlngBCCMx\n",
       "vwBMMzb0G0BkGOwngBmLGeoTwAwHBvkAEM2xxSV+A4hxgoGB/wJEhoH3AZDmAupg+gBkyAEx90cG\n",
       "htP/dRiY939KAABt3hLO6mcEjQAAAABJRU5ErkJggg==\n",
       "\" style=\"display:inline;vertical-align:middle;\" /></a>, <a class=\"ProveItLink\" href=\"../../../../../../__pv_it/common/a9162d1c3cc0470c02e5daf414500903a7a419230/expr.ipynb\"><img src=\"data:image/png;base64,iVBORw0KGgoAAAANSUhEUgAAABAAAAAOBAMAAADUAYG5AAAAMFBMVEX///8AAAAAAAAAAAAAAAAA\n",
       "AAAAAAAAAAAAAAAAAAAAAAAAAAAAAAAAAAAAAAAAAAAv3aB7AAAAD3RSTlMAZrurzTLvInZEmRDd\n",
       "VIkafcLnAAAACXBIWXMAAA7EAAAOxAGVKw4bAAAAb0lEQVQI12NgYBD6b2zsFMAABEkMDMxfgTT7\n",
       "DwYGzl9ABiOQxwjkMDB/YGBgSQcy2BQYuG1AiuM1OkwEQJr6Cxh4E0EMNSB+D5L6DMTyDQwMrB+B\n",
       "DPsJDAwc34GcL0AOSwIDwzRvoHH6n41NdBkYAF/iFeJ4bEa2AAAAAElFTkSuQmCC\n",
       "\" style=\"display:inline;vertical-align:middle;\" /></a> : <a class=\"ProveItLink\" href=\"../../../../../../__pv_it/common/a9162d1c3cc0470c02e5daf414500903a7a419230/expr.ipynb\"><img src=\"data:image/png;base64,iVBORw0KGgoAAAANSUhEUgAAABAAAAAOBAMAAADUAYG5AAAAMFBMVEX///8AAAAAAAAAAAAAAAAA\n",
       "AAAAAAAAAAAAAAAAAAAAAAAAAAAAAAAAAAAAAAAAAAAv3aB7AAAAD3RSTlMAZrurzTLvInZEmRDd\n",
       "VIkafcLnAAAACXBIWXMAAA7EAAAOxAGVKw4bAAAAb0lEQVQI12NgYBD6b2zsFMAABEkMDMxfgTT7\n",
       "DwYGzl9ABiOQxwjkMDB/YGBgSQcy2BQYuG1AiuM1OkwEQJr6Cxh4E0EMNSB+D5L6DMTyDQwMrB+B\n",
       "DPsJDAwc34GcL0AOSwIDwzRvoHH6n41NdBkYAF/iFeJ4bEa2AAAAAElFTkSuQmCC\n",
       "\" style=\"display:inline;vertical-align:middle;\" /></a></span></td></tr><tr><td><a name=\"0x295b991d1aa9a5c0_step5\">5</a></td><td>axiom</td><td></td><td><span style=\"font-size:20px;\"> <a class=\"ProveItLink\" href=\"../../axioms.ipynb#not_proper_subset_def\" style=\"text-decoration: none\">&nbsp;&#x22A2;&nbsp;&nbsp;</a><a class=\"ProveItLink\" href=\"../../../__pv_it/axioms/7d2ab8ca139d19ea56c6739c6bcb2fc80d1d3ffc0/expr.ipynb\"><img src=\"data:image/png;base64,iVBORw0KGgoAAAANSUhEUgAAARkAAAAWCAMAAADD7xhEAAAAPFBMVEX///8AAAAAAAAAAAAAAAAA\n",
       "AAAAAAAAAAAAAAAAAAAAAAAAAAAAAAAAAAAAAAAAAAAAAAAAAAAAAAAAAAAo1xBWAAAAE3RSTlMA\n",
       "q1RmmUTNIjK7EInv3Xb341Cp3V2mrwAAAAlwSFlzAAAOxAAADsQBlSsOGwAAAzZJREFUWMPlWMmC\n",
       "2yAMNavZpy3//6+1wSQIkMFNbtVhXjLY6KGdbNsHsjf44Tb//uCXCHzpPNsWKMS8qxw+yw2+jwjP\n",
       "9N0vIATupBCASF7rlD3bj1qIWWQcPas0+Mp0jOQQqVU6GXuib7IwJtAIQgAgF68tnwWRkRAvlnFI\n",
       "LBOoxGVTkZgWpFnXN1lACHQyJlCjKkGz62chwxnE6xuJAwMr0mZ2zIErIk8u5Ov6JgtjAn1pGRMA\n",
       "WMxk6TPLuAbzJruNMDyC9t7//PIe/JtdT7GLoDPL+u4XEAKnLBGokV0mf1i4qISYPRG2EGsLK2kP\n",
       "D4o2ZI4gvpS67GDJVvXdLyAEesEIAHTJos4+TCYLMX8587w6pPH7uILlLDekONKSVX33CwgBrMz0\n",
       "BADytKireF6oh52RU9Ie3lKxYkpSee9DRkUdQiDvd9nb8dxXQjp9KJEbAoPChxEAuJPypxjGqbrf\n",
       "Rm4t75qLpxAvjx2lrdpJIk0v5CpJXWFG3cwTl57KbnyZwGACwghAPMPFVsa1IFOZT1u11J2AmGod\n",
       "50dr0E1LEn3j0a5oUsWH0wLcer/4ck5gNEVgBCDSAIwrlKuHUpLbWpxaxuS3om/ID+ak4tbSGTbh\n",
       "vmAZjMBAUAINyo1VtgibrDd0NFUyNs2mEt3VIU+OlA+ynJUOcR2L+lmd8RSxzJTAsMxgBBq0tBpC\n",
       "DxtxCUYixjhRXTwGiJtg/XR+DmGD+fbK8oOgfE3rs5jR7eVq54sE8DIzINDg7kiVS7CopDJjSOf4\n",
       "ts3t5R1dz6BSDELmGCKuiH1ZjU9nBrSvzwgM+xlKoMUqJI5GZEk0TZnZY6tB+RrNcUNLWuj54X1M\n",
       "o93vNmbI6zb3ThAvZpZR/nYBJ0DEEwIt1kUm2UHBMnNcL7p0KjOSV7ej6x+rB8N5mxl+PkChG9wT\n",
       "2MQTAi1W2+S8PNu2sdlIJhXgPifaSxgyh61MjfhtcaBvfeGD63FHiKeCY3g80lOd0cJktOecN7pt\n",
       "6h3ikPXSnWPtmo/q0R//BlcItIhmwuQHEw1xGOnmozMP9a0vLEvr5AkhMTvVHiCOyuPSr5iLPkf1\n",
       "7OEzwxQCLaKZsP3X8hf5WiEujFvRCQAAAABJRU5ErkJggg==\n",
       "\" style=\"display:inline;vertical-align:middle;\" /></a></span></td></tr>\n",
       "<tr><td>&nbsp;</td><td colspan=4 style-\"text-align:left\"><a class=\"ProveItLink\" href=\"../../axioms.ipynb#not_proper_subset_def\">proveit.logic.sets.inclusion.not_proper_subset_def</a></td></tr></table>"
      ],
      "text/plain": [
       "\tstep type\trequirements\tstatement\n",
       "0\tgeneralization\t1\t|- forall_{A, B | A not_proper_subset B} [not](A proper_subset B)\n",
       "1\tinstantiation\t2, 3, 4\t{A not_proper_subset B} |- [not](A proper_subset B)\n",
       "\tP : A not_proper_subset B, Q : [not](A proper_subset B)\n",
       "2\ttheorem\t\t|- forall_{P, Q | P, P = Q} Q\n",
       "\tproveit.logic.equality.rhs_via_equality\n",
       "3\tassumption\t\t{A not_proper_subset B} |- A not_proper_subset B\n",
       "4\tinstantiation\t5\t|- (A not_proper_subset B) = [not](A proper_subset B)\n",
       "\tA : A, B : B\n",
       "5\taxiom\t\t|- forall_{A, B} ((A not_proper_subset B) = [not](A proper_subset B))\n",
       "\tproveit.logic.sets.inclusion.not_proper_subset_def"
      ]
     },
     "execution_count": 6,
     "metadata": {},
     "output_type": "execute_result"
    }
   ],
   "source": [
    "%qed"
   ]
  },
  {
   "cell_type": "code",
   "execution_count": null,
   "metadata": {},
   "outputs": [],
   "source": []
  }
 ],
 "metadata": {
  "kernelspec": {
   "display_name": "Python 3",
   "language": "python",
   "name": "python3"
  }
 },
 "nbformat": 4,
 "nbformat_minor": 0
}