{
 "cells": [
  {
   "cell_type": "markdown",
   "metadata": {},
   "source": [
    "Proof of <a class=\"ProveItLink\" href=\"../../../../../../_theory_nbs_/theory.ipynb\">proveit</a>.<a class=\"ProveItLink\" href=\"../../../../../_theory_nbs_/theory.ipynb\">logic</a>.<a class=\"ProveItLink\" href=\"../../../../_theory_nbs_/theory.ipynb\">sets</a>.<a class=\"ProveItLink\" href=\"../../theory.ipynb\">inclusion</a>.<a class=\"ProveItLink\" href=\"../../theorems.ipynb#not_proper_subset_is_bool\">not_proper_subset_is_bool</a> theorem\n",
    "========"
   ]
  },
  {
   "cell_type": "code",
   "execution_count": 1,
   "metadata": {},
   "outputs": [],
   "source": [
    "import proveit\n",
    "theory = proveit.Theory() # the theorem's theory"
   ]
  },
  {
   "cell_type": "code",
   "execution_count": 2,
   "metadata": {},
   "outputs": [
    {
     "data": {
      "text/html": [
       "With these <a href=\"allowed_presumptions.txt\">allowed</a>/<a href=\"disallowed_presumptions.txt\">disallowed</a> theorem/theory presumptions (e.g., to avoid circular dependencies), we begin our proof of<br><strong id=\"not_proper_subset_is_bool\">not_proper_subset_is_bool:</strong> <a class=\"ProveItLink\" href=\"../../../__pv_it/theorems/a79d8bbee1ae62f6bfcd217e0832cc2a380333cf0/expr.ipynb\"><img src=\"data:image/png;base64,iVBORw0KGgoAAAANSUhEUgAAALcAAAAWCAMAAAC18P3mAAAAPFBMVEX///8AAAAAAAAAAAAAAAAA\n",
       "AAAAAAAAAAAAAAAAAAAAAAAAAAAAAAAAAAAAAAAAAAAAAAAAAAAAAAAAAAAo1xBWAAAAE3RSTlMA\n",
       "q1RmmUTNIjK7EInv3Xb341Cp3V2mrwAAAAlwSFlzAAAOxAAADsQBlSsOGwAAAuBJREFUSMe9V9mW\n",
       "pSAMlC3s9Ezz//86rBoQr3r69PDQaa8FVJIiwW37wZCT/eEyvwM/j0BHW1eFJZab63VEuNnHOw0R\n",
       "nCfigJP9NWXvaFM72jogrrBKD49Mx0jSAK0KsbuddSYrwVTiBc7FvuO7BBgYbXMiLnlXfmi46giJ\n",
       "5QWYW96Jq5VbnZXhqgdc6nfh5my07YnEhfuKzBqNVRsi8hJ//oQ3o00dBd59tfQdbzfZuoi0cQxt\n",
       "0N77rz/eDz+zhmKNvzPnSR7OvNtPGc5avOClumG0NYxhCxH7ryAldxNzuJM+2qauZgdw0gQEs4o3\n",
       "kawdpQJ32Tfv7EuZ2NHWhyxwRMF4uT45Vd6G9CxYgiuSWZ1LEzzpexU4L3M1ApsHvHuEcKRECrWK\n",
       "yJFWuE7hVlGHEMgxl6GsLepD4u3BRd+raYFL0v902k7hCha5tfxUEDwdbQt3OnFoJbggEurhpa4T\n",
       "p26etNBJYKKlosJzqK1Ah2uQKPNlJzdnWoy2nCbOUz3RUxkR52KhXd9J9QQck6pu09AT72wsgtMw\n",
       "OCmUww2M1EoVb3mbOiv6Q6nkIu89J72cbOIIi9FX8c7VW2M4bAwxDRtgQTpaDhi71UkLq0eZyS7Q\n",
       "c7hVP7skNq+pHydd8gYMtxQd4eQBh6FDMMaJOi0VRltXnhp97kmLXtjknfjD3vjR23DNmwYMl44g\n",
       "lYxiLvI25BS0Xrm6lX2Oxg0TxCLcqWq3bO8+DdUU6IJ3Athg+QhH4UzFw5JoJnnLKOZce2xNuigV\n",
       "EjT/Y5FY3d853mS/VB38PF7eEC3wpABO6+M+OMO7SjJLNco73SNOQuktw6uPbfXb6lodPsHkpGlR\n",
       "JsFT+C7SXAiNrS6YcizP2e53oc93InjSw6a72Xs4L0I3PIJIdZTmxhRt7jqrO5eWo10N9uj28PIq\n",
       "ege/uSD2Qms+LOMfhVu/u/nfwMXdnjKMdvWd8+h77x3tO/jLz7b/O/4B3SYX202MuYYAAAAASUVO\n",
       "RK5CYII=\n",
       "\" style=\"display:inline;vertical-align:middle;\" /></a><br>(see <a class=\"ProveItLink\" href=\"../../../__pv_it/theorems/74d56e36dfe1b316b5640dc2180744091b355abd0/dependencies.ipynb\">dependencies</a>)<br>"
      ],
      "text/plain": [
       "<IPython.core.display.HTML object>"
      ]
     },
     "metadata": {},
     "output_type": "display_data"
    }
   ],
   "source": [
    "%proving not_proper_subset_is_bool"
   ]
  },
  {
   "cell_type": "code",
   "execution_count": null,
   "metadata": {},
   "outputs": [],
   "source": []
  }
 ],
 "metadata": {
  "kernelspec": {
   "display_name": "Python 3",
   "language": "python",
   "name": "python3"
  }
 },
 "nbformat": 4,
 "nbformat_minor": 0
}