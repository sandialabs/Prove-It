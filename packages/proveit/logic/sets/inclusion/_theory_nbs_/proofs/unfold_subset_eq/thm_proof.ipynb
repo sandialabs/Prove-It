{
 "cells": [
  {
   "cell_type": "markdown",
   "metadata": {},
   "source": [
    "Proof of <a class=\"ProveItLink\" href=\"../../../../../../_theory_nbs_/theory.ipynb\">proveit</a>.<a class=\"ProveItLink\" href=\"../../../../../_theory_nbs_/theory.ipynb\">logic</a>.<a class=\"ProveItLink\" href=\"../../../../_theory_nbs_/theory.ipynb\">sets</a>.<a class=\"ProveItLink\" href=\"../../theory.ipynb\">inclusion</a>.<a class=\"ProveItLink\" href=\"../../theorems.ipynb#unfold_subset_eq\">unfold_subset_eq</a> theorem\n",
    "========\n",
    "*** see <a href=\"../__pv_it/d521a5b1c24d27daae62adca805c8a8f7fc71ace0/dependencies.ipynb\" class=\"ProveItLink\">dependencies</a> ***"
   ]
  },
  {
   "cell_type": "code",
   "execution_count": 1,
   "metadata": {},
   "outputs": [
    {
     "data": {
      "text/html": [
       "With these <a href=\"allowed_presumptions.txt\">allowed</a>/<a href=\"disallowed_presumptions.txt\">disallowed</a> theorem/theory presumptions (e.g., to avoid circular dependencies), we begin our proof of<br><strong id=\"unfold_subset_eq\">unfold_subset_eq:</strong> <a class=\"ProveItLink\" href=\"../../../__pv_it/theorems/ffb57c6ecaa9512f7208b5cea9aeeaa8cfa4a4e50/expr.ipynb\"><img src=\"data:image/png;base64,iVBORw0KGgoAAAANSUhEUgAAAPcAAAAXBAMAAAAl5sTiAAAAMFBMVEX///8AAAAAAAAAAAAAAAAA\n",
       "AAAAAAAAAAAAAAAAAAAAAAAAAAAAAAAAAAAAAAAAAAAv3aB7AAAAD3RSTlMAq1RmmUTNIjK7EInv\n",
       "3XZ/CtNrAAAACXBIWXMAAA7EAAAOxAGVKw4bAAADeUlEQVRIx72WX0gUQRjAv727vb3bs/UkkQrC\n",
       "o6LHOFKKHswLqRTLhCAkoy4hQl86H6XS7TGSOoSDTipXkKBQuMQCuYdOe6iIQqiHHlzYMpAiTMv0\n",
       "MKi+ndm9nTvbNQ9q4G5n5/t2fjPfvxmAIpukys4KgpMw9hcTOLRA8xoK752Ep+kMQb2/vRg4pz9c\n",
       "YRu5K/XH4X2/ysraZZDCBH5QHzpfDNyj790bs5HftRl/DsBlAToI/IrunngxcJ9utC47eZ1NJPwE\n",
       "4BcBqgncq+AjVJTPcfUwaifP5L19VNUo6bhx125cQImiz+BG63uLC7gqfETtXJ4nOPHJ7HHziHuK\n",
       "vzAJ2Zeq+qI4eImqTqdsxB4UiHNbrhHLCB258ZI4iFsxxwJBAq8H6CfjSsHnZke0g3tk8Bd8lNPF\n",
       "neEM77SjkB+VN+7MVegJ4o4SeCcIJN3EZ0R6dTHdQLLfb+oP6wtNJpMx8A00jt204PhdZ8GShs3C\n",
       "sQHDaC/UKhsJ3FL4EgPXE90tGQL3K7ReBL7SiJgCKZMHfxwCMUG7NQCfmSLTDw9NpeubE4auYV4U\n",
       "y3CIvvSq2GhG3dKVcIW+eTKDS6MLa3lFIyIC7nkWzvdq4DfsVg5Qy8B35eLNU5/TteAAdEq4Z+18\n",
       "AX+1qMTTnUN0PxnWztKvQjASZuGSNwgXjf4kiK8ZuNeN00gfug/DjKVrmR34ZbhPXnJs3zf8q9S3\n",
       "PEXhoyQWJcNGPTPVm4CFa54obDMrRNUBmYEHdmK8zXLxNjFu6dLm19BXXAZINkha7jhaxgUs6d6N\n",
       "U/glstoWw5s1IJazcF7GEDgOZjwMRhi4MIGdsF+T+bCla4iD4MoOZXgaA225JED5qQ6aigTOkc00\n",
       "pisVw609zQzck36wAoNgxoPwnT3ViI1KY+BuTyb7DF3DvlMgNmk7dtO3wQRNSW5goayij3iimTkX\n",
       "JWTK1K1whk01DYSsWX8xHvjsqiO1F2K+lKVrtLd5Kdh6W82vhZfZGdCwpSExBcIKiG8Ys+sGxRxs\n",
       "JOvpUWAkUgAXMo8gQsuUoUtbtXOBrGPgngkQj53zTcKeH+mGEAM/EoShpWbgx7HIuC+kx/pWXSaa\n",
       "WucU6JItXSPiYo7XnPjq64iL6fvXc5MRx5OJgkLreEzrSyuEn1wHfK0rWLeTcBajbLoAHraBc0lS\n",
       "2/9fE/494jfbbuMHQpKW3AAAAABJRU5ErkJggg==\n",
       "\" style=\"display:inline;vertical-align:middle;\" /></a><br>(see <a class=\"ProveItLink\" href=\"../../../__pv_it/theorems/4af274e9122834611cbed60dca952537d7b4045e0/dependencies.ipynb\">dependencies</a>)<br>"
      ],
      "text/plain": [
       "<IPython.core.display.HTML object>"
      ]
     },
     "metadata": {},
     "output_type": "display_data"
    },
    {
     "name": "stdout",
     "output_type": "stream",
     "text": [
      "unfold_subset_eq may now be readily provable (assuming required theorems are usable).  Simply execute \"%qed\".\n"
     ]
    }
   ],
   "source": [
    "import proveit\n",
    "from proveit import A, B\n",
    "from proveit.logic.sets.inclusion  import subset_eq_def\n",
    "%proving unfold_subset_eq"
   ]
  },
  {
   "cell_type": "code",
   "execution_count": 2,
   "metadata": {},
   "outputs": [
    {
     "data": {
      "text/html": [
       "<span style=\"font-size:20px;\"> <a class=\"ProveItLink\" href=\"../../axioms.ipynb#subset_eq_def\" style=\"text-decoration: none\">&nbsp;&#x22A2;&nbsp;&nbsp;</a><a class=\"ProveItLink\" href=\"../../../__pv_it/axioms/0a73f44893619de306ad70c8de110c34b161d8b90/expr.ipynb\"><img src=\"data:image/png;base64,iVBORw0KGgoAAAANSUhEUgAAATUAAAAWBAMAAABTfhYbAAAAMFBMVEX///8AAAAAAAAAAAAAAAAA\n",
       "AAAAAAAAAAAAAAAAAAAAAAAAAAAAAAAAAAAAAAAAAAAv3aB7AAAAD3RSTlMAq1RmmUTNIjK7EInv\n",
       "3XZ/CtNrAAAACXBIWXMAAA7EAAAOxAGVKw4bAAAERElEQVRIx81XXWgUSRCu/d+dzU426In6sgEP\n",
       "X/xbNCg+nAno+YM/F04QUdHVI4hBMHkRAmrWF0GMZpELGuHODYiQ45REiHIEcQ0o3omyiKIPLkxO\n",
       "ISgaf1ATFYzV1d2zO9MzE3yzobZmqnu+/rqqu7oWwLO1CPFoEdX08tE3f2KdEgEmmRVAr+WCbb/b\n",
       "mJChmAYmgf3fq3M7R2AqyR5nuYybIwTbPqUzcPZNzbTTAE9Ubj7260+7oPr7HM0CT08TN6Z+Zubd\n",
       "ziBahgvDmxC2Z6VSSYSsKgeQykI4r3ALNuJv2C0s513sAq+Zex7VYRb/nPPgYJoLe0zxmY6MlLvb\n",
       "MZo7GiDQoHCLsmi0uUVtuYtd4NVxbqjYquO1LgsRgu3KtSx58mFFdz2a6hHvP3W/sbVfcuNWsLxh\n",
       "IDIWvKo8cUMVQL+EXUBmC0HPGq+Iv6+xojuFshfd+ZvKbRH+Zty2m6Vj03M7XjhN3Ji6UyrddkFZ\n",
       "KwRDCgsotpZV/AvQw7Zev8qtqlR63OeCGsQObXTmMfJrpFnBiyeJG1OrAc5Ql7KlySHcKb9CJ011\n",
       "uKI3+nF0mHoX04wlaknOLZiFmA1Pkw/MIUEYNtaD9cBIvECGuDHVChEC1G7RiKPvBtdkxeh7QgAa\n",
       "oJ0GtVYmvzGAucybc1W/IWSrzfi3RE3g7lgC9fkptkBIPH+BuDEVy8dpE8Xf8ixTBF1u1htCQP99\n",
       "RYrOcqJishgOi4/jQ6dD7j1TTsAnZnQxdU0euCqcLgsr+UsHc3bOghd9TQhM+Q3OffNdUj5MCq/t\n",
       "3C4CVBdlVpGtGj0Z+IIP2xy4zTePQnA1vz46jApuAHw26FXxQtxvTEFmGXUZO/mXtXAhbY8pZrAE\n",
       "d2ZTGasTh/ne48M8db9BOIBU9KeHVslrQw8nK2IKoTH4yxYIiecv8pgyZ1yio6ILL7c/qZsuR/8p\n",
       "JMTyDHdmzw/mFn+F27iTeWepg9/is3HciC+3SxN53QhKR8YM0Lp8BaDDpZdvY4kXyPGzwD48QAva\n",
       "DC9oxE+gTZWj+4UcYIhj3Lb1D3ln7UXSN/NmmrFyi1xHnY4Z2RAPQihr7mJMDv7xc4UQ33+7zK8k\n",
       "HssxA1yBjw7Q2sEUeQSJtcsEe5xL70Qz+M9+sOWrGRM1NXsI/4FTHULOr26BwJ7u7pM402D/J5kr\n",
       "iqBtMH5cyN96uvI2vEQjISTMNK8jJeI4hHeaedqzXCapxoquNVIHtET5kgyIjEurtbrDQFhvkIMc\n",
       "4aBp2IiLrNX6IPIJtPtm1dIADje5U0XgyC1SuIyniBI7i+xb2V3njbecI5gVQfA6aL80RYdg8efB\n",
       "NeWb/5SQMg86jNaFt7nWlhu2juahjTl+XRLOfZBBinnWtFQUDai1kd/23mvNQM7tlHfdq/3T3WW7\n",
       "vXJecMR8QF3AFvsaDC6edbvqhauT/F845NXJCsSXN2DEbk/D99S+AiaFO+dj7lWNAAAAAElFTkSu\n",
       "QmCC\n",
       "\" style=\"display:inline;vertical-align:middle;\" /></a></span>"
      ],
      "text/plain": [
       "|- forall_{A, B} ((A subset_eq B) = [forall_{x in A} (x in B)])"
      ]
     },
     "metadata": {},
     "output_type": "display_data"
    }
   ],
   "source": [
    "subset_eq_def"
   ]
  },
  {
   "cell_type": "code",
   "execution_count": 3,
   "metadata": {},
   "outputs": [
    {
     "data": {
      "text/html": [
       "<strong id=\"SubsetEqDef_inst\">SubsetEqDef_inst:</strong> <span style=\"font-size:20px;\"> <a class=\"ProveItLink\" href=\"../../../__pv_it/_proof_unfold_subset_eq/99a1fa96a19e693c150cd2e8738c201103c773500/proof.ipynb\" style=\"text-decoration: none\">&nbsp;&#x22A2;&nbsp;&nbsp;</a><a class=\"ProveItLink\" href=\"../../../__pv_it/axioms/369d595e9ce73ec272a603a3113a2b2655115f130/expr.ipynb\"><img src=\"data:image/png;base64,iVBORw0KGgoAAAANSUhEUgAAAO4AAAAVBAMAAACzlc/LAAAAMFBMVEX///8AAAAAAAAAAAAAAAAA\n",
       "AAAAAAAAAAAAAAAAAAAAAAAAAAAAAAAAAAAAAAAAAAAv3aB7AAAAD3RSTlMAInZUiRDNmWbv3US7\n",
       "qzJazP2FAAAACXBIWXMAAA7EAAAOxAGVKw4bAAADHUlEQVRIx4WWTWgTQRSA3+anu6nNz0kItDQW\n",
       "iloN7aEU66VVe3IQQxG8JBKRgkXFCMUqghYPPQkNoh6sSsXbClJQRC81KYigoQ0eBLEhOaigUGIV\n",
       "vfhT38zOprOd2exAsrPvzXxv5s17bwcAYtC0abKo51HzKU2RGgf4+tjrVrdxWxKSiHiY5cgmPCT0\n",
       "W69npQHG8t/KuyWAHQq7ZfrY44buV0pFHoFglgn961y72zRN7sZQAaBag5aUbPcSfRx3McuRUhN4\n",
       "BPQpJtOr1pl83rYxrhM98iIHRk62u0oPquBilyOlJvAIhCzZvsM1ttT7wrgZFM3g2JuyXbrmgNsp\n",
       "hhxv6MCsxCMwYAVZopdRwvPCjCr+xtENJ2W7Bm6pxe14B8SXp90qHoEJyzUwxJzjYN0ByNCjPqSI\n",
       "59umecPNLkWOJo+N0J1oY0oe4Zt5DPVh+lwVpkf+dCWZdpqtzGStzO1eBni5yVwj/OiknO+tPkc3\n",
       "ElPyCDxgshx0MmKHmIVrAIPUC4OK/XaAVt4UxffsHiKNmPEzPOV0oMgjMMtEryarLDpbBVBbHmPn\n",
       "H3bqCrttqYAdCpFkiXYDP2w1IiOgW8H0hTqpIPG43VGA6NzmFIjihozv2HmusOtPNHYyyTIBFq4L\n",
       "djGorTKXVvO4nzGjWvNMeWpjXB3XEP6Nnb2K84XsVfzrOrc95uNLTZwR/IyJGgumnA4UeQQWacmk\n",
       "WfGNKTMfGuHRiyFRp966pqrPBzBQfbGVlj6+Ix+ct9WITM+/hwATb1R3kUdYksSp99cs7ZPXdp0c\n",
       "xwXdSvG8kOzGqddgMQLPLNkC7LTViBz6dBFzhLYTjVkij8BXXNz6GPiXfw074SvrlcppVkwequyG\n",
       "2aniYqdLpRIOmxip2p5C5NEu/wWrnGXepBQ8Aq01j48aaHOu38FIXoOP3M3QaZOcSHRgVuIRRdX3\n",
       "LvO23Xggq2NG0S56O2rXaw8k5SGh6JCxoHVeJ9pdv/v6rv3doC3R3l0IXmnkQrGp3XaLkPbab9Hj\n",
       "vnGkVJp36tOePEI/RR6XFvmydNDjftUUSXk9s/8BI07fqsq+I7UAAAAASUVORK5CYII=\n",
       "\" style=\"display:inline;vertical-align:middle;\" /></a></span><br>"
      ],
      "text/plain": [
       "<IPython.core.display.HTML object>"
      ]
     },
     "metadata": {},
     "output_type": "display_data"
    }
   ],
   "source": [
    "SubsetEqDef_inst = subset_eq_def.instantiate()"
   ]
  },
  {
   "cell_type": "code",
   "execution_count": 4,
   "metadata": {},
   "outputs": [
    {
     "data": {
      "text/html": [
       "<span style=\"font-size:20px;\"><a class=\"ProveItLink\" href=\"../../../__pv_it/axioms/db7a164f644801bfd111812bb9a6a278f180c2b50/expr.ipynb\"><img src=\"data:image/png;base64,iVBORw0KGgoAAAANSUhEUgAAADsAAAASBAMAAAAXqLt+AAAAMFBMVEX///8AAAAAAAAAAAAAAAAA\n",
       "AAAAAAAAAAAAAAAAAAAAAAAAAAAAAAAAAAAAAAAAAAAv3aB7AAAAD3RSTlMAIs1UmauJMnZmRLsQ\n",
       "3e++988cAAAACXBIWXMAAA7EAAAOxAGVKw4bAAAA/UlEQVQoz2NgAAEhBrxAH0OEc//X0KDtEDbz\n",
       "f6hg9927d69DmHwbGBjiC8BMlngBMF3UiNAu38DAsN4BzEzMByvjuYhk+nyg0PwGEIuxod8ARLMu\n",
       "QJKOB2I9sKEsDPYTQDQTstteMzAchThjMUN9AoguRZJl/93RqglhOjDIB4BoUSRpjo8MDHZgMzm2\n",
       "uMRvADF4kaS5HzAwsH0HsU4wMPBfALthAkKaH2ge5w+I2Qy8D8BiWgjpeqBS1l9ABheQwfQBLHY0\n",
       "6gBMuh/op3oFIEMOZNNHiOCyvbBA1QPqewRUfPq/DgPz/k8JqDES/T80VNuAgYqA5e5dRIRCAACA\n",
       "ZT/mFM9iAgAAAABJRU5ErkJggg==\n",
       "\" style=\"display:inline;vertical-align:middle;\" /></a> <a class=\"ProveItLink\" href=\"../../../__pv_it/_proof_unfold_subset_eq/856981775aac0d6a299bcc8340f29f0c4158d7a80/proof.ipynb\" style=\"text-decoration: none\">&nbsp;&#x22A2;&nbsp;&nbsp;</a><a class=\"ProveItLink\" href=\"../../../__pv_it/axioms/337a7f044b6a14048e4b1c9c190ed1e6fa6121e30/expr.ipynb\"><img src=\"data:image/png;base64,iVBORw0KGgoAAAANSUhEUgAAAHwAAAAVBAMAAAB2y5cfAAAAMFBMVEX///8AAAAAAAAAAAAAAAAA\n",
       "AAAAAAAAAAAAAAAAAAAAAAAAAAAAAAAAAAAAAAAAAAAv3aB7AAAAD3RSTlMAq1RmmUTNIjK7EInv\n",
       "3XZ/CtNrAAAACXBIWXMAAA7EAAAOxAGVKw4bAAACFklEQVQ4y2NgwA8K8MixMxACfAp4JFkfMDAI\n",
       "gBjKuFRoYxVlnv9RUGwGA8NjBgZXED8dh26uBOziPBMYGOQbGNgWMDSCPDEBh3YWA+zi9UBnxzsw\n",
       "MDuATGDgxuVDHhTey7t3oa6xbwBioBGnGJiBFrDh8roaMifsFZwpD8Q5wEhJZmA4e/fuaVzavYF4\n",
       "3cMVu0GuY89CiJ9kYFh4A0hvZGDwYGCYhaZrAYwBNJ3BgU+O5QKQZkMkAY6f7x6CpBjMGBgKGdgF\n",
       "0ML7BIx1CRhJBcy/GEEhiORDvu8MDDogMR0GBs4F3AEwUx/OBDG5P8HUHQWKMbBAwqvnLhBAoojz\n",
       "AFDRDyCjn4GB6QHcXJcGMBVxDkk7MPgfgNkrEbbzA53L/A/IiAHiBDsg8c79SQEfNJYfJCI5HhjB\n",
       "BVygwOBFaO8HKmT8CmToAvEmYJDyFUiyKUDN52Nwg6mbB7Q0QIaBGyz8AK79PTAU+0FesgTiGpBT\n",
       "GOZxMARDJCMY3sDUASNGv8uHIQjMSYJrzwFml2MLoBHLCPYxMDDNZs6cCYxh793ysJjrZWBY8o7J\n",
       "GZIoF06FCkv+FxTMBItdhUflAXaGbqjbGeoboKK8DcgRGj33LmoWYr8AZdRwJ7AAoxDEBHqBH5YH\n",
       "gHkCH4DnKJan+14xsM8AsQ4ycPmnwhRMx6u9EpW7eubMAFSRlXi1TydUWLE/wFeSFTAAAKsBdeim\n",
       "MMRjAAAAAElFTkSuQmCC\n",
       "\" style=\"display:inline;vertical-align:middle;\" /></a></span>"
      ],
      "text/plain": [
       "{A subset_eq B} |- forall_{x in A} (x in B)"
      ]
     },
     "metadata": {},
     "output_type": "display_data"
    }
   ],
   "source": [
    "SubsetEqDef_inst.derive_right_via_equality(assumptions=[SubsetEqDef_inst.lhs])"
   ]
  },
  {
   "cell_type": "code",
   "execution_count": 5,
   "metadata": {},
   "outputs": [
    {
     "name": "stdout",
     "output_type": "stream",
     "text": [
      "proveit.logic.sets.inclusion.unfold_subset_eq has been proven.\n"
     ]
    },
    {
     "data": {
      "text/html": [
       "<table><tr><th>&nbsp;</th><th>step type</th><th>requirements</th><th>statement</th></tr>\n",
       "<tr><td><a name=\"-0x35b98faf024af5bd_step0\">0</a></td><td>generalization</td><td><a href=\"#-0x35b98faf024af5bd_step1\">1</a></td><td><span style=\"font-size:20px;\"> <a class=\"ProveItLink\" href=\"../../../__pv_it/_proof_unfold_subset_eq/a0fb49b8d488216860efbf0c684bb31516d39db10/proof.ipynb\" style=\"text-decoration: none\">&nbsp;&#x22A2;&nbsp;&nbsp;</a><a class=\"ProveItLink\" href=\"../../../__pv_it/theorems/ffb57c6ecaa9512f7208b5cea9aeeaa8cfa4a4e50/expr.ipynb\"><img src=\"data:image/png;base64,iVBORw0KGgoAAAANSUhEUgAAAPcAAAAXBAMAAAAl5sTiAAAAMFBMVEX///8AAAAAAAAAAAAAAAAA\n",
       "AAAAAAAAAAAAAAAAAAAAAAAAAAAAAAAAAAAAAAAAAAAv3aB7AAAAD3RSTlMAq1RmmUTNIjK7EInv\n",
       "3XZ/CtNrAAAACXBIWXMAAA7EAAAOxAGVKw4bAAADeUlEQVRIx72WX0gUQRjAv727vb3bs/UkkQrC\n",
       "o6LHOFKKHswLqRTLhCAkoy4hQl86H6XS7TGSOoSDTipXkKBQuMQCuYdOe6iIQqiHHlzYMpAiTMv0\n",
       "MKi+ndm9nTvbNQ9q4G5n5/t2fjPfvxmAIpukys4KgpMw9hcTOLRA8xoK752Ep+kMQb2/vRg4pz9c\n",
       "YRu5K/XH4X2/ysraZZDCBH5QHzpfDNyj790bs5HftRl/DsBlAToI/IrunngxcJ9utC47eZ1NJPwE\n",
       "4BcBqgncq+AjVJTPcfUwaifP5L19VNUo6bhx125cQImiz+BG63uLC7gqfETtXJ4nOPHJ7HHziHuK\n",
       "vzAJ2Zeq+qI4eImqTqdsxB4UiHNbrhHLCB258ZI4iFsxxwJBAq8H6CfjSsHnZke0g3tk8Bd8lNPF\n",
       "neEM77SjkB+VN+7MVegJ4o4SeCcIJN3EZ0R6dTHdQLLfb+oP6wtNJpMx8A00jt204PhdZ8GShs3C\n",
       "sQHDaC/UKhsJ3FL4EgPXE90tGQL3K7ReBL7SiJgCKZMHfxwCMUG7NQCfmSLTDw9NpeubE4auYV4U\n",
       "y3CIvvSq2GhG3dKVcIW+eTKDS6MLa3lFIyIC7nkWzvdq4DfsVg5Qy8B35eLNU5/TteAAdEq4Z+18\n",
       "AX+1qMTTnUN0PxnWztKvQjASZuGSNwgXjf4kiK8ZuNeN00gfug/DjKVrmR34ZbhPXnJs3zf8q9S3\n",
       "PEXhoyQWJcNGPTPVm4CFa54obDMrRNUBmYEHdmK8zXLxNjFu6dLm19BXXAZINkha7jhaxgUs6d6N\n",
       "U/glstoWw5s1IJazcF7GEDgOZjwMRhi4MIGdsF+T+bCla4iD4MoOZXgaA225JED5qQ6aigTOkc00\n",
       "pisVw609zQzck36wAoNgxoPwnT3ViI1KY+BuTyb7DF3DvlMgNmk7dtO3wQRNSW5goayij3iimTkX\n",
       "JWTK1K1whk01DYSsWX8xHvjsqiO1F2K+lKVrtLd5Kdh6W82vhZfZGdCwpSExBcIKiG8Ys+sGxRxs\n",
       "JOvpUWAkUgAXMo8gQsuUoUtbtXOBrGPgngkQj53zTcKeH+mGEAM/EoShpWbgx7HIuC+kx/pWXSaa\n",
       "WucU6JItXSPiYo7XnPjq64iL6fvXc5MRx5OJgkLreEzrSyuEn1wHfK0rWLeTcBajbLoAHraBc0lS\n",
       "2/9fE/494jfbbuMHQpKW3AAAAABJRU5ErkJggg==\n",
       "\" style=\"display:inline;vertical-align:middle;\" /></a></span></td></tr>\n",
       "<tr><td><a name=\"-0x35b98faf024af5bd_step1\">1</a></td><td>instantiation</td><td><a href=\"#-0x35b98faf024af5bd_step2\">2</a>, <a href=\"#-0x35b98faf024af5bd_step3\">3</a>, <a href=\"#-0x35b98faf024af5bd_step4\">4</a></td><td><span style=\"font-size:20px;\"><a class=\"ProveItLink\" href=\"../../../__pv_it/axioms/db7a164f644801bfd111812bb9a6a278f180c2b50/expr.ipynb\"><img src=\"data:image/png;base64,iVBORw0KGgoAAAANSUhEUgAAADsAAAASBAMAAAAXqLt+AAAAMFBMVEX///8AAAAAAAAAAAAAAAAA\n",
       "AAAAAAAAAAAAAAAAAAAAAAAAAAAAAAAAAAAAAAAAAAAv3aB7AAAAD3RSTlMAIs1UmauJMnZmRLsQ\n",
       "3e++988cAAAACXBIWXMAAA7EAAAOxAGVKw4bAAAA/UlEQVQoz2NgAAEhBrxAH0OEc//X0KDtEDbz\n",
       "f6hg9927d69DmHwbGBjiC8BMlngBMF3UiNAu38DAsN4BzEzMByvjuYhk+nyg0PwGEIuxod8ARLMu\n",
       "QJKOB2I9sKEsDPYTQDQTstteMzAchThjMUN9AoguRZJl/93RqglhOjDIB4BoUSRpjo8MDHZgMzm2\n",
       "uMRvADF4kaS5HzAwsH0HsU4wMPBfALthAkKaH2ge5w+I2Qy8D8BiWgjpeqBS1l9ABheQwfQBLHY0\n",
       "6gBMuh/op3oFIEMOZNNHiOCyvbBA1QPqewRUfPq/DgPz/k8JqDES/T80VNuAgYqA5e5dRIRCAACA\n",
       "ZT/mFM9iAgAAAABJRU5ErkJggg==\n",
       "\" style=\"display:inline;vertical-align:middle;\" /></a> <a class=\"ProveItLink\" href=\"../../../__pv_it/_proof_unfold_subset_eq/856981775aac0d6a299bcc8340f29f0c4158d7a80/proof.ipynb\" style=\"text-decoration: none\">&nbsp;&#x22A2;&nbsp;&nbsp;</a><a class=\"ProveItLink\" href=\"../../../__pv_it/axioms/337a7f044b6a14048e4b1c9c190ed1e6fa6121e30/expr.ipynb\"><img src=\"data:image/png;base64,iVBORw0KGgoAAAANSUhEUgAAAHwAAAAVBAMAAAB2y5cfAAAAMFBMVEX///8AAAAAAAAAAAAAAAAA\n",
       "AAAAAAAAAAAAAAAAAAAAAAAAAAAAAAAAAAAAAAAAAAAv3aB7AAAAD3RSTlMAq1RmmUTNIjK7EInv\n",
       "3XZ/CtNrAAAACXBIWXMAAA7EAAAOxAGVKw4bAAACFklEQVQ4y2NgwA8K8MixMxACfAp4JFkfMDAI\n",
       "gBjKuFRoYxVlnv9RUGwGA8NjBgZXED8dh26uBOziPBMYGOQbGNgWMDSCPDEBh3YWA+zi9UBnxzsw\n",
       "MDuATGDgxuVDHhTey7t3oa6xbwBioBGnGJiBFrDh8roaMifsFZwpD8Q5wEhJZmA4e/fuaVzavYF4\n",
       "3cMVu0GuY89CiJ9kYFh4A0hvZGDwYGCYhaZrAYwBNJ3BgU+O5QKQZkMkAY6f7x6CpBjMGBgKGdgF\n",
       "0ML7BIx1CRhJBcy/GEEhiORDvu8MDDogMR0GBs4F3AEwUx/OBDG5P8HUHQWKMbBAwqvnLhBAoojz\n",
       "AFDRDyCjn4GB6QHcXJcGMBVxDkk7MPgfgNkrEbbzA53L/A/IiAHiBDsg8c79SQEfNJYfJCI5HhjB\n",
       "BVygwOBFaO8HKmT8CmToAvEmYJDyFUiyKUDN52Nwg6mbB7Q0QIaBGyz8AK79PTAU+0FesgTiGpBT\n",
       "GOZxMARDJCMY3sDUASNGv8uHIQjMSYJrzwFml2MLoBHLCPYxMDDNZs6cCYxh793ysJjrZWBY8o7J\n",
       "GZIoF06FCkv+FxTMBItdhUflAXaGbqjbGeoboKK8DcgRGj33LmoWYr8AZdRwJ7AAoxDEBHqBH5YH\n",
       "gHkCH4DnKJan+14xsM8AsQ4ycPmnwhRMx6u9EpW7eubMAFSRlXi1TydUWLE/wFeSFTAAAKsBdeim\n",
       "MMRjAAAAAElFTkSuQmCC\n",
       "\" style=\"display:inline;vertical-align:middle;\" /></a></span></td></tr>\n",
       "<tr><td>&nbsp;</td><td colspan=4 style=\"text-align:left\"><span style=\"font-size:20px;\"><a class=\"ProveItLink\" href=\"../../../../../../__pv_it/common/de55da274ba0f49c86925fbf3828021c04d27faf0/expr.ipynb\"><img src=\"data:image/png;base64,iVBORw0KGgoAAAANSUhEUgAAABAAAAAOBAMAAADUAYG5AAAAMFBMVEX///8AAAAAAAAAAAAAAAAA\n",
       "AAAAAAAAAAAAAAAAAAAAAAAAAAAAAAAAAAAAAAAAAAAv3aB7AAAAD3RSTlMAdrurzZkQ7zJUiSLd\n",
       "ZkQEbk8lAAAACXBIWXMAAA7EAAAOxAGVKw4bAAAAWklEQVQI12NgYBD6r2zkmsAABF8YGJjKgDTH\n",
       "RwYGTiBmYPwBxL+ADKYPQAzkMPArMDD0CzCAiV0nQZrkrVbdA9EM+gxQ8AVKc/yCMhj/QRksHyA0\n",
       "q/4nkBkMAGrBE2oHiyZAAAAAAElFTkSuQmCC\n",
       "\" style=\"display:inline;vertical-align:middle;\" /></a> : <a class=\"ProveItLink\" href=\"../../../__pv_it/axioms/db7a164f644801bfd111812bb9a6a278f180c2b50/expr.ipynb\"><img src=\"data:image/png;base64,iVBORw0KGgoAAAANSUhEUgAAADsAAAASBAMAAAAXqLt+AAAAMFBMVEX///8AAAAAAAAAAAAAAAAA\n",
       "AAAAAAAAAAAAAAAAAAAAAAAAAAAAAAAAAAAAAAAAAAAv3aB7AAAAD3RSTlMAIs1UmauJMnZmRLsQ\n",
       "3e++988cAAAACXBIWXMAAA7EAAAOxAGVKw4bAAAA/UlEQVQoz2NgAAEhBrxAH0OEc//X0KDtEDbz\n",
       "f6hg9927d69DmHwbGBjiC8BMlngBMF3UiNAu38DAsN4BzEzMByvjuYhk+nyg0PwGEIuxod8ARLMu\n",
       "QJKOB2I9sKEsDPYTQDQTstteMzAchThjMUN9AoguRZJl/93RqglhOjDIB4BoUSRpjo8MDHZgMzm2\n",
       "uMRvADF4kaS5HzAwsH0HsU4wMPBfALthAkKaH2ge5w+I2Qy8D8BiWgjpeqBS1l9ABheQwfQBLHY0\n",
       "6gBMuh/op3oFIEMOZNNHiOCyvbBA1QPqewRUfPq/DgPz/k8JqDES/T80VNuAgYqA5e5dRIRCAACA\n",
       "ZT/mFM9iAgAAAABJRU5ErkJggg==\n",
       "\" style=\"display:inline;vertical-align:middle;\" /></a>, <a class=\"ProveItLink\" href=\"../../../../../../__pv_it/common/d72bb8b07403efe79afab564c36a28e21330e5f90/expr.ipynb\"><img src=\"data:image/png;base64,iVBORw0KGgoAAAANSUhEUgAAAA8AAAASBAMAAAB2sJk8AAAAMFBMVEX///8AAAAAAAAAAAAAAAAA\n",
       "AAAAAAAAAAAAAAAAAAAAAAAAAAAAAAAAAAAAAAAAAAAv3aB7AAAAD3RSTlMAIomZq2bNMhC7791E\n",
       "VHYkqjbgAAAACXBIWXMAAA7EAAAOxAGVKw4bAAAAgklEQVQI12NgYGBUVnJlAAG1AgaWBCDdNgFI\n",
       "LAbibJCoPwMD83cQQ7+AQR4kw2B/gMH+AoiRL8CwvwFIc/xiYPgFEmD9ysCwG8ToSgBp5LnAYCXA\n",
       "wFB/IVyUaSFQlG/hAyYXkAaGkknaBxgKwLZyHuATgDAcroFpBub/3yEM9l1AawBt/xzBtQnGvwAA\n",
       "AABJRU5ErkJggg==\n",
       "\" style=\"display:inline;vertical-align:middle;\" /></a> : <a class=\"ProveItLink\" href=\"../../../__pv_it/axioms/337a7f044b6a14048e4b1c9c190ed1e6fa6121e30/expr.ipynb\"><img src=\"data:image/png;base64,iVBORw0KGgoAAAANSUhEUgAAAHwAAAAVBAMAAAB2y5cfAAAAMFBMVEX///8AAAAAAAAAAAAAAAAA\n",
       "AAAAAAAAAAAAAAAAAAAAAAAAAAAAAAAAAAAAAAAAAAAv3aB7AAAAD3RSTlMAq1RmmUTNIjK7EInv\n",
       "3XZ/CtNrAAAACXBIWXMAAA7EAAAOxAGVKw4bAAACFklEQVQ4y2NgwA8K8MixMxACfAp4JFkfMDAI\n",
       "gBjKuFRoYxVlnv9RUGwGA8NjBgZXED8dh26uBOziPBMYGOQbGNgWMDSCPDEBh3YWA+zi9UBnxzsw\n",
       "MDuATGDgxuVDHhTey7t3oa6xbwBioBGnGJiBFrDh8roaMifsFZwpD8Q5wEhJZmA4e/fuaVzavYF4\n",
       "3cMVu0GuY89CiJ9kYFh4A0hvZGDwYGCYhaZrAYwBNJ3BgU+O5QKQZkMkAY6f7x6CpBjMGBgKGdgF\n",
       "0ML7BIx1CRhJBcy/GEEhiORDvu8MDDogMR0GBs4F3AEwUx/OBDG5P8HUHQWKMbBAwqvnLhBAoojz\n",
       "AFDRDyCjn4GB6QHcXJcGMBVxDkk7MPgfgNkrEbbzA53L/A/IiAHiBDsg8c79SQEfNJYfJCI5HhjB\n",
       "BVygwOBFaO8HKmT8CmToAvEmYJDyFUiyKUDN52Nwg6mbB7Q0QIaBGyz8AK79PTAU+0FesgTiGpBT\n",
       "GOZxMARDJCMY3sDUASNGv8uHIQjMSYJrzwFml2MLoBHLCPYxMDDNZs6cCYxh793ysJjrZWBY8o7J\n",
       "GZIoF06FCkv+FxTMBItdhUflAXaGbqjbGeoboKK8DcgRGj33LmoWYr8AZdRwJ7AAoxDEBHqBH5YH\n",
       "gHkCH4DnKJan+14xsM8AsQ4ycPmnwhRMx6u9EpW7eubMAFSRlXi1TydUWLE/wFeSFTAAAKsBdeim\n",
       "MMRjAAAAAElFTkSuQmCC\n",
       "\" style=\"display:inline;vertical-align:middle;\" /></a></span></td></tr><tr><td><a name=\"-0x35b98faf024af5bd_step2\">2</a></td><td>theorem</td><td></td><td><span style=\"font-size:20px;\"> <a class=\"ProveItLink\" href=\"../../../../../equality/_theory_nbs_/proofs/rhs_via_equality/thm_proof.ipynb\" style=\"text-decoration: none\">&nbsp;&#x22A2;&nbsp;&nbsp;</a><a class=\"ProveItLink\" href=\"../../../../../equality/__pv_it/theorems/b71cc6ded84759b8e6fdf7e824529c371b14ed8e0/expr.ipynb\"><img src=\"data:image/png;base64,iVBORw0KGgoAAAANSUhEUgAAAIkAAAAVBAMAAACArtDCAAAAMFBMVEX///8AAAAAAAAAAAAAAAAA\n",
       "AAAAAAAAAAAAAAAAAAAAAAAAAAAAAAAAAAAAAAAAAAAv3aB7AAAAD3RSTlMAq1RmmUTNIjK7EInv\n",
       "3XZ/CtNrAAAACXBIWXMAAA7EAAAOxAGVKw4bAAAB3klEQVQ4y51UTShEURT+xsx4w2OaiSgbU8rC\n",
       "apYWaCxEUd5KmdXslJKR7dSMjS3FBgtvZaVJmixINNQsRCM7mfzspAZRhOKcO+bNGWPB++qd777z\n",
       "vvfde8+9HfhAaINdaKmdBqI+Ho/ZdtlKwBEBZthw3q7JGv95CFSbgB6w6zLBoRVwBsnJronrleNe\n",
       "AjjO5Y7susRVKYYNYABY/m2av7gMq1JMRoEpaHTa7tXB3mZO3eX7laCmoBt9Tvmjggsoii6pqKj9\n",
       "YLmp04rQDewSjUQRiwoXZxZ6VrCCJfpQkicKVVequI3APb2Q0jUvXBwheB8EM0qiHIf1CMdID8c0\n",
       "cErlonI7H4RLXQD1PsGqppaoFe4AhtSyNsf54r1hKgQ00VDfFy5xU2u02LVEWBCiuUDntJ5RwhjP\n",
       "4TzJdxDxmVf7hEtX/saUjDKRN3Ol+wt5R4JDYbkHPIGsrh/lXC7CzMqugYT1pS6oaBFhnMmTPhB/\n",
       "FndUErHO8JZuQJyGtRuITSdng8JFe4HKKy6iJGKdr9364F3dBjxpaL3XLZpwuX03VV6x1VMsEa/v\n",
       "8/XHha6ixx1Kyh1Z+TIURQTPxc+GEOaJHs8rXMIVHe5b9CvUZieMCpdgZV8x/thQ/9MhvgB6V4K4\n",
       "K/k90gAAAABJRU5ErkJggg==\n",
       "\" style=\"display:inline;vertical-align:middle;\" /></a></span></td></tr>\n",
       "<tr><td>&nbsp;</td><td colspan=4 style-\"text-align:left\"><a class=\"ProveItLink\" href=\"../../../../../equality/_theory_nbs_/proofs/rhs_via_equality/thm_proof.ipynb\">proveit.logic.equality.rhs_via_equality</a></td></tr><tr><td><a name=\"-0x35b98faf024af5bd_step3\">3</a></td><td>assumption</td><td></td><td><span style=\"font-size:20px;\"><a class=\"ProveItLink\" href=\"../../../__pv_it/axioms/db7a164f644801bfd111812bb9a6a278f180c2b50/expr.ipynb\"><img src=\"data:image/png;base64,iVBORw0KGgoAAAANSUhEUgAAADsAAAASBAMAAAAXqLt+AAAAMFBMVEX///8AAAAAAAAAAAAAAAAA\n",
       "AAAAAAAAAAAAAAAAAAAAAAAAAAAAAAAAAAAAAAAAAAAv3aB7AAAAD3RSTlMAIs1UmauJMnZmRLsQ\n",
       "3e++988cAAAACXBIWXMAAA7EAAAOxAGVKw4bAAAA/UlEQVQoz2NgAAEhBrxAH0OEc//X0KDtEDbz\n",
       "f6hg9927d69DmHwbGBjiC8BMlngBMF3UiNAu38DAsN4BzEzMByvjuYhk+nyg0PwGEIuxod8ARLMu\n",
       "QJKOB2I9sKEsDPYTQDQTstteMzAchThjMUN9AoguRZJl/93RqglhOjDIB4BoUSRpjo8MDHZgMzm2\n",
       "uMRvADF4kaS5HzAwsH0HsU4wMPBfALthAkKaH2ge5w+I2Qy8D8BiWgjpeqBS1l9ABheQwfQBLHY0\n",
       "6gBMuh/op3oFIEMOZNNHiOCyvbBA1QPqewRUfPq/DgPz/k8JqDES/T80VNuAgYqA5e5dRIRCAACA\n",
       "ZT/mFM9iAgAAAABJRU5ErkJggg==\n",
       "\" style=\"display:inline;vertical-align:middle;\" /></a> <a class=\"ProveItLink\" href=\"../../../__pv_it/_proof_unfold_subset_eq/cc1d77b3b43f5bd2088dd40a55a47d97d27997eb0/proof.ipynb\" style=\"text-decoration: none\">&nbsp;&#x22A2;&nbsp;&nbsp;</a><a class=\"ProveItLink\" href=\"../../../__pv_it/axioms/db7a164f644801bfd111812bb9a6a278f180c2b50/expr.ipynb\"><img src=\"data:image/png;base64,iVBORw0KGgoAAAANSUhEUgAAADsAAAASBAMAAAAXqLt+AAAAMFBMVEX///8AAAAAAAAAAAAAAAAA\n",
       "AAAAAAAAAAAAAAAAAAAAAAAAAAAAAAAAAAAAAAAAAAAv3aB7AAAAD3RSTlMAIs1UmauJMnZmRLsQ\n",
       "3e++988cAAAACXBIWXMAAA7EAAAOxAGVKw4bAAAA/UlEQVQoz2NgAAEhBrxAH0OEc//X0KDtEDbz\n",
       "f6hg9927d69DmHwbGBjiC8BMlngBMF3UiNAu38DAsN4BzEzMByvjuYhk+nyg0PwGEIuxod8ARLMu\n",
       "QJKOB2I9sKEsDPYTQDQTstteMzAchThjMUN9AoguRZJl/93RqglhOjDIB4BoUSRpjo8MDHZgMzm2\n",
       "uMRvADF4kaS5HzAwsH0HsU4wMPBfALthAkKaH2ge5w+I2Qy8D8BiWgjpeqBS1l9ABheQwfQBLHY0\n",
       "6gBMuh/op3oFIEMOZNNHiOCyvbBA1QPqewRUfPq/DgPz/k8JqDES/T80VNuAgYqA5e5dRIRCAACA\n",
       "ZT/mFM9iAgAAAABJRU5ErkJggg==\n",
       "\" style=\"display:inline;vertical-align:middle;\" /></a></span></td></tr>\n",
       "<tr><td><a name=\"-0x35b98faf024af5bd_step4\">4</a></td><td>instantiation</td><td><a href=\"#-0x35b98faf024af5bd_step5\">5</a></td><td><span style=\"font-size:20px;\"> <a class=\"ProveItLink\" href=\"../../../__pv_it/_proof_unfold_subset_eq/99a1fa96a19e693c150cd2e8738c201103c773500/proof.ipynb\" style=\"text-decoration: none\">&nbsp;&#x22A2;&nbsp;&nbsp;</a><a class=\"ProveItLink\" href=\"../../../__pv_it/axioms/369d595e9ce73ec272a603a3113a2b2655115f130/expr.ipynb\"><img src=\"data:image/png;base64,iVBORw0KGgoAAAANSUhEUgAAAO4AAAAVBAMAAACzlc/LAAAAMFBMVEX///8AAAAAAAAAAAAAAAAA\n",
       "AAAAAAAAAAAAAAAAAAAAAAAAAAAAAAAAAAAAAAAAAAAv3aB7AAAAD3RSTlMAInZUiRDNmWbv3US7\n",
       "qzJazP2FAAAACXBIWXMAAA7EAAAOxAGVKw4bAAADHUlEQVRIx4WWTWgTQRSA3+anu6nNz0kItDQW\n",
       "iloN7aEU66VVe3IQQxG8JBKRgkXFCMUqghYPPQkNoh6sSsXbClJQRC81KYigoQ0eBLEhOaigUGIV\n",
       "vfhT38zOprOd2exAsrPvzXxv5s17bwcAYtC0abKo51HzKU2RGgf4+tjrVrdxWxKSiHiY5cgmPCT0\n",
       "W69npQHG8t/KuyWAHQq7ZfrY44buV0pFHoFglgn961y72zRN7sZQAaBag5aUbPcSfRx3McuRUhN4\n",
       "BPQpJtOr1pl83rYxrhM98iIHRk62u0oPquBilyOlJvAIhCzZvsM1ttT7wrgZFM3g2JuyXbrmgNsp\n",
       "hhxv6MCsxCMwYAVZopdRwvPCjCr+xtENJ2W7Bm6pxe14B8SXp90qHoEJyzUwxJzjYN0ByNCjPqSI\n",
       "59umecPNLkWOJo+N0J1oY0oe4Zt5DPVh+lwVpkf+dCWZdpqtzGStzO1eBni5yVwj/OiknO+tPkc3\n",
       "ElPyCDxgshx0MmKHmIVrAIPUC4OK/XaAVt4UxffsHiKNmPEzPOV0oMgjMMtEryarLDpbBVBbHmPn\n",
       "H3bqCrttqYAdCpFkiXYDP2w1IiOgW8H0hTqpIPG43VGA6NzmFIjihozv2HmusOtPNHYyyTIBFq4L\n",
       "djGorTKXVvO4nzGjWvNMeWpjXB3XEP6Nnb2K84XsVfzrOrc95uNLTZwR/IyJGgumnA4UeQQWacmk\n",
       "WfGNKTMfGuHRiyFRp966pqrPBzBQfbGVlj6+Ix+ct9WITM+/hwATb1R3kUdYksSp99cs7ZPXdp0c\n",
       "xwXdSvG8kOzGqddgMQLPLNkC7LTViBz6dBFzhLYTjVkij8BXXNz6GPiXfw074SvrlcppVkwequyG\n",
       "2aniYqdLpRIOmxip2p5C5NEu/wWrnGXepBQ8Aq01j48aaHOu38FIXoOP3M3QaZOcSHRgVuIRRdX3\n",
       "LvO23Xggq2NG0S56O2rXaw8k5SGh6JCxoHVeJ9pdv/v6rv3doC3R3l0IXmnkQrGp3XaLkPbab9Hj\n",
       "vnGkVJp36tOePEI/RR6XFvmydNDjftUUSXk9s/8BI07fqsq+I7UAAAAASUVORK5CYII=\n",
       "\" style=\"display:inline;vertical-align:middle;\" /></a></span></td></tr>\n",
       "<tr><td>&nbsp;</td><td colspan=4 style=\"text-align:left\"><span style=\"font-size:20px;\"><a class=\"ProveItLink\" href=\"../../../../../../__pv_it/common/09585084922504426caf1db2ff588a23a0932a960/expr.ipynb\"><img src=\"data:image/png;base64,iVBORw0KGgoAAAANSUhEUgAAAA8AAAAPBAMAAADJ+Ih5AAAAMFBMVEX///8AAAAAAAAAAAAAAAAA\n",
       "AAAAAAAAAAAAAAAAAAAAAAAAAAAAAAAAAAAAAAAAAAAv3aB7AAAAD3RSTlMAIs1UmauJMnZmRLsQ\n",
       "3e++988cAAAACXBIWXMAAA7EAAAOxAGVKw4bAAAAXklEQVQI12NgAAEhBijQh9LM/6EMlngBCCMx\n",
       "vwBMMzb0G0BkGOwngBmLGeoTwAwHBvkAEM2xxSV+A4hxgoGB/wJEhoH3AZDmAupg+gBkyAEx90cG\n",
       "htP/dRiY939KAABt3hLO6mcEjQAAAABJRU5ErkJggg==\n",
       "\" style=\"display:inline;vertical-align:middle;\" /></a> : <a class=\"ProveItLink\" href=\"../../../../../../__pv_it/common/09585084922504426caf1db2ff588a23a0932a960/expr.ipynb\"><img src=\"data:image/png;base64,iVBORw0KGgoAAAANSUhEUgAAAA8AAAAPBAMAAADJ+Ih5AAAAMFBMVEX///8AAAAAAAAAAAAAAAAA\n",
       "AAAAAAAAAAAAAAAAAAAAAAAAAAAAAAAAAAAAAAAAAAAv3aB7AAAAD3RSTlMAIs1UmauJMnZmRLsQ\n",
       "3e++988cAAAACXBIWXMAAA7EAAAOxAGVKw4bAAAAXklEQVQI12NgAAEhBijQh9LM/6EMlngBCCMx\n",
       "vwBMMzb0G0BkGOwngBmLGeoTwAwHBvkAEM2xxSV+A4hxgoGB/wJEhoH3AZDmAupg+gBkyAEx90cG\n",
       "htP/dRiY939KAABt3hLO6mcEjQAAAABJRU5ErkJggg==\n",
       "\" style=\"display:inline;vertical-align:middle;\" /></a>, <a class=\"ProveItLink\" href=\"../../../../../../__pv_it/common/a9162d1c3cc0470c02e5daf414500903a7a419230/expr.ipynb\"><img src=\"data:image/png;base64,iVBORw0KGgoAAAANSUhEUgAAABAAAAAOBAMAAADUAYG5AAAAMFBMVEX///8AAAAAAAAAAAAAAAAA\n",
       "AAAAAAAAAAAAAAAAAAAAAAAAAAAAAAAAAAAAAAAAAAAv3aB7AAAAD3RSTlMAZrurzTLvInZEmRDd\n",
       "VIkafcLnAAAACXBIWXMAAA7EAAAOxAGVKw4bAAAAb0lEQVQI12NgYBD6b2zsFMAABEkMDMxfgTT7\n",
       "DwYGzl9ABiOQxwjkMDB/YGBgSQcy2BQYuG1AiuM1OkwEQJr6Cxh4E0EMNSB+D5L6DMTyDQwMrB+B\n",
       "DPsJDAwc34GcL0AOSwIDwzRvoHH6n41NdBkYAF/iFeJ4bEa2AAAAAElFTkSuQmCC\n",
       "\" style=\"display:inline;vertical-align:middle;\" /></a> : <a class=\"ProveItLink\" href=\"../../../../../../__pv_it/common/a9162d1c3cc0470c02e5daf414500903a7a419230/expr.ipynb\"><img src=\"data:image/png;base64,iVBORw0KGgoAAAANSUhEUgAAABAAAAAOBAMAAADUAYG5AAAAMFBMVEX///8AAAAAAAAAAAAAAAAA\n",
       "AAAAAAAAAAAAAAAAAAAAAAAAAAAAAAAAAAAAAAAAAAAv3aB7AAAAD3RSTlMAZrurzTLvInZEmRDd\n",
       "VIkafcLnAAAACXBIWXMAAA7EAAAOxAGVKw4bAAAAb0lEQVQI12NgYBD6b2zsFMAABEkMDMxfgTT7\n",
       "DwYGzl9ABiOQxwjkMDB/YGBgSQcy2BQYuG1AiuM1OkwEQJr6Cxh4E0EMNSB+D5L6DMTyDQwMrB+B\n",
       "DPsJDAwc34GcL0AOSwIDwzRvoHH6n41NdBkYAF/iFeJ4bEa2AAAAAElFTkSuQmCC\n",
       "\" style=\"display:inline;vertical-align:middle;\" /></a></span></td></tr><tr><td><a name=\"-0x35b98faf024af5bd_step5\">5</a></td><td>axiom</td><td></td><td><span style=\"font-size:20px;\"> <a class=\"ProveItLink\" href=\"../../axioms.ipynb#subset_eq_def\" style=\"text-decoration: none\">&nbsp;&#x22A2;&nbsp;&nbsp;</a><a class=\"ProveItLink\" href=\"../../../__pv_it/axioms/0a73f44893619de306ad70c8de110c34b161d8b90/expr.ipynb\"><img src=\"data:image/png;base64,iVBORw0KGgoAAAANSUhEUgAAATUAAAAWBAMAAABTfhYbAAAAMFBMVEX///8AAAAAAAAAAAAAAAAA\n",
       "AAAAAAAAAAAAAAAAAAAAAAAAAAAAAAAAAAAAAAAAAAAv3aB7AAAAD3RSTlMAq1RmmUTNIjK7EInv\n",
       "3XZ/CtNrAAAACXBIWXMAAA7EAAAOxAGVKw4bAAAERElEQVRIx81XXWgUSRCu/d+dzU426In6sgEP\n",
       "X/xbNCg+nAno+YM/F04QUdHVI4hBMHkRAmrWF0GMZpELGuHODYiQ45REiHIEcQ0o3omyiKIPLkxO\n",
       "ISgaf1ATFYzV1d2zO9MzE3yzobZmqnu+/rqqu7oWwLO1CPFoEdX08tE3f2KdEgEmmRVAr+WCbb/b\n",
       "mJChmAYmgf3fq3M7R2AqyR5nuYybIwTbPqUzcPZNzbTTAE9Ubj7260+7oPr7HM0CT08TN6Z+Zubd\n",
       "ziBahgvDmxC2Z6VSSYSsKgeQykI4r3ALNuJv2C0s513sAq+Zex7VYRb/nPPgYJoLe0zxmY6MlLvb\n",
       "MZo7GiDQoHCLsmi0uUVtuYtd4NVxbqjYquO1LgsRgu3KtSx58mFFdz2a6hHvP3W/sbVfcuNWsLxh\n",
       "IDIWvKo8cUMVQL+EXUBmC0HPGq+Iv6+xojuFshfd+ZvKbRH+Zty2m6Vj03M7XjhN3Ji6UyrddkFZ\n",
       "KwRDCgsotpZV/AvQw7Zev8qtqlR63OeCGsQObXTmMfJrpFnBiyeJG1OrAc5Ql7KlySHcKb9CJ011\n",
       "uKI3+nF0mHoX04wlaknOLZiFmA1Pkw/MIUEYNtaD9cBIvECGuDHVChEC1G7RiKPvBtdkxeh7QgAa\n",
       "oJ0GtVYmvzGAucybc1W/IWSrzfi3RE3g7lgC9fkptkBIPH+BuDEVy8dpE8Xf8ixTBF1u1htCQP99\n",
       "RYrOcqJishgOi4/jQ6dD7j1TTsAnZnQxdU0euCqcLgsr+UsHc3bOghd9TQhM+Q3OffNdUj5MCq/t\n",
       "3C4CVBdlVpGtGj0Z+IIP2xy4zTePQnA1vz46jApuAHw26FXxQtxvTEFmGXUZO/mXtXAhbY8pZrAE\n",
       "d2ZTGasTh/ne48M8db9BOIBU9KeHVslrQw8nK2IKoTH4yxYIiecv8pgyZ1yio6ILL7c/qZsuR/8p\n",
       "JMTyDHdmzw/mFn+F27iTeWepg9/is3HciC+3SxN53QhKR8YM0Lp8BaDDpZdvY4kXyPGzwD48QAva\n",
       "DC9oxE+gTZWj+4UcYIhj3Lb1D3ln7UXSN/NmmrFyi1xHnY4Z2RAPQihr7mJMDv7xc4UQ33+7zK8k\n",
       "HssxA1yBjw7Q2sEUeQSJtcsEe5xL70Qz+M9+sOWrGRM1NXsI/4FTHULOr26BwJ7u7pM402D/J5kr\n",
       "iqBtMH5cyN96uvI2vEQjISTMNK8jJeI4hHeaedqzXCapxoquNVIHtET5kgyIjEurtbrDQFhvkIMc\n",
       "4aBp2IiLrNX6IPIJtPtm1dIADje5U0XgyC1SuIyniBI7i+xb2V3njbecI5gVQfA6aL80RYdg8efB\n",
       "NeWb/5SQMg86jNaFt7nWlhu2juahjTl+XRLOfZBBinnWtFQUDai1kd/23mvNQM7tlHfdq/3T3WW7\n",
       "vXJecMR8QF3AFvsaDC6edbvqhauT/F845NXJCsSXN2DEbk/D99S+AiaFO+dj7lWNAAAAAElFTkSu\n",
       "QmCC\n",
       "\" style=\"display:inline;vertical-align:middle;\" /></a></span></td></tr>\n",
       "<tr><td>&nbsp;</td><td colspan=4 style-\"text-align:left\"><a class=\"ProveItLink\" href=\"../../axioms.ipynb#subset_eq_def\">proveit.logic.sets.inclusion.subset_eq_def</a></td></tr></table>"
      ],
      "text/plain": [
       "\tstep type\trequirements\tstatement\n",
       "0\tgeneralization\t1\t|- forall_{A, B | A subset_eq B} [forall_{x in A} (x in B)]\n",
       "1\tinstantiation\t2, 3, 4\t{A subset_eq B} |- forall_{x in A} (x in B)\n",
       "\tP : A subset_eq B, Q : forall_{x in A} (x in B)\n",
       "2\ttheorem\t\t|- forall_{P, Q | P, P = Q} Q\n",
       "\tproveit.logic.equality.rhs_via_equality\n",
       "3\tassumption\t\t{A subset_eq B} |- A subset_eq B\n",
       "4\tinstantiation\t5\t|- (A subset_eq B) = [forall_{x in A} (x in B)]\n",
       "\tA : A, B : B\n",
       "5\taxiom\t\t|- forall_{A, B} ((A subset_eq B) = [forall_{x in A} (x in B)])\n",
       "\tproveit.logic.sets.inclusion.subset_eq_def"
      ]
     },
     "execution_count": 5,
     "metadata": {},
     "output_type": "execute_result"
    }
   ],
   "source": [
    "%qed"
   ]
  },
  {
   "cell_type": "code",
   "execution_count": null,
   "metadata": {},
   "outputs": [],
   "source": []
  }
 ],
 "metadata": {
  "kernelspec": {
   "display_name": "Python 3",
   "language": "python",
   "name": "python3"
  }
 },
 "nbformat": 4,
 "nbformat_minor": 0
}