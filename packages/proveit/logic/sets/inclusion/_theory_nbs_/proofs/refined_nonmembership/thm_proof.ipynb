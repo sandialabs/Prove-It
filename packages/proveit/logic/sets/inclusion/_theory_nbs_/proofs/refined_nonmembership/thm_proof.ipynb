{
 "cells": [
  {
   "cell_type": "markdown",
   "metadata": {},
   "source": [
    "Proof of <a class=\"ProveItLink\" href=\"../../../../../../_theory_nbs_/theory.ipynb\">proveit</a>.<a class=\"ProveItLink\" href=\"../../../../../_theory_nbs_/theory.ipynb\">logic</a>.<a class=\"ProveItLink\" href=\"../../../../_theory_nbs_/theory.ipynb\">sets</a>.<a class=\"ProveItLink\" href=\"../../theory.ipynb\">inclusion</a>.<a class=\"ProveItLink\" href=\"../../theorems.ipynb#refined_nonmembership\">refined_nonmembership</a> theorem\n",
    "========"
   ]
  },
  {
   "cell_type": "code",
   "execution_count": 1,
   "metadata": {},
   "outputs": [],
   "source": [
    "import proveit\n",
    "theory = proveit.Theory() # the theorem's theory"
   ]
  },
  {
   "cell_type": "code",
   "execution_count": 2,
   "metadata": {},
   "outputs": [
    {
     "data": {
      "text/html": [
       "With these <a href=\"allowed_presumptions.txt\">allowed</a>/<a href=\"disallowed_presumptions.txt\">disallowed</a> theorem/theory presumptions (e.g., to avoid circular dependencies), we begin our proof of<br><strong id=\"refined_nonmembership\">refined_nonmembership:</strong> <a class=\"ProveItLink\" href=\"../../../__pv_it/theorems/19a5c108a9dfd16330688022111406f4f02243990/expr.ipynb\"><img src=\"data:image/png;base64,iVBORw0KGgoAAAANSUhEUgAAAOgAAAAXCAMAAAA2s/OGAAAAS1BMVEX///8AAAAAAAAAAAAAAAAA\n",
       "AAAAAAAAAAAAAAAAAAAAAAAAAAAAAAAAAAAAAAAAAAAAAAAAAAAAAAAAAAAAAAAAAAAAAAAAAAAA\n",
       "AADXrLZzAAAAGHRSTlMAq1RmmUTNIjK7EInv3XbP4duh6fPj951y2Qx9AAAACXBIWXMAAA7EAAAO\n",
       "xAGVKw4bAAADHElEQVRYw9VY63KmIAyVm0DAtLvtdnn/J12CoqCC9vuxY52OXwdDyOXkBBiGH/Po\n",
       "V7/q4Uc9yLufRzjxcEw/CunN1mEunuwnd93Php05H5YYkWdSrcNPTjGM/e+bG0VsQijSvYZC2ycn\n",
       "VF7AbTqbw8KSOyELcDv+ZEd9r3rt9PE5HVLutAsmT49OiiVW46MrtG2dGhEGZo5MhAOGnLyRnPQT\n",
       "Pd49GrmLdYDIwLgCfZoQeVbBkoo0A95RgcoUDVvQM3zPiANxvOKKMN3mIda1kOEgt5JMFCrwmOgY\n",
       "CxNy9gRFQrP8yob6YlFjg3RO2rYdexJbpzubHn1Lje0uN80pFFGXCBGpGzWNjSZK4dche8V9TqYr\n",
       "6NmFkpdEih76244u08FWjN9TY5C9vauenJ+/kvuygqmhwvvzFV92R1BSRtbNgyY1Go4VFSnjSySw\n",
       "BE0R7jqap9u6LXfUyFg8DLpyfgtaZVwM52nDgFkoZIgrv6S/BDkOY7nN8KQFphUsiFLHv6ajy3S9\n",
       "I7e9mk0P7VuANeVK6JLJ1BsBqgY6tXhjysDg09JCC5BjjQ4dUAi50Tfqgdlh5C1H83ReR3mvZtOT\n",
       "coKqJbesgbkaGNleBBFxUAc6VKLeAw5iNlJ7ViCvrpBUM8BWXSKtalrQXaerOid7NZueJGibckV7\n",
       "iO3CgPQzo25sxA9h0dl+m7dGuT0VopHzHAuwqy0dCmYJul2j63RgJyVaqVn0iNHat1/W8qYckUmC\n",
       "HsiYPy5FBRZgXwrqsg0hIZTTP7OH02ErjPM6pq6tWBmmILr6iGfPp9cMcVST9ZhoykpFZ3Kzpe32\n",
       "Jv46G1m3t7PTUwPc1CDAzUZDIgcKNI1EVLix3iTY0+mUXFOU6KZmr8fClv1KrvJGfuskenUkkKlY\n",
       "QYZRxYBzwlVw1L/5nIL4I1E5RDh1tJxObru8YajU7PVo+9usG5hSri6Q1iHyxqnrSoTfGDnZMNzZ\n",
       "o9dN753ioS4OpK1lbpy6bP+kreB65DVHd3ruXW1oPB9n15cwFzcK4sZIx1FmbbHX7elhL50CnnY7\n",
       "d+ea5H9Y+Q+kiRwA0DmKmwAAAABJRU5ErkJggg==\n",
       "\" style=\"display:inline;vertical-align:middle;\" /></a><br>(see <a class=\"ProveItLink\" href=\"../../../__pv_it/theorems/de83126afc1a9525eeabc9cefca884d1d2dd3aca0/dependencies.ipynb\">dependencies</a>)<br>"
      ],
      "text/plain": [
       "<IPython.core.display.HTML object>"
      ]
     },
     "metadata": {},
     "output_type": "display_data"
    },
    {
     "name": "stdout",
     "output_type": "stream",
     "text": [
      "refined_nonmembership may now be readily provable (assuming required theorems are usable).  Simply execute \"%qed\".\n"
     ]
    }
   ],
   "source": [
    "%proving refined_nonmembership"
   ]
  },
  {
   "cell_type": "code",
   "execution_count": null,
   "metadata": {},
   "outputs": [],
   "source": []
  }
 ],
 "metadata": {
  "kernelspec": {
   "display_name": "Python 3",
   "language": "python",
   "name": "python3"
  }
 },
 "nbformat": 4,
 "nbformat_minor": 0
}