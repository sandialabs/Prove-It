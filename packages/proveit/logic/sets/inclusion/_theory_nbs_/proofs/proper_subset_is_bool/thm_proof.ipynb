{
 "cells": [
  {
   "cell_type": "markdown",
   "metadata": {},
   "source": [
    "Proof of <a class=\"ProveItLink\" href=\"../../../../../../_theory_nbs_/theory.ipynb\">proveit</a>.<a class=\"ProveItLink\" href=\"../../../../../_theory_nbs_/theory.ipynb\">logic</a>.<a class=\"ProveItLink\" href=\"../../../../_theory_nbs_/theory.ipynb\">sets</a>.<a class=\"ProveItLink\" href=\"../../theory.ipynb\">inclusion</a>.<a class=\"ProveItLink\" href=\"../../theorems.ipynb#proper_subset_is_bool\">proper_subset_is_bool</a> theorem\n",
    "========"
   ]
  },
  {
   "cell_type": "code",
   "execution_count": 1,
   "metadata": {},
   "outputs": [],
   "source": [
    "import proveit\n",
    "theory = proveit.Theory() # the theorem's theory"
   ]
  },
  {
   "cell_type": "code",
   "execution_count": 2,
   "metadata": {},
   "outputs": [
    {
     "data": {
      "text/html": [
       "With these <a href=\"allowed_presumptions.txt\">allowed</a>/<a href=\"disallowed_presumptions.txt\">disallowed</a> theorem/theory presumptions (e.g., to avoid circular dependencies), we begin our proof of<br><strong id=\"proper_subset_is_bool\">proper_subset_is_bool:</strong> <a class=\"ProveItLink\" href=\"../../../__pv_it/theorems/3436b4d16735048d09368992c30276edd06afedb0/expr.ipynb\"><img src=\"data:image/png;base64,iVBORw0KGgoAAAANSUhEUgAAALcAAAAWBAMAAABwABDnAAAAMFBMVEX///8AAAAAAAAAAAAAAAAA\n",
       "AAAAAAAAAAAAAAAAAAAAAAAAAAAAAAAAAAAAAAAAAAAv3aB7AAAAD3RSTlMAq1RmmUTNIjK7EInv\n",
       "3XZ/CtNrAAAACXBIWXMAAA7EAAAOxAGVKw4bAAAC+UlEQVQ4y61VTWgTURCeZJum2W22FqxYPCQg\n",
       "eLFqDrXgQRvwB0sPFr2UVjRSihiCtggFoZL0IniQ5CD+Qe32mIOSeinSg7Wg+EO1SK0KLqz0IP61\n",
       "UbT1B4zz5r3dbDfZPTkw7LyZt9+bmfftLICnDAj1kKDHq56iRrmiDLntCRiOd95eWZltAjiG9jrm\n",
       "2Ozy4lahKGcqgtLY18YN1wAWHf5QwBga7wI1BrCfrU9Wx5YTXFH8pcpwfQ4gkoFazQkeUwYwlAQY\n",
       "YW3LVQeviXFlZqSyh2lsyPE4SPEKcCmKDWkFOleJVgevF4oyeS/DjQ+6rr/mZju62vGAJ6LZo/qC\n",
       "BY711msgYWa1Li3fIhRrM5Z5Ahcmy+EIagoL6uMXe1qzMvedLSAqIs/q+lMX8E6h2BXYQe2RX9nC\n",
       "jwHGWRETnE6a1ZaPXzbhU8HWHAS4QU6tArwPzLQOQ7bAnr6ucrTu19I7irbBGlKEAgvP5xFMwtYM\n",
       "QpDoKD+i0MXvUx2ivfBCKEAc0rTJ3kB1FaCF1dNCy4TtQtWdSBX/NNqaQuko3zh750CdFtseCAX1\n",
       "8r4IMWrEzgrcpvxEI0t1YHv1NwIccr3oKeIBBk+n+xk9fMitohP8NkDDHDMGbeANWIv0F42jVHjO\n",
       "ljnkQnjDLMfEHvIZJzj9onAr5mwLMjlM5YRt4Fnc5vuBxjZazq0Bx4T9zHMnSZXDAf5lLLZuNLfd\n",
       "FBpgdC2an5Upy8jCLOv0LlourQHfjlWxWobpqrrhM4V2g7ze3DYhdJi9skqu/jJ4Ck99qFlsrY1a\n",
       "4AXlE9Zaw/jlI3J0TkWIi4icNvl2iWu+lAT/2ApxMd9kMra51Nh4igBf8kHU3MNJlLpOUxHCFm1V\n",
       "xKRDZnBemFQMZ7japXfU+vzNgS66HbjLP39TzlvWEbz9qFyA4G+Q562hGoeKsVR9vFWTvdaG+yAf\n",
       "6q+bgbY/Ux3lMXZVqKecc/lDOUet37HOC/UUl9NDzhnd4zzd4Or5K3T5Wb53OmLwX+Uf4Ki1X4Oo\n",
       "4coAAAAASUVORK5CYII=\n",
       "\" style=\"display:inline;vertical-align:middle;\" /></a><br>(see <a class=\"ProveItLink\" href=\"../../../__pv_it/theorems/c2d67a764fa2a98bd7efec4e38ac50fa310a9b3c0/dependencies.ipynb\">dependencies</a>)<br>"
      ],
      "text/plain": [
       "<IPython.core.display.HTML object>"
      ]
     },
     "metadata": {},
     "output_type": "display_data"
    }
   ],
   "source": [
    "%proving proper_subset_is_bool"
   ]
  },
  {
   "cell_type": "code",
   "execution_count": null,
   "metadata": {},
   "outputs": [],
   "source": []
  }
 ],
 "metadata": {
  "kernelspec": {
   "display_name": "Python 3",
   "language": "python",
   "name": "python3"
  }
 },
 "nbformat": 4,
 "nbformat_minor": 0
}