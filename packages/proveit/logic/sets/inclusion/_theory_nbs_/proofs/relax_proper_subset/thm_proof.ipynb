{
 "cells": [
  {
   "cell_type": "markdown",
   "metadata": {},
   "source": [
    "Proof of <a class=\"ProveItLink\" href=\"../../../../../../_theory_nbs_/theory.ipynb\">proveit</a>.<a class=\"ProveItLink\" href=\"../../../../../_theory_nbs_/theory.ipynb\">logic</a>.<a class=\"ProveItLink\" href=\"../../../../_theory_nbs_/theory.ipynb\">sets</a>.<a class=\"ProveItLink\" href=\"../../theory.ipynb\">inclusion</a>.<a class=\"ProveItLink\" href=\"../../theorems.ipynb#relax_proper_subset\">relax_proper_subset</a> theorem\n",
    "========"
   ]
  },
  {
   "cell_type": "code",
   "execution_count": 1,
   "metadata": {},
   "outputs": [],
   "source": [
    "import proveit\n",
    "from proveit.logic.sets.inclusion  import proper_subset_def\n",
    "theory = proveit.Theory() # the theorem's theory"
   ]
  },
  {
   "cell_type": "code",
   "execution_count": 2,
   "metadata": {},
   "outputs": [
    {
     "data": {
      "text/html": [
       "With these <a href=\"allowed_presumptions.txt\">allowed</a>/<a href=\"disallowed_presumptions.txt\">disallowed</a> theorem/theory presumptions (e.g., to avoid circular dependencies), we begin our proof of<br><strong id=\"relax_proper_subset\">relax_proper_subset:</strong> <a class=\"ProveItLink\" href=\"../../../__pv_it/theorems/902afb1e6249d7c2feb1149d34fff9880d2b647b0/expr.ipynb\"><img src=\"data:image/png;base64,iVBORw0KGgoAAAANSUhEUgAAALkAAAAXBAMAAACllfPxAAAAMFBMVEX///8AAAAAAAAAAAAAAAAA\n",
       "AAAAAAAAAAAAAAAAAAAAAAAAAAAAAAAAAAAAAAAAAAAv3aB7AAAAD3RSTlMAq1RmmUTNIjK7EInv\n",
       "3XZ/CtNrAAAACXBIWXMAAA7EAAAOxAGVKw4bAAACzklEQVRIx61VT0hUQRj/7b7dfe/N2qZg0iVc\n",
       "6tSphSToYK70h8QgwYtUlB0k2g7q2dL1EgRB4imj2idEpwQNb3vI7FARhVCQhx4sdRAhSk23TSn7\n",
       "ZubN7rgpW88GZueb+XZ+M9/v933zAN/NrODvwXbaR3lG51b+89SrubHPB3hwXAyRhT88h9drai6n\n",
       "EUsAx/n8kg/0h3I4oNDnXdedleZLIFAAUsAgj27IB/pROTR/l+P1uZIgv4DwMtBAkTlANO4DfUr8\n",
       "RvsKYmTvSx6Dlgw6ocqBQexE/NAu1eyPLYkx0FZyBYisyHPqBP3adV/5QA9JUZPBb1JczVU1BLYn\n",
       "TXFRxpwE7ohFp2y7Mtim6PxiRG/cWhPTQc116/6XOu41KLxemCIr2QvhurGcbUlzw1Z/fpRWlpVp\n",
       "nbzt2Tvi8grmopj2auhfexB8xskjaWwnKjiLSgKNGcSmNqA/IRxrYmSEaq8R+KzCF5vmjzX/kIdp\n",
       "6Hf5JrqSRfwHc5KzjjdSkiSMBR09fDMHtMr71wJNOjoj10/JY6KEzqNpIk+Y37LziFjLXZS74hhL\n",
       "6OixSHUxZafB3urMcG0+yHlXEdziOtfT4cEZMh6nBAhOCN/Ap4bd0NFzoU6MqjI52KxEsOlyaKfe\n",
       "Leeju1RWxKi+rDwnmRfpVSFqh8doI1itjh5OkwztUJqMJj0Mnm4mDz3jvYVn73kvQYRWz6VU0gbE\n",
       "dVqz9Y5H7UCbhh7KTqxiL5Qm5oqKfwYsk3ewf/3KxlQNZBZr6oYFecUKixFoWlKLC3pG5mAW0Ael\n",
       "SbigdsxWLLhrRYti3xln4zBXwd5pzIRJ4SXYMvoBB2OKGf5G/d07R/E/BTvdZU3j0Fq2Ja6hn6rG\n",
       "g3wbEzVkdGcnh4t77Q3fnpDrll5gLwfKX96gZtu6IzoiqklvrNKzbZd/+s5shb5Z66/gnytfSPwL\n",
       "+raa+R8wfgOmtqfSVWwZ9AAAAABJRU5ErkJggg==\n",
       "\" style=\"display:inline;vertical-align:middle;\" /></a><br>(see <a class=\"ProveItLink\" href=\"../../../__pv_it/theorems/eb88793cee21935582512677cf53bda00078daa60/dependencies.ipynb\">dependencies</a>)<br>"
      ],
      "text/plain": [
       "<IPython.core.display.HTML object>"
      ]
     },
     "metadata": {},
     "output_type": "display_data"
    }
   ],
   "source": [
    "%proving relax_proper_subset"
   ]
  },
  {
   "cell_type": "code",
   "execution_count": 3,
   "metadata": {},
   "outputs": [
    {
     "data": {
      "text/html": [
       "<span style=\"font-size:20px;\"> <a class=\"ProveItLink\" href=\"../../axioms.ipynb#proper_subset_def\" style=\"text-decoration: none\">&nbsp;&#x22A2;&nbsp;&nbsp;</a><a class=\"ProveItLink\" href=\"../../../__pv_it/axioms/62d68349fdc6e5e10115b34eb80d97b83bd304d20/expr.ipynb\"><img src=\"data:image/png;base64,iVBORw0KGgoAAAANSUhEUgAAAWsAAAAWBAMAAAD0o6DgAAAAMFBMVEX///8AAAAAAAAAAAAAAAAA\n",
       "AAAAAAAAAAAAAAAAAAAAAAAAAAAAAAAAAAAAAAAAAAAv3aB7AAAAD3RSTlMAq1RmmUTNIjK7EInv\n",
       "3XZ/CtNrAAAACXBIWXMAAA7EAAAOxAGVKw4bAAAECUlEQVRIx9VXS2hTQRS9Sdp8XkzaghV1k4Ai\n",
       "iBWzKAURteIHSxcWBREVjYqItWDdCKL240Jwoe1CUERt3AhdVFI3XXRhLFT8G/xgFYPRLqQgbf3V\n",
       "H1rvfN6beTPvJaV044WTl7w7Z96dM3fuuwEoaM0cBSwwY7wATC2YIhMDROMMaEfdxpTmZ4r3vtAi\n",
       "kwC7QKCc3FzgMngJB9phzenr+lQx5yLA8AzxvGnhkwWm5h9HIRIC68nNA85RG0kGMuek7p7VCRBr\n",
       "A39qKryRXC435MgLs22B65JP0pjZMgwbGgXaibfTOeySBAP5GtMzqhW3eXct+GqnwDv9wZXXw2Nb\n",
       "K/nQtk7kIdRmZtKa7/hRLUDWbK5Xk5MDre9Wm6baary1Gue9X5xnvJTcCm+4kl0zsg+Cz05dblho\n",
       "cEHDx3+QOVMWfKiK3yW1F3HgfuTH2NJO9wl3DNGEYu4rzvM0gCsve4alU1L2gacZSl8NLuW8luhn\n",
       "kuAJgUe53AOXsOs5cK9hWUJT7R7ANSJ8b3GeTRg7z5v20zwqScs+iBLWk72cUuv9QjQvF9gIcIm6\n",
       "tJNF5WCSbIaOtKpa8OfoO+qtoU/NUSt35rWDGw/8zV6ay0RC4bMXz9J48DepQUmBIxCgzzLu0hFn\n",
       "vvbXmSf5KQeuFlrLVdWieEqqyLOq1OXqvCPuPFzRa3KNxGUftUrrjEPgE9mYjEAoFaYShj+zqpqF\n",
       "aIaPHuSA6Pl1sU5VtRAOC5OT0qGGrfMi7ry5AKP0HDfIPqqxVeBG1q35SfZiXMCbZxJue0wvHqxM\n",
       "4+rjbwCUZVXVylBH31/8stM1bItXknDjkfreY4Vt+UjSvTWTzsDS8oesIyMAyVV0tvweVrzi0JNQ\n",
       "NxuTL5JRVevAYZ5v+GWpmts6D/a78UjxLYmbSWL5iK0QOQLwhiRJVgBuNrKTu4G9C4ar55rDr3KU\n",
       "Jtjb1a7aGBaADlK1lqtq6zy4Vply5kXMl2EoL/toZTQZW3iT4OsUgBNUoW3wkQ5ZCcZsc3gvxwky\n",
       "63dVtSaM607KqnWSOfBgxxXzNWXn0a2+yKub8JEbpkQBsmFdzaxGmgAPLRz1/TE6HGNuNavcWYbu\n",
       "yUbwdk3QStZtqTZvsqLiIH2XvFDDduAJU3jzycc5ct6ysg+T7iFPOqNrIgWLJw/hzjQI8KqE0dLw\n",
       "B7AnMAtgpI1BNqGa1e9k1bCdeA69qMIbUvyVGuOkBCt9yuJGGgK/wHhutZi14NAoOTVOSms6LV61\n",
       "/WdQ7+/WSmBT3AZj0/7gANT87q8TjdUFjoJ2TL+l8VidGSrIC9l7zJC2XaRRNWHv1JXf3RwFzWFd\n",
       "0+IZ9miCGoGsy4TNtqvryzMU/OPm8NdueryWIuv8IMFmCfhP7B+IqWtlplTDXAAAAABJRU5ErkJg\n",
       "gg==\n",
       "\" style=\"display:inline;vertical-align:middle;\" /></a></span>"
      ],
      "text/plain": [
       "|- forall_{A, B} ((A proper_subset B) = ((A subset_eq B) and (B not_equiv A)))"
      ]
     },
     "metadata": {},
     "output_type": "display_data"
    }
   ],
   "source": [
    "# pull in the axiomatic definition of proper subset\n",
    "proper_subset_def"
   ]
  },
  {
   "cell_type": "code",
   "execution_count": 4,
   "metadata": {},
   "outputs": [
    {
     "data": {
      "text/html": [
       "<strong id=\"proper_subset_def_inst\">proper_subset_def_inst:</strong> <span style=\"font-size:20px;\"> <a class=\"ProveItLink\" href=\"../../../__pv_it/_proof_relax_proper_subset/4f81c4c71c6c74bd78e89ec387a22c509f0036850/proof.ipynb\" style=\"text-decoration: none\">&nbsp;&#x22A2;&nbsp;&nbsp;</a><a class=\"ProveItLink\" href=\"../../../__pv_it/axioms/ad04c935a9937d25424e398107a2245106b61c5e0/expr.ipynb\"><img src=\"data:image/png;base64,iVBORw0KGgoAAAANSUhEUgAAASMAAAAVBAMAAAD/WpUaAAAAMFBMVEX///8AAAAAAAAAAAAAAAAA\n",
       "AAAAAAAAAAAAAAAAAAAAAAAAAAAAAAAAAAAAAAAAAAAv3aB7AAAAD3RSTlMAInZUiRDNmWbv3US7\n",
       "qzJazP2FAAAACXBIWXMAAA7EAAAOxAGVKw4bAAADPElEQVRIx52Wz2sTQRTHX35t0jRNg4eCojTW\n",
       "Sw9KcyiV9mL6BxSDBw8lhYAULArmUNBjELEXobkoSAUjRZAoNagInkx7ET3YXPQSa4JCD0VJ66EX\n",
       "f9T3ZnZnJ293E5qByW7mzee77735CQAJ6Fh8bo0J6IHzQXdCiPpT4v+QV8f+pLONmMNzpzr5MySJ\n",
       "F/Q+LpuuOTpFNv9uff4IMOrkx3vhAmnbpmfb1kHCXwAI5WT/A+eH+6oAjSYYGW4ghnOny+XymisX\n",
       "lOmEi5rNGqqc8pd0iJgHCBdEU7jhnBrDmMi3eYjkuYEYxm2f9ORmze/e0GxYXu8nIda0RlfoELGE\n",
       "bsum6fNNR7TL2LSMzF1H+oBzoUeamXGjdfks6jaIP/n+vnI2VAVdB4m+DEzIDCbHZHq3p23pBtYF\n",
       "dP4yd2nCrDY3UAFPrvRDDk1Ot8FAAvqfrUyZnKmDhFGARZk3OFdwRPsAYI4SNsNdWjSrzRngyQXS\n",
       "hhjbcFq3gZ+oh5escZM6SARrZigvoZXm0cb/jJwR1tsCKotSAxkM436CFwdGIiDmjlHQbWwDMXWQ\n",
       "iORgVTTlYbjGo/XvAUySziTP0qpZbe6EN4fePqZnNKXbRKkrxtRBIlCEFaHy7nqjyqON4XwM/sOX\n",
       "Fndpxaw2F/XmvgKMiDVR0W1iM62qKEwdJOK7UvoCwGCJRzuIfkd+4csbT5cUFy54cbR/zSqXlI0m\n",
       "wnNrIigdJPqLcgBwsKNFHm0LPzPwG1+m+FxSA6c4uOLF0UYZTlkDp2xUbmnjJnWQCJRggzKIHY1d\n",
       "Hu0YLpQWrdw7PEsbZrU5mKtn3LmotUnHkrpN7A7qOLR0kIhUxUo9SsQej3YB+97LqPWulRmzahy8\n",
       "+mBtse3cTfqhUy1Y023UoMJXOotir9gByB7MQ2BzX6zmrIr2y8HW1lWxDz7lLu3IqnN2Ydwn+vlG\n",
       "67+k23Ai3Lcmgq2DRLQC0Wa7oh2tOhtL3CViOOdy/WHcGrPXXYlj4HKouh2y7PqR74Vbav8br7oS\n",
       "dDivd5M+7mxa55xcj2sduVj7XSPWdPuSjxzNdnPJxedsL1yoPS1xV0L47Ut2Vva73LGJOTx3BLoT\n",
       "eO36D4UHK4KXk9XkAAAAAElFTkSuQmCC\n",
       "\" style=\"display:inline;vertical-align:middle;\" /></a></span><br>"
      ],
      "text/plain": [
       "<IPython.core.display.HTML object>"
      ]
     },
     "metadata": {},
     "output_type": "display_data"
    }
   ],
   "source": [
    "proper_subset_def_inst = proper_subset_def.instantiate()"
   ]
  },
  {
   "cell_type": "code",
   "execution_count": 5,
   "metadata": {},
   "outputs": [
    {
     "data": {
      "text/html": [
       "<span style=\"font-size:20px;\"><a class=\"ProveItLink\" href=\"../../../__pv_it/axioms/4fcb3ae92330d8963f99abe44b7ac51675d7edc40/expr.ipynb\"><img src=\"data:image/png;base64,iVBORw0KGgoAAAANSUhEUgAAADsAAAAQBAMAAABaYBp1AAAAMFBMVEX///8AAAAAAAAAAAAAAAAA\n",
       "AAAAAAAAAAAAAAAAAAAAAAAAAAAAAAAAAAAAAAAAAAAv3aB7AAAAD3RSTlMAIs1UmauJMnZmRLsQ\n",
       "3e++988cAAAACXBIWXMAAA7EAAAOxAGVKw4bAAAA+ElEQVQY02NgAAEhBrxAH0OEc//X0KDtEDbz\n",
       "f0wdfBsYGOILwEyWeAEMafkGBob1DmBmYj5EGUP33bt3r0OY84FC8xtALMaGfgOwUFEiQnc8EOuB\n",
       "DWVhsJ8AonkuIhn+moHhKMSgxQz1CSCadQFClv13R6smhOnAIB8AopmQNHN8ZGCwA5vJscUlfgOI\n",
       "UYokzf2AgYHtO4h1goGB/wKIIYokzQ80j/MHxGwG3gcgBi+SdD3QYNZfQAYXkMH0AeyDCQjpfqCf\n",
       "6hWADDmQTR/BYloIaT2gvkcHGBhO/9dhYN7/Ceyz01EHoLLR/0NDtQ3QA3rZXnigQgAAg3o6oFb0\n",
       "QFYAAAAASUVORK5CYII=\n",
       "\" style=\"display:inline;vertical-align:middle;\" /></a> <a class=\"ProveItLink\" href=\"../../../__pv_it/_proof_relax_proper_subset/07704c8aaaf50133f050557f2610bf76dc35557a0/proof.ipynb\" style=\"text-decoration: none\">&nbsp;&#x22A2;&nbsp;&nbsp;</a><a class=\"ProveItLink\" href=\"../../../__pv_it/axioms/645ab94911b55be4e820c4430a5b89d3b6f479bc0/expr.ipynb\"><img src=\"data:image/png;base64,iVBORw0KGgoAAAANSUhEUgAAAKwAAAAVBAMAAAAp2hhWAAAAMFBMVEX///8AAAAAAAAAAAAAAAAA\n",
       "AAAAAAAAAAAAAAAAAAAAAAAAAAAAAAAAAAAAAAAAAAAv3aB7AAAAD3RSTlMAInZUiRDNmWbv3US7\n",
       "qzJazP2FAAAACXBIWXMAAA7EAAAOxAGVKw4bAAACmElEQVQ4y41Vz2sTQRT+mh+bNE3S4KEgKI31\n",
       "0oPSHERJLsY/oFg8eCgtBERoUTCHgh6DSL0U6qUFqWBEBNlKDShCT6ZeRA+2F73EmKDgQZRYD734\n",
       "I755M7M7u0mTDuzuvPne+2beN29mAaTQsw0cYKQLHshwf2Q/p6G0f+R4L84RFXFKmtc6HKLbf+sf\n",
       "3gHjvvFg3sV0czMWPBQRLkjftho+Ydv2huwOVoFGE9aUNEMyLVw0MJ12wZlT8FBEpMRmpCEn/HrM\n",
       "XcIoJfOyiGhRmtMq9oaBUXuxl0a8qZViHooYlOa58zx1+IGR7TINLZP/ijTHa/J7x8SQfPzlTeVM\n",
       "uAqTZwWnZRbpCU4xUTFoG/TM0+Rz0ix/l2kWTAyJFIaerOVUnOKZw4JcO86yGJa5N/eAWSHzpNop\n",
       "i3WK5E0MARF1/5LWQPJMqqU8Q4u9fxisyT9jJxldZNNKBVlLq2RivuJUPIt4yGYRozvie9SgDewC\n",
       "WcGRhZrxkfjGMibGrebEKJ4s1pjh9fUGix4zaOO0N6F/1Gmx+QkY49KqmBgfmKqzEsXTkrQXgOEy\n",
       "a1NyaYdp3ugv6mxyjdBOTTu0DoaIbT+lUudcHZ5NKQKJFuO6wRWXtkVTJH5TJ6cPQySjRXAw0W4Z\n",
       "GkieHF6JLMjJ+snAbG1K+0zQxrdENS1pefgwxdMmxpXnXB+aZ4mr57Dw3pXQ87f68M6T36qYhGvw\n",
       "pniJWyC0Y2JiwBHO4VnAN2CmfRnB7b2890b52K7Xr/IZWRev9+L1WdRW2cRI27u20tblWUesiX7X\n",
       "Z9lrb/jwWrcIfZHs38zqEO2210xWu0ZseQZEQrZ3PUd8QXHv7yTema6ImOm32i2fHfYuL9k9YiDd\n",
       "mzXQ8a87hL4R/wFSTb1ZCJMi8gAAAABJRU5ErkJggg==\n",
       "\" style=\"display:inline;vertical-align:middle;\" /></a></span>"
      ],
      "text/plain": [
       "{A proper_subset B} |- (A subset_eq B) and (B not_equiv A)"
      ]
     },
     "metadata": {},
     "output_type": "display_data"
    },
    {
     "name": "stdout",
     "output_type": "stream",
     "text": [
      "relax_proper_subset may now be readily provable (assuming required theorems are usable).  Simply execute \"%qed\".\n"
     ]
    }
   ],
   "source": [
    "proper_subset_def_inst.derive_right_via_equality(assumptions=[proper_subset_def_inst.lhs])"
   ]
  },
  {
   "cell_type": "code",
   "execution_count": 6,
   "metadata": {},
   "outputs": [
    {
     "name": "stdout",
     "output_type": "stream",
     "text": [
      "proveit.logic.sets.inclusion.relax_proper_subset has been proven.\n"
     ]
    },
    {
     "data": {
      "text/html": [
       "<table><tr><th>&nbsp;</th><th>step type</th><th>requirements</th><th>statement</th></tr>\n",
       "<tr><td><a name=\"0xf07a7e175de6c2b_step0\">0</a></td><td>generalization</td><td><a href=\"#0xf07a7e175de6c2b_step1\">1</a></td><td><span style=\"font-size:20px;\"> <a class=\"ProveItLink\" href=\"../../../__pv_it/_proof_relax_proper_subset/8ee5fd6d89579a5848a7d3026bdb2e93707b392f0/proof.ipynb\" style=\"text-decoration: none\">&nbsp;&#x22A2;&nbsp;&nbsp;</a><a class=\"ProveItLink\" href=\"../../../__pv_it/theorems/902afb1e6249d7c2feb1149d34fff9880d2b647b0/expr.ipynb\"><img src=\"data:image/png;base64,iVBORw0KGgoAAAANSUhEUgAAALkAAAAXBAMAAACllfPxAAAAMFBMVEX///8AAAAAAAAAAAAAAAAA\n",
       "AAAAAAAAAAAAAAAAAAAAAAAAAAAAAAAAAAAAAAAAAAAv3aB7AAAAD3RSTlMAq1RmmUTNIjK7EInv\n",
       "3XZ/CtNrAAAACXBIWXMAAA7EAAAOxAGVKw4bAAACzklEQVRIx61VT0hUQRj/7b7dfe/N2qZg0iVc\n",
       "6tSphSToYK70h8QgwYtUlB0k2g7q2dL1EgRB4imj2idEpwQNb3vI7FARhVCQhx4sdRAhSk23TSn7\n",
       "ZubN7rgpW88GZueb+XZ+M9/v933zAN/NrODvwXbaR3lG51b+89SrubHPB3hwXAyRhT88h9drai6n\n",
       "EUsAx/n8kg/0h3I4oNDnXdedleZLIFAAUsAgj27IB/pROTR/l+P1uZIgv4DwMtBAkTlANO4DfUr8\n",
       "RvsKYmTvSx6Dlgw6ocqBQexE/NAu1eyPLYkx0FZyBYisyHPqBP3adV/5QA9JUZPBb1JczVU1BLYn\n",
       "TXFRxpwE7ohFp2y7Mtim6PxiRG/cWhPTQc116/6XOu41KLxemCIr2QvhurGcbUlzw1Z/fpRWlpVp\n",
       "nbzt2Tvi8grmopj2auhfexB8xskjaWwnKjiLSgKNGcSmNqA/IRxrYmSEaq8R+KzCF5vmjzX/kIdp\n",
       "6Hf5JrqSRfwHc5KzjjdSkiSMBR09fDMHtMr71wJNOjoj10/JY6KEzqNpIk+Y37LziFjLXZS74hhL\n",
       "6OixSHUxZafB3urMcG0+yHlXEdziOtfT4cEZMh6nBAhOCN/Ap4bd0NFzoU6MqjI52KxEsOlyaKfe\n",
       "Leeju1RWxKi+rDwnmRfpVSFqh8doI1itjh5OkwztUJqMJj0Mnm4mDz3jvYVn73kvQYRWz6VU0gbE\n",
       "dVqz9Y5H7UCbhh7KTqxiL5Qm5oqKfwYsk3ewf/3KxlQNZBZr6oYFecUKixFoWlKLC3pG5mAW0Ael\n",
       "SbigdsxWLLhrRYti3xln4zBXwd5pzIRJ4SXYMvoBB2OKGf5G/d07R/E/BTvdZU3j0Fq2Ja6hn6rG\n",
       "g3wbEzVkdGcnh4t77Q3fnpDrll5gLwfKX96gZtu6IzoiqklvrNKzbZd/+s5shb5Z66/gnytfSPwL\n",
       "+raa+R8wfgOmtqfSVWwZ9AAAAABJRU5ErkJggg==\n",
       "\" style=\"display:inline;vertical-align:middle;\" /></a></span></td></tr>\n",
       "<tr><td><a name=\"0xf07a7e175de6c2b_step1\">1</a></td><td>instantiation</td><td><a href=\"#0xf07a7e175de6c2b_step2\">2</a>, <a href=\"#0xf07a7e175de6c2b_step3\">3</a></td><td><span style=\"font-size:20px;\"><a class=\"ProveItLink\" href=\"../../../__pv_it/axioms/4fcb3ae92330d8963f99abe44b7ac51675d7edc40/expr.ipynb\"><img src=\"data:image/png;base64,iVBORw0KGgoAAAANSUhEUgAAADsAAAAQBAMAAABaYBp1AAAAMFBMVEX///8AAAAAAAAAAAAAAAAA\n",
       "AAAAAAAAAAAAAAAAAAAAAAAAAAAAAAAAAAAAAAAAAAAv3aB7AAAAD3RSTlMAIs1UmauJMnZmRLsQ\n",
       "3e++988cAAAACXBIWXMAAA7EAAAOxAGVKw4bAAAA+ElEQVQY02NgAAEhBrxAH0OEc//X0KDtEDbz\n",
       "f0wdfBsYGOILwEyWeAEMafkGBob1DmBmYj5EGUP33bt3r0OY84FC8xtALMaGfgOwUFEiQnc8EOuB\n",
       "DWVhsJ8AonkuIhn+moHhKMSgxQz1CSCadQFClv13R6smhOnAIB8AopmQNHN8ZGCwA5vJscUlfgOI\n",
       "UYokzf2AgYHtO4h1goGB/wKIIYokzQ80j/MHxGwG3gcgBi+SdD3QYNZfQAYXkMH0AeyDCQjpfqCf\n",
       "6hWADDmQTR/BYloIaT2gvkcHGBhO/9dhYN7/Ceyz01EHoLLR/0NDtQ3QA3rZXnigQgAAg3o6oFb0\n",
       "QFYAAAAASUVORK5CYII=\n",
       "\" style=\"display:inline;vertical-align:middle;\" /></a> <a class=\"ProveItLink\" href=\"../../../__pv_it/_proof_relax_proper_subset/b78b1dea1e15bce61dd55bb9b63d4ad85e3dcb7d0/proof.ipynb\" style=\"text-decoration: none\">&nbsp;&#x22A2;&nbsp;&nbsp;</a><a class=\"ProveItLink\" href=\"../../../__pv_it/axioms/db7a164f644801bfd111812bb9a6a278f180c2b50/expr.ipynb\"><img src=\"data:image/png;base64,iVBORw0KGgoAAAANSUhEUgAAADsAAAASBAMAAAAXqLt+AAAAMFBMVEX///8AAAAAAAAAAAAAAAAA\n",
       "AAAAAAAAAAAAAAAAAAAAAAAAAAAAAAAAAAAAAAAAAAAv3aB7AAAAD3RSTlMAIs1UmauJMnZmRLsQ\n",
       "3e++988cAAAACXBIWXMAAA7EAAAOxAGVKw4bAAAA/UlEQVQoz2NgAAEhBrxAH0OEc//X0KDtEDbz\n",
       "f6hg9927d69DmHwbGBjiC8BMlngBMF3UiNAu38DAsN4BzEzMByvjuYhk+nyg0PwGEIuxod8ARLMu\n",
       "QJKOB2I9sKEsDPYTQDQTstteMzAchThjMUN9AoguRZJl/93RqglhOjDIB4BoUSRpjo8MDHZgMzm2\n",
       "uMRvADF4kaS5HzAwsH0HsU4wMPBfALthAkKaH2ge5w+I2Qy8D8BiWgjpeqBS1l9ABheQwfQBLHY0\n",
       "6gBMuh/op3oFIEMOZNNHiOCyvbBA1QPqewRUfPq/DgPz/k8JqDES/T80VNuAgYqA5e5dRIRCAACA\n",
       "ZT/mFM9iAgAAAABJRU5ErkJggg==\n",
       "\" style=\"display:inline;vertical-align:middle;\" /></a></span></td></tr>\n",
       "<tr><td>&nbsp;</td><td colspan=4 style=\"text-align:left\"><span style=\"font-size:20px;\"><a class=\"ProveItLink\" href=\"../../../../../../__pv_it/common/09585084922504426caf1db2ff588a23a0932a960/expr.ipynb\"><img src=\"data:image/png;base64,iVBORw0KGgoAAAANSUhEUgAAAA8AAAAPBAMAAADJ+Ih5AAAAMFBMVEX///8AAAAAAAAAAAAAAAAA\n",
       "AAAAAAAAAAAAAAAAAAAAAAAAAAAAAAAAAAAAAAAAAAAv3aB7AAAAD3RSTlMAIs1UmauJMnZmRLsQ\n",
       "3e++988cAAAACXBIWXMAAA7EAAAOxAGVKw4bAAAAXklEQVQI12NgAAEhBijQh9LM/6EMlngBCCMx\n",
       "vwBMMzb0G0BkGOwngBmLGeoTwAwHBvkAEM2xxSV+A4hxgoGB/wJEhoH3AZDmAupg+gBkyAEx90cG\n",
       "htP/dRiY939KAABt3hLO6mcEjQAAAABJRU5ErkJggg==\n",
       "\" style=\"display:inline;vertical-align:middle;\" /></a> : <a class=\"ProveItLink\" href=\"../../../__pv_it/axioms/db7a164f644801bfd111812bb9a6a278f180c2b50/expr.ipynb\"><img src=\"data:image/png;base64,iVBORw0KGgoAAAANSUhEUgAAADsAAAASBAMAAAAXqLt+AAAAMFBMVEX///8AAAAAAAAAAAAAAAAA\n",
       "AAAAAAAAAAAAAAAAAAAAAAAAAAAAAAAAAAAAAAAAAAAv3aB7AAAAD3RSTlMAIs1UmauJMnZmRLsQ\n",
       "3e++988cAAAACXBIWXMAAA7EAAAOxAGVKw4bAAAA/UlEQVQoz2NgAAEhBrxAH0OEc//X0KDtEDbz\n",
       "f6hg9927d69DmHwbGBjiC8BMlngBMF3UiNAu38DAsN4BzEzMByvjuYhk+nyg0PwGEIuxod8ARLMu\n",
       "QJKOB2I9sKEsDPYTQDQTstteMzAchThjMUN9AoguRZJl/93RqglhOjDIB4BoUSRpjo8MDHZgMzm2\n",
       "uMRvADF4kaS5HzAwsH0HsU4wMPBfALthAkKaH2ge5w+I2Qy8D8BiWgjpeqBS1l9ABheQwfQBLHY0\n",
       "6gBMuh/op3oFIEMOZNNHiOCyvbBA1QPqewRUfPq/DgPz/k8JqDES/T80VNuAgYqA5e5dRIRCAACA\n",
       "ZT/mFM9iAgAAAABJRU5ErkJggg==\n",
       "\" style=\"display:inline;vertical-align:middle;\" /></a>, <a class=\"ProveItLink\" href=\"../../../../../../__pv_it/common/a9162d1c3cc0470c02e5daf414500903a7a419230/expr.ipynb\"><img src=\"data:image/png;base64,iVBORw0KGgoAAAANSUhEUgAAABAAAAAOBAMAAADUAYG5AAAAMFBMVEX///8AAAAAAAAAAAAAAAAA\n",
       "AAAAAAAAAAAAAAAAAAAAAAAAAAAAAAAAAAAAAAAAAAAv3aB7AAAAD3RSTlMAZrurzTLvInZEmRDd\n",
       "VIkafcLnAAAACXBIWXMAAA7EAAAOxAGVKw4bAAAAb0lEQVQI12NgYBD6b2zsFMAABEkMDMxfgTT7\n",
       "DwYGzl9ABiOQxwjkMDB/YGBgSQcy2BQYuG1AiuM1OkwEQJr6Cxh4E0EMNSB+D5L6DMTyDQwMrB+B\n",
       "DPsJDAwc34GcL0AOSwIDwzRvoHH6n41NdBkYAF/iFeJ4bEa2AAAAAElFTkSuQmCC\n",
       "\" style=\"display:inline;vertical-align:middle;\" /></a> : <a class=\"ProveItLink\" href=\"../../../__pv_it/axioms/19f64f828bf4f278eef404c3be1bea3d18fbc4a00/expr.ipynb\"><img src=\"data:image/png;base64,iVBORw0KGgoAAAANSUhEUgAAADsAAAATBAMAAADc9GjbAAAAMFBMVEX///8AAAAAAAAAAAAAAAAA\n",
       "AAAAAAAAAAAAAAAAAAAAAAAAAAAAAAAAAAAAAAAAAAAv3aB7AAAAD3RSTlMAZrurzTLvInZEmRDd\n",
       "VIkafcLnAAAACXBIWXMAAA7EAAAOxAGVKw4bAAABGUlEQVQoz2NgwA1KwKTQf2NjpwC4YAGc5Q+h\n",
       "khgYmL/CxNgdYCze/xCBHwwMnL9ArClfGhiYAhqg0lz2YIMYgToZgUoYWA/Gqk24xa0AlX7+Hmwj\n",
       "8wcGBpZ0EKOAgfNQ5p0JUFsa+i+AaDYFBm4bkEIOIGbJ94WZzXBfAETHa3SYCKB6BgTmMsQ/ANH9\n",
       "BQy8iTBBS7j0AoZ6AxCtBsTvof7mhLmLgUNrlT2Y8xmI5UG+4Tpz5vyZM2fAehh2MDDwHwB55yOQ\n",
       "sIc6Vw7JbAaeBJAp34FKvkAFD8BkOYGOZfkA8gpQzTRviCAf3AdlQMwE1Mis/9nYRBfi0zNpZ6B2\n",
       "b/rvzcCr/+UBahRaMuADrAp4pZkC8OvGEAEAtC1BYqSv/IkAAAAASUVORK5CYII=\n",
       "\" style=\"display:inline;vertical-align:middle;\" /></a></span></td></tr><tr><td><a name=\"0xf07a7e175de6c2b_step2\">2</a></td><td>theorem</td><td></td><td><span style=\"font-size:20px;\"> <a class=\"ProveItLink\" href=\"../../../../../booleans/conjunction/_theory_nbs_/proofs/left_from_and/thm_proof.ipynb\" style=\"text-decoration: none\">&nbsp;&#x22A2;&nbsp;&nbsp;</a><a class=\"ProveItLink\" href=\"../../../../../booleans/conjunction/__pv_it/theorems/db95e8ffa7200a9ad9f7288dfda7a09225da59260/expr.ipynb\"><img src=\"data:image/png;base64,iVBORw0KGgoAAAANSUhEUgAAAHMAAAAWBAMAAAABVL48AAAAMFBMVEX///8AAAAAAAAAAAAAAAAA\n",
       "AAAAAAAAAAAAAAAAAAAAAAAAAAAAAAAAAAAAAAAAAAAv3aB7AAAAD3RSTlMAq1RmmUTNIjK7EInv\n",
       "3XZ/CtNrAAAACXBIWXMAAA7EAAAOxAGVKw4bAAABtklEQVQ4y2NgIA+UAbEAiKFMstZ8IHYFMdJJ\n",
       "1cn0H0g0AjH7BFK1ssgXMDCwLWBg4FYgVev2/Q0MDMwGQO2k6mR/8B5k29m7d0+T7F4GfaCNDB4M\n",
       "DLPA/AXo0lDAhak1iKF/A5AqZGAHRxDXCbBo55fdng0gBidM3Rowl2O+95YZMCEHhnqQHs4F3AEg\n",
       "LvcnsCjzBQa+Ayha90MC0ZaB4Q1UhG+KizwoUpgeQEIp4hyYYnRgYP6ArJW15wGYFmFgsIcKrWNg\n",
       "4L8AYiTYgfkPEsEUjwLDWgNkrXxsYP8wHGLgugx3LwMv2GWbssAqGNzAwvWPTSQYkLU+YEkAx8c/\n",
       "Y8cGqDtA8Ql2WQ3Y1AioT2wZuESQtbI2QLwODIOFDhChGpDsd7DvwIZ575ZfAPVSfQCSVpbdG39B\n",
       "w4D9K1hk5f8sBqb53zbAgpEPqKMB4iWGeOTIecDA/gMaBqw/sKaPYGCgKXBtYGD/xcB1BcnBIH99\n",
       "YlgNNHgBw1oHrCnrIAOXfyrHIQaz37s9FZC0+ggwLPkW0KPAnL97yyS82RCJzYksQThrReHQyrqA\n",
       "oFYDHFqZScyThBQAAMbpXj7Rw1FMAAAAAElFTkSuQmCC\n",
       "\" style=\"display:inline;vertical-align:middle;\" /></a></span></td></tr>\n",
       "<tr><td>&nbsp;</td><td colspan=4 style-\"text-align:left\"><a class=\"ProveItLink\" href=\"../../../../../booleans/conjunction/_theory_nbs_/proofs/left_from_and/thm_proof.ipynb\">proveit.logic.booleans.conjunction.left_from_and</a></td></tr><tr><td><a name=\"0xf07a7e175de6c2b_step3\">3</a></td><td>instantiation</td><td><a href=\"#0xf07a7e175de6c2b_step4\">4</a>, <a href=\"#0xf07a7e175de6c2b_step5\">5</a>, <a href=\"#0xf07a7e175de6c2b_step6\">6</a></td><td><span style=\"font-size:20px;\"><a class=\"ProveItLink\" href=\"../../../__pv_it/axioms/4fcb3ae92330d8963f99abe44b7ac51675d7edc40/expr.ipynb\"><img src=\"data:image/png;base64,iVBORw0KGgoAAAANSUhEUgAAADsAAAAQBAMAAABaYBp1AAAAMFBMVEX///8AAAAAAAAAAAAAAAAA\n",
       "AAAAAAAAAAAAAAAAAAAAAAAAAAAAAAAAAAAAAAAAAAAv3aB7AAAAD3RSTlMAIs1UmauJMnZmRLsQ\n",
       "3e++988cAAAACXBIWXMAAA7EAAAOxAGVKw4bAAAA+ElEQVQY02NgAAEhBrxAH0OEc//X0KDtEDbz\n",
       "f0wdfBsYGOILwEyWeAEMafkGBob1DmBmYj5EGUP33bt3r0OY84FC8xtALMaGfgOwUFEiQnc8EOuB\n",
       "DWVhsJ8AonkuIhn+moHhKMSgxQz1CSCadQFClv13R6smhOnAIB8AopmQNHN8ZGCwA5vJscUlfgOI\n",
       "UYokzf2AgYHtO4h1goGB/wKIIYokzQ80j/MHxGwG3gcgBi+SdD3QYNZfQAYXkMH0AeyDCQjpfqCf\n",
       "6hWADDmQTR/BYloIaT2gvkcHGBhO/9dhYN7/Ceyz01EHoLLR/0NDtQ3QA3rZXnigQgAAg3o6oFb0\n",
       "QFYAAAAASUVORK5CYII=\n",
       "\" style=\"display:inline;vertical-align:middle;\" /></a> <a class=\"ProveItLink\" href=\"../../../__pv_it/_proof_relax_proper_subset/07704c8aaaf50133f050557f2610bf76dc35557a0/proof.ipynb\" style=\"text-decoration: none\">&nbsp;&#x22A2;&nbsp;&nbsp;</a><a class=\"ProveItLink\" href=\"../../../__pv_it/axioms/645ab94911b55be4e820c4430a5b89d3b6f479bc0/expr.ipynb\"><img src=\"data:image/png;base64,iVBORw0KGgoAAAANSUhEUgAAAKwAAAAVBAMAAAAp2hhWAAAAMFBMVEX///8AAAAAAAAAAAAAAAAA\n",
       "AAAAAAAAAAAAAAAAAAAAAAAAAAAAAAAAAAAAAAAAAAAv3aB7AAAAD3RSTlMAInZUiRDNmWbv3US7\n",
       "qzJazP2FAAAACXBIWXMAAA7EAAAOxAGVKw4bAAACmElEQVQ4y41Vz2sTQRT+mh+bNE3S4KEgKI31\n",
       "0oPSHERJLsY/oFg8eCgtBERoUTCHgh6DSL0U6qUFqWBEBNlKDShCT6ZeRA+2F73EmKDgQZRYD734\n",
       "I755M7M7u0mTDuzuvPne+2beN29mAaTQsw0cYKQLHshwf2Q/p6G0f+R4L84RFXFKmtc6HKLbf+sf\n",
       "3gHjvvFg3sV0czMWPBQRLkjftho+Ydv2huwOVoFGE9aUNEMyLVw0MJ12wZlT8FBEpMRmpCEn/HrM\n",
       "XcIoJfOyiGhRmtMq9oaBUXuxl0a8qZViHooYlOa58zx1+IGR7TINLZP/ijTHa/J7x8SQfPzlTeVM\n",
       "uAqTZwWnZRbpCU4xUTFoG/TM0+Rz0ix/l2kWTAyJFIaerOVUnOKZw4JcO86yGJa5N/eAWSHzpNop\n",
       "i3WK5E0MARF1/5LWQPJMqqU8Q4u9fxisyT9jJxldZNNKBVlLq2RivuJUPIt4yGYRozvie9SgDewC\n",
       "WcGRhZrxkfjGMibGrebEKJ4s1pjh9fUGix4zaOO0N6F/1Gmx+QkY49KqmBgfmKqzEsXTkrQXgOEy\n",
       "a1NyaYdp3ugv6mxyjdBOTTu0DoaIbT+lUudcHZ5NKQKJFuO6wRWXtkVTJH5TJ6cPQySjRXAw0W4Z\n",
       "GkieHF6JLMjJ+snAbG1K+0zQxrdENS1pefgwxdMmxpXnXB+aZ4mr57Dw3pXQ87f68M6T36qYhGvw\n",
       "pniJWyC0Y2JiwBHO4VnAN2CmfRnB7b2890b52K7Xr/IZWRev9+L1WdRW2cRI27u20tblWUesiX7X\n",
       "Z9lrb/jwWrcIfZHs38zqEO2210xWu0ZseQZEQrZ3PUd8QXHv7yTema6ImOm32i2fHfYuL9k9YiDd\n",
       "mzXQ8a87hL4R/wFSTb1ZCJMi8gAAAABJRU5ErkJggg==\n",
       "\" style=\"display:inline;vertical-align:middle;\" /></a></span></td></tr>\n",
       "<tr><td>&nbsp;</td><td colspan=4 style=\"text-align:left\"><span style=\"font-size:20px;\"><a class=\"ProveItLink\" href=\"../../../../../../__pv_it/common/de55da274ba0f49c86925fbf3828021c04d27faf0/expr.ipynb\"><img src=\"data:image/png;base64,iVBORw0KGgoAAAANSUhEUgAAABAAAAAOBAMAAADUAYG5AAAAMFBMVEX///8AAAAAAAAAAAAAAAAA\n",
       "AAAAAAAAAAAAAAAAAAAAAAAAAAAAAAAAAAAAAAAAAAAv3aB7AAAAD3RSTlMAdrurzZkQ7zJUiSLd\n",
       "ZkQEbk8lAAAACXBIWXMAAA7EAAAOxAGVKw4bAAAAWklEQVQI12NgYBD6r2zkmsAABF8YGJjKgDTH\n",
       "RwYGTiBmYPwBxL+ADKYPQAzkMPArMDD0CzCAiV0nQZrkrVbdA9EM+gxQ8AVKc/yCMhj/QRksHyA0\n",
       "q/4nkBkMAGrBE2oHiyZAAAAAAElFTkSuQmCC\n",
       "\" style=\"display:inline;vertical-align:middle;\" /></a> : <a class=\"ProveItLink\" href=\"../../../__pv_it/axioms/4fcb3ae92330d8963f99abe44b7ac51675d7edc40/expr.ipynb\"><img src=\"data:image/png;base64,iVBORw0KGgoAAAANSUhEUgAAADsAAAAQBAMAAABaYBp1AAAAMFBMVEX///8AAAAAAAAAAAAAAAAA\n",
       "AAAAAAAAAAAAAAAAAAAAAAAAAAAAAAAAAAAAAAAAAAAv3aB7AAAAD3RSTlMAIs1UmauJMnZmRLsQ\n",
       "3e++988cAAAACXBIWXMAAA7EAAAOxAGVKw4bAAAA+ElEQVQY02NgAAEhBrxAH0OEc//X0KDtEDbz\n",
       "f0wdfBsYGOILwEyWeAEMafkGBob1DmBmYj5EGUP33bt3r0OY84FC8xtALMaGfgOwUFEiQnc8EOuB\n",
       "DWVhsJ8AonkuIhn+moHhKMSgxQz1CSCadQFClv13R6smhOnAIB8AopmQNHN8ZGCwA5vJscUlfgOI\n",
       "UYokzf2AgYHtO4h1goGB/wKIIYokzQ80j/MHxGwG3gcgBi+SdD3QYNZfQAYXkMH0AeyDCQjpfqCf\n",
       "6hWADDmQTR/BYloIaT2gvkcHGBhO/9dhYN7/Ceyz01EHoLLR/0NDtQ3QA3rZXnigQgAAg3o6oFb0\n",
       "QFYAAAAASUVORK5CYII=\n",
       "\" style=\"display:inline;vertical-align:middle;\" /></a>, <a class=\"ProveItLink\" href=\"../../../../../../__pv_it/common/d72bb8b07403efe79afab564c36a28e21330e5f90/expr.ipynb\"><img src=\"data:image/png;base64,iVBORw0KGgoAAAANSUhEUgAAAA8AAAASBAMAAAB2sJk8AAAAMFBMVEX///8AAAAAAAAAAAAAAAAA\n",
       "AAAAAAAAAAAAAAAAAAAAAAAAAAAAAAAAAAAAAAAAAAAv3aB7AAAAD3RSTlMAIomZq2bNMhC7791E\n",
       "VHYkqjbgAAAACXBIWXMAAA7EAAAOxAGVKw4bAAAAgklEQVQI12NgYGBUVnJlAAG1AgaWBCDdNgFI\n",
       "LAbibJCoPwMD83cQQ7+AQR4kw2B/gMH+AoiRL8CwvwFIc/xiYPgFEmD9ysCwG8ToSgBp5LnAYCXA\n",
       "wFB/IVyUaSFQlG/hAyYXkAaGkknaBxgKwLZyHuATgDAcroFpBub/3yEM9l1AawBt/xzBtQnGvwAA\n",
       "AABJRU5ErkJggg==\n",
       "\" style=\"display:inline;vertical-align:middle;\" /></a> : <a class=\"ProveItLink\" href=\"../../../__pv_it/axioms/645ab94911b55be4e820c4430a5b89d3b6f479bc0/expr.ipynb\"><img src=\"data:image/png;base64,iVBORw0KGgoAAAANSUhEUgAAAKwAAAAVBAMAAAAp2hhWAAAAMFBMVEX///8AAAAAAAAAAAAAAAAA\n",
       "AAAAAAAAAAAAAAAAAAAAAAAAAAAAAAAAAAAAAAAAAAAv3aB7AAAAD3RSTlMAInZUiRDNmWbv3US7\n",
       "qzJazP2FAAAACXBIWXMAAA7EAAAOxAGVKw4bAAACmElEQVQ4y41Vz2sTQRT+mh+bNE3S4KEgKI31\n",
       "0oPSHERJLsY/oFg8eCgtBERoUTCHgh6DSL0U6qUFqWBEBNlKDShCT6ZeRA+2F73EmKDgQZRYD734\n",
       "I755M7M7u0mTDuzuvPne+2beN29mAaTQsw0cYKQLHshwf2Q/p6G0f+R4L84RFXFKmtc6HKLbf+sf\n",
       "3gHjvvFg3sV0czMWPBQRLkjftho+Ydv2huwOVoFGE9aUNEMyLVw0MJ12wZlT8FBEpMRmpCEn/HrM\n",
       "XcIoJfOyiGhRmtMq9oaBUXuxl0a8qZViHooYlOa58zx1+IGR7TINLZP/ijTHa/J7x8SQfPzlTeVM\n",
       "uAqTZwWnZRbpCU4xUTFoG/TM0+Rz0ix/l2kWTAyJFIaerOVUnOKZw4JcO86yGJa5N/eAWSHzpNop\n",
       "i3WK5E0MARF1/5LWQPJMqqU8Q4u9fxisyT9jJxldZNNKBVlLq2RivuJUPIt4yGYRozvie9SgDewC\n",
       "WcGRhZrxkfjGMibGrebEKJ4s1pjh9fUGix4zaOO0N6F/1Gmx+QkY49KqmBgfmKqzEsXTkrQXgOEy\n",
       "a1NyaYdp3ugv6mxyjdBOTTu0DoaIbT+lUudcHZ5NKQKJFuO6wRWXtkVTJH5TJ6cPQySjRXAw0W4Z\n",
       "GkieHF6JLMjJ+snAbG1K+0zQxrdENS1pefgwxdMmxpXnXB+aZ4mr57Dw3pXQ87f68M6T36qYhGvw\n",
       "pniJWyC0Y2JiwBHO4VnAN2CmfRnB7b2890b52K7Xr/IZWRev9+L1WdRW2cRI27u20tblWUesiX7X\n",
       "Z9lrb/jwWrcIfZHs38zqEO2210xWu0ZseQZEQrZ3PUd8QXHv7yTema6ImOm32i2fHfYuL9k9YiDd\n",
       "mzXQ8a87hL4R/wFSTb1ZCJMi8gAAAABJRU5ErkJggg==\n",
       "\" style=\"display:inline;vertical-align:middle;\" /></a></span></td></tr><tr><td><a name=\"0xf07a7e175de6c2b_step4\">4</a></td><td>theorem</td><td></td><td><span style=\"font-size:20px;\"> <a class=\"ProveItLink\" href=\"../../../../../equality/_theory_nbs_/proofs/rhs_via_equality/thm_proof.ipynb\" style=\"text-decoration: none\">&nbsp;&#x22A2;&nbsp;&nbsp;</a><a class=\"ProveItLink\" href=\"../../../../../equality/__pv_it/theorems/b71cc6ded84759b8e6fdf7e824529c371b14ed8e0/expr.ipynb\"><img src=\"data:image/png;base64,iVBORw0KGgoAAAANSUhEUgAAAIkAAAAVBAMAAACArtDCAAAAMFBMVEX///8AAAAAAAAAAAAAAAAA\n",
       "AAAAAAAAAAAAAAAAAAAAAAAAAAAAAAAAAAAAAAAAAAAv3aB7AAAAD3RSTlMAq1RmmUTNIjK7EInv\n",
       "3XZ/CtNrAAAACXBIWXMAAA7EAAAOxAGVKw4bAAAB3klEQVQ4y51UTShEURT+xsx4w2OaiSgbU8rC\n",
       "apYWaCxEUd5KmdXslJKR7dSMjS3FBgtvZaVJmixINNQsRCM7mfzspAZRhOKcO+bNGWPB++qd777z\n",
       "vvfde8+9HfhAaINdaKmdBqI+Ho/ZdtlKwBEBZthw3q7JGv95CFSbgB6w6zLBoRVwBsnJronrleNe\n",
       "AjjO5Y7susRVKYYNYABY/m2av7gMq1JMRoEpaHTa7tXB3mZO3eX7laCmoBt9Tvmjggsoii6pqKj9\n",
       "YLmp04rQDewSjUQRiwoXZxZ6VrCCJfpQkicKVVequI3APb2Q0jUvXBwheB8EM0qiHIf1CMdID8c0\n",
       "cErlonI7H4RLXQD1PsGqppaoFe4AhtSyNsf54r1hKgQ00VDfFy5xU2u02LVEWBCiuUDntJ5RwhjP\n",
       "4TzJdxDxmVf7hEtX/saUjDKRN3Ol+wt5R4JDYbkHPIGsrh/lXC7CzMqugYT1pS6oaBFhnMmTPhB/\n",
       "FndUErHO8JZuQJyGtRuITSdng8JFe4HKKy6iJGKdr9364F3dBjxpaL3XLZpwuX03VV6x1VMsEa/v\n",
       "8/XHha6ixx1Kyh1Z+TIURQTPxc+GEOaJHs8rXMIVHe5b9CvUZieMCpdgZV8x/thQ/9MhvgB6V4K4\n",
       "K/k90gAAAABJRU5ErkJggg==\n",
       "\" style=\"display:inline;vertical-align:middle;\" /></a></span></td></tr>\n",
       "<tr><td>&nbsp;</td><td colspan=4 style-\"text-align:left\"><a class=\"ProveItLink\" href=\"../../../../../equality/_theory_nbs_/proofs/rhs_via_equality/thm_proof.ipynb\">proveit.logic.equality.rhs_via_equality</a></td></tr><tr><td><a name=\"0xf07a7e175de6c2b_step5\">5</a></td><td>assumption</td><td></td><td><span style=\"font-size:20px;\"><a class=\"ProveItLink\" href=\"../../../__pv_it/axioms/4fcb3ae92330d8963f99abe44b7ac51675d7edc40/expr.ipynb\"><img src=\"data:image/png;base64,iVBORw0KGgoAAAANSUhEUgAAADsAAAAQBAMAAABaYBp1AAAAMFBMVEX///8AAAAAAAAAAAAAAAAA\n",
       "AAAAAAAAAAAAAAAAAAAAAAAAAAAAAAAAAAAAAAAAAAAv3aB7AAAAD3RSTlMAIs1UmauJMnZmRLsQ\n",
       "3e++988cAAAACXBIWXMAAA7EAAAOxAGVKw4bAAAA+ElEQVQY02NgAAEhBrxAH0OEc//X0KDtEDbz\n",
       "f0wdfBsYGOILwEyWeAEMafkGBob1DmBmYj5EGUP33bt3r0OY84FC8xtALMaGfgOwUFEiQnc8EOuB\n",
       "DWVhsJ8AonkuIhn+moHhKMSgxQz1CSCadQFClv13R6smhOnAIB8AopmQNHN8ZGCwA5vJscUlfgOI\n",
       "UYokzf2AgYHtO4h1goGB/wKIIYokzQ80j/MHxGwG3gcgBi+SdD3QYNZfQAYXkMH0AeyDCQjpfqCf\n",
       "6hWADDmQTR/BYloIaT2gvkcHGBhO/9dhYN7/Ceyz01EHoLLR/0NDtQ3QA3rZXnigQgAAg3o6oFb0\n",
       "QFYAAAAASUVORK5CYII=\n",
       "\" style=\"display:inline;vertical-align:middle;\" /></a> <a class=\"ProveItLink\" href=\"../../../__pv_it/_proof_relax_proper_subset/9dc56c72840ea2a1dee65f964c473da13e7bc3bc0/proof.ipynb\" style=\"text-decoration: none\">&nbsp;&#x22A2;&nbsp;&nbsp;</a><a class=\"ProveItLink\" href=\"../../../__pv_it/axioms/4fcb3ae92330d8963f99abe44b7ac51675d7edc40/expr.ipynb\"><img src=\"data:image/png;base64,iVBORw0KGgoAAAANSUhEUgAAADsAAAAQBAMAAABaYBp1AAAAMFBMVEX///8AAAAAAAAAAAAAAAAA\n",
       "AAAAAAAAAAAAAAAAAAAAAAAAAAAAAAAAAAAAAAAAAAAv3aB7AAAAD3RSTlMAIs1UmauJMnZmRLsQ\n",
       "3e++988cAAAACXBIWXMAAA7EAAAOxAGVKw4bAAAA+ElEQVQY02NgAAEhBrxAH0OEc//X0KDtEDbz\n",
       "f0wdfBsYGOILwEyWeAEMafkGBob1DmBmYj5EGUP33bt3r0OY84FC8xtALMaGfgOwUFEiQnc8EOuB\n",
       "DWVhsJ8AonkuIhn+moHhKMSgxQz1CSCadQFClv13R6smhOnAIB8AopmQNHN8ZGCwA5vJscUlfgOI\n",
       "UYokzf2AgYHtO4h1goGB/wKIIYokzQ80j/MHxGwG3gcgBi+SdD3QYNZfQAYXkMH0AeyDCQjpfqCf\n",
       "6hWADDmQTR/BYloIaT2gvkcHGBhO/9dhYN7/Ceyz01EHoLLR/0NDtQ3QA3rZXnigQgAAg3o6oFb0\n",
       "QFYAAAAASUVORK5CYII=\n",
       "\" style=\"display:inline;vertical-align:middle;\" /></a></span></td></tr>\n",
       "<tr><td><a name=\"0xf07a7e175de6c2b_step6\">6</a></td><td>instantiation</td><td><a href=\"#0xf07a7e175de6c2b_step7\">7</a></td><td><span style=\"font-size:20px;\"> <a class=\"ProveItLink\" href=\"../../../__pv_it/_proof_relax_proper_subset/4f81c4c71c6c74bd78e89ec387a22c509f0036850/proof.ipynb\" style=\"text-decoration: none\">&nbsp;&#x22A2;&nbsp;&nbsp;</a><a class=\"ProveItLink\" href=\"../../../__pv_it/axioms/ad04c935a9937d25424e398107a2245106b61c5e0/expr.ipynb\"><img src=\"data:image/png;base64,iVBORw0KGgoAAAANSUhEUgAAASMAAAAVBAMAAAD/WpUaAAAAMFBMVEX///8AAAAAAAAAAAAAAAAA\n",
       "AAAAAAAAAAAAAAAAAAAAAAAAAAAAAAAAAAAAAAAAAAAv3aB7AAAAD3RSTlMAInZUiRDNmWbv3US7\n",
       "qzJazP2FAAAACXBIWXMAAA7EAAAOxAGVKw4bAAADPElEQVRIx52Wz2sTQRTHX35t0jRNg4eCojTW\n",
       "Sw9KcyiV9mL6BxSDBw8lhYAULArmUNBjELEXobkoSAUjRZAoNagInkx7ET3YXPQSa4JCD0VJ66EX\n",
       "f9T3ZnZnJ293E5qByW7mzee77735CQAJ6Fh8bo0J6IHzQXdCiPpT4v+QV8f+pLONmMNzpzr5MySJ\n",
       "F/Q+LpuuOTpFNv9uff4IMOrkx3vhAmnbpmfb1kHCXwAI5WT/A+eH+6oAjSYYGW4ghnOny+XymisX\n",
       "lOmEi5rNGqqc8pd0iJgHCBdEU7jhnBrDmMi3eYjkuYEYxm2f9ORmze/e0GxYXu8nIda0RlfoELGE\n",
       "bsum6fNNR7TL2LSMzF1H+oBzoUeamXGjdfks6jaIP/n+vnI2VAVdB4m+DEzIDCbHZHq3p23pBtYF\n",
       "dP4yd2nCrDY3UAFPrvRDDk1Ot8FAAvqfrUyZnKmDhFGARZk3OFdwRPsAYI4SNsNdWjSrzRngyQXS\n",
       "hhjbcFq3gZ+oh5escZM6SARrZigvoZXm0cb/jJwR1tsCKotSAxkM436CFwdGIiDmjlHQbWwDMXWQ\n",
       "iORgVTTlYbjGo/XvAUySziTP0qpZbe6EN4fePqZnNKXbRKkrxtRBIlCEFaHy7nqjyqON4XwM/sOX\n",
       "Fndpxaw2F/XmvgKMiDVR0W1iM62qKEwdJOK7UvoCwGCJRzuIfkd+4csbT5cUFy54cbR/zSqXlI0m\n",
       "wnNrIigdJPqLcgBwsKNFHm0LPzPwG1+m+FxSA6c4uOLF0UYZTlkDp2xUbmnjJnWQCJRggzKIHY1d\n",
       "Hu0YLpQWrdw7PEsbZrU5mKtn3LmotUnHkrpN7A7qOLR0kIhUxUo9SsQej3YB+97LqPWulRmzahy8\n",
       "+mBtse3cTfqhUy1Y023UoMJXOotir9gByB7MQ2BzX6zmrIr2y8HW1lWxDz7lLu3IqnN2Ydwn+vlG\n",
       "67+k23Ai3Lcmgq2DRLQC0Wa7oh2tOhtL3CViOOdy/WHcGrPXXYlj4HKouh2y7PqR74Vbav8br7oS\n",
       "dDivd5M+7mxa55xcj2sduVj7XSPWdPuSjxzNdnPJxedsL1yoPS1xV0L47Ut2Vva73LGJOTx3BLoT\n",
       "eO36D4UHK4KXk9XkAAAAAElFTkSuQmCC\n",
       "\" style=\"display:inline;vertical-align:middle;\" /></a></span></td></tr>\n",
       "<tr><td>&nbsp;</td><td colspan=4 style=\"text-align:left\"><span style=\"font-size:20px;\"><a class=\"ProveItLink\" href=\"../../../../../../__pv_it/common/09585084922504426caf1db2ff588a23a0932a960/expr.ipynb\"><img src=\"data:image/png;base64,iVBORw0KGgoAAAANSUhEUgAAAA8AAAAPBAMAAADJ+Ih5AAAAMFBMVEX///8AAAAAAAAAAAAAAAAA\n",
       "AAAAAAAAAAAAAAAAAAAAAAAAAAAAAAAAAAAAAAAAAAAv3aB7AAAAD3RSTlMAIs1UmauJMnZmRLsQ\n",
       "3e++988cAAAACXBIWXMAAA7EAAAOxAGVKw4bAAAAXklEQVQI12NgAAEhBijQh9LM/6EMlngBCCMx\n",
       "vwBMMzb0G0BkGOwngBmLGeoTwAwHBvkAEM2xxSV+A4hxgoGB/wJEhoH3AZDmAupg+gBkyAEx90cG\n",
       "htP/dRiY939KAABt3hLO6mcEjQAAAABJRU5ErkJggg==\n",
       "\" style=\"display:inline;vertical-align:middle;\" /></a> : <a class=\"ProveItLink\" href=\"../../../../../../__pv_it/common/09585084922504426caf1db2ff588a23a0932a960/expr.ipynb\"><img src=\"data:image/png;base64,iVBORw0KGgoAAAANSUhEUgAAAA8AAAAPBAMAAADJ+Ih5AAAAMFBMVEX///8AAAAAAAAAAAAAAAAA\n",
       "AAAAAAAAAAAAAAAAAAAAAAAAAAAAAAAAAAAAAAAAAAAv3aB7AAAAD3RSTlMAIs1UmauJMnZmRLsQ\n",
       "3e++988cAAAACXBIWXMAAA7EAAAOxAGVKw4bAAAAXklEQVQI12NgAAEhBijQh9LM/6EMlngBCCMx\n",
       "vwBMMzb0G0BkGOwngBmLGeoTwAwHBvkAEM2xxSV+A4hxgoGB/wJEhoH3AZDmAupg+gBkyAEx90cG\n",
       "htP/dRiY939KAABt3hLO6mcEjQAAAABJRU5ErkJggg==\n",
       "\" style=\"display:inline;vertical-align:middle;\" /></a>, <a class=\"ProveItLink\" href=\"../../../../../../__pv_it/common/a9162d1c3cc0470c02e5daf414500903a7a419230/expr.ipynb\"><img src=\"data:image/png;base64,iVBORw0KGgoAAAANSUhEUgAAABAAAAAOBAMAAADUAYG5AAAAMFBMVEX///8AAAAAAAAAAAAAAAAA\n",
       "AAAAAAAAAAAAAAAAAAAAAAAAAAAAAAAAAAAAAAAAAAAv3aB7AAAAD3RSTlMAZrurzTLvInZEmRDd\n",
       "VIkafcLnAAAACXBIWXMAAA7EAAAOxAGVKw4bAAAAb0lEQVQI12NgYBD6b2zsFMAABEkMDMxfgTT7\n",
       "DwYGzl9ABiOQxwjkMDB/YGBgSQcy2BQYuG1AiuM1OkwEQJr6Cxh4E0EMNSB+D5L6DMTyDQwMrB+B\n",
       "DPsJDAwc34GcL0AOSwIDwzRvoHH6n41NdBkYAF/iFeJ4bEa2AAAAAElFTkSuQmCC\n",
       "\" style=\"display:inline;vertical-align:middle;\" /></a> : <a class=\"ProveItLink\" href=\"../../../../../../__pv_it/common/a9162d1c3cc0470c02e5daf414500903a7a419230/expr.ipynb\"><img src=\"data:image/png;base64,iVBORw0KGgoAAAANSUhEUgAAABAAAAAOBAMAAADUAYG5AAAAMFBMVEX///8AAAAAAAAAAAAAAAAA\n",
       "AAAAAAAAAAAAAAAAAAAAAAAAAAAAAAAAAAAAAAAAAAAv3aB7AAAAD3RSTlMAZrurzTLvInZEmRDd\n",
       "VIkafcLnAAAACXBIWXMAAA7EAAAOxAGVKw4bAAAAb0lEQVQI12NgYBD6b2zsFMAABEkMDMxfgTT7\n",
       "DwYGzl9ABiOQxwjkMDB/YGBgSQcy2BQYuG1AiuM1OkwEQJr6Cxh4E0EMNSB+D5L6DMTyDQwMrB+B\n",
       "DPsJDAwc34GcL0AOSwIDwzRvoHH6n41NdBkYAF/iFeJ4bEa2AAAAAElFTkSuQmCC\n",
       "\" style=\"display:inline;vertical-align:middle;\" /></a></span></td></tr><tr><td><a name=\"0xf07a7e175de6c2b_step7\">7</a></td><td>axiom</td><td></td><td><span style=\"font-size:20px;\"> <a class=\"ProveItLink\" href=\"../../axioms.ipynb#proper_subset_def\" style=\"text-decoration: none\">&nbsp;&#x22A2;&nbsp;&nbsp;</a><a class=\"ProveItLink\" href=\"../../../__pv_it/axioms/62d68349fdc6e5e10115b34eb80d97b83bd304d20/expr.ipynb\"><img src=\"data:image/png;base64,iVBORw0KGgoAAAANSUhEUgAAAWsAAAAWBAMAAAD0o6DgAAAAMFBMVEX///8AAAAAAAAAAAAAAAAA\n",
       "AAAAAAAAAAAAAAAAAAAAAAAAAAAAAAAAAAAAAAAAAAAv3aB7AAAAD3RSTlMAq1RmmUTNIjK7EInv\n",
       "3XZ/CtNrAAAACXBIWXMAAA7EAAAOxAGVKw4bAAAECUlEQVRIx9VXS2hTQRS9Sdp8XkzaghV1k4Ai\n",
       "iBWzKAURteIHSxcWBREVjYqItWDdCKL240Jwoe1CUERt3AhdVFI3XXRhLFT8G/xgFYPRLqQgbf3V\n",
       "H1rvfN6beTPvJaV044WTl7w7Z96dM3fuuwEoaM0cBSwwY7wATC2YIhMDROMMaEfdxpTmZ4r3vtAi\n",
       "kwC7QKCc3FzgMngJB9phzenr+lQx5yLA8AzxvGnhkwWm5h9HIRIC68nNA85RG0kGMuek7p7VCRBr\n",
       "A39qKryRXC435MgLs22B65JP0pjZMgwbGgXaibfTOeySBAP5GtMzqhW3eXct+GqnwDv9wZXXw2Nb\n",
       "K/nQtk7kIdRmZtKa7/hRLUDWbK5Xk5MDre9Wm6baary1Gue9X5xnvJTcCm+4kl0zsg+Cz05dblho\n",
       "cEHDx3+QOVMWfKiK3yW1F3HgfuTH2NJO9wl3DNGEYu4rzvM0gCsve4alU1L2gacZSl8NLuW8luhn\n",
       "kuAJgUe53AOXsOs5cK9hWUJT7R7ANSJ8b3GeTRg7z5v20zwqScs+iBLWk72cUuv9QjQvF9gIcIm6\n",
       "tJNF5WCSbIaOtKpa8OfoO+qtoU/NUSt35rWDGw/8zV6ay0RC4bMXz9J48DepQUmBIxCgzzLu0hFn\n",
       "vvbXmSf5KQeuFlrLVdWieEqqyLOq1OXqvCPuPFzRa3KNxGUftUrrjEPgE9mYjEAoFaYShj+zqpqF\n",
       "aIaPHuSA6Pl1sU5VtRAOC5OT0qGGrfMi7ry5AKP0HDfIPqqxVeBG1q35SfZiXMCbZxJue0wvHqxM\n",
       "4+rjbwCUZVXVylBH31/8stM1bItXknDjkfreY4Vt+UjSvTWTzsDS8oesIyMAyVV0tvweVrzi0JNQ\n",
       "NxuTL5JRVevAYZ5v+GWpmts6D/a78UjxLYmbSWL5iK0QOQLwhiRJVgBuNrKTu4G9C4ar55rDr3KU\n",
       "Jtjb1a7aGBaADlK1lqtq6zy4Vply5kXMl2EoL/toZTQZW3iT4OsUgBNUoW3wkQ5ZCcZsc3gvxwky\n",
       "63dVtSaM607KqnWSOfBgxxXzNWXn0a2+yKub8JEbpkQBsmFdzaxGmgAPLRz1/TE6HGNuNavcWYbu\n",
       "yUbwdk3QStZtqTZvsqLiIH2XvFDDduAJU3jzycc5ct6ysg+T7iFPOqNrIgWLJw/hzjQI8KqE0dLw\n",
       "B7AnMAtgpI1BNqGa1e9k1bCdeA69qMIbUvyVGuOkBCt9yuJGGgK/wHhutZi14NAoOTVOSms6LV61\n",
       "/WdQ7+/WSmBT3AZj0/7gANT87q8TjdUFjoJ2TL+l8VidGSrIC9l7zJC2XaRRNWHv1JXf3RwFzWFd\n",
       "0+IZ9miCGoGsy4TNtqvryzMU/OPm8NdueryWIuv8IMFmCfhP7B+IqWtlplTDXAAAAABJRU5ErkJg\n",
       "gg==\n",
       "\" style=\"display:inline;vertical-align:middle;\" /></a></span></td></tr>\n",
       "<tr><td>&nbsp;</td><td colspan=4 style-\"text-align:left\"><a class=\"ProveItLink\" href=\"../../axioms.ipynb#proper_subset_def\">proveit.logic.sets.inclusion.proper_subset_def</a></td></tr></table>"
      ],
      "text/plain": [
       "\tstep type\trequirements\tstatement\n",
       "0\tgeneralization\t1\t|- forall_{A, B | A proper_subset B} (A subset_eq B)\n",
       "1\tinstantiation\t2, 3\t{A proper_subset B} |- A subset_eq B\n",
       "\tA : A subset_eq B, B : B not_equiv A\n",
       "2\ttheorem\t\t|- forall_{A, B | A, B} A\n",
       "\tproveit.logic.booleans.conjunction.left_from_and\n",
       "3\tinstantiation\t4, 5, 6\t{A proper_subset B} |- (A subset_eq B) and (B not_equiv A)\n",
       "\tP : A proper_subset B, Q : (A subset_eq B) and (B not_equiv A)\n",
       "4\ttheorem\t\t|- forall_{P, Q | P, P = Q} Q\n",
       "\tproveit.logic.equality.rhs_via_equality\n",
       "5\tassumption\t\t{A proper_subset B} |- A proper_subset B\n",
       "6\tinstantiation\t7\t|- (A proper_subset B) = ((A subset_eq B) and (B not_equiv A))\n",
       "\tA : A, B : B\n",
       "7\taxiom\t\t|- forall_{A, B} ((A proper_subset B) = ((A subset_eq B) and (B not_equiv A)))\n",
       "\tproveit.logic.sets.inclusion.proper_subset_def"
      ]
     },
     "execution_count": 6,
     "metadata": {},
     "output_type": "execute_result"
    }
   ],
   "source": [
    "%qed"
   ]
  },
  {
   "cell_type": "code",
   "execution_count": null,
   "metadata": {},
   "outputs": [],
   "source": []
  }
 ],
 "metadata": {
  "kernelspec": {
   "display_name": "Python 3",
   "language": "python",
   "name": "python3"
  }
 },
 "nbformat": 4,
 "nbformat_minor": 0
}