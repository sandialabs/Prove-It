{
 "cells": [
  {
   "cell_type": "markdown",
   "metadata": {},
   "source": [
    "Proof of <a class=\"ProveItLink\" href=\"../../../../../../_theory_nbs_/theory.ipynb\">proveit</a>.<a class=\"ProveItLink\" href=\"../../../../../_theory_nbs_/theory.ipynb\">logic</a>.<a class=\"ProveItLink\" href=\"../../../../_theory_nbs_/theory.ipynb\">sets</a>.<a class=\"ProveItLink\" href=\"../../theory.ipynb\">inclusion</a>.<a class=\"ProveItLink\" href=\"../../theorems.ipynb#fold_proper_subset\">fold_proper_subset</a> theorem\n",
    "========"
   ]
  },
  {
   "cell_type": "code",
   "execution_count": 1,
   "metadata": {},
   "outputs": [],
   "source": [
    "import proveit\n",
    "from proveit import A, B\n",
    "from proveit.logic.sets.inclusion  import proper_subset_def\n",
    "theory = proveit.Theory() # the theorem's theory"
   ]
  },
  {
   "cell_type": "code",
   "execution_count": 2,
   "metadata": {},
   "outputs": [
    {
     "data": {
      "text/html": [
       "With these <a href=\"allowed_presumptions.txt\">allowed</a>/<a href=\"disallowed_presumptions.txt\">disallowed</a> theorem/theory presumptions (e.g., to avoid circular dependencies), we begin our proof of<br><strong id=\"fold_proper_subset\">fold_proper_subset:</strong> <a class=\"ProveItLink\" href=\"../../../__pv_it/theorems/92322000b0844817fc296dfbf1c4a73ba9e414460/expr.ipynb\"><img src=\"data:image/png;base64,iVBORw0KGgoAAAANSUhEUgAAAOUAAAAZBAMAAAA8t/RHAAAAMFBMVEX///8AAAAAAAAAAAAAAAAA\n",
       "AAAAAAAAAAAAAAAAAAAAAAAAAAAAAAAAAAAAAAAAAAAv3aB7AAAAD3RSTlMAq1RmmUTNIjK7EInv\n",
       "3XZ/CtNrAAAACXBIWXMAAA7EAAAOxAGVKw4bAAADI0lEQVRIx71WX0hTURz+tnu3u93ZmmDSQ+Go\n",
       "p54aNIIKa9IfEoNGvohFGRGRPrieLbeglyDIgsAb5SZEEGRY2EPsQbOHkqiEeuihxaiHCKK0zKZS\n",
       "9jvn3D9nDpnEpR9cz78Pv3O+33d+Z4DLoVVZT8H9+CCYO5ZbP0pfhHU2ukbpHeaNf6piZdtibe3p\n",
       "DMIxYC8bn3KN87ZoNldyYgLwlIBO4DxTos81zt2iafpVmeg/gG8GiJMKOSAUdY1zjP8N9ZTEMHyz\n",
       "UChkeFehKYV4a3JQSF+/e+kU3ukNf+dtoMuxqYfk9j+ljwhfFArPXeNUhYUS3h+8HZJuRk0f9PV0\n",
       "5BC5dj9w3TVOdghKWzSwwIdrpKXLA1/r2apCUpyBFnGNcxV3hgptmg/lW/otBe8TJj+lPJgLJflk\n",
       "bolMVkevTmVDavi/+rynaY6nUz7MDfpGSdsA5dVbFBbSn/Hm4ky+mRstaIHvsiQYhpFCINsy0l+O\n",
       "UlMWxOHUi8Bvfj1kTnbyXbTiY9bu2Cn8LaymTCI8VsY5GoV+TXQbgS8Sat17XFBMiKQtU+gdH046\n",
       "lAHmqgbakpdNPujkk20vhaUTUKZkTt+lIoKm/+poqw5K3X7vRP8OEyIiyDqt9HXLFYLfVKoSgVm2\n",
       "XVaAzgoFiseFOlEMxWTOsD+CHrM/Dv21g6Ij3nmVMCEi2EXQmExZvkt/0nE0zR7ptK6ThycjjH18\n",
       "Lf0xvhYyZ1HtwAarfG1pypSh/DbEVHASenY2h02LXdwjV9qtipCdrq2/yuV39tFmZqoRep3M6ctQ\n",
       "4lphZXEwUYZ6aEPMeFtuaN8ju/ZZcc7ptuQbcmbK0kmJU83fn8cgrCxqP2GjyMxzxoAJMSO+0leA\n",
       "S4t0RqQMx+S7UoRWsh4ByqKvBAnlSdkQy0TVfgdIbxiptzqqD0Obh/5G0tZHfqJL1MK3kc5hKAEJ\n",
       "dViCmNWh2rPobEp9DP3gycA4ti7km6MS54EIbs0mKS9UE5Tu/AjZwEaFjAmDtDUhZvRW4fxU8RTJ\n",
       "G1r+wbI6SsyFEt2+Ik4b5cq7G1uG02PwersUdeh//1D99/gL/XzS1aKd+MAAAAAASUVORK5CYII=\n",
       "\" style=\"display:inline;vertical-align:middle;\" /></a><br>(see <a class=\"ProveItLink\" href=\"../../../__pv_it/theorems/936e9d85b314a7f1dbc5aea0354eae229b3042c00/dependencies.ipynb\">dependencies</a>)<br>"
      ],
      "text/plain": [
       "<IPython.core.display.HTML object>"
      ]
     },
     "metadata": {},
     "output_type": "display_data"
    }
   ],
   "source": [
    "%proving fold_proper_subset"
   ]
  },
  {
   "cell_type": "code",
   "execution_count": 3,
   "metadata": {},
   "outputs": [
    {
     "data": {
      "text/html": [
       "<span style=\"font-size:20px;\"> <a class=\"ProveItLink\" href=\"../../axioms.ipynb#proper_subset_def\" style=\"text-decoration: none\">&nbsp;&#x22A2;&nbsp;&nbsp;</a><a class=\"ProveItLink\" href=\"../../../__pv_it/axioms/62d68349fdc6e5e10115b34eb80d97b83bd304d20/expr.ipynb\"><img src=\"data:image/png;base64,iVBORw0KGgoAAAANSUhEUgAAAWsAAAAWBAMAAAD0o6DgAAAAMFBMVEX///8AAAAAAAAAAAAAAAAA\n",
       "AAAAAAAAAAAAAAAAAAAAAAAAAAAAAAAAAAAAAAAAAAAv3aB7AAAAD3RSTlMAq1RmmUTNIjK7EInv\n",
       "3XZ/CtNrAAAACXBIWXMAAA7EAAAOxAGVKw4bAAAECUlEQVRIx9VXS2hTQRS9Sdp8XkzaghV1k4Ai\n",
       "iBWzKAURteIHSxcWBREVjYqItWDdCKL240Jwoe1CUERt3AhdVFI3XXRhLFT8G/xgFYPRLqQgbf3V\n",
       "H1rvfN6beTPvJaV044WTl7w7Z96dM3fuuwEoaM0cBSwwY7wATC2YIhMDROMMaEfdxpTmZ4r3vtAi\n",
       "kwC7QKCc3FzgMngJB9phzenr+lQx5yLA8AzxvGnhkwWm5h9HIRIC68nNA85RG0kGMuek7p7VCRBr\n",
       "A39qKryRXC435MgLs22B65JP0pjZMgwbGgXaibfTOeySBAP5GtMzqhW3eXct+GqnwDv9wZXXw2Nb\n",
       "K/nQtk7kIdRmZtKa7/hRLUDWbK5Xk5MDre9Wm6baary1Gue9X5xnvJTcCm+4kl0zsg+Cz05dblho\n",
       "cEHDx3+QOVMWfKiK3yW1F3HgfuTH2NJO9wl3DNGEYu4rzvM0gCsve4alU1L2gacZSl8NLuW8luhn\n",
       "kuAJgUe53AOXsOs5cK9hWUJT7R7ANSJ8b3GeTRg7z5v20zwqScs+iBLWk72cUuv9QjQvF9gIcIm6\n",
       "tJNF5WCSbIaOtKpa8OfoO+qtoU/NUSt35rWDGw/8zV6ay0RC4bMXz9J48DepQUmBIxCgzzLu0hFn\n",
       "vvbXmSf5KQeuFlrLVdWieEqqyLOq1OXqvCPuPFzRa3KNxGUftUrrjEPgE9mYjEAoFaYShj+zqpqF\n",
       "aIaPHuSA6Pl1sU5VtRAOC5OT0qGGrfMi7ry5AKP0HDfIPqqxVeBG1q35SfZiXMCbZxJue0wvHqxM\n",
       "4+rjbwCUZVXVylBH31/8stM1bItXknDjkfreY4Vt+UjSvTWTzsDS8oesIyMAyVV0tvweVrzi0JNQ\n",
       "NxuTL5JRVevAYZ5v+GWpmts6D/a78UjxLYmbSWL5iK0QOQLwhiRJVgBuNrKTu4G9C4ar55rDr3KU\n",
       "Jtjb1a7aGBaADlK1lqtq6zy4Vply5kXMl2EoL/toZTQZW3iT4OsUgBNUoW3wkQ5ZCcZsc3gvxwky\n",
       "63dVtSaM607KqnWSOfBgxxXzNWXn0a2+yKub8JEbpkQBsmFdzaxGmgAPLRz1/TE6HGNuNavcWYbu\n",
       "yUbwdk3QStZtqTZvsqLiIH2XvFDDduAJU3jzycc5ct6ysg+T7iFPOqNrIgWLJw/hzjQI8KqE0dLw\n",
       "B7AnMAtgpI1BNqGa1e9k1bCdeA69qMIbUvyVGuOkBCt9yuJGGgK/wHhutZi14NAoOTVOSms6LV61\n",
       "/WdQ7+/WSmBT3AZj0/7gANT87q8TjdUFjoJ2TL+l8VidGSrIC9l7zJC2XaRRNWHv1JXf3RwFzWFd\n",
       "0+IZ9miCGoGsy4TNtqvryzMU/OPm8NdueryWIuv8IMFmCfhP7B+IqWtlplTDXAAAAABJRU5ErkJg\n",
       "gg==\n",
       "\" style=\"display:inline;vertical-align:middle;\" /></a></span>"
      ],
      "text/plain": [
       "|- forall_{A, B} ((A proper_subset B) = ((A subset_eq B) and (B not_equiv A)))"
      ]
     },
     "metadata": {},
     "output_type": "display_data"
    }
   ],
   "source": [
    "# pull in the proper subset definition\n",
    "proper_subset_def"
   ]
  },
  {
   "cell_type": "code",
   "execution_count": 4,
   "metadata": {},
   "outputs": [
    {
     "data": {
      "text/html": [
       "<strong id=\"proper_subset_def_inst\">proper_subset_def_inst:</strong> <span style=\"font-size:20px;\"> <a class=\"ProveItLink\" href=\"../../../__pv_it/_proof_fold_proper_subset/4f81c4c71c6c74bd78e89ec387a22c509f0036850/proof.ipynb\" style=\"text-decoration: none\">&nbsp;&#x22A2;&nbsp;&nbsp;</a><a class=\"ProveItLink\" href=\"../../../__pv_it/axioms/ad04c935a9937d25424e398107a2245106b61c5e0/expr.ipynb\"><img src=\"data:image/png;base64,iVBORw0KGgoAAAANSUhEUgAAASMAAAAVBAMAAAD/WpUaAAAAMFBMVEX///8AAAAAAAAAAAAAAAAA\n",
       "AAAAAAAAAAAAAAAAAAAAAAAAAAAAAAAAAAAAAAAAAAAv3aB7AAAAD3RSTlMAInZUiRDNmWbv3US7\n",
       "qzJazP2FAAAACXBIWXMAAA7EAAAOxAGVKw4bAAADPElEQVRIx52Wz2sTQRTHX35t0jRNg4eCojTW\n",
       "Sw9KcyiV9mL6BxSDBw8lhYAULArmUNBjELEXobkoSAUjRZAoNagInkx7ET3YXPQSa4JCD0VJ66EX\n",
       "f9T3ZnZnJ293E5qByW7mzee77735CQAJ6Fh8bo0J6IHzQXdCiPpT4v+QV8f+pLONmMNzpzr5MySJ\n",
       "F/Q+LpuuOTpFNv9uff4IMOrkx3vhAmnbpmfb1kHCXwAI5WT/A+eH+6oAjSYYGW4ghnOny+XymisX\n",
       "lOmEi5rNGqqc8pd0iJgHCBdEU7jhnBrDmMi3eYjkuYEYxm2f9ORmze/e0GxYXu8nIda0RlfoELGE\n",
       "bsum6fNNR7TL2LSMzF1H+oBzoUeamXGjdfks6jaIP/n+vnI2VAVdB4m+DEzIDCbHZHq3p23pBtYF\n",
       "dP4yd2nCrDY3UAFPrvRDDk1Ot8FAAvqfrUyZnKmDhFGARZk3OFdwRPsAYI4SNsNdWjSrzRngyQXS\n",
       "hhjbcFq3gZ+oh5escZM6SARrZigvoZXm0cb/jJwR1tsCKotSAxkM436CFwdGIiDmjlHQbWwDMXWQ\n",
       "iORgVTTlYbjGo/XvAUySziTP0qpZbe6EN4fePqZnNKXbRKkrxtRBIlCEFaHy7nqjyqON4XwM/sOX\n",
       "Fndpxaw2F/XmvgKMiDVR0W1iM62qKEwdJOK7UvoCwGCJRzuIfkd+4csbT5cUFy54cbR/zSqXlI0m\n",
       "wnNrIigdJPqLcgBwsKNFHm0LPzPwG1+m+FxSA6c4uOLF0UYZTlkDp2xUbmnjJnWQCJRggzKIHY1d\n",
       "Hu0YLpQWrdw7PEsbZrU5mKtn3LmotUnHkrpN7A7qOLR0kIhUxUo9SsQej3YB+97LqPWulRmzahy8\n",
       "+mBtse3cTfqhUy1Y023UoMJXOotir9gByB7MQ2BzX6zmrIr2y8HW1lWxDz7lLu3IqnN2Ydwn+vlG\n",
       "67+k23Ai3Lcmgq2DRLQC0Wa7oh2tOhtL3CViOOdy/WHcGrPXXYlj4HKouh2y7PqR74Vbav8br7oS\n",
       "dDivd5M+7mxa55xcj2sduVj7XSPWdPuSjxzNdnPJxedsL1yoPS1xV0L47Ut2Vva73LGJOTx3BLoT\n",
       "eO36D4UHK4KXk9XkAAAAAElFTkSuQmCC\n",
       "\" style=\"display:inline;vertical-align:middle;\" /></a></span><br>"
      ],
      "text/plain": [
       "<IPython.core.display.HTML object>"
      ]
     },
     "metadata": {},
     "output_type": "display_data"
    }
   ],
   "source": [
    "proper_subset_def_inst = proper_subset_def.instantiate()"
   ]
  },
  {
   "cell_type": "code",
   "execution_count": 5,
   "metadata": {},
   "outputs": [
    {
     "data": {
      "text/html": [
       "<strong id=\"proper_subset_def_inst_derive_left\">proper_subset_def_inst_derive_left:</strong> <span style=\"font-size:20px;\"><a class=\"ProveItLink\" href=\"../../../__pv_it/axioms/645ab94911b55be4e820c4430a5b89d3b6f479bc0/expr.ipynb\"><img src=\"data:image/png;base64,iVBORw0KGgoAAAANSUhEUgAAAKwAAAAVBAMAAAAp2hhWAAAAMFBMVEX///8AAAAAAAAAAAAAAAAA\n",
       "AAAAAAAAAAAAAAAAAAAAAAAAAAAAAAAAAAAAAAAAAAAv3aB7AAAAD3RSTlMAInZUiRDNmWbv3US7\n",
       "qzJazP2FAAAACXBIWXMAAA7EAAAOxAGVKw4bAAACmElEQVQ4y41Vz2sTQRT+mh+bNE3S4KEgKI31\n",
       "0oPSHERJLsY/oFg8eCgtBERoUTCHgh6DSL0U6qUFqWBEBNlKDShCT6ZeRA+2F73EmKDgQZRYD734\n",
       "I755M7M7u0mTDuzuvPne+2beN29mAaTQsw0cYKQLHshwf2Q/p6G0f+R4L84RFXFKmtc6HKLbf+sf\n",
       "3gHjvvFg3sV0czMWPBQRLkjftho+Ydv2huwOVoFGE9aUNEMyLVw0MJ12wZlT8FBEpMRmpCEn/HrM\n",
       "XcIoJfOyiGhRmtMq9oaBUXuxl0a8qZViHooYlOa58zx1+IGR7TINLZP/ijTHa/J7x8SQfPzlTeVM\n",
       "uAqTZwWnZRbpCU4xUTFoG/TM0+Rz0ix/l2kWTAyJFIaerOVUnOKZw4JcO86yGJa5N/eAWSHzpNop\n",
       "i3WK5E0MARF1/5LWQPJMqqU8Q4u9fxisyT9jJxldZNNKBVlLq2RivuJUPIt4yGYRozvie9SgDewC\n",
       "WcGRhZrxkfjGMibGrebEKJ4s1pjh9fUGix4zaOO0N6F/1Gmx+QkY49KqmBgfmKqzEsXTkrQXgOEy\n",
       "a1NyaYdp3ugv6mxyjdBOTTu0DoaIbT+lUudcHZ5NKQKJFuO6wRWXtkVTJH5TJ6cPQySjRXAw0W4Z\n",
       "GkieHF6JLMjJ+snAbG1K+0zQxrdENS1pefgwxdMmxpXnXB+aZ4mr57Dw3pXQ87f68M6T36qYhGvw\n",
       "pniJWyC0Y2JiwBHO4VnAN2CmfRnB7b2890b52K7Xr/IZWRev9+L1WdRW2cRI27u20tblWUesiX7X\n",
       "Z9lrb/jwWrcIfZHs38zqEO2210xWu0ZseQZEQrZ3PUd8QXHv7yTema6ImOm32i2fHfYuL9k9YiDd\n",
       "mzXQ8a87hL4R/wFSTb1ZCJMi8gAAAABJRU5ErkJggg==\n",
       "\" style=\"display:inline;vertical-align:middle;\" /></a> <a class=\"ProveItLink\" href=\"../../../__pv_it/_proof_fold_proper_subset/213ca1c9ab3243ea124ec2242b50b77fb123d39b0/proof.ipynb\" style=\"text-decoration: none\">&nbsp;&#x22A2;&nbsp;&nbsp;</a><a class=\"ProveItLink\" href=\"../../../__pv_it/axioms/4fcb3ae92330d8963f99abe44b7ac51675d7edc40/expr.ipynb\"><img src=\"data:image/png;base64,iVBORw0KGgoAAAANSUhEUgAAADsAAAAQBAMAAABaYBp1AAAAMFBMVEX///8AAAAAAAAAAAAAAAAA\n",
       "AAAAAAAAAAAAAAAAAAAAAAAAAAAAAAAAAAAAAAAAAAAv3aB7AAAAD3RSTlMAIs1UmauJMnZmRLsQ\n",
       "3e++988cAAAACXBIWXMAAA7EAAAOxAGVKw4bAAAA+ElEQVQY02NgAAEhBrxAH0OEc//X0KDtEDbz\n",
       "f0wdfBsYGOILwEyWeAEMafkGBob1DmBmYj5EGUP33bt3r0OY84FC8xtALMaGfgOwUFEiQnc8EOuB\n",
       "DWVhsJ8AonkuIhn+moHhKMSgxQz1CSCadQFClv13R6smhOnAIB8AopmQNHN8ZGCwA5vJscUlfgOI\n",
       "UYokzf2AgYHtO4h1goGB/wKIIYokzQ80j/MHxGwG3gcgBi+SdD3QYNZfQAYXkMH0AeyDCQjpfqCf\n",
       "6hWADDmQTR/BYloIaT2gvkcHGBhO/9dhYN7/Ceyz01EHoLLR/0NDtQ3QA3rZXnigQgAAg3o6oFb0\n",
       "QFYAAAAASUVORK5CYII=\n",
       "\" style=\"display:inline;vertical-align:middle;\" /></a></span><br>"
      ],
      "text/plain": [
       "<IPython.core.display.HTML object>"
      ]
     },
     "metadata": {},
     "output_type": "display_data"
    }
   ],
   "source": [
    "proper_subset_def_inst_derive_left = proper_subset_def_inst.derive_left_via_equality(\n",
    "        assumptions=[proper_subset_def_inst.rhs])"
   ]
  },
  {
   "cell_type": "code",
   "execution_count": 6,
   "metadata": {},
   "outputs": [
    {
     "data": {
      "text/html": [
       "<span style=\"font-size:20px;\"> <a class=\"ProveItLink\" href=\"../../../__pv_it/_proof_fold_proper_subset/90582297c4256789e2876201bd78ab0c7edd59140/proof.ipynb\" style=\"text-decoration: none\">&nbsp;&#x22A2;&nbsp;&nbsp;</a><a class=\"ProveItLink\" href=\"../../../__pv_it/theorems/92322000b0844817fc296dfbf1c4a73ba9e414460/expr.ipynb\"><img src=\"data:image/png;base64,iVBORw0KGgoAAAANSUhEUgAAAOUAAAAZBAMAAAA8t/RHAAAAMFBMVEX///8AAAAAAAAAAAAAAAAA\n",
       "AAAAAAAAAAAAAAAAAAAAAAAAAAAAAAAAAAAAAAAAAAAv3aB7AAAAD3RSTlMAq1RmmUTNIjK7EInv\n",
       "3XZ/CtNrAAAACXBIWXMAAA7EAAAOxAGVKw4bAAADI0lEQVRIx71WX0hTURz+tnu3u93ZmmDSQ+Go\n",
       "p54aNIIKa9IfEoNGvohFGRGRPrieLbeglyDIgsAb5SZEEGRY2EPsQbOHkqiEeuihxaiHCKK0zKZS\n",
       "9jvn3D9nDpnEpR9cz78Pv3O+33d+Z4DLoVVZT8H9+CCYO5ZbP0pfhHU2ukbpHeaNf6piZdtibe3p\n",
       "DMIxYC8bn3KN87ZoNldyYgLwlIBO4DxTos81zt2iafpVmeg/gG8GiJMKOSAUdY1zjP8N9ZTEMHyz\n",
       "UChkeFehKYV4a3JQSF+/e+kU3ukNf+dtoMuxqYfk9j+ljwhfFArPXeNUhYUS3h+8HZJuRk0f9PV0\n",
       "5BC5dj9w3TVOdghKWzSwwIdrpKXLA1/r2apCUpyBFnGNcxV3hgptmg/lW/otBe8TJj+lPJgLJflk\n",
       "bolMVkevTmVDavi/+rynaY6nUz7MDfpGSdsA5dVbFBbSn/Hm4ky+mRstaIHvsiQYhpFCINsy0l+O\n",
       "UlMWxOHUi8Bvfj1kTnbyXbTiY9bu2Cn8LaymTCI8VsY5GoV+TXQbgS8Sat17XFBMiKQtU+gdH046\n",
       "lAHmqgbakpdNPujkk20vhaUTUKZkTt+lIoKm/+poqw5K3X7vRP8OEyIiyDqt9HXLFYLfVKoSgVm2\n",
       "XVaAzgoFiseFOlEMxWTOsD+CHrM/Dv21g6Ij3nmVMCEi2EXQmExZvkt/0nE0zR7ptK6ThycjjH18\n",
       "Lf0xvhYyZ1HtwAarfG1pypSh/DbEVHASenY2h02LXdwjV9qtipCdrq2/yuV39tFmZqoRep3M6ctQ\n",
       "4lphZXEwUYZ6aEPMeFtuaN8ju/ZZcc7ptuQbcmbK0kmJU83fn8cgrCxqP2GjyMxzxoAJMSO+0leA\n",
       "S4t0RqQMx+S7UoRWsh4ByqKvBAnlSdkQy0TVfgdIbxiptzqqD0Obh/5G0tZHfqJL1MK3kc5hKAEJ\n",
       "dViCmNWh2rPobEp9DP3gycA4ti7km6MS54EIbs0mKS9UE5Tu/AjZwEaFjAmDtDUhZvRW4fxU8RTJ\n",
       "G1r+wbI6SsyFEt2+Ik4b5cq7G1uG02PwersUdeh//1D99/gL/XzS1aKd+MAAAAAASUVORK5CYII=\n",
       "\" style=\"display:inline;vertical-align:middle;\" /></a></span>"
      ],
      "text/plain": [
       "|- forall_{A, B | (A subset_eq B) and (B not_equiv A)} (A proper_subset B)"
      ]
     },
     "metadata": {},
     "output_type": "display_data"
    },
    {
     "name": "stdout",
     "output_type": "stream",
     "text": [
      "fold_proper_subset has been proven.  Now simply execute \"%qed\".\n"
     ]
    }
   ],
   "source": [
    "proper_subset_def_inst_derive_left.generalize(\n",
    "        [[A, B]], conditions=[*proper_subset_def_inst_derive_left.assumptions])"
   ]
  },
  {
   "cell_type": "code",
   "execution_count": 7,
   "metadata": {},
   "outputs": [
    {
     "name": "stdout",
     "output_type": "stream",
     "text": [
      "proveit.logic.sets.inclusion.fold_proper_subset has been proven.\n"
     ]
    },
    {
     "data": {
      "text/html": [
       "<table><tr><th>&nbsp;</th><th>step type</th><th>requirements</th><th>statement</th></tr>\n",
       "<tr><td><a name=\"-0x69196678c25c714b_step0\">0</a></td><td>generalization</td><td><a href=\"#-0x69196678c25c714b_step1\">1</a></td><td><span style=\"font-size:20px;\"> <a class=\"ProveItLink\" href=\"../../../__pv_it/_proof_fold_proper_subset/90582297c4256789e2876201bd78ab0c7edd59140/proof.ipynb\" style=\"text-decoration: none\">&nbsp;&#x22A2;&nbsp;&nbsp;</a><a class=\"ProveItLink\" href=\"../../../__pv_it/theorems/92322000b0844817fc296dfbf1c4a73ba9e414460/expr.ipynb\"><img src=\"data:image/png;base64,iVBORw0KGgoAAAANSUhEUgAAAOUAAAAZBAMAAAA8t/RHAAAAMFBMVEX///8AAAAAAAAAAAAAAAAA\n",
       "AAAAAAAAAAAAAAAAAAAAAAAAAAAAAAAAAAAAAAAAAAAv3aB7AAAAD3RSTlMAq1RmmUTNIjK7EInv\n",
       "3XZ/CtNrAAAACXBIWXMAAA7EAAAOxAGVKw4bAAADI0lEQVRIx71WX0hTURz+tnu3u93ZmmDSQ+Go\n",
       "p54aNIIKa9IfEoNGvohFGRGRPrieLbeglyDIgsAb5SZEEGRY2EPsQbOHkqiEeuihxaiHCKK0zKZS\n",
       "9jvn3D9nDpnEpR9cz78Pv3O+33d+Z4DLoVVZT8H9+CCYO5ZbP0pfhHU2ukbpHeaNf6piZdtibe3p\n",
       "DMIxYC8bn3KN87ZoNldyYgLwlIBO4DxTos81zt2iafpVmeg/gG8GiJMKOSAUdY1zjP8N9ZTEMHyz\n",
       "UChkeFehKYV4a3JQSF+/e+kU3ukNf+dtoMuxqYfk9j+ljwhfFArPXeNUhYUS3h+8HZJuRk0f9PV0\n",
       "5BC5dj9w3TVOdghKWzSwwIdrpKXLA1/r2apCUpyBFnGNcxV3hgptmg/lW/otBe8TJj+lPJgLJflk\n",
       "bolMVkevTmVDavi/+rynaY6nUz7MDfpGSdsA5dVbFBbSn/Hm4ky+mRstaIHvsiQYhpFCINsy0l+O\n",
       "UlMWxOHUi8Bvfj1kTnbyXbTiY9bu2Cn8LaymTCI8VsY5GoV+TXQbgS8Sat17XFBMiKQtU+gdH046\n",
       "lAHmqgbakpdNPujkk20vhaUTUKZkTt+lIoKm/+poqw5K3X7vRP8OEyIiyDqt9HXLFYLfVKoSgVm2\n",
       "XVaAzgoFiseFOlEMxWTOsD+CHrM/Dv21g6Ij3nmVMCEi2EXQmExZvkt/0nE0zR7ptK6ThycjjH18\n",
       "Lf0xvhYyZ1HtwAarfG1pypSh/DbEVHASenY2h02LXdwjV9qtipCdrq2/yuV39tFmZqoRep3M6ctQ\n",
       "4lphZXEwUYZ6aEPMeFtuaN8ju/ZZcc7ptuQbcmbK0kmJU83fn8cgrCxqP2GjyMxzxoAJMSO+0leA\n",
       "S4t0RqQMx+S7UoRWsh4ByqKvBAnlSdkQy0TVfgdIbxiptzqqD0Obh/5G0tZHfqJL1MK3kc5hKAEJ\n",
       "dViCmNWh2rPobEp9DP3gycA4ti7km6MS54EIbs0mKS9UE5Tu/AjZwEaFjAmDtDUhZvRW4fxU8RTJ\n",
       "G1r+wbI6SsyFEt2+Ik4b5cq7G1uG02PwersUdeh//1D99/gL/XzS1aKd+MAAAAAASUVORK5CYII=\n",
       "\" style=\"display:inline;vertical-align:middle;\" /></a></span></td></tr>\n",
       "<tr><td><a name=\"-0x69196678c25c714b_step1\">1</a></td><td>instantiation</td><td><a href=\"#-0x69196678c25c714b_step2\">2</a>, <a href=\"#-0x69196678c25c714b_step3\">3</a>, <a href=\"#-0x69196678c25c714b_step4\">4</a></td><td><span style=\"font-size:20px;\"><a class=\"ProveItLink\" href=\"../../../__pv_it/axioms/645ab94911b55be4e820c4430a5b89d3b6f479bc0/expr.ipynb\"><img src=\"data:image/png;base64,iVBORw0KGgoAAAANSUhEUgAAAKwAAAAVBAMAAAAp2hhWAAAAMFBMVEX///8AAAAAAAAAAAAAAAAA\n",
       "AAAAAAAAAAAAAAAAAAAAAAAAAAAAAAAAAAAAAAAAAAAv3aB7AAAAD3RSTlMAInZUiRDNmWbv3US7\n",
       "qzJazP2FAAAACXBIWXMAAA7EAAAOxAGVKw4bAAACmElEQVQ4y41Vz2sTQRT+mh+bNE3S4KEgKI31\n",
       "0oPSHERJLsY/oFg8eCgtBERoUTCHgh6DSL0U6qUFqWBEBNlKDShCT6ZeRA+2F73EmKDgQZRYD734\n",
       "I755M7M7u0mTDuzuvPne+2beN29mAaTQsw0cYKQLHshwf2Q/p6G0f+R4L84RFXFKmtc6HKLbf+sf\n",
       "3gHjvvFg3sV0czMWPBQRLkjftho+Ydv2huwOVoFGE9aUNEMyLVw0MJ12wZlT8FBEpMRmpCEn/HrM\n",
       "XcIoJfOyiGhRmtMq9oaBUXuxl0a8qZViHooYlOa58zx1+IGR7TINLZP/ijTHa/J7x8SQfPzlTeVM\n",
       "uAqTZwWnZRbpCU4xUTFoG/TM0+Rz0ix/l2kWTAyJFIaerOVUnOKZw4JcO86yGJa5N/eAWSHzpNop\n",
       "i3WK5E0MARF1/5LWQPJMqqU8Q4u9fxisyT9jJxldZNNKBVlLq2RivuJUPIt4yGYRozvie9SgDewC\n",
       "WcGRhZrxkfjGMibGrebEKJ4s1pjh9fUGix4zaOO0N6F/1Gmx+QkY49KqmBgfmKqzEsXTkrQXgOEy\n",
       "a1NyaYdp3ugv6mxyjdBOTTu0DoaIbT+lUudcHZ5NKQKJFuO6wRWXtkVTJH5TJ6cPQySjRXAw0W4Z\n",
       "GkieHF6JLMjJ+snAbG1K+0zQxrdENS1pefgwxdMmxpXnXB+aZ4mr57Dw3pXQ87f68M6T36qYhGvw\n",
       "pniJWyC0Y2JiwBHO4VnAN2CmfRnB7b2890b52K7Xr/IZWRev9+L1WdRW2cRI27u20tblWUesiX7X\n",
       "Z9lrb/jwWrcIfZHs38zqEO2210xWu0ZseQZEQrZ3PUd8QXHv7yTema6ImOm32i2fHfYuL9k9YiDd\n",
       "mzXQ8a87hL4R/wFSTb1ZCJMi8gAAAABJRU5ErkJggg==\n",
       "\" style=\"display:inline;vertical-align:middle;\" /></a> <a class=\"ProveItLink\" href=\"../../../__pv_it/_proof_fold_proper_subset/213ca1c9ab3243ea124ec2242b50b77fb123d39b0/proof.ipynb\" style=\"text-decoration: none\">&nbsp;&#x22A2;&nbsp;&nbsp;</a><a class=\"ProveItLink\" href=\"../../../__pv_it/axioms/4fcb3ae92330d8963f99abe44b7ac51675d7edc40/expr.ipynb\"><img src=\"data:image/png;base64,iVBORw0KGgoAAAANSUhEUgAAADsAAAAQBAMAAABaYBp1AAAAMFBMVEX///8AAAAAAAAAAAAAAAAA\n",
       "AAAAAAAAAAAAAAAAAAAAAAAAAAAAAAAAAAAAAAAAAAAv3aB7AAAAD3RSTlMAIs1UmauJMnZmRLsQ\n",
       "3e++988cAAAACXBIWXMAAA7EAAAOxAGVKw4bAAAA+ElEQVQY02NgAAEhBrxAH0OEc//X0KDtEDbz\n",
       "f0wdfBsYGOILwEyWeAEMafkGBob1DmBmYj5EGUP33bt3r0OY84FC8xtALMaGfgOwUFEiQnc8EOuB\n",
       "DWVhsJ8AonkuIhn+moHhKMSgxQz1CSCadQFClv13R6smhOnAIB8AopmQNHN8ZGCwA5vJscUlfgOI\n",
       "UYokzf2AgYHtO4h1goGB/wKIIYokzQ80j/MHxGwG3gcgBi+SdD3QYNZfQAYXkMH0AeyDCQjpfqCf\n",
       "6hWADDmQTR/BYloIaT2gvkcHGBhO/9dhYN7/Ceyz01EHoLLR/0NDtQ3QA3rZXnigQgAAg3o6oFb0\n",
       "QFYAAAAASUVORK5CYII=\n",
       "\" style=\"display:inline;vertical-align:middle;\" /></a></span></td></tr>\n",
       "<tr><td>&nbsp;</td><td colspan=4 style=\"text-align:left\"><span style=\"font-size:20px;\"><a class=\"ProveItLink\" href=\"../../../../../../__pv_it/common/de55da274ba0f49c86925fbf3828021c04d27faf0/expr.ipynb\"><img src=\"data:image/png;base64,iVBORw0KGgoAAAANSUhEUgAAABAAAAAOBAMAAADUAYG5AAAAMFBMVEX///8AAAAAAAAAAAAAAAAA\n",
       "AAAAAAAAAAAAAAAAAAAAAAAAAAAAAAAAAAAAAAAAAAAv3aB7AAAAD3RSTlMAdrurzZkQ7zJUiSLd\n",
       "ZkQEbk8lAAAACXBIWXMAAA7EAAAOxAGVKw4bAAAAWklEQVQI12NgYBD6r2zkmsAABF8YGJjKgDTH\n",
       "RwYGTiBmYPwBxL+ADKYPQAzkMPArMDD0CzCAiV0nQZrkrVbdA9EM+gxQ8AVKc/yCMhj/QRksHyA0\n",
       "q/4nkBkMAGrBE2oHiyZAAAAAAElFTkSuQmCC\n",
       "\" style=\"display:inline;vertical-align:middle;\" /></a> : <a class=\"ProveItLink\" href=\"../../../__pv_it/axioms/4fcb3ae92330d8963f99abe44b7ac51675d7edc40/expr.ipynb\"><img src=\"data:image/png;base64,iVBORw0KGgoAAAANSUhEUgAAADsAAAAQBAMAAABaYBp1AAAAMFBMVEX///8AAAAAAAAAAAAAAAAA\n",
       "AAAAAAAAAAAAAAAAAAAAAAAAAAAAAAAAAAAAAAAAAAAv3aB7AAAAD3RSTlMAIs1UmauJMnZmRLsQ\n",
       "3e++988cAAAACXBIWXMAAA7EAAAOxAGVKw4bAAAA+ElEQVQY02NgAAEhBrxAH0OEc//X0KDtEDbz\n",
       "f0wdfBsYGOILwEyWeAEMafkGBob1DmBmYj5EGUP33bt3r0OY84FC8xtALMaGfgOwUFEiQnc8EOuB\n",
       "DWVhsJ8AonkuIhn+moHhKMSgxQz1CSCadQFClv13R6smhOnAIB8AopmQNHN8ZGCwA5vJscUlfgOI\n",
       "UYokzf2AgYHtO4h1goGB/wKIIYokzQ80j/MHxGwG3gcgBi+SdD3QYNZfQAYXkMH0AeyDCQjpfqCf\n",
       "6hWADDmQTR/BYloIaT2gvkcHGBhO/9dhYN7/Ceyz01EHoLLR/0NDtQ3QA3rZXnigQgAAg3o6oFb0\n",
       "QFYAAAAASUVORK5CYII=\n",
       "\" style=\"display:inline;vertical-align:middle;\" /></a>, <a class=\"ProveItLink\" href=\"../../../../../../__pv_it/common/d72bb8b07403efe79afab564c36a28e21330e5f90/expr.ipynb\"><img src=\"data:image/png;base64,iVBORw0KGgoAAAANSUhEUgAAAA8AAAASBAMAAAB2sJk8AAAAMFBMVEX///8AAAAAAAAAAAAAAAAA\n",
       "AAAAAAAAAAAAAAAAAAAAAAAAAAAAAAAAAAAAAAAAAAAv3aB7AAAAD3RSTlMAIomZq2bNMhC7791E\n",
       "VHYkqjbgAAAACXBIWXMAAA7EAAAOxAGVKw4bAAAAgklEQVQI12NgYGBUVnJlAAG1AgaWBCDdNgFI\n",
       "LAbibJCoPwMD83cQQ7+AQR4kw2B/gMH+AoiRL8CwvwFIc/xiYPgFEmD9ysCwG8ToSgBp5LnAYCXA\n",
       "wFB/IVyUaSFQlG/hAyYXkAaGkknaBxgKwLZyHuATgDAcroFpBub/3yEM9l1AawBt/xzBtQnGvwAA\n",
       "AABJRU5ErkJggg==\n",
       "\" style=\"display:inline;vertical-align:middle;\" /></a> : <a class=\"ProveItLink\" href=\"../../../__pv_it/axioms/645ab94911b55be4e820c4430a5b89d3b6f479bc0/expr.ipynb\"><img src=\"data:image/png;base64,iVBORw0KGgoAAAANSUhEUgAAAKwAAAAVBAMAAAAp2hhWAAAAMFBMVEX///8AAAAAAAAAAAAAAAAA\n",
       "AAAAAAAAAAAAAAAAAAAAAAAAAAAAAAAAAAAAAAAAAAAv3aB7AAAAD3RSTlMAInZUiRDNmWbv3US7\n",
       "qzJazP2FAAAACXBIWXMAAA7EAAAOxAGVKw4bAAACmElEQVQ4y41Vz2sTQRT+mh+bNE3S4KEgKI31\n",
       "0oPSHERJLsY/oFg8eCgtBERoUTCHgh6DSL0U6qUFqWBEBNlKDShCT6ZeRA+2F73EmKDgQZRYD734\n",
       "I755M7M7u0mTDuzuvPne+2beN29mAaTQsw0cYKQLHshwf2Q/p6G0f+R4L84RFXFKmtc6HKLbf+sf\n",
       "3gHjvvFg3sV0czMWPBQRLkjftho+Ydv2huwOVoFGE9aUNEMyLVw0MJ12wZlT8FBEpMRmpCEn/HrM\n",
       "XcIoJfOyiGhRmtMq9oaBUXuxl0a8qZViHooYlOa58zx1+IGR7TINLZP/ijTHa/J7x8SQfPzlTeVM\n",
       "uAqTZwWnZRbpCU4xUTFoG/TM0+Rz0ix/l2kWTAyJFIaerOVUnOKZw4JcO86yGJa5N/eAWSHzpNop\n",
       "i3WK5E0MARF1/5LWQPJMqqU8Q4u9fxisyT9jJxldZNNKBVlLq2RivuJUPIt4yGYRozvie9SgDewC\n",
       "WcGRhZrxkfjGMibGrebEKJ4s1pjh9fUGix4zaOO0N6F/1Gmx+QkY49KqmBgfmKqzEsXTkrQXgOEy\n",
       "a1NyaYdp3ugv6mxyjdBOTTu0DoaIbT+lUudcHZ5NKQKJFuO6wRWXtkVTJH5TJ6cPQySjRXAw0W4Z\n",
       "GkieHF6JLMjJ+snAbG1K+0zQxrdENS1pefgwxdMmxpXnXB+aZ4mr57Dw3pXQ87f68M6T36qYhGvw\n",
       "pniJWyC0Y2JiwBHO4VnAN2CmfRnB7b2890b52K7Xr/IZWRev9+L1WdRW2cRI27u20tblWUesiX7X\n",
       "Z9lrb/jwWrcIfZHs38zqEO2210xWu0ZseQZEQrZ3PUd8QXHv7yTema6ImOm32i2fHfYuL9k9YiDd\n",
       "mzXQ8a87hL4R/wFSTb1ZCJMi8gAAAABJRU5ErkJggg==\n",
       "\" style=\"display:inline;vertical-align:middle;\" /></a></span></td></tr><tr><td><a name=\"-0x69196678c25c714b_step2\">2</a></td><td>theorem</td><td></td><td><span style=\"font-size:20px;\"> <a class=\"ProveItLink\" href=\"../../../../../equality/_theory_nbs_/proofs/lhs_via_equality/thm_proof.ipynb\" style=\"text-decoration: none\">&nbsp;&#x22A2;&nbsp;&nbsp;</a><a class=\"ProveItLink\" href=\"../../../../../equality/__pv_it/theorems/031640b4b39fda11207f722712c88a33cea8f6040/expr.ipynb\"><img src=\"data:image/png;base64,iVBORw0KGgoAAAANSUhEUgAAAIwAAAAVBAMAAABmhxuGAAAAMFBMVEX///8AAAAAAAAAAAAAAAAA\n",
       "AAAAAAAAAAAAAAAAAAAAAAAAAAAAAAAAAAAAAAAAAAAv3aB7AAAAD3RSTlMAq1RmmUTNIjK7EInv\n",
       "3XZ/CtNrAAAACXBIWXMAAA7EAAAOxAGVKw4bAAABx0lEQVQ4y6VUPUsDQRQck5gzRmOEoKiNYGeV\n",
       "xk4lFqJgk0owlYUgCELE0kC0sVXRRpu7XxBErBRBtFMUPzohEO1EiBH8Dqhv97L3NmdAjQ/23s7s\n",
       "7Oztvr1DGBRdqDpuP1faJiwMiv5k9TZ4BgJHWKCesVy9S90H4PmA3wKCndXbhF6pFeGNAv5/7ClQ\n",
       "oEZWJ9ns8T9smuhAlnLAMLBRYdj3SxuymLugPAODil5rjgy0CvouP2S/bEmm8NjjdnPSmaxY4L5j\n",
       "t0fqrWCcUh+wR2k0iVRSs3Gw9wzBM+XisIBZojw5ecIRMiZASt8y2zCuiSFUUFMcVl4bO8b7xfMA\n",
       "OAfS87RugW0YN3SiMVyawSzqispma0rcwHfMxIAW6gb32YZx2jIi8K1TrGosQk/KJiUW8Z7muymJ\n",
       "0vvDbMO4N39jqRnMwq82ipp58bDZQ1FC7YgZN2tFZtZnvuX08jdEZVpDApdawRkfyln2pph1R5rM\n",
       "6zeRms0sRjUbG9OA8aKJWeX+wMwdOvUDGAPX7YZmY2MauC1arGZVxfBQq41lym6xxB63UqkqRkKs\n",
       "9HBVZiNxwq1Uqooh9zsdL7OR+PtBlFQ/hvGn38UXqIeD+S1ymPUAAAAASUVORK5CYII=\n",
       "\" style=\"display:inline;vertical-align:middle;\" /></a></span></td></tr>\n",
       "<tr><td>&nbsp;</td><td colspan=4 style-\"text-align:left\"><a class=\"ProveItLink\" href=\"../../../../../equality/_theory_nbs_/proofs/lhs_via_equality/thm_proof.ipynb\">proveit.logic.equality.lhs_via_equality</a></td></tr><tr><td><a name=\"-0x69196678c25c714b_step3\">3</a></td><td>assumption</td><td></td><td><span style=\"font-size:20px;\"><a class=\"ProveItLink\" href=\"../../../__pv_it/axioms/645ab94911b55be4e820c4430a5b89d3b6f479bc0/expr.ipynb\"><img src=\"data:image/png;base64,iVBORw0KGgoAAAANSUhEUgAAAKwAAAAVBAMAAAAp2hhWAAAAMFBMVEX///8AAAAAAAAAAAAAAAAA\n",
       "AAAAAAAAAAAAAAAAAAAAAAAAAAAAAAAAAAAAAAAAAAAv3aB7AAAAD3RSTlMAInZUiRDNmWbv3US7\n",
       "qzJazP2FAAAACXBIWXMAAA7EAAAOxAGVKw4bAAACmElEQVQ4y41Vz2sTQRT+mh+bNE3S4KEgKI31\n",
       "0oPSHERJLsY/oFg8eCgtBERoUTCHgh6DSL0U6qUFqWBEBNlKDShCT6ZeRA+2F73EmKDgQZRYD734\n",
       "I755M7M7u0mTDuzuvPne+2beN29mAaTQsw0cYKQLHshwf2Q/p6G0f+R4L84RFXFKmtc6HKLbf+sf\n",
       "3gHjvvFg3sV0czMWPBQRLkjftho+Ydv2huwOVoFGE9aUNEMyLVw0MJ12wZlT8FBEpMRmpCEn/HrM\n",
       "XcIoJfOyiGhRmtMq9oaBUXuxl0a8qZViHooYlOa58zx1+IGR7TINLZP/ijTHa/J7x8SQfPzlTeVM\n",
       "uAqTZwWnZRbpCU4xUTFoG/TM0+Rz0ix/l2kWTAyJFIaerOVUnOKZw4JcO86yGJa5N/eAWSHzpNop\n",
       "i3WK5E0MARF1/5LWQPJMqqU8Q4u9fxisyT9jJxldZNNKBVlLq2RivuJUPIt4yGYRozvie9SgDewC\n",
       "WcGRhZrxkfjGMibGrebEKJ4s1pjh9fUGix4zaOO0N6F/1Gmx+QkY49KqmBgfmKqzEsXTkrQXgOEy\n",
       "a1NyaYdp3ugv6mxyjdBOTTu0DoaIbT+lUudcHZ5NKQKJFuO6wRWXtkVTJH5TJ6cPQySjRXAw0W4Z\n",
       "GkieHF6JLMjJ+snAbG1K+0zQxrdENS1pefgwxdMmxpXnXB+aZ4mr57Dw3pXQ87f68M6T36qYhGvw\n",
       "pniJWyC0Y2JiwBHO4VnAN2CmfRnB7b2890b52K7Xr/IZWRev9+L1WdRW2cRI27u20tblWUesiX7X\n",
       "Z9lrb/jwWrcIfZHs38zqEO2210xWu0ZseQZEQrZ3PUd8QXHv7yTema6ImOm32i2fHfYuL9k9YiDd\n",
       "mzXQ8a87hL4R/wFSTb1ZCJMi8gAAAABJRU5ErkJggg==\n",
       "\" style=\"display:inline;vertical-align:middle;\" /></a> <a class=\"ProveItLink\" href=\"../../../__pv_it/_proof_fold_proper_subset/c8049a9415402178adf5de6ee94656eb60fb537b0/proof.ipynb\" style=\"text-decoration: none\">&nbsp;&#x22A2;&nbsp;&nbsp;</a><a class=\"ProveItLink\" href=\"../../../__pv_it/axioms/645ab94911b55be4e820c4430a5b89d3b6f479bc0/expr.ipynb\"><img src=\"data:image/png;base64,iVBORw0KGgoAAAANSUhEUgAAAKwAAAAVBAMAAAAp2hhWAAAAMFBMVEX///8AAAAAAAAAAAAAAAAA\n",
       "AAAAAAAAAAAAAAAAAAAAAAAAAAAAAAAAAAAAAAAAAAAv3aB7AAAAD3RSTlMAInZUiRDNmWbv3US7\n",
       "qzJazP2FAAAACXBIWXMAAA7EAAAOxAGVKw4bAAACmElEQVQ4y41Vz2sTQRT+mh+bNE3S4KEgKI31\n",
       "0oPSHERJLsY/oFg8eCgtBERoUTCHgh6DSL0U6qUFqWBEBNlKDShCT6ZeRA+2F73EmKDgQZRYD734\n",
       "I755M7M7u0mTDuzuvPne+2beN29mAaTQsw0cYKQLHshwf2Q/p6G0f+R4L84RFXFKmtc6HKLbf+sf\n",
       "3gHjvvFg3sV0czMWPBQRLkjftho+Ydv2huwOVoFGE9aUNEMyLVw0MJ12wZlT8FBEpMRmpCEn/HrM\n",
       "XcIoJfOyiGhRmtMq9oaBUXuxl0a8qZViHooYlOa58zx1+IGR7TINLZP/ijTHa/J7x8SQfPzlTeVM\n",
       "uAqTZwWnZRbpCU4xUTFoG/TM0+Rz0ix/l2kWTAyJFIaerOVUnOKZw4JcO86yGJa5N/eAWSHzpNop\n",
       "i3WK5E0MARF1/5LWQPJMqqU8Q4u9fxisyT9jJxldZNNKBVlLq2RivuJUPIt4yGYRozvie9SgDewC\n",
       "WcGRhZrxkfjGMibGrebEKJ4s1pjh9fUGix4zaOO0N6F/1Gmx+QkY49KqmBgfmKqzEsXTkrQXgOEy\n",
       "a1NyaYdp3ugv6mxyjdBOTTu0DoaIbT+lUudcHZ5NKQKJFuO6wRWXtkVTJH5TJ6cPQySjRXAw0W4Z\n",
       "GkieHF6JLMjJ+snAbG1K+0zQxrdENS1pefgwxdMmxpXnXB+aZ4mr57Dw3pXQ87f68M6T36qYhGvw\n",
       "pniJWyC0Y2JiwBHO4VnAN2CmfRnB7b2890b52K7Xr/IZWRev9+L1WdRW2cRI27u20tblWUesiX7X\n",
       "Z9lrb/jwWrcIfZHs38zqEO2210xWu0ZseQZEQrZ3PUd8QXHv7yTema6ImOm32i2fHfYuL9k9YiDd\n",
       "mzXQ8a87hL4R/wFSTb1ZCJMi8gAAAABJRU5ErkJggg==\n",
       "\" style=\"display:inline;vertical-align:middle;\" /></a></span></td></tr>\n",
       "<tr><td><a name=\"-0x69196678c25c714b_step4\">4</a></td><td>instantiation</td><td><a href=\"#-0x69196678c25c714b_step5\">5</a></td><td><span style=\"font-size:20px;\"> <a class=\"ProveItLink\" href=\"../../../__pv_it/_proof_fold_proper_subset/4f81c4c71c6c74bd78e89ec387a22c509f0036850/proof.ipynb\" style=\"text-decoration: none\">&nbsp;&#x22A2;&nbsp;&nbsp;</a><a class=\"ProveItLink\" href=\"../../../__pv_it/axioms/ad04c935a9937d25424e398107a2245106b61c5e0/expr.ipynb\"><img src=\"data:image/png;base64,iVBORw0KGgoAAAANSUhEUgAAASMAAAAVBAMAAAD/WpUaAAAAMFBMVEX///8AAAAAAAAAAAAAAAAA\n",
       "AAAAAAAAAAAAAAAAAAAAAAAAAAAAAAAAAAAAAAAAAAAv3aB7AAAAD3RSTlMAInZUiRDNmWbv3US7\n",
       "qzJazP2FAAAACXBIWXMAAA7EAAAOxAGVKw4bAAADPElEQVRIx52Wz2sTQRTHX35t0jRNg4eCojTW\n",
       "Sw9KcyiV9mL6BxSDBw8lhYAULArmUNBjELEXobkoSAUjRZAoNagInkx7ET3YXPQSa4JCD0VJ66EX\n",
       "f9T3ZnZnJ293E5qByW7mzee77735CQAJ6Fh8bo0J6IHzQXdCiPpT4v+QV8f+pLONmMNzpzr5MySJ\n",
       "F/Q+LpuuOTpFNv9uff4IMOrkx3vhAmnbpmfb1kHCXwAI5WT/A+eH+6oAjSYYGW4ghnOny+XymisX\n",
       "lOmEi5rNGqqc8pd0iJgHCBdEU7jhnBrDmMi3eYjkuYEYxm2f9ORmze/e0GxYXu8nIda0RlfoELGE\n",
       "bsum6fNNR7TL2LSMzF1H+oBzoUeamXGjdfks6jaIP/n+vnI2VAVdB4m+DEzIDCbHZHq3p23pBtYF\n",
       "dP4yd2nCrDY3UAFPrvRDDk1Ot8FAAvqfrUyZnKmDhFGARZk3OFdwRPsAYI4SNsNdWjSrzRngyQXS\n",
       "hhjbcFq3gZ+oh5escZM6SARrZigvoZXm0cb/jJwR1tsCKotSAxkM436CFwdGIiDmjlHQbWwDMXWQ\n",
       "iORgVTTlYbjGo/XvAUySziTP0qpZbe6EN4fePqZnNKXbRKkrxtRBIlCEFaHy7nqjyqON4XwM/sOX\n",
       "Fndpxaw2F/XmvgKMiDVR0W1iM62qKEwdJOK7UvoCwGCJRzuIfkd+4csbT5cUFy54cbR/zSqXlI0m\n",
       "wnNrIigdJPqLcgBwsKNFHm0LPzPwG1+m+FxSA6c4uOLF0UYZTlkDp2xUbmnjJnWQCJRggzKIHY1d\n",
       "Hu0YLpQWrdw7PEsbZrU5mKtn3LmotUnHkrpN7A7qOLR0kIhUxUo9SsQej3YB+97LqPWulRmzahy8\n",
       "+mBtse3cTfqhUy1Y023UoMJXOotir9gByB7MQ2BzX6zmrIr2y8HW1lWxDz7lLu3IqnN2Ydwn+vlG\n",
       "67+k23Ai3Lcmgq2DRLQC0Wa7oh2tOhtL3CViOOdy/WHcGrPXXYlj4HKouh2y7PqR74Vbav8br7oS\n",
       "dDivd5M+7mxa55xcj2sduVj7XSPWdPuSjxzNdnPJxedsL1yoPS1xV0L47Ut2Vva73LGJOTx3BLoT\n",
       "eO36D4UHK4KXk9XkAAAAAElFTkSuQmCC\n",
       "\" style=\"display:inline;vertical-align:middle;\" /></a></span></td></tr>\n",
       "<tr><td>&nbsp;</td><td colspan=4 style=\"text-align:left\"><span style=\"font-size:20px;\"><a class=\"ProveItLink\" href=\"../../../../../../__pv_it/common/09585084922504426caf1db2ff588a23a0932a960/expr.ipynb\"><img src=\"data:image/png;base64,iVBORw0KGgoAAAANSUhEUgAAAA8AAAAPBAMAAADJ+Ih5AAAAMFBMVEX///8AAAAAAAAAAAAAAAAA\n",
       "AAAAAAAAAAAAAAAAAAAAAAAAAAAAAAAAAAAAAAAAAAAv3aB7AAAAD3RSTlMAIs1UmauJMnZmRLsQ\n",
       "3e++988cAAAACXBIWXMAAA7EAAAOxAGVKw4bAAAAXklEQVQI12NgAAEhBijQh9LM/6EMlngBCCMx\n",
       "vwBMMzb0G0BkGOwngBmLGeoTwAwHBvkAEM2xxSV+A4hxgoGB/wJEhoH3AZDmAupg+gBkyAEx90cG\n",
       "htP/dRiY939KAABt3hLO6mcEjQAAAABJRU5ErkJggg==\n",
       "\" style=\"display:inline;vertical-align:middle;\" /></a> : <a class=\"ProveItLink\" href=\"../../../../../../__pv_it/common/09585084922504426caf1db2ff588a23a0932a960/expr.ipynb\"><img src=\"data:image/png;base64,iVBORw0KGgoAAAANSUhEUgAAAA8AAAAPBAMAAADJ+Ih5AAAAMFBMVEX///8AAAAAAAAAAAAAAAAA\n",
       "AAAAAAAAAAAAAAAAAAAAAAAAAAAAAAAAAAAAAAAAAAAv3aB7AAAAD3RSTlMAIs1UmauJMnZmRLsQ\n",
       "3e++988cAAAACXBIWXMAAA7EAAAOxAGVKw4bAAAAXklEQVQI12NgAAEhBijQh9LM/6EMlngBCCMx\n",
       "vwBMMzb0G0BkGOwngBmLGeoTwAwHBvkAEM2xxSV+A4hxgoGB/wJEhoH3AZDmAupg+gBkyAEx90cG\n",
       "htP/dRiY939KAABt3hLO6mcEjQAAAABJRU5ErkJggg==\n",
       "\" style=\"display:inline;vertical-align:middle;\" /></a>, <a class=\"ProveItLink\" href=\"../../../../../../__pv_it/common/a9162d1c3cc0470c02e5daf414500903a7a419230/expr.ipynb\"><img src=\"data:image/png;base64,iVBORw0KGgoAAAANSUhEUgAAABAAAAAOBAMAAADUAYG5AAAAMFBMVEX///8AAAAAAAAAAAAAAAAA\n",
       "AAAAAAAAAAAAAAAAAAAAAAAAAAAAAAAAAAAAAAAAAAAv3aB7AAAAD3RSTlMAZrurzTLvInZEmRDd\n",
       "VIkafcLnAAAACXBIWXMAAA7EAAAOxAGVKw4bAAAAb0lEQVQI12NgYBD6b2zsFMAABEkMDMxfgTT7\n",
       "DwYGzl9ABiOQxwjkMDB/YGBgSQcy2BQYuG1AiuM1OkwEQJr6Cxh4E0EMNSB+D5L6DMTyDQwMrB+B\n",
       "DPsJDAwc34GcL0AOSwIDwzRvoHH6n41NdBkYAF/iFeJ4bEa2AAAAAElFTkSuQmCC\n",
       "\" style=\"display:inline;vertical-align:middle;\" /></a> : <a class=\"ProveItLink\" href=\"../../../../../../__pv_it/common/a9162d1c3cc0470c02e5daf414500903a7a419230/expr.ipynb\"><img src=\"data:image/png;base64,iVBORw0KGgoAAAANSUhEUgAAABAAAAAOBAMAAADUAYG5AAAAMFBMVEX///8AAAAAAAAAAAAAAAAA\n",
       "AAAAAAAAAAAAAAAAAAAAAAAAAAAAAAAAAAAAAAAAAAAv3aB7AAAAD3RSTlMAZrurzTLvInZEmRDd\n",
       "VIkafcLnAAAACXBIWXMAAA7EAAAOxAGVKw4bAAAAb0lEQVQI12NgYBD6b2zsFMAABEkMDMxfgTT7\n",
       "DwYGzl9ABiOQxwjkMDB/YGBgSQcy2BQYuG1AiuM1OkwEQJr6Cxh4E0EMNSB+D5L6DMTyDQwMrB+B\n",
       "DPsJDAwc34GcL0AOSwIDwzRvoHH6n41NdBkYAF/iFeJ4bEa2AAAAAElFTkSuQmCC\n",
       "\" style=\"display:inline;vertical-align:middle;\" /></a></span></td></tr><tr><td><a name=\"-0x69196678c25c714b_step5\">5</a></td><td>axiom</td><td></td><td><span style=\"font-size:20px;\"> <a class=\"ProveItLink\" href=\"../../axioms.ipynb#proper_subset_def\" style=\"text-decoration: none\">&nbsp;&#x22A2;&nbsp;&nbsp;</a><a class=\"ProveItLink\" href=\"../../../__pv_it/axioms/62d68349fdc6e5e10115b34eb80d97b83bd304d20/expr.ipynb\"><img src=\"data:image/png;base64,iVBORw0KGgoAAAANSUhEUgAAAWsAAAAWBAMAAAD0o6DgAAAAMFBMVEX///8AAAAAAAAAAAAAAAAA\n",
       "AAAAAAAAAAAAAAAAAAAAAAAAAAAAAAAAAAAAAAAAAAAv3aB7AAAAD3RSTlMAq1RmmUTNIjK7EInv\n",
       "3XZ/CtNrAAAACXBIWXMAAA7EAAAOxAGVKw4bAAAECUlEQVRIx9VXS2hTQRS9Sdp8XkzaghV1k4Ai\n",
       "iBWzKAURteIHSxcWBREVjYqItWDdCKL240Jwoe1CUERt3AhdVFI3XXRhLFT8G/xgFYPRLqQgbf3V\n",
       "H1rvfN6beTPvJaV044WTl7w7Z96dM3fuuwEoaM0cBSwwY7wATC2YIhMDROMMaEfdxpTmZ4r3vtAi\n",
       "kwC7QKCc3FzgMngJB9phzenr+lQx5yLA8AzxvGnhkwWm5h9HIRIC68nNA85RG0kGMuek7p7VCRBr\n",
       "A39qKryRXC435MgLs22B65JP0pjZMgwbGgXaibfTOeySBAP5GtMzqhW3eXct+GqnwDv9wZXXw2Nb\n",
       "K/nQtk7kIdRmZtKa7/hRLUDWbK5Xk5MDre9Wm6baary1Gue9X5xnvJTcCm+4kl0zsg+Cz05dblho\n",
       "cEHDx3+QOVMWfKiK3yW1F3HgfuTH2NJO9wl3DNGEYu4rzvM0gCsve4alU1L2gacZSl8NLuW8luhn\n",
       "kuAJgUe53AOXsOs5cK9hWUJT7R7ANSJ8b3GeTRg7z5v20zwqScs+iBLWk72cUuv9QjQvF9gIcIm6\n",
       "tJNF5WCSbIaOtKpa8OfoO+qtoU/NUSt35rWDGw/8zV6ay0RC4bMXz9J48DepQUmBIxCgzzLu0hFn\n",
       "vvbXmSf5KQeuFlrLVdWieEqqyLOq1OXqvCPuPFzRa3KNxGUftUrrjEPgE9mYjEAoFaYShj+zqpqF\n",
       "aIaPHuSA6Pl1sU5VtRAOC5OT0qGGrfMi7ry5AKP0HDfIPqqxVeBG1q35SfZiXMCbZxJue0wvHqxM\n",
       "4+rjbwCUZVXVylBH31/8stM1bItXknDjkfreY4Vt+UjSvTWTzsDS8oesIyMAyVV0tvweVrzi0JNQ\n",
       "NxuTL5JRVevAYZ5v+GWpmts6D/a78UjxLYmbSWL5iK0QOQLwhiRJVgBuNrKTu4G9C4ar55rDr3KU\n",
       "Jtjb1a7aGBaADlK1lqtq6zy4Vply5kXMl2EoL/toZTQZW3iT4OsUgBNUoW3wkQ5ZCcZsc3gvxwky\n",
       "63dVtSaM607KqnWSOfBgxxXzNWXn0a2+yKub8JEbpkQBsmFdzaxGmgAPLRz1/TE6HGNuNavcWYbu\n",
       "yUbwdk3QStZtqTZvsqLiIH2XvFDDduAJU3jzycc5ct6ysg+T7iFPOqNrIgWLJw/hzjQI8KqE0dLw\n",
       "B7AnMAtgpI1BNqGa1e9k1bCdeA69qMIbUvyVGuOkBCt9yuJGGgK/wHhutZi14NAoOTVOSms6LV61\n",
       "/WdQ7+/WSmBT3AZj0/7gANT87q8TjdUFjoJ2TL+l8VidGSrIC9l7zJC2XaRRNWHv1JXf3RwFzWFd\n",
       "0+IZ9miCGoGsy4TNtqvryzMU/OPm8NdueryWIuv8IMFmCfhP7B+IqWtlplTDXAAAAABJRU5ErkJg\n",
       "gg==\n",
       "\" style=\"display:inline;vertical-align:middle;\" /></a></span></td></tr>\n",
       "<tr><td>&nbsp;</td><td colspan=4 style-\"text-align:left\"><a class=\"ProveItLink\" href=\"../../axioms.ipynb#proper_subset_def\">proveit.logic.sets.inclusion.proper_subset_def</a></td></tr></table>"
      ],
      "text/plain": [
       "\tstep type\trequirements\tstatement\n",
       "0\tgeneralization\t1\t|- forall_{A, B | A subset_eq B, B not_equiv A} (A proper_subset B)\n",
       "1\tinstantiation\t2, 3, 4\t{(A subset_eq B) and (B not_equiv A)} |- A proper_subset B\n",
       "\tP : A proper_subset B, Q : (A subset_eq B) and (B not_equiv A)\n",
       "2\ttheorem\t\t|- forall_{P, Q | Q, P = Q} P\n",
       "\tproveit.logic.equality.lhs_via_equality\n",
       "3\tassumption\t\t{(A subset_eq B) and (B not_equiv A)} |- (A subset_eq B) and (B not_equiv A)\n",
       "4\tinstantiation\t5\t|- (A proper_subset B) = ((A subset_eq B) and (B not_equiv A))\n",
       "\tA : A, B : B\n",
       "5\taxiom\t\t|- forall_{A, B} ((A proper_subset B) = ((A subset_eq B) and (B not_equiv A)))\n",
       "\tproveit.logic.sets.inclusion.proper_subset_def"
      ]
     },
     "execution_count": 7,
     "metadata": {},
     "output_type": "execute_result"
    }
   ],
   "source": [
    "%qed"
   ]
  },
  {
   "cell_type": "code",
   "execution_count": null,
   "metadata": {},
   "outputs": [],
   "source": []
  }
 ],
 "metadata": {
  "kernelspec": {
   "display_name": "Python 3",
   "language": "python",
   "name": "python3"
  }
 },
 "nbformat": 4,
 "nbformat_minor": 0
}