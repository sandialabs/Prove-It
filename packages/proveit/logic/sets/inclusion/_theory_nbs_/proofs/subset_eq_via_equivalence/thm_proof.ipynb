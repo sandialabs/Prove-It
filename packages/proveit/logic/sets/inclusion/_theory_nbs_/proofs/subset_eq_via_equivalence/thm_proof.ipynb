{
 "cells": [
  {
   "cell_type": "markdown",
   "metadata": {},
   "source": [
    "Proof of <a class=\"ProveItLink\" href=\"../../../../../../_theory_nbs_/theory.ipynb\">proveit</a>.<a class=\"ProveItLink\" href=\"../../../../../_theory_nbs_/theory.ipynb\">logic</a>.<a class=\"ProveItLink\" href=\"../../../../_theory_nbs_/theory.ipynb\">sets</a>.<a class=\"ProveItLink\" href=\"../../theory.ipynb\">inclusion</a>.<a class=\"ProveItLink\" href=\"../../theorems.ipynb#subset_eq_via_equivalence\">subset_eq_via_equivalence</a> theorem\n",
    "========"
   ]
  },
  {
   "cell_type": "code",
   "execution_count": 1,
   "metadata": {},
   "outputs": [],
   "source": [
    "import proveit\n",
    "theory = proveit.Theory() # the theorem's theory"
   ]
  },
  {
   "cell_type": "code",
   "execution_count": 2,
   "metadata": {},
   "outputs": [
    {
     "data": {
      "text/html": [
       "With these <a href=\"allowed_presumptions.txt\">allowed</a>/<a href=\"disallowed_presumptions.txt\">disallowed</a> theorem/theory presumptions (e.g., to avoid circular dependencies), we begin our proof of<br><strong id=\"subset_eq_via_equivalence\">subset_eq_via_equivalence:</strong> <a class=\"ProveItLink\" href=\"../../../__pv_it/theorems/fce06bb79d050201fd7469ba4ebaf40f7696e01c0/expr.ipynb\"><img src=\"data:image/png;base64,iVBORw0KGgoAAAANSUhEUgAAALkAAAAXBAMAAACllfPxAAAAMFBMVEX///8AAAAAAAAAAAAAAAAA\n",
       "AAAAAAAAAAAAAAAAAAAAAAAAAAAAAAAAAAAAAAAAAAAv3aB7AAAAD3RSTlMAq1RmmUTNIjK7EInv\n",
       "3XZ/CtNrAAAACXBIWXMAAA7EAAAOxAGVKw4bAAAC0ElEQVRIx61VTWgTQRT+kk2yyaauCdTSi3RB\n",
       "L54MWAoeahP8wVLBgpeiovFQxHhoe1ab9CIIgqVe/E8K1ZOFKr3lYK3gD2IJKNiDC0EPpSDa1hpj\n",
       "i9Y3M7ubSVRitw7szpt5O9+8972fBVwPtY6+HxsZ78Udyb/pT9ATYcI2F+DeCT4FFn7T7F6LRs9k\n",
       "oMeA/Wx92gX6PTHttNHnTdOcFeILwFMGUsAQ827YBfpeMSW+ifniXCUgPwH/MtBKnuWAsOECfYq/\n",
       "w+fKfNbeVjQKbSl0Q0MOCrETcEO7iOagvsRnT3dF5SGyAs/oIehXpvnSBbpPBDXu/SKCK6kahqFt\n",
       "zZBflDEHgRt8M1dz3Ba0P6Izw4heI7jKl0OS6sqdT01Mq5B7A1B5VmrPuerScr4zw4SQ/fH9jC0F\n",
       "s12T1yx5kyFMUBf5ckBC/9wP7xNGHoUmlAtzzsKCQKUAfaoK/ZGB8FPCInPagY+2+/zQ/L7Ed3GZ\n",
       "hH6LHSKTgsS/tyg465kRIYlDWZDR/ZeL2H73JkBENwIdMrpWBH4IHmMVdOZNB2n8zMrkHr5XPCVO\n",
       "GRiPyeh6III4fM1jBDcN7bXMDIvNO7HudcCDLM4t9LW3QMLDFAfBAa5Lf2hthoxe9CUZKW0zrEx2\n",
       "JewghMg4HKGnT6xHt9hZoVN9BUuMZFak53lQeyxG26E1yuj+DIXBd53GVRaT0biFwdJNZa5nrV54\n",
       "7LbVCQK0ezxlJ62Hm9OVb+GXE3S6W0L35R+sOGUSh/rV9r8ALVvKYcfa2epU9WQXo00jnDynwnQC\n",
       "5bdMAyfljCxCLTtlYsDvLGbrFtwFRyIGNxvaBNQVaG8kZvxE+ZLNTDqHcZsZ1qP+rc+R/4+hHe4N\n",
       "TqNtNd9pSOiHIhgrWR4qffnJEedsqOrf4zPNSge2WmVt5/VKcqiOZVq9th2q/fUdXQc6Buvo52o3\n",
       "YutB39BQ/wPGL81zqz5PSX1PAAAAAElFTkSuQmCC\n",
       "\" style=\"display:inline;vertical-align:middle;\" /></a><br>(see <a class=\"ProveItLink\" href=\"../../../__pv_it/theorems/af3b867efb8c83e2f897318469fb85bb216817880/dependencies.ipynb\">dependencies</a>)<br>"
      ],
      "text/plain": [
       "<IPython.core.display.HTML object>"
      ]
     },
     "metadata": {},
     "output_type": "display_data"
    },
    {
     "name": "stdout",
     "output_type": "stream",
     "text": [
      "subset_eq_via_equivalence may now be readily provable (assuming required theorems are usable).  Simply execute \"%qed\".\n"
     ]
    }
   ],
   "source": [
    "%proving subset_eq_via_equivalence"
   ]
  },
  {
   "cell_type": "code",
   "execution_count": null,
   "metadata": {},
   "outputs": [],
   "source": []
  }
 ],
 "metadata": {
  "kernelspec": {
   "display_name": "Python 3",
   "language": "python",
   "name": "python3"
  }
 },
 "nbformat": 4,
 "nbformat_minor": 0
}