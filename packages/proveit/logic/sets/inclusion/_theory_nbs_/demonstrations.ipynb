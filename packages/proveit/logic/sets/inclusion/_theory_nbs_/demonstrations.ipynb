{
 "cells": [
  {
   "cell_type": "markdown",
   "metadata": {},
   "source": [
    "Demonstrations for the theory of <a class=\"ProveItLink\" href=\"theory.ipynb\">proveit.logic.sets.inclusion</a>\n",
    "========"
   ]
  },
  {
   "cell_type": "code",
   "execution_count": null,
   "metadata": {},
   "outputs": [],
   "source": [
    "import proveit\n",
    "from proveit import free_vars, ProofFailure, used_vars\n",
    "from proveit import x, y, A, B, C, D, E, F, X, Y, Px\n",
    "from proveit.logic import Equals, Forall, Exists, Implies, InSet, Not, NotInSet, Set\n",
    "from proveit.logic import (Intersect, SetEquiv, NotProperSubset,\n",
    "                           SubsetEq, NotSubsetEq, not_superset_eq,\n",
    "                           ProperSubset, proper_superset, not_proper_superset,\n",
    "                           SubsetProper, StrictSubset, superset_eq)\n",
    "from proveit.numbers import zero, one, two, three, four, five\n",
    "from proveit.numbers import (Integer, Natural, NaturalPos, Real,\n",
    "                            RealNeg, RealPos)\n",
    "from proveit.numbers.number_sets.real_numbers import int_within_real\n",
    "from proveit.logic.sets.inclusion  import (\n",
    "        subset_eq_def, proper_subset_def, not_proper_subset_def)\n",
    "from proveit.logic.sets.inclusion import fold_not_subset_eq\n",
    "%begin demonstrations"
   ]
  },
  {
   "cell_type": "markdown",
   "metadata": {},
   "source": [
    "# Inclusion $\\in$, $\\subset$, $\\subseteq$, $\\supset$, $\\supseteq$"
   ]
  },
  {
   "cell_type": "markdown",
   "metadata": {},
   "source": [
    "<div style=\"line-height:1.4; font-size:14pt\">\n",
    "\n",
    "<a href='#introduction'>Introduction</a><br>\n",
    "<a href='#simple_expressions'>Simple Expressions involving Membership $(\\in)$, Subsets $(\\subset, \\subseteq)$, and Supersets $(\\supset, \\supseteq )$</a><br>\n",
    "<a href='#common_attributes'>Common Attributes of the Subset $(\\subseteq)$ Expression</a><br>\n",
    "<a href='#axioms'>Axioms</a><br>\n",
    "<a href='#theorems_and_conjectures'>Theorems & Conjectures</a><br>\n",
    "<a href='#further_demonstrations'>Further Demonstrations</a><br>\n",
    "    <ol>\n",
    "        <li><a href='#demo01'>$(x\\in A)\\wedge(A\\subset B)\\Rightarrow (x\\in B)$</a></li>\n",
    "        <li><a href='#demo02'>$\\forall_{x\\in A}(x\\in B) \\Rightarrow (A \\subseteq B)$</a></li>\n",
    "        <li><a href='#demo03'>$(x\\in B)\\wedge(A\\supset B)\\Rightarrow (x\\in A)$</a></li>\n",
    "        <li><a href='#demo04'>$\\forall_{x\\in Y}(x\\in X) \\Rightarrow (X \\supseteq Y)$</a></li>\n",
    "        <li><a href='#demo05'>Folding and Unfolding the Definitions of $\\not\\subseteq$ and $\\not\\supseteq$</a>\n",
    "        <li><a href='#demo06'>Containment Reversals (such as $A \\subset B \\Rightarrow B \\supset A$)</a></li>\n",
    "        <li><a href='#demo07'>Deducing $\\{1, 3\\} \\subset \\{1, 2, 3, 4, 5\\}$</a></li>\n",
    "        <li><a href='#demo08'>Manually Proving $\\{1, 3, 5\\} \\subseteq \\{1, 2, 3, 4, 5\\}$</a></li>\n",
    "        <li><a href='#demo09'>Deducing quantification via inclusion</a></li>    \n",
    "    </ol>\n",
    "<a href='#miscellaneous_testing'>Miscellaneous Testing</a><br>\n",
    "</div>\n"
   ]
  },
  {
   "cell_type": "markdown",
   "metadata": {},
   "source": [
    "## Introduction <a id='introduction'></a>"
   ]
  },
  {
   "cell_type": "markdown",
   "metadata": {},
   "source": [
    "<font size=3>Set membership (*e.g.*, $x \\in S$), subset ($A \\subset B$), and superset ($B \\supset A$) concepts are often critical in proofs, either as goals in themselves or as conditions or assumptions appearing in a proof. This ``_demonstrations_`` notebook explores subset ($\\subset$, $\\subseteq$), and superset ($\\supset$, $\\supseteq$) expressions and related methods. (Set membership ($\\in$) itself is explored more thoroughly in its own ``_demonstrations_`` notebook in the ``proveit.logic.sets.membership`` theory.)</font>"
   ]
  },
  {
   "cell_type": "markdown",
   "metadata": {},
   "source": [
    "## Simple Expressions Involving Membership ($\\in$), Subsets ($\\subset$, $\\subseteq$), and Supersets ($\\supset$, $\\supseteq$) <a id='simple_expressions'></a>"
   ]
  },
  {
   "cell_type": "markdown",
   "metadata": {},
   "source": [
    "<font size=3>It is straightforward to construct membership, subset, and superset expressions. Here are some basic examples of such expressions:</font>"
   ]
  },
  {
   "cell_type": "code",
   "execution_count": null,
   "metadata": {},
   "outputs": [],
   "source": [
    "# a simple set membership claim\n",
    "InSet(x, A)"
   ]
  },
  {
   "cell_type": "code",
   "execution_count": null,
   "metadata": {},
   "outputs": [],
   "source": [
    "# proper subset claims, 3 different options\n",
    "example_1, example_2, example_3 = ProperSubset(A, B), SubsetProper(A, B), StrictSubset(A, B)"
   ]
  },
  {
   "cell_type": "code",
   "execution_count": null,
   "metadata": {},
   "outputs": [],
   "source": [
    "# improper subset\n",
    "SubsetEq(B, C)"
   ]
  },
  {
   "cell_type": "code",
   "execution_count": null,
   "metadata": {},
   "outputs": [],
   "source": [
    "# proper superset (a style variant of a ProperSubset)\n",
    "proper_superset(C, B)"
   ]
  },
  {
   "cell_type": "code",
   "execution_count": null,
   "metadata": {},
   "outputs": [],
   "source": [
    "# improper superset (a style variant of SubsetEq)\n",
    "superset_eq(C, B)"
   ]
  },
  {
   "cell_type": "code",
   "execution_count": null,
   "metadata": {},
   "outputs": [],
   "source": [
    "# not a proper subset\n",
    "NotProperSubset(D, E)"
   ]
  },
  {
   "cell_type": "code",
   "execution_count": null,
   "metadata": {},
   "outputs": [],
   "source": [
    "# not a subset\n",
    "NotSubsetEq(D, E)"
   ]
  },
  {
   "cell_type": "code",
   "execution_count": null,
   "metadata": {},
   "outputs": [],
   "source": [
    "# not a proper superset (a style variant of NotProperSubset)\n",
    "not_proper_superset(D, E)"
   ]
  },
  {
   "cell_type": "code",
   "execution_count": null,
   "metadata": {},
   "outputs": [],
   "source": [
    "# not a superset (a style variant of NotSubsetEq)\n",
    "not_superset_eq(D, E)"
   ]
  },
  {
   "cell_type": "markdown",
   "metadata": {},
   "source": [
    "<font size=3>At the time of this writing, portions of Prove-It code might still have the more ambiguous `Subset` notation or terminology, but in general we will use `SubsetEq()` to form general or “improper” subset expressions (*e.g.*, $A \\subseteq$ B) and `ProperSubset()` or `SubsetProper()` to form “proper” or “strict” subset expressions (such as $A \\subset$ B), with similar notation used for the negations.</font>"
   ]
  },
  {
   "cell_type": "markdown",
   "metadata": {},
   "source": [
    "## Common Attributes of a Subset expression <a id='common_attributes'></a>"
   ]
  },
  {
   "cell_type": "markdown",
   "metadata": {},
   "source": [
    "<font size=3>Let's define a simple example subset expression, $(A \\cap B) \\subseteq B$, and look at some of its attributes. (The results should be similar for proper subset ($\\subset$) and the various supersets ($\\supset$, $\\supseteq$) and their negations.)</font>"
   ]
  },
  {
   "cell_type": "code",
   "execution_count": null,
   "metadata": {},
   "outputs": [],
   "source": [
    "# define a subset expression\n",
    "A_intersect_B_subset_of_B = SubsetEq(Intersect(A, B), B)"
   ]
  },
  {
   "cell_type": "markdown",
   "metadata": {},
   "source": [
    "<font size=3>We can look at the construction of such an expression by calling <font style=\"font-family:courier\">expr_info()</font> to see the tabular representation of the expression's underlying directed acyclic graph (DAG) representation:</font>"
   ]
  },
  {
   "cell_type": "code",
   "execution_count": null,
   "metadata": {},
   "outputs": [],
   "source": [
    "A_intersect_B_subset_of_B.expr_info()"
   ]
  },
  {
   "cell_type": "markdown",
   "metadata": {},
   "source": [
    "<font size=3>We can access the left-hand and right-hand sides of such expressions, as well as the specific operator:</font>"
   ]
  },
  {
   "cell_type": "code",
   "execution_count": null,
   "metadata": {},
   "outputs": [],
   "source": [
    "A_intersect_B_subset_of_B.lhs"
   ]
  },
  {
   "cell_type": "code",
   "execution_count": null,
   "metadata": {},
   "outputs": [],
   "source": [
    "A_intersect_B_subset_of_B.rhs"
   ]
  },
  {
   "cell_type": "code",
   "execution_count": null,
   "metadata": {},
   "outputs": [],
   "source": [
    "A_intersect_B_subset_of_B.operator"
   ]
  },
  {
   "cell_type": "markdown",
   "metadata": {},
   "source": [
    "<font size=3>We can get both sides of the expression simultaneously (the operands of the $\\subseteq$ operator) as a tuple of expressions. We can also get a list of the variables and a separate list of the *free* variables in the expression (of course, in this expression, all the variables are also free variables):</font>"
   ]
  },
  {
   "cell_type": "code",
   "execution_count": null,
   "metadata": {},
   "outputs": [],
   "source": [
    "A_intersect_B_subset_of_B.operands"
   ]
  },
  {
   "cell_type": "code",
   "execution_count": null,
   "metadata": {},
   "outputs": [],
   "source": [
    "used_vars(A_intersect_B_subset_of_B)"
   ]
  },
  {
   "cell_type": "code",
   "execution_count": null,
   "metadata": {},
   "outputs": [],
   "source": [
    "free_vars(A_intersect_B_subset_of_B, err_inclusively=True)"
   ]
  },
  {
   "cell_type": "markdown",
   "metadata": {},
   "source": [
    "<font size=3>By the way, notice that our expression $(A \\cap B) \\subseteq B$ is always true, and Prove-It can automatically prove this:</font>"
   ]
  },
  {
   "cell_type": "code",
   "execution_count": null,
   "metadata": {},
   "outputs": [],
   "source": [
    "A_intersect_B_subset_of_B_judgment = A_intersect_B_subset_of_B.prove()"
   ]
  },
  {
   "cell_type": "markdown",
   "metadata": {},
   "source": [
    "<font size=3>A peek at the proof shows that Prove-It has applied the ``fold_subset_eq`` theorem:<br>\n",
    "> $\\forall_{A,B} \\left([\\forall_{x\\in A}(x\\in B)] \\implies (A \\subseteq B)\\right)$<br>\n",
    "    \n",
    "by using a suitable instantiation to get something like this:<br>\n",
    "> $[\\forall_{x\\in A\\cap B}(x\\in B)] \\implies ((A\\cap B) \\subseteq B)$<br>\n",
    "\n",
    "See Line 3 in the proof below for the ``fold_subset_eq`` theorem, then Line 1 for the instantiation step.</font>"
   ]
  },
  {
   "cell_type": "code",
   "execution_count": null,
   "metadata": {},
   "outputs": [],
   "source": [
    "A_intersect_B_subset_of_B_judgment.proof()"
   ]
  },
  {
   "cell_type": "markdown",
   "metadata": {},
   "source": [
    "<font size=3>And we can ``unfold()`` the subset expression to produce an equivalent judgment in terms of set memberships. Notice here that the ``unfold()`` process *automatically* produces a Known Truth instead of just another expression (and it would have done this even if we had not previously proven the expression to be true):</font>"
   ]
  },
  {
   "cell_type": "code",
   "execution_count": null,
   "metadata": {},
   "outputs": [],
   "source": [
    "# the original expression\n",
    "A_intersect_B_subset_of_B"
   ]
  },
  {
   "cell_type": "code",
   "execution_count": null,
   "metadata": {},
   "outputs": [],
   "source": [
    "# unfold to express in terms of set memberships\n",
    "A_intersect_B_subset_of_B.unfold()"
   ]
  },
  {
   "cell_type": "code",
   "execution_count": null,
   "metadata": {},
   "outputs": [],
   "source": [
    "# unfold to  express in terms of set memberships\n",
    "# and simultaneously change the instance variable\n",
    "A_intersect_B_subset_of_B.unfold(elem_instance_var=y)"
   ]
  },
  {
   "cell_type": "markdown",
   "metadata": {},
   "source": [
    "## Axioms <a id='axioms'></a>"
   ]
  },
  {
   "cell_type": "markdown",
   "metadata": {},
   "source": [
    "<font size=3>The ``axioms`` for containment establish the basic definitions of subset ($\\subseteq$), proper subset ($\\subset$), proper superset ($\\supset$), *etc.* A few of the axioms are shown below as illustrations (the rest can be accessed on the [containment axioms](./_axioms_.ipynb) page.)</font>"
   ]
  },
  {
   "cell_type": "code",
   "execution_count": null,
   "metadata": {},
   "outputs": [],
   "source": [
    "# def of (non-proper) subset\n",
    "subset_eq_def"
   ]
  },
  {
   "cell_type": "code",
   "execution_count": null,
   "metadata": {},
   "outputs": [],
   "source": [
    "# def of (proper) subset\n",
    "proper_subset_def"
   ]
  },
  {
   "cell_type": "code",
   "execution_count": null,
   "metadata": {},
   "outputs": [],
   "source": [
    "# negation of (proper) subset\n",
    "not_proper_subset_def"
   ]
  },
  {
   "cell_type": "markdown",
   "metadata": {},
   "source": [
    "## Theorems & Conjectures<a id='theorems_and_conjectures'></a>"
   ]
  },
  {
   "cell_type": "markdown",
   "metadata": {},
   "source": [
    "<font size=3>The `logic.sets.inclusion` theory already has a substantial number of related theorems and conjectures established, covering a wide range of containment-related concepts, most of which would typically be used implicitly behind-the-scenes when utilizing the various related containment class methods instead of being used directly and explicitly in theorem form. The theorems and conjectures cover topics such as transitivity of containment relations, folding/unfolding of containment definitions, relaxation of strict containments, and containment claims being in the Boolean set. Some illustrative examples of the theorems are shown below, and the remainder can be found in the [containment theorems notebook](./\\_theorems\\_.ipynb).</font>"
   ]
  },
  {
   "cell_type": "code",
   "execution_count": null,
   "metadata": {},
   "outputs": [],
   "source": [
    "from proveit.logic.sets.inclusion import (\n",
    "        unfold_subset_eq, fold_subset_eq, subset_eq_reflexive,\n",
    "        relax_proper_subset, transitivity_subset_eq_subset_eq, proper_subset_is_bool)"
   ]
  },
  {
   "cell_type": "code",
   "execution_count": null,
   "metadata": {},
   "outputs": [],
   "source": [
    "# if A is a (non-strict) subset of B, then\n",
    "# every element of A is also an element of B\n",
    "unfold_subset_eq"
   ]
  },
  {
   "cell_type": "code",
   "execution_count": null,
   "metadata": {},
   "outputs": [],
   "source": [
    "# if every element of A is also an element of B,\n",
    "# then A is a (non-strict) subset of B\n",
    "fold_subset_eq"
   ]
  },
  {
   "cell_type": "code",
   "execution_count": null,
   "metadata": {},
   "outputs": [],
   "source": [
    "# a set is always a (non-strict) subset of itself\n",
    "subset_eq_reflexive"
   ]
  },
  {
   "cell_type": "code",
   "execution_count": null,
   "metadata": {},
   "outputs": [],
   "source": [
    "# we can \"relax\" a strict subset claim into an improper subset claim\n",
    "relax_proper_subset"
   ]
  },
  {
   "cell_type": "code",
   "execution_count": null,
   "metadata": {},
   "outputs": [],
   "source": [
    "# the subset relation is transitive\n",
    "transitivity_subset_eq_subset_eq"
   ]
  },
  {
   "cell_type": "code",
   "execution_count": null,
   "metadata": {},
   "outputs": [],
   "source": [
    "# a subset claim is a Boolean value\n",
    "proper_subset_is_bool"
   ]
  },
  {
   "cell_type": "markdown",
   "metadata": {},
   "source": [
    "## Demonstrations <a id='further_demonstrations'></a>"
   ]
  },
  {
   "cell_type": "markdown",
   "metadata": {},
   "source": [
    "<div style=\"width: 90%; border: 5px solid green; padding: 10px; margin: 0px;\"><a id='demo01'></a><font size=4><font size=4><b>1.</b> Some subset relationships among standard numerical sets, deducing some standard memberships, and deriving $\\{x\\in A, A \\subseteq B\\} \\vdash x\\in B$.</font></div><br>\n",
    "<font size=3>We begin with some simple expressions involving well-known numerical sets. Many standard subset and membership relationships involving common numerical sets are available as theorems, with many such theorems automatically imported and utilized. For example:</font>"
   ]
  },
  {
   "cell_type": "code",
   "execution_count": null,
   "metadata": {},
   "outputs": [],
   "source": [
    "ProperSubset(NaturalPos, Natural).prove()"
   ]
  },
  {
   "cell_type": "code",
   "execution_count": null,
   "metadata": {},
   "outputs": [],
   "source": [
    "ProperSubset(Natural, Integer).prove()"
   ]
  },
  {
   "cell_type": "code",
   "execution_count": null,
   "metadata": {},
   "outputs": [],
   "source": [
    "ProperSubset(NaturalPos, Integer).prove()"
   ]
  },
  {
   "cell_type": "code",
   "execution_count": null,
   "metadata": {},
   "outputs": [],
   "source": [
    "InSet(one, Natural).prove()"
   ]
  },
  {
   "cell_type": "markdown",
   "metadata": {},
   "source": [
    "<font size=3>Given that $1 \\in \\mathbb{N}$ and $\\mathbb{N} \\subset \\mathbb{Z}$, we should be able to show that $1 \\in \\mathbb{Z}$, and Prove-It can do this automatically:</font>"
   ]
  },
  {
   "cell_type": "code",
   "execution_count": null,
   "metadata": {},
   "outputs": [],
   "source": [
    "one_is_an_integer = InSet(one, Integer).prove()"
   ]
  },
  {
   "cell_type": "markdown",
   "metadata": {},
   "source": [
    "<font size=3>In the detailed proof of that conclusion, Prove-It instantiates the ``unfold_subset_eq`` theorem<br>\n",
    "> $\\forall_{A,B\\rvert A\\subseteq B} \\left[ \\forall_{x \\in A} (x \\in B) \\right]$\n",
    "    \n",
    "to eliminate both universal quantifiers by instantiating $A$ to $\\mathbb{N^{+}}$, $B$ to $\\mathbb{Z}$, and $x$ to $1$. The theorem appears in Line 1 in the proof below. The ''fold'' and ''unfold'' language often appears in theorems that ''fold'' or ''unfold'' axiomatic definitions, and here in the cases of subsets ($\\subseteq$) and supersets ($\\supseteq$) move between set-containment versus element-membership notation.<br/>\n",
    "Notice also the ``relax_subset`` theorem cited on line 4 and instantiated on line 2, illustrating the use of another containment-related theorem in the proof process.\n",
    "</font>"
   ]
  },
  {
   "cell_type": "code",
   "execution_count": null,
   "metadata": {},
   "outputs": [],
   "source": [
    "one_is_an_integer.proof()"
   ]
  },
  {
   "cell_type": "markdown",
   "metadata": {},
   "source": [
    "<font size=3>As an exercise, we can obtain the result more generally for arbitrary sets $X$ and $Y$ any time we assume $X \\subseteq Y$ and $x \\in X$:\n",
    "</font>"
   ]
  },
  {
   "cell_type": "code",
   "execution_count": null,
   "metadata": {},
   "outputs": [],
   "source": [
    "# Define some conditions\n",
    "x_in_x, x_subset_eq_ofy, x_in_y = InSet(x, X), SubsetEq(X, Y), InSet(x, Y)"
   ]
  },
  {
   "cell_type": "code",
   "execution_count": null,
   "metadata": {},
   "outputs": [],
   "source": [
    "# bundle the first 2 conditions into a list of assumptions\n",
    "demo_01_assumptions = [x_in_x, x_subset_eq_ofy]"
   ]
  },
  {
   "cell_type": "code",
   "execution_count": null,
   "metadata": {},
   "outputs": [],
   "source": [
    "# prove set membership based on the assumptions\n",
    "x_in_y_k_t = x_in_y.prove(demo_01_assumptions)"
   ]
  },
  {
   "cell_type": "markdown",
   "metadata": {},
   "source": [
    "<font size=3>As an extra step, we can also re-express that result in terms of implications:\n",
    "</font>"
   ]
  },
  {
   "cell_type": "code",
   "execution_count": null,
   "metadata": {},
   "outputs": [],
   "source": [
    "x_in_y_k_t.as_implication(hypothesis=SubsetEq(X, Y))"
   ]
  },
  {
   "cell_type": "code",
   "execution_count": null,
   "metadata": {},
   "outputs": [],
   "source": [
    "x_in_y_k_t.as_implication(hypothesis=InSet(x, X))"
   ]
  },
  {
   "cell_type": "markdown",
   "metadata": {},
   "source": [
    "<div style=\"width: 90%; border: 5px solid green; padding: 10px; margin: 0px;\"><a id='demo02'></a><font size=4><font size=4><b>2.</b> $\\forall_{x\\in A}(x\\in B) \\Rightarrow (A \\subseteq B)$.</font></div><br>\n",
    "<font size=\"3\">When we know that $x$ is in $B$ whenever $x$ is in $A$, we have $A \\subseteq B$. That is a theorem in Prove-It that can be instantiated to prove a subset relationship for two arbitrary sets given the right conditions:</font>"
   ]
  },
  {
   "cell_type": "code",
   "execution_count": null,
   "metadata": {},
   "outputs": [],
   "source": [
    "# define our conclusion\n",
    "CSubsetOfD = SubsetEq(C, D)"
   ]
  },
  {
   "cell_type": "code",
   "execution_count": null,
   "metadata": {},
   "outputs": [],
   "source": [
    "# define our assumption (or perhaps this would be proven elsewhere first)\n",
    "demo_02_assumptions = [Forall(x, InSet(x,D), domain=C)]"
   ]
  },
  {
   "cell_type": "code",
   "execution_count": null,
   "metadata": {},
   "outputs": [],
   "source": [
    "# prove the conclusion from the assumptions\n",
    "CSubsetOfD.prove(demo_02_assumptions)"
   ]
  },
  {
   "cell_type": "markdown",
   "metadata": {},
   "source": [
    "<font size=4>And we can re-express that judgment as a logical implication:</font>"
   ]
  },
  {
   "cell_type": "code",
   "execution_count": null,
   "metadata": {},
   "outputs": [],
   "source": [
    "CSubsetOfD.prove(demo_02_assumptions).as_implication(*demo_02_assumptions)"
   ]
  },
  {
   "cell_type": "markdown",
   "metadata": {},
   "source": [
    "<font size=3>Or we could have proven the implication form directly (shown here with new set variables $E$ and $F$ so as not to simply derive from the previous result):</font>"
   ]
  },
  {
   "cell_type": "code",
   "execution_count": null,
   "metadata": {},
   "outputs": [],
   "source": [
    "an_implication = Implies(Forall(x, InSet(x,F), domain=E),SubsetEq(E,F))"
   ]
  },
  {
   "cell_type": "code",
   "execution_count": null,
   "metadata": {},
   "outputs": [],
   "source": [
    "an_implication.prove()"
   ]
  },
  {
   "cell_type": "markdown",
   "metadata": {},
   "source": [
    "<div style=\"width: 90%; border: 5px solid green; padding: 10px; margin: 0px;\"><a id='demo03'></a><font size=4><b>3.</b> $(x\\in B) \\wedge (A \\supset B) \\Rightarrow (x \\in A)$.</font></div><br>\n",
    "<font size=3>This is a variant of <a href='#demo01'>Demo (1)</a> above. When we know that $x$ is in $B$ and $A$ contains $B$, then $x$ must also be in $A$.<br>\n",
    "Let's define some useful expressions, let Prove-It prove the implication, then look at the proof:</font>"
   ]
  },
  {
   "cell_type": "code",
   "execution_count": null,
   "metadata": {},
   "outputs": [],
   "source": [
    "# define some expressions\n",
    "x_in_a, x_in_b, ASupersetOfB = InSet(x, A), InSet(x, B), proper_superset(A, B)"
   ]
  },
  {
   "cell_type": "code",
   "execution_count": null,
   "metadata": {},
   "outputs": [],
   "source": [
    "# establish the Known Truth\n",
    "x_in_a_kt = x_in_a.prove([x_in_b, ASupersetOfB])"
   ]
  },
  {
   "cell_type": "markdown",
   "metadata": {},
   "source": [
    "<a id='demo03'></a><font size=3>In the proof, we see the relaxation theorem taking $A \\supset B$ to $A \\supseteq B$, and then the reversal theorem taking $A \\supseteq B$ to $B \\subseteq A$, then proceeding as it would for the example in <a href='#demo01'>Demo (1)</a> earlier:</font>"
   ]
  },
  {
   "cell_type": "code",
   "execution_count": null,
   "metadata": {},
   "outputs": [],
   "source": [
    "# take a look at the proof:\n",
    "x_in_a_kt.proof()"
   ]
  },
  {
   "cell_type": "markdown",
   "metadata": {},
   "source": [
    "<font size=3>As in <a href=\"#demo01\">Demo 1</a>, we can re-express our judgment as a logical implication:</font>"
   ]
  },
  {
   "cell_type": "code",
   "execution_count": null,
   "metadata": {},
   "outputs": [],
   "source": [
    "# our judgment\n",
    "x_in_a_kt"
   ]
  },
  {
   "cell_type": "code",
   "execution_count": null,
   "metadata": {},
   "outputs": [],
   "source": [
    "# one option for the implication\n",
    "x_in_a_kt.as_implication(hypothesis=x_in_b)"
   ]
  },
  {
   "cell_type": "code",
   "execution_count": null,
   "metadata": {},
   "outputs": [],
   "source": [
    "# another option for the implication\n",
    "x_in_a_kt.as_implication(hypothesis=ASupersetOfB)"
   ]
  },
  {
   "cell_type": "markdown",
   "metadata": {},
   "source": [
    "<div style=\"width: 90%; border: 5px solid green; padding: 10px; margin: 0px;\"><a id='demo04'></a><font size=4><b>4.</b> $\\forall_{x\\in Y}(x\\in X) \\Rightarrow (X \\supseteq Y)$</font>.</div><br>\n",
    "<font size=3>When we know that $x$ is in $X$ whenever $x$ is in $Y$, we have $X \\supseteq Y$ (<i>i.e.</i>, $X$ contains $Y$ or $X$ is a superset of $Y$). That is a theorem in Prove-It that can be instantiated to prove a containment or superset relationship for two arbitrary sets given the right conditions:</font>\n",
    "\n",
    "The following has been commented out because theorems have changed (implications were change to using conditions) -- this must be updated."
   ]
  },
  {
   "cell_type": "code",
   "execution_count": null,
   "metadata": {},
   "outputs": [],
   "source": [
    "# # our fold_supset_eq theorem\n",
    "# fold_supset_eq"
   ]
  },
  {
   "cell_type": "code",
   "execution_count": null,
   "metadata": {},
   "outputs": [],
   "source": [
    "# instantiate the fold_supset_eq theorem\n",
    "# fold_supset_eq_spec = fold_supset_eq.instantiate({A:X, B:Y}, assumptions=fold_supset_eq.conditions)"
   ]
  },
  {
   "cell_type": "code",
   "execution_count": null,
   "metadata": {},
   "outputs": [],
   "source": [
    "# then we can even generalize back into universal X and Y\n",
    "# fold_supset_eq_spec.generalize([X, Y])"
   ]
  },
  {
   "cell_type": "markdown",
   "metadata": {},
   "source": [
    "<font size=3>Alternatively we can prove the rhs of the implication given the antecedent as an assumption.</font>"
   ]
  },
  {
   "cell_type": "code",
   "execution_count": null,
   "metadata": {},
   "outputs": [],
   "source": [
    "# peel off our desired conclusion:\n",
    "# XSupersetOfY = fold_supset_eq_spec.rhs"
   ]
  },
  {
   "cell_type": "code",
   "execution_count": null,
   "metadata": {},
   "outputs": [],
   "source": [
    "# prove our conclusion based on the antecedent\n",
    "# XSupersetOfYKT = XSupersetOfY.prove([Forall(x, InSet(x, X), domain=Y)])"
   ]
  },
  {
   "cell_type": "markdown",
   "metadata": {},
   "source": [
    "<font size=3>And we can take a quick look at the simple proof, which also involves a instantiation of that ``fold_supset_eq`` theorem and an application of *modus ponens:*</font>"
   ]
  },
  {
   "cell_type": "code",
   "execution_count": null,
   "metadata": {},
   "outputs": [],
   "source": [
    "# XSupersetOfYKT.proof()"
   ]
  },
  {
   "cell_type": "markdown",
   "metadata": {},
   "source": [
    "<div style=\"width: 90%; border: 5px solid green; padding: 10px; margin: 0px;\"><a id='demo05'></a><font size = 4><b>5.</b> Folding and Unfolding the Definitions of $\\not\\subseteq$ and $\\not\\supseteq$</font>.</font></div><br/>\n",
    "<font size=3>$\\not\\subseteq$ is axiomatically defined by $\\forall_{A, B} (A\\not\\subseteq B) = \\neg(A \\subseteq B)$, and we have theorems to automatically fold and unfold the definition, allowing us to express and use the definition in a variety of ways. For example, we can automatically derive the statements that $\\{C\\not\\subseteq D\\} \\vdash \\neg(C\\subseteq D)$, and $\\{\\neg(C\\subseteq D)\\} \\vdash C\\not\\subseteq D$</font>"
   ]
  },
  {
   "cell_type": "code",
   "execution_count": null,
   "metadata": {},
   "outputs": [],
   "source": [
    "# unfold the definition to produce a new judgment\n",
    "NotSubsetEq(C, D).unfold([NotSubsetEq(C, D)])"
   ]
  },
  {
   "cell_type": "code",
   "execution_count": null,
   "metadata": {},
   "outputs": [],
   "source": [
    "# or automatically fold the definition when deriving the alternative judgment\n",
    "NotSubsetEqKT = NotSubsetEq(C, D).prove([Not(SubsetEq(C, D))])"
   ]
  },
  {
   "cell_type": "markdown",
   "metadata": {},
   "source": [
    "<font size=3>In the proof for that second derivation, we see the use of the ``fold_not_subset_eq`` theorem, which we can manually invoke and instantiate to accomplish the same thing:</font>"
   ]
  },
  {
   "cell_type": "code",
   "execution_count": null,
   "metadata": {},
   "outputs": [],
   "source": [
    "# the theorem\n",
    "fold_not_subset_eq"
   ]
  },
  {
   "cell_type": "code",
   "execution_count": null,
   "metadata": {},
   "outputs": [],
   "source": [
    "# instantiation\n",
    "fold_not_subset_eq_spec = fold_not_subset_eq.instantiate({A:C, B:D}, assumptions=[Not(SubsetEq(C, D))])"
   ]
  },
  {
   "cell_type": "markdown",
   "metadata": {},
   "source": [
    "<font size=3>We can look at the proof resulting from the earlier automated ``prove()`` approach and see the same steps reflected in the automation:</font>"
   ]
  },
  {
   "cell_type": "code",
   "execution_count": null,
   "metadata": {},
   "outputs": [],
   "source": [
    "NotSubsetEqKT.proof()"
   ]
  },
  {
   "cell_type": "markdown",
   "metadata": {},
   "source": [
    "<font size=3>And of course we have similar fold and unfold theorems for the negated superset or negated containment relation $\\not\\supseteq$. For example:</font>"
   ]
  },
  {
   "cell_type": "code",
   "execution_count": null,
   "metadata": {},
   "outputs": [],
   "source": [
    "# unfold the definition to produce a new judgment\n",
    "not_superset_eq(C, D).unfold([not_superset_eq(C, D)])"
   ]
  },
  {
   "cell_type": "code",
   "execution_count": null,
   "metadata": {},
   "outputs": [],
   "source": [
    "# or automatically fold the definition when deriving the alternative judgment\n",
    "NotSupersetEqKT = not_superset_eq(C, D).prove([Not(superset_eq(C, D))])"
   ]
  },
  {
   "cell_type": "markdown",
   "metadata": {},
   "source": [
    "<div style=\"width: 90%; border: 5px solid green; padding: 10px; margin: 0px;\"><a id='demo06'></a><font size=4><b>6.</b> Containment Reversals (such as $A \\subset B \\Rightarrow B \\supset A$).</font></div><br/>\n",
    "<font size=3>Reversals are actually simply style variants so it is easy to go back and forth between these.\n",
    "</font>"
   ]
  },
  {
   "cell_type": "markdown",
   "metadata": {},
   "source": [
    "<font size=3>We have a theorem, ``int_within_real``, that the integer numbers are a proper subset of the real numbers: $\\mathbb{Z} \\subset \\mathbb{R}$:\n",
    "</font>"
   ]
  },
  {
   "cell_type": "code",
   "execution_count": null,
   "metadata": {},
   "outputs": [],
   "source": [
    "int_within_real"
   ]
  },
  {
   "cell_type": "markdown",
   "metadata": {},
   "source": [
    "<font size=3>We can create the equivalent superset expression, $\\mathbb{R} \\supset \\mathbb{Z}$, and its proof is the same as that of $\\mathbb{Z} \\supset \\mathbb{R}$ because Prove-It regards these as the same expression but presented with a different <em>style</em>.\n",
    "</font>"
   ]
  },
  {
   "cell_type": "code",
   "execution_count": null,
   "metadata": {},
   "outputs": [],
   "source": [
    "reals_contain_integer_kt = proper_superset(Real, Integer).prove()"
   ]
  },
  {
   "cell_type": "code",
   "execution_count": null,
   "metadata": {},
   "outputs": [],
   "source": [
    "reals_contain_integer_kt.proof()"
   ]
  },
  {
   "cell_type": "markdown",
   "metadata": {},
   "source": [
    "<div style=\"width: 90%; border: 5px solid green; padding: 10px; margin: 0px;\"><a id='demo07'></a><font size=4><b>7.</b> Deducing $\\{1, 3\\} \\subset \\{1, 2, 3, 4, 5\\}$</font></div><br/>\n",
    "<font size=3>For a variety of finite enumerated sets, represented by the <span style=\"font-family:courier;\">Set</span> class in the <span style=\"font-family:courier;\">set_theory/enumeration</span> theory, membership and containment claims can be proven with just a little effort. For example, we can define two enumerated Sets as shown below:\n",
    "</font>"
   ]
  },
  {
   "cell_type": "code",
   "execution_count": null,
   "metadata": {},
   "outputs": [],
   "source": [
    "set_13, set_12345 = Set(one, three), Set(one, two, three, four, five)"
   ]
  },
  {
   "cell_type": "markdown",
   "metadata": {},
   "source": [
    "<font size=3>and define the proper subset relationship between them:\n",
    "</font>"
   ]
  },
  {
   "cell_type": "code",
   "execution_count": null,
   "metadata": {},
   "outputs": [],
   "source": [
    "set_13_properSubset_set_12345 = ProperSubset(set_13, set_12345)"
   ]
  },
  {
   "cell_type": "markdown",
   "metadata": {},
   "source": [
    "<font size=3>If we ask Prove-It to prove the proper subset relationship automatically, we run into some difficulty:\n",
    "</font>"
   ]
  },
  {
   "cell_type": "code",
   "execution_count": null,
   "metadata": {},
   "outputs": [],
   "source": [
    "try:\n",
    "    set_13_properSubset_set_12345.prove()\n",
    "    assert False, \"Expecting a Proof Failure; should not make it to this point.\"\n",
    "except ProofFailure as e:\n",
    "    print(\"Proof Failure: {}\".format(e))"
   ]
  },
  {
   "cell_type": "markdown",
   "metadata": {},
   "source": [
    "<font size=3>But the enumerated Set class has some special machinery to help us out:\n",
    "</font>"
   ]
  },
  {
   "cell_type": "code",
   "execution_count": null,
   "metadata": {},
   "outputs": [],
   "source": [
    "NotInSet(two, set_13).prove()"
   ]
  },
  {
   "cell_type": "code",
   "execution_count": null,
   "metadata": {},
   "outputs": [],
   "source": [
    "set_12345.deduce_enum_proper_subset(subset=set_13)"
   ]
  },
  {
   "cell_type": "markdown",
   "metadata": {},
   "source": [
    "<font size=3>And a membership claim such as $2\\in\\{1, 2, 3, 4, 5\\}$ can be proven automatically:\n",
    "</font>"
   ]
  },
  {
   "cell_type": "code",
   "execution_count": null,
   "metadata": {},
   "outputs": [],
   "source": [
    "InSet(two, set_12345).prove()"
   ]
  },
  {
   "cell_type": "markdown",
   "metadata": {},
   "source": [
    "<font size=3>Enumerated Sets and related axioms, theorems, conjectures, and methods are discussed in much more detail in the set_theory/enumeration theory and the [enumeration demonstrations page](../enumeration/\\_demonstrations\\_.ipynb) page.\n",
    "</font>"
   ]
  },
  {
   "cell_type": "markdown",
   "metadata": {},
   "source": [
    "<div style=\"width: 90%; border: 5px solid green; padding: 10px; margin: 0px;\"><a id='demo08'></a><font size=4><b>8.</b> Manually Proving $\\{1, 3, 5\\} \\subseteq \\{1, 2, 3, 4, 5\\}$</font></div><br/>\n",
    "<font size=3><p>Although the enumerated <span style=\"font-family:courier;\">Set</span> class has machinery to make subset deductions fairly easy (as seen above in <a href=\"#demo07\">Demo 7</a>), it can be a useful exercise to consider a more manual approach. So let's consider a possible alternative effort to prove that $\\{1, 3, 5\\} \\subseteq \\{1, 2, 3, 4, 5\\}$.</p></font>"
   ]
  },
  {
   "cell_type": "markdown",
   "metadata": {},
   "source": [
    "<font size=3>We begin by defining our enumerated Sets and the subset relationship:</font>"
   ]
  },
  {
   "cell_type": "code",
   "execution_count": null,
   "metadata": {},
   "outputs": [],
   "source": [
    "set_135, set_12345 = Set(one, three, five), Set(one, two, three, four, five)"
   ]
  },
  {
   "cell_type": "code",
   "execution_count": null,
   "metadata": {},
   "outputs": [],
   "source": [
    "demo_08_subset = SubsetEq(set_135, set_12345)"
   ]
  },
  {
   "cell_type": "markdown",
   "metadata": {},
   "source": [
    "<font size=3>It turns out that Prove-It can automatically prove that subset relationship for us. WE can just call the following, which we've temporarily left commented-out for pedagogical purposes so its proof doesn't interfere with our looking at an alternative manual approach further below:</font>"
   ]
  },
  {
   "cell_type": "code",
   "execution_count": null,
   "metadata": {},
   "outputs": [],
   "source": [
    "# demo_08_subset.prove()"
   ]
  },
  {
   "cell_type": "markdown",
   "metadata": {},
   "source": [
    "<font size=3>Instead of allowing the automation to do it for us, and instead of utilizing the direct <span style=\"font-family:courier\">Set.deduce_enum_subset_eq()</span> method, consider the <span style=\"font-family:courier\">subset_eq_def</span> axiom, which provides a definition of what it means to say that one set is a (non-strict) subset of another:</font>"
   ]
  },
  {
   "cell_type": "code",
   "execution_count": null,
   "metadata": {},
   "outputs": [],
   "source": [
    "from proveit.logic.sets.inclusion  import subset_eq_def\n",
    "subset_eq_def"
   ]
  },
  {
   "cell_type": "markdown",
   "metadata": {},
   "source": [
    "<font size=3>We can instantiate the <span style=\"font-family:courier\">subset_eq_def</span> axiom for our particular case:</font>"
   ]
  },
  {
   "cell_type": "code",
   "execution_count": null,
   "metadata": {},
   "outputs": [],
   "source": [
    "subset_eq_def_specialized = subset_eq_def.instantiate(\n",
    "        {A:set_135, B:set_12345})"
   ]
  },
  {
   "cell_type": "markdown",
   "metadata": {},
   "source": [
    "<font size=3>If we can prove the rhs of that instantiated form, we can use the equality to conclude the lhs. To get there, we consider the <span style=\"font-family:courier;\">equivalence()</span> method for set membership, which unfolds a set membership claim into a disjunction of equalities, like this:</font>"
   ]
  },
  {
   "cell_type": "code",
   "execution_count": null,
   "metadata": {},
   "outputs": [],
   "source": [
    "InSmallerSetDef = InSet(x, set_135).equivalence()"
   ]
  },
  {
   "cell_type": "code",
   "execution_count": null,
   "metadata": {},
   "outputs": [],
   "source": [
    "InLargerSetDef = InSet(x, set_12345).equivalence()"
   ]
  },
  {
   "cell_type": "markdown",
   "metadata": {},
   "source": [
    "<font size=3>We can show that the smaller disjunction $((x=1)\\lor (x=3)\\lor (x=5))$ logically implies the larger disjunction $((x=1)\\lor (x=2)\\lor (x=3)\\lor (x=4)\\lor (x=5))$, and thus that membership in $\\{1, 3, 5\\}$ implies membership in $\\{1, 2, 3, 4, 5\\}$. To get there, we proceed as follows:</font>"
   ]
  },
  {
   "cell_type": "code",
   "execution_count": null,
   "metadata": {},
   "outputs": [],
   "source": [
    "# notice we can grab the disjunction expressions from the equivalence expressions above:\n",
    "display(InSmallerSetDef.rhs)\n",
    "display(InLargerSetDef.rhs)"
   ]
  },
  {
   "cell_type": "markdown",
   "metadata": {},
   "source": [
    "<font size=3>We use the Or.conclude_via_some method to show that the smaller conjunction allows the derivation of the larger conjunction:</font>"
   ]
  },
  {
   "cell_type": "code",
   "execution_count": null,
   "metadata": {},
   "outputs": [],
   "source": [
    "small_disj_gives_larger_disj = InLargerSetDef.rhs.conclude_via_some(\n",
    "        InSmallerSetDef.rhs, assumptions=[InSmallerSetDef.rhs])"
   ]
  },
  {
   "cell_type": "markdown",
   "metadata": {},
   "source": [
    "<font size=3>Then re-express that judgment as an implication:</font>"
   ]
  },
  {
   "cell_type": "code",
   "execution_count": null,
   "metadata": {},
   "outputs": [],
   "source": [
    "small_disj_implies_larger_disj = small_disj_gives_larger_disj.as_implication(\n",
    "        hypothesis=InSmallerSetDef.rhs)"
   ]
  },
  {
   "cell_type": "markdown",
   "metadata": {},
   "source": [
    "<font size=3>Now we use our earlier equivalence definitions to back-substitute:</font>"
   ]
  },
  {
   "cell_type": "code",
   "execution_count": null,
   "metadata": {},
   "outputs": [],
   "source": [
    "small_membership_implies_larger_disj = InSmallerSetDef.sub_left_side_into(small_disj_implies_larger_disj)"
   ]
  },
  {
   "cell_type": "code",
   "execution_count": null,
   "metadata": {},
   "outputs": [],
   "source": [
    "InLargerSetDef.sub_left_side_into(small_membership_implies_larger_disj)"
   ]
  },
  {
   "cell_type": "markdown",
   "metadata": {},
   "source": [
    "<font size=3>This gives Prove-It all it needs to prove the rhs of our earlier instantiated axiom, $\\forall_{x\\in\\{1, 3, 5\\} } (x\\in\\{1, 2, 3, 4, 5\\})$:</font>"
   ]
  },
  {
   "cell_type": "code",
   "execution_count": null,
   "metadata": {},
   "outputs": [],
   "source": [
    "subset_eq_def_specialized_rhs_kt = subset_eq_def_specialized.rhs.prove()"
   ]
  },
  {
   "cell_type": "markdown",
   "metadata": {},
   "source": [
    "<font size=3>And finally we can substitute in for that universally quantified expression our desired subset expression:</font>"
   ]
  },
  {
   "cell_type": "code",
   "execution_count": null,
   "metadata": {},
   "outputs": [],
   "source": [
    "subset_eq_def_specialized.sub_left_side_into(subset_eq_def_specialized_rhs_kt)"
   ]
  },
  {
   "cell_type": "markdown",
   "metadata": {},
   "source": [
    "<font size=3><i>Et voila!</i> Although a bit effortful, and although Prove-It can accomplish the same deduction automatically in this case, the exercise is useful in illustrating a number of typically steps and strategies, including an interplay between manual steps and automation, the instantiation of axioms and theorems, and the use of substitutions (in this case via <span style=\"font-family:courier;\">sub_left_side_into()</span>) between established judgments.</font>"
   ]
  },
  {
   "cell_type": "markdown",
   "metadata": {},
   "source": [
    "## Miscellaneous Testing\n",
    "<font size=3>The material below was developed to test various containment-related methods. Some of this material could be integrated into the `_demonstrations_` page eventually and/or deleted as development continues.</font>"
   ]
  },
  {
   "cell_type": "markdown",
   "metadata": {},
   "source": [
    "### Some Example `Sets` For Testing"
   ]
  },
  {
   "cell_type": "code",
   "execution_count": null,
   "metadata": {},
   "outputs": [],
   "source": [
    "from proveit.numbers import one, two, three, four, five, six, seven\n",
    "# define some enumerated Sets for use in testing, containing literals\n",
    "set_123, set_12345, set_1234567 = (\n",
    "        Set(one, two , three),\n",
    "        Set(one, two , three, four, five),\n",
    "        Set(one, two , three, four, five, six, seven))"
   ]
  },
  {
   "cell_type": "code",
   "execution_count": null,
   "metadata": {},
   "outputs": [],
   "source": [
    "from proveit import a, b, c, d, e\n",
    "# define some enumerated Sets for use in testing, containing variables\n",
    "set_abc, set_abcde = (\n",
    "        Set(a, b, c),\n",
    "        Set(a, b, c, d, e))"
   ]
  },
  {
   "cell_type": "code",
   "execution_count": null,
   "metadata": {},
   "outputs": [],
   "source": [
    "# recall some other basic sets already defined:\n",
    "Integer, Natural, NaturalPos, Real"
   ]
  },
  {
   "cell_type": "markdown",
   "metadata": {},
   "source": [
    "### Testing the `ProperSubset` class methods\n",
    "<br/>\n",
    "<font size =3>The <span style=\"font-family=courier\">ProperSubset</span> class has the following class methods:<br/>\n",
    "    <div style=\"width: 50%; border: 1px solid green; padding: 5px; margin: 20px; background-color: gainsboro; font-family:courier\">derive_reversed(self, assumptions=USE_DEFAULTS)<br/>\n",
    "    derive_relaxed(self, assumptions=USE_DEFAULTS)<br/>\n",
    "    apply_transitivity(self, other, assumptions=USE_DEFAULTS)<br/>\n",
    "    deduce_in_bool(self, assumptions=USE_DEFAULTS)</div>\n",
    "</font>"
   ]
  },
  {
   "cell_type": "code",
   "execution_count": null,
   "metadata": {},
   "outputs": [],
   "source": [
    "# define a few proper subset relations for testing\n",
    "set_123_properSubset_set_12345, set_12345_properSubset_set_1234567 = (\n",
    "        ProperSubset(set_123, set_12345),\n",
    "        ProperSubset(set_12345, set_1234567))"
   ]
  },
  {
   "cell_type": "code",
   "execution_count": null,
   "metadata": {},
   "outputs": [],
   "source": [
    "# define a few proper subset relations for testing\n",
    "set_abc_properSubset_set_abcde = ProperSubset(set_abc, set_abcde)"
   ]
  },
  {
   "cell_type": "markdown",
   "metadata": {},
   "source": [
    "### `ProperSubset.reversed()`"
   ]
  },
  {
   "cell_type": "code",
   "execution_count": null,
   "metadata": {},
   "outputs": [],
   "source": [
    "# if A is a proper subset of B, then B is a proper superset of A\n",
    "set_12345.deduce_enum_proper_subset(subset=set_123)\n",
    "set_123_properSubset_set_12345.reversed()"
   ]
  },
  {
   "cell_type": "code",
   "execution_count": null,
   "metadata": {},
   "outputs": [],
   "source": [
    "set_abcde.deduce_enum_proper_subset(subset=set_abc, assumptions=[NotInSet(d, set_abc)])\n",
    "set_abc_properSubset_set_abcde.reversed()"
   ]
  },
  {
   "cell_type": "markdown",
   "metadata": {},
   "source": [
    "### `ProperSubset.derive_relaxed()`"
   ]
  },
  {
   "cell_type": "code",
   "execution_count": null,
   "metadata": {},
   "outputs": [],
   "source": [
    "set_123_properSubset_set_12345.derive_relaxed()"
   ]
  },
  {
   "cell_type": "code",
   "execution_count": null,
   "metadata": {},
   "outputs": [],
   "source": [
    "set_abc_properSubset_set_abcde.derive_relaxed(assumptions=[NotInSet(d, set_abc)])"
   ]
  },
  {
   "cell_type": "code",
   "execution_count": null,
   "metadata": {},
   "outputs": [],
   "source": [
    "# derive_relaxed() method only works for actual proper subsets.\n",
    "# If the proper subset is not true or not provably true, derive_relaxed() will fail:\n",
    "try:\n",
    "    ProperSubset(Set(a, b), Set(a, b, c)).derive_relaxed()\n",
    "    assert False, \"Expecting a ProofFailure. Should not make it to this point.\"\n",
    "except ProofFailure as e:\n",
    "    print(\"Proof Failure: {}\".format(e))"
   ]
  },
  {
   "cell_type": "code",
   "execution_count": null,
   "metadata": {},
   "outputs": [],
   "source": [
    "# But if we first establish the proper subset as a judgment\n",
    "# (with the appropriate assumptions), then we can relax as expected:\n",
    "Set(a, b, c).deduce_enum_proper_subset(subset=Set(a, b), assumptions=[NotInSet(c, Set(a, b))])\n",
    "ProperSubset(Set(a, b), Set(a, b, c)).derive_relaxed(assumptions=[NotInSet(c, Set(a, b))])"
   ]
  },
  {
   "cell_type": "markdown",
   "metadata": {},
   "source": [
    "### `ProperSubset.apply_transitivity()`"
   ]
  },
  {
   "cell_type": "code",
   "execution_count": null,
   "metadata": {},
   "outputs": [],
   "source": [
    "# establish a proper subset judgement:\n",
    "set_12345.deduce_enum_proper_subset(subset=set_123)"
   ]
  },
  {
   "cell_type": "code",
   "execution_count": null,
   "metadata": {},
   "outputs": [],
   "source": [
    "# establish a related proper subset judgement:\n",
    "set_1234567.deduce_enum_proper_subset(subset=set_12345)"
   ]
  },
  {
   "cell_type": "code",
   "execution_count": null,
   "metadata": {},
   "outputs": [],
   "source": [
    "# use transitivity to go from first set to 3rd set:\n",
    "set_123_properSubset_set_12345.apply_transitivity(set_12345_properSubset_set_1234567)"
   ]
  },
  {
   "cell_type": "code",
   "execution_count": null,
   "metadata": {},
   "outputs": [],
   "source": [
    "# This process can work more generally.\n",
    "# First define some set relations for convenience:\n",
    "A_properSubset_B, B_subset_eq_C, B_equiv_D, C_superset_eq_B, F_superset_B = (\n",
    "    ProperSubset(A, B), SubsetEq(B, C), SetEquiv(B, D),\n",
    "    superset_eq(C, B), proper_superset(F, B))"
   ]
  },
  {
   "cell_type": "code",
   "execution_count": null,
   "metadata": {},
   "outputs": [],
   "source": [
    "A_properSubset_B.apply_transitivity(\n",
    "    B_subset_eq_C, assumptions=[ProperSubset(A, B), SubsetEq(B, C)])"
   ]
  },
  {
   "cell_type": "code",
   "execution_count": null,
   "metadata": {},
   "outputs": [],
   "source": [
    "# transitivity when other relation is an equality\n",
    "A_properSubset_B.apply_transitivity(\n",
    "        B_equiv_D, assumptions=[A_properSubset_B, B_equiv_D])"
   ]
  },
  {
   "cell_type": "code",
   "execution_count": null,
   "metadata": {},
   "outputs": [],
   "source": [
    "# transitivity when other relation is a SupersetEq\n",
    "# ProperSubset(A, B) and SupersetEq(C, B)?\n",
    "A_properSubset_B.apply_transitivity(\n",
    "        C_superset_eq_B, assumptions=[A_properSubset_B, C_superset_eq_B])"
   ]
  },
  {
   "cell_type": "code",
   "execution_count": null,
   "metadata": {},
   "outputs": [],
   "source": [
    "# transitivity when other relation is a Superse\n",
    "# SubsetEq(A, B) and ProperSuperset(F, B)?\n",
    "A_properSubset_B.apply_transitivity(\n",
    "        F_superset_B, assumptions=[A_properSubset_B, F_superset_B])"
   ]
  },
  {
   "cell_type": "markdown",
   "metadata": {},
   "source": [
    "### `ProperSubset.deduce_in_bool()`"
   ]
  },
  {
   "cell_type": "code",
   "execution_count": null,
   "metadata": {},
   "outputs": [],
   "source": [
    "# Proper subset claims are Boolean values\n",
    "A_properSubset_B.deduce_in_bool()"
   ]
  },
  {
   "cell_type": "code",
   "execution_count": null,
   "metadata": {},
   "outputs": [],
   "source": [
    "# Proper subset claims are Boolean values\n",
    "set_abc_properSubset_set_abcde.deduce_in_bool()"
   ]
  },
  {
   "cell_type": "markdown",
   "metadata": {},
   "source": [
    "### Testing the `SubsetEq` class methods\n",
    "<br/>\n",
    "<font size =3>The <span style=\"font-family=courier\">SubsetEq</span> class has the following class methods:<br/>\n",
    "    <div style=\"width: 50%; border: 1px solid green; padding: 5px; margin: 20px; background-color: gainsboro; font-family:courier;\">\n",
    "    <ul>\n",
    "    <li>reversed(self)</li>\n",
    "    <li>conclude(self, assumptions=USE_DEFAULTS)</li>\n",
    "    <li>conclude_via_equality(self, assumptions)</li>\n",
    "    <li>unfold(self, elem_instance_var=x, assumptions=USE_DEFAULTS)</li>\n",
    "    <li>derive_superset_membership(self, element, assumptions=USE_DEFAULTS)</li>\n",
    "    <li>conclude_as_folded(self, elem_instance_var=x, assumptions=USE_DEFAULTS)</li>\n",
    "    <li>apply_transitivity(self, other, assumptions=USE_DEFAULTS)</li>\n",
    "    <li>deduce_in_bool(self, assumptions=USE_DEFAULTS)</li>\n",
    "    </ul>\n",
    "    </div>\n",
    "</font>"
   ]
  },
  {
   "cell_type": "markdown",
   "metadata": {},
   "source": [
    "### `SubsetEq.reversed()`"
   ]
  },
  {
   "cell_type": "code",
   "execution_count": null,
   "metadata": {},
   "outputs": [],
   "source": [
    "set_13, set_1234 = Set(one, three), Set(one, two, three, four)"
   ]
  },
  {
   "cell_type": "code",
   "execution_count": null,
   "metadata": {},
   "outputs": [],
   "source": [
    "set_1234__superset__set_13 = SubsetEq(set_13, set_1234).reversed()"
   ]
  },
  {
   "cell_type": "code",
   "execution_count": null,
   "metadata": {},
   "outputs": [],
   "source": [
    "set_1234__superset__set_13.prove()"
   ]
  },
  {
   "cell_type": "markdown",
   "metadata": {},
   "source": [
    "### `SubsetEq.conclude()`"
   ]
  },
  {
   "cell_type": "code",
   "execution_count": null,
   "metadata": {},
   "outputs": [],
   "source": [
    "SubsetEq(Set(one, two, four), Set(one, two, three, four, five))"
   ]
  },
  {
   "cell_type": "code",
   "execution_count": null,
   "metadata": {},
   "outputs": [],
   "source": [
    "# very simple things working OK\n",
    "SubsetEq(Set(one, two, four), Set(one, two, four)).conclude()"
   ]
  },
  {
   "cell_type": "code",
   "execution_count": null,
   "metadata": {},
   "outputs": [],
   "source": [
    "# very simple things working OK\n",
    "SubsetEq(A, A).conclude()"
   ]
  },
  {
   "cell_type": "code",
   "execution_count": null,
   "metadata": {},
   "outputs": [],
   "source": [
    "# but having trouble with other simple things, which seems related\n",
    "# to calling the conclude_as_folded() method:\n",
    "# try:\n",
    "#     SubsetEq(Set(one, two, four), Set(one, two, three, four, five)).conclude()\n",
    "#     assert False, \"Expecting a ProofFailure. Should not make it to this point.\"\n",
    "# except ProofFailure as e:\n",
    "#     print(\"Proof Failure: {}\".format(e))"
   ]
  },
  {
   "cell_type": "code",
   "execution_count": null,
   "metadata": {},
   "outputs": [],
   "source": [
    "set_135 = Set(one, three, five)\n",
    "set_12345 = Set(one, two, three, four, five)\n",
    "example_forall = Forall(\n",
    "        x,\n",
    "        Implies(InSet(x, set_135), InSet(x, set_12345)),\n",
    "        domain=set_135)"
   ]
  },
  {
   "cell_type": "code",
   "execution_count": null,
   "metadata": {},
   "outputs": [],
   "source": [
    "# apparently, the only domain that has the necessary 'fold_as_forall'\n",
    "# is the Boolean set?\n",
    "try:\n",
    "    example_forall.conclude_as_folded()\n",
    "    assert False, \"Expecting AttributeError; should not make it to this point.\"\n",
    "except AttributeError as e:\n",
    "    print(\"Attribute Error: {}\".format(e))"
   ]
  },
  {
   "cell_type": "code",
   "execution_count": null,
   "metadata": {},
   "outputs": [],
   "source": [
    "from proveit.logic import NotEquals, SetOfAll\n",
    "non_zero_ints = SetOfAll(x, x, conditions=[NotEquals(x, zero)], domain=Integer)"
   ]
  },
  {
   "cell_type": "code",
   "execution_count": null,
   "metadata": {},
   "outputs": [],
   "source": [
    "# Some issue here involving SetOfAll sets not yet understood.\n",
    "# SubsetEq(non_zero_ints, Integer).conclude()"
   ]
  },
  {
   "cell_type": "markdown",
   "metadata": {},
   "source": [
    "### `SubsetEq.conclude_via_equivalence()`"
   ]
  },
  {
   "cell_type": "code",
   "execution_count": null,
   "metadata": {},
   "outputs": [],
   "source": [
    "SubsetEq(A, B).conclude_via_equivalence([SetEquiv(A, B)])"
   ]
  },
  {
   "cell_type": "markdown",
   "metadata": {},
   "source": [
    "### `SubsetEq.unfold()`"
   ]
  },
  {
   "cell_type": "code",
   "execution_count": null,
   "metadata": {},
   "outputs": [],
   "source": [
    "SubsetEq(set_123, set_12345).unfold()"
   ]
  },
  {
   "cell_type": "code",
   "execution_count": null,
   "metadata": {},
   "outputs": [],
   "source": [
    "# Works, but often have to explicitly pre-establish that\n",
    "# the subset_eq relationship is actually true\n",
    "Set(a, one, b, c).deduce_enum_subset_eq(subset=Set(a, one, b))\n",
    "SubsetEq(Set(a, one, b), Set(a, one, b, c)).unfold()"
   ]
  },
  {
   "cell_type": "markdown",
   "metadata": {},
   "source": [
    "### `SubsetEq.derive_superset_membership()`"
   ]
  },
  {
   "cell_type": "code",
   "execution_count": null,
   "metadata": {},
   "outputs": [],
   "source": [
    "# given a known subset_eq relationship, and an element in the\n",
    "# subset, derive the element as being in the superset\n",
    "SubsetEq(set_123, set_12345).derive_superset_membership(two)"
   ]
  },
  {
   "cell_type": "code",
   "execution_count": null,
   "metadata": {},
   "outputs": [],
   "source": [
    "SubsetEq(Set(a, one, b), Set(a, one, b, c)).derive_superset_membership(a)"
   ]
  },
  {
   "cell_type": "code",
   "execution_count": null,
   "metadata": {},
   "outputs": [],
   "source": [
    "# and this works more generally, where we can assume an elem in the subset\n",
    "from proveit import f\n",
    "Set(a, b, c, d).deduce_enum_subset_eq(subset=set_abc)\n",
    "SubsetEq(Set(a, b, c), Set(a, b, c, d)).derive_superset_membership(f, assumptions=[InSet(f, set_abc)])"
   ]
  },
  {
   "cell_type": "markdown",
   "metadata": {},
   "source": [
    "### `SubsetEq.conclude_as_folded()`"
   ]
  },
  {
   "cell_type": "code",
   "execution_count": null,
   "metadata": {},
   "outputs": [],
   "source": [
    "from proveit import g\n",
    "SubsetEq(Set(b, g), Set(b, d, g)).conclude_as_folded(\n",
    "        assumptions=[Forall(x, InSet(x, Set(b, d, g)), domain=Set(b, g))])"
   ]
  },
  {
   "cell_type": "markdown",
   "metadata": {},
   "source": [
    "### `SubsetEq.apply_transitivity()`"
   ]
  },
  {
   "cell_type": "code",
   "execution_count": null,
   "metadata": {},
   "outputs": [],
   "source": [
    "# establish a subset_eq judgement:\n",
    "set_123_subset_eq_set_12345 = set_12345.deduce_enum_subset_eq(subset=set_123)"
   ]
  },
  {
   "cell_type": "code",
   "execution_count": null,
   "metadata": {},
   "outputs": [],
   "source": [
    "# establish a related proper subset judgement:\n",
    "set_12345_subset_eq_set_1234567 = set_1234567.deduce_enum_proper_subset(subset=set_12345)"
   ]
  },
  {
   "cell_type": "code",
   "execution_count": null,
   "metadata": {},
   "outputs": [],
   "source": [
    "# use transitivity to go from first set to 3rd set\n",
    "# (even though using expressions, the expressions have to be true or provable)\n",
    "SubsetEq(set_123, set_12345).apply_transitivity(SubsetEq(set_12345, set_1234567))"
   ]
  },
  {
   "cell_type": "code",
   "execution_count": null,
   "metadata": {},
   "outputs": [],
   "source": [
    "# this process can work more generally:\n",
    "A_subset_eq_B, B_subset_eq_C, B_equals_D, D_equals_B, C_superset_eq_B, F_superset_B = (\n",
    "    SubsetEq(A, B), SubsetEq(B, C), Equals(B, D), Equals(D, B),\n",
    "    superset_eq(C, B), proper_superset(F, B))"
   ]
  },
  {
   "cell_type": "code",
   "execution_count": null,
   "metadata": {},
   "outputs": [],
   "source": [
    "A_subset_eq_B.apply_transitivity(\n",
    "        B_subset_eq_C, assumptions=[A_subset_eq_B, B_subset_eq_C])"
   ]
  },
  {
   "cell_type": "code",
   "execution_count": null,
   "metadata": {},
   "outputs": [],
   "source": [
    "B_equals_D.normal_lhs in (A_subset_eq_B.normal_lhs, A_subset_eq_B.normal_rhs)"
   ]
  },
  {
   "cell_type": "code",
   "execution_count": null,
   "metadata": {},
   "outputs": [],
   "source": [
    "A_subset_eq_B.apply_transitivity(\n",
    "        B_equals_D, assumptions=[A_subset_eq_B, B_equals_D])"
   ]
  },
  {
   "cell_type": "code",
   "execution_count": null,
   "metadata": {},
   "outputs": [],
   "source": [
    "A_subset_eq_B.apply_transitivity(\n",
    "        B_equiv_D, assumptions=[A_subset_eq_B, B_equiv_D])"
   ]
  },
  {
   "cell_type": "code",
   "execution_count": null,
   "metadata": {},
   "outputs": [],
   "source": [
    "A_subset_eq_B.apply_transitivity(\n",
    "        D_equals_B, assumptions=[A_subset_eq_B, D_equals_B])"
   ]
  },
  {
   "cell_type": "code",
   "execution_count": null,
   "metadata": {},
   "outputs": [],
   "source": [
    "# SubsetEq(A, B) and SupersetEq(C, B)?\n",
    "A_subset_eq_B.apply_transitivity(\n",
    "        C_superset_eq_B, assumptions=[A_subset_eq_B, C_superset_eq_B])"
   ]
  },
  {
   "cell_type": "code",
   "execution_count": null,
   "metadata": {},
   "outputs": [],
   "source": [
    "# SubsetEq(A, B) and_proper_superset(F, B)?\n",
    "A_subset_eq_B.apply_transitivity(\n",
    "        F_superset_B, assumptions=[A_subset_eq_B, F_superset_B])"
   ]
  },
  {
   "cell_type": "markdown",
   "metadata": {},
   "source": [
    "### `SubsetEq.deduce_in_bool()`"
   ]
  },
  {
   "cell_type": "code",
   "execution_count": null,
   "metadata": {},
   "outputs": [],
   "source": [
    "# A subset_eq B should be a Boolean\n",
    "SubsetEq(A, B).deduce_in_bool()"
   ]
  },
  {
   "cell_type": "code",
   "execution_count": null,
   "metadata": {},
   "outputs": [],
   "source": [
    "SubsetEq(Set(a, b, c), Set(a, b, c, d)).deduce_in_bool()"
   ]
  },
  {
   "cell_type": "markdown",
   "metadata": {},
   "source": [
    "### Testing the `ProperSubset` class methods in the superset style\n",
    "<br/>\n",
    "<font size =3>Again, the <span style=\"font-family=courier\">ProperSubset</span> class has the following class methods:<br/>\n",
    "    <div style=\"width: 70%; border: 1px solid green; padding: 5px; margin: 20px; background-color: gainsboro; font-family:courier\">\n",
    "        <ul>\n",
    "            <li>reversed(self)</li>\n",
    "            <li>derive_relaxed(self, assumptions=USE_DEFAULTS)</li>\n",
    "            <li>apply_transitivity(self, other, assumptions=USE_DEFAULTS)</li>\n",
    "            <li>deduce_in_bool(self, assumptions=USE_DEFAULTS)</li>\n",
    "        </ul>\n",
    "    </div>\n",
    "</font>"
   ]
  },
  {
   "cell_type": "code",
   "execution_count": null,
   "metadata": {},
   "outputs": [],
   "source": [
    "# define a few proper supersetset relations for testing\n",
    "set_13, set_134, set_1346 = (\n",
    "    Set(one, three), Set(one, three, four), Set(one, three, four, six))\n",
    "set_134_properSuperset_set_13, set_1346_properSuperset_set_134 = (\n",
    "        proper_superset(set_134, set_13), proper_superset(set_1346, set_134))"
   ]
  },
  {
   "cell_type": "code",
   "execution_count": null,
   "metadata": {},
   "outputs": [],
   "source": [
    "# define a few proper supersetset relations for testing\n",
    "from proveit import g\n",
    "set_bc, set_bcf, set_bcdfg = Set(b, c), Set(b, c, f), Set(b, c, d, f, g)\n",
    "set_bcf_properSuperset_set_bc, set_bcdfg_properSuperset_set_bcf = (\n",
    "        proper_superset(set_bcf, set_bc), proper_superset(set_bcdfg, set_bcf))"
   ]
  },
  {
   "cell_type": "code",
   "execution_count": null,
   "metadata": {},
   "outputs": [],
   "source": [
    "# define a few subset relations for testing (when a reverse is desired)\n",
    "from proveit import g\n",
    "set_bc, set_bcf, set_bcdfg = Set(b, c), Set(b, c, f), Set(b, c, d, f, g)\n",
    "set_bc_properSubset_set_bcf, set_bcf_subset_eq_set_bcdfg = (\n",
    "        ProperSubset(set_bc, set_bcf), SubsetEq(set_bcf, set_bcdfg))"
   ]
  },
  {
   "cell_type": "markdown",
   "metadata": {},
   "source": [
    "### `ProperSubset.reversed()`"
   ]
  },
  {
   "cell_type": "code",
   "execution_count": null,
   "metadata": {},
   "outputs": [],
   "source": [
    "# if A is a proper superset of B, then B is a proper superset of A\n",
    "set_1346_properSuperset_set_134.reversed()"
   ]
  },
  {
   "cell_type": "code",
   "execution_count": null,
   "metadata": {},
   "outputs": [],
   "source": [
    "set_bcdfg_properSuperset_set_bcf.reversed()"
   ]
  },
  {
   "cell_type": "markdown",
   "metadata": {},
   "source": [
    "### `ProperSubset.derive_relaxed()`"
   ]
  },
  {
   "cell_type": "code",
   "execution_count": null,
   "metadata": {},
   "outputs": [],
   "source": [
    "set_1346_properSuperset_set_134.derive_relaxed(\n",
    "    assumptions=[set_1346_properSuperset_set_134])"
   ]
  },
  {
   "cell_type": "code",
   "execution_count": null,
   "metadata": {},
   "outputs": [],
   "source": [
    "set_bcdfg_properSuperset_set_bcf.derive_relaxed(\n",
    "    assumptions=[set_bcdfg_properSuperset_set_bcf])"
   ]
  },
  {
   "cell_type": "markdown",
   "metadata": {},
   "source": [
    "### `ProperSubset.apply_transitivity()`"
   ]
  },
  {
   "cell_type": "code",
   "execution_count": null,
   "metadata": {},
   "outputs": [],
   "source": [
    "# establish a ProperSubset judgement: \n",
    "set_13_properSubset_set_12345 = set_12345.deduce_enum_proper_subset(subset=set_13)"
   ]
  },
  {
   "cell_type": "code",
   "execution_count": null,
   "metadata": {},
   "outputs": [],
   "source": [
    "# establish the ProperSuperset relation by reversing:\n",
    "set_12345_ProperSuperset_set_13 = set_13_properSubset_set_12345.reversed().prove()"
   ]
  },
  {
   "cell_type": "code",
   "execution_count": null,
   "metadata": {},
   "outputs": [],
   "source": [
    "# establish a related proper subset judgement:\n",
    "set_12345_ProperSubset_set_1234567 = set_1234567.deduce_enum_proper_subset(subset=set_12345)"
   ]
  },
  {
   "cell_type": "code",
   "execution_count": null,
   "metadata": {},
   "outputs": [],
   "source": [
    "# establish the ProperSuperset relation by reversing:\n",
    "set_1234567_ProperSuperset_set_12345 = set_12345_ProperSubset_set_1234567.reversed().prove()"
   ]
  },
  {
   "cell_type": "code",
   "execution_count": null,
   "metadata": {},
   "outputs": [],
   "source": [
    "# use transitivity to go from largest set to smallest set\n",
    "# (even though using expressions, the expressions have to be true or provable)\n",
    "set_1234567_ProperSuperset_set_12345.apply_transitivity(set_12345_ProperSuperset_set_13.expr)"
   ]
  },
  {
   "cell_type": "code",
   "execution_count": null,
   "metadata": {},
   "outputs": [],
   "source": [
    "# this process can work more generally:\n",
    "A_properSuperset_B, B_properSuperset_C, B_equals_D, C_properSubset_B, C_subset_eq_D = (\n",
    "    proper_superset(A, B), proper_superset(B, C), Equals(B, D),\n",
    "    ProperSubset(C, B), SubsetEq(C, D))"
   ]
  },
  {
   "cell_type": "code",
   "execution_count": null,
   "metadata": {},
   "outputs": [],
   "source": [
    "A_properSuperset_B.apply_transitivity(\n",
    "        B_properSuperset_C, assumptions=[A_properSuperset_B, B_properSuperset_C])"
   ]
  },
  {
   "cell_type": "code",
   "execution_count": null,
   "metadata": {},
   "outputs": [],
   "source": [
    "A_properSuperset_B.apply_transitivity(\n",
    "        B_equals_D, assumptions=[A_properSuperset_B, B_equals_D])"
   ]
  },
  {
   "cell_type": "code",
   "execution_count": null,
   "metadata": {},
   "outputs": [],
   "source": [
    "A_properSuperset_B.apply_transitivity(\n",
    "        D_equals_B, assumptions=[A_properSuperset_B, D_equals_B])"
   ]
  },
  {
   "cell_type": "code",
   "execution_count": null,
   "metadata": {},
   "outputs": [],
   "source": [
    "## Now need to try calling when the other needs reversed\n",
    "A_properSuperset_B.apply_transitivity(\n",
    "        C_properSubset_B, assumptions=[A_properSuperset_B, C_properSubset_B])"
   ]
  },
  {
   "cell_type": "markdown",
   "metadata": {},
   "source": [
    "### Testing the `SubsetEq` class methods in the superset style\n",
    "<br/>\n",
    "<font size =3>The <span style=\"font-family=courier\">SupersetEq</span> class has the following class methods:<br/>\n",
    "    <div style=\"width: 50%; border: 1px solid green; padding: 5px; margin: 20px; background-color: gainsboro; font-family:courier\">\n",
    "        <ul>\n",
    "            <li>reversed(self)</li>\n",
    "            <li>conclude(self, assumptions=USE_DEFAULTS)</li>\n",
    "            <li>conclude_via_equality(self, assumptions)</li>\n",
    "            <li>unfold(self, elem_instance_var=x, assumptions=USE_DEFAULTS)</li>\n",
    "            <li>derive_superset_membership(self, element, assumptions=USE_DEFAULTS)</li>\n",
    "            <li>conclude_as_folded(self, elem_instance_var=x, assumptions=USE_DEFAULTS)</li>\n",
    "            <li>apply_transitivity(self, other, assumptions=USE_DEFAULTS)</li>\n",
    "            <li>deduce_in_bool(self, assumptions=USE_DEFAULTS)</li>\n",
    "        </ul>\n",
    "    </div>\n",
    "</font>"
   ]
  },
  {
   "cell_type": "code",
   "execution_count": null,
   "metadata": {},
   "outputs": [],
   "source": [
    "# define a few proper subset relations for testing\n",
    "set_13, set_134, set_1346 = Set(one, three), Set(one, three, four), Set(one, three, four, six)\n",
    "set_134_superset_eq_set_13, set_1346_superset_eq_set_134 = (\n",
    "        superset_eq(set_134, set_13), superset_eq(set_1346, set_134))"
   ]
  },
  {
   "cell_type": "code",
   "execution_count": null,
   "metadata": {},
   "outputs": [],
   "source": [
    "# define a few proper subset relations for testing\n",
    "from proveit import g\n",
    "set_bc, set_bcf, set_bcdfg = Set(b, c), Set(b, c, f), Set(b, c, d, f, g)\n",
    "set_bcf_superset_eq_set_bc, set_bcdfg_superset_eq_set_bcf = (\n",
    "        superset_eq(set_bcf, set_bc), superset_eq(set_bcdfg, set_bcf))"
   ]
  },
  {
   "cell_type": "markdown",
   "metadata": {},
   "source": [
    "### `SubsetEq.reversed()`"
   ]
  },
  {
   "cell_type": "code",
   "execution_count": null,
   "metadata": {},
   "outputs": [],
   "source": [
    "# if A is a superset_eq of B, then B is a subset_eq of A\n",
    "set_1346.deduce_enum_subset_eq(subset=set_134)\n",
    "set_1346_superset_eq_set_134.reversed()"
   ]
  },
  {
   "cell_type": "code",
   "execution_count": null,
   "metadata": {},
   "outputs": [],
   "source": [
    "set_bcdfg_superset_eq_set_bcf.reversed()"
   ]
  },
  {
   "cell_type": "markdown",
   "metadata": {},
   "source": [
    "### `SubsetEq.conclude()`"
   ]
  },
  {
   "cell_type": "code",
   "execution_count": null,
   "metadata": {},
   "outputs": [],
   "source": [
    "set_134.deduce_enum_subset_eq(subset = set_13)\n",
    "set_134_superset_eq_set_13.conclude()"
   ]
  },
  {
   "cell_type": "code",
   "execution_count": null,
   "metadata": {},
   "outputs": [],
   "source": [
    "set_bcf_superset_eq_set_bc.conclude(assumptions=[SubsetEq(set_bc, set_bcf)])"
   ]
  },
  {
   "cell_type": "markdown",
   "metadata": {},
   "source": [
    "### `SubsetEq.conclude_via_equivalence()`"
   ]
  },
  {
   "cell_type": "code",
   "execution_count": null,
   "metadata": {},
   "outputs": [],
   "source": [
    "superset_eq(B, B).conclude_via_equivalence()"
   ]
  },
  {
   "cell_type": "code",
   "execution_count": null,
   "metadata": {},
   "outputs": [],
   "source": [
    "superset_eq(Set(b, two, d), Set(b, two, d)).conclude_via_equivalence()"
   ]
  },
  {
   "cell_type": "markdown",
   "metadata": {},
   "source": [
    "### `SubsetEq.unfold()`"
   ]
  },
  {
   "cell_type": "code",
   "execution_count": null,
   "metadata": {},
   "outputs": [],
   "source": [
    "superset_eq(set_1346, set_134).unfold()"
   ]
  },
  {
   "cell_type": "code",
   "execution_count": null,
   "metadata": {},
   "outputs": [],
   "source": [
    "# Works, but often have to explicitly pre-establish that\n",
    "# the superset_eq relationship is actually true\n",
    "a1b_subset_eq_a1bc = Set(a, one, b, c).deduce_enum_subset_eq(subset=Set(a, one, b))\n",
    "# a1b_subset_eq_a1bc.derive_reversed()\n",
    "superset_eq(Set(a, one, b, c), Set(a, one, b)).unfold()"
   ]
  },
  {
   "cell_type": "markdown",
   "metadata": {},
   "source": [
    "### `SubsetEq.derive_superset_membership()`"
   ]
  },
  {
   "cell_type": "code",
   "execution_count": null,
   "metadata": {},
   "outputs": [],
   "source": [
    "# given a known superset_eq relationship, and an element in the\n",
    "# subset, derive the element as being in the superset\n",
    "superset_eq(set_12345, set_123).derive_superset_membership(two)"
   ]
  },
  {
   "cell_type": "code",
   "execution_count": null,
   "metadata": {},
   "outputs": [],
   "source": [
    "superset_eq(Set(a, one, b, c), Set(a, one, b)).derive_superset_membership(a)"
   ]
  },
  {
   "cell_type": "code",
   "execution_count": null,
   "metadata": {},
   "outputs": [],
   "source": [
    "# and this works more generally, where we can assume an elem in the subset\n",
    "from proveit import f\n",
    "Set(a, b, c, d).deduce_enum_subset_eq(subset=set_abc)\n",
    "superset_eq(Set(a, b, c, d), Set(a, b, c)).derive_superset_membership(f, assumptions=[InSet(f, set_abc)])"
   ]
  },
  {
   "cell_type": "markdown",
   "metadata": {},
   "source": [
    "### `SubsetEq.derive_subset_nonmembership()`"
   ]
  },
  {
   "cell_type": "code",
   "execution_count": null,
   "metadata": {},
   "outputs": [],
   "source": [
    "# given a known superset_eq relationship, and an element NOT in the superset,\n",
    "# derive the element as NOT being in the subset\n",
    "superset_eq(set_12345, set_123).derive_subset_nonmembership(six)"
   ]
  },
  {
   "cell_type": "code",
   "execution_count": null,
   "metadata": {},
   "outputs": [],
   "source": [
    "superset_eq(Set(a, one, b, c), Set(a, one, b)).derive_subset_nonmembership(\n",
    "        two, assumptions=[NotEquals(a, two), NotEquals(b, two), NotEquals(c, two)])"
   ]
  },
  {
   "cell_type": "code",
   "execution_count": null,
   "metadata": {},
   "outputs": [],
   "source": [
    "# and this works more generally, where we can assume some elem not in the superset\n",
    "# which means it must not be in the subset\n",
    "from proveit import f\n",
    "Set(a, b, c, d).deduce_enum_subset_eq(subset=set_abc)\n",
    "superset_eq(Set(a, b, c, d), Set(a, b, c)).derive_subset_nonmembership(f, assumptions=[NotInSet(f, Set(a, b, c, d))])"
   ]
  },
  {
   "cell_type": "markdown",
   "metadata": {},
   "source": [
    "### `SubsetEq.conclude_as_folded()`"
   ]
  },
  {
   "cell_type": "code",
   "execution_count": null,
   "metadata": {},
   "outputs": [],
   "source": [
    "superset_eq(Set(b, d, g), Set(b, g)).conclude_as_folded(\n",
    "        assumptions=[Forall(x, InSet(x, Set(b, d, g)), domain=Set(b, g))])"
   ]
  },
  {
   "cell_type": "markdown",
   "metadata": {},
   "source": [
    "### `SubsetEq.apply_transitivity()`"
   ]
  },
  {
   "cell_type": "code",
   "execution_count": null,
   "metadata": {},
   "outputs": [],
   "source": [
    "# establish a SubsetEq judgement: \n",
    "set_13_subset_eq_set_12345 = set_12345.deduce_enum_subset_eq(subset=set_13)"
   ]
  },
  {
   "cell_type": "code",
   "execution_count": null,
   "metadata": {},
   "outputs": [],
   "source": [
    "# establish the superset_eq relation by reversing:\n",
    "set_12345_superset_eq_set_13 = set_13_subset_eq_set_12345.reversed().prove()"
   ]
  },
  {
   "cell_type": "code",
   "execution_count": null,
   "metadata": {},
   "outputs": [],
   "source": [
    "set_12345_superset_eq_set_13.expr"
   ]
  },
  {
   "cell_type": "code",
   "execution_count": null,
   "metadata": {},
   "outputs": [],
   "source": [
    "# establish a related proper subset judgement:\n",
    "set_12345_subset_eq_set_1234567 = set_1234567.deduce_enum_subset_eq(subset=set_12345)"
   ]
  },
  {
   "cell_type": "code",
   "execution_count": null,
   "metadata": {},
   "outputs": [],
   "source": [
    "set_1234567_superset_eq_set_12345 = set_12345_subset_eq_set_1234567.reversed().prove()"
   ]
  },
  {
   "cell_type": "code",
   "execution_count": null,
   "metadata": {},
   "outputs": [],
   "source": [
    "# use transitivity to go from largest set to smallest set\n",
    "# (even though using expressions, the expressions have to be true or provable)\n",
    "set_1234567_superset_eq_set_12345.apply_transitivity(set_12345_superset_eq_set_13.expr)"
   ]
  },
  {
   "cell_type": "code",
   "execution_count": null,
   "metadata": {},
   "outputs": [],
   "source": [
    "# this process can work more generally:\n",
    "A_superset_eq_B, B_superset_eq_C, B_equals_D, C_properSubset_B, D_subset_eq_B = (\n",
    "        superset_eq(A, B), superset_eq(B, C), Equals(B, D), ProperSubset(C, B), SubsetEq(D, B))"
   ]
  },
  {
   "cell_type": "code",
   "execution_count": null,
   "metadata": {},
   "outputs": [],
   "source": [
    "A_superset_eq_B.apply_transitivity(\n",
    "        B_superset_eq_C, assumptions=[A_superset_eq_B, B_superset_eq_C])"
   ]
  },
  {
   "cell_type": "code",
   "execution_count": null,
   "metadata": {},
   "outputs": [],
   "source": [
    "A_superset_eq_B.apply_transitivity(\n",
    "        B_equals_D, assumptions=[A_superset_eq_B, B_equals_D])"
   ]
  },
  {
   "cell_type": "code",
   "execution_count": null,
   "metadata": {},
   "outputs": [],
   "source": [
    "A_superset_eq_B.apply_transitivity(\n",
    "        D_equals_B, assumptions=[A_superset_eq_B, D_equals_B])"
   ]
  },
  {
   "cell_type": "code",
   "execution_count": null,
   "metadata": {},
   "outputs": [],
   "source": [
    "A_superset_eq_B.apply_transitivity(\n",
    "        C_properSubset_B, assumptions=[A_superset_eq_B, C_properSubset_B])"
   ]
  },
  {
   "cell_type": "code",
   "execution_count": null,
   "metadata": {},
   "outputs": [],
   "source": [
    "A_superset_eq_B.apply_transitivity(\n",
    "        D_subset_eq_B, assumptions=[A_superset_eq_B, D_subset_eq_B])"
   ]
  },
  {
   "cell_type": "code",
   "execution_count": null,
   "metadata": {},
   "outputs": [],
   "source": [
    "# And this shouldn't work if no transitive relation:\n",
    "try:\n",
    "    A_superset_eq_B.apply_transitivity(\n",
    "        SubsetEq(B, D), assumptions=[A_superset_eq_B, SubsetEq(B, D)])\n",
    "    assert False, \"Expecting a ValueError. Should not make it to this point.\"\n",
    "except ValueError as e:\n",
    "    print(\"Value Error: {}\".format(e))\n",
    "    "
   ]
  },
  {
   "cell_type": "markdown",
   "metadata": {},
   "source": [
    "### `SubsetEq.deduce_in_bool()`"
   ]
  },
  {
   "cell_type": "code",
   "execution_count": null,
   "metadata": {},
   "outputs": [],
   "source": [
    "# superset_eq claims are Boolean values\n",
    "A_superset_eq_B.deduce_in_bool()"
   ]
  },
  {
   "cell_type": "code",
   "execution_count": null,
   "metadata": {},
   "outputs": [],
   "source": [
    "# superset_eq claims are Boolean values\n",
    "superset_eq(set_abcde, set_abc).deduce_in_bool()"
   ]
  },
  {
   "cell_type": "markdown",
   "metadata": {},
   "source": [
    "### Testing the `NotProperSubset` and `NotSubsetEq` class methods\n",
    "<br/>\n",
    "<font size =3>The <span style=\"font-family=courier\">NotProperSubset</span> and <span style=\"font-family=courier\">NotSubsetEq</span>classes have the following class methods:<br/>\n",
    "    <div style=\"width: 50%; border: 1px solid green; padding: 5px; margin: 20px; background-color: gainsboro; font-family:courier;\">\n",
    "    <ul>\n",
    "    <li>derive_side_effects(self, known_truth)</li>\n",
    "    <li>conclude(self, assumptions=USE_DEFAULTS)</li>\n",
    "    <li>unfold(self, assumptions=USE_DEFAULTS)</li>\n",
    "    <li>conclude_as_folded(self, assumptions=USE_DEFAULTS)</li>\n",
    "    <li>deduce_in_bool(self, assumptions=USE_DEFAULTS)</li>\n",
    "    </ul>\n",
    "    </div>\n",
    "</font>"
   ]
  },
  {
   "cell_type": "code",
   "execution_count": null,
   "metadata": {},
   "outputs": [],
   "source": [
    "display(set_1234)\n",
    "display(set_123)\n",
    "NPS_kt = NotProperSubset(set_1234, set_123).prove(assumptions=[NotProperSubset(set_1234, set_123)])"
   ]
  },
  {
   "cell_type": "markdown",
   "metadata": {},
   "source": [
    "### `NotProperSubset.derive_side_effects()`"
   ]
  },
  {
   "cell_type": "code",
   "execution_count": null,
   "metadata": {},
   "outputs": [],
   "source": [
    "# Not quite clear how to test the derive_side_effects() method\n",
    "# NotProperSubset(set_1234, set_123).derive_side_effects(NPS_kt)"
   ]
  },
  {
   "cell_type": "markdown",
   "metadata": {},
   "source": [
    "### `NotProperSubset.conclude()`, `NotSubsetEq.conclude()`\n",
    "\n",
    "<font size=3>The <span style=\"font-family:courier;\">conclude()</span> method, called on a NotProperSubset expression such as $A\\not\\subset B$, derives the NotProperSubset as a judgment from the unfolded Not(ProperSubset()) relationship $\\neg(A\\subset B)$, if the unfolded version is known or assumed to be true. This works similarly for a NotSubsetEq expression.</font>"
   ]
  },
  {
   "cell_type": "code",
   "execution_count": null,
   "metadata": {},
   "outputs": [],
   "source": [
    "NotProperSubset(set_1234, set_123).conclude(assumptions=[Not(ProperSubset(set_1234, set_123))])"
   ]
  },
  {
   "cell_type": "code",
   "execution_count": null,
   "metadata": {},
   "outputs": [],
   "source": [
    "NotSubsetEq(set_1234, set_123).conclude(assumptions=[Not(SubsetEq(set_1234, set_123))])"
   ]
  },
  {
   "cell_type": "markdown",
   "metadata": {},
   "source": [
    "### `NotProperSubset.unfold()`, `NotSubsetEq.unfold()`\n",
    "\n",
    "<font size=3>The <span style=\"font-family:courier;\">unfold()</span> method, called on a NotProperSubset expression such as $A\\not\\subset B$, derives the “unfolded” version $\\neg(A\\subset B)$ as a judgment, if the original (self) folded version is known or assumed to be true. The method works similarly for NotSubsetEq expressions.</font>"
   ]
  },
  {
   "cell_type": "code",
   "execution_count": null,
   "metadata": {},
   "outputs": [],
   "source": [
    "NotProperSubset(set_1234, set_123).unfold(assumptions=[NotProperSubset(set_1234, set_123)])"
   ]
  },
  {
   "cell_type": "code",
   "execution_count": null,
   "metadata": {},
   "outputs": [],
   "source": [
    "NotProperSubset(B, A).unfold(assumptions=[NotProperSubset(B, A)])"
   ]
  },
  {
   "cell_type": "code",
   "execution_count": null,
   "metadata": {},
   "outputs": [],
   "source": [
    "NotSubsetEq(set_1234, set_123).unfold(assumptions=[NotSubsetEq(set_1234, set_123)])"
   ]
  },
  {
   "cell_type": "code",
   "execution_count": null,
   "metadata": {},
   "outputs": [],
   "source": [
    "NotSubsetEq(B, A).unfold(assumptions=[NotSubsetEq(B, A)])"
   ]
  },
  {
   "cell_type": "markdown",
   "metadata": {},
   "source": [
    "### `NotProperSubset.conclude_as_folded()`, `NotSubsetEq.conclude_as_folded()`\n",
    "\n",
    "<font size=3>The <span style=\"font-family:courier;\">conclude_as_folded()</span> method, called on a NotProperSubset expression such as $A\\not\\subset B$, derives the (self) “folded” version $A\\not\\subset B$, from the unfolded version $\\neg(A\\subset B)$ being known or assumed to be true. This method is also being called from the <span style=\"font-family:courier;\">conclude()</span> method. The method works similarly for the NotSubsetEq class.</font>"
   ]
  },
  {
   "cell_type": "code",
   "execution_count": null,
   "metadata": {},
   "outputs": [],
   "source": [
    "NotProperSubset(set_1234, set_123).conclude_as_folded(assumptions=[Not(ProperSubset(set_1234, set_123))])"
   ]
  },
  {
   "cell_type": "code",
   "execution_count": null,
   "metadata": {},
   "outputs": [],
   "source": [
    "NotSubsetEq(set_1234, set_123).conclude_as_folded(assumptions=[Not(SubsetEq(set_1234, set_123))])"
   ]
  },
  {
   "cell_type": "markdown",
   "metadata": {},
   "source": [
    "### `NotProperSubset.deduce_in_bool()`, `NotSubsetEq.deduce_in_bool()`\n",
    "\n",
    "<font size=3>The <span style=\"font-family:courier;\">deduce_in_bool()</span> method, called on a NotProperSubset expression such as $A\\not\\subset B$, derives the fact that $A\\not\\subset B \\in \\mathbb{B}$ --- i.e. such subset claims are Boolean values. The method works similarly for the NotSubsetEq class.</font>"
   ]
  },
  {
   "cell_type": "code",
   "execution_count": null,
   "metadata": {},
   "outputs": [],
   "source": [
    "# NotProperSubset claims (correct or not) are Boolean values:\n",
    "NotProperSubset(A, B).deduce_in_bool()"
   ]
  },
  {
   "cell_type": "code",
   "execution_count": null,
   "metadata": {},
   "outputs": [],
   "source": [
    "NotProperSubset(Set(a, b, c, d), Set(a, b, c)).deduce_in_bool()"
   ]
  },
  {
   "cell_type": "code",
   "execution_count": null,
   "metadata": {},
   "outputs": [],
   "source": [
    "# NotSubsetEq claims (correct or not) are Boolean values:\n",
    "NotSubsetEq(A, B).deduce_in_bool()"
   ]
  },
  {
   "cell_type": "code",
   "execution_count": null,
   "metadata": {},
   "outputs": [],
   "source": [
    "NotSubsetEq(Set(a, b, c), Set(a, b, c, d)).deduce_in_bool()"
   ]
  },
  {
   "cell_type": "markdown",
   "metadata": {},
   "source": [
    "### Testing Some Subset/Superset Automation\n",
    "\n",
    "<font size=3>A number of basic subset/superset identities (such as containment reversals, relaxations, and transitivity) should be accessible through automation. The following cells test the proof automation for a variety of these simple containment identities.</font>"
   ]
  },
  {
   "cell_type": "code",
   "execution_count": null,
   "metadata": {},
   "outputs": [],
   "source": [
    "# subset reversal to superset\n",
    "proper_superset(B,A).prove([ProperSubset(A,B)])"
   ]
  },
  {
   "cell_type": "code",
   "execution_count": null,
   "metadata": {},
   "outputs": [],
   "source": [
    "# subset_eq reversal to superset_eq\n",
    "superset_eq(B,A).prove([SubsetEq(A,B)])"
   ]
  },
  {
   "cell_type": "code",
   "execution_count": null,
   "metadata": {},
   "outputs": [],
   "source": [
    "# superset reversal to subset\n",
    "ProperSubset(B,A).prove([proper_superset(A,B)])"
   ]
  },
  {
   "cell_type": "code",
   "execution_count": null,
   "metadata": {},
   "outputs": [],
   "source": [
    "# superset_eq reversal to subset_eq\n",
    "SubsetEq(B,A).prove([superset_eq(A,B)])"
   ]
  },
  {
   "cell_type": "code",
   "execution_count": null,
   "metadata": {},
   "outputs": [],
   "source": [
    "# subset relaxation to subset_eq\n",
    "SubsetEq(A,B).prove([ProperSubset(A,B)])"
   ]
  },
  {
   "cell_type": "code",
   "execution_count": null,
   "metadata": {},
   "outputs": [],
   "source": [
    "# superset relaxation to superset_eq\n",
    "superset_eq(A,B).prove([proper_superset(A,B)])"
   ]
  },
  {
   "cell_type": "code",
   "execution_count": null,
   "metadata": {},
   "outputs": [],
   "source": [
    "# equivalence relax to subset_eq\n",
    "SubsetEq(A,B).prove([SetEquiv(A, B)])"
   ]
  },
  {
   "cell_type": "code",
   "execution_count": null,
   "metadata": {},
   "outputs": [],
   "source": [
    "# equality relax to subset_eq\n",
    "SubsetEq(A,B).prove([Equals(A, B)])"
   ]
  },
  {
   "cell_type": "code",
   "execution_count": null,
   "metadata": {},
   "outputs": [],
   "source": [
    "# equivalence relax to superset_eq\n",
    "superset_eq(A,B).prove([SetEquiv(A,B)])"
   ]
  },
  {
   "cell_type": "code",
   "execution_count": null,
   "metadata": {},
   "outputs": [],
   "source": [
    "# equality relax to superset_eq\n",
    "superset_eq(A,B).prove([Equals(A,B)])"
   ]
  },
  {
   "cell_type": "markdown",
   "metadata": {},
   "source": [
    "### Deducing quantification via inclusion <a id='demo09'></a>\n",
    "\n",
    "We can prove some $\\forall_{x \\in B} P(x)$ given $\\forall_{x \\in A} P(x)$ and $A \\supseteq B$ and we can prove some $\\exists_{x \\in B} P(x)$ given $\\exists_{x \\in A} P(x)$ and $A \\subseteq B$."
   ]
  },
  {
   "cell_type": "code",
   "execution_count": null,
   "metadata": {},
   "outputs": [],
   "source": [
    "superset_eq(A, B).prove([superset_eq(A, B)])"
   ]
  },
  {
   "cell_type": "code",
   "execution_count": null,
   "metadata": {},
   "outputs": [],
   "source": [
    "SubsetEq.known_left_sides[B]"
   ]
  },
  {
   "cell_type": "code",
   "execution_count": null,
   "metadata": {},
   "outputs": [],
   "source": [
    "Forall(x, Px, domain=B).prove([Forall(x, Px, domain=A), superset_eq(A, B)])"
   ]
  },
  {
   "cell_type": "code",
   "execution_count": null,
   "metadata": {},
   "outputs": [],
   "source": [
    "Exists(x, Px, domain=B).prove([Exists(x, Px, domain=A), SubsetEq(A, B)])"
   ]
  },
  {
   "cell_type": "markdown",
   "metadata": {},
   "source": [
    "These can be also be done manually (e.g., to understand why the automation fails when something is wrong):"
   ]
  },
  {
   "cell_type": "code",
   "execution_count": null,
   "metadata": {},
   "outputs": [],
   "source": [
    "Forall(x, Px, domain=B).conclude_via_domain_inclusion(A, [Forall(x, Px, domain=A), superset_eq(A, B)])"
   ]
  },
  {
   "cell_type": "code",
   "execution_count": null,
   "metadata": {},
   "outputs": [],
   "source": [
    "Exists(x, Px, domain=B).conclude_via_domain_inclusion(A, [Exists(x, Px, domain=A), SubsetEq(A, B)])"
   ]
  },
  {
   "cell_type": "code",
   "execution_count": null,
   "metadata": {},
   "outputs": [],
   "source": [
    "%end demonstrations"
   ]
  },
  {
   "cell_type": "code",
   "execution_count": null,
   "metadata": {},
   "outputs": [],
   "source": []
  }
 ],
 "metadata": {
  "kernelspec": {
   "display_name": "Python 3",
   "language": "python",
   "name": "python3"
  }
 },
 "nbformat": 4,
 "nbformat_minor": 0
}
