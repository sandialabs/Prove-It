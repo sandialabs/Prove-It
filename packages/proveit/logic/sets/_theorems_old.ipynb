{
 "cells": [
  {
   "cell_type": "code",
   "execution_count": null,
   "metadata": {},
   "outputs": [],
   "source": [
    "import proveit.special_statement_magic # for %begin_theorems and %end_theorems\n",
    "from proveit.basiclogic import BOOLEANS, Forall, Exists, And, Or, Not, Implies, Iff, Equals, NotEquals, \\\n",
    "In, NotIn, Singleton, Union, Intersection, Difference, SubsetEq, SupersetEq, SetOfAll\n",
    "from proveit.common import f, x, y, A, B, C, S, P, fy, Px, Py, y_etc, fy_etc, Qetc, etc_Qy_etc"
   ]
  },
  {
   "cell_type": "code",
   "execution_count": null,
   "metadata": {},
   "outputs": [],
   "source": [
    "%begin_theorems"
   ]
  },
  {
   "cell_type": "code",
   "execution_count": null,
   "metadata": {},
   "outputs": [],
   "source": [
    "fold_not_in = Forall((x, S), Implies(Not(In(x, S)), NotIn(x, S)))\n",
    "fold_not_in"
   ]
  },
  {
   "cell_type": "code",
   "execution_count": null,
   "metadata": {},
   "outputs": [],
   "source": [
    "unfold_not_in = Forall((x, S), Implies(NotIn(x, S), Not(In(x, S))))\n",
    "unfold_not_in"
   ]
  },
  {
   "cell_type": "code",
   "execution_count": null,
   "metadata": {},
   "outputs": [],
   "source": [
    "not_in_singleton = Forall((x, y), Equals(NotIn(x, Singleton(y)), NotEquals(x, y)))\n",
    "not_in_singleton"
   ]
  },
  {
   "cell_type": "code",
   "execution_count": null,
   "metadata": {},
   "outputs": [],
   "source": [
    "in_all_but_one = Forall((x, S, y), Iff(In(x, Difference(S, Singleton(y))), \n",
    "                                    And(In(x, S), NotEquals(x, y))))\n",
    "in_all_but_one"
   ]
  },
  {
   "cell_type": "code",
   "execution_count": null,
   "metadata": {},
   "outputs": [],
   "source": [
    "unfold_subset_eq = Forall((A, B), Implies(SubsetEq(A, B), Forall(x, In(x, B), A)))\n",
    "unfold_subset_eq"
   ]
  },
  {
   "cell_type": "code",
   "execution_count": null,
   "metadata": {},
   "outputs": [],
   "source": [
    "fold_subset_eq = Forall((A, B), Implies(Forall(x, In(x, B), A), SubsetEq(A, B)))\n",
    "fold_subset_eq"
   ]
  },
  {
   "cell_type": "code",
   "execution_count": null,
   "metadata": {},
   "outputs": [],
   "source": [
    "unfold_superset_eq = Forall((A, B), Implies(SupersetEq(A, B), Forall(x, In(x, A), B)))\n",
    "unfold_superset_eq"
   ]
  },
  {
   "cell_type": "code",
   "execution_count": null,
   "metadata": {},
   "outputs": [],
   "source": [
    "fold_superset_eq = Forall((A, B), Implies(Forall(x, In(x, A), B), SupersetEq(A, B)))\n",
    "fold_superset_eq"
   ]
  },
  {
   "cell_type": "code",
   "execution_count": null,
   "metadata": {},
   "outputs": [],
   "source": [
    "unfold_set_of_all = Forall((Qetc, f, x), Implies(In(x, SetOfAll(y_etc, fy_etc, conditions=etc_Qy_etc)), Exists(y_etc, Equals(x, fy_etc), conditions=etc_Qy_etc)))\n",
    "unfold_set_of_all"
   ]
  },
  {
   "cell_type": "code",
   "execution_count": null,
   "metadata": {},
   "outputs": [],
   "source": [
    "fold_set_of_all = Forall((Qetc, f, x), Implies(Exists(y_etc, Equals(x, fy_etc), conditions=etc_Qy_etc), In(x, SetOfAll(y_etc, fy_etc, conditions=etc_Qy_etc))))\n",
    "fold_set_of_all"
   ]
  },
  {
   "cell_type": "code",
   "execution_count": null,
   "metadata": {},
   "outputs": [],
   "source": [
    "unfold_simple_set_of_all = Forall((P, x), Implies(In(x, SetOfAll(y, y, conditions=Py)), Px))\n",
    "unfold_simple_set_of_all"
   ]
  },
  {
   "cell_type": "code",
   "execution_count": null,
   "metadata": {},
   "outputs": [],
   "source": [
    "fold_simple_set_of_all = Forall((P, x), Implies(Px, In(x, SetOfAll(y, y, conditions=Py))))\n",
    "fold_simple_set_of_all"
   ]
  },
  {
   "cell_type": "code",
   "execution_count": null,
   "metadata": {},
   "outputs": [],
   "source": [
    "%end_theorems"
   ]
  },
  {
   "cell_type": "code",
   "execution_count": null,
   "metadata": {},
   "outputs": [],
   "source": []
  },
  {
   "cell_type": "code",
   "execution_count": null,
   "metadata": {},
   "outputs": [],
   "source": []
  }
 ],
 "metadata": {
  "kernelspec": {
   "display_name": "Python 3",
   "language": "python",
   "name": "python3"
  }
 },
 "nbformat": 4,
 "nbformat_minor": 0
}
