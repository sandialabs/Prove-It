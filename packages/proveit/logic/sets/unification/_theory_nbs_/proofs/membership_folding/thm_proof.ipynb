{
 "cells": [
  {
   "cell_type": "markdown",
   "metadata": {},
   "source": [
    "Proof of <a class=\"ProveItLink\" href=\"../../../../../../_theory_nbs_/theory.ipynb\">proveit</a>.<a class=\"ProveItLink\" href=\"../../../../../_theory_nbs_/theory.ipynb\">logic</a>.<a class=\"ProveItLink\" href=\"../../../../_theory_nbs_/theory.ipynb\">sets</a>.<a class=\"ProveItLink\" href=\"../../theory.ipynb\">unification</a>.<a class=\"ProveItLink\" href=\"../../theorems.ipynb#membership_folding\">membership_folding</a> theorem\n",
    "========\n",
    "*** see <a href=\"../__pv_it/709fc20852943228921ca5b87c9e3d9f188037870/dependencies.ipynb\" class=\"ProveItLink\">dependencies</a> ***"
   ]
  },
  {
   "cell_type": "code",
   "execution_count": 1,
   "metadata": {},
   "outputs": [
    {
     "data": {
      "text/html": [
       "With these <a href=\"allowed_presumptions.txt\">allowed</a>/<a href=\"disallowed_presumptions.txt\">disallowed</a> theorem/theory presumptions (e.g., to avoid circular dependencies), we begin our proof of<br><strong id=\"membership_folding\">membership_folding:</strong> <a class=\"ProveItLink\" href=\"../../../__pv_it/theorems/6460444c944301e8d93de90530238f64da1979a90/expr.ipynb\"><img src=\"data:image/png;base64,iVBORw0KGgoAAAANSUhEUgAAAroAAAAZBAMAAAAsxJBDAAAAMFBMVEX///8AAAAAAAAAAAAAAAAA\n",
       "AAAAAAAAAAAAAAAAAAAAAAAAAAAAAAAAAAAAAAAAAAAv3aB7AAAAD3RSTlMAq1RmmUTNIjK7EInv\n",
       "3XZ/CtNrAAAACXBIWXMAAA7EAAAOxAGVKw4bAAAG/klEQVRo3u1ab4hUVRQ/++bNzps3O7MTfcmC\n",
       "nND0g1RD2x/8kA25m6Jpg0H/NmIySlooR4gNyz+jnxJXG6JlHSEbUQIzchQyUsixkARJhogSaeBZ\n",
       "liiyLX5QqQ/bvffce999793nzEqSQ12478057/fOue/37j33vLML0E7rav4E/7cptlTz+/aA3R39\n",
       "mDG9unij/BWF8b7/Aru/6KdWhp2GQ24anqITBf8i74TdND3NaMluFz0Z2U4k16hp1XPwtDLkrpVT\n",
       "9KLgU1nshN0BKq9oya6Zp6diJ7L7sVZrF5D6SamJM3UOrqlXWpkedkMADzDEex9soIGp3JJdi87x\n",
       "1R0ZGOZrtSauQ3O6nDFJFqPTcE290hr0sAoCeIAHeO+D7ipAItM67tJ3caAj2a17pPPNJpu1PSh+\n",
       "caSkZTFMH8augie2q9j7IJJtY9Pqxv2v0JFh1zPqpy/wH7MwnXD+yOhYDNOHsaviCV1Z7ISz75rN\n",
       "E22w29Ns/lzrRHZNMmp7/PbNbOHFhoR6MV6E+7I6FsP0YeyqeBIL0tgJuwsBtrfBrlmCeLUT2aWT\n",
       "yIQzzhLw7Msvs+MyeK+mYzFMH8auigeIFLD30euaO9kb8LBLQKs8e26o4DbP2zD5Qi1qMY5UzPbt\n",
       "7TzLCeFudphHaTBJluzD8Gj1Vm/ijt9ROVif1rEYpg9jV8WTZ6xjJ+zGq4m897a1i/ORo5IOMajt\n",
       "8LkK+rQUJrjEHFelOJ4e1GOks4hvMMJ0TkuuD614lAZ7CKQEj6Mw0iSNZUjH2Dv7oH86kXYVfCyi\n",
       "3j58S7U9drkd0awJ7IRdw1E3NetMJW+kD8GiALv3eje1I5kwwZ38l4Ls2mnFkYKJ1hh/adgp8Fun\n",
       "jaqmB4EDwGXbRfusoUGXXYCTKOyR1xm7nwH0NsAab0h2WebJ9SaYDa8+yO4GcPGu7zp2lgnMU27p\n",
       "J1PFmGdCLcBud8RRcNERJ0Rw27Mng+yaecWRihmiH4yEkgEx9xZ6TZPMcYbCmQ/tt8bTeREZIHoF\n",
       "PpEMupGBvKIkXcWMmTiNWfiQqO/Nx6569Z42Rg/zQLEjI0MDO2X3ABlHZP7WM6m5JfyAMzY+49QS\n",
       "/Uv6B1R2E7PIMkmdXbcA10K38jI9gtucl4Ls0scbX3C2mMr6MAcogOybDe7kV59pkpMjwDWHaK01\n",
       "JTmPO2CPdtWBvZeUJGkH5ZxmThOC3Shd28NVVx+pMnZdvbc9J3MQgeckQqSMnbK7hox/1wvZnnQq\n",
       "jSvHKB26Ozh3YyQUw7mu8nJ8DlOJEx7B5VwEO5XdYaIvTuvO7PFjZtIqxiDECujELvtMGzkEyPnB\n",
       "0XprzKBMj4yru+tRjDDLxeX99MnpsK4IdmFWBnadAkUPiYaqty+Tw76COBjLwX6kpOAFiSwJpJ2y\n",
       "20UQb/8OvSWieArZNVPlALtwG+nZuMPsRUupOsR4JseEZWfz/sAAF4PskhcegR0WOuKY1VW8UCY7\n",
       "J50o1Ek06zNNL5TV3JGjA9bUqcUiZgPspc7M+1HaOcon4RYShCeHwPjock2wGzv44xv0qtTDlqqq\n",
       "hx/o4suJA7zz+qvs20TgBYmQzGOXFcg7YYRGqIcqlUrGKNm1QpBd1noxoTIP7/8TNp4GV6jbEz52\n",
       "Fx+eXg2wexc9kGnBHCHGuofCNpHBkEBqpNFJ5LVK5X3VtFVGgGwS7bUmr28SP055RjX4IX4JJ0ve\n",
       "OKktDLf8EPA2TiKsBeyS3eNwHtZbsBnnLixz/PkubyNYF3aAhqTTIrUkQtGq+wMDrC9FHusbmFNS\n",
       "2KXPbNVj6AgxkKziQu4mgZSSSJ1YNZ9pEhkYwB0TR/usSY8z1ZqKJpfLtWb3TXhrSuxyElndaL7C\n",
       "bmyCED/XxF2DJJGptLZ6HqsfhJxdY2H8EmPXFeJ52EtFfqCrtTdjnIdjvL4qd7U1iQJ3hBhkd5z4\n",
       "vYPlOcwJxgDXNNuPKEB4EGi/NelxXC4afd10rCW7sW3vLprS30A4ibTkyMqOgt1oGlbAqgvEIA1J\n",
       "K5S80jt3lw6OV62v4Yk07L6cp+y6AsmgRjLWtzBSpIeMeRTsJ1+BbXbBzCjskkc1f/uKO+IYxu4Y\n",
       "T6LG0AmspvPPNY0cEYDwINABa8KjZM/W11fd1Dd28C9tRtkzOTkxFXYFiXSobLiBv/zsrVTy2jqD\n",
       "WnUSP04rQqJKRuh+VIhfDaOWjCjsysipOKLsSgpEVmB/WRlVTe/RPtBg0Br3qHC6Tj/TnBtV2TjH\n",
       "+/X9Xe158TV1IuMKKycbEJVhUfyy06l81zn1S3hBwLh1kaSmpli+ZnAdU9Oa+/Ro4dG8Cf6Ocl3s\n",
       "ZsOEiOaXv86Q0Bfa3PLDoXYKCi3QwXrGTc3uP/D/DDFd4UxT3NLX20KqcKF6+PerpanmN38DchQn\n",
       "L2pnmzMAAAAASUVORK5CYII=\n",
       "\" style=\"display:inline;vertical-align:middle;\" /></a><br>(see <a class=\"ProveItLink\" href=\"../../../__pv_it/theorems/123b7e1c29abbe158b6998166b8c7cfd47634ba60/dependencies.ipynb\">dependencies</a>)<br>"
      ],
      "text/plain": [
       "<IPython.core.display.HTML object>"
      ]
     },
     "metadata": {},
     "output_type": "display_data"
    },
    {
     "name": "stdout",
     "output_type": "stream",
     "text": [
      "membership_folding may now be readily provable (assuming required theorems are usable).  Simply execute \"%qed\".\n"
     ]
    }
   ],
   "source": [
    "import proveit\n",
    "%proving membership_folding"
   ]
  },
  {
   "cell_type": "code",
   "execution_count": null,
   "metadata": {},
   "outputs": [],
   "source": []
  }
 ],
 "metadata": {
  "kernelspec": {
   "display_name": "Python 3",
   "language": "python",
   "name": "python3"
  }
 },
 "nbformat": 4,
 "nbformat_minor": 0
}