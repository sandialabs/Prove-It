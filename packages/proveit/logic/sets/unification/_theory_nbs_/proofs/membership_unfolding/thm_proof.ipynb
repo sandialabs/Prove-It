{
 "cells": [
  {
   "cell_type": "markdown",
   "metadata": {},
   "source": [
    "Proof of <a class=\"ProveItLink\" href=\"../../../../../../_theory_nbs_/theory.ipynb\">proveit</a>.<a class=\"ProveItLink\" href=\"../../../../../_theory_nbs_/theory.ipynb\">logic</a>.<a class=\"ProveItLink\" href=\"../../../../_theory_nbs_/theory.ipynb\">sets</a>.<a class=\"ProveItLink\" href=\"../../theory.ipynb\">unification</a>.<a class=\"ProveItLink\" href=\"../../theorems.ipynb#membership_unfolding\">membership_unfolding</a> theorem\n",
    "========\n",
    "*** see <a href=\"../__pv_it/4844221c8e6552ac926997569f1c568644f055d40/dependencies.ipynb\" class=\"ProveItLink\">dependencies</a> ***"
   ]
  },
  {
   "cell_type": "code",
   "execution_count": 1,
   "metadata": {},
   "outputs": [
    {
     "data": {
      "text/html": [
       "With these <a href=\"allowed_presumptions.txt\">allowed</a>/<a href=\"disallowed_presumptions.txt\">disallowed</a> theorem/theory presumptions (e.g., to avoid circular dependencies), we begin our proof of<br><strong id=\"membership_unfolding\">membership_unfolding:</strong> <a class=\"ProveItLink\" href=\"../../../__pv_it/theorems/8a83e46aa085b339c3311b2872cfe91d0e3b27500/expr.ipynb\"><img src=\"data:image/png;base64,iVBORw0KGgoAAAANSUhEUgAAAt8AAAAZBAMAAAAbCl93AAAAMFBMVEX///8AAAAAAAAAAAAAAAAA\n",
       "AAAAAAAAAAAAAAAAAAAAAAAAAAAAAAAAAAAAAAAAAAAv3aB7AAAAD3RSTlMAq1RmmUTNIjK7EInv\n",
       "3XZ/CtNrAAAACXBIWXMAAA7EAAAOxAGVKw4bAAAHrElEQVRo3u1afWwURRR/t7vXvdvrXc8YEyVa\n",
       "zoAkphROKWj/waOUj1DAsySKQrRCjBFjOBKiqUC78pdIgdPY0CNRjkiIiGIh8YsmcmiIBCK5GDGE\n",
       "cMnVoqQEasWkIMbU+dyd3dvduyJ/FONLZm7ezrz3Zn/75s2baQEqoPsKKfifbgFdKcQqGtc2jt9B\n",
       "xVWqkkFlntgoNaYJVDCGjJPjtz3gP6MScfMblc3cX3QSc6RX2e+zY5mAp3Fmn8wBAR7FDyaVA9yH\n",
       "f6T4+MNb6kVVnVtv1TBrDDiJOdJa9huJj2EC3saZ/QEK+DzMv1gOcCWJNYzDSL4PFc11BU7n71yV\n",
       "RZUPV4EiF3PGb5S31oBVxEITcLXdU5NpnNnHBQH+Bnb+dDnAA3ghtI/DiDIXFcXVGedcYw05gSsM\n",
       "XFDnYo6kTORe1QBWEQvNxlWPpybTOLNPSpzgHoqVjeH4ex8eh4DnUKm2PBksFLjHhzZc509P4ipv\n",
       "xOicm8gXRzm61VmriIXCRozOVWCc2T9JAMf7ZlX5TXPG+Nw7JTynKeKTJy+Z7Y7IVd5cDcxjmgwx\n",
       "JxG1+Bt3vqq4RcRK2EWVmJcm0Tizv5pmKd8XCqfKA15dKJzvHX+AK3hOLagc7P+wDwOgrhF6E9If\n",
       "vHmIZyB5LqYNTdhK1qwoosB0Hp9CUYtIaQYSNiZQzjizf4gCvhBgV3nAFR2C2fEHOHFD7D2JSK2S\n",
       "t23s/ljgL96eRbZAHSJFLqZAf3EJ2ERaYQd3K7nNImKjuwGGjAmUM87sz6KArwM16vgyIRFwNGad\n",
       "2Km5MiZZPpBSEg1SJWNcNdk7I0YsxY71A3qRlHzDh9+9ymJS/Z23p+IKbf3hLBd7BB7L3gk2kQR0\n",
       "cjCknEXERijXOMc1lTXO7E+lgAezoaRV2aaWpHxMhAh/613wmTjmY92NMfE5IXJBe/fM0jFumko7\n",
       "E3xnw1M/jnABhQbTrgIilnQNNs/5E5kgzr0DaPo72RDTYT7YRSLvNk9Mg9Z3B8I4MGwRsS+tlJTg\n",
       "mjyMG7SDFgy4VBQ/TKA/k5SiR2CRHfBp1j3zaMyNMVfIVTfAt9/TDVpUGKPwJcA0KeKSsHdiWmED\n",
       "HLXowt8vfHD05G9k7ApmVpJHdezEQcTgNNhFDgLU5JExHCD8OYtIyXmHxg+qydW4QStpIUf7ttlC\n",
       "RzPyImm2Ar12wKtkMZT5u4oujEnLT7sArizEVVIYgzt9gibOO3YaBxkhpAA8l9KyLF8TPtR5VOqB\n",
       "VxAOpE0x/zX4CKwiyGnDOahJqiijk/IWETvlt5iaPIxzqqeFAH4Y7a3y3O39kUadHmilzU8Ve0PN\n",
       "S5rnCYCHpiCVkQsdC+jaqxLivoUxqfh8KeBEwYD5mmwMx5RrcgRcNMNPDkH8Dd5HvpW8l+45wg63\n",
       "jB3UCdaN1PxDSS6mdfty0GsV8cfJgVzOYsDltEXETgN3GRPwMN7w6FB0oIfZb2SAb0Tv8cHKeHU0\n",
       "EqWLQtKPPFDi4SqK6nDRl15FgVKEAGNhhI1tfingWIGWNi6J+BiOKdfkCLhoRkoIuRtKt6a/tRhl\n",
       "GJhWGZkbDgm7UwzwFrrQfzLEpOt7c/6YVWQjtobPh6E8S/gMEW0EVZ+28QrgkzZjAu7GtZnfwjHo\n",
       "Z/ZbGOAo84HXf4UaHZlYRgFXImk74DgRgniwSDYuvx7JgcqyScK0XrA7wnK4XAo4VuAnme7Txpj2\n",
       "LMfU0OQEOOk0fJGt8wBe99sA9g5Jcyl6e7pptNF2j2ThwdGXGeBn6PgmQ0xbWpz8MFhE9o+uAWn3\n",
       "CAJ6G3oQTlpEfsSrMsErduyhE3A3rh5sg+sE7DO0mNeztdCF49GsTCYTk3Stt60EcEI1NNNU+g7d\n",
       "gM3nwGRy2rAN8Ja+idnSGI4UyC9lMu/A/XxMoN4A3NDkBDjpNPZ2HljPYggsqc2K9wrWBYcBV22H\n",
       "l7PgJUJcaVNlJwFvTb5iIIf3GGwfFxPwEzAInQHYSj0cWou2PJxRF72YLwKOcgxwwqQCOXtEgU5d\n",
       "bpoxr04XAUcKAmStbuFjcJ7ro5gamnwi4GJnw6SG1i+FkEKumOSEJyT1DvdbDZ4S6+E1r1upMWiq\n",
       "1iNpdVgn9nExAFeHkY83KvQ0KSchEnX6A4Sa+xwSWi/ZXK4SwE0mmIQDmGUVDk41MWkQjrML46Ch\n",
       "gB5sw8DGYMADE0BrEjRRnqkSO6elq5N14vYUxA6wsyzg9ovOoNdNs9rz5qKyN6gVaYJO5ONyOkHs\n",
       "t4MAuD+K0s11l5AtHBNR5ukIOCxdMZQNfAOLo7B3JIkBNxmU6nXFAt9BVwpXMeUYaI+/AD1aGwt2\n",
       "QUMBtOt0omwMPsmtz7ytC5ooT1WlxM6gvo8EVeM1yQ683+udN6z9uvSTaF5wVo+ODpcBskJN8AQ6\n",
       "Iam1WWJ/Jzj9ie1AJpN0uksRc37eOCcwoSzyOfNgwlt5qTcs2/Nw7atMN/iNqzDb0ZlocqMwOojk\n",
       "4yLEHeSOrwwqkRL0OsoBebHS65yOCsZg+2QON/U3zWf4efFUzGTWjubBbyDHW1o0kvRddD7aL+D7\n",
       "32XrPTvW5Ep74BeoTZnCtxvdFOBxN0Z2aLnfpYT+xeWjnPxvA/7KLfi/FNX7MnFspN2meF85H/8H\n",
       "vp5JEJt1XnIAAAAASUVORK5CYII=\n",
       "\" style=\"display:inline;vertical-align:middle;\" /></a><br>(see <a class=\"ProveItLink\" href=\"../../../__pv_it/theorems/84a667cc02f35d10851d3995d946402388e020eb0/dependencies.ipynb\">dependencies</a>)<br>"
      ],
      "text/plain": [
       "<IPython.core.display.HTML object>"
      ]
     },
     "metadata": {},
     "output_type": "display_data"
    }
   ],
   "source": [
    "import proveit\n",
    "%proving membership_unfolding"
   ]
  },
  {
   "cell_type": "code",
   "execution_count": null,
   "metadata": {},
   "outputs": [],
   "source": []
  }
 ],
 "metadata": {
  "kernelspec": {
   "display_name": "Python 3",
   "language": "python",
   "name": "python3"
  }
 },
 "nbformat": 4,
 "nbformat_minor": 0
}