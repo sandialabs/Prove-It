{
 "cells": [
  {
   "cell_type": "markdown",
   "metadata": {},
   "source": [
    "Proof of <a class=\"ProveItLink\" href=\"../../../../../../_theory_nbs_/theory.ipynb\">proveit</a>.<a class=\"ProveItLink\" href=\"../../../../../_theory_nbs_/theory.ipynb\">logic</a>.<a class=\"ProveItLink\" href=\"../../../../_theory_nbs_/theory.ipynb\">sets</a>.<a class=\"ProveItLink\" href=\"../../theory.ipynb\">unification</a>.<a class=\"ProveItLink\" href=\"../../theorems.ipynb#nonmembership_folding\">nonmembership_folding</a> theorem\n",
    "========\n",
    "*** see <a href=\"../__pv_it/9fe5b885d7e25e9a607d2316d4088e17b5b145040/dependencies.ipynb\" class=\"ProveItLink\">dependencies</a> ***"
   ]
  },
  {
   "cell_type": "code",
   "execution_count": 1,
   "metadata": {},
   "outputs": [
    {
     "data": {
      "text/html": [
       "With these <a href=\"allowed_presumptions.txt\">allowed</a>/<a href=\"disallowed_presumptions.txt\">disallowed</a> theorem/theory presumptions (e.g., to avoid circular dependencies), we begin our proof of<br><strong id=\"nonmembership_folding\">nonmembership_folding:</strong> <a class=\"ProveItLink\" href=\"../../../__pv_it/theorems/889bcb707572d53e71a52bfc61a9a42ed134e3de0/expr.ipynb\"><img src=\"data:image/png;base64,iVBORw0KGgoAAAANSUhEUgAAAqgAAAAZCAMAAADKbyyXAAAAUVBMVEX///8AAAAAAAAAAAAAAAAA\n",
       "AAAAAAAAAAAAAAAAAAAAAAAAAAAAAAAAAAAAAAAAAAAAAAAAAAAAAAAAAAAAAAAAAAAAAAAAAAAA\n",
       "AAAAAAAAAAAsiKZwAAAAGnRSTlMAq1RmmUTNIjK7EInv3XbP4duh6fPj9+eRwQ+hj00AAAAJcEhZ\n",
       "cwAADsQAAA7EAZUrDhsAAAbBSURBVHja7VuJsqUoDJVNFoXu2Wf8/w8dQESWgPLG2zVdJdV9i/s4\n",
       "iYkcQoLeaXquIa01n972tmebsbzCTyqc33v6gxofGeU/rXen5YS8RP0ZQ0w/vsyqCeaDc8Q/O6ew\n",
       "embKjiMqiuOYPEHUB/W9DW546Q4L1AbP2+CUbh/1pKHekLJjiUpZlOJPEPVBfW8Dm7qIcucMVGC8\n",
       "AcyQJ5iWS2IQD7Y2HlSf7QlHxxI1rj8uH9n6H9T3NpiIFzuVboMp2ngHz1F5qUH8hT0lHlTveUmL\n",
       "jstRD9Iu+BGiPqjvbWBbO8mr1Pq33+cWeOHLJgaINIofJCqsfjdb5R1H1KOg+u9p85wVaG9p9aEM\n",
       "tXlj2WzstCLRAnMzmQ3fJ9IofpCoDfU7eUje8aRatWvr8lTV/5i+t4E7f7ixyhikxHJuXNzvZXlS\n",
       "StNZoC4rJPeJN4ofJGpD/R5sUd7xRKV+CUr1FFEf0/e2XrCx82yQmajOi1diwMjkAq6ltNiW20Qa\n",
       "xQ8StaV+J+acdzxRvfi9a0bC94h6pU8ND4yis+ISA/k6EQ09pthm+ZdFoU27bwnkEKA0PKQhVhnZ\n",
       "1IQIXCJk4HhX+IZGIt4QfpCoLfX7rVrzzp5PuuC3sO7FuKYOQVZUM6Ek6oU+tYrBgWF0et5AWB9Q\n",
       "6Mk8g2RvikJRom8J7FCtdN3VODBNt3nhU64//tRaVuC90KLUltn7oCLzFZFSvFoWhNSjRM3MqZrY\n",
       "8s5OVGzapY8wSErrLUbTYi2l6gZRe/oshVsJdHNgGJ2SCQEeffvOWnrY0pG9LwqtrAtLYIdqpQn3\n",
       "1jTgKgmctZxgtWM3vV/ZaIBI6aOCDO/mO+YYMP4OURN8ph5we807oUKfi8wmWdA0LHNsETTu+X2i\n",
       "dvTZK4vVjA2MoxOiUgZ4hFRbT7J1lrIDotCt7FvScqhSeu7mzJ1CKpURQrfAYcp0YAA+gTJmJOms\n",
       "ZfiNuW1a9PDtBuILc6qtX+edQNQFh9tBKLGLDU2GSG9VfIQ1YYEZN46oiw3Z2v5nbaJGfZMxlNt/\n",
       "WdY1w+uwOTCOltVyjnY4j9LYVulJQpL+umg7sLTUtRyqlEqzx082oTUrF4wdYBQCO1Ifh4ZbRVQm\n",
       "s2MDCE9UQlQQ34spAL5QX9DO/uWQCZ1AVB5ST0XYav/ivhkUd5NAVLv1Y3Yvoh76JsMnJKcZZ9UB\n",
       "nWHmNQamcfRpdnjrIdrhPTKsowfTXPZLolCW37ek6VCldD+wwZtQdN1r53j/cX6Imhzz8CNyyfAs\n",
       "KCHqhP0EKaJP4QpvVek2Xm1zqwPic/Ul7dJjtdA5DueDf1wZp94tHQ9gJCWqpaeRt4ga7xfxa1qk\n",
       "O7Y1xlvJ8/OrOMCwoex64z/UXBA1rOZoh/dI9syJ6z/0LkVPg5m8jisNdW2HKqXCE0ZRG0AxJTjL\n",
       "guVfCgTLbfPRDLvOUhJ14susZ/+04Eh3K7zVpJp4u13QZqfGl+pL2jnpgwKhU73mh4wrH4/khszS\n",
       "N7wTVS3xqPSCqEnLn+bSxdaPmzVSYK3AgdWtxutD74C+IipGuR3Oo2+/eI8a5ghZyfZFT4NFj6h9\n",
       "S9oO1Up1+7jj73+krfznG2Csx05v+UfPxXPauUOmeNo0wUR1RyQubPLNrXqxZBHVBY8b56j5fV7T\n",
       "91+9eEh2MqKeAzyYfLHxBzShmBDK8CJgosZpDnY4j84CBjLn3GoP2QvR0+Du1t+1pONQrZS0L1Mn\n",
       "jS3wIFG5VcM/9zZcTrvkVZqjUxKVb4HeNoelU/p4aT8ENN1ypyKqTUWW2cdftSQp9H4OszMDGJgk\n",
       "iyPQR4rGzr2VFW9dlsXUaYf16CxgAHP2kiRcR98UDQYnovnHqa2hrueQMZ0yugp7013wGFG5FELQ\n",
       "j8XUknbRj9gpicrcrXOP4jjyGQU/qjCh9wd0Y0SdqGGLcZrEaieB+hpL0W1mkRnAQDgR8yNi5flH\n",
       "ibYGuqfbFDeIus9TtMN69OsRqyBzgoC/zt69IUpFKZqbnWgD1XUdAoimWikGdOwAgm3SuC0Dh4Hr\n",
       "5trHAmpJu+hz7Fz+FEUtLkdl967XLdqrexj32vJuq+PBIb6hRu/vsOuJwEStDszVd9ijYM4xrxiQ\n",
       "bYgeBqeigNU3LSkcgnnW4BgYRriZfrJmeNn5gb+ZYmU5atZ9/ZcDs126GhSB/uZ2T3fGgwyHiTrR\n",
       "IiLBP5CJ5gT4fp1CFhaNBmeigNW3LCkdou/PJH4sUcnwADhyz15ZBLws6nQzreN5PIFkh0QBq4cs\n",
       "yZW+RH2UqP+X3/XnRqjOtyqg9b6PiV5C7tQm77uSk/9d/0r+BUYhSJabhbgCAAAAAElFTkSuQmCC\n",
       "\" style=\"display:inline;vertical-align:middle;\" /></a><br>(see <a class=\"ProveItLink\" href=\"../../../__pv_it/theorems/c3a35bf674f8e5fc13bb37ed1e2c5ae15988002a0/dependencies.ipynb\">dependencies</a>)<br>"
      ],
      "text/plain": [
       "<IPython.core.display.HTML object>"
      ]
     },
     "metadata": {},
     "output_type": "display_data"
    },
    {
     "name": "stdout",
     "output_type": "stream",
     "text": [
      "nonmembership_folding may now be readily provable (assuming required theorems are usable).  Simply execute \"%qed\".\n"
     ]
    }
   ],
   "source": [
    "import proveit\n",
    "%proving nonmembership_folding"
   ]
  },
  {
   "cell_type": "code",
   "execution_count": null,
   "metadata": {},
   "outputs": [],
   "source": []
  }
 ],
 "metadata": {
  "kernelspec": {
   "display_name": "Python 3",
   "language": "python",
   "name": "python3"
  }
 },
 "nbformat": 4,
 "nbformat_minor": 0
}