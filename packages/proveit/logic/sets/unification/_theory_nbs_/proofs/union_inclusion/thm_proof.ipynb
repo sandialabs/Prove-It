{
 "cells": [
  {
   "cell_type": "markdown",
   "metadata": {},
   "source": [
    "Proof of <a class=\"ProveItLink\" href=\"../../../../../../_theory_nbs_/theory.ipynb\">proveit</a>.<a class=\"ProveItLink\" href=\"../../../../../_theory_nbs_/theory.ipynb\">logic</a>.<a class=\"ProveItLink\" href=\"../../../../_theory_nbs_/theory.ipynb\">sets</a>.<a class=\"ProveItLink\" href=\"../../theory.ipynb\">unification</a>.<a class=\"ProveItLink\" href=\"../../theorems.ipynb#union_inclusion\">union_inclusion</a> theorem\n",
    "========"
   ]
  },
  {
   "cell_type": "code",
   "execution_count": 1,
   "metadata": {},
   "outputs": [],
   "source": [
    "import proveit\n",
    "theory = proveit.Theory() # the theorem's theory"
   ]
  },
  {
   "cell_type": "code",
   "execution_count": 2,
   "metadata": {},
   "outputs": [
    {
     "data": {
      "text/html": [
       "With these <a href=\"allowed_presumptions.txt\">allowed</a>/<a href=\"disallowed_presumptions.txt\">disallowed</a> theorem/theory presumptions (e.g., to avoid circular dependencies), we begin our proof of<br><strong id=\"union_inclusion\">union_inclusion:</strong> <a class=\"ProveItLink\" href=\"../../../__pv_it/theorems/c888117fa14c825d0c1d1d8d1fd070198a0ab2b20/expr.ipynb\"><img src=\"data:image/png;base64,iVBORw0KGgoAAAANSUhEUgAAArgAAAAZBAMAAAAoMUB+AAAAMFBMVEX///8AAAAAAAAAAAAAAAAA\n",
       "AAAAAAAAAAAAAAAAAAAAAAAAAAAAAAAAAAAAAAAAAAAv3aB7AAAAD3RSTlMAq1RmmUTNIjK7EInv\n",
       "3XZ/CtNrAAAACXBIWXMAAA7EAAAOxAGVKw4bAAAG7klEQVRo3u1ab4gUZRh/dnb2dnfudpyCkL7k\n",
       "VJYfRFvYEvzQceadipc46Yc0Q7fCBKFcIQxTuTEilM48qNANyjX9chi6+kHrDvIsJCGKRaL6srBS\n",
       "ZIroVWB/LLb378wz/25nK2GNHnhn5p7nN8+z85v3fd7nfecA4kii/jX8L+2JXj8fD9h16z5jSbSb\n",
       "5jzaUPivk6ubvBHZEgHZ0qZLhF8bhVnLyTXo6d7W5MbCdZ7MFo3IpgjIpjZdIryeD5qV/vGkxQwF\n",
       "GKCKDa3JjYXrONGKvNGHbjraLDP1wZR6JCP0cBgCeICN4nypXq9/wy/fBe0ANxRgJzmmR1qTGwvX\n",
       "caLmeaOXM5wMmaOHtAFT6pHU6GEzBPAAD/LTqxfdiOTdzOOGAnRVALrN1uTGwnWc9IhG5NRpO5TE\n",
       "KH0UuQhPfFdYZ0e11DSbZVxqKEAyH2O+IoBYuI6T+0UjnDWumWEkRumjyMV4wggbFQnL1awjml3c\n",
       "QKqFz+v1z+JUC3FwHSeDopHhCg/kw0iM0keRi/FkLBv+YurYDVsaCLlLAN6OQ24cXMfJM6IBrIC9\n",
       "1TASo/RR5GI8Gc9sstyJsMlmc7owFOhNIe4Y+V5yHVwFz8bhz1QJnVzEbFsKR+jiPCvCQcOvmBUZ\n",
       "SXeuzosG0AdDRhiJUfoocjGePMwETsdMjh74QxgIudlKt+X1tWPQSp5xyJDkSpx2DkHft0MLIAyB\n",
       "1Eff/uAUOgAPeRAflsv7BISXQEkLm7vL5TJ5GWuu9tqqL4gXGOaKyFnRQH+zfwapdQ4VfSRyvTZ+\n",
       "WyUeucKPlMyk48+V5RY3EHKVBk4ZmQtlSzHGYGmAXInr/gnBT4fWDx4IzBU/gZOrGRgxarmQNezy\n",
       "IDZrb/H+0YC9kKp6gxz0RQq6wuQeJfN4DTJXaw4ZGcPVq6DWvPoguXzsc7zbcSZkwSdfOU27JjfQ\n",
       "5W+xF/npJ11R6VWhGiBX4lZ9gXwPN8LIxRCACbG84+SqFkbsQ5AuNsQHsDlbkgVVwi3YhQz4IgVd\n",
       "4bRA+nKOmJSa4zbZcPXTrPSvXr1HmOteQH6ctMCJXu955UMVbqDkniC/Ornw9Qv6fJuv55SXH29U\n",
       "u/uX9Q94yD3Bn67xFEpuXaHpGkMAfhb7GFk3r0lEuoogvIquYQfbRO2YhzSJH9Kd3EghrthyibcU\n",
       "LSQnJRkpOrC3VFx9ssLIdfVeWU39s6eXeEEXJHmKOHiHvGmOKE+ogZK7nRB06Ml8j6EbMMpehz12\n",
       "X0jP3c6TFCxCLKrF0PlkEf7z2m95d3HJtz0kQjERRKGZMl3EDu4RDptvkONMTxAvMMwVleOibafx\n",
       "f3F62v0mHGKrVamH7hrWa9fl4RgNozwN2sM2wku6QBWvdM07Yvm7rMrLM2qg5CbIbS99T5YWRLGS\n",
       "k6vqI0FyE8z9KrgCsJW/qJStT8CK7yx/VqAQNL3N/BGRuxo7SeURhPUbdqDm1FwyblYKF+8tN8Sd\n",
       "bkYa8UYKuqKyh7fR5kZQDlyvSnLTJ796nj6Co4c9FayHL+Uhx17TtueevQwIL+mCnP/Z+x5bcDsb\n",
       "oBbacrwLhiFnwjwyO5uKrVWLQXJFWT4+o5KZw8lVx4//DhPapL9yJxBPtbYOkXs3dsJnNwHJUEYU\n",
       "Q5h74JiYtGi9lSIxdns3nwxvpKAr9ow2b74cGZB0myW8oAt2RAF24P3cc3AJhjLwGu+5sKIRqHOd\n",
       "EnLIhlxFlJ4kVZUyE4Eqc8hOPlIYmG3zqhu2InJ3e5ycABfCxjKlhZnT5OeL3Jky2ZaRNy04QBkp\n",
       "4IpN3n28tSL3BXixLXIFXbAwCrAQkZueJC9jvkqKWV5B6kbEZjkZqNNMyotWZSORlEJZC47QP8WB\n",
       "Q5RLcFapUs0CgOngndAcJ6B+QHUcojfo3TVpBlqGDdL3oxqQIFPiVW+YmjeS3xWa6Pe1JDe9f9fS\n",
       "driVdIltQrVed7ccOWAEkZsyYANsvkyi0CS1QRRPQXLVM6AtX095yXwMjxpw+LpF18XDZuZTGC7R\n",
       "gykg+7WialLUkv7xEiKXlDuuEzIT0MqfQ4hl2CRMCLNKeU2RlUFJfWXwFOMIh3GBPJLflax+RRPP\n",
       "fPJGaO3Y02xOtkOupCsb9Z2HGQKfeY6Uy1brzzyUF0WuGCrk97prCXlVU6q5pItyyHXXAjlfzTPK\n",
       "7nbq/zHdt+wb8YZxgCKS35XcxOLt5sjFKQ1/7xta5gpJcE/Irx7NGqQcnuSVZuhW4qKLcpe/i7ET\n",
       "LIvZ3aroDF3NP31bEyVvGAmUkXyuOkD+wQdK/PkoGXIVQGVlT0fmO8tsQ0DuFdC7x5A5UeZ7C2JP\n",
       "whtmzBvJ5+oWIvff+L+F9FRbZu4GW8RGW/A2LTKS1gnU6vVP/gIScyPrFe+cPgAAAABJRU5ErkJg\n",
       "gg==\n",
       "\" style=\"display:inline;vertical-align:middle;\" /></a><br>(see <a class=\"ProveItLink\" href=\"../../../__pv_it/theorems/1ff62ab590822c0fe9184579db1c34236a605fe10/dependencies.ipynb\">dependencies</a>)<br>"
      ],
      "text/plain": [
       "<IPython.core.display.HTML object>"
      ]
     },
     "metadata": {},
     "output_type": "display_data"
    }
   ],
   "source": [
    "%proving union_inclusion"
   ]
  },
  {
   "cell_type": "code",
   "execution_count": null,
   "metadata": {},
   "outputs": [],
   "source": []
  }
 ],
 "metadata": {
  "kernelspec": {
   "display_name": "Python 3",
   "language": "python",
   "name": "python3"
  }
 },
 "nbformat": 4,
 "nbformat_minor": 0
}