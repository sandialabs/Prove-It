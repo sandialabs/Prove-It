{
 "cells": [
  {
   "cell_type": "markdown",
   "metadata": {},
   "source": [
    "Proof of <a class=\"ProveItLink\" href=\"../../../../../../_theory_nbs_/theory.ipynb\">proveit</a>.<a class=\"ProveItLink\" href=\"../../../../../_theory_nbs_/theory.ipynb\">logic</a>.<a class=\"ProveItLink\" href=\"../../../../_theory_nbs_/theory.ipynb\">sets</a>.<a class=\"ProveItLink\" href=\"../../theory.ipynb\">unification</a>.<a class=\"ProveItLink\" href=\"../../theorems.ipynb#nonmembership_equiv\">nonmembership_equiv</a> theorem\n",
    "========"
   ]
  },
  {
   "cell_type": "code",
   "execution_count": 1,
   "metadata": {},
   "outputs": [],
   "source": [
    "import proveit\n",
    "theory = proveit.Theory() # the theorem's theory"
   ]
  },
  {
   "cell_type": "code",
   "execution_count": 2,
   "metadata": {},
   "outputs": [
    {
     "data": {
      "text/html": [
       "With these <a href=\"allowed_presumptions.txt\">allowed</a>/<a href=\"disallowed_presumptions.txt\">disallowed</a> theorem/theory presumptions (e.g., to avoid circular dependencies), we begin our proof of<br><strong id=\"nonmembership_equiv\">nonmembership_equiv:</strong> <a class=\"ProveItLink\" href=\"../../../__pv_it/theorems/297bf48f746a28afb6d30571fec8aaf45a437ad00/expr.ipynb\"><img src=\"data:image/png;base64,iVBORw0KGgoAAAANSUhEUgAAA1MAAAAXCAMAAADZR+VJAAAASFBMVEX///8AAAAAAAAAAAAAAAAA\n",
       "AAAAAAAAAAAAAAAAAAAAAAAAAAAAAAAAAAAAAAAAAAAAAAAAAAAAAAAAAAAAAAAAAAAAAAAAAACC\n",
       "gUnDAAAAF3RSTlMAq1RmmUTNIjK7EInv3Xbp8+P355HBneB6d/sAAAAJcEhZcwAADsQAAA7EAZUr\n",
       "DhsAAAgBSURBVHja7VyJkp0qEFVAURCSl7f4/3/6QFxYulnUm5pUDZUEJrS9HDksrU7XvVK0UlP3\n",
       "hQpPGnmxGuEvWHir4/wOLDdFfpeVmyPjoUEO1y8SQQ5faqxpEjfgMgrwqg2jsfFejZ9lD6h+0GFd\n",
       "i0sTLKADNRbbrcRR1sZ1Y2Tc9gmB/nTVUKE/pQh9xql3NL1RiIwbcJl68CqH7tpms1W+e0W9pmFd\n",
       "h0sTLIgDZYs3rCRRavqhkfHAJwT6ozZUYOcKM/JnnHpH0wtFjHEDKWyArnLgrwCU8yXM4pvVKA8W\n",
       "XB5U70+s0NKC4dIEC+pAbFES5C7UWwGijKxI0jguyQd8QqDfa0OFk5p8frj3e0fTC4XRuIEUBV7l\n",
       "fupXnpHn8YTWKl/wJ5YH1dtCWVjX4NIEC+pAZFGoEbkL9VaAKEMriZHSLBLJv+MTAv1eWyocNGud\n",
       "AtLz1CuaXihL0gBW7lmpHz9H6KotBC7XqWHMt8o3cgpW79wWYV2By9JlcfnxMx25kAOhRU37Ab4L\n",
       "NeDjUQZWEiOl01Mk3x55BvkEeldbKtCdu4/O2BunXtH0wp55jBvpAXPUJv5+gq7ahrTu9Erqx3yr\n",
       "fCOnEPUObBrWZVxwWBwufTqGQAdCi6qb5g7DswR+JsrASmykDGgg3x55DvkEeldvVFiULYt8zKlX\n",
       "NL2w9ZNRQ2jdi0leyyffVtRwc818r5ndR9N6jrTKN3IKUe+Q78O6jAsKi8MFOnOADgQW7eE/OEY3\n",
       "gZ+J0reSGKnISPjy7ZHnkE+gd/VGBbaxcxbPOfWGphdSZDRqGGB0rzumwhwK1dh8OBiwp1VWj/lW\n",
       "+UZOYerdLn4Maxuv8kqPTqsJLA4XmuavYQeoPwTtpYQBeFaBn4nSt5IYKY2ESL458izyCfSu3qiw\n",
       "3b+6m35SCOZUSZO40dMurEjYoAYvupqV/WTNCKSUFAlmp46vfcs60iTfyClMvZuLl7Au44LC4nAB\n",
       "MoiwA75Fl59SIrFWB34mSs9KaiRfEvnmyLPIJ9C72lHBLiyFh7Zcse3stfSnLYBTBU1imZp7bggv\n",
       "Q9iw0syfU6dtj/rXL6Vm4Cp7WmWM9avrFN5EiYx5X15I2ffiVU4F7qQDZw3rMi4YLA4XC4uao9M7\n",
       "iIdv0Z1EtE6s1YGfAdGzkhrJl0S+NfI88gn0rnbjn2g8rzDpfp6NFOk7aaJkIsupnCYjhJ728J4b\n",
       "wjGntqZ/I8QMZCcvYeFkV+Xi1woY8/7DwUCebXuvrHwNpzz5QD1wuF7CuppTCSwOlzRpi+HhWdxP\n",
       "IkKBc1QZ/AyIlxXASH7uTeQbIy8gn0A/eOuUoQFFyM/YviYQI8HOTR/GqYwmY3JadGvPHeF472ev\n",
       "sc8YhAjGrkKuOoJTx4p+Cc7nedePMpBfB7tbmHLyeAHlI3eSDYhK3ETOU9HeL4Vlg0SBOz8ID8/i\n",
       "MRwZAfCsAD8D4mUFMJKfexP5xsgLyCfQu3qngiT7VpIyaiaivtN0duvmueMkExm4tpySZj1U5u8A\n",
       "cerUZJZcxs0ffyXtRmS2xnvuCM86aAizzPZLcAi024GBIVcNx1F+TYbOMAe5K0ieCo9ToHxuugDk\n",
       "I/XRDTL/M4d1GRcUFovLkEyXKB6eRXX6HVmrBD8D4mUFMFK16l/ybZGXkE+gd/VOBb4fkwQdFqPI\n",
       "/qT7c53eOWX2fmQorVOHpk7zrp+7kfhciDaxFT23hM/sq2uQdRJscTmc80hKkmcRx1X8mJXm/fm5\n",
       "x6mObAEJ6r17nMgbVQqXF+uINUD5UH18g4AMeRkXHBaDS/KIBsfjsnitqud4awM/A+JpBTCSBROQ\n",
       "b4q8iHwCvasPKuz6uNDWJTtDbP0D9TllmKTnAqdOtOg2K0z+ls14s7nJo2T72TMQzUqPyS81eLpH\n",
       "BQ3BzCREGPURFP38t4CuEvO6bmsEsQ0Zc6rjclTj9szy2Ign8kaTQOXN7MnQRiofq49vkL16COsy\n",
       "LjgsBpdfgwgPGjgel8UzKWOOW107+FkQTyuQkRyYgHxD5BXIJ9C7OsnR9domQY6tJx3nrRDHKSGP\n",
       "BATOKa+E70kxKWW/Gi8nEmVDz57FzjOFgXEK5xb9KW6k5Z9/Z3PYGKGrkF1zbeEffT4X3iCbkO2C\n",
       "ugaXDCz0PxnjguFRstgEPgoiV2+i9yTyGPkE+r1OqGDT1HYx4qtdYyYZrFN2IdkpVMEpa5/7W7Zz\n",
       "jxxy6urhu9P5nd8uTBmhlA1EpjCd711mXixNDziYcCOnuFHDP/defniD6t+L9SNsggXFo2TxiZUL\n",
       "RPbqxx5PfIqRT6Df65gKfN0JaY5b1vw15dJNUmPZgUTR0slxW8+E9M57Lgu+cwro6Wza3nVA//jC\n",
       "xMa3DOAXMWf+bOboPJjLuj3gFJ+naWIfW6niG3TEUfcpwBFhEywIHmXR+1YuEN/+xOGBTxHyCfRH\n",
       "HVNhsJyx72nwXruQpmMn6l4pqeVUx/QgtdUxLYYAbEtdCLaOw8UpoMdl7reOaeHhP7Gwcc0+gYAy\n",
       "q2duRcyFPCt4VRceoFbZ8LXpstrysWUqvkFFloARNsGC4FG2eN/KBeL88op/36cY+QT6oy5+8i6k\n",
       "PU+V36+Xmc/wE2/PvV/cI4Xb3HWkQo1y70iqDtgdcB034s0xOF5094cVzcO6yAh9A5as5Rprn7XS\n",
       "uNA/9gmBfq+1Wn7Dr5EY4gSbXvZJIe4ZzeSkoA7o/4TNatov9vUf95tZvst3eXgubO+hTWq+y3f5\n",
       "UuV/DxFfB6p4y1cAAAAASUVORK5CYII=\n",
       "\" style=\"display:inline;vertical-align:middle;\" /></a><br>(see <a class=\"ProveItLink\" href=\"../../../__pv_it/theorems/71ccf6e5021740aa037724c96af0bb0f1083a2380/dependencies.ipynb\">dependencies</a>)<br>"
      ],
      "text/plain": [
       "<IPython.core.display.HTML object>"
      ]
     },
     "metadata": {},
     "output_type": "display_data"
    },
    {
     "name": "stdout",
     "output_type": "stream",
     "text": [
      "nonmembership_equiv may now be readily provable (assuming required theorems are usable).  Simply execute \"%qed\".\n"
     ]
    }
   ],
   "source": [
    "%proving nonmembership_equiv"
   ]
  },
  {
   "cell_type": "code",
   "execution_count": null,
   "metadata": {},
   "outputs": [],
   "source": []
  }
 ],
 "metadata": {
  "kernelspec": {
   "display_name": "Python 3",
   "language": "python",
   "name": "python3"
  }
 },
 "nbformat": 4,
 "nbformat_minor": 0
}