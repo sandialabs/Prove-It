{
 "cells": [
  {
   "cell_type": "markdown",
   "metadata": {},
   "source": [
    "Demonstrations for the theory of <a class=\"ProveItLink\" href=\"theory.ipynb\">proveit.logic.sets.unification</a>\n",
    "========"
   ]
  },
  {
   "cell_type": "code",
   "execution_count": null,
   "metadata": {},
   "outputs": [],
   "source": [
    "import proveit\n",
    "from proveit import a, b, c, d, e, f, m, x, A, B, C, D, InstantiationFailure\n",
    "from proveit.logic import Forall, And, Or, Equals, InSet, NotInSet, Set, Union\n",
    "from proveit.core_expr_types import A_1_to_m\n",
    "from proveit.logic.sets import x_in_any_A, x_notin_all_A\n",
    "from proveit.numbers import (zero, one, two, three, four, five, six, seven,\n",
    "                             Add, Integer, NaturalPos)\n",
    "%begin demonstrations"
   ]
  },
  {
   "cell_type": "code",
   "execution_count": null,
   "metadata": {},
   "outputs": [],
   "source": [
    "Or(InSet(x, A), InSet(x, B), InSet(x,C)).prove(assumptions=[InSet(x,Union(A,B,C))])"
   ]
  },
  {
   "cell_type": "code",
   "execution_count": null,
   "metadata": {},
   "outputs": [],
   "source": [
    "InSet(x,Union(A,B,C)).prove(assumptions=[Or(InSet(x, A), InSet(x, B), InSet(x,C))])"
   ]
  },
  {
   "cell_type": "code",
   "execution_count": null,
   "metadata": {},
   "outputs": [],
   "source": [
    "NotInSet(x, Union(A,B,C,D)).definition()"
   ]
  },
  {
   "cell_type": "code",
   "execution_count": null,
   "metadata": {},
   "outputs": [],
   "source": [
    "NotInSet(x, Union(A,B,C)).prove(assumptions=[And(NotInSet(x,A), NotInSet(x,B),NotInSet(x,C))])"
   ]
  },
  {
   "cell_type": "code",
   "execution_count": null,
   "metadata": {},
   "outputs": [],
   "source": []
  },
  {
   "cell_type": "markdown",
   "metadata": {},
   "source": [
    "## Miscellaneous Testing\n",
    "\n",
    "The material below was developed to test various unification-related methods. Some of this material could be integrated into the `_demonstrations_` page eventually and/or deleted as development continues."
   ]
  },
  {
   "cell_type": "markdown",
   "metadata": {},
   "source": [
    "### Some Example `Sets` For Testing"
   ]
  },
  {
   "cell_type": "code",
   "execution_count": null,
   "metadata": {},
   "outputs": [],
   "source": [
    "# define some enumerated Sets for use in testing, containing numeric literals\n",
    "set_123, set_45, set_12345, set_1357, set_246 = (\n",
    "        Set(one, two , three),\n",
    "        Set(four, five),\n",
    "        Set(one, two, three, four, five),\n",
    "        Set(one, three, five, seven),\n",
    "        Set(two, four, six))"
   ]
  },
  {
   "cell_type": "code",
   "execution_count": null,
   "metadata": {},
   "outputs": [],
   "source": [
    "# define some enumerated Sets for use in testing, containing variables\n",
    "set_abc, set_abcde, set_de = (\n",
    "        Set(a, b, c),\n",
    "        Set(a, b, c, d, e),\n",
    "        Set(d, e))"
   ]
  },
  {
   "cell_type": "markdown",
   "metadata": {},
   "source": [
    "### Testing the `UnionMembership` class methods\n",
    "\n",
    "The `UnionMembership` class has the following class methods:<br/>\n",
    "    <div style=\"width: 75%; border: 1px solid green; padding: 5px; margin: 20px; background-color: gainsboro; font-family:courier\">definition(self, **defaults_config)<br/>\n",
    "    unfold(self, **defaults_config)<br/>\n",
    "    conclude(self, **defaults_config)</div>\n",
    "</font>"
   ]
  },
  {
   "cell_type": "markdown",
   "metadata": {},
   "source": [
    "A few `UnionMembership` objects for convenience:"
   ]
  },
  {
   "cell_type": "code",
   "execution_count": null,
   "metadata": {},
   "outputs": [],
   "source": [
    "# a UnionMembership object that is clearly True\n",
    "union_mem_01 = Union(set_abc, set_de).membership_object(d)\n",
    "union_mem_01.expr"
   ]
  },
  {
   "cell_type": "code",
   "execution_count": null,
   "metadata": {},
   "outputs": [],
   "source": [
    "# a UnionMembership object that is clearly False\n",
    "union_mem_02 = Union(set_123, set_45).membership_object(six)\n",
    "union_mem_02.expr"
   ]
  },
  {
   "cell_type": "code",
   "execution_count": null,
   "metadata": {},
   "outputs": [],
   "source": [
    "# a UnionMembership object that is not clearly True or False\n",
    "union_mem_03 = Union(set_123, set_abc).membership_object(d)\n",
    "union_mem_03.expr"
   ]
  },
  {
   "cell_type": "code",
   "execution_count": null,
   "metadata": {},
   "outputs": [],
   "source": [
    "# a UnionMembership object that is not clearly True or False\n",
    "union_mem_04 = Union(set_abc, Set(two, Add(one, three), five)).membership_object(d)\n",
    "union_mem_04.expr"
   ]
  },
  {
   "cell_type": "markdown",
   "metadata": {},
   "source": [
    "###  `UnionMembership.definition()`\n",
    "\n",
    "From self $= [x \\in (A \\cup B \\cup \\ldots)]$, deduce and return something of the form $[x \\in (A \\cup B \\cup \\ldots)] = [(x \\in A) \\lor (x \\in B) \\lor \\ldots$."
   ]
  },
  {
   "cell_type": "code",
   "execution_count": null,
   "metadata": {},
   "outputs": [],
   "source": [
    "union_mem_01.expr"
   ]
  },
  {
   "cell_type": "code",
   "execution_count": null,
   "metadata": {},
   "outputs": [],
   "source": [
    "union_mem_01.definition()"
   ]
  },
  {
   "cell_type": "code",
   "execution_count": null,
   "metadata": {},
   "outputs": [],
   "source": [
    "union_mem_02.expr"
   ]
  },
  {
   "cell_type": "code",
   "execution_count": null,
   "metadata": {},
   "outputs": [],
   "source": [
    "# notice the definition is returned even for False membership claims\n",
    "union_mem_02.definition()"
   ]
  },
  {
   "cell_type": "code",
   "execution_count": null,
   "metadata": {},
   "outputs": [],
   "source": [
    "union_mem_03.expr"
   ]
  },
  {
   "cell_type": "code",
   "execution_count": null,
   "metadata": {},
   "outputs": [],
   "source": [
    "# notice the definition is returned even for membership claims\n",
    "# with unknown verity\n",
    "union_mem_03.definition()"
   ]
  },
  {
   "cell_type": "code",
   "execution_count": null,
   "metadata": {},
   "outputs": [],
   "source": [
    "union_mem_04.expr"
   ]
  },
  {
   "cell_type": "code",
   "execution_count": null,
   "metadata": {},
   "outputs": [],
   "source": [
    "# notice the definition is returned even for membership claims\n",
    "# with unknown verity\n",
    "union_mem_04.definition()"
   ]
  },
  {
   "cell_type": "markdown",
   "metadata": {},
   "source": [
    "###  `UnionMembership.unfold()`\n",
    "\n",
    "From a self proven or assumed of the form $[x \\in (A \\cup B \\cup \\ldots)]$, derive and return $[(x \\in A) \\lor (x \\in B) \\lor \\ldots]$."
   ]
  },
  {
   "cell_type": "code",
   "execution_count": null,
   "metadata": {},
   "outputs": [],
   "source": [
    "union_mem_01.expr"
   ]
  },
  {
   "cell_type": "code",
   "execution_count": null,
   "metadata": {},
   "outputs": [],
   "source": [
    "union_mem_01.unfold(assumptions=[union_mem_01.expr])"
   ]
  },
  {
   "cell_type": "code",
   "execution_count": null,
   "metadata": {},
   "outputs": [],
   "source": [
    "union_mem_02.expr"
   ]
  },
  {
   "cell_type": "code",
   "execution_count": null,
   "metadata": {},
   "outputs": [],
   "source": [
    "# This should fail, since 6 is not in the union\n",
    "try:\n",
    "    union_mem_02.unfold()\n",
    "    assert False, \"Expecting a ProofFailure (InstantiationFailure); should not get this far!\"\n",
    "except InstantiationFailure as the_error:\n",
    "    print(\"ProofFailure (InstantiationFailure): {}\".format(the_error))"
   ]
  },
  {
   "cell_type": "code",
   "execution_count": null,
   "metadata": {},
   "outputs": [],
   "source": [
    "Union(set_123, set_45).membership_object(two).expr"
   ]
  },
  {
   "cell_type": "code",
   "execution_count": null,
   "metadata": {},
   "outputs": [],
   "source": [
    "# Notice here we don't need any explicit assumptions\n",
    "Union(set_123, set_45).membership_object(two).unfold()"
   ]
  },
  {
   "cell_type": "code",
   "execution_count": null,
   "metadata": {},
   "outputs": [],
   "source": [
    "# Consider a union of sets with some reducible elements:\n",
    "Union(Set(two, Add(two, three)), Set(one, Add(one, two))).membership_object(three).expr"
   ]
  },
  {
   "cell_type": "code",
   "execution_count": null,
   "metadata": {},
   "outputs": [],
   "source": [
    "# We are still ok unfolding the membership, without any extra assumptions\n",
    "Union(Set(two, Add(two, three)), Set(one, Add(one, two))).membership_object(three).unfold()"
   ]
  },
  {
   "cell_type": "markdown",
   "metadata": {},
   "source": [
    "###  `UnionMembership.conclude()`\n",
    "\n",
    "Called on self $= [x \\in (A \\cup B \\;\\cup\\; ...)]$, and knowing or assuming $[[x \\in A] \\lor [x \\in B] \\;\\lor\\; ...]$, derive and return self."
   ]
  },
  {
   "cell_type": "code",
   "execution_count": null,
   "metadata": {},
   "outputs": [],
   "source": [
    "union_mem_01.expr"
   ]
  },
  {
   "cell_type": "code",
   "execution_count": null,
   "metadata": {},
   "outputs": [],
   "source": [
    "# conclude() requires no extra assumptions for this one\n",
    "union_mem_01.conclude()"
   ]
  },
  {
   "cell_type": "code",
   "execution_count": null,
   "metadata": {},
   "outputs": [],
   "source": [
    "# Recall the False UnionMembership object:\n",
    "union_mem_02.expr"
   ]
  },
  {
   "cell_type": "code",
   "execution_count": null,
   "metadata": {},
   "outputs": [],
   "source": [
    "# We should not be able to conclude() such a False IntersectMembership object:\n",
    "try:\n",
    "    union_mem_02.conclude()\n",
    "    assert False, \"Expecting a ProofFailure (InstantiationFailure); should not get this far!\"\n",
    "except InstantiationFailure as the_error:\n",
    "    print(\"ProofFailure (InstantiationFailure): {}\".format(the_error))"
   ]
  },
  {
   "cell_type": "code",
   "execution_count": null,
   "metadata": {},
   "outputs": [],
   "source": [
    "# Recall this IntersectMembership object of unknown verity (where 'c' is an unassigned variable):\n",
    "union_mem_03.expr"
   ]
  },
  {
   "cell_type": "code",
   "execution_count": null,
   "metadata": {},
   "outputs": [],
   "source": [
    "# We should not be able to conclude() such an DifferenceMembership object:\n",
    "try:\n",
    "    union_mem_03.conclude()\n",
    "    assert False, \"Expecting a ProofFailure (InstantiationFailure); should not get this far!\"\n",
    "except InstantiationFailure as the_error:\n",
    "    print(\"ProofFailure (InstantiationFailure): {}\".format(the_error))"
   ]
  },
  {
   "cell_type": "code",
   "execution_count": null,
   "metadata": {},
   "outputs": [],
   "source": [
    "# But if we supply some extra information about 'c', we can conclude:\n",
    "union_mem_03.conclude(assumptions=[Equals(d, a)])"
   ]
  },
  {
   "cell_type": "code",
   "execution_count": null,
   "metadata": {},
   "outputs": [],
   "source": [
    "# Consider a more general UnionMembership object\n",
    "Union(Set(b, e), Set(b, c, d)).membership_object(a).expr"
   ]
  },
  {
   "cell_type": "code",
   "execution_count": null,
   "metadata": {},
   "outputs": [],
   "source": [
    "# We should not be able to conclude() such a UnionMembership object,\n",
    "# without knowing the value of a:\n",
    "try:\n",
    "    Union(Set(b, e), Set(b, c, d)).membership_object(a).conclude()\n",
    "    assert False, \"Expecting a ProofFailure (InstantiationFailure); should not get this far!\"\n",
    "except InstantiationFailure as the_error:\n",
    "    print(\"ProofFailure (InstantiationFailure): {}\".format(the_error))"
   ]
  },
  {
   "cell_type": "code",
   "execution_count": null,
   "metadata": {},
   "outputs": [],
   "source": [
    "# define a Union with some unsimplified elements:\n",
    "Union(Set(one, Add(one, one), Add(two, one)), Set(Add(one, one), three)).membership_object(c).expr"
   ]
  },
  {
   "cell_type": "code",
   "execution_count": null,
   "metadata": {},
   "outputs": [],
   "source": [
    "Union(Set(one, Add(one, one), Add(two, one)), Set(Add(one, one), three)).membership_object(c).conclude(\n",
    "        assumptions=[Equals(c, two)])"
   ]
  },
  {
   "cell_type": "code",
   "execution_count": null,
   "metadata": {},
   "outputs": [],
   "source": [
    "# a UnionMembership object involving general sets\n",
    "Union(Integer, NaturalPos).membership_object(x).expr"
   ]
  },
  {
   "cell_type": "code",
   "execution_count": null,
   "metadata": {},
   "outputs": [],
   "source": [
    "# a conclude() on that general set UnionMembership\n",
    "Union(Integer, NaturalPos).membership_object(x).conclude(\n",
    "        assumptions=[Equals(x, zero)])"
   ]
  },
  {
   "cell_type": "markdown",
   "metadata": {},
   "source": [
    "### Testing the `UnionNonmembership` class methods\n",
    "\n",
    "The `UnionNonmembership` class has the following class methods:<br/>\n",
    "    <div style=\"width: 75%; border: 1px solid green; padding: 5px; margin: 20px; background-color: gainsboro; font-family:courier\">definition(self, **defaults_config)<br/>\n",
    "    conclude(self, **defaults_config)</div>\n",
    "</font>"
   ]
  },
  {
   "cell_type": "markdown",
   "metadata": {},
   "source": [
    "A few `UnionNonmembership` objects for convenience:"
   ]
  },
  {
   "cell_type": "code",
   "execution_count": null,
   "metadata": {},
   "outputs": [],
   "source": [
    "# a UnionMembership object that is clearly True\n",
    "union_nonmem_01 = Union(set_123, set_45).nonmembership_object(six)\n",
    "union_nonmem_01.expr"
   ]
  },
  {
   "cell_type": "code",
   "execution_count": null,
   "metadata": {},
   "outputs": [],
   "source": [
    "# a UnionNonmembership object that is clearly False\n",
    "union_nonmem_02 = Union(set_abc, set_de).nonmembership_object(d)\n",
    "union_nonmem_02.expr"
   ]
  },
  {
   "cell_type": "code",
   "execution_count": null,
   "metadata": {},
   "outputs": [],
   "source": [
    "# a UnionNonmembership object that is not clearly True or False\n",
    "union_nonmem_03 = Union(set_123, set_abc).nonmembership_object(d)\n",
    "union_nonmem_03.expr"
   ]
  },
  {
   "cell_type": "code",
   "execution_count": null,
   "metadata": {},
   "outputs": [],
   "source": [
    "# a UnionMembership object that is not clearly True or False\n",
    "union_nonmem_04 = Union(set_abc, Set(two, Add(one, three), Add(two, three))).nonmembership_object(d)\n",
    "union_nonmem_04.expr"
   ]
  },
  {
   "cell_type": "markdown",
   "metadata": {},
   "source": [
    "###  `UnionNonmembership.definition()`\n",
    "\n",
    "From self $= [x \\notin (A \\cup B \\cup \\ldots)]$, deduce and return something of the form $[x \\notin (A \\cup B \\cup \\ldots)] = [(x \\notin A) \\land (x \\notin B) \\land \\ldots]$."
   ]
  },
  {
   "cell_type": "code",
   "execution_count": null,
   "metadata": {},
   "outputs": [],
   "source": [
    "union_nonmem_01.expr"
   ]
  },
  {
   "cell_type": "code",
   "execution_count": null,
   "metadata": {},
   "outputs": [],
   "source": [
    "union_nonmem_01.definition()"
   ]
  },
  {
   "cell_type": "code",
   "execution_count": null,
   "metadata": {},
   "outputs": [],
   "source": [
    "union_nonmem_02.expr"
   ]
  },
  {
   "cell_type": "code",
   "execution_count": null,
   "metadata": {},
   "outputs": [],
   "source": [
    "# notice the definition is returned even for False membership claims\n",
    "union_nonmem_02.definition()"
   ]
  },
  {
   "cell_type": "code",
   "execution_count": null,
   "metadata": {},
   "outputs": [],
   "source": [
    "union_nonmem_03.expr"
   ]
  },
  {
   "cell_type": "code",
   "execution_count": null,
   "metadata": {},
   "outputs": [],
   "source": [
    "# notice the definition is returned even for membership claims\n",
    "# with unknown verity\n",
    "union_nonmem_03.definition()"
   ]
  },
  {
   "cell_type": "code",
   "execution_count": null,
   "metadata": {},
   "outputs": [],
   "source": [
    "union_nonmem_04.expr"
   ]
  },
  {
   "cell_type": "code",
   "execution_count": null,
   "metadata": {},
   "outputs": [],
   "source": [
    "# notice the definition is returned even for membership claims\n",
    "# with unknown verity\n",
    "union_nonmem_04.definition()"
   ]
  },
  {
   "cell_type": "markdown",
   "metadata": {},
   "source": [
    "###  `UnionNonmembership.conclude()`\n",
    "\n",
    "Called on self $= [x \\notin (A \\cup B \\;\\cup\\; ...)]$, and knowing or assuming $[[x \\notin A] \\land [x \\notin B] \\;\\land\\; ...]$, derive and return self."
   ]
  },
  {
   "cell_type": "code",
   "execution_count": null,
   "metadata": {},
   "outputs": [],
   "source": [
    "union_nonmem_01.expr"
   ]
  },
  {
   "cell_type": "code",
   "execution_count": null,
   "metadata": {},
   "outputs": [],
   "source": [
    "# conclude() requires no extra assumptions for this one\n",
    "union_nonmem_01.conclude()"
   ]
  },
  {
   "cell_type": "code",
   "execution_count": null,
   "metadata": {},
   "outputs": [],
   "source": [
    "# Recall the False UnionNonmembership object:\n",
    "union_nonmem_02.expr"
   ]
  },
  {
   "cell_type": "code",
   "execution_count": null,
   "metadata": {},
   "outputs": [],
   "source": [
    "# We should not be able to conclude() such a False UnionNonmembership object:\n",
    "try:\n",
    "    union_nonmem_02.conclude()\n",
    "    assert False, \"Expecting a ProofFailure (InstantiationFailure); should not get this far!\"\n",
    "except InstantiationFailure as the_error:\n",
    "    print(\"ProofFailure (InstantiationFailure): {}\".format(the_error))"
   ]
  },
  {
   "cell_type": "code",
   "execution_count": null,
   "metadata": {},
   "outputs": [],
   "source": [
    "# Recall this UnionNonmembership object of unknown verity (where 'd' is an unassigned variable):\n",
    "union_nonmem_03.expr"
   ]
  },
  {
   "cell_type": "code",
   "execution_count": null,
   "metadata": {},
   "outputs": [],
   "source": [
    "# We should not be able to conclude() such a UnionNonmembership object:\n",
    "try:\n",
    "    union_nonmem_03.conclude()\n",
    "    assert False, \"Expecting a ProofFailure (InstantiationFailure); should not get this far!\"\n",
    "except InstantiationFailure as the_error:\n",
    "    print(\"ProofFailure (InstantiationFailure): {}\".format(the_error))"
   ]
  },
  {
   "cell_type": "code",
   "execution_count": null,
   "metadata": {},
   "outputs": [],
   "source": [
    "# But if we supply some extra information about 'd', we can conclude:\n",
    "union_nonmem_03.conclude(assumptions=[Equals(d, four), NotInSet(d, Set(a, b, c))],\n",
    "                         simplify_with_known_evaluations=True)"
   ]
  },
  {
   "cell_type": "code",
   "execution_count": null,
   "metadata": {},
   "outputs": [],
   "source": [
    "# Consider a more general UnionNonmembership object\n",
    "Union(Set(b, e), Set(b, c, d)).nonmembership_object(a).expr"
   ]
  },
  {
   "cell_type": "code",
   "execution_count": null,
   "metadata": {},
   "outputs": [],
   "source": [
    "# We should not be able to conclude() such a UnionNonmembership object,\n",
    "# without knowing the value of a:\n",
    "try:\n",
    "    Union(Set(b, e), Set(b, c, d)).nonmembership_object(a).conclude()\n",
    "    assert False, \"Expecting a ProofFailure (InstantiationFailure); should not get this far!\"\n",
    "except InstantiationFailure as the_error:\n",
    "    print(\"ProofFailure (InstantiationFailure): {}\".format(the_error))"
   ]
  },
  {
   "cell_type": "code",
   "execution_count": null,
   "metadata": {},
   "outputs": [],
   "source": [
    "# define a Union with some unsimplified elements:\n",
    "Union(Set(one, Add(one, one), Add(two, one)), Set(Add(one, one), three)).membership_object(c).expr"
   ]
  },
  {
   "cell_type": "code",
   "execution_count": null,
   "metadata": {},
   "outputs": [],
   "source": [
    "Union(Set(one, Add(one, one), Add(two, one)), Set(Add(one, one), three)).nonmembership_object(c).conclude(\n",
    "        assumptions=[Equals(c, zero)],\n",
    "        simplify_with_known_evaluations=True)"
   ]
  },
  {
   "cell_type": "code",
   "execution_count": null,
   "metadata": {},
   "outputs": [],
   "source": [
    "# a UnionNonmembership object involving general sets\n",
    "Union(Integer, NaturalPos).nonmembership_object(x).expr"
   ]
  },
  {
   "cell_type": "code",
   "execution_count": null,
   "metadata": {},
   "outputs": [],
   "source": [
    "# a conclude() on that general set UnionNonmembership\n",
    "Union(Integer, NaturalPos).nonmembership_object(x).conclude(\n",
    "        assumptions=[NotInSet(x, Integer)])"
   ]
  },
  {
   "cell_type": "code",
   "execution_count": null,
   "metadata": {},
   "outputs": [],
   "source": [
    "%end demonstrations"
   ]
  },
  {
   "cell_type": "code",
   "execution_count": null,
   "metadata": {},
   "outputs": [],
   "source": []
  }
 ],
 "metadata": {
  "kernelspec": {
   "display_name": "Python 3",
   "language": "python",
   "name": "python3"
  }
 },
 "nbformat": 4,
 "nbformat_minor": 0
}
