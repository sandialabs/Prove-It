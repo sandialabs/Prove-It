{
 "cells": [
  {
   "cell_type": "markdown",
   "metadata": {},
   "source": [
    "Theorems (or conjectures) for the theory of <a class=\"ProveItLink\" href=\"theory.ipynb\">proveit.logic.sets.unification</a>\n",
    "========"
   ]
  },
  {
   "cell_type": "code",
   "execution_count": null,
   "metadata": {},
   "outputs": [],
   "source": [
    "import proveit\n",
    "# Prepare this notebook for defining the theorems of a theory:\n",
    "%theorems_notebook # Keep this at the top following 'import proveit'.\n",
    "from proveit.logic import Forall, And, Or, Equals, InSet, NotInSet, Union, SubsetEq\n",
    "from proveit import A, B, S, m, x\n",
    "from proveit.core_expr_types import A_1_to_m\n",
    "from proveit.logic.sets import x_in_any_A, x_notin_all_A, each_A_in_S\n",
    "from proveit.numbers import NaturalPos\n",
    "%begin theorems"
   ]
  },
  {
   "cell_type": "code",
   "execution_count": null,
   "metadata": {},
   "outputs": [],
   "source": [
    "membership_unfolding = Forall(m, Forall((x, A_1_to_m), x_in_any_A, \n",
    "                                       conditions=[InSet(x, Union(A_1_to_m))]),\n",
    "                             domain=NaturalPos)"
   ]
  },
  {
   "cell_type": "code",
   "execution_count": null,
   "metadata": {},
   "outputs": [],
   "source": [
    "membership_folding = Forall(m, Forall((x, A_1_to_m), InSet(x, Union(A_1_to_m)), \n",
    "                                     conditions=[x_in_any_A]),\n",
    "                           domain=NaturalPos)"
   ]
  },
  {
   "cell_type": "code",
   "execution_count": null,
   "metadata": {},
   "outputs": [],
   "source": [
    "from proveit.logic import in_bool\n",
    "union_membership_is_bool = (\n",
    "    Forall(m,\n",
    "    Forall((x, A_1_to_m),\n",
    "           in_bool(InSet(x, Union(A_1_to_m)))),\n",
    "    domain=NaturalPos\n",
    "    )\n",
    ")"
   ]
  },
  {
   "cell_type": "code",
   "execution_count": null,
   "metadata": {},
   "outputs": [],
   "source": [
    "nonmembership_equiv = Forall(m, Forall((x, A_1_to_m), \n",
    "                                      Equals(NotInSet(x, Union(A_1_to_m)),\n",
    "                                             x_notin_all_A)),\n",
    "                            domain=NaturalPos)"
   ]
  },
  {
   "cell_type": "code",
   "execution_count": null,
   "metadata": {},
   "outputs": [],
   "source": [
    "nonmembership_folding = Forall(m, Forall((x, A_1_to_m), \n",
    "                                        NotInSet(x, Union(A_1_to_m)),\n",
    "                                        conditions=[x_notin_all_A]),\n",
    "                              domain=NaturalPos)"
   ]
  },
  {
   "cell_type": "code",
   "execution_count": null,
   "metadata": {},
   "outputs": [],
   "source": [
    "union_nonmembership_is_bool = (\n",
    "    Forall(m,\n",
    "    Forall((x, A_1_to_m),\n",
    "           in_bool(NotInSet(x, Union(A_1_to_m)))),\n",
    "    domain=NaturalPos\n",
    "    )\n",
    ")"
   ]
  },
  {
   "cell_type": "code",
   "execution_count": null,
   "metadata": {},
   "outputs": [],
   "source": [
    "union_inclusion = Forall(m, Forall((A_1_to_m, S), \n",
    "                                   SubsetEq(Union(A_1_to_m), S),\n",
    "                                   conditions=[each_A_in_S]),\n",
    "                         domain=NaturalPos)"
   ]
  },
  {
   "cell_type": "code",
   "execution_count": null,
   "metadata": {},
   "outputs": [],
   "source": [
    "%end theorems"
   ]
  },
  {
   "cell_type": "code",
   "execution_count": null,
   "metadata": {},
   "outputs": [],
   "source": []
  }
 ],
 "metadata": {
  "kernelspec": {
   "display_name": "Python 3",
   "language": "python",
   "name": "python3"
  }
 },
 "nbformat": 4,
 "nbformat_minor": 0
}
