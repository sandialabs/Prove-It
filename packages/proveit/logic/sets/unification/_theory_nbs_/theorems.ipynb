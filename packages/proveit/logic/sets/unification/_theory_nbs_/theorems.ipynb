{
 "cells": [
  {
   "cell_type": "markdown",
   "metadata": {},
   "source": [
    "Theorems (or conjectures) for the theory of <a class=\"ProveItLink\" href=\"theory.ipynb\">proveit.logic.sets.unification</a>\n",
    "========"
   ]
  },
  {
   "cell_type": "code",
   "execution_count": 1,
   "metadata": {},
   "outputs": [
    {
     "name": "stdout",
     "output_type": "stream",
     "text": [
      "Defining theorems for theory 'proveit.logic.sets.unification'\n",
      "Subsequent end-of-cell assignments will define theorems\n",
      "'%end theorems' will finalize the definitions\n"
     ]
    }
   ],
   "source": [
    "import proveit\n",
    "# Prepare this notebook for defining the theorems of a theory:\n",
    "%theorems_notebook # Keep this at the top following 'import proveit'.\n",
    "from proveit.logic import Forall, And, Or, Equals, InSet, NotInSet, Union, SubsetEq\n",
    "from proveit import A, B, S, m, x\n",
    "from proveit.core_expr_types import A_1_to_m\n",
    "from proveit.logic.sets import x_in_any_A, x_notin_all_A, each_A_in_S\n",
    "from proveit.numbers import NaturalPos\n",
    "%begin theorems"
   ]
  },
  {
   "cell_type": "code",
   "execution_count": 2,
   "metadata": {},
   "outputs": [
    {
     "data": {
      "text/html": [
       "<strong id=\"membership_unfolding\"><a class=\"ProveItLink\" href=\"proofs/membership_unfolding/thm_proof.ipynb\">membership_unfolding</a> (conjecture without proof):<br></strong> <a class=\"ProveItLink\" href=\"../__pv_it/theorems/84a667cc02f35d10851d3995d946402388e020eb0/theorem_expr.ipynb\"><img src=\"data:image/png;base64,iVBORw0KGgoAAAANSUhEUgAAAt8AAAAZBAMAAAAbCl93AAAAMFBMVEX///8AAAAAAAAAAAAAAAAA\n",
       "AAAAAAAAAAAAAAAAAAAAAAAAAAAAAAAAAAAAAAAAAAAv3aB7AAAAD3RSTlMAq1RmmUTNIjK7EInv\n",
       "3XZ/CtNrAAAACXBIWXMAAA7EAAAOxAGVKw4bAAAHrElEQVRo3u1afWwURRR/t7vXvdvrXc8YEyVa\n",
       "zoAkphROKWj/waOUj1DAsySKQrRCjBFjOBKiqUC78pdIgdPY0CNRjkiIiGIh8YsmcmiIBCK5GDGE\n",
       "cMnVoqQEasWkIMbU+dyd3dvduyJ/FONLZm7ezrz3Zn/75s2baQEqoPsKKfifbgFdKcQqGtc2jt9B\n",
       "xVWqkkFlntgoNaYJVDCGjJPjtz3gP6MScfMblc3cX3QSc6RX2e+zY5mAp3Fmn8wBAR7FDyaVA9yH\n",
       "f6T4+MNb6kVVnVtv1TBrDDiJOdJa9huJj2EC3saZ/QEK+DzMv1gOcCWJNYzDSL4PFc11BU7n71yV\n",
       "RZUPV4EiF3PGb5S31oBVxEITcLXdU5NpnNnHBQH+Bnb+dDnAA3ghtI/DiDIXFcXVGedcYw05gSsM\n",
       "XFDnYo6kTORe1QBWEQvNxlWPpybTOLNPSpzgHoqVjeH4ex8eh4DnUKm2PBksFLjHhzZc509P4ipv\n",
       "xOicm8gXRzm61VmriIXCRozOVWCc2T9JAMf7ZlX5TXPG+Nw7JTynKeKTJy+Z7Y7IVd5cDcxjmgwx\n",
       "JxG1+Bt3vqq4RcRK2EWVmJcm0Tizv5pmKd8XCqfKA15dKJzvHX+AK3hOLagc7P+wDwOgrhF6E9If\n",
       "vHmIZyB5LqYNTdhK1qwoosB0Hp9CUYtIaQYSNiZQzjizf4gCvhBgV3nAFR2C2fEHOHFD7D2JSK2S\n",
       "t23s/ljgL96eRbZAHSJFLqZAf3EJ2ERaYQd3K7nNImKjuwGGjAmUM87sz6KArwM16vgyIRFwNGad\n",
       "2Km5MiZZPpBSEg1SJWNcNdk7I0YsxY71A3qRlHzDh9+9ymJS/Z23p+IKbf3hLBd7BB7L3gk2kQR0\n",
       "cjCknEXERijXOMc1lTXO7E+lgAezoaRV2aaWpHxMhAh/613wmTjmY92NMfE5IXJBe/fM0jFumko7\n",
       "E3xnw1M/jnABhQbTrgIilnQNNs/5E5kgzr0DaPo72RDTYT7YRSLvNk9Mg9Z3B8I4MGwRsS+tlJTg\n",
       "mjyMG7SDFgy4VBQ/TKA/k5SiR2CRHfBp1j3zaMyNMVfIVTfAt9/TDVpUGKPwJcA0KeKSsHdiWmED\n",
       "HLXowt8vfHD05G9k7ApmVpJHdezEQcTgNNhFDgLU5JExHCD8OYtIyXmHxg+qydW4QStpIUf7ttlC\n",
       "RzPyImm2Ar12wKtkMZT5u4oujEnLT7sArizEVVIYgzt9gibOO3YaBxkhpAA8l9KyLF8TPtR5VOqB\n",
       "VxAOpE0x/zX4CKwiyGnDOahJqiijk/IWETvlt5iaPIxzqqeFAH4Y7a3y3O39kUadHmilzU8Ve0PN\n",
       "S5rnCYCHpiCVkQsdC+jaqxLivoUxqfh8KeBEwYD5mmwMx5RrcgRcNMNPDkH8Dd5HvpW8l+45wg63\n",
       "jB3UCdaN1PxDSS6mdfty0GsV8cfJgVzOYsDltEXETgN3GRPwMN7w6FB0oIfZb2SAb0Tv8cHKeHU0\n",
       "EqWLQtKPPFDi4SqK6nDRl15FgVKEAGNhhI1tfingWIGWNi6J+BiOKdfkCLhoRkoIuRtKt6a/tRhl\n",
       "GJhWGZkbDgm7UwzwFrrQfzLEpOt7c/6YVWQjtobPh6E8S/gMEW0EVZ+28QrgkzZjAu7GtZnfwjHo\n",
       "Z/ZbGOAo84HXf4UaHZlYRgFXImk74DgRgniwSDYuvx7JgcqyScK0XrA7wnK4XAo4VuAnme7Txpj2\n",
       "LMfU0OQEOOk0fJGt8wBe99sA9g5Jcyl6e7pptNF2j2ThwdGXGeBn6PgmQ0xbWpz8MFhE9o+uAWn3\n",
       "CAJ6G3oQTlpEfsSrMsErduyhE3A3rh5sg+sE7DO0mNeztdCF49GsTCYTk3Stt60EcEI1NNNU+g7d\n",
       "gM3nwGRy2rAN8Ja+idnSGI4UyC9lMu/A/XxMoN4A3NDkBDjpNPZ2HljPYggsqc2K9wrWBYcBV22H\n",
       "l7PgJUJcaVNlJwFvTb5iIIf3GGwfFxPwEzAInQHYSj0cWou2PJxRF72YLwKOcgxwwqQCOXtEgU5d\n",
       "bpoxr04XAUcKAmStbuFjcJ7ro5gamnwi4GJnw6SG1i+FkEKumOSEJyT1DvdbDZ4S6+E1r1upMWiq\n",
       "1iNpdVgn9nExAFeHkY83KvQ0KSchEnX6A4Sa+xwSWi/ZXK4SwE0mmIQDmGUVDk41MWkQjrML46Ch\n",
       "gB5sw8DGYMADE0BrEjRRnqkSO6elq5N14vYUxA6wsyzg9ovOoNdNs9rz5qKyN6gVaYJO5ONyOkHs\n",
       "t4MAuD+K0s11l5AtHBNR5ukIOCxdMZQNfAOLo7B3JIkBNxmU6nXFAt9BVwpXMeUYaI+/AD1aGwt2\n",
       "QUMBtOt0omwMPsmtz7ytC5ooT1WlxM6gvo8EVeM1yQ683+udN6z9uvSTaF5wVo+ODpcBskJN8AQ6\n",
       "Iam1WWJ/Jzj9ie1AJpN0uksRc37eOCcwoSzyOfNgwlt5qTcs2/Nw7atMN/iNqzDb0ZlocqMwOojk\n",
       "4yLEHeSOrwwqkRL0OsoBebHS65yOCsZg+2QON/U3zWf4efFUzGTWjubBbyDHW1o0kvRddD7aL+D7\n",
       "32XrPTvW5Ep74BeoTZnCtxvdFOBxN0Z2aLnfpYT+xeWjnPxvA/7KLfi/FNX7MnFspN2meF85H/8H\n",
       "vp5JEJt1XnIAAAAASUVORK5CYII=\n",
       "\" style=\"display:inline;vertical-align:middle;\" /></a><br>"
      ],
      "text/plain": [
       "<IPython.core.display.HTML object>"
      ]
     },
     "metadata": {},
     "output_type": "display_data"
    }
   ],
   "source": [
    "membership_unfolding = Forall(m, Forall((x, A_1_to_m), x_in_any_A, \n",
    "                                       conditions=[InSet(x, Union(A_1_to_m))]),\n",
    "                             domain=NaturalPos)"
   ]
  },
  {
   "cell_type": "code",
   "execution_count": 3,
   "metadata": {},
   "outputs": [
    {
     "data": {
      "text/html": [
       "<strong id=\"membership_folding\"><a class=\"ProveItLink\" href=\"proofs/membership_folding/thm_proof.ipynb\">membership_folding</a> (conjecture without proof):<br></strong> <a class=\"ProveItLink\" href=\"../__pv_it/theorems/123b7e1c29abbe158b6998166b8c7cfd47634ba60/theorem_expr.ipynb\"><img src=\"data:image/png;base64,iVBORw0KGgoAAAANSUhEUgAAAroAAAAZBAMAAAAsxJBDAAAAMFBMVEX///8AAAAAAAAAAAAAAAAA\n",
       "AAAAAAAAAAAAAAAAAAAAAAAAAAAAAAAAAAAAAAAAAAAv3aB7AAAAD3RSTlMAq1RmmUTNIjK7EInv\n",
       "3XZ/CtNrAAAACXBIWXMAAA7EAAAOxAGVKw4bAAAG/klEQVRo3u1ab4hUVRQ/++bNzps3O7MTfcmC\n",
       "nND0g1RD2x/8kA25m6Jpg0H/NmIySlooR4gNyz+jnxJXG6JlHSEbUQIzchQyUsixkARJhogSaeBZ\n",
       "liiyLX5QqQ/bvffce999793nzEqSQ12478057/fOue/37j33vLML0E7rav4E/7cptlTz+/aA3R39\n",
       "mDG9unij/BWF8b7/Aru/6KdWhp2GQ24anqITBf8i74TdND3NaMluFz0Z2U4k16hp1XPwtDLkrpVT\n",
       "9KLgU1nshN0BKq9oya6Zp6diJ7L7sVZrF5D6SamJM3UOrqlXWpkedkMADzDEex9soIGp3JJdi87x\n",
       "1R0ZGOZrtSauQ3O6nDFJFqPTcE290hr0sAoCeIAHeO+D7ipAItM67tJ3caAj2a17pPPNJpu1PSh+\n",
       "caSkZTFMH8augie2q9j7IJJtY9Pqxv2v0JFh1zPqpy/wH7MwnXD+yOhYDNOHsaviCV1Z7ISz75rN\n",
       "E22w29Ns/lzrRHZNMmp7/PbNbOHFhoR6MV6E+7I6FsP0YeyqeBIL0tgJuwsBtrfBrlmCeLUT2aWT\n",
       "yIQzzhLw7Msvs+MyeK+mYzFMH8auigeIFLD30euaO9kb8LBLQKs8e26o4DbP2zD5Qi1qMY5UzPbt\n",
       "7TzLCeFudphHaTBJluzD8Gj1Vm/ijt9ROVif1rEYpg9jV8WTZ6xjJ+zGq4m897a1i/ORo5IOMajt\n",
       "8LkK+rQUJrjEHFelOJ4e1GOks4hvMMJ0TkuuD614lAZ7CKQEj6Mw0iSNZUjH2Dv7oH86kXYVfCyi\n",
       "3j58S7U9drkd0awJ7IRdw1E3NetMJW+kD8GiALv3eje1I5kwwZ38l4Ls2mnFkYKJ1hh/adgp8Fun\n",
       "jaqmB4EDwGXbRfusoUGXXYCTKOyR1xm7nwH0NsAab0h2WebJ9SaYDa8+yO4GcPGu7zp2lgnMU27p\n",
       "J1PFmGdCLcBud8RRcNERJ0Rw27Mng+yaecWRihmiH4yEkgEx9xZ6TZPMcYbCmQ/tt8bTeREZIHoF\n",
       "PpEMupGBvKIkXcWMmTiNWfiQqO/Nx6569Z42Rg/zQLEjI0MDO2X3ABlHZP7WM6m5JfyAMzY+49QS\n",
       "/Uv6B1R2E7PIMkmdXbcA10K38jI9gtucl4Ls0scbX3C2mMr6MAcogOybDe7kV59pkpMjwDWHaK01\n",
       "JTmPO2CPdtWBvZeUJGkH5ZxmThOC3Shd28NVVx+pMnZdvbc9J3MQgeckQqSMnbK7hox/1wvZnnQq\n",
       "jSvHKB26Ozh3YyQUw7mu8nJ8DlOJEx7B5VwEO5XdYaIvTuvO7PFjZtIqxiDECujELvtMGzkEyPnB\n",
       "0XprzKBMj4yru+tRjDDLxeX99MnpsK4IdmFWBnadAkUPiYaqty+Tw76COBjLwX6kpOAFiSwJpJ2y\n",
       "20UQb/8OvSWieArZNVPlALtwG+nZuMPsRUupOsR4JseEZWfz/sAAF4PskhcegR0WOuKY1VW8UCY7\n",
       "J50o1Ek06zNNL5TV3JGjA9bUqcUiZgPspc7M+1HaOcon4RYShCeHwPjock2wGzv44xv0qtTDlqqq\n",
       "hx/o4suJA7zz+qvs20TgBYmQzGOXFcg7YYRGqIcqlUrGKNm1QpBd1noxoTIP7/8TNp4GV6jbEz52\n",
       "Fx+eXg2wexc9kGnBHCHGuofCNpHBkEBqpNFJ5LVK5X3VtFVGgGwS7bUmr28SP055RjX4IX4JJ0ve\n",
       "OKktDLf8EPA2TiKsBeyS3eNwHtZbsBnnLixz/PkubyNYF3aAhqTTIrUkQtGq+wMDrC9FHusbmFNS\n",
       "2KXPbNVj6AgxkKziQu4mgZSSSJ1YNZ9pEhkYwB0TR/usSY8z1ZqKJpfLtWb3TXhrSuxyElndaL7C\n",
       "bmyCED/XxF2DJJGptLZ6HqsfhJxdY2H8EmPXFeJ52EtFfqCrtTdjnIdjvL4qd7U1iQJ3hBhkd5z4\n",
       "vYPlOcwJxgDXNNuPKEB4EGi/NelxXC4afd10rCW7sW3vLprS30A4ibTkyMqOgt1oGlbAqgvEIA1J\n",
       "K5S80jt3lw6OV62v4Yk07L6cp+y6AsmgRjLWtzBSpIeMeRTsJ1+BbXbBzCjskkc1f/uKO+IYxu4Y\n",
       "T6LG0AmspvPPNY0cEYDwINABa8KjZM/W11fd1Dd28C9tRtkzOTkxFXYFiXSobLiBv/zsrVTy2jqD\n",
       "WnUSP04rQqJKRuh+VIhfDaOWjCjsysipOKLsSgpEVmB/WRlVTe/RPtBg0Br3qHC6Tj/TnBtV2TjH\n",
       "+/X9Xe158TV1IuMKKycbEJVhUfyy06l81zn1S3hBwLh1kaSmpli+ZnAdU9Oa+/Ro4dG8Cf6Ocl3s\n",
       "ZsOEiOaXv86Q0Bfa3PLDoXYKCi3QwXrGTc3uP/D/DDFd4UxT3NLX20KqcKF6+PerpanmN38DchQn\n",
       "L2pnmzMAAAAASUVORK5CYII=\n",
       "\" style=\"display:inline;vertical-align:middle;\" /></a><br>"
      ],
      "text/plain": [
       "<IPython.core.display.HTML object>"
      ]
     },
     "metadata": {},
     "output_type": "display_data"
    }
   ],
   "source": [
    "membership_folding = Forall(m, Forall((x, A_1_to_m), InSet(x, Union(A_1_to_m)), \n",
    "                                     conditions=[x_in_any_A]),\n",
    "                           domain=NaturalPos)"
   ]
  },
  {
   "cell_type": "code",
   "execution_count": 4,
   "metadata": {},
   "outputs": [
    {
     "data": {
      "text/html": [
       "<strong id=\"nonmembership_equiv\"><a class=\"ProveItLink\" href=\"proofs/nonmembership_equiv/thm_proof.ipynb\">nonmembership_equiv</a> (conjecture without proof):<br></strong> <a class=\"ProveItLink\" href=\"../__pv_it/theorems/71ccf6e5021740aa037724c96af0bb0f1083a2380/theorem_expr.ipynb\"><img src=\"data:image/png;base64,iVBORw0KGgoAAAANSUhEUgAAA1MAAAAXCAMAAADZR+VJAAAASFBMVEX///8AAAAAAAAAAAAAAAAA\n",
       "AAAAAAAAAAAAAAAAAAAAAAAAAAAAAAAAAAAAAAAAAAAAAAAAAAAAAAAAAAAAAAAAAAAAAAAAAACC\n",
       "gUnDAAAAF3RSTlMAq1RmmUTNIjK7EInv3Xbp8+P355HBneB6d/sAAAAJcEhZcwAADsQAAA7EAZUr\n",
       "DhsAAAgBSURBVHja7VyJkp0qEFVAURCSl7f4/3/6QFxYulnUm5pUDZUEJrS9HDksrU7XvVK0UlP3\n",
       "hQpPGnmxGuEvWHir4/wOLDdFfpeVmyPjoUEO1y8SQQ5faqxpEjfgMgrwqg2jsfFejZ9lD6h+0GFd\n",
       "i0sTLKADNRbbrcRR1sZ1Y2Tc9gmB/nTVUKE/pQh9xql3NL1RiIwbcJl68CqH7tpms1W+e0W9pmFd\n",
       "h0sTLIgDZYs3rCRRavqhkfHAJwT6ozZUYOcKM/JnnHpH0wtFjHEDKWyArnLgrwCU8yXM4pvVKA8W\n",
       "XB5U70+s0NKC4dIEC+pAbFES5C7UWwGijKxI0jguyQd8QqDfa0OFk5p8frj3e0fTC4XRuIEUBV7l\n",
       "fupXnpHn8YTWKl/wJ5YH1dtCWVjX4NIEC+pAZFGoEbkL9VaAKEMriZHSLBLJv+MTAv1eWyocNGud\n",
       "AtLz1CuaXihL0gBW7lmpHz9H6KotBC7XqWHMt8o3cgpW79wWYV2By9JlcfnxMx25kAOhRU37Ab4L\n",
       "NeDjUQZWEiOl01Mk3x55BvkEeldbKtCdu4/O2BunXtH0wp55jBvpAXPUJv5+gq7ahrTu9Erqx3yr\n",
       "fCOnEPUObBrWZVxwWBwufTqGQAdCi6qb5g7DswR+JsrASmykDGgg3x55DvkEeldvVFiULYt8zKlX\n",
       "NL2w9ZNRQ2jdi0leyyffVtRwc818r5ndR9N6jrTKN3IKUe+Q78O6jAsKi8MFOnOADgQW7eE/OEY3\n",
       "gZ+J0reSGKnISPjy7ZHnkE+gd/VGBbaxcxbPOfWGphdSZDRqGGB0rzumwhwK1dh8OBiwp1VWj/lW\n",
       "+UZOYerdLn4Maxuv8kqPTqsJLA4XmuavYQeoPwTtpYQBeFaBn4nSt5IYKY2ESL458izyCfSu3qiw\n",
       "3b+6m35SCOZUSZO40dMurEjYoAYvupqV/WTNCKSUFAlmp46vfcs60iTfyClMvZuLl7Au44LC4nAB\n",
       "MoiwA75Fl59SIrFWB34mSs9KaiRfEvnmyLPIJ9C72lHBLiyFh7Zcse3stfSnLYBTBU1imZp7bggv\n",
       "Q9iw0syfU6dtj/rXL6Vm4Cp7WmWM9avrFN5EiYx5X15I2ffiVU4F7qQDZw3rMi4YLA4XC4uao9M7\n",
       "iIdv0Z1EtE6s1YGfAdGzkhrJl0S+NfI88gn0rnbjn2g8rzDpfp6NFOk7aaJkIsupnCYjhJ728J4b\n",
       "wjGntqZ/I8QMZCcvYeFkV+Xi1woY8/7DwUCebXuvrHwNpzz5QD1wuF7CuppTCSwOlzRpi+HhWdxP\n",
       "IkKBc1QZ/AyIlxXASH7uTeQbIy8gn0A/eOuUoQFFyM/YviYQI8HOTR/GqYwmY3JadGvPHeF472ev\n",
       "sc8YhAjGrkKuOoJTx4p+Cc7nedePMpBfB7tbmHLyeAHlI3eSDYhK3ETOU9HeL4Vlg0SBOz8ID8/i\n",
       "MRwZAfCsAD8D4mUFMJKfexP5xsgLyCfQu3qngiT7VpIyaiaivtN0duvmueMkExm4tpySZj1U5u8A\n",
       "cerUZJZcxs0ffyXtRmS2xnvuCM86aAizzPZLcAi024GBIVcNx1F+TYbOMAe5K0ieCo9ToHxuugDk\n",
       "I/XRDTL/M4d1GRcUFovLkEyXKB6eRXX6HVmrBD8D4mUFMFK16l/ybZGXkE+gd/VOBb4fkwQdFqPI\n",
       "/qT7c53eOWX2fmQorVOHpk7zrp+7kfhciDaxFT23hM/sq2uQdRJscTmc80hKkmcRx1X8mJXm/fm5\n",
       "x6mObAEJ6r17nMgbVQqXF+uINUD5UH18g4AMeRkXHBaDS/KIBsfjsnitqud4awM/A+JpBTCSBROQ\n",
       "b4q8iHwCvasPKuz6uNDWJTtDbP0D9TllmKTnAqdOtOg2K0z+ls14s7nJo2T72TMQzUqPyS81eLpH\n",
       "BQ3BzCREGPURFP38t4CuEvO6bmsEsQ0Zc6rjclTj9szy2Ign8kaTQOXN7MnQRiofq49vkL16COsy\n",
       "LjgsBpdfgwgPGjgel8UzKWOOW107+FkQTyuQkRyYgHxD5BXIJ9C7OsnR9domQY6tJx3nrRDHKSGP\n",
       "BATOKa+E70kxKWW/Gi8nEmVDz57FzjOFgXEK5xb9KW6k5Z9/Z3PYGKGrkF1zbeEffT4X3iCbkO2C\n",
       "ugaXDCz0PxnjguFRstgEPgoiV2+i9yTyGPkE+r1OqGDT1HYx4qtdYyYZrFN2IdkpVMEpa5/7W7Zz\n",
       "jxxy6urhu9P5nd8uTBmhlA1EpjCd711mXixNDziYcCOnuFHDP/defniD6t+L9SNsggXFo2TxiZUL\n",
       "RPbqxx5PfIqRT6Df65gKfN0JaY5b1vw15dJNUmPZgUTR0slxW8+E9M57Lgu+cwro6Wza3nVA//jC\n",
       "xMa3DOAXMWf+bOboPJjLuj3gFJ+naWIfW6niG3TEUfcpwBFhEywIHmXR+1YuEN/+xOGBTxHyCfRH\n",
       "HVNhsJyx72nwXruQpmMn6l4pqeVUx/QgtdUxLYYAbEtdCLaOw8UpoMdl7reOaeHhP7Gwcc0+gYAy\n",
       "q2duRcyFPCt4VRceoFbZ8LXpstrysWUqvkFFloARNsGC4FG2eN/KBeL88op/36cY+QT6oy5+8i6k\n",
       "PU+V36+Xmc/wE2/PvV/cI4Xb3HWkQo1y70iqDtgdcB034s0xOF5094cVzcO6yAh9A5as5Rprn7XS\n",
       "uNA/9gmBfq+1Wn7Dr5EY4gSbXvZJIe4ZzeSkoA7o/4TNatov9vUf95tZvst3eXgubO+hTWq+y3f5\n",
       "UuV/DxFfB6p4y1cAAAAASUVORK5CYII=\n",
       "\" style=\"display:inline;vertical-align:middle;\" /></a><br>"
      ],
      "text/plain": [
       "<IPython.core.display.HTML object>"
      ]
     },
     "metadata": {},
     "output_type": "display_data"
    }
   ],
   "source": [
    "nonmembership_equiv = Forall(m, Forall((x, A_1_to_m), \n",
    "                                      Equals(NotInSet(x, Union(A_1_to_m)),\n",
    "                                             x_notin_all_A)),\n",
    "                            domain=NaturalPos)"
   ]
  },
  {
   "cell_type": "code",
   "execution_count": 5,
   "metadata": {},
   "outputs": [
    {
     "data": {
      "text/html": [
       "<strong id=\"nonmembership_folding\"><a class=\"ProveItLink\" href=\"proofs/nonmembership_folding/thm_proof.ipynb\">nonmembership_folding</a> (conjecture without proof):<br></strong> <a class=\"ProveItLink\" href=\"../__pv_it/theorems/c3a35bf674f8e5fc13bb37ed1e2c5ae15988002a0/theorem_expr.ipynb\"><img src=\"data:image/png;base64,iVBORw0KGgoAAAANSUhEUgAAAroAAAAZCAMAAADpNH1CAAAAS1BMVEX///8AAAAAAAAAAAAAAAAA\n",
       "AAAAAAAAAAAAAAAAAAAAAAAAAAAAAAAAAAAAAAAAAAAAAAAAAAAAAAAAAAAAAAAAAAAAAAAAAAAA\n",
       "AADXrLZzAAAAGHRSTlMAq1RmmUTNIjK7EInv3XbP4duh6fPj951y2Qx9AAAACXBIWXMAAA7EAAAO\n",
       "xAGVKw4bAAAG/klEQVR42u1cidqdKAxllUWhna3j+z/pAAKyK623s8nX/txe4jGRQ0gifwF4rkGl\n",
       "FANve9unmzZMQ08CLu8z/dsamxll/1rzTs0xfqn733BDYx+0yK4wm5w19uFZbuNTnfeOujAOI/wA\n",
       "dR+Ee9vthtbhMId94WWfnOT9s6Z08DXOe0tdQuNF7AHqPgj3trtNXnjCc1IqYbS3qCJOaVIskkn5\n",
       "ZhuIt/GTjSP0hrpxRTLxRMDwINzb7jZyscGpvjCBOxtdwGBxq0n5C30q8Ta+pSopenzSeEVPUPdB\n",
       "uLfdbdsoChbqt9/V0hFe2brzCW7Nys9St4Pv9JZZb6kbUrUfD7+XNPN7c7afF+n2nzVdtASQ94SZ\n",
       "BnpH97k1Kz9L3R6+IxTOesezTdm2rQ9VGB6De9vdeME/a6k1lHxN9jtm98A8uCXpxBAbXOL73JqV\n",
       "n6VuD985ZJj1jrrELUohH6LuY3Bvu/vccZx4DTUgJzNcqox1S9j5ZENyvq+3uTUrP0vdLr7j6pL1\n",
       "jrru8lu3PFfAgLpXcPI7RuaE86wVNcJ+zDs4urUfjwFyBD2517P70N0b+BdL2GDh3cQHuJ19ZMLx\n",
       "QbEd3ubWrPwsdbv47lFtWX8EptZDrnR4M6aIlcAbbJAjp+4FnNz49MikcFbbwHRcnSlwassuAEoE\n",
       "MsPcFra4MLK+wXagWFmSBQfcBm9/fDM/RCl8ZHCEmIz+GJN4ueJWKi/XFUL5LHUzfarG96w/qIt0\n",
       "P6viGgphrEUQrEZTIq+pO4IzpO6F4YORSeHUdgkbFn35Sns4NGwowVddAZQIEaDwdtmD6mGPocsb\n",
       "NNi4ZU5ZirrUcwrLQ3ZXx521anEreZuRyVsGnJFJU/4OdVPxDL9h95b1vhywFPFQssSJX/fISJAY\n",
       "KQypO4AzN+abnh2ZFU6pS2jDotNd1DieVhiutwBqhFgzh71MtYt9Bd1ZEmcMQG1RVMqMI6on7CdR\n",
       "hY04ERQxjklmMpPfqd3b+Ui+39rihT5VwKCy3lN3RWHCCDbLDwKNhdMqvnYDiCPKtKXuary6Mn9p\n",
       "l7oRDmhNmPmThWpLZ132R2aFRb3AoyLWosTZ1TjeSYmQaF4A1AjBy4luqlpg34fOb3Di6cPFUgC3\n",
       "PBHRGlDSErY0D8WmvaYuFWmJoiWPZUrdlvzI8bTEC/yCieYbkfWeusyHsBLTzXxj/6Vh2HACdU3A\n",
       "gOgtrxvggGYACrCgLMkgS4eMvZFp4YS6/jBHVMRZpOkAB5Fjk/Eb8wVAA+EAOBFq95FjT0BnNyjL\n",
       "RmjnkmxHmn5OCYK8XWNiwbkJ//oqpS5AbtIkVvHqSt5Aqb683JfiQ/KpAV/gl0xMqnq+D+8PvH1M\n",
       "aotuF5MToDilriGsFneoG2vg2C1ynu7zRhWnIytcUhyhSBN6GS4EmCvq+vUdFXEWiZE6xxUi1PfG\n",
       "AC21/RWiWyEssC+huz4rBoyOQpIYH4sIznyyhN+obAmLfXceD9kPa0VdwNZFLfZ9RoiaK3mDJLvy\n",
       "Zkch5YfkUyVe4pdMtFfTrK8OPUJt89IQEuFFuIYO6so1sPOCuknL30iT1SSmu1GRIyVBc2Szy/Oy\n",
       "Bu+FL6mLYK6ItejLL86ijjpcAH/qzbnGMUBLbQeQIDScbok9hq7SxCoFV/1qC/5zFUqlL4J7wkjN\n",
       "1fXYZ0v3ORNtjQtkfUVdW42xrpXt1g/wNfO61rVc13Xzx7ylx4Pd1T5CUnU51I0wr/E4XPDCmCCM\n",
       "CUUr71A3TrNXxFoUE6GmOm47FrHKNwRoqn3s5ydCe2Gl2BfQpZFVwBCPpNzJ6brCk9RlBoZ98HBg\n",
       "zsTz1FDoS+qy3fPdxMIke/RHBVIPE6mSuiZ8WRfnouWaBOJHxcdzpTECbDHuGGj9SIWRNW6jxRHU\n",
       "Kk07FTEWxUSopY7LbMJRY3eueQDQUvsASBEK9Uvsa+jSSK0HKXvlGsFd4TnqMsE5J5/zuyUTgyHR\n",
       "oJK61D46+/aQQReHsJDecXUcv52iLiCartoC8c1MAXHZmyT7Qk+uNEaOepwb4BvLf5TCRj/7ip6g\n",
       "HnWPeYqKGIt+9SY11TkuIEm5pg/QVNtfkCAUNlTY19CFkQ3qyd4J09b5vaawCT73deJV4Lbb9jmn\n",
       "WzIxGB2Nv/wFH7naWJfeu92oQFA9wnOHLp+29C870Q0YdRz6VwB3qFuFm/Jr06KgTjWvdwGC2nLi\n",
       "nHKJ3dMtM7LNvA7rmq6GafBva5rl/U/83bQizQVcb94hlCOLWcyqNdD6zm6wtpwENetQFxDWyJKq\n",
       "kDyqQyqXdgvgVJvMxH+FcBu6MJK8v33yU6mL50fwFEwvYHDuMPNDw/isdajghwEGLceGN2LHyRu8\n",
       "1L1H3X/I/8NQ6CAH/6o83PWX3wFwV17OXvB/bVqpDf8FYr1JFxnhR7MAAAAASUVORK5CYII=\n",
       "\" style=\"display:inline;vertical-align:middle;\" /></a><br>"
      ],
      "text/plain": [
       "<IPython.core.display.HTML object>"
      ]
     },
     "metadata": {},
     "output_type": "display_data"
    }
   ],
   "source": [
    "nonmembership_folding = Forall(m, Forall((x, A_1_to_m), \n",
    "                                        NotInSet(x, Union(A_1_to_m)),\n",
    "                                        conditions=[x_notin_all_A]),\n",
    "                              domain=NaturalPos)"
   ]
  },
  {
   "cell_type": "code",
   "execution_count": 6,
   "metadata": {},
   "outputs": [
    {
     "data": {
      "text/html": [
       "<strong id=\"union_inclusion\"><a class=\"ProveItLink\" href=\"proofs/union_inclusion/thm_proof.ipynb\">union_inclusion</a> (conjecture without proof):<br></strong> <a class=\"ProveItLink\" href=\"../__pv_it/theorems/1ff62ab590822c0fe9184579db1c34236a605fe10/theorem_expr.ipynb\"><img src=\"data:image/png;base64,iVBORw0KGgoAAAANSUhEUgAAAsgAAAAZBAMAAADeeMXmAAAAMFBMVEX///8AAAAAAAAAAAAAAAAA\n",
       "AAAAAAAAAAAAAAAAAAAAAAAAAAAAAAAAAAAAAAAAAAAv3aB7AAAAD3RSTlMAq1RmmUTNIjK7EInv\n",
       "3XZ/CtNrAAAACXBIWXMAAA7EAAAOxAGVKw4bAAAHgklEQVRo3u1aXWwUVRQ+nZ3t7EzbZWJiiJrA\n",
       "YlFjCLCmhQQfyBZaIVbCWB5Ea6A+EBJMZHkhqfx0IcRArLCJGlgS7SKGpMHA0gfBNkLRGEmI2hij\n",
       "hLjJ4h9iEArEgiJZ7+/MmdmZ7paIrj8nud2Zc797du4355577tkCVCA1+a/gf7lNieY/rwhX+y+Y\n",
       "qybaHZHkuB1N/xmSvxGNUN0V8Bq6JmZxvXO5IgizgpNs0o/GsiRXAqtmUXK80dmMBsxydGIm16KQ\n",
       "EPf5xtahkMU6mqCNKlaXJbkSWDXLAdGIzLbJ1OkfIwHj6x1x6ZUi6lkjPi/k8/kz/PJNMPp4RxNs\n",
       "oQslXZbkSmDVLAtFI9JyXSobWJQwYXy9Iy69OhVF4mb+8dJ5W6OSdzGXdzRBbRagLlaW5Epg1SzD\n",
       "opFZbLjhS1qQPojkoydSTk99ljk5SsImpVhEph1NEIqX39hIfyWwag7JXbwR2Ry96ktakD6AZK1w\n",
       "GflcLQvKNZajWUk023kHyS4+yedPV5BdVACrYlFzvBFJKNd8yQzSB5Cswmy029WZ3izs8M2U7CAk\n",
       "LwbYWwHJFcCqWKhDcW8LxyI3/UgL0geR3AG7ck5PiK2SLQgbKhYniw5C8jo/c+wluEi2YVkEMfyn\n",
       "lPV1JrFwk/7jos7STvrbiAYQ+FDwkxRsemK80cfQrvh7pr8+iOQE9CCAwuL9Ogw+1Pe76CAk69k6\n",
       "y21rU7sVOmmzIkiWMOMUQr6T8puaCwLh49/+aOc/AHNc497LZHYLiJ0xzXHZqMtkMoT1zkvzUwlf\n",
       "IkOW50nQCHsK9RZvJMlqbfmVmJ/rJY3rDx65tzKSo6+1TkXJVmTU7ndkqcU7CMlKAYeSyLmMpZiD\n",
       "8LiXZAmru4rQJ3zzDRcEZokn4CQbJh7XbzmQTuA5DEdIG8br3FMKsIsh7IzUTk/3eZ4EjwjnvCQb\n",
       "xLlvAez82SYlwr5P6BOwxK0vJZnrD5H8YQR5EvNk1YnSIRqWY7yDHqu75iM7rcQjlPkq5LwkS9jy\n",
       "T5Hp3oIfyRjCEifTIVm18LjdCEIJfiQnELYNnSej9WTrZojQfdiJ6U2b50nwCPuV2OGCTupr0mba\n",
       "0FABHP0v0JNy6d2HEUdPVlXDMAoXnPBVtoK++p4s76AkD5AnCS3ceS46L8XPh8rWpwq5utYlrW2Y\n",
       "5AH+wIXnUJSs9Y3mGAJwTZRJdMcZ5DgthyA0C0/vlWtO2tggss44aAyh6yhYs5sRz5PgETAgkQXe\n",
       "YJk4DzOSw3TBr2cGhf5RRjLSu8TRh+PsGC5pgxAPHfvuloOo/XbgHZTkjeT59j8brzejJvSz15Ia\n",
       "fKDUkzfyWASPITZVv5qKCwJw+de4cyblVRU5TokhiJIAJd4pELaN+4XN4qsMAY1htKfTG17WQU+C\n",
       "R8B0lGLRplHv60sKkuHBGOxnp2BbD++79IeJWWNMXCD9Rjqh6zZtMj2EzjfEsXpJjqd1tIOSXEPe\n",
       "xIs/kCMKUSzjJKvRdAnJNWxrWQ4XAbr5+wqnosPQ8Z3ljRYUgrbB6VcQyU/Lcdpe7g82hLiJTrZX\n",
       "hmA2wrPauIdReWupyRwpjRNJesO8i1kUgkdwYzSQjrBm9I1l4eHi85Jk7d0vX6BzcfSRs1gPDXSz\n",
       "/UJe2Pr+4hpQ+sZykjZo8JKQeLLlLmbAQqXOKdBLg9ZcsjPHlJSR6yohmUv70NRsZCYnWR068hsM\n",
       "G97iFYW4sryViORpctzWs3KPE5BIGhrpTjVN2qiHw3JbIwldeJQilDjf/vhCoDeKKS2iaChHwA6p\n",
       "PSMaoOXsJ93ZCeXfgjbYFATYhOvJp+AC9ETgZe7J0FHw5sl2rkqCVkNWZKHaDUhGhkvS2Z5UaEFT\n",
       "24wUT9qhG5G8Q44D6jID4EBIMEjTA88OaUMjExD1knCMVqcIQqe5JCqK6dlIWlpsbmzuOOYeYYcL\n",
       "VqhpLk+yltCSEyFZ0CZrT/6FKUmyNkpeyjyVz4BknlHTv2hP1uKkGCXZyLHFThIt3YKD9Fb84RDl\n",
       "Anyk5KimBWAyuDY+MY6SrB5j5S8GiRaIZ8IKtvHxrwGajLXTV6WaUJMkCFrRDhfkl7EbuvFxi7PS\n",
       "9dYM9wi4hBMDPVmW5O7t2ybiypI2UZ9U83mn1MkBaURy2ITVsO4n0PaQm1dWi6yrhGT1JBhLV1GS\n",
       "Ix/AEya8PWbR83ZvLPIx9Cbpn5iA7DG61BhFLW4dSiKSyUTFOBb8OulhhEP0pMpSKYIQNlTKVpic\n",
       "V5LqtvajbCyNjAn5ZeyGpoHcop46AAvcI2SOSEJSmjeZgqw97svaZ8XiRBxZ0qYHuT/rKPn56WAm\n",
       "Y/nWLlxJOU0A5b6dJZHFOZPIqxEl1xByUDbJTnJw1mO0Xz64jRiM+iPc0ukcFWbAiPsnCkTrZtHu\n",
       "iJwft+O2fuOLXCSx9Bn5I0xxBML2EpNXhhm1as47KOdYvUjc7jztOS0u8l7UFm8FINw1kaS9430P\n",
       "U5L+fX+r3P4PqdhlQj5XJShdej7qvifDahdOCaIEUZPhlQgXwi2D7ls0gpdB/ikk/xn/d6GNV6Jz\n",
       "ldHKIyrSB1v6SyWa//AP2iMmvkl4ur4AAAAASUVORK5CYII=\n",
       "\" style=\"display:inline;vertical-align:middle;\" /></a><br>"
      ],
      "text/plain": [
       "<IPython.core.display.HTML object>"
      ]
     },
     "metadata": {},
     "output_type": "display_data"
    }
   ],
   "source": [
    "union_inclusion = Forall(m, Forall((A_1_to_m, S), \n",
    "                                   SubsetEq(Union(A_1_to_m), S),\n",
    "                                   conditions=[each_A_in_S]),\n",
    "                         domain=NaturalPos)"
   ]
  },
  {
   "cell_type": "code",
   "execution_count": 7,
   "metadata": {},
   "outputs": [
    {
     "name": "stdout",
     "output_type": "stream",
     "text": [
      "These theorems may now be imported from the theory package: proveit.logic.sets.unification\n"
     ]
    }
   ],
   "source": [
    "%end theorems"
   ]
  },
  {
   "cell_type": "code",
   "execution_count": null,
   "metadata": {},
   "outputs": [],
   "source": []
  }
 ],
 "metadata": {
  "kernelspec": {
   "display_name": "Python 3",
   "language": "python",
   "name": "python3"
  }
 },
 "nbformat": 4,
 "nbformat_minor": 0
}