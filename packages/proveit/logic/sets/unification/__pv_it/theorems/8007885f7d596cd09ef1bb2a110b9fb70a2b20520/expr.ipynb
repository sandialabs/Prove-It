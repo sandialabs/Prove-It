{
 "cells": [
  {
   "cell_type": "markdown",
   "metadata": {},
   "source": [
    "Expression of type <a class=\"ProveItLink\" href=\"../../../../../../../../doc/html/api/proveit.Lambda.html\">Lambda</a>\n",
    "=======================\n",
    "# from the theory of <a class=\"ProveItLink\" href=\"../../../_theory_nbs_/theory.ipynb\">proveit.logic.sets.unification</a>"
   ]
  },
  {
   "cell_type": "code",
   "execution_count": 1,
   "metadata": {},
   "outputs": [],
   "source": [
    "import proveit\n",
    "# Automation is not needed when building an expression:\n",
    "proveit.defaults.automation = False # This will speed things up.\n",
    "proveit.defaults.inline_pngs = False # Makes files smaller.\n",
    "%load_expr # Load the stored expression as 'stored_expr'\n",
    "# import Expression classes needed to build the expression\n",
    "from proveit import Lambda, x\n",
    "from proveit.core_expr_types import A_1_to_m\n",
    "from proveit.logic import Equals, NotInSet, Union\n",
    "from proveit.logic.sets import x_notin_all_A"
   ]
  },
  {
   "cell_type": "code",
   "execution_count": 2,
   "metadata": {},
   "outputs": [
    {
     "data": {
      "text/html": [
       "<strong id=\"expr\">expr:</strong> <a class=\"ProveItLink\" href=\"expr.ipynb\"><img src=\"expr.png\" style=\"display:inline;vertical-align:middle;\" /></a><br>"
      ],
      "text/plain": [
       "<IPython.core.display.HTML object>"
      ]
     },
     "metadata": {},
     "output_type": "display_data"
    }
   ],
   "source": [
    "# build up the expression from sub-expressions\n",
    "expr = Lambda([x, A_1_to_m], Equals(NotInSet(x, Union(A_1_to_m)), x_notin_all_A))"
   ]
  },
  {
   "cell_type": "code",
   "execution_count": 3,
   "metadata": {},
   "outputs": [
    {
     "name": "stdout",
     "output_type": "stream",
     "text": [
      "Passed sanity check: expr matches stored_expr\n"
     ]
    }
   ],
   "source": [
    "# check that the built expression is the same as the stored expression\n",
    "assert expr == stored_expr\n",
    "assert expr._style_id == stored_expr._style_id\n",
    "print(\"Passed sanity check: expr matches stored_expr\")"
   ]
  },
  {
   "cell_type": "code",
   "execution_count": 4,
   "metadata": {},
   "outputs": [
    {
     "name": "stdout",
     "output_type": "stream",
     "text": [
      "\\left(x, A_{1}, A_{2}, \\ldots, A_{m}\\right) \\mapsto \\left(\\left(x \\notin \\left(A_{1} \\cup  A_{2} \\cup  \\ldots \\cup  A_{m}\\right)\\right) = \\left(\\left(x \\notin A_{1}\\right) \\land  \\left(x \\notin A_{2}\\right) \\land  \\ldots \\land  \\left(x \\notin A_{m}\\right)\\right)\\right)\n"
     ]
    }
   ],
   "source": [
    "# Show the LaTeX representation of the expression for convenience if you need it.\n",
    "print(stored_expr.latex())"
   ]
  },
  {
   "cell_type": "code",
   "execution_count": 5,
   "metadata": {},
   "outputs": [
    {
     "data": {
      "text/html": [
       "no style options"
      ],
      "text/plain": [
       "no style options"
      ]
     },
     "metadata": {},
     "output_type": "display_data"
    }
   ],
   "source": [
    "stored_expr.style_options()"
   ]
  },
  {
   "cell_type": "code",
   "execution_count": 6,
   "metadata": {},
   "outputs": [
    {
     "data": {
      "text/html": [
       "<table><tr><th>&nbsp;</th><th>core type</th><th>sub-expressions</th><th>expression</th></tr>\n",
       "<tr><td>0</td><td>Lambda</td><td>parameters:&nbsp;1<br>body:&nbsp;2<br></td><td><a class=\"ProveItLink\" href=\"expr.ipynb\"><img src=\"expr.png\" style=\"display:inline;vertical-align:middle;\" /></a></td></tr>\n",
       "<tr><td>1</td><td>ExprTuple</td><td>22, 15</td><td><a class=\"ProveItLink\" href=\"../cc301d694dc97c5f0ccbff9f137e6916c1e9b37c0/expr.ipynb\"><img src=\"../cc301d694dc97c5f0ccbff9f137e6916c1e9b37c0/expr.png\" style=\"display:inline;vertical-align:middle;\" /></a></td></tr>\n",
       "<tr><td>2</td><td>Operation</td><td>operator:&nbsp;3<br>operands:&nbsp;4<br></td><td><a class=\"ProveItLink\" href=\"../bdaf2edfbc73ace5debe77f890c8009288bcd79e0/expr.ipynb\"><img src=\"../bdaf2edfbc73ace5debe77f890c8009288bcd79e0/expr.png\" style=\"display:inline;vertical-align:middle;\" /></a></td></tr>\n",
       "<tr><td>3</td><td>Literal</td><td></td><td><a class=\"ProveItLink\" href=\"../../../../../equality/__pv_it/common/fb96dc12b2aa8801dda64d0132b396c63d1502bb0/expr.ipynb\"><img src=\"../../../../../equality/__pv_it/common/fb96dc12b2aa8801dda64d0132b396c63d1502bb0/expr.png\" style=\"display:inline;vertical-align:middle;\" /></a></td></tr>\n",
       "<tr><td>4</td><td>ExprTuple</td><td>5, 6</td><td><a class=\"ProveItLink\" href=\"../ea85a36bd5e2e43f04ff0d90c6a7950cbb0bf8d30/expr.ipynb\"><img src=\"../ea85a36bd5e2e43f04ff0d90c6a7950cbb0bf8d30/expr.png\" style=\"display:inline;vertical-align:middle;\" /></a></td></tr>\n",
       "<tr><td>5</td><td>Operation</td><td>operator:&nbsp;20<br>operands:&nbsp;7<br></td><td><a class=\"ProveItLink\" href=\"../a7f3bf851c04d9f69db84d8dde5a36a97ded804c0/expr.ipynb\"><img src=\"../a7f3bf851c04d9f69db84d8dde5a36a97ded804c0/expr.png\" style=\"display:inline;vertical-align:middle;\" /></a></td></tr>\n",
       "<tr><td>6</td><td>Operation</td><td>operator:&nbsp;8<br>operands:&nbsp;9<br></td><td><a class=\"ProveItLink\" href=\"../../../../__pv_it/common/ad376b8ac1c3c58936134a9b5cffa1c959ece9fa0/expr.ipynb\"><img src=\"../../../../__pv_it/common/ad376b8ac1c3c58936134a9b5cffa1c959ece9fa0/expr.png\" style=\"display:inline;vertical-align:middle;\" /></a></td></tr>\n",
       "<tr><td>7</td><td>ExprTuple</td><td>22, 10</td><td><a class=\"ProveItLink\" href=\"../065510d2905043d29b2fb7965e1bc2b7c9c893610/expr.ipynb\"><img src=\"../065510d2905043d29b2fb7965e1bc2b7c9c893610/expr.png\" style=\"display:inline;vertical-align:middle;\" /></a></td></tr>\n",
       "<tr><td>8</td><td>Literal</td><td></td><td><a class=\"ProveItLink\" href=\"../../../../../booleans/conjunction/__pv_it/common/42118ff318bd65d98b1393f64ce7c2269feef76e0/expr.ipynb\"><img src=\"../../../../../booleans/conjunction/__pv_it/common/42118ff318bd65d98b1393f64ce7c2269feef76e0/expr.png\" style=\"display:inline;vertical-align:middle;\" /></a></td></tr>\n",
       "<tr><td>9</td><td>ExprTuple</td><td>11</td><td><a class=\"ProveItLink\" href=\"../../../../__pv_it/common/60f4470107998a9b0fa8049b56bcefeb8ae1587f0/expr.ipynb\"><img src=\"../../../../__pv_it/common/60f4470107998a9b0fa8049b56bcefeb8ae1587f0/expr.png\" style=\"display:inline;vertical-align:middle;\" /></a></td></tr>\n",
       "<tr><td>10</td><td>Operation</td><td>operator:&nbsp;12<br>operands:&nbsp;13<br></td><td><a class=\"ProveItLink\" href=\"../046783bfe5fe0fa9b9ecc50a326c6ceb66bcfbe90/expr.ipynb\"><img src=\"../046783bfe5fe0fa9b9ecc50a326c6ceb66bcfbe90/expr.png\" style=\"display:inline;vertical-align:middle;\" /></a></td></tr>\n",
       "<tr><td>11</td><td>ExprRange</td><td>lambda_map:&nbsp;14<br>start_index:&nbsp;18<br>end_index:&nbsp;19<br></td><td><a class=\"ProveItLink\" href=\"../../../../__pv_it/common/693eb7d99feeb71204a798c36847aefa298ea9980/expr.ipynb\"><img src=\"../../../../__pv_it/common/693eb7d99feeb71204a798c36847aefa298ea9980/expr.png\" style=\"display:inline;vertical-align:middle;\" /></a></td></tr>\n",
       "<tr><td>12</td><td>Literal</td><td></td><td><a class=\"ProveItLink\" href=\"../../common/107121809b4c0da74aebbd3977266676ee980ebe0/expr.ipynb\"><img src=\"../../common/107121809b4c0da74aebbd3977266676ee980ebe0/expr.png\" style=\"display:inline;vertical-align:middle;\" /></a></td></tr>\n",
       "<tr><td>13</td><td>ExprTuple</td><td>15</td><td><a class=\"ProveItLink\" href=\"../218b49ecc2fcb674f5eb724d523a787df9bde9a00/expr.ipynb\"><img src=\"../218b49ecc2fcb674f5eb724d523a787df9bde9a00/expr.png\" style=\"display:inline;vertical-align:middle;\" /></a></td></tr>\n",
       "<tr><td>14</td><td>Lambda</td><td>parameter:&nbsp;26<br>body:&nbsp;16<br></td><td><a class=\"ProveItLink\" href=\"../../../../__pv_it/common/c2b190f391d9d1eb85500d82651d410b3ced3ebf0/expr.ipynb\"><img src=\"../../../../__pv_it/common/c2b190f391d9d1eb85500d82651d410b3ced3ebf0/expr.png\" style=\"display:inline;vertical-align:middle;\" /></a></td></tr>\n",
       "<tr><td>15</td><td>ExprRange</td><td>lambda_map:&nbsp;17<br>start_index:&nbsp;18<br>end_index:&nbsp;19<br></td><td><a class=\"ProveItLink\" href=\"../../../../../../core_expr_types/__pv_it/common/eaccd55f312202b1e754429bdfeaf22333037c330/expr.ipynb\"><img src=\"../../../../../../core_expr_types/__pv_it/common/eaccd55f312202b1e754429bdfeaf22333037c330/expr.png\" style=\"display:inline;vertical-align:middle;\" /></a></td></tr>\n",
       "<tr><td>16</td><td>Operation</td><td>operator:&nbsp;20<br>operands:&nbsp;21<br></td><td><a class=\"ProveItLink\" href=\"../../../../__pv_it/common/39a23f0e2a763bec73238334eef3e8d2fdc434b90/expr.ipynb\"><img src=\"../../../../__pv_it/common/39a23f0e2a763bec73238334eef3e8d2fdc434b90/expr.png\" style=\"display:inline;vertical-align:middle;\" /></a></td></tr>\n",
       "<tr><td>17</td><td>Lambda</td><td>parameter:&nbsp;26<br>body:&nbsp;23<br></td><td><a class=\"ProveItLink\" href=\"../../../../../../core_expr_types/__pv_it/common/9332289e845003c758afc3bcee43498ae784f2d90/expr.ipynb\"><img src=\"../../../../../../core_expr_types/__pv_it/common/9332289e845003c758afc3bcee43498ae784f2d90/expr.png\" style=\"display:inline;vertical-align:middle;\" /></a></td></tr>\n",
       "<tr><td>18</td><td>Literal</td><td></td><td><a class=\"ProveItLink\" href=\"../../../../../../numbers/numerals/__pv_it/common/682157d4892d216d9e5626ed533aff9b56b9506e0/expr.ipynb\"><img src=\"../../../../../../numbers/numerals/__pv_it/common/682157d4892d216d9e5626ed533aff9b56b9506e0/expr.png\" style=\"display:inline;vertical-align:middle;\" /></a></td></tr>\n",
       "<tr><td>19</td><td>Variable</td><td></td><td><a class=\"ProveItLink\" href=\"../../../../../../__pv_it/common/674a03b9c3ca221b3aabd5636837b31528ff33830/expr.ipynb\"><img src=\"../../../../../../__pv_it/common/674a03b9c3ca221b3aabd5636837b31528ff33830/expr.png\" style=\"display:inline;vertical-align:middle;\" /></a></td></tr>\n",
       "<tr><td>20</td><td>Literal</td><td></td><td><a class=\"ProveItLink\" href=\"../../../../membership/__pv_it/common/f4affea88ec78899b0259567586c16d1e6a484950/expr.ipynb\"><img src=\"../../../../membership/__pv_it/common/f4affea88ec78899b0259567586c16d1e6a484950/expr.png\" style=\"display:inline;vertical-align:middle;\" /></a></td></tr>\n",
       "<tr><td>21</td><td>ExprTuple</td><td>22, 23</td><td><a class=\"ProveItLink\" href=\"../../../../__pv_it/common/6235371ded99042d7fbbadc565db2d70e402f3430/expr.ipynb\"><img src=\"../../../../__pv_it/common/6235371ded99042d7fbbadc565db2d70e402f3430/expr.png\" style=\"display:inline;vertical-align:middle;\" /></a></td></tr>\n",
       "<tr><td>22</td><td>Variable</td><td></td><td><a class=\"ProveItLink\" href=\"../../../../../../__pv_it/common/a0d9d672aa5e272d907247690c152cc2c6daafb70/expr.ipynb\"><img src=\"../../../../../../__pv_it/common/a0d9d672aa5e272d907247690c152cc2c6daafb70/expr.png\" style=\"display:inline;vertical-align:middle;\" /></a></td></tr>\n",
       "<tr><td>23</td><td>IndexedVar</td><td>variable:&nbsp;24<br>index:&nbsp;26<br></td><td><a class=\"ProveItLink\" href=\"../../../../__pv_it/common/6760d9ad83cf320ef96285ca1419a3d05a1db3500/expr.ipynb\"><img src=\"../../../../__pv_it/common/6760d9ad83cf320ef96285ca1419a3d05a1db3500/expr.png\" style=\"display:inline;vertical-align:middle;\" /></a></td></tr>\n",
       "<tr><td>24</td><td>Variable</td><td></td><td><a class=\"ProveItLink\" href=\"../../../../../../__pv_it/common/09585084922504426caf1db2ff588a23a0932a960/expr.ipynb\"><img src=\"../../../../../../__pv_it/common/09585084922504426caf1db2ff588a23a0932a960/expr.png\" style=\"display:inline;vertical-align:middle;\" /></a></td></tr>\n",
       "<tr><td>25</td><td>ExprTuple</td><td>26</td><td><a class=\"ProveItLink\" href=\"../../../../../../core_expr_types/__pv_it/common/4b0dd6be36d76552eda6a95d5b4a27f5a5b62f900/expr.ipynb\"><img src=\"../../../../../../core_expr_types/__pv_it/common/4b0dd6be36d76552eda6a95d5b4a27f5a5b62f900/expr.png\" style=\"display:inline;vertical-align:middle;\" /></a></td></tr>\n",
       "<tr><td>26</td><td>Variable</td><td></td><td><a class=\"ProveItLink\" href=\"../../../../../../core_expr_types/__pv_it/common/006c465e50948aa2b52285e2de47974f741255cc0/expr.ipynb\"><img src=\"../../../../../../core_expr_types/__pv_it/common/006c465e50948aa2b52285e2de47974f741255cc0/expr.png\" style=\"display:inline;vertical-align:middle;\" /></a></td></tr>\n",
       "</table>\n"
      ],
      "text/plain": [
       "0. (x, A_{1}, A_{2}, ..., A_{m}) -> ((x not-in (A_{1} union  A_{2} union  ... union  A_{m})) = ((x not-in A_{1}) and  (x not-in A_{2}) and  ... and  (x not-in A_{m})))\n",
       "   core type: Lambda\n",
       "   parameters: 1\\n   body: 2\n",
       "1. (x,A_{1}, A_{2}, ..., A_{m})\n",
       "   core type: ExprTuple\n",
       "   sub-expressions: 22, 15\n",
       "2. (x not-in (A_{1} union  A_{2} union  ... union  A_{m})) = ((x not-in A_{1}) and  (x not-in A_{2}) and  ... and  (x not-in A_{m}))\n",
       "   core type: Operation\n",
       "   operator: 3\n",
       "   operands: 4\n",
       "3. =\n",
       "   core type: Literal\n",
       "   sub-expressions: \n",
       "4. (x not-in (A_{1} union  A_{2} union  ... union  A_{m}), (x not-in A_{1}) and  (x not-in A_{2}) and  ... and  (x not-in A_{m}))\n",
       "   core type: ExprTuple\n",
       "   sub-expressions: 5, 6\n",
       "5. x not-in (A_{1} union  A_{2} union  ... union  A_{m})\n",
       "   core type: Operation\n",
       "   operator: 20\n",
       "   operands: 7\n",
       "6. (x not-in A_{1}) and  (x not-in A_{2}) and  ... and  (x not-in A_{m})\n",
       "   core type: Operation\n",
       "   operator: 8\n",
       "   operands: 9\n",
       "7. (x, A_{1} union  A_{2} union  ... union  A_{m})\n",
       "   core type: ExprTuple\n",
       "   sub-expressions: 22, 10\n",
       "8. and\n",
       "   core type: Literal\n",
       "   sub-expressions: \n",
       "9. ((x not-in A_{1}), (x not-in A_{2}), ..., (x not-in A_{m}))\n",
       "   core type: ExprTuple\n",
       "   sub-expressions: 11\n",
       "10. A_{1} union  A_{2} union  ... union  A_{m}\n",
       "    core type: Operation\n",
       "    operator: 12\n",
       "    operands: 13\n",
       "11. (x not-in A_{1}), (x not-in A_{2}), ..., (x not-in A_{m})\n",
       "    core type: ExprRange\n",
       "    lambda_map: 14\n",
       "    start_index: 18\n",
       "    end_index: 19\n",
       "12. union\n",
       "    core type: Literal\n",
       "    sub-expressions: \n",
       "13. (A_{1}, A_{2}, ..., A_{m})\n",
       "    core type: ExprTuple\n",
       "    sub-expressions: 15\n",
       "14. _a -> (x not-in A_{_a})\n",
       "    core type: Lambda\n",
       "    parameter: 26\n",
       "    body: 16\n",
       "15. A_{1}, A_{2}, ..., A_{m}\n",
       "    core type: ExprRange\n",
       "    lambda_map: 17\n",
       "    start_index: 18\n",
       "    end_index: 19\n",
       "16. x not-in A_{_a}\n",
       "    core type: Operation\n",
       "    operator: 20\n",
       "    operands: 21\n",
       "17. _a -> A_{_a}\n",
       "    core type: Lambda\n",
       "    parameter: 26\n",
       "    body: 23\n",
       "18. 1\n",
       "    core type: Literal\n",
       "    sub-expressions: \n",
       "19. m\n",
       "    core type: Variable\n",
       "    sub-expressions: \n",
       "20. not-in\n",
       "    core type: Literal\n",
       "    sub-expressions: \n",
       "21. (x, A_{_a})\n",
       "    core type: ExprTuple\n",
       "    sub-expressions: 22, 23\n",
       "22. x\n",
       "    core type: Variable\n",
       "    sub-expressions: \n",
       "23. A_{_a}\n",
       "    core type: IndexedVar\n",
       "variable: 24\n",
       "index: 26\n",
       "24. A\n",
       "    core type: Variable\n",
       "    sub-expressions: \n",
       "25. (_a)\n",
       "    core type: ExprTuple\n",
       "    sub-expressions: 26\n",
       "26. _a\n",
       "    core type: Variable\n",
       "    sub-expressions: "
      ]
     },
     "metadata": {},
     "output_type": "display_data"
    }
   ],
   "source": [
    "# display the expression information\n",
    "stored_expr.expr_info()"
   ]
  },
  {
   "cell_type": "code",
   "execution_count": null,
   "metadata": {},
   "outputs": [],
   "source": []
  }
 ],
 "metadata": {
  "kernelspec": {
   "display_name": "Python 3",
   "language": "python",
   "name": "python3"
  }
 },
 "nbformat": 4,
 "nbformat_minor": 0
}