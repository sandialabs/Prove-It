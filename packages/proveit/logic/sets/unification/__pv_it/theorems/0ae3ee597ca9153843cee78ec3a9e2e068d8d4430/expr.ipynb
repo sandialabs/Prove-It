{
 "cells": [
  {
   "cell_type": "markdown",
   "metadata": {},
   "source": [
    "Expression of type <a class=\"ProveItLink\" href=\"../../../../../../../../doc/html/api/proveit.logic.Forall.html\">Forall</a>\n",
    "=======================\n",
    "# from the theory of <a class=\"ProveItLink\" href=\"../../../_theory_nbs_/theory.ipynb\">proveit.logic.sets.unification</a>"
   ]
  },
  {
   "cell_type": "code",
   "execution_count": 1,
   "metadata": {},
   "outputs": [],
   "source": [
    "import proveit\n",
    "# Automation is not needed when building an expression:\n",
    "proveit.defaults.automation = False # This will speed things up.\n",
    "proveit.defaults.inline_pngs = False # Makes files smaller.\n",
    "%load_expr # Load the stored expression as 'stored_expr'\n",
    "# import Expression classes needed to build the expression\n",
    "from proveit import x\n",
    "from proveit.core_expr_types import A_1_to_m\n",
    "from proveit.logic import Forall, InSet, Union\n",
    "from proveit.logic.sets import x_in_any_A"
   ]
  },
  {
   "cell_type": "code",
   "execution_count": 2,
   "metadata": {},
   "outputs": [
    {
     "data": {
      "text/html": [
       "<strong id=\"expr\">expr:</strong> <a class=\"ProveItLink\" href=\"expr.ipynb\"><img src=\"expr.png\" style=\"display:inline;vertical-align:middle;\" /></a><br>"
      ],
      "text/plain": [
       "<IPython.core.display.HTML object>"
      ]
     },
     "metadata": {},
     "output_type": "display_data"
    }
   ],
   "source": [
    "# build up the expression from sub-expressions\n",
    "expr = Forall(instance_param_or_params = [x, A_1_to_m], instance_expr = InSet(x, Union(A_1_to_m)), condition = x_in_any_A)"
   ]
  },
  {
   "cell_type": "code",
   "execution_count": 3,
   "metadata": {},
   "outputs": [
    {
     "name": "stdout",
     "output_type": "stream",
     "text": [
      "Passed sanity check: expr matches stored_expr\n"
     ]
    }
   ],
   "source": [
    "# check that the built expression is the same as the stored expression\n",
    "assert expr == stored_expr\n",
    "assert expr._style_id == stored_expr._style_id\n",
    "print(\"Passed sanity check: expr matches stored_expr\")"
   ]
  },
  {
   "cell_type": "code",
   "execution_count": 4,
   "metadata": {},
   "outputs": [
    {
     "name": "stdout",
     "output_type": "stream",
     "text": [
      "\\forall_{x, A_{1}, A_{2}, \\ldots, A_{m}~|~\\left(x \\in A_{1}\\right) \\lor  \\left(x \\in A_{2}\\right) \\lor  \\ldots \\lor  \\left(x \\in A_{m}\\right)}~\\left(x \\in \\left(A_{1} \\cup  A_{2} \\cup  \\ldots \\cup  A_{m}\\right)\\right)\n"
     ]
    }
   ],
   "source": [
    "# Show the LaTeX representation of the expression for convenience if you need it.\n",
    "print(stored_expr.latex())"
   ]
  },
  {
   "cell_type": "code",
   "execution_count": 5,
   "metadata": {},
   "outputs": [
    {
     "data": {
      "text/html": [
       "<table>\n",
       "<tr><th>name</th><th>description</th><th>default</th><th>current value</th><th>related methods</th></tr><tr><td>with_wrapping</td><td>If 'True', wrap the Expression after the parameters</td><td>None</td><td>None/False</td><td>('with_wrapping',)</td></tr>\n",
       "<tr><td>condition_wrapping</td><td>Wrap 'before' or 'after' the condition (or None).</td><td>None</td><td>None/False</td><td>('with_wrap_after_condition', 'with_wrap_before_condition')</td></tr>\n",
       "<tr><td>wrap_params</td><td>If 'True', wraps every two parameters AND wraps the Expression after the parameters</td><td>None</td><td>None/False</td><td>('with_params',)</td></tr>\n",
       "<tr><td>justification</td><td>justify to the 'left', 'center', or 'right' in the array cells</td><td>center</td><td>center</td><td>('with_justification',)</td></tr>\n",
       "</table>\n"
      ],
      "text/plain": [
       "style name: with_wrapping\n",
       "description: If 'True', wrap the Expression after the parameters\n",
       "default: None\n",
       "current value: None/False\n",
       "related methods: ('with_wrapping',)\n",
       "style name: condition_wrapping\n",
       "description: Wrap 'before' or 'after' the condition (or None).\n",
       "default: None\n",
       "current value: None/False\n",
       "related methods: ('with_wrap_after_condition', 'with_wrap_before_condition')\n",
       "style name: wrap_params\n",
       "description: If 'True', wraps every two parameters AND wraps the Expression after the parameters\n",
       "default: None\n",
       "current value: None/False\n",
       "related methods: ('with_params',)\n",
       "style name: justification\n",
       "description: justify to the 'left', 'center', or 'right' in the array cells\n",
       "default: center\n",
       "current value: center\n",
       "related methods: ('with_justification',)"
      ]
     },
     "metadata": {},
     "output_type": "display_data"
    }
   ],
   "source": [
    "stored_expr.style_options()"
   ]
  },
  {
   "cell_type": "code",
   "execution_count": 6,
   "metadata": {},
   "outputs": [
    {
     "data": {
      "text/html": [
       "<table><tr><th>&nbsp;</th><th>core type</th><th>sub-expressions</th><th>expression</th></tr>\n",
       "<tr><td>0</td><td>Operation</td><td>operator:&nbsp;1<br>operand:&nbsp;3<br></td><td><a class=\"ProveItLink\" href=\"expr.ipynb\"><img src=\"expr.png\" style=\"display:inline;vertical-align:middle;\" /></a></td></tr>\n",
       "<tr><td>1</td><td>Literal</td><td></td><td><a class=\"ProveItLink\" href=\"../../../../../booleans/quantification/universality/__pv_it/common/083d2baa0b8ecab1d230f9ec29a15aa1355809fb0/expr.ipynb\"><img src=\"../../../../../booleans/quantification/universality/__pv_it/common/083d2baa0b8ecab1d230f9ec29a15aa1355809fb0/expr.png\" style=\"display:inline;vertical-align:middle;\" /></a></td></tr>\n",
       "<tr><td>2</td><td>ExprTuple</td><td>3</td><td><a class=\"ProveItLink\" href=\"../976b1354a3e08753e0fcdab5195e64ac82c639330/expr.ipynb\"><img src=\"../976b1354a3e08753e0fcdab5195e64ac82c639330/expr.png\" style=\"display:inline;vertical-align:middle;\" /></a></td></tr>\n",
       "<tr><td>3</td><td>Lambda</td><td>parameters:&nbsp;4<br>body:&nbsp;5<br></td><td><a class=\"ProveItLink\" href=\"../ead7ff7d58ab223856dc3968e0b0f75bc81a9fe90/expr.ipynb\"><img src=\"../ead7ff7d58ab223856dc3968e0b0f75bc81a9fe90/expr.png\" style=\"display:inline;vertical-align:middle;\" /></a></td></tr>\n",
       "<tr><td>4</td><td>ExprTuple</td><td>23, 16</td><td><a class=\"ProveItLink\" href=\"../cc301d694dc97c5f0ccbff9f137e6916c1e9b37c0/expr.ipynb\"><img src=\"../cc301d694dc97c5f0ccbff9f137e6916c1e9b37c0/expr.png\" style=\"display:inline;vertical-align:middle;\" /></a></td></tr>\n",
       "<tr><td>5</td><td>Conditional</td><td>value:&nbsp;6<br>condition:&nbsp;7<br></td><td><a class=\"ProveItLink\" href=\"../03d11fddb2370760bebf7b33f0a9db5577adf6ca0/expr.ipynb\"><img src=\"../03d11fddb2370760bebf7b33f0a9db5577adf6ca0/expr.png\" style=\"display:inline;vertical-align:middle;\" /></a></td></tr>\n",
       "<tr><td>6</td><td>Operation</td><td>operator:&nbsp;21<br>operands:&nbsp;8<br></td><td><a class=\"ProveItLink\" href=\"../9939fdb2a04d707cdba9c2f60046fca358560cf20/expr.ipynb\"><img src=\"../9939fdb2a04d707cdba9c2f60046fca358560cf20/expr.png\" style=\"display:inline;vertical-align:middle;\" /></a></td></tr>\n",
       "<tr><td>7</td><td>Operation</td><td>operator:&nbsp;9<br>operands:&nbsp;10<br></td><td><a class=\"ProveItLink\" href=\"../../../../__pv_it/common/0e66a6fe3dd07c7210ffb722b393757ad3a53dc40/expr.ipynb\"><img src=\"../../../../__pv_it/common/0e66a6fe3dd07c7210ffb722b393757ad3a53dc40/expr.png\" style=\"display:inline;vertical-align:middle;\" /></a></td></tr>\n",
       "<tr><td>8</td><td>ExprTuple</td><td>23, 11</td><td><a class=\"ProveItLink\" href=\"../065510d2905043d29b2fb7965e1bc2b7c9c893610/expr.ipynb\"><img src=\"../065510d2905043d29b2fb7965e1bc2b7c9c893610/expr.png\" style=\"display:inline;vertical-align:middle;\" /></a></td></tr>\n",
       "<tr><td>9</td><td>Literal</td><td></td><td><a class=\"ProveItLink\" href=\"../../../../../booleans/disjunction/__pv_it/common/ef8e59262ff8e0133aa1ca984dd6b3a41bf69d5b0/expr.ipynb\"><img src=\"../../../../../booleans/disjunction/__pv_it/common/ef8e59262ff8e0133aa1ca984dd6b3a41bf69d5b0/expr.png\" style=\"display:inline;vertical-align:middle;\" /></a></td></tr>\n",
       "<tr><td>10</td><td>ExprTuple</td><td>12</td><td><a class=\"ProveItLink\" href=\"../../../../__pv_it/common/e51725c0302d6f0a12b6020078b37277d3a891410/expr.ipynb\"><img src=\"../../../../__pv_it/common/e51725c0302d6f0a12b6020078b37277d3a891410/expr.png\" style=\"display:inline;vertical-align:middle;\" /></a></td></tr>\n",
       "<tr><td>11</td><td>Operation</td><td>operator:&nbsp;13<br>operands:&nbsp;14<br></td><td><a class=\"ProveItLink\" href=\"../046783bfe5fe0fa9b9ecc50a326c6ceb66bcfbe90/expr.ipynb\"><img src=\"../046783bfe5fe0fa9b9ecc50a326c6ceb66bcfbe90/expr.png\" style=\"display:inline;vertical-align:middle;\" /></a></td></tr>\n",
       "<tr><td>12</td><td>ExprRange</td><td>lambda_map:&nbsp;15<br>start_index:&nbsp;19<br>end_index:&nbsp;20<br></td><td><a class=\"ProveItLink\" href=\"../../../../__pv_it/common/4ecf8a527243fb75ae03d61091edd0fc9ab7643b0/expr.ipynb\"><img src=\"../../../../__pv_it/common/4ecf8a527243fb75ae03d61091edd0fc9ab7643b0/expr.png\" style=\"display:inline;vertical-align:middle;\" /></a></td></tr>\n",
       "<tr><td>13</td><td>Literal</td><td></td><td><a class=\"ProveItLink\" href=\"../../common/107121809b4c0da74aebbd3977266676ee980ebe0/expr.ipynb\"><img src=\"../../common/107121809b4c0da74aebbd3977266676ee980ebe0/expr.png\" style=\"display:inline;vertical-align:middle;\" /></a></td></tr>\n",
       "<tr><td>14</td><td>ExprTuple</td><td>16</td><td><a class=\"ProveItLink\" href=\"../218b49ecc2fcb674f5eb724d523a787df9bde9a00/expr.ipynb\"><img src=\"../218b49ecc2fcb674f5eb724d523a787df9bde9a00/expr.png\" style=\"display:inline;vertical-align:middle;\" /></a></td></tr>\n",
       "<tr><td>15</td><td>Lambda</td><td>parameter:&nbsp;27<br>body:&nbsp;17<br></td><td><a class=\"ProveItLink\" href=\"../../../../__pv_it/common/2606f83ee694da74211184a05c1e8fcece070dc50/expr.ipynb\"><img src=\"../../../../__pv_it/common/2606f83ee694da74211184a05c1e8fcece070dc50/expr.png\" style=\"display:inline;vertical-align:middle;\" /></a></td></tr>\n",
       "<tr><td>16</td><td>ExprRange</td><td>lambda_map:&nbsp;18<br>start_index:&nbsp;19<br>end_index:&nbsp;20<br></td><td><a class=\"ProveItLink\" href=\"../../../../../../core_expr_types/__pv_it/common/eaccd55f312202b1e754429bdfeaf22333037c330/expr.ipynb\"><img src=\"../../../../../../core_expr_types/__pv_it/common/eaccd55f312202b1e754429bdfeaf22333037c330/expr.png\" style=\"display:inline;vertical-align:middle;\" /></a></td></tr>\n",
       "<tr><td>17</td><td>Operation</td><td>operator:&nbsp;21<br>operands:&nbsp;22<br></td><td><a class=\"ProveItLink\" href=\"../../../../__pv_it/common/b9e295b262e1a25e8b92df86fed63b5254f5830c0/expr.ipynb\"><img src=\"../../../../__pv_it/common/b9e295b262e1a25e8b92df86fed63b5254f5830c0/expr.png\" style=\"display:inline;vertical-align:middle;\" /></a></td></tr>\n",
       "<tr><td>18</td><td>Lambda</td><td>parameter:&nbsp;27<br>body:&nbsp;24<br></td><td><a class=\"ProveItLink\" href=\"../../../../../../core_expr_types/__pv_it/common/9332289e845003c758afc3bcee43498ae784f2d90/expr.ipynb\"><img src=\"../../../../../../core_expr_types/__pv_it/common/9332289e845003c758afc3bcee43498ae784f2d90/expr.png\" style=\"display:inline;vertical-align:middle;\" /></a></td></tr>\n",
       "<tr><td>19</td><td>Literal</td><td></td><td><a class=\"ProveItLink\" href=\"../../../../../../numbers/numerals/__pv_it/common/682157d4892d216d9e5626ed533aff9b56b9506e0/expr.ipynb\"><img src=\"../../../../../../numbers/numerals/__pv_it/common/682157d4892d216d9e5626ed533aff9b56b9506e0/expr.png\" style=\"display:inline;vertical-align:middle;\" /></a></td></tr>\n",
       "<tr><td>20</td><td>Variable</td><td></td><td><a class=\"ProveItLink\" href=\"../../../../../../__pv_it/common/674a03b9c3ca221b3aabd5636837b31528ff33830/expr.ipynb\"><img src=\"../../../../../../__pv_it/common/674a03b9c3ca221b3aabd5636837b31528ff33830/expr.png\" style=\"display:inline;vertical-align:middle;\" /></a></td></tr>\n",
       "<tr><td>21</td><td>Literal</td><td></td><td><a class=\"ProveItLink\" href=\"../../../../membership/__pv_it/common/477487d8796864d23d5810f83761435f25167f690/expr.ipynb\"><img src=\"../../../../membership/__pv_it/common/477487d8796864d23d5810f83761435f25167f690/expr.png\" style=\"display:inline;vertical-align:middle;\" /></a></td></tr>\n",
       "<tr><td>22</td><td>ExprTuple</td><td>23, 24</td><td><a class=\"ProveItLink\" href=\"../../../../__pv_it/common/6235371ded99042d7fbbadc565db2d70e402f3430/expr.ipynb\"><img src=\"../../../../__pv_it/common/6235371ded99042d7fbbadc565db2d70e402f3430/expr.png\" style=\"display:inline;vertical-align:middle;\" /></a></td></tr>\n",
       "<tr><td>23</td><td>Variable</td><td></td><td><a class=\"ProveItLink\" href=\"../../../../../../__pv_it/common/a0d9d672aa5e272d907247690c152cc2c6daafb70/expr.ipynb\"><img src=\"../../../../../../__pv_it/common/a0d9d672aa5e272d907247690c152cc2c6daafb70/expr.png\" style=\"display:inline;vertical-align:middle;\" /></a></td></tr>\n",
       "<tr><td>24</td><td>IndexedVar</td><td>variable:&nbsp;25<br>index:&nbsp;27<br></td><td><a class=\"ProveItLink\" href=\"../../../../__pv_it/common/6760d9ad83cf320ef96285ca1419a3d05a1db3500/expr.ipynb\"><img src=\"../../../../__pv_it/common/6760d9ad83cf320ef96285ca1419a3d05a1db3500/expr.png\" style=\"display:inline;vertical-align:middle;\" /></a></td></tr>\n",
       "<tr><td>25</td><td>Variable</td><td></td><td><a class=\"ProveItLink\" href=\"../../../../../../__pv_it/common/09585084922504426caf1db2ff588a23a0932a960/expr.ipynb\"><img src=\"../../../../../../__pv_it/common/09585084922504426caf1db2ff588a23a0932a960/expr.png\" style=\"display:inline;vertical-align:middle;\" /></a></td></tr>\n",
       "<tr><td>26</td><td>ExprTuple</td><td>27</td><td><a class=\"ProveItLink\" href=\"../../../../../../core_expr_types/__pv_it/common/4b0dd6be36d76552eda6a95d5b4a27f5a5b62f900/expr.ipynb\"><img src=\"../../../../../../core_expr_types/__pv_it/common/4b0dd6be36d76552eda6a95d5b4a27f5a5b62f900/expr.png\" style=\"display:inline;vertical-align:middle;\" /></a></td></tr>\n",
       "<tr><td>27</td><td>Variable</td><td></td><td><a class=\"ProveItLink\" href=\"../../../../../../core_expr_types/__pv_it/common/006c465e50948aa2b52285e2de47974f741255cc0/expr.ipynb\"><img src=\"../../../../../../core_expr_types/__pv_it/common/006c465e50948aa2b52285e2de47974f741255cc0/expr.png\" style=\"display:inline;vertical-align:middle;\" /></a></td></tr>\n",
       "</table>\n"
      ],
      "text/plain": [
       "0. forall_{x, A_{1}, A_{2}, ..., A_{m} | (x in A_{1}) or  (x in A_{2}) or  ... or  (x in A_{m})} (x in (A_{1} union  A_{2} union  ... union  A_{m}))\n",
       "   core type: Operation\n",
       "   operator: 1\n",
       "   operand: 3\n",
       "1. forall\n",
       "   core type: Literal\n",
       "   sub-expressions: \n",
       "2. ((x, A_{1}, A_{2}, ..., A_{m}) -> {x in (A_{1} union  A_{2} union  ... union  A_{m}) if (x in A_{1}) or  (x in A_{2}) or  ... or  (x in A_{m}).)\n",
       "   core type: ExprTuple\n",
       "   sub-expressions: 3\n",
       "3. (x, A_{1}, A_{2}, ..., A_{m}) -> {x in (A_{1} union  A_{2} union  ... union  A_{m}) if (x in A_{1}) or  (x in A_{2}) or  ... or  (x in A_{m}).\n",
       "   core type: Lambda\n",
       "   parameters: 4\\n   body: 5\n",
       "4. (x,A_{1}, A_{2}, ..., A_{m})\n",
       "   core type: ExprTuple\n",
       "   sub-expressions: 23, 16\n",
       "5. {x in (A_{1} union  A_{2} union  ... union  A_{m}) if (x in A_{1}) or  (x in A_{2}) or  ... or  (x in A_{m}).\n",
       "   core type: Conditional\n",
       "   value: 6\n",
       "   condition: 7\n",
       "6. x in (A_{1} union  A_{2} union  ... union  A_{m})\n",
       "   core type: Operation\n",
       "   operator: 21\n",
       "   operands: 8\n",
       "7. (x in A_{1}) or  (x in A_{2}) or  ... or  (x in A_{m})\n",
       "   core type: Operation\n",
       "   operator: 9\n",
       "   operands: 10\n",
       "8. (x, A_{1} union  A_{2} union  ... union  A_{m})\n",
       "   core type: ExprTuple\n",
       "   sub-expressions: 23, 11\n",
       "9. or\n",
       "   core type: Literal\n",
       "   sub-expressions: \n",
       "10. ((x in A_{1}), (x in A_{2}), ..., (x in A_{m}))\n",
       "    core type: ExprTuple\n",
       "    sub-expressions: 12\n",
       "11. A_{1} union  A_{2} union  ... union  A_{m}\n",
       "    core type: Operation\n",
       "    operator: 13\n",
       "    operands: 14\n",
       "12. (x in A_{1}), (x in A_{2}), ..., (x in A_{m})\n",
       "    core type: ExprRange\n",
       "    lambda_map: 15\n",
       "    start_index: 19\n",
       "    end_index: 20\n",
       "13. union\n",
       "    core type: Literal\n",
       "    sub-expressions: \n",
       "14. (A_{1}, A_{2}, ..., A_{m})\n",
       "    core type: ExprTuple\n",
       "    sub-expressions: 16\n",
       "15. _a -> (x in A_{_a})\n",
       "    core type: Lambda\n",
       "    parameter: 27\n",
       "    body: 17\n",
       "16. A_{1}, A_{2}, ..., A_{m}\n",
       "    core type: ExprRange\n",
       "    lambda_map: 18\n",
       "    start_index: 19\n",
       "    end_index: 20\n",
       "17. x in A_{_a}\n",
       "    core type: Operation\n",
       "    operator: 21\n",
       "    operands: 22\n",
       "18. _a -> A_{_a}\n",
       "    core type: Lambda\n",
       "    parameter: 27\n",
       "    body: 24\n",
       "19. 1\n",
       "    core type: Literal\n",
       "    sub-expressions: \n",
       "20. m\n",
       "    core type: Variable\n",
       "    sub-expressions: \n",
       "21. in\n",
       "    core type: Literal\n",
       "    sub-expressions: \n",
       "22. (x, A_{_a})\n",
       "    core type: ExprTuple\n",
       "    sub-expressions: 23, 24\n",
       "23. x\n",
       "    core type: Variable\n",
       "    sub-expressions: \n",
       "24. A_{_a}\n",
       "    core type: IndexedVar\n",
       "variable: 25\n",
       "index: 27\n",
       "25. A\n",
       "    core type: Variable\n",
       "    sub-expressions: \n",
       "26. (_a)\n",
       "    core type: ExprTuple\n",
       "    sub-expressions: 27\n",
       "27. _a\n",
       "    core type: Variable\n",
       "    sub-expressions: "
      ]
     },
     "metadata": {},
     "output_type": "display_data"
    }
   ],
   "source": [
    "# display the expression information\n",
    "stored_expr.expr_info()"
   ]
  },
  {
   "cell_type": "code",
   "execution_count": null,
   "metadata": {},
   "outputs": [],
   "source": []
  }
 ],
 "metadata": {
  "kernelspec": {
   "display_name": "Python 3",
   "language": "python",
   "name": "python3"
  }
 },
 "nbformat": 4,
 "nbformat_minor": 0
}