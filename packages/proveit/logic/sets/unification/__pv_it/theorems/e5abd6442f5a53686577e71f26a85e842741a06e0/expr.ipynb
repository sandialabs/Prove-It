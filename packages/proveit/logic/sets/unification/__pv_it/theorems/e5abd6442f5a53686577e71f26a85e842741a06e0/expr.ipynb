{
 "cells": [
  {
   "cell_type": "markdown",
   "metadata": {},
   "source": [
    "Expression of type <a class=\"ProveItLink\" href=\"../../../../../../../../doc/html/api/proveit.ExprTuple.html\">ExprTuple</a>\n",
    "=======================\n",
    "# from the theory of <a class=\"ProveItLink\" href=\"../../../_theory_nbs_/theory.ipynb\">proveit.logic.sets.unification</a>"
   ]
  },
  {
   "cell_type": "code",
   "execution_count": 1,
   "metadata": {},
   "outputs": [],
   "source": [
    "import proveit\n",
    "# Automation is not needed when building an expression:\n",
    "proveit.defaults.automation = False # This will speed things up.\n",
    "proveit.defaults.inline_pngs = False # Makes files smaller.\n",
    "%load_expr # Load the stored expression as 'stored_expr'\n",
    "# import Expression classes needed to build the expression\n",
    "from proveit import Conditional, ExprTuple, Lambda, m, x\n",
    "from proveit.core_expr_types import A_1_to_m\n",
    "from proveit.logic import Forall, InSet, Union\n",
    "from proveit.logic.sets import x_in_any_A\n",
    "from proveit.numbers import NaturalPos"
   ]
  },
  {
   "cell_type": "code",
   "execution_count": 2,
   "metadata": {},
   "outputs": [
    {
     "data": {
      "text/html": [
       "<strong id=\"expr\">expr:</strong> <a class=\"ProveItLink\" href=\"expr.ipynb\"><img src=\"expr.png\" style=\"display:inline;vertical-align:middle;\" /></a><br>"
      ],
      "text/plain": [
       "<IPython.core.display.HTML object>"
      ]
     },
     "metadata": {},
     "output_type": "display_data"
    }
   ],
   "source": [
    "# build up the expression from sub-expressions\n",
    "expr = ExprTuple(Lambda(m, Conditional(Forall(instance_param_or_params = [x, A_1_to_m], instance_expr = x_in_any_A, condition = InSet(x, Union(A_1_to_m))), InSet(m, NaturalPos))))"
   ]
  },
  {
   "cell_type": "code",
   "execution_count": 3,
   "metadata": {},
   "outputs": [
    {
     "name": "stdout",
     "output_type": "stream",
     "text": [
      "Passed sanity check: expr matches stored_expr\n"
     ]
    }
   ],
   "source": [
    "# check that the built expression is the same as the stored expression\n",
    "assert expr == stored_expr\n",
    "assert expr._style_id == stored_expr._style_id\n",
    "print(\"Passed sanity check: expr matches stored_expr\")"
   ]
  },
  {
   "cell_type": "code",
   "execution_count": 4,
   "metadata": {},
   "outputs": [
    {
     "name": "stdout",
     "output_type": "stream",
     "text": [
      "\\left(m \\mapsto \\left\\{\\forall_{x, A_{1}, A_{2}, \\ldots, A_{m}~|~x \\in \\left(A_{1} \\cup  A_{2} \\cup  \\ldots \\cup  A_{m}\\right)}~\\left(\\left(x \\in A_{1}\\right) \\lor  \\left(x \\in A_{2}\\right) \\lor  \\ldots \\lor  \\left(x \\in A_{m}\\right)\\right) \\textrm{ if } m \\in \\mathbb{N}^+\\right..\\right)\n"
     ]
    }
   ],
   "source": [
    "# Show the LaTeX representation of the expression for convenience if you need it.\n",
    "print(stored_expr.latex())"
   ]
  },
  {
   "cell_type": "code",
   "execution_count": 5,
   "metadata": {},
   "outputs": [
    {
     "data": {
      "text/html": [
       "no style options"
      ],
      "text/plain": [
       "no style options"
      ]
     },
     "metadata": {},
     "output_type": "display_data"
    }
   ],
   "source": [
    "stored_expr.style_options()"
   ]
  },
  {
   "cell_type": "code",
   "execution_count": 6,
   "metadata": {},
   "outputs": [
    {
     "data": {
      "text/html": [
       "<table><tr><th>&nbsp;</th><th>core type</th><th>sub-expressions</th><th>expression</th></tr>\n",
       "<tr><td>0</td><td>ExprTuple</td><td>1</td><td><a class=\"ProveItLink\" href=\"expr.ipynb\"><img src=\"expr.png\" style=\"display:inline;vertical-align:middle;\" /></a></td></tr>\n",
       "<tr><td>1</td><td>Lambda</td><td>parameter:&nbsp;29<br>body:&nbsp;3<br></td><td><a class=\"ProveItLink\" href=\"../658b0a37d5090153dfbb17846e55e023930f749b0/expr.ipynb\"><img src=\"../658b0a37d5090153dfbb17846e55e023930f749b0/expr.png\" style=\"display:inline;vertical-align:middle;\" /></a></td></tr>\n",
       "<tr><td>2</td><td>ExprTuple</td><td>29</td><td><a class=\"ProveItLink\" href=\"../2ed45ad9602ac89076225577ef477d88f8c5a1790/expr.ipynb\"><img src=\"../2ed45ad9602ac89076225577ef477d88f8c5a1790/expr.png\" style=\"display:inline;vertical-align:middle;\" /></a></td></tr>\n",
       "<tr><td>3</td><td>Conditional</td><td>value:&nbsp;4<br>condition:&nbsp;5<br></td><td><a class=\"ProveItLink\" href=\"../59d1cca2aca5f589d86bbb2434b6dfe3a49dcce10/expr.ipynb\"><img src=\"../59d1cca2aca5f589d86bbb2434b6dfe3a49dcce10/expr.png\" style=\"display:inline;vertical-align:middle;\" /></a></td></tr>\n",
       "<tr><td>4</td><td>Operation</td><td>operator:&nbsp;6<br>operand:&nbsp;9<br></td><td><a class=\"ProveItLink\" href=\"../b85dd577538d5521ad62ce7771e94feecb3d099e0/expr.ipynb\"><img src=\"../b85dd577538d5521ad62ce7771e94feecb3d099e0/expr.png\" style=\"display:inline;vertical-align:middle;\" /></a></td></tr>\n",
       "<tr><td>5</td><td>Operation</td><td>operator:&nbsp;25<br>operands:&nbsp;8<br></td><td><a class=\"ProveItLink\" href=\"../79a768603778550c651661670153c27ee0a505870/expr.ipynb\"><img src=\"../79a768603778550c651661670153c27ee0a505870/expr.png\" style=\"display:inline;vertical-align:middle;\" /></a></td></tr>\n",
       "<tr><td>6</td><td>Literal</td><td></td><td><a class=\"ProveItLink\" href=\"../../../../../booleans/quantification/universality/__pv_it/common/083d2baa0b8ecab1d230f9ec29a15aa1355809fb0/expr.ipynb\"><img src=\"../../../../../booleans/quantification/universality/__pv_it/common/083d2baa0b8ecab1d230f9ec29a15aa1355809fb0/expr.png\" style=\"display:inline;vertical-align:middle;\" /></a></td></tr>\n",
       "<tr><td>7</td><td>ExprTuple</td><td>9</td><td><a class=\"ProveItLink\" href=\"../93b605a3e45ba4f1e374fa52229fc6f2a1ee9f040/expr.ipynb\"><img src=\"../93b605a3e45ba4f1e374fa52229fc6f2a1ee9f040/expr.png\" style=\"display:inline;vertical-align:middle;\" /></a></td></tr>\n",
       "<tr><td>8</td><td>ExprTuple</td><td>29, 10</td><td><a class=\"ProveItLink\" href=\"../0aafde61e876ad81c8138546f58d9459d893af050/expr.ipynb\"><img src=\"../0aafde61e876ad81c8138546f58d9459d893af050/expr.png\" style=\"display:inline;vertical-align:middle;\" /></a></td></tr>\n",
       "<tr><td>9</td><td>Lambda</td><td>parameters:&nbsp;11<br>body:&nbsp;12<br></td><td><a class=\"ProveItLink\" href=\"../4656e5fe02004b8c9929ea61a50f26e316dee7390/expr.ipynb\"><img src=\"../4656e5fe02004b8c9929ea61a50f26e316dee7390/expr.png\" style=\"display:inline;vertical-align:middle;\" /></a></td></tr>\n",
       "<tr><td>10</td><td>Literal</td><td></td><td><a class=\"ProveItLink\" href=\"../../../../../../numbers/number_sets/natural_numbers/__pv_it/common/6111329435c43892c831c4793de96afbf80bdb3e0/expr.ipynb\"><img src=\"../../../../../../numbers/number_sets/natural_numbers/__pv_it/common/6111329435c43892c831c4793de96afbf80bdb3e0/expr.png\" style=\"display:inline;vertical-align:middle;\" /></a></td></tr>\n",
       "<tr><td>11</td><td>ExprTuple</td><td>30, 24</td><td><a class=\"ProveItLink\" href=\"../cc301d694dc97c5f0ccbff9f137e6916c1e9b37c0/expr.ipynb\"><img src=\"../cc301d694dc97c5f0ccbff9f137e6916c1e9b37c0/expr.png\" style=\"display:inline;vertical-align:middle;\" /></a></td></tr>\n",
       "<tr><td>12</td><td>Conditional</td><td>value:&nbsp;13<br>condition:&nbsp;14<br></td><td><a class=\"ProveItLink\" href=\"../0941aaa60bb9277a794bf77af98dce6e85db9ee30/expr.ipynb\"><img src=\"../0941aaa60bb9277a794bf77af98dce6e85db9ee30/expr.png\" style=\"display:inline;vertical-align:middle;\" /></a></td></tr>\n",
       "<tr><td>13</td><td>Operation</td><td>operator:&nbsp;15<br>operands:&nbsp;16<br></td><td><a class=\"ProveItLink\" href=\"../../../../__pv_it/common/0e66a6fe3dd07c7210ffb722b393757ad3a53dc40/expr.ipynb\"><img src=\"../../../../__pv_it/common/0e66a6fe3dd07c7210ffb722b393757ad3a53dc40/expr.png\" style=\"display:inline;vertical-align:middle;\" /></a></td></tr>\n",
       "<tr><td>14</td><td>Operation</td><td>operator:&nbsp;25<br>operands:&nbsp;17<br></td><td><a class=\"ProveItLink\" href=\"../9939fdb2a04d707cdba9c2f60046fca358560cf20/expr.ipynb\"><img src=\"../9939fdb2a04d707cdba9c2f60046fca358560cf20/expr.png\" style=\"display:inline;vertical-align:middle;\" /></a></td></tr>\n",
       "<tr><td>15</td><td>Literal</td><td></td><td><a class=\"ProveItLink\" href=\"../../../../../booleans/disjunction/__pv_it/common/ef8e59262ff8e0133aa1ca984dd6b3a41bf69d5b0/expr.ipynb\"><img src=\"../../../../../booleans/disjunction/__pv_it/common/ef8e59262ff8e0133aa1ca984dd6b3a41bf69d5b0/expr.png\" style=\"display:inline;vertical-align:middle;\" /></a></td></tr>\n",
       "<tr><td>16</td><td>ExprTuple</td><td>18</td><td><a class=\"ProveItLink\" href=\"../../../../__pv_it/common/e51725c0302d6f0a12b6020078b37277d3a891410/expr.ipynb\"><img src=\"../../../../__pv_it/common/e51725c0302d6f0a12b6020078b37277d3a891410/expr.png\" style=\"display:inline;vertical-align:middle;\" /></a></td></tr>\n",
       "<tr><td>17</td><td>ExprTuple</td><td>30, 19</td><td><a class=\"ProveItLink\" href=\"../065510d2905043d29b2fb7965e1bc2b7c9c893610/expr.ipynb\"><img src=\"../065510d2905043d29b2fb7965e1bc2b7c9c893610/expr.png\" style=\"display:inline;vertical-align:middle;\" /></a></td></tr>\n",
       "<tr><td>18</td><td>ExprRange</td><td>lambda_map:&nbsp;20<br>start_index:&nbsp;28<br>end_index:&nbsp;29<br></td><td><a class=\"ProveItLink\" href=\"../../../../__pv_it/common/4ecf8a527243fb75ae03d61091edd0fc9ab7643b0/expr.ipynb\"><img src=\"../../../../__pv_it/common/4ecf8a527243fb75ae03d61091edd0fc9ab7643b0/expr.png\" style=\"display:inline;vertical-align:middle;\" /></a></td></tr>\n",
       "<tr><td>19</td><td>Operation</td><td>operator:&nbsp;21<br>operands:&nbsp;22<br></td><td><a class=\"ProveItLink\" href=\"../046783bfe5fe0fa9b9ecc50a326c6ceb66bcfbe90/expr.ipynb\"><img src=\"../046783bfe5fe0fa9b9ecc50a326c6ceb66bcfbe90/expr.png\" style=\"display:inline;vertical-align:middle;\" /></a></td></tr>\n",
       "<tr><td>20</td><td>Lambda</td><td>parameter:&nbsp;34<br>body:&nbsp;23<br></td><td><a class=\"ProveItLink\" href=\"../../../../__pv_it/common/2606f83ee694da74211184a05c1e8fcece070dc50/expr.ipynb\"><img src=\"../../../../__pv_it/common/2606f83ee694da74211184a05c1e8fcece070dc50/expr.png\" style=\"display:inline;vertical-align:middle;\" /></a></td></tr>\n",
       "<tr><td>21</td><td>Literal</td><td></td><td><a class=\"ProveItLink\" href=\"../../common/107121809b4c0da74aebbd3977266676ee980ebe0/expr.ipynb\"><img src=\"../../common/107121809b4c0da74aebbd3977266676ee980ebe0/expr.png\" style=\"display:inline;vertical-align:middle;\" /></a></td></tr>\n",
       "<tr><td>22</td><td>ExprTuple</td><td>24</td><td><a class=\"ProveItLink\" href=\"../218b49ecc2fcb674f5eb724d523a787df9bde9a00/expr.ipynb\"><img src=\"../218b49ecc2fcb674f5eb724d523a787df9bde9a00/expr.png\" style=\"display:inline;vertical-align:middle;\" /></a></td></tr>\n",
       "<tr><td>23</td><td>Operation</td><td>operator:&nbsp;25<br>operands:&nbsp;26<br></td><td><a class=\"ProveItLink\" href=\"../../../../__pv_it/common/b9e295b262e1a25e8b92df86fed63b5254f5830c0/expr.ipynb\"><img src=\"../../../../__pv_it/common/b9e295b262e1a25e8b92df86fed63b5254f5830c0/expr.png\" style=\"display:inline;vertical-align:middle;\" /></a></td></tr>\n",
       "<tr><td>24</td><td>ExprRange</td><td>lambda_map:&nbsp;27<br>start_index:&nbsp;28<br>end_index:&nbsp;29<br></td><td><a class=\"ProveItLink\" href=\"../../../../../../core_expr_types/__pv_it/common/eaccd55f312202b1e754429bdfeaf22333037c330/expr.ipynb\"><img src=\"../../../../../../core_expr_types/__pv_it/common/eaccd55f312202b1e754429bdfeaf22333037c330/expr.png\" style=\"display:inline;vertical-align:middle;\" /></a></td></tr>\n",
       "<tr><td>25</td><td>Literal</td><td></td><td><a class=\"ProveItLink\" href=\"../../../../membership/__pv_it/common/477487d8796864d23d5810f83761435f25167f690/expr.ipynb\"><img src=\"../../../../membership/__pv_it/common/477487d8796864d23d5810f83761435f25167f690/expr.png\" style=\"display:inline;vertical-align:middle;\" /></a></td></tr>\n",
       "<tr><td>26</td><td>ExprTuple</td><td>30, 31</td><td><a class=\"ProveItLink\" href=\"../../../../__pv_it/common/6235371ded99042d7fbbadc565db2d70e402f3430/expr.ipynb\"><img src=\"../../../../__pv_it/common/6235371ded99042d7fbbadc565db2d70e402f3430/expr.png\" style=\"display:inline;vertical-align:middle;\" /></a></td></tr>\n",
       "<tr><td>27</td><td>Lambda</td><td>parameter:&nbsp;34<br>body:&nbsp;31<br></td><td><a class=\"ProveItLink\" href=\"../../../../../../core_expr_types/__pv_it/common/9332289e845003c758afc3bcee43498ae784f2d90/expr.ipynb\"><img src=\"../../../../../../core_expr_types/__pv_it/common/9332289e845003c758afc3bcee43498ae784f2d90/expr.png\" style=\"display:inline;vertical-align:middle;\" /></a></td></tr>\n",
       "<tr><td>28</td><td>Literal</td><td></td><td><a class=\"ProveItLink\" href=\"../../../../../../numbers/numerals/__pv_it/common/682157d4892d216d9e5626ed533aff9b56b9506e0/expr.ipynb\"><img src=\"../../../../../../numbers/numerals/__pv_it/common/682157d4892d216d9e5626ed533aff9b56b9506e0/expr.png\" style=\"display:inline;vertical-align:middle;\" /></a></td></tr>\n",
       "<tr><td>29</td><td>Variable</td><td></td><td><a class=\"ProveItLink\" href=\"../../../../../../__pv_it/common/674a03b9c3ca221b3aabd5636837b31528ff33830/expr.ipynb\"><img src=\"../../../../../../__pv_it/common/674a03b9c3ca221b3aabd5636837b31528ff33830/expr.png\" style=\"display:inline;vertical-align:middle;\" /></a></td></tr>\n",
       "<tr><td>30</td><td>Variable</td><td></td><td><a class=\"ProveItLink\" href=\"../../../../../../__pv_it/common/a0d9d672aa5e272d907247690c152cc2c6daafb70/expr.ipynb\"><img src=\"../../../../../../__pv_it/common/a0d9d672aa5e272d907247690c152cc2c6daafb70/expr.png\" style=\"display:inline;vertical-align:middle;\" /></a></td></tr>\n",
       "<tr><td>31</td><td>IndexedVar</td><td>variable:&nbsp;32<br>index:&nbsp;34<br></td><td><a class=\"ProveItLink\" href=\"../../../../../../core_expr_types/__pv_it/common/9fdaaadf1b3d81a308244818dc08833e7f5035730/expr.ipynb\"><img src=\"../../../../../../core_expr_types/__pv_it/common/9fdaaadf1b3d81a308244818dc08833e7f5035730/expr.png\" style=\"display:inline;vertical-align:middle;\" /></a></td></tr>\n",
       "<tr><td>32</td><td>Variable</td><td></td><td><a class=\"ProveItLink\" href=\"../../../../../../__pv_it/common/09585084922504426caf1db2ff588a23a0932a960/expr.ipynb\"><img src=\"../../../../../../__pv_it/common/09585084922504426caf1db2ff588a23a0932a960/expr.png\" style=\"display:inline;vertical-align:middle;\" /></a></td></tr>\n",
       "<tr><td>33</td><td>ExprTuple</td><td>34</td><td><a class=\"ProveItLink\" href=\"../../../../../../core_expr_types/__pv_it/common/4b0dd6be36d76552eda6a95d5b4a27f5a5b62f900/expr.ipynb\"><img src=\"../../../../../../core_expr_types/__pv_it/common/4b0dd6be36d76552eda6a95d5b4a27f5a5b62f900/expr.png\" style=\"display:inline;vertical-align:middle;\" /></a></td></tr>\n",
       "<tr><td>34</td><td>Variable</td><td></td><td><a class=\"ProveItLink\" href=\"../../../../../../core_expr_types/__pv_it/common/006c465e50948aa2b52285e2de47974f741255cc0/expr.ipynb\"><img src=\"../../../../../../core_expr_types/__pv_it/common/006c465e50948aa2b52285e2de47974f741255cc0/expr.png\" style=\"display:inline;vertical-align:middle;\" /></a></td></tr>\n",
       "</table>\n"
      ],
      "text/plain": [
       "0. (m -> {forall_{x, A_{1}, A_{2}, ..., A_{m} | x in (A_{1} union  A_{2} union  ... union  A_{m})} ((x in A_{1}) or  (x in A_{2}) or  ... or  (x in A_{m})) if m in NaturalPos.)\n",
       "   core type: ExprTuple\n",
       "   sub-expressions: 1\n",
       "1. m -> {forall_{x, A_{1}, A_{2}, ..., A_{m} | x in (A_{1} union  A_{2} union  ... union  A_{m})} ((x in A_{1}) or  (x in A_{2}) or  ... or  (x in A_{m})) if m in NaturalPos.\n",
       "   core type: Lambda\n",
       "   parameter: 29\n",
       "   body: 3\n",
       "2. (m)\n",
       "   core type: ExprTuple\n",
       "   sub-expressions: 29\n",
       "3. {forall_{x, A_{1}, A_{2}, ..., A_{m} | x in (A_{1} union  A_{2} union  ... union  A_{m})} ((x in A_{1}) or  (x in A_{2}) or  ... or  (x in A_{m})) if m in NaturalPos.\n",
       "   core type: Conditional\n",
       "   value: 4\n",
       "   condition: 5\n",
       "4. forall_{x, A_{1}, A_{2}, ..., A_{m} | x in (A_{1} union  A_{2} union  ... union  A_{m})} ((x in A_{1}) or  (x in A_{2}) or  ... or  (x in A_{m}))\n",
       "   core type: Operation\n",
       "   operator: 6\n",
       "   operand: 9\n",
       "5. m in NaturalPos\n",
       "   core type: Operation\n",
       "   operator: 25\n",
       "   operands: 8\n",
       "6. forall\n",
       "   core type: Literal\n",
       "   sub-expressions: \n",
       "7. ((x, A_{1}, A_{2}, ..., A_{m}) -> {(x in A_{1}) or  (x in A_{2}) or  ... or  (x in A_{m}) if x in (A_{1} union  A_{2} union  ... union  A_{m}).)\n",
       "   core type: ExprTuple\n",
       "   sub-expressions: 9\n",
       "8. (m, NaturalPos)\n",
       "   core type: ExprTuple\n",
       "   sub-expressions: 29, 10\n",
       "9. (x, A_{1}, A_{2}, ..., A_{m}) -> {(x in A_{1}) or  (x in A_{2}) or  ... or  (x in A_{m}) if x in (A_{1} union  A_{2} union  ... union  A_{m}).\n",
       "   core type: Lambda\n",
       "   parameters: 11\\n   body: 12\n",
       "10. NaturalPos\n",
       "    core type: Literal\n",
       "    sub-expressions: \n",
       "11. (x,A_{1}, A_{2}, ..., A_{m})\n",
       "    core type: ExprTuple\n",
       "    sub-expressions: 30, 24\n",
       "12. {(x in A_{1}) or  (x in A_{2}) or  ... or  (x in A_{m}) if x in (A_{1} union  A_{2} union  ... union  A_{m}).\n",
       "    core type: Conditional\n",
       "    value: 13\n",
       "    condition: 14\n",
       "13. (x in A_{1}) or  (x in A_{2}) or  ... or  (x in A_{m})\n",
       "    core type: Operation\n",
       "    operator: 15\n",
       "    operands: 16\n",
       "14. x in (A_{1} union  A_{2} union  ... union  A_{m})\n",
       "    core type: Operation\n",
       "    operator: 25\n",
       "    operands: 17\n",
       "15. or\n",
       "    core type: Literal\n",
       "    sub-expressions: \n",
       "16. ((x in A_{1}), (x in A_{2}), ..., (x in A_{m}))\n",
       "    core type: ExprTuple\n",
       "    sub-expressions: 18\n",
       "17. (x, A_{1} union  A_{2} union  ... union  A_{m})\n",
       "    core type: ExprTuple\n",
       "    sub-expressions: 30, 19\n",
       "18. (x in A_{1}), (x in A_{2}), ..., (x in A_{m})\n",
       "    core type: ExprRange\n",
       "    lambda_map: 20\n",
       "    start_index: 28\n",
       "    end_index: 29\n",
       "19. A_{1} union  A_{2} union  ... union  A_{m}\n",
       "    core type: Operation\n",
       "    operator: 21\n",
       "    operands: 22\n",
       "20. _a -> (x in A_{_a})\n",
       "    core type: Lambda\n",
       "    parameter: 34\n",
       "    body: 23\n",
       "21. union\n",
       "    core type: Literal\n",
       "    sub-expressions: \n",
       "22. (A_{1}, A_{2}, ..., A_{m})\n",
       "    core type: ExprTuple\n",
       "    sub-expressions: 24\n",
       "23. x in A_{_a}\n",
       "    core type: Operation\n",
       "    operator: 25\n",
       "    operands: 26\n",
       "24. A_{1}, A_{2}, ..., A_{m}\n",
       "    core type: ExprRange\n",
       "    lambda_map: 27\n",
       "    start_index: 28\n",
       "    end_index: 29\n",
       "25. in\n",
       "    core type: Literal\n",
       "    sub-expressions: \n",
       "26. (x, A_{_a})\n",
       "    core type: ExprTuple\n",
       "    sub-expressions: 30, 31\n",
       "27. _a -> A_{_a}\n",
       "    core type: Lambda\n",
       "    parameter: 34\n",
       "    body: 31\n",
       "28. 1\n",
       "    core type: Literal\n",
       "    sub-expressions: \n",
       "29. m\n",
       "    core type: Variable\n",
       "    sub-expressions: \n",
       "30. x\n",
       "    core type: Variable\n",
       "    sub-expressions: \n",
       "31. A_{_a}\n",
       "    core type: IndexedVar\n",
       "variable: 32\n",
       "index: 34\n",
       "32. A\n",
       "    core type: Variable\n",
       "    sub-expressions: \n",
       "33. (_a)\n",
       "    core type: ExprTuple\n",
       "    sub-expressions: 34\n",
       "34. _a\n",
       "    core type: Variable\n",
       "    sub-expressions: "
      ]
     },
     "metadata": {},
     "output_type": "display_data"
    }
   ],
   "source": [
    "# display the expression information\n",
    "stored_expr.expr_info()"
   ]
  },
  {
   "cell_type": "code",
   "execution_count": null,
   "metadata": {},
   "outputs": [],
   "source": []
  }
 ],
 "metadata": {
  "kernelspec": {
   "display_name": "Python 3",
   "language": "python",
   "name": "python3"
  }
 },
 "nbformat": 4,
 "nbformat_minor": 0
}