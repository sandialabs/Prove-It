{
 "cells": [
  {
   "cell_type": "markdown",
   "metadata": {},
   "source": [
    "Theorems (or conjectures) for the theory of <a class=\"ProveItLink\" href=\"theory.ipynb\">proveit.logic.sets.k_power_set</a>\n",
    "========"
   ]
  },
  {
   "cell_type": "code",
   "execution_count": null,
   "metadata": {},
   "outputs": [],
   "source": [
    "import proveit\n",
    "# Prepare this notebook for defining the theorems of a theory:\n",
    "%theorems_notebook # Keep this at the top following 'import proveit'.\n",
    "\n",
    "from proveit import k, A, S\n",
    "from proveit.logic import And, Equals, Forall, NotEquals, Or\n",
    "from proveit.logic.sets import (\n",
    "        Card, InSet, KPowerSet, NotInSet, NotSubsetEq, PowerSet, SubsetEq)\n",
    "from proveit.numbers import LessEq, Natural"
   ]
  },
  {
   "cell_type": "code",
   "execution_count": null,
   "metadata": {},
   "outputs": [],
   "source": [
    "%begin theorems"
   ]
  },
  {
   "cell_type": "code",
   "execution_count": null,
   "metadata": {},
   "outputs": [],
   "source": [
    "unfold_k_power_set = (\n",
    "    Forall((A, S),\n",
    "    Forall(k, And(SubsetEq(A, S), Equals(Card(A), k)),\n",
    "    conditions = [LessEq(k, Card(S)), InSet(A, KPowerSet(S, k))],\n",
    "    domain = Natural)\n",
    "    )\n",
    ")"
   ]
  },
  {
   "cell_type": "code",
   "execution_count": null,
   "metadata": {},
   "outputs": [],
   "source": [
    "fold_k_power_set = (\n",
    "    Forall((A, S),\n",
    "    Forall(k, InSet(A, KPowerSet(S, k)),\n",
    "    conditions = [LessEq(k, Card(S)), And(SubsetEq(A, S), Equals(Card(A), k))],\n",
    "    domain = Natural)\n",
    "    )\n",
    ")"
   ]
  },
  {
   "cell_type": "code",
   "execution_count": null,
   "metadata": {},
   "outputs": [],
   "source": [
    "not_in_k_power_set_equiv = (\n",
    "    Forall((A, S),\n",
    "    Forall(k, Equals(NotInSet(A, KPowerSet(S, k)), Or(NotSubsetEq(A, S), NotEquals(Card(A), k))),\n",
    "    conditions = [LessEq(k, Card(S))],\n",
    "    domain = Natural)\n",
    "    )\n",
    ")"
   ]
  },
  {
   "cell_type": "code",
   "execution_count": null,
   "metadata": {},
   "outputs": [],
   "source": [
    "unfold_not_in_k_power_set = (\n",
    "    Forall((A, S),\n",
    "    Forall(k, Or(NotSubsetEq(A, S), NotEquals(Card(A), k)),\n",
    "    conditions = [LessEq(k, Card(S)), NotInSet(A, KPowerSet(S, k))],\n",
    "    domain = Natural)\n",
    "    )\n",
    ")"
   ]
  },
  {
   "cell_type": "code",
   "execution_count": null,
   "metadata": {},
   "outputs": [],
   "source": [
    "fold_not_in_k_power_set = (\n",
    "    Forall((A, S),\n",
    "    Forall(k, NotInSet(A, KPowerSet(S, k)),\n",
    "    conditions = [LessEq(k, Card(S)), Or(NotSubsetEq(A, S), NotEquals(Card(A), k))],\n",
    "    domain = Natural)\n",
    "    )\n",
    ")"
   ]
  },
  {
   "cell_type": "code",
   "execution_count": null,
   "metadata": {},
   "outputs": [],
   "source": []
  },
  {
   "cell_type": "code",
   "execution_count": null,
   "metadata": {},
   "outputs": [],
   "source": [
    "%end theorems"
   ]
  }
 ],
 "metadata": {
  "kernelspec": {
   "display_name": "Python 3",
   "language": "python",
   "name": "python3"
  }
 },
 "nbformat": 4,
 "nbformat_minor": 0
}
