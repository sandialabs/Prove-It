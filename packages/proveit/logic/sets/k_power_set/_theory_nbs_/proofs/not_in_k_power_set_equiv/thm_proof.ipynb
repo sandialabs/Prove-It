{
 "cells": [
  {
   "cell_type": "markdown",
   "metadata": {},
   "source": [
    "Proof of <a class=\"ProveItLink\" href=\"../../../../../../_theory_nbs_/theory.ipynb\">proveit</a>.<a class=\"ProveItLink\" href=\"../../../../../_theory_nbs_/theory.ipynb\">logic</a>.<a class=\"ProveItLink\" href=\"../../../../_theory_nbs_/theory.ipynb\">sets</a>.<a class=\"ProveItLink\" href=\"../../theory.ipynb\">k_power_set</a>.<a class=\"ProveItLink\" href=\"../../theorems.ipynb#not_in_k_power_set_equiv\">not_in_k_power_set_equiv</a> theorem\n",
    "========"
   ]
  },
  {
   "cell_type": "code",
   "execution_count": null,
   "metadata": {},
   "outputs": [],
   "source": [
    "import proveit\n",
    "theory = proveit.Theory() # the theorem's theory\n",
    "\n",
    "from proveit import k, x, A, S, defaults\n",
    "from proveit.logic import Equals, Not, Or\n",
    "from proveit.logic.sets import SubsetEq\n",
    "from proveit.logic.sets.membership import not_in_set_def\n",
    "from proveit.logic.sets.k_power_set import k_power_set_def, KPowerSet"
   ]
  },
  {
   "cell_type": "code",
   "execution_count": null,
   "metadata": {},
   "outputs": [],
   "source": [
    "%proving not_in_k_power_set_equiv"
   ]
  },
  {
   "cell_type": "markdown",
   "metadata": {},
   "source": [
    "Prove-It's message to simply execute \"%qed\" is just teasing us, apparently.\n",
    "\n",
    "General chalkboard-mathematics proof consists of a sequence of transformations:\n",
    "\n",
    "$\\begin{align}\n",
    "A \\notin [S]^{k}\n",
    "&=\n",
    "\\lnot(A \\in [S]^{k}) & \\text{[not\\_in\\_set\\_def]}\\\\\n",
    "&=\n",
    "\\lnot\\big((A \\subseteq S)\\land(|A| = k)\\big) & \\text{[k\\_power\\_set\\_def]}\\\\\n",
    "&=\n",
    "(\\lnot(A \\subseteq S)\\lor \\lnot(|A| = k)) & \\text{[De Morgan's Law(s)]}\\\\\n",
    "&=\n",
    "((A \\not\\subseteq S)\\lor (|A| \\ne k)) & \\text{[Negation Definitions]}\n",
    "\\end{align}$\n",
    "\n",
    "Currently we have no good way to complete the proof. In particular, there appears to be no good way to “apply De Morgan’s” law in the desired way, in part because we need an equality-based theorem."
   ]
  },
  {
   "cell_type": "code",
   "execution_count": null,
   "metadata": {},
   "outputs": [],
   "source": [
    "defaults.assumptions = not_in_k_power_set_equiv.all_conditions()"
   ]
  },
  {
   "cell_type": "code",
   "execution_count": null,
   "metadata": {},
   "outputs": [],
   "source": [
    "a_not_in_k_power_set = not_in_k_power_set_equiv.instance_expr.instance_expr.lhs"
   ]
  },
  {
   "cell_type": "code",
   "execution_count": null,
   "metadata": {},
   "outputs": [],
   "source": [
    "not_in_set_def"
   ]
  },
  {
   "cell_type": "code",
   "execution_count": null,
   "metadata": {},
   "outputs": [],
   "source": [
    "a_not_k_power_set_01 = not_in_set_def.instantiate({x:A, S:KPowerSet(S, k)})"
   ]
  },
  {
   "cell_type": "code",
   "execution_count": null,
   "metadata": {},
   "outputs": [],
   "source": [
    "k_power_set_def"
   ]
  },
  {
   "cell_type": "code",
   "execution_count": null,
   "metadata": {},
   "outputs": [],
   "source": [
    "k_power_set_def_inst = k_power_set_def.instantiate().instantiate()"
   ]
  },
  {
   "cell_type": "code",
   "execution_count": null,
   "metadata": {},
   "outputs": [],
   "source": [
    "a_not_k_power_set_02 = k_power_set_def_inst.sub_right_side_into(a_not_k_power_set_01)"
   ]
  },
  {
   "cell_type": "code",
   "execution_count": null,
   "metadata": {},
   "outputs": [],
   "source": [
    "A_subseteq_S = k_power_set_def_inst.rhs.operands[0]"
   ]
  },
  {
   "cell_type": "code",
   "execution_count": null,
   "metadata": {},
   "outputs": [],
   "source": [
    "card_A_eq_k = k_power_set_def_inst.rhs.operands[1]"
   ]
  },
  {
   "cell_type": "code",
   "execution_count": null,
   "metadata": {},
   "outputs": [],
   "source": [
    "dm_01 = a_not_k_power_set_02.rhs.operand.conclude_via_demorgans(assumptions = [Not(Or(Not(A_subseteq_S), Not(card_A_eq_k)))])"
   ]
  },
  {
   "cell_type": "code",
   "execution_count": null,
   "metadata": {},
   "outputs": [],
   "source": [
    "dm_01.assumptions[0]"
   ]
  },
  {
   "cell_type": "code",
   "execution_count": null,
   "metadata": {},
   "outputs": [],
   "source": [
    "dm_02 = dm_01.as_implication(dm_01.assumptions[0])"
   ]
  },
  {
   "cell_type": "code",
   "execution_count": null,
   "metadata": {},
   "outputs": [],
   "source": [
    "dm_03 = dm_02.contrapose()"
   ]
  },
  {
   "cell_type": "code",
   "execution_count": null,
   "metadata": {},
   "outputs": [],
   "source": [
    "dm_04 = dm_03.derive_consequent(assumptions = [dm_03.antecedent])"
   ]
  },
  {
   "cell_type": "code",
   "execution_count": null,
   "metadata": {},
   "outputs": [],
   "source": []
  }
 ],
 "metadata": {
  "kernelspec": {
   "display_name": "Python 3",
   "language": "python",
   "name": "python3"
  }
 },
 "nbformat": 4,
 "nbformat_minor": 0
}
