{
 "cells": [
  {
   "cell_type": "markdown",
   "metadata": {},
   "source": [
    "Demonstrations for the theory of <a class=\"ProveItLink\" href=\"theory.ipynb\">proveit.logic.sets.k_power_set</a>\n",
    "========"
   ]
  },
  {
   "cell_type": "code",
   "execution_count": null,
   "metadata": {},
   "outputs": [],
   "source": [
    "import proveit\n",
    "%begin demonstrations\n",
    "\n",
    "from proveit import A\n",
    "from proveit.logic import And, Equals, NotEquals\n",
    "from proveit.logic.sets import (\n",
    "        Card, InSet, KPowerSet, NotInSet, NotSubsetEq, Set, SubsetEq)\n",
    "from proveit.numbers import one, two, three, four"
   ]
  },
  {
   "cell_type": "markdown",
   "metadata": {},
   "source": [
    "### `KPowerSet(S)`, the Set of k-Element Subsets of Set $S$:\n",
    "\n",
    "### $[S]^{k} = \\{A | (A \\subseteq S) \\land |A|=k\\}$"
   ]
  },
  {
   "cell_type": "markdown",
   "metadata": {},
   "source": [
    "#### MISC. TESTING"
   ]
  },
  {
   "cell_type": "markdown",
   "metadata": {},
   "source": [
    "#### Basic Constructions"
   ]
  },
  {
   "cell_type": "code",
   "execution_count": null,
   "metadata": {},
   "outputs": [],
   "source": [
    "KPowerSet(Set(one, two, three), two)"
   ]
  },
  {
   "cell_type": "code",
   "execution_count": null,
   "metadata": {},
   "outputs": [],
   "source": [
    "InSet(A, KPowerSet(Set(one, two, three), two))"
   ]
  },
  {
   "cell_type": "markdown",
   "metadata": {},
   "source": [
    "#### Method Testing"
   ]
  },
  {
   "cell_type": "markdown",
   "metadata": {},
   "source": [
    "#### Testing `KPowerSetMembership.definition()`"
   ]
  },
  {
   "cell_type": "code",
   "execution_count": null,
   "metadata": {},
   "outputs": [],
   "source": [
    "# somewhat surprisingly, we have to assume the correct cardinality for the enumerated set\n",
    "InSet(A, KPowerSet(Set(one, two, three), two)).definition(assumptions=[Equals(Card(Set(one, two, three)), three)])"
   ]
  },
  {
   "cell_type": "markdown",
   "metadata": {},
   "source": [
    "#### Testing `KPowerSetMembership.as_defined()`"
   ]
  },
  {
   "cell_type": "code",
   "execution_count": null,
   "metadata": {},
   "outputs": [],
   "source": [
    "InSet(A, KPowerSet(Set(one, two, three), two)).as_defined()"
   ]
  },
  {
   "cell_type": "markdown",
   "metadata": {},
   "source": [
    "#### Testing `KPowerSetMembership.unfold()`"
   ]
  },
  {
   "cell_type": "code",
   "execution_count": null,
   "metadata": {},
   "outputs": [],
   "source": [
    "InSet(A, KPowerSet(Set(one, two, three), two)).unfold(\n",
    "    assumptions=[InSet(A, KPowerSet(Set(one, two, three), two)), Equals(Card(Set(one, two, three)), three)])"
   ]
  },
  {
   "cell_type": "markdown",
   "metadata": {},
   "source": [
    "#### Testing `KPowerSetMembership.conclude()`"
   ]
  },
  {
   "cell_type": "code",
   "execution_count": null,
   "metadata": {},
   "outputs": [],
   "source": [
    "InSet(A, KPowerSet(Set(one, two, three), two)).conclude(\n",
    "    assumptions=[And(SubsetEq(A, Set(one, two, three)), Equals(Card(A), two)), Equals(Card(Set(one, two, three)), three)])"
   ]
  },
  {
   "cell_type": "markdown",
   "metadata": {},
   "source": [
    "#### Testing `KPowerSetNonmembership.definition()`"
   ]
  },
  {
   "cell_type": "code",
   "execution_count": null,
   "metadata": {},
   "outputs": [],
   "source": [
    "NotInSet(A, KPowerSet(Set(one, two, three), two)).definition(assumptions = [Equals(Card(Set(one, two, three)), three)])"
   ]
  },
  {
   "cell_type": "markdown",
   "metadata": {},
   "source": [
    "#### Testing `KPowerSetNonmembership.as_defined()`"
   ]
  },
  {
   "cell_type": "code",
   "execution_count": null,
   "metadata": {},
   "outputs": [],
   "source": [
    "NotInSet(A, KPowerSet(Set(one, two, three), two)).as_defined()"
   ]
  },
  {
   "cell_type": "markdown",
   "metadata": {},
   "source": [
    "#### Testing `KPowerSetNonmembership.unfold()`"
   ]
  },
  {
   "cell_type": "code",
   "execution_count": null,
   "metadata": {},
   "outputs": [],
   "source": [
    "NotInSet(A, KPowerSet(Set(one, two, three), two)).unfold(\n",
    "    assumptions = [NotInSet(A, KPowerSet(Set(one, two, three), two)), Equals(Card(Set(one, two, three)), three)]\n",
    ")"
   ]
  },
  {
   "cell_type": "markdown",
   "metadata": {},
   "source": [
    "#### Testing `KPowerSetNonmembership.conclude()`"
   ]
  },
  {
   "cell_type": "code",
   "execution_count": null,
   "metadata": {},
   "outputs": [],
   "source": [
    "NotInSet(A, KPowerSet(Set(one, two, three), two)).conclude(\n",
    "    assumptions = [And(NotSubsetEq(A, Set(one, two, three)), NotEquals(Card(A), two)),\n",
    "                   Equals(Card(Set(one, two, three)), three)])"
   ]
  },
  {
   "cell_type": "code",
   "execution_count": null,
   "metadata": {},
   "outputs": [],
   "source": [
    "%end demonstrations"
   ]
  }
 ],
 "metadata": {
  "kernelspec": {
   "display_name": "Python 3",
   "language": "python",
   "name": "python3"
  }
 },
 "nbformat": 4,
 "nbformat_minor": 0
}
