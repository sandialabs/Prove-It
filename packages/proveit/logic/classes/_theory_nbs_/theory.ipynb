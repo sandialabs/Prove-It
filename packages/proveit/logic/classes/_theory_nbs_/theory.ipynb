{
 "cells": [
  {
   "cell_type": "markdown",
   "metadata": {},
   "source": [
    "Theory of <a class=\"ProveItLink\" href=\"../../../_theory_nbs_/theory.ipynb\">proveit</a>.<a class=\"ProveItLink\" href=\"../../_theory_nbs_/theory.ipynb\">logic</a>.classes\n",
    "========\n",
    "\n",
    "A class is a collection of sets.  Its members are defined by a shared property.  A class need not be a set with a well-defined ordinal rank (for example, the class of ordinals cannot have a ordinal rank and must not be a set if we are to avoid the Burali-Forti paradox)."
   ]
  },
  {
   "cell_type": "code",
   "execution_count": 1,
   "metadata": {},
   "outputs": [
    {
     "data": {
      "text/html": [
       "<h3>Local content of this theory</h3>"
      ],
      "text/plain": [
       "<IPython.core.display.HTML object>"
      ]
     },
     "metadata": {},
     "output_type": "display_data"
    },
    {
     "data": {
      "text/html": [
       "<table><tr>\n",
       "<th><a class=\"ProveItLink\" href=\"common.ipynb\">common expressions</a></th>\n",
       "<th><a class=\"ProveItLink\" href=\"axioms.ipynb\">axioms</a></th>\n",
       "<th><a class=\"ProveItLink\" href=\"theorems.ipynb\">theorems</a></th>\n",
       "<th><a class=\"ProveItLink\" href=\"demonstrations.ipynb\">demonstrations</a></th>\n",
       "</tr></table>\n",
       "<h3>Sub-theories</h3>\n",
       "<table>\n",
       "<tr><th><a class=\"ProveItLink\" href=\"../membership/_theory_nbs_/theory.ipynb\">membership</a></th><td></td></tr>\n",
       "</table>\n"
      ],
      "text/plain": [
       "<IPython.core.display.HTML object>"
      ]
     },
     "metadata": {},
     "output_type": "display_data"
    },
    {
     "data": {
      "text/html": [
       "<h3>All axioms contained within this theory</h3>"
      ],
      "text/plain": [
       "<IPython.core.display.HTML object>"
      ]
     },
     "metadata": {},
     "output_type": "display_data"
    },
    {
     "data": {
      "text/html": [
       "This theory contains no axioms directly."
      ],
      "text/plain": [
       "<IPython.core.display.HTML object>"
      ]
     },
     "metadata": {},
     "output_type": "display_data"
    },
    {
     "data": {
      "text/html": [
       "<h4>proveit.logic.classes.membership</h4>"
      ],
      "text/plain": [
       "<IPython.core.display.HTML object>"
      ]
     },
     "metadata": {},
     "output_type": "display_data"
    },
    {
     "data": {
      "text/html": [
       "<dt><a class=\"ProveItLink\" href=\"../membership/_theory_nbs_/axioms.ipynb#not_in_class_def\">proveit.logic.classes.membership.not_in_class_def</a></dt><dd><a class=\"ProveItLink\" href=\"../membership/__pv_it/axioms/03e5da56ed25c73199bb4234f567574cd0ad0d120/expr.ipynb\"><img src=\"data:image/png;base64,iVBORw0KGgoAAAANSUhEUgAAASYAAAAmCAMAAABebcZcAAAAP1BMVEX///8AAAAAAAAAAAAAAAAA\n",
       "AAAAAAAAAAAAAAAAAAAAAAAAAAAAAAAAAAAAAAAAAAAAAAAAAAAAAAAAAAAAAADFBd4eAAAAFHRS\n",
       "TlMAq1RmmUTNIjK7EInv3Xbp8+P3nXbhrUQAAAAJcEhZcwAADsQAAA7EAZUrDhsAAAR8SURBVGje\n",
       "1ZqJ0tsoDIDNbcDQbtfv/6w1PkA+AGE6uy7T+SfVJOizbkiGoWNxOnxvvYUy0qBk7UDki1Z6DTU6\n",
       "g5I1LiY/aKUeKEZwsjbjT+Z7VuqD0hQna1nSfjCY+qDMg5FNXzTQ+YPB1Av1VNj6KrD7YjD1QqlZ\n",
       "oWT4IvDFYOqH0hYnwy6iocHLLkL7sveNJ6h3zW66azhkb9bM0mtfbgboEU143Puy+iDU26yjN5RV\n",
       "lgoUZS3hnexNy0E5lkug8ZoQwga17OJRBFl944sqAtWv1Y3vrgAoQcZF9HqDEjaDgb7SPUQxMiYf\n",
       "go1yx5CBl9cHoLDrrD7QynsOBFl0tmpJbJJYeSUEXOmRtRv3XdZIYBzRtBkCChlKF/XBboepAcoq\n",
       "O8xmW8bNKWVSqcB57X78dHl6GWc3sW2DmOUmDFQGZlmypD5MXuOxmxmgjO3eaXLFHOsDzX9OyCWi\n",
       "yZjfxc7RNePmPFmtTgV9c6lIrjA19aG+HbKEssmmYGQ3NU0Hqadwe9RCT8xoQUyqEKelyqXmlJBm\n",
       "s6atjrzcIqAyMFX1y4u4SULZZHx9i26ZzFTyw2H0xR2e+IEn1WtLYL4UTL5wwOcOrGS9fLwBqAxM\n",
       "VX2wtb+jrDJFjj9PCU24tcaaa+uNRG57xVToNEuOpaeQ16Hpupe7N3BaHeV2fcCI93zJwVx2epwf\n",
       "YuYClE0WAsk+tm2xQekrvJjj26ft1Qib6X6nsTzCP7+WPzqz1wQauDketVrBr6DRwQkqA7MuXVIf\n",
       "TJKsfpFRnyngdK/2lA/ZaALYkz9321P7fNjLJRA6XjrOCzMBqGeYWzTd1EMzAZRdJmMJ8Z6r5d8l\n",
       "2Uc61JJu9ebyOWNOA5O7FQ6wF09RHyPd1WqToygzPcFcm8FdPaxNAGWXWbqXEK/C8VHu6ojLV8uY\n",
       "9dpv3hIDmc4KvR9EDJ2nvVREivWKVWdcfa27il+hMjAI9bBdApRdpo7BjK0YccDKzsQmNYmtby4T\n",
       "mOELmYC+ljQNTY970U2/SJi8OpbkR4YIlYFBqIftMqFEGZgBQfmP6X3XkJ56XMPE8MVdlLPTOw35\n",
       "JUxxL8OXgyc89DlRPXTnDz8HVAZGi+vMc1MfMlfcUJIMtIR02UJ2x/l745QpIl1+zGb/Wr2fDwp7\n",
       "wTxwiBvKrD5ZzlgRYUpD/nGzB1CuV8dqGqxchzMTIs5sXcU/eJinNlA4roKhqbAX6lg7IPTxjvuz\n",
       "mNPujmKvzuNeWB/OPuNE16Dk238f7iySVOcC5HTnkN8r84F8EVfZi5T+i2dN7ii6cIIq3xcY0HxN\n",
       "7uFs61dcGnXjldVn5v4v649GB1EKl6Ki4hgNQl9lzm2t39x45L1gTt8J6t0SeweDKKJwKVorEuwP\n",
       "1IE/vvqhrMTJ0Bd/s/iemfqhJoqTddn9f1+9UH7CyVoMP37QTkWo0TP7HwfTX/i7nfDlSHni8BIn\n",
       "a1qSfdBOBShdC381KZSssWA69T0zFaDCD99M8aMUJWtdSn7w5xZ5KGEZKyWAZjhZO9IXq/hbKCMK\n",
       "st8D/Cgy3+OS+QAAAABJRU5ErkJggg==\n",
       "\" style=\"display:inline;vertical-align:middle;\" /></a></dd>"
      ],
      "text/plain": [
       "<IPython.core.display.HTML object>"
      ]
     },
     "metadata": {},
     "output_type": "display_data"
    }
   ],
   "source": [
    "import proveit\n",
    "%theory # toggles between interactive and static modes"
   ]
  },
  {
   "cell_type": "code",
   "execution_count": null,
   "metadata": {},
   "outputs": [],
   "source": []
  }
 ],
 "metadata": {
  "kernelspec": {
   "display_name": "Python 3",
   "language": "python",
   "name": "python3"
  }
 },
 "nbformat": 4,
 "nbformat_minor": 0
}