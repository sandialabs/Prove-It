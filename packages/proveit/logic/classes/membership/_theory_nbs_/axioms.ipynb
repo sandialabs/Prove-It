{
 "cells": [
  {
   "cell_type": "markdown",
   "metadata": {},
   "source": [
    "Axioms for the theory of <a class=\"ProveItLink\" href=\"theory.ipynb\">proveit.logic.classes.membership</a>\n",
    "========"
   ]
  },
  {
   "cell_type": "code",
   "execution_count": 1,
   "metadata": {},
   "outputs": [],
   "source": [
    "import proveit\n",
    "# Prepare this notebook for defining the axioms of a theory:\n",
    "%axioms_notebook # Keep this at the top following 'import proveit'.\n",
    "\n",
    "from proveit import x, C\n",
    "from proveit.logic import Forall, Not, Equals, InClass, NotInClass"
   ]
  },
  {
   "cell_type": "code",
   "execution_count": 2,
   "metadata": {},
   "outputs": [
    {
     "name": "stdout",
     "output_type": "stream",
     "text": [
      "Defining axioms for theory 'proveit.logic.classes.membership'\n",
      "Subsequent end-of-cell assignments will define axioms\n",
      "%end_axioms will finalize the definitions\n"
     ]
    }
   ],
   "source": [
    "%begin axioms"
   ]
  },
  {
   "cell_type": "markdown",
   "metadata": {},
   "source": [
    "**$x \\notin C$ is defined as the negation of $x \\in C$ for all $x$ and $C$:**"
   ]
  },
  {
   "cell_type": "code",
   "execution_count": 3,
   "metadata": {},
   "outputs": [
    {
     "data": {
      "text/html": [
       "<strong id=\"not_in_class_def\">not_in_class_def:</strong> <a class=\"ProveItLink\" href=\"../__pv_it/axioms/2ceeca9e44bf6b005d0fbc2b091358057825ac710/axiom_expr.ipynb\"><img src=\"data:image/png;base64,iVBORw0KGgoAAAANSUhEUgAAASYAAAAmCAMAAABebcZcAAAAP1BMVEX///8AAAAAAAAAAAAAAAAA\n",
       "AAAAAAAAAAAAAAAAAAAAAAAAAAAAAAAAAAAAAAAAAAAAAAAAAAAAAAAAAAAAAADFBd4eAAAAFHRS\n",
       "TlMAq1RmmUTNIjK7EInv3Xbp8+P3nXbhrUQAAAAJcEhZcwAADsQAAA7EAZUrDhsAAAR8SURBVGje\n",
       "1ZqJ0tsoDIDNbcDQbtfv/6w1PkA+AGE6uy7T+SfVJOizbkiGoWNxOnxvvYUy0qBk7UDki1Z6DTU6\n",
       "g5I1LiY/aKUeKEZwsjbjT+Z7VuqD0hQna1nSfjCY+qDMg5FNXzTQ+YPB1Av1VNj6KrD7YjD1QqlZ\n",
       "oWT4IvDFYOqH0hYnwy6iocHLLkL7sveNJ6h3zW66azhkb9bM0mtfbgboEU143Puy+iDU26yjN5RV\n",
       "lgoUZS3hnexNy0E5lkug8ZoQwga17OJRBFl944sqAtWv1Y3vrgAoQcZF9HqDEjaDgb7SPUQxMiYf\n",
       "go1yx5CBl9cHoLDrrD7QynsOBFl0tmpJbJJYeSUEXOmRtRv3XdZIYBzRtBkCChlKF/XBboepAcoq\n",
       "O8xmW8bNKWVSqcB57X78dHl6GWc3sW2DmOUmDFQGZlmypD5MXuOxmxmgjO3eaXLFHOsDzX9OyCWi\n",
       "yZjfxc7RNePmPFmtTgV9c6lIrjA19aG+HbKEssmmYGQ3NU0Hqadwe9RCT8xoQUyqEKelyqXmlJBm\n",
       "s6atjrzcIqAyMFX1y4u4SULZZHx9i26ZzFTyw2H0xR2e+IEn1WtLYL4UTL5wwOcOrGS9fLwBqAxM\n",
       "VX2wtb+jrDJFjj9PCU24tcaaa+uNRG57xVToNEuOpaeQ16Hpupe7N3BaHeV2fcCI93zJwVx2epwf\n",
       "YuYClE0WAsk+tm2xQekrvJjj26ft1Qib6X6nsTzCP7+WPzqz1wQauDketVrBr6DRwQkqA7MuXVIf\n",
       "TJKsfpFRnyngdK/2lA/ZaALYkz9321P7fNjLJRA6XjrOCzMBqGeYWzTd1EMzAZRdJmMJ8Z6r5d8l\n",
       "2Uc61JJu9ebyOWNOA5O7FQ6wF09RHyPd1WqToygzPcFcm8FdPaxNAGWXWbqXEK/C8VHu6ojLV8uY\n",
       "9dpv3hIDmc4KvR9EDJ2nvVREivWKVWdcfa27il+hMjAI9bBdApRdpo7BjK0YccDKzsQmNYmtby4T\n",
       "mOELmYC+ljQNTY970U2/SJi8OpbkR4YIlYFBqIftMqFEGZgBQfmP6X3XkJ56XMPE8MVdlLPTOw35\n",
       "JUxxL8OXgyc89DlRPXTnDz8HVAZGi+vMc1MfMlfcUJIMtIR02UJ2x/l745QpIl1+zGb/Wr2fDwp7\n",
       "wTxwiBvKrD5ZzlgRYUpD/nGzB1CuV8dqGqxchzMTIs5sXcU/eJinNlA4roKhqbAX6lg7IPTxjvuz\n",
       "mNPujmKvzuNeWB/OPuNE16Dk238f7iySVOcC5HTnkN8r84F8EVfZi5T+i2dN7ii6cIIq3xcY0HxN\n",
       "7uFs61dcGnXjldVn5v4v649GB1EKl6Ki4hgNQl9lzm2t39x45L1gTt8J6t0SeweDKKJwKVorEuwP\n",
       "1IE/vvqhrMTJ0Bd/s/iemfqhJoqTddn9f1+9UH7CyVoMP37QTkWo0TP7HwfTX/i7nfDlSHni8BIn\n",
       "a1qSfdBOBShdC381KZSssWA69T0zFaDCD99M8aMUJWtdSn7w5xZ5KGEZKyWAZjhZO9IXq/hbKCMK\n",
       "st8D/Cgy3+OS+QAAAABJRU5ErkJggg==\n",
       "\" style=\"display:inline;vertical-align:middle;\" /></a><br>"
      ],
      "text/plain": [
       "<IPython.core.display.HTML object>"
      ]
     },
     "metadata": {},
     "output_type": "display_data"
    }
   ],
   "source": [
    "not_in_class_def = Forall((x, C), Equals(NotInClass(x, C), \n",
    "                                         Not(InClass(x, C))))"
   ]
  },
  {
   "cell_type": "code",
   "execution_count": 4,
   "metadata": {},
   "outputs": [
    {
     "name": "stdout",
     "output_type": "stream",
     "text": [
      "These axioms may now be imported from the theory package: proveit.logic.classes.membership\n"
     ]
    }
   ],
   "source": [
    "%end axioms"
   ]
  }
 ],
 "metadata": {
  "kernelspec": {
   "display_name": "Python 3",
   "language": "python",
   "name": "python3"
  }
 },
 "nbformat": 4,
 "nbformat_minor": 0
}