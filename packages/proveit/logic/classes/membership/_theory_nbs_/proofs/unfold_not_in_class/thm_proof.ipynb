{
 "cells": [
  {
   "cell_type": "markdown",
   "metadata": {},
   "source": [
    "Proof of <a class=\"ProveItLink\" href=\"../../../../../../_theory_nbs_/theory.ipynb\">proveit</a>.<a class=\"ProveItLink\" href=\"../../../../../_theory_nbs_/theory.ipynb\">logic</a>.<a class=\"ProveItLink\" href=\"../../../../_theory_nbs_/theory.ipynb\">classes</a>.<a class=\"ProveItLink\" href=\"../../theory.ipynb\">membership</a>.<a class=\"ProveItLink\" href=\"../../theorems.ipynb#unfold_not_in_class\">unfold_not_in_class</a> theorem\n",
    "========"
   ]
  },
  {
   "cell_type": "code",
   "execution_count": 1,
   "metadata": {},
   "outputs": [],
   "source": [
    "import proveit\n",
    "theory = proveit.Theory() # the theorem's theory"
   ]
  },
  {
   "cell_type": "code",
   "execution_count": 2,
   "metadata": {},
   "outputs": [
    {
     "data": {
      "text/html": [
       "With these <a href=\"allowed_presumptions.txt\">allowed</a>/<a href=\"disallowed_presumptions.txt\">disallowed</a> theorem/theory presumptions (e.g., to avoid circular dependencies), we begin our proof of<br><strong id=\"unfold_not_in_class\">unfold_not_in_class:</strong> <a class=\"ProveItLink\" href=\"../../../__pv_it/theorems/b619760467a5e16f5ba6f765474d8d5d27013de20/expr.ipynb\"><img src=\"data:image/png;base64,iVBORw0KGgoAAAANSUhEUgAAAN0AAAAmCAMAAAB3T27yAAAAPFBMVEX///8AAAAAAAAAAAAAAAAA\n",
       "AAAAAAAAAAAAAAAAAAAAAAAAAAAAAAAAAAAAAAAAAAAAAAAAAAAAAAAAAAAo1xBWAAAAE3RSTlMA\n",
       "q1RmmUTNIjK7EInv3XbP4duhPeprPQAAAAlwSFlzAAAOxAAADsQBlSsOGwAAA4dJREFUaN7VWYmS\n",
       "2yAMBSPMrd3W//+vBZvDsQEnoc26zM5OEiPg6XiSMCH3GzC9J6dnTW4/gL4rKd3t4bF5QJbeHJy0\n",
       "I/pX073RzWZEWttb++a06B8K2k8MZ8bkxSJuHHXLqGcp8+Mgmvqlaphy7cUW/3xgk9kWNqy4ZVuc\n",
       "46qtEtDsU8xh2o75sso1KkopIyIt6iCqMMABnrn4Q8bU7XTNlpfdwGKI1Alcsg2k5UNdJpPxhPqQ\n",
       "6aDtI/TFOkUrJ+Oi2eqYNMQgQgzDfCrN286jfrZC5fzYaWDOyZvbkjFlWs0/ZFGV86eirrPR0qNz\n",
       "PuMhXZglW0RCid304xyQ2aAQZz+VJ6CzUaFMjUi1NDuHEqf+Riyu+KjMn/IiJngCrA/Uk2kUOqlG\n",
       "PlVIsks237ZBigTK+c+kZxasqgj33Yag6V/N1SkYo02B3uEe9Yw8cRsCcHlUnIqJQKCa0KKKs0O7\n",
       "ev7I7j3ZZDbDq66+HUVZcoVOIv365k/IE3ucVRTLl/RM7qk9dkZJGfkEdpc/dupbICtrxYgNTpki\n",
       "JU1whQ68e1P9jHwPXbHdOhEfyb9iu7KTrKCLPDoTFldCBOH/DmEgpzq6PDvUBZo2w2gvnzzzEh0P\n",
       "fqeLxtxZpcUzTS3uJhdTXeQjFKGOneMe1PWDK89e9Yonv6zKE3WkAgFFHSwZihNqH0+NeNZe+mkf\n",
       "14V42XZWkbIoWzfP2RD66PJszvYP0I/VF6vyG083So90XJ+RNXh0fG/neTq3uisQ/gCuEG/KPbS4\n",
       "7Y6HsuNPTWLcZrNZqa9far3UEEqklF2VJ9J1apWoDw3eUhOwB0FNFT+EtgZfQgM/VOLpu+PnS5vS\n",
       "GlGaPbCBLs6WXkmRU/RW+GnTkvebttPi3K91uVGPlVj37kIc1CgsMfOaSdfT6Y3eHgNKVWb7nJI4\n",
       "Ben+CqciH6vbRqlgx2sh41rVOiA3GKo5aafV8LB9rdsuz/bu+FtWOKMmH+aIdgc0fqWl6BM9z/RC\n",
       "QeJxfCs/vJFicWH6fUubVsYblUSZqtOucv0SutzXy/mYXGv1JDYVD6PgeKRF7PXijLyErtQpHJDh\n",
       "210+Gw48M9TJ1Q/+t26A9cJHe+M737WbwSYaLbnzsJ2QlcjM/2y67guucMF1cbWFM7n3aPfu6rL3\n",
       "F1bcHJ12rROGN6u6L3rz13fV66FcZjLWvS9XjNx/CPmm1U/Z5A9jfBraxmAaPwAAAABJRU5ErkJg\n",
       "gg==\n",
       "\" style=\"display:inline;vertical-align:middle;\" /></a><br>(see <a class=\"ProveItLink\" href=\"../../../__pv_it/theorems/0da29acdfd29f0f35854db294fca92b45e569b120/dependencies.ipynb\">dependencies</a>)<br>"
      ],
      "text/plain": [
       "<IPython.core.display.HTML object>"
      ]
     },
     "metadata": {},
     "output_type": "display_data"
    },
    {
     "name": "stdout",
     "output_type": "stream",
     "text": [
      "unfold_not_in_class may now be readily provable (assuming required theorems are usable).  Simply execute \"%qed\".\n"
     ]
    }
   ],
   "source": [
    "%proving unfold_not_in_class"
   ]
  },
  {
   "cell_type": "code",
   "execution_count": null,
   "metadata": {},
   "outputs": [],
   "source": []
  }
 ],
 "metadata": {
  "kernelspec": {
   "display_name": "Python 3",
   "language": "python",
   "name": "python3"
  }
 },
 "nbformat": 4,
 "nbformat_minor": 0
}