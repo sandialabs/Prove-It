{
 "cells": [
  {
   "cell_type": "markdown",
   "metadata": {},
   "source": [
    "Proof of <a class=\"ProveItLink\" href=\"../../../../../../_theory_nbs_/theory.ipynb\">proveit</a>.<a class=\"ProveItLink\" href=\"../../../../../_theory_nbs_/theory.ipynb\">logic</a>.<a class=\"ProveItLink\" href=\"../../../../_theory_nbs_/theory.ipynb\">classes</a>.<a class=\"ProveItLink\" href=\"../../theory.ipynb\">membership</a>.<a class=\"ProveItLink\" href=\"../../theorems.ipynb#not_in_class_is_bool\">not_in_class_is_bool</a> theorem\n",
    "========"
   ]
  },
  {
   "cell_type": "code",
   "execution_count": 1,
   "metadata": {},
   "outputs": [],
   "source": [
    "import proveit\n",
    "theory = proveit.Theory() # the theorem's theory"
   ]
  },
  {
   "cell_type": "code",
   "execution_count": 2,
   "metadata": {},
   "outputs": [
    {
     "data": {
      "text/html": [
       "With these <a href=\"allowed_presumptions.txt\">allowed</a>/<a href=\"disallowed_presumptions.txt\">disallowed</a> theorem/theory presumptions (e.g., to avoid circular dependencies), we begin our proof of<br><strong id=\"not_in_class_is_bool\">not_in_class_is_bool:</strong> <a class=\"ProveItLink\" href=\"../../../__pv_it/theorems/f3bfa2ef16df4a8bd143938ac4bb9461de1814c70/expr.ipynb\"><img src=\"data:image/png;base64,iVBORw0KGgoAAAANSUhEUgAAAR0AAAArCAMAAABy4KxNAAAAP1BMVEX///8AAAAAAAAAAAAAAAAA\n",
       "AAAAAAAAAAAAAAAAAAAAAAAAAAAAAAAAAAAAAAAAAAAAAAAAAAAAAAAAAAAAAADFBd4eAAAAFHRS\n",
       "TlMAq1RmmUTNIjK7EInv3Xbp8+P3nXbhrUQAAAAJcEhZcwAADsQAAA7EAZUrDhsAAAR5SURBVGje\n",
       "5VqLctsgEOT9hrYp//+tBSEJkEBGStKRYiYTPPFyMsuxt+AAcNvGN/0xajjc98D/d3Oo7juNqcF4\n",
       "1L14njWSeWYspBkO17cRvhM5SNd9pwl4+LZyEkKIAQ9R3Kv5yUgJZyrRM8EJXVfhTsmkWN33Wv74\n",
       "zXwwLqYWIhYPpFlgJ8A0Dy+WrFzJ5/JOqUNw3feaPWJYWjFH8XHlMRlhB6N5P03whVGN7sSO2fTN\n",
       "zJD212/bTy5mlmShKYxR2/GhsT07858iHM+rw26lOqzuWyrLwq6Boh9D+3W9RcoahrfjG7kDOZ6l\n",
       "boKbyKA1+lYbS9e9cg4qoYv85jHnj1SJ+7zrVCJRFxLO9yoUVVk5CxcmJjiZhkp1fS5HK5iffeYB\n",
       "yyovfVh7Bx0gecJTDcHuKHV2b+KCzEYNCuxYZrwlqoBzuPy6Ss6QFeDsBD0WVT0OU8FelU9iW7Pj\n",
       "INFa6fUv1u/mjwoVYz1VdpjOYRM8rqqmn94Fr+k5Icq06mNukmq4iHrw5yP8SqWWJh5lnr/xRfWa\n",
       "B/l6/NTkhp3Y6QKO3Gc0mQ47gVcVtc/O9NLV1boqs2guRyg/wmYqkKhK1zq+mTvR7cgSzg438Avb\n",
       "Zsc3DKMXd1b8qHGjKFUZHZsVeMaJLNsk76wluZE9NEqZHVbCNWKXNZmMJwQQdhQpXdkrSQE0xTSj\n",
       "zDhA10dD26pZy4qvWoRlNb7LDnIlnJvLmqz8qVI0mjxL7U098kKRwA4tDStDuVSa1hIhP2k4zUJd\n",
       "KSRDDXYCQDtNavhQSW77VXIGjeTJLEu9ImGlEcHVfBT8oGqrSTWChCNoeRCztBovabmyjhkp8xl9\n",
       "C7/m+M9F8KMn3eWEZPvrhv9qOZ8E4Jxq7jA83+w/uo4fgl8oWP4cXo468qW+HdS5QitVWiRHh062\n",
       "Jw/Cn7iiOukE9HD5l7zu90srq01EtHPHEnjyEuLSnQW5lgunc20xJKr3IU/fKUj+5fCtPwf1h/X0\n",
       "XADlxfYwrhmxpDFT7up+d345m+b8q+F7f16zw31LNIWDUtJ2AIM3IBdMDEdIgMe1hj+v2REtt0OI\n",
       "6AewbgOK7AS/hp7Ah3OEh5++P6/ZKWRkHVlcbjcCsCRUGTTlDtbqCeRwAOXqIlv+vGYH+d3IUkUb\n",
       "ASTZSK0LaWTMIzYWnk424sifV+xgsxtJC5fQCJB8WwGKuSOIo8/QmsLNNv15J3fWkZjJqaF2gJQ7\n",
       "BSjpDtCPIEeY/CVp05/3dGcZKfQ2UaoASXcK0MyOuz813ADNJsOndM+ft2tWHlneHzcCzDUrgxI7\n",
       "4gHsgLD/kyEXBnX8+cbv8O3I4MDFgcFPtwoZhJhjWkoMntV6BuS1V1Y6SkpHZhf7eAi6faNqiJ3v\n",
       "O2fdvbaPsHP6jM7Aj278U7nANHin9l13gz+jOdg8pON2jiD2VuQA1ciG+C9B7Tsri96Lndb3WbJ3\n",
       "pkT2zcgJfnhX++O3o01DYMW7sQPwTnmoxrjlCLAG79dGv9mgFrxjg0NVnVsF3pOeof/9eqDV+Qd8\n",
       "PSR3dWNqeQAAAABJRU5ErkJggg==\n",
       "\" style=\"display:inline;vertical-align:middle;\" /></a><br>(see <a class=\"ProveItLink\" href=\"../../../__pv_it/theorems/320991ed97cdb1a6afafa1805270004d8ee04a510/dependencies.ipynb\">dependencies</a>)<br>"
      ],
      "text/plain": [
       "<IPython.core.display.HTML object>"
      ]
     },
     "metadata": {},
     "output_type": "display_data"
    }
   ],
   "source": [
    "%proving not_in_class_is_bool"
   ]
  },
  {
   "cell_type": "code",
   "execution_count": null,
   "metadata": {},
   "outputs": [],
   "source": []
  }
 ],
 "metadata": {
  "kernelspec": {
   "display_name": "Python 3",
   "language": "python",
   "name": "python3"
  }
 },
 "nbformat": 4,
 "nbformat_minor": 0
}