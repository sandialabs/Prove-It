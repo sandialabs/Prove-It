{
 "cells": [
  {
   "cell_type": "markdown",
   "metadata": {},
   "source": [
    "Proof of <a class=\"ProveItLink\" href=\"../../../../../../_theory_nbs_/theory.ipynb\">proveit</a>.<a class=\"ProveItLink\" href=\"../../../../../_theory_nbs_/theory.ipynb\">logic</a>.<a class=\"ProveItLink\" href=\"../../../../_theory_nbs_/theory.ipynb\">classes</a>.<a class=\"ProveItLink\" href=\"../../theory.ipynb\">membership</a>.<a class=\"ProveItLink\" href=\"../../theorems.ipynb#fold_not_in_class\">fold_not_in_class</a> theorem\n",
    "========"
   ]
  },
  {
   "cell_type": "code",
   "execution_count": 1,
   "metadata": {},
   "outputs": [],
   "source": [
    "import proveit\n",
    "theory = proveit.Theory() # the theorem's theory"
   ]
  },
  {
   "cell_type": "code",
   "execution_count": 2,
   "metadata": {},
   "outputs": [
    {
     "data": {
      "text/html": [
       "With these <a href=\"allowed_presumptions.txt\">allowed</a>/<a href=\"disallowed_presumptions.txt\">disallowed</a> theorem/theory presumptions (e.g., to avoid circular dependencies), we begin our proof of<br><strong id=\"fold_not_in_class\">fold_not_in_class:</strong> <a class=\"ProveItLink\" href=\"../../../__pv_it/theorems/7ed42dfbbadcde7c78e9ab7ac475c4b815bde0530/expr.ipynb\"><img src=\"data:image/png;base64,iVBORw0KGgoAAAANSUhEUgAAANwAAAArCAMAAAAkExYSAAAAP1BMVEX///8AAAAAAAAAAAAAAAAA\n",
       "AAAAAAAAAAAAAAAAAAAAAAAAAAAAAAAAAAAAAAAAAAAAAAAAAAAAAAAAAAAAAADFBd4eAAAAFHRS\n",
       "TlMAq1RmmUTNIjK7EInv3Xbp8+P3nXbhrUQAAAAJcEhZcwAADsQAAA7EAZUrDhsAAAN9SURBVGje\n",
       "1VkJcuMgEOQ+BdnN8v+3LuiWYTAkKsmiUqpYkAk9R0+DEfqwIX8x+5OFVw5PqtPCNNrhPj3x+pnQ\n",
       "+7ERW51WuDZrvMYYUySTEZ/QML565f5QGlGf3zZbCvrgU1wJc3QJ8uoMqe8PHHuTPK7iF+3UbCSM\n",
       "UaJsl8aW3A9uqAVGu68/DgytGJZy5LOV9ILO3hIfUHHwHriIOYcVOG/DGhvFZkAJ2ODSGOwHZKVd\n",
       "mMFjo+wul2TKr0pFyrBlrJldYFPBsfGDNmdsr+LbbYD/SsxJFF3vsUds2/BIdtRXApfP0eQLiZfH\n",
       "77E1dRMJdSs3hYpGJDSYvTXx2uQ8ZtYau7xxIad6MiyetPzEtHqPDuCTaRMp+uywRKXS+fsdHxOl\n",
       "88kNeiWgIex4c/mj8R3x59AJb24mlNXAjb/6I88f6JzMzEhWM24DR9SRNUUtnds7sGsvW8EraZk2\n",
       "ltLMmEODcxt7zOvUup5tablmD3FzixMn0Alj7WtVsR1rP4WJIzzstxlLzCO+mseuwJZLdNYyRHRK\n",
       "JDmcQCcm9DioGLqRvBEJyrAIju9VhSAbEQ8FL5Iwsg/fsK0M0MTg7/Q861lNNBhPw2KcCKMHxWTw\n",
       "Nzev9bhfYVhUzQft6c7gyJwNWkYoyXQHO5n+szqyZSI+POeZryp96c7DxkPfem3bWfSlyZnJj57/\n",
       "SoR3ZWVnM7HFvqGhYBzOLIYx6329xH9yyGFdkeiOtIG21H1m0Q2n0xeZg0B/BN5nyoRifUmg4fbS\n",
       "uX+PLZM5IDhZ3qvyWGteVkw332rkMgcEp4pdjjEFKyZ/NRzvmYw/oMwBwe1LaDXiaUUxiasPkDFT\n",
       "sY5qAJQ5IDgSciM7diiY0uxicHTUd6oic/SezKcx7psOuRG+VVXBFMbX19lOOZRkjgaIjITcCBUT\n",
       "elI0dXnk0rFwu4ouyRwI3KFtzUaUzcK0M3V1zckBWTE2amMBmaOBvr6x5WZkd1lSMHU5WzLPJ12j\n",
       "BlKWOXCfk5mRKIEUrJjCjX0OkDt9CsWMpFPWLkHdho2bTnDnaMvLmkIfuO5TwQfccGe1dVYkhEUP\n",
       "GmecxD92eFw8FdByhIh4ErZ4QMtjkb78K1epI48CV7q31BDdE/csbFGFZO0j3UEXe4pTDwOHaFZ1\n",
       "3FJaairUoseN1ts07tADB25qB9IZ9Eh0Td+sXtXi/gP5vxoTM0azBgAAAABJRU5ErkJggg==\n",
       "\" style=\"display:inline;vertical-align:middle;\" /></a><br>(see <a class=\"ProveItLink\" href=\"../../../__pv_it/theorems/37e7bebbb6c1c210f3620014c82c8f295bb8c88e0/dependencies.ipynb\">dependencies</a>)<br>"
      ],
      "text/plain": [
       "<IPython.core.display.HTML object>"
      ]
     },
     "metadata": {},
     "output_type": "display_data"
    },
    {
     "name": "stdout",
     "output_type": "stream",
     "text": [
      "fold_not_in_class may now be readily provable (assuming required theorems are usable).  Simply execute \"%qed\".\n"
     ]
    }
   ],
   "source": [
    "%proving fold_not_in_class"
   ]
  },
  {
   "cell_type": "code",
   "execution_count": null,
   "metadata": {},
   "outputs": [],
   "source": []
  }
 ],
 "metadata": {
  "kernelspec": {
   "display_name": "Python 3",
   "language": "python",
   "name": "python3"
  }
 },
 "nbformat": 4,
 "nbformat_minor": 0
}