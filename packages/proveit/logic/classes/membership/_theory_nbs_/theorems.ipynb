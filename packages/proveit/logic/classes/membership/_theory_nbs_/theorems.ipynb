{
 "cells": [
  {
   "cell_type": "markdown",
   "metadata": {},
   "source": [
    "Theorems (or conjectures) for the theory of <a class=\"ProveItLink\" href=\"theory.ipynb\">proveit.logic.classes.membership</a>\n",
    "========"
   ]
  },
  {
   "cell_type": "code",
   "execution_count": 1,
   "metadata": {},
   "outputs": [],
   "source": [
    "import proveit\n",
    "# Prepare this notebook for defining the theorems of a theory:\n",
    "%theorems_notebook # Keep this at the top following 'import proveit'.\n",
    "\n",
    "from proveit import x, C\n",
    "from proveit.logic import (\n",
    "    Forall, Not, in_bool, Equals, InClass, NotInClass)"
   ]
  },
  {
   "cell_type": "code",
   "execution_count": 2,
   "metadata": {},
   "outputs": [
    {
     "name": "stdout",
     "output_type": "stream",
     "text": [
      "Defining theorems for theory 'proveit.logic.classes.membership'\n",
      "Subsequent end-of-cell assignments will define theorems\n",
      "'%end theorems' will finalize the definitions\n"
     ]
    }
   ],
   "source": [
    "%begin theorems"
   ]
  },
  {
   "cell_type": "code",
   "execution_count": 3,
   "metadata": {},
   "outputs": [
    {
     "data": {
      "text/html": [
       "<strong id=\"not_in_class_is_bool\"><a class=\"ProveItLink\" href=\"proofs/not_in_class_is_bool/thm_proof.ipynb\">not_in_class_is_bool</a> (conjecture without proof):<br></strong> <a class=\"ProveItLink\" href=\"../__pv_it/theorems/320991ed97cdb1a6afafa1805270004d8ee04a510/theorem_expr.ipynb\"><img src=\"data:image/png;base64,iVBORw0KGgoAAAANSUhEUgAAAR0AAAArCAMAAABy4KxNAAAAP1BMVEX///8AAAAAAAAAAAAAAAAA\n",
       "AAAAAAAAAAAAAAAAAAAAAAAAAAAAAAAAAAAAAAAAAAAAAAAAAAAAAAAAAAAAAADFBd4eAAAAFHRS\n",
       "TlMAq1RmmUTNIjK7EInv3Xbp8+P3nXbhrUQAAAAJcEhZcwAADsQAAA7EAZUrDhsAAAR5SURBVGje\n",
       "5VqLctsgEOT9hrYp//+tBSEJkEBGStKRYiYTPPFyMsuxt+AAcNvGN/0xajjc98D/d3Oo7juNqcF4\n",
       "1L14njWSeWYspBkO17cRvhM5SNd9pwl4+LZyEkKIAQ9R3Kv5yUgJZyrRM8EJXVfhTsmkWN33Wv74\n",
       "zXwwLqYWIhYPpFlgJ8A0Dy+WrFzJ5/JOqUNw3feaPWJYWjFH8XHlMRlhB6N5P03whVGN7sSO2fTN\n",
       "zJD212/bTy5mlmShKYxR2/GhsT07858iHM+rw26lOqzuWyrLwq6Boh9D+3W9RcoahrfjG7kDOZ6l\n",
       "boKbyKA1+lYbS9e9cg4qoYv85jHnj1SJ+7zrVCJRFxLO9yoUVVk5CxcmJjiZhkp1fS5HK5iffeYB\n",
       "yyovfVh7Bx0gecJTDcHuKHV2b+KCzEYNCuxYZrwlqoBzuPy6Ss6QFeDsBD0WVT0OU8FelU9iW7Pj\n",
       "INFa6fUv1u/mjwoVYz1VdpjOYRM8rqqmn94Fr+k5Icq06mNukmq4iHrw5yP8SqWWJh5lnr/xRfWa\n",
       "B/l6/NTkhp3Y6QKO3Gc0mQ47gVcVtc/O9NLV1boqs2guRyg/wmYqkKhK1zq+mTvR7cgSzg438Avb\n",
       "Zsc3DKMXd1b8qHGjKFUZHZsVeMaJLNsk76wluZE9NEqZHVbCNWKXNZmMJwQQdhQpXdkrSQE0xTSj\n",
       "zDhA10dD26pZy4qvWoRlNb7LDnIlnJvLmqz8qVI0mjxL7U098kKRwA4tDStDuVSa1hIhP2k4zUJd\n",
       "KSRDDXYCQDtNavhQSW77VXIGjeTJLEu9ImGlEcHVfBT8oGqrSTWChCNoeRCztBovabmyjhkp8xl9\n",
       "C7/m+M9F8KMn3eWEZPvrhv9qOZ8E4Jxq7jA83+w/uo4fgl8oWP4cXo468qW+HdS5QitVWiRHh062\n",
       "Jw/Cn7iiOukE9HD5l7zu90srq01EtHPHEnjyEuLSnQW5lgunc20xJKr3IU/fKUj+5fCtPwf1h/X0\n",
       "XADlxfYwrhmxpDFT7up+d345m+b8q+F7f16zw31LNIWDUtJ2AIM3IBdMDEdIgMe1hj+v2REtt0OI\n",
       "6AewbgOK7AS/hp7Ah3OEh5++P6/ZKWRkHVlcbjcCsCRUGTTlDtbqCeRwAOXqIlv+vGYH+d3IUkUb\n",
       "ASTZSK0LaWTMIzYWnk424sifV+xgsxtJC5fQCJB8WwGKuSOIo8/QmsLNNv15J3fWkZjJqaF2gJQ7\n",
       "BSjpDtCPIEeY/CVp05/3dGcZKfQ2UaoASXcK0MyOuz813ADNJsOndM+ft2tWHlneHzcCzDUrgxI7\n",
       "4gHsgLD/kyEXBnX8+cbv8O3I4MDFgcFPtwoZhJhjWkoMntV6BuS1V1Y6SkpHZhf7eAi6faNqiJ3v\n",
       "O2fdvbaPsHP6jM7Aj278U7nANHin9l13gz+jOdg8pON2jiD2VuQA1ciG+C9B7Tsri96Lndb3WbJ3\n",
       "pkT2zcgJfnhX++O3o01DYMW7sQPwTnmoxrjlCLAG79dGv9mgFrxjg0NVnVsF3pOeof/9eqDV+Qd8\n",
       "PSR3dWNqeQAAAABJRU5ErkJggg==\n",
       "\" style=\"display:inline;vertical-align:middle;\" /></a><br>"
      ],
      "text/plain": [
       "<IPython.core.display.HTML object>"
      ]
     },
     "metadata": {},
     "output_type": "display_data"
    }
   ],
   "source": [
    "not_in_class_is_bool = Forall(\n",
    "    (x, C), in_bool(NotInClass(x, C)), \n",
    "    conditions=[in_bool(InClass(x, C))] )"
   ]
  },
  {
   "cell_type": "code",
   "execution_count": 4,
   "metadata": {},
   "outputs": [
    {
     "data": {
      "text/html": [
       "<strong id=\"unfold_not_in_class\"><a class=\"ProveItLink\" href=\"proofs/unfold_not_in_class/thm_proof.ipynb\">unfold_not_in_class</a> (conjecture without proof):<br></strong> <a class=\"ProveItLink\" href=\"../__pv_it/theorems/0da29acdfd29f0f35854db294fca92b45e569b120/theorem_expr.ipynb\"><img src=\"data:image/png;base64,iVBORw0KGgoAAAANSUhEUgAAAN0AAAAmCAMAAAB3T27yAAAAPFBMVEX///8AAAAAAAAAAAAAAAAA\n",
       "AAAAAAAAAAAAAAAAAAAAAAAAAAAAAAAAAAAAAAAAAAAAAAAAAAAAAAAAAAAo1xBWAAAAE3RSTlMA\n",
       "q1RmmUTNIjK7EInv3XbP4duhPeprPQAAAAlwSFlzAAAOxAAADsQBlSsOGwAAA4dJREFUaN7VWYmS\n",
       "2yAMBSPMrd3W//+vBZvDsQEnoc26zM5OEiPg6XiSMCH3GzC9J6dnTW4/gL4rKd3t4bF5QJbeHJy0\n",
       "I/pX073RzWZEWttb++a06B8K2k8MZ8bkxSJuHHXLqGcp8+Mgmvqlaphy7cUW/3xgk9kWNqy4ZVuc\n",
       "46qtEtDsU8xh2o75sso1KkopIyIt6iCqMMABnrn4Q8bU7XTNlpfdwGKI1Alcsg2k5UNdJpPxhPqQ\n",
       "6aDtI/TFOkUrJ+Oi2eqYNMQgQgzDfCrN286jfrZC5fzYaWDOyZvbkjFlWs0/ZFGV86eirrPR0qNz\n",
       "PuMhXZglW0RCid304xyQ2aAQZz+VJ6CzUaFMjUi1NDuHEqf+Riyu+KjMn/IiJngCrA/Uk2kUOqlG\n",
       "PlVIsks237ZBigTK+c+kZxasqgj33Yag6V/N1SkYo02B3uEe9Yw8cRsCcHlUnIqJQKCa0KKKs0O7\n",
       "ev7I7j3ZZDbDq66+HUVZcoVOIv365k/IE3ucVRTLl/RM7qk9dkZJGfkEdpc/dupbICtrxYgNTpki\n",
       "JU1whQ68e1P9jHwPXbHdOhEfyb9iu7KTrKCLPDoTFldCBOH/DmEgpzq6PDvUBZo2w2gvnzzzEh0P\n",
       "fqeLxtxZpcUzTS3uJhdTXeQjFKGOneMe1PWDK89e9Yonv6zKE3WkAgFFHSwZihNqH0+NeNZe+mkf\n",
       "14V42XZWkbIoWzfP2RD66PJszvYP0I/VF6vyG083So90XJ+RNXh0fG/neTq3uisQ/gCuEG/KPbS4\n",
       "7Y6HsuNPTWLcZrNZqa9far3UEEqklF2VJ9J1apWoDw3eUhOwB0FNFT+EtgZfQgM/VOLpu+PnS5vS\n",
       "GlGaPbCBLs6WXkmRU/RW+GnTkvebttPi3K91uVGPlVj37kIc1CgsMfOaSdfT6Y3eHgNKVWb7nJI4\n",
       "Ben+CqciH6vbRqlgx2sh41rVOiA3GKo5aafV8LB9rdsuz/bu+FtWOKMmH+aIdgc0fqWl6BM9z/RC\n",
       "QeJxfCs/vJFicWH6fUubVsYblUSZqtOucv0SutzXy/mYXGv1JDYVD6PgeKRF7PXijLyErtQpHJDh\n",
       "210+Gw48M9TJ1Q/+t26A9cJHe+M737WbwSYaLbnzsJ2QlcjM/2y67guucMF1cbWFM7n3aPfu6rL3\n",
       "F1bcHJ12rROGN6u6L3rz13fV66FcZjLWvS9XjNx/CPmm1U/Z5A9jfBraxmAaPwAAAABJRU5ErkJg\n",
       "gg==\n",
       "\" style=\"display:inline;vertical-align:middle;\" /></a><br>"
      ],
      "text/plain": [
       "<IPython.core.display.HTML object>"
      ]
     },
     "metadata": {},
     "output_type": "display_data"
    }
   ],
   "source": [
    "unfold_not_in_class = Forall(\n",
    "    (x, C), Not(InClass(x, C)), conditions=[NotInClass(x, C)])"
   ]
  },
  {
   "cell_type": "code",
   "execution_count": 5,
   "metadata": {},
   "outputs": [
    {
     "data": {
      "text/html": [
       "<strong id=\"fold_not_in_class\"><a class=\"ProveItLink\" href=\"proofs/fold_not_in_class/thm_proof.ipynb\">fold_not_in_class</a> (conjecture without proof):<br></strong> <a class=\"ProveItLink\" href=\"../__pv_it/theorems/37e7bebbb6c1c210f3620014c82c8f295bb8c88e0/theorem_expr.ipynb\"><img src=\"data:image/png;base64,iVBORw0KGgoAAAANSUhEUgAAANwAAAArCAMAAAAkExYSAAAAP1BMVEX///8AAAAAAAAAAAAAAAAA\n",
       "AAAAAAAAAAAAAAAAAAAAAAAAAAAAAAAAAAAAAAAAAAAAAAAAAAAAAAAAAAAAAADFBd4eAAAAFHRS\n",
       "TlMAq1RmmUTNIjK7EInv3Xbp8+P3nXbhrUQAAAAJcEhZcwAADsQAAA7EAZUrDhsAAAN9SURBVGje\n",
       "1VkJcuMgEOQ+BdnN8v+3LuiWYTAkKsmiUqpYkAk9R0+DEfqwIX8x+5OFVw5PqtPCNNrhPj3x+pnQ\n",
       "+7ERW51WuDZrvMYYUySTEZ/QML565f5QGlGf3zZbCvrgU1wJc3QJ8uoMqe8PHHuTPK7iF+3UbCSM\n",
       "UaJsl8aW3A9uqAVGu68/DgytGJZy5LOV9ILO3hIfUHHwHriIOYcVOG/DGhvFZkAJ2ODSGOwHZKVd\n",
       "mMFjo+wul2TKr0pFyrBlrJldYFPBsfGDNmdsr+LbbYD/SsxJFF3vsUds2/BIdtRXApfP0eQLiZfH\n",
       "77E1dRMJdSs3hYpGJDSYvTXx2uQ8ZtYau7xxIad6MiyetPzEtHqPDuCTaRMp+uywRKXS+fsdHxOl\n",
       "88kNeiWgIex4c/mj8R3x59AJb24mlNXAjb/6I88f6JzMzEhWM24DR9SRNUUtnds7sGsvW8EraZk2\n",
       "ltLMmEODcxt7zOvUup5tablmD3FzixMn0Alj7WtVsR1rP4WJIzzstxlLzCO+mseuwJZLdNYyRHRK\n",
       "JDmcQCcm9DioGLqRvBEJyrAIju9VhSAbEQ8FL5Iwsg/fsK0M0MTg7/Q861lNNBhPw2KcCKMHxWTw\n",
       "Nzev9bhfYVhUzQft6c7gyJwNWkYoyXQHO5n+szqyZSI+POeZryp96c7DxkPfem3bWfSlyZnJj57/\n",
       "SoR3ZWVnM7HFvqGhYBzOLIYx6329xH9yyGFdkeiOtIG21H1m0Q2n0xeZg0B/BN5nyoRifUmg4fbS\n",
       "uX+PLZM5IDhZ3qvyWGteVkw332rkMgcEp4pdjjEFKyZ/NRzvmYw/oMwBwe1LaDXiaUUxiasPkDFT\n",
       "sY5qAJQ5IDgSciM7diiY0uxicHTUd6oic/SezKcx7psOuRG+VVXBFMbX19lOOZRkjgaIjITcCBUT\n",
       "elI0dXnk0rFwu4ouyRwI3KFtzUaUzcK0M3V1zckBWTE2amMBmaOBvr6x5WZkd1lSMHU5WzLPJ12j\n",
       "BlKWOXCfk5mRKIEUrJjCjX0OkDt9CsWMpFPWLkHdho2bTnDnaMvLmkIfuO5TwQfccGe1dVYkhEUP\n",
       "GmecxD92eFw8FdByhIh4ErZ4QMtjkb78K1epI48CV7q31BDdE/csbFGFZO0j3UEXe4pTDwOHaFZ1\n",
       "3FJaairUoseN1ts07tADB25qB9IZ9Eh0Td+sXtXi/gP5vxoTM0azBgAAAABJRU5ErkJggg==\n",
       "\" style=\"display:inline;vertical-align:middle;\" /></a><br>"
      ],
      "text/plain": [
       "<IPython.core.display.HTML object>"
      ]
     },
     "metadata": {},
     "output_type": "display_data"
    }
   ],
   "source": [
    "fold_not_in_class = Forall(\n",
    "    (x, C), NotInClass(x, C), conditions=[Not(InClass(x, C))])"
   ]
  },
  {
   "cell_type": "code",
   "execution_count": 6,
   "metadata": {},
   "outputs": [
    {
     "name": "stdout",
     "output_type": "stream",
     "text": [
      "These theorems may now be imported from the theory package: proveit.logic.classes.membership\n"
     ]
    }
   ],
   "source": [
    "%end theorems"
   ]
  }
 ],
 "metadata": {
  "kernelspec": {
   "display_name": "Python 3",
   "language": "python",
   "name": "python3"
  }
 },
 "nbformat": 4,
 "nbformat_minor": 0
}