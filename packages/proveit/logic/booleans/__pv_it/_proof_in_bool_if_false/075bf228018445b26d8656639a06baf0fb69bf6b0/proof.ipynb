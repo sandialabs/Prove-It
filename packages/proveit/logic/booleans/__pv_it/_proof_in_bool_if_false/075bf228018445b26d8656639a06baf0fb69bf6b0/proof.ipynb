{
 "cells": [
  {
   "cell_type": "markdown",
   "metadata": {},
   "source": [
    "Show the Proof\n",
    "========"
   ]
  },
  {
   "cell_type": "code",
   "execution_count": 1,
   "metadata": {},
   "outputs": [
    {
     "data": {
      "text/html": [
       "<table><tr><th>&nbsp;</th><th>step type</th><th>requirements</th><th>statement</th></tr>\n",
       "<tr><td><a name=\"proveit.logic.booleans._proof_in_bool_if_false.075bf228018445b26d8656639a06baf0fb69bf6b0_step0\">0</a></td><td>generalization</td><td><a href=\"#proveit.logic.booleans._proof_in_bool_if_false.075bf228018445b26d8656639a06baf0fb69bf6b0_step1\">1</a></td><td><span style=\"font-size:20px;\"> <a class=\"ProveItLink\" href=\"proof.ipynb\" style=\"text-decoration: none\">&nbsp;&#x22A2;&nbsp;&nbsp;</a><a class=\"ProveItLink\" href=\"../../theorems/a2b8a2e2dfd32d0bf3695b9c33787323fc46955c0/expr.ipynb\"><img src=\"../../theorems/a2b8a2e2dfd32d0bf3695b9c33787323fc46955c0/expr.png\" style=\"display:inline;vertical-align:middle;\" /></a></span></td></tr>\n",
       "<tr><td><a name=\"proveit.logic.booleans._proof_in_bool_if_false.075bf228018445b26d8656639a06baf0fb69bf6b0_step1\">1</a></td><td>instantiation</td><td><a href=\"#proveit.logic.booleans._proof_in_bool_if_false.075bf228018445b26d8656639a06baf0fb69bf6b0_step2\">2</a>, <a href=\"#proveit.logic.booleans._proof_in_bool_if_false.075bf228018445b26d8656639a06baf0fb69bf6b0_step3\">3</a></td><td><span style=\"font-size:20px;\"><a class=\"ProveItLink\" href=\"../../theorems/c6244e76de3be0816f3efc36199d65e50f6589940/expr.ipynb\"><img src=\"../../theorems/c6244e76de3be0816f3efc36199d65e50f6589940/expr.png\" style=\"display:inline;vertical-align:middle;\" /></a> <a class=\"ProveItLink\" href=\"../df10f4a523c22dc178025f3e375da5e9e0ab40000/proof.ipynb\" style=\"text-decoration: none\">&nbsp;&#x22A2;&nbsp;&nbsp;</a><a class=\"ProveItLink\" href=\"../../theorems/a10dbfd9a4efbb6f30af430036ab01697a9460f80/expr.ipynb\"><img src=\"../../theorems/a10dbfd9a4efbb6f30af430036ab01697a9460f80/expr.png\" style=\"display:inline;vertical-align:middle;\" /></a></span></td></tr>\n",
       "<tr><td>&nbsp;</td><td colspan=4 style=\"text-align:left\"><span style=\"font-size:20px;\"><a class=\"ProveItLink\" href=\"../../../../../__pv_it/common/09585084922504426caf1db2ff588a23a0932a960/expr.ipynb\"><img src=\"../../../../../__pv_it/common/09585084922504426caf1db2ff588a23a0932a960/expr.png\" style=\"display:inline;vertical-align:middle;\" /></a> : <a class=\"ProveItLink\" href=\"../../../../../__pv_it/common/09585084922504426caf1db2ff588a23a0932a960/expr.ipynb\"><img src=\"../../../../../__pv_it/common/09585084922504426caf1db2ff588a23a0932a960/expr.png\" style=\"display:inline;vertical-align:middle;\" /></a></span></td></tr><tr><td><a name=\"proveit.logic.booleans._proof_in_bool_if_false.075bf228018445b26d8656639a06baf0fb69bf6b0_step2\">2</a></td><td>axiom</td><td></td><td><span style=\"font-size:20px;\"> <a class=\"ProveItLink\" href=\"../../../negation/_theory_nbs_/axioms.ipynb#operand_is_bool\" style=\"text-decoration: none\">&nbsp;&#x22A2;&nbsp;&nbsp;</a><a class=\"ProveItLink\" href=\"../../../negation/__pv_it/axioms/9b3df63ea9b96f801a3dadc45f3be22470f1b8ac0/expr.ipynb\"><img src=\"../../../negation/__pv_it/axioms/9b3df63ea9b96f801a3dadc45f3be22470f1b8ac0/expr.png\" style=\"display:inline;vertical-align:middle;\" /></a></span></td></tr>\n",
       "<tr><td>&nbsp;</td><td colspan=4 style-\"text-align:left\"><a class=\"ProveItLink\" href=\"../../../negation/_theory_nbs_/axioms.ipynb#operand_is_bool\">proveit.logic.booleans.negation.operand_is_bool</a></td></tr><tr><td><a name=\"proveit.logic.booleans._proof_in_bool_if_false.075bf228018445b26d8656639a06baf0fb69bf6b0_step3\">3</a></td><td>instantiation</td><td><a href=\"#proveit.logic.booleans._proof_in_bool_if_false.075bf228018445b26d8656639a06baf0fb69bf6b0_step4\">4</a>, <a href=\"#proveit.logic.booleans._proof_in_bool_if_false.075bf228018445b26d8656639a06baf0fb69bf6b0_step5\">5</a></td><td><span style=\"font-size:20px;\"><a class=\"ProveItLink\" href=\"../../theorems/c6244e76de3be0816f3efc36199d65e50f6589940/expr.ipynb\"><img src=\"../../theorems/c6244e76de3be0816f3efc36199d65e50f6589940/expr.png\" style=\"display:inline;vertical-align:middle;\" /></a> <a class=\"ProveItLink\" href=\"../99b2b11692bd8cde11bdd165bbacd330c05b8fa50/proof.ipynb\" style=\"text-decoration: none\">&nbsp;&#x22A2;&nbsp;&nbsp;</a><a class=\"ProveItLink\" href=\"../../../negation/__pv_it/axioms/17c0164fb2929846c093a14e1eac9efc4bc02ac00/expr.ipynb\"><img src=\"../../../negation/__pv_it/axioms/17c0164fb2929846c093a14e1eac9efc4bc02ac00/expr.png\" style=\"display:inline;vertical-align:middle;\" /></a></span></td></tr>\n",
       "<tr><td>&nbsp;</td><td colspan=4 style=\"text-align:left\"><span style=\"font-size:20px;\"><a class=\"ProveItLink\" href=\"../../../../../__pv_it/common/09585084922504426caf1db2ff588a23a0932a960/expr.ipynb\"><img src=\"../../../../../__pv_it/common/09585084922504426caf1db2ff588a23a0932a960/expr.png\" style=\"display:inline;vertical-align:middle;\" /></a> : <a class=\"ProveItLink\" href=\"../../theorems/c6244e76de3be0816f3efc36199d65e50f6589940/expr.ipynb\"><img src=\"../../theorems/c6244e76de3be0816f3efc36199d65e50f6589940/expr.png\" style=\"display:inline;vertical-align:middle;\" /></a></span></td></tr><tr><td><a name=\"proveit.logic.booleans._proof_in_bool_if_false.075bf228018445b26d8656639a06baf0fb69bf6b0_step4\">4</a></td><td>theorem</td><td></td><td><span style=\"font-size:20px;\"> <a class=\"ProveItLink\" href=\"../../../_theory_nbs_/proofs/in_bool_if_true/thm_proof.ipynb\" style=\"text-decoration: none\">&nbsp;&#x22A2;&nbsp;&nbsp;</a><a class=\"ProveItLink\" href=\"../../theorems/858f6fea2a9d198e3a6e9cbe3c54c9eff7cff4060/expr.ipynb\"><img src=\"../../theorems/858f6fea2a9d198e3a6e9cbe3c54c9eff7cff4060/expr.png\" style=\"display:inline;vertical-align:middle;\" /></a></span></td></tr>\n",
       "<tr><td>&nbsp;</td><td colspan=4 style-\"text-align:left\"><a class=\"ProveItLink\" href=\"../../../_theory_nbs_/proofs/in_bool_if_true/thm_proof.ipynb\">proveit.logic.booleans.in_bool_if_true</a></td></tr><tr><td><a name=\"proveit.logic.booleans._proof_in_bool_if_false.075bf228018445b26d8656639a06baf0fb69bf6b0_step5\">5</a></td><td>assumption</td><td></td><td><span style=\"font-size:20px;\"><a class=\"ProveItLink\" href=\"../../theorems/c6244e76de3be0816f3efc36199d65e50f6589940/expr.ipynb\"><img src=\"../../theorems/c6244e76de3be0816f3efc36199d65e50f6589940/expr.png\" style=\"display:inline;vertical-align:middle;\" /></a> <a class=\"ProveItLink\" href=\"../643fab3eed3bf565a0613783f8e49903b513aa8f0/proof.ipynb\" style=\"text-decoration: none\">&nbsp;&#x22A2;&nbsp;&nbsp;</a><a class=\"ProveItLink\" href=\"../../theorems/c6244e76de3be0816f3efc36199d65e50f6589940/expr.ipynb\"><img src=\"../../theorems/c6244e76de3be0816f3efc36199d65e50f6589940/expr.png\" style=\"display:inline;vertical-align:middle;\" /></a></span></td></tr>\n",
       "</table>"
      ],
      "text/plain": [
       "<proveit._core_.proof._ShowProof at 0x7f930c580f98>"
      ]
     },
     "execution_count": 1,
     "metadata": {},
     "output_type": "execute_result"
    }
   ],
   "source": [
    "import proveit\n",
    "# Automation is not needed when only showing a stored proof:\n",
    "proveit.defaults.automation = False # This will speed things up.\n",
    "proveit.defaults.inline_pngs = False # Makes files smaller.\n",
    "%show_proof"
   ]
  },
  {
   "cell_type": "code",
   "execution_count": null,
   "metadata": {},
   "outputs": [],
   "source": []
  }
 ],
 "metadata": {
  "kernelspec": {
   "display_name": "Python 3",
   "language": "python",
   "name": "python3"
  }
 },
 "nbformat": 4,
 "nbformat_minor": 0
}