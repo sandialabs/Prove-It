{
 "cells": [
  {
   "cell_type": "markdown",
   "metadata": {},
   "source": [
    "Show the Proof\n",
    "========"
   ]
  },
  {
   "cell_type": "code",
   "execution_count": 1,
   "metadata": {},
   "outputs": [
    {
     "data": {
      "text/html": [
       "<table><tr><th>&nbsp;</th><th>step type</th><th>requirements</th><th>statement</th></tr>\n",
       "<tr><td><a name=\"proveit.logic.booleans._proof_not_equals_true.7bd9b79a6d61799185c65832714a82b19e6849cd0_step0\">0</a></td><td>generalization</td><td><a href=\"#proveit.logic.booleans._proof_not_equals_true.7bd9b79a6d61799185c65832714a82b19e6849cd0_step1\">1</a></td><td><span style=\"font-size:20px;\"> <a class=\"ProveItLink\" href=\"proof.ipynb\" style=\"text-decoration: none\">&nbsp;&#x22A2;&nbsp;&nbsp;</a><a class=\"ProveItLink\" href=\"../../theorems/b81279305ef5bf92e6ddf38d9965bf29373d3b1c0/expr.ipynb\"><img src=\"../../theorems/b81279305ef5bf92e6ddf38d9965bf29373d3b1c0/expr.png\" style=\"display:inline;vertical-align:middle;\" /></a></span></td></tr>\n",
       "<tr><td><a name=\"proveit.logic.booleans._proof_not_equals_true.7bd9b79a6d61799185c65832714a82b19e6849cd0_step1\">1</a></td><td>instantiation</td><td><a href=\"#proveit.logic.booleans._proof_not_equals_true.7bd9b79a6d61799185c65832714a82b19e6849cd0_step2\">2</a>, <a href=\"#proveit.logic.booleans._proof_not_equals_true.7bd9b79a6d61799185c65832714a82b19e6849cd0_step3\">3</a>, <a href=\"#proveit.logic.booleans._proof_not_equals_true.7bd9b79a6d61799185c65832714a82b19e6849cd0_step4\">4</a></td><td><span style=\"font-size:20px;\"><a class=\"ProveItLink\" href=\"../../theorems/c6244e76de3be0816f3efc36199d65e50f6589940/expr.ipynb\"><img src=\"../../theorems/c6244e76de3be0816f3efc36199d65e50f6589940/expr.png\" style=\"display:inline;vertical-align:middle;\" /></a> <a class=\"ProveItLink\" href=\"../4b248976d74347085cf3fa817ba0deb1ed3408560/proof.ipynb\" style=\"text-decoration: none\">&nbsp;&#x22A2;&nbsp;&nbsp;</a><a class=\"ProveItLink\" href=\"../../theorems/c45506d7833eb46613c79d38c2faf35513f61f020/expr.ipynb\"><img src=\"../../theorems/c45506d7833eb46613c79d38c2faf35513f61f020/expr.png\" style=\"display:inline;vertical-align:middle;\" /></a></span></td></tr>\n",
       "<tr><td>&nbsp;</td><td colspan=4 style=\"text-align:left\"><span style=\"font-size:20px;\"><a class=\"ProveItLink\" href=\"../1d99392da58b40374b949787020ddefb47f454cd0/expr.ipynb\"><img src=\"../1d99392da58b40374b949787020ddefb47f454cd0/expr.png\" style=\"display:inline;vertical-align:middle;\" /></a> : <a class=\"ProveItLink\" href=\"../133dbd1dbfc8306ddc771d6fb4025fbd4a0e9dd00/expr.ipynb\"><img src=\"../133dbd1dbfc8306ddc771d6fb4025fbd4a0e9dd00/expr.png\" style=\"display:inline;vertical-align:middle;\" /></a>, <a class=\"ProveItLink\" href=\"../../../../../__pv_it/common/a0d9d672aa5e272d907247690c152cc2c6daafb70/expr.ipynb\"><img src=\"../../../../../__pv_it/common/a0d9d672aa5e272d907247690c152cc2c6daafb70/expr.png\" style=\"display:inline;vertical-align:middle;\" /></a> : <a class=\"ProveItLink\" href=\"../../../../../__pv_it/common/09585084922504426caf1db2ff588a23a0932a960/expr.ipynb\"><img src=\"../../../../../__pv_it/common/09585084922504426caf1db2ff588a23a0932a960/expr.png\" style=\"display:inline;vertical-align:middle;\" /></a></span></td></tr><tr><td><a name=\"proveit.logic.booleans._proof_not_equals_true.7bd9b79a6d61799185c65832714a82b19e6849cd0_step2\">2</a></td><td>theorem</td><td></td><td><span style=\"font-size:20px;\"> <a class=\"ProveItLink\" href=\"../../../../equality/_theory_nbs_/proofs/substitute_falsehood/thm_proof.ipynb\" style=\"text-decoration: none\">&nbsp;&#x22A2;&nbsp;&nbsp;</a><a class=\"ProveItLink\" href=\"../../../../equality/__pv_it/theorems/128874444b592da08dbd53e29120fb089ebf8c360/expr.ipynb\"><img src=\"../../../../equality/__pv_it/theorems/128874444b592da08dbd53e29120fb089ebf8c360/expr.png\" style=\"display:inline;vertical-align:middle;\" /></a></span></td></tr>\n",
       "<tr><td>&nbsp;</td><td colspan=4 style-\"text-align:left\"><a class=\"ProveItLink\" href=\"../../../../equality/_theory_nbs_/proofs/substitute_falsehood/thm_proof.ipynb\">proveit.logic.equality.substitute_falsehood</a></td></tr><tr><td><a name=\"proveit.logic.booleans._proof_not_equals_true.7bd9b79a6d61799185c65832714a82b19e6849cd0_step3\">3</a></td><td>axiom</td><td></td><td><span style=\"font-size:20px;\"> <a class=\"ProveItLink\" href=\"../../../_theory_nbs_/axioms.ipynb#false_not_true\" style=\"text-decoration: none\">&nbsp;&#x22A2;&nbsp;&nbsp;</a><a class=\"ProveItLink\" href=\"../../axioms/eb8cfde2511c6ba3e5c8a65a4e82d309baeb3e560/expr.ipynb\"><img src=\"../../axioms/eb8cfde2511c6ba3e5c8a65a4e82d309baeb3e560/expr.png\" style=\"display:inline;vertical-align:middle;\" /></a></span></td></tr>\n",
       "<tr><td>&nbsp;</td><td colspan=4 style-\"text-align:left\"><a class=\"ProveItLink\" href=\"../../../_theory_nbs_/axioms.ipynb#false_not_true\">proveit.logic.booleans.false_not_true</a></td></tr><tr><td><a name=\"proveit.logic.booleans._proof_not_equals_true.7bd9b79a6d61799185c65832714a82b19e6849cd0_step4\">4</a></td><td>assumption</td><td></td><td><span style=\"font-size:20px;\"><a class=\"ProveItLink\" href=\"../../theorems/c6244e76de3be0816f3efc36199d65e50f6589940/expr.ipynb\"><img src=\"../../theorems/c6244e76de3be0816f3efc36199d65e50f6589940/expr.png\" style=\"display:inline;vertical-align:middle;\" /></a> <a class=\"ProveItLink\" href=\"../643fab3eed3bf565a0613783f8e49903b513aa8f0/proof.ipynb\" style=\"text-decoration: none\">&nbsp;&#x22A2;&nbsp;&nbsp;</a><a class=\"ProveItLink\" href=\"../../theorems/c6244e76de3be0816f3efc36199d65e50f6589940/expr.ipynb\"><img src=\"../../theorems/c6244e76de3be0816f3efc36199d65e50f6589940/expr.png\" style=\"display:inline;vertical-align:middle;\" /></a></span></td></tr>\n",
       "</table>"
      ],
      "text/plain": [
       "<proveit._core_.proof._ShowProof at 0x7f75e668ba20>"
      ]
     },
     "execution_count": 1,
     "metadata": {},
     "output_type": "execute_result"
    }
   ],
   "source": [
    "import proveit\n",
    "# Automation is not needed when only showing a stored proof:\n",
    "proveit.defaults.automation = False # This will speed things up.\n",
    "proveit.defaults.inline_pngs = False # Makes files smaller.\n",
    "%show_proof"
   ]
  },
  {
   "cell_type": "code",
   "execution_count": null,
   "metadata": {},
   "outputs": [],
   "source": []
  }
 ],
 "metadata": {
  "kernelspec": {
   "display_name": "Python 3",
   "language": "python",
   "name": "python3"
  }
 },
 "nbformat": 4,
 "nbformat_minor": 0
}