{
 "cells": [
  {
   "cell_type": "markdown",
   "metadata": {},
   "source": [
    "Theorem <a class=\"ProveItLink\" href=\"../../../_theorems_.ipynb#forall_over_bool_by_cases\">forall_over_bool_by_cases</a> of type <a class=\"ProveItLink\" href=\"../../../../../../../doc/html/api/proveit.logic.Forall.html\">Forall</a>\n",
    "=======================\n",
    "# from the theory of <a class=\"ProveItLink\" href=\"../../../_theory_nbs_/theory.ipynb\">proveit.logic.booleans</a>\n",
    "*** see <a class=\"ProveItLink\" href=\"dependencies.ipynb\">dependencies</a> ***"
   ]
  },
  {
   "cell_type": "code",
   "execution_count": 1,
   "metadata": {},
   "outputs": [],
   "source": [
    "import proveit\n",
    "# Automation is not needed when only building an expression:\n",
    "proveit.defaults.automation = False # This will speed things up.\n",
    "proveit.defaults.inline_pngs = False # Makes files smaller.\n",
    "%load_theorem_expr # Load the stored theorem expression as 'stored_expr'\n",
    "# import the special expression\n",
    "from proveit.logic.booleans import forall_over_bool_by_cases"
   ]
  },
  {
   "cell_type": "code",
   "execution_count": 2,
   "metadata": {},
   "outputs": [
    {
     "name": "stdout",
     "output_type": "stream",
     "text": [
      "Passed sanity check: forall_over_bool_by_cases matches stored_expr\n"
     ]
    }
   ],
   "source": [
    "# check that the built expression is the same as the stored expression\n",
    "assert forall_over_bool_by_cases.expr == stored_expr\n",
    "assert forall_over_bool_by_cases.expr._style_id == stored_expr._style_id\n",
    "print(\"Passed sanity check: forall_over_bool_by_cases matches stored_expr\")"
   ]
  },
  {
   "cell_type": "code",
   "execution_count": 3,
   "metadata": {},
   "outputs": [
    {
     "name": "stdout",
     "output_type": "stream",
     "text": [
      "\\forall_{P~|~P\\left(\\top\\right), P\\left(\\bot\\right)}~\\left[\\forall_{A \\in \\mathbb{B}}~P\\left(A\\right)\\right]\n"
     ]
    }
   ],
   "source": [
    "# Show the LaTeX representation of the expression for convenience if you need it.\n",
    "print(stored_expr.latex())"
   ]
  },
  {
   "cell_type": "code",
   "execution_count": 4,
   "metadata": {},
   "outputs": [
    {
     "data": {
      "text/html": [
       "<table>\n",
       "<tr><th>name</th><th>description</th><th>default</th><th>current value</th><th>related methods</th></tr><tr><td>with_wrapping</td><td>If 'True', wrap the Expression after the parameters</td><td>None</td><td>None/False</td><td>('with_wrapping',)</td></tr>\n",
       "<tr><td>condition_wrapping</td><td>Wrap 'before' or 'after' the condition (or None).</td><td>None</td><td>None/False</td><td>('with_wrap_after_condition', 'with_wrap_before_condition')</td></tr>\n",
       "<tr><td>wrap_params</td><td>If 'True', wraps every two parameters AND wraps the Expression after the parameters</td><td>None</td><td>None/False</td><td>('with_params',)</td></tr>\n",
       "<tr><td>justification</td><td>justify to the 'left', 'center', or 'right' in the array cells</td><td>center</td><td>center</td><td>('with_justification',)</td></tr>\n",
       "</table>\n"
      ],
      "text/plain": [
       "style name: with_wrapping\n",
       "description: If 'True', wrap the Expression after the parameters\n",
       "default: None\n",
       "current value: None/False\n",
       "related methods: ('with_wrapping',)\n",
       "style name: condition_wrapping\n",
       "description: Wrap 'before' or 'after' the condition (or None).\n",
       "default: None\n",
       "current value: None/False\n",
       "related methods: ('with_wrap_after_condition', 'with_wrap_before_condition')\n",
       "style name: wrap_params\n",
       "description: If 'True', wraps every two parameters AND wraps the Expression after the parameters\n",
       "default: None\n",
       "current value: None/False\n",
       "related methods: ('with_params',)\n",
       "style name: justification\n",
       "description: justify to the 'left', 'center', or 'right' in the array cells\n",
       "default: center\n",
       "current value: center\n",
       "related methods: ('with_justification',)"
      ]
     },
     "metadata": {},
     "output_type": "display_data"
    }
   ],
   "source": [
    "stored_expr.style_options()"
   ]
  },
  {
   "cell_type": "code",
   "execution_count": 5,
   "metadata": {},
   "outputs": [
    {
     "data": {
      "text/html": [
       "<table><tr><th>&nbsp;</th><th>core type</th><th>sub-expressions</th><th>expression</th></tr>\n",
       "<tr><td>0</td><td>Operation</td><td>operator:&nbsp;7<br>operand:&nbsp;2<br></td><td><a class=\"ProveItLink\" href=\"../6d327d2140f1f0c2a937cb448134f4763a4374070/expr.ipynb\"><img src=\"../6d327d2140f1f0c2a937cb448134f4763a4374070/expr.png\" style=\"display:inline;vertical-align:middle;\" /></a></td></tr>\n",
       "<tr><td>1</td><td>ExprTuple</td><td>2</td><td><a class=\"ProveItLink\" href=\"../17c6d339106c8f9f89ff26bc2a475bad3d61b28e0/expr.ipynb\"><img src=\"../17c6d339106c8f9f89ff26bc2a475bad3d61b28e0/expr.png\" style=\"display:inline;vertical-align:middle;\" /></a></td></tr>\n",
       "<tr><td>2</td><td>Lambda</td><td>parameter:&nbsp;21<br>body:&nbsp;4<br></td><td><a class=\"ProveItLink\" href=\"../504bd34dfac322460f733597389914da0db33f210/expr.ipynb\"><img src=\"../504bd34dfac322460f733597389914da0db33f210/expr.png\" style=\"display:inline;vertical-align:middle;\" /></a></td></tr>\n",
       "<tr><td>3</td><td>ExprTuple</td><td>21</td><td><a class=\"ProveItLink\" href=\"../56f816491122851137106e952ad7383c0a593aaf0/expr.ipynb\"><img src=\"../56f816491122851137106e952ad7383c0a593aaf0/expr.png\" style=\"display:inline;vertical-align:middle;\" /></a></td></tr>\n",
       "<tr><td>4</td><td>Conditional</td><td>value:&nbsp;5<br>condition:&nbsp;6<br></td><td><a class=\"ProveItLink\" href=\"../0d7b38804f295096f1ebc2a74b419c97f9f2922c0/expr.ipynb\"><img src=\"../0d7b38804f295096f1ebc2a74b419c97f9f2922c0/expr.png\" style=\"display:inline;vertical-align:middle;\" /></a></td></tr>\n",
       "<tr><td>5</td><td>Operation</td><td>operator:&nbsp;7<br>operand:&nbsp;11<br></td><td><a class=\"ProveItLink\" href=\"../af71d01b4f600fcfc57cfaf8475c30f0443adb0e0/expr.ipynb\"><img src=\"../af71d01b4f600fcfc57cfaf8475c30f0443adb0e0/expr.png\" style=\"display:inline;vertical-align:middle;\" /></a></td></tr>\n",
       "<tr><td>6</td><td>Operation</td><td>operator:&nbsp;9<br>operands:&nbsp;10<br></td><td><a class=\"ProveItLink\" href=\"../9b3599861012520b1e1c5f637c38ccb7d5f21e310/expr.ipynb\"><img src=\"../9b3599861012520b1e1c5f637c38ccb7d5f21e310/expr.png\" style=\"display:inline;vertical-align:middle;\" /></a></td></tr>\n",
       "<tr><td>7</td><td>Literal</td><td></td><td><a class=\"ProveItLink\" href=\"../../../quantification/universality/__pv_it/common/083d2baa0b8ecab1d230f9ec29a15aa1355809fb0/expr.ipynb\"><img src=\"../../../quantification/universality/__pv_it/common/083d2baa0b8ecab1d230f9ec29a15aa1355809fb0/expr.png\" style=\"display:inline;vertical-align:middle;\" /></a></td></tr>\n",
       "<tr><td>8</td><td>ExprTuple</td><td>11</td><td><a class=\"ProveItLink\" href=\"../ce04ffcc7ab52f620f6eb4c21995d1b44ebfca290/expr.ipynb\"><img src=\"../ce04ffcc7ab52f620f6eb4c21995d1b44ebfca290/expr.png\" style=\"display:inline;vertical-align:middle;\" /></a></td></tr>\n",
       "<tr><td>9</td><td>Literal</td><td></td><td><a class=\"ProveItLink\" href=\"../../../conjunction/__pv_it/common/42118ff318bd65d98b1393f64ce7c2269feef76e0/expr.ipynb\"><img src=\"../../../conjunction/__pv_it/common/42118ff318bd65d98b1393f64ce7c2269feef76e0/expr.png\" style=\"display:inline;vertical-align:middle;\" /></a></td></tr>\n",
       "<tr><td>10</td><td>ExprTuple</td><td>12, 13</td><td><a class=\"ProveItLink\" href=\"../6fd67e8d6142831aae636ee243b4f6b0c8cf7d170/expr.ipynb\"><img src=\"../6fd67e8d6142831aae636ee243b4f6b0c8cf7d170/expr.png\" style=\"display:inline;vertical-align:middle;\" /></a></td></tr>\n",
       "<tr><td>11</td><td>Lambda</td><td>parameter:&nbsp;25<br>body:&nbsp;14<br></td><td><a class=\"ProveItLink\" href=\"../3af48894fe09c00179c286f10f5d8925fdda9d3f0/expr.ipynb\"><img src=\"../3af48894fe09c00179c286f10f5d8925fdda9d3f0/expr.png\" style=\"display:inline;vertical-align:middle;\" /></a></td></tr>\n",
       "<tr><td>12</td><td>Operation</td><td>operator:&nbsp;21<br>operand:&nbsp;19<br></td><td><a class=\"ProveItLink\" href=\"../../../../__pv_it/common/8656d055e795860fc783fedaa2fdfdeb655ff02a0/expr.ipynb\"><img src=\"../../../../__pv_it/common/8656d055e795860fc783fedaa2fdfdeb655ff02a0/expr.png\" style=\"display:inline;vertical-align:middle;\" /></a></td></tr>\n",
       "<tr><td>13</td><td>Operation</td><td>operator:&nbsp;21<br>operand:&nbsp;20<br></td><td><a class=\"ProveItLink\" href=\"../../../../__pv_it/common/c478d9b029a938e6b1884ac8094c38de4ad167440/expr.ipynb\"><img src=\"../../../../__pv_it/common/c478d9b029a938e6b1884ac8094c38de4ad167440/expr.png\" style=\"display:inline;vertical-align:middle;\" /></a></td></tr>\n",
       "<tr><td>14</td><td>Conditional</td><td>value:&nbsp;17<br>condition:&nbsp;18<br></td><td><a class=\"ProveItLink\" href=\"../ada806b28a5e03458573198bc969033ef47fac8f0/expr.ipynb\"><img src=\"../ada806b28a5e03458573198bc969033ef47fac8f0/expr.png\" style=\"display:inline;vertical-align:middle;\" /></a></td></tr>\n",
       "<tr><td>15</td><td>ExprTuple</td><td>19</td><td><a class=\"ProveItLink\" href=\"../../../negation/__pv_it/axioms/05f2d6e69d6fc806f5ce0e3340444dbacb25772f0/expr.ipynb\"><img src=\"../../../negation/__pv_it/axioms/05f2d6e69d6fc806f5ce0e3340444dbacb25772f0/expr.png\" style=\"display:inline;vertical-align:middle;\" /></a></td></tr>\n",
       "<tr><td>16</td><td>ExprTuple</td><td>20</td><td><a class=\"ProveItLink\" href=\"../../../negation/__pv_it/axioms/a855a267d4f945b106773c7bab29f8f0e36bad550/expr.ipynb\"><img src=\"../../../negation/__pv_it/axioms/a855a267d4f945b106773c7bab29f8f0e36bad550/expr.png\" style=\"display:inline;vertical-align:middle;\" /></a></td></tr>\n",
       "<tr><td>17</td><td>Operation</td><td>operator:&nbsp;21<br>operand:&nbsp;25<br></td><td><a class=\"ProveItLink\" href=\"../../../../../__pv_it/common/179eec53aec5f67dcadb70a64bbe503739c53abe0/expr.ipynb\"><img src=\"../../../../../__pv_it/common/179eec53aec5f67dcadb70a64bbe503739c53abe0/expr.png\" style=\"display:inline;vertical-align:middle;\" /></a></td></tr>\n",
       "<tr><td>18</td><td>Operation</td><td>operator:&nbsp;23<br>operands:&nbsp;24<br></td><td><a class=\"ProveItLink\" href=\"../a10dbfd9a4efbb6f30af430036ab01697a9460f80/expr.ipynb\"><img src=\"../a10dbfd9a4efbb6f30af430036ab01697a9460f80/expr.png\" style=\"display:inline;vertical-align:middle;\" /></a></td></tr>\n",
       "<tr><td>19</td><td>Literal</td><td></td><td><a class=\"ProveItLink\" href=\"../../common/95025295868b9266d37330b4427adf122f6061770/expr.ipynb\"><img src=\"../../common/95025295868b9266d37330b4427adf122f6061770/expr.png\" style=\"display:inline;vertical-align:middle;\" /></a></td></tr>\n",
       "<tr><td>20</td><td>Literal</td><td></td><td><a class=\"ProveItLink\" href=\"../../common/e0f123f2e4f322e1eba7f861749cda9fd9d99a120/expr.ipynb\"><img src=\"../../common/e0f123f2e4f322e1eba7f861749cda9fd9d99a120/expr.png\" style=\"display:inline;vertical-align:middle;\" /></a></td></tr>\n",
       "<tr><td>21</td><td>Variable</td><td></td><td><a class=\"ProveItLink\" href=\"../../../../../__pv_it/common/de55da274ba0f49c86925fbf3828021c04d27faf0/expr.ipynb\"><img src=\"../../../../../__pv_it/common/de55da274ba0f49c86925fbf3828021c04d27faf0/expr.png\" style=\"display:inline;vertical-align:middle;\" /></a></td></tr>\n",
       "<tr><td>22</td><td>ExprTuple</td><td>25</td><td><a class=\"ProveItLink\" href=\"../../../../../__pv_it/common/ef995daf83e62aca0bec9d2a94a565bca9a8d1910/expr.ipynb\"><img src=\"../../../../../__pv_it/common/ef995daf83e62aca0bec9d2a94a565bca9a8d1910/expr.png\" style=\"display:inline;vertical-align:middle;\" /></a></td></tr>\n",
       "<tr><td>23</td><td>Literal</td><td></td><td><a class=\"ProveItLink\" href=\"../../../../sets/membership/__pv_it/common/477487d8796864d23d5810f83761435f25167f690/expr.ipynb\"><img src=\"../../../../sets/membership/__pv_it/common/477487d8796864d23d5810f83761435f25167f690/expr.png\" style=\"display:inline;vertical-align:middle;\" /></a></td></tr>\n",
       "<tr><td>24</td><td>ExprTuple</td><td>25, 26</td><td><a class=\"ProveItLink\" href=\"../1fe0a20c64544e5a771906c8bc249e76a8c5c1810/expr.ipynb\"><img src=\"../1fe0a20c64544e5a771906c8bc249e76a8c5c1810/expr.png\" style=\"display:inline;vertical-align:middle;\" /></a></td></tr>\n",
       "<tr><td>25</td><td>Variable</td><td></td><td><a class=\"ProveItLink\" href=\"../../../../../__pv_it/common/09585084922504426caf1db2ff588a23a0932a960/expr.ipynb\"><img src=\"../../../../../__pv_it/common/09585084922504426caf1db2ff588a23a0932a960/expr.png\" style=\"display:inline;vertical-align:middle;\" /></a></td></tr>\n",
       "<tr><td>26</td><td>Literal</td><td></td><td><a class=\"ProveItLink\" href=\"../../common/97424376de9815ad99f7180e3191b1cf4ab2a5710/expr.ipynb\"><img src=\"../../common/97424376de9815ad99f7180e3191b1cf4ab2a5710/expr.png\" style=\"display:inline;vertical-align:middle;\" /></a></td></tr>\n",
       "</table>\n"
      ],
      "text/plain": [
       "0. forall_{P | P(TRUE), P(FALSE)} [forall_{A in BOOLEAN} P(A)]\n",
       "   core type: Operation\n",
       "   operator: 7\n",
       "   operand: 2\n",
       "1. (P -> {forall_{A in BOOLEAN} P(A) if P(TRUE) ,  P(FALSE).)\n",
       "   core type: ExprTuple\n",
       "   sub-expressions: 2\n",
       "2. P -> {forall_{A in BOOLEAN} P(A) if P(TRUE) ,  P(FALSE).\n",
       "   core type: Lambda\n",
       "   parameter: 21\n",
       "   body: 4\n",
       "3. (P)\n",
       "   core type: ExprTuple\n",
       "   sub-expressions: 21\n",
       "4. {forall_{A in BOOLEAN} P(A) if P(TRUE) ,  P(FALSE).\n",
       "   core type: Conditional\n",
       "   value: 5\n",
       "   condition: 6\n",
       "5. forall_{A in BOOLEAN} P(A)\n",
       "   core type: Operation\n",
       "   operator: 7\n",
       "   operand: 11\n",
       "6. P(TRUE) and P(FALSE)\n",
       "   core type: Operation\n",
       "   operator: 9\n",
       "   operands: 10\n",
       "7. forall\n",
       "   core type: Literal\n",
       "   sub-expressions: \n",
       "8. (A -> {P(A) if A in BOOLEAN.)\n",
       "   core type: ExprTuple\n",
       "   sub-expressions: 11\n",
       "9. and\n",
       "   core type: Literal\n",
       "   sub-expressions: \n",
       "10. (P(TRUE), P(FALSE))\n",
       "    core type: ExprTuple\n",
       "    sub-expressions: 12, 13\n",
       "11. A -> {P(A) if A in BOOLEAN.\n",
       "    core type: Lambda\n",
       "    parameter: 25\n",
       "    body: 14\n",
       "12. P(TRUE)\n",
       "    core type: Operation\n",
       "    operator: 21\n",
       "    operand: 19\n",
       "13. P(FALSE)\n",
       "    core type: Operation\n",
       "    operator: 21\n",
       "    operand: 20\n",
       "14. {P(A) if A in BOOLEAN.\n",
       "    core type: Conditional\n",
       "    value: 17\n",
       "    condition: 18\n",
       "15. (TRUE)\n",
       "    core type: ExprTuple\n",
       "    sub-expressions: 19\n",
       "16. (FALSE)\n",
       "    core type: ExprTuple\n",
       "    sub-expressions: 20\n",
       "17. P(A)\n",
       "    core type: Operation\n",
       "    operator: 21\n",
       "    operand: 25\n",
       "18. A in BOOLEAN\n",
       "    core type: Operation\n",
       "    operator: 23\n",
       "    operands: 24\n",
       "19. TRUE\n",
       "    core type: Literal\n",
       "    sub-expressions: \n",
       "20. FALSE\n",
       "    core type: Literal\n",
       "    sub-expressions: \n",
       "21. P\n",
       "    core type: Variable\n",
       "    sub-expressions: \n",
       "22. (A)\n",
       "    core type: ExprTuple\n",
       "    sub-expressions: 25\n",
       "23. in\n",
       "    core type: Literal\n",
       "    sub-expressions: \n",
       "24. (A, BOOLEAN)\n",
       "    core type: ExprTuple\n",
       "    sub-expressions: 25, 26\n",
       "25. A\n",
       "    core type: Variable\n",
       "    sub-expressions: \n",
       "26. BOOLEAN\n",
       "    core type: Literal\n",
       "    sub-expressions: "
      ]
     },
     "metadata": {},
     "output_type": "display_data"
    }
   ],
   "source": [
    "# display the expression information\n",
    "stored_expr.expr_info()"
   ]
  },
  {
   "cell_type": "code",
   "execution_count": null,
   "metadata": {},
   "outputs": [],
   "source": []
  }
 ],
 "metadata": {
  "kernelspec": {
   "display_name": "Python 3",
   "language": "python",
   "name": "python3"
  }
 },
 "nbformat": 4,
 "nbformat_minor": 0
}