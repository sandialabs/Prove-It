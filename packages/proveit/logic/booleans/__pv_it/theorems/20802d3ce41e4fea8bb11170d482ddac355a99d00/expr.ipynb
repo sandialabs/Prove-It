{
 "cells": [
  {
   "cell_type": "markdown",
   "metadata": {},
   "source": [
    "Expression of type <a class=\"ProveItLink\" href=\"../../../../../../../doc/html/api/proveit.ExprTuple.html\">ExprTuple</a>\n",
    "=======================\n",
    "# from the theory of <a class=\"ProveItLink\" href=\"../../../_theory_nbs_/theory.ipynb\">proveit.logic.booleans</a>"
   ]
  },
  {
   "cell_type": "code",
   "execution_count": 1,
   "metadata": {},
   "outputs": [],
   "source": [
    "import proveit\n",
    "# Automation is not needed when building an expression:\n",
    "proveit.defaults.automation = False # This will speed things up.\n",
    "proveit.defaults.inline_pngs = False # Makes files smaller.\n",
    "%load_expr # Load the stored expression as 'stored_expr'\n",
    "# import Expression classes needed to build the expression\n",
    "from proveit import A, ExprTuple, PofA\n",
    "from proveit.logic import And, Boolean, Equals, FALSE, Forall, PofFalse, PofTrue, TRUE"
   ]
  },
  {
   "cell_type": "code",
   "execution_count": 2,
   "metadata": {},
   "outputs": [
    {
     "data": {
      "text/html": [
       "<strong id=\"expr\">expr:</strong> <a class=\"ProveItLink\" href=\"expr.ipynb\"><img src=\"expr.png\" style=\"display:inline;vertical-align:middle;\" /></a><br>"
      ],
      "text/plain": [
       "<IPython.core.display.HTML object>"
      ]
     },
     "metadata": {},
     "output_type": "display_data"
    }
   ],
   "source": [
    "# build up the expression from sub-expressions\n",
    "expr = ExprTuple(And(Equals(PofTrue, FALSE), Equals(PofFalse, TRUE)), Equals(Forall(instance_param_or_params = [A], instance_expr = PofA, domain = Boolean), FALSE))"
   ]
  },
  {
   "cell_type": "code",
   "execution_count": 3,
   "metadata": {},
   "outputs": [
    {
     "name": "stdout",
     "output_type": "stream",
     "text": [
      "Passed sanity check: expr matches stored_expr\n"
     ]
    }
   ],
   "source": [
    "# check that the built expression is the same as the stored expression\n",
    "assert expr == stored_expr\n",
    "assert expr._style_id == stored_expr._style_id\n",
    "print(\"Passed sanity check: expr matches stored_expr\")"
   ]
  },
  {
   "cell_type": "code",
   "execution_count": 4,
   "metadata": {},
   "outputs": [
    {
     "name": "stdout",
     "output_type": "stream",
     "text": [
      "\\left(\\left(P\\left(\\top\\right) = \\bot\\right) \\land \\left(P\\left(\\bot\\right) = \\top\\right), \\left[\\forall_{A \\in \\mathbb{B}}~P\\left(A\\right)\\right] = \\bot\\right)\n"
     ]
    }
   ],
   "source": [
    "# Show the LaTeX representation of the expression for convenience if you need it.\n",
    "print(stored_expr.latex())"
   ]
  },
  {
   "cell_type": "code",
   "execution_count": 5,
   "metadata": {},
   "outputs": [
    {
     "data": {
      "text/html": [
       "<table>\n",
       "<tr><th>name</th><th>description</th><th>default</th><th>current value</th><th>related methods</th></tr><tr><td>wrap_positions</td><td>position(s) at which wrapping is to occur; 'n' is after the nth comma.</td><td>()</td><td>()</td><td>('with_wrapping_at',)</td></tr>\n",
       "<tr><td>justification</td><td>if any wrap positions are set, justify to the 'left', 'center', or 'right'</td><td>left</td><td>left</td><td>('with_justification',)</td></tr>\n",
       "</table>\n"
      ],
      "text/plain": [
       "style name: wrap_positions\n",
       "description: position(s) at which wrapping is to occur; 'n' is after the nth comma.\n",
       "default: ()\n",
       "current value: ()\n",
       "related methods: ('with_wrapping_at',)\n",
       "style name: justification\n",
       "description: if any wrap positions are set, justify to the 'left', 'center', or 'right'\n",
       "default: left\n",
       "current value: left\n",
       "related methods: ('with_justification',)"
      ]
     },
     "metadata": {},
     "output_type": "display_data"
    }
   ],
   "source": [
    "stored_expr.style_options()"
   ]
  },
  {
   "cell_type": "code",
   "execution_count": 6,
   "metadata": {},
   "outputs": [
    {
     "data": {
      "text/html": [
       "<table><tr><th>&nbsp;</th><th>core type</th><th>sub-expressions</th><th>expression</th></tr>\n",
       "<tr><td>0</td><td>ExprTuple</td><td>1, 2</td><td><a class=\"ProveItLink\" href=\"expr.ipynb\"><img src=\"expr.png\" style=\"display:inline;vertical-align:middle;\" /></a></td></tr>\n",
       "<tr><td>1</td><td>Operation</td><td>operator:&nbsp;3<br>operands:&nbsp;4<br></td><td><a class=\"ProveItLink\" href=\"../d810f19295fde7cff186d4928023a2dc55255fe90/expr.ipynb\"><img src=\"../d810f19295fde7cff186d4928023a2dc55255fe90/expr.png\" style=\"display:inline;vertical-align:middle;\" /></a></td></tr>\n",
       "<tr><td>2</td><td>Operation</td><td>operator:&nbsp;10<br>operands:&nbsp;5<br></td><td><a class=\"ProveItLink\" href=\"../4015bbbf94fa2c54898396c6ecd3315e8cb933bb0/expr.ipynb\"><img src=\"../4015bbbf94fa2c54898396c6ecd3315e8cb933bb0/expr.png\" style=\"display:inline;vertical-align:middle;\" /></a></td></tr>\n",
       "<tr><td>3</td><td>Literal</td><td></td><td><a class=\"ProveItLink\" href=\"../../../conjunction/__pv_it/common/42118ff318bd65d98b1393f64ce7c2269feef76e0/expr.ipynb\"><img src=\"../../../conjunction/__pv_it/common/42118ff318bd65d98b1393f64ce7c2269feef76e0/expr.png\" style=\"display:inline;vertical-align:middle;\" /></a></td></tr>\n",
       "<tr><td>4</td><td>ExprTuple</td><td>6, 7</td><td><a class=\"ProveItLink\" href=\"../961a45a3a7bde3c9e7b5b10b5c26351adf9d47fc0/expr.ipynb\"><img src=\"../961a45a3a7bde3c9e7b5b10b5c26351adf9d47fc0/expr.png\" style=\"display:inline;vertical-align:middle;\" /></a></td></tr>\n",
       "<tr><td>5</td><td>ExprTuple</td><td>8, 21</td><td><a class=\"ProveItLink\" href=\"../a853ad6b05469cb2cfaad6f1d854564652fe2fba0/expr.ipynb\"><img src=\"../a853ad6b05469cb2cfaad6f1d854564652fe2fba0/expr.png\" style=\"display:inline;vertical-align:middle;\" /></a></td></tr>\n",
       "<tr><td>6</td><td>Operation</td><td>operator:&nbsp;10<br>operands:&nbsp;9<br></td><td><a class=\"ProveItLink\" href=\"../150770565f431cbcbe527541aa5014ffcc111d5f0/expr.ipynb\"><img src=\"../150770565f431cbcbe527541aa5014ffcc111d5f0/expr.png\" style=\"display:inline;vertical-align:middle;\" /></a></td></tr>\n",
       "<tr><td>7</td><td>Operation</td><td>operator:&nbsp;10<br>operands:&nbsp;11<br></td><td><a class=\"ProveItLink\" href=\"../ff229cb46097a90cae78058bd166db11911761a00/expr.ipynb\"><img src=\"../ff229cb46097a90cae78058bd166db11911761a00/expr.png\" style=\"display:inline;vertical-align:middle;\" /></a></td></tr>\n",
       "<tr><td>8</td><td>Operation</td><td>operator:&nbsp;12<br>operand:&nbsp;16<br></td><td><a class=\"ProveItLink\" href=\"../af71d01b4f600fcfc57cfaf8475c30f0443adb0e0/expr.ipynb\"><img src=\"../af71d01b4f600fcfc57cfaf8475c30f0443adb0e0/expr.png\" style=\"display:inline;vertical-align:middle;\" /></a></td></tr>\n",
       "<tr><td>9</td><td>ExprTuple</td><td>14, 21</td><td><a class=\"ProveItLink\" href=\"../23609125bfb5a7ea3c5b5dd427dd26e1e2d9c3e10/expr.ipynb\"><img src=\"../23609125bfb5a7ea3c5b5dd427dd26e1e2d9c3e10/expr.png\" style=\"display:inline;vertical-align:middle;\" /></a></td></tr>\n",
       "<tr><td>10</td><td>Literal</td><td></td><td><a class=\"ProveItLink\" href=\"../../../../equality/__pv_it/common/fb96dc12b2aa8801dda64d0132b396c63d1502bb0/expr.ipynb\"><img src=\"../../../../equality/__pv_it/common/fb96dc12b2aa8801dda64d0132b396c63d1502bb0/expr.png\" style=\"display:inline;vertical-align:middle;\" /></a></td></tr>\n",
       "<tr><td>11</td><td>ExprTuple</td><td>15, 20</td><td><a class=\"ProveItLink\" href=\"../9907ba4a6b58243e964c6f23d97156ec922c9e8b0/expr.ipynb\"><img src=\"../9907ba4a6b58243e964c6f23d97156ec922c9e8b0/expr.png\" style=\"display:inline;vertical-align:middle;\" /></a></td></tr>\n",
       "<tr><td>12</td><td>Literal</td><td></td><td><a class=\"ProveItLink\" href=\"../../../quantification/universality/__pv_it/common/083d2baa0b8ecab1d230f9ec29a15aa1355809fb0/expr.ipynb\"><img src=\"../../../quantification/universality/__pv_it/common/083d2baa0b8ecab1d230f9ec29a15aa1355809fb0/expr.png\" style=\"display:inline;vertical-align:middle;\" /></a></td></tr>\n",
       "<tr><td>13</td><td>ExprTuple</td><td>16</td><td><a class=\"ProveItLink\" href=\"../ce04ffcc7ab52f620f6eb4c21995d1b44ebfca290/expr.ipynb\"><img src=\"../ce04ffcc7ab52f620f6eb4c21995d1b44ebfca290/expr.png\" style=\"display:inline;vertical-align:middle;\" /></a></td></tr>\n",
       "<tr><td>14</td><td>Operation</td><td>operator:&nbsp;24<br>operand:&nbsp;20<br></td><td><a class=\"ProveItLink\" href=\"../../../../__pv_it/common/8656d055e795860fc783fedaa2fdfdeb655ff02a0/expr.ipynb\"><img src=\"../../../../__pv_it/common/8656d055e795860fc783fedaa2fdfdeb655ff02a0/expr.png\" style=\"display:inline;vertical-align:middle;\" /></a></td></tr>\n",
       "<tr><td>15</td><td>Operation</td><td>operator:&nbsp;24<br>operand:&nbsp;21<br></td><td><a class=\"ProveItLink\" href=\"../../../../__pv_it/common/c478d9b029a938e6b1884ac8094c38de4ad167440/expr.ipynb\"><img src=\"../../../../__pv_it/common/c478d9b029a938e6b1884ac8094c38de4ad167440/expr.png\" style=\"display:inline;vertical-align:middle;\" /></a></td></tr>\n",
       "<tr><td>16</td><td>Lambda</td><td>parameter:&nbsp;28<br>body:&nbsp;19<br></td><td><a class=\"ProveItLink\" href=\"../3af48894fe09c00179c286f10f5d8925fdda9d3f0/expr.ipynb\"><img src=\"../3af48894fe09c00179c286f10f5d8925fdda9d3f0/expr.png\" style=\"display:inline;vertical-align:middle;\" /></a></td></tr>\n",
       "<tr><td>17</td><td>ExprTuple</td><td>20</td><td><a class=\"ProveItLink\" href=\"../../../negation/__pv_it/axioms/05f2d6e69d6fc806f5ce0e3340444dbacb25772f0/expr.ipynb\"><img src=\"../../../negation/__pv_it/axioms/05f2d6e69d6fc806f5ce0e3340444dbacb25772f0/expr.png\" style=\"display:inline;vertical-align:middle;\" /></a></td></tr>\n",
       "<tr><td>18</td><td>ExprTuple</td><td>21</td><td><a class=\"ProveItLink\" href=\"../../../negation/__pv_it/axioms/a855a267d4f945b106773c7bab29f8f0e36bad550/expr.ipynb\"><img src=\"../../../negation/__pv_it/axioms/a855a267d4f945b106773c7bab29f8f0e36bad550/expr.png\" style=\"display:inline;vertical-align:middle;\" /></a></td></tr>\n",
       "<tr><td>19</td><td>Conditional</td><td>value:&nbsp;22<br>condition:&nbsp;23<br></td><td><a class=\"ProveItLink\" href=\"../ada806b28a5e03458573198bc969033ef47fac8f0/expr.ipynb\"><img src=\"../ada806b28a5e03458573198bc969033ef47fac8f0/expr.png\" style=\"display:inline;vertical-align:middle;\" /></a></td></tr>\n",
       "<tr><td>20</td><td>Literal</td><td></td><td><a class=\"ProveItLink\" href=\"../../common/95025295868b9266d37330b4427adf122f6061770/expr.ipynb\"><img src=\"../../common/95025295868b9266d37330b4427adf122f6061770/expr.png\" style=\"display:inline;vertical-align:middle;\" /></a></td></tr>\n",
       "<tr><td>21</td><td>Literal</td><td></td><td><a class=\"ProveItLink\" href=\"../../common/e0f123f2e4f322e1eba7f861749cda9fd9d99a120/expr.ipynb\"><img src=\"../../common/e0f123f2e4f322e1eba7f861749cda9fd9d99a120/expr.png\" style=\"display:inline;vertical-align:middle;\" /></a></td></tr>\n",
       "<tr><td>22</td><td>Operation</td><td>operator:&nbsp;24<br>operand:&nbsp;28<br></td><td><a class=\"ProveItLink\" href=\"../../../../../__pv_it/common/179eec53aec5f67dcadb70a64bbe503739c53abe0/expr.ipynb\"><img src=\"../../../../../__pv_it/common/179eec53aec5f67dcadb70a64bbe503739c53abe0/expr.png\" style=\"display:inline;vertical-align:middle;\" /></a></td></tr>\n",
       "<tr><td>23</td><td>Operation</td><td>operator:&nbsp;26<br>operands:&nbsp;27<br></td><td><a class=\"ProveItLink\" href=\"../a10dbfd9a4efbb6f30af430036ab01697a9460f80/expr.ipynb\"><img src=\"../a10dbfd9a4efbb6f30af430036ab01697a9460f80/expr.png\" style=\"display:inline;vertical-align:middle;\" /></a></td></tr>\n",
       "<tr><td>24</td><td>Variable</td><td></td><td><a class=\"ProveItLink\" href=\"../../../../../__pv_it/common/de55da274ba0f49c86925fbf3828021c04d27faf0/expr.ipynb\"><img src=\"../../../../../__pv_it/common/de55da274ba0f49c86925fbf3828021c04d27faf0/expr.png\" style=\"display:inline;vertical-align:middle;\" /></a></td></tr>\n",
       "<tr><td>25</td><td>ExprTuple</td><td>28</td><td><a class=\"ProveItLink\" href=\"../../../../../__pv_it/common/ef995daf83e62aca0bec9d2a94a565bca9a8d1910/expr.ipynb\"><img src=\"../../../../../__pv_it/common/ef995daf83e62aca0bec9d2a94a565bca9a8d1910/expr.png\" style=\"display:inline;vertical-align:middle;\" /></a></td></tr>\n",
       "<tr><td>26</td><td>Literal</td><td></td><td><a class=\"ProveItLink\" href=\"../../../../sets/membership/__pv_it/common/477487d8796864d23d5810f83761435f25167f690/expr.ipynb\"><img src=\"../../../../sets/membership/__pv_it/common/477487d8796864d23d5810f83761435f25167f690/expr.png\" style=\"display:inline;vertical-align:middle;\" /></a></td></tr>\n",
       "<tr><td>27</td><td>ExprTuple</td><td>28, 29</td><td><a class=\"ProveItLink\" href=\"../1fe0a20c64544e5a771906c8bc249e76a8c5c1810/expr.ipynb\"><img src=\"../1fe0a20c64544e5a771906c8bc249e76a8c5c1810/expr.png\" style=\"display:inline;vertical-align:middle;\" /></a></td></tr>\n",
       "<tr><td>28</td><td>Variable</td><td></td><td><a class=\"ProveItLink\" href=\"../../../../../__pv_it/common/09585084922504426caf1db2ff588a23a0932a960/expr.ipynb\"><img src=\"../../../../../__pv_it/common/09585084922504426caf1db2ff588a23a0932a960/expr.png\" style=\"display:inline;vertical-align:middle;\" /></a></td></tr>\n",
       "<tr><td>29</td><td>Literal</td><td></td><td><a class=\"ProveItLink\" href=\"../../common/97424376de9815ad99f7180e3191b1cf4ab2a5710/expr.ipynb\"><img src=\"../../common/97424376de9815ad99f7180e3191b1cf4ab2a5710/expr.png\" style=\"display:inline;vertical-align:middle;\" /></a></td></tr>\n",
       "</table>\n"
      ],
      "text/plain": [
       "0. ((P(TRUE) = FALSE) and (P(FALSE) = TRUE), [forall_{A in BOOLEAN} P(A)] = FALSE)\n",
       "   core type: ExprTuple\n",
       "   sub-expressions: 1, 2\n",
       "1. (P(TRUE) = FALSE) and (P(FALSE) = TRUE)\n",
       "   core type: Operation\n",
       "   operator: 3\n",
       "   operands: 4\n",
       "2. [forall_{A in BOOLEAN} P(A)] = FALSE\n",
       "   core type: Operation\n",
       "   operator: 10\n",
       "   operands: 5\n",
       "3. and\n",
       "   core type: Literal\n",
       "   sub-expressions: \n",
       "4. (P(TRUE) = FALSE, P(FALSE) = TRUE)\n",
       "   core type: ExprTuple\n",
       "   sub-expressions: 6, 7\n",
       "5. (forall_{A in BOOLEAN} P(A), FALSE)\n",
       "   core type: ExprTuple\n",
       "   sub-expressions: 8, 21\n",
       "6. P(TRUE) = FALSE\n",
       "   core type: Operation\n",
       "   operator: 10\n",
       "   operands: 9\n",
       "7. P(FALSE) = TRUE\n",
       "   core type: Operation\n",
       "   operator: 10\n",
       "   operands: 11\n",
       "8. forall_{A in BOOLEAN} P(A)\n",
       "   core type: Operation\n",
       "   operator: 12\n",
       "   operand: 16\n",
       "9. (P(TRUE), FALSE)\n",
       "   core type: ExprTuple\n",
       "   sub-expressions: 14, 21\n",
       "10. =\n",
       "    core type: Literal\n",
       "    sub-expressions: \n",
       "11. (P(FALSE), TRUE)\n",
       "    core type: ExprTuple\n",
       "    sub-expressions: 15, 20\n",
       "12. forall\n",
       "    core type: Literal\n",
       "    sub-expressions: \n",
       "13. (A -> {P(A) if A in BOOLEAN.)\n",
       "    core type: ExprTuple\n",
       "    sub-expressions: 16\n",
       "14. P(TRUE)\n",
       "    core type: Operation\n",
       "    operator: 24\n",
       "    operand: 20\n",
       "15. P(FALSE)\n",
       "    core type: Operation\n",
       "    operator: 24\n",
       "    operand: 21\n",
       "16. A -> {P(A) if A in BOOLEAN.\n",
       "    core type: Lambda\n",
       "    parameter: 28\n",
       "    body: 19\n",
       "17. (TRUE)\n",
       "    core type: ExprTuple\n",
       "    sub-expressions: 20\n",
       "18. (FALSE)\n",
       "    core type: ExprTuple\n",
       "    sub-expressions: 21\n",
       "19. {P(A) if A in BOOLEAN.\n",
       "    core type: Conditional\n",
       "    value: 22\n",
       "    condition: 23\n",
       "20. TRUE\n",
       "    core type: Literal\n",
       "    sub-expressions: \n",
       "21. FALSE\n",
       "    core type: Literal\n",
       "    sub-expressions: \n",
       "22. P(A)\n",
       "    core type: Operation\n",
       "    operator: 24\n",
       "    operand: 28\n",
       "23. A in BOOLEAN\n",
       "    core type: Operation\n",
       "    operator: 26\n",
       "    operands: 27\n",
       "24. P\n",
       "    core type: Variable\n",
       "    sub-expressions: \n",
       "25. (A)\n",
       "    core type: ExprTuple\n",
       "    sub-expressions: 28\n",
       "26. in\n",
       "    core type: Literal\n",
       "    sub-expressions: \n",
       "27. (A, BOOLEAN)\n",
       "    core type: ExprTuple\n",
       "    sub-expressions: 28, 29\n",
       "28. A\n",
       "    core type: Variable\n",
       "    sub-expressions: \n",
       "29. BOOLEAN\n",
       "    core type: Literal\n",
       "    sub-expressions: "
      ]
     },
     "metadata": {},
     "output_type": "display_data"
    }
   ],
   "source": [
    "# display the expression information\n",
    "stored_expr.expr_info()"
   ]
  },
  {
   "cell_type": "code",
   "execution_count": null,
   "metadata": {},
   "outputs": [],
   "source": []
  }
 ],
 "metadata": {
  "kernelspec": {
   "display_name": "Python 3",
   "language": "python",
   "name": "python3"
  }
 },
 "nbformat": 4,
 "nbformat_minor": 0
}