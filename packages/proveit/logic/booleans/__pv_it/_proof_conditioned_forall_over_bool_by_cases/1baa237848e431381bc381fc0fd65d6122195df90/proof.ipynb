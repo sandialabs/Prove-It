{
 "cells": [
  {
   "cell_type": "markdown",
   "metadata": {},
   "source": [
    "Show the Proof\n",
    "========"
   ]
  },
  {
   "cell_type": "code",
   "execution_count": 1,
   "metadata": {},
   "outputs": [
    {
     "data": {
      "text/html": [
       "<table><tr><th>&nbsp;</th><th>step type</th><th>requirements</th><th>statement</th></tr>\n",
       "<tr><td><a name=\"proveit.logic.booleans._proof_conditioned_forall_over_bool_by_cases.1baa237848e431381bc381fc0fd65d6122195df90_step0\">0</a></td><td>modus ponens</td><td><a href=\"#proveit.logic.booleans._proof_conditioned_forall_over_bool_by_cases.1baa237848e431381bc381fc0fd65d6122195df90_step1\">1</a>, <a href=\"#proveit.logic.booleans._proof_conditioned_forall_over_bool_by_cases.1baa237848e431381bc381fc0fd65d6122195df90_step2\">2</a></td><td><span style=\"font-size:20px;\"><a class=\"ProveItLink\" href=\"../../../../__pv_it/common/992b571de684986f68d4eb2d5494d15261d382a20/expr.ipynb\"><img src=\"../../../../__pv_it/common/992b571de684986f68d4eb2d5494d15261d382a20/expr.png\" style=\"display:inline;vertical-align:middle;\" /></a>, <a class=\"ProveItLink\" href=\"../../../../__pv_it/common/e28d51f4d8e210e74e191fa3ba65e6ed431188b80/expr.ipynb\"><img src=\"../../../../__pv_it/common/e28d51f4d8e210e74e191fa3ba65e6ed431188b80/expr.png\" style=\"display:inline;vertical-align:middle;\" /></a>, <a class=\"ProveItLink\" href=\"../../theorems/a10dbfd9a4efbb6f30af430036ab01697a9460f80/expr.ipynb\"><img src=\"../../theorems/a10dbfd9a4efbb6f30af430036ab01697a9460f80/expr.png\" style=\"display:inline;vertical-align:middle;\" /></a>, <a class=\"ProveItLink\" href=\"../../../../../__pv_it/common/a3b5f30b31e2e6c8d4ff71eeb41c35c44be51cd10/expr.ipynb\"><img src=\"../../../../../__pv_it/common/a3b5f30b31e2e6c8d4ff71eeb41c35c44be51cd10/expr.png\" style=\"display:inline;vertical-align:middle;\" /></a> <a class=\"ProveItLink\" href=\"proof.ipynb\" style=\"text-decoration: none\">&nbsp;&#x22A2;&nbsp;&nbsp;</a><a class=\"ProveItLink\" href=\"../../../../../__pv_it/common/179eec53aec5f67dcadb70a64bbe503739c53abe0/expr.ipynb\"><img src=\"../../../../../__pv_it/common/179eec53aec5f67dcadb70a64bbe503739c53abe0/expr.png\" style=\"display:inline;vertical-align:middle;\" /></a></span></td></tr>\n",
       "<tr><td><a name=\"proveit.logic.booleans._proof_conditioned_forall_over_bool_by_cases.1baa237848e431381bc381fc0fd65d6122195df90_step1\">1</a></td><td>instantiation</td><td><a href=\"#proveit.logic.booleans._proof_conditioned_forall_over_bool_by_cases.1baa237848e431381bc381fc0fd65d6122195df90_step3\">3</a>, <a href=\"#proveit.logic.booleans._proof_conditioned_forall_over_bool_by_cases.1baa237848e431381bc381fc0fd65d6122195df90_step4\">4</a></td><td><span style=\"font-size:20px;\"><a class=\"ProveItLink\" href=\"../../../../__pv_it/common/992b571de684986f68d4eb2d5494d15261d382a20/expr.ipynb\"><img src=\"../../../../__pv_it/common/992b571de684986f68d4eb2d5494d15261d382a20/expr.png\" style=\"display:inline;vertical-align:middle;\" /></a>, <a class=\"ProveItLink\" href=\"../../../../__pv_it/common/e28d51f4d8e210e74e191fa3ba65e6ed431188b80/expr.ipynb\"><img src=\"../../../../__pv_it/common/e28d51f4d8e210e74e191fa3ba65e6ed431188b80/expr.png\" style=\"display:inline;vertical-align:middle;\" /></a>, <a class=\"ProveItLink\" href=\"../../theorems/a10dbfd9a4efbb6f30af430036ab01697a9460f80/expr.ipynb\"><img src=\"../../theorems/a10dbfd9a4efbb6f30af430036ab01697a9460f80/expr.png\" style=\"display:inline;vertical-align:middle;\" /></a> <a class=\"ProveItLink\" href=\"../301f9914d2d8edc55168ffe028e9fb8b994f3e330/proof.ipynb\" style=\"text-decoration: none\">&nbsp;&#x22A2;&nbsp;&nbsp;</a><a class=\"ProveItLink\" href=\"../d78b4106059c2a432c2772056c83e08c8748e7930/expr.ipynb\"><img src=\"../d78b4106059c2a432c2772056c83e08c8748e7930/expr.png\" style=\"display:inline;vertical-align:middle;\" /></a></span></td></tr>\n",
       "<tr><td>&nbsp;</td><td colspan=4 style=\"text-align:left\"><span style=\"font-size:20px;\"><a class=\"ProveItLink\" href=\"../../../../../__pv_it/common/09585084922504426caf1db2ff588a23a0932a960/expr.ipynb\"><img src=\"../../../../../__pv_it/common/09585084922504426caf1db2ff588a23a0932a960/expr.png\" style=\"display:inline;vertical-align:middle;\" /></a> : <a class=\"ProveItLink\" href=\"../../../../../__pv_it/common/09585084922504426caf1db2ff588a23a0932a960/expr.ipynb\"><img src=\"../../../../../__pv_it/common/09585084922504426caf1db2ff588a23a0932a960/expr.png\" style=\"display:inline;vertical-align:middle;\" /></a></span></td></tr><tr><td><a name=\"proveit.logic.booleans._proof_conditioned_forall_over_bool_by_cases.1baa237848e431381bc381fc0fd65d6122195df90_step2\">2</a></td><td>assumption</td><td></td><td><span style=\"font-size:20px;\"><a class=\"ProveItLink\" href=\"../../../../../__pv_it/common/a3b5f30b31e2e6c8d4ff71eeb41c35c44be51cd10/expr.ipynb\"><img src=\"../../../../../__pv_it/common/a3b5f30b31e2e6c8d4ff71eeb41c35c44be51cd10/expr.png\" style=\"display:inline;vertical-align:middle;\" /></a> <a class=\"ProveItLink\" href=\"../2ea5eeeb65e3ecaf3756e95469630352269d17100/proof.ipynb\" style=\"text-decoration: none\">&nbsp;&#x22A2;&nbsp;&nbsp;</a><a class=\"ProveItLink\" href=\"../../../../../__pv_it/common/a3b5f30b31e2e6c8d4ff71eeb41c35c44be51cd10/expr.ipynb\"><img src=\"../../../../../__pv_it/common/a3b5f30b31e2e6c8d4ff71eeb41c35c44be51cd10/expr.png\" style=\"display:inline;vertical-align:middle;\" /></a></span></td></tr>\n",
       "<tr><td><a name=\"proveit.logic.booleans._proof_conditioned_forall_over_bool_by_cases.1baa237848e431381bc381fc0fd65d6122195df90_step3\">3</a></td><td>instantiation</td><td><a href=\"#proveit.logic.booleans._proof_conditioned_forall_over_bool_by_cases.1baa237848e431381bc381fc0fd65d6122195df90_step5\">5</a>, <a href=\"#proveit.logic.booleans._proof_conditioned_forall_over_bool_by_cases.1baa237848e431381bc381fc0fd65d6122195df90_step6\">6</a>, <a href=\"#proveit.logic.booleans._proof_conditioned_forall_over_bool_by_cases.1baa237848e431381bc381fc0fd65d6122195df90_step7\">7</a></td><td><span style=\"font-size:20px;\"><a class=\"ProveItLink\" href=\"../../../../__pv_it/common/992b571de684986f68d4eb2d5494d15261d382a20/expr.ipynb\"><img src=\"../../../../__pv_it/common/992b571de684986f68d4eb2d5494d15261d382a20/expr.png\" style=\"display:inline;vertical-align:middle;\" /></a>, <a class=\"ProveItLink\" href=\"../../../../__pv_it/common/e28d51f4d8e210e74e191fa3ba65e6ed431188b80/expr.ipynb\"><img src=\"../../../../__pv_it/common/e28d51f4d8e210e74e191fa3ba65e6ed431188b80/expr.png\" style=\"display:inline;vertical-align:middle;\" /></a> <a class=\"ProveItLink\" href=\"../6fbc77db32c601a8e8a1371bdad616cd79b597720/proof.ipynb\" style=\"text-decoration: none\">&nbsp;&#x22A2;&nbsp;&nbsp;</a><a class=\"ProveItLink\" href=\"../ae8e755b658753cde1ab35a66ad5b5d2819c85a50/expr.ipynb\"><img src=\"../ae8e755b658753cde1ab35a66ad5b5d2819c85a50/expr.png\" style=\"display:inline;vertical-align:middle;\" /></a></span></td></tr>\n",
       "<tr><td>&nbsp;</td><td colspan=4 style=\"text-align:left\"><span style=\"font-size:20px;\"><a class=\"ProveItLink\" href=\"../../../../../__pv_it/common/179eec53aec5f67dcadb70a64bbe503739c53abe0/expr.ipynb\"><img src=\"../../../../../__pv_it/common/179eec53aec5f67dcadb70a64bbe503739c53abe0/expr.png\" style=\"display:inline;vertical-align:middle;\" /></a> : <a class=\"ProveItLink\" href=\"../d78b4106059c2a432c2772056c83e08c8748e7930/expr.ipynb\"><img src=\"../d78b4106059c2a432c2772056c83e08c8748e7930/expr.png\" style=\"display:inline;vertical-align:middle;\" /></a></span></td></tr><tr><td><a name=\"proveit.logic.booleans._proof_conditioned_forall_over_bool_by_cases.1baa237848e431381bc381fc0fd65d6122195df90_step4\">4</a></td><td>assumption</td><td></td><td><span style=\"font-size:20px;\"><a class=\"ProveItLink\" href=\"../../theorems/a10dbfd9a4efbb6f30af430036ab01697a9460f80/expr.ipynb\"><img src=\"../../theorems/a10dbfd9a4efbb6f30af430036ab01697a9460f80/expr.png\" style=\"display:inline;vertical-align:middle;\" /></a> <a class=\"ProveItLink\" href=\"../bdbd2a3263f243d9e47f13bd4727aa8d51e559f80/proof.ipynb\" style=\"text-decoration: none\">&nbsp;&#x22A2;&nbsp;&nbsp;</a><a class=\"ProveItLink\" href=\"../../theorems/a10dbfd9a4efbb6f30af430036ab01697a9460f80/expr.ipynb\"><img src=\"../../theorems/a10dbfd9a4efbb6f30af430036ab01697a9460f80/expr.png\" style=\"display:inline;vertical-align:middle;\" /></a></span></td></tr>\n",
       "<tr><td><a name=\"proveit.logic.booleans._proof_conditioned_forall_over_bool_by_cases.1baa237848e431381bc381fc0fd65d6122195df90_step5\">5</a></td><td>theorem</td><td></td><td><span style=\"font-size:20px;\"> <a class=\"ProveItLink\" href=\"../../../_theory_nbs_/proofs/forall_over_bool_by_cases/thm_proof.ipynb\" style=\"text-decoration: none\">&nbsp;&#x22A2;&nbsp;&nbsp;</a><a class=\"ProveItLink\" href=\"../../theorems/6d327d2140f1f0c2a937cb448134f4763a4374070/expr.ipynb\"><img src=\"../../theorems/6d327d2140f1f0c2a937cb448134f4763a4374070/expr.png\" style=\"display:inline;vertical-align:middle;\" /></a></span></td></tr>\n",
       "<tr><td>&nbsp;</td><td colspan=4 style-\"text-align:left\"><a class=\"ProveItLink\" href=\"../../../_theory_nbs_/proofs/forall_over_bool_by_cases/thm_proof.ipynb\">proveit.logic.booleans.forall_over_bool_by_cases</a></td></tr><tr><td><a name=\"proveit.logic.booleans._proof_conditioned_forall_over_bool_by_cases.1baa237848e431381bc381fc0fd65d6122195df90_step6\">6</a></td><td>assumption</td><td></td><td><span style=\"font-size:20px;\"><a class=\"ProveItLink\" href=\"../../../../__pv_it/common/992b571de684986f68d4eb2d5494d15261d382a20/expr.ipynb\"><img src=\"../../../../__pv_it/common/992b571de684986f68d4eb2d5494d15261d382a20/expr.png\" style=\"display:inline;vertical-align:middle;\" /></a> <a class=\"ProveItLink\" href=\"../ec66aa1c789ff27dad56ac7dfbad1d56771b77370/proof.ipynb\" style=\"text-decoration: none\">&nbsp;&#x22A2;&nbsp;&nbsp;</a><a class=\"ProveItLink\" href=\"../../../../__pv_it/common/992b571de684986f68d4eb2d5494d15261d382a20/expr.ipynb\"><img src=\"../../../../__pv_it/common/992b571de684986f68d4eb2d5494d15261d382a20/expr.png\" style=\"display:inline;vertical-align:middle;\" /></a></span></td></tr>\n",
       "<tr><td><a name=\"proveit.logic.booleans._proof_conditioned_forall_over_bool_by_cases.1baa237848e431381bc381fc0fd65d6122195df90_step7\">7</a></td><td>assumption</td><td></td><td><span style=\"font-size:20px;\"><a class=\"ProveItLink\" href=\"../../../../__pv_it/common/e28d51f4d8e210e74e191fa3ba65e6ed431188b80/expr.ipynb\"><img src=\"../../../../__pv_it/common/e28d51f4d8e210e74e191fa3ba65e6ed431188b80/expr.png\" style=\"display:inline;vertical-align:middle;\" /></a> <a class=\"ProveItLink\" href=\"../b88eb9a9d7fc57f44520931e70f52a45909c9be40/proof.ipynb\" style=\"text-decoration: none\">&nbsp;&#x22A2;&nbsp;&nbsp;</a><a class=\"ProveItLink\" href=\"../../../../__pv_it/common/e28d51f4d8e210e74e191fa3ba65e6ed431188b80/expr.ipynb\"><img src=\"../../../../__pv_it/common/e28d51f4d8e210e74e191fa3ba65e6ed431188b80/expr.png\" style=\"display:inline;vertical-align:middle;\" /></a></span></td></tr>\n",
       "</table>"
      ],
      "text/plain": [
       "<proveit._core_.proof._ShowProof at 0x7f3e6162b0f0>"
      ]
     },
     "execution_count": 1,
     "metadata": {},
     "output_type": "execute_result"
    }
   ],
   "source": [
    "import proveit\n",
    "# Automation is not needed when only showing a stored proof:\n",
    "proveit.defaults.automation = False # This will speed things up.\n",
    "proveit.defaults.inline_pngs = False # Makes files smaller.\n",
    "%show_proof"
   ]
  },
  {
   "cell_type": "code",
   "execution_count": null,
   "metadata": {},
   "outputs": [],
   "source": []
  }
 ],
 "metadata": {
  "kernelspec": {
   "display_name": "Python 3",
   "language": "python",
   "name": "python3"
  }
 },
 "nbformat": 4,
 "nbformat_minor": 0
}