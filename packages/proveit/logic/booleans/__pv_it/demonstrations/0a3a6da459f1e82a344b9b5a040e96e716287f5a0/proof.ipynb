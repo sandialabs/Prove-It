{
 "cells": [
  {
   "cell_type": "markdown",
   "metadata": {},
   "source": [
    "Show the Proof\n",
    "========"
   ]
  },
  {
   "cell_type": "code",
   "execution_count": 1,
   "metadata": {},
   "outputs": [
    {
     "data": {
      "text/html": [
       "<table><tr><th>&nbsp;</th><th>step type</th><th>requirements</th><th>statement</th></tr>\n",
       "<tr><td><a name=\"proveit.logic.booleans.demonstrations.0a3a6da459f1e82a344b9b5a040e96e716287f5a0_step0\">0</a></td><td>instantiation</td><td><a href=\"#proveit.logic.booleans.demonstrations.0a3a6da459f1e82a344b9b5a040e96e716287f5a0_step1\">1</a>, <a href=\"#proveit.logic.booleans.demonstrations.0a3a6da459f1e82a344b9b5a040e96e716287f5a0_step2\">2</a></td><td><span style=\"font-size:20px;\"><a class=\"ProveItLink\" href=\"../ff229cb46097a90cae78058bd166db11911761a00/expr.ipynb\"><img src=\"../ff229cb46097a90cae78058bd166db11911761a00/expr.png\" style=\"display:inline;vertical-align:middle;\" /></a> <a class=\"ProveItLink\" href=\"proof.ipynb\" style=\"text-decoration: none\">&nbsp;&#x22A2;&nbsp;&nbsp;</a><a class=\"ProveItLink\" href=\"../../../../__pv_it/common/c478d9b029a938e6b1884ac8094c38de4ad167440/expr.ipynb\"><img src=\"../../../../__pv_it/common/c478d9b029a938e6b1884ac8094c38de4ad167440/expr.png\" style=\"display:inline;vertical-align:middle;\" /></a></span></td></tr>\n",
       "<tr><td>&nbsp;</td><td colspan=4 style=\"text-align:left\"><span style=\"font-size:20px;\"><a class=\"ProveItLink\" href=\"../../../../../__pv_it/common/09585084922504426caf1db2ff588a23a0932a960/expr.ipynb\"><img src=\"../../../../../__pv_it/common/09585084922504426caf1db2ff588a23a0932a960/expr.png\" style=\"display:inline;vertical-align:middle;\" /></a> : <a class=\"ProveItLink\" href=\"../../../../__pv_it/common/c478d9b029a938e6b1884ac8094c38de4ad167440/expr.ipynb\"><img src=\"../../../../__pv_it/common/c478d9b029a938e6b1884ac8094c38de4ad167440/expr.png\" style=\"display:inline;vertical-align:middle;\" /></a></span></td></tr><tr><td><a name=\"proveit.logic.booleans.demonstrations.0a3a6da459f1e82a344b9b5a040e96e716287f5a0_step1\">1</a></td><td>axiom</td><td></td><td><span style=\"font-size:20px;\"> <a class=\"ProveItLink\" href=\"../../../_theory_nbs_/axioms.ipynb#eq_true_elim\" style=\"text-decoration: none\">&nbsp;&#x22A2;&nbsp;&nbsp;</a><a class=\"ProveItLink\" href=\"../../axioms/e109ec75dbf9febf42e2a6841bae9d9b810afe380/expr.ipynb\"><img src=\"../../axioms/e109ec75dbf9febf42e2a6841bae9d9b810afe380/expr.png\" style=\"display:inline;vertical-align:middle;\" /></a></span></td></tr>\n",
       "<tr><td>&nbsp;</td><td colspan=4 style-\"text-align:left\"><a class=\"ProveItLink\" href=\"../../../_theory_nbs_/axioms.ipynb#eq_true_elim\">proveit.logic.booleans.eq_true_elim</a></td></tr><tr><td><a name=\"proveit.logic.booleans.demonstrations.0a3a6da459f1e82a344b9b5a040e96e716287f5a0_step2\">2</a></td><td>assumption</td><td></td><td><span style=\"font-size:20px;\"><a class=\"ProveItLink\" href=\"../ff229cb46097a90cae78058bd166db11911761a00/expr.ipynb\"><img src=\"../ff229cb46097a90cae78058bd166db11911761a00/expr.png\" style=\"display:inline;vertical-align:middle;\" /></a> <a class=\"ProveItLink\" href=\"../38bcb451af91caba39b8259fa5ce8cf91821844f0/proof.ipynb\" style=\"text-decoration: none\">&nbsp;&#x22A2;&nbsp;&nbsp;</a><a class=\"ProveItLink\" href=\"../ff229cb46097a90cae78058bd166db11911761a00/expr.ipynb\"><img src=\"../ff229cb46097a90cae78058bd166db11911761a00/expr.png\" style=\"display:inline;vertical-align:middle;\" /></a></span></td></tr>\n",
       "</table>"
      ],
      "text/plain": [
       "<proveit._core_.proof._ShowProof at 0x7f75f42226a0>"
      ]
     },
     "execution_count": 1,
     "metadata": {},
     "output_type": "execute_result"
    }
   ],
   "source": [
    "import proveit\n",
    "# Automation is not needed when only showing a stored proof:\n",
    "proveit.defaults.automation = False # This will speed things up.\n",
    "proveit.defaults.inline_pngs = False # Makes files smaller.\n",
    "%show_proof"
   ]
  },
  {
   "cell_type": "code",
   "execution_count": null,
   "metadata": {},
   "outputs": [],
   "source": []
  }
 ],
 "metadata": {
  "kernelspec": {
   "display_name": "Python 3",
   "language": "python",
   "name": "python3"
  }
 },
 "nbformat": 4,
 "nbformat_minor": 0
}