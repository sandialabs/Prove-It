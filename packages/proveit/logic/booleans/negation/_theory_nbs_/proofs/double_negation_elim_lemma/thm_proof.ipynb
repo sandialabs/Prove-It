{
 "cells": [
  {
   "cell_type": "markdown",
   "metadata": {},
   "source": [
    "Proof of <a class=\"ProveItLink\" href=\"../../../../../../_theory_nbs_/theory.ipynb\">proveit</a>.<a class=\"ProveItLink\" href=\"../../../../../_theory_nbs_/theory.ipynb\">logic</a>.<a class=\"ProveItLink\" href=\"../../../../_theory_nbs_/theory.ipynb\">booleans</a>.<a class=\"ProveItLink\" href=\"../../theory.ipynb\">negation</a>.<a class=\"ProveItLink\" href=\"../../theorems.ipynb#double_negation_elim_lemma\">double_negation_elim_lemma</a> theorem\n",
    "========"
   ]
  },
  {
   "cell_type": "code",
   "execution_count": 1,
   "metadata": {},
   "outputs": [],
   "source": [
    "import proveit\n",
    "from proveit import A\n",
    "from proveit.logic import TRUE, FALSE, Implies, Not, Equals\n",
    "from proveit.logic.booleans  import true_axiom\n",
    "from proveit.logic.booleans.implication import false_antecedent_implication\n",
    "from proveit.logic.booleans.negation  import not_t\n",
    "theory = proveit.Theory() # the theorem's theory"
   ]
  },
  {
   "cell_type": "code",
   "execution_count": 2,
   "metadata": {},
   "outputs": [
    {
     "data": {
      "text/html": [
       "With these <a href=\"allowed_presumptions.txt\">allowed</a>/<a href=\"disallowed_presumptions.txt\">disallowed</a> theorem/theory presumptions (e.g., to avoid circular dependencies), we begin our proof of<br><strong id=\"double_negation_elim_lemma\">double_negation_elim_lemma:</strong> <a class=\"ProveItLink\" href=\"../../../__pv_it/theorems/a427462f8899f8227e2e33f72f4eda719ef6d48c0/expr.ipynb\"><img src=\"data:image/png;base64,iVBORw0KGgoAAAANSUhEUgAAAIcAAAAWBAMAAAAY85LfAAAAMFBMVEX///8AAAAAAAAAAAAAAAAA\n",
       "AAAAAAAAAAAAAAAAAAAAAAAAAAAAAAAAAAAAAAAAAAAv3aB7AAAAD3RSTlMAq1RmmUTNIjK7EInv\n",
       "3XZ/CtNrAAAACXBIWXMAAA7EAAAOxAGVKw4bAAABy0lEQVQ4y6WTO0jDUBSG/6atbRNauzq14uKm\n",
       "i6t08AUOFl0UFwVFbEGjQkEQWsHFRUXsEEEMbi4SXKQ6qJvggw6uhYC4CYqDjnrPTZvHRaSkgZv8\n",
       "J/nz5ZyTc4FWjwJbSRJdLUCW2RokseCfIf2w0yZbkT3/kFBKBdp0QEn7h1xcl4BgLwP5Z0TMd8rg\n",
       "sVa7b6Ea9LAsMAIc8lgXDRl3/1Rb6kg498exa7DLCiL8N8t3dXt+7tnqkbvdfbYiX8b1oSK9HdOV\n",
       "LIXKJzvtdJRhGqvdIkRO2pJ8040gcTCQIptkWn2dfGIVstoYRDkRIaGsLcnX1ij9DGivkpjp57E5\n",
       "C7xwYaxdipC4I8lnzwSrK35D4jzHE8MQZP6aOfBQEiEFW5EPUr0pYZqPD1IbvN5JvPF7lMnWqwNR\n",
       "NE07whRQYaJq+RCu8zeop9+kAvy7o1cpPbioafvUE8WbSQCdlkhaPkStR6c/OUjHX4aTJYqlqGFl\n",
       "oiREyHYDwn12OcIxwdqctqaOQXa8kFCjsZm6L2H+Ob23kMfmsc4qk5byWq/Y2Jjq8cXUf3aCXNHK\n",
       "TuSChA2P77T5zeUe+2HPk2F/EMW9PYPZ5iGewt0QWTD+ArHPb9ovIPSGAAAAAElFTkSuQmCC\n",
       "\" style=\"display:inline;vertical-align:middle;\" /></a><br>(see <a class=\"ProveItLink\" href=\"../../../__pv_it/theorems/be90297dc41c0a2948a98580cd0eb7d75b2d77cd0/dependencies.ipynb\">dependencies</a>)<br>"
      ],
      "text/plain": [
       "<IPython.core.display.HTML object>"
      ]
     },
     "metadata": {},
     "output_type": "display_data"
    }
   ],
   "source": [
    "%proving double_negation_elim_lemma"
   ]
  },
  {
   "cell_type": "markdown",
   "metadata": {},
   "source": [
    "Use the above theorem to perform proof-by-cases.  Start with the $A=\\top$ case."
   ]
  },
  {
   "cell_type": "code",
   "execution_count": 3,
   "metadata": {},
   "outputs": [
    {
     "data": {
      "text/html": [
       "<span style=\"font-size:20px;\"> <a class=\"ProveItLink\" href=\"../../../../_theory_nbs_/axioms.ipynb#true_axiom\" style=\"text-decoration: none\">&nbsp;&#x22A2;&nbsp;&nbsp;</a><a class=\"ProveItLink\" href=\"../../../../__pv_it/common/95025295868b9266d37330b4427adf122f6061770/expr.ipynb\"><img src=\"data:image/png;base64,iVBORw0KGgoAAAANSUhEUgAAAA4AAAAOBAMAAADtZjDiAAAAG1BMVEX///8AAAAAAAAAAAAAAAAA\n",
       "AAAAAAAAAAAAAAB4Gco9AAAACHRSTlMAmd2rVHZEZkA3AkMAAAAJcEhZcwAADsQAAA7EAZUrDhsA\n",
       "AAAYSURBVAjXYxBSAgFlBiBwZYAAWtHpQAwAFRwEg6MlY1sAAAAASUVORK5CYII=\n",
       "\" style=\"display:inline;vertical-align:middle;\" /></a></span>"
      ],
      "text/plain": [
       "|- TRUE"
      ]
     },
     "metadata": {},
     "output_type": "display_data"
    }
   ],
   "source": [
    "true_axiom"
   ]
  },
  {
   "cell_type": "code",
   "execution_count": 4,
   "metadata": {},
   "outputs": [
    {
     "data": {
      "text/html": [
       "<span style=\"font-size:20px;\"> <a class=\"ProveItLink\" href=\"../../../__pv_it/_proof_double_negation_elim_lemma/2e74f74dc23cdc5c9c3827521f7fc96a032b581c0/proof.ipynb\" style=\"text-decoration: none\">&nbsp;&#x22A2;&nbsp;&nbsp;</a><a class=\"ProveItLink\" href=\"../../../__pv_it/_proof_double_negation_elim_lemma/fdabeb3ae9f85093a5ce79fc247d05cc2e822c380/expr.ipynb\"><img src=\"data:image/png;base64,iVBORw0KGgoAAAANSUhEUgAAAHoAAAAVBAMAAAB71edYAAAAMFBMVEX///8AAAAAAAAAAAAAAAAA\n",
       "AAAAAAAAAAAAAAAAAAAAAAAAAAAAAAAAAAAAAAAAAAAv3aB7AAAAD3RSTlMAInZUiRDNmWbv3US7\n",
       "qzJazP2FAAAACXBIWXMAAA7EAAAOxAGVKw4bAAABLElEQVQ4y2NgYBBggAMkJhgwQjFuwGSAjQkB\n",
       "3AoQjBuYYGGyrwKDCwwaQI4GFk1VYPm1DKwJcCEkJgMDM9hKtgAIxgKMwNY0wPlITJhujgIIxqWb\n",
       "E8HnZMDQzTAViqHgKJpuMwTfDIvuDCiGgjdouksQ/BIsun2hGAo4HFB1IxmcgUV3GxTDouE7qu7F\n",
       "MIkCZCZctyUUww1NRtE9G5asLiAz4brfQzEchM0mQfdOKIan3RQBNJfDtCzGotsKimH+XiaA4vJD\n",
       "MC0FyEy47h4ohiX8A6ihhhQdvljCvAQ1JsXQ4vsVgv8KJXtBku1qKIaCcwjmDhDB9QDOR2LCA2kB\n",
       "BOMqAJDyAJbsAMo4KJkHHRzEyoQCGSjGCWKwMpHMO4hPN6MCNia0qBKAYFwAAIeWT9+SOJKeAAAA\n",
       "AElFTkSuQmCC\n",
       "\" style=\"display:inline;vertical-align:middle;\" /></a></span>"
      ],
      "text/plain": [
       "|- [not]([not](TRUE)) => TRUE"
      ]
     },
     "metadata": {},
     "output_type": "display_data"
    }
   ],
   "source": [
    "true_axiom.as_implication(Not(Not(TRUE)))"
   ]
  },
  {
   "cell_type": "markdown",
   "metadata": {},
   "source": [
    "Now for the $A=\\bot$ case."
   ]
  },
  {
   "cell_type": "code",
   "execution_count": 5,
   "metadata": {},
   "outputs": [
    {
     "data": {
      "text/html": [
       "<span style=\"font-size:20px;\"> <a class=\"ProveItLink\" href=\"../../../__pv_it/_proof_double_negation_elim_lemma/f6745a461d3fa1aa0eab38f7065fa9e336ce5f130/proof.ipynb\" style=\"text-decoration: none\">&nbsp;&#x22A2;&nbsp;&nbsp;</a><a class=\"ProveItLink\" href=\"../../../__pv_it/_proof_double_negation_elim_lemma/7a6983770731bb7d2383243903079dd9cab68bb00/expr.ipynb\"><img src=\"data:image/png;base64,iVBORw0KGgoAAAANSUhEUgAAAFcAAAAVBAMAAADBdm84AAAAMFBMVEX///8AAAAAAAAAAAAAAAAA\n",
       "AAAAAAAAAAAAAAAAAAAAAAAAAAAAAAAAAAAAAAAAAAAv3aB7AAAAD3RSTlMAmd0iq3ZUiRDNZu9E\n",
       "uzLWhN+VAAAACXBIWXMAAA7EAAAOxAGVKw4bAAAA5ElEQVQoz42TrQ7CMBSFzyD8DhBIFCxoMgh4\n",
       "HoGEBI3B7xGwOCRye4N5zAwGtUfhEaCc23ZkV3CSr/mynG5t0wE2TWjKxILLQVXmIdi0E02Bpxla\n",
       "KbG5qAqcvuNNkExUteVMkOSq2nJ4JrLOKxR15V5KmMBvKkjq5c6WwE2tqyv3r1/G0SczNI5Q1JXb\n",
       "OTFZIyygqCuPXuSv8iAnfGy+XVe/jCkxWWK4g6J+gyWBO5u6urI5Tn+koykU/RzKPYrmQKMgkgU0\n",
       "tVkJkkzV6t2q3K9hrKn9dUpi0y01rUz/ecVGVWZP3tM6NDonTjfvAAAAAElFTkSuQmCC\n",
       "\" style=\"display:inline;vertical-align:middle;\" /></a></span>"
      ],
      "text/plain": [
       "|- [not]([not]([not](FALSE)))"
      ]
     },
     "metadata": {},
     "output_type": "display_data"
    }
   ],
   "source": [
    "Not(Not(FALSE)).disprove()"
   ]
  },
  {
   "cell_type": "code",
   "execution_count": 6,
   "metadata": {},
   "outputs": [
    {
     "data": {
      "text/html": [
       "<span style=\"font-size:20px;\"> <a class=\"ProveItLink\" href=\"../../../__pv_it/_proof_double_negation_elim_lemma/a21343fe9683fdf297d4c5ee8e25487da93974460/proof.ipynb\" style=\"text-decoration: none\">&nbsp;&#x22A2;&nbsp;&nbsp;</a><a class=\"ProveItLink\" href=\"../../../__pv_it/_proof_double_negation_elim_lemma/197b2c6fd043043704400fb2da5ac19828aa1dbd0/expr.ipynb\"><img src=\"data:image/png;base64,iVBORw0KGgoAAAANSUhEUgAAAHoAAAAVBAMAAAB71edYAAAAMFBMVEX///8AAAAAAAAAAAAAAAAA\n",
       "AAAAAAAAAAAAAAAAAAAAAAAAAAAAAAAAAAAAAAAAAAAv3aB7AAAAD3RSTlMAInZUiRDNmWbv3US7\n",
       "qzJazP2FAAAACXBIWXMAAA7EAAAOxAGVKw4bAAABNUlEQVQ4y2NgYBBggAMkJhgwQjFuwGSAjQkB\n",
       "3AoQjBuYYGUycDeASA0oxgJ2gAjWBDgficnAwAy2ki0AgrEAIxDB3gDnIzFhujkKIBiXbk4En5MB\n",
       "QzfDVCiGgqNous0QfDMsujOgGAreoOkuQfBLsOj2hWIo4HBA1Y1kcAYW3W1QzMC+Cgy+o+peDJMo\n",
       "QGbCdVtCMdzQZBTds2HJ6gIyE677PRTDQdhsEnTvhGJ42k0RQHM5TMtiLLqtoBjm72UCKC4/BNNS\n",
       "gMyE6+6BYlj6PYAaakjR4YslzEtQY1IMLb5fIfgIJtCZK2etWgX0wWoGCIaCc1C6atWqmatWrWXg\n",
       "egCXQmLCA2kBBOMqAJDyAJbsAMo4KJkHHRzEyoQCGSjGCWKwMpHMO4hPN6MCNia0qBKAYFwAAA30\n",
       "T73G8RyJAAAAAElFTkSuQmCC\n",
       "\" style=\"display:inline;vertical-align:middle;\" /></a></span>"
      ],
      "text/plain": [
       "|- [not]([not](FALSE)) => FALSE"
      ]
     },
     "metadata": {},
     "output_type": "display_data"
    }
   ],
   "source": [
    "Implies(Not(Not(FALSE)), FALSE).prove()"
   ]
  },
  {
   "cell_type": "markdown",
   "metadata": {},
   "source": [
    "We will now be able to prove our theorem by cases."
   ]
  },
  {
   "cell_type": "code",
   "execution_count": 7,
   "metadata": {},
   "outputs": [
    {
     "name": "stdout",
     "output_type": "stream",
     "text": [
      "proveit.logic.booleans.negation.double_negation_elim_lemma has been proven.\n"
     ]
    },
    {
     "data": {
      "text/html": [
       "<table><tr><th>&nbsp;</th><th>step type</th><th>requirements</th><th>statement</th></tr>\n",
       "<tr><td><a name=\"0x66e4f2a6f0d79aeb_step0\">0</a></td><td>instantiation</td><td><a href=\"#0x66e4f2a6f0d79aeb_step1\">1</a>, <a href=\"#0x66e4f2a6f0d79aeb_step2\">2</a>, <a href=\"#0x66e4f2a6f0d79aeb_step3\">3</a></td><td><span style=\"font-size:20px;\"> <a class=\"ProveItLink\" href=\"../../../__pv_it/_proof_double_negation_elim_lemma/852ad3b1e0e76c9a17dd0e1e5dcde95026300d7e0/proof.ipynb\" style=\"text-decoration: none\">&nbsp;&#x22A2;&nbsp;&nbsp;</a><a class=\"ProveItLink\" href=\"../../../__pv_it/theorems/a427462f8899f8227e2e33f72f4eda719ef6d48c0/expr.ipynb\"><img src=\"data:image/png;base64,iVBORw0KGgoAAAANSUhEUgAAAIcAAAAWBAMAAAAY85LfAAAAMFBMVEX///8AAAAAAAAAAAAAAAAA\n",
       "AAAAAAAAAAAAAAAAAAAAAAAAAAAAAAAAAAAAAAAAAAAv3aB7AAAAD3RSTlMAq1RmmUTNIjK7EInv\n",
       "3XZ/CtNrAAAACXBIWXMAAA7EAAAOxAGVKw4bAAABy0lEQVQ4y6WTO0jDUBSG/6atbRNauzq14uKm\n",
       "i6t08AUOFl0UFwVFbEGjQkEQWsHFRUXsEEEMbi4SXKQ6qJvggw6uhYC4CYqDjnrPTZvHRaSkgZv8\n",
       "J/nz5ZyTc4FWjwJbSRJdLUCW2RokseCfIf2w0yZbkT3/kFBKBdp0QEn7h1xcl4BgLwP5Z0TMd8rg\n",
       "sVa7b6Ea9LAsMAIc8lgXDRl3/1Rb6kg498exa7DLCiL8N8t3dXt+7tnqkbvdfbYiX8b1oSK9HdOV\n",
       "LIXKJzvtdJRhGqvdIkRO2pJ8040gcTCQIptkWn2dfGIVstoYRDkRIaGsLcnX1ij9DGivkpjp57E5\n",
       "C7xwYaxdipC4I8lnzwSrK35D4jzHE8MQZP6aOfBQEiEFW5EPUr0pYZqPD1IbvN5JvPF7lMnWqwNR\n",
       "NE07whRQYaJq+RCu8zeop9+kAvy7o1cpPbioafvUE8WbSQCdlkhaPkStR6c/OUjHX4aTJYqlqGFl\n",
       "oiREyHYDwn12OcIxwdqctqaOQXa8kFCjsZm6L2H+Ob23kMfmsc4qk5byWq/Y2Jjq8cXUf3aCXNHK\n",
       "TuSChA2P77T5zeUe+2HPk2F/EMW9PYPZ5iGewt0QWTD+ArHPb9ovIPSGAAAAAElFTkSuQmCC\n",
       "\" style=\"display:inline;vertical-align:middle;\" /></a></span></td></tr>\n",
       "<tr><td>&nbsp;</td><td colspan=4 style=\"text-align:left\"><span style=\"font-size:20px;\"><a class=\"ProveItLink\" href=\"../../../../../../__pv_it/common/179eec53aec5f67dcadb70a64bbe503739c53abe0/expr.ipynb\"><img src=\"data:image/png;base64,iVBORw0KGgoAAAANSUhEUgAAADIAAAAVBAMAAAD2uKAMAAAAMFBMVEX///8AAAAAAAAAAAAAAAAA\n",
       "AAAAAAAAAAAAAAAAAAAAAAAAAAAAAAAAAAAAAAAAAAAv3aB7AAAAD3RSTlMAdrurzZkQ7zJUiSLd\n",
       "ZkQEbk8lAAAACXBIWXMAAA7EAAAOxAGVKw4bAAABHUlEQVQoz2NgQAYbYAxuBlTAOAFMbWFg4BMA\n",
       "MYT+Kxu5JoBYsyAK/IFYFsz6wsDAVAak2RzAXM7/QIIFpJTjI5AHxAysF8AyrPZA63gDQKb/AOJf\n",
       "QAY7xLDV6xuAJMgQpg9ADJRlmAJxloA8yCG+QMyvwMDQD3JLFMQwhvkgUxczgEV3nWSAKmNgeMnQ\n",
       "vwBIXQFieatV98BiYGmGAIb9BkBqOhDrwzxaB/ataqi9AsgkiHeQZBKBFh8A0s+B3vkFkzkJMYyB\n",
       "pwBIzwFq/weTUQRiPqC7WIDeYLgEpcEA5NDtIA/+BnuBVf+TAFSmh4Eh6b8bA6f+F6CzzyFHAk8D\n",
       "gs19AFkGHIpQAA1dGNBGMDehxmkSVkWQYIbH+wYGAAUzPGBwqko8AAAAAElFTkSuQmCC\n",
       "\" style=\"display:inline;vertical-align:middle;\" /></a> : <a class=\"ProveItLink\" href=\"../../../../../../__pv_it/common/09585084922504426caf1db2ff588a23a0932a960/expr.ipynb\"><img src=\"data:image/png;base64,iVBORw0KGgoAAAANSUhEUgAAAA8AAAAPBAMAAADJ+Ih5AAAAMFBMVEX///8AAAAAAAAAAAAAAAAA\n",
       "AAAAAAAAAAAAAAAAAAAAAAAAAAAAAAAAAAAAAAAAAAAv3aB7AAAAD3RSTlMAIs1UmauJMnZmRLsQ\n",
       "3e++988cAAAACXBIWXMAAA7EAAAOxAGVKw4bAAAAXklEQVQI12NgAAEhBijQh9LM/6EMlngBCCMx\n",
       "vwBMMzb0G0BkGOwngBmLGeoTwAwHBvkAEM2xxSV+A4hxgoGB/wJEhoH3AZDmAupg+gBkyAEx90cG\n",
       "htP/dRiY939KAABt3hLO6mcEjQAAAABJRU5ErkJggg==\n",
       "\" style=\"display:inline;vertical-align:middle;\" /></a>, <a class=\"ProveItLink\" href=\"../../../../../../__pv_it/common/a3b5f30b31e2e6c8d4ff71eeb41c35c44be51cd10/expr.ipynb\"><img src=\"data:image/png;base64,iVBORw0KGgoAAAANSUhEUgAAADEAAAAVBAMAAAAdjxsPAAAAMFBMVEX///8AAAAAAAAAAAAAAAAA\n",
       "AAAAAAAAAAAAAAAAAAAAAAAAAAAAAAAAAAAAAAAAAAAv3aB7AAAAD3RSTlMAIomZq2bNMhC7791E\n",
       "VHYkqjbgAAAACXBIWXMAAA7EAAAOxAGVKw4bAAABRklEQVQoz11RMUvDQBT+0liT1DYEwUmoouDi\n",
       "oGBdXNpBZwsdXIOT4GAGdzM5OAX/QFP8A92EOpilq2QSnKyjg1BFLSpS33dHY/Tg3vvefe++e+8e\n",
       "kFtGhjz8XU+a94EbjZaXdhSoLCo3PQTcJtFKgCmf4FTfvBcGB4wjMRc82tRM7VlMS/Yho12aWBGF\n",
       "2ZHYUgiTHmuBPKMkUXW/+VgTCxRDPQFMXcB65Y03G6inDI88lSarnFov4oo+rkPx9qeYGZVjwnhl\n",
       "BzF4hiIFSgnh40btQ5w1xBXDM3/C2APgi6Kx1FtOseVN1EzZPap1cZLuzRU6vOhIOvosh/oR3M6g\n",
       "sB1CFwqD3bY93cLx+WqCgI92YbffQ9yN90ValeMkrprHZW4g88o6jVvlWzlG/645HumM30ka6s9g\n",
       "9VT3sKOMcf6Nu5qhB+AHo5JHTWUkwN0AAAAASUVORK5CYII=\n",
       "\" style=\"display:inline;vertical-align:middle;\" /></a> : <a class=\"ProveItLink\" href=\"../../../__pv_it/theorems/8ef12b95cfe752515f471cf6fa68ec6d049458490/expr.ipynb\"><img src=\"data:image/png;base64,iVBORw0KGgoAAAANSUhEUgAAADkAAAAVBAMAAAAOWFv7AAAAMFBMVEX///8AAAAAAAAAAAAAAAAA\n",
       "AAAAAAAAAAAAAAAAAAAAAAAAAAAAAAAAAAAAAAAAAAAv3aB7AAAAD3RSTlMAmd0iq3ZUiRDNZu9E\n",
       "uzLWhN+VAAAACXBIWXMAAA7EAAAOxAGVKw4bAAAA9ElEQVQoz2NggAFmBjRggMwJQ+YwT2BgOIrE\n",
       "ZytAluX8wMDAugDB70QxNR8oyzADwZdCkRX5DCQWIvgbkCXZzf8BSe4GuLUTkGVNWb+BLIdbzIji\n",
       "KAG2XyATHOCORHIgA08C33cgxTWBQUgJCBQZmBIYYEygQQzMX0C2Qd1iwsB9gAHGZGCIFRT5C6T4\n",
       "PmCT5QhgYPgEsgCuF2QyTJYRSGmDTFaACBky8AYwwJgMp4DUfJCrLsD974CIAZCB9w2QfcmnAGNx\n",
       "3P/ZwJD7fzoDA9MBuA49BgxghGAuxJRFihheA3RJ5gsINscFdFkU9abossEMDADECiu8DBGmvQAA\n",
       "AABJRU5ErkJggg==\n",
       "\" style=\"display:inline;vertical-align:middle;\" /></a>, <a class=\"ProveItLink\" href=\"../../../../../../__pv_it/common/09585084922504426caf1db2ff588a23a0932a960/expr.ipynb\"><img src=\"data:image/png;base64,iVBORw0KGgoAAAANSUhEUgAAAA8AAAAPBAMAAADJ+Ih5AAAAMFBMVEX///8AAAAAAAAAAAAAAAAA\n",
       "AAAAAAAAAAAAAAAAAAAAAAAAAAAAAAAAAAAAAAAAAAAv3aB7AAAAD3RSTlMAIs1UmauJMnZmRLsQ\n",
       "3e++988cAAAACXBIWXMAAA7EAAAOxAGVKw4bAAAAXklEQVQI12NgAAEhBijQh9LM/6EMlngBCCMx\n",
       "vwBMMzb0G0BkGOwngBmLGeoTwAwHBvkAEM2xxSV+A4hxgoGB/wJEhoH3AZDmAupg+gBkyAEx90cG\n",
       "htP/dRiY939KAABt3hLO6mcEjQAAAABJRU5ErkJggg==\n",
       "\" style=\"display:inline;vertical-align:middle;\" /></a> : <a class=\"ProveItLink\" href=\"../../../../../../__pv_it/common/09585084922504426caf1db2ff588a23a0932a960/expr.ipynb\"><img src=\"data:image/png;base64,iVBORw0KGgoAAAANSUhEUgAAAA8AAAAPBAMAAADJ+Ih5AAAAMFBMVEX///8AAAAAAAAAAAAAAAAA\n",
       "AAAAAAAAAAAAAAAAAAAAAAAAAAAAAAAAAAAAAAAAAAAv3aB7AAAAD3RSTlMAIs1UmauJMnZmRLsQ\n",
       "3e++988cAAAACXBIWXMAAA7EAAAOxAGVKw4bAAAAXklEQVQI12NgAAEhBijQh9LM/6EMlngBCCMx\n",
       "vwBMMzb0G0BkGOwngBmLGeoTwAwHBvkAEM2xxSV+A4hxgoGB/wJEhoH3AZDmAupg+gBkyAEx90cG\n",
       "htP/dRiY939KAABt3hLO6mcEjQAAAABJRU5ErkJggg==\n",
       "\" style=\"display:inline;vertical-align:middle;\" /></a></span></td></tr><tr><td><a name=\"0x66e4f2a6f0d79aeb_step1\">1</a></td><td>conjecture</td><td></td><td><span style=\"font-size:20px;\"> <a class=\"ProveItLink\" href=\"../../../../_theory_nbs_/proofs/conditioned_forall_over_bool_by_cases/thm_proof.ipynb\" style=\"text-decoration: none\">&nbsp;&#x22A2;&nbsp;&nbsp;</a><a class=\"ProveItLink\" href=\"../../../../__pv_it/theorems/04bd85b23a57ae8e49fc576fe74347ba356f43c80/expr.ipynb\"><img src=\"data:image/png;base64,iVBORw0KGgoAAAANSUhEUgAAAbgAAAAZBAMAAACx0yZ/AAAAMFBMVEX///8AAAAAAAAAAAAAAAAA\n",
       "AAAAAAAAAAAAAAAAAAAAAAAAAAAAAAAAAAAAAAAAAAAv3aB7AAAAD3RSTlMAq1RmmUTNIjK7EInv\n",
       "3XZ/CtNrAAAACXBIWXMAAA7EAAAOxAGVKw4bAAAFR0lEQVRYw91Yb4gbRRR/2WSzySa3zUFREarx\n",
       "DxUFNdDWD/7N2epZWzVgkV4FuSJSqJbmUATx7MUvQrHQgOK5pTQriFAqJV6r2Dtr0/aDFbFERRBp\n",
       "IC2iFiXmTmm9Fq3vzezuzO6k9QjKhQY2Oztvfm/e782b92YXoCd+ixrF/1ql1fi6N7jB8P+hdMll\n",
       "Rc7wW8XLj9wpThGVPcXJZeh2w/yTi9BNy3Wxtyqz/W89zNBV1hFvY2eOkXuAnjfMP7lYgezqJq0s\n",
       "wJXa6WDjPf58O5KDjYzcq7SQ5fknl6AQeqkb7PYmEsILlvPngbP4t5SRiyPnVLYH9hz5eqIb7G8l\n",
       "vCgia+wx9fKf+J92iFwUozPeCwllSbd5pUIXEtQ4eos1QwGeYxq/bDS+6AVy6UbjRLUb7CxA4m+8\n",
       "xzg6r/1O65dh5B4C2NEJk5cfbvJSU4eBnqw5h17204qKDMnFSpCktABmeHxMVewIS5CYcTDrLhaA\n",
       "nk2cx1uUx8IIGMhSr6wauJKZ/+kPfG43yfzSGsShBThg77TtZoDy0B/7+4soS9n25/Yu3wYPwf0T\n",
       "sIwjloEiQ1PQihHWfr/E+xZ/9Mj9rJFUFJvHhPOt6al91Ad9We4JY5ocWGPkkk6KZPcAHCTiG8D4\n",
       "TCL3RBFGi/COP8eTkqnROqTqXEaD9WoYIfVKCDOjymi77IAPWfsQGpk4aReslHF9SSInKU7NCEuS\n",
       "bbeRZhRPrxiYpfVsM3Jak+WThZhy8HYrXisFOa2OvijzYsjmiDui2EbyYLW5jA3eGEaIXhnBKpos\n",
       "c8ndxvOJvg2jdQWyslIwmRXkZMVrj3uW8DInyJkI/ou01NwUdS+JjgB8hbFBafQ+QW4MJ4m2oe7P\n",
       "4VYNFsHpLPRluIwNnggjRK+M6IOwjJOLR9ketOIZfsDAlbvLEeRkxc31on5t95afhSVF+gnXFURu\n",
       "gvxnnIMRjOIIzfKJmP0K4lMzhv05tDzuMNt+juJlzDEWApexwTeGEW5vCPEiBBEeudRiRqUZG4bd\n",
       "jGVs9TFpz0mKLXiQLHHLXMGLT/LN43htpg1Q5uRGaQ9Ej7duIdeSG9aL2alIxDN62Z9Dd/PMflR5\n",
       "d+uU43awv6EwQvTKiCFQZIyccZhNULJqzERcucSjBUFOUrwWfhWWbPZ0UPY3qJBXirwuELkI+TSS\n",
       "4XGL8ZA4K2Y/Sute1DL+HAlX5cgkQD9bSj89wNYwQvTKiOtAkfHddhXLdlMfnIM7cKmzuOeqVUFO\n",
       "Urxq6lrHs2TlhV1eTaiDWTnjwM0XnsUYLUivPGl+Hk/mdacvJ2Z/E9bBN64eOSztqjudKxNBJiPk\n",
       "sBSIrRcJS6/24b5/na8cVJuCnFBssQ2o5cP18Dup/Yr8PjdGxW0PloE7f34axOyjz+99DbmKhGLx\n",
       "wruPwoivsEgdLTCrAYTbG0JICaWlkNMRO8OrOZL7WCInFGPQLsh6lki/pVJ7uUTOqmDQwLYsvHBN\n",
       "vyMVcWPg5NX4fjvuHxSSTJggr50+zxLAuH+cGYfEEYFwSzuXywhUEZTJ5FZn4N0zBeNtKuI/HnhD\n",
       "Sii+4thhMB97xrVE/kk97D0n9CZOyXSN2ZRPKHp+r1y6WR4LnJB8mYkITUGY5TBClG6zfLE38T22\n",
       "XRBGQydTdivHOqGO8wyS08mxY4scmZwx/T0umu+TQUWlL6PGOgURU98/BxXopV8HPHJBxaolsMVv\n",
       "/aR+Q4myM8i3IJODTeTCSW9EQVXpyejImFMQy1RAylFkcyIXUNzJkrl//Qp43AzdO8mcOfQG+4Rs\n",
       "06W+WxqdFJv//t3y6D+ePZMzBvPWnAAAAABJRU5ErkJggg==\n",
       "\" style=\"display:inline;vertical-align:middle;\" /></a></span></td></tr>\n",
       "<tr><td>&nbsp;</td><td colspan=4 style-\"text-align:left\"><a class=\"ProveItLink\" href=\"../../../../_theory_nbs_/proofs/conditioned_forall_over_bool_by_cases/thm_proof.ipynb\">proveit.logic.booleans.conditioned_forall_over_bool_by_cases</a></td></tr><tr><td><a name=\"0x66e4f2a6f0d79aeb_step2\">2</a></td><td>deduction</td><td><a href=\"#0x66e4f2a6f0d79aeb_step4\">4</a></td><td><span style=\"font-size:20px;\"> <a class=\"ProveItLink\" href=\"../../../__pv_it/_proof_double_negation_elim_lemma/2e74f74dc23cdc5c9c3827521f7fc96a032b581c0/proof.ipynb\" style=\"text-decoration: none\">&nbsp;&#x22A2;&nbsp;&nbsp;</a><a class=\"ProveItLink\" href=\"../../../__pv_it/_proof_double_negation_elim_lemma/fdabeb3ae9f85093a5ce79fc247d05cc2e822c380/expr.ipynb\"><img src=\"data:image/png;base64,iVBORw0KGgoAAAANSUhEUgAAAHoAAAAVBAMAAAB71edYAAAAMFBMVEX///8AAAAAAAAAAAAAAAAA\n",
       "AAAAAAAAAAAAAAAAAAAAAAAAAAAAAAAAAAAAAAAAAAAv3aB7AAAAD3RSTlMAInZUiRDNmWbv3US7\n",
       "qzJazP2FAAAACXBIWXMAAA7EAAAOxAGVKw4bAAABLElEQVQ4y2NgYBBggAMkJhgwQjFuwGSAjQkB\n",
       "3AoQjBuYYGGyrwKDCwwaQI4GFk1VYPm1DKwJcCEkJgMDM9hKtgAIxgKMwNY0wPlITJhujgIIxqWb\n",
       "E8HnZMDQzTAViqHgKJpuMwTfDIvuDCiGgjdouksQ/BIsun2hGAo4HFB1IxmcgUV3GxTDouE7qu7F\n",
       "MIkCZCZctyUUww1NRtE9G5asLiAz4brfQzEchM0mQfdOKIan3RQBNJfDtCzGotsKimH+XiaA4vJD\n",
       "MC0FyEy47h4ohiX8A6ihhhQdvljCvAQ1JsXQ4vsVgv8KJXtBku1qKIaCcwjmDhDB9QDOR2LCA2kB\n",
       "BOMqAJDyAJbsAMo4KJkHHRzEyoQCGSjGCWKwMpHMO4hPN6MCNia0qBKAYFwAAIeWT9+SOJKeAAAA\n",
       "AElFTkSuQmCC\n",
       "\" style=\"display:inline;vertical-align:middle;\" /></a></span></td></tr>\n",
       "<tr><td><a name=\"0x66e4f2a6f0d79aeb_step3\">3</a></td><td>instantiation</td><td><a href=\"#0x66e4f2a6f0d79aeb_step5\">5</a>, <a href=\"#0x66e4f2a6f0d79aeb_step6\">6</a></td><td><span style=\"font-size:20px;\"> <a class=\"ProveItLink\" href=\"../../../__pv_it/_proof_double_negation_elim_lemma/a21343fe9683fdf297d4c5ee8e25487da93974460/proof.ipynb\" style=\"text-decoration: none\">&nbsp;&#x22A2;&nbsp;&nbsp;</a><a class=\"ProveItLink\" href=\"../../../__pv_it/_proof_double_negation_elim_lemma/197b2c6fd043043704400fb2da5ac19828aa1dbd0/expr.ipynb\"><img src=\"data:image/png;base64,iVBORw0KGgoAAAANSUhEUgAAAHoAAAAVBAMAAAB71edYAAAAMFBMVEX///8AAAAAAAAAAAAAAAAA\n",
       "AAAAAAAAAAAAAAAAAAAAAAAAAAAAAAAAAAAAAAAAAAAv3aB7AAAAD3RSTlMAInZUiRDNmWbv3US7\n",
       "qzJazP2FAAAACXBIWXMAAA7EAAAOxAGVKw4bAAABNUlEQVQ4y2NgYBBggAMkJhgwQjFuwGSAjQkB\n",
       "3AoQjBuYYGUycDeASA0oxgJ2gAjWBDgficnAwAy2ki0AgrEAIxDB3gDnIzFhujkKIBiXbk4En5MB\n",
       "QzfDVCiGgqNous0QfDMsujOgGAreoOkuQfBLsOj2hWIo4HBA1Y1kcAYW3W1QzMC+Cgy+o+peDJMo\n",
       "QGbCdVtCMdzQZBTds2HJ6gIyE677PRTDQdhsEnTvhGJ42k0RQHM5TMtiLLqtoBjm72UCKC4/BNNS\n",
       "gMyE6+6BYlj6PYAaakjR4YslzEtQY1IMLb5fIfgIJtCZK2etWgX0wWoGCIaCc1C6atWqmatWrWXg\n",
       "egCXQmLCA2kBBOMqAJDyAJbsAMo4KJkHHRzEyoQCGSjGCWKwMpHMO4hPN6MCNia0qBKAYFwAAA30\n",
       "T73G8RyJAAAAAElFTkSuQmCC\n",
       "\" style=\"display:inline;vertical-align:middle;\" /></a></span></td></tr>\n",
       "<tr><td>&nbsp;</td><td colspan=4 style=\"text-align:left\"><span style=\"font-size:20px;\"><a class=\"ProveItLink\" href=\"../../../../../../__pv_it/common/09585084922504426caf1db2ff588a23a0932a960/expr.ipynb\"><img src=\"data:image/png;base64,iVBORw0KGgoAAAANSUhEUgAAAA8AAAAPBAMAAADJ+Ih5AAAAMFBMVEX///8AAAAAAAAAAAAAAAAA\n",
       "AAAAAAAAAAAAAAAAAAAAAAAAAAAAAAAAAAAAAAAAAAAv3aB7AAAAD3RSTlMAIs1UmauJMnZmRLsQ\n",
       "3e++988cAAAACXBIWXMAAA7EAAAOxAGVKw4bAAAAXklEQVQI12NgAAEhBijQh9LM/6EMlngBCCMx\n",
       "vwBMMzb0G0BkGOwngBmLGeoTwAwHBvkAEM2xxSV+A4hxgoGB/wJEhoH3AZDmAupg+gBkyAEx90cG\n",
       "htP/dRiY939KAABt3hLO6mcEjQAAAABJRU5ErkJggg==\n",
       "\" style=\"display:inline;vertical-align:middle;\" /></a> : <a class=\"ProveItLink\" href=\"../../../__pv_it/_proof_double_negation_elim_lemma/9a3c7c1fa3c282a3f1c9889099f32e287a69116d0/expr.ipynb\"><img src=\"data:image/png;base64,iVBORw0KGgoAAAANSUhEUgAAADkAAAAVBAMAAAAOWFv7AAAAMFBMVEX///8AAAAAAAAAAAAAAAAA\n",
       "AAAAAAAAAAAAAAAAAAAAAAAAAAAAAAAAAAAAAAAAAAAv3aB7AAAAD3RSTlMAmd0iq3ZUiRDNZu9E\n",
       "uzLWhN+VAAAACXBIWXMAAA7EAAAOxAGVKw4bAAAAuElEQVQoz2NggAFmBjRggMwJQ5c9isRmK0Di\n",
       "nAIRrAsQAp3I2lLB5AyEgBSm7EKEwAZMWe4GuLUTMGU54RYzFmDKsjvA+JwLMGW5JjAIKQGBIgNT\n",
       "AgOMCZdlg7rFhIH7AAOMCZfl+4BPlgeuF2QyuiybAkTIkIE3gAHGRLjqAsyVCNcjZBG+5FOASwGd\n",
       "vltJSYWBgekAXEyPAQMYIZgLMWWRIobXAF2S+QKCzXEBXRZFvSm6bDADAwAYBB5hIgY1LQAAAABJ\n",
       "RU5ErkJggg==\n",
       "\" style=\"display:inline;vertical-align:middle;\" /></a>, <a class=\"ProveItLink\" href=\"../../../../../../__pv_it/common/a9162d1c3cc0470c02e5daf414500903a7a419230/expr.ipynb\"><img src=\"data:image/png;base64,iVBORw0KGgoAAAANSUhEUgAAABAAAAAOBAMAAADUAYG5AAAAMFBMVEX///8AAAAAAAAAAAAAAAAA\n",
       "AAAAAAAAAAAAAAAAAAAAAAAAAAAAAAAAAAAAAAAAAAAv3aB7AAAAD3RSTlMAZrurzTLvInZEmRDd\n",
       "VIkafcLnAAAACXBIWXMAAA7EAAAOxAGVKw4bAAAAb0lEQVQI12NgYBD6b2zsFMAABEkMDMxfgTT7\n",
       "DwYGzl9ABiOQxwjkMDB/YGBgSQcy2BQYuG1AiuM1OkwEQJr6Cxh4E0EMNSB+D5L6DMTyDQwMrB+B\n",
       "DPsJDAwc34GcL0AOSwIDwzRvoHH6n41NdBkYAF/iFeJ4bEa2AAAAAElFTkSuQmCC\n",
       "\" style=\"display:inline;vertical-align:middle;\" /></a> : <a class=\"ProveItLink\" href=\"../../../../__pv_it/common/e0f123f2e4f322e1eba7f861749cda9fd9d99a120/expr.ipynb\"><img src=\"data:image/png;base64,iVBORw0KGgoAAAANSUhEUgAAAA4AAAAPBAMAAAAmOuNHAAAAHlBMVEX///8AAAAAAAAAAAAAAAAA\n",
       "AAAAAAAAAAAAAAAAAACGjDitAAAACXRSTlMARGZUdpnd76sKo+zpAAAACXBIWXMAAA7EAAAOxAGV\n",
       "Kw4bAAAAGElEQVQI12NgQAAhKG1CSzosLa08LS0DAJuOBVCdynDUAAAAAElFTkSuQmCC\n",
       "\" style=\"display:inline;vertical-align:middle;\" /></a></span></td></tr><tr><td><a name=\"0x66e4f2a6f0d79aeb_step4\">4</a></td><td>axiom</td><td></td><td><span style=\"font-size:20px;\"> <a class=\"ProveItLink\" href=\"../../../../_theory_nbs_/axioms.ipynb#true_axiom\" style=\"text-decoration: none\">&nbsp;&#x22A2;&nbsp;&nbsp;</a><a class=\"ProveItLink\" href=\"../../../../__pv_it/common/95025295868b9266d37330b4427adf122f6061770/expr.ipynb\"><img src=\"data:image/png;base64,iVBORw0KGgoAAAANSUhEUgAAAA4AAAAOBAMAAADtZjDiAAAAG1BMVEX///8AAAAAAAAAAAAAAAAA\n",
       "AAAAAAAAAAAAAAB4Gco9AAAACHRSTlMAmd2rVHZEZkA3AkMAAAAJcEhZcwAADsQAAA7EAZUrDhsA\n",
       "AAAYSURBVAjXYxBSAgFlBiBwZYAAWtHpQAwAFRwEg6MlY1sAAAAASUVORK5CYII=\n",
       "\" style=\"display:inline;vertical-align:middle;\" /></a></span></td></tr>\n",
       "<tr><td>&nbsp;</td><td colspan=4 style-\"text-align:left\"><a class=\"ProveItLink\" href=\"../../../../_theory_nbs_/axioms.ipynb#true_axiom\">proveit.logic.booleans.true_axiom</a></td></tr><tr><td><a name=\"0x66e4f2a6f0d79aeb_step5\">5</a></td><td>theorem</td><td></td><td><span style=\"font-size:20px;\"> <a class=\"ProveItLink\" href=\"../../../../implication/_theory_nbs_/proofs/falsified_antecedent_implication/thm_proof.ipynb\" style=\"text-decoration: none\">&nbsp;&#x22A2;&nbsp;&nbsp;</a><a class=\"ProveItLink\" href=\"../../../../implication/__pv_it/theorems/28929e1faa0d6cd913a00023d42a5ba1e5cedce10/expr.ipynb\"><img src=\"data:image/png;base64,iVBORw0KGgoAAAANSUhEUgAAAK8AAAAXBAMAAACPJQJeAAAAMFBMVEX///8AAAAAAAAAAAAAAAAA\n",
       "AAAAAAAAAAAAAAAAAAAAAAAAAAAAAAAAAAAAAAAAAAAv3aB7AAAAD3RSTlMAq1RmmUTNIjK7EInv\n",
       "3XZ/CtNrAAAACXBIWXMAAA7EAAAOxAGVKw4bAAACcUlEQVQ4y61UTWgTQRT+sptkk00bE5DiRRIQ\n",
       "vHhwD0XwYF3wB0sPBr0UEa2KiPFge/GkJD16kBYRNCJtTkIPSvQikoOxIlZECSLeAgsevIhNNbSi\n",
       "YHwzs7O72USTpT6YnTfv2/n2vW/eLBDcpv/DG70smeXTlX+8copGijk7ghDvEtPlXtjedjp9sYik\n",
       "ARxi6wsBePUpPintnuhrIPQDyAOztNLmAxCHDTFlegmp/QYiLWAUiJaBRDYA8ZCYnjwrurG70lEp\n",
       "W5XIh8pQKYFoEIl3itSsVU8216UTahLbKxrE+rbReBOEeEIogd2GG1Mrspx56NuplAT1xBFZSdmn\n",
       "ZefSQc/x5zHMcbJwg1vLBucWvo6wD6p0wjPQeMvpK6KqVnWcqxfv7IUV6b3nTxOFlAdWzop5dRrK\n",
       "C7auEUE5kWOxxDdRVR3JWjexjZK95Jfk1sFMRyvd52Hco8FONUZaK5Y4u8l3Qn4TarOb2EYl8UNg\n",
       "S93bZpdE863R2G9Ry7HcpsZ4zDoj5M/igdFNbKNSChMYrnk0/ih4Y9/pkSEBFPbVx3leHA5zrPBp\n",
       "dBu6iCVKtkAjwnq06cIRW5bkBpGvM0FZ4Co/hUl84dg+6Fs9xE9LpVLdRckesS0M33CJ5Q8pSlWc\n",
       "ZHmGWcuEeBNMVDO8o4i1kOvMOOWiZDeApXYeyuJ6xXnjjn09FtfSIzeZN5xza0WBf2AZOF30Ezso\n",
       "21Mc4P97zfGO0zFn9Qq0n9A/+DQ2BSpvmTnA9TzgXLPn0I+ejy1jz6/qeNZ/eAKVq9v9ebt+l4rH\n",
       "j/9t11J/4rhfmxODEGtWX+LP/oAxCPFmTdvc9j9ebJAfzrOIdQAAAABJRU5ErkJggg==\n",
       "\" style=\"display:inline;vertical-align:middle;\" /></a></span></td></tr>\n",
       "<tr><td>&nbsp;</td><td colspan=4 style-\"text-align:left\"><a class=\"ProveItLink\" href=\"../../../../implication/_theory_nbs_/proofs/falsified_antecedent_implication/thm_proof.ipynb\">proveit.logic.booleans.implication.falsified_antecedent_implication</a></td></tr><tr><td><a name=\"0x66e4f2a6f0d79aeb_step6\">6</a></td><td>instantiation</td><td><a href=\"#0x66e4f2a6f0d79aeb_step7\">7</a>, <a href=\"#0x66e4f2a6f0d79aeb_step8\">8</a></td><td><span style=\"font-size:20px;\"> <a class=\"ProveItLink\" href=\"../../../__pv_it/_proof_double_negation_elim_lemma/f6745a461d3fa1aa0eab38f7065fa9e336ce5f130/proof.ipynb\" style=\"text-decoration: none\">&nbsp;&#x22A2;&nbsp;&nbsp;</a><a class=\"ProveItLink\" href=\"../../../__pv_it/_proof_double_negation_elim_lemma/7a6983770731bb7d2383243903079dd9cab68bb00/expr.ipynb\"><img src=\"data:image/png;base64,iVBORw0KGgoAAAANSUhEUgAAAFcAAAAVBAMAAADBdm84AAAAMFBMVEX///8AAAAAAAAAAAAAAAAA\n",
       "AAAAAAAAAAAAAAAAAAAAAAAAAAAAAAAAAAAAAAAAAAAv3aB7AAAAD3RSTlMAmd0iq3ZUiRDNZu9E\n",
       "uzLWhN+VAAAACXBIWXMAAA7EAAAOxAGVKw4bAAAA5ElEQVQoz42TrQ7CMBSFzyD8DhBIFCxoMgh4\n",
       "HoGEBI3B7xGwOCRye4N5zAwGtUfhEaCc23ZkV3CSr/mynG5t0wE2TWjKxILLQVXmIdi0E02Bpxla\n",
       "KbG5qAqcvuNNkExUteVMkOSq2nJ4JrLOKxR15V5KmMBvKkjq5c6WwE2tqyv3r1/G0SczNI5Q1JXb\n",
       "OTFZIyygqCuPXuSv8iAnfGy+XVe/jCkxWWK4g6J+gyWBO5u6urI5Tn+koykU/RzKPYrmQKMgkgU0\n",
       "tVkJkkzV6t2q3K9hrKn9dUpi0y01rUz/ecVGVWZP3tM6NDonTjfvAAAAAElFTkSuQmCC\n",
       "\" style=\"display:inline;vertical-align:middle;\" /></a></span></td></tr>\n",
       "<tr><td>&nbsp;</td><td colspan=4 style=\"text-align:left\"><span style=\"font-size:20px;\"><a class=\"ProveItLink\" href=\"../../../../../../__pv_it/common/09585084922504426caf1db2ff588a23a0932a960/expr.ipynb\"><img src=\"data:image/png;base64,iVBORw0KGgoAAAANSUhEUgAAAA8AAAAPBAMAAADJ+Ih5AAAAMFBMVEX///8AAAAAAAAAAAAAAAAA\n",
       "AAAAAAAAAAAAAAAAAAAAAAAAAAAAAAAAAAAAAAAAAAAv3aB7AAAAD3RSTlMAIs1UmauJMnZmRLsQ\n",
       "3e++988cAAAACXBIWXMAAA7EAAAOxAGVKw4bAAAAXklEQVQI12NgAAEhBijQh9LM/6EMlngBCCMx\n",
       "vwBMMzb0G0BkGOwngBmLGeoTwAwHBvkAEM2xxSV+A4hxgoGB/wJEhoH3AZDmAupg+gBkyAEx90cG\n",
       "htP/dRiY939KAABt3hLO6mcEjQAAAABJRU5ErkJggg==\n",
       "\" style=\"display:inline;vertical-align:middle;\" /></a> : <a class=\"ProveItLink\" href=\"../../../__pv_it/axioms/446a01d9a7ebef169028057d3b157d31652390170/expr.ipynb\"><img src=\"data:image/png;base64,iVBORw0KGgoAAAANSUhEUgAAABwAAAAPBAMAAAAFYbKSAAAAIVBMVEX///8AAAAAAAAAAAAAAAAA\n",
       "AAAAAAAAAAAAAAAAAAAAAADdcGRXAAAACnRSTlMAmd0iq0RmVHbvMiy3+wAAAAlwSFlzAAAOxAAA\n",
       "DsQBlSsOGwAAACVJREFUCNdjYMAFwlC5FVTmCikBgSKqrAkpXEMCFgEtmKmkpAIA/3EI1mTq1PcA\n",
       "AAAASUVORK5CYII=\n",
       "\" style=\"display:inline;vertical-align:middle;\" /></a></span></td></tr><tr><td><a name=\"0x66e4f2a6f0d79aeb_step7\">7</a></td><td>theorem</td><td></td><td><span style=\"font-size:20px;\"> <a class=\"ProveItLink\" href=\"../double_negation_intro/thm_proof.ipynb\" style=\"text-decoration: none\">&nbsp;&#x22A2;&nbsp;&nbsp;</a><a class=\"ProveItLink\" href=\"../../../__pv_it/theorems/0b22d68afd7bfc707f054cfbe8b4e2370c2f148f0/expr.ipynb\"><img src=\"data:image/png;base64,iVBORw0KGgoAAAANSUhEUgAAAIoAAAAXBAMAAAAmUcrKAAAAMFBMVEX///8AAAAAAAAAAAAAAAAA\n",
       "AAAAAAAAAAAAAAAAAAAAAAAAAAAAAAAAAAAAAAAAAAAv3aB7AAAAD3RSTlMAq1RmmUTNIjK7EInv\n",
       "3XZ/CtNrAAAACXBIWXMAAA7EAAAOxAGVKw4bAAAB20lEQVQ4y52TPUsDQRCGx3wdSUy8f5CAYKOi\n",
       "lWAjKVSECAZtUlhEgghpjI0gBHL2ihZCwEJT2AREjI1FisRCEEUJgmXgwFZQLKLYxNmdvdzGLBfJ\n",
       "wHv77O3Ne8zMHUDvyCqRhybUO8JRFWJsA3hNks72w04uo0rE2ES9kubYfsPBJJBSIYarhRdfkWuX\n",
       "VXbo4OKZVCHbRbBL7hgXMwtGHVwGlYhxXTXwes/lRn+fU1tGlIgFmO/s5WnSY6Px4OQSVyIWBBOs\n",
       "wDJpAeCY3y6KQ6uVYk3biWnZZRkOLnGZIm2BxqcduOOHfuupc4PWZ3RusIjJCBCDPMsbI/mLwQR7\n",
       "OvjZ6VIVLb+1+qDLCOGj2Qgb7QHJZVJzk08dLt4909HlAmCojrwqlJrhR+Zah0vYp7crslIlxIIg\n",
       "VEMeF7rK8CyY73AxPeJDPbFSYzJ62QfygTwtlOMvTcKb7OI1wjWisj0WCXPs0S8xfaYBPox4JVKU\n",
       "XDyV8g/Rvp1qY6mVAddpE0f9AiRqA0DekFxM0L6JQkY7V8L2F1wnUaxgy6O2CyubJs//N+hC+Qdt\n",
       "/6SeGwgsrdsuizqcNRN0VrBzCl0uO0J/wt91p6REybfwHxfNVKFoZ5bU26Wf0PpJ+gXXLm1aorRU\n",
       "sAAAAABJRU5ErkJggg==\n",
       "\" style=\"display:inline;vertical-align:middle;\" /></a></span></td></tr>\n",
       "<tr><td>&nbsp;</td><td colspan=4 style-\"text-align:left\"><a class=\"ProveItLink\" href=\"../double_negation_intro/thm_proof.ipynb\">proveit.logic.booleans.negation.double_negation_intro</a></td></tr><tr><td><a name=\"0x66e4f2a6f0d79aeb_step8\">8</a></td><td>theorem</td><td></td><td><span style=\"font-size:20px;\"> <a class=\"ProveItLink\" href=\"../not_false/thm_proof.ipynb\" style=\"text-decoration: none\">&nbsp;&#x22A2;&nbsp;&nbsp;</a><a class=\"ProveItLink\" href=\"../../../__pv_it/axioms/446a01d9a7ebef169028057d3b157d31652390170/expr.ipynb\"><img src=\"data:image/png;base64,iVBORw0KGgoAAAANSUhEUgAAABwAAAAPBAMAAAAFYbKSAAAAIVBMVEX///8AAAAAAAAAAAAAAAAA\n",
       "AAAAAAAAAAAAAAAAAAAAAADdcGRXAAAACnRSTlMAmd0iq0RmVHbvMiy3+wAAAAlwSFlzAAAOxAAA\n",
       "DsQBlSsOGwAAACVJREFUCNdjYMAFwlC5FVTmCikBgSKqrAkpXEMCFgEtmKmkpAIA/3EI1mTq1PcA\n",
       "AAAASUVORK5CYII=\n",
       "\" style=\"display:inline;vertical-align:middle;\" /></a></span></td></tr>\n",
       "<tr><td>&nbsp;</td><td colspan=4 style-\"text-align:left\"><a class=\"ProveItLink\" href=\"../not_false/thm_proof.ipynb\">proveit.logic.booleans.negation.not_false</a></td></tr></table>"
      ],
      "text/plain": [
       "\tstep type\trequirements\tstatement\n",
       "0\tinstantiation\t1, 2, 3\t|- forall_{A in BOOLEAN | [not]([not](A))} A\n",
       "\tP(A) : A, Q(A) : [not]([not](A)), A : A\n",
       "1\tconjecture\t\t|- forall_{P, Q | Q(TRUE) => P(TRUE), Q(FALSE) => P(FALSE)} [forall_{A in BOOLEAN | Q(A)} P(A)]\n",
       "\tproveit.logic.booleans.conditioned_forall_over_bool_by_cases\n",
       "2\tdeduction\t4\t|- [not]([not](TRUE)) => TRUE\n",
       "3\tinstantiation\t5, 6\t|- [not]([not](FALSE)) => FALSE\n",
       "\tA : [not]([not](FALSE)), B : FALSE\n",
       "4\taxiom\t\t|- TRUE\n",
       "\tproveit.logic.booleans.true_axiom\n",
       "5\ttheorem\t\t|- forall_{A, B | [not](A)} (A => B)\n",
       "\tproveit.logic.booleans.implication.falsified_antecedent_implication\n",
       "6\tinstantiation\t7, 8\t|- [not]([not]([not](FALSE)))\n",
       "\tA : [not](FALSE)\n",
       "7\ttheorem\t\t|- forall_{A | A} [not]([not](A))\n",
       "\tproveit.logic.booleans.negation.double_negation_intro\n",
       "8\ttheorem\t\t|- [not](FALSE)\n",
       "\tproveit.logic.booleans.negation.not_false"
      ]
     },
     "execution_count": 7,
     "metadata": {},
     "output_type": "execute_result"
    }
   ],
   "source": [
    "%qed"
   ]
  },
  {
   "cell_type": "code",
   "execution_count": null,
   "metadata": {},
   "outputs": [],
   "source": []
  }
 ],
 "metadata": {
  "kernelspec": {
   "display_name": "Python 3",
   "language": "python",
   "name": "python3"
  }
 },
 "nbformat": 4,
 "nbformat_minor": 0
}