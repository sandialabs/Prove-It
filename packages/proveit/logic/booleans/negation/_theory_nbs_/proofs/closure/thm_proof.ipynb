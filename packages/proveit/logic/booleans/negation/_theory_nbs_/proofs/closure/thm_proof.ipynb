{
 "cells": [
  {
   "cell_type": "markdown",
   "metadata": {},
   "source": [
    "Proof of <a class=\"ProveItLink\" href=\"../../../../../../_theory_nbs_/theory.ipynb\">proveit</a>.<a class=\"ProveItLink\" href=\"../../../../../_theory_nbs_/theory.ipynb\">logic</a>.<a class=\"ProveItLink\" href=\"../../../../_theory_nbs_/theory.ipynb\">booleans</a>.<a class=\"ProveItLink\" href=\"../../theory.ipynb\">negation</a>.<a class=\"ProveItLink\" href=\"../../theorems.ipynb#closure\">closure</a> theorem\n",
    "========"
   ]
  },
  {
   "cell_type": "code",
   "execution_count": 1,
   "metadata": {},
   "outputs": [],
   "source": [
    "import proveit\n",
    "from proveit.logic.booleans import true_is_bool, false_is_bool, in_bool_if_true\n",
    "from proveit.logic.booleans.conjunction import and_if_both \n",
    "from proveit.logic.booleans.negation  import not_f, not_t\n",
    "from proveit.logic.equality import substitute_truth\n",
    "from proveit import defaults\n",
    "in_bool_if_true.proof().disable(); substitute_truth.proof().disable() # force a more short, symmetric proof\n",
    "theory = proveit.Theory() # the theorem's theory"
   ]
  },
  {
   "cell_type": "code",
   "execution_count": 2,
   "metadata": {},
   "outputs": [
    {
     "data": {
      "text/html": [
       "With these <a href=\"allowed_presumptions.txt\">allowed</a>/<a href=\"disallowed_presumptions.txt\">disallowed</a> theorem/theory presumptions (e.g., to avoid circular dependencies), we begin our proof of<br><strong id=\"closure\">closure:</strong> <a class=\"ProveItLink\" href=\"../../../__pv_it/theorems/63d2d1127aa0220ef21e2837c5f2bee240fe4c1d0/expr.ipynb\"><img src=\"data:image/png;base64,iVBORw0KGgoAAAANSUhEUgAAAJsAAAAVBAMAAACj9YEXAAAAMFBMVEX///8AAAAAAAAAAAAAAAAA\n",
       "AAAAAAAAAAAAAAAAAAAAAAAAAAAAAAAAAAAAAAAAAAAv3aB7AAAAD3RSTlMAq1RmmUTNIjK7EInv\n",
       "3XZ/CtNrAAAACXBIWXMAAA7EAAAOxAGVKw4bAAAChElEQVQ4y4VUTWjUQBR+TTa73U03evFQPGxA\n",
       "EMG/PajgRRasIvTgopeiIpUq4lZqtVAoVLqCV9sg1hJBjd56kdSLVA/WgyBqtUgtCAYCIoL/eKjH\n",
       "+t7M62STbdYPvuzk7Zsv728GoDUGmY3ItfBtDcuWjDAMYIQJp483l+c3AJzE9XoybEqT28qMcAH5\n",
       "KeGVN8Lhe1WwygAH6P1silqhVzKCtoKPrJeUK5uDDkAN4AoVw0mRy5QlGywlrJBeaZLTbUxzl/yS\n",
       "aafIdTAjPHpax+dLLtrtYEnJYRIdHuj48Wxa6TYzo6aGv+jTfeLFGPBUdG1DPuqg1nwQvEqT62ZG\n",
       "ucJOyn1GNtlTyX79sRF/TUz4EMAtYfSa5fpUJIwjMIFRwB6INTBvLL1dxO06JnwRcmJYCi+4d/2n\n",
       "F1dr+U4yExCo/hUYI+dt4t/ehlZYu7Gt2hyuPbNKNvMPPsY7JyH0L21hv+dMUTbUsW50lWgKJsjQ\n",
       "jmUKPrAcOMfR8hslQ9mJnjcYBmaOcub9FLkHAOsWcH1CpOM0RAdOHnszRzHvE7bwFI976A89jier\n",
       "5DDfIm3ZLiwLMTkMSiPLw5qYITjI3wu7XtfZ7w5TyFXAoKHChGCvsPyMye3AVtD+UdGJHvgu3Cm6\n",
       "q5/Zb0YNhcAobf2rhidrKznf/IaRZ6jrbSKW7iclTz/nutepdib7XWNKTK/UQLu7jHveyxPdeUwe\n",
       "jvOuuFGgWFWXDMBYvd2X0ZkWW4t1yeSFx1UzZuUhW8VltTqKPbPlPKPcOFvprCfPOyRvhQj7lcMz\n",
       "KBw+AyMYiTbQ7yr3KWYcI2urNV1MhVl3MmaYZsYxtbZc/r+3ey6UjF/mKdu+APwDN+eg1EeU4WMA\n",
       "AAAASUVORK5CYII=\n",
       "\" style=\"display:inline;vertical-align:middle;\" /></a><br>(see <a class=\"ProveItLink\" href=\"../../../__pv_it/theorems/5f10acb965841b4c686fb057b9c4be3d2920b7c00/dependencies.ipynb\">dependencies</a>)<br>"
      ],
      "text/plain": [
       "<IPython.core.display.HTML object>"
      ]
     },
     "metadata": {},
     "output_type": "display_data"
    }
   ],
   "source": [
    "%proving closure"
   ]
  },
  {
   "cell_type": "code",
   "execution_count": 3,
   "metadata": {},
   "outputs": [
    {
     "data": {
      "text/html": [
       "<span style=\"font-size:20px;\"> <a class=\"ProveItLink\" href=\"../../../../_theory_nbs_/proofs/true_is_bool/thm_proof.ipynb\" style=\"text-decoration: none\">&nbsp;&#x22A2;&nbsp;&nbsp;</a><a class=\"ProveItLink\" href=\"../../../../__pv_it/theorems/e3b19f0f51dc50d19100f70b446827a15792e4b10/expr.ipynb\"><img src=\"data:image/png;base64,iVBORw0KGgoAAAANSUhEUgAAADYAAAAQBAMAAACvnpHFAAAAMFBMVEX///8AAAAAAAAAAAAAAAAA\n",
       "AAAAAAAAAAAAAAAAAAAAAAAAAAAAAAAAAAAAAAAAAAAv3aB7AAAAD3RSTlMAmd2rVHZEZrvNECIy\n",
       "74mi4C5kAAAACXBIWXMAAA7EAAAOxAGVKw4bAAAAn0lEQVQY02NgwAJYdTt/XjJjYBBSAgFlVEkO\n",
       "toCdixNALFcMjRxsBXwbGnDKsTsYoMpFKClNgMtNQJHLjELoY97+AFmOexbCzKggOwZkOc4NCDnN\n",
       "+4oLUOSQ3cJaNgtZ7izIpw1QOYaGPGS5Fcj6GBo4kOWYUOU4keVYA1DkXFH8NwUh94AvTgDESocJ\n",
       "LW5bADFgbgc4HlBAXhMkzCAAAO/EJ1PPeY0iAAAAAElFTkSuQmCC\n",
       "\" style=\"display:inline;vertical-align:middle;\" /></a></span>"
      ],
      "text/plain": [
       "|- TRUE in BOOLEAN"
      ]
     },
     "metadata": {},
     "output_type": "display_data"
    }
   ],
   "source": [
    "true_is_bool"
   ]
  },
  {
   "cell_type": "code",
   "execution_count": 4,
   "metadata": {},
   "outputs": [
    {
     "data": {
      "text/html": [
       "<span style=\"font-size:20px;\"> <a class=\"ProveItLink\" href=\"../../axioms.ipynb#not_f\" style=\"text-decoration: none\">&nbsp;&#x22A2;&nbsp;&nbsp;</a><a class=\"ProveItLink\" href=\"../../../__pv_it/axioms/b9bd74a578c6b2e794e4ce82c543ff5c79f215890/expr.ipynb\"><img src=\"data:image/png;base64,iVBORw0KGgoAAAANSUhEUgAAAFcAAAAVBAMAAADBdm84AAAAMFBMVEX///8AAAAAAAAAAAAAAAAA\n",
       "AAAAAAAAAAAAAAAAAAAAAAAAAAAAAAAAAAAAAAAAAAAv3aB7AAAAD3RSTlMAInZUiRDNmWbv3US7\n",
       "qzJazP2FAAAACXBIWXMAAA7EAAAOxAGVKw4bAAAAuklEQVQoz2NgYBBgQAWMDLgBkwGaALcCbsUm\n",
       "yOoaQKQGuhL2VWBwgYE1AUmUGWwoWwCmkRAZ9gYMIY4CXIo5MYUYpuJSbIZFcQYuxSVYFPviUpyB\n",
       "RXEbShAgySyGCRcgFFviMnk2LN4uIBS/J0XxTlyKF2NRbIXLzYdgipHc3IPLZF8soVGCS/Er5OSy\n",
       "chbY3tWYiiFJjOsBhgTjAlwpFEuqQUlbqOAghogM7sQfQ4R2hAvRcxGTAC6lAOIDMKhWJ6jVAAAA\n",
       "AElFTkSuQmCC\n",
       "\" style=\"display:inline;vertical-align:middle;\" /></a></span>"
      ],
      "text/plain": [
       "|- [not](FALSE) = TRUE"
      ]
     },
     "metadata": {},
     "output_type": "display_data"
    }
   ],
   "source": [
    "not_f"
   ]
  },
  {
   "cell_type": "code",
   "execution_count": 5,
   "metadata": {},
   "outputs": [
    {
     "data": {
      "text/html": [
       "<span style=\"font-size:20px;\"> <a class=\"ProveItLink\" href=\"../../../__pv_it/_proof_closure/22da2821e95bf21726b2d6389bf58dcc91390b8f0/proof.ipynb\" style=\"text-decoration: none\">&nbsp;&#x22A2;&nbsp;&nbsp;</a><a class=\"ProveItLink\" href=\"../../../__pv_it/_proof_closure/6fb68336b20d0a96e581f70f562845afd8029e4b0/expr.ipynb\"><img src=\"data:image/png;base64,iVBORw0KGgoAAAANSUhEUgAAAFMAAAAVBAMAAADInc9CAAAAMFBMVEX///8AAAAAAAAAAAAAAAAA\n",
       "AAAAAAAAAAAAAAAAAAAAAAAAAAAAAAAAAAAAAAAAAAAv3aB7AAAAD3RSTlMAInZUiRDNmWbv3US7\n",
       "qzJazP2FAAAACXBIWXMAAA7EAAAOxAGVKw4bAAABLElEQVQoz2NgYBBgQAWMDLgAkwGaALcCmoDW\n",
       "nPzMtRuADBNkVQ0gUgPdtAObGFNvMzCwJiCJMYMNZAtAV7qDwZGHgYG9AUMpRwGm0mZeBgZOBgyl\n",
       "DFOhvji1ahlcKRsDgxkWpRkQhycFIEy92MLAUIJFqS+YFAtAeCtorQPMBFSlbWAyEeHWXZm/ShkY\n",
       "FgN9tgoEChBKLcFkArK3NLYFMMyGxdEFhNL3IIJvFlD/GphSHm4HrEp3ggjWA8im8jAcADkAQ6kV\n",
       "mFyAqjSB4RBMKZJbe8CkEopSoJQvlhCABCAbPB0d2MLg5M7A8AquDhgQK4FeATpkNZjPemcrREJt\n",
       "znlwyuJ6gJEsGaGu5PaBRiwUYKQNtBSEDA5iiMjgygUxRGiGuQw9fzAJYFcIAOFNUDAJDLgSAAAA\n",
       "AElFTkSuQmCC\n",
       "\" style=\"display:inline;vertical-align:middle;\" /></a></span>"
      ],
      "text/plain": [
       "|- [not](FALSE) in BOOLEAN"
      ]
     },
     "metadata": {},
     "output_type": "display_data"
    }
   ],
   "source": [
    "not_f.sub_left_side_into(true_is_bool)"
   ]
  },
  {
   "cell_type": "code",
   "execution_count": 6,
   "metadata": {},
   "outputs": [
    {
     "data": {
      "text/html": [
       "<span style=\"font-size:20px;\"> <a class=\"ProveItLink\" href=\"../../../../_theory_nbs_/proofs/false_is_bool/thm_proof.ipynb\" style=\"text-decoration: none\">&nbsp;&#x22A2;&nbsp;&nbsp;</a><a class=\"ProveItLink\" href=\"../../../../__pv_it/theorems/bbc9c63ce37f7c83a6285a585c4d279490a0c9400/expr.ipynb\"><img src=\"data:image/png;base64,iVBORw0KGgoAAAANSUhEUgAAADYAAAAQBAMAAACvnpHFAAAAMFBMVEX///8AAAAAAAAAAAAAAAAA\n",
       "AAAAAAAAAAAAAAAAAAAAAAAAAAAAAAAAAAAAAAAAAAAv3aB7AAAAD3RSTlMARGZUdpnd76u7zRAi\n",
       "MolMqJcyAAAACXBIWXMAAA7EAAAOxAGVKw4bAAAAn0lEQVQY02NgwAJY0mf9KmsEM4UwJDkZHU7t\n",
       "EACxTLDIKfAdmIBTjsmgAVXOMy1tAVxuAYqclDdCH8ehB8hyPKsRZnq79TEgy3EdQMhl1aduQJFD\n",
       "dguL4mpkuetpQDABKscwQQ5ZbieyPoYJnMhybKhyXMhyLA4ociYo/luMkHvA5xfAEJaWVp6WlgEW\n",
       "2jFxA8SA5TNh8YAActMgYQYBALQtJ5ZTVaF7AAAAAElFTkSuQmCC\n",
       "\" style=\"display:inline;vertical-align:middle;\" /></a></span>"
      ],
      "text/plain": [
       "|- FALSE in BOOLEAN"
      ]
     },
     "metadata": {},
     "output_type": "display_data"
    }
   ],
   "source": [
    "false_is_bool"
   ]
  },
  {
   "cell_type": "code",
   "execution_count": 7,
   "metadata": {},
   "outputs": [
    {
     "data": {
      "text/html": [
       "<span style=\"font-size:20px;\"> <a class=\"ProveItLink\" href=\"../../axioms.ipynb#not_t\" style=\"text-decoration: none\">&nbsp;&#x22A2;&nbsp;&nbsp;</a><a class=\"ProveItLink\" href=\"../../../__pv_it/axioms/fa3556271013b3b54b7b75b637f6a18a1772897d0/expr.ipynb\"><img src=\"data:image/png;base64,iVBORw0KGgoAAAANSUhEUgAAAFcAAAAVBAMAAADBdm84AAAAMFBMVEX///8AAAAAAAAAAAAAAAAA\n",
       "AAAAAAAAAAAAAAAAAAAAAAAAAAAAAAAAAAAAAAAAAAAv3aB7AAAAD3RSTlMAInZUiRDNmWbv3US7\n",
       "qzJazP2FAAAACXBIWXMAAA7EAAAOxAGVKw4bAAAAvElEQVQoz2NgYBBgQAWMDLgBkwGaALcCbsUm\n",
       "MAb7KjC4wKCBRRV3A4hkTUASYgYbyhaAqRgiw96AIcRRgEsxJ6YQw1Rcis2wKM7ApbgEi2JfXIoz\n",
       "sChuQwkcJJnFMOEChGJLXCbPhsXbBYTi96Qo3olL8WIsiq1wufkQTDGSm3twmeyLJTRKcCl+hZlc\n",
       "GFajqQS6aOUskIu4HmCYwrgAVwrFkmpQ0hYqOIghIoM78ccQoR3hQvRcxCSASykA470wqH9vffUA\n",
       "AAAASUVORK5CYII=\n",
       "\" style=\"display:inline;vertical-align:middle;\" /></a></span>"
      ],
      "text/plain": [
       "|- [not](TRUE) = FALSE"
      ]
     },
     "metadata": {},
     "output_type": "display_data"
    }
   ],
   "source": [
    "not_t"
   ]
  },
  {
   "cell_type": "code",
   "execution_count": 8,
   "metadata": {},
   "outputs": [
    {
     "data": {
      "text/html": [
       "<span style=\"font-size:20px;\"> <a class=\"ProveItLink\" href=\"../../../__pv_it/_proof_closure/05ef71d9240f53ad4223d6d223d7761eb27244240/proof.ipynb\" style=\"text-decoration: none\">&nbsp;&#x22A2;&nbsp;&nbsp;</a><a class=\"ProveItLink\" href=\"../../../__pv_it/_proof_closure/dee95a9fe20094c9557c4da949d60e7e1b68e84b0/expr.ipynb\"><img src=\"data:image/png;base64,iVBORw0KGgoAAAANSUhEUgAAAFMAAAAVBAMAAADInc9CAAAAMFBMVEX///8AAAAAAAAAAAAAAAAA\n",
       "AAAAAAAAAAAAAAAAAAAAAAAAAAAAAAAAAAAAAAAAAAAv3aB7AAAAD3RSTlMAInZUiRDNmWbv3US7\n",
       "qzJazP2FAAAACXBIWXMAAA7EAAAOxAGVKw4bAAABJklEQVQoz2NgYBBgQAWMDLgAkwGaALcCmoDW\n",
       "nPzMtRuADBOYCPsqMLjAoIFu2oFNjKm3GRhYE5DEmMEGsgWgK93B4MgDNKsBQylHAabSZl4GBk4G\n",
       "DKUMU6G+OLVqGVwpGwODGRalGRDvJQUgTL3YwsBQgkWpL5gUC0B4K2itA8wEVKVtYDIR4dZdmb9K\n",
       "GRgWw0KpAKHUEkwmIHtLY1sAw2xYHF1AKH0PIvhmAfWvgSnl4XbAqnQniGA9gGwqD8MBkAMwlFqB\n",
       "yQWoShMYDsGUIrm1B0wqoSgFSvliCQFIALLB09GBLQxO7gwMr1ASFSSWV4NJ1jtbIaJqc86DUxbX\n",
       "A4xkyQh1JbcPNGKhACNtoKUgZHAQQ0QGVy6IIUIzzGXo+YNJALtCAEs/UEGRVTRbAAAAAElFTkSu\n",
       "QmCC\n",
       "\" style=\"display:inline;vertical-align:middle;\" /></a></span>"
      ],
      "text/plain": [
       "|- [not](TRUE) in BOOLEAN"
      ]
     },
     "metadata": {},
     "output_type": "display_data"
    }
   ],
   "source": [
    "not_t.sub_left_side_into(false_is_bool)"
   ]
  },
  {
   "cell_type": "code",
   "execution_count": 9,
   "metadata": {},
   "outputs": [
    {
     "name": "stdout",
     "output_type": "stream",
     "text": [
      "proveit.logic.booleans.negation.closure has been proven.\n"
     ]
    },
    {
     "data": {
      "text/html": [
       "<table><tr><th>&nbsp;</th><th>step type</th><th>requirements</th><th>statement</th></tr>\n",
       "<tr><td><a name=\"0x69b96d347289c12_step0\">0</a></td><td>instantiation</td><td><a href=\"#0x69b96d347289c12_step1\">1</a>, <a href=\"#0x69b96d347289c12_step2\">2</a>, <a href=\"#0x69b96d347289c12_step3\">3</a></td><td><span style=\"font-size:20px;\"> <a class=\"ProveItLink\" href=\"../../../__pv_it/_proof_closure/2d02bb40f4050347251067ed70d95640858ca4900/proof.ipynb\" style=\"text-decoration: none\">&nbsp;&#x22A2;&nbsp;&nbsp;</a><a class=\"ProveItLink\" href=\"../../../__pv_it/theorems/63d2d1127aa0220ef21e2837c5f2bee240fe4c1d0/expr.ipynb\"><img src=\"data:image/png;base64,iVBORw0KGgoAAAANSUhEUgAAAJsAAAAVBAMAAACj9YEXAAAAMFBMVEX///8AAAAAAAAAAAAAAAAA\n",
       "AAAAAAAAAAAAAAAAAAAAAAAAAAAAAAAAAAAAAAAAAAAv3aB7AAAAD3RSTlMAq1RmmUTNIjK7EInv\n",
       "3XZ/CtNrAAAACXBIWXMAAA7EAAAOxAGVKw4bAAAChElEQVQ4y4VUTWjUQBR+TTa73U03evFQPGxA\n",
       "EMG/PajgRRasIvTgopeiIpUq4lZqtVAoVLqCV9sg1hJBjd56kdSLVA/WgyBqtUgtCAYCIoL/eKjH\n",
       "+t7M62STbdYPvuzk7Zsv728GoDUGmY3ItfBtDcuWjDAMYIQJp483l+c3AJzE9XoybEqT28qMcAH5\n",
       "KeGVN8Lhe1WwygAH6P1silqhVzKCtoKPrJeUK5uDDkAN4AoVw0mRy5QlGywlrJBeaZLTbUxzl/yS\n",
       "aafIdTAjPHpax+dLLtrtYEnJYRIdHuj48Wxa6TYzo6aGv+jTfeLFGPBUdG1DPuqg1nwQvEqT62ZG\n",
       "ucJOyn1GNtlTyX79sRF/TUz4EMAtYfSa5fpUJIwjMIFRwB6INTBvLL1dxO06JnwRcmJYCi+4d/2n\n",
       "F1dr+U4yExCo/hUYI+dt4t/ehlZYu7Gt2hyuPbNKNvMPPsY7JyH0L21hv+dMUTbUsW50lWgKJsjQ\n",
       "jmUKPrAcOMfR8hslQ9mJnjcYBmaOcub9FLkHAOsWcH1CpOM0RAdOHnszRzHvE7bwFI976A89jier\n",
       "5DDfIm3ZLiwLMTkMSiPLw5qYITjI3wu7XtfZ7w5TyFXAoKHChGCvsPyMye3AVtD+UdGJHvgu3Cm6\n",
       "q5/Zb0YNhcAobf2rhidrKznf/IaRZ6jrbSKW7iclTz/nutepdib7XWNKTK/UQLu7jHveyxPdeUwe\n",
       "jvOuuFGgWFWXDMBYvd2X0ZkWW4t1yeSFx1UzZuUhW8VltTqKPbPlPKPcOFvprCfPOyRvhQj7lcMz\n",
       "KBw+AyMYiTbQ7yr3KWYcI2urNV1MhVl3MmaYZsYxtbZc/r+3ey6UjF/mKdu+APwDN+eg1EeU4WMA\n",
       "AAAASUVORK5CYII=\n",
       "\" style=\"display:inline;vertical-align:middle;\" /></a></span></td></tr>\n",
       "<tr><td>&nbsp;</td><td colspan=4 style=\"text-align:left\"><span style=\"font-size:20px;\"><a class=\"ProveItLink\" href=\"../../../../../../__pv_it/common/179eec53aec5f67dcadb70a64bbe503739c53abe0/expr.ipynb\"><img src=\"data:image/png;base64,iVBORw0KGgoAAAANSUhEUgAAADIAAAAVBAMAAAD2uKAMAAAAMFBMVEX///8AAAAAAAAAAAAAAAAA\n",
       "AAAAAAAAAAAAAAAAAAAAAAAAAAAAAAAAAAAAAAAAAAAv3aB7AAAAD3RSTlMAdrurzZkQ7zJUiSLd\n",
       "ZkQEbk8lAAAACXBIWXMAAA7EAAAOxAGVKw4bAAABHUlEQVQoz2NgQAYbYAxuBlTAOAFMbWFg4BMA\n",
       "MYT+Kxu5JoBYsyAK/IFYFsz6wsDAVAak2RzAXM7/QIIFpJTjI5AHxAysF8AyrPZA63gDQKb/AOJf\n",
       "QAY7xLDV6xuAJMgQpg9ADJRlmAJxloA8yCG+QMyvwMDQD3JLFMQwhvkgUxczgEV3nWSAKmNgeMnQ\n",
       "vwBIXQFieatV98BiYGmGAIb9BkBqOhDrwzxaB/ataqi9AsgkiHeQZBKBFh8A0s+B3vkFkzkJMYyB\n",
       "pwBIzwFq/weTUQRiPqC7WIDeYLgEpcEA5NDtIA/+BnuBVf+TAFSmh4Eh6b8bA6f+F6CzzyFHAk8D\n",
       "gs19AFkGHIpQAA1dGNBGMDehxmkSVkWQYIbH+wYGAAUzPGBwqko8AAAAAElFTkSuQmCC\n",
       "\" style=\"display:inline;vertical-align:middle;\" /></a> : <a class=\"ProveItLink\" href=\"../../../__pv_it/axioms/17c0164fb2929846c093a14e1eac9efc4bc02ac00/expr.ipynb\"><img src=\"data:image/png;base64,iVBORw0KGgoAAAANSUhEUgAAAFIAAAAVBAMAAAAnX6R8AAAAMFBMVEX///8AAAAAAAAAAAAAAAAA\n",
       "AAAAAAAAAAAAAAAAAAAAAAAAAAAAAAAAAAAAAAAAAAAv3aB7AAAAD3RSTlMAInZUiRDNmWbv3US7\n",
       "qzJazP2FAAAACXBIWXMAAA7EAAAOxAGVKw4bAAABZUlEQVQoz2NgYBBgQAWMDDgAkwEyT4yBgVsB\n",
       "TcHKY99m3QYyTFCE84FYA80sHm4FsdgNDKwJyILM/4EEWwC6ygYWgQMM7A3Iguz3ga7mKMBQyWFw\n",
       "gYETRdDR/wGQnAp14KlVy+AqExjMULytoA/yXwaYw50UADeTV8KBoQTFcgZ7kGN8IcEQALddVesK\n",
       "TD8UbGZ47wCk2sCcRIQ7l81fHsCwGGjSKhAAeaOAQf4CkLIEK0hA8hFTdyrDbJgTgUqYjpffPwBk\n",
       "vwcJ8M0Cal8DVclwYAuKyiAGBv4FQPZOkADrASQzGQ7wgGyHqwQ6gGsCkG0FFlmAopKN4RBMZQED\n",
       "UICB7QOQ3QMWUUJRaQQNETCQBIl+BBKQkGMzgKt0YFEpYHgFVxjzP5WB+fw3YDCtBvNZ72yFRFXm\n",
       "GXBa4nqAkQ4ZoS7k9oHEJhSgJwdQTDVgT8kHMURkcKT5GCL0wtIPenYRwKoOAJf2U36yjIxPAAAA\n",
       "AElFTkSuQmCC\n",
       "\" style=\"display:inline;vertical-align:middle;\" /></a>, <a class=\"ProveItLink\" href=\"../../../../../../__pv_it/common/09585084922504426caf1db2ff588a23a0932a960/expr.ipynb\"><img src=\"data:image/png;base64,iVBORw0KGgoAAAANSUhEUgAAAA8AAAAPBAMAAADJ+Ih5AAAAMFBMVEX///8AAAAAAAAAAAAAAAAA\n",
       "AAAAAAAAAAAAAAAAAAAAAAAAAAAAAAAAAAAAAAAAAAAv3aB7AAAAD3RSTlMAIs1UmauJMnZmRLsQ\n",
       "3e++988cAAAACXBIWXMAAA7EAAAOxAGVKw4bAAAAXklEQVQI12NgAAEhBijQh9LM/6EMlngBCCMx\n",
       "vwBMMzb0G0BkGOwngBmLGeoTwAwHBvkAEM2xxSV+A4hxgoGB/wJEhoH3AZDmAupg+gBkyAEx90cG\n",
       "htP/dRiY939KAABt3hLO6mcEjQAAAABJRU5ErkJggg==\n",
       "\" style=\"display:inline;vertical-align:middle;\" /></a> : <a class=\"ProveItLink\" href=\"../../../../../../__pv_it/common/09585084922504426caf1db2ff588a23a0932a960/expr.ipynb\"><img src=\"data:image/png;base64,iVBORw0KGgoAAAANSUhEUgAAAA8AAAAPBAMAAADJ+Ih5AAAAMFBMVEX///8AAAAAAAAAAAAAAAAA\n",
       "AAAAAAAAAAAAAAAAAAAAAAAAAAAAAAAAAAAAAAAAAAAv3aB7AAAAD3RSTlMAIs1UmauJMnZmRLsQ\n",
       "3e++988cAAAACXBIWXMAAA7EAAAOxAGVKw4bAAAAXklEQVQI12NgAAEhBijQh9LM/6EMlngBCCMx\n",
       "vwBMMzb0G0BkGOwngBmLGeoTwAwHBvkAEM2xxSV+A4hxgoGB/wJEhoH3AZDmAupg+gBkyAEx90cG\n",
       "htP/dRiY939KAABt3hLO6mcEjQAAAABJRU5ErkJggg==\n",
       "\" style=\"display:inline;vertical-align:middle;\" /></a></span></td></tr><tr><td><a name=\"0x69b96d347289c12_step1\">1</a></td><td>conjecture</td><td></td><td><span style=\"font-size:20px;\"> <a class=\"ProveItLink\" href=\"../../../../_theory_nbs_/proofs/forall_over_bool_by_cases/thm_proof.ipynb\" style=\"text-decoration: none\">&nbsp;&#x22A2;&nbsp;&nbsp;</a><a class=\"ProveItLink\" href=\"../../../../__pv_it/theorems/6d327d2140f1f0c2a937cb448134f4763a4374070/expr.ipynb\"><img src=\"data:image/png;base64,iVBORw0KGgoAAAANSUhEUgAAAPsAAAAXBAMAAAA/2iRsAAAAMFBMVEX///8AAAAAAAAAAAAAAAAA\n",
       "AAAAAAAAAAAAAAAAAAAAAAAAAAAAAAAAAAAAAAAAAAAv3aB7AAAAD3RSTlMAq1RmmUTNIjK7EInv\n",
       "3XZ/CtNrAAAACXBIWXMAAA7EAAAOxAGVKw4bAAADgUlEQVRIx62WTWgTQRTHX5JNNsmmawoFFQ8N\n",
       "KhX8LEgL4gdRKgqtEvRU9RBQEHoxvQhFofUoKo0o1C3SrOClKJIWv9oirRVBK0oseGtgVRB6aYto\n",
       "W1uwznuzu5lsElpJFjYz82Ymvzfz/vNmASrxqNmuNY5MWBX5f2at8iixtfoZoeIygNegaWFsbikb\n",
       "78LCXV+8e3rl9sYLOtZ2cMMl9n4n/FFsXiwbL+H6fYkS/fMAgQlWBuPUdK/gYB3x1zAOybLxftzF\n",
       "jhLd/r8MyV6Q+PZItcxPTxTxzAlQIuXHvo0Vg6UivsjeZVYJ8faLUdTcBE7zMId8FZDeXlbES3QH\n",
       "5tjLXIA6LnpjFtd7nhT7MZv9UAF8KJudSpfoXseC282UDs1872EPBmGA8McBesWxUbGxzdo+KGY1\n",
       "BLzUBQESd7AQz9BXJoEWjM8p6EZHGwnfDjKTjTfVfHg9dXIZtv56Wp0ATwyGtPuaZphO2VbupSTg\n",
       "2Z+0U/2xmUvqnp84YnbPbhppoMqkucBOFOpOwgd0ShoHAV4JeE8GlAw8oMjhz1mnFYd500La6YVn\n",
       "VB9lcfV/1WKqIm82PUlZbr6lnbzbVIuzu2ma2yDl1TAnBbwrCuocTwqE9+kOKw1rE/C7ufK8N1lI\n",
       "mhhXVWA4Yh97Af+EiSHDynM8WcYPoXEc4LOAD0WgKgwZG8/PpmClYYMC3uchKai+MKioLLb6/To/\n",
       "9ssWftIUV9UYK3dx/CCuQV6C9qiA79TlGpDjNt4ddVhp2FYBr9QRzJDi0E9+SC3vTN3+tvB9uD14\n",
       "0tlJhH0cfxV14Pk0sx0E/IGZbzp4kzaeVwUr/bQKePk1jetSx+A0QRX/SX4TEYyeAcThXy7QKSS8\n",
       "CwXiCltDOL6alhy28f6kw0rt6+KNt4HO9MjAEjRqmhZhsU+TNKXUH+uE3gLoX2kDd2qe9XwRLspQ\n",
       "fT7+TY4pbL5gLdh8KxXIi3CDrx7ShiMBVAkXvJwRpnUm8vDyAtVz0lONYDrPSsNmnHgM7E+efxj+\n",
       "pRPvEXIau37saWpqOA8/vUw66gEruQQS/vGcVdG091qf2S/iW8LwcD4m38O082PoTkH+68lVO4p/\n",
       "pYiX71m7xsTsLrAGkyW+dh5pWvHvn/48T1bDS3ZIjgGcKbDaFWWtX22yHQ41AerUKniwQoJpvr7A\n",
       "2gCVf/I+mIKOMr+llw37B+XP6zV2d0ObAAAAAElFTkSuQmCC\n",
       "\" style=\"display:inline;vertical-align:middle;\" /></a></span></td></tr>\n",
       "<tr><td>&nbsp;</td><td colspan=4 style-\"text-align:left\"><a class=\"ProveItLink\" href=\"../../../../_theory_nbs_/proofs/forall_over_bool_by_cases/thm_proof.ipynb\">proveit.logic.booleans.forall_over_bool_by_cases</a></td></tr><tr><td><a name=\"0x69b96d347289c12_step2\">2</a></td><td>instantiation</td><td><a href=\"#0x69b96d347289c12_step6\">6</a>, <a href=\"#0x69b96d347289c12_step4\">4</a>, <a href=\"#0x69b96d347289c12_step5\">5</a></td><td><span style=\"font-size:20px;\"> <a class=\"ProveItLink\" href=\"../../../__pv_it/_proof_closure/05ef71d9240f53ad4223d6d223d7761eb27244240/proof.ipynb\" style=\"text-decoration: none\">&nbsp;&#x22A2;&nbsp;&nbsp;</a><a class=\"ProveItLink\" href=\"../../../__pv_it/_proof_closure/dee95a9fe20094c9557c4da949d60e7e1b68e84b0/expr.ipynb\"><img src=\"data:image/png;base64,iVBORw0KGgoAAAANSUhEUgAAAFMAAAAVBAMAAADInc9CAAAAMFBMVEX///8AAAAAAAAAAAAAAAAA\n",
       "AAAAAAAAAAAAAAAAAAAAAAAAAAAAAAAAAAAAAAAAAAAv3aB7AAAAD3RSTlMAInZUiRDNmWbv3US7\n",
       "qzJazP2FAAAACXBIWXMAAA7EAAAOxAGVKw4bAAABJklEQVQoz2NgYBBgQAWMDLgAkwGaALcCmoDW\n",
       "nPzMtRuADBOYCPsqMLjAoIFu2oFNjKm3GRhYE5DEmMEGsgWgK93B4MgDNKsBQylHAabSZl4GBk4G\n",
       "DKUMU6G+OLVqGVwpGwODGRalGRDvJQUgTL3YwsBQgkWpL5gUC0B4K2itA8wEVKVtYDIR4dZdmb9K\n",
       "GRgWw0KpAKHUEkwmIHtLY1sAw2xYHF1AKH0PIvhmAfWvgSnl4XbAqnQniGA9gGwqD8MBkAMwlFqB\n",
       "yQWoShMYDsGUIrm1B0wqoSgFSvliCQFIALLB09GBLQxO7gwMr1ASFSSWV4NJ1jtbIaJqc86DUxbX\n",
       "A4xkyQh1JbcPNGKhACNtoKUgZHAQQ0QGVy6IIUIzzGXo+YNJALtCAEs/UEGRVTRbAAAAAElFTkSu\n",
       "QmCC\n",
       "\" style=\"display:inline;vertical-align:middle;\" /></a></span></td></tr>\n",
       "<tr><td>&nbsp;</td><td colspan=4 style=\"text-align:left\"><span style=\"font-size:20px;\"><a class=\"ProveItLink\" href=\"../../../__pv_it/_proof_closure/1d99392da58b40374b949787020ddefb47f454cd0/expr.ipynb\"><img src=\"data:image/png;base64,iVBORw0KGgoAAAANSUhEUgAAADsAAAAVBAMAAAAKrYvGAAAAMFBMVEX///8AAAAAAAAAAAAAAAAA\n",
       "AAAAAAAAAAAAAAAAAAAAAAAAAAAAAAAAAAAAAAAAAAAv3aB7AAAAD3RSTlMAdrurzZkQ7zJUiSLd\n",
       "ZkQEbk8lAAAACXBIWXMAAA7EAAAOxAGVKw4bAAABHElEQVQoz2NgQAYb8PAYGBgnoHAfgkmh/8pG\n",
       "rgkg1iw01RfA1BcGBqYyIM3mgGaaG4jg+MjAwAnEDKwX0KSvgs34AcS/gAx2NFkGdpCVTB+AGKiE\n",
       "YQq6NAvIOH4FBoZ+ASAjCiHBbSUNFOEyYABL7ToJEvNFSD/fwPSNgYEX5FZ5q1X3wGIn4bJstQys\n",
       "B4AOLgCy9WGCdXBp1g8MPAuAfvoA8Ta6NLsCQ/4DBgY+oG6OXzBBhOH5Agz3gRQn0ALGfzBBRYT0\n",
       "BAYTzg0MvEA/sXyACS6GSzMJcB5lBTphAQOr/icBqGAP0CYlINBmYDNcsVmCgYHnAXIg8TSghdoe\n",
       "FB5vAJp0LCpXG5XLrYDKT0LlMqGlJm4BFK40AwMAeV42yYcqVGcAAAAASUVORK5CYII=\n",
       "\" style=\"display:inline;vertical-align:middle;\" /></a> : <a class=\"ProveItLink\" href=\"../../../__pv_it/_proof_closure/a9dccdbfd19eb63cc286f129ddf925359cbc0e140/expr.ipynb\"><img src=\"data:image/png;base64,iVBORw0KGgoAAAANSUhEUgAAAD4AAAAQBAMAAAC8SdExAAAAMFBMVEX///8AAAAAAAAAAAAAAAAA\n",
       "AAAAAAAAAAAAAAAAAAAAAAAAAAAAAAAAAAAAAAAAAAAv3aB7AAAAD3RSTlMAMrsiq4l2RO8QZpnd\n",
       "VM2humBGAAAACXBIWXMAAA7EAAAOxAGVKw4bAAAAzElEQVQY02NgwAHYTuj963FnwA2Y2BPsphTg\n",
       "k1/AaqCAV57rggOmeNKZMw/g8g8wpOsyEfpZrALg4iZhZiCK+SXC/MwcV7g0ezOD/gQgzWeAkD/X\n",
       "f3oCjDdjAcMeEM2H7D625XDT9jMwHAXREmeAQAEqz6BQCpNvYuD8DqInIetnUGCCcji/MXB9ADF4\n",
       "UOVh1nH+ZWB5cBkU7Ako8tdgPDWGOxs2gBhvEfIBrKkbGISUgMCAYUqqsJsASHiKOsRPbC+UsMdf\n",
       "qc4ZpFAFAIbwN/uxrLzpAAAAAElFTkSuQmCC\n",
       "\" style=\"display:inline;vertical-align:middle;\" /></a>, <a class=\"ProveItLink\" href=\"../../../../../../__pv_it/common/a0d9d672aa5e272d907247690c152cc2c6daafb70/expr.ipynb\"><img src=\"data:image/png;base64,iVBORw0KGgoAAAANSUhEUgAAAAsAAAAJBAMAAAAWSsseAAAAMFBMVEX///8AAAAAAAAAAAAAAAAA\n",
       "AAAAAAAAAAAAAAAAAAAAAAAAAAAAAAAAAAAAAAAAAAAv3aB7AAAAD3RSTlMAEHarMolUmd1mIs3v\n",
       "RLtmgJDEAAAACXBIWXMAAA7EAAAOxAGVKw4bAAAAQklEQVQI12NgEFIWCU1gYChgMmJvYOBcwPmR\n",
       "eQIDCwP7BgYQ4FEAU/cXMAowyF2wYWBlYMh3rGG4xsAgrsRWmcAAAFEjCyBvD0T9AAAAAElFTkSu\n",
       "QmCC\n",
       "\" style=\"display:inline;vertical-align:middle;\" /></a> : <a class=\"ProveItLink\" href=\"../../../__pv_it/axioms/4b5d0e2c3ed5258a362f83a4694bf4399cbad8750/expr.ipynb\"><img src=\"data:image/png;base64,iVBORw0KGgoAAAANSUhEUgAAABwAAAAOBAMAAADOPWE3AAAAHlBMVEX///8AAAAAAAAAAAAAAAAA\n",
       "AAAAAAAAAAAAAAAAAACGjDitAAAACXRSTlMAmd0iq1R2RGbg+54/AAAACXBIWXMAAA7EAAAOxAGV\n",
       "Kw4bAAAAJklEQVQI12NggAAhJRBQYUCAMAYUQDEXbIMiqqwJKVxDwhZVADEAxWgG6biewmYAAAAA\n",
       "SUVORK5CYII=\n",
       "\" style=\"display:inline;vertical-align:middle;\" /></a>, <a class=\"ProveItLink\" href=\"../../../../../../__pv_it/common/ff7dba4ef0bbe791ab573bf2d9c220a304399ac80/expr.ipynb\"><img src=\"data:image/png;base64,iVBORw0KGgoAAAANSUhEUgAAAAsAAAANBAMAAACN24kIAAAAMFBMVEX///8AAAAAAAAAAAAAAAAA\n",
       "AAAAAAAAAAAAAAAAAAAAAAAAAAAAAAAAAAAAAAAAAAAv3aB7AAAAD3RSTlMAEHaZZquJVO8y3btE\n",
       "zSKD2s2pAAAACXBIWXMAAA7EAAAOxAGVKw4bAAAAVklEQVQI12NgVHZgEGVgYGNvYPBnYJjOvIAh\n",
       "moFBgEOBoYmBgeG8AOdPIGXLwNQApLYycAcAKVOG8w5ASjTJ/gEDCOQCMdsFxnYgxaXAmgCk2J1s\n",
       "gCQAaFoNDtFIIdEAAAAASUVORK5CYII=\n",
       "\" style=\"display:inline;vertical-align:middle;\" /></a> : <a class=\"ProveItLink\" href=\"../../../../__pv_it/common/e0f123f2e4f322e1eba7f861749cda9fd9d99a120/expr.ipynb\"><img src=\"data:image/png;base64,iVBORw0KGgoAAAANSUhEUgAAAA4AAAAPBAMAAAAmOuNHAAAAHlBMVEX///8AAAAAAAAAAAAAAAAA\n",
       "AAAAAAAAAAAAAAAAAACGjDitAAAACXRSTlMARGZUdpnd76sKo+zpAAAACXBIWXMAAA7EAAAOxAGV\n",
       "Kw4bAAAAGElEQVQI12NgQAAhKG1CSzosLa08LS0DAJuOBVCdynDUAAAAAElFTkSuQmCC\n",
       "\" style=\"display:inline;vertical-align:middle;\" /></a></span></td></tr><tr><td><a name=\"0x69b96d347289c12_step3\">3</a></td><td>instantiation</td><td><a href=\"#0x69b96d347289c12_step6\">6</a>, <a href=\"#0x69b96d347289c12_step7\">7</a>, <a href=\"#0x69b96d347289c12_step8\">8</a></td><td><span style=\"font-size:20px;\"> <a class=\"ProveItLink\" href=\"../../../__pv_it/_proof_closure/22da2821e95bf21726b2d6389bf58dcc91390b8f0/proof.ipynb\" style=\"text-decoration: none\">&nbsp;&#x22A2;&nbsp;&nbsp;</a><a class=\"ProveItLink\" href=\"../../../__pv_it/_proof_closure/6fb68336b20d0a96e581f70f562845afd8029e4b0/expr.ipynb\"><img src=\"data:image/png;base64,iVBORw0KGgoAAAANSUhEUgAAAFMAAAAVBAMAAADInc9CAAAAMFBMVEX///8AAAAAAAAAAAAAAAAA\n",
       "AAAAAAAAAAAAAAAAAAAAAAAAAAAAAAAAAAAAAAAAAAAv3aB7AAAAD3RSTlMAInZUiRDNmWbv3US7\n",
       "qzJazP2FAAAACXBIWXMAAA7EAAAOxAGVKw4bAAABLElEQVQoz2NgYBBgQAWMDLgAkwGaALcCmoDW\n",
       "nPzMtRuADBNkVQ0gUgPdtAObGFNvMzCwJiCJMYMNZAtAV7qDwZGHgYG9AUMpRwGm0mZeBgZOBgyl\n",
       "DFOhvji1ahlcKRsDgxkWpRkQhycFIEy92MLAUIJFqS+YFAtAeCtorQPMBFSlbWAyEeHWXZm/ShkY\n",
       "FgN9tgoEChBKLcFkArK3NLYFMMyGxdEFhNL3IIJvFlD/GphSHm4HrEp3ggjWA8im8jAcADkAQ6kV\n",
       "mFyAqjSB4RBMKZJbe8CkEopSoJQvlhCABCAbPB0d2MLg5M7A8AquDhgQK4FeATpkNZjPemcrREJt\n",
       "znlwyuJ6gJEsGaGu5PaBRiwUYKQNtBSEDA5iiMjgygUxRGiGuQw9fzAJYFcIAOFNUDAJDLgSAAAA\n",
       "AElFTkSuQmCC\n",
       "\" style=\"display:inline;vertical-align:middle;\" /></a></span></td></tr>\n",
       "<tr><td>&nbsp;</td><td colspan=4 style=\"text-align:left\"><span style=\"font-size:20px;\"><a class=\"ProveItLink\" href=\"../../../__pv_it/_proof_closure/1d99392da58b40374b949787020ddefb47f454cd0/expr.ipynb\"><img src=\"data:image/png;base64,iVBORw0KGgoAAAANSUhEUgAAADsAAAAVBAMAAAAKrYvGAAAAMFBMVEX///8AAAAAAAAAAAAAAAAA\n",
       "AAAAAAAAAAAAAAAAAAAAAAAAAAAAAAAAAAAAAAAAAAAv3aB7AAAAD3RSTlMAdrurzZkQ7zJUiSLd\n",
       "ZkQEbk8lAAAACXBIWXMAAA7EAAAOxAGVKw4bAAABHElEQVQoz2NgQAYb8PAYGBgnoHAfgkmh/8pG\n",
       "rgkg1iw01RfA1BcGBqYyIM3mgGaaG4jg+MjAwAnEDKwX0KSvgs34AcS/gAx2NFkGdpCVTB+AGKiE\n",
       "YQq6NAvIOH4FBoZ+ASAjCiHBbSUNFOEyYABL7ToJEvNFSD/fwPSNgYEX5FZ5q1X3wGIn4bJstQys\n",
       "B4AOLgCy9WGCdXBp1g8MPAuAfvoA8Ta6NLsCQ/4DBgY+oG6OXzBBhOH5Agz3gRQn0ALGfzBBRYT0\n",
       "BAYTzg0MvEA/sXyACS6GSzMJcB5lBTphAQOr/icBqGAP0CYlINBmYDNcsVmCgYHnAXIg8TSghdoe\n",
       "FB5vAJp0LCpXG5XLrYDKT0LlMqGlJm4BFK40AwMAeV42yYcqVGcAAAAASUVORK5CYII=\n",
       "\" style=\"display:inline;vertical-align:middle;\" /></a> : <a class=\"ProveItLink\" href=\"../../../__pv_it/_proof_closure/a9dccdbfd19eb63cc286f129ddf925359cbc0e140/expr.ipynb\"><img src=\"data:image/png;base64,iVBORw0KGgoAAAANSUhEUgAAAD4AAAAQBAMAAAC8SdExAAAAMFBMVEX///8AAAAAAAAAAAAAAAAA\n",
       "AAAAAAAAAAAAAAAAAAAAAAAAAAAAAAAAAAAAAAAAAAAv3aB7AAAAD3RSTlMAMrsiq4l2RO8QZpnd\n",
       "VM2humBGAAAACXBIWXMAAA7EAAAOxAGVKw4bAAAAzElEQVQY02NgwAHYTuj963FnwA2Y2BPsphTg\n",
       "k1/AaqCAV57rggOmeNKZMw/g8g8wpOsyEfpZrALg4iZhZiCK+SXC/MwcV7g0ezOD/gQgzWeAkD/X\n",
       "f3oCjDdjAcMeEM2H7D625XDT9jMwHAXREmeAQAEqz6BQCpNvYuD8DqInIetnUGCCcji/MXB9ADF4\n",
       "UOVh1nH+ZWB5cBkU7Ako8tdgPDWGOxs2gBhvEfIBrKkbGISUgMCAYUqqsJsASHiKOsRPbC+UsMdf\n",
       "qc4ZpFAFAIbwN/uxrLzpAAAAAElFTkSuQmCC\n",
       "\" style=\"display:inline;vertical-align:middle;\" /></a>, <a class=\"ProveItLink\" href=\"../../../../../../__pv_it/common/a0d9d672aa5e272d907247690c152cc2c6daafb70/expr.ipynb\"><img src=\"data:image/png;base64,iVBORw0KGgoAAAANSUhEUgAAAAsAAAAJBAMAAAAWSsseAAAAMFBMVEX///8AAAAAAAAAAAAAAAAA\n",
       "AAAAAAAAAAAAAAAAAAAAAAAAAAAAAAAAAAAAAAAAAAAv3aB7AAAAD3RSTlMAEHarMolUmd1mIs3v\n",
       "RLtmgJDEAAAACXBIWXMAAA7EAAAOxAGVKw4bAAAAQklEQVQI12NgEFIWCU1gYChgMmJvYOBcwPmR\n",
       "eQIDCwP7BgYQ4FEAU/cXMAowyF2wYWBlYMh3rGG4xsAgrsRWmcAAAFEjCyBvD0T9AAAAAElFTkSu\n",
       "QmCC\n",
       "\" style=\"display:inline;vertical-align:middle;\" /></a> : <a class=\"ProveItLink\" href=\"../../../__pv_it/axioms/446a01d9a7ebef169028057d3b157d31652390170/expr.ipynb\"><img src=\"data:image/png;base64,iVBORw0KGgoAAAANSUhEUgAAABwAAAAPBAMAAAAFYbKSAAAAIVBMVEX///8AAAAAAAAAAAAAAAAA\n",
       "AAAAAAAAAAAAAAAAAAAAAADdcGRXAAAACnRSTlMAmd0iq0RmVHbvMiy3+wAAAAlwSFlzAAAOxAAA\n",
       "DsQBlSsOGwAAACVJREFUCNdjYMAFwlC5FVTmCikBgSKqrAkpXEMCFgEtmKmkpAIA/3EI1mTq1PcA\n",
       "AAAASUVORK5CYII=\n",
       "\" style=\"display:inline;vertical-align:middle;\" /></a>, <a class=\"ProveItLink\" href=\"../../../../../../__pv_it/common/ff7dba4ef0bbe791ab573bf2d9c220a304399ac80/expr.ipynb\"><img src=\"data:image/png;base64,iVBORw0KGgoAAAANSUhEUgAAAAsAAAANBAMAAACN24kIAAAAMFBMVEX///8AAAAAAAAAAAAAAAAA\n",
       "AAAAAAAAAAAAAAAAAAAAAAAAAAAAAAAAAAAAAAAAAAAv3aB7AAAAD3RSTlMAEHaZZquJVO8y3btE\n",
       "zSKD2s2pAAAACXBIWXMAAA7EAAAOxAGVKw4bAAAAVklEQVQI12NgVHZgEGVgYGNvYPBnYJjOvIAh\n",
       "moFBgEOBoYmBgeG8AOdPIGXLwNQApLYycAcAKVOG8w5ASjTJ/gEDCOQCMdsFxnYgxaXAmgCk2J1s\n",
       "gCQAaFoNDtFIIdEAAAAASUVORK5CYII=\n",
       "\" style=\"display:inline;vertical-align:middle;\" /></a> : <a class=\"ProveItLink\" href=\"../../../../__pv_it/common/95025295868b9266d37330b4427adf122f6061770/expr.ipynb\"><img src=\"data:image/png;base64,iVBORw0KGgoAAAANSUhEUgAAAA4AAAAOBAMAAADtZjDiAAAAG1BMVEX///8AAAAAAAAAAAAAAAAA\n",
       "AAAAAAAAAAAAAAB4Gco9AAAACHRSTlMAmd2rVHZEZkA3AkMAAAAJcEhZcwAADsQAAA7EAZUrDhsA\n",
       "AAAYSURBVAjXYxBSAgFlBiBwZYAAWtHpQAwAFRwEg6MlY1sAAAAASUVORK5CYII=\n",
       "\" style=\"display:inline;vertical-align:middle;\" /></a></span></td></tr><tr><td><a name=\"0x69b96d347289c12_step4\">4</a></td><td>conjecture</td><td></td><td><span style=\"font-size:20px;\"> <a class=\"ProveItLink\" href=\"../../../../_theory_nbs_/proofs/false_is_bool/thm_proof.ipynb\" style=\"text-decoration: none\">&nbsp;&#x22A2;&nbsp;&nbsp;</a><a class=\"ProveItLink\" href=\"../../../../__pv_it/theorems/bbc9c63ce37f7c83a6285a585c4d279490a0c9400/expr.ipynb\"><img src=\"data:image/png;base64,iVBORw0KGgoAAAANSUhEUgAAADYAAAAQBAMAAACvnpHFAAAAMFBMVEX///8AAAAAAAAAAAAAAAAA\n",
       "AAAAAAAAAAAAAAAAAAAAAAAAAAAAAAAAAAAAAAAAAAAv3aB7AAAAD3RSTlMARGZUdpnd76u7zRAi\n",
       "MolMqJcyAAAACXBIWXMAAA7EAAAOxAGVKw4bAAAAn0lEQVQY02NgwAJY0mf9KmsEM4UwJDkZHU7t\n",
       "EACxTLDIKfAdmIBTjsmgAVXOMy1tAVxuAYqclDdCH8ehB8hyPKsRZnq79TEgy3EdQMhl1aduQJFD\n",
       "dguL4mpkuetpQDABKscwQQ5ZbieyPoYJnMhybKhyXMhyLA4ociYo/luMkHvA5xfAEJaWVp6WlgEW\n",
       "2jFxA8SA5TNh8YAActMgYQYBALQtJ5ZTVaF7AAAAAElFTkSuQmCC\n",
       "\" style=\"display:inline;vertical-align:middle;\" /></a></span></td></tr>\n",
       "<tr><td>&nbsp;</td><td colspan=4 style-\"text-align:left\"><a class=\"ProveItLink\" href=\"../../../../_theory_nbs_/proofs/false_is_bool/thm_proof.ipynb\">proveit.logic.booleans.false_is_bool</a></td></tr><tr><td><a name=\"0x69b96d347289c12_step5\">5</a></td><td>axiom</td><td></td><td><span style=\"font-size:20px;\"> <a class=\"ProveItLink\" href=\"../../axioms.ipynb#not_t\" style=\"text-decoration: none\">&nbsp;&#x22A2;&nbsp;&nbsp;</a><a class=\"ProveItLink\" href=\"../../../__pv_it/axioms/fa3556271013b3b54b7b75b637f6a18a1772897d0/expr.ipynb\"><img src=\"data:image/png;base64,iVBORw0KGgoAAAANSUhEUgAAAFcAAAAVBAMAAADBdm84AAAAMFBMVEX///8AAAAAAAAAAAAAAAAA\n",
       "AAAAAAAAAAAAAAAAAAAAAAAAAAAAAAAAAAAAAAAAAAAv3aB7AAAAD3RSTlMAInZUiRDNmWbv3US7\n",
       "qzJazP2FAAAACXBIWXMAAA7EAAAOxAGVKw4bAAAAvElEQVQoz2NgYBBgQAWMDLgBkwGaALcCbsUm\n",
       "MAb7KjC4wKCBRRV3A4hkTUASYgYbyhaAqRgiw96AIcRRgEsxJ6YQw1Rcis2wKM7ApbgEi2JfXIoz\n",
       "sChuQwkcJJnFMOEChGJLXCbPhsXbBYTi96Qo3olL8WIsiq1wufkQTDGSm3twmeyLJTRKcCl+hZlc\n",
       "GFajqQS6aOUskIu4HmCYwrgAVwrFkmpQ0hYqOIghIoM78ccQoR3hQvRcxCSASykA470wqH9vffUA\n",
       "AAAASUVORK5CYII=\n",
       "\" style=\"display:inline;vertical-align:middle;\" /></a></span></td></tr>\n",
       "<tr><td>&nbsp;</td><td colspan=4 style-\"text-align:left\"><a class=\"ProveItLink\" href=\"../../axioms.ipynb#not_t\">proveit.logic.booleans.negation.not_t</a></td></tr><tr><td><a name=\"0x69b96d347289c12_step6\">6</a></td><td>theorem</td><td></td><td><span style=\"font-size:20px;\"> <a class=\"ProveItLink\" href=\"../../../../../equality/_theory_nbs_/proofs/sub_left_side_into/thm_proof.ipynb\" style=\"text-decoration: none\">&nbsp;&#x22A2;&nbsp;&nbsp;</a><a class=\"ProveItLink\" href=\"../../../../../equality/__pv_it/theorems/fa7b338ac0e02abe373a31648947826ee50d3a400/expr.ipynb\"><img src=\"data:image/png;base64,iVBORw0KGgoAAAANSUhEUgAAAMIAAAAXBAMAAACrPI2eAAAAMFBMVEX///8AAAAAAAAAAAAAAAAA\n",
       "AAAAAAAAAAAAAAAAAAAAAAAAAAAAAAAAAAAAAAAAAAAv3aB7AAAAD3RSTlMAq1RmmUTNIjK7EInv\n",
       "3XZ/CtNrAAAACXBIWXMAAA7EAAAOxAGVKw4bAAACs0lEQVRIx7VWS2gTURQ9k5l08uuYQkFEKQVB\n",
       "wQ9moyCoRIpUqEjQlVZsUEFwNV2KYutWlI4ULLowUQTNRqKIixahVNxUlFFwWRg/IEWIWfhNQL3v\n",
       "N3kxDIikF97c+w7nvfNy372PACtjrnA2VsqcQeHjAZBlwfru7Lv8++qaU2UWbVbQe2Af86e7dPRv\n",
       "QHKRfKqokJ4yLrJsed0RSPwCYjRg5RRk5pkI0oNdyv4PGk0KMi1sESbJ9XQpSck6DVLBhhZ2Enix\n",
       "tPS8SwqrKNtTVD0YoXH/7b05ys0DYD9wI2qJ1TbbKFIRrUC7n3stD468M2D5wA5gHDZVbLw0snd1\n",
       "588W7siXR30uzIKY5SMVPq+d284DkjFds2HQDWyhXcpptnQ38CRKwfSR9nFLgqORCiUVPKO6gsVL\n",
       "dorKK+AX3U9HiFIw8nDqonNEiUe3Q6hABcVuBMdoFPewaAF4RUn+cGGYJsezotelQmYQvVn4Eue1\n",
       "LYnQyEg0lQK/jDE3RWfZStHDM6zpGhinBH80vBPUkkEjMa8pTJTtfthFicfYRTCidZ1sOiTD+aoU\n",
       "bgKVwjqkKdxJ4zw7gfmytolcLhlMktxt3/E0hV21d2XEPYnHvZDIn09FRk9dKVCJbrt0AIdk4RqM\n",
       "amRlSfNn16gagabQxz6xrMQTXouok63Sz0BCV4A7tdgQS+cbRcvIl+Qyf9l7C5lJTeEpz7IncZ4l\n",
       "RhRZCsma9YaA7atogjZOVe35x8inqsQY02rJ/s6dD4E7gSSG2439XVRm2DPhG+iUZumUCzg4WiuT\n",
       "iw1d0xSWm7w+ZyDwpCuJcq0i6zajgrPteEy5u5jW+yHsNI5XQqIwRdat0iEl7KhyA/Fip4LlCnw4\n",
       "JApTZN1seeeO247nlDv8CZ0KmOU4e55yOqzI/2XtfxVS2vff7Q+ss7Q23lQ/yQAAAABJRU5ErkJg\n",
       "gg==\n",
       "\" style=\"display:inline;vertical-align:middle;\" /></a></span></td></tr>\n",
       "<tr><td>&nbsp;</td><td colspan=4 style-\"text-align:left\"><a class=\"ProveItLink\" href=\"../../../../../equality/_theory_nbs_/proofs/sub_left_side_into/thm_proof.ipynb\">proveit.logic.equality.sub_left_side_into</a></td></tr><tr><td><a name=\"0x69b96d347289c12_step7\">7</a></td><td>conjecture</td><td></td><td><span style=\"font-size:20px;\"> <a class=\"ProveItLink\" href=\"../../../../_theory_nbs_/proofs/true_is_bool/thm_proof.ipynb\" style=\"text-decoration: none\">&nbsp;&#x22A2;&nbsp;&nbsp;</a><a class=\"ProveItLink\" href=\"../../../../__pv_it/theorems/e3b19f0f51dc50d19100f70b446827a15792e4b10/expr.ipynb\"><img src=\"data:image/png;base64,iVBORw0KGgoAAAANSUhEUgAAADYAAAAQBAMAAACvnpHFAAAAMFBMVEX///8AAAAAAAAAAAAAAAAA\n",
       "AAAAAAAAAAAAAAAAAAAAAAAAAAAAAAAAAAAAAAAAAAAv3aB7AAAAD3RSTlMAmd2rVHZEZrvNECIy\n",
       "74mi4C5kAAAACXBIWXMAAA7EAAAOxAGVKw4bAAAAn0lEQVQY02NgwAJYdTt/XjJjYBBSAgFlVEkO\n",
       "toCdixNALFcMjRxsBXwbGnDKsTsYoMpFKClNgMtNQJHLjELoY97+AFmOexbCzKggOwZkOc4NCDnN\n",
       "+4oLUOSQ3cJaNgtZ7izIpw1QOYaGPGS5Fcj6GBo4kOWYUOU4keVYA1DkXFH8NwUh94AvTgDESocJ\n",
       "LW5bADFgbgc4HlBAXhMkzCAAAO/EJ1PPeY0iAAAAAElFTkSuQmCC\n",
       "\" style=\"display:inline;vertical-align:middle;\" /></a></span></td></tr>\n",
       "<tr><td>&nbsp;</td><td colspan=4 style-\"text-align:left\"><a class=\"ProveItLink\" href=\"../../../../_theory_nbs_/proofs/true_is_bool/thm_proof.ipynb\">proveit.logic.booleans.true_is_bool</a></td></tr><tr><td><a name=\"0x69b96d347289c12_step8\">8</a></td><td>axiom</td><td></td><td><span style=\"font-size:20px;\"> <a class=\"ProveItLink\" href=\"../../axioms.ipynb#not_f\" style=\"text-decoration: none\">&nbsp;&#x22A2;&nbsp;&nbsp;</a><a class=\"ProveItLink\" href=\"../../../__pv_it/axioms/b9bd74a578c6b2e794e4ce82c543ff5c79f215890/expr.ipynb\"><img src=\"data:image/png;base64,iVBORw0KGgoAAAANSUhEUgAAAFcAAAAVBAMAAADBdm84AAAAMFBMVEX///8AAAAAAAAAAAAAAAAA\n",
       "AAAAAAAAAAAAAAAAAAAAAAAAAAAAAAAAAAAAAAAAAAAv3aB7AAAAD3RSTlMAInZUiRDNmWbv3US7\n",
       "qzJazP2FAAAACXBIWXMAAA7EAAAOxAGVKw4bAAAAuklEQVQoz2NgYBBgQAWMDLgBkwGaALcCbsUm\n",
       "yOoaQKQGuhL2VWBwgYE1AUmUGWwoWwCmkRAZ9gYMIY4CXIo5MYUYpuJSbIZFcQYuxSVYFPviUpyB\n",
       "RXEbShAgySyGCRcgFFviMnk2LN4uIBS/J0XxTlyKF2NRbIXLzYdgipHc3IPLZF8soVGCS/Er5OSy\n",
       "chbY3tWYiiFJjOsBhgTjAlwpFEuqQUlbqOAghogM7sQfQ4R2hAvRcxGTAC6lAOIDMKhWJ6jVAAAA\n",
       "AElFTkSuQmCC\n",
       "\" style=\"display:inline;vertical-align:middle;\" /></a></span></td></tr>\n",
       "<tr><td>&nbsp;</td><td colspan=4 style-\"text-align:left\"><a class=\"ProveItLink\" href=\"../../axioms.ipynb#not_f\">proveit.logic.booleans.negation.not_f</a></td></tr></table>"
      ],
      "text/plain": [
       "\tstep type\trequirements\tstatement\n",
       "0\tinstantiation\t1, 2, 3\t|- forall_{A in BOOLEAN} ([not](A) in BOOLEAN)\n",
       "\tP(A) : [not](A) in BOOLEAN, A : A\n",
       "1\tconjecture\t\t|- forall_{P | P(TRUE), P(FALSE)} [forall_{A in BOOLEAN} P(A)]\n",
       "\tproveit.logic.booleans.forall_over_bool_by_cases\n",
       "2\tinstantiation\t6, 4, 5\t|- [not](TRUE) in BOOLEAN\n",
       "\tP(_a) : _a in BOOLEAN, x : [not](TRUE), y : FALSE\n",
       "3\tinstantiation\t6, 7, 8\t|- [not](FALSE) in BOOLEAN\n",
       "\tP(_a) : _a in BOOLEAN, x : [not](FALSE), y : TRUE\n",
       "4\tconjecture\t\t|- FALSE in BOOLEAN\n",
       "\tproveit.logic.booleans.false_is_bool\n",
       "5\taxiom\t\t|- [not](TRUE) = FALSE\n",
       "\tproveit.logic.booleans.negation.not_t\n",
       "6\ttheorem\t\t|- forall_{P, x, y | P(y), x = y} P(x)\n",
       "\tproveit.logic.equality.sub_left_side_into\n",
       "7\tconjecture\t\t|- TRUE in BOOLEAN\n",
       "\tproveit.logic.booleans.true_is_bool\n",
       "8\taxiom\t\t|- [not](FALSE) = TRUE\n",
       "\tproveit.logic.booleans.negation.not_f"
      ]
     },
     "execution_count": 9,
     "metadata": {},
     "output_type": "execute_result"
    }
   ],
   "source": [
    "%qed"
   ]
  },
  {
   "cell_type": "code",
   "execution_count": null,
   "metadata": {},
   "outputs": [],
   "source": []
  }
 ],
 "metadata": {
  "kernelspec": {
   "display_name": "Python 3",
   "language": "python",
   "name": "python3"
  }
 },
 "nbformat": 4,
 "nbformat_minor": 0
}