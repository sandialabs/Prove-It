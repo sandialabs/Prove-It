{
 "cells": [
  {
   "cell_type": "markdown",
   "metadata": {},
   "source": [
    "Proof of <a class=\"ProveItLink\" href=\"../../../../../../_theory_nbs_/theory.ipynb\">proveit</a>.<a class=\"ProveItLink\" href=\"../../../../../_theory_nbs_/theory.ipynb\">logic</a>.<a class=\"ProveItLink\" href=\"../../../../_theory_nbs_/theory.ipynb\">booleans</a>.<a class=\"ProveItLink\" href=\"../../theory.ipynb\">negation</a>.<a class=\"ProveItLink\" href=\"../../theorems.ipynb#double_negation_elim\">double_negation_elim</a> theorem\n",
    "========"
   ]
  },
  {
   "cell_type": "code",
   "execution_count": 1,
   "metadata": {},
   "outputs": [],
   "source": [
    "import proveit\n",
    "theory = proveit.Theory() # the theorem's theory\n",
    "from proveit import defaults\n",
    "from proveit import A\n",
    "from proveit.logic import in_bool, Not\n",
    "from proveit.logic.booleans.negation  import not_t, not_f\n",
    "from proveit.logic.booleans.negation import double_negation_elim_lemma"
   ]
  },
  {
   "cell_type": "code",
   "execution_count": 2,
   "metadata": {},
   "outputs": [
    {
     "data": {
      "text/html": [
       "With these <a href=\"allowed_presumptions.txt\">allowed</a>/<a href=\"disallowed_presumptions.txt\">disallowed</a> theorem/theory presumptions (e.g., to avoid circular dependencies), we begin our proof of<br><strong id=\"double_negation_elim\">double_negation_elim:</strong> <a class=\"ProveItLink\" href=\"../../../__pv_it/theorems/c58ab01291b83ab048af8589a95d4fdb85aa794e0/expr.ipynb\"><img src=\"data:image/png;base64,iVBORw0KGgoAAAANSUhEUgAAAHEAAAAWBAMAAAAFoW4BAAAAMFBMVEX///8AAAAAAAAAAAAAAAAA\n",
       "AAAAAAAAAAAAAAAAAAAAAAAAAAAAAAAAAAAAAAAAAAAv3aB7AAAAD3RSTlMAq1RmmUTNIjK7EInv\n",
       "3XZ/CtNrAAAACXBIWXMAAA7EAAAOxAGVKw4bAAABcElEQVQ4y2NgIAuUAbEAiKFMqs58IHYFMdJJ\n",
       "1Mj0H0g0AjH7BBJ1ssgXMDCwLWBg4FYgUef2/Q0MDMwGQN0kamR/8B5k19m7d0+T6lgGfaB9DB4M\n",
       "DLPA/AVQUaSAKIAzgZIP4Jwghv4NQKqQgR0cM1wnwKKcSDpN4SyQJMJMB4Z6kBbOBdwBIC73J3Sd\n",
       "XAJwJkiSdQOUwzfFRR4UG0wPIAEUcQ5dJ0sAnAmWzIJy1jEw8F8AMRLswPwHieg6eRFMsOQmuGMZ\n",
       "eA+AGJvAZvExuKHrLIOzIJIqEA4rKB4/gFg1YO9EMLxB6OSeOXPmXIZIBoadQMYFmGQkRGcNSNV3\n",
       "EIuxAUR675ZfgGInI4MihCEAk+wEc1f+z2Jgmv9tA8I9DPUNaDo7YTqhkipYk0UwMLwUUHSywELI\n",
       "ASb5Dmt6OsjA5Z+KFkKcBaiS0/GnSSSd8KiHJowJROtkcEd1VwHxOrkXMGBNxTjyHjJnAU4OAwMA\n",
       "y0xKroovtdwAAAAASUVORK5CYII=\n",
       "\" style=\"display:inline;vertical-align:middle;\" /></a><br>(see <a class=\"ProveItLink\" href=\"../../../__pv_it/theorems/fd52e4b2b5b48580c1af431cf5da1a6839bb9b7c0/dependencies.ipynb\">dependencies</a>)<br>"
      ],
      "text/plain": [
       "<IPython.core.display.HTML object>"
      ]
     },
     "metadata": {},
     "output_type": "display_data"
    }
   ],
   "source": [
    "%proving double_negation_elim"
   ]
  },
  {
   "cell_type": "code",
   "execution_count": 3,
   "metadata": {},
   "outputs": [
    {
     "data": {
      "text/html": [
       "<strong id=\"defaults.assumptions\">defaults.assumptions:</strong> <a class=\"ProveItLink\" href=\"../../../__pv_it/_proof_double_negation_elim/ff2ea3dcc4b909567e5e34e48bdd1286d6081cb50/expr.ipynb\"><img src=\"data:image/png;base64,iVBORw0KGgoAAAANSUhEUgAAAEgAAAAVBAMAAAAX07VdAAAAMFBMVEX///8AAAAAAAAAAAAAAAAA\n",
       "AAAAAAAAAAAAAAAAAAAAAAAAAAAAAAAAAAAAAAAAAAAv3aB7AAAAD3RSTlMAInZUiRDNmWbv3US7\n",
       "qzJazP2FAAAACXBIWXMAAA7EAAAOxAGVKw4bAAABH0lEQVQoz2NgYBBggAMkJhgwQjEDkwFcDIkJ\n",
       "BGIMDNwKEMxgghA2QTEmH4g1IJg1AS6KxAQC5v9Agi0AjNkb4MJITBDvPtCFHAVgzIkQ5kSxzdH/\n",
       "AZCcCsZmCGEzFI8p6IO8kQHGJQjxEhTbGOxBtvuCcQZCPANZ0WaG9w5Aqg2MFwM1rQKBAmQmA0MB\n",
       "g/wFIGUJxrNhbriAzGRgOl5+/wCQ/R6McSgKYmDgXwBk7wTjxQgZJCbQNgauCUC2FRgfgskUIDO5\n",
       "gT5j+wBk94CxL8JDSExJIOb5CA2WEoZXCBkEM+Z/KgPz+W/AMFjNAMJcD+BSSEx4uC8AY1AUQgES\n",
       "EznOQfggQugghiIZKI5BCMVgKDoIxYwKSDGPpoZJAIwBwehF2ty+PqEAAAAASUVORK5CYII=\n",
       "\" style=\"display:inline;vertical-align:middle;\" /></a><br>"
      ],
      "text/plain": [
       "<IPython.core.display.HTML object>"
      ]
     },
     "metadata": {},
     "output_type": "display_data"
    }
   ],
   "source": [
    "defaults.assumptions = double_negation_elim.conditions"
   ]
  },
  {
   "cell_type": "code",
   "execution_count": 4,
   "metadata": {},
   "outputs": [
    {
     "data": {
      "text/html": [
       "<span style=\"font-size:20px;\"> <a class=\"ProveItLink\" href=\"../double_negation_elim_lemma/thm_proof.ipynb\" style=\"text-decoration: none\">&nbsp;&#x22A2;&nbsp;&nbsp;</a><a class=\"ProveItLink\" href=\"../../../__pv_it/theorems/a427462f8899f8227e2e33f72f4eda719ef6d48c0/expr.ipynb\"><img src=\"data:image/png;base64,iVBORw0KGgoAAAANSUhEUgAAAIcAAAAWBAMAAAAY85LfAAAAMFBMVEX///8AAAAAAAAAAAAAAAAA\n",
       "AAAAAAAAAAAAAAAAAAAAAAAAAAAAAAAAAAAAAAAAAAAv3aB7AAAAD3RSTlMAq1RmmUTNIjK7EInv\n",
       "3XZ/CtNrAAAACXBIWXMAAA7EAAAOxAGVKw4bAAABy0lEQVQ4y6WTO0jDUBSG/6atbRNauzq14uKm\n",
       "i6t08AUOFl0UFwVFbEGjQkEQWsHFRUXsEEEMbi4SXKQ6qJvggw6uhYC4CYqDjnrPTZvHRaSkgZv8\n",
       "J/nz5ZyTc4FWjwJbSRJdLUCW2RokseCfIf2w0yZbkT3/kFBKBdp0QEn7h1xcl4BgLwP5Z0TMd8rg\n",
       "sVa7b6Ea9LAsMAIc8lgXDRl3/1Rb6kg498exa7DLCiL8N8t3dXt+7tnqkbvdfbYiX8b1oSK9HdOV\n",
       "LIXKJzvtdJRhGqvdIkRO2pJ8040gcTCQIptkWn2dfGIVstoYRDkRIaGsLcnX1ij9DGivkpjp57E5\n",
       "C7xwYaxdipC4I8lnzwSrK35D4jzHE8MQZP6aOfBQEiEFW5EPUr0pYZqPD1IbvN5JvPF7lMnWqwNR\n",
       "NE07whRQYaJq+RCu8zeop9+kAvy7o1cpPbioafvUE8WbSQCdlkhaPkStR6c/OUjHX4aTJYqlqGFl\n",
       "oiREyHYDwn12OcIxwdqctqaOQXa8kFCjsZm6L2H+Ob23kMfmsc4qk5byWq/Y2Jjq8cXUf3aCXNHK\n",
       "TuSChA2P77T5zeUe+2HPk2F/EMW9PYPZ5iGewt0QWTD+ArHPb9ovIPSGAAAAAElFTkSuQmCC\n",
       "\" style=\"display:inline;vertical-align:middle;\" /></a></span>"
      ],
      "text/plain": [
       "|- forall_{A in BOOLEAN | [not]([not](A))} A"
      ]
     },
     "metadata": {},
     "output_type": "display_data"
    }
   ],
   "source": [
    "double_negation_elim_lemma"
   ]
  },
  {
   "cell_type": "code",
   "execution_count": 5,
   "metadata": {},
   "outputs": [
    {
     "data": {
      "text/html": [
       "<span style=\"font-size:20px;\"><a class=\"ProveItLink\" href=\"../../../__pv_it/theorems/8ef12b95cfe752515f471cf6fa68ec6d049458490/expr.ipynb\"><img src=\"data:image/png;base64,iVBORw0KGgoAAAANSUhEUgAAADkAAAAVBAMAAAAOWFv7AAAAMFBMVEX///8AAAAAAAAAAAAAAAAA\n",
       "AAAAAAAAAAAAAAAAAAAAAAAAAAAAAAAAAAAAAAAAAAAv3aB7AAAAD3RSTlMAmd0iq3ZUiRDNZu9E\n",
       "uzLWhN+VAAAACXBIWXMAAA7EAAAOxAGVKw4bAAAA9ElEQVQoz2NggAFmBjRggMwJQ+YwT2BgOIrE\n",
       "ZytAluX8wMDAugDB70QxNR8oyzADwZdCkRX5DCQWIvgbkCXZzf8BSe4GuLUTkGVNWb+BLIdbzIji\n",
       "KAG2XyATHOCORHIgA08C33cgxTWBQUgJCBQZmBIYYEygQQzMX0C2Qd1iwsB9gAHGZGCIFRT5C6T4\n",
       "PmCT5QhgYPgEsgCuF2QyTJYRSGmDTFaACBky8AYwwJgMp4DUfJCrLsD974CIAZCB9w2QfcmnAGNx\n",
       "3P/ZwJD7fzoDA9MBuA49BgxghGAuxJRFihheA3RJ5gsINscFdFkU9abossEMDADECiu8DBGmvQAA\n",
       "AABJRU5ErkJggg==\n",
       "\" style=\"display:inline;vertical-align:middle;\" /></a> <a class=\"ProveItLink\" href=\"../../../__pv_it/_proof_double_negation_elim/ef76aa0376e992ec956f039477aafdd9d5e782810/proof.ipynb\" style=\"text-decoration: none\">&nbsp;&#x22A2;&nbsp;&nbsp;</a><a class=\"ProveItLink\" href=\"../../../../../../__pv_it/common/09585084922504426caf1db2ff588a23a0932a960/expr.ipynb\"><img src=\"data:image/png;base64,iVBORw0KGgoAAAANSUhEUgAAAA8AAAAPBAMAAADJ+Ih5AAAAMFBMVEX///8AAAAAAAAAAAAAAAAA\n",
       "AAAAAAAAAAAAAAAAAAAAAAAAAAAAAAAAAAAAAAAAAAAv3aB7AAAAD3RSTlMAIs1UmauJMnZmRLsQ\n",
       "3e++988cAAAACXBIWXMAAA7EAAAOxAGVKw4bAAAAXklEQVQI12NgAAEhBijQh9LM/6EMlngBCCMx\n",
       "vwBMMzb0G0BkGOwngBmLGeoTwAwHBvkAEM2xxSV+A4hxgoGB/wJEhoH3AZDmAupg+gBkyAEx90cG\n",
       "htP/dRiY939KAABt3hLO6mcEjQAAAABJRU5ErkJggg==\n",
       "\" style=\"display:inline;vertical-align:middle;\" /></a></span>"
      ],
      "text/plain": [
       "{[not]([not](A))} |- A"
      ]
     },
     "metadata": {},
     "output_type": "display_data"
    },
    {
     "name": "stdout",
     "output_type": "stream",
     "text": [
      "double_negation_elim may now be readily provable (assuming required theorems are usable).  Simply execute \"%qed\".\n"
     ]
    }
   ],
   "source": [
    "double_negation_elim_lemma.instantiate({A:A})"
   ]
  },
  {
   "cell_type": "code",
   "execution_count": 6,
   "metadata": {},
   "outputs": [
    {
     "name": "stdout",
     "output_type": "stream",
     "text": [
      "proveit.logic.booleans.negation.double_negation_elim has been proven.\n"
     ]
    },
    {
     "data": {
      "text/html": [
       "<table><tr><th>&nbsp;</th><th>step type</th><th>requirements</th><th>statement</th></tr>\n",
       "<tr><td><a name=\"-0x307229536769eb09_step0\">0</a></td><td>generalization</td><td><a href=\"#-0x307229536769eb09_step1\">1</a></td><td><span style=\"font-size:20px;\"> <a class=\"ProveItLink\" href=\"../../../__pv_it/_proof_double_negation_elim/4d673c83ab4a8ea2e20e51319f8fc8fdc2821a810/proof.ipynb\" style=\"text-decoration: none\">&nbsp;&#x22A2;&nbsp;&nbsp;</a><a class=\"ProveItLink\" href=\"../../../__pv_it/theorems/c58ab01291b83ab048af8589a95d4fdb85aa794e0/expr.ipynb\"><img src=\"data:image/png;base64,iVBORw0KGgoAAAANSUhEUgAAAHEAAAAWBAMAAAAFoW4BAAAAMFBMVEX///8AAAAAAAAAAAAAAAAA\n",
       "AAAAAAAAAAAAAAAAAAAAAAAAAAAAAAAAAAAAAAAAAAAv3aB7AAAAD3RSTlMAq1RmmUTNIjK7EInv\n",
       "3XZ/CtNrAAAACXBIWXMAAA7EAAAOxAGVKw4bAAABcElEQVQ4y2NgIAuUAbEAiKFMqs58IHYFMdJJ\n",
       "1Mj0H0g0AjH7BBJ1ssgXMDCwLWBg4FYgUef2/Q0MDMwGQN0kamR/8B5k19m7d0+T6lgGfaB9DB4M\n",
       "DLPA/AVQUaSAKIAzgZIP4Jwghv4NQKqQgR0cM1wnwKKcSDpN4SyQJMJMB4Z6kBbOBdwBIC73J3Sd\n",
       "XAJwJkiSdQOUwzfFRR4UG0wPIAEUcQ5dJ0sAnAmWzIJy1jEw8F8AMRLswPwHieg6eRFMsOQmuGMZ\n",
       "eA+AGJvAZvExuKHrLIOzIJIqEA4rKB4/gFg1YO9EMLxB6OSeOXPmXIZIBoadQMYFmGQkRGcNSNV3\n",
       "EIuxAUR675ZfgGInI4MihCEAk+wEc1f+z2Jgmv9tA8I9DPUNaDo7YTqhkipYk0UwMLwUUHSywELI\n",
       "ASb5Dmt6OsjA5Z+KFkKcBaiS0/GnSSSd8KiHJowJROtkcEd1VwHxOrkXMGBNxTjyHjJnAU4OAwMA\n",
       "y0xKroovtdwAAAAASUVORK5CYII=\n",
       "\" style=\"display:inline;vertical-align:middle;\" /></a></span></td></tr>\n",
       "<tr><td><a name=\"-0x307229536769eb09_step1\">1</a></td><td>instantiation</td><td><a href=\"#-0x307229536769eb09_step2\">2</a>, <a href=\"#-0x307229536769eb09_step3\">3</a>, <a href=\"#-0x307229536769eb09_step8\">8</a></td><td><span style=\"font-size:20px;\"><a class=\"ProveItLink\" href=\"../../../__pv_it/theorems/8ef12b95cfe752515f471cf6fa68ec6d049458490/expr.ipynb\"><img src=\"data:image/png;base64,iVBORw0KGgoAAAANSUhEUgAAADkAAAAVBAMAAAAOWFv7AAAAMFBMVEX///8AAAAAAAAAAAAAAAAA\n",
       "AAAAAAAAAAAAAAAAAAAAAAAAAAAAAAAAAAAAAAAAAAAv3aB7AAAAD3RSTlMAmd0iq3ZUiRDNZu9E\n",
       "uzLWhN+VAAAACXBIWXMAAA7EAAAOxAGVKw4bAAAA9ElEQVQoz2NggAFmBjRggMwJQ+YwT2BgOIrE\n",
       "ZytAluX8wMDAugDB70QxNR8oyzADwZdCkRX5DCQWIvgbkCXZzf8BSe4GuLUTkGVNWb+BLIdbzIji\n",
       "KAG2XyATHOCORHIgA08C33cgxTWBQUgJCBQZmBIYYEygQQzMX0C2Qd1iwsB9gAHGZGCIFRT5C6T4\n",
       "PmCT5QhgYPgEsgCuF2QyTJYRSGmDTFaACBky8AYwwJgMp4DUfJCrLsD974CIAZCB9w2QfcmnAGNx\n",
       "3P/ZwJD7fzoDA9MBuA49BgxghGAuxJRFihheA3RJ5gsINscFdFkU9abossEMDADECiu8DBGmvQAA\n",
       "AABJRU5ErkJggg==\n",
       "\" style=\"display:inline;vertical-align:middle;\" /></a> <a class=\"ProveItLink\" href=\"../../../__pv_it/_proof_double_negation_elim/ef76aa0376e992ec956f039477aafdd9d5e782810/proof.ipynb\" style=\"text-decoration: none\">&nbsp;&#x22A2;&nbsp;&nbsp;</a><a class=\"ProveItLink\" href=\"../../../../../../__pv_it/common/09585084922504426caf1db2ff588a23a0932a960/expr.ipynb\"><img src=\"data:image/png;base64,iVBORw0KGgoAAAANSUhEUgAAAA8AAAAPBAMAAADJ+Ih5AAAAMFBMVEX///8AAAAAAAAAAAAAAAAA\n",
       "AAAAAAAAAAAAAAAAAAAAAAAAAAAAAAAAAAAAAAAAAAAv3aB7AAAAD3RSTlMAIs1UmauJMnZmRLsQ\n",
       "3e++988cAAAACXBIWXMAAA7EAAAOxAGVKw4bAAAAXklEQVQI12NgAAEhBijQh9LM/6EMlngBCCMx\n",
       "vwBMMzb0G0BkGOwngBmLGeoTwAwHBvkAEM2xxSV+A4hxgoGB/wJEhoH3AZDmAupg+gBkyAEx90cG\n",
       "htP/dRiY939KAABt3hLO6mcEjQAAAABJRU5ErkJggg==\n",
       "\" style=\"display:inline;vertical-align:middle;\" /></a></span></td></tr>\n",
       "<tr><td>&nbsp;</td><td colspan=4 style=\"text-align:left\"><span style=\"font-size:20px;\"><a class=\"ProveItLink\" href=\"../../../../../../__pv_it/common/09585084922504426caf1db2ff588a23a0932a960/expr.ipynb\"><img src=\"data:image/png;base64,iVBORw0KGgoAAAANSUhEUgAAAA8AAAAPBAMAAADJ+Ih5AAAAMFBMVEX///8AAAAAAAAAAAAAAAAA\n",
       "AAAAAAAAAAAAAAAAAAAAAAAAAAAAAAAAAAAAAAAAAAAv3aB7AAAAD3RSTlMAIs1UmauJMnZmRLsQ\n",
       "3e++988cAAAACXBIWXMAAA7EAAAOxAGVKw4bAAAAXklEQVQI12NgAAEhBijQh9LM/6EMlngBCCMx\n",
       "vwBMMzb0G0BkGOwngBmLGeoTwAwHBvkAEM2xxSV+A4hxgoGB/wJEhoH3AZDmAupg+gBkyAEx90cG\n",
       "htP/dRiY939KAABt3hLO6mcEjQAAAABJRU5ErkJggg==\n",
       "\" style=\"display:inline;vertical-align:middle;\" /></a> : <a class=\"ProveItLink\" href=\"../../../../../../__pv_it/common/09585084922504426caf1db2ff588a23a0932a960/expr.ipynb\"><img src=\"data:image/png;base64,iVBORw0KGgoAAAANSUhEUgAAAA8AAAAPBAMAAADJ+Ih5AAAAMFBMVEX///8AAAAAAAAAAAAAAAAA\n",
       "AAAAAAAAAAAAAAAAAAAAAAAAAAAAAAAAAAAAAAAAAAAv3aB7AAAAD3RSTlMAIs1UmauJMnZmRLsQ\n",
       "3e++988cAAAACXBIWXMAAA7EAAAOxAGVKw4bAAAAXklEQVQI12NgAAEhBijQh9LM/6EMlngBCCMx\n",
       "vwBMMzb0G0BkGOwngBmLGeoTwAwHBvkAEM2xxSV+A4hxgoGB/wJEhoH3AZDmAupg+gBkyAEx90cG\n",
       "htP/dRiY939KAABt3hLO6mcEjQAAAABJRU5ErkJggg==\n",
       "\" style=\"display:inline;vertical-align:middle;\" /></a></span></td></tr><tr><td><a name=\"-0x307229536769eb09_step2\">2</a></td><td>conjecture</td><td></td><td><span style=\"font-size:20px;\"> <a class=\"ProveItLink\" href=\"../double_negation_elim_lemma/thm_proof.ipynb\" style=\"text-decoration: none\">&nbsp;&#x22A2;&nbsp;&nbsp;</a><a class=\"ProveItLink\" href=\"../../../__pv_it/theorems/a427462f8899f8227e2e33f72f4eda719ef6d48c0/expr.ipynb\"><img src=\"data:image/png;base64,iVBORw0KGgoAAAANSUhEUgAAAIcAAAAWBAMAAAAY85LfAAAAMFBMVEX///8AAAAAAAAAAAAAAAAA\n",
       "AAAAAAAAAAAAAAAAAAAAAAAAAAAAAAAAAAAAAAAAAAAv3aB7AAAAD3RSTlMAq1RmmUTNIjK7EInv\n",
       "3XZ/CtNrAAAACXBIWXMAAA7EAAAOxAGVKw4bAAABy0lEQVQ4y6WTO0jDUBSG/6atbRNauzq14uKm\n",
       "i6t08AUOFl0UFwVFbEGjQkEQWsHFRUXsEEEMbi4SXKQ6qJvggw6uhYC4CYqDjnrPTZvHRaSkgZv8\n",
       "J/nz5ZyTc4FWjwJbSRJdLUCW2RokseCfIf2w0yZbkT3/kFBKBdp0QEn7h1xcl4BgLwP5Z0TMd8rg\n",
       "sVa7b6Ea9LAsMAIc8lgXDRl3/1Rb6kg498exa7DLCiL8N8t3dXt+7tnqkbvdfbYiX8b1oSK9HdOV\n",
       "LIXKJzvtdJRhGqvdIkRO2pJ8040gcTCQIptkWn2dfGIVstoYRDkRIaGsLcnX1ij9DGivkpjp57E5\n",
       "C7xwYaxdipC4I8lnzwSrK35D4jzHE8MQZP6aOfBQEiEFW5EPUr0pYZqPD1IbvN5JvPF7lMnWqwNR\n",
       "NE07whRQYaJq+RCu8zeop9+kAvy7o1cpPbioafvUE8WbSQCdlkhaPkStR6c/OUjHX4aTJYqlqGFl\n",
       "oiREyHYDwn12OcIxwdqctqaOQXa8kFCjsZm6L2H+Ob23kMfmsc4qk5byWq/Y2Jjq8cXUf3aCXNHK\n",
       "TuSChA2P77T5zeUe+2HPk2F/EMW9PYPZ5iGewt0QWTD+ArHPb9ovIPSGAAAAAElFTkSuQmCC\n",
       "\" style=\"display:inline;vertical-align:middle;\" /></a></span></td></tr>\n",
       "<tr><td>&nbsp;</td><td colspan=4 style-\"text-align:left\"><a class=\"ProveItLink\" href=\"../double_negation_elim_lemma/thm_proof.ipynb\">proveit.logic.booleans.negation.double_negation_elim_lemma</a></td></tr><tr><td><a name=\"-0x307229536769eb09_step3\">3</a></td><td>instantiation</td><td><a href=\"#-0x307229536769eb09_step5\">5</a>, <a href=\"#-0x307229536769eb09_step4\">4</a></td><td><span style=\"font-size:20px;\"><a class=\"ProveItLink\" href=\"../../../__pv_it/theorems/8ef12b95cfe752515f471cf6fa68ec6d049458490/expr.ipynb\"><img src=\"data:image/png;base64,iVBORw0KGgoAAAANSUhEUgAAADkAAAAVBAMAAAAOWFv7AAAAMFBMVEX///8AAAAAAAAAAAAAAAAA\n",
       "AAAAAAAAAAAAAAAAAAAAAAAAAAAAAAAAAAAAAAAAAAAv3aB7AAAAD3RSTlMAmd0iq3ZUiRDNZu9E\n",
       "uzLWhN+VAAAACXBIWXMAAA7EAAAOxAGVKw4bAAAA9ElEQVQoz2NggAFmBjRggMwJQ+YwT2BgOIrE\n",
       "ZytAluX8wMDAugDB70QxNR8oyzADwZdCkRX5DCQWIvgbkCXZzf8BSe4GuLUTkGVNWb+BLIdbzIji\n",
       "KAG2XyATHOCORHIgA08C33cgxTWBQUgJCBQZmBIYYEygQQzMX0C2Qd1iwsB9gAHGZGCIFRT5C6T4\n",
       "PmCT5QhgYPgEsgCuF2QyTJYRSGmDTFaACBky8AYwwJgMp4DUfJCrLsD974CIAZCB9w2QfcmnAGNx\n",
       "3P/ZwJD7fzoDA9MBuA49BgxghGAuxJRFihheA3RJ5gsINscFdFkU9abossEMDADECiu8DBGmvQAA\n",
       "AABJRU5ErkJggg==\n",
       "\" style=\"display:inline;vertical-align:middle;\" /></a> <a class=\"ProveItLink\" href=\"../../../__pv_it/_proof_double_negation_elim/9e315f21c3423f8aadbcbddcd27845e7dc400a5e0/proof.ipynb\" style=\"text-decoration: none\">&nbsp;&#x22A2;&nbsp;&nbsp;</a><a class=\"ProveItLink\" href=\"../../../../__pv_it/theorems/a10dbfd9a4efbb6f30af430036ab01697a9460f80/expr.ipynb\"><img src=\"data:image/png;base64,iVBORw0KGgoAAAANSUhEUgAAADYAAAAQBAMAAACvnpHFAAAAMFBMVEX///8AAAAAAAAAAAAAAAAA\n",
       "AAAAAAAAAAAAAAAAAAAAAAAAAAAAAAAAAAAAAAAAAAAv3aB7AAAAD3RSTlMAIs1UmauJMnZmRLsQ\n",
       "3e++988cAAAACXBIWXMAAA7EAAAOxAGVKw4bAAAA40lEQVQY02NgAAEhBhTAcW/Tp7dRUI4+qhwD\n",
       "N1eD0NEFYCbzfwy5CWwCG8BMlngBDDlOgwAwMzG/AGrR3ruX4HIKIBZjQ78BWIpL4wBcH6tkAthI\n",
       "BvsJEOcegJvZ0xsGZi1mqAerYVBE2Hfp/RWwQgcGeYi9Ckhu4ZilA3LAFpd4sHvZ3969e/c2VI5h\n",
       "wzIg4wQDA/8FkAjPBiR9DBu4wUYy8D4AC11AkWMCOhzoRqYPYKEOFDkLBgY5EPsjWIjJAC6XwNbm\n",
       "wHD6vw4D8/5PYE/wRK+BBI/ebkQ8wABXNiTMIAAAYXA8zHUEOxUAAAAASUVORK5CYII=\n",
       "\" style=\"display:inline;vertical-align:middle;\" /></a></span></td></tr>\n",
       "<tr><td>&nbsp;</td><td colspan=4 style=\"text-align:left\"><span style=\"font-size:20px;\"><a class=\"ProveItLink\" href=\"../../../../../../__pv_it/common/09585084922504426caf1db2ff588a23a0932a960/expr.ipynb\"><img src=\"data:image/png;base64,iVBORw0KGgoAAAANSUhEUgAAAA8AAAAPBAMAAADJ+Ih5AAAAMFBMVEX///8AAAAAAAAAAAAAAAAA\n",
       "AAAAAAAAAAAAAAAAAAAAAAAAAAAAAAAAAAAAAAAAAAAv3aB7AAAAD3RSTlMAIs1UmauJMnZmRLsQ\n",
       "3e++988cAAAACXBIWXMAAA7EAAAOxAGVKw4bAAAAXklEQVQI12NgAAEhBijQh9LM/6EMlngBCCMx\n",
       "vwBMMzb0G0BkGOwngBmLGeoTwAwHBvkAEM2xxSV+A4hxgoGB/wJEhoH3AZDmAupg+gBkyAEx90cG\n",
       "htP/dRiY939KAABt3hLO6mcEjQAAAABJRU5ErkJggg==\n",
       "\" style=\"display:inline;vertical-align:middle;\" /></a> : <a class=\"ProveItLink\" href=\"../../../../../../__pv_it/common/09585084922504426caf1db2ff588a23a0932a960/expr.ipynb\"><img src=\"data:image/png;base64,iVBORw0KGgoAAAANSUhEUgAAAA8AAAAPBAMAAADJ+Ih5AAAAMFBMVEX///8AAAAAAAAAAAAAAAAA\n",
       "AAAAAAAAAAAAAAAAAAAAAAAAAAAAAAAAAAAAAAAAAAAv3aB7AAAAD3RSTlMAIs1UmauJMnZmRLsQ\n",
       "3e++988cAAAACXBIWXMAAA7EAAAOxAGVKw4bAAAAXklEQVQI12NgAAEhBijQh9LM/6EMlngBCCMx\n",
       "vwBMMzb0G0BkGOwngBmLGeoTwAwHBvkAEM2xxSV+A4hxgoGB/wJEhoH3AZDmAupg+gBkyAEx90cG\n",
       "htP/dRiY939KAABt3hLO6mcEjQAAAABJRU5ErkJggg==\n",
       "\" style=\"display:inline;vertical-align:middle;\" /></a></span></td></tr><tr><td><a name=\"-0x307229536769eb09_step4\">4</a></td><td>instantiation</td><td><a href=\"#-0x307229536769eb09_step5\">5</a>, <a href=\"#-0x307229536769eb09_step6\">6</a></td><td><span style=\"font-size:20px;\"><a class=\"ProveItLink\" href=\"../../../__pv_it/theorems/8ef12b95cfe752515f471cf6fa68ec6d049458490/expr.ipynb\"><img src=\"data:image/png;base64,iVBORw0KGgoAAAANSUhEUgAAADkAAAAVBAMAAAAOWFv7AAAAMFBMVEX///8AAAAAAAAAAAAAAAAA\n",
       "AAAAAAAAAAAAAAAAAAAAAAAAAAAAAAAAAAAAAAAAAAAv3aB7AAAAD3RSTlMAmd0iq3ZUiRDNZu9E\n",
       "uzLWhN+VAAAACXBIWXMAAA7EAAAOxAGVKw4bAAAA9ElEQVQoz2NggAFmBjRggMwJQ+YwT2BgOIrE\n",
       "ZytAluX8wMDAugDB70QxNR8oyzADwZdCkRX5DCQWIvgbkCXZzf8BSe4GuLUTkGVNWb+BLIdbzIji\n",
       "KAG2XyATHOCORHIgA08C33cgxTWBQUgJCBQZmBIYYEygQQzMX0C2Qd1iwsB9gAHGZGCIFRT5C6T4\n",
       "PmCT5QhgYPgEsgCuF2QyTJYRSGmDTFaACBky8AYwwJgMp4DUfJCrLsD974CIAZCB9w2QfcmnAGNx\n",
       "3P/ZwJD7fzoDA9MBuA49BgxghGAuxJRFihheA3RJ5gsINscFdFkU9abossEMDADECiu8DBGmvQAA\n",
       "AABJRU5ErkJggg==\n",
       "\" style=\"display:inline;vertical-align:middle;\" /></a> <a class=\"ProveItLink\" href=\"../../../__pv_it/_proof_double_negation_elim/eb94fb12d0c447b1365cdc99b7fe68797b0fa9e80/proof.ipynb\" style=\"text-decoration: none\">&nbsp;&#x22A2;&nbsp;&nbsp;</a><a class=\"ProveItLink\" href=\"../../../__pv_it/axioms/17c0164fb2929846c093a14e1eac9efc4bc02ac00/expr.ipynb\"><img src=\"data:image/png;base64,iVBORw0KGgoAAAANSUhEUgAAAFIAAAAVBAMAAAAnX6R8AAAAMFBMVEX///8AAAAAAAAAAAAAAAAA\n",
       "AAAAAAAAAAAAAAAAAAAAAAAAAAAAAAAAAAAAAAAAAAAv3aB7AAAAD3RSTlMAInZUiRDNmWbv3US7\n",
       "qzJazP2FAAAACXBIWXMAAA7EAAAOxAGVKw4bAAABZUlEQVQoz2NgYBBgQAWMDDgAkwEyT4yBgVsB\n",
       "TcHKY99m3QYyTFCE84FYA80sHm4FsdgNDKwJyILM/4EEWwC6ygYWgQMM7A3Iguz3ga7mKMBQyWFw\n",
       "gYETRdDR/wGQnAp14KlVy+AqExjMULytoA/yXwaYw50UADeTV8KBoQTFcgZ7kGN8IcEQALddVesK\n",
       "TD8UbGZ47wCk2sCcRIQ7l81fHsCwGGjSKhAAeaOAQf4CkLIEK0hA8hFTdyrDbJgTgUqYjpffPwBk\n",
       "vwcJ8M0Cal8DVclwYAuKyiAGBv4FQPZOkADrASQzGQ7wgGyHqwQ6gGsCkG0FFlmAopKN4RBMZQED\n",
       "UICB7QOQ3QMWUUJRaQQNETCQBIl+BBKQkGMzgKt0YFEpYHgFVxjzP5WB+fw3YDCtBvNZ72yFRFXm\n",
       "GXBa4nqAkQ4ZoS7k9oHEJhSgJwdQTDVgT8kHMURkcKT5GCL0wtIPenYRwKoOAJf2U36yjIxPAAAA\n",
       "AElFTkSuQmCC\n",
       "\" style=\"display:inline;vertical-align:middle;\" /></a></span></td></tr>\n",
       "<tr><td>&nbsp;</td><td colspan=4 style=\"text-align:left\"><span style=\"font-size:20px;\"><a class=\"ProveItLink\" href=\"../../../../../../__pv_it/common/09585084922504426caf1db2ff588a23a0932a960/expr.ipynb\"><img src=\"data:image/png;base64,iVBORw0KGgoAAAANSUhEUgAAAA8AAAAPBAMAAADJ+Ih5AAAAMFBMVEX///8AAAAAAAAAAAAAAAAA\n",
       "AAAAAAAAAAAAAAAAAAAAAAAAAAAAAAAAAAAAAAAAAAAv3aB7AAAAD3RSTlMAIs1UmauJMnZmRLsQ\n",
       "3e++988cAAAACXBIWXMAAA7EAAAOxAGVKw4bAAAAXklEQVQI12NgAAEhBijQh9LM/6EMlngBCCMx\n",
       "vwBMMzb0G0BkGOwngBmLGeoTwAwHBvkAEM2xxSV+A4hxgoGB/wJEhoH3AZDmAupg+gBkyAEx90cG\n",
       "htP/dRiY939KAABt3hLO6mcEjQAAAABJRU5ErkJggg==\n",
       "\" style=\"display:inline;vertical-align:middle;\" /></a> : <a class=\"ProveItLink\" href=\"../../../../__pv_it/theorems/c6244e76de3be0816f3efc36199d65e50f6589940/expr.ipynb\"><img src=\"data:image/png;base64,iVBORw0KGgoAAAANSUhEUgAAABwAAAAPBAMAAAAFYbKSAAAAMFBMVEX///8AAAAAAAAAAAAAAAAA\n",
       "AAAAAAAAAAAAAAAAAAAAAAAAAAAAAAAAAAAAAAAAAAAv3aB7AAAAD3RSTlMAmd0iq81UiTJ2ZkS7\n",
       "EO8Z3gX6AAAACXBIWXMAAA7EAAAOxAGVKw4bAAAAaUlEQVQI12NgQADmAAZkwPoBhZuPyhX5jMxj\n",
       "N/+BzLXk/IbMFWD7hcTjTuD4zsAgpAQEikAuIwPzF6iMCRDPERT5g+DyTmBg+ITgMgIpPSjXkIFh\n",
       "F5CKRzj/AZA4bwDl8Z7/eoEh5384AEaRFfDwb8v9AAAAAElFTkSuQmCC\n",
       "\" style=\"display:inline;vertical-align:middle;\" /></a></span></td></tr><tr><td><a name=\"-0x307229536769eb09_step5\">5</a></td><td>axiom</td><td></td><td><span style=\"font-size:20px;\"> <a class=\"ProveItLink\" href=\"../../axioms.ipynb#operand_is_bool\" style=\"text-decoration: none\">&nbsp;&#x22A2;&nbsp;&nbsp;</a><a class=\"ProveItLink\" href=\"../../../__pv_it/axioms/9b3df63ea9b96f801a3dadc45f3be22470f1b8ac0/expr.ipynb\"><img src=\"data:image/png;base64,iVBORw0KGgoAAAANSUhEUgAAALUAAAAXBAMAAAC/qRN/AAAAMFBMVEX///8AAAAAAAAAAAAAAAAA\n",
       "AAAAAAAAAAAAAAAAAAAAAAAAAAAAAAAAAAAAAAAAAAAv3aB7AAAAD3RSTlMAq1RmmUTNIjK7EInv\n",
       "3XZ/CtNrAAAACXBIWXMAAA7EAAAOxAGVKw4bAAACq0lEQVRIx62VTYjTQBiG302bpm222V48iIdG\n",
       "BS+C9uB6EaTo6grrT9DLqiArIkIRrQg9KVuPImJAUSOo8bgIEj2o1YP1ICzIahFZECzEi4K/i4f1\n",
       "uH4zk9/tjxCcQybzJvNkvvf7ZgIkb7XED//ZNJ139WXqx+uLcyuAI3RfZMLaJOz1oju9TM7Jbv2e\n",
       "Aa0M7GDjEwnQ+SneSUtd7LJaM4EqcIGGipmAnS6LrlTrYqd0cmMTkLEBVU/AHhbdkxcNz+jbnfmA\n",
       "TTEN20jR5zNJ7F7Hr4r7SyxMPmUH6x466xCUwHOdzusk7AlhCTYKb+p24MnXH6uoV8mXXcAtLtre\n",
       "yyJFoYs2tF7sY/y6H1ccxMohJ8+/fU+sFPlyBgqvw/yseCTeGA3rgfSK78PjPdt8/R2/VjDNZ2Mq\n",
       "kkttlIpEatG9rRpMU39H2PliwGb6YeqznyxDU5U1Xurwiifw2liJF1mWrO188NgwaUJ2gfiuSOXk\n",
       "mwg7bQRsprNiGiOopuKZHmU/AEbafDFmZN0wiSK3WDRbueYejbALoa9MpyJl+4zYyhY76gmZVWjx\n",
       "YTvGpuVKTHlU5dFhZ4QdHhJclyqY4YP07ln/wR1WeKyAF/jwZ4y9gXLJIjnHvZ3E9wj7INC0LKvt\n",
       "6bKJA5ytZvf6bj1kU9mEP3yY0QO2o36jeNKsfoZ4diael+yQvVq8V/T0rInN9Cmd/HYcj3EZmFmq\n",
       "Qrq7yJX8ykMizpMWPwdRMMLQMd0I2Rd9ttDJk0ti3XBcb0ahEa93uSn2vN/OB3cU8ojelcuKp2su\n",
       "lapgP/XZqcrgfbs9ONReIr/veMjO1WI6DZWbbO98bl4NJt8YiO51tgq27MREViT3LcvoEvu3XK0f\n",
       "G+MxcbznytxB7C/oy1btiJYy8F+aEpx+kd9XMtRftIWaMXw2otwAAAAASUVORK5CYII=\n",
       "\" style=\"display:inline;vertical-align:middle;\" /></a></span></td></tr>\n",
       "<tr><td>&nbsp;</td><td colspan=4 style-\"text-align:left\"><a class=\"ProveItLink\" href=\"../../axioms.ipynb#operand_is_bool\">proveit.logic.booleans.negation.operand_is_bool</a></td></tr><tr><td><a name=\"-0x307229536769eb09_step6\">6</a></td><td>instantiation</td><td><a href=\"#-0x307229536769eb09_step7\">7</a>, <a href=\"#-0x307229536769eb09_step8\">8</a></td><td><span style=\"font-size:20px;\"><a class=\"ProveItLink\" href=\"../../../__pv_it/theorems/8ef12b95cfe752515f471cf6fa68ec6d049458490/expr.ipynb\"><img src=\"data:image/png;base64,iVBORw0KGgoAAAANSUhEUgAAADkAAAAVBAMAAAAOWFv7AAAAMFBMVEX///8AAAAAAAAAAAAAAAAA\n",
       "AAAAAAAAAAAAAAAAAAAAAAAAAAAAAAAAAAAAAAAAAAAv3aB7AAAAD3RSTlMAmd0iq3ZUiRDNZu9E\n",
       "uzLWhN+VAAAACXBIWXMAAA7EAAAOxAGVKw4bAAAA9ElEQVQoz2NggAFmBjRggMwJQ+YwT2BgOIrE\n",
       "ZytAluX8wMDAugDB70QxNR8oyzADwZdCkRX5DCQWIvgbkCXZzf8BSe4GuLUTkGVNWb+BLIdbzIji\n",
       "KAG2XyATHOCORHIgA08C33cgxTWBQUgJCBQZmBIYYEygQQzMX0C2Qd1iwsB9gAHGZGCIFRT5C6T4\n",
       "PmCT5QhgYPgEsgCuF2QyTJYRSGmDTFaACBky8AYwwJgMp4DUfJCrLsD974CIAZCB9w2QfcmnAGNx\n",
       "3P/ZwJD7fzoDA9MBuA49BgxghGAuxJRFihheA3RJ5gsINscFdFkU9abossEMDADECiu8DBGmvQAA\n",
       "AABJRU5ErkJggg==\n",
       "\" style=\"display:inline;vertical-align:middle;\" /></a> <a class=\"ProveItLink\" href=\"../../../__pv_it/_proof_double_negation_elim/4ac79de83e82921f2e5aa84db6be394151b8f0e70/proof.ipynb\" style=\"text-decoration: none\">&nbsp;&#x22A2;&nbsp;&nbsp;</a><a class=\"ProveItLink\" href=\"../../../__pv_it/_proof_double_negation_elim/022b42c6db72da5feb30e64a42087a95845d0ff80/expr.ipynb\"><img src=\"data:image/png;base64,iVBORw0KGgoAAAANSUhEUgAAAHAAAAAVBAMAAABs93eRAAAAMFBMVEX///8AAAAAAAAAAAAAAAAA\n",
       "AAAAAAAAAAAAAAAAAAAAAAAAAAAAAAAAAAAAAAAAAAAv3aB7AAAAD3RSTlMAInZUiRDNmWbv3US7\n",
       "qzJazP2FAAAACXBIWXMAAA7EAAAOxAGVKw4bAAABpklEQVQ4y3VTO0gDQRB9+ZqfmiooCAZREBuD\n",
       "hIA2xl4xWEeIQiBWXhGwTWWjhY2NFgaEiNFCUAu7i4WCCKawU0hqm2iTNs7dTvZ2w+XBu3u3N29v\n",
       "ZnYOQBwSirThYbrCm3KThAQQTQpq8dcv3bMvEmlnLa1F7BPnmSpi0WRi+w6BglxRJMHXo0swJ6gb\n",
       "K/64iZGKXFGk9dSiikOG4IAxlGoi7KyEtfdrm226njKt4t7qNWksIOOEZrSGJhetVpWY1KTdnPzi\n",
       "6EQWZSe2rGWKVSvzDSY1OSdTnVv47G9no6Qa79HJ0u2QCew4NdYurnK4pM3rFgxVAgamm3RbZgIF\n",
       "pTneoyLO+zU1VQnv60HLJN1hYuyMdrxlI8yHYcYtYLxK+omJgKl8EWbMyq8frUjKFJET0itMoKoZ\n",
       "g3juRxuqpHcI/pI+ZgIzmnGJe21DkZNWwB8fkTimYEoas/5ZAz9OtCPzvSJ8H106jxsIUpHfj2KA\n",
       "9t7tvyPSluGKlPNTFbRHZ12MHEMZ4cFp5rnXZ99Bw1UypphuyLtKZavGEKMn6Sb5T4oLuuAfODds\n",
       "jKOIRZQAAAAASUVORK5CYII=\n",
       "\" style=\"display:inline;vertical-align:middle;\" /></a></span></td></tr>\n",
       "<tr><td>&nbsp;</td><td colspan=4 style=\"text-align:left\"><span style=\"font-size:20px;\"><a class=\"ProveItLink\" href=\"../../../../../../__pv_it/common/09585084922504426caf1db2ff588a23a0932a960/expr.ipynb\"><img src=\"data:image/png;base64,iVBORw0KGgoAAAANSUhEUgAAAA8AAAAPBAMAAADJ+Ih5AAAAMFBMVEX///8AAAAAAAAAAAAAAAAA\n",
       "AAAAAAAAAAAAAAAAAAAAAAAAAAAAAAAAAAAAAAAAAAAv3aB7AAAAD3RSTlMAIs1UmauJMnZmRLsQ\n",
       "3e++988cAAAACXBIWXMAAA7EAAAOxAGVKw4bAAAAXklEQVQI12NgAAEhBijQh9LM/6EMlngBCCMx\n",
       "vwBMMzb0G0BkGOwngBmLGeoTwAwHBvkAEM2xxSV+A4hxgoGB/wJEhoH3AZDmAupg+gBkyAEx90cG\n",
       "htP/dRiY939KAABt3hLO6mcEjQAAAABJRU5ErkJggg==\n",
       "\" style=\"display:inline;vertical-align:middle;\" /></a> : <a class=\"ProveItLink\" href=\"../../../__pv_it/theorems/8ef12b95cfe752515f471cf6fa68ec6d049458490/expr.ipynb\"><img src=\"data:image/png;base64,iVBORw0KGgoAAAANSUhEUgAAADkAAAAVBAMAAAAOWFv7AAAAMFBMVEX///8AAAAAAAAAAAAAAAAA\n",
       "AAAAAAAAAAAAAAAAAAAAAAAAAAAAAAAAAAAAAAAAAAAv3aB7AAAAD3RSTlMAmd0iq3ZUiRDNZu9E\n",
       "uzLWhN+VAAAACXBIWXMAAA7EAAAOxAGVKw4bAAAA9ElEQVQoz2NggAFmBjRggMwJQ+YwT2BgOIrE\n",
       "ZytAluX8wMDAugDB70QxNR8oyzADwZdCkRX5DCQWIvgbkCXZzf8BSe4GuLUTkGVNWb+BLIdbzIji\n",
       "KAG2XyATHOCORHIgA08C33cgxTWBQUgJCBQZmBIYYEygQQzMX0C2Qd1iwsB9gAHGZGCIFRT5C6T4\n",
       "PmCT5QhgYPgEsgCuF2QyTJYRSGmDTFaACBky8AYwwJgMp4DUfJCrLsD974CIAZCB9w2QfcmnAGNx\n",
       "3P/ZwJD7fzoDA9MBuA49BgxghGAuxJRFihheA3RJ5gsINscFdFkU9abossEMDADECiu8DBGmvQAA\n",
       "AABJRU5ErkJggg==\n",
       "\" style=\"display:inline;vertical-align:middle;\" /></a></span></td></tr><tr><td><a name=\"-0x307229536769eb09_step7\">7</a></td><td>conjecture</td><td></td><td><span style=\"font-size:20px;\"> <a class=\"ProveItLink\" href=\"../../../../_theory_nbs_/proofs/in_bool_if_true/thm_proof.ipynb\" style=\"text-decoration: none\">&nbsp;&#x22A2;&nbsp;&nbsp;</a><a class=\"ProveItLink\" href=\"../../../../__pv_it/theorems/858f6fea2a9d198e3a6e9cbe3c54c9eff7cff4060/expr.ipynb\"><img src=\"data:image/png;base64,iVBORw0KGgoAAAANSUhEUgAAAIgAAAAXBAMAAAAipBr3AAAAMFBMVEX///8AAAAAAAAAAAAAAAAA\n",
       "AAAAAAAAAAAAAAAAAAAAAAAAAAAAAAAAAAAAAAAAAAAv3aB7AAAAD3RSTlMAq1RmmUTNIjK7EInv\n",
       "3XZ/CtNrAAAACXBIWXMAAA7EAAAOxAGVKw4bAAACIklEQVQ4y2NgIAKwky2JBB5BVCegir49mZ9z\n",
       "MYCB9QEDgwCIr4zXDKYNYIrtA5r4hDj2LFEGhscMDK4gbjpeQ5ZBKH0MQ4IZtnMCDV/A0Ahy6AS8\n",
       "hjhDKMfvmIYYMTIwMDuAzGHgVsBryAEwyV39A8Llm3v3GtwQNiB9ioHZAOgg/EECCdA6vk9gmjVv\n",
       "AcIl4tZAOpmB4ezdu6fxGsICCVcHps9gumwBImDXXQTJbWRg8GBgmAUWg0iywJRwwRhsBmAHKHD8\n",
       "ZkCNhAmxOX+9gLQZA0MhAzs4mrlOgGU4YUrWNEAZvAoQw9k/grkJyAH7OAxotQ5Q1wLuAHDAfUI1\n",
       "ZD8stHnA0i9dHH+CaA6g9+/ehBnCyQr0Tz8w3B5AwjXiHIohrD0PkA3hAvL+gh08AdklnAxAbgzI\n",
       "fXZgoQeJKIbwsQkgewcUVHfA3AuohgB9pwtkb8oCa2JwQzHkAQvM85wgJwUDcT6Y+w7FECagpCWQ\n",
       "XQO2MoLhDbIhrA18B6BquYHy7CDO/AJwZMFT5oRohn1bgLQ3EDOCo8F7t/wCJENYdm/8BVXLcYGB\n",
       "a/63BQya/7PBgSIZBRF/dnI+KBczMFyFmcrHwFDfgGTIAwb2HzC5G6iJj3UnNNnDChR4KAH9zK+A\n",
       "MIQVmMA+weRM8Jc2LAYwxkEGLv9UhCE+AgxLvgXAQrYAryGVmEKcmEJc+EuK6UQZwlCHzwy+AuIM\n",
       "IRmwk6EHAIkOfgF9LtBuAAAAAElFTkSuQmCC\n",
       "\" style=\"display:inline;vertical-align:middle;\" /></a></span></td></tr>\n",
       "<tr><td>&nbsp;</td><td colspan=4 style-\"text-align:left\"><a class=\"ProveItLink\" href=\"../../../../_theory_nbs_/proofs/in_bool_if_true/thm_proof.ipynb\">proveit.logic.booleans.in_bool_if_true</a></td></tr><tr><td><a name=\"-0x307229536769eb09_step8\">8</a></td><td>assumption</td><td></td><td><span style=\"font-size:20px;\"><a class=\"ProveItLink\" href=\"../../../__pv_it/theorems/8ef12b95cfe752515f471cf6fa68ec6d049458490/expr.ipynb\"><img src=\"data:image/png;base64,iVBORw0KGgoAAAANSUhEUgAAADkAAAAVBAMAAAAOWFv7AAAAMFBMVEX///8AAAAAAAAAAAAAAAAA\n",
       "AAAAAAAAAAAAAAAAAAAAAAAAAAAAAAAAAAAAAAAAAAAv3aB7AAAAD3RSTlMAmd0iq3ZUiRDNZu9E\n",
       "uzLWhN+VAAAACXBIWXMAAA7EAAAOxAGVKw4bAAAA9ElEQVQoz2NggAFmBjRggMwJQ+YwT2BgOIrE\n",
       "ZytAluX8wMDAugDB70QxNR8oyzADwZdCkRX5DCQWIvgbkCXZzf8BSe4GuLUTkGVNWb+BLIdbzIji\n",
       "KAG2XyATHOCORHIgA08C33cgxTWBQUgJCBQZmBIYYEygQQzMX0C2Qd1iwsB9gAHGZGCIFRT5C6T4\n",
       "PmCT5QhgYPgEsgCuF2QyTJYRSGmDTFaACBky8AYwwJgMp4DUfJCrLsD974CIAZCB9w2QfcmnAGNx\n",
       "3P/ZwJD7fzoDA9MBuA49BgxghGAuxJRFihheA3RJ5gsINscFdFkU9abossEMDADECiu8DBGmvQAA\n",
       "AABJRU5ErkJggg==\n",
       "\" style=\"display:inline;vertical-align:middle;\" /></a> <a class=\"ProveItLink\" href=\"../../../__pv_it/_proof_double_negation_elim/b579b74d022464fa9eb30f4733e7e3dec1a67afb0/proof.ipynb\" style=\"text-decoration: none\">&nbsp;&#x22A2;&nbsp;&nbsp;</a><a class=\"ProveItLink\" href=\"../../../__pv_it/theorems/8ef12b95cfe752515f471cf6fa68ec6d049458490/expr.ipynb\"><img src=\"data:image/png;base64,iVBORw0KGgoAAAANSUhEUgAAADkAAAAVBAMAAAAOWFv7AAAAMFBMVEX///8AAAAAAAAAAAAAAAAA\n",
       "AAAAAAAAAAAAAAAAAAAAAAAAAAAAAAAAAAAAAAAAAAAv3aB7AAAAD3RSTlMAmd0iq3ZUiRDNZu9E\n",
       "uzLWhN+VAAAACXBIWXMAAA7EAAAOxAGVKw4bAAAA9ElEQVQoz2NggAFmBjRggMwJQ+YwT2BgOIrE\n",
       "ZytAluX8wMDAugDB70QxNR8oyzADwZdCkRX5DCQWIvgbkCXZzf8BSe4GuLUTkGVNWb+BLIdbzIji\n",
       "KAG2XyATHOCORHIgA08C33cgxTWBQUgJCBQZmBIYYEygQQzMX0C2Qd1iwsB9gAHGZGCIFRT5C6T4\n",
       "PmCT5QhgYPgEsgCuF2QyTJYRSGmDTFaACBky8AYwwJgMp4DUfJCrLsD974CIAZCB9w2QfcmnAGNx\n",
       "3P/ZwJD7fzoDA9MBuA49BgxghGAuxJRFihheA3RJ5gsINscFdFkU9abossEMDADECiu8DBGmvQAA\n",
       "AABJRU5ErkJggg==\n",
       "\" style=\"display:inline;vertical-align:middle;\" /></a></span></td></tr>\n",
       "</table>"
      ],
      "text/plain": [
       "\tstep type\trequirements\tstatement\n",
       "0\tgeneralization\t1\t|- forall_{A | [not]([not](A))} A\n",
       "1\tinstantiation\t2, 3, 8\t{[not]([not](A))} |- A\n",
       "\tA : A\n",
       "2\tconjecture\t\t|- forall_{A in BOOLEAN | [not]([not](A))} A\n",
       "\tproveit.logic.booleans.negation.double_negation_elim_lemma\n",
       "3\tinstantiation\t5, 4\t{[not]([not](A))} |- A in BOOLEAN\n",
       "\tA : A\n",
       "4\tinstantiation\t5, 6\t{[not]([not](A))} |- [not](A) in BOOLEAN\n",
       "\tA : [not](A)\n",
       "5\taxiom\t\t|- forall_{A | [not](A) in BOOLEAN} (A in BOOLEAN)\n",
       "\tproveit.logic.booleans.negation.operand_is_bool\n",
       "6\tinstantiation\t7, 8\t{[not]([not](A))} |- [not]([not](A)) in BOOLEAN\n",
       "\tA : [not]([not](A))\n",
       "7\tconjecture\t\t|- forall_{A | A} (A in BOOLEAN)\n",
       "\tproveit.logic.booleans.in_bool_if_true\n",
       "8\tassumption\t\t{[not]([not](A))} |- [not]([not](A))"
      ]
     },
     "execution_count": 6,
     "metadata": {},
     "output_type": "execute_result"
    }
   ],
   "source": [
    "%qed"
   ]
  },
  {
   "cell_type": "code",
   "execution_count": null,
   "metadata": {},
   "outputs": [],
   "source": []
  }
 ],
 "metadata": {
  "kernelspec": {
   "display_name": "Python 3",
   "language": "python",
   "name": "python3"
  }
 },
 "nbformat": 4,
 "nbformat_minor": 0
}