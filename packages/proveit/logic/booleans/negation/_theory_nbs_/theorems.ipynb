{
 "cells": [
  {
   "cell_type": "markdown",
   "metadata": {},
   "source": [
    "Theorems (or conjectures) for the theory of <a class=\"ProveItLink\" href=\"theory.ipynb\">proveit.logic.booleans.negation</a>\n",
    "========"
   ]
  },
  {
   "cell_type": "code",
   "execution_count": 1,
   "metadata": {},
   "outputs": [
    {
     "name": "stdout",
     "output_type": "stream",
     "text": [
      "Defining theorems for theory 'proveit.logic.booleans.negation'\n",
      "Subsequent end-of-cell assignments will define theorems\n",
      "'%end theorems' will finalize the definitions\n"
     ]
    }
   ],
   "source": [
    "import proveit\n",
    "# Prepare this notebook for defining the theorems of a theory:\n",
    "%theorems_notebook # Keep this at the top following 'import proveit'.\n",
    "from proveit.logic import Not, FALSE, Forall, Implies, Equals, TRUE, Or, NotEquals, Boolean, in_bool\n",
    "from proveit import A, B\n",
    "%begin theorems"
   ]
  },
  {
   "cell_type": "code",
   "execution_count": 2,
   "metadata": {},
   "outputs": [
    {
     "data": {
      "text/html": [
       "<strong id=\"not_false\"><a class=\"ProveItLink\" href=\"proofs/not_false/thm_proof.ipynb\">not_false</a> (established theorem):<br></strong> <a class=\"ProveItLink\" href=\"../__pv_it/theorems/ac663a8565b8a58847e5b77e80556ed8fe5d9bcb0/theorem_expr.ipynb\"><img src=\"data:image/png;base64,iVBORw0KGgoAAAANSUhEUgAAABwAAAAPBAMAAAAFYbKSAAAAIVBMVEX///8AAAAAAAAAAAAAAAAA\n",
       "AAAAAAAAAAAAAAAAAAAAAADdcGRXAAAACnRSTlMAmd0iq0RmVHbvMiy3+wAAAAlwSFlzAAAOxAAA\n",
       "DsQBlSsOGwAAACVJREFUCNdjYMAFwlC5FVTmCikBgSKqrAkpXEMCFgEtmKmkpAIA/3EI1mTq1PcA\n",
       "AAAASUVORK5CYII=\n",
       "\" style=\"display:inline;vertical-align:middle;\" /></a><br>"
      ],
      "text/plain": [
       "<IPython.core.display.HTML object>"
      ]
     },
     "metadata": {},
     "output_type": "display_data"
    }
   ],
   "source": [
    "not_false = Not(FALSE)"
   ]
  },
  {
   "cell_type": "code",
   "execution_count": 3,
   "metadata": {},
   "outputs": [
    {
     "data": {
      "text/html": [
       "<strong id=\"negation_intro\"><a class=\"ProveItLink\" href=\"proofs/negation_intro/thm_proof.ipynb\">negation_intro</a> (established theorem):<br></strong> <a class=\"ProveItLink\" href=\"../__pv_it/theorems/84be464aef8e7289e589b517f5afabe649f0be840/theorem_expr.ipynb\"><img src=\"data:image/png;base64,iVBORw0KGgoAAAANSUhEUgAAAIUAAAAXBAMAAADXWpFHAAAAMFBMVEX///8AAAAAAAAAAAAAAAAA\n",
       "AAAAAAAAAAAAAAAAAAAAAAAAAAAAAAAAAAAAAAAAAAAv3aB7AAAAD3RSTlMAq1RmmUTNIjK7EInv\n",
       "3XZ/CtNrAAAACXBIWXMAAA7EAAAOxAGVKw4bAAABz0lEQVQ4y2NgIA2wowsUMJAMHqEYmMDAEAek\n",
       "BUAcZWKNYNqAzGP7wMDAZ8DA4AripBNrxjIUnj7QDIYsBoZGkJsmEGuGMwrP8TuQMAG6ZwEDA7cC\n",
       "sWYcQOZwV/8AkjwLGJiB/mEjOjgSkHl1fJ9AgQI04Ozdu6eJNYMFJUgdmD6DXAOMFQ8GhllgoQUQ\n",
       "ZTAVXFjMANkJB6wKHL+BFDPQbYUM7OD45ToBluGEKVnTgGQjlOYFBpzvXSC4AraN/SPIf8Aw4lzA\n",
       "HQAOoU+oZuxHCmhYvPEEQBmFQPzSxfEnkOIARjDTA0iQRpxDMYO15wF+M7iA8n9BCkFxlWAHFn6Q\n",
       "iGIGH5sAphm8CggzQAF3B+SXC0BiUxZYD4MbihkPWBIYPGcCgQGSGZwwt5UwMAQDqXxQmIIka8AW\n",
       "RjC8QTaDtYHvAKY7uBFuYwdJzy+AxjcjOAK8d8svQDKDZffGX5hmcFyAx/z8bwsYNP9nA/0HCyOg\n",
       "VxjqG5DMeMDA/gPTLww3MNNMLZwF9B2/AsIMVqDOT5juAGUwnNmQ5SADl38qwgwfAYYl36CO5J45\n",
       "8+TMedBAxSi2sOV5TrwZhgtDB2cBqWYw1KELPGcg2QzyCm7CAACM/mSyha+m5AAAAABJRU5ErkJg\n",
       "gg==\n",
       "\" style=\"display:inline;vertical-align:middle;\" /></a><br>"
      ],
      "text/plain": [
       "<IPython.core.display.HTML object>"
      ]
     },
     "metadata": {},
     "output_type": "display_data"
    }
   ],
   "source": [
    "negation_intro = Forall(A, Not(A), conditions=[Equals(A, FALSE)])"
   ]
  },
  {
   "cell_type": "code",
   "execution_count": 4,
   "metadata": {},
   "outputs": [
    {
     "data": {
      "text/html": [
       "<strong id=\"negation_contradiction\"><a class=\"ProveItLink\" href=\"proofs/negation_contradiction/thm_proof.ipynb\">negation_contradiction</a> (established theorem):<br></strong> <a class=\"ProveItLink\" href=\"../__pv_it/theorems/75f874c67552a9b1fbdea593df32d55412545b760/theorem_expr.ipynb\"><img src=\"data:image/png;base64,iVBORw0KGgoAAAANSUhEUgAAAGsAAAAWBAMAAAA1LX8gAAAAMFBMVEX///8AAAAAAAAAAAAAAAAA\n",
       "AAAAAAAAAAAAAAAAAAAAAAAAAAAAAAAAAAAAAAAAAAAv3aB7AAAAD3RSTlMAq1RmmUTNIjK7EInv\n",
       "3XZ/CtNrAAAACXBIWXMAAA7EAAAOxAGVKw4bAAABK0lEQVQ4y2NgIA8IgAhlEjSwGoBIVxCRToI2\n",
       "pgcgshGI2SeQrI1tAQMDtwLJ2piBTmVjIFkbw9m7d0+Toc2DgWEWmLEATLLApLlQFHOhaytkYAdH\n",
       "AtcJMJcTJr2mAVkbggfVxrmAOwBEc39C1bYfJZwQPKg2pgeQEIk4h6KNtecBchwjeFBtDAl2YOpB\n",
       "Ioo2PjYBJG1IPJi2TVlgCQY3FG0PWBKQtCHxYNpqwAZFMLxB1sbawHcA5OGZM2fOhfNQtDGCA8l7\n",
       "t/wCJG0suzf+gqpjROKx3L17BxjRcBfzMTDUNyBpe8DA/gOhDYmHCoIZGPgVENpAueMTw2poAoDw\n",
       "sACWgwxc/qkIbT4CDEu+BfRAIwvCw5vkOJE5xOcMZG2sC8jSxkx8vmAnShUAc9tIumRCvdAAAAAA\n",
       "SUVORK5CYII=\n",
       "\" style=\"display:inline;vertical-align:middle;\" /></a><br>"
      ],
      "text/plain": [
       "<IPython.core.display.HTML object>"
      ]
     },
     "metadata": {},
     "output_type": "display_data"
    }
   ],
   "source": [
    "negation_contradiction = Forall(A, FALSE, conditions=[A, Not(A)])"
   ]
  },
  {
   "cell_type": "code",
   "execution_count": 5,
   "metadata": {},
   "outputs": [
    {
     "data": {
      "text/html": [
       "<strong id=\"untrue_from_negation\"><a class=\"ProveItLink\" href=\"proofs/untrue_from_negation/thm_proof.ipynb\">untrue_from_negation</a> (established theorem):<br></strong> <a class=\"ProveItLink\" href=\"../__pv_it/theorems/7e4864597bcd43593c955cb1a50ba474ae9c55890/theorem_expr.ipynb\"><img src=\"data:image/png;base64,iVBORw0KGgoAAAANSUhEUgAAAJcAAAAXCAMAAAAx8S2TAAAAPFBMVEX///8AAAAAAAAAAAAAAAAA\n",
       "AAAAAAAAAAAAAAAAAAAAAAAAAAAAAAAAAAAAAAAAAAAAAAAAAAAAAAAAAAAo1xBWAAAAE3RSTlMA\n",
       "q1RmmUTNIjK7EInv3Xbn9enzK1aD6QAAAAlwSFlzAAAOxAAADsQBlSsOGwAAAdpJREFUSMfNl9ly\n",
       "wyAMRQGzb134/3+tsU0ssCCk40yrh0zsCHG4SKAQ8gZTfzh6YJHBWSTqw213uIj5kz6e2XIPFnPw\n",
       "SSbMRxuAGIBlnJhBuHhEuEdAWwnEEspl9GU1EaxlFVMXwZS5Ry5eyc5pQparKRlxLfyAy+bYPVwe\n",
       "PjjlkkbkUkMu4lem5VifvCm7YBwVSUzX9QpKxlwyM/kt4by7aRthHJ4T7FpOWCZXXC6D801oAwq3\n",
       "qmE+TPLrnABDrFLp5NrK+/gsldfjWrLoipaPMpmHKTEqh9pzs8DqJalEZ+SquZgvUjkBVKxSYsTl\n",
       "rsnjz0DRcL7WYxtAoDtQcelUXoFsFdrHOa7Gs+Gy+28pzMhVcwl/lOIC3kYi6RxX49ns4yFL8HV+\n",
       "fX2fJ3t3H8NxdEkLJiNcTnG1nrt7iS8W/CKS+M1Y5/0+qfIU7M06oce5nNkt4J5niW8xy/j6wGed\n",
       "+q64ymFDNXjlHE12qBfFPfeU3aCtSWkThuUv7rlcD3n3vRfI3uTa1s+5rp5HTD3fbPQ6sNChhuWP\n",
       "cHHcE1y6XZP25as/v9gSzfIkxZO8xzz7l/IJPSXXVGfzcvtjByPCjFxGvYUrdxE90zNt+Fx/elO7\n",
       "+M/+3PzWfgCOTg5MBiAUlwAAAABJRU5ErkJggg==\n",
       "\" style=\"display:inline;vertical-align:middle;\" /></a><br>"
      ],
      "text/plain": [
       "<IPython.core.display.HTML object>"
      ]
     },
     "metadata": {},
     "output_type": "display_data"
    }
   ],
   "source": [
    "untrue_from_negation = Forall(A, NotEquals(A, TRUE), conditions=[Not(A)])"
   ]
  },
  {
   "cell_type": "code",
   "execution_count": 6,
   "metadata": {},
   "outputs": [
    {
     "data": {
      "text/html": [
       "<strong id=\"falsified_negation_intro\"><a class=\"ProveItLink\" href=\"proofs/falsified_negation_intro/thm_proof.ipynb\">falsified_negation_intro</a> (established theorem):<br></strong> <a class=\"ProveItLink\" href=\"../__pv_it/theorems/824e96ec5f7288c4cea8aefbdfaa569c1d40b7c10/theorem_expr.ipynb\"><img src=\"data:image/png;base64,iVBORw0KGgoAAAANSUhEUgAAAKoAAAAXBAMAAABpDMkaAAAAMFBMVEX///8AAAAAAAAAAAAAAAAA\n",
       "AAAAAAAAAAAAAAAAAAAAAAAAAAAAAAAAAAAAAAAAAAAv3aB7AAAAD3RSTlMAq1RmmUTNIjK7EInv\n",
       "3XZ/CtNrAAAACXBIWXMAAA7EAAAOxAGVKw4bAAAB9klEQVQ4y61Vv0vDQBR+trWhra39D1oQXFTs\n",
       "JLhIBxXBQdGlg0OliNDFughCofUPkDoIBQfN2kXUxcFBHYSiVIrgZqDgKigOOtb37i65XJsLHfzg\n",
       "S9677/Ll8u5HAAZASdANQ9vbgIGQSHNK7AEMd3TdSUlSMObrOiEosYN89zLMAFcW6L7tZxrNc0oE\n",
       "ungJm/1dA+wDUDmgShz5uYYynK6WFFY5mNW5okKvjKX9XEcEJa5vq3h91LmiEsRRhH3LOi4oJ7nz\n",
       "ScMoaF1RaVnWk6/rsqAsAExTQS61rqgsAZyw2BSPCDiTUegd1xrULvA2w7pbDEnFFZVdMFhbtMla\n",
       "IvbMN22TF07+PE1RFir0xKR2rKhEzNgqhbFvxVWkiAdBVlK0SxzPp2jR1LSuNYr4ZOWeFVeRerie\n",
       "A4y2Md7QupKSn2NhZ1NxFamsgOOKRYjfYTylrSspV0W22WHR7WqniFNB5ppluzL8hfGsdqyklNmL\n",
       "cvDhdrVTsYJcq6hMnX57V5viSspQlUU3KdPlaqeIQ0GORrcIgbMfXFqvvTvbst5arBiOkgCoVKWr\n",
       "kyLiVc7eY7StPWAdZR0nNi1dnZQfFl5HiXrgeCqhe4iubDmuMiXUBVXsa7e4hxLpb2oIqqhrXesD\n",
       "uRodTvW3U9L+kEoDuf4DjP8w+QO5eIAJMcFOzwAAAABJRU5ErkJggg==\n",
       "\" style=\"display:inline;vertical-align:middle;\" /></a><br>"
      ],
      "text/plain": [
       "<IPython.core.display.HTML object>"
      ]
     },
     "metadata": {},
     "output_type": "display_data"
    }
   ],
   "source": [
    "falsified_negation_intro = Forall(A, Equals(Not(A), FALSE), conditions=[A])"
   ]
  },
  {
   "cell_type": "code",
   "execution_count": 7,
   "metadata": {},
   "outputs": [
    {
     "data": {
      "text/html": [
       "<strong id=\"double_negation_intro\"><a class=\"ProveItLink\" href=\"proofs/double_negation_intro/thm_proof.ipynb\">double_negation_intro</a> (established theorem):<br></strong> <a class=\"ProveItLink\" href=\"../__pv_it/theorems/2a673c5806b436fc7c11c310aa3ce35e5d96fe2e0/theorem_expr.ipynb\"><img src=\"data:image/png;base64,iVBORw0KGgoAAAANSUhEUgAAAIoAAAAXBAMAAAAmUcrKAAAAMFBMVEX///8AAAAAAAAAAAAAAAAA\n",
       "AAAAAAAAAAAAAAAAAAAAAAAAAAAAAAAAAAAAAAAAAAAv3aB7AAAAD3RSTlMAq1RmmUTNIjK7EInv\n",
       "3XZ/CtNrAAAACXBIWXMAAA7EAAAOxAGVKw4bAAAB20lEQVQ4y52TPUsDQRCGx3wdSUy8f5CAYKOi\n",
       "lWAjKVSECAZtUlhEgghpjI0gBHL2ihZCwEJT2AREjI1FisRCEEUJgmXgwFZQLKLYxNmdvdzGLBfJ\n",
       "wHv77O3Ne8zMHUDvyCqRhybUO8JRFWJsA3hNks72w04uo0rE2ES9kubYfsPBJJBSIYarhRdfkWuX\n",
       "VXbo4OKZVCHbRbBL7hgXMwtGHVwGlYhxXTXwes/lRn+fU1tGlIgFmO/s5WnSY6Px4OQSVyIWBBOs\n",
       "wDJpAeCY3y6KQ6uVYk3biWnZZRkOLnGZIm2BxqcduOOHfuupc4PWZ3RusIjJCBCDPMsbI/mLwQR7\n",
       "OvjZ6VIVLb+1+qDLCOGj2Qgb7QHJZVJzk08dLt4909HlAmCojrwqlJrhR+Zah0vYp7crslIlxIIg\n",
       "VEMeF7rK8CyY73AxPeJDPbFSYzJ62QfygTwtlOMvTcKb7OI1wjWisj0WCXPs0S8xfaYBPox4JVKU\n",
       "XDyV8g/Rvp1qY6mVAddpE0f9AiRqA0DekFxM0L6JQkY7V8L2F1wnUaxgy6O2CyubJs//N+hC+Qdt\n",
       "/6SeGwgsrdsuizqcNRN0VrBzCl0uO0J/wt91p6REybfwHxfNVKFoZ5bU26Wf0PpJ+gXXLm1aorRU\n",
       "sAAAAABJRU5ErkJggg==\n",
       "\" style=\"display:inline;vertical-align:middle;\" /></a><br>"
      ],
      "text/plain": [
       "<IPython.core.display.HTML object>"
      ]
     },
     "metadata": {},
     "output_type": "display_data"
    }
   ],
   "source": [
    "double_negation_intro = Forall(A, Not(Not(A)), conditions=[A])"
   ]
  },
  {
   "cell_type": "code",
   "execution_count": 8,
   "metadata": {},
   "outputs": [
    {
     "data": {
      "text/html": [
       "<strong id=\"double_negation_elim_lemma\"><a class=\"ProveItLink\" href=\"proofs/double_negation_elim_lemma/thm_proof.ipynb\">double_negation_elim_lemma</a> (conjecture with conjecture-based proof):<br></strong> <a class=\"ProveItLink\" href=\"../__pv_it/theorems/be90297dc41c0a2948a98580cd0eb7d75b2d77cd0/theorem_expr.ipynb\"><img src=\"data:image/png;base64,iVBORw0KGgoAAAANSUhEUgAAAIcAAAAWBAMAAAAY85LfAAAAMFBMVEX///8AAAAAAAAAAAAAAAAA\n",
       "AAAAAAAAAAAAAAAAAAAAAAAAAAAAAAAAAAAAAAAAAAAv3aB7AAAAD3RSTlMAq1RmmUTNIjK7EInv\n",
       "3XZ/CtNrAAAACXBIWXMAAA7EAAAOxAGVKw4bAAABy0lEQVQ4y6WTO0jDUBSG/6atbRNauzq14uKm\n",
       "i6t08AUOFl0UFwVFbEGjQkEQWsHFRUXsEEEMbi4SXKQ6qJvggw6uhYC4CYqDjnrPTZvHRaSkgZv8\n",
       "J/nz5ZyTc4FWjwJbSRJdLUCW2RokseCfIf2w0yZbkT3/kFBKBdp0QEn7h1xcl4BgLwP5Z0TMd8rg\n",
       "sVa7b6Ea9LAsMAIc8lgXDRl3/1Rb6kg498exa7DLCiL8N8t3dXt+7tnqkbvdfbYiX8b1oSK9HdOV\n",
       "LIXKJzvtdJRhGqvdIkRO2pJ8040gcTCQIptkWn2dfGIVstoYRDkRIaGsLcnX1ij9DGivkpjp57E5\n",
       "C7xwYaxdipC4I8lnzwSrK35D4jzHE8MQZP6aOfBQEiEFW5EPUr0pYZqPD1IbvN5JvPF7lMnWqwNR\n",
       "NE07whRQYaJq+RCu8zeop9+kAvy7o1cpPbioafvUE8WbSQCdlkhaPkStR6c/OUjHX4aTJYqlqGFl\n",
       "oiREyHYDwn12OcIxwdqctqaOQXa8kFCjsZm6L2H+Ob23kMfmsc4qk5byWq/Y2Jjq8cXUf3aCXNHK\n",
       "TuSChA2P77T5zeUe+2HPk2F/EMW9PYPZ5iGewt0QWTD+ArHPb9ovIPSGAAAAAElFTkSuQmCC\n",
       "\" style=\"display:inline;vertical-align:middle;\" /></a><br>"
      ],
      "text/plain": [
       "<IPython.core.display.HTML object>"
      ]
     },
     "metadata": {},
     "output_type": "display_data"
    }
   ],
   "source": [
    "double_negation_elim_lemma = Forall(A, A, conditions=[Not(Not(A))],\n",
    "                                domain=Boolean)"
   ]
  },
  {
   "cell_type": "code",
   "execution_count": 9,
   "metadata": {},
   "outputs": [
    {
     "data": {
      "text/html": [
       "<strong id=\"double_negation_elim\"><a class=\"ProveItLink\" href=\"proofs/double_negation_elim/thm_proof.ipynb\">double_negation_elim</a> (conjecture with conjecture-based proof):<br></strong> <a class=\"ProveItLink\" href=\"../__pv_it/theorems/fd52e4b2b5b48580c1af431cf5da1a6839bb9b7c0/theorem_expr.ipynb\"><img src=\"data:image/png;base64,iVBORw0KGgoAAAANSUhEUgAAAHEAAAAWBAMAAAAFoW4BAAAAMFBMVEX///8AAAAAAAAAAAAAAAAA\n",
       "AAAAAAAAAAAAAAAAAAAAAAAAAAAAAAAAAAAAAAAAAAAv3aB7AAAAD3RSTlMAq1RmmUTNIjK7EInv\n",
       "3XZ/CtNrAAAACXBIWXMAAA7EAAAOxAGVKw4bAAABcElEQVQ4y2NgIAuUAbEAiKFMqs58IHYFMdJJ\n",
       "1Mj0H0g0AjH7BBJ1ssgXMDCwLWBg4FYgUef2/Q0MDMwGQN0kamR/8B5k19m7d0+T6lgGfaB9DB4M\n",
       "DLPA/AVQUaSAKIAzgZIP4Jwghv4NQKqQgR0cM1wnwKKcSDpN4SyQJMJMB4Z6kBbOBdwBIC73J3Sd\n",
       "XAJwJkiSdQOUwzfFRR4UG0wPIAEUcQ5dJ0sAnAmWzIJy1jEw8F8AMRLswPwHieg6eRFMsOQmuGMZ\n",
       "eA+AGJvAZvExuKHrLIOzIJIqEA4rKB4/gFg1YO9EMLxB6OSeOXPmXIZIBoadQMYFmGQkRGcNSNV3\n",
       "EIuxAUR675ZfgGInI4MihCEAk+wEc1f+z2Jgmv9tA8I9DPUNaDo7YTqhkipYk0UwMLwUUHSywELI\n",
       "ASb5Dmt6OsjA5Z+KFkKcBaiS0/GnSSSd8KiHJowJROtkcEd1VwHxOrkXMGBNxTjyHjJnAU4OAwMA\n",
       "y0xKroovtdwAAAAASUVORK5CYII=\n",
       "\" style=\"display:inline;vertical-align:middle;\" /></a><br>"
      ],
      "text/plain": [
       "<IPython.core.display.HTML object>"
      ]
     },
     "metadata": {},
     "output_type": "display_data"
    }
   ],
   "source": [
    "double_negation_elim = Forall(A, A, conditions=[Not(Not(A))])"
   ]
  },
  {
   "cell_type": "code",
   "execution_count": 10,
   "metadata": {},
   "outputs": [
    {
     "data": {
      "text/html": [
       "<strong id=\"closure\"><a class=\"ProveItLink\" href=\"proofs/closure/thm_proof.ipynb\">closure</a> (conjecture with conjecture-based proof):<br></strong> <a class=\"ProveItLink\" href=\"../__pv_it/theorems/5f10acb965841b4c686fb057b9c4be3d2920b7c00/theorem_expr.ipynb\"><img src=\"data:image/png;base64,iVBORw0KGgoAAAANSUhEUgAAAJsAAAAVBAMAAACj9YEXAAAAMFBMVEX///8AAAAAAAAAAAAAAAAA\n",
       "AAAAAAAAAAAAAAAAAAAAAAAAAAAAAAAAAAAAAAAAAAAv3aB7AAAAD3RSTlMAq1RmmUTNIjK7EInv\n",
       "3XZ/CtNrAAAACXBIWXMAAA7EAAAOxAGVKw4bAAAChElEQVQ4y4VUTWjUQBR+TTa73U03evFQPGxA\n",
       "EMG/PajgRRasIvTgopeiIpUq4lZqtVAoVLqCV9sg1hJBjd56kdSLVA/WgyBqtUgtCAYCIoL/eKjH\n",
       "+t7M62STbdYPvuzk7Zsv728GoDUGmY3ItfBtDcuWjDAMYIQJp483l+c3AJzE9XoybEqT28qMcAH5\n",
       "KeGVN8Lhe1WwygAH6P1silqhVzKCtoKPrJeUK5uDDkAN4AoVw0mRy5QlGywlrJBeaZLTbUxzl/yS\n",
       "aafIdTAjPHpax+dLLtrtYEnJYRIdHuj48Wxa6TYzo6aGv+jTfeLFGPBUdG1DPuqg1nwQvEqT62ZG\n",
       "ucJOyn1GNtlTyX79sRF/TUz4EMAtYfSa5fpUJIwjMIFRwB6INTBvLL1dxO06JnwRcmJYCi+4d/2n\n",
       "F1dr+U4yExCo/hUYI+dt4t/ehlZYu7Gt2hyuPbNKNvMPPsY7JyH0L21hv+dMUTbUsW50lWgKJsjQ\n",
       "jmUKPrAcOMfR8hslQ9mJnjcYBmaOcub9FLkHAOsWcH1CpOM0RAdOHnszRzHvE7bwFI976A89jier\n",
       "5DDfIm3ZLiwLMTkMSiPLw5qYITjI3wu7XtfZ7w5TyFXAoKHChGCvsPyMye3AVtD+UdGJHvgu3Cm6\n",
       "q5/Zb0YNhcAobf2rhidrKznf/IaRZ6jrbSKW7iclTz/nutepdib7XWNKTK/UQLu7jHveyxPdeUwe\n",
       "jvOuuFGgWFWXDMBYvd2X0ZkWW4t1yeSFx1UzZuUhW8VltTqKPbPlPKPcOFvprCfPOyRvhQj7lcMz\n",
       "KBw+AyMYiTbQ7yr3KWYcI2urNV1MhVl3MmaYZsYxtbZc/r+3ey6UjF/mKdu+APwDN+eg1EeU4WMA\n",
       "AAAASUVORK5CYII=\n",
       "\" style=\"display:inline;vertical-align:middle;\" /></a><br>"
      ],
      "text/plain": [
       "<IPython.core.display.HTML object>"
      ]
     },
     "metadata": {},
     "output_type": "display_data"
    }
   ],
   "source": [
    "closure = Forall(A, in_bool(Not(A)), domain=Boolean)"
   ]
  },
  {
   "cell_type": "code",
   "execution_count": 11,
   "metadata": {},
   "outputs": [
    {
     "data": {
      "text/html": [
       "<strong id=\"double_neg_closure\"><a class=\"ProveItLink\" href=\"proofs/double_neg_closure/thm_proof.ipynb\">double_neg_closure</a> (conjecture with conjecture-based proof):<br></strong> <a class=\"ProveItLink\" href=\"../__pv_it/theorems/79de1ff0c7e69a8f04fa100d47d39809ab8ea75a0/theorem_expr.ipynb\"><img src=\"data:image/png;base64,iVBORw0KGgoAAAANSUhEUgAAALkAAAAVBAMAAADoXVL6AAAAMFBMVEX///8AAAAAAAAAAAAAAAAA\n",
       "AAAAAAAAAAAAAAAAAAAAAAAAAAAAAAAAAAAAAAAAAAAv3aB7AAAAD3RSTlMAq1RmmUTNIjK7EInv\n",
       "3XZ/CtNrAAAACXBIWXMAAA7EAAAOxAGVKw4bAAACsElEQVQ4y4VVS2gTURQ9zbfJNLEbF8VFAoII\n",
       "/rpQwY0ErCJ0YdBNUZGKiphKjRYKhUojuLUNYi0R1NFdNxLdSHVhXQiiVoPUgmBgQETwj4u6rPe9\n",
       "dzNzJ8m0B87k3Zv3ztw5784bYHUUmSKUiDODlq6OdNZQhB5Ggahj6Fvz6ebywnrgBI27VWJjkPoW\n",
       "pgg9XCB+Zkokos7ovTzSvcB+FZ8NEE8OGorQQ2iFLjHb0K/eaxXLQAG4opwrB6hHeg1FKP7MkLPh\n",
       "nGGTejhLnuw0N7ayAepdTBF6ePysRNdXTGX47fqSq06P2WUjTPXEgmzfxBSh1y7Ob1XUKSbt7rDt\n",
       "1t4xUiVZkl6o118HqfczRegZgx3KqIdMaiHbdebbzw30a5E7B4FbOmm3qnuFuaGLw5ii+rCbKVoj\n",
       "EV16t0hqYXLnIuK6K5MvuRWGTi829uG9YaSukJNDIIcJtW4rExgUu5reRQ0TmqexbeVVzvpLl8me\n",
       "aTjVS5t53gum9rlbDpG+0ZdRrTbFRCdZXP/I6igfo8wfuoNjNnXgLVVGNpG6dX9t9QfAuhqNjzOR\n",
       "LIvaUU7QNs+rJ9qrc85Jfuuc6sgTvzMNSTEkY5BSq7cxgZpPnUoOqcyjgm5WHODbO31vSjzvDlNL\n",
       "5uQwqhqZnhx7mMAvn/p22lUlN643dQA/9BJV+9UvPM9rNzdkjCuVf76mjWVd9ar1nZ4tonqqQ1fa\n",
       "/zRjh89VKteV7xbPu8YUocHsSgGhu8u0/AMMyfieo+aVPV/RZyRSeffYBCZKnVVTu5XmbKpkKMLm\n",
       "A75mqF/WOXMSNHDZHR2hFsia14rUJznbdEY1H1et55wP+9xJz5E8dAZjVFxoeKjiTp9hitCPMWYb\n",
       "tJy8ybnKtC8xyxShHzNt72k2d81PX9wxFKH/K1c0bIevwH9Vcbo/OL/7MAAAAABJRU5ErkJggg==\n",
       "\" style=\"display:inline;vertical-align:middle;\" /></a><br>"
      ],
      "text/plain": [
       "<IPython.core.display.HTML object>"
      ]
     },
     "metadata": {},
     "output_type": "display_data"
    }
   ],
   "source": [
    "double_neg_closure = Forall(A, in_bool(Not(Not(A))), domain=Boolean)"
   ]
  },
  {
   "cell_type": "code",
   "execution_count": 12,
   "metadata": {},
   "outputs": [
    {
     "data": {
      "text/html": [
       "<strong id=\"double_negation_equiv\"><a class=\"ProveItLink\" href=\"proofs/double_negation_equiv/thm_proof.ipynb\">double_negation_equiv</a> (conjecture with conjecture-based proof):<br></strong> <a class=\"ProveItLink\" href=\"../__pv_it/theorems/bce9b9843b683e862f71580bd81275031ab806200/theorem_expr.ipynb\"><img src=\"data:image/png;base64,iVBORw0KGgoAAAANSUhEUgAAAL4AAAAVBAMAAAAKgUmDAAAAMFBMVEX///8AAAAAAAAAAAAAAAAA\n",
       "AAAAAAAAAAAAAAAAAAAAAAAAAAAAAAAAAAAAAAAAAAAv3aB7AAAAD3RSTlMAq1RmmUTNIjK7EInv\n",
       "3XZ/CtNrAAAACXBIWXMAAA7EAAAOxAGVKw4bAAACN0lEQVQ4y4WVP2gUQRTGn3dJLtk157VWdyCI\n",
       "oKKVYCNXxBBIoWiTwiKiIiagp4IQCOQCtiYiCeFS6GGXRk4bSSzUQhD/EUTLgwWxExQLLeObed/d\n",
       "vpndMR/8Nu/Nt/t28mZmj+j/agCVapVAvkq0m8o1QaWp7hANJkKO4FZMfCBU/zBQaaobzDeQFdzT\n",
       "Jr4aKB9NCypNVdjhy1BbyKjnLpo+3Q/UHzguqFSZVV6NYl3IPgrXvDyuBervBSpN9fxlk6/vgK+e\n",
       "W+Q5DYXafxCoNN0cyU8zrUvA3zp992O3+z5UfxKoNG0AHTPtegr89vTdCaJ1O5SzSt7knHmeo+UO\n",
       "/zkBaKBrVfHdm1SyY9FbLPzs5S+99fgsyKN1HRLVacE8dwR4St2RdnzWjMS/+bK0f5WSzq1DuOsN\n",
       "sB2t6JDKK2NVs+2WgXcuU7eQyPJOfeLZcbO4fvx49/pPiPZtc3wBuNLu9Ck7lFzESUw6t7fc/vSK\n",
       "qpAbQKOvOD4K3P5r99mM/Y9onCJ7zpKxD00Ueghs0boOB822/sXxSeDIceftK6fohx0287/7Hfd5\n",
       "m0+F88zI3+wWznH32NlOvqi2i9darQem/zHuuwdUKtrYmaHCoz+8Bb+SoOW6suBEC83hjsw/LmN0\n",
       "tCmo1D+n20LgB6DvnOcFr8lB4/pLGPW+XjkfMu8LmONK8JqiM1dojidYuD7b6j+wBlTqag7ky3ei\n",
       "zdaq20mgUldruW8NzyfzGRRU6p7ThhD4dW3QP+gVsRwr2NgBAAAAAElFTkSuQmCC\n",
       "\" style=\"display:inline;vertical-align:middle;\" /></a><br>"
      ],
      "text/plain": [
       "<IPython.core.display.HTML object>"
      ]
     },
     "metadata": {},
     "output_type": "display_data"
    }
   ],
   "source": [
    "double_negation_equiv = Forall(A, Equals(Not(Not(A)), A), domain=Boolean)"
   ]
  },
  {
   "cell_type": "code",
   "execution_count": 13,
   "metadata": {},
   "outputs": [
    {
     "name": "stdout",
     "output_type": "stream",
     "text": [
      "These theorems may now be imported from the theory package: proveit.logic.booleans.negation\n"
     ]
    }
   ],
   "source": [
    "%end theorems"
   ]
  },
  {
   "cell_type": "code",
   "execution_count": null,
   "metadata": {},
   "outputs": [],
   "source": []
  }
 ],
 "metadata": {
  "kernelspec": {
   "display_name": "Python 3",
   "language": "python",
   "name": "python3"
  }
 },
 "nbformat": 4,
 "nbformat_minor": 0
}