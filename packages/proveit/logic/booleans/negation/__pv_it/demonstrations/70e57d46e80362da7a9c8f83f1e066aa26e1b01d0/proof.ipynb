{
 "cells": [
  {
   "cell_type": "markdown",
   "metadata": {},
   "source": [
    "Show the Proof\n",
    "========"
   ]
  },
  {
   "cell_type": "code",
   "execution_count": 1,
   "metadata": {},
   "outputs": [
    {
     "data": {
      "text/html": [
       "<table><tr><th>&nbsp;</th><th>step type</th><th>requirements</th><th>statement</th></tr>\n",
       "<tr><td><a name=\"proveit.logic.booleans.negation.demonstrations.70e57d46e80362da7a9c8f83f1e066aa26e1b01d0_step0\">0</a></td><td>instantiation</td><td><a href=\"#proveit.logic.booleans.negation.demonstrations.70e57d46e80362da7a9c8f83f1e066aa26e1b01d0_step1\">1</a>, <a href=\"#proveit.logic.booleans.negation.demonstrations.70e57d46e80362da7a9c8f83f1e066aa26e1b01d0_step2\">2</a></td><td><span style=\"font-size:20px;\"><a class=\"ProveItLink\" href=\"../c50b73f2d168f6a3012768bd45c62ea92218bcbc0/expr.ipynb\"><img src=\"../c50b73f2d168f6a3012768bd45c62ea92218bcbc0/expr.png\" style=\"display:inline;vertical-align:middle;\" /></a> <a class=\"ProveItLink\" href=\"proof.ipynb\" style=\"text-decoration: none\">&nbsp;&#x22A2;&nbsp;&nbsp;</a><a class=\"ProveItLink\" href=\"../841ee3ee9c84c49a3d8de304121695387b590a550/expr.ipynb\"><img src=\"../841ee3ee9c84c49a3d8de304121695387b590a550/expr.png\" style=\"display:inline;vertical-align:middle;\" /></a></span></td></tr>\n",
       "<tr><td>&nbsp;</td><td colspan=4 style=\"text-align:left\"><span style=\"font-size:20px;\"><a class=\"ProveItLink\" href=\"../../../../../../__pv_it/common/09585084922504426caf1db2ff588a23a0932a960/expr.ipynb\"><img src=\"../../../../../../__pv_it/common/09585084922504426caf1db2ff588a23a0932a960/expr.png\" style=\"display:inline;vertical-align:middle;\" /></a> : <a class=\"ProveItLink\" href=\"../../../../../../__pv_it/common/a9162d1c3cc0470c02e5daf414500903a7a419230/expr.ipynb\"><img src=\"../../../../../../__pv_it/common/a9162d1c3cc0470c02e5daf414500903a7a419230/expr.png\" style=\"display:inline;vertical-align:middle;\" /></a></span></td></tr><tr><td><a name=\"proveit.logic.booleans.negation.demonstrations.70e57d46e80362da7a9c8f83f1e066aa26e1b01d0_step1\">1</a></td><td>theorem</td><td></td><td><span style=\"font-size:20px;\"> <a class=\"ProveItLink\" href=\"../../../_theory_nbs_/proofs/double_negation_equiv/thm_proof.ipynb\" style=\"text-decoration: none\">&nbsp;&#x22A2;&nbsp;&nbsp;</a><a class=\"ProveItLink\" href=\"../../theorems/9cc2495953c167a4972aea446b8f8744b9387cc10/expr.ipynb\"><img src=\"../../theorems/9cc2495953c167a4972aea446b8f8744b9387cc10/expr.png\" style=\"display:inline;vertical-align:middle;\" /></a></span></td></tr>\n",
       "<tr><td>&nbsp;</td><td colspan=4 style-\"text-align:left\"><a class=\"ProveItLink\" href=\"../../../_theory_nbs_/proofs/double_negation_equiv/thm_proof.ipynb\">proveit.logic.booleans.negation.double_negation_equiv</a></td></tr><tr><td><a name=\"proveit.logic.booleans.negation.demonstrations.70e57d46e80362da7a9c8f83f1e066aa26e1b01d0_step2\">2</a></td><td>assumption</td><td></td><td><span style=\"font-size:20px;\"><a class=\"ProveItLink\" href=\"../c50b73f2d168f6a3012768bd45c62ea92218bcbc0/expr.ipynb\"><img src=\"../c50b73f2d168f6a3012768bd45c62ea92218bcbc0/expr.png\" style=\"display:inline;vertical-align:middle;\" /></a> <a class=\"ProveItLink\" href=\"../47194b83b98ec81660479e93763418ed28ff41820/proof.ipynb\" style=\"text-decoration: none\">&nbsp;&#x22A2;&nbsp;&nbsp;</a><a class=\"ProveItLink\" href=\"../c50b73f2d168f6a3012768bd45c62ea92218bcbc0/expr.ipynb\"><img src=\"../c50b73f2d168f6a3012768bd45c62ea92218bcbc0/expr.png\" style=\"display:inline;vertical-align:middle;\" /></a></span></td></tr>\n",
       "</table>"
      ],
      "text/plain": [
       "<proveit._core_.proof._ShowProof at 0x7f2cf456fe80>"
      ]
     },
     "execution_count": 1,
     "metadata": {},
     "output_type": "execute_result"
    }
   ],
   "source": [
    "import proveit\n",
    "# Automation is not needed when only showing a stored proof:\n",
    "proveit.defaults.automation = False # This will speed things up.\n",
    "proveit.defaults.inline_pngs = False # Makes files smaller.\n",
    "%show_proof"
   ]
  },
  {
   "cell_type": "code",
   "execution_count": null,
   "metadata": {},
   "outputs": [],
   "source": []
  }
 ],
 "metadata": {
  "kernelspec": {
   "display_name": "Python 3",
   "language": "python",
   "name": "python3"
  }
 },
 "nbformat": 4,
 "nbformat_minor": 0
}