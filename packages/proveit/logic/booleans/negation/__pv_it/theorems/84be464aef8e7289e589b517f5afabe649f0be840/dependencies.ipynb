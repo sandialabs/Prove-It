{
 "cells": [
  {
   "cell_type": "markdown",
   "metadata": {},
   "source": [
    "Theorem Dependencies\n",
    "=======================\n",
    "\n",
    "## <a class=\"ProveItLink\" href=\"../../../_theory_nbs_/theory.ipynb\">proveit.logic.booleans.negation</a>.<a class=\"ProveItLink\" href=\"../../../_theorems_.ipynb#negation_intro\">negation_intro</a> \n",
    "***see <a class=\"ProveItLink\" href=\"../../../_theory_nbs_/proofs/negation_intro/thm_proof.ipynb\">proof</a>***"
   ]
  },
  {
   "cell_type": "code",
   "execution_count": 1,
   "metadata": {},
   "outputs": [],
   "source": [
    "import proveit\n",
    "# Automation is not needed when querying dependencies:\n",
    "proveit.defaults.automation = False # This will speed things up.\n",
    "proveit.defaults.inline_pngs = False # Makes files smaller.\n",
    "from proveit.logic.booleans.negation import negation_intro"
   ]
  },
  {
   "cell_type": "code",
   "execution_count": 2,
   "metadata": {},
   "outputs": [
    {
     "data": {
      "text/html": [
       "<h3>Axioms required (directly or indirectly) to prove negation_intro</h3>"
      ],
      "text/plain": [
       "<IPython.core.display.HTML object>"
      ]
     },
     "metadata": {},
     "output_type": "display_data"
    },
    {
     "data": {
      "text/html": [
       "<dl>"
      ],
      "text/plain": [
       "<IPython.core.display.HTML object>"
      ]
     },
     "metadata": {},
     "output_type": "display_data"
    },
    {
     "data": {
      "text/html": [
       "<dt><a class=\"ProveItLink\" href=\"../../../../_theory_nbs_/axioms.ipynb#eq_true_elim\">proveit.logic.booleans.eq_true_elim</a></dt><dd><a class=\"ProveItLink\" href=\"../../../../__pv_it/axioms/e109ec75dbf9febf42e2a6841bae9d9b810afe380/expr.ipynb\"><img src=\"../../../../__pv_it/axioms/e109ec75dbf9febf42e2a6841bae9d9b810afe380/expr.png\" style=\"display:inline;vertical-align:middle;\" /></a></dd>"
      ],
      "text/plain": [
       "<IPython.core.display.HTML object>"
      ]
     },
     "metadata": {},
     "output_type": "display_data"
    },
    {
     "data": {
      "text/html": [
       "<dt><a class=\"ProveItLink\" href=\"../../../../_theory_nbs_/axioms.ipynb#eq_true_intro\">proveit.logic.booleans.eq_true_intro</a></dt><dd><a class=\"ProveItLink\" href=\"../../../../__pv_it/axioms/af7fcd0228bc2f434dd8febb9d8c4f56a07241be0/expr.ipynb\"><img src=\"../../../../__pv_it/axioms/af7fcd0228bc2f434dd8febb9d8c4f56a07241be0/expr.png\" style=\"display:inline;vertical-align:middle;\" /></a></dd>"
      ],
      "text/plain": [
       "<IPython.core.display.HTML object>"
      ]
     },
     "metadata": {},
     "output_type": "display_data"
    },
    {
     "data": {
      "text/html": [
       "<dt><a class=\"ProveItLink\" href=\"../../../_theory_nbs_/axioms.ipynb#not_f\">proveit.logic.booleans.negation.not_f</a></dt><dd><a class=\"ProveItLink\" href=\"../../axioms/b9bd74a578c6b2e794e4ce82c543ff5c79f215890/expr.ipynb\"><img src=\"../../axioms/b9bd74a578c6b2e794e4ce82c543ff5c79f215890/expr.png\" style=\"display:inline;vertical-align:middle;\" /></a></dd>"
      ],
      "text/plain": [
       "<IPython.core.display.HTML object>"
      ]
     },
     "metadata": {},
     "output_type": "display_data"
    },
    {
     "data": {
      "text/html": [
       "<dt><a class=\"ProveItLink\" href=\"../../../../../equality/_theory_nbs_/axioms.ipynb#equals_transitivity\">proveit.logic.equality.equals_transitivity</a></dt><dd><a class=\"ProveItLink\" href=\"../../../../../equality/__pv_it/axioms/b5b3cf1e74e7e4fc2d5f197f08b661e6992950090/expr.ipynb\"><img src=\"../../../../../equality/__pv_it/axioms/b5b3cf1e74e7e4fc2d5f197f08b661e6992950090/expr.png\" style=\"display:inline;vertical-align:middle;\" /></a></dd>"
      ],
      "text/plain": [
       "<IPython.core.display.HTML object>"
      ]
     },
     "metadata": {},
     "output_type": "display_data"
    },
    {
     "data": {
      "text/html": [
       "<dt><a class=\"ProveItLink\" href=\"../../../../../equality/_theory_nbs_/axioms.ipynb#substitution\">proveit.logic.equality.substitution</a></dt><dd><a class=\"ProveItLink\" href=\"../../../../../equality/__pv_it/axioms/b3647e5bced6c805148d96be1aa0946871a946d20/expr.ipynb\"><img src=\"../../../../../equality/__pv_it/axioms/b3647e5bced6c805148d96be1aa0946871a946d20/expr.png\" style=\"display:inline;vertical-align:middle;\" /></a></dd>"
      ],
      "text/plain": [
       "<IPython.core.display.HTML object>"
      ]
     },
     "metadata": {},
     "output_type": "display_data"
    },
    {
     "data": {
      "text/html": [
       "</dl>"
      ],
      "text/plain": [
       "<IPython.core.display.HTML object>"
      ]
     },
     "metadata": {},
     "output_type": "display_data"
    },
    {
     "data": {
      "text/html": [
       "<h3>Theorems/conjectures that depend directly on negation_intro</h3>"
      ],
      "text/plain": [
       "<IPython.core.display.HTML object>"
      ]
     },
     "metadata": {},
     "output_type": "display_data"
    },
    {
     "data": {
      "text/html": [
       "<dl>"
      ],
      "text/plain": [
       "<IPython.core.display.HTML object>"
      ]
     },
     "metadata": {},
     "output_type": "display_data"
    },
    {
     "data": {
      "text/html": [
       "<dt><a class=\"ProveItLink\" href=\"../../../../conjunction/_theory_nbs_/proofs/binary_closure/thm_proof.ipynb\">proveit.logic.booleans.conjunction.binary_closure</a></dt><dd><a class=\"ProveItLink\" href=\"../../../../conjunction/__pv_it/theorems/21a8b7f98abec2158517baa30c940bdb021de8790/expr.ipynb\"><img src=\"../../../../conjunction/__pv_it/theorems/21a8b7f98abec2158517baa30c940bdb021de8790/expr.png\" style=\"display:inline;vertical-align:middle;\" /></a></dd>"
      ],
      "text/plain": [
       "<IPython.core.display.HTML object>"
      ]
     },
     "metadata": {},
     "output_type": "display_data"
    },
    {
     "data": {
      "text/html": [
       "<dt><a class=\"ProveItLink\" href=\"../../../../conjunction/_theory_nbs_/proofs/false_and_false_negated/thm_proof.ipynb\">proveit.logic.booleans.conjunction.false_and_false_negated</a></dt><dd><a class=\"ProveItLink\" href=\"../../../../conjunction/__pv_it/theorems/3f580260baf60f1bbe721c3c14c6323ee245a8e40/expr.ipynb\"><img src=\"../../../../conjunction/__pv_it/theorems/3f580260baf60f1bbe721c3c14c6323ee245a8e40/expr.png\" style=\"display:inline;vertical-align:middle;\" /></a></dd>"
      ],
      "text/plain": [
       "<IPython.core.display.HTML object>"
      ]
     },
     "metadata": {},
     "output_type": "display_data"
    },
    {
     "data": {
      "text/html": [
       "<dt><a class=\"ProveItLink\" href=\"../../../../conjunction/_theory_nbs_/proofs/false_and_true_negated/thm_proof.ipynb\">proveit.logic.booleans.conjunction.false_and_true_negated</a></dt><dd><a class=\"ProveItLink\" href=\"../../../../conjunction/__pv_it/theorems/973fcbcb85c3320062ba08caf138d1c98bcf329a0/expr.ipynb\"><img src=\"../../../../conjunction/__pv_it/theorems/973fcbcb85c3320062ba08caf138d1c98bcf329a0/expr.png\" style=\"display:inline;vertical-align:middle;\" /></a></dd>"
      ],
      "text/plain": [
       "<IPython.core.display.HTML object>"
      ]
     },
     "metadata": {},
     "output_type": "display_data"
    },
    {
     "data": {
      "text/html": [
       "<dt><a class=\"ProveItLink\" href=\"../../../../conjunction/_theory_nbs_/proofs/nand_if_not_left/thm_proof.ipynb\">proveit.logic.booleans.conjunction.nand_if_not_left</a></dt><dd><a class=\"ProveItLink\" href=\"../../../../conjunction/__pv_it/theorems/d1a8d850df39db46e655bd55dea2076f61270d090/expr.ipynb\"><img src=\"../../../../conjunction/__pv_it/theorems/d1a8d850df39db46e655bd55dea2076f61270d090/expr.png\" style=\"display:inline;vertical-align:middle;\" /></a></dd>"
      ],
      "text/plain": [
       "<IPython.core.display.HTML object>"
      ]
     },
     "metadata": {},
     "output_type": "display_data"
    },
    {
     "data": {
      "text/html": [
       "<dt><a class=\"ProveItLink\" href=\"../../../../conjunction/_theory_nbs_/proofs/true_and_false_negated/thm_proof.ipynb\">proveit.logic.booleans.conjunction.true_and_false_negated</a></dt><dd><a class=\"ProveItLink\" href=\"../../../../conjunction/__pv_it/theorems/42019859b9da221b6afa22a4a321fafe030500fa0/expr.ipynb\"><img src=\"../../../../conjunction/__pv_it/theorems/42019859b9da221b6afa22a4a321fafe030500fa0/expr.png\" style=\"display:inline;vertical-align:middle;\" /></a></dd>"
      ],
      "text/plain": [
       "<IPython.core.display.HTML object>"
      ]
     },
     "metadata": {},
     "output_type": "display_data"
    },
    {
     "data": {
      "text/html": [
       "<dt><a class=\"ProveItLink\" href=\"../../../../disjunction/_theory_nbs_/proofs/false_or_false_negated/thm_proof.ipynb\">proveit.logic.booleans.disjunction.false_or_false_negated</a></dt><dd><a class=\"ProveItLink\" href=\"../../../../disjunction/__pv_it/theorems/6047236ddcc0b3f2fc2a65eeac24c66476c6a3d30/expr.ipynb\"><img src=\"../../../../disjunction/__pv_it/theorems/6047236ddcc0b3f2fc2a65eeac24c66476c6a3d30/expr.png\" style=\"display:inline;vertical-align:middle;\" /></a></dd>"
      ],
      "text/plain": [
       "<IPython.core.display.HTML object>"
      ]
     },
     "metadata": {},
     "output_type": "display_data"
    },
    {
     "data": {
      "text/html": [
       "<dt><a class=\"ProveItLink\" href=\"../../../../disjunction/_theory_nbs_/proofs/or_if_left/thm_proof.ipynb\">proveit.logic.booleans.disjunction.or_if_left</a></dt><dd><a class=\"ProveItLink\" href=\"../../../../disjunction/__pv_it/theorems/5908b2ceb25451eff4faa99595d3cf5e97ec5c250/expr.ipynb\"><img src=\"../../../../disjunction/__pv_it/theorems/5908b2ceb25451eff4faa99595d3cf5e97ec5c250/expr.png\" style=\"display:inline;vertical-align:middle;\" /></a></dd>"
      ],
      "text/plain": [
       "<IPython.core.display.HTML object>"
      ]
     },
     "metadata": {},
     "output_type": "display_data"
    },
    {
     "data": {
      "text/html": [
       "<dt><a class=\"ProveItLink\" href=\"../../../../disjunction/_theory_nbs_/proofs/or_if_right/thm_proof.ipynb\">proveit.logic.booleans.disjunction.or_if_right</a></dt><dd><a class=\"ProveItLink\" href=\"../../../../disjunction/__pv_it/theorems/e261296d68d73dde13ddb92fc09190a5d25c15470/expr.ipynb\"><img src=\"../../../../disjunction/__pv_it/theorems/e261296d68d73dde13ddb92fc09190a5d25c15470/expr.png\" style=\"display:inline;vertical-align:middle;\" /></a></dd>"
      ],
      "text/plain": [
       "<IPython.core.display.HTML object>"
      ]
     },
     "metadata": {},
     "output_type": "display_data"
    },
    {
     "data": {
      "text/html": [
       "<dt><a class=\"ProveItLink\" href=\"../../../../implication/_theory_nbs_/proofs/false_iff_true_negated/thm_proof.ipynb\">proveit.logic.booleans.implication.false_iff_true_negated</a></dt><dd><a class=\"ProveItLink\" href=\"../../../../implication/__pv_it/theorems/021728e765739c17c494eab79c5630369c5d585d0/expr.ipynb\"><img src=\"../../../../implication/__pv_it/theorems/021728e765739c17c494eab79c5630369c5d585d0/expr.png\" style=\"display:inline;vertical-align:middle;\" /></a></dd>"
      ],
      "text/plain": [
       "<IPython.core.display.HTML object>"
      ]
     },
     "metadata": {},
     "output_type": "display_data"
    },
    {
     "data": {
      "text/html": [
       "<dt><a class=\"ProveItLink\" href=\"../../../../implication/_theory_nbs_/proofs/iff_f_t/thm_proof.ipynb\">proveit.logic.booleans.implication.iff_f_t</a></dt><dd><a class=\"ProveItLink\" href=\"../../../../implication/__pv_it/theorems/d299dcf582f22b8136620d62e52412141024c17c0/expr.ipynb\"><img src=\"../../../../implication/__pv_it/theorems/d299dcf582f22b8136620d62e52412141024c17c0/expr.png\" style=\"display:inline;vertical-align:middle;\" /></a></dd>"
      ],
      "text/plain": [
       "<IPython.core.display.HTML object>"
      ]
     },
     "metadata": {},
     "output_type": "display_data"
    },
    {
     "data": {
      "text/html": [
       "<dt><a class=\"ProveItLink\" href=\"../../../../implication/_theory_nbs_/proofs/iff_t_f/thm_proof.ipynb\">proveit.logic.booleans.implication.iff_t_f</a></dt><dd><a class=\"ProveItLink\" href=\"../../../../implication/__pv_it/theorems/8565aa5a5da07d04c31e23567ca033d7e70794450/expr.ipynb\"><img src=\"../../../../implication/__pv_it/theorems/8565aa5a5da07d04c31e23567ca033d7e70794450/expr.png\" style=\"display:inline;vertical-align:middle;\" /></a></dd>"
      ],
      "text/plain": [
       "<IPython.core.display.HTML object>"
      ]
     },
     "metadata": {},
     "output_type": "display_data"
    },
    {
     "data": {
      "text/html": [
       "<dt><a class=\"ProveItLink\" href=\"../../../../implication/_theory_nbs_/proofs/true_iff_false_negated/thm_proof.ipynb\">proveit.logic.booleans.implication.true_iff_false_negated</a></dt><dd><a class=\"ProveItLink\" href=\"../../../../implication/__pv_it/theorems/b8bb0e8394512642ca71d7bdef65b5da172600ed0/expr.ipynb\"><img src=\"../../../../implication/__pv_it/theorems/b8bb0e8394512642ca71d7bdef65b5da172600ed0/expr.png\" style=\"display:inline;vertical-align:middle;\" /></a></dd>"
      ],
      "text/plain": [
       "<IPython.core.display.HTML object>"
      ]
     },
     "metadata": {},
     "output_type": "display_data"
    },
    {
     "data": {
      "text/html": [
       "<dt><a class=\"ProveItLink\" href=\"../../../../implication/_theory_nbs_/proofs/true_implies_false_negated/thm_proof.ipynb\">proveit.logic.booleans.implication.true_implies_false_negated</a></dt><dd><a class=\"ProveItLink\" href=\"../../../../implication/__pv_it/theorems/7fae7745dda02037e55757ce8abb34a9828097930/expr.ipynb\"><img src=\"../../../../implication/__pv_it/theorems/7fae7745dda02037e55757ce8abb34a9828097930/expr.png\" style=\"display:inline;vertical-align:middle;\" /></a></dd>"
      ],
      "text/plain": [
       "<IPython.core.display.HTML object>"
      ]
     },
     "metadata": {},
     "output_type": "display_data"
    },
    {
     "data": {
      "text/html": [
       "<dt><a class=\"ProveItLink\" href=\"../../../_theory_nbs_/proofs/double_negation_intro/thm_proof.ipynb\">proveit.logic.booleans.negation.double_negation_intro</a></dt><dd><a class=\"ProveItLink\" href=\"../0b22d68afd7bfc707f054cfbe8b4e2370c2f148f0/expr.ipynb\"><img src=\"../0b22d68afd7bfc707f054cfbe8b4e2370c2f148f0/expr.png\" style=\"display:inline;vertical-align:middle;\" /></a></dd>"
      ],
      "text/plain": [
       "<IPython.core.display.HTML object>"
      ]
     },
     "metadata": {},
     "output_type": "display_data"
    },
    {
     "data": {
      "text/html": [
       "<dt><a class=\"ProveItLink\" href=\"../../../../_theory_nbs_/proofs/unfold_is_bool/thm_proof.ipynb\">proveit.logic.booleans.unfold_is_bool</a></dt><dd><a class=\"ProveItLink\" href=\"../../../../__pv_it/theorems/779edfd0fb4a47bf77bced3a4fd2941adbb64ed70/expr.ipynb\"><img src=\"../../../../__pv_it/theorems/779edfd0fb4a47bf77bced3a4fd2941adbb64ed70/expr.png\" style=\"display:inline;vertical-align:middle;\" /></a></dd>"
      ],
      "text/plain": [
       "<IPython.core.display.HTML object>"
      ]
     },
     "metadata": {},
     "output_type": "display_data"
    },
    {
     "data": {
      "text/html": [
       "<dt><a class=\"ProveItLink\" href=\"../../../../../equality/_theory_nbs_/proofs/contradiction_via_falsification/thm_proof.ipynb\">proveit.logic.equality.contradiction_via_falsification</a></dt><dd><a class=\"ProveItLink\" href=\"../../../../../equality/__pv_it/theorems/b3cbb552118760d146be2d50fae012905e68c72d0/expr.ipynb\"><img src=\"../../../../../equality/__pv_it/theorems/b3cbb552118760d146be2d50fae012905e68c72d0/expr.png\" style=\"display:inline;vertical-align:middle;\" /></a></dd>"
      ],
      "text/plain": [
       "<IPython.core.display.HTML object>"
      ]
     },
     "metadata": {},
     "output_type": "display_data"
    },
    {
     "data": {
      "text/html": [
       "</dl>"
      ],
      "text/plain": [
       "<IPython.core.display.HTML object>"
      ]
     },
     "metadata": {},
     "output_type": "display_data"
    }
   ],
   "source": [
    "%dependencies negation_intro"
   ]
  }
 ],
 "metadata": {
  "kernelspec": {
   "display_name": "Python 3",
   "language": "python",
   "name": "python3"
  }
 },
 "nbformat": 4,
 "nbformat_minor": 0
}