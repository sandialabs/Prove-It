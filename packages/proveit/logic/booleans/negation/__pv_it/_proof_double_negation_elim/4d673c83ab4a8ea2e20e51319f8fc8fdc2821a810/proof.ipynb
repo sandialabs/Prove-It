{
 "cells": [
  {
   "cell_type": "markdown",
   "metadata": {},
   "source": [
    "Show the Proof\n",
    "========"
   ]
  },
  {
   "cell_type": "code",
   "execution_count": 1,
   "metadata": {},
   "outputs": [
    {
     "data": {
      "text/html": [
       "<table><tr><th>&nbsp;</th><th>step type</th><th>requirements</th><th>statement</th></tr>\n",
       "<tr><td><a name=\"proveit.logic.booleans.negation._proof_double_negation_elim.4d673c83ab4a8ea2e20e51319f8fc8fdc2821a810_step0\">0</a></td><td>generalization</td><td><a href=\"#proveit.logic.booleans.negation._proof_double_negation_elim.4d673c83ab4a8ea2e20e51319f8fc8fdc2821a810_step1\">1</a></td><td><span style=\"font-size:20px;\"> <a class=\"ProveItLink\" href=\"proof.ipynb\" style=\"text-decoration: none\">&nbsp;&#x22A2;&nbsp;&nbsp;</a><a class=\"ProveItLink\" href=\"../../theorems/c58ab01291b83ab048af8589a95d4fdb85aa794e0/expr.ipynb\"><img src=\"../../theorems/c58ab01291b83ab048af8589a95d4fdb85aa794e0/expr.png\" style=\"display:inline;vertical-align:middle;\" /></a></span></td></tr>\n",
       "<tr><td><a name=\"proveit.logic.booleans.negation._proof_double_negation_elim.4d673c83ab4a8ea2e20e51319f8fc8fdc2821a810_step1\">1</a></td><td>instantiation</td><td><a href=\"#proveit.logic.booleans.negation._proof_double_negation_elim.4d673c83ab4a8ea2e20e51319f8fc8fdc2821a810_step2\">2</a>, <a href=\"#proveit.logic.booleans.negation._proof_double_negation_elim.4d673c83ab4a8ea2e20e51319f8fc8fdc2821a810_step3\">3</a>, <a href=\"#proveit.logic.booleans.negation._proof_double_negation_elim.4d673c83ab4a8ea2e20e51319f8fc8fdc2821a810_step8\">8</a></td><td><span style=\"font-size:20px;\"><a class=\"ProveItLink\" href=\"../../theorems/8ef12b95cfe752515f471cf6fa68ec6d049458490/expr.ipynb\"><img src=\"../../theorems/8ef12b95cfe752515f471cf6fa68ec6d049458490/expr.png\" style=\"display:inline;vertical-align:middle;\" /></a> <a class=\"ProveItLink\" href=\"../ef76aa0376e992ec956f039477aafdd9d5e782810/proof.ipynb\" style=\"text-decoration: none\">&nbsp;&#x22A2;&nbsp;&nbsp;</a><a class=\"ProveItLink\" href=\"../../../../../../__pv_it/common/09585084922504426caf1db2ff588a23a0932a960/expr.ipynb\"><img src=\"../../../../../../__pv_it/common/09585084922504426caf1db2ff588a23a0932a960/expr.png\" style=\"display:inline;vertical-align:middle;\" /></a></span></td></tr>\n",
       "<tr><td>&nbsp;</td><td colspan=4 style=\"text-align:left\"><span style=\"font-size:20px;\"><a class=\"ProveItLink\" href=\"../../../../../../__pv_it/common/09585084922504426caf1db2ff588a23a0932a960/expr.ipynb\"><img src=\"../../../../../../__pv_it/common/09585084922504426caf1db2ff588a23a0932a960/expr.png\" style=\"display:inline;vertical-align:middle;\" /></a> : <a class=\"ProveItLink\" href=\"../../../../../../__pv_it/common/09585084922504426caf1db2ff588a23a0932a960/expr.ipynb\"><img src=\"../../../../../../__pv_it/common/09585084922504426caf1db2ff588a23a0932a960/expr.png\" style=\"display:inline;vertical-align:middle;\" /></a></span></td></tr><tr><td><a name=\"proveit.logic.booleans.negation._proof_double_negation_elim.4d673c83ab4a8ea2e20e51319f8fc8fdc2821a810_step2\">2</a></td><td>theorem</td><td></td><td><span style=\"font-size:20px;\"> <a class=\"ProveItLink\" href=\"../../../_theory_nbs_/proofs/double_negation_elim_lemma/thm_proof.ipynb\" style=\"text-decoration: none\">&nbsp;&#x22A2;&nbsp;&nbsp;</a><a class=\"ProveItLink\" href=\"../../theorems/a427462f8899f8227e2e33f72f4eda719ef6d48c0/expr.ipynb\"><img src=\"../../theorems/a427462f8899f8227e2e33f72f4eda719ef6d48c0/expr.png\" style=\"display:inline;vertical-align:middle;\" /></a></span></td></tr>\n",
       "<tr><td>&nbsp;</td><td colspan=4 style-\"text-align:left\"><a class=\"ProveItLink\" href=\"../../../_theory_nbs_/proofs/double_negation_elim_lemma/thm_proof.ipynb\">proveit.logic.booleans.negation.double_negation_elim_lemma</a></td></tr><tr><td><a name=\"proveit.logic.booleans.negation._proof_double_negation_elim.4d673c83ab4a8ea2e20e51319f8fc8fdc2821a810_step3\">3</a></td><td>instantiation</td><td><a href=\"#proveit.logic.booleans.negation._proof_double_negation_elim.4d673c83ab4a8ea2e20e51319f8fc8fdc2821a810_step5\">5</a>, <a href=\"#proveit.logic.booleans.negation._proof_double_negation_elim.4d673c83ab4a8ea2e20e51319f8fc8fdc2821a810_step4\">4</a></td><td><span style=\"font-size:20px;\"><a class=\"ProveItLink\" href=\"../../theorems/8ef12b95cfe752515f471cf6fa68ec6d049458490/expr.ipynb\"><img src=\"../../theorems/8ef12b95cfe752515f471cf6fa68ec6d049458490/expr.png\" style=\"display:inline;vertical-align:middle;\" /></a> <a class=\"ProveItLink\" href=\"../9e315f21c3423f8aadbcbddcd27845e7dc400a5e0/proof.ipynb\" style=\"text-decoration: none\">&nbsp;&#x22A2;&nbsp;&nbsp;</a><a class=\"ProveItLink\" href=\"../../theorems/9b36d7235130a6b592c97bb06e5078015c4aa29f0/expr.ipynb\"><img src=\"../../theorems/9b36d7235130a6b592c97bb06e5078015c4aa29f0/expr.png\" style=\"display:inline;vertical-align:middle;\" /></a></span></td></tr>\n",
       "<tr><td>&nbsp;</td><td colspan=4 style=\"text-align:left\"><span style=\"font-size:20px;\"><a class=\"ProveItLink\" href=\"../../../../../../__pv_it/common/09585084922504426caf1db2ff588a23a0932a960/expr.ipynb\"><img src=\"../../../../../../__pv_it/common/09585084922504426caf1db2ff588a23a0932a960/expr.png\" style=\"display:inline;vertical-align:middle;\" /></a> : <a class=\"ProveItLink\" href=\"../../../../../../__pv_it/common/09585084922504426caf1db2ff588a23a0932a960/expr.ipynb\"><img src=\"../../../../../../__pv_it/common/09585084922504426caf1db2ff588a23a0932a960/expr.png\" style=\"display:inline;vertical-align:middle;\" /></a></span></td></tr><tr><td><a name=\"proveit.logic.booleans.negation._proof_double_negation_elim.4d673c83ab4a8ea2e20e51319f8fc8fdc2821a810_step4\">4</a></td><td>instantiation</td><td><a href=\"#proveit.logic.booleans.negation._proof_double_negation_elim.4d673c83ab4a8ea2e20e51319f8fc8fdc2821a810_step5\">5</a>, <a href=\"#proveit.logic.booleans.negation._proof_double_negation_elim.4d673c83ab4a8ea2e20e51319f8fc8fdc2821a810_step6\">6</a></td><td><span style=\"font-size:20px;\"><a class=\"ProveItLink\" href=\"../../theorems/8ef12b95cfe752515f471cf6fa68ec6d049458490/expr.ipynb\"><img src=\"../../theorems/8ef12b95cfe752515f471cf6fa68ec6d049458490/expr.png\" style=\"display:inline;vertical-align:middle;\" /></a> <a class=\"ProveItLink\" href=\"../eb94fb12d0c447b1365cdc99b7fe68797b0fa9e80/proof.ipynb\" style=\"text-decoration: none\">&nbsp;&#x22A2;&nbsp;&nbsp;</a><a class=\"ProveItLink\" href=\"../../axioms/17c0164fb2929846c093a14e1eac9efc4bc02ac00/expr.ipynb\"><img src=\"../../axioms/17c0164fb2929846c093a14e1eac9efc4bc02ac00/expr.png\" style=\"display:inline;vertical-align:middle;\" /></a></span></td></tr>\n",
       "<tr><td>&nbsp;</td><td colspan=4 style=\"text-align:left\"><span style=\"font-size:20px;\"><a class=\"ProveItLink\" href=\"../../../../../../__pv_it/common/09585084922504426caf1db2ff588a23a0932a960/expr.ipynb\"><img src=\"../../../../../../__pv_it/common/09585084922504426caf1db2ff588a23a0932a960/expr.png\" style=\"display:inline;vertical-align:middle;\" /></a> : <a class=\"ProveItLink\" href=\"../../theorems/2d607b2877f5542a9baeaa9f0a7ccbda21f95e660/expr.ipynb\"><img src=\"../../theorems/2d607b2877f5542a9baeaa9f0a7ccbda21f95e660/expr.png\" style=\"display:inline;vertical-align:middle;\" /></a></span></td></tr><tr><td><a name=\"proveit.logic.booleans.negation._proof_double_negation_elim.4d673c83ab4a8ea2e20e51319f8fc8fdc2821a810_step5\">5</a></td><td>axiom</td><td></td><td><span style=\"font-size:20px;\"> <a class=\"ProveItLink\" href=\"../../../_theory_nbs_/axioms.ipynb#operand_is_bool\" style=\"text-decoration: none\">&nbsp;&#x22A2;&nbsp;&nbsp;</a><a class=\"ProveItLink\" href=\"../../axioms/9b3df63ea9b96f801a3dadc45f3be22470f1b8ac0/expr.ipynb\"><img src=\"../../axioms/9b3df63ea9b96f801a3dadc45f3be22470f1b8ac0/expr.png\" style=\"display:inline;vertical-align:middle;\" /></a></span></td></tr>\n",
       "<tr><td>&nbsp;</td><td colspan=4 style-\"text-align:left\"><a class=\"ProveItLink\" href=\"../../../_theory_nbs_/axioms.ipynb#operand_is_bool\">proveit.logic.booleans.negation.operand_is_bool</a></td></tr><tr><td><a name=\"proveit.logic.booleans.negation._proof_double_negation_elim.4d673c83ab4a8ea2e20e51319f8fc8fdc2821a810_step6\">6</a></td><td>instantiation</td><td><a href=\"#proveit.logic.booleans.negation._proof_double_negation_elim.4d673c83ab4a8ea2e20e51319f8fc8fdc2821a810_step7\">7</a>, <a href=\"#proveit.logic.booleans.negation._proof_double_negation_elim.4d673c83ab4a8ea2e20e51319f8fc8fdc2821a810_step8\">8</a></td><td><span style=\"font-size:20px;\"><a class=\"ProveItLink\" href=\"../../theorems/8ef12b95cfe752515f471cf6fa68ec6d049458490/expr.ipynb\"><img src=\"../../theorems/8ef12b95cfe752515f471cf6fa68ec6d049458490/expr.png\" style=\"display:inline;vertical-align:middle;\" /></a> <a class=\"ProveItLink\" href=\"../4ac79de83e82921f2e5aa84db6be394151b8f0e70/proof.ipynb\" style=\"text-decoration: none\">&nbsp;&#x22A2;&nbsp;&nbsp;</a><a class=\"ProveItLink\" href=\"../022b42c6db72da5feb30e64a42087a95845d0ff80/expr.ipynb\"><img src=\"../022b42c6db72da5feb30e64a42087a95845d0ff80/expr.png\" style=\"display:inline;vertical-align:middle;\" /></a></span></td></tr>\n",
       "<tr><td>&nbsp;</td><td colspan=4 style=\"text-align:left\"><span style=\"font-size:20px;\"><a class=\"ProveItLink\" href=\"../../../../../../__pv_it/common/09585084922504426caf1db2ff588a23a0932a960/expr.ipynb\"><img src=\"../../../../../../__pv_it/common/09585084922504426caf1db2ff588a23a0932a960/expr.png\" style=\"display:inline;vertical-align:middle;\" /></a> : <a class=\"ProveItLink\" href=\"../../theorems/8ef12b95cfe752515f471cf6fa68ec6d049458490/expr.ipynb\"><img src=\"../../theorems/8ef12b95cfe752515f471cf6fa68ec6d049458490/expr.png\" style=\"display:inline;vertical-align:middle;\" /></a></span></td></tr><tr><td><a name=\"proveit.logic.booleans.negation._proof_double_negation_elim.4d673c83ab4a8ea2e20e51319f8fc8fdc2821a810_step7\">7</a></td><td>theorem</td><td></td><td><span style=\"font-size:20px;\"> <a class=\"ProveItLink\" href=\"../../../../_theory_nbs_/proofs/in_bool_if_true/thm_proof.ipynb\" style=\"text-decoration: none\">&nbsp;&#x22A2;&nbsp;&nbsp;</a><a class=\"ProveItLink\" href=\"../../../../__pv_it/theorems/858f6fea2a9d198e3a6e9cbe3c54c9eff7cff4060/expr.ipynb\"><img src=\"../../../../__pv_it/theorems/858f6fea2a9d198e3a6e9cbe3c54c9eff7cff4060/expr.png\" style=\"display:inline;vertical-align:middle;\" /></a></span></td></tr>\n",
       "<tr><td>&nbsp;</td><td colspan=4 style-\"text-align:left\"><a class=\"ProveItLink\" href=\"../../../../_theory_nbs_/proofs/in_bool_if_true/thm_proof.ipynb\">proveit.logic.booleans.in_bool_if_true</a></td></tr><tr><td><a name=\"proveit.logic.booleans.negation._proof_double_negation_elim.4d673c83ab4a8ea2e20e51319f8fc8fdc2821a810_step8\">8</a></td><td>assumption</td><td></td><td><span style=\"font-size:20px;\"><a class=\"ProveItLink\" href=\"../../theorems/8ef12b95cfe752515f471cf6fa68ec6d049458490/expr.ipynb\"><img src=\"../../theorems/8ef12b95cfe752515f471cf6fa68ec6d049458490/expr.png\" style=\"display:inline;vertical-align:middle;\" /></a> <a class=\"ProveItLink\" href=\"../b579b74d022464fa9eb30f4733e7e3dec1a67afb0/proof.ipynb\" style=\"text-decoration: none\">&nbsp;&#x22A2;&nbsp;&nbsp;</a><a class=\"ProveItLink\" href=\"../../theorems/8ef12b95cfe752515f471cf6fa68ec6d049458490/expr.ipynb\"><img src=\"../../theorems/8ef12b95cfe752515f471cf6fa68ec6d049458490/expr.png\" style=\"display:inline;vertical-align:middle;\" /></a></span></td></tr>\n",
       "</table>"
      ],
      "text/plain": [
       "<proveit._core_.proof._ShowProof at 0x7f75e5cd0550>"
      ]
     },
     "execution_count": 1,
     "metadata": {},
     "output_type": "execute_result"
    }
   ],
   "source": [
    "import proveit\n",
    "# Automation is not needed when only showing a stored proof:\n",
    "proveit.defaults.automation = False # This will speed things up.\n",
    "proveit.defaults.inline_pngs = False # Makes files smaller.\n",
    "%show_proof"
   ]
  },
  {
   "cell_type": "code",
   "execution_count": null,
   "metadata": {},
   "outputs": [],
   "source": []
  }
 ],
 "metadata": {
  "kernelspec": {
   "display_name": "Python 3",
   "language": "python",
   "name": "python3"
  }
 },
 "nbformat": 4,
 "nbformat_minor": 0
}