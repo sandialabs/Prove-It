{
 "cells": [
  {
   "cell_type": "markdown",
   "metadata": {},
   "source": [
    "Axiom Dependencies\n",
    "=======================\n",
    "\n",
    "## <a class=\"ProveItLink\" href=\"../../../_theory_nbs_/theory.ipynb\">proveit.logic.booleans.negation</a>.<a class=\"ProveItLink\" href=\"../../../_axioms_.ipynb#operand_is_bool\">operand_is_bool</a> \n"
   ]
  },
  {
   "cell_type": "code",
   "execution_count": 1,
   "metadata": {},
   "outputs": [],
   "source": [
    "import proveit\n",
    "# Automation is not needed when querying dependencies:\n",
    "proveit.defaults.automation = False # This will speed things up.\n",
    "proveit.defaults.inline_pngs = False # Makes files smaller.\n",
    "from proveit.logic.booleans.negation import operand_is_bool"
   ]
  },
  {
   "cell_type": "code",
   "execution_count": 2,
   "metadata": {},
   "outputs": [
    {
     "data": {
      "text/html": [
       "<h3>Theorems/conjectures that depend directly on operand_is_bool</h3>"
      ],
      "text/plain": [
       "<IPython.core.display.HTML object>"
      ]
     },
     "metadata": {},
     "output_type": "display_data"
    },
    {
     "data": {
      "text/html": [
       "<dl>"
      ],
      "text/plain": [
       "<IPython.core.display.HTML object>"
      ]
     },
     "metadata": {},
     "output_type": "display_data"
    },
    {
     "data": {
      "text/html": [
       "<dt><a class=\"ProveItLink\" href=\"../../../../conjunction/_theory_nbs_/proofs/binary_closure/thm_proof.ipynb\">proveit.logic.booleans.conjunction.binary_closure</a></dt><dd><a class=\"ProveItLink\" href=\"../../../../conjunction/__pv_it/theorems/21a8b7f98abec2158517baa30c940bdb021de8790/expr.ipynb\"><img src=\"../../../../conjunction/__pv_it/theorems/21a8b7f98abec2158517baa30c940bdb021de8790/expr.png\" style=\"display:inline;vertical-align:middle;\" /></a></dd>"
      ],
      "text/plain": [
       "<IPython.core.display.HTML object>"
      ]
     },
     "metadata": {},
     "output_type": "display_data"
    },
    {
     "data": {
      "text/html": [
       "<dt><a class=\"ProveItLink\" href=\"../../../../conjunction/_theory_nbs_/proofs/falsified_and_if_not_right/thm_proof.ipynb\">proveit.logic.booleans.conjunction.falsified_and_if_not_right</a></dt><dd><a class=\"ProveItLink\" href=\"../../../../conjunction/__pv_it/theorems/e16aae2f975d931d3e2eb4a9a0c78b7c6b7ade480/expr.ipynb\"><img src=\"../../../../conjunction/__pv_it/theorems/e16aae2f975d931d3e2eb4a9a0c78b7c6b7ade480/expr.png\" style=\"display:inline;vertical-align:middle;\" /></a></dd>"
      ],
      "text/plain": [
       "<IPython.core.display.HTML object>"
      ]
     },
     "metadata": {},
     "output_type": "display_data"
    },
    {
     "data": {
      "text/html": [
       "<dt><a class=\"ProveItLink\" href=\"../../../../disjunction/_theory_nbs_/proofs/binary_closure/thm_proof.ipynb\">proveit.logic.booleans.disjunction.binary_closure</a></dt><dd><a class=\"ProveItLink\" href=\"../../../../disjunction/__pv_it/theorems/1cbf1dd6702357f58be729613e6504284ff9936a0/expr.ipynb\"><img src=\"../../../../disjunction/__pv_it/theorems/1cbf1dd6702357f58be729613e6504284ff9936a0/expr.png\" style=\"display:inline;vertical-align:middle;\" /></a></dd>"
      ],
      "text/plain": [
       "<IPython.core.display.HTML object>"
      ]
     },
     "metadata": {},
     "output_type": "display_data"
    },
    {
     "data": {
      "text/html": [
       "<dt><a class=\"ProveItLink\" href=\"../../../../disjunction/_theory_nbs_/proofs/demorgans_law_and_to_or_bin/thm_proof.ipynb\">proveit.logic.booleans.disjunction.demorgans_law_and_to_or_bin</a></dt><dd><a class=\"ProveItLink\" href=\"../../../../disjunction/__pv_it/theorems/9c1ccac74497eba97312a21a264471b52019d08a0/expr.ipynb\"><img src=\"../../../../disjunction/__pv_it/theorems/9c1ccac74497eba97312a21a264471b52019d08a0/expr.png\" style=\"display:inline;vertical-align:middle;\" /></a></dd>"
      ],
      "text/plain": [
       "<IPython.core.display.HTML object>"
      ]
     },
     "metadata": {},
     "output_type": "display_data"
    },
    {
     "data": {
      "text/html": [
       "<dt><a class=\"ProveItLink\" href=\"../../../../disjunction/_theory_nbs_/proofs/not_left_if_neither/thm_proof.ipynb\">proveit.logic.booleans.disjunction.not_left_if_neither</a></dt><dd><a class=\"ProveItLink\" href=\"../../../../disjunction/__pv_it/theorems/a3b9fc0294764745ee98c59c2bed4028a10501f10/expr.ipynb\"><img src=\"../../../../disjunction/__pv_it/theorems/a3b9fc0294764745ee98c59c2bed4028a10501f10/expr.png\" style=\"display:inline;vertical-align:middle;\" /></a></dd>"
      ],
      "text/plain": [
       "<IPython.core.display.HTML object>"
      ]
     },
     "metadata": {},
     "output_type": "display_data"
    },
    {
     "data": {
      "text/html": [
       "<dt><a class=\"ProveItLink\" href=\"../../../../disjunction/_theory_nbs_/proofs/not_right_if_neither/thm_proof.ipynb\">proveit.logic.booleans.disjunction.not_right_if_neither</a></dt><dd><a class=\"ProveItLink\" href=\"../../../../disjunction/__pv_it/theorems/0db750d8f6f1f1f2212dadc96a5752f814303a800/expr.ipynb\"><img src=\"../../../../disjunction/__pv_it/theorems/0db750d8f6f1f1f2212dadc96a5752f814303a800/expr.png\" style=\"display:inline;vertical-align:middle;\" /></a></dd>"
      ],
      "text/plain": [
       "<IPython.core.display.HTML object>"
      ]
     },
     "metadata": {},
     "output_type": "display_data"
    },
    {
     "data": {
      "text/html": [
       "<dt><a class=\"ProveItLink\" href=\"../../../../implication/_theory_nbs_/proofs/iff_closure/thm_proof.ipynb\">proveit.logic.booleans.implication.iff_closure</a></dt><dd><a class=\"ProveItLink\" href=\"../../../../implication/__pv_it/theorems/a4ffa6d29c1157c0c94e50a5f6d2897f5e9acc390/expr.ipynb\"><img src=\"../../../../implication/__pv_it/theorems/a4ffa6d29c1157c0c94e50a5f6d2897f5e9acc390/expr.png\" style=\"display:inline;vertical-align:middle;\" /></a></dd>"
      ],
      "text/plain": [
       "<IPython.core.display.HTML object>"
      ]
     },
     "metadata": {},
     "output_type": "display_data"
    },
    {
     "data": {
      "text/html": [
       "<dt><a class=\"ProveItLink\" href=\"../../../../implication/_theory_nbs_/proofs/implication_closure/thm_proof.ipynb\">proveit.logic.booleans.implication.implication_closure</a></dt><dd><a class=\"ProveItLink\" href=\"../../../../implication/__pv_it/theorems/cd9335192baff757d9f342ccaf7413444c1474cc0/expr.ipynb\"><img src=\"../../../../implication/__pv_it/theorems/cd9335192baff757d9f342ccaf7413444c1474cc0/expr.png\" style=\"display:inline;vertical-align:middle;\" /></a></dd>"
      ],
      "text/plain": [
       "<IPython.core.display.HTML object>"
      ]
     },
     "metadata": {},
     "output_type": "display_data"
    },
    {
     "data": {
      "text/html": [
       "<dt><a class=\"ProveItLink\" href=\"../../../../_theory_nbs_/proofs/in_bool_if_false/thm_proof.ipynb\">proveit.logic.booleans.in_bool_if_false</a></dt><dd><a class=\"ProveItLink\" href=\"../../../../__pv_it/theorems/a2b8a2e2dfd32d0bf3695b9c33787323fc46955c0/expr.ipynb\"><img src=\"../../../../__pv_it/theorems/a2b8a2e2dfd32d0bf3695b9c33787323fc46955c0/expr.png\" style=\"display:inline;vertical-align:middle;\" /></a></dd>"
      ],
      "text/plain": [
       "<IPython.core.display.HTML object>"
      ]
     },
     "metadata": {},
     "output_type": "display_data"
    },
    {
     "data": {
      "text/html": [
       "<dt><a class=\"ProveItLink\" href=\"../../../_theory_nbs_/proofs/double_negation_elim/thm_proof.ipynb\">proveit.logic.booleans.negation.double_negation_elim</a></dt><dd><a class=\"ProveItLink\" href=\"../../theorems/c58ab01291b83ab048af8589a95d4fdb85aa794e0/expr.ipynb\"><img src=\"../../theorems/c58ab01291b83ab048af8589a95d4fdb85aa794e0/expr.png\" style=\"display:inline;vertical-align:middle;\" /></a></dd>"
      ],
      "text/plain": [
       "<IPython.core.display.HTML object>"
      ]
     },
     "metadata": {},
     "output_type": "display_data"
    },
    {
     "data": {
      "text/html": [
       "<dt><a class=\"ProveItLink\" href=\"../../../../../../physics/quantum/QPE/_theory_nbs_/proofs/_best_guarantee_delta_nonzero/thm_proof.ipynb\">proveit.physics.quantum.QPE._best_guarantee_delta_nonzero</a></dt><dd><a class=\"ProveItLink\" href=\"../../../../../../physics/quantum/QPE/__pv_it/theorems/71aa283d054a9028fe068383446a7aec129884730/expr.ipynb\"><img src=\"../../../../../../physics/quantum/QPE/__pv_it/theorems/71aa283d054a9028fe068383446a7aec129884730/expr.png\" style=\"display:inline;vertical-align:middle;\" /></a></dd>"
      ],
      "text/plain": [
       "<IPython.core.display.HTML object>"
      ]
     },
     "metadata": {},
     "output_type": "display_data"
    },
    {
     "data": {
      "text/html": [
       "</dl>"
      ],
      "text/plain": [
       "<IPython.core.display.HTML object>"
      ]
     },
     "metadata": {},
     "output_type": "display_data"
    }
   ],
   "source": [
    "%dependencies operand_is_bool"
   ]
  }
 ],
 "metadata": {
  "kernelspec": {
   "display_name": "Python 3",
   "language": "python",
   "name": "python3"
  }
 },
 "nbformat": 4,
 "nbformat_minor": 0
}