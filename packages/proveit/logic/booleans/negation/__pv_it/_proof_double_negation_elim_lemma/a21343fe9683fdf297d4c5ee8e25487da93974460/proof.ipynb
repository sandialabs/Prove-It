{
 "cells": [
  {
   "cell_type": "markdown",
   "metadata": {},
   "source": [
    "Show the Proof\n",
    "========"
   ]
  },
  {
   "cell_type": "code",
   "execution_count": 1,
   "metadata": {},
   "outputs": [
    {
     "data": {
      "text/html": [
       "<table><tr><th>&nbsp;</th><th>step type</th><th>requirements</th><th>statement</th></tr>\n",
       "<tr><td><a name=\"proveit.logic.booleans.negation._proof_double_negation_elim_lemma.a21343fe9683fdf297d4c5ee8e25487da93974460_step0\">0</a></td><td>instantiation</td><td><a href=\"#proveit.logic.booleans.negation._proof_double_negation_elim_lemma.a21343fe9683fdf297d4c5ee8e25487da93974460_step1\">1</a>, <a href=\"#proveit.logic.booleans.negation._proof_double_negation_elim_lemma.a21343fe9683fdf297d4c5ee8e25487da93974460_step2\">2</a></td><td><span style=\"font-size:20px;\"> <a class=\"ProveItLink\" href=\"proof.ipynb\" style=\"text-decoration: none\">&nbsp;&#x22A2;&nbsp;&nbsp;</a><a class=\"ProveItLink\" href=\"../197b2c6fd043043704400fb2da5ac19828aa1dbd0/expr.ipynb\"><img src=\"../197b2c6fd043043704400fb2da5ac19828aa1dbd0/expr.png\" style=\"display:inline;vertical-align:middle;\" /></a></span></td></tr>\n",
       "<tr><td>&nbsp;</td><td colspan=4 style=\"text-align:left\"><span style=\"font-size:20px;\"><a class=\"ProveItLink\" href=\"../../../../../../__pv_it/common/09585084922504426caf1db2ff588a23a0932a960/expr.ipynb\"><img src=\"../../../../../../__pv_it/common/09585084922504426caf1db2ff588a23a0932a960/expr.png\" style=\"display:inline;vertical-align:middle;\" /></a> : <a class=\"ProveItLink\" href=\"../9a3c7c1fa3c282a3f1c9889099f32e287a69116d0/expr.ipynb\"><img src=\"../9a3c7c1fa3c282a3f1c9889099f32e287a69116d0/expr.png\" style=\"display:inline;vertical-align:middle;\" /></a>, <a class=\"ProveItLink\" href=\"../../../../../../__pv_it/common/a9162d1c3cc0470c02e5daf414500903a7a419230/expr.ipynb\"><img src=\"../../../../../../__pv_it/common/a9162d1c3cc0470c02e5daf414500903a7a419230/expr.png\" style=\"display:inline;vertical-align:middle;\" /></a> : <a class=\"ProveItLink\" href=\"../../../../__pv_it/common/e0f123f2e4f322e1eba7f861749cda9fd9d99a120/expr.ipynb\"><img src=\"../../../../__pv_it/common/e0f123f2e4f322e1eba7f861749cda9fd9d99a120/expr.png\" style=\"display:inline;vertical-align:middle;\" /></a></span></td></tr><tr><td><a name=\"proveit.logic.booleans.negation._proof_double_negation_elim_lemma.a21343fe9683fdf297d4c5ee8e25487da93974460_step1\">1</a></td><td>theorem</td><td></td><td><span style=\"font-size:20px;\"> <a class=\"ProveItLink\" href=\"../../../../implication/_theory_nbs_/proofs/falsified_antecedent_implication/thm_proof.ipynb\" style=\"text-decoration: none\">&nbsp;&#x22A2;&nbsp;&nbsp;</a><a class=\"ProveItLink\" href=\"../../../../implication/__pv_it/theorems/28929e1faa0d6cd913a00023d42a5ba1e5cedce10/expr.ipynb\"><img src=\"../../../../implication/__pv_it/theorems/28929e1faa0d6cd913a00023d42a5ba1e5cedce10/expr.png\" style=\"display:inline;vertical-align:middle;\" /></a></span></td></tr>\n",
       "<tr><td>&nbsp;</td><td colspan=4 style-\"text-align:left\"><a class=\"ProveItLink\" href=\"../../../../implication/_theory_nbs_/proofs/falsified_antecedent_implication/thm_proof.ipynb\">proveit.logic.booleans.implication.falsified_antecedent_implication</a></td></tr><tr><td><a name=\"proveit.logic.booleans.negation._proof_double_negation_elim_lemma.a21343fe9683fdf297d4c5ee8e25487da93974460_step2\">2</a></td><td>instantiation</td><td><a href=\"#proveit.logic.booleans.negation._proof_double_negation_elim_lemma.a21343fe9683fdf297d4c5ee8e25487da93974460_step3\">3</a>, <a href=\"#proveit.logic.booleans.negation._proof_double_negation_elim_lemma.a21343fe9683fdf297d4c5ee8e25487da93974460_step4\">4</a></td><td><span style=\"font-size:20px;\"> <a class=\"ProveItLink\" href=\"../f6745a461d3fa1aa0eab38f7065fa9e336ce5f130/proof.ipynb\" style=\"text-decoration: none\">&nbsp;&#x22A2;&nbsp;&nbsp;</a><a class=\"ProveItLink\" href=\"../7a6983770731bb7d2383243903079dd9cab68bb00/expr.ipynb\"><img src=\"../7a6983770731bb7d2383243903079dd9cab68bb00/expr.png\" style=\"display:inline;vertical-align:middle;\" /></a></span></td></tr>\n",
       "<tr><td>&nbsp;</td><td colspan=4 style=\"text-align:left\"><span style=\"font-size:20px;\"><a class=\"ProveItLink\" href=\"../../../../../../__pv_it/common/09585084922504426caf1db2ff588a23a0932a960/expr.ipynb\"><img src=\"../../../../../../__pv_it/common/09585084922504426caf1db2ff588a23a0932a960/expr.png\" style=\"display:inline;vertical-align:middle;\" /></a> : <a class=\"ProveItLink\" href=\"../../axioms/446a01d9a7ebef169028057d3b157d31652390170/expr.ipynb\"><img src=\"../../axioms/446a01d9a7ebef169028057d3b157d31652390170/expr.png\" style=\"display:inline;vertical-align:middle;\" /></a></span></td></tr><tr><td><a name=\"proveit.logic.booleans.negation._proof_double_negation_elim_lemma.a21343fe9683fdf297d4c5ee8e25487da93974460_step3\">3</a></td><td>theorem</td><td></td><td><span style=\"font-size:20px;\"> <a class=\"ProveItLink\" href=\"../../../_theory_nbs_/proofs/double_negation_intro/thm_proof.ipynb\" style=\"text-decoration: none\">&nbsp;&#x22A2;&nbsp;&nbsp;</a><a class=\"ProveItLink\" href=\"../../theorems/0b22d68afd7bfc707f054cfbe8b4e2370c2f148f0/expr.ipynb\"><img src=\"../../theorems/0b22d68afd7bfc707f054cfbe8b4e2370c2f148f0/expr.png\" style=\"display:inline;vertical-align:middle;\" /></a></span></td></tr>\n",
       "<tr><td>&nbsp;</td><td colspan=4 style-\"text-align:left\"><a class=\"ProveItLink\" href=\"../../../_theory_nbs_/proofs/double_negation_intro/thm_proof.ipynb\">proveit.logic.booleans.negation.double_negation_intro</a></td></tr><tr><td><a name=\"proveit.logic.booleans.negation._proof_double_negation_elim_lemma.a21343fe9683fdf297d4c5ee8e25487da93974460_step4\">4</a></td><td>theorem</td><td></td><td><span style=\"font-size:20px;\"> <a class=\"ProveItLink\" href=\"../../../_theory_nbs_/proofs/not_false/thm_proof.ipynb\" style=\"text-decoration: none\">&nbsp;&#x22A2;&nbsp;&nbsp;</a><a class=\"ProveItLink\" href=\"../../axioms/446a01d9a7ebef169028057d3b157d31652390170/expr.ipynb\"><img src=\"../../axioms/446a01d9a7ebef169028057d3b157d31652390170/expr.png\" style=\"display:inline;vertical-align:middle;\" /></a></span></td></tr>\n",
       "<tr><td>&nbsp;</td><td colspan=4 style-\"text-align:left\"><a class=\"ProveItLink\" href=\"../../../_theory_nbs_/proofs/not_false/thm_proof.ipynb\">proveit.logic.booleans.negation.not_false</a></td></tr></table>"
      ],
      "text/plain": [
       "<proveit._core_.proof._ShowProof at 0x7ff9d84eb438>"
      ]
     },
     "execution_count": 1,
     "metadata": {},
     "output_type": "execute_result"
    }
   ],
   "source": [
    "import proveit\n",
    "# Automation is not needed when only showing a stored proof:\n",
    "proveit.defaults.automation = False # This will speed things up.\n",
    "proveit.defaults.inline_pngs = False # Makes files smaller.\n",
    "%show_proof"
   ]
  },
  {
   "cell_type": "code",
   "execution_count": null,
   "metadata": {},
   "outputs": [],
   "source": []
  }
 ],
 "metadata": {
  "kernelspec": {
   "display_name": "Python 3",
   "language": "python",
   "name": "python3"
  }
 },
 "nbformat": 4,
 "nbformat_minor": 0
}