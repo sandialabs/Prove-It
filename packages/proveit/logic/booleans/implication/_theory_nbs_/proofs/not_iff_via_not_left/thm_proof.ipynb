{
 "cells": [
  {
   "cell_type": "markdown",
   "metadata": {},
   "source": [
    "Proof of <a class=\"ProveItLink\" href=\"../../../../../../_theory_nbs_/theory.ipynb\">proveit</a>.<a class=\"ProveItLink\" href=\"../../../../../_theory_nbs_/theory.ipynb\">logic</a>.<a class=\"ProveItLink\" href=\"../../../../_theory_nbs_/theory.ipynb\">booleans</a>.<a class=\"ProveItLink\" href=\"../../theory.ipynb\">implication</a>.<a class=\"ProveItLink\" href=\"../../theorems.ipynb#not_iff_via_not_left\">not_iff_via_not_left</a> theorem\n",
    "========"
   ]
  },
  {
   "cell_type": "code",
   "execution_count": 1,
   "metadata": {},
   "outputs": [],
   "source": [
    "import proveit\n",
    "theory = proveit.Theory() # the theorem's theory"
   ]
  },
  {
   "cell_type": "code",
   "execution_count": 2,
   "metadata": {},
   "outputs": [
    {
     "data": {
      "text/html": [
       "With these <a href=\"allowed_presumptions.txt\">allowed</a>/<a href=\"disallowed_presumptions.txt\">disallowed</a> theorem/theory presumptions (e.g., to avoid circular dependencies), we begin our proof of<br><strong id=\"not_iff_via_not_left\">not_iff_via_not_left:</strong> <a class=\"ProveItLink\" href=\"../../../__pv_it/theorems/5c69d3c059a1ba9f33cc5017496d0e7a404860820/expr.ipynb\"><img src=\"data:image/png;base64,iVBORw0KGgoAAAANSUhEUgAAAN8AAAAXBAMAAAB5bIfGAAAAMFBMVEX///8AAAAAAAAAAAAAAAAA\n",
       "AAAAAAAAAAAAAAAAAAAAAAAAAAAAAAAAAAAAAAAAAAAv3aB7AAAAD3RSTlMAq1RmmUTNIjK7EInv\n",
       "3XZ/CtNrAAAACXBIWXMAAA7EAAAOxAGVKw4bAAAC5ElEQVRIx7VWS2hTQRQ9+TSflzQmIEUQSUBw\n",
       "48IsiuBCDWjFUsSgm1JEIyJiNrYgXamJyy6kQQSNSJuVUFCpbkSyMK2Iih9C6aILA0EXIohtbWlF\n",
       "wTpz7zRM3nsk4UEHTuZz5s25c++dmQCOi1/vDLedPtzRrFbli9aOJKgabTH9rEJUdnY70HNPa529\n",
       "XF2xm3hgIxa7nEckCUKfHLvkQPCh1jYybMOG7cx3gOs3kAXhpoxGwYHgEa3tTXIVtwuS/x/QtQr0\n",
       "guArAaGEA8GK1g5z9fxlXg2IHQeiqu0Ru/MI0XCJ4BHG+ZyEMKN19vBW6ovKchkr3FOka0kovBFI\n",
       "Mj7Wau8dCHr1nBngIexj12KMglxS2y/A2CW2HooyjgP3iSiZVmzumliytVEu0O8pjLMVgQ81UT5n\n",
       "mRyf+NkjJ3syjBH4ydvGWzZutdxPkQg2rW9m0S28d0KuOy86czSUQo7j9p2tG2MHLw7D/UoGocII\n",
       "lkJpOR76xSGuIlKxCppZhNOKGRF4TYG7czRO6f5IpYsxQ9UDAZlNgSWGu845M/iJQ5yCZ8kqaGZt\n",
       "BJ8A26qUPDuZGWUHLwscroujUWEgc4jG6+d5oQQeJ62CZpZc2hCcY4+im3fvqVFZ4ICuiJ+4MM9d\n",
       "ZeAZBTeCY8TnvvbugEXQwiJYV9RVgQmBLpn1vHs64/DxLRBZF6Jr0owCA9fI5YP4QfxBGNs1wRfF\n",
       "YrFqw1KCN8pTuYz8Zl0dPenvPpXOYtdnsuog0WFyUdoNlOOUW2K9XLp5h1EbFoGqJngLmNrIwj25\n",
       "Nt24W9V96ZpcjvXcpiCkGZs+Q46EZ4FzebOglQUWNMHuvM3jZz651xW4nBYpljCm4f8DY94Uw5QN\n",
       "q+K0eV2mOrztGze+dwbGyYuBWez/W+5PmJPGhhW8/jLc7eAPQsHmWXJr7aD1vm6+e/SPp9oLSgOD\n",
       "5udrqKXgUHP3hm5+va3gN4WmkmwpmMSWFv/WLPsfxQ/Ayuy7ezcAAAAASUVORK5CYII=\n",
       "\" style=\"display:inline;vertical-align:middle;\" /></a><br>(see <a class=\"ProveItLink\" href=\"../../../__pv_it/theorems/57f1bdbc8c4800f7499882a5af1c77d90dff9d200/dependencies.ipynb\">dependencies</a>)<br>"
      ],
      "text/plain": [
       "<IPython.core.display.HTML object>"
      ]
     },
     "metadata": {},
     "output_type": "display_data"
    },
    {
     "name": "stdout",
     "output_type": "stream",
     "text": [
      "not_iff_via_not_left may now be readily provable (assuming required theorems are usable).  Simply execute \"%qed\".\n"
     ]
    }
   ],
   "source": [
    "%proving not_iff_via_not_left"
   ]
  },
  {
   "cell_type": "code",
   "execution_count": null,
   "metadata": {},
   "outputs": [],
   "source": []
  }
 ],
 "metadata": {
  "kernelspec": {
   "display_name": "Python 3",
   "language": "python",
   "name": "python3"
  }
 },
 "nbformat": 4,
 "nbformat_minor": 0
}