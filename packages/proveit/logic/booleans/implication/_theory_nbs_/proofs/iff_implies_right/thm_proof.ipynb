{
 "cells": [
  {
   "cell_type": "markdown",
   "metadata": {},
   "source": [
    "Proof of <a class=\"ProveItLink\" href=\"../../../../../../_theory_nbs_/theory.ipynb\">proveit</a>.<a class=\"ProveItLink\" href=\"../../../../../_theory_nbs_/theory.ipynb\">logic</a>.<a class=\"ProveItLink\" href=\"../../../../_theory_nbs_/theory.ipynb\">booleans</a>.<a class=\"ProveItLink\" href=\"../../theory.ipynb\">implication</a>.<a class=\"ProveItLink\" href=\"../../theorems.ipynb#iff_implies_right\">iff_implies_right</a> theorem\n",
    "========"
   ]
  },
  {
   "cell_type": "code",
   "execution_count": 1,
   "metadata": {},
   "outputs": [],
   "source": [
    "import proveit\n",
    "from proveit import A, B\n",
    "from proveit.logic.booleans.implication  import iff_def\n",
    "from proveit.logic.booleans.conjunction import left_from_and\n",
    "from proveit.logic.equality import rhs_via_equality\n",
    "theory = proveit.Theory() # the theorem's theory"
   ]
  },
  {
   "cell_type": "code",
   "execution_count": 2,
   "metadata": {},
   "outputs": [
    {
     "data": {
      "text/html": [
       "With these <a href=\"allowed_presumptions.txt\">allowed</a>/<a href=\"disallowed_presumptions.txt\">disallowed</a> theorem/theory presumptions (e.g., to avoid circular dependencies), we begin our proof of<br><strong id=\"iff_implies_right\">iff_implies_right:</strong> <a class=\"ProveItLink\" href=\"../../../__pv_it/theorems/d5ad2bca86b0b48c0cb4909a5ce2e048ac1c02250/expr.ipynb\"><img src=\"data:image/png;base64,iVBORw0KGgoAAAANSUhEUgAAAMEAAAAXBAMAAABACzadAAAAMFBMVEX///8AAAAAAAAAAAAAAAAA\n",
       "AAAAAAAAAAAAAAAAAAAAAAAAAAAAAAAAAAAAAAAAAAAv3aB7AAAAD3RSTlMAq1RmmUTNIjK7EInv\n",
       "3XZ/CtNrAAAACXBIWXMAAA7EAAAOxAGVKw4bAAAC2UlEQVRIx61VTWgTQRR+yWazu5N220ARe8qC\n",
       "p4JgwOKtmmD9KS0Y8VI82KqI2AZaL17Udj0KQosHabxkC+LJQJTecrAWFEWUgCI9WFjtQQTRVtva\n",
       "H2x9M7O7maYJqRsHZuftzLz3vfe+t28B6hhKzRvDUN/4zHH6q984h7OZCvt8AQTzbAkvVDiTsovR\n",
       "PROgxwGO0ffLvhAe8uVAJQRoGAeImTAAcIvGOe4L4Shfkr8rHY7aAH0JaMcYLYCI4Qthmj0j11dL\n",
       "W/c96YiJ04YGCyTMVNgfDZzhEf1nae+2J8VwpochjObfzM299oUQ4kQngr8EgvOu9ApgchYjxEo6\n",
       "6cZmlRlwBVIFgboHIBvqBrs+x8aSc6iuff90kUJioFdBYRVLXvI4lwpdJhU019Ijs2RVzXZPTThy\n",
       "o8EdURbF1F3gq47070cXgkiWZkVSjDGeTqkI+vQ2hKdiHXQAfHPrkal97UyubSvh52zR0EYES0DF\n",
       "Ug7anOjet2wJJEBaEBHkO1h3JAEKS3ELVoiIQPDwj9hIBnmjaMK8SJuoTb3tP8z27PNcz4BcXETQ\n",
       "w3g5gHon6NsMkHdilihbHwUePjidaAxtBJbR/yK+PBlghuA4/1Lm2/eCiGCHkKyeTCaTRj6UzYNJ\n",
       "lxYN3YczOIdKIcjut/sDkcZQUaIbNxjRvU5+O4C0iAiyibScZlR0WpSlyYRjhBaiQpOQLXXQa66Q\n",
       "Rs0XllPSAeZUdyFmOYkeTQkIocLjdWhlR20pypKy7NZVEUh2xYK2rUEPwa2z1q1o9Ap1qzHlHulo\n",
       "2OSJhj6xWm1QVkHFJGXuxRlLstckZnfxP7jpSZjPJoPkQVkH8l7IkoxmsYxzKM5TlizIuVmiXW23\n",
       "3RFz8QzIqUvqDBzaKHQZAkJPMzxYSdFfAUHOpKHC1F1PW6v9B9vRtYOCrJWFT6xydVK76e9w4mxV\n",
       "hIpjpOaNL+Ub8X9DqHMo/8nOX6sbraAN193PAAAAAElFTkSuQmCC\n",
       "\" style=\"display:inline;vertical-align:middle;\" /></a><br>(see <a class=\"ProveItLink\" href=\"../../../__pv_it/theorems/ccfec81b8b54fa88ae4b688683e94e7d6d338a640/dependencies.ipynb\">dependencies</a>)<br>"
      ],
      "text/plain": [
       "<IPython.core.display.HTML object>"
      ]
     },
     "metadata": {},
     "output_type": "display_data"
    }
   ],
   "source": [
    "%proving iff_implies_right"
   ]
  },
  {
   "cell_type": "code",
   "execution_count": 3,
   "metadata": {},
   "outputs": [
    {
     "data": {
      "text/html": [
       "<span style=\"font-size:20px;\"> <a class=\"ProveItLink\" href=\"../../axioms.ipynb#iff_def\" style=\"text-decoration: none\">&nbsp;&#x22A2;&nbsp;&nbsp;</a><a class=\"ProveItLink\" href=\"../../../__pv_it/axioms/58a59ea31f5a83ad01737244ae60b8d4dd112afb0/expr.ipynb\"><img src=\"data:image/png;base64,iVBORw0KGgoAAAANSUhEUgAAAXkAAAAWBAMAAADX+PE1AAAAMFBMVEX///8AAAAAAAAAAAAAAAAA\n",
       "AAAAAAAAAAAAAAAAAAAAAAAAAAAAAAAAAAAAAAAAAAAv3aB7AAAAD3RSTlMAq1RmmUTNIjK7EInv\n",
       "3XZ/CtNrAAAACXBIWXMAAA7EAAAOxAGVKw4bAAAD3klEQVRYw9WWTUhUURTHjzOj83zjvBQq2oRC\n",
       "EYSLJpAgohr7IpFIamMRZUVIGTRuhCizlkGRRFBE6KwEoULduHCRGn0RxRDhqqEBFxFEmYlWUtO9\n",
       "95xz38ybO80wuekPfxzfub/3zr333A+AvypGLtxqqcjimKLe7tShhbr+0uzo0pHE5FOwDRl2tXy4\n",
       "Jk/jerLQOVN8c7qm5vRlcCJLRta7MZMqZkAx7N3yYbs5ebsNLeRLG1u8ACj7DnDmn8kRl9MxgzaI\n",
       "7BVDviLno9ecfSCClj9rTWUW/A1QPgfQ8K+kPeVyOmZQ4wIgQ66IA4TyFFsVWWj0EU1lBWCPlfxi\n",
       "hPziW1XxIkipu3lIZ2OL5nSMVOm+PHRBTolkyP4IZmTSOrIYjtQX6uG0fB/nUyYmsuKZcKQIUuoq\n",
       "mMmw1as5HSNZbmVccmYBGfarZPJlnuybyWJGYUPEfZXN1VrVC/Zq0ZVQdWESh3zITNbT0mvOjLG2\n",
       "6F9R3zdAhr2X5zOek/1JMsABuIHfvSY6m0w+pbY3+j6vlLn55WILJJWqzSRFuZyzSLltrNVf1DGA\n",
       "fYp5HyWovM5aJIbdCUH1Qfs5zu3cWBP3+w1ZdBp6VCMHO2rdxAZfYuB7LPeVcU+/c0mS74SJtKoh\n",
       "HGdOx9w6pNoLQPArMezKeEitmNAszm0CHM7lCRmcW7tqVclMUOQ+ZnRPWC5Ka8aTfQ6pNfDEQJaJ\n",
       "nT/FnI65++9ZXNMfdzX+AGTYvhQu2tbXuJyi4J/x5vAQYFlC/ujE+gl2YAM5EtvFZ8vH82WvSd4p\n",
       "O2IGckBkmNDZc0yraxQ7IZ79AmTY0LZNxVLHcTnVwYOId/5F4YUxwa1YvjgyllxDtWJcfAlP3eeS\n",
       "FJ2KGUh1Vu1gTse47pPtXDgA7wAZNoyoHcSBPapJz3TDKu5zH7k8gme0LKxoxtnsiLPDmpdPvced\n",
       "gcR112skE3wd6suMsQ7R34N07ZAMGy6q0WqFTzi4YC9nbJh8Ue7xC/hshRyEFjq5xKgekX0PDHmy\n",
       "N5GZN7Zs0p/iQ2Q4M5ZxM1N/5Rz2x5BhyyUjd9qxWrXqReo9lBxcRw+mz4Cvfx4zFCUK5+nE6f9a\n",
       "s1LtPuEWT/YmUuqOkSyTX7ZSyLgxPmuxTO3++TisT3cgw6apFEmrVpMAx3i9hy+jsy4o8kXeg6Hb\n",
       "+8BEGm/v3blczpXIxHRnsaKmltXZQxD8CfZbfTJGudALaKf3Qalk0czOTDYwAfb+U9YkbFoca3Lv\n",
       "JbfJBWS4o5ZKFsmws+Tz/D9ILqDK3DtwqWSRDDtLh73dTKEL6INhgEoki2Q+mNgI/F/6A9dMcbXF\n",
       "hKa/AAAAAElFTkSuQmCC\n",
       "\" style=\"display:inline;vertical-align:middle;\" /></a></span>"
      ],
      "text/plain": [
       "|- forall_{A, B} ((A <=> B) = ((A => B) and (B => A)))"
      ]
     },
     "metadata": {},
     "output_type": "display_data"
    }
   ],
   "source": [
    "iff_def"
   ]
  },
  {
   "cell_type": "code",
   "execution_count": 4,
   "metadata": {},
   "outputs": [
    {
     "data": {
      "text/html": [
       "<strong id=\"iff_def_spec\">iff_def_spec:</strong> <span style=\"font-size:20px;\"> <a class=\"ProveItLink\" href=\"../../../__pv_it/_proof_iff_implies_right/b7aba8a005f5ba408b795ab73886a80c28ee71c20/proof.ipynb\" style=\"text-decoration: none\">&nbsp;&#x22A2;&nbsp;&nbsp;</a><a class=\"ProveItLink\" href=\"../../../__pv_it/axioms/6a1fb7a4625d5d14b9fb08d72f3e6598f52293a40/expr.ipynb\"><img src=\"data:image/png;base64,iVBORw0KGgoAAAANSUhEUgAAATEAAAAVBAMAAADcAcTPAAAAMFBMVEX///8AAAAAAAAAAAAAAAAA\n",
       "AAAAAAAAAAAAAAAAAAAAAAAAAAAAAAAAAAAAAAAAAAAv3aB7AAAAD3RSTlMAInZUiRDNmWbv3US7\n",
       "qzJazP2FAAAACXBIWXMAAA7EAAAOxAGVKw4bAAADwUlEQVRIx5VWX0iTURQ/2/zmnNvnkAiKwGUv\n",
       "PRTuQQwjcNJzNHoQAgMlBYWgQYJSCHuIfDG0h6KwYCAIGpnUS0LQMiJ6SR/Ch0i2ZxHWPzRKXeee\n",
       "c+/9rt8+mztwuNs993fP755z7rkfAMSgknit8EmtFlnZm0+t8ifo/+H/rH3hMXdCKu7UUwVSettX\n",
       "kEZ9XOJaeeq617rx0tratQL4M2WWQJIVJfjNAxla3llb/VSObHVsniJonATCWXziQMlz4WOA6C5A\n",
       "f5mhSypKhxczqMsB5AsaeZ4H9iZtHkI0ginyWMunqs17FtMPDO4WwFiZZUQqyuh3Lx9NmJM3aYW0\n",
       "Znhkb9LmIUQjlCaPdTzVeVGdAU9lr6icYLxCyK4u5d5iUipAzaFdZ/q9/jWB+03EFdJ/d4Ejadqk\n",
       "RIzNmcZ98tjGwYm3yNKkylBFEMVEBe+hussl0MOK0uj/6cxv6F951MGYQobtHI1tpk2KNBk0Bsjj\n",
       "EEcROjLG3l0pXSzWFzxFzYo76klWlHTgt1H4SaNCr8xrZCv00jhk2pTcdrZlGhcIN0BTL6HIe9qP\n",
       "5lBmZeEWl5pXxdIQheemMM09o/uYUYGsT9i/aFMyzm2pQGw3nx7QSOR1hsYB06Z2fK5LTtK4Q7hp\n",
       "Pjg08eFOcbQ2OLctMQg8FMmbdMUsnGAVx/TtmGm+KosCr0V7RiGxcMO08bRp09Kmmpyk0U64KVr7\n",
       "YThP2b4s02Y9oeEjqqhJ290Y6hZY8SjDo9t72skUlzUyqtlVyCj2RKr4KdOmxRrk+6FoFAlHay8B\n",
       "NGSpBD/LVsy5FdEQl6h+cj9mFlr/mH2mjyu7YYVvNSOx81lZzUzZnMbfyaOisUi4aY4ihNl5iMuF\n",
       "69MWtZ1HAoGsq850NmtRZ406m5FXrojZiv5VSNFnb+hsKpvaca5XJ5NpnCXckqjijPPGUGsMxnSx\n",
       "2JuCb84Vs0icFV7tfdjq1UKsUCj2KGRWPcxLpk3JawVWNMYJhzcUjghfspNHRY5u8e8gHmCxH3SD\n",
       "cEQ0A6E+ccTlmPkgswyiowcpiQyJM0QK3A8cmyoARVLTGCLcOkB3qR8Cy5tJ/bL5+ORR8fK+o+Qt\n",
       "uJjZWVJreTMF50p9el616K/iUyChkFFBwxb01k2bir98fRwaTwkXLnh8QLkfo6NlD9y81EpfXy5k\n",
       "uOD9PbZ3Iku4UBoqy0jZzBh4vfMVkQfyJp59gXtbeakvVzYVibFWizyANzgmcd2Vl3pQsHKs1SIP\n",
       "4E2wJ5wvXnHpcY+5RqlVIg/gzR8j3D/+Yyt9amQ6tAAAAABJRU5ErkJggg==\n",
       "\" style=\"display:inline;vertical-align:middle;\" /></a></span><br>"
      ],
      "text/plain": [
       "<IPython.core.display.HTML object>"
      ]
     },
     "metadata": {},
     "output_type": "display_data"
    }
   ],
   "source": [
    "iff_def_spec = iff_def.instantiate({A:A, B:B})"
   ]
  },
  {
   "cell_type": "code",
   "execution_count": 5,
   "metadata": {},
   "outputs": [
    {
     "data": {
      "text/html": [
       "<span style=\"font-size:20px;\"><a class=\"ProveItLink\" href=\"../../../__pv_it/axioms/354ec164e0e28f03ef1fb1858764e0da4a36a45b0/expr.ipynb\"><img src=\"data:image/png;base64,iVBORw0KGgoAAAANSUhEUgAAAEAAAAAQBAMAAABUyWQaAAAAMFBMVEX///8AAAAAAAAAAAAAAAAA\n",
       "AAAAAAAAAAAAAAAAAAAAAAAAAAAAAAAAAAAAAAAAAAAv3aB7AAAAD3RSTlMAIs1UmauJMnZmRLsQ\n",
       "3e++988cAAAACXBIWXMAAA7EAAAOxAGVKw4bAAABEklEQVQoz2NgAAEhBgJAH5vg7P+hodoFYCbz\n",
       "f6zaXjMwsH4Hs1jiBbDIM/5gYOD6AmYm5hdABRUYGNgDoGxOoG7OH2ClDf0GEDGOCUBiO1QB6wcG\n",
       "BqaHYBsY7CdAxKpBxKEDEA7fBgaeWLDRixnqE8BC7O/uAsE9HYiC+h0dQRCNDgzyEHu7IXqrIRb2\n",
       "CzAwvwRbvMUlfgOIcQ7qPJ6nYGofEINdf4KBgf8C2LFhEAVCEAu/AvH8BrANDLwPIB67CwbXIQ76\n",
       "CSTiFwDDAugQpg8QvVNABBMk1Dg+AhV9AjLkgJj7I9TrQA0MXhA2E9DUdUAPnf6vw8C8/xPEWh5g\n",
       "SDJugKjd/zU0aDNG+INMP4AiAgCe/UbsFJCeOgAAAABJRU5ErkJggg==\n",
       "\" style=\"display:inline;vertical-align:middle;\" /></a> <a class=\"ProveItLink\" href=\"../../../__pv_it/_proof_iff_implies_right/f9e3622a4e3bcd20893f72e041362a3488b6850c0/proof.ipynb\" style=\"text-decoration: none\">&nbsp;&#x22A2;&nbsp;&nbsp;</a><a class=\"ProveItLink\" href=\"../../../__pv_it/axioms/d78c7a0a66f0f0f40e69d505fb93268ea9af46dc0/expr.ipynb\"><img src=\"data:image/png;base64,iVBORw0KGgoAAAANSUhEUgAAAEAAAAAQBAMAAABUyWQaAAAAMFBMVEX///8AAAAAAAAAAAAAAAAA\n",
       "AAAAAAAAAAAAAAAAAAAAAAAAAAAAAAAAAAAAAAAAAAAv3aB7AAAAD3RSTlMAIs1UmauJMnZmRLsQ\n",
       "3e++988cAAAACXBIWXMAAA7EAAAOxAGVKw4bAAAA8UlEQVQoz2NgAAEhBgJAH5vg7P+hodoFYCbz\n",
       "f6zaXjMwsH4Hs1jiBbDIM/5gYOD6AmYm5hcgxPfAGJxA3Zw/wEob+g0QCqphDNYPDAxMD8E2MNhP\n",
       "QCjgTIAy+DYw8MSCjV7MUA8WZLkLBl+gCup3dARBNDowyAcgOY5ZGUL3CzAwvwQxOLa4xG9Adv6h\n",
       "V2BqHxCDXX+CgYH/ArL31CCe/grE8xvANjDwPkBywyWIPPtPIBG/ABgWQIcwfUAYwAW1juMjUNEn\n",
       "IEMOiLk/IhTAIo4JaOo6HQaG0/91GJj3f0qAK9gODab9X0ODNmOLIrRoAQDyg0EOXpubEgAAAABJ\n",
       "RU5ErkJggg==\n",
       "\" style=\"display:inline;vertical-align:middle;\" /></a></span>"
      ],
      "text/plain": [
       "{A <=> B} |- A => B"
      ]
     },
     "metadata": {},
     "output_type": "display_data"
    },
    {
     "name": "stdout",
     "output_type": "stream",
     "text": [
      "iff_implies_right may now be readily provable (assuming required theorems are usable).  Simply execute \"%qed\".\n"
     ]
    }
   ],
   "source": [
    "iff_def_spec.derive_right_via_equality(\n",
    "    assumptions=iff_implies_right.conditions).derive_left()"
   ]
  },
  {
   "cell_type": "code",
   "execution_count": 6,
   "metadata": {},
   "outputs": [
    {
     "name": "stdout",
     "output_type": "stream",
     "text": [
      "proveit.logic.booleans.implication.iff_implies_right has been proven.\n"
     ]
    },
    {
     "data": {
      "text/html": [
       "<table><tr><th>&nbsp;</th><th>step type</th><th>requirements</th><th>statement</th></tr>\n",
       "<tr><td><a name=\"0xeef58d05622a4aa_step0\">0</a></td><td>generalization</td><td><a href=\"#0xeef58d05622a4aa_step1\">1</a></td><td><span style=\"font-size:20px;\"> <a class=\"ProveItLink\" href=\"../../../__pv_it/_proof_iff_implies_right/3ea25b5bf6f890061f6257456a5c259d122ceb180/proof.ipynb\" style=\"text-decoration: none\">&nbsp;&#x22A2;&nbsp;&nbsp;</a><a class=\"ProveItLink\" href=\"../../../__pv_it/theorems/d5ad2bca86b0b48c0cb4909a5ce2e048ac1c02250/expr.ipynb\"><img src=\"data:image/png;base64,iVBORw0KGgoAAAANSUhEUgAAAMEAAAAXBAMAAABACzadAAAAMFBMVEX///8AAAAAAAAAAAAAAAAA\n",
       "AAAAAAAAAAAAAAAAAAAAAAAAAAAAAAAAAAAAAAAAAAAv3aB7AAAAD3RSTlMAq1RmmUTNIjK7EInv\n",
       "3XZ/CtNrAAAACXBIWXMAAA7EAAAOxAGVKw4bAAAC2UlEQVRIx61VTWgTQRR+yWazu5N220ARe8qC\n",
       "p4JgwOKtmmD9KS0Y8VI82KqI2AZaL17Udj0KQosHabxkC+LJQJTecrAWFEWUgCI9WFjtQQTRVtva\n",
       "H2x9M7O7maYJqRsHZuftzLz3vfe+t28B6hhKzRvDUN/4zHH6q984h7OZCvt8AQTzbAkvVDiTsovR\n",
       "PROgxwGO0ffLvhAe8uVAJQRoGAeImTAAcIvGOe4L4Shfkr8rHY7aAH0JaMcYLYCI4Qthmj0j11dL\n",
       "W/c96YiJ04YGCyTMVNgfDZzhEf1nae+2J8VwpochjObfzM299oUQ4kQngr8EgvOu9ApgchYjxEo6\n",
       "6cZmlRlwBVIFgboHIBvqBrs+x8aSc6iuff90kUJioFdBYRVLXvI4lwpdJhU019Ijs2RVzXZPTThy\n",
       "o8EdURbF1F3gq47070cXgkiWZkVSjDGeTqkI+vQ2hKdiHXQAfHPrkal97UyubSvh52zR0EYES0DF\n",
       "Ug7anOjet2wJJEBaEBHkO1h3JAEKS3ELVoiIQPDwj9hIBnmjaMK8SJuoTb3tP8z27PNcz4BcXETQ\n",
       "w3g5gHon6NsMkHdilihbHwUePjidaAxtBJbR/yK+PBlghuA4/1Lm2/eCiGCHkKyeTCaTRj6UzYNJ\n",
       "lxYN3YczOIdKIcjut/sDkcZQUaIbNxjRvU5+O4C0iAiyibScZlR0WpSlyYRjhBaiQpOQLXXQa66Q\n",
       "Rs0XllPSAeZUdyFmOYkeTQkIocLjdWhlR20pypKy7NZVEUh2xYK2rUEPwa2z1q1o9Ap1qzHlHulo\n",
       "2OSJhj6xWm1QVkHFJGXuxRlLstckZnfxP7jpSZjPJoPkQVkH8l7IkoxmsYxzKM5TlizIuVmiXW23\n",
       "3RFz8QzIqUvqDBzaKHQZAkJPMzxYSdFfAUHOpKHC1F1PW6v9B9vRtYOCrJWFT6xydVK76e9w4mxV\n",
       "hIpjpOaNL+Ub8X9DqHMo/8nOX6sbraAN193PAAAAAElFTkSuQmCC\n",
       "\" style=\"display:inline;vertical-align:middle;\" /></a></span></td></tr>\n",
       "<tr><td><a name=\"0xeef58d05622a4aa_step1\">1</a></td><td>instantiation</td><td><a href=\"#0xeef58d05622a4aa_step2\">2</a>, <a href=\"#0xeef58d05622a4aa_step3\">3</a></td><td><span style=\"font-size:20px;\"><a class=\"ProveItLink\" href=\"../../../__pv_it/axioms/354ec164e0e28f03ef1fb1858764e0da4a36a45b0/expr.ipynb\"><img src=\"data:image/png;base64,iVBORw0KGgoAAAANSUhEUgAAAEAAAAAQBAMAAABUyWQaAAAAMFBMVEX///8AAAAAAAAAAAAAAAAA\n",
       "AAAAAAAAAAAAAAAAAAAAAAAAAAAAAAAAAAAAAAAAAAAv3aB7AAAAD3RSTlMAIs1UmauJMnZmRLsQ\n",
       "3e++988cAAAACXBIWXMAAA7EAAAOxAGVKw4bAAABEklEQVQoz2NgAAEhBgJAH5vg7P+hodoFYCbz\n",
       "f6zaXjMwsH4Hs1jiBbDIM/5gYOD6AmYm5hdABRUYGNgDoGxOoG7OH2ClDf0GEDGOCUBiO1QB6wcG\n",
       "BqaHYBsY7CdAxKpBxKEDEA7fBgaeWLDRixnqE8BC7O/uAsE9HYiC+h0dQRCNDgzyEHu7IXqrIRb2\n",
       "CzAwvwRbvMUlfgOIcQ7qPJ6nYGofEINdf4KBgf8C2LFhEAVCEAu/AvH8BrANDLwPIB67CwbXIQ76\n",
       "CSTiFwDDAugQpg8QvVNABBMk1Dg+AhV9AjLkgJj7I9TrQA0MXhA2E9DUdUAPnf6vw8C8/xPEWh5g\n",
       "SDJugKjd/zU0aDNG+INMP4AiAgCe/UbsFJCeOgAAAABJRU5ErkJggg==\n",
       "\" style=\"display:inline;vertical-align:middle;\" /></a> <a class=\"ProveItLink\" href=\"../../../__pv_it/_proof_iff_implies_right/f9e3622a4e3bcd20893f72e041362a3488b6850c0/proof.ipynb\" style=\"text-decoration: none\">&nbsp;&#x22A2;&nbsp;&nbsp;</a><a class=\"ProveItLink\" href=\"../../../__pv_it/axioms/d78c7a0a66f0f0f40e69d505fb93268ea9af46dc0/expr.ipynb\"><img src=\"data:image/png;base64,iVBORw0KGgoAAAANSUhEUgAAAEAAAAAQBAMAAABUyWQaAAAAMFBMVEX///8AAAAAAAAAAAAAAAAA\n",
       "AAAAAAAAAAAAAAAAAAAAAAAAAAAAAAAAAAAAAAAAAAAv3aB7AAAAD3RSTlMAIs1UmauJMnZmRLsQ\n",
       "3e++988cAAAACXBIWXMAAA7EAAAOxAGVKw4bAAAA8UlEQVQoz2NgAAEhBgJAH5vg7P+hodoFYCbz\n",
       "f6zaXjMwsH4Hs1jiBbDIM/5gYOD6AmYm5hcgxPfAGJxA3Zw/wEob+g0QCqphDNYPDAxMD8E2MNhP\n",
       "QCjgTIAy+DYw8MSCjV7MUA8WZLkLBl+gCup3dARBNDowyAcgOY5ZGUL3CzAwvwQxOLa4xG9Adv6h\n",
       "V2BqHxCDXX+CgYH/ArL31CCe/grE8xvANjDwPkBywyWIPPtPIBG/ABgWQIcwfUAYwAW1juMjUNEn\n",
       "IEMOiLk/IhTAIo4JaOo6HQaG0/91GJj3f0qAK9gODab9X0ODNmOLIrRoAQDyg0EOXpubEgAAAABJ\n",
       "RU5ErkJggg==\n",
       "\" style=\"display:inline;vertical-align:middle;\" /></a></span></td></tr>\n",
       "<tr><td>&nbsp;</td><td colspan=4 style=\"text-align:left\"><span style=\"font-size:20px;\"><a class=\"ProveItLink\" href=\"../../../../../../__pv_it/common/09585084922504426caf1db2ff588a23a0932a960/expr.ipynb\"><img src=\"data:image/png;base64,iVBORw0KGgoAAAANSUhEUgAAAA8AAAAPBAMAAADJ+Ih5AAAAMFBMVEX///8AAAAAAAAAAAAAAAAA\n",
       "AAAAAAAAAAAAAAAAAAAAAAAAAAAAAAAAAAAAAAAAAAAv3aB7AAAAD3RSTlMAIs1UmauJMnZmRLsQ\n",
       "3e++988cAAAACXBIWXMAAA7EAAAOxAGVKw4bAAAAXklEQVQI12NgAAEhBijQh9LM/6EMlngBCCMx\n",
       "vwBMMzb0G0BkGOwngBmLGeoTwAwHBvkAEM2xxSV+A4hxgoGB/wJEhoH3AZDmAupg+gBkyAEx90cG\n",
       "htP/dRiY939KAABt3hLO6mcEjQAAAABJRU5ErkJggg==\n",
       "\" style=\"display:inline;vertical-align:middle;\" /></a> : <a class=\"ProveItLink\" href=\"../../../__pv_it/axioms/d78c7a0a66f0f0f40e69d505fb93268ea9af46dc0/expr.ipynb\"><img src=\"data:image/png;base64,iVBORw0KGgoAAAANSUhEUgAAAEAAAAAQBAMAAABUyWQaAAAAMFBMVEX///8AAAAAAAAAAAAAAAAA\n",
       "AAAAAAAAAAAAAAAAAAAAAAAAAAAAAAAAAAAAAAAAAAAv3aB7AAAAD3RSTlMAIs1UmauJMnZmRLsQ\n",
       "3e++988cAAAACXBIWXMAAA7EAAAOxAGVKw4bAAAA8UlEQVQoz2NgAAEhBgJAH5vg7P+hodoFYCbz\n",
       "f6zaXjMwsH4Hs1jiBbDIM/5gYOD6AmYm5hcgxPfAGJxA3Zw/wEob+g0QCqphDNYPDAxMD8E2MNhP\n",
       "QCjgTIAy+DYw8MSCjV7MUA8WZLkLBl+gCup3dARBNDowyAcgOY5ZGUL3CzAwvwQxOLa4xG9Adv6h\n",
       "V2BqHxCDXX+CgYH/ArL31CCe/grE8xvANjDwPkBywyWIPPtPIBG/ABgWQIcwfUAYwAW1juMjUNEn\n",
       "IEMOiLk/IhTAIo4JaOo6HQaG0/91GJj3f0qAK9gODab9X0ODNmOLIrRoAQDyg0EOXpubEgAAAABJ\n",
       "RU5ErkJggg==\n",
       "\" style=\"display:inline;vertical-align:middle;\" /></a>, <a class=\"ProveItLink\" href=\"../../../../../../__pv_it/common/a9162d1c3cc0470c02e5daf414500903a7a419230/expr.ipynb\"><img src=\"data:image/png;base64,iVBORw0KGgoAAAANSUhEUgAAABAAAAAOBAMAAADUAYG5AAAAMFBMVEX///8AAAAAAAAAAAAAAAAA\n",
       "AAAAAAAAAAAAAAAAAAAAAAAAAAAAAAAAAAAAAAAAAAAv3aB7AAAAD3RSTlMAZrurzTLvInZEmRDd\n",
       "VIkafcLnAAAACXBIWXMAAA7EAAAOxAGVKw4bAAAAb0lEQVQI12NgYBD6b2zsFMAABEkMDMxfgTT7\n",
       "DwYGzl9ABiOQxwjkMDB/YGBgSQcy2BQYuG1AiuM1OkwEQJr6Cxh4E0EMNSB+D5L6DMTyDQwMrB+B\n",
       "DPsJDAwc34GcL0AOSwIDwzRvoHH6n41NdBkYAF/iFeJ4bEa2AAAAAElFTkSuQmCC\n",
       "\" style=\"display:inline;vertical-align:middle;\" /></a> : <a class=\"ProveItLink\" href=\"../../../__pv_it/axioms/dd5a6fa797dcaf2dec856fef9be29bef6326bd0c0/expr.ipynb\"><img src=\"data:image/png;base64,iVBORw0KGgoAAAANSUhEUgAAAEAAAAAQBAMAAABUyWQaAAAAMFBMVEX///8AAAAAAAAAAAAAAAAA\n",
       "AAAAAAAAAAAAAAAAAAAAAAAAAAAAAAAAAAAAAAAAAAAv3aB7AAAAD3RSTlMAZrurzTLvInZEmRDd\n",
       "VIkafcLnAAAACXBIWXMAAA7EAAAOxAGVKw4bAAAA7UlEQVQoz2NgwAfYHUCk0H9jY6cArApYPoCp\n",
       "JAYG5q9YFdwHK2D/wcDA+QurgsXfQSQjUDfjD7gg0wY4k68ObDAz0ByWdLgoqwKcWcHxF0SxKTBw\n",
       "2yA5Ug7OWsD7EUTFa3SYCIAF1pwBgfMLoPKcF1j/gej+AgbeRGSnXbkAobkY2D+DaDUgfo8cDtxu\n",
       "E8B006rFn0A0SJV8A5KCkucQdUCxPyBXgxxiPwHhhjPuMBsYGI4BMQcwMFi/IBkwCUpPBGJ/UHgn\n",
       "MDBM80aPICANFGfQL2Bg1v9sbKKLZAATxL3c+l82MFz674clilG5AC5FPtYuFkkyAAAAAElFTkSu\n",
       "QmCC\n",
       "\" style=\"display:inline;vertical-align:middle;\" /></a></span></td></tr><tr><td><a name=\"0xeef58d05622a4aa_step2\">2</a></td><td>theorem</td><td></td><td><span style=\"font-size:20px;\"> <a class=\"ProveItLink\" href=\"../../../../conjunction/_theory_nbs_/proofs/left_from_and/thm_proof.ipynb\" style=\"text-decoration: none\">&nbsp;&#x22A2;&nbsp;&nbsp;</a><a class=\"ProveItLink\" href=\"../../../../conjunction/__pv_it/theorems/db95e8ffa7200a9ad9f7288dfda7a09225da59260/expr.ipynb\"><img src=\"data:image/png;base64,iVBORw0KGgoAAAANSUhEUgAAAHMAAAAWBAMAAAABVL48AAAAMFBMVEX///8AAAAAAAAAAAAAAAAA\n",
       "AAAAAAAAAAAAAAAAAAAAAAAAAAAAAAAAAAAAAAAAAAAv3aB7AAAAD3RSTlMAq1RmmUTNIjK7EInv\n",
       "3XZ/CtNrAAAACXBIWXMAAA7EAAAOxAGVKw4bAAABtklEQVQ4y2NgIA+UAbEAiKFMstZ8IHYFMdJJ\n",
       "1cn0H0g0AjH7BFK1ssgXMDCwLWBg4FYgVev2/Q0MDMwGQO2k6mR/8B5k29m7d0+T7F4GfaCNDB4M\n",
       "DLPA/AXo0lDAhak1iKF/A5AqZGAHRxDXCbBo55fdng0gBidM3Rowl2O+95YZMCEHhnqQHs4F3AEg\n",
       "LvcnsCjzBQa+Ayha90MC0ZaB4Q1UhG+KizwoUpgeQEIp4hyYYnRgYP6ArJW15wGYFmFgsIcKrWNg\n",
       "4L8AYiTYgfkPEsEUjwLDWgNkrXxsYP8wHGLgugx3LwMv2GWbssAqGNzAwvWPTSQYkLU+YEkAx8c/\n",
       "Y8cGqDtA8Ql2WQ3Y1AioT2wZuESQtbI2QLwODIOFDhChGpDsd7DvwIZ575ZfAPVSfQCSVpbdG39B\n",
       "w4D9K1hk5f8sBqb53zbAgpEPqKMB4iWGeOTIecDA/gMaBqw/sKaPYGCgKXBtYGD/xcB1BcnBIH99\n",
       "YlgNNHgBw1oHrCnrIAOXfyrHIQaz37s9FZC0+ggwLPkW0KPAnL97yyS82RCJzYksQThrReHQyrqA\n",
       "oFYDHFqZScyThBQAAMbpXj7Rw1FMAAAAAElFTkSuQmCC\n",
       "\" style=\"display:inline;vertical-align:middle;\" /></a></span></td></tr>\n",
       "<tr><td>&nbsp;</td><td colspan=4 style-\"text-align:left\"><a class=\"ProveItLink\" href=\"../../../../conjunction/_theory_nbs_/proofs/left_from_and/thm_proof.ipynb\">proveit.logic.booleans.conjunction.left_from_and</a></td></tr><tr><td><a name=\"0xeef58d05622a4aa_step3\">3</a></td><td>instantiation</td><td><a href=\"#0xeef58d05622a4aa_step4\">4</a>, <a href=\"#0xeef58d05622a4aa_step5\">5</a>, <a href=\"#0xeef58d05622a4aa_step6\">6</a></td><td><span style=\"font-size:20px;\"><a class=\"ProveItLink\" href=\"../../../__pv_it/axioms/354ec164e0e28f03ef1fb1858764e0da4a36a45b0/expr.ipynb\"><img src=\"data:image/png;base64,iVBORw0KGgoAAAANSUhEUgAAAEAAAAAQBAMAAABUyWQaAAAAMFBMVEX///8AAAAAAAAAAAAAAAAA\n",
       "AAAAAAAAAAAAAAAAAAAAAAAAAAAAAAAAAAAAAAAAAAAv3aB7AAAAD3RSTlMAIs1UmauJMnZmRLsQ\n",
       "3e++988cAAAACXBIWXMAAA7EAAAOxAGVKw4bAAABEklEQVQoz2NgAAEhBgJAH5vg7P+hodoFYCbz\n",
       "f6zaXjMwsH4Hs1jiBbDIM/5gYOD6AmYm5hdABRUYGNgDoGxOoG7OH2ClDf0GEDGOCUBiO1QB6wcG\n",
       "BqaHYBsY7CdAxKpBxKEDEA7fBgaeWLDRixnqE8BC7O/uAsE9HYiC+h0dQRCNDgzyEHu7IXqrIRb2\n",
       "CzAwvwRbvMUlfgOIcQ7qPJ6nYGofEINdf4KBgf8C2LFhEAVCEAu/AvH8BrANDLwPIB67CwbXIQ76\n",
       "CSTiFwDDAugQpg8QvVNABBMk1Dg+AhV9AjLkgJj7I9TrQA0MXhA2E9DUdUAPnf6vw8C8/xPEWh5g\n",
       "SDJugKjd/zU0aDNG+INMP4AiAgCe/UbsFJCeOgAAAABJRU5ErkJggg==\n",
       "\" style=\"display:inline;vertical-align:middle;\" /></a> <a class=\"ProveItLink\" href=\"../../../__pv_it/_proof_iff_implies_right/238a94aff902b675dc6cc16f78953bc5fae885670/proof.ipynb\" style=\"text-decoration: none\">&nbsp;&#x22A2;&nbsp;&nbsp;</a><a class=\"ProveItLink\" href=\"../../../__pv_it/axioms/aafda48177228a289fb8cc09dda48ed2232b2d480/expr.ipynb\"><img src=\"data:image/png;base64,iVBORw0KGgoAAAANSUhEUgAAALUAAAAVBAMAAADyYbJ0AAAAMFBMVEX///8AAAAAAAAAAAAAAAAA\n",
       "AAAAAAAAAAAAAAAAAAAAAAAAAAAAAAAAAAAAAAAAAAAv3aB7AAAAD3RSTlMAInZUiRDNmWbv3US7\n",
       "qzJazP2FAAAACXBIWXMAAA7EAAAOxAGVKw4bAAACdUlEQVQ4y41UTWgTQRT+Nts0m781iBT0YvQs\n",
       "tIcSL0JbPBeDh556aLCFCoIBCxWh0IPgRbHeCu0hECjYi6IXBQ8xIuLF5NSDENJzEdqqRBFrnPfe\n",
       "zDqNq7sfLG/efO+bmffezAIoIAqFGDOhEYkxHo/8J+7Z4ITW/AvOnNaMi38zLOh+v9O5sYvE6sD8\n",
       "+B8uDMMHYE1yjl23Hxq1CeR/AQvavSxGNJoLwYRamzQpOVOqG1ZC5zOQ/Qbc02tuiWWN4UKwcgjW\n",
       "pMWdumKl99YMPHUuT62RLkuZHzxlm7Y5jVw5GA6donSUpiQHLI5a7flkBnmV3PAj9UlyGb/BtmRz\n",
       "GpoinEx8AWuWJEtMWP3yJvUg3UDyo0poqK1bWGG7ZHMGd4NR1f0O1iyy+xz7vF5qm2HKuN88v0N7\n",
       "etLwCi6yXbQ54A5rnlS1KDvmfxVNXbbC2bbVDPea2NEC3HXy1zjtNjJc1brNBSjpqqbgHIlmg5v0\n",
       "brnbsONmeBrv1UdN9g+4wuqmF2mwYXMBktel0xeWV36CNRx3FThRs+/evNxI2v+hWi7L555R+lqw\n",
       "tuECjEzJFmruB1hTl5Igs2bVe0uW9qknXXUat2Zezi1Tk4Az9d6umJIAj8GaJm2xKu/UIKvrk1Bv\n",
       "wO9RX3iiZn47TZszeKXtC/0DUZppZU7T3T+0sjP/BZXLS3rvKbpEHhUgRxWetjnr/8SW8m8VWLMH\n",
       "zPYX4LZ6k0HcB/1yWkednTf8aCj3PN0RnzbYsznzLqWtyVavjEv9edZkdmP8r88cd8M0TojGqyIa\n",
       "t4+7sTWvo8OcxsBEXM1sdFxusEhxNU4xMu7cX4eKpfkNRtC5ymPSbhkAAAAASUVORK5CYII=\n",
       "\" style=\"display:inline;vertical-align:middle;\" /></a></span></td></tr>\n",
       "<tr><td>&nbsp;</td><td colspan=4 style=\"text-align:left\"><span style=\"font-size:20px;\"><a class=\"ProveItLink\" href=\"../../../../../../__pv_it/common/de55da274ba0f49c86925fbf3828021c04d27faf0/expr.ipynb\"><img src=\"data:image/png;base64,iVBORw0KGgoAAAANSUhEUgAAABAAAAAOBAMAAADUAYG5AAAAMFBMVEX///8AAAAAAAAAAAAAAAAA\n",
       "AAAAAAAAAAAAAAAAAAAAAAAAAAAAAAAAAAAAAAAAAAAv3aB7AAAAD3RSTlMAdrurzZkQ7zJUiSLd\n",
       "ZkQEbk8lAAAACXBIWXMAAA7EAAAOxAGVKw4bAAAAWklEQVQI12NgYBD6r2zkmsAABF8YGJjKgDTH\n",
       "RwYGTiBmYPwBxL+ADKYPQAzkMPArMDD0CzCAiV0nQZrkrVbdA9EM+gxQ8AVKc/yCMhj/QRksHyA0\n",
       "q/4nkBkMAGrBE2oHiyZAAAAAAElFTkSuQmCC\n",
       "\" style=\"display:inline;vertical-align:middle;\" /></a> : <a class=\"ProveItLink\" href=\"../../../__pv_it/axioms/354ec164e0e28f03ef1fb1858764e0da4a36a45b0/expr.ipynb\"><img src=\"data:image/png;base64,iVBORw0KGgoAAAANSUhEUgAAAEAAAAAQBAMAAABUyWQaAAAAMFBMVEX///8AAAAAAAAAAAAAAAAA\n",
       "AAAAAAAAAAAAAAAAAAAAAAAAAAAAAAAAAAAAAAAAAAAv3aB7AAAAD3RSTlMAIs1UmauJMnZmRLsQ\n",
       "3e++988cAAAACXBIWXMAAA7EAAAOxAGVKw4bAAABEklEQVQoz2NgAAEhBgJAH5vg7P+hodoFYCbz\n",
       "f6zaXjMwsH4Hs1jiBbDIM/5gYOD6AmYm5hdABRUYGNgDoGxOoG7OH2ClDf0GEDGOCUBiO1QB6wcG\n",
       "BqaHYBsY7CdAxKpBxKEDEA7fBgaeWLDRixnqE8BC7O/uAsE9HYiC+h0dQRCNDgzyEHu7IXqrIRb2\n",
       "CzAwvwRbvMUlfgOIcQ7qPJ6nYGofEINdf4KBgf8C2LFhEAVCEAu/AvH8BrANDLwPIB67CwbXIQ76\n",
       "CSTiFwDDAugQpg8QvVNABBMk1Dg+AhV9AjLkgJj7I9TrQA0MXhA2E9DUdUAPnf6vw8C8/xPEWh5g\n",
       "SDJugKjd/zU0aDNG+INMP4AiAgCe/UbsFJCeOgAAAABJRU5ErkJggg==\n",
       "\" style=\"display:inline;vertical-align:middle;\" /></a>, <a class=\"ProveItLink\" href=\"../../../../../../__pv_it/common/d72bb8b07403efe79afab564c36a28e21330e5f90/expr.ipynb\"><img src=\"data:image/png;base64,iVBORw0KGgoAAAANSUhEUgAAAA8AAAASBAMAAAB2sJk8AAAAMFBMVEX///8AAAAAAAAAAAAAAAAA\n",
       "AAAAAAAAAAAAAAAAAAAAAAAAAAAAAAAAAAAAAAAAAAAv3aB7AAAAD3RSTlMAIomZq2bNMhC7791E\n",
       "VHYkqjbgAAAACXBIWXMAAA7EAAAOxAGVKw4bAAAAgklEQVQI12NgYGBUVnJlAAG1AgaWBCDdNgFI\n",
       "LAbibJCoPwMD83cQQ7+AQR4kw2B/gMH+AoiRL8CwvwFIc/xiYPgFEmD9ysCwG8ToSgBp5LnAYCXA\n",
       "wFB/IVyUaSFQlG/hAyYXkAaGkknaBxgKwLZyHuATgDAcroFpBub/3yEM9l1AawBt/xzBtQnGvwAA\n",
       "AABJRU5ErkJggg==\n",
       "\" style=\"display:inline;vertical-align:middle;\" /></a> : <a class=\"ProveItLink\" href=\"../../../__pv_it/axioms/aafda48177228a289fb8cc09dda48ed2232b2d480/expr.ipynb\"><img src=\"data:image/png;base64,iVBORw0KGgoAAAANSUhEUgAAALUAAAAVBAMAAADyYbJ0AAAAMFBMVEX///8AAAAAAAAAAAAAAAAA\n",
       "AAAAAAAAAAAAAAAAAAAAAAAAAAAAAAAAAAAAAAAAAAAv3aB7AAAAD3RSTlMAInZUiRDNmWbv3US7\n",
       "qzJazP2FAAAACXBIWXMAAA7EAAAOxAGVKw4bAAACdUlEQVQ4y41UTWgTQRT+Nts0m781iBT0YvQs\n",
       "tIcSL0JbPBeDh556aLCFCoIBCxWh0IPgRbHeCu0hECjYi6IXBQ8xIuLF5NSDENJzEdqqRBFrnPfe\n",
       "zDqNq7sfLG/efO+bmffezAIoIAqFGDOhEYkxHo/8J+7Z4ITW/AvOnNaMi38zLOh+v9O5sYvE6sD8\n",
       "+B8uDMMHYE1yjl23Hxq1CeR/AQvavSxGNJoLwYRamzQpOVOqG1ZC5zOQ/Qbc02tuiWWN4UKwcgjW\n",
       "pMWdumKl99YMPHUuT62RLkuZHzxlm7Y5jVw5GA6donSUpiQHLI5a7flkBnmV3PAj9UlyGb/BtmRz\n",
       "GpoinEx8AWuWJEtMWP3yJvUg3UDyo0poqK1bWGG7ZHMGd4NR1f0O1iyy+xz7vF5qm2HKuN88v0N7\n",
       "etLwCi6yXbQ54A5rnlS1KDvmfxVNXbbC2bbVDPea2NEC3HXy1zjtNjJc1brNBSjpqqbgHIlmg5v0\n",
       "brnbsONmeBrv1UdN9g+4wuqmF2mwYXMBktel0xeWV36CNRx3FThRs+/evNxI2v+hWi7L555R+lqw\n",
       "tuECjEzJFmruB1hTl5Igs2bVe0uW9qknXXUat2Zezi1Tk4Az9d6umJIAj8GaJm2xKu/UIKvrk1Bv\n",
       "wO9RX3iiZn47TZszeKXtC/0DUZppZU7T3T+0sjP/BZXLS3rvKbpEHhUgRxWetjnr/8SW8m8VWLMH\n",
       "zPYX4LZ6k0HcB/1yWkednTf8aCj3PN0RnzbYsznzLqWtyVavjEv9edZkdmP8r88cd8M0TojGqyIa\n",
       "t4+7sTWvo8OcxsBEXM1sdFxusEhxNU4xMu7cX4eKpfkNRtC5ymPSbhkAAAAASUVORK5CYII=\n",
       "\" style=\"display:inline;vertical-align:middle;\" /></a></span></td></tr><tr><td><a name=\"0xeef58d05622a4aa_step4\">4</a></td><td>theorem</td><td></td><td><span style=\"font-size:20px;\"> <a class=\"ProveItLink\" href=\"../../../../../equality/_theory_nbs_/proofs/rhs_via_equality/thm_proof.ipynb\" style=\"text-decoration: none\">&nbsp;&#x22A2;&nbsp;&nbsp;</a><a class=\"ProveItLink\" href=\"../../../../../equality/__pv_it/theorems/b71cc6ded84759b8e6fdf7e824529c371b14ed8e0/expr.ipynb\"><img src=\"data:image/png;base64,iVBORw0KGgoAAAANSUhEUgAAAIkAAAAVBAMAAACArtDCAAAAMFBMVEX///8AAAAAAAAAAAAAAAAA\n",
       "AAAAAAAAAAAAAAAAAAAAAAAAAAAAAAAAAAAAAAAAAAAv3aB7AAAAD3RSTlMAq1RmmUTNIjK7EInv\n",
       "3XZ/CtNrAAAACXBIWXMAAA7EAAAOxAGVKw4bAAAB3klEQVQ4y51UTShEURT+xsx4w2OaiSgbU8rC\n",
       "apYWaCxEUd5KmdXslJKR7dSMjS3FBgtvZaVJmixINNQsRCM7mfzspAZRhOKcO+bNGWPB++qd777z\n",
       "vvfde8+9HfhAaINdaKmdBqI+Ho/ZdtlKwBEBZthw3q7JGv95CFSbgB6w6zLBoRVwBsnJronrleNe\n",
       "AjjO5Y7susRVKYYNYABY/m2av7gMq1JMRoEpaHTa7tXB3mZO3eX7laCmoBt9Tvmjggsoii6pqKj9\n",
       "YLmp04rQDewSjUQRiwoXZxZ6VrCCJfpQkicKVVequI3APb2Q0jUvXBwheB8EM0qiHIf1CMdID8c0\n",
       "cErlonI7H4RLXQD1PsGqppaoFe4AhtSyNsf54r1hKgQ00VDfFy5xU2u02LVEWBCiuUDntJ5RwhjP\n",
       "4TzJdxDxmVf7hEtX/saUjDKRN3Ol+wt5R4JDYbkHPIGsrh/lXC7CzMqugYT1pS6oaBFhnMmTPhB/\n",
       "FndUErHO8JZuQJyGtRuITSdng8JFe4HKKy6iJGKdr9364F3dBjxpaL3XLZpwuX03VV6x1VMsEa/v\n",
       "8/XHha6ixx1Kyh1Z+TIURQTPxc+GEOaJHs8rXMIVHe5b9CvUZieMCpdgZV8x/thQ/9MhvgB6V4K4\n",
       "K/k90gAAAABJRU5ErkJggg==\n",
       "\" style=\"display:inline;vertical-align:middle;\" /></a></span></td></tr>\n",
       "<tr><td>&nbsp;</td><td colspan=4 style-\"text-align:left\"><a class=\"ProveItLink\" href=\"../../../../../equality/_theory_nbs_/proofs/rhs_via_equality/thm_proof.ipynb\">proveit.logic.equality.rhs_via_equality</a></td></tr><tr><td><a name=\"0xeef58d05622a4aa_step5\">5</a></td><td>assumption</td><td></td><td><span style=\"font-size:20px;\"><a class=\"ProveItLink\" href=\"../../../__pv_it/axioms/354ec164e0e28f03ef1fb1858764e0da4a36a45b0/expr.ipynb\"><img src=\"data:image/png;base64,iVBORw0KGgoAAAANSUhEUgAAAEAAAAAQBAMAAABUyWQaAAAAMFBMVEX///8AAAAAAAAAAAAAAAAA\n",
       "AAAAAAAAAAAAAAAAAAAAAAAAAAAAAAAAAAAAAAAAAAAv3aB7AAAAD3RSTlMAIs1UmauJMnZmRLsQ\n",
       "3e++988cAAAACXBIWXMAAA7EAAAOxAGVKw4bAAABEklEQVQoz2NgAAEhBgJAH5vg7P+hodoFYCbz\n",
       "f6zaXjMwsH4Hs1jiBbDIM/5gYOD6AmYm5hdABRUYGNgDoGxOoG7OH2ClDf0GEDGOCUBiO1QB6wcG\n",
       "BqaHYBsY7CdAxKpBxKEDEA7fBgaeWLDRixnqE8BC7O/uAsE9HYiC+h0dQRCNDgzyEHu7IXqrIRb2\n",
       "CzAwvwRbvMUlfgOIcQ7qPJ6nYGofEINdf4KBgf8C2LFhEAVCEAu/AvH8BrANDLwPIB67CwbXIQ76\n",
       "CSTiFwDDAugQpg8QvVNABBMk1Dg+AhV9AjLkgJj7I9TrQA0MXhA2E9DUdUAPnf6vw8C8/xPEWh5g\n",
       "SDJugKjd/zU0aDNG+INMP4AiAgCe/UbsFJCeOgAAAABJRU5ErkJggg==\n",
       "\" style=\"display:inline;vertical-align:middle;\" /></a> <a class=\"ProveItLink\" href=\"../../../__pv_it/_proof_iff_implies_right/87e3c73f4ce4852a979d36a92efa9307392bd1c00/proof.ipynb\" style=\"text-decoration: none\">&nbsp;&#x22A2;&nbsp;&nbsp;</a><a class=\"ProveItLink\" href=\"../../../__pv_it/axioms/354ec164e0e28f03ef1fb1858764e0da4a36a45b0/expr.ipynb\"><img src=\"data:image/png;base64,iVBORw0KGgoAAAANSUhEUgAAAEAAAAAQBAMAAABUyWQaAAAAMFBMVEX///8AAAAAAAAAAAAAAAAA\n",
       "AAAAAAAAAAAAAAAAAAAAAAAAAAAAAAAAAAAAAAAAAAAv3aB7AAAAD3RSTlMAIs1UmauJMnZmRLsQ\n",
       "3e++988cAAAACXBIWXMAAA7EAAAOxAGVKw4bAAABEklEQVQoz2NgAAEhBgJAH5vg7P+hodoFYCbz\n",
       "f6zaXjMwsH4Hs1jiBbDIM/5gYOD6AmYm5hdABRUYGNgDoGxOoG7OH2ClDf0GEDGOCUBiO1QB6wcG\n",
       "BqaHYBsY7CdAxKpBxKEDEA7fBgaeWLDRixnqE8BC7O/uAsE9HYiC+h0dQRCNDgzyEHu7IXqrIRb2\n",
       "CzAwvwRbvMUlfgOIcQ7qPJ6nYGofEINdf4KBgf8C2LFhEAVCEAu/AvH8BrANDLwPIB67CwbXIQ76\n",
       "CSTiFwDDAugQpg8QvVNABBMk1Dg+AhV9AjLkgJj7I9TrQA0MXhA2E9DUdUAPnf6vw8C8/xPEWh5g\n",
       "SDJugKjd/zU0aDNG+INMP4AiAgCe/UbsFJCeOgAAAABJRU5ErkJggg==\n",
       "\" style=\"display:inline;vertical-align:middle;\" /></a></span></td></tr>\n",
       "<tr><td><a name=\"0xeef58d05622a4aa_step6\">6</a></td><td>instantiation</td><td><a href=\"#0xeef58d05622a4aa_step7\">7</a></td><td><span style=\"font-size:20px;\"> <a class=\"ProveItLink\" href=\"../../../__pv_it/_proof_iff_implies_right/b7aba8a005f5ba408b795ab73886a80c28ee71c20/proof.ipynb\" style=\"text-decoration: none\">&nbsp;&#x22A2;&nbsp;&nbsp;</a><a class=\"ProveItLink\" href=\"../../../__pv_it/axioms/6a1fb7a4625d5d14b9fb08d72f3e6598f52293a40/expr.ipynb\"><img src=\"data:image/png;base64,iVBORw0KGgoAAAANSUhEUgAAATEAAAAVBAMAAADcAcTPAAAAMFBMVEX///8AAAAAAAAAAAAAAAAA\n",
       "AAAAAAAAAAAAAAAAAAAAAAAAAAAAAAAAAAAAAAAAAAAv3aB7AAAAD3RSTlMAInZUiRDNmWbv3US7\n",
       "qzJazP2FAAAACXBIWXMAAA7EAAAOxAGVKw4bAAADwUlEQVRIx5VWX0iTURQ/2/zmnNvnkAiKwGUv\n",
       "PRTuQQwjcNJzNHoQAgMlBYWgQYJSCHuIfDG0h6KwYCAIGpnUS0LQMiJ6SR/Ch0i2ZxHWPzRKXeee\n",
       "c+/9rt8+mztwuNs993fP755z7rkfAMSgknit8EmtFlnZm0+t8ifo/+H/rH3hMXdCKu7UUwVSettX\n",
       "kEZ9XOJaeeq617rx0tratQL4M2WWQJIVJfjNAxla3llb/VSObHVsniJonATCWXziQMlz4WOA6C5A\n",
       "f5mhSypKhxczqMsB5AsaeZ4H9iZtHkI0ginyWMunqs17FtMPDO4WwFiZZUQqyuh3Lx9NmJM3aYW0\n",
       "Znhkb9LmIUQjlCaPdTzVeVGdAU9lr6icYLxCyK4u5d5iUipAzaFdZ/q9/jWB+03EFdJ/d4Ejadqk\n",
       "RIzNmcZ98tjGwYm3yNKkylBFEMVEBe+hussl0MOK0uj/6cxv6F951MGYQobtHI1tpk2KNBk0Bsjj\n",
       "EEcROjLG3l0pXSzWFzxFzYo76klWlHTgt1H4SaNCr8xrZCv00jhk2pTcdrZlGhcIN0BTL6HIe9qP\n",
       "5lBmZeEWl5pXxdIQheemMM09o/uYUYGsT9i/aFMyzm2pQGw3nx7QSOR1hsYB06Z2fK5LTtK4Q7hp\n",
       "Pjg08eFOcbQ2OLctMQg8FMmbdMUsnGAVx/TtmGm+KosCr0V7RiGxcMO08bRp09Kmmpyk0U64KVr7\n",
       "YThP2b4s02Y9oeEjqqhJ290Y6hZY8SjDo9t72skUlzUyqtlVyCj2RKr4KdOmxRrk+6FoFAlHay8B\n",
       "NGSpBD/LVsy5FdEQl6h+cj9mFlr/mH2mjyu7YYVvNSOx81lZzUzZnMbfyaOisUi4aY4ihNl5iMuF\n",
       "69MWtZ1HAoGsq850NmtRZ406m5FXrojZiv5VSNFnb+hsKpvaca5XJ5NpnCXckqjijPPGUGsMxnSx\n",
       "2JuCb84Vs0icFV7tfdjq1UKsUCj2KGRWPcxLpk3JawVWNMYJhzcUjghfspNHRY5u8e8gHmCxH3SD\n",
       "cEQ0A6E+ccTlmPkgswyiowcpiQyJM0QK3A8cmyoARVLTGCLcOkB3qR8Cy5tJ/bL5+ORR8fK+o+Qt\n",
       "uJjZWVJreTMF50p9el616K/iUyChkFFBwxb01k2bir98fRwaTwkXLnh8QLkfo6NlD9y81EpfXy5k\n",
       "uOD9PbZ3Iku4UBoqy0jZzBh4vfMVkQfyJp59gXtbeakvVzYVibFWizyANzgmcd2Vl3pQsHKs1SIP\n",
       "4E2wJ5wvXnHpcY+5RqlVIg/gzR8j3D/+Yyt9amQ6tAAAAABJRU5ErkJggg==\n",
       "\" style=\"display:inline;vertical-align:middle;\" /></a></span></td></tr>\n",
       "<tr><td>&nbsp;</td><td colspan=4 style=\"text-align:left\"><span style=\"font-size:20px;\"><a class=\"ProveItLink\" href=\"../../../../../../__pv_it/common/09585084922504426caf1db2ff588a23a0932a960/expr.ipynb\"><img src=\"data:image/png;base64,iVBORw0KGgoAAAANSUhEUgAAAA8AAAAPBAMAAADJ+Ih5AAAAMFBMVEX///8AAAAAAAAAAAAAAAAA\n",
       "AAAAAAAAAAAAAAAAAAAAAAAAAAAAAAAAAAAAAAAAAAAv3aB7AAAAD3RSTlMAIs1UmauJMnZmRLsQ\n",
       "3e++988cAAAACXBIWXMAAA7EAAAOxAGVKw4bAAAAXklEQVQI12NgAAEhBijQh9LM/6EMlngBCCMx\n",
       "vwBMMzb0G0BkGOwngBmLGeoTwAwHBvkAEM2xxSV+A4hxgoGB/wJEhoH3AZDmAupg+gBkyAEx90cG\n",
       "htP/dRiY939KAABt3hLO6mcEjQAAAABJRU5ErkJggg==\n",
       "\" style=\"display:inline;vertical-align:middle;\" /></a> : <a class=\"ProveItLink\" href=\"../../../../../../__pv_it/common/09585084922504426caf1db2ff588a23a0932a960/expr.ipynb\"><img src=\"data:image/png;base64,iVBORw0KGgoAAAANSUhEUgAAAA8AAAAPBAMAAADJ+Ih5AAAAMFBMVEX///8AAAAAAAAAAAAAAAAA\n",
       "AAAAAAAAAAAAAAAAAAAAAAAAAAAAAAAAAAAAAAAAAAAv3aB7AAAAD3RSTlMAIs1UmauJMnZmRLsQ\n",
       "3e++988cAAAACXBIWXMAAA7EAAAOxAGVKw4bAAAAXklEQVQI12NgAAEhBijQh9LM/6EMlngBCCMx\n",
       "vwBMMzb0G0BkGOwngBmLGeoTwAwHBvkAEM2xxSV+A4hxgoGB/wJEhoH3AZDmAupg+gBkyAEx90cG\n",
       "htP/dRiY939KAABt3hLO6mcEjQAAAABJRU5ErkJggg==\n",
       "\" style=\"display:inline;vertical-align:middle;\" /></a>, <a class=\"ProveItLink\" href=\"../../../../../../__pv_it/common/a9162d1c3cc0470c02e5daf414500903a7a419230/expr.ipynb\"><img src=\"data:image/png;base64,iVBORw0KGgoAAAANSUhEUgAAABAAAAAOBAMAAADUAYG5AAAAMFBMVEX///8AAAAAAAAAAAAAAAAA\n",
       "AAAAAAAAAAAAAAAAAAAAAAAAAAAAAAAAAAAAAAAAAAAv3aB7AAAAD3RSTlMAZrurzTLvInZEmRDd\n",
       "VIkafcLnAAAACXBIWXMAAA7EAAAOxAGVKw4bAAAAb0lEQVQI12NgYBD6b2zsFMAABEkMDMxfgTT7\n",
       "DwYGzl9ABiOQxwjkMDB/YGBgSQcy2BQYuG1AiuM1OkwEQJr6Cxh4E0EMNSB+D5L6DMTyDQwMrB+B\n",
       "DPsJDAwc34GcL0AOSwIDwzRvoHH6n41NdBkYAF/iFeJ4bEa2AAAAAElFTkSuQmCC\n",
       "\" style=\"display:inline;vertical-align:middle;\" /></a> : <a class=\"ProveItLink\" href=\"../../../../../../__pv_it/common/a9162d1c3cc0470c02e5daf414500903a7a419230/expr.ipynb\"><img src=\"data:image/png;base64,iVBORw0KGgoAAAANSUhEUgAAABAAAAAOBAMAAADUAYG5AAAAMFBMVEX///8AAAAAAAAAAAAAAAAA\n",
       "AAAAAAAAAAAAAAAAAAAAAAAAAAAAAAAAAAAAAAAAAAAv3aB7AAAAD3RSTlMAZrurzTLvInZEmRDd\n",
       "VIkafcLnAAAACXBIWXMAAA7EAAAOxAGVKw4bAAAAb0lEQVQI12NgYBD6b2zsFMAABEkMDMxfgTT7\n",
       "DwYGzl9ABiOQxwjkMDB/YGBgSQcy2BQYuG1AiuM1OkwEQJr6Cxh4E0EMNSB+D5L6DMTyDQwMrB+B\n",
       "DPsJDAwc34GcL0AOSwIDwzRvoHH6n41NdBkYAF/iFeJ4bEa2AAAAAElFTkSuQmCC\n",
       "\" style=\"display:inline;vertical-align:middle;\" /></a></span></td></tr><tr><td><a name=\"0xeef58d05622a4aa_step7\">7</a></td><td>axiom</td><td></td><td><span style=\"font-size:20px;\"> <a class=\"ProveItLink\" href=\"../../axioms.ipynb#iff_def\" style=\"text-decoration: none\">&nbsp;&#x22A2;&nbsp;&nbsp;</a><a class=\"ProveItLink\" href=\"../../../__pv_it/axioms/58a59ea31f5a83ad01737244ae60b8d4dd112afb0/expr.ipynb\"><img src=\"data:image/png;base64,iVBORw0KGgoAAAANSUhEUgAAAXkAAAAWBAMAAADX+PE1AAAAMFBMVEX///8AAAAAAAAAAAAAAAAA\n",
       "AAAAAAAAAAAAAAAAAAAAAAAAAAAAAAAAAAAAAAAAAAAv3aB7AAAAD3RSTlMAq1RmmUTNIjK7EInv\n",
       "3XZ/CtNrAAAACXBIWXMAAA7EAAAOxAGVKw4bAAAD3klEQVRYw9WWTUhUURTHjzOj83zjvBQq2oRC\n",
       "EYSLJpAgohr7IpFIamMRZUVIGTRuhCizlkGRRFBE6KwEoULduHCRGn0RxRDhqqEBFxFEmYlWUtO9\n",
       "95xz38ybO80wuekPfxzfub/3zr333A+AvypGLtxqqcjimKLe7tShhbr+0uzo0pHE5FOwDRl2tXy4\n",
       "Jk/jerLQOVN8c7qm5vRlcCJLRta7MZMqZkAx7N3yYbs5ebsNLeRLG1u8ACj7DnDmn8kRl9MxgzaI\n",
       "7BVDviLno9ecfSCClj9rTWUW/A1QPgfQ8K+kPeVyOmZQ4wIgQ66IA4TyFFsVWWj0EU1lBWCPlfxi\n",
       "hPziW1XxIkipu3lIZ2OL5nSMVOm+PHRBTolkyP4IZmTSOrIYjtQX6uG0fB/nUyYmsuKZcKQIUuoq\n",
       "mMmw1as5HSNZbmVccmYBGfarZPJlnuybyWJGYUPEfZXN1VrVC/Zq0ZVQdWESh3zITNbT0mvOjLG2\n",
       "6F9R3zdAhr2X5zOek/1JMsABuIHfvSY6m0w+pbY3+j6vlLn55WILJJWqzSRFuZyzSLltrNVf1DGA\n",
       "fYp5HyWovM5aJIbdCUH1Qfs5zu3cWBP3+w1ZdBp6VCMHO2rdxAZfYuB7LPeVcU+/c0mS74SJtKoh\n",
       "HGdOx9w6pNoLQPArMezKeEitmNAszm0CHM7lCRmcW7tqVclMUOQ+ZnRPWC5Ka8aTfQ6pNfDEQJaJ\n",
       "nT/FnI65++9ZXNMfdzX+AGTYvhQu2tbXuJyi4J/x5vAQYFlC/ujE+gl2YAM5EtvFZ8vH82WvSd4p\n",
       "O2IGckBkmNDZc0yraxQ7IZ79AmTY0LZNxVLHcTnVwYOId/5F4YUxwa1YvjgyllxDtWJcfAlP3eeS\n",
       "FJ2KGUh1Vu1gTse47pPtXDgA7wAZNoyoHcSBPapJz3TDKu5zH7k8gme0LKxoxtnsiLPDmpdPvced\n",
       "gcR112skE3wd6suMsQ7R34N07ZAMGy6q0WqFTzi4YC9nbJh8Ue7xC/hshRyEFjq5xKgekX0PDHmy\n",
       "N5GZN7Zs0p/iQ2Q4M5ZxM1N/5Rz2x5BhyyUjd9qxWrXqReo9lBxcRw+mz4Cvfx4zFCUK5+nE6f9a\n",
       "s1LtPuEWT/YmUuqOkSyTX7ZSyLgxPmuxTO3++TisT3cgw6apFEmrVpMAx3i9hy+jsy4o8kXeg6Hb\n",
       "+8BEGm/v3blczpXIxHRnsaKmltXZQxD8CfZbfTJGudALaKf3Qalk0czOTDYwAfb+U9YkbFoca3Lv\n",
       "JbfJBWS4o5ZKFsmws+Tz/D9ILqDK3DtwqWSRDDtLh73dTKEL6INhgEoki2Q+mNgI/F/6A9dMcbXF\n",
       "hKa/AAAAAElFTkSuQmCC\n",
       "\" style=\"display:inline;vertical-align:middle;\" /></a></span></td></tr>\n",
       "<tr><td>&nbsp;</td><td colspan=4 style-\"text-align:left\"><a class=\"ProveItLink\" href=\"../../axioms.ipynb#iff_def\">proveit.logic.booleans.implication.iff_def</a></td></tr></table>"
      ],
      "text/plain": [
       "\tstep type\trequirements\tstatement\n",
       "0\tgeneralization\t1\t|- forall_{A, B | A <=> B} (A => B)\n",
       "1\tinstantiation\t2, 3\t{A <=> B} |- A => B\n",
       "\tA : A => B, B : B => A\n",
       "2\ttheorem\t\t|- forall_{A, B | A, B} A\n",
       "\tproveit.logic.booleans.conjunction.left_from_and\n",
       "3\tinstantiation\t4, 5, 6\t{A <=> B} |- (A => B) and (B => A)\n",
       "\tP : A <=> B, Q : (A => B) and (B => A)\n",
       "4\ttheorem\t\t|- forall_{P, Q | P, P = Q} Q\n",
       "\tproveit.logic.equality.rhs_via_equality\n",
       "5\tassumption\t\t{A <=> B} |- A <=> B\n",
       "6\tinstantiation\t7\t|- (A <=> B) = ((A => B) and (B => A))\n",
       "\tA : A, B : B\n",
       "7\taxiom\t\t|- forall_{A, B} ((A <=> B) = ((A => B) and (B => A)))\n",
       "\tproveit.logic.booleans.implication.iff_def"
      ]
     },
     "execution_count": 6,
     "metadata": {},
     "output_type": "execute_result"
    }
   ],
   "source": [
    "%qed"
   ]
  },
  {
   "cell_type": "code",
   "execution_count": null,
   "metadata": {},
   "outputs": [],
   "source": []
  }
 ],
 "metadata": {
  "kernelspec": {
   "display_name": "Python 3",
   "language": "python",
   "name": "python3"
  }
 },
 "nbformat": 4,
 "nbformat_minor": 0
}