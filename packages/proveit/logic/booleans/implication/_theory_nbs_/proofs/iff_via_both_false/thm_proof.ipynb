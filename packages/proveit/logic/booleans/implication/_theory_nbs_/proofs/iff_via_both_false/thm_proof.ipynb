{
 "cells": [
  {
   "cell_type": "markdown",
   "metadata": {},
   "source": [
    "Proof of <a class=\"ProveItLink\" href=\"../../../../../../_theory_nbs_/theory.ipynb\">proveit</a>.<a class=\"ProveItLink\" href=\"../../../../../_theory_nbs_/theory.ipynb\">logic</a>.<a class=\"ProveItLink\" href=\"../../../../_theory_nbs_/theory.ipynb\">booleans</a>.<a class=\"ProveItLink\" href=\"../../theory.ipynb\">implication</a>.<a class=\"ProveItLink\" href=\"../../theorems.ipynb#iff_via_both_false\">iff_via_both_false</a> theorem\n",
    "========"
   ]
  },
  {
   "cell_type": "code",
   "execution_count": 1,
   "metadata": {},
   "outputs": [],
   "source": [
    "import proveit\n",
    "theory = proveit.Theory() # the theorem's theory"
   ]
  },
  {
   "cell_type": "code",
   "execution_count": 2,
   "metadata": {},
   "outputs": [
    {
     "data": {
      "text/html": [
       "With these <a href=\"allowed_presumptions.txt\">allowed</a>/<a href=\"disallowed_presumptions.txt\">disallowed</a> theorem/theory presumptions (e.g., to avoid circular dependencies), we begin our proof of<br><strong id=\"iff_via_both_false\">iff_via_both_false:</strong> <a class=\"ProveItLink\" href=\"../../../__pv_it/theorems/623c1cf4844713561cc1617bb12b288bd69bd2610/expr.ipynb\"><img src=\"data:image/png;base64,iVBORw0KGgoAAAANSUhEUgAAAMwAAAAXBAMAAAC19b0tAAAAMFBMVEX///8AAAAAAAAAAAAAAAAA\n",
       "AAAAAAAAAAAAAAAAAAAAAAAAAAAAAAAAAAAAAAAAAAAv3aB7AAAAD3RSTlMAq1RmmUTNIjK7EInv\n",
       "3XZ/CtNrAAAACXBIWXMAAA7EAAAOxAGVKw4bAAACxklEQVRIx7VVS2gTURQ9aWwmmWiaQBHFRQZc\n",
       "CRUDloKLaoJWLFlYcFOK0EoRUQuNG0GUZlx2leLGxk2mG1cWqnQj2bRdiH8CKmTRQLSrgmirVluL\n",
       "rfe9O5PPZGxKWh+8vHvnzNzz5p4zL8BOh7ILd2xjfOJSA/++o7kIBEVwuHGWpim5eJYcMHdmObR/\n",
       "HFgAukR+pXGah7wcc6LB3jEgrMNj4K5447HGaU7zEvvlBCapXf1RuKOCCX6tcZoZ+eu/vWrmpJE3\n",
       "aIGndJpE9RLuCDV2B9Kw9COBb5wHqBzGLTRMcygBDAJvCoVXjdPsYQdEm75zPir1Mkz0BTCRp/Ux\n",
       "cA54IK8ZtgLVqeFM44lIy2redZl6XxdozF9j0Lv25eOgCDqAG1BkL9XnvJ0f2W5dBL6qcibKT2fi\n",
       "01Zf9mm8JWVZpou8m1EWO0C+aBP7aKNyhr9HqsjddecQmKmlMVEencBny7Ly2cUzsTWxPjLFV2fl\n",
       "4qNCfuGNFIlYZAf0vpWLi/y3VEtjojxayT+VNCqZ6Y88Cw7x1ZusWAuxujcouCgseFJeK17i5zRM\n",
       "RmppTJTHHNR3lU0TMs5zLwpy5BlMUSHXCgVHaT6RggVwlr+ohfYDqKGxUD6/No7HdDP20YvgAs1h\n",
       "ztulLxKcfKU1JRx/guYd2dBes92dUFsraJ6m0+lcCeWM5JuIWprRw4rQMsOlXaKJXSY4RB58JkwR\n",
       "F4jcWTwbNsy+J3uq3yZYRmVG8ikrlutyUDM/DRzZvM7iD5TProObodBV6bkP5a4gqXPf0a/baUqo\n",
       "zEi+ZutsQd72ISUcvjElZ0XU3hZNnYLyG+p7mzbREspZ0sCk1TQWo95REbGCWajnL3vn0LGe7dbs\n",
       "Fiih7Kbh7PS9EuZL1Ke5ZT8IK2Jf7THpVELdxp/IfVvetyVNn2ONkbosAfsLR7akieA/DGU3i/0F\n",
       "dimpFZmA1qsAAAAASUVORK5CYII=\n",
       "\" style=\"display:inline;vertical-align:middle;\" /></a><br>(see <a class=\"ProveItLink\" href=\"../../../__pv_it/theorems/aa55c4a0a3a108f63e750af8a2efe080838dcf790/dependencies.ipynb\">dependencies</a>)<br>"
      ],
      "text/plain": [
       "<IPython.core.display.HTML object>"
      ]
     },
     "metadata": {},
     "output_type": "display_data"
    },
    {
     "name": "stdout",
     "output_type": "stream",
     "text": [
      "iff_via_both_false may now be readily provable (assuming required theorems are usable).  Simply execute \"%qed\".\n"
     ]
    }
   ],
   "source": [
    "%proving iff_via_both_false"
   ]
  },
  {
   "cell_type": "code",
   "execution_count": null,
   "metadata": {},
   "outputs": [],
   "source": []
  }
 ],
 "metadata": {
  "kernelspec": {
   "display_name": "Python 3",
   "language": "python",
   "name": "python3"
  }
 },
 "nbformat": 4,
 "nbformat_minor": 0
}