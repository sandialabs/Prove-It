{
 "cells": [
  {
   "cell_type": "markdown",
   "metadata": {},
   "source": [
    "Proof of <a class=\"ProveItLink\" href=\"../../../../../../_theory_nbs_/theory.ipynb\">proveit</a>.<a class=\"ProveItLink\" href=\"../../../../../_theory_nbs_/theory.ipynb\">logic</a>.<a class=\"ProveItLink\" href=\"../../../../_theory_nbs_/theory.ipynb\">booleans</a>.<a class=\"ProveItLink\" href=\"../../theory.ipynb\">implication</a>.<a class=\"ProveItLink\" href=\"../../theorems.ipynb#iff_implies_left\">iff_implies_left</a> theorem\n",
    "========"
   ]
  },
  {
   "cell_type": "code",
   "execution_count": 1,
   "metadata": {},
   "outputs": [],
   "source": [
    "import proveit\n",
    "from proveit.logic.booleans.implication  import iff_def\n",
    "from proveit import A, B\n",
    "theory = proveit.Theory() # the theorem's theory"
   ]
  },
  {
   "cell_type": "code",
   "execution_count": 2,
   "metadata": {},
   "outputs": [
    {
     "data": {
      "text/html": [
       "With these <a href=\"allowed_presumptions.txt\">allowed</a>/<a href=\"disallowed_presumptions.txt\">disallowed</a> theorem/theory presumptions (e.g., to avoid circular dependencies), we begin our proof of<br><strong id=\"iff_implies_left\">iff_implies_left:</strong> <a class=\"ProveItLink\" href=\"../../../__pv_it/theorems/6956678b2f79c31b3c488463851bb36a09bb497a0/expr.ipynb\"><img src=\"data:image/png;base64,iVBORw0KGgoAAAANSUhEUgAAAMIAAAAXBAMAAACrPI2eAAAAMFBMVEX///8AAAAAAAAAAAAAAAAA\n",
       "AAAAAAAAAAAAAAAAAAAAAAAAAAAAAAAAAAAAAAAAAAAv3aB7AAAAD3RSTlMAq1RmmUTNIjK7EInv\n",
       "3XZ/CtNrAAAACXBIWXMAAA7EAAAOxAGVKw4bAAAC2klEQVRIx61VX0hTURz+dJt3u9PlQCKfNgiC\n",
       "wGiQCBHmIvsjM1r1YhFoSEgycL0EgTR7DIJJRLVedoUIghYagg970HyI/lAMKvBldMtXyYo0M3D9\n",
       "fmc7u8cx/zQ9cM499/zO+X3nfN937gW2ULRtmLF++bp++BrgMIF67u+uCKB6FLAlf3h3PigfH6A6\n",
       "Cxzjfl9FCI+5qR0GfENlN5CjpsbATWZruCKEo9zEiIfuYLmw3RelMwYZBG5/RQhT3LTR/ttMOeQy\n",
       "rPDEJB/tDWwBOkplMvRw66Maicoxp8WGZs7zxnuBd9ns24oQ7KPcvgZGZqzBQ1YY+2nzGANOAg/F\n",
       "kFGSQHb0NRBqOIHzz7cvveL1VJbL56IkZxHnLbQAV6EJx+qvRODWr3SHsIZLTn2qOMWZDI1Lb9Yx\n",
       "CZ7fQFNAwd0jNQ0ixnmbWBx3mEfcP0XAloFnahXCpOqDVmCu0K3lZS6a615SJugRkQ2eu+0+FiVO\n",
       "gpl5obvei0dVELbvKoLjNjlFD0ITtDeQc1SEHbRP24p6kSfyz2cUy9DzItWew2LIvJRf50cqoCJ4\n",
       "aihJFbnlBL9NQ/+gshSnuVULlg7ZviJJqGMu9lF93i8S4biIxGabd0FFMO3kys5EIhEhPbSVA0ek\n",
       "LC6+BfMEHe+xjnBenpwvAXNxkOqgELqrwG8r9AYVwTFEspwRUrQbrNKIdIub10VoxkvLhZoEG+QM\n",
       "5AKEmHmxqVDaZxSIjoUVBHt6bBmNIrQ3zCppC9JXRHNjzuu9ojjBVTjgk1w/qpOLJN0nGfJQ4qE8\n",
       "0ehW3WpCW4KTSErcCwiVHEXnzGzif6BlZO8cSe/XR6EtQ/+osMR8ko1T+Q8xYgZSxTvVvJmLL++K\n",
       "/QX005ed02j5m+7wKwid9Xi0GOZfgU7utg2kx+9YlEQ3Rrhe+jFT+q5VkSh0o3S1vomP/v2S9wtr\n",
       "IpQtNzac4Sk9ZuD/ELZYtG3K8w8FDqkOIJKb5QAAAABJRU5ErkJggg==\n",
       "\" style=\"display:inline;vertical-align:middle;\" /></a><br>(see <a class=\"ProveItLink\" href=\"../../../__pv_it/theorems/7c884a8aafeac741955b8daa63d9c9497be3f4ba0/dependencies.ipynb\">dependencies</a>)<br>"
      ],
      "text/plain": [
       "<IPython.core.display.HTML object>"
      ]
     },
     "metadata": {},
     "output_type": "display_data"
    }
   ],
   "source": [
    "%proving iff_implies_left"
   ]
  },
  {
   "cell_type": "code",
   "execution_count": 3,
   "metadata": {},
   "outputs": [
    {
     "data": {
      "text/html": [
       "<span style=\"font-size:20px;\"> <a class=\"ProveItLink\" href=\"../../axioms.ipynb#iff_def\" style=\"text-decoration: none\">&nbsp;&#x22A2;&nbsp;&nbsp;</a><a class=\"ProveItLink\" href=\"../../../__pv_it/axioms/58a59ea31f5a83ad01737244ae60b8d4dd112afb0/expr.ipynb\"><img src=\"data:image/png;base64,iVBORw0KGgoAAAANSUhEUgAAAXkAAAAWBAMAAADX+PE1AAAAMFBMVEX///8AAAAAAAAAAAAAAAAA\n",
       "AAAAAAAAAAAAAAAAAAAAAAAAAAAAAAAAAAAAAAAAAAAv3aB7AAAAD3RSTlMAq1RmmUTNIjK7EInv\n",
       "3XZ/CtNrAAAACXBIWXMAAA7EAAAOxAGVKw4bAAAD3klEQVRYw9WWTUhUURTHjzOj83zjvBQq2oRC\n",
       "EYSLJpAgohr7IpFIamMRZUVIGTRuhCizlkGRRFBE6KwEoULduHCRGn0RxRDhqqEBFxFEmYlWUtO9\n",
       "95xz38ybO80wuekPfxzfub/3zr333A+AvypGLtxqqcjimKLe7tShhbr+0uzo0pHE5FOwDRl2tXy4\n",
       "Jk/jerLQOVN8c7qm5vRlcCJLRta7MZMqZkAx7N3yYbs5ebsNLeRLG1u8ACj7DnDmn8kRl9MxgzaI\n",
       "7BVDviLno9ecfSCClj9rTWUW/A1QPgfQ8K+kPeVyOmZQ4wIgQ66IA4TyFFsVWWj0EU1lBWCPlfxi\n",
       "hPziW1XxIkipu3lIZ2OL5nSMVOm+PHRBTolkyP4IZmTSOrIYjtQX6uG0fB/nUyYmsuKZcKQIUuoq\n",
       "mMmw1as5HSNZbmVccmYBGfarZPJlnuybyWJGYUPEfZXN1VrVC/Zq0ZVQdWESh3zITNbT0mvOjLG2\n",
       "6F9R3zdAhr2X5zOek/1JMsABuIHfvSY6m0w+pbY3+j6vlLn55WILJJWqzSRFuZyzSLltrNVf1DGA\n",
       "fYp5HyWovM5aJIbdCUH1Qfs5zu3cWBP3+w1ZdBp6VCMHO2rdxAZfYuB7LPeVcU+/c0mS74SJtKoh\n",
       "HGdOx9w6pNoLQPArMezKeEitmNAszm0CHM7lCRmcW7tqVclMUOQ+ZnRPWC5Ka8aTfQ6pNfDEQJaJ\n",
       "nT/FnI65++9ZXNMfdzX+AGTYvhQu2tbXuJyi4J/x5vAQYFlC/ujE+gl2YAM5EtvFZ8vH82WvSd4p\n",
       "O2IGckBkmNDZc0yraxQ7IZ79AmTY0LZNxVLHcTnVwYOId/5F4YUxwa1YvjgyllxDtWJcfAlP3eeS\n",
       "FJ2KGUh1Vu1gTse47pPtXDgA7wAZNoyoHcSBPapJz3TDKu5zH7k8gme0LKxoxtnsiLPDmpdPvced\n",
       "gcR112skE3wd6suMsQ7R34N07ZAMGy6q0WqFTzi4YC9nbJh8Ue7xC/hshRyEFjq5xKgekX0PDHmy\n",
       "N5GZN7Zs0p/iQ2Q4M5ZxM1N/5Rz2x5BhyyUjd9qxWrXqReo9lBxcRw+mz4Cvfx4zFCUK5+nE6f9a\n",
       "s1LtPuEWT/YmUuqOkSyTX7ZSyLgxPmuxTO3++TisT3cgw6apFEmrVpMAx3i9hy+jsy4o8kXeg6Hb\n",
       "+8BEGm/v3blczpXIxHRnsaKmltXZQxD8CfZbfTJGudALaKf3Qalk0czOTDYwAfb+U9YkbFoca3Lv\n",
       "JbfJBWS4o5ZKFsmws+Tz/D9ILqDK3DtwqWSRDDtLh73dTKEL6INhgEoki2Q+mNgI/F/6A9dMcbXF\n",
       "hKa/AAAAAElFTkSuQmCC\n",
       "\" style=\"display:inline;vertical-align:middle;\" /></a></span>"
      ],
      "text/plain": [
       "|- forall_{A, B} ((A <=> B) = ((A => B) and (B => A)))"
      ]
     },
     "metadata": {},
     "output_type": "display_data"
    }
   ],
   "source": [
    "iff_def"
   ]
  },
  {
   "cell_type": "code",
   "execution_count": 4,
   "metadata": {},
   "outputs": [
    {
     "data": {
      "text/html": [
       "<strong id=\"iff_def_spec\">iff_def_spec:</strong> <span style=\"font-size:20px;\"> <a class=\"ProveItLink\" href=\"../../../__pv_it/_proof_iff_implies_left/b7aba8a005f5ba408b795ab73886a80c28ee71c20/proof.ipynb\" style=\"text-decoration: none\">&nbsp;&#x22A2;&nbsp;&nbsp;</a><a class=\"ProveItLink\" href=\"../../../__pv_it/axioms/6a1fb7a4625d5d14b9fb08d72f3e6598f52293a40/expr.ipynb\"><img src=\"data:image/png;base64,iVBORw0KGgoAAAANSUhEUgAAATEAAAAVBAMAAADcAcTPAAAAMFBMVEX///8AAAAAAAAAAAAAAAAA\n",
       "AAAAAAAAAAAAAAAAAAAAAAAAAAAAAAAAAAAAAAAAAAAv3aB7AAAAD3RSTlMAInZUiRDNmWbv3US7\n",
       "qzJazP2FAAAACXBIWXMAAA7EAAAOxAGVKw4bAAADwUlEQVRIx5VWX0iTURQ/2/zmnNvnkAiKwGUv\n",
       "PRTuQQwjcNJzNHoQAgMlBYWgQYJSCHuIfDG0h6KwYCAIGpnUS0LQMiJ6SR/Ch0i2ZxHWPzRKXeee\n",
       "c+/9rt8+mztwuNs993fP755z7rkfAMSgknit8EmtFlnZm0+t8ifo/+H/rH3hMXdCKu7UUwVSettX\n",
       "kEZ9XOJaeeq617rx0tratQL4M2WWQJIVJfjNAxla3llb/VSObHVsniJonATCWXziQMlz4WOA6C5A\n",
       "f5mhSypKhxczqMsB5AsaeZ4H9iZtHkI0ginyWMunqs17FtMPDO4WwFiZZUQqyuh3Lx9NmJM3aYW0\n",
       "Znhkb9LmIUQjlCaPdTzVeVGdAU9lr6icYLxCyK4u5d5iUipAzaFdZ/q9/jWB+03EFdJ/d4Ejadqk\n",
       "RIzNmcZ98tjGwYm3yNKkylBFEMVEBe+hussl0MOK0uj/6cxv6F951MGYQobtHI1tpk2KNBk0Bsjj\n",
       "EEcROjLG3l0pXSzWFzxFzYo76klWlHTgt1H4SaNCr8xrZCv00jhk2pTcdrZlGhcIN0BTL6HIe9qP\n",
       "5lBmZeEWl5pXxdIQheemMM09o/uYUYGsT9i/aFMyzm2pQGw3nx7QSOR1hsYB06Z2fK5LTtK4Q7hp\n",
       "Pjg08eFOcbQ2OLctMQg8FMmbdMUsnGAVx/TtmGm+KosCr0V7RiGxcMO08bRp09Kmmpyk0U64KVr7\n",
       "YThP2b4s02Y9oeEjqqhJ290Y6hZY8SjDo9t72skUlzUyqtlVyCj2RKr4KdOmxRrk+6FoFAlHay8B\n",
       "NGSpBD/LVsy5FdEQl6h+cj9mFlr/mH2mjyu7YYVvNSOx81lZzUzZnMbfyaOisUi4aY4ihNl5iMuF\n",
       "69MWtZ1HAoGsq850NmtRZ406m5FXrojZiv5VSNFnb+hsKpvaca5XJ5NpnCXckqjijPPGUGsMxnSx\n",
       "2JuCb84Vs0icFV7tfdjq1UKsUCj2KGRWPcxLpk3JawVWNMYJhzcUjghfspNHRY5u8e8gHmCxH3SD\n",
       "cEQ0A6E+ccTlmPkgswyiowcpiQyJM0QK3A8cmyoARVLTGCLcOkB3qR8Cy5tJ/bL5+ORR8fK+o+Qt\n",
       "uJjZWVJreTMF50p9el616K/iUyChkFFBwxb01k2bir98fRwaTwkXLnh8QLkfo6NlD9y81EpfXy5k\n",
       "uOD9PbZ3Iku4UBoqy0jZzBh4vfMVkQfyJp59gXtbeakvVzYVibFWizyANzgmcd2Vl3pQsHKs1SIP\n",
       "4E2wJ5wvXnHpcY+5RqlVIg/gzR8j3D/+Yyt9amQ6tAAAAABJRU5ErkJggg==\n",
       "\" style=\"display:inline;vertical-align:middle;\" /></a></span><br>"
      ],
      "text/plain": [
       "<IPython.core.display.HTML object>"
      ]
     },
     "metadata": {},
     "output_type": "display_data"
    }
   ],
   "source": [
    "iff_def_spec = iff_def.instantiate({A:A, B:B})"
   ]
  },
  {
   "cell_type": "code",
   "execution_count": 5,
   "metadata": {},
   "outputs": [
    {
     "data": {
      "text/html": [
       "<strong id=\"iff_unfolded\">iff_unfolded:</strong> <span style=\"font-size:20px;\"><a class=\"ProveItLink\" href=\"../../../__pv_it/axioms/354ec164e0e28f03ef1fb1858764e0da4a36a45b0/expr.ipynb\"><img src=\"data:image/png;base64,iVBORw0KGgoAAAANSUhEUgAAAEAAAAAQBAMAAABUyWQaAAAAMFBMVEX///8AAAAAAAAAAAAAAAAA\n",
       "AAAAAAAAAAAAAAAAAAAAAAAAAAAAAAAAAAAAAAAAAAAv3aB7AAAAD3RSTlMAIs1UmauJMnZmRLsQ\n",
       "3e++988cAAAACXBIWXMAAA7EAAAOxAGVKw4bAAABEklEQVQoz2NgAAEhBgJAH5vg7P+hodoFYCbz\n",
       "f6zaXjMwsH4Hs1jiBbDIM/5gYOD6AmYm5hdABRUYGNgDoGxOoG7OH2ClDf0GEDGOCUBiO1QB6wcG\n",
       "BqaHYBsY7CdAxKpBxKEDEA7fBgaeWLDRixnqE8BC7O/uAsE9HYiC+h0dQRCNDgzyEHu7IXqrIRb2\n",
       "CzAwvwRbvMUlfgOIcQ7qPJ6nYGofEINdf4KBgf8C2LFhEAVCEAu/AvH8BrANDLwPIB67CwbXIQ76\n",
       "CSTiFwDDAugQpg8QvVNABBMk1Dg+AhV9AjLkgJj7I9TrQA0MXhA2E9DUdUAPnf6vw8C8/xPEWh5g\n",
       "SDJugKjd/zU0aDNG+INMP4AiAgCe/UbsFJCeOgAAAABJRU5ErkJggg==\n",
       "\" style=\"display:inline;vertical-align:middle;\" /></a> <a class=\"ProveItLink\" href=\"../../../__pv_it/_proof_iff_implies_left/238a94aff902b675dc6cc16f78953bc5fae885670/proof.ipynb\" style=\"text-decoration: none\">&nbsp;&#x22A2;&nbsp;&nbsp;</a><a class=\"ProveItLink\" href=\"../../../__pv_it/axioms/aafda48177228a289fb8cc09dda48ed2232b2d480/expr.ipynb\"><img src=\"data:image/png;base64,iVBORw0KGgoAAAANSUhEUgAAALUAAAAVBAMAAADyYbJ0AAAAMFBMVEX///8AAAAAAAAAAAAAAAAA\n",
       "AAAAAAAAAAAAAAAAAAAAAAAAAAAAAAAAAAAAAAAAAAAv3aB7AAAAD3RSTlMAInZUiRDNmWbv3US7\n",
       "qzJazP2FAAAACXBIWXMAAA7EAAAOxAGVKw4bAAACdUlEQVQ4y41UTWgTQRT+Nts0m781iBT0YvQs\n",
       "tIcSL0JbPBeDh556aLCFCoIBCxWh0IPgRbHeCu0hECjYi6IXBQ8xIuLF5NSDENJzEdqqRBFrnPfe\n",
       "zDqNq7sfLG/efO+bmffezAIoIAqFGDOhEYkxHo/8J+7Z4ITW/AvOnNaMi38zLOh+v9O5sYvE6sD8\n",
       "+B8uDMMHYE1yjl23Hxq1CeR/AQvavSxGNJoLwYRamzQpOVOqG1ZC5zOQ/Qbc02tuiWWN4UKwcgjW\n",
       "pMWdumKl99YMPHUuT62RLkuZHzxlm7Y5jVw5GA6donSUpiQHLI5a7flkBnmV3PAj9UlyGb/BtmRz\n",
       "GpoinEx8AWuWJEtMWP3yJvUg3UDyo0poqK1bWGG7ZHMGd4NR1f0O1iyy+xz7vF5qm2HKuN88v0N7\n",
       "etLwCi6yXbQ54A5rnlS1KDvmfxVNXbbC2bbVDPea2NEC3HXy1zjtNjJc1brNBSjpqqbgHIlmg5v0\n",
       "brnbsONmeBrv1UdN9g+4wuqmF2mwYXMBktel0xeWV36CNRx3FThRs+/evNxI2v+hWi7L555R+lqw\n",
       "tuECjEzJFmruB1hTl5Igs2bVe0uW9qknXXUat2Zezi1Tk4Az9d6umJIAj8GaJm2xKu/UIKvrk1Bv\n",
       "wO9RX3iiZn47TZszeKXtC/0DUZppZU7T3T+0sjP/BZXLS3rvKbpEHhUgRxWetjnr/8SW8m8VWLMH\n",
       "zPYX4LZ6k0HcB/1yWkednTf8aCj3PN0RnzbYsznzLqWtyVavjEv9edZkdmP8r88cd8M0TojGqyIa\n",
       "t4+7sTWvo8OcxsBEXM1sdFxusEhxNU4xMu7cX4eKpfkNRtC5ymPSbhkAAAAASUVORK5CYII=\n",
       "\" style=\"display:inline;vertical-align:middle;\" /></a></span><br>"
      ],
      "text/plain": [
       "<IPython.core.display.HTML object>"
      ]
     },
     "metadata": {},
     "output_type": "display_data"
    },
    {
     "name": "stdout",
     "output_type": "stream",
     "text": [
      "iff_implies_left may now be readily provable (assuming required theorems are usable).  Simply execute \"%qed\".\n"
     ]
    }
   ],
   "source": [
    "iff_unfolded = iff_def_spec.derive_right_via_equality(\n",
    "    assumptions=iff_implies_left.conditions)"
   ]
  },
  {
   "cell_type": "code",
   "execution_count": 6,
   "metadata": {},
   "outputs": [
    {
     "data": {
      "text/html": [
       "<span style=\"font-size:20px;\"><a class=\"ProveItLink\" href=\"../../../__pv_it/axioms/354ec164e0e28f03ef1fb1858764e0da4a36a45b0/expr.ipynb\"><img src=\"data:image/png;base64,iVBORw0KGgoAAAANSUhEUgAAAEAAAAAQBAMAAABUyWQaAAAAMFBMVEX///8AAAAAAAAAAAAAAAAA\n",
       "AAAAAAAAAAAAAAAAAAAAAAAAAAAAAAAAAAAAAAAAAAAv3aB7AAAAD3RSTlMAIs1UmauJMnZmRLsQ\n",
       "3e++988cAAAACXBIWXMAAA7EAAAOxAGVKw4bAAABEklEQVQoz2NgAAEhBgJAH5vg7P+hodoFYCbz\n",
       "f6zaXjMwsH4Hs1jiBbDIM/5gYOD6AmYm5hdABRUYGNgDoGxOoG7OH2ClDf0GEDGOCUBiO1QB6wcG\n",
       "BqaHYBsY7CdAxKpBxKEDEA7fBgaeWLDRixnqE8BC7O/uAsE9HYiC+h0dQRCNDgzyEHu7IXqrIRb2\n",
       "CzAwvwRbvMUlfgOIcQ7qPJ6nYGofEINdf4KBgf8C2LFhEAVCEAu/AvH8BrANDLwPIB67CwbXIQ76\n",
       "CSTiFwDDAugQpg8QvVNABBMk1Dg+AhV9AjLkgJj7I9TrQA0MXhA2E9DUdUAPnf6vw8C8/xPEWh5g\n",
       "SDJugKjd/zU0aDNG+INMP4AiAgCe/UbsFJCeOgAAAABJRU5ErkJggg==\n",
       "\" style=\"display:inline;vertical-align:middle;\" /></a> <a class=\"ProveItLink\" href=\"../../../__pv_it/_proof_iff_implies_left/200d869c0dc09f4228bf8a5746ee1ea51dd74d140/proof.ipynb\" style=\"text-decoration: none\">&nbsp;&#x22A2;&nbsp;&nbsp;</a><a class=\"ProveItLink\" href=\"../../../__pv_it/axioms/dd5a6fa797dcaf2dec856fef9be29bef6326bd0c0/expr.ipynb\"><img src=\"data:image/png;base64,iVBORw0KGgoAAAANSUhEUgAAAEAAAAAQBAMAAABUyWQaAAAAMFBMVEX///8AAAAAAAAAAAAAAAAA\n",
       "AAAAAAAAAAAAAAAAAAAAAAAAAAAAAAAAAAAAAAAAAAAv3aB7AAAAD3RSTlMAZrurzTLvInZEmRDd\n",
       "VIkafcLnAAAACXBIWXMAAA7EAAAOxAGVKw4bAAAA7UlEQVQoz2NgwAfYHUCk0H9jY6cArApYPoCp\n",
       "JAYG5q9YFdwHK2D/wcDA+QurgsXfQSQjUDfjD7gg0wY4k68ObDAz0ByWdLgoqwKcWcHxF0SxKTBw\n",
       "2yA5Ug7OWsD7EUTFa3SYCIAF1pwBgfMLoPKcF1j/gej+AgbeRGSnXbkAobkY2D+DaDUgfo8cDtxu\n",
       "E8B006rFn0A0SJV8A5KCkucQdUCxPyBXgxxiPwHhhjPuMBsYGI4BMQcwMFi/IBkwCUpPBGJ/UHgn\n",
       "MDBM80aPICANFGfQL2Bg1v9sbKKLZAATxL3c+l82MFz674clilG5AC5FPtYuFkkyAAAAAElFTkSu\n",
       "QmCC\n",
       "\" style=\"display:inline;vertical-align:middle;\" /></a></span>"
      ],
      "text/plain": [
       "{A <=> B} |- B => A"
      ]
     },
     "metadata": {},
     "output_type": "display_data"
    }
   ],
   "source": [
    "iff_unfolded.derive_right()"
   ]
  },
  {
   "cell_type": "code",
   "execution_count": 7,
   "metadata": {},
   "outputs": [
    {
     "name": "stdout",
     "output_type": "stream",
     "text": [
      "proveit.logic.booleans.implication.iff_implies_left has been proven.\n"
     ]
    },
    {
     "data": {
      "text/html": [
       "<table><tr><th>&nbsp;</th><th>step type</th><th>requirements</th><th>statement</th></tr>\n",
       "<tr><td><a name=\"-0x705d713bdeebe5f3_step0\">0</a></td><td>generalization</td><td><a href=\"#-0x705d713bdeebe5f3_step1\">1</a></td><td><span style=\"font-size:20px;\"> <a class=\"ProveItLink\" href=\"../../../__pv_it/_proof_iff_implies_left/ab1e09b4349fd5f547d9cec9df37a6ad58b4180e0/proof.ipynb\" style=\"text-decoration: none\">&nbsp;&#x22A2;&nbsp;&nbsp;</a><a class=\"ProveItLink\" href=\"../../../__pv_it/theorems/6956678b2f79c31b3c488463851bb36a09bb497a0/expr.ipynb\"><img src=\"data:image/png;base64,iVBORw0KGgoAAAANSUhEUgAAAMIAAAAXBAMAAACrPI2eAAAAMFBMVEX///8AAAAAAAAAAAAAAAAA\n",
       "AAAAAAAAAAAAAAAAAAAAAAAAAAAAAAAAAAAAAAAAAAAv3aB7AAAAD3RSTlMAq1RmmUTNIjK7EInv\n",
       "3XZ/CtNrAAAACXBIWXMAAA7EAAAOxAGVKw4bAAAC2klEQVRIx61VX0hTURz+dJt3u9PlQCKfNgiC\n",
       "wGiQCBHmIvsjM1r1YhFoSEgycL0EgTR7DIJJRLVedoUIghYagg970HyI/lAMKvBldMtXyYo0M3D9\n",
       "fmc7u8cx/zQ9cM499/zO+X3nfN937gW2ULRtmLF++bp++BrgMIF67u+uCKB6FLAlf3h3PigfH6A6\n",
       "Cxzjfl9FCI+5qR0GfENlN5CjpsbATWZruCKEo9zEiIfuYLmw3RelMwYZBG5/RQhT3LTR/ttMOeQy\n",
       "rPDEJB/tDWwBOkplMvRw66Maicoxp8WGZs7zxnuBd9ns24oQ7KPcvgZGZqzBQ1YY+2nzGANOAg/F\n",
       "kFGSQHb0NRBqOIHzz7cvveL1VJbL56IkZxHnLbQAV6EJx+qvRODWr3SHsIZLTn2qOMWZDI1Lb9Yx\n",
       "CZ7fQFNAwd0jNQ0ixnmbWBx3mEfcP0XAloFnahXCpOqDVmCu0K3lZS6a615SJugRkQ2eu+0+FiVO\n",
       "gpl5obvei0dVELbvKoLjNjlFD0ITtDeQc1SEHbRP24p6kSfyz2cUy9DzItWew2LIvJRf50cqoCJ4\n",
       "aihJFbnlBL9NQ/+gshSnuVULlg7ZviJJqGMu9lF93i8S4biIxGabd0FFMO3kys5EIhEhPbSVA0ek\n",
       "LC6+BfMEHe+xjnBenpwvAXNxkOqgELqrwG8r9AYVwTFEspwRUrQbrNKIdIub10VoxkvLhZoEG+QM\n",
       "5AKEmHmxqVDaZxSIjoUVBHt6bBmNIrQ3zCppC9JXRHNjzuu9ojjBVTjgk1w/qpOLJN0nGfJQ4qE8\n",
       "0ehW3WpCW4KTSErcCwiVHEXnzGzif6BlZO8cSe/XR6EtQ/+osMR8ko1T+Q8xYgZSxTvVvJmLL++K\n",
       "/QX005ed02j5m+7wKwid9Xi0GOZfgU7utg2kx+9YlEQ3Rrhe+jFT+q5VkSh0o3S1vomP/v2S9wtr\n",
       "IpQtNzac4Sk9ZuD/ELZYtG3K8w8FDqkOIJKb5QAAAABJRU5ErkJggg==\n",
       "\" style=\"display:inline;vertical-align:middle;\" /></a></span></td></tr>\n",
       "<tr><td><a name=\"-0x705d713bdeebe5f3_step1\">1</a></td><td>instantiation</td><td><a href=\"#-0x705d713bdeebe5f3_step2\">2</a>, <a href=\"#-0x705d713bdeebe5f3_step3\">3</a></td><td><span style=\"font-size:20px;\"><a class=\"ProveItLink\" href=\"../../../__pv_it/axioms/354ec164e0e28f03ef1fb1858764e0da4a36a45b0/expr.ipynb\"><img src=\"data:image/png;base64,iVBORw0KGgoAAAANSUhEUgAAAEAAAAAQBAMAAABUyWQaAAAAMFBMVEX///8AAAAAAAAAAAAAAAAA\n",
       "AAAAAAAAAAAAAAAAAAAAAAAAAAAAAAAAAAAAAAAAAAAv3aB7AAAAD3RSTlMAIs1UmauJMnZmRLsQ\n",
       "3e++988cAAAACXBIWXMAAA7EAAAOxAGVKw4bAAABEklEQVQoz2NgAAEhBgJAH5vg7P+hodoFYCbz\n",
       "f6zaXjMwsH4Hs1jiBbDIM/5gYOD6AmYm5hdABRUYGNgDoGxOoG7OH2ClDf0GEDGOCUBiO1QB6wcG\n",
       "BqaHYBsY7CdAxKpBxKEDEA7fBgaeWLDRixnqE8BC7O/uAsE9HYiC+h0dQRCNDgzyEHu7IXqrIRb2\n",
       "CzAwvwRbvMUlfgOIcQ7qPJ6nYGofEINdf4KBgf8C2LFhEAVCEAu/AvH8BrANDLwPIB67CwbXIQ76\n",
       "CSTiFwDDAugQpg8QvVNABBMk1Dg+AhV9AjLkgJj7I9TrQA0MXhA2E9DUdUAPnf6vw8C8/xPEWh5g\n",
       "SDJugKjd/zU0aDNG+INMP4AiAgCe/UbsFJCeOgAAAABJRU5ErkJggg==\n",
       "\" style=\"display:inline;vertical-align:middle;\" /></a> <a class=\"ProveItLink\" href=\"../../../__pv_it/_proof_iff_implies_left/200d869c0dc09f4228bf8a5746ee1ea51dd74d140/proof.ipynb\" style=\"text-decoration: none\">&nbsp;&#x22A2;&nbsp;&nbsp;</a><a class=\"ProveItLink\" href=\"../../../__pv_it/axioms/dd5a6fa797dcaf2dec856fef9be29bef6326bd0c0/expr.ipynb\"><img src=\"data:image/png;base64,iVBORw0KGgoAAAANSUhEUgAAAEAAAAAQBAMAAABUyWQaAAAAMFBMVEX///8AAAAAAAAAAAAAAAAA\n",
       "AAAAAAAAAAAAAAAAAAAAAAAAAAAAAAAAAAAAAAAAAAAv3aB7AAAAD3RSTlMAZrurzTLvInZEmRDd\n",
       "VIkafcLnAAAACXBIWXMAAA7EAAAOxAGVKw4bAAAA7UlEQVQoz2NgwAfYHUCk0H9jY6cArApYPoCp\n",
       "JAYG5q9YFdwHK2D/wcDA+QurgsXfQSQjUDfjD7gg0wY4k68ObDAz0ByWdLgoqwKcWcHxF0SxKTBw\n",
       "2yA5Ug7OWsD7EUTFa3SYCIAF1pwBgfMLoPKcF1j/gej+AgbeRGSnXbkAobkY2D+DaDUgfo8cDtxu\n",
       "E8B006rFn0A0SJV8A5KCkucQdUCxPyBXgxxiPwHhhjPuMBsYGI4BMQcwMFi/IBkwCUpPBGJ/UHgn\n",
       "MDBM80aPICANFGfQL2Bg1v9sbKKLZAATxL3c+l82MFz674clilG5AC5FPtYuFkkyAAAAAElFTkSu\n",
       "QmCC\n",
       "\" style=\"display:inline;vertical-align:middle;\" /></a></span></td></tr>\n",
       "<tr><td>&nbsp;</td><td colspan=4 style=\"text-align:left\"><span style=\"font-size:20px;\"><a class=\"ProveItLink\" href=\"../../../../../../__pv_it/common/09585084922504426caf1db2ff588a23a0932a960/expr.ipynb\"><img src=\"data:image/png;base64,iVBORw0KGgoAAAANSUhEUgAAAA8AAAAPBAMAAADJ+Ih5AAAAMFBMVEX///8AAAAAAAAAAAAAAAAA\n",
       "AAAAAAAAAAAAAAAAAAAAAAAAAAAAAAAAAAAAAAAAAAAv3aB7AAAAD3RSTlMAIs1UmauJMnZmRLsQ\n",
       "3e++988cAAAACXBIWXMAAA7EAAAOxAGVKw4bAAAAXklEQVQI12NgAAEhBijQh9LM/6EMlngBCCMx\n",
       "vwBMMzb0G0BkGOwngBmLGeoTwAwHBvkAEM2xxSV+A4hxgoGB/wJEhoH3AZDmAupg+gBkyAEx90cG\n",
       "htP/dRiY939KAABt3hLO6mcEjQAAAABJRU5ErkJggg==\n",
       "\" style=\"display:inline;vertical-align:middle;\" /></a> : <a class=\"ProveItLink\" href=\"../../../__pv_it/axioms/d78c7a0a66f0f0f40e69d505fb93268ea9af46dc0/expr.ipynb\"><img src=\"data:image/png;base64,iVBORw0KGgoAAAANSUhEUgAAAEAAAAAQBAMAAABUyWQaAAAAMFBMVEX///8AAAAAAAAAAAAAAAAA\n",
       "AAAAAAAAAAAAAAAAAAAAAAAAAAAAAAAAAAAAAAAAAAAv3aB7AAAAD3RSTlMAIs1UmauJMnZmRLsQ\n",
       "3e++988cAAAACXBIWXMAAA7EAAAOxAGVKw4bAAAA8UlEQVQoz2NgAAEhBgJAH5vg7P+hodoFYCbz\n",
       "f6zaXjMwsH4Hs1jiBbDIM/5gYOD6AmYm5hcgxPfAGJxA3Zw/wEob+g0QCqphDNYPDAxMD8E2MNhP\n",
       "QCjgTIAy+DYw8MSCjV7MUA8WZLkLBl+gCup3dARBNDowyAcgOY5ZGUL3CzAwvwQxOLa4xG9Adv6h\n",
       "V2BqHxCDXX+CgYH/ArL31CCe/grE8xvANjDwPkBywyWIPPtPIBG/ABgWQIcwfUAYwAW1juMjUNEn\n",
       "IEMOiLk/IhTAIo4JaOo6HQaG0/91GJj3f0qAK9gODab9X0ODNmOLIrRoAQDyg0EOXpubEgAAAABJ\n",
       "RU5ErkJggg==\n",
       "\" style=\"display:inline;vertical-align:middle;\" /></a>, <a class=\"ProveItLink\" href=\"../../../../../../__pv_it/common/a9162d1c3cc0470c02e5daf414500903a7a419230/expr.ipynb\"><img src=\"data:image/png;base64,iVBORw0KGgoAAAANSUhEUgAAABAAAAAOBAMAAADUAYG5AAAAMFBMVEX///8AAAAAAAAAAAAAAAAA\n",
       "AAAAAAAAAAAAAAAAAAAAAAAAAAAAAAAAAAAAAAAAAAAv3aB7AAAAD3RSTlMAZrurzTLvInZEmRDd\n",
       "VIkafcLnAAAACXBIWXMAAA7EAAAOxAGVKw4bAAAAb0lEQVQI12NgYBD6b2zsFMAABEkMDMxfgTT7\n",
       "DwYGzl9ABiOQxwjkMDB/YGBgSQcy2BQYuG1AiuM1OkwEQJr6Cxh4E0EMNSB+D5L6DMTyDQwMrB+B\n",
       "DPsJDAwc34GcL0AOSwIDwzRvoHH6n41NdBkYAF/iFeJ4bEa2AAAAAElFTkSuQmCC\n",
       "\" style=\"display:inline;vertical-align:middle;\" /></a> : <a class=\"ProveItLink\" href=\"../../../__pv_it/axioms/dd5a6fa797dcaf2dec856fef9be29bef6326bd0c0/expr.ipynb\"><img src=\"data:image/png;base64,iVBORw0KGgoAAAANSUhEUgAAAEAAAAAQBAMAAABUyWQaAAAAMFBMVEX///8AAAAAAAAAAAAAAAAA\n",
       "AAAAAAAAAAAAAAAAAAAAAAAAAAAAAAAAAAAAAAAAAAAv3aB7AAAAD3RSTlMAZrurzTLvInZEmRDd\n",
       "VIkafcLnAAAACXBIWXMAAA7EAAAOxAGVKw4bAAAA7UlEQVQoz2NgwAfYHUCk0H9jY6cArApYPoCp\n",
       "JAYG5q9YFdwHK2D/wcDA+QurgsXfQSQjUDfjD7gg0wY4k68ObDAz0ByWdLgoqwKcWcHxF0SxKTBw\n",
       "2yA5Ug7OWsD7EUTFa3SYCIAF1pwBgfMLoPKcF1j/gej+AgbeRGSnXbkAobkY2D+DaDUgfo8cDtxu\n",
       "E8B006rFn0A0SJV8A5KCkucQdUCxPyBXgxxiPwHhhjPuMBsYGI4BMQcwMFi/IBkwCUpPBGJ/UHgn\n",
       "MDBM80aPICANFGfQL2Bg1v9sbKKLZAATxL3c+l82MFz674clilG5AC5FPtYuFkkyAAAAAElFTkSu\n",
       "QmCC\n",
       "\" style=\"display:inline;vertical-align:middle;\" /></a></span></td></tr><tr><td><a name=\"-0x705d713bdeebe5f3_step2\">2</a></td><td>theorem</td><td></td><td><span style=\"font-size:20px;\"> <a class=\"ProveItLink\" href=\"../../../../conjunction/_theory_nbs_/proofs/right_from_and/thm_proof.ipynb\" style=\"text-decoration: none\">&nbsp;&#x22A2;&nbsp;&nbsp;</a><a class=\"ProveItLink\" href=\"../../../../conjunction/__pv_it/theorems/53f934d959ef00a2d007db63433e676c9774b52c0/expr.ipynb\"><img src=\"data:image/png;base64,iVBORw0KGgoAAAANSUhEUgAAAHMAAAAVBAMAAACHwMySAAAAMFBMVEX///8AAAAAAAAAAAAAAAAA\n",
       "AAAAAAAAAAAAAAAAAAAAAAAAAAAAAAAAAAAAAAAAAAAv3aB7AAAAD3RSTlMAq1RmmUTNIjK7EInv\n",
       "3XZ/CtNrAAAACXBIWXMAAA7EAAAOxAGVKw4bAAABeklEQVQ4y5WTv0vDQBTHv2lq0yZSDYjolICr\n",
       "QwZxU7soFgcLLqWLFRFRHHQXWkendhQX0z9AENcu2kEUURwcXAoRV/EXir9AfXdRPBNDuQfH+97n\n",
       "3Tdc3kvQCYo+yIS6dW92bwCjbDMvZUV7FbDKWCOpVeWsJQ+YziDhAoYtZx0p0/KgOkBCzgmL1tIy\n",
       "cNJsHktaj4DaBeVxYJMD9289/iPcoDP5enM5y8QKND4g/ZDz9cd6tsxE6vtgkAPpZ6DfYUdcI8eA\n",
       "8eAP7QzpPdEa5FShbLyQiHl+l/KnPCkZqHeiNciBDrql+sFUcZgDb8Yft41tR7QGOVChrDwxtbvI\n",
       "XwBj/rivBnogWEMcuKW5VIpMrfIu5XHN+RD0LtEa4jRSoO2A913hjZuoW3xH9VJOsIY4ej9Nc0H4\n",
       "/tJU4Y9o0OcpDCfMQzFFjbP1HWhv0M+FC4d5MOL70Cfnkg0Mvtez9q/1Hx4RMUGnInhEFCKshdZW\n",
       "J8LqyP1ZWqsDX9Q9YJ4pEB38AAAAAElFTkSuQmCC\n",
       "\" style=\"display:inline;vertical-align:middle;\" /></a></span></td></tr>\n",
       "<tr><td>&nbsp;</td><td colspan=4 style-\"text-align:left\"><a class=\"ProveItLink\" href=\"../../../../conjunction/_theory_nbs_/proofs/right_from_and/thm_proof.ipynb\">proveit.logic.booleans.conjunction.right_from_and</a></td></tr><tr><td><a name=\"-0x705d713bdeebe5f3_step3\">3</a></td><td>instantiation</td><td><a href=\"#-0x705d713bdeebe5f3_step4\">4</a>, <a href=\"#-0x705d713bdeebe5f3_step5\">5</a>, <a href=\"#-0x705d713bdeebe5f3_step6\">6</a></td><td><span style=\"font-size:20px;\"><a class=\"ProveItLink\" href=\"../../../__pv_it/axioms/354ec164e0e28f03ef1fb1858764e0da4a36a45b0/expr.ipynb\"><img src=\"data:image/png;base64,iVBORw0KGgoAAAANSUhEUgAAAEAAAAAQBAMAAABUyWQaAAAAMFBMVEX///8AAAAAAAAAAAAAAAAA\n",
       "AAAAAAAAAAAAAAAAAAAAAAAAAAAAAAAAAAAAAAAAAAAv3aB7AAAAD3RSTlMAIs1UmauJMnZmRLsQ\n",
       "3e++988cAAAACXBIWXMAAA7EAAAOxAGVKw4bAAABEklEQVQoz2NgAAEhBgJAH5vg7P+hodoFYCbz\n",
       "f6zaXjMwsH4Hs1jiBbDIM/5gYOD6AmYm5hdABRUYGNgDoGxOoG7OH2ClDf0GEDGOCUBiO1QB6wcG\n",
       "BqaHYBsY7CdAxKpBxKEDEA7fBgaeWLDRixnqE8BC7O/uAsE9HYiC+h0dQRCNDgzyEHu7IXqrIRb2\n",
       "CzAwvwRbvMUlfgOIcQ7qPJ6nYGofEINdf4KBgf8C2LFhEAVCEAu/AvH8BrANDLwPIB67CwbXIQ76\n",
       "CSTiFwDDAugQpg8QvVNABBMk1Dg+AhV9AjLkgJj7I9TrQA0MXhA2E9DUdUAPnf6vw8C8/xPEWh5g\n",
       "SDJugKjd/zU0aDNG+INMP4AiAgCe/UbsFJCeOgAAAABJRU5ErkJggg==\n",
       "\" style=\"display:inline;vertical-align:middle;\" /></a> <a class=\"ProveItLink\" href=\"../../../__pv_it/_proof_iff_implies_left/238a94aff902b675dc6cc16f78953bc5fae885670/proof.ipynb\" style=\"text-decoration: none\">&nbsp;&#x22A2;&nbsp;&nbsp;</a><a class=\"ProveItLink\" href=\"../../../__pv_it/axioms/aafda48177228a289fb8cc09dda48ed2232b2d480/expr.ipynb\"><img src=\"data:image/png;base64,iVBORw0KGgoAAAANSUhEUgAAALUAAAAVBAMAAADyYbJ0AAAAMFBMVEX///8AAAAAAAAAAAAAAAAA\n",
       "AAAAAAAAAAAAAAAAAAAAAAAAAAAAAAAAAAAAAAAAAAAv3aB7AAAAD3RSTlMAInZUiRDNmWbv3US7\n",
       "qzJazP2FAAAACXBIWXMAAA7EAAAOxAGVKw4bAAACdUlEQVQ4y41UTWgTQRT+Nts0m781iBT0YvQs\n",
       "tIcSL0JbPBeDh556aLCFCoIBCxWh0IPgRbHeCu0hECjYi6IXBQ8xIuLF5NSDENJzEdqqRBFrnPfe\n",
       "zDqNq7sfLG/efO+bmffezAIoIAqFGDOhEYkxHo/8J+7Z4ITW/AvOnNaMi38zLOh+v9O5sYvE6sD8\n",
       "+B8uDMMHYE1yjl23Hxq1CeR/AQvavSxGNJoLwYRamzQpOVOqG1ZC5zOQ/Qbc02tuiWWN4UKwcgjW\n",
       "pMWdumKl99YMPHUuT62RLkuZHzxlm7Y5jVw5GA6donSUpiQHLI5a7flkBnmV3PAj9UlyGb/BtmRz\n",
       "GpoinEx8AWuWJEtMWP3yJvUg3UDyo0poqK1bWGG7ZHMGd4NR1f0O1iyy+xz7vF5qm2HKuN88v0N7\n",
       "etLwCi6yXbQ54A5rnlS1KDvmfxVNXbbC2bbVDPea2NEC3HXy1zjtNjJc1brNBSjpqqbgHIlmg5v0\n",
       "brnbsONmeBrv1UdN9g+4wuqmF2mwYXMBktel0xeWV36CNRx3FThRs+/evNxI2v+hWi7L555R+lqw\n",
       "tuECjEzJFmruB1hTl5Igs2bVe0uW9qknXXUat2Zezi1Tk4Az9d6umJIAj8GaJm2xKu/UIKvrk1Bv\n",
       "wO9RX3iiZn47TZszeKXtC/0DUZppZU7T3T+0sjP/BZXLS3rvKbpEHhUgRxWetjnr/8SW8m8VWLMH\n",
       "zPYX4LZ6k0HcB/1yWkednTf8aCj3PN0RnzbYsznzLqWtyVavjEv9edZkdmP8r88cd8M0TojGqyIa\n",
       "t4+7sTWvo8OcxsBEXM1sdFxusEhxNU4xMu7cX4eKpfkNRtC5ymPSbhkAAAAASUVORK5CYII=\n",
       "\" style=\"display:inline;vertical-align:middle;\" /></a></span></td></tr>\n",
       "<tr><td>&nbsp;</td><td colspan=4 style=\"text-align:left\"><span style=\"font-size:20px;\"><a class=\"ProveItLink\" href=\"../../../../../../__pv_it/common/de55da274ba0f49c86925fbf3828021c04d27faf0/expr.ipynb\"><img src=\"data:image/png;base64,iVBORw0KGgoAAAANSUhEUgAAABAAAAAOBAMAAADUAYG5AAAAMFBMVEX///8AAAAAAAAAAAAAAAAA\n",
       "AAAAAAAAAAAAAAAAAAAAAAAAAAAAAAAAAAAAAAAAAAAv3aB7AAAAD3RSTlMAdrurzZkQ7zJUiSLd\n",
       "ZkQEbk8lAAAACXBIWXMAAA7EAAAOxAGVKw4bAAAAWklEQVQI12NgYBD6r2zkmsAABF8YGJjKgDTH\n",
       "RwYGTiBmYPwBxL+ADKYPQAzkMPArMDD0CzCAiV0nQZrkrVbdA9EM+gxQ8AVKc/yCMhj/QRksHyA0\n",
       "q/4nkBkMAGrBE2oHiyZAAAAAAElFTkSuQmCC\n",
       "\" style=\"display:inline;vertical-align:middle;\" /></a> : <a class=\"ProveItLink\" href=\"../../../__pv_it/axioms/354ec164e0e28f03ef1fb1858764e0da4a36a45b0/expr.ipynb\"><img src=\"data:image/png;base64,iVBORw0KGgoAAAANSUhEUgAAAEAAAAAQBAMAAABUyWQaAAAAMFBMVEX///8AAAAAAAAAAAAAAAAA\n",
       "AAAAAAAAAAAAAAAAAAAAAAAAAAAAAAAAAAAAAAAAAAAv3aB7AAAAD3RSTlMAIs1UmauJMnZmRLsQ\n",
       "3e++988cAAAACXBIWXMAAA7EAAAOxAGVKw4bAAABEklEQVQoz2NgAAEhBgJAH5vg7P+hodoFYCbz\n",
       "f6zaXjMwsH4Hs1jiBbDIM/5gYOD6AmYm5hdABRUYGNgDoGxOoG7OH2ClDf0GEDGOCUBiO1QB6wcG\n",
       "BqaHYBsY7CdAxKpBxKEDEA7fBgaeWLDRixnqE8BC7O/uAsE9HYiC+h0dQRCNDgzyEHu7IXqrIRb2\n",
       "CzAwvwRbvMUlfgOIcQ7qPJ6nYGofEINdf4KBgf8C2LFhEAVCEAu/AvH8BrANDLwPIB67CwbXIQ76\n",
       "CSTiFwDDAugQpg8QvVNABBMk1Dg+AhV9AjLkgJj7I9TrQA0MXhA2E9DUdUAPnf6vw8C8/xPEWh5g\n",
       "SDJugKjd/zU0aDNG+INMP4AiAgCe/UbsFJCeOgAAAABJRU5ErkJggg==\n",
       "\" style=\"display:inline;vertical-align:middle;\" /></a>, <a class=\"ProveItLink\" href=\"../../../../../../__pv_it/common/d72bb8b07403efe79afab564c36a28e21330e5f90/expr.ipynb\"><img src=\"data:image/png;base64,iVBORw0KGgoAAAANSUhEUgAAAA8AAAASBAMAAAB2sJk8AAAAMFBMVEX///8AAAAAAAAAAAAAAAAA\n",
       "AAAAAAAAAAAAAAAAAAAAAAAAAAAAAAAAAAAAAAAAAAAv3aB7AAAAD3RSTlMAIomZq2bNMhC7791E\n",
       "VHYkqjbgAAAACXBIWXMAAA7EAAAOxAGVKw4bAAAAgklEQVQI12NgYGBUVnJlAAG1AgaWBCDdNgFI\n",
       "LAbibJCoPwMD83cQQ7+AQR4kw2B/gMH+AoiRL8CwvwFIc/xiYPgFEmD9ysCwG8ToSgBp5LnAYCXA\n",
       "wFB/IVyUaSFQlG/hAyYXkAaGkknaBxgKwLZyHuATgDAcroFpBub/3yEM9l1AawBt/xzBtQnGvwAA\n",
       "AABJRU5ErkJggg==\n",
       "\" style=\"display:inline;vertical-align:middle;\" /></a> : <a class=\"ProveItLink\" href=\"../../../__pv_it/axioms/aafda48177228a289fb8cc09dda48ed2232b2d480/expr.ipynb\"><img src=\"data:image/png;base64,iVBORw0KGgoAAAANSUhEUgAAALUAAAAVBAMAAADyYbJ0AAAAMFBMVEX///8AAAAAAAAAAAAAAAAA\n",
       "AAAAAAAAAAAAAAAAAAAAAAAAAAAAAAAAAAAAAAAAAAAv3aB7AAAAD3RSTlMAInZUiRDNmWbv3US7\n",
       "qzJazP2FAAAACXBIWXMAAA7EAAAOxAGVKw4bAAACdUlEQVQ4y41UTWgTQRT+Nts0m781iBT0YvQs\n",
       "tIcSL0JbPBeDh556aLCFCoIBCxWh0IPgRbHeCu0hECjYi6IXBQ8xIuLF5NSDENJzEdqqRBFrnPfe\n",
       "zDqNq7sfLG/efO+bmffezAIoIAqFGDOhEYkxHo/8J+7Z4ITW/AvOnNaMi38zLOh+v9O5sYvE6sD8\n",
       "+B8uDMMHYE1yjl23Hxq1CeR/AQvavSxGNJoLwYRamzQpOVOqG1ZC5zOQ/Qbc02tuiWWN4UKwcgjW\n",
       "pMWdumKl99YMPHUuT62RLkuZHzxlm7Y5jVw5GA6donSUpiQHLI5a7flkBnmV3PAj9UlyGb/BtmRz\n",
       "GpoinEx8AWuWJEtMWP3yJvUg3UDyo0poqK1bWGG7ZHMGd4NR1f0O1iyy+xz7vF5qm2HKuN88v0N7\n",
       "etLwCi6yXbQ54A5rnlS1KDvmfxVNXbbC2bbVDPea2NEC3HXy1zjtNjJc1brNBSjpqqbgHIlmg5v0\n",
       "brnbsONmeBrv1UdN9g+4wuqmF2mwYXMBktel0xeWV36CNRx3FThRs+/evNxI2v+hWi7L555R+lqw\n",
       "tuECjEzJFmruB1hTl5Igs2bVe0uW9qknXXUat2Zezi1Tk4Az9d6umJIAj8GaJm2xKu/UIKvrk1Bv\n",
       "wO9RX3iiZn47TZszeKXtC/0DUZppZU7T3T+0sjP/BZXLS3rvKbpEHhUgRxWetjnr/8SW8m8VWLMH\n",
       "zPYX4LZ6k0HcB/1yWkednTf8aCj3PN0RnzbYsznzLqWtyVavjEv9edZkdmP8r88cd8M0TojGqyIa\n",
       "t4+7sTWvo8OcxsBEXM1sdFxusEhxNU4xMu7cX4eKpfkNRtC5ymPSbhkAAAAASUVORK5CYII=\n",
       "\" style=\"display:inline;vertical-align:middle;\" /></a></span></td></tr><tr><td><a name=\"-0x705d713bdeebe5f3_step4\">4</a></td><td>theorem</td><td></td><td><span style=\"font-size:20px;\"> <a class=\"ProveItLink\" href=\"../../../../../equality/_theory_nbs_/proofs/rhs_via_equality/thm_proof.ipynb\" style=\"text-decoration: none\">&nbsp;&#x22A2;&nbsp;&nbsp;</a><a class=\"ProveItLink\" href=\"../../../../../equality/__pv_it/theorems/b71cc6ded84759b8e6fdf7e824529c371b14ed8e0/expr.ipynb\"><img src=\"data:image/png;base64,iVBORw0KGgoAAAANSUhEUgAAAIkAAAAVBAMAAACArtDCAAAAMFBMVEX///8AAAAAAAAAAAAAAAAA\n",
       "AAAAAAAAAAAAAAAAAAAAAAAAAAAAAAAAAAAAAAAAAAAv3aB7AAAAD3RSTlMAq1RmmUTNIjK7EInv\n",
       "3XZ/CtNrAAAACXBIWXMAAA7EAAAOxAGVKw4bAAAB3klEQVQ4y51UTShEURT+xsx4w2OaiSgbU8rC\n",
       "apYWaCxEUd5KmdXslJKR7dSMjS3FBgtvZaVJmixINNQsRCM7mfzspAZRhOKcO+bNGWPB++qd777z\n",
       "vvfde8+9HfhAaINdaKmdBqI+Ho/ZdtlKwBEBZthw3q7JGv95CFSbgB6w6zLBoRVwBsnJronrleNe\n",
       "AjjO5Y7susRVKYYNYABY/m2av7gMq1JMRoEpaHTa7tXB3mZO3eX7laCmoBt9Tvmjggsoii6pqKj9\n",
       "YLmp04rQDewSjUQRiwoXZxZ6VrCCJfpQkicKVVequI3APb2Q0jUvXBwheB8EM0qiHIf1CMdID8c0\n",
       "cErlonI7H4RLXQD1PsGqppaoFe4AhtSyNsf54r1hKgQ00VDfFy5xU2u02LVEWBCiuUDntJ5RwhjP\n",
       "4TzJdxDxmVf7hEtX/saUjDKRN3Ol+wt5R4JDYbkHPIGsrh/lXC7CzMqugYT1pS6oaBFhnMmTPhB/\n",
       "FndUErHO8JZuQJyGtRuITSdng8JFe4HKKy6iJGKdr9364F3dBjxpaL3XLZpwuX03VV6x1VMsEa/v\n",
       "8/XHha6ixx1Kyh1Z+TIURQTPxc+GEOaJHs8rXMIVHe5b9CvUZieMCpdgZV8x/thQ/9MhvgB6V4K4\n",
       "K/k90gAAAABJRU5ErkJggg==\n",
       "\" style=\"display:inline;vertical-align:middle;\" /></a></span></td></tr>\n",
       "<tr><td>&nbsp;</td><td colspan=4 style-\"text-align:left\"><a class=\"ProveItLink\" href=\"../../../../../equality/_theory_nbs_/proofs/rhs_via_equality/thm_proof.ipynb\">proveit.logic.equality.rhs_via_equality</a></td></tr><tr><td><a name=\"-0x705d713bdeebe5f3_step5\">5</a></td><td>assumption</td><td></td><td><span style=\"font-size:20px;\"><a class=\"ProveItLink\" href=\"../../../__pv_it/axioms/354ec164e0e28f03ef1fb1858764e0da4a36a45b0/expr.ipynb\"><img src=\"data:image/png;base64,iVBORw0KGgoAAAANSUhEUgAAAEAAAAAQBAMAAABUyWQaAAAAMFBMVEX///8AAAAAAAAAAAAAAAAA\n",
       "AAAAAAAAAAAAAAAAAAAAAAAAAAAAAAAAAAAAAAAAAAAv3aB7AAAAD3RSTlMAIs1UmauJMnZmRLsQ\n",
       "3e++988cAAAACXBIWXMAAA7EAAAOxAGVKw4bAAABEklEQVQoz2NgAAEhBgJAH5vg7P+hodoFYCbz\n",
       "f6zaXjMwsH4Hs1jiBbDIM/5gYOD6AmYm5hdABRUYGNgDoGxOoG7OH2ClDf0GEDGOCUBiO1QB6wcG\n",
       "BqaHYBsY7CdAxKpBxKEDEA7fBgaeWLDRixnqE8BC7O/uAsE9HYiC+h0dQRCNDgzyEHu7IXqrIRb2\n",
       "CzAwvwRbvMUlfgOIcQ7qPJ6nYGofEINdf4KBgf8C2LFhEAVCEAu/AvH8BrANDLwPIB67CwbXIQ76\n",
       "CSTiFwDDAugQpg8QvVNABBMk1Dg+AhV9AjLkgJj7I9TrQA0MXhA2E9DUdUAPnf6vw8C8/xPEWh5g\n",
       "SDJugKjd/zU0aDNG+INMP4AiAgCe/UbsFJCeOgAAAABJRU5ErkJggg==\n",
       "\" style=\"display:inline;vertical-align:middle;\" /></a> <a class=\"ProveItLink\" href=\"../../../__pv_it/_proof_iff_implies_left/87e3c73f4ce4852a979d36a92efa9307392bd1c00/proof.ipynb\" style=\"text-decoration: none\">&nbsp;&#x22A2;&nbsp;&nbsp;</a><a class=\"ProveItLink\" href=\"../../../__pv_it/axioms/354ec164e0e28f03ef1fb1858764e0da4a36a45b0/expr.ipynb\"><img src=\"data:image/png;base64,iVBORw0KGgoAAAANSUhEUgAAAEAAAAAQBAMAAABUyWQaAAAAMFBMVEX///8AAAAAAAAAAAAAAAAA\n",
       "AAAAAAAAAAAAAAAAAAAAAAAAAAAAAAAAAAAAAAAAAAAv3aB7AAAAD3RSTlMAIs1UmauJMnZmRLsQ\n",
       "3e++988cAAAACXBIWXMAAA7EAAAOxAGVKw4bAAABEklEQVQoz2NgAAEhBgJAH5vg7P+hodoFYCbz\n",
       "f6zaXjMwsH4Hs1jiBbDIM/5gYOD6AmYm5hdABRUYGNgDoGxOoG7OH2ClDf0GEDGOCUBiO1QB6wcG\n",
       "BqaHYBsY7CdAxKpBxKEDEA7fBgaeWLDRixnqE8BC7O/uAsE9HYiC+h0dQRCNDgzyEHu7IXqrIRb2\n",
       "CzAwvwRbvMUlfgOIcQ7qPJ6nYGofEINdf4KBgf8C2LFhEAVCEAu/AvH8BrANDLwPIB67CwbXIQ76\n",
       "CSTiFwDDAugQpg8QvVNABBMk1Dg+AhV9AjLkgJj7I9TrQA0MXhA2E9DUdUAPnf6vw8C8/xPEWh5g\n",
       "SDJugKjd/zU0aDNG+INMP4AiAgCe/UbsFJCeOgAAAABJRU5ErkJggg==\n",
       "\" style=\"display:inline;vertical-align:middle;\" /></a></span></td></tr>\n",
       "<tr><td><a name=\"-0x705d713bdeebe5f3_step6\">6</a></td><td>instantiation</td><td><a href=\"#-0x705d713bdeebe5f3_step7\">7</a></td><td><span style=\"font-size:20px;\"> <a class=\"ProveItLink\" href=\"../../../__pv_it/_proof_iff_implies_left/b7aba8a005f5ba408b795ab73886a80c28ee71c20/proof.ipynb\" style=\"text-decoration: none\">&nbsp;&#x22A2;&nbsp;&nbsp;</a><a class=\"ProveItLink\" href=\"../../../__pv_it/axioms/6a1fb7a4625d5d14b9fb08d72f3e6598f52293a40/expr.ipynb\"><img src=\"data:image/png;base64,iVBORw0KGgoAAAANSUhEUgAAATEAAAAVBAMAAADcAcTPAAAAMFBMVEX///8AAAAAAAAAAAAAAAAA\n",
       "AAAAAAAAAAAAAAAAAAAAAAAAAAAAAAAAAAAAAAAAAAAv3aB7AAAAD3RSTlMAInZUiRDNmWbv3US7\n",
       "qzJazP2FAAAACXBIWXMAAA7EAAAOxAGVKw4bAAADwUlEQVRIx5VWX0iTURQ/2/zmnNvnkAiKwGUv\n",
       "PRTuQQwjcNJzNHoQAgMlBYWgQYJSCHuIfDG0h6KwYCAIGpnUS0LQMiJ6SR/Ch0i2ZxHWPzRKXeee\n",
       "c+/9rt8+mztwuNs993fP755z7rkfAMSgknit8EmtFlnZm0+t8ifo/+H/rH3hMXdCKu7UUwVSettX\n",
       "kEZ9XOJaeeq617rx0tratQL4M2WWQJIVJfjNAxla3llb/VSObHVsniJonATCWXziQMlz4WOA6C5A\n",
       "f5mhSypKhxczqMsB5AsaeZ4H9iZtHkI0ginyWMunqs17FtMPDO4WwFiZZUQqyuh3Lx9NmJM3aYW0\n",
       "Znhkb9LmIUQjlCaPdTzVeVGdAU9lr6icYLxCyK4u5d5iUipAzaFdZ/q9/jWB+03EFdJ/d4Ejadqk\n",
       "RIzNmcZ98tjGwYm3yNKkylBFEMVEBe+hussl0MOK0uj/6cxv6F951MGYQobtHI1tpk2KNBk0Bsjj\n",
       "EEcROjLG3l0pXSzWFzxFzYo76klWlHTgt1H4SaNCr8xrZCv00jhk2pTcdrZlGhcIN0BTL6HIe9qP\n",
       "5lBmZeEWl5pXxdIQheemMM09o/uYUYGsT9i/aFMyzm2pQGw3nx7QSOR1hsYB06Z2fK5LTtK4Q7hp\n",
       "Pjg08eFOcbQ2OLctMQg8FMmbdMUsnGAVx/TtmGm+KosCr0V7RiGxcMO08bRp09Kmmpyk0U64KVr7\n",
       "YThP2b4s02Y9oeEjqqhJ290Y6hZY8SjDo9t72skUlzUyqtlVyCj2RKr4KdOmxRrk+6FoFAlHay8B\n",
       "NGSpBD/LVsy5FdEQl6h+cj9mFlr/mH2mjyu7YYVvNSOx81lZzUzZnMbfyaOisUi4aY4ihNl5iMuF\n",
       "69MWtZ1HAoGsq850NmtRZ406m5FXrojZiv5VSNFnb+hsKpvaca5XJ5NpnCXckqjijPPGUGsMxnSx\n",
       "2JuCb84Vs0icFV7tfdjq1UKsUCj2KGRWPcxLpk3JawVWNMYJhzcUjghfspNHRY5u8e8gHmCxH3SD\n",
       "cEQ0A6E+ccTlmPkgswyiowcpiQyJM0QK3A8cmyoARVLTGCLcOkB3qR8Cy5tJ/bL5+ORR8fK+o+Qt\n",
       "uJjZWVJreTMF50p9el616K/iUyChkFFBwxb01k2bir98fRwaTwkXLnh8QLkfo6NlD9y81EpfXy5k\n",
       "uOD9PbZ3Iku4UBoqy0jZzBh4vfMVkQfyJp59gXtbeakvVzYVibFWizyANzgmcd2Vl3pQsHKs1SIP\n",
       "4E2wJ5wvXnHpcY+5RqlVIg/gzR8j3D/+Yyt9amQ6tAAAAABJRU5ErkJggg==\n",
       "\" style=\"display:inline;vertical-align:middle;\" /></a></span></td></tr>\n",
       "<tr><td>&nbsp;</td><td colspan=4 style=\"text-align:left\"><span style=\"font-size:20px;\"><a class=\"ProveItLink\" href=\"../../../../../../__pv_it/common/09585084922504426caf1db2ff588a23a0932a960/expr.ipynb\"><img src=\"data:image/png;base64,iVBORw0KGgoAAAANSUhEUgAAAA8AAAAPBAMAAADJ+Ih5AAAAMFBMVEX///8AAAAAAAAAAAAAAAAA\n",
       "AAAAAAAAAAAAAAAAAAAAAAAAAAAAAAAAAAAAAAAAAAAv3aB7AAAAD3RSTlMAIs1UmauJMnZmRLsQ\n",
       "3e++988cAAAACXBIWXMAAA7EAAAOxAGVKw4bAAAAXklEQVQI12NgAAEhBijQh9LM/6EMlngBCCMx\n",
       "vwBMMzb0G0BkGOwngBmLGeoTwAwHBvkAEM2xxSV+A4hxgoGB/wJEhoH3AZDmAupg+gBkyAEx90cG\n",
       "htP/dRiY939KAABt3hLO6mcEjQAAAABJRU5ErkJggg==\n",
       "\" style=\"display:inline;vertical-align:middle;\" /></a> : <a class=\"ProveItLink\" href=\"../../../../../../__pv_it/common/09585084922504426caf1db2ff588a23a0932a960/expr.ipynb\"><img src=\"data:image/png;base64,iVBORw0KGgoAAAANSUhEUgAAAA8AAAAPBAMAAADJ+Ih5AAAAMFBMVEX///8AAAAAAAAAAAAAAAAA\n",
       "AAAAAAAAAAAAAAAAAAAAAAAAAAAAAAAAAAAAAAAAAAAv3aB7AAAAD3RSTlMAIs1UmauJMnZmRLsQ\n",
       "3e++988cAAAACXBIWXMAAA7EAAAOxAGVKw4bAAAAXklEQVQI12NgAAEhBijQh9LM/6EMlngBCCMx\n",
       "vwBMMzb0G0BkGOwngBmLGeoTwAwHBvkAEM2xxSV+A4hxgoGB/wJEhoH3AZDmAupg+gBkyAEx90cG\n",
       "htP/dRiY939KAABt3hLO6mcEjQAAAABJRU5ErkJggg==\n",
       "\" style=\"display:inline;vertical-align:middle;\" /></a>, <a class=\"ProveItLink\" href=\"../../../../../../__pv_it/common/a9162d1c3cc0470c02e5daf414500903a7a419230/expr.ipynb\"><img src=\"data:image/png;base64,iVBORw0KGgoAAAANSUhEUgAAABAAAAAOBAMAAADUAYG5AAAAMFBMVEX///8AAAAAAAAAAAAAAAAA\n",
       "AAAAAAAAAAAAAAAAAAAAAAAAAAAAAAAAAAAAAAAAAAAv3aB7AAAAD3RSTlMAZrurzTLvInZEmRDd\n",
       "VIkafcLnAAAACXBIWXMAAA7EAAAOxAGVKw4bAAAAb0lEQVQI12NgYBD6b2zsFMAABEkMDMxfgTT7\n",
       "DwYGzl9ABiOQxwjkMDB/YGBgSQcy2BQYuG1AiuM1OkwEQJr6Cxh4E0EMNSB+D5L6DMTyDQwMrB+B\n",
       "DPsJDAwc34GcL0AOSwIDwzRvoHH6n41NdBkYAF/iFeJ4bEa2AAAAAElFTkSuQmCC\n",
       "\" style=\"display:inline;vertical-align:middle;\" /></a> : <a class=\"ProveItLink\" href=\"../../../../../../__pv_it/common/a9162d1c3cc0470c02e5daf414500903a7a419230/expr.ipynb\"><img src=\"data:image/png;base64,iVBORw0KGgoAAAANSUhEUgAAABAAAAAOBAMAAADUAYG5AAAAMFBMVEX///8AAAAAAAAAAAAAAAAA\n",
       "AAAAAAAAAAAAAAAAAAAAAAAAAAAAAAAAAAAAAAAAAAAv3aB7AAAAD3RSTlMAZrurzTLvInZEmRDd\n",
       "VIkafcLnAAAACXBIWXMAAA7EAAAOxAGVKw4bAAAAb0lEQVQI12NgYBD6b2zsFMAABEkMDMxfgTT7\n",
       "DwYGzl9ABiOQxwjkMDB/YGBgSQcy2BQYuG1AiuM1OkwEQJr6Cxh4E0EMNSB+D5L6DMTyDQwMrB+B\n",
       "DPsJDAwc34GcL0AOSwIDwzRvoHH6n41NdBkYAF/iFeJ4bEa2AAAAAElFTkSuQmCC\n",
       "\" style=\"display:inline;vertical-align:middle;\" /></a></span></td></tr><tr><td><a name=\"-0x705d713bdeebe5f3_step7\">7</a></td><td>axiom</td><td></td><td><span style=\"font-size:20px;\"> <a class=\"ProveItLink\" href=\"../../axioms.ipynb#iff_def\" style=\"text-decoration: none\">&nbsp;&#x22A2;&nbsp;&nbsp;</a><a class=\"ProveItLink\" href=\"../../../__pv_it/axioms/58a59ea31f5a83ad01737244ae60b8d4dd112afb0/expr.ipynb\"><img src=\"data:image/png;base64,iVBORw0KGgoAAAANSUhEUgAAAXkAAAAWBAMAAADX+PE1AAAAMFBMVEX///8AAAAAAAAAAAAAAAAA\n",
       "AAAAAAAAAAAAAAAAAAAAAAAAAAAAAAAAAAAAAAAAAAAv3aB7AAAAD3RSTlMAq1RmmUTNIjK7EInv\n",
       "3XZ/CtNrAAAACXBIWXMAAA7EAAAOxAGVKw4bAAAD3klEQVRYw9WWTUhUURTHjzOj83zjvBQq2oRC\n",
       "EYSLJpAgohr7IpFIamMRZUVIGTRuhCizlkGRRFBE6KwEoULduHCRGn0RxRDhqqEBFxFEmYlWUtO9\n",
       "95xz38ybO80wuekPfxzfub/3zr333A+AvypGLtxqqcjimKLe7tShhbr+0uzo0pHE5FOwDRl2tXy4\n",
       "Jk/jerLQOVN8c7qm5vRlcCJLRta7MZMqZkAx7N3yYbs5ebsNLeRLG1u8ACj7DnDmn8kRl9MxgzaI\n",
       "7BVDviLno9ecfSCClj9rTWUW/A1QPgfQ8K+kPeVyOmZQ4wIgQ66IA4TyFFsVWWj0EU1lBWCPlfxi\n",
       "hPziW1XxIkipu3lIZ2OL5nSMVOm+PHRBTolkyP4IZmTSOrIYjtQX6uG0fB/nUyYmsuKZcKQIUuoq\n",
       "mMmw1as5HSNZbmVccmYBGfarZPJlnuybyWJGYUPEfZXN1VrVC/Zq0ZVQdWESh3zITNbT0mvOjLG2\n",
       "6F9R3zdAhr2X5zOek/1JMsABuIHfvSY6m0w+pbY3+j6vlLn55WILJJWqzSRFuZyzSLltrNVf1DGA\n",
       "fYp5HyWovM5aJIbdCUH1Qfs5zu3cWBP3+w1ZdBp6VCMHO2rdxAZfYuB7LPeVcU+/c0mS74SJtKoh\n",
       "HGdOx9w6pNoLQPArMezKeEitmNAszm0CHM7lCRmcW7tqVclMUOQ+ZnRPWC5Ka8aTfQ6pNfDEQJaJ\n",
       "nT/FnI65++9ZXNMfdzX+AGTYvhQu2tbXuJyi4J/x5vAQYFlC/ujE+gl2YAM5EtvFZ8vH82WvSd4p\n",
       "O2IGckBkmNDZc0yraxQ7IZ79AmTY0LZNxVLHcTnVwYOId/5F4YUxwa1YvjgyllxDtWJcfAlP3eeS\n",
       "FJ2KGUh1Vu1gTse47pPtXDgA7wAZNoyoHcSBPapJz3TDKu5zH7k8gme0LKxoxtnsiLPDmpdPvced\n",
       "gcR112skE3wd6suMsQ7R34N07ZAMGy6q0WqFTzi4YC9nbJh8Ue7xC/hshRyEFjq5xKgekX0PDHmy\n",
       "N5GZN7Zs0p/iQ2Q4M5ZxM1N/5Rz2x5BhyyUjd9qxWrXqReo9lBxcRw+mz4Cvfx4zFCUK5+nE6f9a\n",
       "s1LtPuEWT/YmUuqOkSyTX7ZSyLgxPmuxTO3++TisT3cgw6apFEmrVpMAx3i9hy+jsy4o8kXeg6Hb\n",
       "+8BEGm/v3blczpXIxHRnsaKmltXZQxD8CfZbfTJGudALaKf3Qalk0czOTDYwAfb+U9YkbFoca3Lv\n",
       "JbfJBWS4o5ZKFsmws+Tz/D9ILqDK3DtwqWSRDDtLh73dTKEL6INhgEoki2Q+mNgI/F/6A9dMcbXF\n",
       "hKa/AAAAAElFTkSuQmCC\n",
       "\" style=\"display:inline;vertical-align:middle;\" /></a></span></td></tr>\n",
       "<tr><td>&nbsp;</td><td colspan=4 style-\"text-align:left\"><a class=\"ProveItLink\" href=\"../../axioms.ipynb#iff_def\">proveit.logic.booleans.implication.iff_def</a></td></tr></table>"
      ],
      "text/plain": [
       "\tstep type\trequirements\tstatement\n",
       "0\tgeneralization\t1\t|- forall_{A, B | A <=> B} (B => A)\n",
       "1\tinstantiation\t2, 3\t{A <=> B} |- B => A\n",
       "\tA : A => B, B : B => A\n",
       "2\ttheorem\t\t|- forall_{A, B | A, B} B\n",
       "\tproveit.logic.booleans.conjunction.right_from_and\n",
       "3\tinstantiation\t4, 5, 6\t{A <=> B} |- (A => B) and (B => A)\n",
       "\tP : A <=> B, Q : (A => B) and (B => A)\n",
       "4\ttheorem\t\t|- forall_{P, Q | P, P = Q} Q\n",
       "\tproveit.logic.equality.rhs_via_equality\n",
       "5\tassumption\t\t{A <=> B} |- A <=> B\n",
       "6\tinstantiation\t7\t|- (A <=> B) = ((A => B) and (B => A))\n",
       "\tA : A, B : B\n",
       "7\taxiom\t\t|- forall_{A, B} ((A <=> B) = ((A => B) and (B => A)))\n",
       "\tproveit.logic.booleans.implication.iff_def"
      ]
     },
     "execution_count": 7,
     "metadata": {},
     "output_type": "execute_result"
    }
   ],
   "source": [
    "%qed"
   ]
  },
  {
   "cell_type": "code",
   "execution_count": null,
   "metadata": {},
   "outputs": [],
   "source": []
  }
 ],
 "metadata": {
  "kernelspec": {
   "display_name": "Python 3",
   "language": "python",
   "name": "python3"
  }
 },
 "nbformat": 4,
 "nbformat_minor": 0
}