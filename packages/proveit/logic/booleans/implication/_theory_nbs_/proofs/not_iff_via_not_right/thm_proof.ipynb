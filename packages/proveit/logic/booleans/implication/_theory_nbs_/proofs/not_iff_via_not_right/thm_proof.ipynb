{
 "cells": [
  {
   "cell_type": "markdown",
   "metadata": {},
   "source": [
    "Proof of <a class=\"ProveItLink\" href=\"../../../../../../_theory_nbs_/theory.ipynb\">proveit</a>.<a class=\"ProveItLink\" href=\"../../../../../_theory_nbs_/theory.ipynb\">logic</a>.<a class=\"ProveItLink\" href=\"../../../../_theory_nbs_/theory.ipynb\">booleans</a>.<a class=\"ProveItLink\" href=\"../../theory.ipynb\">implication</a>.<a class=\"ProveItLink\" href=\"../../theorems.ipynb#not_iff_via_not_right\">not_iff_via_not_right</a> theorem\n",
    "========"
   ]
  },
  {
   "cell_type": "code",
   "execution_count": 1,
   "metadata": {},
   "outputs": [],
   "source": [
    "import proveit\n",
    "theory = proveit.Theory() # the theorem's theory"
   ]
  },
  {
   "cell_type": "code",
   "execution_count": 2,
   "metadata": {},
   "outputs": [
    {
     "data": {
      "text/html": [
       "With these <a href=\"allowed_presumptions.txt\">allowed</a>/<a href=\"disallowed_presumptions.txt\">disallowed</a> theorem/theory presumptions (e.g., to avoid circular dependencies), we begin our proof of<br><strong id=\"not_iff_via_not_right\">not_iff_via_not_right:</strong> <a class=\"ProveItLink\" href=\"../../../__pv_it/theorems/edb3e272445abd7ef1b043a0f7209d7ed6e57c640/expr.ipynb\"><img src=\"data:image/png;base64,iVBORw0KGgoAAAANSUhEUgAAAN8AAAAXBAMAAAB5bIfGAAAAMFBMVEX///8AAAAAAAAAAAAAAAAA\n",
       "AAAAAAAAAAAAAAAAAAAAAAAAAAAAAAAAAAAAAAAAAAAv3aB7AAAAD3RSTlMAq1RmmUTNIjK7EInv\n",
       "3XZ/CtNrAAAACXBIWXMAAA7EAAAOxAGVKw4bAAADE0lEQVRIx71WS2hTQRQ9+ScvbUxBiiCSgODG\n",
       "hVmI4EItaMVSxaCbIqIRETEbW5Cu1MZlodIigla0zUKEYpXWjYssmlZExQ+hdNGFgaALEcR+LG2p\n",
       "YJ25d/JyW14/BHTgZD533j33NzMBqm4BOWndcHvrpnat176IcSROXfs6288ZRPVkZxV87iEx2c3d\n",
       "VaeN+5fr6q5kEEmA0KjXLldB+ESMrRTbsOy48x3gWgTSINzS2eipgvCwGHsT3MWckhT4A/jmgL0g\n",
       "+LNAOF4FYV6Ma7h7OZIxC8rjYNSMPco7jyKtyRI8yjh/NSlMickudqU0ZSzXucJ9I3RNK4Y3CgnG\n",
       "x2LxfRWEXlkzzbyEPRxadFKSs8b9Hlg7lOvhKOMY8IAE2VUa7YpwJPQnxOQi/Z5CN1sR/FBU7XOa\n",
       "hd19P+v1Zk+K0YYARdt6y8bN5ZooE6GytsFMRbMtRa2K3gmtd0JNxmmpAR2ct+9seycHeKoV7lc6\n",
       "CXlGKBtO6vXwLKe4gEh+BeGIKClbipqkWWpTeE2Ju3skRuU+aMrFGqXuodahrAxOM9wlrpmWT5zi\n",
       "BnimJaGvq1QhtKUOhM+BLQUqnu0saecAzygcUjp8eQZSB2m9dIEVxfEsIQkj/qio/7KUQmoTjnNE\n",
       "Ucvee4rUJjmhv9RPTJnnLjDwgpIbwVGSd3zduw2SsOQVB8CWIlT2+5pCn46Ernr2ns44/HwLRBYU\n",
       "6bw2o4eB6+RBC36Q/ACsrZLQl6GkhXt7ex8JKRW43Ya1Gv3Ngom8jnejKWf1+dm0OUh0mFxUds25\n",
       "GNWW0teRFITe3PBSOYFCimBBEN4GBpbTcPfPD9l3q7kvXf0zdfV3KAlJhsmU0kTEY8B5eSxKCCxW\n",
       "CG0pMCkIazMOj9+qc40bBtxOqxKLW0MILMGaECHVmZnFU3MVVKQmT+XT0rDJ296+8b2jsE5eCo5h\n",
       "3+9cU1wQHo/i8Xyyy5RkRark8mW4t4k/CD0Oz5JbjENS4PCcWPLjgY0JtYGh1c/XmTUIfVkHDTel\n",
       "+aUNCb8ZrGiJNQg9+A8t8G/U/gWfMcJQnxEuNAAAAABJRU5ErkJggg==\n",
       "\" style=\"display:inline;vertical-align:middle;\" /></a><br>(see <a class=\"ProveItLink\" href=\"../../../__pv_it/theorems/cec9bad7572490470a3b7c039af17c03532ce53a0/dependencies.ipynb\">dependencies</a>)<br>"
      ],
      "text/plain": [
       "<IPython.core.display.HTML object>"
      ]
     },
     "metadata": {},
     "output_type": "display_data"
    },
    {
     "name": "stdout",
     "output_type": "stream",
     "text": [
      "not_iff_via_not_right may now be readily provable (assuming required theorems are usable).  Simply execute \"%qed\".\n"
     ]
    }
   ],
   "source": [
    "%proving not_iff_via_not_right"
   ]
  },
  {
   "cell_type": "code",
   "execution_count": null,
   "metadata": {},
   "outputs": [],
   "source": []
  }
 ],
 "metadata": {
  "kernelspec": {
   "display_name": "Python 3",
   "language": "python",
   "name": "python3"
  }
 },
 "nbformat": 4,
 "nbformat_minor": 0
}