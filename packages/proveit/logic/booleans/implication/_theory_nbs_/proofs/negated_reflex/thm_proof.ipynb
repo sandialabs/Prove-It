{
 "cells": [
  {
   "cell_type": "markdown",
   "metadata": {},
   "source": [
    "Proof of <a class=\"ProveItLink\" href=\"../../../../../../_theory_nbs_/theory.ipynb\">proveit</a>.<a class=\"ProveItLink\" href=\"../../../../../_theory_nbs_/theory.ipynb\">logic</a>.<a class=\"ProveItLink\" href=\"../../../../_theory_nbs_/theory.ipynb\">booleans</a>.<a class=\"ProveItLink\" href=\"../../theory.ipynb\">implication</a>.<a class=\"ProveItLink\" href=\"../../theorems.ipynb#negated_reflex\">negated_reflex</a> theorem\n",
    "========"
   ]
  },
  {
   "cell_type": "code",
   "execution_count": 1,
   "metadata": {},
   "outputs": [],
   "source": [
    "import proveit\n",
    "from proveit import defaults\n",
    "from proveit import A, B\n",
    "from proveit.logic import Equals, TRUE, FALSE\n",
    "from proveit.logic.booleans.implication import Implies\n",
    "from proveit.logic.booleans.implication import not_true_via_contradiction\n",
    "from proveit.logic.booleans.negation import Not\n",
    "theory = proveit.Theory() # the theorem's theory"
   ]
  },
  {
   "cell_type": "code",
   "execution_count": 2,
   "metadata": {},
   "outputs": [
    {
     "data": {
      "text/html": [
       "With these <a href=\"allowed_presumptions.txt\">allowed</a>/<a href=\"disallowed_presumptions.txt\">disallowed</a> theorem/theory presumptions (e.g., to avoid circular dependencies), we begin our proof of<br><strong id=\"negated_reflex\">negated_reflex:</strong> <a class=\"ProveItLink\" href=\"../../../__pv_it/theorems/bc16a844ebbf97fe8ffdb67d166cedaa78817b9a0/expr.ipynb\"><img src=\"data:image/png;base64,iVBORw0KGgoAAAANSUhEUgAAANoAAAAXBAMAAACfRUyCAAAAMFBMVEX///8AAAAAAAAAAAAAAAAA\n",
       "AAAAAAAAAAAAAAAAAAAAAAAAAAAAAAAAAAAAAAAAAAAv3aB7AAAAD3RSTlMAq1RmmUTNIjK7EInv\n",
       "3XZ/CtNrAAAACXBIWXMAAA7EAAAOxAGVKw4bAAADFUlEQVRIx61WX0hTURj/6TbvdqdrgkTRwwZF\n",
       "vRgNMiGiXJSRWCT1Yn/AhYQkA+0lCKIZ9CIEk4h09eAVIggypghSe9B8iP5QDCrwZbTyNbSizAy0\n",
       "7ztn13u8bmnMC+e7557vnO/3nd/3O2cD1unR1mHG2p/P/3ZfBlxZwM/9rUWDlSYBR/+3yo19+f0d\n",
       "1KaAeu63FY32gE15DxDoypvMIpkyA9eZ0Z6i0Q6xiRFXLeF8bmegk/YeZkB4g0WjjbOpo33VZc0h\n",
       "j2G5R8d4y6/gCNEWiy9bhG2AWrTTHHNbjGnZGd5QK/Amk3ldNJozyfYlMDBpDe6z3NhFm8IQcBS4\n",
       "K4YMWwD1YwcbfQXIEmtlHMz9e/pTq/g8nuHn41IJTyLO6dQCl6CJU6C/EI7uH6kGISuPEtXRxPaR\n",
       "Ijd3f+NIn5VRBRPl+wVUh5Rl2009hBFjjGouplfE8n6XgdPwjdvRBoQdU8W0H/gCVzL3Vc4hPLTO\n",
       "O6fM0aMiMny3Dwe4iHEqcFaKpPmteJWE4fhqRxOH0nVTEievgiqSH9Cuom2g/B0L6gUyKt+PyZem\n",
       "9zlqkQOyBufluiAGQ3a0tMiwzC/zEaqbgP4OGFaZjNO6kp9W3TJtS0SigvnaSW1YJOjDEeGJTdVs\n",
       "gg1NE/rOOiN4kkgk7nCBtYXdB6mM28yzxdueoTTiEWvZ6dzbxYeM+dpL7apIuZnKIOuhVyloHD7t\n",
       "YtJdXbKeVJt6Ud6BsBXQyzGiNOm5YcuRATgaKQiNzIyQWmMqYOTqEWtavjd/Kcdypobmc2G2GFxe\n",
       "jUjrNiVKXG9erKy8qAjJk5Pww8V2lPbPkqA+mC4fgXTJeqDFdgL84lbIQpsTW03ck+V1zVlMYnIN\n",
       "v2da2uydItkE9SS0eejvbXULs0qYfHlGvCyimIFBYnLanFOzlgvHPIvOZ9BPXHBPoPZPqiFoVwl6\n",
       "gWN+3J8VFN/gU9mRGrklHTnaOldHu2K/XJW+inZWnaTccHrPyl7hp9f2faYAmrNA5sr4tVXBfPYg\n",
       "oQJoeJo/wJ51+1uzTFJ6/jnGf8b8C/UItw189bevAAAAAElFTkSuQmCC\n",
       "\" style=\"display:inline;vertical-align:middle;\" /></a><br>(see <a class=\"ProveItLink\" href=\"../../../__pv_it/theorems/3f311f52cfac88e33a12603b7afe77185f41a86a0/dependencies.ipynb\">dependencies</a>)<br>"
      ],
      "text/plain": [
       "<IPython.core.display.HTML object>"
      ]
     },
     "metadata": {},
     "output_type": "display_data"
    }
   ],
   "source": [
    "%proving negated_reflex"
   ]
  },
  {
   "cell_type": "code",
   "execution_count": 3,
   "metadata": {},
   "outputs": [
    {
     "data": {
      "text/html": [
       "<strong id=\"defaults.assumptions\">defaults.assumptions:</strong> <a class=\"ProveItLink\" href=\"../../../__pv_it/_proof_negated_reflex/4517770f2e92eff37f0ade8147ac32e5dffa674b0/expr.ipynb\"><img src=\"data:image/png;base64,iVBORw0KGgoAAAANSUhEUgAAAG4AAAAVBAMAAABVkMbKAAAAMFBMVEX///8AAAAAAAAAAAAAAAAA\n",
       "AAAAAAAAAAAAAAAAAAAAAAAAAAAAAAAAAAAAAAAAAAAv3aB7AAAAD3RSTlMAInZUiRDNmWbv3US7\n",
       "qzJazP2FAAAACXBIWXMAAA7EAAAOxAGVKw4bAAABuUlEQVQ4y4WTO0sDQRDH5y6Py8t4BLESDNpY\n",
       "KFqIEBHMFwikSqUgmCIBwRQBbQJW2gjaaKNFICCoECy1MhFsEysrQ1KLEF+oaGKcnb27DCRyC7+b\n",
       "YXb/e7OzswCgQ3coYDcUc5U6w6Ljcm7lf50/LIFZFnREybif+wg81XbtvgIwAYSL752QZrGfDrwl\n",
       "gHoD3HEQaFtsalOa3Es/3Shmd50BTwYEXj61T1/n0G83dGt5ew0EtQcgmOPHkzmH1Ldu7Mny6kga\n",
       "i58CQZbpNFmWjOOLlSNqescAy0W0MSLFdG46q38m+E67nNH4NCaDrbEpWrxNFMwFeFwfXaUGSpsn\n",
       "vyqtisWKiI0jxJHZB3dY6QvhTW7kWrxYCbkkgEVzioI1iR6dC0v2zRsrKRtxEBd4XtG5IgpMR3lq\n",
       "yCk734nRv03MceAHnXnixtTh+QKi7y6RddaPJcOZRn1TXNQuEWMpOfGfirj7aveNDJtOGvc4xB6j\n",
       "m8vCI9MF8+CqfsRhoZO0YhXDPnRqtTWq9znhazBhsbcr9Z4HmCdEm1pjB+yHeAiCMosFdHvdiMES\n",
       "i7lK9rqygRJmwZCtTNWJP74Qa5t5lmoDAAAAAElFTkSuQmCC\n",
       "\" style=\"display:inline;vertical-align:middle;\" /></a><br>"
      ],
      "text/plain": [
       "<IPython.core.display.HTML object>"
      ]
     },
     "metadata": {},
     "output_type": "display_data"
    }
   ],
   "source": [
    "defaults.assumptions = negated_reflex.all_conditions()"
   ]
  },
  {
   "cell_type": "code",
   "execution_count": 4,
   "metadata": {},
   "outputs": [
    {
     "data": {
      "text/html": [
       "<strong id=\"BeqT\">BeqT:</strong> <a class=\"ProveItLink\" href=\"../../../__pv_it/_proof_negated_reflex/b677a00a750ae462ef977207acadfa9dc94a9f730/expr.ipynb\"><img src=\"data:image/png;base64,iVBORw0KGgoAAAANSUhEUgAAADwAAAAOBAMAAACBYGLnAAAAMFBMVEX///8AAAAAAAAAAAAAAAAA\n",
       "AAAAAAAAAAAAAAAAAAAAAAAAAAAAAAAAAAAAAAAAAAAv3aB7AAAAD3RSTlMAZrurzTLvInZEmRDd\n",
       "VIkafcLnAAAACXBIWXMAAA7EAAAOxAGVKw4bAAAAh0lEQVQY02NgYBD6b2zsFMCACtacAYHDIGYS\n",
       "AwPzVwYMcANCsf9gYOD8hVOaEaiT8QdOaeYPDAws6Til2RQYuG0CcErHa3SYCKA7FyHdX8DAm8iA\n",
       "U7caEL/HbfhnIJZvwCXN+hFI2E/AZTfHd6CSLzjtZklgYJjmjUuaWf+zsYkuFlmGiUAMAJPeMNSw\n",
       "HGcOAAAAAElFTkSuQmCC\n",
       "\" style=\"display:inline;vertical-align:middle;\" /></a><br>"
      ],
      "text/plain": [
       "<IPython.core.display.HTML object>"
      ]
     },
     "metadata": {},
     "output_type": "display_data"
    }
   ],
   "source": [
    "BeqT = Equals(B,TRUE)"
   ]
  },
  {
   "cell_type": "code",
   "execution_count": 5,
   "metadata": {},
   "outputs": [
    {
     "data": {
      "text/html": [
       "<strong id=\"AimplBeqT\">AimplBeqT:</strong> <span style=\"font-size:20px;\"><a class=\"ProveItLink\" href=\"../../../__pv_it/_proof_negated_reflex/b677a00a750ae462ef977207acadfa9dc94a9f730/expr.ipynb\"><img src=\"data:image/png;base64,iVBORw0KGgoAAAANSUhEUgAAADwAAAAOBAMAAACBYGLnAAAAMFBMVEX///8AAAAAAAAAAAAAAAAA\n",
       "AAAAAAAAAAAAAAAAAAAAAAAAAAAAAAAAAAAAAAAAAAAv3aB7AAAAD3RSTlMAZrurzTLvInZEmRDd\n",
       "VIkafcLnAAAACXBIWXMAAA7EAAAOxAGVKw4bAAAAh0lEQVQY02NgYBD6b2zsFMCACtacAYHDIGYS\n",
       "AwPzVwYMcANCsf9gYOD8hVOaEaiT8QdOaeYPDAws6Til2RQYuG0CcErHa3SYCKA7FyHdX8DAm8iA\n",
       "U7caEL/HbfhnIJZvwCXN+hFI2E/AZTfHd6CSLzjtZklgYJjmjUuaWf+zsYkuFlmGiUAMAJPeMNSw\n",
       "HGcOAAAAAElFTkSuQmCC\n",
       "\" style=\"display:inline;vertical-align:middle;\" /></a> <a class=\"ProveItLink\" href=\"../../../__pv_it/_proof_negated_reflex/ee1a97215e5043b0f2b5d88d4315946180dcc24a0/proof.ipynb\" style=\"text-decoration: none\">&nbsp;&#x22A2;&nbsp;&nbsp;</a><a class=\"ProveItLink\" href=\"../../../__pv_it/_proof_negated_reflex/706a7cb419bf1cb85d7ffe2ab83ee182eab0922d0/expr.ipynb\"><img src=\"data:image/png;base64,iVBORw0KGgoAAAANSUhEUgAAAHsAAAAVBAMAAACUF4xmAAAAMFBMVEX///8AAAAAAAAAAAAAAAAA\n",
       "AAAAAAAAAAAAAAAAAAAAAAAAAAAAAAAAAAAAAAAAAAAv3aB7AAAAD3RSTlMAIs1UmauJMnZmRLsQ\n",
       "3e++988cAAAACXBIWXMAAA7EAAAOxAGVKw4bAAABiklEQVQ4y2NgwA0EGPADuLwQNlkOAwLaV8AY\n",
       "+thkzYB49v/QUO0CNAnfuyBwlYFjAoTP/B+Lbh4FEPmagYH1O6akBZjUgXBY4rF4kwVkNuMPBgau\n",
       "L7i0T4FwEvOR3LcHSvOBCE6gzZw/cGnnOwAiGRv6kUKpGkobgQjWDwwMTA9xaWcCe56FwX4CQoYz\n",
       "AUK7gc3fwMATW4BLO1sAiFzMUA/WwgIO0btQr2qCiPodHUETUIIbWTsnOHQdGOQDkExmVgZTl0FE\n",
       "vwAD80sGXLYzPwAljy0u8RuQ5Q69ApFgYh8Q5+N0PDswZBhOMDDwX0CSYlQTgGv/CsTzG3Bp53oA\n",
       "djsD7wMkv18SgDue/SeQiF+Ay+/MQFu5gEHD9AFhMBfUIztA/voINOITTr9zApXKAWnujwgZWPZJ\n",
       "BUUs0FXrdHBqZ0lgOP1fh4F5/6cEuMx2KF0LTDT7v4YGbcaWnVaCSd4FuHMxbwEDISCLR47TgaB2\n",
       "T3ySGwnpZtyAT/Y0Ie3ceEszxgYC2hsZGADL1Gl3PgL2OgAAAABJRU5ErkJggg==\n",
       "\" style=\"display:inline;vertical-align:middle;\" /></a></span><br>"
      ],
      "text/plain": [
       "<IPython.core.display.HTML object>"
      ]
     },
     "metadata": {},
     "output_type": "display_data"
    }
   ],
   "source": [
    "AimplBeqT = BeqT.prove(assumptions=[BeqT]).as_implication(A)"
   ]
  },
  {
   "cell_type": "code",
   "execution_count": 6,
   "metadata": {},
   "outputs": [
    {
     "data": {
      "text/html": [
       "<strong id=\"n_impl_a_b\">n_impl_a_b:</strong> <a class=\"ProveItLink\" href=\"../../../__pv_it/theorems/772185474b8a5bfd5acbd869d8a83b52f0a4f2b80/expr.ipynb\"><img src=\"data:image/png;base64,iVBORw0KGgoAAAANSUhEUgAAAF8AAAAVBAMAAADSoS/MAAAAMFBMVEX///8AAAAAAAAAAAAAAAAA\n",
       "AAAAAAAAAAAAAAAAAAAAAAAAAAAAAAAAAAAAAAAAAAAv3aB7AAAAD3RSTlMAmd0iq3ZUiRDNZu9E\n",
       "uzLWhN+VAAAACXBIWXMAAA7EAAAOxAGVKw4bAAABfklEQVQ4y2NgQAADBkIAVQVrApiyxKPhKAov\n",
       "HULNx6Zy7X8Xl7kPGFgXIIlxTABTbP+xmr2XgYHlHwPDDCQhRohuRn9sXmH+ysDA85GBYSGSGDeE\n",
       "Kq5/ABfibYCxuICmcwE1cTcgNGRCjAqIT4AL8V2AsVg+MDBwbgZiJE+IQ1zEkI8kthxu/QUGDieg\n",
       "1ewOCMlZYPIYw/sCEC2kBAL6AlDJ91dDPUEGcU2AyCgC2WpgGQEGeyRDGDKh7os3YGDbBQrDDRC+\n",
       "CRDvAUfeRUH/C8hhPfsAmL4NxKDQ4PuApqGVgYFfAUmDZTGE/gLE6wOAQYtkgxrERQxMGxB+UJoM\n",
       "Da5fQMIfaBkb1DRDIL4KxDxAj3F+QFhwFpbMPgM1/QR5Gsm9JUBsDYqtz4j4nQBlcAJtPQ1KFowF\n",
       "CA2PGBh6/89gYLv/Ey7IC410lvtfXDyvgVhMBxAamB5gpiAMESMkNpcAA2Eghcy5TFg9M3IcMfQS\n",
       "1sCLkvSZAwhqCGZgAAD2wFM/O/w06AAAAABJRU5ErkJggg==\n",
       "\" style=\"display:inline;vertical-align:middle;\" /></a><br>"
      ],
      "text/plain": [
       "<IPython.core.display.HTML object>"
      ]
     },
     "metadata": {},
     "output_type": "display_data"
    }
   ],
   "source": [
    "n_impl_a_b = Not(Implies(A,B))"
   ]
  },
  {
   "cell_type": "code",
   "execution_count": 7,
   "metadata": {},
   "outputs": [
    {
     "data": {
      "text/html": [
       "<strong id=\"AimplB\">AimplB:</strong> <a class=\"ProveItLink\" href=\"../../../__pv_it/theorems/d78c7a0a66f0f0f40e69d505fb93268ea9af46dc0/expr.ipynb\"><img src=\"data:image/png;base64,iVBORw0KGgoAAAANSUhEUgAAAEAAAAAQBAMAAABUyWQaAAAAMFBMVEX///8AAAAAAAAAAAAAAAAA\n",
       "AAAAAAAAAAAAAAAAAAAAAAAAAAAAAAAAAAAAAAAAAAAv3aB7AAAAD3RSTlMAIs1UmauJMnZmRLsQ\n",
       "3e++988cAAAACXBIWXMAAA7EAAAOxAGVKw4bAAAA8UlEQVQoz2NgAAEhBgJAH5vg7P+hodoFYCbz\n",
       "f6zaXjMwsH4Hs1jiBbDIM/5gYOD6AmYm5hcgxPfAGJxA3Zw/wEob+g0QCqphDNYPDAxMD8E2MNhP\n",
       "QCjgTIAy+DYw8MSCjV7MUA8WZLkLBl+gCup3dARBNDowyAcgOY5ZGUL3CzAwvwQxOLa4xG9Adv6h\n",
       "V2BqHxCDXX+CgYH/ArL31CCe/grE8xvANjDwPkBywyWIPPtPIBG/ABgWQIcwfUAYwAW1juMjUNEn\n",
       "IEMOiLk/IhTAIo4JaOo6HQaG0/91GJj3f0qAK9gODab9X0ODNmOLIrRoAQDyg0EOXpubEgAAAABJ\n",
       "RU5ErkJggg==\n",
       "\" style=\"display:inline;vertical-align:middle;\" /></a><br>"
      ],
      "text/plain": [
       "<IPython.core.display.HTML object>"
      ]
     },
     "metadata": {},
     "output_type": "display_data"
    }
   ],
   "source": [
    "AimplB = n_impl_a_b.operands[0]"
   ]
  },
  {
   "cell_type": "code",
   "execution_count": 8,
   "metadata": {},
   "outputs": [
    {
     "data": {
      "text/html": [
       "<span style=\"font-size:20px;\"><a class=\"ProveItLink\" href=\"../../../__pv_it/theorems/772185474b8a5bfd5acbd869d8a83b52f0a4f2b80/expr.ipynb\"><img src=\"data:image/png;base64,iVBORw0KGgoAAAANSUhEUgAAAF8AAAAVBAMAAADSoS/MAAAAMFBMVEX///8AAAAAAAAAAAAAAAAA\n",
       "AAAAAAAAAAAAAAAAAAAAAAAAAAAAAAAAAAAAAAAAAAAv3aB7AAAAD3RSTlMAmd0iq3ZUiRDNZu9E\n",
       "uzLWhN+VAAAACXBIWXMAAA7EAAAOxAGVKw4bAAABfklEQVQ4y2NgQAADBkIAVQVrApiyxKPhKAov\n",
       "HULNx6Zy7X8Xl7kPGFgXIIlxTABTbP+xmr2XgYHlHwPDDCQhRohuRn9sXmH+ysDA85GBYSGSGDeE\n",
       "Kq5/ABfibYCxuICmcwE1cTcgNGRCjAqIT4AL8V2AsVg+MDBwbgZiJE+IQ1zEkI8kthxu/QUGDieg\n",
       "1ewOCMlZYPIYw/sCEC2kBAL6AlDJ91dDPUEGcU2AyCgC2WpgGQEGeyRDGDKh7os3YGDbBQrDDRC+\n",
       "CRDvAUfeRUH/C8hhPfsAmL4NxKDQ4PuApqGVgYFfAUmDZTGE/gLE6wOAQYtkgxrERQxMGxB+UJoM\n",
       "Da5fQMIfaBkb1DRDIL4KxDxAj3F+QFhwFpbMPgM1/QR5Gsm9JUBsDYqtz4j4nQBlcAJtPQ1KFowF\n",
       "CA2PGBh6/89gYLv/Ey7IC410lvtfXDyvgVhMBxAamB5gpiAMESMkNpcAA2Eghcy5TFg9M3IcMfQS\n",
       "1sCLkvSZAwhqCGZgAAD2wFM/O/w06AAAAABJRU5ErkJggg==\n",
       "\" style=\"display:inline;vertical-align:middle;\" /></a> <a class=\"ProveItLink\" href=\"../../../__pv_it/_proof_negated_reflex/c289271abd90a551bdd07a9bd847965d785b2cda0/proof.ipynb\" style=\"text-decoration: none\">&nbsp;&#x22A2;&nbsp;&nbsp;</a><a class=\"ProveItLink\" href=\"../../../__pv_it/_proof_negated_reflex/8dc514bf5f592210ad542229e38974151080a8060/expr.ipynb\"><img src=\"data:image/png;base64,iVBORw0KGgoAAAANSUhEUgAAAJsAAAAVBAMAAACj9YEXAAAAMFBMVEX///8AAAAAAAAAAAAAAAAA\n",
       "AAAAAAAAAAAAAAAAAAAAAAAAAAAAAAAAAAAAAAAAAAAv3aB7AAAAD3RSTlMAInZUiRDNmWbv3US7\n",
       "qzJazP2FAAAACXBIWXMAAA7EAAAOxAGVKw4bAAAB50lEQVQ4y41Uz0sCURCeVdffmUh0Coq6dCjy\n",
       "EIER5D8QePJUEOQhIciDUBehU12CutSlDoIQVCAd65QGXbVTp0TPEdgvKkqz2ffeuqO+ZRv4fOO3\n",
       "s997OzNvACAIhilgZYpFlC1M/ozxV5bNw30jHGY2TXx7lC3OZ0mcu9ys3JcAxoGjw1xnzO5ApSeJ\n",
       "82VeJgeeAkC1Bs4YMHSbnR3ZtUWoTb5kXmRywxh/nQJ3Chjkch5K7bNfx8CvQd22vb0aAt85AA6p\n",
       "3Axl+IeHbG8G99T2qogktsEqcEjl0jShvBIp+xepQFT3jgGW8rguCEjl6D5OlkdfOPBOqvUpHgYa\n",
       "o5MseFvAKCeRy+k0ZtfLWtAFSpPuuiL6E+sT0faLCEhPd6R3O27iudC8iY1Mg8bFeYgf6+TQalQX\n",
       "+J+civQ3vVUJfgv7McD9is6VgFQuR+TYx7oQpyQ1J+JO1/FD+37QmRWQ5u5Gl8Pc+TXmErFO7mhB\n",
       "OFMoW9c6aVdAejpacgdupGitXDamzKDuJFH6MCZaK20m90iYQBbU8kcM5lqJNlcS60OrUlljlT8X\n",
       "6B41rMu8NULle6OCPQMvyyG3jtu8A9amzYyOudFpReL7g9ZyQwImtkh8tWAtV+w6Qncu6KQOWarZ\n",
       "ghxy+wMNjXxDRDi/AwAAAABJRU5ErkJggg==\n",
       "\" style=\"display:inline;vertical-align:middle;\" /></a></span>"
      ],
      "text/plain": [
       "{[not](A => B)} |- [not](A => B) = TRUE"
      ]
     },
     "metadata": {},
     "output_type": "display_data"
    }
   ],
   "source": [
    "n_impl_a_b.evaluation()"
   ]
  },
  {
   "cell_type": "code",
   "execution_count": 9,
   "metadata": {},
   "outputs": [
    {
     "data": {
      "text/html": [
       "<strong id=\"contradiction\">contradiction:</strong> <span style=\"font-size:20px;\"><a class=\"ProveItLink\" href=\"../../../../../../__pv_it/common/a9162d1c3cc0470c02e5daf414500903a7a419230/expr.ipynb\"><img src=\"data:image/png;base64,iVBORw0KGgoAAAANSUhEUgAAABAAAAAOBAMAAADUAYG5AAAAMFBMVEX///8AAAAAAAAAAAAAAAAA\n",
       "AAAAAAAAAAAAAAAAAAAAAAAAAAAAAAAAAAAAAAAAAAAv3aB7AAAAD3RSTlMAZrurzTLvInZEmRDd\n",
       "VIkafcLnAAAACXBIWXMAAA7EAAAOxAGVKw4bAAAAb0lEQVQI12NgYBD6b2zsFMAABEkMDMxfgTT7\n",
       "DwYGzl9ABiOQxwjkMDB/YGBgSQcy2BQYuG1AiuM1OkwEQJr6Cxh4E0EMNSB+D5L6DMTyDQwMrB+B\n",
       "DPsJDAwc34GcL0AOSwIDwzRvoHH6n41NdBkYAF/iFeJ4bEa2AAAAAElFTkSuQmCC\n",
       "\" style=\"display:inline;vertical-align:middle;\" /></a>, <a class=\"ProveItLink\" href=\"../../../__pv_it/theorems/772185474b8a5bfd5acbd869d8a83b52f0a4f2b80/expr.ipynb\"><img src=\"data:image/png;base64,iVBORw0KGgoAAAANSUhEUgAAAF8AAAAVBAMAAADSoS/MAAAAMFBMVEX///8AAAAAAAAAAAAAAAAA\n",
       "AAAAAAAAAAAAAAAAAAAAAAAAAAAAAAAAAAAAAAAAAAAv3aB7AAAAD3RSTlMAmd0iq3ZUiRDNZu9E\n",
       "uzLWhN+VAAAACXBIWXMAAA7EAAAOxAGVKw4bAAABfklEQVQ4y2NgQAADBkIAVQVrApiyxKPhKAov\n",
       "HULNx6Zy7X8Xl7kPGFgXIIlxTABTbP+xmr2XgYHlHwPDDCQhRohuRn9sXmH+ysDA85GBYSGSGDeE\n",
       "Kq5/ABfibYCxuICmcwE1cTcgNGRCjAqIT4AL8V2AsVg+MDBwbgZiJE+IQ1zEkI8kthxu/QUGDieg\n",
       "1ewOCMlZYPIYw/sCEC2kBAL6AlDJ91dDPUEGcU2AyCgC2WpgGQEGeyRDGDKh7os3YGDbBQrDDRC+\n",
       "CRDvAUfeRUH/C8hhPfsAmL4NxKDQ4PuApqGVgYFfAUmDZTGE/gLE6wOAQYtkgxrERQxMGxB+UJoM\n",
       "Da5fQMIfaBkb1DRDIL4KxDxAj3F+QFhwFpbMPgM1/QR5Gsm9JUBsDYqtz4j4nQBlcAJtPQ1KFowF\n",
       "CA2PGBh6/89gYLv/Ey7IC410lvtfXDyvgVhMBxAamB5gpiAMESMkNpcAA2Eghcy5TFg9M3IcMfQS\n",
       "1sCLkvSZAwhqCGZgAAD2wFM/O/w06AAAAABJRU5ErkJggg==\n",
       "\" style=\"display:inline;vertical-align:middle;\" /></a> <a class=\"ProveItLink\" href=\"../../../__pv_it/_proof_negated_reflex/57fe692992faabd92459ef3e4e5882ea9a17d9080/proof.ipynb\" style=\"text-decoration: none\">&nbsp;&#x22A2;&nbsp;&nbsp;</a><a class=\"ProveItLink\" href=\"../../../../__pv_it/common/e0f123f2e4f322e1eba7f861749cda9fd9d99a120/expr.ipynb\"><img src=\"data:image/png;base64,iVBORw0KGgoAAAANSUhEUgAAAA4AAAAPBAMAAAAmOuNHAAAAHlBMVEX///8AAAAAAAAAAAAAAAAA\n",
       "AAAAAAAAAAAAAAAAAACGjDitAAAACXRSTlMARGZUdpnd76sKo+zpAAAACXBIWXMAAA7EAAAOxAGV\n",
       "Kw4bAAAAGElEQVQI12NgQAAhKG1CSzosLa08LS0DAJuOBVCdynDUAAAAAElFTkSuQmCC\n",
       "\" style=\"display:inline;vertical-align:middle;\" /></a></span><br>"
      ],
      "text/plain": [
       "<IPython.core.display.HTML object>"
      ]
     },
     "metadata": {},
     "output_type": "display_data"
    }
   ],
   "source": [
    "contradiction = n_impl_a_b.derive_contradiction(assumptions=[B, Not(Implies(A,B))])"
   ]
  },
  {
   "cell_type": "code",
   "execution_count": 10,
   "metadata": {},
   "outputs": [
    {
     "data": {
      "text/html": [
       "<strong id=\"B_impl_F\">B_impl_F:</strong> <span style=\"font-size:20px;\"><a class=\"ProveItLink\" href=\"../../../__pv_it/theorems/772185474b8a5bfd5acbd869d8a83b52f0a4f2b80/expr.ipynb\"><img src=\"data:image/png;base64,iVBORw0KGgoAAAANSUhEUgAAAF8AAAAVBAMAAADSoS/MAAAAMFBMVEX///8AAAAAAAAAAAAAAAAA\n",
       "AAAAAAAAAAAAAAAAAAAAAAAAAAAAAAAAAAAAAAAAAAAv3aB7AAAAD3RSTlMAmd0iq3ZUiRDNZu9E\n",
       "uzLWhN+VAAAACXBIWXMAAA7EAAAOxAGVKw4bAAABfklEQVQ4y2NgQAADBkIAVQVrApiyxKPhKAov\n",
       "HULNx6Zy7X8Xl7kPGFgXIIlxTABTbP+xmr2XgYHlHwPDDCQhRohuRn9sXmH+ysDA85GBYSGSGDeE\n",
       "Kq5/ABfibYCxuICmcwE1cTcgNGRCjAqIT4AL8V2AsVg+MDBwbgZiJE+IQ1zEkI8kthxu/QUGDieg\n",
       "1ewOCMlZYPIYw/sCEC2kBAL6AlDJ91dDPUEGcU2AyCgC2WpgGQEGeyRDGDKh7os3YGDbBQrDDRC+\n",
       "CRDvAUfeRUH/C8hhPfsAmL4NxKDQ4PuApqGVgYFfAUmDZTGE/gLE6wOAQYtkgxrERQxMGxB+UJoM\n",
       "Da5fQMIfaBkb1DRDIL4KxDxAj3F+QFhwFpbMPgM1/QR5Gsm9JUBsDYqtz4j4nQBlcAJtPQ1KFowF\n",
       "CA2PGBh6/89gYLv/Ey7IC410lvtfXDyvgVhMBxAamB5gpiAMESMkNpcAA2Eghcy5TFg9M3IcMfQS\n",
       "1sCLkvSZAwhqCGZgAAD2wFM/O/w06AAAAABJRU5ErkJggg==\n",
       "\" style=\"display:inline;vertical-align:middle;\" /></a> <a class=\"ProveItLink\" href=\"../../../__pv_it/_proof_negated_reflex/70154f0452587b2df2868fc833d23ae3db42994f0/proof.ipynb\" style=\"text-decoration: none\">&nbsp;&#x22A2;&nbsp;&nbsp;</a><a class=\"ProveItLink\" href=\"../../../__pv_it/_proof_negated_reflex/df2cf48fb667b38ac86b5f640f6b997605ec1b9d0/expr.ipynb\"><img src=\"data:image/png;base64,iVBORw0KGgoAAAANSUhEUgAAAEAAAAAQBAMAAABUyWQaAAAAMFBMVEX///8AAAAAAAAAAAAAAAAA\n",
       "AAAAAAAAAAAAAAAAAAAAAAAAAAAAAAAAAAAAAAAAAAAv3aB7AAAAD3RSTlMAZrurzTLvInZEmRDd\n",
       "VIkafcLnAAAACXBIWXMAAA7EAAAOxAGVKw4bAAAAt0lEQVQoz2NgIAyE/hsbOwVgk5kIpZMYGJi/\n",
       "YlNwA0Kx/2Bg4PyFRwEjUDfjD7go0wZ0BcwfGBhY0uGirAroCtgUGLhtkBwph64gXqPDRADMWnMG\n",
       "BM4vQFPQX8DAm4jstisXUBWoAfF75HDgdpuAouAzEMs3ICkoeY5iAutHIGE/AeGGM+6obuD4DlT0\n",
       "BcmASWi+YElgYJjmjZBnd0BVwKz/2dhEF8kAJqh7gfalnTlzGDMC2FG5AG/AN3GooU/9AAAAAElF\n",
       "TkSuQmCC\n",
       "\" style=\"display:inline;vertical-align:middle;\" /></a></span><br>"
      ],
      "text/plain": [
       "<IPython.core.display.HTML object>"
      ]
     },
     "metadata": {},
     "output_type": "display_data"
    }
   ],
   "source": [
    "B_impl_F = contradiction.as_implication(B)"
   ]
  },
  {
   "cell_type": "code",
   "execution_count": 11,
   "metadata": {},
   "outputs": [
    {
     "data": {
      "text/html": [
       "<span style=\"font-size:20px;\"><a class=\"ProveItLink\" href=\"../../../__pv_it/theorems/772185474b8a5bfd5acbd869d8a83b52f0a4f2b80/expr.ipynb\"><img src=\"data:image/png;base64,iVBORw0KGgoAAAANSUhEUgAAAF8AAAAVBAMAAADSoS/MAAAAMFBMVEX///8AAAAAAAAAAAAAAAAA\n",
       "AAAAAAAAAAAAAAAAAAAAAAAAAAAAAAAAAAAAAAAAAAAv3aB7AAAAD3RSTlMAmd0iq3ZUiRDNZu9E\n",
       "uzLWhN+VAAAACXBIWXMAAA7EAAAOxAGVKw4bAAABfklEQVQ4y2NgQAADBkIAVQVrApiyxKPhKAov\n",
       "HULNx6Zy7X8Xl7kPGFgXIIlxTABTbP+xmr2XgYHlHwPDDCQhRohuRn9sXmH+ysDA85GBYSGSGDeE\n",
       "Kq5/ABfibYCxuICmcwE1cTcgNGRCjAqIT4AL8V2AsVg+MDBwbgZiJE+IQ1zEkI8kthxu/QUGDieg\n",
       "1ewOCMlZYPIYw/sCEC2kBAL6AlDJ91dDPUEGcU2AyCgC2WpgGQEGeyRDGDKh7os3YGDbBQrDDRC+\n",
       "CRDvAUfeRUH/C8hhPfsAmL4NxKDQ4PuApqGVgYFfAUmDZTGE/gLE6wOAQYtkgxrERQxMGxB+UJoM\n",
       "Da5fQMIfaBkb1DRDIL4KxDxAj3F+QFhwFpbMPgM1/QR5Gsm9JUBsDYqtz4j4nQBlcAJtPQ1KFowF\n",
       "CA2PGBh6/89gYLv/Ey7IC410lvtfXDyvgVhMBxAamB5gpiAMESMkNpcAA2Eghcy5TFg9M3IcMfQS\n",
       "1sCLkvSZAwhqCGZgAAD2wFM/O/w06AAAAABJRU5ErkJggg==\n",
       "\" style=\"display:inline;vertical-align:middle;\" /></a> <a class=\"ProveItLink\" href=\"../../../__pv_it/_proof_negated_reflex/f82edb80d40f30d2e6d48392ce3cd61b1862c1700/proof.ipynb\" style=\"text-decoration: none\">&nbsp;&#x22A2;&nbsp;&nbsp;</a><a class=\"ProveItLink\" href=\"../../../__pv_it/_proof_negated_reflex/f4ee06064c214cd252c53d9300fed1a9beaa85200/expr.ipynb\"><img src=\"data:image/png;base64,iVBORw0KGgoAAAANSUhEUgAAADwAAAAUCAMAAADm3a4bAAAAPFBMVEX///8AAAAAAAAAAAAAAAAA\n",
       "AAAAAAAAAAAAAAAAAAAAAAAAAAAAAAAAAAAAAAAAAAAAAAAAAAAAAAAAAAAo1xBWAAAAE3RSTlMA\n",
       "ZrurzTLvInZEmRDdVInn9enzzJs5ywAAAAlwSFlzAAAOxAAADsQBlSsOGwAAAMNJREFUOMulk9sS\n",
       "hCAIQEHU1LK98P//us3a7mhYNMWLY3I4AymAHmk8OkXDTEtY4zqnzlR1pipo/ehLAnGHlhVzqHcD\n",
       "l23kJMUExzCuRuQgxYMCE5fVepEZpXgDl5ZHmmTLdlBgxyaEQBZBzPXxrOfagwN/y2ePp8QtbHxZ\n",
       "Z/GnYgINZoKdYXfFDewYf0OPbc+vd3uXOvDa8lLEbsX9W13DtrQc/TY3J1Bg+r+KDOfEEFF/inmG\n",
       "62HH6yzeEU83xODUjA87jwbUbtsKPwAAAABJRU5ErkJggg==\n",
       "\" style=\"display:inline;vertical-align:middle;\" /></a></span>"
      ],
      "text/plain": [
       "{[not](A => B)} |- B != TRUE"
      ]
     },
     "metadata": {},
     "output_type": "display_data"
    }
   ],
   "source": [
    "B_impl_F.derive_via_contradiction()"
   ]
  },
  {
   "cell_type": "code",
   "execution_count": 12,
   "metadata": {},
   "outputs": [
    {
     "data": {
      "text/html": [
       "<span style=\"font-size:20px;\"><a class=\"ProveItLink\" href=\"../../../__pv_it/theorems/772185474b8a5bfd5acbd869d8a83b52f0a4f2b80/expr.ipynb\"><img src=\"data:image/png;base64,iVBORw0KGgoAAAANSUhEUgAAAF8AAAAVBAMAAADSoS/MAAAAMFBMVEX///8AAAAAAAAAAAAAAAAA\n",
       "AAAAAAAAAAAAAAAAAAAAAAAAAAAAAAAAAAAAAAAAAAAv3aB7AAAAD3RSTlMAmd0iq3ZUiRDNZu9E\n",
       "uzLWhN+VAAAACXBIWXMAAA7EAAAOxAGVKw4bAAABfklEQVQ4y2NgQAADBkIAVQVrApiyxKPhKAov\n",
       "HULNx6Zy7X8Xl7kPGFgXIIlxTABTbP+xmr2XgYHlHwPDDCQhRohuRn9sXmH+ysDA85GBYSGSGDeE\n",
       "Kq5/ABfibYCxuICmcwE1cTcgNGRCjAqIT4AL8V2AsVg+MDBwbgZiJE+IQ1zEkI8kthxu/QUGDieg\n",
       "1ewOCMlZYPIYw/sCEC2kBAL6AlDJ91dDPUEGcU2AyCgC2WpgGQEGeyRDGDKh7os3YGDbBQrDDRC+\n",
       "CRDvAUfeRUH/C8hhPfsAmL4NxKDQ4PuApqGVgYFfAUmDZTGE/gLE6wOAQYtkgxrERQxMGxB+UJoM\n",
       "Da5fQMIfaBkb1DRDIL4KxDxAj3F+QFhwFpbMPgM1/QR5Gsm9JUBsDYqtz4j4nQBlcAJtPQ1KFowF\n",
       "CA2PGBh6/89gYLv/Ey7IC410lvtfXDyvgVhMBxAamB5gpiAMESMkNpcAA2Eghcy5TFg9M3IcMfQS\n",
       "1sCLkvSZAwhqCGZgAAD2wFM/O/w06AAAAABJRU5ErkJggg==\n",
       "\" style=\"display:inline;vertical-align:middle;\" /></a> <a class=\"ProveItLink\" href=\"../../../__pv_it/_proof_negated_reflex/ba78cb02515c401d0f8114e6a96d02e73186b60c0/proof.ipynb\" style=\"text-decoration: none\">&nbsp;&#x22A2;&nbsp;&nbsp;</a><a class=\"ProveItLink\" href=\"../../../__pv_it/theorems/dd5a6fa797dcaf2dec856fef9be29bef6326bd0c0/expr.ipynb\"><img src=\"data:image/png;base64,iVBORw0KGgoAAAANSUhEUgAAAEAAAAAQBAMAAABUyWQaAAAAMFBMVEX///8AAAAAAAAAAAAAAAAA\n",
       "AAAAAAAAAAAAAAAAAAAAAAAAAAAAAAAAAAAAAAAAAAAv3aB7AAAAD3RSTlMAZrurzTLvInZEmRDd\n",
       "VIkafcLnAAAACXBIWXMAAA7EAAAOxAGVKw4bAAAA7UlEQVQoz2NgwAfYHUCk0H9jY6cArApYPoCp\n",
       "JAYG5q9YFdwHK2D/wcDA+QurgsXfQSQjUDfjD7gg0wY4k68ObDAz0ByWdLgoqwKcWcHxF0SxKTBw\n",
       "2yA5Ug7OWsD7EUTFa3SYCIAF1pwBgfMLoPKcF1j/gej+AgbeRGSnXbkAobkY2D+DaDUgfo8cDtxu\n",
       "E8B006rFn0A0SJV8A5KCkucQdUCxPyBXgxxiPwHhhjPuMBsYGI4BMQcwMFi/IBkwCUpPBGJ/UHgn\n",
       "MDBM80aPICANFGfQL2Bg1v9sbKKLZAATxL3c+l82MFz674clilG5AC5FPtYuFkkyAAAAAElFTkSu\n",
       "QmCC\n",
       "\" style=\"display:inline;vertical-align:middle;\" /></a></span>"
      ],
      "text/plain": [
       "{[not](A => B)} |- B => A"
      ]
     },
     "metadata": {},
     "output_type": "display_data"
    },
    {
     "name": "stdout",
     "output_type": "stream",
     "text": [
      "negated_reflex may now be readily provable (assuming required theorems are usable).  Simply execute \"%qed\".\n"
     ]
    }
   ],
   "source": [
    "Implies(B, A).prove()"
   ]
  },
  {
   "cell_type": "code",
   "execution_count": 13,
   "metadata": {},
   "outputs": [
    {
     "name": "stdout",
     "output_type": "stream",
     "text": [
      "proveit.logic.booleans.implication.negated_reflex has been proven.\n"
     ]
    },
    {
     "data": {
      "text/html": [
       "<table><tr><th>&nbsp;</th><th>step type</th><th>requirements</th><th>statement</th></tr>\n",
       "<tr><td><a name=\"-0x53e12b54ebd38f26_step0\">0</a></td><td>generalization</td><td><a href=\"#-0x53e12b54ebd38f26_step1\">1</a></td><td><span style=\"font-size:20px;\"> <a class=\"ProveItLink\" href=\"../../../__pv_it/_proof_negated_reflex/00db927091dded25268968f045826e1d5ce8449c0/proof.ipynb\" style=\"text-decoration: none\">&nbsp;&#x22A2;&nbsp;&nbsp;</a><a class=\"ProveItLink\" href=\"../../../__pv_it/theorems/bc16a844ebbf97fe8ffdb67d166cedaa78817b9a0/expr.ipynb\"><img src=\"data:image/png;base64,iVBORw0KGgoAAAANSUhEUgAAANoAAAAXBAMAAACfRUyCAAAAMFBMVEX///8AAAAAAAAAAAAAAAAA\n",
       "AAAAAAAAAAAAAAAAAAAAAAAAAAAAAAAAAAAAAAAAAAAv3aB7AAAAD3RSTlMAq1RmmUTNIjK7EInv\n",
       "3XZ/CtNrAAAACXBIWXMAAA7EAAAOxAGVKw4bAAADFUlEQVRIx61WX0hTURj/6TbvdqdrgkTRwwZF\n",
       "vRgNMiGiXJSRWCT1Yn/AhYQkA+0lCKIZ9CIEk4h09eAVIggypghSe9B8iP5QDCrwZbTyNbSizAy0\n",
       "7ztn13u8bmnMC+e7557vnO/3nd/3O2cD1unR1mHG2p/P/3ZfBlxZwM/9rUWDlSYBR/+3yo19+f0d\n",
       "1KaAeu63FY32gE15DxDoypvMIpkyA9eZ0Z6i0Q6xiRFXLeF8bmegk/YeZkB4g0WjjbOpo33VZc0h\n",
       "j2G5R8d4y6/gCNEWiy9bhG2AWrTTHHNbjGnZGd5QK/Amk3ldNJozyfYlMDBpDe6z3NhFm8IQcBS4\n",
       "K4YMWwD1YwcbfQXIEmtlHMz9e/pTq/g8nuHn41IJTyLO6dQCl6CJU6C/EI7uH6kGISuPEtXRxPaR\n",
       "Ijd3f+NIn5VRBRPl+wVUh5Rl2009hBFjjGouplfE8n6XgdPwjdvRBoQdU8W0H/gCVzL3Vc4hPLTO\n",
       "O6fM0aMiMny3Dwe4iHEqcFaKpPmteJWE4fhqRxOH0nVTEievgiqSH9Cuom2g/B0L6gUyKt+PyZem\n",
       "9zlqkQOyBufluiAGQ3a0tMiwzC/zEaqbgP4OGFaZjNO6kp9W3TJtS0SigvnaSW1YJOjDEeGJTdVs\n",
       "gg1NE/rOOiN4kkgk7nCBtYXdB6mM28yzxdueoTTiEWvZ6dzbxYeM+dpL7apIuZnKIOuhVyloHD7t\n",
       "YtJdXbKeVJt6Ud6BsBXQyzGiNOm5YcuRATgaKQiNzIyQWmMqYOTqEWtavjd/Kcdypobmc2G2GFxe\n",
       "jUjrNiVKXG9erKy8qAjJk5Pww8V2lPbPkqA+mC4fgXTJeqDFdgL84lbIQpsTW03ck+V1zVlMYnIN\n",
       "v2da2uydItkE9SS0eejvbXULs0qYfHlGvCyimIFBYnLanFOzlgvHPIvOZ9BPXHBPoPZPqiFoVwl6\n",
       "gWN+3J8VFN/gU9mRGrklHTnaOldHu2K/XJW+inZWnaTccHrPyl7hp9f2faYAmrNA5sr4tVXBfPYg\n",
       "oQJoeJo/wJ51+1uzTFJ6/jnGf8b8C/UItw189bevAAAAAElFTkSuQmCC\n",
       "\" style=\"display:inline;vertical-align:middle;\" /></a></span></td></tr>\n",
       "<tr><td><a name=\"-0x53e12b54ebd38f26_step1\">1</a></td><td>instantiation</td><td><a href=\"#-0x53e12b54ebd38f26_step2\">2</a>, <a href=\"#-0x53e12b54ebd38f26_step3\">3</a></td><td><span style=\"font-size:20px;\"><a class=\"ProveItLink\" href=\"../../../__pv_it/theorems/772185474b8a5bfd5acbd869d8a83b52f0a4f2b80/expr.ipynb\"><img src=\"data:image/png;base64,iVBORw0KGgoAAAANSUhEUgAAAF8AAAAVBAMAAADSoS/MAAAAMFBMVEX///8AAAAAAAAAAAAAAAAA\n",
       "AAAAAAAAAAAAAAAAAAAAAAAAAAAAAAAAAAAAAAAAAAAv3aB7AAAAD3RSTlMAmd0iq3ZUiRDNZu9E\n",
       "uzLWhN+VAAAACXBIWXMAAA7EAAAOxAGVKw4bAAABfklEQVQ4y2NgQAADBkIAVQVrApiyxKPhKAov\n",
       "HULNx6Zy7X8Xl7kPGFgXIIlxTABTbP+xmr2XgYHlHwPDDCQhRohuRn9sXmH+ysDA85GBYSGSGDeE\n",
       "Kq5/ABfibYCxuICmcwE1cTcgNGRCjAqIT4AL8V2AsVg+MDBwbgZiJE+IQ1zEkI8kthxu/QUGDieg\n",
       "1ewOCMlZYPIYw/sCEC2kBAL6AlDJ91dDPUEGcU2AyCgC2WpgGQEGeyRDGDKh7os3YGDbBQrDDRC+\n",
       "CRDvAUfeRUH/C8hhPfsAmL4NxKDQ4PuApqGVgYFfAUmDZTGE/gLE6wOAQYtkgxrERQxMGxB+UJoM\n",
       "Da5fQMIfaBkb1DRDIL4KxDxAj3F+QFhwFpbMPgM1/QR5Gsm9JUBsDYqtz4j4nQBlcAJtPQ1KFowF\n",
       "CA2PGBh6/89gYLv/Ey7IC410lvtfXDyvgVhMBxAamB5gpiAMESMkNpcAA2Eghcy5TFg9M3IcMfQS\n",
       "1sCLkvSZAwhqCGZgAAD2wFM/O/w06AAAAABJRU5ErkJggg==\n",
       "\" style=\"display:inline;vertical-align:middle;\" /></a> <a class=\"ProveItLink\" href=\"../../../__pv_it/_proof_negated_reflex/ba78cb02515c401d0f8114e6a96d02e73186b60c0/proof.ipynb\" style=\"text-decoration: none\">&nbsp;&#x22A2;&nbsp;&nbsp;</a><a class=\"ProveItLink\" href=\"../../../__pv_it/theorems/dd5a6fa797dcaf2dec856fef9be29bef6326bd0c0/expr.ipynb\"><img src=\"data:image/png;base64,iVBORw0KGgoAAAANSUhEUgAAAEAAAAAQBAMAAABUyWQaAAAAMFBMVEX///8AAAAAAAAAAAAAAAAA\n",
       "AAAAAAAAAAAAAAAAAAAAAAAAAAAAAAAAAAAAAAAAAAAv3aB7AAAAD3RSTlMAZrurzTLvInZEmRDd\n",
       "VIkafcLnAAAACXBIWXMAAA7EAAAOxAGVKw4bAAAA7UlEQVQoz2NgwAfYHUCk0H9jY6cArApYPoCp\n",
       "JAYG5q9YFdwHK2D/wcDA+QurgsXfQSQjUDfjD7gg0wY4k68ObDAz0ByWdLgoqwKcWcHxF0SxKTBw\n",
       "2yA5Ug7OWsD7EUTFa3SYCIAF1pwBgfMLoPKcF1j/gej+AgbeRGSnXbkAobkY2D+DaDUgfo8cDtxu\n",
       "E8B006rFn0A0SJV8A5KCkucQdUCxPyBXgxxiPwHhhjPuMBsYGI4BMQcwMFi/IBkwCUpPBGJ/UHgn\n",
       "MDBM80aPICANFGfQL2Bg1v9sbKKLZAATxL3c+l82MFz674clilG5AC5FPtYuFkkyAAAAAElFTkSu\n",
       "QmCC\n",
       "\" style=\"display:inline;vertical-align:middle;\" /></a></span></td></tr>\n",
       "<tr><td>&nbsp;</td><td colspan=4 style=\"text-align:left\"><span style=\"font-size:20px;\"><a class=\"ProveItLink\" href=\"../../../../../../__pv_it/common/09585084922504426caf1db2ff588a23a0932a960/expr.ipynb\"><img src=\"data:image/png;base64,iVBORw0KGgoAAAANSUhEUgAAAA8AAAAPBAMAAADJ+Ih5AAAAMFBMVEX///8AAAAAAAAAAAAAAAAA\n",
       "AAAAAAAAAAAAAAAAAAAAAAAAAAAAAAAAAAAAAAAAAAAv3aB7AAAAD3RSTlMAIs1UmauJMnZmRLsQ\n",
       "3e++988cAAAACXBIWXMAAA7EAAAOxAGVKw4bAAAAXklEQVQI12NgAAEhBijQh9LM/6EMlngBCCMx\n",
       "vwBMMzb0G0BkGOwngBmLGeoTwAwHBvkAEM2xxSV+A4hxgoGB/wJEhoH3AZDmAupg+gBkyAEx90cG\n",
       "htP/dRiY939KAABt3hLO6mcEjQAAAABJRU5ErkJggg==\n",
       "\" style=\"display:inline;vertical-align:middle;\" /></a> : <a class=\"ProveItLink\" href=\"../../../../../../__pv_it/common/a9162d1c3cc0470c02e5daf414500903a7a419230/expr.ipynb\"><img src=\"data:image/png;base64,iVBORw0KGgoAAAANSUhEUgAAABAAAAAOBAMAAADUAYG5AAAAMFBMVEX///8AAAAAAAAAAAAAAAAA\n",
       "AAAAAAAAAAAAAAAAAAAAAAAAAAAAAAAAAAAAAAAAAAAv3aB7AAAAD3RSTlMAZrurzTLvInZEmRDd\n",
       "VIkafcLnAAAACXBIWXMAAA7EAAAOxAGVKw4bAAAAb0lEQVQI12NgYBD6b2zsFMAABEkMDMxfgTT7\n",
       "DwYGzl9ABiOQxwjkMDB/YGBgSQcy2BQYuG1AiuM1OkwEQJr6Cxh4E0EMNSB+D5L6DMTyDQwMrB+B\n",
       "DPsJDAwc34GcL0AOSwIDwzRvoHH6n41NdBkYAF/iFeJ4bEa2AAAAAElFTkSuQmCC\n",
       "\" style=\"display:inline;vertical-align:middle;\" /></a>, <a class=\"ProveItLink\" href=\"../../../../../../__pv_it/common/a9162d1c3cc0470c02e5daf414500903a7a419230/expr.ipynb\"><img src=\"data:image/png;base64,iVBORw0KGgoAAAANSUhEUgAAABAAAAAOBAMAAADUAYG5AAAAMFBMVEX///8AAAAAAAAAAAAAAAAA\n",
       "AAAAAAAAAAAAAAAAAAAAAAAAAAAAAAAAAAAAAAAAAAAv3aB7AAAAD3RSTlMAZrurzTLvInZEmRDd\n",
       "VIkafcLnAAAACXBIWXMAAA7EAAAOxAGVKw4bAAAAb0lEQVQI12NgYBD6b2zsFMAABEkMDMxfgTT7\n",
       "DwYGzl9ABiOQxwjkMDB/YGBgSQcy2BQYuG1AiuM1OkwEQJr6Cxh4E0EMNSB+D5L6DMTyDQwMrB+B\n",
       "DPsJDAwc34GcL0AOSwIDwzRvoHH6n41NdBkYAF/iFeJ4bEa2AAAAAElFTkSuQmCC\n",
       "\" style=\"display:inline;vertical-align:middle;\" /></a> : <a class=\"ProveItLink\" href=\"../../../../../../__pv_it/common/09585084922504426caf1db2ff588a23a0932a960/expr.ipynb\"><img src=\"data:image/png;base64,iVBORw0KGgoAAAANSUhEUgAAAA8AAAAPBAMAAADJ+Ih5AAAAMFBMVEX///8AAAAAAAAAAAAAAAAA\n",
       "AAAAAAAAAAAAAAAAAAAAAAAAAAAAAAAAAAAAAAAAAAAv3aB7AAAAD3RSTlMAIs1UmauJMnZmRLsQ\n",
       "3e++988cAAAACXBIWXMAAA7EAAAOxAGVKw4bAAAAXklEQVQI12NgAAEhBijQh9LM/6EMlngBCCMx\n",
       "vwBMMzb0G0BkGOwngBmLGeoTwAwHBvkAEM2xxSV+A4hxgoGB/wJEhoH3AZDmAupg+gBkyAEx90cG\n",
       "htP/dRiY939KAABt3hLO6mcEjQAAAABJRU5ErkJggg==\n",
       "\" style=\"display:inline;vertical-align:middle;\" /></a></span></td></tr><tr><td><a name=\"-0x53e12b54ebd38f26_step2\">2</a></td><td>theorem</td><td></td><td><span style=\"font-size:20px;\"> <a class=\"ProveItLink\" href=\"../untrue_antecedent_implication/thm_proof.ipynb\" style=\"text-decoration: none\">&nbsp;&#x22A2;&nbsp;&nbsp;</a><a class=\"ProveItLink\" href=\"../../../__pv_it/theorems/f83ccfee3596e58a431052e5ba0ac7335ac95e5d0/expr.ipynb\"><img src=\"data:image/png;base64,iVBORw0KGgoAAAANSUhEUgAAAL0AAAAXCAMAAABpjr6KAAAAOVBMVEX///8AAAAAAAAAAAAAAAAA\n",
       "AAAAAAAAAAAAAAAAAAAAAAAAAAAAAAAAAAAAAAAAAAAAAAAAAAAAAAACXHtMAAAAEnRSTlMAq1Rm\n",
       "mUTNIjK7EInv3Xbt5cmRiLwgAAAACXBIWXMAAA7EAAAOxAGVKw4bAAACcUlEQVRYw9VXiZabMAz0\n",
       "fdvb6v8/tgjbiQwY6HZLt3ovJCSWNYxGssLYvzD7Lbb4pBVBYZhP7aELXvnrXsiHwItI7wzc9ZMe\n",
       "gC9mvEMKEK7Sr20eSkYYyBYA912TX984IHwTGHOdfOsfol4NOVYcbrNmoVTVgMJUqPYIaFE8hD7R\n",
       "m2jjSuTOfDiQTlsq61OkZYlsVJinVE8D2cIKHNLmDqTAm8hMWtNlEHnKaCk+JRwaSKHwj7uFjBPZ\n",
       "B55rCiKKXrltpsJF/H0hntxtzRCweqHdwRumysRgG8eBL6Xw1wYSs2h5v/ToydEMgopRefLVLqeD\n",
       "A4vYxaJfLOGlbBZnMfJggU81Nmqq1PoWqcEXqdMeNQk/KFHm1TOdoB8cCA+HXSy9IxWv1NJz/Ly3\n",
       "ksXLdqmHcy0X6zOUoWa1S5QvrmqZz9GPDtzeRR+qF+RZgzRxaKY9SbI3ztTajSThCzM0lwl5DVnO\n",
       "0Q8OOrJz9G/lNF3ndKz7vDk+XS9vDpUAkVurN4FgYcoMJ4SUilNh+y346qBQ5f5jeckz9K9C0PJ0\n",
       "VNA7ktqx5sD0yaEiTIQ7N4p8lX3gaop+dCiSXXAfWyzbffzhYbsf3kxqeulU995LqF0aTOQQNrK3\n",
       "oGegBocw/HaI3uW6EGBFIfDDwVnjNycwf41oL+VlvRteK1Y3yn6ZLGYd8+2Ayvnx018ph2X3NfO7\n",
       "3VV70yJ2wBArrrAW7Uw5xIGRke8MvVR/Y9rDL9YCCAqMZg5ZlwYinlViAoo67EerCUz/JaP41Uw8\n",
       "GzqnbqLcG/C/ZBa/4ECH30V/d0y15c/Bl4sETv8oztALzf4Ds98GyS9KlRPd7hN8AgAAAABJRU5E\n",
       "rkJggg==\n",
       "\" style=\"display:inline;vertical-align:middle;\" /></a></span></td></tr>\n",
       "<tr><td>&nbsp;</td><td colspan=4 style-\"text-align:left\"><a class=\"ProveItLink\" href=\"../untrue_antecedent_implication/thm_proof.ipynb\">proveit.logic.booleans.implication.untrue_antecedent_implication</a></td></tr><tr><td><a name=\"-0x53e12b54ebd38f26_step3\">3</a></td><td>instantiation</td><td><a href=\"#-0x53e12b54ebd38f26_step4\">4</a>, <a href=\"#-0x53e12b54ebd38f26_step5\">5</a></td><td><span style=\"font-size:20px;\"><a class=\"ProveItLink\" href=\"../../../__pv_it/theorems/772185474b8a5bfd5acbd869d8a83b52f0a4f2b80/expr.ipynb\"><img src=\"data:image/png;base64,iVBORw0KGgoAAAANSUhEUgAAAF8AAAAVBAMAAADSoS/MAAAAMFBMVEX///8AAAAAAAAAAAAAAAAA\n",
       "AAAAAAAAAAAAAAAAAAAAAAAAAAAAAAAAAAAAAAAAAAAv3aB7AAAAD3RSTlMAmd0iq3ZUiRDNZu9E\n",
       "uzLWhN+VAAAACXBIWXMAAA7EAAAOxAGVKw4bAAABfklEQVQ4y2NgQAADBkIAVQVrApiyxKPhKAov\n",
       "HULNx6Zy7X8Xl7kPGFgXIIlxTABTbP+xmr2XgYHlHwPDDCQhRohuRn9sXmH+ysDA85GBYSGSGDeE\n",
       "Kq5/ABfibYCxuICmcwE1cTcgNGRCjAqIT4AL8V2AsVg+MDBwbgZiJE+IQ1zEkI8kthxu/QUGDieg\n",
       "1ewOCMlZYPIYw/sCEC2kBAL6AlDJ91dDPUEGcU2AyCgC2WpgGQEGeyRDGDKh7os3YGDbBQrDDRC+\n",
       "CRDvAUfeRUH/C8hhPfsAmL4NxKDQ4PuApqGVgYFfAUmDZTGE/gLE6wOAQYtkgxrERQxMGxB+UJoM\n",
       "Da5fQMIfaBkb1DRDIL4KxDxAj3F+QFhwFpbMPgM1/QR5Gsm9JUBsDYqtz4j4nQBlcAJtPQ1KFowF\n",
       "CA2PGBh6/89gYLv/Ey7IC410lvtfXDyvgVhMBxAamB5gpiAMESMkNpcAA2Eghcy5TFg9M3IcMfQS\n",
       "1sCLkvSZAwhqCGZgAAD2wFM/O/w06AAAAABJRU5ErkJggg==\n",
       "\" style=\"display:inline;vertical-align:middle;\" /></a> <a class=\"ProveItLink\" href=\"../../../__pv_it/_proof_negated_reflex/f82edb80d40f30d2e6d48392ce3cd61b1862c1700/proof.ipynb\" style=\"text-decoration: none\">&nbsp;&#x22A2;&nbsp;&nbsp;</a><a class=\"ProveItLink\" href=\"../../../__pv_it/_proof_negated_reflex/f4ee06064c214cd252c53d9300fed1a9beaa85200/expr.ipynb\"><img src=\"data:image/png;base64,iVBORw0KGgoAAAANSUhEUgAAADwAAAAUCAMAAADm3a4bAAAAPFBMVEX///8AAAAAAAAAAAAAAAAA\n",
       "AAAAAAAAAAAAAAAAAAAAAAAAAAAAAAAAAAAAAAAAAAAAAAAAAAAAAAAAAAAo1xBWAAAAE3RSTlMA\n",
       "ZrurzTLvInZEmRDdVInn9enzzJs5ywAAAAlwSFlzAAAOxAAADsQBlSsOGwAAAMNJREFUOMulk9sS\n",
       "hCAIQEHU1LK98P//us3a7mhYNMWLY3I4AymAHmk8OkXDTEtY4zqnzlR1pipo/ehLAnGHlhVzqHcD\n",
       "l23kJMUExzCuRuQgxYMCE5fVepEZpXgDl5ZHmmTLdlBgxyaEQBZBzPXxrOfagwN/y2ePp8QtbHxZ\n",
       "Z/GnYgINZoKdYXfFDewYf0OPbc+vd3uXOvDa8lLEbsX9W13DtrQc/TY3J1Bg+r+KDOfEEFF/inmG\n",
       "62HH6yzeEU83xODUjA87jwbUbtsKPwAAAABJRU5ErkJggg==\n",
       "\" style=\"display:inline;vertical-align:middle;\" /></a></span></td></tr>\n",
       "<tr><td>&nbsp;</td><td colspan=4 style=\"text-align:left\"><span style=\"font-size:20px;\"><a class=\"ProveItLink\" href=\"../../../../../../__pv_it/common/09585084922504426caf1db2ff588a23a0932a960/expr.ipynb\"><img src=\"data:image/png;base64,iVBORw0KGgoAAAANSUhEUgAAAA8AAAAPBAMAAADJ+Ih5AAAAMFBMVEX///8AAAAAAAAAAAAAAAAA\n",
       "AAAAAAAAAAAAAAAAAAAAAAAAAAAAAAAAAAAAAAAAAAAv3aB7AAAAD3RSTlMAIs1UmauJMnZmRLsQ\n",
       "3e++988cAAAACXBIWXMAAA7EAAAOxAGVKw4bAAAAXklEQVQI12NgAAEhBijQh9LM/6EMlngBCCMx\n",
       "vwBMMzb0G0BkGOwngBmLGeoTwAwHBvkAEM2xxSV+A4hxgoGB/wJEhoH3AZDmAupg+gBkyAEx90cG\n",
       "htP/dRiY939KAABt3hLO6mcEjQAAAABJRU5ErkJggg==\n",
       "\" style=\"display:inline;vertical-align:middle;\" /></a> : <a class=\"ProveItLink\" href=\"../../../../../../__pv_it/common/a9162d1c3cc0470c02e5daf414500903a7a419230/expr.ipynb\"><img src=\"data:image/png;base64,iVBORw0KGgoAAAANSUhEUgAAABAAAAAOBAMAAADUAYG5AAAAMFBMVEX///8AAAAAAAAAAAAAAAAA\n",
       "AAAAAAAAAAAAAAAAAAAAAAAAAAAAAAAAAAAAAAAAAAAv3aB7AAAAD3RSTlMAZrurzTLvInZEmRDd\n",
       "VIkafcLnAAAACXBIWXMAAA7EAAAOxAGVKw4bAAAAb0lEQVQI12NgYBD6b2zsFMAABEkMDMxfgTT7\n",
       "DwYGzl9ABiOQxwjkMDB/YGBgSQcy2BQYuG1AiuM1OkwEQJr6Cxh4E0EMNSB+D5L6DMTyDQwMrB+B\n",
       "DPsJDAwc34GcL0AOSwIDwzRvoHH6n41NdBkYAF/iFeJ4bEa2AAAAAElFTkSuQmCC\n",
       "\" style=\"display:inline;vertical-align:middle;\" /></a></span></td></tr><tr><td><a name=\"-0x53e12b54ebd38f26_step4\">4</a></td><td>theorem</td><td></td><td><span style=\"font-size:20px;\"> <a class=\"ProveItLink\" href=\"../not_true_via_contradiction/thm_proof.ipynb\" style=\"text-decoration: none\">&nbsp;&#x22A2;&nbsp;&nbsp;</a><a class=\"ProveItLink\" href=\"../../../__pv_it/theorems/040105f44853f8e69b16187e7288f505320739250/expr.ipynb\"><img src=\"data:image/png;base64,iVBORw0KGgoAAAANSUhEUgAAAKkAAAAXCAMAAABHy58YAAAAPFBMVEX///8AAAAAAAAAAAAAAAAA\n",
       "AAAAAAAAAAAAAAAAAAAAAAAAAAAAAAAAAAAAAAAAAAAAAAAAAAAAAAAAAAAo1xBWAAAAE3RSTlMA\n",
       "q1RmmUTNIjK7EInv3Xbn9enzK1aD6QAAAAlwSFlzAAAOxAAADsQBlSsOGwAAAgVJREFUSMfNl9ly\n",
       "hSAMhgHZg3Th/d+1oqJBFjkzx7ZcOEpYPv4kgIT8SlF/2Pul4hmeV1bbcNvsLnx80uObTU+BMsBf\n",
       "MtTaaIOgZ1QioI9oXBwjPCWyzURkoUpqdLE+j1a3CK6TqMo8JSnPnMVpqEiiKemRTnzHjQXYU6QO\n",
       "f4CCoCuSqi4pcQvltK9YPhaleGTliQ+lJoKSPqmMlG4NXAePOR+PzGOglqlby5GMFOJS+OoMgzaJ\n",
       "bL/gZYa8RioRmFjk1AGuWf7xmbK8RTpFxyiaHonE4UAqEi03X/Sr1M0st6tARyTNSZlLcoJASmeB\n",
       "VJBCaOdebf9w59DecL7k/rWV4OSOVIdUhaJeaOc7k1/M+XnRJ7VbxzCPSJqTCren/YRqPZG0M/nF\n",
       "TKi6IT29v0s3uzxOv77P06jp/XnfSqVFJITL9uTJDGYvEodtjdSkGcVUP05lPUXzjNpGVo4i5y40\n",
       "rklamCP0eSLXSGEfXKVuJj+kGCf3pGmroxpVAdBgW6SFed03wHZI9eo4a0JYxWPxBe4lPVywRYwo\n",
       "7mfr1KHl0NN8eN8Y6HufzHr8otW6oc6NdeB9yPTNBKabjNquF+2DYeQg4ddjja8Ba3mQojZ5zawT\n",
       "xiqyiw8/cP04lzEk6dA976bRiCK2M8Y8MoBRbyAd+xHyTZMe+bkZu+M/dsH+Z7+V7ys/+3QP53uw\n",
       "XeAAAAAASUVORK5CYII=\n",
       "\" style=\"display:inline;vertical-align:middle;\" /></a></span></td></tr>\n",
       "<tr><td>&nbsp;</td><td colspan=4 style-\"text-align:left\"><a class=\"ProveItLink\" href=\"../not_true_via_contradiction/thm_proof.ipynb\">proveit.logic.booleans.implication.not_true_via_contradiction</a></td></tr><tr><td><a name=\"-0x53e12b54ebd38f26_step5\">5</a></td><td>deduction</td><td><a href=\"#-0x53e12b54ebd38f26_step6\">6</a></td><td><span style=\"font-size:20px;\"><a class=\"ProveItLink\" href=\"../../../__pv_it/theorems/772185474b8a5bfd5acbd869d8a83b52f0a4f2b80/expr.ipynb\"><img src=\"data:image/png;base64,iVBORw0KGgoAAAANSUhEUgAAAF8AAAAVBAMAAADSoS/MAAAAMFBMVEX///8AAAAAAAAAAAAAAAAA\n",
       "AAAAAAAAAAAAAAAAAAAAAAAAAAAAAAAAAAAAAAAAAAAv3aB7AAAAD3RSTlMAmd0iq3ZUiRDNZu9E\n",
       "uzLWhN+VAAAACXBIWXMAAA7EAAAOxAGVKw4bAAABfklEQVQ4y2NgQAADBkIAVQVrApiyxKPhKAov\n",
       "HULNx6Zy7X8Xl7kPGFgXIIlxTABTbP+xmr2XgYHlHwPDDCQhRohuRn9sXmH+ysDA85GBYSGSGDeE\n",
       "Kq5/ABfibYCxuICmcwE1cTcgNGRCjAqIT4AL8V2AsVg+MDBwbgZiJE+IQ1zEkI8kthxu/QUGDieg\n",
       "1ewOCMlZYPIYw/sCEC2kBAL6AlDJ91dDPUEGcU2AyCgC2WpgGQEGeyRDGDKh7os3YGDbBQrDDRC+\n",
       "CRDvAUfeRUH/C8hhPfsAmL4NxKDQ4PuApqGVgYFfAUmDZTGE/gLE6wOAQYtkgxrERQxMGxB+UJoM\n",
       "Da5fQMIfaBkb1DRDIL4KxDxAj3F+QFhwFpbMPgM1/QR5Gsm9JUBsDYqtz4j4nQBlcAJtPQ1KFowF\n",
       "CA2PGBh6/89gYLv/Ey7IC410lvtfXDyvgVhMBxAamB5gpiAMESMkNpcAA2Eghcy5TFg9M3IcMfQS\n",
       "1sCLkvSZAwhqCGZgAAD2wFM/O/w06AAAAABJRU5ErkJggg==\n",
       "\" style=\"display:inline;vertical-align:middle;\" /></a> <a class=\"ProveItLink\" href=\"../../../__pv_it/_proof_negated_reflex/70154f0452587b2df2868fc833d23ae3db42994f0/proof.ipynb\" style=\"text-decoration: none\">&nbsp;&#x22A2;&nbsp;&nbsp;</a><a class=\"ProveItLink\" href=\"../../../__pv_it/_proof_negated_reflex/df2cf48fb667b38ac86b5f640f6b997605ec1b9d0/expr.ipynb\"><img src=\"data:image/png;base64,iVBORw0KGgoAAAANSUhEUgAAAEAAAAAQBAMAAABUyWQaAAAAMFBMVEX///8AAAAAAAAAAAAAAAAA\n",
       "AAAAAAAAAAAAAAAAAAAAAAAAAAAAAAAAAAAAAAAAAAAv3aB7AAAAD3RSTlMAZrurzTLvInZEmRDd\n",
       "VIkafcLnAAAACXBIWXMAAA7EAAAOxAGVKw4bAAAAt0lEQVQoz2NgIAyE/hsbOwVgk5kIpZMYGJi/\n",
       "YlNwA0Kx/2Bg4PyFRwEjUDfjD7go0wZ0BcwfGBhY0uGirAroCtgUGLhtkBwph64gXqPDRADMWnMG\n",
       "BM4vQFPQX8DAm4jstisXUBWoAfF75HDgdpuAouAzEMs3ICkoeY5iAutHIGE/AeGGM+6obuD4DlT0\n",
       "BcmASWi+YElgYJjmjZBnd0BVwKz/2dhEF8kAJqh7gfalnTlzGDMC2FG5AG/AN3GooU/9AAAAAElF\n",
       "TkSuQmCC\n",
       "\" style=\"display:inline;vertical-align:middle;\" /></a></span></td></tr>\n",
       "<tr><td><a name=\"-0x53e12b54ebd38f26_step6\">6</a></td><td>instantiation</td><td><a href=\"#-0x53e12b54ebd38f26_step7\">7</a>, <a href=\"#-0x53e12b54ebd38f26_step8\">8</a>, <a href=\"#-0x53e12b54ebd38f26_step9\">9</a></td><td><span style=\"font-size:20px;\"><a class=\"ProveItLink\" href=\"../../../../../../__pv_it/common/a9162d1c3cc0470c02e5daf414500903a7a419230/expr.ipynb\"><img src=\"data:image/png;base64,iVBORw0KGgoAAAANSUhEUgAAABAAAAAOBAMAAADUAYG5AAAAMFBMVEX///8AAAAAAAAAAAAAAAAA\n",
       "AAAAAAAAAAAAAAAAAAAAAAAAAAAAAAAAAAAAAAAAAAAv3aB7AAAAD3RSTlMAZrurzTLvInZEmRDd\n",
       "VIkafcLnAAAACXBIWXMAAA7EAAAOxAGVKw4bAAAAb0lEQVQI12NgYBD6b2zsFMAABEkMDMxfgTT7\n",
       "DwYGzl9ABiOQxwjkMDB/YGBgSQcy2BQYuG1AiuM1OkwEQJr6Cxh4E0EMNSB+D5L6DMTyDQwMrB+B\n",
       "DPsJDAwc34GcL0AOSwIDwzRvoHH6n41NdBkYAF/iFeJ4bEa2AAAAAElFTkSuQmCC\n",
       "\" style=\"display:inline;vertical-align:middle;\" /></a>, <a class=\"ProveItLink\" href=\"../../../__pv_it/theorems/772185474b8a5bfd5acbd869d8a83b52f0a4f2b80/expr.ipynb\"><img src=\"data:image/png;base64,iVBORw0KGgoAAAANSUhEUgAAAF8AAAAVBAMAAADSoS/MAAAAMFBMVEX///8AAAAAAAAAAAAAAAAA\n",
       "AAAAAAAAAAAAAAAAAAAAAAAAAAAAAAAAAAAAAAAAAAAv3aB7AAAAD3RSTlMAmd0iq3ZUiRDNZu9E\n",
       "uzLWhN+VAAAACXBIWXMAAA7EAAAOxAGVKw4bAAABfklEQVQ4y2NgQAADBkIAVQVrApiyxKPhKAov\n",
       "HULNx6Zy7X8Xl7kPGFgXIIlxTABTbP+xmr2XgYHlHwPDDCQhRohuRn9sXmH+ysDA85GBYSGSGDeE\n",
       "Kq5/ABfibYCxuICmcwE1cTcgNGRCjAqIT4AL8V2AsVg+MDBwbgZiJE+IQ1zEkI8kthxu/QUGDieg\n",
       "1ewOCMlZYPIYw/sCEC2kBAL6AlDJ91dDPUEGcU2AyCgC2WpgGQEGeyRDGDKh7os3YGDbBQrDDRC+\n",
       "CRDvAUfeRUH/C8hhPfsAmL4NxKDQ4PuApqGVgYFfAUmDZTGE/gLE6wOAQYtkgxrERQxMGxB+UJoM\n",
       "Da5fQMIfaBkb1DRDIL4KxDxAj3F+QFhwFpbMPgM1/QR5Gsm9JUBsDYqtz4j4nQBlcAJtPQ1KFowF\n",
       "CA2PGBh6/89gYLv/Ey7IC410lvtfXDyvgVhMBxAamB5gpiAMESMkNpcAA2Eghcy5TFg9M3IcMfQS\n",
       "1sCLkvSZAwhqCGZgAAD2wFM/O/w06AAAAABJRU5ErkJggg==\n",
       "\" style=\"display:inline;vertical-align:middle;\" /></a> <a class=\"ProveItLink\" href=\"../../../__pv_it/_proof_negated_reflex/57fe692992faabd92459ef3e4e5882ea9a17d9080/proof.ipynb\" style=\"text-decoration: none\">&nbsp;&#x22A2;&nbsp;&nbsp;</a><a class=\"ProveItLink\" href=\"../../../../__pv_it/common/e0f123f2e4f322e1eba7f861749cda9fd9d99a120/expr.ipynb\"><img src=\"data:image/png;base64,iVBORw0KGgoAAAANSUhEUgAAAA4AAAAPBAMAAAAmOuNHAAAAHlBMVEX///8AAAAAAAAAAAAAAAAA\n",
       "AAAAAAAAAAAAAAAAAACGjDitAAAACXRSTlMARGZUdpnd76sKo+zpAAAACXBIWXMAAA7EAAAOxAGV\n",
       "Kw4bAAAAGElEQVQI12NgQAAhKG1CSzosLa08LS0DAJuOBVCdynDUAAAAAElFTkSuQmCC\n",
       "\" style=\"display:inline;vertical-align:middle;\" /></a></span></td></tr>\n",
       "<tr><td>&nbsp;</td><td colspan=4 style=\"text-align:left\"><span style=\"font-size:20px;\"><a class=\"ProveItLink\" href=\"../../../../../../__pv_it/common/09585084922504426caf1db2ff588a23a0932a960/expr.ipynb\"><img src=\"data:image/png;base64,iVBORw0KGgoAAAANSUhEUgAAAA8AAAAPBAMAAADJ+Ih5AAAAMFBMVEX///8AAAAAAAAAAAAAAAAA\n",
       "AAAAAAAAAAAAAAAAAAAAAAAAAAAAAAAAAAAAAAAAAAAv3aB7AAAAD3RSTlMAIs1UmauJMnZmRLsQ\n",
       "3e++988cAAAACXBIWXMAAA7EAAAOxAGVKw4bAAAAXklEQVQI12NgAAEhBijQh9LM/6EMlngBCCMx\n",
       "vwBMMzb0G0BkGOwngBmLGeoTwAwHBvkAEM2xxSV+A4hxgoGB/wJEhoH3AZDmAupg+gBkyAEx90cG\n",
       "htP/dRiY939KAABt3hLO6mcEjQAAAABJRU5ErkJggg==\n",
       "\" style=\"display:inline;vertical-align:middle;\" /></a> : <a class=\"ProveItLink\" href=\"../../../__pv_it/theorems/d78c7a0a66f0f0f40e69d505fb93268ea9af46dc0/expr.ipynb\"><img src=\"data:image/png;base64,iVBORw0KGgoAAAANSUhEUgAAAEAAAAAQBAMAAABUyWQaAAAAMFBMVEX///8AAAAAAAAAAAAAAAAA\n",
       "AAAAAAAAAAAAAAAAAAAAAAAAAAAAAAAAAAAAAAAAAAAv3aB7AAAAD3RSTlMAIs1UmauJMnZmRLsQ\n",
       "3e++988cAAAACXBIWXMAAA7EAAAOxAGVKw4bAAAA8UlEQVQoz2NgAAEhBgJAH5vg7P+hodoFYCbz\n",
       "f6zaXjMwsH4Hs1jiBbDIM/5gYOD6AmYm5hcgxPfAGJxA3Zw/wEob+g0QCqphDNYPDAxMD8E2MNhP\n",
       "QCjgTIAy+DYw8MSCjV7MUA8WZLkLBl+gCup3dARBNDowyAcgOY5ZGUL3CzAwvwQxOLa4xG9Adv6h\n",
       "V2BqHxCDXX+CgYH/ArL31CCe/grE8xvANjDwPkBywyWIPPtPIBG/ABgWQIcwfUAYwAW1juMjUNEn\n",
       "IEMOiLk/IhTAIo4JaOo6HQaG0/91GJj3f0qAK9gODab9X0ODNmOLIrRoAQDyg0EOXpubEgAAAABJ\n",
       "RU5ErkJggg==\n",
       "\" style=\"display:inline;vertical-align:middle;\" /></a></span></td></tr><tr><td><a name=\"-0x53e12b54ebd38f26_step7\">7</a></td><td>theorem</td><td></td><td><span style=\"font-size:20px;\"> <a class=\"ProveItLink\" href=\"../../../../negation/_theory_nbs_/proofs/negation_contradiction/thm_proof.ipynb\" style=\"text-decoration: none\">&nbsp;&#x22A2;&nbsp;&nbsp;</a><a class=\"ProveItLink\" href=\"../../../../negation/__pv_it/theorems/27dc228341cf78472ea9e06dffca1323233a47f10/expr.ipynb\"><img src=\"data:image/png;base64,iVBORw0KGgoAAAANSUhEUgAAAGsAAAAWBAMAAAA1LX8gAAAAMFBMVEX///8AAAAAAAAAAAAAAAAA\n",
       "AAAAAAAAAAAAAAAAAAAAAAAAAAAAAAAAAAAAAAAAAAAv3aB7AAAAD3RSTlMAq1RmmUTNIjK7EInv\n",
       "3XZ/CtNrAAAACXBIWXMAAA7EAAAOxAGVKw4bAAABK0lEQVQ4y2NgIA8IgAhlEjSwGoBIVxCRToI2\n",
       "pgcgshGI2SeQrI1tAQMDtwLJ2piBTmVjIFkbw9m7d0+Toc2DgWEWmLEATLLApLlQFHOhaytkYAdH\n",
       "AtcJMJcTJr2mAVkbggfVxrmAOwBEc39C1bYfJZwQPKg2pgeQEIk4h6KNtecBchwjeFBtDAl2YOpB\n",
       "Ioo2PjYBJG1IPJi2TVlgCQY3FG0PWBKQtCHxYNpqwAZFMLxB1sbawHcA5OGZM2fOhfNQtDGCA8l7\n",
       "t/wCJG0suzf+gqpjROKx3L17BxjRcBfzMTDUNyBpe8DA/gOhDYmHCoIZGPgVENpAueMTw2poAoDw\n",
       "sACWgwxc/qkIbT4CDEu+BfRAIwvCw5vkOJE5xOcMZG2sC8jSxkx8vmAnShUAc9tIumRCvdAAAAAA\n",
       "SUVORK5CYII=\n",
       "\" style=\"display:inline;vertical-align:middle;\" /></a></span></td></tr>\n",
       "<tr><td>&nbsp;</td><td colspan=4 style-\"text-align:left\"><a class=\"ProveItLink\" href=\"../../../../negation/_theory_nbs_/proofs/negation_contradiction/thm_proof.ipynb\">proveit.logic.booleans.negation.negation_contradiction</a></td></tr><tr><td><a name=\"-0x53e12b54ebd38f26_step8\">8</a></td><td>deduction</td><td><a href=\"#-0x53e12b54ebd38f26_step10\">10</a></td><td><span style=\"font-size:20px;\"><a class=\"ProveItLink\" href=\"../../../../../../__pv_it/common/a9162d1c3cc0470c02e5daf414500903a7a419230/expr.ipynb\"><img src=\"data:image/png;base64,iVBORw0KGgoAAAANSUhEUgAAABAAAAAOBAMAAADUAYG5AAAAMFBMVEX///8AAAAAAAAAAAAAAAAA\n",
       "AAAAAAAAAAAAAAAAAAAAAAAAAAAAAAAAAAAAAAAAAAAv3aB7AAAAD3RSTlMAZrurzTLvInZEmRDd\n",
       "VIkafcLnAAAACXBIWXMAAA7EAAAOxAGVKw4bAAAAb0lEQVQI12NgYBD6b2zsFMAABEkMDMxfgTT7\n",
       "DwYGzl9ABiOQxwjkMDB/YGBgSQcy2BQYuG1AiuM1OkwEQJr6Cxh4E0EMNSB+D5L6DMTyDQwMrB+B\n",
       "DPsJDAwc34GcL0AOSwIDwzRvoHH6n41NdBkYAF/iFeJ4bEa2AAAAAElFTkSuQmCC\n",
       "\" style=\"display:inline;vertical-align:middle;\" /></a> <a class=\"ProveItLink\" href=\"../../../__pv_it/_proof_negated_reflex/d3db23b0b5ae5848d480e896f1959f97693ff39d0/proof.ipynb\" style=\"text-decoration: none\">&nbsp;&#x22A2;&nbsp;&nbsp;</a><a class=\"ProveItLink\" href=\"../../../__pv_it/theorems/d78c7a0a66f0f0f40e69d505fb93268ea9af46dc0/expr.ipynb\"><img src=\"data:image/png;base64,iVBORw0KGgoAAAANSUhEUgAAAEAAAAAQBAMAAABUyWQaAAAAMFBMVEX///8AAAAAAAAAAAAAAAAA\n",
       "AAAAAAAAAAAAAAAAAAAAAAAAAAAAAAAAAAAAAAAAAAAv3aB7AAAAD3RSTlMAIs1UmauJMnZmRLsQ\n",
       "3e++988cAAAACXBIWXMAAA7EAAAOxAGVKw4bAAAA8UlEQVQoz2NgAAEhBgJAH5vg7P+hodoFYCbz\n",
       "f6zaXjMwsH4Hs1jiBbDIM/5gYOD6AmYm5hcgxPfAGJxA3Zw/wEob+g0QCqphDNYPDAxMD8E2MNhP\n",
       "QCjgTIAy+DYw8MSCjV7MUA8WZLkLBl+gCup3dARBNDowyAcgOY5ZGUL3CzAwvwQxOLa4xG9Adv6h\n",
       "V2BqHxCDXX+CgYH/ArL31CCe/grE8xvANjDwPkBywyWIPPtPIBG/ABgWQIcwfUAYwAW1juMjUNEn\n",
       "IEMOiLk/IhTAIo4JaOo6HQaG0/91GJj3f0qAK9gODab9X0ODNmOLIrRoAQDyg0EOXpubEgAAAABJ\n",
       "RU5ErkJggg==\n",
       "\" style=\"display:inline;vertical-align:middle;\" /></a></span></td></tr>\n",
       "<tr><td><a name=\"-0x53e12b54ebd38f26_step9\">9</a></td><td>assumption</td><td></td><td><span style=\"font-size:20px;\"><a class=\"ProveItLink\" href=\"../../../__pv_it/theorems/772185474b8a5bfd5acbd869d8a83b52f0a4f2b80/expr.ipynb\"><img src=\"data:image/png;base64,iVBORw0KGgoAAAANSUhEUgAAAF8AAAAVBAMAAADSoS/MAAAAMFBMVEX///8AAAAAAAAAAAAAAAAA\n",
       "AAAAAAAAAAAAAAAAAAAAAAAAAAAAAAAAAAAAAAAAAAAv3aB7AAAAD3RSTlMAmd0iq3ZUiRDNZu9E\n",
       "uzLWhN+VAAAACXBIWXMAAA7EAAAOxAGVKw4bAAABfklEQVQ4y2NgQAADBkIAVQVrApiyxKPhKAov\n",
       "HULNx6Zy7X8Xl7kPGFgXIIlxTABTbP+xmr2XgYHlHwPDDCQhRohuRn9sXmH+ysDA85GBYSGSGDeE\n",
       "Kq5/ABfibYCxuICmcwE1cTcgNGRCjAqIT4AL8V2AsVg+MDBwbgZiJE+IQ1zEkI8kthxu/QUGDieg\n",
       "1ewOCMlZYPIYw/sCEC2kBAL6AlDJ91dDPUEGcU2AyCgC2WpgGQEGeyRDGDKh7os3YGDbBQrDDRC+\n",
       "CRDvAUfeRUH/C8hhPfsAmL4NxKDQ4PuApqGVgYFfAUmDZTGE/gLE6wOAQYtkgxrERQxMGxB+UJoM\n",
       "Da5fQMIfaBkb1DRDIL4KxDxAj3F+QFhwFpbMPgM1/QR5Gsm9JUBsDYqtz4j4nQBlcAJtPQ1KFowF\n",
       "CA2PGBh6/89gYLv/Ey7IC410lvtfXDyvgVhMBxAamB5gpiAMESMkNpcAA2Eghcy5TFg9M3IcMfQS\n",
       "1sCLkvSZAwhqCGZgAAD2wFM/O/w06AAAAABJRU5ErkJggg==\n",
       "\" style=\"display:inline;vertical-align:middle;\" /></a> <a class=\"ProveItLink\" href=\"../../../__pv_it/_proof_negated_reflex/ff44cd95561b7c9c0ecfdb797db150b6770c77560/proof.ipynb\" style=\"text-decoration: none\">&nbsp;&#x22A2;&nbsp;&nbsp;</a><a class=\"ProveItLink\" href=\"../../../__pv_it/theorems/772185474b8a5bfd5acbd869d8a83b52f0a4f2b80/expr.ipynb\"><img src=\"data:image/png;base64,iVBORw0KGgoAAAANSUhEUgAAAF8AAAAVBAMAAADSoS/MAAAAMFBMVEX///8AAAAAAAAAAAAAAAAA\n",
       "AAAAAAAAAAAAAAAAAAAAAAAAAAAAAAAAAAAAAAAAAAAv3aB7AAAAD3RSTlMAmd0iq3ZUiRDNZu9E\n",
       "uzLWhN+VAAAACXBIWXMAAA7EAAAOxAGVKw4bAAABfklEQVQ4y2NgQAADBkIAVQVrApiyxKPhKAov\n",
       "HULNx6Zy7X8Xl7kPGFgXIIlxTABTbP+xmr2XgYHlHwPDDCQhRohuRn9sXmH+ysDA85GBYSGSGDeE\n",
       "Kq5/ABfibYCxuICmcwE1cTcgNGRCjAqIT4AL8V2AsVg+MDBwbgZiJE+IQ1zEkI8kthxu/QUGDieg\n",
       "1ewOCMlZYPIYw/sCEC2kBAL6AlDJ91dDPUEGcU2AyCgC2WpgGQEGeyRDGDKh7os3YGDbBQrDDRC+\n",
       "CRDvAUfeRUH/C8hhPfsAmL4NxKDQ4PuApqGVgYFfAUmDZTGE/gLE6wOAQYtkgxrERQxMGxB+UJoM\n",
       "Da5fQMIfaBkb1DRDIL4KxDxAj3F+QFhwFpbMPgM1/QR5Gsm9JUBsDYqtz4j4nQBlcAJtPQ1KFowF\n",
       "CA2PGBh6/89gYLv/Ey7IC410lvtfXDyvgVhMBxAamB5gpiAMESMkNpcAA2Eghcy5TFg9M3IcMfQS\n",
       "1sCLkvSZAwhqCGZgAAD2wFM/O/w06AAAAABJRU5ErkJggg==\n",
       "\" style=\"display:inline;vertical-align:middle;\" /></a></span></td></tr>\n",
       "<tr><td><a name=\"-0x53e12b54ebd38f26_step10\">10</a></td><td>assumption</td><td></td><td><span style=\"font-size:20px;\"><a class=\"ProveItLink\" href=\"../../../../../../__pv_it/common/a9162d1c3cc0470c02e5daf414500903a7a419230/expr.ipynb\"><img src=\"data:image/png;base64,iVBORw0KGgoAAAANSUhEUgAAABAAAAAOBAMAAADUAYG5AAAAMFBMVEX///8AAAAAAAAAAAAAAAAA\n",
       "AAAAAAAAAAAAAAAAAAAAAAAAAAAAAAAAAAAAAAAAAAAv3aB7AAAAD3RSTlMAZrurzTLvInZEmRDd\n",
       "VIkafcLnAAAACXBIWXMAAA7EAAAOxAGVKw4bAAAAb0lEQVQI12NgYBD6b2zsFMAABEkMDMxfgTT7\n",
       "DwYGzl9ABiOQxwjkMDB/YGBgSQcy2BQYuG1AiuM1OkwEQJr6Cxh4E0EMNSB+D5L6DMTyDQwMrB+B\n",
       "DPsJDAwc34GcL0AOSwIDwzRvoHH6n41NdBkYAF/iFeJ4bEa2AAAAAElFTkSuQmCC\n",
       "\" style=\"display:inline;vertical-align:middle;\" /></a> <a class=\"ProveItLink\" href=\"../../../__pv_it/_proof_negated_reflex/d43a9c2d2ebf0b3b961e71c77fe7ef917c06ce470/proof.ipynb\" style=\"text-decoration: none\">&nbsp;&#x22A2;&nbsp;&nbsp;</a><a class=\"ProveItLink\" href=\"../../../../../../__pv_it/common/a9162d1c3cc0470c02e5daf414500903a7a419230/expr.ipynb\"><img src=\"data:image/png;base64,iVBORw0KGgoAAAANSUhEUgAAABAAAAAOBAMAAADUAYG5AAAAMFBMVEX///8AAAAAAAAAAAAAAAAA\n",
       "AAAAAAAAAAAAAAAAAAAAAAAAAAAAAAAAAAAAAAAAAAAv3aB7AAAAD3RSTlMAZrurzTLvInZEmRDd\n",
       "VIkafcLnAAAACXBIWXMAAA7EAAAOxAGVKw4bAAAAb0lEQVQI12NgYBD6b2zsFMAABEkMDMxfgTT7\n",
       "DwYGzl9ABiOQxwjkMDB/YGBgSQcy2BQYuG1AiuM1OkwEQJr6Cxh4E0EMNSB+D5L6DMTyDQwMrB+B\n",
       "DPsJDAwc34GcL0AOSwIDwzRvoHH6n41NdBkYAF/iFeJ4bEa2AAAAAElFTkSuQmCC\n",
       "\" style=\"display:inline;vertical-align:middle;\" /></a></span></td></tr>\n",
       "</table>"
      ],
      "text/plain": [
       "\tstep type\trequirements\tstatement\n",
       "0\tgeneralization\t1\t|- forall_{A, B | [not](A => B)} (B => A)\n",
       "1\tinstantiation\t2, 3\t{[not](A => B)} |- B => A\n",
       "\tA : B, B : A\n",
       "2\ttheorem\t\t|- forall_{A, B | A != TRUE} (A => B)\n",
       "\tproveit.logic.booleans.implication.untrue_antecedent_implication\n",
       "3\tinstantiation\t4, 5\t{[not](A => B)} |- B != TRUE\n",
       "\tA : B\n",
       "4\ttheorem\t\t|- forall_{A | A => FALSE} (A != TRUE)\n",
       "\tproveit.logic.booleans.implication.not_true_via_contradiction\n",
       "5\tdeduction\t6\t{[not](A => B)} |- B => FALSE\n",
       "6\tinstantiation\t7, 8, 9\t{B, [not](A => B)} |- FALSE\n",
       "\tA : A => B\n",
       "7\ttheorem\t\t|- forall_{A | A, [not](A)} FALSE\n",
       "\tproveit.logic.booleans.negation.negation_contradiction\n",
       "8\tdeduction\t10\t{B} |- A => B\n",
       "9\tassumption\t\t{[not](A => B)} |- [not](A => B)\n",
       "10\tassumption\t\t{B} |- B"
      ]
     },
     "execution_count": 13,
     "metadata": {},
     "output_type": "execute_result"
    }
   ],
   "source": [
    "%qed"
   ]
  },
  {
   "cell_type": "code",
   "execution_count": null,
   "metadata": {},
   "outputs": [],
   "source": []
  }
 ],
 "metadata": {
  "kernelspec": {
   "display_name": "Python 3",
   "language": "python",
   "name": "python3"
  }
 },
 "nbformat": 4,
 "nbformat_minor": 0
}