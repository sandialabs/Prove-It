{
 "cells": [
  {
   "cell_type": "markdown",
   "metadata": {},
   "source": [
    "Proof of <a class=\"ProveItLink\" href=\"../../../../../../_theory_nbs_/theory.ipynb\">proveit</a>.<a class=\"ProveItLink\" href=\"../../../../../_theory_nbs_/theory.ipynb\">logic</a>.<a class=\"ProveItLink\" href=\"../../../../_theory_nbs_/theory.ipynb\">booleans</a>.<a class=\"ProveItLink\" href=\"../../theory.ipynb\">implication</a>.<a class=\"ProveItLink\" href=\"../../theorems.ipynb#contrapose_neg_consequent\">contrapose_neg_consequent</a> theorem\n",
    "========"
   ]
  },
  {
   "cell_type": "code",
   "execution_count": 1,
   "metadata": {},
   "outputs": [],
   "source": [
    "import proveit\n",
    "from proveit import defaults\n",
    "from proveit.logic import in_bool\n",
    "from proveit import B\n",
    "theory = proveit.Theory() # the theorem's theory"
   ]
  },
  {
   "cell_type": "code",
   "execution_count": 2,
   "metadata": {},
   "outputs": [
    {
     "data": {
      "text/html": [
       "With these <a href=\"allowed_presumptions.txt\">allowed</a>/<a href=\"disallowed_presumptions.txt\">disallowed</a> theorem/theory presumptions (e.g., to avoid circular dependencies), we begin our proof of<br><strong id=\"contrapose_neg_consequent\">contrapose_neg_consequent:</strong> <a class=\"ProveItLink\" href=\"../../../__pv_it/theorems/5376a65fdfbfdeea6dc73e288a1979fe591c9c150/expr.ipynb\"><img src=\"data:image/png;base64,iVBORw0KGgoAAAANSUhEUgAAAR4AAAAXBAMAAAAvnz2ZAAAAMFBMVEX///8AAAAAAAAAAAAAAAAA\n",
       "AAAAAAAAAAAAAAAAAAAAAAAAAAAAAAAAAAAAAAAAAAAv3aB7AAAAD3RSTlMAq1RmmUTNIjK7EInv\n",
       "3XZ/CtNrAAAACXBIWXMAAA7EAAAOxAGVKw4bAAADu0lEQVRIx71WW0hUQRj+9+buOUc3hYikh11I\n",
       "LMhoH0yIKBfSUCySerELZFiEF2orCARpDXwRzJXIbItyjQikC0dfRPdBE4ruLGLgy9Ip6S20otQM\n",
       "srnvnN11e2kb+OfM5Z9/vpn/+/85ANkrzkyTgTTKTshq+Zhhzu2VexcBHAaVfNzfmA04Vh3A1v+1\n",
       "YN2NNJNbTL2zSGapVOL+6WzguY+r3B4AT3vKnFpvQr6CqpwIkcvYbz3ZwLMHV0HkguP+lDm7z9Tz\n",
       "IDbZ/EQwLM2bDTwTuCpHd1Nu8CElwhq5Js2RcXyDL4nYENKcrNCHuMSDpEXEkos7otgUWsY8vpAG\n",
       "Km/i8VfZwGPXcf0CYGAmMbiTfWtMmrANu2+IShXATTIcSbInuCePbjLpCEdEUvHk4D1cP+c+NJDu\n",
       "/jgu7xmVGmTNgxDC2MuonAMniXn1OZns/B6tJvGgcPWHUnjYalmDqnHMbC1Ym09Ocy7m4YZ7EaBE\n",
       "5m4xnZ5C5yUAMT4/BDGCEipKRCObaN/ojjFwT5jwjEtsHxDAiJpDpz2ytruwFwz9/GZOWWxVQaa0\n",
       "JTnQW8hmTzl1EBD3tQoP5lWIitWgdK57Sz4WP9i+yHgcXdQrJGdWcrtMrQnEWnsVdqCu3ZXxrEH7\n",
       "2X7LmXgEkvE8Rmox1D7GpH435cIJasYLj3wyHndOPkWAoyTG7TK1YRBrZ0lDvzAm+yuEdCw/EvyJ\n",
       "s8w7JeFBLsvDHtnKZJgc0g17iUZwtnQ9yHgMez2MhsPh64gjTpFWmVoR8LUqCWWj4jVnm4KvdR4d\n",
       "IiTl4sPse4fj8YMDJxzskR1M2sj56+Az0dgF6loZj6Od0gnxoBIcPaAhaLeFGrWP1zp89H46PrGt\n",
       "NGy2BRl4lgg+cZ6hBMQ2vNciywFYLORENVEPWYd2CdZKeOzRoWVmbEPEylwn1DqBr7U1hsNXMX80\n",
       "nvuQbwtXCgoapXBQ+OVdEUODK01g7V9AgfEOqLArhyBRnkTvjRzvBjiXiL/Ct0R+tQi1IrHWpdP7\n",
       "0dzc5EyGP6K81CfWGaNCyyFEcq+qg3MZ1GnJX9gNNBFoPsFnu1CbgwdsLU2qCE83N1maIXnb0j+x\n",
       "4pm1PwH1wCnXJJT9ilZ7JTz78uHeAvFfB676mD5X64MuL10LrejI1jPNYZH9lEAGQH0pI61MTG+g\n",
       "1FaS5gi7jib9xiD/cXqoo+HelMlVy2BahMkoj2TAQ+8xkNx1RFbd81Kmf2sj+Qc2QMVUfH/DA2Om\n",
       "3nbEBPhPJf3Pvprqw39a/gCJQPtqzgGyRAAAAABJRU5ErkJggg==\n",
       "\" style=\"display:inline;vertical-align:middle;\" /></a><br>(see <a class=\"ProveItLink\" href=\"../../../__pv_it/theorems/d1c42be3ce2d851b9486a79b5ac1e401a327d5d60/dependencies.ipynb\">dependencies</a>)<br>"
      ],
      "text/plain": [
       "<IPython.core.display.HTML object>"
      ]
     },
     "metadata": {},
     "output_type": "display_data"
    }
   ],
   "source": [
    "%proving contrapose_neg_consequent"
   ]
  },
  {
   "cell_type": "code",
   "execution_count": 3,
   "metadata": {},
   "outputs": [
    {
     "data": {
      "text/html": [
       "<strong id=\"defaults.assumptions\">defaults.assumptions:</strong> <a class=\"ProveItLink\" href=\"../../../__pv_it/_proof_contrapose_neg_consequent/f1cb2a6b4cd94fb28c6f20069193a7f509d5287c0/expr.ipynb\"><img src=\"data:image/png;base64,iVBORw0KGgoAAAANSUhEUgAAAMUAAAAVBAMAAAAEKDfsAAAAMFBMVEX///8AAAAAAAAAAAAAAAAA\n",
       "AAAAAAAAAAAAAAAAAAAAAAAAAAAAAAAAAAAAAAAAAAAv3aB7AAAAD3RSTlMAInZUiRDNmWbv3US7\n",
       "qzJazP2FAAAACXBIWXMAAA7EAAAOxAGVKw4bAAACiklEQVRIx5WVTWgTQRTHXzZfm2xS9xTUi7Ho\n",
       "xUuDtL263i0GD54qxo9CBcEcCnrszYMF601awUAwYvFQ/Dh4WyMqitgcpAc1JOciNPWQeqnx7Xzt\n",
       "251NggPLzL73fvOfN292FgBsGN7ssYZxjQFGiY0LUQHCR9oL+hJijGcf+ms/ooBpPr4VpTHtD1cG\n",
       "7fbNLhjLxB1mclaxcGlTB5IVZokPIiSEj7dHAPm/AAu+RWNy1nLCdnUgzReW7kTsdJosOvYbwNoH\n",
       "uEvcYQY1zFJLBzLccvZ81499L/oM4U1ckolYpqxMijE+bzSURkUHZrlocYqU95foZ4lGvgeQeoCP\n",
       "yk0x1tWyyiN/2NGBJZ42nCH7Yoq4JaKRcSH5HdedaKmtkkyhrPbq5KlvEcAiM7yEXTZveoO1fR62\n",
       "SDR2m5Pb3pSmOgeSgSt+PRqPn5Z1oM4MVTjWIhPGr7GuLkWrAFM2xB96rlUZpJgKqblxTx48Aqyz\n",
       "on283XHpCbnIzOty53GuT9h7NZ7oyS9OMhNruIrnQgPcV8JPADbPBYBDNSIRu26HNQ6wv1/EAss8\n",
       "FJN0SR7g5sQLAeo8bciukno0bLlXUmPiD/Yd/IbjNbVVgoFaQCPFxxRoeocPa5Pq+WlYYmVNqVEF\n",
       "Yw+xvldCPC4QZCYDGqe5nwJz2B3x/Hv6XTfnm1K45DdeOdMOXK4EmVRJaTiJE1Xup8AOwPxgAeJb\n",
       "fUdN+FX0O/4XuHXQ3n7njbKbkH0SZJI/X/NTcOMLu3c9fxDoDv9rRPmO4jMTslnn+F0i20wIMKvD\n",
       "/y9Rvjv4OGP+S04YeDsiWPfF8Dgki6MlAn4PgPkR0bovh/tojEnDCAN4fQ6P1n3H//d/jsA/ytrR\n",
       "NxPrUDEAAAAASUVORK5CYII=\n",
       "\" style=\"display:inline;vertical-align:middle;\" /></a><br>"
      ],
      "text/plain": [
       "<IPython.core.display.HTML object>"
      ]
     },
     "metadata": {},
     "output_type": "display_data"
    }
   ],
   "source": [
    "defaults.assumptions = list(contrapose_neg_consequent.all_conditions()) + [B]"
   ]
  },
  {
   "cell_type": "code",
   "execution_count": 4,
   "metadata": {},
   "outputs": [
    {
     "data": {
      "text/html": [
       "<strong id=\"A_implies_not_b\">A_implies_not_b:</strong> <a class=\"ProveItLink\" href=\"../../../__pv_it/theorems/01eb059828094c1f42d246d650e4be0cdc97bc320/expr.ipynb\"><img src=\"data:image/png;base64,iVBORw0KGgoAAAANSUhEUgAAAF0AAAAVBAMAAADWVP/xAAAAMFBMVEX///8AAAAAAAAAAAAAAAAA\n",
       "AAAAAAAAAAAAAAAAAAAAAAAAAAAAAAAAAAAAAAAAAAAv3aB7AAAAD3RSTlMAIs1UmauJMnZmRLsQ\n",
       "3e++988cAAAACXBIWXMAAA7EAAAOxAGVKw4bAAABfElEQVQoz2NgwA0EcAoIYVPOYYAusgLG0Mem\n",
       "3gzBnP0/NFS7gIFjAoTL/B+Lch4FJM5rBgbW7wwMOhAeS7wApnqWCQg24w8GBq4vDAxTINzE/AKE\n",
       "3B4ozYeklxNoNidQD98BsO6GfiSvVUNpIyT1rB8YGJgeAjHYThYGeyS7ORMgtBuSer4NDDyxQDew\n",
       "BYB4ixnqwWpY7oLBF4gaTST19Ts6gkBGcoLDwIFBPgBJklkZTF2GGeDAwNAvwMD8EiT1ABQvW1zi\n",
       "NyCHzKFXIPIVLGyAZu0D0qAwYQf6g+EEAwP/BSTljGoC6Oq/Aun5DcAwfQB2DgPvAyT3XxKAuQem\n",
       "nv0nkI5fAHQP0FwuoEeYPiCM54K6bQdMvQMDx0egUz6B/AuUkwPS3B8R6mFpLxUhxAS0fh0oLbAk\n",
       "MJz+r8PAvP9TAlxyO5SuRcTW/q+hQZtBLN4FuFM9bwGmnCye3MLpgCnmiUc9w0YMEcYN+NSfxhDh\n",
       "FsCnnrEBXaSRgQEAkdpbniUMntMAAAAASUVORK5CYII=\n",
       "\" style=\"display:inline;vertical-align:middle;\" /></a><br>"
      ],
      "text/plain": [
       "<IPython.core.display.HTML object>"
      ]
     },
     "metadata": {},
     "output_type": "display_data"
    }
   ],
   "source": [
    "A_implies_not_b = defaults.assumptions[0]"
   ]
  },
  {
   "cell_type": "code",
   "execution_count": 5,
   "metadata": {},
   "outputs": [
    {
     "data": {
      "text/html": [
       "<span style=\"font-size:20px;\"><a class=\"ProveItLink\" href=\"../../../../__pv_it/theorems/a10dbfd9a4efbb6f30af430036ab01697a9460f80/expr.ipynb\"><img src=\"data:image/png;base64,iVBORw0KGgoAAAANSUhEUgAAADYAAAAQBAMAAACvnpHFAAAAMFBMVEX///8AAAAAAAAAAAAAAAAA\n",
       "AAAAAAAAAAAAAAAAAAAAAAAAAAAAAAAAAAAAAAAAAAAv3aB7AAAAD3RSTlMAIs1UmauJMnZmRLsQ\n",
       "3e++988cAAAACXBIWXMAAA7EAAAOxAGVKw4bAAAA40lEQVQY02NgAAEhBhTAcW/Tp7dRUI4+qhwD\n",
       "N1eD0NEFYCbzfwy5CWwCG8BMlngBDDlOgwAwMzG/AGrR3ruX4HIKIBZjQ78BWIpL4wBcH6tkAthI\n",
       "BvsJEOcegJvZ0xsGZi1mqAerYVBE2Hfp/RWwQgcGeYi9Ckhu4ZilA3LAFpd4sHvZ3969e/c2VI5h\n",
       "wzIg4wQDA/8FkAjPBiR9DBu4wUYy8D4AC11AkWMCOhzoRqYPYKEOFDkLBgY5EPsjWIjJAC6XwNbm\n",
       "wHD6vw4D8/5PYE/wRK+BBI/ebkQ8wABXNiTMIAAAYXA8zHUEOxUAAAAASUVORK5CYII=\n",
       "\" style=\"display:inline;vertical-align:middle;\" /></a>, <a class=\"ProveItLink\" href=\"../../../__pv_it/theorems/01eb059828094c1f42d246d650e4be0cdc97bc320/expr.ipynb\"><img src=\"data:image/png;base64,iVBORw0KGgoAAAANSUhEUgAAAF0AAAAVBAMAAADWVP/xAAAAMFBMVEX///8AAAAAAAAAAAAAAAAA\n",
       "AAAAAAAAAAAAAAAAAAAAAAAAAAAAAAAAAAAAAAAAAAAv3aB7AAAAD3RSTlMAIs1UmauJMnZmRLsQ\n",
       "3e++988cAAAACXBIWXMAAA7EAAAOxAGVKw4bAAABfElEQVQoz2NgwA0EcAoIYVPOYYAusgLG0Mem\n",
       "3gzBnP0/NFS7gIFjAoTL/B+Lch4FJM5rBgbW7wwMOhAeS7wApnqWCQg24w8GBq4vDAxTINzE/AKE\n",
       "3B4ozYeklxNoNidQD98BsO6GfiSvVUNpIyT1rB8YGJgeAjHYThYGeyS7ORMgtBuSer4NDDyxQDew\n",
       "BYB4ixnqwWpY7oLBF4gaTST19Ts6gkBGcoLDwIFBPgBJklkZTF2GGeDAwNAvwMD8EiT1ABQvW1zi\n",
       "NyCHzKFXIPIVLGyAZu0D0qAwYQf6g+EEAwP/BSTljGoC6Oq/Aun5DcAwfQB2DgPvAyT3XxKAuQem\n",
       "nv0nkI5fAHQP0FwuoEeYPiCM54K6bQdMvQMDx0egUz6B/AuUkwPS3B8R6mFpLxUhxAS0fh0oLbAk\n",
       "MJz+r8PAvP9TAlxyO5SuRcTW/q+hQZtBLN4FuFM9bwGmnCye3MLpgCnmiUc9w0YMEcYN+NSfxhDh\n",
       "FsCnnrEBXaSRgQEAkdpbniUMntMAAAAASUVORK5CYII=\n",
       "\" style=\"display:inline;vertical-align:middle;\" /></a> <a class=\"ProveItLink\" href=\"../../../__pv_it/_proof_contrapose_neg_consequent/e55b4aa84dcfe77229dffd328c9f2cc5f8595b500/proof.ipynb\" style=\"text-decoration: none\">&nbsp;&#x22A2;&nbsp;&nbsp;</a><a class=\"ProveItLink\" href=\"../../../__pv_it/theorems/35edda227e3fa6c42f3673fe4cedcc2f5b46a83b0/expr.ipynb\"><img src=\"data:image/png;base64,iVBORw0KGgoAAAANSUhEUgAAAF0AAAAVBAMAAADWVP/xAAAAMFBMVEX///8AAAAAAAAAAAAAAAAA\n",
       "AAAAAAAAAAAAAAAAAAAAAAAAAAAAAAAAAAAAAAAAAAAv3aB7AAAAD3RSTlMAZrurzTLvInZEmRDd\n",
       "VIkafcLnAAAACXBIWXMAAA7EAAAOxAGVKw4bAAABdklEQVQoz2NgwA3Y0QUKGPCCXhTNDgwMM8As\n",
       "of/Gxk4BmMp5HyDzWD4wMHAIgJlJDAzMXzHVb0Hh3QeqZ/AG2/SDgYHzF6b6hSi8xd+BhBSIxQg0\n",
       "m/EHXIJpA5SRgKycrw7kAjaQHDPQJpZ0uAyrAtT5DsjqKzj+gjwB8gCbAgO3DZJ/5SAUF4p3F/B+\n",
       "BNliACTiNTpMIB5fcwYEzi+ABIgAknLOC6z/QE4H2dlfwMCbiGzWlQsgkucC1IBTIMsY2D+D3Ajy\n",
       "kxoQv0cOf263CSBnToByi4G4adXiTyC/gQIVpFG+AUl9yXMGNPXcQOk/IGcBzWcFecR+AsL9Z9wZ\n",
       "YO6BqecCUsdA7jkAjGRgRLB+QTJ+EjQeYFZWMTBMBFL+IP8Cw5oFaMc0b9SExQALO6gQyJv6BeAw\n",
       "Ztb/bGyii2Q8E9TrrAfg/tf/soHh0n8/oBsn4En1RzHlavAlfylCSRANMGFkJ3YFfOq5FQibgAIq\n",
       "0AXaGRgAkd5Zd9xZ2U8AAAAASUVORK5CYII=\n",
       "\" style=\"display:inline;vertical-align:middle;\" /></a></span>"
      ],
      "text/plain": [
       "{A in BOOLEAN, A => [not](B)} |- B => [not](A)"
      ]
     },
     "metadata": {},
     "output_type": "display_data"
    },
    {
     "name": "stdout",
     "output_type": "stream",
     "text": [
      "contrapose_neg_consequent may now be readily provable (assuming required theorems are usable).  Simply execute \"%qed\".\n"
     ]
    }
   ],
   "source": [
    "A_implies_not_b.deny_antecedent().as_implication(B)"
   ]
  },
  {
   "cell_type": "code",
   "execution_count": 6,
   "metadata": {},
   "outputs": [
    {
     "name": "stdout",
     "output_type": "stream",
     "text": [
      "proveit.logic.booleans.implication.contrapose_neg_consequent has been proven.\n"
     ]
    },
    {
     "data": {
      "text/html": [
       "<table><tr><th>&nbsp;</th><th>step type</th><th>requirements</th><th>statement</th></tr>\n",
       "<tr><td><a name=\"-0x411252f6f8d27db_step0\">0</a></td><td>generalization</td><td><a href=\"#-0x411252f6f8d27db_step1\">1</a></td><td><span style=\"font-size:20px;\"> <a class=\"ProveItLink\" href=\"../../../__pv_it/_proof_contrapose_neg_consequent/0fbeaee77298ae15af837f2ba7f34a2998e549950/proof.ipynb\" style=\"text-decoration: none\">&nbsp;&#x22A2;&nbsp;&nbsp;</a><a class=\"ProveItLink\" href=\"../../../__pv_it/theorems/5376a65fdfbfdeea6dc73e288a1979fe591c9c150/expr.ipynb\"><img src=\"data:image/png;base64,iVBORw0KGgoAAAANSUhEUgAAAR4AAAAXBAMAAAAvnz2ZAAAAMFBMVEX///8AAAAAAAAAAAAAAAAA\n",
       "AAAAAAAAAAAAAAAAAAAAAAAAAAAAAAAAAAAAAAAAAAAv3aB7AAAAD3RSTlMAq1RmmUTNIjK7EInv\n",
       "3XZ/CtNrAAAACXBIWXMAAA7EAAAOxAGVKw4bAAADu0lEQVRIx71WW0hUQRj+9+buOUc3hYikh11I\n",
       "LMhoH0yIKBfSUCySerELZFiEF2orCARpDXwRzJXIbItyjQikC0dfRPdBE4ruLGLgy9Ip6S20otQM\n",
       "srnvnN11e2kb+OfM5Z9/vpn/+/85ANkrzkyTgTTKTshq+Zhhzu2VexcBHAaVfNzfmA04Vh3A1v+1\n",
       "YN2NNJNbTL2zSGapVOL+6WzguY+r3B4AT3vKnFpvQr6CqpwIkcvYbz3ZwLMHV0HkguP+lDm7z9Tz\n",
       "IDbZ/EQwLM2bDTwTuCpHd1Nu8CElwhq5Js2RcXyDL4nYENKcrNCHuMSDpEXEkos7otgUWsY8vpAG\n",
       "Km/i8VfZwGPXcf0CYGAmMbiTfWtMmrANu2+IShXATTIcSbInuCePbjLpCEdEUvHk4D1cP+c+NJDu\n",
       "/jgu7xmVGmTNgxDC2MuonAMniXn1OZns/B6tJvGgcPWHUnjYalmDqnHMbC1Ym09Ocy7m4YZ7EaBE\n",
       "5m4xnZ5C5yUAMT4/BDGCEipKRCObaN/ojjFwT5jwjEtsHxDAiJpDpz2ytruwFwz9/GZOWWxVQaa0\n",
       "JTnQW8hmTzl1EBD3tQoP5lWIitWgdK57Sz4WP9i+yHgcXdQrJGdWcrtMrQnEWnsVdqCu3ZXxrEH7\n",
       "2X7LmXgEkvE8Rmox1D7GpH435cIJasYLj3wyHndOPkWAoyTG7TK1YRBrZ0lDvzAm+yuEdCw/EvyJ\n",
       "s8w7JeFBLsvDHtnKZJgc0g17iUZwtnQ9yHgMez2MhsPh64gjTpFWmVoR8LUqCWWj4jVnm4KvdR4d\n",
       "IiTl4sPse4fj8YMDJxzskR1M2sj56+Az0dgF6loZj6Od0gnxoBIcPaAhaLeFGrWP1zp89H46PrGt\n",
       "NGy2BRl4lgg+cZ6hBMQ2vNciywFYLORENVEPWYd2CdZKeOzRoWVmbEPEylwn1DqBr7U1hsNXMX80\n",
       "nvuQbwtXCgoapXBQ+OVdEUODK01g7V9AgfEOqLArhyBRnkTvjRzvBjiXiL/Ct0R+tQi1IrHWpdP7\n",
       "0dzc5EyGP6K81CfWGaNCyyFEcq+qg3MZ1GnJX9gNNBFoPsFnu1CbgwdsLU2qCE83N1maIXnb0j+x\n",
       "4pm1PwH1wCnXJJT9ilZ7JTz78uHeAvFfB676mD5X64MuL10LrejI1jPNYZH9lEAGQH0pI61MTG+g\n",
       "1FaS5gi7jib9xiD/cXqoo+HelMlVy2BahMkoj2TAQ+8xkNx1RFbd81Kmf2sj+Qc2QMVUfH/DA2Om\n",
       "3nbEBPhPJf3Pvprqw39a/gCJQPtqzgGyRAAAAABJRU5ErkJggg==\n",
       "\" style=\"display:inline;vertical-align:middle;\" /></a></span></td></tr>\n",
       "<tr><td><a name=\"-0x411252f6f8d27db_step1\">1</a></td><td>deduction</td><td><a href=\"#-0x411252f6f8d27db_step2\">2</a></td><td><span style=\"font-size:20px;\"><a class=\"ProveItLink\" href=\"../../../../__pv_it/theorems/a10dbfd9a4efbb6f30af430036ab01697a9460f80/expr.ipynb\"><img src=\"data:image/png;base64,iVBORw0KGgoAAAANSUhEUgAAADYAAAAQBAMAAACvnpHFAAAAMFBMVEX///8AAAAAAAAAAAAAAAAA\n",
       "AAAAAAAAAAAAAAAAAAAAAAAAAAAAAAAAAAAAAAAAAAAv3aB7AAAAD3RSTlMAIs1UmauJMnZmRLsQ\n",
       "3e++988cAAAACXBIWXMAAA7EAAAOxAGVKw4bAAAA40lEQVQY02NgAAEhBhTAcW/Tp7dRUI4+qhwD\n",
       "N1eD0NEFYCbzfwy5CWwCG8BMlngBDDlOgwAwMzG/AGrR3ruX4HIKIBZjQ78BWIpL4wBcH6tkAthI\n",
       "BvsJEOcegJvZ0xsGZi1mqAerYVBE2Hfp/RWwQgcGeYi9Ckhu4ZilA3LAFpd4sHvZ3969e/c2VI5h\n",
       "wzIg4wQDA/8FkAjPBiR9DBu4wUYy8D4AC11AkWMCOhzoRqYPYKEOFDkLBgY5EPsjWIjJAC6XwNbm\n",
       "wHD6vw4D8/5PYE/wRK+BBI/ebkQ8wABXNiTMIAAAYXA8zHUEOxUAAAAASUVORK5CYII=\n",
       "\" style=\"display:inline;vertical-align:middle;\" /></a>, <a class=\"ProveItLink\" href=\"../../../__pv_it/theorems/01eb059828094c1f42d246d650e4be0cdc97bc320/expr.ipynb\"><img src=\"data:image/png;base64,iVBORw0KGgoAAAANSUhEUgAAAF0AAAAVBAMAAADWVP/xAAAAMFBMVEX///8AAAAAAAAAAAAAAAAA\n",
       "AAAAAAAAAAAAAAAAAAAAAAAAAAAAAAAAAAAAAAAAAAAv3aB7AAAAD3RSTlMAIs1UmauJMnZmRLsQ\n",
       "3e++988cAAAACXBIWXMAAA7EAAAOxAGVKw4bAAABfElEQVQoz2NgwA0EcAoIYVPOYYAusgLG0Mem\n",
       "3gzBnP0/NFS7gIFjAoTL/B+Lch4FJM5rBgbW7wwMOhAeS7wApnqWCQg24w8GBq4vDAxTINzE/AKE\n",
       "3B4ozYeklxNoNidQD98BsO6GfiSvVUNpIyT1rB8YGJgeAjHYThYGeyS7ORMgtBuSer4NDDyxQDew\n",
       "BYB4ixnqwWpY7oLBF4gaTST19Ts6gkBGcoLDwIFBPgBJklkZTF2GGeDAwNAvwMD8EiT1ABQvW1zi\n",
       "NyCHzKFXIPIVLGyAZu0D0qAwYQf6g+EEAwP/BSTljGoC6Oq/Aun5DcAwfQB2DgPvAyT3XxKAuQem\n",
       "nv0nkI5fAHQP0FwuoEeYPiCM54K6bQdMvQMDx0egUz6B/AuUkwPS3B8R6mFpLxUhxAS0fh0oLbAk\n",
       "MJz+r8PAvP9TAlxyO5SuRcTW/q+hQZtBLN4FuFM9bwGmnCye3MLpgCnmiUc9w0YMEcYN+NSfxhDh\n",
       "FsCnnrEBXaSRgQEAkdpbniUMntMAAAAASUVORK5CYII=\n",
       "\" style=\"display:inline;vertical-align:middle;\" /></a> <a class=\"ProveItLink\" href=\"../../../__pv_it/_proof_contrapose_neg_consequent/e55b4aa84dcfe77229dffd328c9f2cc5f8595b500/proof.ipynb\" style=\"text-decoration: none\">&nbsp;&#x22A2;&nbsp;&nbsp;</a><a class=\"ProveItLink\" href=\"../../../__pv_it/theorems/35edda227e3fa6c42f3673fe4cedcc2f5b46a83b0/expr.ipynb\"><img src=\"data:image/png;base64,iVBORw0KGgoAAAANSUhEUgAAAF0AAAAVBAMAAADWVP/xAAAAMFBMVEX///8AAAAAAAAAAAAAAAAA\n",
       "AAAAAAAAAAAAAAAAAAAAAAAAAAAAAAAAAAAAAAAAAAAv3aB7AAAAD3RSTlMAZrurzTLvInZEmRDd\n",
       "VIkafcLnAAAACXBIWXMAAA7EAAAOxAGVKw4bAAABdklEQVQoz2NgwA3Y0QUKGPCCXhTNDgwMM8As\n",
       "of/Gxk4BmMp5HyDzWD4wMHAIgJlJDAzMXzHVb0Hh3QeqZ/AG2/SDgYHzF6b6hSi8xd+BhBSIxQg0\n",
       "m/EHXIJpA5SRgKycrw7kAjaQHDPQJpZ0uAyrAtT5DsjqKzj+gjwB8gCbAgO3DZJ/5SAUF4p3F/B+\n",
       "BNliACTiNTpMIB5fcwYEzi+ABIgAknLOC6z/QE4H2dlfwMCbiGzWlQsgkucC1IBTIMsY2D+D3Ajy\n",
       "kxoQv0cOf263CSBnToByi4G4adXiTyC/gQIVpFG+AUl9yXMGNPXcQOk/IGcBzWcFecR+AsL9Z9wZ\n",
       "YO6BqecCUsdA7jkAjGRgRLB+QTJ+EjQeYFZWMTBMBFL+IP8Cw5oFaMc0b9SExQALO6gQyJv6BeAw\n",
       "Ztb/bGyii2Q8E9TrrAfg/tf/soHh0n8/oBsn4En1RzHlavAlfylCSRANMGFkJ3YFfOq5FQibgAIq\n",
       "0AXaGRgAkd5Zd9xZ2U8AAAAASUVORK5CYII=\n",
       "\" style=\"display:inline;vertical-align:middle;\" /></a></span></td></tr>\n",
       "<tr><td><a name=\"-0x411252f6f8d27db_step2\">2</a></td><td>instantiation</td><td><a href=\"#-0x411252f6f8d27db_step3\">3</a>, <a href=\"#-0x411252f6f8d27db_step4\">4</a>, <a href=\"#-0x411252f6f8d27db_step5\">5</a>, <a href=\"#-0x411252f6f8d27db_step6\">6</a></td><td><span style=\"font-size:20px;\"><a class=\"ProveItLink\" href=\"../../../../__pv_it/theorems/a10dbfd9a4efbb6f30af430036ab01697a9460f80/expr.ipynb\"><img src=\"data:image/png;base64,iVBORw0KGgoAAAANSUhEUgAAADYAAAAQBAMAAACvnpHFAAAAMFBMVEX///8AAAAAAAAAAAAAAAAA\n",
       "AAAAAAAAAAAAAAAAAAAAAAAAAAAAAAAAAAAAAAAAAAAv3aB7AAAAD3RSTlMAIs1UmauJMnZmRLsQ\n",
       "3e++988cAAAACXBIWXMAAA7EAAAOxAGVKw4bAAAA40lEQVQY02NgAAEhBhTAcW/Tp7dRUI4+qhwD\n",
       "N1eD0NEFYCbzfwy5CWwCG8BMlngBDDlOgwAwMzG/AGrR3ruX4HIKIBZjQ78BWIpL4wBcH6tkAthI\n",
       "BvsJEOcegJvZ0xsGZi1mqAerYVBE2Hfp/RWwQgcGeYi9Ckhu4ZilA3LAFpd4sHvZ3969e/c2VI5h\n",
       "wzIg4wQDA/8FkAjPBiR9DBu4wUYy8D4AC11AkWMCOhzoRqYPYKEOFDkLBgY5EPsjWIjJAC6XwNbm\n",
       "wHD6vw4D8/5PYE/wRK+BBI/ebkQ8wABXNiTMIAAAYXA8zHUEOxUAAAAASUVORK5CYII=\n",
       "\" style=\"display:inline;vertical-align:middle;\" /></a>, <a class=\"ProveItLink\" href=\"../../../__pv_it/theorems/01eb059828094c1f42d246d650e4be0cdc97bc320/expr.ipynb\"><img src=\"data:image/png;base64,iVBORw0KGgoAAAANSUhEUgAAAF0AAAAVBAMAAADWVP/xAAAAMFBMVEX///8AAAAAAAAAAAAAAAAA\n",
       "AAAAAAAAAAAAAAAAAAAAAAAAAAAAAAAAAAAAAAAAAAAv3aB7AAAAD3RSTlMAIs1UmauJMnZmRLsQ\n",
       "3e++988cAAAACXBIWXMAAA7EAAAOxAGVKw4bAAABfElEQVQoz2NgwA0EcAoIYVPOYYAusgLG0Mem\n",
       "3gzBnP0/NFS7gIFjAoTL/B+Lch4FJM5rBgbW7wwMOhAeS7wApnqWCQg24w8GBq4vDAxTINzE/AKE\n",
       "3B4ozYeklxNoNidQD98BsO6GfiSvVUNpIyT1rB8YGJgeAjHYThYGeyS7ORMgtBuSer4NDDyxQDew\n",
       "BYB4ixnqwWpY7oLBF4gaTST19Ts6gkBGcoLDwIFBPgBJklkZTF2GGeDAwNAvwMD8EiT1ABQvW1zi\n",
       "NyCHzKFXIPIVLGyAZu0D0qAwYQf6g+EEAwP/BSTljGoC6Oq/Aun5DcAwfQB2DgPvAyT3XxKAuQem\n",
       "nv0nkI5fAHQP0FwuoEeYPiCM54K6bQdMvQMDx0egUz6B/AuUkwPS3B8R6mFpLxUhxAS0fh0oLbAk\n",
       "MJz+r8PAvP9TAlxyO5SuRcTW/q+hQZtBLN4FuFM9bwGmnCye3MLpgCnmiUc9w0YMEcYN+NSfxhDh\n",
       "FsCnnrEBXaSRgQEAkdpbniUMntMAAAAASUVORK5CYII=\n",
       "\" style=\"display:inline;vertical-align:middle;\" /></a>, <a class=\"ProveItLink\" href=\"../../../../../../__pv_it/common/a9162d1c3cc0470c02e5daf414500903a7a419230/expr.ipynb\"><img src=\"data:image/png;base64,iVBORw0KGgoAAAANSUhEUgAAABAAAAAOBAMAAADUAYG5AAAAMFBMVEX///8AAAAAAAAAAAAAAAAA\n",
       "AAAAAAAAAAAAAAAAAAAAAAAAAAAAAAAAAAAAAAAAAAAv3aB7AAAAD3RSTlMAZrurzTLvInZEmRDd\n",
       "VIkafcLnAAAACXBIWXMAAA7EAAAOxAGVKw4bAAAAb0lEQVQI12NgYBD6b2zsFMAABEkMDMxfgTT7\n",
       "DwYGzl9ABiOQxwjkMDB/YGBgSQcy2BQYuG1AiuM1OkwEQJr6Cxh4E0EMNSB+D5L6DMTyDQwMrB+B\n",
       "DPsJDAwc34GcL0AOSwIDwzRvoHH6n41NdBkYAF/iFeJ4bEa2AAAAAElFTkSuQmCC\n",
       "\" style=\"display:inline;vertical-align:middle;\" /></a> <a class=\"ProveItLink\" href=\"../../../__pv_it/_proof_contrapose_neg_consequent/2d1a6ca1fe590956b991b32560d3c992e1e1e2650/proof.ipynb\" style=\"text-decoration: none\">&nbsp;&#x22A2;&nbsp;&nbsp;</a><a class=\"ProveItLink\" href=\"../../../../__pv_it/theorems/c6244e76de3be0816f3efc36199d65e50f6589940/expr.ipynb\"><img src=\"data:image/png;base64,iVBORw0KGgoAAAANSUhEUgAAABwAAAAPBAMAAAAFYbKSAAAAMFBMVEX///8AAAAAAAAAAAAAAAAA\n",
       "AAAAAAAAAAAAAAAAAAAAAAAAAAAAAAAAAAAAAAAAAAAv3aB7AAAAD3RSTlMAmd0iq81UiTJ2ZkS7\n",
       "EO8Z3gX6AAAACXBIWXMAAA7EAAAOxAGVKw4bAAAAaUlEQVQI12NgQADmAAZkwPoBhZuPyhX5jMxj\n",
       "N/+BzLXk/IbMFWD7hcTjTuD4zsAgpAQEikAuIwPzF6iMCRDPERT5g+DyTmBg+ITgMgIpPSjXkIFh\n",
       "F5CKRzj/AZA4bwDl8Z7/eoEh5384AEaRFfDwb8v9AAAAAElFTkSuQmCC\n",
       "\" style=\"display:inline;vertical-align:middle;\" /></a></span></td></tr>\n",
       "<tr><td>&nbsp;</td><td colspan=4 style=\"text-align:left\"><span style=\"font-size:20px;\"><a class=\"ProveItLink\" href=\"../../../../../../__pv_it/common/09585084922504426caf1db2ff588a23a0932a960/expr.ipynb\"><img src=\"data:image/png;base64,iVBORw0KGgoAAAANSUhEUgAAAA8AAAAPBAMAAADJ+Ih5AAAAMFBMVEX///8AAAAAAAAAAAAAAAAA\n",
       "AAAAAAAAAAAAAAAAAAAAAAAAAAAAAAAAAAAAAAAAAAAv3aB7AAAAD3RSTlMAIs1UmauJMnZmRLsQ\n",
       "3e++988cAAAACXBIWXMAAA7EAAAOxAGVKw4bAAAAXklEQVQI12NgAAEhBijQh9LM/6EMlngBCCMx\n",
       "vwBMMzb0G0BkGOwngBmLGeoTwAwHBvkAEM2xxSV+A4hxgoGB/wJEhoH3AZDmAupg+gBkyAEx90cG\n",
       "htP/dRiY939KAABt3hLO6mcEjQAAAABJRU5ErkJggg==\n",
       "\" style=\"display:inline;vertical-align:middle;\" /></a> : <a class=\"ProveItLink\" href=\"../../../../../../__pv_it/common/09585084922504426caf1db2ff588a23a0932a960/expr.ipynb\"><img src=\"data:image/png;base64,iVBORw0KGgoAAAANSUhEUgAAAA8AAAAPBAMAAADJ+Ih5AAAAMFBMVEX///8AAAAAAAAAAAAAAAAA\n",
       "AAAAAAAAAAAAAAAAAAAAAAAAAAAAAAAAAAAAAAAAAAAv3aB7AAAAD3RSTlMAIs1UmauJMnZmRLsQ\n",
       "3e++988cAAAACXBIWXMAAA7EAAAOxAGVKw4bAAAAXklEQVQI12NgAAEhBijQh9LM/6EMlngBCCMx\n",
       "vwBMMzb0G0BkGOwngBmLGeoTwAwHBvkAEM2xxSV+A4hxgoGB/wJEhoH3AZDmAupg+gBkyAEx90cG\n",
       "htP/dRiY939KAABt3hLO6mcEjQAAAABJRU5ErkJggg==\n",
       "\" style=\"display:inline;vertical-align:middle;\" /></a>, <a class=\"ProveItLink\" href=\"../../../../../../__pv_it/common/a9162d1c3cc0470c02e5daf414500903a7a419230/expr.ipynb\"><img src=\"data:image/png;base64,iVBORw0KGgoAAAANSUhEUgAAABAAAAAOBAMAAADUAYG5AAAAMFBMVEX///8AAAAAAAAAAAAAAAAA\n",
       "AAAAAAAAAAAAAAAAAAAAAAAAAAAAAAAAAAAAAAAAAAAv3aB7AAAAD3RSTlMAZrurzTLvInZEmRDd\n",
       "VIkafcLnAAAACXBIWXMAAA7EAAAOxAGVKw4bAAAAb0lEQVQI12NgYBD6b2zsFMAABEkMDMxfgTT7\n",
       "DwYGzl9ABiOQxwjkMDB/YGBgSQcy2BQYuG1AiuM1OkwEQJr6Cxh4E0EMNSB+D5L6DMTyDQwMrB+B\n",
       "DPsJDAwc34GcL0AOSwIDwzRvoHH6n41NdBkYAF/iFeJ4bEa2AAAAAElFTkSuQmCC\n",
       "\" style=\"display:inline;vertical-align:middle;\" /></a> : <a class=\"ProveItLink\" href=\"../../../__pv_it/theorems/8552c6321b312c5e15a5015adce4a756ce05da420/expr.ipynb\"><img src=\"data:image/png;base64,iVBORw0KGgoAAAANSUhEUgAAAB0AAAAOBAMAAAAh/woJAAAAMFBMVEX///8AAAAAAAAAAAAAAAAA\n",
       "AAAAAAAAAAAAAAAAAAAAAAAAAAAAAAAAAAAAAAAAAAAv3aB7AAAAD3RSTlMAmd0iq2a7zTLvdkQQ\n",
       "VIm/XloVAAAACXBIWXMAAA7EAAAOxAGVKw4bAAAAgUlEQVQI12NggALW/C8u7hkMCMCZwMDg34Dg\n",
       "2y9gYNgvgODHA+XiFyD4/kBcaYDgT2NgOKKB4HJ8W7WkFEgLKQGBIgMD12cGhpsBUEkTBga2CQwM\n",
       "fD8QfH4HoJt+Ifj9QLUsv6F8QwaG9UCr+gsQ5lcyMHBPPwDnuv13cSm7wMAAAOyYG523RGm6AAAA\n",
       "AElFTkSuQmCC\n",
       "\" style=\"display:inline;vertical-align:middle;\" /></a></span></td></tr><tr><td><a name=\"-0x411252f6f8d27db_step3\">3</a></td><td>conjecture</td><td></td><td><span style=\"font-size:20px;\"> <a class=\"ProveItLink\" href=\"../modus_tollens_denial/thm_proof.ipynb\" style=\"text-decoration: none\">&nbsp;&#x22A2;&nbsp;&nbsp;</a><a class=\"ProveItLink\" href=\"../../../__pv_it/theorems/6e585db1db364b78f6e359174ec389300c03caad0/expr.ipynb\"><img src=\"data:image/png;base64,iVBORw0KGgoAAAANSUhEUgAAAO8AAAAZBAMAAAArlWSOAAAAMFBMVEX///8AAAAAAAAAAAAAAAAA\n",
       "AAAAAAAAAAAAAAAAAAAAAAAAAAAAAAAAAAAAAAAAAAAv3aB7AAAAD3RSTlMAq1RmmUTNIjK7EInv\n",
       "3XZ/CtNrAAAACXBIWXMAAA7EAAAOxAGVKw4bAAADK0lEQVRIx72WXUgUURSAj/s364xuPgjZQ+xC\n",
       "IEF/C4bQQzWBRbIPLfUiEWRYRGulWxAsCLtBLz2kIomtD7n15oOxmhG6D6UQRH8sZW8ODEhvSRH9\n",
       "UZCdc+/MeMfZH9ncDszMvXPOzHfvOeeeewFKylatF6ogy1qojEUnVEfc4eqD17pM+k/ggM2p1wC8\n",
       "Ogc3UH9bcXANPVzhisE7bL0evJY4+DD1zxcHe6L48FWcYrLNZ64V+lmGga+T2weLg/3kkkTFE/bY\n",
       "fOUJ4gzcKgMTXwmViHEMH1MVg+tsvcdPUnh/wcCUX75SydXyTznWbEto/RNNsYtn9WtNe1kKXKdp\n",
       "i9mKwRGbp2EPeX6Sg48CjLLXmcJgTwpqRZVqNjLrAXeJneMwQFNo5eA4SGxJyc+NzOs+uxASwKiN\n",
       "Y+vm11w7BQjMRDTtmVhaJv6xyPQd3nyLI9dIVDbmJKF2cnBtRqEVA8oXvPVvGQY9e2W7WEBG4RGt\n",
       "vDwEnopgZm+VQFPLZT/AR956ZoYXiYHbbUH6eoCDXTrPrY43ODj0O4KV+yJ4N7vXqOD+LILJ3qot\n",
       "lpZLI8BBJ/gBwKY8tk8ZJbPzAFPpZ3hRQfDVWRHsc1ORqwvBRFgEkz3JZhC1XOZBfme52gKjt+vJ\n",
       "LbsM8FSM1VQ4AjL7qd72KiWClWZKo+TS3iYQwGSvpFEupkQtp/xpOWT84q75SgUvLVxyyz4D3Mdy\n",
       "qwOj4g3zGd/4IIKlOR42uVEEd5hRhOnoqnYGR5KniN8zkn9ydTh9eNX+4EuMgWvY4CK5YMZ9IZ0e\n",
       "ohgrtt2pyQhbMiqAyZ634rOCFqWBIi59451bFnd8JQause+4nt6L22IAv0z5s3zGSsC5Lc4DnBaW\n",
       "E7Nnrk5nRS0DY8S9P3mnPuVY2lJeBJ/AjAvxSoLgfgdY+gXyguBqbk/y0NLKWaPCJDMwYbjarRbc\n",
       "NyywZw7kY+cggeNzXe5Ohx3g1t+59tAq2LCnYqFaWv+8AevJTQ+ZH444wIkCJxB5Jj1c7gSyZguV\n",
       "xe22QM0cd7wZqfDoM1jc+mSBd5K+9izUu/Hg9R+QyoIvOc/VG3HQXl4M/wUmCdhHGptFtwAAAABJ\n",
       "RU5ErkJggg==\n",
       "\" style=\"display:inline;vertical-align:middle;\" /></a></span></td></tr>\n",
       "<tr><td>&nbsp;</td><td colspan=4 style-\"text-align:left\"><a class=\"ProveItLink\" href=\"../modus_tollens_denial/thm_proof.ipynb\">proveit.logic.booleans.implication.modus_tollens_denial</a></td></tr><tr><td><a name=\"-0x411252f6f8d27db_step4\">4</a></td><td>assumption</td><td></td><td><span style=\"font-size:20px;\"><a class=\"ProveItLink\" href=\"../../../../__pv_it/theorems/a10dbfd9a4efbb6f30af430036ab01697a9460f80/expr.ipynb\"><img src=\"data:image/png;base64,iVBORw0KGgoAAAANSUhEUgAAADYAAAAQBAMAAACvnpHFAAAAMFBMVEX///8AAAAAAAAAAAAAAAAA\n",
       "AAAAAAAAAAAAAAAAAAAAAAAAAAAAAAAAAAAAAAAAAAAv3aB7AAAAD3RSTlMAIs1UmauJMnZmRLsQ\n",
       "3e++988cAAAACXBIWXMAAA7EAAAOxAGVKw4bAAAA40lEQVQY02NgAAEhBhTAcW/Tp7dRUI4+qhwD\n",
       "N1eD0NEFYCbzfwy5CWwCG8BMlngBDDlOgwAwMzG/AGrR3ruX4HIKIBZjQ78BWIpL4wBcH6tkAthI\n",
       "BvsJEOcegJvZ0xsGZi1mqAerYVBE2Hfp/RWwQgcGeYi9Ckhu4ZilA3LAFpd4sHvZ3969e/c2VI5h\n",
       "wzIg4wQDA/8FkAjPBiR9DBu4wUYy8D4AC11AkWMCOhzoRqYPYKEOFDkLBgY5EPsjWIjJAC6XwNbm\n",
       "wHD6vw4D8/5PYE/wRK+BBI/ebkQ8wABXNiTMIAAAYXA8zHUEOxUAAAAASUVORK5CYII=\n",
       "\" style=\"display:inline;vertical-align:middle;\" /></a> <a class=\"ProveItLink\" href=\"../../../__pv_it/_proof_contrapose_neg_consequent/db3c0f8d66e8b38e6e12b7373153857b7bab3da90/proof.ipynb\" style=\"text-decoration: none\">&nbsp;&#x22A2;&nbsp;&nbsp;</a><a class=\"ProveItLink\" href=\"../../../../__pv_it/theorems/a10dbfd9a4efbb6f30af430036ab01697a9460f80/expr.ipynb\"><img src=\"data:image/png;base64,iVBORw0KGgoAAAANSUhEUgAAADYAAAAQBAMAAACvnpHFAAAAMFBMVEX///8AAAAAAAAAAAAAAAAA\n",
       "AAAAAAAAAAAAAAAAAAAAAAAAAAAAAAAAAAAAAAAAAAAv3aB7AAAAD3RSTlMAIs1UmauJMnZmRLsQ\n",
       "3e++988cAAAACXBIWXMAAA7EAAAOxAGVKw4bAAAA40lEQVQY02NgAAEhBhTAcW/Tp7dRUI4+qhwD\n",
       "N1eD0NEFYCbzfwy5CWwCG8BMlngBDDlOgwAwMzG/AGrR3ruX4HIKIBZjQ78BWIpL4wBcH6tkAthI\n",
       "BvsJEOcegJvZ0xsGZi1mqAerYVBE2Hfp/RWwQgcGeYi9Ckhu4ZilA3LAFpd4sHvZ3969e/c2VI5h\n",
       "wzIg4wQDA/8FkAjPBiR9DBu4wUYy8D4AC11AkWMCOhzoRqYPYKEOFDkLBgY5EPsjWIjJAC6XwNbm\n",
       "wHD6vw4D8/5PYE/wRK+BBI/ebkQ8wABXNiTMIAAAYXA8zHUEOxUAAAAASUVORK5CYII=\n",
       "\" style=\"display:inline;vertical-align:middle;\" /></a></span></td></tr>\n",
       "<tr><td><a name=\"-0x411252f6f8d27db_step5\">5</a></td><td>assumption</td><td></td><td><span style=\"font-size:20px;\"><a class=\"ProveItLink\" href=\"../../../__pv_it/theorems/01eb059828094c1f42d246d650e4be0cdc97bc320/expr.ipynb\"><img src=\"data:image/png;base64,iVBORw0KGgoAAAANSUhEUgAAAF0AAAAVBAMAAADWVP/xAAAAMFBMVEX///8AAAAAAAAAAAAAAAAA\n",
       "AAAAAAAAAAAAAAAAAAAAAAAAAAAAAAAAAAAAAAAAAAAv3aB7AAAAD3RSTlMAIs1UmauJMnZmRLsQ\n",
       "3e++988cAAAACXBIWXMAAA7EAAAOxAGVKw4bAAABfElEQVQoz2NgwA0EcAoIYVPOYYAusgLG0Mem\n",
       "3gzBnP0/NFS7gIFjAoTL/B+Lch4FJM5rBgbW7wwMOhAeS7wApnqWCQg24w8GBq4vDAxTINzE/AKE\n",
       "3B4ozYeklxNoNidQD98BsO6GfiSvVUNpIyT1rB8YGJgeAjHYThYGeyS7ORMgtBuSer4NDDyxQDew\n",
       "BYB4ixnqwWpY7oLBF4gaTST19Ts6gkBGcoLDwIFBPgBJklkZTF2GGeDAwNAvwMD8EiT1ABQvW1zi\n",
       "NyCHzKFXIPIVLGyAZu0D0qAwYQf6g+EEAwP/BSTljGoC6Oq/Aun5DcAwfQB2DgPvAyT3XxKAuQem\n",
       "nv0nkI5fAHQP0FwuoEeYPiCM54K6bQdMvQMDx0egUz6B/AuUkwPS3B8R6mFpLxUhxAS0fh0oLbAk\n",
       "MJz+r8PAvP9TAlxyO5SuRcTW/q+hQZtBLN4FuFM9bwGmnCye3MLpgCnmiUc9w0YMEcYN+NSfxhDh\n",
       "FsCnnrEBXaSRgQEAkdpbniUMntMAAAAASUVORK5CYII=\n",
       "\" style=\"display:inline;vertical-align:middle;\" /></a> <a class=\"ProveItLink\" href=\"../../../__pv_it/_proof_contrapose_neg_consequent/baebdff573e92d14c2b15c0e066d840c70b367dd0/proof.ipynb\" style=\"text-decoration: none\">&nbsp;&#x22A2;&nbsp;&nbsp;</a><a class=\"ProveItLink\" href=\"../../../__pv_it/theorems/01eb059828094c1f42d246d650e4be0cdc97bc320/expr.ipynb\"><img src=\"data:image/png;base64,iVBORw0KGgoAAAANSUhEUgAAAF0AAAAVBAMAAADWVP/xAAAAMFBMVEX///8AAAAAAAAAAAAAAAAA\n",
       "AAAAAAAAAAAAAAAAAAAAAAAAAAAAAAAAAAAAAAAAAAAv3aB7AAAAD3RSTlMAIs1UmauJMnZmRLsQ\n",
       "3e++988cAAAACXBIWXMAAA7EAAAOxAGVKw4bAAABfElEQVQoz2NgwA0EcAoIYVPOYYAusgLG0Mem\n",
       "3gzBnP0/NFS7gIFjAoTL/B+Lch4FJM5rBgbW7wwMOhAeS7wApnqWCQg24w8GBq4vDAxTINzE/AKE\n",
       "3B4ozYeklxNoNidQD98BsO6GfiSvVUNpIyT1rB8YGJgeAjHYThYGeyS7ORMgtBuSer4NDDyxQDew\n",
       "BYB4ixnqwWpY7oLBF4gaTST19Ts6gkBGcoLDwIFBPgBJklkZTF2GGeDAwNAvwMD8EiT1ABQvW1zi\n",
       "NyCHzKFXIPIVLGyAZu0D0qAwYQf6g+EEAwP/BSTljGoC6Oq/Aun5DcAwfQB2DgPvAyT3XxKAuQem\n",
       "nv0nkI5fAHQP0FwuoEeYPiCM54K6bQdMvQMDx0egUz6B/AuUkwPS3B8R6mFpLxUhxAS0fh0oLbAk\n",
       "MJz+r8PAvP9TAlxyO5SuRcTW/q+hQZtBLN4FuFM9bwGmnCye3MLpgCnmiUc9w0YMEcYN+NSfxhDh\n",
       "FsCnnrEBXaSRgQEAkdpbniUMntMAAAAASUVORK5CYII=\n",
       "\" style=\"display:inline;vertical-align:middle;\" /></a></span></td></tr>\n",
       "<tr><td><a name=\"-0x411252f6f8d27db_step6\">6</a></td><td>instantiation</td><td><a href=\"#-0x411252f6f8d27db_step7\">7</a>, <a href=\"#-0x411252f6f8d27db_step8\">8</a></td><td><span style=\"font-size:20px;\"><a class=\"ProveItLink\" href=\"../../../../../../__pv_it/common/a9162d1c3cc0470c02e5daf414500903a7a419230/expr.ipynb\"><img src=\"data:image/png;base64,iVBORw0KGgoAAAANSUhEUgAAABAAAAAOBAMAAADUAYG5AAAAMFBMVEX///8AAAAAAAAAAAAAAAAA\n",
       "AAAAAAAAAAAAAAAAAAAAAAAAAAAAAAAAAAAAAAAAAAAv3aB7AAAAD3RSTlMAZrurzTLvInZEmRDd\n",
       "VIkafcLnAAAACXBIWXMAAA7EAAAOxAGVKw4bAAAAb0lEQVQI12NgYBD6b2zsFMAABEkMDMxfgTT7\n",
       "DwYGzl9ABiOQxwjkMDB/YGBgSQcy2BQYuG1AiuM1OkwEQJr6Cxh4E0EMNSB+D5L6DMTyDQwMrB+B\n",
       "DPsJDAwc34GcL0AOSwIDwzRvoHH6n41NdBkYAF/iFeJ4bEa2AAAAAElFTkSuQmCC\n",
       "\" style=\"display:inline;vertical-align:middle;\" /></a> <a class=\"ProveItLink\" href=\"../../../__pv_it/_proof_contrapose_neg_consequent/aab5517bb800e0bb9ab37760ecb253b39f9970db0/proof.ipynb\" style=\"text-decoration: none\">&nbsp;&#x22A2;&nbsp;&nbsp;</a><a class=\"ProveItLink\" href=\"../../../__pv_it/_proof_contrapose_neg_consequent/b5294fcb32f46644d8d4c3550911eec22a3ce7670/expr.ipynb\"><img src=\"data:image/png;base64,iVBORw0KGgoAAAANSUhEUgAAADoAAAAVBAMAAADlb+D4AAAAMFBMVEX///8AAAAAAAAAAAAAAAAA\n",
       "AAAAAAAAAAAAAAAAAAAAAAAAAAAAAAAAAAAAAAAAAAAv3aB7AAAAD3RSTlMAmd0iq3ZUiRDNZu9E\n",
       "uzLWhN+VAAAACXBIWXMAAA7EAAAOxAGVKw4bAAABBElEQVQoz2NggAFmBjSAIhCGLssTgGCzFcCZ\n",
       "XPe/uHjeY2CIQsh2IunivsDA4P+AgbMBLiKFJGsPNPO8AAOXAFxkA5Ls+gdADFSxA27tBCRZfyCe\n",
       "bcDAMAsmwFiAJLuXgaFFD0iXwAQ4FyAk+f6GhoC1rWQQUgICRQamBAYYk4H1MwNDNkh1NkS1CQP3\n",
       "AQYYk4EX6EL2f0D2e2yy/A7AEPkKZJ+GCYFMhsm+B5rK8gfIToIIGTLwwgLVkIEhHuiZ9yAfroW5\n",
       "k90B4ebZwBjYCQpFcbgvFOCSvv9dXOaCLdKBi+kxYABmhI6FmLKMiBDiNcCQtUUwOS5gyF5GYpui\n",
       "S7IaMAAA6uAx+eFTWNsAAAAASUVORK5CYII=\n",
       "\" style=\"display:inline;vertical-align:middle;\" /></a></span></td></tr>\n",
       "<tr><td>&nbsp;</td><td colspan=4 style=\"text-align:left\"><span style=\"font-size:20px;\"><a class=\"ProveItLink\" href=\"../../../../../../__pv_it/common/09585084922504426caf1db2ff588a23a0932a960/expr.ipynb\"><img src=\"data:image/png;base64,iVBORw0KGgoAAAANSUhEUgAAAA8AAAAPBAMAAADJ+Ih5AAAAMFBMVEX///8AAAAAAAAAAAAAAAAA\n",
       "AAAAAAAAAAAAAAAAAAAAAAAAAAAAAAAAAAAAAAAAAAAv3aB7AAAAD3RSTlMAIs1UmauJMnZmRLsQ\n",
       "3e++988cAAAACXBIWXMAAA7EAAAOxAGVKw4bAAAAXklEQVQI12NgAAEhBijQh9LM/6EMlngBCCMx\n",
       "vwBMMzb0G0BkGOwngBmLGeoTwAwHBvkAEM2xxSV+A4hxgoGB/wJEhoH3AZDmAupg+gBkyAEx90cG\n",
       "htP/dRiY939KAABt3hLO6mcEjQAAAABJRU5ErkJggg==\n",
       "\" style=\"display:inline;vertical-align:middle;\" /></a> : <a class=\"ProveItLink\" href=\"../../../../../../__pv_it/common/a9162d1c3cc0470c02e5daf414500903a7a419230/expr.ipynb\"><img src=\"data:image/png;base64,iVBORw0KGgoAAAANSUhEUgAAABAAAAAOBAMAAADUAYG5AAAAMFBMVEX///8AAAAAAAAAAAAAAAAA\n",
       "AAAAAAAAAAAAAAAAAAAAAAAAAAAAAAAAAAAAAAAAAAAv3aB7AAAAD3RSTlMAZrurzTLvInZEmRDd\n",
       "VIkafcLnAAAACXBIWXMAAA7EAAAOxAGVKw4bAAAAb0lEQVQI12NgYBD6b2zsFMAABEkMDMxfgTT7\n",
       "DwYGzl9ABiOQxwjkMDB/YGBgSQcy2BQYuG1AiuM1OkwEQJr6Cxh4E0EMNSB+D5L6DMTyDQwMrB+B\n",
       "DPsJDAwc34GcL0AOSwIDwzRvoHH6n41NdBkYAF/iFeJ4bEa2AAAAAElFTkSuQmCC\n",
       "\" style=\"display:inline;vertical-align:middle;\" /></a></span></td></tr><tr><td><a name=\"-0x411252f6f8d27db_step7\">7</a></td><td>theorem</td><td></td><td><span style=\"font-size:20px;\"> <a class=\"ProveItLink\" href=\"../../../../negation/_theory_nbs_/proofs/double_negation_intro/thm_proof.ipynb\" style=\"text-decoration: none\">&nbsp;&#x22A2;&nbsp;&nbsp;</a><a class=\"ProveItLink\" href=\"../../../../negation/__pv_it/theorems/0b22d68afd7bfc707f054cfbe8b4e2370c2f148f0/expr.ipynb\"><img src=\"data:image/png;base64,iVBORw0KGgoAAAANSUhEUgAAAIoAAAAXBAMAAAAmUcrKAAAAMFBMVEX///8AAAAAAAAAAAAAAAAA\n",
       "AAAAAAAAAAAAAAAAAAAAAAAAAAAAAAAAAAAAAAAAAAAv3aB7AAAAD3RSTlMAq1RmmUTNIjK7EInv\n",
       "3XZ/CtNrAAAACXBIWXMAAA7EAAAOxAGVKw4bAAAB20lEQVQ4y52TPUsDQRCGx3wdSUy8f5CAYKOi\n",
       "lWAjKVSECAZtUlhEgghpjI0gBHL2ihZCwEJT2AREjI1FisRCEEUJgmXgwFZQLKLYxNmdvdzGLBfJ\n",
       "wHv77O3Ne8zMHUDvyCqRhybUO8JRFWJsA3hNks72w04uo0rE2ES9kubYfsPBJJBSIYarhRdfkWuX\n",
       "VXbo4OKZVCHbRbBL7hgXMwtGHVwGlYhxXTXwes/lRn+fU1tGlIgFmO/s5WnSY6Px4OQSVyIWBBOs\n",
       "wDJpAeCY3y6KQ6uVYk3biWnZZRkOLnGZIm2BxqcduOOHfuupc4PWZ3RusIjJCBCDPMsbI/mLwQR7\n",
       "OvjZ6VIVLb+1+qDLCOGj2Qgb7QHJZVJzk08dLt4909HlAmCojrwqlJrhR+Zah0vYp7crslIlxIIg\n",
       "VEMeF7rK8CyY73AxPeJDPbFSYzJ62QfygTwtlOMvTcKb7OI1wjWisj0WCXPs0S8xfaYBPox4JVKU\n",
       "XDyV8g/Rvp1qY6mVAddpE0f9AiRqA0DekFxM0L6JQkY7V8L2F1wnUaxgy6O2CyubJs//N+hC+Qdt\n",
       "/6SeGwgsrdsuizqcNRN0VrBzCl0uO0J/wt91p6REybfwHxfNVKFoZ5bU26Wf0PpJ+gXXLm1aorRU\n",
       "sAAAAABJRU5ErkJggg==\n",
       "\" style=\"display:inline;vertical-align:middle;\" /></a></span></td></tr>\n",
       "<tr><td>&nbsp;</td><td colspan=4 style-\"text-align:left\"><a class=\"ProveItLink\" href=\"../../../../negation/_theory_nbs_/proofs/double_negation_intro/thm_proof.ipynb\">proveit.logic.booleans.negation.double_negation_intro</a></td></tr><tr><td><a name=\"-0x411252f6f8d27db_step8\">8</a></td><td>assumption</td><td></td><td><span style=\"font-size:20px;\"><a class=\"ProveItLink\" href=\"../../../../../../__pv_it/common/a9162d1c3cc0470c02e5daf414500903a7a419230/expr.ipynb\"><img src=\"data:image/png;base64,iVBORw0KGgoAAAANSUhEUgAAABAAAAAOBAMAAADUAYG5AAAAMFBMVEX///8AAAAAAAAAAAAAAAAA\n",
       "AAAAAAAAAAAAAAAAAAAAAAAAAAAAAAAAAAAAAAAAAAAv3aB7AAAAD3RSTlMAZrurzTLvInZEmRDd\n",
       "VIkafcLnAAAACXBIWXMAAA7EAAAOxAGVKw4bAAAAb0lEQVQI12NgYBD6b2zsFMAABEkMDMxfgTT7\n",
       "DwYGzl9ABiOQxwjkMDB/YGBgSQcy2BQYuG1AiuM1OkwEQJr6Cxh4E0EMNSB+D5L6DMTyDQwMrB+B\n",
       "DPsJDAwc34GcL0AOSwIDwzRvoHH6n41NdBkYAF/iFeJ4bEa2AAAAAElFTkSuQmCC\n",
       "\" style=\"display:inline;vertical-align:middle;\" /></a> <a class=\"ProveItLink\" href=\"../../../__pv_it/_proof_contrapose_neg_consequent/d43a9c2d2ebf0b3b961e71c77fe7ef917c06ce470/proof.ipynb\" style=\"text-decoration: none\">&nbsp;&#x22A2;&nbsp;&nbsp;</a><a class=\"ProveItLink\" href=\"../../../../../../__pv_it/common/a9162d1c3cc0470c02e5daf414500903a7a419230/expr.ipynb\"><img src=\"data:image/png;base64,iVBORw0KGgoAAAANSUhEUgAAABAAAAAOBAMAAADUAYG5AAAAMFBMVEX///8AAAAAAAAAAAAAAAAA\n",
       "AAAAAAAAAAAAAAAAAAAAAAAAAAAAAAAAAAAAAAAAAAAv3aB7AAAAD3RSTlMAZrurzTLvInZEmRDd\n",
       "VIkafcLnAAAACXBIWXMAAA7EAAAOxAGVKw4bAAAAb0lEQVQI12NgYBD6b2zsFMAABEkMDMxfgTT7\n",
       "DwYGzl9ABiOQxwjkMDB/YGBgSQcy2BQYuG1AiuM1OkwEQJr6Cxh4E0EMNSB+D5L6DMTyDQwMrB+B\n",
       "DPsJDAwc34GcL0AOSwIDwzRvoHH6n41NdBkYAF/iFeJ4bEa2AAAAAElFTkSuQmCC\n",
       "\" style=\"display:inline;vertical-align:middle;\" /></a></span></td></tr>\n",
       "</table>"
      ],
      "text/plain": [
       "\tstep type\trequirements\tstatement\n",
       "0\tgeneralization\t1\t|- forall_{A, B | A => [not](B), A in BOOLEAN} (B => [not](A))\n",
       "1\tdeduction\t2\t{A in BOOLEAN, A => [not](B)} |- B => [not](A)\n",
       "2\tinstantiation\t3, 4, 5, 6\t{A in BOOLEAN, A => [not](B), B} |- [not](A)\n",
       "\tA : A, B : [not](B)\n",
       "3\tconjecture\t\t|- forall_{A in BOOLEAN} [forall_{B | A => B, [not](B)} [not](A)]\n",
       "\tproveit.logic.booleans.implication.modus_tollens_denial\n",
       "4\tassumption\t\t{A in BOOLEAN} |- A in BOOLEAN\n",
       "5\tassumption\t\t{A => [not](B)} |- A => [not](B)\n",
       "6\tinstantiation\t7, 8\t{B} |- [not]([not](B))\n",
       "\tA : B\n",
       "7\ttheorem\t\t|- forall_{A | A} [not]([not](A))\n",
       "\tproveit.logic.booleans.negation.double_negation_intro\n",
       "8\tassumption\t\t{B} |- B"
      ]
     },
     "execution_count": 6,
     "metadata": {},
     "output_type": "execute_result"
    }
   ],
   "source": [
    "%qed"
   ]
  },
  {
   "cell_type": "code",
   "execution_count": null,
   "metadata": {},
   "outputs": [],
   "source": []
  }
 ],
 "metadata": {
  "kernelspec": {
   "display_name": "Python 3",
   "language": "python",
   "name": "python3"
  }
 },
 "nbformat": 4,
 "nbformat_minor": 0
}