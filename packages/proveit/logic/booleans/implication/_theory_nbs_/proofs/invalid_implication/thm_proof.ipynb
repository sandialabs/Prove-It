{
 "cells": [
  {
   "cell_type": "markdown",
   "metadata": {},
   "source": [
    "Proof of <a class=\"ProveItLink\" href=\"../../../../../../_theory_nbs_/theory.ipynb\">proveit</a>.<a class=\"ProveItLink\" href=\"../../../../../_theory_nbs_/theory.ipynb\">logic</a>.<a class=\"ProveItLink\" href=\"../../../../_theory_nbs_/theory.ipynb\">booleans</a>.<a class=\"ProveItLink\" href=\"../../theory.ipynb\">implication</a>.<a class=\"ProveItLink\" href=\"../../theorems.ipynb#invalid_implication\">invalid_implication</a> theorem\n",
    "========"
   ]
  },
  {
   "cell_type": "code",
   "execution_count": 1,
   "metadata": {},
   "outputs": [],
   "source": [
    "import proveit\n",
    "theory = proveit.Theory() # the theorem's theory"
   ]
  },
  {
   "cell_type": "code",
   "execution_count": 2,
   "metadata": {},
   "outputs": [
    {
     "data": {
      "text/html": [
       "With these <a href=\"allowed_presumptions.txt\">allowed</a>/<a href=\"disallowed_presumptions.txt\">disallowed</a> theorem/theory presumptions (e.g., to avoid circular dependencies), we begin our proof of<br><strong id=\"invalid_implication\">invalid_implication:</strong> <a class=\"ProveItLink\" href=\"../../../__pv_it/theorems/f07b924d83b05f3ee2131b3010a4591ede8235680/expr.ipynb\"><img src=\"data:image/png;base64,iVBORw0KGgoAAAANSUhEUgAAAN8AAAAXBAMAAAB5bIfGAAAAMFBMVEX///8AAAAAAAAAAAAAAAAA\n",
       "AAAAAAAAAAAAAAAAAAAAAAAAAAAAAAAAAAAAAAAAAAAv3aB7AAAAD3RSTlMAq1RmmUTNIjK7EInv\n",
       "3XZ/CtNrAAAACXBIWXMAAA7EAAAOxAGVKw4bAAAC90lEQVRIx71WS2hTQRQ9zcv35WMKUtxIAoIb\n",
       "F2ZRBBdqwQ+WKgbdFBGNiohx0RbElZq4FCoNImhF2yykUPzQunGRRWNFVEQppYibwkMXbsSmtbSl\n",
       "gnVm7vvclNc2PNCBk5m5d+aemfuZF8BzC/FJ94bLuxtatV77ysaJtOqurrP8tImknGzzwOcbYZMd\n",
       "1HW5Ldy90tx8qYhEBgoHpeyiB8IhNtZzdIYV15XvgaYlIA+FmzIaJQ+E+9nYn6Eu5Rak0B8gMA+0\n",
       "QiFYBqJpD4RVNo5R93Ks6MgeWANN3E4TpLGygiYOF/QSwhybbKerGDPs5LesQVNNMLwVyBA+Tk9/\n",
       "8EDo5znTQSLszDgyzVoQK0HfKq4eTRIOW7cvr7JoZ4QrYZDZxnn1exx9isQ/rdq8qewb+NkiF2s5\n",
       "Qg9CqjT0d+SJ+Uq7ikTEsvaUBcbWIi68d1TanRKTSSVqQyHJnX6O+plu+F7LeZUQKUezUh6dI09M\n",
       "IFGtIxxjgbG1iGVNUY/AG1X8dw+k6tJ9SInxUNoQpwzXCD6DcqbzE4W4DVqNEwZ6DceGrXUhfA5s\n",
       "muDlcJmKZFZgn7ARqBKQ26vkxlkylMazDCdMBJmfbK1yqU04SR5FvMpi+Jn4wr/ET0oczzdBwIu8\n",
       "sotDSl/41roFnNDwswKwtYhY974iMCA9IbO+5iwNmO5NLArSBRmOEgHX1A068UPp90DfzAkDRRW0\n",
       "aH9//yOmVQlut1FpRu5ZdGTWQx4U20/lzUJSxdSk0q6jklJ1IewVsozQXxldtgLItAjzcN0Ghlfy\n",
       "8A0uONV539w0ONvcckcFIUswLy4sKeJx4AwvCwOhJYfQ1gJfGGG86P79q2vXTVA7IVIsrY8gtAx9\n",
       "irlURmYOT8ynwNHSW2xXS1uDr7394vtfQT92ITyOXb8r7WlGeCSJxwvZXjMlHa3Q8yvca+APQsnl\n",
       "s+Rj4whXuHxOdL55eGNCecDIaj+fXIMwUHaxcIMf39iQ8LuJupZZg1DDf2ihf2P2L81HvoJBamXn\n",
       "AAAAAElFTkSuQmCC\n",
       "\" style=\"display:inline;vertical-align:middle;\" /></a><br>(see <a class=\"ProveItLink\" href=\"../../../__pv_it/theorems/4fb1a0bc6c7c542f0be9d5549c547f612f7edf7e0/dependencies.ipynb\">dependencies</a>)<br>"
      ],
      "text/plain": [
       "<IPython.core.display.HTML object>"
      ]
     },
     "metadata": {},
     "output_type": "display_data"
    },
    {
     "name": "stdout",
     "output_type": "stream",
     "text": [
      "invalid_implication may now be readily provable (assuming required theorems are usable).  Simply execute \"%qed\".\n"
     ]
    }
   ],
   "source": [
    "%proving invalid_implication"
   ]
  },
  {
   "cell_type": "code",
   "execution_count": null,
   "metadata": {},
   "outputs": [],
   "source": []
  }
 ],
 "metadata": {
  "kernelspec": {
   "display_name": "Python 3",
   "language": "python",
   "name": "python3"
  }
 },
 "nbformat": 4,
 "nbformat_minor": 0
}