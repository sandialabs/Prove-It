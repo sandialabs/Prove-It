{
 "cells": [
  {
   "cell_type": "markdown",
   "metadata": {},
   "source": [
    "Proof of <a class=\"ProveItLink\" href=\"../../../../../../_theory_nbs_/theory.ipynb\">proveit</a>.<a class=\"ProveItLink\" href=\"../../../../../_theory_nbs_/theory.ipynb\">logic</a>.<a class=\"ProveItLink\" href=\"../../../../_theory_nbs_/theory.ipynb\">booleans</a>.<a class=\"ProveItLink\" href=\"../../theory.ipynb\">implication</a>.<a class=\"ProveItLink\" href=\"../../theorems.ipynb#iff_t_f\">iff_t_f</a> theorem\n",
    "========"
   ]
  },
  {
   "cell_type": "code",
   "execution_count": 1,
   "metadata": {},
   "outputs": [],
   "source": [
    "import proveit\n",
    "from proveit.logic.booleans.implication  import iff_def, implies_t_f\n",
    "theory = proveit.Theory() # the theorem's theory"
   ]
  },
  {
   "cell_type": "code",
   "execution_count": 2,
   "metadata": {},
   "outputs": [
    {
     "data": {
      "text/html": [
       "With these <a href=\"allowed_presumptions.txt\">allowed</a>/<a href=\"disallowed_presumptions.txt\">disallowed</a> theorem/theory presumptions (e.g., to avoid circular dependencies), we begin our proof of<br><strong id=\"iff_t_f\">iff_t_f:</strong> <a class=\"ProveItLink\" href=\"../../../__pv_it/theorems/8565aa5a5da07d04c31e23567ca033d7e70794450/expr.ipynb\"><img src=\"data:image/png;base64,iVBORw0KGgoAAAANSUhEUgAAAHoAAAAVBAMAAAB71edYAAAAMFBMVEX///8AAAAAAAAAAAAAAAAA\n",
       "AAAAAAAAAAAAAAAAAAAAAAAAAAAAAAAAAAAAAAAAAAAv3aB7AAAAD3RSTlMAInZUiRDNmWbv3US7\n",
       "qzJazP2FAAAACXBIWXMAAA7EAAAOxAGVKw4bAAABDUlEQVQ4y2NgYBBgIATwqGAyIKh7E24pEwaG\n",
       "qlUgsBab7A6wBQ24ZFgTwGwjHGZDxFNxybA3EKG7HZcMJwOabqBb+C6g6eYMwKHbDE032I/n0HSz\n",
       "NeDQXYKm+w2ICAtA1c1yAYfuDFTdfDNBwb8yFVU3BzhoUaMGLLMYVbcOxNY3Bii6mSfgsHs2iu5I\n",
       "qBNZ56Lo5vtAlG7GKxBazAFFNzcuu9FczgH226p1qP5mXoDD34fQwhycMNgE0ELtAA67fdF0824A\n",
       "EtVo8c3ugEP3K6Q0D0v3jFCrgE6dCXYq1wY0rTAZrgdYMjN6wpTClUE5ChgIgwqcMgcJa2Y8gFMq\n",
       "hrBuHtxFE6MCQd2KuCQAWmtIibof9pUAAAAASUVORK5CYII=\n",
       "\" style=\"display:inline;vertical-align:middle;\" /></a><br>(see <a class=\"ProveItLink\" href=\"../../../__pv_it/theorems/78186bd6e682dcc32d0d3e5916220d0352220f100/dependencies.ipynb\">dependencies</a>)<br>"
      ],
      "text/plain": [
       "<IPython.core.display.HTML object>"
      ]
     },
     "metadata": {},
     "output_type": "display_data"
    },
    {
     "name": "stdout",
     "output_type": "stream",
     "text": [
      "iff_t_f may now be readily provable (assuming required theorems are usable).  Simply execute \"%qed\".\n"
     ]
    }
   ],
   "source": [
    "%proving iff_t_f"
   ]
  },
  {
   "cell_type": "code",
   "execution_count": 3,
   "metadata": {},
   "outputs": [
    {
     "name": "stdout",
     "output_type": "stream",
     "text": [
      "proveit.logic.booleans.implication.iff_t_f has been proven.\n"
     ]
    },
    {
     "data": {
      "text/html": [
       "<table><tr><th>&nbsp;</th><th>step type</th><th>requirements</th><th>statement</th></tr>\n",
       "<tr><td><a name=\"-0x6e27bac5b4c08f32_step0\">0</a></td><td>instantiation</td><td><a href=\"#-0x6e27bac5b4c08f32_step1\">1</a>, <a href=\"#-0x6e27bac5b4c08f32_step2\">2</a></td><td><span style=\"font-size:20px;\"> <a class=\"ProveItLink\" href=\"../../../__pv_it/_proof_iff_t_f/4bdf7ebd8a0d2157f3d5d8ae3e9421ddeeb653840/proof.ipynb\" style=\"text-decoration: none\">&nbsp;&#x22A2;&nbsp;&nbsp;</a><a class=\"ProveItLink\" href=\"../../../__pv_it/theorems/8565aa5a5da07d04c31e23567ca033d7e70794450/expr.ipynb\"><img src=\"data:image/png;base64,iVBORw0KGgoAAAANSUhEUgAAAHoAAAAVBAMAAAB71edYAAAAMFBMVEX///8AAAAAAAAAAAAAAAAA\n",
       "AAAAAAAAAAAAAAAAAAAAAAAAAAAAAAAAAAAAAAAAAAAv3aB7AAAAD3RSTlMAInZUiRDNmWbv3US7\n",
       "qzJazP2FAAAACXBIWXMAAA7EAAAOxAGVKw4bAAABDUlEQVQ4y2NgYBBgIATwqGAyIKh7E24pEwaG\n",
       "qlUgsBab7A6wBQ24ZFgTwGwjHGZDxFNxybA3EKG7HZcMJwOabqBb+C6g6eYMwKHbDE032I/n0HSz\n",
       "NeDQXYKm+w2ICAtA1c1yAYfuDFTdfDNBwb8yFVU3BzhoUaMGLLMYVbcOxNY3Bii6mSfgsHs2iu5I\n",
       "qBNZ56Lo5vtAlG7GKxBazAFFNzcuu9FczgH226p1qP5mXoDD34fQwhycMNgE0ELtAA67fdF0824A\n",
       "EtVo8c3ugEP3K6Q0D0v3jFCrgE6dCXYq1wY0rTAZrgdYMjN6wpTClUE5ChgIgwqcMgcJa2Y8gFMq\n",
       "hrBuHtxFE6MCQd2KuCQAWmtIibof9pUAAAAASUVORK5CYII=\n",
       "\" style=\"display:inline;vertical-align:middle;\" /></a></span></td></tr>\n",
       "<tr><td>&nbsp;</td><td colspan=4 style=\"text-align:left\"><span style=\"font-size:20px;\"><a class=\"ProveItLink\" href=\"../../../../../../__pv_it/common/09585084922504426caf1db2ff588a23a0932a960/expr.ipynb\"><img src=\"data:image/png;base64,iVBORw0KGgoAAAANSUhEUgAAAA8AAAAPBAMAAADJ+Ih5AAAAMFBMVEX///8AAAAAAAAAAAAAAAAA\n",
       "AAAAAAAAAAAAAAAAAAAAAAAAAAAAAAAAAAAAAAAAAAAv3aB7AAAAD3RSTlMAIs1UmauJMnZmRLsQ\n",
       "3e++988cAAAACXBIWXMAAA7EAAAOxAGVKw4bAAAAXklEQVQI12NgAAEhBijQh9LM/6EMlngBCCMx\n",
       "vwBMMzb0G0BkGOwngBmLGeoTwAwHBvkAEM2xxSV+A4hxgoGB/wJEhoH3AZDmAupg+gBkyAEx90cG\n",
       "htP/dRiY939KAABt3hLO6mcEjQAAAABJRU5ErkJggg==\n",
       "\" style=\"display:inline;vertical-align:middle;\" /></a> : <a class=\"ProveItLink\" href=\"../../../__pv_it/theorems/ea122e9282d6351f76314590aa8a50b27f5e83720/expr.ipynb\"><img src=\"data:image/png;base64,iVBORw0KGgoAAAANSUhEUgAAAD8AAAAQBAMAAABTi7oPAAAAMFBMVEX///8AAAAAAAAAAAAAAAAA\n",
       "AAAAAAAAAAAAAAAAAAAAAAAAAAAAAAAAAAAAAAAAAAAv3aB7AAAAD3RSTlMAmd2rVHZEZs0yuxDv\n",
       "IolvTPF0AAAACXBIWXMAAA7EAAAOxAGVKw4bAAAAgUlEQVQoz2NgIASElEBAGZsUWwGU4YpDL0sA\n",
       "6Qo4gHgyPgXhQMw1AbcCzgVAgrsbt4I5h0A+OrEBlwLW1RBzluBQwH0Yyt9jgMOEyw/AFG8fTjcU\n",
       "gUNVaQJOBewCILIXTziYATFjAoaCdLiCHUB8C8JkVFLSAfraADX0eUGeQRUCANnOGtFBBH9UAAAA\n",
       "AElFTkSuQmCC\n",
       "\" style=\"display:inline;vertical-align:middle;\" /></a></span></td></tr><tr><td><a name=\"-0x6e27bac5b4c08f32_step1\">1</a></td><td>axiom</td><td></td><td><span style=\"font-size:20px;\"> <a class=\"ProveItLink\" href=\"../../../../negation/_theory_nbs_/axioms.ipynb#negation_elim\" style=\"text-decoration: none\">&nbsp;&#x22A2;&nbsp;&nbsp;</a><a class=\"ProveItLink\" href=\"../../../../negation/__pv_it/axioms/0fd3f403bc4d76bb1a3bc88358aa217c1bfc7dc50/expr.ipynb\"><img src=\"data:image/png;base64,iVBORw0KGgoAAAANSUhEUgAAAJcAAAAXBAMAAAD0AcCSAAAAMFBMVEX///8AAAAAAAAAAAAAAAAA\n",
       "AAAAAAAAAAAAAAAAAAAAAAAAAAAAAAAAAAAAAAAAAAAv3aB7AAAAD3RSTlMAq1RmmUTNIjK7EInv\n",
       "3XZ/CtNrAAAACXBIWXMAAA7EAAAOxAGVKw4bAAABvElEQVQ4y2NgIBoUUCSNCvgUwFQZLvk4IBYA\n",
       "MZSJMEwbQuVjkQoGW2bAwOAKYqQTNosrAUwx/ccipwcmsxgYGoEU+wTChrEYQCj5AlyGmTAwsC1g\n",
       "YOBWIGwYD4Tavr8Bl2E8CxiYgTayERFkamCS/cF7BVyGsQFNOnv37mkiDPOG+JJB3wCXYdzAuPRg\n",
       "YJgF5iyAKkcBC2CMZDAZxNC/AUT73gWBiyiGMQOjqJCBHZw8uE6AhThR4/AEjHUJTDow1AvgchnT\n",
       "AaDuBdwBYFd+wmIYVBAIjoLT0hQX+Qm4DOP4ADTwAST8I85hMQwqCDNsHQMD/wVchrECXcaQYAdm\n",
       "P0jEYhhUEOZNBwYG3gO4wowJZM2mLLAPGNwwDYMJAsE8kN2gZPQBl8uYQQFQAw7SCIY3SIbtnDlz\n",
       "5gWEIBBsBKkEyX/HZRgLKJ4ZwWnae7f8AlSXCSAEgaCXgWHl/ywGpvnfNqCaBPTxGbCPeQMQHmKo\n",
       "b0A3DC4IBLwNhJJ1LXIpwq+AapgDQhAUIg6EDHOGlwkHGbj8U9EiACEIAtMJmIWt6OHEpXglAcM4\n",
       "C0gwjP0BfsOeM5BgGDmAnQK9AL/XYzuwbv1UAAAAAElFTkSuQmCC\n",
       "\" style=\"display:inline;vertical-align:middle;\" /></a></span></td></tr>\n",
       "<tr><td>&nbsp;</td><td colspan=4 style-\"text-align:left\"><a class=\"ProveItLink\" href=\"../../../../negation/_theory_nbs_/axioms.ipynb#negation_elim\">proveit.logic.booleans.negation.negation_elim</a></td></tr><tr><td><a name=\"-0x6e27bac5b4c08f32_step2\">2</a></td><td>instantiation</td><td><a href=\"#-0x6e27bac5b4c08f32_step3\">3</a>, <a href=\"#-0x6e27bac5b4c08f32_step4\">4</a></td><td><span style=\"font-size:20px;\"> <a class=\"ProveItLink\" href=\"../../../__pv_it/_proof_iff_t_f/21348625119e6af49bb1e92f353f660d62bcc7070/proof.ipynb\" style=\"text-decoration: none\">&nbsp;&#x22A2;&nbsp;&nbsp;</a><a class=\"ProveItLink\" href=\"../../../__pv_it/_proof_iff_t_f/04042e00d3bd31198cf1146377891d87d00fb8eb0/expr.ipynb\"><img src=\"data:image/png;base64,iVBORw0KGgoAAAANSUhEUgAAAF4AAAAVBAMAAAA9Y0TyAAAAMFBMVEX///8AAAAAAAAAAAAAAAAA\n",
       "AAAAAAAAAAAAAAAAAAAAAAAAAAAAAAAAAAAAAAAAAAAv3aB7AAAAD3RSTlMAmd0iq3ZUiRDNZu9E\n",
       "uzLWhN+VAAAACXBIWXMAAA7EAAAOxAGVKw4bAAABCUlEQVQoz2NgQAADBgKAGYXHmkBIPU8AMi+d\n",
       "gVEJDBywKV0AIqOQRDgmgEi2AOxGQ8Q5GxAijAsIq+cSQIhwM6CpB9rH54CqnmEHQn0mmnpWkH33\n",
       "0NTPQqgXR1P/FkR0NqCqL0Gon4Wqnm83KKi0Z6CqX8kgBBJWBDLVUNXHQkx+m4CiPhvCMwHiPSjq\n",
       "u6E+5diCov49LvXM7hDasgBF/WmEejT3cEHiWg/V/UkQniEQX0ULn4XgCDVAVb8WET4laOpZDgAJ\n",
       "GbTwF0eof4SUrmDpifkCJKkAA3YTOB3qINQzPUBLMiCnNKBlAAUEGzkt4QKMC5A4lwmrt0Xm9BJW\n",
       "j2IkcwAh5awGDAAU2DDPBnB5IQAAAABJRU5ErkJggg==\n",
       "\" style=\"display:inline;vertical-align:middle;\" /></a></span></td></tr>\n",
       "<tr><td>&nbsp;</td><td colspan=4 style=\"text-align:left\"><span style=\"font-size:20px;\"><a class=\"ProveItLink\" href=\"../../../../../../__pv_it/common/09585084922504426caf1db2ff588a23a0932a960/expr.ipynb\"><img src=\"data:image/png;base64,iVBORw0KGgoAAAANSUhEUgAAAA8AAAAPBAMAAADJ+Ih5AAAAMFBMVEX///8AAAAAAAAAAAAAAAAA\n",
       "AAAAAAAAAAAAAAAAAAAAAAAAAAAAAAAAAAAAAAAAAAAv3aB7AAAAD3RSTlMAIs1UmauJMnZmRLsQ\n",
       "3e++988cAAAACXBIWXMAAA7EAAAOxAGVKw4bAAAAXklEQVQI12NgAAEhBijQh9LM/6EMlngBCCMx\n",
       "vwBMMzb0G0BkGOwngBmLGeoTwAwHBvkAEM2xxSV+A4hxgoGB/wJEhoH3AZDmAupg+gBkyAEx90cG\n",
       "htP/dRiY939KAABt3hLO6mcEjQAAAABJRU5ErkJggg==\n",
       "\" style=\"display:inline;vertical-align:middle;\" /></a> : <a class=\"ProveItLink\" href=\"../../../../__pv_it/common/95025295868b9266d37330b4427adf122f6061770/expr.ipynb\"><img src=\"data:image/png;base64,iVBORw0KGgoAAAANSUhEUgAAAA4AAAAOBAMAAADtZjDiAAAAG1BMVEX///8AAAAAAAAAAAAAAAAA\n",
       "AAAAAAAAAAAAAAB4Gco9AAAACHRSTlMAmd2rVHZEZkA3AkMAAAAJcEhZcwAADsQAAA7EAZUrDhsA\n",
       "AAAYSURBVAjXYxBSAgFlBiBwZYAAWtHpQAwAFRwEg6MlY1sAAAAASUVORK5CYII=\n",
       "\" style=\"display:inline;vertical-align:middle;\" /></a>, <a class=\"ProveItLink\" href=\"../../../../../../__pv_it/common/a9162d1c3cc0470c02e5daf414500903a7a419230/expr.ipynb\"><img src=\"data:image/png;base64,iVBORw0KGgoAAAANSUhEUgAAABAAAAAOBAMAAADUAYG5AAAAMFBMVEX///8AAAAAAAAAAAAAAAAA\n",
       "AAAAAAAAAAAAAAAAAAAAAAAAAAAAAAAAAAAAAAAAAAAv3aB7AAAAD3RSTlMAZrurzTLvInZEmRDd\n",
       "VIkafcLnAAAACXBIWXMAAA7EAAAOxAGVKw4bAAAAb0lEQVQI12NgYBD6b2zsFMAABEkMDMxfgTT7\n",
       "DwYGzl9ABiOQxwjkMDB/YGBgSQcy2BQYuG1AiuM1OkwEQJr6Cxh4E0EMNSB+D5L6DMTyDQwMrB+B\n",
       "DPsJDAwc34GcL0AOSwIDwzRvoHH6n41NdBkYAF/iFeJ4bEa2AAAAAElFTkSuQmCC\n",
       "\" style=\"display:inline;vertical-align:middle;\" /></a> : <a class=\"ProveItLink\" href=\"../../../../__pv_it/common/e0f123f2e4f322e1eba7f861749cda9fd9d99a120/expr.ipynb\"><img src=\"data:image/png;base64,iVBORw0KGgoAAAANSUhEUgAAAA4AAAAPBAMAAAAmOuNHAAAAHlBMVEX///8AAAAAAAAAAAAAAAAA\n",
       "AAAAAAAAAAAAAAAAAACGjDitAAAACXRSTlMARGZUdpnd76sKo+zpAAAACXBIWXMAAA7EAAAOxAGV\n",
       "Kw4bAAAAGElEQVQI12NgQAAhKG1CSzosLa08LS0DAJuOBVCdynDUAAAAAElFTkSuQmCC\n",
       "\" style=\"display:inline;vertical-align:middle;\" /></a></span></td></tr><tr><td><a name=\"-0x6e27bac5b4c08f32_step3\">3</a></td><td>theorem</td><td></td><td><span style=\"font-size:20px;\"> <a class=\"ProveItLink\" href=\"../not_iff_via_not_right_impl/thm_proof.ipynb\" style=\"text-decoration: none\">&nbsp;&#x22A2;&nbsp;&nbsp;</a><a class=\"ProveItLink\" href=\"../../../__pv_it/theorems/e7cd6046acecae1b333ff18e425fc675ea4341d80/expr.ipynb\"><img src=\"data:image/png;base64,iVBORw0KGgoAAAANSUhEUgAAAPcAAAAXBAMAAAAl5sTiAAAAMFBMVEX///8AAAAAAAAAAAAAAAAA\n",
       "AAAAAAAAAAAAAAAAAAAAAAAAAAAAAAAAAAAAAAAAAAAv3aB7AAAAD3RSTlMAq1RmmUTNIjK7EInv\n",
       "3XZ/CtNrAAAACXBIWXMAAA7EAAAOxAGVKw4bAAADa0lEQVRIx7VWTWgTQRR++dnsZtOmWyii9NCA\n",
       "ggiCBaM3NUUrlioGvFQFGxERq9AWxIvaRvBSEBo8aKOHbEE8WailF83BtAdR/CFgDzk0EPUgBamp\n",
       "2tofbH0zbzbd7G6okPrg7e4385hv5r1vZhZgU0yuCBytR/jm2Gc7kGOVw88J1xjYXiW3e9QOfEWH\n",
       "QE9qrn7LEASbgXsra7tUJfkTB7DHiRxqEgBNcejCT/TbLEOJKskPO4CW306R/QWAzgiE8RPdpwME\n",
       "QlWSZ+wgcGNRYKy9ohmdh+LoBahBVnQPpt5XbcljdtAX/EGY1RaGjN4m9Ks94GOs6O/z+bdVkntH\n",
       "7SDi/kl4gOtAF71vAIZzmBeN/BjAQ96uW0Y0g53sodpYC/RiaygZASmkrHCovMujTXdRp7I0++kC\n",
       "U32MvBdkXhH1NU30V7otzj785h0SZc+n8fUWJdU+PmRMsBY1c4JxTAnApi7P8b4ZWtMAySqIKtyN\n",
       "s3NnyP16gA8doBp5shDMWMmH+fOlWZcHAL6BRCmuiYrG3hKYOdKyxCcspKZO8Jcfhw6gEpUiubtA\n",
       "euv4wF+uCHiKVnJ+GEh3Kct0IjWgavledSRXMfQPP+caqec6TbMO5+JZxbEy5BA7SPU7TwOFYKTZ\n",
       "Sp7lKfPRKlz8VJ4E9SPAWCntJXIOWD2mKZN5bjkKGMShXfO44iw5jPHpB+EonQJfwlvBQk7HdMEb\n",
       "g+fJZPI+E4e8urcFJbCDQoXw4JoBTqF3U1uYq1BcI9/xPcjEliCHm3xBHVhCqqXaYCJnbFmJhUnx\n",
       "oDhLAq1cGsMRgNPUoJmyxIDMIlNE6IoadWNbHMd5pdN+5HvSxUXcnm7SRS37o+Ur19xscG/62bJI\n",
       "RKPOpCHPi00MStZEjkBNLeiwa+0KSS22fn5vW6uvv8zKUhslF+cQcsapltBp2WqakuB7Wl7kiUg+\n",
       "ImlIi0baIWfe/DmHy9tyhsAt4WRYpLqQOgryMqhTlppHmOAklAptxgDTY78OI5j2WVNdDQv/401U\n",
       "uo28E6CevKhMwv6VdFvIKjh4AHBcg8cLPFF3mIa70+P3qIPHmn9L/Bv/o7Ay2K5St3kM0/dZc5Ap\n",
       "hWqi/G0HzsbmZ5vjmQrk3gqLKbX3mVv7NiT/KrzMmiuQwwvnQfbBf7Kyf1DVOUavjuIvGEDamhz/\n",
       "7DoAAAAASUVORK5CYII=\n",
       "\" style=\"display:inline;vertical-align:middle;\" /></a></span></td></tr>\n",
       "<tr><td>&nbsp;</td><td colspan=4 style-\"text-align:left\"><a class=\"ProveItLink\" href=\"../not_iff_via_not_right_impl/thm_proof.ipynb\">proveit.logic.booleans.implication.not_iff_via_not_right_impl</a></td></tr><tr><td><a name=\"-0x6e27bac5b4c08f32_step4\">4</a></td><td>instantiation</td><td><a href=\"#-0x6e27bac5b4c08f32_step5\">5</a>, <a href=\"#-0x6e27bac5b4c08f32_step6\">6</a></td><td><span style=\"font-size:20px;\"> <a class=\"ProveItLink\" href=\"../../../__pv_it/_proof_iff_t_f/4fe1324998ded92c792e5d56a419ffba60b8d6b30/proof.ipynb\" style=\"text-decoration: none\">&nbsp;&#x22A2;&nbsp;&nbsp;</a><a class=\"ProveItLink\" href=\"../../../__pv_it/_proof_iff_t_f/926f262a63c17948e02e4b17d15c7359c2dde4910/expr.ipynb\"><img src=\"data:image/png;base64,iVBORw0KGgoAAAANSUhEUgAAAF4AAAAVBAMAAAA9Y0TyAAAAMFBMVEX///8AAAAAAAAAAAAAAAAA\n",
       "AAAAAAAAAAAAAAAAAAAAAAAAAAAAAAAAAAAAAAAAAAAv3aB7AAAAD3RSTlMAmd0iq3ZUiRDNZu9E\n",
       "uzLWhN+VAAAACXBIWXMAAA7EAAAOxAGVKw4bAAAA6ElEQVQoz2NgQAADBgKAGYXHmkBIPU8AMi+d\n",
       "gVEJDBywKV0AIqOQRDgmgEi2AOxGQ8Q5GxAijAsIq+cSQIhwM2Cqv4GmnmEHQi4Ti/q36OpnIeTE\n",
       "sajnKkBTX4KQm4WiHhpUH9HUr2QQAgkrAplqWMxnYJuGqj4bwjMB4j3Y1DN07kFR/56AeubpBijq\n",
       "TyPUq2Fzv6YBqnuSIDxDIL6KxXyeC2j+XYuQK8Gi3hI9/MURco+Q0hUM3IM7TnsTOB3qIOSYHmCm\n",
       "GvQcwayAFJcCDAQBI7Ltlwmrt0Xm9BJWj2IkcwAh5awGDAA4oCrYOpBMiwAAAABJRU5ErkJggg==\n",
       "\" style=\"display:inline;vertical-align:middle;\" /></a></span></td></tr>\n",
       "<tr><td>&nbsp;</td><td colspan=4 style=\"text-align:left\"><span style=\"font-size:20px;\"><a class=\"ProveItLink\" href=\"../../../../../../__pv_it/common/09585084922504426caf1db2ff588a23a0932a960/expr.ipynb\"><img src=\"data:image/png;base64,iVBORw0KGgoAAAANSUhEUgAAAA8AAAAPBAMAAADJ+Ih5AAAAMFBMVEX///8AAAAAAAAAAAAAAAAA\n",
       "AAAAAAAAAAAAAAAAAAAAAAAAAAAAAAAAAAAAAAAAAAAv3aB7AAAAD3RSTlMAIs1UmauJMnZmRLsQ\n",
       "3e++988cAAAACXBIWXMAAA7EAAAOxAGVKw4bAAAAXklEQVQI12NgAAEhBijQh9LM/6EMlngBCCMx\n",
       "vwBMMzb0G0BkGOwngBmLGeoTwAwHBvkAEM2xxSV+A4hxgoGB/wJEhoH3AZDmAupg+gBkyAEx90cG\n",
       "htP/dRiY939KAABt3hLO6mcEjQAAAABJRU5ErkJggg==\n",
       "\" style=\"display:inline;vertical-align:middle;\" /></a> : <a class=\"ProveItLink\" href=\"../../../__pv_it/axioms/ee4d1a1dc45be86e6f924dd503c0ffce88399e540/expr.ipynb\"><img src=\"data:image/png;base64,iVBORw0KGgoAAAANSUhEUgAAAD8AAAAQBAMAAABTi7oPAAAAMFBMVEX///8AAAAAAAAAAAAAAAAA\n",
       "AAAAAAAAAAAAAAAAAAAAAAAAAAAAAAAAAAAAAAAAAAAv3aB7AAAAD3RSTlMAmd2rVHZEZrsQMonN\n",
       "7yLSt414AAAACXBIWXMAAA7EAAAOxAGVKw4bAAAAX0lEQVQoz2NgIASElEBAGZsUWwGU4YpDL0sA\n",
       "WQo4JhBQwNVAyIpq3AogHtIXIORIHwcCCjjPJuBX8GYffjconSPghgwC3uQ7gKkgHSUkF0BoRiUl\n",
       "3UtKSgYYEcCHxgcAtD4UPfxCOVQAAAAASUVORK5CYII=\n",
       "\" style=\"display:inline;vertical-align:middle;\" /></a></span></td></tr><tr><td><a name=\"-0x6e27bac5b4c08f32_step5\">5</a></td><td>theorem</td><td></td><td><span style=\"font-size:20px;\"> <a class=\"ProveItLink\" href=\"../../../../negation/_theory_nbs_/proofs/negation_intro/thm_proof.ipynb\" style=\"text-decoration: none\">&nbsp;&#x22A2;&nbsp;&nbsp;</a><a class=\"ProveItLink\" href=\"../../../../negation/__pv_it/theorems/6d52edb7489198a819b30fa49358832bc6fbae820/expr.ipynb\"><img src=\"data:image/png;base64,iVBORw0KGgoAAAANSUhEUgAAAIUAAAAXBAMAAADXWpFHAAAAMFBMVEX///8AAAAAAAAAAAAAAAAA\n",
       "AAAAAAAAAAAAAAAAAAAAAAAAAAAAAAAAAAAAAAAAAAAv3aB7AAAAD3RSTlMAq1RmmUTNIjK7EInv\n",
       "3XZ/CtNrAAAACXBIWXMAAA7EAAAOxAGVKw4bAAABz0lEQVQ4y2NgIA2wowsUMJAMHqEYmMDAEAek\n",
       "BUAcZWKNYNqAzGP7wMDAZ8DA4AripBNrxjIUnj7QDIYsBoZGkJsmEGuGMwrP8TuQMAG6ZwEDA7cC\n",
       "sWYcQOZwV/8AkjwLGJiB/mEjOjgSkHl1fJ9AgQI04Ozdu6eJNYMFJUgdmD6DXAOMFQ8GhllgoQUQ\n",
       "ZTAVXFjMANkJB6wKHL+BFDPQbYUM7OD45ToBluGEKVnTgGQjlOYFBpzvXSC4AraN/SPIf8Aw4lzA\n",
       "HQAOoU+oZuxHCmhYvPEEQBmFQPzSxfEnkOIARjDTA0iQRpxDMYO15wF+M7iA8n9BCkFxlWAHFn6Q\n",
       "iGIGH5sAphm8CggzQAF3B+SXC0BiUxZYD4MbihkPWBIYPGcCgQGSGZwwt5UwMAQDqXxQmIIka8AW\n",
       "RjC8QTaDtYHvAKY7uBFuYwdJzy+AxjcjOAK8d8svQDKDZffGX5hmcFyAx/z8bwsYNP9nA/0HCyOg\n",
       "VxjqG5DMeMDA/gPTLww3MNNMLZwF9B2/AsIMVqDOT5juAGUwnNmQ5SADl38qwgwfAYYl36CO5J45\n",
       "8+TMedBAxSi2sOV5TrwZhgtDB2cBqWYw1KELPGcg2QzyCm7CAACM/mSyha+m5AAAAABJRU5ErkJg\n",
       "gg==\n",
       "\" style=\"display:inline;vertical-align:middle;\" /></a></span></td></tr>\n",
       "<tr><td>&nbsp;</td><td colspan=4 style-\"text-align:left\"><a class=\"ProveItLink\" href=\"../../../../negation/_theory_nbs_/proofs/negation_intro/thm_proof.ipynb\">proveit.logic.booleans.negation.negation_intro</a></td></tr><tr><td><a name=\"-0x6e27bac5b4c08f32_step6\">6</a></td><td>axiom</td><td></td><td><span style=\"font-size:20px;\"> <a class=\"ProveItLink\" href=\"../../axioms.ipynb#implies_t_f\" style=\"text-decoration: none\">&nbsp;&#x22A2;&nbsp;&nbsp;</a><a class=\"ProveItLink\" href=\"../../../__pv_it/axioms/aac2148bd08007417c156444654d2678db44244f0/expr.ipynb\"><img src=\"data:image/png;base64,iVBORw0KGgoAAAANSUhEUgAAAHoAAAAVBAMAAAB71edYAAAAMFBMVEX///8AAAAAAAAAAAAAAAAA\n",
       "AAAAAAAAAAAAAAAAAAAAAAAAAAAAAAAAAAAAAAAAAAAv3aB7AAAAD3RSTlMAInZUiRDNmWbv3US7\n",
       "qzJazP2FAAAACXBIWXMAAA7EAAAOxAGVKw4bAAAA8ElEQVQ4y2NgYBBgIATwqGAyIKh7E24pEwaG\n",
       "qlUgsBab7A6wBQ24ZFgTwGwjHGZDxFNxybA3EKG7HZcMJwOm7qPoujkDcOg2w6L7DbputgYcukuw\n",
       "6OZwQNPNcgGH7gwU3ezg0F/1HU03BzhoUaMGLLMYi90MzMmoupkn4LB7NjbdDGGzUXTzfSBFN2OK\n",
       "AIpublx2L8bm72UCaC5fgMPfh7DYzX0APdQO4LDbF4tuMfT4ZnfAofsVUpqHgXNQGujUmWCncm1A\n",
       "0wqT4XpARH6WwpVBOQoYCIMKnDIHCWtmPIBTKoawbh7cRROjAkHdirgkAD2cQqjL4NQdAAAAAElF\n",
       "TkSuQmCC\n",
       "\" style=\"display:inline;vertical-align:middle;\" /></a></span></td></tr>\n",
       "<tr><td>&nbsp;</td><td colspan=4 style-\"text-align:left\"><a class=\"ProveItLink\" href=\"../../axioms.ipynb#implies_t_f\">proveit.logic.booleans.implication.implies_t_f</a></td></tr></table>"
      ],
      "text/plain": [
       "\tstep type\trequirements\tstatement\n",
       "0\tinstantiation\t1, 2\t|- (TRUE <=> FALSE) = FALSE\n",
       "\tA : TRUE <=> FALSE\n",
       "1\taxiom\t\t|- forall_{A | [not](A)} (A = FALSE)\n",
       "\tproveit.logic.booleans.negation.negation_elim\n",
       "2\tinstantiation\t3, 4\t|- [not](TRUE <=> FALSE)\n",
       "\tA : TRUE, B : FALSE\n",
       "3\ttheorem\t\t|- forall_{A, B | [not](A => B)} [not](A <=> B)\n",
       "\tproveit.logic.booleans.implication.not_iff_via_not_right_impl\n",
       "4\tinstantiation\t5, 6\t|- [not](TRUE => FALSE)\n",
       "\tA : TRUE => FALSE\n",
       "5\ttheorem\t\t|- forall_{A | A = FALSE} [not](A)\n",
       "\tproveit.logic.booleans.negation.negation_intro\n",
       "6\taxiom\t\t|- (TRUE => FALSE) = FALSE\n",
       "\tproveit.logic.booleans.implication.implies_t_f"
      ]
     },
     "execution_count": 3,
     "metadata": {},
     "output_type": "execute_result"
    }
   ],
   "source": [
    "%qed"
   ]
  },
  {
   "cell_type": "code",
   "execution_count": null,
   "metadata": {},
   "outputs": [],
   "source": []
  }
 ],
 "metadata": {
  "kernelspec": {
   "display_name": "Python 3",
   "language": "python",
   "name": "python3"
  }
 },
 "nbformat": 4,
 "nbformat_minor": 0
}