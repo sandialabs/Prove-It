{
 "cells": [
  {
   "cell_type": "markdown",
   "metadata": {},
   "source": [
    "Proof of <a class=\"ProveItLink\" href=\"../../../../../../_theory_nbs_/theory.ipynb\">proveit</a>.<a class=\"ProveItLink\" href=\"../../../../../_theory_nbs_/theory.ipynb\">logic</a>.<a class=\"ProveItLink\" href=\"../../../../_theory_nbs_/theory.ipynb\">booleans</a>.<a class=\"ProveItLink\" href=\"../../theory.ipynb\">implication</a>.<a class=\"ProveItLink\" href=\"../../theorems.ipynb#double_negate_consequent\">double_negate_consequent</a> theorem\n",
    "========"
   ]
  },
  {
   "cell_type": "code",
   "execution_count": 1,
   "metadata": {},
   "outputs": [],
   "source": [
    "import proveit\n",
    "theory = proveit.Theory() # the theorem's theory"
   ]
  },
  {
   "cell_type": "code",
   "execution_count": 2,
   "metadata": {},
   "outputs": [
    {
     "data": {
      "text/html": [
       "With these <a href=\"allowed_presumptions.txt\">allowed</a>/<a href=\"disallowed_presumptions.txt\">disallowed</a> theorem/theory presumptions (e.g., to avoid circular dependencies), we begin our proof of<br><strong id=\"double_negate_consequent\">double_negate_consequent:</strong> <a class=\"ProveItLink\" href=\"../../../__pv_it/theorems/c12dc5d54ae46a4f62166bb806e472d3b1b590770/expr.ipynb\"><img src=\"data:image/png;base64,iVBORw0KGgoAAAANSUhEUgAAAP0AAAAXBAMAAAAyxFQrAAAAMFBMVEX///8AAAAAAAAAAAAAAAAA\n",
       "AAAAAAAAAAAAAAAAAAAAAAAAAAAAAAAAAAAAAAAAAAAv3aB7AAAAD3RSTlMAq1RmmUTNIjK7EInv\n",
       "3XZ/CtNrAAAACXBIWXMAAA7EAAAOxAGVKw4bAAADJElEQVRIx71WTUhUURT+nL8380bHESSKFg60\n",
       "CoKEpJ01YkZikdBGWuRURKSCE0SbSidoEwQNLcKpxTwhWiVYuIlZNAlFEYWQhIuEqRYRRI2l5g9p\n",
       "9+e9uWfemxlspA58vsP97pzv3nPOvVdgE6ZtjHNMixNsxj7K8LHynN2VdoIgzAd2VCXvGhcfX748\n",
       "Z3Pd6bmGLSMINaOADj5+tir9+/KzO1+es7moTQJNCfQx18RVnsFkVfrt8tP2qzxnczGcA3qjaGGu\n",
       "CZ8BBCNV6WfF3+ClJTV0p5izu9ifYMihlomacLMa+Korv+y7odAPNXa9mLO5LPcMA3H4uKiJ17Oz\n",
       "r6rS98i+irp+qjH3eBFnc4GXwOgMy1lY4ZCVNcMW3nL0Mvp88YA34l8V02eFzVPO7sK//O3Dab7M\n",
       "mMJ5aOIM6i9kBucznQnuBKwfPUiQAOmuiRHTr4vIZWpztCinCtwRvp5p6iLEWnUXW48rqxAwgt2i\n",
       "j2QZ3VMIZYv0n9DubAW+WmdJ/OzLgbblooP3THHguyMuAixykLWrP6/gysn263kjPjVRuPNU33sj\n",
       "B3VHNbL+pfo6I3/Ta7c/XkG/nmXavcZiZhUQ2yfo3EkZNYKxZqof8oXlwkTgSehvaf55l7wn9X8X\n",
       "J7URosTFTRa5ZoHteUoBj/qEDA7KG+JTy1ZQ/ZwnhsepVOo27w9tbU+b1Q4BnpdjDINq+94k4bhd\n",
       "oC6+s9Xd5H2XVMBlsb8es66t0BupvjcRMi+QYIfojtGoGY8fHo1zafWOXSSc08UAi/fckGfSAmrE\n",
       "hroyTYZZ4OFuou/JPFwxS7vd4N2hLVhnYQp6etHAzvX+gsCI4uB0t603NJzj5ajrVjCrzGQTssDo\n",
       "pecvB21J5D91V3aHt3DdzjjvhHgJrsS0KwTSWB3rI/o4tBXo0yT/XtYx8mAGeVcOGxiz8i9ekHLW\n",
       "UtKlT1I7fZo8T6EfPeOfxN7VTGeE6B8O496iyNI1fjkMZiZuFaIEKvz/QjjnNP7eWih+UmgEG2c4\n",
       "NPQKzzbhnNP4iiwU2fEK+iVsaGOcY9pngiJr/jv9f2raf1H5Awrm4C5l63aIAAAAAElFTkSuQmCC\n",
       "\" style=\"display:inline;vertical-align:middle;\" /></a><br>(see <a class=\"ProveItLink\" href=\"../../../__pv_it/theorems/1c40c94df8b3525e25b0b3c28e70126f9202c9830/dependencies.ipynb\">dependencies</a>)<br>"
      ],
      "text/plain": [
       "<IPython.core.display.HTML object>"
      ]
     },
     "metadata": {},
     "output_type": "display_data"
    }
   ],
   "source": [
    "%proving double_negate_consequent"
   ]
  },
  {
   "cell_type": "code",
   "execution_count": 3,
   "metadata": {},
   "outputs": [
    {
     "data": {
      "text/html": [
       "<span style=\"font-size:20px;\"><a class=\"ProveItLink\" href=\"../../../__pv_it/theorems/d78c7a0a66f0f0f40e69d505fb93268ea9af46dc0/expr.ipynb\"><img src=\"data:image/png;base64,iVBORw0KGgoAAAANSUhEUgAAAEAAAAAQBAMAAABUyWQaAAAAMFBMVEX///8AAAAAAAAAAAAAAAAA\n",
       "AAAAAAAAAAAAAAAAAAAAAAAAAAAAAAAAAAAAAAAAAAAv3aB7AAAAD3RSTlMAIs1UmauJMnZmRLsQ\n",
       "3e++988cAAAACXBIWXMAAA7EAAAOxAGVKw4bAAAA8UlEQVQoz2NgAAEhBgJAH5vg7P+hodoFYCbz\n",
       "f6zaXjMwsH4Hs1jiBbDIM/5gYOD6AmYm5hcgxPfAGJxA3Zw/wEob+g0QCqphDNYPDAxMD8E2MNhP\n",
       "QCjgTIAy+DYw8MSCjV7MUA8WZLkLBl+gCup3dARBNDowyAcgOY5ZGUL3CzAwvwQxOLa4xG9Adv6h\n",
       "V2BqHxCDXX+CgYH/ArL31CCe/grE8xvANjDwPkBywyWIPPtPIBG/ABgWQIcwfUAYwAW1juMjUNEn\n",
       "IEMOiLk/IhTAIo4JaOo6HQaG0/91GJj3f0qAK9gODab9X0ODNmOLIrRoAQDyg0EOXpubEgAAAABJ\n",
       "RU5ErkJggg==\n",
       "\" style=\"display:inline;vertical-align:middle;\" /></a> <a class=\"ProveItLink\" href=\"../../../__pv_it/_proof_double_negate_consequent/0fbf258e20873cd5d36d97a4993213c19b373d450/proof.ipynb\" style=\"text-decoration: none\">&nbsp;&#x22A2;&nbsp;&nbsp;</a><a class=\"ProveItLink\" href=\"../../../__pv_it/theorems/27494681981932645ad1764586726e5e5b0c92fc0/expr.ipynb\"><img src=\"data:image/png;base64,iVBORw0KGgoAAAANSUhEUgAAAHsAAAAVBAMAAACUF4xmAAAAMFBMVEX///8AAAAAAAAAAAAAAAAA\n",
       "AAAAAAAAAAAAAAAAAAAAAAAAAAAAAAAAAAAAAAAAAAAv3aB7AAAAD3RSTlMAIs1UmauJMnZmRLsQ\n",
       "3e++988cAAAACXBIWXMAAA7EAAAOxAGVKw4bAAABpElEQVQ4y32TP0hCURTGP1PT578e7ZUQBJFQ\n",
       "NLTmEEGbCI6hDc25R2hbmw5tDQktTWEU5BAZTYGL1BzYmC0qSjXZue/c573QfX3weX4c73ffefe9\n",
       "B3jLNqJqTJqzpnR4zYRSl9KOVk3xDSOejXO5lSLCVTgW8o8N6VjShMAnEPwCUmCTAnn7bzxQNSF8\n",
       "30BkCJyCTdo7KKr/72VNqJaGsOjKFm2ReGTThuWKdjSHsq6rloYI9oCpd3KVTbNhU5vOKnDdVi0N\n",
       "kagjtkvDTmfYwAVKTiTw5mjI65ZVREOUGidZcTEryQbSWMhoC/yLTnl190vriIoN/4dY1WEjfLuV\n",
       "r+tn/tQVv133qDM64oGqOOlQj41nYKatpX1L9j/xEdXzMj28DptmR7yj3fuL7Q7vZjQM/VDN12jw\n",
       "NjsinkBPXTwib6ThZtI6hvs080AcXZ09Txztq7j7+eyrloZTNOeVeFkDBcetcQr+5qAwWXAn65HK\n",
       "KAw2R7nsjaB4je31lcfVi6zhRHPSXrLSJpxoR9pT10Z0T7HO9lbLiFJRm+0tX9mEUsfsXzxGdi48\n",
       "OI9kAAAAAElFTkSuQmCC\n",
       "\" style=\"display:inline;vertical-align:middle;\" /></a></span>"
      ],
      "text/plain": [
       "{A => B} |- A => [not]([not](B))"
      ]
     },
     "metadata": {},
     "output_type": "display_data"
    },
    {
     "name": "stdout",
     "output_type": "stream",
     "text": [
      "double_negate_consequent may now be readily provable (assuming required theorems are usable).  Simply execute \"%qed\".\n"
     ]
    }
   ],
   "source": [
    "double_negate_consequent.instance_expr.prove(\n",
    "    assumptions=double_negate_consequent.conditions)"
   ]
  },
  {
   "cell_type": "code",
   "execution_count": 4,
   "metadata": {},
   "outputs": [
    {
     "name": "stdout",
     "output_type": "stream",
     "text": [
      "proveit.logic.booleans.implication.double_negate_consequent has been proven.\n"
     ]
    },
    {
     "data": {
      "text/html": [
       "<table><tr><th>&nbsp;</th><th>step type</th><th>requirements</th><th>statement</th></tr>\n",
       "<tr><td><a name=\"-0x72487574e90670d6_step0\">0</a></td><td>generalization</td><td><a href=\"#-0x72487574e90670d6_step1\">1</a></td><td><span style=\"font-size:20px;\"> <a class=\"ProveItLink\" href=\"../../../__pv_it/_proof_double_negate_consequent/268cbdc8e7856539a4cc16570c4ad0edbfb840170/proof.ipynb\" style=\"text-decoration: none\">&nbsp;&#x22A2;&nbsp;&nbsp;</a><a class=\"ProveItLink\" href=\"../../../__pv_it/theorems/c12dc5d54ae46a4f62166bb806e472d3b1b590770/expr.ipynb\"><img src=\"data:image/png;base64,iVBORw0KGgoAAAANSUhEUgAAAP0AAAAXBAMAAAAyxFQrAAAAMFBMVEX///8AAAAAAAAAAAAAAAAA\n",
       "AAAAAAAAAAAAAAAAAAAAAAAAAAAAAAAAAAAAAAAAAAAv3aB7AAAAD3RSTlMAq1RmmUTNIjK7EInv\n",
       "3XZ/CtNrAAAACXBIWXMAAA7EAAAOxAGVKw4bAAADJElEQVRIx71WTUhUURT+nL8380bHESSKFg60\n",
       "CoKEpJ01YkZikdBGWuRURKSCE0SbSidoEwQNLcKpxTwhWiVYuIlZNAlFEYWQhIuEqRYRRI2l5g9p\n",
       "9+e9uWfemxlspA58vsP97pzv3nPOvVdgE6ZtjHNMixNsxj7K8LHynN2VdoIgzAd2VCXvGhcfX748\n",
       "Z3Pd6bmGLSMINaOADj5+tir9+/KzO1+es7moTQJNCfQx18RVnsFkVfrt8tP2qzxnczGcA3qjaGGu\n",
       "CZ8BBCNV6WfF3+ClJTV0p5izu9ifYMihlomacLMa+Korv+y7odAPNXa9mLO5LPcMA3H4uKiJ17Oz\n",
       "r6rS98i+irp+qjH3eBFnc4GXwOgMy1lY4ZCVNcMW3nL0Mvp88YA34l8V02eFzVPO7sK//O3Dab7M\n",
       "mMJ5aOIM6i9kBucznQnuBKwfPUiQAOmuiRHTr4vIZWpztCinCtwRvp5p6iLEWnUXW48rqxAwgt2i\n",
       "j2QZ3VMIZYv0n9DubAW+WmdJ/OzLgbblooP3THHguyMuAixykLWrP6/gysn263kjPjVRuPNU33sj\n",
       "B3VHNbL+pfo6I3/Ta7c/XkG/nmXavcZiZhUQ2yfo3EkZNYKxZqof8oXlwkTgSehvaf55l7wn9X8X\n",
       "J7URosTFTRa5ZoHteUoBj/qEDA7KG+JTy1ZQ/ZwnhsepVOo27w9tbU+b1Q4BnpdjDINq+94k4bhd\n",
       "oC6+s9Xd5H2XVMBlsb8es66t0BupvjcRMi+QYIfojtGoGY8fHo1zafWOXSSc08UAi/fckGfSAmrE\n",
       "hroyTYZZ4OFuou/JPFwxS7vd4N2hLVhnYQp6etHAzvX+gsCI4uB0t603NJzj5ajrVjCrzGQTssDo\n",
       "pecvB21J5D91V3aHt3DdzjjvhHgJrsS0KwTSWB3rI/o4tBXo0yT/XtYx8mAGeVcOGxiz8i9ekHLW\n",
       "UtKlT1I7fZo8T6EfPeOfxN7VTGeE6B8O496iyNI1fjkMZiZuFaIEKvz/QjjnNP7eWih+UmgEG2c4\n",
       "NPQKzzbhnNP4iiwU2fEK+iVsaGOcY9pngiJr/jv9f2raf1H5Awrm4C5l63aIAAAAAElFTkSuQmCC\n",
       "\" style=\"display:inline;vertical-align:middle;\" /></a></span></td></tr>\n",
       "<tr><td><a name=\"-0x72487574e90670d6_step1\">1</a></td><td>deduction</td><td><a href=\"#-0x72487574e90670d6_step2\">2</a></td><td><span style=\"font-size:20px;\"><a class=\"ProveItLink\" href=\"../../../__pv_it/theorems/d78c7a0a66f0f0f40e69d505fb93268ea9af46dc0/expr.ipynb\"><img src=\"data:image/png;base64,iVBORw0KGgoAAAANSUhEUgAAAEAAAAAQBAMAAABUyWQaAAAAMFBMVEX///8AAAAAAAAAAAAAAAAA\n",
       "AAAAAAAAAAAAAAAAAAAAAAAAAAAAAAAAAAAAAAAAAAAv3aB7AAAAD3RSTlMAIs1UmauJMnZmRLsQ\n",
       "3e++988cAAAACXBIWXMAAA7EAAAOxAGVKw4bAAAA8UlEQVQoz2NgAAEhBgJAH5vg7P+hodoFYCbz\n",
       "f6zaXjMwsH4Hs1jiBbDIM/5gYOD6AmYm5hcgxPfAGJxA3Zw/wEob+g0QCqphDNYPDAxMD8E2MNhP\n",
       "QCjgTIAy+DYw8MSCjV7MUA8WZLkLBl+gCup3dARBNDowyAcgOY5ZGUL3CzAwvwQxOLa4xG9Adv6h\n",
       "V2BqHxCDXX+CgYH/ArL31CCe/grE8xvANjDwPkBywyWIPPtPIBG/ABgWQIcwfUAYwAW1juMjUNEn\n",
       "IEMOiLk/IhTAIo4JaOo6HQaG0/91GJj3f0qAK9gODab9X0ODNmOLIrRoAQDyg0EOXpubEgAAAABJ\n",
       "RU5ErkJggg==\n",
       "\" style=\"display:inline;vertical-align:middle;\" /></a> <a class=\"ProveItLink\" href=\"../../../__pv_it/_proof_double_negate_consequent/0fbf258e20873cd5d36d97a4993213c19b373d450/proof.ipynb\" style=\"text-decoration: none\">&nbsp;&#x22A2;&nbsp;&nbsp;</a><a class=\"ProveItLink\" href=\"../../../__pv_it/theorems/27494681981932645ad1764586726e5e5b0c92fc0/expr.ipynb\"><img src=\"data:image/png;base64,iVBORw0KGgoAAAANSUhEUgAAAHsAAAAVBAMAAACUF4xmAAAAMFBMVEX///8AAAAAAAAAAAAAAAAA\n",
       "AAAAAAAAAAAAAAAAAAAAAAAAAAAAAAAAAAAAAAAAAAAv3aB7AAAAD3RSTlMAIs1UmauJMnZmRLsQ\n",
       "3e++988cAAAACXBIWXMAAA7EAAAOxAGVKw4bAAABpElEQVQ4y32TP0hCURTGP1PT578e7ZUQBJFQ\n",
       "NLTmEEGbCI6hDc25R2hbmw5tDQktTWEU5BAZTYGL1BzYmC0qSjXZue/c573QfX3weX4c73ffefe9\n",
       "B3jLNqJqTJqzpnR4zYRSl9KOVk3xDSOejXO5lSLCVTgW8o8N6VjShMAnEPwCUmCTAnn7bzxQNSF8\n",
       "30BkCJyCTdo7KKr/72VNqJaGsOjKFm2ReGTThuWKdjSHsq6rloYI9oCpd3KVTbNhU5vOKnDdVi0N\n",
       "kagjtkvDTmfYwAVKTiTw5mjI65ZVREOUGidZcTEryQbSWMhoC/yLTnl190vriIoN/4dY1WEjfLuV\n",
       "r+tn/tQVv133qDM64oGqOOlQj41nYKatpX1L9j/xEdXzMj28DptmR7yj3fuL7Q7vZjQM/VDN12jw\n",
       "NjsinkBPXTwib6ThZtI6hvs080AcXZ09Txztq7j7+eyrloZTNOeVeFkDBcetcQr+5qAwWXAn65HK\n",
       "KAw2R7nsjaB4je31lcfVi6zhRHPSXrLSJpxoR9pT10Z0T7HO9lbLiFJRm+0tX9mEUsfsXzxGdi48\n",
       "OI9kAAAAAElFTkSuQmCC\n",
       "\" style=\"display:inline;vertical-align:middle;\" /></a></span></td></tr>\n",
       "<tr><td><a name=\"-0x72487574e90670d6_step2\">2</a></td><td>instantiation</td><td><a href=\"#-0x72487574e90670d6_step3\">3</a>, <a href=\"#-0x72487574e90670d6_step4\">4</a></td><td><span style=\"font-size:20px;\"><a class=\"ProveItLink\" href=\"../../../__pv_it/theorems/d78c7a0a66f0f0f40e69d505fb93268ea9af46dc0/expr.ipynb\"><img src=\"data:image/png;base64,iVBORw0KGgoAAAANSUhEUgAAAEAAAAAQBAMAAABUyWQaAAAAMFBMVEX///8AAAAAAAAAAAAAAAAA\n",
       "AAAAAAAAAAAAAAAAAAAAAAAAAAAAAAAAAAAAAAAAAAAv3aB7AAAAD3RSTlMAIs1UmauJMnZmRLsQ\n",
       "3e++988cAAAACXBIWXMAAA7EAAAOxAGVKw4bAAAA8UlEQVQoz2NgAAEhBgJAH5vg7P+hodoFYCbz\n",
       "f6zaXjMwsH4Hs1jiBbDIM/5gYOD6AmYm5hcgxPfAGJxA3Zw/wEob+g0QCqphDNYPDAxMD8E2MNhP\n",
       "QCjgTIAy+DYw8MSCjV7MUA8WZLkLBl+gCup3dARBNDowyAcgOY5ZGUL3CzAwvwQxOLa4xG9Adv6h\n",
       "V2BqHxCDXX+CgYH/ArL31CCe/grE8xvANjDwPkBywyWIPPtPIBG/ABgWQIcwfUAYwAW1juMjUNEn\n",
       "IEMOiLk/IhTAIo4JaOo6HQaG0/91GJj3f0qAK9gODab9X0ODNmOLIrRoAQDyg0EOXpubEgAAAABJ\n",
       "RU5ErkJggg==\n",
       "\" style=\"display:inline;vertical-align:middle;\" /></a>, <a class=\"ProveItLink\" href=\"../../../../../../__pv_it/common/09585084922504426caf1db2ff588a23a0932a960/expr.ipynb\"><img src=\"data:image/png;base64,iVBORw0KGgoAAAANSUhEUgAAAA8AAAAPBAMAAADJ+Ih5AAAAMFBMVEX///8AAAAAAAAAAAAAAAAA\n",
       "AAAAAAAAAAAAAAAAAAAAAAAAAAAAAAAAAAAAAAAAAAAv3aB7AAAAD3RSTlMAIs1UmauJMnZmRLsQ\n",
       "3e++988cAAAACXBIWXMAAA7EAAAOxAGVKw4bAAAAXklEQVQI12NgAAEhBijQh9LM/6EMlngBCCMx\n",
       "vwBMMzb0G0BkGOwngBmLGeoTwAwHBvkAEM2xxSV+A4hxgoGB/wJEhoH3AZDmAupg+gBkyAEx90cG\n",
       "htP/dRiY939KAABt3hLO6mcEjQAAAABJRU5ErkJggg==\n",
       "\" style=\"display:inline;vertical-align:middle;\" /></a> <a class=\"ProveItLink\" href=\"../../../__pv_it/_proof_double_negate_consequent/155f8be5f30b93b930f840628dd6894c2d97660e0/proof.ipynb\" style=\"text-decoration: none\">&nbsp;&#x22A2;&nbsp;&nbsp;</a><a class=\"ProveItLink\" href=\"../../../__pv_it/theorems/ee8915ed1fc3db51861a010ba5ccef3c5d2e67420/expr.ipynb\"><img src=\"data:image/png;base64,iVBORw0KGgoAAAANSUhEUgAAADoAAAAVBAMAAADlb+D4AAAAMFBMVEX///8AAAAAAAAAAAAAAAAA\n",
       "AAAAAAAAAAAAAAAAAAAAAAAAAAAAAAAAAAAAAAAAAAAv3aB7AAAAD3RSTlMAmd0iq3ZUiRDNZu9E\n",
       "uzLWhN+VAAAACXBIWXMAAA7EAAAOxAGVKw4bAAABBElEQVQoz2NggAFmBjSAIhCGLssTgGCzFcCZ\n",
       "XPe/uHjeY2CIQsh2IunivsDA4P+AgbMBLiKFJGsPNPO8AAOXAFxkA5Ls+gdADFSxA27tBCRZfyCe\n",
       "bcDAMAsmwFiAJLuXgaFFD0iXwAQ4FyAk+f6GhoC1rWQQUgICRQamBAYYk4H1MwNDNkh1NkS1CQP3\n",
       "AQYYk4EX6EL2f0D2e2yy/A7AEPkKZJ+GCYFMhsm+B5rK8gfIToIIGTLwwgLVkIEhHuiZ9yAfroW5\n",
       "k90B4ebZwBjYCQpFcbgvFOCSvv9dXOaCLdKBi+kxYABmhI6FmLKMiBDiNcCQtUUwOS5gyF5GYpui\n",
       "S7IaMAAA6uAx+eFTWNsAAAAASUVORK5CYII=\n",
       "\" style=\"display:inline;vertical-align:middle;\" /></a></span></td></tr>\n",
       "<tr><td>&nbsp;</td><td colspan=4 style=\"text-align:left\"><span style=\"font-size:20px;\"><a class=\"ProveItLink\" href=\"../../../../../../__pv_it/common/09585084922504426caf1db2ff588a23a0932a960/expr.ipynb\"><img src=\"data:image/png;base64,iVBORw0KGgoAAAANSUhEUgAAAA8AAAAPBAMAAADJ+Ih5AAAAMFBMVEX///8AAAAAAAAAAAAAAAAA\n",
       "AAAAAAAAAAAAAAAAAAAAAAAAAAAAAAAAAAAAAAAAAAAv3aB7AAAAD3RSTlMAIs1UmauJMnZmRLsQ\n",
       "3e++988cAAAACXBIWXMAAA7EAAAOxAGVKw4bAAAAXklEQVQI12NgAAEhBijQh9LM/6EMlngBCCMx\n",
       "vwBMMzb0G0BkGOwngBmLGeoTwAwHBvkAEM2xxSV+A4hxgoGB/wJEhoH3AZDmAupg+gBkyAEx90cG\n",
       "htP/dRiY939KAABt3hLO6mcEjQAAAABJRU5ErkJggg==\n",
       "\" style=\"display:inline;vertical-align:middle;\" /></a> : <a class=\"ProveItLink\" href=\"../../../../../../__pv_it/common/a9162d1c3cc0470c02e5daf414500903a7a419230/expr.ipynb\"><img src=\"data:image/png;base64,iVBORw0KGgoAAAANSUhEUgAAABAAAAAOBAMAAADUAYG5AAAAMFBMVEX///8AAAAAAAAAAAAAAAAA\n",
       "AAAAAAAAAAAAAAAAAAAAAAAAAAAAAAAAAAAAAAAAAAAv3aB7AAAAD3RSTlMAZrurzTLvInZEmRDd\n",
       "VIkafcLnAAAACXBIWXMAAA7EAAAOxAGVKw4bAAAAb0lEQVQI12NgYBD6b2zsFMAABEkMDMxfgTT7\n",
       "DwYGzl9ABiOQxwjkMDB/YGBgSQcy2BQYuG1AiuM1OkwEQJr6Cxh4E0EMNSB+D5L6DMTyDQwMrB+B\n",
       "DPsJDAwc34GcL0AOSwIDwzRvoHH6n41NdBkYAF/iFeJ4bEa2AAAAAElFTkSuQmCC\n",
       "\" style=\"display:inline;vertical-align:middle;\" /></a></span></td></tr><tr><td><a name=\"-0x72487574e90670d6_step3\">3</a></td><td>theorem</td><td></td><td><span style=\"font-size:20px;\"> <a class=\"ProveItLink\" href=\"../../../../negation/_theory_nbs_/proofs/double_negation_intro/thm_proof.ipynb\" style=\"text-decoration: none\">&nbsp;&#x22A2;&nbsp;&nbsp;</a><a class=\"ProveItLink\" href=\"../../../../negation/__pv_it/theorems/0b22d68afd7bfc707f054cfbe8b4e2370c2f148f0/expr.ipynb\"><img src=\"data:image/png;base64,iVBORw0KGgoAAAANSUhEUgAAAIoAAAAXBAMAAAAmUcrKAAAAMFBMVEX///8AAAAAAAAAAAAAAAAA\n",
       "AAAAAAAAAAAAAAAAAAAAAAAAAAAAAAAAAAAAAAAAAAAv3aB7AAAAD3RSTlMAq1RmmUTNIjK7EInv\n",
       "3XZ/CtNrAAAACXBIWXMAAA7EAAAOxAGVKw4bAAAB20lEQVQ4y52TPUsDQRCGx3wdSUy8f5CAYKOi\n",
       "lWAjKVSECAZtUlhEgghpjI0gBHL2ihZCwEJT2AREjI1FisRCEEUJgmXgwFZQLKLYxNmdvdzGLBfJ\n",
       "wHv77O3Ne8zMHUDvyCqRhybUO8JRFWJsA3hNks72w04uo0rE2ES9kubYfsPBJJBSIYarhRdfkWuX\n",
       "VXbo4OKZVCHbRbBL7hgXMwtGHVwGlYhxXTXwes/lRn+fU1tGlIgFmO/s5WnSY6Px4OQSVyIWBBOs\n",
       "wDJpAeCY3y6KQ6uVYk3biWnZZRkOLnGZIm2BxqcduOOHfuupc4PWZ3RusIjJCBCDPMsbI/mLwQR7\n",
       "OvjZ6VIVLb+1+qDLCOGj2Qgb7QHJZVJzk08dLt4909HlAmCojrwqlJrhR+Zah0vYp7crslIlxIIg\n",
       "VEMeF7rK8CyY73AxPeJDPbFSYzJ62QfygTwtlOMvTcKb7OI1wjWisj0WCXPs0S8xfaYBPox4JVKU\n",
       "XDyV8g/Rvp1qY6mVAddpE0f9AiRqA0DekFxM0L6JQkY7V8L2F1wnUaxgy6O2CyubJs//N+hC+Qdt\n",
       "/6SeGwgsrdsuizqcNRN0VrBzCl0uO0J/wt91p6REybfwHxfNVKFoZ5bU26Wf0PpJ+gXXLm1aorRU\n",
       "sAAAAABJRU5ErkJggg==\n",
       "\" style=\"display:inline;vertical-align:middle;\" /></a></span></td></tr>\n",
       "<tr><td>&nbsp;</td><td colspan=4 style-\"text-align:left\"><a class=\"ProveItLink\" href=\"../../../../negation/_theory_nbs_/proofs/double_negation_intro/thm_proof.ipynb\">proveit.logic.booleans.negation.double_negation_intro</a></td></tr><tr><td><a name=\"-0x72487574e90670d6_step4\">4</a></td><td>modus ponens</td><td><a href=\"#-0x72487574e90670d6_step5\">5</a>, <a href=\"#-0x72487574e90670d6_step6\">6</a></td><td><span style=\"font-size:20px;\"><a class=\"ProveItLink\" href=\"../../../__pv_it/theorems/d78c7a0a66f0f0f40e69d505fb93268ea9af46dc0/expr.ipynb\"><img src=\"data:image/png;base64,iVBORw0KGgoAAAANSUhEUgAAAEAAAAAQBAMAAABUyWQaAAAAMFBMVEX///8AAAAAAAAAAAAAAAAA\n",
       "AAAAAAAAAAAAAAAAAAAAAAAAAAAAAAAAAAAAAAAAAAAv3aB7AAAAD3RSTlMAIs1UmauJMnZmRLsQ\n",
       "3e++988cAAAACXBIWXMAAA7EAAAOxAGVKw4bAAAA8UlEQVQoz2NgAAEhBgJAH5vg7P+hodoFYCbz\n",
       "f6zaXjMwsH4Hs1jiBbDIM/5gYOD6AmYm5hcgxPfAGJxA3Zw/wEob+g0QCqphDNYPDAxMD8E2MNhP\n",
       "QCjgTIAy+DYw8MSCjV7MUA8WZLkLBl+gCup3dARBNDowyAcgOY5ZGUL3CzAwvwQxOLa4xG9Adv6h\n",
       "V2BqHxCDXX+CgYH/ArL31CCe/grE8xvANjDwPkBywyWIPPtPIBG/ABgWQIcwfUAYwAW1juMjUNEn\n",
       "IEMOiLk/IhTAIo4JaOo6HQaG0/91GJj3f0qAK9gODab9X0ODNmOLIrRoAQDyg0EOXpubEgAAAABJ\n",
       "RU5ErkJggg==\n",
       "\" style=\"display:inline;vertical-align:middle;\" /></a>, <a class=\"ProveItLink\" href=\"../../../../../../__pv_it/common/09585084922504426caf1db2ff588a23a0932a960/expr.ipynb\"><img src=\"data:image/png;base64,iVBORw0KGgoAAAANSUhEUgAAAA8AAAAPBAMAAADJ+Ih5AAAAMFBMVEX///8AAAAAAAAAAAAAAAAA\n",
       "AAAAAAAAAAAAAAAAAAAAAAAAAAAAAAAAAAAAAAAAAAAv3aB7AAAAD3RSTlMAIs1UmauJMnZmRLsQ\n",
       "3e++988cAAAACXBIWXMAAA7EAAAOxAGVKw4bAAAAXklEQVQI12NgAAEhBijQh9LM/6EMlngBCCMx\n",
       "vwBMMzb0G0BkGOwngBmLGeoTwAwHBvkAEM2xxSV+A4hxgoGB/wJEhoH3AZDmAupg+gBkyAEx90cG\n",
       "htP/dRiY939KAABt3hLO6mcEjQAAAABJRU5ErkJggg==\n",
       "\" style=\"display:inline;vertical-align:middle;\" /></a> <a class=\"ProveItLink\" href=\"../../../__pv_it/_proof_double_negate_consequent/de469bff272202ca9b14e93fc44fd15c09b2b0750/proof.ipynb\" style=\"text-decoration: none\">&nbsp;&#x22A2;&nbsp;&nbsp;</a><a class=\"ProveItLink\" href=\"../../../../../../__pv_it/common/a9162d1c3cc0470c02e5daf414500903a7a419230/expr.ipynb\"><img src=\"data:image/png;base64,iVBORw0KGgoAAAANSUhEUgAAABAAAAAOBAMAAADUAYG5AAAAMFBMVEX///8AAAAAAAAAAAAAAAAA\n",
       "AAAAAAAAAAAAAAAAAAAAAAAAAAAAAAAAAAAAAAAAAAAv3aB7AAAAD3RSTlMAZrurzTLvInZEmRDd\n",
       "VIkafcLnAAAACXBIWXMAAA7EAAAOxAGVKw4bAAAAb0lEQVQI12NgYBD6b2zsFMAABEkMDMxfgTT7\n",
       "DwYGzl9ABiOQxwjkMDB/YGBgSQcy2BQYuG1AiuM1OkwEQJr6Cxh4E0EMNSB+D5L6DMTyDQwMrB+B\n",
       "DPsJDAwc34GcL0AOSwIDwzRvoHH6n41NdBkYAF/iFeJ4bEa2AAAAAElFTkSuQmCC\n",
       "\" style=\"display:inline;vertical-align:middle;\" /></a></span></td></tr>\n",
       "<tr><td><a name=\"-0x72487574e90670d6_step5\">5</a></td><td>assumption</td><td></td><td><span style=\"font-size:20px;\"><a class=\"ProveItLink\" href=\"../../../__pv_it/theorems/d78c7a0a66f0f0f40e69d505fb93268ea9af46dc0/expr.ipynb\"><img src=\"data:image/png;base64,iVBORw0KGgoAAAANSUhEUgAAAEAAAAAQBAMAAABUyWQaAAAAMFBMVEX///8AAAAAAAAAAAAAAAAA\n",
       "AAAAAAAAAAAAAAAAAAAAAAAAAAAAAAAAAAAAAAAAAAAv3aB7AAAAD3RSTlMAIs1UmauJMnZmRLsQ\n",
       "3e++988cAAAACXBIWXMAAA7EAAAOxAGVKw4bAAAA8UlEQVQoz2NgAAEhBgJAH5vg7P+hodoFYCbz\n",
       "f6zaXjMwsH4Hs1jiBbDIM/5gYOD6AmYm5hcgxPfAGJxA3Zw/wEob+g0QCqphDNYPDAxMD8E2MNhP\n",
       "QCjgTIAy+DYw8MSCjV7MUA8WZLkLBl+gCup3dARBNDowyAcgOY5ZGUL3CzAwvwQxOLa4xG9Adv6h\n",
       "V2BqHxCDXX+CgYH/ArL31CCe/grE8xvANjDwPkBywyWIPPtPIBG/ABgWQIcwfUAYwAW1juMjUNEn\n",
       "IEMOiLk/IhTAIo4JaOo6HQaG0/91GJj3f0qAK9gODab9X0ODNmOLIrRoAQDyg0EOXpubEgAAAABJ\n",
       "RU5ErkJggg==\n",
       "\" style=\"display:inline;vertical-align:middle;\" /></a> <a class=\"ProveItLink\" href=\"../../../__pv_it/_proof_double_negate_consequent/6f931dbe2f3b195e55b22b35b589a1e45df8d0590/proof.ipynb\" style=\"text-decoration: none\">&nbsp;&#x22A2;&nbsp;&nbsp;</a><a class=\"ProveItLink\" href=\"../../../__pv_it/theorems/d78c7a0a66f0f0f40e69d505fb93268ea9af46dc0/expr.ipynb\"><img src=\"data:image/png;base64,iVBORw0KGgoAAAANSUhEUgAAAEAAAAAQBAMAAABUyWQaAAAAMFBMVEX///8AAAAAAAAAAAAAAAAA\n",
       "AAAAAAAAAAAAAAAAAAAAAAAAAAAAAAAAAAAAAAAAAAAv3aB7AAAAD3RSTlMAIs1UmauJMnZmRLsQ\n",
       "3e++988cAAAACXBIWXMAAA7EAAAOxAGVKw4bAAAA8UlEQVQoz2NgAAEhBgJAH5vg7P+hodoFYCbz\n",
       "f6zaXjMwsH4Hs1jiBbDIM/5gYOD6AmYm5hcgxPfAGJxA3Zw/wEob+g0QCqphDNYPDAxMD8E2MNhP\n",
       "QCjgTIAy+DYw8MSCjV7MUA8WZLkLBl+gCup3dARBNDowyAcgOY5ZGUL3CzAwvwQxOLa4xG9Adv6h\n",
       "V2BqHxCDXX+CgYH/ArL31CCe/grE8xvANjDwPkBywyWIPPtPIBG/ABgWQIcwfUAYwAW1juMjUNEn\n",
       "IEMOiLk/IhTAIo4JaOo6HQaG0/91GJj3f0qAK9gODab9X0ODNmOLIrRoAQDyg0EOXpubEgAAAABJ\n",
       "RU5ErkJggg==\n",
       "\" style=\"display:inline;vertical-align:middle;\" /></a></span></td></tr>\n",
       "<tr><td><a name=\"-0x72487574e90670d6_step6\">6</a></td><td>assumption</td><td></td><td><span style=\"font-size:20px;\"><a class=\"ProveItLink\" href=\"../../../../../../__pv_it/common/09585084922504426caf1db2ff588a23a0932a960/expr.ipynb\"><img src=\"data:image/png;base64,iVBORw0KGgoAAAANSUhEUgAAAA8AAAAPBAMAAADJ+Ih5AAAAMFBMVEX///8AAAAAAAAAAAAAAAAA\n",
       "AAAAAAAAAAAAAAAAAAAAAAAAAAAAAAAAAAAAAAAAAAAv3aB7AAAAD3RSTlMAIs1UmauJMnZmRLsQ\n",
       "3e++988cAAAACXBIWXMAAA7EAAAOxAGVKw4bAAAAXklEQVQI12NgAAEhBijQh9LM/6EMlngBCCMx\n",
       "vwBMMzb0G0BkGOwngBmLGeoTwAwHBvkAEM2xxSV+A4hxgoGB/wJEhoH3AZDmAupg+gBkyAEx90cG\n",
       "htP/dRiY939KAABt3hLO6mcEjQAAAABJRU5ErkJggg==\n",
       "\" style=\"display:inline;vertical-align:middle;\" /></a> <a class=\"ProveItLink\" href=\"../../../__pv_it/_proof_double_negate_consequent/20b7eda420dd18b82917d5b2814aed1ac49439ac0/proof.ipynb\" style=\"text-decoration: none\">&nbsp;&#x22A2;&nbsp;&nbsp;</a><a class=\"ProveItLink\" href=\"../../../../../../__pv_it/common/09585084922504426caf1db2ff588a23a0932a960/expr.ipynb\"><img src=\"data:image/png;base64,iVBORw0KGgoAAAANSUhEUgAAAA8AAAAPBAMAAADJ+Ih5AAAAMFBMVEX///8AAAAAAAAAAAAAAAAA\n",
       "AAAAAAAAAAAAAAAAAAAAAAAAAAAAAAAAAAAAAAAAAAAv3aB7AAAAD3RSTlMAIs1UmauJMnZmRLsQ\n",
       "3e++988cAAAACXBIWXMAAA7EAAAOxAGVKw4bAAAAXklEQVQI12NgAAEhBijQh9LM/6EMlngBCCMx\n",
       "vwBMMzb0G0BkGOwngBmLGeoTwAwHBvkAEM2xxSV+A4hxgoGB/wJEhoH3AZDmAupg+gBkyAEx90cG\n",
       "htP/dRiY939KAABt3hLO6mcEjQAAAABJRU5ErkJggg==\n",
       "\" style=\"display:inline;vertical-align:middle;\" /></a></span></td></tr>\n",
       "</table>"
      ],
      "text/plain": [
       "\tstep type\trequirements\tstatement\n",
       "0\tgeneralization\t1\t|- forall_{A, B | A => B} (A => [not]([not](B)))\n",
       "1\tdeduction\t2\t{A => B} |- A => [not]([not](B))\n",
       "2\tinstantiation\t3, 4\t{A => B, A} |- [not]([not](B))\n",
       "\tA : B\n",
       "3\ttheorem\t\t|- forall_{A | A} [not]([not](A))\n",
       "\tproveit.logic.booleans.negation.double_negation_intro\n",
       "4\tmodus ponens\t5, 6\t{A => B, A} |- B\n",
       "5\tassumption\t\t{A => B} |- A => B\n",
       "6\tassumption\t\t{A} |- A"
      ]
     },
     "execution_count": 4,
     "metadata": {},
     "output_type": "execute_result"
    }
   ],
   "source": [
    "%qed # automation can handle this one"
   ]
  },
  {
   "cell_type": "code",
   "execution_count": null,
   "metadata": {},
   "outputs": [],
   "source": []
  }
 ],
 "metadata": {
  "kernelspec": {
   "display_name": "Python 3",
   "language": "python",
   "name": "python3"
  }
 },
 "nbformat": 4,
 "nbformat_minor": 0
}