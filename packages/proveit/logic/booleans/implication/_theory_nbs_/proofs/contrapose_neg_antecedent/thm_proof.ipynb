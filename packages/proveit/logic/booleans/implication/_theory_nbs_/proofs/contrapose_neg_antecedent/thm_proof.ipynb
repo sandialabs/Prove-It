{
 "cells": [
  {
   "cell_type": "markdown",
   "metadata": {},
   "source": [
    "Proof of <a class=\"ProveItLink\" href=\"../../../../../../_theory_nbs_/theory.ipynb\">proveit</a>.<a class=\"ProveItLink\" href=\"../../../../../_theory_nbs_/theory.ipynb\">logic</a>.<a class=\"ProveItLink\" href=\"../../../../_theory_nbs_/theory.ipynb\">booleans</a>.<a class=\"ProveItLink\" href=\"../../theory.ipynb\">implication</a>.<a class=\"ProveItLink\" href=\"../../theorems.ipynb#contrapose_neg_antecedent\">contrapose_neg_antecedent</a> theorem\n",
    "========"
   ]
  },
  {
   "cell_type": "code",
   "execution_count": 1,
   "metadata": {},
   "outputs": [],
   "source": [
    "import proveit\n",
    "from proveit import defaults\n",
    "from proveit import B\n",
    "from proveit.logic import Not\n",
    "theory = proveit.Theory() # the theorem's theory"
   ]
  },
  {
   "cell_type": "code",
   "execution_count": 2,
   "metadata": {},
   "outputs": [
    {
     "data": {
      "text/html": [
       "With these <a href=\"allowed_presumptions.txt\">allowed</a>/<a href=\"disallowed_presumptions.txt\">disallowed</a> theorem/theory presumptions (e.g., to avoid circular dependencies), we begin our proof of<br><strong id=\"contrapose_neg_antecedent\">contrapose_neg_antecedent:</strong> <a class=\"ProveItLink\" href=\"../../../__pv_it/theorems/867c2facf64bfee081c588127d51c39d06b3279f0/expr.ipynb\"><img src=\"data:image/png;base64,iVBORw0KGgoAAAANSUhEUgAAAR4AAAAXBAMAAAAvnz2ZAAAAMFBMVEX///8AAAAAAAAAAAAAAAAA\n",
       "AAAAAAAAAAAAAAAAAAAAAAAAAAAAAAAAAAAAAAAAAAAv3aB7AAAAD3RSTlMAq1RmmUTNIjK7EInv\n",
       "3XZ/CtNrAAAACXBIWXMAAA7EAAAOxAGVKw4bAAADj0lEQVRIx71WTUhUURQ+zo+j7+U0QlSuZiKI\n",
       "FkazMCGiGsgykWiojf1ARoX4Q40VgiA5QRshHImkpo3WIpAoXj8g6iJzEf0zCwM30pS0i7So7Aey\n",
       "c++5974785zZvQ6ceW/u9517v3fuuec9APcsINwxWCzARfsgPMf82QLsLsJC7H69G3I8Frkw79CX\n",
       "ytXXAeYK0M8Ax3az+xY39NwWLm3FAEA4CaXDy6tfwh/ELrJ9G3BDzy7h0npxN47FwBtblu0LJ4Bh\n",
       "TK4ZcUPPpHBpO5PoqOmFGinXUjX6GGHEvFFMkyvl00yuLIzegUk4oUbK7H0JZOdZUhB7PTv70g09\n",
       "Potc2XOAmzN4vW8PbbPZsDlK2F6AG3wor8584jETamQYgoUWX6ZGS6PkKhm/Pr/nqallP/tmmb1T\n",
       "tXQAUhZhnRDgZ954xoG+bxMNSb65RNyiJmQEvRYVU8WCp/3ktKzFigg5X3kaILgIUM30VWtzbJDs\n",
       "GPSGCCsfNuNsxPxKbSIDwUlbjxFSsYxwRJtLMUVsf9UgZK2zG+XxjpNz68T5kGv+xPuUNofRQYzg\n",
       "1brwAGGeLJVz0xt+KcETuWDr8cVVLCNQ8/BEc5gE+XDjUY95q4Celfhk3r94f1RvyqN0vYd4RmDN\n",
       "O/hQ9jhNE4G7UVtPhR3LCKIzrMlhEsT7btY6N563X1JPCrkl3/F+k10/sy1qu6BiUmAP2njGYA91\n",
       "rbmatWDr6VJyOMETM9NoHUmdySGDn91s3aukbC5Zcm7nAebxYKTY+d9qP+Ih+VJjtb8gsB5eIk3w\n",
       "iUPbwVil6cGIMRSQEQS/6BiP4hqTQ/4o5efSR1luIXJpHRj9lG13o910ZHvqYestCqyEP1HjRJjX\n",
       "Bi7RG7f1rKOAkCDIDtY5rjE55G1Np6+w+jHl+c6QC6taqqxs5dv31u7PIpcjS23gGfphaRh2ll6O\n",
       "TuFLRjvvfVIPEcR+pS2dyaEyi/Jjqh41Izz/IydT+HvHxg5igUcMCwK/wZgGRz3HiABBKoiHLJaY\n",
       "d0QsNVXU0y+nrBGe37ejRXq6xHxPwNh/qmwKav9MNEQ0PeUJnSD+lrG2KJiXIwLqxlx5Tren1XKM\n",
       "W55wrNld5B2Tj3m0e9Ljt3III9TF9CF5pI2x9GAOl504w/klc62InnzssEMP1OcQ6h1T+IcLzn5B\n",
       "eI4FE4XlOLCoU4+pr+eNO+bwwn+ywDKvbsP1Vf8BEUv4IpJbGJUAAAAASUVORK5CYII=\n",
       "\" style=\"display:inline;vertical-align:middle;\" /></a><br>(see <a class=\"ProveItLink\" href=\"../../../__pv_it/theorems/d21322ed233692daf92dfae0e6a393bd6bbb8c0e0/dependencies.ipynb\">dependencies</a>)<br>"
      ],
      "text/plain": [
       "<IPython.core.display.HTML object>"
      ]
     },
     "metadata": {},
     "output_type": "display_data"
    }
   ],
   "source": [
    "%proving contrapose_neg_antecedent"
   ]
  },
  {
   "cell_type": "code",
   "execution_count": 3,
   "metadata": {},
   "outputs": [
    {
     "data": {
      "text/html": [
       "<strong id=\"defaults.assumptions\">defaults.assumptions:</strong> <a class=\"ProveItLink\" href=\"../../../__pv_it/_proof_contrapose_neg_antecedent/a9f1e25d29dd124079ce9b8d5452f9f8ace93d020/expr.ipynb\"><img src=\"data:image/png;base64,iVBORw0KGgoAAAANSUhEUgAAANMAAAAVBAMAAAAumMZDAAAAMFBMVEX///8AAAAAAAAAAAAAAAAA\n",
       "AAAAAAAAAAAAAAAAAAAAAAAAAAAAAAAAAAAAAAAAAAAv3aB7AAAAD3RSTlMAInZUiRDNmWbv3US7\n",
       "qzJazP2FAAAACXBIWXMAAA7EAAAOxAGVKw4bAAACuUlEQVRIx61WTWgTQRT+svnb/NWcgopgLAri\n",
       "pUG0oBfjXTF48FQx/gQqCOZQ0GNOelAwHgRpBQPFiNVD8OfQ2zaioojNQXpQQ3IuQtIeopca3+zs\n",
       "7Mxs18ZDH7yd2XnfN+/Nm5e3AZAGV1UC2GaxHRg5rlIyQCL7P/yM/mo8ez+Y/e4PfckeRxyVcp30\n",
       "oB/+7rDdvtbVgaokE9nM+YYvx6gA4SJXKcEhPSIFP1+PgNQfHai7qoTSlj+nBEQrXKVEO5RYs+zj\n",
       "KbBOqf2lAz2uzFzLn3MbiIGrlJNnWI4eyIV3YmJSdOa6B8gu6dNC3XVV1F0JTqyASXqd1MLITrAi\n",
       "mZYrP8Uk1afM3vcAKehLBfdUqZ153ZXgRCqYodcZLX84wfJ5WglMsGMWwt+6HiAVYsFN4IFDXz1J\n",
       "F5xQy45+WrW9Qo9tfcvebcEWcT295vhKxQsELsq7qj9+6qknwTGLmKdhXmzKaqGMvexmj6k1eZmP\n",
       "E2kEH7qrDhAoKmVh3ClBBlmWnGAVczTMiewT1fhwo8PqtaeGdo4jPpKKUnCBGJulTV84rmC9Vq69\n",
       "JTlj/U2uzgI7ajRfVCvlCq/qDdJ7oo8IIMKWcipYSd2V4CSqIoGuic4cr9L8uHJXde5p7Dc9Og03\n",
       "fxwI1DRXEc2VywnW0KRpU5jKIDAifdZQJCPhhG2skbsBHcNeFEBgXHN1mNud/QQHpmUXtVLYuxhj\n",
       "Tf8BiK4aoUMs0q1fKKpAWs+5rvKh/WVu93AQzWOVhlXXMjUsIbg8oCJ+LuFfnB/j8kZ75S1N4k9U\n",
       "IJ3yxxt+6quf7c7O7PBwEG8gTtUR725udzXPt0aVo573xCnemP5lZ7Kb91Wf3qp3YI/kR3zH/Ow3\n",
       "SZcc1WXPFjuFR3w3/ewBVlpTjuqytMVWxohD+dmTabtBc9XR6W3+b7EP+AuJAdZAE8wF5QAAAABJ\n",
       "RU5ErkJggg==\n",
       "\" style=\"display:inline;vertical-align:middle;\" /></a><br>"
      ],
      "text/plain": [
       "<IPython.core.display.HTML object>"
      ]
     },
     "metadata": {},
     "output_type": "display_data"
    }
   ],
   "source": [
    "defaults.assumptions = list(contrapose_neg_antecedent.all_conditions()) + [Not(B)]"
   ]
  },
  {
   "cell_type": "code",
   "execution_count": 4,
   "metadata": {},
   "outputs": [
    {
     "data": {
      "text/html": [
       "<strong id=\"not_a_implies_B\">not_a_implies_B:</strong> <a class=\"ProveItLink\" href=\"../../../__pv_it/theorems/40204e1874e2c682f1ab2a7bb3f735c754d3250e0/expr.ipynb\"><img src=\"data:image/png;base64,iVBORw0KGgoAAAANSUhEUgAAAFwAAAAVBAMAAAA5lpTPAAAAMFBMVEX///8AAAAAAAAAAAAAAAAA\n",
       "AAAAAAAAAAAAAAAAAAAAAAAAAAAAAAAAAAAAAAAAAAAv3aB7AAAAD3RSTlMAInZUiRDNmWbv3US7\n",
       "qzJazP2FAAAACXBIWXMAAA7EAAAOxAGVKw4bAAABbklEQVQoz2NgYBBgQAWMDPgAkwEyT4yBgVsB\n",
       "n3ITFF4+EGtgU9bz/+7dnAcMrAnIgsz/gQRbADb1cxgYeP8xsDcgi7HfB/qEowCLasZPQGd+Z+BE\n",
       "EXT0fwAkpyIEjsIYHP+A+BODGYoRCvogj2cgRN7AGLwfgK6cyFCC4hYGe5DbfBEiHA5QBucBBtZb\n",
       "D5BNYmDYzPAeJN0G1roKDL5Dpd4fUroGNGoxTALkvwIG+QtAyhI5rJIhtL4AA/MMBobZMGcD1TEd\n",
       "L79/AGQSso1hEBUngRgYDsjKgxgY+BcA2TuRfZ8CSSR/gbhfAeQYuHKge7gmANlWSG5fBlHN9wNI\n",
       "3N/AcAimvICBG+gVtg+gCEcYzn0AmrI+ArV8Qwk0SSDmAQojB64YlGYD2rozlYHhFVwm5n8qA/P5\n",
       "b8CQXI1Qfg4aSef/3r12GMjgeoCZPBYg2OiZAUt6Qk11aOAghogMvuwRQ4QBKKkQPTcK4FYMAMva\n",
       "XILEnyWGAAAAAElFTkSuQmCC\n",
       "\" style=\"display:inline;vertical-align:middle;\" /></a><br>"
      ],
      "text/plain": [
       "<IPython.core.display.HTML object>"
      ]
     },
     "metadata": {},
     "output_type": "display_data"
    }
   ],
   "source": [
    "not_a_implies_B = defaults.assumptions[0]"
   ]
  },
  {
   "cell_type": "code",
   "execution_count": 5,
   "metadata": {},
   "outputs": [
    {
     "data": {
      "text/html": [
       "<span style=\"font-size:20px;\"><a class=\"ProveItLink\" href=\"../../../../__pv_it/theorems/a10dbfd9a4efbb6f30af430036ab01697a9460f80/expr.ipynb\"><img src=\"data:image/png;base64,iVBORw0KGgoAAAANSUhEUgAAADYAAAAQBAMAAACvnpHFAAAAMFBMVEX///8AAAAAAAAAAAAAAAAA\n",
       "AAAAAAAAAAAAAAAAAAAAAAAAAAAAAAAAAAAAAAAAAAAv3aB7AAAAD3RSTlMAIs1UmauJMnZmRLsQ\n",
       "3e++988cAAAACXBIWXMAAA7EAAAOxAGVKw4bAAAA40lEQVQY02NgAAEhBhTAcW/Tp7dRUI4+qhwD\n",
       "N1eD0NEFYCbzfwy5CWwCG8BMlngBDDlOgwAwMzG/AGrR3ruX4HIKIBZjQ78BWIpL4wBcH6tkAthI\n",
       "BvsJEOcegJvZ0xsGZi1mqAerYVBE2Hfp/RWwQgcGeYi9Ckhu4ZilA3LAFpd4sHvZ3969e/c2VI5h\n",
       "wzIg4wQDA/8FkAjPBiR9DBu4wUYy8D4AC11AkWMCOhzoRqYPYKEOFDkLBgY5EPsjWIjJAC6XwNbm\n",
       "wHD6vw4D8/5PYE/wRK+BBI/ebkQ8wABXNiTMIAAAYXA8zHUEOxUAAAAASUVORK5CYII=\n",
       "\" style=\"display:inline;vertical-align:middle;\" /></a>, <a class=\"ProveItLink\" href=\"../../../__pv_it/theorems/40204e1874e2c682f1ab2a7bb3f735c754d3250e0/expr.ipynb\"><img src=\"data:image/png;base64,iVBORw0KGgoAAAANSUhEUgAAAFwAAAAVBAMAAAA5lpTPAAAAMFBMVEX///8AAAAAAAAAAAAAAAAA\n",
       "AAAAAAAAAAAAAAAAAAAAAAAAAAAAAAAAAAAAAAAAAAAv3aB7AAAAD3RSTlMAInZUiRDNmWbv3US7\n",
       "qzJazP2FAAAACXBIWXMAAA7EAAAOxAGVKw4bAAABbklEQVQoz2NgYBBgQAWMDPgAkwEyT4yBgVsB\n",
       "n3ITFF4+EGtgU9bz/+7dnAcMrAnIgsz/gQRbADb1cxgYeP8xsDcgi7HfB/qEowCLasZPQGd+Z+BE\n",
       "EXT0fwAkpyIEjsIYHP+A+BODGYoRCvogj2cgRN7AGLwfgK6cyFCC4hYGe5DbfBEiHA5QBucBBtZb\n",
       "D5BNYmDYzPAeJN0G1roKDL5Dpd4fUroGNGoxTALkvwIG+QtAyhI5rJIhtL4AA/MMBobZMGcD1TEd\n",
       "L79/AGQSso1hEBUngRgYDsjKgxgY+BcA2TuRfZ8CSSR/gbhfAeQYuHKge7gmANlWSG5fBlHN9wNI\n",
       "3N/AcAimvICBG+gVtg+gCEcYzn0AmrI+ArV8Qwk0SSDmAQojB64YlGYD2rozlYHhFVwm5n8qA/P5\n",
       "b8CQXI1Qfg4aSef/3r12GMjgeoCZPBYg2OiZAUt6Qk11aOAghogMvuwRQ4QBKKkQPTcK4FYMAMva\n",
       "XILEnyWGAAAAAElFTkSuQmCC\n",
       "\" style=\"display:inline;vertical-align:middle;\" /></a> <a class=\"ProveItLink\" href=\"../../../__pv_it/_proof_contrapose_neg_antecedent/32dc84f991f01e6ecc86f2d6e3dbe1c3e06914130/proof.ipynb\" style=\"text-decoration: none\">&nbsp;&#x22A2;&nbsp;&nbsp;</a><a class=\"ProveItLink\" href=\"../../../__pv_it/theorems/10c6e6e0a59dd780def080bc1e7f25c00c4bc56a0/expr.ipynb\"><img src=\"data:image/png;base64,iVBORw0KGgoAAAANSUhEUgAAAFwAAAAVBAMAAAA5lpTPAAAAMFBMVEX///8AAAAAAAAAAAAAAAAA\n",
       "AAAAAAAAAAAAAAAAAAAAAAAAAAAAAAAAAAAAAAAAAAAv3aB7AAAAD3RSTlMAInZUiRDNmWbv3US7\n",
       "qzJazP2FAAAACXBIWXMAAA7EAAAOxAGVKw4bAAABf0lEQVQoz2NgYBBgQAMYAsiAyQBdZBMOlYwJ\n",
       "QMIEwe/5f/duzgMGpgbsytk+MDCwJiAJzGFg4P3HwJCKXbk9UDk7klGMnxgYuL8zMLRjV177kYGB\n",
       "E4nPATSZA6iFMwAuxINgsogApc2QlPMCbWObCMQIG/kOwJlCTJ8ZGEqQlHMeYGC99QBozgWEWAuc\n",
       "VcD8g4EhA0n5+0NK10AGc4C9X7UKBNYXQCW5Dfi+MDAsBvoWLA4U1hdgYJ4BlGGegGSGGTRe2BkY\n",
       "/zIwzIaFCtABJ4G0P9AxfB+QlLNmbgDTOuW1f1CVA3Uz9CsA7UU2XcwRogso/gvsGJhyPqBXGO4D\n",
       "zWJegHD7qkSYWxgYVjIwHIIpL2BgAkYD3zeQVxGhx7AHSu8A4nwGBl+kNAF0w05QAmB3QE1WIBrk\n",
       "vvMCDK8QkXT+791rh0Esrg2IWH0Acfn5bwEMNv9TGLgeYCYOKaRkhCbFUYCpvAJP9jiImQ0O4FEe\n",
       "gyHCgy/3MSqgiyjiVgwA2btegJgwxN4AAAAASUVORK5CYII=\n",
       "\" style=\"display:inline;vertical-align:middle;\" /></a></span>"
      ],
      "text/plain": [
       "{A in BOOLEAN, [not](A) => B} |- [not](B) => A"
      ]
     },
     "metadata": {},
     "output_type": "display_data"
    },
    {
     "name": "stdout",
     "output_type": "stream",
     "text": [
      "contrapose_neg_antecedent may now be readily provable (assuming required theorems are usable).  Simply execute \"%qed\".\n"
     ]
    }
   ],
   "source": [
    "not_a_implies_B.deny_antecedent().as_implication(Not(B))"
   ]
  },
  {
   "cell_type": "code",
   "execution_count": 6,
   "metadata": {},
   "outputs": [
    {
     "name": "stdout",
     "output_type": "stream",
     "text": [
      "proveit.logic.booleans.implication.contrapose_neg_antecedent has been proven.\n"
     ]
    },
    {
     "data": {
      "text/html": [
       "<table><tr><th>&nbsp;</th><th>step type</th><th>requirements</th><th>statement</th></tr>\n",
       "<tr><td><a name=\"-0x74c074b9f5c14628_step0\">0</a></td><td>generalization</td><td><a href=\"#-0x74c074b9f5c14628_step1\">1</a></td><td><span style=\"font-size:20px;\"> <a class=\"ProveItLink\" href=\"../../../__pv_it/_proof_contrapose_neg_antecedent/a1736a403688b558b56d14f82b49eb96bbb95d870/proof.ipynb\" style=\"text-decoration: none\">&nbsp;&#x22A2;&nbsp;&nbsp;</a><a class=\"ProveItLink\" href=\"../../../__pv_it/theorems/867c2facf64bfee081c588127d51c39d06b3279f0/expr.ipynb\"><img src=\"data:image/png;base64,iVBORw0KGgoAAAANSUhEUgAAAR4AAAAXBAMAAAAvnz2ZAAAAMFBMVEX///8AAAAAAAAAAAAAAAAA\n",
       "AAAAAAAAAAAAAAAAAAAAAAAAAAAAAAAAAAAAAAAAAAAv3aB7AAAAD3RSTlMAq1RmmUTNIjK7EInv\n",
       "3XZ/CtNrAAAACXBIWXMAAA7EAAAOxAGVKw4bAAADj0lEQVRIx71WTUhUURQ+zo+j7+U0QlSuZiKI\n",
       "FkazMCGiGsgykWiojf1ARoX4Q40VgiA5QRshHImkpo3WIpAoXj8g6iJzEf0zCwM30pS0i7So7Aey\n",
       "c++5974785zZvQ6ceW/u9517v3fuuec9APcsINwxWCzARfsgPMf82QLsLsJC7H69G3I8Frkw79CX\n",
       "ytXXAeYK0M8Ax3az+xY39NwWLm3FAEA4CaXDy6tfwh/ELrJ9G3BDzy7h0npxN47FwBtblu0LJ4Bh\n",
       "TK4ZcUPPpHBpO5PoqOmFGinXUjX6GGHEvFFMkyvl00yuLIzegUk4oUbK7H0JZOdZUhB7PTv70g09\n",
       "Potc2XOAmzN4vW8PbbPZsDlK2F6AG3wor8584jETamQYgoUWX6ZGS6PkKhm/Pr/nqallP/tmmb1T\n",
       "tXQAUhZhnRDgZ954xoG+bxMNSb65RNyiJmQEvRYVU8WCp/3ktKzFigg5X3kaILgIUM30VWtzbJDs\n",
       "GPSGCCsfNuNsxPxKbSIDwUlbjxFSsYxwRJtLMUVsf9UgZK2zG+XxjpNz68T5kGv+xPuUNofRQYzg\n",
       "1brwAGGeLJVz0xt+KcETuWDr8cVVLCNQ8/BEc5gE+XDjUY95q4Celfhk3r94f1RvyqN0vYd4RmDN\n",
       "O/hQ9jhNE4G7UVtPhR3LCKIzrMlhEsT7btY6N563X1JPCrkl3/F+k10/sy1qu6BiUmAP2njGYA91\n",
       "rbmatWDr6VJyOMETM9NoHUmdySGDn91s3aukbC5Zcm7nAebxYKTY+d9qP+Ih+VJjtb8gsB5eIk3w\n",
       "iUPbwVil6cGIMRSQEQS/6BiP4hqTQ/4o5efSR1luIXJpHRj9lG13o910ZHvqYestCqyEP1HjRJjX\n",
       "Bi7RG7f1rKOAkCDIDtY5rjE55G1Np6+w+jHl+c6QC6taqqxs5dv31u7PIpcjS23gGfphaRh2ll6O\n",
       "TuFLRjvvfVIPEcR+pS2dyaEyi/Jjqh41Izz/IydT+HvHxg5igUcMCwK/wZgGRz3HiABBKoiHLJaY\n",
       "d0QsNVXU0y+nrBGe37ejRXq6xHxPwNh/qmwKav9MNEQ0PeUJnSD+lrG2KJiXIwLqxlx5Tren1XKM\n",
       "W55wrNld5B2Tj3m0e9Ljt3III9TF9CF5pI2x9GAOl504w/klc62InnzssEMP1OcQ6h1T+IcLzn5B\n",
       "eI4FE4XlOLCoU4+pr+eNO+bwwn+ywDKvbsP1Vf8BEUv4IpJbGJUAAAAASUVORK5CYII=\n",
       "\" style=\"display:inline;vertical-align:middle;\" /></a></span></td></tr>\n",
       "<tr><td><a name=\"-0x74c074b9f5c14628_step1\">1</a></td><td>deduction</td><td><a href=\"#-0x74c074b9f5c14628_step2\">2</a></td><td><span style=\"font-size:20px;\"><a class=\"ProveItLink\" href=\"../../../../__pv_it/theorems/a10dbfd9a4efbb6f30af430036ab01697a9460f80/expr.ipynb\"><img src=\"data:image/png;base64,iVBORw0KGgoAAAANSUhEUgAAADYAAAAQBAMAAACvnpHFAAAAMFBMVEX///8AAAAAAAAAAAAAAAAA\n",
       "AAAAAAAAAAAAAAAAAAAAAAAAAAAAAAAAAAAAAAAAAAAv3aB7AAAAD3RSTlMAIs1UmauJMnZmRLsQ\n",
       "3e++988cAAAACXBIWXMAAA7EAAAOxAGVKw4bAAAA40lEQVQY02NgAAEhBhTAcW/Tp7dRUI4+qhwD\n",
       "N1eD0NEFYCbzfwy5CWwCG8BMlngBDDlOgwAwMzG/AGrR3ruX4HIKIBZjQ78BWIpL4wBcH6tkAthI\n",
       "BvsJEOcegJvZ0xsGZi1mqAerYVBE2Hfp/RWwQgcGeYi9Ckhu4ZilA3LAFpd4sHvZ3969e/c2VI5h\n",
       "wzIg4wQDA/8FkAjPBiR9DBu4wUYy8D4AC11AkWMCOhzoRqYPYKEOFDkLBgY5EPsjWIjJAC6XwNbm\n",
       "wHD6vw4D8/5PYE/wRK+BBI/ebkQ8wABXNiTMIAAAYXA8zHUEOxUAAAAASUVORK5CYII=\n",
       "\" style=\"display:inline;vertical-align:middle;\" /></a>, <a class=\"ProveItLink\" href=\"../../../__pv_it/theorems/40204e1874e2c682f1ab2a7bb3f735c754d3250e0/expr.ipynb\"><img src=\"data:image/png;base64,iVBORw0KGgoAAAANSUhEUgAAAFwAAAAVBAMAAAA5lpTPAAAAMFBMVEX///8AAAAAAAAAAAAAAAAA\n",
       "AAAAAAAAAAAAAAAAAAAAAAAAAAAAAAAAAAAAAAAAAAAv3aB7AAAAD3RSTlMAInZUiRDNmWbv3US7\n",
       "qzJazP2FAAAACXBIWXMAAA7EAAAOxAGVKw4bAAABbklEQVQoz2NgYBBgQAWMDPgAkwEyT4yBgVsB\n",
       "n3ITFF4+EGtgU9bz/+7dnAcMrAnIgsz/gQRbADb1cxgYeP8xsDcgi7HfB/qEowCLasZPQGd+Z+BE\n",
       "EXT0fwAkpyIEjsIYHP+A+BODGYoRCvogj2cgRN7AGLwfgK6cyFCC4hYGe5DbfBEiHA5QBucBBtZb\n",
       "D5BNYmDYzPAeJN0G1roKDL5Dpd4fUroGNGoxTALkvwIG+QtAyhI5rJIhtL4AA/MMBobZMGcD1TEd\n",
       "L79/AGQSso1hEBUngRgYDsjKgxgY+BcA2TuRfZ8CSSR/gbhfAeQYuHKge7gmANlWSG5fBlHN9wNI\n",
       "3N/AcAimvICBG+gVtg+gCEcYzn0AmrI+ArV8Qwk0SSDmAQojB64YlGYD2rozlYHhFVwm5n8qA/P5\n",
       "b8CQXI1Qfg4aSef/3r12GMjgeoCZPBYg2OiZAUt6Qk11aOAghogMvuwRQ4QBKKkQPTcK4FYMAMva\n",
       "XILEnyWGAAAAAElFTkSuQmCC\n",
       "\" style=\"display:inline;vertical-align:middle;\" /></a> <a class=\"ProveItLink\" href=\"../../../__pv_it/_proof_contrapose_neg_antecedent/32dc84f991f01e6ecc86f2d6e3dbe1c3e06914130/proof.ipynb\" style=\"text-decoration: none\">&nbsp;&#x22A2;&nbsp;&nbsp;</a><a class=\"ProveItLink\" href=\"../../../__pv_it/theorems/10c6e6e0a59dd780def080bc1e7f25c00c4bc56a0/expr.ipynb\"><img src=\"data:image/png;base64,iVBORw0KGgoAAAANSUhEUgAAAFwAAAAVBAMAAAA5lpTPAAAAMFBMVEX///8AAAAAAAAAAAAAAAAA\n",
       "AAAAAAAAAAAAAAAAAAAAAAAAAAAAAAAAAAAAAAAAAAAv3aB7AAAAD3RSTlMAInZUiRDNmWbv3US7\n",
       "qzJazP2FAAAACXBIWXMAAA7EAAAOxAGVKw4bAAABf0lEQVQoz2NgYBBgQAMYAsiAyQBdZBMOlYwJ\n",
       "QMIEwe/5f/duzgMGpgbsytk+MDCwJiAJzGFg4P3HwJCKXbk9UDk7klGMnxgYuL8zMLRjV177kYGB\n",
       "E4nPATSZA6iFMwAuxINgsogApc2QlPMCbWObCMQIG/kOwJlCTJ8ZGEqQlHMeYGC99QBozgWEWAuc\n",
       "VcD8g4EhA0n5+0NK10AGc4C9X7UKBNYXQCW5Dfi+MDAsBvoWLA4U1hdgYJ4BlGGegGSGGTRe2BkY\n",
       "/zIwzIaFCtABJ4G0P9AxfB+QlLNmbgDTOuW1f1CVA3Uz9CsA7UU2XcwRogso/gvsGJhyPqBXGO4D\n",
       "zWJegHD7qkSYWxgYVjIwHIIpL2BgAkYD3zeQVxGhx7AHSu8A4nwGBl+kNAF0w05QAmB3QE1WIBrk\n",
       "vvMCDK8QkXT+791rh0Esrg2IWH0Acfn5bwEMNv9TGLgeYCYOKaRkhCbFUYCpvAJP9jiImQ0O4FEe\n",
       "gyHCgy/3MSqgiyjiVgwA2btegJgwxN4AAAAASUVORK5CYII=\n",
       "\" style=\"display:inline;vertical-align:middle;\" /></a></span></td></tr>\n",
       "<tr><td><a name=\"-0x74c074b9f5c14628_step2\">2</a></td><td>instantiation</td><td><a href=\"#-0x74c074b9f5c14628_step3\">3</a>, <a href=\"#-0x74c074b9f5c14628_step4\">4</a>, <a href=\"#-0x74c074b9f5c14628_step5\">5</a>, <a href=\"#-0x74c074b9f5c14628_step6\">6</a></td><td><span style=\"font-size:20px;\"><a class=\"ProveItLink\" href=\"../../../../__pv_it/theorems/a10dbfd9a4efbb6f30af430036ab01697a9460f80/expr.ipynb\"><img src=\"data:image/png;base64,iVBORw0KGgoAAAANSUhEUgAAADYAAAAQBAMAAACvnpHFAAAAMFBMVEX///8AAAAAAAAAAAAAAAAA\n",
       "AAAAAAAAAAAAAAAAAAAAAAAAAAAAAAAAAAAAAAAAAAAv3aB7AAAAD3RSTlMAIs1UmauJMnZmRLsQ\n",
       "3e++988cAAAACXBIWXMAAA7EAAAOxAGVKw4bAAAA40lEQVQY02NgAAEhBhTAcW/Tp7dRUI4+qhwD\n",
       "N1eD0NEFYCbzfwy5CWwCG8BMlngBDDlOgwAwMzG/AGrR3ruX4HIKIBZjQ78BWIpL4wBcH6tkAthI\n",
       "BvsJEOcegJvZ0xsGZi1mqAerYVBE2Hfp/RWwQgcGeYi9Ckhu4ZilA3LAFpd4sHvZ3969e/c2VI5h\n",
       "wzIg4wQDA/8FkAjPBiR9DBu4wUYy8D4AC11AkWMCOhzoRqYPYKEOFDkLBgY5EPsjWIjJAC6XwNbm\n",
       "wHD6vw4D8/5PYE/wRK+BBI/ebkQ8wABXNiTMIAAAYXA8zHUEOxUAAAAASUVORK5CYII=\n",
       "\" style=\"display:inline;vertical-align:middle;\" /></a>, <a class=\"ProveItLink\" href=\"../../../__pv_it/theorems/40204e1874e2c682f1ab2a7bb3f735c754d3250e0/expr.ipynb\"><img src=\"data:image/png;base64,iVBORw0KGgoAAAANSUhEUgAAAFwAAAAVBAMAAAA5lpTPAAAAMFBMVEX///8AAAAAAAAAAAAAAAAA\n",
       "AAAAAAAAAAAAAAAAAAAAAAAAAAAAAAAAAAAAAAAAAAAv3aB7AAAAD3RSTlMAInZUiRDNmWbv3US7\n",
       "qzJazP2FAAAACXBIWXMAAA7EAAAOxAGVKw4bAAABbklEQVQoz2NgYBBgQAWMDPgAkwEyT4yBgVsB\n",
       "n3ITFF4+EGtgU9bz/+7dnAcMrAnIgsz/gQRbADb1cxgYeP8xsDcgi7HfB/qEowCLasZPQGd+Z+BE\n",
       "EXT0fwAkpyIEjsIYHP+A+BODGYoRCvogj2cgRN7AGLwfgK6cyFCC4hYGe5DbfBEiHA5QBucBBtZb\n",
       "D5BNYmDYzPAeJN0G1roKDL5Dpd4fUroGNGoxTALkvwIG+QtAyhI5rJIhtL4AA/MMBobZMGcD1TEd\n",
       "L79/AGQSso1hEBUngRgYDsjKgxgY+BcA2TuRfZ8CSSR/gbhfAeQYuHKge7gmANlWSG5fBlHN9wNI\n",
       "3N/AcAimvICBG+gVtg+gCEcYzn0AmrI+ArV8Qwk0SSDmAQojB64YlGYD2rozlYHhFVwm5n8qA/P5\n",
       "b8CQXI1Qfg4aSef/3r12GMjgeoCZPBYg2OiZAUt6Qk11aOAghogMvuwRQ4QBKKkQPTcK4FYMAMva\n",
       "XILEnyWGAAAAAElFTkSuQmCC\n",
       "\" style=\"display:inline;vertical-align:middle;\" /></a>, <a class=\"ProveItLink\" href=\"../../../__pv_it/theorems/8552c6321b312c5e15a5015adce4a756ce05da420/expr.ipynb\"><img src=\"data:image/png;base64,iVBORw0KGgoAAAANSUhEUgAAAB0AAAAOBAMAAAAh/woJAAAAMFBMVEX///8AAAAAAAAAAAAAAAAA\n",
       "AAAAAAAAAAAAAAAAAAAAAAAAAAAAAAAAAAAAAAAAAAAv3aB7AAAAD3RSTlMAmd0iq2a7zTLvdkQQ\n",
       "VIm/XloVAAAACXBIWXMAAA7EAAAOxAGVKw4bAAAAgUlEQVQI12NggALW/C8u7hkMCMCZwMDg34Dg\n",
       "2y9gYNgvgODHA+XiFyD4/kBcaYDgT2NgOKKB4HJ8W7WkFEgLKQGBIgMD12cGhpsBUEkTBga2CQwM\n",
       "fD8QfH4HoJt+Ifj9QLUsv6F8QwaG9UCr+gsQ5lcyMHBPPwDnuv13cSm7wMAAAOyYG523RGm6AAAA\n",
       "AElFTkSuQmCC\n",
       "\" style=\"display:inline;vertical-align:middle;\" /></a> <a class=\"ProveItLink\" href=\"../../../__pv_it/_proof_contrapose_neg_antecedent/688050a3026dd8fceefc684684681553c995f6ef0/proof.ipynb\" style=\"text-decoration: none\">&nbsp;&#x22A2;&nbsp;&nbsp;</a><a class=\"ProveItLink\" href=\"../../../../../../__pv_it/common/09585084922504426caf1db2ff588a23a0932a960/expr.ipynb\"><img src=\"data:image/png;base64,iVBORw0KGgoAAAANSUhEUgAAAA8AAAAPBAMAAADJ+Ih5AAAAMFBMVEX///8AAAAAAAAAAAAAAAAA\n",
       "AAAAAAAAAAAAAAAAAAAAAAAAAAAAAAAAAAAAAAAAAAAv3aB7AAAAD3RSTlMAIs1UmauJMnZmRLsQ\n",
       "3e++988cAAAACXBIWXMAAA7EAAAOxAGVKw4bAAAAXklEQVQI12NgAAEhBijQh9LM/6EMlngBCCMx\n",
       "vwBMMzb0G0BkGOwngBmLGeoTwAwHBvkAEM2xxSV+A4hxgoGB/wJEhoH3AZDmAupg+gBkyAEx90cG\n",
       "htP/dRiY939KAABt3hLO6mcEjQAAAABJRU5ErkJggg==\n",
       "\" style=\"display:inline;vertical-align:middle;\" /></a></span></td></tr>\n",
       "<tr><td>&nbsp;</td><td colspan=4 style=\"text-align:left\"><span style=\"font-size:20px;\"><a class=\"ProveItLink\" href=\"../../../../../../__pv_it/common/09585084922504426caf1db2ff588a23a0932a960/expr.ipynb\"><img src=\"data:image/png;base64,iVBORw0KGgoAAAANSUhEUgAAAA8AAAAPBAMAAADJ+Ih5AAAAMFBMVEX///8AAAAAAAAAAAAAAAAA\n",
       "AAAAAAAAAAAAAAAAAAAAAAAAAAAAAAAAAAAAAAAAAAAv3aB7AAAAD3RSTlMAIs1UmauJMnZmRLsQ\n",
       "3e++988cAAAACXBIWXMAAA7EAAAOxAGVKw4bAAAAXklEQVQI12NgAAEhBijQh9LM/6EMlngBCCMx\n",
       "vwBMMzb0G0BkGOwngBmLGeoTwAwHBvkAEM2xxSV+A4hxgoGB/wJEhoH3AZDmAupg+gBkyAEx90cG\n",
       "htP/dRiY939KAABt3hLO6mcEjQAAAABJRU5ErkJggg==\n",
       "\" style=\"display:inline;vertical-align:middle;\" /></a> : <a class=\"ProveItLink\" href=\"../../../../../../__pv_it/common/09585084922504426caf1db2ff588a23a0932a960/expr.ipynb\"><img src=\"data:image/png;base64,iVBORw0KGgoAAAANSUhEUgAAAA8AAAAPBAMAAADJ+Ih5AAAAMFBMVEX///8AAAAAAAAAAAAAAAAA\n",
       "AAAAAAAAAAAAAAAAAAAAAAAAAAAAAAAAAAAAAAAAAAAv3aB7AAAAD3RSTlMAIs1UmauJMnZmRLsQ\n",
       "3e++988cAAAACXBIWXMAAA7EAAAOxAGVKw4bAAAAXklEQVQI12NgAAEhBijQh9LM/6EMlngBCCMx\n",
       "vwBMMzb0G0BkGOwngBmLGeoTwAwHBvkAEM2xxSV+A4hxgoGB/wJEhoH3AZDmAupg+gBkyAEx90cG\n",
       "htP/dRiY939KAABt3hLO6mcEjQAAAABJRU5ErkJggg==\n",
       "\" style=\"display:inline;vertical-align:middle;\" /></a></span></td></tr><tr><td><a name=\"-0x74c074b9f5c14628_step3\">3</a></td><td>conjecture</td><td></td><td><span style=\"font-size:20px;\"> <a class=\"ProveItLink\" href=\"../modus_tollens_affirmation/thm_proof.ipynb\" style=\"text-decoration: none\">&nbsp;&#x22A2;&nbsp;&nbsp;</a><a class=\"ProveItLink\" href=\"../../../__pv_it/theorems/ddbe78f626c5f7925b4ee5b0ff224c7c3edc09100/expr.ipynb\"><img src=\"data:image/png;base64,iVBORw0KGgoAAAANSUhEUgAAAOoAAAAZBAMAAADNvK/KAAAAMFBMVEX///8AAAAAAAAAAAAAAAAA\n",
       "AAAAAAAAAAAAAAAAAAAAAAAAAAAAAAAAAAAAAAAAAAAv3aB7AAAAD3RSTlMAq1RmmUTNIjK7EInv\n",
       "3XZ/CtNrAAAACXBIWXMAAA7EAAAOxAGVKw4bAAAC+UlEQVRIx+WWTWgTQRTH/8kmu8lujTn0UPHg\n",
       "iiB60UDVm5pAay09GPBS8WAERWzBpgpCUUyEXgpSpFBxK5LVm0ghlHqoudh6EfygaMFLA4HiQfBQ\n",
       "tWq1+DEfm52J26SK25MDyczu7H9+M++9eTNAwxIov4bfJVZ+ucYXKtajtP4fVC3DqHHa3lafGqBV\n",
       "MOEXVV1k1HbaPlOfGkrTKusXdTenXqXLvl6fGqHGGPDNwqkvjKragGE28GsPqSb8ghqXlhlVSTSK\n",
       "GZUHXMYv6pXYBx7Dz8vlp42oTeXyfNEvajL4kVMPA2Psjb06NZRHVO4K8SooAsxG7A+hYTOywqn9\n",
       "0Nju0Z84w/WemjMlKuntJ62hpVJnnr6K8p697lBUmJSGjhS6Jm+KR1fIZqy959SobaSZo6nFhzeN\n",
       "olI8v0POEmN4QP6VWcQeCaoeFxFChMflFe0H3oknV0jK27bUV04NVngwdb8gcyHmJlTjrkzdxYIp\n",
       "kISyKKhsG8MVqtwHPNs0AwelA6QqJFOtAN+djJg5wF5VTgILrFG88FCmqgr5GE0mxhOCukEMS4XO\n",
       "3gswZ89AfyW6XSEPiXmHOtHDzh8cgs6yRaXtWV6mGtvpQnILe1ogqBfFwUWECCYxZVnWDRob2o/W\n",
       "VF5QXSFwlPz6HOpl5qJu4otwgq918I1M1aa5s/RmiXoMDDPLhQg72c1oZ468Q6PLIP23JSE06t5C\n",
       "llMDbGJdpS22ctayRqhfjZozp8VxVi4tqFt5f5wLEXGo2mabOlL7VHWqJNQLn23s/NkrnXRkx+Xy\n",
       "kSJfqxHznnQzwAlp5wxVqUxYtbB1izsyvCyornCV85WYfKPJ0wWhDnuo2jfoc/BEU9IRxircwNRF\n",
       "ORvjSdyvblBX6KWGpqEfOY0BMqnguV4r4aHuWyl1mhI1mq0ROo+DdH/2lSZHgGvm78K6dwl9yhpd\n",
       "6y7BqeHa1HwPnqRq+nqDcTJiR83LDm/KtdeDasijKmnPZ8q/3Na892ENXmvqf3cffvwL2Dq+QdJw\n",
       "9pwAAAAASUVORK5CYII=\n",
       "\" style=\"display:inline;vertical-align:middle;\" /></a></span></td></tr>\n",
       "<tr><td>&nbsp;</td><td colspan=4 style-\"text-align:left\"><a class=\"ProveItLink\" href=\"../modus_tollens_affirmation/thm_proof.ipynb\">proveit.logic.booleans.implication.modus_tollens_affirmation</a></td></tr><tr><td><a name=\"-0x74c074b9f5c14628_step4\">4</a></td><td>assumption</td><td></td><td><span style=\"font-size:20px;\"><a class=\"ProveItLink\" href=\"../../../../__pv_it/theorems/a10dbfd9a4efbb6f30af430036ab01697a9460f80/expr.ipynb\"><img src=\"data:image/png;base64,iVBORw0KGgoAAAANSUhEUgAAADYAAAAQBAMAAACvnpHFAAAAMFBMVEX///8AAAAAAAAAAAAAAAAA\n",
       "AAAAAAAAAAAAAAAAAAAAAAAAAAAAAAAAAAAAAAAAAAAv3aB7AAAAD3RSTlMAIs1UmauJMnZmRLsQ\n",
       "3e++988cAAAACXBIWXMAAA7EAAAOxAGVKw4bAAAA40lEQVQY02NgAAEhBhTAcW/Tp7dRUI4+qhwD\n",
       "N1eD0NEFYCbzfwy5CWwCG8BMlngBDDlOgwAwMzG/AGrR3ruX4HIKIBZjQ78BWIpL4wBcH6tkAthI\n",
       "BvsJEOcegJvZ0xsGZi1mqAerYVBE2Hfp/RWwQgcGeYi9Ckhu4ZilA3LAFpd4sHvZ3969e/c2VI5h\n",
       "wzIg4wQDA/8FkAjPBiR9DBu4wUYy8D4AC11AkWMCOhzoRqYPYKEOFDkLBgY5EPsjWIjJAC6XwNbm\n",
       "wHD6vw4D8/5PYE/wRK+BBI/ebkQ8wABXNiTMIAAAYXA8zHUEOxUAAAAASUVORK5CYII=\n",
       "\" style=\"display:inline;vertical-align:middle;\" /></a> <a class=\"ProveItLink\" href=\"../../../__pv_it/_proof_contrapose_neg_antecedent/db3c0f8d66e8b38e6e12b7373153857b7bab3da90/proof.ipynb\" style=\"text-decoration: none\">&nbsp;&#x22A2;&nbsp;&nbsp;</a><a class=\"ProveItLink\" href=\"../../../../__pv_it/theorems/a10dbfd9a4efbb6f30af430036ab01697a9460f80/expr.ipynb\"><img src=\"data:image/png;base64,iVBORw0KGgoAAAANSUhEUgAAADYAAAAQBAMAAACvnpHFAAAAMFBMVEX///8AAAAAAAAAAAAAAAAA\n",
       "AAAAAAAAAAAAAAAAAAAAAAAAAAAAAAAAAAAAAAAAAAAv3aB7AAAAD3RSTlMAIs1UmauJMnZmRLsQ\n",
       "3e++988cAAAACXBIWXMAAA7EAAAOxAGVKw4bAAAA40lEQVQY02NgAAEhBhTAcW/Tp7dRUI4+qhwD\n",
       "N1eD0NEFYCbzfwy5CWwCG8BMlngBDDlOgwAwMzG/AGrR3ruX4HIKIBZjQ78BWIpL4wBcH6tkAthI\n",
       "BvsJEOcegJvZ0xsGZi1mqAerYVBE2Hfp/RWwQgcGeYi9Ckhu4ZilA3LAFpd4sHvZ3969e/c2VI5h\n",
       "wzIg4wQDA/8FkAjPBiR9DBu4wUYy8D4AC11AkWMCOhzoRqYPYKEOFDkLBgY5EPsjWIjJAC6XwNbm\n",
       "wHD6vw4D8/5PYE/wRK+BBI/ebkQ8wABXNiTMIAAAYXA8zHUEOxUAAAAASUVORK5CYII=\n",
       "\" style=\"display:inline;vertical-align:middle;\" /></a></span></td></tr>\n",
       "<tr><td><a name=\"-0x74c074b9f5c14628_step5\">5</a></td><td>assumption</td><td></td><td><span style=\"font-size:20px;\"><a class=\"ProveItLink\" href=\"../../../__pv_it/theorems/40204e1874e2c682f1ab2a7bb3f735c754d3250e0/expr.ipynb\"><img src=\"data:image/png;base64,iVBORw0KGgoAAAANSUhEUgAAAFwAAAAVBAMAAAA5lpTPAAAAMFBMVEX///8AAAAAAAAAAAAAAAAA\n",
       "AAAAAAAAAAAAAAAAAAAAAAAAAAAAAAAAAAAAAAAAAAAv3aB7AAAAD3RSTlMAInZUiRDNmWbv3US7\n",
       "qzJazP2FAAAACXBIWXMAAA7EAAAOxAGVKw4bAAABbklEQVQoz2NgYBBgQAWMDPgAkwEyT4yBgVsB\n",
       "n3ITFF4+EGtgU9bz/+7dnAcMrAnIgsz/gQRbADb1cxgYeP8xsDcgi7HfB/qEowCLasZPQGd+Z+BE\n",
       "EXT0fwAkpyIEjsIYHP+A+BODGYoRCvogj2cgRN7AGLwfgK6cyFCC4hYGe5DbfBEiHA5QBucBBtZb\n",
       "D5BNYmDYzPAeJN0G1roKDL5Dpd4fUroGNGoxTALkvwIG+QtAyhI5rJIhtL4AA/MMBobZMGcD1TEd\n",
       "L79/AGQSso1hEBUngRgYDsjKgxgY+BcA2TuRfZ8CSSR/gbhfAeQYuHKge7gmANlWSG5fBlHN9wNI\n",
       "3N/AcAimvICBG+gVtg+gCEcYzn0AmrI+ArV8Qwk0SSDmAQojB64YlGYD2rozlYHhFVwm5n8qA/P5\n",
       "b8CQXI1Qfg4aSef/3r12GMjgeoCZPBYg2OiZAUt6Qk11aOAghogMvuwRQ4QBKKkQPTcK4FYMAMva\n",
       "XILEnyWGAAAAAElFTkSuQmCC\n",
       "\" style=\"display:inline;vertical-align:middle;\" /></a> <a class=\"ProveItLink\" href=\"../../../__pv_it/_proof_contrapose_neg_antecedent/89de57bf01775f4ba20e79dd5eb10a10ce2c2c670/proof.ipynb\" style=\"text-decoration: none\">&nbsp;&#x22A2;&nbsp;&nbsp;</a><a class=\"ProveItLink\" href=\"../../../__pv_it/theorems/40204e1874e2c682f1ab2a7bb3f735c754d3250e0/expr.ipynb\"><img src=\"data:image/png;base64,iVBORw0KGgoAAAANSUhEUgAAAFwAAAAVBAMAAAA5lpTPAAAAMFBMVEX///8AAAAAAAAAAAAAAAAA\n",
       "AAAAAAAAAAAAAAAAAAAAAAAAAAAAAAAAAAAAAAAAAAAv3aB7AAAAD3RSTlMAInZUiRDNmWbv3US7\n",
       "qzJazP2FAAAACXBIWXMAAA7EAAAOxAGVKw4bAAABbklEQVQoz2NgYBBgQAWMDPgAkwEyT4yBgVsB\n",
       "n3ITFF4+EGtgU9bz/+7dnAcMrAnIgsz/gQRbADb1cxgYeP8xsDcgi7HfB/qEowCLasZPQGd+Z+BE\n",
       "EXT0fwAkpyIEjsIYHP+A+BODGYoRCvogj2cgRN7AGLwfgK6cyFCC4hYGe5DbfBEiHA5QBucBBtZb\n",
       "D5BNYmDYzPAeJN0G1roKDL5Dpd4fUroGNGoxTALkvwIG+QtAyhI5rJIhtL4AA/MMBobZMGcD1TEd\n",
       "L79/AGQSso1hEBUngRgYDsjKgxgY+BcA2TuRfZ8CSSR/gbhfAeQYuHKge7gmANlWSG5fBlHN9wNI\n",
       "3N/AcAimvICBG+gVtg+gCEcYzn0AmrI+ArV8Qwk0SSDmAQojB64YlGYD2rozlYHhFVwm5n8qA/P5\n",
       "b8CQXI1Qfg4aSef/3r12GMjgeoCZPBYg2OiZAUt6Qk11aOAghogMvuwRQ4QBKKkQPTcK4FYMAMva\n",
       "XILEnyWGAAAAAElFTkSuQmCC\n",
       "\" style=\"display:inline;vertical-align:middle;\" /></a></span></td></tr>\n",
       "<tr><td><a name=\"-0x74c074b9f5c14628_step6\">6</a></td><td>assumption</td><td></td><td><span style=\"font-size:20px;\"><a class=\"ProveItLink\" href=\"../../../__pv_it/theorems/8552c6321b312c5e15a5015adce4a756ce05da420/expr.ipynb\"><img src=\"data:image/png;base64,iVBORw0KGgoAAAANSUhEUgAAAB0AAAAOBAMAAAAh/woJAAAAMFBMVEX///8AAAAAAAAAAAAAAAAA\n",
       "AAAAAAAAAAAAAAAAAAAAAAAAAAAAAAAAAAAAAAAAAAAv3aB7AAAAD3RSTlMAmd0iq2a7zTLvdkQQ\n",
       "VIm/XloVAAAACXBIWXMAAA7EAAAOxAGVKw4bAAAAgUlEQVQI12NggALW/C8u7hkMCMCZwMDg34Dg\n",
       "2y9gYNgvgODHA+XiFyD4/kBcaYDgT2NgOKKB4HJ8W7WkFEgLKQGBIgMD12cGhpsBUEkTBga2CQwM\n",
       "fD8QfH4HoJt+Ifj9QLUsv6F8QwaG9UCr+gsQ5lcyMHBPPwDnuv13cSm7wMAAAOyYG523RGm6AAAA\n",
       "AElFTkSuQmCC\n",
       "\" style=\"display:inline;vertical-align:middle;\" /></a> <a class=\"ProveItLink\" href=\"../../../__pv_it/_proof_contrapose_neg_antecedent/bd32d0676eab8f44f89518d14e8130e3c90f16690/proof.ipynb\" style=\"text-decoration: none\">&nbsp;&#x22A2;&nbsp;&nbsp;</a><a class=\"ProveItLink\" href=\"../../../__pv_it/theorems/8552c6321b312c5e15a5015adce4a756ce05da420/expr.ipynb\"><img src=\"data:image/png;base64,iVBORw0KGgoAAAANSUhEUgAAAB0AAAAOBAMAAAAh/woJAAAAMFBMVEX///8AAAAAAAAAAAAAAAAA\n",
       "AAAAAAAAAAAAAAAAAAAAAAAAAAAAAAAAAAAAAAAAAAAv3aB7AAAAD3RSTlMAmd0iq2a7zTLvdkQQ\n",
       "VIm/XloVAAAACXBIWXMAAA7EAAAOxAGVKw4bAAAAgUlEQVQI12NggALW/C8u7hkMCMCZwMDg34Dg\n",
       "2y9gYNgvgODHA+XiFyD4/kBcaYDgT2NgOKKB4HJ8W7WkFEgLKQGBIgMD12cGhpsBUEkTBga2CQwM\n",
       "fD8QfH4HoJt+Ifj9QLUsv6F8QwaG9UCr+gsQ5lcyMHBPPwDnuv13cSm7wMAAAOyYG523RGm6AAAA\n",
       "AElFTkSuQmCC\n",
       "\" style=\"display:inline;vertical-align:middle;\" /></a></span></td></tr>\n",
       "</table>"
      ],
      "text/plain": [
       "\tstep type\trequirements\tstatement\n",
       "0\tgeneralization\t1\t|- forall_{A, B | [not](A) => B, A in BOOLEAN} ([not](B) => A)\n",
       "1\tdeduction\t2\t{A in BOOLEAN, [not](A) => B} |- [not](B) => A\n",
       "2\tinstantiation\t3, 4, 5, 6\t{A in BOOLEAN, [not](A) => B, [not](B)} |- A\n",
       "\tA : A\n",
       "3\tconjecture\t\t|- forall_{A in BOOLEAN} [forall_{B | [not](A) => B, [not](B)} A]\n",
       "\tproveit.logic.booleans.implication.modus_tollens_affirmation\n",
       "4\tassumption\t\t{A in BOOLEAN} |- A in BOOLEAN\n",
       "5\tassumption\t\t{[not](A) => B} |- [not](A) => B\n",
       "6\tassumption\t\t{[not](B)} |- [not](B)"
      ]
     },
     "execution_count": 6,
     "metadata": {},
     "output_type": "execute_result"
    }
   ],
   "source": [
    "%qed"
   ]
  },
  {
   "cell_type": "code",
   "execution_count": null,
   "metadata": {},
   "outputs": [],
   "source": []
  }
 ],
 "metadata": {
  "kernelspec": {
   "display_name": "Python 3",
   "language": "python",
   "name": "python3"
  }
 },
 "nbformat": 4,
 "nbformat_minor": 0
}