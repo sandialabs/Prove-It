{
 "cells": [
  {
   "cell_type": "markdown",
   "metadata": {},
   "source": [
    "Proof of <a class=\"ProveItLink\" href=\"../../../../../../_theory_nbs_/theory.ipynb\">proveit</a>.<a class=\"ProveItLink\" href=\"../../../../../_theory_nbs_/theory.ipynb\">logic</a>.<a class=\"ProveItLink\" href=\"../../../../_theory_nbs_/theory.ipynb\">booleans</a>.<a class=\"ProveItLink\" href=\"../../theory.ipynb\">implication</a>.<a class=\"ProveItLink\" href=\"../../theorems.ipynb#from_contraposition\">from_contraposition</a> theorem\n",
    "========"
   ]
  },
  {
   "cell_type": "code",
   "execution_count": 1,
   "metadata": {},
   "outputs": [],
   "source": [
    "import proveit\n",
    "from proveit import defaults\n",
    "from proveit import A\n",
    "theory = proveit.Theory() # the theorem's theory"
   ]
  },
  {
   "cell_type": "code",
   "execution_count": 2,
   "metadata": {},
   "outputs": [
    {
     "data": {
      "text/html": [
       "With these <a href=\"allowed_presumptions.txt\">allowed</a>/<a href=\"disallowed_presumptions.txt\">disallowed</a> theorem/theory presumptions (e.g., to avoid circular dependencies), we begin our proof of<br><strong id=\"from_contraposition\">from_contraposition:</strong> <a class=\"ProveItLink\" href=\"../../../__pv_it/theorems/5d9afc109fe0af420ab8ac70233aac178ca1283a0/expr.ipynb\"><img src=\"data:image/png;base64,iVBORw0KGgoAAAANSUhEUgAAARkAAAAXBAMAAADNQybgAAAAMFBMVEX///8AAAAAAAAAAAAAAAAA\n",
       "AAAAAAAAAAAAAAAAAAAAAAAAAAAAAAAAAAAAAAAAAAAv3aB7AAAAD3RSTlMAq1RmmUTNIjK7EInv\n",
       "3XZ/CtNrAAAACXBIWXMAAA7EAAAOxAGVKw4bAAADnUlEQVRIx71WW0gUURj+d2bXXWd0UxCrh9iN\n",
       "IIIeWkiDHsqNLiY+tNSLZZTdCDVSC4Sg2A16EUpFkloJnXoIJIyphNB9yIzI6IKU9CYsSPQSqWUq\n",
       "Bdl/zj+XM+56IdwOnDmX7//nfOe/zQD8p1a/AhIr1vxBPjQuInIMex6bbMg4m8001KXDts/l51fH\n",
       "wB8C2MvWZzNNRqnigzSXFn0N4JoFqAG4iitva6bZuEM0BNIFh/cPgGcKoAggSwNQg5lmk0PD02cx\n",
       "e6/DnMhoFxkZ5WggI+usjIfNRjJCcly4d5M5cU0ghVfYkcq70dE3GWdTTo6CLSF7T9ZNw7WCsg6N\n",
       "pmJG7Tdtps1zNQ2Sw9N+cSFAmhNJaaf48yC0cAbuUd6mDLCl81shYyljqDeAl2e5MkT2m0qUcedm\n",
       "k2ixoeLrKu+9DRAWjii2U2bIRAwxTrb29IjpmA/8GYZonnibkzSO14P0gq0H8FRNjbA99TvZbxj8\n",
       "AzYbxVLfAfAVoFLIWvvNTLdSFIPmte2Q1C9sMgRecsPe3BNwZO99vg13sLPw9mH8SEkK4or3FFJh\n",
       "kCdsNu6IqVoAUEIpiDohB8R1CTHE3Oh/ZKPeE9k8BFg1LGZ2Lbl6EntJErOcWaFqJ99LnqCQCkJP\n",
       "yGaTa+kOgvLRKgarHRDXNRASG+O7+sV+0VPoy9wBIW4+ERnfD3wE8GoSo/q4huJzH8eiY0VrwGbT\n",
       "aJeorbvQmlJYjWM7FxO/OVxXCttiCndIcs9bs7x0YvewWjJhX8FjeM0/g4ymWZCwjcvc/xXc3czv\n",
       "SoHA5jBAH54+zOLpbth+RW/EhkiXEBLzhMg21z4bJz9i57CXzthszNtkob2OMou4WcK5+AXKEwHN\n",
       "8Hs0YrNZTxp5LJ68P/ESBpuGfhsiXUJITK6Ox9tY3KjGiTcAuudqQOqa1i02Ruq5uibzC9t4VESE\n",
       "QhKNkd/huJDhTeaRGE+eWctTcV2ASJc8RWI+nWyjmlUoN7aM/5kr1uwQxntQ0cH7C5QRSIlirBQa\n",
       "9OB5/iRfPxEhrsuQB2CKdRhsms26G15Gwd5tFd7noBw44xuEbb8TZUGBTbZxA7ku0dtmrX1hASJd\n",
       "trweNMUusYA/Xxu3PgS3liaT8ichCXNi49GdEt1U+NJADLG+iUpfvD2N3qIte77rjqSwgVKnROkC\n",
       "c77yaAtfPLkkmy/zN0KpbFTHCXJEWDgghsiZ+wnwWp9n8Y/SIaItiPxj+wu1GPX6kWgOcAAAAABJ\n",
       "RU5ErkJggg==\n",
       "\" style=\"display:inline;vertical-align:middle;\" /></a><br>(see <a class=\"ProveItLink\" href=\"../../../__pv_it/theorems/9858a731876efec47f8453b6421a8f4fa22433ca0/dependencies.ipynb\">dependencies</a>)<br>"
      ],
      "text/plain": [
       "<IPython.core.display.HTML object>"
      ]
     },
     "metadata": {},
     "output_type": "display_data"
    }
   ],
   "source": [
    "%proving from_contraposition"
   ]
  },
  {
   "cell_type": "code",
   "execution_count": 3,
   "metadata": {},
   "outputs": [
    {
     "data": {
      "text/html": [
       "<strong id=\"defaults.assumptions\">defaults.assumptions:</strong> <a class=\"ProveItLink\" href=\"../../../__pv_it/_proof_from_contraposition/69da4f07ed7d8e847601a92f8d0478246071faab0/expr.ipynb\"><img src=\"data:image/png;base64,iVBORw0KGgoAAAANSUhEUgAAAOMAAAAVBAMAAABGa0R7AAAAMFBMVEX///8AAAAAAAAAAAAAAAAA\n",
       "AAAAAAAAAAAAAAAAAAAAAAAAAAAAAAAAAAAAAAAAAAAv3aB7AAAAD3RSTlMAInZUiRDNmWbv3US7\n",
       "qzJazP2FAAAACXBIWXMAAA7EAAAOxAGVKw4bAAAC30lEQVRIx41WTWgTURCezWbzu1lCEQVBWBVF\n",
       "RDAHzUkw9eKpGHrwVDGigQaE5lBRhEJBoRdBvQnNoSAiLlSllFLFwxpP6iF66UEJ9mov1h+iFGud\n",
       "t/ve7rzd16QDw+wu3zfzZt7MewsARfBVktgHT7SdwfqIR0iUfJVlQUk4KMWvbQfjcrQ10Zh/riCc\n",
       "4Mrlzla3e3UVEtMKH3qFvqXWgcA4TxJ3Qat/jhOMmq+BtAAK/wDqipDnpbfT6IHAOE8KuQzDZpyQ\n",
       "nvY1yP4HQP43wIwi5A3pbeo7EJjgRULeKsQJWfBVSAZXmkF6thp8MsXjPeovuYvlFMAEj8kxx6mJ\n",
       "kKk4oYymTDwVMPvUfdQwc8vlW0nrD0OJn0BggoeydCjM8uPtOGESzSTxlHXB+IRtkPwQfuO0tNQ9\n",
       "Tf0PEJjgYYnrYfuMzlfihHE048TTt/aBFbbyjJfSTYfJs6bfcbSL8yXrVwAjPIQFw+q+bGxcixMe\n",
       "okFNe77R9fEi6A9YFenGlb25zZX4Gh6zlEHbpDDBw5C0fY4sic0OCbNoZkXXYZXeoj2HBbLWSUij\n",
       "wSY6K8Z6H2uR61N/gcAED+ArW5XLQ5p5UdmQEA3JVnLXxjrQLHcPQySkgZANIDDBAxijWZrAe48Q\n",
       "eGFFSItt8Rf0rc+Fe+lcAlFYETKN5gkIGIQ8hMkha6KuAaGNpi1CNiGB42r12Da7YZKv+Hza/H0P\n",
       "wDKaCR9meCe14OGjTUPqNni7SQgjaEbIOYiFelGXJ0LjCyVzo7F6dooe7GKN8lAuByEX4cxZMHoR\n",
       "who+roUHQWezu/LGK094BZj8tLbmgnbq9KpwauuKB8s9ojyUC+/9Lj3c6ng3iVONENBfbjV+nu5V\n",
       "3JJP1bCT0Y+L7xx6UOlVmZBp+tr/CPdlRg2rDLiWk1HCa66R+99VcM2iCmbYA0KORv2OSaO0vXe2\n",
       "ha4Klhj082FH/Wq2r7LsV5KHdgbrI0j4D0Ti89K5o5+dAAAAAElFTkSuQmCC\n",
       "\" style=\"display:inline;vertical-align:middle;\" /></a><br>"
      ],
      "text/plain": [
       "<IPython.core.display.HTML object>"
      ]
     },
     "metadata": {},
     "output_type": "display_data"
    }
   ],
   "source": [
    "defaults.assumptions = list(from_contraposition.all_conditions()) + [A]"
   ]
  },
  {
   "cell_type": "code",
   "execution_count": 4,
   "metadata": {},
   "outputs": [
    {
     "data": {
      "text/html": [
       "<strong id=\"not_b_implies_not_a\">not_b_implies_not_a:</strong> <a class=\"ProveItLink\" href=\"../../../__pv_it/theorems/dfe81bd9757474c600fb2f3ddb851650b8dc89e20/expr.ipynb\"><img src=\"data:image/png;base64,iVBORw0KGgoAAAANSUhEUgAAAHkAAAAVBAMAAACQ4lxbAAAAMFBMVEX///8AAAAAAAAAAAAAAAAA\n",
       "AAAAAAAAAAAAAAAAAAAAAAAAAAAAAAAAAAAAAAAAAAAv3aB7AAAAD3RSTlMAInZUiRDNmWbv3US7\n",
       "qzJazP2FAAAACXBIWXMAAA7EAAAOxAGVKw4bAAAB0klEQVQ4y42Uv0vDQBTHXxJr018hFFEQhKqr\n",
       "YAfpJKh/gNjJyaGCBQXBDIIiFByELoK6CToUOogdtDgpOMQ6OdWpg1DM7GL9QRWx1neXpHdJD/Qg\n",
       "XO7x+b5f9xIA0MG3ugx0SUJMTvrNF0L1qMdVxsEmmG23Xa+vWiBvC8TKNH/qbQDFAhnOeAwQ+wHI\n",
       "CtTzntMUqgkW5AJJrwCRD4C8QL3pOeVegGIhzqZiXBU9hNIdU9R93efFPX1IEizFGWOYT+8BPiwf\n",
       "zXTK5guEuPwGFFvnjCETAg8Wur5nth17C3qaZiifQLFlzvhcGamRsCoNtFUi69ywm8zfQySpvdtY\n",
       "Ef1SDKlxHZRDkiZfZIrOQzjpuDshiYDUsrEjt9+Y7R3uc5i51uDUgZUyKarsHIfwGdvIfQPFeDVx\n",
       "uJfAzPjY/TPgUwcQ+QKKFZlaI614REwpsLpLi+Bm7qqDuJ0CxSqu2gAZR0BrknaYLPS1c+8J5zwA\n",
       "cInbmo3NcsOLCV9lvdcjOffMXaJE6qrqFHtis1Jt1Wu3NM0ymzXLmZpCp4vVZhom20sUC1vdMz0o\n",
       "+KrPhJhq/PVF2Csvxm66/yKmQB3VhdjCP0BSrinEpITfPCz8M8UF2C/ClHXbAuImNwAAAABJRU5E\n",
       "rkJggg==\n",
       "\" style=\"display:inline;vertical-align:middle;\" /></a><br>"
      ],
      "text/plain": [
       "<IPython.core.display.HTML object>"
      ]
     },
     "metadata": {},
     "output_type": "display_data"
    }
   ],
   "source": [
    "not_b_implies_not_a = defaults.assumptions[0]"
   ]
  },
  {
   "cell_type": "code",
   "execution_count": 5,
   "metadata": {},
   "outputs": [
    {
     "data": {
      "text/html": [
       "<span style=\"font-size:20px;\"><a class=\"ProveItLink\" href=\"../../../__pv_it/theorems/c50b73f2d168f6a3012768bd45c62ea92218bcbc0/expr.ipynb\"><img src=\"data:image/png;base64,iVBORw0KGgoAAAANSUhEUgAAADcAAAAQBAMAAABAXPr7AAAAMFBMVEX///8AAAAAAAAAAAAAAAAA\n",
       "AAAAAAAAAAAAAAAAAAAAAAAAAAAAAAAAAAAAAAAAAAAv3aB7AAAAD3RSTlMAZrurzTLvInZEmRDd\n",
       "VIkafcLnAAAACXBIWXMAAA7EAAAOxAGVKw4bAAAA8UlEQVQY02NgwAZ6kvzdDk8AsYT+Gxs7BaDK\n",
       "Ksxg97YEs5IYGJi/oklOZHjOBGKw/2Bg4PyFISnLDGIwAnUx/gCLceicOQKXZAExmD8wMLCkg1ic\n",
       "HhsQOs3lQAw2BQZuG7CDSjYgHLTj8AMQI16jw0QALOSOsHOO25/VIEZ/AQNvIljIAdlBjVNA5qgB\n",
       "8XuQsaw5Z86cOQSTZOIEmfsZiOUbgAS3ArJOJgYgl/UjkGMPDqsDqJJAWzi+AxV8AQt1oEjyAk1j\n",
       "SWBgmOYNFmK5AJecx/DiFTAI9D8bm+hChLiNZkMYLUn60FhBApyPoMEHAQCDjz3xiC/o5wAAAABJ\n",
       "RU5ErkJggg==\n",
       "\" style=\"display:inline;vertical-align:middle;\" /></a>, <a class=\"ProveItLink\" href=\"../../../__pv_it/theorems/dfe81bd9757474c600fb2f3ddb851650b8dc89e20/expr.ipynb\"><img src=\"data:image/png;base64,iVBORw0KGgoAAAANSUhEUgAAAHkAAAAVBAMAAACQ4lxbAAAAMFBMVEX///8AAAAAAAAAAAAAAAAA\n",
       "AAAAAAAAAAAAAAAAAAAAAAAAAAAAAAAAAAAAAAAAAAAv3aB7AAAAD3RSTlMAInZUiRDNmWbv3US7\n",
       "qzJazP2FAAAACXBIWXMAAA7EAAAOxAGVKw4bAAAB0klEQVQ4y42Uv0vDQBTHXxJr018hFFEQhKqr\n",
       "YAfpJKh/gNjJyaGCBQXBDIIiFByELoK6CToUOogdtDgpOMQ6OdWpg1DM7GL9QRWx1neXpHdJD/Qg\n",
       "XO7x+b5f9xIA0MG3ugx0SUJMTvrNF0L1qMdVxsEmmG23Xa+vWiBvC8TKNH/qbQDFAhnOeAwQ+wHI\n",
       "CtTzntMUqgkW5AJJrwCRD4C8QL3pOeVegGIhzqZiXBU9hNIdU9R93efFPX1IEizFGWOYT+8BPiwf\n",
       "zXTK5guEuPwGFFvnjCETAg8Wur5nth17C3qaZiifQLFlzvhcGamRsCoNtFUi69ywm8zfQySpvdtY\n",
       "Ef1SDKlxHZRDkiZfZIrOQzjpuDshiYDUsrEjt9+Y7R3uc5i51uDUgZUyKarsHIfwGdvIfQPFeDVx\n",
       "uJfAzPjY/TPgUwcQ+QKKFZlaI614REwpsLpLi+Bm7qqDuJ0CxSqu2gAZR0BrknaYLPS1c+8J5zwA\n",
       "cInbmo3NcsOLCV9lvdcjOffMXaJE6qrqFHtis1Jt1Wu3NM0ymzXLmZpCp4vVZhom20sUC1vdMz0o\n",
       "+KrPhJhq/PVF2Csvxm66/yKmQB3VhdjCP0BSrinEpITfPCz8M8UF2C/ClHXbAuImNwAAAABJRU5E\n",
       "rkJggg==\n",
       "\" style=\"display:inline;vertical-align:middle;\" /></a> <a class=\"ProveItLink\" href=\"../../../__pv_it/_proof_from_contraposition/89faa2e593450d1b8583274c68eeb89675df268d0/proof.ipynb\" style=\"text-decoration: none\">&nbsp;&#x22A2;&nbsp;&nbsp;</a><a class=\"ProveItLink\" href=\"../../../__pv_it/theorems/d78c7a0a66f0f0f40e69d505fb93268ea9af46dc0/expr.ipynb\"><img src=\"data:image/png;base64,iVBORw0KGgoAAAANSUhEUgAAAEAAAAAQBAMAAABUyWQaAAAAMFBMVEX///8AAAAAAAAAAAAAAAAA\n",
       "AAAAAAAAAAAAAAAAAAAAAAAAAAAAAAAAAAAAAAAAAAAv3aB7AAAAD3RSTlMAIs1UmauJMnZmRLsQ\n",
       "3e++988cAAAACXBIWXMAAA7EAAAOxAGVKw4bAAAA8UlEQVQoz2NgAAEhBgJAH5vg7P+hodoFYCbz\n",
       "f6zaXjMwsH4Hs1jiBbDIM/5gYOD6AmYm5hcgxPfAGJxA3Zw/wEob+g0QCqphDNYPDAxMD8E2MNhP\n",
       "QCjgTIAy+DYw8MSCjV7MUA8WZLkLBl+gCup3dARBNDowyAcgOY5ZGUL3CzAwvwQxOLa4xG9Adv6h\n",
       "V2BqHxCDXX+CgYH/ArL31CCe/grE8xvANjDwPkBywyWIPPtPIBG/ABgWQIcwfUAYwAW1juMjUNEn\n",
       "IEMOiLk/IhTAIo4JaOo6HQaG0/91GJj3f0qAK9gODab9X0ODNmOLIrRoAQDyg0EOXpubEgAAAABJ\n",
       "RU5ErkJggg==\n",
       "\" style=\"display:inline;vertical-align:middle;\" /></a></span>"
      ],
      "text/plain": [
       "{B in BOOLEAN, [not](B) => [not](A)} |- A => B"
      ]
     },
     "metadata": {},
     "output_type": "display_data"
    },
    {
     "name": "stdout",
     "output_type": "stream",
     "text": [
      "from_contraposition may now be readily provable (assuming required theorems are usable).  Simply execute \"%qed\".\n"
     ]
    }
   ],
   "source": [
    "not_b_implies_not_a.deny_antecedent().as_implication(A)"
   ]
  },
  {
   "cell_type": "code",
   "execution_count": 6,
   "metadata": {},
   "outputs": [
    {
     "name": "stdout",
     "output_type": "stream",
     "text": [
      "proveit.logic.booleans.implication.from_contraposition has been proven.\n"
     ]
    },
    {
     "data": {
      "text/html": [
       "<table><tr><th>&nbsp;</th><th>step type</th><th>requirements</th><th>statement</th></tr>\n",
       "<tr><td><a name=\"-0x414f2af04ca6dc2b_step0\">0</a></td><td>generalization</td><td><a href=\"#-0x414f2af04ca6dc2b_step1\">1</a></td><td><span style=\"font-size:20px;\"> <a class=\"ProveItLink\" href=\"../../../__pv_it/_proof_from_contraposition/a3ae4ba00a4d1a45762948c18898578e42c314980/proof.ipynb\" style=\"text-decoration: none\">&nbsp;&#x22A2;&nbsp;&nbsp;</a><a class=\"ProveItLink\" href=\"../../../__pv_it/theorems/5d9afc109fe0af420ab8ac70233aac178ca1283a0/expr.ipynb\"><img src=\"data:image/png;base64,iVBORw0KGgoAAAANSUhEUgAAARkAAAAXBAMAAADNQybgAAAAMFBMVEX///8AAAAAAAAAAAAAAAAA\n",
       "AAAAAAAAAAAAAAAAAAAAAAAAAAAAAAAAAAAAAAAAAAAv3aB7AAAAD3RSTlMAq1RmmUTNIjK7EInv\n",
       "3XZ/CtNrAAAACXBIWXMAAA7EAAAOxAGVKw4bAAADnUlEQVRIx71WW0gUURj+d2bXXWd0UxCrh9iN\n",
       "IIIeWkiDHsqNLiY+tNSLZZTdCDVSC4Sg2A16EUpFkloJnXoIJIyphNB9yIzI6IKU9CYsSPQSqWUq\n",
       "Bdl/zj+XM+56IdwOnDmX7//nfOe/zQD8p1a/AhIr1vxBPjQuInIMex6bbMg4m8001KXDts/l51fH\n",
       "wB8C2MvWZzNNRqnigzSXFn0N4JoFqAG4iitva6bZuEM0BNIFh/cPgGcKoAggSwNQg5lmk0PD02cx\n",
       "e6/DnMhoFxkZ5WggI+usjIfNRjJCcly4d5M5cU0ghVfYkcq70dE3GWdTTo6CLSF7T9ZNw7WCsg6N\n",
       "pmJG7Tdtps1zNQ2Sw9N+cSFAmhNJaaf48yC0cAbuUd6mDLCl81shYyljqDeAl2e5MkT2m0qUcedm\n",
       "k2ixoeLrKu+9DRAWjii2U2bIRAwxTrb29IjpmA/8GYZonnibkzSO14P0gq0H8FRNjbA99TvZbxj8\n",
       "AzYbxVLfAfAVoFLIWvvNTLdSFIPmte2Q1C9sMgRecsPe3BNwZO99vg13sLPw9mH8SEkK4or3FFJh\n",
       "kCdsNu6IqVoAUEIpiDohB8R1CTHE3Oh/ZKPeE9k8BFg1LGZ2Lbl6EntJErOcWaFqJ99LnqCQCkJP\n",
       "yGaTa+kOgvLRKgarHRDXNRASG+O7+sV+0VPoy9wBIW4+ERnfD3wE8GoSo/q4huJzH8eiY0VrwGbT\n",
       "aJeorbvQmlJYjWM7FxO/OVxXCttiCndIcs9bs7x0YvewWjJhX8FjeM0/g4ymWZCwjcvc/xXc3czv\n",
       "SoHA5jBAH54+zOLpbth+RW/EhkiXEBLzhMg21z4bJz9i57CXzthszNtkob2OMou4WcK5+AXKEwHN\n",
       "8Hs0YrNZTxp5LJ68P/ESBpuGfhsiXUJITK6Ox9tY3KjGiTcAuudqQOqa1i02Ruq5uibzC9t4VESE\n",
       "QhKNkd/huJDhTeaRGE+eWctTcV2ASJc8RWI+nWyjmlUoN7aM/5kr1uwQxntQ0cH7C5QRSIlirBQa\n",
       "9OB5/iRfPxEhrsuQB2CKdRhsms26G15Gwd5tFd7noBw44xuEbb8TZUGBTbZxA7ku0dtmrX1hASJd\n",
       "trweNMUusYA/Xxu3PgS3liaT8ichCXNi49GdEt1U+NJADLG+iUpfvD2N3qIte77rjqSwgVKnROkC\n",
       "c77yaAtfPLkkmy/zN0KpbFTHCXJEWDgghsiZ+wnwWp9n8Y/SIaItiPxj+wu1GPX6kWgOcAAAAABJ\n",
       "RU5ErkJggg==\n",
       "\" style=\"display:inline;vertical-align:middle;\" /></a></span></td></tr>\n",
       "<tr><td><a name=\"-0x414f2af04ca6dc2b_step1\">1</a></td><td>deduction</td><td><a href=\"#-0x414f2af04ca6dc2b_step2\">2</a></td><td><span style=\"font-size:20px;\"><a class=\"ProveItLink\" href=\"../../../__pv_it/theorems/c50b73f2d168f6a3012768bd45c62ea92218bcbc0/expr.ipynb\"><img src=\"data:image/png;base64,iVBORw0KGgoAAAANSUhEUgAAADcAAAAQBAMAAABAXPr7AAAAMFBMVEX///8AAAAAAAAAAAAAAAAA\n",
       "AAAAAAAAAAAAAAAAAAAAAAAAAAAAAAAAAAAAAAAAAAAv3aB7AAAAD3RSTlMAZrurzTLvInZEmRDd\n",
       "VIkafcLnAAAACXBIWXMAAA7EAAAOxAGVKw4bAAAA8UlEQVQY02NgwAZ6kvzdDk8AsYT+Gxs7BaDK\n",
       "Ksxg97YEs5IYGJi/oklOZHjOBGKw/2Bg4PyFISnLDGIwAnUx/gCLceicOQKXZAExmD8wMLCkg1ic\n",
       "HhsQOs3lQAw2BQZuG7CDSjYgHLTj8AMQI16jw0QALOSOsHOO25/VIEZ/AQNvIljIAdlBjVNA5qgB\n",
       "8XuQsaw5Z86cOQSTZOIEmfsZiOUbgAS3ArJOJgYgl/UjkGMPDqsDqJJAWzi+AxV8AQt1oEjyAk1j\n",
       "SWBgmOYNFmK5AJecx/DiFTAI9D8bm+hChLiNZkMYLUn60FhBApyPoMEHAQCDjz3xiC/o5wAAAABJ\n",
       "RU5ErkJggg==\n",
       "\" style=\"display:inline;vertical-align:middle;\" /></a>, <a class=\"ProveItLink\" href=\"../../../__pv_it/theorems/dfe81bd9757474c600fb2f3ddb851650b8dc89e20/expr.ipynb\"><img src=\"data:image/png;base64,iVBORw0KGgoAAAANSUhEUgAAAHkAAAAVBAMAAACQ4lxbAAAAMFBMVEX///8AAAAAAAAAAAAAAAAA\n",
       "AAAAAAAAAAAAAAAAAAAAAAAAAAAAAAAAAAAAAAAAAAAv3aB7AAAAD3RSTlMAInZUiRDNmWbv3US7\n",
       "qzJazP2FAAAACXBIWXMAAA7EAAAOxAGVKw4bAAAB0klEQVQ4y42Uv0vDQBTHXxJr018hFFEQhKqr\n",
       "YAfpJKh/gNjJyaGCBQXBDIIiFByELoK6CToUOogdtDgpOMQ6OdWpg1DM7GL9QRWx1neXpHdJD/Qg\n",
       "XO7x+b5f9xIA0MG3ugx0SUJMTvrNF0L1qMdVxsEmmG23Xa+vWiBvC8TKNH/qbQDFAhnOeAwQ+wHI\n",
       "CtTzntMUqgkW5AJJrwCRD4C8QL3pOeVegGIhzqZiXBU9hNIdU9R93efFPX1IEizFGWOYT+8BPiwf\n",
       "zXTK5guEuPwGFFvnjCETAg8Wur5nth17C3qaZiifQLFlzvhcGamRsCoNtFUi69ywm8zfQySpvdtY\n",
       "Ef1SDKlxHZRDkiZfZIrOQzjpuDshiYDUsrEjt9+Y7R3uc5i51uDUgZUyKarsHIfwGdvIfQPFeDVx\n",
       "uJfAzPjY/TPgUwcQ+QKKFZlaI614REwpsLpLi+Bm7qqDuJ0CxSqu2gAZR0BrknaYLPS1c+8J5zwA\n",
       "cInbmo3NcsOLCV9lvdcjOffMXaJE6qrqFHtis1Jt1Wu3NM0ymzXLmZpCp4vVZhom20sUC1vdMz0o\n",
       "+KrPhJhq/PVF2Csvxm66/yKmQB3VhdjCP0BSrinEpITfPCz8M8UF2C/ClHXbAuImNwAAAABJRU5E\n",
       "rkJggg==\n",
       "\" style=\"display:inline;vertical-align:middle;\" /></a> <a class=\"ProveItLink\" href=\"../../../__pv_it/_proof_from_contraposition/89faa2e593450d1b8583274c68eeb89675df268d0/proof.ipynb\" style=\"text-decoration: none\">&nbsp;&#x22A2;&nbsp;&nbsp;</a><a class=\"ProveItLink\" href=\"../../../__pv_it/theorems/d78c7a0a66f0f0f40e69d505fb93268ea9af46dc0/expr.ipynb\"><img src=\"data:image/png;base64,iVBORw0KGgoAAAANSUhEUgAAAEAAAAAQBAMAAABUyWQaAAAAMFBMVEX///8AAAAAAAAAAAAAAAAA\n",
       "AAAAAAAAAAAAAAAAAAAAAAAAAAAAAAAAAAAAAAAAAAAv3aB7AAAAD3RSTlMAIs1UmauJMnZmRLsQ\n",
       "3e++988cAAAACXBIWXMAAA7EAAAOxAGVKw4bAAAA8UlEQVQoz2NgAAEhBgJAH5vg7P+hodoFYCbz\n",
       "f6zaXjMwsH4Hs1jiBbDIM/5gYOD6AmYm5hcgxPfAGJxA3Zw/wEob+g0QCqphDNYPDAxMD8E2MNhP\n",
       "QCjgTIAy+DYw8MSCjV7MUA8WZLkLBl+gCup3dARBNDowyAcgOY5ZGUL3CzAwvwQxOLa4xG9Adv6h\n",
       "V2BqHxCDXX+CgYH/ArL31CCe/grE8xvANjDwPkBywyWIPPtPIBG/ABgWQIcwfUAYwAW1juMjUNEn\n",
       "IEMOiLk/IhTAIo4JaOo6HQaG0/91GJj3f0qAK9gODab9X0ODNmOLIrRoAQDyg0EOXpubEgAAAABJ\n",
       "RU5ErkJggg==\n",
       "\" style=\"display:inline;vertical-align:middle;\" /></a></span></td></tr>\n",
       "<tr><td><a name=\"-0x414f2af04ca6dc2b_step2\">2</a></td><td>instantiation</td><td><a href=\"#-0x414f2af04ca6dc2b_step3\">3</a>, <a href=\"#-0x414f2af04ca6dc2b_step4\">4</a>, <a href=\"#-0x414f2af04ca6dc2b_step5\">5</a>, <a href=\"#-0x414f2af04ca6dc2b_step6\">6</a></td><td><span style=\"font-size:20px;\"><a class=\"ProveItLink\" href=\"../../../__pv_it/theorems/c50b73f2d168f6a3012768bd45c62ea92218bcbc0/expr.ipynb\"><img src=\"data:image/png;base64,iVBORw0KGgoAAAANSUhEUgAAADcAAAAQBAMAAABAXPr7AAAAMFBMVEX///8AAAAAAAAAAAAAAAAA\n",
       "AAAAAAAAAAAAAAAAAAAAAAAAAAAAAAAAAAAAAAAAAAAv3aB7AAAAD3RSTlMAZrurzTLvInZEmRDd\n",
       "VIkafcLnAAAACXBIWXMAAA7EAAAOxAGVKw4bAAAA8UlEQVQY02NgwAZ6kvzdDk8AsYT+Gxs7BaDK\n",
       "Ksxg97YEs5IYGJi/oklOZHjOBGKw/2Bg4PyFISnLDGIwAnUx/gCLceicOQKXZAExmD8wMLCkg1ic\n",
       "HhsQOs3lQAw2BQZuG7CDSjYgHLTj8AMQI16jw0QALOSOsHOO25/VIEZ/AQNvIljIAdlBjVNA5qgB\n",
       "8XuQsaw5Z86cOQSTZOIEmfsZiOUbgAS3ArJOJgYgl/UjkGMPDqsDqJJAWzi+AxV8AQt1oEjyAk1j\n",
       "SWBgmOYNFmK5AJecx/DiFTAI9D8bm+hChLiNZkMYLUn60FhBApyPoMEHAQCDjz3xiC/o5wAAAABJ\n",
       "RU5ErkJggg==\n",
       "\" style=\"display:inline;vertical-align:middle;\" /></a>, <a class=\"ProveItLink\" href=\"../../../__pv_it/theorems/dfe81bd9757474c600fb2f3ddb851650b8dc89e20/expr.ipynb\"><img src=\"data:image/png;base64,iVBORw0KGgoAAAANSUhEUgAAAHkAAAAVBAMAAACQ4lxbAAAAMFBMVEX///8AAAAAAAAAAAAAAAAA\n",
       "AAAAAAAAAAAAAAAAAAAAAAAAAAAAAAAAAAAAAAAAAAAv3aB7AAAAD3RSTlMAInZUiRDNmWbv3US7\n",
       "qzJazP2FAAAACXBIWXMAAA7EAAAOxAGVKw4bAAAB0klEQVQ4y42Uv0vDQBTHXxJr018hFFEQhKqr\n",
       "YAfpJKh/gNjJyaGCBQXBDIIiFByELoK6CToUOogdtDgpOMQ6OdWpg1DM7GL9QRWx1neXpHdJD/Qg\n",
       "XO7x+b5f9xIA0MG3ugx0SUJMTvrNF0L1qMdVxsEmmG23Xa+vWiBvC8TKNH/qbQDFAhnOeAwQ+wHI\n",
       "CtTzntMUqgkW5AJJrwCRD4C8QL3pOeVegGIhzqZiXBU9hNIdU9R93efFPX1IEizFGWOYT+8BPiwf\n",
       "zXTK5guEuPwGFFvnjCETAg8Wur5nth17C3qaZiifQLFlzvhcGamRsCoNtFUi69ywm8zfQySpvdtY\n",
       "Ef1SDKlxHZRDkiZfZIrOQzjpuDshiYDUsrEjt9+Y7R3uc5i51uDUgZUyKarsHIfwGdvIfQPFeDVx\n",
       "uJfAzPjY/TPgUwcQ+QKKFZlaI614REwpsLpLi+Bm7qqDuJ0CxSqu2gAZR0BrknaYLPS1c+8J5zwA\n",
       "cInbmo3NcsOLCV9lvdcjOffMXaJE6qrqFHtis1Jt1Wu3NM0ymzXLmZpCp4vVZhom20sUC1vdMz0o\n",
       "+KrPhJhq/PVF2Csvxm66/yKmQB3VhdjCP0BSrinEpITfPCz8M8UF2C/ClHXbAuImNwAAAABJRU5E\n",
       "rkJggg==\n",
       "\" style=\"display:inline;vertical-align:middle;\" /></a>, <a class=\"ProveItLink\" href=\"../../../../../../__pv_it/common/09585084922504426caf1db2ff588a23a0932a960/expr.ipynb\"><img src=\"data:image/png;base64,iVBORw0KGgoAAAANSUhEUgAAAA8AAAAPBAMAAADJ+Ih5AAAAMFBMVEX///8AAAAAAAAAAAAAAAAA\n",
       "AAAAAAAAAAAAAAAAAAAAAAAAAAAAAAAAAAAAAAAAAAAv3aB7AAAAD3RSTlMAIs1UmauJMnZmRLsQ\n",
       "3e++988cAAAACXBIWXMAAA7EAAAOxAGVKw4bAAAAXklEQVQI12NgAAEhBijQh9LM/6EMlngBCCMx\n",
       "vwBMMzb0G0BkGOwngBmLGeoTwAwHBvkAEM2xxSV+A4hxgoGB/wJEhoH3AZDmAupg+gBkyAEx90cG\n",
       "htP/dRiY939KAABt3hLO6mcEjQAAAABJRU5ErkJggg==\n",
       "\" style=\"display:inline;vertical-align:middle;\" /></a> <a class=\"ProveItLink\" href=\"../../../__pv_it/_proof_from_contraposition/570dd1e32c29649583ad113a62dbd95320bd796b0/proof.ipynb\" style=\"text-decoration: none\">&nbsp;&#x22A2;&nbsp;&nbsp;</a><a class=\"ProveItLink\" href=\"../../../../../../__pv_it/common/a9162d1c3cc0470c02e5daf414500903a7a419230/expr.ipynb\"><img src=\"data:image/png;base64,iVBORw0KGgoAAAANSUhEUgAAABAAAAAOBAMAAADUAYG5AAAAMFBMVEX///8AAAAAAAAAAAAAAAAA\n",
       "AAAAAAAAAAAAAAAAAAAAAAAAAAAAAAAAAAAAAAAAAAAv3aB7AAAAD3RSTlMAZrurzTLvInZEmRDd\n",
       "VIkafcLnAAAACXBIWXMAAA7EAAAOxAGVKw4bAAAAb0lEQVQI12NgYBD6b2zsFMAABEkMDMxfgTT7\n",
       "DwYGzl9ABiOQxwjkMDB/YGBgSQcy2BQYuG1AiuM1OkwEQJr6Cxh4E0EMNSB+D5L6DMTyDQwMrB+B\n",
       "DPsJDAwc34GcL0AOSwIDwzRvoHH6n41NdBkYAF/iFeJ4bEa2AAAAAElFTkSuQmCC\n",
       "\" style=\"display:inline;vertical-align:middle;\" /></a></span></td></tr>\n",
       "<tr><td>&nbsp;</td><td colspan=4 style=\"text-align:left\"><span style=\"font-size:20px;\"><a class=\"ProveItLink\" href=\"../../../../../../__pv_it/common/09585084922504426caf1db2ff588a23a0932a960/expr.ipynb\"><img src=\"data:image/png;base64,iVBORw0KGgoAAAANSUhEUgAAAA8AAAAPBAMAAADJ+Ih5AAAAMFBMVEX///8AAAAAAAAAAAAAAAAA\n",
       "AAAAAAAAAAAAAAAAAAAAAAAAAAAAAAAAAAAAAAAAAAAv3aB7AAAAD3RSTlMAIs1UmauJMnZmRLsQ\n",
       "3e++988cAAAACXBIWXMAAA7EAAAOxAGVKw4bAAAAXklEQVQI12NgAAEhBijQh9LM/6EMlngBCCMx\n",
       "vwBMMzb0G0BkGOwngBmLGeoTwAwHBvkAEM2xxSV+A4hxgoGB/wJEhoH3AZDmAupg+gBkyAEx90cG\n",
       "htP/dRiY939KAABt3hLO6mcEjQAAAABJRU5ErkJggg==\n",
       "\" style=\"display:inline;vertical-align:middle;\" /></a> : <a class=\"ProveItLink\" href=\"../../../../../../__pv_it/common/a9162d1c3cc0470c02e5daf414500903a7a419230/expr.ipynb\"><img src=\"data:image/png;base64,iVBORw0KGgoAAAANSUhEUgAAABAAAAAOBAMAAADUAYG5AAAAMFBMVEX///8AAAAAAAAAAAAAAAAA\n",
       "AAAAAAAAAAAAAAAAAAAAAAAAAAAAAAAAAAAAAAAAAAAv3aB7AAAAD3RSTlMAZrurzTLvInZEmRDd\n",
       "VIkafcLnAAAACXBIWXMAAA7EAAAOxAGVKw4bAAAAb0lEQVQI12NgYBD6b2zsFMAABEkMDMxfgTT7\n",
       "DwYGzl9ABiOQxwjkMDB/YGBgSQcy2BQYuG1AiuM1OkwEQJr6Cxh4E0EMNSB+D5L6DMTyDQwMrB+B\n",
       "DPsJDAwc34GcL0AOSwIDwzRvoHH6n41NdBkYAF/iFeJ4bEa2AAAAAElFTkSuQmCC\n",
       "\" style=\"display:inline;vertical-align:middle;\" /></a>, <a class=\"ProveItLink\" href=\"../../../../../../__pv_it/common/a9162d1c3cc0470c02e5daf414500903a7a419230/expr.ipynb\"><img src=\"data:image/png;base64,iVBORw0KGgoAAAANSUhEUgAAABAAAAAOBAMAAADUAYG5AAAAMFBMVEX///8AAAAAAAAAAAAAAAAA\n",
       "AAAAAAAAAAAAAAAAAAAAAAAAAAAAAAAAAAAAAAAAAAAv3aB7AAAAD3RSTlMAZrurzTLvInZEmRDd\n",
       "VIkafcLnAAAACXBIWXMAAA7EAAAOxAGVKw4bAAAAb0lEQVQI12NgYBD6b2zsFMAABEkMDMxfgTT7\n",
       "DwYGzl9ABiOQxwjkMDB/YGBgSQcy2BQYuG1AiuM1OkwEQJr6Cxh4E0EMNSB+D5L6DMTyDQwMrB+B\n",
       "DPsJDAwc34GcL0AOSwIDwzRvoHH6n41NdBkYAF/iFeJ4bEa2AAAAAElFTkSuQmCC\n",
       "\" style=\"display:inline;vertical-align:middle;\" /></a> : <a class=\"ProveItLink\" href=\"../../../__pv_it/theorems/c19a32dfcf93aeb9aa7e65c251bf4b72d5c3a7b90/expr.ipynb\"><img src=\"data:image/png;base64,iVBORw0KGgoAAAANSUhEUgAAABwAAAAPBAMAAAAFYbKSAAAAMFBMVEX///8AAAAAAAAAAAAAAAAA\n",
       "AAAAAAAAAAAAAAAAAAAAAAAAAAAAAAAAAAAAAAAAAAAv3aB7AAAAD3RSTlMAmd0iq81UiTJ2ZkS7\n",
       "EO8Z3gX6AAAACXBIWXMAAA7EAAAOxAGVKw4bAAAAaUlEQVQI12NgQADmAAZkwPoBhZuPyhX5jMxj\n",
       "N/+BzLXk/IbMFWD7hcTjTuD4zsAgpAQEikAuIwPzF6iMCRDPERT5g+DyTmBg+ITgMgIpPSjXkIFh\n",
       "F5CKRzj/AZA4bwDl8Z7/eoEh5384AEaRFfDwb8v9AAAAAElFTkSuQmCC\n",
       "\" style=\"display:inline;vertical-align:middle;\" /></a></span></td></tr><tr><td><a name=\"-0x414f2af04ca6dc2b_step3\">3</a></td><td>theorem</td><td></td><td><span style=\"font-size:20px;\"> <a class=\"ProveItLink\" href=\"../modus_tollens_affirmation/thm_proof.ipynb\" style=\"text-decoration: none\">&nbsp;&#x22A2;&nbsp;&nbsp;</a><a class=\"ProveItLink\" href=\"../../../__pv_it/theorems/ddbe78f626c5f7925b4ee5b0ff224c7c3edc09100/expr.ipynb\"><img src=\"data:image/png;base64,iVBORw0KGgoAAAANSUhEUgAAAOoAAAAZBAMAAADNvK/KAAAAMFBMVEX///8AAAAAAAAAAAAAAAAA\n",
       "AAAAAAAAAAAAAAAAAAAAAAAAAAAAAAAAAAAAAAAAAAAv3aB7AAAAD3RSTlMAq1RmmUTNIjK7EInv\n",
       "3XZ/CtNrAAAACXBIWXMAAA7EAAAOxAGVKw4bAAAC+UlEQVRIx+WWTWgTQRTH/8kmu8lujTn0UPHg\n",
       "iiB60UDVm5pAay09GPBS8WAERWzBpgpCUUyEXgpSpFBxK5LVm0ghlHqoudh6EfygaMFLA4HiQfBQ\n",
       "tWq1+DEfm52J26SK25MDyczu7H9+M++9eTNAwxIov4bfJVZ+ucYXKtajtP4fVC3DqHHa3lafGqBV\n",
       "MOEXVV1k1HbaPlOfGkrTKusXdTenXqXLvl6fGqHGGPDNwqkvjKragGE28GsPqSb8ghqXlhlVSTSK\n",
       "GZUHXMYv6pXYBx7Dz8vlp42oTeXyfNEvajL4kVMPA2Psjb06NZRHVO4K8SooAsxG7A+hYTOywqn9\n",
       "0Nju0Z84w/WemjMlKuntJ62hpVJnnr6K8p697lBUmJSGjhS6Jm+KR1fIZqy959SobaSZo6nFhzeN\n",
       "olI8v0POEmN4QP6VWcQeCaoeFxFChMflFe0H3oknV0jK27bUV04NVngwdb8gcyHmJlTjrkzdxYIp\n",
       "kISyKKhsG8MVqtwHPNs0AwelA6QqJFOtAN+djJg5wF5VTgILrFG88FCmqgr5GE0mxhOCukEMS4XO\n",
       "3gswZ89AfyW6XSEPiXmHOtHDzh8cgs6yRaXtWV6mGtvpQnILe1ogqBfFwUWECCYxZVnWDRob2o/W\n",
       "VF5QXSFwlPz6HOpl5qJu4otwgq918I1M1aa5s/RmiXoMDDPLhQg72c1oZ468Q6PLIP23JSE06t5C\n",
       "llMDbGJdpS22ctayRqhfjZozp8VxVi4tqFt5f5wLEXGo2mabOlL7VHWqJNQLn23s/NkrnXRkx+Xy\n",
       "kSJfqxHznnQzwAlp5wxVqUxYtbB1izsyvCyornCV85WYfKPJ0wWhDnuo2jfoc/BEU9IRxircwNRF\n",
       "ORvjSdyvblBX6KWGpqEfOY0BMqnguV4r4aHuWyl1mhI1mq0ROo+DdH/2lSZHgGvm78K6dwl9yhpd\n",
       "6y7BqeHa1HwPnqRq+nqDcTJiR83LDm/KtdeDasijKmnPZ8q/3Na892ENXmvqf3cffvwL2Dq+QdJw\n",
       "9pwAAAAASUVORK5CYII=\n",
       "\" style=\"display:inline;vertical-align:middle;\" /></a></span></td></tr>\n",
       "<tr><td>&nbsp;</td><td colspan=4 style-\"text-align:left\"><a class=\"ProveItLink\" href=\"../modus_tollens_affirmation/thm_proof.ipynb\">proveit.logic.booleans.implication.modus_tollens_affirmation</a></td></tr><tr><td><a name=\"-0x414f2af04ca6dc2b_step4\">4</a></td><td>assumption</td><td></td><td><span style=\"font-size:20px;\"><a class=\"ProveItLink\" href=\"../../../__pv_it/theorems/c50b73f2d168f6a3012768bd45c62ea92218bcbc0/expr.ipynb\"><img src=\"data:image/png;base64,iVBORw0KGgoAAAANSUhEUgAAADcAAAAQBAMAAABAXPr7AAAAMFBMVEX///8AAAAAAAAAAAAAAAAA\n",
       "AAAAAAAAAAAAAAAAAAAAAAAAAAAAAAAAAAAAAAAAAAAv3aB7AAAAD3RSTlMAZrurzTLvInZEmRDd\n",
       "VIkafcLnAAAACXBIWXMAAA7EAAAOxAGVKw4bAAAA8UlEQVQY02NgwAZ6kvzdDk8AsYT+Gxs7BaDK\n",
       "Ksxg97YEs5IYGJi/oklOZHjOBGKw/2Bg4PyFISnLDGIwAnUx/gCLceicOQKXZAExmD8wMLCkg1ic\n",
       "HhsQOs3lQAw2BQZuG7CDSjYgHLTj8AMQI16jw0QALOSOsHOO25/VIEZ/AQNvIljIAdlBjVNA5qgB\n",
       "8XuQsaw5Z86cOQSTZOIEmfsZiOUbgAS3ArJOJgYgl/UjkGMPDqsDqJJAWzi+AxV8AQt1oEjyAk1j\n",
       "SWBgmOYNFmK5AJecx/DiFTAI9D8bm+hChLiNZkMYLUn60FhBApyPoMEHAQCDjz3xiC/o5wAAAABJ\n",
       "RU5ErkJggg==\n",
       "\" style=\"display:inline;vertical-align:middle;\" /></a> <a class=\"ProveItLink\" href=\"../../../__pv_it/_proof_from_contraposition/798e02206cf4d793b7f39f8954e5f3c836bee7570/proof.ipynb\" style=\"text-decoration: none\">&nbsp;&#x22A2;&nbsp;&nbsp;</a><a class=\"ProveItLink\" href=\"../../../__pv_it/theorems/c50b73f2d168f6a3012768bd45c62ea92218bcbc0/expr.ipynb\"><img src=\"data:image/png;base64,iVBORw0KGgoAAAANSUhEUgAAADcAAAAQBAMAAABAXPr7AAAAMFBMVEX///8AAAAAAAAAAAAAAAAA\n",
       "AAAAAAAAAAAAAAAAAAAAAAAAAAAAAAAAAAAAAAAAAAAv3aB7AAAAD3RSTlMAZrurzTLvInZEmRDd\n",
       "VIkafcLnAAAACXBIWXMAAA7EAAAOxAGVKw4bAAAA8UlEQVQY02NgwAZ6kvzdDk8AsYT+Gxs7BaDK\n",
       "Ksxg97YEs5IYGJi/oklOZHjOBGKw/2Bg4PyFISnLDGIwAnUx/gCLceicOQKXZAExmD8wMLCkg1ic\n",
       "HhsQOs3lQAw2BQZuG7CDSjYgHLTj8AMQI16jw0QALOSOsHOO25/VIEZ/AQNvIljIAdlBjVNA5qgB\n",
       "8XuQsaw5Z86cOQSTZOIEmfsZiOUbgAS3ArJOJgYgl/UjkGMPDqsDqJJAWzi+AxV8AQt1oEjyAk1j\n",
       "SWBgmOYNFmK5AJecx/DiFTAI9D8bm+hChLiNZkMYLUn60FhBApyPoMEHAQCDjz3xiC/o5wAAAABJ\n",
       "RU5ErkJggg==\n",
       "\" style=\"display:inline;vertical-align:middle;\" /></a></span></td></tr>\n",
       "<tr><td><a name=\"-0x414f2af04ca6dc2b_step5\">5</a></td><td>assumption</td><td></td><td><span style=\"font-size:20px;\"><a class=\"ProveItLink\" href=\"../../../__pv_it/theorems/dfe81bd9757474c600fb2f3ddb851650b8dc89e20/expr.ipynb\"><img src=\"data:image/png;base64,iVBORw0KGgoAAAANSUhEUgAAAHkAAAAVBAMAAACQ4lxbAAAAMFBMVEX///8AAAAAAAAAAAAAAAAA\n",
       "AAAAAAAAAAAAAAAAAAAAAAAAAAAAAAAAAAAAAAAAAAAv3aB7AAAAD3RSTlMAInZUiRDNmWbv3US7\n",
       "qzJazP2FAAAACXBIWXMAAA7EAAAOxAGVKw4bAAAB0klEQVQ4y42Uv0vDQBTHXxJr018hFFEQhKqr\n",
       "YAfpJKh/gNjJyaGCBQXBDIIiFByELoK6CToUOogdtDgpOMQ6OdWpg1DM7GL9QRWx1neXpHdJD/Qg\n",
       "XO7x+b5f9xIA0MG3ugx0SUJMTvrNF0L1qMdVxsEmmG23Xa+vWiBvC8TKNH/qbQDFAhnOeAwQ+wHI\n",
       "CtTzntMUqgkW5AJJrwCRD4C8QL3pOeVegGIhzqZiXBU9hNIdU9R93efFPX1IEizFGWOYT+8BPiwf\n",
       "zXTK5guEuPwGFFvnjCETAg8Wur5nth17C3qaZiifQLFlzvhcGamRsCoNtFUi69ywm8zfQySpvdtY\n",
       "Ef1SDKlxHZRDkiZfZIrOQzjpuDshiYDUsrEjt9+Y7R3uc5i51uDUgZUyKarsHIfwGdvIfQPFeDVx\n",
       "uJfAzPjY/TPgUwcQ+QKKFZlaI614REwpsLpLi+Bm7qqDuJ0CxSqu2gAZR0BrknaYLPS1c+8J5zwA\n",
       "cInbmo3NcsOLCV9lvdcjOffMXaJE6qrqFHtis1Jt1Wu3NM0ymzXLmZpCp4vVZhom20sUC1vdMz0o\n",
       "+KrPhJhq/PVF2Csvxm66/yKmQB3VhdjCP0BSrinEpITfPCz8M8UF2C/ClHXbAuImNwAAAABJRU5E\n",
       "rkJggg==\n",
       "\" style=\"display:inline;vertical-align:middle;\" /></a> <a class=\"ProveItLink\" href=\"../../../__pv_it/_proof_from_contraposition/37ee72e1c40f48013bbf45bb734ea94bf583c22f0/proof.ipynb\" style=\"text-decoration: none\">&nbsp;&#x22A2;&nbsp;&nbsp;</a><a class=\"ProveItLink\" href=\"../../../__pv_it/theorems/dfe81bd9757474c600fb2f3ddb851650b8dc89e20/expr.ipynb\"><img src=\"data:image/png;base64,iVBORw0KGgoAAAANSUhEUgAAAHkAAAAVBAMAAACQ4lxbAAAAMFBMVEX///8AAAAAAAAAAAAAAAAA\n",
       "AAAAAAAAAAAAAAAAAAAAAAAAAAAAAAAAAAAAAAAAAAAv3aB7AAAAD3RSTlMAInZUiRDNmWbv3US7\n",
       "qzJazP2FAAAACXBIWXMAAA7EAAAOxAGVKw4bAAAB0klEQVQ4y42Uv0vDQBTHXxJr018hFFEQhKqr\n",
       "YAfpJKh/gNjJyaGCBQXBDIIiFByELoK6CToUOogdtDgpOMQ6OdWpg1DM7GL9QRWx1neXpHdJD/Qg\n",
       "XO7x+b5f9xIA0MG3ugx0SUJMTvrNF0L1qMdVxsEmmG23Xa+vWiBvC8TKNH/qbQDFAhnOeAwQ+wHI\n",
       "CtTzntMUqgkW5AJJrwCRD4C8QL3pOeVegGIhzqZiXBU9hNIdU9R93efFPX1IEizFGWOYT+8BPiwf\n",
       "zXTK5guEuPwGFFvnjCETAg8Wur5nth17C3qaZiifQLFlzvhcGamRsCoNtFUi69ywm8zfQySpvdtY\n",
       "Ef1SDKlxHZRDkiZfZIrOQzjpuDshiYDUsrEjt9+Y7R3uc5i51uDUgZUyKarsHIfwGdvIfQPFeDVx\n",
       "uJfAzPjY/TPgUwcQ+QKKFZlaI614REwpsLpLi+Bm7qqDuJ0CxSqu2gAZR0BrknaYLPS1c+8J5zwA\n",
       "cInbmo3NcsOLCV9lvdcjOffMXaJE6qrqFHtis1Jt1Wu3NM0ymzXLmZpCp4vVZhom20sUC1vdMz0o\n",
       "+KrPhJhq/PVF2Csvxm66/yKmQB3VhdjCP0BSrinEpITfPCz8M8UF2C/ClHXbAuImNwAAAABJRU5E\n",
       "rkJggg==\n",
       "\" style=\"display:inline;vertical-align:middle;\" /></a></span></td></tr>\n",
       "<tr><td><a name=\"-0x414f2af04ca6dc2b_step6\">6</a></td><td>instantiation</td><td><a href=\"#-0x414f2af04ca6dc2b_step7\">7</a>, <a href=\"#-0x414f2af04ca6dc2b_step8\">8</a></td><td><span style=\"font-size:20px;\"><a class=\"ProveItLink\" href=\"../../../../../../__pv_it/common/09585084922504426caf1db2ff588a23a0932a960/expr.ipynb\"><img src=\"data:image/png;base64,iVBORw0KGgoAAAANSUhEUgAAAA8AAAAPBAMAAADJ+Ih5AAAAMFBMVEX///8AAAAAAAAAAAAAAAAA\n",
       "AAAAAAAAAAAAAAAAAAAAAAAAAAAAAAAAAAAAAAAAAAAv3aB7AAAAD3RSTlMAIs1UmauJMnZmRLsQ\n",
       "3e++988cAAAACXBIWXMAAA7EAAAOxAGVKw4bAAAAXklEQVQI12NgAAEhBijQh9LM/6EMlngBCCMx\n",
       "vwBMMzb0G0BkGOwngBmLGeoTwAwHBvkAEM2xxSV+A4hxgoGB/wJEhoH3AZDmAupg+gBkyAEx90cG\n",
       "htP/dRiY939KAABt3hLO6mcEjQAAAABJRU5ErkJggg==\n",
       "\" style=\"display:inline;vertical-align:middle;\" /></a> <a class=\"ProveItLink\" href=\"../../../__pv_it/_proof_from_contraposition/e96c6aeca77944f1636a38b02cdd061a253219810/proof.ipynb\" style=\"text-decoration: none\">&nbsp;&#x22A2;&nbsp;&nbsp;</a><a class=\"ProveItLink\" href=\"../../../../negation/__pv_it/theorems/8ef12b95cfe752515f471cf6fa68ec6d049458490/expr.ipynb\"><img src=\"data:image/png;base64,iVBORw0KGgoAAAANSUhEUgAAADkAAAAVBAMAAAAOWFv7AAAAMFBMVEX///8AAAAAAAAAAAAAAAAA\n",
       "AAAAAAAAAAAAAAAAAAAAAAAAAAAAAAAAAAAAAAAAAAAv3aB7AAAAD3RSTlMAmd0iq3ZUiRDNZu9E\n",
       "uzLWhN+VAAAACXBIWXMAAA7EAAAOxAGVKw4bAAAA9ElEQVQoz2NggAFmBjRggMwJQ+YwT2BgOIrE\n",
       "ZytAluX8wMDAugDB70QxNR8oyzADwZdCkRX5DCQWIvgbkCXZzf8BSe4GuLUTkGVNWb+BLIdbzIji\n",
       "KAG2XyATHOCORHIgA08C33cgxTWBQUgJCBQZmBIYYEygQQzMX0C2Qd1iwsB9gAHGZGCIFRT5C6T4\n",
       "PmCT5QhgYPgEsgCuF2QyTJYRSGmDTFaACBky8AYwwJgMp4DUfJCrLsD974CIAZCB9w2QfcmnAGNx\n",
       "3P/ZwJD7fzoDA9MBuA49BgxghGAuxJRFihheA3RJ5gsINscFdFkU9abossEMDADECiu8DBGmvQAA\n",
       "AABJRU5ErkJggg==\n",
       "\" style=\"display:inline;vertical-align:middle;\" /></a></span></td></tr>\n",
       "<tr><td>&nbsp;</td><td colspan=4 style=\"text-align:left\"><span style=\"font-size:20px;\"><a class=\"ProveItLink\" href=\"../../../../../../__pv_it/common/09585084922504426caf1db2ff588a23a0932a960/expr.ipynb\"><img src=\"data:image/png;base64,iVBORw0KGgoAAAANSUhEUgAAAA8AAAAPBAMAAADJ+Ih5AAAAMFBMVEX///8AAAAAAAAAAAAAAAAA\n",
       "AAAAAAAAAAAAAAAAAAAAAAAAAAAAAAAAAAAAAAAAAAAv3aB7AAAAD3RSTlMAIs1UmauJMnZmRLsQ\n",
       "3e++988cAAAACXBIWXMAAA7EAAAOxAGVKw4bAAAAXklEQVQI12NgAAEhBijQh9LM/6EMlngBCCMx\n",
       "vwBMMzb0G0BkGOwngBmLGeoTwAwHBvkAEM2xxSV+A4hxgoGB/wJEhoH3AZDmAupg+gBkyAEx90cG\n",
       "htP/dRiY939KAABt3hLO6mcEjQAAAABJRU5ErkJggg==\n",
       "\" style=\"display:inline;vertical-align:middle;\" /></a> : <a class=\"ProveItLink\" href=\"../../../../../../__pv_it/common/09585084922504426caf1db2ff588a23a0932a960/expr.ipynb\"><img src=\"data:image/png;base64,iVBORw0KGgoAAAANSUhEUgAAAA8AAAAPBAMAAADJ+Ih5AAAAMFBMVEX///8AAAAAAAAAAAAAAAAA\n",
       "AAAAAAAAAAAAAAAAAAAAAAAAAAAAAAAAAAAAAAAAAAAv3aB7AAAAD3RSTlMAIs1UmauJMnZmRLsQ\n",
       "3e++988cAAAACXBIWXMAAA7EAAAOxAGVKw4bAAAAXklEQVQI12NgAAEhBijQh9LM/6EMlngBCCMx\n",
       "vwBMMzb0G0BkGOwngBmLGeoTwAwHBvkAEM2xxSV+A4hxgoGB/wJEhoH3AZDmAupg+gBkyAEx90cG\n",
       "htP/dRiY939KAABt3hLO6mcEjQAAAABJRU5ErkJggg==\n",
       "\" style=\"display:inline;vertical-align:middle;\" /></a></span></td></tr><tr><td><a name=\"-0x414f2af04ca6dc2b_step7\">7</a></td><td>theorem</td><td></td><td><span style=\"font-size:20px;\"> <a class=\"ProveItLink\" href=\"../../../../negation/_theory_nbs_/proofs/double_negation_intro/thm_proof.ipynb\" style=\"text-decoration: none\">&nbsp;&#x22A2;&nbsp;&nbsp;</a><a class=\"ProveItLink\" href=\"../../../../negation/__pv_it/theorems/0b22d68afd7bfc707f054cfbe8b4e2370c2f148f0/expr.ipynb\"><img src=\"data:image/png;base64,iVBORw0KGgoAAAANSUhEUgAAAIoAAAAXBAMAAAAmUcrKAAAAMFBMVEX///8AAAAAAAAAAAAAAAAA\n",
       "AAAAAAAAAAAAAAAAAAAAAAAAAAAAAAAAAAAAAAAAAAAv3aB7AAAAD3RSTlMAq1RmmUTNIjK7EInv\n",
       "3XZ/CtNrAAAACXBIWXMAAA7EAAAOxAGVKw4bAAAB20lEQVQ4y52TPUsDQRCGx3wdSUy8f5CAYKOi\n",
       "lWAjKVSECAZtUlhEgghpjI0gBHL2ihZCwEJT2AREjI1FisRCEEUJgmXgwFZQLKLYxNmdvdzGLBfJ\n",
       "wHv77O3Ne8zMHUDvyCqRhybUO8JRFWJsA3hNks72w04uo0rE2ES9kubYfsPBJJBSIYarhRdfkWuX\n",
       "VXbo4OKZVCHbRbBL7hgXMwtGHVwGlYhxXTXwes/lRn+fU1tGlIgFmO/s5WnSY6Px4OQSVyIWBBOs\n",
       "wDJpAeCY3y6KQ6uVYk3biWnZZRkOLnGZIm2BxqcduOOHfuupc4PWZ3RusIjJCBCDPMsbI/mLwQR7\n",
       "OvjZ6VIVLb+1+qDLCOGj2Qgb7QHJZVJzk08dLt4909HlAmCojrwqlJrhR+Zah0vYp7crslIlxIIg\n",
       "VEMeF7rK8CyY73AxPeJDPbFSYzJ62QfygTwtlOMvTcKb7OI1wjWisj0WCXPs0S8xfaYBPox4JVKU\n",
       "XDyV8g/Rvp1qY6mVAddpE0f9AiRqA0DekFxM0L6JQkY7V8L2F1wnUaxgy6O2CyubJs//N+hC+Qdt\n",
       "/6SeGwgsrdsuizqcNRN0VrBzCl0uO0J/wt91p6REybfwHxfNVKFoZ5bU26Wf0PpJ+gXXLm1aorRU\n",
       "sAAAAABJRU5ErkJggg==\n",
       "\" style=\"display:inline;vertical-align:middle;\" /></a></span></td></tr>\n",
       "<tr><td>&nbsp;</td><td colspan=4 style-\"text-align:left\"><a class=\"ProveItLink\" href=\"../../../../negation/_theory_nbs_/proofs/double_negation_intro/thm_proof.ipynb\">proveit.logic.booleans.negation.double_negation_intro</a></td></tr><tr><td><a name=\"-0x414f2af04ca6dc2b_step8\">8</a></td><td>assumption</td><td></td><td><span style=\"font-size:20px;\"><a class=\"ProveItLink\" href=\"../../../../../../__pv_it/common/09585084922504426caf1db2ff588a23a0932a960/expr.ipynb\"><img src=\"data:image/png;base64,iVBORw0KGgoAAAANSUhEUgAAAA8AAAAPBAMAAADJ+Ih5AAAAMFBMVEX///8AAAAAAAAAAAAAAAAA\n",
       "AAAAAAAAAAAAAAAAAAAAAAAAAAAAAAAAAAAAAAAAAAAv3aB7AAAAD3RSTlMAIs1UmauJMnZmRLsQ\n",
       "3e++988cAAAACXBIWXMAAA7EAAAOxAGVKw4bAAAAXklEQVQI12NgAAEhBijQh9LM/6EMlngBCCMx\n",
       "vwBMMzb0G0BkGOwngBmLGeoTwAwHBvkAEM2xxSV+A4hxgoGB/wJEhoH3AZDmAupg+gBkyAEx90cG\n",
       "htP/dRiY939KAABt3hLO6mcEjQAAAABJRU5ErkJggg==\n",
       "\" style=\"display:inline;vertical-align:middle;\" /></a> <a class=\"ProveItLink\" href=\"../../../__pv_it/_proof_from_contraposition/20b7eda420dd18b82917d5b2814aed1ac49439ac0/proof.ipynb\" style=\"text-decoration: none\">&nbsp;&#x22A2;&nbsp;&nbsp;</a><a class=\"ProveItLink\" href=\"../../../../../../__pv_it/common/09585084922504426caf1db2ff588a23a0932a960/expr.ipynb\"><img src=\"data:image/png;base64,iVBORw0KGgoAAAANSUhEUgAAAA8AAAAPBAMAAADJ+Ih5AAAAMFBMVEX///8AAAAAAAAAAAAAAAAA\n",
       "AAAAAAAAAAAAAAAAAAAAAAAAAAAAAAAAAAAAAAAAAAAv3aB7AAAAD3RSTlMAIs1UmauJMnZmRLsQ\n",
       "3e++988cAAAACXBIWXMAAA7EAAAOxAGVKw4bAAAAXklEQVQI12NgAAEhBijQh9LM/6EMlngBCCMx\n",
       "vwBMMzb0G0BkGOwngBmLGeoTwAwHBvkAEM2xxSV+A4hxgoGB/wJEhoH3AZDmAupg+gBkyAEx90cG\n",
       "htP/dRiY939KAABt3hLO6mcEjQAAAABJRU5ErkJggg==\n",
       "\" style=\"display:inline;vertical-align:middle;\" /></a></span></td></tr>\n",
       "</table>"
      ],
      "text/plain": [
       "\tstep type\trequirements\tstatement\n",
       "0\tgeneralization\t1\t|- forall_{A, B | [not](B) => [not](A), B in BOOLEAN} (A => B)\n",
       "1\tdeduction\t2\t{B in BOOLEAN, [not](B) => [not](A)} |- A => B\n",
       "2\tinstantiation\t3, 4, 5, 6\t{B in BOOLEAN, [not](B) => [not](A), A} |- B\n",
       "\tA : B, B : [not](A)\n",
       "3\ttheorem\t\t|- forall_{A in BOOLEAN} [forall_{B | [not](A) => B, [not](B)} A]\n",
       "\tproveit.logic.booleans.implication.modus_tollens_affirmation\n",
       "4\tassumption\t\t{B in BOOLEAN} |- B in BOOLEAN\n",
       "5\tassumption\t\t{[not](B) => [not](A)} |- [not](B) => [not](A)\n",
       "6\tinstantiation\t7, 8\t{A} |- [not]([not](A))\n",
       "\tA : A\n",
       "7\ttheorem\t\t|- forall_{A | A} [not]([not](A))\n",
       "\tproveit.logic.booleans.negation.double_negation_intro\n",
       "8\tassumption\t\t{A} |- A"
      ]
     },
     "execution_count": 6,
     "metadata": {},
     "output_type": "execute_result"
    }
   ],
   "source": [
    "%qed # automation can take it from here"
   ]
  },
  {
   "cell_type": "code",
   "execution_count": null,
   "metadata": {},
   "outputs": [],
   "source": []
  }
 ],
 "metadata": {
  "kernelspec": {
   "display_name": "Python 3",
   "language": "python",
   "name": "python3"
  }
 },
 "nbformat": 4,
 "nbformat_minor": 0
}