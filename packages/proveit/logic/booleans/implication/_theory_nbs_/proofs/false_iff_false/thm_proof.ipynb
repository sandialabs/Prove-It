{
 "cells": [
  {
   "cell_type": "markdown",
   "metadata": {},
   "source": [
    "Proof of <a class=\"ProveItLink\" href=\"../../../../../../_theory_nbs_/theory.ipynb\">proveit</a>.<a class=\"ProveItLink\" href=\"../../../../../_theory_nbs_/theory.ipynb\">logic</a>.<a class=\"ProveItLink\" href=\"../../../../_theory_nbs_/theory.ipynb\">booleans</a>.<a class=\"ProveItLink\" href=\"../../theory.ipynb\">implication</a>.<a class=\"ProveItLink\" href=\"../../theorems.ipynb#false_iff_false\">false_iff_false</a> theorem\n",
    "========"
   ]
  },
  {
   "cell_type": "code",
   "execution_count": 1,
   "metadata": {},
   "outputs": [],
   "source": [
    "import proveit\n",
    "from proveit.logic.booleans.implication import false_implies_false\n",
    "theory = proveit.Theory() # the theorem's theory"
   ]
  },
  {
   "cell_type": "code",
   "execution_count": 2,
   "metadata": {},
   "outputs": [
    {
     "data": {
      "text/html": [
       "With these <a href=\"allowed_presumptions.txt\">allowed</a>/<a href=\"disallowed_presumptions.txt\">disallowed</a> theorem/theory presumptions (e.g., to avoid circular dependencies), we begin our proof of<br><strong id=\"false_iff_false\">false_iff_false:</strong> <a class=\"ProveItLink\" href=\"../../../__pv_it/theorems/3c8d2e6d203b8fdc322a1cd6633c5de822b6112c0/expr.ipynb\"><img src=\"data:image/png;base64,iVBORw0KGgoAAAANSUhEUgAAAD8AAAAQBAMAAABTi7oPAAAAMFBMVEX///8AAAAAAAAAAAAAAAAA\n",
       "AAAAAAAAAAAAAAAAAAAAAAAAAAAAAAAAAAAAAAAAAAAv3aB7AAAAD3RSTlMARGZUdpnd76vNMrsQ\n",
       "Ioms8APJAAAACXBIWXMAAA7EAAAOxAGVKw4bAAAAg0lEQVQoz2NgIAII4RBnVIAyTHAoYHYgXQEn\n",
       "EK/Ap8AJiLkX4FbAtQFI8MzBrWB5WRoQVB7ApYBlD8SczTgU8FRA+ccbcJhw4wGY4p2H0w1qaWCw\n",
       "AKcCpgAQORdPODQCMasAqoKwtLTytLQMiNBJIL4NYbKmpaUDfd2AGvq8IM+gCgEA4rcelCD+8wQA\n",
       "AAAASUVORK5CYII=\n",
       "\" style=\"display:inline;vertical-align:middle;\" /></a><br>(see <a class=\"ProveItLink\" href=\"../../../__pv_it/theorems/0c2bd0f2753c1fc93f96b5fd401d4aae732c309e0/dependencies.ipynb\">dependencies</a>)<br>"
      ],
      "text/plain": [
       "<IPython.core.display.HTML object>"
      ]
     },
     "metadata": {},
     "output_type": "display_data"
    },
    {
     "name": "stdout",
     "output_type": "stream",
     "text": [
      "false_iff_false may now be readily provable (assuming required theorems are usable).  Simply execute \"%qed\".\n"
     ]
    }
   ],
   "source": [
    "%proving false_iff_false"
   ]
  },
  {
   "cell_type": "code",
   "execution_count": 3,
   "metadata": {},
   "outputs": [
    {
     "name": "stdout",
     "output_type": "stream",
     "text": [
      "proveit.logic.booleans.implication.false_iff_false has been proven.\n"
     ]
    },
    {
     "data": {
      "text/html": [
       "<table><tr><th>&nbsp;</th><th>step type</th><th>requirements</th><th>statement</th></tr>\n",
       "<tr><td><a name=\"-0x634f0c53380da9a5_step0\">0</a></td><td>instantiation</td><td><a href=\"#-0x634f0c53380da9a5_step1\">1</a>, <a href=\"#-0x634f0c53380da9a5_step2\">2</a></td><td><span style=\"font-size:20px;\"> <a class=\"ProveItLink\" href=\"../../../__pv_it/_proof_false_iff_false/b3965a586284f6578ea7ee5ba642838685179abc0/proof.ipynb\" style=\"text-decoration: none\">&nbsp;&#x22A2;&nbsp;&nbsp;</a><a class=\"ProveItLink\" href=\"../../../__pv_it/theorems/3c8d2e6d203b8fdc322a1cd6633c5de822b6112c0/expr.ipynb\"><img src=\"data:image/png;base64,iVBORw0KGgoAAAANSUhEUgAAAD8AAAAQBAMAAABTi7oPAAAAMFBMVEX///8AAAAAAAAAAAAAAAAA\n",
       "AAAAAAAAAAAAAAAAAAAAAAAAAAAAAAAAAAAAAAAAAAAv3aB7AAAAD3RSTlMARGZUdpnd76vNMrsQ\n",
       "Ioms8APJAAAACXBIWXMAAA7EAAAOxAGVKw4bAAAAg0lEQVQoz2NgIAII4RBnVIAyTHAoYHYgXQEn\n",
       "EK/Ap8AJiLkX4FbAtQFI8MzBrWB5WRoQVB7ApYBlD8SczTgU8FRA+ccbcJhw4wGY4p2H0w1qaWCw\n",
       "AKcCpgAQORdPODQCMasAqoKwtLTytLQMiNBJIL4NYbKmpaUDfd2AGvq8IM+gCgEA4rcelCD+8wQA\n",
       "AAAASUVORK5CYII=\n",
       "\" style=\"display:inline;vertical-align:middle;\" /></a></span></td></tr>\n",
       "<tr><td>&nbsp;</td><td colspan=4 style=\"text-align:left\"><span style=\"font-size:20px;\"><a class=\"ProveItLink\" href=\"../../../../../../__pv_it/common/09585084922504426caf1db2ff588a23a0932a960/expr.ipynb\"><img src=\"data:image/png;base64,iVBORw0KGgoAAAANSUhEUgAAAA8AAAAPBAMAAADJ+Ih5AAAAMFBMVEX///8AAAAAAAAAAAAAAAAA\n",
       "AAAAAAAAAAAAAAAAAAAAAAAAAAAAAAAAAAAAAAAAAAAv3aB7AAAAD3RSTlMAIs1UmauJMnZmRLsQ\n",
       "3e++988cAAAACXBIWXMAAA7EAAAOxAGVKw4bAAAAXklEQVQI12NgAAEhBijQh9LM/6EMlngBCCMx\n",
       "vwBMMzb0G0BkGOwngBmLGeoTwAwHBvkAEM2xxSV+A4hxgoGB/wJEhoH3AZDmAupg+gBkyAEx90cG\n",
       "htP/dRiY939KAABt3hLO6mcEjQAAAABJRU5ErkJggg==\n",
       "\" style=\"display:inline;vertical-align:middle;\" /></a> : <a class=\"ProveItLink\" href=\"../../../../__pv_it/common/e0f123f2e4f322e1eba7f861749cda9fd9d99a120/expr.ipynb\"><img src=\"data:image/png;base64,iVBORw0KGgoAAAANSUhEUgAAAA4AAAAPBAMAAAAmOuNHAAAAHlBMVEX///8AAAAAAAAAAAAAAAAA\n",
       "AAAAAAAAAAAAAAAAAACGjDitAAAACXRSTlMARGZUdpnd76sKo+zpAAAACXBIWXMAAA7EAAAOxAGV\n",
       "Kw4bAAAAGElEQVQI12NgQAAhKG1CSzosLa08LS0DAJuOBVCdynDUAAAAAElFTkSuQmCC\n",
       "\" style=\"display:inline;vertical-align:middle;\" /></a>, <a class=\"ProveItLink\" href=\"../../../../../../__pv_it/common/a9162d1c3cc0470c02e5daf414500903a7a419230/expr.ipynb\"><img src=\"data:image/png;base64,iVBORw0KGgoAAAANSUhEUgAAABAAAAAOBAMAAADUAYG5AAAAMFBMVEX///8AAAAAAAAAAAAAAAAA\n",
       "AAAAAAAAAAAAAAAAAAAAAAAAAAAAAAAAAAAAAAAAAAAv3aB7AAAAD3RSTlMAZrurzTLvInZEmRDd\n",
       "VIkafcLnAAAACXBIWXMAAA7EAAAOxAGVKw4bAAAAb0lEQVQI12NgYBD6b2zsFMAABEkMDMxfgTT7\n",
       "DwYGzl9ABiOQxwjkMDB/YGBgSQcy2BQYuG1AiuM1OkwEQJr6Cxh4E0EMNSB+D5L6DMTyDQwMrB+B\n",
       "DPsJDAwc34GcL0AOSwIDwzRvoHH6n41NdBkYAF/iFeJ4bEa2AAAAAElFTkSuQmCC\n",
       "\" style=\"display:inline;vertical-align:middle;\" /></a> : <a class=\"ProveItLink\" href=\"../../../../__pv_it/common/e0f123f2e4f322e1eba7f861749cda9fd9d99a120/expr.ipynb\"><img src=\"data:image/png;base64,iVBORw0KGgoAAAANSUhEUgAAAA4AAAAPBAMAAAAmOuNHAAAAHlBMVEX///8AAAAAAAAAAAAAAAAA\n",
       "AAAAAAAAAAAAAAAAAACGjDitAAAACXRSTlMARGZUdpnd76sKo+zpAAAACXBIWXMAAA7EAAAOxAGV\n",
       "Kw4bAAAAGElEQVQI12NgQAAhKG1CSzosLa08LS0DAJuOBVCdynDUAAAAAElFTkSuQmCC\n",
       "\" style=\"display:inline;vertical-align:middle;\" /></a></span></td></tr><tr><td><a name=\"-0x634f0c53380da9a5_step1\">1</a></td><td>theorem</td><td></td><td><span style=\"font-size:20px;\"> <a class=\"ProveItLink\" href=\"../iff_intro/thm_proof.ipynb\" style=\"text-decoration: none\">&nbsp;&#x22A2;&nbsp;&nbsp;</a><a class=\"ProveItLink\" href=\"../../../__pv_it/theorems/38afe9062a5b783763816ff4f830f23686d1b3160/expr.ipynb\"><img src=\"data:image/png;base64,iVBORw0KGgoAAAANSUhEUgAAAPEAAAAXBAMAAAAo+LSlAAAAMFBMVEX///8AAAAAAAAAAAAAAAAA\n",
       "AAAAAAAAAAAAAAAAAAAAAAAAAAAAAAAAAAAAAAAAAAAv3aB7AAAAD3RSTlMAq1RmmUTNIjK7EInv\n",
       "3XZ/CtNrAAAACXBIWXMAAA7EAAAOxAGVKw4bAAADKklEQVRIx7VVXUhUQRT+9u6v9+qmIBZI7ELQ\n",
       "Sw8tJEEP5o0yEoOWepGIMiIiCbQXn4q9QS9CoUSUW6E3iEDQWEuI2gd/IjL6QaqHHlpY8CGCSC1T\n",
       "McjOzLm73ru7/hDrgTszd+ZjvjPnO3MG2ABrKwLivywYll37KpCT9JWLwbaiMu/grrXQ2p6liorz\n",
       "BoIRoF78nysmsdosO2Wp4OprwLUAtABX6M/fVUxmT4S7UCEx/X8B7yxQA/hMQAsXk7mUu6fDhjVB\n",
       "MQiUW2M3nddN7KUm3OShr6gyb+fDpaes8whN0W0tuqaJ7hV9NPkulXpTVOZGDjZ2ctTRIZqHphWQ\n",
       "LqhbKRgaBeEQcEdOmjlyZTNmnYmVGZyR7VF0JuQg8DZF9qWFFzt7flQJj9wkwUX4pQjqOHs4m2yQ\n",
       "ApVkduo3lrcP9DYOdTtxebAPstURY22/8Yk6OPZTbVBeiMwfIQZTi4o57SenwASCIw7mYXv+1QLf\n",
       "nbg82Esp7s0DIXlj+q3cUkdld08gyccA6a2kOcGa3nMK6HBP25m919JYrjaVQJ0Tp0QcMIv5EbBp\n",
       "QmZaNc+2c+xn6KsjpFd43bxXzqVPcwqEMRCxMwd97LVLXs8xqB+dOGx2wKxo60AZh8SdkvaZ1fpF\n",
       "TYhirAi3Hkvxgzgo12KTNVtgZ057mvEsHo/fGpeFYNc+Yxmn0Xz8gpGBsfWICIi7Os3/NaLxcVkJ\n",
       "zhP7nPBHSHFJOttk6VcLtdLO7DUycmr1Ut37uhMHDEXtMAyKPcUG89YVFmlUz2MfgU6Ik3pE8F3S\n",
       "58ZkyLSEjEVtzJ7k4KJV+KpNoa7/Nxw4uh3P7TBcB/qWWqD0ziWyddyqz67emYqqG2JUFs2+bLSR\n",
       "wULilP1WpeFfkNGO32V1vQvI4mS044kMjK3MKPAY5xQLXM6OjlEuhtUE/ItQP9miLQTj66aJfIqZ\n",
       "GNDhwOGJA0aK6OuoO/uzBWsU6pGzgTHs/pNsCNuYD5fjwZyMzFWxaWtyiILlwAV0B4zs9trEea+j\n",
       "YhuX5KyZK+Dyi2vf2swluS/o8VWYV8IVOFB6TeavuRORdTJHsJHmx8baPzfp16zGNIg2AAAAAElF\n",
       "TkSuQmCC\n",
       "\" style=\"display:inline;vertical-align:middle;\" /></a></span></td></tr>\n",
       "<tr><td>&nbsp;</td><td colspan=4 style-\"text-align:left\"><a class=\"ProveItLink\" href=\"../iff_intro/thm_proof.ipynb\">proveit.logic.booleans.implication.iff_intro</a></td></tr><tr><td><a name=\"-0x634f0c53380da9a5_step2\">2</a></td><td>theorem</td><td></td><td><span style=\"font-size:20px;\"> <a class=\"ProveItLink\" href=\"../false_implies_false/thm_proof.ipynb\" style=\"text-decoration: none\">&nbsp;&#x22A2;&nbsp;&nbsp;</a><a class=\"ProveItLink\" href=\"../../../__pv_it/theorems/cfa5600f601c2810e3b5108de4803cae722878400/expr.ipynb\"><img src=\"data:image/png;base64,iVBORw0KGgoAAAANSUhEUgAAAD8AAAAQBAMAAABTi7oPAAAAMFBMVEX///8AAAAAAAAAAAAAAAAA\n",
       "AAAAAAAAAAAAAAAAAAAAAAAAAAAAAAAAAAAAAAAAAAAv3aB7AAAAD3RSTlMARGZUdpnd76u7EDKJ\n",
       "zSIw+378AAAACXBIWXMAAA7EAAAOxAGVKw4bAAAAYklEQVQoz2NgIAII4RBnVIAyTHAoYHYgSwHn\n",
       "AgIKuCcQskIHt4KwNBDIDyDkSFsDAgq4rgvgV/D2HH43pN0j4AZJAt7ku4CmAGhueVpaBiIkN0Bo\n",
       "1rS09LK0tAaMCOBD4wMAhp8YgazvQWEAAAAASUVORK5CYII=\n",
       "\" style=\"display:inline;vertical-align:middle;\" /></a></span></td></tr>\n",
       "<tr><td>&nbsp;</td><td colspan=4 style-\"text-align:left\"><a class=\"ProveItLink\" href=\"../false_implies_false/thm_proof.ipynb\">proveit.logic.booleans.implication.false_implies_false</a></td></tr></table>"
      ],
      "text/plain": [
       "\tstep type\trequirements\tstatement\n",
       "0\tinstantiation\t1, 2\t|- FALSE <=> FALSE\n",
       "\tA : FALSE, B : FALSE\n",
       "1\ttheorem\t\t|- forall_{A, B | A => B, B => A} (A <=> B)\n",
       "\tproveit.logic.booleans.implication.iff_intro\n",
       "2\ttheorem\t\t|- FALSE => FALSE\n",
       "\tproveit.logic.booleans.implication.false_implies_false"
      ]
     },
     "execution_count": 3,
     "metadata": {},
     "output_type": "execute_result"
    }
   ],
   "source": [
    "%qed"
   ]
  },
  {
   "cell_type": "code",
   "execution_count": null,
   "metadata": {},
   "outputs": [],
   "source": []
  }
 ],
 "metadata": {
  "kernelspec": {
   "display_name": "Python 3",
   "language": "python",
   "name": "python3"
  }
 },
 "nbformat": 4,
 "nbformat_minor": 0
}